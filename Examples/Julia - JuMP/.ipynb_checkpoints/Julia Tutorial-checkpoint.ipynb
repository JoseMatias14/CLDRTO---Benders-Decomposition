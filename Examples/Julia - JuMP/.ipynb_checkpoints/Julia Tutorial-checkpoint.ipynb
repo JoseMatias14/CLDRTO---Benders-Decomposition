{
 "cells": [
  {
   "cell_type": "markdown",
   "id": "cb8c9523",
   "metadata": {},
   "source": [
    "# Julia/JuMP tutorial\n"
   ]
  },
  {
   "cell_type": "markdown",
   "id": "0b5ac423",
   "metadata": {},
   "source": [
    "## Basic Data Types\n",
    "Data types are important! It makes Julia faster"
   ]
  },
  {
   "cell_type": "markdown",
   "id": "e3aa39a8",
   "metadata": {},
   "source": [
    "Integers"
   ]
  },
  {
   "cell_type": "code",
   "execution_count": null,
   "id": "9c632645",
   "metadata": {},
   "outputs": [],
   "source": [
    "1 + -2"
   ]
  },
  {
   "cell_type": "code",
   "execution_count": null,
   "id": "bf5adfae",
   "metadata": {},
   "outputs": [],
   "source": [
    "typeof(1)"
   ]
  },
  {
   "cell_type": "markdown",
   "id": "dfe3c8bb",
   "metadata": {},
   "source": [
    "Floating point numbers --> computations are more expensive"
   ]
  },
  {
   "cell_type": "code",
   "execution_count": null,
   "id": "d102f694",
   "metadata": {},
   "outputs": [],
   "source": [
    "1.2 - 2.3"
   ]
  },
  {
   "cell_type": "code",
   "execution_count": null,
   "id": "20f5dbb8",
   "metadata": {},
   "outputs": [],
   "source": [
    "typeof(-1.1)"
   ]
  },
  {
   "cell_type": "markdown",
   "id": "a35aa220",
   "metadata": {},
   "source": [
    "Irrational representation of $\\pi$ (all the characters are unicode -- type \\pi and then press [TAB])"
   ]
  },
  {
   "cell_type": "code",
   "execution_count": null,
   "id": "f6309764",
   "metadata": {},
   "outputs": [],
   "source": [
    "π"
   ]
  },
  {
   "cell_type": "code",
   "execution_count": null,
   "id": "decc1758",
   "metadata": {},
   "outputs": [],
   "source": [
    "typeof(π)"
   ]
  },
  {
   "cell_type": "markdown",
   "id": "c95be39f",
   "metadata": {},
   "source": [
    "Native support for complex numbers"
   ]
  },
  {
   "cell_type": "code",
   "execution_count": null,
   "id": "5c7ec7ed",
   "metadata": {},
   "outputs": [],
   "source": [
    "2 + 3im"
   ]
  },
  {
   "cell_type": "code",
   "execution_count": null,
   "id": "9159c1d2",
   "metadata": {},
   "outputs": [],
   "source": [
    "typeof(2.0 + 3im)"
   ]
  },
  {
   "cell_type": "markdown",
   "id": "2ac043aa",
   "metadata": {},
   "source": [
    "Doubles quotes are used ofr strings (unicode is OK!)"
   ]
  },
  {
   "cell_type": "code",
   "execution_count": null,
   "id": "af60dbb1",
   "metadata": {},
   "outputs": [],
   "source": [
    "\"This is Julia and this is π\""
   ]
  },
  {
   "cell_type": "code",
   "execution_count": null,
   "id": "2ab61550",
   "metadata": {},
   "outputs": [],
   "source": [
    "typeof(\"This is Julia\")"
   ]
  },
  {
   "cell_type": "markdown",
   "id": "b4cd7fe0",
   "metadata": {},
   "source": [
    "# Arithmetic and Equality Testing"
   ]
  },
  {
   "cell_type": "code",
   "execution_count": null,
   "id": "b5c905e3",
   "metadata": {},
   "outputs": [],
   "source": [
    "1 + 1"
   ]
  },
  {
   "cell_type": "markdown",
   "id": "a4dfc9e6",
   "metadata": {},
   "source": [
    "We can also write things like the following using (\\sqrt)"
   ]
  },
  {
   "cell_type": "code",
   "execution_count": null,
   "id": "6ac76b4e",
   "metadata": {},
   "outputs": [],
   "source": [
    "sin(2π/3) == √3/2"
   ]
  },
  {
   "cell_type": "markdown",
   "id": "c1f365e7",
   "metadata": {},
   "source": [
    "It should be TRUE! Floating point precision. Let's use \\approx instead"
   ]
  },
  {
   "cell_type": "code",
   "execution_count": null,
   "id": "5cafc758",
   "metadata": {},
   "outputs": [],
   "source": [
    "sin(2π/3) ≈ √3/2"
   ]
  },
  {
   "cell_type": "code",
   "execution_count": null,
   "id": "79304cd5",
   "metadata": {},
   "outputs": [],
   "source": [
    "(1 + 1e-16) - 1e-16 == 1 + (1e-16 - 1e-16)"
   ]
  },
  {
   "cell_type": "markdown",
   "id": "c5a34b52",
   "metadata": {},
   "source": [
    "## Vectors, Matrices and Arrays"
   ]
  },
  {
   "cell_type": "code",
   "execution_count": null,
   "id": "6031a591",
   "metadata": {},
   "outputs": [],
   "source": [
    "b = [5,6]"
   ]
  },
  {
   "cell_type": "code",
   "execution_count": null,
   "id": "236e938d",
   "metadata": {},
   "outputs": [],
   "source": [
    "A = [1 2; 3 4]"
   ]
  },
  {
   "cell_type": "code",
   "execution_count": null,
   "id": "0b2e2e44",
   "metadata": {},
   "outputs": [],
   "source": [
    "x = A\\b"
   ]
  },
  {
   "cell_type": "code",
   "execution_count": null,
   "id": "07fe9c08",
   "metadata": {},
   "outputs": [],
   "source": [
    "A*x"
   ]
  },
  {
   "cell_type": "code",
   "execution_count": null,
   "id": "475c270f",
   "metadata": {},
   "outputs": [],
   "source": [
    "A*x == b"
   ]
  },
  {
   "cell_type": "markdown",
   "id": "7be5bef9",
   "metadata": {},
   "source": [
    "Dimension matters!"
   ]
  },
  {
   "cell_type": "code",
   "execution_count": null,
   "id": "a62a7b53",
   "metadata": {},
   "outputs": [],
   "source": [
    "b*b"
   ]
  },
  {
   "cell_type": "code",
   "execution_count": null,
   "id": "317246eb",
   "metadata": {},
   "outputs": [],
   "source": [
    "b*b'"
   ]
  },
  {
   "cell_type": "code",
   "execution_count": null,
   "id": "56a777c7",
   "metadata": {},
   "outputs": [],
   "source": [
    "@show b'*b\n",
    "@show b*b';"
   ]
  },
  {
   "cell_type": "markdown",
   "id": "053faba8",
   "metadata": {},
   "source": [
    "# TUPLES \n",
    "immutable collection of values - useful to pass parameters from one place to another - type of a \"container\" similar to array"
   ]
  },
  {
   "cell_type": "code",
   "execution_count": null,
   "id": "7e774609",
   "metadata": {},
   "outputs": [],
   "source": [
    "t = (\"hello\",1.2,:foo)"
   ]
  },
  {
   "cell_type": "code",
   "execution_count": null,
   "id": "39797958",
   "metadata": {},
   "outputs": [],
   "source": [
    "typeof(t)"
   ]
  },
  {
   "cell_type": "code",
   "execution_count": null,
   "id": "a642dc03",
   "metadata": {},
   "outputs": [],
   "source": [
    "t[2]"
   ]
  },
  {
   "cell_type": "markdown",
   "id": "32cae8c6",
   "metadata": {},
   "source": [
    "You can also unpack them"
   ]
  },
  {
   "cell_type": "code",
   "execution_count": null,
   "id": "82ba9938",
   "metadata": {},
   "outputs": [],
   "source": [
    "a, b, c = t\n",
    "b"
   ]
  },
  {
   "cell_type": "markdown",
   "id": "dce413d5",
   "metadata": {},
   "source": [
    "You can give names to the entries, convenient way of making light-weight data structures"
   ]
  },
  {
   "cell_type": "code",
   "execution_count": null,
   "id": "20e1c95e",
   "metadata": {},
   "outputs": [],
   "source": [
    "t = (word=\"hello\", num=1.2, sym=:foo)"
   ]
  },
  {
   "cell_type": "code",
   "execution_count": null,
   "id": "3f5f85e0",
   "metadata": {},
   "outputs": [],
   "source": [
    "t.word"
   ]
  },
  {
   "cell_type": "markdown",
   "id": "70957cec",
   "metadata": {},
   "source": [
    "# Dictionaries\n",
    "\n",
    "Dictionaries provide a generic way of mapping keys to values"
   ]
  },
  {
   "cell_type": "code",
   "execution_count": null,
   "id": "f62f0c95",
   "metadata": {},
   "outputs": [],
   "source": [
    "d1 = Dict(1 => \"A\", 2 => \"B\", 4 => \"D\")"
   ]
  },
  {
   "cell_type": "code",
   "execution_count": null,
   "id": "a8209e3c",
   "metadata": {},
   "outputs": [],
   "source": [
    "d1[2]"
   ]
  },
  {
   "cell_type": "markdown",
   "id": "8d1961a9",
   "metadata": {},
   "source": [
    "Dictionaries support non-integer and can mix data types"
   ]
  },
  {
   "cell_type": "code",
   "execution_count": null,
   "id": "1af485ba",
   "metadata": {},
   "outputs": [],
   "source": [
    "Dict(\"A\" => 1, \"B\" => 2.5, \"D\" => 2 - 3im)"
   ]
  },
  {
   "cell_type": "markdown",
   "id": "915f39b9",
   "metadata": {},
   "source": [
    "# For loops"
   ]
  },
  {
   "cell_type": "code",
   "execution_count": null,
   "id": "923ab756",
   "metadata": {},
   "outputs": [],
   "source": [
    "for i in 1:5\n",
    "    println(i)\n",
    "end"
   ]
  },
  {
   "cell_type": "markdown",
   "id": "00884cf9",
   "metadata": {},
   "source": [
    "I can interate over almost anything that is interatable. Note that in contrast to vector languages like Matlab and R, loops do not result in a significant performance degradation in Julia"
   ]
  },
  {
   "cell_type": "code",
   "execution_count": null,
   "id": "4d7968f6",
   "metadata": {},
   "outputs": [],
   "source": [
    "for i in [1.2, 2.3, 3.4, 4.5, 5.6]\n",
    "    println(i)\n",
    "end\n"
   ]
  },
  {
   "cell_type": "markdown",
   "id": "cc323825",
   "metadata": {},
   "source": [
    "## Control Flow\n",
    "Julia control flow is similar to Matlab, using keywords if-elseif-else-end, and the logical operators || and && for 'or' and 'and' respectively"
   ]
  },
  {
   "cell_type": "code",
   "execution_count": null,
   "id": "5fbadee5",
   "metadata": {},
   "outputs": [],
   "source": [
    "i = 10\n",
    "for i in 0:3:15\n",
    "    if i < 5\n",
    "        println(\"$(i) is less than 5\")\n",
    "    elseif i < 10\n",
    "        println(\"$(i) is less than 10\")\n",
    "    else\n",
    "        if i == 10\n",
    "            println(\"the value is 10\")\n",
    "        else\n",
    "            println(\"$(i) is bigger than 10\")\n",
    "        end\n",
    "    end\n",
    "end"
   ]
  },
  {
   "cell_type": "markdown",
   "id": "349d5d24",
   "metadata": {},
   "source": [
    "## Comprehensions\n",
    "similar to Python, Julia supports the use of simple loops in the constructions of arrays and dictionaries called comprehensions"
   ]
  },
  {
   "cell_type": "code",
   "execution_count": null,
   "id": "a6befbe5",
   "metadata": {},
   "outputs": [],
   "source": [
    "[i for i in 1:5]"
   ]
  },
  {
   "cell_type": "markdown",
   "id": "0d850d6b",
   "metadata": {},
   "source": [
    "Matricies can be built by including multiple indices"
   ]
  },
  {
   "cell_type": "code",
   "execution_count": null,
   "id": "e66c5b52",
   "metadata": {},
   "outputs": [],
   "source": [
    "[i*j for i in 1:5, j in 5:10]"
   ]
  },
  {
   "cell_type": "markdown",
   "id": "cc5f5964",
   "metadata": {},
   "source": [
    "Conditional statements can be used to filter out some values"
   ]
  },
  {
   "cell_type": "code",
   "execution_count": null,
   "id": "95ff2b47",
   "metadata": {},
   "outputs": [],
   "source": [
    "[i for i in 1:10 if i%2 == 1]"
   ]
  },
  {
   "cell_type": "markdown",
   "id": "fe10601f",
   "metadata": {},
   "source": [
    "# Functions"
   ]
  },
  {
   "cell_type": "code",
   "execution_count": null,
   "id": "9ae72b4e",
   "metadata": {},
   "outputs": [],
   "source": [
    "function print_hello()\n",
    "    println(\"hello\")\n",
    "end\n",
    "print_hello()"
   ]
  },
  {
   "cell_type": "markdown",
   "id": "58e05c63",
   "metadata": {},
   "source": [
    "Adding arguments"
   ]
  },
  {
   "cell_type": "code",
   "execution_count": null,
   "id": "7152d7b0",
   "metadata": {},
   "outputs": [],
   "source": [
    "function print_it(x) # function takes anything and try to print it\n",
    "    println(x)\n",
    "end\n",
    "\n",
    "print_it(\"hello\")\n",
    "print_it(1.234)\n",
    "print_it(:my_id)"
   ]
  },
  {
   "cell_type": "markdown",
   "id": "921b52bf",
   "metadata": {},
   "source": [
    "Optional keyword arguments are also possiblem"
   ]
  },
  {
   "cell_type": "code",
   "execution_count": null,
   "id": "f27cfdfe",
   "metadata": {},
   "outputs": [],
   "source": [
    "function print_it(x; prefix=\"value\") # function takes anything and try to print it\n",
    "    println(\"$(prefix) $x\")\n",
    "end\n",
    "\n",
    "print_it(1.234; prefix=\"val:\")"
   ]
  },
  {
   "cell_type": "markdown",
   "id": "0f2361bc",
   "metadata": {},
   "source": [
    "The keyword return is used to specify the return values of a function"
   ]
  },
  {
   "cell_type": "code",
   "execution_count": null,
   "id": "95620af7",
   "metadata": {},
   "outputs": [],
   "source": [
    "function mult(x; y=2.0) # adding an optional parameter. Function will assume y is 2 unless we specifically define it\n",
    "    return x*y\n",
    "end\n",
    "\n",
    "mult(4.0)"
   ]
  },
  {
   "cell_type": "code",
   "execution_count": null,
   "id": "90892b9a",
   "metadata": {},
   "outputs": [],
   "source": [
    "mult(4.0, y = 5.0)"
   ]
  },
  {
   "cell_type": "markdown",
   "id": "cf152721",
   "metadata": {},
   "source": [
    "# Mutable vs. immutable objects"
   ]
  },
  {
   "cell_type": "markdown",
   "id": "cc1baff0",
   "metadata": {},
   "source": [
    "Some types in Julia are mutable, which means you can change the values inside them. A good example is an array. You can modify the contents of an array without having to make a new array. \n",
    "\n",
    "In contrat, types lik Float64 are immutable. You can modify the contents of a Float64. \n",
    "\n",
    "This is something to be aware when passing types into functions. For example:"
   ]
  },
  {
   "cell_type": "code",
   "execution_count": null,
   "id": "c71794ce",
   "metadata": {},
   "outputs": [],
   "source": [
    "function mutability_example(mutable_type::Vector{Int}, immutable_type::Int)\n",
    "    mutable_type[1] += 1\n",
    "    immutable_type += 1\n",
    "    return\n",
    "end\n",
    "\n",
    "mutable_type = [1,2,3]\n",
    "immutable_type = 1\n",
    "\n",
    "mutability_example(mutable_type, immutable_type)\n",
    "\n",
    "println(\"mutable_type: $(mutable_type)\")\n",
    "println(\"immutable_type: $(immutable_type)\")"
   ]
  },
  {
   "cell_type": "markdown",
   "id": "cb250725",
   "metadata": {},
   "source": [
    "because Vector{Int} is a mutable type, modifying the variable inside the function changed the value outside the function. In contrast, the change to immutable_type didn't modify the value outside the function\n",
    "\n",
    "You can check mutability with the isimmutable function"
   ]
  },
  {
   "cell_type": "code",
   "execution_count": null,
   "id": "88821c9d",
   "metadata": {},
   "outputs": [],
   "source": [
    "@show isimmutable([1,2,3])\n",
    "@show isimmutable(1);"
   ]
  },
  {
   "cell_type": "markdown",
   "id": "5a04f73c",
   "metadata": {},
   "source": [
    "# Loading Packages"
   ]
  },
  {
   "cell_type": "code",
   "execution_count": null,
   "id": "021635fe",
   "metadata": {},
   "outputs": [],
   "source": [
    "using Random\n",
    "[rand() for i in 1:10]"
   ]
  },
  {
   "cell_type": "markdown",
   "id": "ec6cc41f",
   "metadata": {},
   "source": [
    "You can access help mode "
   ]
  },
  {
   "cell_type": "code",
   "execution_count": null,
   "id": "fc6a865b",
   "metadata": {},
   "outputs": [],
   "source": [
    "? rand"
   ]
  }
 ],
 "metadata": {
  "kernelspec": {
   "display_name": "Julia 1.8.5",
   "language": "julia",
   "name": "julia-1.8"
  },
  "language_info": {
   "file_extension": ".jl",
   "mimetype": "application/julia",
   "name": "julia",
   "version": "1.8.5"
  }
 },
 "nbformat": 4,
 "nbformat_minor": 5
}
