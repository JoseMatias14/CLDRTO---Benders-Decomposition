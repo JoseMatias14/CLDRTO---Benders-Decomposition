{
 "cells": [
  {
   "cell_type": "markdown",
   "id": "fdc146c8",
   "metadata": {},
   "source": [
    "# JUMP TUTORIAL"
   ]
  },
  {
   "cell_type": "markdown",
   "id": "86069a39",
   "metadata": {},
   "source": [
    "max 5x + 6y\n",
    "\n",
    "subject to  <br>\n",
    "x + y <= 10 <br>\n",
    "x - y >= 3 <br>\n",
    "5x + 4y <= 35 <br> \n",
    "\n",
    "x >= 0 <br>\n",
    "y >= 0"
   ]
  },
  {
   "cell_type": "code",
   "execution_count": 1,
   "id": "70971f2c",
   "metadata": {},
   "outputs": [],
   "source": [
    "using JuMP"
   ]
  },
  {
   "cell_type": "code",
   "execution_count": 2,
   "id": "9f2b08e4",
   "metadata": {
    "scrolled": true
   },
   "outputs": [
    {
     "data": {
      "text/latex": [
       "\\begin{tabular}\n",
       "{l | r | l}\n",
       "name & size & summary \\\\\n",
       "\\hline\n",
       "@NLconstraint & 0 bytes & @NLconstraint (macro with 1 method) \\\\\n",
       "@NLconstraints & 0 bytes & @NLconstraints (macro with 1 method) \\\\\n",
       "@NLexpression & 0 bytes & @NLexpression (macro with 1 method) \\\\\n",
       "@NLexpressions & 0 bytes & @NLexpressions (macro with 1 method) \\\\\n",
       "@NLobjective & 0 bytes & @NLobjective (macro with 1 method) \\\\\n",
       "@NLparameter & 0 bytes & @NLparameter (macro with 1 method) \\\\\n",
       "@NLparameters & 0 bytes & @NLparameters (macro with 1 method) \\\\\n",
       "@build\\_constraint & 0 bytes & @build\\_constraint (macro with 1 method) \\\\\n",
       "@constraint & 0 bytes & @constraint (macro with 1 method) \\\\\n",
       "@constraints & 0 bytes & @constraints (macro with 1 method) \\\\\n",
       "@expression & 0 bytes & @expression (macro with 1 method) \\\\\n",
       "@expressions & 0 bytes & @expressions (macro with 1 method) \\\\\n",
       "@objective & 0 bytes & @objective (macro with 1 method) \\\\\n",
       "@variable & 0 bytes & @variable (macro with 1 method) \\\\\n",
       "@variables & 0 bytes & @variables (macro with 1 method) \\\\\n",
       "ALMOST\\_DUAL\\_INFEASIBLE & 4 bytes & MathOptInterface.TerminationStatusCode \\\\\n",
       "ALMOST\\_INFEASIBLE & 4 bytes & MathOptInterface.TerminationStatusCode \\\\\n",
       "ALMOST\\_LOCALLY\\_SOLVED & 4 bytes & MathOptInterface.TerminationStatusCode \\\\\n",
       "ALMOST\\_OPTIMAL & 4 bytes & MathOptInterface.TerminationStatusCode \\\\\n",
       "AUTOMATIC & 4 bytes & ModelMode \\\\\n",
       "AbstractConstraint & 128 bytes & DataType \\\\\n",
       "AbstractJuMPScalar & 128 bytes & DataType \\\\\n",
       "AbstractModel & 128 bytes & DataType \\\\\n",
       "AbstractShape & 128 bytes & DataType \\\\\n",
       "AbstractVariable & 128 bytes & DataType \\\\\n",
       "AbstractVariableRef & 128 bytes & DataType \\\\\n",
       "AbstractVectorSet & 128 bytes & DataType \\\\\n",
       "AffExpr & 168 bytes & DataType \\\\\n",
       "BinaryRef & 0 bytes & BinaryRef (generic function with 1 method) \\\\\n",
       "BridgeableConstraint & 80 bytes & UnionAll \\\\\n",
       "ComplexPlane & 128 bytes & DataType \\\\\n",
       "ComplexVariable & 160 bytes & UnionAll \\\\\n",
       "ConstraintNotOwned & 160 bytes & UnionAll \\\\\n",
       "ConstraintRef & 120 bytes & UnionAll \\\\\n",
       "Containers & 971.296 KiB & Module \\\\\n",
       "DIRECT & 4 bytes & ModelMode \\\\\n",
       "DUAL\\_INFEASIBLE & 4 bytes & MathOptInterface.TerminationStatusCode \\\\\n",
       "FEASIBILITY\\_SENSE & 4 bytes & MathOptInterface.OptimizationSense \\\\\n",
       "FEASIBLE\\_POINT & 4 bytes & MathOptInterface.ResultStatusCode \\\\\n",
       "FixRef & 0 bytes & FixRef (generic function with 1 method) \\\\\n",
       "GenericAffExpr & 80 bytes & UnionAll \\\\\n",
       "GenericQuadExpr & 80 bytes & UnionAll \\\\\n",
       "HermitianMatrixShape & 144 bytes & DataType \\\\\n",
       "HermitianPSDCone & 128 bytes & DataType \\\\\n",
       "INFEASIBILITY\\_CERTIFICATE & 4 bytes & MathOptInterface.ResultStatusCode \\\\\n",
       "INFEASIBLE & 4 bytes & MathOptInterface.TerminationStatusCode \\\\\n",
       "INFEASIBLE\\_OR\\_UNBOUNDED & 4 bytes & MathOptInterface.TerminationStatusCode \\\\\n",
       "INFEASIBLE\\_POINT & 4 bytes & MathOptInterface.ResultStatusCode \\\\\n",
       "INTERRUPTED & 4 bytes & MathOptInterface.TerminationStatusCode \\\\\n",
       "INVALID\\_MODEL & 4 bytes & MathOptInterface.TerminationStatusCode \\\\\n",
       "INVALID\\_OPTION & 4 bytes & MathOptInterface.TerminationStatusCode \\\\\n",
       "ITERATION\\_LIMIT & 4 bytes & MathOptInterface.TerminationStatusCode \\\\\n",
       "IntegerRef & 0 bytes & IntegerRef (generic function with 1 method) \\\\\n",
       "JuMP & 2.939 MiB & Module \\\\\n",
       "LOCALLY\\_INFEASIBLE & 4 bytes & MathOptInterface.TerminationStatusCode \\\\\n",
       "LOCALLY\\_SOLVED & 4 bytes & MathOptInterface.TerminationStatusCode \\\\\n",
       "LinearTermIterator & 120 bytes & UnionAll \\\\\n",
       "LowerBoundRef & 0 bytes & LowerBoundRef (generic function with 1 method) \\\\\n",
       "MANUAL & 4 bytes & ModelMode \\\\\n",
       "MAX\\_SENSE & 4 bytes & MathOptInterface.OptimizationSense \\\\\n",
       "MEMORY\\_LIMIT & 4 bytes & MathOptInterface.TerminationStatusCode \\\\\n",
       "MIN\\_SENSE & 4 bytes & MathOptInterface.OptimizationSense \\\\\n",
       "MOI & 26.180 MiB & Module \\\\\n",
       "MOIB & 2.153 MiB & Module \\\\\n",
       "MOIU & 5.445 MiB & Module \\\\\n",
       "Model & 232 bytes & DataType \\\\\n",
       "ModelMode & 128 bytes & DataType \\\\\n",
       "NEARLY\\_FEASIBLE\\_POINT & 4 bytes & MathOptInterface.ResultStatusCode \\\\\n",
       "NEARLY\\_INFEASIBILITY\\_CERTIFICATE & 4 bytes & MathOptInterface.ResultStatusCode \\\\\n",
       "NEARLY\\_REDUCTION\\_CERTIFICATE & 4 bytes & MathOptInterface.ResultStatusCode \\\\\n",
       "NLPEvaluator & 0 bytes & NLPEvaluator (generic function with 1 method) \\\\\n",
       "NODE\\_LIMIT & 4 bytes & MathOptInterface.TerminationStatusCode \\\\\n",
       "NORM\\_LIMIT & 4 bytes & MathOptInterface.TerminationStatusCode \\\\\n",
       "NO\\_SOLUTION & 4 bytes & MathOptInterface.ResultStatusCode \\\\\n",
       "NUMERICAL\\_ERROR & 4 bytes & MathOptInterface.TerminationStatusCode \\\\\n",
       "NoOptimizer & 128 bytes & DataType \\\\\n",
       "NonlinearConstraintIndex & 144 bytes & DataType \\\\\n",
       "NonlinearConstraintRef & 40 bytes & UnionAll \\\\\n",
       "NonlinearExpression & 152 bytes & DataType \\\\\n",
       "NonlinearParameter & 152 bytes & DataType \\\\\n",
       "OBJECTIVE\\_LIMIT & 4 bytes & MathOptInterface.TerminationStatusCode \\\\\n",
       "OPTIMAL & 4 bytes & MathOptInterface.TerminationStatusCode \\\\\n",
       "OPTIMIZE\\_NOT\\_CALLED & 4 bytes & MathOptInterface.TerminationStatusCode \\\\\n",
       "OTHER\\_ERROR & 4 bytes & MathOptInterface.TerminationStatusCode \\\\\n",
       "OTHER\\_LIMIT & 4 bytes & MathOptInterface.TerminationStatusCode \\\\\n",
       "OTHER\\_RESULT\\_STATUS & 4 bytes & MathOptInterface.ResultStatusCode \\\\\n",
       "OptimizationSense & 128 bytes & DataType \\\\\n",
       "OptimizeNotCalled & 128 bytes & DataType \\\\\n",
       "PSDCone & 128 bytes & DataType \\\\\n",
       "QuadExpr & 168 bytes & DataType \\\\\n",
       "QuadTermIterator & 120 bytes & UnionAll \\\\\n",
       "REDUCTION\\_CERTIFICATE & 4 bytes & MathOptInterface.ResultStatusCode \\\\\n",
       "ReferenceMap & 152 bytes & DataType \\\\\n",
       "ResultStatusCode & 128 bytes & DataType \\\\\n",
       "RotatedSecondOrderCone & 128 bytes & DataType \\\\\n",
       "SLOW\\_PROGRESS & 4 bytes & MathOptInterface.TerminationStatusCode \\\\\n",
       "SOLUTION\\_LIMIT & 4 bytes & MathOptInterface.TerminationStatusCode \\\\\n",
       "SOS1 & 144 bytes & DataType \\\\\n",
       "SOS2 & 144 bytes & DataType \\\\\n",
       "ScalarConstraint & 80 bytes & UnionAll \\\\\n",
       "ScalarShape & 128 bytes & DataType \\\\\n",
       "ScalarVariable & 160 bytes & UnionAll \\\\\n",
       "SecondOrderCone & 128 bytes & DataType \\\\\n",
       "SensitivityReport & 152 bytes & DataType \\\\\n",
       "SkewSymmetricMatrixShape & 144 bytes & DataType \\\\\n",
       "SkewSymmetricMatrixSpace & 128 bytes & DataType \\\\\n",
       "SquareMatrixShape & 144 bytes & DataType \\\\\n",
       "SymmetricMatrixShape & 144 bytes & DataType \\\\\n",
       "SymmetricMatrixSpace & 128 bytes & DataType \\\\\n",
       "TIME\\_LIMIT & 4 bytes & MathOptInterface.TerminationStatusCode \\\\\n",
       "TerminationStatusCode & 128 bytes & DataType \\\\\n",
       "UNKNOWN\\_RESULT\\_STATUS & 4 bytes & MathOptInterface.ResultStatusCode \\\\\n",
       "UnorderedPair & 40 bytes & UnionAll \\\\\n",
       "UpperBoundRef & 0 bytes & UpperBoundRef (generic function with 1 method) \\\\\n",
       "VariableConstrainedOnCreation & 80 bytes & UnionAll \\\\\n",
       "VariableInfo & 160 bytes & UnionAll \\\\\n",
       "VariableNotOwned & 40 bytes & UnionAll \\\\\n",
       "VariableRef & 152 bytes & DataType \\\\\n",
       "VariablesConstrainedOnCreation & 120 bytes & UnionAll \\\\\n",
       "VectorConstraint & 120 bytes & UnionAll \\\\\n",
       "VectorShape & 128 bytes & DataType \\\\\n",
       "add\\_bridge & 0 bytes & add\\_bridge (generic function with 1 method) \\\\\n",
       "add\\_constraint & 0 bytes & add\\_constraint (generic function with 4 methods) \\\\\n",
       "add\\_nonlinear\\_constraint & 0 bytes & add\\_nonlinear\\_constraint (generic function with 1 method) \\\\\n",
       "add\\_nonlinear\\_expression & 0 bytes & add\\_nonlinear\\_expression (generic function with 1 method) \\\\\n",
       "add\\_nonlinear\\_parameter & 0 bytes & add\\_nonlinear\\_parameter (generic function with 1 method) \\\\\n",
       "add\\_to\\_expression! & 0 bytes & add\\_to\\_expression! (generic function with 26 methods) \\\\\n",
       "add\\_to\\_function\\_constant & 0 bytes & add\\_to\\_function\\_constant (generic function with 1 method) \\\\\n",
       "add\\_variable & 0 bytes & add\\_variable (generic function with 9 methods) \\\\\n",
       "all\\_constraints & 0 bytes & all\\_constraints (generic function with 2 methods) \\\\\n",
       "all\\_nonlinear\\_constraints & 0 bytes & all\\_nonlinear\\_constraints (generic function with 1 method) \\\\\n",
       "all\\_variables & 0 bytes & all\\_variables (generic function with 1 method) \\\\\n",
       "anonymous\\_name & 0 bytes & anonymous\\_name (generic function with 3 methods) \\\\\n",
       "backend & 0 bytes & backend (generic function with 1 method) \\\\\n",
       "barrier\\_iterations & 0 bytes & barrier\\_iterations (generic function with 1 method) \\\\\n",
       "bridge\\_constraints & 0 bytes & bridge\\_constraints (generic function with 1 method) \\\\\n",
       "build\\_constraint & 0 bytes & build\\_constraint (generic function with 25 methods) \\\\\n",
       "build\\_variable & 0 bytes & build\\_variable (generic function with 14 methods) \\\\\n",
       "callback\\_node\\_status & 0 bytes & callback\\_node\\_status (generic function with 1 method) \\\\\n",
       "callback\\_value & 0 bytes & callback\\_value (generic function with 2 methods) \\\\\n",
       "check\\_belongs\\_to\\_model & 0 bytes & check\\_belongs\\_to\\_model (generic function with 6 methods) \\\\\n",
       "coefficient & 0 bytes & coefficient (generic function with 6 methods) \\\\\n",
       "compute\\_conflict! & 0 bytes & compute\\_conflict! (generic function with 1 method) \\\\\n",
       "constant & 0 bytes & constant (generic function with 2 methods) \\\\\n",
       "constraint\\_by\\_name & 0 bytes & constraint\\_by\\_name (generic function with 3 methods) \\\\\n",
       "constraint\\_object & 0 bytes & constraint\\_object (generic function with 2 methods) \\\\\n",
       "constraint\\_ref\\_with\\_index & 0 bytes & constraint\\_ref\\_with\\_index (generic function with 2 methods) \\\\\n",
       "constraint\\_string & 0 bytes & constraint\\_string (generic function with 4 methods) \\\\\n",
       "constraints\\_string & 0 bytes & constraints\\_string (generic function with 1 method) \\\\\n",
       "copy\\_conflict & 0 bytes & copy\\_conflict (generic function with 1 method) \\\\\n",
       "copy\\_extension\\_data & 0 bytes & copy\\_extension\\_data (generic function with 1 method) \\\\\n",
       "copy\\_model & 0 bytes & copy\\_model (generic function with 1 method) \\\\\n",
       "delete & 0 bytes & delete (generic function with 5 methods) \\\\\n",
       "delete\\_lower\\_bound & 0 bytes & delete\\_lower\\_bound (generic function with 1 method) \\\\\n",
       "delete\\_upper\\_bound & 0 bytes & delete\\_upper\\_bound (generic function with 1 method) \\\\\n",
       "direct\\_model & 0 bytes & direct\\_model (generic function with 2 methods) \\\\\n",
       "drop\\_zeros! & 0 bytes & drop\\_zeros! (generic function with 2 methods) \\\\\n",
       "dual & 0 bytes & dual (generic function with 3 methods) \\\\\n",
       "dual\\_objective\\_value & 0 bytes & dual\\_objective\\_value (generic function with 1 method) \\\\\n",
       "dual\\_shape & 0 bytes & dual\\_shape (generic function with 1 method) \\\\\n",
       "dual\\_start\\_value & 0 bytes & dual\\_start\\_value (generic function with 1 method) \\\\\n",
       "dual\\_status & 0 bytes & dual\\_status (generic function with 1 method) \\\\\n",
       "error\\_if\\_direct\\_mode & 0 bytes & error\\_if\\_direct\\_mode (generic function with 1 method) \\\\\n",
       "fix & 0 bytes & fix (generic function with 1 method) \\\\\n",
       "fix\\_value & 0 bytes & fix\\_value (generic function with 1 method) \\\\\n",
       "function\\_string & 0 bytes & function\\_string (generic function with 11 methods) \\\\\n",
       "get\\_optimizer\\_attribute & 0 bytes & get\\_optimizer\\_attribute (generic function with 3 methods) \\\\\n",
       "has\\_duals & 0 bytes & has\\_duals (generic function with 1 method) \\\\\n",
       "has\\_lower\\_bound & 0 bytes & has\\_lower\\_bound (generic function with 1 method) \\\\\n",
       "has\\_start\\_value & 0 bytes & has\\_start\\_value (generic function with 1 method) \\\\\n",
       "has\\_upper\\_bound & 0 bytes & has\\_upper\\_bound (generic function with 1 method) \\\\\n",
       "has\\_values & 0 bytes & has\\_values (generic function with 1 method) \\\\\n",
       "in\\_set\\_string & 0 bytes & in\\_set\\_string (generic function with 11 methods) \\\\\n",
       "index & 0 bytes & index (generic function with 4 methods) \\\\\n",
       "is\\_binary & 0 bytes & is\\_binary (generic function with 1 method) \\\\\n",
       "is\\_fixed & 0 bytes & is\\_fixed (generic function with 1 method) \\\\\n",
       "is\\_integer & 0 bytes & is\\_integer (generic function with 1 method) \\\\\n",
       "is\\_valid & 0 bytes & is\\_valid (generic function with 3 methods) \\\\\n",
       "isequal\\_canonical & 0 bytes & isequal\\_canonical (generic function with 4 methods) \\\\\n",
       "jump\\_function & 0 bytes & jump\\_function (generic function with 7 methods) \\\\\n",
       "jump\\_function\\_type & 0 bytes & jump\\_function\\_type (generic function with 6 methods) \\\\\n",
       "latex\\_formulation & 0 bytes & latex\\_formulation (generic function with 1 method) \\\\\n",
       "linear\\_terms & 0 bytes & linear\\_terms (generic function with 2 methods) \\\\\n",
       "list\\_of\\_constraint\\_types & 0 bytes & list\\_of\\_constraint\\_types (generic function with 1 method) \\\\\n",
       "lower\\_bound & 0 bytes & lower\\_bound (generic function with 1 method) \\\\\n",
       "lp\\_sensitivity\\_report & 0 bytes & lp\\_sensitivity\\_report (generic function with 1 method) \\\\\n",
       "map\\_coefficients & 0 bytes & map\\_coefficients (generic function with 2 methods) \\\\\n",
       "map\\_coefficients\\_inplace! & 0 bytes & map\\_coefficients\\_inplace! (generic function with 2 methods) \\\\\n",
       "mode & 0 bytes & mode (generic function with 1 method) \\\\\n",
       "model\\_string & 0 bytes & model\\_string (generic function with 1 method) \\\\\n",
       "moi\\_function & 0 bytes & moi\\_function (generic function with 7 methods) \\\\\n",
       "moi\\_function\\_type & 0 bytes & moi\\_function\\_type (generic function with 6 methods) \\\\\n",
       "moi\\_set & 0 bytes & moi\\_set (generic function with 5 methods) \\\\\n",
       "name & 0 bytes & name (generic function with 5 methods) \\\\\n",
       "node\\_count & 0 bytes & node\\_count (generic function with 1 method) \\\\\n",
       "nonlinear\\_constraint\\_string & 0 bytes & nonlinear\\_constraint\\_string (generic function with 1 method) \\\\\n",
       "nonlinear\\_dual\\_start\\_value & 0 bytes & nonlinear\\_dual\\_start\\_value (generic function with 1 method) \\\\\n",
       "nonlinear\\_expr\\_string & 0 bytes & nonlinear\\_expr\\_string (generic function with 1 method) \\\\\n",
       "nonlinear\\_model & 0 bytes & nonlinear\\_model (generic function with 1 method) \\\\\n",
       "normalized\\_coefficient & 0 bytes & normalized\\_coefficient (generic function with 1 method) \\\\\n",
       "normalized\\_rhs & 0 bytes & normalized\\_rhs (generic function with 1 method) \\\\\n",
       "num\\_constraints & 0 bytes & num\\_constraints (generic function with 2 methods) \\\\\n",
       "num\\_nonlinear\\_constraints & 0 bytes & num\\_nonlinear\\_constraints (generic function with 1 method) \\\\\n",
       "num\\_variables & 0 bytes & num\\_variables (generic function with 1 method) \\\\\n",
       "object\\_dictionary & 0 bytes & object\\_dictionary (generic function with 1 method) \\\\\n",
       "objective\\_bound & 0 bytes & objective\\_bound (generic function with 1 method) \\\\\n",
       "objective\\_function & 0 bytes & objective\\_function (generic function with 2 methods) \\\\\n",
       "objective\\_function\\_string & 0 bytes & objective\\_function\\_string (generic function with 1 method) \\\\\n",
       "objective\\_function\\_type & 0 bytes & objective\\_function\\_type (generic function with 1 method) \\\\\n",
       "objective\\_sense & 0 bytes & objective\\_sense (generic function with 1 method) \\\\\n",
       "objective\\_value & 0 bytes & objective\\_value (generic function with 1 method) \\\\\n",
       "operator\\_to\\_set & 0 bytes & operator\\_to\\_set (generic function with 4 methods) \\\\\n",
       "operator\\_warn & 0 bytes & operator\\_warn (generic function with 2 methods) \\\\\n",
       "optimize! & 0 bytes & optimize! (generic function with 1 method) \\\\\n",
       "optimizer\\_index & 0 bytes & optimizer\\_index (generic function with 1 method) \\\\\n",
       "optimizer\\_with\\_attributes & 0 bytes & optimizer\\_with\\_attributes (generic function with 1 method) \\\\\n",
       "owner\\_model & 0 bytes & owner\\_model (generic function with 2 methods) \\\\\n",
       "parse\\_constraint & 0 bytes & parse\\_constraint (generic function with 1 method) \\\\\n",
       "parse\\_constraint\\_call & 0 bytes & parse\\_constraint\\_call (generic function with 5 methods) \\\\\n",
       "parse\\_constraint\\_head & 0 bytes & parse\\_constraint\\_head (generic function with 3 methods) \\\\\n",
       "parse\\_one\\_operator\\_variable & 0 bytes & parse\\_one\\_operator\\_variable (generic function with 5 methods) \\\\\n",
       "parse\\_ternary\\_variable & 0 bytes & parse\\_ternary\\_variable (generic function with 3 methods) \\\\\n",
       "parse\\_variable & 0 bytes & parse\\_variable (generic function with 4 methods) \\\\\n",
       "primal\\_feasibility\\_report & 0 bytes & primal\\_feasibility\\_report (generic function with 3 methods) \\\\\n",
       "primal\\_status & 0 bytes & primal\\_status (generic function with 1 method) \\\\\n",
       "print\\_bridge\\_graph & 0 bytes & print\\_bridge\\_graph (generic function with 2 methods) \\\\\n",
       "quad\\_terms & 0 bytes & quad\\_terms (generic function with 1 method) \\\\\n",
       "raw\\_status & 0 bytes & raw\\_status (generic function with 1 method) \\\\\n",
       "read\\_from\\_file & 0 bytes & read\\_from\\_file (generic function with 1 method) \\\\\n",
       "reduced\\_cost & 0 bytes & reduced\\_cost (generic function with 1 method) \\\\\n",
       "register & 0 bytes & register (generic function with 3 methods) \\\\\n",
       "relative\\_gap & 0 bytes & relative\\_gap (generic function with 1 method) \\\\\n",
       "relax\\_integrality & 0 bytes & relax\\_integrality (generic function with 1 method) \\\\\n",
       "relax\\_with\\_penalty! & 0 bytes & relax\\_with\\_penalty! (generic function with 2 methods) \\\\\n",
       "reshape\\_set & 0 bytes & reshape\\_set (generic function with 5 methods) \\\\\n",
       "reshape\\_vector & 0 bytes & reshape\\_vector (generic function with 6 methods) \\\\\n",
       "result\\_count & 0 bytes & result\\_count (generic function with 1 method) \\\\\n",
       "reverse\\_sense & 0 bytes & reverse\\_sense (generic function with 5 methods) \\\\\n",
       "set\\_binary & 0 bytes & set\\_binary (generic function with 1 method) \\\\\n",
       "set\\_dual\\_start\\_value & 0 bytes & set\\_dual\\_start\\_value (generic function with 3 methods) \\\\\n",
       "set\\_integer & 0 bytes & set\\_integer (generic function with 1 method) \\\\\n",
       "set\\_lower\\_bound & 0 bytes & set\\_lower\\_bound (generic function with 1 method) \\\\\n",
       "set\\_name & 0 bytes & set\\_name (generic function with 2 methods) \\\\\n",
       "set\\_nonlinear\\_dual\\_start\\_value & 0 bytes & set\\_nonlinear\\_dual\\_start\\_value (generic function with 2 methods) \\\\\n",
       "set\\_nonlinear\\_objective & 0 bytes & set\\_nonlinear\\_objective (generic function with 1 method) \\\\\n",
       "set\\_normalized\\_coefficient & 0 bytes & set\\_normalized\\_coefficient (generic function with 1 method) \\\\\n",
       "set\\_normalized\\_coefficients & 0 bytes & set\\_normalized\\_coefficients (generic function with 1 method) \\\\\n",
       "set\\_normalized\\_rhs & 0 bytes & set\\_normalized\\_rhs (generic function with 1 method) \\\\\n",
       "set\\_objective & 0 bytes & set\\_objective (generic function with 1 method) \\\\\n",
       "set\\_objective\\_coefficient & 0 bytes & set\\_objective\\_coefficient (generic function with 1 method) \\\\\n",
       "set\\_objective\\_function & 0 bytes & set\\_objective\\_function (generic function with 4 methods) \\\\\n",
       "set\\_objective\\_sense & 0 bytes & set\\_objective\\_sense (generic function with 1 method) \\\\\n",
       "set\\_optimize\\_hook & 0 bytes & set\\_optimize\\_hook (generic function with 1 method) \\\\\n",
       "set\\_optimizer & 0 bytes & set\\_optimizer (generic function with 1 method) \\\\\n",
       "set\\_optimizer\\_attribute & 0 bytes & set\\_optimizer\\_attribute (generic function with 3 methods) \\\\\n",
       "set\\_optimizer\\_attributes & 0 bytes & set\\_optimizer\\_attributes (generic function with 1 method) \\\\\n",
       "set\\_silent & 0 bytes & set\\_silent (generic function with 1 method) \\\\\n",
       "set\\_start\\_value & 0 bytes & set\\_start\\_value (generic function with 5 methods) \\\\\n",
       "set\\_string\\_names\\_on\\_creation & 0 bytes & set\\_string\\_names\\_on\\_creation (generic function with 3 methods) \\\\\n",
       "set\\_time\\_limit\\_sec & 0 bytes & set\\_time\\_limit\\_sec (generic function with 2 methods) \\\\\n",
       "set\\_upper\\_bound & 0 bytes & set\\_upper\\_bound (generic function with 1 method) \\\\\n",
       "set\\_value & 0 bytes & set\\_value (generic function with 1 method) \\\\\n",
       "shadow\\_price & 0 bytes & shadow\\_price (generic function with 4 methods) \\\\\n",
       "shape & 0 bytes & shape (generic function with 2 methods) \\\\\n",
       "show\\_backend\\_summary & 0 bytes & show\\_backend\\_summary (generic function with 1 method) \\\\\n",
       "show\\_constraints\\_summary & 0 bytes & show\\_constraints\\_summary (generic function with 1 method) \\\\\n",
       "show\\_objective\\_function\\_summary & 0 bytes & show\\_objective\\_function\\_summary (generic function with 1 method) \\\\\n",
       "simplex\\_iterations & 0 bytes & simplex\\_iterations (generic function with 1 method) \\\\\n",
       "solution\\_summary & 0 bytes & solution\\_summary (generic function with 1 method) \\\\\n",
       "solve\\_time & 0 bytes & solve\\_time (generic function with 1 method) \\\\\n",
       "solver\\_name & 0 bytes & solver\\_name (generic function with 1 method) \\\\\n",
       "start\\_value & 0 bytes & start\\_value (generic function with 2 methods) \\\\\n",
       "termination\\_status & 0 bytes & termination\\_status (generic function with 1 method) \\\\\n",
       "time\\_limit\\_sec & 0 bytes & time\\_limit\\_sec (generic function with 1 method) \\\\\n",
       "unfix & 0 bytes & unfix (generic function with 1 method) \\\\\n",
       "unregister & 0 bytes & unregister (generic function with 1 method) \\\\\n",
       "unsafe\\_backend & 0 bytes & unsafe\\_backend (generic function with 4 methods) \\\\\n",
       "unset\\_binary & 0 bytes & unset\\_binary (generic function with 1 method) \\\\\n",
       "unset\\_integer & 0 bytes & unset\\_integer (generic function with 1 method) \\\\\n",
       "unset\\_silent & 0 bytes & unset\\_silent (generic function with 1 method) \\\\\n",
       "unset\\_time\\_limit\\_sec & 0 bytes & unset\\_time\\_limit\\_sec (generic function with 1 method) \\\\\n",
       "upper\\_bound & 0 bytes & upper\\_bound (generic function with 1 method) \\\\\n",
       "value & 0 bytes & value (generic function with 17 methods) \\\\\n",
       "variable\\_by\\_name & 0 bytes & variable\\_by\\_name (generic function with 1 method) \\\\\n",
       "variable\\_ref\\_type & 0 bytes & variable\\_ref\\_type (generic function with 2 methods) \\\\\n",
       "vectorize & 0 bytes & vectorize (generic function with 9 methods) \\\\\n",
       "write\\_to\\_file & 0 bytes & write\\_to\\_file (generic function with 1 method) \\\\\n",
       "\\end{tabular}\n"
      ],
      "text/markdown": [
       "| name                             |        size | summary                                                          |\n",
       "|:-------------------------------- | -----------:|:---------------------------------------------------------------- |\n",
       "| @NLconstraint                    |     0 bytes | @NLconstraint (macro with 1 method)                              |\n",
       "| @NLconstraints                   |     0 bytes | @NLconstraints (macro with 1 method)                             |\n",
       "| @NLexpression                    |     0 bytes | @NLexpression (macro with 1 method)                              |\n",
       "| @NLexpressions                   |     0 bytes | @NLexpressions (macro with 1 method)                             |\n",
       "| @NLobjective                     |     0 bytes | @NLobjective (macro with 1 method)                               |\n",
       "| @NLparameter                     |     0 bytes | @NLparameter (macro with 1 method)                               |\n",
       "| @NLparameters                    |     0 bytes | @NLparameters (macro with 1 method)                              |\n",
       "| @build_constraint                |     0 bytes | @build_constraint (macro with 1 method)                          |\n",
       "| @constraint                      |     0 bytes | @constraint (macro with 1 method)                                |\n",
       "| @constraints                     |     0 bytes | @constraints (macro with 1 method)                               |\n",
       "| @expression                      |     0 bytes | @expression (macro with 1 method)                                |\n",
       "| @expressions                     |     0 bytes | @expressions (macro with 1 method)                               |\n",
       "| @objective                       |     0 bytes | @objective (macro with 1 method)                                 |\n",
       "| @variable                        |     0 bytes | @variable (macro with 1 method)                                  |\n",
       "| @variables                       |     0 bytes | @variables (macro with 1 method)                                 |\n",
       "| ALMOST_DUAL_INFEASIBLE           |     4 bytes | MathOptInterface.TerminationStatusCode                           |\n",
       "| ALMOST_INFEASIBLE                |     4 bytes | MathOptInterface.TerminationStatusCode                           |\n",
       "| ALMOST_LOCALLY_SOLVED            |     4 bytes | MathOptInterface.TerminationStatusCode                           |\n",
       "| ALMOST_OPTIMAL                   |     4 bytes | MathOptInterface.TerminationStatusCode                           |\n",
       "| AUTOMATIC                        |     4 bytes | ModelMode                                                        |\n",
       "| AbstractConstraint               |   128 bytes | DataType                                                         |\n",
       "| AbstractJuMPScalar               |   128 bytes | DataType                                                         |\n",
       "| AbstractModel                    |   128 bytes | DataType                                                         |\n",
       "| AbstractShape                    |   128 bytes | DataType                                                         |\n",
       "| AbstractVariable                 |   128 bytes | DataType                                                         |\n",
       "| AbstractVariableRef              |   128 bytes | DataType                                                         |\n",
       "| AbstractVectorSet                |   128 bytes | DataType                                                         |\n",
       "| AffExpr                          |   168 bytes | DataType                                                         |\n",
       "| BinaryRef                        |     0 bytes | BinaryRef (generic function with 1 method)                       |\n",
       "| BridgeableConstraint             |    80 bytes | UnionAll                                                         |\n",
       "| ComplexPlane                     |   128 bytes | DataType                                                         |\n",
       "| ComplexVariable                  |   160 bytes | UnionAll                                                         |\n",
       "| ConstraintNotOwned               |   160 bytes | UnionAll                                                         |\n",
       "| ConstraintRef                    |   120 bytes | UnionAll                                                         |\n",
       "| Containers                       | 971.296 KiB | Module                                                           |\n",
       "| DIRECT                           |     4 bytes | ModelMode                                                        |\n",
       "| DUAL_INFEASIBLE                  |     4 bytes | MathOptInterface.TerminationStatusCode                           |\n",
       "| FEASIBILITY_SENSE                |     4 bytes | MathOptInterface.OptimizationSense                               |\n",
       "| FEASIBLE_POINT                   |     4 bytes | MathOptInterface.ResultStatusCode                                |\n",
       "| FixRef                           |     0 bytes | FixRef (generic function with 1 method)                          |\n",
       "| GenericAffExpr                   |    80 bytes | UnionAll                                                         |\n",
       "| GenericQuadExpr                  |    80 bytes | UnionAll                                                         |\n",
       "| HermitianMatrixShape             |   144 bytes | DataType                                                         |\n",
       "| HermitianPSDCone                 |   128 bytes | DataType                                                         |\n",
       "| INFEASIBILITY_CERTIFICATE        |     4 bytes | MathOptInterface.ResultStatusCode                                |\n",
       "| INFEASIBLE                       |     4 bytes | MathOptInterface.TerminationStatusCode                           |\n",
       "| INFEASIBLE_OR_UNBOUNDED          |     4 bytes | MathOptInterface.TerminationStatusCode                           |\n",
       "| INFEASIBLE_POINT                 |     4 bytes | MathOptInterface.ResultStatusCode                                |\n",
       "| INTERRUPTED                      |     4 bytes | MathOptInterface.TerminationStatusCode                           |\n",
       "| INVALID_MODEL                    |     4 bytes | MathOptInterface.TerminationStatusCode                           |\n",
       "| INVALID_OPTION                   |     4 bytes | MathOptInterface.TerminationStatusCode                           |\n",
       "| ITERATION_LIMIT                  |     4 bytes | MathOptInterface.TerminationStatusCode                           |\n",
       "| IntegerRef                       |     0 bytes | IntegerRef (generic function with 1 method)                      |\n",
       "| JuMP                             |   2.939 MiB | Module                                                           |\n",
       "| LOCALLY_INFEASIBLE               |     4 bytes | MathOptInterface.TerminationStatusCode                           |\n",
       "| LOCALLY_SOLVED                   |     4 bytes | MathOptInterface.TerminationStatusCode                           |\n",
       "| LinearTermIterator               |   120 bytes | UnionAll                                                         |\n",
       "| LowerBoundRef                    |     0 bytes | LowerBoundRef (generic function with 1 method)                   |\n",
       "| MANUAL                           |     4 bytes | ModelMode                                                        |\n",
       "| MAX_SENSE                        |     4 bytes | MathOptInterface.OptimizationSense                               |\n",
       "| MEMORY_LIMIT                     |     4 bytes | MathOptInterface.TerminationStatusCode                           |\n",
       "| MIN_SENSE                        |     4 bytes | MathOptInterface.OptimizationSense                               |\n",
       "| MOI                              |  26.180 MiB | Module                                                           |\n",
       "| MOIB                             |   2.153 MiB | Module                                                           |\n",
       "| MOIU                             |   5.445 MiB | Module                                                           |\n",
       "| Model                            |   232 bytes | DataType                                                         |\n",
       "| ModelMode                        |   128 bytes | DataType                                                         |\n",
       "| NEARLY_FEASIBLE_POINT            |     4 bytes | MathOptInterface.ResultStatusCode                                |\n",
       "| NEARLY_INFEASIBILITY_CERTIFICATE |     4 bytes | MathOptInterface.ResultStatusCode                                |\n",
       "| NEARLY_REDUCTION_CERTIFICATE     |     4 bytes | MathOptInterface.ResultStatusCode                                |\n",
       "| NLPEvaluator                     |     0 bytes | NLPEvaluator (generic function with 1 method)                    |\n",
       "| NODE_LIMIT                       |     4 bytes | MathOptInterface.TerminationStatusCode                           |\n",
       "| NORM_LIMIT                       |     4 bytes | MathOptInterface.TerminationStatusCode                           |\n",
       "| NO_SOLUTION                      |     4 bytes | MathOptInterface.ResultStatusCode                                |\n",
       "| NUMERICAL_ERROR                  |     4 bytes | MathOptInterface.TerminationStatusCode                           |\n",
       "| NoOptimizer                      |   128 bytes | DataType                                                         |\n",
       "| NonlinearConstraintIndex         |   144 bytes | DataType                                                         |\n",
       "| NonlinearConstraintRef           |    40 bytes | UnionAll                                                         |\n",
       "| NonlinearExpression              |   152 bytes | DataType                                                         |\n",
       "| NonlinearParameter               |   152 bytes | DataType                                                         |\n",
       "| OBJECTIVE_LIMIT                  |     4 bytes | MathOptInterface.TerminationStatusCode                           |\n",
       "| OPTIMAL                          |     4 bytes | MathOptInterface.TerminationStatusCode                           |\n",
       "| OPTIMIZE_NOT_CALLED              |     4 bytes | MathOptInterface.TerminationStatusCode                           |\n",
       "| OTHER_ERROR                      |     4 bytes | MathOptInterface.TerminationStatusCode                           |\n",
       "| OTHER_LIMIT                      |     4 bytes | MathOptInterface.TerminationStatusCode                           |\n",
       "| OTHER_RESULT_STATUS              |     4 bytes | MathOptInterface.ResultStatusCode                                |\n",
       "| OptimizationSense                |   128 bytes | DataType                                                         |\n",
       "| OptimizeNotCalled                |   128 bytes | DataType                                                         |\n",
       "| PSDCone                          |   128 bytes | DataType                                                         |\n",
       "| QuadExpr                         |   168 bytes | DataType                                                         |\n",
       "| QuadTermIterator                 |   120 bytes | UnionAll                                                         |\n",
       "| REDUCTION_CERTIFICATE            |     4 bytes | MathOptInterface.ResultStatusCode                                |\n",
       "| ReferenceMap                     |   152 bytes | DataType                                                         |\n",
       "| ResultStatusCode                 |   128 bytes | DataType                                                         |\n",
       "| RotatedSecondOrderCone           |   128 bytes | DataType                                                         |\n",
       "| SLOW_PROGRESS                    |     4 bytes | MathOptInterface.TerminationStatusCode                           |\n",
       "| SOLUTION_LIMIT                   |     4 bytes | MathOptInterface.TerminationStatusCode                           |\n",
       "| SOS1                             |   144 bytes | DataType                                                         |\n",
       "| SOS2                             |   144 bytes | DataType                                                         |\n",
       "| ScalarConstraint                 |    80 bytes | UnionAll                                                         |\n",
       "| ScalarShape                      |   128 bytes | DataType                                                         |\n",
       "| ScalarVariable                   |   160 bytes | UnionAll                                                         |\n",
       "| SecondOrderCone                  |   128 bytes | DataType                                                         |\n",
       "| SensitivityReport                |   152 bytes | DataType                                                         |\n",
       "| SkewSymmetricMatrixShape         |   144 bytes | DataType                                                         |\n",
       "| SkewSymmetricMatrixSpace         |   128 bytes | DataType                                                         |\n",
       "| SquareMatrixShape                |   144 bytes | DataType                                                         |\n",
       "| SymmetricMatrixShape             |   144 bytes | DataType                                                         |\n",
       "| SymmetricMatrixSpace             |   128 bytes | DataType                                                         |\n",
       "| TIME_LIMIT                       |     4 bytes | MathOptInterface.TerminationStatusCode                           |\n",
       "| TerminationStatusCode            |   128 bytes | DataType                                                         |\n",
       "| UNKNOWN_RESULT_STATUS            |     4 bytes | MathOptInterface.ResultStatusCode                                |\n",
       "| UnorderedPair                    |    40 bytes | UnionAll                                                         |\n",
       "| UpperBoundRef                    |     0 bytes | UpperBoundRef (generic function with 1 method)                   |\n",
       "| VariableConstrainedOnCreation    |    80 bytes | UnionAll                                                         |\n",
       "| VariableInfo                     |   160 bytes | UnionAll                                                         |\n",
       "| VariableNotOwned                 |    40 bytes | UnionAll                                                         |\n",
       "| VariableRef                      |   152 bytes | DataType                                                         |\n",
       "| VariablesConstrainedOnCreation   |   120 bytes | UnionAll                                                         |\n",
       "| VectorConstraint                 |   120 bytes | UnionAll                                                         |\n",
       "| VectorShape                      |   128 bytes | DataType                                                         |\n",
       "| add_bridge                       |     0 bytes | add_bridge (generic function with 1 method)                      |\n",
       "| add_constraint                   |     0 bytes | add_constraint (generic function with 4 methods)                 |\n",
       "| add_nonlinear_constraint         |     0 bytes | add_nonlinear_constraint (generic function with 1 method)        |\n",
       "| add_nonlinear_expression         |     0 bytes | add_nonlinear_expression (generic function with 1 method)        |\n",
       "| add_nonlinear_parameter          |     0 bytes | add_nonlinear_parameter (generic function with 1 method)         |\n",
       "| add_to_expression!               |     0 bytes | add_to_expression! (generic function with 26 methods)            |\n",
       "| add_to_function_constant         |     0 bytes | add_to_function_constant (generic function with 1 method)        |\n",
       "| add_variable                     |     0 bytes | add_variable (generic function with 9 methods)                   |\n",
       "| all_constraints                  |     0 bytes | all_constraints (generic function with 2 methods)                |\n",
       "| all_nonlinear_constraints        |     0 bytes | all_nonlinear_constraints (generic function with 1 method)       |\n",
       "| all_variables                    |     0 bytes | all_variables (generic function with 1 method)                   |\n",
       "| anonymous_name                   |     0 bytes | anonymous_name (generic function with 3 methods)                 |\n",
       "| backend                          |     0 bytes | backend (generic function with 1 method)                         |\n",
       "| barrier_iterations               |     0 bytes | barrier_iterations (generic function with 1 method)              |\n",
       "| bridge_constraints               |     0 bytes | bridge_constraints (generic function with 1 method)              |\n",
       "| build_constraint                 |     0 bytes | build_constraint (generic function with 25 methods)              |\n",
       "| build_variable                   |     0 bytes | build_variable (generic function with 14 methods)                |\n",
       "| callback_node_status             |     0 bytes | callback_node_status (generic function with 1 method)            |\n",
       "| callback_value                   |     0 bytes | callback_value (generic function with 2 methods)                 |\n",
       "| check_belongs_to_model           |     0 bytes | check_belongs_to_model (generic function with 6 methods)         |\n",
       "| coefficient                      |     0 bytes | coefficient (generic function with 6 methods)                    |\n",
       "| compute_conflict!                |     0 bytes | compute_conflict! (generic function with 1 method)               |\n",
       "| constant                         |     0 bytes | constant (generic function with 2 methods)                       |\n",
       "| constraint_by_name               |     0 bytes | constraint_by_name (generic function with 3 methods)             |\n",
       "| constraint_object                |     0 bytes | constraint_object (generic function with 2 methods)              |\n",
       "| constraint_ref_with_index        |     0 bytes | constraint_ref_with_index (generic function with 2 methods)      |\n",
       "| constraint_string                |     0 bytes | constraint_string (generic function with 4 methods)              |\n",
       "| constraints_string               |     0 bytes | constraints_string (generic function with 1 method)              |\n",
       "| copy_conflict                    |     0 bytes | copy_conflict (generic function with 1 method)                   |\n",
       "| copy_extension_data              |     0 bytes | copy_extension_data (generic function with 1 method)             |\n",
       "| copy_model                       |     0 bytes | copy_model (generic function with 1 method)                      |\n",
       "| delete                           |     0 bytes | delete (generic function with 5 methods)                         |\n",
       "| delete_lower_bound               |     0 bytes | delete_lower_bound (generic function with 1 method)              |\n",
       "| delete_upper_bound               |     0 bytes | delete_upper_bound (generic function with 1 method)              |\n",
       "| direct_model                     |     0 bytes | direct_model (generic function with 2 methods)                   |\n",
       "| drop_zeros!                      |     0 bytes | drop_zeros! (generic function with 2 methods)                    |\n",
       "| dual                             |     0 bytes | dual (generic function with 3 methods)                           |\n",
       "| dual_objective_value             |     0 bytes | dual_objective_value (generic function with 1 method)            |\n",
       "| dual_shape                       |     0 bytes | dual_shape (generic function with 1 method)                      |\n",
       "| dual_start_value                 |     0 bytes | dual_start_value (generic function with 1 method)                |\n",
       "| dual_status                      |     0 bytes | dual_status (generic function with 1 method)                     |\n",
       "| error_if_direct_mode             |     0 bytes | error_if_direct_mode (generic function with 1 method)            |\n",
       "| fix                              |     0 bytes | fix (generic function with 1 method)                             |\n",
       "| fix_value                        |     0 bytes | fix_value (generic function with 1 method)                       |\n",
       "| function_string                  |     0 bytes | function_string (generic function with 11 methods)               |\n",
       "| get_optimizer_attribute          |     0 bytes | get_optimizer_attribute (generic function with 3 methods)        |\n",
       "| has_duals                        |     0 bytes | has_duals (generic function with 1 method)                       |\n",
       "| has_lower_bound                  |     0 bytes | has_lower_bound (generic function with 1 method)                 |\n",
       "| has_start_value                  |     0 bytes | has_start_value (generic function with 1 method)                 |\n",
       "| has_upper_bound                  |     0 bytes | has_upper_bound (generic function with 1 method)                 |\n",
       "| has_values                       |     0 bytes | has_values (generic function with 1 method)                      |\n",
       "| in_set_string                    |     0 bytes | in_set_string (generic function with 11 methods)                 |\n",
       "| index                            |     0 bytes | index (generic function with 4 methods)                          |\n",
       "| is_binary                        |     0 bytes | is_binary (generic function with 1 method)                       |\n",
       "| is_fixed                         |     0 bytes | is_fixed (generic function with 1 method)                        |\n",
       "| is_integer                       |     0 bytes | is_integer (generic function with 1 method)                      |\n",
       "| is_valid                         |     0 bytes | is_valid (generic function with 3 methods)                       |\n",
       "| isequal_canonical                |     0 bytes | isequal_canonical (generic function with 4 methods)              |\n",
       "| jump_function                    |     0 bytes | jump_function (generic function with 7 methods)                  |\n",
       "| jump_function_type               |     0 bytes | jump_function_type (generic function with 6 methods)             |\n",
       "| latex_formulation                |     0 bytes | latex_formulation (generic function with 1 method)               |\n",
       "| linear_terms                     |     0 bytes | linear_terms (generic function with 2 methods)                   |\n",
       "| list_of_constraint_types         |     0 bytes | list_of_constraint_types (generic function with 1 method)        |\n",
       "| lower_bound                      |     0 bytes | lower_bound (generic function with 1 method)                     |\n",
       "| lp_sensitivity_report            |     0 bytes | lp_sensitivity_report (generic function with 1 method)           |\n",
       "| map_coefficients                 |     0 bytes | map_coefficients (generic function with 2 methods)               |\n",
       "| map_coefficients_inplace!        |     0 bytes | map_coefficients_inplace! (generic function with 2 methods)      |\n",
       "| mode                             |     0 bytes | mode (generic function with 1 method)                            |\n",
       "| model_string                     |     0 bytes | model_string (generic function with 1 method)                    |\n",
       "| moi_function                     |     0 bytes | moi_function (generic function with 7 methods)                   |\n",
       "| moi_function_type                |     0 bytes | moi_function_type (generic function with 6 methods)              |\n",
       "| moi_set                          |     0 bytes | moi_set (generic function with 5 methods)                        |\n",
       "| name                             |     0 bytes | name (generic function with 5 methods)                           |\n",
       "| node_count                       |     0 bytes | node_count (generic function with 1 method)                      |\n",
       "| nonlinear_constraint_string      |     0 bytes | nonlinear_constraint_string (generic function with 1 method)     |\n",
       "| nonlinear_dual_start_value       |     0 bytes | nonlinear_dual_start_value (generic function with 1 method)      |\n",
       "| nonlinear_expr_string            |     0 bytes | nonlinear_expr_string (generic function with 1 method)           |\n",
       "| nonlinear_model                  |     0 bytes | nonlinear_model (generic function with 1 method)                 |\n",
       "| normalized_coefficient           |     0 bytes | normalized_coefficient (generic function with 1 method)          |\n",
       "| normalized_rhs                   |     0 bytes | normalized_rhs (generic function with 1 method)                  |\n",
       "| num_constraints                  |     0 bytes | num_constraints (generic function with 2 methods)                |\n",
       "| num_nonlinear_constraints        |     0 bytes | num_nonlinear_constraints (generic function with 1 method)       |\n",
       "| num_variables                    |     0 bytes | num_variables (generic function with 1 method)                   |\n",
       "| object_dictionary                |     0 bytes | object_dictionary (generic function with 1 method)               |\n",
       "| objective_bound                  |     0 bytes | objective_bound (generic function with 1 method)                 |\n",
       "| objective_function               |     0 bytes | objective_function (generic function with 2 methods)             |\n",
       "| objective_function_string        |     0 bytes | objective_function_string (generic function with 1 method)       |\n",
       "| objective_function_type          |     0 bytes | objective_function_type (generic function with 1 method)         |\n",
       "| objective_sense                  |     0 bytes | objective_sense (generic function with 1 method)                 |\n",
       "| objective_value                  |     0 bytes | objective_value (generic function with 1 method)                 |\n",
       "| operator_to_set                  |     0 bytes | operator_to_set (generic function with 4 methods)                |\n",
       "| operator_warn                    |     0 bytes | operator_warn (generic function with 2 methods)                  |\n",
       "| optimize!                        |     0 bytes | optimize! (generic function with 1 method)                       |\n",
       "| optimizer_index                  |     0 bytes | optimizer_index (generic function with 1 method)                 |\n",
       "| optimizer_with_attributes        |     0 bytes | optimizer_with_attributes (generic function with 1 method)       |\n",
       "| owner_model                      |     0 bytes | owner_model (generic function with 2 methods)                    |\n",
       "| parse_constraint                 |     0 bytes | parse_constraint (generic function with 1 method)                |\n",
       "| parse_constraint_call            |     0 bytes | parse_constraint_call (generic function with 5 methods)          |\n",
       "| parse_constraint_head            |     0 bytes | parse_constraint_head (generic function with 3 methods)          |\n",
       "| parse_one_operator_variable      |     0 bytes | parse_one_operator_variable (generic function with 5 methods)    |\n",
       "| parse_ternary_variable           |     0 bytes | parse_ternary_variable (generic function with 3 methods)         |\n",
       "| parse_variable                   |     0 bytes | parse_variable (generic function with 4 methods)                 |\n",
       "| primal_feasibility_report        |     0 bytes | primal_feasibility_report (generic function with 3 methods)      |\n",
       "| primal_status                    |     0 bytes | primal_status (generic function with 1 method)                   |\n",
       "| print_bridge_graph               |     0 bytes | print_bridge_graph (generic function with 2 methods)             |\n",
       "| quad_terms                       |     0 bytes | quad_terms (generic function with 1 method)                      |\n",
       "| raw_status                       |     0 bytes | raw_status (generic function with 1 method)                      |\n",
       "| read_from_file                   |     0 bytes | read_from_file (generic function with 1 method)                  |\n",
       "| reduced_cost                     |     0 bytes | reduced_cost (generic function with 1 method)                    |\n",
       "| register                         |     0 bytes | register (generic function with 3 methods)                       |\n",
       "| relative_gap                     |     0 bytes | relative_gap (generic function with 1 method)                    |\n",
       "| relax_integrality                |     0 bytes | relax_integrality (generic function with 1 method)               |\n",
       "| relax_with_penalty!              |     0 bytes | relax_with_penalty! (generic function with 2 methods)            |\n",
       "| reshape_set                      |     0 bytes | reshape_set (generic function with 5 methods)                    |\n",
       "| reshape_vector                   |     0 bytes | reshape_vector (generic function with 6 methods)                 |\n",
       "| result_count                     |     0 bytes | result_count (generic function with 1 method)                    |\n",
       "| reverse_sense                    |     0 bytes | reverse_sense (generic function with 5 methods)                  |\n",
       "| set_binary                       |     0 bytes | set_binary (generic function with 1 method)                      |\n",
       "| set_dual_start_value             |     0 bytes | set_dual_start_value (generic function with 3 methods)           |\n",
       "| set_integer                      |     0 bytes | set_integer (generic function with 1 method)                     |\n",
       "| set_lower_bound                  |     0 bytes | set_lower_bound (generic function with 1 method)                 |\n",
       "| set_name                         |     0 bytes | set_name (generic function with 2 methods)                       |\n",
       "| set_nonlinear_dual_start_value   |     0 bytes | set_nonlinear_dual_start_value (generic function with 2 methods) |\n",
       "| set_nonlinear_objective          |     0 bytes | set_nonlinear_objective (generic function with 1 method)         |\n",
       "| set_normalized_coefficient       |     0 bytes | set_normalized_coefficient (generic function with 1 method)      |\n",
       "| set_normalized_coefficients      |     0 bytes | set_normalized_coefficients (generic function with 1 method)     |\n",
       "| set_normalized_rhs               |     0 bytes | set_normalized_rhs (generic function with 1 method)              |\n",
       "| set_objective                    |     0 bytes | set_objective (generic function with 1 method)                   |\n",
       "| set_objective_coefficient        |     0 bytes | set_objective_coefficient (generic function with 1 method)       |\n",
       "| set_objective_function           |     0 bytes | set_objective_function (generic function with 4 methods)         |\n",
       "| set_objective_sense              |     0 bytes | set_objective_sense (generic function with 1 method)             |\n",
       "| set_optimize_hook                |     0 bytes | set_optimize_hook (generic function with 1 method)               |\n",
       "| set_optimizer                    |     0 bytes | set_optimizer (generic function with 1 method)                   |\n",
       "| set_optimizer_attribute          |     0 bytes | set_optimizer_attribute (generic function with 3 methods)        |\n",
       "| set_optimizer_attributes         |     0 bytes | set_optimizer_attributes (generic function with 1 method)        |\n",
       "| set_silent                       |     0 bytes | set_silent (generic function with 1 method)                      |\n",
       "| set_start_value                  |     0 bytes | set_start_value (generic function with 5 methods)                |\n",
       "| set_string_names_on_creation     |     0 bytes | set_string_names_on_creation (generic function with 3 methods)   |\n",
       "| set_time_limit_sec               |     0 bytes | set_time_limit_sec (generic function with 2 methods)             |\n",
       "| set_upper_bound                  |     0 bytes | set_upper_bound (generic function with 1 method)                 |\n",
       "| set_value                        |     0 bytes | set_value (generic function with 1 method)                       |\n",
       "| shadow_price                     |     0 bytes | shadow_price (generic function with 4 methods)                   |\n",
       "| shape                            |     0 bytes | shape (generic function with 2 methods)                          |\n",
       "| show_backend_summary             |     0 bytes | show_backend_summary (generic function with 1 method)            |\n",
       "| show_constraints_summary         |     0 bytes | show_constraints_summary (generic function with 1 method)        |\n",
       "| show_objective_function_summary  |     0 bytes | show_objective_function_summary (generic function with 1 method) |\n",
       "| simplex_iterations               |     0 bytes | simplex_iterations (generic function with 1 method)              |\n",
       "| solution_summary                 |     0 bytes | solution_summary (generic function with 1 method)                |\n",
       "| solve_time                       |     0 bytes | solve_time (generic function with 1 method)                      |\n",
       "| solver_name                      |     0 bytes | solver_name (generic function with 1 method)                     |\n",
       "| start_value                      |     0 bytes | start_value (generic function with 2 methods)                    |\n",
       "| termination_status               |     0 bytes | termination_status (generic function with 1 method)              |\n",
       "| time_limit_sec                   |     0 bytes | time_limit_sec (generic function with 1 method)                  |\n",
       "| unfix                            |     0 bytes | unfix (generic function with 1 method)                           |\n",
       "| unregister                       |     0 bytes | unregister (generic function with 1 method)                      |\n",
       "| unsafe_backend                   |     0 bytes | unsafe_backend (generic function with 4 methods)                 |\n",
       "| unset_binary                     |     0 bytes | unset_binary (generic function with 1 method)                    |\n",
       "| unset_integer                    |     0 bytes | unset_integer (generic function with 1 method)                   |\n",
       "| unset_silent                     |     0 bytes | unset_silent (generic function with 1 method)                    |\n",
       "| unset_time_limit_sec             |     0 bytes | unset_time_limit_sec (generic function with 1 method)            |\n",
       "| upper_bound                      |     0 bytes | upper_bound (generic function with 1 method)                     |\n",
       "| value                            |     0 bytes | value (generic function with 17 methods)                         |\n",
       "| variable_by_name                 |     0 bytes | variable_by_name (generic function with 1 method)                |\n",
       "| variable_ref_type                |     0 bytes | variable_ref_type (generic function with 2 methods)              |\n",
       "| vectorize                        |     0 bytes | vectorize (generic function with 9 methods)                      |\n",
       "| write_to_file                    |     0 bytes | write_to_file (generic function with 1 method)                   |\n"
      ],
      "text/plain": [
       "  name                                    size summary                                                         \n",
       "  –––––––––––––––––––––––––––––––– ––––––––––– ––––––––––––––––––––––––––––––––––––––––––––––––––––––––––––––––\n",
       "  @NLconstraint                        0 bytes @NLconstraint (macro with 1 method)                             \n",
       "  @NLconstraints                       0 bytes @NLconstraints (macro with 1 method)                            \n",
       "  @NLexpression                        0 bytes @NLexpression (macro with 1 method)                             \n",
       "  @NLexpressions                       0 bytes @NLexpressions (macro with 1 method)                            \n",
       "  @NLobjective                         0 bytes @NLobjective (macro with 1 method)                              \n",
       "  @NLparameter                         0 bytes @NLparameter (macro with 1 method)                              \n",
       "  @NLparameters                        0 bytes @NLparameters (macro with 1 method)                             \n",
       "  @build_constraint                    0 bytes @build_constraint (macro with 1 method)                         \n",
       "  @constraint                          0 bytes @constraint (macro with 1 method)                               \n",
       "  @constraints                         0 bytes @constraints (macro with 1 method)                              \n",
       "  @expression                          0 bytes @expression (macro with 1 method)                               \n",
       "  @expressions                         0 bytes @expressions (macro with 1 method)                              \n",
       "  @objective                           0 bytes @objective (macro with 1 method)                                \n",
       "  @variable                            0 bytes @variable (macro with 1 method)                                 \n",
       "  @variables                           0 bytes @variables (macro with 1 method)                                \n",
       "  ALMOST_DUAL_INFEASIBLE               4 bytes MathOptInterface.TerminationStatusCode                          \n",
       "  ALMOST_INFEASIBLE                    4 bytes MathOptInterface.TerminationStatusCode                          \n",
       "  ALMOST_LOCALLY_SOLVED                4 bytes MathOptInterface.TerminationStatusCode                          \n",
       "  ALMOST_OPTIMAL                       4 bytes MathOptInterface.TerminationStatusCode                          \n",
       "  AUTOMATIC                            4 bytes ModelMode                                                       \n",
       "  AbstractConstraint                 128 bytes DataType                                                        \n",
       "  AbstractJuMPScalar                 128 bytes DataType                                                        \n",
       "  AbstractModel                      128 bytes DataType                                                        \n",
       "  AbstractShape                      128 bytes DataType                                                        \n",
       "  AbstractVariable                   128 bytes DataType                                                        \n",
       "  AbstractVariableRef                128 bytes DataType                                                        \n",
       "  AbstractVectorSet                  128 bytes DataType                                                        \n",
       "  AffExpr                            168 bytes DataType                                                        \n",
       "  BinaryRef                            0 bytes BinaryRef (generic function with 1 method)                      \n",
       "  BridgeableConstraint                80 bytes UnionAll                                                        \n",
       "  ComplexPlane                       128 bytes DataType                                                        \n",
       "  ComplexVariable                    160 bytes UnionAll                                                        \n",
       "  ConstraintNotOwned                 160 bytes UnionAll                                                        \n",
       "  ConstraintRef                      120 bytes UnionAll                                                        \n",
       "  Containers                       971.296 KiB Module                                                          \n",
       "  DIRECT                               4 bytes ModelMode                                                       \n",
       "  DUAL_INFEASIBLE                      4 bytes MathOptInterface.TerminationStatusCode                          \n",
       "  FEASIBILITY_SENSE                    4 bytes MathOptInterface.OptimizationSense                              \n",
       "  FEASIBLE_POINT                       4 bytes MathOptInterface.ResultStatusCode                               \n",
       "  FixRef                               0 bytes FixRef (generic function with 1 method)                         \n",
       "  GenericAffExpr                      80 bytes UnionAll                                                        \n",
       "  GenericQuadExpr                     80 bytes UnionAll                                                        \n",
       "  HermitianMatrixShape               144 bytes DataType                                                        \n",
       "  HermitianPSDCone                   128 bytes DataType                                                        \n",
       "  INFEASIBILITY_CERTIFICATE            4 bytes MathOptInterface.ResultStatusCode                               \n",
       "  INFEASIBLE                           4 bytes MathOptInterface.TerminationStatusCode                          \n",
       "  INFEASIBLE_OR_UNBOUNDED              4 bytes MathOptInterface.TerminationStatusCode                          \n",
       "  INFEASIBLE_POINT                     4 bytes MathOptInterface.ResultStatusCode                               \n",
       "  INTERRUPTED                          4 bytes MathOptInterface.TerminationStatusCode                          \n",
       "  INVALID_MODEL                        4 bytes MathOptInterface.TerminationStatusCode                          \n",
       "  INVALID_OPTION                       4 bytes MathOptInterface.TerminationStatusCode                          \n",
       "  ITERATION_LIMIT                      4 bytes MathOptInterface.TerminationStatusCode                          \n",
       "  IntegerRef                           0 bytes IntegerRef (generic function with 1 method)                     \n",
       "  JuMP                               2.939 MiB Module                                                          \n",
       "  LOCALLY_INFEASIBLE                   4 bytes MathOptInterface.TerminationStatusCode                          \n",
       "  LOCALLY_SOLVED                       4 bytes MathOptInterface.TerminationStatusCode                          \n",
       "  LinearTermIterator                 120 bytes UnionAll                                                        \n",
       "  LowerBoundRef                        0 bytes LowerBoundRef (generic function with 1 method)                  \n",
       "  MANUAL                               4 bytes ModelMode                                                       \n",
       "  MAX_SENSE                            4 bytes MathOptInterface.OptimizationSense                              \n",
       "  MEMORY_LIMIT                         4 bytes MathOptInterface.TerminationStatusCode                          \n",
       "  MIN_SENSE                            4 bytes MathOptInterface.OptimizationSense                              \n",
       "  MOI                               26.180 MiB Module                                                          \n",
       "  MOIB                               2.153 MiB Module                                                          \n",
       "  MOIU                               5.445 MiB Module                                                          \n",
       "  Model                              232 bytes DataType                                                        \n",
       "  ModelMode                          128 bytes DataType                                                        \n",
       "  NEARLY_FEASIBLE_POINT                4 bytes MathOptInterface.ResultStatusCode                               \n",
       "  NEARLY_INFEASIBILITY_CERTIFICATE     4 bytes MathOptInterface.ResultStatusCode                               \n",
       "  NEARLY_REDUCTION_CERTIFICATE         4 bytes MathOptInterface.ResultStatusCode                               \n",
       "  NLPEvaluator                         0 bytes NLPEvaluator (generic function with 1 method)                   \n",
       "  NODE_LIMIT                           4 bytes MathOptInterface.TerminationStatusCode                          \n",
       "  NORM_LIMIT                           4 bytes MathOptInterface.TerminationStatusCode                          \n",
       "  NO_SOLUTION                          4 bytes MathOptInterface.ResultStatusCode                               \n",
       "  NUMERICAL_ERROR                      4 bytes MathOptInterface.TerminationStatusCode                          \n",
       "  NoOptimizer                        128 bytes DataType                                                        \n",
       "  NonlinearConstraintIndex           144 bytes DataType                                                        \n",
       "  NonlinearConstraintRef              40 bytes UnionAll                                                        \n",
       "  NonlinearExpression                152 bytes DataType                                                        \n",
       "  NonlinearParameter                 152 bytes DataType                                                        \n",
       "  OBJECTIVE_LIMIT                      4 bytes MathOptInterface.TerminationStatusCode                          \n",
       "  OPTIMAL                              4 bytes MathOptInterface.TerminationStatusCode                          \n",
       "  OPTIMIZE_NOT_CALLED                  4 bytes MathOptInterface.TerminationStatusCode                          \n",
       "  OTHER_ERROR                          4 bytes MathOptInterface.TerminationStatusCode                          \n",
       "  OTHER_LIMIT                          4 bytes MathOptInterface.TerminationStatusCode                          \n",
       "  OTHER_RESULT_STATUS                  4 bytes MathOptInterface.ResultStatusCode                               \n",
       "  OptimizationSense                  128 bytes DataType                                                        \n",
       "  OptimizeNotCalled                  128 bytes DataType                                                        \n",
       "  PSDCone                            128 bytes DataType                                                        \n",
       "  QuadExpr                           168 bytes DataType                                                        \n",
       "  QuadTermIterator                   120 bytes UnionAll                                                        \n",
       "  REDUCTION_CERTIFICATE                4 bytes MathOptInterface.ResultStatusCode                               \n",
       "  ReferenceMap                       152 bytes DataType                                                        \n",
       "  ResultStatusCode                   128 bytes DataType                                                        \n",
       "  RotatedSecondOrderCone             128 bytes DataType                                                        \n",
       "  SLOW_PROGRESS                        4 bytes MathOptInterface.TerminationStatusCode                          \n",
       "  SOLUTION_LIMIT                       4 bytes MathOptInterface.TerminationStatusCode                          \n",
       "  SOS1                               144 bytes DataType                                                        \n",
       "  SOS2                               144 bytes DataType                                                        \n",
       "  ScalarConstraint                    80 bytes UnionAll                                                        \n",
       "  ScalarShape                        128 bytes DataType                                                        \n",
       "  ScalarVariable                     160 bytes UnionAll                                                        \n",
       "  SecondOrderCone                    128 bytes DataType                                                        \n",
       "  SensitivityReport                  152 bytes DataType                                                        \n",
       "  SkewSymmetricMatrixShape           144 bytes DataType                                                        \n",
       "  SkewSymmetricMatrixSpace           128 bytes DataType                                                        \n",
       "  SquareMatrixShape                  144 bytes DataType                                                        \n",
       "  SymmetricMatrixShape               144 bytes DataType                                                        \n",
       "  SymmetricMatrixSpace               128 bytes DataType                                                        \n",
       "  TIME_LIMIT                           4 bytes MathOptInterface.TerminationStatusCode                          \n",
       "  TerminationStatusCode              128 bytes DataType                                                        \n",
       "  UNKNOWN_RESULT_STATUS                4 bytes MathOptInterface.ResultStatusCode                               \n",
       "  UnorderedPair                       40 bytes UnionAll                                                        \n",
       "  UpperBoundRef                        0 bytes UpperBoundRef (generic function with 1 method)                  \n",
       "  VariableConstrainedOnCreation       80 bytes UnionAll                                                        \n",
       "  VariableInfo                       160 bytes UnionAll                                                        \n",
       "  VariableNotOwned                    40 bytes UnionAll                                                        \n",
       "  VariableRef                        152 bytes DataType                                                        \n",
       "  VariablesConstrainedOnCreation     120 bytes UnionAll                                                        \n",
       "  VectorConstraint                   120 bytes UnionAll                                                        \n",
       "  VectorShape                        128 bytes DataType                                                        \n",
       "  add_bridge                           0 bytes add_bridge (generic function with 1 method)                     \n",
       "  add_constraint                       0 bytes add_constraint (generic function with 4 methods)                \n",
       "  add_nonlinear_constraint             0 bytes add_nonlinear_constraint (generic function with 1 method)       \n",
       "  add_nonlinear_expression             0 bytes add_nonlinear_expression (generic function with 1 method)       \n",
       "  add_nonlinear_parameter              0 bytes add_nonlinear_parameter (generic function with 1 method)        \n",
       "  add_to_expression!                   0 bytes add_to_expression! (generic function with 26 methods)           \n",
       "  add_to_function_constant             0 bytes add_to_function_constant (generic function with 1 method)       \n",
       "  add_variable                         0 bytes add_variable (generic function with 9 methods)                  \n",
       "  all_constraints                      0 bytes all_constraints (generic function with 2 methods)               \n",
       "  all_nonlinear_constraints            0 bytes all_nonlinear_constraints (generic function with 1 method)      \n",
       "  all_variables                        0 bytes all_variables (generic function with 1 method)                  \n",
       "  anonymous_name                       0 bytes anonymous_name (generic function with 3 methods)                \n",
       "  backend                              0 bytes backend (generic function with 1 method)                        \n",
       "  barrier_iterations                   0 bytes barrier_iterations (generic function with 1 method)             \n",
       "  bridge_constraints                   0 bytes bridge_constraints (generic function with 1 method)             \n",
       "  build_constraint                     0 bytes build_constraint (generic function with 25 methods)             \n",
       "  build_variable                       0 bytes build_variable (generic function with 14 methods)               \n",
       "  callback_node_status                 0 bytes callback_node_status (generic function with 1 method)           \n",
       "  callback_value                       0 bytes callback_value (generic function with 2 methods)                \n",
       "  check_belongs_to_model               0 bytes check_belongs_to_model (generic function with 6 methods)        \n",
       "  coefficient                          0 bytes coefficient (generic function with 6 methods)                   \n",
       "  compute_conflict!                    0 bytes compute_conflict! (generic function with 1 method)              \n",
       "  constant                             0 bytes constant (generic function with 2 methods)                      \n",
       "  constraint_by_name                   0 bytes constraint_by_name (generic function with 3 methods)            \n",
       "  constraint_object                    0 bytes constraint_object (generic function with 2 methods)             \n",
       "  constraint_ref_with_index            0 bytes constraint_ref_with_index (generic function with 2 methods)     \n",
       "  constraint_string                    0 bytes constraint_string (generic function with 4 methods)             \n",
       "  constraints_string                   0 bytes constraints_string (generic function with 1 method)             \n",
       "  copy_conflict                        0 bytes copy_conflict (generic function with 1 method)                  \n",
       "  copy_extension_data                  0 bytes copy_extension_data (generic function with 1 method)            \n",
       "  copy_model                           0 bytes copy_model (generic function with 1 method)                     \n",
       "  delete                               0 bytes delete (generic function with 5 methods)                        \n",
       "  delete_lower_bound                   0 bytes delete_lower_bound (generic function with 1 method)             \n",
       "  delete_upper_bound                   0 bytes delete_upper_bound (generic function with 1 method)             \n",
       "  direct_model                         0 bytes direct_model (generic function with 2 methods)                  \n",
       "  drop_zeros!                          0 bytes drop_zeros! (generic function with 2 methods)                   \n",
       "  dual                                 0 bytes dual (generic function with 3 methods)                          \n",
       "  dual_objective_value                 0 bytes dual_objective_value (generic function with 1 method)           \n",
       "  dual_shape                           0 bytes dual_shape (generic function with 1 method)                     \n",
       "  dual_start_value                     0 bytes dual_start_value (generic function with 1 method)               \n",
       "  dual_status                          0 bytes dual_status (generic function with 1 method)                    \n",
       "  error_if_direct_mode                 0 bytes error_if_direct_mode (generic function with 1 method)           \n",
       "  fix                                  0 bytes fix (generic function with 1 method)                            \n",
       "  fix_value                            0 bytes fix_value (generic function with 1 method)                      \n",
       "  function_string                      0 bytes function_string (generic function with 11 methods)              \n",
       "  get_optimizer_attribute              0 bytes get_optimizer_attribute (generic function with 3 methods)       \n",
       "  has_duals                            0 bytes has_duals (generic function with 1 method)                      \n",
       "  has_lower_bound                      0 bytes has_lower_bound (generic function with 1 method)                \n",
       "  has_start_value                      0 bytes has_start_value (generic function with 1 method)                \n",
       "  has_upper_bound                      0 bytes has_upper_bound (generic function with 1 method)                \n",
       "  has_values                           0 bytes has_values (generic function with 1 method)                     \n",
       "  in_set_string                        0 bytes in_set_string (generic function with 11 methods)                \n",
       "  index                                0 bytes index (generic function with 4 methods)                         \n",
       "  is_binary                            0 bytes is_binary (generic function with 1 method)                      \n",
       "  is_fixed                             0 bytes is_fixed (generic function with 1 method)                       \n",
       "  is_integer                           0 bytes is_integer (generic function with 1 method)                     \n",
       "  is_valid                             0 bytes is_valid (generic function with 3 methods)                      \n",
       "  isequal_canonical                    0 bytes isequal_canonical (generic function with 4 methods)             \n",
       "  jump_function                        0 bytes jump_function (generic function with 7 methods)                 \n",
       "  jump_function_type                   0 bytes jump_function_type (generic function with 6 methods)            \n",
       "  latex_formulation                    0 bytes latex_formulation (generic function with 1 method)              \n",
       "  linear_terms                         0 bytes linear_terms (generic function with 2 methods)                  \n",
       "  list_of_constraint_types             0 bytes list_of_constraint_types (generic function with 1 method)       \n",
       "  lower_bound                          0 bytes lower_bound (generic function with 1 method)                    \n",
       "  lp_sensitivity_report                0 bytes lp_sensitivity_report (generic function with 1 method)          \n",
       "  map_coefficients                     0 bytes map_coefficients (generic function with 2 methods)              \n",
       "  map_coefficients_inplace!            0 bytes map_coefficients_inplace! (generic function with 2 methods)     \n",
       "  mode                                 0 bytes mode (generic function with 1 method)                           \n",
       "  model_string                         0 bytes model_string (generic function with 1 method)                   \n",
       "  moi_function                         0 bytes moi_function (generic function with 7 methods)                  \n",
       "  moi_function_type                    0 bytes moi_function_type (generic function with 6 methods)             \n",
       "  moi_set                              0 bytes moi_set (generic function with 5 methods)                       \n",
       "  name                                 0 bytes name (generic function with 5 methods)                          \n",
       "  node_count                           0 bytes node_count (generic function with 1 method)                     \n",
       "  nonlinear_constraint_string          0 bytes nonlinear_constraint_string (generic function with 1 method)    \n",
       "  nonlinear_dual_start_value           0 bytes nonlinear_dual_start_value (generic function with 1 method)     \n",
       "  nonlinear_expr_string                0 bytes nonlinear_expr_string (generic function with 1 method)          \n",
       "  nonlinear_model                      0 bytes nonlinear_model (generic function with 1 method)                \n",
       "  normalized_coefficient               0 bytes normalized_coefficient (generic function with 1 method)         \n",
       "  normalized_rhs                       0 bytes normalized_rhs (generic function with 1 method)                 \n",
       "  num_constraints                      0 bytes num_constraints (generic function with 2 methods)               \n",
       "  num_nonlinear_constraints            0 bytes num_nonlinear_constraints (generic function with 1 method)      \n",
       "  num_variables                        0 bytes num_variables (generic function with 1 method)                  \n",
       "  object_dictionary                    0 bytes object_dictionary (generic function with 1 method)              \n",
       "  objective_bound                      0 bytes objective_bound (generic function with 1 method)                \n",
       "  objective_function                   0 bytes objective_function (generic function with 2 methods)            \n",
       "  objective_function_string            0 bytes objective_function_string (generic function with 1 method)      \n",
       "  objective_function_type              0 bytes objective_function_type (generic function with 1 method)        \n",
       "  objective_sense                      0 bytes objective_sense (generic function with 1 method)                \n",
       "  objective_value                      0 bytes objective_value (generic function with 1 method)                \n",
       "  operator_to_set                      0 bytes operator_to_set (generic function with 4 methods)               \n",
       "  operator_warn                        0 bytes operator_warn (generic function with 2 methods)                 \n",
       "  optimize!                            0 bytes optimize! (generic function with 1 method)                      \n",
       "  optimizer_index                      0 bytes optimizer_index (generic function with 1 method)                \n",
       "  optimizer_with_attributes            0 bytes optimizer_with_attributes (generic function with 1 method)      \n",
       "  owner_model                          0 bytes owner_model (generic function with 2 methods)                   \n",
       "  parse_constraint                     0 bytes parse_constraint (generic function with 1 method)               \n",
       "  parse_constraint_call                0 bytes parse_constraint_call (generic function with 5 methods)         \n",
       "  parse_constraint_head                0 bytes parse_constraint_head (generic function with 3 methods)         \n",
       "  parse_one_operator_variable          0 bytes parse_one_operator_variable (generic function with 5 methods)   \n",
       "  parse_ternary_variable               0 bytes parse_ternary_variable (generic function with 3 methods)        \n",
       "  parse_variable                       0 bytes parse_variable (generic function with 4 methods)                \n",
       "  primal_feasibility_report            0 bytes primal_feasibility_report (generic function with 3 methods)     \n",
       "  primal_status                        0 bytes primal_status (generic function with 1 method)                  \n",
       "  print_bridge_graph                   0 bytes print_bridge_graph (generic function with 2 methods)            \n",
       "  quad_terms                           0 bytes quad_terms (generic function with 1 method)                     \n",
       "  raw_status                           0 bytes raw_status (generic function with 1 method)                     \n",
       "  read_from_file                       0 bytes read_from_file (generic function with 1 method)                 \n",
       "  reduced_cost                         0 bytes reduced_cost (generic function with 1 method)                   \n",
       "  register                             0 bytes register (generic function with 3 methods)                      \n",
       "  relative_gap                         0 bytes relative_gap (generic function with 1 method)                   \n",
       "  relax_integrality                    0 bytes relax_integrality (generic function with 1 method)              \n",
       "  relax_with_penalty!                  0 bytes relax_with_penalty! (generic function with 2 methods)           \n",
       "  reshape_set                          0 bytes reshape_set (generic function with 5 methods)                   \n",
       "  reshape_vector                       0 bytes reshape_vector (generic function with 6 methods)                \n",
       "  result_count                         0 bytes result_count (generic function with 1 method)                   \n",
       "  reverse_sense                        0 bytes reverse_sense (generic function with 5 methods)                 \n",
       "  set_binary                           0 bytes set_binary (generic function with 1 method)                     \n",
       "  set_dual_start_value                 0 bytes set_dual_start_value (generic function with 3 methods)          \n",
       "  set_integer                          0 bytes set_integer (generic function with 1 method)                    \n",
       "  set_lower_bound                      0 bytes set_lower_bound (generic function with 1 method)                \n",
       "  set_name                             0 bytes set_name (generic function with 2 methods)                      \n",
       "  set_nonlinear_dual_start_value       0 bytes set_nonlinear_dual_start_value (generic function with 2 methods)\n",
       "  set_nonlinear_objective              0 bytes set_nonlinear_objective (generic function with 1 method)        \n",
       "  set_normalized_coefficient           0 bytes set_normalized_coefficient (generic function with 1 method)     \n",
       "  set_normalized_coefficients          0 bytes set_normalized_coefficients (generic function with 1 method)    \n",
       "  set_normalized_rhs                   0 bytes set_normalized_rhs (generic function with 1 method)             \n",
       "  set_objective                        0 bytes set_objective (generic function with 1 method)                  \n",
       "  set_objective_coefficient            0 bytes set_objective_coefficient (generic function with 1 method)      \n",
       "  set_objective_function               0 bytes set_objective_function (generic function with 4 methods)        \n",
       "  set_objective_sense                  0 bytes set_objective_sense (generic function with 1 method)            \n",
       "  set_optimize_hook                    0 bytes set_optimize_hook (generic function with 1 method)              \n",
       "  set_optimizer                        0 bytes set_optimizer (generic function with 1 method)                  \n",
       "  set_optimizer_attribute              0 bytes set_optimizer_attribute (generic function with 3 methods)       \n",
       "  set_optimizer_attributes             0 bytes set_optimizer_attributes (generic function with 1 method)       \n",
       "  set_silent                           0 bytes set_silent (generic function with 1 method)                     \n",
       "  set_start_value                      0 bytes set_start_value (generic function with 5 methods)               \n",
       "  set_string_names_on_creation         0 bytes set_string_names_on_creation (generic function with 3 methods)  \n",
       "  set_time_limit_sec                   0 bytes set_time_limit_sec (generic function with 2 methods)            \n",
       "  set_upper_bound                      0 bytes set_upper_bound (generic function with 1 method)                \n",
       "  set_value                            0 bytes set_value (generic function with 1 method)                      \n",
       "  shadow_price                         0 bytes shadow_price (generic function with 4 methods)                  \n",
       "  shape                                0 bytes shape (generic function with 2 methods)                         \n",
       "  show_backend_summary                 0 bytes show_backend_summary (generic function with 1 method)           \n",
       "  show_constraints_summary             0 bytes show_constraints_summary (generic function with 1 method)       \n",
       "  show_objective_function_summary      0 bytes show_objective_function_summary (generic function with 1 method)\n",
       "  simplex_iterations                   0 bytes simplex_iterations (generic function with 1 method)             \n",
       "  solution_summary                     0 bytes solution_summary (generic function with 1 method)               \n",
       "  solve_time                           0 bytes solve_time (generic function with 1 method)                     \n",
       "  solver_name                          0 bytes solver_name (generic function with 1 method)                    \n",
       "  start_value                          0 bytes start_value (generic function with 2 methods)                   \n",
       "  termination_status                   0 bytes termination_status (generic function with 1 method)             \n",
       "  time_limit_sec                       0 bytes time_limit_sec (generic function with 1 method)                 \n",
       "  unfix                                0 bytes unfix (generic function with 1 method)                          \n",
       "  unregister                           0 bytes unregister (generic function with 1 method)                     \n",
       "  unsafe_backend                       0 bytes unsafe_backend (generic function with 4 methods)                \n",
       "  unset_binary                         0 bytes unset_binary (generic function with 1 method)                   \n",
       "  unset_integer                        0 bytes unset_integer (generic function with 1 method)                  \n",
       "  unset_silent                         0 bytes unset_silent (generic function with 1 method)                   \n",
       "  unset_time_limit_sec                 0 bytes unset_time_limit_sec (generic function with 1 method)           \n",
       "  upper_bound                          0 bytes upper_bound (generic function with 1 method)                    \n",
       "  value                                0 bytes value (generic function with 17 methods)                        \n",
       "  variable_by_name                     0 bytes variable_by_name (generic function with 1 method)               \n",
       "  variable_ref_type                    0 bytes variable_ref_type (generic function with 2 methods)             \n",
       "  vectorize                            0 bytes vectorize (generic function with 9 methods)                     \n",
       "  write_to_file                        0 bytes write_to_file (generic function with 1 method)                  "
      ]
     },
     "execution_count": 2,
     "metadata": {},
     "output_type": "execute_result"
    }
   ],
   "source": [
    "# Methods/dir()\n",
    "varinfo(JuMP)"
   ]
  },
  {
   "cell_type": "code",
   "execution_count": 3,
   "id": "7443bd1c",
   "metadata": {},
   "outputs": [],
   "source": [
    "# Load our solver\n",
    "using GLPK"
   ]
  },
  {
   "cell_type": "code",
   "execution_count": 4,
   "id": "4960ad63",
   "metadata": {},
   "outputs": [
    {
     "data": {
      "text/plain": [
       "A JuMP Model\n",
       "Feasibility problem with:\n",
       "Variables: 0\n",
       "Model mode: AUTOMATIC\n",
       "CachingOptimizer state: EMPTY_OPTIMIZER\n",
       "Solver name: GLPK"
      ]
     },
     "execution_count": 4,
     "metadata": {},
     "output_type": "execute_result"
    }
   ],
   "source": [
    "# Define our model\n",
    "m = Model(GLPK.Optimizer)"
   ]
  },
  {
   "cell_type": "code",
   "execution_count": 5,
   "id": "a7e833e8",
   "metadata": {},
   "outputs": [
    {
     "data": {
      "text/latex": [
       "$$ y $$"
      ],
      "text/plain": [
       "y"
      ]
     },
     "execution_count": 5,
     "metadata": {},
     "output_type": "execute_result"
    }
   ],
   "source": [
    "# Create our variables\n",
    "@variable(m, x>=0)\n",
    "@variable(m, y>=0);\n"
   ]
  },
  {
   "cell_type": "code",
   "execution_count": 6,
   "id": "237e68a1",
   "metadata": {},
   "outputs": [
    {
     "data": {
      "text/latex": [
       "$$ 5 x + 4 y \\leq 35.0 $$"
      ],
      "text/plain": [
       "5 x + 4 y <= 35.0"
      ]
     },
     "execution_count": 6,
     "metadata": {},
     "output_type": "execute_result"
    }
   ],
   "source": [
    "# Specify contstraint\n",
    "@constraint(m, x + y <= 10)\n",
    "@constraint(m, x - y >= 3)\n",
    "@constraint(m, 5*x + 4*y <= 35);"
   ]
  },
  {
   "cell_type": "code",
   "execution_count": 7,
   "id": "322fb512",
   "metadata": {},
   "outputs": [
    {
     "data": {
      "text/latex": [
       "$$ 5 x + 6 y $$"
      ],
      "text/plain": [
       "5 x + 6 y"
      ]
     },
     "execution_count": 7,
     "metadata": {},
     "output_type": "execute_result"
    }
   ],
   "source": [
    "# Define Objective Function\n",
    "@objective(m,Max,5x + 6y);"
   ]
  },
  {
   "cell_type": "code",
   "execution_count": 8,
   "id": "15567653",
   "metadata": {},
   "outputs": [
    {
     "name": "stdout",
     "output_type": "stream",
     "text": [
      "m = A JuMP Model\n",
      "Maximization problem with:\n",
      "Variables: 2\n",
      "Objective function type: AffExpr\n",
      "`AffExpr`-in-`MathOptInterface.GreaterThan{Float64}`: 1 constraint\n",
      "`AffExpr`-in-`MathOptInterface.LessThan{Float64}`: 2 constraints\n",
      "`VariableRef`-in-`MathOptInterface.GreaterThan{Float64}`: 2 constraints\n",
      "Model mode: AUTOMATIC\n",
      "CachingOptimizer state: EMPTY_OPTIMIZER\n",
      "Solver name: GLPK\n",
      "Names registered in the model: x, y\n"
     ]
    },
    {
     "data": {
      "text/plain": [
       "A JuMP Model\n",
       "Maximization problem with:\n",
       "Variables: 2\n",
       "Objective function type: AffExpr\n",
       "`AffExpr`-in-`MathOptInterface.GreaterThan{Float64}`: 1 constraint\n",
       "`AffExpr`-in-`MathOptInterface.LessThan{Float64}`: 2 constraints\n",
       "`VariableRef`-in-`MathOptInterface.GreaterThan{Float64}`: 2 constraints\n",
       "Model mode: AUTOMATIC\n",
       "CachingOptimizer state: EMPTY_OPTIMIZER\n",
       "Solver name: GLPK\n",
       "Names registered in the model: x, y"
      ]
     },
     "execution_count": 8,
     "metadata": {},
     "output_type": "execute_result"
    }
   ],
   "source": [
    "#  summary\n",
    "@show m"
   ]
  },
  {
   "cell_type": "code",
   "execution_count": 9,
   "id": "d23ca131",
   "metadata": {},
   "outputs": [],
   "source": [
    "# Solving/Optimizing --> write JuMP to avoid ambiguity with other packages\n",
    "JuMP.optimize!(m)"
   ]
  },
  {
   "cell_type": "code",
   "execution_count": 15,
   "id": "b3b36581",
   "metadata": {},
   "outputs": [
    {
     "name": "stdout",
     "output_type": "stream",
     "text": [
      "JuMP.has_values(m) = true\n",
      "JuMP.termination_status(m) = MathOptInterface.OPTIMAL\n",
      "JuMP.primal_status(m) = MathOptInterface.FEASIBLE_POINT\n",
      "JuMP.dual_status(m) = MathOptInterface.FEASIBLE_POINT\n"
     ]
    }
   ],
   "source": [
    "#Status\n",
    "@show JuMP.has_values(m)\n",
    "@show JuMP.termination_status(m)\n",
    "@show JuMP.primal_status(m)\n",
    "@show JuMP.dual_status(m);"
   ]
  },
  {
   "cell_type": "code",
   "execution_count": 11,
   "id": "4ec98b1e",
   "metadata": {},
   "outputs": [
    {
     "data": {
      "text/plain": [
       "Enum MathOptInterface.TerminationStatusCode:\n",
       "OPTIMIZE_NOT_CALLED = 0\n",
       "OPTIMAL = 1\n",
       "INFEASIBLE = 2\n",
       "DUAL_INFEASIBLE = 3\n",
       "LOCALLY_SOLVED = 4\n",
       "LOCALLY_INFEASIBLE = 5\n",
       "INFEASIBLE_OR_UNBOUNDED = 6\n",
       "ALMOST_OPTIMAL = 7\n",
       "ALMOST_INFEASIBLE = 8\n",
       "ALMOST_DUAL_INFEASIBLE = 9\n",
       "ALMOST_LOCALLY_SOLVED = 10\n",
       "ITERATION_LIMIT = 11\n",
       "TIME_LIMIT = 12\n",
       "NODE_LIMIT = 13\n",
       "SOLUTION_LIMIT = 14\n",
       "MEMORY_LIMIT = 15\n",
       "OBJECTIVE_LIMIT = 16\n",
       "NORM_LIMIT = 17\n",
       "OTHER_LIMIT = 18\n",
       "SLOW_PROGRESS = 19\n",
       "NUMERICAL_ERROR = 20\n",
       "INVALID_MODEL = 21\n",
       "INVALID_OPTION = 22\n",
       "INTERRUPTED = 23\n",
       "OTHER_ERROR = 24"
      ]
     },
     "metadata": {},
     "output_type": "display_data"
    }
   ],
   "source": [
    "#Status Code\n",
    "display(typeof(MOI.OPTIMAL))"
   ]
  },
  {
   "cell_type": "code",
   "execution_count": 18,
   "id": "4883393f",
   "metadata": {},
   "outputs": [
    {
     "data": {
      "text/plain": [
       "OPTIMAL::TerminationStatusCode = 1"
      ]
     },
     "execution_count": 18,
     "metadata": {},
     "output_type": "execute_result"
    }
   ],
   "source": [
    "termination_status(m)"
   ]
  },
  {
   "cell_type": "code",
   "execution_count": 17,
   "id": "781f47d3",
   "metadata": {},
   "outputs": [
    {
     "data": {
      "text/plain": [
       "Enum MathOptInterface.ResultStatusCode:\n",
       "NO_SOLUTION = 0\n",
       "FEASIBLE_POINT = 1\n",
       "NEARLY_FEASIBLE_POINT = 2\n",
       "INFEASIBLE_POINT = 3\n",
       "INFEASIBILITY_CERTIFICATE = 4\n",
       "NEARLY_INFEASIBILITY_CERTIFICATE = 5\n",
       "REDUCTION_CERTIFICATE = 6\n",
       "NEARLY_REDUCTION_CERTIFICATE = 7\n",
       "UNKNOWN_RESULT_STATUS = 8\n",
       "OTHER_RESULT_STATUS = 9"
      ]
     },
     "metadata": {},
     "output_type": "display_data"
    }
   ],
   "source": [
    "display(typeof(MOI.FEASIBLE_POINT))"
   ]
  },
  {
   "cell_type": "code",
   "execution_count": 19,
   "id": "39416ca5",
   "metadata": {},
   "outputs": [
    {
     "data": {
      "text/plain": [
       "FEASIBLE_POINT::ResultStatusCode = 1"
      ]
     },
     "execution_count": 19,
     "metadata": {},
     "output_type": "execute_result"
    }
   ],
   "source": [
    "primal_status(m)"
   ]
  },
  {
   "cell_type": "code",
   "execution_count": 12,
   "id": "eda28bf2",
   "metadata": {},
   "outputs": [
    {
     "name": "stdout",
     "output_type": "stream",
     "text": [
      "value(x) = 5.222222222222222\n",
      "value(y) = 2.2222222222222223\n"
     ]
    },
    {
     "data": {
      "text/plain": [
       "2.2222222222222223"
      ]
     },
     "execution_count": 12,
     "metadata": {},
     "output_type": "execute_result"
    }
   ],
   "source": [
    "# Get our results\n",
    "@show value(x)\n",
    "@show value(y)"
   ]
  },
  {
   "cell_type": "code",
   "execution_count": 20,
   "id": "007f01eb",
   "metadata": {},
   "outputs": [
    {
     "name": "stdout",
     "output_type": "stream",
     "text": [
      "objective_value(m) = 39.44444444444444\n"
     ]
    },
    {
     "data": {
      "text/plain": [
       "39.44444444444444"
      ]
     },
     "execution_count": 20,
     "metadata": {},
     "output_type": "execute_result"
    }
   ],
   "source": [
    "# Show Objective Value\n",
    "@show objective_value(m)"
   ]
  },
  {
   "cell_type": "markdown",
   "id": "9993834d",
   "metadata": {},
   "source": [
    "## Collections of variables/constraints and summation in JuMP\n",
    "from: https://www.youtube.com/watch?v=RJsZDk-27mk&list=WL "
   ]
  },
  {
   "cell_type": "code",
   "execution_count": 22,
   "id": "944d0eca",
   "metadata": {},
   "outputs": [
    {
     "data": {
      "text/plain": [
       "10-element Vector{VariableRef}:\n",
       " x[1]\n",
       " x[2]\n",
       " x[3]\n",
       " x[4]\n",
       " x[5]\n",
       " x[6]\n",
       " x[7]\n",
       " x[8]\n",
       " x[9]\n",
       " x[10]"
      ]
     },
     "execution_count": 22,
     "metadata": {},
     "output_type": "execute_result"
    }
   ],
   "source": [
    "model = Model()\n",
    "@variable(model, x[1:10] >= 0)"
   ]
  },
  {
   "cell_type": "code",
   "execution_count": 23,
   "id": "3049152d",
   "metadata": {},
   "outputs": [
    {
     "data": {
      "text/plain": [
       "2-dimensional DenseAxisArray{VariableRef,2,...} with index sets:\n",
       "    Dimension 1, Base.OneTo(10)\n",
       "    Dimension 2, [\"red\", \"blue\"]\n",
       "And data, a 10×2 Matrix{VariableRef}:\n",
       " y[1,red]   y[1,blue]\n",
       " y[2,red]   y[2,blue]\n",
       " y[3,red]   y[3,blue]\n",
       " y[4,red]   y[4,blue]\n",
       " y[5,red]   y[5,blue]\n",
       " y[6,red]   y[6,blue]\n",
       " y[7,red]   y[7,blue]\n",
       " y[8,red]   y[8,blue]\n",
       " y[9,red]   y[9,blue]\n",
       " y[10,red]  y[10,blue]"
      ]
     },
     "execution_count": 23,
     "metadata": {},
     "output_type": "execute_result"
    }
   ],
   "source": [
    "@variable(model, y[1:10,[\"red\",\"blue\"]] <= 1)"
   ]
  },
  {
   "cell_type": "code",
   "execution_count": 25,
   "id": "55df55f5",
   "metadata": {},
   "outputs": [
    {
     "data": {
      "text/plain": [
       "JuMP.Containers.SparseAxisArray{VariableRef, 2, Tuple{Int64, Int64}} with 45 entries:\n",
       "  [1, 5 ]  =  z[1,5]\n",
       "  [1, 9 ]  =  z[1,9]\n",
       "  [2, 10]  =  z[2,10]\n",
       "  [2, 3 ]  =  z[2,3]\n",
       "  [2, 4 ]  =  z[2,4]\n",
       "  [2, 8 ]  =  z[2,8]\n",
       "  [3, 5 ]  =  z[3,5]\n",
       "  [3, 7 ]  =  z[3,7]\n",
       "  [3, 9 ]  =  z[3,9]\n",
       "  [4, 10]  =  z[4,10]\n",
       "  [4, 5 ]  =  z[4,5]\n",
       "           ⋮\n",
       "  [4, 6 ]  =  z[4,6]\n",
       "  [4, 7 ]  =  z[4,7]\n",
       "  [4, 8 ]  =  z[4,8]\n",
       "  [5, 6 ]  =  z[5,6]\n",
       "  [5, 7 ]  =  z[5,7]\n",
       "  [6, 10]  =  z[6,10]\n",
       "  [6, 7 ]  =  z[6,7]\n",
       "  [7, 10]  =  z[7,10]\n",
       "  [7, 8 ]  =  z[7,8]\n",
       "  [8, 9 ]  =  z[8,9]"
      ]
     },
     "execution_count": 25,
     "metadata": {},
     "output_type": "execute_result"
    }
   ],
   "source": [
    "using Random\n",
    "u = rand(10)\n",
    "@variable(model, i <= z[i=1:10,j=(i+1):10] <= u[j])"
   ]
  },
  {
   "cell_type": "code",
   "execution_count": 26,
   "id": "16a9721c",
   "metadata": {},
   "outputs": [
    {
     "data": {
      "text/plain": [
       "JuMP.Containers.SparseAxisArray{VariableRef, 2, Tuple{Int64, String}} with 15 entries:\n",
       "  [1, red  ]  =  w[1,red]\n",
       "  [10, blue]  =  w[10,blue]\n",
       "  [10, red ]  =  w[10,red]\n",
       "  [2, blue ]  =  w[2,blue]\n",
       "  [2, red  ]  =  w[2,red]\n",
       "  [3, red  ]  =  w[3,red]\n",
       "  [4, blue ]  =  w[4,blue]\n",
       "  [4, red  ]  =  w[4,red]\n",
       "  [5, red  ]  =  w[5,red]\n",
       "  [6, blue ]  =  w[6,blue]\n",
       "  [6, red  ]  =  w[6,red]\n",
       "              ⋮\n",
       "  [7, red  ]  =  w[7,red]\n",
       "  [8, blue ]  =  w[8,blue]\n",
       "  [8, red  ]  =  w[8,red]\n",
       "  [9, red  ]  =  w[9,red]"
      ]
     },
     "execution_count": 26,
     "metadata": {},
     "output_type": "execute_result"
    }
   ],
   "source": [
    "@variable(model, w[i=1:10, c = [\"red\",\"blue\"]; iseven(i) || c == \"red\"] >= 0)"
   ]
  },
  {
   "cell_type": "code",
   "execution_count": 27,
   "id": "b52aa977",
   "metadata": {},
   "outputs": [
    {
     "data": {
      "text/latex": [
       "$$ x_{1} + x_{2} + x_{3} + x_{4} + x_{5} + x_{6} + x_{7} + x_{8} + x_{9} + x_{10} \\leq 1.0 $$"
      ],
      "text/plain": [
       "x[1] + x[2] + x[3] + x[4] + x[5] + x[6] + x[7] + x[8] + x[9] + x[10] <= 1.0"
      ]
     },
     "execution_count": 27,
     "metadata": {},
     "output_type": "execute_result"
    }
   ],
   "source": [
    "@constraint(model, sum(x[i] for i in 1:10) <= 1)"
   ]
  },
  {
   "cell_type": "code",
   "execution_count": 29,
   "id": "3156f976",
   "metadata": {},
   "outputs": [
    {
     "data": {
      "text/latex": [
       "$$ 2 y_{1,red} + 2 y_{2,red} + 2 y_{3,red} + 2 y_{4,red} + 2 y_{5,red} + 2 y_{6,red} + 2 y_{7,red} + 2 y_{8,red} + 2 y_{9,red} + 2 y_{10,red} + 3 y_{1,blue} + 3 y_{2,blue} + 3 y_{3,blue} + 3 y_{4,blue} + 3 y_{5,blue} + 3 y_{6,blue} + 3 y_{7,blue} + 3 y_{8,blue} + 3 y_{9,blue} + 3 y_{10,blue} = 1.0 $$"
      ],
      "text/plain": [
       "2 y[1,red] + 2 y[2,red] + 2 y[3,red] + 2 y[4,red] + 2 y[5,red] + 2 y[6,red] + 2 y[7,red] + 2 y[8,red] + 2 y[9,red] + 2 y[10,red] + 3 y[1,blue] + 3 y[2,blue] + 3 y[3,blue] + 3 y[4,blue] + 3 y[5,blue] + 3 y[6,blue] + 3 y[7,blue] + 3 y[8,blue] + 3 y[9,blue] + 3 y[10,blue] == 1.0"
      ]
     },
     "execution_count": 29,
     "metadata": {},
     "output_type": "execute_result"
    }
   ],
   "source": [
    "coef = Dict(\"red\"=>2, \"blue\"=>3)\n",
    "@constraint(model, sum(coef[c]*y[i,c] for i in 1:10, c in [\"red\",\"blue\"]) == 1)"
   ]
  },
  {
   "cell_type": "code",
   "execution_count": 31,
   "id": "292d6e23",
   "metadata": {},
   "outputs": [
    {
     "data": {
      "text/latex": [
       "$$ 2 z_{1,2} + 3 z_{1,3} + 4 z_{1,4} + 5 z_{1,5} + 6 z_{1,6} + 7 z_{1,7} + 8 z_{1,8} + 9 z_{1,9} + 10 z_{1,10} + 6 z_{2,3} + 8 z_{2,4} + 10 z_{2,5} + 12 z_{2,6} + 14 z_{2,7} + 16 z_{2,8} + 18 z_{2,9} + 20 z_{2,10} + 12 z_{3,4} + 15 z_{3,5} + 18 z_{3,6} + 21 z_{3,7} + 24 z_{3,8} + 27 z_{3,9} + 30 z_{3,10} + 20 z_{4,5} + 24 z_{4,6} + 28 z_{4,7} + 32 z_{4,8} + 36 z_{4,9} + 40 z_{4,10} + 30 z_{5,6} + 35 z_{5,7} + 40 z_{5,8} + 45 z_{5,9} + 50 z_{5,10} + 42 z_{6,7} + 48 z_{6,8} + 54 z_{6,9} + 60 z_{6,10} + 56 z_{7,8} + 63 z_{7,9} + 70 z_{7,10} + 72 z_{8,9} + 80 z_{8,10} + 90 z_{9,10} - w_{1,red} - 4 w_{2,red} - 4 w_{2,blue} - 9 w_{3,red} - 16 w_{4,red} - 16 w_{4,blue} - 25 w_{5,red} - 36 w_{6,red} - 36 w_{6,blue} - 49 w_{7,red} - 64 w_{8,red} - 64 w_{8,blue} - 81 w_{9,red} - 100 w_{10,red} - 100 w_{10,blue} \\leq 0.0 $$"
      ],
      "text/plain": [
       "2 z[1,2] + 3 z[1,3] + 4 z[1,4] + 5 z[1,5] + 6 z[1,6] + 7 z[1,7] + 8 z[1,8] + 9 z[1,9] + 10 z[1,10] + 6 z[2,3] + 8 z[2,4] + 10 z[2,5] + 12 z[2,6] + 14 z[2,7] + 16 z[2,8] + 18 z[2,9] + 20 z[2,10] + 12 z[3,4] + 15 z[3,5] + 18 z[3,6] + 21 z[3,7] + 24 z[3,8] + 27 z[3,9] + 30 z[3,10] + 20 z[4,5] + 24 z[4,6] + 28 z[4,7] + 32 z[4,8] + 36 z[4,9] + 40 z[4,10] + 30 z[5,6] + 35 z[5,7] + 40 z[5,8] + 45 z[5,9] + 50 z[5,10] + 42 z[6,7] + 48 z[6,8] + 54 z[6,9] + 60 z[6,10] + 56 z[7,8] + 63 z[7,9] + 70 z[7,10] + 72 z[8,9] + 80 z[8,10] + 90 z[9,10] - w[1,red] - 4 w[2,red] - 4 w[2,blue] - 9 w[3,red] - 16 w[4,red] - 16 w[4,blue] - 25 w[5,red] - 36 w[6,red] - 36 w[6,blue] - 49 w[7,red] - 64 w[8,red] - 64 w[8,blue] - 81 w[9,red] - 100 w[10,red] - 100 w[10,blue] <= 0.0"
      ]
     },
     "execution_count": 31,
     "metadata": {},
     "output_type": "execute_result"
    }
   ],
   "source": [
    "@constraint(model, sum(i*j*z[i,j] for i in 1:10, j in (i+1):10) <= sum(i^2*w[i,c] for i in 1:10, c in [\"red\",\"blue\"] if iseven(i) || c == \"red\"))"
   ]
  },
  {
   "cell_type": "code",
   "execution_count": 32,
   "id": "1368fb82",
   "metadata": {},
   "outputs": [
    {
     "data": {
      "text/plain": [
       "1-dimensional DenseAxisArray{ConstraintRef{Model, MathOptInterface.ConstraintIndex{MathOptInterface.ScalarAffineFunction{Float64}, MathOptInterface.LessThan{Float64}}, ScalarShape},1,...} with index sets:\n",
       "    Dimension 1, 4:6\n",
       "And data, a 3-element Vector{ConstraintRef{Model, MathOptInterface.ConstraintIndex{MathOptInterface.ScalarAffineFunction{Float64}, MathOptInterface.LessThan{Float64}}, ScalarShape}}:\n",
       " x[4] <= 0.5\n",
       " x[5] <= 0.5\n",
       " x[6] <= 0.5"
      ]
     },
     "execution_count": 32,
     "metadata": {},
     "output_type": "execute_result"
    }
   ],
   "source": [
    "@constraint(model, largebounds[i=1:3], x[i] <= 0.9)\n",
    "@constraint(model, [i=4:6], x[i] <= 0.5)"
   ]
  },
  {
   "cell_type": "code",
   "execution_count": 33,
   "id": "e13bc33f",
   "metadata": {},
   "outputs": [
    {
     "data": {
      "text/latex": [
       "largebounds[2] : $ x_{2} \\leq 0.9 $"
      ],
      "text/plain": [
       "largebounds[2] : x[2] <= 0.9"
      ]
     },
     "execution_count": 33,
     "metadata": {},
     "output_type": "execute_result"
    }
   ],
   "source": [
    "largebounds[2]"
   ]
  },
  {
   "cell_type": "markdown",
   "id": "751794ff",
   "metadata": {},
   "source": [
    "# Classes of Constraints Beyond Linear Inequalities"
   ]
  },
  {
   "cell_type": "code",
   "execution_count": 34,
   "id": "11b21de0",
   "metadata": {},
   "outputs": [
    {
     "data": {
      "text/plain": [
       "2-element Vector{ConstraintRef{Model, MathOptInterface.ConstraintIndex{MathOptInterface.ScalarAffineFunction{Float64}, MathOptInterface.Interval{Float64}}, ScalarShape}}:\n",
       " x[1] + 2 x[2] in [4.0, 3.0]\n",
       " 3 x[1] + 4 x[2] in [5.0, 3.0]"
      ]
     },
     "execution_count": 34,
     "metadata": {},
     "output_type": "execute_result"
    }
   ],
   "source": [
    "A = [1.0 2.0; 3.0 4.0]\n",
    "l = [4.0, 5.0]\n",
    "u = [3.0, 3.0]\n",
    "model = Model()\n",
    "@variable(model, x[1:2])\n",
    "@constraint(model, l .<= A*x .<= u) # note that we are using matrix notation -- I want to do it coordinate-wise"
   ]
  },
  {
   "cell_type": "markdown",
   "id": "63ef5423",
   "metadata": {},
   "source": [
    "## Quadratic Inequalities"
   ]
  },
  {
   "cell_type": "code",
   "execution_count": 36,
   "id": "45748b87",
   "metadata": {},
   "outputs": [
    {
     "data": {
      "text/latex": [
       "$$ x_{1}^2 + x_{2}^2 \\leq 1.0 $$"
      ],
      "text/plain": [
       "x[1]² + x[2]² <= 1.0"
      ]
     },
     "execution_count": 36,
     "metadata": {},
     "output_type": "execute_result"
    }
   ],
   "source": [
    "model = Model()\n",
    "@variable(model, x[1:2])\n",
    "@constraint(model, x[1]^2 + x[2]^2 <= 1)"
   ]
  },
  {
   "cell_type": "code",
   "execution_count": 37,
   "id": "ed3192f4",
   "metadata": {},
   "outputs": [
    {
     "data": {
      "text/latex": [
       "$$ x_{1}\\times x_{2} = 1.0 $$"
      ],
      "text/plain": [
       "x[1]*x[2] == 1.0"
      ]
     },
     "execution_count": 37,
     "metadata": {},
     "output_type": "execute_result"
    }
   ],
   "source": [
    "@constraint(model, x[1]*x[2] - 1.0 == 0.0)"
   ]
  }
 ],
 "metadata": {
  "kernelspec": {
   "display_name": "Julia 1.8.5",
   "language": "julia",
   "name": "julia-1.8"
  },
  "language_info": {
   "file_extension": ".jl",
   "mimetype": "application/julia",
   "name": "julia",
   "version": "1.8.5"
  }
 },
 "nbformat": 4,
 "nbformat_minor": 5
}
