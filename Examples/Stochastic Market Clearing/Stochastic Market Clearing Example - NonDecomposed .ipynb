{
 "cells": [
  {
   "cell_type": "markdown",
   "id": "6c801cc9",
   "metadata": {},
   "source": [
    "# Benders decomposition using Julia\n",
    "## Nondecomposed problem solution"
   ]
  },
  {
   "cell_type": "code",
   "execution_count": 1,
   "id": "7ffe077b",
   "metadata": {},
   "outputs": [],
   "source": [
    "using JuMP, OSQP, GLPK"
   ]
  },
  {
   "cell_type": "code",
   "execution_count": 2,
   "id": "ff34aa04",
   "metadata": {},
   "outputs": [],
   "source": [
    "using Printf, Plots"
   ]
  },
  {
   "cell_type": "code",
   "execution_count": 3,
   "id": "fe322b5c",
   "metadata": {},
   "outputs": [],
   "source": [
    "## Parameters\n",
    "# costs\n",
    "cS1 = [10,20]\n",
    "cS2 = [20,80]\n",
    "\n",
    "# scenario probability\n",
    "pi_w = [0.25,0.25,0.25,0.25]\n",
    "\n",
    "# uncertain parameter\n",
    "theta = [30,60,70,10]\n",
    "theta_lb = [0,0,0,0];"
   ]
  },
  {
   "cell_type": "code",
   "execution_count": 4,
   "id": "0a4ea691",
   "metadata": {
    "scrolled": true
   },
   "outputs": [],
   "source": [
    "## Modeling the non decomposed problem  --> checking the problem use> print(master)\n",
    "nonDec = Model(GLPK.Optimizer)\n",
    "\n",
    "#############\n",
    "# VARIABLES #\n",
    "#############\n",
    "@variable(nonDec, 0 ≤ p_da_g1 ≤ 100, start = 90)\n",
    "@variable(nonDec, 0 ≤ p_da_g2 ≤ 30, start = 30)\n",
    "@variable(nonDec, 0 ≤ p_da_w ≤ 70, start = 0)\n",
    "# scenario 1:4\n",
    "@variable(nonDec, -30 ≤ p_rt_g2_s[1:4] ≤ 30)\n",
    "@variable(nonDec, 0 ≤ p_curtail_s[1:4] ≤ 120)\n",
    "@variable(nonDec , 0 <= p_spill_s[i=1:4] <= theta[i])\n",
    "\n",
    "###############\n",
    "# CONSTRAINTS #\n",
    "###############\n",
    "@constraint(nonDec, p_da_g1 + p_da_g2 + p_da_w == 120)\n",
    "# scenario 1\n",
    "@constraint(nonDec, s1[i=1:4], 0 ≤ p_da_g2 + p_rt_g2_s[i] ≤ 30)\n",
    "@constraint(nonDec, s2[i=1:4], p_rt_g2_s[i] + (theta[i] -  p_da_w - p_spill_s[i]) + p_curtail_s[i] == 0)\n",
    "\n",
    "@objective(nonDec, Min, cS1[1]*p_da_g1 + cS1[2]*p_da_g2 + 0.25*(cS2[1]*sum(p_rt_g2_s[i] for i in 1:4) + cS2[2]*sum(p_curtail_s[i] for i in 1:4)));"
   ]
  },
  {
   "cell_type": "code",
   "execution_count": 5,
   "id": "9a36dbb6",
   "metadata": {},
   "outputs": [],
   "source": [
    "# print(nonDec)"
   ]
  },
  {
   "cell_type": "code",
   "execution_count": 6,
   "id": "7fb0cc07",
   "metadata": {},
   "outputs": [
    {
     "data": {
      "text/plain": [
       "print_iteration (generic function with 1 method)"
      ]
     },
     "execution_count": 6,
     "metadata": {},
     "output_type": "execute_result"
    }
   ],
   "source": [
    "function print_iteration(k, args...)\n",
    "    f(x) = Printf.@sprintf(\"%12.4e\",x)\n",
    "    println(lpad(k,9), \" \",join(f.(args), \" \"))\n",
    "    return\n",
    "end"
   ]
  },
  {
   "cell_type": "code",
   "execution_count": 7,
   "id": "b5568d84",
   "metadata": {},
   "outputs": [
    {
     "name": "stdout",
     "output_type": "stream",
     "text": [
      " **** solution found ********\n",
      "        0   1.0000e+03\n",
      "        0   9.0000e+01   3.0000e+01   0.0000e+00\n",
      "        1  -3.0000e+01   0.0000e+00   0.0000e+00\n",
      "        2  -3.0000e+01   3.0000e+01   0.0000e+00\n",
      "        3  -3.0000e+01   4.0000e+01   0.0000e+00\n",
      "        4  -1.0000e+01   0.0000e+00   0.0000e+00\n"
     ]
    }
   ],
   "source": [
    "optimize!(nonDec)\n",
    "\n",
    "println(\" **** solution found ********\")\n",
    "# lower bound of the original problem\n",
    "o = objective_value(nonDec)\n",
    "p_g1_da = value(p_da_g1)\n",
    "p_g2_da = value(p_da_g2)\n",
    "p_w_da = value(p_da_w)\n",
    "\n",
    "print_iteration(0,o)\n",
    "print_iteration(0,p_g1_da,p_g2_da,p_w_da)\n",
    "\n",
    "for wi in 1:4\n",
    "    rt = value(p_rt_g2_s[wi])\n",
    "    spill = value(p_spill_s[wi])\n",
    "    curt = value(p_curtail_s[wi])\n",
    "    print_iteration(wi,rt,spill,curt)\n",
    "end\n",
    "\n",
    "#all_con = all_constraints(nonDec, AffExpr, MOI.EqualTo{Float64})\n",
    "#print(all_con)\n",
    "#λ = dual.(all_con)"
   ]
  }
 ],
 "metadata": {
  "kernelspec": {
   "display_name": "Julia 1.8.5",
   "language": "julia",
   "name": "julia-1.8"
  },
  "language_info": {
   "file_extension": ".jl",
   "mimetype": "application/julia",
   "name": "julia",
   "version": "1.8.5"
  }
 },
 "nbformat": 4,
 "nbformat_minor": 5
}
