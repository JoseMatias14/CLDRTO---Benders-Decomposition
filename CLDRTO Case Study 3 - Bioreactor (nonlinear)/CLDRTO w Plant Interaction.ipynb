{
 "cells": [
  {
   "cell_type": "markdown",
   "id": "39bb43e3",
   "metadata": {},
   "source": [
    "**This code computes the decomposed/monolithic solution of a Closed-Loop DRTO problem and implement in the plant.**\n",
    "\n",
    "- The model is the nonlinear version of the bioreactor of Case Study 2 from:*Gao, Ling. \"Modeling and dynamics analyses of immobilized CSTR bioreactor using transfer function model.\" 2012 International Symposium on Information Technologies in Medicine and Education. Vol. 2. IEEE, 2012.*\n",
    "- The underlying control structure (modeled in the CLDRTO model) contains one constrained MPC, which is represented by its KKT conditions in the DRTO problem. The complementarity constraints of the MPC are \"moved\" to the objective function as a  l1 penalty\n",
    "- The problem is posed as a scenario-based stochastic programming problem\n",
    "- The uncertainty represented by the scenarios comes from the the maximum reaction rate (Vm) \n",
    "- We run a Monte Carlo Analysis of the performance of both strategies for an arbitrary number of scenarios\n",
    "\n",
    "--> see jupyter notebook \"Preliminaries\" and \"Monolithic and Decomposed CLRTO Comparison\" for details\n",
    "\n",
    "AUTHOR: Jose Matias <assumpcj@mcmaster.ca>\n",
    "DATE: September 2023"
   ]
  },
  {
   "cell_type": "markdown",
   "id": "146397a9",
   "metadata": {},
   "source": [
    "[1.Model and Simulation Parameters](#sec1) <br>\n",
    "[2.Building Auxiliary Functions](#sec2)<br>\n",
    "[2.1. MPC matrices builder](#subsec21)<br>\n",
    "[2.2. MPC solver](#subsec22)<br>\n",
    "[2.3. Monolithic CLDRTO](#subsec23)<br>\n",
    "[2.4. Decomposed CLDRTO](#subsec24)<br>\n",
    "[2.5. Plant Model](#subsec25)<br>\n",
    "[3. Implementing CL-DRTO in closed loop with the plant](#sec3)<br>"
   ]
  },
  {
   "cell_type": "code",
   "execution_count": 1,
   "id": "67ea638f",
   "metadata": {},
   "outputs": [],
   "source": [
    "using LinearAlgebra, JuMP, Ipopt, Plots, LaTeXStrings, CSV, DataFrames, DifferentialEquations, Distributions, Random, Statistics"
   ]
  },
  {
   "cell_type": "markdown",
   "id": "d51ccb2b",
   "metadata": {},
   "source": [
    "<a id=\"sec1\"></a>"
   ]
  },
  {
   "cell_type": "markdown",
   "id": "b2933767",
   "metadata": {},
   "source": [
    "# Model and Simulation Parameters"
   ]
  },
  {
   "cell_type": "markdown",
   "id": "a4c42dcf",
   "metadata": {},
   "source": [
    "- Simulation Parameters"
   ]
  },
  {
   "cell_type": "code",
   "execution_count": 2,
   "id": "cb37bc36",
   "metadata": {},
   "outputs": [],
   "source": [
    "# Simulation sampling time\n",
    "dt = 1.0 #[h]\n",
    "\n",
    "# Integration step (plant)\n",
    "tspan = (0.0,dt)\n",
    "\n",
    "# Optimization horizon \n",
    "ndrto = 20 + (8 - 1) # p = 8 *controller horizon\n",
    "\n",
    "# Optimization control horizon \n",
    "mD = 20 \n",
    "\n",
    "# Optimization horizon\n",
    "Δdrto = 4 # dt_DRTO\n",
    "\n",
    "# integration (BE) sampling time\n",
    "n_fe_dt = 5 # number of finite elements/simulation sampling time \n",
    "\n",
    "# finite element length\n",
    "h = dt/n_fe_dt \n",
    "\n",
    "# number of finite elements \n",
    "nfe = ndrto*n_fe_dt\n",
    "\n",
    "# Set seed value for choosing the plant parameter \n",
    "seed = 42\n",
    "Random.seed!(seed)\n",
    "\n",
    "# number of inputs\n",
    "nu = 1 #[-]\n",
    "# number of outputs\n",
    "ny = 1 #[-]\n",
    "# number of states\n",
    "nx = 2 # [-]\n",
    "\n",
    "# INITIAL CONDITION (from paper)\n",
    "C0 = 0.358 #[g/L]\n",
    "P0 = 0.642 # [g/L]\n",
    "\n",
    "# States (algebraic and differential): C, P\n",
    "x0 = [C0,P0]\n",
    "\n",
    "# INPUTS (from paper)\n",
    "Cin0 = 1 #[g/L]\n",
    "u0 = Cin0;"
   ]
  },
  {
   "cell_type": "markdown",
   "id": "ac38749b",
   "metadata": {},
   "source": [
    "- Model Parameters"
   ]
  },
  {
   "cell_type": "code",
   "execution_count": 3,
   "id": "9bb381c9",
   "metadata": {},
   "outputs": [],
   "source": [
    "# maximum reaction rate (NOTE CHANGE IN PARAMETERS FROM LINEAR)\n",
    "Vm_nom = 0.75 # [1/h]\n",
    "\n",
    "# reaction constant (inhibition parameter)\n",
    "Ks = 0.5 # [g/L]\n",
    "\n",
    "# Dilution rate ==> D = F/V, Fbar = 2 [L/h], V = 4 [L] \n",
    "D = 0.5; # [1/h] "
   ]
  },
  {
   "cell_type": "code",
   "execution_count": 4,
   "id": "ef2eb729",
   "metadata": {},
   "outputs": [],
   "source": [
    "# Uncertain parameters: Vm \n",
    "# nominal value\n",
    "pNom = 0.75\n",
    "# standard deviation associated with uncertainty (\\pm 20%)\n",
    "deltaPar = 0.2*pNom; "
   ]
  },
  {
   "cell_type": "markdown",
   "id": "177c50a5",
   "metadata": {},
   "source": [
    "- Economic Optimization Problem Parameters"
   ]
  },
  {
   "cell_type": "code",
   "execution_count": 5,
   "id": "fd6b1852",
   "metadata": {},
   "outputs": [],
   "source": [
    "# feed concentration limitation  (2.0 vs. 5.0)\n",
    "Cin_max = 5.0 #[g/L] \n",
    "\n",
    "# product setpoint limitation\n",
    "Psp_max = 1.2 # [g/L]\n",
    "\n",
    "# Soft upper bounds on P weight\n",
    "pUB = 1.05 # [g/L]\n",
    "\n",
    "# objective function weight for P penalization term \n",
    "wP = 100\n",
    "\n",
    "# Objective function: target tracking\n",
    "pTrack = 1.0 # [g/L]\n",
    "\n",
    "# setting bounds (all arbitrary - not in deviation form!!) \n",
    "uMax = 5.0 # [g/L]\n",
    "uMin = 0.0\n",
    "\n",
    "yspMax = 1.2 # [g/L]\n",
    "yspMin = 0.0;"
   ]
  },
  {
   "cell_type": "markdown",
   "id": "4fe8af5f",
   "metadata": {},
   "source": [
    "- MPC Parameters"
   ]
  },
  {
   "cell_type": "code",
   "execution_count": 6,
   "id": "e307e215",
   "metadata": {},
   "outputs": [],
   "source": [
    "##########\n",
    "# MODELS #\n",
    "##########\n",
    "# Linearization point\n",
    "uref = 1.0\n",
    "xref = [0.3660;0.6340]\n",
    "yref = 0.6340\n",
    "\n",
    "# 100 pre-computed models based on parametric uncertainty Vm (computed using matlab: BioReactorLinearization.m)\n",
    "bioModels = CSV.read(\"C:\\\\Users\\\\MACC-Jose\\\\Documents\\\\GitHub\\\\BD\\\\CLDRTO Case Study 3 - Bioreactor (nonlinear)\\\\BioreactorModel\", DataFrame; header=false);\n",
    "#print(bioModels)\n",
    "\n",
    "# extracting the matrices from the model array computed previously\n",
    "nNom = 50 # nominal model --> index = 50\n",
    "\n",
    "A = Matrix(bioModels[2*(nNom - 1) + 1:2*(nNom - 1) + 2,1:2]) \n",
    "B = bioModels[2*(nNom - 1) + 1:2*(nNom - 1) + 2,3]\n",
    "C = [0 1];\n",
    "\n",
    "# initial value of xMPC\n",
    "xMPC0 = x0 - xref\n",
    "de0 = 0\n",
    "\n",
    "##########\n",
    "# TUNING #\n",
    "##########\n",
    "# prediction horizon \n",
    "p = 8\n",
    "\n",
    "# control horizon \n",
    "m = 2\n",
    "\n",
    "# output tracking weight\n",
    "q = 1\n",
    "\n",
    "# move supression weight\n",
    "r = 1\n",
    "\n",
    "# input bounds (not in deviation form)\n",
    "u_mpc_lb = 0.0\n",
    "u_mpc_ub = Cin_max\n",
    "\n",
    "##################\n",
    "# KKT CONDITIONS #\n",
    "##################\n",
    "# matrix to compute the gradients of the input bound constraints\n",
    "conMatrix = [-I(m); I(m)]\n",
    "\n",
    "# regularization term OF for complementarities (1e1)\n",
    "rho_cc = 1e1;"
   ]
  },
  {
   "cell_type": "markdown",
   "id": "7d89cd2c",
   "metadata": {},
   "source": [
    "- Preparing Orthogonal Collocation"
   ]
  },
  {
   "cell_type": "code",
   "execution_count": 7,
   "id": "f7d87f6a",
   "metadata": {},
   "outputs": [],
   "source": [
    "# Parameters for orthogonal collocation\n",
    "#  Radau Collocation Points 1st degree polynomial == Backward Euler\n",
    "radau  = [0.0 1.00000]\n",
    "\n",
    "# number of collocation points (initial point is also considered)\n",
    "ncp = length(radau) \n",
    "\n",
    "# Collocation parameters and radau time series\n",
    "colmat = [-1.0 -1.0;\n",
    "          1.0 1.0];          "
   ]
  },
  {
   "cell_type": "markdown",
   "id": "e3f7955e",
   "metadata": {},
   "source": [
    "- Bender's Decomposition"
   ]
  },
  {
   "cell_type": "code",
   "execution_count": 8,
   "id": "eb669196",
   "metadata": {},
   "outputs": [],
   "source": [
    "# max number of iteration (50)\n",
    "benIterMax = 150\n",
    "\n",
    "# optimality gap (relative) tolerance (1e-2)\n",
    "optGap = 1e-3\n",
    "\n",
    "# parameter that weights the nominal trajectory tracking term (1e-2)\n",
    "η_n = 0.0;"
   ]
  },
  {
   "cell_type": "markdown",
   "id": "61521103",
   "metadata": {},
   "source": [
    "<a id=\"sec2\"></a>"
   ]
  },
  {
   "cell_type": "markdown",
   "id": "2bed46e2",
   "metadata": {},
   "source": [
    "# Building auxiliary functions"
   ]
  },
  {
   "cell_type": "markdown",
   "id": "e3b44c70",
   "metadata": {},
   "source": [
    "<a id=\"subsec21\"></a>"
   ]
  },
  {
   "cell_type": "markdown",
   "id": "722e6ed8",
   "metadata": {},
   "source": [
    "## MPC matrices builder"
   ]
  },
  {
   "cell_type": "code",
   "execution_count": 9,
   "id": "2196febb",
   "metadata": {},
   "outputs": [],
   "source": [
    "function MPC_matrices(A,B,C,p,m,q,r)\n",
    "    ###########\n",
    "    # inputs: #\n",
    "    ###########\n",
    "    # A,B,C - System model\n",
    "    # p, m - prediction and control horizon\n",
    "    # q, r - setpoint and input usage tuning parameters\n",
    "    \n",
    "    # extracting dimensions from system model\n",
    "    nx = size(A,1) # states\n",
    "    nu = size(B,2) # inputs\n",
    "    ny = size(C,1) # outputs\n",
    "    \n",
    "    # adding disturbance model\n",
    "    Ad = [A zeros(nx,ny); zeros(ny,nx) I(ny)]\n",
    "    Bd = [B; zeros(ny,nu)]\n",
    "    Cd = [C ones(ny,ny)]\n",
    "    \n",
    "    # building matrices for MPC\n",
    "    Psi = Cd*Ad\n",
    "    for ii in 2:p\n",
    "        Psi = [Psi;  Cd*Ad^ii]\n",
    "    end\n",
    "\n",
    "    # Computing Dynamic Matrix\n",
    "    a = Cd*Bd\n",
    "    for ii in 2:p\n",
    "        a = [a; Cd*Ad^(ii - 1)*Bd]\n",
    "    end\n",
    "    DynM = a\n",
    "\n",
    "    for ii in 1:(m - 2)\n",
    "        a = [zeros(ny,nu);a[1:(p-1)*ny,:]]\n",
    "        DynM = [DynM  a]\n",
    "    end\n",
    "\n",
    "    # adjusting dynamic matrix for since p > m (last column)\n",
    "    b = Cd*Bd\n",
    "\n",
    "    Ai = I(nx+1) # adding disturbance to the states\n",
    "    for ii = 1:(p - m)\n",
    "        Ai = Ai + Ad^ii\n",
    "        b = [b;Cd*Ai*Bd]\n",
    "    end\n",
    "\n",
    "    Theta=[DynM [zeros(ny*(m-1),nu);b]]\n",
    "    \n",
    "    # Creating Qbar and Rbar matrices\n",
    "    Qbar = Diagonal([q for ii in 1:p])\n",
    "    Rbar = Diagonal([r for ii in 1:m])\n",
    "\n",
    "    # Creating input movement OF penalty matrix \n",
    "    M=[zeros((m-1)*nu,nu) I(nu*(m-1)); zeros(nu) zeros(nu,nu*(m-1))]\n",
    "    Ibar=[I(nu); zeros(nu*(m-1),nu)]\n",
    "    IM = I(nu*m) - M';\n",
    "    \n",
    "    # Matrix H\n",
    "    H = Theta'*Qbar*Theta + IM'*Rbar*IM;\n",
    "    \n",
    "    return Dict('A' => A, 'B' => B, 'C' => C, 'H' => H, 'Θ' => Theta, 'Ψ' => Psi, 'Q' => Qbar, 'I' => Ibar, 'R' => Rbar, 'M' => IM)\n",
    "end;"
   ]
  },
  {
   "cell_type": "markdown",
   "id": "2cdcb41c",
   "metadata": {},
   "source": [
    "<a id=\"subsec23\"></a>"
   ]
  },
  {
   "cell_type": "markdown",
   "id": "900fd302",
   "metadata": {},
   "source": [
    "## MPC solver\n",
    "\n",
    "- Building function for computing MPC solution (solving QP)"
   ]
  },
  {
   "cell_type": "code",
   "execution_count": 10,
   "id": "b9677c35",
   "metadata": {},
   "outputs": [],
   "source": [
    "function solveMPC(xkk,dekk,uk_1,yspk,umin,umax,yref,uref,mpc,p,m)\n",
    "    ###########\n",
    "    # inputs: #\n",
    "    ###########\n",
    "    # xkk - current states (MPC model) \n",
    "    # dekk - disturbance estimate \n",
    "    # uk_1 - inputs at the current iteration, already implemented on the plant\n",
    "    # yspk - setpoint trajectory computed by CL-DRTO\n",
    "    # umin, umax - input bounds\n",
    "    # yref, uref - reference points for computing deviation variables\n",
    "    # mpcModel - System model\n",
    "    # p, m - prediction and control horizon\n",
    "    \n",
    "    MPC_con = Model(Ipopt.Optimizer)\n",
    "    set_silent(MPC_con)\n",
    "    \n",
    "    ####################\n",
    "    # Set up variables #\n",
    "    ####################\n",
    "    # inputs computed by MPCs\n",
    "    @variable(MPC_con, (umin - uref) ≤ u[1:m] ≤ (umax - uref))\n",
    "    \n",
    "    ######################\n",
    "    # Set up expressions #\n",
    "    ######################\n",
    "    @expression(MPC_con, cfT, (mpc['Ψ']*[xkk;dekk] - (yspk .- yref))'*mpc['Q']*mpc['Θ'] - (uk_1 - uref)'*mpc['I']'*mpc['R']*mpc['M'])\n",
    "    \n",
    "    \n",
    "    # Option 1. solving as a constrained MPC\n",
    "    @objective(MPC_con, Min, sum(u[jj]*sum(mpc['H'][jj,ii]*u[ii] for ii in 1:m) for jj in 1:m) + 2*sum(cfT[jj]*u[jj] for jj = 1:m))\n",
    "\n",
    "    # Option 2. solving exactly like in the CLDRTO implementation (for debugging)\n",
    "    #@constraint(MPC_con, MPCsol[jj = 1:m], sum(mpc['H'][jj,ii]*u[ii] for ii in 1:m) + cfT[jj] == 0.0)    \n",
    "    #@objective(MPC_con, Min, -1)\n",
    "\n",
    "    #################\n",
    "    # Solve Problem #\n",
    "    #################\n",
    "    optimize!(MPC_con)\n",
    "    \n",
    "    if has_values(MPC_con)\n",
    "        flag = 1\n",
    "    else\n",
    "        flag = 0\n",
    "    end\n",
    "\n",
    "    #calling values of the solved problem\n",
    "    ϕ = objective_value(MPC_con)\n",
    "    uArray = value.(u) .+ uref\n",
    "    return Dict('ϕ' => ϕ,'u' => uArray, 'f' => flag)\n",
    "end;"
   ]
  },
  {
   "cell_type": "markdown",
   "id": "f2860f8a",
   "metadata": {},
   "source": [
    "<a id=\"subsec23\"></a>"
   ]
  },
  {
   "cell_type": "markdown",
   "id": "12964a06",
   "metadata": {},
   "source": [
    "## Monolithic solution of scenario-based CLDRTO"
   ]
  },
  {
   "cell_type": "code",
   "execution_count": 11,
   "id": "e5486fc7",
   "metadata": {},
   "outputs": [],
   "source": [
    "function MS_CLDRTO(C_0,P_0,u_0,xMPC_0,de_0,VmTemp,ns,solNom)\n",
    "    ###########\n",
    "    # inputs: #\n",
    "    ###########\n",
    "    # C_0, P_0 - substrate and biomass concentration at the current iteration (beginning of DRTO horizon)\n",
    "    # u_0 - current input implemented in the plant\n",
    "    # xMPC_0 - current MPC states\n",
    "    # de_0 - current plant/MPC model deviation\n",
    "    # VmTemp - vector containing all the values of the uncertain paramete\n",
    "    # nScen - number of scenarios\n",
    "    # solNom - nominal solution\n",
    "    \n",
    "    # Assuming equiprobable scenarios\n",
    "    pScen = 1.0/ns\n",
    "    \n",
    "    # JuMP model\n",
    "    model_ms = Model(Ipopt.Optimizer)\n",
    "    set_optimizer_attribute(model_ms, \"warm_start_init_point\", \"yes\")\n",
    "    #set_optimizer_attribute(model_ms, \"print_level\", 5)\n",
    "    set_optimizer_attribute(model_ms, \"max_cpu_time\", 300.0) # 5 min\n",
    "    set_silent(model_ms)\n",
    "\n",
    "    ####################\n",
    "    # Set up variables #\n",
    "    ####################\n",
    "     # DRTO model variables\n",
    "    @variable(model_ms, C[1:nfe, 1:ncp, 1:ns] ≥ 0.0)    # [g/L] substrate concentration (diff states)\n",
    "    @variable(model_ms, P[1:nfe, 1:ncp, 1:ns] ≥ 0.0)    # [g/L] biomass concentration (diff states)\n",
    "    @variable(model_ms, Cdot[1:nfe, 1:ncp, 1:ns])       # [g/L/h] substrate concentration (time derivative)\n",
    "    @variable(model_ms, Pdot[1:nfe, 1:ncp, 1:ns])       # [g/L/h] biomass concentration (time derivative)\n",
    "    @variable(model_ms, delta_p[1:nfe, 1:ns] ≥ 0.0)     # [g/L] soft constraint on P\n",
    "    @variable(model_ms, 0.0 ≤ Cin[1:ndrto, 1:ns] ≤ Cin_max) # [g/L] substrate feed to reactor\n",
    "\n",
    "    # MPC model variables (SISO) -> deviation form\n",
    "    @variable(model_ms, xMPC[1:nx,1:ndrto, 1:ns])\n",
    "    @variable(model_ms, uMPC[1:ndrto,1:m, 1:ns]) \n",
    "\n",
    "    # MPC <-> DRTO model deviation\n",
    "    @variable(model_ms, de[1:(ndrto - 1), 1:ns])\n",
    "\n",
    "    # Constrained MPC KKT conditions (upper and lower bounds for each input)\n",
    "    @variable(model_ms, mu_g[1:mD,1:(2*m), 1:ns] ≥ 0, start = 0) \n",
    "\n",
    "    # setpoints for the controllers sent to the plant (*CL-DRTO degrees of freedom)\n",
    "    @variable(model_ms, yspMin ≤ ysp[1:ndrto, 1:ns] ≤ yspMax)\n",
    "\n",
    "    \n",
    "    # non-anticipativity constraints\n",
    "    @variable(model_ms, yspMin ≤ yspNA[1:Δdrto] ≤ yspMax)\n",
    "    \n",
    "    #####################################\n",
    "    # Set up initial guesses for solver #\n",
    "    #####################################\n",
    "    if solNom isa Dict # if gives flexibility to NOT initialize variables\n",
    "        for ss in 1:ns\n",
    "            for kk in 1:nfe\n",
    "                for jj in 1:ncp\n",
    "                    set_start_value(C[kk,jj,ss], solNom['C'][kk,jj,1])\n",
    "                    set_start_value(P[kk,jj,ss], solNom['P'][kk,jj,1])\n",
    "                end # collocation points loop\n",
    "            end # end finite elements loop\n",
    "            \n",
    "            for kk in 1:ndrto\n",
    "                # MV's\n",
    "                set_start_value(Cin[kk,ss], solNom['I'][kk,1])\n",
    "                \n",
    "                for mm in 1:m\n",
    "                    set_start_value(uMPC[kk,mm,ss], solNom['I'][kk,1] - uref)\n",
    "                end\n",
    "            end\n",
    "            \n",
    "            for kk in 1:mD\n",
    "                for mm in 1:(2*m)\n",
    "                    set_start_value(mu_g[kk,mm,ss], solNom['μ'][kk,mm,1])\n",
    "                end\n",
    "            end # drto sampling time loop\n",
    "        end # scenarios loop\n",
    "    else\n",
    "        # Set up initial guesses for solver: using opt. steady-state previoulsy computed\n",
    "        for ss in 1:ns\n",
    "            for kk in 1:nfe\n",
    "                for jj in 1:ncp\n",
    "                    set_start_value(C[kk,jj,ss], C0) \n",
    "                    set_start_value(P[kk,jj,ss], P0)\n",
    "                end # collocation points loop\n",
    "            end # finite elements loop\n",
    "\n",
    "            for kk in 1:ndrto\n",
    "                # MV's\n",
    "                set_start_value(Cin[kk,ss], Cin0)\n",
    "\n",
    "                for mm in 1:m\n",
    "                    set_start_value(uMPC[kk,mm,ss], Cin0 - uref)\n",
    "                end\n",
    "            end \n",
    "        end # scenarios loop\n",
    "    end\n",
    "    \n",
    "    ##############\n",
    "    # DRTO model #\n",
    "    ##############\n",
    "    # [g/L/h] Immobilized enzyme or cell catalytic reaction rate (defined by Michaelis-Menten equation)\n",
    "    @NLexpression(model_ms, rc[kk = 1:nfe, jj = 1:ncp, ss = 1:ns], Vm_nom*C[kk,jj,ss]/(Ks + C[kk,jj,ss]))\n",
    "\n",
    "    @NLconstraints(model_ms, begin\n",
    "        #########\n",
    "        # MODEL #\n",
    "        #########    \n",
    "        # reactor\n",
    "        r_C[kk = 1:nfe, jj = 1:ncp, ss = 1:ns], Cdot[kk,jj,ss] == D*(Cin[cld(kk,n_fe_dt),ss] - C[kk,jj,ss]) - rc[kk,jj,ss] \n",
    "        r_P[kk = 1:nfe, jj = 1:ncp, ss = 1:ns], Pdot[kk,jj,ss] == rc[kk,jj,ss] - D*P[kk,jj,ss]\n",
    "        #########################    \n",
    "        # Collocation Equations #    \n",
    "        #########################\n",
    "        # initial point\n",
    "        coll_C_0[ss = 1:ns], C[1,1,ss] == C_0 \n",
    "        coll_P_0[ss = 1:ns], P[1,1,ss] == P_0  \n",
    "        # set up collocation equations \n",
    "        coll_C_n[kk = 1:nfe, jj = 2:ncp, ss = 1:ns], sum(colmat[ii,jj]*C[kk,ii,ss] for ii in 1:ncp) - h*Cdot[kk,jj,ss] == 0 \n",
    "        coll_P_n[kk = 1:nfe, jj = 2:ncp, ss = 1:ns], sum(colmat[ii,jj]*P[kk,ii,ss] for ii in 1:ncp) - h*Pdot[kk,jj,ss] == 0\n",
    "        # continuinity equations\n",
    "        coll_C_con[kk = 2:nfe, ss = 1:ns], C[kk,1,ss] - C[kk - 1,ncp,ss] == 0 \n",
    "        coll_P_con[kk = 2:nfe, ss = 1:ns], P[kk,1,ss] - P[kk - 1,ncp,ss] == 0 \n",
    "    end)\n",
    "\n",
    "    ##########################\n",
    "    # MPC model and solution #\n",
    "    ##########################\n",
    "    # N.B. inside MPC everything is in deviation variables\n",
    "    @expressions(model_ms, begin\n",
    "        cfT_1[ss = 1:ns], (mpc['Ψ']*[xMPC_0;de_0] - (ysp[1:p,ss] .- yref))'*mpc['Q']*mpc['Θ'] - (u0 - uref)*mpc['I']'*mpc['R']*mpc['M']\n",
    "        cfT[kk = 1:(mD - 1),ss = 1:ns], (mpc['Ψ']*[xMPC[:,kk,ss];de[kk,ss]] - (ysp[(kk + 1):(kk + 1 + p - 1),ss] .- yref))'*mpc['Q']*mpc['Θ'] - uMPC[kk,1,ss]*mpc['I']'*mpc['R']*mpc['M']\n",
    "        # Input bounds\n",
    "        MPC_u_upper[kk = 1:mD,uu = 1:m,ss = 1:ns], (uMax - uref) - uMPC[kk,uu,ss]\n",
    "        MPC_u_lower[kk = 1:mD,uu = 1:m,ss = 1:ns], uMPC[kk,uu,ss] - (uMin - uref)\n",
    "    end)\n",
    "\n",
    "    @constraints(model_ms, begin\n",
    "        #############\n",
    "        # MPC model #\n",
    "        #############\n",
    "        MPC_dyn_model_1[ss = 1:ns], xMPC[:,1,ss] .== mpc['A']*xMPC_0 + mpc['B']*(u0 - uref)\n",
    "        MPC_dyn_model[kk = 1:(ndrto - 1),ss = 1:ns], xMPC[:,kk + 1,ss] .== mpc['A']*xMPC[:,kk,ss] + mpc['B']*uMPC[kk,1,ss]\n",
    "        MPC_model_dev[kk = 1:(ndrto - 1),ss = 1:ns], de[kk,ss] == (P[kk,ncp,ss] - yref) - xMPC[2,kk,ss]\n",
    "        ################\n",
    "        # MPC solution #\n",
    "        ################\n",
    "        # stationarity\n",
    "        MPC_sol_sta_1[ss = 1:ns], uMPC[1,:,ss]'*mpc['H'] + cfT_1[ss] +  mu_g[1,:,ss]'*conMatrix .== 0\n",
    "        MPC_sol_sta[kk = 1:(mD - 1), ss = 1:ns], uMPC[kk + 1,:,ss]'*mpc['H'] + cfT[kk,ss] +  mu_g[kk + 1,:,ss]'*conMatrix .== 0\n",
    "        # primal feasibility\n",
    "        MPC_sol_feas_ub[kk = 1:mD,uu = 1:m,ss = 1:ns], MPC_u_upper[kk,uu,ss] ≥ 0\n",
    "        MPC_sol_feas_lb[kk = 1:mD,uu = 1:m,ss = 1:ns], MPC_u_lower[kk,uu,ss] ≥ 0\n",
    "    end)\n",
    "    \n",
    "    @constraints(model_ms, begin   \n",
    "        ###############\n",
    "        # CONSTRAINTS #\n",
    "        ###############\n",
    "        # ! Enforcing only at the end of the finite element\n",
    "        # P soft constraints\n",
    "        soft_P[kk = 1:nfe,ss = 1:ns], P[kk,ncp,ss] - delta_p[kk,ss] ≤ pUB\n",
    "        # fixing setpoint changes after mD\n",
    "        control_horizon[kk = (mD+1):ndrto,uu = 1:m,ss = 1:ns], uMPC[kk,uu,ss] == uMPC[mD,uu,ss]\n",
    "        ############################\n",
    "        # OPTIMIZATION CONSTRAINTS #\n",
    "        ############################\n",
    "        # connecting the MPC solution to the DRTO model (only the first element of the MV* is implemented)\n",
    "        hc[kk = 1:ndrto,ss = 1:ns], (uMPC[kk,1,ss] + uref) - Cin[kk,ss] == 0.0\n",
    "        ##################################\n",
    "        # NON-ANTICIPATIVITY CONSTRAINTS #\n",
    "        ##################################\n",
    "        nonAnt[kk = 1:Δdrto,ss = 1:ns], ysp[kk,ss] - yspNA[kk] == 0.0\n",
    "    end)\n",
    "    \n",
    "    # Set up objective function     \n",
    "    if ns > 1    \n",
    "        @NLobjective(model_ms, Min, pScen*sum(sum((P[kk,ncp,ss] - pTrack)^2 + wP*delta_p[kk,ss]^2 for kk in 1:nfe)\n",
    "        + rho_cc*sum(mu_g[kk,uu,ss]*MPC_u_upper[kk,uu,ss] + mu_g[kk,m + uu,ss]*MPC_u_lower[kk,uu,ss] for uu = 1:m, kk = 1:mD) \n",
    "        for ss in 1:ns) +  η_n*sum((yspNA[kk] - solNom['s'][kk,1])^2 for kk in 1:Δdrto))\n",
    "    else\n",
    "        @NLobjective(model_ms, Min, pScen*sum(sum((P[kk,ncp,ss] - pTrack)^2 + wP*delta_p[kk,ss]^2 for kk in 1:nfe)\n",
    "        + rho_cc*sum(mu_g[kk,uu,ss]*MPC_u_upper[kk,uu,ss] + mu_g[kk,m + uu,ss]*MPC_u_lower[kk,uu,ss] for uu = 1:m, kk = 1:mD) \n",
    "        for ss in 1:ns))\n",
    "    end\n",
    "    \n",
    "    #################\n",
    "    # Solve Problem #\n",
    "    #################\n",
    "    optimize!(model_ms)\n",
    "    \n",
    "    status = termination_status(model_ms)\n",
    "    #display(status)\n",
    "    \n",
    "    if status == MOI.OPTIMAL || status == MOI.ALMOST_OPTIMAL || status == MOI.LOCALLY_SOLVED\n",
    "        # Proved optimality or Optimal within relaxed tolerances\n",
    "        # solution time\n",
    "        timeSol = solve_time(model_ms)\n",
    "\n",
    "        flag = 1\n",
    "        # #primal_status(m)\n",
    "\n",
    "        #calling values of the solved problem\n",
    "        ϕ = objective_value(model_ms)\n",
    "        yspArray = value.(ysp)\n",
    "        CArray = value.(C)\n",
    "        PArray = value.(P)\n",
    "        CinArray = value.(Cin)\n",
    "        \n",
    "        muArray = value.(mu_g)\n",
    "        \n",
    "        outputFun = Dict('ϕ' => ϕ,\n",
    "                        't' => timeSol,\n",
    "                        'f' => flag, \n",
    "                        's' => yspArray,\n",
    "                        'I' => CinArray,\n",
    "                        'C' => CArray,\n",
    "                        'P' => PArray,\n",
    "                        'μ' => muArray)\n",
    "        \n",
    "        return outputFun\n",
    "    else\n",
    "        # Handle other cases.\n",
    "        outputFun = Dict('f' => 0,\n",
    "                         't' => NaN,\n",
    "                         'ϕ' => NaN)\n",
    "                        \n",
    "        \n",
    "        return outputFun\n",
    "    end\n",
    "end;"
   ]
  },
  {
   "cell_type": "markdown",
   "id": "72b22164",
   "metadata": {},
   "source": [
    "<a id=\"subsec24\"></a>"
   ]
  },
  {
   "cell_type": "markdown",
   "id": "e2a35860",
   "metadata": {},
   "source": [
    "## Decomposed CLDRTO"
   ]
  },
  {
   "cell_type": "markdown",
   "id": "b2f632eb",
   "metadata": {},
   "source": [
    "- Modeling Subproblem"
   ]
  },
  {
   "cell_type": "code",
   "execution_count": 12,
   "id": "3cece797",
   "metadata": {},
   "outputs": [],
   "source": [
    "function subp(yspFixed,C_0,P_0,u_0,xMPC_0,de_0,VmScen,pScen,solNom)    \n",
    "    ###########\n",
    "    # inputs: #\n",
    "    ###########\n",
    "    # yspFixed - setpoints determined by the master problem \n",
    "    # C_0, P_0 - substrate and biomass concentration at the current iteration (beginning of DRTO horizon)\n",
    "    # u_0 - current input implemented in the plant\n",
    "    # xMPC_0 - current MPC states\n",
    "    # de_0 - current plant/MPC model deviation\n",
    "    # VmScen - vector containing the values of the uncertain parameter for a given scenario\n",
    "    # pScen - probability of a given scenario\n",
    "    # solNom - nominal solution\n",
    "    \n",
    "    # JuMP model\n",
    "    model_sub = Model(Ipopt.Optimizer)\n",
    "    set_optimizer_attribute(model_sub, \"warm_start_init_point\", \"yes\")\n",
    "    #set_optimizer_attribute(model_sub, \"print_level\", 5)\n",
    "    set_optimizer_attribute(model_sub, \"max_cpu_time\", 300.0) # 5 min\n",
    "    set_silent(model_sub)\n",
    "    \n",
    "     ####################\n",
    "    # Set up variables #\n",
    "    ####################\n",
    "     # DRTO model variables\n",
    "    @variable(model_sub, C[1:nfe, 1:ncp] ≥ 0.0)    # [g/L] substrate concentration (diff states)\n",
    "    @variable(model_sub, P[1:nfe, 1:ncp] ≥ 0.0)    # [g/L] biomass concentration (diff states)\n",
    "    @variable(model_sub, Cdot[1:nfe, 1:ncp])       # [g/L/h] substrate concentration (time derivative)\n",
    "    @variable(model_sub, Pdot[1:nfe, 1:ncp])       # [g/L/h] biomass concentration (time derivative)\n",
    "    @variable(model_sub, delta_p[1:nfe] ≥ 0.0)     # [g/L] soft constraint on P\n",
    "    @variable(model_sub, 0.0 ≤ Cin[1:ndrto] ≤ Cin_max) # [g/L] substrate feed to reactor\n",
    "\n",
    "    # MPC model variables (SISO) -> deviation form\n",
    "    @variable(model_sub, xMPC[1:nx,1:ndrto])\n",
    "    @variable(model_sub, uMPC[1:ndrto,1:m]) \n",
    "\n",
    "    # MPC <-> DRTO model deviation\n",
    "    @variable(model_sub, de[1:(ndrto - 1)])\n",
    "\n",
    "    # Constrained MPC KKT conditions (upper and lower bounds for each input)\n",
    "    @variable(model_sub, mu_g[1:mD,1:(2*m)] ≥ 0, start = 0) \n",
    "\n",
    "    # setpoints for the controllers sent to the plant (*CL-DRTO degrees of freedom)\n",
    "    @variable(model_sub, yspMin ≤ ysp[1:ndrto] ≤ yspMax)\n",
    "    \n",
    "    #####################################\n",
    "    # Set up initial guesses for solver #\n",
    "    #####################################\n",
    "    if solNom isa Dict # if gives flexibility to NOT initialize variables\n",
    "        for kk in 1:nfe\n",
    "            for jj in 1:ncp\n",
    "                set_start_value(C[kk,jj], solNom['C'][kk,jj,1])\n",
    "                set_start_value(P[kk,jj], solNom['P'][kk,jj,1])\n",
    "            end # collocation points loop\n",
    "        end # end finite elements loop\n",
    "\n",
    "        for kk in 1:ndrto\n",
    "            # MV's\n",
    "            set_start_value(Cin[kk], solNom['I'][kk,1])\n",
    "\n",
    "            for mm in 1:m\n",
    "                set_start_value(uMPC[kk,mm], solNom['I'][kk,1] - uref)\n",
    "            end\n",
    "        end\n",
    "            \n",
    "        for kk in 1:mD\n",
    "            for mm in 1:(2*m)\n",
    "                set_start_value(mu_g[kk,mm], solNom['μ'][kk,mm,1])\n",
    "            end\n",
    "        end # drto sampling time loop\n",
    "    else\n",
    "    # Set up initial guesses for solver: using opt. steady-state previoulsy computed\n",
    "        for kk in 1:nfe\n",
    "            for jj in 1:ncp\n",
    "                set_start_value(C[kk,jj], C0) \n",
    "                set_start_value(P[kk,jj], P0)\n",
    "            end # collocation points loop\n",
    "        end # finite elements loop\n",
    "\n",
    "        for kk in 1:ndrto\n",
    "            # MV's\n",
    "            set_start_value(Cin[kk], Cin0)\n",
    "\n",
    "            for mm in 1:m\n",
    "                set_start_value(uMPC[kk,mm], Cin0 - uref)\n",
    "            end\n",
    "        end \n",
    "    end\n",
    "    \n",
    "    ##############\n",
    "    # DRTO model #\n",
    "    ##############\n",
    "    # [g/L/h] Immobilized enzyme or cell catalytic reaction rate (defined by Michaelis-Menten equation)\n",
    "    @NLexpression(model_sub, rc[kk = 1:nfe, jj = 1:ncp], Vm_nom*C[kk,jj]/(Ks + C[kk,jj]))\n",
    "\n",
    "    @NLconstraints(model_sub, begin\n",
    "        #########\n",
    "        # MODEL #\n",
    "        #########    \n",
    "        # reactor\n",
    "        r_C[kk = 1:nfe, jj = 1:ncp], Cdot[kk,jj] == D*(Cin[cld(kk,n_fe_dt)] - C[kk,jj]) - rc[kk,jj] \n",
    "        r_P[kk = 1:nfe, jj = 1:ncp], Pdot[kk,jj] == rc[kk,jj] - D*P[kk,jj]\n",
    "        #########################    \n",
    "        # Collocation Equations #    \n",
    "        #########################\n",
    "        # initial point\n",
    "        coll_C_0, C[1,1] == C_0 \n",
    "        coll_P_0, P[1,1] == P_0  \n",
    "        # set up collocation equations \n",
    "        coll_C_n[kk = 1:nfe, jj = 2:ncp], sum(colmat[ii,jj]*C[kk,ii] for ii in 1:ncp) - h*Cdot[kk,jj] == 0 \n",
    "        coll_P_n[kk = 1:nfe, jj = 2:ncp], sum(colmat[ii,jj]*P[kk,ii] for ii in 1:ncp) - h*Pdot[kk,jj] == 0\n",
    "        # continuinity equations\n",
    "        coll_C_con[kk = 2:nfe], C[kk,1] - C[kk - 1,ncp] == 0 \n",
    "        coll_P_con[kk = 2:nfe], P[kk,1] - P[kk - 1,ncp] == 0 \n",
    "    end)\n",
    "\n",
    "    ##########################\n",
    "    # MPC model and solution #\n",
    "    ##########################\n",
    "    # N.B. inside MPC everything is in deviation variables\n",
    "    @expressions(model_sub, begin\n",
    "        cfT_1, (mpc['Ψ']*[xMPC_0;de_0] - (ysp[1:p] .- yref))'*mpc['Q']*mpc['Θ'] - (u0 - uref)*mpc['I']'*mpc['R']*mpc['M']\n",
    "        cfT[kk = 1:(mD - 1)], (mpc['Ψ']*[xMPC[:,kk];de[kk]] - (ysp[(kk + 1):(kk + 1 + p - 1)] .- yref))'*mpc['Q']*mpc['Θ'] - uMPC[kk,1]*mpc['I']'*mpc['R']*mpc['M']\n",
    "        # Input bounds\n",
    "        MPC_u_upper[kk = 1:mD,uu = 1:m], (uMax - uref) - uMPC[kk,uu]\n",
    "        MPC_u_lower[kk = 1:mD,uu = 1:m], uMPC[kk,uu] - (uMin - uref)\n",
    "    end)\n",
    "\n",
    "    @constraints(model_sub, begin\n",
    "        #############\n",
    "        # MPC model #\n",
    "        #############\n",
    "        MPC_dyn_model_1, xMPC[:,1] .== mpc['A']*xMPC_0 + mpc['B']*(u0 - uref)\n",
    "        MPC_dyn_model[kk = 1:(ndrto - 1)], xMPC[:,kk + 1] .== mpc['A']*xMPC[:,kk] + mpc['B']*uMPC[kk,1]\n",
    "        MPC_model_dev[kk = 1:(ndrto - 1)], de[kk] == (P[kk,ncp] - yref) - xMPC[2,kk]\n",
    "        ################\n",
    "        # MPC solution #\n",
    "        ################\n",
    "        # stationarity\n",
    "        MPC_sol_sta_1, uMPC[1,:]'*mpc['H'] + cfT_1 +  mu_g[1,:]'*conMatrix .== 0\n",
    "        MPC_sol_sta[kk = 1:(mD - 1)], uMPC[kk + 1,:]'*mpc['H'] + cfT[kk] +  mu_g[kk + 1,:]'*conMatrix .== 0\n",
    "        # primal feasibility\n",
    "        MPC_sol_feas_ub[kk = 1:mD,uu = 1:m], MPC_u_upper[kk,uu] ≥ 0\n",
    "        MPC_sol_feas_lb[kk = 1:mD,uu = 1:m], MPC_u_lower[kk,uu] ≥ 0\n",
    "    end)\n",
    "    \n",
    "    @constraints(model_sub, begin   \n",
    "        ###############\n",
    "        # CONSTRAINTS #\n",
    "        ###############\n",
    "        # ! Enforcing only at the end of the finite element\n",
    "        # P soft constraints\n",
    "        soft_P[kk = 1:nfe], P[kk,ncp] - delta_p[kk] ≤ pUB\n",
    "        # fixing setpoint changes after mD\n",
    "        control_horizon[kk = (mD+1):ndrto,uu = 1:m], uMPC[kk,uu] == uMPC[mD,uu]\n",
    "        ############################\n",
    "        # OPTIMIZATION CONSTRAINTS #\n",
    "        ############################\n",
    "        # connecting the MPC solution to the DRTO model (only the first element of the MV* is implemented)\n",
    "        hc[kk = 1:ndrto], (uMPC[kk,1] + uref) - Cin[kk] == 0.0\n",
    "        ##################################\n",
    "        # NON-ANTICIPATIVITY CONSTRAINTS #\n",
    "        ##################################\n",
    "        nonAnt[kk = 1:Δdrto], ysp[kk] - yspFixed[kk] == 0.0\n",
    "    end)\n",
    "    \n",
    "    # Set up objective function      \n",
    "    @NLobjective(model_sub, Min, pScen*(sum((P[kk,ncp] - pTrack)^2 + wP*delta_p[kk]^2 for kk in 1:nfe)\n",
    "    + rho_cc*sum(mu_g[kk,uu]*MPC_u_upper[kk,uu] + mu_g[kk,m + uu]*MPC_u_lower[kk,uu] for uu = 1:m, kk = 1:mD)))\n",
    "    \n",
    "    #################\n",
    "    # Solve Problem #\n",
    "    #################    \n",
    "    optimize!(model_sub)\n",
    "    \n",
    "    # solution time\n",
    "    timeSol = solve_time(model_sub)\n",
    "    \n",
    "    status = termination_status(model_sub)\n",
    "    #display(status)\n",
    "    \n",
    "    # checking if there is a solution to the problem\n",
    "    if status == MOI.ALMOST_LOCALLY_SOLVED || status == MOI.LOCALLY_SOLVED\n",
    "        # Proved optimality or Optimal within relaxed tolerances\n",
    "        # we add an optimality cut\n",
    "        flag = 1\n",
    "        # #primal_status(m)\n",
    "\n",
    "        #calling values of the solved problem\n",
    "        ϕ = objective_value(model_sub)\n",
    "        yspArray = value.(ysp)\n",
    "        CArray = value.(C)\n",
    "        PArray = value.(P)\n",
    "        CinArray = value.(Cin)\n",
    "        \n",
    "        muArray = value.(mu_g)\n",
    "        \n",
    "        # lagrange multipliers associated with the nonantecipativity constraints\n",
    "        λ = dual.(nonAnt)\n",
    "        \n",
    "        outputDict = Dict('ϕ' => ϕ,\n",
    "                        't' => timeSol,\n",
    "                        'f' => flag, \n",
    "                        'a' => status,\n",
    "                        's' => yspArray,\n",
    "                        'I' => CinArray,\n",
    "                        'C' => CArray,\n",
    "                        'P' => PArray, \n",
    "                        'μ' => muArray,\n",
    "                        'λ' => λ)\n",
    "        \n",
    "        return outputDict\n",
    "    else\n",
    "        #i.e. no feasible solution --> Add feasibility cut\n",
    "        #display(\"Feasibility cut: scenario $(scen)\")        \n",
    "        \n",
    "        # ! soft bounds on ysp\n",
    "        delete_lower_bound.(ysp[1:pD])\n",
    "        delete_upper_bound.(ysp[1:pD])\n",
    "           \n",
    "        # ! soft bounds on u\n",
    "        delete(model_sub, MPC_sol_feas_ub)\n",
    "        delete(model_sub, MPC_sol_feas_lb)\n",
    "        unregister(model_sub, :MPC_sol_feas_ub)\n",
    "        unregister(model_sub, :MPC_sol_feas_lb)\n",
    "        \n",
    "        ####################\n",
    "        # Set up variables #\n",
    "        ####################    \n",
    "        # slack variables\n",
    "        @variable(model_sub, delta_ysp_u[1:ndrto] ≥ 0.0)\n",
    "        @variable(model_sub, delta_ysp_l[1:ndrto] ≥ 0.0)\n",
    "        @variable(model_sub, delta_u_u[1:mD,1:m] ≥ 0.0)\n",
    "        @variable(model_sub, delta_u_l[1:mD,1:m] ≥ 0.0)\n",
    "        \n",
    "        ###########################\n",
    "        # Always-feasible problem #\n",
    "        ###########################        \n",
    "        @constraint(model_sub, soft_ysp_upper[kk = 1:ndrto], ysp[kk] - yspMax ≤ delta_ysp_u[kk])\n",
    "        @constraint(model_sub, soft_ysp_lower[kk = 1:ndrto], yspMin - ysp[kk] ≤ delta_ysp_l[kk])\n",
    "        @constraint(model_sub, soft_u_upper[kk=1:mD,uu=1:m], u[kk,uu] - (uMax - u0) ≤ delta_u_u[kk,uu])\n",
    "        @constraint(model_sub, soft_u_lower[kk=1:mD,uu=1:m], (uMin - u0) - u[kk,uu] ≤ delta_u_l[kk,uu])\n",
    "        \n",
    "       #############################\n",
    "        # Set up objective function #\n",
    "        #############################\n",
    "        # Modifying the objective --> minimizing constraint violation\n",
    "        @objective(model_sub, Min, sum(delta_p[kk] for kk in 1:nfe) \n",
    "            + sum(delta_ysp_u[kk] + delta_ysp_l[kk] for kk in 1:ndrto)\n",
    "            + sum(delta_u_u[kk,uu] + delta_u_l[kk,uu] for uu in 1:m, kk in 1:mD))\n",
    "      \n",
    "\n",
    "        #@show sub\n",
    "        # re-optimizing (now using the always feasible problem)\n",
    "        optimize!(model_sub)\n",
    "        \n",
    "        # objective function of the feasibility problem\n",
    "        o = objective_value(model_sub)\n",
    "\n",
    "        # solution time (adding time to solve the always feasible subproblem)\n",
    "        timeSol = solve_time(model_sub)\n",
    "        \n",
    "        # checking status of the solution\n",
    "        status_sub = termination_status(model_sub)\n",
    "        \n",
    "        # flag for calling feasibility cuts (not optimality cuts)\n",
    "        flag = 0\n",
    "        \n",
    "        #calling values of the solved problem\n",
    "        yspArray = value.(ysp)\n",
    "        CinArray = value.(Cin)\n",
    "        CArray = value.(C)\n",
    "        PArray = value.(P)\n",
    "        muArray = value.(mu_g)\n",
    "        \n",
    "        #slacks\n",
    "#         dysp_ub = value.(delta_ysp_u)\n",
    "#         dysp_lb = value.(delta_ysp_l)\n",
    "#         temp1 = sum(dysp_ub[kk] + dysp_lb[kk] for kk in 1:ndrto)\n",
    "#         display(\"DB: SP slacks sum: $(temp1)\")\n",
    "        \n",
    "#         dc_ub = value.(delta_u_u)\n",
    "#         dc_lb = value.(delta_u_l)\n",
    "#         temp2 = sum(sum(dc_ub[kk,uu] + dc_lb[kk,uu] for uu in 1:m) for kk in 1:mD)\n",
    "#         display(\"DB: MPC input slacks sum: $(temp2)\")\n",
    "        \n",
    "        # lagrange multipliers associated with the nonantecipativity constraints\n",
    "        λ = dual.(nonAnt)\n",
    "        \n",
    "        outputDict = Dict('ϕ' => o,\n",
    "                        't' => timeSol,\n",
    "                        'f' => flag, \n",
    "                        'a' => status_sub,\n",
    "                        's' => yspArray,\n",
    "                        'I' => CinArray,\n",
    "                        'C' => CArray,\n",
    "                        'P' => PArray,\n",
    "                        'μ' => muArray,\n",
    "                        'λ' => λ)\n",
    "        \n",
    "        return outputDict\n",
    "    end\n",
    "end;"
   ]
  },
  {
   "cell_type": "markdown",
   "id": "1690f637",
   "metadata": {},
   "source": [
    "- Modeling Master problem"
   ]
  },
  {
   "cell_type": "code",
   "execution_count": 13,
   "id": "21389f30",
   "metadata": {},
   "outputs": [],
   "source": [
    "## Modeling Benders Decompostion\n",
    "function BENS_CLDRTO(C_0,P_0,u_0,xMPC_0,de_0,VmTemp,ns,solNom)\n",
    "    ###########\n",
    "    # inputs: #(xInit,uInit,nReac,nScen,pScen,solNom,option)\n",
    "    ###########\n",
    "    # C_0, P_0 - substrate and biomass concentration at the current iteration (beginning of DRTO horizon)\n",
    "    # u_0 - current input implemented in the plant\n",
    "    # xMPC_0 - current MPC states\n",
    "    # de_0 - current plant/MPC model deviation\n",
    "    # VmTemp - vector containing all the values of the uncertain parameter (Vm)\n",
    "    # ns - number of scenarios\n",
    "    # solNom - nominal solution\n",
    "    \n",
    "    # saving opt gap array\n",
    "    optGapArray = Vector{Float64}()\n",
    "    \n",
    "    # Assuming equiprobable scenarios\n",
    "    pScen = 1.0/ns\n",
    "    \n",
    "    # flag for checking if last cut was opt. (1) or feas. (0)\n",
    "    flagO = 1\n",
    "    \n",
    "    # timing solution via Benders\n",
    "    timeSolBen = 0 \n",
    "    # timing solution via parallel Benders\n",
    "    timeSolParBen = 0 \n",
    "    \n",
    "    # Define master problem model\n",
    "    master = Model(Ipopt.Optimizer)\n",
    "    set_silent(master)\n",
    "    \n",
    "    #lower bound on scenario objective function approximation \n",
    "    alpha_down = 0.0; \n",
    "    \n",
    "    # defining temp solution to avoid loop's scope\n",
    "     ysp_nonⁱ = Vector{Float64}(undef,Δdrto)\n",
    "    \n",
    "    ####################\n",
    "    # Set up variables #\n",
    "    ####################\n",
    "    # setpoints for the controllers sent to the plant\n",
    "    @variable(master, yspMin ≤ ysp[1:Δdrto] ≤ yspMax)\n",
    "    @variable(master, α ≥ alpha_down)\n",
    "    \n",
    "    ################################################\n",
    "    # Solving problem with benders' decomposition  #\n",
    "    ################################################\n",
    "    for ii in 1:benIterMax\n",
    "        \n",
    "        ########################\n",
    "        # Set up initial guess #\n",
    "        ########################\n",
    "        # check size of the optimality gap array\n",
    "        s_opt_array = size(optGapArray)\n",
    "        \n",
    "        # always use nominal solution in the first iteration\n",
    "        if ii == 1 \n",
    "            for kk in 1:Δdrto\n",
    "                set_start_value(ysp[kk], solNom['s'][kk,1])\n",
    "            end \n",
    "        # check if MASTER problem got stuck in a solution, in this case use random guess   \n",
    "        elseif s_opt_array[1] > 1 && abs(optGapArray[end] - optGapArray[end - 1]) < 0.001\n",
    "            tempGuess = rand(Uniform(yspMin,yspMax),Δdrto)\n",
    "            display(\"DB: random\")\n",
    "\n",
    "            for kk in 1:Δdrto\n",
    "                set_start_value(ysp[kk], tempGuess[kk])\n",
    "            end  \n",
    "        # otherwise use previous solution\n",
    "        else    \n",
    "            for kk in 1:Δdrto\n",
    "                set_start_value(ysp[kk],  ysp_nonⁱ[kk])\n",
    "            end \n",
    "        end\n",
    "          \n",
    "        #############################\n",
    "        # Set up objective function #\n",
    "        #############################\n",
    "        # \"nudge\" next solution towards nominal solution (working = 1e-4)\n",
    "        @objective(master, Min, α + η_n*sum((ysp[kk] - solNom['s'][kk,1])^2 for kk in 1:Δdrto))\n",
    "        \n",
    "        # solve master problem (with Benders' cut)\n",
    "        optimize!(master)\n",
    "\n",
    "        # solution time\n",
    "        timeSolMaster = solve_time(master)\n",
    "        # extracting solution for the non-anticipativity constraints\n",
    "        ysp_nonⁱ = value.(ysp) \n",
    "        \n",
    "        # Master problem solution: lower bound of the original problem\n",
    "        lb = value(α)\n",
    "        \n",
    "        timeSolBen = timeSolBen + timeSolMaster\n",
    "        timeSolParBen = timeSolParBen + timeSolMaster # master cannot be paralellized \n",
    "\n",
    "        #######################\n",
    "        # Solving subproblems #\n",
    "        #######################\n",
    "        # objective function\n",
    "        o_temp = Vector{Float64}(undef,ns)\n",
    "        # flag optimality / feasibility\n",
    "        flag_temp = Vector{Float64}(undef,ns)\n",
    "        # solution time\n",
    "        solTime_temp = Vector{Float64}(undef,ns)\n",
    "        # multipliers\n",
    "        lambdaN_temp = Matrix{Float64}(undef,Δdrto,ns)\n",
    "        \n",
    "        for ss in 1:ns\n",
    "            dicTemp = subp(ysp_nonⁱ,C_0,P_0,u_0,xMPC_0,de_0,VmTemp[ss],pScen,solNom)\n",
    "\n",
    "            # saving files\n",
    "            # objective function\n",
    "            o_temp[ss] = dicTemp['ϕ']\n",
    "            # solution time\n",
    "            solTime_temp[ss] = dicTemp['t']\n",
    "            # optimality / feasibility flag\n",
    "            flag_temp[ss] = dicTemp['f']\n",
    "            # multiplier\n",
    "            for kk in 1:Δdrto\n",
    "                lambdaN_temp[kk,ss] = dicTemp['λ'][kk]\n",
    "            end\n",
    "        end\n",
    "        \n",
    "        ##########################################################\n",
    "        # If all subproblems were feasible, check optimality gap #\n",
    "        ##########################################################\n",
    "        if sum(flag_temp) == ns \n",
    "            # Subproblem solution: upper bound of the original problem\n",
    "            ub = sum(o_temp)\n",
    "\n",
    "            # solve subproblems to find the upper bound of the original problem solution \n",
    "            timeSolBen = timeSolBen + sum(solTime_temp)\n",
    "\n",
    "            # assuming that subproblem solution is parallelized\n",
    "            timeSolParBen = timeSolParBen + maximum(solTime_temp)   \n",
    "            \n",
    "            # compute optimality gap\n",
    "            gap = abs(ub - lb)/abs(ub)\n",
    "            display(\"DB: opt. gap $(gap)\")\n",
    "            push!(optGapArray, gap)\n",
    "            \n",
    "            # check if optimality gap is small enough\n",
    "            # also, make sure last cut was an optimality cut due to change in OF \n",
    "            if gap < optGap && flagO == 1\n",
    "                global yspSol_dec = ysp_nonⁱ\n",
    "                global objFun_dec = ub\n",
    "                global optGap_dec = gap\n",
    "                global iter_dec = ii\n",
    "                global time_dec = timeSolBen\n",
    "                global time_max_dec = timeSolParBen\n",
    "                break\n",
    "            else # gap ≥ optGap \n",
    "                ##############################\n",
    "                # --> adding optimality cuts #\n",
    "                ##############################\n",
    "                display(\">>>>>> iteration $(ii):O\")\n",
    "                benderscutO = @constraint(master, α ≥ ub + \n",
    "                    sum(sum(lambdaN_temp[jj,ss] for ss in 1:ns)*(ysp[jj] - ysp_nonⁱ[jj]) for jj in 1:Δdrto))\n",
    "                #@info \"we are adding this bender optimality cut $(benderscutO)\"\n",
    "                \n",
    "                # optimality cut was add\n",
    "                flagO = 1\n",
    "            \n",
    "            end # if gap\n",
    "        else # sum(flag_temp) != nScen\n",
    "            ###############################\n",
    "            # --> adding feasibility cuts #\n",
    "            ###############################\n",
    "            display(\">>>>>> iteration $(ii):F\")\n",
    "            benderscutF = @constraint(master, 0 ≥\n",
    "                sum(sum(lambdaN_temp[jj,ss] for ss in 1:ns)*(ysp[1,jj] - ysp_nonⁱ[1,jj]) for jj in 1:Δdrto))\n",
    "            #@info \"we are adding this bender feasibility cut $(benderscutF)\"\n",
    "            \n",
    "            # feasibility cut was add\n",
    "            flagO = 0\n",
    "            \n",
    "        end # if nScen\n",
    "        \n",
    "        # checking if number of iterations reached max \n",
    "        if ii < benIterMax\n",
    "            global yspSol_dec = [NaN for kk=1:Δdrto]\n",
    "            global objFun_dec = NaN\n",
    "            global optGap_dec = NaN\n",
    "            global iter_dec = benIterMax\n",
    "            global time_dec = timeSolBen\n",
    "            global time_max_dec = timeSolParBen\n",
    "        end # if < benIterMax\n",
    "    end # if for benders iterations\n",
    "\n",
    "    #####################\n",
    "    # Extracting values #\n",
    "    #####################\n",
    "    if isnan(objFun_dec)\n",
    "        \n",
    "        outputFun = Dict('f' => 0, \n",
    "                         't' => timeSolBen,\n",
    "                         'ϕ' => objFun_dec,\n",
    "                         'τ' => time_max_dec, \n",
    "                         'i' => iter_dec,\n",
    "                         'd' => yspSol_dec,\n",
    "                         'g' => optGap_dec,\n",
    "                         'o' => optGapArray)\n",
    "                        \n",
    "        \n",
    "        return outputFun\n",
    "        \n",
    "    else\n",
    "        CinArray = Matrix{Float64}(undef,ndrto,ns)\n",
    "        PArray = Array{Float64}(undef,nfe,ncp,ns)\n",
    "        CArray = Array{Float64}(undef,nfe,ncp,ns)\n",
    "        yspArray = Matrix{Float64}(undef,ndrto,ns)\n",
    "\n",
    "        for ss in 1:ns\n",
    "            dicTemp = subp(yspSol_dec,C_0,P_0,u_0,xMPC_0,de_0,VmTemp[ss],pScen,solNom)\n",
    "\n",
    "            # saving files\n",
    "            CinArray[:,ss] = dicTemp['I']\n",
    "            PArray[:,:,ss] = dicTemp['P']\n",
    "            CArray[:,:,ss] = dicTemp['C']\n",
    "            yspArray[:,ss] = dicTemp['s']\n",
    "        end\n",
    "\n",
    "        #calling values of the solved problem    \n",
    "        outputFun =  Dict('f' => 1,\n",
    "                    'ϕ' => objFun_dec,\n",
    "                    't' => time_dec,\n",
    "                    'τ' => time_max_dec, \n",
    "                    'i' => iter_dec,\n",
    "                    'd' => yspSol_dec,\n",
    "                    'g' => optGap_dec,\n",
    "                    'I' => CinArray,\n",
    "                    'P' => PArray,\n",
    "                    'C' => CArray,\n",
    "                    's' => yspArray,\n",
    "                    'o' => optGapArray)  \n",
    "        \n",
    "        return outputFun\n",
    "\n",
    "    end\n",
    "end;"
   ]
  },
  {
   "cell_type": "markdown",
   "id": "936e2232",
   "metadata": {},
   "source": [
    "<a id=\"subsec25\"></a>"
   ]
  },
  {
   "cell_type": "markdown",
   "id": "45f011c0",
   "metadata": {},
   "source": [
    "## Plant Model"
   ]
  },
  {
   "cell_type": "code",
   "execution_count": 14,
   "id": "8f95081a",
   "metadata": {},
   "outputs": [],
   "source": [
    "function bioreactor_ode!(dx, x, p, t)\n",
    "    C,P = x\n",
    "    Cin,Vm_plant = p\n",
    "    \n",
    "    # Immobilized enzyme or cell catalytic reaction rate (defined by Michaelis-Menten equation)\n",
    "    rc = Vm_plant*C/(Ks + C)\n",
    "    \n",
    "    # reactor 1\n",
    "    dx[1] = D*(Cin - C) - rc\n",
    "    dx[2] = rc - D*P\n",
    "    \n",
    "    nothing\n",
    "end;"
   ]
  },
  {
   "cell_type": "markdown",
   "id": "764a6337",
   "metadata": {},
   "source": [
    "<a id=\"sec3\"></a>"
   ]
  },
  {
   "cell_type": "markdown",
   "id": "7dbb9c4b",
   "metadata": {},
   "source": [
    "# Implementing CL-DRTO in closed loop with the plant\n",
    "\n",
    "Here we run a Monte Carlo Analysis of the CL-DRTO results. The uncertain parameter value is drawn at each MC iteration and the DRTO has access to the lower and upper bound of that distribution to create the scenarios. "
   ]
  },
  {
   "cell_type": "markdown",
   "id": "b5c4412f",
   "metadata": {},
   "source": [
    "Getting the solution for the nominal scenario"
   ]
  },
  {
   "cell_type": "code",
   "execution_count": 15,
   "id": "4697c3ee",
   "metadata": {},
   "outputs": [],
   "source": [
    "# building MPC's\n",
    "mpc = MPC_matrices(A,B,C,p,m,q,r);"
   ]
  },
  {
   "cell_type": "code",
   "execution_count": 16,
   "id": "a5cd27ad",
   "metadata": {},
   "outputs": [],
   "source": [
    "# Monte Carlo iterations (20)\n",
    "n_MC = 20\n",
    "\n",
    "# Simulation time in sampling periods\n",
    "nsim = 20\n",
    "\n",
    "# number of scenarios\n",
    "nS_MC = 3 \n",
    "\n",
    "# creating uncertain parameter array\n",
    "pUnc = LinRange(pNom - deltaPar,pNom + deltaPar, nS_MC)\n",
    "\n",
    "#equiprobable scenarios\n",
    "pS_MC = 1.0/nS_MC\n",
    "\n",
    "# Extracting solution for plotting --> monolithic vs. decomposed \n",
    "PPlant = Array{Float64}(undef,nsim,n_MC,2)\n",
    "CPlant = Array{Float64}(undef,nsim,n_MC,2)\n",
    "CinPlant = Array{Float64}(undef,nsim,n_MC,2)\n",
    "yspPlant = Array{Float64}(undef,nsim,n_MC,2)\n",
    "flagCLDRTO = Array{Float64}(undef,nsim,n_MC,2);"
   ]
  },
  {
   "cell_type": "markdown",
   "id": "7b8caf7d",
   "metadata": {},
   "source": [
    "## Plant simulation"
   ]
  },
  {
   "cell_type": "code",
   "execution_count": 17,
   "id": "25278aaa",
   "metadata": {},
   "outputs": [
    {
     "data": {
      "text/plain": [
       "\"DB: MC iter. 1 --> Plant parameter = 0.8682533402406438\""
      ]
     },
     "metadata": {},
     "output_type": "display_data"
    },
    {
     "name": "stdout",
     "output_type": "stream",
     "text": [
      "\n",
      "******************************************************************************\n",
      "This program contains Ipopt, a library for large-scale nonlinear optimization.\n",
      " Ipopt is released as open source code under the Eclipse Public License (EPL).\n",
      "         For more information visit https://github.com/coin-or/Ipopt\n",
      "******************************************************************************\n",
      "\n"
     ]
    },
    {
     "data": {
      "text/plain": [
       "\"Nominal solution at t = 0: found\""
      ]
     },
     "metadata": {},
     "output_type": "display_data"
    },
    {
     "name": "stdout",
     "output_type": "stream",
     "text": [
      "MC: 1>> Time: 1\n"
     ]
    },
    {
     "data": {
      "text/plain": [
       "\"DB: CLDRTO method: 1 - Solution at t = 1: found\""
      ]
     },
     "metadata": {},
     "output_type": "display_data"
    },
    {
     "name": "stdout",
     "output_type": "stream",
     "text": [
      "MC: 1>> Time: 2\n",
      "MC: 1>> Time: 3\n",
      "MC: 1>> Time: 4\n"
     ]
    },
    {
     "data": {
      "text/plain": [
       "\"DB: Nominal solution at t = 4: found\""
      ]
     },
     "metadata": {},
     "output_type": "display_data"
    },
    {
     "data": {
      "text/plain": [
       "\"DB: CLDRTO method: 1 - Solution at t = 4: found\""
      ]
     },
     "metadata": {},
     "output_type": "display_data"
    },
    {
     "name": "stdout",
     "output_type": "stream",
     "text": [
      "MC: 1>> Time: 5\n",
      "MC: 1>> Time: 6\n",
      "MC: 1>> Time: 7\n",
      "MC: 1>> Time: 8\n"
     ]
    },
    {
     "data": {
      "text/plain": [
       "\"DB: Nominal solution at t = 8: found\""
      ]
     },
     "metadata": {},
     "output_type": "display_data"
    },
    {
     "data": {
      "text/plain": [
       "\"DB: CLDRTO method: 1 - Solution at t = 8: found\""
      ]
     },
     "metadata": {},
     "output_type": "display_data"
    },
    {
     "name": "stdout",
     "output_type": "stream",
     "text": [
      "MC: 1>> Time: 9\n",
      "MC: 1>> Time: 10\n",
      "MC: 1>> Time: 11\n",
      "MC: 1>> Time: 12\n"
     ]
    },
    {
     "data": {
      "text/plain": [
       "\"DB: Nominal solution at t = 12: found\""
      ]
     },
     "metadata": {},
     "output_type": "display_data"
    },
    {
     "data": {
      "text/plain": [
       "\"DB: CLDRTO method: 1 - Solution at t = 12: found\""
      ]
     },
     "metadata": {},
     "output_type": "display_data"
    },
    {
     "name": "stdout",
     "output_type": "stream",
     "text": [
      "MC: 1>> Time: 13\n",
      "MC: 1>> Time: 14\n",
      "MC: 1>> Time: 15\n",
      "MC: 1>> Time: 16\n"
     ]
    },
    {
     "data": {
      "text/plain": [
       "\"DB: Nominal solution at t = 16: found\""
      ]
     },
     "metadata": {},
     "output_type": "display_data"
    },
    {
     "data": {
      "text/plain": [
       "\"DB: CLDRTO method: 1 - Solution at t = 16: found\""
      ]
     },
     "metadata": {},
     "output_type": "display_data"
    },
    {
     "name": "stdout",
     "output_type": "stream",
     "text": [
      "MC: 1>> Time: 17\n",
      "MC: 1>> Time: 18\n",
      "MC: 1>> Time: 19\n",
      "MC: 1>> Time: 20\n"
     ]
    },
    {
     "data": {
      "text/plain": [
       "\"DB: Nominal solution at t = 20: found\""
      ]
     },
     "metadata": {},
     "output_type": "display_data"
    },
    {
     "data": {
      "text/plain": [
       "\"DB: CLDRTO method: 1 - Solution at t = 20: found\""
      ]
     },
     "metadata": {},
     "output_type": "display_data"
    },
    {
     "data": {
      "text/plain": [
       "\"Nominal solution at t = 0: found\""
      ]
     },
     "metadata": {},
     "output_type": "display_data"
    },
    {
     "name": "stdout",
     "output_type": "stream",
     "text": [
      "MC: 1>> Time: 1\n"
     ]
    },
    {
     "data": {
      "text/plain": [
       "\"DB: opt. gap 1.000000005263681\""
      ]
     },
     "metadata": {},
     "output_type": "display_data"
    },
    {
     "data": {
      "text/plain": [
       "\">>>>>> iteration 1:O\""
      ]
     },
     "metadata": {},
     "output_type": "display_data"
    },
    {
     "data": {
      "text/plain": [
       "\"DB: opt. gap 0.00431106866548491\""
      ]
     },
     "metadata": {},
     "output_type": "display_data"
    },
    {
     "data": {
      "text/plain": [
       "\">>>>>> iteration 2:O\""
      ]
     },
     "metadata": {},
     "output_type": "display_data"
    },
    {
     "data": {
      "text/plain": [
       "\"DB: opt. gap 0.004100693528206623\""
      ]
     },
     "metadata": {},
     "output_type": "display_data"
    },
    {
     "data": {
      "text/plain": [
       "\">>>>>> iteration 3:O\""
      ]
     },
     "metadata": {},
     "output_type": "display_data"
    },
    {
     "data": {
      "text/plain": [
       "\"DB: random\""
      ]
     },
     "metadata": {},
     "output_type": "display_data"
    },
    {
     "data": {
      "text/plain": [
       "\"DB: opt. gap 2.461462282001734e-6\""
      ]
     },
     "metadata": {},
     "output_type": "display_data"
    },
    {
     "data": {
      "text/plain": [
       "\"DB: CLDRTO method: 2 - Solution at t = 1: found\""
      ]
     },
     "metadata": {},
     "output_type": "display_data"
    },
    {
     "name": "stdout",
     "output_type": "stream",
     "text": [
      "MC: 1>> Time: 2\n",
      "MC: 1>> Time: 3\n",
      "MC: 1>> Time: 4\n"
     ]
    },
    {
     "data": {
      "text/plain": [
       "\"DB: Nominal solution at t = 4: found\""
      ]
     },
     "metadata": {},
     "output_type": "display_data"
    },
    {
     "data": {
      "text/plain": [
       "\"DB: opt. gap 1.0000000311999695\""
      ]
     },
     "metadata": {},
     "output_type": "display_data"
    },
    {
     "data": {
      "text/plain": [
       "\">>>>>> iteration 1:O\""
      ]
     },
     "metadata": {},
     "output_type": "display_data"
    },
    {
     "data": {
      "text/plain": [
       "\"DB: opt. gap 0.023777767760178495\""
      ]
     },
     "metadata": {},
     "output_type": "display_data"
    },
    {
     "data": {
      "text/plain": [
       "\">>>>>> iteration 2:O\""
      ]
     },
     "metadata": {},
     "output_type": "display_data"
    },
    {
     "data": {
      "text/plain": [
       "\"DB: opt. gap 0.022115799246487627\""
      ]
     },
     "metadata": {},
     "output_type": "display_data"
    },
    {
     "data": {
      "text/plain": [
       "\">>>>>> iteration 3:O\""
      ]
     },
     "metadata": {},
     "output_type": "display_data"
    },
    {
     "data": {
      "text/plain": [
       "\"DB: opt. gap 2.509504264833513e-5\""
      ]
     },
     "metadata": {},
     "output_type": "display_data"
    },
    {
     "data": {
      "text/plain": [
       "\"DB: CLDRTO method: 2 - Solution at t = 4: found\""
      ]
     },
     "metadata": {},
     "output_type": "display_data"
    },
    {
     "name": "stdout",
     "output_type": "stream",
     "text": [
      "MC: 1>> Time: 5\n",
      "MC: 1>> Time: 6\n",
      "MC: 1>> Time: 7\n",
      "MC: 1>> Time: 8\n"
     ]
    },
    {
     "data": {
      "text/plain": [
       "\"DB: Nominal solution at t = 8: found\""
      ]
     },
     "metadata": {},
     "output_type": "display_data"
    },
    {
     "data": {
      "text/plain": [
       "\"DB: opt. gap 1.0000000189039628\""
      ]
     },
     "metadata": {},
     "output_type": "display_data"
    },
    {
     "data": {
      "text/plain": [
       "\">>>>>> iteration 1:O\""
      ]
     },
     "metadata": {},
     "output_type": "display_data"
    },
    {
     "data": {
      "text/plain": [
       "\"DB: opt. gap 0.033473859123576775\""
      ]
     },
     "metadata": {},
     "output_type": "display_data"
    },
    {
     "data": {
      "text/plain": [
       "\">>>>>> iteration 2:O\""
      ]
     },
     "metadata": {},
     "output_type": "display_data"
    },
    {
     "data": {
      "text/plain": [
       "\"DB: opt. gap 0.012610916093192797\""
      ]
     },
     "metadata": {},
     "output_type": "display_data"
    },
    {
     "data": {
      "text/plain": [
       "\">>>>>> iteration 3:O\""
      ]
     },
     "metadata": {},
     "output_type": "display_data"
    },
    {
     "data": {
      "text/plain": [
       "\"DB: opt. gap 8.444693290768555e-5\""
      ]
     },
     "metadata": {},
     "output_type": "display_data"
    },
    {
     "data": {
      "text/plain": [
       "\"DB: CLDRTO method: 2 - Solution at t = 8: found\""
      ]
     },
     "metadata": {},
     "output_type": "display_data"
    },
    {
     "name": "stdout",
     "output_type": "stream",
     "text": [
      "MC: 1>> Time: 9\n",
      "MC: 1>> Time: 10\n",
      "MC: 1>> Time: 11\n",
      "MC: 1>> Time: 12\n"
     ]
    },
    {
     "data": {
      "text/plain": [
       "\"DB: Nominal solution at t = 12: found\""
      ]
     },
     "metadata": {},
     "output_type": "display_data"
    },
    {
     "data": {
      "text/plain": [
       "\"DB: opt. gap 1.0000000030315916\""
      ]
     },
     "metadata": {},
     "output_type": "display_data"
    },
    {
     "data": {
      "text/plain": [
       "\">>>>>> iteration 1:O\""
      ]
     },
     "metadata": {},
     "output_type": "display_data"
    },
    {
     "data": {
      "text/plain": [
       "\"DB: opt. gap 0.009508311129855309\""
      ]
     },
     "metadata": {},
     "output_type": "display_data"
    },
    {
     "data": {
      "text/plain": [
       "\">>>>>> iteration 2:O\""
      ]
     },
     "metadata": {},
     "output_type": "display_data"
    },
    {
     "data": {
      "text/plain": [
       "\"DB: opt. gap 0.0028288168024331404\""
      ]
     },
     "metadata": {},
     "output_type": "display_data"
    },
    {
     "data": {
      "text/plain": [
       "\">>>>>> iteration 3:O\""
      ]
     },
     "metadata": {},
     "output_type": "display_data"
    },
    {
     "data": {
      "text/plain": [
       "\"DB: opt. gap 0.0007165610535148177\""
      ]
     },
     "metadata": {},
     "output_type": "display_data"
    },
    {
     "data": {
      "text/plain": [
       "\"DB: CLDRTO method: 2 - Solution at t = 12: found\""
      ]
     },
     "metadata": {},
     "output_type": "display_data"
    },
    {
     "name": "stdout",
     "output_type": "stream",
     "text": [
      "MC: 1>> Time: 13\n",
      "MC: 1>> Time: 14\n",
      "MC: 1>> Time: 15\n",
      "MC: 1>> Time: 16\n"
     ]
    },
    {
     "data": {
      "text/plain": [
       "\"DB: Nominal solution at t = 16: found\""
      ]
     },
     "metadata": {},
     "output_type": "display_data"
    },
    {
     "data": {
      "text/plain": [
       "\"DB: opt. gap 1.0000000052944829\""
      ]
     },
     "metadata": {},
     "output_type": "display_data"
    },
    {
     "data": {
      "text/plain": [
       "\">>>>>> iteration 1:O\""
      ]
     },
     "metadata": {},
     "output_type": "display_data"
    },
    {
     "data": {
      "text/plain": [
       "\"DB: opt. gap 0.026320346148324104\""
      ]
     },
     "metadata": {},
     "output_type": "display_data"
    },
    {
     "data": {
      "text/plain": [
       "\">>>>>> iteration 2:O\""
      ]
     },
     "metadata": {},
     "output_type": "display_data"
    },
    {
     "data": {
      "text/plain": [
       "\"DB: opt. gap 0.008632200769467031\""
      ]
     },
     "metadata": {},
     "output_type": "display_data"
    },
    {
     "data": {
      "text/plain": [
       "\">>>>>> iteration 3:O\""
      ]
     },
     "metadata": {},
     "output_type": "display_data"
    },
    {
     "data": {
      "text/plain": [
       "\"DB: opt. gap 0.00928141067935382\""
      ]
     },
     "metadata": {},
     "output_type": "display_data"
    },
    {
     "data": {
      "text/plain": [
       "\">>>>>> iteration 4:O\""
      ]
     },
     "metadata": {},
     "output_type": "display_data"
    },
    {
     "data": {
      "text/plain": [
       "\"DB: random\""
      ]
     },
     "metadata": {},
     "output_type": "display_data"
    },
    {
     "data": {
      "text/plain": [
       "\"DB: opt. gap 0.002371914466105295\""
      ]
     },
     "metadata": {},
     "output_type": "display_data"
    },
    {
     "data": {
      "text/plain": [
       "\">>>>>> iteration 5:O\""
      ]
     },
     "metadata": {},
     "output_type": "display_data"
    },
    {
     "data": {
      "text/plain": [
       "\"DB: opt. gap 6.8377099975728835e-6\""
      ]
     },
     "metadata": {},
     "output_type": "display_data"
    },
    {
     "data": {
      "text/plain": [
       "\"DB: CLDRTO method: 2 - Solution at t = 16: found\""
      ]
     },
     "metadata": {},
     "output_type": "display_data"
    },
    {
     "name": "stdout",
     "output_type": "stream",
     "text": [
      "MC: 1>> Time: 17\n",
      "MC: 1>> Time: 18\n",
      "MC: 1>> Time: 19\n",
      "MC: 1>> Time: 20\n"
     ]
    },
    {
     "data": {
      "text/plain": [
       "\"DB: Nominal solution at t = 20: found\""
      ]
     },
     "metadata": {},
     "output_type": "display_data"
    },
    {
     "data": {
      "text/plain": [
       "\"DB: opt. gap 1.0000000059361165\""
      ]
     },
     "metadata": {},
     "output_type": "display_data"
    },
    {
     "data": {
      "text/plain": [
       "\">>>>>> iteration 1:O\""
      ]
     },
     "metadata": {},
     "output_type": "display_data"
    },
    {
     "data": {
      "text/plain": [
       "\"DB: opt. gap 0.02884296645237113\""
      ]
     },
     "metadata": {},
     "output_type": "display_data"
    },
    {
     "data": {
      "text/plain": [
       "\">>>>>> iteration 2:O\""
      ]
     },
     "metadata": {},
     "output_type": "display_data"
    },
    {
     "data": {
      "text/plain": [
       "\"DB: opt. gap 0.014551545318278403\""
      ]
     },
     "metadata": {},
     "output_type": "display_data"
    },
    {
     "data": {
      "text/plain": [
       "\">>>>>> iteration 3:O\""
      ]
     },
     "metadata": {},
     "output_type": "display_data"
    },
    {
     "data": {
      "text/plain": [
       "\"DB: opt. gap 0.0035683954507666703\""
      ]
     },
     "metadata": {},
     "output_type": "display_data"
    },
    {
     "data": {
      "text/plain": [
       "\">>>>>> iteration 4:O\""
      ]
     },
     "metadata": {},
     "output_type": "display_data"
    },
    {
     "data": {
      "text/plain": [
       "\"DB: opt. gap 0.0015410002766874146\""
      ]
     },
     "metadata": {},
     "output_type": "display_data"
    },
    {
     "data": {
      "text/plain": [
       "\">>>>>> iteration 5:O\""
      ]
     },
     "metadata": {},
     "output_type": "display_data"
    },
    {
     "data": {
      "text/plain": [
       "\"DB: opt. gap 0.00011418496144633389\""
      ]
     },
     "metadata": {},
     "output_type": "display_data"
    },
    {
     "data": {
      "text/plain": [
       "\"DB: CLDRTO method: 2 - Solution at t = 20: found\""
      ]
     },
     "metadata": {},
     "output_type": "display_data"
    },
    {
     "data": {
      "text/plain": [
       "\"DB: MC iter. 2 --> Plant parameter = 0.6968745234944331\""
      ]
     },
     "metadata": {},
     "output_type": "display_data"
    },
    {
     "data": {
      "text/plain": [
       "\"Nominal solution at t = 0: found\""
      ]
     },
     "metadata": {},
     "output_type": "display_data"
    },
    {
     "name": "stdout",
     "output_type": "stream",
     "text": [
      "MC: 2>> Time: 1\n"
     ]
    },
    {
     "data": {
      "text/plain": [
       "\"DB: CLDRTO method: 1 - Solution at t = 1: found\""
      ]
     },
     "metadata": {},
     "output_type": "display_data"
    },
    {
     "name": "stdout",
     "output_type": "stream",
     "text": [
      "MC: 2>> Time: 2\n",
      "MC: 2>> Time: 3\n",
      "MC: 2>> Time: 4\n"
     ]
    },
    {
     "data": {
      "text/plain": [
       "\"DB: Nominal solution at t = 4: found\""
      ]
     },
     "metadata": {},
     "output_type": "display_data"
    },
    {
     "data": {
      "text/plain": [
       "\"DB: CLDRTO method: 1 - Solution at t = 4: found\""
      ]
     },
     "metadata": {},
     "output_type": "display_data"
    },
    {
     "name": "stdout",
     "output_type": "stream",
     "text": [
      "MC: 2>> Time: 5\n",
      "MC: 2>> Time: 6\n",
      "MC: 2>> Time: 7\n",
      "MC: 2>> Time: 8\n"
     ]
    },
    {
     "data": {
      "text/plain": [
       "\"DB: Nominal solution at t = 8: found\""
      ]
     },
     "metadata": {},
     "output_type": "display_data"
    },
    {
     "data": {
      "text/plain": [
       "\"DB: CLDRTO method: 1 - Solution at t = 8: found\""
      ]
     },
     "metadata": {},
     "output_type": "display_data"
    },
    {
     "name": "stdout",
     "output_type": "stream",
     "text": [
      "MC: 2>> Time: 9\n",
      "MC: 2>> Time: 10\n",
      "MC: 2>> Time: 11\n",
      "MC: 2>> Time: 12\n"
     ]
    },
    {
     "data": {
      "text/plain": [
       "\"DB: Nominal solution at t = 12: found\""
      ]
     },
     "metadata": {},
     "output_type": "display_data"
    },
    {
     "data": {
      "text/plain": [
       "\"DB: CLDRTO method: 1 - Solution at t = 12: found\""
      ]
     },
     "metadata": {},
     "output_type": "display_data"
    },
    {
     "name": "stdout",
     "output_type": "stream",
     "text": [
      "MC: 2>> Time: 13\n",
      "MC: 2>> Time: 14\n",
      "MC: 2>> Time: 15\n",
      "MC: 2>> Time: 16\n"
     ]
    },
    {
     "data": {
      "text/plain": [
       "\"DB: Nominal solution at t = 16: found\""
      ]
     },
     "metadata": {},
     "output_type": "display_data"
    },
    {
     "data": {
      "text/plain": [
       "\"DB: CLDRTO method: 1 - Solution at t = 16: found\""
      ]
     },
     "metadata": {},
     "output_type": "display_data"
    },
    {
     "name": "stdout",
     "output_type": "stream",
     "text": [
      "MC: 2>> Time: 17\n",
      "MC: 2>> Time: 18\n",
      "MC: 2>> Time: 19\n",
      "MC: 2>> Time: 20\n"
     ]
    },
    {
     "data": {
      "text/plain": [
       "\"DB: Nominal solution at t = 20: found\""
      ]
     },
     "metadata": {},
     "output_type": "display_data"
    },
    {
     "data": {
      "text/plain": [
       "\"DB: CLDRTO method: 1 - Solution at t = 20: found\""
      ]
     },
     "metadata": {},
     "output_type": "display_data"
    },
    {
     "data": {
      "text/plain": [
       "\"Nominal solution at t = 0: found\""
      ]
     },
     "metadata": {},
     "output_type": "display_data"
    },
    {
     "name": "stdout",
     "output_type": "stream",
     "text": [
      "MC: 2>> Time: 1\n"
     ]
    },
    {
     "data": {
      "text/plain": [
       "\"DB: opt. gap 1.000000005263681\""
      ]
     },
     "metadata": {},
     "output_type": "display_data"
    },
    {
     "data": {
      "text/plain": [
       "\">>>>>> iteration 1:O\""
      ]
     },
     "metadata": {},
     "output_type": "display_data"
    },
    {
     "data": {
      "text/plain": [
       "\"DB: opt. gap 0.00431106866548491\""
      ]
     },
     "metadata": {},
     "output_type": "display_data"
    },
    {
     "data": {
      "text/plain": [
       "\">>>>>> iteration 2:O\""
      ]
     },
     "metadata": {},
     "output_type": "display_data"
    },
    {
     "data": {
      "text/plain": [
       "\"DB: opt. gap 0.004100693528206623\""
      ]
     },
     "metadata": {},
     "output_type": "display_data"
    },
    {
     "data": {
      "text/plain": [
       "\">>>>>> iteration 3:O\""
      ]
     },
     "metadata": {},
     "output_type": "display_data"
    },
    {
     "data": {
      "text/plain": [
       "\"DB: random\""
      ]
     },
     "metadata": {},
     "output_type": "display_data"
    },
    {
     "data": {
      "text/plain": [
       "\"DB: opt. gap 2.4613433397302947e-6\""
      ]
     },
     "metadata": {},
     "output_type": "display_data"
    },
    {
     "data": {
      "text/plain": [
       "\"DB: CLDRTO method: 2 - Solution at t = 1: found\""
      ]
     },
     "metadata": {},
     "output_type": "display_data"
    },
    {
     "name": "stdout",
     "output_type": "stream",
     "text": [
      "MC: 2>> Time: 2\n",
      "MC: 2>> Time: 3\n",
      "MC: 2>> Time: 4\n"
     ]
    },
    {
     "data": {
      "text/plain": [
       "\"DB: Nominal solution at t = 4: found\""
      ]
     },
     "metadata": {},
     "output_type": "display_data"
    },
    {
     "data": {
      "text/plain": [
       "\"DB: opt. gap 1.0000000240756988\""
      ]
     },
     "metadata": {},
     "output_type": "display_data"
    },
    {
     "data": {
      "text/plain": [
       "\">>>>>> iteration 1:O\""
      ]
     },
     "metadata": {},
     "output_type": "display_data"
    },
    {
     "data": {
      "text/plain": [
       "\"DB: opt. gap 0.011294448853261495\""
      ]
     },
     "metadata": {},
     "output_type": "display_data"
    },
    {
     "data": {
      "text/plain": [
       "\">>>>>> iteration 2:O\""
      ]
     },
     "metadata": {},
     "output_type": "display_data"
    },
    {
     "data": {
      "text/plain": [
       "\"DB: opt. gap 0.009358696101456088\""
      ]
     },
     "metadata": {},
     "output_type": "display_data"
    },
    {
     "data": {
      "text/plain": [
       "\">>>>>> iteration 3:O\""
      ]
     },
     "metadata": {},
     "output_type": "display_data"
    },
    {
     "data": {
      "text/plain": [
       "\"DB: opt. gap 5.397230663241691e-5\""
      ]
     },
     "metadata": {},
     "output_type": "display_data"
    },
    {
     "data": {
      "text/plain": [
       "\"DB: CLDRTO method: 2 - Solution at t = 4: found\""
      ]
     },
     "metadata": {},
     "output_type": "display_data"
    },
    {
     "name": "stdout",
     "output_type": "stream",
     "text": [
      "MC: 2>> Time: 5\n",
      "MC: 2>> Time: 6\n",
      "MC: 2>> Time: 7\n",
      "MC: 2>> Time: 8\n"
     ]
    },
    {
     "data": {
      "text/plain": [
       "\"DB: Nominal solution at t = 8: found\""
      ]
     },
     "metadata": {},
     "output_type": "display_data"
    },
    {
     "data": {
      "text/plain": [
       "\"DB: opt. gap 1.0000236086542478\""
      ]
     },
     "metadata": {},
     "output_type": "display_data"
    },
    {
     "data": {
      "text/plain": [
       "\">>>>>> iteration 1:O\""
      ]
     },
     "metadata": {},
     "output_type": "display_data"
    },
    {
     "data": {
      "text/plain": [
       "\"DB: opt. gap 0.9950290803644023\""
      ]
     },
     "metadata": {},
     "output_type": "display_data"
    },
    {
     "data": {
      "text/plain": [
       "\">>>>>> iteration 2:O\""
      ]
     },
     "metadata": {},
     "output_type": "display_data"
    },
    {
     "data": {
      "text/plain": [
       "\"DB: opt. gap 0.9837022574696671\""
      ]
     },
     "metadata": {},
     "output_type": "display_data"
    },
    {
     "data": {
      "text/plain": [
       "\">>>>>> iteration 3:O\""
      ]
     },
     "metadata": {},
     "output_type": "display_data"
    },
    {
     "data": {
      "text/plain": [
       "\"DB: opt. gap 0.9484686176699673\""
      ]
     },
     "metadata": {},
     "output_type": "display_data"
    },
    {
     "data": {
      "text/plain": [
       "\">>>>>> iteration 4:O\""
      ]
     },
     "metadata": {},
     "output_type": "display_data"
    },
    {
     "data": {
      "text/plain": [
       "\"DB: opt. gap 0.8500046784415559\""
      ]
     },
     "metadata": {},
     "output_type": "display_data"
    },
    {
     "data": {
      "text/plain": [
       "\">>>>>> iteration 5:O\""
      ]
     },
     "metadata": {},
     "output_type": "display_data"
    },
    {
     "data": {
      "text/plain": [
       "\"DB: opt. gap 0.6160178742567168\""
      ]
     },
     "metadata": {},
     "output_type": "display_data"
    },
    {
     "data": {
      "text/plain": [
       "\">>>>>> iteration 6:O\""
      ]
     },
     "metadata": {},
     "output_type": "display_data"
    },
    {
     "data": {
      "text/plain": [
       "\"DB: opt. gap 0.2967343631250747\""
      ]
     },
     "metadata": {},
     "output_type": "display_data"
    },
    {
     "data": {
      "text/plain": [
       "\">>>>>> iteration 7:O\""
      ]
     },
     "metadata": {},
     "output_type": "display_data"
    },
    {
     "data": {
      "text/plain": [
       "\"DB: opt. gap 0.09875890165705492\""
      ]
     },
     "metadata": {},
     "output_type": "display_data"
    },
    {
     "data": {
      "text/plain": [
       "\">>>>>> iteration 8:O\""
      ]
     },
     "metadata": {},
     "output_type": "display_data"
    },
    {
     "data": {
      "text/plain": [
       "\"DB: opt. gap 0.032251065663164775\""
      ]
     },
     "metadata": {},
     "output_type": "display_data"
    },
    {
     "data": {
      "text/plain": [
       "\">>>>>> iteration 9:O\""
      ]
     },
     "metadata": {},
     "output_type": "display_data"
    },
    {
     "data": {
      "text/plain": [
       "\"DB: opt. gap 0.00889024588271648\""
      ]
     },
     "metadata": {},
     "output_type": "display_data"
    },
    {
     "data": {
      "text/plain": [
       "\">>>>>> iteration 10:O\""
      ]
     },
     "metadata": {},
     "output_type": "display_data"
    },
    {
     "data": {
      "text/plain": [
       "\"DB: opt. gap 0.010603814084960164\""
      ]
     },
     "metadata": {},
     "output_type": "display_data"
    },
    {
     "data": {
      "text/plain": [
       "\">>>>>> iteration 11:O\""
      ]
     },
     "metadata": {},
     "output_type": "display_data"
    },
    {
     "data": {
      "text/plain": [
       "\"DB: opt. gap 0.005900430140434278\""
      ]
     },
     "metadata": {},
     "output_type": "display_data"
    },
    {
     "data": {
      "text/plain": [
       "\">>>>>> iteration 12:O\""
      ]
     },
     "metadata": {},
     "output_type": "display_data"
    },
    {
     "data": {
      "text/plain": [
       "\"DB: opt. gap 0.0025356148321737104\""
      ]
     },
     "metadata": {},
     "output_type": "display_data"
    },
    {
     "data": {
      "text/plain": [
       "\">>>>>> iteration 13:O\""
      ]
     },
     "metadata": {},
     "output_type": "display_data"
    },
    {
     "data": {
      "text/plain": [
       "\"DB: opt. gap 0.00010773835398755734\""
      ]
     },
     "metadata": {},
     "output_type": "display_data"
    },
    {
     "data": {
      "text/plain": [
       "\"DB: CLDRTO method: 2 - Solution at t = 8: found\""
      ]
     },
     "metadata": {},
     "output_type": "display_data"
    },
    {
     "name": "stdout",
     "output_type": "stream",
     "text": [
      "MC: 2>> Time: 9\n",
      "MC: 2>> Time: 10\n",
      "MC: 2>> Time: 11\n",
      "MC: 2>> Time: 12\n"
     ]
    },
    {
     "data": {
      "text/plain": [
       "\"DB: Nominal solution at t = 12: found\""
      ]
     },
     "metadata": {},
     "output_type": "display_data"
    },
    {
     "data": {
      "text/plain": [
       "\"DB: opt. gap 1.0000005386652364\""
      ]
     },
     "metadata": {},
     "output_type": "display_data"
    },
    {
     "data": {
      "text/plain": [
       "\">>>>>> iteration 1:O\""
      ]
     },
     "metadata": {},
     "output_type": "display_data"
    },
    {
     "data": {
      "text/plain": [
       "\"DB: opt. gap 0.6869392157162932\""
      ]
     },
     "metadata": {},
     "output_type": "display_data"
    },
    {
     "data": {
      "text/plain": [
       "\">>>>>> iteration 2:O\""
      ]
     },
     "metadata": {},
     "output_type": "display_data"
    },
    {
     "data": {
      "text/plain": [
       "\"DB: opt. gap 0.38861136792813544\""
      ]
     },
     "metadata": {},
     "output_type": "display_data"
    },
    {
     "data": {
      "text/plain": [
       "\">>>>>> iteration 3:O\""
      ]
     },
     "metadata": {},
     "output_type": "display_data"
    },
    {
     "data": {
      "text/plain": [
       "\"DB: opt. gap 0.15013377787651505\""
      ]
     },
     "metadata": {},
     "output_type": "display_data"
    },
    {
     "data": {
      "text/plain": [
       "\">>>>>> iteration 4:O\""
      ]
     },
     "metadata": {},
     "output_type": "display_data"
    },
    {
     "data": {
      "text/plain": [
       "\"DB: opt. gap 0.0437360286051188\""
      ]
     },
     "metadata": {},
     "output_type": "display_data"
    },
    {
     "data": {
      "text/plain": [
       "\">>>>>> iteration 5:O\""
      ]
     },
     "metadata": {},
     "output_type": "display_data"
    },
    {
     "data": {
      "text/plain": [
       "\"DB: opt. gap 0.013454374137494438\""
      ]
     },
     "metadata": {},
     "output_type": "display_data"
    },
    {
     "data": {
      "text/plain": [
       "\">>>>>> iteration 6:O\""
      ]
     },
     "metadata": {},
     "output_type": "display_data"
    },
    {
     "data": {
      "text/plain": [
       "\"DB: opt. gap 0.0037308281227430894\""
      ]
     },
     "metadata": {},
     "output_type": "display_data"
    },
    {
     "data": {
      "text/plain": [
       "\">>>>>> iteration 7:O\""
      ]
     },
     "metadata": {},
     "output_type": "display_data"
    },
    {
     "data": {
      "text/plain": [
       "\"DB: opt. gap 0.0013642143004790064\""
      ]
     },
     "metadata": {},
     "output_type": "display_data"
    },
    {
     "data": {
      "text/plain": [
       "\">>>>>> iteration 8:O\""
      ]
     },
     "metadata": {},
     "output_type": "display_data"
    },
    {
     "data": {
      "text/plain": [
       "\"DB: opt. gap 0.0003359534286761831\""
      ]
     },
     "metadata": {},
     "output_type": "display_data"
    },
    {
     "data": {
      "text/plain": [
       "\"DB: CLDRTO method: 2 - Solution at t = 12: found\""
      ]
     },
     "metadata": {},
     "output_type": "display_data"
    },
    {
     "name": "stdout",
     "output_type": "stream",
     "text": [
      "MC: 2>> Time: 13\n",
      "MC: 2>> Time: 14\n",
      "MC: 2>> Time: 15\n",
      "MC: 2>> Time: 16\n"
     ]
    },
    {
     "data": {
      "text/plain": [
       "\"DB: Nominal solution at t = 16: found\""
      ]
     },
     "metadata": {},
     "output_type": "display_data"
    },
    {
     "data": {
      "text/plain": [
       "\"DB: opt. gap 1.0000005868325066\""
      ]
     },
     "metadata": {},
     "output_type": "display_data"
    },
    {
     "data": {
      "text/plain": [
       "\">>>>>> iteration 1:O\""
      ]
     },
     "metadata": {},
     "output_type": "display_data"
    },
    {
     "data": {
      "text/plain": [
       "\"DB: opt. gap 0.7710583629714595\""
      ]
     },
     "metadata": {},
     "output_type": "display_data"
    },
    {
     "data": {
      "text/plain": [
       "\">>>>>> iteration 2:O\""
      ]
     },
     "metadata": {},
     "output_type": "display_data"
    },
    {
     "data": {
      "text/plain": [
       "\"DB: opt. gap 0.48688270387348903\""
      ]
     },
     "metadata": {},
     "output_type": "display_data"
    },
    {
     "data": {
      "text/plain": [
       "\">>>>>> iteration 3:O\""
      ]
     },
     "metadata": {},
     "output_type": "display_data"
    },
    {
     "data": {
      "text/plain": [
       "\"DB: opt. gap 0.20836270186304967\""
      ]
     },
     "metadata": {},
     "output_type": "display_data"
    },
    {
     "data": {
      "text/plain": [
       "\">>>>>> iteration 4:O\""
      ]
     },
     "metadata": {},
     "output_type": "display_data"
    },
    {
     "data": {
      "text/plain": [
       "\"DB: opt. gap 0.06441163658320366\""
      ]
     },
     "metadata": {},
     "output_type": "display_data"
    },
    {
     "data": {
      "text/plain": [
       "\">>>>>> iteration 5:O\""
      ]
     },
     "metadata": {},
     "output_type": "display_data"
    },
    {
     "data": {
      "text/plain": [
       "\"DB: opt. gap 0.020156731407977354\""
      ]
     },
     "metadata": {},
     "output_type": "display_data"
    },
    {
     "data": {
      "text/plain": [
       "\">>>>>> iteration 6:O\""
      ]
     },
     "metadata": {},
     "output_type": "display_data"
    },
    {
     "data": {
      "text/plain": [
       "\"DB: opt. gap 0.005462240652304167\""
      ]
     },
     "metadata": {},
     "output_type": "display_data"
    },
    {
     "data": {
      "text/plain": [
       "\">>>>>> iteration 7:O\""
      ]
     },
     "metadata": {},
     "output_type": "display_data"
    },
    {
     "data": {
      "text/plain": [
       "\"DB: opt. gap 0.0017166675814960022\""
      ]
     },
     "metadata": {},
     "output_type": "display_data"
    },
    {
     "data": {
      "text/plain": [
       "\">>>>>> iteration 8:O\""
      ]
     },
     "metadata": {},
     "output_type": "display_data"
    },
    {
     "data": {
      "text/plain": [
       "\"DB: opt. gap 0.0010531431993314043\""
      ]
     },
     "metadata": {},
     "output_type": "display_data"
    },
    {
     "data": {
      "text/plain": [
       "\">>>>>> iteration 9:O\""
      ]
     },
     "metadata": {},
     "output_type": "display_data"
    },
    {
     "data": {
      "text/plain": [
       "\"DB: random\""
      ]
     },
     "metadata": {},
     "output_type": "display_data"
    },
    {
     "data": {
      "text/plain": [
       "\"DB: opt. gap 0.0002746545127199422\""
      ]
     },
     "metadata": {},
     "output_type": "display_data"
    },
    {
     "data": {
      "text/plain": [
       "\"DB: CLDRTO method: 2 - Solution at t = 16: found\""
      ]
     },
     "metadata": {},
     "output_type": "display_data"
    },
    {
     "name": "stdout",
     "output_type": "stream",
     "text": [
      "MC: 2>> Time: 17\n",
      "MC: 2>> Time: 18\n",
      "MC: 2>> Time: 19\n",
      "MC: 2>> Time: 20\n"
     ]
    },
    {
     "data": {
      "text/plain": [
       "\"DB: Nominal solution at t = 20: found\""
      ]
     },
     "metadata": {},
     "output_type": "display_data"
    },
    {
     "data": {
      "text/plain": [
       "\"DB: opt. gap 1.0000005084839085\""
      ]
     },
     "metadata": {},
     "output_type": "display_data"
    },
    {
     "data": {
      "text/plain": [
       "\">>>>>> iteration 1:O\""
      ]
     },
     "metadata": {},
     "output_type": "display_data"
    },
    {
     "data": {
      "text/plain": [
       "\"DB: opt. gap 0.7134971305310078\""
      ]
     },
     "metadata": {},
     "output_type": "display_data"
    },
    {
     "data": {
      "text/plain": [
       "\">>>>>> iteration 2:O\""
      ]
     },
     "metadata": {},
     "output_type": "display_data"
    },
    {
     "data": {
      "text/plain": [
       "\"DB: opt. gap 0.4121873073001563\""
      ]
     },
     "metadata": {},
     "output_type": "display_data"
    },
    {
     "data": {
      "text/plain": [
       "\">>>>>> iteration 3:O\""
      ]
     },
     "metadata": {},
     "output_type": "display_data"
    },
    {
     "data": {
      "text/plain": [
       "\"DB: opt. gap 0.16182826108688125\""
      ]
     },
     "metadata": {},
     "output_type": "display_data"
    },
    {
     "data": {
      "text/plain": [
       "\">>>>>> iteration 4:O\""
      ]
     },
     "metadata": {},
     "output_type": "display_data"
    },
    {
     "data": {
      "text/plain": [
       "\"DB: opt. gap 0.04759515146438899\""
      ]
     },
     "metadata": {},
     "output_type": "display_data"
    },
    {
     "data": {
      "text/plain": [
       "\">>>>>> iteration 5:O\""
      ]
     },
     "metadata": {},
     "output_type": "display_data"
    },
    {
     "data": {
      "text/plain": [
       "\"DB: opt. gap 0.01416109882476761\""
      ]
     },
     "metadata": {},
     "output_type": "display_data"
    },
    {
     "data": {
      "text/plain": [
       "\">>>>>> iteration 6:O\""
      ]
     },
     "metadata": {},
     "output_type": "display_data"
    },
    {
     "data": {
      "text/plain": [
       "\"DB: opt. gap 0.0038724013605066603\""
      ]
     },
     "metadata": {},
     "output_type": "display_data"
    },
    {
     "data": {
      "text/plain": [
       "\">>>>>> iteration 7:O\""
      ]
     },
     "metadata": {},
     "output_type": "display_data"
    },
    {
     "data": {
      "text/plain": [
       "\"DB: opt. gap 0.0013277523730360053\""
      ]
     },
     "metadata": {},
     "output_type": "display_data"
    },
    {
     "data": {
      "text/plain": [
       "\">>>>>> iteration 8:O\""
      ]
     },
     "metadata": {},
     "output_type": "display_data"
    },
    {
     "data": {
      "text/plain": [
       "\"DB: opt. gap 0.0009618634971889645\""
      ]
     },
     "metadata": {},
     "output_type": "display_data"
    },
    {
     "data": {
      "text/plain": [
       "\"DB: CLDRTO method: 2 - Solution at t = 20: found\""
      ]
     },
     "metadata": {},
     "output_type": "display_data"
    },
    {
     "data": {
      "text/plain": [
       "\"DB: MC iter. 3 --> Plant parameter = 0.7885272744163991\""
      ]
     },
     "metadata": {},
     "output_type": "display_data"
    },
    {
     "data": {
      "text/plain": [
       "\"Nominal solution at t = 0: found\""
      ]
     },
     "metadata": {},
     "output_type": "display_data"
    },
    {
     "name": "stdout",
     "output_type": "stream",
     "text": [
      "MC: 3>> Time: 1\n"
     ]
    },
    {
     "data": {
      "text/plain": [
       "\"DB: CLDRTO method: 1 - Solution at t = 1: found\""
      ]
     },
     "metadata": {},
     "output_type": "display_data"
    },
    {
     "name": "stdout",
     "output_type": "stream",
     "text": [
      "MC: 3>> Time: 2\n",
      "MC: 3>> Time: 3\n",
      "MC: 3>> Time: 4\n"
     ]
    },
    {
     "data": {
      "text/plain": [
       "\"DB: Nominal solution at t = 4: found\""
      ]
     },
     "metadata": {},
     "output_type": "display_data"
    },
    {
     "data": {
      "text/plain": [
       "\"DB: CLDRTO method: 1 - Solution at t = 4: found\""
      ]
     },
     "metadata": {},
     "output_type": "display_data"
    },
    {
     "name": "stdout",
     "output_type": "stream",
     "text": [
      "MC: 3>> Time: 5\n",
      "MC: 3>> Time: 6\n",
      "MC: 3>> Time: 7\n",
      "MC: 3>> Time: 8\n"
     ]
    },
    {
     "data": {
      "text/plain": [
       "\"DB: Nominal solution at t = 8: found\""
      ]
     },
     "metadata": {},
     "output_type": "display_data"
    },
    {
     "data": {
      "text/plain": [
       "\"DB: CLDRTO method: 1 - Solution at t = 8: found\""
      ]
     },
     "metadata": {},
     "output_type": "display_data"
    },
    {
     "name": "stdout",
     "output_type": "stream",
     "text": [
      "MC: 3>> Time: 9\n",
      "MC: 3>> Time: 10\n",
      "MC: 3>> Time: 11\n",
      "MC: 3>> Time: 12\n"
     ]
    },
    {
     "data": {
      "text/plain": [
       "\"DB: Nominal solution at t = 12: found\""
      ]
     },
     "metadata": {},
     "output_type": "display_data"
    },
    {
     "data": {
      "text/plain": [
       "\"DB: CLDRTO method: 1 - Solution at t = 12: found\""
      ]
     },
     "metadata": {},
     "output_type": "display_data"
    },
    {
     "name": "stdout",
     "output_type": "stream",
     "text": [
      "MC: 3>> Time: 13\n",
      "MC: 3>> Time: 14\n",
      "MC: 3>> Time: 15\n",
      "MC: 3>> Time: 16\n"
     ]
    },
    {
     "data": {
      "text/plain": [
       "\"DB: Nominal solution at t = 16: found\""
      ]
     },
     "metadata": {},
     "output_type": "display_data"
    },
    {
     "data": {
      "text/plain": [
       "\"DB: CLDRTO method: 1 - Solution at t = 16: found\""
      ]
     },
     "metadata": {},
     "output_type": "display_data"
    },
    {
     "name": "stdout",
     "output_type": "stream",
     "text": [
      "MC: 3>> Time: 17\n",
      "MC: 3>> Time: 18\n",
      "MC: 3>> Time: 19\n",
      "MC: 3>> Time: 20\n"
     ]
    },
    {
     "data": {
      "text/plain": [
       "\"DB: Nominal solution at t = 20: found\""
      ]
     },
     "metadata": {},
     "output_type": "display_data"
    },
    {
     "data": {
      "text/plain": [
       "\"DB: CLDRTO method: 1 - Solution at t = 20: found\""
      ]
     },
     "metadata": {},
     "output_type": "display_data"
    },
    {
     "data": {
      "text/plain": [
       "\"Nominal solution at t = 0: found\""
      ]
     },
     "metadata": {},
     "output_type": "display_data"
    },
    {
     "name": "stdout",
     "output_type": "stream",
     "text": [
      "MC: 3>> Time: 1\n"
     ]
    },
    {
     "data": {
      "text/plain": [
       "\"DB: opt. gap 1.000000005263681\""
      ]
     },
     "metadata": {},
     "output_type": "display_data"
    },
    {
     "data": {
      "text/plain": [
       "\">>>>>> iteration 1:O\""
      ]
     },
     "metadata": {},
     "output_type": "display_data"
    },
    {
     "data": {
      "text/plain": [
       "\"DB: opt. gap 0.00431106866548491\""
      ]
     },
     "metadata": {},
     "output_type": "display_data"
    },
    {
     "data": {
      "text/plain": [
       "\">>>>>> iteration 2:O\""
      ]
     },
     "metadata": {},
     "output_type": "display_data"
    },
    {
     "data": {
      "text/plain": [
       "\"DB: opt. gap 0.004100693528206623\""
      ]
     },
     "metadata": {},
     "output_type": "display_data"
    },
    {
     "data": {
      "text/plain": [
       "\">>>>>> iteration 3:O\""
      ]
     },
     "metadata": {},
     "output_type": "display_data"
    },
    {
     "data": {
      "text/plain": [
       "\"DB: random\""
      ]
     },
     "metadata": {},
     "output_type": "display_data"
    },
    {
     "data": {
      "text/plain": [
       "\"DB: opt. gap 2.7786192016443173e-6\""
      ]
     },
     "metadata": {},
     "output_type": "display_data"
    },
    {
     "data": {
      "text/plain": [
       "\"DB: CLDRTO method: 2 - Solution at t = 1: found\""
      ]
     },
     "metadata": {},
     "output_type": "display_data"
    },
    {
     "name": "stdout",
     "output_type": "stream",
     "text": [
      "MC: 3>> Time: 2\n",
      "MC: 3>> Time: 3\n",
      "MC: 3>> Time: 4\n"
     ]
    },
    {
     "data": {
      "text/plain": [
       "\"DB: Nominal solution at t = 4: found\""
      ]
     },
     "metadata": {},
     "output_type": "display_data"
    },
    {
     "data": {
      "text/plain": [
       "\"DB: opt. gap 1.000000029241754\""
      ]
     },
     "metadata": {},
     "output_type": "display_data"
    },
    {
     "data": {
      "text/plain": [
       "\">>>>>> iteration 1:O\""
      ]
     },
     "metadata": {},
     "output_type": "display_data"
    },
    {
     "data": {
      "text/plain": [
       "\"DB: opt. gap 0.015692092939239708\""
      ]
     },
     "metadata": {},
     "output_type": "display_data"
    },
    {
     "data": {
      "text/plain": [
       "\">>>>>> iteration 2:O\""
      ]
     },
     "metadata": {},
     "output_type": "display_data"
    },
    {
     "data": {
      "text/plain": [
       "\"DB: opt. gap 0.014677513467042977\""
      ]
     },
     "metadata": {},
     "output_type": "display_data"
    },
    {
     "data": {
      "text/plain": [
       "\">>>>>> iteration 3:O\""
      ]
     },
     "metadata": {},
     "output_type": "display_data"
    },
    {
     "data": {
      "text/plain": [
       "\"DB: opt. gap 1.6882071226817547e-5\""
      ]
     },
     "metadata": {},
     "output_type": "display_data"
    },
    {
     "data": {
      "text/plain": [
       "\"DB: CLDRTO method: 2 - Solution at t = 4: found\""
      ]
     },
     "metadata": {},
     "output_type": "display_data"
    },
    {
     "name": "stdout",
     "output_type": "stream",
     "text": [
      "MC: 3>> Time: 5\n",
      "MC: 3>> Time: 6\n",
      "MC: 3>> Time: 7\n",
      "MC: 3>> Time: 8\n"
     ]
    },
    {
     "data": {
      "text/plain": [
       "\"DB: Nominal solution at t = 8: found\""
      ]
     },
     "metadata": {},
     "output_type": "display_data"
    },
    {
     "data": {
      "text/plain": [
       "\"DB: opt. gap 1.0000005806558305\""
      ]
     },
     "metadata": {},
     "output_type": "display_data"
    },
    {
     "data": {
      "text/plain": [
       "\">>>>>> iteration 1:O\""
      ]
     },
     "metadata": {},
     "output_type": "display_data"
    },
    {
     "data": {
      "text/plain": [
       "\"DB: opt. gap 0.518458762635646\""
      ]
     },
     "metadata": {},
     "output_type": "display_data"
    },
    {
     "data": {
      "text/plain": [
       "\">>>>>> iteration 2:O\""
      ]
     },
     "metadata": {},
     "output_type": "display_data"
    },
    {
     "data": {
      "text/plain": [
       "\"DB: opt. gap 0.29195274186445797\""
      ]
     },
     "metadata": {},
     "output_type": "display_data"
    },
    {
     "data": {
      "text/plain": [
       "\">>>>>> iteration 3:O\""
      ]
     },
     "metadata": {},
     "output_type": "display_data"
    },
    {
     "data": {
      "text/plain": [
       "\"DB: opt. gap 0.09831477064622063\""
      ]
     },
     "metadata": {},
     "output_type": "display_data"
    },
    {
     "data": {
      "text/plain": [
       "\">>>>>> iteration 4:O\""
      ]
     },
     "metadata": {},
     "output_type": "display_data"
    },
    {
     "data": {
      "text/plain": [
       "\"DB: opt. gap 0.059688610136793656\""
      ]
     },
     "metadata": {},
     "output_type": "display_data"
    },
    {
     "data": {
      "text/plain": [
       "\">>>>>> iteration 5:O\""
      ]
     },
     "metadata": {},
     "output_type": "display_data"
    },
    {
     "data": {
      "text/plain": [
       "\"DB: opt. gap 0.05350345385472454\""
      ]
     },
     "metadata": {},
     "output_type": "display_data"
    },
    {
     "data": {
      "text/plain": [
       "\">>>>>> iteration 6:O\""
      ]
     },
     "metadata": {},
     "output_type": "display_data"
    },
    {
     "data": {
      "text/plain": [
       "\"DB: opt. gap 0.013114400693798541\""
      ]
     },
     "metadata": {},
     "output_type": "display_data"
    },
    {
     "data": {
      "text/plain": [
       "\">>>>>> iteration 7:O\""
      ]
     },
     "metadata": {},
     "output_type": "display_data"
    },
    {
     "data": {
      "text/plain": [
       "\"DB: opt. gap 0.002949927115028173\""
      ]
     },
     "metadata": {},
     "output_type": "display_data"
    },
    {
     "data": {
      "text/plain": [
       "\">>>>>> iteration 8:O\""
      ]
     },
     "metadata": {},
     "output_type": "display_data"
    },
    {
     "data": {
      "text/plain": [
       "\"DB: opt. gap 0.0033361998714221235\""
      ]
     },
     "metadata": {},
     "output_type": "display_data"
    },
    {
     "data": {
      "text/plain": [
       "\">>>>>> iteration 9:O\""
      ]
     },
     "metadata": {},
     "output_type": "display_data"
    },
    {
     "data": {
      "text/plain": [
       "\"DB: random\""
      ]
     },
     "metadata": {},
     "output_type": "display_data"
    },
    {
     "data": {
      "text/plain": [
       "\"DB: opt. gap 0.0007130409749551421\""
      ]
     },
     "metadata": {},
     "output_type": "display_data"
    },
    {
     "data": {
      "text/plain": [
       "\"DB: CLDRTO method: 2 - Solution at t = 8: found\""
      ]
     },
     "metadata": {},
     "output_type": "display_data"
    },
    {
     "name": "stdout",
     "output_type": "stream",
     "text": [
      "MC: 3>> Time: 9\n",
      "MC: 3>> Time: 10\n",
      "MC: 3>> Time: 11\n",
      "MC: 3>> Time: 12\n"
     ]
    },
    {
     "data": {
      "text/plain": [
       "\"DB: Nominal solution at t = 12: found\""
      ]
     },
     "metadata": {},
     "output_type": "display_data"
    },
    {
     "data": {
      "text/plain": [
       "\"DB: opt. gap 1.0000000059502003\""
      ]
     },
     "metadata": {},
     "output_type": "display_data"
    },
    {
     "data": {
      "text/plain": [
       "\">>>>>> iteration 1:O\""
      ]
     },
     "metadata": {},
     "output_type": "display_data"
    },
    {
     "data": {
      "text/plain": [
       "\"DB: opt. gap 0.09459322479623257\""
      ]
     },
     "metadata": {},
     "output_type": "display_data"
    },
    {
     "data": {
      "text/plain": [
       "\">>>>>> iteration 2:O\""
      ]
     },
     "metadata": {},
     "output_type": "display_data"
    },
    {
     "data": {
      "text/plain": [
       "\"DB: opt. gap 0.030022552534447935\""
      ]
     },
     "metadata": {},
     "output_type": "display_data"
    },
    {
     "data": {
      "text/plain": [
       "\">>>>>> iteration 3:O\""
      ]
     },
     "metadata": {},
     "output_type": "display_data"
    },
    {
     "data": {
      "text/plain": [
       "\"DB: opt. gap 0.007897484071181992\""
      ]
     },
     "metadata": {},
     "output_type": "display_data"
    },
    {
     "data": {
      "text/plain": [
       "\">>>>>> iteration 4:O\""
      ]
     },
     "metadata": {},
     "output_type": "display_data"
    },
    {
     "data": {
      "text/plain": [
       "\"DB: opt. gap 0.002101981273485792\""
      ]
     },
     "metadata": {},
     "output_type": "display_data"
    },
    {
     "data": {
      "text/plain": [
       "\">>>>>> iteration 5:O\""
      ]
     },
     "metadata": {},
     "output_type": "display_data"
    },
    {
     "data": {
      "text/plain": [
       "\"DB: opt. gap 0.0005781292959391496\""
      ]
     },
     "metadata": {},
     "output_type": "display_data"
    },
    {
     "data": {
      "text/plain": [
       "\"DB: CLDRTO method: 2 - Solution at t = 12: found\""
      ]
     },
     "metadata": {},
     "output_type": "display_data"
    },
    {
     "name": "stdout",
     "output_type": "stream",
     "text": [
      "MC: 3>> Time: 13\n",
      "MC: 3>> Time: 14\n",
      "MC: 3>> Time: 15\n",
      "MC: 3>> Time: 16\n"
     ]
    },
    {
     "data": {
      "text/plain": [
       "\"DB: Nominal solution at t = 16: found\""
      ]
     },
     "metadata": {},
     "output_type": "display_data"
    },
    {
     "data": {
      "text/plain": [
       "\"DB: opt. gap 1.0000000130730407\""
      ]
     },
     "metadata": {},
     "output_type": "display_data"
    },
    {
     "data": {
      "text/plain": [
       "\">>>>>> iteration 1:O\""
      ]
     },
     "metadata": {},
     "output_type": "display_data"
    },
    {
     "data": {
      "text/plain": [
       "\"DB: opt. gap 0.016832034134653118\""
      ]
     },
     "metadata": {},
     "output_type": "display_data"
    },
    {
     "data": {
      "text/plain": [
       "\">>>>>> iteration 2:O\""
      ]
     },
     "metadata": {},
     "output_type": "display_data"
    },
    {
     "data": {
      "text/plain": [
       "\"DB: opt. gap 0.004604976211986537\""
      ]
     },
     "metadata": {},
     "output_type": "display_data"
    },
    {
     "data": {
      "text/plain": [
       "\">>>>>> iteration 3:O\""
      ]
     },
     "metadata": {},
     "output_type": "display_data"
    },
    {
     "data": {
      "text/plain": [
       "\"DB: opt. gap 0.0011266681708254982\""
      ]
     },
     "metadata": {},
     "output_type": "display_data"
    },
    {
     "data": {
      "text/plain": [
       "\">>>>>> iteration 4:O\""
      ]
     },
     "metadata": {},
     "output_type": "display_data"
    },
    {
     "data": {
      "text/plain": [
       "\"DB: opt. gap 0.000304216894725255\""
      ]
     },
     "metadata": {},
     "output_type": "display_data"
    },
    {
     "data": {
      "text/plain": [
       "\"DB: CLDRTO method: 2 - Solution at t = 16: found\""
      ]
     },
     "metadata": {},
     "output_type": "display_data"
    },
    {
     "name": "stdout",
     "output_type": "stream",
     "text": [
      "MC: 3>> Time: 17\n",
      "MC: 3>> Time: 18\n",
      "MC: 3>> Time: 19\n",
      "MC: 3>> Time: 20\n"
     ]
    },
    {
     "data": {
      "text/plain": [
       "\"DB: Nominal solution at t = 20: found\""
      ]
     },
     "metadata": {},
     "output_type": "display_data"
    },
    {
     "data": {
      "text/plain": [
       "\"DB: opt. gap 1.000000016283217\""
      ]
     },
     "metadata": {},
     "output_type": "display_data"
    },
    {
     "data": {
      "text/plain": [
       "\">>>>>> iteration 1:O\""
      ]
     },
     "metadata": {},
     "output_type": "display_data"
    },
    {
     "data": {
      "text/plain": [
       "\"DB: opt. gap 0.01795857051003887\""
      ]
     },
     "metadata": {},
     "output_type": "display_data"
    },
    {
     "data": {
      "text/plain": [
       "\">>>>>> iteration 2:O\""
      ]
     },
     "metadata": {},
     "output_type": "display_data"
    },
    {
     "data": {
      "text/plain": [
       "\"DB: opt. gap 0.009319970095881659\""
      ]
     },
     "metadata": {},
     "output_type": "display_data"
    },
    {
     "data": {
      "text/plain": [
       "\">>>>>> iteration 3:O\""
      ]
     },
     "metadata": {},
     "output_type": "display_data"
    },
    {
     "data": {
      "text/plain": [
       "\"DB: opt. gap 0.00223527808568129\""
      ]
     },
     "metadata": {},
     "output_type": "display_data"
    },
    {
     "data": {
      "text/plain": [
       "\">>>>>> iteration 4:O\""
      ]
     },
     "metadata": {},
     "output_type": "display_data"
    },
    {
     "data": {
      "text/plain": [
       "\"DB: opt. gap 0.002436119816168112\""
      ]
     },
     "metadata": {},
     "output_type": "display_data"
    },
    {
     "data": {
      "text/plain": [
       "\">>>>>> iteration 5:O\""
      ]
     },
     "metadata": {},
     "output_type": "display_data"
    },
    {
     "data": {
      "text/plain": [
       "\"DB: random\""
      ]
     },
     "metadata": {},
     "output_type": "display_data"
    },
    {
     "data": {
      "text/plain": [
       "\"DB: opt. gap 0.0006292800125488216\""
      ]
     },
     "metadata": {},
     "output_type": "display_data"
    },
    {
     "data": {
      "text/plain": [
       "\"DB: CLDRTO method: 2 - Solution at t = 20: found\""
      ]
     },
     "metadata": {},
     "output_type": "display_data"
    },
    {
     "data": {
      "text/plain": [
       "\"DB: MC iter. 4 --> Plant parameter = 0.7190080328278211\""
      ]
     },
     "metadata": {},
     "output_type": "display_data"
    },
    {
     "data": {
      "text/plain": [
       "\"Nominal solution at t = 0: found\""
      ]
     },
     "metadata": {},
     "output_type": "display_data"
    },
    {
     "name": "stdout",
     "output_type": "stream",
     "text": [
      "MC: 4>> Time: 1\n"
     ]
    },
    {
     "data": {
      "text/plain": [
       "\"DB: CLDRTO method: 1 - Solution at t = 1: found\""
      ]
     },
     "metadata": {},
     "output_type": "display_data"
    },
    {
     "name": "stdout",
     "output_type": "stream",
     "text": [
      "MC: 4>> Time: 2\n",
      "MC: 4>> Time: 3\n",
      "MC: 4>> Time: 4\n"
     ]
    },
    {
     "data": {
      "text/plain": [
       "\"DB: Nominal solution at t = 4: found\""
      ]
     },
     "metadata": {},
     "output_type": "display_data"
    },
    {
     "data": {
      "text/plain": [
       "\"DB: CLDRTO method: 1 - Solution at t = 4: found\""
      ]
     },
     "metadata": {},
     "output_type": "display_data"
    },
    {
     "name": "stdout",
     "output_type": "stream",
     "text": [
      "MC: 4>> Time: 5\n",
      "MC: 4>> Time: 6\n",
      "MC: 4>> Time: 7\n",
      "MC: 4>> Time: 8\n"
     ]
    },
    {
     "data": {
      "text/plain": [
       "\"DB: Nominal solution at t = 8: found\""
      ]
     },
     "metadata": {},
     "output_type": "display_data"
    },
    {
     "data": {
      "text/plain": [
       "\"DB: CLDRTO method: 1 - Solution at t = 8: found\""
      ]
     },
     "metadata": {},
     "output_type": "display_data"
    },
    {
     "name": "stdout",
     "output_type": "stream",
     "text": [
      "MC: 4>> Time: 9\n",
      "MC: 4>> Time: 10\n",
      "MC: 4>> Time: 11\n",
      "MC: 4>> Time: 12\n"
     ]
    },
    {
     "data": {
      "text/plain": [
       "\"DB: Nominal solution at t = 12: found\""
      ]
     },
     "metadata": {},
     "output_type": "display_data"
    },
    {
     "data": {
      "text/plain": [
       "\"DB: CLDRTO method: 1 - Solution at t = 12: found\""
      ]
     },
     "metadata": {},
     "output_type": "display_data"
    },
    {
     "name": "stdout",
     "output_type": "stream",
     "text": [
      "MC: 4>> Time: 13\n",
      "MC: 4>> Time: 14\n",
      "MC: 4>> Time: 15\n",
      "MC: 4>> Time: 16\n"
     ]
    },
    {
     "data": {
      "text/plain": [
       "\"DB: Nominal solution at t = 16: found\""
      ]
     },
     "metadata": {},
     "output_type": "display_data"
    },
    {
     "data": {
      "text/plain": [
       "\"DB: CLDRTO method: 1 - Solution at t = 16: found\""
      ]
     },
     "metadata": {},
     "output_type": "display_data"
    },
    {
     "name": "stdout",
     "output_type": "stream",
     "text": [
      "MC: 4>> Time: 17\n",
      "MC: 4>> Time: 18\n",
      "MC: 4>> Time: 19\n",
      "MC: 4>> Time: 20\n"
     ]
    },
    {
     "data": {
      "text/plain": [
       "\"DB: Nominal solution at t = 20: found\""
      ]
     },
     "metadata": {},
     "output_type": "display_data"
    },
    {
     "data": {
      "text/plain": [
       "\"DB: CLDRTO method: 1 - Solution at t = 20: found\""
      ]
     },
     "metadata": {},
     "output_type": "display_data"
    },
    {
     "data": {
      "text/plain": [
       "\"Nominal solution at t = 0: found\""
      ]
     },
     "metadata": {},
     "output_type": "display_data"
    },
    {
     "name": "stdout",
     "output_type": "stream",
     "text": [
      "MC: 4>> Time: 1\n"
     ]
    },
    {
     "data": {
      "text/plain": [
       "\"DB: opt. gap 1.000000005263681\""
      ]
     },
     "metadata": {},
     "output_type": "display_data"
    },
    {
     "data": {
      "text/plain": [
       "\">>>>>> iteration 1:O\""
      ]
     },
     "metadata": {},
     "output_type": "display_data"
    },
    {
     "data": {
      "text/plain": [
       "\"DB: opt. gap 0.00431106866548491\""
      ]
     },
     "metadata": {},
     "output_type": "display_data"
    },
    {
     "data": {
      "text/plain": [
       "\">>>>>> iteration 2:O\""
      ]
     },
     "metadata": {},
     "output_type": "display_data"
    },
    {
     "data": {
      "text/plain": [
       "\"DB: opt. gap 0.004100693528206623\""
      ]
     },
     "metadata": {},
     "output_type": "display_data"
    },
    {
     "data": {
      "text/plain": [
       "\">>>>>> iteration 3:O\""
      ]
     },
     "metadata": {},
     "output_type": "display_data"
    },
    {
     "data": {
      "text/plain": [
       "\"DB: random\""
      ]
     },
     "metadata": {},
     "output_type": "display_data"
    },
    {
     "data": {
      "text/plain": [
       "\"DB: opt. gap 2.461714389776331e-6\""
      ]
     },
     "metadata": {},
     "output_type": "display_data"
    },
    {
     "data": {
      "text/plain": [
       "\"DB: CLDRTO method: 2 - Solution at t = 1: found\""
      ]
     },
     "metadata": {},
     "output_type": "display_data"
    },
    {
     "name": "stdout",
     "output_type": "stream",
     "text": [
      "MC: 4>> Time: 2\n",
      "MC: 4>> Time: 3\n",
      "MC: 4>> Time: 4\n"
     ]
    },
    {
     "data": {
      "text/plain": [
       "\"DB: Nominal solution at t = 4: found\""
      ]
     },
     "metadata": {},
     "output_type": "display_data"
    },
    {
     "data": {
      "text/plain": [
       "\"DB: opt. gap 1.000000025449196\""
      ]
     },
     "metadata": {},
     "output_type": "display_data"
    },
    {
     "data": {
      "text/plain": [
       "\">>>>>> iteration 1:O\""
      ]
     },
     "metadata": {},
     "output_type": "display_data"
    },
    {
     "data": {
      "text/plain": [
       "\"DB: opt. gap 0.011911381492816665\""
      ]
     },
     "metadata": {},
     "output_type": "display_data"
    },
    {
     "data": {
      "text/plain": [
       "\">>>>>> iteration 2:O\""
      ]
     },
     "metadata": {},
     "output_type": "display_data"
    },
    {
     "data": {
      "text/plain": [
       "\"DB: opt. gap 0.0110318082149125\""
      ]
     },
     "metadata": {},
     "output_type": "display_data"
    },
    {
     "data": {
      "text/plain": [
       "\">>>>>> iteration 3:O\""
      ]
     },
     "metadata": {},
     "output_type": "display_data"
    },
    {
     "data": {
      "text/plain": [
       "\"DB: random\""
      ]
     },
     "metadata": {},
     "output_type": "display_data"
    },
    {
     "data": {
      "text/plain": [
       "\"DB: opt. gap 1.4470040065717012e-5\""
      ]
     },
     "metadata": {},
     "output_type": "display_data"
    },
    {
     "data": {
      "text/plain": [
       "\"DB: CLDRTO method: 2 - Solution at t = 4: found\""
      ]
     },
     "metadata": {},
     "output_type": "display_data"
    },
    {
     "name": "stdout",
     "output_type": "stream",
     "text": [
      "MC: 4>> Time: 5\n",
      "MC: 4>> Time: 6\n",
      "MC: 4>> Time: 7\n",
      "MC: 4>> Time: 8\n"
     ]
    },
    {
     "data": {
      "text/plain": [
       "\"DB: Nominal solution at t = 8: found\""
      ]
     },
     "metadata": {},
     "output_type": "display_data"
    },
    {
     "data": {
      "text/plain": [
       "\"DB: opt. gap 1.0000116272801987\""
      ]
     },
     "metadata": {},
     "output_type": "display_data"
    },
    {
     "data": {
      "text/plain": [
       "\">>>>>> iteration 1:O\""
      ]
     },
     "metadata": {},
     "output_type": "display_data"
    },
    {
     "data": {
      "text/plain": [
       "\"DB: opt. gap 1.0000103639276732\""
      ]
     },
     "metadata": {},
     "output_type": "display_data"
    },
    {
     "data": {
      "text/plain": [
       "\">>>>>> iteration 2:O\""
      ]
     },
     "metadata": {},
     "output_type": "display_data"
    },
    {
     "data": {
      "text/plain": [
       "\"DB: random\""
      ]
     },
     "metadata": {},
     "output_type": "display_data"
    },
    {
     "data": {
      "text/plain": [
       "\"DB: opt. gap 0.14083184078290165\""
      ]
     },
     "metadata": {},
     "output_type": "display_data"
    },
    {
     "data": {
      "text/plain": [
       "\">>>>>> iteration 3:O\""
      ]
     },
     "metadata": {},
     "output_type": "display_data"
    },
    {
     "data": {
      "text/plain": [
       "\"DB: opt. gap 0.09168883005783529\""
      ]
     },
     "metadata": {},
     "output_type": "display_data"
    },
    {
     "data": {
      "text/plain": [
       "\">>>>>> iteration 4:O\""
      ]
     },
     "metadata": {},
     "output_type": "display_data"
    },
    {
     "data": {
      "text/plain": [
       "\"DB: opt. gap 0.010564851537604508\""
      ]
     },
     "metadata": {},
     "output_type": "display_data"
    },
    {
     "data": {
      "text/plain": [
       "\">>>>>> iteration 5:O\""
      ]
     },
     "metadata": {},
     "output_type": "display_data"
    },
    {
     "data": {
      "text/plain": [
       "\"DB: opt. gap 0.04824050949742112\""
      ]
     },
     "metadata": {},
     "output_type": "display_data"
    },
    {
     "data": {
      "text/plain": [
       "\">>>>>> iteration 6:O\""
      ]
     },
     "metadata": {},
     "output_type": "display_data"
    },
    {
     "data": {
      "text/plain": [
       "\"DB: opt. gap 0.01086686940927252\""
      ]
     },
     "metadata": {},
     "output_type": "display_data"
    },
    {
     "data": {
      "text/plain": [
       "\">>>>>> iteration 7:O\""
      ]
     },
     "metadata": {},
     "output_type": "display_data"
    },
    {
     "data": {
      "text/plain": [
       "\"DB: opt. gap 0.004407808844690611\""
      ]
     },
     "metadata": {},
     "output_type": "display_data"
    },
    {
     "data": {
      "text/plain": [
       "\">>>>>> iteration 8:O\""
      ]
     },
     "metadata": {},
     "output_type": "display_data"
    },
    {
     "data": {
      "text/plain": [
       "\"DB: opt. gap 0.0023970428583631443\""
      ]
     },
     "metadata": {},
     "output_type": "display_data"
    },
    {
     "data": {
      "text/plain": [
       "\">>>>>> iteration 9:O\""
      ]
     },
     "metadata": {},
     "output_type": "display_data"
    },
    {
     "data": {
      "text/plain": [
       "\"DB: opt. gap 0.00033589086578145904\""
      ]
     },
     "metadata": {},
     "output_type": "display_data"
    },
    {
     "data": {
      "text/plain": [
       "\"DB: CLDRTO method: 2 - Solution at t = 8: found\""
      ]
     },
     "metadata": {},
     "output_type": "display_data"
    },
    {
     "name": "stdout",
     "output_type": "stream",
     "text": [
      "MC: 4>> Time: 9\n",
      "MC: 4>> Time: 10\n",
      "MC: 4>> Time: 11\n",
      "MC: 4>> Time: 12\n"
     ]
    },
    {
     "data": {
      "text/plain": [
       "\"DB: Nominal solution at t = 12: found\""
      ]
     },
     "metadata": {},
     "output_type": "display_data"
    },
    {
     "data": {
      "text/plain": [
       "\"DB: opt. gap 1.0000001413757407\""
      ]
     },
     "metadata": {},
     "output_type": "display_data"
    },
    {
     "data": {
      "text/plain": [
       "\">>>>>> iteration 1:O\""
      ]
     },
     "metadata": {},
     "output_type": "display_data"
    },
    {
     "data": {
      "text/plain": [
       "\"DB: opt. gap 0.4825578014498981\""
      ]
     },
     "metadata": {},
     "output_type": "display_data"
    },
    {
     "data": {
      "text/plain": [
       "\">>>>>> iteration 2:O\""
      ]
     },
     "metadata": {},
     "output_type": "display_data"
    },
    {
     "data": {
      "text/plain": [
       "\"DB: opt. gap 0.20758777244254384\""
      ]
     },
     "metadata": {},
     "output_type": "display_data"
    },
    {
     "data": {
      "text/plain": [
       "\">>>>>> iteration 3:O\""
      ]
     },
     "metadata": {},
     "output_type": "display_data"
    },
    {
     "data": {
      "text/plain": [
       "\"DB: opt. gap 0.0664152407611873\""
      ]
     },
     "metadata": {},
     "output_type": "display_data"
    },
    {
     "data": {
      "text/plain": [
       "\">>>>>> iteration 4:O\""
      ]
     },
     "metadata": {},
     "output_type": "display_data"
    },
    {
     "data": {
      "text/plain": [
       "\"DB: opt. gap 0.01811894014562969\""
      ]
     },
     "metadata": {},
     "output_type": "display_data"
    },
    {
     "data": {
      "text/plain": [
       "\">>>>>> iteration 5:O\""
      ]
     },
     "metadata": {},
     "output_type": "display_data"
    },
    {
     "data": {
      "text/plain": [
       "\"DB: opt. gap 0.005372711455741645\""
      ]
     },
     "metadata": {},
     "output_type": "display_data"
    },
    {
     "data": {
      "text/plain": [
       "\">>>>>> iteration 6:O\""
      ]
     },
     "metadata": {},
     "output_type": "display_data"
    },
    {
     "data": {
      "text/plain": [
       "\"DB: opt. gap 0.0016559052960282452\""
      ]
     },
     "metadata": {},
     "output_type": "display_data"
    },
    {
     "data": {
      "text/plain": [
       "\">>>>>> iteration 7:O\""
      ]
     },
     "metadata": {},
     "output_type": "display_data"
    },
    {
     "data": {
      "text/plain": [
       "\"DB: opt. gap 0.0009567283831580014\""
      ]
     },
     "metadata": {},
     "output_type": "display_data"
    },
    {
     "data": {
      "text/plain": [
       "\"DB: CLDRTO method: 2 - Solution at t = 12: found\""
      ]
     },
     "metadata": {},
     "output_type": "display_data"
    },
    {
     "name": "stdout",
     "output_type": "stream",
     "text": [
      "MC: 4>> Time: 13\n",
      "MC: 4>> Time: 14\n",
      "MC: 4>> Time: 15\n",
      "MC: 4>> Time: 16\n"
     ]
    },
    {
     "data": {
      "text/plain": [
       "\"DB: Nominal solution at t = 16: found\""
      ]
     },
     "metadata": {},
     "output_type": "display_data"
    },
    {
     "data": {
      "text/plain": [
       "\"DB: opt. gap 1.0000001710897977\""
      ]
     },
     "metadata": {},
     "output_type": "display_data"
    },
    {
     "data": {
      "text/plain": [
       "\">>>>>> iteration 1:O\""
      ]
     },
     "metadata": {},
     "output_type": "display_data"
    },
    {
     "data": {
      "text/plain": [
       "\"DB: opt. gap 0.6273456016075142\""
      ]
     },
     "metadata": {},
     "output_type": "display_data"
    },
    {
     "data": {
      "text/plain": [
       "\">>>>>> iteration 2:O\""
      ]
     },
     "metadata": {},
     "output_type": "display_data"
    },
    {
     "data": {
      "text/plain": [
       "\"DB: opt. gap 0.32083045616002964\""
      ]
     },
     "metadata": {},
     "output_type": "display_data"
    },
    {
     "data": {
      "text/plain": [
       "\">>>>>> iteration 3:O\""
      ]
     },
     "metadata": {},
     "output_type": "display_data"
    },
    {
     "data": {
      "text/plain": [
       "\"DB: opt. gap 0.11516242612382802\""
      ]
     },
     "metadata": {},
     "output_type": "display_data"
    },
    {
     "data": {
      "text/plain": [
       "\">>>>>> iteration 4:O\""
      ]
     },
     "metadata": {},
     "output_type": "display_data"
    },
    {
     "data": {
      "text/plain": [
       "\"DB: opt. gap 0.033625848435286244\""
      ]
     },
     "metadata": {},
     "output_type": "display_data"
    },
    {
     "data": {
      "text/plain": [
       "\">>>>>> iteration 5:O\""
      ]
     },
     "metadata": {},
     "output_type": "display_data"
    },
    {
     "data": {
      "text/plain": [
       "\"DB: opt. gap 0.008931288838335442\""
      ]
     },
     "metadata": {},
     "output_type": "display_data"
    },
    {
     "data": {
      "text/plain": [
       "\">>>>>> iteration 6:O\""
      ]
     },
     "metadata": {},
     "output_type": "display_data"
    },
    {
     "data": {
      "text/plain": [
       "\"DB: opt. gap 0.00244579678939957\""
      ]
     },
     "metadata": {},
     "output_type": "display_data"
    },
    {
     "data": {
      "text/plain": [
       "\">>>>>> iteration 7:O\""
      ]
     },
     "metadata": {},
     "output_type": "display_data"
    },
    {
     "data": {
      "text/plain": [
       "\"DB: opt. gap 0.0008313905976146999\""
      ]
     },
     "metadata": {},
     "output_type": "display_data"
    },
    {
     "data": {
      "text/plain": [
       "\"DB: CLDRTO method: 2 - Solution at t = 16: found\""
      ]
     },
     "metadata": {},
     "output_type": "display_data"
    },
    {
     "name": "stdout",
     "output_type": "stream",
     "text": [
      "MC: 4>> Time: 17\n",
      "MC: 4>> Time: 18\n",
      "MC: 4>> Time: 19\n",
      "MC: 4>> Time: 20\n"
     ]
    },
    {
     "data": {
      "text/plain": [
       "\"DB: Nominal solution at t = 20: found\""
      ]
     },
     "metadata": {},
     "output_type": "display_data"
    },
    {
     "data": {
      "text/plain": [
       "\"DB: opt. gap 1.000000178897423\""
      ]
     },
     "metadata": {},
     "output_type": "display_data"
    },
    {
     "data": {
      "text/plain": [
       "\">>>>>> iteration 1:O\""
      ]
     },
     "metadata": {},
     "output_type": "display_data"
    },
    {
     "data": {
      "text/plain": [
       "\"DB: opt. gap 0.631004355112205\""
      ]
     },
     "metadata": {},
     "output_type": "display_data"
    },
    {
     "data": {
      "text/plain": [
       "\">>>>>> iteration 2:O\""
      ]
     },
     "metadata": {},
     "output_type": "display_data"
    },
    {
     "data": {
      "text/plain": [
       "\"DB: opt. gap 0.3242143453709162\""
      ]
     },
     "metadata": {},
     "output_type": "display_data"
    },
    {
     "data": {
      "text/plain": [
       "\">>>>>> iteration 3:O\""
      ]
     },
     "metadata": {},
     "output_type": "display_data"
    },
    {
     "data": {
      "text/plain": [
       "\"DB: opt. gap 0.11677707457165398\""
      ]
     },
     "metadata": {},
     "output_type": "display_data"
    },
    {
     "data": {
      "text/plain": [
       "\">>>>>> iteration 4:O\""
      ]
     },
     "metadata": {},
     "output_type": "display_data"
    },
    {
     "data": {
      "text/plain": [
       "\"DB: opt. gap 0.03420234810558776\""
      ]
     },
     "metadata": {},
     "output_type": "display_data"
    },
    {
     "data": {
      "text/plain": [
       "\">>>>>> iteration 5:O\""
      ]
     },
     "metadata": {},
     "output_type": "display_data"
    },
    {
     "data": {
      "text/plain": [
       "\"DB: opt. gap 0.00909193922353384\""
      ]
     },
     "metadata": {},
     "output_type": "display_data"
    },
    {
     "data": {
      "text/plain": [
       "\">>>>>> iteration 6:O\""
      ]
     },
     "metadata": {},
     "output_type": "display_data"
    },
    {
     "data": {
      "text/plain": [
       "\"DB: opt. gap 0.0024968181141277273\""
      ]
     },
     "metadata": {},
     "output_type": "display_data"
    },
    {
     "data": {
      "text/plain": [
       "\">>>>>> iteration 7:O\""
      ]
     },
     "metadata": {},
     "output_type": "display_data"
    },
    {
     "data": {
      "text/plain": [
       "\"DB: opt. gap 0.000858935953669551\""
      ]
     },
     "metadata": {},
     "output_type": "display_data"
    },
    {
     "data": {
      "text/plain": [
       "\"DB: CLDRTO method: 2 - Solution at t = 20: found\""
      ]
     },
     "metadata": {},
     "output_type": "display_data"
    },
    {
     "data": {
      "text/plain": [
       "\"DB: MC iter. 5 --> Plant parameter = 0.6426094029958801\""
      ]
     },
     "metadata": {},
     "output_type": "display_data"
    },
    {
     "data": {
      "text/plain": [
       "\"Nominal solution at t = 0: found\""
      ]
     },
     "metadata": {},
     "output_type": "display_data"
    },
    {
     "name": "stdout",
     "output_type": "stream",
     "text": [
      "MC: 5>> Time: 1\n"
     ]
    },
    {
     "data": {
      "text/plain": [
       "\"DB: CLDRTO method: 1 - Solution at t = 1: found\""
      ]
     },
     "metadata": {},
     "output_type": "display_data"
    },
    {
     "name": "stdout",
     "output_type": "stream",
     "text": [
      "MC: 5>> Time: 2\n",
      "MC: 5>> Time: 3\n",
      "MC: 5>> Time: 4\n"
     ]
    },
    {
     "data": {
      "text/plain": [
       "\"DB: Nominal solution at t = 4: found\""
      ]
     },
     "metadata": {},
     "output_type": "display_data"
    },
    {
     "data": {
      "text/plain": [
       "\"DB: CLDRTO method: 1 - Solution at t = 4: found\""
      ]
     },
     "metadata": {},
     "output_type": "display_data"
    },
    {
     "name": "stdout",
     "output_type": "stream",
     "text": [
      "MC: 5>> Time: 5\n",
      "MC: 5>> Time: 6\n",
      "MC: 5>> Time: 7\n",
      "MC: 5>> Time: 8\n"
     ]
    },
    {
     "data": {
      "text/plain": [
       "\"DB: Nominal solution at t = 8: found\""
      ]
     },
     "metadata": {},
     "output_type": "display_data"
    },
    {
     "data": {
      "text/plain": [
       "\"DB: CLDRTO method: 1 - Solution at t = 8: found\""
      ]
     },
     "metadata": {},
     "output_type": "display_data"
    },
    {
     "name": "stdout",
     "output_type": "stream",
     "text": [
      "MC: 5>> Time: 9\n",
      "MC: 5>> Time: 10\n",
      "MC: 5>> Time: 11\n",
      "MC: 5>> Time: 12\n"
     ]
    },
    {
     "data": {
      "text/plain": [
       "\"DB: Nominal solution at t = 12: found\""
      ]
     },
     "metadata": {},
     "output_type": "display_data"
    },
    {
     "data": {
      "text/plain": [
       "\"DB: CLDRTO method: 1 - Solution at t = 12: found\""
      ]
     },
     "metadata": {},
     "output_type": "display_data"
    },
    {
     "name": "stdout",
     "output_type": "stream",
     "text": [
      "MC: 5>> Time: 13\n",
      "MC: 5>> Time: 14\n",
      "MC: 5>> Time: 15\n",
      "MC: 5>> Time: 16\n"
     ]
    },
    {
     "data": {
      "text/plain": [
       "\"DB: Nominal solution at t = 16: found\""
      ]
     },
     "metadata": {},
     "output_type": "display_data"
    },
    {
     "data": {
      "text/plain": [
       "\"DB: CLDRTO method: 1 - Solution at t = 16: found\""
      ]
     },
     "metadata": {},
     "output_type": "display_data"
    },
    {
     "name": "stdout",
     "output_type": "stream",
     "text": [
      "MC: 5>> Time: 17\n",
      "MC: 5>> Time: 18\n",
      "MC: 5>> Time: 19\n",
      "MC: 5>> Time: 20\n"
     ]
    },
    {
     "data": {
      "text/plain": [
       "\"DB: Nominal solution at t = 20: found\""
      ]
     },
     "metadata": {},
     "output_type": "display_data"
    },
    {
     "data": {
      "text/plain": [
       "\"DB: CLDRTO method: 1 - Solution at t = 20: found\""
      ]
     },
     "metadata": {},
     "output_type": "display_data"
    },
    {
     "data": {
      "text/plain": [
       "\"Nominal solution at t = 0: found\""
      ]
     },
     "metadata": {},
     "output_type": "display_data"
    },
    {
     "name": "stdout",
     "output_type": "stream",
     "text": [
      "MC: 5>> Time: 1\n"
     ]
    },
    {
     "data": {
      "text/plain": [
       "\"DB: opt. gap 1.000000005263681\""
      ]
     },
     "metadata": {},
     "output_type": "display_data"
    },
    {
     "data": {
      "text/plain": [
       "\">>>>>> iteration 1:O\""
      ]
     },
     "metadata": {},
     "output_type": "display_data"
    },
    {
     "data": {
      "text/plain": [
       "\"DB: opt. gap 0.00431106866548491\""
      ]
     },
     "metadata": {},
     "output_type": "display_data"
    },
    {
     "data": {
      "text/plain": [
       "\">>>>>> iteration 2:O\""
      ]
     },
     "metadata": {},
     "output_type": "display_data"
    },
    {
     "data": {
      "text/plain": [
       "\"DB: opt. gap 0.004100693528206623\""
      ]
     },
     "metadata": {},
     "output_type": "display_data"
    },
    {
     "data": {
      "text/plain": [
       "\">>>>>> iteration 3:O\""
      ]
     },
     "metadata": {},
     "output_type": "display_data"
    },
    {
     "data": {
      "text/plain": [
       "\"DB: random\""
      ]
     },
     "metadata": {},
     "output_type": "display_data"
    },
    {
     "data": {
      "text/plain": [
       "\"DB: opt. gap 2.4614286982837014e-6\""
      ]
     },
     "metadata": {},
     "output_type": "display_data"
    },
    {
     "data": {
      "text/plain": [
       "\"DB: CLDRTO method: 2 - Solution at t = 1: found\""
      ]
     },
     "metadata": {},
     "output_type": "display_data"
    },
    {
     "name": "stdout",
     "output_type": "stream",
     "text": [
      "MC: 5>> Time: 2\n",
      "MC: 5>> Time: 3\n",
      "MC: 5>> Time: 4\n"
     ]
    },
    {
     "data": {
      "text/plain": [
       "\"DB: Nominal solution at t = 4: found\""
      ]
     },
     "metadata": {},
     "output_type": "display_data"
    },
    {
     "data": {
      "text/plain": [
       "\"DB: opt. gap 1.0000000205878805\""
      ]
     },
     "metadata": {},
     "output_type": "display_data"
    },
    {
     "data": {
      "text/plain": [
       "\">>>>>> iteration 1:O\""
      ]
     },
     "metadata": {},
     "output_type": "display_data"
    },
    {
     "data": {
      "text/plain": [
       "\"DB: opt. gap 0.0049479925167619935\""
      ]
     },
     "metadata": {},
     "output_type": "display_data"
    },
    {
     "data": {
      "text/plain": [
       "\">>>>>> iteration 2:O\""
      ]
     },
     "metadata": {},
     "output_type": "display_data"
    },
    {
     "data": {
      "text/plain": [
       "\"DB: opt. gap 0.004704538943626603\""
      ]
     },
     "metadata": {},
     "output_type": "display_data"
    },
    {
     "data": {
      "text/plain": [
       "\">>>>>> iteration 3:O\""
      ]
     },
     "metadata": {},
     "output_type": "display_data"
    },
    {
     "data": {
      "text/plain": [
       "\"DB: random\""
      ]
     },
     "metadata": {},
     "output_type": "display_data"
    },
    {
     "data": {
      "text/plain": [
       "\"DB: opt. gap 5.063228325374626e-6\""
      ]
     },
     "metadata": {},
     "output_type": "display_data"
    },
    {
     "data": {
      "text/plain": [
       "\"DB: CLDRTO method: 2 - Solution at t = 4: found\""
      ]
     },
     "metadata": {},
     "output_type": "display_data"
    },
    {
     "name": "stdout",
     "output_type": "stream",
     "text": [
      "MC: 5>> Time: 5\n",
      "MC: 5>> Time: 6\n",
      "MC: 5>> Time: 7\n",
      "MC: 5>> Time: 8\n"
     ]
    },
    {
     "data": {
      "text/plain": [
       "\"DB: Nominal solution at t = 8: found\""
      ]
     },
     "metadata": {},
     "output_type": "display_data"
    },
    {
     "data": {
      "text/plain": [
       "\"DB: opt. gap 1.0000008454358986\""
      ]
     },
     "metadata": {},
     "output_type": "display_data"
    },
    {
     "data": {
      "text/plain": [
       "\">>>>>> iteration 1:O\""
      ]
     },
     "metadata": {},
     "output_type": "display_data"
    },
    {
     "data": {
      "text/plain": [
       "\"DB: opt. gap 0.06967397895204999\""
      ]
     },
     "metadata": {},
     "output_type": "display_data"
    },
    {
     "data": {
      "text/plain": [
       "\">>>>>> iteration 2:O\""
      ]
     },
     "metadata": {},
     "output_type": "display_data"
    },
    {
     "data": {
      "text/plain": [
       "\"DB: opt. gap 0.0343796175627789\""
      ]
     },
     "metadata": {},
     "output_type": "display_data"
    },
    {
     "data": {
      "text/plain": [
       "\">>>>>> iteration 3:O\""
      ]
     },
     "metadata": {},
     "output_type": "display_data"
    },
    {
     "data": {
      "text/plain": [
       "\"DB: opt. gap 0.0027999093855475142\""
      ]
     },
     "metadata": {},
     "output_type": "display_data"
    },
    {
     "data": {
      "text/plain": [
       "\">>>>>> iteration 4:O\""
      ]
     },
     "metadata": {},
     "output_type": "display_data"
    },
    {
     "data": {
      "text/plain": [
       "\"DB: opt. gap 0.0026112017330733052\""
      ]
     },
     "metadata": {},
     "output_type": "display_data"
    },
    {
     "data": {
      "text/plain": [
       "\">>>>>> iteration 5:O\""
      ]
     },
     "metadata": {},
     "output_type": "display_data"
    },
    {
     "data": {
      "text/plain": [
       "\"DB: random\""
      ]
     },
     "metadata": {},
     "output_type": "display_data"
    },
    {
     "data": {
      "text/plain": [
       "\"DB: opt. gap 0.000833175483019924\""
      ]
     },
     "metadata": {},
     "output_type": "display_data"
    },
    {
     "data": {
      "text/plain": [
       "\"DB: CLDRTO method: 2 - Solution at t = 8: found\""
      ]
     },
     "metadata": {},
     "output_type": "display_data"
    },
    {
     "name": "stdout",
     "output_type": "stream",
     "text": [
      "MC: 5>> Time: 9\n",
      "MC: 5>> Time: 10\n",
      "MC: 5>> Time: 11\n",
      "MC: 5>> Time: 12\n"
     ]
    },
    {
     "data": {
      "text/plain": [
       "\"DB: Nominal solution at t = 12: found\""
      ]
     },
     "metadata": {},
     "output_type": "display_data"
    },
    {
     "data": {
      "text/plain": [
       "\"DB: opt. gap 1.000007154587654\""
      ]
     },
     "metadata": {},
     "output_type": "display_data"
    },
    {
     "data": {
      "text/plain": [
       "\">>>>>> iteration 1:O\""
      ]
     },
     "metadata": {},
     "output_type": "display_data"
    },
    {
     "data": {
      "text/plain": [
       "\"DB: opt. gap 0.8223655771636977\""
      ]
     },
     "metadata": {},
     "output_type": "display_data"
    },
    {
     "data": {
      "text/plain": [
       "\">>>>>> iteration 2:O\""
      ]
     },
     "metadata": {},
     "output_type": "display_data"
    },
    {
     "data": {
      "text/plain": [
       "\"DB: opt. gap 0.5603780637398603\""
      ]
     },
     "metadata": {},
     "output_type": "display_data"
    },
    {
     "data": {
      "text/plain": [
       "\">>>>>> iteration 3:O\""
      ]
     },
     "metadata": {},
     "output_type": "display_data"
    },
    {
     "data": {
      "text/plain": [
       "\"DB: opt. gap 0.26581043048368824\""
      ]
     },
     "metadata": {},
     "output_type": "display_data"
    },
    {
     "data": {
      "text/plain": [
       "\">>>>>> iteration 4:O\""
      ]
     },
     "metadata": {},
     "output_type": "display_data"
    },
    {
     "data": {
      "text/plain": [
       "\"DB: opt. gap 0.08551550982142418\""
      ]
     },
     "metadata": {},
     "output_type": "display_data"
    },
    {
     "data": {
      "text/plain": [
       "\">>>>>> iteration 5:O\""
      ]
     },
     "metadata": {},
     "output_type": "display_data"
    },
    {
     "data": {
      "text/plain": [
       "\"DB: opt. gap 0.025647080125290562\""
      ]
     },
     "metadata": {},
     "output_type": "display_data"
    },
    {
     "data": {
      "text/plain": [
       "\">>>>>> iteration 6:O\""
      ]
     },
     "metadata": {},
     "output_type": "display_data"
    },
    {
     "data": {
      "text/plain": [
       "\"DB: opt. gap 0.010162225364619599\""
      ]
     },
     "metadata": {},
     "output_type": "display_data"
    },
    {
     "data": {
      "text/plain": [
       "\">>>>>> iteration 7:O\""
      ]
     },
     "metadata": {},
     "output_type": "display_data"
    },
    {
     "data": {
      "text/plain": [
       "\"DB: opt. gap 0.00836832270210846\""
      ]
     },
     "metadata": {},
     "output_type": "display_data"
    },
    {
     "data": {
      "text/plain": [
       "\">>>>>> iteration 8:O\""
      ]
     },
     "metadata": {},
     "output_type": "display_data"
    },
    {
     "data": {
      "text/plain": [
       "\"DB: opt. gap 0.0012780019512610829\""
      ]
     },
     "metadata": {},
     "output_type": "display_data"
    },
    {
     "data": {
      "text/plain": [
       "\">>>>>> iteration 9:O\""
      ]
     },
     "metadata": {},
     "output_type": "display_data"
    },
    {
     "data": {
      "text/plain": [
       "\"DB: opt. gap 0.0016398354269676436\""
      ]
     },
     "metadata": {},
     "output_type": "display_data"
    },
    {
     "data": {
      "text/plain": [
       "\">>>>>> iteration 10:O\""
      ]
     },
     "metadata": {},
     "output_type": "display_data"
    },
    {
     "data": {
      "text/plain": [
       "\"DB: random\""
      ]
     },
     "metadata": {},
     "output_type": "display_data"
    },
    {
     "data": {
      "text/plain": [
       "\"DB: opt. gap 0.0001708746106709281\""
      ]
     },
     "metadata": {},
     "output_type": "display_data"
    },
    {
     "data": {
      "text/plain": [
       "\"DB: CLDRTO method: 2 - Solution at t = 12: found\""
      ]
     },
     "metadata": {},
     "output_type": "display_data"
    },
    {
     "name": "stdout",
     "output_type": "stream",
     "text": [
      "MC: 5>> Time: 13\n",
      "MC: 5>> Time: 14\n",
      "MC: 5>> Time: 15\n",
      "MC: 5>> Time: 16\n"
     ]
    },
    {
     "data": {
      "text/plain": [
       "\"DB: Nominal solution at t = 16: found\""
      ]
     },
     "metadata": {},
     "output_type": "display_data"
    },
    {
     "data": {
      "text/plain": [
       "\"DB: opt. gap 1.0000067733556317\""
      ]
     },
     "metadata": {},
     "output_type": "display_data"
    },
    {
     "data": {
      "text/plain": [
       "\">>>>>> iteration 1:O\""
      ]
     },
     "metadata": {},
     "output_type": "display_data"
    },
    {
     "data": {
      "text/plain": [
       "\"DB: opt. gap 0.8366029148643884\""
      ]
     },
     "metadata": {},
     "output_type": "display_data"
    },
    {
     "data": {
      "text/plain": [
       "\">>>>>> iteration 2:O\""
      ]
     },
     "metadata": {},
     "output_type": "display_data"
    },
    {
     "data": {
      "text/plain": [
       "\"DB: opt. gap 0.599887145959788\""
      ]
     },
     "metadata": {},
     "output_type": "display_data"
    },
    {
     "data": {
      "text/plain": [
       "\">>>>>> iteration 3:O\""
      ]
     },
     "metadata": {},
     "output_type": "display_data"
    },
    {
     "data": {
      "text/plain": [
       "\"DB: opt. gap 0.28753697013742857\""
      ]
     },
     "metadata": {},
     "output_type": "display_data"
    },
    {
     "data": {
      "text/plain": [
       "\">>>>>> iteration 4:O\""
      ]
     },
     "metadata": {},
     "output_type": "display_data"
    },
    {
     "data": {
      "text/plain": [
       "\"DB: opt. gap 0.10034525048139789\""
      ]
     },
     "metadata": {},
     "output_type": "display_data"
    },
    {
     "data": {
      "text/plain": [
       "\">>>>>> iteration 5:O\""
      ]
     },
     "metadata": {},
     "output_type": "display_data"
    },
    {
     "data": {
      "text/plain": [
       "\"DB: opt. gap 0.029389972321432072\""
      ]
     },
     "metadata": {},
     "output_type": "display_data"
    },
    {
     "data": {
      "text/plain": [
       "\">>>>>> iteration 6:O\""
      ]
     },
     "metadata": {},
     "output_type": "display_data"
    },
    {
     "data": {
      "text/plain": [
       "\"DB: opt. gap 0.010609967176874093\""
      ]
     },
     "metadata": {},
     "output_type": "display_data"
    },
    {
     "data": {
      "text/plain": [
       "\">>>>>> iteration 7:O\""
      ]
     },
     "metadata": {},
     "output_type": "display_data"
    },
    {
     "data": {
      "text/plain": [
       "\"DB: opt. gap 0.008969397201760994\""
      ]
     },
     "metadata": {},
     "output_type": "display_data"
    },
    {
     "data": {
      "text/plain": [
       "\">>>>>> iteration 8:O\""
      ]
     },
     "metadata": {},
     "output_type": "display_data"
    },
    {
     "data": {
      "text/plain": [
       "\"DB: opt. gap 0.00020085990531494322\""
      ]
     },
     "metadata": {},
     "output_type": "display_data"
    },
    {
     "data": {
      "text/plain": [
       "\"DB: CLDRTO method: 2 - Solution at t = 16: found\""
      ]
     },
     "metadata": {},
     "output_type": "display_data"
    },
    {
     "name": "stdout",
     "output_type": "stream",
     "text": [
      "MC: 5>> Time: 17\n",
      "MC: 5>> Time: 18\n",
      "MC: 5>> Time: 19\n",
      "MC: 5>> Time: 20\n"
     ]
    },
    {
     "data": {
      "text/plain": [
       "\"DB: Nominal solution at t = 20: found\""
      ]
     },
     "metadata": {},
     "output_type": "display_data"
    },
    {
     "data": {
      "text/plain": [
       "\"DB: opt. gap 1.00000419586247\""
      ]
     },
     "metadata": {},
     "output_type": "display_data"
    },
    {
     "data": {
      "text/plain": [
       "\">>>>>> iteration 1:O\""
      ]
     },
     "metadata": {},
     "output_type": "display_data"
    },
    {
     "data": {
      "text/plain": [
       "\"DB: opt. gap 0.5903087249622743\""
      ]
     },
     "metadata": {},
     "output_type": "display_data"
    },
    {
     "data": {
      "text/plain": [
       "\">>>>>> iteration 2:O\""
      ]
     },
     "metadata": {},
     "output_type": "display_data"
    },
    {
     "data": {
      "text/plain": [
       "\"DB: opt. gap 0.284714016408247\""
      ]
     },
     "metadata": {},
     "output_type": "display_data"
    },
    {
     "data": {
      "text/plain": [
       "\">>>>>> iteration 3:O\""
      ]
     },
     "metadata": {},
     "output_type": "display_data"
    },
    {
     "data": {
      "text/plain": [
       "\"DB: opt. gap 0.09272463302438508\""
      ]
     },
     "metadata": {},
     "output_type": "display_data"
    },
    {
     "data": {
      "text/plain": [
       "\">>>>>> iteration 4:O\""
      ]
     },
     "metadata": {},
     "output_type": "display_data"
    },
    {
     "data": {
      "text/plain": [
       "\"DB: opt. gap 0.03266012028552385\""
      ]
     },
     "metadata": {},
     "output_type": "display_data"
    },
    {
     "data": {
      "text/plain": [
       "\">>>>>> iteration 5:O\""
      ]
     },
     "metadata": {},
     "output_type": "display_data"
    },
    {
     "data": {
      "text/plain": [
       "\"DB: opt. gap 0.010159419962850419\""
      ]
     },
     "metadata": {},
     "output_type": "display_data"
    },
    {
     "data": {
      "text/plain": [
       "\">>>>>> iteration 6:O\""
      ]
     },
     "metadata": {},
     "output_type": "display_data"
    },
    {
     "data": {
      "text/plain": [
       "\"DB: opt. gap 0.005991142857221432\""
      ]
     },
     "metadata": {},
     "output_type": "display_data"
    },
    {
     "data": {
      "text/plain": [
       "\">>>>>> iteration 7:O\""
      ]
     },
     "metadata": {},
     "output_type": "display_data"
    },
    {
     "data": {
      "text/plain": [
       "\"DB: opt. gap 0.006029688086716996\""
      ]
     },
     "metadata": {},
     "output_type": "display_data"
    },
    {
     "data": {
      "text/plain": [
       "\">>>>>> iteration 8:O\""
      ]
     },
     "metadata": {},
     "output_type": "display_data"
    },
    {
     "data": {
      "text/plain": [
       "\"DB: random\""
      ]
     },
     "metadata": {},
     "output_type": "display_data"
    },
    {
     "data": {
      "text/plain": [
       "\"DB: opt. gap 0.0004995431618998524\""
      ]
     },
     "metadata": {},
     "output_type": "display_data"
    },
    {
     "data": {
      "text/plain": [
       "\"DB: CLDRTO method: 2 - Solution at t = 20: found\""
      ]
     },
     "metadata": {},
     "output_type": "display_data"
    },
    {
     "data": {
      "text/plain": [
       "\"DB: MC iter. 6 --> Plant parameter = 0.7104877284605773\""
      ]
     },
     "metadata": {},
     "output_type": "display_data"
    },
    {
     "data": {
      "text/plain": [
       "\"Nominal solution at t = 0: found\""
      ]
     },
     "metadata": {},
     "output_type": "display_data"
    },
    {
     "name": "stdout",
     "output_type": "stream",
     "text": [
      "MC: 6>> Time: 1\n"
     ]
    },
    {
     "data": {
      "text/plain": [
       "\"DB: CLDRTO method: 1 - Solution at t = 1: found\""
      ]
     },
     "metadata": {},
     "output_type": "display_data"
    },
    {
     "name": "stdout",
     "output_type": "stream",
     "text": [
      "MC: 6>> Time: 2\n",
      "MC: 6>> Time: 3\n",
      "MC: 6>> Time: 4\n"
     ]
    },
    {
     "data": {
      "text/plain": [
       "\"DB: Nominal solution at t = 4: found\""
      ]
     },
     "metadata": {},
     "output_type": "display_data"
    },
    {
     "data": {
      "text/plain": [
       "\"DB: CLDRTO method: 1 - Solution at t = 4: found\""
      ]
     },
     "metadata": {},
     "output_type": "display_data"
    },
    {
     "name": "stdout",
     "output_type": "stream",
     "text": [
      "MC: 6>> Time: 5\n",
      "MC: 6>> Time: 6\n",
      "MC: 6>> Time: 7\n",
      "MC: 6>> Time: 8\n"
     ]
    },
    {
     "data": {
      "text/plain": [
       "\"DB: Nominal solution at t = 8: found\""
      ]
     },
     "metadata": {},
     "output_type": "display_data"
    },
    {
     "data": {
      "text/plain": [
       "\"DB: CLDRTO method: 1 - Solution at t = 8: found\""
      ]
     },
     "metadata": {},
     "output_type": "display_data"
    },
    {
     "name": "stdout",
     "output_type": "stream",
     "text": [
      "MC: 6>> Time: 9\n",
      "MC: 6>> Time: 10\n",
      "MC: 6>> Time: 11\n",
      "MC: 6>> Time: 12\n"
     ]
    },
    {
     "data": {
      "text/plain": [
       "\"DB: Nominal solution at t = 12: found\""
      ]
     },
     "metadata": {},
     "output_type": "display_data"
    },
    {
     "data": {
      "text/plain": [
       "\"DB: CLDRTO method: 1 - Solution at t = 12: found\""
      ]
     },
     "metadata": {},
     "output_type": "display_data"
    },
    {
     "name": "stdout",
     "output_type": "stream",
     "text": [
      "MC: 6>> Time: 13\n",
      "MC: 6>> Time: 14\n",
      "MC: 6>> Time: 15\n",
      "MC: 6>> Time: 16\n"
     ]
    },
    {
     "data": {
      "text/plain": [
       "\"DB: Nominal solution at t = 16: found\""
      ]
     },
     "metadata": {},
     "output_type": "display_data"
    },
    {
     "data": {
      "text/plain": [
       "\"DB: CLDRTO method: 1 - Solution at t = 16: found\""
      ]
     },
     "metadata": {},
     "output_type": "display_data"
    },
    {
     "name": "stdout",
     "output_type": "stream",
     "text": [
      "MC: 6>> Time: 17\n",
      "MC: 6>> Time: 18\n",
      "MC: 6>> Time: 19\n",
      "MC: 6>> Time: 20\n"
     ]
    },
    {
     "data": {
      "text/plain": [
       "\"DB: Nominal solution at t = 20: found\""
      ]
     },
     "metadata": {},
     "output_type": "display_data"
    },
    {
     "data": {
      "text/plain": [
       "\"DB: CLDRTO method: 1 - Solution at t = 20: found\""
      ]
     },
     "metadata": {},
     "output_type": "display_data"
    },
    {
     "data": {
      "text/plain": [
       "\"Nominal solution at t = 0: found\""
      ]
     },
     "metadata": {},
     "output_type": "display_data"
    },
    {
     "name": "stdout",
     "output_type": "stream",
     "text": [
      "MC: 6>> Time: 1\n"
     ]
    },
    {
     "data": {
      "text/plain": [
       "\"DB: opt. gap 1.000000005263681\""
      ]
     },
     "metadata": {},
     "output_type": "display_data"
    },
    {
     "data": {
      "text/plain": [
       "\">>>>>> iteration 1:O\""
      ]
     },
     "metadata": {},
     "output_type": "display_data"
    },
    {
     "data": {
      "text/plain": [
       "\"DB: opt. gap 0.00431106866548491\""
      ]
     },
     "metadata": {},
     "output_type": "display_data"
    },
    {
     "data": {
      "text/plain": [
       "\">>>>>> iteration 2:O\""
      ]
     },
     "metadata": {},
     "output_type": "display_data"
    },
    {
     "data": {
      "text/plain": [
       "\"DB: opt. gap 0.004100693528206623\""
      ]
     },
     "metadata": {},
     "output_type": "display_data"
    },
    {
     "data": {
      "text/plain": [
       "\">>>>>> iteration 3:O\""
      ]
     },
     "metadata": {},
     "output_type": "display_data"
    },
    {
     "data": {
      "text/plain": [
       "\"DB: random\""
      ]
     },
     "metadata": {},
     "output_type": "display_data"
    },
    {
     "data": {
      "text/plain": [
       "\"DB: opt. gap 2.4615679857353848e-6\""
      ]
     },
     "metadata": {},
     "output_type": "display_data"
    },
    {
     "data": {
      "text/plain": [
       "\"DB: CLDRTO method: 2 - Solution at t = 1: found\""
      ]
     },
     "metadata": {},
     "output_type": "display_data"
    },
    {
     "name": "stdout",
     "output_type": "stream",
     "text": [
      "MC: 6>> Time: 2\n",
      "MC: 6>> Time: 3\n",
      "MC: 6>> Time: 4\n"
     ]
    },
    {
     "data": {
      "text/plain": [
       "\"DB: Nominal solution at t = 4: found\""
      ]
     },
     "metadata": {},
     "output_type": "display_data"
    },
    {
     "data": {
      "text/plain": [
       "\"DB: opt. gap 1.0000000249255754\""
      ]
     },
     "metadata": {},
     "output_type": "display_data"
    },
    {
     "data": {
      "text/plain": [
       "\">>>>>> iteration 1:O\""
      ]
     },
     "metadata": {},
     "output_type": "display_data"
    },
    {
     "data": {
      "text/plain": [
       "\"DB: opt. gap 0.012118190385696635\""
      ]
     },
     "metadata": {},
     "output_type": "display_data"
    },
    {
     "data": {
      "text/plain": [
       "\">>>>>> iteration 2:O\""
      ]
     },
     "metadata": {},
     "output_type": "display_data"
    },
    {
     "data": {
      "text/plain": [
       "\"DB: opt. gap 0.011199183409929191\""
      ]
     },
     "metadata": {},
     "output_type": "display_data"
    },
    {
     "data": {
      "text/plain": [
       "\">>>>>> iteration 3:O\""
      ]
     },
     "metadata": {},
     "output_type": "display_data"
    },
    {
     "data": {
      "text/plain": [
       "\"DB: random\""
      ]
     },
     "metadata": {},
     "output_type": "display_data"
    },
    {
     "data": {
      "text/plain": [
       "\"DB: opt. gap 1.733607939152041e-5\""
      ]
     },
     "metadata": {},
     "output_type": "display_data"
    },
    {
     "data": {
      "text/plain": [
       "\"DB: CLDRTO method: 2 - Solution at t = 4: found\""
      ]
     },
     "metadata": {},
     "output_type": "display_data"
    },
    {
     "name": "stdout",
     "output_type": "stream",
     "text": [
      "MC: 6>> Time: 5\n",
      "MC: 6>> Time: 6\n",
      "MC: 6>> Time: 7\n",
      "MC: 6>> Time: 8\n"
     ]
    },
    {
     "data": {
      "text/plain": [
       "\"DB: Nominal solution at t = 8: found\""
      ]
     },
     "metadata": {},
     "output_type": "display_data"
    },
    {
     "data": {
      "text/plain": [
       "\"DB: opt. gap 1.000024981999837\""
      ]
     },
     "metadata": {},
     "output_type": "display_data"
    },
    {
     "data": {
      "text/plain": [
       "\">>>>>> iteration 1:O\""
      ]
     },
     "metadata": {},
     "output_type": "display_data"
    },
    {
     "data": {
      "text/plain": [
       "\"DB: opt. gap 1.0000234180093062\""
      ]
     },
     "metadata": {},
     "output_type": "display_data"
    },
    {
     "data": {
      "text/plain": [
       "\">>>>>> iteration 2:O\""
      ]
     },
     "metadata": {},
     "output_type": "display_data"
    },
    {
     "data": {
      "text/plain": [
       "\"DB: random\""
      ]
     },
     "metadata": {},
     "output_type": "display_data"
    },
    {
     "data": {
      "text/plain": [
       "\"DB: opt. gap 0.09649822316631952\""
      ]
     },
     "metadata": {},
     "output_type": "display_data"
    },
    {
     "data": {
      "text/plain": [
       "\">>>>>> iteration 3:O\""
      ]
     },
     "metadata": {},
     "output_type": "display_data"
    },
    {
     "data": {
      "text/plain": [
       "\"DB: opt. gap 0.0630787219270549\""
      ]
     },
     "metadata": {},
     "output_type": "display_data"
    },
    {
     "data": {
      "text/plain": [
       "\">>>>>> iteration 4:O\""
      ]
     },
     "metadata": {},
     "output_type": "display_data"
    },
    {
     "data": {
      "text/plain": [
       "\"DB: opt. gap 0.06467310324627634\""
      ]
     },
     "metadata": {},
     "output_type": "display_data"
    },
    {
     "data": {
      "text/plain": [
       "\">>>>>> iteration 5:O\""
      ]
     },
     "metadata": {},
     "output_type": "display_data"
    },
    {
     "data": {
      "text/plain": [
       "\"DB: opt. gap 0.048270160873476166\""
      ]
     },
     "metadata": {},
     "output_type": "display_data"
    },
    {
     "data": {
      "text/plain": [
       "\">>>>>> iteration 6:O\""
      ]
     },
     "metadata": {},
     "output_type": "display_data"
    },
    {
     "data": {
      "text/plain": [
       "\"DB: opt. gap 0.005287126250899055\""
      ]
     },
     "metadata": {},
     "output_type": "display_data"
    },
    {
     "data": {
      "text/plain": [
       "\">>>>>> iteration 7:O\""
      ]
     },
     "metadata": {},
     "output_type": "display_data"
    },
    {
     "data": {
      "text/plain": [
       "\"DB: opt. gap 0.005456262791097686\""
      ]
     },
     "metadata": {},
     "output_type": "display_data"
    },
    {
     "data": {
      "text/plain": [
       "\">>>>>> iteration 8:O\""
      ]
     },
     "metadata": {},
     "output_type": "display_data"
    },
    {
     "data": {
      "text/plain": [
       "\"DB: random\""
      ]
     },
     "metadata": {},
     "output_type": "display_data"
    },
    {
     "data": {
      "text/plain": [
       "\"DB: opt. gap 0.005457996943653226\""
      ]
     },
     "metadata": {},
     "output_type": "display_data"
    },
    {
     "data": {
      "text/plain": [
       "\">>>>>> iteration 9:O\""
      ]
     },
     "metadata": {},
     "output_type": "display_data"
    },
    {
     "data": {
      "text/plain": [
       "\"DB: random\""
      ]
     },
     "metadata": {},
     "output_type": "display_data"
    },
    {
     "data": {
      "text/plain": [
       "\"DB: opt. gap 0.005456324175851792\""
      ]
     },
     "metadata": {},
     "output_type": "display_data"
    },
    {
     "data": {
      "text/plain": [
       "\">>>>>> iteration 10:O\""
      ]
     },
     "metadata": {},
     "output_type": "display_data"
    },
    {
     "data": {
      "text/plain": [
       "\"DB: random\""
      ]
     },
     "metadata": {},
     "output_type": "display_data"
    },
    {
     "data": {
      "text/plain": [
       "\"DB: opt. gap 0.005456117044757449\""
      ]
     },
     "metadata": {},
     "output_type": "display_data"
    },
    {
     "data": {
      "text/plain": [
       "\">>>>>> iteration 11:O\""
      ]
     },
     "metadata": {},
     "output_type": "display_data"
    },
    {
     "data": {
      "text/plain": [
       "\"DB: random\""
      ]
     },
     "metadata": {},
     "output_type": "display_data"
    },
    {
     "data": {
      "text/plain": [
       "\"DB: opt. gap 0.005456581426255141\""
      ]
     },
     "metadata": {},
     "output_type": "display_data"
    },
    {
     "data": {
      "text/plain": [
       "\">>>>>> iteration 12:O\""
      ]
     },
     "metadata": {},
     "output_type": "display_data"
    },
    {
     "data": {
      "text/plain": [
       "\"DB: random\""
      ]
     },
     "metadata": {},
     "output_type": "display_data"
    },
    {
     "data": {
      "text/plain": [
       "\"DB: opt. gap 0.005456021366778011\""
      ]
     },
     "metadata": {},
     "output_type": "display_data"
    },
    {
     "data": {
      "text/plain": [
       "\">>>>>> iteration 13:O\""
      ]
     },
     "metadata": {},
     "output_type": "display_data"
    },
    {
     "data": {
      "text/plain": [
       "\"DB: random\""
      ]
     },
     "metadata": {},
     "output_type": "display_data"
    },
    {
     "data": {
      "text/plain": [
       "\"DB: opt. gap 0.005455506519892168\""
      ]
     },
     "metadata": {},
     "output_type": "display_data"
    },
    {
     "data": {
      "text/plain": [
       "\">>>>>> iteration 14:O\""
      ]
     },
     "metadata": {},
     "output_type": "display_data"
    },
    {
     "data": {
      "text/plain": [
       "\"DB: random\""
      ]
     },
     "metadata": {},
     "output_type": "display_data"
    },
    {
     "data": {
      "text/plain": [
       "\"DB: opt. gap 0.005456011682006118\""
      ]
     },
     "metadata": {},
     "output_type": "display_data"
    },
    {
     "data": {
      "text/plain": [
       "\">>>>>> iteration 15:O\""
      ]
     },
     "metadata": {},
     "output_type": "display_data"
    },
    {
     "data": {
      "text/plain": [
       "\"DB: random\""
      ]
     },
     "metadata": {},
     "output_type": "display_data"
    },
    {
     "data": {
      "text/plain": [
       "\"DB: opt. gap 0.005455265933437488\""
      ]
     },
     "metadata": {},
     "output_type": "display_data"
    },
    {
     "data": {
      "text/plain": [
       "\">>>>>> iteration 16:O\""
      ]
     },
     "metadata": {},
     "output_type": "display_data"
    },
    {
     "data": {
      "text/plain": [
       "\"DB: random\""
      ]
     },
     "metadata": {},
     "output_type": "display_data"
    },
    {
     "data": {
      "text/plain": [
       "\"DB: opt. gap 0.005456317897979965\""
      ]
     },
     "metadata": {},
     "output_type": "display_data"
    },
    {
     "data": {
      "text/plain": [
       "\">>>>>> iteration 17:O\""
      ]
     },
     "metadata": {},
     "output_type": "display_data"
    },
    {
     "data": {
      "text/plain": [
       "\"DB: random\""
      ]
     },
     "metadata": {},
     "output_type": "display_data"
    },
    {
     "data": {
      "text/plain": [
       "\"DB: opt. gap 0.005455259487601484\""
      ]
     },
     "metadata": {},
     "output_type": "display_data"
    },
    {
     "data": {
      "text/plain": [
       "\">>>>>> iteration 18:O\""
      ]
     },
     "metadata": {},
     "output_type": "display_data"
    },
    {
     "data": {
      "text/plain": [
       "\"DB: random\""
      ]
     },
     "metadata": {},
     "output_type": "display_data"
    },
    {
     "data": {
      "text/plain": [
       "\"DB: opt. gap 0.005457031101167164\""
      ]
     },
     "metadata": {},
     "output_type": "display_data"
    },
    {
     "data": {
      "text/plain": [
       "\">>>>>> iteration 19:O\""
      ]
     },
     "metadata": {},
     "output_type": "display_data"
    },
    {
     "data": {
      "text/plain": [
       "\"DB: random\""
      ]
     },
     "metadata": {},
     "output_type": "display_data"
    },
    {
     "data": {
      "text/plain": [
       "\"DB: opt. gap 0.0054550472983599906\""
      ]
     },
     "metadata": {},
     "output_type": "display_data"
    },
    {
     "data": {
      "text/plain": [
       "\">>>>>> iteration 20:O\""
      ]
     },
     "metadata": {},
     "output_type": "display_data"
    },
    {
     "data": {
      "text/plain": [
       "\"DB: random\""
      ]
     },
     "metadata": {},
     "output_type": "display_data"
    },
    {
     "data": {
      "text/plain": [
       "\"DB: opt. gap 0.005455378281697158\""
      ]
     },
     "metadata": {},
     "output_type": "display_data"
    },
    {
     "data": {
      "text/plain": [
       "\">>>>>> iteration 21:O\""
      ]
     },
     "metadata": {},
     "output_type": "display_data"
    },
    {
     "data": {
      "text/plain": [
       "\"DB: random\""
      ]
     },
     "metadata": {},
     "output_type": "display_data"
    },
    {
     "data": {
      "text/plain": [
       "\"DB: opt. gap 0.005456477904617203\""
      ]
     },
     "metadata": {},
     "output_type": "display_data"
    },
    {
     "data": {
      "text/plain": [
       "\">>>>>> iteration 22:O\""
      ]
     },
     "metadata": {},
     "output_type": "display_data"
    },
    {
     "data": {
      "text/plain": [
       "\"DB: random\""
      ]
     },
     "metadata": {},
     "output_type": "display_data"
    },
    {
     "data": {
      "text/plain": [
       "\"DB: opt. gap 0.005458464367407824\""
      ]
     },
     "metadata": {},
     "output_type": "display_data"
    },
    {
     "data": {
      "text/plain": [
       "\">>>>>> iteration 23:O\""
      ]
     },
     "metadata": {},
     "output_type": "display_data"
    },
    {
     "data": {
      "text/plain": [
       "\"DB: random\""
      ]
     },
     "metadata": {},
     "output_type": "display_data"
    },
    {
     "data": {
      "text/plain": [
       "\"DB: opt. gap 0.005455702518742776\""
      ]
     },
     "metadata": {},
     "output_type": "display_data"
    },
    {
     "data": {
      "text/plain": [
       "\">>>>>> iteration 24:O\""
      ]
     },
     "metadata": {},
     "output_type": "display_data"
    },
    {
     "data": {
      "text/plain": [
       "\"DB: random\""
      ]
     },
     "metadata": {},
     "output_type": "display_data"
    },
    {
     "data": {
      "text/plain": [
       "\"DB: opt. gap 0.005455462634913163\""
      ]
     },
     "metadata": {},
     "output_type": "display_data"
    },
    {
     "data": {
      "text/plain": [
       "\">>>>>> iteration 25:O\""
      ]
     },
     "metadata": {},
     "output_type": "display_data"
    },
    {
     "data": {
      "text/plain": [
       "\"DB: random\""
      ]
     },
     "metadata": {},
     "output_type": "display_data"
    },
    {
     "data": {
      "text/plain": [
       "\"DB: opt. gap 0.005456646500140801\""
      ]
     },
     "metadata": {},
     "output_type": "display_data"
    },
    {
     "data": {
      "text/plain": [
       "\">>>>>> iteration 26:O\""
      ]
     },
     "metadata": {},
     "output_type": "display_data"
    },
    {
     "data": {
      "text/plain": [
       "\"DB: random\""
      ]
     },
     "metadata": {},
     "output_type": "display_data"
    },
    {
     "data": {
      "text/plain": [
       "\"DB: opt. gap 0.0054556713916615335\""
      ]
     },
     "metadata": {},
     "output_type": "display_data"
    },
    {
     "data": {
      "text/plain": [
       "\">>>>>> iteration 27:O\""
      ]
     },
     "metadata": {},
     "output_type": "display_data"
    },
    {
     "data": {
      "text/plain": [
       "\"DB: random\""
      ]
     },
     "metadata": {},
     "output_type": "display_data"
    },
    {
     "data": {
      "text/plain": [
       "\"DB: opt. gap 0.005456922312564415\""
      ]
     },
     "metadata": {},
     "output_type": "display_data"
    },
    {
     "data": {
      "text/plain": [
       "\">>>>>> iteration 28:O\""
      ]
     },
     "metadata": {},
     "output_type": "display_data"
    },
    {
     "data": {
      "text/plain": [
       "\"DB: random\""
      ]
     },
     "metadata": {},
     "output_type": "display_data"
    },
    {
     "data": {
      "text/plain": [
       "\"DB: opt. gap 0.005456870983350723\""
      ]
     },
     "metadata": {},
     "output_type": "display_data"
    },
    {
     "data": {
      "text/plain": [
       "\">>>>>> iteration 29:O\""
      ]
     },
     "metadata": {},
     "output_type": "display_data"
    },
    {
     "data": {
      "text/plain": [
       "\"DB: random\""
      ]
     },
     "metadata": {},
     "output_type": "display_data"
    },
    {
     "data": {
      "text/plain": [
       "\"DB: opt. gap 0.005454877240233344\""
      ]
     },
     "metadata": {},
     "output_type": "display_data"
    },
    {
     "data": {
      "text/plain": [
       "\">>>>>> iteration 30:O\""
      ]
     },
     "metadata": {},
     "output_type": "display_data"
    },
    {
     "data": {
      "text/plain": [
       "\"DB: random\""
      ]
     },
     "metadata": {},
     "output_type": "display_data"
    },
    {
     "data": {
      "text/plain": [
       "\"DB: opt. gap 0.0054547694172494\""
      ]
     },
     "metadata": {},
     "output_type": "display_data"
    },
    {
     "data": {
      "text/plain": [
       "\">>>>>> iteration 31:O\""
      ]
     },
     "metadata": {},
     "output_type": "display_data"
    },
    {
     "data": {
      "text/plain": [
       "\"DB: random\""
      ]
     },
     "metadata": {},
     "output_type": "display_data"
    },
    {
     "data": {
      "text/plain": [
       "\"DB: opt. gap 0.005455975375062715\""
      ]
     },
     "metadata": {},
     "output_type": "display_data"
    },
    {
     "data": {
      "text/plain": [
       "\">>>>>> iteration 32:O\""
      ]
     },
     "metadata": {},
     "output_type": "display_data"
    },
    {
     "data": {
      "text/plain": [
       "\"DB: random\""
      ]
     },
     "metadata": {},
     "output_type": "display_data"
    },
    {
     "data": {
      "text/plain": [
       "\"DB: opt. gap 0.005454619992214606\""
      ]
     },
     "metadata": {},
     "output_type": "display_data"
    },
    {
     "data": {
      "text/plain": [
       "\">>>>>> iteration 33:O\""
      ]
     },
     "metadata": {},
     "output_type": "display_data"
    },
    {
     "data": {
      "text/plain": [
       "\"DB: random\""
      ]
     },
     "metadata": {},
     "output_type": "display_data"
    },
    {
     "data": {
      "text/plain": [
       "\"DB: opt. gap 0.005456758018975922\""
      ]
     },
     "metadata": {},
     "output_type": "display_data"
    },
    {
     "data": {
      "text/plain": [
       "\">>>>>> iteration 34:O\""
      ]
     },
     "metadata": {},
     "output_type": "display_data"
    },
    {
     "data": {
      "text/plain": [
       "\"DB: random\""
      ]
     },
     "metadata": {},
     "output_type": "display_data"
    },
    {
     "data": {
      "text/plain": [
       "\"DB: opt. gap 0.005445391290533845\""
      ]
     },
     "metadata": {},
     "output_type": "display_data"
    },
    {
     "data": {
      "text/plain": [
       "\">>>>>> iteration 35:O\""
      ]
     },
     "metadata": {},
     "output_type": "display_data"
    },
    {
     "data": {
      "text/plain": [
       "\"DB: random\""
      ]
     },
     "metadata": {},
     "output_type": "display_data"
    },
    {
     "data": {
      "text/plain": [
       "\"DB: opt. gap 0.0054566727583651485\""
      ]
     },
     "metadata": {},
     "output_type": "display_data"
    },
    {
     "data": {
      "text/plain": [
       "\">>>>>> iteration 36:O\""
      ]
     },
     "metadata": {},
     "output_type": "display_data"
    },
    {
     "data": {
      "text/plain": [
       "\"DB: random\""
      ]
     },
     "metadata": {},
     "output_type": "display_data"
    },
    {
     "data": {
      "text/plain": [
       "\"DB: opt. gap 0.005457124802911857\""
      ]
     },
     "metadata": {},
     "output_type": "display_data"
    },
    {
     "data": {
      "text/plain": [
       "\">>>>>> iteration 37:O\""
      ]
     },
     "metadata": {},
     "output_type": "display_data"
    },
    {
     "data": {
      "text/plain": [
       "\"DB: random\""
      ]
     },
     "metadata": {},
     "output_type": "display_data"
    },
    {
     "data": {
      "text/plain": [
       "\"DB: opt. gap 0.005457136979122406\""
      ]
     },
     "metadata": {},
     "output_type": "display_data"
    },
    {
     "data": {
      "text/plain": [
       "\">>>>>> iteration 38:O\""
      ]
     },
     "metadata": {},
     "output_type": "display_data"
    },
    {
     "data": {
      "text/plain": [
       "\"DB: random\""
      ]
     },
     "metadata": {},
     "output_type": "display_data"
    },
    {
     "data": {
      "text/plain": [
       "\"DB: opt. gap 0.005457286846865427\""
      ]
     },
     "metadata": {},
     "output_type": "display_data"
    },
    {
     "data": {
      "text/plain": [
       "\">>>>>> iteration 39:O\""
      ]
     },
     "metadata": {},
     "output_type": "display_data"
    },
    {
     "data": {
      "text/plain": [
       "\"DB: random\""
      ]
     },
     "metadata": {},
     "output_type": "display_data"
    },
    {
     "data": {
      "text/plain": [
       "\"DB: opt. gap 0.0054571317532175175\""
      ]
     },
     "metadata": {},
     "output_type": "display_data"
    },
    {
     "data": {
      "text/plain": [
       "\">>>>>> iteration 40:O\""
      ]
     },
     "metadata": {},
     "output_type": "display_data"
    },
    {
     "data": {
      "text/plain": [
       "\"DB: random\""
      ]
     },
     "metadata": {},
     "output_type": "display_data"
    },
    {
     "data": {
      "text/plain": [
       "\"DB: opt. gap 0.005457071569050133\""
      ]
     },
     "metadata": {},
     "output_type": "display_data"
    },
    {
     "data": {
      "text/plain": [
       "\">>>>>> iteration 41:O\""
      ]
     },
     "metadata": {},
     "output_type": "display_data"
    },
    {
     "data": {
      "text/plain": [
       "\"DB: random\""
      ]
     },
     "metadata": {},
     "output_type": "display_data"
    },
    {
     "data": {
      "text/plain": [
       "\"DB: opt. gap 0.0054516430999746\""
      ]
     },
     "metadata": {},
     "output_type": "display_data"
    },
    {
     "data": {
      "text/plain": [
       "\">>>>>> iteration 42:O\""
      ]
     },
     "metadata": {},
     "output_type": "display_data"
    },
    {
     "data": {
      "text/plain": [
       "\"DB: random\""
      ]
     },
     "metadata": {},
     "output_type": "display_data"
    },
    {
     "data": {
      "text/plain": [
       "\"DB: opt. gap 0.0054566250687653126\""
      ]
     },
     "metadata": {},
     "output_type": "display_data"
    },
    {
     "data": {
      "text/plain": [
       "\">>>>>> iteration 43:O\""
      ]
     },
     "metadata": {},
     "output_type": "display_data"
    },
    {
     "data": {
      "text/plain": [
       "\"DB: random\""
      ]
     },
     "metadata": {},
     "output_type": "display_data"
    },
    {
     "data": {
      "text/plain": [
       "\"DB: opt. gap 0.005457506238275039\""
      ]
     },
     "metadata": {},
     "output_type": "display_data"
    },
    {
     "data": {
      "text/plain": [
       "\">>>>>> iteration 44:O\""
      ]
     },
     "metadata": {},
     "output_type": "display_data"
    },
    {
     "data": {
      "text/plain": [
       "\"DB: random\""
      ]
     },
     "metadata": {},
     "output_type": "display_data"
    },
    {
     "data": {
      "text/plain": [
       "\"DB: opt. gap 0.005457113108975698\""
      ]
     },
     "metadata": {},
     "output_type": "display_data"
    },
    {
     "data": {
      "text/plain": [
       "\">>>>>> iteration 45:O\""
      ]
     },
     "metadata": {},
     "output_type": "display_data"
    },
    {
     "data": {
      "text/plain": [
       "\"DB: random\""
      ]
     },
     "metadata": {},
     "output_type": "display_data"
    },
    {
     "data": {
      "text/plain": [
       "\"DB: opt. gap 0.005457124711977614\""
      ]
     },
     "metadata": {},
     "output_type": "display_data"
    },
    {
     "data": {
      "text/plain": [
       "\">>>>>> iteration 46:O\""
      ]
     },
     "metadata": {},
     "output_type": "display_data"
    },
    {
     "data": {
      "text/plain": [
       "\"DB: random\""
      ]
     },
     "metadata": {},
     "output_type": "display_data"
    },
    {
     "data": {
      "text/plain": [
       "\"DB: opt. gap 0.0054573822778071395\""
      ]
     },
     "metadata": {},
     "output_type": "display_data"
    },
    {
     "data": {
      "text/plain": [
       "\">>>>>> iteration 47:O\""
      ]
     },
     "metadata": {},
     "output_type": "display_data"
    },
    {
     "data": {
      "text/plain": [
       "\"DB: random\""
      ]
     },
     "metadata": {},
     "output_type": "display_data"
    },
    {
     "data": {
      "text/plain": [
       "\"DB: opt. gap 0.005456386238114981\""
      ]
     },
     "metadata": {},
     "output_type": "display_data"
    },
    {
     "data": {
      "text/plain": [
       "\">>>>>> iteration 48:O\""
      ]
     },
     "metadata": {},
     "output_type": "display_data"
    },
    {
     "data": {
      "text/plain": [
       "\"DB: random\""
      ]
     },
     "metadata": {},
     "output_type": "display_data"
    },
    {
     "data": {
      "text/plain": [
       "\"DB: opt. gap 0.005457568180065208\""
      ]
     },
     "metadata": {},
     "output_type": "display_data"
    },
    {
     "data": {
      "text/plain": [
       "\">>>>>> iteration 49:O\""
      ]
     },
     "metadata": {},
     "output_type": "display_data"
    },
    {
     "data": {
      "text/plain": [
       "\"DB: random\""
      ]
     },
     "metadata": {},
     "output_type": "display_data"
    },
    {
     "data": {
      "text/plain": [
       "\"DB: opt. gap 0.005453230340577476\""
      ]
     },
     "metadata": {},
     "output_type": "display_data"
    },
    {
     "data": {
      "text/plain": [
       "\">>>>>> iteration 50:O\""
      ]
     },
     "metadata": {},
     "output_type": "display_data"
    },
    {
     "data": {
      "text/plain": [
       "\"DB: random\""
      ]
     },
     "metadata": {},
     "output_type": "display_data"
    },
    {
     "data": {
      "text/plain": [
       "\"DB: opt. gap 0.005457518351106718\""
      ]
     },
     "metadata": {},
     "output_type": "display_data"
    },
    {
     "data": {
      "text/plain": [
       "\">>>>>> iteration 51:O\""
      ]
     },
     "metadata": {},
     "output_type": "display_data"
    },
    {
     "data": {
      "text/plain": [
       "\"DB: random\""
      ]
     },
     "metadata": {},
     "output_type": "display_data"
    },
    {
     "data": {
      "text/plain": [
       "\"DB: opt. gap 0.005457711330590386\""
      ]
     },
     "metadata": {},
     "output_type": "display_data"
    },
    {
     "data": {
      "text/plain": [
       "\">>>>>> iteration 52:O\""
      ]
     },
     "metadata": {},
     "output_type": "display_data"
    },
    {
     "data": {
      "text/plain": [
       "\"DB: random\""
      ]
     },
     "metadata": {},
     "output_type": "display_data"
    },
    {
     "data": {
      "text/plain": [
       "\"DB: opt. gap 0.005458840023063832\""
      ]
     },
     "metadata": {},
     "output_type": "display_data"
    },
    {
     "data": {
      "text/plain": [
       "\">>>>>> iteration 53:O\""
      ]
     },
     "metadata": {},
     "output_type": "display_data"
    },
    {
     "data": {
      "text/plain": [
       "\"DB: random\""
      ]
     },
     "metadata": {},
     "output_type": "display_data"
    },
    {
     "data": {
      "text/plain": [
       "\"DB: opt. gap 0.005457718383420359\""
      ]
     },
     "metadata": {},
     "output_type": "display_data"
    },
    {
     "data": {
      "text/plain": [
       "\">>>>>> iteration 54:O\""
      ]
     },
     "metadata": {},
     "output_type": "display_data"
    },
    {
     "data": {
      "text/plain": [
       "\"DB: random\""
      ]
     },
     "metadata": {},
     "output_type": "display_data"
    },
    {
     "data": {
      "text/plain": [
       "\"DB: opt. gap 0.005457777378910283\""
      ]
     },
     "metadata": {},
     "output_type": "display_data"
    },
    {
     "data": {
      "text/plain": [
       "\">>>>>> iteration 55:O\""
      ]
     },
     "metadata": {},
     "output_type": "display_data"
    },
    {
     "data": {
      "text/plain": [
       "\"DB: random\""
      ]
     },
     "metadata": {},
     "output_type": "display_data"
    },
    {
     "data": {
      "text/plain": [
       "\"DB: opt. gap 0.005453479876869397\""
      ]
     },
     "metadata": {},
     "output_type": "display_data"
    },
    {
     "data": {
      "text/plain": [
       "\">>>>>> iteration 56:O\""
      ]
     },
     "metadata": {},
     "output_type": "display_data"
    },
    {
     "data": {
      "text/plain": [
       "\"DB: random\""
      ]
     },
     "metadata": {},
     "output_type": "display_data"
    },
    {
     "data": {
      "text/plain": [
       "\"DB: opt. gap 0.005457674193696571\""
      ]
     },
     "metadata": {},
     "output_type": "display_data"
    },
    {
     "data": {
      "text/plain": [
       "\">>>>>> iteration 57:O\""
      ]
     },
     "metadata": {},
     "output_type": "display_data"
    },
    {
     "data": {
      "text/plain": [
       "\"DB: random\""
      ]
     },
     "metadata": {},
     "output_type": "display_data"
    },
    {
     "data": {
      "text/plain": [
       "\"DB: opt. gap 0.005458175112163388\""
      ]
     },
     "metadata": {},
     "output_type": "display_data"
    },
    {
     "data": {
      "text/plain": [
       "\">>>>>> iteration 58:O\""
      ]
     },
     "metadata": {},
     "output_type": "display_data"
    },
    {
     "data": {
      "text/plain": [
       "\"DB: random\""
      ]
     },
     "metadata": {},
     "output_type": "display_data"
    },
    {
     "data": {
      "text/plain": [
       "\"DB: opt. gap 0.005458118440439551\""
      ]
     },
     "metadata": {},
     "output_type": "display_data"
    },
    {
     "data": {
      "text/plain": [
       "\">>>>>> iteration 59:O\""
      ]
     },
     "metadata": {},
     "output_type": "display_data"
    },
    {
     "data": {
      "text/plain": [
       "\"DB: random\""
      ]
     },
     "metadata": {},
     "output_type": "display_data"
    },
    {
     "data": {
      "text/plain": [
       "\"DB: opt. gap 0.005458683515150605\""
      ]
     },
     "metadata": {},
     "output_type": "display_data"
    },
    {
     "data": {
      "text/plain": [
       "\">>>>>> iteration 60:O\""
      ]
     },
     "metadata": {},
     "output_type": "display_data"
    },
    {
     "data": {
      "text/plain": [
       "\"DB: random\""
      ]
     },
     "metadata": {},
     "output_type": "display_data"
    },
    {
     "data": {
      "text/plain": [
       "\"DB: opt. gap 0.00545470778313761\""
      ]
     },
     "metadata": {},
     "output_type": "display_data"
    },
    {
     "data": {
      "text/plain": [
       "\">>>>>> iteration 61:O\""
      ]
     },
     "metadata": {},
     "output_type": "display_data"
    },
    {
     "data": {
      "text/plain": [
       "\"DB: random\""
      ]
     },
     "metadata": {},
     "output_type": "display_data"
    },
    {
     "data": {
      "text/plain": [
       "\"DB: opt. gap 0.0054468691510045\""
      ]
     },
     "metadata": {},
     "output_type": "display_data"
    },
    {
     "data": {
      "text/plain": [
       "\">>>>>> iteration 62:O\""
      ]
     },
     "metadata": {},
     "output_type": "display_data"
    },
    {
     "data": {
      "text/plain": [
       "\"DB: random\""
      ]
     },
     "metadata": {},
     "output_type": "display_data"
    },
    {
     "data": {
      "text/plain": [
       "\"DB: opt. gap 0.005452024937828776\""
      ]
     },
     "metadata": {},
     "output_type": "display_data"
    },
    {
     "data": {
      "text/plain": [
       "\">>>>>> iteration 63:O\""
      ]
     },
     "metadata": {},
     "output_type": "display_data"
    },
    {
     "data": {
      "text/plain": [
       "\"DB: random\""
      ]
     },
     "metadata": {},
     "output_type": "display_data"
    },
    {
     "data": {
      "text/plain": [
       "\"DB: opt. gap 0.0054518365403317575\""
      ]
     },
     "metadata": {},
     "output_type": "display_data"
    },
    {
     "data": {
      "text/plain": [
       "\">>>>>> iteration 64:O\""
      ]
     },
     "metadata": {},
     "output_type": "display_data"
    },
    {
     "data": {
      "text/plain": [
       "\"DB: random\""
      ]
     },
     "metadata": {},
     "output_type": "display_data"
    },
    {
     "data": {
      "text/plain": [
       "\"DB: opt. gap 0.0054480828956853375\""
      ]
     },
     "metadata": {},
     "output_type": "display_data"
    },
    {
     "data": {
      "text/plain": [
       "\">>>>>> iteration 65:O\""
      ]
     },
     "metadata": {},
     "output_type": "display_data"
    },
    {
     "data": {
      "text/plain": [
       "\"DB: random\""
      ]
     },
     "metadata": {},
     "output_type": "display_data"
    },
    {
     "data": {
      "text/plain": [
       "\"DB: opt. gap 0.00545821130563309\""
      ]
     },
     "metadata": {},
     "output_type": "display_data"
    },
    {
     "data": {
      "text/plain": [
       "\">>>>>> iteration 66:O\""
      ]
     },
     "metadata": {},
     "output_type": "display_data"
    },
    {
     "data": {
      "text/plain": [
       "\"DB: random\""
      ]
     },
     "metadata": {},
     "output_type": "display_data"
    },
    {
     "data": {
      "text/plain": [
       "\"DB: opt. gap 0.005458257069716762\""
      ]
     },
     "metadata": {},
     "output_type": "display_data"
    },
    {
     "data": {
      "text/plain": [
       "\">>>>>> iteration 67:O\""
      ]
     },
     "metadata": {},
     "output_type": "display_data"
    },
    {
     "data": {
      "text/plain": [
       "\"DB: random\""
      ]
     },
     "metadata": {},
     "output_type": "display_data"
    },
    {
     "data": {
      "text/plain": [
       "\"DB: opt. gap 0.005458518604412245\""
      ]
     },
     "metadata": {},
     "output_type": "display_data"
    },
    {
     "data": {
      "text/plain": [
       "\">>>>>> iteration 68:O\""
      ]
     },
     "metadata": {},
     "output_type": "display_data"
    },
    {
     "data": {
      "text/plain": [
       "\"DB: random\""
      ]
     },
     "metadata": {},
     "output_type": "display_data"
    },
    {
     "data": {
      "text/plain": [
       "\"DB: opt. gap 0.005449225786947269\""
      ]
     },
     "metadata": {},
     "output_type": "display_data"
    },
    {
     "data": {
      "text/plain": [
       "\">>>>>> iteration 69:O\""
      ]
     },
     "metadata": {},
     "output_type": "display_data"
    },
    {
     "data": {
      "text/plain": [
       "\"DB: random\""
      ]
     },
     "metadata": {},
     "output_type": "display_data"
    },
    {
     "data": {
      "text/plain": [
       "\"DB: opt. gap 0.0054594140414514734\""
      ]
     },
     "metadata": {},
     "output_type": "display_data"
    },
    {
     "data": {
      "text/plain": [
       "\">>>>>> iteration 70:O\""
      ]
     },
     "metadata": {},
     "output_type": "display_data"
    },
    {
     "data": {
      "text/plain": [
       "\"DB: random\""
      ]
     },
     "metadata": {},
     "output_type": "display_data"
    },
    {
     "data": {
      "text/plain": [
       "\"DB: opt. gap 0.005458267743666118\""
      ]
     },
     "metadata": {},
     "output_type": "display_data"
    },
    {
     "data": {
      "text/plain": [
       "\">>>>>> iteration 71:O\""
      ]
     },
     "metadata": {},
     "output_type": "display_data"
    },
    {
     "data": {
      "text/plain": [
       "\"DB: random\""
      ]
     },
     "metadata": {},
     "output_type": "display_data"
    },
    {
     "data": {
      "text/plain": [
       "\"DB: opt. gap 0.005455690525933499\""
      ]
     },
     "metadata": {},
     "output_type": "display_data"
    },
    {
     "data": {
      "text/plain": [
       "\">>>>>> iteration 72:O\""
      ]
     },
     "metadata": {},
     "output_type": "display_data"
    },
    {
     "data": {
      "text/plain": [
       "\"DB: random\""
      ]
     },
     "metadata": {},
     "output_type": "display_data"
    },
    {
     "data": {
      "text/plain": [
       "\"DB: opt. gap 0.0054585319429910385\""
      ]
     },
     "metadata": {},
     "output_type": "display_data"
    },
    {
     "data": {
      "text/plain": [
       "\">>>>>> iteration 73:O\""
      ]
     },
     "metadata": {},
     "output_type": "display_data"
    },
    {
     "data": {
      "text/plain": [
       "\"DB: random\""
      ]
     },
     "metadata": {},
     "output_type": "display_data"
    },
    {
     "data": {
      "text/plain": [
       "\"DB: opt. gap 0.005459042197745229\""
      ]
     },
     "metadata": {},
     "output_type": "display_data"
    },
    {
     "data": {
      "text/plain": [
       "\">>>>>> iteration 74:O\""
      ]
     },
     "metadata": {},
     "output_type": "display_data"
    },
    {
     "data": {
      "text/plain": [
       "\"DB: random\""
      ]
     },
     "metadata": {},
     "output_type": "display_data"
    },
    {
     "data": {
      "text/plain": [
       "\"DB: opt. gap 0.005449707292001509\""
      ]
     },
     "metadata": {},
     "output_type": "display_data"
    },
    {
     "data": {
      "text/plain": [
       "\">>>>>> iteration 75:O\""
      ]
     },
     "metadata": {},
     "output_type": "display_data"
    },
    {
     "data": {
      "text/plain": [
       "\"DB: random\""
      ]
     },
     "metadata": {},
     "output_type": "display_data"
    },
    {
     "data": {
      "text/plain": [
       "\"DB: opt. gap 0.005459933979021982\""
      ]
     },
     "metadata": {},
     "output_type": "display_data"
    },
    {
     "data": {
      "text/plain": [
       "\">>>>>> iteration 76:O\""
      ]
     },
     "metadata": {},
     "output_type": "display_data"
    },
    {
     "data": {
      "text/plain": [
       "\"DB: random\""
      ]
     },
     "metadata": {},
     "output_type": "display_data"
    },
    {
     "data": {
      "text/plain": [
       "\"DB: opt. gap 0.005459341215856861\""
      ]
     },
     "metadata": {},
     "output_type": "display_data"
    },
    {
     "data": {
      "text/plain": [
       "\">>>>>> iteration 77:O\""
      ]
     },
     "metadata": {},
     "output_type": "display_data"
    },
    {
     "data": {
      "text/plain": [
       "\"DB: random\""
      ]
     },
     "metadata": {},
     "output_type": "display_data"
    },
    {
     "data": {
      "text/plain": [
       "\"DB: opt. gap 0.0054480074253884965\""
      ]
     },
     "metadata": {},
     "output_type": "display_data"
    },
    {
     "data": {
      "text/plain": [
       "\">>>>>> iteration 78:O\""
      ]
     },
     "metadata": {},
     "output_type": "display_data"
    },
    {
     "data": {
      "text/plain": [
       "\"DB: random\""
      ]
     },
     "metadata": {},
     "output_type": "display_data"
    },
    {
     "data": {
      "text/plain": [
       "\"DB: opt. gap 0.0054587988507861325\""
      ]
     },
     "metadata": {},
     "output_type": "display_data"
    },
    {
     "data": {
      "text/plain": [
       "\">>>>>> iteration 79:O\""
      ]
     },
     "metadata": {},
     "output_type": "display_data"
    },
    {
     "data": {
      "text/plain": [
       "\"DB: random\""
      ]
     },
     "metadata": {},
     "output_type": "display_data"
    },
    {
     "data": {
      "text/plain": [
       "\"DB: opt. gap 0.005441681826760676\""
      ]
     },
     "metadata": {},
     "output_type": "display_data"
    },
    {
     "data": {
      "text/plain": [
       "\">>>>>> iteration 80:O\""
      ]
     },
     "metadata": {},
     "output_type": "display_data"
    },
    {
     "data": {
      "text/plain": [
       "\"DB: random\""
      ]
     },
     "metadata": {},
     "output_type": "display_data"
    },
    {
     "data": {
      "text/plain": [
       "\"DB: opt. gap 0.0054457262980152285\""
      ]
     },
     "metadata": {},
     "output_type": "display_data"
    },
    {
     "data": {
      "text/plain": [
       "\">>>>>> iteration 81:O\""
      ]
     },
     "metadata": {},
     "output_type": "display_data"
    },
    {
     "data": {
      "text/plain": [
       "\"DB: random\""
      ]
     },
     "metadata": {},
     "output_type": "display_data"
    },
    {
     "data": {
      "text/plain": [
       "\"DB: opt. gap 0.005449300854692827\""
      ]
     },
     "metadata": {},
     "output_type": "display_data"
    },
    {
     "data": {
      "text/plain": [
       "\">>>>>> iteration 82:O\""
      ]
     },
     "metadata": {},
     "output_type": "display_data"
    },
    {
     "data": {
      "text/plain": [
       "\"DB: random\""
      ]
     },
     "metadata": {},
     "output_type": "display_data"
    },
    {
     "data": {
      "text/plain": [
       "\"DB: opt. gap 0.005459012935910973\""
      ]
     },
     "metadata": {},
     "output_type": "display_data"
    },
    {
     "data": {
      "text/plain": [
       "\">>>>>> iteration 83:O\""
      ]
     },
     "metadata": {},
     "output_type": "display_data"
    },
    {
     "data": {
      "text/plain": [
       "\"DB: random\""
      ]
     },
     "metadata": {},
     "output_type": "display_data"
    },
    {
     "data": {
      "text/plain": [
       "\"DB: opt. gap 0.00546023665715489\""
      ]
     },
     "metadata": {},
     "output_type": "display_data"
    },
    {
     "data": {
      "text/plain": [
       "\">>>>>> iteration 84:O\""
      ]
     },
     "metadata": {},
     "output_type": "display_data"
    },
    {
     "data": {
      "text/plain": [
       "\"DB: random\""
      ]
     },
     "metadata": {},
     "output_type": "display_data"
    },
    {
     "data": {
      "text/plain": [
       "\"DB: opt. gap 0.005451620553693216\""
      ]
     },
     "metadata": {},
     "output_type": "display_data"
    },
    {
     "data": {
      "text/plain": [
       "\">>>>>> iteration 85:O\""
      ]
     },
     "metadata": {},
     "output_type": "display_data"
    },
    {
     "data": {
      "text/plain": [
       "\"DB: random\""
      ]
     },
     "metadata": {},
     "output_type": "display_data"
    },
    {
     "data": {
      "text/plain": [
       "\"DB: opt. gap 0.00545780477870122\""
      ]
     },
     "metadata": {},
     "output_type": "display_data"
    },
    {
     "data": {
      "text/plain": [
       "\">>>>>> iteration 86:O\""
      ]
     },
     "metadata": {},
     "output_type": "display_data"
    },
    {
     "data": {
      "text/plain": [
       "\"DB: random\""
      ]
     },
     "metadata": {},
     "output_type": "display_data"
    },
    {
     "data": {
      "text/plain": [
       "\"DB: opt. gap 0.005459575231811459\""
      ]
     },
     "metadata": {},
     "output_type": "display_data"
    },
    {
     "data": {
      "text/plain": [
       "\">>>>>> iteration 87:O\""
      ]
     },
     "metadata": {},
     "output_type": "display_data"
    },
    {
     "data": {
      "text/plain": [
       "\"DB: random\""
      ]
     },
     "metadata": {},
     "output_type": "display_data"
    },
    {
     "data": {
      "text/plain": [
       "\"DB: opt. gap 0.005452315068192329\""
      ]
     },
     "metadata": {},
     "output_type": "display_data"
    },
    {
     "data": {
      "text/plain": [
       "\">>>>>> iteration 88:O\""
      ]
     },
     "metadata": {},
     "output_type": "display_data"
    },
    {
     "data": {
      "text/plain": [
       "\"DB: random\""
      ]
     },
     "metadata": {},
     "output_type": "display_data"
    },
    {
     "data": {
      "text/plain": [
       "\"DB: opt. gap 0.005442180179454128\""
      ]
     },
     "metadata": {},
     "output_type": "display_data"
    },
    {
     "data": {
      "text/plain": [
       "\">>>>>> iteration 89:O\""
      ]
     },
     "metadata": {},
     "output_type": "display_data"
    },
    {
     "data": {
      "text/plain": [
       "\"DB: random\""
      ]
     },
     "metadata": {},
     "output_type": "display_data"
    },
    {
     "data": {
      "text/plain": [
       "\"DB: opt. gap 0.00545960581756489\""
      ]
     },
     "metadata": {},
     "output_type": "display_data"
    },
    {
     "data": {
      "text/plain": [
       "\">>>>>> iteration 90:O\""
      ]
     },
     "metadata": {},
     "output_type": "display_data"
    },
    {
     "data": {
      "text/plain": [
       "\"DB: random\""
      ]
     },
     "metadata": {},
     "output_type": "display_data"
    },
    {
     "data": {
      "text/plain": [
       "\"DB: opt. gap 0.005459756820712503\""
      ]
     },
     "metadata": {},
     "output_type": "display_data"
    },
    {
     "data": {
      "text/plain": [
       "\">>>>>> iteration 91:O\""
      ]
     },
     "metadata": {},
     "output_type": "display_data"
    },
    {
     "data": {
      "text/plain": [
       "\"DB: random\""
      ]
     },
     "metadata": {},
     "output_type": "display_data"
    },
    {
     "data": {
      "text/plain": [
       "\"DB: opt. gap 0.005459397713882474\""
      ]
     },
     "metadata": {},
     "output_type": "display_data"
    },
    {
     "data": {
      "text/plain": [
       "\">>>>>> iteration 92:O\""
      ]
     },
     "metadata": {},
     "output_type": "display_data"
    },
    {
     "data": {
      "text/plain": [
       "\"DB: random\""
      ]
     },
     "metadata": {},
     "output_type": "display_data"
    },
    {
     "data": {
      "text/plain": [
       "\"DB: opt. gap 0.005460562896371626\""
      ]
     },
     "metadata": {},
     "output_type": "display_data"
    },
    {
     "data": {
      "text/plain": [
       "\">>>>>> iteration 93:O\""
      ]
     },
     "metadata": {},
     "output_type": "display_data"
    },
    {
     "data": {
      "text/plain": [
       "\"DB: random\""
      ]
     },
     "metadata": {},
     "output_type": "display_data"
    },
    {
     "data": {
      "text/plain": [
       "\"DB: opt. gap 0.005455291772365919\""
      ]
     },
     "metadata": {},
     "output_type": "display_data"
    },
    {
     "data": {
      "text/plain": [
       "\">>>>>> iteration 94:O\""
      ]
     },
     "metadata": {},
     "output_type": "display_data"
    },
    {
     "data": {
      "text/plain": [
       "\"DB: random\""
      ]
     },
     "metadata": {},
     "output_type": "display_data"
    },
    {
     "data": {
      "text/plain": [
       "\"DB: opt. gap 0.005508956771215528\""
      ]
     },
     "metadata": {},
     "output_type": "display_data"
    },
    {
     "data": {
      "text/plain": [
       "\">>>>>> iteration 95:O\""
      ]
     },
     "metadata": {},
     "output_type": "display_data"
    },
    {
     "data": {
      "text/plain": [
       "\"DB: random\""
      ]
     },
     "metadata": {},
     "output_type": "display_data"
    },
    {
     "data": {
      "text/plain": [
       "\"DB: opt. gap 0.005459965622203999\""
      ]
     },
     "metadata": {},
     "output_type": "display_data"
    },
    {
     "data": {
      "text/plain": [
       "\">>>>>> iteration 96:O\""
      ]
     },
     "metadata": {},
     "output_type": "display_data"
    },
    {
     "data": {
      "text/plain": [
       "\"DB: random\""
      ]
     },
     "metadata": {},
     "output_type": "display_data"
    },
    {
     "data": {
      "text/plain": [
       "\"DB: opt. gap 0.005452661277830702\""
      ]
     },
     "metadata": {},
     "output_type": "display_data"
    },
    {
     "data": {
      "text/plain": [
       "\">>>>>> iteration 97:O\""
      ]
     },
     "metadata": {},
     "output_type": "display_data"
    },
    {
     "data": {
      "text/plain": [
       "\"DB: random\""
      ]
     },
     "metadata": {},
     "output_type": "display_data"
    },
    {
     "data": {
      "text/plain": [
       "\"DB: opt. gap 0.005484777443022148\""
      ]
     },
     "metadata": {},
     "output_type": "display_data"
    },
    {
     "data": {
      "text/plain": [
       "\">>>>>> iteration 98:O\""
      ]
     },
     "metadata": {},
     "output_type": "display_data"
    },
    {
     "data": {
      "text/plain": [
       "\"DB: random\""
      ]
     },
     "metadata": {},
     "output_type": "display_data"
    },
    {
     "data": {
      "text/plain": [
       "\"DB: opt. gap 0.0054587402315954695\""
      ]
     },
     "metadata": {},
     "output_type": "display_data"
    },
    {
     "data": {
      "text/plain": [
       "\">>>>>> iteration 99:O\""
      ]
     },
     "metadata": {},
     "output_type": "display_data"
    },
    {
     "data": {
      "text/plain": [
       "\"DB: random\""
      ]
     },
     "metadata": {},
     "output_type": "display_data"
    },
    {
     "data": {
      "text/plain": [
       "\"DB: opt. gap 0.005462279946746916\""
      ]
     },
     "metadata": {},
     "output_type": "display_data"
    },
    {
     "data": {
      "text/plain": [
       "\">>>>>> iteration 100:O\""
      ]
     },
     "metadata": {},
     "output_type": "display_data"
    },
    {
     "data": {
      "text/plain": [
       "\"DB: random\""
      ]
     },
     "metadata": {},
     "output_type": "display_data"
    },
    {
     "data": {
      "text/plain": [
       "\"DB: opt. gap 0.005460259030937927\""
      ]
     },
     "metadata": {},
     "output_type": "display_data"
    },
    {
     "data": {
      "text/plain": [
       "\">>>>>> iteration 101:O\""
      ]
     },
     "metadata": {},
     "output_type": "display_data"
    },
    {
     "data": {
      "text/plain": [
       "\"DB: random\""
      ]
     },
     "metadata": {},
     "output_type": "display_data"
    },
    {
     "data": {
      "text/plain": [
       "\"DB: opt. gap 0.005454544220542739\""
      ]
     },
     "metadata": {},
     "output_type": "display_data"
    },
    {
     "data": {
      "text/plain": [
       "\">>>>>> iteration 102:O\""
      ]
     },
     "metadata": {},
     "output_type": "display_data"
    },
    {
     "data": {
      "text/plain": [
       "\"DB: random\""
      ]
     },
     "metadata": {},
     "output_type": "display_data"
    },
    {
     "data": {
      "text/plain": [
       "\"DB: opt. gap 0.005460250777269855\""
      ]
     },
     "metadata": {},
     "output_type": "display_data"
    },
    {
     "data": {
      "text/plain": [
       "\">>>>>> iteration 103:O\""
      ]
     },
     "metadata": {},
     "output_type": "display_data"
    },
    {
     "data": {
      "text/plain": [
       "\"DB: random\""
      ]
     },
     "metadata": {},
     "output_type": "display_data"
    },
    {
     "data": {
      "text/plain": [
       "\"DB: opt. gap 0.005473507976596959\""
      ]
     },
     "metadata": {},
     "output_type": "display_data"
    },
    {
     "data": {
      "text/plain": [
       "\">>>>>> iteration 104:O\""
      ]
     },
     "metadata": {},
     "output_type": "display_data"
    },
    {
     "data": {
      "text/plain": [
       "\"DB: random\""
      ]
     },
     "metadata": {},
     "output_type": "display_data"
    },
    {
     "data": {
      "text/plain": [
       "\"DB: opt. gap 0.005460557778484889\""
      ]
     },
     "metadata": {},
     "output_type": "display_data"
    },
    {
     "data": {
      "text/plain": [
       "\">>>>>> iteration 105:O\""
      ]
     },
     "metadata": {},
     "output_type": "display_data"
    },
    {
     "data": {
      "text/plain": [
       "\"DB: random\""
      ]
     },
     "metadata": {},
     "output_type": "display_data"
    },
    {
     "data": {
      "text/plain": [
       "\"DB: opt. gap 0.005472874992550114\""
      ]
     },
     "metadata": {},
     "output_type": "display_data"
    },
    {
     "data": {
      "text/plain": [
       "\">>>>>> iteration 106:O\""
      ]
     },
     "metadata": {},
     "output_type": "display_data"
    },
    {
     "data": {
      "text/plain": [
       "\"DB: random\""
      ]
     },
     "metadata": {},
     "output_type": "display_data"
    },
    {
     "data": {
      "text/plain": [
       "\"DB: opt. gap 0.005460519647976765\""
      ]
     },
     "metadata": {},
     "output_type": "display_data"
    },
    {
     "data": {
      "text/plain": [
       "\">>>>>> iteration 107:O\""
      ]
     },
     "metadata": {},
     "output_type": "display_data"
    },
    {
     "data": {
      "text/plain": [
       "\"DB: random\""
      ]
     },
     "metadata": {},
     "output_type": "display_data"
    },
    {
     "data": {
      "text/plain": [
       "\"DB: opt. gap 0.005505807217879012\""
      ]
     },
     "metadata": {},
     "output_type": "display_data"
    },
    {
     "data": {
      "text/plain": [
       "\">>>>>> iteration 108:O\""
      ]
     },
     "metadata": {},
     "output_type": "display_data"
    },
    {
     "data": {
      "text/plain": [
       "\"DB: random\""
      ]
     },
     "metadata": {},
     "output_type": "display_data"
    },
    {
     "data": {
      "text/plain": [
       "\"DB: opt. gap 0.0054485497451360896\""
      ]
     },
     "metadata": {},
     "output_type": "display_data"
    },
    {
     "data": {
      "text/plain": [
       "\">>>>>> iteration 109:O\""
      ]
     },
     "metadata": {},
     "output_type": "display_data"
    },
    {
     "data": {
      "text/plain": [
       "\"DB: random\""
      ]
     },
     "metadata": {},
     "output_type": "display_data"
    },
    {
     "data": {
      "text/plain": [
       "\"DB: opt. gap 0.005454712968205686\""
      ]
     },
     "metadata": {},
     "output_type": "display_data"
    },
    {
     "data": {
      "text/plain": [
       "\">>>>>> iteration 110:O\""
      ]
     },
     "metadata": {},
     "output_type": "display_data"
    },
    {
     "data": {
      "text/plain": [
       "\"DB: random\""
      ]
     },
     "metadata": {},
     "output_type": "display_data"
    },
    {
     "data": {
      "text/plain": [
       "\"DB: opt. gap 0.005460527297743534\""
      ]
     },
     "metadata": {},
     "output_type": "display_data"
    },
    {
     "data": {
      "text/plain": [
       "\">>>>>> iteration 111:O\""
      ]
     },
     "metadata": {},
     "output_type": "display_data"
    },
    {
     "data": {
      "text/plain": [
       "\"DB: random\""
      ]
     },
     "metadata": {},
     "output_type": "display_data"
    },
    {
     "data": {
      "text/plain": [
       "\"DB: opt. gap 0.005460864059644404\""
      ]
     },
     "metadata": {},
     "output_type": "display_data"
    },
    {
     "data": {
      "text/plain": [
       "\">>>>>> iteration 112:O\""
      ]
     },
     "metadata": {},
     "output_type": "display_data"
    },
    {
     "data": {
      "text/plain": [
       "\"DB: random\""
      ]
     },
     "metadata": {},
     "output_type": "display_data"
    },
    {
     "data": {
      "text/plain": [
       "\"DB: opt. gap 0.00546100767705644\""
      ]
     },
     "metadata": {},
     "output_type": "display_data"
    },
    {
     "data": {
      "text/plain": [
       "\">>>>>> iteration 113:O\""
      ]
     },
     "metadata": {},
     "output_type": "display_data"
    },
    {
     "data": {
      "text/plain": [
       "\"DB: random\""
      ]
     },
     "metadata": {},
     "output_type": "display_data"
    },
    {
     "data": {
      "text/plain": [
       "\"DB: opt. gap 0.005446229171025866\""
      ]
     },
     "metadata": {},
     "output_type": "display_data"
    },
    {
     "data": {
      "text/plain": [
       "\">>>>>> iteration 114:O\""
      ]
     },
     "metadata": {},
     "output_type": "display_data"
    },
    {
     "data": {
      "text/plain": [
       "\"DB: random\""
      ]
     },
     "metadata": {},
     "output_type": "display_data"
    },
    {
     "data": {
      "text/plain": [
       "\"DB: opt. gap 0.005460595028268194\""
      ]
     },
     "metadata": {},
     "output_type": "display_data"
    },
    {
     "data": {
      "text/plain": [
       "\">>>>>> iteration 115:O\""
      ]
     },
     "metadata": {},
     "output_type": "display_data"
    },
    {
     "data": {
      "text/plain": [
       "\"DB: random\""
      ]
     },
     "metadata": {},
     "output_type": "display_data"
    },
    {
     "data": {
      "text/plain": [
       "\"DB: opt. gap 0.005461587372762204\""
      ]
     },
     "metadata": {},
     "output_type": "display_data"
    },
    {
     "data": {
      "text/plain": [
       "\">>>>>> iteration 116:O\""
      ]
     },
     "metadata": {},
     "output_type": "display_data"
    },
    {
     "data": {
      "text/plain": [
       "\"DB: random\""
      ]
     },
     "metadata": {},
     "output_type": "display_data"
    },
    {
     "data": {
      "text/plain": [
       "\"DB: opt. gap 0.0054738945728839495\""
      ]
     },
     "metadata": {},
     "output_type": "display_data"
    },
    {
     "data": {
      "text/plain": [
       "\">>>>>> iteration 117:O\""
      ]
     },
     "metadata": {},
     "output_type": "display_data"
    },
    {
     "data": {
      "text/plain": [
       "\"DB: random\""
      ]
     },
     "metadata": {},
     "output_type": "display_data"
    },
    {
     "data": {
      "text/plain": [
       "\"DB: opt. gap 0.005460971644434402\""
      ]
     },
     "metadata": {},
     "output_type": "display_data"
    },
    {
     "data": {
      "text/plain": [
       "\">>>>>> iteration 118:O\""
      ]
     },
     "metadata": {},
     "output_type": "display_data"
    },
    {
     "data": {
      "text/plain": [
       "\"DB: random\""
      ]
     },
     "metadata": {},
     "output_type": "display_data"
    },
    {
     "data": {
      "text/plain": [
       "\"DB: opt. gap 0.005463490517611119\""
      ]
     },
     "metadata": {},
     "output_type": "display_data"
    },
    {
     "data": {
      "text/plain": [
       "\">>>>>> iteration 119:O\""
      ]
     },
     "metadata": {},
     "output_type": "display_data"
    },
    {
     "data": {
      "text/plain": [
       "\"DB: random\""
      ]
     },
     "metadata": {},
     "output_type": "display_data"
    },
    {
     "data": {
      "text/plain": [
       "\"DB: opt. gap 0.005460992252581089\""
      ]
     },
     "metadata": {},
     "output_type": "display_data"
    },
    {
     "data": {
      "text/plain": [
       "\">>>>>> iteration 120:O\""
      ]
     },
     "metadata": {},
     "output_type": "display_data"
    },
    {
     "data": {
      "text/plain": [
       "\"DB: random\""
      ]
     },
     "metadata": {},
     "output_type": "display_data"
    },
    {
     "data": {
      "text/plain": [
       "\"DB: opt. gap 0.005461408857733928\""
      ]
     },
     "metadata": {},
     "output_type": "display_data"
    },
    {
     "data": {
      "text/plain": [
       "\">>>>>> iteration 121:O\""
      ]
     },
     "metadata": {},
     "output_type": "display_data"
    },
    {
     "data": {
      "text/plain": [
       "\"DB: random\""
      ]
     },
     "metadata": {},
     "output_type": "display_data"
    },
    {
     "data": {
      "text/plain": [
       "\"DB: opt. gap 0.0054691249240032165\""
      ]
     },
     "metadata": {},
     "output_type": "display_data"
    },
    {
     "data": {
      "text/plain": [
       "\">>>>>> iteration 122:O\""
      ]
     },
     "metadata": {},
     "output_type": "display_data"
    },
    {
     "data": {
      "text/plain": [
       "\"DB: random\""
      ]
     },
     "metadata": {},
     "output_type": "display_data"
    },
    {
     "data": {
      "text/plain": [
       "\"DB: opt. gap 0.005456266290760134\""
      ]
     },
     "metadata": {},
     "output_type": "display_data"
    },
    {
     "data": {
      "text/plain": [
       "\">>>>>> iteration 123:O\""
      ]
     },
     "metadata": {},
     "output_type": "display_data"
    },
    {
     "data": {
      "text/plain": [
       "\"DB: random\""
      ]
     },
     "metadata": {},
     "output_type": "display_data"
    },
    {
     "data": {
      "text/plain": [
       "\"DB: opt. gap 0.0054613254079437824\""
      ]
     },
     "metadata": {},
     "output_type": "display_data"
    },
    {
     "data": {
      "text/plain": [
       "\">>>>>> iteration 124:O\""
      ]
     },
     "metadata": {},
     "output_type": "display_data"
    },
    {
     "data": {
      "text/plain": [
       "\"DB: random\""
      ]
     },
     "metadata": {},
     "output_type": "display_data"
    },
    {
     "data": {
      "text/plain": [
       "\"DB: opt. gap 0.005452547634613338\""
      ]
     },
     "metadata": {},
     "output_type": "display_data"
    },
    {
     "data": {
      "text/plain": [
       "\">>>>>> iteration 125:O\""
      ]
     },
     "metadata": {},
     "output_type": "display_data"
    },
    {
     "data": {
      "text/plain": [
       "\"DB: random\""
      ]
     },
     "metadata": {},
     "output_type": "display_data"
    },
    {
     "data": {
      "text/plain": [
       "\"DB: opt. gap 0.005462497264291647\""
      ]
     },
     "metadata": {},
     "output_type": "display_data"
    },
    {
     "data": {
      "text/plain": [
       "\">>>>>> iteration 126:O\""
      ]
     },
     "metadata": {},
     "output_type": "display_data"
    },
    {
     "data": {
      "text/plain": [
       "\"DB: random\""
      ]
     },
     "metadata": {},
     "output_type": "display_data"
    },
    {
     "data": {
      "text/plain": [
       "\"DB: opt. gap 0.005483720306523902\""
      ]
     },
     "metadata": {},
     "output_type": "display_data"
    },
    {
     "data": {
      "text/plain": [
       "\">>>>>> iteration 127:O\""
      ]
     },
     "metadata": {},
     "output_type": "display_data"
    },
    {
     "data": {
      "text/plain": [
       "\"DB: random\""
      ]
     },
     "metadata": {},
     "output_type": "display_data"
    },
    {
     "data": {
      "text/plain": [
       "\"DB: opt. gap 0.005443958572369873\""
      ]
     },
     "metadata": {},
     "output_type": "display_data"
    },
    {
     "data": {
      "text/plain": [
       "\">>>>>> iteration 128:O\""
      ]
     },
     "metadata": {},
     "output_type": "display_data"
    },
    {
     "data": {
      "text/plain": [
       "\"DB: random\""
      ]
     },
     "metadata": {},
     "output_type": "display_data"
    },
    {
     "data": {
      "text/plain": [
       "\"DB: opt. gap 0.005462273193702817\""
      ]
     },
     "metadata": {},
     "output_type": "display_data"
    },
    {
     "data": {
      "text/plain": [
       "\">>>>>> iteration 129:O\""
      ]
     },
     "metadata": {},
     "output_type": "display_data"
    },
    {
     "data": {
      "text/plain": [
       "\"DB: random\""
      ]
     },
     "metadata": {},
     "output_type": "display_data"
    },
    {
     "data": {
      "text/plain": [
       "\"DB: opt. gap 0.005461394731740204\""
      ]
     },
     "metadata": {},
     "output_type": "display_data"
    },
    {
     "data": {
      "text/plain": [
       "\">>>>>> iteration 130:O\""
      ]
     },
     "metadata": {},
     "output_type": "display_data"
    },
    {
     "data": {
      "text/plain": [
       "\"DB: random\""
      ]
     },
     "metadata": {},
     "output_type": "display_data"
    },
    {
     "data": {
      "text/plain": [
       "\"DB: opt. gap 0.0054612851686982105\""
      ]
     },
     "metadata": {},
     "output_type": "display_data"
    },
    {
     "data": {
      "text/plain": [
       "\">>>>>> iteration 131:O\""
      ]
     },
     "metadata": {},
     "output_type": "display_data"
    },
    {
     "data": {
      "text/plain": [
       "\"DB: random\""
      ]
     },
     "metadata": {},
     "output_type": "display_data"
    },
    {
     "data": {
      "text/plain": [
       "\"DB: opt. gap 0.005464230559817074\""
      ]
     },
     "metadata": {},
     "output_type": "display_data"
    },
    {
     "data": {
      "text/plain": [
       "\">>>>>> iteration 132:O\""
      ]
     },
     "metadata": {},
     "output_type": "display_data"
    },
    {
     "data": {
      "text/plain": [
       "\"DB: random\""
      ]
     },
     "metadata": {},
     "output_type": "display_data"
    },
    {
     "data": {
      "text/plain": [
       "\"DB: opt. gap 0.0054629070973112835\""
      ]
     },
     "metadata": {},
     "output_type": "display_data"
    },
    {
     "data": {
      "text/plain": [
       "\">>>>>> iteration 133:O\""
      ]
     },
     "metadata": {},
     "output_type": "display_data"
    },
    {
     "data": {
      "text/plain": [
       "\"DB: random\""
      ]
     },
     "metadata": {},
     "output_type": "display_data"
    },
    {
     "data": {
      "text/plain": [
       "\"DB: opt. gap 0.005457291802298958\""
      ]
     },
     "metadata": {},
     "output_type": "display_data"
    },
    {
     "data": {
      "text/plain": [
       "\">>>>>> iteration 134:O\""
      ]
     },
     "metadata": {},
     "output_type": "display_data"
    },
    {
     "data": {
      "text/plain": [
       "\"DB: random\""
      ]
     },
     "metadata": {},
     "output_type": "display_data"
    },
    {
     "data": {
      "text/plain": [
       "\"DB: opt. gap 0.005462172900928136\""
      ]
     },
     "metadata": {},
     "output_type": "display_data"
    },
    {
     "data": {
      "text/plain": [
       "\">>>>>> iteration 135:O\""
      ]
     },
     "metadata": {},
     "output_type": "display_data"
    },
    {
     "data": {
      "text/plain": [
       "\"DB: random\""
      ]
     },
     "metadata": {},
     "output_type": "display_data"
    },
    {
     "data": {
      "text/plain": [
       "\"DB: opt. gap 0.0054619223856956335\""
      ]
     },
     "metadata": {},
     "output_type": "display_data"
    },
    {
     "data": {
      "text/plain": [
       "\">>>>>> iteration 136:O\""
      ]
     },
     "metadata": {},
     "output_type": "display_data"
    },
    {
     "data": {
      "text/plain": [
       "\"DB: random\""
      ]
     },
     "metadata": {},
     "output_type": "display_data"
    },
    {
     "data": {
      "text/plain": [
       "\"DB: opt. gap 0.005456642050334439\""
      ]
     },
     "metadata": {},
     "output_type": "display_data"
    },
    {
     "data": {
      "text/plain": [
       "\">>>>>> iteration 137:O\""
      ]
     },
     "metadata": {},
     "output_type": "display_data"
    },
    {
     "data": {
      "text/plain": [
       "\"DB: random\""
      ]
     },
     "metadata": {},
     "output_type": "display_data"
    },
    {
     "data": {
      "text/plain": [
       "\"DB: opt. gap 0.0054617908613142484\""
      ]
     },
     "metadata": {},
     "output_type": "display_data"
    },
    {
     "data": {
      "text/plain": [
       "\">>>>>> iteration 138:O\""
      ]
     },
     "metadata": {},
     "output_type": "display_data"
    },
    {
     "data": {
      "text/plain": [
       "\"DB: random\""
      ]
     },
     "metadata": {},
     "output_type": "display_data"
    },
    {
     "data": {
      "text/plain": [
       "\"DB: opt. gap 0.005465359097569055\""
      ]
     },
     "metadata": {},
     "output_type": "display_data"
    },
    {
     "data": {
      "text/plain": [
       "\">>>>>> iteration 139:O\""
      ]
     },
     "metadata": {},
     "output_type": "display_data"
    },
    {
     "data": {
      "text/plain": [
       "\"DB: random\""
      ]
     },
     "metadata": {},
     "output_type": "display_data"
    },
    {
     "data": {
      "text/plain": [
       "\"DB: opt. gap 0.00549938362894071\""
      ]
     },
     "metadata": {},
     "output_type": "display_data"
    },
    {
     "data": {
      "text/plain": [
       "\">>>>>> iteration 140:O\""
      ]
     },
     "metadata": {},
     "output_type": "display_data"
    },
    {
     "data": {
      "text/plain": [
       "\"DB: random\""
      ]
     },
     "metadata": {},
     "output_type": "display_data"
    },
    {
     "data": {
      "text/plain": [
       "\"DB: opt. gap 0.005465778098834944\""
      ]
     },
     "metadata": {},
     "output_type": "display_data"
    },
    {
     "data": {
      "text/plain": [
       "\">>>>>> iteration 141:O\""
      ]
     },
     "metadata": {},
     "output_type": "display_data"
    },
    {
     "data": {
      "text/plain": [
       "\"DB: random\""
      ]
     },
     "metadata": {},
     "output_type": "display_data"
    },
    {
     "data": {
      "text/plain": [
       "\"DB: opt. gap 0.00546195699986513\""
      ]
     },
     "metadata": {},
     "output_type": "display_data"
    },
    {
     "data": {
      "text/plain": [
       "\">>>>>> iteration 142:O\""
      ]
     },
     "metadata": {},
     "output_type": "display_data"
    },
    {
     "data": {
      "text/plain": [
       "\"DB: random\""
      ]
     },
     "metadata": {},
     "output_type": "display_data"
    },
    {
     "data": {
      "text/plain": [
       "\"DB: opt. gap 0.005464082644644924\""
      ]
     },
     "metadata": {},
     "output_type": "display_data"
    },
    {
     "data": {
      "text/plain": [
       "\">>>>>> iteration 143:O\""
      ]
     },
     "metadata": {},
     "output_type": "display_data"
    },
    {
     "data": {
      "text/plain": [
       "\"DB: random\""
      ]
     },
     "metadata": {},
     "output_type": "display_data"
    },
    {
     "data": {
      "text/plain": [
       "\"DB: opt. gap 0.0055063624292703076\""
      ]
     },
     "metadata": {},
     "output_type": "display_data"
    },
    {
     "data": {
      "text/plain": [
       "\">>>>>> iteration 144:O\""
      ]
     },
     "metadata": {},
     "output_type": "display_data"
    },
    {
     "data": {
      "text/plain": [
       "\"DB: random\""
      ]
     },
     "metadata": {},
     "output_type": "display_data"
    },
    {
     "data": {
      "text/plain": [
       "\"DB: opt. gap 0.0045858976938702506\""
      ]
     },
     "metadata": {},
     "output_type": "display_data"
    },
    {
     "data": {
      "text/plain": [
       "\">>>>>> iteration 145:O\""
      ]
     },
     "metadata": {},
     "output_type": "display_data"
    },
    {
     "data": {
      "text/plain": [
       "\"DB: random\""
      ]
     },
     "metadata": {},
     "output_type": "display_data"
    },
    {
     "data": {
      "text/plain": [
       "\"DB: opt. gap 0.005466948035415217\""
      ]
     },
     "metadata": {},
     "output_type": "display_data"
    },
    {
     "data": {
      "text/plain": [
       "\">>>>>> iteration 146:O\""
      ]
     },
     "metadata": {},
     "output_type": "display_data"
    },
    {
     "data": {
      "text/plain": [
       "\"DB: random\""
      ]
     },
     "metadata": {},
     "output_type": "display_data"
    },
    {
     "data": {
      "text/plain": [
       "\"DB: opt. gap 0.005463171319525782\""
      ]
     },
     "metadata": {},
     "output_type": "display_data"
    },
    {
     "data": {
      "text/plain": [
       "\">>>>>> iteration 147:O\""
      ]
     },
     "metadata": {},
     "output_type": "display_data"
    },
    {
     "data": {
      "text/plain": [
       "\"DB: random\""
      ]
     },
     "metadata": {},
     "output_type": "display_data"
    },
    {
     "data": {
      "text/plain": [
       "\"DB: opt. gap 0.005457411267802203\""
      ]
     },
     "metadata": {},
     "output_type": "display_data"
    },
    {
     "data": {
      "text/plain": [
       "\">>>>>> iteration 148:O\""
      ]
     },
     "metadata": {},
     "output_type": "display_data"
    },
    {
     "data": {
      "text/plain": [
       "\"DB: random\""
      ]
     },
     "metadata": {},
     "output_type": "display_data"
    },
    {
     "data": {
      "text/plain": [
       "\"DB: opt. gap 0.005466124496457043\""
      ]
     },
     "metadata": {},
     "output_type": "display_data"
    },
    {
     "data": {
      "text/plain": [
       "\">>>>>> iteration 149:O\""
      ]
     },
     "metadata": {},
     "output_type": "display_data"
    },
    {
     "data": {
      "text/plain": [
       "\"DB: random\""
      ]
     },
     "metadata": {},
     "output_type": "display_data"
    },
    {
     "data": {
      "text/plain": [
       "\"DB: opt. gap 0.005487301059951126\""
      ]
     },
     "metadata": {},
     "output_type": "display_data"
    },
    {
     "data": {
      "text/plain": [
       "\">>>>>> iteration 150:O\""
      ]
     },
     "metadata": {},
     "output_type": "display_data"
    },
    {
     "data": {
      "text/plain": [
       "\"DB: CLDRTO method: 2 - Solution at t = 8: not found\""
      ]
     },
     "metadata": {},
     "output_type": "display_data"
    },
    {
     "name": "stdout",
     "output_type": "stream",
     "text": [
      "MC: 6>> Time: 9\n",
      "MC: 6>> Time: 10\n",
      "MC: 6>> Time: 11\n",
      "MC: 6>> Time: 12\n"
     ]
    },
    {
     "data": {
      "text/plain": [
       "\"DB: Nominal solution at t = 12: found\""
      ]
     },
     "metadata": {},
     "output_type": "display_data"
    },
    {
     "data": {
      "text/plain": [
       "\"DB: opt. gap 1.0000058858327405\""
      ]
     },
     "metadata": {},
     "output_type": "display_data"
    },
    {
     "data": {
      "text/plain": [
       "\">>>>>> iteration 1:O\""
      ]
     },
     "metadata": {},
     "output_type": "display_data"
    },
    {
     "data": {
      "text/plain": [
       "\"DB: opt. gap 1.0000160301574028\""
      ]
     },
     "metadata": {},
     "output_type": "display_data"
    },
    {
     "data": {
      "text/plain": [
       "\">>>>>> iteration 2:O\""
      ]
     },
     "metadata": {},
     "output_type": "display_data"
    },
    {
     "data": {
      "text/plain": [
       "\"DB: random\""
      ]
     },
     "metadata": {},
     "output_type": "display_data"
    },
    {
     "data": {
      "text/plain": [
       "\"DB: opt. gap 0.4522469532317594\""
      ]
     },
     "metadata": {},
     "output_type": "display_data"
    },
    {
     "data": {
      "text/plain": [
       "\">>>>>> iteration 3:O\""
      ]
     },
     "metadata": {},
     "output_type": "display_data"
    },
    {
     "data": {
      "text/plain": [
       "\"DB: opt. gap 0.2546518700178168\""
      ]
     },
     "metadata": {},
     "output_type": "display_data"
    },
    {
     "data": {
      "text/plain": [
       "\">>>>>> iteration 4:O\""
      ]
     },
     "metadata": {},
     "output_type": "display_data"
    },
    {
     "data": {
      "text/plain": [
       "\"DB: opt. gap 0.0066362242632967295\""
      ]
     },
     "metadata": {},
     "output_type": "display_data"
    },
    {
     "data": {
      "text/plain": [
       "\">>>>>> iteration 5:O\""
      ]
     },
     "metadata": {},
     "output_type": "display_data"
    },
    {
     "data": {
      "text/plain": [
       "\"DB: opt. gap 0.006263136461990515\""
      ]
     },
     "metadata": {},
     "output_type": "display_data"
    },
    {
     "data": {
      "text/plain": [
       "\">>>>>> iteration 6:O\""
      ]
     },
     "metadata": {},
     "output_type": "display_data"
    },
    {
     "data": {
      "text/plain": [
       "\"DB: random\""
      ]
     },
     "metadata": {},
     "output_type": "display_data"
    },
    {
     "data": {
      "text/plain": [
       "\"DB: opt. gap 0.0001340399372432072\""
      ]
     },
     "metadata": {},
     "output_type": "display_data"
    },
    {
     "data": {
      "text/plain": [
       "\"DB: CLDRTO method: 2 - Solution at t = 12: found\""
      ]
     },
     "metadata": {},
     "output_type": "display_data"
    },
    {
     "name": "stdout",
     "output_type": "stream",
     "text": [
      "MC: 6>> Time: 13\n",
      "MC: 6>> Time: 14\n",
      "MC: 6>> Time: 15\n",
      "MC: 6>> Time: 16\n"
     ]
    },
    {
     "data": {
      "text/plain": [
       "\"DB: Nominal solution at t = 16: found\""
      ]
     },
     "metadata": {},
     "output_type": "display_data"
    },
    {
     "data": {
      "text/plain": [
       "\"DB: opt. gap 1.0000010827647987\""
      ]
     },
     "metadata": {},
     "output_type": "display_data"
    },
    {
     "data": {
      "text/plain": [
       "\">>>>>> iteration 1:O\""
      ]
     },
     "metadata": {},
     "output_type": "display_data"
    },
    {
     "data": {
      "text/plain": [
       "\"DB: opt. gap 0.11258427197459565\""
      ]
     },
     "metadata": {},
     "output_type": "display_data"
    },
    {
     "data": {
      "text/plain": [
       "\">>>>>> iteration 2:O\""
      ]
     },
     "metadata": {},
     "output_type": "display_data"
    },
    {
     "data": {
      "text/plain": [
       "\"DB: opt. gap 0.04428747841747924\""
      ]
     },
     "metadata": {},
     "output_type": "display_data"
    },
    {
     "data": {
      "text/plain": [
       "\">>>>>> iteration 3:O\""
      ]
     },
     "metadata": {},
     "output_type": "display_data"
    },
    {
     "data": {
      "text/plain": [
       "\"DB: opt. gap 0.05693453256574916\""
      ]
     },
     "metadata": {},
     "output_type": "display_data"
    },
    {
     "data": {
      "text/plain": [
       "\">>>>>> iteration 4:O\""
      ]
     },
     "metadata": {},
     "output_type": "display_data"
    },
    {
     "data": {
      "text/plain": [
       "\"DB: opt. gap 0.008588785352440401\""
      ]
     },
     "metadata": {},
     "output_type": "display_data"
    },
    {
     "data": {
      "text/plain": [
       "\">>>>>> iteration 5:O\""
      ]
     },
     "metadata": {},
     "output_type": "display_data"
    },
    {
     "data": {
      "text/plain": [
       "\"DB: opt. gap 0.00156898549780718\""
      ]
     },
     "metadata": {},
     "output_type": "display_data"
    },
    {
     "data": {
      "text/plain": [
       "\">>>>>> iteration 6:O\""
      ]
     },
     "metadata": {},
     "output_type": "display_data"
    },
    {
     "data": {
      "text/plain": [
       "\"DB: opt. gap 0.0006125526663334664\""
      ]
     },
     "metadata": {},
     "output_type": "display_data"
    },
    {
     "data": {
      "text/plain": [
       "\"DB: CLDRTO method: 2 - Solution at t = 16: found\""
      ]
     },
     "metadata": {},
     "output_type": "display_data"
    },
    {
     "name": "stdout",
     "output_type": "stream",
     "text": [
      "MC: 6>> Time: 17\n",
      "MC: 6>> Time: 18\n",
      "MC: 6>> Time: 19\n",
      "MC: 6>> Time: 20\n"
     ]
    },
    {
     "data": {
      "text/plain": [
       "\"DB: Nominal solution at t = 20: found\""
      ]
     },
     "metadata": {},
     "output_type": "display_data"
    },
    {
     "data": {
      "text/plain": [
       "\"DB: opt. gap 1.0000004427794935\""
      ]
     },
     "metadata": {},
     "output_type": "display_data"
    },
    {
     "data": {
      "text/plain": [
       "\">>>>>> iteration 1:O\""
      ]
     },
     "metadata": {},
     "output_type": "display_data"
    },
    {
     "data": {
      "text/plain": [
       "\"DB: opt. gap 0.7717511249330007\""
      ]
     },
     "metadata": {},
     "output_type": "display_data"
    },
    {
     "data": {
      "text/plain": [
       "\">>>>>> iteration 2:O\""
      ]
     },
     "metadata": {},
     "output_type": "display_data"
    },
    {
     "data": {
      "text/plain": [
       "\"DB: opt. gap 0.4869396858824397\""
      ]
     },
     "metadata": {},
     "output_type": "display_data"
    },
    {
     "data": {
      "text/plain": [
       "\">>>>>> iteration 3:O\""
      ]
     },
     "metadata": {},
     "output_type": "display_data"
    },
    {
     "data": {
      "text/plain": [
       "\"DB: opt. gap 0.2063886619790621\""
      ]
     },
     "metadata": {},
     "output_type": "display_data"
    },
    {
     "data": {
      "text/plain": [
       "\">>>>>> iteration 4:O\""
      ]
     },
     "metadata": {},
     "output_type": "display_data"
    },
    {
     "data": {
      "text/plain": [
       "\"DB: opt. gap 0.06532283810252884\""
      ]
     },
     "metadata": {},
     "output_type": "display_data"
    },
    {
     "data": {
      "text/plain": [
       "\">>>>>> iteration 5:O\""
      ]
     },
     "metadata": {},
     "output_type": "display_data"
    },
    {
     "data": {
      "text/plain": [
       "\"DB: opt. gap 0.018302559165963756\""
      ]
     },
     "metadata": {},
     "output_type": "display_data"
    },
    {
     "data": {
      "text/plain": [
       "\">>>>>> iteration 6:O\""
      ]
     },
     "metadata": {},
     "output_type": "display_data"
    },
    {
     "data": {
      "text/plain": [
       "\"DB: opt. gap 0.005048903945771996\""
      ]
     },
     "metadata": {},
     "output_type": "display_data"
    },
    {
     "data": {
      "text/plain": [
       "\">>>>>> iteration 7:O\""
      ]
     },
     "metadata": {},
     "output_type": "display_data"
    },
    {
     "data": {
      "text/plain": [
       "\"DB: opt. gap 0.001497027482253586\""
      ]
     },
     "metadata": {},
     "output_type": "display_data"
    },
    {
     "data": {
      "text/plain": [
       "\">>>>>> iteration 8:O\""
      ]
     },
     "metadata": {},
     "output_type": "display_data"
    },
    {
     "data": {
      "text/plain": [
       "\"DB: opt. gap 0.0007472663469636992\""
      ]
     },
     "metadata": {},
     "output_type": "display_data"
    },
    {
     "data": {
      "text/plain": [
       "\"DB: CLDRTO method: 2 - Solution at t = 20: found\""
      ]
     },
     "metadata": {},
     "output_type": "display_data"
    },
    {
     "data": {
      "text/plain": [
       "\"DB: MC iter. 7 --> Plant parameter = 0.8203628806761677\""
      ]
     },
     "metadata": {},
     "output_type": "display_data"
    },
    {
     "data": {
      "text/plain": [
       "\"Nominal solution at t = 0: found\""
      ]
     },
     "metadata": {},
     "output_type": "display_data"
    },
    {
     "name": "stdout",
     "output_type": "stream",
     "text": [
      "MC: 7>> Time: 1\n"
     ]
    },
    {
     "data": {
      "text/plain": [
       "\"DB: CLDRTO method: 1 - Solution at t = 1: found\""
      ]
     },
     "metadata": {},
     "output_type": "display_data"
    },
    {
     "name": "stdout",
     "output_type": "stream",
     "text": [
      "MC: 7>> Time: 2\n",
      "MC: 7>> Time: 3\n",
      "MC: 7>> Time: 4\n"
     ]
    },
    {
     "data": {
      "text/plain": [
       "\"DB: Nominal solution at t = 4: found\""
      ]
     },
     "metadata": {},
     "output_type": "display_data"
    },
    {
     "data": {
      "text/plain": [
       "\"DB: CLDRTO method: 1 - Solution at t = 4: found\""
      ]
     },
     "metadata": {},
     "output_type": "display_data"
    },
    {
     "name": "stdout",
     "output_type": "stream",
     "text": [
      "MC: 7>> Time: 5\n",
      "MC: 7>> Time: 6\n",
      "MC: 7>> Time: 7\n",
      "MC: 7>> Time: 8\n"
     ]
    },
    {
     "data": {
      "text/plain": [
       "\"DB: Nominal solution at t = 8: found\""
      ]
     },
     "metadata": {},
     "output_type": "display_data"
    },
    {
     "data": {
      "text/plain": [
       "\"DB: CLDRTO method: 1 - Solution at t = 8: found\""
      ]
     },
     "metadata": {},
     "output_type": "display_data"
    },
    {
     "name": "stdout",
     "output_type": "stream",
     "text": [
      "MC: 7>> Time: 9\n",
      "MC: 7>> Time: 10\n",
      "MC: 7>> Time: 11\n",
      "MC: 7>> Time: 12\n"
     ]
    },
    {
     "data": {
      "text/plain": [
       "\"DB: Nominal solution at t = 12: found\""
      ]
     },
     "metadata": {},
     "output_type": "display_data"
    },
    {
     "data": {
      "text/plain": [
       "\"DB: CLDRTO method: 1 - Solution at t = 12: found\""
      ]
     },
     "metadata": {},
     "output_type": "display_data"
    },
    {
     "name": "stdout",
     "output_type": "stream",
     "text": [
      "MC: 7>> Time: 13\n",
      "MC: 7>> Time: 14\n",
      "MC: 7>> Time: 15\n",
      "MC: 7>> Time: 16\n"
     ]
    },
    {
     "data": {
      "text/plain": [
       "\"DB: Nominal solution at t = 16: found\""
      ]
     },
     "metadata": {},
     "output_type": "display_data"
    },
    {
     "data": {
      "text/plain": [
       "\"DB: CLDRTO method: 1 - Solution at t = 16: found\""
      ]
     },
     "metadata": {},
     "output_type": "display_data"
    },
    {
     "name": "stdout",
     "output_type": "stream",
     "text": [
      "MC: 7>> Time: 17\n",
      "MC: 7>> Time: 18\n",
      "MC: 7>> Time: 19\n",
      "MC: 7>> Time: 20\n"
     ]
    },
    {
     "data": {
      "text/plain": [
       "\"DB: Nominal solution at t = 20: found\""
      ]
     },
     "metadata": {},
     "output_type": "display_data"
    },
    {
     "data": {
      "text/plain": [
       "\"DB: CLDRTO method: 1 - Solution at t = 20: found\""
      ]
     },
     "metadata": {},
     "output_type": "display_data"
    },
    {
     "data": {
      "text/plain": [
       "\"Nominal solution at t = 0: found\""
      ]
     },
     "metadata": {},
     "output_type": "display_data"
    },
    {
     "name": "stdout",
     "output_type": "stream",
     "text": [
      "MC: 7>> Time: 1\n"
     ]
    },
    {
     "data": {
      "text/plain": [
       "\"DB: opt. gap 1.000000005263681\""
      ]
     },
     "metadata": {},
     "output_type": "display_data"
    },
    {
     "data": {
      "text/plain": [
       "\">>>>>> iteration 1:O\""
      ]
     },
     "metadata": {},
     "output_type": "display_data"
    },
    {
     "data": {
      "text/plain": [
       "\"DB: opt. gap 0.00431106866548491\""
      ]
     },
     "metadata": {},
     "output_type": "display_data"
    },
    {
     "data": {
      "text/plain": [
       "\">>>>>> iteration 2:O\""
      ]
     },
     "metadata": {},
     "output_type": "display_data"
    },
    {
     "data": {
      "text/plain": [
       "\"DB: opt. gap 0.004100693528206623\""
      ]
     },
     "metadata": {},
     "output_type": "display_data"
    },
    {
     "data": {
      "text/plain": [
       "\">>>>>> iteration 3:O\""
      ]
     },
     "metadata": {},
     "output_type": "display_data"
    },
    {
     "data": {
      "text/plain": [
       "\"DB: random\""
      ]
     },
     "metadata": {},
     "output_type": "display_data"
    },
    {
     "data": {
      "text/plain": [
       "\"DB: opt. gap 2.776280458434604e-6\""
      ]
     },
     "metadata": {},
     "output_type": "display_data"
    },
    {
     "data": {
      "text/plain": [
       "\"DB: CLDRTO method: 2 - Solution at t = 1: found\""
      ]
     },
     "metadata": {},
     "output_type": "display_data"
    },
    {
     "name": "stdout",
     "output_type": "stream",
     "text": [
      "MC: 7>> Time: 2\n",
      "MC: 7>> Time: 3\n",
      "MC: 7>> Time: 4\n"
     ]
    },
    {
     "data": {
      "text/plain": [
       "\"DB: Nominal solution at t = 4: found\""
      ]
     },
     "metadata": {},
     "output_type": "display_data"
    },
    {
     "data": {
      "text/plain": [
       "\"DB: opt. gap 1.000000030408829\""
      ]
     },
     "metadata": {},
     "output_type": "display_data"
    },
    {
     "data": {
      "text/plain": [
       "\">>>>>> iteration 1:O\""
      ]
     },
     "metadata": {},
     "output_type": "display_data"
    },
    {
     "data": {
      "text/plain": [
       "\"DB: opt. gap 0.022677666436702153\""
      ]
     },
     "metadata": {},
     "output_type": "display_data"
    },
    {
     "data": {
      "text/plain": [
       "\">>>>>> iteration 2:O\""
      ]
     },
     "metadata": {},
     "output_type": "display_data"
    },
    {
     "data": {
      "text/plain": [
       "\"DB: opt. gap 0.01848699970268524\""
      ]
     },
     "metadata": {},
     "output_type": "display_data"
    },
    {
     "data": {
      "text/plain": [
       "\">>>>>> iteration 3:O\""
      ]
     },
     "metadata": {},
     "output_type": "display_data"
    },
    {
     "data": {
      "text/plain": [
       "\"DB: opt. gap 0.00012886792287101042\""
      ]
     },
     "metadata": {},
     "output_type": "display_data"
    },
    {
     "data": {
      "text/plain": [
       "\"DB: CLDRTO method: 2 - Solution at t = 4: found\""
      ]
     },
     "metadata": {},
     "output_type": "display_data"
    },
    {
     "name": "stdout",
     "output_type": "stream",
     "text": [
      "MC: 7>> Time: 5\n",
      "MC: 7>> Time: 6\n",
      "MC: 7>> Time: 7\n",
      "MC: 7>> Time: 8\n"
     ]
    },
    {
     "data": {
      "text/plain": [
       "\"DB: Nominal solution at t = 8: found\""
      ]
     },
     "metadata": {},
     "output_type": "display_data"
    },
    {
     "data": {
      "text/plain": [
       "\"DB: opt. gap 1.0000000955933614\""
      ]
     },
     "metadata": {},
     "output_type": "display_data"
    },
    {
     "data": {
      "text/plain": [
       "\">>>>>> iteration 1:O\""
      ]
     },
     "metadata": {},
     "output_type": "display_data"
    },
    {
     "data": {
      "text/plain": [
       "\"DB: opt. gap 0.10763648732700659\""
      ]
     },
     "metadata": {},
     "output_type": "display_data"
    },
    {
     "data": {
      "text/plain": [
       "\">>>>>> iteration 2:O\""
      ]
     },
     "metadata": {},
     "output_type": "display_data"
    },
    {
     "data": {
      "text/plain": [
       "\"DB: opt. gap 0.04096008598195219\""
      ]
     },
     "metadata": {},
     "output_type": "display_data"
    },
    {
     "data": {
      "text/plain": [
       "\">>>>>> iteration 3:O\""
      ]
     },
     "metadata": {},
     "output_type": "display_data"
    },
    {
     "data": {
      "text/plain": [
       "\"DB: opt. gap 0.0004218097569407165\""
      ]
     },
     "metadata": {},
     "output_type": "display_data"
    },
    {
     "data": {
      "text/plain": [
       "\"DB: CLDRTO method: 2 - Solution at t = 8: found\""
      ]
     },
     "metadata": {},
     "output_type": "display_data"
    },
    {
     "name": "stdout",
     "output_type": "stream",
     "text": [
      "MC: 7>> Time: 9\n",
      "MC: 7>> Time: 10\n",
      "MC: 7>> Time: 11\n",
      "MC: 7>> Time: 12\n"
     ]
    },
    {
     "data": {
      "text/plain": [
       "\"DB: Nominal solution at t = 12: found\""
      ]
     },
     "metadata": {},
     "output_type": "display_data"
    },
    {
     "data": {
      "text/plain": [
       "\"DB: opt. gap 1.0000000039142967\""
      ]
     },
     "metadata": {},
     "output_type": "display_data"
    },
    {
     "data": {
      "text/plain": [
       "\">>>>>> iteration 1:O\""
      ]
     },
     "metadata": {},
     "output_type": "display_data"
    },
    {
     "data": {
      "text/plain": [
       "\"DB: opt. gap 0.00018284189777091937\""
      ]
     },
     "metadata": {},
     "output_type": "display_data"
    },
    {
     "data": {
      "text/plain": [
       "\"DB: CLDRTO method: 2 - Solution at t = 12: found\""
      ]
     },
     "metadata": {},
     "output_type": "display_data"
    },
    {
     "name": "stdout",
     "output_type": "stream",
     "text": [
      "MC: 7>> Time: 13\n",
      "MC: 7>> Time: 14\n",
      "MC: 7>> Time: 15\n",
      "MC: 7>> Time: 16\n"
     ]
    },
    {
     "data": {
      "text/plain": [
       "\"DB: Nominal solution at t = 16: found\""
      ]
     },
     "metadata": {},
     "output_type": "display_data"
    },
    {
     "data": {
      "text/plain": [
       "\"DB: opt. gap 1.0000000093375476\""
      ]
     },
     "metadata": {},
     "output_type": "display_data"
    },
    {
     "data": {
      "text/plain": [
       "\">>>>>> iteration 1:O\""
      ]
     },
     "metadata": {},
     "output_type": "display_data"
    },
    {
     "data": {
      "text/plain": [
       "\"DB: opt. gap 0.003142737132550588\""
      ]
     },
     "metadata": {},
     "output_type": "display_data"
    },
    {
     "data": {
      "text/plain": [
       "\">>>>>> iteration 2:O\""
      ]
     },
     "metadata": {},
     "output_type": "display_data"
    },
    {
     "data": {
      "text/plain": [
       "\"DB: opt. gap 0.001718383440508004\""
      ]
     },
     "metadata": {},
     "output_type": "display_data"
    },
    {
     "data": {
      "text/plain": [
       "\">>>>>> iteration 3:O\""
      ]
     },
     "metadata": {},
     "output_type": "display_data"
    },
    {
     "data": {
      "text/plain": [
       "\"DB: opt. gap 0.00017012904573921917\""
      ]
     },
     "metadata": {},
     "output_type": "display_data"
    },
    {
     "data": {
      "text/plain": [
       "\"DB: CLDRTO method: 2 - Solution at t = 16: found\""
      ]
     },
     "metadata": {},
     "output_type": "display_data"
    },
    {
     "name": "stdout",
     "output_type": "stream",
     "text": [
      "MC: 7>> Time: 17\n",
      "MC: 7>> Time: 18\n",
      "MC: 7>> Time: 19\n",
      "MC: 7>> Time: 20\n"
     ]
    },
    {
     "data": {
      "text/plain": [
       "\"DB: Nominal solution at t = 20: found\""
      ]
     },
     "metadata": {},
     "output_type": "display_data"
    },
    {
     "data": {
      "text/plain": [
       "\"DB: opt. gap 1.000000007827412\""
      ]
     },
     "metadata": {},
     "output_type": "display_data"
    },
    {
     "data": {
      "text/plain": [
       "\">>>>>> iteration 1:O\""
      ]
     },
     "metadata": {},
     "output_type": "display_data"
    },
    {
     "data": {
      "text/plain": [
       "\"DB: opt. gap 0.010141474044270215\""
      ]
     },
     "metadata": {},
     "output_type": "display_data"
    },
    {
     "data": {
      "text/plain": [
       "\">>>>>> iteration 2:O\""
      ]
     },
     "metadata": {},
     "output_type": "display_data"
    },
    {
     "data": {
      "text/plain": [
       "\"DB: opt. gap 0.003696971113024358\""
      ]
     },
     "metadata": {},
     "output_type": "display_data"
    },
    {
     "data": {
      "text/plain": [
       "\">>>>>> iteration 3:O\""
      ]
     },
     "metadata": {},
     "output_type": "display_data"
    },
    {
     "data": {
      "text/plain": [
       "\"DB: opt. gap 0.0009369153162815651\""
      ]
     },
     "metadata": {},
     "output_type": "display_data"
    },
    {
     "data": {
      "text/plain": [
       "\"DB: CLDRTO method: 2 - Solution at t = 20: found\""
      ]
     },
     "metadata": {},
     "output_type": "display_data"
    },
    {
     "data": {
      "text/plain": [
       "\"DB: MC iter. 8 --> Plant parameter = 0.8131361597701329\""
      ]
     },
     "metadata": {},
     "output_type": "display_data"
    },
    {
     "data": {
      "text/plain": [
       "\"Nominal solution at t = 0: found\""
      ]
     },
     "metadata": {},
     "output_type": "display_data"
    },
    {
     "name": "stdout",
     "output_type": "stream",
     "text": [
      "MC: 8>> Time: 1\n"
     ]
    },
    {
     "data": {
      "text/plain": [
       "\"DB: CLDRTO method: 1 - Solution at t = 1: found\""
      ]
     },
     "metadata": {},
     "output_type": "display_data"
    },
    {
     "name": "stdout",
     "output_type": "stream",
     "text": [
      "MC: 8>> Time: 2\n",
      "MC: 8>> Time: 3\n",
      "MC: 8>> Time: 4\n"
     ]
    },
    {
     "data": {
      "text/plain": [
       "\"DB: Nominal solution at t = 4: found\""
      ]
     },
     "metadata": {},
     "output_type": "display_data"
    },
    {
     "data": {
      "text/plain": [
       "\"DB: CLDRTO method: 1 - Solution at t = 4: found\""
      ]
     },
     "metadata": {},
     "output_type": "display_data"
    },
    {
     "name": "stdout",
     "output_type": "stream",
     "text": [
      "MC: 8>> Time: 5\n",
      "MC: 8>> Time: 6\n",
      "MC: 8>> Time: 7\n",
      "MC: 8>> Time: 8\n"
     ]
    },
    {
     "data": {
      "text/plain": [
       "\"DB: Nominal solution at t = 8: found\""
      ]
     },
     "metadata": {},
     "output_type": "display_data"
    },
    {
     "data": {
      "text/plain": [
       "\"DB: CLDRTO method: 1 - Solution at t = 8: found\""
      ]
     },
     "metadata": {},
     "output_type": "display_data"
    },
    {
     "name": "stdout",
     "output_type": "stream",
     "text": [
      "MC: 8>> Time: 9\n",
      "MC: 8>> Time: 10\n",
      "MC: 8>> Time: 11\n",
      "MC: 8>> Time: 12\n"
     ]
    },
    {
     "data": {
      "text/plain": [
       "\"DB: Nominal solution at t = 12: found\""
      ]
     },
     "metadata": {},
     "output_type": "display_data"
    },
    {
     "data": {
      "text/plain": [
       "\"DB: CLDRTO method: 1 - Solution at t = 12: found\""
      ]
     },
     "metadata": {},
     "output_type": "display_data"
    },
    {
     "name": "stdout",
     "output_type": "stream",
     "text": [
      "MC: 8>> Time: 13\n",
      "MC: 8>> Time: 14\n",
      "MC: 8>> Time: 15\n",
      "MC: 8>> Time: 16\n"
     ]
    },
    {
     "data": {
      "text/plain": [
       "\"DB: Nominal solution at t = 16: found\""
      ]
     },
     "metadata": {},
     "output_type": "display_data"
    },
    {
     "data": {
      "text/plain": [
       "\"DB: CLDRTO method: 1 - Solution at t = 16: found\""
      ]
     },
     "metadata": {},
     "output_type": "display_data"
    },
    {
     "name": "stdout",
     "output_type": "stream",
     "text": [
      "MC: 8>> Time: 17\n",
      "MC: 8>> Time: 18\n",
      "MC: 8>> Time: 19\n",
      "MC: 8>> Time: 20\n"
     ]
    },
    {
     "data": {
      "text/plain": [
       "\"DB: Nominal solution at t = 20: found\""
      ]
     },
     "metadata": {},
     "output_type": "display_data"
    },
    {
     "data": {
      "text/plain": [
       "\"DB: CLDRTO method: 1 - Solution at t = 20: found\""
      ]
     },
     "metadata": {},
     "output_type": "display_data"
    },
    {
     "data": {
      "text/plain": [
       "\"Nominal solution at t = 0: found\""
      ]
     },
     "metadata": {},
     "output_type": "display_data"
    },
    {
     "name": "stdout",
     "output_type": "stream",
     "text": [
      "MC: 8>> Time: 1\n"
     ]
    },
    {
     "data": {
      "text/plain": [
       "\"DB: opt. gap 1.000000005263681\""
      ]
     },
     "metadata": {},
     "output_type": "display_data"
    },
    {
     "data": {
      "text/plain": [
       "\">>>>>> iteration 1:O\""
      ]
     },
     "metadata": {},
     "output_type": "display_data"
    },
    {
     "data": {
      "text/plain": [
       "\"DB: opt. gap 0.00431106866548491\""
      ]
     },
     "metadata": {},
     "output_type": "display_data"
    },
    {
     "data": {
      "text/plain": [
       "\">>>>>> iteration 2:O\""
      ]
     },
     "metadata": {},
     "output_type": "display_data"
    },
    {
     "data": {
      "text/plain": [
       "\"DB: opt. gap 0.004100693528206623\""
      ]
     },
     "metadata": {},
     "output_type": "display_data"
    },
    {
     "data": {
      "text/plain": [
       "\">>>>>> iteration 3:O\""
      ]
     },
     "metadata": {},
     "output_type": "display_data"
    },
    {
     "data": {
      "text/plain": [
       "\"DB: random\""
      ]
     },
     "metadata": {},
     "output_type": "display_data"
    },
    {
     "data": {
      "text/plain": [
       "\"DB: opt. gap 2.4613039519887963e-6\""
      ]
     },
     "metadata": {},
     "output_type": "display_data"
    },
    {
     "data": {
      "text/plain": [
       "\"DB: CLDRTO method: 2 - Solution at t = 1: found\""
      ]
     },
     "metadata": {},
     "output_type": "display_data"
    },
    {
     "name": "stdout",
     "output_type": "stream",
     "text": [
      "MC: 8>> Time: 2\n",
      "MC: 8>> Time: 3\n",
      "MC: 8>> Time: 4\n"
     ]
    },
    {
     "data": {
      "text/plain": [
       "\"DB: Nominal solution at t = 4: found\""
      ]
     },
     "metadata": {},
     "output_type": "display_data"
    },
    {
     "data": {
      "text/plain": [
       "\"DB: opt. gap 1.000000030190632\""
      ]
     },
     "metadata": {},
     "output_type": "display_data"
    },
    {
     "data": {
      "text/plain": [
       "\">>>>>> iteration 1:O\""
      ]
     },
     "metadata": {},
     "output_type": "display_data"
    },
    {
     "data": {
      "text/plain": [
       "\"DB: opt. gap 0.022487802349011283\""
      ]
     },
     "metadata": {},
     "output_type": "display_data"
    },
    {
     "data": {
      "text/plain": [
       "\">>>>>> iteration 2:O\""
      ]
     },
     "metadata": {},
     "output_type": "display_data"
    },
    {
     "data": {
      "text/plain": [
       "\"DB: opt. gap 0.018386603696547123\""
      ]
     },
     "metadata": {},
     "output_type": "display_data"
    },
    {
     "data": {
      "text/plain": [
       "\">>>>>> iteration 3:O\""
      ]
     },
     "metadata": {},
     "output_type": "display_data"
    },
    {
     "data": {
      "text/plain": [
       "\"DB: opt. gap 0.00013047861747026622\""
      ]
     },
     "metadata": {},
     "output_type": "display_data"
    },
    {
     "data": {
      "text/plain": [
       "\"DB: CLDRTO method: 2 - Solution at t = 4: found\""
      ]
     },
     "metadata": {},
     "output_type": "display_data"
    },
    {
     "name": "stdout",
     "output_type": "stream",
     "text": [
      "MC: 8>> Time: 5\n",
      "MC: 8>> Time: 6\n",
      "MC: 8>> Time: 7\n",
      "MC: 8>> Time: 8\n"
     ]
    },
    {
     "data": {
      "text/plain": [
       "\"DB: Nominal solution at t = 8: found\""
      ]
     },
     "metadata": {},
     "output_type": "display_data"
    },
    {
     "data": {
      "text/plain": [
       "\"DB: opt. gap 1.0000001433278571\""
      ]
     },
     "metadata": {},
     "output_type": "display_data"
    },
    {
     "data": {
      "text/plain": [
       "\">>>>>> iteration 1:O\""
      ]
     },
     "metadata": {},
     "output_type": "display_data"
    },
    {
     "data": {
      "text/plain": [
       "\"DB: opt. gap 0.15303262869918863\""
      ]
     },
     "metadata": {},
     "output_type": "display_data"
    },
    {
     "data": {
      "text/plain": [
       "\">>>>>> iteration 2:O\""
      ]
     },
     "metadata": {},
     "output_type": "display_data"
    },
    {
     "data": {
      "text/plain": [
       "\"DB: opt. gap 0.10477563875498706\""
      ]
     },
     "metadata": {},
     "output_type": "display_data"
    },
    {
     "data": {
      "text/plain": [
       "\">>>>>> iteration 3:O\""
      ]
     },
     "metadata": {},
     "output_type": "display_data"
    },
    {
     "data": {
      "text/plain": [
       "\"DB: opt. gap 0.030910169109749797\""
      ]
     },
     "metadata": {},
     "output_type": "display_data"
    },
    {
     "data": {
      "text/plain": [
       "\">>>>>> iteration 4:O\""
      ]
     },
     "metadata": {},
     "output_type": "display_data"
    },
    {
     "data": {
      "text/plain": [
       "\"DB: opt. gap 0.012800876410057947\""
      ]
     },
     "metadata": {},
     "output_type": "display_data"
    },
    {
     "data": {
      "text/plain": [
       "\">>>>>> iteration 5:O\""
      ]
     },
     "metadata": {},
     "output_type": "display_data"
    },
    {
     "data": {
      "text/plain": [
       "\"DB: opt. gap 0.003221794445193407\""
      ]
     },
     "metadata": {},
     "output_type": "display_data"
    },
    {
     "data": {
      "text/plain": [
       "\">>>>>> iteration 6:O\""
      ]
     },
     "metadata": {},
     "output_type": "display_data"
    },
    {
     "data": {
      "text/plain": [
       "\"DB: opt. gap 0.0006801059029105463\""
      ]
     },
     "metadata": {},
     "output_type": "display_data"
    },
    {
     "data": {
      "text/plain": [
       "\"DB: CLDRTO method: 2 - Solution at t = 8: found\""
      ]
     },
     "metadata": {},
     "output_type": "display_data"
    },
    {
     "name": "stdout",
     "output_type": "stream",
     "text": [
      "MC: 8>> Time: 9\n",
      "MC: 8>> Time: 10\n",
      "MC: 8>> Time: 11\n",
      "MC: 8>> Time: 12\n"
     ]
    },
    {
     "data": {
      "text/plain": [
       "\"DB: Nominal solution at t = 12: found\""
      ]
     },
     "metadata": {},
     "output_type": "display_data"
    },
    {
     "data": {
      "text/plain": [
       "\"DB: opt. gap 1.0000000041881694\""
      ]
     },
     "metadata": {},
     "output_type": "display_data"
    },
    {
     "data": {
      "text/plain": [
       "\">>>>>> iteration 1:O\""
      ]
     },
     "metadata": {},
     "output_type": "display_data"
    },
    {
     "data": {
      "text/plain": [
       "\"DB: opt. gap 0.08979584109153446\""
      ]
     },
     "metadata": {},
     "output_type": "display_data"
    },
    {
     "data": {
      "text/plain": [
       "\">>>>>> iteration 2:O\""
      ]
     },
     "metadata": {},
     "output_type": "display_data"
    },
    {
     "data": {
      "text/plain": [
       "\"DB: opt. gap 0.02580312375497135\""
      ]
     },
     "metadata": {},
     "output_type": "display_data"
    },
    {
     "data": {
      "text/plain": [
       "\">>>>>> iteration 3:O\""
      ]
     },
     "metadata": {},
     "output_type": "display_data"
    },
    {
     "data": {
      "text/plain": [
       "\"DB: opt. gap 0.0068198893738231955\""
      ]
     },
     "metadata": {},
     "output_type": "display_data"
    },
    {
     "data": {
      "text/plain": [
       "\">>>>>> iteration 4:O\""
      ]
     },
     "metadata": {},
     "output_type": "display_data"
    },
    {
     "data": {
      "text/plain": [
       "\"DB: opt. gap 0.0017891989244827222\""
      ]
     },
     "metadata": {},
     "output_type": "display_data"
    },
    {
     "data": {
      "text/plain": [
       "\">>>>>> iteration 5:O\""
      ]
     },
     "metadata": {},
     "output_type": "display_data"
    },
    {
     "data": {
      "text/plain": [
       "\"DB: opt. gap 0.00046723213119485244\""
      ]
     },
     "metadata": {},
     "output_type": "display_data"
    },
    {
     "data": {
      "text/plain": [
       "\"DB: CLDRTO method: 2 - Solution at t = 12: found\""
      ]
     },
     "metadata": {},
     "output_type": "display_data"
    },
    {
     "name": "stdout",
     "output_type": "stream",
     "text": [
      "MC: 8>> Time: 13\n",
      "MC: 8>> Time: 14\n",
      "MC: 8>> Time: 15\n",
      "MC: 8>> Time: 16\n"
     ]
    },
    {
     "data": {
      "text/plain": [
       "\"DB: Nominal solution at t = 16: found\""
      ]
     },
     "metadata": {},
     "output_type": "display_data"
    },
    {
     "data": {
      "text/plain": [
       "\"DB: opt. gap 1.0000000099240838\""
      ]
     },
     "metadata": {},
     "output_type": "display_data"
    },
    {
     "data": {
      "text/plain": [
       "\">>>>>> iteration 1:O\""
      ]
     },
     "metadata": {},
     "output_type": "display_data"
    },
    {
     "data": {
      "text/plain": [
       "\"DB: opt. gap 0.005267178292088961\""
      ]
     },
     "metadata": {},
     "output_type": "display_data"
    },
    {
     "data": {
      "text/plain": [
       "\">>>>>> iteration 2:O\""
      ]
     },
     "metadata": {},
     "output_type": "display_data"
    },
    {
     "data": {
      "text/plain": [
       "\"DB: opt. gap 0.002557063390624588\""
      ]
     },
     "metadata": {},
     "output_type": "display_data"
    },
    {
     "data": {
      "text/plain": [
       "\">>>>>> iteration 3:O\""
      ]
     },
     "metadata": {},
     "output_type": "display_data"
    },
    {
     "data": {
      "text/plain": [
       "\"DB: opt. gap 0.0034136523504526557\""
      ]
     },
     "metadata": {},
     "output_type": "display_data"
    },
    {
     "data": {
      "text/plain": [
       "\">>>>>> iteration 4:O\""
      ]
     },
     "metadata": {},
     "output_type": "display_data"
    },
    {
     "data": {
      "text/plain": [
       "\"DB: random\""
      ]
     },
     "metadata": {},
     "output_type": "display_data"
    },
    {
     "data": {
      "text/plain": [
       "\"DB: opt. gap 0.0008718995010882208\""
      ]
     },
     "metadata": {},
     "output_type": "display_data"
    },
    {
     "data": {
      "text/plain": [
       "\"DB: CLDRTO method: 2 - Solution at t = 16: found\""
      ]
     },
     "metadata": {},
     "output_type": "display_data"
    },
    {
     "name": "stdout",
     "output_type": "stream",
     "text": [
      "MC: 8>> Time: 17\n",
      "MC: 8>> Time: 18\n",
      "MC: 8>> Time: 19\n",
      "MC: 8>> Time: 20\n"
     ]
    },
    {
     "data": {
      "text/plain": [
       "\"DB: Nominal solution at t = 20: found\""
      ]
     },
     "metadata": {},
     "output_type": "display_data"
    },
    {
     "data": {
      "text/plain": [
       "\"DB: opt. gap 1.0000000099502702\""
      ]
     },
     "metadata": {},
     "output_type": "display_data"
    },
    {
     "data": {
      "text/plain": [
       "\">>>>>> iteration 1:O\""
      ]
     },
     "metadata": {},
     "output_type": "display_data"
    },
    {
     "data": {
      "text/plain": [
       "\"DB: opt. gap 0.008583705185053827\""
      ]
     },
     "metadata": {},
     "output_type": "display_data"
    },
    {
     "data": {
      "text/plain": [
       "\">>>>>> iteration 2:O\""
      ]
     },
     "metadata": {},
     "output_type": "display_data"
    },
    {
     "data": {
      "text/plain": [
       "\"DB: opt. gap 0.0035145455094283905\""
      ]
     },
     "metadata": {},
     "output_type": "display_data"
    },
    {
     "data": {
      "text/plain": [
       "\">>>>>> iteration 3:O\""
      ]
     },
     "metadata": {},
     "output_type": "display_data"
    },
    {
     "data": {
      "text/plain": [
       "\"DB: opt. gap 0.0008850484273941313\""
      ]
     },
     "metadata": {},
     "output_type": "display_data"
    },
    {
     "data": {
      "text/plain": [
       "\"DB: CLDRTO method: 2 - Solution at t = 20: found\""
      ]
     },
     "metadata": {},
     "output_type": "display_data"
    },
    {
     "data": {
      "text/plain": [
       "\"DB: MC iter. 9 --> Plant parameter = 0.6731591439399001\""
      ]
     },
     "metadata": {},
     "output_type": "display_data"
    },
    {
     "data": {
      "text/plain": [
       "\"Nominal solution at t = 0: found\""
      ]
     },
     "metadata": {},
     "output_type": "display_data"
    },
    {
     "name": "stdout",
     "output_type": "stream",
     "text": [
      "MC: 9>> Time: 1\n"
     ]
    },
    {
     "data": {
      "text/plain": [
       "\"DB: CLDRTO method: 1 - Solution at t = 1: found\""
      ]
     },
     "metadata": {},
     "output_type": "display_data"
    },
    {
     "name": "stdout",
     "output_type": "stream",
     "text": [
      "MC: 9>> Time: 2\n",
      "MC: 9>> Time: 3\n",
      "MC: 9>> Time: 4\n"
     ]
    },
    {
     "data": {
      "text/plain": [
       "\"DB: Nominal solution at t = 4: found\""
      ]
     },
     "metadata": {},
     "output_type": "display_data"
    },
    {
     "data": {
      "text/plain": [
       "\"DB: CLDRTO method: 1 - Solution at t = 4: found\""
      ]
     },
     "metadata": {},
     "output_type": "display_data"
    },
    {
     "name": "stdout",
     "output_type": "stream",
     "text": [
      "MC: 9>> Time: 5\n",
      "MC: 9>> Time: 6\n",
      "MC: 9>> Time: 7\n",
      "MC: 9>> Time: 8\n"
     ]
    },
    {
     "data": {
      "text/plain": [
       "\"DB: Nominal solution at t = 8: found\""
      ]
     },
     "metadata": {},
     "output_type": "display_data"
    },
    {
     "data": {
      "text/plain": [
       "\"DB: CLDRTO method: 1 - Solution at t = 8: found\""
      ]
     },
     "metadata": {},
     "output_type": "display_data"
    },
    {
     "name": "stdout",
     "output_type": "stream",
     "text": [
      "MC: 9>> Time: 9\n",
      "MC: 9>> Time: 10\n",
      "MC: 9>> Time: 11\n",
      "MC: 9>> Time: 12\n"
     ]
    },
    {
     "data": {
      "text/plain": [
       "\"DB: Nominal solution at t = 12: found\""
      ]
     },
     "metadata": {},
     "output_type": "display_data"
    },
    {
     "data": {
      "text/plain": [
       "\"DB: CLDRTO method: 1 - Solution at t = 12: found\""
      ]
     },
     "metadata": {},
     "output_type": "display_data"
    },
    {
     "name": "stdout",
     "output_type": "stream",
     "text": [
      "MC: 9>> Time: 13\n",
      "MC: 9>> Time: 14\n",
      "MC: 9>> Time: 15\n",
      "MC: 9>> Time: 16\n"
     ]
    },
    {
     "data": {
      "text/plain": [
       "\"DB: Nominal solution at t = 16: found\""
      ]
     },
     "metadata": {},
     "output_type": "display_data"
    },
    {
     "data": {
      "text/plain": [
       "\"DB: CLDRTO method: 1 - Solution at t = 16: found\""
      ]
     },
     "metadata": {},
     "output_type": "display_data"
    },
    {
     "name": "stdout",
     "output_type": "stream",
     "text": [
      "MC: 9>> Time: 17\n",
      "MC: 9>> Time: 18\n",
      "MC: 9>> Time: 19\n",
      "MC: 9>> Time: 20\n"
     ]
    },
    {
     "data": {
      "text/plain": [
       "\"DB: Nominal solution at t = 20: found\""
      ]
     },
     "metadata": {},
     "output_type": "display_data"
    },
    {
     "data": {
      "text/plain": [
       "\"DB: CLDRTO method: 1 - Solution at t = 20: found\""
      ]
     },
     "metadata": {},
     "output_type": "display_data"
    },
    {
     "data": {
      "text/plain": [
       "\"Nominal solution at t = 0: found\""
      ]
     },
     "metadata": {},
     "output_type": "display_data"
    },
    {
     "name": "stdout",
     "output_type": "stream",
     "text": [
      "MC: 9>> Time: 1\n"
     ]
    },
    {
     "data": {
      "text/plain": [
       "\"DB: opt. gap 1.000000005263681\""
      ]
     },
     "metadata": {},
     "output_type": "display_data"
    },
    {
     "data": {
      "text/plain": [
       "\">>>>>> iteration 1:O\""
      ]
     },
     "metadata": {},
     "output_type": "display_data"
    },
    {
     "data": {
      "text/plain": [
       "\"DB: opt. gap 0.00431106866548491\""
      ]
     },
     "metadata": {},
     "output_type": "display_data"
    },
    {
     "data": {
      "text/plain": [
       "\">>>>>> iteration 2:O\""
      ]
     },
     "metadata": {},
     "output_type": "display_data"
    },
    {
     "data": {
      "text/plain": [
       "\"DB: opt. gap 0.004100693528206623\""
      ]
     },
     "metadata": {},
     "output_type": "display_data"
    },
    {
     "data": {
      "text/plain": [
       "\">>>>>> iteration 3:O\""
      ]
     },
     "metadata": {},
     "output_type": "display_data"
    },
    {
     "data": {
      "text/plain": [
       "\"DB: random\""
      ]
     },
     "metadata": {},
     "output_type": "display_data"
    },
    {
     "data": {
      "text/plain": [
       "\"DB: opt. gap 2.4616946904815637e-6\""
      ]
     },
     "metadata": {},
     "output_type": "display_data"
    },
    {
     "data": {
      "text/plain": [
       "\"DB: CLDRTO method: 2 - Solution at t = 1: found\""
      ]
     },
     "metadata": {},
     "output_type": "display_data"
    },
    {
     "name": "stdout",
     "output_type": "stream",
     "text": [
      "MC: 9>> Time: 2\n",
      "MC: 9>> Time: 3\n",
      "MC: 9>> Time: 4\n"
     ]
    },
    {
     "data": {
      "text/plain": [
       "\"DB: Nominal solution at t = 4: found\""
      ]
     },
     "metadata": {},
     "output_type": "display_data"
    },
    {
     "data": {
      "text/plain": [
       "\"DB: opt. gap 1.0000000225411383\""
      ]
     },
     "metadata": {},
     "output_type": "display_data"
    },
    {
     "data": {
      "text/plain": [
       "\">>>>>> iteration 1:O\""
      ]
     },
     "metadata": {},
     "output_type": "display_data"
    },
    {
     "data": {
      "text/plain": [
       "\"DB: opt. gap 0.007411268722553778\""
      ]
     },
     "metadata": {},
     "output_type": "display_data"
    },
    {
     "data": {
      "text/plain": [
       "\">>>>>> iteration 2:O\""
      ]
     },
     "metadata": {},
     "output_type": "display_data"
    },
    {
     "data": {
      "text/plain": [
       "\"DB: opt. gap 0.006986132359721283\""
      ]
     },
     "metadata": {},
     "output_type": "display_data"
    },
    {
     "data": {
      "text/plain": [
       "\">>>>>> iteration 3:O\""
      ]
     },
     "metadata": {},
     "output_type": "display_data"
    },
    {
     "data": {
      "text/plain": [
       "\"DB: random\""
      ]
     },
     "metadata": {},
     "output_type": "display_data"
    },
    {
     "data": {
      "text/plain": [
       "\"DB: opt. gap 5.145690748365504e-6\""
      ]
     },
     "metadata": {},
     "output_type": "display_data"
    },
    {
     "data": {
      "text/plain": [
       "\"DB: CLDRTO method: 2 - Solution at t = 4: found\""
      ]
     },
     "metadata": {},
     "output_type": "display_data"
    },
    {
     "name": "stdout",
     "output_type": "stream",
     "text": [
      "MC: 9>> Time: 5\n",
      "MC: 9>> Time: 6\n",
      "MC: 9>> Time: 7\n",
      "MC: 9>> Time: 8\n"
     ]
    },
    {
     "data": {
      "text/plain": [
       "\"DB: Nominal solution at t = 8: found\""
      ]
     },
     "metadata": {},
     "output_type": "display_data"
    },
    {
     "data": {
      "text/plain": [
       "\"DB: opt. gap 1.0000032913008818\""
      ]
     },
     "metadata": {},
     "output_type": "display_data"
    },
    {
     "data": {
      "text/plain": [
       "\">>>>>> iteration 1:O\""
      ]
     },
     "metadata": {},
     "output_type": "display_data"
    },
    {
     "data": {
      "text/plain": [
       "\"DB: opt. gap 0.09953938801323521\""
      ]
     },
     "metadata": {},
     "output_type": "display_data"
    },
    {
     "data": {
      "text/plain": [
       "\">>>>>> iteration 2:O\""
      ]
     },
     "metadata": {},
     "output_type": "display_data"
    },
    {
     "data": {
      "text/plain": [
       "\"DB: opt. gap 0.04839609024430822\""
      ]
     },
     "metadata": {},
     "output_type": "display_data"
    },
    {
     "data": {
      "text/plain": [
       "\">>>>>> iteration 3:O\""
      ]
     },
     "metadata": {},
     "output_type": "display_data"
    },
    {
     "data": {
      "text/plain": [
       "\"DB: opt. gap 0.0027675236258864985\""
      ]
     },
     "metadata": {},
     "output_type": "display_data"
    },
    {
     "data": {
      "text/plain": [
       "\">>>>>> iteration 4:O\""
      ]
     },
     "metadata": {},
     "output_type": "display_data"
    },
    {
     "data": {
      "text/plain": [
       "\"DB: opt. gap 0.0013814580188805292\""
      ]
     },
     "metadata": {},
     "output_type": "display_data"
    },
    {
     "data": {
      "text/plain": [
       "\">>>>>> iteration 5:O\""
      ]
     },
     "metadata": {},
     "output_type": "display_data"
    },
    {
     "data": {
      "text/plain": [
       "\"DB: opt. gap 0.0015356678968301823\""
      ]
     },
     "metadata": {},
     "output_type": "display_data"
    },
    {
     "data": {
      "text/plain": [
       "\">>>>>> iteration 6:O\""
      ]
     },
     "metadata": {},
     "output_type": "display_data"
    },
    {
     "data": {
      "text/plain": [
       "\"DB: random\""
      ]
     },
     "metadata": {},
     "output_type": "display_data"
    },
    {
     "data": {
      "text/plain": [
       "\"DB: opt. gap 0.0003706380667293487\""
      ]
     },
     "metadata": {},
     "output_type": "display_data"
    },
    {
     "data": {
      "text/plain": [
       "\"DB: CLDRTO method: 2 - Solution at t = 8: found\""
      ]
     },
     "metadata": {},
     "output_type": "display_data"
    },
    {
     "name": "stdout",
     "output_type": "stream",
     "text": [
      "MC: 9>> Time: 9\n",
      "MC: 9>> Time: 10\n",
      "MC: 9>> Time: 11\n",
      "MC: 9>> Time: 12\n"
     ]
    },
    {
     "data": {
      "text/plain": [
       "\"DB: Nominal solution at t = 12: found\""
      ]
     },
     "metadata": {},
     "output_type": "display_data"
    },
    {
     "data": {
      "text/plain": [
       "\"DB: opt. gap 1.00000144747002\""
      ]
     },
     "metadata": {},
     "output_type": "display_data"
    },
    {
     "data": {
      "text/plain": [
       "\">>>>>> iteration 1:O\""
      ]
     },
     "metadata": {},
     "output_type": "display_data"
    },
    {
     "data": {
      "text/plain": [
       "\"DB: opt. gap 0.7594902397575585\""
      ]
     },
     "metadata": {},
     "output_type": "display_data"
    },
    {
     "data": {
      "text/plain": [
       "\">>>>>> iteration 2:O\""
      ]
     },
     "metadata": {},
     "output_type": "display_data"
    },
    {
     "data": {
      "text/plain": [
       "\"DB: opt. gap 0.47274798989478195\""
      ]
     },
     "metadata": {},
     "output_type": "display_data"
    },
    {
     "data": {
      "text/plain": [
       "\">>>>>> iteration 3:O\""
      ]
     },
     "metadata": {},
     "output_type": "display_data"
    },
    {
     "data": {
      "text/plain": [
       "\"DB: opt. gap 0.197574139175091\""
      ]
     },
     "metadata": {},
     "output_type": "display_data"
    },
    {
     "data": {
      "text/plain": [
       "\">>>>>> iteration 4:O\""
      ]
     },
     "metadata": {},
     "output_type": "display_data"
    },
    {
     "data": {
      "text/plain": [
       "\"DB: opt. gap 0.059568370202666886\""
      ]
     },
     "metadata": {},
     "output_type": "display_data"
    },
    {
     "data": {
      "text/plain": [
       "\">>>>>> iteration 5:O\""
      ]
     },
     "metadata": {},
     "output_type": "display_data"
    },
    {
     "data": {
      "text/plain": [
       "\"DB: opt. gap 0.016613116165215172\""
      ]
     },
     "metadata": {},
     "output_type": "display_data"
    },
    {
     "data": {
      "text/plain": [
       "\">>>>>> iteration 6:O\""
      ]
     },
     "metadata": {},
     "output_type": "display_data"
    },
    {
     "data": {
      "text/plain": [
       "\"DB: opt. gap 0.00574995988052495\""
      ]
     },
     "metadata": {},
     "output_type": "display_data"
    },
    {
     "data": {
      "text/plain": [
       "\">>>>>> iteration 7:O\""
      ]
     },
     "metadata": {},
     "output_type": "display_data"
    },
    {
     "data": {
      "text/plain": [
       "\"DB: opt. gap 0.004322715431611876\""
      ]
     },
     "metadata": {},
     "output_type": "display_data"
    },
    {
     "data": {
      "text/plain": [
       "\">>>>>> iteration 8:O\""
      ]
     },
     "metadata": {},
     "output_type": "display_data"
    },
    {
     "data": {
      "text/plain": [
       "\"DB: opt. gap 0.00017453121718078373\""
      ]
     },
     "metadata": {},
     "output_type": "display_data"
    },
    {
     "data": {
      "text/plain": [
       "\"DB: CLDRTO method: 2 - Solution at t = 12: found\""
      ]
     },
     "metadata": {},
     "output_type": "display_data"
    },
    {
     "name": "stdout",
     "output_type": "stream",
     "text": [
      "MC: 9>> Time: 13\n",
      "MC: 9>> Time: 14\n",
      "MC: 9>> Time: 15\n",
      "MC: 9>> Time: 16\n"
     ]
    },
    {
     "data": {
      "text/plain": [
       "\"DB: Nominal solution at t = 16: found\""
      ]
     },
     "metadata": {},
     "output_type": "display_data"
    },
    {
     "data": {
      "text/plain": [
       "\"DB: opt. gap 1.000001424695532\""
      ]
     },
     "metadata": {},
     "output_type": "display_data"
    },
    {
     "data": {
      "text/plain": [
       "\">>>>>> iteration 1:O\""
      ]
     },
     "metadata": {},
     "output_type": "display_data"
    },
    {
     "data": {
      "text/plain": [
       "\"DB: opt. gap 0.7912999602572228\""
      ]
     },
     "metadata": {},
     "output_type": "display_data"
    },
    {
     "data": {
      "text/plain": [
       "\">>>>>> iteration 2:O\""
      ]
     },
     "metadata": {},
     "output_type": "display_data"
    },
    {
     "data": {
      "text/plain": [
       "\"DB: opt. gap 0.5162769973349591\""
      ]
     },
     "metadata": {},
     "output_type": "display_data"
    },
    {
     "data": {
      "text/plain": [
       "\">>>>>> iteration 3:O\""
      ]
     },
     "metadata": {},
     "output_type": "display_data"
    },
    {
     "data": {
      "text/plain": [
       "\"DB: opt. gap 0.2239298453887184\""
      ]
     },
     "metadata": {},
     "output_type": "display_data"
    },
    {
     "data": {
      "text/plain": [
       "\">>>>>> iteration 4:O\""
      ]
     },
     "metadata": {},
     "output_type": "display_data"
    },
    {
     "data": {
      "text/plain": [
       "\"DB: opt. gap 0.06964297018840085\""
      ]
     },
     "metadata": {},
     "output_type": "display_data"
    },
    {
     "data": {
      "text/plain": [
       "\">>>>>> iteration 5:O\""
      ]
     },
     "metadata": {},
     "output_type": "display_data"
    },
    {
     "data": {
      "text/plain": [
       "\"DB: opt. gap 0.019046944840884438\""
      ]
     },
     "metadata": {},
     "output_type": "display_data"
    },
    {
     "data": {
      "text/plain": [
       "\">>>>>> iteration 6:O\""
      ]
     },
     "metadata": {},
     "output_type": "display_data"
    },
    {
     "data": {
      "text/plain": [
       "\"DB: opt. gap 0.006076980937497639\""
      ]
     },
     "metadata": {},
     "output_type": "display_data"
    },
    {
     "data": {
      "text/plain": [
       "\">>>>>> iteration 7:O\""
      ]
     },
     "metadata": {},
     "output_type": "display_data"
    },
    {
     "data": {
      "text/plain": [
       "\"DB: opt. gap 0.004267563864982364\""
      ]
     },
     "metadata": {},
     "output_type": "display_data"
    },
    {
     "data": {
      "text/plain": [
       "\">>>>>> iteration 8:O\""
      ]
     },
     "metadata": {},
     "output_type": "display_data"
    },
    {
     "data": {
      "text/plain": [
       "\"DB: opt. gap 0.0004025079903451545\""
      ]
     },
     "metadata": {},
     "output_type": "display_data"
    },
    {
     "data": {
      "text/plain": [
       "\"DB: CLDRTO method: 2 - Solution at t = 16: found\""
      ]
     },
     "metadata": {},
     "output_type": "display_data"
    },
    {
     "name": "stdout",
     "output_type": "stream",
     "text": [
      "MC: 9>> Time: 17\n",
      "MC: 9>> Time: 18\n",
      "MC: 9>> Time: 19\n",
      "MC: 9>> Time: 20\n"
     ]
    },
    {
     "data": {
      "text/plain": [
       "\"DB: Nominal solution at t = 20: found\""
      ]
     },
     "metadata": {},
     "output_type": "display_data"
    },
    {
     "data": {
      "text/plain": [
       "\"DB: opt. gap 1.000001136165293\""
      ]
     },
     "metadata": {},
     "output_type": "display_data"
    },
    {
     "data": {
      "text/plain": [
       "\">>>>>> iteration 1:O\""
      ]
     },
     "metadata": {},
     "output_type": "display_data"
    },
    {
     "data": {
      "text/plain": [
       "\"DB: opt. gap 0.7093159783419286\""
      ]
     },
     "metadata": {},
     "output_type": "display_data"
    },
    {
     "data": {
      "text/plain": [
       "\">>>>>> iteration 2:O\""
      ]
     },
     "metadata": {},
     "output_type": "display_data"
    },
    {
     "data": {
      "text/plain": [
       "\"DB: opt. gap 0.4078846847363082\""
      ]
     },
     "metadata": {},
     "output_type": "display_data"
    },
    {
     "data": {
      "text/plain": [
       "\">>>>>> iteration 3:O\""
      ]
     },
     "metadata": {},
     "output_type": "display_data"
    },
    {
     "data": {
      "text/plain": [
       "\"DB: opt. gap 0.1549538361214739\""
      ]
     },
     "metadata": {},
     "output_type": "display_data"
    },
    {
     "data": {
      "text/plain": [
       "\">>>>>> iteration 4:O\""
      ]
     },
     "metadata": {},
     "output_type": "display_data"
    },
    {
     "data": {
      "text/plain": [
       "\"DB: opt. gap 0.048122763015482024\""
      ]
     },
     "metadata": {},
     "output_type": "display_data"
    },
    {
     "data": {
      "text/plain": [
       "\">>>>>> iteration 5:O\""
      ]
     },
     "metadata": {},
     "output_type": "display_data"
    },
    {
     "data": {
      "text/plain": [
       "\"DB: opt. gap 0.013600512968768179\""
      ]
     },
     "metadata": {},
     "output_type": "display_data"
    },
    {
     "data": {
      "text/plain": [
       "\">>>>>> iteration 6:O\""
      ]
     },
     "metadata": {},
     "output_type": "display_data"
    },
    {
     "data": {
      "text/plain": [
       "\"DB: opt. gap 0.004107808838061943\""
      ]
     },
     "metadata": {},
     "output_type": "display_data"
    },
    {
     "data": {
      "text/plain": [
       "\">>>>>> iteration 7:O\""
      ]
     },
     "metadata": {},
     "output_type": "display_data"
    },
    {
     "data": {
      "text/plain": [
       "\"DB: opt. gap 0.0026390831296917994\""
      ]
     },
     "metadata": {},
     "output_type": "display_data"
    },
    {
     "data": {
      "text/plain": [
       "\">>>>>> iteration 8:O\""
      ]
     },
     "metadata": {},
     "output_type": "display_data"
    },
    {
     "data": {
      "text/plain": [
       "\"DB: opt. gap 0.0025621921204067\""
      ]
     },
     "metadata": {},
     "output_type": "display_data"
    },
    {
     "data": {
      "text/plain": [
       "\">>>>>> iteration 9:O\""
      ]
     },
     "metadata": {},
     "output_type": "display_data"
    },
    {
     "data": {
      "text/plain": [
       "\"DB: random\""
      ]
     },
     "metadata": {},
     "output_type": "display_data"
    },
    {
     "data": {
      "text/plain": [
       "\"DB: opt. gap 0.0002526264651509132\""
      ]
     },
     "metadata": {},
     "output_type": "display_data"
    },
    {
     "data": {
      "text/plain": [
       "\"DB: CLDRTO method: 2 - Solution at t = 20: found\""
      ]
     },
     "metadata": {},
     "output_type": "display_data"
    },
    {
     "data": {
      "text/plain": [
       "\"DB: MC iter. 10 --> Plant parameter = 0.8136868389676912\""
      ]
     },
     "metadata": {},
     "output_type": "display_data"
    },
    {
     "data": {
      "text/plain": [
       "\"Nominal solution at t = 0: found\""
      ]
     },
     "metadata": {},
     "output_type": "display_data"
    },
    {
     "name": "stdout",
     "output_type": "stream",
     "text": [
      "MC: 10>> Time: 1\n"
     ]
    },
    {
     "data": {
      "text/plain": [
       "\"DB: CLDRTO method: 1 - Solution at t = 1: found\""
      ]
     },
     "metadata": {},
     "output_type": "display_data"
    },
    {
     "name": "stdout",
     "output_type": "stream",
     "text": [
      "MC: 10>> Time: 2\n",
      "MC: 10>> Time: 3\n",
      "MC: 10>> Time: 4\n"
     ]
    },
    {
     "data": {
      "text/plain": [
       "\"DB: Nominal solution at t = 4: found\""
      ]
     },
     "metadata": {},
     "output_type": "display_data"
    },
    {
     "data": {
      "text/plain": [
       "\"DB: CLDRTO method: 1 - Solution at t = 4: found\""
      ]
     },
     "metadata": {},
     "output_type": "display_data"
    },
    {
     "name": "stdout",
     "output_type": "stream",
     "text": [
      "MC: 10>> Time: 5\n",
      "MC: 10>> Time: 6\n",
      "MC: 10>> Time: 7\n",
      "MC: 10>> Time: 8\n"
     ]
    },
    {
     "data": {
      "text/plain": [
       "\"DB: Nominal solution at t = 8: found\""
      ]
     },
     "metadata": {},
     "output_type": "display_data"
    },
    {
     "data": {
      "text/plain": [
       "\"DB: CLDRTO method: 1 - Solution at t = 8: found\""
      ]
     },
     "metadata": {},
     "output_type": "display_data"
    },
    {
     "name": "stdout",
     "output_type": "stream",
     "text": [
      "MC: 10>> Time: 9\n",
      "MC: 10>> Time: 10\n",
      "MC: 10>> Time: 11\n",
      "MC: 10>> Time: 12\n"
     ]
    },
    {
     "data": {
      "text/plain": [
       "\"DB: Nominal solution at t = 12: found\""
      ]
     },
     "metadata": {},
     "output_type": "display_data"
    },
    {
     "data": {
      "text/plain": [
       "\"DB: CLDRTO method: 1 - Solution at t = 12: found\""
      ]
     },
     "metadata": {},
     "output_type": "display_data"
    },
    {
     "name": "stdout",
     "output_type": "stream",
     "text": [
      "MC: 10>> Time: 13\n",
      "MC: 10>> Time: 14\n",
      "MC: 10>> Time: 15\n",
      "MC: 10>> Time: 16\n"
     ]
    },
    {
     "data": {
      "text/plain": [
       "\"DB: Nominal solution at t = 16: found\""
      ]
     },
     "metadata": {},
     "output_type": "display_data"
    },
    {
     "data": {
      "text/plain": [
       "\"DB: CLDRTO method: 1 - Solution at t = 16: found\""
      ]
     },
     "metadata": {},
     "output_type": "display_data"
    },
    {
     "name": "stdout",
     "output_type": "stream",
     "text": [
      "MC: 10>> Time: 17\n",
      "MC: 10>> Time: 18\n",
      "MC: 10>> Time: 19\n",
      "MC: 10>> Time: 20\n"
     ]
    },
    {
     "data": {
      "text/plain": [
       "\"DB: Nominal solution at t = 20: found\""
      ]
     },
     "metadata": {},
     "output_type": "display_data"
    },
    {
     "data": {
      "text/plain": [
       "\"DB: CLDRTO method: 1 - Solution at t = 20: found\""
      ]
     },
     "metadata": {},
     "output_type": "display_data"
    },
    {
     "data": {
      "text/plain": [
       "\"Nominal solution at t = 0: found\""
      ]
     },
     "metadata": {},
     "output_type": "display_data"
    },
    {
     "name": "stdout",
     "output_type": "stream",
     "text": [
      "MC: 10>> Time: 1\n"
     ]
    },
    {
     "data": {
      "text/plain": [
       "\"DB: opt. gap 1.000000005263681\""
      ]
     },
     "metadata": {},
     "output_type": "display_data"
    },
    {
     "data": {
      "text/plain": [
       "\">>>>>> iteration 1:O\""
      ]
     },
     "metadata": {},
     "output_type": "display_data"
    },
    {
     "data": {
      "text/plain": [
       "\"DB: opt. gap 0.00431106866548491\""
      ]
     },
     "metadata": {},
     "output_type": "display_data"
    },
    {
     "data": {
      "text/plain": [
       "\">>>>>> iteration 2:O\""
      ]
     },
     "metadata": {},
     "output_type": "display_data"
    },
    {
     "data": {
      "text/plain": [
       "\"DB: opt. gap 0.004100693528206623\""
      ]
     },
     "metadata": {},
     "output_type": "display_data"
    },
    {
     "data": {
      "text/plain": [
       "\">>>>>> iteration 3:O\""
      ]
     },
     "metadata": {},
     "output_type": "display_data"
    },
    {
     "data": {
      "text/plain": [
       "\"DB: random\""
      ]
     },
     "metadata": {},
     "output_type": "display_data"
    },
    {
     "data": {
      "text/plain": [
       "\"DB: opt. gap 2.461755759920021e-6\""
      ]
     },
     "metadata": {},
     "output_type": "display_data"
    },
    {
     "data": {
      "text/plain": [
       "\"DB: CLDRTO method: 2 - Solution at t = 1: found\""
      ]
     },
     "metadata": {},
     "output_type": "display_data"
    },
    {
     "name": "stdout",
     "output_type": "stream",
     "text": [
      "MC: 10>> Time: 2\n",
      "MC: 10>> Time: 3\n",
      "MC: 10>> Time: 4\n"
     ]
    },
    {
     "data": {
      "text/plain": [
       "\"DB: Nominal solution at t = 4: found\""
      ]
     },
     "metadata": {},
     "output_type": "display_data"
    },
    {
     "data": {
      "text/plain": [
       "\"DB: opt. gap 1.0000000302081329\""
      ]
     },
     "metadata": {},
     "output_type": "display_data"
    },
    {
     "data": {
      "text/plain": [
       "\">>>>>> iteration 1:O\""
      ]
     },
     "metadata": {},
     "output_type": "display_data"
    },
    {
     "data": {
      "text/plain": [
       "\"DB: opt. gap 0.022507400580993132\""
      ]
     },
     "metadata": {},
     "output_type": "display_data"
    },
    {
     "data": {
      "text/plain": [
       "\">>>>>> iteration 2:O\""
      ]
     },
     "metadata": {},
     "output_type": "display_data"
    },
    {
     "data": {
      "text/plain": [
       "\"DB: opt. gap 0.018398152325910095\""
      ]
     },
     "metadata": {},
     "output_type": "display_data"
    },
    {
     "data": {
      "text/plain": [
       "\">>>>>> iteration 3:O\""
      ]
     },
     "metadata": {},
     "output_type": "display_data"
    },
    {
     "data": {
      "text/plain": [
       "\"DB: opt. gap 0.0001360221035202021\""
      ]
     },
     "metadata": {},
     "output_type": "display_data"
    },
    {
     "data": {
      "text/plain": [
       "\"DB: CLDRTO method: 2 - Solution at t = 4: found\""
      ]
     },
     "metadata": {},
     "output_type": "display_data"
    },
    {
     "name": "stdout",
     "output_type": "stream",
     "text": [
      "MC: 10>> Time: 5\n",
      "MC: 10>> Time: 6\n",
      "MC: 10>> Time: 7\n",
      "MC: 10>> Time: 8\n"
     ]
    },
    {
     "data": {
      "text/plain": [
       "\"DB: Nominal solution at t = 8: found\""
      ]
     },
     "metadata": {},
     "output_type": "display_data"
    },
    {
     "data": {
      "text/plain": [
       "\"DB: opt. gap 1.0000001386369524\""
      ]
     },
     "metadata": {},
     "output_type": "display_data"
    },
    {
     "data": {
      "text/plain": [
       "\">>>>>> iteration 1:O\""
      ]
     },
     "metadata": {},
     "output_type": "display_data"
    },
    {
     "data": {
      "text/plain": [
       "\"DB: opt. gap 0.14892775733917882\""
      ]
     },
     "metadata": {},
     "output_type": "display_data"
    },
    {
     "data": {
      "text/plain": [
       "\">>>>>> iteration 2:O\""
      ]
     },
     "metadata": {},
     "output_type": "display_data"
    },
    {
     "data": {
      "text/plain": [
       "\"DB: opt. gap 0.10180903644530723\""
      ]
     },
     "metadata": {},
     "output_type": "display_data"
    },
    {
     "data": {
      "text/plain": [
       "\">>>>>> iteration 3:O\""
      ]
     },
     "metadata": {},
     "output_type": "display_data"
    },
    {
     "data": {
      "text/plain": [
       "\"DB: opt. gap 0.02609859272564058\""
      ]
     },
     "metadata": {},
     "output_type": "display_data"
    },
    {
     "data": {
      "text/plain": [
       "\">>>>>> iteration 4:O\""
      ]
     },
     "metadata": {},
     "output_type": "display_data"
    },
    {
     "data": {
      "text/plain": [
       "\"DB: opt. gap 0.008481753796724866\""
      ]
     },
     "metadata": {},
     "output_type": "display_data"
    },
    {
     "data": {
      "text/plain": [
       "\">>>>>> iteration 5:O\""
      ]
     },
     "metadata": {},
     "output_type": "display_data"
    },
    {
     "data": {
      "text/plain": [
       "\"DB: opt. gap 0.0018915387421797368\""
      ]
     },
     "metadata": {},
     "output_type": "display_data"
    },
    {
     "data": {
      "text/plain": [
       "\">>>>>> iteration 6:O\""
      ]
     },
     "metadata": {},
     "output_type": "display_data"
    },
    {
     "data": {
      "text/plain": [
       "\"DB: opt. gap 0.0005139103557156439\""
      ]
     },
     "metadata": {},
     "output_type": "display_data"
    },
    {
     "data": {
      "text/plain": [
       "\"DB: CLDRTO method: 2 - Solution at t = 8: found\""
      ]
     },
     "metadata": {},
     "output_type": "display_data"
    },
    {
     "name": "stdout",
     "output_type": "stream",
     "text": [
      "MC: 10>> Time: 9\n",
      "MC: 10>> Time: 10\n",
      "MC: 10>> Time: 11\n",
      "MC: 10>> Time: 12\n"
     ]
    },
    {
     "data": {
      "text/plain": [
       "\"DB: Nominal solution at t = 12: found\""
      ]
     },
     "metadata": {},
     "output_type": "display_data"
    },
    {
     "data": {
      "text/plain": [
       "\"DB: opt. gap 1.0000000043307153\""
      ]
     },
     "metadata": {},
     "output_type": "display_data"
    },
    {
     "data": {
      "text/plain": [
       "\">>>>>> iteration 1:O\""
      ]
     },
     "metadata": {},
     "output_type": "display_data"
    },
    {
     "data": {
      "text/plain": [
       "\"DB: opt. gap 0.0001975724988317985\""
      ]
     },
     "metadata": {},
     "output_type": "display_data"
    },
    {
     "data": {
      "text/plain": [
       "\"DB: CLDRTO method: 2 - Solution at t = 12: found\""
      ]
     },
     "metadata": {},
     "output_type": "display_data"
    },
    {
     "name": "stdout",
     "output_type": "stream",
     "text": [
      "MC: 10>> Time: 13\n",
      "MC: 10>> Time: 14\n",
      "MC: 10>> Time: 15\n",
      "MC: 10>> Time: 16\n"
     ]
    },
    {
     "data": {
      "text/plain": [
       "\"DB: Nominal solution at t = 16: found\""
      ]
     },
     "metadata": {},
     "output_type": "display_data"
    },
    {
     "data": {
      "text/plain": [
       "\"DB: opt. gap 1.000000009721939\""
      ]
     },
     "metadata": {},
     "output_type": "display_data"
    },
    {
     "data": {
      "text/plain": [
       "\">>>>>> iteration 1:O\""
      ]
     },
     "metadata": {},
     "output_type": "display_data"
    },
    {
     "data": {
      "text/plain": [
       "\"DB: opt. gap 0.0055490968617731215\""
      ]
     },
     "metadata": {},
     "output_type": "display_data"
    },
    {
     "data": {
      "text/plain": [
       "\">>>>>> iteration 2:O\""
      ]
     },
     "metadata": {},
     "output_type": "display_data"
    },
    {
     "data": {
      "text/plain": [
       "\"DB: opt. gap 0.0025413328767345915\""
      ]
     },
     "metadata": {},
     "output_type": "display_data"
    },
    {
     "data": {
      "text/plain": [
       "\">>>>>> iteration 3:O\""
      ]
     },
     "metadata": {},
     "output_type": "display_data"
    },
    {
     "data": {
      "text/plain": [
       "\"DB: opt. gap 0.0006475006164662834\""
      ]
     },
     "metadata": {},
     "output_type": "display_data"
    },
    {
     "data": {
      "text/plain": [
       "\"DB: CLDRTO method: 2 - Solution at t = 16: found\""
      ]
     },
     "metadata": {},
     "output_type": "display_data"
    },
    {
     "name": "stdout",
     "output_type": "stream",
     "text": [
      "MC: 10>> Time: 17\n",
      "MC: 10>> Time: 18\n",
      "MC: 10>> Time: 19\n",
      "MC: 10>> Time: 20\n"
     ]
    },
    {
     "data": {
      "text/plain": [
       "\"DB: Nominal solution at t = 20: found\""
      ]
     },
     "metadata": {},
     "output_type": "display_data"
    },
    {
     "data": {
      "text/plain": [
       "\"DB: opt. gap 1.0000000099990718\""
      ]
     },
     "metadata": {},
     "output_type": "display_data"
    },
    {
     "data": {
      "text/plain": [
       "\">>>>>> iteration 1:O\""
      ]
     },
     "metadata": {},
     "output_type": "display_data"
    },
    {
     "data": {
      "text/plain": [
       "\"DB: opt. gap 0.008062922201039385\""
      ]
     },
     "metadata": {},
     "output_type": "display_data"
    },
    {
     "data": {
      "text/plain": [
       "\">>>>>> iteration 2:O\""
      ]
     },
     "metadata": {},
     "output_type": "display_data"
    },
    {
     "data": {
      "text/plain": [
       "\"DB: opt. gap 0.003353111187521664\""
      ]
     },
     "metadata": {},
     "output_type": "display_data"
    },
    {
     "data": {
      "text/plain": [
       "\">>>>>> iteration 3:O\""
      ]
     },
     "metadata": {},
     "output_type": "display_data"
    },
    {
     "data": {
      "text/plain": [
       "\"DB: opt. gap 0.0008463263308451318\""
      ]
     },
     "metadata": {},
     "output_type": "display_data"
    },
    {
     "data": {
      "text/plain": [
       "\"DB: CLDRTO method: 2 - Solution at t = 20: found\""
      ]
     },
     "metadata": {},
     "output_type": "display_data"
    },
    {
     "data": {
      "text/plain": [
       "\"DB: MC iter. 11 --> Plant parameter = 0.7708277746954633\""
      ]
     },
     "metadata": {},
     "output_type": "display_data"
    },
    {
     "data": {
      "text/plain": [
       "\"Nominal solution at t = 0: found\""
      ]
     },
     "metadata": {},
     "output_type": "display_data"
    },
    {
     "name": "stdout",
     "output_type": "stream",
     "text": [
      "MC: 11>> Time: 1\n"
     ]
    },
    {
     "data": {
      "text/plain": [
       "\"DB: CLDRTO method: 1 - Solution at t = 1: found\""
      ]
     },
     "metadata": {},
     "output_type": "display_data"
    },
    {
     "name": "stdout",
     "output_type": "stream",
     "text": [
      "MC: 11>> Time: 2\n",
      "MC: 11>> Time: 3\n",
      "MC: 11>> Time: 4\n"
     ]
    },
    {
     "data": {
      "text/plain": [
       "\"DB: Nominal solution at t = 4: found\""
      ]
     },
     "metadata": {},
     "output_type": "display_data"
    },
    {
     "data": {
      "text/plain": [
       "\"DB: CLDRTO method: 1 - Solution at t = 4: found\""
      ]
     },
     "metadata": {},
     "output_type": "display_data"
    },
    {
     "name": "stdout",
     "output_type": "stream",
     "text": [
      "MC: 11>> Time: 5\n",
      "MC: 11>> Time: 6\n",
      "MC: 11>> Time: 7\n",
      "MC: 11>> Time: 8\n"
     ]
    },
    {
     "data": {
      "text/plain": [
       "\"DB: Nominal solution at t = 8: found\""
      ]
     },
     "metadata": {},
     "output_type": "display_data"
    },
    {
     "data": {
      "text/plain": [
       "\"DB: CLDRTO method: 1 - Solution at t = 8: found\""
      ]
     },
     "metadata": {},
     "output_type": "display_data"
    },
    {
     "name": "stdout",
     "output_type": "stream",
     "text": [
      "MC: 11>> Time: 9\n",
      "MC: 11>> Time: 10\n",
      "MC: 11>> Time: 11\n",
      "MC: 11>> Time: 12\n"
     ]
    },
    {
     "data": {
      "text/plain": [
       "\"DB: Nominal solution at t = 12: found\""
      ]
     },
     "metadata": {},
     "output_type": "display_data"
    },
    {
     "data": {
      "text/plain": [
       "\"DB: CLDRTO method: 1 - Solution at t = 12: found\""
      ]
     },
     "metadata": {},
     "output_type": "display_data"
    },
    {
     "name": "stdout",
     "output_type": "stream",
     "text": [
      "MC: 11>> Time: 13\n",
      "MC: 11>> Time: 14\n",
      "MC: 11>> Time: 15\n",
      "MC: 11>> Time: 16\n"
     ]
    },
    {
     "data": {
      "text/plain": [
       "\"DB: Nominal solution at t = 16: found\""
      ]
     },
     "metadata": {},
     "output_type": "display_data"
    },
    {
     "data": {
      "text/plain": [
       "\"DB: CLDRTO method: 1 - Solution at t = 16: found\""
      ]
     },
     "metadata": {},
     "output_type": "display_data"
    },
    {
     "name": "stdout",
     "output_type": "stream",
     "text": [
      "MC: 11>> Time: 17\n",
      "MC: 11>> Time: 18\n",
      "MC: 11>> Time: 19\n",
      "MC: 11>> Time: 20\n"
     ]
    },
    {
     "data": {
      "text/plain": [
       "\"DB: Nominal solution at t = 20: found\""
      ]
     },
     "metadata": {},
     "output_type": "display_data"
    },
    {
     "data": {
      "text/plain": [
       "\"DB: CLDRTO method: 1 - Solution at t = 20: found\""
      ]
     },
     "metadata": {},
     "output_type": "display_data"
    },
    {
     "data": {
      "text/plain": [
       "\"Nominal solution at t = 0: found\""
      ]
     },
     "metadata": {},
     "output_type": "display_data"
    },
    {
     "name": "stdout",
     "output_type": "stream",
     "text": [
      "MC: 11>> Time: 1\n"
     ]
    },
    {
     "data": {
      "text/plain": [
       "\"DB: opt. gap 1.000000005263681\""
      ]
     },
     "metadata": {},
     "output_type": "display_data"
    },
    {
     "data": {
      "text/plain": [
       "\">>>>>> iteration 1:O\""
      ]
     },
     "metadata": {},
     "output_type": "display_data"
    },
    {
     "data": {
      "text/plain": [
       "\"DB: opt. gap 0.00431106866548491\""
      ]
     },
     "metadata": {},
     "output_type": "display_data"
    },
    {
     "data": {
      "text/plain": [
       "\">>>>>> iteration 2:O\""
      ]
     },
     "metadata": {},
     "output_type": "display_data"
    },
    {
     "data": {
      "text/plain": [
       "\"DB: opt. gap 0.004100693528206623\""
      ]
     },
     "metadata": {},
     "output_type": "display_data"
    },
    {
     "data": {
      "text/plain": [
       "\">>>>>> iteration 3:O\""
      ]
     },
     "metadata": {},
     "output_type": "display_data"
    },
    {
     "data": {
      "text/plain": [
       "\"DB: random\""
      ]
     },
     "metadata": {},
     "output_type": "display_data"
    },
    {
     "data": {
      "text/plain": [
       "\"DB: opt. gap 2.461422659302831e-6\""
      ]
     },
     "metadata": {},
     "output_type": "display_data"
    },
    {
     "data": {
      "text/plain": [
       "\"DB: CLDRTO method: 2 - Solution at t = 1: found\""
      ]
     },
     "metadata": {},
     "output_type": "display_data"
    },
    {
     "name": "stdout",
     "output_type": "stream",
     "text": [
      "MC: 11>> Time: 2\n",
      "MC: 11>> Time: 3\n",
      "MC: 11>> Time: 4\n"
     ]
    },
    {
     "data": {
      "text/plain": [
       "\"DB: Nominal solution at t = 4: found\""
      ]
     },
     "metadata": {},
     "output_type": "display_data"
    },
    {
     "data": {
      "text/plain": [
       "\"DB: opt. gap 1.0000000283869352\""
      ]
     },
     "metadata": {},
     "output_type": "display_data"
    },
    {
     "data": {
      "text/plain": [
       "\">>>>>> iteration 1:O\""
      ]
     },
     "metadata": {},
     "output_type": "display_data"
    },
    {
     "data": {
      "text/plain": [
       "\"DB: opt. gap 0.013301307508817117\""
      ]
     },
     "metadata": {},
     "output_type": "display_data"
    },
    {
     "data": {
      "text/plain": [
       "\">>>>>> iteration 2:O\""
      ]
     },
     "metadata": {},
     "output_type": "display_data"
    },
    {
     "data": {
      "text/plain": [
       "\"DB: opt. gap 0.011294930018501249\""
      ]
     },
     "metadata": {},
     "output_type": "display_data"
    },
    {
     "data": {
      "text/plain": [
       "\">>>>>> iteration 3:O\""
      ]
     },
     "metadata": {},
     "output_type": "display_data"
    },
    {
     "data": {
      "text/plain": [
       "\"DB: opt. gap 7.032031792873362e-5\""
      ]
     },
     "metadata": {},
     "output_type": "display_data"
    },
    {
     "data": {
      "text/plain": [
       "\"DB: CLDRTO method: 2 - Solution at t = 4: found\""
      ]
     },
     "metadata": {},
     "output_type": "display_data"
    },
    {
     "name": "stdout",
     "output_type": "stream",
     "text": [
      "MC: 11>> Time: 5\n",
      "MC: 11>> Time: 6\n",
      "MC: 11>> Time: 7\n",
      "MC: 11>> Time: 8\n"
     ]
    },
    {
     "data": {
      "text/plain": [
       "\"DB: Nominal solution at t = 8: found\""
      ]
     },
     "metadata": {},
     "output_type": "display_data"
    },
    {
     "data": {
      "text/plain": [
       "\"DB: opt. gap 1.000000890388353\""
      ]
     },
     "metadata": {},
     "output_type": "display_data"
    },
    {
     "data": {
      "text/plain": [
       "\">>>>>> iteration 1:O\""
      ]
     },
     "metadata": {},
     "output_type": "display_data"
    },
    {
     "data": {
      "text/plain": [
       "\"DB: opt. gap 0.7419972315525837\""
      ]
     },
     "metadata": {},
     "output_type": "display_data"
    },
    {
     "data": {
      "text/plain": [
       "\">>>>>> iteration 2:O\""
      ]
     },
     "metadata": {},
     "output_type": "display_data"
    },
    {
     "data": {
      "text/plain": [
       "\"DB: opt. gap 0.5464982714758524\""
      ]
     },
     "metadata": {},
     "output_type": "display_data"
    },
    {
     "data": {
      "text/plain": [
       "\">>>>>> iteration 3:O\""
      ]
     },
     "metadata": {},
     "output_type": "display_data"
    },
    {
     "data": {
      "text/plain": [
       "\"DB: opt. gap 0.08282729465180617\""
      ]
     },
     "metadata": {},
     "output_type": "display_data"
    },
    {
     "data": {
      "text/plain": [
       "\">>>>>> iteration 4:O\""
      ]
     },
     "metadata": {},
     "output_type": "display_data"
    },
    {
     "data": {
      "text/plain": [
       "\"DB: opt. gap 0.034873547652554744\""
      ]
     },
     "metadata": {},
     "output_type": "display_data"
    },
    {
     "data": {
      "text/plain": [
       "\">>>>>> iteration 5:O\""
      ]
     },
     "metadata": {},
     "output_type": "display_data"
    },
    {
     "data": {
      "text/plain": [
       "\"DB: opt. gap 0.006575171435244665\""
      ]
     },
     "metadata": {},
     "output_type": "display_data"
    },
    {
     "data": {
      "text/plain": [
       "\">>>>>> iteration 6:O\""
      ]
     },
     "metadata": {},
     "output_type": "display_data"
    },
    {
     "data": {
      "text/plain": [
       "\"DB: opt. gap 0.001663505275366869\""
      ]
     },
     "metadata": {},
     "output_type": "display_data"
    },
    {
     "data": {
      "text/plain": [
       "\">>>>>> iteration 7:O\""
      ]
     },
     "metadata": {},
     "output_type": "display_data"
    },
    {
     "data": {
      "text/plain": [
       "\"DB: opt. gap 0.00041099209726219157\""
      ]
     },
     "metadata": {},
     "output_type": "display_data"
    },
    {
     "data": {
      "text/plain": [
       "\"DB: CLDRTO method: 2 - Solution at t = 8: found\""
      ]
     },
     "metadata": {},
     "output_type": "display_data"
    },
    {
     "name": "stdout",
     "output_type": "stream",
     "text": [
      "MC: 11>> Time: 9\n",
      "MC: 11>> Time: 10\n",
      "MC: 11>> Time: 11\n",
      "MC: 11>> Time: 12\n"
     ]
    },
    {
     "data": {
      "text/plain": [
       "\"DB: Nominal solution at t = 12: found\""
      ]
     },
     "metadata": {},
     "output_type": "display_data"
    },
    {
     "data": {
      "text/plain": [
       "\"DB: opt. gap 1.0000000090633865\""
      ]
     },
     "metadata": {},
     "output_type": "display_data"
    },
    {
     "data": {
      "text/plain": [
       "\">>>>>> iteration 1:O\""
      ]
     },
     "metadata": {},
     "output_type": "display_data"
    },
    {
     "data": {
      "text/plain": [
       "\"DB: opt. gap 0.11135754527731742\""
      ]
     },
     "metadata": {},
     "output_type": "display_data"
    },
    {
     "data": {
      "text/plain": [
       "\">>>>>> iteration 2:O\""
      ]
     },
     "metadata": {},
     "output_type": "display_data"
    },
    {
     "data": {
      "text/plain": [
       "\"DB: opt. gap 0.03643100585584904\""
      ]
     },
     "metadata": {},
     "output_type": "display_data"
    },
    {
     "data": {
      "text/plain": [
       "\">>>>>> iteration 3:O\""
      ]
     },
     "metadata": {},
     "output_type": "display_data"
    },
    {
     "data": {
      "text/plain": [
       "\"DB: opt. gap 0.009878306221263955\""
      ]
     },
     "metadata": {},
     "output_type": "display_data"
    },
    {
     "data": {
      "text/plain": [
       "\">>>>>> iteration 4:O\""
      ]
     },
     "metadata": {},
     "output_type": "display_data"
    },
    {
     "data": {
      "text/plain": [
       "\"DB: opt. gap 0.0025026842971457267\""
      ]
     },
     "metadata": {},
     "output_type": "display_data"
    },
    {
     "data": {
      "text/plain": [
       "\">>>>>> iteration 5:O\""
      ]
     },
     "metadata": {},
     "output_type": "display_data"
    },
    {
     "data": {
      "text/plain": [
       "\"DB: opt. gap 0.0006949966752364959\""
      ]
     },
     "metadata": {},
     "output_type": "display_data"
    },
    {
     "data": {
      "text/plain": [
       "\"DB: CLDRTO method: 2 - Solution at t = 12: found\""
      ]
     },
     "metadata": {},
     "output_type": "display_data"
    },
    {
     "name": "stdout",
     "output_type": "stream",
     "text": [
      "MC: 11>> Time: 13\n",
      "MC: 11>> Time: 14\n",
      "MC: 11>> Time: 15\n",
      "MC: 11>> Time: 16\n"
     ]
    },
    {
     "data": {
      "text/plain": [
       "\"DB: Nominal solution at t = 16: found\""
      ]
     },
     "metadata": {},
     "output_type": "display_data"
    },
    {
     "data": {
      "text/plain": [
       "\"DB: opt. gap 1.0000000182423077\""
      ]
     },
     "metadata": {},
     "output_type": "display_data"
    },
    {
     "data": {
      "text/plain": [
       "\">>>>>> iteration 1:O\""
      ]
     },
     "metadata": {},
     "output_type": "display_data"
    },
    {
     "data": {
      "text/plain": [
       "\"DB: opt. gap 0.025572942598229023\""
      ]
     },
     "metadata": {},
     "output_type": "display_data"
    },
    {
     "data": {
      "text/plain": [
       "\">>>>>> iteration 2:O\""
      ]
     },
     "metadata": {},
     "output_type": "display_data"
    },
    {
     "data": {
      "text/plain": [
       "\"DB: opt. gap 0.005953801869767539\""
      ]
     },
     "metadata": {},
     "output_type": "display_data"
    },
    {
     "data": {
      "text/plain": [
       "\">>>>>> iteration 3:O\""
      ]
     },
     "metadata": {},
     "output_type": "display_data"
    },
    {
     "data": {
      "text/plain": [
       "\"DB: opt. gap 0.0014684705561902349\""
      ]
     },
     "metadata": {},
     "output_type": "display_data"
    },
    {
     "data": {
      "text/plain": [
       "\">>>>>> iteration 4:O\""
      ]
     },
     "metadata": {},
     "output_type": "display_data"
    },
    {
     "data": {
      "text/plain": [
       "\"DB: opt. gap 0.0004105412087459658\""
      ]
     },
     "metadata": {},
     "output_type": "display_data"
    },
    {
     "data": {
      "text/plain": [
       "\"DB: CLDRTO method: 2 - Solution at t = 16: found\""
      ]
     },
     "metadata": {},
     "output_type": "display_data"
    },
    {
     "name": "stdout",
     "output_type": "stream",
     "text": [
      "MC: 11>> Time: 17\n",
      "MC: 11>> Time: 18\n",
      "MC: 11>> Time: 19\n",
      "MC: 11>> Time: 20\n"
     ]
    },
    {
     "data": {
      "text/plain": [
       "\"DB: Nominal solution at t = 20: found\""
      ]
     },
     "metadata": {},
     "output_type": "display_data"
    },
    {
     "data": {
      "text/plain": [
       "\"DB: opt. gap 1.0000000239386793\""
      ]
     },
     "metadata": {},
     "output_type": "display_data"
    },
    {
     "data": {
      "text/plain": [
       "\">>>>>> iteration 1:O\""
      ]
     },
     "metadata": {},
     "output_type": "display_data"
    },
    {
     "data": {
      "text/plain": [
       "\"DB: opt. gap 0.0263979276621967\""
      ]
     },
     "metadata": {},
     "output_type": "display_data"
    },
    {
     "data": {
      "text/plain": [
       "\">>>>>> iteration 2:O\""
      ]
     },
     "metadata": {},
     "output_type": "display_data"
    },
    {
     "data": {
      "text/plain": [
       "\"DB: opt. gap 0.006389171284286416\""
      ]
     },
     "metadata": {},
     "output_type": "display_data"
    },
    {
     "data": {
      "text/plain": [
       "\">>>>>> iteration 3:O\""
      ]
     },
     "metadata": {},
     "output_type": "display_data"
    },
    {
     "data": {
      "text/plain": [
       "\"DB: opt. gap 0.0016188653916299927\""
      ]
     },
     "metadata": {},
     "output_type": "display_data"
    },
    {
     "data": {
      "text/plain": [
       "\">>>>>> iteration 4:O\""
      ]
     },
     "metadata": {},
     "output_type": "display_data"
    },
    {
     "data": {
      "text/plain": [
       "\"DB: opt. gap 0.00044509060606153053\""
      ]
     },
     "metadata": {},
     "output_type": "display_data"
    },
    {
     "data": {
      "text/plain": [
       "\"DB: CLDRTO method: 2 - Solution at t = 20: found\""
      ]
     },
     "metadata": {},
     "output_type": "display_data"
    },
    {
     "data": {
      "text/plain": [
       "\"DB: MC iter. 12 --> Plant parameter = 0.7469584631799531\""
      ]
     },
     "metadata": {},
     "output_type": "display_data"
    },
    {
     "data": {
      "text/plain": [
       "\"Nominal solution at t = 0: found\""
      ]
     },
     "metadata": {},
     "output_type": "display_data"
    },
    {
     "name": "stdout",
     "output_type": "stream",
     "text": [
      "MC: 12>> Time: 1\n"
     ]
    },
    {
     "data": {
      "text/plain": [
       "\"DB: CLDRTO method: 1 - Solution at t = 1: found\""
      ]
     },
     "metadata": {},
     "output_type": "display_data"
    },
    {
     "name": "stdout",
     "output_type": "stream",
     "text": [
      "MC: 12>> Time: 2\n",
      "MC: 12>> Time: 3\n",
      "MC: 12>> Time: 4\n"
     ]
    },
    {
     "data": {
      "text/plain": [
       "\"DB: Nominal solution at t = 4: found\""
      ]
     },
     "metadata": {},
     "output_type": "display_data"
    },
    {
     "data": {
      "text/plain": [
       "\"DB: CLDRTO method: 1 - Solution at t = 4: found\""
      ]
     },
     "metadata": {},
     "output_type": "display_data"
    },
    {
     "name": "stdout",
     "output_type": "stream",
     "text": [
      "MC: 12>> Time: 5\n",
      "MC: 12>> Time: 6\n",
      "MC: 12>> Time: 7\n",
      "MC: 12>> Time: 8\n"
     ]
    },
    {
     "data": {
      "text/plain": [
       "\"DB: Nominal solution at t = 8: found\""
      ]
     },
     "metadata": {},
     "output_type": "display_data"
    },
    {
     "data": {
      "text/plain": [
       "\"DB: CLDRTO method: 1 - Solution at t = 8: found\""
      ]
     },
     "metadata": {},
     "output_type": "display_data"
    },
    {
     "name": "stdout",
     "output_type": "stream",
     "text": [
      "MC: 12>> Time: 9\n",
      "MC: 12>> Time: 10\n",
      "MC: 12>> Time: 11\n",
      "MC: 12>> Time: 12\n"
     ]
    },
    {
     "data": {
      "text/plain": [
       "\"DB: Nominal solution at t = 12: found\""
      ]
     },
     "metadata": {},
     "output_type": "display_data"
    },
    {
     "data": {
      "text/plain": [
       "\"DB: CLDRTO method: 1 - Solution at t = 12: found\""
      ]
     },
     "metadata": {},
     "output_type": "display_data"
    },
    {
     "name": "stdout",
     "output_type": "stream",
     "text": [
      "MC: 12>> Time: 13\n",
      "MC: 12>> Time: 14\n",
      "MC: 12>> Time: 15\n",
      "MC: 12>> Time: 16\n"
     ]
    },
    {
     "data": {
      "text/plain": [
       "\"DB: Nominal solution at t = 16: found\""
      ]
     },
     "metadata": {},
     "output_type": "display_data"
    },
    {
     "data": {
      "text/plain": [
       "\"DB: CLDRTO method: 1 - Solution at t = 16: found\""
      ]
     },
     "metadata": {},
     "output_type": "display_data"
    },
    {
     "name": "stdout",
     "output_type": "stream",
     "text": [
      "MC: 12>> Time: 17\n",
      "MC: 12>> Time: 18\n",
      "MC: 12>> Time: 19\n",
      "MC: 12>> Time: 20\n"
     ]
    },
    {
     "data": {
      "text/plain": [
       "\"DB: Nominal solution at t = 20: found\""
      ]
     },
     "metadata": {},
     "output_type": "display_data"
    },
    {
     "data": {
      "text/plain": [
       "\"DB: CLDRTO method: 1 - Solution at t = 20: found\""
      ]
     },
     "metadata": {},
     "output_type": "display_data"
    },
    {
     "data": {
      "text/plain": [
       "\"Nominal solution at t = 0: found\""
      ]
     },
     "metadata": {},
     "output_type": "display_data"
    },
    {
     "name": "stdout",
     "output_type": "stream",
     "text": [
      "MC: 12>> Time: 1\n"
     ]
    },
    {
     "data": {
      "text/plain": [
       "\"DB: opt. gap 1.000000005263681\""
      ]
     },
     "metadata": {},
     "output_type": "display_data"
    },
    {
     "data": {
      "text/plain": [
       "\">>>>>> iteration 1:O\""
      ]
     },
     "metadata": {},
     "output_type": "display_data"
    },
    {
     "data": {
      "text/plain": [
       "\"DB: opt. gap 0.00431106866548491\""
      ]
     },
     "metadata": {},
     "output_type": "display_data"
    },
    {
     "data": {
      "text/plain": [
       "\">>>>>> iteration 2:O\""
      ]
     },
     "metadata": {},
     "output_type": "display_data"
    },
    {
     "data": {
      "text/plain": [
       "\"DB: opt. gap 0.004100693528206623\""
      ]
     },
     "metadata": {},
     "output_type": "display_data"
    },
    {
     "data": {
      "text/plain": [
       "\">>>>>> iteration 3:O\""
      ]
     },
     "metadata": {},
     "output_type": "display_data"
    },
    {
     "data": {
      "text/plain": [
       "\"DB: random\""
      ]
     },
     "metadata": {},
     "output_type": "display_data"
    },
    {
     "data": {
      "text/plain": [
       "\"DB: opt. gap 2.461371822736268e-6\""
      ]
     },
     "metadata": {},
     "output_type": "display_data"
    },
    {
     "data": {
      "text/plain": [
       "\"DB: CLDRTO method: 2 - Solution at t = 1: found\""
      ]
     },
     "metadata": {},
     "output_type": "display_data"
    },
    {
     "name": "stdout",
     "output_type": "stream",
     "text": [
      "MC: 12>> Time: 2\n",
      "MC: 12>> Time: 3\n",
      "MC: 12>> Time: 4\n"
     ]
    },
    {
     "data": {
      "text/plain": [
       "\"DB: Nominal solution at t = 4: found\""
      ]
     },
     "metadata": {},
     "output_type": "display_data"
    },
    {
     "data": {
      "text/plain": [
       "\"DB: opt. gap 1.0000000270987421\""
      ]
     },
     "metadata": {},
     "output_type": "display_data"
    },
    {
     "data": {
      "text/plain": [
       "\">>>>>> iteration 1:O\""
      ]
     },
     "metadata": {},
     "output_type": "display_data"
    },
    {
     "data": {
      "text/plain": [
       "\"DB: opt. gap 0.011781664915246976\""
      ]
     },
     "metadata": {},
     "output_type": "display_data"
    },
    {
     "data": {
      "text/plain": [
       "\">>>>>> iteration 2:O\""
      ]
     },
     "metadata": {},
     "output_type": "display_data"
    },
    {
     "data": {
      "text/plain": [
       "\"DB: opt. gap 0.009992508528271394\""
      ]
     },
     "metadata": {},
     "output_type": "display_data"
    },
    {
     "data": {
      "text/plain": [
       "\">>>>>> iteration 3:O\""
      ]
     },
     "metadata": {},
     "output_type": "display_data"
    },
    {
     "data": {
      "text/plain": [
       "\"DB: opt. gap 6.414053504437705e-5\""
      ]
     },
     "metadata": {},
     "output_type": "display_data"
    },
    {
     "data": {
      "text/plain": [
       "\"DB: CLDRTO method: 2 - Solution at t = 4: found\""
      ]
     },
     "metadata": {},
     "output_type": "display_data"
    },
    {
     "name": "stdout",
     "output_type": "stream",
     "text": [
      "MC: 12>> Time: 5\n",
      "MC: 12>> Time: 6\n",
      "MC: 12>> Time: 7\n",
      "MC: 12>> Time: 8\n"
     ]
    },
    {
     "data": {
      "text/plain": [
       "\"DB: Nominal solution at t = 8: found\""
      ]
     },
     "metadata": {},
     "output_type": "display_data"
    },
    {
     "data": {
      "text/plain": [
       "\"DB: opt. gap 1.0000019751468756\""
      ]
     },
     "metadata": {},
     "output_type": "display_data"
    },
    {
     "data": {
      "text/plain": [
       "\">>>>>> iteration 1:O\""
      ]
     },
     "metadata": {},
     "output_type": "display_data"
    },
    {
     "data": {
      "text/plain": [
       "\"DB: opt. gap 1.0000018913290998\""
      ]
     },
     "metadata": {},
     "output_type": "display_data"
    },
    {
     "data": {
      "text/plain": [
       "\">>>>>> iteration 2:O\""
      ]
     },
     "metadata": {},
     "output_type": "display_data"
    },
    {
     "data": {
      "text/plain": [
       "\"DB: random\""
      ]
     },
     "metadata": {},
     "output_type": "display_data"
    },
    {
     "data": {
      "text/plain": [
       "\"DB: opt. gap 0.08472606272169163\""
      ]
     },
     "metadata": {},
     "output_type": "display_data"
    },
    {
     "data": {
      "text/plain": [
       "\">>>>>> iteration 3:O\""
      ]
     },
     "metadata": {},
     "output_type": "display_data"
    },
    {
     "data": {
      "text/plain": [
       "\"DB: opt. gap 0.05416154337320641\""
      ]
     },
     "metadata": {},
     "output_type": "display_data"
    },
    {
     "data": {
      "text/plain": [
       "\">>>>>> iteration 4:O\""
      ]
     },
     "metadata": {},
     "output_type": "display_data"
    },
    {
     "data": {
      "text/plain": [
       "\"DB: opt. gap 0.05511714805907251\""
      ]
     },
     "metadata": {},
     "output_type": "display_data"
    },
    {
     "data": {
      "text/plain": [
       "\">>>>>> iteration 5:O\""
      ]
     },
     "metadata": {},
     "output_type": "display_data"
    },
    {
     "data": {
      "text/plain": [
       "\"DB: random\""
      ]
     },
     "metadata": {},
     "output_type": "display_data"
    },
    {
     "data": {
      "text/plain": [
       "\"DB: opt. gap 0.00954244473596161\""
      ]
     },
     "metadata": {},
     "output_type": "display_data"
    },
    {
     "data": {
      "text/plain": [
       "\">>>>>> iteration 6:O\""
      ]
     },
     "metadata": {},
     "output_type": "display_data"
    },
    {
     "data": {
      "text/plain": [
       "\"DB: opt. gap 0.0015466982756675047\""
      ]
     },
     "metadata": {},
     "output_type": "display_data"
    },
    {
     "data": {
      "text/plain": [
       "\">>>>>> iteration 7:O\""
      ]
     },
     "metadata": {},
     "output_type": "display_data"
    },
    {
     "data": {
      "text/plain": [
       "\"DB: opt. gap 0.00042061757439022676\""
      ]
     },
     "metadata": {},
     "output_type": "display_data"
    },
    {
     "data": {
      "text/plain": [
       "\"DB: CLDRTO method: 2 - Solution at t = 8: found\""
      ]
     },
     "metadata": {},
     "output_type": "display_data"
    },
    {
     "name": "stdout",
     "output_type": "stream",
     "text": [
      "MC: 12>> Time: 9\n",
      "MC: 12>> Time: 10\n",
      "MC: 12>> Time: 11\n",
      "MC: 12>> Time: 12\n"
     ]
    },
    {
     "data": {
      "text/plain": [
       "\"DB: Nominal solution at t = 12: found\""
      ]
     },
     "metadata": {},
     "output_type": "display_data"
    },
    {
     "data": {
      "text/plain": [
       "\"DB: opt. gap 1.0000000201271426\""
      ]
     },
     "metadata": {},
     "output_type": "display_data"
    },
    {
     "data": {
      "text/plain": [
       "\">>>>>> iteration 1:O\""
      ]
     },
     "metadata": {},
     "output_type": "display_data"
    },
    {
     "data": {
      "text/plain": [
       "\"DB: opt. gap 0.15534172251294226\""
      ]
     },
     "metadata": {},
     "output_type": "display_data"
    },
    {
     "data": {
      "text/plain": [
       "\">>>>>> iteration 2:O\""
      ]
     },
     "metadata": {},
     "output_type": "display_data"
    },
    {
     "data": {
      "text/plain": [
       "\"DB: opt. gap 0.05189991200656554\""
      ]
     },
     "metadata": {},
     "output_type": "display_data"
    },
    {
     "data": {
      "text/plain": [
       "\">>>>>> iteration 3:O\""
      ]
     },
     "metadata": {},
     "output_type": "display_data"
    },
    {
     "data": {
      "text/plain": [
       "\"DB: opt. gap 0.014308131500805154\""
      ]
     },
     "metadata": {},
     "output_type": "display_data"
    },
    {
     "data": {
      "text/plain": [
       "\">>>>>> iteration 4:O\""
      ]
     },
     "metadata": {},
     "output_type": "display_data"
    },
    {
     "data": {
      "text/plain": [
       "\"DB: opt. gap 0.0037970428161975653\""
      ]
     },
     "metadata": {},
     "output_type": "display_data"
    },
    {
     "data": {
      "text/plain": [
       "\">>>>>> iteration 5:O\""
      ]
     },
     "metadata": {},
     "output_type": "display_data"
    },
    {
     "data": {
      "text/plain": [
       "\"DB: opt. gap 0.0010228596862234044\""
      ]
     },
     "metadata": {},
     "output_type": "display_data"
    },
    {
     "data": {
      "text/plain": [
       "\">>>>>> iteration 6:O\""
      ]
     },
     "metadata": {},
     "output_type": "display_data"
    },
    {
     "data": {
      "text/plain": [
       "\"DB: opt. gap 0.0003428617368979235\""
      ]
     },
     "metadata": {},
     "output_type": "display_data"
    },
    {
     "data": {
      "text/plain": [
       "\"DB: CLDRTO method: 2 - Solution at t = 12: found\""
      ]
     },
     "metadata": {},
     "output_type": "display_data"
    },
    {
     "name": "stdout",
     "output_type": "stream",
     "text": [
      "MC: 12>> Time: 13\n",
      "MC: 12>> Time: 14\n",
      "MC: 12>> Time: 15\n",
      "MC: 12>> Time: 16\n"
     ]
    },
    {
     "data": {
      "text/plain": [
       "\"DB: Nominal solution at t = 16: found\""
      ]
     },
     "metadata": {},
     "output_type": "display_data"
    },
    {
     "data": {
      "text/plain": [
       "\"DB: opt. gap 1.0000000332218042\""
      ]
     },
     "metadata": {},
     "output_type": "display_data"
    },
    {
     "data": {
      "text/plain": [
       "\">>>>>> iteration 1:O\""
      ]
     },
     "metadata": {},
     "output_type": "display_data"
    },
    {
     "data": {
      "text/plain": [
       "\"DB: opt. gap 0.0029601899618825482\""
      ]
     },
     "metadata": {},
     "output_type": "display_data"
    },
    {
     "data": {
      "text/plain": [
       "\">>>>>> iteration 2:O\""
      ]
     },
     "metadata": {},
     "output_type": "display_data"
    },
    {
     "data": {
      "text/plain": [
       "\"DB: opt. gap 0.0008722954421084236\""
      ]
     },
     "metadata": {},
     "output_type": "display_data"
    },
    {
     "data": {
      "text/plain": [
       "\"DB: CLDRTO method: 2 - Solution at t = 16: found\""
      ]
     },
     "metadata": {},
     "output_type": "display_data"
    },
    {
     "name": "stdout",
     "output_type": "stream",
     "text": [
      "MC: 12>> Time: 17\n",
      "MC: 12>> Time: 18\n",
      "MC: 12>> Time: 19\n",
      "MC: 12>> Time: 20\n"
     ]
    },
    {
     "data": {
      "text/plain": [
       "\"DB: Nominal solution at t = 20: found\""
      ]
     },
     "metadata": {},
     "output_type": "display_data"
    },
    {
     "data": {
      "text/plain": [
       "\"DB: opt. gap 1.0000000613205062\""
      ]
     },
     "metadata": {},
     "output_type": "display_data"
    },
    {
     "data": {
      "text/plain": [
       "\">>>>>> iteration 1:O\""
      ]
     },
     "metadata": {},
     "output_type": "display_data"
    },
    {
     "data": {
      "text/plain": [
       "\"DB: opt. gap 0.043129691108094004\""
      ]
     },
     "metadata": {},
     "output_type": "display_data"
    },
    {
     "data": {
      "text/plain": [
       "\">>>>>> iteration 2:O\""
      ]
     },
     "metadata": {},
     "output_type": "display_data"
    },
    {
     "data": {
      "text/plain": [
       "\"DB: opt. gap 0.008991662320370714\""
      ]
     },
     "metadata": {},
     "output_type": "display_data"
    },
    {
     "data": {
      "text/plain": [
       "\">>>>>> iteration 3:O\""
      ]
     },
     "metadata": {},
     "output_type": "display_data"
    },
    {
     "data": {
      "text/plain": [
       "\"DB: opt. gap 0.001605382857123304\""
      ]
     },
     "metadata": {},
     "output_type": "display_data"
    },
    {
     "data": {
      "text/plain": [
       "\">>>>>> iteration 4:O\""
      ]
     },
     "metadata": {},
     "output_type": "display_data"
    },
    {
     "data": {
      "text/plain": [
       "\"DB: opt. gap 0.0005007163472863529\""
      ]
     },
     "metadata": {},
     "output_type": "display_data"
    },
    {
     "data": {
      "text/plain": [
       "\"DB: CLDRTO method: 2 - Solution at t = 20: found\""
      ]
     },
     "metadata": {},
     "output_type": "display_data"
    },
    {
     "data": {
      "text/plain": [
       "\"DB: MC iter. 13 --> Plant parameter = 0.7010799787893395\""
      ]
     },
     "metadata": {},
     "output_type": "display_data"
    },
    {
     "data": {
      "text/plain": [
       "\"Nominal solution at t = 0: found\""
      ]
     },
     "metadata": {},
     "output_type": "display_data"
    },
    {
     "name": "stdout",
     "output_type": "stream",
     "text": [
      "MC: 13>> Time: 1\n"
     ]
    },
    {
     "data": {
      "text/plain": [
       "\"DB: CLDRTO method: 1 - Solution at t = 1: found\""
      ]
     },
     "metadata": {},
     "output_type": "display_data"
    },
    {
     "name": "stdout",
     "output_type": "stream",
     "text": [
      "MC: 13>> Time: 2\n",
      "MC: 13>> Time: 3\n",
      "MC: 13>> Time: 4\n"
     ]
    },
    {
     "data": {
      "text/plain": [
       "\"DB: Nominal solution at t = 4: found\""
      ]
     },
     "metadata": {},
     "output_type": "display_data"
    },
    {
     "data": {
      "text/plain": [
       "\"DB: CLDRTO method: 1 - Solution at t = 4: found\""
      ]
     },
     "metadata": {},
     "output_type": "display_data"
    },
    {
     "name": "stdout",
     "output_type": "stream",
     "text": [
      "MC: 13>> Time: 5\n",
      "MC: 13>> Time: 6\n",
      "MC: 13>> Time: 7\n",
      "MC: 13>> Time: 8\n"
     ]
    },
    {
     "data": {
      "text/plain": [
       "\"DB: Nominal solution at t = 8: found\""
      ]
     },
     "metadata": {},
     "output_type": "display_data"
    },
    {
     "data": {
      "text/plain": [
       "\"DB: CLDRTO method: 1 - Solution at t = 8: found\""
      ]
     },
     "metadata": {},
     "output_type": "display_data"
    },
    {
     "name": "stdout",
     "output_type": "stream",
     "text": [
      "MC: 13>> Time: 9\n",
      "MC: 13>> Time: 10\n",
      "MC: 13>> Time: 11\n",
      "MC: 13>> Time: 12\n"
     ]
    },
    {
     "data": {
      "text/plain": [
       "\"DB: Nominal solution at t = 12: found\""
      ]
     },
     "metadata": {},
     "output_type": "display_data"
    },
    {
     "data": {
      "text/plain": [
       "\"DB: CLDRTO method: 1 - Solution at t = 12: found\""
      ]
     },
     "metadata": {},
     "output_type": "display_data"
    },
    {
     "name": "stdout",
     "output_type": "stream",
     "text": [
      "MC: 13>> Time: 13\n",
      "MC: 13>> Time: 14\n",
      "MC: 13>> Time: 15\n",
      "MC: 13>> Time: 16\n"
     ]
    },
    {
     "data": {
      "text/plain": [
       "\"DB: Nominal solution at t = 16: found\""
      ]
     },
     "metadata": {},
     "output_type": "display_data"
    },
    {
     "data": {
      "text/plain": [
       "\"DB: CLDRTO method: 1 - Solution at t = 16: found\""
      ]
     },
     "metadata": {},
     "output_type": "display_data"
    },
    {
     "name": "stdout",
     "output_type": "stream",
     "text": [
      "MC: 13>> Time: 17\n",
      "MC: 13>> Time: 18\n",
      "MC: 13>> Time: 19\n",
      "MC: 13>> Time: 20\n"
     ]
    },
    {
     "data": {
      "text/plain": [
       "\"DB: Nominal solution at t = 20: found\""
      ]
     },
     "metadata": {},
     "output_type": "display_data"
    },
    {
     "data": {
      "text/plain": [
       "\"DB: CLDRTO method: 1 - Solution at t = 20: found\""
      ]
     },
     "metadata": {},
     "output_type": "display_data"
    },
    {
     "data": {
      "text/plain": [
       "\"Nominal solution at t = 0: found\""
      ]
     },
     "metadata": {},
     "output_type": "display_data"
    },
    {
     "name": "stdout",
     "output_type": "stream",
     "text": [
      "MC: 13>> Time: 1\n"
     ]
    },
    {
     "data": {
      "text/plain": [
       "\"DB: opt. gap 1.000000005263681\""
      ]
     },
     "metadata": {},
     "output_type": "display_data"
    },
    {
     "data": {
      "text/plain": [
       "\">>>>>> iteration 1:O\""
      ]
     },
     "metadata": {},
     "output_type": "display_data"
    },
    {
     "data": {
      "text/plain": [
       "\"DB: opt. gap 0.00431106866548491\""
      ]
     },
     "metadata": {},
     "output_type": "display_data"
    },
    {
     "data": {
      "text/plain": [
       "\">>>>>> iteration 2:O\""
      ]
     },
     "metadata": {},
     "output_type": "display_data"
    },
    {
     "data": {
      "text/plain": [
       "\"DB: opt. gap 0.004100693528206623\""
      ]
     },
     "metadata": {},
     "output_type": "display_data"
    },
    {
     "data": {
      "text/plain": [
       "\">>>>>> iteration 3:O\""
      ]
     },
     "metadata": {},
     "output_type": "display_data"
    },
    {
     "data": {
      "text/plain": [
       "\"DB: random\""
      ]
     },
     "metadata": {},
     "output_type": "display_data"
    },
    {
     "data": {
      "text/plain": [
       "\"DB: opt. gap 2.4611888571099647e-6\""
      ]
     },
     "metadata": {},
     "output_type": "display_data"
    },
    {
     "data": {
      "text/plain": [
       "\"DB: CLDRTO method: 2 - Solution at t = 1: found\""
      ]
     },
     "metadata": {},
     "output_type": "display_data"
    },
    {
     "name": "stdout",
     "output_type": "stream",
     "text": [
      "MC: 13>> Time: 2\n",
      "MC: 13>> Time: 3\n",
      "MC: 13>> Time: 4\n"
     ]
    },
    {
     "data": {
      "text/plain": [
       "\"DB: Nominal solution at t = 4: found\""
      ]
     },
     "metadata": {},
     "output_type": "display_data"
    },
    {
     "data": {
      "text/plain": [
       "\"DB: opt. gap 1.0000000243401417\""
      ]
     },
     "metadata": {},
     "output_type": "display_data"
    },
    {
     "data": {
      "text/plain": [
       "\">>>>>> iteration 1:O\""
      ]
     },
     "metadata": {},
     "output_type": "display_data"
    },
    {
     "data": {
      "text/plain": [
       "\"DB: opt. gap 0.0123322890510029\""
      ]
     },
     "metadata": {},
     "output_type": "display_data"
    },
    {
     "data": {
      "text/plain": [
       "\">>>>>> iteration 2:O\""
      ]
     },
     "metadata": {},
     "output_type": "display_data"
    },
    {
     "data": {
      "text/plain": [
       "\"DB: opt. gap 0.011401981583430419\""
      ]
     },
     "metadata": {},
     "output_type": "display_data"
    },
    {
     "data": {
      "text/plain": [
       "\">>>>>> iteration 3:O\""
      ]
     },
     "metadata": {},
     "output_type": "display_data"
    },
    {
     "data": {
      "text/plain": [
       "\"DB: random\""
      ]
     },
     "metadata": {},
     "output_type": "display_data"
    },
    {
     "data": {
      "text/plain": [
       "\"DB: opt. gap 1.0105620392308207e-5\""
      ]
     },
     "metadata": {},
     "output_type": "display_data"
    },
    {
     "data": {
      "text/plain": [
       "\"DB: CLDRTO method: 2 - Solution at t = 4: found\""
      ]
     },
     "metadata": {},
     "output_type": "display_data"
    },
    {
     "name": "stdout",
     "output_type": "stream",
     "text": [
      "MC: 13>> Time: 5\n",
      "MC: 13>> Time: 6\n",
      "MC: 13>> Time: 7\n",
      "MC: 13>> Time: 8\n"
     ]
    },
    {
     "data": {
      "text/plain": [
       "\"DB: Nominal solution at t = 8: found\""
      ]
     },
     "metadata": {},
     "output_type": "display_data"
    },
    {
     "data": {
      "text/plain": [
       "\"DB: opt. gap 1.0000315145849403\""
      ]
     },
     "metadata": {},
     "output_type": "display_data"
    },
    {
     "data": {
      "text/plain": [
       "\">>>>>> iteration 1:O\""
      ]
     },
     "metadata": {},
     "output_type": "display_data"
    },
    {
     "data": {
      "text/plain": [
       "\"DB: opt. gap 1.0000313236372356\""
      ]
     },
     "metadata": {},
     "output_type": "display_data"
    },
    {
     "data": {
      "text/plain": [
       "\">>>>>> iteration 2:O\""
      ]
     },
     "metadata": {},
     "output_type": "display_data"
    },
    {
     "data": {
      "text/plain": [
       "\"DB: random\""
      ]
     },
     "metadata": {},
     "output_type": "display_data"
    },
    {
     "data": {
      "text/plain": [
       "\"DB: opt. gap 0.0830443707086589\""
      ]
     },
     "metadata": {},
     "output_type": "display_data"
    },
    {
     "data": {
      "text/plain": [
       "\">>>>>> iteration 3:O\""
      ]
     },
     "metadata": {},
     "output_type": "display_data"
    },
    {
     "data": {
      "text/plain": [
       "\"DB: opt. gap 0.057574833337686586\""
      ]
     },
     "metadata": {},
     "output_type": "display_data"
    },
    {
     "data": {
      "text/plain": [
       "\">>>>>> iteration 4:O\""
      ]
     },
     "metadata": {},
     "output_type": "display_data"
    },
    {
     "data": {
      "text/plain": [
       "\"DB: opt. gap 0.05702144976770503\""
      ]
     },
     "metadata": {},
     "output_type": "display_data"
    },
    {
     "data": {
      "text/plain": [
       "\">>>>>> iteration 5:O\""
      ]
     },
     "metadata": {},
     "output_type": "display_data"
    },
    {
     "data": {
      "text/plain": [
       "\"DB: random\""
      ]
     },
     "metadata": {},
     "output_type": "display_data"
    },
    {
     "data": {
      "text/plain": [
       "\"DB: opt. gap 0.026227790493534364\""
      ]
     },
     "metadata": {},
     "output_type": "display_data"
    },
    {
     "data": {
      "text/plain": [
       "\">>>>>> iteration 6:O\""
      ]
     },
     "metadata": {},
     "output_type": "display_data"
    },
    {
     "data": {
      "text/plain": [
       "\"DB: opt. gap 0.012798886377287755\""
      ]
     },
     "metadata": {},
     "output_type": "display_data"
    },
    {
     "data": {
      "text/plain": [
       "\">>>>>> iteration 7:O\""
      ]
     },
     "metadata": {},
     "output_type": "display_data"
    },
    {
     "data": {
      "text/plain": [
       "\"DB: opt. gap 0.006705443906795937\""
      ]
     },
     "metadata": {},
     "output_type": "display_data"
    },
    {
     "data": {
      "text/plain": [
       "\">>>>>> iteration 8:O\""
      ]
     },
     "metadata": {},
     "output_type": "display_data"
    },
    {
     "data": {
      "text/plain": [
       "\"DB: opt. gap 0.002666163177896197\""
      ]
     },
     "metadata": {},
     "output_type": "display_data"
    },
    {
     "data": {
      "text/plain": [
       "\">>>>>> iteration 9:O\""
      ]
     },
     "metadata": {},
     "output_type": "display_data"
    },
    {
     "data": {
      "text/plain": [
       "\"DB: opt. gap 0.005328140973028267\""
      ]
     },
     "metadata": {},
     "output_type": "display_data"
    },
    {
     "data": {
      "text/plain": [
       "\">>>>>> iteration 10:O\""
      ]
     },
     "metadata": {},
     "output_type": "display_data"
    },
    {
     "data": {
      "text/plain": [
       "\"DB: opt. gap 0.0028365401921966963\""
      ]
     },
     "metadata": {},
     "output_type": "display_data"
    },
    {
     "data": {
      "text/plain": [
       "\">>>>>> iteration 11:O\""
      ]
     },
     "metadata": {},
     "output_type": "display_data"
    },
    {
     "data": {
      "text/plain": [
       "\"DB: opt. gap 0.00017006773208363808\""
      ]
     },
     "metadata": {},
     "output_type": "display_data"
    },
    {
     "data": {
      "text/plain": [
       "\"DB: CLDRTO method: 2 - Solution at t = 8: found\""
      ]
     },
     "metadata": {},
     "output_type": "display_data"
    },
    {
     "name": "stdout",
     "output_type": "stream",
     "text": [
      "MC: 13>> Time: 9\n",
      "MC: 13>> Time: 10\n",
      "MC: 13>> Time: 11\n",
      "MC: 13>> Time: 12\n"
     ]
    },
    {
     "data": {
      "text/plain": [
       "\"DB: Nominal solution at t = 12: found\""
      ]
     },
     "metadata": {},
     "output_type": "display_data"
    },
    {
     "data": {
      "text/plain": [
       "\"DB: opt. gap 1.000000469695645\""
      ]
     },
     "metadata": {},
     "output_type": "display_data"
    },
    {
     "data": {
      "text/plain": [
       "\">>>>>> iteration 1:O\""
      ]
     },
     "metadata": {},
     "output_type": "display_data"
    },
    {
     "data": {
      "text/plain": [
       "\"DB: opt. gap 0.6785233653613204\""
      ]
     },
     "metadata": {},
     "output_type": "display_data"
    },
    {
     "data": {
      "text/plain": [
       "\">>>>>> iteration 2:O\""
      ]
     },
     "metadata": {},
     "output_type": "display_data"
    },
    {
     "data": {
      "text/plain": [
       "\"DB: opt. gap 0.37281262595792963\""
      ]
     },
     "metadata": {},
     "output_type": "display_data"
    },
    {
     "data": {
      "text/plain": [
       "\">>>>>> iteration 3:O\""
      ]
     },
     "metadata": {},
     "output_type": "display_data"
    },
    {
     "data": {
      "text/plain": [
       "\"DB: opt. gap 0.14019263035567697\""
      ]
     },
     "metadata": {},
     "output_type": "display_data"
    },
    {
     "data": {
      "text/plain": [
       "\">>>>>> iteration 4:O\""
      ]
     },
     "metadata": {},
     "output_type": "display_data"
    },
    {
     "data": {
      "text/plain": [
       "\"DB: opt. gap 0.04042682029133794\""
      ]
     },
     "metadata": {},
     "output_type": "display_data"
    },
    {
     "data": {
      "text/plain": [
       "\">>>>>> iteration 5:O\""
      ]
     },
     "metadata": {},
     "output_type": "display_data"
    },
    {
     "data": {
      "text/plain": [
       "\"DB: opt. gap 0.011473959498014226\""
      ]
     },
     "metadata": {},
     "output_type": "display_data"
    },
    {
     "data": {
      "text/plain": [
       "\">>>>>> iteration 6:O\""
      ]
     },
     "metadata": {},
     "output_type": "display_data"
    },
    {
     "data": {
      "text/plain": [
       "\"DB: opt. gap 0.0031826924472343238\""
      ]
     },
     "metadata": {},
     "output_type": "display_data"
    },
    {
     "data": {
      "text/plain": [
       "\">>>>>> iteration 7:O\""
      ]
     },
     "metadata": {},
     "output_type": "display_data"
    },
    {
     "data": {
      "text/plain": [
       "\"DB: opt. gap 0.0011596637650787198\""
      ]
     },
     "metadata": {},
     "output_type": "display_data"
    },
    {
     "data": {
      "text/plain": [
       "\">>>>>> iteration 8:O\""
      ]
     },
     "metadata": {},
     "output_type": "display_data"
    },
    {
     "data": {
      "text/plain": [
       "\"DB: opt. gap 0.00029565245794203643\""
      ]
     },
     "metadata": {},
     "output_type": "display_data"
    },
    {
     "data": {
      "text/plain": [
       "\"DB: CLDRTO method: 2 - Solution at t = 12: found\""
      ]
     },
     "metadata": {},
     "output_type": "display_data"
    },
    {
     "name": "stdout",
     "output_type": "stream",
     "text": [
      "MC: 13>> Time: 13\n",
      "MC: 13>> Time: 14\n",
      "MC: 13>> Time: 15\n",
      "MC: 13>> Time: 16\n"
     ]
    },
    {
     "data": {
      "text/plain": [
       "\"DB: Nominal solution at t = 16: found\""
      ]
     },
     "metadata": {},
     "output_type": "display_data"
    },
    {
     "data": {
      "text/plain": [
       "\"DB: opt. gap 1.0000005054850198\""
      ]
     },
     "metadata": {},
     "output_type": "display_data"
    },
    {
     "data": {
      "text/plain": [
       "\">>>>>> iteration 1:O\""
      ]
     },
     "metadata": {},
     "output_type": "display_data"
    },
    {
     "data": {
      "text/plain": [
       "\"DB: opt. gap 0.7620978844990727\""
      ]
     },
     "metadata": {},
     "output_type": "display_data"
    },
    {
     "data": {
      "text/plain": [
       "\">>>>>> iteration 2:O\""
      ]
     },
     "metadata": {},
     "output_type": "display_data"
    },
    {
     "data": {
      "text/plain": [
       "\"DB: opt. gap 0.475608899579251\""
      ]
     },
     "metadata": {},
     "output_type": "display_data"
    },
    {
     "data": {
      "text/plain": [
       "\">>>>>> iteration 3:O\""
      ]
     },
     "metadata": {},
     "output_type": "display_data"
    },
    {
     "data": {
      "text/plain": [
       "\"DB: opt. gap 0.19874455039383201\""
      ]
     },
     "metadata": {},
     "output_type": "display_data"
    },
    {
     "data": {
      "text/plain": [
       "\">>>>>> iteration 4:O\""
      ]
     },
     "metadata": {},
     "output_type": "display_data"
    },
    {
     "data": {
      "text/plain": [
       "\"DB: opt. gap 0.06048969210009125\""
      ]
     },
     "metadata": {},
     "output_type": "display_data"
    },
    {
     "data": {
      "text/plain": [
       "\">>>>>> iteration 5:O\""
      ]
     },
     "metadata": {},
     "output_type": "display_data"
    },
    {
     "data": {
      "text/plain": [
       "\"DB: opt. gap 0.0179918416978654\""
      ]
     },
     "metadata": {},
     "output_type": "display_data"
    },
    {
     "data": {
      "text/plain": [
       "\">>>>>> iteration 6:O\""
      ]
     },
     "metadata": {},
     "output_type": "display_data"
    },
    {
     "data": {
      "text/plain": [
       "\"DB: opt. gap 0.0048384214339987006\""
      ]
     },
     "metadata": {},
     "output_type": "display_data"
    },
    {
     "data": {
      "text/plain": [
       "\">>>>>> iteration 7:O\""
      ]
     },
     "metadata": {},
     "output_type": "display_data"
    },
    {
     "data": {
      "text/plain": [
       "\"DB: opt. gap 0.0015115583627839284\""
      ]
     },
     "metadata": {},
     "output_type": "display_data"
    },
    {
     "data": {
      "text/plain": [
       "\">>>>>> iteration 8:O\""
      ]
     },
     "metadata": {},
     "output_type": "display_data"
    },
    {
     "data": {
      "text/plain": [
       "\"DB: opt. gap 0.0009082008489168135\""
      ]
     },
     "metadata": {},
     "output_type": "display_data"
    },
    {
     "data": {
      "text/plain": [
       "\"DB: CLDRTO method: 2 - Solution at t = 16: found\""
      ]
     },
     "metadata": {},
     "output_type": "display_data"
    },
    {
     "name": "stdout",
     "output_type": "stream",
     "text": [
      "MC: 13>> Time: 17\n",
      "MC: 13>> Time: 18\n",
      "MC: 13>> Time: 19\n",
      "MC: 13>> Time: 20\n"
     ]
    },
    {
     "data": {
      "text/plain": [
       "\"DB: Nominal solution at t = 20: found\""
      ]
     },
     "metadata": {},
     "output_type": "display_data"
    },
    {
     "data": {
      "text/plain": [
       "\"DB: opt. gap 1.000000447779313\""
      ]
     },
     "metadata": {},
     "output_type": "display_data"
    },
    {
     "data": {
      "text/plain": [
       "\">>>>>> iteration 1:O\""
      ]
     },
     "metadata": {},
     "output_type": "display_data"
    },
    {
     "data": {
      "text/plain": [
       "\"DB: opt. gap 0.7117650610868369\""
      ]
     },
     "metadata": {},
     "output_type": "display_data"
    },
    {
     "data": {
      "text/plain": [
       "\">>>>>> iteration 2:O\""
      ]
     },
     "metadata": {},
     "output_type": "display_data"
    },
    {
     "data": {
      "text/plain": [
       "\"DB: opt. gap 0.41114483669121543\""
      ]
     },
     "metadata": {},
     "output_type": "display_data"
    },
    {
     "data": {
      "text/plain": [
       "\">>>>>> iteration 3:O\""
      ]
     },
     "metadata": {},
     "output_type": "display_data"
    },
    {
     "data": {
      "text/plain": [
       "\"DB: opt. gap 0.1592099066421454\""
      ]
     },
     "metadata": {},
     "output_type": "display_data"
    },
    {
     "data": {
      "text/plain": [
       "\">>>>>> iteration 4:O\""
      ]
     },
     "metadata": {},
     "output_type": "display_data"
    },
    {
     "data": {
      "text/plain": [
       "\"DB: opt. gap 0.04647146440126652\""
      ]
     },
     "metadata": {},
     "output_type": "display_data"
    },
    {
     "data": {
      "text/plain": [
       "\">>>>>> iteration 5:O\""
      ]
     },
     "metadata": {},
     "output_type": "display_data"
    },
    {
     "data": {
      "text/plain": [
       "\"DB: opt. gap 0.012954792221217667\""
      ]
     },
     "metadata": {},
     "output_type": "display_data"
    },
    {
     "data": {
      "text/plain": [
       "\">>>>>> iteration 6:O\""
      ]
     },
     "metadata": {},
     "output_type": "display_data"
    },
    {
     "data": {
      "text/plain": [
       "\"DB: opt. gap 0.0035093276043449665\""
      ]
     },
     "metadata": {},
     "output_type": "display_data"
    },
    {
     "data": {
      "text/plain": [
       "\">>>>>> iteration 7:O\""
      ]
     },
     "metadata": {},
     "output_type": "display_data"
    },
    {
     "data": {
      "text/plain": [
       "\"DB: opt. gap 0.0011350155696601143\""
      ]
     },
     "metadata": {},
     "output_type": "display_data"
    },
    {
     "data": {
      "text/plain": [
       "\">>>>>> iteration 8:O\""
      ]
     },
     "metadata": {},
     "output_type": "display_data"
    },
    {
     "data": {
      "text/plain": [
       "\"DB: opt. gap 0.001355025976502054\""
      ]
     },
     "metadata": {},
     "output_type": "display_data"
    },
    {
     "data": {
      "text/plain": [
       "\">>>>>> iteration 9:O\""
      ]
     },
     "metadata": {},
     "output_type": "display_data"
    },
    {
     "data": {
      "text/plain": [
       "\"DB: random\""
      ]
     },
     "metadata": {},
     "output_type": "display_data"
    },
    {
     "data": {
      "text/plain": [
       "\"DB: opt. gap 0.0007722860639043622\""
      ]
     },
     "metadata": {},
     "output_type": "display_data"
    },
    {
     "data": {
      "text/plain": [
       "\"DB: CLDRTO method: 2 - Solution at t = 20: found\""
      ]
     },
     "metadata": {},
     "output_type": "display_data"
    },
    {
     "data": {
      "text/plain": [
       "\"DB: MC iter. 14 --> Plant parameter = 0.6042348297022122\""
      ]
     },
     "metadata": {},
     "output_type": "display_data"
    },
    {
     "data": {
      "text/plain": [
       "\"Nominal solution at t = 0: found\""
      ]
     },
     "metadata": {},
     "output_type": "display_data"
    },
    {
     "name": "stdout",
     "output_type": "stream",
     "text": [
      "MC: 14>> Time: 1\n"
     ]
    },
    {
     "data": {
      "text/plain": [
       "\"DB: CLDRTO method: 1 - Solution at t = 1: found\""
      ]
     },
     "metadata": {},
     "output_type": "display_data"
    },
    {
     "name": "stdout",
     "output_type": "stream",
     "text": [
      "MC: 14>> Time: 2\n",
      "MC: 14>> Time: 3\n",
      "MC: 14>> Time: 4\n"
     ]
    },
    {
     "data": {
      "text/plain": [
       "\"DB: Nominal solution at t = 4: found\""
      ]
     },
     "metadata": {},
     "output_type": "display_data"
    },
    {
     "data": {
      "text/plain": [
       "\"DB: CLDRTO method: 1 - Solution at t = 4: found\""
      ]
     },
     "metadata": {},
     "output_type": "display_data"
    },
    {
     "name": "stdout",
     "output_type": "stream",
     "text": [
      "MC: 14>> Time: 5\n",
      "MC: 14>> Time: 6\n",
      "MC: 14>> Time: 7\n",
      "MC: 14>> Time: 8\n"
     ]
    },
    {
     "data": {
      "text/plain": [
       "\"DB: Nominal solution at t = 8: found\""
      ]
     },
     "metadata": {},
     "output_type": "display_data"
    },
    {
     "data": {
      "text/plain": [
       "\"DB: CLDRTO method: 1 - Solution at t = 8: found\""
      ]
     },
     "metadata": {},
     "output_type": "display_data"
    },
    {
     "name": "stdout",
     "output_type": "stream",
     "text": [
      "MC: 14>> Time: 9\n",
      "MC: 14>> Time: 10\n",
      "MC: 14>> Time: 11\n",
      "MC: 14>> Time: 12\n"
     ]
    },
    {
     "data": {
      "text/plain": [
       "\"DB: Nominal solution at t = 12: found\""
      ]
     },
     "metadata": {},
     "output_type": "display_data"
    },
    {
     "data": {
      "text/plain": [
       "\"DB: CLDRTO method: 1 - Solution at t = 12: found\""
      ]
     },
     "metadata": {},
     "output_type": "display_data"
    },
    {
     "name": "stdout",
     "output_type": "stream",
     "text": [
      "MC: 14>> Time: 13\n",
      "MC: 14>> Time: 14\n",
      "MC: 14>> Time: 15\n",
      "MC: 14>> Time: 16\n"
     ]
    },
    {
     "data": {
      "text/plain": [
       "\"DB: Nominal solution at t = 16: found\""
      ]
     },
     "metadata": {},
     "output_type": "display_data"
    },
    {
     "data": {
      "text/plain": [
       "\"DB: CLDRTO method: 1 - Solution at t = 16: found\""
      ]
     },
     "metadata": {},
     "output_type": "display_data"
    },
    {
     "name": "stdout",
     "output_type": "stream",
     "text": [
      "MC: 14>> Time: 17\n",
      "MC: 14>> Time: 18\n",
      "MC: 14>> Time: 19\n",
      "MC: 14>> Time: 20\n"
     ]
    },
    {
     "data": {
      "text/plain": [
       "\"DB: Nominal solution at t = 20: found\""
      ]
     },
     "metadata": {},
     "output_type": "display_data"
    },
    {
     "data": {
      "text/plain": [
       "\"DB: CLDRTO method: 1 - Solution at t = 20: found\""
      ]
     },
     "metadata": {},
     "output_type": "display_data"
    },
    {
     "data": {
      "text/plain": [
       "\"Nominal solution at t = 0: found\""
      ]
     },
     "metadata": {},
     "output_type": "display_data"
    },
    {
     "name": "stdout",
     "output_type": "stream",
     "text": [
      "MC: 14>> Time: 1\n"
     ]
    },
    {
     "data": {
      "text/plain": [
       "\"DB: opt. gap 1.000000005263681\""
      ]
     },
     "metadata": {},
     "output_type": "display_data"
    },
    {
     "data": {
      "text/plain": [
       "\">>>>>> iteration 1:O\""
      ]
     },
     "metadata": {},
     "output_type": "display_data"
    },
    {
     "data": {
      "text/plain": [
       "\"DB: opt. gap 0.00431106866548491\""
      ]
     },
     "metadata": {},
     "output_type": "display_data"
    },
    {
     "data": {
      "text/plain": [
       "\">>>>>> iteration 2:O\""
      ]
     },
     "metadata": {},
     "output_type": "display_data"
    },
    {
     "data": {
      "text/plain": [
       "\"DB: opt. gap 0.004100693528206623\""
      ]
     },
     "metadata": {},
     "output_type": "display_data"
    },
    {
     "data": {
      "text/plain": [
       "\">>>>>> iteration 3:O\""
      ]
     },
     "metadata": {},
     "output_type": "display_data"
    },
    {
     "data": {
      "text/plain": [
       "\"DB: random\""
      ]
     },
     "metadata": {},
     "output_type": "display_data"
    },
    {
     "data": {
      "text/plain": [
       "\"DB: opt. gap 2.461631107948798e-6\""
      ]
     },
     "metadata": {},
     "output_type": "display_data"
    },
    {
     "data": {
      "text/plain": [
       "\"DB: CLDRTO method: 2 - Solution at t = 1: found\""
      ]
     },
     "metadata": {},
     "output_type": "display_data"
    },
    {
     "name": "stdout",
     "output_type": "stream",
     "text": [
      "MC: 14>> Time: 2\n",
      "MC: 14>> Time: 3\n",
      "MC: 14>> Time: 4\n"
     ]
    },
    {
     "data": {
      "text/plain": [
       "\"DB: Nominal solution at t = 4: found\""
      ]
     },
     "metadata": {},
     "output_type": "display_data"
    },
    {
     "data": {
      "text/plain": [
       "\"DB: opt. gap 1.0000000182575164\""
      ]
     },
     "metadata": {},
     "output_type": "display_data"
    },
    {
     "data": {
      "text/plain": [
       "\">>>>>> iteration 1:O\""
      ]
     },
     "metadata": {},
     "output_type": "display_data"
    },
    {
     "data": {
      "text/plain": [
       "\"DB: opt. gap 0.004973259654778406\""
      ]
     },
     "metadata": {},
     "output_type": "display_data"
    },
    {
     "data": {
      "text/plain": [
       "\">>>>>> iteration 2:O\""
      ]
     },
     "metadata": {},
     "output_type": "display_data"
    },
    {
     "data": {
      "text/plain": [
       "\"DB: opt. gap 0.004603914006746018\""
      ]
     },
     "metadata": {},
     "output_type": "display_data"
    },
    {
     "data": {
      "text/plain": [
       "\">>>>>> iteration 3:O\""
      ]
     },
     "metadata": {},
     "output_type": "display_data"
    },
    {
     "data": {
      "text/plain": [
       "\"DB: random\""
      ]
     },
     "metadata": {},
     "output_type": "display_data"
    },
    {
     "data": {
      "text/plain": [
       "\"DB: opt. gap 2.1131226122288327e-6\""
      ]
     },
     "metadata": {},
     "output_type": "display_data"
    },
    {
     "data": {
      "text/plain": [
       "\"DB: CLDRTO method: 2 - Solution at t = 4: found\""
      ]
     },
     "metadata": {},
     "output_type": "display_data"
    },
    {
     "name": "stdout",
     "output_type": "stream",
     "text": [
      "MC: 14>> Time: 5\n",
      "MC: 14>> Time: 6\n",
      "MC: 14>> Time: 7\n",
      "MC: 14>> Time: 8\n"
     ]
    },
    {
     "data": {
      "text/plain": [
       "\"DB: Nominal solution at t = 8: found\""
      ]
     },
     "metadata": {},
     "output_type": "display_data"
    },
    {
     "data": {
      "text/plain": [
       "\"DB: opt. gap 1.0000003021581272\""
      ]
     },
     "metadata": {},
     "output_type": "display_data"
    },
    {
     "data": {
      "text/plain": [
       "\">>>>>> iteration 1:O\""
      ]
     },
     "metadata": {},
     "output_type": "display_data"
    },
    {
     "data": {
      "text/plain": [
       "\"DB: opt. gap 0.00035789670145020447\""
      ]
     },
     "metadata": {},
     "output_type": "display_data"
    },
    {
     "data": {
      "text/plain": [
       "\"DB: CLDRTO method: 2 - Solution at t = 8: found\""
      ]
     },
     "metadata": {},
     "output_type": "display_data"
    },
    {
     "name": "stdout",
     "output_type": "stream",
     "text": [
      "MC: 14>> Time: 9\n",
      "MC: 14>> Time: 10\n",
      "MC: 14>> Time: 11\n",
      "MC: 14>> Time: 12\n"
     ]
    },
    {
     "data": {
      "text/plain": [
       "\"DB: Nominal solution at t = 12: found\""
      ]
     },
     "metadata": {},
     "output_type": "display_data"
    },
    {
     "data": {
      "text/plain": [
       "\"DB: opt. gap 1.0000013217685637\""
      ]
     },
     "metadata": {},
     "output_type": "display_data"
    },
    {
     "data": {
      "text/plain": [
       "\">>>>>> iteration 1:O\""
      ]
     },
     "metadata": {},
     "output_type": "display_data"
    },
    {
     "data": {
      "text/plain": [
       "\"DB: opt. gap 0.015688413153475262\""
      ]
     },
     "metadata": {},
     "output_type": "display_data"
    },
    {
     "data": {
      "text/plain": [
       "\">>>>>> iteration 2:O\""
      ]
     },
     "metadata": {},
     "output_type": "display_data"
    },
    {
     "data": {
      "text/plain": [
       "\"DB: opt. gap 0.0039665555494885875\""
      ]
     },
     "metadata": {},
     "output_type": "display_data"
    },
    {
     "data": {
      "text/plain": [
       "\">>>>>> iteration 3:O\""
      ]
     },
     "metadata": {},
     "output_type": "display_data"
    },
    {
     "data": {
      "text/plain": [
       "\"DB: opt. gap 0.000969693533563203\""
      ]
     },
     "metadata": {},
     "output_type": "display_data"
    },
    {
     "data": {
      "text/plain": [
       "\"DB: CLDRTO method: 2 - Solution at t = 12: found\""
      ]
     },
     "metadata": {},
     "output_type": "display_data"
    },
    {
     "name": "stdout",
     "output_type": "stream",
     "text": [
      "MC: 14>> Time: 13\n",
      "MC: 14>> Time: 14\n",
      "MC: 14>> Time: 15\n",
      "MC: 14>> Time: 16\n"
     ]
    },
    {
     "data": {
      "text/plain": [
       "\"DB: Nominal solution at t = 16: found\""
      ]
     },
     "metadata": {},
     "output_type": "display_data"
    },
    {
     "data": {
      "text/plain": [
       "\"DB: opt. gap 1.0000012424872229\""
      ]
     },
     "metadata": {},
     "output_type": "display_data"
    },
    {
     "data": {
      "text/plain": [
       "\">>>>>> iteration 1:O\""
      ]
     },
     "metadata": {},
     "output_type": "display_data"
    },
    {
     "data": {
      "text/plain": [
       "\"DB: opt. gap 0.058013460661398564\""
      ]
     },
     "metadata": {},
     "output_type": "display_data"
    },
    {
     "data": {
      "text/plain": [
       "\">>>>>> iteration 2:O\""
      ]
     },
     "metadata": {},
     "output_type": "display_data"
    },
    {
     "data": {
      "text/plain": [
       "\"DB: opt. gap 0.027482159814817404\""
      ]
     },
     "metadata": {},
     "output_type": "display_data"
    },
    {
     "data": {
      "text/plain": [
       "\">>>>>> iteration 3:O\""
      ]
     },
     "metadata": {},
     "output_type": "display_data"
    },
    {
     "data": {
      "text/plain": [
       "\"DB: opt. gap 0.007097115165754113\""
      ]
     },
     "metadata": {},
     "output_type": "display_data"
    },
    {
     "data": {
      "text/plain": [
       "\">>>>>> iteration 4:O\""
      ]
     },
     "metadata": {},
     "output_type": "display_data"
    },
    {
     "data": {
      "text/plain": [
       "\"DB: opt. gap 0.0013926432241411358\""
      ]
     },
     "metadata": {},
     "output_type": "display_data"
    },
    {
     "data": {
      "text/plain": [
       "\">>>>>> iteration 5:O\""
      ]
     },
     "metadata": {},
     "output_type": "display_data"
    },
    {
     "data": {
      "text/plain": [
       "\"DB: opt. gap 0.00028158459314196695\""
      ]
     },
     "metadata": {},
     "output_type": "display_data"
    },
    {
     "data": {
      "text/plain": [
       "\"DB: CLDRTO method: 2 - Solution at t = 16: found\""
      ]
     },
     "metadata": {},
     "output_type": "display_data"
    },
    {
     "name": "stdout",
     "output_type": "stream",
     "text": [
      "MC: 14>> Time: 17\n",
      "MC: 14>> Time: 18\n",
      "MC: 14>> Time: 19\n",
      "MC: 14>> Time: 20\n"
     ]
    },
    {
     "data": {
      "text/plain": [
       "\"DB: Nominal solution at t = 20: found\""
      ]
     },
     "metadata": {},
     "output_type": "display_data"
    },
    {
     "data": {
      "text/plain": [
       "\"DB: opt. gap 1.0000014280942695\""
      ]
     },
     "metadata": {},
     "output_type": "display_data"
    },
    {
     "data": {
      "text/plain": [
       "\">>>>>> iteration 1:O\""
      ]
     },
     "metadata": {},
     "output_type": "display_data"
    },
    {
     "data": {
      "text/plain": [
       "\"DB: opt. gap 0.012107624069838296\""
      ]
     },
     "metadata": {},
     "output_type": "display_data"
    },
    {
     "data": {
      "text/plain": [
       "\">>>>>> iteration 2:O\""
      ]
     },
     "metadata": {},
     "output_type": "display_data"
    },
    {
     "data": {
      "text/plain": [
       "\"DB: opt. gap 0.005016525496903309\""
      ]
     },
     "metadata": {},
     "output_type": "display_data"
    },
    {
     "data": {
      "text/plain": [
       "\">>>>>> iteration 3:O\""
      ]
     },
     "metadata": {},
     "output_type": "display_data"
    },
    {
     "data": {
      "text/plain": [
       "\"DB: opt. gap 0.0010751514726251683\""
      ]
     },
     "metadata": {},
     "output_type": "display_data"
    },
    {
     "data": {
      "text/plain": [
       "\">>>>>> iteration 4:O\""
      ]
     },
     "metadata": {},
     "output_type": "display_data"
    },
    {
     "data": {
      "text/plain": [
       "\"DB: opt. gap 0.00029259031563581145\""
      ]
     },
     "metadata": {},
     "output_type": "display_data"
    },
    {
     "data": {
      "text/plain": [
       "\"DB: CLDRTO method: 2 - Solution at t = 20: found\""
      ]
     },
     "metadata": {},
     "output_type": "display_data"
    },
    {
     "data": {
      "text/plain": [
       "\"DB: MC iter. 15 --> Plant parameter = 0.6258092281820375\""
      ]
     },
     "metadata": {},
     "output_type": "display_data"
    },
    {
     "data": {
      "text/plain": [
       "\"Nominal solution at t = 0: found\""
      ]
     },
     "metadata": {},
     "output_type": "display_data"
    },
    {
     "name": "stdout",
     "output_type": "stream",
     "text": [
      "MC: 15>> Time: 1\n"
     ]
    },
    {
     "data": {
      "text/plain": [
       "\"DB: CLDRTO method: 1 - Solution at t = 1: found\""
      ]
     },
     "metadata": {},
     "output_type": "display_data"
    },
    {
     "name": "stdout",
     "output_type": "stream",
     "text": [
      "MC: 15>> Time: 2\n",
      "MC: 15>> Time: 3\n",
      "MC: 15>> Time: 4\n"
     ]
    },
    {
     "data": {
      "text/plain": [
       "\"DB: Nominal solution at t = 4: found\""
      ]
     },
     "metadata": {},
     "output_type": "display_data"
    },
    {
     "data": {
      "text/plain": [
       "\"DB: CLDRTO method: 1 - Solution at t = 4: found\""
      ]
     },
     "metadata": {},
     "output_type": "display_data"
    },
    {
     "name": "stdout",
     "output_type": "stream",
     "text": [
      "MC: 15>> Time: 5\n",
      "MC: 15>> Time: 6\n",
      "MC: 15>> Time: 7\n",
      "MC: 15>> Time: 8\n"
     ]
    },
    {
     "data": {
      "text/plain": [
       "\"DB: Nominal solution at t = 8: found\""
      ]
     },
     "metadata": {},
     "output_type": "display_data"
    },
    {
     "data": {
      "text/plain": [
       "\"DB: CLDRTO method: 1 - Solution at t = 8: found\""
      ]
     },
     "metadata": {},
     "output_type": "display_data"
    },
    {
     "name": "stdout",
     "output_type": "stream",
     "text": [
      "MC: 15>> Time: 9\n",
      "MC: 15>> Time: 10\n",
      "MC: 15>> Time: 11\n",
      "MC: 15>> Time: 12\n"
     ]
    },
    {
     "data": {
      "text/plain": [
       "\"DB: Nominal solution at t = 12: found\""
      ]
     },
     "metadata": {},
     "output_type": "display_data"
    },
    {
     "data": {
      "text/plain": [
       "\"DB: CLDRTO method: 1 - Solution at t = 12: found\""
      ]
     },
     "metadata": {},
     "output_type": "display_data"
    },
    {
     "name": "stdout",
     "output_type": "stream",
     "text": [
      "MC: 15>> Time: 13\n",
      "MC: 15>> Time: 14\n",
      "MC: 15>> Time: 15\n",
      "MC: 15>> Time: 16\n"
     ]
    },
    {
     "data": {
      "text/plain": [
       "\"DB: Nominal solution at t = 16: found\""
      ]
     },
     "metadata": {},
     "output_type": "display_data"
    },
    {
     "data": {
      "text/plain": [
       "\"DB: CLDRTO method: 1 - Solution at t = 16: found\""
      ]
     },
     "metadata": {},
     "output_type": "display_data"
    },
    {
     "name": "stdout",
     "output_type": "stream",
     "text": [
      "MC: 15>> Time: 17\n",
      "MC: 15>> Time: 18\n",
      "MC: 15>> Time: 19\n",
      "MC: 15>> Time: 20\n"
     ]
    },
    {
     "data": {
      "text/plain": [
       "\"DB: Nominal solution at t = 20: found\""
      ]
     },
     "metadata": {},
     "output_type": "display_data"
    },
    {
     "data": {
      "text/plain": [
       "\"DB: CLDRTO method: 1 - Solution at t = 20: found\""
      ]
     },
     "metadata": {},
     "output_type": "display_data"
    },
    {
     "data": {
      "text/plain": [
       "\"Nominal solution at t = 0: found\""
      ]
     },
     "metadata": {},
     "output_type": "display_data"
    },
    {
     "name": "stdout",
     "output_type": "stream",
     "text": [
      "MC: 15>> Time: 1\n"
     ]
    },
    {
     "data": {
      "text/plain": [
       "\"DB: opt. gap 1.000000005263681\""
      ]
     },
     "metadata": {},
     "output_type": "display_data"
    },
    {
     "data": {
      "text/plain": [
       "\">>>>>> iteration 1:O\""
      ]
     },
     "metadata": {},
     "output_type": "display_data"
    },
    {
     "data": {
      "text/plain": [
       "\"DB: opt. gap 0.00431106866548491\""
      ]
     },
     "metadata": {},
     "output_type": "display_data"
    },
    {
     "data": {
      "text/plain": [
       "\">>>>>> iteration 2:O\""
      ]
     },
     "metadata": {},
     "output_type": "display_data"
    },
    {
     "data": {
      "text/plain": [
       "\"DB: opt. gap 0.004100693528206623\""
      ]
     },
     "metadata": {},
     "output_type": "display_data"
    },
    {
     "data": {
      "text/plain": [
       "\">>>>>> iteration 3:O\""
      ]
     },
     "metadata": {},
     "output_type": "display_data"
    },
    {
     "data": {
      "text/plain": [
       "\"DB: random\""
      ]
     },
     "metadata": {},
     "output_type": "display_data"
    },
    {
     "data": {
      "text/plain": [
       "\"DB: opt. gap 2.461199231213806e-6\""
      ]
     },
     "metadata": {},
     "output_type": "display_data"
    },
    {
     "data": {
      "text/plain": [
       "\"DB: CLDRTO method: 2 - Solution at t = 1: found\""
      ]
     },
     "metadata": {},
     "output_type": "display_data"
    },
    {
     "name": "stdout",
     "output_type": "stream",
     "text": [
      "MC: 15>> Time: 2\n",
      "MC: 15>> Time: 3\n",
      "MC: 15>> Time: 4\n"
     ]
    },
    {
     "data": {
      "text/plain": [
       "\"DB: Nominal solution at t = 4: found\""
      ]
     },
     "metadata": {},
     "output_type": "display_data"
    },
    {
     "data": {
      "text/plain": [
       "\"DB: opt. gap 1.0000000195459546\""
      ]
     },
     "metadata": {},
     "output_type": "display_data"
    },
    {
     "data": {
      "text/plain": [
       "\">>>>>> iteration 1:O\""
      ]
     },
     "metadata": {},
     "output_type": "display_data"
    },
    {
     "data": {
      "text/plain": [
       "\"DB: opt. gap 0.004494673567059313\""
      ]
     },
     "metadata": {},
     "output_type": "display_data"
    },
    {
     "data": {
      "text/plain": [
       "\">>>>>> iteration 2:O\""
      ]
     },
     "metadata": {},
     "output_type": "display_data"
    },
    {
     "data": {
      "text/plain": [
       "\"DB: opt. gap 0.004276707107291853\""
      ]
     },
     "metadata": {},
     "output_type": "display_data"
    },
    {
     "data": {
      "text/plain": [
       "\">>>>>> iteration 3:O\""
      ]
     },
     "metadata": {},
     "output_type": "display_data"
    },
    {
     "data": {
      "text/plain": [
       "\"DB: random\""
      ]
     },
     "metadata": {},
     "output_type": "display_data"
    },
    {
     "data": {
      "text/plain": [
       "\"DB: opt. gap 6.41311365033834e-6\""
      ]
     },
     "metadata": {},
     "output_type": "display_data"
    },
    {
     "data": {
      "text/plain": [
       "\"DB: CLDRTO method: 2 - Solution at t = 4: found\""
      ]
     },
     "metadata": {},
     "output_type": "display_data"
    },
    {
     "name": "stdout",
     "output_type": "stream",
     "text": [
      "MC: 15>> Time: 5\n",
      "MC: 15>> Time: 6\n",
      "MC: 15>> Time: 7\n",
      "MC: 15>> Time: 8\n"
     ]
    },
    {
     "data": {
      "text/plain": [
       "\"DB: Nominal solution at t = 8: found\""
      ]
     },
     "metadata": {},
     "output_type": "display_data"
    },
    {
     "data": {
      "text/plain": [
       "\"DB: opt. gap 1.0000005025651553\""
      ]
     },
     "metadata": {},
     "output_type": "display_data"
    },
    {
     "data": {
      "text/plain": [
       "\">>>>>> iteration 1:O\""
      ]
     },
     "metadata": {},
     "output_type": "display_data"
    },
    {
     "data": {
      "text/plain": [
       "\"DB: opt. gap 0.05785023818079062\""
      ]
     },
     "metadata": {},
     "output_type": "display_data"
    },
    {
     "data": {
      "text/plain": [
       "\">>>>>> iteration 2:O\""
      ]
     },
     "metadata": {},
     "output_type": "display_data"
    },
    {
     "data": {
      "text/plain": [
       "\"DB: opt. gap 0.042386042428518664\""
      ]
     },
     "metadata": {},
     "output_type": "display_data"
    },
    {
     "data": {
      "text/plain": [
       "\">>>>>> iteration 3:O\""
      ]
     },
     "metadata": {},
     "output_type": "display_data"
    },
    {
     "data": {
      "text/plain": [
       "\"DB: opt. gap 0.002469619239735026\""
      ]
     },
     "metadata": {},
     "output_type": "display_data"
    },
    {
     "data": {
      "text/plain": [
       "\">>>>>> iteration 4:O\""
      ]
     },
     "metadata": {},
     "output_type": "display_data"
    },
    {
     "data": {
      "text/plain": [
       "\"DB: opt. gap 0.0017366913854614961\""
      ]
     },
     "metadata": {},
     "output_type": "display_data"
    },
    {
     "data": {
      "text/plain": [
       "\">>>>>> iteration 5:O\""
      ]
     },
     "metadata": {},
     "output_type": "display_data"
    },
    {
     "data": {
      "text/plain": [
       "\"DB: random\""
      ]
     },
     "metadata": {},
     "output_type": "display_data"
    },
    {
     "data": {
      "text/plain": [
       "\"DB: opt. gap 0.00491106906308744\""
      ]
     },
     "metadata": {},
     "output_type": "display_data"
    },
    {
     "data": {
      "text/plain": [
       "\">>>>>> iteration 6:O\""
      ]
     },
     "metadata": {},
     "output_type": "display_data"
    },
    {
     "data": {
      "text/plain": [
       "\"DB: opt. gap 1.2872978063842139e-5\""
      ]
     },
     "metadata": {},
     "output_type": "display_data"
    },
    {
     "data": {
      "text/plain": [
       "\"DB: CLDRTO method: 2 - Solution at t = 8: found\""
      ]
     },
     "metadata": {},
     "output_type": "display_data"
    },
    {
     "name": "stdout",
     "output_type": "stream",
     "text": [
      "MC: 15>> Time: 9\n",
      "MC: 15>> Time: 10\n",
      "MC: 15>> Time: 11\n",
      "MC: 15>> Time: 12\n"
     ]
    },
    {
     "data": {
      "text/plain": [
       "\"DB: Nominal solution at t = 12: found\""
      ]
     },
     "metadata": {},
     "output_type": "display_data"
    },
    {
     "data": {
      "text/plain": [
       "\"DB: opt. gap 1.000004136689726\""
      ]
     },
     "metadata": {},
     "output_type": "display_data"
    },
    {
     "data": {
      "text/plain": [
       "\">>>>>> iteration 1:O\""
      ]
     },
     "metadata": {},
     "output_type": "display_data"
    },
    {
     "data": {
      "text/plain": [
       "\"DB: opt. gap 0.5005468535883125\""
      ]
     },
     "metadata": {},
     "output_type": "display_data"
    },
    {
     "data": {
      "text/plain": [
       "\">>>>>> iteration 2:O\""
      ]
     },
     "metadata": {},
     "output_type": "display_data"
    },
    {
     "data": {
      "text/plain": [
       "\"DB: opt. gap 0.2359127905219845\""
      ]
     },
     "metadata": {},
     "output_type": "display_data"
    },
    {
     "data": {
      "text/plain": [
       "\">>>>>> iteration 3:O\""
      ]
     },
     "metadata": {},
     "output_type": "display_data"
    },
    {
     "data": {
      "text/plain": [
       "\"DB: opt. gap 0.07464175049947021\""
      ]
     },
     "metadata": {},
     "output_type": "display_data"
    },
    {
     "data": {
      "text/plain": [
       "\">>>>>> iteration 4:O\""
      ]
     },
     "metadata": {},
     "output_type": "display_data"
    },
    {
     "data": {
      "text/plain": [
       "\"DB: opt. gap 0.02128662288721028\""
      ]
     },
     "metadata": {},
     "output_type": "display_data"
    },
    {
     "data": {
      "text/plain": [
       "\">>>>>> iteration 5:O\""
      ]
     },
     "metadata": {},
     "output_type": "display_data"
    },
    {
     "data": {
      "text/plain": [
       "\"DB: opt. gap 0.009706856577158822\""
      ]
     },
     "metadata": {},
     "output_type": "display_data"
    },
    {
     "data": {
      "text/plain": [
       "\">>>>>> iteration 6:O\""
      ]
     },
     "metadata": {},
     "output_type": "display_data"
    },
    {
     "data": {
      "text/plain": [
       "\"DB: opt. gap 0.006900206635350356\""
      ]
     },
     "metadata": {},
     "output_type": "display_data"
    },
    {
     "data": {
      "text/plain": [
       "\">>>>>> iteration 7:O\""
      ]
     },
     "metadata": {},
     "output_type": "display_data"
    },
    {
     "data": {
      "text/plain": [
       "\"DB: opt. gap 0.005650236436620613\""
      ]
     },
     "metadata": {},
     "output_type": "display_data"
    },
    {
     "data": {
      "text/plain": [
       "\">>>>>> iteration 8:O\""
      ]
     },
     "metadata": {},
     "output_type": "display_data"
    },
    {
     "data": {
      "text/plain": [
       "\"DB: opt. gap 0.0005449989406493622\""
      ]
     },
     "metadata": {},
     "output_type": "display_data"
    },
    {
     "data": {
      "text/plain": [
       "\"DB: CLDRTO method: 2 - Solution at t = 12: found\""
      ]
     },
     "metadata": {},
     "output_type": "display_data"
    },
    {
     "name": "stdout",
     "output_type": "stream",
     "text": [
      "MC: 15>> Time: 13\n",
      "MC: 15>> Time: 14\n",
      "MC: 15>> Time: 15\n",
      "MC: 15>> Time: 16\n"
     ]
    },
    {
     "data": {
      "text/plain": [
       "\"DB: Nominal solution at t = 16: found\""
      ]
     },
     "metadata": {},
     "output_type": "display_data"
    },
    {
     "data": {
      "text/plain": [
       "\"DB: opt. gap 1.0000042036858492\""
      ]
     },
     "metadata": {},
     "output_type": "display_data"
    },
    {
     "data": {
      "text/plain": [
       "\">>>>>> iteration 1:O\""
      ]
     },
     "metadata": {},
     "output_type": "display_data"
    },
    {
     "data": {
      "text/plain": [
       "\"DB: opt. gap 0.5223000425108437\""
      ]
     },
     "metadata": {},
     "output_type": "display_data"
    },
    {
     "data": {
      "text/plain": [
       "\">>>>>> iteration 2:O\""
      ]
     },
     "metadata": {},
     "output_type": "display_data"
    },
    {
     "data": {
      "text/plain": [
       "\"DB: opt. gap 0.24807257538474928\""
      ]
     },
     "metadata": {},
     "output_type": "display_data"
    },
    {
     "data": {
      "text/plain": [
       "\">>>>>> iteration 3:O\""
      ]
     },
     "metadata": {},
     "output_type": "display_data"
    },
    {
     "data": {
      "text/plain": [
       "\"DB: opt. gap 0.07877446123220112\""
      ]
     },
     "metadata": {},
     "output_type": "display_data"
    },
    {
     "data": {
      "text/plain": [
       "\">>>>>> iteration 4:O\""
      ]
     },
     "metadata": {},
     "output_type": "display_data"
    },
    {
     "data": {
      "text/plain": [
       "\"DB: opt. gap 0.0226771120200579\""
      ]
     },
     "metadata": {},
     "output_type": "display_data"
    },
    {
     "data": {
      "text/plain": [
       "\">>>>>> iteration 5:O\""
      ]
     },
     "metadata": {},
     "output_type": "display_data"
    },
    {
     "data": {
      "text/plain": [
       "\"DB: opt. gap 0.008911748367285179\""
      ]
     },
     "metadata": {},
     "output_type": "display_data"
    },
    {
     "data": {
      "text/plain": [
       "\">>>>>> iteration 6:O\""
      ]
     },
     "metadata": {},
     "output_type": "display_data"
    },
    {
     "data": {
      "text/plain": [
       "\"DB: opt. gap 0.006699917033092732\""
      ]
     },
     "metadata": {},
     "output_type": "display_data"
    },
    {
     "data": {
      "text/plain": [
       "\">>>>>> iteration 7:O\""
      ]
     },
     "metadata": {},
     "output_type": "display_data"
    },
    {
     "data": {
      "text/plain": [
       "\"DB: opt. gap 0.01052787722689172\""
      ]
     },
     "metadata": {},
     "output_type": "display_data"
    },
    {
     "data": {
      "text/plain": [
       "\">>>>>> iteration 8:O\""
      ]
     },
     "metadata": {},
     "output_type": "display_data"
    },
    {
     "data": {
      "text/plain": [
       "\"DB: opt. gap 0.00379209370575035\""
      ]
     },
     "metadata": {},
     "output_type": "display_data"
    },
    {
     "data": {
      "text/plain": [
       "\">>>>>> iteration 9:O\""
      ]
     },
     "metadata": {},
     "output_type": "display_data"
    },
    {
     "data": {
      "text/plain": [
       "\"DB: opt. gap 0.0007603330878945507\""
      ]
     },
     "metadata": {},
     "output_type": "display_data"
    },
    {
     "data": {
      "text/plain": [
       "\"DB: CLDRTO method: 2 - Solution at t = 16: found\""
      ]
     },
     "metadata": {},
     "output_type": "display_data"
    },
    {
     "name": "stdout",
     "output_type": "stream",
     "text": [
      "MC: 15>> Time: 17\n",
      "MC: 15>> Time: 18\n",
      "MC: 15>> Time: 19\n",
      "MC: 15>> Time: 20\n"
     ]
    },
    {
     "data": {
      "text/plain": [
       "\"DB: Nominal solution at t = 20: found\""
      ]
     },
     "metadata": {},
     "output_type": "display_data"
    },
    {
     "data": {
      "text/plain": [
       "\"DB: opt. gap 1.0000046000572957\""
      ]
     },
     "metadata": {},
     "output_type": "display_data"
    },
    {
     "data": {
      "text/plain": [
       "\">>>>>> iteration 1:O\""
      ]
     },
     "metadata": {},
     "output_type": "display_data"
    },
    {
     "data": {
      "text/plain": [
       "\"DB: opt. gap 0.2222042344276948\""
      ]
     },
     "metadata": {},
     "output_type": "display_data"
    },
    {
     "data": {
      "text/plain": [
       "\">>>>>> iteration 2:O\""
      ]
     },
     "metadata": {},
     "output_type": "display_data"
    },
    {
     "data": {
      "text/plain": [
       "\"DB: opt. gap 0.08034498134135741\""
      ]
     },
     "metadata": {},
     "output_type": "display_data"
    },
    {
     "data": {
      "text/plain": [
       "\">>>>>> iteration 3:O\""
      ]
     },
     "metadata": {},
     "output_type": "display_data"
    },
    {
     "data": {
      "text/plain": [
       "\"DB: opt. gap 0.02322120694539985\""
      ]
     },
     "metadata": {},
     "output_type": "display_data"
    },
    {
     "data": {
      "text/plain": [
       "\">>>>>> iteration 4:O\""
      ]
     },
     "metadata": {},
     "output_type": "display_data"
    },
    {
     "data": {
      "text/plain": [
       "\"DB: opt. gap 0.008188448635237483\""
      ]
     },
     "metadata": {},
     "output_type": "display_data"
    },
    {
     "data": {
      "text/plain": [
       "\">>>>>> iteration 5:O\""
      ]
     },
     "metadata": {},
     "output_type": "display_data"
    },
    {
     "data": {
      "text/plain": [
       "\"DB: opt. gap 0.006241596179064859\""
      ]
     },
     "metadata": {},
     "output_type": "display_data"
    },
    {
     "data": {
      "text/plain": [
       "\">>>>>> iteration 6:O\""
      ]
     },
     "metadata": {},
     "output_type": "display_data"
    },
    {
     "data": {
      "text/plain": [
       "\"DB: opt. gap 0.0008347172828756265\""
      ]
     },
     "metadata": {},
     "output_type": "display_data"
    },
    {
     "data": {
      "text/plain": [
       "\"DB: CLDRTO method: 2 - Solution at t = 20: found\""
      ]
     },
     "metadata": {},
     "output_type": "display_data"
    },
    {
     "data": {
      "text/plain": [
       "\"DB: MC iter. 16 --> Plant parameter = 0.7984697151512303\""
      ]
     },
     "metadata": {},
     "output_type": "display_data"
    },
    {
     "data": {
      "text/plain": [
       "\"Nominal solution at t = 0: found\""
      ]
     },
     "metadata": {},
     "output_type": "display_data"
    },
    {
     "name": "stdout",
     "output_type": "stream",
     "text": [
      "MC: 16>> Time: 1\n"
     ]
    },
    {
     "data": {
      "text/plain": [
       "\"DB: CLDRTO method: 1 - Solution at t = 1: found\""
      ]
     },
     "metadata": {},
     "output_type": "display_data"
    },
    {
     "name": "stdout",
     "output_type": "stream",
     "text": [
      "MC: 16>> Time: 2\n",
      "MC: 16>> Time: 3\n",
      "MC: 16>> Time: 4\n"
     ]
    },
    {
     "data": {
      "text/plain": [
       "\"DB: Nominal solution at t = 4: found\""
      ]
     },
     "metadata": {},
     "output_type": "display_data"
    },
    {
     "data": {
      "text/plain": [
       "\"DB: CLDRTO method: 1 - Solution at t = 4: found\""
      ]
     },
     "metadata": {},
     "output_type": "display_data"
    },
    {
     "name": "stdout",
     "output_type": "stream",
     "text": [
      "MC: 16>> Time: 5\n",
      "MC: 16>> Time: 6\n",
      "MC: 16>> Time: 7\n",
      "MC: 16>> Time: 8\n"
     ]
    },
    {
     "data": {
      "text/plain": [
       "\"DB: Nominal solution at t = 8: found\""
      ]
     },
     "metadata": {},
     "output_type": "display_data"
    },
    {
     "data": {
      "text/plain": [
       "\"DB: CLDRTO method: 1 - Solution at t = 8: found\""
      ]
     },
     "metadata": {},
     "output_type": "display_data"
    },
    {
     "name": "stdout",
     "output_type": "stream",
     "text": [
      "MC: 16>> Time: 9\n",
      "MC: 16>> Time: 10\n",
      "MC: 16>> Time: 11\n",
      "MC: 16>> Time: 12\n"
     ]
    },
    {
     "data": {
      "text/plain": [
       "\"DB: Nominal solution at t = 12: found\""
      ]
     },
     "metadata": {},
     "output_type": "display_data"
    },
    {
     "data": {
      "text/plain": [
       "\"DB: CLDRTO method: 1 - Solution at t = 12: found\""
      ]
     },
     "metadata": {},
     "output_type": "display_data"
    },
    {
     "name": "stdout",
     "output_type": "stream",
     "text": [
      "MC: 16>> Time: 13\n",
      "MC: 16>> Time: 14\n",
      "MC: 16>> Time: 15\n",
      "MC: 16>> Time: 16\n"
     ]
    },
    {
     "data": {
      "text/plain": [
       "\"DB: Nominal solution at t = 16: found\""
      ]
     },
     "metadata": {},
     "output_type": "display_data"
    },
    {
     "data": {
      "text/plain": [
       "\"DB: CLDRTO method: 1 - Solution at t = 16: found\""
      ]
     },
     "metadata": {},
     "output_type": "display_data"
    },
    {
     "name": "stdout",
     "output_type": "stream",
     "text": [
      "MC: 16>> Time: 17\n",
      "MC: 16>> Time: 18\n",
      "MC: 16>> Time: 19\n",
      "MC: 16>> Time: 20\n"
     ]
    },
    {
     "data": {
      "text/plain": [
       "\"DB: Nominal solution at t = 20: found\""
      ]
     },
     "metadata": {},
     "output_type": "display_data"
    },
    {
     "data": {
      "text/plain": [
       "\"DB: CLDRTO method: 1 - Solution at t = 20: found\""
      ]
     },
     "metadata": {},
     "output_type": "display_data"
    },
    {
     "data": {
      "text/plain": [
       "\"Nominal solution at t = 0: found\""
      ]
     },
     "metadata": {},
     "output_type": "display_data"
    },
    {
     "name": "stdout",
     "output_type": "stream",
     "text": [
      "MC: 16>> Time: 1\n"
     ]
    },
    {
     "data": {
      "text/plain": [
       "\"DB: opt. gap 1.000000005263681\""
      ]
     },
     "metadata": {},
     "output_type": "display_data"
    },
    {
     "data": {
      "text/plain": [
       "\">>>>>> iteration 1:O\""
      ]
     },
     "metadata": {},
     "output_type": "display_data"
    },
    {
     "data": {
      "text/plain": [
       "\"DB: opt. gap 0.00431106866548491\""
      ]
     },
     "metadata": {},
     "output_type": "display_data"
    },
    {
     "data": {
      "text/plain": [
       "\">>>>>> iteration 2:O\""
      ]
     },
     "metadata": {},
     "output_type": "display_data"
    },
    {
     "data": {
      "text/plain": [
       "\"DB: opt. gap 0.004100693528206623\""
      ]
     },
     "metadata": {},
     "output_type": "display_data"
    },
    {
     "data": {
      "text/plain": [
       "\">>>>>> iteration 3:O\""
      ]
     },
     "metadata": {},
     "output_type": "display_data"
    },
    {
     "data": {
      "text/plain": [
       "\"DB: random\""
      ]
     },
     "metadata": {},
     "output_type": "display_data"
    },
    {
     "data": {
      "text/plain": [
       "\"DB: opt. gap 2.4615214700516498e-6\""
      ]
     },
     "metadata": {},
     "output_type": "display_data"
    },
    {
     "data": {
      "text/plain": [
       "\"DB: CLDRTO method: 2 - Solution at t = 1: found\""
      ]
     },
     "metadata": {},
     "output_type": "display_data"
    },
    {
     "name": "stdout",
     "output_type": "stream",
     "text": [
      "MC: 16>> Time: 2\n",
      "MC: 16>> Time: 3\n",
      "MC: 16>> Time: 4\n"
     ]
    },
    {
     "data": {
      "text/plain": [
       "\"DB: Nominal solution at t = 4: found\""
      ]
     },
     "metadata": {},
     "output_type": "display_data"
    },
    {
     "data": {
      "text/plain": [
       "\"DB: opt. gap 1.0000000296680518\""
      ]
     },
     "metadata": {},
     "output_type": "display_data"
    },
    {
     "data": {
      "text/plain": [
       "\">>>>>> iteration 1:O\""
      ]
     },
     "metadata": {},
     "output_type": "display_data"
    },
    {
     "data": {
      "text/plain": [
       "\"DB: opt. gap 0.018912551118538866\""
      ]
     },
     "metadata": {},
     "output_type": "display_data"
    },
    {
     "data": {
      "text/plain": [
       "\">>>>>> iteration 2:O\""
      ]
     },
     "metadata": {},
     "output_type": "display_data"
    },
    {
     "data": {
      "text/plain": [
       "\"DB: opt. gap 0.015743379610498678\""
      ]
     },
     "metadata": {},
     "output_type": "display_data"
    },
    {
     "data": {
      "text/plain": [
       "\">>>>>> iteration 3:O\""
      ]
     },
     "metadata": {},
     "output_type": "display_data"
    },
    {
     "data": {
      "text/plain": [
       "\"DB: opt. gap 0.00010834157076671301\""
      ]
     },
     "metadata": {},
     "output_type": "display_data"
    },
    {
     "data": {
      "text/plain": [
       "\"DB: CLDRTO method: 2 - Solution at t = 4: found\""
      ]
     },
     "metadata": {},
     "output_type": "display_data"
    },
    {
     "name": "stdout",
     "output_type": "stream",
     "text": [
      "MC: 16>> Time: 5\n",
      "MC: 16>> Time: 6\n",
      "MC: 16>> Time: 7\n",
      "MC: 16>> Time: 8\n"
     ]
    },
    {
     "data": {
      "text/plain": [
       "\"DB: Nominal solution at t = 8: found\""
      ]
     },
     "metadata": {},
     "output_type": "display_data"
    },
    {
     "data": {
      "text/plain": [
       "\"DB: opt. gap 1.0000003742612704\""
      ]
     },
     "metadata": {},
     "output_type": "display_data"
    },
    {
     "data": {
      "text/plain": [
       "\">>>>>> iteration 1:O\""
      ]
     },
     "metadata": {},
     "output_type": "display_data"
    },
    {
     "data": {
      "text/plain": [
       "\"DB: opt. gap 0.3491448265509168\""
      ]
     },
     "metadata": {},
     "output_type": "display_data"
    },
    {
     "data": {
      "text/plain": [
       "\">>>>>> iteration 2:O\""
      ]
     },
     "metadata": {},
     "output_type": "display_data"
    },
    {
     "data": {
      "text/plain": [
       "\"DB: opt. gap 0.2639988707090472\""
      ]
     },
     "metadata": {},
     "output_type": "display_data"
    },
    {
     "data": {
      "text/plain": [
       "\">>>>>> iteration 3:O\""
      ]
     },
     "metadata": {},
     "output_type": "display_data"
    },
    {
     "data": {
      "text/plain": [
       "\"DB: opt. gap 0.09927463101128144\""
      ]
     },
     "metadata": {},
     "output_type": "display_data"
    },
    {
     "data": {
      "text/plain": [
       "\">>>>>> iteration 4:O\""
      ]
     },
     "metadata": {},
     "output_type": "display_data"
    },
    {
     "data": {
      "text/plain": [
       "\"DB: opt. gap 0.06529654254286857\""
      ]
     },
     "metadata": {},
     "output_type": "display_data"
    },
    {
     "data": {
      "text/plain": [
       "\">>>>>> iteration 5:O\""
      ]
     },
     "metadata": {},
     "output_type": "display_data"
    },
    {
     "data": {
      "text/plain": [
       "\"DB: opt. gap 0.04887281792657851\""
      ]
     },
     "metadata": {},
     "output_type": "display_data"
    },
    {
     "data": {
      "text/plain": [
       "\">>>>>> iteration 6:O\""
      ]
     },
     "metadata": {},
     "output_type": "display_data"
    },
    {
     "data": {
      "text/plain": [
       "\"DB: opt. gap 0.009775199197692588\""
      ]
     },
     "metadata": {},
     "output_type": "display_data"
    },
    {
     "data": {
      "text/plain": [
       "\">>>>>> iteration 7:O\""
      ]
     },
     "metadata": {},
     "output_type": "display_data"
    },
    {
     "data": {
      "text/plain": [
       "\"DB: opt. gap 0.0016351838721778305\""
      ]
     },
     "metadata": {},
     "output_type": "display_data"
    },
    {
     "data": {
      "text/plain": [
       "\">>>>>> iteration 8:O\""
      ]
     },
     "metadata": {},
     "output_type": "display_data"
    },
    {
     "data": {
      "text/plain": [
       "\"DB: opt. gap 0.0004347810460527542\""
      ]
     },
     "metadata": {},
     "output_type": "display_data"
    },
    {
     "data": {
      "text/plain": [
       "\"DB: CLDRTO method: 2 - Solution at t = 8: found\""
      ]
     },
     "metadata": {},
     "output_type": "display_data"
    },
    {
     "name": "stdout",
     "output_type": "stream",
     "text": [
      "MC: 16>> Time: 9\n",
      "MC: 16>> Time: 10\n",
      "MC: 16>> Time: 11\n",
      "MC: 16>> Time: 12\n"
     ]
    },
    {
     "data": {
      "text/plain": [
       "\"DB: Nominal solution at t = 12: found\""
      ]
     },
     "metadata": {},
     "output_type": "display_data"
    },
    {
     "data": {
      "text/plain": [
       "\"DB: opt. gap 1.000000004945516\""
      ]
     },
     "metadata": {},
     "output_type": "display_data"
    },
    {
     "data": {
      "text/plain": [
       "\">>>>>> iteration 1:O\""
      ]
     },
     "metadata": {},
     "output_type": "display_data"
    },
    {
     "data": {
      "text/plain": [
       "\"DB: opt. gap 0.08982399241593395\""
      ]
     },
     "metadata": {},
     "output_type": "display_data"
    },
    {
     "data": {
      "text/plain": [
       "\">>>>>> iteration 2:O\""
      ]
     },
     "metadata": {},
     "output_type": "display_data"
    },
    {
     "data": {
      "text/plain": [
       "\"DB: opt. gap 0.02781594295897878\""
      ]
     },
     "metadata": {},
     "output_type": "display_data"
    },
    {
     "data": {
      "text/plain": [
       "\">>>>>> iteration 3:O\""
      ]
     },
     "metadata": {},
     "output_type": "display_data"
    },
    {
     "data": {
      "text/plain": [
       "\"DB: opt. gap 0.007346025185567818\""
      ]
     },
     "metadata": {},
     "output_type": "display_data"
    },
    {
     "data": {
      "text/plain": [
       "\">>>>>> iteration 4:O\""
      ]
     },
     "metadata": {},
     "output_type": "display_data"
    },
    {
     "data": {
      "text/plain": [
       "\"DB: opt. gap 0.00849866347395967\""
      ]
     },
     "metadata": {},
     "output_type": "display_data"
    },
    {
     "data": {
      "text/plain": [
       "\">>>>>> iteration 5:O\""
      ]
     },
     "metadata": {},
     "output_type": "display_data"
    },
    {
     "data": {
      "text/plain": [
       "\"DB: opt. gap 0.0022185721300091808\""
      ]
     },
     "metadata": {},
     "output_type": "display_data"
    },
    {
     "data": {
      "text/plain": [
       "\">>>>>> iteration 6:O\""
      ]
     },
     "metadata": {},
     "output_type": "display_data"
    },
    {
     "data": {
      "text/plain": [
       "\"DB: opt. gap 0.0005852651762596207\""
      ]
     },
     "metadata": {},
     "output_type": "display_data"
    },
    {
     "data": {
      "text/plain": [
       "\"DB: CLDRTO method: 2 - Solution at t = 12: found\""
      ]
     },
     "metadata": {},
     "output_type": "display_data"
    },
    {
     "name": "stdout",
     "output_type": "stream",
     "text": [
      "MC: 16>> Time: 13\n",
      "MC: 16>> Time: 14\n",
      "MC: 16>> Time: 15\n",
      "MC: 16>> Time: 16\n"
     ]
    },
    {
     "data": {
      "text/plain": [
       "\"DB: Nominal solution at t = 16: found\""
      ]
     },
     "metadata": {},
     "output_type": "display_data"
    },
    {
     "data": {
      "text/plain": [
       "\"DB: opt. gap 1.0000000113650016\""
      ]
     },
     "metadata": {},
     "output_type": "display_data"
    },
    {
     "data": {
      "text/plain": [
       "\">>>>>> iteration 1:O\""
      ]
     },
     "metadata": {},
     "output_type": "display_data"
    },
    {
     "data": {
      "text/plain": [
       "\"DB: opt. gap 0.011943401089094498\""
      ]
     },
     "metadata": {},
     "output_type": "display_data"
    },
    {
     "data": {
      "text/plain": [
       "\">>>>>> iteration 2:O\""
      ]
     },
     "metadata": {},
     "output_type": "display_data"
    },
    {
     "data": {
      "text/plain": [
       "\"DB: opt. gap 0.003928264106786414\""
      ]
     },
     "metadata": {},
     "output_type": "display_data"
    },
    {
     "data": {
      "text/plain": [
       "\">>>>>> iteration 3:O\""
      ]
     },
     "metadata": {},
     "output_type": "display_data"
    },
    {
     "data": {
      "text/plain": [
       "\"DB: opt. gap 0.0010310071212786573\""
      ]
     },
     "metadata": {},
     "output_type": "display_data"
    },
    {
     "data": {
      "text/plain": [
       "\">>>>>> iteration 4:O\""
      ]
     },
     "metadata": {},
     "output_type": "display_data"
    },
    {
     "data": {
      "text/plain": [
       "\"DB: opt. gap 0.001113362631089099\""
      ]
     },
     "metadata": {},
     "output_type": "display_data"
    },
    {
     "data": {
      "text/plain": [
       "\">>>>>> iteration 5:O\""
      ]
     },
     "metadata": {},
     "output_type": "display_data"
    },
    {
     "data": {
      "text/plain": [
       "\"DB: random\""
      ]
     },
     "metadata": {},
     "output_type": "display_data"
    },
    {
     "data": {
      "text/plain": [
       "\"DB: opt. gap 0.00023264701740098936\""
      ]
     },
     "metadata": {},
     "output_type": "display_data"
    },
    {
     "data": {
      "text/plain": [
       "\"DB: CLDRTO method: 2 - Solution at t = 16: found\""
      ]
     },
     "metadata": {},
     "output_type": "display_data"
    },
    {
     "name": "stdout",
     "output_type": "stream",
     "text": [
      "MC: 16>> Time: 17\n",
      "MC: 16>> Time: 18\n",
      "MC: 16>> Time: 19\n",
      "MC: 16>> Time: 20\n"
     ]
    },
    {
     "data": {
      "text/plain": [
       "\"DB: Nominal solution at t = 20: found\""
      ]
     },
     "metadata": {},
     "output_type": "display_data"
    },
    {
     "data": {
      "text/plain": [
       "\"DB: opt. gap 1.0000000113660312\""
      ]
     },
     "metadata": {},
     "output_type": "display_data"
    },
    {
     "data": {
      "text/plain": [
       "\">>>>>> iteration 1:O\""
      ]
     },
     "metadata": {},
     "output_type": "display_data"
    },
    {
     "data": {
      "text/plain": [
       "\"DB: opt. gap 0.01568475897256328\""
      ]
     },
     "metadata": {},
     "output_type": "display_data"
    },
    {
     "data": {
      "text/plain": [
       "\">>>>>> iteration 2:O\""
      ]
     },
     "metadata": {},
     "output_type": "display_data"
    },
    {
     "data": {
      "text/plain": [
       "\"DB: opt. gap 0.004203276114627086\""
      ]
     },
     "metadata": {},
     "output_type": "display_data"
    },
    {
     "data": {
      "text/plain": [
       "\">>>>>> iteration 3:O\""
      ]
     },
     "metadata": {},
     "output_type": "display_data"
    },
    {
     "data": {
      "text/plain": [
       "\"DB: opt. gap 0.0011196729555765317\""
      ]
     },
     "metadata": {},
     "output_type": "display_data"
    },
    {
     "data": {
      "text/plain": [
       "\">>>>>> iteration 4:O\""
      ]
     },
     "metadata": {},
     "output_type": "display_data"
    },
    {
     "data": {
      "text/plain": [
       "\"DB: opt. gap 0.0012542240388591771\""
      ]
     },
     "metadata": {},
     "output_type": "display_data"
    },
    {
     "data": {
      "text/plain": [
       "\">>>>>> iteration 5:O\""
      ]
     },
     "metadata": {},
     "output_type": "display_data"
    },
    {
     "data": {
      "text/plain": [
       "\"DB: random\""
      ]
     },
     "metadata": {},
     "output_type": "display_data"
    },
    {
     "data": {
      "text/plain": [
       "\"DB: opt. gap 0.0003347729457716203\""
      ]
     },
     "metadata": {},
     "output_type": "display_data"
    },
    {
     "data": {
      "text/plain": [
       "\"DB: CLDRTO method: 2 - Solution at t = 20: found\""
      ]
     },
     "metadata": {},
     "output_type": "display_data"
    },
    {
     "data": {
      "text/plain": [
       "\"DB: MC iter. 17 --> Plant parameter = 0.6274209384642689\""
      ]
     },
     "metadata": {},
     "output_type": "display_data"
    },
    {
     "data": {
      "text/plain": [
       "\"Nominal solution at t = 0: found\""
      ]
     },
     "metadata": {},
     "output_type": "display_data"
    },
    {
     "name": "stdout",
     "output_type": "stream",
     "text": [
      "MC: 17>> Time: 1\n"
     ]
    },
    {
     "data": {
      "text/plain": [
       "\"DB: CLDRTO method: 1 - Solution at t = 1: found\""
      ]
     },
     "metadata": {},
     "output_type": "display_data"
    },
    {
     "name": "stdout",
     "output_type": "stream",
     "text": [
      "MC: 17>> Time: 2\n",
      "MC: 17>> Time: 3\n",
      "MC: 17>> Time: 4\n"
     ]
    },
    {
     "data": {
      "text/plain": [
       "\"DB: Nominal solution at t = 4: found\""
      ]
     },
     "metadata": {},
     "output_type": "display_data"
    },
    {
     "data": {
      "text/plain": [
       "\"DB: CLDRTO method: 1 - Solution at t = 4: found\""
      ]
     },
     "metadata": {},
     "output_type": "display_data"
    },
    {
     "name": "stdout",
     "output_type": "stream",
     "text": [
      "MC: 17>> Time: 5\n",
      "MC: 17>> Time: 6\n",
      "MC: 17>> Time: 7\n",
      "MC: 17>> Time: 8\n"
     ]
    },
    {
     "data": {
      "text/plain": [
       "\"DB: Nominal solution at t = 8: found\""
      ]
     },
     "metadata": {},
     "output_type": "display_data"
    },
    {
     "data": {
      "text/plain": [
       "\"DB: CLDRTO method: 1 - Solution at t = 8: found\""
      ]
     },
     "metadata": {},
     "output_type": "display_data"
    },
    {
     "name": "stdout",
     "output_type": "stream",
     "text": [
      "MC: 17>> Time: 9\n",
      "MC: 17>> Time: 10\n",
      "MC: 17>> Time: 11\n",
      "MC: 17>> Time: 12\n"
     ]
    },
    {
     "data": {
      "text/plain": [
       "\"DB: Nominal solution at t = 12: found\""
      ]
     },
     "metadata": {},
     "output_type": "display_data"
    },
    {
     "data": {
      "text/plain": [
       "\"DB: CLDRTO method: 1 - Solution at t = 12: found\""
      ]
     },
     "metadata": {},
     "output_type": "display_data"
    },
    {
     "name": "stdout",
     "output_type": "stream",
     "text": [
      "MC: 17>> Time: 13\n",
      "MC: 17>> Time: 14\n",
      "MC: 17>> Time: 15\n",
      "MC: 17>> Time: 16\n"
     ]
    },
    {
     "data": {
      "text/plain": [
       "\"DB: Nominal solution at t = 16: found\""
      ]
     },
     "metadata": {},
     "output_type": "display_data"
    },
    {
     "data": {
      "text/plain": [
       "\"DB: CLDRTO method: 1 - Solution at t = 16: found\""
      ]
     },
     "metadata": {},
     "output_type": "display_data"
    },
    {
     "name": "stdout",
     "output_type": "stream",
     "text": [
      "MC: 17>> Time: 17\n",
      "MC: 17>> Time: 18\n",
      "MC: 17>> Time: 19\n",
      "MC: 17>> Time: 20\n"
     ]
    },
    {
     "data": {
      "text/plain": [
       "\"DB: Nominal solution at t = 20: found\""
      ]
     },
     "metadata": {},
     "output_type": "display_data"
    },
    {
     "data": {
      "text/plain": [
       "\"DB: CLDRTO method: 1 - Solution at t = 20: found\""
      ]
     },
     "metadata": {},
     "output_type": "display_data"
    },
    {
     "data": {
      "text/plain": [
       "\"Nominal solution at t = 0: found\""
      ]
     },
     "metadata": {},
     "output_type": "display_data"
    },
    {
     "name": "stdout",
     "output_type": "stream",
     "text": [
      "MC: 17>> Time: 1\n"
     ]
    },
    {
     "data": {
      "text/plain": [
       "\"DB: opt. gap 1.000000005263681\""
      ]
     },
     "metadata": {},
     "output_type": "display_data"
    },
    {
     "data": {
      "text/plain": [
       "\">>>>>> iteration 1:O\""
      ]
     },
     "metadata": {},
     "output_type": "display_data"
    },
    {
     "data": {
      "text/plain": [
       "\"DB: opt. gap 0.00431106866548491\""
      ]
     },
     "metadata": {},
     "output_type": "display_data"
    },
    {
     "data": {
      "text/plain": [
       "\">>>>>> iteration 2:O\""
      ]
     },
     "metadata": {},
     "output_type": "display_data"
    },
    {
     "data": {
      "text/plain": [
       "\"DB: opt. gap 0.004100693528206623\""
      ]
     },
     "metadata": {},
     "output_type": "display_data"
    },
    {
     "data": {
      "text/plain": [
       "\">>>>>> iteration 3:O\""
      ]
     },
     "metadata": {},
     "output_type": "display_data"
    },
    {
     "data": {
      "text/plain": [
       "\"DB: random\""
      ]
     },
     "metadata": {},
     "output_type": "display_data"
    },
    {
     "data": {
      "text/plain": [
       "\"DB: opt. gap 2.461542888283802e-6\""
      ]
     },
     "metadata": {},
     "output_type": "display_data"
    },
    {
     "data": {
      "text/plain": [
       "\"DB: CLDRTO method: 2 - Solution at t = 1: found\""
      ]
     },
     "metadata": {},
     "output_type": "display_data"
    },
    {
     "name": "stdout",
     "output_type": "stream",
     "text": [
      "MC: 17>> Time: 2\n",
      "MC: 17>> Time: 3\n",
      "MC: 17>> Time: 4\n"
     ]
    },
    {
     "data": {
      "text/plain": [
       "\"DB: Nominal solution at t = 4: found\""
      ]
     },
     "metadata": {},
     "output_type": "display_data"
    },
    {
     "data": {
      "text/plain": [
       "\"DB: opt. gap 1.0000000196445258\""
      ]
     },
     "metadata": {},
     "output_type": "display_data"
    },
    {
     "data": {
      "text/plain": [
       "\">>>>>> iteration 1:O\""
      ]
     },
     "metadata": {},
     "output_type": "display_data"
    },
    {
     "data": {
      "text/plain": [
       "\"DB: opt. gap 0.004533947421556362\""
      ]
     },
     "metadata": {},
     "output_type": "display_data"
    },
    {
     "data": {
      "text/plain": [
       "\">>>>>> iteration 2:O\""
      ]
     },
     "metadata": {},
     "output_type": "display_data"
    },
    {
     "data": {
      "text/plain": [
       "\"DB: opt. gap 0.0043181401887588166\""
      ]
     },
     "metadata": {},
     "output_type": "display_data"
    },
    {
     "data": {
      "text/plain": [
       "\">>>>>> iteration 3:O\""
      ]
     },
     "metadata": {},
     "output_type": "display_data"
    },
    {
     "data": {
      "text/plain": [
       "\"DB: random\""
      ]
     },
     "metadata": {},
     "output_type": "display_data"
    },
    {
     "data": {
      "text/plain": [
       "\"DB: opt. gap 1.020154933770042e-6\""
      ]
     },
     "metadata": {},
     "output_type": "display_data"
    },
    {
     "data": {
      "text/plain": [
       "\"DB: CLDRTO method: 2 - Solution at t = 4: found\""
      ]
     },
     "metadata": {},
     "output_type": "display_data"
    },
    {
     "name": "stdout",
     "output_type": "stream",
     "text": [
      "MC: 17>> Time: 5\n",
      "MC: 17>> Time: 6\n",
      "MC: 17>> Time: 7\n",
      "MC: 17>> Time: 8\n"
     ]
    },
    {
     "data": {
      "text/plain": [
       "\"DB: Nominal solution at t = 8: found\""
      ]
     },
     "metadata": {},
     "output_type": "display_data"
    },
    {
     "data": {
      "text/plain": [
       "\"DB: opt. gap 1.000000525852677\""
      ]
     },
     "metadata": {},
     "output_type": "display_data"
    },
    {
     "data": {
      "text/plain": [
       "\">>>>>> iteration 1:O\""
      ]
     },
     "metadata": {},
     "output_type": "display_data"
    },
    {
     "data": {
      "text/plain": [
       "\"DB: opt. gap 0.05885908245068836\""
      ]
     },
     "metadata": {},
     "output_type": "display_data"
    },
    {
     "data": {
      "text/plain": [
       "\">>>>>> iteration 2:O\""
      ]
     },
     "metadata": {},
     "output_type": "display_data"
    },
    {
     "data": {
      "text/plain": [
       "\"DB: opt. gap 0.04299896989182444\""
      ]
     },
     "metadata": {},
     "output_type": "display_data"
    },
    {
     "data": {
      "text/plain": [
       "\">>>>>> iteration 3:O\""
      ]
     },
     "metadata": {},
     "output_type": "display_data"
    },
    {
     "data": {
      "text/plain": [
       "\"DB: opt. gap 0.0028577783614000666\""
      ]
     },
     "metadata": {},
     "output_type": "display_data"
    },
    {
     "data": {
      "text/plain": [
       "\">>>>>> iteration 4:O\""
      ]
     },
     "metadata": {},
     "output_type": "display_data"
    },
    {
     "data": {
      "text/plain": [
       "\"DB: opt. gap 0.003403249529935918\""
      ]
     },
     "metadata": {},
     "output_type": "display_data"
    },
    {
     "data": {
      "text/plain": [
       "\">>>>>> iteration 5:O\""
      ]
     },
     "metadata": {},
     "output_type": "display_data"
    },
    {
     "data": {
      "text/plain": [
       "\"DB: random\""
      ]
     },
     "metadata": {},
     "output_type": "display_data"
    },
    {
     "data": {
      "text/plain": [
       "\"DB: opt. gap 0.00037098061315904397\""
      ]
     },
     "metadata": {},
     "output_type": "display_data"
    },
    {
     "data": {
      "text/plain": [
       "\"DB: CLDRTO method: 2 - Solution at t = 8: found\""
      ]
     },
     "metadata": {},
     "output_type": "display_data"
    },
    {
     "name": "stdout",
     "output_type": "stream",
     "text": [
      "MC: 17>> Time: 9\n",
      "MC: 17>> Time: 10\n",
      "MC: 17>> Time: 11\n",
      "MC: 17>> Time: 12\n"
     ]
    },
    {
     "data": {
      "text/plain": [
       "\"DB: Nominal solution at t = 12: found\""
      ]
     },
     "metadata": {},
     "output_type": "display_data"
    },
    {
     "data": {
      "text/plain": [
       "\"DB: opt. gap 1.0000046568560566\""
      ]
     },
     "metadata": {},
     "output_type": "display_data"
    },
    {
     "data": {
      "text/plain": [
       "\">>>>>> iteration 1:O\""
      ]
     },
     "metadata": {},
     "output_type": "display_data"
    },
    {
     "data": {
      "text/plain": [
       "\"DB: opt. gap 0.5433375878765104\""
      ]
     },
     "metadata": {},
     "output_type": "display_data"
    },
    {
     "data": {
      "text/plain": [
       "\">>>>>> iteration 2:O\""
      ]
     },
     "metadata": {},
     "output_type": "display_data"
    },
    {
     "data": {
      "text/plain": [
       "\"DB: opt. gap 0.2650711483590164\""
      ]
     },
     "metadata": {},
     "output_type": "display_data"
    },
    {
     "data": {
      "text/plain": [
       "\">>>>>> iteration 3:O\""
      ]
     },
     "metadata": {},
     "output_type": "display_data"
    },
    {
     "data": {
      "text/plain": [
       "\"DB: opt. gap 0.08548407120020744\""
      ]
     },
     "metadata": {},
     "output_type": "display_data"
    },
    {
     "data": {
      "text/plain": [
       "\">>>>>> iteration 4:O\""
      ]
     },
     "metadata": {},
     "output_type": "display_data"
    },
    {
     "data": {
      "text/plain": [
       "\"DB: opt. gap 0.02475193315466048\""
      ]
     },
     "metadata": {},
     "output_type": "display_data"
    },
    {
     "data": {
      "text/plain": [
       "\">>>>>> iteration 5:O\""
      ]
     },
     "metadata": {},
     "output_type": "display_data"
    },
    {
     "data": {
      "text/plain": [
       "\"DB: opt. gap 0.01012634550067883\""
      ]
     },
     "metadata": {},
     "output_type": "display_data"
    },
    {
     "data": {
      "text/plain": [
       "\">>>>>> iteration 6:O\""
      ]
     },
     "metadata": {},
     "output_type": "display_data"
    },
    {
     "data": {
      "text/plain": [
       "\"DB: opt. gap 0.007560499474571385\""
      ]
     },
     "metadata": {},
     "output_type": "display_data"
    },
    {
     "data": {
      "text/plain": [
       "\">>>>>> iteration 7:O\""
      ]
     },
     "metadata": {},
     "output_type": "display_data"
    },
    {
     "data": {
      "text/plain": [
       "\"DB: opt. gap 0.011633789895092169\""
      ]
     },
     "metadata": {},
     "output_type": "display_data"
    },
    {
     "data": {
      "text/plain": [
       "\">>>>>> iteration 8:O\""
      ]
     },
     "metadata": {},
     "output_type": "display_data"
    },
    {
     "data": {
      "text/plain": [
       "\"DB: opt. gap 0.004332101979322444\""
      ]
     },
     "metadata": {},
     "output_type": "display_data"
    },
    {
     "data": {
      "text/plain": [
       "\">>>>>> iteration 9:O\""
      ]
     },
     "metadata": {},
     "output_type": "display_data"
    },
    {
     "data": {
      "text/plain": [
       "\"DB: opt. gap 0.0007267641068101727\""
      ]
     },
     "metadata": {},
     "output_type": "display_data"
    },
    {
     "data": {
      "text/plain": [
       "\"DB: CLDRTO method: 2 - Solution at t = 12: found\""
      ]
     },
     "metadata": {},
     "output_type": "display_data"
    },
    {
     "name": "stdout",
     "output_type": "stream",
     "text": [
      "MC: 17>> Time: 13\n",
      "MC: 17>> Time: 14\n",
      "MC: 17>> Time: 15\n",
      "MC: 17>> Time: 16\n"
     ]
    },
    {
     "data": {
      "text/plain": [
       "\"DB: Nominal solution at t = 16: found\""
      ]
     },
     "metadata": {},
     "output_type": "display_data"
    },
    {
     "data": {
      "text/plain": [
       "\"DB: opt. gap 1.0000045962904125\""
      ]
     },
     "metadata": {},
     "output_type": "display_data"
    },
    {
     "data": {
      "text/plain": [
       "\">>>>>> iteration 1:O\""
      ]
     },
     "metadata": {},
     "output_type": "display_data"
    },
    {
     "data": {
      "text/plain": [
       "\"DB: opt. gap 0.5736325000947146\""
      ]
     },
     "metadata": {},
     "output_type": "display_data"
    },
    {
     "data": {
      "text/plain": [
       "\">>>>>> iteration 2:O\""
      ]
     },
     "metadata": {},
     "output_type": "display_data"
    },
    {
     "data": {
      "text/plain": [
       "\"DB: opt. gap 0.2830020662225626\""
      ]
     },
     "metadata": {},
     "output_type": "display_data"
    },
    {
     "data": {
      "text/plain": [
       "\">>>>>> iteration 3:O\""
      ]
     },
     "metadata": {},
     "output_type": "display_data"
    },
    {
     "data": {
      "text/plain": [
       "\"DB: opt. gap 0.09299469594103994\""
      ]
     },
     "metadata": {},
     "output_type": "display_data"
    },
    {
     "data": {
      "text/plain": [
       "\">>>>>> iteration 4:O\""
      ]
     },
     "metadata": {},
     "output_type": "display_data"
    },
    {
     "data": {
      "text/plain": [
       "\"DB: opt. gap 0.026851917535319007\""
      ]
     },
     "metadata": {},
     "output_type": "display_data"
    },
    {
     "data": {
      "text/plain": [
       "\">>>>>> iteration 5:O\""
      ]
     },
     "metadata": {},
     "output_type": "display_data"
    },
    {
     "data": {
      "text/plain": [
       "\"DB: opt. gap 0.009077856097462391\""
      ]
     },
     "metadata": {},
     "output_type": "display_data"
    },
    {
     "data": {
      "text/plain": [
       "\">>>>>> iteration 6:O\""
      ]
     },
     "metadata": {},
     "output_type": "display_data"
    },
    {
     "data": {
      "text/plain": [
       "\"DB: opt. gap 0.007083152558657562\""
      ]
     },
     "metadata": {},
     "output_type": "display_data"
    },
    {
     "data": {
      "text/plain": [
       "\">>>>>> iteration 7:O\""
      ]
     },
     "metadata": {},
     "output_type": "display_data"
    },
    {
     "data": {
      "text/plain": [
       "\"DB: opt. gap 0.010647401690160888\""
      ]
     },
     "metadata": {},
     "output_type": "display_data"
    },
    {
     "data": {
      "text/plain": [
       "\">>>>>> iteration 8:O\""
      ]
     },
     "metadata": {},
     "output_type": "display_data"
    },
    {
     "data": {
      "text/plain": [
       "\"DB: opt. gap 0.004316670456930171\""
      ]
     },
     "metadata": {},
     "output_type": "display_data"
    },
    {
     "data": {
      "text/plain": [
       "\">>>>>> iteration 9:O\""
      ]
     },
     "metadata": {},
     "output_type": "display_data"
    },
    {
     "data": {
      "text/plain": [
       "\"DB: opt. gap 0.0038360642479182655\""
      ]
     },
     "metadata": {},
     "output_type": "display_data"
    },
    {
     "data": {
      "text/plain": [
       "\">>>>>> iteration 10:O\""
      ]
     },
     "metadata": {},
     "output_type": "display_data"
    },
    {
     "data": {
      "text/plain": [
       "\"DB: random\""
      ]
     },
     "metadata": {},
     "output_type": "display_data"
    },
    {
     "data": {
      "text/plain": [
       "\"DB: opt. gap 0.0009181397390875952\""
      ]
     },
     "metadata": {},
     "output_type": "display_data"
    },
    {
     "data": {
      "text/plain": [
       "\"DB: CLDRTO method: 2 - Solution at t = 16: found\""
      ]
     },
     "metadata": {},
     "output_type": "display_data"
    },
    {
     "name": "stdout",
     "output_type": "stream",
     "text": [
      "MC: 17>> Time: 17\n",
      "MC: 17>> Time: 18\n",
      "MC: 17>> Time: 19\n",
      "MC: 17>> Time: 20\n"
     ]
    },
    {
     "data": {
      "text/plain": [
       "\"DB: Nominal solution at t = 20: found\""
      ]
     },
     "metadata": {},
     "output_type": "display_data"
    },
    {
     "data": {
      "text/plain": [
       "\"DB: opt. gap 1.0000047932015579\""
      ]
     },
     "metadata": {},
     "output_type": "display_data"
    },
    {
     "data": {
      "text/plain": [
       "\">>>>>> iteration 1:O\""
      ]
     },
     "metadata": {},
     "output_type": "display_data"
    },
    {
     "data": {
      "text/plain": [
       "\"DB: opt. gap 0.2468775405810886\""
      ]
     },
     "metadata": {},
     "output_type": "display_data"
    },
    {
     "data": {
      "text/plain": [
       "\">>>>>> iteration 2:O\""
      ]
     },
     "metadata": {},
     "output_type": "display_data"
    },
    {
     "data": {
      "text/plain": [
       "\"DB: opt. gap 0.09811013564591954\""
      ]
     },
     "metadata": {},
     "output_type": "display_data"
    },
    {
     "data": {
      "text/plain": [
       "\">>>>>> iteration 3:O\""
      ]
     },
     "metadata": {},
     "output_type": "display_data"
    },
    {
     "data": {
      "text/plain": [
       "\"DB: opt. gap 0.0285419107145443\""
      ]
     },
     "metadata": {},
     "output_type": "display_data"
    },
    {
     "data": {
      "text/plain": [
       "\">>>>>> iteration 4:O\""
      ]
     },
     "metadata": {},
     "output_type": "display_data"
    },
    {
     "data": {
      "text/plain": [
       "\"DB: opt. gap 0.009679152437362816\""
      ]
     },
     "metadata": {},
     "output_type": "display_data"
    },
    {
     "data": {
      "text/plain": [
       "\">>>>>> iteration 5:O\""
      ]
     },
     "metadata": {},
     "output_type": "display_data"
    },
    {
     "data": {
      "text/plain": [
       "\"DB: opt. gap 0.007847740003935164\""
      ]
     },
     "metadata": {},
     "output_type": "display_data"
    },
    {
     "data": {
      "text/plain": [
       "\">>>>>> iteration 6:O\""
      ]
     },
     "metadata": {},
     "output_type": "display_data"
    },
    {
     "data": {
      "text/plain": [
       "\"DB: opt. gap 0.006138544152597242\""
      ]
     },
     "metadata": {},
     "output_type": "display_data"
    },
    {
     "data": {
      "text/plain": [
       "\">>>>>> iteration 7:O\""
      ]
     },
     "metadata": {},
     "output_type": "display_data"
    },
    {
     "data": {
      "text/plain": [
       "\"DB: opt. gap 0.001205750754072858\""
      ]
     },
     "metadata": {},
     "output_type": "display_data"
    },
    {
     "data": {
      "text/plain": [
       "\">>>>>> iteration 8:O\""
      ]
     },
     "metadata": {},
     "output_type": "display_data"
    },
    {
     "data": {
      "text/plain": [
       "\"DB: opt. gap 0.0010550470331685776\""
      ]
     },
     "metadata": {},
     "output_type": "display_data"
    },
    {
     "data": {
      "text/plain": [
       "\">>>>>> iteration 9:O\""
      ]
     },
     "metadata": {},
     "output_type": "display_data"
    },
    {
     "data": {
      "text/plain": [
       "\"DB: random\""
      ]
     },
     "metadata": {},
     "output_type": "display_data"
    },
    {
     "data": {
      "text/plain": [
       "\"DB: opt. gap 1.5075954583393653e-5\""
      ]
     },
     "metadata": {},
     "output_type": "display_data"
    },
    {
     "data": {
      "text/plain": [
       "\"DB: CLDRTO method: 2 - Solution at t = 20: found\""
      ]
     },
     "metadata": {},
     "output_type": "display_data"
    },
    {
     "data": {
      "text/plain": [
       "\"DB: MC iter. 18 --> Plant parameter = 0.7228951762032405\""
      ]
     },
     "metadata": {},
     "output_type": "display_data"
    },
    {
     "data": {
      "text/plain": [
       "\"Nominal solution at t = 0: found\""
      ]
     },
     "metadata": {},
     "output_type": "display_data"
    },
    {
     "name": "stdout",
     "output_type": "stream",
     "text": [
      "MC: 18>> Time: 1\n"
     ]
    },
    {
     "data": {
      "text/plain": [
       "\"DB: CLDRTO method: 1 - Solution at t = 1: found\""
      ]
     },
     "metadata": {},
     "output_type": "display_data"
    },
    {
     "name": "stdout",
     "output_type": "stream",
     "text": [
      "MC: 18>> Time: 2\n",
      "MC: 18>> Time: 3\n",
      "MC: 18>> Time: 4\n"
     ]
    },
    {
     "data": {
      "text/plain": [
       "\"DB: Nominal solution at t = 4: found\""
      ]
     },
     "metadata": {},
     "output_type": "display_data"
    },
    {
     "data": {
      "text/plain": [
       "\"DB: CLDRTO method: 1 - Solution at t = 4: found\""
      ]
     },
     "metadata": {},
     "output_type": "display_data"
    },
    {
     "name": "stdout",
     "output_type": "stream",
     "text": [
      "MC: 18>> Time: 5\n",
      "MC: 18>> Time: 6\n",
      "MC: 18>> Time: 7\n",
      "MC: 18>> Time: 8\n"
     ]
    },
    {
     "data": {
      "text/plain": [
       "\"DB: Nominal solution at t = 8: found\""
      ]
     },
     "metadata": {},
     "output_type": "display_data"
    },
    {
     "data": {
      "text/plain": [
       "\"DB: CLDRTO method: 1 - Solution at t = 8: found\""
      ]
     },
     "metadata": {},
     "output_type": "display_data"
    },
    {
     "name": "stdout",
     "output_type": "stream",
     "text": [
      "MC: 18>> Time: 9\n",
      "MC: 18>> Time: 10\n",
      "MC: 18>> Time: 11\n",
      "MC: 18>> Time: 12\n"
     ]
    },
    {
     "data": {
      "text/plain": [
       "\"DB: Nominal solution at t = 12: found\""
      ]
     },
     "metadata": {},
     "output_type": "display_data"
    },
    {
     "data": {
      "text/plain": [
       "\"DB: CLDRTO method: 1 - Solution at t = 12: found\""
      ]
     },
     "metadata": {},
     "output_type": "display_data"
    },
    {
     "name": "stdout",
     "output_type": "stream",
     "text": [
      "MC: 18>> Time: 13\n",
      "MC: 18>> Time: 14\n",
      "MC: 18>> Time: 15\n",
      "MC: 18>> Time: 16\n"
     ]
    },
    {
     "data": {
      "text/plain": [
       "\"DB: Nominal solution at t = 16: found\""
      ]
     },
     "metadata": {},
     "output_type": "display_data"
    },
    {
     "data": {
      "text/plain": [
       "\"DB: CLDRTO method: 1 - Solution at t = 16: found\""
      ]
     },
     "metadata": {},
     "output_type": "display_data"
    },
    {
     "name": "stdout",
     "output_type": "stream",
     "text": [
      "MC: 18>> Time: 17\n",
      "MC: 18>> Time: 18\n",
      "MC: 18>> Time: 19\n",
      "MC: 18>> Time: 20\n"
     ]
    },
    {
     "data": {
      "text/plain": [
       "\"DB: Nominal solution at t = 20: found\""
      ]
     },
     "metadata": {},
     "output_type": "display_data"
    },
    {
     "data": {
      "text/plain": [
       "\"DB: CLDRTO method: 1 - Solution at t = 20: found\""
      ]
     },
     "metadata": {},
     "output_type": "display_data"
    },
    {
     "data": {
      "text/plain": [
       "\"Nominal solution at t = 0: found\""
      ]
     },
     "metadata": {},
     "output_type": "display_data"
    },
    {
     "name": "stdout",
     "output_type": "stream",
     "text": [
      "MC: 18>> Time: 1\n"
     ]
    },
    {
     "data": {
      "text/plain": [
       "\"DB: opt. gap 1.000000005263681\""
      ]
     },
     "metadata": {},
     "output_type": "display_data"
    },
    {
     "data": {
      "text/plain": [
       "\">>>>>> iteration 1:O\""
      ]
     },
     "metadata": {},
     "output_type": "display_data"
    },
    {
     "data": {
      "text/plain": [
       "\"DB: opt. gap 0.00431106866548491\""
      ]
     },
     "metadata": {},
     "output_type": "display_data"
    },
    {
     "data": {
      "text/plain": [
       "\">>>>>> iteration 2:O\""
      ]
     },
     "metadata": {},
     "output_type": "display_data"
    },
    {
     "data": {
      "text/plain": [
       "\"DB: opt. gap 0.004100693528206623\""
      ]
     },
     "metadata": {},
     "output_type": "display_data"
    },
    {
     "data": {
      "text/plain": [
       "\">>>>>> iteration 3:O\""
      ]
     },
     "metadata": {},
     "output_type": "display_data"
    },
    {
     "data": {
      "text/plain": [
       "\"DB: random\""
      ]
     },
     "metadata": {},
     "output_type": "display_data"
    },
    {
     "data": {
      "text/plain": [
       "\"DB: opt. gap 2.4614233856643824e-6\""
      ]
     },
     "metadata": {},
     "output_type": "display_data"
    },
    {
     "data": {
      "text/plain": [
       "\"DB: CLDRTO method: 2 - Solution at t = 1: found\""
      ]
     },
     "metadata": {},
     "output_type": "display_data"
    },
    {
     "name": "stdout",
     "output_type": "stream",
     "text": [
      "MC: 18>> Time: 2\n",
      "MC: 18>> Time: 3\n",
      "MC: 18>> Time: 4\n"
     ]
    },
    {
     "data": {
      "text/plain": [
       "\"DB: Nominal solution at t = 4: found\""
      ]
     },
     "metadata": {},
     "output_type": "display_data"
    },
    {
     "data": {
      "text/plain": [
       "\"DB: opt. gap 1.0000000256854147\""
      ]
     },
     "metadata": {},
     "output_type": "display_data"
    },
    {
     "data": {
      "text/plain": [
       "\">>>>>> iteration 1:O\""
      ]
     },
     "metadata": {},
     "output_type": "display_data"
    },
    {
     "data": {
      "text/plain": [
       "\"DB: opt. gap 0.011832287725687769\""
      ]
     },
     "metadata": {},
     "output_type": "display_data"
    },
    {
     "data": {
      "text/plain": [
       "\">>>>>> iteration 2:O\""
      ]
     },
     "metadata": {},
     "output_type": "display_data"
    },
    {
     "data": {
      "text/plain": [
       "\"DB: opt. gap 0.010959758500245782\""
      ]
     },
     "metadata": {},
     "output_type": "display_data"
    },
    {
     "data": {
      "text/plain": [
       "\">>>>>> iteration 3:O\""
      ]
     },
     "metadata": {},
     "output_type": "display_data"
    },
    {
     "data": {
      "text/plain": [
       "\"DB: random\""
      ]
     },
     "metadata": {},
     "output_type": "display_data"
    },
    {
     "data": {
      "text/plain": [
       "\"DB: opt. gap 1.2170743713909442e-5\""
      ]
     },
     "metadata": {},
     "output_type": "display_data"
    },
    {
     "data": {
      "text/plain": [
       "\"DB: CLDRTO method: 2 - Solution at t = 4: found\""
      ]
     },
     "metadata": {},
     "output_type": "display_data"
    },
    {
     "name": "stdout",
     "output_type": "stream",
     "text": [
      "MC: 18>> Time: 5\n",
      "MC: 18>> Time: 6\n",
      "MC: 18>> Time: 7\n",
      "MC: 18>> Time: 8\n"
     ]
    },
    {
     "data": {
      "text/plain": [
       "\"DB: Nominal solution at t = 8: found\""
      ]
     },
     "metadata": {},
     "output_type": "display_data"
    },
    {
     "data": {
      "text/plain": [
       "\"DB: opt. gap 1.0000082923971247\""
      ]
     },
     "metadata": {},
     "output_type": "display_data"
    },
    {
     "data": {
      "text/plain": [
       "\">>>>>> iteration 1:O\""
      ]
     },
     "metadata": {},
     "output_type": "display_data"
    },
    {
     "data": {
      "text/plain": [
       "\"DB: opt. gap 1.000007620527077\""
      ]
     },
     "metadata": {},
     "output_type": "display_data"
    },
    {
     "data": {
      "text/plain": [
       "\">>>>>> iteration 2:O\""
      ]
     },
     "metadata": {},
     "output_type": "display_data"
    },
    {
     "data": {
      "text/plain": [
       "\"DB: random\""
      ]
     },
     "metadata": {},
     "output_type": "display_data"
    },
    {
     "data": {
      "text/plain": [
       "\"DB: opt. gap 0.12491180502439386\""
      ]
     },
     "metadata": {},
     "output_type": "display_data"
    },
    {
     "data": {
      "text/plain": [
       "\">>>>>> iteration 3:O\""
      ]
     },
     "metadata": {},
     "output_type": "display_data"
    },
    {
     "data": {
      "text/plain": [
       "\"DB: opt. gap 0.10386966082007038\""
      ]
     },
     "metadata": {},
     "output_type": "display_data"
    },
    {
     "data": {
      "text/plain": [
       "\">>>>>> iteration 4:O\""
      ]
     },
     "metadata": {},
     "output_type": "display_data"
    },
    {
     "data": {
      "text/plain": [
       "\"DB: opt. gap 0.08198803525133334\""
      ]
     },
     "metadata": {},
     "output_type": "display_data"
    },
    {
     "data": {
      "text/plain": [
       "\">>>>>> iteration 5:O\""
      ]
     },
     "metadata": {},
     "output_type": "display_data"
    },
    {
     "data": {
      "text/plain": [
       "\"DB: opt. gap 0.06275845975739508\""
      ]
     },
     "metadata": {},
     "output_type": "display_data"
    },
    {
     "data": {
      "text/plain": [
       "\">>>>>> iteration 6:O\""
      ]
     },
     "metadata": {},
     "output_type": "display_data"
    },
    {
     "data": {
      "text/plain": [
       "\"DB: opt. gap 0.010310676075789624\""
      ]
     },
     "metadata": {},
     "output_type": "display_data"
    },
    {
     "data": {
      "text/plain": [
       "\">>>>>> iteration 7:O\""
      ]
     },
     "metadata": {},
     "output_type": "display_data"
    },
    {
     "data": {
      "text/plain": [
       "\"DB: opt. gap 0.011533508792985592\""
      ]
     },
     "metadata": {},
     "output_type": "display_data"
    },
    {
     "data": {
      "text/plain": [
       "\">>>>>> iteration 8:O\""
      ]
     },
     "metadata": {},
     "output_type": "display_data"
    },
    {
     "data": {
      "text/plain": [
       "\"DB: opt. gap 0.0012872938606499087\""
      ]
     },
     "metadata": {},
     "output_type": "display_data"
    },
    {
     "data": {
      "text/plain": [
       "\">>>>>> iteration 9:O\""
      ]
     },
     "metadata": {},
     "output_type": "display_data"
    },
    {
     "data": {
      "text/plain": [
       "\"DB: opt. gap 0.0009523373963782739\""
      ]
     },
     "metadata": {},
     "output_type": "display_data"
    },
    {
     "data": {
      "text/plain": [
       "\"DB: CLDRTO method: 2 - Solution at t = 8: found\""
      ]
     },
     "metadata": {},
     "output_type": "display_data"
    },
    {
     "name": "stdout",
     "output_type": "stream",
     "text": [
      "MC: 18>> Time: 9\n",
      "MC: 18>> Time: 10\n",
      "MC: 18>> Time: 11\n",
      "MC: 18>> Time: 12\n"
     ]
    },
    {
     "data": {
      "text/plain": [
       "\"DB: Nominal solution at t = 12: found\""
      ]
     },
     "metadata": {},
     "output_type": "display_data"
    },
    {
     "data": {
      "text/plain": [
       "\"DB: opt. gap 1.0000000955362884\""
      ]
     },
     "metadata": {},
     "output_type": "display_data"
    },
    {
     "data": {
      "text/plain": [
       "\">>>>>> iteration 1:O\""
      ]
     },
     "metadata": {},
     "output_type": "display_data"
    },
    {
     "data": {
      "text/plain": [
       "\"DB: opt. gap 0.39559936407815155\""
      ]
     },
     "metadata": {},
     "output_type": "display_data"
    },
    {
     "data": {
      "text/plain": [
       "\">>>>>> iteration 2:O\""
      ]
     },
     "metadata": {},
     "output_type": "display_data"
    },
    {
     "data": {
      "text/plain": [
       "\"DB: opt. gap 0.15557386933505638\""
      ]
     },
     "metadata": {},
     "output_type": "display_data"
    },
    {
     "data": {
      "text/plain": [
       "\">>>>>> iteration 3:O\""
      ]
     },
     "metadata": {},
     "output_type": "display_data"
    },
    {
     "data": {
      "text/plain": [
       "\"DB: opt. gap 0.04733973949439117\""
      ]
     },
     "metadata": {},
     "output_type": "display_data"
    },
    {
     "data": {
      "text/plain": [
       "\">>>>>> iteration 4:O\""
      ]
     },
     "metadata": {},
     "output_type": "display_data"
    },
    {
     "data": {
      "text/plain": [
       "\"DB: opt. gap 0.012584610500394968\""
      ]
     },
     "metadata": {},
     "output_type": "display_data"
    },
    {
     "data": {
      "text/plain": [
       "\">>>>>> iteration 5:O\""
      ]
     },
     "metadata": {},
     "output_type": "display_data"
    },
    {
     "data": {
      "text/plain": [
       "\"DB: opt. gap 0.0033748165372791987\""
      ]
     },
     "metadata": {},
     "output_type": "display_data"
    },
    {
     "data": {
      "text/plain": [
       "\">>>>>> iteration 6:O\""
      ]
     },
     "metadata": {},
     "output_type": "display_data"
    },
    {
     "data": {
      "text/plain": [
       "\"DB: opt. gap 0.0011258733836895353\""
      ]
     },
     "metadata": {},
     "output_type": "display_data"
    },
    {
     "data": {
      "text/plain": [
       "\">>>>>> iteration 7:O\""
      ]
     },
     "metadata": {},
     "output_type": "display_data"
    },
    {
     "data": {
      "text/plain": [
       "\"DB: opt. gap 0.00027237424032705435\""
      ]
     },
     "metadata": {},
     "output_type": "display_data"
    },
    {
     "data": {
      "text/plain": [
       "\"DB: CLDRTO method: 2 - Solution at t = 12: found\""
      ]
     },
     "metadata": {},
     "output_type": "display_data"
    },
    {
     "name": "stdout",
     "output_type": "stream",
     "text": [
      "MC: 18>> Time: 13\n",
      "MC: 18>> Time: 14\n",
      "MC: 18>> Time: 15\n",
      "MC: 18>> Time: 16\n"
     ]
    },
    {
     "data": {
      "text/plain": [
       "\"DB: Nominal solution at t = 16: found\""
      ]
     },
     "metadata": {},
     "output_type": "display_data"
    },
    {
     "data": {
      "text/plain": [
       "\"DB: opt. gap 1.000000154670648\""
      ]
     },
     "metadata": {},
     "output_type": "display_data"
    },
    {
     "data": {
      "text/plain": [
       "\">>>>>> iteration 1:O\""
      ]
     },
     "metadata": {},
     "output_type": "display_data"
    },
    {
     "data": {
      "text/plain": [
       "\"DB: opt. gap 0.0031228667555197494\""
      ]
     },
     "metadata": {},
     "output_type": "display_data"
    },
    {
     "data": {
      "text/plain": [
       "\">>>>>> iteration 2:O\""
      ]
     },
     "metadata": {},
     "output_type": "display_data"
    },
    {
     "data": {
      "text/plain": [
       "\"DB: opt. gap 0.0019947010712959507\""
      ]
     },
     "metadata": {},
     "output_type": "display_data"
    },
    {
     "data": {
      "text/plain": [
       "\">>>>>> iteration 3:O\""
      ]
     },
     "metadata": {},
     "output_type": "display_data"
    },
    {
     "data": {
      "text/plain": [
       "\"DB: opt. gap 0.0006267175338888869\""
      ]
     },
     "metadata": {},
     "output_type": "display_data"
    },
    {
     "data": {
      "text/plain": [
       "\"DB: CLDRTO method: 2 - Solution at t = 16: found\""
      ]
     },
     "metadata": {},
     "output_type": "display_data"
    },
    {
     "name": "stdout",
     "output_type": "stream",
     "text": [
      "MC: 18>> Time: 17\n",
      "MC: 18>> Time: 18\n",
      "MC: 18>> Time: 19\n",
      "MC: 18>> Time: 20\n"
     ]
    },
    {
     "data": {
      "text/plain": [
       "\"DB: Nominal solution at t = 20: found\""
      ]
     },
     "metadata": {},
     "output_type": "display_data"
    },
    {
     "data": {
      "text/plain": [
       "\"DB: opt. gap 1.0000001589245644\""
      ]
     },
     "metadata": {},
     "output_type": "display_data"
    },
    {
     "data": {
      "text/plain": [
       "\">>>>>> iteration 1:O\""
      ]
     },
     "metadata": {},
     "output_type": "display_data"
    },
    {
     "data": {
      "text/plain": [
       "\"DB: opt. gap 0.6201075060415495\""
      ]
     },
     "metadata": {},
     "output_type": "display_data"
    },
    {
     "data": {
      "text/plain": [
       "\">>>>>> iteration 2:O\""
      ]
     },
     "metadata": {},
     "output_type": "display_data"
    },
    {
     "data": {
      "text/plain": [
       "\"DB: opt. gap 0.3161053484263902\""
      ]
     },
     "metadata": {},
     "output_type": "display_data"
    },
    {
     "data": {
      "text/plain": [
       "\">>>>>> iteration 3:O\""
      ]
     },
     "metadata": {},
     "output_type": "display_data"
    },
    {
     "data": {
      "text/plain": [
       "\"DB: opt. gap 0.11337816112979292\""
      ]
     },
     "metadata": {},
     "output_type": "display_data"
    },
    {
     "data": {
      "text/plain": [
       "\">>>>>> iteration 4:O\""
      ]
     },
     "metadata": {},
     "output_type": "display_data"
    },
    {
     "data": {
      "text/plain": [
       "\"DB: opt. gap 0.03263738213426617\""
      ]
     },
     "metadata": {},
     "output_type": "display_data"
    },
    {
     "data": {
      "text/plain": [
       "\">>>>>> iteration 5:O\""
      ]
     },
     "metadata": {},
     "output_type": "display_data"
    },
    {
     "data": {
      "text/plain": [
       "\"DB: opt. gap 0.009103660198496651\""
      ]
     },
     "metadata": {},
     "output_type": "display_data"
    },
    {
     "data": {
      "text/plain": [
       "\">>>>>> iteration 6:O\""
      ]
     },
     "metadata": {},
     "output_type": "display_data"
    },
    {
     "data": {
      "text/plain": [
       "\"DB: opt. gap 0.00245570599724779\""
      ]
     },
     "metadata": {},
     "output_type": "display_data"
    },
    {
     "data": {
      "text/plain": [
       "\">>>>>> iteration 7:O\""
      ]
     },
     "metadata": {},
     "output_type": "display_data"
    },
    {
     "data": {
      "text/plain": [
       "\"DB: opt. gap 0.0011288363908964994\""
      ]
     },
     "metadata": {},
     "output_type": "display_data"
    },
    {
     "data": {
      "text/plain": [
       "\">>>>>> iteration 8:O\""
      ]
     },
     "metadata": {},
     "output_type": "display_data"
    },
    {
     "data": {
      "text/plain": [
       "\"DB: opt. gap 9.109666198850821e-5\""
      ]
     },
     "metadata": {},
     "output_type": "display_data"
    },
    {
     "data": {
      "text/plain": [
       "\"DB: CLDRTO method: 2 - Solution at t = 20: found\""
      ]
     },
     "metadata": {},
     "output_type": "display_data"
    },
    {
     "data": {
      "text/plain": [
       "\"DB: MC iter. 19 --> Plant parameter = 0.6619851148251963\""
      ]
     },
     "metadata": {},
     "output_type": "display_data"
    },
    {
     "data": {
      "text/plain": [
       "\"Nominal solution at t = 0: found\""
      ]
     },
     "metadata": {},
     "output_type": "display_data"
    },
    {
     "name": "stdout",
     "output_type": "stream",
     "text": [
      "MC: 19>> Time: 1\n"
     ]
    },
    {
     "data": {
      "text/plain": [
       "\"DB: CLDRTO method: 1 - Solution at t = 1: found\""
      ]
     },
     "metadata": {},
     "output_type": "display_data"
    },
    {
     "name": "stdout",
     "output_type": "stream",
     "text": [
      "MC: 19>> Time: 2\n",
      "MC: 19>> Time: 3\n",
      "MC: 19>> Time: 4\n"
     ]
    },
    {
     "data": {
      "text/plain": [
       "\"DB: Nominal solution at t = 4: found\""
      ]
     },
     "metadata": {},
     "output_type": "display_data"
    },
    {
     "data": {
      "text/plain": [
       "\"DB: CLDRTO method: 1 - Solution at t = 4: found\""
      ]
     },
     "metadata": {},
     "output_type": "display_data"
    },
    {
     "name": "stdout",
     "output_type": "stream",
     "text": [
      "MC: 19>> Time: 5\n",
      "MC: 19>> Time: 6\n",
      "MC: 19>> Time: 7\n",
      "MC: 19>> Time: 8\n"
     ]
    },
    {
     "data": {
      "text/plain": [
       "\"DB: Nominal solution at t = 8: found\""
      ]
     },
     "metadata": {},
     "output_type": "display_data"
    },
    {
     "data": {
      "text/plain": [
       "\"DB: CLDRTO method: 1 - Solution at t = 8: found\""
      ]
     },
     "metadata": {},
     "output_type": "display_data"
    },
    {
     "name": "stdout",
     "output_type": "stream",
     "text": [
      "MC: 19>> Time: 9\n",
      "MC: 19>> Time: 10\n",
      "MC: 19>> Time: 11\n",
      "MC: 19>> Time: 12\n"
     ]
    },
    {
     "data": {
      "text/plain": [
       "\"DB: Nominal solution at t = 12: found\""
      ]
     },
     "metadata": {},
     "output_type": "display_data"
    },
    {
     "data": {
      "text/plain": [
       "\"DB: CLDRTO method: 1 - Solution at t = 12: found\""
      ]
     },
     "metadata": {},
     "output_type": "display_data"
    },
    {
     "name": "stdout",
     "output_type": "stream",
     "text": [
      "MC: 19>> Time: 13\n",
      "MC: 19>> Time: 14\n",
      "MC: 19>> Time: 15\n",
      "MC: 19>> Time: 16\n"
     ]
    },
    {
     "data": {
      "text/plain": [
       "\"DB: Nominal solution at t = 16: found\""
      ]
     },
     "metadata": {},
     "output_type": "display_data"
    },
    {
     "data": {
      "text/plain": [
       "\"DB: CLDRTO method: 1 - Solution at t = 16: found\""
      ]
     },
     "metadata": {},
     "output_type": "display_data"
    },
    {
     "name": "stdout",
     "output_type": "stream",
     "text": [
      "MC: 19>> Time: 17\n",
      "MC: 19>> Time: 18\n",
      "MC: 19>> Time: 19\n",
      "MC: 19>> Time: 20\n"
     ]
    },
    {
     "data": {
      "text/plain": [
       "\"DB: Nominal solution at t = 20: found\""
      ]
     },
     "metadata": {},
     "output_type": "display_data"
    },
    {
     "data": {
      "text/plain": [
       "\"DB: CLDRTO method: 1 - Solution at t = 20: found\""
      ]
     },
     "metadata": {},
     "output_type": "display_data"
    },
    {
     "data": {
      "text/plain": [
       "\"Nominal solution at t = 0: found\""
      ]
     },
     "metadata": {},
     "output_type": "display_data"
    },
    {
     "name": "stdout",
     "output_type": "stream",
     "text": [
      "MC: 19>> Time: 1\n"
     ]
    },
    {
     "data": {
      "text/plain": [
       "\"DB: opt. gap 1.000000005263681\""
      ]
     },
     "metadata": {},
     "output_type": "display_data"
    },
    {
     "data": {
      "text/plain": [
       "\">>>>>> iteration 1:O\""
      ]
     },
     "metadata": {},
     "output_type": "display_data"
    },
    {
     "data": {
      "text/plain": [
       "\"DB: opt. gap 0.00431106866548491\""
      ]
     },
     "metadata": {},
     "output_type": "display_data"
    },
    {
     "data": {
      "text/plain": [
       "\">>>>>> iteration 2:O\""
      ]
     },
     "metadata": {},
     "output_type": "display_data"
    },
    {
     "data": {
      "text/plain": [
       "\"DB: opt. gap 0.004100693528206623\""
      ]
     },
     "metadata": {},
     "output_type": "display_data"
    },
    {
     "data": {
      "text/plain": [
       "\">>>>>> iteration 3:O\""
      ]
     },
     "metadata": {},
     "output_type": "display_data"
    },
    {
     "data": {
      "text/plain": [
       "\"DB: random\""
      ]
     },
     "metadata": {},
     "output_type": "display_data"
    },
    {
     "data": {
      "text/plain": [
       "\"DB: opt. gap 2.4615166431157237e-6\""
      ]
     },
     "metadata": {},
     "output_type": "display_data"
    },
    {
     "data": {
      "text/plain": [
       "\"DB: CLDRTO method: 2 - Solution at t = 1: found\""
      ]
     },
     "metadata": {},
     "output_type": "display_data"
    },
    {
     "name": "stdout",
     "output_type": "stream",
     "text": [
      "MC: 19>> Time: 2\n",
      "MC: 19>> Time: 3\n",
      "MC: 19>> Time: 4\n"
     ]
    },
    {
     "data": {
      "text/plain": [
       "\"DB: Nominal solution at t = 4: found\""
      ]
     },
     "metadata": {},
     "output_type": "display_data"
    },
    {
     "data": {
      "text/plain": [
       "\"DB: opt. gap 1.0000000218216192\""
      ]
     },
     "metadata": {},
     "output_type": "display_data"
    },
    {
     "data": {
      "text/plain": [
       "\">>>>>> iteration 1:O\""
      ]
     },
     "metadata": {},
     "output_type": "display_data"
    },
    {
     "data": {
      "text/plain": [
       "\"DB: opt. gap 0.006963148471255995\""
      ]
     },
     "metadata": {},
     "output_type": "display_data"
    },
    {
     "data": {
      "text/plain": [
       "\">>>>>> iteration 2:O\""
      ]
     },
     "metadata": {},
     "output_type": "display_data"
    },
    {
     "data": {
      "text/plain": [
       "\"DB: opt. gap 0.00656816218678929\""
      ]
     },
     "metadata": {},
     "output_type": "display_data"
    },
    {
     "data": {
      "text/plain": [
       "\">>>>>> iteration 3:O\""
      ]
     },
     "metadata": {},
     "output_type": "display_data"
    },
    {
     "data": {
      "text/plain": [
       "\"DB: random\""
      ]
     },
     "metadata": {},
     "output_type": "display_data"
    },
    {
     "data": {
      "text/plain": [
       "\"DB: opt. gap 9.965629887324593e-6\""
      ]
     },
     "metadata": {},
     "output_type": "display_data"
    },
    {
     "data": {
      "text/plain": [
       "\"DB: CLDRTO method: 2 - Solution at t = 4: found\""
      ]
     },
     "metadata": {},
     "output_type": "display_data"
    },
    {
     "name": "stdout",
     "output_type": "stream",
     "text": [
      "MC: 19>> Time: 5\n",
      "MC: 19>> Time: 6\n",
      "MC: 19>> Time: 7\n",
      "MC: 19>> Time: 8\n"
     ]
    },
    {
     "data": {
      "text/plain": [
       "\"DB: Nominal solution at t = 8: found\""
      ]
     },
     "metadata": {},
     "output_type": "display_data"
    },
    {
     "data": {
      "text/plain": [
       "\"DB: opt. gap 1.0000018316563521\""
      ]
     },
     "metadata": {},
     "output_type": "display_data"
    },
    {
     "data": {
      "text/plain": [
       "\">>>>>> iteration 1:O\""
      ]
     },
     "metadata": {},
     "output_type": "display_data"
    },
    {
     "data": {
      "text/plain": [
       "\"DB: opt. gap 0.09354023694481857\""
      ]
     },
     "metadata": {},
     "output_type": "display_data"
    },
    {
     "data": {
      "text/plain": [
       "\">>>>>> iteration 2:O\""
      ]
     },
     "metadata": {},
     "output_type": "display_data"
    },
    {
     "data": {
      "text/plain": [
       "\"DB: opt. gap 0.04537269072159462\""
      ]
     },
     "metadata": {},
     "output_type": "display_data"
    },
    {
     "data": {
      "text/plain": [
       "\">>>>>> iteration 3:O\""
      ]
     },
     "metadata": {},
     "output_type": "display_data"
    },
    {
     "data": {
      "text/plain": [
       "\"DB: opt. gap 0.003286066451354743\""
      ]
     },
     "metadata": {},
     "output_type": "display_data"
    },
    {
     "data": {
      "text/plain": [
       "\">>>>>> iteration 4:O\""
      ]
     },
     "metadata": {},
     "output_type": "display_data"
    },
    {
     "data": {
      "text/plain": [
       "\"DB: opt. gap 0.003155466130222561\""
      ]
     },
     "metadata": {},
     "output_type": "display_data"
    },
    {
     "data": {
      "text/plain": [
       "\">>>>>> iteration 5:O\""
      ]
     },
     "metadata": {},
     "output_type": "display_data"
    },
    {
     "data": {
      "text/plain": [
       "\"DB: random\""
      ]
     },
     "metadata": {},
     "output_type": "display_data"
    },
    {
     "data": {
      "text/plain": [
       "\"DB: opt. gap 0.0007920435813751734\""
      ]
     },
     "metadata": {},
     "output_type": "display_data"
    },
    {
     "data": {
      "text/plain": [
       "\"DB: CLDRTO method: 2 - Solution at t = 8: found\""
      ]
     },
     "metadata": {},
     "output_type": "display_data"
    },
    {
     "name": "stdout",
     "output_type": "stream",
     "text": [
      "MC: 19>> Time: 9\n",
      "MC: 19>> Time: 10\n",
      "MC: 19>> Time: 11\n",
      "MC: 19>> Time: 12\n"
     ]
    },
    {
     "data": {
      "text/plain": [
       "\"DB: Nominal solution at t = 12: found\""
      ]
     },
     "metadata": {},
     "output_type": "display_data"
    },
    {
     "data": {
      "text/plain": [
       "\"DB: opt. gap 1.0000025979256593\""
      ]
     },
     "metadata": {},
     "output_type": "display_data"
    },
    {
     "data": {
      "text/plain": [
       "\">>>>>> iteration 1:O\""
      ]
     },
     "metadata": {},
     "output_type": "display_data"
    },
    {
     "data": {
      "text/plain": [
       "\"DB: opt. gap 0.790201457062745\""
      ]
     },
     "metadata": {},
     "output_type": "display_data"
    },
    {
     "data": {
      "text/plain": [
       "\">>>>>> iteration 2:O\""
      ]
     },
     "metadata": {},
     "output_type": "display_data"
    },
    {
     "data": {
      "text/plain": [
       "\"DB: opt. gap 0.5099666623968375\""
      ]
     },
     "metadata": {},
     "output_type": "display_data"
    },
    {
     "data": {
      "text/plain": [
       "\">>>>>> iteration 3:O\""
      ]
     },
     "metadata": {},
     "output_type": "display_data"
    },
    {
     "data": {
      "text/plain": [
       "\"DB: opt. gap 0.23224839398539923\""
      ]
     },
     "metadata": {},
     "output_type": "display_data"
    },
    {
     "data": {
      "text/plain": [
       "\">>>>>> iteration 4:O\""
      ]
     },
     "metadata": {},
     "output_type": "display_data"
    },
    {
     "data": {
      "text/plain": [
       "\"DB: opt. gap 0.0712301137394324\""
      ]
     },
     "metadata": {},
     "output_type": "display_data"
    },
    {
     "data": {
      "text/plain": [
       "\">>>>>> iteration 5:O\""
      ]
     },
     "metadata": {},
     "output_type": "display_data"
    },
    {
     "data": {
      "text/plain": [
       "\"DB: opt. gap 0.021939115767189543\""
      ]
     },
     "metadata": {},
     "output_type": "display_data"
    },
    {
     "data": {
      "text/plain": [
       "\">>>>>> iteration 6:O\""
      ]
     },
     "metadata": {},
     "output_type": "display_data"
    },
    {
     "data": {
      "text/plain": [
       "\"DB: opt. gap 0.006366620202567761\""
      ]
     },
     "metadata": {},
     "output_type": "display_data"
    },
    {
     "data": {
      "text/plain": [
       "\">>>>>> iteration 7:O\""
      ]
     },
     "metadata": {},
     "output_type": "display_data"
    },
    {
     "data": {
      "text/plain": [
       "\"DB: opt. gap 0.0028200790121569227\""
      ]
     },
     "metadata": {},
     "output_type": "display_data"
    },
    {
     "data": {
      "text/plain": [
       "\">>>>>> iteration 8:O\""
      ]
     },
     "metadata": {},
     "output_type": "display_data"
    },
    {
     "data": {
      "text/plain": [
       "\"DB: opt. gap 0.0007204308272679953\""
      ]
     },
     "metadata": {},
     "output_type": "display_data"
    },
    {
     "data": {
      "text/plain": [
       "\"DB: CLDRTO method: 2 - Solution at t = 12: found\""
      ]
     },
     "metadata": {},
     "output_type": "display_data"
    },
    {
     "name": "stdout",
     "output_type": "stream",
     "text": [
      "MC: 19>> Time: 13\n",
      "MC: 19>> Time: 14\n",
      "MC: 19>> Time: 15\n",
      "MC: 19>> Time: 16\n"
     ]
    },
    {
     "data": {
      "text/plain": [
       "\"DB: Nominal solution at t = 16: found\""
      ]
     },
     "metadata": {},
     "output_type": "display_data"
    },
    {
     "data": {
      "text/plain": [
       "\"DB: opt. gap 1.0000025640279944\""
      ]
     },
     "metadata": {},
     "output_type": "display_data"
    },
    {
     "data": {
      "text/plain": [
       "\">>>>>> iteration 1:O\""
      ]
     },
     "metadata": {},
     "output_type": "display_data"
    },
    {
     "data": {
      "text/plain": [
       "\"DB: opt. gap 0.8197655915526986\""
      ]
     },
     "metadata": {},
     "output_type": "display_data"
    },
    {
     "data": {
      "text/plain": [
       "\">>>>>> iteration 2:O\""
      ]
     },
     "metadata": {},
     "output_type": "display_data"
    },
    {
     "data": {
      "text/plain": [
       "\"DB: opt. gap 0.5558409746893563\""
      ]
     },
     "metadata": {},
     "output_type": "display_data"
    },
    {
     "data": {
      "text/plain": [
       "\">>>>>> iteration 3:O\""
      ]
     },
     "metadata": {},
     "output_type": "display_data"
    },
    {
     "data": {
      "text/plain": [
       "\"DB: opt. gap 0.2654249701879345\""
      ]
     },
     "metadata": {},
     "output_type": "display_data"
    },
    {
     "data": {
      "text/plain": [
       "\">>>>>> iteration 4:O\""
      ]
     },
     "metadata": {},
     "output_type": "display_data"
    },
    {
     "data": {
      "text/plain": [
       "\"DB: opt. gap 0.0841381732291043\""
      ]
     },
     "metadata": {},
     "output_type": "display_data"
    },
    {
     "data": {
      "text/plain": [
       "\">>>>>> iteration 5:O\""
      ]
     },
     "metadata": {},
     "output_type": "display_data"
    },
    {
     "data": {
      "text/plain": [
       "\"DB: opt. gap 0.02526096623124732\""
      ]
     },
     "metadata": {},
     "output_type": "display_data"
    },
    {
     "data": {
      "text/plain": [
       "\">>>>>> iteration 6:O\""
      ]
     },
     "metadata": {},
     "output_type": "display_data"
    },
    {
     "data": {
      "text/plain": [
       "\"DB: opt. gap 0.007809637209229866\""
      ]
     },
     "metadata": {},
     "output_type": "display_data"
    },
    {
     "data": {
      "text/plain": [
       "\">>>>>> iteration 7:O\""
      ]
     },
     "metadata": {},
     "output_type": "display_data"
    },
    {
     "data": {
      "text/plain": [
       "\"DB: opt. gap 0.0026960757598733626\""
      ]
     },
     "metadata": {},
     "output_type": "display_data"
    },
    {
     "data": {
      "text/plain": [
       "\">>>>>> iteration 8:O\""
      ]
     },
     "metadata": {},
     "output_type": "display_data"
    },
    {
     "data": {
      "text/plain": [
       "\"DB: opt. gap 0.0005365363430371677\""
      ]
     },
     "metadata": {},
     "output_type": "display_data"
    },
    {
     "data": {
      "text/plain": [
       "\"DB: CLDRTO method: 2 - Solution at t = 16: found\""
      ]
     },
     "metadata": {},
     "output_type": "display_data"
    },
    {
     "name": "stdout",
     "output_type": "stream",
     "text": [
      "MC: 19>> Time: 17\n",
      "MC: 19>> Time: 18\n",
      "MC: 19>> Time: 19\n",
      "MC: 19>> Time: 20\n"
     ]
    },
    {
     "data": {
      "text/plain": [
       "\"DB: Nominal solution at t = 20: found\""
      ]
     },
     "metadata": {},
     "output_type": "display_data"
    },
    {
     "data": {
      "text/plain": [
       "\"DB: opt. gap 1.0000018089609668\""
      ]
     },
     "metadata": {},
     "output_type": "display_data"
    },
    {
     "data": {
      "text/plain": [
       "\">>>>>> iteration 1:O\""
      ]
     },
     "metadata": {},
     "output_type": "display_data"
    },
    {
     "data": {
      "text/plain": [
       "\"DB: opt. gap 0.6960270290696132\""
      ]
     },
     "metadata": {},
     "output_type": "display_data"
    },
    {
     "data": {
      "text/plain": [
       "\">>>>>> iteration 2:O\""
      ]
     },
     "metadata": {},
     "output_type": "display_data"
    },
    {
     "data": {
      "text/plain": [
       "\"DB: opt. gap 0.38745812155026765\""
      ]
     },
     "metadata": {},
     "output_type": "display_data"
    },
    {
     "data": {
      "text/plain": [
       "\">>>>>> iteration 3:O\""
      ]
     },
     "metadata": {},
     "output_type": "display_data"
    },
    {
     "data": {
      "text/plain": [
       "\"DB: opt. gap 0.15525131090450714\""
      ]
     },
     "metadata": {},
     "output_type": "display_data"
    },
    {
     "data": {
      "text/plain": [
       "\">>>>>> iteration 4:O\""
      ]
     },
     "metadata": {},
     "output_type": "display_data"
    },
    {
     "data": {
      "text/plain": [
       "\"DB: opt. gap 0.04554522096602265\""
      ]
     },
     "metadata": {},
     "output_type": "display_data"
    },
    {
     "data": {
      "text/plain": [
       "\">>>>>> iteration 5:O\""
      ]
     },
     "metadata": {},
     "output_type": "display_data"
    },
    {
     "data": {
      "text/plain": [
       "\"DB: opt. gap 0.013056331745075965\""
      ]
     },
     "metadata": {},
     "output_type": "display_data"
    },
    {
     "data": {
      "text/plain": [
       "\">>>>>> iteration 6:O\""
      ]
     },
     "metadata": {},
     "output_type": "display_data"
    },
    {
     "data": {
      "text/plain": [
       "\"DB: opt. gap 0.007115331049438608\""
      ]
     },
     "metadata": {},
     "output_type": "display_data"
    },
    {
     "data": {
      "text/plain": [
       "\">>>>>> iteration 7:O\""
      ]
     },
     "metadata": {},
     "output_type": "display_data"
    },
    {
     "data": {
      "text/plain": [
       "\"DB: opt. gap 0.007927582001998914\""
      ]
     },
     "metadata": {},
     "output_type": "display_data"
    },
    {
     "data": {
      "text/plain": [
       "\">>>>>> iteration 8:O\""
      ]
     },
     "metadata": {},
     "output_type": "display_data"
    },
    {
     "data": {
      "text/plain": [
       "\"DB: random\""
      ]
     },
     "metadata": {},
     "output_type": "display_data"
    },
    {
     "data": {
      "text/plain": [
       "\"DB: opt. gap 0.0005319431860511152\""
      ]
     },
     "metadata": {},
     "output_type": "display_data"
    },
    {
     "data": {
      "text/plain": [
       "\"DB: CLDRTO method: 2 - Solution at t = 20: found\""
      ]
     },
     "metadata": {},
     "output_type": "display_data"
    },
    {
     "data": {
      "text/plain": [
       "\"DB: MC iter. 20 --> Plant parameter = 0.6036070664642778\""
      ]
     },
     "metadata": {},
     "output_type": "display_data"
    },
    {
     "data": {
      "text/plain": [
       "\"Nominal solution at t = 0: found\""
      ]
     },
     "metadata": {},
     "output_type": "display_data"
    },
    {
     "name": "stdout",
     "output_type": "stream",
     "text": [
      "MC: 20>> Time: 1\n"
     ]
    },
    {
     "data": {
      "text/plain": [
       "\"DB: CLDRTO method: 1 - Solution at t = 1: found\""
      ]
     },
     "metadata": {},
     "output_type": "display_data"
    },
    {
     "name": "stdout",
     "output_type": "stream",
     "text": [
      "MC: 20>> Time: 2\n",
      "MC: 20>> Time: 3\n",
      "MC: 20>> Time: 4\n"
     ]
    },
    {
     "data": {
      "text/plain": [
       "\"DB: Nominal solution at t = 4: found\""
      ]
     },
     "metadata": {},
     "output_type": "display_data"
    },
    {
     "data": {
      "text/plain": [
       "\"DB: CLDRTO method: 1 - Solution at t = 4: found\""
      ]
     },
     "metadata": {},
     "output_type": "display_data"
    },
    {
     "name": "stdout",
     "output_type": "stream",
     "text": [
      "MC: 20>> Time: 5\n",
      "MC: 20>> Time: 6\n",
      "MC: 20>> Time: 7\n",
      "MC: 20>> Time: 8\n"
     ]
    },
    {
     "data": {
      "text/plain": [
       "\"DB: Nominal solution at t = 8: found\""
      ]
     },
     "metadata": {},
     "output_type": "display_data"
    },
    {
     "data": {
      "text/plain": [
       "\"DB: CLDRTO method: 1 - Solution at t = 8: found\""
      ]
     },
     "metadata": {},
     "output_type": "display_data"
    },
    {
     "name": "stdout",
     "output_type": "stream",
     "text": [
      "MC: 20>> Time: 9\n",
      "MC: 20>> Time: 10\n",
      "MC: 20>> Time: 11\n",
      "MC: 20>> Time: 12\n"
     ]
    },
    {
     "data": {
      "text/plain": [
       "\"DB: Nominal solution at t = 12: found\""
      ]
     },
     "metadata": {},
     "output_type": "display_data"
    },
    {
     "data": {
      "text/plain": [
       "\"DB: CLDRTO method: 1 - Solution at t = 12: found\""
      ]
     },
     "metadata": {},
     "output_type": "display_data"
    },
    {
     "name": "stdout",
     "output_type": "stream",
     "text": [
      "MC: 20>> Time: 13\n",
      "MC: 20>> Time: 14\n",
      "MC: 20>> Time: 15\n",
      "MC: 20>> Time: 16\n"
     ]
    },
    {
     "data": {
      "text/plain": [
       "\"DB: Nominal solution at t = 16: found\""
      ]
     },
     "metadata": {},
     "output_type": "display_data"
    },
    {
     "data": {
      "text/plain": [
       "\"DB: CLDRTO method: 1 - Solution at t = 16: found\""
      ]
     },
     "metadata": {},
     "output_type": "display_data"
    },
    {
     "name": "stdout",
     "output_type": "stream",
     "text": [
      "MC: 20>> Time: 17\n",
      "MC: 20>> Time: 18\n",
      "MC: 20>> Time: 19\n",
      "MC: 20>> Time: 20\n"
     ]
    },
    {
     "data": {
      "text/plain": [
       "\"DB: Nominal solution at t = 20: found\""
      ]
     },
     "metadata": {},
     "output_type": "display_data"
    },
    {
     "data": {
      "text/plain": [
       "\"DB: CLDRTO method: 1 - Solution at t = 20: found\""
      ]
     },
     "metadata": {},
     "output_type": "display_data"
    },
    {
     "data": {
      "text/plain": [
       "\"Nominal solution at t = 0: found\""
      ]
     },
     "metadata": {},
     "output_type": "display_data"
    },
    {
     "name": "stdout",
     "output_type": "stream",
     "text": [
      "MC: 20>> Time: 1\n"
     ]
    },
    {
     "data": {
      "text/plain": [
       "\"DB: opt. gap 1.000000005263681\""
      ]
     },
     "metadata": {},
     "output_type": "display_data"
    },
    {
     "data": {
      "text/plain": [
       "\">>>>>> iteration 1:O\""
      ]
     },
     "metadata": {},
     "output_type": "display_data"
    },
    {
     "data": {
      "text/plain": [
       "\"DB: opt. gap 0.00431106866548491\""
      ]
     },
     "metadata": {},
     "output_type": "display_data"
    },
    {
     "data": {
      "text/plain": [
       "\">>>>>> iteration 2:O\""
      ]
     },
     "metadata": {},
     "output_type": "display_data"
    },
    {
     "data": {
      "text/plain": [
       "\"DB: opt. gap 0.004100693528206623\""
      ]
     },
     "metadata": {},
     "output_type": "display_data"
    },
    {
     "data": {
      "text/plain": [
       "\">>>>>> iteration 3:O\""
      ]
     },
     "metadata": {},
     "output_type": "display_data"
    },
    {
     "data": {
      "text/plain": [
       "\"DB: random\""
      ]
     },
     "metadata": {},
     "output_type": "display_data"
    },
    {
     "data": {
      "text/plain": [
       "\"DB: opt. gap 2.461580009661778e-6\""
      ]
     },
     "metadata": {},
     "output_type": "display_data"
    },
    {
     "data": {
      "text/plain": [
       "\"DB: CLDRTO method: 2 - Solution at t = 1: found\""
      ]
     },
     "metadata": {},
     "output_type": "display_data"
    },
    {
     "name": "stdout",
     "output_type": "stream",
     "text": [
      "MC: 20>> Time: 2\n",
      "MC: 20>> Time: 3\n",
      "MC: 20>> Time: 4\n"
     ]
    },
    {
     "data": {
      "text/plain": [
       "\"DB: Nominal solution at t = 4: found\""
      ]
     },
     "metadata": {},
     "output_type": "display_data"
    },
    {
     "data": {
      "text/plain": [
       "\"DB: opt. gap 1.00000001822092\""
      ]
     },
     "metadata": {},
     "output_type": "display_data"
    },
    {
     "data": {
      "text/plain": [
       "\">>>>>> iteration 1:O\""
      ]
     },
     "metadata": {},
     "output_type": "display_data"
    },
    {
     "data": {
      "text/plain": [
       "\"DB: opt. gap 0.005017616146069232\""
      ]
     },
     "metadata": {},
     "output_type": "display_data"
    },
    {
     "data": {
      "text/plain": [
       "\">>>>>> iteration 2:O\""
      ]
     },
     "metadata": {},
     "output_type": "display_data"
    },
    {
     "data": {
      "text/plain": [
       "\"DB: opt. gap 0.0046454890392140045\""
      ]
     },
     "metadata": {},
     "output_type": "display_data"
    },
    {
     "data": {
      "text/plain": [
       "\">>>>>> iteration 3:O\""
      ]
     },
     "metadata": {},
     "output_type": "display_data"
    },
    {
     "data": {
      "text/plain": [
       "\"DB: random\""
      ]
     },
     "metadata": {},
     "output_type": "display_data"
    },
    {
     "data": {
      "text/plain": [
       "\"DB: opt. gap 2.0698930739661737e-6\""
      ]
     },
     "metadata": {},
     "output_type": "display_data"
    },
    {
     "data": {
      "text/plain": [
       "\"DB: CLDRTO method: 2 - Solution at t = 4: found\""
      ]
     },
     "metadata": {},
     "output_type": "display_data"
    },
    {
     "name": "stdout",
     "output_type": "stream",
     "text": [
      "MC: 20>> Time: 5\n",
      "MC: 20>> Time: 6\n",
      "MC: 20>> Time: 7\n",
      "MC: 20>> Time: 8\n"
     ]
    },
    {
     "data": {
      "text/plain": [
       "\"DB: Nominal solution at t = 8: found\""
      ]
     },
     "metadata": {},
     "output_type": "display_data"
    },
    {
     "data": {
      "text/plain": [
       "\"DB: opt. gap 1.0000002977194355\""
      ]
     },
     "metadata": {},
     "output_type": "display_data"
    },
    {
     "data": {
      "text/plain": [
       "\">>>>>> iteration 1:O\""
      ]
     },
     "metadata": {},
     "output_type": "display_data"
    },
    {
     "data": {
      "text/plain": [
       "\"DB: opt. gap 0.00034071045539918005\""
      ]
     },
     "metadata": {},
     "output_type": "display_data"
    },
    {
     "data": {
      "text/plain": [
       "\"DB: CLDRTO method: 2 - Solution at t = 8: found\""
      ]
     },
     "metadata": {},
     "output_type": "display_data"
    },
    {
     "name": "stdout",
     "output_type": "stream",
     "text": [
      "MC: 20>> Time: 9\n",
      "MC: 20>> Time: 10\n",
      "MC: 20>> Time: 11\n",
      "MC: 20>> Time: 12\n"
     ]
    },
    {
     "data": {
      "text/plain": [
       "\"DB: Nominal solution at t = 12: found\""
      ]
     },
     "metadata": {},
     "output_type": "display_data"
    },
    {
     "data": {
      "text/plain": [
       "\"DB: opt. gap 1.0000012839631278\""
      ]
     },
     "metadata": {},
     "output_type": "display_data"
    },
    {
     "data": {
      "text/plain": [
       "\">>>>>> iteration 1:O\""
      ]
     },
     "metadata": {},
     "output_type": "display_data"
    },
    {
     "data": {
      "text/plain": [
       "\"DB: opt. gap 0.016494670101953966\""
      ]
     },
     "metadata": {},
     "output_type": "display_data"
    },
    {
     "data": {
      "text/plain": [
       "\">>>>>> iteration 2:O\""
      ]
     },
     "metadata": {},
     "output_type": "display_data"
    },
    {
     "data": {
      "text/plain": [
       "\"DB: opt. gap 0.004171358592037684\""
      ]
     },
     "metadata": {},
     "output_type": "display_data"
    },
    {
     "data": {
      "text/plain": [
       "\">>>>>> iteration 3:O\""
      ]
     },
     "metadata": {},
     "output_type": "display_data"
    },
    {
     "data": {
      "text/plain": [
       "\"DB: opt. gap 0.0009637654497531413\""
      ]
     },
     "metadata": {},
     "output_type": "display_data"
    },
    {
     "data": {
      "text/plain": [
       "\"DB: CLDRTO method: 2 - Solution at t = 12: found\""
      ]
     },
     "metadata": {},
     "output_type": "display_data"
    },
    {
     "name": "stdout",
     "output_type": "stream",
     "text": [
      "MC: 20>> Time: 13\n",
      "MC: 20>> Time: 14\n",
      "MC: 20>> Time: 15\n",
      "MC: 20>> Time: 16\n"
     ]
    },
    {
     "data": {
      "text/plain": [
       "\"DB: Nominal solution at t = 16: found\""
      ]
     },
     "metadata": {},
     "output_type": "display_data"
    },
    {
     "data": {
      "text/plain": [
       "\"DB: opt. gap 1.000001206024603\""
      ]
     },
     "metadata": {},
     "output_type": "display_data"
    },
    {
     "data": {
      "text/plain": [
       "\">>>>>> iteration 1:O\""
      ]
     },
     "metadata": {},
     "output_type": "display_data"
    },
    {
     "data": {
      "text/plain": [
       "\"DB: opt. gap 0.05924665466573427\""
      ]
     },
     "metadata": {},
     "output_type": "display_data"
    },
    {
     "data": {
      "text/plain": [
       "\">>>>>> iteration 2:O\""
      ]
     },
     "metadata": {},
     "output_type": "display_data"
    },
    {
     "data": {
      "text/plain": [
       "\"DB: opt. gap 0.02810399177812922\""
      ]
     },
     "metadata": {},
     "output_type": "display_data"
    },
    {
     "data": {
      "text/plain": [
       "\">>>>>> iteration 3:O\""
      ]
     },
     "metadata": {},
     "output_type": "display_data"
    },
    {
     "data": {
      "text/plain": [
       "\"DB: opt. gap 0.0069541033914226015\""
      ]
     },
     "metadata": {},
     "output_type": "display_data"
    },
    {
     "data": {
      "text/plain": [
       "\">>>>>> iteration 4:O\""
      ]
     },
     "metadata": {},
     "output_type": "display_data"
    },
    {
     "data": {
      "text/plain": [
       "\"DB: opt. gap 0.0020911188114067962\""
      ]
     },
     "metadata": {},
     "output_type": "display_data"
    },
    {
     "data": {
      "text/plain": [
       "\">>>>>> iteration 5:O\""
      ]
     },
     "metadata": {},
     "output_type": "display_data"
    },
    {
     "data": {
      "text/plain": [
       "\"DB: opt. gap 0.0002246365189209261\""
      ]
     },
     "metadata": {},
     "output_type": "display_data"
    },
    {
     "data": {
      "text/plain": [
       "\"DB: CLDRTO method: 2 - Solution at t = 16: found\""
      ]
     },
     "metadata": {},
     "output_type": "display_data"
    },
    {
     "name": "stdout",
     "output_type": "stream",
     "text": [
      "MC: 20>> Time: 17\n",
      "MC: 20>> Time: 18\n",
      "MC: 20>> Time: 19\n",
      "MC: 20>> Time: 20\n"
     ]
    },
    {
     "data": {
      "text/plain": [
       "\"DB: Nominal solution at t = 20: found\""
      ]
     },
     "metadata": {},
     "output_type": "display_data"
    },
    {
     "data": {
      "text/plain": [
       "\"DB: opt. gap 1.0000013841874542\""
      ]
     },
     "metadata": {},
     "output_type": "display_data"
    },
    {
     "data": {
      "text/plain": [
       "\">>>>>> iteration 1:O\""
      ]
     },
     "metadata": {},
     "output_type": "display_data"
    },
    {
     "data": {
      "text/plain": [
       "\"DB: opt. gap 0.013664474985097234\""
      ]
     },
     "metadata": {},
     "output_type": "display_data"
    },
    {
     "data": {
      "text/plain": [
       "\">>>>>> iteration 2:O\""
      ]
     },
     "metadata": {},
     "output_type": "display_data"
    },
    {
     "data": {
      "text/plain": [
       "\"DB: opt. gap 0.005550516872072864\""
      ]
     },
     "metadata": {},
     "output_type": "display_data"
    },
    {
     "data": {
      "text/plain": [
       "\">>>>>> iteration 3:O\""
      ]
     },
     "metadata": {},
     "output_type": "display_data"
    },
    {
     "data": {
      "text/plain": [
       "\"DB: opt. gap 0.0013791552579547025\""
      ]
     },
     "metadata": {},
     "output_type": "display_data"
    },
    {
     "data": {
      "text/plain": [
       "\">>>>>> iteration 4:O\""
      ]
     },
     "metadata": {},
     "output_type": "display_data"
    },
    {
     "data": {
      "text/plain": [
       "\"DB: opt. gap 0.00033149407072029257\""
      ]
     },
     "metadata": {},
     "output_type": "display_data"
    },
    {
     "data": {
      "text/plain": [
       "\"DB: CLDRTO method: 2 - Solution at t = 20: found\""
      ]
     },
     "metadata": {},
     "output_type": "display_data"
    }
   ],
   "source": [
    "for jj = 1:n_MC\n",
    "    # ramdonly drawing the plant from the previously computed models\n",
    "    d = Truncated(Normal(pNom, deltaPar), pNom - deltaPar, pNom + deltaPar)  #Construct the distribution type\n",
    "    pPlant = rand(d)\n",
    "    display(\"DB: MC iter. $(jj) --> Plant parameter = $(pPlant)\")\n",
    "    \n",
    "    # RUNNING SIMULATION\n",
    "    for mm = 1:2\n",
    "        \n",
    "        # preparing simulation (starting from opt steady-state)\n",
    "        # plant \n",
    "        xk = x0\n",
    "        uk_1 = u0\n",
    "\n",
    "        # mpc's models - initial states is the same\n",
    "        xk_mpc = x0 - xref\n",
    "        dek_mpc = 0.0\n",
    "        \n",
    "        # initial conditions (CLDRTO)\n",
    "        Cpk = C0\n",
    "        Ppk = P0\n",
    "        \n",
    "        solNom = MS_CLDRTO(Cpk,Ppk,uk_1,xk_mpc,dek_mpc,pNom,1,0)\n",
    "        # checking if 1s solution converged\n",
    "        if solNom['f'] == 1\n",
    "            display(\"Nominal solution at t = 0: found\")\n",
    "        else\n",
    "           display(\"DB: Nominal solution at t = 0: not found\")\n",
    "        end\n",
    "        \n",
    "        for ii = 1:nsim\n",
    "\n",
    "            print(\"MC: \", jj)\n",
    "            println(\">> Time: \",ii)\n",
    "\n",
    "            # updating arrays # States (algebraic and differential): CA1,CB1,CC1,T1,Tj1_out,CA2,CB2,CC2,T2,Tj2_out\n",
    "            CPlant[ii,jj,mm] = Cpk\n",
    "            PPlant[ii,jj,mm] = Ppk\n",
    "            CinPlant[ii,jj,mm] = uk_1\n",
    "\n",
    "            # executing DRTO\n",
    "            if ii%Δdrto == 0 || ii == 1\n",
    "                \n",
    "                if ii > 1\n",
    "                    sol_1s_temp = MS_CLDRTO(Cpk,Ppk,uk_1,xk_mpc,dek_mpc,pNom,1,solNom) \n",
    "                    # checking if 1s solution converged\n",
    "                    if sol_1s_temp['f'] == 1\n",
    "                        display(\"DB: Nominal solution at t = $(ii): found\")\n",
    "                        solNom = sol_1s_temp \n",
    "                    else\n",
    "                        display(\"DB: Nominal solution t = $(ii): not found\")\n",
    "                    end\n",
    "                end\n",
    "                \n",
    "                if mm == 1\n",
    "                    sol_temp = MS_CLDRTO(Cpk,Ppk,uk_1,xk_mpc,dek_mpc,pUnc,nS_MC,solNom)\n",
    "                else\n",
    "                    sol_temp = BENS_CLDRTO(Cpk,Ppk,uk_1,xk_mpc,dek_mpc,pUnc,nS_MC,solNom)\n",
    "                end\n",
    "                \n",
    "                # checking solution\n",
    "                if sol_temp['f'] == 1\n",
    "                    display(\"DB: CLDRTO method: $(mm) - Solution at t = $(ii): found\")\n",
    "                    # updating the solution\n",
    "                    global sol_k = sol_temp\n",
    "                    # counter for DRTO executions\n",
    "                    global countDRTO = 1;\n",
    "                    # N.B. need to declare as global due to loop scope\n",
    "                else\n",
    "                    display(\"DB: CLDRTO method: $(mm) - Solution at t = $(ii): not found\")\n",
    "                    # does not update either the solution or the counter \n",
    "                end\n",
    "            end\n",
    "            \n",
    "            # saving flag: surrogate for CLDRTO flag\n",
    "            flagCLDRTO[ii,jj,mm] = countDRTO\n",
    "\n",
    "            # Preparing controller \n",
    "            # building terms of the OF that depend on current information\n",
    "            yspk = sol_k['s'][countDRTO:(countDRTO + (p - 1)),2] \n",
    "            countDRTO += 1 \n",
    "            #display(\"DB: setpoint sent to the controller $(yspk)\")\n",
    "            # N.B.:\n",
    "            # using nominal (center) scenario, but any scenario could be used\n",
    "\n",
    "            # solving MPC\n",
    "            sol_mpc = solveMPC(xk_mpc,dek_mpc,uk_1,yspk,u_mpc_lb,u_mpc_ub,xref[2],uref,mpc,p,m)\n",
    "            #display(\"DB: input sent to plant $(sol_mpc['u'][1])\")\n",
    "            \n",
    "            # evolving plant\n",
    "            ode_prob = ODEProblem(bioreactor_ode!,xk,tspan,[sol_mpc['u'][1],pPlant]);\n",
    "            sol_plant = solve(ode_prob,Tsit5(),reltol=1e-8,abstol=1e-8,save_everystep = false); \n",
    "            \n",
    "            # loop\n",
    "            # -> Plant \n",
    "            xk = sol_plant.u[end]\n",
    "            uk_1 = sol_mpc['u'][1]\n",
    "            \n",
    "            # -> for initializing DRTO\n",
    "            Cpk = xk[1]\n",
    "            Ppk = xk[2]\n",
    "            \n",
    "            # -> MPCs\n",
    "            # evolving MPC models\n",
    "            xk_mpc  = A*xk_mpc + B*(uk_1 - uref)\n",
    "            dek_mpc = Ppk - (xk_mpc[2] + xref[2])\n",
    "            \n",
    "            # saving CLDRTO decisions\n",
    "            yspPlant[ii,jj,mm] = yspk[1]\n",
    "            \n",
    "        end # simulation\n",
    "    end # monolithic || decomposed\n",
    "end # MC"
   ]
  },
  {
   "cell_type": "markdown",
   "id": "17935b10",
   "metadata": {},
   "source": [
    "Preparing plot"
   ]
  },
  {
   "cell_type": "code",
   "execution_count": 18,
   "id": "f6527b20",
   "metadata": {},
   "outputs": [],
   "source": [
    "# time series for plotting\n",
    "ts = Vector{Float64}(undef,nsim) \n",
    "for i in 1:nsim\n",
    "    ts[i] = 1*i\n",
    "end\n",
    "\n",
    "# one subplot for each method\n",
    "num_subplots = 2\n",
    "\n",
    "# Creating color array\n",
    "CList = reshape( range(colorant\"red\", stop=colorant\"blue\",length=n_MC), 1, n_MC);\n",
    "MList =[:square, :circle];"
   ]
  },
  {
   "cell_type": "markdown",
   "id": "1bae5202",
   "metadata": {},
   "source": [
    "Computing statistics"
   ]
  },
  {
   "cell_type": "code",
   "execution_count": 19,
   "id": "387894fe",
   "metadata": {},
   "outputs": [],
   "source": [
    "# Extracting solution for plotting --> monolithic vs. decomposed \n",
    "CMean = mean(CPlant,dims=2)\n",
    "PMean = mean(PPlant,dims=2)\n",
    "CinMean = mean(CinPlant,dims=2)\n",
    "yspMean = mean(yspPlant,dims=2);"
   ]
  },
  {
   "cell_type": "markdown",
   "id": "d7169987",
   "metadata": {},
   "source": [
    "Plotting receipts"
   ]
  },
  {
   "cell_type": "code",
   "execution_count": 20,
   "id": "b9a319a2",
   "metadata": {},
   "outputs": [],
   "source": [
    "@userplot MC_Plot\n",
    "@recipe function f(h::MC_Plot)\n",
    "        \n",
    "    if length(h.args) < 5 \n",
    "        ylab, x, y_bar, y = h.args\n",
    "    else\n",
    "        ylab, x, y_bar, y, lim_u = h.args\n",
    "    end\n",
    "    \n",
    "    # set up the subplots\n",
    "    # these are common to both marginal histograms\n",
    "    legend := false\n",
    "    layout :=  (2,1)\n",
    "    grid := true\n",
    "    gridlinewidth --> 2\n",
    "    latex := true\n",
    "    linecolor := :black\n",
    "    \n",
    "    for mm in 1:2\n",
    "        # labels \n",
    "        ylabel := ylab\n",
    "        if mm == 2\n",
    "            xlabel := \"time [min]\"\n",
    "        end\n",
    "        \n",
    "        # DATA PLOTTING\n",
    "        # upper bound\n",
    "        if length(h.args) > 4 \n",
    "            # lower bound\n",
    "            @series begin\n",
    "                seriestype := :path\n",
    "                linestyle := :dot\n",
    "                subplot := mm\n",
    "                x, lim_u*ones(length(x))\n",
    "            end\n",
    "        end\n",
    "\n",
    "        # average MC value\n",
    "        @series begin\n",
    "            seriestype := :path\n",
    "            linewidth := 3\n",
    "            markercolor := :black\n",
    "            markerstrokecolor := :black\n",
    "            markersize := 3\n",
    "            \n",
    "            if mm == 1\n",
    "                linestyle := :solid\n",
    "                markershape := :circle\n",
    "            else\n",
    "                linestyle := :dashdot\n",
    "                markershape := :rect\n",
    "            end\n",
    "            \n",
    "            subplot := mm\n",
    "            x, y_bar[:,mm]\n",
    "            \n",
    "        end\n",
    "        \n",
    "        for nn in 1:n_MC\n",
    "            @series begin\n",
    "                seriestype := :path\n",
    "                linewidth := 2\n",
    "                linealpha := 0.1\n",
    "                subplot := mm\n",
    "                x, y[:,nn,mm]\n",
    "            end\n",
    "        end # MC loop\n",
    "    end # mono/dec loop \n",
    "end"
   ]
  },
  {
   "cell_type": "code",
   "execution_count": 21,
   "id": "0d3af1ed",
   "metadata": {},
   "outputs": [],
   "source": [
    "@userplot MC_Comp\n",
    "@recipe function f(h::MC_Comp)\n",
    "        \n",
    "    if length(h.args) < 4 \n",
    "        ylab, x, y_bar = h.args\n",
    "    else\n",
    "        ylab, x, y_bar, lim_u = h.args\n",
    "    end\n",
    "    \n",
    "    # set up the subplots\n",
    "    # these are common to both marginal histograms    \n",
    "    grid := true\n",
    "    gridlinewidth --> 2\n",
    "    \n",
    "    linecolor := :black\n",
    "    markercolor := :black\n",
    "    markerstrokecolor := :black\n",
    "    markersize := 3\n",
    "    \n",
    "    # axis labels \n",
    "    ylabel := ylab\n",
    "    xlabel := \"time [min]\"\n",
    "\n",
    "    # legend\n",
    "    legend := true\n",
    "    latex := true\n",
    "    labels = [\"Mono.\",\"Decom.\"] \n",
    "    \n",
    "    # DATA PLOTTING\n",
    "    # upper bound\n",
    "    if length(h.args) > 3\n",
    "        # lower bound\n",
    "        @series begin\n",
    "            seriestype := :path\n",
    "            linestyle := :dot\n",
    "            label --> \"\"\n",
    "            x, lim_u*ones(length(x))\n",
    "        end\n",
    "    end\n",
    "\n",
    "    # monolithic\n",
    "    @series begin\n",
    "        seriestype := :path\n",
    "        linewidth := 3\n",
    "        linestyle := :solid\n",
    "        markershape := :circle\n",
    "        label --> \"Mono.\"\n",
    "        x, y_bar[:,1]\n",
    "    end \n",
    "    \n",
    "    # decomposed\n",
    "    @series begin\n",
    "        seriestype := :path\n",
    "        linewidth := 3\n",
    "        linestyle := :dashdot\n",
    "        markershape := :rect\n",
    "        label --> \"Deco.\"\n",
    "        x, y_bar[:,2]\n",
    "    end \n",
    "end"
   ]
  },
  {
   "cell_type": "markdown",
   "id": "c7a1da6f",
   "metadata": {},
   "source": [
    "## Monte Carlo Iterations "
   ]
  },
  {
   "cell_type": "markdown",
   "id": "443f08f8",
   "metadata": {},
   "source": [
    "- Biomass"
   ]
  },
  {
   "cell_type": "code",
   "execution_count": 22,
   "id": "9290063f",
   "metadata": {},
   "outputs": [
    {
     "data": {
      "image/svg+xml": [
       "<?xml version=\"1.0\" encoding=\"utf-8\"?>\n",
       "<svg xmlns=\"http://www.w3.org/2000/svg\" xmlns:xlink=\"http://www.w3.org/1999/xlink\" width=\"600\" height=\"400\" viewBox=\"0 0 2400 1600\">\n",
       "<defs>\n",
       "  <clipPath id=\"clip730\">\n",
       "    <rect x=\"0\" y=\"0\" width=\"2400\" height=\"1600\"/>\n",
       "  </clipPath>\n",
       "</defs>\n",
       "<path clip-path=\"url(#clip730)\" d=\"M0 1600 L2400 1600 L2400 0 L0 0  Z\" fill=\"#ffffff\" fill-rule=\"evenodd\" fill-opacity=\"1\"/>\n",
       "<defs>\n",
       "  <clipPath id=\"clip731\">\n",
       "    <rect x=\"480\" y=\"0\" width=\"1681\" height=\"1600\"/>\n",
       "  </clipPath>\n",
       "</defs>\n",
       "<path clip-path=\"url(#clip730)\" d=\"M219.288 654.814 L2352.76 654.814 L2352.76 47.2441 L219.288 47.2441  Z\" fill=\"#ffffff\" fill-rule=\"evenodd\" fill-opacity=\"1\"/>\n",
       "<defs>\n",
       "  <clipPath id=\"clip732\">\n",
       "    <rect x=\"219\" y=\"47\" width=\"2134\" height=\"609\"/>\n",
       "  </clipPath>\n",
       "</defs>\n",
       "<polyline clip-path=\"url(#clip732)\" style=\"stroke:#000000; stroke-linecap:round; stroke-linejoin:round; stroke-width:8; stroke-opacity:0.1; fill:none\" points=\"703.396,654.814 703.396,47.2441 \"/>\n",
       "<polyline clip-path=\"url(#clip732)\" style=\"stroke:#000000; stroke-linecap:round; stroke-linejoin:round; stroke-width:8; stroke-opacity:0.1; fill:none\" points=\"1233.06,654.814 1233.06,47.2441 \"/>\n",
       "<polyline clip-path=\"url(#clip732)\" style=\"stroke:#000000; stroke-linecap:round; stroke-linejoin:round; stroke-width:8; stroke-opacity:0.1; fill:none\" points=\"1762.72,654.814 1762.72,47.2441 \"/>\n",
       "<polyline clip-path=\"url(#clip732)\" style=\"stroke:#000000; stroke-linecap:round; stroke-linejoin:round; stroke-width:8; stroke-opacity:0.1; fill:none\" points=\"2292.37,654.814 2292.37,47.2441 \"/>\n",
       "<polyline clip-path=\"url(#clip730)\" style=\"stroke:#000000; stroke-linecap:round; stroke-linejoin:round; stroke-width:4; stroke-opacity:1; fill:none\" points=\"219.288,654.814 2352.76,654.814 \"/>\n",
       "<polyline clip-path=\"url(#clip730)\" style=\"stroke:#000000; stroke-linecap:round; stroke-linejoin:round; stroke-width:4; stroke-opacity:1; fill:none\" points=\"703.396,654.814 703.396,635.916 \"/>\n",
       "<polyline clip-path=\"url(#clip730)\" style=\"stroke:#000000; stroke-linecap:round; stroke-linejoin:round; stroke-width:4; stroke-opacity:1; fill:none\" points=\"1233.06,654.814 1233.06,635.916 \"/>\n",
       "<polyline clip-path=\"url(#clip730)\" style=\"stroke:#000000; stroke-linecap:round; stroke-linejoin:round; stroke-width:4; stroke-opacity:1; fill:none\" points=\"1762.72,654.814 1762.72,635.916 \"/>\n",
       "<polyline clip-path=\"url(#clip730)\" style=\"stroke:#000000; stroke-linecap:round; stroke-linejoin:round; stroke-width:4; stroke-opacity:1; fill:none\" points=\"2292.37,654.814 2292.37,635.916 \"/>\n",
       "<path clip-path=\"url(#clip730)\" d=\"M693.674 682.654 L712.031 682.654 L712.031 686.589 L697.957 686.589 L697.957 695.061 Q698.975 694.714 699.994 694.552 Q701.012 694.367 702.031 694.367 Q707.818 694.367 711.197 697.538 Q714.577 700.709 714.577 706.126 Q714.577 711.705 711.105 714.806 Q707.632 717.885 701.313 717.885 Q699.137 717.885 696.869 717.515 Q694.623 717.144 692.216 716.404 L692.216 711.705 Q694.299 712.839 696.521 713.394 Q698.744 713.95 701.22 713.95 Q705.225 713.95 707.563 711.844 Q709.901 709.737 709.901 706.126 Q709.901 702.515 707.563 700.408 Q705.225 698.302 701.22 698.302 Q699.345 698.302 697.47 698.719 Q695.619 699.135 693.674 700.015 L693.674 682.654 Z\" fill=\"#000000\" fill-rule=\"evenodd\" fill-opacity=\"1\" /><path clip-path=\"url(#clip730)\" d=\"M1207.74 713.279 L1215.38 713.279 L1215.38 686.913 L1207.07 688.58 L1207.07 684.321 L1215.34 682.654 L1220.01 682.654 L1220.01 713.279 L1227.65 713.279 L1227.65 717.214 L1207.74 717.214 L1207.74 713.279 Z\" fill=\"#000000\" fill-rule=\"evenodd\" fill-opacity=\"1\" /><path clip-path=\"url(#clip730)\" d=\"M1247.1 685.733 Q1243.48 685.733 1241.66 689.297 Q1239.85 692.839 1239.85 699.969 Q1239.85 707.075 1241.66 710.64 Q1243.48 714.181 1247.1 714.181 Q1250.73 714.181 1252.53 710.64 Q1254.36 707.075 1254.36 699.969 Q1254.36 692.839 1252.53 689.297 Q1250.73 685.733 1247.1 685.733 M1247.1 682.029 Q1252.91 682.029 1255.96 686.635 Q1259.04 691.219 1259.04 699.969 Q1259.04 708.695 1255.96 713.302 Q1252.91 717.885 1247.1 717.885 Q1241.28 717.885 1238.21 713.302 Q1235.15 708.695 1235.15 699.969 Q1235.15 691.219 1238.21 686.635 Q1241.28 682.029 1247.1 682.029 Z\" fill=\"#000000\" fill-rule=\"evenodd\" fill-opacity=\"1\" /><path clip-path=\"url(#clip730)\" d=\"M1737.9 713.279 L1745.54 713.279 L1745.54 686.913 L1737.23 688.58 L1737.23 684.321 L1745.49 682.654 L1750.17 682.654 L1750.17 713.279 L1757.81 713.279 L1757.81 717.214 L1737.9 717.214 L1737.9 713.279 Z\" fill=\"#000000\" fill-rule=\"evenodd\" fill-opacity=\"1\" /><path clip-path=\"url(#clip730)\" d=\"M1767.3 682.654 L1785.65 682.654 L1785.65 686.589 L1771.58 686.589 L1771.58 695.061 Q1772.6 694.714 1773.62 694.552 Q1774.64 694.367 1775.66 694.367 Q1781.44 694.367 1784.82 697.538 Q1788.2 700.709 1788.2 706.126 Q1788.2 711.705 1784.73 714.806 Q1781.26 717.885 1774.94 717.885 Q1772.76 717.885 1770.49 717.515 Q1768.25 717.144 1765.84 716.404 L1765.84 711.705 Q1767.92 712.839 1770.15 713.394 Q1772.37 713.95 1774.84 713.95 Q1778.85 713.95 1781.19 711.844 Q1783.53 709.737 1783.53 706.126 Q1783.53 702.515 1781.19 700.408 Q1778.85 698.302 1774.84 698.302 Q1772.97 698.302 1771.09 698.719 Q1769.24 699.135 1767.3 700.015 L1767.3 682.654 Z\" fill=\"#000000\" fill-rule=\"evenodd\" fill-opacity=\"1\" /><path clip-path=\"url(#clip730)\" d=\"M2271.15 713.279 L2287.47 713.279 L2287.47 717.214 L2265.52 717.214 L2265.52 713.279 Q2268.19 710.524 2272.77 705.894 Q2277.37 701.242 2278.56 699.899 Q2280.8 697.376 2281.68 695.64 Q2282.58 693.881 2282.58 692.191 Q2282.58 689.436 2280.64 687.7 Q2278.72 685.964 2275.62 685.964 Q2273.42 685.964 2270.96 686.728 Q2268.53 687.492 2265.75 689.043 L2265.75 684.321 Q2268.58 683.186 2271.03 682.608 Q2273.49 682.029 2275.52 682.029 Q2280.89 682.029 2284.09 684.714 Q2287.28 687.399 2287.28 691.89 Q2287.28 694.02 2286.47 695.941 Q2285.68 697.839 2283.58 700.432 Q2283 701.103 2279.9 704.32 Q2276.8 707.515 2271.15 713.279 Z\" fill=\"#000000\" fill-rule=\"evenodd\" fill-opacity=\"1\" /><path clip-path=\"url(#clip730)\" d=\"M2307.28 685.733 Q2303.67 685.733 2301.84 689.297 Q2300.04 692.839 2300.04 699.969 Q2300.04 707.075 2301.84 710.64 Q2303.67 714.181 2307.28 714.181 Q2310.92 714.181 2312.72 710.64 Q2314.55 707.075 2314.55 699.969 Q2314.55 692.839 2312.72 689.297 Q2310.92 685.733 2307.28 685.733 M2307.28 682.029 Q2313.09 682.029 2316.15 686.635 Q2319.23 691.219 2319.23 699.969 Q2319.23 708.695 2316.15 713.302 Q2313.09 717.885 2307.28 717.885 Q2301.47 717.885 2298.39 713.302 Q2295.34 708.695 2295.34 699.969 Q2295.34 691.219 2298.39 686.635 Q2301.47 682.029 2307.28 682.029 Z\" fill=\"#000000\" fill-rule=\"evenodd\" fill-opacity=\"1\" /><polyline clip-path=\"url(#clip732)\" style=\"stroke:#000000; stroke-linecap:round; stroke-linejoin:round; stroke-width:8; stroke-opacity:0.1; fill:none\" points=\"219.288,558.472 2352.76,558.472 \"/>\n",
       "<polyline clip-path=\"url(#clip732)\" style=\"stroke:#000000; stroke-linecap:round; stroke-linejoin:round; stroke-width:8; stroke-opacity:0.1; fill:none\" points=\"219.288,451.34 2352.76,451.34 \"/>\n",
       "<polyline clip-path=\"url(#clip732)\" style=\"stroke:#000000; stroke-linecap:round; stroke-linejoin:round; stroke-width:8; stroke-opacity:0.1; fill:none\" points=\"219.288,344.208 2352.76,344.208 \"/>\n",
       "<polyline clip-path=\"url(#clip732)\" style=\"stroke:#000000; stroke-linecap:round; stroke-linejoin:round; stroke-width:8; stroke-opacity:0.1; fill:none\" points=\"219.288,237.075 2352.76,237.075 \"/>\n",
       "<polyline clip-path=\"url(#clip732)\" style=\"stroke:#000000; stroke-linecap:round; stroke-linejoin:round; stroke-width:8; stroke-opacity:0.1; fill:none\" points=\"219.288,129.943 2352.76,129.943 \"/>\n",
       "<polyline clip-path=\"url(#clip730)\" style=\"stroke:#000000; stroke-linecap:round; stroke-linejoin:round; stroke-width:4; stroke-opacity:1; fill:none\" points=\"219.288,654.814 219.288,47.2441 \"/>\n",
       "<polyline clip-path=\"url(#clip730)\" style=\"stroke:#000000; stroke-linecap:round; stroke-linejoin:round; stroke-width:4; stroke-opacity:1; fill:none\" points=\"219.288,558.472 238.185,558.472 \"/>\n",
       "<polyline clip-path=\"url(#clip730)\" style=\"stroke:#000000; stroke-linecap:round; stroke-linejoin:round; stroke-width:4; stroke-opacity:1; fill:none\" points=\"219.288,451.34 238.185,451.34 \"/>\n",
       "<polyline clip-path=\"url(#clip730)\" style=\"stroke:#000000; stroke-linecap:round; stroke-linejoin:round; stroke-width:4; stroke-opacity:1; fill:none\" points=\"219.288,344.208 238.185,344.208 \"/>\n",
       "<polyline clip-path=\"url(#clip730)\" style=\"stroke:#000000; stroke-linecap:round; stroke-linejoin:round; stroke-width:4; stroke-opacity:1; fill:none\" points=\"219.288,237.075 238.185,237.075 \"/>\n",
       "<polyline clip-path=\"url(#clip730)\" style=\"stroke:#000000; stroke-linecap:round; stroke-linejoin:round; stroke-width:4; stroke-opacity:1; fill:none\" points=\"219.288,129.943 238.185,129.943 \"/>\n",
       "<path clip-path=\"url(#clip730)\" d=\"M127.015 544.271 Q123.404 544.271 121.575 547.836 Q119.769 551.378 119.769 558.507 Q119.769 565.614 121.575 569.178 Q123.404 572.72 127.015 572.72 Q130.649 572.72 132.455 569.178 Q134.283 565.614 134.283 558.507 Q134.283 551.378 132.455 547.836 Q130.649 544.271 127.015 544.271 M127.015 540.567 Q132.825 540.567 135.88 545.174 Q138.959 549.757 138.959 558.507 Q138.959 567.234 135.88 571.84 Q132.825 576.424 127.015 576.424 Q121.205 576.424 118.126 571.84 Q115.07 567.234 115.07 558.507 Q115.07 549.757 118.126 545.174 Q121.205 540.567 127.015 540.567 Z\" fill=\"#000000\" fill-rule=\"evenodd\" fill-opacity=\"1\" /><path clip-path=\"url(#clip730)\" d=\"M147.177 569.873 L152.061 569.873 L152.061 575.752 L147.177 575.752 L147.177 569.873 Z\" fill=\"#000000\" fill-rule=\"evenodd\" fill-opacity=\"1\" /><path clip-path=\"url(#clip730)\" d=\"M161.065 541.192 L183.288 541.192 L183.288 543.183 L170.741 575.752 L165.857 575.752 L177.663 545.128 L161.065 545.128 L161.065 541.192 Z\" fill=\"#000000\" fill-rule=\"evenodd\" fill-opacity=\"1\" /><path clip-path=\"url(#clip730)\" d=\"M126.205 437.139 Q122.593 437.139 120.765 440.704 Q118.959 444.245 118.959 451.375 Q118.959 458.481 120.765 462.046 Q122.593 465.588 126.205 465.588 Q129.839 465.588 131.644 462.046 Q133.473 458.481 133.473 451.375 Q133.473 444.245 131.644 440.704 Q129.839 437.139 126.205 437.139 M126.205 433.435 Q132.015 433.435 135.07 438.042 Q138.149 442.625 138.149 451.375 Q138.149 460.102 135.07 464.708 Q132.015 469.291 126.205 469.291 Q120.394 469.291 117.316 464.708 Q114.26 460.102 114.26 451.375 Q114.26 442.625 117.316 438.042 Q120.394 433.435 126.205 433.435 Z\" fill=\"#000000\" fill-rule=\"evenodd\" fill-opacity=\"1\" /><path clip-path=\"url(#clip730)\" d=\"M146.366 462.74 L151.251 462.74 L151.251 468.62 L146.366 468.62 L146.366 462.74 Z\" fill=\"#000000\" fill-rule=\"evenodd\" fill-opacity=\"1\" /><path clip-path=\"url(#clip730)\" d=\"M171.436 452.208 Q168.102 452.208 166.181 453.991 Q164.283 455.773 164.283 458.898 Q164.283 462.023 166.181 463.805 Q168.102 465.588 171.436 465.588 Q174.769 465.588 176.69 463.805 Q178.612 462 178.612 458.898 Q178.612 455.773 176.69 453.991 Q174.792 452.208 171.436 452.208 M166.76 450.217 Q163.751 449.477 162.061 447.416 Q160.394 445.356 160.394 442.393 Q160.394 438.25 163.334 435.842 Q166.297 433.435 171.436 433.435 Q176.598 433.435 179.538 435.842 Q182.477 438.25 182.477 442.393 Q182.477 445.356 180.788 447.416 Q179.121 449.477 176.135 450.217 Q179.514 451.004 181.389 453.296 Q183.288 455.588 183.288 458.898 Q183.288 463.921 180.209 466.606 Q177.153 469.291 171.436 469.291 Q165.718 469.291 162.64 466.606 Q159.584 463.921 159.584 458.898 Q159.584 455.588 161.482 453.296 Q163.38 451.004 166.76 450.217 M165.047 442.833 Q165.047 445.518 166.714 447.023 Q168.403 448.528 171.436 448.528 Q174.445 448.528 176.135 447.023 Q177.848 445.518 177.848 442.833 Q177.848 440.148 176.135 438.643 Q174.445 437.139 171.436 437.139 Q168.403 437.139 166.714 438.643 Q165.047 440.148 165.047 442.833 Z\" fill=\"#000000\" fill-rule=\"evenodd\" fill-opacity=\"1\" /><path clip-path=\"url(#clip730)\" d=\"M126.297 330.006 Q122.686 330.006 120.857 333.571 Q119.052 337.113 119.052 344.242 Q119.052 351.349 120.857 354.914 Q122.686 358.455 126.297 358.455 Q129.931 358.455 131.737 354.914 Q133.566 351.349 133.566 344.242 Q133.566 337.113 131.737 333.571 Q129.931 330.006 126.297 330.006 M126.297 326.303 Q132.107 326.303 135.163 330.909 Q138.242 335.493 138.242 344.242 Q138.242 352.969 135.163 357.576 Q132.107 362.159 126.297 362.159 Q120.487 362.159 117.408 357.576 Q114.353 352.969 114.353 344.242 Q114.353 335.493 117.408 330.909 Q120.487 326.303 126.297 326.303 Z\" fill=\"#000000\" fill-rule=\"evenodd\" fill-opacity=\"1\" /><path clip-path=\"url(#clip730)\" d=\"M146.459 355.608 L151.343 355.608 L151.343 361.488 L146.459 361.488 L146.459 355.608 Z\" fill=\"#000000\" fill-rule=\"evenodd\" fill-opacity=\"1\" /><path clip-path=\"url(#clip730)\" d=\"M161.667 360.77 L161.667 356.511 Q163.427 357.344 165.232 357.784 Q167.038 358.224 168.774 358.224 Q173.403 358.224 175.834 355.122 Q178.288 351.997 178.635 345.655 Q177.292 347.645 175.232 348.71 Q173.172 349.775 170.672 349.775 Q165.487 349.775 162.454 346.65 Q159.445 343.502 159.445 338.062 Q159.445 332.738 162.593 329.52 Q165.741 326.303 170.973 326.303 Q176.968 326.303 180.116 330.909 Q183.288 335.493 183.288 344.242 Q183.288 352.414 179.399 357.298 Q175.533 362.159 168.982 362.159 Q167.223 362.159 165.417 361.812 Q163.612 361.465 161.667 360.77 M170.973 346.117 Q174.121 346.117 175.95 343.965 Q177.801 341.812 177.801 338.062 Q177.801 334.335 175.95 332.182 Q174.121 330.006 170.973 330.006 Q167.825 330.006 165.973 332.182 Q164.144 334.335 164.144 338.062 Q164.144 341.812 165.973 343.965 Q167.825 346.117 170.973 346.117 Z\" fill=\"#000000\" fill-rule=\"evenodd\" fill-opacity=\"1\" /><path clip-path=\"url(#clip730)\" d=\"M116.922 250.42 L124.561 250.42 L124.561 224.055 L116.251 225.721 L116.251 221.462 L124.515 219.795 L129.191 219.795 L129.191 250.42 L136.829 250.42 L136.829 254.355 L116.922 254.355 L116.922 250.42 Z\" fill=\"#000000\" fill-rule=\"evenodd\" fill-opacity=\"1\" /><path clip-path=\"url(#clip730)\" d=\"M146.274 248.476 L151.158 248.476 L151.158 254.355 L146.274 254.355 L146.274 248.476 Z\" fill=\"#000000\" fill-rule=\"evenodd\" fill-opacity=\"1\" /><path clip-path=\"url(#clip730)\" d=\"M171.343 222.874 Q167.732 222.874 165.903 226.439 Q164.098 229.981 164.098 237.11 Q164.098 244.217 165.903 247.781 Q167.732 251.323 171.343 251.323 Q174.977 251.323 176.783 247.781 Q178.612 244.217 178.612 237.11 Q178.612 229.981 176.783 226.439 Q174.977 222.874 171.343 222.874 M171.343 219.17 Q177.153 219.17 180.209 223.777 Q183.288 228.36 183.288 237.11 Q183.288 245.837 180.209 250.443 Q177.153 255.027 171.343 255.027 Q165.533 255.027 162.454 250.443 Q159.399 245.837 159.399 237.11 Q159.399 228.36 162.454 223.777 Q165.533 219.17 171.343 219.17 Z\" fill=\"#000000\" fill-rule=\"evenodd\" fill-opacity=\"1\" /><path clip-path=\"url(#clip730)\" d=\"M118.149 143.288 L125.788 143.288 L125.788 116.922 L117.478 118.589 L117.478 114.33 L125.742 112.663 L130.417 112.663 L130.417 143.288 L138.056 143.288 L138.056 147.223 L118.149 147.223 L118.149 143.288 Z\" fill=\"#000000\" fill-rule=\"evenodd\" fill-opacity=\"1\" /><path clip-path=\"url(#clip730)\" d=\"M147.501 141.344 L152.385 141.344 L152.385 147.223 L147.501 147.223 L147.501 141.344 Z\" fill=\"#000000\" fill-rule=\"evenodd\" fill-opacity=\"1\" /><path clip-path=\"url(#clip730)\" d=\"M163.38 143.288 L171.019 143.288 L171.019 116.922 L162.709 118.589 L162.709 114.33 L170.973 112.663 L175.649 112.663 L175.649 143.288 L183.288 143.288 L183.288 147.223 L163.38 147.223 L163.38 143.288 Z\" fill=\"#000000\" fill-rule=\"evenodd\" fill-opacity=\"1\" /><path clip-path=\"url(#clip730)\" d=\"M30.9797 387.319 Q34.5868 387.319 37.904 389.992 Q41.2212 392.633 43.2501 396.949 Q45.2469 401.232 45.2469 405.837 L45.2469 417.045 L61.7363 421.135 Q61.8329 421.167 62.2516 421.264 Q62.6381 421.361 62.8635 421.361 Q63.6687 421.361 63.8619 420.362 Q64.0551 419.332 64.0551 417.045 Q64.0551 415.564 64.3128 415.338 Q64.4738 415.209 64.7637 415.209 Q65.2145 415.209 65.5366 415.338 Q65.8264 415.467 65.9231 415.725 Q66.0197 415.95 66.0519 416.111 Q66.0841 416.272 66.0841 416.53 Q66.0841 417.206 66.0197 418.655 Q65.9553 420.072 65.9553 420.813 L65.8909 425.032 L66.0841 433.406 Q66.0841 434.404 65.2789 434.404 Q64.667 434.404 64.4094 434.146 Q64.1195 433.889 64.0873 433.599 Q64.0551 433.309 64.0551 432.568 Q64.0551 430.958 63.9585 429.992 Q63.8619 429.026 63.7331 428.414 Q63.572 427.77 63.1212 427.448 Q62.6703 427.093 62.2838 426.932 Q61.8651 426.771 60.9312 426.546 L25.5047 417.721 Q24.4419 417.464 24.2809 417.464 Q23.7334 417.464 23.5402 417.786 Q23.3147 418.076 23.2181 418.913 Q23.0893 420.523 23.0893 421.747 Q23.0893 422.552 23.0571 422.874 Q23.0249 423.164 22.8638 423.422 Q22.6706 423.647 22.2841 423.647 Q21.6722 423.647 21.4146 423.39 Q21.1247 423.1 21.0925 422.778 Q21.0281 422.456 21.0281 421.683 L21.0281 400.298 Q21.0281 394.147 23.9588 390.733 Q26.8896 387.319 30.9797 387.319 M29.4016 393.438 Q23.0893 393.438 23.0893 402.424 L23.0893 408.736 Q23.0893 410.829 23.4757 411.345 Q23.83 411.86 25.6013 412.311 L43.54 416.787 L43.54 407.48 Q43.54 401.232 40.0296 397.335 Q38.4193 395.564 35.0699 394.501 Q31.7204 393.438 29.4016 393.438 Z\" fill=\"#000000\" fill-rule=\"evenodd\" fill-opacity=\"1\" /><path clip-path=\"url(#clip730)\" d=\"M82.5735 378.761 L16.6159 378.761 L16.6159 368.81 L18.1296 368.81 L18.1296 374.349 L81.0598 374.349 L81.0598 368.81 L82.5735 368.81 L82.5735 378.761 Z\" fill=\"#000000\" fill-rule=\"evenodd\" fill-opacity=\"1\" /><path clip-path=\"url(#clip730)\" d=\"M40.0296 338.258 Q40.0618 338.258 41.2212 338.451 L70.4963 345.794 Q72.0422 346.18 73.5881 347.275 Q75.1661 348.338 76.5188 350.045 Q77.9036 351.72 78.741 354.296 Q79.6106 356.84 79.6106 359.771 Q79.6106 364.441 78.6122 366.502 Q77.646 368.531 75.5848 368.531 Q73.7813 368.531 72.7507 367.404 Q71.7523 366.277 71.7523 364.989 Q71.7523 363.765 72.4609 363.121 Q73.1694 362.477 74.0711 362.477 Q75.0695 362.477 76.0679 363.153 Q77.0985 363.829 77.485 365.182 Q78.1613 363.024 78.1613 359.9 Q78.1613 353.298 71.1726 350.464 Q71.076 350.399 71.0438 350.399 L62.316 348.209 L62.2516 348.306 Q62.8957 348.853 63.6364 349.723 Q64.345 350.56 65.2145 352.364 Q66.0841 354.167 66.0841 355.939 Q66.0841 359.642 63.25 362.187 Q60.3837 364.699 55.6494 364.699 Q52.2034 364.699 48.7573 363.314 Q45.2791 361.897 42.7348 359.707 Q40.1584 357.485 38.5481 354.65 Q36.9378 351.784 36.9378 349.014 Q36.9378 347.082 38.0972 345.44 Q39.2244 343.797 41.0923 342.895 Q39.5465 342.734 38.9023 341.865 Q38.2582 340.963 38.2582 340.19 Q38.2582 339.32 38.7413 338.805 Q39.1922 338.258 40.0296 338.258 M44.0553 343.668 Q43.8621 343.668 43.3468 343.797 Q42.7993 343.926 41.9297 344.312 Q41.0601 344.667 40.2872 345.214 Q39.5143 345.762 38.9668 346.76 Q38.3871 347.726 38.3871 348.95 Q38.3871 350.947 40.0618 352.944 Q41.7043 354.94 44.2485 356.325 Q46.6962 357.613 51.4304 358.837 Q56.1647 360.029 58.5801 360.029 Q60.9634 360.029 62.7991 358.998 Q64.6348 357.968 64.6348 355.745 Q64.6348 353.169 62.2516 350.399 Q59.7717 347.533 57.6462 347.05 L45.0537 343.862 Q44.2807 343.668 44.0553 343.668 Z\" fill=\"#000000\" fill-rule=\"evenodd\" fill-opacity=\"1\" /><path clip-path=\"url(#clip730)\" d=\"M81.6395 337.398 Q81.3175 337.398 80.6089 337.141 L18.3872 313.856 Q18.3228 313.856 17.9685 313.695 Q17.6143 313.534 17.3888 313.437 Q17.1312 313.34 16.938 313.147 Q16.7447 312.922 16.7447 312.664 Q16.7447 312.02 17.5499 312.02 Q17.6143 312.02 18.3872 312.213 L80.6734 335.563 Q81.8006 335.949 82.1226 336.207 Q82.4447 336.432 82.4447 336.819 Q82.4447 337.398 81.6395 337.398 Z\" fill=\"#000000\" fill-rule=\"evenodd\" fill-opacity=\"1\" /><path clip-path=\"url(#clip730)\" d=\"M21.0281 290.628 L59.1598 300.129 Q60.6735 300.515 62.316 300.515 Q65.3434 300.515 65.3434 298.518 Q65.3434 297.585 64.7314 296.812 Q64.0873 296.039 62.8313 295.459 Q61.5431 294.847 60.3192 294.461 Q59.0954 294.042 57.1953 293.527 Q56.4545 293.366 56.2291 293.205 Q56.0037 293.043 56.0037 292.593 Q56.0037 291.787 56.6478 291.787 Q60.6091 292.593 63.1212 293.784 Q66.8248 295.523 66.8248 298.744 Q66.8248 301.159 65.1501 302.963 Q63.4432 304.734 60.7379 304.734 Q59.7073 304.734 58.4835 304.412 L25.5047 296.103 L24.2165 295.878 Q23.8622 295.878 23.669 296.006 Q23.4757 296.135 23.2825 296.908 Q23.0893 297.649 23.0893 299.13 Q23.0893 299.742 23.0571 300.032 Q23.0249 300.29 22.8638 300.547 Q22.7028 300.773 22.3485 300.773 Q21.7688 300.773 21.4468 300.547 Q21.1247 300.29 21.0603 300.097 Q20.9959 299.903 20.9637 299.517 Q20.9315 298.969 20.7704 297.134 Q20.5772 295.298 20.4484 293.72 Q20.3196 292.142 20.3196 291.465 Q20.3196 291.079 20.5128 290.886 Q20.6738 290.66 20.8671 290.628 L21.0281 290.628 Z\" fill=\"#000000\" fill-rule=\"evenodd\" fill-opacity=\"1\" /><path clip-path=\"url(#clip730)\" d=\"M81.0598 285.804 L81.0598 280.265 L18.1296 280.265 L18.1296 285.804 L16.6159 285.804 L16.6159 275.853 L82.5735 275.853 L82.5735 285.804 L81.0598 285.804 Z\" fill=\"#000000\" fill-rule=\"evenodd\" fill-opacity=\"1\" /><polyline clip-path=\"url(#clip732)\" style=\"stroke:#000000; stroke-linecap:round; stroke-linejoin:round; stroke-width:12; stroke-opacity:1; fill:none\" points=\"279.669,620.609 385.601,595.743 491.533,528.402 597.464,452.672 703.396,384.344 809.328,327.867 915.26,282.894 1021.19,248.378 1127.12,224.11 1233.06,207.79 1338.99,195.855 1444.92,186.507 1550.85,184.368 1656.78,189.048 1762.72,193.371 1868.65,192.787 1974.58,192.886 2080.51,195.596 2186.44,196.269 2292.37,192.565 \"/>\n",
       "<circle clip-path=\"url(#clip732)\" cx=\"279.669\" cy=\"620.609\" r=\"10.8\" fill=\"#000000\" fill-rule=\"evenodd\" fill-opacity=\"1\" stroke=\"none\"/>\n",
       "<circle clip-path=\"url(#clip732)\" cx=\"385.601\" cy=\"595.743\" r=\"10.8\" fill=\"#000000\" fill-rule=\"evenodd\" fill-opacity=\"1\" stroke=\"none\"/>\n",
       "<circle clip-path=\"url(#clip732)\" cx=\"491.533\" cy=\"528.402\" r=\"10.8\" fill=\"#000000\" fill-rule=\"evenodd\" fill-opacity=\"1\" stroke=\"none\"/>\n",
       "<circle clip-path=\"url(#clip732)\" cx=\"597.464\" cy=\"452.672\" r=\"10.8\" fill=\"#000000\" fill-rule=\"evenodd\" fill-opacity=\"1\" stroke=\"none\"/>\n",
       "<circle clip-path=\"url(#clip732)\" cx=\"703.396\" cy=\"384.344\" r=\"10.8\" fill=\"#000000\" fill-rule=\"evenodd\" fill-opacity=\"1\" stroke=\"none\"/>\n",
       "<circle clip-path=\"url(#clip732)\" cx=\"809.328\" cy=\"327.867\" r=\"10.8\" fill=\"#000000\" fill-rule=\"evenodd\" fill-opacity=\"1\" stroke=\"none\"/>\n",
       "<circle clip-path=\"url(#clip732)\" cx=\"915.26\" cy=\"282.894\" r=\"10.8\" fill=\"#000000\" fill-rule=\"evenodd\" fill-opacity=\"1\" stroke=\"none\"/>\n",
       "<circle clip-path=\"url(#clip732)\" cx=\"1021.19\" cy=\"248.378\" r=\"10.8\" fill=\"#000000\" fill-rule=\"evenodd\" fill-opacity=\"1\" stroke=\"none\"/>\n",
       "<circle clip-path=\"url(#clip732)\" cx=\"1127.12\" cy=\"224.11\" r=\"10.8\" fill=\"#000000\" fill-rule=\"evenodd\" fill-opacity=\"1\" stroke=\"none\"/>\n",
       "<circle clip-path=\"url(#clip732)\" cx=\"1233.06\" cy=\"207.79\" r=\"10.8\" fill=\"#000000\" fill-rule=\"evenodd\" fill-opacity=\"1\" stroke=\"none\"/>\n",
       "<circle clip-path=\"url(#clip732)\" cx=\"1338.99\" cy=\"195.855\" r=\"10.8\" fill=\"#000000\" fill-rule=\"evenodd\" fill-opacity=\"1\" stroke=\"none\"/>\n",
       "<circle clip-path=\"url(#clip732)\" cx=\"1444.92\" cy=\"186.507\" r=\"10.8\" fill=\"#000000\" fill-rule=\"evenodd\" fill-opacity=\"1\" stroke=\"none\"/>\n",
       "<circle clip-path=\"url(#clip732)\" cx=\"1550.85\" cy=\"184.368\" r=\"10.8\" fill=\"#000000\" fill-rule=\"evenodd\" fill-opacity=\"1\" stroke=\"none\"/>\n",
       "<circle clip-path=\"url(#clip732)\" cx=\"1656.78\" cy=\"189.048\" r=\"10.8\" fill=\"#000000\" fill-rule=\"evenodd\" fill-opacity=\"1\" stroke=\"none\"/>\n",
       "<circle clip-path=\"url(#clip732)\" cx=\"1762.72\" cy=\"193.371\" r=\"10.8\" fill=\"#000000\" fill-rule=\"evenodd\" fill-opacity=\"1\" stroke=\"none\"/>\n",
       "<circle clip-path=\"url(#clip732)\" cx=\"1868.65\" cy=\"192.787\" r=\"10.8\" fill=\"#000000\" fill-rule=\"evenodd\" fill-opacity=\"1\" stroke=\"none\"/>\n",
       "<circle clip-path=\"url(#clip732)\" cx=\"1974.58\" cy=\"192.886\" r=\"10.8\" fill=\"#000000\" fill-rule=\"evenodd\" fill-opacity=\"1\" stroke=\"none\"/>\n",
       "<circle clip-path=\"url(#clip732)\" cx=\"2080.51\" cy=\"195.596\" r=\"10.8\" fill=\"#000000\" fill-rule=\"evenodd\" fill-opacity=\"1\" stroke=\"none\"/>\n",
       "<circle clip-path=\"url(#clip732)\" cx=\"2186.44\" cy=\"196.269\" r=\"10.8\" fill=\"#000000\" fill-rule=\"evenodd\" fill-opacity=\"1\" stroke=\"none\"/>\n",
       "<circle clip-path=\"url(#clip732)\" cx=\"2292.37\" cy=\"192.565\" r=\"10.8\" fill=\"#000000\" fill-rule=\"evenodd\" fill-opacity=\"1\" stroke=\"none\"/>\n",
       "<polyline clip-path=\"url(#clip732)\" style=\"stroke:#000000; stroke-linecap:round; stroke-linejoin:round; stroke-width:8; stroke-opacity:0.1; fill:none\" points=\"279.669,620.609 385.601,544.922 491.533,445.7 597.464,349.298 703.396,268.723 809.328,206.176 915.26,159.398 1021.19,125.009 1127.12,101.863 1233.06,86.198 1338.99,74.1474 1444.92,64.4395 1550.85,64.9722 1656.78,74.8378 1762.72,83.3564 1868.65,85.4422 1974.58,88.6718 2080.51,93.7423 2186.44,94.4702 2292.37,90.0902 \"/>\n",
       "<polyline clip-path=\"url(#clip732)\" style=\"stroke:#000000; stroke-linecap:round; stroke-linejoin:round; stroke-width:8; stroke-opacity:0.1; fill:none\" points=\"279.669,620.609 385.601,603.612 491.533,540.948 597.464,468.081 703.396,401.267 809.328,345.32 915.26,300.196 1021.19,265.054 1127.12,241.301 1233.06,225.949 1338.99,213.522 1444.92,203.812 1550.85,201.07 1656.78,203.816 1762.72,205.661 1868.65,202.901 1974.58,201.567 2080.51,203.765 2186.44,204.517 2292.37,200.802 \"/>\n",
       "<polyline clip-path=\"url(#clip732)\" style=\"stroke:#000000; stroke-linecap:round; stroke-linejoin:round; stroke-width:8; stroke-opacity:0.1; fill:none\" points=\"279.669,620.609 385.601,571.609 491.533,488.351 597.464,401.757 703.396,326.39 809.328,265.687 915.26,218.445 1021.19,182.122 1127.12,156.35 1233.06,138.063 1338.99,123.304 1444.92,110.632 1550.85,107.682 1656.78,115.039 1762.72,123.168 1868.65,125.649 1974.58,128.369 2080.51,132.958 2186.44,134.117 2292.37,130.092 \"/>\n",
       "<polyline clip-path=\"url(#clip732)\" style=\"stroke:#000000; stroke-linecap:round; stroke-linejoin:round; stroke-width:8; stroke-opacity:0.1; fill:none\" points=\"279.669,620.609 385.601,595.754 491.533,527.899 597.464,451.481 703.396,382.358 809.328,325.015 915.26,279.13 1021.19,243.172 1127.12,218.786 1233.06,203.129 1338.99,190.225 1444.92,179.018 1550.85,174.993 1656.78,177.733 1762.72,180.339 1868.65,178.496 1974.58,178.201 2080.51,181.416 2186.44,182.795 2292.37,179.318 \"/>\n",
       "<polyline clip-path=\"url(#clip732)\" style=\"stroke:#000000; stroke-linecap:round; stroke-linejoin:round; stroke-width:8; stroke-opacity:0.1; fill:none\" points=\"279.669,620.609 385.601,623.222 491.533,573.869 597.464,510.325 703.396,449.799 809.328,397.902 915.26,355.261 1021.19,322.822 1127.12,299.093 1233.06,283.274 1338.99,274.221 1444.92,268.934 1550.85,268.436 1656.78,271.377 1762.72,272.623 1868.65,269.149 1974.58,266.774 2080.51,267.855 2186.44,268.054 2292.37,264.264 \"/>\n",
       "<polyline clip-path=\"url(#clip732)\" style=\"stroke:#000000; stroke-linecap:round; stroke-linejoin:round; stroke-width:8; stroke-opacity:0.1; fill:none\" points=\"279.669,620.609 385.601,598.769 491.533,532.896 597.464,457.827 703.396,389.576 809.328,332.752 915.26,287.142 1021.19,251.406 1127.12,227.209 1233.06,211.705 1338.99,198.926 1444.92,188.272 1550.85,184.712 1656.78,187.278 1762.72,189.328 1868.65,186.901 1974.58,186.01 2080.51,188.654 2186.44,189.667 2292.37,186.057 \"/>\n",
       "<polyline clip-path=\"url(#clip732)\" style=\"stroke:#000000; stroke-linecap:round; stroke-linejoin:round; stroke-width:8; stroke-opacity:0.1; fill:none\" points=\"279.669,620.609 385.601,560.824 491.533,470.972 597.464,380.221 703.396,302.521 809.328,240.819 915.26,193.5 1021.19,157.695 1127.12,132.383 1233.06,114.285 1338.99,99.9269 1444.92,88.0766 1550.85,87.0013 1656.78,96.9385 1762.72,107.007 1868.65,110.321 1974.58,112.553 2080.51,115.102 2186.44,113.626 2292.37,107.853 \"/>\n",
       "<polyline clip-path=\"url(#clip732)\" style=\"stroke:#000000; stroke-linecap:round; stroke-linejoin:round; stroke-width:8; stroke-opacity:0.1; fill:none\" points=\"279.669,620.609 385.601,563.257 491.533,474.877 597.464,385.041 703.396,307.841 809.328,246.336 915.26,199.003 1021.19,163.051 1127.12,137.544 1233.06,119.262 1338.99,104.7 1444.92,92.6034 1550.85,90.9431 1656.78,99.9583 1762.72,109.196 1868.65,112.039 1974.58,114.516 2080.51,118.132 2186.44,117.979 2292.37,113.119 \"/>\n",
       "<polyline clip-path=\"url(#clip732)\" style=\"stroke:#000000; stroke-linecap:round; stroke-linejoin:round; stroke-width:8; stroke-opacity:0.1; fill:none\" points=\"279.669,620.609 385.601,612.121 491.533,555.174 597.464,486.274 703.396,422.101 809.328,367.817 915.26,323.673 1021.19,289.675 1127.12,265.02 1233.06,249.032 1338.99,239.398 1444.92,232.516 1550.85,230.657 1656.78,233.212 1762.72,234.579 1868.65,231.364 1974.58,229.547 2080.51,231.374 2186.44,232.08 2292.37,228.497 \"/>\n",
       "<polyline clip-path=\"url(#clip732)\" style=\"stroke:#000000; stroke-linecap:round; stroke-linejoin:round; stroke-width:8; stroke-opacity:0.1; fill:none\" points=\"279.669,620.609 385.601,563.071 491.533,474.579 597.464,384.673 703.396,307.434 809.328,245.913 915.26,198.581 1021.19,162.639 1127.12,137.155 1233.06,118.9 1338.99,104.365 1444.92,92.2921 1550.85,90.6773 1656.78,99.7615 1762.72,109.06 1868.65,111.935 1974.58,114.387 2080.51,117.912 2186.44,117.647 2292.37,112.709 \"/>\n",
       "<polyline clip-path=\"url(#clip732)\" style=\"stroke:#000000; stroke-linecap:round; stroke-linejoin:round; stroke-width:8; stroke-opacity:0.1; fill:none\" points=\"279.669,620.609 385.601,577.679 491.533,498.212 597.464,414.066 703.396,340.141 809.328,280.142 915.26,233.093 1021.19,196.63 1127.12,171.214 1233.06,153.844 1338.99,139.68 1444.92,126.964 1550.85,123.132 1656.78,128.994 1762.72,135.734 1868.65,137.308 1974.58,139.616 2080.51,144.386 2186.44,146.111 2292.37,142.511 \"/>\n",
       "<polyline clip-path=\"url(#clip732)\" style=\"stroke:#000000; stroke-linecap:round; stroke-linejoin:round; stroke-width:8; stroke-opacity:0.1; fill:none\" points=\"279.669,620.609 385.601,585.949 491.533,511.736 597.464,431.047 703.396,359.227 809.328,300.342 915.26,253.72 1021.19,217.231 1127.12,192.299 1233.06,176.032 1338.99,162.592 1444.92,149.854 1550.85,144.943 1656.78,148.893 1762.72,153.808 1868.65,154.164 1974.58,155.809 2080.51,160.573 2186.44,162.812 2292.37,159.675 \"/>\n",
       "<polyline clip-path=\"url(#clip732)\" style=\"stroke:#000000; stroke-linecap:round; stroke-linejoin:round; stroke-width:8; stroke-opacity:0.1; fill:none\" points=\"279.669,620.609 385.601,602.112 491.533,538.452 597.464,464.898 703.396,397.634 809.328,341.41 915.26,296.13 1021.19,260.796 1127.12,236.982 1233.06,221.705 1338.99,209.075 1444.92,198.9 1550.85,195.793 1656.78,198.399 1762.72,200.249 1868.65,197.561 1974.58,196.356 2080.51,198.703 2186.44,199.564 2292.37,195.92 \"/>\n",
       "<polyline clip-path=\"url(#clip732)\" style=\"stroke:#000000; stroke-linecap:round; stroke-linejoin:round; stroke-width:8; stroke-opacity:0.1; fill:none\" points=\"279.669,620.609 385.601,637.385 491.533,597.937 597.464,541.503 703.396,485.936 809.328,437.407 915.26,397.046 1021.19,366.273 1127.12,343.904 1233.06,329.029 1338.99,320.633 1444.92,316.155 1550.85,314.905 1656.78,316.596 1762.72,318.41 1868.65,317.315 1974.58,315.437 2080.51,315.556 2186.44,316.145 2292.37,314.602 \"/>\n",
       "<polyline clip-path=\"url(#clip732)\" style=\"stroke:#000000; stroke-linecap:round; stroke-linejoin:round; stroke-width:8; stroke-opacity:0.1; fill:none\" points=\"279.669,620.609 385.601,629.392 491.533,584.326 597.464,523.843 703.396,465.437 809.328,414.966 915.26,373.261 1021.19,341.73 1127.12,318.866 1233.06,303.62 1338.99,294.96 1444.92,290.006 1550.85,289.539 1656.78,292.199 1762.72,293.145 1868.65,289.84 1974.58,287.729 2080.51,288.825 2186.44,288.971 2292.37,285.333 \"/>\n",
       "<polyline clip-path=\"url(#clip732)\" style=\"stroke:#000000; stroke-linecap:round; stroke-linejoin:round; stroke-width:8; stroke-opacity:0.1; fill:none\" points=\"279.669,620.609 385.601,568.223 491.533,482.874 597.464,394.947 703.396,318.816 809.328,257.764 915.26,210.46 1021.19,174.263 1127.12,148.407 1233.06,129.786 1338.99,114.841 1444.92,102.278 1550.85,99.8126 1656.78,107.868 1762.72,116.541 1868.65,119.299 1974.58,122.125 2080.51,126.612 2186.44,127.523 2292.37,123.34 \"/>\n",
       "<polyline clip-path=\"url(#clip732)\" style=\"stroke:#000000; stroke-linecap:round; stroke-linejoin:round; stroke-width:8; stroke-opacity:0.1; fill:none\" points=\"279.669,620.609 385.601,628.798 491.533,583.317 597.464,522.537 703.396,463.925 809.328,413.313 915.26,371.516 1021.19,339.896 1127.12,316.95 1233.06,301.662 1338.99,292.976 1444.92,287.991 1550.85,287.523 1656.78,290.227 1762.72,291.227 1868.65,287.853 1974.58,285.637 2080.51,286.709 2186.44,286.888 2292.37,283.179 \"/>\n",
       "<polyline clip-path=\"url(#clip732)\" style=\"stroke:#000000; stroke-linecap:round; stroke-linejoin:round; stroke-width:8; stroke-opacity:0.1; fill:none\" points=\"279.669,620.609 385.601,594.383 491.533,525.63 597.464,448.604 703.396,379.091 809.328,321.518 915.26,275.516 1021.19,239.46 1127.12,214.986 1233.06,199.254 1338.99,186.292 1444.92,174.831 1550.85,170.634 1656.78,173.549 1762.72,176.529 1868.65,175.053 1974.58,175.125 2080.51,178.705 2186.44,180.348 2292.37,176.996 \"/>\n",
       "<polyline clip-path=\"url(#clip732)\" style=\"stroke:#000000; stroke-linecap:round; stroke-linejoin:round; stroke-width:8; stroke-opacity:0.1; fill:none\" points=\"279.669,620.609 385.601,616.163 491.533,561.964 597.464,494.991 703.396,432.12 809.328,378.678 915.26,335.053 1021.19,301.596 1127.12,277.197 1233.06,261.254 1338.99,251.882 1444.92,245.613 1550.85,244.263 1656.78,246.971 1762.72,248.31 1868.65,245.012 1974.58,242.996 2080.51,244.552 2186.44,245.075 2292.37,241.416 \"/>\n",
       "<polyline clip-path=\"url(#clip732)\" style=\"stroke:#000000; stroke-linecap:round; stroke-linejoin:round; stroke-width:8; stroke-opacity:0.1; fill:none\" points=\"279.669,620.609 385.601,637.618 491.533,598.336 597.464,542.022 703.396,486.539 809.328,438.069 915.26,397.759 1021.19,367.03 1127.12,344.689 1233.06,329.824 1338.99,321.425 1444.92,316.954 1550.85,315.671 1656.78,317.32 1762.72,319.149 1868.65,318.14 1974.58,316.298 2080.51,316.381 2186.44,316.988 2292.37,315.523 \"/>\n",
       "<path clip-path=\"url(#clip730)\" d=\"M219.288 1423.18 L2352.76 1423.18 L2352.76 815.61 L219.288 815.61  Z\" fill=\"#ffffff\" fill-rule=\"evenodd\" fill-opacity=\"1\"/>\n",
       "<defs>\n",
       "  <clipPath id=\"clip733\">\n",
       "    <rect x=\"219\" y=\"815\" width=\"2134\" height=\"609\"/>\n",
       "  </clipPath>\n",
       "</defs>\n",
       "<polyline clip-path=\"url(#clip733)\" style=\"stroke:#000000; stroke-linecap:round; stroke-linejoin:round; stroke-width:8; stroke-opacity:0.1; fill:none\" points=\"703.396,1423.18 703.396,815.61 \"/>\n",
       "<polyline clip-path=\"url(#clip733)\" style=\"stroke:#000000; stroke-linecap:round; stroke-linejoin:round; stroke-width:8; stroke-opacity:0.1; fill:none\" points=\"1233.06,1423.18 1233.06,815.61 \"/>\n",
       "<polyline clip-path=\"url(#clip733)\" style=\"stroke:#000000; stroke-linecap:round; stroke-linejoin:round; stroke-width:8; stroke-opacity:0.1; fill:none\" points=\"1762.72,1423.18 1762.72,815.61 \"/>\n",
       "<polyline clip-path=\"url(#clip733)\" style=\"stroke:#000000; stroke-linecap:round; stroke-linejoin:round; stroke-width:8; stroke-opacity:0.1; fill:none\" points=\"2292.37,1423.18 2292.37,815.61 \"/>\n",
       "<polyline clip-path=\"url(#clip730)\" style=\"stroke:#000000; stroke-linecap:round; stroke-linejoin:round; stroke-width:4; stroke-opacity:1; fill:none\" points=\"219.288,1423.18 2352.76,1423.18 \"/>\n",
       "<polyline clip-path=\"url(#clip730)\" style=\"stroke:#000000; stroke-linecap:round; stroke-linejoin:round; stroke-width:4; stroke-opacity:1; fill:none\" points=\"703.396,1423.18 703.396,1404.28 \"/>\n",
       "<polyline clip-path=\"url(#clip730)\" style=\"stroke:#000000; stroke-linecap:round; stroke-linejoin:round; stroke-width:4; stroke-opacity:1; fill:none\" points=\"1233.06,1423.18 1233.06,1404.28 \"/>\n",
       "<polyline clip-path=\"url(#clip730)\" style=\"stroke:#000000; stroke-linecap:round; stroke-linejoin:round; stroke-width:4; stroke-opacity:1; fill:none\" points=\"1762.72,1423.18 1762.72,1404.28 \"/>\n",
       "<polyline clip-path=\"url(#clip730)\" style=\"stroke:#000000; stroke-linecap:round; stroke-linejoin:round; stroke-width:4; stroke-opacity:1; fill:none\" points=\"2292.37,1423.18 2292.37,1404.28 \"/>\n",
       "<path clip-path=\"url(#clip730)\" d=\"M693.674 1451.02 L712.031 1451.02 L712.031 1454.96 L697.957 1454.96 L697.957 1463.43 Q698.975 1463.08 699.994 1462.92 Q701.012 1462.73 702.031 1462.73 Q707.818 1462.73 711.197 1465.9 Q714.577 1469.08 714.577 1474.49 Q714.577 1480.07 711.105 1483.17 Q707.632 1486.25 701.313 1486.25 Q699.137 1486.25 696.869 1485.88 Q694.623 1485.51 692.216 1484.77 L692.216 1480.07 Q694.299 1481.2 696.521 1481.76 Q698.744 1482.32 701.22 1482.32 Q705.225 1482.32 707.563 1480.21 Q709.901 1478.1 709.901 1474.49 Q709.901 1470.88 707.563 1468.77 Q705.225 1466.67 701.22 1466.67 Q699.345 1466.67 697.47 1467.08 Q695.619 1467.5 693.674 1468.38 L693.674 1451.02 Z\" fill=\"#000000\" fill-rule=\"evenodd\" fill-opacity=\"1\" /><path clip-path=\"url(#clip730)\" d=\"M1207.74 1481.64 L1215.38 1481.64 L1215.38 1455.28 L1207.07 1456.95 L1207.07 1452.69 L1215.34 1451.02 L1220.01 1451.02 L1220.01 1481.64 L1227.65 1481.64 L1227.65 1485.58 L1207.74 1485.58 L1207.74 1481.64 Z\" fill=\"#000000\" fill-rule=\"evenodd\" fill-opacity=\"1\" /><path clip-path=\"url(#clip730)\" d=\"M1247.1 1454.1 Q1243.48 1454.1 1241.66 1457.66 Q1239.85 1461.2 1239.85 1468.33 Q1239.85 1475.44 1241.66 1479.01 Q1243.48 1482.55 1247.1 1482.55 Q1250.73 1482.55 1252.53 1479.01 Q1254.36 1475.44 1254.36 1468.33 Q1254.36 1461.2 1252.53 1457.66 Q1250.73 1454.1 1247.1 1454.1 M1247.1 1450.39 Q1252.91 1450.39 1255.96 1455 Q1259.04 1459.58 1259.04 1468.33 Q1259.04 1477.06 1255.96 1481.67 Q1252.91 1486.25 1247.1 1486.25 Q1241.28 1486.25 1238.21 1481.67 Q1235.15 1477.06 1235.15 1468.33 Q1235.15 1459.58 1238.21 1455 Q1241.28 1450.39 1247.1 1450.39 Z\" fill=\"#000000\" fill-rule=\"evenodd\" fill-opacity=\"1\" /><path clip-path=\"url(#clip730)\" d=\"M1737.9 1481.64 L1745.54 1481.64 L1745.54 1455.28 L1737.23 1456.95 L1737.23 1452.69 L1745.49 1451.02 L1750.17 1451.02 L1750.17 1481.64 L1757.81 1481.64 L1757.81 1485.58 L1737.9 1485.58 L1737.9 1481.64 Z\" fill=\"#000000\" fill-rule=\"evenodd\" fill-opacity=\"1\" /><path clip-path=\"url(#clip730)\" d=\"M1767.3 1451.02 L1785.65 1451.02 L1785.65 1454.96 L1771.58 1454.96 L1771.58 1463.43 Q1772.6 1463.08 1773.62 1462.92 Q1774.64 1462.73 1775.66 1462.73 Q1781.44 1462.73 1784.82 1465.9 Q1788.2 1469.08 1788.2 1474.49 Q1788.2 1480.07 1784.73 1483.17 Q1781.26 1486.25 1774.94 1486.25 Q1772.76 1486.25 1770.49 1485.88 Q1768.25 1485.51 1765.84 1484.77 L1765.84 1480.07 Q1767.92 1481.2 1770.15 1481.76 Q1772.37 1482.32 1774.84 1482.32 Q1778.85 1482.32 1781.19 1480.21 Q1783.53 1478.1 1783.53 1474.49 Q1783.53 1470.88 1781.19 1468.77 Q1778.85 1466.67 1774.84 1466.67 Q1772.97 1466.67 1771.09 1467.08 Q1769.24 1467.5 1767.3 1468.38 L1767.3 1451.02 Z\" fill=\"#000000\" fill-rule=\"evenodd\" fill-opacity=\"1\" /><path clip-path=\"url(#clip730)\" d=\"M2271.15 1481.64 L2287.47 1481.64 L2287.47 1485.58 L2265.52 1485.58 L2265.52 1481.64 Q2268.19 1478.89 2272.77 1474.26 Q2277.37 1469.61 2278.56 1468.27 Q2280.8 1465.74 2281.68 1464.01 Q2282.58 1462.25 2282.58 1460.56 Q2282.58 1457.8 2280.64 1456.07 Q2278.72 1454.33 2275.62 1454.33 Q2273.42 1454.33 2270.96 1455.09 Q2268.53 1455.86 2265.75 1457.41 L2265.75 1452.69 Q2268.58 1451.55 2271.03 1450.97 Q2273.49 1450.39 2275.52 1450.39 Q2280.89 1450.39 2284.09 1453.08 Q2287.28 1455.77 2287.28 1460.26 Q2287.28 1462.39 2286.47 1464.31 Q2285.68 1466.2 2283.58 1468.8 Q2283 1469.47 2279.9 1472.69 Q2276.8 1475.88 2271.15 1481.64 Z\" fill=\"#000000\" fill-rule=\"evenodd\" fill-opacity=\"1\" /><path clip-path=\"url(#clip730)\" d=\"M2307.28 1454.1 Q2303.67 1454.1 2301.84 1457.66 Q2300.04 1461.2 2300.04 1468.33 Q2300.04 1475.44 2301.84 1479.01 Q2303.67 1482.55 2307.28 1482.55 Q2310.92 1482.55 2312.72 1479.01 Q2314.55 1475.44 2314.55 1468.33 Q2314.55 1461.2 2312.72 1457.66 Q2310.92 1454.1 2307.28 1454.1 M2307.28 1450.39 Q2313.09 1450.39 2316.15 1455 Q2319.23 1459.58 2319.23 1468.33 Q2319.23 1477.06 2316.15 1481.67 Q2313.09 1486.25 2307.28 1486.25 Q2301.47 1486.25 2298.39 1481.67 Q2295.34 1477.06 2295.34 1468.33 Q2295.34 1459.58 2298.39 1455 Q2301.47 1450.39 2307.28 1450.39 Z\" fill=\"#000000\" fill-rule=\"evenodd\" fill-opacity=\"1\" /><path clip-path=\"url(#clip730)\" d=\"M1129 1522.27 L1129 1532.4 L1141.06 1532.4 L1141.06 1536.95 L1129 1536.95 L1129 1556.3 Q1129 1560.66 1130.17 1561.9 Q1131.38 1563.14 1135.04 1563.14 L1141.06 1563.14 L1141.06 1568.04 L1135.04 1568.04 Q1128.26 1568.04 1125.69 1565.53 Q1123.11 1562.98 1123.11 1556.3 L1123.11 1536.95 L1118.81 1536.95 L1118.81 1532.4 L1123.11 1532.4 L1123.11 1522.27 L1129 1522.27 Z\" fill=\"#000000\" fill-rule=\"evenodd\" fill-opacity=\"1\" /><path clip-path=\"url(#clip730)\" d=\"M1148.76 1532.4 L1154.62 1532.4 L1154.62 1568.04 L1148.76 1568.04 L1148.76 1532.4 M1148.76 1518.52 L1154.62 1518.52 L1154.62 1525.93 L1148.76 1525.93 L1148.76 1518.52 Z\" fill=\"#000000\" fill-rule=\"evenodd\" fill-opacity=\"1\" /><path clip-path=\"url(#clip730)\" d=\"M1194.63 1539.24 Q1196.82 1535.29 1199.88 1533.41 Q1202.93 1531.54 1207.07 1531.54 Q1212.64 1531.54 1215.66 1535.45 Q1218.69 1539.33 1218.69 1546.53 L1218.69 1568.04 L1212.8 1568.04 L1212.8 1546.72 Q1212.8 1541.59 1210.99 1539.11 Q1209.17 1536.63 1205.45 1536.63 Q1200.9 1536.63 1198.25 1539.65 Q1195.61 1542.68 1195.61 1547.9 L1195.61 1568.04 L1189.72 1568.04 L1189.72 1546.72 Q1189.72 1541.56 1187.91 1539.11 Q1186.1 1536.63 1182.31 1536.63 Q1177.82 1536.63 1175.18 1539.68 Q1172.54 1542.71 1172.54 1547.9 L1172.54 1568.04 L1166.65 1568.04 L1166.65 1532.4 L1172.54 1532.4 L1172.54 1537.93 Q1174.54 1534.66 1177.34 1533.1 Q1180.14 1531.54 1184 1531.54 Q1187.88 1531.54 1190.58 1533.51 Q1193.32 1535.48 1194.63 1539.24 Z\" fill=\"#000000\" fill-rule=\"evenodd\" fill-opacity=\"1\" /><path clip-path=\"url(#clip730)\" d=\"M1260.86 1548.76 L1260.86 1551.62 L1233.93 1551.62 Q1234.32 1557.67 1237.56 1560.85 Q1240.84 1564 1246.67 1564 Q1250.04 1564 1253.19 1563.17 Q1256.37 1562.35 1259.49 1560.69 L1259.49 1566.23 Q1256.34 1567.57 1253.03 1568.27 Q1249.72 1568.97 1246.32 1568.97 Q1237.79 1568.97 1232.79 1564 Q1227.82 1559.04 1227.82 1550.57 Q1227.82 1541.82 1232.53 1536.69 Q1237.28 1531.54 1245.3 1531.54 Q1252.49 1531.54 1256.66 1536.18 Q1260.86 1540.8 1260.86 1548.76 M1255 1547.04 Q1254.94 1542.23 1252.3 1539.37 Q1249.69 1536.5 1245.36 1536.5 Q1240.46 1536.5 1237.5 1539.27 Q1234.57 1542.04 1234.13 1547.07 L1255 1547.04 Z\" fill=\"#000000\" fill-rule=\"evenodd\" fill-opacity=\"1\" /><path clip-path=\"url(#clip730)\" d=\"M1290.65 1518.52 L1304.15 1518.52 L1304.15 1523.07 L1296.51 1523.07 L1296.51 1572.09 L1304.15 1572.09 L1304.15 1576.64 L1290.65 1576.64 L1290.65 1518.52 Z\" fill=\"#000000\" fill-rule=\"evenodd\" fill-opacity=\"1\" /><path clip-path=\"url(#clip730)\" d=\"M1344.38 1539.24 Q1346.58 1535.29 1349.63 1533.41 Q1352.69 1531.54 1356.82 1531.54 Q1362.39 1531.54 1365.42 1535.45 Q1368.44 1539.33 1368.44 1546.53 L1368.44 1568.04 L1362.55 1568.04 L1362.55 1546.72 Q1362.55 1541.59 1360.74 1539.11 Q1358.92 1536.63 1355.2 1536.63 Q1350.65 1536.63 1348.01 1539.65 Q1345.37 1542.68 1345.37 1547.9 L1345.37 1568.04 L1339.48 1568.04 L1339.48 1546.72 Q1339.48 1541.56 1337.66 1539.11 Q1335.85 1536.63 1332.06 1536.63 Q1327.57 1536.63 1324.93 1539.68 Q1322.29 1542.71 1322.29 1547.9 L1322.29 1568.04 L1316.4 1568.04 L1316.4 1532.4 L1322.29 1532.4 L1322.29 1537.93 Q1324.3 1534.66 1327.1 1533.1 Q1329.9 1531.54 1333.75 1531.54 Q1337.63 1531.54 1340.34 1533.51 Q1343.07 1535.48 1344.38 1539.24 Z\" fill=\"#000000\" fill-rule=\"evenodd\" fill-opacity=\"1\" /><path clip-path=\"url(#clip730)\" d=\"M1380.12 1532.4 L1385.98 1532.4 L1385.98 1568.04 L1380.12 1568.04 L1380.12 1532.4 M1380.12 1518.52 L1385.98 1518.52 L1385.98 1525.93 L1380.12 1525.93 L1380.12 1518.52 Z\" fill=\"#000000\" fill-rule=\"evenodd\" fill-opacity=\"1\" /><path clip-path=\"url(#clip730)\" d=\"M1427.87 1546.53 L1427.87 1568.04 L1422.01 1568.04 L1422.01 1546.72 Q1422.01 1541.66 1420.04 1539.14 Q1418.06 1536.63 1414.12 1536.63 Q1409.37 1536.63 1406.64 1539.65 Q1403.9 1542.68 1403.9 1547.9 L1403.9 1568.04 L1398.01 1568.04 L1398.01 1532.4 L1403.9 1532.4 L1403.9 1537.93 Q1406 1534.72 1408.83 1533.13 Q1411.7 1531.54 1415.42 1531.54 Q1421.56 1531.54 1424.71 1535.36 Q1427.87 1539.14 1427.87 1546.53 Z\" fill=\"#000000\" fill-rule=\"evenodd\" fill-opacity=\"1\" /><path clip-path=\"url(#clip730)\" d=\"M1453.23 1518.52 L1453.23 1576.64 L1439.74 1576.64 L1439.74 1572.09 L1447.34 1572.09 L1447.34 1523.07 L1439.74 1523.07 L1439.74 1518.52 L1453.23 1518.52 Z\" fill=\"#000000\" fill-rule=\"evenodd\" fill-opacity=\"1\" /><polyline clip-path=\"url(#clip733)\" style=\"stroke:#000000; stroke-linecap:round; stroke-linejoin:round; stroke-width:8; stroke-opacity:0.1; fill:none\" points=\"219.288,1326.84 2352.76,1326.84 \"/>\n",
       "<polyline clip-path=\"url(#clip733)\" style=\"stroke:#000000; stroke-linecap:round; stroke-linejoin:round; stroke-width:8; stroke-opacity:0.1; fill:none\" points=\"219.288,1219.71 2352.76,1219.71 \"/>\n",
       "<polyline clip-path=\"url(#clip733)\" style=\"stroke:#000000; stroke-linecap:round; stroke-linejoin:round; stroke-width:8; stroke-opacity:0.1; fill:none\" points=\"219.288,1112.57 2352.76,1112.57 \"/>\n",
       "<polyline clip-path=\"url(#clip733)\" style=\"stroke:#000000; stroke-linecap:round; stroke-linejoin:round; stroke-width:8; stroke-opacity:0.1; fill:none\" points=\"219.288,1005.44 2352.76,1005.44 \"/>\n",
       "<polyline clip-path=\"url(#clip733)\" style=\"stroke:#000000; stroke-linecap:round; stroke-linejoin:round; stroke-width:8; stroke-opacity:0.1; fill:none\" points=\"219.288,898.309 2352.76,898.309 \"/>\n",
       "<polyline clip-path=\"url(#clip730)\" style=\"stroke:#000000; stroke-linecap:round; stroke-linejoin:round; stroke-width:4; stroke-opacity:1; fill:none\" points=\"219.288,1423.18 219.288,815.61 \"/>\n",
       "<polyline clip-path=\"url(#clip730)\" style=\"stroke:#000000; stroke-linecap:round; stroke-linejoin:round; stroke-width:4; stroke-opacity:1; fill:none\" points=\"219.288,1326.84 238.185,1326.84 \"/>\n",
       "<polyline clip-path=\"url(#clip730)\" style=\"stroke:#000000; stroke-linecap:round; stroke-linejoin:round; stroke-width:4; stroke-opacity:1; fill:none\" points=\"219.288,1219.71 238.185,1219.71 \"/>\n",
       "<polyline clip-path=\"url(#clip730)\" style=\"stroke:#000000; stroke-linecap:round; stroke-linejoin:round; stroke-width:4; stroke-opacity:1; fill:none\" points=\"219.288,1112.57 238.185,1112.57 \"/>\n",
       "<polyline clip-path=\"url(#clip730)\" style=\"stroke:#000000; stroke-linecap:round; stroke-linejoin:round; stroke-width:4; stroke-opacity:1; fill:none\" points=\"219.288,1005.44 238.185,1005.44 \"/>\n",
       "<polyline clip-path=\"url(#clip730)\" style=\"stroke:#000000; stroke-linecap:round; stroke-linejoin:round; stroke-width:4; stroke-opacity:1; fill:none\" points=\"219.288,898.309 238.185,898.309 \"/>\n",
       "<path clip-path=\"url(#clip730)\" d=\"M127.015 1312.64 Q123.404 1312.64 121.575 1316.2 Q119.769 1319.74 119.769 1326.87 Q119.769 1333.98 121.575 1337.54 Q123.404 1341.09 127.015 1341.09 Q130.649 1341.09 132.455 1337.54 Q134.283 1333.98 134.283 1326.87 Q134.283 1319.74 132.455 1316.2 Q130.649 1312.64 127.015 1312.64 M127.015 1308.93 Q132.825 1308.93 135.88 1313.54 Q138.959 1318.12 138.959 1326.87 Q138.959 1335.6 135.88 1340.21 Q132.825 1344.79 127.015 1344.79 Q121.205 1344.79 118.126 1340.21 Q115.07 1335.6 115.07 1326.87 Q115.07 1318.12 118.126 1313.54 Q121.205 1308.93 127.015 1308.93 Z\" fill=\"#000000\" fill-rule=\"evenodd\" fill-opacity=\"1\" /><path clip-path=\"url(#clip730)\" d=\"M147.177 1338.24 L152.061 1338.24 L152.061 1344.12 L147.177 1344.12 L147.177 1338.24 Z\" fill=\"#000000\" fill-rule=\"evenodd\" fill-opacity=\"1\" /><path clip-path=\"url(#clip730)\" d=\"M161.065 1309.56 L183.288 1309.56 L183.288 1311.55 L170.741 1344.12 L165.857 1344.12 L177.663 1313.49 L161.065 1313.49 L161.065 1309.56 Z\" fill=\"#000000\" fill-rule=\"evenodd\" fill-opacity=\"1\" /><path clip-path=\"url(#clip730)\" d=\"M126.205 1205.5 Q122.593 1205.5 120.765 1209.07 Q118.959 1212.61 118.959 1219.74 Q118.959 1226.85 120.765 1230.41 Q122.593 1233.95 126.205 1233.95 Q129.839 1233.95 131.644 1230.41 Q133.473 1226.85 133.473 1219.74 Q133.473 1212.61 131.644 1209.07 Q129.839 1205.5 126.205 1205.5 M126.205 1201.8 Q132.015 1201.8 135.07 1206.41 Q138.149 1210.99 138.149 1219.74 Q138.149 1228.47 135.07 1233.07 Q132.015 1237.66 126.205 1237.66 Q120.394 1237.66 117.316 1233.07 Q114.26 1228.47 114.26 1219.74 Q114.26 1210.99 117.316 1206.41 Q120.394 1201.8 126.205 1201.8 Z\" fill=\"#000000\" fill-rule=\"evenodd\" fill-opacity=\"1\" /><path clip-path=\"url(#clip730)\" d=\"M146.366 1231.11 L151.251 1231.11 L151.251 1236.99 L146.366 1236.99 L146.366 1231.11 Z\" fill=\"#000000\" fill-rule=\"evenodd\" fill-opacity=\"1\" /><path clip-path=\"url(#clip730)\" d=\"M171.436 1220.57 Q168.102 1220.57 166.181 1222.36 Q164.283 1224.14 164.283 1227.26 Q164.283 1230.39 166.181 1232.17 Q168.102 1233.95 171.436 1233.95 Q174.769 1233.95 176.69 1232.17 Q178.612 1230.37 178.612 1227.26 Q178.612 1224.14 176.69 1222.36 Q174.792 1220.57 171.436 1220.57 M166.76 1218.58 Q163.751 1217.84 162.061 1215.78 Q160.394 1213.72 160.394 1210.76 Q160.394 1206.62 163.334 1204.21 Q166.297 1201.8 171.436 1201.8 Q176.598 1201.8 179.538 1204.21 Q182.477 1206.62 182.477 1210.76 Q182.477 1213.72 180.788 1215.78 Q179.121 1217.84 176.135 1218.58 Q179.514 1219.37 181.389 1221.66 Q183.288 1223.95 183.288 1227.26 Q183.288 1232.29 180.209 1234.97 Q177.153 1237.66 171.436 1237.66 Q165.718 1237.66 162.64 1234.97 Q159.584 1232.29 159.584 1227.26 Q159.584 1223.95 161.482 1221.66 Q163.38 1219.37 166.76 1218.58 M165.047 1211.2 Q165.047 1213.88 166.714 1215.39 Q168.403 1216.89 171.436 1216.89 Q174.445 1216.89 176.135 1215.39 Q177.848 1213.88 177.848 1211.2 Q177.848 1208.51 176.135 1207.01 Q174.445 1205.5 171.436 1205.5 Q168.403 1205.5 166.714 1207.01 Q165.047 1208.51 165.047 1211.2 Z\" fill=\"#000000\" fill-rule=\"evenodd\" fill-opacity=\"1\" /><path clip-path=\"url(#clip730)\" d=\"M126.297 1098.37 Q122.686 1098.37 120.857 1101.94 Q119.052 1105.48 119.052 1112.61 Q119.052 1119.71 120.857 1123.28 Q122.686 1126.82 126.297 1126.82 Q129.931 1126.82 131.737 1123.28 Q133.566 1119.71 133.566 1112.61 Q133.566 1105.48 131.737 1101.94 Q129.931 1098.37 126.297 1098.37 M126.297 1094.67 Q132.107 1094.67 135.163 1099.28 Q138.242 1103.86 138.242 1112.61 Q138.242 1121.34 135.163 1125.94 Q132.107 1130.52 126.297 1130.52 Q120.487 1130.52 117.408 1125.94 Q114.353 1121.34 114.353 1112.61 Q114.353 1103.86 117.408 1099.28 Q120.487 1094.67 126.297 1094.67 Z\" fill=\"#000000\" fill-rule=\"evenodd\" fill-opacity=\"1\" /><path clip-path=\"url(#clip730)\" d=\"M146.459 1123.97 L151.343 1123.97 L151.343 1129.85 L146.459 1129.85 L146.459 1123.97 Z\" fill=\"#000000\" fill-rule=\"evenodd\" fill-opacity=\"1\" /><path clip-path=\"url(#clip730)\" d=\"M161.667 1129.14 L161.667 1124.88 Q163.427 1125.71 165.232 1126.15 Q167.038 1126.59 168.774 1126.59 Q173.403 1126.59 175.834 1123.49 Q178.288 1120.36 178.635 1114.02 Q177.292 1116.01 175.232 1117.08 Q173.172 1118.14 170.672 1118.14 Q165.487 1118.14 162.454 1115.02 Q159.445 1111.87 159.445 1106.43 Q159.445 1101.1 162.593 1097.89 Q165.741 1094.67 170.973 1094.67 Q176.968 1094.67 180.116 1099.28 Q183.288 1103.86 183.288 1112.61 Q183.288 1120.78 179.399 1125.66 Q175.533 1130.52 168.982 1130.52 Q167.223 1130.52 165.417 1130.18 Q163.612 1129.83 161.667 1129.14 M170.973 1114.48 Q174.121 1114.48 175.95 1112.33 Q177.801 1110.18 177.801 1106.43 Q177.801 1102.7 175.95 1100.55 Q174.121 1098.37 170.973 1098.37 Q167.825 1098.37 165.973 1100.55 Q164.144 1102.7 164.144 1106.43 Q164.144 1110.18 165.973 1112.33 Q167.825 1114.48 170.973 1114.48 Z\" fill=\"#000000\" fill-rule=\"evenodd\" fill-opacity=\"1\" /><path clip-path=\"url(#clip730)\" d=\"M116.922 1018.79 L124.561 1018.79 L124.561 992.42 L116.251 994.087 L116.251 989.828 L124.515 988.161 L129.191 988.161 L129.191 1018.79 L136.829 1018.79 L136.829 1022.72 L116.922 1022.72 L116.922 1018.79 Z\" fill=\"#000000\" fill-rule=\"evenodd\" fill-opacity=\"1\" /><path clip-path=\"url(#clip730)\" d=\"M146.274 1016.84 L151.158 1016.84 L151.158 1022.72 L146.274 1022.72 L146.274 1016.84 Z\" fill=\"#000000\" fill-rule=\"evenodd\" fill-opacity=\"1\" /><path clip-path=\"url(#clip730)\" d=\"M171.343 991.24 Q167.732 991.24 165.903 994.805 Q164.098 998.346 164.098 1005.48 Q164.098 1012.58 165.903 1016.15 Q167.732 1019.69 171.343 1019.69 Q174.977 1019.69 176.783 1016.15 Q178.612 1012.58 178.612 1005.48 Q178.612 998.346 176.783 994.805 Q174.977 991.24 171.343 991.24 M171.343 987.536 Q177.153 987.536 180.209 992.143 Q183.288 996.726 183.288 1005.48 Q183.288 1014.2 180.209 1018.81 Q177.153 1023.39 171.343 1023.39 Q165.533 1023.39 162.454 1018.81 Q159.399 1014.2 159.399 1005.48 Q159.399 996.726 162.454 992.143 Q165.533 987.536 171.343 987.536 Z\" fill=\"#000000\" fill-rule=\"evenodd\" fill-opacity=\"1\" /><path clip-path=\"url(#clip730)\" d=\"M118.149 911.654 L125.788 911.654 L125.788 885.288 L117.478 886.955 L117.478 882.696 L125.742 881.029 L130.417 881.029 L130.417 911.654 L138.056 911.654 L138.056 915.589 L118.149 915.589 L118.149 911.654 Z\" fill=\"#000000\" fill-rule=\"evenodd\" fill-opacity=\"1\" /><path clip-path=\"url(#clip730)\" d=\"M147.501 909.709 L152.385 909.709 L152.385 915.589 L147.501 915.589 L147.501 909.709 Z\" fill=\"#000000\" fill-rule=\"evenodd\" fill-opacity=\"1\" /><path clip-path=\"url(#clip730)\" d=\"M163.38 911.654 L171.019 911.654 L171.019 885.288 L162.709 886.955 L162.709 882.696 L170.973 881.029 L175.649 881.029 L175.649 911.654 L183.288 911.654 L183.288 915.589 L163.38 915.589 L163.38 911.654 Z\" fill=\"#000000\" fill-rule=\"evenodd\" fill-opacity=\"1\" /><path clip-path=\"url(#clip730)\" d=\"M30.9797 1155.69 Q34.5868 1155.69 37.904 1158.36 Q41.2212 1161 43.2501 1165.31 Q45.2469 1169.6 45.2469 1174.2 L45.2469 1185.41 L61.7363 1189.5 Q61.8329 1189.53 62.2516 1189.63 Q62.6381 1189.73 62.8635 1189.73 Q63.6687 1189.73 63.8619 1188.73 Q64.0551 1187.7 64.0551 1185.41 Q64.0551 1183.93 64.3128 1183.7 Q64.4738 1183.58 64.7637 1183.58 Q65.2145 1183.58 65.5366 1183.7 Q65.8264 1183.83 65.9231 1184.09 Q66.0197 1184.32 66.0519 1184.48 Q66.0841 1184.64 66.0841 1184.9 Q66.0841 1185.57 66.0197 1187.02 Q65.9553 1188.44 65.9553 1189.18 L65.8909 1193.4 L66.0841 1201.77 Q66.0841 1202.77 65.2789 1202.77 Q64.667 1202.77 64.4094 1202.51 Q64.1195 1202.25 64.0873 1201.96 Q64.0551 1201.68 64.0551 1200.93 Q64.0551 1199.32 63.9585 1198.36 Q63.8619 1197.39 63.7331 1196.78 Q63.572 1196.14 63.1212 1195.81 Q62.6703 1195.46 62.2838 1195.3 Q61.8651 1195.14 60.9312 1194.91 L25.5047 1186.09 Q24.4419 1185.83 24.2809 1185.83 Q23.7334 1185.83 23.5402 1186.15 Q23.3147 1186.44 23.2181 1187.28 Q23.0893 1188.89 23.0893 1190.11 Q23.0893 1190.92 23.0571 1191.24 Q23.0249 1191.53 22.8638 1191.79 Q22.6706 1192.01 22.2841 1192.01 Q21.6722 1192.01 21.4146 1191.76 Q21.1247 1191.47 21.0925 1191.14 Q21.0281 1190.82 21.0281 1190.05 L21.0281 1168.66 Q21.0281 1162.51 23.9588 1159.1 Q26.8896 1155.69 30.9797 1155.69 M29.4016 1161.8 Q23.0893 1161.8 23.0893 1170.79 L23.0893 1177.1 Q23.0893 1179.2 23.4757 1179.71 Q23.83 1180.23 25.6013 1180.68 L43.54 1185.15 L43.54 1175.85 Q43.54 1169.6 40.0296 1165.7 Q38.4193 1163.93 35.0699 1162.87 Q31.7204 1161.8 29.4016 1161.8 Z\" fill=\"#000000\" fill-rule=\"evenodd\" fill-opacity=\"1\" /><path clip-path=\"url(#clip730)\" d=\"M82.5735 1147.13 L16.6159 1147.13 L16.6159 1137.18 L18.1296 1137.18 L18.1296 1142.72 L81.0598 1142.72 L81.0598 1137.18 L82.5735 1137.18 L82.5735 1147.13 Z\" fill=\"#000000\" fill-rule=\"evenodd\" fill-opacity=\"1\" /><path clip-path=\"url(#clip730)\" d=\"M40.0296 1106.62 Q40.0618 1106.62 41.2212 1106.82 L70.4963 1114.16 Q72.0422 1114.55 73.5881 1115.64 Q75.1661 1116.7 76.5188 1118.41 Q77.9036 1120.09 78.741 1122.66 Q79.6106 1125.21 79.6106 1128.14 Q79.6106 1132.81 78.6122 1134.87 Q77.646 1136.9 75.5848 1136.9 Q73.7813 1136.9 72.7507 1135.77 Q71.7523 1134.64 71.7523 1133.35 Q71.7523 1132.13 72.4609 1131.49 Q73.1694 1130.84 74.0711 1130.84 Q75.0695 1130.84 76.0679 1131.52 Q77.0985 1132.2 77.485 1133.55 Q78.1613 1131.39 78.1613 1128.27 Q78.1613 1121.66 71.1726 1118.83 Q71.076 1118.77 71.0438 1118.77 L62.316 1116.58 L62.2516 1116.67 Q62.8957 1117.22 63.6364 1118.09 Q64.345 1118.93 65.2145 1120.73 Q66.0841 1122.53 66.0841 1124.3 Q66.0841 1128.01 63.25 1130.55 Q60.3837 1133.06 55.6494 1133.06 Q52.2034 1133.06 48.7573 1131.68 Q45.2791 1130.26 42.7348 1128.07 Q40.1584 1125.85 38.5481 1123.02 Q36.9378 1120.15 36.9378 1117.38 Q36.9378 1115.45 38.0972 1113.81 Q39.2244 1112.16 41.0923 1111.26 Q39.5465 1111.1 38.9023 1110.23 Q38.2582 1109.33 38.2582 1108.56 Q38.2582 1107.69 38.7413 1107.17 Q39.1922 1106.62 40.0296 1106.62 M44.0553 1112.03 Q43.8621 1112.03 43.3468 1112.16 Q42.7993 1112.29 41.9297 1112.68 Q41.0601 1113.03 40.2872 1113.58 Q39.5143 1114.13 38.9668 1115.13 Q38.3871 1116.09 38.3871 1117.32 Q38.3871 1119.31 40.0618 1121.31 Q41.7043 1123.31 44.2485 1124.69 Q46.6962 1125.98 51.4304 1127.2 Q56.1647 1128.39 58.5801 1128.39 Q60.9634 1128.39 62.7991 1127.36 Q64.6348 1126.33 64.6348 1124.11 Q64.6348 1121.53 62.2516 1118.77 Q59.7717 1115.9 57.6462 1115.42 L45.0537 1112.23 Q44.2807 1112.03 44.0553 1112.03 Z\" fill=\"#000000\" fill-rule=\"evenodd\" fill-opacity=\"1\" /><path clip-path=\"url(#clip730)\" d=\"M81.6395 1105.76 Q81.3175 1105.76 80.6089 1105.51 L18.3872 1082.22 Q18.3228 1082.22 17.9685 1082.06 Q17.6143 1081.9 17.3888 1081.8 Q17.1312 1081.71 16.938 1081.51 Q16.7447 1081.29 16.7447 1081.03 Q16.7447 1080.39 17.5499 1080.39 Q17.6143 1080.39 18.3872 1080.58 L80.6734 1103.93 Q81.8006 1104.31 82.1226 1104.57 Q82.4447 1104.8 82.4447 1105.18 Q82.4447 1105.76 81.6395 1105.76 Z\" fill=\"#000000\" fill-rule=\"evenodd\" fill-opacity=\"1\" /><path clip-path=\"url(#clip730)\" d=\"M21.0281 1058.99 L59.1598 1068.49 Q60.6735 1068.88 62.316 1068.88 Q65.3434 1068.88 65.3434 1066.88 Q65.3434 1065.95 64.7314 1065.18 Q64.0873 1064.4 62.8313 1063.82 Q61.5431 1063.21 60.3192 1062.83 Q59.0954 1062.41 57.1953 1061.89 Q56.4545 1061.73 56.2291 1061.57 Q56.0037 1061.41 56.0037 1060.96 Q56.0037 1060.15 56.6478 1060.15 Q60.6091 1060.96 63.1212 1062.15 Q66.8248 1063.89 66.8248 1067.11 Q66.8248 1069.53 65.1501 1071.33 Q63.4432 1073.1 60.7379 1073.1 Q59.7073 1073.1 58.4835 1072.78 L25.5047 1064.47 L24.2165 1064.24 Q23.8622 1064.24 23.669 1064.37 Q23.4757 1064.5 23.2825 1065.27 Q23.0893 1066.01 23.0893 1067.5 Q23.0893 1068.11 23.0571 1068.4 Q23.0249 1068.66 22.8638 1068.91 Q22.7028 1069.14 22.3485 1069.14 Q21.7688 1069.14 21.4468 1068.91 Q21.1247 1068.66 21.0603 1068.46 Q20.9959 1068.27 20.9637 1067.88 Q20.9315 1067.34 20.7704 1065.5 Q20.5772 1063.66 20.4484 1062.09 Q20.3196 1060.51 20.3196 1059.83 Q20.3196 1059.44 20.5128 1059.25 Q20.6738 1059.03 20.8671 1058.99 L21.0281 1058.99 Z\" fill=\"#000000\" fill-rule=\"evenodd\" fill-opacity=\"1\" /><path clip-path=\"url(#clip730)\" d=\"M81.0598 1054.17 L81.0598 1048.63 L18.1296 1048.63 L18.1296 1054.17 L16.6159 1054.17 L16.6159 1044.22 L82.5735 1044.22 L82.5735 1054.17 L81.0598 1054.17 Z\" fill=\"#000000\" fill-rule=\"evenodd\" fill-opacity=\"1\" /><polyline clip-path=\"url(#clip733)\" style=\"stroke:#000000; stroke-linecap:round; stroke-linejoin:round; stroke-width:12; stroke-opacity:1; fill:none\" stroke-dasharray=\"48, 24, 6, 24\" points=\"279.669,1388.98 385.601,1364.11 491.533,1296.77 597.464,1221.04 703.396,1152.71 809.328,1096.23 915.26,1051.26 1021.19,1016.75 1127.12,992.458 1233.06,976.386 1338.99,965.199 1444.92,956.93 1550.85,955.311 1656.78,959.649 1762.72,963.305 1868.65,962.257 1974.58,962.132 2080.51,964.687 2186.44,965.216 2292.37,961.375 \"/>\n",
       "<path clip-path=\"url(#clip733)\" d=\"M267.669 1376.98 L267.669 1400.98 L291.669 1400.98 L291.669 1376.98 L267.669 1376.98 Z\" fill=\"#000000\" fill-rule=\"evenodd\" fill-opacity=\"1\" stroke=\"none\"/>\n",
       "<path clip-path=\"url(#clip733)\" d=\"M373.601 1352.11 L373.601 1376.11 L397.601 1376.11 L397.601 1352.11 L373.601 1352.11 Z\" fill=\"#000000\" fill-rule=\"evenodd\" fill-opacity=\"1\" stroke=\"none\"/>\n",
       "<path clip-path=\"url(#clip733)\" d=\"M479.533 1284.77 L479.533 1308.77 L503.533 1308.77 L503.533 1284.77 L479.533 1284.77 Z\" fill=\"#000000\" fill-rule=\"evenodd\" fill-opacity=\"1\" stroke=\"none\"/>\n",
       "<path clip-path=\"url(#clip733)\" d=\"M585.464 1209.04 L585.464 1233.04 L609.464 1233.04 L609.464 1209.04 L585.464 1209.04 Z\" fill=\"#000000\" fill-rule=\"evenodd\" fill-opacity=\"1\" stroke=\"none\"/>\n",
       "<path clip-path=\"url(#clip733)\" d=\"M691.396 1140.71 L691.396 1164.71 L715.396 1164.71 L715.396 1140.71 L691.396 1140.71 Z\" fill=\"#000000\" fill-rule=\"evenodd\" fill-opacity=\"1\" stroke=\"none\"/>\n",
       "<path clip-path=\"url(#clip733)\" d=\"M797.328 1084.23 L797.328 1108.23 L821.328 1108.23 L821.328 1084.23 L797.328 1084.23 Z\" fill=\"#000000\" fill-rule=\"evenodd\" fill-opacity=\"1\" stroke=\"none\"/>\n",
       "<path clip-path=\"url(#clip733)\" d=\"M903.26 1039.26 L903.26 1063.26 L927.26 1063.26 L927.26 1039.26 L903.26 1039.26 Z\" fill=\"#000000\" fill-rule=\"evenodd\" fill-opacity=\"1\" stroke=\"none\"/>\n",
       "<path clip-path=\"url(#clip733)\" d=\"M1009.19 1004.75 L1009.19 1028.75 L1033.19 1028.75 L1033.19 1004.75 L1009.19 1004.75 Z\" fill=\"#000000\" fill-rule=\"evenodd\" fill-opacity=\"1\" stroke=\"none\"/>\n",
       "<path clip-path=\"url(#clip733)\" d=\"M1115.12 980.458 L1115.12 1004.46 L1139.12 1004.46 L1139.12 980.458 L1115.12 980.458 Z\" fill=\"#000000\" fill-rule=\"evenodd\" fill-opacity=\"1\" stroke=\"none\"/>\n",
       "<path clip-path=\"url(#clip733)\" d=\"M1221.06 964.386 L1221.06 988.386 L1245.06 988.386 L1245.06 964.386 L1221.06 964.386 Z\" fill=\"#000000\" fill-rule=\"evenodd\" fill-opacity=\"1\" stroke=\"none\"/>\n",
       "<path clip-path=\"url(#clip733)\" d=\"M1326.99 953.199 L1326.99 977.199 L1350.99 977.199 L1350.99 953.199 L1326.99 953.199 Z\" fill=\"#000000\" fill-rule=\"evenodd\" fill-opacity=\"1\" stroke=\"none\"/>\n",
       "<path clip-path=\"url(#clip733)\" d=\"M1432.92 944.93 L1432.92 968.93 L1456.92 968.93 L1456.92 944.93 L1432.92 944.93 Z\" fill=\"#000000\" fill-rule=\"evenodd\" fill-opacity=\"1\" stroke=\"none\"/>\n",
       "<path clip-path=\"url(#clip733)\" d=\"M1538.85 943.311 L1538.85 967.311 L1562.85 967.311 L1562.85 943.311 L1538.85 943.311 Z\" fill=\"#000000\" fill-rule=\"evenodd\" fill-opacity=\"1\" stroke=\"none\"/>\n",
       "<path clip-path=\"url(#clip733)\" d=\"M1644.78 947.649 L1644.78 971.649 L1668.78 971.649 L1668.78 947.649 L1644.78 947.649 Z\" fill=\"#000000\" fill-rule=\"evenodd\" fill-opacity=\"1\" stroke=\"none\"/>\n",
       "<path clip-path=\"url(#clip733)\" d=\"M1750.72 951.305 L1750.72 975.305 L1774.72 975.305 L1774.72 951.305 L1750.72 951.305 Z\" fill=\"#000000\" fill-rule=\"evenodd\" fill-opacity=\"1\" stroke=\"none\"/>\n",
       "<path clip-path=\"url(#clip733)\" d=\"M1856.65 950.257 L1856.65 974.257 L1880.65 974.257 L1880.65 950.257 L1856.65 950.257 Z\" fill=\"#000000\" fill-rule=\"evenodd\" fill-opacity=\"1\" stroke=\"none\"/>\n",
       "<path clip-path=\"url(#clip733)\" d=\"M1962.58 950.132 L1962.58 974.132 L1986.58 974.132 L1986.58 950.132 L1962.58 950.132 Z\" fill=\"#000000\" fill-rule=\"evenodd\" fill-opacity=\"1\" stroke=\"none\"/>\n",
       "<path clip-path=\"url(#clip733)\" d=\"M2068.51 952.687 L2068.51 976.687 L2092.51 976.687 L2092.51 952.687 L2068.51 952.687 Z\" fill=\"#000000\" fill-rule=\"evenodd\" fill-opacity=\"1\" stroke=\"none\"/>\n",
       "<path clip-path=\"url(#clip733)\" d=\"M2174.44 953.216 L2174.44 977.216 L2198.44 977.216 L2198.44 953.216 L2174.44 953.216 Z\" fill=\"#000000\" fill-rule=\"evenodd\" fill-opacity=\"1\" stroke=\"none\"/>\n",
       "<path clip-path=\"url(#clip733)\" d=\"M2280.37 949.375 L2280.37 973.375 L2304.37 973.375 L2304.37 949.375 L2280.37 949.375 Z\" fill=\"#000000\" fill-rule=\"evenodd\" fill-opacity=\"1\" stroke=\"none\"/>\n",
       "<polyline clip-path=\"url(#clip733)\" style=\"stroke:#000000; stroke-linecap:round; stroke-linejoin:round; stroke-width:8; stroke-opacity:0.1; fill:none\" points=\"279.669,1388.98 385.601,1313.29 491.533,1214.07 597.464,1117.66 703.396,1037.09 809.328,974.543 915.26,927.764 1021.19,893.376 1127.12,870.229 1233.06,854.564 1338.99,842.513 1444.92,832.805 1550.85,833.036 1656.78,842.187 1762.72,849.949 1868.65,851.614 1974.58,854.743 2080.51,859.923 2186.44,860.895 2292.37,856.809 \"/>\n",
       "<polyline clip-path=\"url(#clip733)\" style=\"stroke:#000000; stroke-linecap:round; stroke-linejoin:round; stroke-width:8; stroke-opacity:0.1; fill:none\" points=\"279.669,1388.98 385.601,1371.98 491.533,1309.31 597.464,1236.45 703.396,1169.63 809.328,1113.69 915.26,1068.57 1021.19,1033.42 1127.12,1009.66 1233.06,994.294 1338.99,981.871 1444.92,972.182 1550.85,969.496 1656.78,972.331 1762.72,974.275 1868.65,971.589 1974.58,970.274 2080.51,972.424 2186.44,973.085 2292.37,969.276 \"/>\n",
       "<polyline clip-path=\"url(#clip733)\" style=\"stroke:#000000; stroke-linecap:round; stroke-linejoin:round; stroke-width:8; stroke-opacity:0.1; fill:none\" points=\"279.669,1388.98 385.601,1339.98 491.533,1256.72 597.464,1170.12 703.396,1094.76 809.328,1034.05 915.26,986.811 1021.19,950.488 1127.12,924.726 1233.06,906.458 1338.99,891.713 1444.92,879.047 1550.85,876.076 1656.78,883.373 1762.72,891.422 1868.65,893.835 1974.58,896.753 2080.51,901.879 2186.44,903.626 2292.37,899.961 \"/>\n",
       "<polyline clip-path=\"url(#clip733)\" style=\"stroke:#000000; stroke-linecap:round; stroke-linejoin:round; stroke-width:8; stroke-opacity:0.1; fill:none\" points=\"279.669,1388.98 385.601,1364.12 491.533,1296.27 597.464,1219.85 703.396,1150.72 809.328,1093.38 915.26,1047.5 1021.19,1011.54 1127.12,987.137 1233.06,971.448 1338.99,958.523 1444.92,947.344 1550.85,943.296 1656.78,945.88 1762.72,948.259 1868.65,946.228 1974.58,945.83 2080.51,949.028 2186.44,950.461 2292.37,947.072 \"/>\n",
       "<polyline clip-path=\"url(#clip733)\" style=\"stroke:#000000; stroke-linecap:round; stroke-linejoin:round; stroke-width:8; stroke-opacity:0.1; fill:none\" points=\"279.669,1388.98 385.601,1391.59 491.533,1342.23 597.464,1278.69 703.396,1218.16 809.328,1166.27 915.26,1123.63 1021.19,1091.19 1127.12,1067.51 1233.06,1051.84 1338.99,1042.84 1444.92,1037.36 1550.85,1036.64 1656.78,1039.49 1762.72,1040.77 1868.65,1037.37 1974.58,1035.08 2080.51,1036.24 2186.44,1036.5 2292.37,1032.76 \"/>\n",
       "<polyline clip-path=\"url(#clip733)\" style=\"stroke:#000000; stroke-linecap:round; stroke-linejoin:round; stroke-width:8; stroke-opacity:0.1; fill:none\" points=\"279.669,1388.98 385.601,1367.14 491.533,1301.26 597.464,1226.19 703.396,1157.94 809.328,1101.12 915.26,1055.51 1021.19,1019.77 1127.12,995.286 1233.06,984.855 1338.99,987.294 1444.92,998.324 1550.85,1004.96 1656.78,1000.63 1762.72,989.655 1868.65,978.761 1974.58,973.373 2080.51,971.548 2186.44,967.962 2292.37,960.651 \"/>\n",
       "<polyline clip-path=\"url(#clip733)\" style=\"stroke:#000000; stroke-linecap:round; stroke-linejoin:round; stroke-width:8; stroke-opacity:0.1; fill:none\" points=\"279.669,1388.98 385.601,1329.19 491.533,1239.34 597.464,1148.59 703.396,1070.89 809.328,1009.19 915.26,961.872 1021.19,926.069 1127.12,900.652 1233.06,882.354 1338.99,867.842 1444.92,855.926 1550.85,854.831 1656.78,864.772 1762.72,874.871 1868.65,878.236 1974.58,880.499 2080.51,883.047 2186.44,881.567 2292.37,875.81 \"/>\n",
       "<polyline clip-path=\"url(#clip733)\" style=\"stroke:#000000; stroke-linecap:round; stroke-linejoin:round; stroke-width:8; stroke-opacity:0.1; fill:none\" points=\"279.669,1388.98 385.601,1331.62 491.533,1243.24 597.464,1153.41 703.396,1076.21 809.328,1014.71 915.26,967.376 1021.19,931.426 1127.12,905.818 1233.06,887.345 1338.99,872.634 1444.92,860.473 1550.85,858.946 1656.78,868.356 1762.72,878.123 1868.65,881.417 1974.58,884.274 2080.51,888.24 2186.44,888.328 2292.37,883.521 \"/>\n",
       "<polyline clip-path=\"url(#clip733)\" style=\"stroke:#000000; stroke-linecap:round; stroke-linejoin:round; stroke-width:8; stroke-opacity:0.1; fill:none\" points=\"279.669,1388.98 385.601,1380.49 491.533,1323.54 597.464,1254.64 703.396,1190.47 809.328,1136.18 915.26,1092.04 1021.19,1058.04 1127.12,1033.37 1233.06,1017.34 1338.99,1007.69 1444.92,1000.84 1550.85,999.038 1656.78,1001.63 1762.72,1003.01 1868.65,999.795 1974.58,997.98 2080.51,999.816 2186.44,1000.53 2292.37,996.961 \"/>\n",
       "<polyline clip-path=\"url(#clip733)\" style=\"stroke:#000000; stroke-linecap:round; stroke-linejoin:round; stroke-width:8; stroke-opacity:0.1; fill:none\" points=\"279.669,1388.98 385.601,1331.44 491.533,1242.94 597.464,1153.04 703.396,1075.8 809.328,1014.28 915.26,966.953 1021.19,931.014 1127.12,905.671 1233.06,887.679 1338.99,873.347 1444.92,861.359 1550.85,859.768 1656.78,868.847 1762.72,878.105 1868.65,880.913 1974.58,883.586 2080.51,887.71 2186.44,888.067 2292.37,883.46 \"/>\n",
       "<polyline clip-path=\"url(#clip733)\" style=\"stroke:#000000; stroke-linecap:round; stroke-linejoin:round; stroke-width:8; stroke-opacity:0.1; fill:none\" points=\"279.669,1388.98 385.601,1346.05 491.533,1266.58 597.464,1182.43 703.396,1108.51 809.328,1048.51 915.26,1001.46 1021.19,965.001 1127.12,939.59 1233.06,922.228 1338.99,908.069 1444.92,895.355 1550.85,891.466 1656.78,897.179 1762.72,903.726 1868.65,905.14 1974.58,907.469 2080.51,912.479 2186.44,914.517 2292.37,911.146 \"/>\n",
       "<polyline clip-path=\"url(#clip733)\" style=\"stroke:#000000; stroke-linecap:round; stroke-linejoin:round; stroke-width:8; stroke-opacity:0.1; fill:none\" points=\"279.669,1388.98 385.601,1354.31 491.533,1280.1 597.464,1199.41 703.396,1127.59 809.328,1068.71 915.26,1022.09 1021.19,985.603 1127.12,960.685 1233.06,944.446 1338.99,931.028 1444.92,918.299 1550.85,913.261 1656.78,916.878 1762.72,921.36 1868.65,921.351 1974.58,923.138 2080.51,928.69 2186.44,931.913 2292.37,929.465 \"/>\n",
       "<polyline clip-path=\"url(#clip733)\" style=\"stroke:#000000; stroke-linecap:round; stroke-linejoin:round; stroke-width:8; stroke-opacity:0.1; fill:none\" points=\"279.669,1388.98 385.601,1370.48 491.533,1306.82 597.464,1233.26 703.396,1166 809.328,1109.78 915.26,1064.5 1021.19,1029.16 1127.12,1005.34 1233.06,990.079 1338.99,977.457 1444.92,967.264 1550.85,964.163 1656.78,966.825 1762.72,968.758 1868.65,966.144 1974.58,964.939 2080.51,967.19 2186.44,967.904 2292.37,964.129 \"/>\n",
       "<polyline clip-path=\"url(#clip733)\" style=\"stroke:#000000; stroke-linecap:round; stroke-linejoin:round; stroke-width:8; stroke-opacity:0.1; fill:none\" points=\"279.669,1388.98 385.601,1405.75 491.533,1366.3 597.464,1309.87 703.396,1254.3 809.328,1205.77 915.26,1165.41 1021.19,1134.64 1127.12,1112.26 1233.06,1097.38 1338.99,1088.96 1444.92,1084.48 1550.85,1083.41 1656.78,1085.3 1762.72,1087.1 1868.65,1085.72 1974.58,1083.61 2080.51,1083.67 2186.44,1084.24 2292.37,1082.66 \"/>\n",
       "<polyline clip-path=\"url(#clip733)\" style=\"stroke:#000000; stroke-linecap:round; stroke-linejoin:round; stroke-width:8; stroke-opacity:0.1; fill:none\" points=\"279.669,1388.98 385.601,1397.76 491.533,1352.69 597.464,1292.21 703.396,1233.8 809.328,1183.33 915.26,1141.63 1021.19,1110.1 1127.12,1087.26 1233.06,1072.07 1338.99,1063.46 1444.92,1058.51 1550.85,1058.04 1656.78,1060.72 1762.72,1061.7 1868.65,1058.34 1974.58,1056.12 2080.51,1057.16 2186.44,1057.31 2292.37,1053.64 \"/>\n",
       "<polyline clip-path=\"url(#clip733)\" style=\"stroke:#000000; stroke-linecap:round; stroke-linejoin:round; stroke-width:8; stroke-opacity:0.1; fill:none\" points=\"279.669,1388.98 385.601,1336.59 491.533,1251.24 597.464,1163.31 703.396,1087.18 809.328,1026.13 915.26,978.832 1021.19,942.636 1127.12,916.746 1233.06,898.06 1338.99,883.063 1444.92,870.478 1550.85,868.072 1656.78,876.303 1762.72,885.209 1868.65,888.166 1974.58,890.817 2080.51,894.669 2186.44,894.851 2292.37,890.199 \"/>\n",
       "<polyline clip-path=\"url(#clip733)\" style=\"stroke:#000000; stroke-linecap:round; stroke-linejoin:round; stroke-width:8; stroke-opacity:0.1; fill:none\" points=\"279.669,1388.98 385.601,1397.16 491.533,1351.68 597.464,1290.9 703.396,1232.29 809.328,1181.68 915.26,1139.88 1021.19,1108.26 1127.12,1085.27 1233.06,1069.9 1338.99,1061.1 1444.92,1056.11 1550.85,1055.77 1656.78,1058.64 1762.72,1059.8 1868.65,1056.43 1974.58,1054.12 2080.51,1055.1 2186.44,1055.22 2292.37,1051.47 \"/>\n",
       "<polyline clip-path=\"url(#clip733)\" style=\"stroke:#000000; stroke-linecap:round; stroke-linejoin:round; stroke-width:8; stroke-opacity:0.1; fill:none\" points=\"279.669,1388.98 385.601,1362.75 491.533,1294 597.464,1216.97 703.396,1147.46 809.328,1089.88 915.26,1043.88 1021.19,1007.83 1127.12,983.324 1233.06,967.53 1338.99,954.508 1444.92,943.104 1550.85,939.074 1656.78,942.195 1762.72,945.366 1868.65,944.023 1974.58,944.04 2080.51,947.34 2186.44,948.631 2292.37,945.023 \"/>\n",
       "<polyline clip-path=\"url(#clip733)\" style=\"stroke:#000000; stroke-linecap:round; stroke-linejoin:round; stroke-width:8; stroke-opacity:0.1; fill:none\" points=\"279.669,1388.98 385.601,1384.53 491.533,1330.33 597.464,1263.36 703.396,1200.49 809.328,1147.04 915.26,1103.42 1021.19,1069.96 1127.12,1045.59 1233.06,1029.68 1338.99,1020.32 1444.92,1014.03 1550.85,1012.67 1656.78,1015.4 1762.72,1016.78 1868.65,1013.53 1974.58,1011.54 2080.51,1013.12 2186.44,1013.66 2292.37,1010 \"/>\n",
       "<polyline clip-path=\"url(#clip733)\" style=\"stroke:#000000; stroke-linecap:round; stroke-linejoin:round; stroke-width:8; stroke-opacity:0.1; fill:none\" points=\"279.669,1388.98 385.601,1405.98 491.533,1366.7 597.464,1310.39 703.396,1254.91 809.328,1206.44 915.26,1166.12 1021.19,1135.4 1127.12,1113.05 1233.06,1098.18 1338.99,1089.76 1444.92,1085.29 1550.85,1084.2 1656.78,1086.06 1762.72,1087.86 1868.65,1086.54 1974.58,1084.44 2080.51,1084.47 2186.44,1085.03 2292.37,1083.49 \"/>\n",
       "</svg>\n"
      ]
     },
     "execution_count": 22,
     "metadata": {},
     "output_type": "execute_result"
    }
   ],
   "source": [
    "mc_plot(L\"P [g/l]\",ts,PMean[:,1,:],PPlant)"
   ]
  },
  {
   "cell_type": "markdown",
   "id": "af756e09",
   "metadata": {},
   "source": [
    "- Biomass Setpoint"
   ]
  },
  {
   "cell_type": "code",
   "execution_count": 23,
   "id": "2f0ed6c7",
   "metadata": {},
   "outputs": [
    {
     "data": {
      "image/svg+xml": [
       "<?xml version=\"1.0\" encoding=\"utf-8\"?>\n",
       "<svg xmlns=\"http://www.w3.org/2000/svg\" xmlns:xlink=\"http://www.w3.org/1999/xlink\" width=\"600\" height=\"400\" viewBox=\"0 0 2400 1600\">\n",
       "<defs>\n",
       "  <clipPath id=\"clip770\">\n",
       "    <rect x=\"0\" y=\"0\" width=\"2400\" height=\"1600\"/>\n",
       "  </clipPath>\n",
       "</defs>\n",
       "<path clip-path=\"url(#clip770)\" d=\"M0 1600 L2400 1600 L2400 0 L0 0  Z\" fill=\"#ffffff\" fill-rule=\"evenodd\" fill-opacity=\"1\"/>\n",
       "<defs>\n",
       "  <clipPath id=\"clip771\">\n",
       "    <rect x=\"480\" y=\"0\" width=\"1681\" height=\"1600\"/>\n",
       "  </clipPath>\n",
       "</defs>\n",
       "<defs>\n",
       "  <clipPath id=\"clip772\">\n",
       "    <rect x=\"219\" y=\"815\" width=\"2134\" height=\"609\"/>\n",
       "  </clipPath>\n",
       "</defs>\n",
       "<path clip-path=\"url(#clip770)\" d=\"M258.375 654.814 L2352.76 654.814 L2352.76 47.2441 L258.375 47.2441  Z\" fill=\"#ffffff\" fill-rule=\"evenodd\" fill-opacity=\"1\"/>\n",
       "<defs>\n",
       "  <clipPath id=\"clip773\">\n",
       "    <rect x=\"258\" y=\"47\" width=\"2095\" height=\"609\"/>\n",
       "  </clipPath>\n",
       "</defs>\n",
       "<polyline clip-path=\"url(#clip773)\" style=\"stroke:#000000; stroke-linecap:round; stroke-linejoin:round; stroke-width:8; stroke-opacity:0.1; fill:none\" points=\"733.615,654.814 733.615,47.2441 \"/>\n",
       "<polyline clip-path=\"url(#clip773)\" style=\"stroke:#000000; stroke-linecap:round; stroke-linejoin:round; stroke-width:8; stroke-opacity:0.1; fill:none\" points=\"1253.57,654.814 1253.57,47.2441 \"/>\n",
       "<polyline clip-path=\"url(#clip773)\" style=\"stroke:#000000; stroke-linecap:round; stroke-linejoin:round; stroke-width:8; stroke-opacity:0.1; fill:none\" points=\"1773.53,654.814 1773.53,47.2441 \"/>\n",
       "<polyline clip-path=\"url(#clip773)\" style=\"stroke:#000000; stroke-linecap:round; stroke-linejoin:round; stroke-width:8; stroke-opacity:0.1; fill:none\" points=\"2293.48,654.814 2293.48,47.2441 \"/>\n",
       "<polyline clip-path=\"url(#clip770)\" style=\"stroke:#000000; stroke-linecap:round; stroke-linejoin:round; stroke-width:4; stroke-opacity:1; fill:none\" points=\"258.375,654.814 2352.76,654.814 \"/>\n",
       "<polyline clip-path=\"url(#clip770)\" style=\"stroke:#000000; stroke-linecap:round; stroke-linejoin:round; stroke-width:4; stroke-opacity:1; fill:none\" points=\"733.615,654.814 733.615,635.916 \"/>\n",
       "<polyline clip-path=\"url(#clip770)\" style=\"stroke:#000000; stroke-linecap:round; stroke-linejoin:round; stroke-width:4; stroke-opacity:1; fill:none\" points=\"1253.57,654.814 1253.57,635.916 \"/>\n",
       "<polyline clip-path=\"url(#clip770)\" style=\"stroke:#000000; stroke-linecap:round; stroke-linejoin:round; stroke-width:4; stroke-opacity:1; fill:none\" points=\"1773.53,654.814 1773.53,635.916 \"/>\n",
       "<polyline clip-path=\"url(#clip770)\" style=\"stroke:#000000; stroke-linecap:round; stroke-linejoin:round; stroke-width:4; stroke-opacity:1; fill:none\" points=\"2293.48,654.814 2293.48,635.916 \"/>\n",
       "<path clip-path=\"url(#clip770)\" d=\"M723.892 682.654 L742.249 682.654 L742.249 686.589 L728.175 686.589 L728.175 695.061 Q729.193 694.714 730.212 694.552 Q731.23 694.367 732.249 694.367 Q738.036 694.367 741.416 697.538 Q744.795 700.709 744.795 706.126 Q744.795 711.705 741.323 714.806 Q737.851 717.885 731.531 717.885 Q729.355 717.885 727.087 717.515 Q724.842 717.144 722.434 716.404 L722.434 711.705 Q724.517 712.839 726.74 713.394 Q728.962 713.95 731.439 713.95 Q735.443 713.95 737.781 711.844 Q740.119 709.737 740.119 706.126 Q740.119 702.515 737.781 700.408 Q735.443 698.302 731.439 698.302 Q729.564 698.302 727.689 698.719 Q725.837 699.135 723.892 700.015 L723.892 682.654 Z\" fill=\"#000000\" fill-rule=\"evenodd\" fill-opacity=\"1\" /><path clip-path=\"url(#clip770)\" d=\"M1228.26 713.279 L1235.9 713.279 L1235.9 686.913 L1227.59 688.58 L1227.59 684.321 L1235.85 682.654 L1240.53 682.654 L1240.53 713.279 L1248.17 713.279 L1248.17 717.214 L1228.26 717.214 L1228.26 713.279 Z\" fill=\"#000000\" fill-rule=\"evenodd\" fill-opacity=\"1\" /><path clip-path=\"url(#clip770)\" d=\"M1267.61 685.733 Q1264 685.733 1262.17 689.297 Q1260.36 692.839 1260.36 699.969 Q1260.36 707.075 1262.17 710.64 Q1264 714.181 1267.61 714.181 Q1271.24 714.181 1273.05 710.64 Q1274.88 707.075 1274.88 699.969 Q1274.88 692.839 1273.05 689.297 Q1271.24 685.733 1267.61 685.733 M1267.61 682.029 Q1273.42 682.029 1276.48 686.635 Q1279.55 691.219 1279.55 699.969 Q1279.55 708.695 1276.48 713.302 Q1273.42 717.885 1267.61 717.885 Q1261.8 717.885 1258.72 713.302 Q1255.66 708.695 1255.66 699.969 Q1255.66 691.219 1258.72 686.635 Q1261.8 682.029 1267.61 682.029 Z\" fill=\"#000000\" fill-rule=\"evenodd\" fill-opacity=\"1\" /><path clip-path=\"url(#clip770)\" d=\"M1748.71 713.279 L1756.35 713.279 L1756.35 686.913 L1748.04 688.58 L1748.04 684.321 L1756.3 682.654 L1760.98 682.654 L1760.98 713.279 L1768.62 713.279 L1768.62 717.214 L1748.71 717.214 L1748.71 713.279 Z\" fill=\"#000000\" fill-rule=\"evenodd\" fill-opacity=\"1\" /><path clip-path=\"url(#clip770)\" d=\"M1778.11 682.654 L1796.47 682.654 L1796.47 686.589 L1782.39 686.589 L1782.39 695.061 Q1783.41 694.714 1784.43 694.552 Q1785.45 694.367 1786.47 694.367 Q1792.25 694.367 1795.63 697.538 Q1799.01 700.709 1799.01 706.126 Q1799.01 711.705 1795.54 714.806 Q1792.07 717.885 1785.75 717.885 Q1783.57 717.885 1781.3 717.515 Q1779.06 717.144 1776.65 716.404 L1776.65 711.705 Q1778.73 712.839 1780.96 713.394 Q1783.18 713.95 1785.66 713.95 Q1789.66 713.95 1792 711.844 Q1794.34 709.737 1794.34 706.126 Q1794.34 702.515 1792 700.408 Q1789.66 698.302 1785.66 698.302 Q1783.78 698.302 1781.91 698.719 Q1780.05 699.135 1778.11 700.015 L1778.11 682.654 Z\" fill=\"#000000\" fill-rule=\"evenodd\" fill-opacity=\"1\" /><path clip-path=\"url(#clip770)\" d=\"M2272.25 713.279 L2288.57 713.279 L2288.57 717.214 L2266.63 717.214 L2266.63 713.279 Q2269.29 710.524 2273.87 705.894 Q2278.48 701.242 2279.66 699.899 Q2281.91 697.376 2282.79 695.64 Q2283.69 693.881 2283.69 692.191 Q2283.69 689.436 2281.74 687.7 Q2279.82 685.964 2276.72 685.964 Q2274.52 685.964 2272.07 686.728 Q2269.64 687.492 2266.86 689.043 L2266.86 684.321 Q2269.68 683.186 2272.14 682.608 Q2274.59 682.029 2276.63 682.029 Q2282 682.029 2285.19 684.714 Q2288.39 687.399 2288.39 691.89 Q2288.39 694.02 2287.58 695.941 Q2286.79 697.839 2284.68 700.432 Q2284.11 701.103 2281 704.32 Q2277.9 707.515 2272.25 713.279 Z\" fill=\"#000000\" fill-rule=\"evenodd\" fill-opacity=\"1\" /><path clip-path=\"url(#clip770)\" d=\"M2308.39 685.733 Q2304.78 685.733 2302.95 689.297 Q2301.14 692.839 2301.14 699.969 Q2301.14 707.075 2302.95 710.64 Q2304.78 714.181 2308.39 714.181 Q2312.02 714.181 2313.83 710.64 Q2315.66 707.075 2315.66 699.969 Q2315.66 692.839 2313.83 689.297 Q2312.02 685.733 2308.39 685.733 M2308.39 682.029 Q2314.2 682.029 2317.25 686.635 Q2320.33 691.219 2320.33 699.969 Q2320.33 708.695 2317.25 713.302 Q2314.2 717.885 2308.39 717.885 Q2302.58 717.885 2299.5 713.302 Q2296.44 708.695 2296.44 699.969 Q2296.44 691.219 2299.5 686.635 Q2302.58 682.029 2308.39 682.029 Z\" fill=\"#000000\" fill-rule=\"evenodd\" fill-opacity=\"1\" /><polyline clip-path=\"url(#clip773)\" style=\"stroke:#000000; stroke-linecap:round; stroke-linejoin:round; stroke-width:8; stroke-opacity:0.1; fill:none\" points=\"258.375,637.619 2352.76,637.619 \"/>\n",
       "<polyline clip-path=\"url(#clip773)\" style=\"stroke:#000000; stroke-linecap:round; stroke-linejoin:round; stroke-width:8; stroke-opacity:0.1; fill:none\" points=\"258.375,518.206 2352.76,518.206 \"/>\n",
       "<polyline clip-path=\"url(#clip773)\" style=\"stroke:#000000; stroke-linecap:round; stroke-linejoin:round; stroke-width:8; stroke-opacity:0.1; fill:none\" points=\"258.375,398.794 2352.76,398.794 \"/>\n",
       "<polyline clip-path=\"url(#clip773)\" style=\"stroke:#000000; stroke-linecap:round; stroke-linejoin:round; stroke-width:8; stroke-opacity:0.1; fill:none\" points=\"258.375,279.382 2352.76,279.382 \"/>\n",
       "<polyline clip-path=\"url(#clip773)\" style=\"stroke:#000000; stroke-linecap:round; stroke-linejoin:round; stroke-width:8; stroke-opacity:0.1; fill:none\" points=\"258.375,159.969 2352.76,159.969 \"/>\n",
       "<polyline clip-path=\"url(#clip770)\" style=\"stroke:#000000; stroke-linecap:round; stroke-linejoin:round; stroke-width:4; stroke-opacity:1; fill:none\" points=\"258.375,654.814 258.375,47.2441 \"/>\n",
       "<polyline clip-path=\"url(#clip770)\" style=\"stroke:#000000; stroke-linecap:round; stroke-linejoin:round; stroke-width:4; stroke-opacity:1; fill:none\" points=\"258.375,637.619 277.273,637.619 \"/>\n",
       "<polyline clip-path=\"url(#clip770)\" style=\"stroke:#000000; stroke-linecap:round; stroke-linejoin:round; stroke-width:4; stroke-opacity:1; fill:none\" points=\"258.375,518.206 277.273,518.206 \"/>\n",
       "<polyline clip-path=\"url(#clip770)\" style=\"stroke:#000000; stroke-linecap:round; stroke-linejoin:round; stroke-width:4; stroke-opacity:1; fill:none\" points=\"258.375,398.794 277.273,398.794 \"/>\n",
       "<polyline clip-path=\"url(#clip770)\" style=\"stroke:#000000; stroke-linecap:round; stroke-linejoin:round; stroke-width:4; stroke-opacity:1; fill:none\" points=\"258.375,279.382 277.273,279.382 \"/>\n",
       "<polyline clip-path=\"url(#clip770)\" style=\"stroke:#000000; stroke-linecap:round; stroke-linejoin:round; stroke-width:4; stroke-opacity:1; fill:none\" points=\"258.375,159.969 277.273,159.969 \"/>\n",
       "<path clip-path=\"url(#clip770)\" d=\"M135.038 623.417 Q131.427 623.417 129.598 626.982 Q127.793 630.524 127.793 637.653 Q127.793 644.76 129.598 648.324 Q131.427 651.866 135.038 651.866 Q138.672 651.866 140.478 648.324 Q142.306 644.76 142.306 637.653 Q142.306 630.524 140.478 626.982 Q138.672 623.417 135.038 623.417 M135.038 619.714 Q140.848 619.714 143.904 624.32 Q146.982 628.903 146.982 637.653 Q146.982 646.38 143.904 650.987 Q140.848 655.57 135.038 655.57 Q129.228 655.57 126.149 650.987 Q123.093 646.38 123.093 637.653 Q123.093 628.903 126.149 624.32 Q129.228 619.714 135.038 619.714 Z\" fill=\"#000000\" fill-rule=\"evenodd\" fill-opacity=\"1\" /><path clip-path=\"url(#clip770)\" d=\"M155.2 649.019 L160.084 649.019 L160.084 654.899 L155.2 654.899 L155.2 649.019 Z\" fill=\"#000000\" fill-rule=\"evenodd\" fill-opacity=\"1\" /><path clip-path=\"url(#clip770)\" d=\"M180.269 623.417 Q176.658 623.417 174.829 626.982 Q173.024 630.524 173.024 637.653 Q173.024 644.76 174.829 648.324 Q176.658 651.866 180.269 651.866 Q183.903 651.866 185.709 648.324 Q187.538 644.76 187.538 637.653 Q187.538 630.524 185.709 626.982 Q183.903 623.417 180.269 623.417 M180.269 619.714 Q186.079 619.714 189.135 624.32 Q192.213 628.903 192.213 637.653 Q192.213 646.38 189.135 650.987 Q186.079 655.57 180.269 655.57 Q174.459 655.57 171.38 650.987 Q168.325 646.38 168.325 637.653 Q168.325 628.903 171.38 624.32 Q174.459 619.714 180.269 619.714 Z\" fill=\"#000000\" fill-rule=\"evenodd\" fill-opacity=\"1\" /><path clip-path=\"url(#clip770)\" d=\"M210.431 623.417 Q206.82 623.417 204.991 626.982 Q203.186 630.524 203.186 637.653 Q203.186 644.76 204.991 648.324 Q206.82 651.866 210.431 651.866 Q214.065 651.866 215.871 648.324 Q217.699 644.76 217.699 637.653 Q217.699 630.524 215.871 626.982 Q214.065 623.417 210.431 623.417 M210.431 619.714 Q216.241 619.714 219.297 624.32 Q222.375 628.903 222.375 637.653 Q222.375 646.38 219.297 650.987 Q216.241 655.57 210.431 655.57 Q204.621 655.57 201.542 650.987 Q198.487 646.38 198.487 637.653 Q198.487 628.903 201.542 624.32 Q204.621 619.714 210.431 619.714 Z\" fill=\"#000000\" fill-rule=\"evenodd\" fill-opacity=\"1\" /><path clip-path=\"url(#clip770)\" d=\"M136.033 504.005 Q132.422 504.005 130.593 507.57 Q128.788 511.111 128.788 518.241 Q128.788 525.347 130.593 528.912 Q132.422 532.454 136.033 532.454 Q139.667 532.454 141.473 528.912 Q143.302 525.347 143.302 518.241 Q143.302 511.111 141.473 507.57 Q139.667 504.005 136.033 504.005 M136.033 500.301 Q141.843 500.301 144.899 504.908 Q147.978 509.491 147.978 518.241 Q147.978 526.968 144.899 531.574 Q141.843 536.158 136.033 536.158 Q130.223 536.158 127.144 531.574 Q124.089 526.968 124.089 518.241 Q124.089 509.491 127.144 504.908 Q130.223 500.301 136.033 500.301 Z\" fill=\"#000000\" fill-rule=\"evenodd\" fill-opacity=\"1\" /><path clip-path=\"url(#clip770)\" d=\"M156.195 529.607 L161.079 529.607 L161.079 535.486 L156.195 535.486 L156.195 529.607 Z\" fill=\"#000000\" fill-rule=\"evenodd\" fill-opacity=\"1\" /><path clip-path=\"url(#clip770)\" d=\"M175.292 531.551 L191.612 531.551 L191.612 535.486 L169.667 535.486 L169.667 531.551 Q172.329 528.796 176.913 524.167 Q181.519 519.514 182.7 518.172 Q184.945 515.648 185.825 513.912 Q186.727 512.153 186.727 510.463 Q186.727 507.709 184.783 505.972 Q182.862 504.236 179.76 504.236 Q177.561 504.236 175.107 505 Q172.677 505.764 169.899 507.315 L169.899 502.593 Q172.723 501.459 175.177 500.88 Q177.63 500.301 179.667 500.301 Q185.038 500.301 188.232 502.986 Q191.426 505.672 191.426 510.162 Q191.426 512.292 190.616 514.213 Q189.829 516.111 187.723 518.704 Q187.144 519.375 184.042 522.593 Q180.94 525.787 175.292 531.551 Z\" fill=\"#000000\" fill-rule=\"evenodd\" fill-opacity=\"1\" /><path clip-path=\"url(#clip770)\" d=\"M201.473 500.926 L219.829 500.926 L219.829 504.861 L205.755 504.861 L205.755 513.334 Q206.774 512.986 207.792 512.824 Q208.811 512.639 209.829 512.639 Q215.616 512.639 218.996 515.81 Q222.375 518.982 222.375 524.398 Q222.375 529.977 218.903 533.079 Q215.431 536.158 209.112 536.158 Q206.936 536.158 204.667 535.787 Q202.422 535.417 200.014 534.676 L200.014 529.977 Q202.098 531.111 204.32 531.667 Q206.542 532.222 209.019 532.222 Q213.024 532.222 215.362 530.116 Q217.699 528.009 217.699 524.398 Q217.699 520.787 215.362 518.681 Q213.024 516.574 209.019 516.574 Q207.144 516.574 205.269 516.991 Q203.417 517.408 201.473 518.287 L201.473 500.926 Z\" fill=\"#000000\" fill-rule=\"evenodd\" fill-opacity=\"1\" /><path clip-path=\"url(#clip770)\" d=\"M135.038 384.593 Q131.427 384.593 129.598 388.157 Q127.793 391.699 127.793 398.829 Q127.793 405.935 129.598 409.5 Q131.427 413.042 135.038 413.042 Q138.672 413.042 140.478 409.5 Q142.306 405.935 142.306 398.829 Q142.306 391.699 140.478 388.157 Q138.672 384.593 135.038 384.593 M135.038 380.889 Q140.848 380.889 143.904 385.495 Q146.982 390.079 146.982 398.829 Q146.982 407.555 143.904 412.162 Q140.848 416.745 135.038 416.745 Q129.228 416.745 126.149 412.162 Q123.093 407.555 123.093 398.829 Q123.093 390.079 126.149 385.495 Q129.228 380.889 135.038 380.889 Z\" fill=\"#000000\" fill-rule=\"evenodd\" fill-opacity=\"1\" /><path clip-path=\"url(#clip770)\" d=\"M155.2 410.194 L160.084 410.194 L160.084 416.074 L155.2 416.074 L155.2 410.194 Z\" fill=\"#000000\" fill-rule=\"evenodd\" fill-opacity=\"1\" /><path clip-path=\"url(#clip770)\" d=\"M170.315 381.514 L188.672 381.514 L188.672 385.449 L174.598 385.449 L174.598 393.921 Q175.616 393.574 176.635 393.412 Q177.653 393.227 178.672 393.227 Q184.459 393.227 187.839 396.398 Q191.218 399.569 191.218 404.986 Q191.218 410.565 187.746 413.667 Q184.274 416.745 177.954 416.745 Q175.778 416.745 173.51 416.375 Q171.265 416.004 168.857 415.264 L168.857 410.565 Q170.94 411.699 173.163 412.254 Q175.385 412.81 177.862 412.81 Q181.866 412.81 184.204 410.704 Q186.542 408.597 186.542 404.986 Q186.542 401.375 184.204 399.268 Q181.866 397.162 177.862 397.162 Q175.987 397.162 174.112 397.579 Q172.26 397.995 170.315 398.875 L170.315 381.514 Z\" fill=\"#000000\" fill-rule=\"evenodd\" fill-opacity=\"1\" /><path clip-path=\"url(#clip770)\" d=\"M210.431 384.593 Q206.82 384.593 204.991 388.157 Q203.186 391.699 203.186 398.829 Q203.186 405.935 204.991 409.5 Q206.82 413.042 210.431 413.042 Q214.065 413.042 215.871 409.5 Q217.699 405.935 217.699 398.829 Q217.699 391.699 215.871 388.157 Q214.065 384.593 210.431 384.593 M210.431 380.889 Q216.241 380.889 219.297 385.495 Q222.375 390.079 222.375 398.829 Q222.375 407.555 219.297 412.162 Q216.241 416.745 210.431 416.745 Q204.621 416.745 201.542 412.162 Q198.487 407.555 198.487 398.829 Q198.487 390.079 201.542 385.495 Q204.621 380.889 210.431 380.889 Z\" fill=\"#000000\" fill-rule=\"evenodd\" fill-opacity=\"1\" /><path clip-path=\"url(#clip770)\" d=\"M136.033 265.18 Q132.422 265.18 130.593 268.745 Q128.788 272.287 128.788 279.416 Q128.788 286.523 130.593 290.088 Q132.422 293.629 136.033 293.629 Q139.667 293.629 141.473 290.088 Q143.302 286.523 143.302 279.416 Q143.302 272.287 141.473 268.745 Q139.667 265.18 136.033 265.18 M136.033 261.477 Q141.843 261.477 144.899 266.083 Q147.978 270.666 147.978 279.416 Q147.978 288.143 144.899 292.75 Q141.843 297.333 136.033 297.333 Q130.223 297.333 127.144 292.75 Q124.089 288.143 124.089 279.416 Q124.089 270.666 127.144 266.083 Q130.223 261.477 136.033 261.477 Z\" fill=\"#000000\" fill-rule=\"evenodd\" fill-opacity=\"1\" /><path clip-path=\"url(#clip770)\" d=\"M156.195 290.782 L161.079 290.782 L161.079 296.662 L156.195 296.662 L156.195 290.782 Z\" fill=\"#000000\" fill-rule=\"evenodd\" fill-opacity=\"1\" /><path clip-path=\"url(#clip770)\" d=\"M170.084 262.102 L192.306 262.102 L192.306 264.092 L179.76 296.662 L174.876 296.662 L186.681 266.037 L170.084 266.037 L170.084 262.102 Z\" fill=\"#000000\" fill-rule=\"evenodd\" fill-opacity=\"1\" /><path clip-path=\"url(#clip770)\" d=\"M201.473 262.102 L219.829 262.102 L219.829 266.037 L205.755 266.037 L205.755 274.509 Q206.774 274.162 207.792 274 Q208.811 273.815 209.829 273.815 Q215.616 273.815 218.996 276.986 Q222.375 280.157 222.375 285.574 Q222.375 291.152 218.903 294.254 Q215.431 297.333 209.112 297.333 Q206.936 297.333 204.667 296.963 Q202.422 296.592 200.014 295.851 L200.014 291.152 Q202.098 292.287 204.32 292.842 Q206.542 293.398 209.019 293.398 Q213.024 293.398 215.362 291.291 Q217.699 289.185 217.699 285.574 Q217.699 281.963 215.362 279.856 Q213.024 277.75 209.019 277.75 Q207.144 277.75 205.269 278.166 Q203.417 278.583 201.473 279.463 L201.473 262.102 Z\" fill=\"#000000\" fill-rule=\"evenodd\" fill-opacity=\"1\" /><path clip-path=\"url(#clip770)\" d=\"M125.848 173.314 L133.487 173.314 L133.487 146.949 L125.177 148.615 L125.177 144.356 L133.441 142.689 L138.117 142.689 L138.117 173.314 L145.755 173.314 L145.755 177.249 L125.848 177.249 L125.848 173.314 Z\" fill=\"#000000\" fill-rule=\"evenodd\" fill-opacity=\"1\" /><path clip-path=\"url(#clip770)\" d=\"M155.2 171.37 L160.084 171.37 L160.084 177.249 L155.2 177.249 L155.2 171.37 Z\" fill=\"#000000\" fill-rule=\"evenodd\" fill-opacity=\"1\" /><path clip-path=\"url(#clip770)\" d=\"M180.269 145.768 Q176.658 145.768 174.829 149.333 Q173.024 152.874 173.024 160.004 Q173.024 167.11 174.829 170.675 Q176.658 174.217 180.269 174.217 Q183.903 174.217 185.709 170.675 Q187.538 167.11 187.538 160.004 Q187.538 152.874 185.709 149.333 Q183.903 145.768 180.269 145.768 M180.269 142.064 Q186.079 142.064 189.135 146.671 Q192.213 151.254 192.213 160.004 Q192.213 168.731 189.135 173.337 Q186.079 177.921 180.269 177.921 Q174.459 177.921 171.38 173.337 Q168.325 168.731 168.325 160.004 Q168.325 151.254 171.38 146.671 Q174.459 142.064 180.269 142.064 Z\" fill=\"#000000\" fill-rule=\"evenodd\" fill-opacity=\"1\" /><path clip-path=\"url(#clip770)\" d=\"M210.431 145.768 Q206.82 145.768 204.991 149.333 Q203.186 152.874 203.186 160.004 Q203.186 167.11 204.991 170.675 Q206.82 174.217 210.431 174.217 Q214.065 174.217 215.871 170.675 Q217.699 167.11 217.699 160.004 Q217.699 152.874 215.871 149.333 Q214.065 145.768 210.431 145.768 M210.431 142.064 Q216.241 142.064 219.297 146.671 Q222.375 151.254 222.375 160.004 Q222.375 168.731 219.297 173.337 Q216.241 177.921 210.431 177.921 Q204.621 177.921 201.542 173.337 Q198.487 168.731 198.487 160.004 Q198.487 151.254 201.542 146.671 Q204.621 142.064 210.431 142.064 Z\" fill=\"#000000\" fill-rule=\"evenodd\" fill-opacity=\"1\" /><path clip-path=\"url(#clip770)\" d=\"M44.114 431.656 Q47.721 431.656 51.0382 434.33 Q54.3554 436.97 56.3844 441.286 Q58.3812 445.569 58.3812 450.175 L58.3812 461.382 L74.8706 465.473 Q74.9672 465.505 75.3859 465.601 Q75.7723 465.698 75.9978 465.698 Q76.8029 465.698 76.9962 464.7 Q77.1894 463.669 77.1894 461.382 Q77.1894 459.901 77.447 459.676 Q77.6081 459.547 77.8979 459.547 Q78.3488 459.547 78.6709 459.676 Q78.9607 459.804 79.0573 460.062 Q79.154 460.287 79.1862 460.448 Q79.2184 460.609 79.2184 460.867 Q79.2184 461.543 79.154 462.993 Q79.0895 464.41 79.0895 465.151 L79.0251 469.369 L79.2184 477.743 Q79.2184 478.741 78.4132 478.741 Q77.8013 478.741 77.5437 478.484 Q77.2538 478.226 77.2216 477.936 Q77.1894 477.646 77.1894 476.906 Q77.1894 475.295 77.0928 474.329 Q76.9962 473.363 76.8673 472.751 Q76.7063 472.107 76.2554 471.785 Q75.8045 471.431 75.4181 471.27 Q74.9994 471.109 74.0654 470.883 L38.639 462.059 Q37.5762 461.801 37.4152 461.801 Q36.8677 461.801 36.6744 462.123 Q36.449 462.413 36.3524 463.25 Q36.2235 464.861 36.2235 466.084 Q36.2235 466.89 36.1913 467.212 Q36.1591 467.502 35.9981 467.759 Q35.8049 467.985 35.4184 467.985 Q34.8065 467.985 34.5488 467.727 Q34.259 467.437 34.2268 467.115 Q34.1624 466.793 34.1624 466.02 L34.1624 444.635 Q34.1624 438.484 37.0931 435.07 Q40.0238 431.656 44.114 431.656 M42.5359 437.776 Q36.2235 437.776 36.2235 446.761 L36.2235 453.073 Q36.2235 455.167 36.61 455.682 Q36.9643 456.197 38.7356 456.648 L56.6743 461.125 L56.6743 451.817 Q56.6743 445.569 53.1638 441.672 Q51.5535 439.901 48.2041 438.838 Q44.8547 437.776 42.5359 437.776 Z\" fill=\"#000000\" fill-rule=\"evenodd\" fill-opacity=\"1\" /><path clip-path=\"url(#clip770)\" d=\"M11.18 397.685 L21.2797 400.188 Q21.8884 400.323 22.0462 400.436 Q22.204 400.548 22.204 400.864 Q22.204 401.112 22.0913 401.27 Q21.9786 401.405 21.8659 401.405 L21.7532 401.428 Q21.6855 401.428 21.3474 401.383 Q20.9867 401.337 20.4005 401.292 Q19.8144 401.247 19.1606 401.247 Q15.4634 401.247 13.75 403.051 Q12.0141 404.832 12.0141 407.898 Q12.0141 410.017 13.1413 411.911 Q14.2685 413.804 16.0495 414.886 Q17.8079 415.969 19.6566 415.969 Q21.3474 415.969 22.4295 415.112 Q23.5116 414.255 23.8723 413.151 L24.7064 410.062 Q25.5406 406.816 25.9013 405.891 Q26.2394 404.967 27.0059 404.201 Q29.1251 401.924 32.4165 401.924 Q35.2571 401.924 38.0075 403.524 Q40.7353 405.125 42.5163 407.875 Q44.2747 410.626 44.2747 413.669 Q44.2747 419.012 40.9607 421.469 L43.5759 423.724 Q44.0718 424.152 44.162 424.287 Q44.2747 424.4 44.2747 424.558 Q44.2747 424.761 44.1395 424.919 Q44.0267 425.076 43.8238 425.076 Q43.666 425.076 38.3682 423.746 Q33.0703 422.416 32.9576 422.303 Q32.7772 422.123 32.7772 421.83 Q32.7772 421.289 33.2957 421.289 Q33.431 421.334 33.6114 421.379 Q35.2345 421.65 36.1138 421.65 Q37.7595 421.65 39.0219 421.086 Q40.2619 420.522 40.9833 419.688 Q41.6822 418.832 42.133 417.682 Q42.5614 416.532 42.7192 415.563 Q42.8544 414.593 42.8544 413.579 Q42.8544 411.392 41.592 409.453 Q40.3295 407.492 38.3682 406.387 Q36.4068 405.26 34.3553 405.26 Q33.2732 405.26 32.4391 405.553 Q31.5824 405.846 31.109 406.252 Q30.6355 406.635 30.2748 407.289 Q29.9141 407.943 29.7789 408.394 Q29.6211 408.822 29.4632 409.498 L28.1557 414.436 Q27.5695 416.419 25.8787 417.84 Q24.1879 419.237 21.5954 419.237 Q18.8675 419.237 16.3426 417.637 Q13.7951 416.014 12.2621 413.376 Q10.7066 410.716 10.7066 407.853 Q10.7066 405.598 11.5858 403.862 Q12.4425 402.127 14.0431 401.247 L11.4054 399.015 Q10.8869 398.565 10.7967 398.474 Q10.7066 398.362 10.7066 398.204 Q10.7066 397.933 10.8644 397.821 Q11.0222 397.685 11.18 397.685 Z\" fill=\"#000000\" fill-rule=\"evenodd\" fill-opacity=\"1\" /><path clip-path=\"url(#clip770)\" d=\"M18.6872 362.061 Q21.2121 362.061 23.5342 363.932 Q25.8562 365.781 27.2765 368.802 Q28.6742 371.8 28.6742 375.024 L28.6742 382.87 L40.2168 385.733 Q40.2844 385.755 40.5775 385.823 Q40.848 385.89 41.0058 385.89 Q41.5694 385.89 41.7047 385.192 Q41.84 384.47 41.84 382.87 Q41.84 381.832 42.0203 381.675 Q42.133 381.584 42.3359 381.584 Q42.6516 381.584 42.877 381.675 Q43.0799 381.765 43.1475 381.945 Q43.2152 382.103 43.2377 382.216 Q43.2602 382.328 43.2602 382.509 Q43.2602 382.982 43.2152 383.997 Q43.1701 384.989 43.1701 385.507 L43.125 388.46 L43.2602 394.322 Q43.2602 395.021 42.6966 395.021 Q42.2683 395.021 42.0879 394.84 Q41.8851 394.66 41.8625 394.457 Q41.84 394.254 41.84 393.736 Q41.84 392.609 41.7723 391.932 Q41.7047 391.256 41.6145 390.828 Q41.5018 390.377 41.1862 390.151 Q40.8706 389.903 40.6 389.791 Q40.307 389.678 39.6532 389.52 L14.8547 383.343 Q14.1107 383.163 13.998 383.163 Q13.6147 383.163 13.4795 383.388 Q13.3217 383.591 13.254 384.177 Q13.1639 385.304 13.1639 386.161 Q13.1639 386.725 13.1413 386.95 Q13.1188 387.153 13.0061 387.333 Q12.8708 387.491 12.6003 387.491 Q12.1719 387.491 11.9916 387.311 Q11.7887 387.108 11.7661 386.882 Q11.721 386.657 11.721 386.116 L11.721 371.147 Q11.721 366.841 13.7726 364.451 Q15.8241 362.061 18.6872 362.061 M17.5825 366.345 Q13.1639 366.345 13.1639 372.634 L13.1639 377.053 Q13.1639 378.518 13.4344 378.879 Q13.6824 379.24 14.9223 379.556 L27.4794 382.689 L27.4794 376.174 Q27.4794 371.8 25.0221 369.073 Q23.8949 367.833 21.5503 367.089 Q19.2057 366.345 17.5825 366.345 Z\" fill=\"#000000\" fill-rule=\"evenodd\" fill-opacity=\"1\" /><path clip-path=\"url(#clip770)\" d=\"M95.7078 358.641 L29.7502 358.641 L29.7502 348.689 L31.2638 348.689 L31.2638 354.228 L94.1941 354.228 L94.1941 348.689 L95.7078 348.689 L95.7078 358.641 Z\" fill=\"#000000\" fill-rule=\"evenodd\" fill-opacity=\"1\" /><path clip-path=\"url(#clip770)\" d=\"M53.1638 318.137 Q53.196 318.137 54.3554 318.33 L83.6306 325.673 Q85.1765 326.059 86.7223 327.154 Q88.3004 328.217 89.6531 329.924 Q91.0379 331.599 91.8753 334.175 Q92.7448 336.72 92.7448 339.65 Q92.7448 344.32 91.7464 346.381 Q90.7803 348.41 88.7191 348.41 Q86.9156 348.41 85.885 347.283 Q84.8866 346.156 84.8866 344.868 Q84.8866 343.644 85.5951 343 Q86.3037 342.356 87.2054 342.356 Q88.2038 342.356 89.2022 343.032 Q90.2328 343.708 90.6192 345.061 Q91.2956 342.903 91.2956 339.779 Q91.2956 333.177 84.3069 330.343 Q84.2103 330.278 84.1781 330.278 L75.4503 328.088 L75.3859 328.185 Q76.03 328.733 76.7707 329.602 Q77.4792 330.439 78.3488 332.243 Q79.2184 334.046 79.2184 335.818 Q79.2184 339.521 76.3843 342.066 Q73.5179 344.578 68.7837 344.578 Q65.3376 344.578 61.8916 343.193 Q58.4134 341.776 55.8691 339.586 Q53.2926 337.364 51.6824 334.53 Q50.0721 331.663 50.0721 328.894 Q50.0721 326.961 51.2315 325.319 Q52.3587 323.676 54.2266 322.774 Q52.6807 322.613 52.0366 321.744 Q51.3925 320.842 51.3925 320.069 Q51.3925 319.2 51.8756 318.684 Q52.3265 318.137 53.1638 318.137 M57.1896 323.547 Q56.9963 323.547 56.481 323.676 Q55.9335 323.805 55.064 324.191 Q54.1944 324.546 53.4215 325.093 Q52.6485 325.641 52.101 326.639 Q51.5213 327.605 51.5213 328.829 Q51.5213 330.826 53.196 332.823 Q54.8385 334.819 57.3828 336.204 Q59.8304 337.493 64.5647 338.716 Q69.299 339.908 71.7144 339.908 Q74.0976 339.908 75.9334 338.877 Q77.7691 337.847 77.7691 335.625 Q77.7691 333.048 75.3859 330.278 Q72.906 327.412 70.7804 326.929 L58.1879 323.741 Q57.415 323.547 57.1896 323.547 Z\" fill=\"#000000\" fill-rule=\"evenodd\" fill-opacity=\"1\" /><path clip-path=\"url(#clip770)\" d=\"M94.7738 317.277 Q94.4517 317.277 93.7432 317.02 L31.5215 293.735 Q31.4571 293.735 31.1028 293.574 Q30.7485 293.413 30.5231 293.316 Q30.2655 293.22 30.0722 293.026 Q29.879 292.801 29.879 292.543 Q29.879 291.899 30.6841 291.899 Q30.7485 291.899 31.5215 292.092 L93.8076 315.442 Q94.9348 315.828 95.2569 316.086 Q95.5789 316.311 95.5789 316.698 Q95.5789 317.277 94.7738 317.277 Z\" fill=\"#000000\" fill-rule=\"evenodd\" fill-opacity=\"1\" /><path clip-path=\"url(#clip770)\" d=\"M62.9222 244.775 Q63.1154 244.775 63.8562 245.032 L78.0912 250.25 Q78.9285 250.539 79.0895 250.829 Q79.2184 251.119 79.2184 252.311 L79.2184 282.842 Q79.2184 283.583 79.1862 283.873 Q79.154 284.162 78.9929 284.388 Q78.8319 284.613 78.4776 284.613 Q77.8335 284.613 77.5437 284.388 Q77.2538 284.13 77.2216 283.84 Q77.1894 283.551 77.1894 282.842 Q77.1894 281.232 77.0928 280.266 Q76.9962 279.299 76.8673 278.687 Q76.7063 278.043 76.2554 277.721 Q75.8045 277.367 75.4181 277.206 Q74.9994 277.045 74.0654 276.819 L38.639 267.995 Q37.5762 267.737 37.4152 267.737 Q36.8032 267.737 36.6422 268.124 Q36.449 268.478 36.3524 269.509 L36.2235 272.021 Q36.2235 272.794 36.1913 273.116 Q36.1591 273.406 35.9981 273.631 Q35.8371 273.857 35.4828 273.857 Q34.8709 273.857 34.581 273.631 Q34.259 273.373 34.2268 273.18 Q34.1624 272.955 34.1624 272.601 L34.3556 263.841 L34.1624 254.082 Q34.1624 253.019 34.9675 253.019 Q35.8693 253.019 36.0625 253.47 Q36.2235 253.921 36.2235 255.531 Q36.2235 258.623 36.5456 260.04 Q36.8677 261.425 37.4152 261.812 Q37.9305 262.166 39.3153 262.52 L74.935 271.441 Q76.1266 271.763 76.4487 271.763 Q76.8029 271.763 76.9317 271.602 Q77.0284 271.409 77.0928 270.894 Q77.1894 270.314 77.1894 269.444 L77.1894 263.261 Q77.1894 261.393 76.8995 259.75 Q76.6097 258.108 76.191 256.852 Q75.7723 255.564 74.9994 254.404 Q74.2265 253.245 73.5501 252.44 Q72.8416 251.602 71.7466 250.797 Q70.6194 249.96 69.8465 249.477 Q69.0413 248.961 67.7531 248.382 Q66.4326 247.802 65.6919 247.512 Q64.919 247.19 63.5985 246.707 Q62.9222 246.417 62.729 246.321 Q62.5357 246.224 62.3747 246.063 Q62.2137 245.87 62.2137 245.58 Q62.2137 245.193 62.4391 245 Q62.6646 244.775 62.9222 244.775 Z\" fill=\"#000000\" fill-rule=\"evenodd\" fill-opacity=\"1\" /><path clip-path=\"url(#clip770)\" d=\"M94.1941 241.467 L94.1941 235.927 L31.2638 235.927 L31.2638 241.467 L29.7502 241.467 L29.7502 231.515 L95.7078 231.515 L95.7078 241.467 L94.1941 241.467 Z\" fill=\"#000000\" fill-rule=\"evenodd\" fill-opacity=\"1\" /><polyline clip-path=\"url(#clip773)\" style=\"stroke:#000000; stroke-linecap:round; stroke-linejoin:round; stroke-width:4; stroke-opacity:1; fill:none\" stroke-dasharray=\"2, 4\" points=\"317.65,64.4395 421.641,64.4395 525.632,64.4395 629.624,64.4395 733.615,64.4395 837.606,64.4395 941.597,64.4395 1045.59,64.4395 1149.58,64.4395 1253.57,64.4395 1357.56,64.4395 1461.55,64.4395 1565.54,64.4395 1669.53,64.4395 1773.53,64.4395 1877.52,64.4395 1981.51,64.4395 2085.5,64.4395 2189.49,64.4395 2293.48,64.4395 \"/>\n",
       "<polyline clip-path=\"url(#clip773)\" style=\"stroke:#000000; stroke-linecap:round; stroke-linejoin:round; stroke-width:12; stroke-opacity:1; fill:none\" points=\"317.65,64.4396 421.641,64.4395 525.632,64.4395 629.624,64.4397 733.615,64.4396 837.606,64.4395 941.597,64.4395 1045.59,436.943 1149.58,265.681 1253.57,135.679 1357.56,130.272 1461.55,580.3 1565.54,637.593 1669.53,622.672 1773.53,229.629 1877.52,580.293 1981.51,634.223 2085.5,477.141 2189.49,169.453 2293.48,580.309 \"/>\n",
       "<circle clip-path=\"url(#clip773)\" cx=\"317.65\" cy=\"64.4396\" r=\"10.8\" fill=\"#000000\" fill-rule=\"evenodd\" fill-opacity=\"1\" stroke=\"none\"/>\n",
       "<circle clip-path=\"url(#clip773)\" cx=\"421.641\" cy=\"64.4395\" r=\"10.8\" fill=\"#000000\" fill-rule=\"evenodd\" fill-opacity=\"1\" stroke=\"none\"/>\n",
       "<circle clip-path=\"url(#clip773)\" cx=\"525.632\" cy=\"64.4395\" r=\"10.8\" fill=\"#000000\" fill-rule=\"evenodd\" fill-opacity=\"1\" stroke=\"none\"/>\n",
       "<circle clip-path=\"url(#clip773)\" cx=\"629.624\" cy=\"64.4397\" r=\"10.8\" fill=\"#000000\" fill-rule=\"evenodd\" fill-opacity=\"1\" stroke=\"none\"/>\n",
       "<circle clip-path=\"url(#clip773)\" cx=\"733.615\" cy=\"64.4396\" r=\"10.8\" fill=\"#000000\" fill-rule=\"evenodd\" fill-opacity=\"1\" stroke=\"none\"/>\n",
       "<circle clip-path=\"url(#clip773)\" cx=\"837.606\" cy=\"64.4395\" r=\"10.8\" fill=\"#000000\" fill-rule=\"evenodd\" fill-opacity=\"1\" stroke=\"none\"/>\n",
       "<circle clip-path=\"url(#clip773)\" cx=\"941.597\" cy=\"64.4395\" r=\"10.8\" fill=\"#000000\" fill-rule=\"evenodd\" fill-opacity=\"1\" stroke=\"none\"/>\n",
       "<circle clip-path=\"url(#clip773)\" cx=\"1045.59\" cy=\"436.943\" r=\"10.8\" fill=\"#000000\" fill-rule=\"evenodd\" fill-opacity=\"1\" stroke=\"none\"/>\n",
       "<circle clip-path=\"url(#clip773)\" cx=\"1149.58\" cy=\"265.681\" r=\"10.8\" fill=\"#000000\" fill-rule=\"evenodd\" fill-opacity=\"1\" stroke=\"none\"/>\n",
       "<circle clip-path=\"url(#clip773)\" cx=\"1253.57\" cy=\"135.679\" r=\"10.8\" fill=\"#000000\" fill-rule=\"evenodd\" fill-opacity=\"1\" stroke=\"none\"/>\n",
       "<circle clip-path=\"url(#clip773)\" cx=\"1357.56\" cy=\"130.272\" r=\"10.8\" fill=\"#000000\" fill-rule=\"evenodd\" fill-opacity=\"1\" stroke=\"none\"/>\n",
       "<circle clip-path=\"url(#clip773)\" cx=\"1461.55\" cy=\"580.3\" r=\"10.8\" fill=\"#000000\" fill-rule=\"evenodd\" fill-opacity=\"1\" stroke=\"none\"/>\n",
       "<circle clip-path=\"url(#clip773)\" cx=\"1565.54\" cy=\"637.593\" r=\"10.8\" fill=\"#000000\" fill-rule=\"evenodd\" fill-opacity=\"1\" stroke=\"none\"/>\n",
       "<circle clip-path=\"url(#clip773)\" cx=\"1669.53\" cy=\"622.672\" r=\"10.8\" fill=\"#000000\" fill-rule=\"evenodd\" fill-opacity=\"1\" stroke=\"none\"/>\n",
       "<circle clip-path=\"url(#clip773)\" cx=\"1773.53\" cy=\"229.629\" r=\"10.8\" fill=\"#000000\" fill-rule=\"evenodd\" fill-opacity=\"1\" stroke=\"none\"/>\n",
       "<circle clip-path=\"url(#clip773)\" cx=\"1877.52\" cy=\"580.293\" r=\"10.8\" fill=\"#000000\" fill-rule=\"evenodd\" fill-opacity=\"1\" stroke=\"none\"/>\n",
       "<circle clip-path=\"url(#clip773)\" cx=\"1981.51\" cy=\"634.223\" r=\"10.8\" fill=\"#000000\" fill-rule=\"evenodd\" fill-opacity=\"1\" stroke=\"none\"/>\n",
       "<circle clip-path=\"url(#clip773)\" cx=\"2085.5\" cy=\"477.141\" r=\"10.8\" fill=\"#000000\" fill-rule=\"evenodd\" fill-opacity=\"1\" stroke=\"none\"/>\n",
       "<circle clip-path=\"url(#clip773)\" cx=\"2189.49\" cy=\"169.453\" r=\"10.8\" fill=\"#000000\" fill-rule=\"evenodd\" fill-opacity=\"1\" stroke=\"none\"/>\n",
       "<circle clip-path=\"url(#clip773)\" cx=\"2293.48\" cy=\"580.309\" r=\"10.8\" fill=\"#000000\" fill-rule=\"evenodd\" fill-opacity=\"1\" stroke=\"none\"/>\n",
       "<polyline clip-path=\"url(#clip773)\" style=\"stroke:#000000; stroke-linecap:round; stroke-linejoin:round; stroke-width:8; stroke-opacity:0.1; fill:none\" points=\"317.65,64.4396 421.641,64.4395 525.632,64.4395 629.624,64.4397 733.615,64.4396 837.606,64.4395 941.597,64.4395 1045.59,637.618 1149.58,64.4414 1253.57,64.4396 1357.56,64.4395 1461.55,637.618 1565.54,637.618 1669.53,339.115 1773.53,64.4395 1877.52,637.618 1981.51,637.614 2085.5,64.4395 2189.49,64.4395 2293.48,637.618 \"/>\n",
       "<polyline clip-path=\"url(#clip773)\" style=\"stroke:#000000; stroke-linecap:round; stroke-linejoin:round; stroke-width:8; stroke-opacity:0.1; fill:none\" points=\"317.65,64.4396 421.641,64.4395 525.632,64.4395 629.624,64.4396 733.615,64.4395 837.606,64.4395 941.597,64.4395 1045.59,636.534 1149.58,636.259 1253.57,74.6902 1357.56,93.2693 1461.55,637.611 1565.54,637.614 1669.53,637.612 1773.53,210.717 1877.52,637.615 1981.51,637.617 2085.5,637.616 2189.49,138.764 2293.48,637.611 \"/>\n",
       "<polyline clip-path=\"url(#clip773)\" style=\"stroke:#000000; stroke-linecap:round; stroke-linejoin:round; stroke-width:8; stroke-opacity:0.1; fill:none\" points=\"317.65,64.4396 421.641,64.4395 525.632,64.4395 629.624,64.4396 733.615,64.4395 837.606,64.4395 941.597,64.4395 1045.59,637.609 1149.58,204.188 1253.57,64.4423 1357.56,64.4409 1461.55,637.618 1565.54,637.618 1669.53,637.618 1773.53,136.991 1877.52,637.618 1981.51,637.618 2085.5,292.54 2189.49,64.4396 2293.48,637.618 \"/>\n",
       "<polyline clip-path=\"url(#clip773)\" style=\"stroke:#000000; stroke-linecap:round; stroke-linejoin:round; stroke-width:8; stroke-opacity:0.1; fill:none\" points=\"317.65,64.4396 421.641,64.4395 525.632,64.4395 629.624,64.4398 733.615,64.4396 837.606,64.4396 941.597,64.4395 1045.59,637.592 1149.58,637.595 1253.57,180.953 1357.56,64.4693 1461.55,637.618 1565.54,637.618 1669.53,637.618 1773.53,185.032 1877.52,637.616 1981.51,637.617 2085.5,637.615 2189.49,64.4455 2293.48,637.618 \"/>\n",
       "<polyline clip-path=\"url(#clip773)\" style=\"stroke:#000000; stroke-linecap:round; stroke-linejoin:round; stroke-width:8; stroke-opacity:0.1; fill:none\" points=\"317.65,64.4396 421.641,64.4395 525.632,64.4395 629.624,64.4399 733.615,64.4396 837.606,64.4396 941.597,64.4396 1045.59,64.4974 1149.58,64.4991 1253.57,66.0996 1357.56,413.413 1461.55,637.606 1565.54,637.611 1669.53,637.606 1773.53,393.508 1877.52,637.606 1981.51,637.611 2085.5,637.607 2189.49,383.15 2293.48,637.611 \"/>\n",
       "<polyline clip-path=\"url(#clip773)\" style=\"stroke:#000000; stroke-linecap:round; stroke-linejoin:round; stroke-width:8; stroke-opacity:0.1; fill:none\" points=\"317.65,64.4396 421.641,64.4395 525.632,64.4395 629.624,64.4399 733.615,64.4396 837.606,64.4396 941.597,64.4395 1045.59,637.506 1149.58,637.517 1253.57,215.822 1357.56,64.5698 1461.55,637.614 1565.54,637.616 1669.53,637.615 1773.53,177.567 1877.52,637.617 1981.51,637.617 2085.5,637.617 2189.49,84.7641 2293.48,637.614 \"/>\n",
       "<polyline clip-path=\"url(#clip773)\" style=\"stroke:#000000; stroke-linecap:round; stroke-linejoin:round; stroke-width:8; stroke-opacity:0.1; fill:none\" points=\"317.65,64.4396 421.641,64.4395 525.632,64.4395 629.624,64.4396 733.615,64.4395 837.606,64.4395 941.597,64.4395 1045.59,637.613 1149.58,82.276 1253.57,64.4411 1357.56,64.4403 1461.55,637.618 1565.54,637.618 1669.53,637.618 1773.53,64.4396 1877.52,637.618 1981.51,637.618 2085.5,71.3326 2189.49,64.4396 2293.48,637.618 \"/>\n",
       "<polyline clip-path=\"url(#clip773)\" style=\"stroke:#000000; stroke-linecap:round; stroke-linejoin:round; stroke-width:8; stroke-opacity:0.1; fill:none\" points=\"317.65,64.4396 421.641,64.4395 525.632,64.4395 629.624,64.4396 733.615,64.4395 837.606,64.4395 941.597,64.4395 1045.59,637.611 1149.58,96.9516 1253.57,64.4417 1357.56,64.4406 1461.55,637.618 1565.54,637.618 1669.53,637.618 1773.53,64.4396 1877.52,637.618 1981.51,637.618 2085.5,150.645 2189.49,64.4396 2293.48,637.618 \"/>\n",
       "<polyline clip-path=\"url(#clip773)\" style=\"stroke:#000000; stroke-linecap:round; stroke-linejoin:round; stroke-width:8; stroke-opacity:0.1; fill:none\" points=\"317.65,64.4396 421.641,64.4395 525.632,64.4395 629.624,64.4396 733.615,64.4395 837.606,64.4395 941.597,64.4395 1045.59,64.7921 1149.58,65.2393 1253.57,521.843 1357.56,64.7718 1461.55,637.605 1565.54,637.611 1669.53,637.606 1773.53,290.968 1877.52,637.605 1981.51,637.61 2085.5,637.606 2189.49,258.924 2293.48,637.614 \"/>\n",
       "<polyline clip-path=\"url(#clip773)\" style=\"stroke:#000000; stroke-linecap:round; stroke-linejoin:round; stroke-width:8; stroke-opacity:0.1; fill:none\" points=\"317.65,64.4396 421.641,64.4395 525.632,64.4395 629.624,64.4396 733.615,64.4395 837.606,64.4395 941.597,64.4395 1045.59,637.611 1149.58,97.1884 1253.57,64.4417 1357.56,64.4405 1461.55,637.618 1565.54,637.618 1669.53,637.618 1773.53,64.4396 1877.52,637.618 1981.51,637.618 2085.5,144.045 2189.49,64.4396 2293.48,637.618 \"/>\n",
       "<polyline clip-path=\"url(#clip773)\" style=\"stroke:#000000; stroke-linecap:round; stroke-linejoin:round; stroke-width:8; stroke-opacity:0.1; fill:none\" points=\"317.65,64.4396 421.641,64.4395 525.632,64.4395 629.624,64.4396 733.615,64.4395 837.606,64.4395 941.597,64.4395 1045.59,637.584 1149.58,380.468 1253.57,64.4494 1357.56,64.4446 1461.55,637.618 1565.54,637.618 1669.53,637.618 1773.53,169.001 1877.52,637.618 1981.51,637.618 2085.5,395.056 2189.49,64.4396 2293.48,637.618 \"/>\n",
       "<polyline clip-path=\"url(#clip773)\" style=\"stroke:#000000; stroke-linecap:round; stroke-linejoin:round; stroke-width:8; stroke-opacity:0.1; fill:none\" points=\"317.65,64.4396 421.641,64.4395 525.632,64.4395 629.624,64.4398 733.615,64.4396 837.606,64.4396 941.597,64.4395 1045.59,637.599 1149.58,622.022 1253.57,64.4454 1357.56,64.4426 1461.55,637.618 1565.54,637.618 1669.53,637.618 1773.53,208.879 1877.52,637.618 1981.51,637.618 2085.5,534.064 2189.49,64.4397 2293.48,637.618 \"/>\n",
       "<polyline clip-path=\"url(#clip773)\" style=\"stroke:#000000; stroke-linecap:round; stroke-linejoin:round; stroke-width:8; stroke-opacity:0.1; fill:none\" points=\"317.65,64.4396 421.641,64.4395 525.632,64.4395 629.624,64.4396 733.615,64.4395 837.606,64.4395 941.597,64.4395 1045.59,637.217 1149.58,637.172 1253.57,230.906 1357.56,71.1997 1461.55,637.611 1565.54,637.614 1669.53,637.612 1773.53,197.948 1877.52,637.616 1981.51,637.617 2085.5,637.616 2189.49,122.875 2293.48,637.611 \"/>\n",
       "<polyline clip-path=\"url(#clip773)\" style=\"stroke:#000000; stroke-linecap:round; stroke-linejoin:round; stroke-width:8; stroke-opacity:0.1; fill:none\" points=\"317.65,64.4396 421.641,64.4395 525.632,64.4395 629.624,64.4396 733.615,64.4395 837.606,64.4395 941.597,64.4395 1045.59,64.4468 1149.58,64.4448 1253.57,64.4512 1357.56,149.495 1461.55,64.5753 1565.54,637.441 1669.53,637.544 1773.53,422.005 1877.52,64.523 1981.51,634.897 2085.5,637.54 2189.49,261.549 2293.48,64.5917 \"/>\n",
       "<polyline clip-path=\"url(#clip773)\" style=\"stroke:#000000; stroke-linecap:round; stroke-linejoin:round; stroke-width:8; stroke-opacity:0.1; fill:none\" points=\"317.65,64.4396 421.641,64.4395 525.632,64.4395 629.624,64.4399 733.615,64.4396 837.606,64.4396 941.597,64.4396 1045.59,64.4499 1149.58,64.4473 1253.57,64.4576 1357.56,456.979 1461.55,637.544 1565.54,637.578 1669.53,637.546 1773.53,450.216 1877.52,637.469 1981.51,637.534 2085.5,637.462 2189.49,449.226 2293.48,637.574 \"/>\n",
       "<polyline clip-path=\"url(#clip773)\" style=\"stroke:#000000; stroke-linecap:round; stroke-linejoin:round; stroke-width:8; stroke-opacity:0.1; fill:none\" points=\"317.65,64.4396 421.641,64.4395 525.632,64.4395 629.624,64.4396 733.615,64.4395 837.606,64.4395 941.597,64.4395 1045.59,637.602 1149.58,127.93 1253.57,64.4443 1357.56,64.4418 1461.55,637.618 1565.54,637.618 1669.53,637.618 1773.53,109.215 1877.52,637.618 1981.51,637.618 2085.5,244.382 2189.49,64.4396 2293.48,637.618 \"/>\n",
       "<polyline clip-path=\"url(#clip773)\" style=\"stroke:#000000; stroke-linecap:round; stroke-linejoin:round; stroke-width:8; stroke-opacity:0.1; fill:none\" points=\"317.65,64.4396 421.641,64.4395 525.632,64.4395 629.624,64.4399 733.615,64.4396 837.606,64.4396 941.597,64.4396 1045.59,64.4503 1149.58,64.4477 1253.57,64.4588 1357.56,453.211 1461.55,637.463 1565.54,637.53 1669.53,637.455 1773.53,446.149 1877.52,637.499 1981.51,637.548 2085.5,637.487 2189.49,448.615 2293.48,637.579 \"/>\n",
       "<polyline clip-path=\"url(#clip773)\" style=\"stroke:#000000; stroke-linecap:round; stroke-linejoin:round; stroke-width:8; stroke-opacity:0.1; fill:none\" points=\"317.65,64.4396 421.641,64.4395 525.632,64.4395 629.624,64.4398 733.615,64.4396 837.606,64.4396 941.597,64.4395 1045.59,637.596 1149.58,637.598 1253.57,164.839 1357.56,64.465 1461.55,637.618 1565.54,637.618 1669.53,637.618 1773.53,194.527 1877.52,637.618 1981.51,637.618 2085.5,633.001 2189.49,64.4401 2293.48,637.617 \"/>\n",
       "<polyline clip-path=\"url(#clip773)\" style=\"stroke:#000000; stroke-linecap:round; stroke-linejoin:round; stroke-width:8; stroke-opacity:0.1; fill:none\" points=\"317.65,64.4396 421.641,64.4395 525.632,64.4395 629.624,64.4399 733.615,64.4396 837.606,64.4396 941.597,64.4396 1045.59,64.4868 1149.58,64.4984 1253.57,485.068 1357.56,64.5772 1461.55,637.612 1565.54,637.615 1669.53,637.612 1773.53,329.974 1877.52,637.601 1981.51,637.608 2085.5,637.602 2189.49,304.26 2293.48,637.613 \"/>\n",
       "<polyline clip-path=\"url(#clip773)\" style=\"stroke:#000000; stroke-linecap:round; stroke-linejoin:round; stroke-width:8; stroke-opacity:0.1; fill:none\" points=\"317.65,64.4396 421.641,64.4395 525.632,64.4395 629.624,64.4396 733.615,64.4395 837.606,64.4395 941.597,64.4395 1045.59,64.4467 1149.58,64.4447 1253.57,64.4511 1357.56,129.486 1461.55,64.57 1565.54,637.444 1669.53,637.546 1773.53,412.135 1877.52,64.5188 1981.51,572.618 2085.5,637.542 2189.49,292.533 2293.48,64.5822 \"/>\n",
       "<path clip-path=\"url(#clip770)\" d=\"M258.375 1423.18 L2352.76 1423.18 L2352.76 815.61 L258.375 815.61  Z\" fill=\"#ffffff\" fill-rule=\"evenodd\" fill-opacity=\"1\"/>\n",
       "<defs>\n",
       "  <clipPath id=\"clip774\">\n",
       "    <rect x=\"258\" y=\"815\" width=\"2095\" height=\"609\"/>\n",
       "  </clipPath>\n",
       "</defs>\n",
       "<polyline clip-path=\"url(#clip774)\" style=\"stroke:#000000; stroke-linecap:round; stroke-linejoin:round; stroke-width:8; stroke-opacity:0.1; fill:none\" points=\"733.615,1423.18 733.615,815.61 \"/>\n",
       "<polyline clip-path=\"url(#clip774)\" style=\"stroke:#000000; stroke-linecap:round; stroke-linejoin:round; stroke-width:8; stroke-opacity:0.1; fill:none\" points=\"1253.57,1423.18 1253.57,815.61 \"/>\n",
       "<polyline clip-path=\"url(#clip774)\" style=\"stroke:#000000; stroke-linecap:round; stroke-linejoin:round; stroke-width:8; stroke-opacity:0.1; fill:none\" points=\"1773.53,1423.18 1773.53,815.61 \"/>\n",
       "<polyline clip-path=\"url(#clip774)\" style=\"stroke:#000000; stroke-linecap:round; stroke-linejoin:round; stroke-width:8; stroke-opacity:0.1; fill:none\" points=\"2293.48,1423.18 2293.48,815.61 \"/>\n",
       "<polyline clip-path=\"url(#clip770)\" style=\"stroke:#000000; stroke-linecap:round; stroke-linejoin:round; stroke-width:4; stroke-opacity:1; fill:none\" points=\"258.375,1423.18 2352.76,1423.18 \"/>\n",
       "<polyline clip-path=\"url(#clip770)\" style=\"stroke:#000000; stroke-linecap:round; stroke-linejoin:round; stroke-width:4; stroke-opacity:1; fill:none\" points=\"733.615,1423.18 733.615,1404.28 \"/>\n",
       "<polyline clip-path=\"url(#clip770)\" style=\"stroke:#000000; stroke-linecap:round; stroke-linejoin:round; stroke-width:4; stroke-opacity:1; fill:none\" points=\"1253.57,1423.18 1253.57,1404.28 \"/>\n",
       "<polyline clip-path=\"url(#clip770)\" style=\"stroke:#000000; stroke-linecap:round; stroke-linejoin:round; stroke-width:4; stroke-opacity:1; fill:none\" points=\"1773.53,1423.18 1773.53,1404.28 \"/>\n",
       "<polyline clip-path=\"url(#clip770)\" style=\"stroke:#000000; stroke-linecap:round; stroke-linejoin:round; stroke-width:4; stroke-opacity:1; fill:none\" points=\"2293.48,1423.18 2293.48,1404.28 \"/>\n",
       "<path clip-path=\"url(#clip770)\" d=\"M723.892 1451.02 L742.249 1451.02 L742.249 1454.96 L728.175 1454.96 L728.175 1463.43 Q729.193 1463.08 730.212 1462.92 Q731.23 1462.73 732.249 1462.73 Q738.036 1462.73 741.416 1465.9 Q744.795 1469.08 744.795 1474.49 Q744.795 1480.07 741.323 1483.17 Q737.851 1486.25 731.531 1486.25 Q729.355 1486.25 727.087 1485.88 Q724.842 1485.51 722.434 1484.77 L722.434 1480.07 Q724.517 1481.2 726.74 1481.76 Q728.962 1482.32 731.439 1482.32 Q735.443 1482.32 737.781 1480.21 Q740.119 1478.1 740.119 1474.49 Q740.119 1470.88 737.781 1468.77 Q735.443 1466.67 731.439 1466.67 Q729.564 1466.67 727.689 1467.08 Q725.837 1467.5 723.892 1468.38 L723.892 1451.02 Z\" fill=\"#000000\" fill-rule=\"evenodd\" fill-opacity=\"1\" /><path clip-path=\"url(#clip770)\" d=\"M1228.26 1481.64 L1235.9 1481.64 L1235.9 1455.28 L1227.59 1456.95 L1227.59 1452.69 L1235.85 1451.02 L1240.53 1451.02 L1240.53 1481.64 L1248.17 1481.64 L1248.17 1485.58 L1228.26 1485.58 L1228.26 1481.64 Z\" fill=\"#000000\" fill-rule=\"evenodd\" fill-opacity=\"1\" /><path clip-path=\"url(#clip770)\" d=\"M1267.61 1454.1 Q1264 1454.1 1262.17 1457.66 Q1260.36 1461.2 1260.36 1468.33 Q1260.36 1475.44 1262.17 1479.01 Q1264 1482.55 1267.61 1482.55 Q1271.24 1482.55 1273.05 1479.01 Q1274.88 1475.44 1274.88 1468.33 Q1274.88 1461.2 1273.05 1457.66 Q1271.24 1454.1 1267.61 1454.1 M1267.61 1450.39 Q1273.42 1450.39 1276.48 1455 Q1279.55 1459.58 1279.55 1468.33 Q1279.55 1477.06 1276.48 1481.67 Q1273.42 1486.25 1267.61 1486.25 Q1261.8 1486.25 1258.72 1481.67 Q1255.66 1477.06 1255.66 1468.33 Q1255.66 1459.58 1258.72 1455 Q1261.8 1450.39 1267.61 1450.39 Z\" fill=\"#000000\" fill-rule=\"evenodd\" fill-opacity=\"1\" /><path clip-path=\"url(#clip770)\" d=\"M1748.71 1481.64 L1756.35 1481.64 L1756.35 1455.28 L1748.04 1456.95 L1748.04 1452.69 L1756.3 1451.02 L1760.98 1451.02 L1760.98 1481.64 L1768.62 1481.64 L1768.62 1485.58 L1748.71 1485.58 L1748.71 1481.64 Z\" fill=\"#000000\" fill-rule=\"evenodd\" fill-opacity=\"1\" /><path clip-path=\"url(#clip770)\" d=\"M1778.11 1451.02 L1796.47 1451.02 L1796.47 1454.96 L1782.39 1454.96 L1782.39 1463.43 Q1783.41 1463.08 1784.43 1462.92 Q1785.45 1462.73 1786.47 1462.73 Q1792.25 1462.73 1795.63 1465.9 Q1799.01 1469.08 1799.01 1474.49 Q1799.01 1480.07 1795.54 1483.17 Q1792.07 1486.25 1785.75 1486.25 Q1783.57 1486.25 1781.3 1485.88 Q1779.06 1485.51 1776.65 1484.77 L1776.65 1480.07 Q1778.73 1481.2 1780.96 1481.76 Q1783.18 1482.32 1785.66 1482.32 Q1789.66 1482.32 1792 1480.21 Q1794.34 1478.1 1794.34 1474.49 Q1794.34 1470.88 1792 1468.77 Q1789.66 1466.67 1785.66 1466.67 Q1783.78 1466.67 1781.91 1467.08 Q1780.05 1467.5 1778.11 1468.38 L1778.11 1451.02 Z\" fill=\"#000000\" fill-rule=\"evenodd\" fill-opacity=\"1\" /><path clip-path=\"url(#clip770)\" d=\"M2272.25 1481.64 L2288.57 1481.64 L2288.57 1485.58 L2266.63 1485.58 L2266.63 1481.64 Q2269.29 1478.89 2273.87 1474.26 Q2278.48 1469.61 2279.66 1468.27 Q2281.91 1465.74 2282.79 1464.01 Q2283.69 1462.25 2283.69 1460.56 Q2283.69 1457.8 2281.74 1456.07 Q2279.82 1454.33 2276.72 1454.33 Q2274.52 1454.33 2272.07 1455.09 Q2269.64 1455.86 2266.86 1457.41 L2266.86 1452.69 Q2269.68 1451.55 2272.14 1450.97 Q2274.59 1450.39 2276.63 1450.39 Q2282 1450.39 2285.19 1453.08 Q2288.39 1455.77 2288.39 1460.26 Q2288.39 1462.39 2287.58 1464.31 Q2286.79 1466.2 2284.68 1468.8 Q2284.11 1469.47 2281 1472.69 Q2277.9 1475.88 2272.25 1481.64 Z\" fill=\"#000000\" fill-rule=\"evenodd\" fill-opacity=\"1\" /><path clip-path=\"url(#clip770)\" d=\"M2308.39 1454.1 Q2304.78 1454.1 2302.95 1457.66 Q2301.14 1461.2 2301.14 1468.33 Q2301.14 1475.44 2302.95 1479.01 Q2304.78 1482.55 2308.39 1482.55 Q2312.02 1482.55 2313.83 1479.01 Q2315.66 1475.44 2315.66 1468.33 Q2315.66 1461.2 2313.83 1457.66 Q2312.02 1454.1 2308.39 1454.1 M2308.39 1450.39 Q2314.2 1450.39 2317.25 1455 Q2320.33 1459.58 2320.33 1468.33 Q2320.33 1477.06 2317.25 1481.67 Q2314.2 1486.25 2308.39 1486.25 Q2302.58 1486.25 2299.5 1481.67 Q2296.44 1477.06 2296.44 1468.33 Q2296.44 1459.58 2299.5 1455 Q2302.58 1450.39 2308.39 1450.39 Z\" fill=\"#000000\" fill-rule=\"evenodd\" fill-opacity=\"1\" /><path clip-path=\"url(#clip770)\" d=\"M1148.54 1522.27 L1148.54 1532.4 L1160.6 1532.4 L1160.6 1536.95 L1148.54 1536.95 L1148.54 1556.3 Q1148.54 1560.66 1149.72 1561.9 Q1150.93 1563.14 1154.59 1563.14 L1160.6 1563.14 L1160.6 1568.04 L1154.59 1568.04 Q1147.81 1568.04 1145.23 1565.53 Q1142.65 1562.98 1142.65 1556.3 L1142.65 1536.95 L1138.35 1536.95 L1138.35 1532.4 L1142.65 1532.4 L1142.65 1522.27 L1148.54 1522.27 Z\" fill=\"#000000\" fill-rule=\"evenodd\" fill-opacity=\"1\" /><path clip-path=\"url(#clip770)\" d=\"M1168.31 1532.4 L1174.16 1532.4 L1174.16 1568.04 L1168.31 1568.04 L1168.31 1532.4 M1168.31 1518.52 L1174.16 1518.52 L1174.16 1525.93 L1168.31 1525.93 L1168.31 1518.52 Z\" fill=\"#000000\" fill-rule=\"evenodd\" fill-opacity=\"1\" /><path clip-path=\"url(#clip770)\" d=\"M1214.17 1539.24 Q1216.37 1535.29 1219.42 1533.41 Q1222.48 1531.54 1226.61 1531.54 Q1232.18 1531.54 1235.21 1535.45 Q1238.23 1539.33 1238.23 1546.53 L1238.23 1568.04 L1232.34 1568.04 L1232.34 1546.72 Q1232.34 1541.59 1230.53 1539.11 Q1228.72 1536.63 1224.99 1536.63 Q1220.44 1536.63 1217.8 1539.65 Q1215.16 1542.68 1215.16 1547.9 L1215.16 1568.04 L1209.27 1568.04 L1209.27 1546.72 Q1209.27 1541.56 1207.45 1539.11 Q1205.64 1536.63 1201.85 1536.63 Q1197.36 1536.63 1194.72 1539.68 Q1192.08 1542.71 1192.08 1547.9 L1192.08 1568.04 L1186.19 1568.04 L1186.19 1532.4 L1192.08 1532.4 L1192.08 1537.93 Q1194.09 1534.66 1196.89 1533.1 Q1199.69 1531.54 1203.54 1531.54 Q1207.42 1531.54 1210.13 1533.51 Q1212.87 1535.48 1214.17 1539.24 Z\" fill=\"#000000\" fill-rule=\"evenodd\" fill-opacity=\"1\" /><path clip-path=\"url(#clip770)\" d=\"M1280.41 1548.76 L1280.41 1551.62 L1253.48 1551.62 Q1253.86 1557.67 1257.11 1560.85 Q1260.39 1564 1266.21 1564 Q1269.58 1564 1272.73 1563.17 Q1275.92 1562.35 1279.04 1560.69 L1279.04 1566.23 Q1275.89 1567.57 1272.58 1568.27 Q1269.27 1568.97 1265.86 1568.97 Q1257.33 1568.97 1252.33 1564 Q1247.37 1559.04 1247.37 1550.57 Q1247.37 1541.82 1252.08 1536.69 Q1256.82 1531.54 1264.84 1531.54 Q1272.03 1531.54 1276.2 1536.18 Q1280.41 1540.8 1280.41 1548.76 M1274.55 1547.04 Q1274.49 1542.23 1271.84 1539.37 Q1269.23 1536.5 1264.9 1536.5 Q1260 1536.5 1257.04 1539.27 Q1254.11 1542.04 1253.67 1547.07 L1274.55 1547.04 Z\" fill=\"#000000\" fill-rule=\"evenodd\" fill-opacity=\"1\" /><path clip-path=\"url(#clip770)\" d=\"M1310.2 1518.52 L1323.69 1518.52 L1323.69 1523.07 L1316.05 1523.07 L1316.05 1572.09 L1323.69 1572.09 L1323.69 1576.64 L1310.2 1576.64 L1310.2 1518.52 Z\" fill=\"#000000\" fill-rule=\"evenodd\" fill-opacity=\"1\" /><path clip-path=\"url(#clip770)\" d=\"M1363.92 1539.24 Q1366.12 1535.29 1369.17 1533.41 Q1372.23 1531.54 1376.37 1531.54 Q1381.94 1531.54 1384.96 1535.45 Q1387.99 1539.33 1387.99 1546.53 L1387.99 1568.04 L1382.1 1568.04 L1382.1 1546.72 Q1382.1 1541.59 1380.28 1539.11 Q1378.47 1536.63 1374.74 1536.63 Q1370.19 1536.63 1367.55 1539.65 Q1364.91 1542.68 1364.91 1547.9 L1364.91 1568.04 L1359.02 1568.04 L1359.02 1546.72 Q1359.02 1541.56 1357.21 1539.11 Q1355.39 1536.63 1351.61 1536.63 Q1347.12 1536.63 1344.48 1539.68 Q1341.83 1542.71 1341.83 1547.9 L1341.83 1568.04 L1335.95 1568.04 L1335.95 1532.4 L1341.83 1532.4 L1341.83 1537.93 Q1343.84 1534.66 1346.64 1533.1 Q1349.44 1531.54 1353.29 1531.54 Q1357.18 1531.54 1359.88 1533.51 Q1362.62 1535.48 1363.92 1539.24 Z\" fill=\"#000000\" fill-rule=\"evenodd\" fill-opacity=\"1\" /><path clip-path=\"url(#clip770)\" d=\"M1399.67 1532.4 L1405.52 1532.4 L1405.52 1568.04 L1399.67 1568.04 L1399.67 1532.4 M1399.67 1518.52 L1405.52 1518.52 L1405.52 1525.93 L1399.67 1525.93 L1399.67 1518.52 Z\" fill=\"#000000\" fill-rule=\"evenodd\" fill-opacity=\"1\" /><path clip-path=\"url(#clip770)\" d=\"M1447.41 1546.53 L1447.41 1568.04 L1441.55 1568.04 L1441.55 1546.72 Q1441.55 1541.66 1439.58 1539.14 Q1437.61 1536.63 1433.66 1536.63 Q1428.92 1536.63 1426.18 1539.65 Q1423.44 1542.68 1423.44 1547.9 L1423.44 1568.04 L1417.55 1568.04 L1417.55 1532.4 L1423.44 1532.4 L1423.44 1537.93 Q1425.54 1534.72 1428.38 1533.13 Q1431.24 1531.54 1434.96 1531.54 Q1441.11 1531.54 1444.26 1535.36 Q1447.41 1539.14 1447.41 1546.53 Z\" fill=\"#000000\" fill-rule=\"evenodd\" fill-opacity=\"1\" /><path clip-path=\"url(#clip770)\" d=\"M1472.78 1518.52 L1472.78 1576.64 L1459.28 1576.64 L1459.28 1572.09 L1466.89 1572.09 L1466.89 1523.07 L1459.28 1523.07 L1459.28 1518.52 L1472.78 1518.52 Z\" fill=\"#000000\" fill-rule=\"evenodd\" fill-opacity=\"1\" /><polyline clip-path=\"url(#clip774)\" style=\"stroke:#000000; stroke-linecap:round; stroke-linejoin:round; stroke-width:8; stroke-opacity:0.1; fill:none\" points=\"258.375,1405.98 2352.76,1405.98 \"/>\n",
       "<polyline clip-path=\"url(#clip774)\" style=\"stroke:#000000; stroke-linecap:round; stroke-linejoin:round; stroke-width:8; stroke-opacity:0.1; fill:none\" points=\"258.375,1286.57 2352.76,1286.57 \"/>\n",
       "<polyline clip-path=\"url(#clip774)\" style=\"stroke:#000000; stroke-linecap:round; stroke-linejoin:round; stroke-width:8; stroke-opacity:0.1; fill:none\" points=\"258.375,1167.16 2352.76,1167.16 \"/>\n",
       "<polyline clip-path=\"url(#clip774)\" style=\"stroke:#000000; stroke-linecap:round; stroke-linejoin:round; stroke-width:8; stroke-opacity:0.1; fill:none\" points=\"258.375,1047.75 2352.76,1047.75 \"/>\n",
       "<polyline clip-path=\"url(#clip774)\" style=\"stroke:#000000; stroke-linecap:round; stroke-linejoin:round; stroke-width:8; stroke-opacity:0.1; fill:none\" points=\"258.375,928.335 2352.76,928.335 \"/>\n",
       "<polyline clip-path=\"url(#clip770)\" style=\"stroke:#000000; stroke-linecap:round; stroke-linejoin:round; stroke-width:4; stroke-opacity:1; fill:none\" points=\"258.375,1423.18 258.375,815.61 \"/>\n",
       "<polyline clip-path=\"url(#clip770)\" style=\"stroke:#000000; stroke-linecap:round; stroke-linejoin:round; stroke-width:4; stroke-opacity:1; fill:none\" points=\"258.375,1405.98 277.273,1405.98 \"/>\n",
       "<polyline clip-path=\"url(#clip770)\" style=\"stroke:#000000; stroke-linecap:round; stroke-linejoin:round; stroke-width:4; stroke-opacity:1; fill:none\" points=\"258.375,1286.57 277.273,1286.57 \"/>\n",
       "<polyline clip-path=\"url(#clip770)\" style=\"stroke:#000000; stroke-linecap:round; stroke-linejoin:round; stroke-width:4; stroke-opacity:1; fill:none\" points=\"258.375,1167.16 277.273,1167.16 \"/>\n",
       "<polyline clip-path=\"url(#clip770)\" style=\"stroke:#000000; stroke-linecap:round; stroke-linejoin:round; stroke-width:4; stroke-opacity:1; fill:none\" points=\"258.375,1047.75 277.273,1047.75 \"/>\n",
       "<polyline clip-path=\"url(#clip770)\" style=\"stroke:#000000; stroke-linecap:round; stroke-linejoin:round; stroke-width:4; stroke-opacity:1; fill:none\" points=\"258.375,928.335 277.273,928.335 \"/>\n",
       "<path clip-path=\"url(#clip770)\" d=\"M135.038 1391.78 Q131.427 1391.78 129.598 1395.35 Q127.793 1398.89 127.793 1406.02 Q127.793 1413.13 129.598 1416.69 Q131.427 1420.23 135.038 1420.23 Q138.672 1420.23 140.478 1416.69 Q142.306 1413.13 142.306 1406.02 Q142.306 1398.89 140.478 1395.35 Q138.672 1391.78 135.038 1391.78 M135.038 1388.08 Q140.848 1388.08 143.904 1392.69 Q146.982 1397.27 146.982 1406.02 Q146.982 1414.75 143.904 1419.35 Q140.848 1423.94 135.038 1423.94 Q129.228 1423.94 126.149 1419.35 Q123.093 1414.75 123.093 1406.02 Q123.093 1397.27 126.149 1392.69 Q129.228 1388.08 135.038 1388.08 Z\" fill=\"#000000\" fill-rule=\"evenodd\" fill-opacity=\"1\" /><path clip-path=\"url(#clip770)\" d=\"M155.2 1417.38 L160.084 1417.38 L160.084 1423.26 L155.2 1423.26 L155.2 1417.38 Z\" fill=\"#000000\" fill-rule=\"evenodd\" fill-opacity=\"1\" /><path clip-path=\"url(#clip770)\" d=\"M180.269 1391.78 Q176.658 1391.78 174.829 1395.35 Q173.024 1398.89 173.024 1406.02 Q173.024 1413.13 174.829 1416.69 Q176.658 1420.23 180.269 1420.23 Q183.903 1420.23 185.709 1416.69 Q187.538 1413.13 187.538 1406.02 Q187.538 1398.89 185.709 1395.35 Q183.903 1391.78 180.269 1391.78 M180.269 1388.08 Q186.079 1388.08 189.135 1392.69 Q192.213 1397.27 192.213 1406.02 Q192.213 1414.75 189.135 1419.35 Q186.079 1423.94 180.269 1423.94 Q174.459 1423.94 171.38 1419.35 Q168.325 1414.75 168.325 1406.02 Q168.325 1397.27 171.38 1392.69 Q174.459 1388.08 180.269 1388.08 Z\" fill=\"#000000\" fill-rule=\"evenodd\" fill-opacity=\"1\" /><path clip-path=\"url(#clip770)\" d=\"M210.431 1391.78 Q206.82 1391.78 204.991 1395.35 Q203.186 1398.89 203.186 1406.02 Q203.186 1413.13 204.991 1416.69 Q206.82 1420.23 210.431 1420.23 Q214.065 1420.23 215.871 1416.69 Q217.699 1413.13 217.699 1406.02 Q217.699 1398.89 215.871 1395.35 Q214.065 1391.78 210.431 1391.78 M210.431 1388.08 Q216.241 1388.08 219.297 1392.69 Q222.375 1397.27 222.375 1406.02 Q222.375 1414.75 219.297 1419.35 Q216.241 1423.94 210.431 1423.94 Q204.621 1423.94 201.542 1419.35 Q198.487 1414.75 198.487 1406.02 Q198.487 1397.27 201.542 1392.69 Q204.621 1388.08 210.431 1388.08 Z\" fill=\"#000000\" fill-rule=\"evenodd\" fill-opacity=\"1\" /><path clip-path=\"url(#clip770)\" d=\"M136.033 1272.37 Q132.422 1272.37 130.593 1275.94 Q128.788 1279.48 128.788 1286.61 Q128.788 1293.71 130.593 1297.28 Q132.422 1300.82 136.033 1300.82 Q139.667 1300.82 141.473 1297.28 Q143.302 1293.71 143.302 1286.61 Q143.302 1279.48 141.473 1275.94 Q139.667 1272.37 136.033 1272.37 M136.033 1268.67 Q141.843 1268.67 144.899 1273.27 Q147.978 1277.86 147.978 1286.61 Q147.978 1295.33 144.899 1299.94 Q141.843 1304.52 136.033 1304.52 Q130.223 1304.52 127.144 1299.94 Q124.089 1295.33 124.089 1286.61 Q124.089 1277.86 127.144 1273.27 Q130.223 1268.67 136.033 1268.67 Z\" fill=\"#000000\" fill-rule=\"evenodd\" fill-opacity=\"1\" /><path clip-path=\"url(#clip770)\" d=\"M156.195 1297.97 L161.079 1297.97 L161.079 1303.85 L156.195 1303.85 L156.195 1297.97 Z\" fill=\"#000000\" fill-rule=\"evenodd\" fill-opacity=\"1\" /><path clip-path=\"url(#clip770)\" d=\"M175.292 1299.92 L191.612 1299.92 L191.612 1303.85 L169.667 1303.85 L169.667 1299.92 Q172.329 1297.16 176.913 1292.53 Q181.519 1287.88 182.7 1286.54 Q184.945 1284.01 185.825 1282.28 Q186.727 1280.52 186.727 1278.83 Q186.727 1276.07 184.783 1274.34 Q182.862 1272.6 179.76 1272.6 Q177.561 1272.6 175.107 1273.37 Q172.677 1274.13 169.899 1275.68 L169.899 1270.96 Q172.723 1269.82 175.177 1269.25 Q177.63 1268.67 179.667 1268.67 Q185.038 1268.67 188.232 1271.35 Q191.426 1274.04 191.426 1278.53 Q191.426 1280.66 190.616 1282.58 Q189.829 1284.48 187.723 1287.07 Q187.144 1287.74 184.042 1290.96 Q180.94 1294.15 175.292 1299.92 Z\" fill=\"#000000\" fill-rule=\"evenodd\" fill-opacity=\"1\" /><path clip-path=\"url(#clip770)\" d=\"M201.473 1269.29 L219.829 1269.29 L219.829 1273.23 L205.755 1273.23 L205.755 1281.7 Q206.774 1281.35 207.792 1281.19 Q208.811 1281.01 209.829 1281.01 Q215.616 1281.01 218.996 1284.18 Q222.375 1287.35 222.375 1292.76 Q222.375 1298.34 218.903 1301.44 Q215.431 1304.52 209.112 1304.52 Q206.936 1304.52 204.667 1304.15 Q202.422 1303.78 200.014 1303.04 L200.014 1298.34 Q202.098 1299.48 204.32 1300.03 Q206.542 1300.59 209.019 1300.59 Q213.024 1300.59 215.362 1298.48 Q217.699 1296.38 217.699 1292.76 Q217.699 1289.15 215.362 1287.05 Q213.024 1284.94 209.019 1284.94 Q207.144 1284.94 205.269 1285.36 Q203.417 1285.77 201.473 1286.65 L201.473 1269.29 Z\" fill=\"#000000\" fill-rule=\"evenodd\" fill-opacity=\"1\" /><path clip-path=\"url(#clip770)\" d=\"M135.038 1152.96 Q131.427 1152.96 129.598 1156.52 Q127.793 1160.07 127.793 1167.19 Q127.793 1174.3 129.598 1177.87 Q131.427 1181.41 135.038 1181.41 Q138.672 1181.41 140.478 1177.87 Q142.306 1174.3 142.306 1167.19 Q142.306 1160.07 140.478 1156.52 Q138.672 1152.96 135.038 1152.96 M135.038 1149.25 Q140.848 1149.25 143.904 1153.86 Q146.982 1158.44 146.982 1167.19 Q146.982 1175.92 143.904 1180.53 Q140.848 1185.11 135.038 1185.11 Q129.228 1185.11 126.149 1180.53 Q123.093 1175.92 123.093 1167.19 Q123.093 1158.44 126.149 1153.86 Q129.228 1149.25 135.038 1149.25 Z\" fill=\"#000000\" fill-rule=\"evenodd\" fill-opacity=\"1\" /><path clip-path=\"url(#clip770)\" d=\"M155.2 1178.56 L160.084 1178.56 L160.084 1184.44 L155.2 1184.44 L155.2 1178.56 Z\" fill=\"#000000\" fill-rule=\"evenodd\" fill-opacity=\"1\" /><path clip-path=\"url(#clip770)\" d=\"M170.315 1149.88 L188.672 1149.88 L188.672 1153.82 L174.598 1153.82 L174.598 1162.29 Q175.616 1161.94 176.635 1161.78 Q177.653 1161.59 178.672 1161.59 Q184.459 1161.59 187.839 1164.76 Q191.218 1167.94 191.218 1173.35 Q191.218 1178.93 187.746 1182.03 Q184.274 1185.11 177.954 1185.11 Q175.778 1185.11 173.51 1184.74 Q171.265 1184.37 168.857 1183.63 L168.857 1178.93 Q170.94 1180.06 173.163 1180.62 Q175.385 1181.18 177.862 1181.18 Q181.866 1181.18 184.204 1179.07 Q186.542 1176.96 186.542 1173.35 Q186.542 1169.74 184.204 1167.63 Q181.866 1165.53 177.862 1165.53 Q175.987 1165.53 174.112 1165.94 Q172.26 1166.36 170.315 1167.24 L170.315 1149.88 Z\" fill=\"#000000\" fill-rule=\"evenodd\" fill-opacity=\"1\" /><path clip-path=\"url(#clip770)\" d=\"M210.431 1152.96 Q206.82 1152.96 204.991 1156.52 Q203.186 1160.07 203.186 1167.19 Q203.186 1174.3 204.991 1177.87 Q206.82 1181.41 210.431 1181.41 Q214.065 1181.41 215.871 1177.87 Q217.699 1174.3 217.699 1167.19 Q217.699 1160.07 215.871 1156.52 Q214.065 1152.96 210.431 1152.96 M210.431 1149.25 Q216.241 1149.25 219.297 1153.86 Q222.375 1158.44 222.375 1167.19 Q222.375 1175.92 219.297 1180.53 Q216.241 1185.11 210.431 1185.11 Q204.621 1185.11 201.542 1180.53 Q198.487 1175.92 198.487 1167.19 Q198.487 1158.44 201.542 1153.86 Q204.621 1149.25 210.431 1149.25 Z\" fill=\"#000000\" fill-rule=\"evenodd\" fill-opacity=\"1\" /><path clip-path=\"url(#clip770)\" d=\"M136.033 1033.55 Q132.422 1033.55 130.593 1037.11 Q128.788 1040.65 128.788 1047.78 Q128.788 1054.89 130.593 1058.45 Q132.422 1062 136.033 1062 Q139.667 1062 141.473 1058.45 Q143.302 1054.89 143.302 1047.78 Q143.302 1040.65 141.473 1037.11 Q139.667 1033.55 136.033 1033.55 M136.033 1029.84 Q141.843 1029.84 144.899 1034.45 Q147.978 1039.03 147.978 1047.78 Q147.978 1056.51 144.899 1061.12 Q141.843 1065.7 136.033 1065.7 Q130.223 1065.7 127.144 1061.12 Q124.089 1056.51 124.089 1047.78 Q124.089 1039.03 127.144 1034.45 Q130.223 1029.84 136.033 1029.84 Z\" fill=\"#000000\" fill-rule=\"evenodd\" fill-opacity=\"1\" /><path clip-path=\"url(#clip770)\" d=\"M156.195 1059.15 L161.079 1059.15 L161.079 1065.03 L156.195 1065.03 L156.195 1059.15 Z\" fill=\"#000000\" fill-rule=\"evenodd\" fill-opacity=\"1\" /><path clip-path=\"url(#clip770)\" d=\"M170.084 1030.47 L192.306 1030.47 L192.306 1032.46 L179.76 1065.03 L174.876 1065.03 L186.681 1034.4 L170.084 1034.4 L170.084 1030.47 Z\" fill=\"#000000\" fill-rule=\"evenodd\" fill-opacity=\"1\" /><path clip-path=\"url(#clip770)\" d=\"M201.473 1030.47 L219.829 1030.47 L219.829 1034.4 L205.755 1034.4 L205.755 1042.87 Q206.774 1042.53 207.792 1042.37 Q208.811 1042.18 209.829 1042.18 Q215.616 1042.18 218.996 1045.35 Q222.375 1048.52 222.375 1053.94 Q222.375 1059.52 218.903 1062.62 Q215.431 1065.7 209.112 1065.7 Q206.936 1065.7 204.667 1065.33 Q202.422 1064.96 200.014 1064.22 L200.014 1059.52 Q202.098 1060.65 204.32 1061.21 Q206.542 1061.76 209.019 1061.76 Q213.024 1061.76 215.362 1059.66 Q217.699 1057.55 217.699 1053.94 Q217.699 1050.33 215.362 1048.22 Q213.024 1046.12 209.019 1046.12 Q207.144 1046.12 205.269 1046.53 Q203.417 1046.95 201.473 1047.83 L201.473 1030.47 Z\" fill=\"#000000\" fill-rule=\"evenodd\" fill-opacity=\"1\" /><path clip-path=\"url(#clip770)\" d=\"M125.848 941.68 L133.487 941.68 L133.487 915.315 L125.177 916.981 L125.177 912.722 L133.441 911.055 L138.117 911.055 L138.117 941.68 L145.755 941.68 L145.755 945.615 L125.848 945.615 L125.848 941.68 Z\" fill=\"#000000\" fill-rule=\"evenodd\" fill-opacity=\"1\" /><path clip-path=\"url(#clip770)\" d=\"M155.2 939.736 L160.084 939.736 L160.084 945.615 L155.2 945.615 L155.2 939.736 Z\" fill=\"#000000\" fill-rule=\"evenodd\" fill-opacity=\"1\" /><path clip-path=\"url(#clip770)\" d=\"M180.269 914.134 Q176.658 914.134 174.829 917.699 Q173.024 921.24 173.024 928.37 Q173.024 935.476 174.829 939.041 Q176.658 942.583 180.269 942.583 Q183.903 942.583 185.709 939.041 Q187.538 935.476 187.538 928.37 Q187.538 921.24 185.709 917.699 Q183.903 914.134 180.269 914.134 M180.269 910.43 Q186.079 910.43 189.135 915.037 Q192.213 919.62 192.213 928.37 Q192.213 937.097 189.135 941.703 Q186.079 946.287 180.269 946.287 Q174.459 946.287 171.38 941.703 Q168.325 937.097 168.325 928.37 Q168.325 919.62 171.38 915.037 Q174.459 910.43 180.269 910.43 Z\" fill=\"#000000\" fill-rule=\"evenodd\" fill-opacity=\"1\" /><path clip-path=\"url(#clip770)\" d=\"M210.431 914.134 Q206.82 914.134 204.991 917.699 Q203.186 921.24 203.186 928.37 Q203.186 935.476 204.991 939.041 Q206.82 942.583 210.431 942.583 Q214.065 942.583 215.871 939.041 Q217.699 935.476 217.699 928.37 Q217.699 921.24 215.871 917.699 Q214.065 914.134 210.431 914.134 M210.431 910.43 Q216.241 910.43 219.297 915.037 Q222.375 919.62 222.375 928.37 Q222.375 937.097 219.297 941.703 Q216.241 946.287 210.431 946.287 Q204.621 946.287 201.542 941.703 Q198.487 937.097 198.487 928.37 Q198.487 919.62 201.542 915.037 Q204.621 910.43 210.431 910.43 Z\" fill=\"#000000\" fill-rule=\"evenodd\" fill-opacity=\"1\" /><path clip-path=\"url(#clip770)\" d=\"M44.114 1200.02 Q47.721 1200.02 51.0382 1202.7 Q54.3554 1205.34 56.3844 1209.65 Q58.3812 1213.94 58.3812 1218.54 L58.3812 1229.75 L74.8706 1233.84 Q74.9672 1233.87 75.3859 1233.97 Q75.7723 1234.06 75.9978 1234.06 Q76.8029 1234.06 76.9962 1233.07 Q77.1894 1232.04 77.1894 1229.75 Q77.1894 1228.27 77.447 1228.04 Q77.6081 1227.91 77.8979 1227.91 Q78.3488 1227.91 78.6709 1228.04 Q78.9607 1228.17 79.0573 1228.43 Q79.154 1228.65 79.1862 1228.81 Q79.2184 1228.98 79.2184 1229.23 Q79.2184 1229.91 79.154 1231.36 Q79.0895 1232.78 79.0895 1233.52 L79.0251 1237.74 L79.2184 1246.11 Q79.2184 1247.11 78.4132 1247.11 Q77.8013 1247.11 77.5437 1246.85 Q77.2538 1246.59 77.2216 1246.3 Q77.1894 1246.01 77.1894 1245.27 Q77.1894 1243.66 77.0928 1242.7 Q76.9962 1241.73 76.8673 1241.12 Q76.7063 1240.47 76.2554 1240.15 Q75.8045 1239.8 75.4181 1239.64 Q74.9994 1239.47 74.0654 1239.25 L38.639 1230.42 Q37.5762 1230.17 37.4152 1230.17 Q36.8677 1230.17 36.6744 1230.49 Q36.449 1230.78 36.3524 1231.62 Q36.2235 1233.23 36.2235 1234.45 Q36.2235 1235.26 36.1913 1235.58 Q36.1591 1235.87 35.9981 1236.13 Q35.8049 1236.35 35.4184 1236.35 Q34.8065 1236.35 34.5488 1236.09 Q34.259 1235.8 34.2268 1235.48 Q34.1624 1235.16 34.1624 1234.39 L34.1624 1213 Q34.1624 1206.85 37.0931 1203.44 Q40.0238 1200.02 44.114 1200.02 M42.5359 1206.14 Q36.2235 1206.14 36.2235 1215.13 L36.2235 1221.44 Q36.2235 1223.53 36.61 1224.05 Q36.9643 1224.56 38.7356 1225.01 L56.6743 1229.49 L56.6743 1220.18 Q56.6743 1213.94 53.1638 1210.04 Q51.5535 1208.27 48.2041 1207.2 Q44.8547 1206.14 42.5359 1206.14 Z\" fill=\"#000000\" fill-rule=\"evenodd\" fill-opacity=\"1\" /><path clip-path=\"url(#clip770)\" d=\"M11.18 1166.05 L21.2797 1168.55 Q21.8884 1168.69 22.0462 1168.8 Q22.204 1168.91 22.204 1169.23 Q22.204 1169.48 22.0913 1169.64 Q21.9786 1169.77 21.8659 1169.77 L21.7532 1169.79 Q21.6855 1169.79 21.3474 1169.75 Q20.9867 1169.7 20.4005 1169.66 Q19.8144 1169.61 19.1606 1169.61 Q15.4634 1169.61 13.75 1171.42 Q12.0141 1173.2 12.0141 1176.26 Q12.0141 1178.38 13.1413 1180.28 Q14.2685 1182.17 16.0495 1183.25 Q17.8079 1184.33 19.6566 1184.33 Q21.3474 1184.33 22.4295 1183.48 Q23.5116 1182.62 23.8723 1181.52 L24.7064 1178.43 Q25.5406 1175.18 25.9013 1174.26 Q26.2394 1173.33 27.0059 1172.57 Q29.1251 1170.29 32.4165 1170.29 Q35.2571 1170.29 38.0075 1171.89 Q40.7353 1173.49 42.5163 1176.24 Q44.2747 1178.99 44.2747 1182.04 Q44.2747 1187.38 40.9607 1189.84 L43.5759 1192.09 Q44.0718 1192.52 44.162 1192.65 Q44.2747 1192.77 44.2747 1192.92 Q44.2747 1193.13 44.1395 1193.28 Q44.0267 1193.44 43.8238 1193.44 Q43.666 1193.44 38.3682 1192.11 Q33.0703 1190.78 32.9576 1190.67 Q32.7772 1190.49 32.7772 1190.2 Q32.7772 1189.65 33.2957 1189.65 Q33.431 1189.7 33.6114 1189.75 Q35.2345 1190.02 36.1138 1190.02 Q37.7595 1190.02 39.0219 1189.45 Q40.2619 1188.89 40.9833 1188.05 Q41.6822 1187.2 42.133 1186.05 Q42.5614 1184.9 42.7192 1183.93 Q42.8544 1182.96 42.8544 1181.94 Q42.8544 1179.76 41.592 1177.82 Q40.3295 1175.86 38.3682 1174.75 Q36.4068 1173.63 34.3553 1173.63 Q33.2732 1173.63 32.4391 1173.92 Q31.5824 1174.21 31.109 1174.62 Q30.6355 1175 30.2748 1175.66 Q29.9141 1176.31 29.7789 1176.76 Q29.6211 1177.19 29.4632 1177.86 L28.1557 1182.8 Q27.5695 1184.79 25.8787 1186.21 Q24.1879 1187.6 21.5954 1187.6 Q18.8675 1187.6 16.3426 1186 Q13.7951 1184.38 12.2621 1181.74 Q10.7066 1179.08 10.7066 1176.22 Q10.7066 1173.96 11.5858 1172.23 Q12.4425 1170.49 14.0431 1169.61 L11.4054 1167.38 Q10.8869 1166.93 10.7967 1166.84 Q10.7066 1166.73 10.7066 1166.57 Q10.7066 1166.3 10.8644 1166.19 Q11.0222 1166.05 11.18 1166.05 Z\" fill=\"#000000\" fill-rule=\"evenodd\" fill-opacity=\"1\" /><path clip-path=\"url(#clip770)\" d=\"M18.6872 1130.43 Q21.2121 1130.43 23.5342 1132.3 Q25.8562 1134.15 27.2765 1137.17 Q28.6742 1140.17 28.6742 1143.39 L28.6742 1151.24 L40.2168 1154.1 Q40.2844 1154.12 40.5775 1154.19 Q40.848 1154.26 41.0058 1154.26 Q41.5694 1154.26 41.7047 1153.56 Q41.84 1152.84 41.84 1151.24 Q41.84 1150.2 42.0203 1150.04 Q42.133 1149.95 42.3359 1149.95 Q42.6516 1149.95 42.877 1150.04 Q43.0799 1150.13 43.1475 1150.31 Q43.2152 1150.47 43.2377 1150.58 Q43.2602 1150.69 43.2602 1150.87 Q43.2602 1151.35 43.2152 1152.36 Q43.1701 1153.35 43.1701 1153.87 L43.125 1156.83 L43.2602 1162.69 Q43.2602 1163.39 42.6966 1163.39 Q42.2683 1163.39 42.0879 1163.21 Q41.8851 1163.03 41.8625 1162.82 Q41.84 1162.62 41.84 1162.1 Q41.84 1160.97 41.7723 1160.3 Q41.7047 1159.62 41.6145 1159.19 Q41.5018 1158.74 41.1862 1158.52 Q40.8706 1158.27 40.6 1158.16 Q40.307 1158.04 39.6532 1157.89 L14.8547 1151.71 Q14.1107 1151.53 13.998 1151.53 Q13.6147 1151.53 13.4795 1151.75 Q13.3217 1151.96 13.254 1152.54 Q13.1639 1153.67 13.1639 1154.53 Q13.1639 1155.09 13.1413 1155.32 Q13.1188 1155.52 13.0061 1155.7 Q12.8708 1155.86 12.6003 1155.86 Q12.1719 1155.86 11.9916 1155.68 Q11.7887 1155.47 11.7661 1155.25 Q11.721 1155.02 11.721 1154.48 L11.721 1139.51 Q11.721 1135.21 13.7726 1132.82 Q15.8241 1130.43 18.6872 1130.43 M17.5825 1134.71 Q13.1639 1134.71 13.1639 1141 L13.1639 1145.42 Q13.1639 1146.88 13.4344 1147.25 Q13.6824 1147.61 14.9223 1147.92 L27.4794 1151.06 L27.4794 1144.54 Q27.4794 1140.17 25.0221 1137.44 Q23.8949 1136.2 21.5503 1135.45 Q19.2057 1134.71 17.5825 1134.71 Z\" fill=\"#000000\" fill-rule=\"evenodd\" fill-opacity=\"1\" /><path clip-path=\"url(#clip770)\" d=\"M95.7078 1127.01 L29.7502 1127.01 L29.7502 1117.05 L31.2638 1117.05 L31.2638 1122.59 L94.1941 1122.59 L94.1941 1117.05 L95.7078 1117.05 L95.7078 1127.01 Z\" fill=\"#000000\" fill-rule=\"evenodd\" fill-opacity=\"1\" /><path clip-path=\"url(#clip770)\" d=\"M53.1638 1086.5 Q53.196 1086.5 54.3554 1086.7 L83.6306 1094.04 Q85.1765 1094.43 86.7223 1095.52 Q88.3004 1096.58 89.6531 1098.29 Q91.0379 1099.96 91.8753 1102.54 Q92.7448 1105.09 92.7448 1108.02 Q92.7448 1112.69 91.7464 1114.75 Q90.7803 1116.78 88.7191 1116.78 Q86.9156 1116.78 85.885 1115.65 Q84.8866 1114.52 84.8866 1113.23 Q84.8866 1112.01 85.5951 1111.37 Q86.3037 1110.72 87.2054 1110.72 Q88.2038 1110.72 89.2022 1111.4 Q90.2328 1112.07 90.6192 1113.43 Q91.2956 1111.27 91.2956 1108.15 Q91.2956 1101.54 84.3069 1098.71 Q84.2103 1098.64 84.1781 1098.64 L75.4503 1096.45 L75.3859 1096.55 Q76.03 1097.1 76.7707 1097.97 Q77.4792 1098.81 78.3488 1100.61 Q79.2184 1102.41 79.2184 1104.18 Q79.2184 1107.89 76.3843 1110.43 Q73.5179 1112.94 68.7837 1112.94 Q65.3376 1112.94 61.8916 1111.56 Q58.4134 1110.14 55.8691 1107.95 Q53.2926 1105.73 51.6824 1102.9 Q50.0721 1100.03 50.0721 1097.26 Q50.0721 1095.33 51.2315 1093.68 Q52.3587 1092.04 54.2266 1091.14 Q52.6807 1090.98 52.0366 1090.11 Q51.3925 1089.21 51.3925 1088.44 Q51.3925 1087.57 51.8756 1087.05 Q52.3265 1086.5 53.1638 1086.5 M57.1896 1091.91 Q56.9963 1091.91 56.481 1092.04 Q55.9335 1092.17 55.064 1092.56 Q54.1944 1092.91 53.4215 1093.46 Q52.6485 1094.01 52.101 1095.01 Q51.5213 1095.97 51.5213 1097.2 Q51.5213 1099.19 53.196 1101.19 Q54.8385 1103.19 57.3828 1104.57 Q59.8304 1105.86 64.5647 1107.08 Q69.299 1108.27 71.7144 1108.27 Q74.0976 1108.27 75.9334 1107.24 Q77.7691 1106.21 77.7691 1103.99 Q77.7691 1101.41 75.3859 1098.64 Q72.906 1095.78 70.7804 1095.29 L58.1879 1092.11 Q57.415 1091.91 57.1896 1091.91 Z\" fill=\"#000000\" fill-rule=\"evenodd\" fill-opacity=\"1\" /><path clip-path=\"url(#clip770)\" d=\"M94.7738 1085.64 Q94.4517 1085.64 93.7432 1085.39 L31.5215 1062.1 Q31.4571 1062.1 31.1028 1061.94 Q30.7485 1061.78 30.5231 1061.68 Q30.2655 1061.59 30.0722 1061.39 Q29.879 1061.17 29.879 1060.91 Q29.879 1060.27 30.6841 1060.27 Q30.7485 1060.27 31.5215 1060.46 L93.8076 1083.81 Q94.9348 1084.19 95.2569 1084.45 Q95.5789 1084.68 95.5789 1085.06 Q95.5789 1085.64 94.7738 1085.64 Z\" fill=\"#000000\" fill-rule=\"evenodd\" fill-opacity=\"1\" /><path clip-path=\"url(#clip770)\" d=\"M62.9222 1013.14 Q63.1154 1013.14 63.8562 1013.4 L78.0912 1018.62 Q78.9285 1018.91 79.0895 1019.2 Q79.2184 1019.49 79.2184 1020.68 L79.2184 1051.21 Q79.2184 1051.95 79.1862 1052.24 Q79.154 1052.53 78.9929 1052.75 Q78.8319 1052.98 78.4776 1052.98 Q77.8335 1052.98 77.5437 1052.75 Q77.2538 1052.5 77.2216 1052.21 Q77.1894 1051.92 77.1894 1051.21 Q77.1894 1049.6 77.0928 1048.63 Q76.9962 1047.67 76.8673 1047.05 Q76.7063 1046.41 76.2554 1046.09 Q75.8045 1045.73 75.4181 1045.57 Q74.9994 1045.41 74.0654 1045.19 L38.639 1036.36 Q37.5762 1036.1 37.4152 1036.1 Q36.8032 1036.1 36.6422 1036.49 Q36.449 1036.84 36.3524 1037.87 L36.2235 1040.39 Q36.2235 1041.16 36.1913 1041.48 Q36.1591 1041.77 35.9981 1042 Q35.8371 1042.22 35.4828 1042.22 Q34.8709 1042.22 34.581 1042 Q34.259 1041.74 34.2268 1041.55 Q34.1624 1041.32 34.1624 1040.97 L34.3556 1032.21 L34.1624 1022.45 Q34.1624 1021.39 34.9675 1021.39 Q35.8693 1021.39 36.0625 1021.84 Q36.2235 1022.29 36.2235 1023.9 Q36.2235 1026.99 36.5456 1028.41 Q36.8677 1029.79 37.4152 1030.18 Q37.9305 1030.53 39.3153 1030.89 L74.935 1039.81 Q76.1266 1040.13 76.4487 1040.13 Q76.8029 1040.13 76.9317 1039.97 Q77.0284 1039.77 77.0928 1039.26 Q77.1894 1038.68 77.1894 1037.81 L77.1894 1031.63 Q77.1894 1029.76 76.8995 1028.12 Q76.6097 1026.47 76.191 1025.22 Q75.7723 1023.93 74.9994 1022.77 Q74.2265 1021.61 73.5501 1020.81 Q72.8416 1019.97 71.7466 1019.16 Q70.6194 1018.33 69.8465 1017.84 Q69.0413 1017.33 67.7531 1016.75 Q66.4326 1016.17 65.6919 1015.88 Q64.919 1015.56 63.5985 1015.07 Q62.9222 1014.78 62.729 1014.69 Q62.5357 1014.59 62.3747 1014.43 Q62.2137 1014.24 62.2137 1013.95 Q62.2137 1013.56 62.4391 1013.37 Q62.6646 1013.14 62.9222 1013.14 Z\" fill=\"#000000\" fill-rule=\"evenodd\" fill-opacity=\"1\" /><path clip-path=\"url(#clip770)\" d=\"M94.1941 1009.83 L94.1941 1004.29 L31.2638 1004.29 L31.2638 1009.83 L29.7502 1009.83 L29.7502 999.881 L95.7078 999.881 L95.7078 1009.83 L94.1941 1009.83 Z\" fill=\"#000000\" fill-rule=\"evenodd\" fill-opacity=\"1\" /><polyline clip-path=\"url(#clip774)\" style=\"stroke:#000000; stroke-linecap:round; stroke-linejoin:round; stroke-width:4; stroke-opacity:1; fill:none\" stroke-dasharray=\"2, 4\" points=\"317.65,832.805 421.641,832.805 525.632,832.805 629.624,832.805 733.615,832.805 837.606,832.805 941.597,832.805 1045.59,832.805 1149.58,832.805 1253.57,832.805 1357.56,832.805 1461.55,832.805 1565.54,832.805 1669.53,832.805 1773.53,832.805 1877.52,832.805 1981.51,832.805 2085.5,832.805 2189.49,832.805 2293.48,832.805 \"/>\n",
       "<polyline clip-path=\"url(#clip774)\" style=\"stroke:#000000; stroke-linecap:round; stroke-linejoin:round; stroke-width:12; stroke-opacity:1; fill:none\" stroke-dasharray=\"48, 24, 6, 24\" points=\"317.65,832.816 421.641,832.805 525.632,832.805 629.624,832.814 733.615,832.806 837.606,832.806 941.597,832.844 1045.59,1175.69 1149.58,1004.57 1253.57,904.165 1357.56,876.295 1461.55,1319.98 1565.54,1377.29 1669.53,1360.18 1773.53,998.525 1877.52,1348.64 1981.51,1405.54 2085.5,1239.19 2189.49,937.929 2293.48,1348.56 \"/>\n",
       "<path clip-path=\"url(#clip774)\" d=\"M305.65 820.816 L305.65 844.816 L329.65 844.816 L329.65 820.816 L305.65 820.816 Z\" fill=\"#000000\" fill-rule=\"evenodd\" fill-opacity=\"1\" stroke=\"none\"/>\n",
       "<path clip-path=\"url(#clip774)\" d=\"M409.641 820.805 L409.641 844.805 L433.641 844.805 L433.641 820.805 L409.641 820.805 Z\" fill=\"#000000\" fill-rule=\"evenodd\" fill-opacity=\"1\" stroke=\"none\"/>\n",
       "<path clip-path=\"url(#clip774)\" d=\"M513.632 820.805 L513.632 844.805 L537.632 844.805 L537.632 820.805 L513.632 820.805 Z\" fill=\"#000000\" fill-rule=\"evenodd\" fill-opacity=\"1\" stroke=\"none\"/>\n",
       "<path clip-path=\"url(#clip774)\" d=\"M617.624 820.814 L617.624 844.814 L641.624 844.814 L641.624 820.814 L617.624 820.814 Z\" fill=\"#000000\" fill-rule=\"evenodd\" fill-opacity=\"1\" stroke=\"none\"/>\n",
       "<path clip-path=\"url(#clip774)\" d=\"M721.615 820.806 L721.615 844.806 L745.615 844.806 L745.615 820.806 L721.615 820.806 Z\" fill=\"#000000\" fill-rule=\"evenodd\" fill-opacity=\"1\" stroke=\"none\"/>\n",
       "<path clip-path=\"url(#clip774)\" d=\"M825.606 820.806 L825.606 844.806 L849.606 844.806 L849.606 820.806 L825.606 820.806 Z\" fill=\"#000000\" fill-rule=\"evenodd\" fill-opacity=\"1\" stroke=\"none\"/>\n",
       "<path clip-path=\"url(#clip774)\" d=\"M929.597 820.844 L929.597 844.844 L953.597 844.844 L953.597 820.844 L929.597 820.844 Z\" fill=\"#000000\" fill-rule=\"evenodd\" fill-opacity=\"1\" stroke=\"none\"/>\n",
       "<path clip-path=\"url(#clip774)\" d=\"M1033.59 1163.69 L1033.59 1187.69 L1057.59 1187.69 L1057.59 1163.69 L1033.59 1163.69 Z\" fill=\"#000000\" fill-rule=\"evenodd\" fill-opacity=\"1\" stroke=\"none\"/>\n",
       "<path clip-path=\"url(#clip774)\" d=\"M1137.58 992.566 L1137.58 1016.57 L1161.58 1016.57 L1161.58 992.566 L1137.58 992.566 Z\" fill=\"#000000\" fill-rule=\"evenodd\" fill-opacity=\"1\" stroke=\"none\"/>\n",
       "<path clip-path=\"url(#clip774)\" d=\"M1241.57 892.165 L1241.57 916.165 L1265.57 916.165 L1265.57 892.165 L1241.57 892.165 Z\" fill=\"#000000\" fill-rule=\"evenodd\" fill-opacity=\"1\" stroke=\"none\"/>\n",
       "<path clip-path=\"url(#clip774)\" d=\"M1345.56 864.295 L1345.56 888.295 L1369.56 888.295 L1369.56 864.295 L1345.56 864.295 Z\" fill=\"#000000\" fill-rule=\"evenodd\" fill-opacity=\"1\" stroke=\"none\"/>\n",
       "<path clip-path=\"url(#clip774)\" d=\"M1449.55 1307.98 L1449.55 1331.98 L1473.55 1331.98 L1473.55 1307.98 L1449.55 1307.98 Z\" fill=\"#000000\" fill-rule=\"evenodd\" fill-opacity=\"1\" stroke=\"none\"/>\n",
       "<path clip-path=\"url(#clip774)\" d=\"M1553.54 1365.29 L1553.54 1389.29 L1577.54 1389.29 L1577.54 1365.29 L1553.54 1365.29 Z\" fill=\"#000000\" fill-rule=\"evenodd\" fill-opacity=\"1\" stroke=\"none\"/>\n",
       "<path clip-path=\"url(#clip774)\" d=\"M1657.53 1348.18 L1657.53 1372.18 L1681.53 1372.18 L1681.53 1348.18 L1657.53 1348.18 Z\" fill=\"#000000\" fill-rule=\"evenodd\" fill-opacity=\"1\" stroke=\"none\"/>\n",
       "<path clip-path=\"url(#clip774)\" d=\"M1761.53 986.525 L1761.53 1010.52 L1785.53 1010.52 L1785.53 986.525 L1761.53 986.525 Z\" fill=\"#000000\" fill-rule=\"evenodd\" fill-opacity=\"1\" stroke=\"none\"/>\n",
       "<path clip-path=\"url(#clip774)\" d=\"M1865.52 1336.64 L1865.52 1360.64 L1889.52 1360.64 L1889.52 1336.64 L1865.52 1336.64 Z\" fill=\"#000000\" fill-rule=\"evenodd\" fill-opacity=\"1\" stroke=\"none\"/>\n",
       "<path clip-path=\"url(#clip774)\" d=\"M1969.51 1393.54 L1969.51 1417.54 L1993.51 1417.54 L1993.51 1393.54 L1969.51 1393.54 Z\" fill=\"#000000\" fill-rule=\"evenodd\" fill-opacity=\"1\" stroke=\"none\"/>\n",
       "<path clip-path=\"url(#clip774)\" d=\"M2073.5 1227.19 L2073.5 1251.19 L2097.5 1251.19 L2097.5 1227.19 L2073.5 1227.19 Z\" fill=\"#000000\" fill-rule=\"evenodd\" fill-opacity=\"1\" stroke=\"none\"/>\n",
       "<path clip-path=\"url(#clip774)\" d=\"M2177.49 925.929 L2177.49 949.929 L2201.49 949.929 L2201.49 925.929 L2177.49 925.929 Z\" fill=\"#000000\" fill-rule=\"evenodd\" fill-opacity=\"1\" stroke=\"none\"/>\n",
       "<path clip-path=\"url(#clip774)\" d=\"M2281.48 1336.56 L2281.48 1360.56 L2305.48 1360.56 L2305.48 1336.56 L2281.48 1336.56 Z\" fill=\"#000000\" fill-rule=\"evenodd\" fill-opacity=\"1\" stroke=\"none\"/>\n",
       "<polyline clip-path=\"url(#clip774)\" style=\"stroke:#000000; stroke-linecap:round; stroke-linejoin:round; stroke-width:8; stroke-opacity:0.1; fill:none\" points=\"317.65,832.817 421.641,832.805 525.632,832.805 629.624,832.842 733.615,832.806 837.606,832.805 941.597,832.805 1045.59,1405.98 1149.58,832.806 1253.57,832.806 1357.56,832.806 1461.55,1405.98 1565.54,1405.98 1669.53,1074.34 1773.53,832.806 1877.52,1405.98 1981.51,1405.98 2085.5,832.805 2189.49,832.805 2293.48,1405.98 \"/>\n",
       "<polyline clip-path=\"url(#clip774)\" style=\"stroke:#000000; stroke-linecap:round; stroke-linejoin:round; stroke-width:8; stroke-opacity:0.1; fill:none\" points=\"317.65,832.816 421.641,832.805 525.632,832.805 629.624,832.806 733.615,832.806 837.606,832.806 941.597,832.905 1045.59,1405.32 1149.58,1396.46 1253.57,833.942 1357.56,868.312 1461.55,1405.98 1565.54,1405.98 1669.53,1405.98 1773.53,984.772 1877.52,1405.98 1981.51,1405.98 2085.5,1405.98 2189.49,901.59 2293.48,1405.98 \"/>\n",
       "<polyline clip-path=\"url(#clip774)\" style=\"stroke:#000000; stroke-linecap:round; stroke-linejoin:round; stroke-width:8; stroke-opacity:0.1; fill:none\" points=\"317.65,832.815 421.641,832.806 525.632,832.806 629.624,832.806 733.615,832.806 837.606,832.806 941.597,832.811 1045.59,1405.97 1149.58,974.414 1253.57,832.808 1357.56,832.807 1461.55,1405.98 1565.54,1405.98 1669.53,1405.98 1773.53,902.011 1877.52,1405.98 1981.51,1405.98 2085.5,1095 2189.49,832.806 2293.48,1405.98 \"/>\n",
       "<polyline clip-path=\"url(#clip774)\" style=\"stroke:#000000; stroke-linecap:round; stroke-linejoin:round; stroke-width:8; stroke-opacity:0.1; fill:none\" points=\"317.65,832.817 421.641,832.805 525.632,832.805 629.624,832.847 733.615,832.806 837.606,832.806 941.597,832.806 1045.59,1405.92 1149.58,1405.94 1253.57,939.888 1357.56,838.439 1461.55,1405.98 1565.54,1405.98 1669.53,1405.98 1773.53,934.423 1877.52,1405.98 1981.51,1405.98 2085.5,1405.98 2189.49,835.563 2293.48,1405.98 \"/>\n",
       "<polyline clip-path=\"url(#clip774)\" style=\"stroke:#000000; stroke-linecap:round; stroke-linejoin:round; stroke-width:8; stroke-opacity:0.1; fill:none\" points=\"317.65,832.817 421.641,832.805 525.632,832.805 629.624,832.806 733.615,832.806 837.606,832.805 941.597,832.812 1045.59,832.873 1149.58,832.883 1253.57,1012.32 1357.56,1033.73 1461.55,1405.97 1565.54,1405.97 1669.53,1405.97 1773.53,1171.63 1877.52,1405.93 1981.51,1405.95 2085.5,1405.92 2189.49,1154.47 2293.48,1405.98 \"/>\n",
       "<polyline clip-path=\"url(#clip774)\" style=\"stroke:#000000; stroke-linecap:round; stroke-linejoin:round; stroke-width:8; stroke-opacity:0.1; fill:none\" points=\"317.65,832.817 421.641,832.805 525.632,832.805 629.624,832.857 733.615,832.806 837.606,832.806 941.597,832.806 1045.59,832.806 1149.58,832.806 1253.57,832.806 1357.56,832.806 1461.55,832.857 1565.54,832.817 1669.53,832.843 1773.53,832.812 1877.52,1405.95 1981.51,1405.96 2085.5,1192.56 2189.49,832.844 2293.48,1405.98 \"/>\n",
       "<polyline clip-path=\"url(#clip774)\" style=\"stroke:#000000; stroke-linecap:round; stroke-linejoin:round; stroke-width:8; stroke-opacity:0.1; fill:none\" points=\"317.65,832.815 421.641,832.806 525.632,832.806 629.624,832.806 733.615,832.806 837.606,832.806 941.597,832.916 1045.59,1405.98 1149.58,832.808 1253.57,832.806 1357.56,832.806 1461.55,1405.98 1565.54,1405.98 1669.53,1405.98 1773.53,832.806 1877.52,1405.98 1981.51,1405.98 2085.5,836.7 2189.49,832.806 2293.48,1405.98 \"/>\n",
       "<polyline clip-path=\"url(#clip774)\" style=\"stroke:#000000; stroke-linecap:round; stroke-linejoin:round; stroke-width:8; stroke-opacity:0.1; fill:none\" points=\"317.65,832.816 421.641,832.805 525.632,832.805 629.624,832.807 733.615,832.806 837.606,832.806 941.597,832.926 1045.59,1405.98 1149.58,847.722 1253.57,832.806 1357.56,832.806 1461.55,1405.98 1565.54,1405.98 1669.53,1405.98 1773.53,852.389 1877.52,1405.98 1981.51,1399.02 2085.5,938.549 2189.49,832.808 2293.48,1405.98 \"/>\n",
       "<polyline clip-path=\"url(#clip774)\" style=\"stroke:#000000; stroke-linecap:round; stroke-linejoin:round; stroke-width:8; stroke-opacity:0.1; fill:none\" points=\"317.65,832.817 421.641,832.805 525.632,832.805 629.624,832.824 733.615,832.806 837.606,832.806 941.597,832.806 1045.59,833.525 1149.58,833.699 1253.57,1267.25 1357.56,848.074 1461.55,1405.97 1565.54,1405.98 1669.53,1405.97 1773.53,1058.9 1877.52,1405.96 1981.51,1405.97 2085.5,1405.96 2189.49,1028.5 2293.48,1405.98 \"/>\n",
       "<polyline clip-path=\"url(#clip774)\" style=\"stroke:#000000; stroke-linecap:round; stroke-linejoin:round; stroke-width:8; stroke-opacity:0.1; fill:none\" points=\"317.65,832.817 421.641,832.805 525.632,832.805 629.624,832.807 733.615,832.806 837.606,832.806 941.597,832.926 1045.59,1405.98 1149.58,889.666 1253.57,832.806 1357.56,832.806 1461.55,1405.98 1565.54,1405.98 1669.53,1405.98 1773.53,832.806 1877.52,1405.98 1981.51,1405.98 2085.5,949.923 2189.49,832.806 2293.48,1405.98 \"/>\n",
       "<polyline clip-path=\"url(#clip774)\" style=\"stroke:#000000; stroke-linecap:round; stroke-linejoin:round; stroke-width:8; stroke-opacity:0.1; fill:none\" points=\"317.65,832.817 421.641,832.805 525.632,832.805 629.624,832.807 733.615,832.806 837.606,832.807 941.597,832.889 1045.59,1405.97 1149.58,1149.67 1253.57,832.811 1357.56,832.808 1461.55,1405.98 1565.54,1405.98 1669.53,1405.98 1773.53,928.445 1877.52,1405.98 1981.51,1405.98 2085.5,1181.73 2189.49,832.806 2293.48,1405.98 \"/>\n",
       "<polyline clip-path=\"url(#clip774)\" style=\"stroke:#000000; stroke-linecap:round; stroke-linejoin:round; stroke-width:8; stroke-opacity:0.1; fill:none\" points=\"317.65,832.816 421.641,832.805 525.632,832.805 629.624,832.807 733.615,832.806 837.606,832.806 941.597,832.893 1045.59,1405.95 1149.58,1393.58 1253.57,832.815 1357.56,832.81 1461.55,1405.98 1565.54,1405.98 1669.53,1405.98 1773.53,954.899 1877.52,1405.98 1981.51,1405.98 2085.5,1367.81 2189.49,832.806 2293.48,1405.98 \"/>\n",
       "<polyline clip-path=\"url(#clip774)\" style=\"stroke:#000000; stroke-linecap:round; stroke-linejoin:round; stroke-width:8; stroke-opacity:0.1; fill:none\" points=\"317.65,832.816 421.641,832.805 525.632,832.805 629.624,832.808 733.615,832.807 837.606,832.807 941.597,832.812 1045.59,1384.3 1149.58,1405.28 1253.57,1020.7 1357.56,833.431 1461.55,1405.98 1565.54,1405.98 1669.53,1405.98 1773.53,972.024 1877.52,1405.98 1981.51,1405.98 2085.5,1405.98 2189.49,878.74 2293.48,1403.83 \"/>\n",
       "<polyline clip-path=\"url(#clip774)\" style=\"stroke:#000000; stroke-linecap:round; stroke-linejoin:round; stroke-width:8; stroke-opacity:0.1; fill:none\" points=\"317.65,832.817 421.641,832.805 525.632,832.805 629.624,832.808 733.615,832.807 837.606,832.806 941.597,832.806 1045.59,832.81 1149.58,832.809 1253.57,832.812 1357.56,832.911 1461.55,832.908 1565.54,1405.89 1669.53,1405.94 1773.53,1234.13 1877.52,832.883 1981.51,1405.3 2085.5,1405.92 2189.49,1056.13 2293.48,832.933 \"/>\n",
       "<polyline clip-path=\"url(#clip774)\" style=\"stroke:#000000; stroke-linecap:round; stroke-linejoin:round; stroke-width:8; stroke-opacity:0.1; fill:none\" points=\"317.65,832.816 421.641,832.805 525.632,832.805 629.624,832.806 733.615,832.806 837.606,832.806 941.597,832.812 1045.59,834.591 1149.58,832.934 1253.57,832.978 1357.56,1231.73 1461.55,1405.71 1565.54,1405.83 1669.53,1404.03 1773.53,1224.53 1877.52,1405.66 1981.51,1405.68 2085.5,1392.8 2189.49,1234.18 2293.48,1405.92 \"/>\n",
       "<polyline clip-path=\"url(#clip774)\" style=\"stroke:#000000; stroke-linecap:round; stroke-linejoin:round; stroke-width:8; stroke-opacity:0.1; fill:none\" points=\"317.65,832.817 421.641,832.805 525.632,832.805 629.624,832.81 733.615,832.808 837.606,832.809 941.597,832.909 1045.59,1405.98 1149.58,889.912 1253.57,832.808 1357.56,832.807 1461.55,1405.98 1565.54,1405.98 1669.53,1405.98 1773.53,886.964 1877.52,1405.98 1981.51,1405.98 2085.5,972.297 2189.49,832.806 2293.48,1405.98 \"/>\n",
       "<polyline clip-path=\"url(#clip774)\" style=\"stroke:#000000; stroke-linecap:round; stroke-linejoin:round; stroke-width:8; stroke-opacity:0.1; fill:none\" points=\"317.65,832.817 421.641,832.805 525.632,832.805 629.624,832.806 733.615,832.809 837.606,832.806 941.597,832.806 1045.59,832.819 1149.58,832.815 1253.57,832.818 1357.56,1045.21 1461.55,1405.61 1565.54,1405.61 1669.53,1396.81 1773.53,1231.84 1877.52,1405.76 1981.51,1405.74 2085.5,1400.1 2189.49,1222.01 2293.48,1405.97 \"/>\n",
       "<polyline clip-path=\"url(#clip774)\" style=\"stroke:#000000; stroke-linecap:round; stroke-linejoin:round; stroke-width:8; stroke-opacity:0.1; fill:none\" points=\"317.65,832.817 421.641,832.805 525.632,832.805 629.624,832.806 733.615,832.806 837.606,832.806 941.597,832.812 1045.59,1405.25 1149.58,1405.89 1253.57,926.344 1357.56,832.825 1461.55,1405.98 1565.54,1405.98 1669.53,1405.98 1773.53,970.833 1877.52,1405.98 1981.51,1405.98 2085.5,1375.89 2189.49,832.806 2293.48,1405.98 \"/>\n",
       "<polyline clip-path=\"url(#clip774)\" style=\"stroke:#000000; stroke-linecap:round; stroke-linejoin:round; stroke-width:8; stroke-opacity:0.1; fill:none\" points=\"317.65,832.817 421.641,832.805 525.632,832.805 629.624,832.806 733.615,832.806 837.606,832.806 941.597,832.814 1045.59,832.956 1149.58,836.429 1253.57,1256.17 1357.56,833.07 1461.55,1405.94 1565.54,1405.96 1669.53,1405.93 1773.53,1102.2 1877.52,1405.97 1981.51,1405.98 2085.5,1405.97 2189.49,1073.72 2293.48,1405.97 \"/>\n",
       "<polyline clip-path=\"url(#clip774)\" style=\"stroke:#000000; stroke-linecap:round; stroke-linejoin:round; stroke-width:8; stroke-opacity:0.1; fill:none\" points=\"317.65,832.817 421.641,832.805 525.632,832.805 629.624,832.806 733.615,832.806 837.606,832.806 941.597,832.808 1045.59,832.81 1149.58,832.809 1253.57,832.812 1357.56,832.91 1461.55,832.904 1565.54,1405.88 1669.53,1405.94 1773.53,1229.27 1877.52,832.891 1981.51,1405.35 2085.5,1405.91 2189.49,1045.59 2293.48,832.929 \"/>\n",
       "</svg>\n"
      ]
     },
     "execution_count": 23,
     "metadata": {},
     "output_type": "execute_result"
    }
   ],
   "source": [
    "mc_plot(L\"P^{SP} [g/L]\",ts,yspMean[:,1,:],yspPlant,yspMax)"
   ]
  },
  {
   "cell_type": "markdown",
   "id": "6af1a2e2",
   "metadata": {},
   "source": [
    "- Inputs"
   ]
  },
  {
   "cell_type": "code",
   "execution_count": 24,
   "id": "9ac75ab4",
   "metadata": {},
   "outputs": [
    {
     "data": {
      "image/svg+xml": [
       "<?xml version=\"1.0\" encoding=\"utf-8\"?>\n",
       "<svg xmlns=\"http://www.w3.org/2000/svg\" xmlns:xlink=\"http://www.w3.org/1999/xlink\" width=\"600\" height=\"400\" viewBox=\"0 0 2400 1600\">\n",
       "<defs>\n",
       "  <clipPath id=\"clip810\">\n",
       "    <rect x=\"0\" y=\"0\" width=\"2400\" height=\"1600\"/>\n",
       "  </clipPath>\n",
       "</defs>\n",
       "<path clip-path=\"url(#clip810)\" d=\"M0 1600 L2400 1600 L2400 0 L0 0  Z\" fill=\"#ffffff\" fill-rule=\"evenodd\" fill-opacity=\"1\"/>\n",
       "<defs>\n",
       "  <clipPath id=\"clip811\">\n",
       "    <rect x=\"480\" y=\"0\" width=\"1681\" height=\"1600\"/>\n",
       "  </clipPath>\n",
       "</defs>\n",
       "<defs>\n",
       "  <clipPath id=\"clip812\">\n",
       "    <rect x=\"258\" y=\"815\" width=\"2095\" height=\"609\"/>\n",
       "  </clipPath>\n",
       "</defs>\n",
       "<path clip-path=\"url(#clip810)\" d=\"M175.445 654.814 L2352.76 654.814 L2352.76 47.2441 L175.445 47.2441  Z\" fill=\"#ffffff\" fill-rule=\"evenodd\" fill-opacity=\"1\"/>\n",
       "<defs>\n",
       "  <clipPath id=\"clip813\">\n",
       "    <rect x=\"175\" y=\"47\" width=\"2178\" height=\"609\"/>\n",
       "  </clipPath>\n",
       "</defs>\n",
       "<polyline clip-path=\"url(#clip813)\" style=\"stroke:#000000; stroke-linecap:round; stroke-linejoin:round; stroke-width:8; stroke-opacity:0.1; fill:none\" points=\"669.502,654.814 669.502,47.2441 \"/>\n",
       "<polyline clip-path=\"url(#clip813)\" style=\"stroke:#000000; stroke-linecap:round; stroke-linejoin:round; stroke-width:8; stroke-opacity:0.1; fill:none\" points=\"1210.05,654.814 1210.05,47.2441 \"/>\n",
       "<polyline clip-path=\"url(#clip813)\" style=\"stroke:#000000; stroke-linecap:round; stroke-linejoin:round; stroke-width:8; stroke-opacity:0.1; fill:none\" points=\"1750.59,654.814 1750.59,47.2441 \"/>\n",
       "<polyline clip-path=\"url(#clip813)\" style=\"stroke:#000000; stroke-linecap:round; stroke-linejoin:round; stroke-width:8; stroke-opacity:0.1; fill:none\" points=\"2291.13,654.814 2291.13,47.2441 \"/>\n",
       "<polyline clip-path=\"url(#clip810)\" style=\"stroke:#000000; stroke-linecap:round; stroke-linejoin:round; stroke-width:4; stroke-opacity:1; fill:none\" points=\"175.445,654.814 2352.76,654.814 \"/>\n",
       "<polyline clip-path=\"url(#clip810)\" style=\"stroke:#000000; stroke-linecap:round; stroke-linejoin:round; stroke-width:4; stroke-opacity:1; fill:none\" points=\"669.502,654.814 669.502,635.916 \"/>\n",
       "<polyline clip-path=\"url(#clip810)\" style=\"stroke:#000000; stroke-linecap:round; stroke-linejoin:round; stroke-width:4; stroke-opacity:1; fill:none\" points=\"1210.05,654.814 1210.05,635.916 \"/>\n",
       "<polyline clip-path=\"url(#clip810)\" style=\"stroke:#000000; stroke-linecap:round; stroke-linejoin:round; stroke-width:4; stroke-opacity:1; fill:none\" points=\"1750.59,654.814 1750.59,635.916 \"/>\n",
       "<polyline clip-path=\"url(#clip810)\" style=\"stroke:#000000; stroke-linecap:round; stroke-linejoin:round; stroke-width:4; stroke-opacity:1; fill:none\" points=\"2291.13,654.814 2291.13,635.916 \"/>\n",
       "<path clip-path=\"url(#clip810)\" d=\"M659.78 682.654 L678.137 682.654 L678.137 686.589 L664.063 686.589 L664.063 695.061 Q665.081 694.714 666.1 694.552 Q667.118 694.367 668.137 694.367 Q673.924 694.367 677.303 697.538 Q680.683 700.709 680.683 706.126 Q680.683 711.705 677.211 714.806 Q673.738 717.885 667.419 717.885 Q665.243 717.885 662.975 717.515 Q660.729 717.144 658.322 716.404 L658.322 711.705 Q660.405 712.839 662.627 713.394 Q664.85 713.95 667.326 713.95 Q671.331 713.95 673.669 711.844 Q676.007 709.737 676.007 706.126 Q676.007 702.515 673.669 700.408 Q671.331 698.302 667.326 698.302 Q665.451 698.302 663.576 698.719 Q661.725 699.135 659.78 700.015 L659.78 682.654 Z\" fill=\"#000000\" fill-rule=\"evenodd\" fill-opacity=\"1\" /><path clip-path=\"url(#clip810)\" d=\"M1184.73 713.279 L1192.37 713.279 L1192.37 686.913 L1184.06 688.58 L1184.06 684.321 L1192.33 682.654 L1197 682.654 L1197 713.279 L1204.64 713.279 L1204.64 717.214 L1184.73 717.214 L1184.73 713.279 Z\" fill=\"#000000\" fill-rule=\"evenodd\" fill-opacity=\"1\" /><path clip-path=\"url(#clip810)\" d=\"M1224.09 685.733 Q1220.47 685.733 1218.65 689.297 Q1216.84 692.839 1216.84 699.969 Q1216.84 707.075 1218.65 710.64 Q1220.47 714.181 1224.09 714.181 Q1227.72 714.181 1229.53 710.64 Q1231.35 707.075 1231.35 699.969 Q1231.35 692.839 1229.53 689.297 Q1227.72 685.733 1224.09 685.733 M1224.09 682.029 Q1229.9 682.029 1232.95 686.635 Q1236.03 691.219 1236.03 699.969 Q1236.03 708.695 1232.95 713.302 Q1229.9 717.885 1224.09 717.885 Q1218.28 717.885 1215.2 713.302 Q1212.14 708.695 1212.14 699.969 Q1212.14 691.219 1215.2 686.635 Q1218.28 682.029 1224.09 682.029 Z\" fill=\"#000000\" fill-rule=\"evenodd\" fill-opacity=\"1\" /><path clip-path=\"url(#clip810)\" d=\"M1725.78 713.279 L1733.41 713.279 L1733.41 686.913 L1725.1 688.58 L1725.1 684.321 L1733.37 682.654 L1738.04 682.654 L1738.04 713.279 L1745.68 713.279 L1745.68 717.214 L1725.78 717.214 L1725.78 713.279 Z\" fill=\"#000000\" fill-rule=\"evenodd\" fill-opacity=\"1\" /><path clip-path=\"url(#clip810)\" d=\"M1755.17 682.654 L1773.53 682.654 L1773.53 686.589 L1759.46 686.589 L1759.46 695.061 Q1760.47 694.714 1761.49 694.552 Q1762.51 694.367 1763.53 694.367 Q1769.32 694.367 1772.7 697.538 Q1776.08 700.709 1776.08 706.126 Q1776.08 711.705 1772.6 714.806 Q1769.13 717.885 1762.81 717.885 Q1760.64 717.885 1758.37 717.515 Q1756.12 717.144 1753.72 716.404 L1753.72 711.705 Q1755.8 712.839 1758.02 713.394 Q1760.24 713.95 1762.72 713.95 Q1766.72 713.95 1769.06 711.844 Q1771.4 709.737 1771.4 706.126 Q1771.4 702.515 1769.06 700.408 Q1766.72 698.302 1762.72 698.302 Q1760.84 698.302 1758.97 698.719 Q1757.12 699.135 1755.17 700.015 L1755.17 682.654 Z\" fill=\"#000000\" fill-rule=\"evenodd\" fill-opacity=\"1\" /><path clip-path=\"url(#clip810)\" d=\"M2269.91 713.279 L2286.23 713.279 L2286.23 717.214 L2264.28 717.214 L2264.28 713.279 Q2266.94 710.524 2271.53 705.894 Q2276.13 701.242 2277.31 699.899 Q2279.56 697.376 2280.44 695.64 Q2281.34 693.881 2281.34 692.191 Q2281.34 689.436 2279.4 687.7 Q2277.48 685.964 2274.37 685.964 Q2272.18 685.964 2269.72 686.728 Q2267.29 687.492 2264.51 689.043 L2264.51 684.321 Q2267.34 683.186 2269.79 682.608 Q2272.25 682.029 2274.28 682.029 Q2279.65 682.029 2282.85 684.714 Q2286.04 687.399 2286.04 691.89 Q2286.04 694.02 2285.23 695.941 Q2284.44 697.839 2282.34 700.432 Q2281.76 701.103 2278.66 704.32 Q2275.56 707.515 2269.91 713.279 Z\" fill=\"#000000\" fill-rule=\"evenodd\" fill-opacity=\"1\" /><path clip-path=\"url(#clip810)\" d=\"M2306.04 685.733 Q2302.43 685.733 2300.6 689.297 Q2298.8 692.839 2298.8 699.969 Q2298.8 707.075 2300.6 710.64 Q2302.43 714.181 2306.04 714.181 Q2309.68 714.181 2311.48 710.64 Q2313.31 707.075 2313.31 699.969 Q2313.31 692.839 2311.48 689.297 Q2309.68 685.733 2306.04 685.733 M2306.04 682.029 Q2311.85 682.029 2314.91 686.635 Q2317.99 691.219 2317.99 699.969 Q2317.99 708.695 2314.91 713.302 Q2311.85 717.885 2306.04 717.885 Q2300.23 717.885 2297.15 713.302 Q2294.1 708.695 2294.1 699.969 Q2294.1 691.219 2297.15 686.635 Q2300.23 682.029 2306.04 682.029 Z\" fill=\"#000000\" fill-rule=\"evenodd\" fill-opacity=\"1\" /><polyline clip-path=\"url(#clip813)\" style=\"stroke:#000000; stroke-linecap:round; stroke-linejoin:round; stroke-width:8; stroke-opacity:0.1; fill:none\" points=\"175.445,637.618 2352.76,637.618 \"/>\n",
       "<polyline clip-path=\"url(#clip813)\" style=\"stroke:#000000; stroke-linecap:round; stroke-linejoin:round; stroke-width:8; stroke-opacity:0.1; fill:none\" points=\"175.445,494.324 2352.76,494.324 \"/>\n",
       "<polyline clip-path=\"url(#clip813)\" style=\"stroke:#000000; stroke-linecap:round; stroke-linejoin:round; stroke-width:8; stroke-opacity:0.1; fill:none\" points=\"175.445,351.029 2352.76,351.029 \"/>\n",
       "<polyline clip-path=\"url(#clip813)\" style=\"stroke:#000000; stroke-linecap:round; stroke-linejoin:round; stroke-width:8; stroke-opacity:0.1; fill:none\" points=\"175.445,207.734 2352.76,207.734 \"/>\n",
       "<polyline clip-path=\"url(#clip813)\" style=\"stroke:#000000; stroke-linecap:round; stroke-linejoin:round; stroke-width:8; stroke-opacity:0.1; fill:none\" points=\"175.445,64.4395 2352.76,64.4395 \"/>\n",
       "<polyline clip-path=\"url(#clip810)\" style=\"stroke:#000000; stroke-linecap:round; stroke-linejoin:round; stroke-width:4; stroke-opacity:1; fill:none\" points=\"175.445,654.814 175.445,47.2441 \"/>\n",
       "<polyline clip-path=\"url(#clip810)\" style=\"stroke:#000000; stroke-linecap:round; stroke-linejoin:round; stroke-width:4; stroke-opacity:1; fill:none\" points=\"175.445,637.618 194.343,637.618 \"/>\n",
       "<polyline clip-path=\"url(#clip810)\" style=\"stroke:#000000; stroke-linecap:round; stroke-linejoin:round; stroke-width:4; stroke-opacity:1; fill:none\" points=\"175.445,494.324 194.343,494.324 \"/>\n",
       "<polyline clip-path=\"url(#clip810)\" style=\"stroke:#000000; stroke-linecap:round; stroke-linejoin:round; stroke-width:4; stroke-opacity:1; fill:none\" points=\"175.445,351.029 194.343,351.029 \"/>\n",
       "<polyline clip-path=\"url(#clip810)\" style=\"stroke:#000000; stroke-linecap:round; stroke-linejoin:round; stroke-width:4; stroke-opacity:1; fill:none\" points=\"175.445,207.734 194.343,207.734 \"/>\n",
       "<polyline clip-path=\"url(#clip810)\" style=\"stroke:#000000; stroke-linecap:round; stroke-linejoin:round; stroke-width:4; stroke-opacity:1; fill:none\" points=\"175.445,64.4395 194.343,64.4395 \"/>\n",
       "<path clip-path=\"url(#clip810)\" d=\"M119.538 650.963 L127.177 650.963 L127.177 624.598 L118.867 626.264 L118.867 622.005 L127.13 620.338 L131.806 620.338 L131.806 650.963 L139.445 650.963 L139.445 654.898 L119.538 654.898 L119.538 650.963 Z\" fill=\"#000000\" fill-rule=\"evenodd\" fill-opacity=\"1\" /><path clip-path=\"url(#clip810)\" d=\"M123.126 507.669 L139.445 507.669 L139.445 511.604 L117.501 511.604 L117.501 507.669 Q120.163 504.914 124.746 500.284 Q129.353 495.632 130.533 494.289 Q132.779 491.766 133.658 490.03 Q134.561 488.271 134.561 486.581 Q134.561 483.826 132.617 482.09 Q130.695 480.354 127.593 480.354 Q125.394 480.354 122.941 481.118 Q120.51 481.882 117.732 483.433 L117.732 478.71 Q120.556 477.576 123.01 476.997 Q125.464 476.419 127.501 476.419 Q132.871 476.419 136.066 479.104 Q139.26 481.789 139.26 486.28 Q139.26 488.409 138.45 490.331 Q137.663 492.229 135.556 494.821 Q134.978 495.493 131.876 498.71 Q128.774 501.905 123.126 507.669 Z\" fill=\"#000000\" fill-rule=\"evenodd\" fill-opacity=\"1\" /><path clip-path=\"url(#clip810)\" d=\"M132.316 349.675 Q135.672 350.392 137.547 352.661 Q139.445 354.929 139.445 358.263 Q139.445 363.378 135.927 366.179 Q132.408 368.98 125.927 368.98 Q123.751 368.98 121.436 368.54 Q119.144 368.124 116.691 367.267 L116.691 362.753 Q118.635 363.888 120.95 364.466 Q123.265 365.045 125.788 365.045 Q130.186 365.045 132.478 363.309 Q134.792 361.573 134.792 358.263 Q134.792 355.207 132.64 353.494 Q130.51 351.758 126.691 351.758 L122.663 351.758 L122.663 347.916 L126.876 347.916 Q130.325 347.916 132.154 346.55 Q133.982 345.161 133.982 342.568 Q133.982 339.906 132.084 338.494 Q130.209 337.059 126.691 337.059 Q124.769 337.059 122.57 337.476 Q120.371 337.892 117.732 338.772 L117.732 334.605 Q120.394 333.865 122.709 333.494 Q125.047 333.124 127.107 333.124 Q132.431 333.124 135.533 335.555 Q138.635 337.962 138.635 342.082 Q138.635 344.953 136.992 346.943 Q135.348 348.911 132.316 349.675 Z\" fill=\"#000000\" fill-rule=\"evenodd\" fill-opacity=\"1\" /><path clip-path=\"url(#clip810)\" d=\"M129.862 194.528 L118.056 212.977 L129.862 212.977 L129.862 194.528 M128.635 190.454 L134.515 190.454 L134.515 212.977 L139.445 212.977 L139.445 216.866 L134.515 216.866 L134.515 225.014 L129.862 225.014 L129.862 216.866 L114.26 216.866 L114.26 212.352 L128.635 190.454 Z\" fill=\"#000000\" fill-rule=\"evenodd\" fill-opacity=\"1\" /><path clip-path=\"url(#clip810)\" d=\"M118.543 47.1595 L136.899 47.1595 L136.899 51.0946 L122.825 51.0946 L122.825 59.5668 Q123.843 59.2196 124.862 59.0575 Q125.88 58.8724 126.899 58.8724 Q132.686 58.8724 136.066 62.0436 Q139.445 65.2149 139.445 70.6316 Q139.445 76.2102 135.973 79.3121 Q132.501 82.3908 126.181 82.3908 Q124.005 82.3908 121.737 82.0204 Q119.492 81.65 117.084 80.9093 L117.084 76.2102 Q119.168 77.3445 121.39 77.9 Q123.612 78.4556 126.089 78.4556 Q130.093 78.4556 132.431 76.3491 Q134.769 74.2427 134.769 70.6316 Q134.769 67.0205 132.431 64.914 Q130.093 62.8075 126.089 62.8075 Q124.214 62.8075 122.339 63.2242 Q120.487 63.6409 118.543 64.5205 L118.543 47.1595 Z\" fill=\"#000000\" fill-rule=\"evenodd\" fill-opacity=\"1\" /><path clip-path=\"url(#clip810)\" d=\"M18.3741 423.868 L35.1855 428.023 Q36.2483 428.312 36.3771 428.506 Q36.506 428.667 36.506 429.182 Q36.506 430.18 35.8296 430.18 Q35.7652 430.18 34.9279 430.084 Q34.0583 429.987 32.4802 429.987 Q26.651 429.987 23.2049 432.821 Q19.7589 435.623 19.7589 440.615 Q19.7589 444.931 21.9489 449.278 Q24.1389 453.594 27.7138 456.686 Q30.4191 459.005 33.8329 460.712 Q37.2467 462.386 40.3707 463.191 Q43.4946 463.964 45.8457 464.319 Q48.1967 464.673 49.9036 464.673 Q52.3835 464.673 54.4768 464.158 Q56.5702 463.61 58.0517 462.644 Q59.5009 461.678 60.6282 460.454 Q61.7231 459.198 62.3673 457.749 Q63.0114 456.267 63.3334 454.786 Q63.6233 453.304 63.6233 451.758 Q63.6233 445.543 58.7924 439.617 Q54.8311 434.915 48.3577 432.95 Q47.7136 432.789 47.7136 432.113 Q47.7136 431.308 48.3577 431.308 Q48.4865 431.308 49.1307 431.469 Q49.7426 431.63 50.9986 432.113 Q52.2224 432.596 53.6073 433.337 Q54.9921 434.077 56.7312 435.462 Q58.4704 436.847 59.984 438.554 Q62.4961 441.452 64.0742 445.124 Q65.6523 448.795 65.6523 452.821 Q65.6523 457.845 63.4301 461.903 Q61.2079 465.961 57.0533 468.344 Q52.8987 470.695 47.5848 470.695 Q41.981 470.695 36.4738 468.119 Q30.9666 465.542 26.8764 461.452 Q22.7863 457.362 20.242 451.952 Q17.6977 446.541 17.6977 441.13 Q17.6977 439.069 18.2452 437.233 Q18.7927 435.398 19.4691 434.303 Q20.1454 433.176 21.1438 432.177 Q22.1099 431.179 22.5608 430.857 Q23.0117 430.502 23.5592 430.18 L18.5029 425.575 Q17.6977 424.77 17.6977 424.577 Q17.6977 424.19 17.9232 424.029 Q18.1486 423.868 18.3741 423.868 Z\" fill=\"#000000\" fill-rule=\"evenodd\" fill-opacity=\"1\" /><path clip-path=\"url(#clip810)\" d=\"M54.9228 405.49 Q55.9147 405.49 56.6587 406.301 Q57.3801 407.09 57.3801 407.947 Q57.3801 408.736 56.9067 409.232 Q56.4107 409.706 55.7118 409.706 Q54.7875 409.706 54.021 408.916 Q53.2545 408.127 53.2545 407.203 Q53.2545 406.437 53.728 405.963 Q54.2014 405.49 54.9228 405.49 M77.1738 405.084 Q77.3542 405.084 78.0756 405.287 Q78.7745 405.49 79.8566 405.986 Q80.9162 406.459 81.9081 407.113 Q82.9 407.767 83.5989 408.849 Q84.2978 409.908 84.2978 411.126 Q84.2978 412.772 83.2156 413.854 Q82.1335 414.913 80.5104 414.913 Q79.6311 414.913 76.8131 413.854 Q68.6071 410.788 68.2689 410.675 Q66.9839 410.156 65.8567 410.156 Q65.3382 410.156 65.0226 410.269 Q64.6844 410.382 64.5717 410.607 Q64.4364 410.833 64.4139 410.968 Q64.3913 411.081 64.3913 411.306 Q64.3913 412.636 65.744 413.876 Q67.0966 415.116 70.1175 415.973 Q70.6811 416.153 70.8164 416.266 Q70.9517 416.379 70.9517 416.717 Q70.9291 417.28 70.4782 417.28 Q70.343 417.28 69.8245 417.123 Q69.2834 416.965 68.4718 416.672 Q67.6377 416.379 66.781 415.86 Q65.9018 415.342 65.1353 414.71 Q64.3688 414.057 63.8728 413.132 Q63.3768 412.208 63.3768 411.171 Q63.3768 409.48 64.4815 408.443 Q65.5636 407.383 67.1642 407.383 Q68.0435 407.383 69.599 407.992 Q71.628 408.736 72.2818 409.007 L77.1287 410.81 Q78.8872 411.464 79.4282 411.667 Q79.9468 411.847 80.578 412.005 Q81.1867 412.14 81.7503 412.14 Q82.5393 412.14 82.9 411.892 Q83.2607 411.622 83.2607 411.036 Q83.2607 409.412 81.6601 408.218 Q80.0369 407.023 77.5571 406.324 Q77.4894 406.301 77.3767 406.279 Q76.8131 406.098 76.7455 405.918 Q76.7229 405.828 76.7229 405.648 Q76.7229 405.084 77.1738 405.084 Z\" fill=\"#000000\" fill-rule=\"evenodd\" fill-opacity=\"1\" /><path clip-path=\"url(#clip810)\" d=\"M77.1738 376.123 Q77.3542 376.123 78.053 376.325 Q78.7519 376.528 79.834 377.024 Q80.9162 377.498 81.9081 378.152 Q82.8775 378.805 83.5989 379.887 Q84.2978 380.947 84.2978 382.164 Q84.2978 383.788 83.2156 384.87 Q82.1335 385.952 80.5104 385.952 Q79.6086 385.952 78.3687 385.478 Q70.3655 382.48 67.6151 382.48 Q64.3913 382.48 64.3913 384.982 Q64.3913 386.222 64.8647 387.395 Q65.3156 388.544 65.9469 389.333 Q66.5781 390.122 67.4573 390.844 Q68.314 391.543 68.9001 391.903 Q69.4637 392.242 70.0273 392.512 L72.3268 393.098 Q72.9581 393.234 75.4154 393.887 L79.586 394.902 Q82.6971 395.623 82.9902 395.781 Q83.6214 396.006 83.9596 396.502 Q84.2978 396.998 84.2978 397.494 Q84.2978 398.058 83.9596 398.441 Q83.6214 398.824 83.0353 398.824 Q82.9451 398.824 82.607 398.757 Q82.2688 398.689 81.7954 398.576 Q81.3219 398.464 81.0514 398.419 L70.3881 395.736 Q68.4493 395.24 67.8406 395.127 Q67.2093 394.992 66.5105 394.992 Q64.3913 394.992 64.3913 396.435 Q64.3913 397.607 65.7891 398.374 Q67.1868 399.14 69.8921 399.794 Q70.636 399.997 70.7938 400.132 Q70.9517 400.245 70.9517 400.583 Q70.9291 401.147 70.4782 401.147 Q70.3655 401.147 69.6216 400.966 Q68.8776 400.786 67.818 400.448 Q66.7359 400.087 66.0145 399.749 Q65.4734 399.456 65.2255 399.298 Q64.9549 399.118 64.4364 398.689 Q63.8954 398.238 63.6474 397.652 Q63.3768 397.043 63.3768 396.3 Q63.3768 394.631 64.459 393.414 Q65.5185 392.197 67.3897 392.039 Q63.3768 389.04 63.3768 384.847 Q63.3768 382.367 64.6844 380.947 Q65.992 379.527 68.314 379.527 Q68.8551 379.527 69.5539 379.639 Q70.2302 379.73 71.0869 379.955 Q71.9436 380.158 72.5974 380.338 Q73.2512 380.519 74.3107 380.879 Q75.3478 381.24 75.7986 381.398 Q76.2495 381.556 77.3091 381.939 Q78.3461 382.3 78.4588 382.345 Q80.5554 383.179 81.7503 383.179 Q82.5393 383.179 82.9 382.931 Q83.2607 382.66 83.2607 382.074 Q83.2607 380.496 81.7052 379.324 Q80.1271 378.129 77.5571 377.362 Q76.9935 377.182 76.8582 377.092 Q76.7229 376.979 76.7229 376.664 Q76.7229 376.123 77.1738 376.123 Z\" fill=\"#000000\" fill-rule=\"evenodd\" fill-opacity=\"1\" /><path clip-path=\"url(#clip810)\" d=\"M80.6924 366.687 L14.7348 366.687 L14.7348 356.735 L16.2485 356.735 L16.2485 362.274 L79.1787 362.274 L79.1787 356.735 L80.6924 356.735 L80.6924 366.687 Z\" fill=\"#000000\" fill-rule=\"evenodd\" fill-opacity=\"1\" /><path clip-path=\"url(#clip810)\" d=\"M38.1485 326.183 Q38.1807 326.183 39.3401 326.376 L68.6152 333.719 Q70.1611 334.105 71.707 335.2 Q73.2851 336.263 74.6377 337.97 Q76.0226 339.645 76.8599 342.221 Q77.7295 344.766 77.7295 347.696 Q77.7295 352.366 76.7311 354.427 Q75.7649 356.456 73.7037 356.456 Q71.9002 356.456 70.8696 355.329 Q69.8712 354.202 69.8712 352.914 Q69.8712 351.69 70.5798 351.046 Q71.2883 350.402 72.1901 350.402 Q73.1884 350.402 74.1868 351.078 Q75.2174 351.754 75.6039 353.107 Q76.2802 350.949 76.2802 347.825 Q76.2802 341.223 69.2915 338.389 Q69.1949 338.324 69.1627 338.324 L60.4349 336.134 L60.3705 336.231 Q61.0146 336.779 61.7554 337.648 Q62.4639 338.485 63.3334 340.289 Q64.203 342.093 64.203 343.864 Q64.203 347.568 61.3689 350.112 Q58.5026 352.624 53.7683 352.624 Q50.3223 352.624 46.8762 351.239 Q43.398 349.822 40.8538 347.632 Q38.2773 345.41 36.667 342.576 Q35.0567 339.709 35.0567 336.94 Q35.0567 335.007 36.2161 333.365 Q37.3433 331.722 39.2113 330.82 Q37.6654 330.659 37.0213 329.79 Q36.3771 328.888 36.3771 328.115 Q36.3771 327.246 36.8602 326.73 Q37.3111 326.183 38.1485 326.183 M42.1742 331.593 Q41.981 331.593 41.4657 331.722 Q40.9182 331.851 40.0486 332.238 Q39.179 332.592 38.4061 333.139 Q37.6332 333.687 37.0857 334.685 Q36.506 335.651 36.506 336.875 Q36.506 338.872 38.1807 340.869 Q39.8232 342.865 42.3674 344.25 Q44.8151 345.539 49.5493 346.762 Q54.2836 347.954 56.699 347.954 Q59.0823 347.954 60.918 346.923 Q62.7537 345.893 62.7537 343.671 Q62.7537 341.094 60.3705 338.324 Q57.8907 335.458 55.7651 334.975 L43.1726 331.787 Q42.3996 331.593 42.1742 331.593 Z\" fill=\"#000000\" fill-rule=\"evenodd\" fill-opacity=\"1\" /><path clip-path=\"url(#clip810)\" d=\"M79.7584 325.323 Q79.4364 325.323 78.7278 325.066 L16.5061 301.781 Q16.4417 301.781 16.0874 301.62 Q15.7332 301.459 15.5077 301.362 Q15.2501 301.266 15.0569 301.072 Q14.8636 300.847 14.8636 300.589 Q14.8636 299.945 15.6688 299.945 Q15.7332 299.945 16.5061 300.138 L78.7923 323.488 Q79.9195 323.874 80.2415 324.132 Q80.5636 324.357 80.5636 324.744 Q80.5636 325.323 79.7584 325.323 Z\" fill=\"#000000\" fill-rule=\"evenodd\" fill-opacity=\"1\" /><path clip-path=\"url(#clip810)\" d=\"M47.9068 252.821 Q48.1001 252.821 48.8408 253.078 L63.0758 258.296 Q63.9131 258.586 64.0742 258.875 Q64.203 259.165 64.203 260.357 L64.203 290.888 Q64.203 291.629 64.1708 291.919 Q64.1386 292.208 63.9776 292.434 Q63.8165 292.659 63.4623 292.659 Q62.8181 292.659 62.5283 292.434 Q62.2384 292.176 62.2062 291.886 Q62.174 291.597 62.174 290.888 Q62.174 289.278 62.0774 288.312 Q61.9808 287.345 61.852 286.733 Q61.6909 286.089 61.2401 285.767 Q60.7892 285.413 60.4027 285.252 Q59.984 285.091 59.0501 284.866 L23.6236 276.041 Q22.5608 275.783 22.3998 275.783 Q21.7879 275.783 21.6269 276.17 Q21.4336 276.524 21.337 277.555 L21.2082 280.067 Q21.2082 280.84 21.176 281.162 Q21.1438 281.452 20.9827 281.677 Q20.8217 281.903 20.4674 281.903 Q19.8555 281.903 19.5657 281.677 Q19.2436 281.419 19.2114 281.226 Q19.147 281.001 19.147 280.647 L19.3402 271.887 L19.147 262.128 Q19.147 261.065 19.9521 261.065 Q20.8539 261.065 21.0471 261.516 Q21.2082 261.967 21.2082 263.577 Q21.2082 266.669 21.5302 268.086 Q21.8523 269.471 22.3998 269.858 Q22.9151 270.212 24.2999 270.566 L59.9196 279.487 Q61.1112 279.809 61.4333 279.809 Q61.7876 279.809 61.9164 279.648 Q62.013 279.455 62.0774 278.94 Q62.174 278.36 62.174 277.49 L62.174 271.307 Q62.174 269.439 61.8842 267.796 Q61.5943 266.154 61.1757 264.898 Q60.757 263.61 59.984 262.45 Q59.2111 261.291 58.5348 260.486 Q57.8262 259.648 56.7312 258.843 Q55.604 258.006 54.8311 257.523 Q54.0259 257.007 52.7377 256.428 Q51.4173 255.848 50.6765 255.558 Q49.9036 255.236 48.5832 254.753 Q47.9068 254.463 47.7136 254.367 Q47.5204 254.27 47.3593 254.109 Q47.1983 253.916 47.1983 253.626 Q47.1983 253.239 47.4237 253.046 Q47.6492 252.821 47.9068 252.821 Z\" fill=\"#000000\" fill-rule=\"evenodd\" fill-opacity=\"1\" /><path clip-path=\"url(#clip810)\" d=\"M79.1787 249.513 L79.1787 243.973 L16.2485 243.973 L16.2485 249.513 L14.7348 249.513 L14.7348 239.561 L80.6924 239.561 L80.6924 249.513 L79.1787 249.513 Z\" fill=\"#000000\" fill-rule=\"evenodd\" fill-opacity=\"1\" /><polyline clip-path=\"url(#clip813)\" style=\"stroke:#000000; stroke-linecap:round; stroke-linejoin:round; stroke-width:4; stroke-opacity:1; fill:none\" stroke-dasharray=\"2, 4\" points=\"237.067,64.4395 345.176,64.4395 453.285,64.4395 561.394,64.4395 669.502,64.4395 777.611,64.4395 885.72,64.4395 993.829,64.4395 1101.94,64.4395 1210.05,64.4395 1318.15,64.4395 1426.26,64.4395 1534.37,64.4395 1642.48,64.4395 1750.59,64.4395 1858.7,64.4395 1966.81,64.4395 2074.92,64.4395 2183.03,64.4395 2291.13,64.4395 \"/>\n",
       "<polyline clip-path=\"url(#clip813)\" style=\"stroke:#000000; stroke-linecap:round; stroke-linejoin:round; stroke-width:12; stroke-opacity:1; fill:none\" points=\"237.067,637.618 345.176,557.503 453.285,508.718 561.394,478.314 669.502,457.258 777.611,440.826 885.72,426.958 993.829,423.157 1101.94,427.665 1210.05,427.205 1318.15,421.258 1426.26,418.203 1534.37,453.001 1642.48,455.15 1750.59,440.032 1858.7,421.565 1966.81,449.805 2074.92,448.886 2183.03,433.572 2291.13,416.966 \"/>\n",
       "<circle clip-path=\"url(#clip813)\" cx=\"237.067\" cy=\"637.618\" r=\"10.8\" fill=\"#000000\" fill-rule=\"evenodd\" fill-opacity=\"1\" stroke=\"none\"/>\n",
       "<circle clip-path=\"url(#clip813)\" cx=\"345.176\" cy=\"557.503\" r=\"10.8\" fill=\"#000000\" fill-rule=\"evenodd\" fill-opacity=\"1\" stroke=\"none\"/>\n",
       "<circle clip-path=\"url(#clip813)\" cx=\"453.285\" cy=\"508.718\" r=\"10.8\" fill=\"#000000\" fill-rule=\"evenodd\" fill-opacity=\"1\" stroke=\"none\"/>\n",
       "<circle clip-path=\"url(#clip813)\" cx=\"561.394\" cy=\"478.314\" r=\"10.8\" fill=\"#000000\" fill-rule=\"evenodd\" fill-opacity=\"1\" stroke=\"none\"/>\n",
       "<circle clip-path=\"url(#clip813)\" cx=\"669.502\" cy=\"457.258\" r=\"10.8\" fill=\"#000000\" fill-rule=\"evenodd\" fill-opacity=\"1\" stroke=\"none\"/>\n",
       "<circle clip-path=\"url(#clip813)\" cx=\"777.611\" cy=\"440.826\" r=\"10.8\" fill=\"#000000\" fill-rule=\"evenodd\" fill-opacity=\"1\" stroke=\"none\"/>\n",
       "<circle clip-path=\"url(#clip813)\" cx=\"885.72\" cy=\"426.958\" r=\"10.8\" fill=\"#000000\" fill-rule=\"evenodd\" fill-opacity=\"1\" stroke=\"none\"/>\n",
       "<circle clip-path=\"url(#clip813)\" cx=\"993.829\" cy=\"423.157\" r=\"10.8\" fill=\"#000000\" fill-rule=\"evenodd\" fill-opacity=\"1\" stroke=\"none\"/>\n",
       "<circle clip-path=\"url(#clip813)\" cx=\"1101.94\" cy=\"427.665\" r=\"10.8\" fill=\"#000000\" fill-rule=\"evenodd\" fill-opacity=\"1\" stroke=\"none\"/>\n",
       "<circle clip-path=\"url(#clip813)\" cx=\"1210.05\" cy=\"427.205\" r=\"10.8\" fill=\"#000000\" fill-rule=\"evenodd\" fill-opacity=\"1\" stroke=\"none\"/>\n",
       "<circle clip-path=\"url(#clip813)\" cx=\"1318.15\" cy=\"421.258\" r=\"10.8\" fill=\"#000000\" fill-rule=\"evenodd\" fill-opacity=\"1\" stroke=\"none\"/>\n",
       "<circle clip-path=\"url(#clip813)\" cx=\"1426.26\" cy=\"418.203\" r=\"10.8\" fill=\"#000000\" fill-rule=\"evenodd\" fill-opacity=\"1\" stroke=\"none\"/>\n",
       "<circle clip-path=\"url(#clip813)\" cx=\"1534.37\" cy=\"453.001\" r=\"10.8\" fill=\"#000000\" fill-rule=\"evenodd\" fill-opacity=\"1\" stroke=\"none\"/>\n",
       "<circle clip-path=\"url(#clip813)\" cx=\"1642.48\" cy=\"455.15\" r=\"10.8\" fill=\"#000000\" fill-rule=\"evenodd\" fill-opacity=\"1\" stroke=\"none\"/>\n",
       "<circle clip-path=\"url(#clip813)\" cx=\"1750.59\" cy=\"440.032\" r=\"10.8\" fill=\"#000000\" fill-rule=\"evenodd\" fill-opacity=\"1\" stroke=\"none\"/>\n",
       "<circle clip-path=\"url(#clip813)\" cx=\"1858.7\" cy=\"421.565\" r=\"10.8\" fill=\"#000000\" fill-rule=\"evenodd\" fill-opacity=\"1\" stroke=\"none\"/>\n",
       "<circle clip-path=\"url(#clip813)\" cx=\"1966.81\" cy=\"449.805\" r=\"10.8\" fill=\"#000000\" fill-rule=\"evenodd\" fill-opacity=\"1\" stroke=\"none\"/>\n",
       "<circle clip-path=\"url(#clip813)\" cx=\"2074.92\" cy=\"448.886\" r=\"10.8\" fill=\"#000000\" fill-rule=\"evenodd\" fill-opacity=\"1\" stroke=\"none\"/>\n",
       "<circle clip-path=\"url(#clip813)\" cx=\"2183.03\" cy=\"433.572\" r=\"10.8\" fill=\"#000000\" fill-rule=\"evenodd\" fill-opacity=\"1\" stroke=\"none\"/>\n",
       "<circle clip-path=\"url(#clip813)\" cx=\"2291.13\" cy=\"416.966\" r=\"10.8\" fill=\"#000000\" fill-rule=\"evenodd\" fill-opacity=\"1\" stroke=\"none\"/>\n",
       "<polyline clip-path=\"url(#clip813)\" style=\"stroke:#000000; stroke-linecap:round; stroke-linejoin:round; stroke-width:8; stroke-opacity:0.1; fill:none\" points=\"237.067,637.618 345.176,557.503 453.285,515.436 561.394,493.672 669.502,481.661 777.611,474.161 885.72,468.891 993.829,464.91 1101.94,470.079 1210.05,464.521 1318.15,460.921 1426.26,458.462 1534.37,492.181 1642.48,493.984 1750.59,483.609 1858.7,474.054 1966.81,493.686 2074.92,488.58 2183.03,477.467 2291.13,470.712 \"/>\n",
       "<polyline clip-path=\"url(#clip813)\" style=\"stroke:#000000; stroke-linecap:round; stroke-linejoin:round; stroke-width:8; stroke-opacity:0.1; fill:none\" points=\"237.067,637.618 345.176,557.503 453.285,507.678 561.394,475.97 669.502,453.581 777.611,435.864 885.72,420.747 993.829,413.767 1101.94,431.084 1210.05,421.969 1318.15,406.548 1426.26,413.008 1534.37,445.643 1642.48,444.163 1750.59,426.749 1858.7,406.481 1966.81,440.843 2074.92,439.845 2183.03,422.391 2291.13,402.618 \"/>\n",
       "<polyline clip-path=\"url(#clip813)\" style=\"stroke:#000000; stroke-linecap:round; stroke-linejoin:round; stroke-width:8; stroke-opacity:0.1; fill:none\" points=\"237.067,637.618 345.176,557.503 453.285,511.908 561.394,485.71 669.502,469.156 777.611,457.272 885.72,447.874 993.829,440.048 1101.94,445.825 1210.05,437.559 1318.15,429.599 1426.26,423.784 1534.37,468.675 1642.48,474.818 1750.59,462.772 1858.7,447.533 1966.81,471.294 2074.92,467.155 2183.03,453.378 2291.13,441.747 \"/>\n",
       "<polyline clip-path=\"url(#clip813)\" style=\"stroke:#000000; stroke-linecap:round; stroke-linejoin:round; stroke-width:8; stroke-opacity:0.1; fill:none\" points=\"237.067,637.618 345.176,557.503 453.285,508.716 561.394,478.379 669.502,457.459 777.611,441.227 885.72,427.584 993.829,418.019 1101.94,436.204 1210.05,427.328 1318.15,410.94 1426.26,409.758 1534.37,447.379 1642.48,448.692 1750.59,433.1 1858.7,414.516 1966.81,447.599 2074.92,446.355 2183.03,429.38 2291.13,411.096 \"/>\n",
       "<polyline clip-path=\"url(#clip813)\" style=\"stroke:#000000; stroke-linecap:round; stroke-linejoin:round; stroke-width:8; stroke-opacity:0.1; fill:none\" points=\"237.067,637.618 345.176,557.503 453.285,505.085 561.394,469.911 669.502,443.766 777.611,422.209 885.72,403.237 993.829,406.587 1101.94,397.626 1210.05,411.833 1318.15,415.782 1426.26,411.972 1534.37,440.705 1642.48,436.818 1750.59,416.761 1858.7,391.861 1966.81,430.099 2074.92,430.102 2183.03,411.402 2291.13,387.085 \"/>\n",
       "<polyline clip-path=\"url(#clip813)\" style=\"stroke:#000000; stroke-linecap:round; stroke-linejoin:round; stroke-width:8; stroke-opacity:0.1; fill:none\" points=\"237.067,637.618 345.176,557.503 453.285,508.318 561.394,477.456 669.502,455.975 777.611,439.177 885.72,424.973 993.829,415.775 1101.94,434.39 1210.05,425.435 1318.15,408.428 1426.26,411.184 1534.37,446.084 1642.48,445.885 1750.59,429.412 1858.7,410.283 1966.81,443.788 2074.92,442.596 2183.03,425.454 2291.13,406.722 \"/>\n",
       "<polyline clip-path=\"url(#clip813)\" style=\"stroke:#000000; stroke-linecap:round; stroke-linejoin:round; stroke-width:8; stroke-opacity:0.1; fill:none\" points=\"237.067,637.618 345.176,557.503 453.285,513.334 561.394,488.946 669.502,474.266 777.611,464.211 885.72,456.557 993.829,450.38 1101.94,454.073 1210.05,446.795 1318.15,441.434 1426.26,437.466 1534.37,480.892 1642.48,486.553 1750.59,474.596 1858.7,460.356 1966.81,477.567 2074.92,470.886 2183.03,458.589 2291.13,450.767 \"/>\n",
       "<polyline clip-path=\"url(#clip813)\" style=\"stroke:#000000; stroke-linecap:round; stroke-linejoin:round; stroke-width:8; stroke-opacity:0.1; fill:none\" points=\"237.067,637.618 345.176,557.503 453.285,513.012 561.394,488.218 669.502,473.12 777.611,462.659 885.72,454.62 993.829,448.081 1101.94,451.875 1210.05,444.342 1318.15,438.545 1426.26,434.243 1534.37,477.387 1642.48,482.837 1750.59,470.762 1858.7,456.459 1966.81,476.548 2074.92,471.099 2183.03,458.479 2291.13,449.45 \"/>\n",
       "<polyline clip-path=\"url(#clip813)\" style=\"stroke:#000000; stroke-linecap:round; stroke-linejoin:round; stroke-width:8; stroke-opacity:0.1; fill:none\" points=\"237.067,637.618 345.176,557.503 453.285,506.553 561.394,473.349 669.502,449.345 777.611,429.985 885.72,413.225 993.829,410.692 1101.94,409.539 1210.05,420.665 1318.15,418.715 1426.26,410.168 1534.37,442.503 1642.48,440.667 1750.59,422.373 1858.7,400.181 1966.81,436.825 2074.92,436.607 2183.03,418.781 2291.13,396.99 \"/>\n",
       "<polyline clip-path=\"url(#clip813)\" style=\"stroke:#000000; stroke-linecap:round; stroke-linejoin:round; stroke-width:8; stroke-opacity:0.1; fill:none\" points=\"237.067,637.618 345.176,557.503 453.285,513.037 561.394,488.274 669.502,473.207 777.611,462.777 885.72,454.768 993.829,448.257 1101.94,452.084 1210.05,444.576 1318.15,438.798 1426.26,434.514 1534.37,477.676 1642.48,483.14 1750.59,471.071 1858.7,456.771 1966.81,476.619 2074.92,471.066 2183.03,458.471 2291.13,449.541 \"/>\n",
       "<polyline clip-path=\"url(#clip813)\" style=\"stroke:#000000; stroke-linecap:round; stroke-linejoin:round; stroke-width:8; stroke-opacity:0.1; fill:none\" points=\"237.067,637.618 345.176,557.503 453.285,511.106 561.394,483.878 669.502,466.247 777.611,453.303 885.72,442.88 993.829,434.073 1101.94,444.17 1210.05,435.672 1318.15,425.058 1426.26,417.592 1534.37,462.591 1642.48,468.529 1750.59,456.092 1858.7,440.111 1966.81,466.68 2074.92,463.528 2183.03,448.928 2291.13,435.433 \"/>\n",
       "<polyline clip-path=\"url(#clip813)\" style=\"stroke:#000000; stroke-linecap:round; stroke-linejoin:round; stroke-width:8; stroke-opacity:0.1; fill:none\" points=\"237.067,637.618 345.176,557.503 453.285,510.013 561.394,481.37 669.502,462.25 777.611,447.824 885.72,435.959 993.829,425.757 1101.94,441.709 1210.05,432.844 1318.15,418.563 1426.26,408.813 1534.37,453.767 1642.48,459.282 1750.59,446.199 1858.7,429.146 1966.81,459.488 2074.92,457.629 2183.03,441.891 2291.13,425.863 \"/>\n",
       "<polyline clip-path=\"url(#clip813)\" style=\"stroke:#000000; stroke-linecap:round; stroke-linejoin:round; stroke-width:8; stroke-opacity:0.1; fill:none\" points=\"237.067,637.618 345.176,557.503 453.285,507.876 561.394,476.431 669.502,454.324 777.611,436.893 885.72,422.06 993.829,414.344 1101.94,432.76 1210.05,423.49 1318.15,405.988 1426.26,412.117 1534.37,445.445 1642.48,444.338 1750.59,427.21 1858.7,407.325 1966.81,441.508 2074.92,440.503 2183.03,423.181 2291.13,403.749 \"/>\n",
       "<polyline clip-path=\"url(#clip813)\" style=\"stroke:#000000; stroke-linecap:round; stroke-linejoin:round; stroke-width:8; stroke-opacity:0.1; fill:none\" points=\"237.067,637.618 345.176,557.503 453.285,503.213 561.394,465.496 669.502,436.563 777.611,412.124 885.72,390.57 993.829,396.098 1101.94,387.107 1210.05,402.148 1318.15,408.2 1426.26,407.048 1534.37,420.96 1642.48,429.47 1750.59,416.411 1858.7,395.602 1966.81,410.285 2074.92,422.575 2183.03,411.621 2291.13,393.821 \"/>\n",
       "<polyline clip-path=\"url(#clip813)\" style=\"stroke:#000000; stroke-linecap:round; stroke-linejoin:round; stroke-width:8; stroke-opacity:0.1; fill:none\" points=\"237.067,637.618 345.176,557.503 453.285,504.269 561.394,467.991 669.502,440.639 777.611,417.836 885.72,397.605 993.829,404.369 1101.94,394.225 1210.05,408.598 1318.15,413.567 1426.26,409.708 1534.37,437.73 1642.48,433.252 1750.59,412.43 1858.7,389.933 1966.81,427.677 2074.92,427.199 2183.03,407.78 2291.13,383.903 \"/>\n",
       "<polyline clip-path=\"url(#clip813)\" style=\"stroke:#000000; stroke-linecap:round; stroke-linejoin:round; stroke-width:8; stroke-opacity:0.1; fill:none\" points=\"237.067,637.618 345.176,557.503 453.285,512.356 561.394,486.729 669.502,470.768 777.611,459.467 885.72,450.627 993.829,443.332 1101.94,447.339 1210.05,439.264 1318.15,432.542 1426.26,427.524 1534.37,471.878 1642.48,477.855 1750.59,465.881 1858.7,451.071 1966.81,473.715 2074.92,469.225 2183.03,455.907 2291.13,445.213 \"/>\n",
       "<polyline clip-path=\"url(#clip813)\" style=\"stroke:#000000; stroke-linecap:round; stroke-linejoin:round; stroke-width:8; stroke-opacity:0.1; fill:none\" points=\"237.067,637.618 345.176,557.503 453.285,504.348 561.394,468.176 669.502,440.941 777.611,418.259 885.72,398.15 993.829,404.586 1101.94,394.562 1210.05,409.034 1318.15,413.813 1426.26,409.903 1534.37,438.103 1642.48,433.747 1750.59,413.034 1858.7,389.461 1966.81,427.742 2074.92,427.553 2183.03,408.307 2291.13,383.216 \"/>\n",
       "<polyline clip-path=\"url(#clip813)\" style=\"stroke:#000000; stroke-linecap:round; stroke-linejoin:round; stroke-width:8; stroke-opacity:0.1; fill:none\" points=\"237.067,637.618 345.176,557.503 453.285,508.898 561.394,478.799 669.502,458.132 777.611,442.156 885.72,428.766 993.829,419.02 1101.94,437.005 1210.05,428.163 1318.15,412.059 1426.26,409.167 1534.37,448.244 1642.48,450.368 1750.59,435.228 1858.7,416.852 1966.81,449.848 2074.92,448.656 2183.03,431.819 2291.13,413.714 \"/>\n",
       "<polyline clip-path=\"url(#clip813)\" style=\"stroke:#000000; stroke-linecap:round; stroke-linejoin:round; stroke-width:8; stroke-opacity:0.1; fill:none\" points=\"237.067,637.618 345.176,557.503 453.285,506.018 561.394,472.099 669.502,447.32 777.611,427.167 885.72,409.61 993.829,409.037 1101.94,404.711 1210.05,417.926 1318.15,417.643 1426.26,410.612 1534.37,441.801 1642.48,439.301 1750.59,420.402 1858.7,397.228 1966.81,434.446 2074.92,434.311 2183.03,416.175 2291.13,393.47 \"/>\n",
       "<polyline clip-path=\"url(#clip813)\" style=\"stroke:#000000; stroke-linecap:round; stroke-linejoin:round; stroke-width:8; stroke-opacity:0.1; fill:none\" points=\"237.067,637.618 345.176,557.503 453.285,503.182 561.394,465.423 669.502,436.443 777.611,411.956 885.72,390.462 993.829,396.011 1101.94,386.932 1210.05,401.947 1318.15,408.007 1426.26,407.019 1534.37,420.379 1642.48,429.298 1750.59,416.541 1858.7,396.07 1966.81,409.837 2074.92,422.252 2183.03,412.03 2291.13,394.207 \"/>\n",
       "<path clip-path=\"url(#clip810)\" d=\"M175.445 1423.18 L2352.76 1423.18 L2352.76 815.61 L175.445 815.61  Z\" fill=\"#ffffff\" fill-rule=\"evenodd\" fill-opacity=\"1\"/>\n",
       "<defs>\n",
       "  <clipPath id=\"clip814\">\n",
       "    <rect x=\"175\" y=\"815\" width=\"2178\" height=\"609\"/>\n",
       "  </clipPath>\n",
       "</defs>\n",
       "<polyline clip-path=\"url(#clip814)\" style=\"stroke:#000000; stroke-linecap:round; stroke-linejoin:round; stroke-width:8; stroke-opacity:0.1; fill:none\" points=\"669.502,1423.18 669.502,815.61 \"/>\n",
       "<polyline clip-path=\"url(#clip814)\" style=\"stroke:#000000; stroke-linecap:round; stroke-linejoin:round; stroke-width:8; stroke-opacity:0.1; fill:none\" points=\"1210.05,1423.18 1210.05,815.61 \"/>\n",
       "<polyline clip-path=\"url(#clip814)\" style=\"stroke:#000000; stroke-linecap:round; stroke-linejoin:round; stroke-width:8; stroke-opacity:0.1; fill:none\" points=\"1750.59,1423.18 1750.59,815.61 \"/>\n",
       "<polyline clip-path=\"url(#clip814)\" style=\"stroke:#000000; stroke-linecap:round; stroke-linejoin:round; stroke-width:8; stroke-opacity:0.1; fill:none\" points=\"2291.13,1423.18 2291.13,815.61 \"/>\n",
       "<polyline clip-path=\"url(#clip810)\" style=\"stroke:#000000; stroke-linecap:round; stroke-linejoin:round; stroke-width:4; stroke-opacity:1; fill:none\" points=\"175.445,1423.18 2352.76,1423.18 \"/>\n",
       "<polyline clip-path=\"url(#clip810)\" style=\"stroke:#000000; stroke-linecap:round; stroke-linejoin:round; stroke-width:4; stroke-opacity:1; fill:none\" points=\"669.502,1423.18 669.502,1404.28 \"/>\n",
       "<polyline clip-path=\"url(#clip810)\" style=\"stroke:#000000; stroke-linecap:round; stroke-linejoin:round; stroke-width:4; stroke-opacity:1; fill:none\" points=\"1210.05,1423.18 1210.05,1404.28 \"/>\n",
       "<polyline clip-path=\"url(#clip810)\" style=\"stroke:#000000; stroke-linecap:round; stroke-linejoin:round; stroke-width:4; stroke-opacity:1; fill:none\" points=\"1750.59,1423.18 1750.59,1404.28 \"/>\n",
       "<polyline clip-path=\"url(#clip810)\" style=\"stroke:#000000; stroke-linecap:round; stroke-linejoin:round; stroke-width:4; stroke-opacity:1; fill:none\" points=\"2291.13,1423.18 2291.13,1404.28 \"/>\n",
       "<path clip-path=\"url(#clip810)\" d=\"M659.78 1451.02 L678.137 1451.02 L678.137 1454.96 L664.063 1454.96 L664.063 1463.43 Q665.081 1463.08 666.1 1462.92 Q667.118 1462.73 668.137 1462.73 Q673.924 1462.73 677.303 1465.9 Q680.683 1469.08 680.683 1474.49 Q680.683 1480.07 677.211 1483.17 Q673.738 1486.25 667.419 1486.25 Q665.243 1486.25 662.975 1485.88 Q660.729 1485.51 658.322 1484.77 L658.322 1480.07 Q660.405 1481.2 662.627 1481.76 Q664.85 1482.32 667.326 1482.32 Q671.331 1482.32 673.669 1480.21 Q676.007 1478.1 676.007 1474.49 Q676.007 1470.88 673.669 1468.77 Q671.331 1466.67 667.326 1466.67 Q665.451 1466.67 663.576 1467.08 Q661.725 1467.5 659.78 1468.38 L659.78 1451.02 Z\" fill=\"#000000\" fill-rule=\"evenodd\" fill-opacity=\"1\" /><path clip-path=\"url(#clip810)\" d=\"M1184.73 1481.64 L1192.37 1481.64 L1192.37 1455.28 L1184.06 1456.95 L1184.06 1452.69 L1192.33 1451.02 L1197 1451.02 L1197 1481.64 L1204.64 1481.64 L1204.64 1485.58 L1184.73 1485.58 L1184.73 1481.64 Z\" fill=\"#000000\" fill-rule=\"evenodd\" fill-opacity=\"1\" /><path clip-path=\"url(#clip810)\" d=\"M1224.09 1454.1 Q1220.47 1454.1 1218.65 1457.66 Q1216.84 1461.2 1216.84 1468.33 Q1216.84 1475.44 1218.65 1479.01 Q1220.47 1482.55 1224.09 1482.55 Q1227.72 1482.55 1229.53 1479.01 Q1231.35 1475.44 1231.35 1468.33 Q1231.35 1461.2 1229.53 1457.66 Q1227.72 1454.1 1224.09 1454.1 M1224.09 1450.39 Q1229.9 1450.39 1232.95 1455 Q1236.03 1459.58 1236.03 1468.33 Q1236.03 1477.06 1232.95 1481.67 Q1229.9 1486.25 1224.09 1486.25 Q1218.28 1486.25 1215.2 1481.67 Q1212.14 1477.06 1212.14 1468.33 Q1212.14 1459.58 1215.2 1455 Q1218.28 1450.39 1224.09 1450.39 Z\" fill=\"#000000\" fill-rule=\"evenodd\" fill-opacity=\"1\" /><path clip-path=\"url(#clip810)\" d=\"M1725.78 1481.64 L1733.41 1481.64 L1733.41 1455.28 L1725.1 1456.95 L1725.1 1452.69 L1733.37 1451.02 L1738.04 1451.02 L1738.04 1481.64 L1745.68 1481.64 L1745.68 1485.58 L1725.78 1485.58 L1725.78 1481.64 Z\" fill=\"#000000\" fill-rule=\"evenodd\" fill-opacity=\"1\" /><path clip-path=\"url(#clip810)\" d=\"M1755.17 1451.02 L1773.53 1451.02 L1773.53 1454.96 L1759.46 1454.96 L1759.46 1463.43 Q1760.47 1463.08 1761.49 1462.92 Q1762.51 1462.73 1763.53 1462.73 Q1769.32 1462.73 1772.7 1465.9 Q1776.08 1469.08 1776.08 1474.49 Q1776.08 1480.07 1772.6 1483.17 Q1769.13 1486.25 1762.81 1486.25 Q1760.64 1486.25 1758.37 1485.88 Q1756.12 1485.51 1753.72 1484.77 L1753.72 1480.07 Q1755.8 1481.2 1758.02 1481.76 Q1760.24 1482.32 1762.72 1482.32 Q1766.72 1482.32 1769.06 1480.21 Q1771.4 1478.1 1771.4 1474.49 Q1771.4 1470.88 1769.06 1468.77 Q1766.72 1466.67 1762.72 1466.67 Q1760.84 1466.67 1758.97 1467.08 Q1757.12 1467.5 1755.17 1468.38 L1755.17 1451.02 Z\" fill=\"#000000\" fill-rule=\"evenodd\" fill-opacity=\"1\" /><path clip-path=\"url(#clip810)\" d=\"M2269.91 1481.64 L2286.23 1481.64 L2286.23 1485.58 L2264.28 1485.58 L2264.28 1481.64 Q2266.94 1478.89 2271.53 1474.26 Q2276.13 1469.61 2277.31 1468.27 Q2279.56 1465.74 2280.44 1464.01 Q2281.34 1462.25 2281.34 1460.56 Q2281.34 1457.8 2279.4 1456.07 Q2277.48 1454.33 2274.37 1454.33 Q2272.18 1454.33 2269.72 1455.09 Q2267.29 1455.86 2264.51 1457.41 L2264.51 1452.69 Q2267.34 1451.55 2269.79 1450.97 Q2272.25 1450.39 2274.28 1450.39 Q2279.65 1450.39 2282.85 1453.08 Q2286.04 1455.77 2286.04 1460.26 Q2286.04 1462.39 2285.23 1464.31 Q2284.44 1466.2 2282.34 1468.8 Q2281.76 1469.47 2278.66 1472.69 Q2275.56 1475.88 2269.91 1481.64 Z\" fill=\"#000000\" fill-rule=\"evenodd\" fill-opacity=\"1\" /><path clip-path=\"url(#clip810)\" d=\"M2306.04 1454.1 Q2302.43 1454.1 2300.6 1457.66 Q2298.8 1461.2 2298.8 1468.33 Q2298.8 1475.44 2300.6 1479.01 Q2302.43 1482.55 2306.04 1482.55 Q2309.68 1482.55 2311.48 1479.01 Q2313.31 1475.44 2313.31 1468.33 Q2313.31 1461.2 2311.48 1457.66 Q2309.68 1454.1 2306.04 1454.1 M2306.04 1450.39 Q2311.85 1450.39 2314.91 1455 Q2317.99 1459.58 2317.99 1468.33 Q2317.99 1477.06 2314.91 1481.67 Q2311.85 1486.25 2306.04 1486.25 Q2300.23 1486.25 2297.15 1481.67 Q2294.1 1477.06 2294.1 1468.33 Q2294.1 1459.58 2297.15 1455 Q2300.23 1450.39 2306.04 1450.39 Z\" fill=\"#000000\" fill-rule=\"evenodd\" fill-opacity=\"1\" /><path clip-path=\"url(#clip810)\" d=\"M1107.07 1522.27 L1107.07 1532.4 L1119.14 1532.4 L1119.14 1536.95 L1107.07 1536.95 L1107.07 1556.3 Q1107.07 1560.66 1108.25 1561.9 Q1109.46 1563.14 1113.12 1563.14 L1119.14 1563.14 L1119.14 1568.04 L1113.12 1568.04 Q1106.34 1568.04 1103.76 1565.53 Q1101.19 1562.98 1101.19 1556.3 L1101.19 1536.95 L1096.89 1536.95 L1096.89 1532.4 L1101.19 1532.4 L1101.19 1522.27 L1107.07 1522.27 Z\" fill=\"#000000\" fill-rule=\"evenodd\" fill-opacity=\"1\" /><path clip-path=\"url(#clip810)\" d=\"M1126.84 1532.4 L1132.7 1532.4 L1132.7 1568.04 L1126.84 1568.04 L1126.84 1532.4 M1126.84 1518.52 L1132.7 1518.52 L1132.7 1525.93 L1126.84 1525.93 L1126.84 1518.52 Z\" fill=\"#000000\" fill-rule=\"evenodd\" fill-opacity=\"1\" /><path clip-path=\"url(#clip810)\" d=\"M1172.7 1539.24 Q1174.9 1535.29 1177.96 1533.41 Q1181.01 1531.54 1185.15 1531.54 Q1190.72 1531.54 1193.74 1535.45 Q1196.77 1539.33 1196.77 1546.53 L1196.77 1568.04 L1190.88 1568.04 L1190.88 1546.72 Q1190.88 1541.59 1189.06 1539.11 Q1187.25 1536.63 1183.53 1536.63 Q1178.98 1536.63 1176.33 1539.65 Q1173.69 1542.68 1173.69 1547.9 L1173.69 1568.04 L1167.8 1568.04 L1167.8 1546.72 Q1167.8 1541.56 1165.99 1539.11 Q1164.17 1536.63 1160.39 1536.63 Q1155.9 1536.63 1153.26 1539.68 Q1150.62 1542.71 1150.62 1547.9 L1150.62 1568.04 L1144.73 1568.04 L1144.73 1532.4 L1150.62 1532.4 L1150.62 1537.93 Q1152.62 1534.66 1155.42 1533.1 Q1158.22 1531.54 1162.07 1531.54 Q1165.96 1531.54 1168.66 1533.51 Q1171.4 1535.48 1172.7 1539.24 Z\" fill=\"#000000\" fill-rule=\"evenodd\" fill-opacity=\"1\" /><path clip-path=\"url(#clip810)\" d=\"M1238.94 1548.76 L1238.94 1551.62 L1212.01 1551.62 Q1212.4 1557.67 1215.64 1560.85 Q1218.92 1564 1224.74 1564 Q1228.12 1564 1231.27 1563.17 Q1234.45 1562.35 1237.57 1560.69 L1237.57 1566.23 Q1234.42 1567.57 1231.11 1568.27 Q1227.8 1568.97 1224.39 1568.97 Q1215.86 1568.97 1210.87 1564 Q1205.9 1559.04 1205.9 1550.57 Q1205.9 1541.82 1210.61 1536.69 Q1215.36 1531.54 1223.38 1531.54 Q1230.57 1531.54 1234.74 1536.18 Q1238.94 1540.8 1238.94 1548.76 M1233.08 1547.04 Q1233.02 1542.23 1230.38 1539.37 Q1227.77 1536.5 1223.44 1536.5 Q1218.54 1536.5 1215.58 1539.27 Q1212.65 1542.04 1212.2 1547.07 L1233.08 1547.04 Z\" fill=\"#000000\" fill-rule=\"evenodd\" fill-opacity=\"1\" /><path clip-path=\"url(#clip810)\" d=\"M1268.73 1518.52 L1282.23 1518.52 L1282.23 1523.07 L1274.59 1523.07 L1274.59 1572.09 L1282.23 1572.09 L1282.23 1576.64 L1268.73 1576.64 L1268.73 1518.52 Z\" fill=\"#000000\" fill-rule=\"evenodd\" fill-opacity=\"1\" /><path clip-path=\"url(#clip810)\" d=\"M1322.46 1539.24 Q1324.65 1535.29 1327.71 1533.41 Q1330.77 1531.54 1334.9 1531.54 Q1340.47 1531.54 1343.5 1535.45 Q1346.52 1539.33 1346.52 1546.53 L1346.52 1568.04 L1340.63 1568.04 L1340.63 1546.72 Q1340.63 1541.59 1338.82 1539.11 Q1337 1536.63 1333.28 1536.63 Q1328.73 1536.63 1326.09 1539.65 Q1323.44 1542.68 1323.44 1547.9 L1323.44 1568.04 L1317.56 1568.04 L1317.56 1546.72 Q1317.56 1541.56 1315.74 1539.11 Q1313.93 1536.63 1310.14 1536.63 Q1305.65 1536.63 1303.01 1539.68 Q1300.37 1542.71 1300.37 1547.9 L1300.37 1568.04 L1294.48 1568.04 L1294.48 1532.4 L1300.37 1532.4 L1300.37 1537.93 Q1302.37 1534.66 1305.18 1533.1 Q1307.98 1531.54 1311.83 1531.54 Q1315.71 1531.54 1318.42 1533.51 Q1321.15 1535.48 1322.46 1539.24 Z\" fill=\"#000000\" fill-rule=\"evenodd\" fill-opacity=\"1\" /><path clip-path=\"url(#clip810)\" d=\"M1358.2 1532.4 L1364.06 1532.4 L1364.06 1568.04 L1358.2 1568.04 L1358.2 1532.4 M1358.2 1518.52 L1364.06 1518.52 L1364.06 1525.93 L1358.2 1525.93 L1358.2 1518.52 Z\" fill=\"#000000\" fill-rule=\"evenodd\" fill-opacity=\"1\" /><path clip-path=\"url(#clip810)\" d=\"M1405.94 1546.53 L1405.94 1568.04 L1400.09 1568.04 L1400.09 1546.72 Q1400.09 1541.66 1398.11 1539.14 Q1396.14 1536.63 1392.19 1536.63 Q1387.45 1536.63 1384.71 1539.65 Q1381.98 1542.68 1381.98 1547.9 L1381.98 1568.04 L1376.09 1568.04 L1376.09 1532.4 L1381.98 1532.4 L1381.98 1537.93 Q1384.08 1534.72 1386.91 1533.13 Q1389.78 1531.54 1393.5 1531.54 Q1399.64 1531.54 1402.79 1535.36 Q1405.94 1539.14 1405.94 1546.53 Z\" fill=\"#000000\" fill-rule=\"evenodd\" fill-opacity=\"1\" /><path clip-path=\"url(#clip810)\" d=\"M1431.31 1518.52 L1431.31 1576.64 L1417.82 1576.64 L1417.82 1572.09 L1425.42 1572.09 L1425.42 1523.07 L1417.82 1523.07 L1417.82 1518.52 L1431.31 1518.52 Z\" fill=\"#000000\" fill-rule=\"evenodd\" fill-opacity=\"1\" /><polyline clip-path=\"url(#clip814)\" style=\"stroke:#000000; stroke-linecap:round; stroke-linejoin:round; stroke-width:8; stroke-opacity:0.1; fill:none\" points=\"175.445,1405.98 2352.76,1405.98 \"/>\n",
       "<polyline clip-path=\"url(#clip814)\" style=\"stroke:#000000; stroke-linecap:round; stroke-linejoin:round; stroke-width:8; stroke-opacity:0.1; fill:none\" points=\"175.445,1262.69 2352.76,1262.69 \"/>\n",
       "<polyline clip-path=\"url(#clip814)\" style=\"stroke:#000000; stroke-linecap:round; stroke-linejoin:round; stroke-width:8; stroke-opacity:0.1; fill:none\" points=\"175.445,1119.39 2352.76,1119.39 \"/>\n",
       "<polyline clip-path=\"url(#clip814)\" style=\"stroke:#000000; stroke-linecap:round; stroke-linejoin:round; stroke-width:8; stroke-opacity:0.1; fill:none\" points=\"175.445,976.1 2352.76,976.1 \"/>\n",
       "<polyline clip-path=\"url(#clip814)\" style=\"stroke:#000000; stroke-linecap:round; stroke-linejoin:round; stroke-width:8; stroke-opacity:0.1; fill:none\" points=\"175.445,832.805 2352.76,832.805 \"/>\n",
       "<polyline clip-path=\"url(#clip810)\" style=\"stroke:#000000; stroke-linecap:round; stroke-linejoin:round; stroke-width:4; stroke-opacity:1; fill:none\" points=\"175.445,1423.18 175.445,815.61 \"/>\n",
       "<polyline clip-path=\"url(#clip810)\" style=\"stroke:#000000; stroke-linecap:round; stroke-linejoin:round; stroke-width:4; stroke-opacity:1; fill:none\" points=\"175.445,1405.98 194.343,1405.98 \"/>\n",
       "<polyline clip-path=\"url(#clip810)\" style=\"stroke:#000000; stroke-linecap:round; stroke-linejoin:round; stroke-width:4; stroke-opacity:1; fill:none\" points=\"175.445,1262.69 194.343,1262.69 \"/>\n",
       "<polyline clip-path=\"url(#clip810)\" style=\"stroke:#000000; stroke-linecap:round; stroke-linejoin:round; stroke-width:4; stroke-opacity:1; fill:none\" points=\"175.445,1119.39 194.343,1119.39 \"/>\n",
       "<polyline clip-path=\"url(#clip810)\" style=\"stroke:#000000; stroke-linecap:round; stroke-linejoin:round; stroke-width:4; stroke-opacity:1; fill:none\" points=\"175.445,976.1 194.343,976.1 \"/>\n",
       "<polyline clip-path=\"url(#clip810)\" style=\"stroke:#000000; stroke-linecap:round; stroke-linejoin:round; stroke-width:4; stroke-opacity:1; fill:none\" points=\"175.445,832.805 194.343,832.805 \"/>\n",
       "<path clip-path=\"url(#clip810)\" d=\"M119.538 1419.33 L127.177 1419.33 L127.177 1392.96 L118.867 1394.63 L118.867 1390.37 L127.13 1388.7 L131.806 1388.7 L131.806 1419.33 L139.445 1419.33 L139.445 1423.26 L119.538 1423.26 L119.538 1419.33 Z\" fill=\"#000000\" fill-rule=\"evenodd\" fill-opacity=\"1\" /><path clip-path=\"url(#clip810)\" d=\"M123.126 1276.03 L139.445 1276.03 L139.445 1279.97 L117.501 1279.97 L117.501 1276.03 Q120.163 1273.28 124.746 1268.65 Q129.353 1264 130.533 1262.65 Q132.779 1260.13 133.658 1258.4 Q134.561 1256.64 134.561 1254.95 Q134.561 1252.19 132.617 1250.46 Q130.695 1248.72 127.593 1248.72 Q125.394 1248.72 122.941 1249.48 Q120.51 1250.25 117.732 1251.8 L117.732 1247.08 Q120.556 1245.94 123.01 1245.36 Q125.464 1244.78 127.501 1244.78 Q132.871 1244.78 136.066 1247.47 Q139.26 1250.16 139.26 1254.65 Q139.26 1256.78 138.45 1258.7 Q137.663 1260.59 135.556 1263.19 Q134.978 1263.86 131.876 1267.08 Q128.774 1270.27 123.126 1276.03 Z\" fill=\"#000000\" fill-rule=\"evenodd\" fill-opacity=\"1\" /><path clip-path=\"url(#clip810)\" d=\"M132.316 1118.04 Q135.672 1118.76 137.547 1121.03 Q139.445 1123.3 139.445 1126.63 Q139.445 1131.74 135.927 1134.55 Q132.408 1137.35 125.927 1137.35 Q123.751 1137.35 121.436 1136.91 Q119.144 1136.49 116.691 1135.63 L116.691 1131.12 Q118.635 1132.25 120.95 1132.83 Q123.265 1133.41 125.788 1133.41 Q130.186 1133.41 132.478 1131.67 Q134.792 1129.94 134.792 1126.63 Q134.792 1123.57 132.64 1121.86 Q130.51 1120.12 126.691 1120.12 L122.663 1120.12 L122.663 1116.28 L126.876 1116.28 Q130.325 1116.28 132.154 1114.92 Q133.982 1113.53 133.982 1110.93 Q133.982 1108.27 132.084 1106.86 Q130.209 1105.43 126.691 1105.43 Q124.769 1105.43 122.57 1105.84 Q120.371 1106.26 117.732 1107.14 L117.732 1102.97 Q120.394 1102.23 122.709 1101.86 Q125.047 1101.49 127.107 1101.49 Q132.431 1101.49 135.533 1103.92 Q138.635 1106.33 138.635 1110.45 Q138.635 1113.32 136.992 1115.31 Q135.348 1117.28 132.316 1118.04 Z\" fill=\"#000000\" fill-rule=\"evenodd\" fill-opacity=\"1\" /><path clip-path=\"url(#clip810)\" d=\"M129.862 962.894 L118.056 981.343 L129.862 981.343 L129.862 962.894 M128.635 958.82 L134.515 958.82 L134.515 981.343 L139.445 981.343 L139.445 985.232 L134.515 985.232 L134.515 993.38 L129.862 993.38 L129.862 985.232 L114.26 985.232 L114.26 980.718 L128.635 958.82 Z\" fill=\"#000000\" fill-rule=\"evenodd\" fill-opacity=\"1\" /><path clip-path=\"url(#clip810)\" d=\"M118.543 815.525 L136.899 815.525 L136.899 819.461 L122.825 819.461 L122.825 827.933 Q123.843 827.586 124.862 827.424 Q125.88 827.238 126.899 827.238 Q132.686 827.238 136.066 830.41 Q139.445 833.581 139.445 838.998 Q139.445 844.576 135.973 847.678 Q132.501 850.757 126.181 850.757 Q124.005 850.757 121.737 850.386 Q119.492 850.016 117.084 849.275 L117.084 844.576 Q119.168 845.71 121.39 846.266 Q123.612 846.822 126.089 846.822 Q130.093 846.822 132.431 844.715 Q134.769 842.609 134.769 838.998 Q134.769 835.386 132.431 833.28 Q130.093 831.174 126.089 831.174 Q124.214 831.174 122.339 831.59 Q120.487 832.007 118.543 832.886 L118.543 815.525 Z\" fill=\"#000000\" fill-rule=\"evenodd\" fill-opacity=\"1\" /><path clip-path=\"url(#clip810)\" d=\"M18.3741 1192.23 L35.1855 1196.39 Q36.2483 1196.68 36.3771 1196.87 Q36.506 1197.03 36.506 1197.55 Q36.506 1198.55 35.8296 1198.55 Q35.7652 1198.55 34.9279 1198.45 Q34.0583 1198.35 32.4802 1198.35 Q26.651 1198.35 23.2049 1201.19 Q19.7589 1203.99 19.7589 1208.98 Q19.7589 1213.3 21.9489 1217.64 Q24.1389 1221.96 27.7138 1225.05 Q30.4191 1227.37 33.8329 1229.08 Q37.2467 1230.75 40.3707 1231.56 Q43.4946 1232.33 45.8457 1232.68 Q48.1967 1233.04 49.9036 1233.04 Q52.3835 1233.04 54.4768 1232.52 Q56.5702 1231.98 58.0517 1231.01 Q59.5009 1230.04 60.6282 1228.82 Q61.7231 1227.56 62.3673 1226.11 Q63.0114 1224.63 63.3334 1223.15 Q63.6233 1221.67 63.6233 1220.12 Q63.6233 1213.91 58.7924 1207.98 Q54.8311 1203.28 48.3577 1201.32 Q47.7136 1201.16 47.7136 1200.48 Q47.7136 1199.67 48.3577 1199.67 Q48.4865 1199.67 49.1307 1199.83 Q49.7426 1200 50.9986 1200.48 Q52.2224 1200.96 53.6073 1201.7 Q54.9921 1202.44 56.7312 1203.83 Q58.4704 1205.21 59.984 1206.92 Q62.4961 1209.82 64.0742 1213.49 Q65.6523 1217.16 65.6523 1221.19 Q65.6523 1226.21 63.4301 1230.27 Q61.2079 1234.33 57.0533 1236.71 Q52.8987 1239.06 47.5848 1239.06 Q41.981 1239.06 36.4738 1236.48 Q30.9666 1233.91 26.8764 1229.82 Q22.7863 1225.73 20.242 1220.32 Q17.6977 1214.91 17.6977 1209.5 Q17.6977 1207.44 18.2452 1205.6 Q18.7927 1203.76 19.4691 1202.67 Q20.1454 1201.54 21.1438 1200.54 Q22.1099 1199.54 22.5608 1199.22 Q23.0117 1198.87 23.5592 1198.55 L18.5029 1193.94 Q17.6977 1193.14 17.6977 1192.94 Q17.6977 1192.56 17.9232 1192.4 Q18.1486 1192.23 18.3741 1192.23 Z\" fill=\"#000000\" fill-rule=\"evenodd\" fill-opacity=\"1\" /><path clip-path=\"url(#clip810)\" d=\"M54.9228 1173.86 Q55.9147 1173.86 56.6587 1174.67 Q57.3801 1175.46 57.3801 1176.31 Q57.3801 1177.1 56.9067 1177.6 Q56.4107 1178.07 55.7118 1178.07 Q54.7875 1178.07 54.021 1177.28 Q53.2545 1176.49 53.2545 1175.57 Q53.2545 1174.8 53.728 1174.33 Q54.2014 1173.86 54.9228 1173.86 M77.1738 1173.45 Q77.3542 1173.45 78.0756 1173.65 Q78.7745 1173.86 79.8566 1174.35 Q80.9162 1174.83 81.9081 1175.48 Q82.9 1176.13 83.5989 1177.21 Q84.2978 1178.27 84.2978 1179.49 Q84.2978 1181.14 83.2156 1182.22 Q82.1335 1183.28 80.5104 1183.28 Q79.6311 1183.28 76.8131 1182.22 Q68.6071 1179.15 68.2689 1179.04 Q66.9839 1178.52 65.8567 1178.52 Q65.3382 1178.52 65.0226 1178.64 Q64.6844 1178.75 64.5717 1178.97 Q64.4364 1179.2 64.4139 1179.33 Q64.3913 1179.45 64.3913 1179.67 Q64.3913 1181 65.744 1182.24 Q67.0966 1183.48 70.1175 1184.34 Q70.6811 1184.52 70.8164 1184.63 Q70.9517 1184.74 70.9517 1185.08 Q70.9291 1185.65 70.4782 1185.65 Q70.343 1185.65 69.8245 1185.49 Q69.2834 1185.33 68.4718 1185.04 Q67.6377 1184.74 66.781 1184.23 Q65.9018 1183.71 65.1353 1183.08 Q64.3688 1182.42 63.8728 1181.5 Q63.3768 1180.57 63.3768 1179.54 Q63.3768 1177.85 64.4815 1176.81 Q65.5636 1175.75 67.1642 1175.75 Q68.0435 1175.75 69.599 1176.36 Q71.628 1177.1 72.2818 1177.37 L77.1287 1179.18 Q78.8872 1179.83 79.4282 1180.03 Q79.9468 1180.21 80.578 1180.37 Q81.1867 1180.51 81.7503 1180.51 Q82.5393 1180.51 82.9 1180.26 Q83.2607 1179.99 83.2607 1179.4 Q83.2607 1177.78 81.6601 1176.58 Q80.0369 1175.39 77.5571 1174.69 Q77.4894 1174.67 77.3767 1174.64 Q76.8131 1174.46 76.7455 1174.28 Q76.7229 1174.19 76.7229 1174.01 Q76.7229 1173.45 77.1738 1173.45 Z\" fill=\"#000000\" fill-rule=\"evenodd\" fill-opacity=\"1\" /><path clip-path=\"url(#clip810)\" d=\"M77.1738 1144.49 Q77.3542 1144.49 78.053 1144.69 Q78.7519 1144.89 79.834 1145.39 Q80.9162 1145.86 81.9081 1146.52 Q82.8775 1147.17 83.5989 1148.25 Q84.2978 1149.31 84.2978 1150.53 Q84.2978 1152.15 83.2156 1153.24 Q82.1335 1154.32 80.5104 1154.32 Q79.6086 1154.32 78.3687 1153.84 Q70.3655 1150.85 67.6151 1150.85 Q64.3913 1150.85 64.3913 1153.35 Q64.3913 1154.59 64.8647 1155.76 Q65.3156 1156.91 65.9469 1157.7 Q66.5781 1158.49 67.4573 1159.21 Q68.314 1159.91 68.9001 1160.27 Q69.4637 1160.61 70.0273 1160.88 L72.3268 1161.46 Q72.9581 1161.6 75.4154 1162.25 L79.586 1163.27 Q82.6971 1163.99 82.9902 1164.15 Q83.6214 1164.37 83.9596 1164.87 Q84.2978 1165.36 84.2978 1165.86 Q84.2978 1166.42 83.9596 1166.81 Q83.6214 1167.19 83.0353 1167.19 Q82.9451 1167.19 82.607 1167.12 Q82.2688 1167.06 81.7954 1166.94 Q81.3219 1166.83 81.0514 1166.78 L70.3881 1164.1 Q68.4493 1163.61 67.8406 1163.49 Q67.2093 1163.36 66.5105 1163.36 Q64.3913 1163.36 64.3913 1164.8 Q64.3913 1165.97 65.7891 1166.74 Q67.1868 1167.51 69.8921 1168.16 Q70.636 1168.36 70.7938 1168.5 Q70.9517 1168.61 70.9517 1168.95 Q70.9291 1169.51 70.4782 1169.51 Q70.3655 1169.51 69.6216 1169.33 Q68.8776 1169.15 67.818 1168.81 Q66.7359 1168.45 66.0145 1168.11 Q65.4734 1167.82 65.2255 1167.66 Q64.9549 1167.48 64.4364 1167.06 Q63.8954 1166.6 63.6474 1166.02 Q63.3768 1165.41 63.3768 1164.67 Q63.3768 1163 64.459 1161.78 Q65.5185 1160.56 67.3897 1160.4 Q63.3768 1157.41 63.3768 1153.21 Q63.3768 1150.73 64.6844 1149.31 Q65.992 1147.89 68.314 1147.89 Q68.8551 1147.89 69.5539 1148.01 Q70.2302 1148.1 71.0869 1148.32 Q71.9436 1148.52 72.5974 1148.7 Q73.2512 1148.88 74.3107 1149.25 Q75.3478 1149.61 75.7986 1149.76 Q76.2495 1149.92 77.3091 1150.3 Q78.3461 1150.67 78.4588 1150.71 Q80.5554 1151.54 81.7503 1151.54 Q82.5393 1151.54 82.9 1151.3 Q83.2607 1151.03 83.2607 1150.44 Q83.2607 1148.86 81.7052 1147.69 Q80.1271 1146.49 77.5571 1145.73 Q76.9935 1145.55 76.8582 1145.46 Q76.7229 1145.35 76.7229 1145.03 Q76.7229 1144.49 77.1738 1144.49 Z\" fill=\"#000000\" fill-rule=\"evenodd\" fill-opacity=\"1\" /><path clip-path=\"url(#clip810)\" d=\"M80.6924 1135.05 L14.7348 1135.05 L14.7348 1125.1 L16.2485 1125.1 L16.2485 1130.64 L79.1787 1130.64 L79.1787 1125.1 L80.6924 1125.1 L80.6924 1135.05 Z\" fill=\"#000000\" fill-rule=\"evenodd\" fill-opacity=\"1\" /><path clip-path=\"url(#clip810)\" d=\"M38.1485 1094.55 Q38.1807 1094.55 39.3401 1094.74 L68.6152 1102.08 Q70.1611 1102.47 71.707 1103.57 Q73.2851 1104.63 74.6377 1106.34 Q76.0226 1108.01 76.8599 1110.59 Q77.7295 1113.13 77.7295 1116.06 Q77.7295 1120.73 76.7311 1122.79 Q75.7649 1124.82 73.7037 1124.82 Q71.9002 1124.82 70.8696 1123.7 Q69.8712 1122.57 69.8712 1121.28 Q69.8712 1120.06 70.5798 1119.41 Q71.2883 1118.77 72.1901 1118.77 Q73.1884 1118.77 74.1868 1119.44 Q75.2174 1120.12 75.6039 1121.47 Q76.2802 1119.32 76.2802 1116.19 Q76.2802 1109.59 69.2915 1106.75 Q69.1949 1106.69 69.1627 1106.69 L60.4349 1104.5 L60.3705 1104.6 Q61.0146 1105.14 61.7554 1106.01 Q62.4639 1106.85 63.3334 1108.65 Q64.203 1110.46 64.203 1112.23 Q64.203 1115.93 61.3689 1118.48 Q58.5026 1120.99 53.7683 1120.99 Q50.3223 1120.99 46.8762 1119.6 Q43.398 1118.19 40.8538 1116 Q38.2773 1113.78 36.667 1110.94 Q35.0567 1108.08 35.0567 1105.31 Q35.0567 1103.37 36.2161 1101.73 Q37.3433 1100.09 39.2113 1099.19 Q37.6654 1099.03 37.0213 1098.16 Q36.3771 1097.25 36.3771 1096.48 Q36.3771 1095.61 36.8602 1095.1 Q37.3111 1094.55 38.1485 1094.55 M42.1742 1099.96 Q41.981 1099.96 41.4657 1100.09 Q40.9182 1100.22 40.0486 1100.6 Q39.179 1100.96 38.4061 1101.51 Q37.6332 1102.05 37.0857 1103.05 Q36.506 1104.02 36.506 1105.24 Q36.506 1107.24 38.1807 1109.23 Q39.8232 1111.23 42.3674 1112.62 Q44.8151 1113.9 49.5493 1115.13 Q54.2836 1116.32 56.699 1116.32 Q59.0823 1116.32 60.918 1115.29 Q62.7537 1114.26 62.7537 1112.04 Q62.7537 1109.46 60.3705 1106.69 Q57.8907 1103.82 55.7651 1103.34 L43.1726 1100.15 Q42.3996 1099.96 42.1742 1099.96 Z\" fill=\"#000000\" fill-rule=\"evenodd\" fill-opacity=\"1\" /><path clip-path=\"url(#clip810)\" d=\"M79.7584 1093.69 Q79.4364 1093.69 78.7278 1093.43 L16.5061 1070.15 Q16.4417 1070.15 16.0874 1069.99 Q15.7332 1069.82 15.5077 1069.73 Q15.2501 1069.63 15.0569 1069.44 Q14.8636 1069.21 14.8636 1068.96 Q14.8636 1068.31 15.6688 1068.31 Q15.7332 1068.31 16.5061 1068.5 L78.7923 1091.85 Q79.9195 1092.24 80.2415 1092.5 Q80.5636 1092.72 80.5636 1093.11 Q80.5636 1093.69 79.7584 1093.69 Z\" fill=\"#000000\" fill-rule=\"evenodd\" fill-opacity=\"1\" /><path clip-path=\"url(#clip810)\" d=\"M47.9068 1021.19 Q48.1001 1021.19 48.8408 1021.44 L63.0758 1026.66 Q63.9131 1026.95 64.0742 1027.24 Q64.203 1027.53 64.203 1028.72 L64.203 1059.25 Q64.203 1059.99 64.1708 1060.28 Q64.1386 1060.57 63.9776 1060.8 Q63.8165 1061.03 63.4623 1061.03 Q62.8181 1061.03 62.5283 1060.8 Q62.2384 1060.54 62.2062 1060.25 Q62.174 1059.96 62.174 1059.25 Q62.174 1057.64 62.0774 1056.68 Q61.9808 1055.71 61.852 1055.1 Q61.6909 1054.46 61.2401 1054.13 Q60.7892 1053.78 60.4027 1053.62 Q59.984 1053.46 59.0501 1053.23 L23.6236 1044.41 Q22.5608 1044.15 22.3998 1044.15 Q21.7879 1044.15 21.6269 1044.54 Q21.4336 1044.89 21.337 1045.92 L21.2082 1048.43 Q21.2082 1049.21 21.176 1049.53 Q21.1438 1049.82 20.9827 1050.04 Q20.8217 1050.27 20.4674 1050.27 Q19.8555 1050.27 19.5657 1050.04 Q19.2436 1049.79 19.2114 1049.59 Q19.147 1049.37 19.147 1049.01 L19.3402 1040.25 L19.147 1030.49 Q19.147 1029.43 19.9521 1029.43 Q20.8539 1029.43 21.0471 1029.88 Q21.2082 1030.33 21.2082 1031.94 Q21.2082 1035.04 21.5302 1036.45 Q21.8523 1037.84 22.3998 1038.22 Q22.9151 1038.58 24.2999 1038.93 L59.9196 1047.85 Q61.1112 1048.18 61.4333 1048.18 Q61.7876 1048.18 61.9164 1048.01 Q62.013 1047.82 62.0774 1047.31 Q62.174 1046.73 62.174 1045.86 L62.174 1039.67 Q62.174 1037.8 61.8842 1036.16 Q61.5943 1034.52 61.1757 1033.26 Q60.757 1031.98 59.984 1030.82 Q59.2111 1029.66 58.5348 1028.85 Q57.8262 1028.01 56.7312 1027.21 Q55.604 1026.37 54.8311 1025.89 Q54.0259 1025.37 52.7377 1024.79 Q51.4173 1024.21 50.6765 1023.92 Q49.9036 1023.6 48.5832 1023.12 Q47.9068 1022.83 47.7136 1022.73 Q47.5204 1022.64 47.3593 1022.47 Q47.1983 1022.28 47.1983 1021.99 Q47.1983 1021.61 47.4237 1021.41 Q47.6492 1021.19 47.9068 1021.19 Z\" fill=\"#000000\" fill-rule=\"evenodd\" fill-opacity=\"1\" /><path clip-path=\"url(#clip810)\" d=\"M79.1787 1017.88 L79.1787 1012.34 L16.2485 1012.34 L16.2485 1017.88 L14.7348 1017.88 L14.7348 1007.93 L80.6924 1007.93 L80.6924 1017.88 L79.1787 1017.88 Z\" fill=\"#000000\" fill-rule=\"evenodd\" fill-opacity=\"1\" /><polyline clip-path=\"url(#clip814)\" style=\"stroke:#000000; stroke-linecap:round; stroke-linejoin:round; stroke-width:4; stroke-opacity:1; fill:none\" stroke-dasharray=\"2, 4\" points=\"237.067,832.805 345.176,832.805 453.285,832.805 561.394,832.805 669.502,832.805 777.611,832.805 885.72,832.805 993.829,832.805 1101.94,832.805 1210.05,832.805 1318.15,832.805 1426.26,832.805 1534.37,832.805 1642.48,832.805 1750.59,832.805 1858.7,832.805 1966.81,832.805 2074.92,832.805 2183.03,832.805 2291.13,832.805 \"/>\n",
       "<polyline clip-path=\"url(#clip814)\" style=\"stroke:#000000; stroke-linecap:round; stroke-linejoin:round; stroke-width:12; stroke-opacity:1; fill:none\" stroke-dasharray=\"48, 24, 6, 24\" points=\"237.067,1405.98 345.176,1325.87 453.285,1277.08 561.394,1246.68 669.502,1225.63 777.611,1209.19 885.72,1195.33 993.829,1191.53 1101.94,1195.89 1210.05,1197.57 1318.15,1193.35 1426.26,1190.93 1534.37,1222.09 1642.48,1222.91 1750.59,1207.89 1858.7,1190.59 1966.81,1218.56 2074.92,1217.4 2183.03,1201.97 2291.13,1185.3 \"/>\n",
       "<path clip-path=\"url(#clip814)\" d=\"M225.067 1393.98 L225.067 1417.98 L249.067 1417.98 L249.067 1393.98 L225.067 1393.98 Z\" fill=\"#000000\" fill-rule=\"evenodd\" fill-opacity=\"1\" stroke=\"none\"/>\n",
       "<path clip-path=\"url(#clip814)\" d=\"M333.176 1313.87 L333.176 1337.87 L357.176 1337.87 L357.176 1313.87 L333.176 1313.87 Z\" fill=\"#000000\" fill-rule=\"evenodd\" fill-opacity=\"1\" stroke=\"none\"/>\n",
       "<path clip-path=\"url(#clip814)\" d=\"M441.285 1265.08 L441.285 1289.08 L465.285 1289.08 L465.285 1265.08 L441.285 1265.08 Z\" fill=\"#000000\" fill-rule=\"evenodd\" fill-opacity=\"1\" stroke=\"none\"/>\n",
       "<path clip-path=\"url(#clip814)\" d=\"M549.394 1234.68 L549.394 1258.68 L573.394 1258.68 L573.394 1234.68 L549.394 1234.68 Z\" fill=\"#000000\" fill-rule=\"evenodd\" fill-opacity=\"1\" stroke=\"none\"/>\n",
       "<path clip-path=\"url(#clip814)\" d=\"M657.502 1213.63 L657.502 1237.63 L681.502 1237.63 L681.502 1213.63 L657.502 1213.63 Z\" fill=\"#000000\" fill-rule=\"evenodd\" fill-opacity=\"1\" stroke=\"none\"/>\n",
       "<path clip-path=\"url(#clip814)\" d=\"M765.611 1197.19 L765.611 1221.19 L789.611 1221.19 L789.611 1197.19 L765.611 1197.19 Z\" fill=\"#000000\" fill-rule=\"evenodd\" fill-opacity=\"1\" stroke=\"none\"/>\n",
       "<path clip-path=\"url(#clip814)\" d=\"M873.72 1183.33 L873.72 1207.33 L897.72 1207.33 L897.72 1183.33 L873.72 1183.33 Z\" fill=\"#000000\" fill-rule=\"evenodd\" fill-opacity=\"1\" stroke=\"none\"/>\n",
       "<path clip-path=\"url(#clip814)\" d=\"M981.829 1179.53 L981.829 1203.53 L1005.83 1203.53 L1005.83 1179.53 L981.829 1179.53 Z\" fill=\"#000000\" fill-rule=\"evenodd\" fill-opacity=\"1\" stroke=\"none\"/>\n",
       "<path clip-path=\"url(#clip814)\" d=\"M1089.94 1183.89 L1089.94 1207.89 L1113.94 1207.89 L1113.94 1183.89 L1089.94 1183.89 Z\" fill=\"#000000\" fill-rule=\"evenodd\" fill-opacity=\"1\" stroke=\"none\"/>\n",
       "<path clip-path=\"url(#clip814)\" d=\"M1198.05 1185.57 L1198.05 1209.57 L1222.05 1209.57 L1222.05 1185.57 L1198.05 1185.57 Z\" fill=\"#000000\" fill-rule=\"evenodd\" fill-opacity=\"1\" stroke=\"none\"/>\n",
       "<path clip-path=\"url(#clip814)\" d=\"M1306.15 1181.35 L1306.15 1205.35 L1330.15 1205.35 L1330.15 1181.35 L1306.15 1181.35 Z\" fill=\"#000000\" fill-rule=\"evenodd\" fill-opacity=\"1\" stroke=\"none\"/>\n",
       "<path clip-path=\"url(#clip814)\" d=\"M1414.26 1178.93 L1414.26 1202.93 L1438.26 1202.93 L1438.26 1178.93 L1414.26 1178.93 Z\" fill=\"#000000\" fill-rule=\"evenodd\" fill-opacity=\"1\" stroke=\"none\"/>\n",
       "<path clip-path=\"url(#clip814)\" d=\"M1522.37 1210.09 L1522.37 1234.09 L1546.37 1234.09 L1546.37 1210.09 L1522.37 1210.09 Z\" fill=\"#000000\" fill-rule=\"evenodd\" fill-opacity=\"1\" stroke=\"none\"/>\n",
       "<path clip-path=\"url(#clip814)\" d=\"M1630.48 1210.91 L1630.48 1234.91 L1654.48 1234.91 L1654.48 1210.91 L1630.48 1210.91 Z\" fill=\"#000000\" fill-rule=\"evenodd\" fill-opacity=\"1\" stroke=\"none\"/>\n",
       "<path clip-path=\"url(#clip814)\" d=\"M1738.59 1195.89 L1738.59 1219.89 L1762.59 1219.89 L1762.59 1195.89 L1738.59 1195.89 Z\" fill=\"#000000\" fill-rule=\"evenodd\" fill-opacity=\"1\" stroke=\"none\"/>\n",
       "<path clip-path=\"url(#clip814)\" d=\"M1846.7 1178.59 L1846.7 1202.59 L1870.7 1202.59 L1870.7 1178.59 L1846.7 1178.59 Z\" fill=\"#000000\" fill-rule=\"evenodd\" fill-opacity=\"1\" stroke=\"none\"/>\n",
       "<path clip-path=\"url(#clip814)\" d=\"M1954.81 1206.56 L1954.81 1230.56 L1978.81 1230.56 L1978.81 1206.56 L1954.81 1206.56 Z\" fill=\"#000000\" fill-rule=\"evenodd\" fill-opacity=\"1\" stroke=\"none\"/>\n",
       "<path clip-path=\"url(#clip814)\" d=\"M2062.92 1205.4 L2062.92 1229.4 L2086.92 1229.4 L2086.92 1205.4 L2062.92 1205.4 Z\" fill=\"#000000\" fill-rule=\"evenodd\" fill-opacity=\"1\" stroke=\"none\"/>\n",
       "<path clip-path=\"url(#clip814)\" d=\"M2171.03 1189.97 L2171.03 1213.97 L2195.03 1213.97 L2195.03 1189.97 L2171.03 1189.97 Z\" fill=\"#000000\" fill-rule=\"evenodd\" fill-opacity=\"1\" stroke=\"none\"/>\n",
       "<path clip-path=\"url(#clip814)\" d=\"M2279.13 1173.3 L2279.13 1197.3 L2303.13 1197.3 L2303.13 1173.3 L2279.13 1173.3 Z\" fill=\"#000000\" fill-rule=\"evenodd\" fill-opacity=\"1\" stroke=\"none\"/>\n",
       "<polyline clip-path=\"url(#clip814)\" style=\"stroke:#000000; stroke-linecap:round; stroke-linejoin:round; stroke-width:8; stroke-opacity:0.1; fill:none\" points=\"237.067,1405.98 345.176,1325.87 453.285,1283.8 561.394,1262.04 669.502,1250.03 777.611,1242.53 885.72,1237.26 993.829,1233.28 1101.94,1238.45 1210.05,1232.89 1318.15,1229.29 1426.26,1226.83 1534.37,1259.32 1642.48,1260.59 1750.59,1250.36 1858.7,1241.33 1966.81,1261.25 2074.92,1256.34 2183.03,1245.36 2291.13,1238.71 \"/>\n",
       "<polyline clip-path=\"url(#clip814)\" style=\"stroke:#000000; stroke-linecap:round; stroke-linejoin:round; stroke-width:8; stroke-opacity:0.1; fill:none\" points=\"237.067,1405.98 345.176,1325.87 453.285,1276.04 561.394,1244.34 669.502,1221.95 777.611,1204.24 885.72,1189.12 993.829,1182.13 1101.94,1199.36 1210.05,1190.32 1318.15,1174.95 1426.26,1181.5 1534.37,1214.32 1642.48,1212.95 1750.59,1195.58 1858.7,1175.27 1966.81,1209.32 2074.92,1208.15 2183.03,1190.62 2291.13,1170.85 \"/>\n",
       "<polyline clip-path=\"url(#clip814)\" style=\"stroke:#000000; stroke-linecap:round; stroke-linejoin:round; stroke-width:8; stroke-opacity:0.1; fill:none\" points=\"237.067,1405.98 345.176,1325.87 453.285,1280.27 561.394,1254.08 669.502,1237.52 777.611,1225.64 885.72,1216.24 993.829,1208.41 1101.94,1214.25 1210.05,1205.99 1318.15,1198.01 1426.26,1192.18 1534.37,1236.93 1642.48,1243 1750.59,1230.92 1858.7,1215.7 1966.81,1240.78 2074.92,1237.22 2183.03,1223.35 2291.13,1211.24 \"/>\n",
       "<polyline clip-path=\"url(#clip814)\" style=\"stroke:#000000; stroke-linecap:round; stroke-linejoin:round; stroke-width:8; stroke-opacity:0.1; fill:none\" points=\"237.067,1405.98 345.176,1325.87 453.285,1277.08 561.394,1246.75 669.502,1225.83 777.611,1209.59 885.72,1195.95 993.829,1186.39 1101.94,1204.46 1210.05,1195.55 1318.15,1179.25 1426.26,1178.35 1534.37,1215.27 1642.48,1216.22 1750.59,1200.49 1858.7,1182.03 1966.81,1215.42 2074.92,1214.33 2183.03,1197.45 2291.13,1179.2 \"/>\n",
       "<polyline clip-path=\"url(#clip814)\" style=\"stroke:#000000; stroke-linecap:round; stroke-linejoin:round; stroke-width:8; stroke-opacity:0.1; fill:none\" points=\"237.067,1405.98 345.176,1325.87 453.285,1273.45 561.394,1238.28 669.502,1212.13 777.611,1190.57 885.72,1171.6 993.829,1174.95 1101.94,1166.56 1210.05,1181.21 1318.15,1183.81 1426.26,1178.89 1534.37,1208.59 1642.48,1205.17 1750.59,1185.31 1858.7,1160.41 1966.81,1198.66 2074.92,1198.7 2183.03,1180.02 2291.13,1155.68 \"/>\n",
       "<polyline clip-path=\"url(#clip814)\" style=\"stroke:#000000; stroke-linecap:round; stroke-linejoin:round; stroke-width:8; stroke-opacity:0.1; fill:none\" points=\"237.067,1405.98 345.176,1325.87 453.285,1276.68 561.394,1245.82 669.502,1224.34 777.611,1207.54 885.72,1193.34 993.829,1184.14 1101.94,1200.53 1210.05,1233.58 1318.15,1253.34 1426.26,1266.59 1534.37,1225.34 1642.48,1201.69 1750.59,1189.09 1858.7,1197.72 1966.81,1217.72 2074.92,1209.55 2183.03,1191 2291.13,1174.06 \"/>\n",
       "<polyline clip-path=\"url(#clip814)\" style=\"stroke:#000000; stroke-linecap:round; stroke-linejoin:round; stroke-width:8; stroke-opacity:0.1; fill:none\" points=\"237.067,1405.98 345.176,1325.87 453.285,1281.7 561.394,1257.31 669.502,1242.64 777.611,1232.58 885.72,1224.93 993.829,1218.75 1101.94,1221.91 1210.05,1214.57 1318.15,1209.4 1426.26,1205.53 1534.37,1249.01 1642.48,1254.71 1750.59,1242.79 1858.7,1228.58 1966.81,1245.7 2074.92,1238.99 2183.03,1226.72 2291.13,1218.96 \"/>\n",
       "<polyline clip-path=\"url(#clip814)\" style=\"stroke:#000000; stroke-linecap:round; stroke-linejoin:round; stroke-width:8; stroke-opacity:0.1; fill:none\" points=\"237.067,1405.98 345.176,1325.87 453.285,1281.38 561.394,1256.58 669.502,1241.49 777.611,1231.03 885.72,1222.99 993.829,1216.45 1101.94,1219.72 1210.05,1212.13 1318.15,1206.52 1426.26,1202.31 1534.37,1246.3 1642.48,1252.22 1750.59,1240.35 1858.7,1225.92 1966.81,1246.21 2074.92,1240.88 2183.03,1228.15 2291.13,1218.79 \"/>\n",
       "<polyline clip-path=\"url(#clip814)\" style=\"stroke:#000000; stroke-linecap:round; stroke-linejoin:round; stroke-width:8; stroke-opacity:0.1; fill:none\" points=\"237.067,1405.98 345.176,1325.87 453.285,1274.92 561.394,1241.71 669.502,1217.71 777.611,1198.35 885.72,1181.59 993.829,1179.06 1101.94,1177.72 1210.05,1188.83 1318.15,1187.11 1426.26,1178.79 1534.37,1211 1642.48,1209.1 1750.59,1190.79 1858.7,1168.59 1966.81,1205.28 2074.92,1205.09 2183.03,1187.27 2291.13,1165.47 \"/>\n",
       "<polyline clip-path=\"url(#clip814)\" style=\"stroke:#000000; stroke-linecap:round; stroke-linejoin:round; stroke-width:8; stroke-opacity:0.1; fill:none\" points=\"237.067,1405.98 345.176,1325.87 453.285,1281.4 561.394,1256.64 669.502,1241.58 777.611,1231.15 885.72,1223.14 993.829,1216.63 1101.94,1221.17 1210.05,1213.75 1318.15,1207.71 1426.26,1203.29 1534.37,1246.38 1642.48,1251.8 1750.59,1239.68 1858.7,1225.34 1966.81,1246.54 2074.92,1241.57 2183.03,1228.81 2291.13,1219.31 \"/>\n",
       "<polyline clip-path=\"url(#clip814)\" style=\"stroke:#000000; stroke-linecap:round; stroke-linejoin:round; stroke-width:8; stroke-opacity:0.1; fill:none\" points=\"237.067,1405.98 345.176,1325.87 453.285,1279.47 561.394,1252.24 669.502,1234.62 777.611,1221.67 885.72,1211.25 993.829,1202.44 1101.94,1212.56 1210.05,1204.07 1318.15,1193.44 1426.26,1185.97 1534.37,1230.61 1642.48,1236.35 1750.59,1223.83 1858.7,1207.91 1966.81,1235.29 2074.92,1232.52 2183.03,1217.92 2291.13,1204.2 \"/>\n",
       "<polyline clip-path=\"url(#clip814)\" style=\"stroke:#000000; stroke-linecap:round; stroke-linejoin:round; stroke-width:8; stroke-opacity:0.1; fill:none\" points=\"237.067,1405.98 345.176,1325.87 453.285,1278.38 561.394,1249.74 669.502,1230.62 777.611,1216.2 885.72,1204.33 993.829,1194.13 1101.94,1210.17 1210.05,1201.32 1318.15,1187.01 1426.26,1177.24 1534.37,1221.28 1642.48,1226.29 1750.59,1212.99 1858.7,1196.07 1966.81,1229.18 2074.92,1228.58 2183.03,1212.77 2291.13,1195.94 \"/>\n",
       "<polyline clip-path=\"url(#clip814)\" style=\"stroke:#000000; stroke-linecap:round; stroke-linejoin:round; stroke-width:8; stroke-opacity:0.1; fill:none\" points=\"237.067,1405.98 345.176,1325.87 453.285,1276.24 561.394,1244.8 669.502,1222.69 777.611,1205.26 885.72,1190.43 993.829,1182.71 1101.94,1201.09 1210.05,1191.99 1318.15,1174.3 1426.26,1180.37 1534.37,1213.98 1642.48,1213.02 1750.59,1195.95 1858.7,1176.04 1966.81,1209.75 2074.92,1208.49 2183.03,1191.06 2291.13,1171.7 \"/>\n",
       "<polyline clip-path=\"url(#clip814)\" style=\"stroke:#000000; stroke-linecap:round; stroke-linejoin:round; stroke-width:8; stroke-opacity:0.1; fill:none\" points=\"237.067,1405.98 345.176,1325.87 453.285,1271.58 561.394,1233.86 669.502,1204.93 777.611,1180.49 885.72,1158.94 993.829,1164.47 1101.94,1155.39 1210.05,1170.53 1318.15,1176.26 1426.26,1175.64 1534.37,1191.22 1642.48,1198.27 1750.59,1184.11 1858.7,1161.96 1966.81,1178.53 2074.92,1190.85 2183.03,1179.7 2291.13,1161.41 \"/>\n",
       "<polyline clip-path=\"url(#clip814)\" style=\"stroke:#000000; stroke-linecap:round; stroke-linejoin:round; stroke-width:8; stroke-opacity:0.1; fill:none\" points=\"237.067,1405.98 345.176,1325.87 453.285,1272.64 561.394,1236.36 669.502,1209.01 777.611,1186.2 885.72,1165.97 993.829,1172.73 1101.94,1162.86 1210.05,1177.36 1318.15,1182.13 1426.26,1178.07 1534.37,1206.28 1642.48,1201.91 1750.59,1181.15 1858.7,1157.67 1966.81,1195.81 2074.92,1195.57 2183.03,1176.37 2291.13,1151.66 \"/>\n",
       "<polyline clip-path=\"url(#clip814)\" style=\"stroke:#000000; stroke-linecap:round; stroke-linejoin:round; stroke-width:8; stroke-opacity:0.1; fill:none\" points=\"237.067,1405.98 345.176,1325.87 453.285,1280.72 561.394,1255.09 669.502,1239.14 777.611,1227.84 885.72,1219 993.829,1211.7 1101.94,1215.52 1210.05,1207.42 1318.15,1200.77 1426.26,1195.78 1534.37,1240.53 1642.48,1246.73 1750.59,1234.85 1858.7,1219.98 1966.81,1240.98 2074.92,1235.75 2183.03,1222.52 2291.13,1212.37 \"/>\n",
       "<polyline clip-path=\"url(#clip814)\" style=\"stroke:#000000; stroke-linecap:round; stroke-linejoin:round; stroke-width:8; stroke-opacity:0.1; fill:none\" points=\"237.067,1405.98 345.176,1325.87 453.285,1272.71 561.394,1236.54 669.502,1209.31 777.611,1186.62 885.72,1166.52 993.829,1172.95 1101.94,1162.42 1210.05,1176.91 1318.15,1181.36 1426.26,1178.8 1534.37,1207 1642.48,1202.72 1750.59,1182.13 1858.7,1157.28 1966.81,1195.79 2074.92,1195.73 2183.03,1176.57 2291.13,1151.32 \"/>\n",
       "<polyline clip-path=\"url(#clip814)\" style=\"stroke:#000000; stroke-linecap:round; stroke-linejoin:round; stroke-width:8; stroke-opacity:0.1; fill:none\" points=\"237.067,1405.98 345.176,1325.87 453.285,1277.26 561.394,1247.16 669.502,1226.5 777.611,1210.52 885.72,1197.13 993.829,1187.39 1101.94,1205.16 1210.05,1196.25 1318.15,1180.19 1426.26,1178.08 1534.37,1217.25 1642.48,1219.44 1750.59,1204.33 1858.7,1185.89 1966.81,1217.81 2074.92,1216.12 2183.03,1199.3 2291.13,1181.49 \"/>\n",
       "<polyline clip-path=\"url(#clip814)\" style=\"stroke:#000000; stroke-linecap:round; stroke-linejoin:round; stroke-width:8; stroke-opacity:0.1; fill:none\" points=\"237.067,1405.98 345.176,1325.87 453.285,1274.38 561.394,1240.47 669.502,1215.69 777.611,1195.53 885.72,1177.98 993.829,1177.4 1101.94,1173.29 1210.05,1186.43 1318.15,1186.03 1426.26,1178.88 1534.37,1210.28 1642.48,1207.88 1750.59,1189.03 1858.7,1165.84 1966.81,1203.05 2074.92,1202.91 2183.03,1184.77 2291.13,1162.04 \"/>\n",
       "<polyline clip-path=\"url(#clip814)\" style=\"stroke:#000000; stroke-linecap:round; stroke-linejoin:round; stroke-width:8; stroke-opacity:0.1; fill:none\" points=\"237.067,1405.98 345.176,1325.87 453.285,1271.55 561.394,1233.79 669.502,1204.81 777.611,1180.32 885.72,1158.83 993.829,1164.38 1101.94,1155.23 1210.05,1170.32 1318.15,1176.14 1426.26,1175.56 1534.37,1190.81 1642.48,1198.12 1750.59,1184.14 1858.7,1162.18 1966.81,1178.1 2074.92,1190.62 2183.03,1179.64 2291.13,1161.61 \"/>\n",
       "</svg>\n"
      ]
     },
     "execution_count": 24,
     "metadata": {},
     "output_type": "execute_result"
    }
   ],
   "source": [
    "mc_plot(L\"C_{in} [g/L]\",ts,CinMean[:,1,:],CinPlant,Cin_max)"
   ]
  },
  {
   "cell_type": "markdown",
   "id": "f4de7684",
   "metadata": {},
   "source": [
    "## Comparing Average Behavior"
   ]
  },
  {
   "cell_type": "markdown",
   "id": "d329aaaa",
   "metadata": {},
   "source": [
    "- Biomass"
   ]
  },
  {
   "cell_type": "code",
   "execution_count": 25,
   "id": "1e1b1e69",
   "metadata": {},
   "outputs": [
    {
     "data": {
      "image/svg+xml": [
       "<?xml version=\"1.0\" encoding=\"utf-8\"?>\n",
       "<svg xmlns=\"http://www.w3.org/2000/svg\" xmlns:xlink=\"http://www.w3.org/1999/xlink\" width=\"600\" height=\"400\" viewBox=\"0 0 2400 1600\">\n",
       "<defs>\n",
       "  <clipPath id=\"clip850\">\n",
       "    <rect x=\"0\" y=\"0\" width=\"2400\" height=\"1600\"/>\n",
       "  </clipPath>\n",
       "</defs>\n",
       "<path clip-path=\"url(#clip850)\" d=\"M0 1600 L2400 1600 L2400 0 L0 0  Z\" fill=\"#ffffff\" fill-rule=\"evenodd\" fill-opacity=\"1\"/>\n",
       "<defs>\n",
       "  <clipPath id=\"clip851\">\n",
       "    <rect x=\"480\" y=\"0\" width=\"1681\" height=\"1600\"/>\n",
       "  </clipPath>\n",
       "</defs>\n",
       "<defs>\n",
       "  <clipPath id=\"clip852\">\n",
       "    <rect x=\"175\" y=\"815\" width=\"2178\" height=\"609\"/>\n",
       "  </clipPath>\n",
       "</defs>\n",
       "<path clip-path=\"url(#clip850)\" d=\"M219.288 1423.18 L2352.76 1423.18 L2352.76 47.2441 L219.288 47.2441  Z\" fill=\"#ffffff\" fill-rule=\"evenodd\" fill-opacity=\"1\"/>\n",
       "<defs>\n",
       "  <clipPath id=\"clip853\">\n",
       "    <rect x=\"219\" y=\"47\" width=\"2134\" height=\"1377\"/>\n",
       "  </clipPath>\n",
       "</defs>\n",
       "<polyline clip-path=\"url(#clip853)\" style=\"stroke:#000000; stroke-linecap:round; stroke-linejoin:round; stroke-width:8; stroke-opacity:0.1; fill:none\" points=\"703.396,1423.18 703.396,47.2441 \"/>\n",
       "<polyline clip-path=\"url(#clip853)\" style=\"stroke:#000000; stroke-linecap:round; stroke-linejoin:round; stroke-width:8; stroke-opacity:0.1; fill:none\" points=\"1233.06,1423.18 1233.06,47.2441 \"/>\n",
       "<polyline clip-path=\"url(#clip853)\" style=\"stroke:#000000; stroke-linecap:round; stroke-linejoin:round; stroke-width:8; stroke-opacity:0.1; fill:none\" points=\"1762.72,1423.18 1762.72,47.2441 \"/>\n",
       "<polyline clip-path=\"url(#clip853)\" style=\"stroke:#000000; stroke-linecap:round; stroke-linejoin:round; stroke-width:8; stroke-opacity:0.1; fill:none\" points=\"2292.37,1423.18 2292.37,47.2441 \"/>\n",
       "<polyline clip-path=\"url(#clip850)\" style=\"stroke:#000000; stroke-linecap:round; stroke-linejoin:round; stroke-width:4; stroke-opacity:1; fill:none\" points=\"219.288,1423.18 2352.76,1423.18 \"/>\n",
       "<polyline clip-path=\"url(#clip850)\" style=\"stroke:#000000; stroke-linecap:round; stroke-linejoin:round; stroke-width:4; stroke-opacity:1; fill:none\" points=\"703.396,1423.18 703.396,1404.28 \"/>\n",
       "<polyline clip-path=\"url(#clip850)\" style=\"stroke:#000000; stroke-linecap:round; stroke-linejoin:round; stroke-width:4; stroke-opacity:1; fill:none\" points=\"1233.06,1423.18 1233.06,1404.28 \"/>\n",
       "<polyline clip-path=\"url(#clip850)\" style=\"stroke:#000000; stroke-linecap:round; stroke-linejoin:round; stroke-width:4; stroke-opacity:1; fill:none\" points=\"1762.72,1423.18 1762.72,1404.28 \"/>\n",
       "<polyline clip-path=\"url(#clip850)\" style=\"stroke:#000000; stroke-linecap:round; stroke-linejoin:round; stroke-width:4; stroke-opacity:1; fill:none\" points=\"2292.37,1423.18 2292.37,1404.28 \"/>\n",
       "<path clip-path=\"url(#clip850)\" d=\"M693.674 1451.02 L712.031 1451.02 L712.031 1454.96 L697.957 1454.96 L697.957 1463.43 Q698.975 1463.08 699.994 1462.92 Q701.012 1462.73 702.031 1462.73 Q707.818 1462.73 711.197 1465.9 Q714.577 1469.08 714.577 1474.49 Q714.577 1480.07 711.105 1483.17 Q707.632 1486.25 701.313 1486.25 Q699.137 1486.25 696.869 1485.88 Q694.623 1485.51 692.216 1484.77 L692.216 1480.07 Q694.299 1481.2 696.521 1481.76 Q698.744 1482.32 701.22 1482.32 Q705.225 1482.32 707.563 1480.21 Q709.901 1478.1 709.901 1474.49 Q709.901 1470.88 707.563 1468.77 Q705.225 1466.67 701.22 1466.67 Q699.345 1466.67 697.47 1467.08 Q695.619 1467.5 693.674 1468.38 L693.674 1451.02 Z\" fill=\"#000000\" fill-rule=\"evenodd\" fill-opacity=\"1\" /><path clip-path=\"url(#clip850)\" d=\"M1207.74 1481.64 L1215.38 1481.64 L1215.38 1455.28 L1207.07 1456.95 L1207.07 1452.69 L1215.34 1451.02 L1220.01 1451.02 L1220.01 1481.64 L1227.65 1481.64 L1227.65 1485.58 L1207.74 1485.58 L1207.74 1481.64 Z\" fill=\"#000000\" fill-rule=\"evenodd\" fill-opacity=\"1\" /><path clip-path=\"url(#clip850)\" d=\"M1247.1 1454.1 Q1243.48 1454.1 1241.66 1457.66 Q1239.85 1461.2 1239.85 1468.33 Q1239.85 1475.44 1241.66 1479.01 Q1243.48 1482.55 1247.1 1482.55 Q1250.73 1482.55 1252.53 1479.01 Q1254.36 1475.44 1254.36 1468.33 Q1254.36 1461.2 1252.53 1457.66 Q1250.73 1454.1 1247.1 1454.1 M1247.1 1450.39 Q1252.91 1450.39 1255.96 1455 Q1259.04 1459.58 1259.04 1468.33 Q1259.04 1477.06 1255.96 1481.67 Q1252.91 1486.25 1247.1 1486.25 Q1241.28 1486.25 1238.21 1481.67 Q1235.15 1477.06 1235.15 1468.33 Q1235.15 1459.58 1238.21 1455 Q1241.28 1450.39 1247.1 1450.39 Z\" fill=\"#000000\" fill-rule=\"evenodd\" fill-opacity=\"1\" /><path clip-path=\"url(#clip850)\" d=\"M1737.9 1481.64 L1745.54 1481.64 L1745.54 1455.28 L1737.23 1456.95 L1737.23 1452.69 L1745.49 1451.02 L1750.17 1451.02 L1750.17 1481.64 L1757.81 1481.64 L1757.81 1485.58 L1737.9 1485.58 L1737.9 1481.64 Z\" fill=\"#000000\" fill-rule=\"evenodd\" fill-opacity=\"1\" /><path clip-path=\"url(#clip850)\" d=\"M1767.3 1451.02 L1785.65 1451.02 L1785.65 1454.96 L1771.58 1454.96 L1771.58 1463.43 Q1772.6 1463.08 1773.62 1462.92 Q1774.64 1462.73 1775.66 1462.73 Q1781.44 1462.73 1784.82 1465.9 Q1788.2 1469.08 1788.2 1474.49 Q1788.2 1480.07 1784.73 1483.17 Q1781.26 1486.25 1774.94 1486.25 Q1772.76 1486.25 1770.49 1485.88 Q1768.25 1485.51 1765.84 1484.77 L1765.84 1480.07 Q1767.92 1481.2 1770.15 1481.76 Q1772.37 1482.32 1774.84 1482.32 Q1778.85 1482.32 1781.19 1480.21 Q1783.53 1478.1 1783.53 1474.49 Q1783.53 1470.88 1781.19 1468.77 Q1778.85 1466.67 1774.84 1466.67 Q1772.97 1466.67 1771.09 1467.08 Q1769.24 1467.5 1767.3 1468.38 L1767.3 1451.02 Z\" fill=\"#000000\" fill-rule=\"evenodd\" fill-opacity=\"1\" /><path clip-path=\"url(#clip850)\" d=\"M2271.15 1481.64 L2287.47 1481.64 L2287.47 1485.58 L2265.52 1485.58 L2265.52 1481.64 Q2268.19 1478.89 2272.77 1474.26 Q2277.37 1469.61 2278.56 1468.27 Q2280.8 1465.74 2281.68 1464.01 Q2282.58 1462.25 2282.58 1460.56 Q2282.58 1457.8 2280.64 1456.07 Q2278.72 1454.33 2275.62 1454.33 Q2273.42 1454.33 2270.96 1455.09 Q2268.53 1455.86 2265.75 1457.41 L2265.75 1452.69 Q2268.58 1451.55 2271.03 1450.97 Q2273.49 1450.39 2275.52 1450.39 Q2280.89 1450.39 2284.09 1453.08 Q2287.28 1455.77 2287.28 1460.26 Q2287.28 1462.39 2286.47 1464.31 Q2285.68 1466.2 2283.58 1468.8 Q2283 1469.47 2279.9 1472.69 Q2276.8 1475.88 2271.15 1481.64 Z\" fill=\"#000000\" fill-rule=\"evenodd\" fill-opacity=\"1\" /><path clip-path=\"url(#clip850)\" d=\"M2307.28 1454.1 Q2303.67 1454.1 2301.84 1457.66 Q2300.04 1461.2 2300.04 1468.33 Q2300.04 1475.44 2301.84 1479.01 Q2303.67 1482.55 2307.28 1482.55 Q2310.92 1482.55 2312.72 1479.01 Q2314.55 1475.44 2314.55 1468.33 Q2314.55 1461.2 2312.72 1457.66 Q2310.92 1454.1 2307.28 1454.1 M2307.28 1450.39 Q2313.09 1450.39 2316.15 1455 Q2319.23 1459.58 2319.23 1468.33 Q2319.23 1477.06 2316.15 1481.67 Q2313.09 1486.25 2307.28 1486.25 Q2301.47 1486.25 2298.39 1481.67 Q2295.34 1477.06 2295.34 1468.33 Q2295.34 1459.58 2298.39 1455 Q2301.47 1450.39 2307.28 1450.39 Z\" fill=\"#000000\" fill-rule=\"evenodd\" fill-opacity=\"1\" /><path clip-path=\"url(#clip850)\" d=\"M1129 1522.27 L1129 1532.4 L1141.06 1532.4 L1141.06 1536.95 L1129 1536.95 L1129 1556.3 Q1129 1560.66 1130.17 1561.9 Q1131.38 1563.14 1135.04 1563.14 L1141.06 1563.14 L1141.06 1568.04 L1135.04 1568.04 Q1128.26 1568.04 1125.69 1565.53 Q1123.11 1562.98 1123.11 1556.3 L1123.11 1536.95 L1118.81 1536.95 L1118.81 1532.4 L1123.11 1532.4 L1123.11 1522.27 L1129 1522.27 Z\" fill=\"#000000\" fill-rule=\"evenodd\" fill-opacity=\"1\" /><path clip-path=\"url(#clip850)\" d=\"M1148.76 1532.4 L1154.62 1532.4 L1154.62 1568.04 L1148.76 1568.04 L1148.76 1532.4 M1148.76 1518.52 L1154.62 1518.52 L1154.62 1525.93 L1148.76 1525.93 L1148.76 1518.52 Z\" fill=\"#000000\" fill-rule=\"evenodd\" fill-opacity=\"1\" /><path clip-path=\"url(#clip850)\" d=\"M1194.63 1539.24 Q1196.82 1535.29 1199.88 1533.41 Q1202.93 1531.54 1207.07 1531.54 Q1212.64 1531.54 1215.66 1535.45 Q1218.69 1539.33 1218.69 1546.53 L1218.69 1568.04 L1212.8 1568.04 L1212.8 1546.72 Q1212.8 1541.59 1210.99 1539.11 Q1209.17 1536.63 1205.45 1536.63 Q1200.9 1536.63 1198.25 1539.65 Q1195.61 1542.68 1195.61 1547.9 L1195.61 1568.04 L1189.72 1568.04 L1189.72 1546.72 Q1189.72 1541.56 1187.91 1539.11 Q1186.1 1536.63 1182.31 1536.63 Q1177.82 1536.63 1175.18 1539.68 Q1172.54 1542.71 1172.54 1547.9 L1172.54 1568.04 L1166.65 1568.04 L1166.65 1532.4 L1172.54 1532.4 L1172.54 1537.93 Q1174.54 1534.66 1177.34 1533.1 Q1180.14 1531.54 1184 1531.54 Q1187.88 1531.54 1190.58 1533.51 Q1193.32 1535.48 1194.63 1539.24 Z\" fill=\"#000000\" fill-rule=\"evenodd\" fill-opacity=\"1\" /><path clip-path=\"url(#clip850)\" d=\"M1260.86 1548.76 L1260.86 1551.62 L1233.93 1551.62 Q1234.32 1557.67 1237.56 1560.85 Q1240.84 1564 1246.67 1564 Q1250.04 1564 1253.19 1563.17 Q1256.37 1562.35 1259.49 1560.69 L1259.49 1566.23 Q1256.34 1567.57 1253.03 1568.27 Q1249.72 1568.97 1246.32 1568.97 Q1237.79 1568.97 1232.79 1564 Q1227.82 1559.04 1227.82 1550.57 Q1227.82 1541.82 1232.53 1536.69 Q1237.28 1531.54 1245.3 1531.54 Q1252.49 1531.54 1256.66 1536.18 Q1260.86 1540.8 1260.86 1548.76 M1255 1547.04 Q1254.94 1542.23 1252.3 1539.37 Q1249.69 1536.5 1245.36 1536.5 Q1240.46 1536.5 1237.5 1539.27 Q1234.57 1542.04 1234.13 1547.07 L1255 1547.04 Z\" fill=\"#000000\" fill-rule=\"evenodd\" fill-opacity=\"1\" /><path clip-path=\"url(#clip850)\" d=\"M1290.65 1518.52 L1304.15 1518.52 L1304.15 1523.07 L1296.51 1523.07 L1296.51 1572.09 L1304.15 1572.09 L1304.15 1576.64 L1290.65 1576.64 L1290.65 1518.52 Z\" fill=\"#000000\" fill-rule=\"evenodd\" fill-opacity=\"1\" /><path clip-path=\"url(#clip850)\" d=\"M1344.38 1539.24 Q1346.58 1535.29 1349.63 1533.41 Q1352.69 1531.54 1356.82 1531.54 Q1362.39 1531.54 1365.42 1535.45 Q1368.44 1539.33 1368.44 1546.53 L1368.44 1568.04 L1362.55 1568.04 L1362.55 1546.72 Q1362.55 1541.59 1360.74 1539.11 Q1358.92 1536.63 1355.2 1536.63 Q1350.65 1536.63 1348.01 1539.65 Q1345.37 1542.68 1345.37 1547.9 L1345.37 1568.04 L1339.48 1568.04 L1339.48 1546.72 Q1339.48 1541.56 1337.66 1539.11 Q1335.85 1536.63 1332.06 1536.63 Q1327.57 1536.63 1324.93 1539.68 Q1322.29 1542.71 1322.29 1547.9 L1322.29 1568.04 L1316.4 1568.04 L1316.4 1532.4 L1322.29 1532.4 L1322.29 1537.93 Q1324.3 1534.66 1327.1 1533.1 Q1329.9 1531.54 1333.75 1531.54 Q1337.63 1531.54 1340.34 1533.51 Q1343.07 1535.48 1344.38 1539.24 Z\" fill=\"#000000\" fill-rule=\"evenodd\" fill-opacity=\"1\" /><path clip-path=\"url(#clip850)\" d=\"M1380.12 1532.4 L1385.98 1532.4 L1385.98 1568.04 L1380.12 1568.04 L1380.12 1532.4 M1380.12 1518.52 L1385.98 1518.52 L1385.98 1525.93 L1380.12 1525.93 L1380.12 1518.52 Z\" fill=\"#000000\" fill-rule=\"evenodd\" fill-opacity=\"1\" /><path clip-path=\"url(#clip850)\" d=\"M1427.87 1546.53 L1427.87 1568.04 L1422.01 1568.04 L1422.01 1546.72 Q1422.01 1541.66 1420.04 1539.14 Q1418.06 1536.63 1414.12 1536.63 Q1409.37 1536.63 1406.64 1539.65 Q1403.9 1542.68 1403.9 1547.9 L1403.9 1568.04 L1398.01 1568.04 L1398.01 1532.4 L1403.9 1532.4 L1403.9 1537.93 Q1406 1534.72 1408.83 1533.13 Q1411.7 1531.54 1415.42 1531.54 Q1421.56 1531.54 1424.71 1535.36 Q1427.87 1539.14 1427.87 1546.53 Z\" fill=\"#000000\" fill-rule=\"evenodd\" fill-opacity=\"1\" /><path clip-path=\"url(#clip850)\" d=\"M1453.23 1518.52 L1453.23 1576.64 L1439.74 1576.64 L1439.74 1572.09 L1447.34 1572.09 L1447.34 1523.07 L1439.74 1523.07 L1439.74 1518.52 L1453.23 1518.52 Z\" fill=\"#000000\" fill-rule=\"evenodd\" fill-opacity=\"1\" /><polyline clip-path=\"url(#clip853)\" style=\"stroke:#000000; stroke-linecap:round; stroke-linejoin:round; stroke-width:8; stroke-opacity:0.1; fill:none\" points=\"219.288,1199.35 2352.76,1199.35 \"/>\n",
       "<polyline clip-path=\"url(#clip853)\" style=\"stroke:#000000; stroke-linecap:round; stroke-linejoin:round; stroke-width:8; stroke-opacity:0.1; fill:none\" points=\"219.288,880.572 2352.76,880.572 \"/>\n",
       "<polyline clip-path=\"url(#clip853)\" style=\"stroke:#000000; stroke-linecap:round; stroke-linejoin:round; stroke-width:8; stroke-opacity:0.1; fill:none\" points=\"219.288,561.795 2352.76,561.795 \"/>\n",
       "<polyline clip-path=\"url(#clip853)\" style=\"stroke:#000000; stroke-linecap:round; stroke-linejoin:round; stroke-width:8; stroke-opacity:0.1; fill:none\" points=\"219.288,243.019 2352.76,243.019 \"/>\n",
       "<polyline clip-path=\"url(#clip850)\" style=\"stroke:#000000; stroke-linecap:round; stroke-linejoin:round; stroke-width:4; stroke-opacity:1; fill:none\" points=\"219.288,1423.18 219.288,47.2441 \"/>\n",
       "<polyline clip-path=\"url(#clip850)\" style=\"stroke:#000000; stroke-linecap:round; stroke-linejoin:round; stroke-width:4; stroke-opacity:1; fill:none\" points=\"219.288,1199.35 238.185,1199.35 \"/>\n",
       "<polyline clip-path=\"url(#clip850)\" style=\"stroke:#000000; stroke-linecap:round; stroke-linejoin:round; stroke-width:4; stroke-opacity:1; fill:none\" points=\"219.288,880.572 238.185,880.572 \"/>\n",
       "<polyline clip-path=\"url(#clip850)\" style=\"stroke:#000000; stroke-linecap:round; stroke-linejoin:round; stroke-width:4; stroke-opacity:1; fill:none\" points=\"219.288,561.795 238.185,561.795 \"/>\n",
       "<polyline clip-path=\"url(#clip850)\" style=\"stroke:#000000; stroke-linecap:round; stroke-linejoin:round; stroke-width:4; stroke-opacity:1; fill:none\" points=\"219.288,243.019 238.185,243.019 \"/>\n",
       "<path clip-path=\"url(#clip850)\" d=\"M127.015 1185.15 Q123.404 1185.15 121.575 1188.71 Q119.769 1192.25 119.769 1199.38 Q119.769 1206.49 121.575 1210.05 Q123.404 1213.6 127.015 1213.6 Q130.649 1213.6 132.455 1210.05 Q134.283 1206.49 134.283 1199.38 Q134.283 1192.25 132.455 1188.71 Q130.649 1185.15 127.015 1185.15 M127.015 1181.44 Q132.825 1181.44 135.88 1186.05 Q138.959 1190.63 138.959 1199.38 Q138.959 1208.11 135.88 1212.72 Q132.825 1217.3 127.015 1217.3 Q121.205 1217.3 118.126 1212.72 Q115.07 1208.11 115.07 1199.38 Q115.07 1190.63 118.126 1186.05 Q121.205 1181.44 127.015 1181.44 Z\" fill=\"#000000\" fill-rule=\"evenodd\" fill-opacity=\"1\" /><path clip-path=\"url(#clip850)\" d=\"M147.177 1210.75 L152.061 1210.75 L152.061 1216.63 L147.177 1216.63 L147.177 1210.75 Z\" fill=\"#000000\" fill-rule=\"evenodd\" fill-opacity=\"1\" /><path clip-path=\"url(#clip850)\" d=\"M161.065 1182.07 L183.288 1182.07 L183.288 1184.06 L170.741 1216.63 L165.857 1216.63 L177.663 1186 L161.065 1186 L161.065 1182.07 Z\" fill=\"#000000\" fill-rule=\"evenodd\" fill-opacity=\"1\" /><path clip-path=\"url(#clip850)\" d=\"M126.205 866.37 Q122.593 866.37 120.765 869.935 Q118.959 873.477 118.959 880.606 Q118.959 887.713 120.765 891.278 Q122.593 894.819 126.205 894.819 Q129.839 894.819 131.644 891.278 Q133.473 887.713 133.473 880.606 Q133.473 873.477 131.644 869.935 Q129.839 866.37 126.205 866.37 M126.205 862.667 Q132.015 862.667 135.07 867.273 Q138.149 871.856 138.149 880.606 Q138.149 889.333 135.07 893.94 Q132.015 898.523 126.205 898.523 Q120.394 898.523 117.316 893.94 Q114.26 889.333 114.26 880.606 Q114.26 871.856 117.316 867.273 Q120.394 862.667 126.205 862.667 Z\" fill=\"#000000\" fill-rule=\"evenodd\" fill-opacity=\"1\" /><path clip-path=\"url(#clip850)\" d=\"M146.366 891.972 L151.251 891.972 L151.251 897.852 L146.366 897.852 L146.366 891.972 Z\" fill=\"#000000\" fill-rule=\"evenodd\" fill-opacity=\"1\" /><path clip-path=\"url(#clip850)\" d=\"M171.436 881.44 Q168.102 881.44 166.181 883.222 Q164.283 885.004 164.283 888.129 Q164.283 891.254 166.181 893.037 Q168.102 894.819 171.436 894.819 Q174.769 894.819 176.69 893.037 Q178.612 891.231 178.612 888.129 Q178.612 885.004 176.69 883.222 Q174.792 881.44 171.436 881.44 M166.76 879.449 Q163.751 878.708 162.061 876.648 Q160.394 874.588 160.394 871.625 Q160.394 867.481 163.334 865.074 Q166.297 862.667 171.436 862.667 Q176.598 862.667 179.538 865.074 Q182.477 867.481 182.477 871.625 Q182.477 874.588 180.788 876.648 Q179.121 878.708 176.135 879.449 Q179.514 880.236 181.389 882.528 Q183.288 884.819 183.288 888.129 Q183.288 893.153 180.209 895.838 Q177.153 898.523 171.436 898.523 Q165.718 898.523 162.64 895.838 Q159.584 893.153 159.584 888.129 Q159.584 884.819 161.482 882.528 Q163.38 880.236 166.76 879.449 M165.047 872.065 Q165.047 874.75 166.714 876.254 Q168.403 877.759 171.436 877.759 Q174.445 877.759 176.135 876.254 Q177.848 874.75 177.848 872.065 Q177.848 869.38 176.135 867.875 Q174.445 866.37 171.436 866.37 Q168.403 866.37 166.714 867.875 Q165.047 869.38 165.047 872.065 Z\" fill=\"#000000\" fill-rule=\"evenodd\" fill-opacity=\"1\" /><path clip-path=\"url(#clip850)\" d=\"M126.297 547.594 Q122.686 547.594 120.857 551.159 Q119.052 554.7 119.052 561.83 Q119.052 568.936 120.857 572.501 Q122.686 576.043 126.297 576.043 Q129.931 576.043 131.737 572.501 Q133.566 568.936 133.566 561.83 Q133.566 554.7 131.737 551.159 Q129.931 547.594 126.297 547.594 M126.297 543.89 Q132.107 543.89 135.163 548.497 Q138.242 553.08 138.242 561.83 Q138.242 570.557 135.163 575.163 Q132.107 579.746 126.297 579.746 Q120.487 579.746 117.408 575.163 Q114.353 570.557 114.353 561.83 Q114.353 553.08 117.408 548.497 Q120.487 543.89 126.297 543.89 Z\" fill=\"#000000\" fill-rule=\"evenodd\" fill-opacity=\"1\" /><path clip-path=\"url(#clip850)\" d=\"M146.459 573.196 L151.343 573.196 L151.343 579.075 L146.459 579.075 L146.459 573.196 Z\" fill=\"#000000\" fill-rule=\"evenodd\" fill-opacity=\"1\" /><path clip-path=\"url(#clip850)\" d=\"M161.667 578.358 L161.667 574.098 Q163.427 574.932 165.232 575.372 Q167.038 575.811 168.774 575.811 Q173.403 575.811 175.834 572.709 Q178.288 569.585 178.635 563.242 Q177.292 565.233 175.232 566.297 Q173.172 567.362 170.672 567.362 Q165.487 567.362 162.454 564.237 Q159.445 561.089 159.445 555.649 Q159.445 550.325 162.593 547.108 Q165.741 543.89 170.973 543.89 Q176.968 543.89 180.116 548.497 Q183.288 553.08 183.288 561.83 Q183.288 570.001 179.399 574.885 Q175.533 579.746 168.982 579.746 Q167.223 579.746 165.417 579.399 Q163.612 579.052 161.667 578.358 M170.973 563.705 Q174.121 563.705 175.95 561.552 Q177.801 559.399 177.801 555.649 Q177.801 551.923 175.95 549.77 Q174.121 547.594 170.973 547.594 Q167.825 547.594 165.973 549.77 Q164.144 551.923 164.144 555.649 Q164.144 559.399 165.973 561.552 Q167.825 563.705 170.973 563.705 Z\" fill=\"#000000\" fill-rule=\"evenodd\" fill-opacity=\"1\" /><path clip-path=\"url(#clip850)\" d=\"M116.922 256.364 L124.561 256.364 L124.561 229.998 L116.251 231.665 L116.251 227.405 L124.515 225.739 L129.191 225.739 L129.191 256.364 L136.829 256.364 L136.829 260.299 L116.922 260.299 L116.922 256.364 Z\" fill=\"#000000\" fill-rule=\"evenodd\" fill-opacity=\"1\" /><path clip-path=\"url(#clip850)\" d=\"M146.274 254.419 L151.158 254.419 L151.158 260.299 L146.274 260.299 L146.274 254.419 Z\" fill=\"#000000\" fill-rule=\"evenodd\" fill-opacity=\"1\" /><path clip-path=\"url(#clip850)\" d=\"M171.343 228.818 Q167.732 228.818 165.903 232.382 Q164.098 235.924 164.098 243.054 Q164.098 250.16 165.903 253.725 Q167.732 257.266 171.343 257.266 Q174.977 257.266 176.783 253.725 Q178.612 250.16 178.612 243.054 Q178.612 235.924 176.783 232.382 Q174.977 228.818 171.343 228.818 M171.343 225.114 Q177.153 225.114 180.209 229.72 Q183.288 234.304 183.288 243.054 Q183.288 251.78 180.209 256.387 Q177.153 260.97 171.343 260.97 Q165.533 260.97 162.454 256.387 Q159.399 251.78 159.399 243.054 Q159.399 234.304 162.454 229.72 Q165.533 225.114 171.343 225.114 Z\" fill=\"#000000\" fill-rule=\"evenodd\" fill-opacity=\"1\" /><path clip-path=\"url(#clip850)\" d=\"M30.9797 783.61 Q34.5868 783.61 37.904 786.283 Q41.2212 788.924 43.2501 793.24 Q45.2469 797.523 45.2469 802.129 L45.2469 813.336 L61.7363 817.426 Q61.8329 817.459 62.2516 817.555 Q62.6381 817.652 62.8635 817.652 Q63.6687 817.652 63.8619 816.654 Q64.0551 815.623 64.0551 813.336 Q64.0551 811.855 64.3128 811.629 Q64.4738 811.501 64.7637 811.501 Q65.2145 811.501 65.5366 811.629 Q65.8264 811.758 65.9231 812.016 Q66.0197 812.241 66.0519 812.402 Q66.0841 812.563 66.0841 812.821 Q66.0841 813.497 66.0197 814.947 Q65.9553 816.364 65.9553 817.104 L65.8909 821.323 L66.0841 829.697 Q66.0841 830.695 65.2789 830.695 Q64.667 830.695 64.4094 830.438 Q64.1195 830.18 64.0873 829.89 Q64.0551 829.6 64.0551 828.86 Q64.0551 827.249 63.9585 826.283 Q63.8619 825.317 63.7331 824.705 Q63.572 824.061 63.1212 823.739 Q62.6703 823.385 62.2838 823.224 Q61.8651 823.062 60.9312 822.837 L25.5047 814.013 Q24.4419 813.755 24.2809 813.755 Q23.7334 813.755 23.5402 814.077 Q23.3147 814.367 23.2181 815.204 Q23.0893 816.815 23.0893 818.038 Q23.0893 818.844 23.0571 819.166 Q23.0249 819.455 22.8638 819.713 Q22.6706 819.939 22.2841 819.939 Q21.6722 819.939 21.4146 819.681 Q21.1247 819.391 21.0925 819.069 Q21.0281 818.747 21.0281 817.974 L21.0281 796.589 Q21.0281 790.438 23.9588 787.024 Q26.8896 783.61 30.9797 783.61 M29.4016 789.729 Q23.0893 789.729 23.0893 798.715 L23.0893 805.027 Q23.0893 807.121 23.4757 807.636 Q23.83 808.151 25.6013 808.602 L43.54 813.079 L43.54 803.771 Q43.54 797.523 40.0296 793.626 Q38.4193 791.855 35.0699 790.792 Q31.7204 789.729 29.4016 789.729 Z\" fill=\"#000000\" fill-rule=\"evenodd\" fill-opacity=\"1\" /><path clip-path=\"url(#clip850)\" d=\"M82.5735 775.053 L16.6159 775.053 L16.6159 765.101 L18.1296 765.101 L18.1296 770.64 L81.0598 770.64 L81.0598 765.101 L82.5735 765.101 L82.5735 775.053 Z\" fill=\"#000000\" fill-rule=\"evenodd\" fill-opacity=\"1\" /><path clip-path=\"url(#clip850)\" d=\"M40.0296 734.549 Q40.0618 734.549 41.2212 734.742 L70.4963 742.085 Q72.0422 742.472 73.5881 743.567 Q75.1661 744.629 76.5188 746.336 Q77.9036 748.011 78.741 750.587 Q79.6106 753.132 79.6106 756.062 Q79.6106 760.732 78.6122 762.793 Q77.646 764.822 75.5848 764.822 Q73.7813 764.822 72.7507 763.695 Q71.7523 762.568 71.7523 761.28 Q71.7523 760.056 72.4609 759.412 Q73.1694 758.768 74.0711 758.768 Q75.0695 758.768 76.0679 759.444 Q77.0985 760.12 77.485 761.473 Q78.1613 759.315 78.1613 756.191 Q78.1613 749.589 71.1726 746.755 Q71.076 746.691 71.0438 746.691 L62.316 744.501 L62.2516 744.597 Q62.8957 745.145 63.6364 746.014 Q64.345 746.852 65.2145 748.655 Q66.0841 750.459 66.0841 752.23 Q66.0841 755.934 63.25 758.478 Q60.3837 760.99 55.6494 760.99 Q52.2034 760.99 48.7573 759.605 Q45.2791 758.188 42.7348 755.998 Q40.1584 753.776 38.5481 750.942 Q36.9378 748.075 36.9378 745.306 Q36.9378 743.373 38.0972 741.731 Q39.2244 740.088 41.0923 739.187 Q39.5465 739.026 38.9023 738.156 Q38.2582 737.254 38.2582 736.481 Q38.2582 735.612 38.7413 735.096 Q39.1922 734.549 40.0296 734.549 M44.0553 739.959 Q43.8621 739.959 43.3468 740.088 Q42.7993 740.217 41.9297 740.604 Q41.0601 740.958 40.2872 741.505 Q39.5143 742.053 38.9668 743.051 Q38.3871 744.017 38.3871 745.241 Q38.3871 747.238 40.0618 749.235 Q41.7043 751.232 44.2485 752.616 Q46.6962 753.905 51.4304 755.128 Q56.1647 756.32 58.5801 756.32 Q60.9634 756.32 62.7991 755.289 Q64.6348 754.259 64.6348 752.037 Q64.6348 749.46 62.2516 746.691 Q59.7717 743.824 57.6462 743.341 L45.0537 740.153 Q44.2807 739.959 44.0553 739.959 Z\" fill=\"#000000\" fill-rule=\"evenodd\" fill-opacity=\"1\" /><path clip-path=\"url(#clip850)\" d=\"M81.6395 733.689 Q81.3175 733.689 80.6089 733.432 L18.3872 710.147 Q18.3228 710.147 17.9685 709.986 Q17.6143 709.825 17.3888 709.728 Q17.1312 709.632 16.938 709.438 Q16.7447 709.213 16.7447 708.955 Q16.7447 708.311 17.5499 708.311 Q17.6143 708.311 18.3872 708.504 L80.6734 731.854 Q81.8006 732.24 82.1226 732.498 Q82.4447 732.723 82.4447 733.11 Q82.4447 733.689 81.6395 733.689 Z\" fill=\"#000000\" fill-rule=\"evenodd\" fill-opacity=\"1\" /><path clip-path=\"url(#clip850)\" d=\"M49.7879 661.187 Q49.9812 661.187 50.7219 661.444 L64.9569 666.662 Q65.7942 666.952 65.9553 667.241 Q66.0841 667.531 66.0841 668.723 L66.0841 699.254 Q66.0841 699.995 66.0519 700.285 Q66.0197 700.575 65.8587 700.8 Q65.6976 701.025 65.3434 701.025 Q64.6992 701.025 64.4094 700.8 Q64.1195 700.542 64.0873 700.252 Q64.0551 699.963 64.0551 699.254 Q64.0551 697.644 63.9585 696.678 Q63.8619 695.711 63.7331 695.1 Q63.572 694.455 63.1212 694.133 Q62.6703 693.779 62.2838 693.618 Q61.8651 693.457 60.9312 693.232 L25.5047 684.407 Q24.4419 684.15 24.2809 684.15 Q23.669 684.15 23.5079 684.536 Q23.3147 684.89 23.2181 685.921 L23.0893 688.433 Q23.0893 689.206 23.0571 689.528 Q23.0249 689.818 22.8638 690.043 Q22.7028 690.269 22.3485 690.269 Q21.7366 690.269 21.4468 690.043 Q21.1247 689.786 21.0925 689.592 Q21.0281 689.367 21.0281 689.013 L21.2213 680.253 L21.0281 670.494 Q21.0281 669.431 21.8332 669.431 Q22.735 669.431 22.9282 669.882 Q23.0893 670.333 23.0893 671.944 Q23.0893 675.035 23.4113 676.452 Q23.7334 677.837 24.2809 678.224 Q24.7962 678.578 26.181 678.932 L61.8007 687.853 Q62.9923 688.175 63.3144 688.175 Q63.6687 688.175 63.7975 688.014 Q63.8941 687.821 63.9585 687.306 Q64.0551 686.726 64.0551 685.856 L64.0551 679.673 Q64.0551 677.805 63.7653 676.162 Q63.4754 674.52 63.0567 673.264 Q62.6381 671.976 61.8651 670.816 Q61.0922 669.657 60.4159 668.852 Q59.7073 668.014 58.6123 667.209 Q57.4851 666.372 56.7122 665.889 Q55.907 665.374 54.6188 664.794 Q53.2984 664.214 52.5576 663.924 Q51.7847 663.602 50.4643 663.119 Q49.7879 662.829 49.5947 662.733 Q49.4015 662.636 49.2404 662.475 Q49.0794 662.282 49.0794 661.992 Q49.0794 661.605 49.3048 661.412 Q49.5303 661.187 49.7879 661.187 Z\" fill=\"#000000\" fill-rule=\"evenodd\" fill-opacity=\"1\" /><path clip-path=\"url(#clip850)\" d=\"M81.0598 657.879 L81.0598 652.339 L18.1296 652.339 L18.1296 657.879 L16.6159 657.879 L16.6159 647.927 L82.5735 647.927 L82.5735 657.879 L81.0598 657.879 Z\" fill=\"#000000\" fill-rule=\"evenodd\" fill-opacity=\"1\" /><polyline clip-path=\"url(#clip853)\" style=\"stroke:#000000; stroke-linecap:round; stroke-linejoin:round; stroke-width:12; stroke-opacity:1; fill:none\" points=\"279.669,1384.24 385.601,1310.25 491.533,1109.87 597.464,884.534 703.396,681.221 809.328,513.173 915.26,379.354 1021.19,276.649 1127.12,204.439 1233.06,155.88 1338.99,120.364 1444.92,92.5506 1550.85,86.1857 1656.78,100.112 1762.72,112.974 1868.65,111.237 1974.58,111.532 2080.51,119.594 2186.44,121.597 2292.37,110.576 \"/>\n",
       "<circle clip-path=\"url(#clip853)\" cx=\"279.669\" cy=\"1384.24\" r=\"10.8\" fill=\"#000000\" fill-rule=\"evenodd\" fill-opacity=\"1\" stroke=\"none\"/>\n",
       "<circle clip-path=\"url(#clip853)\" cx=\"385.601\" cy=\"1310.25\" r=\"10.8\" fill=\"#000000\" fill-rule=\"evenodd\" fill-opacity=\"1\" stroke=\"none\"/>\n",
       "<circle clip-path=\"url(#clip853)\" cx=\"491.533\" cy=\"1109.87\" r=\"10.8\" fill=\"#000000\" fill-rule=\"evenodd\" fill-opacity=\"1\" stroke=\"none\"/>\n",
       "<circle clip-path=\"url(#clip853)\" cx=\"597.464\" cy=\"884.534\" r=\"10.8\" fill=\"#000000\" fill-rule=\"evenodd\" fill-opacity=\"1\" stroke=\"none\"/>\n",
       "<circle clip-path=\"url(#clip853)\" cx=\"703.396\" cy=\"681.221\" r=\"10.8\" fill=\"#000000\" fill-rule=\"evenodd\" fill-opacity=\"1\" stroke=\"none\"/>\n",
       "<circle clip-path=\"url(#clip853)\" cx=\"809.328\" cy=\"513.173\" r=\"10.8\" fill=\"#000000\" fill-rule=\"evenodd\" fill-opacity=\"1\" stroke=\"none\"/>\n",
       "<circle clip-path=\"url(#clip853)\" cx=\"915.26\" cy=\"379.354\" r=\"10.8\" fill=\"#000000\" fill-rule=\"evenodd\" fill-opacity=\"1\" stroke=\"none\"/>\n",
       "<circle clip-path=\"url(#clip853)\" cx=\"1021.19\" cy=\"276.649\" r=\"10.8\" fill=\"#000000\" fill-rule=\"evenodd\" fill-opacity=\"1\" stroke=\"none\"/>\n",
       "<circle clip-path=\"url(#clip853)\" cx=\"1127.12\" cy=\"204.439\" r=\"10.8\" fill=\"#000000\" fill-rule=\"evenodd\" fill-opacity=\"1\" stroke=\"none\"/>\n",
       "<circle clip-path=\"url(#clip853)\" cx=\"1233.06\" cy=\"155.88\" r=\"10.8\" fill=\"#000000\" fill-rule=\"evenodd\" fill-opacity=\"1\" stroke=\"none\"/>\n",
       "<circle clip-path=\"url(#clip853)\" cx=\"1338.99\" cy=\"120.364\" r=\"10.8\" fill=\"#000000\" fill-rule=\"evenodd\" fill-opacity=\"1\" stroke=\"none\"/>\n",
       "<circle clip-path=\"url(#clip853)\" cx=\"1444.92\" cy=\"92.5506\" r=\"10.8\" fill=\"#000000\" fill-rule=\"evenodd\" fill-opacity=\"1\" stroke=\"none\"/>\n",
       "<circle clip-path=\"url(#clip853)\" cx=\"1550.85\" cy=\"86.1857\" r=\"10.8\" fill=\"#000000\" fill-rule=\"evenodd\" fill-opacity=\"1\" stroke=\"none\"/>\n",
       "<circle clip-path=\"url(#clip853)\" cx=\"1656.78\" cy=\"100.112\" r=\"10.8\" fill=\"#000000\" fill-rule=\"evenodd\" fill-opacity=\"1\" stroke=\"none\"/>\n",
       "<circle clip-path=\"url(#clip853)\" cx=\"1762.72\" cy=\"112.974\" r=\"10.8\" fill=\"#000000\" fill-rule=\"evenodd\" fill-opacity=\"1\" stroke=\"none\"/>\n",
       "<circle clip-path=\"url(#clip853)\" cx=\"1868.65\" cy=\"111.237\" r=\"10.8\" fill=\"#000000\" fill-rule=\"evenodd\" fill-opacity=\"1\" stroke=\"none\"/>\n",
       "<circle clip-path=\"url(#clip853)\" cx=\"1974.58\" cy=\"111.532\" r=\"10.8\" fill=\"#000000\" fill-rule=\"evenodd\" fill-opacity=\"1\" stroke=\"none\"/>\n",
       "<circle clip-path=\"url(#clip853)\" cx=\"2080.51\" cy=\"119.594\" r=\"10.8\" fill=\"#000000\" fill-rule=\"evenodd\" fill-opacity=\"1\" stroke=\"none\"/>\n",
       "<circle clip-path=\"url(#clip853)\" cx=\"2186.44\" cy=\"121.597\" r=\"10.8\" fill=\"#000000\" fill-rule=\"evenodd\" fill-opacity=\"1\" stroke=\"none\"/>\n",
       "<circle clip-path=\"url(#clip853)\" cx=\"2292.37\" cy=\"110.576\" r=\"10.8\" fill=\"#000000\" fill-rule=\"evenodd\" fill-opacity=\"1\" stroke=\"none\"/>\n",
       "<polyline clip-path=\"url(#clip853)\" style=\"stroke:#000000; stroke-linecap:round; stroke-linejoin:round; stroke-width:12; stroke-opacity:1; fill:none\" stroke-dasharray=\"48, 24, 6, 24\" points=\"279.669,1384.24 385.601,1310.25 491.533,1109.87 597.464,884.534 703.396,681.223 809.328,513.177 915.26,379.36 1021.19,276.657 1127.12,204.388 1233.06,156.564 1338.99,123.277 1444.92,98.6709 1550.85,93.8536 1656.78,106.763 1762.72,117.639 1868.65,114.523 1974.58,114.15 2080.51,121.752 2186.44,123.326 2292.37,111.899 \"/>\n",
       "<path clip-path=\"url(#clip853)\" d=\"M267.669 1372.24 L267.669 1396.24 L291.669 1396.24 L291.669 1372.24 L267.669 1372.24 Z\" fill=\"#000000\" fill-rule=\"evenodd\" fill-opacity=\"1\" stroke=\"none\"/>\n",
       "<path clip-path=\"url(#clip853)\" d=\"M373.601 1298.25 L373.601 1322.25 L397.601 1322.25 L397.601 1298.25 L373.601 1298.25 Z\" fill=\"#000000\" fill-rule=\"evenodd\" fill-opacity=\"1\" stroke=\"none\"/>\n",
       "<path clip-path=\"url(#clip853)\" d=\"M479.533 1097.87 L479.533 1121.87 L503.533 1121.87 L503.533 1097.87 L479.533 1097.87 Z\" fill=\"#000000\" fill-rule=\"evenodd\" fill-opacity=\"1\" stroke=\"none\"/>\n",
       "<path clip-path=\"url(#clip853)\" d=\"M585.464 872.534 L585.464 896.534 L609.464 896.534 L609.464 872.534 L585.464 872.534 Z\" fill=\"#000000\" fill-rule=\"evenodd\" fill-opacity=\"1\" stroke=\"none\"/>\n",
       "<path clip-path=\"url(#clip853)\" d=\"M691.396 669.223 L691.396 693.223 L715.396 693.223 L715.396 669.223 L691.396 669.223 Z\" fill=\"#000000\" fill-rule=\"evenodd\" fill-opacity=\"1\" stroke=\"none\"/>\n",
       "<path clip-path=\"url(#clip853)\" d=\"M797.328 501.177 L797.328 525.177 L821.328 525.177 L821.328 501.177 L797.328 501.177 Z\" fill=\"#000000\" fill-rule=\"evenodd\" fill-opacity=\"1\" stroke=\"none\"/>\n",
       "<path clip-path=\"url(#clip853)\" d=\"M903.26 367.36 L903.26 391.36 L927.26 391.36 L927.26 367.36 L903.26 367.36 Z\" fill=\"#000000\" fill-rule=\"evenodd\" fill-opacity=\"1\" stroke=\"none\"/>\n",
       "<path clip-path=\"url(#clip853)\" d=\"M1009.19 264.657 L1009.19 288.657 L1033.19 288.657 L1033.19 264.657 L1009.19 264.657 Z\" fill=\"#000000\" fill-rule=\"evenodd\" fill-opacity=\"1\" stroke=\"none\"/>\n",
       "<path clip-path=\"url(#clip853)\" d=\"M1115.12 192.388 L1115.12 216.388 L1139.12 216.388 L1139.12 192.388 L1115.12 192.388 Z\" fill=\"#000000\" fill-rule=\"evenodd\" fill-opacity=\"1\" stroke=\"none\"/>\n",
       "<path clip-path=\"url(#clip853)\" d=\"M1221.06 144.564 L1221.06 168.564 L1245.06 168.564 L1245.06 144.564 L1221.06 144.564 Z\" fill=\"#000000\" fill-rule=\"evenodd\" fill-opacity=\"1\" stroke=\"none\"/>\n",
       "<path clip-path=\"url(#clip853)\" d=\"M1326.99 111.277 L1326.99 135.277 L1350.99 135.277 L1350.99 111.277 L1326.99 111.277 Z\" fill=\"#000000\" fill-rule=\"evenodd\" fill-opacity=\"1\" stroke=\"none\"/>\n",
       "<path clip-path=\"url(#clip853)\" d=\"M1432.92 86.6709 L1432.92 110.671 L1456.92 110.671 L1456.92 86.6709 L1432.92 86.6709 Z\" fill=\"#000000\" fill-rule=\"evenodd\" fill-opacity=\"1\" stroke=\"none\"/>\n",
       "<path clip-path=\"url(#clip853)\" d=\"M1538.85 81.8536 L1538.85 105.854 L1562.85 105.854 L1562.85 81.8536 L1538.85 81.8536 Z\" fill=\"#000000\" fill-rule=\"evenodd\" fill-opacity=\"1\" stroke=\"none\"/>\n",
       "<path clip-path=\"url(#clip853)\" d=\"M1644.78 94.7633 L1644.78 118.763 L1668.78 118.763 L1668.78 94.7633 L1644.78 94.7633 Z\" fill=\"#000000\" fill-rule=\"evenodd\" fill-opacity=\"1\" stroke=\"none\"/>\n",
       "<path clip-path=\"url(#clip853)\" d=\"M1750.72 105.639 L1750.72 129.639 L1774.72 129.639 L1774.72 105.639 L1750.72 105.639 Z\" fill=\"#000000\" fill-rule=\"evenodd\" fill-opacity=\"1\" stroke=\"none\"/>\n",
       "<path clip-path=\"url(#clip853)\" d=\"M1856.65 102.523 L1856.65 126.523 L1880.65 126.523 L1880.65 102.523 L1856.65 102.523 Z\" fill=\"#000000\" fill-rule=\"evenodd\" fill-opacity=\"1\" stroke=\"none\"/>\n",
       "<path clip-path=\"url(#clip853)\" d=\"M1962.58 102.15 L1962.58 126.15 L1986.58 126.15 L1986.58 102.15 L1962.58 102.15 Z\" fill=\"#000000\" fill-rule=\"evenodd\" fill-opacity=\"1\" stroke=\"none\"/>\n",
       "<path clip-path=\"url(#clip853)\" d=\"M2068.51 109.752 L2068.51 133.752 L2092.51 133.752 L2092.51 109.752 L2068.51 109.752 Z\" fill=\"#000000\" fill-rule=\"evenodd\" fill-opacity=\"1\" stroke=\"none\"/>\n",
       "<path clip-path=\"url(#clip853)\" d=\"M2174.44 111.326 L2174.44 135.326 L2198.44 135.326 L2198.44 111.326 L2174.44 111.326 Z\" fill=\"#000000\" fill-rule=\"evenodd\" fill-opacity=\"1\" stroke=\"none\"/>\n",
       "<path clip-path=\"url(#clip853)\" d=\"M2280.37 99.8986 L2280.37 123.899 L2304.37 123.899 L2304.37 99.8986 L2280.37 99.8986 Z\" fill=\"#000000\" fill-rule=\"evenodd\" fill-opacity=\"1\" stroke=\"none\"/>\n",
       "<path clip-path=\"url(#clip850)\" d=\"M290.403 248.629 L637.175 248.629 L637.175 93.1086 L290.403 93.1086  Z\" fill=\"#ffffff\" fill-rule=\"evenodd\" fill-opacity=\"1\"/>\n",
       "<polyline clip-path=\"url(#clip850)\" style=\"stroke:#000000; stroke-linecap:round; stroke-linejoin:round; stroke-width:4; stroke-opacity:1; fill:none\" points=\"290.403,248.629 637.175,248.629 637.175,93.1086 290.403,93.1086 290.403,248.629 \"/>\n",
       "<polyline clip-path=\"url(#clip850)\" style=\"stroke:#000000; stroke-linecap:round; stroke-linejoin:round; stroke-width:12; stroke-opacity:1; fill:none\" points=\"314.108,144.949 456.34,144.949 \"/>\n",
       "<circle clip-path=\"url(#clip850)\" cx=\"385.224\" cy=\"144.949\" r=\"19.7543\" fill=\"#000000\" fill-rule=\"evenodd\" fill-opacity=\"1\" stroke=\"none\"/>\n",
       "<path clip-path=\"url(#clip850)\" d=\"M480.045 127.669 L487.012 127.669 L495.832 151.187 L504.697 127.669 L511.665 127.669 L511.665 162.229 L507.105 162.229 L507.105 131.882 L498.193 155.585 L493.494 155.585 L484.582 131.882 L484.582 162.229 L480.045 162.229 L480.045 127.669 Z\" fill=\"#000000\" fill-rule=\"evenodd\" fill-opacity=\"1\" /><path clip-path=\"url(#clip850)\" d=\"M530.808 139.289 Q527.383 139.289 525.392 141.974 Q523.401 144.636 523.401 149.289 Q523.401 153.942 525.369 156.627 Q527.359 159.289 530.808 159.289 Q534.211 159.289 536.202 156.604 Q538.193 153.918 538.193 149.289 Q538.193 144.682 536.202 141.997 Q534.211 139.289 530.808 139.289 M530.808 135.678 Q536.364 135.678 539.535 139.289 Q542.707 142.9 542.707 149.289 Q542.707 155.655 539.535 159.289 Q536.364 162.9 530.808 162.9 Q525.23 162.9 522.058 159.289 Q518.91 155.655 518.91 149.289 Q518.91 142.9 522.058 139.289 Q525.23 135.678 530.808 135.678 Z\" fill=\"#000000\" fill-rule=\"evenodd\" fill-opacity=\"1\" /><path clip-path=\"url(#clip850)\" d=\"M571.317 146.581 L571.317 162.229 L567.058 162.229 L567.058 146.719 Q567.058 143.039 565.623 141.21 Q564.188 139.382 561.318 139.382 Q557.868 139.382 555.878 141.581 Q553.887 143.78 553.887 147.576 L553.887 162.229 L549.605 162.229 L549.605 136.303 L553.887 136.303 L553.887 140.331 Q555.415 137.993 557.475 136.835 Q559.558 135.678 562.267 135.678 Q566.734 135.678 569.026 138.456 Q571.317 141.21 571.317 146.581 Z\" fill=\"#000000\" fill-rule=\"evenodd\" fill-opacity=\"1\" /><path clip-path=\"url(#clip850)\" d=\"M589.859 139.289 Q586.433 139.289 584.442 141.974 Q582.452 144.636 582.452 149.289 Q582.452 153.942 584.419 156.627 Q586.41 159.289 589.859 159.289 Q593.262 159.289 595.253 156.604 Q597.243 153.918 597.243 149.289 Q597.243 144.682 595.253 141.997 Q593.262 139.289 589.859 139.289 M589.859 135.678 Q595.415 135.678 598.586 139.289 Q601.757 142.9 601.757 149.289 Q601.757 155.655 598.586 159.289 Q595.415 162.9 589.859 162.9 Q584.28 162.9 581.109 159.289 Q577.961 155.655 577.961 149.289 Q577.961 142.9 581.109 139.289 Q584.28 135.678 589.859 135.678 Z\" fill=\"#000000\" fill-rule=\"evenodd\" fill-opacity=\"1\" /><path clip-path=\"url(#clip850)\" d=\"M608.586 156.349 L613.47 156.349 L613.47 162.229 L608.586 162.229 L608.586 156.349 Z\" fill=\"#000000\" fill-rule=\"evenodd\" fill-opacity=\"1\" /><polyline clip-path=\"url(#clip850)\" style=\"stroke:#000000; stroke-linecap:round; stroke-linejoin:round; stroke-width:12; stroke-opacity:1; fill:none\" stroke-dasharray=\"48, 24, 6, 24\" points=\"314.108,196.789 456.34,196.789 \"/>\n",
       "<path clip-path=\"url(#clip850)\" d=\"M363.275 174.839 L363.275 218.738 L407.173 218.738 L407.173 174.839 L363.275 174.839 Z\" fill=\"#000000\" fill-rule=\"evenodd\" fill-opacity=\"1\" stroke=\"none\"/>\n",
       "<path clip-path=\"url(#clip850)\" d=\"M484.721 183.351 L484.721 210.226 L490.369 210.226 Q497.522 210.226 500.832 206.985 Q504.165 203.745 504.165 196.754 Q504.165 189.809 500.832 186.592 Q497.522 183.351 490.369 183.351 L484.721 183.351 M480.045 179.509 L489.651 179.509 Q499.697 179.509 504.397 183.698 Q509.096 187.865 509.096 196.754 Q509.096 205.689 504.373 209.879 Q499.651 214.069 489.651 214.069 L480.045 214.069 L480.045 179.509 Z\" fill=\"#000000\" fill-rule=\"evenodd\" fill-opacity=\"1\" /><path clip-path=\"url(#clip850)\" d=\"M538.54 200.041 L538.54 202.124 L518.957 202.124 Q519.234 206.522 521.596 208.837 Q523.98 211.129 528.216 211.129 Q530.67 211.129 532.961 210.527 Q535.276 209.925 537.544 208.721 L537.544 212.749 Q535.253 213.721 532.845 214.231 Q530.438 214.74 527.961 214.74 Q521.758 214.74 518.123 211.129 Q514.512 207.518 514.512 201.36 Q514.512 194.995 517.938 191.268 Q521.387 187.518 527.22 187.518 Q532.452 187.518 535.484 190.897 Q538.54 194.254 538.54 200.041 M534.281 198.791 Q534.234 195.296 532.313 193.212 Q530.415 191.129 527.267 191.129 Q523.702 191.129 521.549 193.143 Q519.42 195.157 519.096 198.814 L534.281 198.791 Z\" fill=\"#000000\" fill-rule=\"evenodd\" fill-opacity=\"1\" /><path clip-path=\"url(#clip850)\" d=\"M564.188 189.138 L564.188 193.12 Q562.382 192.124 560.554 191.638 Q558.748 191.129 556.896 191.129 Q552.753 191.129 550.461 193.768 Q548.169 196.384 548.169 201.129 Q548.169 205.874 550.461 208.513 Q552.753 211.129 556.896 211.129 Q558.748 211.129 560.554 210.643 Q562.382 210.133 564.188 209.138 L564.188 213.073 Q562.405 213.907 560.484 214.323 Q558.586 214.74 556.433 214.74 Q550.577 214.74 547.128 211.059 Q543.679 207.379 543.679 201.129 Q543.679 194.786 547.151 191.152 Q550.646 187.518 556.711 187.518 Q558.679 187.518 560.554 187.935 Q562.429 188.328 564.188 189.138 Z\" fill=\"#000000\" fill-rule=\"evenodd\" fill-opacity=\"1\" /><path clip-path=\"url(#clip850)\" d=\"M581.641 191.129 Q578.216 191.129 576.225 193.814 Q574.234 196.476 574.234 201.129 Q574.234 205.782 576.202 208.467 Q578.192 211.129 581.641 211.129 Q585.044 211.129 587.035 208.444 Q589.026 205.758 589.026 201.129 Q589.026 196.522 587.035 193.837 Q585.044 191.129 581.641 191.129 M581.641 187.518 Q587.197 187.518 590.368 191.129 Q593.54 194.74 593.54 201.129 Q593.54 207.495 590.368 211.129 Q587.197 214.74 581.641 214.74 Q576.063 214.74 572.892 211.129 Q569.743 207.495 569.743 201.129 Q569.743 194.74 572.892 191.129 Q576.063 187.518 581.641 187.518 Z\" fill=\"#000000\" fill-rule=\"evenodd\" fill-opacity=\"1\" /><path clip-path=\"url(#clip850)\" d=\"M600.368 208.189 L605.252 208.189 L605.252 214.069 L600.368 214.069 L600.368 208.189 Z\" fill=\"#000000\" fill-rule=\"evenodd\" fill-opacity=\"1\" /></svg>\n"
      ]
     },
     "execution_count": 25,
     "metadata": {},
     "output_type": "execute_result"
    }
   ],
   "source": [
    "mc_comp(L\"P [g/L]\",ts,PMean[:,1,:])"
   ]
  },
  {
   "cell_type": "markdown",
   "id": "fa03305b",
   "metadata": {},
   "source": [
    "- Biomass Setpoint"
   ]
  },
  {
   "cell_type": "code",
   "execution_count": 26,
   "id": "e1efcd03",
   "metadata": {},
   "outputs": [
    {
     "data": {
      "image/svg+xml": [
       "<?xml version=\"1.0\" encoding=\"utf-8\"?>\n",
       "<svg xmlns=\"http://www.w3.org/2000/svg\" xmlns:xlink=\"http://www.w3.org/1999/xlink\" width=\"600\" height=\"400\" viewBox=\"0 0 2400 1600\">\n",
       "<defs>\n",
       "  <clipPath id=\"clip890\">\n",
       "    <rect x=\"0\" y=\"0\" width=\"2400\" height=\"1600\"/>\n",
       "  </clipPath>\n",
       "</defs>\n",
       "<path clip-path=\"url(#clip890)\" d=\"M0 1600 L2400 1600 L2400 0 L0 0  Z\" fill=\"#ffffff\" fill-rule=\"evenodd\" fill-opacity=\"1\"/>\n",
       "<defs>\n",
       "  <clipPath id=\"clip891\">\n",
       "    <rect x=\"480\" y=\"0\" width=\"1681\" height=\"1600\"/>\n",
       "  </clipPath>\n",
       "</defs>\n",
       "<defs>\n",
       "  <clipPath id=\"clip892\">\n",
       "    <rect x=\"219\" y=\"47\" width=\"2134\" height=\"1377\"/>\n",
       "  </clipPath>\n",
       "</defs>\n",
       "<path clip-path=\"url(#clip890)\" d=\"M258.375 1423.18 L2352.76 1423.18 L2352.76 47.2441 L258.375 47.2441  Z\" fill=\"#ffffff\" fill-rule=\"evenodd\" fill-opacity=\"1\"/>\n",
       "<defs>\n",
       "  <clipPath id=\"clip893\">\n",
       "    <rect x=\"258\" y=\"47\" width=\"2095\" height=\"1377\"/>\n",
       "  </clipPath>\n",
       "</defs>\n",
       "<polyline clip-path=\"url(#clip893)\" style=\"stroke:#000000; stroke-linecap:round; stroke-linejoin:round; stroke-width:8; stroke-opacity:0.1; fill:none\" points=\"733.615,1423.18 733.615,47.2441 \"/>\n",
       "<polyline clip-path=\"url(#clip893)\" style=\"stroke:#000000; stroke-linecap:round; stroke-linejoin:round; stroke-width:8; stroke-opacity:0.1; fill:none\" points=\"1253.57,1423.18 1253.57,47.2441 \"/>\n",
       "<polyline clip-path=\"url(#clip893)\" style=\"stroke:#000000; stroke-linecap:round; stroke-linejoin:round; stroke-width:8; stroke-opacity:0.1; fill:none\" points=\"1773.53,1423.18 1773.53,47.2441 \"/>\n",
       "<polyline clip-path=\"url(#clip893)\" style=\"stroke:#000000; stroke-linecap:round; stroke-linejoin:round; stroke-width:8; stroke-opacity:0.1; fill:none\" points=\"2293.48,1423.18 2293.48,47.2441 \"/>\n",
       "<polyline clip-path=\"url(#clip890)\" style=\"stroke:#000000; stroke-linecap:round; stroke-linejoin:round; stroke-width:4; stroke-opacity:1; fill:none\" points=\"258.375,1423.18 2352.76,1423.18 \"/>\n",
       "<polyline clip-path=\"url(#clip890)\" style=\"stroke:#000000; stroke-linecap:round; stroke-linejoin:round; stroke-width:4; stroke-opacity:1; fill:none\" points=\"733.615,1423.18 733.615,1404.28 \"/>\n",
       "<polyline clip-path=\"url(#clip890)\" style=\"stroke:#000000; stroke-linecap:round; stroke-linejoin:round; stroke-width:4; stroke-opacity:1; fill:none\" points=\"1253.57,1423.18 1253.57,1404.28 \"/>\n",
       "<polyline clip-path=\"url(#clip890)\" style=\"stroke:#000000; stroke-linecap:round; stroke-linejoin:round; stroke-width:4; stroke-opacity:1; fill:none\" points=\"1773.53,1423.18 1773.53,1404.28 \"/>\n",
       "<polyline clip-path=\"url(#clip890)\" style=\"stroke:#000000; stroke-linecap:round; stroke-linejoin:round; stroke-width:4; stroke-opacity:1; fill:none\" points=\"2293.48,1423.18 2293.48,1404.28 \"/>\n",
       "<path clip-path=\"url(#clip890)\" d=\"M723.892 1451.02 L742.249 1451.02 L742.249 1454.96 L728.175 1454.96 L728.175 1463.43 Q729.193 1463.08 730.212 1462.92 Q731.23 1462.73 732.249 1462.73 Q738.036 1462.73 741.416 1465.9 Q744.795 1469.08 744.795 1474.49 Q744.795 1480.07 741.323 1483.17 Q737.851 1486.25 731.531 1486.25 Q729.355 1486.25 727.087 1485.88 Q724.842 1485.51 722.434 1484.77 L722.434 1480.07 Q724.517 1481.2 726.74 1481.76 Q728.962 1482.32 731.439 1482.32 Q735.443 1482.32 737.781 1480.21 Q740.119 1478.1 740.119 1474.49 Q740.119 1470.88 737.781 1468.77 Q735.443 1466.67 731.439 1466.67 Q729.564 1466.67 727.689 1467.08 Q725.837 1467.5 723.892 1468.38 L723.892 1451.02 Z\" fill=\"#000000\" fill-rule=\"evenodd\" fill-opacity=\"1\" /><path clip-path=\"url(#clip890)\" d=\"M1228.26 1481.64 L1235.9 1481.64 L1235.9 1455.28 L1227.59 1456.95 L1227.59 1452.69 L1235.85 1451.02 L1240.53 1451.02 L1240.53 1481.64 L1248.17 1481.64 L1248.17 1485.58 L1228.26 1485.58 L1228.26 1481.64 Z\" fill=\"#000000\" fill-rule=\"evenodd\" fill-opacity=\"1\" /><path clip-path=\"url(#clip890)\" d=\"M1267.61 1454.1 Q1264 1454.1 1262.17 1457.66 Q1260.36 1461.2 1260.36 1468.33 Q1260.36 1475.44 1262.17 1479.01 Q1264 1482.55 1267.61 1482.55 Q1271.24 1482.55 1273.05 1479.01 Q1274.88 1475.44 1274.88 1468.33 Q1274.88 1461.2 1273.05 1457.66 Q1271.24 1454.1 1267.61 1454.1 M1267.61 1450.39 Q1273.42 1450.39 1276.48 1455 Q1279.55 1459.58 1279.55 1468.33 Q1279.55 1477.06 1276.48 1481.67 Q1273.42 1486.25 1267.61 1486.25 Q1261.8 1486.25 1258.72 1481.67 Q1255.66 1477.06 1255.66 1468.33 Q1255.66 1459.58 1258.72 1455 Q1261.8 1450.39 1267.61 1450.39 Z\" fill=\"#000000\" fill-rule=\"evenodd\" fill-opacity=\"1\" /><path clip-path=\"url(#clip890)\" d=\"M1748.71 1481.64 L1756.35 1481.64 L1756.35 1455.28 L1748.04 1456.95 L1748.04 1452.69 L1756.3 1451.02 L1760.98 1451.02 L1760.98 1481.64 L1768.62 1481.64 L1768.62 1485.58 L1748.71 1485.58 L1748.71 1481.64 Z\" fill=\"#000000\" fill-rule=\"evenodd\" fill-opacity=\"1\" /><path clip-path=\"url(#clip890)\" d=\"M1778.11 1451.02 L1796.47 1451.02 L1796.47 1454.96 L1782.39 1454.96 L1782.39 1463.43 Q1783.41 1463.08 1784.43 1462.92 Q1785.45 1462.73 1786.47 1462.73 Q1792.25 1462.73 1795.63 1465.9 Q1799.01 1469.08 1799.01 1474.49 Q1799.01 1480.07 1795.54 1483.17 Q1792.07 1486.25 1785.75 1486.25 Q1783.57 1486.25 1781.3 1485.88 Q1779.06 1485.51 1776.65 1484.77 L1776.65 1480.07 Q1778.73 1481.2 1780.96 1481.76 Q1783.18 1482.32 1785.66 1482.32 Q1789.66 1482.32 1792 1480.21 Q1794.34 1478.1 1794.34 1474.49 Q1794.34 1470.88 1792 1468.77 Q1789.66 1466.67 1785.66 1466.67 Q1783.78 1466.67 1781.91 1467.08 Q1780.05 1467.5 1778.11 1468.38 L1778.11 1451.02 Z\" fill=\"#000000\" fill-rule=\"evenodd\" fill-opacity=\"1\" /><path clip-path=\"url(#clip890)\" d=\"M2272.25 1481.64 L2288.57 1481.64 L2288.57 1485.58 L2266.63 1485.58 L2266.63 1481.64 Q2269.29 1478.89 2273.87 1474.26 Q2278.48 1469.61 2279.66 1468.27 Q2281.91 1465.74 2282.79 1464.01 Q2283.69 1462.25 2283.69 1460.56 Q2283.69 1457.8 2281.74 1456.07 Q2279.82 1454.33 2276.72 1454.33 Q2274.52 1454.33 2272.07 1455.09 Q2269.64 1455.86 2266.86 1457.41 L2266.86 1452.69 Q2269.68 1451.55 2272.14 1450.97 Q2274.59 1450.39 2276.63 1450.39 Q2282 1450.39 2285.19 1453.08 Q2288.39 1455.77 2288.39 1460.26 Q2288.39 1462.39 2287.58 1464.31 Q2286.79 1466.2 2284.68 1468.8 Q2284.11 1469.47 2281 1472.69 Q2277.9 1475.88 2272.25 1481.64 Z\" fill=\"#000000\" fill-rule=\"evenodd\" fill-opacity=\"1\" /><path clip-path=\"url(#clip890)\" d=\"M2308.39 1454.1 Q2304.78 1454.1 2302.95 1457.66 Q2301.14 1461.2 2301.14 1468.33 Q2301.14 1475.44 2302.95 1479.01 Q2304.78 1482.55 2308.39 1482.55 Q2312.02 1482.55 2313.83 1479.01 Q2315.66 1475.44 2315.66 1468.33 Q2315.66 1461.2 2313.83 1457.66 Q2312.02 1454.1 2308.39 1454.1 M2308.39 1450.39 Q2314.2 1450.39 2317.25 1455 Q2320.33 1459.58 2320.33 1468.33 Q2320.33 1477.06 2317.25 1481.67 Q2314.2 1486.25 2308.39 1486.25 Q2302.58 1486.25 2299.5 1481.67 Q2296.44 1477.06 2296.44 1468.33 Q2296.44 1459.58 2299.5 1455 Q2302.58 1450.39 2308.39 1450.39 Z\" fill=\"#000000\" fill-rule=\"evenodd\" fill-opacity=\"1\" /><path clip-path=\"url(#clip890)\" d=\"M1148.54 1522.27 L1148.54 1532.4 L1160.6 1532.4 L1160.6 1536.95 L1148.54 1536.95 L1148.54 1556.3 Q1148.54 1560.66 1149.72 1561.9 Q1150.93 1563.14 1154.59 1563.14 L1160.6 1563.14 L1160.6 1568.04 L1154.59 1568.04 Q1147.81 1568.04 1145.23 1565.53 Q1142.65 1562.98 1142.65 1556.3 L1142.65 1536.95 L1138.35 1536.95 L1138.35 1532.4 L1142.65 1532.4 L1142.65 1522.27 L1148.54 1522.27 Z\" fill=\"#000000\" fill-rule=\"evenodd\" fill-opacity=\"1\" /><path clip-path=\"url(#clip890)\" d=\"M1168.31 1532.4 L1174.16 1532.4 L1174.16 1568.04 L1168.31 1568.04 L1168.31 1532.4 M1168.31 1518.52 L1174.16 1518.52 L1174.16 1525.93 L1168.31 1525.93 L1168.31 1518.52 Z\" fill=\"#000000\" fill-rule=\"evenodd\" fill-opacity=\"1\" /><path clip-path=\"url(#clip890)\" d=\"M1214.17 1539.24 Q1216.37 1535.29 1219.42 1533.41 Q1222.48 1531.54 1226.61 1531.54 Q1232.18 1531.54 1235.21 1535.45 Q1238.23 1539.33 1238.23 1546.53 L1238.23 1568.04 L1232.34 1568.04 L1232.34 1546.72 Q1232.34 1541.59 1230.53 1539.11 Q1228.72 1536.63 1224.99 1536.63 Q1220.44 1536.63 1217.8 1539.65 Q1215.16 1542.68 1215.16 1547.9 L1215.16 1568.04 L1209.27 1568.04 L1209.27 1546.72 Q1209.27 1541.56 1207.45 1539.11 Q1205.64 1536.63 1201.85 1536.63 Q1197.36 1536.63 1194.72 1539.68 Q1192.08 1542.71 1192.08 1547.9 L1192.08 1568.04 L1186.19 1568.04 L1186.19 1532.4 L1192.08 1532.4 L1192.08 1537.93 Q1194.09 1534.66 1196.89 1533.1 Q1199.69 1531.54 1203.54 1531.54 Q1207.42 1531.54 1210.13 1533.51 Q1212.87 1535.48 1214.17 1539.24 Z\" fill=\"#000000\" fill-rule=\"evenodd\" fill-opacity=\"1\" /><path clip-path=\"url(#clip890)\" d=\"M1280.41 1548.76 L1280.41 1551.62 L1253.48 1551.62 Q1253.86 1557.67 1257.11 1560.85 Q1260.39 1564 1266.21 1564 Q1269.58 1564 1272.73 1563.17 Q1275.92 1562.35 1279.04 1560.69 L1279.04 1566.23 Q1275.89 1567.57 1272.58 1568.27 Q1269.27 1568.97 1265.86 1568.97 Q1257.33 1568.97 1252.33 1564 Q1247.37 1559.04 1247.37 1550.57 Q1247.37 1541.82 1252.08 1536.69 Q1256.82 1531.54 1264.84 1531.54 Q1272.03 1531.54 1276.2 1536.18 Q1280.41 1540.8 1280.41 1548.76 M1274.55 1547.04 Q1274.49 1542.23 1271.84 1539.37 Q1269.23 1536.5 1264.9 1536.5 Q1260 1536.5 1257.04 1539.27 Q1254.11 1542.04 1253.67 1547.07 L1274.55 1547.04 Z\" fill=\"#000000\" fill-rule=\"evenodd\" fill-opacity=\"1\" /><path clip-path=\"url(#clip890)\" d=\"M1310.2 1518.52 L1323.69 1518.52 L1323.69 1523.07 L1316.05 1523.07 L1316.05 1572.09 L1323.69 1572.09 L1323.69 1576.64 L1310.2 1576.64 L1310.2 1518.52 Z\" fill=\"#000000\" fill-rule=\"evenodd\" fill-opacity=\"1\" /><path clip-path=\"url(#clip890)\" d=\"M1363.92 1539.24 Q1366.12 1535.29 1369.17 1533.41 Q1372.23 1531.54 1376.37 1531.54 Q1381.94 1531.54 1384.96 1535.45 Q1387.99 1539.33 1387.99 1546.53 L1387.99 1568.04 L1382.1 1568.04 L1382.1 1546.72 Q1382.1 1541.59 1380.28 1539.11 Q1378.47 1536.63 1374.74 1536.63 Q1370.19 1536.63 1367.55 1539.65 Q1364.91 1542.68 1364.91 1547.9 L1364.91 1568.04 L1359.02 1568.04 L1359.02 1546.72 Q1359.02 1541.56 1357.21 1539.11 Q1355.39 1536.63 1351.61 1536.63 Q1347.12 1536.63 1344.48 1539.68 Q1341.83 1542.71 1341.83 1547.9 L1341.83 1568.04 L1335.95 1568.04 L1335.95 1532.4 L1341.83 1532.4 L1341.83 1537.93 Q1343.84 1534.66 1346.64 1533.1 Q1349.44 1531.54 1353.29 1531.54 Q1357.18 1531.54 1359.88 1533.51 Q1362.62 1535.48 1363.92 1539.24 Z\" fill=\"#000000\" fill-rule=\"evenodd\" fill-opacity=\"1\" /><path clip-path=\"url(#clip890)\" d=\"M1399.67 1532.4 L1405.52 1532.4 L1405.52 1568.04 L1399.67 1568.04 L1399.67 1532.4 M1399.67 1518.52 L1405.52 1518.52 L1405.52 1525.93 L1399.67 1525.93 L1399.67 1518.52 Z\" fill=\"#000000\" fill-rule=\"evenodd\" fill-opacity=\"1\" /><path clip-path=\"url(#clip890)\" d=\"M1447.41 1546.53 L1447.41 1568.04 L1441.55 1568.04 L1441.55 1546.72 Q1441.55 1541.66 1439.58 1539.14 Q1437.61 1536.63 1433.66 1536.63 Q1428.92 1536.63 1426.18 1539.65 Q1423.44 1542.68 1423.44 1547.9 L1423.44 1568.04 L1417.55 1568.04 L1417.55 1532.4 L1423.44 1532.4 L1423.44 1537.93 Q1425.54 1534.72 1428.38 1533.13 Q1431.24 1531.54 1434.96 1531.54 Q1441.11 1531.54 1444.26 1535.36 Q1447.41 1539.14 1447.41 1546.53 Z\" fill=\"#000000\" fill-rule=\"evenodd\" fill-opacity=\"1\" /><path clip-path=\"url(#clip890)\" d=\"M1472.78 1518.52 L1472.78 1576.64 L1459.28 1576.64 L1459.28 1572.09 L1466.89 1572.09 L1466.89 1523.07 L1459.28 1523.07 L1459.28 1518.52 L1472.78 1518.52 Z\" fill=\"#000000\" fill-rule=\"evenodd\" fill-opacity=\"1\" /><polyline clip-path=\"url(#clip893)\" style=\"stroke:#000000; stroke-linecap:round; stroke-linejoin:round; stroke-width:8; stroke-opacity:0.1; fill:none\" points=\"258.375,1384.3 2352.76,1384.3 \"/>\n",
       "<polyline clip-path=\"url(#clip893)\" style=\"stroke:#000000; stroke-linecap:round; stroke-linejoin:round; stroke-width:8; stroke-opacity:0.1; fill:none\" points=\"258.375,1113.86 2352.76,1113.86 \"/>\n",
       "<polyline clip-path=\"url(#clip893)\" style=\"stroke:#000000; stroke-linecap:round; stroke-linejoin:round; stroke-width:8; stroke-opacity:0.1; fill:none\" points=\"258.375,843.417 2352.76,843.417 \"/>\n",
       "<polyline clip-path=\"url(#clip893)\" style=\"stroke:#000000; stroke-linecap:round; stroke-linejoin:round; stroke-width:8; stroke-opacity:0.1; fill:none\" points=\"258.375,572.977 2352.76,572.977 \"/>\n",
       "<polyline clip-path=\"url(#clip893)\" style=\"stroke:#000000; stroke-linecap:round; stroke-linejoin:round; stroke-width:8; stroke-opacity:0.1; fill:none\" points=\"258.375,302.537 2352.76,302.537 \"/>\n",
       "<polyline clip-path=\"url(#clip890)\" style=\"stroke:#000000; stroke-linecap:round; stroke-linejoin:round; stroke-width:4; stroke-opacity:1; fill:none\" points=\"258.375,1423.18 258.375,47.2441 \"/>\n",
       "<polyline clip-path=\"url(#clip890)\" style=\"stroke:#000000; stroke-linecap:round; stroke-linejoin:round; stroke-width:4; stroke-opacity:1; fill:none\" points=\"258.375,1384.3 277.273,1384.3 \"/>\n",
       "<polyline clip-path=\"url(#clip890)\" style=\"stroke:#000000; stroke-linecap:round; stroke-linejoin:round; stroke-width:4; stroke-opacity:1; fill:none\" points=\"258.375,1113.86 277.273,1113.86 \"/>\n",
       "<polyline clip-path=\"url(#clip890)\" style=\"stroke:#000000; stroke-linecap:round; stroke-linejoin:round; stroke-width:4; stroke-opacity:1; fill:none\" points=\"258.375,843.417 277.273,843.417 \"/>\n",
       "<polyline clip-path=\"url(#clip890)\" style=\"stroke:#000000; stroke-linecap:round; stroke-linejoin:round; stroke-width:4; stroke-opacity:1; fill:none\" points=\"258.375,572.977 277.273,572.977 \"/>\n",
       "<polyline clip-path=\"url(#clip890)\" style=\"stroke:#000000; stroke-linecap:round; stroke-linejoin:round; stroke-width:4; stroke-opacity:1; fill:none\" points=\"258.375,302.537 277.273,302.537 \"/>\n",
       "<path clip-path=\"url(#clip890)\" d=\"M135.038 1370.1 Q131.427 1370.1 129.598 1373.66 Q127.793 1377.2 127.793 1384.33 Q127.793 1391.44 129.598 1395 Q131.427 1398.54 135.038 1398.54 Q138.672 1398.54 140.478 1395 Q142.306 1391.44 142.306 1384.33 Q142.306 1377.2 140.478 1373.66 Q138.672 1370.1 135.038 1370.1 M135.038 1366.39 Q140.848 1366.39 143.904 1371 Q146.982 1375.58 146.982 1384.33 Q146.982 1393.06 143.904 1397.66 Q140.848 1402.25 135.038 1402.25 Q129.228 1402.25 126.149 1397.66 Q123.093 1393.06 123.093 1384.33 Q123.093 1375.58 126.149 1371 Q129.228 1366.39 135.038 1366.39 Z\" fill=\"#000000\" fill-rule=\"evenodd\" fill-opacity=\"1\" /><path clip-path=\"url(#clip890)\" d=\"M155.2 1395.7 L160.084 1395.7 L160.084 1401.58 L155.2 1401.58 L155.2 1395.7 Z\" fill=\"#000000\" fill-rule=\"evenodd\" fill-opacity=\"1\" /><path clip-path=\"url(#clip890)\" d=\"M180.269 1370.1 Q176.658 1370.1 174.829 1373.66 Q173.024 1377.2 173.024 1384.33 Q173.024 1391.44 174.829 1395 Q176.658 1398.54 180.269 1398.54 Q183.903 1398.54 185.709 1395 Q187.538 1391.44 187.538 1384.33 Q187.538 1377.2 185.709 1373.66 Q183.903 1370.1 180.269 1370.1 M180.269 1366.39 Q186.079 1366.39 189.135 1371 Q192.213 1375.58 192.213 1384.33 Q192.213 1393.06 189.135 1397.66 Q186.079 1402.25 180.269 1402.25 Q174.459 1402.25 171.38 1397.66 Q168.325 1393.06 168.325 1384.33 Q168.325 1375.58 171.38 1371 Q174.459 1366.39 180.269 1366.39 Z\" fill=\"#000000\" fill-rule=\"evenodd\" fill-opacity=\"1\" /><path clip-path=\"url(#clip890)\" d=\"M210.431 1370.1 Q206.82 1370.1 204.991 1373.66 Q203.186 1377.2 203.186 1384.33 Q203.186 1391.44 204.991 1395 Q206.82 1398.54 210.431 1398.54 Q214.065 1398.54 215.871 1395 Q217.699 1391.44 217.699 1384.33 Q217.699 1377.2 215.871 1373.66 Q214.065 1370.1 210.431 1370.1 M210.431 1366.39 Q216.241 1366.39 219.297 1371 Q222.375 1375.58 222.375 1384.33 Q222.375 1393.06 219.297 1397.66 Q216.241 1402.25 210.431 1402.25 Q204.621 1402.25 201.542 1397.66 Q198.487 1393.06 198.487 1384.33 Q198.487 1375.58 201.542 1371 Q204.621 1366.39 210.431 1366.39 Z\" fill=\"#000000\" fill-rule=\"evenodd\" fill-opacity=\"1\" /><path clip-path=\"url(#clip890)\" d=\"M136.033 1099.66 Q132.422 1099.66 130.593 1103.22 Q128.788 1106.76 128.788 1113.89 Q128.788 1121 130.593 1124.56 Q132.422 1128.1 136.033 1128.1 Q139.667 1128.1 141.473 1124.56 Q143.302 1121 143.302 1113.89 Q143.302 1106.76 141.473 1103.22 Q139.667 1099.66 136.033 1099.66 M136.033 1095.95 Q141.843 1095.95 144.899 1100.56 Q147.978 1105.14 147.978 1113.89 Q147.978 1122.62 144.899 1127.22 Q141.843 1131.81 136.033 1131.81 Q130.223 1131.81 127.144 1127.22 Q124.089 1122.62 124.089 1113.89 Q124.089 1105.14 127.144 1100.56 Q130.223 1095.95 136.033 1095.95 Z\" fill=\"#000000\" fill-rule=\"evenodd\" fill-opacity=\"1\" /><path clip-path=\"url(#clip890)\" d=\"M156.195 1125.26 L161.079 1125.26 L161.079 1131.14 L156.195 1131.14 L156.195 1125.26 Z\" fill=\"#000000\" fill-rule=\"evenodd\" fill-opacity=\"1\" /><path clip-path=\"url(#clip890)\" d=\"M175.292 1127.2 L191.612 1127.2 L191.612 1131.14 L169.667 1131.14 L169.667 1127.2 Q172.329 1124.45 176.913 1119.82 Q181.519 1115.16 182.7 1113.82 Q184.945 1111.3 185.825 1109.56 Q186.727 1107.8 186.727 1106.11 Q186.727 1103.36 184.783 1101.62 Q182.862 1099.89 179.76 1099.89 Q177.561 1099.89 175.107 1100.65 Q172.677 1101.41 169.899 1102.97 L169.899 1098.24 Q172.723 1097.11 175.177 1096.53 Q177.63 1095.95 179.667 1095.95 Q185.038 1095.95 188.232 1098.64 Q191.426 1101.32 191.426 1105.81 Q191.426 1107.94 190.616 1109.86 Q189.829 1111.76 187.723 1114.35 Q187.144 1115.03 184.042 1118.24 Q180.94 1121.44 175.292 1127.2 Z\" fill=\"#000000\" fill-rule=\"evenodd\" fill-opacity=\"1\" /><path clip-path=\"url(#clip890)\" d=\"M201.473 1096.58 L219.829 1096.58 L219.829 1100.51 L205.755 1100.51 L205.755 1108.98 Q206.774 1108.64 207.792 1108.47 Q208.811 1108.29 209.829 1108.29 Q215.616 1108.29 218.996 1111.46 Q222.375 1114.63 222.375 1120.05 Q222.375 1125.63 218.903 1128.73 Q215.431 1131.81 209.112 1131.81 Q206.936 1131.81 204.667 1131.44 Q202.422 1131.07 200.014 1130.33 L200.014 1125.63 Q202.098 1126.76 204.32 1127.32 Q206.542 1127.87 209.019 1127.87 Q213.024 1127.87 215.362 1125.77 Q217.699 1123.66 217.699 1120.05 Q217.699 1116.44 215.362 1114.33 Q213.024 1112.22 209.019 1112.22 Q207.144 1112.22 205.269 1112.64 Q203.417 1113.06 201.473 1113.94 L201.473 1096.58 Z\" fill=\"#000000\" fill-rule=\"evenodd\" fill-opacity=\"1\" /><path clip-path=\"url(#clip890)\" d=\"M135.038 829.216 Q131.427 829.216 129.598 832.78 Q127.793 836.322 127.793 843.452 Q127.793 850.558 129.598 854.123 Q131.427 857.665 135.038 857.665 Q138.672 857.665 140.478 854.123 Q142.306 850.558 142.306 843.452 Q142.306 836.322 140.478 832.78 Q138.672 829.216 135.038 829.216 M135.038 825.512 Q140.848 825.512 143.904 830.118 Q146.982 834.702 146.982 843.452 Q146.982 852.178 143.904 856.785 Q140.848 861.368 135.038 861.368 Q129.228 861.368 126.149 856.785 Q123.093 852.178 123.093 843.452 Q123.093 834.702 126.149 830.118 Q129.228 825.512 135.038 825.512 Z\" fill=\"#000000\" fill-rule=\"evenodd\" fill-opacity=\"1\" /><path clip-path=\"url(#clip890)\" d=\"M155.2 854.817 L160.084 854.817 L160.084 860.697 L155.2 860.697 L155.2 854.817 Z\" fill=\"#000000\" fill-rule=\"evenodd\" fill-opacity=\"1\" /><path clip-path=\"url(#clip890)\" d=\"M170.315 826.137 L188.672 826.137 L188.672 830.072 L174.598 830.072 L174.598 838.544 Q175.616 838.197 176.635 838.035 Q177.653 837.85 178.672 837.85 Q184.459 837.85 187.839 841.021 Q191.218 844.192 191.218 849.609 Q191.218 855.188 187.746 858.29 Q184.274 861.368 177.954 861.368 Q175.778 861.368 173.51 860.998 Q171.265 860.627 168.857 859.887 L168.857 855.188 Q170.94 856.322 173.163 856.877 Q175.385 857.433 177.862 857.433 Q181.866 857.433 184.204 855.327 Q186.542 853.22 186.542 849.609 Q186.542 845.998 184.204 843.891 Q181.866 841.785 177.862 841.785 Q175.987 841.785 174.112 842.202 Q172.26 842.618 170.315 843.498 L170.315 826.137 Z\" fill=\"#000000\" fill-rule=\"evenodd\" fill-opacity=\"1\" /><path clip-path=\"url(#clip890)\" d=\"M210.431 829.216 Q206.82 829.216 204.991 832.78 Q203.186 836.322 203.186 843.452 Q203.186 850.558 204.991 854.123 Q206.82 857.665 210.431 857.665 Q214.065 857.665 215.871 854.123 Q217.699 850.558 217.699 843.452 Q217.699 836.322 215.871 832.78 Q214.065 829.216 210.431 829.216 M210.431 825.512 Q216.241 825.512 219.297 830.118 Q222.375 834.702 222.375 843.452 Q222.375 852.178 219.297 856.785 Q216.241 861.368 210.431 861.368 Q204.621 861.368 201.542 856.785 Q198.487 852.178 198.487 843.452 Q198.487 834.702 201.542 830.118 Q204.621 825.512 210.431 825.512 Z\" fill=\"#000000\" fill-rule=\"evenodd\" fill-opacity=\"1\" /><path clip-path=\"url(#clip890)\" d=\"M136.033 558.776 Q132.422 558.776 130.593 562.341 Q128.788 565.882 128.788 573.012 Q128.788 580.118 130.593 583.683 Q132.422 587.225 136.033 587.225 Q139.667 587.225 141.473 583.683 Q143.302 580.118 143.302 573.012 Q143.302 565.882 141.473 562.341 Q139.667 558.776 136.033 558.776 M136.033 555.072 Q141.843 555.072 144.899 559.679 Q147.978 564.262 147.978 573.012 Q147.978 581.739 144.899 586.345 Q141.843 590.928 136.033 590.928 Q130.223 590.928 127.144 586.345 Q124.089 581.739 124.089 573.012 Q124.089 564.262 127.144 559.679 Q130.223 555.072 136.033 555.072 Z\" fill=\"#000000\" fill-rule=\"evenodd\" fill-opacity=\"1\" /><path clip-path=\"url(#clip890)\" d=\"M156.195 584.378 L161.079 584.378 L161.079 590.257 L156.195 590.257 L156.195 584.378 Z\" fill=\"#000000\" fill-rule=\"evenodd\" fill-opacity=\"1\" /><path clip-path=\"url(#clip890)\" d=\"M170.084 555.697 L192.306 555.697 L192.306 557.688 L179.76 590.257 L174.876 590.257 L186.681 559.632 L170.084 559.632 L170.084 555.697 Z\" fill=\"#000000\" fill-rule=\"evenodd\" fill-opacity=\"1\" /><path clip-path=\"url(#clip890)\" d=\"M201.473 555.697 L219.829 555.697 L219.829 559.632 L205.755 559.632 L205.755 568.105 Q206.774 567.757 207.792 567.595 Q208.811 567.41 209.829 567.41 Q215.616 567.41 218.996 570.581 Q222.375 573.753 222.375 579.169 Q222.375 584.748 218.903 587.85 Q215.431 590.928 209.112 590.928 Q206.936 590.928 204.667 590.558 Q202.422 590.188 200.014 589.447 L200.014 584.748 Q202.098 585.882 204.32 586.438 Q206.542 586.993 209.019 586.993 Q213.024 586.993 215.362 584.887 Q217.699 582.78 217.699 579.169 Q217.699 575.558 215.362 573.452 Q213.024 571.345 209.019 571.345 Q207.144 571.345 205.269 571.762 Q203.417 572.179 201.473 573.058 L201.473 555.697 Z\" fill=\"#000000\" fill-rule=\"evenodd\" fill-opacity=\"1\" /><path clip-path=\"url(#clip890)\" d=\"M125.848 315.882 L133.487 315.882 L133.487 289.517 L125.177 291.183 L125.177 286.924 L133.441 285.257 L138.117 285.257 L138.117 315.882 L145.755 315.882 L145.755 319.817 L125.848 319.817 L125.848 315.882 Z\" fill=\"#000000\" fill-rule=\"evenodd\" fill-opacity=\"1\" /><path clip-path=\"url(#clip890)\" d=\"M155.2 313.938 L160.084 313.938 L160.084 319.817 L155.2 319.817 L155.2 313.938 Z\" fill=\"#000000\" fill-rule=\"evenodd\" fill-opacity=\"1\" /><path clip-path=\"url(#clip890)\" d=\"M180.269 288.336 Q176.658 288.336 174.829 291.901 Q173.024 295.443 173.024 302.572 Q173.024 309.679 174.829 313.243 Q176.658 316.785 180.269 316.785 Q183.903 316.785 185.709 313.243 Q187.538 309.679 187.538 302.572 Q187.538 295.443 185.709 291.901 Q183.903 288.336 180.269 288.336 M180.269 284.632 Q186.079 284.632 189.135 289.239 Q192.213 293.822 192.213 302.572 Q192.213 311.299 189.135 315.905 Q186.079 320.489 180.269 320.489 Q174.459 320.489 171.38 315.905 Q168.325 311.299 168.325 302.572 Q168.325 293.822 171.38 289.239 Q174.459 284.632 180.269 284.632 Z\" fill=\"#000000\" fill-rule=\"evenodd\" fill-opacity=\"1\" /><path clip-path=\"url(#clip890)\" d=\"M210.431 288.336 Q206.82 288.336 204.991 291.901 Q203.186 295.443 203.186 302.572 Q203.186 309.679 204.991 313.243 Q206.82 316.785 210.431 316.785 Q214.065 316.785 215.871 313.243 Q217.699 309.679 217.699 302.572 Q217.699 295.443 215.871 291.901 Q214.065 288.336 210.431 288.336 M210.431 284.632 Q216.241 284.632 219.297 289.239 Q222.375 293.822 222.375 302.572 Q222.375 311.299 219.297 315.905 Q216.241 320.489 210.431 320.489 Q204.621 320.489 201.542 315.905 Q198.487 311.299 198.487 302.572 Q198.487 293.822 201.542 289.239 Q204.621 284.632 210.431 284.632 Z\" fill=\"#000000\" fill-rule=\"evenodd\" fill-opacity=\"1\" /><path clip-path=\"url(#clip890)\" d=\"M44.114 815.839 Q47.721 815.839 51.0382 818.513 Q54.3554 821.153 56.3844 825.469 Q58.3812 829.752 58.3812 834.358 L58.3812 845.565 L74.8706 849.656 Q74.9672 849.688 75.3859 849.784 Q75.7723 849.881 75.9978 849.881 Q76.8029 849.881 76.9962 848.883 Q77.1894 847.852 77.1894 845.565 Q77.1894 844.084 77.447 843.859 Q77.6081 843.73 77.8979 843.73 Q78.3488 843.73 78.6709 843.859 Q78.9607 843.987 79.0573 844.245 Q79.154 844.47 79.1862 844.631 Q79.2184 844.792 79.2184 845.05 Q79.2184 845.726 79.154 847.176 Q79.0895 848.593 79.0895 849.334 L79.0251 853.552 L79.2184 861.926 Q79.2184 862.924 78.4132 862.924 Q77.8013 862.924 77.5437 862.667 Q77.2538 862.409 77.2216 862.119 Q77.1894 861.829 77.1894 861.089 Q77.1894 859.478 77.0928 858.512 Q76.9962 857.546 76.8673 856.934 Q76.7063 856.29 76.2554 855.968 Q75.8045 855.614 75.4181 855.453 Q74.9994 855.292 74.0654 855.066 L38.639 846.242 Q37.5762 845.984 37.4152 845.984 Q36.8677 845.984 36.6744 846.306 Q36.449 846.596 36.3524 847.433 Q36.2235 849.044 36.2235 850.267 Q36.2235 851.073 36.1913 851.395 Q36.1591 851.685 35.9981 851.942 Q35.8049 852.168 35.4184 852.168 Q34.8065 852.168 34.5488 851.91 Q34.259 851.62 34.2268 851.298 Q34.1624 850.976 34.1624 850.203 L34.1624 828.818 Q34.1624 822.667 37.0931 819.253 Q40.0238 815.839 44.114 815.839 M42.5359 821.959 Q36.2235 821.959 36.2235 830.944 L36.2235 837.256 Q36.2235 839.35 36.61 839.865 Q36.9643 840.38 38.7356 840.831 L56.6743 845.308 L56.6743 836 Q56.6743 829.752 53.1638 825.855 Q51.5535 824.084 48.2041 823.021 Q44.8547 821.959 42.5359 821.959 Z\" fill=\"#000000\" fill-rule=\"evenodd\" fill-opacity=\"1\" /><path clip-path=\"url(#clip890)\" d=\"M11.18 781.868 L21.2797 784.371 Q21.8884 784.506 22.0462 784.619 Q22.204 784.731 22.204 785.047 Q22.204 785.295 22.0913 785.453 Q21.9786 785.588 21.8659 785.588 L21.7532 785.611 Q21.6855 785.611 21.3474 785.566 Q20.9867 785.52 20.4005 785.475 Q19.8144 785.43 19.1606 785.43 Q15.4634 785.43 13.75 787.234 Q12.0141 789.015 12.0141 792.081 Q12.0141 794.2 13.1413 796.094 Q14.2685 797.987 16.0495 799.069 Q17.8079 800.152 19.6566 800.152 Q21.3474 800.152 22.4295 799.295 Q23.5116 798.438 23.8723 797.334 L24.7064 794.245 Q25.5406 790.999 25.9013 790.074 Q26.2394 789.15 27.0059 788.384 Q29.1251 786.107 32.4165 786.107 Q35.2571 786.107 38.0075 787.707 Q40.7353 789.308 42.5163 792.058 Q44.2747 794.809 44.2747 797.852 Q44.2747 803.195 40.9607 805.652 L43.5759 807.907 Q44.0718 808.335 44.162 808.47 Q44.2747 808.583 44.2747 808.741 Q44.2747 808.944 44.1395 809.102 Q44.0267 809.259 43.8238 809.259 Q43.666 809.259 38.3682 807.929 Q33.0703 806.599 32.9576 806.486 Q32.7772 806.306 32.7772 806.013 Q32.7772 805.472 33.2957 805.472 Q33.431 805.517 33.6114 805.562 Q35.2345 805.833 36.1138 805.833 Q37.7595 805.833 39.0219 805.269 Q40.2619 804.705 40.9833 803.871 Q41.6822 803.015 42.133 801.865 Q42.5614 800.715 42.7192 799.746 Q42.8544 798.776 42.8544 797.762 Q42.8544 795.575 41.592 793.636 Q40.3295 791.675 38.3682 790.57 Q36.4068 789.443 34.3553 789.443 Q33.2732 789.443 32.4391 789.736 Q31.5824 790.029 31.109 790.435 Q30.6355 790.818 30.2748 791.472 Q29.9141 792.126 29.7789 792.577 Q29.6211 793.005 29.4632 793.681 L28.1557 798.619 Q27.5695 800.602 25.8787 802.023 Q24.1879 803.42 21.5954 803.42 Q18.8675 803.42 16.3426 801.82 Q13.7951 800.197 12.2621 797.559 Q10.7066 794.899 10.7066 792.036 Q10.7066 789.781 11.5858 788.045 Q12.4425 786.309 14.0431 785.43 L11.4054 783.198 Q10.8869 782.748 10.7967 782.657 Q10.7066 782.545 10.7066 782.387 Q10.7066 782.116 10.8644 782.004 Q11.0222 781.868 11.18 781.868 Z\" fill=\"#000000\" fill-rule=\"evenodd\" fill-opacity=\"1\" /><path clip-path=\"url(#clip890)\" d=\"M18.6872 746.244 Q21.2121 746.244 23.5342 748.115 Q25.8562 749.964 27.2765 752.985 Q28.6742 755.983 28.6742 759.207 L28.6742 767.052 L40.2168 769.916 Q40.2844 769.938 40.5775 770.006 Q40.848 770.073 41.0058 770.073 Q41.5694 770.073 41.7047 769.375 Q41.84 768.653 41.84 767.052 Q41.84 766.015 42.0203 765.858 Q42.133 765.767 42.3359 765.767 Q42.6516 765.767 42.877 765.858 Q43.0799 765.948 43.1475 766.128 Q43.2152 766.286 43.2377 766.399 Q43.2602 766.511 43.2602 766.692 Q43.2602 767.165 43.2152 768.18 Q43.1701 769.172 43.1701 769.69 L43.125 772.643 L43.2602 778.505 Q43.2602 779.204 42.6966 779.204 Q42.2683 779.204 42.0879 779.023 Q41.8851 778.843 41.8625 778.64 Q41.84 778.437 41.84 777.919 Q41.84 776.792 41.7723 776.115 Q41.7047 775.439 41.6145 775.011 Q41.5018 774.56 41.1862 774.334 Q40.8706 774.086 40.6 773.974 Q40.307 773.861 39.6532 773.703 L14.8547 767.526 Q14.1107 767.346 13.998 767.346 Q13.6147 767.346 13.4795 767.571 Q13.3217 767.774 13.254 768.36 Q13.1639 769.487 13.1639 770.344 Q13.1639 770.908 13.1413 771.133 Q13.1188 771.336 13.0061 771.516 Q12.8708 771.674 12.6003 771.674 Q12.1719 771.674 11.9916 771.494 Q11.7887 771.291 11.7661 771.065 Q11.721 770.84 11.721 770.299 L11.721 755.33 Q11.721 751.024 13.7726 748.634 Q15.8241 746.244 18.6872 746.244 M17.5825 750.528 Q13.1639 750.528 13.1639 756.817 L13.1639 761.236 Q13.1639 762.701 13.4344 763.062 Q13.6824 763.423 14.9223 763.739 L27.4794 766.872 L27.4794 760.357 Q27.4794 755.983 25.0221 753.256 Q23.8949 752.016 21.5503 751.272 Q19.2057 750.528 17.5825 750.528 Z\" fill=\"#000000\" fill-rule=\"evenodd\" fill-opacity=\"1\" /><path clip-path=\"url(#clip890)\" d=\"M95.7078 742.824 L29.7502 742.824 L29.7502 732.872 L31.2638 732.872 L31.2638 738.411 L94.1941 738.411 L94.1941 732.872 L95.7078 732.872 L95.7078 742.824 Z\" fill=\"#000000\" fill-rule=\"evenodd\" fill-opacity=\"1\" /><path clip-path=\"url(#clip890)\" d=\"M53.1638 702.32 Q53.196 702.32 54.3554 702.513 L83.6306 709.856 Q85.1765 710.242 86.7223 711.337 Q88.3004 712.4 89.6531 714.107 Q91.0379 715.782 91.8753 718.358 Q92.7448 720.903 92.7448 723.833 Q92.7448 728.503 91.7464 730.564 Q90.7803 732.593 88.7191 732.593 Q86.9156 732.593 85.885 731.466 Q84.8866 730.339 84.8866 729.051 Q84.8866 727.827 85.5951 727.183 Q86.3037 726.539 87.2054 726.539 Q88.2038 726.539 89.2022 727.215 Q90.2328 727.891 90.6192 729.244 Q91.2956 727.086 91.2956 723.962 Q91.2956 717.36 84.3069 714.526 Q84.2103 714.461 84.1781 714.461 L75.4503 712.271 L75.3859 712.368 Q76.03 712.916 76.7707 713.785 Q77.4792 714.622 78.3488 716.426 Q79.2184 718.229 79.2184 720.001 Q79.2184 723.704 76.3843 726.249 Q73.5179 728.761 68.7837 728.761 Q65.3376 728.761 61.8916 727.376 Q58.4134 725.959 55.8691 723.769 Q53.2926 721.547 51.6824 718.713 Q50.0721 715.846 50.0721 713.077 Q50.0721 711.144 51.2315 709.502 Q52.3587 707.859 54.2266 706.957 Q52.6807 706.796 52.0366 705.927 Q51.3925 705.025 51.3925 704.252 Q51.3925 703.383 51.8756 702.867 Q52.3265 702.32 53.1638 702.32 M57.1896 707.73 Q56.9963 707.73 56.481 707.859 Q55.9335 707.988 55.064 708.374 Q54.1944 708.729 53.4215 709.276 Q52.6485 709.824 52.101 710.822 Q51.5213 711.788 51.5213 713.012 Q51.5213 715.009 53.196 717.006 Q54.8385 719.002 57.3828 720.387 Q59.8304 721.676 64.5647 722.899 Q69.299 724.091 71.7144 724.091 Q74.0976 724.091 75.9334 723.06 Q77.7691 722.03 77.7691 719.808 Q77.7691 717.231 75.3859 714.461 Q72.906 711.595 70.7804 711.112 L58.1879 707.924 Q57.415 707.73 57.1896 707.73 Z\" fill=\"#000000\" fill-rule=\"evenodd\" fill-opacity=\"1\" /><path clip-path=\"url(#clip890)\" d=\"M94.7738 701.46 Q94.4517 701.46 93.7432 701.203 L31.5215 677.918 Q31.4571 677.918 31.1028 677.757 Q30.7485 677.596 30.5231 677.499 Q30.2655 677.403 30.0722 677.209 Q29.879 676.984 29.879 676.726 Q29.879 676.082 30.6841 676.082 Q30.7485 676.082 31.5215 676.275 L93.8076 699.625 Q94.9348 700.011 95.2569 700.269 Q95.5789 700.494 95.5789 700.881 Q95.5789 701.46 94.7738 701.46 Z\" fill=\"#000000\" fill-rule=\"evenodd\" fill-opacity=\"1\" /><path clip-path=\"url(#clip890)\" d=\"M62.9222 628.958 Q63.1154 628.958 63.8562 629.215 L78.0912 634.433 Q78.9285 634.722 79.0895 635.012 Q79.2184 635.302 79.2184 636.494 L79.2184 667.025 Q79.2184 667.766 79.1862 668.056 Q79.154 668.345 78.9929 668.571 Q78.8319 668.796 78.4776 668.796 Q77.8335 668.796 77.5437 668.571 Q77.2538 668.313 77.2216 668.023 Q77.1894 667.733 77.1894 667.025 Q77.1894 665.415 77.0928 664.449 Q76.9962 663.482 76.8673 662.87 Q76.7063 662.226 76.2554 661.904 Q75.8045 661.55 75.4181 661.389 Q74.9994 661.228 74.0654 661.002 L38.639 652.178 Q37.5762 651.92 37.4152 651.92 Q36.8032 651.92 36.6422 652.307 Q36.449 652.661 36.3524 653.692 L36.2235 656.204 Q36.2235 656.977 36.1913 657.299 Q36.1591 657.589 35.9981 657.814 Q35.8371 658.04 35.4828 658.04 Q34.8709 658.04 34.581 657.814 Q34.259 657.556 34.2268 657.363 Q34.1624 657.138 34.1624 656.784 L34.3556 648.024 L34.1624 638.265 Q34.1624 637.202 34.9675 637.202 Q35.8693 637.202 36.0625 637.653 Q36.2235 638.104 36.2235 639.714 Q36.2235 642.806 36.5456 644.223 Q36.8677 645.608 37.4152 645.995 Q37.9305 646.349 39.3153 646.703 L74.935 655.624 Q76.1266 655.946 76.4487 655.946 Q76.8029 655.946 76.9317 655.785 Q77.0284 655.592 77.0928 655.077 Q77.1894 654.497 77.1894 653.627 L77.1894 647.444 Q77.1894 645.576 76.8995 643.933 Q76.6097 642.291 76.191 641.035 Q75.7723 639.747 74.9994 638.587 Q74.2265 637.428 73.5501 636.623 Q72.8416 635.785 71.7466 634.98 Q70.6194 634.143 69.8465 633.66 Q69.0413 633.144 67.7531 632.565 Q66.4326 631.985 65.6919 631.695 Q64.919 631.373 63.5985 630.89 Q62.9222 630.6 62.729 630.504 Q62.5357 630.407 62.3747 630.246 Q62.2137 630.053 62.2137 629.763 Q62.2137 629.376 62.4391 629.183 Q62.6646 628.958 62.9222 628.958 Z\" fill=\"#000000\" fill-rule=\"evenodd\" fill-opacity=\"1\" /><path clip-path=\"url(#clip890)\" d=\"M94.1941 625.65 L94.1941 620.11 L31.2638 620.11 L31.2638 625.65 L29.7502 625.65 L29.7502 615.698 L95.7078 615.698 L95.7078 625.65 L94.1941 625.65 Z\" fill=\"#000000\" fill-rule=\"evenodd\" fill-opacity=\"1\" /><polyline clip-path=\"url(#clip893)\" style=\"stroke:#000000; stroke-linecap:round; stroke-linejoin:round; stroke-width:4; stroke-opacity:1; fill:none\" stroke-dasharray=\"2, 4\" points=\"317.65,86.1857 421.641,86.1857 525.632,86.1857 629.624,86.1857 733.615,86.1857 837.606,86.1857 941.597,86.1857 1045.59,86.1857 1149.58,86.1857 1253.57,86.1857 1357.56,86.1857 1461.55,86.1857 1565.54,86.1857 1669.53,86.1857 1773.53,86.1857 1877.52,86.1857 1981.51,86.1857 2085.5,86.1857 2189.49,86.1857 2293.48,86.1857 \"/>\n",
       "<polyline clip-path=\"url(#clip893)\" style=\"stroke:#000000; stroke-linecap:round; stroke-linejoin:round; stroke-width:12; stroke-opacity:1; fill:none\" points=\"317.65,86.1859 421.641,86.1858 525.632,86.1857 629.624,86.1862 733.615,86.1859 837.606,86.1858 941.597,86.1858 1045.59,929.815 1149.58,541.949 1253.57,247.526 1357.56,235.28 1461.55,1254.48 1565.54,1384.24 1669.53,1350.45 1773.53,460.301 1877.52,1254.47 1981.51,1376.61 2085.5,1020.85 2189.49,324.016 2293.48,1254.5 \"/>\n",
       "<circle clip-path=\"url(#clip893)\" cx=\"317.65\" cy=\"86.1859\" r=\"10.8\" fill=\"#000000\" fill-rule=\"evenodd\" fill-opacity=\"1\" stroke=\"none\"/>\n",
       "<circle clip-path=\"url(#clip893)\" cx=\"421.641\" cy=\"86.1858\" r=\"10.8\" fill=\"#000000\" fill-rule=\"evenodd\" fill-opacity=\"1\" stroke=\"none\"/>\n",
       "<circle clip-path=\"url(#clip893)\" cx=\"525.632\" cy=\"86.1857\" r=\"10.8\" fill=\"#000000\" fill-rule=\"evenodd\" fill-opacity=\"1\" stroke=\"none\"/>\n",
       "<circle clip-path=\"url(#clip893)\" cx=\"629.624\" cy=\"86.1862\" r=\"10.8\" fill=\"#000000\" fill-rule=\"evenodd\" fill-opacity=\"1\" stroke=\"none\"/>\n",
       "<circle clip-path=\"url(#clip893)\" cx=\"733.615\" cy=\"86.1859\" r=\"10.8\" fill=\"#000000\" fill-rule=\"evenodd\" fill-opacity=\"1\" stroke=\"none\"/>\n",
       "<circle clip-path=\"url(#clip893)\" cx=\"837.606\" cy=\"86.1858\" r=\"10.8\" fill=\"#000000\" fill-rule=\"evenodd\" fill-opacity=\"1\" stroke=\"none\"/>\n",
       "<circle clip-path=\"url(#clip893)\" cx=\"941.597\" cy=\"86.1858\" r=\"10.8\" fill=\"#000000\" fill-rule=\"evenodd\" fill-opacity=\"1\" stroke=\"none\"/>\n",
       "<circle clip-path=\"url(#clip893)\" cx=\"1045.59\" cy=\"929.815\" r=\"10.8\" fill=\"#000000\" fill-rule=\"evenodd\" fill-opacity=\"1\" stroke=\"none\"/>\n",
       "<circle clip-path=\"url(#clip893)\" cx=\"1149.58\" cy=\"541.949\" r=\"10.8\" fill=\"#000000\" fill-rule=\"evenodd\" fill-opacity=\"1\" stroke=\"none\"/>\n",
       "<circle clip-path=\"url(#clip893)\" cx=\"1253.57\" cy=\"247.526\" r=\"10.8\" fill=\"#000000\" fill-rule=\"evenodd\" fill-opacity=\"1\" stroke=\"none\"/>\n",
       "<circle clip-path=\"url(#clip893)\" cx=\"1357.56\" cy=\"235.28\" r=\"10.8\" fill=\"#000000\" fill-rule=\"evenodd\" fill-opacity=\"1\" stroke=\"none\"/>\n",
       "<circle clip-path=\"url(#clip893)\" cx=\"1461.55\" cy=\"1254.48\" r=\"10.8\" fill=\"#000000\" fill-rule=\"evenodd\" fill-opacity=\"1\" stroke=\"none\"/>\n",
       "<circle clip-path=\"url(#clip893)\" cx=\"1565.54\" cy=\"1384.24\" r=\"10.8\" fill=\"#000000\" fill-rule=\"evenodd\" fill-opacity=\"1\" stroke=\"none\"/>\n",
       "<circle clip-path=\"url(#clip893)\" cx=\"1669.53\" cy=\"1350.45\" r=\"10.8\" fill=\"#000000\" fill-rule=\"evenodd\" fill-opacity=\"1\" stroke=\"none\"/>\n",
       "<circle clip-path=\"url(#clip893)\" cx=\"1773.53\" cy=\"460.301\" r=\"10.8\" fill=\"#000000\" fill-rule=\"evenodd\" fill-opacity=\"1\" stroke=\"none\"/>\n",
       "<circle clip-path=\"url(#clip893)\" cx=\"1877.52\" cy=\"1254.47\" r=\"10.8\" fill=\"#000000\" fill-rule=\"evenodd\" fill-opacity=\"1\" stroke=\"none\"/>\n",
       "<circle clip-path=\"url(#clip893)\" cx=\"1981.51\" cy=\"1376.61\" r=\"10.8\" fill=\"#000000\" fill-rule=\"evenodd\" fill-opacity=\"1\" stroke=\"none\"/>\n",
       "<circle clip-path=\"url(#clip893)\" cx=\"2085.5\" cy=\"1020.85\" r=\"10.8\" fill=\"#000000\" fill-rule=\"evenodd\" fill-opacity=\"1\" stroke=\"none\"/>\n",
       "<circle clip-path=\"url(#clip893)\" cx=\"2189.49\" cy=\"324.016\" r=\"10.8\" fill=\"#000000\" fill-rule=\"evenodd\" fill-opacity=\"1\" stroke=\"none\"/>\n",
       "<circle clip-path=\"url(#clip893)\" cx=\"2293.48\" cy=\"1254.5\" r=\"10.8\" fill=\"#000000\" fill-rule=\"evenodd\" fill-opacity=\"1\" stroke=\"none\"/>\n",
       "<polyline clip-path=\"url(#clip893)\" style=\"stroke:#000000; stroke-linecap:round; stroke-linejoin:round; stroke-width:12; stroke-opacity:1; fill:none\" stroke-dasharray=\"48, 24, 6, 24\" points=\"317.65,86.2104 421.641,86.1858 525.632,86.1857 629.624,86.2045 733.615,86.1872 837.606,86.1868 941.597,86.2729 1045.59,862.733 1149.58,475.182 1253.57,247.798 1357.56,184.679 1461.55,1189.52 1565.54,1319.3 1669.53,1280.56 1773.53,461.499 1877.52,1254.43 1981.51,1383.28 2085.5,1006.55 2189.49,324.266 2293.48,1254.25 \"/>\n",
       "<path clip-path=\"url(#clip893)\" d=\"M305.65 74.2104 L305.65 98.2104 L329.65 98.2104 L329.65 74.2104 L305.65 74.2104 Z\" fill=\"#000000\" fill-rule=\"evenodd\" fill-opacity=\"1\" stroke=\"none\"/>\n",
       "<path clip-path=\"url(#clip893)\" d=\"M409.641 74.1858 L409.641 98.1858 L433.641 98.1858 L433.641 74.1858 L409.641 74.1858 Z\" fill=\"#000000\" fill-rule=\"evenodd\" fill-opacity=\"1\" stroke=\"none\"/>\n",
       "<path clip-path=\"url(#clip893)\" d=\"M513.632 74.1857 L513.632 98.1857 L537.632 98.1857 L537.632 74.1857 L513.632 74.1857 Z\" fill=\"#000000\" fill-rule=\"evenodd\" fill-opacity=\"1\" stroke=\"none\"/>\n",
       "<path clip-path=\"url(#clip893)\" d=\"M617.624 74.2045 L617.624 98.2045 L641.624 98.2045 L641.624 74.2045 L617.624 74.2045 Z\" fill=\"#000000\" fill-rule=\"evenodd\" fill-opacity=\"1\" stroke=\"none\"/>\n",
       "<path clip-path=\"url(#clip893)\" d=\"M721.615 74.1872 L721.615 98.1872 L745.615 98.1872 L745.615 74.1872 L721.615 74.1872 Z\" fill=\"#000000\" fill-rule=\"evenodd\" fill-opacity=\"1\" stroke=\"none\"/>\n",
       "<path clip-path=\"url(#clip893)\" d=\"M825.606 74.1868 L825.606 98.1868 L849.606 98.1868 L849.606 74.1868 L825.606 74.1868 Z\" fill=\"#000000\" fill-rule=\"evenodd\" fill-opacity=\"1\" stroke=\"none\"/>\n",
       "<path clip-path=\"url(#clip893)\" d=\"M929.597 74.2729 L929.597 98.2729 L953.597 98.2729 L953.597 74.2729 L929.597 74.2729 Z\" fill=\"#000000\" fill-rule=\"evenodd\" fill-opacity=\"1\" stroke=\"none\"/>\n",
       "<path clip-path=\"url(#clip893)\" d=\"M1033.59 850.733 L1033.59 874.733 L1057.59 874.733 L1057.59 850.733 L1033.59 850.733 Z\" fill=\"#000000\" fill-rule=\"evenodd\" fill-opacity=\"1\" stroke=\"none\"/>\n",
       "<path clip-path=\"url(#clip893)\" d=\"M1137.58 463.182 L1137.58 487.182 L1161.58 487.182 L1161.58 463.182 L1137.58 463.182 Z\" fill=\"#000000\" fill-rule=\"evenodd\" fill-opacity=\"1\" stroke=\"none\"/>\n",
       "<path clip-path=\"url(#clip893)\" d=\"M1241.57 235.798 L1241.57 259.798 L1265.57 259.798 L1265.57 235.798 L1241.57 235.798 Z\" fill=\"#000000\" fill-rule=\"evenodd\" fill-opacity=\"1\" stroke=\"none\"/>\n",
       "<path clip-path=\"url(#clip893)\" d=\"M1345.56 172.679 L1345.56 196.679 L1369.56 196.679 L1369.56 172.679 L1345.56 172.679 Z\" fill=\"#000000\" fill-rule=\"evenodd\" fill-opacity=\"1\" stroke=\"none\"/>\n",
       "<path clip-path=\"url(#clip893)\" d=\"M1449.55 1177.52 L1449.55 1201.52 L1473.55 1201.52 L1473.55 1177.52 L1449.55 1177.52 Z\" fill=\"#000000\" fill-rule=\"evenodd\" fill-opacity=\"1\" stroke=\"none\"/>\n",
       "<path clip-path=\"url(#clip893)\" d=\"M1553.54 1307.3 L1553.54 1331.3 L1577.54 1331.3 L1577.54 1307.3 L1553.54 1307.3 Z\" fill=\"#000000\" fill-rule=\"evenodd\" fill-opacity=\"1\" stroke=\"none\"/>\n",
       "<path clip-path=\"url(#clip893)\" d=\"M1657.53 1268.56 L1657.53 1292.56 L1681.53 1292.56 L1681.53 1268.56 L1657.53 1268.56 Z\" fill=\"#000000\" fill-rule=\"evenodd\" fill-opacity=\"1\" stroke=\"none\"/>\n",
       "<path clip-path=\"url(#clip893)\" d=\"M1761.53 449.499 L1761.53 473.499 L1785.53 473.499 L1785.53 449.499 L1761.53 449.499 Z\" fill=\"#000000\" fill-rule=\"evenodd\" fill-opacity=\"1\" stroke=\"none\"/>\n",
       "<path clip-path=\"url(#clip893)\" d=\"M1865.52 1242.43 L1865.52 1266.43 L1889.52 1266.43 L1889.52 1242.43 L1865.52 1242.43 Z\" fill=\"#000000\" fill-rule=\"evenodd\" fill-opacity=\"1\" stroke=\"none\"/>\n",
       "<path clip-path=\"url(#clip893)\" d=\"M1969.51 1371.28 L1969.51 1395.28 L1993.51 1395.28 L1993.51 1371.28 L1969.51 1371.28 Z\" fill=\"#000000\" fill-rule=\"evenodd\" fill-opacity=\"1\" stroke=\"none\"/>\n",
       "<path clip-path=\"url(#clip893)\" d=\"M2073.5 994.546 L2073.5 1018.55 L2097.5 1018.55 L2097.5 994.546 L2073.5 994.546 Z\" fill=\"#000000\" fill-rule=\"evenodd\" fill-opacity=\"1\" stroke=\"none\"/>\n",
       "<path clip-path=\"url(#clip893)\" d=\"M2177.49 312.266 L2177.49 336.266 L2201.49 336.266 L2201.49 312.266 L2177.49 312.266 Z\" fill=\"#000000\" fill-rule=\"evenodd\" fill-opacity=\"1\" stroke=\"none\"/>\n",
       "<path clip-path=\"url(#clip893)\" d=\"M2281.48 1242.25 L2281.48 1266.25 L2305.48 1266.25 L2305.48 1242.25 L2281.48 1242.25 Z\" fill=\"#000000\" fill-rule=\"evenodd\" fill-opacity=\"1\" stroke=\"none\"/>\n",
       "<path clip-path=\"url(#clip890)\" d=\"M328.188 1377.32 L671.051 1377.32 L671.051 1221.8 L328.188 1221.8  Z\" fill=\"#ffffff\" fill-rule=\"evenodd\" fill-opacity=\"1\"/>\n",
       "<polyline clip-path=\"url(#clip890)\" style=\"stroke:#000000; stroke-linecap:round; stroke-linejoin:round; stroke-width:4; stroke-opacity:1; fill:none\" points=\"328.188,1377.32 671.051,1377.32 671.051,1221.8 328.188,1221.8 328.188,1377.32 \"/>\n",
       "<polyline clip-path=\"url(#clip890)\" style=\"stroke:#000000; stroke-linecap:round; stroke-linejoin:round; stroke-width:12; stroke-opacity:1; fill:none\" points=\"351.459,1273.64 491.084,1273.64 \"/>\n",
       "<circle clip-path=\"url(#clip890)\" cx=\"421.272\" cy=\"1273.64\" r=\"19.3924\" fill=\"#000000\" fill-rule=\"evenodd\" fill-opacity=\"1\" stroke=\"none\"/>\n",
       "<path clip-path=\"url(#clip890)\" d=\"M514.355 1256.36 L521.323 1256.36 L530.142 1279.87 L539.008 1256.36 L545.975 1256.36 L545.975 1290.92 L541.415 1290.92 L541.415 1260.57 L532.503 1284.27 L527.804 1284.27 L518.892 1260.57 L518.892 1290.92 L514.355 1290.92 L514.355 1256.36 Z\" fill=\"#000000\" fill-rule=\"evenodd\" fill-opacity=\"1\" /><path clip-path=\"url(#clip890)\" d=\"M565.119 1267.98 Q561.693 1267.98 559.702 1270.66 Q557.711 1273.32 557.711 1277.98 Q557.711 1282.63 559.679 1285.31 Q561.67 1287.98 565.119 1287.98 Q568.522 1287.98 570.512 1285.29 Q572.503 1282.61 572.503 1277.98 Q572.503 1273.37 570.512 1270.68 Q568.522 1267.98 565.119 1267.98 M565.119 1264.36 Q570.674 1264.36 573.846 1267.98 Q577.017 1271.59 577.017 1277.98 Q577.017 1284.34 573.846 1287.98 Q570.674 1291.59 565.119 1291.59 Q559.54 1291.59 556.369 1287.98 Q553.221 1284.34 553.221 1277.98 Q553.221 1271.59 556.369 1267.98 Q559.54 1264.36 565.119 1264.36 Z\" fill=\"#000000\" fill-rule=\"evenodd\" fill-opacity=\"1\" /><path clip-path=\"url(#clip890)\" d=\"M605.628 1275.27 L605.628 1290.92 L601.369 1290.92 L601.369 1275.41 Q601.369 1271.73 599.933 1269.9 Q598.498 1268.07 595.628 1268.07 Q592.179 1268.07 590.188 1270.27 Q588.197 1272.47 588.197 1276.26 L588.197 1290.92 L583.915 1290.92 L583.915 1264.99 L588.197 1264.99 L588.197 1269.02 Q589.725 1266.68 591.785 1265.52 Q593.869 1264.36 596.577 1264.36 Q601.045 1264.36 603.336 1267.14 Q605.628 1269.9 605.628 1275.27 Z\" fill=\"#000000\" fill-rule=\"evenodd\" fill-opacity=\"1\" /><path clip-path=\"url(#clip890)\" d=\"M624.169 1267.98 Q620.744 1267.98 618.753 1270.66 Q616.762 1273.32 616.762 1277.98 Q616.762 1282.63 618.73 1285.31 Q620.72 1287.98 624.169 1287.98 Q627.572 1287.98 629.563 1285.29 Q631.554 1282.61 631.554 1277.98 Q631.554 1273.37 629.563 1270.68 Q627.572 1267.98 624.169 1267.98 M624.169 1264.36 Q629.725 1264.36 632.896 1267.98 Q636.068 1271.59 636.068 1277.98 Q636.068 1284.34 632.896 1287.98 Q629.725 1291.59 624.169 1291.59 Q618.591 1291.59 615.419 1287.98 Q612.271 1284.34 612.271 1277.98 Q612.271 1271.59 615.419 1267.98 Q618.591 1264.36 624.169 1264.36 Z\" fill=\"#000000\" fill-rule=\"evenodd\" fill-opacity=\"1\" /><path clip-path=\"url(#clip890)\" d=\"M642.896 1285.04 L647.78 1285.04 L647.78 1290.92 L642.896 1290.92 L642.896 1285.04 Z\" fill=\"#000000\" fill-rule=\"evenodd\" fill-opacity=\"1\" /><polyline clip-path=\"url(#clip890)\" style=\"stroke:#000000; stroke-linecap:round; stroke-linejoin:round; stroke-width:12; stroke-opacity:1; fill:none\" stroke-dasharray=\"48, 24, 6, 24\" points=\"351.459,1325.48 491.084,1325.48 \"/>\n",
       "<path clip-path=\"url(#clip890)\" d=\"M399.725 1303.93 L399.725 1347.02 L442.819 1347.02 L442.819 1303.93 L399.725 1303.93 Z\" fill=\"#000000\" fill-rule=\"evenodd\" fill-opacity=\"1\" stroke=\"none\"/>\n",
       "<path clip-path=\"url(#clip890)\" d=\"M519.031 1312.04 L519.031 1338.91 L524.679 1338.91 Q531.832 1338.91 535.142 1335.67 Q538.475 1332.43 538.475 1325.44 Q538.475 1318.5 535.142 1315.28 Q531.832 1312.04 524.679 1312.04 L519.031 1312.04 M514.355 1308.2 L523.962 1308.2 Q534.008 1308.2 538.707 1312.39 Q543.406 1316.55 543.406 1325.44 Q543.406 1334.38 538.684 1338.57 Q533.962 1342.76 523.962 1342.76 L514.355 1342.76 L514.355 1308.2 Z\" fill=\"#000000\" fill-rule=\"evenodd\" fill-opacity=\"1\" /><path clip-path=\"url(#clip890)\" d=\"M572.85 1328.73 L572.85 1330.81 L553.267 1330.81 Q553.545 1335.21 555.906 1337.52 Q558.29 1339.82 562.526 1339.82 Q564.98 1339.82 567.272 1339.21 Q569.586 1338.61 571.855 1337.41 L571.855 1341.44 Q569.563 1342.41 567.156 1342.92 Q564.748 1343.43 562.272 1343.43 Q556.068 1343.43 552.434 1339.82 Q548.823 1336.2 548.823 1330.05 Q548.823 1323.68 552.249 1319.95 Q555.698 1316.2 561.531 1316.2 Q566.762 1316.2 569.795 1319.58 Q572.85 1322.94 572.85 1328.73 M568.591 1327.48 Q568.545 1323.98 566.623 1321.9 Q564.725 1319.82 561.577 1319.82 Q558.012 1319.82 555.86 1321.83 Q553.73 1323.84 553.406 1327.5 L568.591 1327.48 Z\" fill=\"#000000\" fill-rule=\"evenodd\" fill-opacity=\"1\" /><path clip-path=\"url(#clip890)\" d=\"M598.498 1317.82 L598.498 1321.81 Q596.693 1320.81 594.864 1320.32 Q593.058 1319.82 591.207 1319.82 Q587.063 1319.82 584.771 1322.45 Q582.48 1325.07 582.48 1329.82 Q582.48 1334.56 584.771 1337.2 Q587.063 1339.82 591.207 1339.82 Q593.058 1339.82 594.864 1339.33 Q596.693 1338.82 598.498 1337.82 L598.498 1341.76 Q596.716 1342.59 594.795 1343.01 Q592.896 1343.43 590.744 1343.43 Q584.887 1343.43 581.438 1339.75 Q577.989 1336.07 577.989 1329.82 Q577.989 1323.47 581.461 1319.84 Q584.957 1316.2 591.021 1316.2 Q592.989 1316.2 594.864 1316.62 Q596.739 1317.01 598.498 1317.82 Z\" fill=\"#000000\" fill-rule=\"evenodd\" fill-opacity=\"1\" /><path clip-path=\"url(#clip890)\" d=\"M615.952 1319.82 Q612.526 1319.82 610.535 1322.5 Q608.545 1325.16 608.545 1329.82 Q608.545 1334.47 610.512 1337.15 Q612.503 1339.82 615.952 1339.82 Q619.355 1339.82 621.345 1337.13 Q623.336 1334.45 623.336 1329.82 Q623.336 1325.21 621.345 1322.52 Q619.355 1319.82 615.952 1319.82 M615.952 1316.2 Q621.507 1316.2 624.679 1319.82 Q627.85 1323.43 627.85 1329.82 Q627.85 1336.18 624.679 1339.82 Q621.507 1343.43 615.952 1343.43 Q610.373 1343.43 607.202 1339.82 Q604.054 1336.18 604.054 1329.82 Q604.054 1323.43 607.202 1319.82 Q610.373 1316.2 615.952 1316.2 Z\" fill=\"#000000\" fill-rule=\"evenodd\" fill-opacity=\"1\" /><path clip-path=\"url(#clip890)\" d=\"M634.679 1336.88 L639.563 1336.88 L639.563 1342.76 L634.679 1342.76 L634.679 1336.88 Z\" fill=\"#000000\" fill-rule=\"evenodd\" fill-opacity=\"1\" /></svg>\n"
      ]
     },
     "execution_count": 26,
     "metadata": {},
     "output_type": "execute_result"
    }
   ],
   "source": [
    "mc_comp(L\"P^{SP} [g/L]\",ts,yspMean[:,1,:],yspMax)"
   ]
  },
  {
   "cell_type": "markdown",
   "id": "e70dea21",
   "metadata": {},
   "source": [
    "- Inputs"
   ]
  },
  {
   "cell_type": "code",
   "execution_count": 27,
   "id": "6341668b",
   "metadata": {},
   "outputs": [
    {
     "data": {
      "image/svg+xml": [
       "<?xml version=\"1.0\" encoding=\"utf-8\"?>\n",
       "<svg xmlns=\"http://www.w3.org/2000/svg\" xmlns:xlink=\"http://www.w3.org/1999/xlink\" width=\"600\" height=\"400\" viewBox=\"0 0 2400 1600\">\n",
       "<defs>\n",
       "  <clipPath id=\"clip930\">\n",
       "    <rect x=\"0\" y=\"0\" width=\"2400\" height=\"1600\"/>\n",
       "  </clipPath>\n",
       "</defs>\n",
       "<path clip-path=\"url(#clip930)\" d=\"M0 1600 L2400 1600 L2400 0 L0 0  Z\" fill=\"#ffffff\" fill-rule=\"evenodd\" fill-opacity=\"1\"/>\n",
       "<defs>\n",
       "  <clipPath id=\"clip931\">\n",
       "    <rect x=\"480\" y=\"0\" width=\"1681\" height=\"1600\"/>\n",
       "  </clipPath>\n",
       "</defs>\n",
       "<defs>\n",
       "  <clipPath id=\"clip932\">\n",
       "    <rect x=\"258\" y=\"47\" width=\"2095\" height=\"1377\"/>\n",
       "  </clipPath>\n",
       "</defs>\n",
       "<path clip-path=\"url(#clip930)\" d=\"M175.445 1423.18 L2352.76 1423.18 L2352.76 47.2441 L175.445 47.2441  Z\" fill=\"#ffffff\" fill-rule=\"evenodd\" fill-opacity=\"1\"/>\n",
       "<defs>\n",
       "  <clipPath id=\"clip933\">\n",
       "    <rect x=\"175\" y=\"47\" width=\"2178\" height=\"1377\"/>\n",
       "  </clipPath>\n",
       "</defs>\n",
       "<polyline clip-path=\"url(#clip933)\" style=\"stroke:#000000; stroke-linecap:round; stroke-linejoin:round; stroke-width:8; stroke-opacity:0.1; fill:none\" points=\"669.502,1423.18 669.502,47.2441 \"/>\n",
       "<polyline clip-path=\"url(#clip933)\" style=\"stroke:#000000; stroke-linecap:round; stroke-linejoin:round; stroke-width:8; stroke-opacity:0.1; fill:none\" points=\"1210.05,1423.18 1210.05,47.2441 \"/>\n",
       "<polyline clip-path=\"url(#clip933)\" style=\"stroke:#000000; stroke-linecap:round; stroke-linejoin:round; stroke-width:8; stroke-opacity:0.1; fill:none\" points=\"1750.59,1423.18 1750.59,47.2441 \"/>\n",
       "<polyline clip-path=\"url(#clip933)\" style=\"stroke:#000000; stroke-linecap:round; stroke-linejoin:round; stroke-width:8; stroke-opacity:0.1; fill:none\" points=\"2291.13,1423.18 2291.13,47.2441 \"/>\n",
       "<polyline clip-path=\"url(#clip930)\" style=\"stroke:#000000; stroke-linecap:round; stroke-linejoin:round; stroke-width:4; stroke-opacity:1; fill:none\" points=\"175.445,1423.18 2352.76,1423.18 \"/>\n",
       "<polyline clip-path=\"url(#clip930)\" style=\"stroke:#000000; stroke-linecap:round; stroke-linejoin:round; stroke-width:4; stroke-opacity:1; fill:none\" points=\"669.502,1423.18 669.502,1404.28 \"/>\n",
       "<polyline clip-path=\"url(#clip930)\" style=\"stroke:#000000; stroke-linecap:round; stroke-linejoin:round; stroke-width:4; stroke-opacity:1; fill:none\" points=\"1210.05,1423.18 1210.05,1404.28 \"/>\n",
       "<polyline clip-path=\"url(#clip930)\" style=\"stroke:#000000; stroke-linecap:round; stroke-linejoin:round; stroke-width:4; stroke-opacity:1; fill:none\" points=\"1750.59,1423.18 1750.59,1404.28 \"/>\n",
       "<polyline clip-path=\"url(#clip930)\" style=\"stroke:#000000; stroke-linecap:round; stroke-linejoin:round; stroke-width:4; stroke-opacity:1; fill:none\" points=\"2291.13,1423.18 2291.13,1404.28 \"/>\n",
       "<path clip-path=\"url(#clip930)\" d=\"M659.78 1451.02 L678.137 1451.02 L678.137 1454.96 L664.063 1454.96 L664.063 1463.43 Q665.081 1463.08 666.1 1462.92 Q667.118 1462.73 668.137 1462.73 Q673.924 1462.73 677.303 1465.9 Q680.683 1469.08 680.683 1474.49 Q680.683 1480.07 677.211 1483.17 Q673.738 1486.25 667.419 1486.25 Q665.243 1486.25 662.975 1485.88 Q660.729 1485.51 658.322 1484.77 L658.322 1480.07 Q660.405 1481.2 662.627 1481.76 Q664.85 1482.32 667.326 1482.32 Q671.331 1482.32 673.669 1480.21 Q676.007 1478.1 676.007 1474.49 Q676.007 1470.88 673.669 1468.77 Q671.331 1466.67 667.326 1466.67 Q665.451 1466.67 663.576 1467.08 Q661.725 1467.5 659.78 1468.38 L659.78 1451.02 Z\" fill=\"#000000\" fill-rule=\"evenodd\" fill-opacity=\"1\" /><path clip-path=\"url(#clip930)\" d=\"M1184.73 1481.64 L1192.37 1481.64 L1192.37 1455.28 L1184.06 1456.95 L1184.06 1452.69 L1192.33 1451.02 L1197 1451.02 L1197 1481.64 L1204.64 1481.64 L1204.64 1485.58 L1184.73 1485.58 L1184.73 1481.64 Z\" fill=\"#000000\" fill-rule=\"evenodd\" fill-opacity=\"1\" /><path clip-path=\"url(#clip930)\" d=\"M1224.09 1454.1 Q1220.47 1454.1 1218.65 1457.66 Q1216.84 1461.2 1216.84 1468.33 Q1216.84 1475.44 1218.65 1479.01 Q1220.47 1482.55 1224.09 1482.55 Q1227.72 1482.55 1229.53 1479.01 Q1231.35 1475.44 1231.35 1468.33 Q1231.35 1461.2 1229.53 1457.66 Q1227.72 1454.1 1224.09 1454.1 M1224.09 1450.39 Q1229.9 1450.39 1232.95 1455 Q1236.03 1459.58 1236.03 1468.33 Q1236.03 1477.06 1232.95 1481.67 Q1229.9 1486.25 1224.09 1486.25 Q1218.28 1486.25 1215.2 1481.67 Q1212.14 1477.06 1212.14 1468.33 Q1212.14 1459.58 1215.2 1455 Q1218.28 1450.39 1224.09 1450.39 Z\" fill=\"#000000\" fill-rule=\"evenodd\" fill-opacity=\"1\" /><path clip-path=\"url(#clip930)\" d=\"M1725.78 1481.64 L1733.41 1481.64 L1733.41 1455.28 L1725.1 1456.95 L1725.1 1452.69 L1733.37 1451.02 L1738.04 1451.02 L1738.04 1481.64 L1745.68 1481.64 L1745.68 1485.58 L1725.78 1485.58 L1725.78 1481.64 Z\" fill=\"#000000\" fill-rule=\"evenodd\" fill-opacity=\"1\" /><path clip-path=\"url(#clip930)\" d=\"M1755.17 1451.02 L1773.53 1451.02 L1773.53 1454.96 L1759.46 1454.96 L1759.46 1463.43 Q1760.47 1463.08 1761.49 1462.92 Q1762.51 1462.73 1763.53 1462.73 Q1769.32 1462.73 1772.7 1465.9 Q1776.08 1469.08 1776.08 1474.49 Q1776.08 1480.07 1772.6 1483.17 Q1769.13 1486.25 1762.81 1486.25 Q1760.64 1486.25 1758.37 1485.88 Q1756.12 1485.51 1753.72 1484.77 L1753.72 1480.07 Q1755.8 1481.2 1758.02 1481.76 Q1760.24 1482.32 1762.72 1482.32 Q1766.72 1482.32 1769.06 1480.21 Q1771.4 1478.1 1771.4 1474.49 Q1771.4 1470.88 1769.06 1468.77 Q1766.72 1466.67 1762.72 1466.67 Q1760.84 1466.67 1758.97 1467.08 Q1757.12 1467.5 1755.17 1468.38 L1755.17 1451.02 Z\" fill=\"#000000\" fill-rule=\"evenodd\" fill-opacity=\"1\" /><path clip-path=\"url(#clip930)\" d=\"M2269.91 1481.64 L2286.23 1481.64 L2286.23 1485.58 L2264.28 1485.58 L2264.28 1481.64 Q2266.94 1478.89 2271.53 1474.26 Q2276.13 1469.61 2277.31 1468.27 Q2279.56 1465.74 2280.44 1464.01 Q2281.34 1462.25 2281.34 1460.56 Q2281.34 1457.8 2279.4 1456.07 Q2277.48 1454.33 2274.37 1454.33 Q2272.18 1454.33 2269.72 1455.09 Q2267.29 1455.86 2264.51 1457.41 L2264.51 1452.69 Q2267.34 1451.55 2269.79 1450.97 Q2272.25 1450.39 2274.28 1450.39 Q2279.65 1450.39 2282.85 1453.08 Q2286.04 1455.77 2286.04 1460.26 Q2286.04 1462.39 2285.23 1464.31 Q2284.44 1466.2 2282.34 1468.8 Q2281.76 1469.47 2278.66 1472.69 Q2275.56 1475.88 2269.91 1481.64 Z\" fill=\"#000000\" fill-rule=\"evenodd\" fill-opacity=\"1\" /><path clip-path=\"url(#clip930)\" d=\"M2306.04 1454.1 Q2302.43 1454.1 2300.6 1457.66 Q2298.8 1461.2 2298.8 1468.33 Q2298.8 1475.44 2300.6 1479.01 Q2302.43 1482.55 2306.04 1482.55 Q2309.68 1482.55 2311.48 1479.01 Q2313.31 1475.44 2313.31 1468.33 Q2313.31 1461.2 2311.48 1457.66 Q2309.68 1454.1 2306.04 1454.1 M2306.04 1450.39 Q2311.85 1450.39 2314.91 1455 Q2317.99 1459.58 2317.99 1468.33 Q2317.99 1477.06 2314.91 1481.67 Q2311.85 1486.25 2306.04 1486.25 Q2300.23 1486.25 2297.15 1481.67 Q2294.1 1477.06 2294.1 1468.33 Q2294.1 1459.58 2297.15 1455 Q2300.23 1450.39 2306.04 1450.39 Z\" fill=\"#000000\" fill-rule=\"evenodd\" fill-opacity=\"1\" /><path clip-path=\"url(#clip930)\" d=\"M1107.07 1522.27 L1107.07 1532.4 L1119.14 1532.4 L1119.14 1536.95 L1107.07 1536.95 L1107.07 1556.3 Q1107.07 1560.66 1108.25 1561.9 Q1109.46 1563.14 1113.12 1563.14 L1119.14 1563.14 L1119.14 1568.04 L1113.12 1568.04 Q1106.34 1568.04 1103.76 1565.53 Q1101.19 1562.98 1101.19 1556.3 L1101.19 1536.95 L1096.89 1536.95 L1096.89 1532.4 L1101.19 1532.4 L1101.19 1522.27 L1107.07 1522.27 Z\" fill=\"#000000\" fill-rule=\"evenodd\" fill-opacity=\"1\" /><path clip-path=\"url(#clip930)\" d=\"M1126.84 1532.4 L1132.7 1532.4 L1132.7 1568.04 L1126.84 1568.04 L1126.84 1532.4 M1126.84 1518.52 L1132.7 1518.52 L1132.7 1525.93 L1126.84 1525.93 L1126.84 1518.52 Z\" fill=\"#000000\" fill-rule=\"evenodd\" fill-opacity=\"1\" /><path clip-path=\"url(#clip930)\" d=\"M1172.7 1539.24 Q1174.9 1535.29 1177.96 1533.41 Q1181.01 1531.54 1185.15 1531.54 Q1190.72 1531.54 1193.74 1535.45 Q1196.77 1539.33 1196.77 1546.53 L1196.77 1568.04 L1190.88 1568.04 L1190.88 1546.72 Q1190.88 1541.59 1189.06 1539.11 Q1187.25 1536.63 1183.53 1536.63 Q1178.98 1536.63 1176.33 1539.65 Q1173.69 1542.68 1173.69 1547.9 L1173.69 1568.04 L1167.8 1568.04 L1167.8 1546.72 Q1167.8 1541.56 1165.99 1539.11 Q1164.17 1536.63 1160.39 1536.63 Q1155.9 1536.63 1153.26 1539.68 Q1150.62 1542.71 1150.62 1547.9 L1150.62 1568.04 L1144.73 1568.04 L1144.73 1532.4 L1150.62 1532.4 L1150.62 1537.93 Q1152.62 1534.66 1155.42 1533.1 Q1158.22 1531.54 1162.07 1531.54 Q1165.96 1531.54 1168.66 1533.51 Q1171.4 1535.48 1172.7 1539.24 Z\" fill=\"#000000\" fill-rule=\"evenodd\" fill-opacity=\"1\" /><path clip-path=\"url(#clip930)\" d=\"M1238.94 1548.76 L1238.94 1551.62 L1212.01 1551.62 Q1212.4 1557.67 1215.64 1560.85 Q1218.92 1564 1224.74 1564 Q1228.12 1564 1231.27 1563.17 Q1234.45 1562.35 1237.57 1560.69 L1237.57 1566.23 Q1234.42 1567.57 1231.11 1568.27 Q1227.8 1568.97 1224.39 1568.97 Q1215.86 1568.97 1210.87 1564 Q1205.9 1559.04 1205.9 1550.57 Q1205.9 1541.82 1210.61 1536.69 Q1215.36 1531.54 1223.38 1531.54 Q1230.57 1531.54 1234.74 1536.18 Q1238.94 1540.8 1238.94 1548.76 M1233.08 1547.04 Q1233.02 1542.23 1230.38 1539.37 Q1227.77 1536.5 1223.44 1536.5 Q1218.54 1536.5 1215.58 1539.27 Q1212.65 1542.04 1212.2 1547.07 L1233.08 1547.04 Z\" fill=\"#000000\" fill-rule=\"evenodd\" fill-opacity=\"1\" /><path clip-path=\"url(#clip930)\" d=\"M1268.73 1518.52 L1282.23 1518.52 L1282.23 1523.07 L1274.59 1523.07 L1274.59 1572.09 L1282.23 1572.09 L1282.23 1576.64 L1268.73 1576.64 L1268.73 1518.52 Z\" fill=\"#000000\" fill-rule=\"evenodd\" fill-opacity=\"1\" /><path clip-path=\"url(#clip930)\" d=\"M1322.46 1539.24 Q1324.65 1535.29 1327.71 1533.41 Q1330.77 1531.54 1334.9 1531.54 Q1340.47 1531.54 1343.5 1535.45 Q1346.52 1539.33 1346.52 1546.53 L1346.52 1568.04 L1340.63 1568.04 L1340.63 1546.72 Q1340.63 1541.59 1338.82 1539.11 Q1337 1536.63 1333.28 1536.63 Q1328.73 1536.63 1326.09 1539.65 Q1323.44 1542.68 1323.44 1547.9 L1323.44 1568.04 L1317.56 1568.04 L1317.56 1546.72 Q1317.56 1541.56 1315.74 1539.11 Q1313.93 1536.63 1310.14 1536.63 Q1305.65 1536.63 1303.01 1539.68 Q1300.37 1542.71 1300.37 1547.9 L1300.37 1568.04 L1294.48 1568.04 L1294.48 1532.4 L1300.37 1532.4 L1300.37 1537.93 Q1302.37 1534.66 1305.18 1533.1 Q1307.98 1531.54 1311.83 1531.54 Q1315.71 1531.54 1318.42 1533.51 Q1321.15 1535.48 1322.46 1539.24 Z\" fill=\"#000000\" fill-rule=\"evenodd\" fill-opacity=\"1\" /><path clip-path=\"url(#clip930)\" d=\"M1358.2 1532.4 L1364.06 1532.4 L1364.06 1568.04 L1358.2 1568.04 L1358.2 1532.4 M1358.2 1518.52 L1364.06 1518.52 L1364.06 1525.93 L1358.2 1525.93 L1358.2 1518.52 Z\" fill=\"#000000\" fill-rule=\"evenodd\" fill-opacity=\"1\" /><path clip-path=\"url(#clip930)\" d=\"M1405.94 1546.53 L1405.94 1568.04 L1400.09 1568.04 L1400.09 1546.72 Q1400.09 1541.66 1398.11 1539.14 Q1396.14 1536.63 1392.19 1536.63 Q1387.45 1536.63 1384.71 1539.65 Q1381.98 1542.68 1381.98 1547.9 L1381.98 1568.04 L1376.09 1568.04 L1376.09 1532.4 L1381.98 1532.4 L1381.98 1537.93 Q1384.08 1534.72 1386.91 1533.13 Q1389.78 1531.54 1393.5 1531.54 Q1399.64 1531.54 1402.79 1535.36 Q1405.94 1539.14 1405.94 1546.53 Z\" fill=\"#000000\" fill-rule=\"evenodd\" fill-opacity=\"1\" /><path clip-path=\"url(#clip930)\" d=\"M1431.31 1518.52 L1431.31 1576.64 L1417.82 1576.64 L1417.82 1572.09 L1425.42 1572.09 L1425.42 1523.07 L1417.82 1523.07 L1417.82 1518.52 L1431.31 1518.52 Z\" fill=\"#000000\" fill-rule=\"evenodd\" fill-opacity=\"1\" /><polyline clip-path=\"url(#clip933)\" style=\"stroke:#000000; stroke-linecap:round; stroke-linejoin:round; stroke-width:8; stroke-opacity:0.1; fill:none\" points=\"175.445,1384.24 2352.76,1384.24 \"/>\n",
       "<polyline clip-path=\"url(#clip933)\" style=\"stroke:#000000; stroke-linecap:round; stroke-linejoin:round; stroke-width:8; stroke-opacity:0.1; fill:none\" points=\"175.445,1059.73 2352.76,1059.73 \"/>\n",
       "<polyline clip-path=\"url(#clip933)\" style=\"stroke:#000000; stroke-linecap:round; stroke-linejoin:round; stroke-width:8; stroke-opacity:0.1; fill:none\" points=\"175.445,735.212 2352.76,735.212 \"/>\n",
       "<polyline clip-path=\"url(#clip933)\" style=\"stroke:#000000; stroke-linecap:round; stroke-linejoin:round; stroke-width:8; stroke-opacity:0.1; fill:none\" points=\"175.445,410.699 2352.76,410.699 \"/>\n",
       "<polyline clip-path=\"url(#clip933)\" style=\"stroke:#000000; stroke-linecap:round; stroke-linejoin:round; stroke-width:8; stroke-opacity:0.1; fill:none\" points=\"175.445,86.1857 2352.76,86.1857 \"/>\n",
       "<polyline clip-path=\"url(#clip930)\" style=\"stroke:#000000; stroke-linecap:round; stroke-linejoin:round; stroke-width:4; stroke-opacity:1; fill:none\" points=\"175.445,1423.18 175.445,47.2441 \"/>\n",
       "<polyline clip-path=\"url(#clip930)\" style=\"stroke:#000000; stroke-linecap:round; stroke-linejoin:round; stroke-width:4; stroke-opacity:1; fill:none\" points=\"175.445,1384.24 194.343,1384.24 \"/>\n",
       "<polyline clip-path=\"url(#clip930)\" style=\"stroke:#000000; stroke-linecap:round; stroke-linejoin:round; stroke-width:4; stroke-opacity:1; fill:none\" points=\"175.445,1059.73 194.343,1059.73 \"/>\n",
       "<polyline clip-path=\"url(#clip930)\" style=\"stroke:#000000; stroke-linecap:round; stroke-linejoin:round; stroke-width:4; stroke-opacity:1; fill:none\" points=\"175.445,735.212 194.343,735.212 \"/>\n",
       "<polyline clip-path=\"url(#clip930)\" style=\"stroke:#000000; stroke-linecap:round; stroke-linejoin:round; stroke-width:4; stroke-opacity:1; fill:none\" points=\"175.445,410.699 194.343,410.699 \"/>\n",
       "<polyline clip-path=\"url(#clip930)\" style=\"stroke:#000000; stroke-linecap:round; stroke-linejoin:round; stroke-width:4; stroke-opacity:1; fill:none\" points=\"175.445,86.1857 194.343,86.1857 \"/>\n",
       "<path clip-path=\"url(#clip930)\" d=\"M119.538 1397.58 L127.177 1397.58 L127.177 1371.22 L118.867 1372.88 L118.867 1368.62 L127.13 1366.96 L131.806 1366.96 L131.806 1397.58 L139.445 1397.58 L139.445 1401.52 L119.538 1401.52 L119.538 1397.58 Z\" fill=\"#000000\" fill-rule=\"evenodd\" fill-opacity=\"1\" /><path clip-path=\"url(#clip930)\" d=\"M123.126 1073.07 L139.445 1073.07 L139.445 1077.01 L117.501 1077.01 L117.501 1073.07 Q120.163 1070.32 124.746 1065.69 Q129.353 1061.03 130.533 1059.69 Q132.779 1057.17 133.658 1055.43 Q134.561 1053.67 134.561 1051.98 Q134.561 1049.23 132.617 1047.49 Q130.695 1045.76 127.593 1045.76 Q125.394 1045.76 122.941 1046.52 Q120.51 1047.28 117.732 1048.83 L117.732 1044.11 Q120.556 1042.98 123.01 1042.4 Q125.464 1041.82 127.501 1041.82 Q132.871 1041.82 136.066 1044.51 Q139.26 1047.19 139.26 1051.68 Q139.26 1053.81 138.45 1055.73 Q137.663 1057.63 135.556 1060.22 Q134.978 1060.89 131.876 1064.11 Q128.774 1067.31 123.126 1073.07 Z\" fill=\"#000000\" fill-rule=\"evenodd\" fill-opacity=\"1\" /><path clip-path=\"url(#clip930)\" d=\"M132.316 733.858 Q135.672 734.575 137.547 736.844 Q139.445 739.112 139.445 742.446 Q139.445 747.561 135.927 750.362 Q132.408 753.163 125.927 753.163 Q123.751 753.163 121.436 752.723 Q119.144 752.307 116.691 751.45 L116.691 746.936 Q118.635 748.071 120.95 748.649 Q123.265 749.228 125.788 749.228 Q130.186 749.228 132.478 747.492 Q134.792 745.756 134.792 742.446 Q134.792 739.39 132.64 737.677 Q130.51 735.941 126.691 735.941 L122.663 735.941 L122.663 732.099 L126.876 732.099 Q130.325 732.099 132.154 730.733 Q133.982 729.344 133.982 726.751 Q133.982 724.089 132.084 722.677 Q130.209 721.242 126.691 721.242 Q124.769 721.242 122.57 721.659 Q120.371 722.075 117.732 722.955 L117.732 718.788 Q120.394 718.048 122.709 717.677 Q125.047 717.307 127.107 717.307 Q132.431 717.307 135.533 719.738 Q138.635 722.145 138.635 726.265 Q138.635 729.136 136.992 731.126 Q135.348 733.094 132.316 733.858 Z\" fill=\"#000000\" fill-rule=\"evenodd\" fill-opacity=\"1\" /><path clip-path=\"url(#clip930)\" d=\"M129.862 397.493 L118.056 415.942 L129.862 415.942 L129.862 397.493 M128.635 393.419 L134.515 393.419 L134.515 415.942 L139.445 415.942 L139.445 419.831 L134.515 419.831 L134.515 427.979 L129.862 427.979 L129.862 419.831 L114.26 419.831 L114.26 415.317 L128.635 393.419 Z\" fill=\"#000000\" fill-rule=\"evenodd\" fill-opacity=\"1\" /><path clip-path=\"url(#clip930)\" d=\"M118.543 68.9057 L136.899 68.9057 L136.899 72.8408 L122.825 72.8408 L122.825 81.313 Q123.843 80.9658 124.862 80.8038 Q125.88 80.6186 126.899 80.6186 Q132.686 80.6186 136.066 83.7899 Q139.445 86.9611 139.445 92.3778 Q139.445 97.9564 135.973 101.058 Q132.501 104.137 126.181 104.137 Q124.005 104.137 121.737 103.767 Q119.492 103.396 117.084 102.655 L117.084 97.9564 Q119.168 99.0907 121.39 99.6462 Q123.612 100.202 126.089 100.202 Q130.093 100.202 132.431 98.0953 Q134.769 95.9889 134.769 92.3778 Q134.769 88.7667 132.431 86.6602 Q130.093 84.5537 126.089 84.5537 Q124.214 84.5537 122.339 84.9704 Q120.487 85.3871 118.543 86.2667 L118.543 68.9057 Z\" fill=\"#000000\" fill-rule=\"evenodd\" fill-opacity=\"1\" /><path clip-path=\"url(#clip930)\" d=\"M18.3741 808.051 L35.1855 812.206 Q36.2483 812.495 36.3771 812.689 Q36.506 812.85 36.506 813.365 Q36.506 814.363 35.8296 814.363 Q35.7652 814.363 34.9279 814.267 Q34.0583 814.17 32.4802 814.17 Q26.651 814.17 23.2049 817.004 Q19.7589 819.806 19.7589 824.798 Q19.7589 829.114 21.9489 833.461 Q24.1389 837.777 27.7138 840.869 Q30.4191 843.188 33.8329 844.895 Q37.2467 846.569 40.3707 847.374 Q43.4946 848.147 45.8457 848.502 Q48.1967 848.856 49.9036 848.856 Q52.3835 848.856 54.4768 848.341 Q56.5702 847.793 58.0517 846.827 Q59.5009 845.861 60.6282 844.637 Q61.7231 843.381 62.3673 841.932 Q63.0114 840.45 63.3334 838.969 Q63.6233 837.487 63.6233 835.941 Q63.6233 829.726 58.7924 823.8 Q54.8311 819.098 48.3577 817.133 Q47.7136 816.972 47.7136 816.296 Q47.7136 815.491 48.3577 815.491 Q48.4865 815.491 49.1307 815.652 Q49.7426 815.813 50.9986 816.296 Q52.2224 816.779 53.6073 817.52 Q54.9921 818.26 56.7312 819.645 Q58.4704 821.03 59.984 822.737 Q62.4961 825.635 64.0742 829.307 Q65.6523 832.978 65.6523 837.004 Q65.6523 842.028 63.4301 846.086 Q61.2079 850.144 57.0533 852.527 Q52.8987 854.878 47.5848 854.878 Q41.981 854.878 36.4738 852.302 Q30.9666 849.725 26.8764 845.635 Q22.7863 841.545 20.242 836.135 Q17.6977 830.724 17.6977 825.313 Q17.6977 823.252 18.2452 821.416 Q18.7927 819.581 19.4691 818.486 Q20.1454 817.359 21.1438 816.36 Q22.1099 815.362 22.5608 815.04 Q23.0117 814.685 23.5592 814.363 L18.5029 809.758 Q17.6977 808.953 17.6977 808.76 Q17.6977 808.373 17.9232 808.212 Q18.1486 808.051 18.3741 808.051 Z\" fill=\"#000000\" fill-rule=\"evenodd\" fill-opacity=\"1\" /><path clip-path=\"url(#clip930)\" d=\"M54.9228 789.673 Q55.9147 789.673 56.6587 790.484 Q57.3801 791.273 57.3801 792.13 Q57.3801 792.919 56.9067 793.415 Q56.4107 793.889 55.7118 793.889 Q54.7875 793.889 54.021 793.099 Q53.2545 792.31 53.2545 791.386 Q53.2545 790.62 53.728 790.146 Q54.2014 789.673 54.9228 789.673 M77.1738 789.267 Q77.3542 789.267 78.0756 789.47 Q78.7745 789.673 79.8566 790.169 Q80.9162 790.642 81.9081 791.296 Q82.9 791.95 83.5989 793.032 Q84.2978 794.091 84.2978 795.309 Q84.2978 796.955 83.2156 798.037 Q82.1335 799.096 80.5104 799.096 Q79.6311 799.096 76.8131 798.037 Q68.6071 794.971 68.2689 794.858 Q66.9839 794.339 65.8567 794.339 Q65.3382 794.339 65.0226 794.452 Q64.6844 794.565 64.5717 794.79 Q64.4364 795.016 64.4139 795.151 Q64.3913 795.264 64.3913 795.489 Q64.3913 796.819 65.744 798.059 Q67.0966 799.299 70.1175 800.156 Q70.6811 800.336 70.8164 800.449 Q70.9517 800.562 70.9517 800.9 Q70.9291 801.463 70.4782 801.463 Q70.343 801.463 69.8245 801.306 Q69.2834 801.148 68.4718 800.855 Q67.6377 800.562 66.781 800.043 Q65.9018 799.525 65.1353 798.893 Q64.3688 798.24 63.8728 797.315 Q63.3768 796.391 63.3768 795.354 Q63.3768 793.663 64.4815 792.626 Q65.5636 791.566 67.1642 791.566 Q68.0435 791.566 69.599 792.175 Q71.628 792.919 72.2818 793.19 L77.1287 794.993 Q78.8872 795.647 79.4282 795.85 Q79.9468 796.03 80.578 796.188 Q81.1867 796.323 81.7503 796.323 Q82.5393 796.323 82.9 796.075 Q83.2607 795.805 83.2607 795.219 Q83.2607 793.595 81.6601 792.401 Q80.0369 791.206 77.5571 790.507 Q77.4894 790.484 77.3767 790.462 Q76.8131 790.281 76.7455 790.101 Q76.7229 790.011 76.7229 789.831 Q76.7229 789.267 77.1738 789.267 Z\" fill=\"#000000\" fill-rule=\"evenodd\" fill-opacity=\"1\" /><path clip-path=\"url(#clip930)\" d=\"M77.1738 760.306 Q77.3542 760.306 78.053 760.508 Q78.7519 760.711 79.834 761.207 Q80.9162 761.681 81.9081 762.335 Q82.8775 762.988 83.5989 764.07 Q84.2978 765.13 84.2978 766.347 Q84.2978 767.971 83.2156 769.053 Q82.1335 770.135 80.5104 770.135 Q79.6086 770.135 78.3687 769.661 Q70.3655 766.663 67.6151 766.663 Q64.3913 766.663 64.3913 769.165 Q64.3913 770.405 64.8647 771.578 Q65.3156 772.727 65.9469 773.516 Q66.5781 774.305 67.4573 775.027 Q68.314 775.726 68.9001 776.086 Q69.4637 776.425 70.0273 776.695 L72.3268 777.281 Q72.9581 777.417 75.4154 778.07 L79.586 779.085 Q82.6971 779.806 82.9902 779.964 Q83.6214 780.189 83.9596 780.685 Q84.2978 781.181 84.2978 781.677 Q84.2978 782.241 83.9596 782.624 Q83.6214 783.007 83.0353 783.007 Q82.9451 783.007 82.607 782.94 Q82.2688 782.872 81.7954 782.759 Q81.3219 782.647 81.0514 782.602 L70.3881 779.919 Q68.4493 779.423 67.8406 779.31 Q67.2093 779.175 66.5105 779.175 Q64.3913 779.175 64.3913 780.618 Q64.3913 781.79 65.7891 782.557 Q67.1868 783.323 69.8921 783.977 Q70.636 784.18 70.7938 784.315 Q70.9517 784.428 70.9517 784.766 Q70.9291 785.33 70.4782 785.33 Q70.3655 785.33 69.6216 785.149 Q68.8776 784.969 67.818 784.631 Q66.7359 784.27 66.0145 783.932 Q65.4734 783.639 65.2255 783.481 Q64.9549 783.301 64.4364 782.872 Q63.8954 782.421 63.6474 781.835 Q63.3768 781.226 63.3768 780.483 Q63.3768 778.814 64.459 777.597 Q65.5185 776.38 67.3897 776.222 Q63.3768 773.223 63.3768 769.03 Q63.3768 766.55 64.6844 765.13 Q65.992 763.71 68.314 763.71 Q68.8551 763.71 69.5539 763.822 Q70.2302 763.913 71.0869 764.138 Q71.9436 764.341 72.5974 764.521 Q73.2512 764.702 74.3107 765.062 Q75.3478 765.423 75.7986 765.581 Q76.2495 765.739 77.3091 766.122 Q78.3461 766.483 78.4588 766.528 Q80.5554 767.362 81.7503 767.362 Q82.5393 767.362 82.9 767.114 Q83.2607 766.843 83.2607 766.257 Q83.2607 764.679 81.7052 763.507 Q80.1271 762.312 77.5571 761.545 Q76.9935 761.365 76.8582 761.275 Q76.7229 761.162 76.7229 760.847 Q76.7229 760.306 77.1738 760.306 Z\" fill=\"#000000\" fill-rule=\"evenodd\" fill-opacity=\"1\" /><path clip-path=\"url(#clip930)\" d=\"M80.6924 750.87 L14.7348 750.87 L14.7348 740.918 L16.2485 740.918 L16.2485 746.457 L79.1787 746.457 L79.1787 740.918 L80.6924 740.918 L80.6924 750.87 Z\" fill=\"#000000\" fill-rule=\"evenodd\" fill-opacity=\"1\" /><path clip-path=\"url(#clip930)\" d=\"M38.1485 710.366 Q38.1807 710.366 39.3401 710.559 L68.6152 717.902 Q70.1611 718.288 71.707 719.383 Q73.2851 720.446 74.6377 722.153 Q76.0226 723.828 76.8599 726.404 Q77.7295 728.949 77.7295 731.879 Q77.7295 736.549 76.7311 738.61 Q75.7649 740.639 73.7037 740.639 Q71.9002 740.639 70.8696 739.512 Q69.8712 738.385 69.8712 737.097 Q69.8712 735.873 70.5798 735.229 Q71.2883 734.585 72.1901 734.585 Q73.1884 734.585 74.1868 735.261 Q75.2174 735.937 75.6039 737.29 Q76.2802 735.132 76.2802 732.008 Q76.2802 725.406 69.2915 722.572 Q69.1949 722.507 69.1627 722.507 L60.4349 720.317 L60.3705 720.414 Q61.0146 720.962 61.7554 721.831 Q62.4639 722.668 63.3334 724.472 Q64.203 726.276 64.203 728.047 Q64.203 731.751 61.3689 734.295 Q58.5026 736.807 53.7683 736.807 Q50.3223 736.807 46.8762 735.422 Q43.398 734.005 40.8538 731.815 Q38.2773 729.593 36.667 726.759 Q35.0567 723.892 35.0567 721.123 Q35.0567 719.19 36.2161 717.548 Q37.3433 715.905 39.2113 715.003 Q37.6654 714.842 37.0213 713.973 Q36.3771 713.071 36.3771 712.298 Q36.3771 711.429 36.8602 710.913 Q37.3111 710.366 38.1485 710.366 M42.1742 715.776 Q41.981 715.776 41.4657 715.905 Q40.9182 716.034 40.0486 716.421 Q39.179 716.775 38.4061 717.322 Q37.6332 717.87 37.0857 718.868 Q36.506 719.834 36.506 721.058 Q36.506 723.055 38.1807 725.052 Q39.8232 727.048 42.3674 728.433 Q44.8151 729.722 49.5493 730.945 Q54.2836 732.137 56.699 732.137 Q59.0823 732.137 60.918 731.106 Q62.7537 730.076 62.7537 727.854 Q62.7537 725.277 60.3705 722.507 Q57.8907 719.641 55.7651 719.158 L43.1726 715.97 Q42.3996 715.776 42.1742 715.776 Z\" fill=\"#000000\" fill-rule=\"evenodd\" fill-opacity=\"1\" /><path clip-path=\"url(#clip930)\" d=\"M79.7584 709.506 Q79.4364 709.506 78.7278 709.249 L16.5061 685.964 Q16.4417 685.964 16.0874 685.803 Q15.7332 685.642 15.5077 685.545 Q15.2501 685.449 15.0569 685.255 Q14.8636 685.03 14.8636 684.772 Q14.8636 684.128 15.6688 684.128 Q15.7332 684.128 16.5061 684.321 L78.7923 707.671 Q79.9195 708.057 80.2415 708.315 Q80.5636 708.54 80.5636 708.927 Q80.5636 709.506 79.7584 709.506 Z\" fill=\"#000000\" fill-rule=\"evenodd\" fill-opacity=\"1\" /><path clip-path=\"url(#clip930)\" d=\"M47.9068 637.004 Q48.1001 637.004 48.8408 637.261 L63.0758 642.479 Q63.9131 642.769 64.0742 643.058 Q64.203 643.348 64.203 644.54 L64.203 675.071 Q64.203 675.812 64.1708 676.102 Q64.1386 676.391 63.9776 676.617 Q63.8165 676.842 63.4623 676.842 Q62.8181 676.842 62.5283 676.617 Q62.2384 676.359 62.2062 676.069 Q62.174 675.78 62.174 675.071 Q62.174 673.461 62.0774 672.495 Q61.9808 671.528 61.852 670.916 Q61.6909 670.272 61.2401 669.95 Q60.7892 669.596 60.4027 669.435 Q59.984 669.274 59.0501 669.049 L23.6236 660.224 Q22.5608 659.966 22.3998 659.966 Q21.7879 659.966 21.6269 660.353 Q21.4336 660.707 21.337 661.738 L21.2082 664.25 Q21.2082 665.023 21.176 665.345 Q21.1438 665.635 20.9827 665.86 Q20.8217 666.086 20.4674 666.086 Q19.8555 666.086 19.5657 665.86 Q19.2436 665.602 19.2114 665.409 Q19.147 665.184 19.147 664.83 L19.3402 656.07 L19.147 646.311 Q19.147 645.248 19.9521 645.248 Q20.8539 645.248 21.0471 645.699 Q21.2082 646.15 21.2082 647.76 Q21.2082 650.852 21.5302 652.269 Q21.8523 653.654 22.3998 654.041 Q22.9151 654.395 24.2999 654.749 L59.9196 663.67 Q61.1112 663.992 61.4333 663.992 Q61.7876 663.992 61.9164 663.831 Q62.013 663.638 62.0774 663.123 Q62.174 662.543 62.174 661.673 L62.174 655.49 Q62.174 653.622 61.8842 651.979 Q61.5943 650.337 61.1757 649.081 Q60.757 647.793 59.984 646.633 Q59.2111 645.474 58.5348 644.669 Q57.8262 643.831 56.7312 643.026 Q55.604 642.189 54.8311 641.706 Q54.0259 641.19 52.7377 640.611 Q51.4173 640.031 50.6765 639.741 Q49.9036 639.419 48.5832 638.936 Q47.9068 638.646 47.7136 638.55 Q47.5204 638.453 47.3593 638.292 Q47.1983 638.099 47.1983 637.809 Q47.1983 637.422 47.4237 637.229 Q47.6492 637.004 47.9068 637.004 Z\" fill=\"#000000\" fill-rule=\"evenodd\" fill-opacity=\"1\" /><path clip-path=\"url(#clip930)\" d=\"M79.1787 633.696 L79.1787 628.156 L16.2485 628.156 L16.2485 633.696 L14.7348 633.696 L14.7348 623.744 L80.6924 623.744 L80.6924 633.696 L79.1787 633.696 Z\" fill=\"#000000\" fill-rule=\"evenodd\" fill-opacity=\"1\" /><polyline clip-path=\"url(#clip933)\" style=\"stroke:#000000; stroke-linecap:round; stroke-linejoin:round; stroke-width:4; stroke-opacity:1; fill:none\" stroke-dasharray=\"2, 4\" points=\"237.067,86.1857 345.176,86.1857 453.285,86.1857 561.394,86.1857 669.502,86.1857 777.611,86.1857 885.72,86.1857 993.829,86.1857 1101.94,86.1857 1210.05,86.1857 1318.15,86.1857 1426.26,86.1857 1534.37,86.1857 1642.48,86.1857 1750.59,86.1857 1858.7,86.1857 1966.81,86.1857 2074.92,86.1857 2183.03,86.1857 2291.13,86.1857 \"/>\n",
       "<polyline clip-path=\"url(#clip933)\" style=\"stroke:#000000; stroke-linecap:round; stroke-linejoin:round; stroke-width:12; stroke-opacity:1; fill:none\" points=\"237.067,1384.24 345.176,1202.81 453.285,1092.32 561.394,1023.47 669.502,975.784 777.611,938.572 885.72,907.166 993.829,898.557 1101.94,908.766 1210.05,907.725 1318.15,894.255 1426.26,887.338 1534.37,966.144 1642.48,971.01 1750.59,936.772 1858.7,894.951 1966.81,958.905 2074.92,956.824 2183.03,922.143 2291.13,884.536 \"/>\n",
       "<circle clip-path=\"url(#clip933)\" cx=\"237.067\" cy=\"1384.24\" r=\"10.8\" fill=\"#000000\" fill-rule=\"evenodd\" fill-opacity=\"1\" stroke=\"none\"/>\n",
       "<circle clip-path=\"url(#clip933)\" cx=\"345.176\" cy=\"1202.81\" r=\"10.8\" fill=\"#000000\" fill-rule=\"evenodd\" fill-opacity=\"1\" stroke=\"none\"/>\n",
       "<circle clip-path=\"url(#clip933)\" cx=\"453.285\" cy=\"1092.32\" r=\"10.8\" fill=\"#000000\" fill-rule=\"evenodd\" fill-opacity=\"1\" stroke=\"none\"/>\n",
       "<circle clip-path=\"url(#clip933)\" cx=\"561.394\" cy=\"1023.47\" r=\"10.8\" fill=\"#000000\" fill-rule=\"evenodd\" fill-opacity=\"1\" stroke=\"none\"/>\n",
       "<circle clip-path=\"url(#clip933)\" cx=\"669.502\" cy=\"975.784\" r=\"10.8\" fill=\"#000000\" fill-rule=\"evenodd\" fill-opacity=\"1\" stroke=\"none\"/>\n",
       "<circle clip-path=\"url(#clip933)\" cx=\"777.611\" cy=\"938.572\" r=\"10.8\" fill=\"#000000\" fill-rule=\"evenodd\" fill-opacity=\"1\" stroke=\"none\"/>\n",
       "<circle clip-path=\"url(#clip933)\" cx=\"885.72\" cy=\"907.166\" r=\"10.8\" fill=\"#000000\" fill-rule=\"evenodd\" fill-opacity=\"1\" stroke=\"none\"/>\n",
       "<circle clip-path=\"url(#clip933)\" cx=\"993.829\" cy=\"898.557\" r=\"10.8\" fill=\"#000000\" fill-rule=\"evenodd\" fill-opacity=\"1\" stroke=\"none\"/>\n",
       "<circle clip-path=\"url(#clip933)\" cx=\"1101.94\" cy=\"908.766\" r=\"10.8\" fill=\"#000000\" fill-rule=\"evenodd\" fill-opacity=\"1\" stroke=\"none\"/>\n",
       "<circle clip-path=\"url(#clip933)\" cx=\"1210.05\" cy=\"907.725\" r=\"10.8\" fill=\"#000000\" fill-rule=\"evenodd\" fill-opacity=\"1\" stroke=\"none\"/>\n",
       "<circle clip-path=\"url(#clip933)\" cx=\"1318.15\" cy=\"894.255\" r=\"10.8\" fill=\"#000000\" fill-rule=\"evenodd\" fill-opacity=\"1\" stroke=\"none\"/>\n",
       "<circle clip-path=\"url(#clip933)\" cx=\"1426.26\" cy=\"887.338\" r=\"10.8\" fill=\"#000000\" fill-rule=\"evenodd\" fill-opacity=\"1\" stroke=\"none\"/>\n",
       "<circle clip-path=\"url(#clip933)\" cx=\"1534.37\" cy=\"966.144\" r=\"10.8\" fill=\"#000000\" fill-rule=\"evenodd\" fill-opacity=\"1\" stroke=\"none\"/>\n",
       "<circle clip-path=\"url(#clip933)\" cx=\"1642.48\" cy=\"971.01\" r=\"10.8\" fill=\"#000000\" fill-rule=\"evenodd\" fill-opacity=\"1\" stroke=\"none\"/>\n",
       "<circle clip-path=\"url(#clip933)\" cx=\"1750.59\" cy=\"936.772\" r=\"10.8\" fill=\"#000000\" fill-rule=\"evenodd\" fill-opacity=\"1\" stroke=\"none\"/>\n",
       "<circle clip-path=\"url(#clip933)\" cx=\"1858.7\" cy=\"894.951\" r=\"10.8\" fill=\"#000000\" fill-rule=\"evenodd\" fill-opacity=\"1\" stroke=\"none\"/>\n",
       "<circle clip-path=\"url(#clip933)\" cx=\"1966.81\" cy=\"958.905\" r=\"10.8\" fill=\"#000000\" fill-rule=\"evenodd\" fill-opacity=\"1\" stroke=\"none\"/>\n",
       "<circle clip-path=\"url(#clip933)\" cx=\"2074.92\" cy=\"956.824\" r=\"10.8\" fill=\"#000000\" fill-rule=\"evenodd\" fill-opacity=\"1\" stroke=\"none\"/>\n",
       "<circle clip-path=\"url(#clip933)\" cx=\"2183.03\" cy=\"922.143\" r=\"10.8\" fill=\"#000000\" fill-rule=\"evenodd\" fill-opacity=\"1\" stroke=\"none\"/>\n",
       "<circle clip-path=\"url(#clip933)\" cx=\"2291.13\" cy=\"884.536\" r=\"10.8\" fill=\"#000000\" fill-rule=\"evenodd\" fill-opacity=\"1\" stroke=\"none\"/>\n",
       "<polyline clip-path=\"url(#clip933)\" style=\"stroke:#000000; stroke-linecap:round; stroke-linejoin:round; stroke-width:12; stroke-opacity:1; fill:none\" stroke-dasharray=\"48, 24, 6, 24\" points=\"237.067,1384.24 345.176,1202.81 453.285,1092.32 561.394,1023.47 669.502,975.788 777.611,938.578 885.72,907.172 993.829,898.562 1101.94,908.451 1210.05,912.253 1318.15,902.695 1426.26,897.222 1534.37,967.771 1642.48,969.636 1750.59,935.629 1858.7,896.433 1966.81,959.785 2074.92,957.154 2183.03,922.213 2291.13,884.467 \"/>\n",
       "<path clip-path=\"url(#clip933)\" d=\"M225.067 1372.24 L225.067 1396.24 L249.067 1396.24 L249.067 1372.24 L225.067 1372.24 Z\" fill=\"#000000\" fill-rule=\"evenodd\" fill-opacity=\"1\" stroke=\"none\"/>\n",
       "<path clip-path=\"url(#clip933)\" d=\"M333.176 1190.81 L333.176 1214.81 L357.176 1214.81 L357.176 1190.81 L333.176 1190.81 Z\" fill=\"#000000\" fill-rule=\"evenodd\" fill-opacity=\"1\" stroke=\"none\"/>\n",
       "<path clip-path=\"url(#clip933)\" d=\"M441.285 1080.32 L441.285 1104.32 L465.285 1104.32 L465.285 1080.32 L441.285 1080.32 Z\" fill=\"#000000\" fill-rule=\"evenodd\" fill-opacity=\"1\" stroke=\"none\"/>\n",
       "<path clip-path=\"url(#clip933)\" d=\"M549.394 1011.47 L549.394 1035.47 L573.394 1035.47 L573.394 1011.47 L549.394 1011.47 Z\" fill=\"#000000\" fill-rule=\"evenodd\" fill-opacity=\"1\" stroke=\"none\"/>\n",
       "<path clip-path=\"url(#clip933)\" d=\"M657.502 963.788 L657.502 987.788 L681.502 987.788 L681.502 963.788 L657.502 963.788 Z\" fill=\"#000000\" fill-rule=\"evenodd\" fill-opacity=\"1\" stroke=\"none\"/>\n",
       "<path clip-path=\"url(#clip933)\" d=\"M765.611 926.578 L765.611 950.578 L789.611 950.578 L789.611 926.578 L765.611 926.578 Z\" fill=\"#000000\" fill-rule=\"evenodd\" fill-opacity=\"1\" stroke=\"none\"/>\n",
       "<path clip-path=\"url(#clip933)\" d=\"M873.72 895.172 L873.72 919.172 L897.72 919.172 L897.72 895.172 L873.72 895.172 Z\" fill=\"#000000\" fill-rule=\"evenodd\" fill-opacity=\"1\" stroke=\"none\"/>\n",
       "<path clip-path=\"url(#clip933)\" d=\"M981.829 886.562 L981.829 910.562 L1005.83 910.562 L1005.83 886.562 L981.829 886.562 Z\" fill=\"#000000\" fill-rule=\"evenodd\" fill-opacity=\"1\" stroke=\"none\"/>\n",
       "<path clip-path=\"url(#clip933)\" d=\"M1089.94 896.451 L1089.94 920.451 L1113.94 920.451 L1113.94 896.451 L1089.94 896.451 Z\" fill=\"#000000\" fill-rule=\"evenodd\" fill-opacity=\"1\" stroke=\"none\"/>\n",
       "<path clip-path=\"url(#clip933)\" d=\"M1198.05 900.253 L1198.05 924.253 L1222.05 924.253 L1222.05 900.253 L1198.05 900.253 Z\" fill=\"#000000\" fill-rule=\"evenodd\" fill-opacity=\"1\" stroke=\"none\"/>\n",
       "<path clip-path=\"url(#clip933)\" d=\"M1306.15 890.695 L1306.15 914.695 L1330.15 914.695 L1330.15 890.695 L1306.15 890.695 Z\" fill=\"#000000\" fill-rule=\"evenodd\" fill-opacity=\"1\" stroke=\"none\"/>\n",
       "<path clip-path=\"url(#clip933)\" d=\"M1414.26 885.222 L1414.26 909.222 L1438.26 909.222 L1438.26 885.222 L1414.26 885.222 Z\" fill=\"#000000\" fill-rule=\"evenodd\" fill-opacity=\"1\" stroke=\"none\"/>\n",
       "<path clip-path=\"url(#clip933)\" d=\"M1522.37 955.771 L1522.37 979.771 L1546.37 979.771 L1546.37 955.771 L1522.37 955.771 Z\" fill=\"#000000\" fill-rule=\"evenodd\" fill-opacity=\"1\" stroke=\"none\"/>\n",
       "<path clip-path=\"url(#clip933)\" d=\"M1630.48 957.636 L1630.48 981.636 L1654.48 981.636 L1654.48 957.636 L1630.48 957.636 Z\" fill=\"#000000\" fill-rule=\"evenodd\" fill-opacity=\"1\" stroke=\"none\"/>\n",
       "<path clip-path=\"url(#clip933)\" d=\"M1738.59 923.629 L1738.59 947.629 L1762.59 947.629 L1762.59 923.629 L1738.59 923.629 Z\" fill=\"#000000\" fill-rule=\"evenodd\" fill-opacity=\"1\" stroke=\"none\"/>\n",
       "<path clip-path=\"url(#clip933)\" d=\"M1846.7 884.433 L1846.7 908.433 L1870.7 908.433 L1870.7 884.433 L1846.7 884.433 Z\" fill=\"#000000\" fill-rule=\"evenodd\" fill-opacity=\"1\" stroke=\"none\"/>\n",
       "<path clip-path=\"url(#clip933)\" d=\"M1954.81 947.785 L1954.81 971.785 L1978.81 971.785 L1978.81 947.785 L1954.81 947.785 Z\" fill=\"#000000\" fill-rule=\"evenodd\" fill-opacity=\"1\" stroke=\"none\"/>\n",
       "<path clip-path=\"url(#clip933)\" d=\"M2062.92 945.154 L2062.92 969.154 L2086.92 969.154 L2086.92 945.154 L2062.92 945.154 Z\" fill=\"#000000\" fill-rule=\"evenodd\" fill-opacity=\"1\" stroke=\"none\"/>\n",
       "<path clip-path=\"url(#clip933)\" d=\"M2171.03 910.213 L2171.03 934.213 L2195.03 934.213 L2195.03 910.213 L2171.03 910.213 Z\" fill=\"#000000\" fill-rule=\"evenodd\" fill-opacity=\"1\" stroke=\"none\"/>\n",
       "<path clip-path=\"url(#clip933)\" d=\"M2279.13 872.467 L2279.13 896.467 L2303.13 896.467 L2303.13 872.467 L2279.13 872.467 Z\" fill=\"#000000\" fill-rule=\"evenodd\" fill-opacity=\"1\" stroke=\"none\"/>\n",
       "<path clip-path=\"url(#clip930)\" d=\"M1929.02 1377.32 L2280.18 1377.32 L2280.18 1221.8 L1929.02 1221.8  Z\" fill=\"#ffffff\" fill-rule=\"evenodd\" fill-opacity=\"1\"/>\n",
       "<polyline clip-path=\"url(#clip930)\" style=\"stroke:#000000; stroke-linecap:round; stroke-linejoin:round; stroke-width:4; stroke-opacity:1; fill:none\" points=\"1929.02,1377.32 2280.18,1377.32 2280.18,1221.8 1929.02,1221.8 1929.02,1377.32 \"/>\n",
       "<polyline clip-path=\"url(#clip930)\" style=\"stroke:#000000; stroke-linecap:round; stroke-linejoin:round; stroke-width:12; stroke-opacity:1; fill:none\" points=\"1953.21,1273.64 2098.37,1273.64 \"/>\n",
       "<circle clip-path=\"url(#clip930)\" cx=\"2025.79\" cy=\"1273.64\" r=\"20.1603\" fill=\"#000000\" fill-rule=\"evenodd\" fill-opacity=\"1\" stroke=\"none\"/>\n",
       "<path clip-path=\"url(#clip930)\" d=\"M2122.56 1256.36 L2129.53 1256.36 L2138.35 1279.87 L2147.21 1256.36 L2154.18 1256.36 L2154.18 1290.92 L2149.62 1290.92 L2149.62 1260.57 L2140.71 1284.27 L2136.01 1284.27 L2127.1 1260.57 L2127.1 1290.92 L2122.56 1290.92 L2122.56 1256.36 Z\" fill=\"#000000\" fill-rule=\"evenodd\" fill-opacity=\"1\" /><path clip-path=\"url(#clip930)\" d=\"M2173.32 1267.98 Q2169.9 1267.98 2167.91 1270.66 Q2165.92 1273.32 2165.92 1277.98 Q2165.92 1282.63 2167.89 1285.31 Q2169.88 1287.98 2173.32 1287.98 Q2176.73 1287.98 2178.72 1285.29 Q2180.71 1282.61 2180.71 1277.98 Q2180.71 1273.37 2178.72 1270.68 Q2176.73 1267.98 2173.32 1267.98 M2173.32 1264.36 Q2178.88 1264.36 2182.05 1267.98 Q2185.22 1271.59 2185.22 1277.98 Q2185.22 1284.34 2182.05 1287.98 Q2178.88 1291.59 2173.32 1291.59 Q2167.75 1291.59 2164.57 1287.98 Q2161.43 1284.34 2161.43 1277.98 Q2161.43 1271.59 2164.57 1267.98 Q2167.75 1264.36 2173.32 1264.36 Z\" fill=\"#000000\" fill-rule=\"evenodd\" fill-opacity=\"1\" /><path clip-path=\"url(#clip930)\" d=\"M2213.83 1275.27 L2213.83 1290.92 L2209.57 1290.92 L2209.57 1275.41 Q2209.57 1271.73 2208.14 1269.9 Q2206.7 1268.07 2203.83 1268.07 Q2200.38 1268.07 2198.39 1270.27 Q2196.4 1272.47 2196.4 1276.26 L2196.4 1290.92 L2192.12 1290.92 L2192.12 1264.99 L2196.4 1264.99 L2196.4 1269.02 Q2197.93 1266.68 2199.99 1265.52 Q2202.07 1264.36 2204.78 1264.36 Q2209.25 1264.36 2211.54 1267.14 Q2213.83 1269.9 2213.83 1275.27 Z\" fill=\"#000000\" fill-rule=\"evenodd\" fill-opacity=\"1\" /><path clip-path=\"url(#clip930)\" d=\"M2232.38 1267.98 Q2228.95 1267.98 2226.96 1270.66 Q2224.97 1273.32 2224.97 1277.98 Q2224.97 1282.63 2226.94 1285.31 Q2228.93 1287.98 2232.38 1287.98 Q2235.78 1287.98 2237.77 1285.29 Q2239.76 1282.61 2239.76 1277.98 Q2239.76 1273.37 2237.77 1270.68 Q2235.78 1267.98 2232.38 1267.98 M2232.38 1264.36 Q2237.93 1264.36 2241.1 1267.98 Q2244.27 1271.59 2244.27 1277.98 Q2244.27 1284.34 2241.1 1287.98 Q2237.93 1291.59 2232.38 1291.59 Q2226.8 1291.59 2223.63 1287.98 Q2220.48 1284.34 2220.48 1277.98 Q2220.48 1271.59 2223.63 1267.98 Q2226.8 1264.36 2232.38 1264.36 Z\" fill=\"#000000\" fill-rule=\"evenodd\" fill-opacity=\"1\" /><path clip-path=\"url(#clip930)\" d=\"M2251.1 1285.04 L2255.99 1285.04 L2255.99 1290.92 L2251.1 1290.92 L2251.1 1285.04 Z\" fill=\"#000000\" fill-rule=\"evenodd\" fill-opacity=\"1\" /><polyline clip-path=\"url(#clip930)\" style=\"stroke:#000000; stroke-linecap:round; stroke-linejoin:round; stroke-width:12; stroke-opacity:1; fill:none\" stroke-dasharray=\"48, 24, 6, 24\" points=\"1953.21,1325.48 2098.37,1325.48 \"/>\n",
       "<path clip-path=\"url(#clip930)\" d=\"M2003.39 1303.08 L2003.39 1347.88 L2048.19 1347.88 L2048.19 1303.08 L2003.39 1303.08 Z\" fill=\"#000000\" fill-rule=\"evenodd\" fill-opacity=\"1\" stroke=\"none\"/>\n",
       "<path clip-path=\"url(#clip930)\" d=\"M2127.24 1312.04 L2127.24 1338.91 L2132.89 1338.91 Q2140.04 1338.91 2143.35 1335.67 Q2146.68 1332.43 2146.68 1325.44 Q2146.68 1318.5 2143.35 1315.28 Q2140.04 1312.04 2132.89 1312.04 L2127.24 1312.04 M2122.56 1308.2 L2132.17 1308.2 Q2142.21 1308.2 2146.91 1312.39 Q2151.61 1316.55 2151.61 1325.44 Q2151.61 1334.38 2146.89 1338.57 Q2142.17 1342.76 2132.17 1342.76 L2122.56 1342.76 L2122.56 1308.2 Z\" fill=\"#000000\" fill-rule=\"evenodd\" fill-opacity=\"1\" /><path clip-path=\"url(#clip930)\" d=\"M2181.06 1328.73 L2181.06 1330.81 L2161.47 1330.81 Q2161.75 1335.21 2164.11 1337.52 Q2166.5 1339.82 2170.73 1339.82 Q2173.19 1339.82 2175.48 1339.21 Q2177.79 1338.61 2180.06 1337.41 L2180.06 1341.44 Q2177.77 1342.41 2175.36 1342.92 Q2172.95 1343.43 2170.48 1343.43 Q2164.27 1343.43 2160.64 1339.82 Q2157.03 1336.2 2157.03 1330.05 Q2157.03 1323.68 2160.45 1319.95 Q2163.9 1316.2 2169.74 1316.2 Q2174.97 1316.2 2178 1319.58 Q2181.06 1322.94 2181.06 1328.73 M2176.8 1327.48 Q2176.75 1323.98 2174.83 1321.9 Q2172.93 1319.82 2169.78 1319.82 Q2166.22 1319.82 2164.07 1321.83 Q2161.94 1323.84 2161.61 1327.5 L2176.8 1327.48 Z\" fill=\"#000000\" fill-rule=\"evenodd\" fill-opacity=\"1\" /><path clip-path=\"url(#clip930)\" d=\"M2206.7 1317.82 L2206.7 1321.81 Q2204.9 1320.81 2203.07 1320.32 Q2201.26 1319.82 2199.41 1319.82 Q2195.27 1319.82 2192.98 1322.45 Q2190.69 1325.07 2190.69 1329.82 Q2190.69 1334.56 2192.98 1337.2 Q2195.27 1339.82 2199.41 1339.82 Q2201.26 1339.82 2203.07 1339.33 Q2204.9 1338.82 2206.7 1337.82 L2206.7 1341.76 Q2204.92 1342.59 2203 1343.01 Q2201.1 1343.43 2198.95 1343.43 Q2193.09 1343.43 2189.64 1339.75 Q2186.2 1336.07 2186.2 1329.82 Q2186.2 1323.47 2189.67 1319.84 Q2193.16 1316.2 2199.23 1316.2 Q2201.2 1316.2 2203.07 1316.62 Q2204.95 1317.01 2206.7 1317.82 Z\" fill=\"#000000\" fill-rule=\"evenodd\" fill-opacity=\"1\" /><path clip-path=\"url(#clip930)\" d=\"M2224.16 1319.82 Q2220.73 1319.82 2218.74 1322.5 Q2216.75 1325.16 2216.75 1329.82 Q2216.75 1334.47 2218.72 1337.15 Q2220.71 1339.82 2224.16 1339.82 Q2227.56 1339.82 2229.55 1337.13 Q2231.54 1334.45 2231.54 1329.82 Q2231.54 1325.21 2229.55 1322.52 Q2227.56 1319.82 2224.16 1319.82 M2224.16 1316.2 Q2229.71 1316.2 2232.88 1319.82 Q2236.06 1323.43 2236.06 1329.82 Q2236.06 1336.18 2232.88 1339.82 Q2229.71 1343.43 2224.16 1343.43 Q2218.58 1343.43 2215.41 1339.82 Q2212.26 1336.18 2212.26 1329.82 Q2212.26 1323.43 2215.41 1319.82 Q2218.58 1316.2 2224.16 1316.2 Z\" fill=\"#000000\" fill-rule=\"evenodd\" fill-opacity=\"1\" /><path clip-path=\"url(#clip930)\" d=\"M2242.88 1336.88 L2247.77 1336.88 L2247.77 1342.76 L2242.88 1342.76 L2242.88 1336.88 Z\" fill=\"#000000\" fill-rule=\"evenodd\" fill-opacity=\"1\" /></svg>\n"
      ]
     },
     "execution_count": 27,
     "metadata": {},
     "output_type": "execute_result"
    }
   ],
   "source": [
    "mc_comp(L\"C_{in} [g/L]\",ts,CinMean[:,1,:],Cin_max)"
   ]
  },
  {
   "cell_type": "code",
   "execution_count": null,
   "id": "bd059c69",
   "metadata": {},
   "outputs": [],
   "source": []
  },
  {
   "cell_type": "code",
   "execution_count": null,
   "id": "675fdabf",
   "metadata": {},
   "outputs": [],
   "source": []
  }
 ],
 "metadata": {
  "kernelspec": {
   "display_name": "Julia 1.8.5",
   "language": "julia",
   "name": "julia-1.8"
  },
  "language_info": {
   "file_extension": ".jl",
   "mimetype": "application/julia",
   "name": "julia",
   "version": "1.8.5"
  }
 },
 "nbformat": 4,
 "nbformat_minor": 5
}
