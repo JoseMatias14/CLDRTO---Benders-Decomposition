{
 "cells": [
  {
   "cell_type": "code",
   "execution_count": 1,
   "id": "71c7fd3d",
   "metadata": {},
   "outputs": [],
   "source": [
    "using LinearAlgebra, JuMP, CPLEX, Plots, Distributions, Printf"
   ]
  },
  {
   "cell_type": "markdown",
   "id": "b2933767",
   "metadata": {},
   "source": [
    "# Computing State-space Model from transfer function\n",
    "\n",
    "$$ y(s) = \\dfrac{1}{125s^3 + 75s^2 + 15s + 1} \\ u(s) $$\n",
    "\n",
    "State-space representation from the transfer function above (from matlab):"
   ]
  },
  {
   "cell_type": "code",
   "execution_count": 2,
   "id": "cb37bc36",
   "metadata": {},
   "outputs": [],
   "source": [
    "A_drto = [2.45619225923395 -2.01096013810692 0.548811636094027; \n",
    "    1 0 0;\n",
    "    0 1 0]\n",
    "# uncertainty in B matrix\n",
    "# B_drto = [0.0625; 0; 0] # nominal\n",
    "C_drto = [0.0183756999177941, 0.0633113580621751, 0.0136128264831647];"
   ]
  },
  {
   "cell_type": "markdown",
   "id": "08a9ede7",
   "metadata": {},
   "source": [
    "System configuration"
   ]
  },
  {
   "cell_type": "code",
   "execution_count": 3,
   "id": "44ad2dd6",
   "metadata": {},
   "outputs": [],
   "source": [
    "# Sampling time\n",
    "T = 1\n",
    "# Number of manipulated inputs\n",
    "nu = 1\n",
    "# Number of controlled outputs\n",
    "ny = 1\n",
    "# Number of states\n",
    "nx = 3;"
   ]
  },
  {
   "cell_type": "markdown",
   "id": "6ef01d7c",
   "metadata": {},
   "source": [
    "Controller configuration"
   ]
  },
  {
   "cell_type": "code",
   "execution_count": 4,
   "id": "6ab4d014",
   "metadata": {},
   "outputs": [],
   "source": [
    "# Output prediction horizon\n",
    "p = 30 #30\n",
    "# Input control horizon \n",
    "m = 3\n",
    "# Output weights\n",
    "q = 1\n",
    "# Input weights aggressive = 1 | detuned = 20\n",
    "r = 1;"
   ]
  },
  {
   "cell_type": "markdown",
   "id": "128ecfc9",
   "metadata": {},
   "source": [
    "DRTO configuration"
   ]
  },
  {
   "cell_type": "code",
   "execution_count": 5,
   "id": "ce68b389",
   "metadata": {},
   "outputs": [],
   "source": [
    "# Prediction horizon 30 | 50\n",
    "pD = 50\n",
    "# Input control horizon \n",
    "mD = 20\n",
    "# DRTO sampling time\n",
    "nDRTO = 5;"
   ]
  },
  {
   "cell_type": "markdown",
   "id": "6f80af19",
   "metadata": {},
   "source": [
    "Setting parameters for matrices for DRTO (Open and Closed-loop)"
   ]
  },
  {
   "cell_type": "code",
   "execution_count": 6,
   "id": "d9138b35",
   "metadata": {},
   "outputs": [],
   "source": [
    "# setting initial values\n",
    "x0 = [0.0;0.0;0.0]\n",
    "y0 = C_drto'*[0.0;0.0;0.0]\n",
    "u0 = 0.0;\n",
    "\n",
    "# setting bounds \n",
    "ΔUMax = 0.3\n",
    "uMax = 1.2\n",
    "uMin = 0.0\n",
    "yMax = 1.5\n",
    "yMin = 0.0\n",
    "yspMax = 1.5\n",
    "yspMin = 0.0;"
   ]
  },
  {
   "cell_type": "markdown",
   "id": "944b00f5",
   "metadata": {},
   "source": [
    "# Building MPC model"
   ]
  },
  {
   "cell_type": "code",
   "execution_count": 7,
   "id": "9e3946f2",
   "metadata": {},
   "outputs": [],
   "source": [
    "A = A_drto\n",
    "B = [0.0625; 0; 0] # using nominal model \n",
    "C = C_drto;"
   ]
  },
  {
   "cell_type": "markdown",
   "id": "99ac2aad",
   "metadata": {},
   "source": [
    "## Adding disturbance model\n",
    "\n",
    "The closed-loop system may never reach the desired controlled variable target if an unmeasured, constant disturbance\n",
    "enters the process or if model error is present. This problem can be solved by incorporating a constant output disturbance\n",
    "into the process model: \n",
    "\n",
    "$\n",
    "\\begin{vmatrix}\n",
    "x(k + 1)\\\\\n",
    "d(k + 1)\n",
    "\\end{vmatrix}\n",
    "= \n",
    "\\begin{vmatrix}\n",
    "A & 0_{nx,ny}\\\\\n",
    "0_{ny,nx} & I_{ny}\\\\\n",
    "\\end{vmatrix} \\ x(k)\n",
    "\\begin{vmatrix}\n",
    "x(k)\\\\\n",
    "d(k)\n",
    "\\end{vmatrix}\n",
    "+\n",
    "\\begin{vmatrix}\n",
    "B\\\\\n",
    "0_{ny,nu}\\end{vmatrix} \n",
    "u(k)\n",
    "$\n",
    "\n",
    "$\n",
    "y(k)\n",
    "= \n",
    "\\begin{vmatrix}\n",
    "C & G_p\n",
    "\\end{vmatrix} \n",
    "\\begin{vmatrix}\n",
    "x(k)\\\\\n",
    "d(k)\n",
    "\\end{vmatrix}\n",
    "$\n",
    "\n",
    "in which $d \\in \\mathcal{R}^{ny}$ is the number of augmented output disturbance states, and $G_p$ determines the effect of these states on the output. In the standard industrial model predictive control implementation, $G_p=I$ and the output\n",
    "disturbance is estimated as $d_k = y_k - C x_k$."
   ]
  },
  {
   "cell_type": "code",
   "execution_count": 8,
   "id": "2fb58669",
   "metadata": {},
   "outputs": [],
   "source": [
    "Ad = [A zeros(nx,ny); zeros(ny,nx) I(ny)]\n",
    "Bd = [B; 0]\n",
    "Cd = [C; 1];"
   ]
  },
  {
   "cell_type": "markdown",
   "id": "ba618eb2",
   "metadata": {},
   "source": [
    "## Building matrices for MPC\n",
    "\n",
    "\n",
    "Given the following discrete state-space model:\n",
    "\n",
    "$ x(k+1) = A \\ x(k) + b \\ u(k) $ <br>\n",
    "$ y(k) = C \\ x(k)$ <br>\n",
    "\n",
    "Using the supperposition property of linear systems, we obtain the model outputs from instants $k+1$ to $k+j$ as:\n",
    "$ y(k + 1|k) = C \\ x(k + 1|k) = CA \\ x(k) + CB \\ u(k|k)$ <br>\n",
    "$ y(k + 2|k) = CA^2 \\ x(k) + CAB \\ u(k|k) + CB \\ u(k+1|k)$ <br>\n",
    "$ y(k + 3|k) = CA^3 \\ x(k) + CA^2B \\ u(k|k) + CAB \\ u(k+1|k) + CB \\ u(k+2|k)$ <br>\n",
    "$ ... $ <br>\n",
    "$ y(k + j|k) = CA^j \\ x(k) + CA^{j-1}B \\ u(k|k) + CA^{j-2}B \\ u(k+1|k) + \\cdots + CB \\ u(k + j -1|k)$ \n",
    "\n",
    "Suppose now that:<br>\n",
    "$ u(k + m|k) = u(k + m + 1|k) = \\cdots = u(k + p - 1|k)$\n",
    "\n",
    "The equations above (when $j > m$) can then be re-written as:\n",
    "$ y(k + m + 1|k) = CA^{m+1} \\ x(k) + CA^{m}B \\ u(k|k) + CA^{m-1}B \\ u(k+1|k) + \\cdots + [CAB + CB] \\ u(k + m -1|k)$ <br>\n",
    "$ y(k + m + 2|k) = CA^{m+2} \\ x(k) + CA^{m+1}B \\ u(k|k) + CA^{m}B \\ u(k+1|k) + \\cdots + [CA^2B + CAB + CB] \\ u(k + m -1|k)$ <br>\n",
    "$ ... $ <br>\n",
    "$ y(k + pk) = CA^{p} \\ x(k) + CA^{p-1}B \\ u(k|k) + CA^{p-2}B \\ u(k+1|k) + \\cdots + [CA^{p-m}B + CA^{p-m-1}B + \\cdots + CB] \\ u(k + m -1|k)$\n",
    "\n",
    "Thus, the vector of output predictions can be written as follows:\n",
    "\n",
    "$\n",
    "\\begin{vmatrix}\n",
    "y(k + 1|k)\\\\\n",
    "y(k + 2|k)\\\\\n",
    "\\vdots \\\\\n",
    "y(k + m|k) \\\\\n",
    "y(k + m + 1|k)\\\\ \n",
    "\\vdots \\\\\n",
    "y(k + p|k)\n",
    "\\end{vmatrix}\n",
    "= \n",
    "\\begin{vmatrix}\n",
    "CA\\\\\n",
    "CA^{2}\\\\\n",
    "\\vdots \\\\\n",
    "CA^{m} \\\\\n",
    "CA^{m+1}\\\\ \n",
    "\\vdots \\\\\n",
    "CA^{p}\n",
    "\\end{vmatrix} \\ x(k)\n",
    "+\n",
    "\\begin{vmatrix}\n",
    "CB        & 0         & \\cdots & 0\\\\\n",
    "CAB       & CB        & \\cdots & 0\\\\\n",
    "\\vdots    & \\vdots    & \\cdots & \\vdots\\\\\n",
    "CA^{m-1}B & CA^{m-2}B & \\cdots & CB\\\\\n",
    "CA^{m}B   & CA^{m-1}B & \\cdots & C\\tilde{A}_1B\\\\ \n",
    "\\vdots    & \\vdots    & \\cdots & \\vdots\\\\\n",
    "CA^{p-1}B & CA^{p-2}B & \\cdots & C\\tilde{A}_{p-m}B\n",
    "\\end{vmatrix} \n",
    "\\begin{vmatrix}\n",
    "u(k|k)\\\\\n",
    "u(k + 2|k)\\\\\n",
    "\\vdots \\\\\n",
    "u(k + m - 1|k) \n",
    "\\end{vmatrix}\n",
    "$\n",
    "\n",
    "where: <br>\n",
    "$\\tilde{A}_1 = A + I, \\quad \\tilde{A}_2 = A^2 + A + I, \\quad \\tilde{A}_{p-m} = A^{p-m} + A^{p-m-1} + \\cdots + I$\n",
    "\n",
    "Simpifying, we have: <br>\n",
    "$ \\bar{y}(k) = \\Psi \\ x(k) + \\Theta \\ u(k) $ "
   ]
  },
  {
   "cell_type": "code",
   "execution_count": 9,
   "id": "bcc5cdd7",
   "metadata": {},
   "outputs": [],
   "source": [
    "Psi = Cd'*Ad\n",
    "for ii in 2:p\n",
    "    Psi = [Psi;  Cd'*Ad^ii]\n",
    "end\n",
    "\n",
    "# Computing Dynamic Matirx\n",
    "a = [Cd'*Ad^(ii - 1)*Bd for ii in 1:p];\n",
    "DynM = a\n",
    "\n",
    "for ii in 1:(m - 2)\n",
    "    a = [zeros(ny,nu);a[1:(p-1)*ny,:]]\n",
    "    DynM = [DynM  a]\n",
    "end\n",
    "\n",
    "# adjusting dynamic matrix for since p > m (last column)\n",
    "b = Cd'*Bd\n",
    "\n",
    "Ai = I(nx+1) # adding disturbance to the states\n",
    "for ii = 1:(p - m)\n",
    "    Ai = Ai + Ad^ii\n",
    "    b = [b;Cd'*Ai*Bd]\n",
    "end\n",
    "\n",
    "Theta=[DynM [zeros(ny*(m-1),nu);b]];"
   ]
  },
  {
   "cell_type": "markdown",
   "id": "3e8bf693",
   "metadata": {},
   "source": [
    "The first term (output tracking) of the MPC objective function is: \n",
    "\n",
    "$ \\sum_{j=1}^p (y(k + j|k) - y^{SP})^T \\ Q \\ (y(k + j|k) - y^{SP}) $\n",
    "\n",
    "which can be written as:\n",
    "\n",
    "$ (\\Psi \\ x(k) + \\Theta \\ u(k) - \\bar{y}^{SP})^T \\ \\bar{Q} \\ (\\Psi \\ x(k) + \\Theta \\ u(k) - \\bar{y}^{SP}) $\n",
    "\n",
    "where: \n",
    "$ \\bar{Q} = diag\\bigg( Q, \\cdots, Q\\bigg)$ - $p$ repetitions of $Q$\n",
    "\n",
    "The second term (inputs movement penalization) of the MPC objective function is: \n",
    "\n",
    "$ \\sum_{j=1}^{m-1} \\Delta u(k + j|k)^T \\ R \\ \\Delta u(k + j|k) $\n",
    "\n",
    "We observe that:\n",
    "$\n",
    "\\begin{vmatrix}\n",
    "\\Delta u(k|k)\\\\\n",
    "\\Delta u(k + 1|k)\\\\\n",
    "\\vdots \\\\\n",
    "\\Delta u(k + m - 1|k) \n",
    "\\end{vmatrix}\n",
    "= \n",
    "\\begin{vmatrix}\n",
    "u(k|k) - u(k - 1)\\\\\n",
    "u(k + 1|k) - u(k|k)\\\\\n",
    "\\vdots \\\\\n",
    "u(k + m - 1|k) - u(k + m - 2|k)\n",
    "\\end{vmatrix}\n",
    "=\n",
    "u_k - Mu_k - \\bar{I} u(k - 1)\n",
    "= (I_{nu,m} - M)u_k - \\bar{I} u(k - 1)\n",
    "= I_M u_k - \\bar{I} u(k - 1)\n",
    "$\n",
    "\n",
    "in which:\n",
    "$\n",
    "M = \n",
    "\\begin{vmatrix}\n",
    "0_{nu} & 0_{nu} & \\cdots & 0_{nu} & 0_{nu}\\\\\n",
    "I_{nu} & 0_{nu} & \\cdots & 0_{nu} & 0_{nu}\\\\\n",
    "0_{nu} & I_{nu} & \\cdots & 0_{nu} & 0_{nu}\\\\\n",
    "\\vdots & \\vdots & \\cdots & \\vdots & \\vdots\\\\\n",
    "0_{nu} & 0_{nu} & \\cdots & I_{nu} & 0_{nu}\n",
    "\\end{vmatrix}, \\quad\n",
    "\\bar{I} = \n",
    "\\begin{vmatrix}\n",
    "I_{nu}\\\\\n",
    "0_{nu}\\\\\n",
    "0_{nu}\\\\\n",
    "\\vdots\\\\\n",
    "0_{nu}\n",
    "\\end{vmatrix}\n",
    "$\n",
    "\n",
    "the second term can be written as:\n",
    "\n",
    "$ (I_M u_k - \\bar{I} u(k - 1))^T \\ \\bar{R} \\ (I_M u_k - \\bar{I} u(k - 1)) $\n",
    "\n",
    "where: \n",
    "$ \\bar{R} = diag\\bigg( R, \\cdots, R\\bigg)$ - $m$ repetitions of $R$"
   ]
  },
  {
   "cell_type": "code",
   "execution_count": 10,
   "id": "925bcc03",
   "metadata": {},
   "outputs": [],
   "source": [
    "# Creating Qbar and Rbar matrices\n",
    "Qbar = Diagonal([q for ii in 1:p])\n",
    "Rbar = Diagonal([r for ii in 1:m])\n",
    "\n",
    "# Creating input movement OF penalty matrix \n",
    "M=[zeros((m-1)*nu,nu) I(nu*(m-1)); zeros(nu) zeros(nu,nu*(m-1))]\n",
    "Ibar=[I(nu); zeros(nu*(m-1),nu)]\n",
    "IM = I(nu*m) - M';"
   ]
  },
  {
   "cell_type": "markdown",
   "id": "633770f5",
   "metadata": {},
   "source": [
    "The objective function then can be reduced to a quadratic function of the form:\n",
    "$$ J_k = u_k^T \\ H \\ u_k + 2c_f^T \\ u_k + c $$\n",
    "\n",
    "where:\n",
    "\n",
    "$H = \\Theta^T \\ \\bar{Q} \\ \\Theta + I_M^T \\ \\bar{R} \\ I_M$ <br>\n",
    "$c_f^T = (\\Psi \\ x(k) + \\Theta \\ u(k) - \\bar{y}^{SP})^T \\ \\bar{Q} \\ \\Theta + u(k-1)^T\\bar{I}^T \\ \\bar{R} \\ I_M$ <br>\n",
    "$c = (\\Psi \\ x(k) + \\Theta \\ u(k) - \\bar{y}^{SP})^T \\ \\bar{Q} \\ (\\Psi \\ x(k) + \\Theta \\ u(k) - \\bar{y}^{SP}) + u(k-1)^T\\bar{I}^T \\ \\bar{R} \\ \\bar{I} \\ u(k-1)$"
   ]
  },
  {
   "cell_type": "code",
   "execution_count": 11,
   "id": "7ce8ff87",
   "metadata": {},
   "outputs": [],
   "source": [
    "# Matrix H\n",
    "H = Theta'*Qbar*Theta + IM'*Rbar*IM;"
   ]
  },
  {
   "cell_type": "markdown",
   "id": "489964f1",
   "metadata": {},
   "source": [
    "## Unconstrained MPC solution\n",
    "the FOC of the unconstrained MPC problem is:\n",
    "\n",
    "$$ \\dfrac{\\partial J_k}{\\partial u_k}\\bigg|_{u_k^\\star} = 2 \\ u_k^{\\star,T} \\ H + 2c_f^T = 0 $$ \n",
    " \n",
    "Hence: \n",
    "\n",
    "$$ \\ u_k^{\\star,T} \\ H + c_f^T = 0 $$ \n",
    "$$ \\ u_k^{\\star,T} \\ H = - c_f^T $$ \n",
    "\n",
    "Transposing both sides ($H$ is symmetric, $H^T = H$):\n",
    "\n",
    "$$ H \\ u_k^{\\star} = - c_f $$ "
   ]
  },
  {
   "cell_type": "markdown",
   "id": "c4bf64d7",
   "metadata": {},
   "source": [
    "# Building function to solve CL-DRTO using MSS framework"
   ]
  },
  {
   "cell_type": "markdown",
   "id": "7ca207bc",
   "metadata": {},
   "source": [
    "$ \\min_{\\boldsymbol{y}^{SP}} \\quad \\Phi^{ECO}(\\boldsymbol{x},\\boldsymbol{y},\\boldsymbol{u}) $ <br>\n",
    "\n",
    "subjected to: ($k$ represents time and $s$ scenarios) <br>\n",
    "\n",
    "For each scenario ($s = 1,\\ldots,n^{scen}$) <br>\n",
    ">    System dynamics <br>\n",
    ">    $\\boldsymbol{x}_{k + 1,s} = A\\boldsymbol{x}_{k,s} + B_s\\boldsymbol{u}_{k,s} $ <br>\n",
    ">    $\\boldsymbol{y}_{k,s} = C\\boldsymbol{x}_{k,s}$\n",
    "\n",
    ">    CL-DRTO control horizon: constraints fixing inputs after horizon ends <br>\n",
    ">    $\\boldsymbol{u}_{k,s} - \\boldsymbol{u}_{k - 1,s} = 0, \\quad k = m^{DRTO} + 1,\\ldots,p^{DRTO}$\n",
    "\n",
    ">    $\\Delta u$ constraints (N.B.: $\\boldsymbol{u}_{0}$ comes from the plant and it is the same for all scenarios) <br>\n",
    ">    $-\\Delta \\boldsymbol{u}_{max} \\leq \\boldsymbol{u}_{k,s} - \\boldsymbol{u}_{k-1,s} \\leq \\Delta \\boldsymbol{u}_{max}, \\quad k = 1,\\ldots,m^{DRTO}$\n",
    "\n",
    ">    Product quality target band <br>\n",
    ">    $\\boldsymbol{y}_{k,s} + \\boldsymbol{\\delta}^p_{k,s} \\geq \\boldsymbol{y}_{target,lb}$ <br>\n",
    ">    $\\boldsymbol{y}_{k,s} - \\boldsymbol{\\delta}^m_{k,s} \\leq \\boldsymbol{y}_{target,ub}$\n",
    "\n",
    ">    Unconstrained MPC <br>\n",
    ">    $H \\ \\boldsymbol{U}_{k,s} - c_f = 0$<br>\n",
    ">    $\\text{where} \\quad c_f = f(\\boldsymbol{x}_{k,s},\\boldsymbol{u}_{k-1,s},\\boldsymbol{Y}^{SP}_{k,s})$ <br>\n",
    ">    $ \\quad \\quad \\quad \\boldsymbol{U}_{k,s} = [\\boldsymbol{u}^{1}_{k,s},\\boldsymbol{u}^{2}_{k,s},\\ldots,\\boldsymbol{u}^{m}_{k,s}]$<br>\n",
    ">    $\\quad \\quad \\quad \\boldsymbol{Y}^{SP}_{k,s} = [\\boldsymbol{y}^{SP,1}_{k,s},\\boldsymbol{y}^{SP,2}_{k,s},\\ldots,\\boldsymbol{y}^{SP,p}_{k,s}]$ <br>\n",
    "\n",
    "Non-antecipativity constraints <br>\n",
    "$\\boldsymbol{y}^{SP}_{k,s} = \\boldsymbol{y}^{SP}_{k,S}, \\quad k = 1,\\ldots,\\Delta t_{DRTO} \\ \\quad s = 1,\\ldots,S - 1,S + 1,\\ldots,n^{scen}$\n",
    "\n",
    "Variable bounds <br>\n",
    "$\\forall k, \\forall s \\quad \\boldsymbol{x}_{k,s} \\in \\mathcal{X}, \\ \\boldsymbol{u}_{k,s} \\in \\mathcal{U}, \\ \\boldsymbol{y}_{k,s} \\in \\mathcal{Y}, \\ \\boldsymbol{y}^{SP}_{k,s} \\in \\mathcal{Y}^{SP}$\n",
    "\n"
   ]
  },
  {
   "cell_type": "markdown",
   "id": "599ff8b6",
   "metadata": {},
   "source": [
    "## Connection between DRTO and MPC layers (inside CLDRTO formulation)"
   ]
  },
  {
   "cell_type": "markdown",
   "id": "2cba5d01",
   "metadata": {},
   "source": [
    "for one scenario:"
   ]
  },
  {
   "attachments": {
    "image-2.png": {
     "image/png": "[encoded data removed]"
    }
   },
   "cell_type": "markdown",
   "id": "e645dad5",
   "metadata": {},
   "source": [
    "![image-2.png](attachment:image-2.png)"
   ]
  },
  {
   "cell_type": "markdown",
   "id": "5209d477",
   "metadata": {},
   "source": [
    "## Nonantecipativity constraints"
   ]
  },
  {
   "attachments": {
    "image.png": {
     "image/png": "[encoded data removed]"
    }
   },
   "cell_type": "markdown",
   "id": "2c774ce0",
   "metadata": {},
   "source": [
    "![image.png](attachment:image.png)"
   ]
  },
  {
   "cell_type": "markdown",
   "id": "fb5689f0",
   "metadata": {},
   "source": [
    "## Target zone for y"
   ]
  },
  {
   "attachments": {
    "image.png": {
     "image/png": "[encoded data removed]"
    }
   },
   "cell_type": "markdown",
   "id": "a5d16bf9",
   "metadata": {},
   "source": [
    "![image.png](attachment:image.png)"
   ]
  },
  {
   "cell_type": "markdown",
   "id": "6869d373",
   "metadata": {},
   "source": [
    "# Solving CL-DRTO Multiscenario Problem (monolithic)"
   ]
  },
  {
   "cell_type": "code",
   "execution_count": 12,
   "id": "757ad6e4",
   "metadata": {},
   "outputs": [],
   "source": [
    "## Modeling the sub problem (scenario) -- modeling inside a function\n",
    "function MS_CLDRTO(xInit,uInit,nScen,pScen,B_drto_s)\n",
    "\n",
    "    # Define our model\n",
    "    model_ms = Model(CPLEX.Optimizer)\n",
    "    set_silent(model_ms)\n",
    "    \n",
    "    # Set up variables\n",
    "    # inputs computed by MPCs\n",
    "    @variable(model_ms, uMin <= u[1:pD,1:m,1:nScen] <= uMax)\n",
    "    # initial states used by MPC for computing the optimal trajectory\n",
    "    @variable(model_ms, xDRTO[1:pD,1:nx,1:nScen])\n",
    "    @variable(model_ms, xMPC[1:pD,1:nx,1:nScen])\n",
    "    # setpoints for the controllers sent to the plant (CL-DRTO degrees of freedom)\n",
    "    @variable(model_ms, yMin <= yDRTO[1:pD,1:nScen] <= yMax)\n",
    "    @variable(model_ms, yMin <= yMPC[1:pD,1:nScen] <= yMax)\n",
    "    @variable(model_ms, yspMin <= ysp[1:pD,1:nScen] <= yspMax)\n",
    "    # model deviation\n",
    "    @variable(model_ms, de[1:pD,1:nScen])\n",
    "    # slacks for controlling setpoint into a zone\n",
    "    @variable(model_ms, delta_y_p[1:pD,1:nScen] >= 0)\n",
    "    @variable(model_ms, delta_y_m[1:pD,1:nScen] >= 0)\n",
    "\n",
    "    # Set up objective function\n",
    "    @objective(model_ms, Min, pScen*sum(u[kk,1,ss] + 1e5*(delta_y_p[kk,ss]^2 + delta_y_m[kk,ss]^2) \n",
    "            for kk in 1:pD, ss in 1:nScen))\n",
    "\n",
    "    # Model Dynamic for Dynamic RTO\n",
    "    @constraint(model_ms, CLDRTO_dyn_model_1[ss=1:nScen], xDRTO[1,:,ss] .== A_drto*xInit + B_drto_s[:,ss]*uInit)\n",
    "    @constraint(model_ms, CLDRTO_dyn_model[kk=1:(pD - 1),ss=1:nScen], xDRTO[kk + 1,:,ss] .== A_drto*xDRTO[kk,:,ss] + B_drto_s[:,ss]*u[kk,1,ss])\n",
    "    @constraint(model_ms, CLDRTO_model_out[kk=1:pD,ss=1:nScen], yDRTO[kk,ss] == C_drto'*xDRTO[kk,:,ss])\n",
    "    \n",
    "    # Model Dynamic for Controller\n",
    "    @constraint(model_ms, MPC_dyn_model_1[ss=1:nScen], xMPC[1,:,ss] .== A*xInit + B*uInit)\n",
    "    @constraint(model_ms, MPC_dyn_model[kk=1:(pD - 1),ss=1:nScen], xMPC[kk + 1,:,ss] .== A*xMPC[kk,:,ss] + B*u[kk,1,ss])\n",
    "    @constraint(model_ms, MPC_model_out[kk=1:pD,ss=1:nScen], yMPC[kk,ss] == C'*xMPC[kk,:,ss])\n",
    "\n",
    "    #  Model deviation\n",
    "    @constraint(model_ms, MPC_model_dev[kk=1:pD,ss=1:nScen], de[kk,ss] == yDRTO[kk,ss] - yMPC[kk,ss])\n",
    "\n",
    "    # Unconstrained MPC solution\n",
    "    @expression(model_ms, cfT_1[ss=1:nScen], (Psi*[xMPC[1,:,ss];de[1,ss]] - ysp[1:p,ss])'*Qbar*Theta - uInit'*Ibar'*Rbar*IM)\n",
    "    @expression(model_ms, cfT[kk=2:mD,ss=1:nScen], (Psi*[xMPC[kk,:,ss];de[kk,ss]] - ysp[kk:(kk + p - 1),ss])'*Qbar*Theta - u[kk-1,1,ss]'*Ibar'*Rbar*IM)\n",
    "\n",
    "    @constraint(model_ms, MPC_sol_1[ss=1:nScen], H*u[1,:,ss] + cfT_1[ss]' .== 0)\n",
    "    @constraint(model_ms, MPC_sol[kk=2:mD,ss=1:nScen], H*u[kk,:,ss] + cfT[kk,ss]' .== 0)\n",
    "    \n",
    "    # fixing setpoint changes after mD\n",
    "    @constraint(model_ms, control_horizon[kk=(mD+1):pD,ss=1:nScen], u[kk,1,ss] .== u[mD,1,ss])\n",
    "\n",
    "    # Δu constraints\n",
    "    @constraint(model_ms, ΔU_max_0[ss=1:nScen], -ΔUMax <= u[1,1,ss] - uInit <= ΔUMax)\n",
    "    @constraint(model_ms, ΔU[kk=2:mD,ss=1:nScen], -ΔUMax <= u[kk,1,ss] - u[kk - 1,1,ss] <= ΔUMax)\n",
    "\n",
    "    # ysp in target\n",
    "    @constraint(model_ms, target_plus[kk=1:pD,ss=1:nScen], yDRTO[kk,ss] + delta_y_p[kk,ss] >= 0.95)\n",
    "    @constraint(model_ms, target_minus[kk=1:pD,ss=1:nScen], yDRTO[kk,ss] - delta_y_m[kk,ss] <= 1.05)\n",
    "\n",
    "    # nonanticipativity constraints\n",
    "    @constraint(model_ms, nonAnt[kk=1:nDRTO,ss=2:nScen], ysp[kk,1] - ysp[kk,ss] == 0.0);\n",
    "    \n",
    "    # @show model_ms\n",
    "    \n",
    "    optimize!(model_ms)\n",
    "    \n",
    "    # solution time\n",
    "    timeSol = solve_time(model_ms)\n",
    "    \n",
    "    flag = termination_status(model_ms)\n",
    "    # #primal_status(m)\n",
    "        \n",
    "    #calling values of the solved problem\n",
    "    o = objective_value(model_ms)\n",
    "    yspArray = value.(ysp)\n",
    "    \n",
    "    return Dict('o' => o, 'y' => yspArray, 't' => timeSol)\n",
    "end;"
   ]
  },
  {
   "cell_type": "markdown",
   "id": "554f5117",
   "metadata": {},
   "source": [
    "Solve Model"
   ]
  },
  {
   "cell_type": "code",
   "execution_count": 13,
   "id": "109738bd",
   "metadata": {},
   "outputs": [],
   "source": [
    "# Solve the model\n",
    "# solDict = MS_CLDRTO(x0,u0);"
   ]
  },
  {
   "cell_type": "markdown",
   "id": "8c2f9a0a",
   "metadata": {},
   "source": [
    "# Solving CL-DRTO Multiscenario Problem (decomposed)"
   ]
  },
  {
   "cell_type": "markdown",
   "id": "b2f632eb",
   "metadata": {},
   "source": [
    "## Modeling Subproblem"
   ]
  },
  {
   "cell_type": "code",
   "execution_count": 14,
   "id": "1c652a26",
   "metadata": {},
   "outputs": [],
   "source": [
    "## Modeling the sub problem (scenario) -- modeling inside a function\n",
    "function subp(xInit,uInit,ysp_fixed,scen,pScen,B_drto_s)\n",
    "    ###########\n",
    "    # inputs: #\n",
    "    ###########\n",
    "    # xInit - states at the current iteration (beginning of DRTO horizon)\n",
    "    # uInit - inputs at the current iteration, already implemented on the plant\n",
    "    # ysp_fixed - non-antecipativity constraints (first nDRTO setpoints must be equal among scenarios)\n",
    "    # scen - which scenario the subproblem represents\n",
    "\n",
    "    # Define subproblem model\n",
    "    sub = Model(CPLEX.Optimizer)\n",
    "    set_silent(sub) # avoid printing\n",
    "\n",
    "    ####################\n",
    "    # Set up variables #\n",
    "    ####################\n",
    "    # DRTO states\n",
    "    @variable(sub, x[1:pD, 1:nx])\n",
    "    # DRTO model outputs\n",
    "    @variable(sub, yMin <= y[1:pD] <= yMax)\n",
    "    \n",
    "    # MPC states\n",
    "    @variable(sub, xMPC[1:pD, 1:nx])\n",
    "    # MPC model outputs\n",
    "    @variable(sub, yspMin <= ysp[1:pD] <= yspMax)\n",
    "    \n",
    "    # inputs computed by MPCs\n",
    "    @variable(sub, uMin <= u[1:pD,1:m] <= uMax)\n",
    "    # setpoints for the controllers sent to the plant (CL-DRTO degrees of freedom)\n",
    "    @variable(sub, yMin <= yMPC[1:pD] <= yMax)\n",
    "    \n",
    "    # model deviation\n",
    "    @variable(sub, de[1:pD])\n",
    "    \n",
    "    # slacks for controlling setpoint into a zone\n",
    "    @variable(sub, delta_y_p[1:pD] >= 0)\n",
    "    @variable(sub, delta_y_m[1:pD] >= 0)\n",
    "\n",
    "    #############################\n",
    "    # Set up objective function #\n",
    "    #############################\n",
    "    # minimize input usage to bring y to target + penalization if output leaves target band\n",
    "    @objective(sub, Min, pScen*sum(u[kk,1] + 1e5*(delta_y_p[kk]^2 + delta_y_m[kk]^2) for kk in 1:pD))\n",
    "\n",
    "    ######################################\n",
    "    # Set up constraints and expressions #\n",
    "    ######################################\n",
    "    # Dynamic RTO model (linear)\n",
    "    @constraint(sub, CLDRTO_dyn_model_1, x[1,:] .== A_drto*xInit + B_drto_s[:,scen]*uInit)\n",
    "    @constraint(sub, CLDRTO_dyn_model[kk=1:(pD - 1)], x[kk + 1,:] .== A_drto*x[kk,:] + B_drto_s[:,scen]*u[kk,1])\n",
    "    @constraint(sub, CLDRTO_model_out[kk=1:pD], y[kk] == C_drto'*x[kk,:])\n",
    "\n",
    "    # MPC model (linear)\n",
    "    @constraint(sub, MPC_dyn_model_1, xMPC[1,:] .== A*xInit + B*uInit)\n",
    "    @constraint(sub, MPC_dyn_model[kk=1:(pD - 1)], xMPC[kk + 1,:] .== A*xMPC[kk,:] + B*u[kk,1])\n",
    "    @constraint(sub, MPC_model_out[kk=1:pD], yMPC[kk] == C'*xMPC[kk,:])\n",
    "    \n",
    "    #  MPC model deviation (disturance)\n",
    "    @constraint(sub, MPC_model_dev[kk=1:pD], de[kk] == y[kk] - yMPC[kk])\n",
    "\n",
    "    # Unconstrained MPC solution\n",
    "    @expression(sub, cfT_1, (Psi*[xMPC[1,:];de[1]] - ysp[1:p])'*Qbar*Theta - uInit'*Ibar'*Rbar*IM)\n",
    "    @expression(sub, cfT[kk=2:mD], (Psi*[xMPC[kk,:];de[kk]] - ysp[kk:(kk + p - 1)])'*Qbar*Theta - u[kk-1,1]'*Ibar'*Rbar*IM)\n",
    "\n",
    "    @constraint(sub, MPC_sol_1, H*u[1,:] + cfT_1' .== 0)\n",
    "    @constraint(sub, MPC_sol[kk=2:mD], H*u[kk,:] + cfT[kk]' .== 0)\n",
    "    \n",
    "    # fixing input after mD\n",
    "    @constraint(sub, control_horizon[kk=(mD+1):pD], u[kk] == u[mD]);\n",
    "    \n",
    "    # Δu constraints\n",
    "    @constraint(sub, ΔU_max_0, -ΔUMax <= u[1] - uInit <= ΔUMax)\n",
    "    @constraint(sub, ΔU[kk=2:mD], -ΔUMax <= u[kk] - u[kk - 1] <= ΔUMax)\n",
    "\n",
    "    # y (DRTO) inside target quality band\n",
    "    @constraint(sub, target_plus[kk=1:pD], y[kk] + delta_y_p[kk] >= 0.95)\n",
    "    @constraint(sub, target_minus[kk=1:pD], y[kk] - delta_y_m[kk] <= 1.05)\n",
    "\n",
    "    # nonanticipativity constraints\n",
    "    @constraint(sub, nonAnt[kk=1:nDRTO], ysp[kk] - ysp_fixed[kk] == 0.0);\n",
    "    \n",
    "    # @show sub\n",
    "    \n",
    "    optimize!(sub)\n",
    "    \n",
    "    # solution time\n",
    "    timeSol = solve_time(sub)\n",
    "    \n",
    "    flag = termination_status(sub)\n",
    "    # #primal_status(m)\n",
    "    \n",
    "    #calling values of the solved problem\n",
    "    o = objective_value(sub)\n",
    "    uArray = value.(u)\n",
    "    yspArray = value.(ysp)\n",
    "    yArray = value.(y)\n",
    "    \n",
    "    # lagrange multipliers associated with the nonantecipativity constraints\n",
    "    λ = dual.(nonAnt)\n",
    "    \n",
    "    return Dict('o' => o, 'f' => flag, 'λ' => λ, 'u' => uArray, 'y' => yArray, 's' => yspArray, 't' => timeSol)\n",
    "end;"
   ]
  },
  {
   "cell_type": "code",
   "execution_count": 15,
   "id": "6550488c",
   "metadata": {},
   "outputs": [
    {
     "data": {
      "text/plain": [
       "BENS_CLDRTO (generic function with 1 method)"
      ]
     },
     "execution_count": 15,
     "metadata": {},
     "output_type": "execute_result"
    }
   ],
   "source": [
    "## Modeling Benders Decompostion\n",
    "function BENS_CLDRTO(xInit,uInit,nScen,pScen,B_drto_s)\n",
    "    \n",
    "    # timing solution via Benders\n",
    "    timeSolBen = 0 \n",
    "    \n",
    "    # Degine master problem model\n",
    "    master = Model(CPLEX.Optimizer)\n",
    "    set_silent(master)\n",
    "\n",
    "    ####################\n",
    "    # Set up variables #\n",
    "    ####################\n",
    "    @variable(master, yspMin <= ysp[1:nDRTO] <= yspMax, start = 0.5)     \n",
    "\n",
    "    #lower bound on scenario objective function approximation \n",
    "    alpha_down = 0.0;\n",
    "    @variable(master, α ≥ alpha_down)\n",
    "\n",
    "    #############################\n",
    "    # Set up objective function #\n",
    "    #############################\n",
    "    @objective(master, Min, α);\n",
    "    \n",
    "    # solving problem with benders' decomposition \n",
    "    for ii in 1:20\n",
    "       \n",
    "        # solve master problem (with Benders' cut)\n",
    "        optimize!(master)\n",
    "        \n",
    "        # solution time\n",
    "        timeSolMaster = solve_time(master)\n",
    "            \n",
    "        timeSolBen = timeSolBen + timeSolMaster\n",
    "\n",
    "        # Master problem solution: lower bound of the original problem\n",
    "        lb = objective_value(master)\n",
    "\n",
    "        # extracting solution\n",
    "        ysp_nonⁱ = value.(ysp)\n",
    "\n",
    "        # solve subproblems to find the upper bound of the original problem solution \n",
    "        ub = sum(subp(x0,u0,ysp_nonⁱ,ss,pScen,B_drto_s)['o'] for ss in 1:nScen)\n",
    "        \n",
    "        # solve subproblems to find the upper bound of the original problem solution \n",
    "        timeSolSub = sum(subp(x0,u0,ysp_nonⁱ,ss,pScen,B_drto_s)['t'] for ss in 1:nScen)\n",
    "        timeSolBen = timeSolBen + timeSolSub\n",
    "\n",
    "        # compute optimality gap\n",
    "        gap = abs(ub - lb)/abs(ub)\n",
    "\n",
    "        # check if optimality gap is small enough\n",
    "        if gap < 1e-5 \n",
    "            global yspSol_dec = ysp_nonⁱ\n",
    "            global objFun_dec = ub\n",
    "            global iter_dec = ii\n",
    "            break\n",
    "        else \n",
    "            if ii < 20 \n",
    "                # IF NOT \n",
    "                # sensitivity (for adding Benders' cut)\n",
    "                lambda_N = [subp(x0,u0,ysp_nonⁱ,ss,pScen,B_drto_s)['λ']' for ss in 1:nScen]  \n",
    "\n",
    "                # adding Benders' cut to the master problem\n",
    "                benderscut = @constraint(master, α ≥ ub + sum(sum(lambda_N[ss][jj] for ss in 1:nScen)*(ysp[jj] - ysp_nonⁱ[jj]) for jj in 1:nDRTO))\n",
    "            else\n",
    "                # max iterations reached\n",
    "                global yspSol_dec = NaN\n",
    "                global objFun_dec = NaN\n",
    "                global iter_dec = 20\n",
    "\n",
    "            end # if < 20\n",
    "        end # if gap\n",
    "    end # if for ii = 1:20\n",
    "    \n",
    "    #calling values of the solved problem\n",
    "    return Dict('o' => objFun_dec, 'y' => yspSol_dec, 't' => timeSolBen, 'i' => iter_dec)\n",
    "     \n",
    "end"
   ]
  },
  {
   "cell_type": "markdown",
   "id": "7dbb9c4b",
   "metadata": {},
   "source": [
    "# Checking the performance of the methods in terms of time vs. nScen"
   ]
  },
  {
   "cell_type": "code",
   "execution_count": 19,
   "id": "a5cd27ad",
   "metadata": {},
   "outputs": [],
   "source": [
    "# preparing plot \n",
    "p1 = plot(legend=false, xlabel=\"# scenarios\", ylabel=\"sol. time [s]\")\n",
    "#p2 = plot(legend=false, xlabel=\"# scenarios\", ylabel=\"dif. sol. time [s/scen]\")\n",
    "\n",
    "for ss = 1:10\n",
    "\n",
    "    #number os scenarios\n",
    "    nScen = ss\n",
    "    #equiprobable scenarios\n",
    "    pScen = 1.0/nScen;\n",
    "    # uncertainty in B - each column represent a different realization\n",
    "    B_drto_s = [rand(Uniform(0.05,0.07),1,nScen);zeros(1,nScen);zeros(1,nScen)] # drawing value from random uniform distribution\n",
    "\n",
    "    # solving monolithical problem \n",
    "    sol_m_Dict = MS_CLDRTO(x0,u0,nScen,pScen,B_drto_s);\n",
    "    \n",
    "    # solving decomposed problem\n",
    "    sol_d_Dict = BENS_CLDRTO(x0,u0,nScen,pScen,B_drto_s);\n",
    "    #display(sol_d_Dict['i'])\n",
    "    \n",
    "    # add information to the plot\n",
    "    p1 = plot!([ss],[sol_m_Dict['t']], marker=:circle, markercolor = :green)\n",
    "    p1 = plot!([ss],[sol_d_Dict['t']], marker=:square, markercolor = :red)\n",
    "    \n",
    "    #p2 = plot!([ss],[(sol_d_Dict['t'] - sol_m_Dict['t'])/ss], marker=:diamond, markercolor = :blue)\n",
    "    \n",
    "end;"
   ]
  },
  {
   "cell_type": "code",
   "execution_count": 20,
   "id": "20699c12",
   "metadata": {},
   "outputs": [
    {
     "data": {
      "image/svg+xml": [
       "<?xml version=\"1.0\" encoding=\"utf-8\"?>\n",
       "<svg xmlns=\"http://www.w3.org/2000/svg\" xmlns:xlink=\"http://www.w3.org/1999/xlink\" width=\"600\" height=\"400\" viewBox=\"0 0 2400 1600\">\n",
       "<defs>\n",
       "  <clipPath id=\"clip100\">\n",
       "    <rect x=\"0\" y=\"0\" width=\"2400\" height=\"1600\"/>\n",
       "  </clipPath>\n",
       "</defs>\n",
       "<path clip-path=\"url(#clip100)\" d=\"M0 1600 L2400 1600 L2400 0 L0 0  Z\" fill=\"#ffffff\" fill-rule=\"evenodd\" fill-opacity=\"1\"/>\n",
       "<defs>\n",
       "  <clipPath id=\"clip101\">\n",
       "    <rect x=\"480\" y=\"0\" width=\"1681\" height=\"1600\"/>\n",
       "  </clipPath>\n",
       "</defs>\n",
       "<path clip-path=\"url(#clip100)\" d=\"M249.542 1423.18 L2352.76 1423.18 L2352.76 47.2441 L249.542 47.2441  Z\" fill=\"#ffffff\" fill-rule=\"evenodd\" fill-opacity=\"1\"/>\n",
       "<defs>\n",
       "  <clipPath id=\"clip102\">\n",
       "    <rect x=\"249\" y=\"47\" width=\"2104\" height=\"1377\"/>\n",
       "  </clipPath>\n",
       "</defs>\n",
       "<polyline clip-path=\"url(#clip102)\" style=\"stroke:#000000; stroke-linecap:round; stroke-linejoin:round; stroke-width:2; stroke-opacity:0.1; fill:none\" points=\"529.53,1423.18 529.53,47.2441 \"/>\n",
       "<polyline clip-path=\"url(#clip102)\" style=\"stroke:#000000; stroke-linecap:round; stroke-linejoin:round; stroke-width:2; stroke-opacity:0.1; fill:none\" points=\"970.455,1423.18 970.455,47.2441 \"/>\n",
       "<polyline clip-path=\"url(#clip102)\" style=\"stroke:#000000; stroke-linecap:round; stroke-linejoin:round; stroke-width:2; stroke-opacity:0.1; fill:none\" points=\"1411.38,1423.18 1411.38,47.2441 \"/>\n",
       "<polyline clip-path=\"url(#clip102)\" style=\"stroke:#000000; stroke-linecap:round; stroke-linejoin:round; stroke-width:2; stroke-opacity:0.1; fill:none\" points=\"1852.31,1423.18 1852.31,47.2441 \"/>\n",
       "<polyline clip-path=\"url(#clip102)\" style=\"stroke:#000000; stroke-linecap:round; stroke-linejoin:round; stroke-width:2; stroke-opacity:0.1; fill:none\" points=\"2293.23,1423.18 2293.23,47.2441 \"/>\n",
       "<polyline clip-path=\"url(#clip100)\" style=\"stroke:#000000; stroke-linecap:round; stroke-linejoin:round; stroke-width:4; stroke-opacity:1; fill:none\" points=\"249.542,1423.18 2352.76,1423.18 \"/>\n",
       "<polyline clip-path=\"url(#clip100)\" style=\"stroke:#000000; stroke-linecap:round; stroke-linejoin:round; stroke-width:4; stroke-opacity:1; fill:none\" points=\"529.53,1423.18 529.53,1404.28 \"/>\n",
       "<polyline clip-path=\"url(#clip100)\" style=\"stroke:#000000; stroke-linecap:round; stroke-linejoin:round; stroke-width:4; stroke-opacity:1; fill:none\" points=\"970.455,1423.18 970.455,1404.28 \"/>\n",
       "<polyline clip-path=\"url(#clip100)\" style=\"stroke:#000000; stroke-linecap:round; stroke-linejoin:round; stroke-width:4; stroke-opacity:1; fill:none\" points=\"1411.38,1423.18 1411.38,1404.28 \"/>\n",
       "<polyline clip-path=\"url(#clip100)\" style=\"stroke:#000000; stroke-linecap:round; stroke-linejoin:round; stroke-width:4; stroke-opacity:1; fill:none\" points=\"1852.31,1423.18 1852.31,1404.28 \"/>\n",
       "<polyline clip-path=\"url(#clip100)\" style=\"stroke:#000000; stroke-linecap:round; stroke-linejoin:round; stroke-width:4; stroke-opacity:1; fill:none\" points=\"2293.23,1423.18 2293.23,1404.28 \"/>\n",
       "<path clip-path=\"url(#clip100)\" d=\"M524.182 1481.64 L540.502 1481.64 L540.502 1485.58 L518.557 1485.58 L518.557 1481.64 Q521.219 1478.89 525.803 1474.26 Q530.409 1469.61 531.59 1468.27 Q533.835 1465.74 534.715 1464.01 Q535.618 1462.25 535.618 1460.56 Q535.618 1457.8 533.673 1456.07 Q531.752 1454.33 528.65 1454.33 Q526.451 1454.33 523.997 1455.09 Q521.567 1455.86 518.789 1457.41 L518.789 1452.69 Q521.613 1451.55 524.067 1450.97 Q526.52 1450.39 528.557 1450.39 Q533.928 1450.39 537.122 1453.08 Q540.317 1455.77 540.317 1460.26 Q540.317 1462.39 539.506 1464.31 Q538.719 1466.2 536.613 1468.8 Q536.034 1469.47 532.932 1472.69 Q529.831 1475.88 524.182 1481.64 Z\" fill=\"#000000\" fill-rule=\"evenodd\" fill-opacity=\"1\" /><path clip-path=\"url(#clip100)\" d=\"M973.464 1455.09 L961.659 1473.54 L973.464 1473.54 L973.464 1455.09 M972.237 1451.02 L978.117 1451.02 L978.117 1473.54 L983.047 1473.54 L983.047 1477.43 L978.117 1477.43 L978.117 1485.58 L973.464 1485.58 L973.464 1477.43 L957.862 1477.43 L957.862 1472.92 L972.237 1451.02 Z\" fill=\"#000000\" fill-rule=\"evenodd\" fill-opacity=\"1\" /><path clip-path=\"url(#clip100)\" d=\"M1411.79 1466.44 Q1408.64 1466.44 1406.79 1468.59 Q1404.96 1470.74 1404.96 1474.49 Q1404.96 1478.22 1406.79 1480.39 Q1408.64 1482.55 1411.79 1482.55 Q1414.93 1482.55 1416.76 1480.39 Q1418.61 1478.22 1418.61 1474.49 Q1418.61 1470.74 1416.76 1468.59 Q1414.93 1466.44 1411.79 1466.44 M1421.07 1451.78 L1421.07 1456.04 Q1419.31 1455.21 1417.5 1454.77 Q1415.72 1454.33 1413.96 1454.33 Q1409.33 1454.33 1406.88 1457.45 Q1404.45 1460.58 1404.1 1466.9 Q1405.47 1464.89 1407.53 1463.82 Q1409.59 1462.73 1412.06 1462.73 Q1417.27 1462.73 1420.28 1465.9 Q1423.31 1469.05 1423.31 1474.49 Q1423.31 1479.82 1420.16 1483.03 Q1417.02 1486.25 1411.79 1486.25 Q1405.79 1486.25 1402.62 1481.67 Q1399.45 1477.06 1399.45 1468.33 Q1399.45 1460.14 1403.34 1455.28 Q1407.23 1450.39 1413.78 1450.39 Q1415.54 1450.39 1417.32 1450.74 Q1419.12 1451.09 1421.07 1451.78 Z\" fill=\"#000000\" fill-rule=\"evenodd\" fill-opacity=\"1\" /><path clip-path=\"url(#clip100)\" d=\"M1852.31 1469.17 Q1848.97 1469.17 1847.05 1470.95 Q1845.15 1472.73 1845.15 1475.86 Q1845.15 1478.98 1847.05 1480.77 Q1848.97 1482.55 1852.31 1482.55 Q1855.64 1482.55 1857.56 1480.77 Q1859.48 1478.96 1859.48 1475.86 Q1859.48 1472.73 1857.56 1470.95 Q1855.66 1469.17 1852.31 1469.17 M1847.63 1467.18 Q1844.62 1466.44 1842.93 1464.38 Q1841.26 1462.32 1841.26 1459.35 Q1841.26 1455.21 1844.2 1452.8 Q1847.17 1450.39 1852.31 1450.39 Q1857.47 1450.39 1860.41 1452.8 Q1863.35 1455.21 1863.35 1459.35 Q1863.35 1462.32 1861.66 1464.38 Q1859.99 1466.44 1857 1467.18 Q1860.38 1467.96 1862.26 1470.26 Q1864.16 1472.55 1864.16 1475.86 Q1864.16 1480.88 1861.08 1483.57 Q1858.02 1486.25 1852.31 1486.25 Q1846.59 1486.25 1843.51 1483.57 Q1840.45 1480.88 1840.45 1475.86 Q1840.45 1472.55 1842.35 1470.26 Q1844.25 1467.96 1847.63 1467.18 M1845.92 1459.79 Q1845.92 1462.48 1847.58 1463.98 Q1849.27 1465.49 1852.31 1465.49 Q1855.31 1465.49 1857 1463.98 Q1858.72 1462.48 1858.72 1459.79 Q1858.72 1457.11 1857 1455.6 Q1855.31 1454.1 1852.31 1454.1 Q1849.27 1454.1 1847.58 1455.6 Q1845.92 1457.11 1845.92 1459.79 Z\" fill=\"#000000\" fill-rule=\"evenodd\" fill-opacity=\"1\" /><path clip-path=\"url(#clip100)\" d=\"M2267.92 1481.64 L2275.56 1481.64 L2275.56 1455.28 L2267.25 1456.95 L2267.25 1452.69 L2275.51 1451.02 L2280.19 1451.02 L2280.19 1481.64 L2287.83 1481.64 L2287.83 1485.58 L2267.92 1485.58 L2267.92 1481.64 Z\" fill=\"#000000\" fill-rule=\"evenodd\" fill-opacity=\"1\" /><path clip-path=\"url(#clip100)\" d=\"M2307.27 1454.1 Q2303.66 1454.1 2301.83 1457.66 Q2300.02 1461.2 2300.02 1468.33 Q2300.02 1475.44 2301.83 1479.01 Q2303.66 1482.55 2307.27 1482.55 Q2310.9 1482.55 2312.71 1479.01 Q2314.54 1475.44 2314.54 1468.33 Q2314.54 1461.2 2312.71 1457.66 Q2310.9 1454.1 2307.27 1454.1 M2307.27 1450.39 Q2313.08 1450.39 2316.14 1455 Q2319.21 1459.58 2319.21 1468.33 Q2319.21 1477.06 2316.14 1481.67 Q2313.08 1486.25 2307.27 1486.25 Q2301.46 1486.25 2298.38 1481.67 Q2295.33 1477.06 2295.33 1468.33 Q2295.33 1459.58 2298.38 1455 Q2301.46 1450.39 2307.27 1450.39 Z\" fill=\"#000000\" fill-rule=\"evenodd\" fill-opacity=\"1\" /><path clip-path=\"url(#clip100)\" d=\"M1140.92 1539.37 L1131.66 1539.37 L1128.99 1550 L1138.31 1550 L1140.92 1539.37 M1136.15 1521.26 L1132.84 1534.46 L1142.13 1534.46 L1145.48 1521.26 L1150.57 1521.26 L1147.29 1534.46 L1157.22 1534.46 L1157.22 1539.37 L1146.05 1539.37 L1143.44 1550 L1153.56 1550 L1153.56 1554.87 L1142.2 1554.87 L1138.89 1568.04 L1133.79 1568.04 L1137.07 1554.87 L1127.75 1554.87 L1124.47 1568.04 L1119.34 1568.04 L1122.65 1554.87 L1112.63 1554.87 L1112.63 1550 L1123.83 1550 L1126.51 1539.37 L1116.26 1539.37 L1116.26 1534.46 L1127.75 1534.46 L1130.99 1521.26 L1136.15 1521.26 Z\" fill=\"#000000\" fill-rule=\"evenodd\" fill-opacity=\"1\" /><path clip-path=\"url(#clip100)\" d=\"M1211.81 1533.45 L1211.81 1538.98 Q1209.32 1537.71 1206.65 1537.07 Q1203.98 1536.44 1201.11 1536.44 Q1196.75 1536.44 1194.56 1537.77 Q1192.39 1539.11 1192.39 1541.79 Q1192.39 1543.82 1193.95 1545 Q1195.51 1546.15 1200.22 1547.2 L1202.23 1547.64 Q1208.46 1548.98 1211.07 1551.43 Q1213.72 1553.85 1213.72 1558.21 Q1213.72 1563.17 1209.77 1566.07 Q1205.85 1568.97 1198.98 1568.97 Q1196.11 1568.97 1193 1568.39 Q1189.91 1567.85 1186.47 1566.74 L1186.47 1560.69 Q1189.72 1562.38 1192.87 1563.24 Q1196.02 1564.07 1199.11 1564.07 Q1203.24 1564.07 1205.47 1562.66 Q1207.7 1561.23 1207.7 1558.65 Q1207.7 1556.27 1206.08 1554.99 Q1204.49 1553.72 1199.04 1552.54 L1197.01 1552.07 Q1191.56 1550.92 1189.14 1548.56 Q1186.73 1546.18 1186.73 1542.04 Q1186.73 1537.01 1190.29 1534.27 Q1193.85 1531.54 1200.41 1531.54 Q1203.66 1531.54 1206.52 1532.01 Q1209.39 1532.49 1211.81 1533.45 Z\" fill=\"#000000\" fill-rule=\"evenodd\" fill-opacity=\"1\" /><path clip-path=\"url(#clip100)\" d=\"M1248.7 1533.76 L1248.7 1539.24 Q1246.21 1537.87 1243.7 1537.2 Q1241.22 1536.5 1238.67 1536.5 Q1232.97 1536.5 1229.82 1540.13 Q1226.67 1543.73 1226.67 1550.25 Q1226.67 1556.78 1229.82 1560.4 Q1232.97 1564 1238.67 1564 Q1241.22 1564 1243.7 1563.33 Q1246.21 1562.63 1248.7 1561.26 L1248.7 1566.68 Q1246.24 1567.82 1243.6 1568.39 Q1240.99 1568.97 1238.03 1568.97 Q1229.98 1568.97 1225.24 1563.91 Q1220.5 1558.85 1220.5 1550.25 Q1220.5 1541.53 1225.27 1536.53 Q1230.08 1531.54 1238.41 1531.54 Q1241.12 1531.54 1243.7 1532.11 Q1246.28 1532.65 1248.7 1533.76 Z\" fill=\"#000000\" fill-rule=\"evenodd\" fill-opacity=\"1\" /><path clip-path=\"url(#clip100)\" d=\"M1289.37 1548.76 L1289.37 1551.62 L1262.45 1551.62 Q1262.83 1557.67 1266.07 1560.85 Q1269.35 1564 1275.18 1564 Q1278.55 1564 1281.7 1563.17 Q1284.88 1562.35 1288 1560.69 L1288 1566.23 Q1284.85 1567.57 1281.54 1568.27 Q1278.23 1568.97 1274.83 1568.97 Q1266.3 1568.97 1261.3 1564 Q1256.33 1559.04 1256.33 1550.57 Q1256.33 1541.82 1261.05 1536.69 Q1265.79 1531.54 1273.81 1531.54 Q1281 1531.54 1285.17 1536.18 Q1289.37 1540.8 1289.37 1548.76 M1283.52 1547.04 Q1283.45 1542.23 1280.81 1539.37 Q1278.2 1536.5 1273.87 1536.5 Q1268.97 1536.5 1266.01 1539.27 Q1263.08 1542.04 1262.64 1547.07 L1283.52 1547.04 Z\" fill=\"#000000\" fill-rule=\"evenodd\" fill-opacity=\"1\" /><path clip-path=\"url(#clip100)\" d=\"M1328.62 1546.53 L1328.62 1568.04 L1322.76 1568.04 L1322.76 1546.72 Q1322.76 1541.66 1320.79 1539.14 Q1318.81 1536.63 1314.87 1536.63 Q1310.12 1536.63 1307.39 1539.65 Q1304.65 1542.68 1304.65 1547.9 L1304.65 1568.04 L1298.76 1568.04 L1298.76 1532.4 L1304.65 1532.4 L1304.65 1537.93 Q1306.75 1534.72 1309.58 1533.13 Q1312.45 1531.54 1316.17 1531.54 Q1322.31 1531.54 1325.47 1535.36 Q1328.62 1539.14 1328.62 1546.53 Z\" fill=\"#000000\" fill-rule=\"evenodd\" fill-opacity=\"1\" /><path clip-path=\"url(#clip100)\" d=\"M1356.5 1550.12 Q1349.4 1550.12 1346.66 1551.75 Q1343.93 1553.37 1343.93 1557.29 Q1343.93 1560.4 1345.96 1562.25 Q1348.03 1564.07 1351.57 1564.07 Q1356.44 1564.07 1359.36 1560.63 Q1362.32 1557.16 1362.32 1551.43 L1362.32 1550.12 L1356.5 1550.12 M1368.18 1547.71 L1368.18 1568.04 L1362.32 1568.04 L1362.32 1562.63 Q1360.32 1565.88 1357.33 1567.44 Q1354.33 1568.97 1350.01 1568.97 Q1344.53 1568.97 1341.28 1565.91 Q1338.07 1562.82 1338.07 1557.67 Q1338.07 1551.65 1342.08 1548.6 Q1346.12 1545.54 1354.11 1545.54 L1362.32 1545.54 L1362.32 1544.97 Q1362.32 1540.93 1359.65 1538.73 Q1357.01 1536.5 1352.2 1536.5 Q1349.15 1536.5 1346.25 1537.23 Q1343.35 1537.97 1340.68 1539.43 L1340.68 1534.02 Q1343.89 1532.78 1346.92 1532.17 Q1349.94 1531.54 1352.81 1531.54 Q1360.54 1531.54 1364.36 1535.55 Q1368.18 1539.56 1368.18 1547.71 Z\" fill=\"#000000\" fill-rule=\"evenodd\" fill-opacity=\"1\" /><path clip-path=\"url(#clip100)\" d=\"M1400.9 1537.87 Q1399.91 1537.3 1398.74 1537.04 Q1397.59 1536.76 1396.19 1536.76 Q1391.22 1536.76 1388.55 1540 Q1385.91 1543.22 1385.91 1549.27 L1385.91 1568.04 L1380.02 1568.04 L1380.02 1532.4 L1385.91 1532.4 L1385.91 1537.93 Q1387.75 1534.69 1390.71 1533.13 Q1393.67 1531.54 1397.91 1531.54 Q1398.51 1531.54 1399.24 1531.63 Q1399.98 1531.7 1400.87 1531.85 L1400.9 1537.87 Z\" fill=\"#000000\" fill-rule=\"evenodd\" fill-opacity=\"1\" /><path clip-path=\"url(#clip100)\" d=\"M1407.04 1532.4 L1412.9 1532.4 L1412.9 1568.04 L1407.04 1568.04 L1407.04 1532.4 M1407.04 1518.52 L1412.9 1518.52 L1412.9 1525.93 L1407.04 1525.93 L1407.04 1518.52 Z\" fill=\"#000000\" fill-rule=\"evenodd\" fill-opacity=\"1\" /><path clip-path=\"url(#clip100)\" d=\"M1438.97 1536.5 Q1434.26 1536.5 1431.52 1540.19 Q1428.78 1543.85 1428.78 1550.25 Q1428.78 1556.65 1431.49 1560.34 Q1434.22 1564 1438.97 1564 Q1443.65 1564 1446.38 1560.31 Q1449.12 1556.62 1449.12 1550.25 Q1449.12 1543.92 1446.38 1540.23 Q1443.65 1536.5 1438.97 1536.5 M1438.97 1531.54 Q1446.61 1531.54 1450.97 1536.5 Q1455.33 1541.47 1455.33 1550.25 Q1455.33 1559 1450.97 1564 Q1446.61 1568.97 1438.97 1568.97 Q1431.3 1568.97 1426.94 1564 Q1422.61 1559 1422.61 1550.25 Q1422.61 1541.47 1426.94 1536.5 Q1431.3 1531.54 1438.97 1531.54 Z\" fill=\"#000000\" fill-rule=\"evenodd\" fill-opacity=\"1\" /><path clip-path=\"url(#clip100)\" d=\"M1487.76 1533.45 L1487.76 1538.98 Q1485.28 1537.71 1482.6 1537.07 Q1479.93 1536.44 1477.07 1536.44 Q1472.7 1536.44 1470.51 1537.77 Q1468.34 1539.11 1468.34 1541.79 Q1468.34 1543.82 1469.9 1545 Q1471.46 1546.15 1476.17 1547.2 L1478.18 1547.64 Q1484.42 1548.98 1487.03 1551.43 Q1489.67 1553.85 1489.67 1558.21 Q1489.67 1563.17 1485.72 1566.07 Q1481.81 1568.97 1474.93 1568.97 Q1472.07 1568.97 1468.95 1568.39 Q1465.86 1567.85 1462.42 1566.74 L1462.42 1560.69 Q1465.67 1562.38 1468.82 1563.24 Q1471.97 1564.07 1475.06 1564.07 Q1479.2 1564.07 1481.43 1562.66 Q1483.65 1561.23 1483.65 1558.65 Q1483.65 1556.27 1482.03 1554.99 Q1480.44 1553.72 1475 1552.54 L1472.96 1552.07 Q1467.52 1550.92 1465.1 1548.56 Q1462.68 1546.18 1462.68 1542.04 Q1462.68 1537.01 1466.24 1534.27 Q1469.81 1531.54 1476.37 1531.54 Q1479.61 1531.54 1482.48 1532.01 Q1485.34 1532.49 1487.76 1533.45 Z\" fill=\"#000000\" fill-rule=\"evenodd\" fill-opacity=\"1\" /><polyline clip-path=\"url(#clip102)\" style=\"stroke:#000000; stroke-linecap:round; stroke-linejoin:round; stroke-width:2; stroke-opacity:0.1; fill:none\" points=\"249.542,1224.83 2352.76,1224.83 \"/>\n",
       "<polyline clip-path=\"url(#clip102)\" style=\"stroke:#000000; stroke-linecap:round; stroke-linejoin:round; stroke-width:2; stroke-opacity:0.1; fill:none\" points=\"249.542,940.166 2352.76,940.166 \"/>\n",
       "<polyline clip-path=\"url(#clip102)\" style=\"stroke:#000000; stroke-linecap:round; stroke-linejoin:round; stroke-width:2; stroke-opacity:0.1; fill:none\" points=\"249.542,655.505 2352.76,655.505 \"/>\n",
       "<polyline clip-path=\"url(#clip102)\" style=\"stroke:#000000; stroke-linecap:round; stroke-linejoin:round; stroke-width:2; stroke-opacity:0.1; fill:none\" points=\"249.542,370.844 2352.76,370.844 \"/>\n",
       "<polyline clip-path=\"url(#clip102)\" style=\"stroke:#000000; stroke-linecap:round; stroke-linejoin:round; stroke-width:2; stroke-opacity:0.1; fill:none\" points=\"249.542,86.183 2352.76,86.183 \"/>\n",
       "<polyline clip-path=\"url(#clip100)\" style=\"stroke:#000000; stroke-linecap:round; stroke-linejoin:round; stroke-width:4; stroke-opacity:1; fill:none\" points=\"249.542,1423.18 249.542,47.2441 \"/>\n",
       "<polyline clip-path=\"url(#clip100)\" style=\"stroke:#000000; stroke-linecap:round; stroke-linejoin:round; stroke-width:4; stroke-opacity:1; fill:none\" points=\"249.542,1224.83 268.44,1224.83 \"/>\n",
       "<polyline clip-path=\"url(#clip100)\" style=\"stroke:#000000; stroke-linecap:round; stroke-linejoin:round; stroke-width:4; stroke-opacity:1; fill:none\" points=\"249.542,940.166 268.44,940.166 \"/>\n",
       "<polyline clip-path=\"url(#clip100)\" style=\"stroke:#000000; stroke-linecap:round; stroke-linejoin:round; stroke-width:4; stroke-opacity:1; fill:none\" points=\"249.542,655.505 268.44,655.505 \"/>\n",
       "<polyline clip-path=\"url(#clip100)\" style=\"stroke:#000000; stroke-linecap:round; stroke-linejoin:round; stroke-width:4; stroke-opacity:1; fill:none\" points=\"249.542,370.844 268.44,370.844 \"/>\n",
       "<polyline clip-path=\"url(#clip100)\" style=\"stroke:#000000; stroke-linecap:round; stroke-linejoin:round; stroke-width:4; stroke-opacity:1; fill:none\" points=\"249.542,86.183 268.44,86.183 \"/>\n",
       "<path clip-path=\"url(#clip100)\" d=\"M127.2 1210.63 Q123.589 1210.63 121.76 1214.19 Q119.955 1217.73 119.955 1224.86 Q119.955 1231.97 121.76 1235.53 Q123.589 1239.07 127.2 1239.07 Q130.834 1239.07 132.64 1235.53 Q134.468 1231.97 134.468 1224.86 Q134.468 1217.73 132.64 1214.19 Q130.834 1210.63 127.2 1210.63 M127.2 1206.92 Q133.01 1206.92 136.066 1211.53 Q139.144 1216.11 139.144 1224.86 Q139.144 1233.59 136.066 1238.2 Q133.01 1242.78 127.2 1242.78 Q121.39 1242.78 118.311 1238.2 Q115.256 1233.59 115.256 1224.86 Q115.256 1216.11 118.311 1211.53 Q121.39 1206.92 127.2 1206.92 Z\" fill=\"#000000\" fill-rule=\"evenodd\" fill-opacity=\"1\" /><path clip-path=\"url(#clip100)\" d=\"M147.362 1236.23 L152.246 1236.23 L152.246 1242.11 L147.362 1242.11 L147.362 1236.23 Z\" fill=\"#000000\" fill-rule=\"evenodd\" fill-opacity=\"1\" /><path clip-path=\"url(#clip100)\" d=\"M172.431 1210.63 Q168.82 1210.63 166.991 1214.19 Q165.186 1217.73 165.186 1224.86 Q165.186 1231.97 166.991 1235.53 Q168.82 1239.07 172.431 1239.07 Q176.065 1239.07 177.871 1235.53 Q179.7 1231.97 179.7 1224.86 Q179.7 1217.73 177.871 1214.19 Q176.065 1210.63 172.431 1210.63 M172.431 1206.92 Q178.241 1206.92 181.297 1211.53 Q184.376 1216.11 184.376 1224.86 Q184.376 1233.59 181.297 1238.2 Q178.241 1242.78 172.431 1242.78 Q166.621 1242.78 163.542 1238.2 Q160.487 1233.59 160.487 1224.86 Q160.487 1216.11 163.542 1211.53 Q166.621 1206.92 172.431 1206.92 Z\" fill=\"#000000\" fill-rule=\"evenodd\" fill-opacity=\"1\" /><path clip-path=\"url(#clip100)\" d=\"M192.639 1207.55 L210.996 1207.55 L210.996 1211.48 L196.922 1211.48 L196.922 1219.95 Q197.94 1219.61 198.959 1219.45 Q199.977 1219.26 200.996 1219.26 Q206.783 1219.26 210.162 1222.43 Q213.542 1225.6 213.542 1231.02 Q213.542 1236.6 210.07 1239.7 Q206.598 1242.78 200.278 1242.78 Q198.102 1242.78 195.834 1242.41 Q193.588 1242.04 191.181 1241.3 L191.181 1236.6 Q193.264 1237.73 195.487 1238.29 Q197.709 1238.84 200.186 1238.84 Q204.19 1238.84 206.528 1236.74 Q208.866 1234.63 208.866 1231.02 Q208.866 1227.41 206.528 1225.3 Q204.19 1223.2 200.186 1223.2 Q198.311 1223.2 196.436 1223.61 Q194.584 1224.03 192.639 1224.91 L192.639 1207.55 Z\" fill=\"#000000\" fill-rule=\"evenodd\" fill-opacity=\"1\" /><path clip-path=\"url(#clip100)\" d=\"M126.205 925.965 Q122.593 925.965 120.765 929.53 Q118.959 933.071 118.959 940.201 Q118.959 947.307 120.765 950.872 Q122.593 954.414 126.205 954.414 Q129.839 954.414 131.644 950.872 Q133.473 947.307 133.473 940.201 Q133.473 933.071 131.644 929.53 Q129.839 925.965 126.205 925.965 M126.205 922.261 Q132.015 922.261 135.07 926.868 Q138.149 931.451 138.149 940.201 Q138.149 948.928 135.07 953.534 Q132.015 958.117 126.205 958.117 Q120.394 958.117 117.316 953.534 Q114.26 948.928 114.26 940.201 Q114.26 931.451 117.316 926.868 Q120.394 922.261 126.205 922.261 Z\" fill=\"#000000\" fill-rule=\"evenodd\" fill-opacity=\"1\" /><path clip-path=\"url(#clip100)\" d=\"M146.366 951.566 L151.251 951.566 L151.251 957.446 L146.366 957.446 L146.366 951.566 Z\" fill=\"#000000\" fill-rule=\"evenodd\" fill-opacity=\"1\" /><path clip-path=\"url(#clip100)\" d=\"M162.246 953.511 L169.885 953.511 L169.885 927.145 L161.575 928.812 L161.575 924.553 L169.839 922.886 L174.514 922.886 L174.514 953.511 L182.153 953.511 L182.153 957.446 L162.246 957.446 L162.246 953.511 Z\" fill=\"#000000\" fill-rule=\"evenodd\" fill-opacity=\"1\" /><path clip-path=\"url(#clip100)\" d=\"M201.598 925.965 Q197.987 925.965 196.158 929.53 Q194.352 933.071 194.352 940.201 Q194.352 947.307 196.158 950.872 Q197.987 954.414 201.598 954.414 Q205.232 954.414 207.037 950.872 Q208.866 947.307 208.866 940.201 Q208.866 933.071 207.037 929.53 Q205.232 925.965 201.598 925.965 M201.598 922.261 Q207.408 922.261 210.463 926.868 Q213.542 931.451 213.542 940.201 Q213.542 948.928 210.463 953.534 Q207.408 958.117 201.598 958.117 Q195.787 958.117 192.709 953.534 Q189.653 948.928 189.653 940.201 Q189.653 931.451 192.709 926.868 Q195.787 922.261 201.598 922.261 Z\" fill=\"#000000\" fill-rule=\"evenodd\" fill-opacity=\"1\" /><path clip-path=\"url(#clip100)\" d=\"M127.2 641.304 Q123.589 641.304 121.76 644.869 Q119.955 648.41 119.955 655.54 Q119.955 662.646 121.76 666.211 Q123.589 669.753 127.2 669.753 Q130.834 669.753 132.64 666.211 Q134.468 662.646 134.468 655.54 Q134.468 648.41 132.64 644.869 Q130.834 641.304 127.2 641.304 M127.2 637.6 Q133.01 637.6 136.066 642.207 Q139.144 646.79 139.144 655.54 Q139.144 664.267 136.066 668.873 Q133.01 673.456 127.2 673.456 Q121.39 673.456 118.311 668.873 Q115.256 664.267 115.256 655.54 Q115.256 646.79 118.311 642.207 Q121.39 637.6 127.2 637.6 Z\" fill=\"#000000\" fill-rule=\"evenodd\" fill-opacity=\"1\" /><path clip-path=\"url(#clip100)\" d=\"M147.362 666.905 L152.246 666.905 L152.246 672.785 L147.362 672.785 L147.362 666.905 Z\" fill=\"#000000\" fill-rule=\"evenodd\" fill-opacity=\"1\" /><path clip-path=\"url(#clip100)\" d=\"M163.241 668.85 L170.88 668.85 L170.88 642.484 L162.57 644.151 L162.57 639.892 L170.834 638.225 L175.51 638.225 L175.51 668.85 L183.149 668.85 L183.149 672.785 L163.241 672.785 L163.241 668.85 Z\" fill=\"#000000\" fill-rule=\"evenodd\" fill-opacity=\"1\" /><path clip-path=\"url(#clip100)\" d=\"M192.639 638.225 L210.996 638.225 L210.996 642.16 L196.922 642.16 L196.922 650.632 Q197.94 650.285 198.959 650.123 Q199.977 649.938 200.996 649.938 Q206.783 649.938 210.162 653.109 Q213.542 656.281 213.542 661.697 Q213.542 667.276 210.07 670.378 Q206.598 673.456 200.278 673.456 Q198.102 673.456 195.834 673.086 Q193.588 672.716 191.181 671.975 L191.181 667.276 Q193.264 668.41 195.487 668.966 Q197.709 669.521 200.186 669.521 Q204.19 669.521 206.528 667.415 Q208.866 665.308 208.866 661.697 Q208.866 658.086 206.528 655.98 Q204.19 653.873 200.186 653.873 Q198.311 653.873 196.436 654.29 Q194.584 654.706 192.639 655.586 L192.639 638.225 Z\" fill=\"#000000\" fill-rule=\"evenodd\" fill-opacity=\"1\" /><path clip-path=\"url(#clip100)\" d=\"M126.205 356.643 Q122.593 356.643 120.765 360.207 Q118.959 363.749 118.959 370.879 Q118.959 377.985 120.765 381.55 Q122.593 385.092 126.205 385.092 Q129.839 385.092 131.644 381.55 Q133.473 377.985 133.473 370.879 Q133.473 363.749 131.644 360.207 Q129.839 356.643 126.205 356.643 M126.205 352.939 Q132.015 352.939 135.07 357.545 Q138.149 362.129 138.149 370.879 Q138.149 379.606 135.07 384.212 Q132.015 388.795 126.205 388.795 Q120.394 388.795 117.316 384.212 Q114.26 379.606 114.26 370.879 Q114.26 362.129 117.316 357.545 Q120.394 352.939 126.205 352.939 Z\" fill=\"#000000\" fill-rule=\"evenodd\" fill-opacity=\"1\" /><path clip-path=\"url(#clip100)\" d=\"M146.366 382.244 L151.251 382.244 L151.251 388.124 L146.366 388.124 L146.366 382.244 Z\" fill=\"#000000\" fill-rule=\"evenodd\" fill-opacity=\"1\" /><path clip-path=\"url(#clip100)\" d=\"M165.464 384.189 L181.783 384.189 L181.783 388.124 L159.839 388.124 L159.839 384.189 Q162.501 381.434 167.084 376.805 Q171.69 372.152 172.871 370.809 Q175.116 368.286 175.996 366.55 Q176.899 364.791 176.899 363.101 Q176.899 360.346 174.954 358.61 Q173.033 356.874 169.931 356.874 Q167.732 356.874 165.278 357.638 Q162.848 358.402 160.07 359.953 L160.07 355.231 Q162.894 354.096 165.348 353.518 Q167.802 352.939 169.839 352.939 Q175.209 352.939 178.403 355.624 Q181.598 358.309 181.598 362.8 Q181.598 364.93 180.788 366.851 Q180.001 368.749 177.894 371.342 Q177.315 372.013 174.214 375.231 Q171.112 378.425 165.464 384.189 Z\" fill=\"#000000\" fill-rule=\"evenodd\" fill-opacity=\"1\" /><path clip-path=\"url(#clip100)\" d=\"M201.598 356.643 Q197.987 356.643 196.158 360.207 Q194.352 363.749 194.352 370.879 Q194.352 377.985 196.158 381.55 Q197.987 385.092 201.598 385.092 Q205.232 385.092 207.037 381.55 Q208.866 377.985 208.866 370.879 Q208.866 363.749 207.037 360.207 Q205.232 356.643 201.598 356.643 M201.598 352.939 Q207.408 352.939 210.463 357.545 Q213.542 362.129 213.542 370.879 Q213.542 379.606 210.463 384.212 Q207.408 388.795 201.598 388.795 Q195.787 388.795 192.709 384.212 Q189.653 379.606 189.653 370.879 Q189.653 362.129 192.709 357.545 Q195.787 352.939 201.598 352.939 Z\" fill=\"#000000\" fill-rule=\"evenodd\" fill-opacity=\"1\" /><path clip-path=\"url(#clip100)\" d=\"M127.2 71.9816 Q123.589 71.9816 121.76 75.5464 Q119.955 79.0881 119.955 86.2177 Q119.955 93.3241 121.76 96.8889 Q123.589 100.431 127.2 100.431 Q130.834 100.431 132.64 96.8889 Q134.468 93.3241 134.468 86.2177 Q134.468 79.0881 132.64 75.5464 Q130.834 71.9816 127.2 71.9816 M127.2 68.278 Q133.01 68.278 136.066 72.8844 Q139.144 77.4677 139.144 86.2177 Q139.144 94.9445 136.066 99.5509 Q133.01 104.134 127.2 104.134 Q121.39 104.134 118.311 99.5509 Q115.256 94.9445 115.256 86.2177 Q115.256 77.4677 118.311 72.8844 Q121.39 68.278 127.2 68.278 Z\" fill=\"#000000\" fill-rule=\"evenodd\" fill-opacity=\"1\" /><path clip-path=\"url(#clip100)\" d=\"M147.362 97.5834 L152.246 97.5834 L152.246 103.463 L147.362 103.463 L147.362 97.5834 Z\" fill=\"#000000\" fill-rule=\"evenodd\" fill-opacity=\"1\" /><path clip-path=\"url(#clip100)\" d=\"M166.459 99.5278 L182.778 99.5278 L182.778 103.463 L160.834 103.463 L160.834 99.5278 Q163.496 96.7732 168.079 92.1436 Q172.686 87.4908 173.866 86.1482 Q176.112 83.6251 176.991 81.889 Q177.894 80.1297 177.894 78.4399 Q177.894 75.6853 175.95 73.9492 Q174.028 72.2131 170.927 72.2131 Q168.727 72.2131 166.274 72.977 Q163.843 73.7409 161.065 75.2918 L161.065 70.5696 Q163.89 69.4354 166.343 68.8567 Q168.797 68.278 170.834 68.278 Q176.204 68.278 179.399 70.9631 Q182.593 73.6483 182.593 78.139 Q182.593 80.2686 181.783 82.1899 Q180.996 84.0881 178.889 86.6806 Q178.311 87.3519 175.209 90.5695 Q172.107 93.7639 166.459 99.5278 Z\" fill=\"#000000\" fill-rule=\"evenodd\" fill-opacity=\"1\" /><path clip-path=\"url(#clip100)\" d=\"M192.639 68.903 L210.996 68.903 L210.996 72.8381 L196.922 72.8381 L196.922 81.3103 Q197.94 80.9631 198.959 80.801 Q199.977 80.6159 200.996 80.6159 Q206.783 80.6159 210.162 83.7871 Q213.542 86.9584 213.542 92.3751 Q213.542 97.9537 210.07 101.056 Q206.598 104.134 200.278 104.134 Q198.102 104.134 195.834 103.764 Q193.588 103.394 191.181 102.653 L191.181 97.9537 Q193.264 99.088 195.487 99.6435 Q197.709 100.199 200.186 100.199 Q204.19 100.199 206.528 98.0926 Q208.866 95.9861 208.866 92.3751 Q208.866 88.764 206.528 86.6575 Q204.19 84.551 200.186 84.551 Q198.311 84.551 196.436 84.9677 Q194.584 85.3844 192.639 86.264 L192.639 68.903 Z\" fill=\"#000000\" fill-rule=\"evenodd\" fill-opacity=\"1\" /><path clip-path=\"url(#clip100)\" d=\"M29.4065 898.413 L34.9447 898.413 Q33.6716 900.895 33.035 903.569 Q32.3984 906.243 32.3984 909.107 Q32.3984 913.468 33.7352 915.664 Q35.072 917.828 37.7456 917.828 Q39.7826 917.828 40.9603 916.269 Q42.1061 914.709 43.1565 909.998 L43.6021 907.993 Q44.9389 901.755 47.3897 899.145 Q49.8086 896.503 54.1691 896.503 Q59.1344 896.503 62.0308 900.45 Q64.9272 904.365 64.9272 911.24 Q64.9272 914.104 64.3543 917.223 Q63.8132 920.311 62.6992 923.748 L56.6518 923.748 Q58.3387 920.502 59.198 917.351 Q60.0256 914.2 60.0256 911.112 Q60.0256 906.975 58.6251 904.747 Q57.1929 902.519 54.6147 902.519 Q52.2276 902.519 50.9545 904.142 Q49.6813 905.733 48.5037 911.176 L48.0262 913.213 Q46.8804 918.656 44.5251 921.075 Q42.138 923.494 38.0002 923.494 Q32.9713 923.494 30.2341 919.929 Q27.4968 916.364 27.4968 909.807 Q27.4968 906.561 27.9743 903.696 Q28.4517 900.832 29.4065 898.413 Z\" fill=\"#000000\" fill-rule=\"evenodd\" fill-opacity=\"1\" /><path clip-path=\"url(#clip100)\" d=\"M32.4621 873.364 Q32.4621 878.074 36.1542 880.812 Q39.8145 883.549 46.212 883.549 Q52.6095 883.549 56.3017 880.843 Q59.9619 878.106 59.9619 873.364 Q59.9619 868.685 56.2698 865.948 Q52.5777 863.21 46.212 863.21 Q39.8781 863.21 36.186 865.948 Q32.4621 868.685 32.4621 873.364 M27.4968 873.364 Q27.4968 865.725 32.4621 861.364 Q37.4273 857.004 46.212 857.004 Q54.9649 857.004 59.9619 861.364 Q64.9272 865.725 64.9272 873.364 Q64.9272 881.034 59.9619 885.395 Q54.9649 889.724 46.212 889.724 Q37.4273 889.724 32.4621 885.395 Q27.4968 881.034 27.4968 873.364 Z\" fill=\"#000000\" fill-rule=\"evenodd\" fill-opacity=\"1\" /><path clip-path=\"url(#clip100)\" d=\"M14.479 847.296 L14.479 841.44 L64.0042 841.44 L64.0042 847.296 L14.479 847.296 Z\" fill=\"#000000\" fill-rule=\"evenodd\" fill-opacity=\"1\" /><path clip-path=\"url(#clip100)\" d=\"M55.9197 828.358 L55.9197 821.642 L64.0042 821.642 L64.0042 828.358 L55.9197 828.358 Z\" fill=\"#000000\" fill-rule=\"evenodd\" fill-opacity=\"1\" /><path clip-path=\"url(#clip100)\" d=\"M18.2347 781.952 L28.3562 781.952 L28.3562 769.889 L32.9077 769.889 L32.9077 781.952 L52.2594 781.952 Q56.6199 781.952 57.8613 780.775 Q59.1026 779.565 59.1026 775.905 L59.1026 769.889 L64.0042 769.889 L64.0042 775.905 Q64.0042 782.684 61.4897 785.262 Q58.9434 787.84 52.2594 787.84 L32.9077 787.84 L32.9077 792.137 L28.3562 792.137 L28.3562 787.84 L18.2347 787.84 L18.2347 781.952 Z\" fill=\"#000000\" fill-rule=\"evenodd\" fill-opacity=\"1\" /><path clip-path=\"url(#clip100)\" d=\"M28.3562 762.187 L28.3562 756.33 L64.0042 756.33 L64.0042 762.187 L28.3562 762.187 M14.479 762.187 L14.479 756.33 L21.895 756.33 L21.895 762.187 L14.479 762.187 Z\" fill=\"#000000\" fill-rule=\"evenodd\" fill-opacity=\"1\" /><path clip-path=\"url(#clip100)\" d=\"M35.1993 716.322 Q31.2526 714.126 29.3747 711.07 Q27.4968 708.014 27.4968 703.877 Q27.4968 698.307 31.4117 695.283 Q35.2948 692.259 42.4881 692.259 L64.0042 692.259 L64.0042 698.148 L42.679 698.148 Q37.5546 698.148 35.072 699.962 Q32.5894 701.776 32.5894 705.5 Q32.5894 710.052 35.6131 712.693 Q38.6368 715.335 43.8567 715.335 L64.0042 715.335 L64.0042 721.223 L42.679 721.223 Q37.5228 721.223 35.072 723.038 Q32.5894 724.852 32.5894 728.639 Q32.5894 733.127 35.6449 735.769 Q38.6686 738.411 43.8567 738.411 L64.0042 738.411 L64.0042 744.299 L28.3562 744.299 L28.3562 738.411 L33.8944 738.411 Q30.616 736.406 29.0564 733.605 Q27.4968 730.804 27.4968 726.952 Q27.4968 723.069 29.4702 720.364 Q31.4436 717.627 35.1993 716.322 Z\" fill=\"#000000\" fill-rule=\"evenodd\" fill-opacity=\"1\" /><path clip-path=\"url(#clip100)\" d=\"M44.7161 650.087 L47.5806 650.087 L47.5806 677.013 Q53.6281 676.632 56.8109 673.385 Q59.9619 670.107 59.9619 664.282 Q59.9619 660.908 59.1344 657.757 Q58.3069 654.574 56.6518 651.455 L62.1899 651.455 Q63.5267 654.606 64.227 657.916 Q64.9272 661.227 64.9272 664.632 Q64.9272 673.162 59.9619 678.159 Q54.9967 683.125 46.5303 683.125 Q37.7774 683.125 32.6531 678.414 Q27.4968 673.671 27.4968 665.651 Q27.4968 658.457 32.1438 654.288 Q36.7589 650.087 44.7161 650.087 M42.9973 655.943 Q38.1912 656.007 35.3266 658.648 Q32.4621 661.258 32.4621 665.587 Q32.4621 670.489 35.2312 673.449 Q38.0002 676.377 43.0292 676.823 L42.9973 655.943 Z\" fill=\"#000000\" fill-rule=\"evenodd\" fill-opacity=\"1\" /><path clip-path=\"url(#clip100)\" d=\"M14.479 620.295 L14.479 606.8 L19.0304 606.8 L19.0304 614.439 L68.0464 614.439 L68.0464 606.8 L72.5979 606.8 L72.5979 620.295 L14.479 620.295 Z\" fill=\"#000000\" fill-rule=\"evenodd\" fill-opacity=\"1\" /><path clip-path=\"url(#clip100)\" d=\"M29.4065 571.597 L34.9447 571.597 Q33.6716 574.08 33.035 576.754 Q32.3984 579.427 32.3984 582.292 Q32.3984 586.652 33.7352 588.848 Q35.072 591.013 37.7456 591.013 Q39.7826 591.013 40.9603 589.453 Q42.1061 587.894 43.1565 583.183 L43.6021 581.178 Q44.9389 574.939 47.3897 572.329 Q49.8086 569.688 54.1691 569.688 Q59.1344 569.688 62.0308 573.634 Q64.9272 577.549 64.9272 584.424 Q64.9272 587.289 64.3543 590.408 Q63.8132 593.495 62.6992 596.933 L56.6518 596.933 Q58.3387 593.686 59.198 590.535 Q60.0256 587.384 60.0256 584.297 Q60.0256 580.159 58.6251 577.931 Q57.1929 575.703 54.6147 575.703 Q52.2276 575.703 50.9545 577.327 Q49.6813 578.918 48.5037 584.361 L48.0262 586.398 Q46.8804 591.84 44.5251 594.259 Q42.138 596.678 38.0002 596.678 Q32.9713 596.678 30.2341 593.113 Q27.4968 589.549 27.4968 582.992 Q27.4968 579.745 27.9743 576.881 Q28.4517 574.016 29.4065 571.597 Z\" fill=\"#000000\" fill-rule=\"evenodd\" fill-opacity=\"1\" /><path clip-path=\"url(#clip100)\" d=\"M14.479 546.676 L72.5979 546.676 L72.5979 560.171 L68.0464 560.171 L68.0464 552.564 L19.0304 552.564 L19.0304 560.171 L14.479 560.171 L14.479 546.676 Z\" fill=\"#000000\" fill-rule=\"evenodd\" fill-opacity=\"1\" /><circle clip-path=\"url(#clip102)\" cx=\"309.067\" cy=\"1384.24\" r=\"14.4\" fill=\"#008000\" fill-rule=\"evenodd\" fill-opacity=\"1\" stroke=\"#000000\" stroke-opacity=\"1\" stroke-width=\"3.2\"/>\n",
       "<path clip-path=\"url(#clip102)\" d=\"M293.067 1282.84 L293.067 1314.84 L325.067 1314.84 L325.067 1282.84 L293.067 1282.84 Z\" fill=\"#ff0000\" fill-rule=\"evenodd\" fill-opacity=\"1\" stroke=\"#000000\" stroke-opacity=\"1\" stroke-width=\"3.2\"/>\n",
       "<circle clip-path=\"url(#clip102)\" cx=\"529.53\" cy=\"1361.46\" r=\"14.4\" fill=\"#008000\" fill-rule=\"evenodd\" fill-opacity=\"1\" stroke=\"#000000\" stroke-opacity=\"1\" stroke-width=\"3.2\"/>\n",
       "<path clip-path=\"url(#clip102)\" d=\"M513.53 1168.98 L513.53 1200.98 L545.53 1200.98 L545.53 1168.98 L513.53 1168.98 Z\" fill=\"#ff0000\" fill-rule=\"evenodd\" fill-opacity=\"1\" stroke=\"#000000\" stroke-opacity=\"1\" stroke-width=\"3.2\"/>\n",
       "<circle clip-path=\"url(#clip102)\" cx=\"749.992\" cy=\"1315.92\" r=\"14.4\" fill=\"#008000\" fill-rule=\"evenodd\" fill-opacity=\"1\" stroke=\"#000000\" stroke-opacity=\"1\" stroke-width=\"3.2\"/>\n",
       "<path clip-path=\"url(#clip102)\" d=\"M733.992 986.79 L733.992 1018.79 L765.992 1018.79 L765.992 986.79 L733.992 986.79 Z\" fill=\"#ff0000\" fill-rule=\"evenodd\" fill-opacity=\"1\" stroke=\"#000000\" stroke-opacity=\"1\" stroke-width=\"3.2\"/>\n",
       "<circle clip-path=\"url(#clip102)\" cx=\"970.455\" cy=\"1276.07\" r=\"14.4\" fill=\"#008000\" fill-rule=\"evenodd\" fill-opacity=\"1\" stroke=\"#000000\" stroke-opacity=\"1\" stroke-width=\"3.2\"/>\n",
       "<path clip-path=\"url(#clip102)\" d=\"M954.455 878.62 L954.455 910.62 L986.455 910.62 L986.455 878.62 L954.455 878.62 Z\" fill=\"#ff0000\" fill-rule=\"evenodd\" fill-opacity=\"1\" stroke=\"#000000\" stroke-opacity=\"1\" stroke-width=\"3.2\"/>\n",
       "<circle clip-path=\"url(#clip102)\" cx=\"1190.92\" cy=\"1202.05\" r=\"14.4\" fill=\"#008000\" fill-rule=\"evenodd\" fill-opacity=\"1\" stroke=\"#000000\" stroke-opacity=\"1\" stroke-width=\"3.2\"/>\n",
       "<path clip-path=\"url(#clip102)\" d=\"M1174.92 730.596 L1174.92 762.596 L1206.92 762.596 L1206.92 730.596 L1174.92 730.596 Z\" fill=\"#ff0000\" fill-rule=\"evenodd\" fill-opacity=\"1\" stroke=\"#000000\" stroke-opacity=\"1\" stroke-width=\"3.2\"/>\n",
       "<circle clip-path=\"url(#clip102)\" cx=\"1411.38\" cy=\"1179.28\" r=\"14.4\" fill=\"#008000\" fill-rule=\"evenodd\" fill-opacity=\"1\" stroke=\"#000000\" stroke-opacity=\"1\" stroke-width=\"3.2\"/>\n",
       "<path clip-path=\"url(#clip102)\" d=\"M1395.38 582.572 L1395.38 614.572 L1427.38 614.572 L1427.38 582.572 L1395.38 582.572 Z\" fill=\"#ff0000\" fill-rule=\"evenodd\" fill-opacity=\"1\" stroke=\"#000000\" stroke-opacity=\"1\" stroke-width=\"3.2\"/>\n",
       "<circle clip-path=\"url(#clip102)\" cx=\"1631.84\" cy=\"1133.74\" r=\"14.4\" fill=\"#008000\" fill-rule=\"evenodd\" fill-opacity=\"1\" stroke=\"#000000\" stroke-opacity=\"1\" stroke-width=\"3.2\"/>\n",
       "<path clip-path=\"url(#clip102)\" d=\"M1615.84 451.626 L1615.84 483.626 L1647.84 483.626 L1647.84 451.626 L1615.84 451.626 Z\" fill=\"#ff0000\" fill-rule=\"evenodd\" fill-opacity=\"1\" stroke=\"#000000\" stroke-opacity=\"1\" stroke-width=\"3.2\"/>\n",
       "<circle clip-path=\"url(#clip102)\" cx=\"1852.31\" cy=\"1110.96\" r=\"14.4\" fill=\"#008000\" fill-rule=\"evenodd\" fill-opacity=\"1\" stroke=\"#000000\" stroke-opacity=\"1\" stroke-width=\"3.2\"/>\n",
       "<path clip-path=\"url(#clip102)\" d=\"M1836.31 337.764 L1836.31 369.764 L1868.31 369.764 L1868.31 337.764 L1836.31 337.764 Z\" fill=\"#ff0000\" fill-rule=\"evenodd\" fill-opacity=\"1\" stroke=\"#000000\" stroke-opacity=\"1\" stroke-width=\"3.2\"/>\n",
       "<circle clip-path=\"url(#clip102)\" cx=\"2072.77\" cy=\"1065.42\" r=\"14.4\" fill=\"#008000\" fill-rule=\"evenodd\" fill-opacity=\"1\" stroke=\"#000000\" stroke-opacity=\"1\" stroke-width=\"3.2\"/>\n",
       "<path clip-path=\"url(#clip102)\" d=\"M2056.77 161.276 L2056.77 193.276 L2088.77 193.276 L2088.77 161.276 L2056.77 161.276 Z\" fill=\"#ff0000\" fill-rule=\"evenodd\" fill-opacity=\"1\" stroke=\"#000000\" stroke-opacity=\"1\" stroke-width=\"3.2\"/>\n",
       "<circle clip-path=\"url(#clip102)\" cx=\"2293.23\" cy=\"1042.64\" r=\"14.4\" fill=\"#008000\" fill-rule=\"evenodd\" fill-opacity=\"1\" stroke=\"#000000\" stroke-opacity=\"1\" stroke-width=\"3.2\"/>\n",
       "<path clip-path=\"url(#clip102)\" d=\"M2277.23 70.1857 L2277.23 102.186 L2309.23 102.186 L2309.23 70.1857 L2277.23 70.1857 Z\" fill=\"#ff0000\" fill-rule=\"evenodd\" fill-opacity=\"1\" stroke=\"#000000\" stroke-opacity=\"1\" stroke-width=\"3.2\"/>\n",
       "</svg>\n"
      ]
     },
     "metadata": {},
     "output_type": "display_data"
    }
   ],
   "source": [
    "display(p1)\n",
    "#display(p2)"
   ]
  },
  {
   "cell_type": "code",
   "execution_count": 18,
   "id": "0612604e",
   "metadata": {},
   "outputs": [
    {
     "ename": "LoadError",
     "evalue": "UndefVarError: p2 not defined",
     "output_type": "error",
     "traceback": [
      "UndefVarError: p2 not defined",
      "",
      "Stacktrace:",
      " [1] top-level scope",
      "   @ In[18]:1"
     ]
    }
   ],
   "source": [
    "#display(p2)"
   ]
  },
  {
   "cell_type": "code",
   "execution_count": null,
   "id": "5916ca79",
   "metadata": {},
   "outputs": [],
   "source": []
  },
  {
   "cell_type": "code",
   "execution_count": null,
   "id": "5e3db1a7",
   "metadata": {},
   "outputs": [],
   "source": []
  }
 ],
 "metadata": {
  "kernelspec": {
   "display_name": "Julia 1.8.5",
   "language": "julia",
   "name": "julia-1.8"
  },
  "language_info": {
   "file_extension": ".jl",
   "mimetype": "application/julia",
   "name": "julia",
   "version": "1.8.5"
  }
 },
 "nbformat": 4,
 "nbformat_minor": 5
}
