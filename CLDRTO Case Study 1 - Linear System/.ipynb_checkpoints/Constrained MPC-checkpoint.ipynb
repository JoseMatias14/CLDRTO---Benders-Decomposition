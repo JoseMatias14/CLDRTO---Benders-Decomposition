{
 "cells": [
  {
   "cell_type": "code",
   "execution_count": 1,
   "id": "71c7fd3d",
   "metadata": {},
   "outputs": [],
   "source": [
    "using LinearAlgebra, JuMP, CPLEX, Ipopt, Plots, PATHSolver, Complementarity"
   ]
  },
  {
   "cell_type": "markdown",
   "id": "b2933767",
   "metadata": {},
   "source": [
    "# Computing State-space Model from transfer function\n",
    "\n",
    "$$ y(s) = \\dfrac{1}{125s^3 + 75s^2 + 15s + 1} \\ u(s) $$\n",
    "\n",
    "State-space representation from the transfer function above (from matlab):"
   ]
  },
  {
   "cell_type": "code",
   "execution_count": 2,
   "id": "cb37bc36",
   "metadata": {},
   "outputs": [],
   "source": [
    "A = [2.45619225923395 -2.01096013810692 0.548811636094027; \n",
    "    1 0 0;\n",
    "    0 1 0]\n",
    "B = [0.0625; 0; 0]\n",
    "C = [0.0183756999177941, 0.0633113580621751, 0.0136128264831647];"
   ]
  },
  {
   "cell_type": "markdown",
   "id": "08a9ede7",
   "metadata": {},
   "source": [
    "System configuration"
   ]
  },
  {
   "cell_type": "code",
   "execution_count": 3,
   "id": "44ad2dd6",
   "metadata": {},
   "outputs": [],
   "source": [
    "# Sampling time\n",
    "T = 1\n",
    "# Simulation time in sampling periods\n",
    "nsim = 75\n",
    "# Number of manipulated inputs\n",
    "nu = 1\n",
    "# Number of controlled outputs\n",
    "ny = 1\n",
    "# Number of states\n",
    "nx = 3;"
   ]
  },
  {
   "cell_type": "markdown",
   "id": "6ef01d7c",
   "metadata": {},
   "source": [
    "Controller configuration"
   ]
  },
  {
   "cell_type": "code",
   "execution_count": 4,
   "id": "6ab4d014",
   "metadata": {},
   "outputs": [],
   "source": [
    "# Output prediction horizon\n",
    "p = 30\n",
    "# Input control horizon \n",
    "m = 3\n",
    "# Output weights\n",
    "q = 1\n",
    "# Input weights aggressive = 1 | detuned = 20\n",
    "r = 1;"
   ]
  },
  {
   "cell_type": "markdown",
   "id": "128ecfc9",
   "metadata": {},
   "source": [
    "DRTO configuration"
   ]
  },
  {
   "cell_type": "code",
   "execution_count": 5,
   "id": "ce68b389",
   "metadata": {},
   "outputs": [],
   "source": [
    "# Prediction horizon\n",
    "pD = 50\n",
    "# Input control horizon \n",
    "mD = 20;"
   ]
  },
  {
   "cell_type": "markdown",
   "id": "6f80af19",
   "metadata": {},
   "source": [
    "Setting parameters for matrices for DRTO (Open and Closed-loop)"
   ]
  },
  {
   "cell_type": "code",
   "execution_count": 6,
   "id": "d9138b35",
   "metadata": {},
   "outputs": [],
   "source": [
    "# setting bounds \n",
    "ΔUMax = 0.3\n",
    "uMax = 1.2\n",
    "uMin = 0.0\n",
    "yMax = 1.5\n",
    "yMin = 0.0\n",
    "yspMax = 1.5\n",
    "yspMin = 0.0;"
   ]
  },
  {
   "cell_type": "markdown",
   "id": "6b276795",
   "metadata": {},
   "source": [
    "# Solving CL-DRTO Problem"
   ]
  },
  {
   "cell_type": "markdown",
   "id": "9b3a95d9",
   "metadata": {},
   "source": [
    "## Building matrices for MPC\n",
    "\n",
    "\n",
    "Given the following discrete state-space model:\n",
    "\n",
    "$ x(k+1) = A \\ x(k) + b \\ u(k) $ <br>\n",
    "$ y(k) = C \\ x(k)$ <br>\n",
    "\n",
    "Using the supperposition property of linear systems, we obtain the model outputs from instants $k+1$ to $k+j$ as:\n",
    "$ y(k + 1|k) = C \\ x(k + 1|k) = CA \\ x(k) + CB \\ u(k|k)$ <br>\n",
    "$ y(k + 2|k) = CA^2 \\ x(k) + CAB \\ u(k|k) + CB \\ u(k+1|k)$ <br>\n",
    "$ y(k + 3|k) = CA^3 \\ x(k) + CA^2B \\ u(k|k) + CAB \\ u(k+1|k) + CB \\ u(k+2|k)$ <br>\n",
    "$ ... $ <br>\n",
    "$ y(k + j|k) = CA^j \\ x(k) + CA^{j-1}B \\ u(k|k) + CA^{j-2}B \\ u(k+1|k) + \\cdots + CB \\ u(k + j -1|k)$ \n",
    "\n",
    "Suppose now that:<br>\n",
    "$ u(k + m|k) = u(k + m + 1|k) = \\cdots = u(k + p - 1|k)$\n",
    "\n",
    "The equations above (when $j > m$) can then be re-written as:\n",
    "$ y(k + m + 1|k) = CA^{m+1} \\ x(k) + CA^{m}B \\ u(k|k) + CA^{m-1}B \\ u(k+1|k) + \\cdots + [CAB + CB] \\ u(k + m -1|k)$ <br>\n",
    "$ y(k + m + 2|k) = CA^{m+2} \\ x(k) + CA^{m+1}B \\ u(k|k) + CA^{m}B \\ u(k+1|k) + \\cdots + [CA^2B + CAB + CB] \\ u(k + m -1|k)$ <br>\n",
    "$ ... $ <br>\n",
    "$ y(k + pk) = CA^{p} \\ x(k) + CA^{p-1}B \\ u(k|k) + CA^{p-2}B \\ u(k+1|k) + \\cdots + [CA^{p-m}B + CA^{p-m-1}B + \\cdots + CB] \\ u(k + m -1|k)$\n",
    "\n",
    "Thus, the vector of output predictions can be written as follows:\n",
    "\n",
    "$\n",
    "\\begin{vmatrix}\n",
    "y(k + 1|k)\\\\\n",
    "y(k + 2|k)\\\\\n",
    "\\vdots \\\\\n",
    "y(k + m|k) \\\\\n",
    "y(k + m + 1|k)\\\\ \n",
    "\\vdots \\\\\n",
    "y(k + p|k)\n",
    "\\end{vmatrix}\n",
    "= \n",
    "\\begin{vmatrix}\n",
    "CA\\\\\n",
    "CA^{2}\\\\\n",
    "\\vdots \\\\\n",
    "CA^{m} \\\\\n",
    "CA^{m+1}\\\\ \n",
    "\\vdots \\\\\n",
    "CA^{p}\n",
    "\\end{vmatrix} \\ x(k)\n",
    "+\n",
    "\\begin{vmatrix}\n",
    "CB        & 0         & \\cdots & 0\\\\\n",
    "CAB       & CB        & \\cdots & 0\\\\\n",
    "\\vdots    & \\vdots    & \\cdots & \\vdots\\\\\n",
    "CA^{m-1}B & CA^{m-2}B & \\cdots & CB\\\\\n",
    "CA^{m}B   & CA^{m-1}B & \\cdots & C\\tilde{A}_1B\\\\ \n",
    "\\vdots    & \\vdots    & \\cdots & \\vdots\\\\\n",
    "CA^{p-1}B & CA^{p-2}B & \\cdots & C\\tilde{A}_{p-m}B\n",
    "\\end{vmatrix} \n",
    "\\begin{vmatrix}\n",
    "u(k|k)\\\\\n",
    "u(k + 2|k)\\\\\n",
    "\\vdots \\\\\n",
    "u(k + m - 1|k) \n",
    "\\end{vmatrix}\n",
    "$\n",
    "\n",
    "where: <br>\n",
    "$\\tilde{A}_1 = A + I, \\quad \\tilde{A}_2 = A^2 + A + I, \\quad \\tilde{A}_{p-m} = A^{p-m} + A^{p-m-1} + \\cdots + I$\n",
    "\n",
    "Simpifying, we have: <br>\n",
    "$ \\bar{y}(k) = \\Psi \\ x(k) + \\Theta \\ u(k) $ "
   ]
  },
  {
   "cell_type": "code",
   "execution_count": 7,
   "id": "337b1fda",
   "metadata": {},
   "outputs": [],
   "source": [
    "Psi = C'*A\n",
    "for ii in 2:p\n",
    "    Psi = [Psi;  C'*A^ii]\n",
    "end\n",
    "\n",
    "# Computing Dynamic Matirx\n",
    "a = [C'*A^(ii - 1)*B for ii in 1:p];\n",
    "DynM = a\n",
    "\n",
    "for ii in 1:(m - 2)\n",
    "    a = [zeros(ny,nu);a[1:(p-1)*ny,:]]\n",
    "    DynM = [DynM  a]\n",
    "end\n",
    "\n",
    "# adjusting dynamic matrix for since p > m (last column)\n",
    "b = C'*B\n",
    "\n",
    "Ai = I(nx)\n",
    "for ii = 1:(p - m)\n",
    "    Ai = Ai + A^ii\n",
    "    b = [b;C'*Ai*B]\n",
    "end\n",
    "\n",
    "Theta=[DynM [zeros(ny*(m-1),nu);b]];"
   ]
  },
  {
   "cell_type": "markdown",
   "id": "4df6928d",
   "metadata": {},
   "source": [
    "The first term (output tracking) of the MPC objective function is: \n",
    "\n",
    "$ \\sum_{j=1}^p (y(k + j|k) - y^{SP})^T \\ Q \\ (y(k + j|k) - y^{SP}) $\n",
    "\n",
    "which can be written as:\n",
    "\n",
    "$ (\\Psi \\ x(k) + \\Theta \\ u(k) - \\bar{y}^{SP})^T \\ \\bar{Q} \\ (\\Psi \\ x(k) + \\Theta \\ u(k) - \\bar{y}^{SP}) $\n",
    "\n",
    "where: \n",
    "$ \\bar{Q} = diag\\bigg( Q, \\cdots, Q\\bigg)$ - $p$ repetitions of $Q$\n",
    "\n",
    "The second term (inputs movement penalization) of the MPC objective function is: \n",
    "\n",
    "$ \\sum_{j=1}^{m-1} \\Delta u(k + j|k)^T \\ R \\ \\Delta u(k + j|k) $\n",
    "\n",
    "We observe that:\n",
    "$\n",
    "\\begin{vmatrix}\n",
    "\\Delta u(k|k)\\\\\n",
    "\\Delta u(k + 1|k)\\\\\n",
    "\\vdots \\\\\n",
    "\\Delta u(k + m - 1|k) \n",
    "\\end{vmatrix}\n",
    "= \n",
    "\\begin{vmatrix}\n",
    "u(k|k) - u(k - 1)\\\\\n",
    "u(k + 1|k) - u(k|k)\\\\\n",
    "\\vdots \\\\\n",
    "u(k + m - 1|k) - u(k + m - 2|k)\n",
    "\\end{vmatrix}\n",
    "=\n",
    "u_k - Mu_k - \\bar{I} u(k - 1)\n",
    "= (I_{nu,m} - M)u_k - \\bar{I} u(k - 1)\n",
    "= I_M u_k - \\bar{I} u(k - 1)\n",
    "$\n",
    "\n",
    "in which:\n",
    "$\n",
    "M = \n",
    "\\begin{vmatrix}\n",
    "0_{nu} & 0_{nu} & \\cdots & 0_{nu} & 0_{nu}\\\\\n",
    "I_{nu} & 0_{nu} & \\cdots & 0_{nu} & 0_{nu}\\\\\n",
    "0_{nu} & I_{nu} & \\cdots & 0_{nu} & 0_{nu}\\\\\n",
    "\\vdots & \\vdots & \\cdots & \\vdots & \\vdots\\\\\n",
    "0_{nu} & 0_{nu} & \\cdots & I_{nu} & 0_{nu}\n",
    "\\end{vmatrix}, \\quad\n",
    "\\bar{I} = \n",
    "\\begin{vmatrix}\n",
    "I_{nu}\\\\\n",
    "0_{nu}\\\\\n",
    "0_{nu}\\\\\n",
    "\\vdots\\\\\n",
    "0_{nu}\n",
    "\\end{vmatrix}\n",
    "$\n",
    "\n",
    "the second term can be written as:\n",
    "\n",
    "$ (I_M u_k - \\bar{I} u(k - 1))^T \\ \\bar{R} \\ (I_M u_k - \\bar{I} u(k - 1)) $\n",
    "\n",
    "where: \n",
    "$ \\bar{R} = diag\\bigg( R, \\cdots, R\\bigg)$ - $m$ repetitions of $R$"
   ]
  },
  {
   "cell_type": "code",
   "execution_count": 8,
   "id": "5cb4b00d",
   "metadata": {},
   "outputs": [],
   "source": [
    "# Creating Qbar and Rbar matrices\n",
    "Qbar = Diagonal([q for ii in 1:p])\n",
    "Rbar = Diagonal([r for ii in 1:m])\n",
    "\n",
    "# Creating input movement OF penalty matrix \n",
    "M=[zeros((m-1)*nu,nu) I(nu*(m-1)); zeros(nu) zeros(nu,nu*(m-1))]\n",
    "Ibar=[I(nu); zeros(nu*(m-1),nu)]\n",
    "IM = I(nu*m) - M';"
   ]
  },
  {
   "cell_type": "markdown",
   "id": "959ee663",
   "metadata": {},
   "source": [
    "The objective function then can be reduced to a quadratic function of the form:\n",
    "$$ J_k = u_k^T \\ H \\ u_k + 2c_f^T \\ u_k + c $$\n",
    "\n",
    "where:\n",
    "\n",
    "$H = \\Theta^T \\ \\bar{Q} \\ \\Theta + I_M^T \\ \\bar{R} \\ I_M$ <br>\n",
    "$c_f^T = (\\Psi \\ x(k) + \\Theta \\ u(k) - \\bar{y}^{SP})^T \\ \\bar{Q} \\ \\Theta + u(k-1)^T\\bar{I}^T \\ \\bar{R} \\ I_M$ <br>\n",
    "$c = (\\Psi \\ x(k) + \\Theta \\ u(k) - \\bar{y}^{SP})^T \\ \\bar{Q} \\ (\\Psi \\ x(k) + \\Theta \\ u(k) - \\bar{y}^{SP}) + u(k-1)^T\\bar{I}^T \\ \\bar{R} \\ \\bar{I} \\ u(k-1)$"
   ]
  },
  {
   "cell_type": "code",
   "execution_count": 9,
   "id": "26a22990",
   "metadata": {},
   "outputs": [],
   "source": [
    "# Matrix H\n",
    "H = Theta'*Qbar*Theta+IM'*Rbar*IM;"
   ]
  },
  {
   "cell_type": "markdown",
   "id": "191d5453",
   "metadata": {},
   "source": [
    "## Testing constrained MPC solution\n",
    "Since we are considering constraints, the optimization problem reads as:\n",
    "\n",
    "$$ min_{u_k} J_k = u_k^T \\ H \\ u_k + 2c_f^T \\ u_k + c $$\n",
    "\n",
    "$$ s.t.: u_{min} \\leq u_k \\leq u_{max}  \\quad k = 1,\\ldots,m $$ \n",
    " \n",
    "considering m = 3, we can rewrite the constraints as:\n",
    "\n",
    "$ u_k - u_{max} \\leq 0 \\quad k = 1,2,3  $ <br>\n",
    "$ u_{min} - u_k \\leq 0 \\quad k = 1,2,3  $ <br>"
   ]
  },
  {
   "cell_type": "code",
   "execution_count": 10,
   "id": "1e1899aa",
   "metadata": {},
   "outputs": [
    {
     "data": {
      "text/plain": [
       "-0.9284891569145579"
      ]
     },
     "metadata": {},
     "output_type": "display_data"
    }
   ],
   "source": [
    "# assuming that ysp = 1 for the whole prediction horizon\n",
    "ysp0 = ones(30,1)\n",
    "\n",
    "# setting initial values\n",
    "\n",
    "y0 = C'*[0;0;0]\n",
    "x0 = [0.0 0.0668429 8.88317 0.0 0.0668429 8.88317;\n",
    " 0.0 0.015 8.71151 0.0 0.015 8.71151;\n",
    " 0.0 0.0 8.51842 0.0 0.0 8.51842];\n",
    "\n",
    "u0 = [0 0.3 0.5 0.8 1.0 1.1];\n",
    "\n",
    "cf_T = [(Psi*x0[:,ii] - ysp0)'*Qbar*Theta - u0[ii]'*Ibar'*Rbar*IM for ii = 1:6];\n",
    "display(cf_T[1][2])"
   ]
  },
  {
   "cell_type": "markdown",
   "id": "5f28a1ab",
   "metadata": {},
   "source": [
    "## Solving QP (using Ipopt)"
   ]
  },
  {
   "cell_type": "code",
   "execution_count": 11,
   "id": "2c895bdc",
   "metadata": {},
   "outputs": [
    {
     "name": "stdout",
     "output_type": "stream",
     "text": [
      "\n",
      "******************************************************************************\n",
      "This program contains Ipopt, a library for large-scale nonlinear optimization.\n",
      " Ipopt is released as open source code under the Eclipse Public License (EPL).\n",
      "         For more information visit https://github.com/coin-or/Ipopt\n",
      "******************************************************************************\n",
      "\n"
     ]
    }
   ],
   "source": [
    "MPC_con = Model(Ipopt.Optimizer)\n",
    "set_silent(MPC_con) # avoid printing\n",
    "\n",
    "# Set up variables\n",
    "# inputs computed by MPCs\n",
    "@variable(MPC_con, uTest[1:6,1:3])\n",
    "\n",
    "@constraint(MPC_con, MPC_u_upper[kk = 1:6,uu = 1:3], uTest[kk,uu] - uMax <= 0)\n",
    "@constraint(MPC_con, MPC_u_lower[kk = 1:6,uu = 1:3], uMin - uTest[kk,uu] <= 0)\n",
    "\n",
    "@objective(MPC_con, Min, sum(uTest[kk,:]'*H*uTest[kk,:] + 2*sum(cf_T[kk][jj]*uTest[kk,jj] for jj = 1:3) for kk = 1:6))\n",
    "\n",
    "JuMP.optimize!(MPC_con)\n",
    "\n",
    "u_con = value.(uTest);"
   ]
  },
  {
   "cell_type": "markdown",
   "id": "aedce089",
   "metadata": {},
   "source": [
    "## Solving problem via KKT"
   ]
  },
  {
   "cell_type": "markdown",
   "id": "9a77edf7",
   "metadata": {},
   "source": [
    "The Lagrangian of the problem above is: \n",
    "$$ L = u_k^T \\ H \\ u_k + 2c_f^T \\ u_k + c + \n",
    "\\begin{vmatrix}\n",
    "\\mu_{UB,1} \\ \\mu_{UB,2} \\ \\mu_{UB,3} \\ \\mu_{LB,1} \\ \\mu_{LB,2} \\ \\mu_{LB,3}\n",
    "\\end{vmatrix} \n",
    "\\begin{vmatrix}\n",
    "u_1 - u_{max} \\\\ u_2 - u_{max} \\\\ u_3 - u_{max} \\\\ u_{min} - u_1 \\\\ u_{min} - u_2 \\\\ u_{min} - u_3\n",
    "\\end{vmatrix}\n",
    "$$\n",
    "\n",
    "The KKT conditions can be written as\n",
    "\n",
    "- Stationarity of the Lagrangian <br>\n",
    "$ \\nabla_u L = \n",
    "\\begin{vmatrix}\n",
    "u_{1} & u_{2} & u_{3}\n",
    "\\end{vmatrix} \n",
    "\\ H + c_f^T +  \n",
    "\\begin{vmatrix}\n",
    "\\mu_{UB,1} & \\mu_{UB,2} & \\mu_{UB,3} & \\mu_{LB,1} & \\mu_{LB,2} & \\mu_{LB,3}\n",
    "\\end{vmatrix} \n",
    "\\begin{vmatrix}\n",
    "1 & 0 & 0 \\\\ 0 & 1 & 0 \\\\ 0 & 0 & 1 \\\\ -1 & 0 & 0 \\\\ 0 & -1 & 0 \\\\ 0 & 0 & -1\n",
    "\\end{vmatrix}\n",
    "$ <br>\n",
    "\n",
    "- Primal Feasibility <br>\n",
    "$\n",
    "\\begin{vmatrix}\n",
    "u_1 - u_{max} \\\\ u_2 - u_{max} \\\\ u_3 - u_{max} \\\\ u_{min} - u_1 \\\\ u_{min} - u_2 \\\\ u_{min} - u_3\n",
    "\\end{vmatrix}\n",
    "\\leq 0\n",
    "$ <br>\n",
    "\n",
    "- Dual Feasibility <br>\n",
    "$\n",
    "\\begin{vmatrix}\n",
    "\\mu_{UB,1} \\\\ \\mu_{UB,2} \\\\ \\mu_{UB,3} \\\\ \\mu_{LB,1} \\\\ \\mu_{LB,2} \\\\ \\mu_{LB,3}\n",
    "\\end{vmatrix}\n",
    "\\geq 0\n",
    "$ <br>\n",
    "\n",
    "- Complementarity Slackness <br>\n",
    "$\n",
    "\\begin{vmatrix}\n",
    "\\mu_{UB,1} & \\mu_{UB,2} & \\mu_{UB,3} & \\mu_{LB,1} & \\mu_{LB,2} & \\mu_{LB,3}\n",
    "\\end{vmatrix}\n",
    "\\begin{vmatrix}\n",
    "u_1 - u_{max} \\\\ u_2 - u_{max} \\\\ u_3 - u_{max} \\\\ u_{min} - u_1 \\\\ u_{min} - u_2 \\\\ u_{min} - u_3\n",
    "\\end{vmatrix}\n",
    "= 0\n",
    "$"
   ]
  },
  {
   "cell_type": "markdown",
   "id": "d9bc7380",
   "metadata": {},
   "source": [
    "## Solving complementarity slackness using binaries"
   ]
  },
  {
   "cell_type": "markdown",
   "id": "3510f3d5",
   "metadata": {},
   "source": [
    "Defining: <br>\n",
    "$\n",
    "\\boldsymbol{g} := \n",
    "\\begin{vmatrix}\n",
    "u_1 - u_{max} \\\\ u_2 - u_{max} \\\\ u_3 - u_{max} \\\\ u_{min} - u_1 \\\\ u_{min} - u_2 \\\\ u_{min} - u_3\n",
    "\\end{vmatrix}\n",
    "$ <br>\n",
    "\n",
    "The complementarity slackness becomes: <br>\n",
    "$ \\boldsymbol{\\mu}^\\top \\ \\boldsymbol{g} = 0 $\n",
    "\n"
   ]
  },
  {
   "cell_type": "markdown",
   "id": "b0ddd36e",
   "metadata": {},
   "source": [
    "## Using Big-M strategy"
   ]
  },
  {
   "cell_type": "markdown",
   "id": "0efed441",
   "metadata": {},
   "source": [
    "which can be rearranged into linear constraints using the big-M strategy:<br>\n",
    "for $j = 1,\\ldots,n_g$ <br>\n",
    "$ \\boldsymbol{\\mu}_j \\geq 0 $ <br>\n",
    "$ \\boldsymbol{\\mu}_j \\leq MY_j $ <br>\n",
    "$ \\boldsymbol{g}_j \\leq 0 $ <br>\n",
    "$ \\boldsymbol{g}_j \\geq M(1 - Y_j) $ <br>\n",
    "\n",
    "where: <br>\n",
    "$M$ is a large constant <br>\n",
    "and $Y = \\{0,1\\}$ is a binary variable"
   ]
  },
  {
   "cell_type": "code",
   "execution_count": 12,
   "id": "3979c1f6",
   "metadata": {},
   "outputs": [
    {
     "name": "stdout",
     "output_type": "stream",
     "text": [
      "Version identifier: 22.1.1.0 | 2022-11-27 | 9160aff4d\r\n",
      "Tried aggregator 1 time.\r\n",
      "MIP Presolve eliminated 70 rows and 20 columns.\r\n",
      "MIP Presolve added 28 rows and 0 columns.\r\n",
      "MIP Presolve modified 64 coefficients.\r\n",
      "Reduced MIP has 84 rows, 70 columns, and 202 nonzeros.\r\n",
      "Reduced MIP has 28 binaries, 0 generals, 0 SOSs, and 0 indicators.\r\n",
      "Presolve time = 0.00 sec. (0.13 ticks)\r\n",
      "Found incumbent of value 0.000000 after 0.00 sec. (0.28 ticks)\r\n",
      "\r\n",
      "Root node processing (before b&c):\r\n",
      "  Real time             =    0.00 sec. (0.28 ticks)\r\n",
      "Parallel b&c, 16 threads:\r\n",
      "  Real time             =    0.00 sec. (0.00 ticks)\r\n",
      "  Sync time (average)   =    0.00 sec.\r\n",
      "  Wait time (average)   =    0.00 sec.\r\n",
      "                          ------------\r\n",
      "Total (root+branch&cut) =    0.00 sec. (0.28 ticks)\r\n"
     ]
    }
   ],
   "source": [
    "MPC_con_bin_M = Model(CPLEX.Optimizer)\n",
    "\n",
    "# Set up variables\n",
    "# inputs computed by MPCs\n",
    "@variable(MPC_con_bin_M, uTest_2[1:6,1:3])\n",
    "@variable(MPC_con_bin_M, mu_2[1:6,1:6] ≥ 0)\n",
    "@variable(MPC_con_bin_M, Y[1:6,1:6], Bin)\n",
    "\n",
    "conMatrix = [1 0 0;\n",
    "             0 1 0;\n",
    "             0 0 1;\n",
    "            -1 0 0;\n",
    "             0 -1 0;\n",
    "             0 0 -1]; \n",
    "\n",
    "# stationarity\n",
    "@constraint(MPC_con_bin_M, MPC_sol[kk = 1:6], uTest_2[kk,:]'*H + cf_T[kk] +  mu_2[kk,:]'*conMatrix .== 0)\n",
    "# primal feasibility\n",
    "@constraint(MPC_con_bin_M, MPC_u_upper[kk = 1:6,uu = 1:3], uTest_2[kk,uu] - uMax <= 0)\n",
    "@constraint(MPC_con_bin_M, MPC_u_lower[kk = 1:6,uu = 1:3], uMin - uTest_2[kk,uu] <= 0)\n",
    "# big-M implementation\n",
    "M = 1000\n",
    "@constraint(MPC_con_bin_M, bigM_1[kk = 1:6,cc = 1:6], mu_2[kk,cc] <= M*Y[kk,cc])\n",
    "@constraint(MPC_con_bin_M, bigM_2[kk = 1:6,cc = 1:3], uTest_2[kk,cc] - uMax >= -M*(1 - Y[kk,cc]))\n",
    "@constraint(MPC_con_bin_M, bigM_3[kk = 1:6,cc = 1:3], uMin - uTest_2[kk,cc] >= -M*(1 - Y[kk,cc + 3]))\n",
    "\n",
    "@objective(MPC_con_bin_M, Min, 0) # searching for feasible point\n",
    "\n",
    "JuMP.optimize!(MPC_con_bin_M)\n",
    "\n",
    "u_con_bin_M = value.(uTest_2)\n",
    "Y_con_bin_M = value.(Y);"
   ]
  },
  {
   "cell_type": "markdown",
   "id": "1576f087",
   "metadata": {},
   "source": [
    "## Using complementarity constraints in-built in JuMP"
   ]
  },
  {
   "cell_type": "markdown",
   "id": "8ec6cce6",
   "metadata": {},
   "source": [
    "A mixed complementarity constraint $F(x) \\perp x$ consists of finding $x$ in the interval $\\[lb, ub\\]$, such that the following holds: <br>\n",
    "\n",
    "$F(x) = 0 \\quad if \\quad lb < x < ub$\n",
    "\n",
    "$F(x) \\geq 0 \\quad if \\quad lb = x$\n",
    "\n",
    "$F(x) \\leq 0 \\quad if \\quad x = ub$\n",
    "\n",
    "JuMP supports mixed complementarity constraints via complements(F(x), x) or $F(x) \\perp x$ in the @constraint macro. The interval set $\\[lb, ub\\]$ is obtained from the variable bounds on x."
   ]
  },
  {
   "cell_type": "code",
   "execution_count": 13,
   "id": "eef94ebf",
   "metadata": {},
   "outputs": [
    {
     "name": "stdout",
     "output_type": "stream",
     "text": [
      "This is Ipopt version 3.14.4, running with linear solver MUMPS 5.4.1.\n",
      "\n",
      "Number of nonzeros in equality constraint Jacobian...:      162\n",
      "Number of nonzeros in inequality constraint Jacobian.:       72\n",
      "Number of nonzeros in Lagrangian Hessian.............:      108\n",
      "\n",
      "Total number of variables............................:       54\n",
      "                     variables with only lower bounds:        0\n",
      "                variables with lower and upper bounds:        0\n",
      "                     variables with only upper bounds:        0\n",
      "Total number of equality constraints.................:       54\n",
      "Total number of inequality constraints...............:       72\n",
      "        inequality constraints with only lower bounds:       72\n",
      "   inequality constraints with lower and upper bounds:        0\n",
      "        inequality constraints with only upper bounds:        0\n",
      "\n",
      "iter    objective    inf_pr   inf_du lg(mu)  ||d||  lg(rg) alpha_du alpha_pr  ls\n",
      "   0  0.0000000e+00 1.40e+01 1.00e+00  -1.0 0.00e+00    -  0.00e+00 0.00e+00   0\n",
      "   1  0.0000000e+00 1.39e+01 1.10e+00  -1.0 1.22e+00    -  8.95e-03 8.14e-03h  1\n",
      "   2  0.0000000e+00 1.39e+01 8.90e+01  -1.0 1.30e+00    -  1.54e-02 4.41e-04h  1\n",
      "   3r 0.0000000e+00 1.39e+01 9.99e+02   1.1 0.00e+00    -  0.00e+00 2.89e-07R  5\n",
      "   4r 0.0000000e+00 1.39e+01 9.99e+02   1.1 1.52e+03    -  8.03e-04 1.11e-04f  1\n",
      "   5r 0.0000000e+00 1.33e+01 9.98e+02   1.1 1.85e+03    -  6.93e-04 1.26e-03f  1\n",
      "   6r 0.0000000e+00 9.75e+00 9.99e+02   1.1 1.37e+03   0.0 9.09e-04 2.61e-03f  1\n",
      "   7r 0.0000000e+00 2.22e+00 9.98e+02   1.1 6.41e+03    -  1.13e-03 1.32e-03f  1\n",
      "   8r 0.0000000e+00 1.92e+00 9.95e+02   1.1 7.67e+02    -  6.31e-03 4.00e-04f  1\n",
      "   9r 0.0000000e+00 1.91e+00 9.86e+02   1.1 2.71e-01   4.0 1.02e-01 1.10e-01f  1\n",
      "iter    objective    inf_pr   inf_du lg(mu)  ||d||  lg(rg) alpha_du alpha_pr  ls\n",
      "  10r 0.0000000e+00 1.22e+00 9.78e+02   1.1 2.11e+02    -  8.65e-03 8.97e-03f  1\n",
      "  11r 0.0000000e+00 1.16e+00 9.12e+02   1.1 3.05e-01   3.6 1.10e-01 2.63e-01f  1\n",
      "  12r 0.0000000e+00 1.15e+00 9.00e+02   0.4 3.64e+01    -  2.54e-03 2.35e-02f  1\n",
      "  13r 0.0000000e+00 1.12e+00 8.78e+02   0.4 8.81e-02   4.0 7.48e-01 3.26e-01f  1\n",
      "  14r 0.0000000e+00 1.03e+00 8.13e+02   0.4 2.37e-01   3.5 2.52e-01 4.12e-01f  1\n",
      "  15r 0.0000000e+00 9.89e-01 7.85e+02   0.4 8.92e-02   3.9 4.57e-01 5.01e-01f  1\n",
      "  16r 0.0000000e+00 9.79e-01 8.54e+02   0.4 3.94e+00   3.5 1.39e-02 3.77e-02f  1\n",
      "  17r 0.0000000e+00 9.67e-01 8.49e+02   0.4 9.70e-01   3.0 1.41e-01 1.66e-02f  1\n",
      "  18r 0.0000000e+00 6.62e-01 7.75e+02   0.4 2.08e+00   2.5 1.23e-01 1.47e-01f  1\n",
      "  19r 0.0000000e+00 5.60e-01 7.70e+02   0.4 1.01e+00   2.9 5.38e-02 1.18e-01f  1\n",
      "iter    objective    inf_pr   inf_du lg(mu)  ||d||  lg(rg) alpha_du alpha_pr  ls\n",
      "  20r 0.0000000e+00 5.22e-01 1.08e+03   0.4 6.85e-01   3.4 9.37e-01 1.17e-01f  1\n",
      "  21r 0.0000000e+00 3.11e-01 8.80e+02   0.4 9.73e-01   2.9 1.41e-01 2.19e-01f  1\n",
      "  22r 0.0000000e+00 2.66e-01 9.96e+02   0.4 6.10e-01   3.3 1.00e+00 1.21e-01f  1\n",
      "  23r 0.0000000e+00 1.18e-01 9.76e+02   0.4 1.09e+01    -  9.21e-02 2.43e-02f  1\n",
      "  24r 0.0000000e+00 1.08e-01 6.65e+02   0.4 8.55e-01    -  4.85e-01 1.27e-01f  1\n",
      "  25r 0.0000000e+00 7.45e-02 5.69e+02   0.4 1.58e+00    -  7.27e-01 3.61e-01f  1\n",
      "  26r 0.0000000e+00 2.12e-02 4.93e+02   0.4 3.20e+00    -  3.86e-01 2.00e-01f  1\n",
      "  27r 0.0000000e+00 1.14e-02 6.06e+02   0.4 1.62e+00    -  4.01e-01 9.25e-02f  1\n",
      "  28r 0.0000000e+00 4.39e-03 5.15e+02   0.4 1.52e-01    -  1.00e+00 6.67e-01f  1\n",
      "  29r 0.0000000e+00 1.22e-02 1.09e+03   0.4 8.32e-02    -  1.91e-01 1.00e+00f  1\n",
      "iter    objective    inf_pr   inf_du lg(mu)  ||d||  lg(rg) alpha_du alpha_pr  ls\n",
      "  30r 0.0000000e+00 4.93e-03 1.16e+03   0.4 5.39e-02   2.8 1.00e+00 4.22e-01f  1\n",
      "  31r 0.0000000e+00 4.71e-03 1.23e+03   0.4 6.08e-02    -  1.90e-02 6.87e-02f  2\n",
      "  32r 0.0000000e+00 5.99e-03 9.15e+02   0.4 7.96e-03   5.1 1.00e+00 1.00e+00f  1\n",
      "  33r 0.0000000e+00 6.12e-03 5.00e+00   0.4 1.75e-02    -  1.00e+00 1.00e+00f  1\n",
      "  34r 0.0000000e+00 1.85e-03 3.32e+02  -1.7 4.13e-02    -  9.92e-01 5.85e-01f  1\n",
      "  35r 0.0000000e+00 6.08e-04 6.57e+01  -1.7 1.36e-02    -  1.00e+00 8.03e-01f  1\n",
      "  36r 0.0000000e+00 3.90e-05 3.27e+00  -1.7 3.45e-03    -  9.40e-01 1.00e+00f  1\n",
      "  37r 0.0000000e+00 2.52e-05 1.83e-01  -1.7 5.21e-05    -  1.00e+00 1.00e+00f  1\n",
      "  38r 0.0000000e+00 3.54e-07 1.92e-01  -3.7 2.86e-04    -  1.00e+00 9.98e-01f  1\n",
      "  39r 0.0000000e+00 2.09e-07 2.45e-02  -3.7 7.36e-07    -  1.00e+00 1.00e+00f  1\n",
      "iter    objective    inf_pr   inf_du lg(mu)  ||d||  lg(rg) alpha_du alpha_pr  ls\n",
      "  40r 0.0000000e+00 2.09e-07 1.07e-03  -3.7 9.19e-08    -  1.00e+00 1.00e+00f  1\n",
      "  41r 0.0000000e+00 3.90e-08 1.86e+01  -5.6 2.45e-06    -  1.00e+00 8.64e-01f  1\n",
      "  42r 0.0000000e+00 1.04e-08 3.96e+01  -5.6 3.38e-07    -  9.66e-01 8.35e-01f  1\n",
      "  43r 0.0000000e+00 1.04e-09 2.60e+00  -5.6 4.83e-08    -  9.90e-01 1.00e+00f  1\n",
      "\n",
      "Number of Iterations....: 43\n",
      "\n",
      "                                   (scaled)                 (unscaled)\n",
      "Objective...............:   0.0000000000000000e+00    0.0000000000000000e+00\n",
      "Dual infeasibility......:   0.0000000000000000e+00    0.0000000000000000e+00\n",
      "Constraint violation....:   1.0384327842061225e-09    1.0384327842061225e-09\n",
      "Variable bound violation:   0.0000000000000000e+00    0.0000000000000000e+00\n",
      "Complementarity.........:   0.0000000000000000e+00    0.0000000000000000e+00\n",
      "Overall NLP error.......:   1.0384327842061225e-09    1.0384327842061225e-09\n",
      "\n",
      "\n",
      "Number of objective function evaluations             = 52\n",
      "Number of objective gradient evaluations             = 5\n",
      "Number of equality constraint evaluations            = 52\n",
      "Number of inequality constraint evaluations          = 52\n",
      "Number of equality constraint Jacobian evaluations   = 45\n",
      "Number of inequality constraint Jacobian evaluations = 45\n",
      "Number of Lagrangian Hessian evaluations             = 43\n",
      "Total seconds in IPOPT                               = 1.659\n",
      "\n",
      "EXIT: Optimal Solution Found.\n"
     ]
    }
   ],
   "source": [
    "## NOT WORKING!\n",
    "\n",
    "MPC_con_bin_cc = Model(Ipopt.Optimizer)\n",
    "\n",
    "# Set up variables\n",
    "# inputs computed by MPCs\n",
    "@variable(MPC_con_bin_cc, uTest_3[1:6,1:3])\n",
    "@variable(MPC_con_bin_cc, mu_3[1:6,1:6])\n",
    "\n",
    "# stationarity\n",
    "@constraint(MPC_con_bin_cc, MPC_sol[kk = 1:6], uTest_3[kk,:]'*H + cf_T[kk] +  mu_3[kk,:]'*conMatrix .== 0)\n",
    "\n",
    "# primal/dual feasibility + complementarity slackness\n",
    "for kk in 1:6\n",
    "    for uu in 1:3\n",
    "        @complements(MPC_con_bin_cc, 0 ≤ uMax - uTest_3[kk,uu], mu_3[kk,uu] ≥ 0)\n",
    "        @complements(MPC_con_bin_cc, 0 ≤ uTest_3[kk,uu] - uMin, mu_3[kk,uu + 3] ≥ 0)\n",
    "    end\n",
    "end\n",
    "\n",
    "# searching for feasible point\n",
    "@objective(MPC_con_bin_cc, Min, 0) ;\n",
    "\n",
    "JuMP.optimize!(MPC_con_bin_cc)\n",
    "\n",
    "u_con_bin_cc = value.(uTest_3);"
   ]
  },
  {
   "cell_type": "markdown",
   "id": "69028cfc",
   "metadata": {},
   "source": [
    "## Using indicator constraints in-built in JuMP"
   ]
  },
  {
   "cell_type": "markdown",
   "id": "b9d16516",
   "metadata": {},
   "source": [
    "Indicator constraints consist of a binary variable and a linear constraint. The constraint holds when the binary variable takes the value 1. The constraint may or may not hold when the binary variable takes the value 0."
   ]
  },
  {
   "cell_type": "code",
   "execution_count": 14,
   "id": "65165668",
   "metadata": {},
   "outputs": [
    {
     "name": "stdout",
     "output_type": "stream",
     "text": [
      "Version identifier: 22.1.1.0 | 2022-11-27 | 9160aff4d\r\n",
      "Tried aggregator 1 time.\r\n",
      "MIP Presolve eliminated 44 rows and 20 columns.\r\n",
      "Reduced MIP has 42 rows, 70 columns, and 118 nonzeros.\r\n",
      "Reduced MIP has 28 binaries, 0 generals, 0 SOSs, and 28 indicators.\r\n",
      "Presolve time = 0.00 sec. (0.08 ticks)\r\n",
      "Probing fixed 28 vars, tightened 83 bounds.\r\n",
      "Probing time = 0.00 sec. (0.04 ticks)\r\n",
      "Tried aggregator 2 times.\r\n",
      "MIP Presolve eliminated 40 rows and 68 columns.\r\n",
      "MIP Presolve modified 6 coefficients.\r\n",
      "Aggregator did 2 substitutions.\r\n",
      "All rows and columns eliminated.\r\n",
      "Presolve time = 0.00 sec. (0.04 ticks)\r\n",
      "\r\n",
      "Root node processing (before b&c):\r\n",
      "  Real time             =    0.00 sec. (2.25 ticks)\r\n",
      "Parallel b&c, 16 threads:\r\n",
      "  Real time             =    0.00 sec. (0.00 ticks)\r\n",
      "  Sync time (average)   =    0.00 sec.\r\n",
      "  Wait time (average)   =    0.00 sec.\r\n",
      "                          ------------\r\n",
      "Total (root+branch&cut) =    0.00 sec. (2.25 ticks)\r\n"
     ]
    }
   ],
   "source": [
    "MPC_con_bin_i = Model(CPLEX.Optimizer)\n",
    "\n",
    "# Set up variables\n",
    "# inputs computed by MPCs\n",
    "@variable(MPC_con_bin_i, uTest_4[1:6,1:3])\n",
    "@variable(MPC_con_bin_i, mu_4[1:6,1:6] ≥ 0)\n",
    "@variable(MPC_con_bin_i, Y_4[1:6,1:6], Bin)\n",
    "\n",
    "\n",
    "# stationarity\n",
    "@constraint(MPC_con_bin_i, MPC_sol[kk = 1:6], uTest_4[kk,:]'*H + cf_T[kk] +  mu_4[kk,:]'*conMatrix .== 0)\n",
    "\n",
    "# primal feasibility\n",
    "@constraint(MPC_con_bin_i, g_u_u[kk = 1:6,uu = 1:3], uMax - uTest_4[kk,uu] ≥ 0)\n",
    "@constraint(MPC_con_bin_i, g_u_l[kk = 1:6,uu = 1:3], uTest_4[kk,uu] - uMin ≥ 0)\n",
    "\n",
    "# complementarity slackness\n",
    "@constraint(MPC_con_bin_i, MPC_c_upper[kk = 1:6,uu = 1:3], Y_4[kk,uu] => {uMax - uTest_4[kk,uu] == 0})\n",
    "@constraint(MPC_con_bin_i, MPC_c_lower[kk = 1:6,uu = 1:3], Y_4[kk,uu + 3] => {uTest_4[kk,uu] - uMin == 0})\n",
    "\n",
    "@constraint(MPC_con_bin_i, MPC_c_upper_dual[kk = 1:6,uu = 1:3], !Y_4[kk,uu] => {mu_4[kk,uu] == 0})\n",
    "@constraint(MPC_con_bin_i, MPC_c_lower_dual[kk = 1:6,uu = 1:3], !Y_4[kk,uu + 3] => {mu_4[kk,uu + 3] == 0})\n",
    "\n",
    "# searching for feasible point\n",
    "@objective(MPC_con_bin_i, Min, 0) \n",
    "\n",
    "JuMP.optimize!(MPC_con_bin_i)\n",
    "\n",
    "u_con_bin_i = value.(uTest_4);"
   ]
  },
  {
   "cell_type": "markdown",
   "id": "47b17a04",
   "metadata": {},
   "source": [
    "## Solving using MPEC"
   ]
  },
  {
   "cell_type": "markdown",
   "id": "f5921540",
   "metadata": {},
   "source": [
    "The complementarity slackness is now moved to the objective function: <br>\n",
    "\n",
    "$ max_{u_k} \\ \\boldsymbol{\\mu}^\\top \\ \\boldsymbol{g} $ <br>\n",
    "s.t.: <br>\n",
    "$ \\nabla L = 0 $ <br>\n",
    "$ u - u_{max} \\leq 0 \\quad j = 1,\\ldots,n_g $ <br>\n",
    "$ u_{min} - u \\leq 0 \\quad j = 1,\\ldots,n_g $ <br>\n",
    "$ \\boldsymbol{\\mu}_j \\geq 0 \\quad j = 1,\\ldots,n_g $ <br>"
   ]
  },
  {
   "cell_type": "code",
   "execution_count": 15,
   "id": "fb17f45b",
   "metadata": {},
   "outputs": [],
   "source": [
    "MPC_con_mpec = Model(Ipopt.Optimizer)\n",
    "set_silent(MPC_con_mpec) # avoid printing\n",
    "\n",
    "# Set up variables\n",
    "# inputs computed by MPCs\n",
    "@variable(MPC_con_mpec, uTest_5[1:6,1:3])\n",
    "@variable(MPC_con_mpec, mu_5[1:6,1:6] ≥ 0)\n",
    "\n",
    "# stationarity\n",
    "@constraint(MPC_con_mpec, MPC_sol[kk = 1:6], uTest_5[kk,:]'*H + cf_T[kk] + mu_5[kk,:]'*conMatrix .== 0)\n",
    "# primal feasibility\n",
    "@expression(MPC_con_mpec, g_u_u[kk = 1:6,uu = 1:3], uTest_5[kk,uu] - uMax)\n",
    "@expression(MPC_con_mpec, g_u_l[kk = 1:6,uu = 1:3], uMin - uTest_5[kk,uu])\n",
    "\n",
    "@constraint(MPC_con_mpec, MPC_c_upper[kk = 1:6,uu = 1:3], g_u_u[kk,uu] <= 0)\n",
    "@constraint(MPC_con_mpec, MPC_c_lower[kk = 1:6,uu = 1:3], g_u_l[kk,uu] <= 0)\n",
    "\n",
    "\n",
    "@objective(MPC_con_mpec, Max, sum(\n",
    "                                  sum(mu_5[kk,jj]*g_u_u[kk,jj] for jj = 1:3) +\n",
    "                                  sum(mu_5[kk,jj + 3]*g_u_l[kk,jj] for jj = 1:3)\n",
    "                                  for kk = 1:6)) \n",
    "JuMP.optimize!(MPC_con_mpec)\n",
    "\n",
    "u_con_mpec = value.(uTest_5);"
   ]
  },
  {
   "cell_type": "code",
   "execution_count": 16,
   "id": "de86be98",
   "metadata": {},
   "outputs": [
    {
     "data": {
      "text/plain": [
       "6×3 Matrix{Float64}:\n",
       " 0.789566  1.17517  1.2\n",
       " 0.935582  1.2      1.2\n",
       " 0.720587  0.89452  1.02742\n",
       " 1.194     1.2      1.2\n",
       " 1.2       1.2      1.2\n",
       " 1.10015   1.07288  1.02361"
      ]
     },
     "metadata": {},
     "output_type": "display_data"
    },
    {
     "data": {
      "text/plain": [
       "6×3 Matrix{Float64}:\n",
       " 0.789566  1.17517  1.2\n",
       " 0.935582  1.2      1.2\n",
       " 0.720587  0.89452  1.02742\n",
       " 1.194     1.2      1.2\n",
       " 1.2       1.2      1.2\n",
       " 1.10015   1.07288  1.02361"
      ]
     },
     "metadata": {},
     "output_type": "display_data"
    },
    {
     "data": {
      "text/plain": [
       "6×3 Matrix{Float64}:\n",
       " 0.789566  1.17517  1.2\n",
       " 0.935582  1.2      1.2\n",
       " 0.720587  0.89452  1.02742\n",
       " 1.194     1.2      1.2\n",
       " 1.2       1.2      1.2\n",
       " 1.10015   1.07288  1.02361"
      ]
     },
     "metadata": {},
     "output_type": "display_data"
    },
    {
     "data": {
      "text/plain": [
       "6×3 Matrix{Float64}:\n",
       " 0.789566  1.17517  1.2\n",
       " 0.935582  1.2      1.2\n",
       " 0.720587  0.89452  1.02742\n",
       " 1.194     1.2      1.2\n",
       " 1.2       1.2      1.2\n",
       " 1.10015   1.07288  1.02361"
      ]
     },
     "metadata": {},
     "output_type": "display_data"
    },
    {
     "data": {
      "text/plain": [
       "6×3 Matrix{Float64}:\n",
       " 0.789566  1.17517  1.2\n",
       " 0.935582  1.2      1.2\n",
       " 0.720587  0.89452  1.02742\n",
       " 1.194     1.2      1.2\n",
       " 1.2       1.2      1.2\n",
       " 1.10015   1.07288  1.02361"
      ]
     },
     "metadata": {},
     "output_type": "display_data"
    }
   ],
   "source": [
    "display(u_con)\n",
    "display(u_con_bin_M)\n",
    "display(u_con_bin_cc)\n",
    "display(u_con_bin_i)\n",
    "display(u_con_mpec)"
   ]
  }
 ],
 "metadata": {
  "kernelspec": {
   "display_name": "Julia 1.8.5",
   "language": "julia",
   "name": "julia-1.8"
  },
  "language_info": {
   "file_extension": ".jl",
   "mimetype": "application/julia",
   "name": "julia",
   "version": "1.8.5"
  }
 },
 "nbformat": 4,
 "nbformat_minor": 5
}
