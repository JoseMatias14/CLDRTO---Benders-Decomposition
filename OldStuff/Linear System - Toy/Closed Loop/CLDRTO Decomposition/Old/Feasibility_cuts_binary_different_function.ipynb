{
 "cells": [
  {
   "cell_type": "code",
   "execution_count": 1,
   "id": "71c7fd3d",
   "metadata": {},
   "outputs": [],
   "source": [
    "using LinearAlgebra, JuMP, CPLEX, Plots, Distributions"
   ]
  },
  {
   "cell_type": "markdown",
   "id": "b2933767",
   "metadata": {},
   "source": [
    "# Computing State-space Model from transfer function\n",
    "\n",
    "$$ y(s) = \\dfrac{1}{125s^3 + 75s^2 + 15s + 1} \\ u(s) $$\n",
    "\n",
    "State-space representation from the transfer function above (from matlab):"
   ]
  },
  {
   "cell_type": "code",
   "execution_count": 2,
   "id": "cb37bc36",
   "metadata": {},
   "outputs": [],
   "source": [
    "A_drto = [2.45619225923395 -2.01096013810692 0.548811636094027; \n",
    "    1 0 0;\n",
    "    0 1 0]\n",
    "# uncertainty in B matrix\n",
    "# B_drto = [0.0625; 0; 0] # nominal\n",
    "C_drto = [0.0183756999177941, 0.0633113580621751, 0.0136128264831647];"
   ]
  },
  {
   "cell_type": "markdown",
   "id": "08a9ede7",
   "metadata": {},
   "source": [
    "System configuration"
   ]
  },
  {
   "cell_type": "code",
   "execution_count": 3,
   "id": "44ad2dd6",
   "metadata": {},
   "outputs": [],
   "source": [
    "# Sampling time\n",
    "T = 1\n",
    "# Number of manipulated inputs\n",
    "nu = 1\n",
    "# Number of controlled outputs\n",
    "ny = 1\n",
    "# Number of states\n",
    "nx = 3;"
   ]
  },
  {
   "cell_type": "markdown",
   "id": "48d500dc",
   "metadata": {},
   "source": [
    "DRTO configuration"
   ]
  },
  {
   "cell_type": "code",
   "execution_count": 4,
   "id": "a7ef620f",
   "metadata": {},
   "outputs": [],
   "source": [
    "# Prediction horizon 30 | 50\n",
    "pD = 50\n",
    "# Input control horizon \n",
    "mD = 20\n",
    "# DRTO sampling time\n",
    "nDRTO = 5\n",
    "\n",
    "# setting bounds \n",
    "ΔUMax = 0.3\n",
    "uMax = 1.2\n",
    "uMin = 0.0\n",
    "yMax = 1.5\n",
    "yMin = 0.0\n",
    "yspMax = 1.5\n",
    "yspMin = 0.0\n",
    "\n",
    "# setting initial values\n",
    "x0 = [0.0;0.0;0.0]\n",
    "y0 = C_drto'*[0.0;0.0;0.0]\n",
    "u0 = 0.0;"
   ]
  },
  {
   "cell_type": "markdown",
   "id": "944b00f5",
   "metadata": {},
   "source": [
    "# Building MPC model"
   ]
  },
  {
   "cell_type": "markdown",
   "id": "f3318f0f",
   "metadata": {},
   "source": [
    "Controller configuration"
   ]
  },
  {
   "cell_type": "code",
   "execution_count": 5,
   "id": "72ae5ceb",
   "metadata": {},
   "outputs": [],
   "source": [
    "# Output prediction horizon\n",
    "p = 30 #30\n",
    "# Input control horizon \n",
    "m = 3\n",
    "# Output weights\n",
    "q = 1\n",
    "# Input weights aggressive = 1 | detuned = 20\n",
    "r = 1;"
   ]
  },
  {
   "cell_type": "code",
   "execution_count": 6,
   "id": "9e3946f2",
   "metadata": {},
   "outputs": [],
   "source": [
    "A = A_drto\n",
    "B = [0.0625; 0; 0] # using nominal model \n",
    "C = C_drto;"
   ]
  },
  {
   "cell_type": "code",
   "execution_count": 7,
   "id": "2fb58669",
   "metadata": {},
   "outputs": [],
   "source": [
    "Ad = [A zeros(nx,ny); zeros(ny,nx) I(ny)]\n",
    "Bd = [B; 0]\n",
    "Cd = [C; 1];"
   ]
  },
  {
   "cell_type": "code",
   "execution_count": 8,
   "id": "bcc5cdd7",
   "metadata": {},
   "outputs": [],
   "source": [
    "Psi = Cd'*Ad\n",
    "for ii in 2:p\n",
    "    Psi = [Psi;  Cd'*Ad^ii]\n",
    "end\n",
    "\n",
    "# Computing Dynamic Matirx\n",
    "a = [Cd'*Ad^(ii - 1)*Bd for ii in 1:p];\n",
    "DynM = a\n",
    "\n",
    "for ii in 1:(m - 2)\n",
    "    a = [zeros(ny,nu);a[1:(p-1)*ny,:]]\n",
    "    DynM = [DynM  a]\n",
    "end\n",
    "\n",
    "# adjusting dynamic matrix for since p > m (last column)\n",
    "b = Cd'*Bd\n",
    "\n",
    "Ai = I(nx+1) # adding disturbance to the states\n",
    "for ii = 1:(p - m)\n",
    "    Ai = Ai + Ad^ii\n",
    "    b = [b;Cd'*Ai*Bd]\n",
    "end\n",
    "\n",
    "Theta=[DynM [zeros(ny*(m-1),nu);b]];"
   ]
  },
  {
   "cell_type": "code",
   "execution_count": 9,
   "id": "925bcc03",
   "metadata": {},
   "outputs": [],
   "source": [
    "# Creating Qbar and Rbar matrices\n",
    "Qbar = Diagonal([q for ii in 1:p])\n",
    "Rbar = Diagonal([r for ii in 1:m])\n",
    "\n",
    "# Creating input movement OF penalty matrix \n",
    "M=[zeros((m-1)*nu,nu) I(nu*(m-1)); zeros(nu) zeros(nu,nu*(m-1))]\n",
    "Ibar=[I(nu); zeros(nu*(m-1),nu)]\n",
    "IM = I(nu*m) - M';"
   ]
  },
  {
   "cell_type": "code",
   "execution_count": 10,
   "id": "7ce8ff87",
   "metadata": {},
   "outputs": [],
   "source": [
    "# Matrix H\n",
    "H = Theta'*Qbar*Theta + IM'*Rbar*IM;"
   ]
  },
  {
   "cell_type": "markdown",
   "id": "b9dd189e",
   "metadata": {},
   "source": [
    "# Constrained MPC "
   ]
  },
  {
   "cell_type": "code",
   "execution_count": 11,
   "id": "b4f6e1b6",
   "metadata": {},
   "outputs": [],
   "source": [
    "# matrix to compute the gradients of the input bound constraints (hardcoded - specific for this system)\n",
    "conMatrix = [1 0 0;\n",
    "             0 1 0;\n",
    "             0 0 1]; \n",
    "\n",
    "# big-M implementation\n",
    "bigM = 1000;"
   ]
  },
  {
   "cell_type": "markdown",
   "id": "edc6e088",
   "metadata": {},
   "source": [
    "# Infeasible solution"
   ]
  },
  {
   "cell_type": "markdown",
   "id": "b05db0ba",
   "metadata": {},
   "source": [
    "from decomposition file: Decomposed_CLDRTO_con_bin.ipynb"
   ]
  },
  {
   "cell_type": "code",
   "execution_count": 12,
   "id": "c0587765",
   "metadata": {},
   "outputs": [],
   "source": [
    "Y_A = [0.0 0.0 1.0;\n",
    " 0.0  0.0  1.0;\n",
    " 1.0  1.0  0.0;\n",
    " 1.0  1.0  0.0;\n",
    " 1.0  1.0  0.0;\n",
    " 0.0  0.0  1.0;\n",
    " 0.0  0.0  1.0;\n",
    " 0.0  0.0  1.0;\n",
    " 0.0  0.0  1.0;\n",
    " 0.0  0.0  1.0;\n",
    " 0.0  0.0  1.0;\n",
    " 1.0  1.0  0.0;\n",
    " 1.0  1.0  0.0;\n",
    " 0.0  0.0  1.0;\n",
    " 0.0  0.0  1.0;\n",
    " 0.0  0.0  1.0;\n",
    " 0.0  0.0  1.0;\n",
    " 0.0  0.0  1.0;\n",
    " 0.0  0.0  1.0;\n",
    " 0.0  0.0  1.0]\n",
    "\n",
    "Y_B = [0.0  0.0  1.0\n",
    " 0.0  0.0  1.0\n",
    " 1.0  1.0  0.0\n",
    " 1.0  1.0  0.0\n",
    " 1.0  1.0  0.0\n",
    " 0.0  0.0  1.0\n",
    " 0.0  0.0  1.0\n",
    " 0.0  0.0  1.0\n",
    " 0.0  0.0  1.0\n",
    " 0.0  0.0  1.0\n",
    " 1.0  1.0  0.0\n",
    " 1.0  1.0  0.0\n",
    " 0.0  0.0  1.0\n",
    " 0.0  0.0  1.0\n",
    " 1.0  1.0  0.0\n",
    " 1.0  1.0  0.0\n",
    " 0.0  0.0  1.0\n",
    " 1.0  1.0  1.0\n",
    " 1.0  1.0  0.0\n",
    " 0.0  0.0  1.0]\n",
    "\n",
    "Y_u_fixed = [Y_A;;;Y_B]\n",
    "\n",
    "ysp_fixed = [1.5 1.5 1.5 1.5 1.5]\n",
    "\n",
    "B_drto_s = [0.0662265 0.0535349\n",
    "             0.0 0.0\n",
    "             0.0 0.0];"
   ]
  },
  {
   "cell_type": "markdown",
   "id": "b2f632eb",
   "metadata": {},
   "source": [
    "## Modeling Subproblem"
   ]
  },
  {
   "cell_type": "code",
   "execution_count": 25,
   "id": "1c652a26",
   "metadata": {},
   "outputs": [],
   "source": [
    "## Modeling the sub problem (scenario) -- modeling inside a function\n",
    "function subp(xInit,uInit,ysp_fixed,Y_u_fixed,scen,pScen,B_drto_s,relaxed)\n",
    "    ###########\n",
    "    # inputs: #\n",
    "    ###########\n",
    "    # xInit - states at the current iteration (beginning of DRTO horizon)\n",
    "    # uInit - inputs at the current iteration, already implemented on the plant\n",
    "    # ysp_fixed - non-antecipativity constraints (first nDRTO setpoints must be equal among scenarios)\n",
    "    # Y_(u,l)_fixed - binary variables to solve the MPC optimization problems\n",
    "    # scen - which scenario the subproblem represents\n",
    "    # pScen - probability of the scenarios\n",
    "    # B_drto_s - uncertainty realization\n",
    "    # relaxed - solving a relaxed MILP instead\n",
    "\n",
    "    # Define subproblem model\n",
    "    sub = Model(CPLEX.Optimizer)\n",
    "    #set_silent(sub) # avoid printing\n",
    "\n",
    "    ####################\n",
    "    # Set up variables #\n",
    "    ####################\n",
    "    # DRTO model variables\n",
    "    @variable(sub, xDRTO[1:pD, 1:nx])\n",
    "    #@variable(sub, yMin ≤ yDRTO[1:pD] ≤ yMax)\n",
    "    @variable(sub, yDRTO[1:pD])\n",
    "    \n",
    "    # MPC model variables\n",
    "    @variable(sub, xMPC[1:pD, 1:nx])\n",
    "    @variable(sub, yMPC[1:pD])\n",
    "\n",
    "    # MPC <-> DRTO model deviation\n",
    "    @variable(sub, de[1:pD])\n",
    "    \n",
    "    # inputs computed by MPCs\n",
    "    @variable(sub, u[1:pD,1:m])\n",
    "    \n",
    "    # setpoints for the controllers sent to the plant (CL-DRTO degrees of freedom)\n",
    "    @variable(sub, yspMin ≤ ysp[1:pD] ≤ yspMax)\n",
    "        \n",
    "    # slacks for controlling setpoint into a zone\n",
    "    @variable(sub, delta_y_p[1:pD] ≥ 0.0)\n",
    "    @variable(sub, delta_y_m[1:pD] ≥ 0.0)\n",
    "    \n",
    "    @variable(sub, delta_mu[1:mD,1:m] ≥ 0.0)\n",
    "    \n",
    "    @variable(sub, mu_g[1:mD,1:m]) # upper and lower bounds for each input\n",
    "    @variable(sub, Y_ub[1:mD,1:m]) # ''Binaries'' for big-M implementation (here relaxed as real numbers)\n",
    "\n",
    "    ######################################\n",
    "    # Set up constraints and expressions #\n",
    "    ######################################\n",
    "    # Dynamic RTO model (linear)\n",
    "    @constraint(sub, CLDRTO_dyn_model_1, xDRTO[1,:] .== A_drto*xInit + B_drto_s[:,scen]*uInit)\n",
    "    @constraint(sub, CLDRTO_dyn_model[kk=1:(pD - 1)], xDRTO[kk + 1,:] .== A_drto*xDRTO[kk,:] + B_drto_s[:,scen]*u[kk,1])\n",
    "    @constraint(sub, CLDRTO_model_out[kk=1:pD], yDRTO[kk] == C_drto'*xDRTO[kk,:])\n",
    "\n",
    "    # MPC model (linear)\n",
    "    @constraint(sub, MPC_dyn_model_1, xMPC[1,:] .== A*xInit + B*uInit)\n",
    "    @constraint(sub, MPC_dyn_model[kk=1:(pD - 1)], xMPC[kk + 1,:] .== A*xMPC[kk,:] + B*u[kk,1])\n",
    "    @constraint(sub, MPC_model_out[kk=1:pD], yMPC[kk] == C'*xMPC[kk,:])\n",
    "    \n",
    "    #  MPC model deviation (disturance)\n",
    "    @constraint(sub, MPC_model_dev[kk=1:pD], de[kk] == yDRTO[kk] - yMPC[kk])\n",
    "\n",
    "    # fixing input after mD\n",
    "    @constraint(sub, control_horizon[kk=(mD+1):pD], u[kk,1] == u[mD,1]);\n",
    "    \n",
    "    # y (DRTO) inside target quality band\n",
    "    @constraint(sub, target_plus[kk=1:pD], yDRTO[kk] + delta_y_p[kk] >= 0.95)\n",
    "    @constraint(sub, target_minus[kk=1:pD], yDRTO[kk] - delta_y_m[kk] <= 1.05)\n",
    "    \n",
    "    # nonanticipativity constraints\n",
    "    @constraint(sub, nonAnt[kk=1:nDRTO], ysp[kk] - ysp_fixed[kk] == 0.0);\n",
    "    \n",
    "    ################\n",
    "    # MPC solution #\n",
    "    ################\n",
    "    @expression(sub, cfT_1, (Psi*[xMPC[1,:];de[1]] - ysp[1:p])'*Qbar*Theta - uInit'*Ibar'*Rbar*IM)\n",
    "    @expression(sub, cfT[kk=2:mD], (Psi*[xMPC[kk,:];de[kk]] - ysp[kk:(kk + p - 1)])'*Qbar*Theta - u[kk-1,1]'*Ibar'*Rbar*IM)\n",
    "\n",
    "        # Constrained with binaries\n",
    "        # 1. stationarity\n",
    "        @constraint(sub, MPC_sol_1, u[1,:]'*H + cfT_1 +  mu_g[1,:]'*conMatrix .== 0)\n",
    "        @constraint(sub, MPC_sol[kk=2:mD], u[kk,:]'*H + cfT[kk] + mu_g[kk,:]'*conMatrix .== 0)\n",
    "\n",
    "        # 2. primal feasibility\n",
    "        @constraint(sub, MPC_u_upper[kk=1:mD,uu=1:m], u[kk,uu] - uMax ≤ 0)\n",
    "    \n",
    "        # 3. complementarity: big-M implementation\n",
    "        @constraint(sub, bigM_1[kk=1:mD,uu=1:m], mu_g[kk,uu] <= bigM*Y_ub[kk,uu])\n",
    "        @constraint(sub, bigM_3[kk=1:mD,uu=1:m], u[kk,uu] - uMax >= -bigM*(1 - Y_ub[kk,uu]))\n",
    "    \n",
    "        # 4. specifying binaries <-- Master Problem\n",
    "        @constraint(sub, binMasterU[kk=1:mD,uu=1:m], Y_ub[kk,uu] - Y_u_fixed[kk,uu] == 0.0)\n",
    "        \n",
    "        if relaxed == 1\n",
    "            @constraint(sub, softMu_R[kk=1:mD,uu=1:m], mu_g[kk,uu] + delta_mu[kk,uu] ≥ 0.0)\n",
    "        else\n",
    "            @constraint(sub, softMu_NR[kk=1:mD,uu=1:m], mu_g[kk,uu] ≥ 0.0)\n",
    "            @constraint(sub, softMu_NR_2[kk=1:mD,uu=1:m], delta_mu[kk,uu] == 0.0)\n",
    "        end\n",
    "        \n",
    "    #############################\n",
    "    # Set up objective function #\n",
    "    #############################\n",
    "    # minimize input usage to bring y to target + penalization if output leaves target band\n",
    "    @objective(sub, Min, pScen*(\n",
    "            sum(u[kk,1] + 1e5*(delta_y_p[kk]^2 + delta_y_m[kk]^2) for kk in 1:pD) +\n",
    "            5e4*sum(sum(delta_mu[kk,uu]^2 for uu in 1:m) for kk in 1:mD)\n",
    "            )\n",
    "        )\n",
    " \n",
    "    # @show sub\n",
    "    \n",
    "    if relaxed == 1\n",
    "        set_optimizer_attribute(sub, \"CPX_PARAM_BARALG\", 1)\n",
    "    end\n",
    "    \n",
    "    optimize!(sub)\n",
    "    \n",
    "    # solution time\n",
    "    timeSol = solve_time(sub)\n",
    "    \n",
    "    flag = termination_status(sub)\n",
    "    # #primal_status(m)\n",
    "    \n",
    "    #calling values of the solved problem\n",
    "    o = objective_value(sub)\n",
    "    uArray = value.(u)\n",
    "    yspArray = value.(ysp)\n",
    "    yArray = value.(yDRTO)\n",
    "    muArray = value.(mu_g)\n",
    "    \n",
    "    # lagrange multipliers associated with the nonantecipativity constraints and binaries from master problem\n",
    "    λ = dual.(nonAnt)\n",
    "    μ = dual.(binMasterU)\n",
    "    \n",
    "    return Dict('o' => o, 'f' => flag, 'λ' => λ,'μ' => μ,'u' => uArray, 'y' => yArray, 's' => yspArray, 't' => timeSol, 'm' => muArray)\n",
    "end;"
   ]
  },
  {
   "cell_type": "markdown",
   "id": "720986ea",
   "metadata": {},
   "source": [
    "## Tuning always feasible subproblem "
   ]
  },
  {
   "cell_type": "code",
   "execution_count": 26,
   "id": "565e7028",
   "metadata": {
    "scrolled": true
   },
   "outputs": [
    {
     "name": "stdout",
     "output_type": "stream",
     "text": [
      "CPLEX Error  3003: Not a mixed-integer problem.\r\n",
      "Version identifier: 22.1.1.0 | 2022-11-27 | 9160aff4d\r\n",
      "Tried aggregator 1 time.\r\n",
      "QP Presolve eliminated 539 rows and 420 columns.\r\n",
      "Aggregator did 261 substitutions.\r\n",
      "Reduced QP has 205 rows, 249 columns, and 2769 nonzeros.\r\n",
      "Reduced QP objective Q matrix has 92 nonzeros.\r\n",
      "Presolve time = 0.00 sec. (1.67 ticks)\r\n",
      "Parallel mode: using up to 16 threads for barrier.\r\n",
      "Number of nonzeros in lower triangle of A*A' = 4708\r\n",
      "Using Approximate Minimum Degree ordering\r\n",
      "Total time for automatic ordering = 0.00 sec. (0.22 ticks)\r\n",
      "Summary statistics for Cholesky factor:\r\n",
      "  Threads                   = 16\r\n",
      "  Rows in Factor            = 205\r\n",
      "  Integer space required    = 693\r\n",
      "  Total non-zeros in factor = 6451\r\n",
      "  Total FP ops to factor    = 247389\r\n",
      " Itn      Primal Obj        Dual Obj  Prim Inf Upper Inf  Dual Inf          \r\n",
      "   0   4.1608641e+11  -4.1613581e+11  6.62e+04  4.26e+04  2.69e+09\r\n",
      "   1   4.3188549e+09  -4.3261651e+09  6.74e+03  4.34e+03  2.74e+08\r\n",
      "   2   1.5336398e+08  -1.5476520e+08  1.26e+03  8.14e+02  5.14e+07\r\n",
      "   3   3.0023546e+06  -2.7971638e+06  1.65e+02  1.06e+02  6.69e+06\r\n",
      "   4   2.0277002e+06  -1.6661182e+06  1.24e+02  7.98e+01  5.04e+06\r\n",
      "   5   8.9795462e+05  -3.2953367e+05  5.97e+01  3.84e+01  2.43e+06\r\n",
      "   6   5.4174968e+05   1.7446659e+05  2.03e+01  1.30e+01  8.22e+05\r\n",
      "   7   4.4070314e+05   3.7840299e+05  2.52e+00  1.59e+00  1.00e+05\r\n",
      "   8   4.3962873e+05   3.8443758e+05  1.96e+00  1.23e+00  7.77e+04\r\n",
      "   9   4.3384936e+05   4.0214140e+05  1.06e+00  6.61e-01  4.18e+04\r\n",
      "  10   4.3255437e+05   4.0881583e+05  7.35e-01  4.54e-01  2.86e+04\r\n",
      "  11   4.2816391e+05   4.2625778e+05  2.31e-02  6.07e-13  1.84e-08\r\n",
      "  12   4.2848007e+05   4.2799966e+05  2.50e-02  2.73e-13  1.67e-08\r\n",
      "  13   4.2837683e+05   4.2844669e+05  1.93e-02  4.87e-13  8.45e-09\r\n",
      "  14   4.2854167e+05   4.2915209e+05  1.37e-02  2.60e-13  1.06e+00\r\n",
      "  15   4.2854664e+05   4.2915582e+05  1.36e-02  3.89e-13  1.07e+00\r\n",
      "  16   4.2895354e+05   4.2938774e+05  8.38e-03  4.02e-13  1.34e+00\r\n",
      "  17   4.2919053e+05   4.2955671e+05  6.14e-03  3.17e-13  1.17e+00\r\n",
      "  18   4.2936242e+05   4.2967360e+05  4.28e-03  1.12e-05  9.26e-01\r\n",
      "  19   4.2985864e+05   4.2984941e+05  3.25e-09  3.72e-13  1.83e-01\r\n",
      "  20   4.2985735e+05   4.2985717e+05  1.53e-09  4.93e-13  1.02e-03\r\n",
      "  21   4.2985730e+05   4.2985729e+05  3.15e-10  3.81e-13  4.94e-06\r\n",
      "  22   4.2985730e+05   4.2985730e+05  9.96e-11  2.87e-13  2.32e-08\r\n",
      "Barrier time = 0.01 sec. (4.78 ticks)\r\n",
      "\r\n",
      "Total time on 16 threads = 0.01 sec. (4.78 ticks)\r\n"
     ]
    }
   ],
   "source": [
    "dicSol = subp(x0,u0,ysp_fixed,Y_A,1,0.5,B_drto_s,0)\n",
    "#dicSol = subp(x0,u0,ysp_fixed,Y_B,2,0.5,B_drto_s,0)\n",
    "\n",
    "#display(dicSol['m'])\n",
    "#display(dicSol['o'])\n",
    "\n",
    "# Extracting solution for plotting\n",
    "yTraj = Vector{Float64}(undef,pD)\n",
    "uTraj = Vector{Float64}(undef,pD) \n",
    "yspTraj = Vector{Float64}(undef,pD) \n",
    "\n",
    "for ii in 1:pD\n",
    "    yTraj[ii] = dicSol['y'][ii]\n",
    "    yspTraj[ii] = dicSol['s'][ii]\n",
    "    uTraj[ii] = dicSol['u'][ii,1]\n",
    "end;"
   ]
  },
  {
   "cell_type": "code",
   "execution_count": 27,
   "id": "7b5bd948",
   "metadata": {},
   "outputs": [
    {
     "name": "stdout",
     "output_type": "stream",
     "text": [
      "CPLEX Error  3003: Not a mixed-integer problem.\r\n",
      "Version identifier: 22.1.1.0 | 2022-11-27 | 9160aff4d\r\n",
      "CPXPARAM_Barrier_Algorithm                       1\r\n",
      "Tried aggregator 1 time.\r\n",
      "QP Presolve eliminated 419 rows and 330 columns.\r\n",
      "Aggregator did 262 substitutions.\r\n",
      "Reduced QP has 264 rows, 338 columns, and 2903 nonzeros.\r\n",
      "Reduced QP objective Q matrix has 152 nonzeros.\r\n",
      "Presolve time = 0.00 sec. (1.62 ticks)\r\n",
      "Parallel mode: using up to 16 threads for barrier.\r\n",
      "Number of nonzeros in lower triangle of A*A' = 4843\r\n",
      "Using Approximate Minimum Degree ordering\r\n",
      "Total time for automatic ordering = 0.00 sec. (0.24 ticks)\r\n",
      "Summary statistics for Cholesky factor:\r\n",
      "  Threads                   = 16\r\n",
      "  Rows in Factor            = 264\r\n",
      "  Integer space required    = 795\r\n",
      "  Total non-zeros in factor = 6597\r\n",
      "  Total FP ops to factor    = 250261\r\n",
      " Itn      Primal Obj        Dual Obj  Prim Inf Upper Inf  Dual Inf Inf Ratio\r\n",
      "   0   8.2818158e+11  -8.2824154e+11  1.56e+05  4.56e+04  4.25e+09  1.00e+00\r\n",
      "   1   2.7703375e+10  -2.7714267e+10  2.85e+04  8.34e+03  7.77e+08  3.19e+00\r\n",
      "   2   3.0989390e+09  -3.1025200e+09  9.52e+03  2.79e+03  2.60e+08  9.01e+00\r\n",
      "   3   2.7337125e+09  -2.7370701e+09  8.94e+03  2.62e+03  2.44e+08  9.32e+00\r\n",
      "   4   1.2842415e+08  -1.2907793e+08  1.94e+03  5.68e+02  5.28e+07  3.00e+01\r\n",
      "   5   1.6733928e+07  -1.6902288e+07  6.95e+02  2.04e+02  1.89e+07  4.45e+01\r\n",
      "   6   3.6718313e+06  -3.6691917e+06  3.16e+02  9.27e+01  8.63e+06  8.95e+00\r\n",
      "   7   4.5418376e+06  -4.5283620e+06  3.39e+02  9.94e+01  9.26e+06  3.46e-01\r\n",
      "   8   3.0932153e+06  -3.0275711e+06  2.75e+02  8.06e+01  7.50e+06  2.08e-01\r\n",
      "   9   3.0095713e+06  -2.9294928e+06  2.69e+02  7.88e+01  7.34e+06  1.47e-01\r\n",
      "  10   2.7754277e+06  -2.6756290e+06  2.56e+02  7.50e+01  6.98e+06  7.95e-02\r\n",
      "  11   2.5689927e+06  -2.4515934e+06  2.44e+02  7.15e+01  6.65e+06  5.63e-02\r\n",
      "  12   1.8591362e+06  -1.6666640e+06  1.97e+02  5.79e+01  5.39e+06  2.52e-02\r\n",
      "  13   1.3913931e+06  -1.1025444e+06  1.57e+02  4.60e+01  4.28e+06  1.21e-02\r\n",
      "  14   1.0462861e+06  -6.4253866e+05  1.19e+02  3.48e+01  3.24e+06  6.68e-03\r\n",
      "  15   7.7930016e+05  -2.3364369e+05  7.96e+01  2.33e+01  2.17e+06  4.29e-03\r\n",
      "  16   6.3292987e+05   4.4507087e+04  4.98e+01  1.46e+01  1.36e+06  3.61e-03\r\n",
      "  17   5.2435685e+05   3.1205330e+05  1.82e+01  5.32e+00  4.96e+05  4.63e-03\r\n",
      "  18   5.0903724e+05   3.6523424e+05  1.16e+01  3.39e+00  3.15e+05  5.47e-03\r\n",
      "  19   4.9548994e+05   4.1633413e+05  5.64e+00  1.65e+00  1.54e+05  7.54e-03\r\n",
      "  20   4.9144277e+05   4.3797743e+05  3.69e+00  1.08e+00  1.01e+05  9.60e-03\r\n",
      "  21   4.9148816e+05   4.5975972e+05  1.97e+00  5.76e-01  5.36e+04  1.30e-02\r\n",
      "  22   4.9326133e+05   4.8483555e+05  3.18e-01  9.30e-02  8.66e+03  4.66e-02\r\n",
      "  23   4.9287701e+05   4.8968210e+05  5.99e-02  1.76e-02  1.63e+03  1.25e-01\r\n",
      "  24   4.9238916e+05   4.9153403e+05  1.33e-02  3.91e-03  3.64e+02  4.76e-01\r\n",
      "  25   4.9223808e+05   4.9205371e+05  2.05e-03  6.00e-04  5.59e+01  2.34e+00\r\n",
      "  26   4.9220626e+05   4.9214489e+05  5.70e-04  1.64e-04  1.53e+01  7.00e+00\r\n",
      "  27   4.9219250e+05   4.9218404e+05  3.13e-05  2.23e-12  1.13e-08  5.67e+01\r\n",
      "  28   4.9219105e+05   4.9218956e+05  6.94e-06  2.23e-12  5.00e-08  2.63e+03\r\n",
      "  29   4.9219055e+05   4.9218979e+05  7.44e-06  3.44e-12  2.78e-07  9.97e+04\r\n",
      "  30   4.9219058e+05   4.9218982e+05  2.13e-05  1.42e-12  2.60e-06  7.82e+05\r\n",
      "  31   4.9219046e+05   4.9218982e+05  3.61e-05  1.62e-12  8.61e-05  5.55e+06\r\n",
      "  32   4.9219041e+05   4.9218982e+05  2.44e-05  3.84e-12  3.36e-04  3.87e+07\r\n",
      "  33   4.9219021e+05   4.9218982e+05  3.66e-05  1.62e-12  3.06e-03  2.78e+08\r\n",
      "  34   4.9218999e+05   4.9218982e+05  5.66e-05  1.22e-12  6.59e-03  1.97e+09\r\n",
      "Barrier time = 0.01 sec. (7.81 ticks)\r\n",
      "\r\n",
      "Total time on 16 threads = 0.01 sec. (7.81 ticks)\r\n"
     ]
    }
   ],
   "source": [
    "#dicSol_R = subp(x0,u0,ysp_fixed,Y_A,1,0.5,B_drto_s,1)\n",
    "dicSol_R = subp(x0,u0,ysp_fixed,Y_B,2,0.5,B_drto_s,1)\n",
    "\n",
    "#display(dicSol_R['m'])\n",
    "#display(dicSol_R['o'])\n",
    "\n",
    "# Extracting solution for plotting\n",
    "yTraj_R = Vector{Float64}(undef,pD)\n",
    "uTraj_R = Vector{Float64}(undef,pD) \n",
    "yspTraj_R = Vector{Float64}(undef,pD) \n",
    "\n",
    "for ii in 1:pD\n",
    "    yTraj_R[ii] = dicSol_R['y'][ii]\n",
    "    yspTraj_R[ii] = dicSol_R['s'][ii]\n",
    "    uTraj_R[ii] = dicSol_R['u'][ii,1]\n",
    "end;"
   ]
  },
  {
   "cell_type": "markdown",
   "id": "03075f66",
   "metadata": {},
   "source": [
    "## Plotting normal vs. relaxed"
   ]
  },
  {
   "cell_type": "code",
   "execution_count": 16,
   "id": "2bfb17e6",
   "metadata": {},
   "outputs": [],
   "source": [
    "# time series for plotting\n",
    "ts = Vector{Float64}(undef,pD) \n",
    "for i in 1:pD\n",
    "    ts[i] = 1*i\n",
    "end\n",
    "\n",
    "# Creating color array\n",
    "CList = reshape( range(colorant\"red\", stop=colorant\"blue\",length=2), 1, 2);"
   ]
  },
  {
   "cell_type": "code",
   "execution_count": 17,
   "id": "4b9f72a7",
   "metadata": {},
   "outputs": [
    {
     "ename": "LoadError",
     "evalue": "UndefVarError: yTraj_R not defined",
     "output_type": "error",
     "traceback": [
      "UndefVarError: yTraj_R not defined",
      "",
      "Stacktrace:",
      " [1] top-level scope",
      "   @ In[17]:13"
     ]
    }
   ],
   "source": [
    "gr()\n",
    "###########\n",
    "# OUTPUTS #\n",
    "###########\n",
    "# limits\n",
    "p1 = plot(ts,1.05*ones(length(ts)),linestyle = :dot,linecolor = :black,xaxis=\"time[min]\",yaxis=\"y\")\n",
    "p1 = plot!(ts,0.95*ones(length(ts)),linestyle = :dot,linecolor = :black)\n",
    "\n",
    "p1.series_list[1][:label] = \"lim\"\n",
    "p1.series_list[2][:label] = \"\"\n",
    "\n",
    "p1 = plot!(ts,yTraj,linewidth=5,linealpha = 0.3,linecolor = CList[1])\n",
    "p1 = plot!(ts,yTraj_R,linewidth=3,linestyle=:dash,markershape=:xcross,linecolor = CList[2])\n",
    "\n",
    "p1.series_list[3][:label] = \"normal\"\n",
    "p1.series_list[4][:label] = \"relaxed\"\n",
    "\n",
    "display(p1)"
   ]
  },
  {
   "cell_type": "code",
   "execution_count": 18,
   "id": "5d64c705",
   "metadata": {},
   "outputs": [
    {
     "ename": "LoadError",
     "evalue": "UndefVarError: uTraj_R not defined",
     "output_type": "error",
     "traceback": [
      "UndefVarError: uTraj_R not defined",
      "",
      "Stacktrace:",
      " [1] top-level scope",
      "   @ In[18]:9"
     ]
    }
   ],
   "source": [
    "gr()\n",
    "##########\n",
    "# INPUTS #\n",
    "##########\n",
    "# limits\n",
    "p2 = plot(ts,uMax*ones(length(ts)),linestyle = :dot,linecolor = :black,xaxis=\"time[min]\",yaxis=\"u\",legend=false)\n",
    "\n",
    "p2 = plot!(ts,uTraj,linewidth=5,linetype=:steppre,linealpha = 0.3,linecolor = CList[1])\n",
    "p2 = plot!(ts,uTraj_R,linewidth=3,linetype=:steppre,linestyle=:dash,markershape=:xcross,linecolor = CList[2])\n",
    "\n",
    "display(p2)"
   ]
  },
  {
   "cell_type": "code",
   "execution_count": 19,
   "id": "5dbcacbb",
   "metadata": {},
   "outputs": [
    {
     "ename": "LoadError",
     "evalue": "UndefVarError: yspTraj_R not defined",
     "output_type": "error",
     "traceback": [
      "UndefVarError: yspTraj_R not defined",
      "",
      "Stacktrace:",
      " [1] top-level scope",
      "   @ In[19]:9"
     ]
    }
   ],
   "source": [
    "gr()\n",
    "#############\n",
    "# SETPOINTS #\n",
    "#############\n",
    "# limits\n",
    "p3 = plot(ts,yspMax*ones(length(ts)),linestyle = :dot,linecolor = :black,xaxis=\"time[min]\",yaxis=\"ysp\",legend=false)\n",
    "\n",
    "p3 = plot!(ts,yspTraj,linewidth=5,linetype=:steppre,linealpha = 0.3,linecolor = CList[1])\n",
    "p3 = plot!(ts,yspTraj_R,linewidth=3,linetype=:steppre,linestyle=:dash,markershape=:xcross,linecolor = CList[2])\n",
    "\n",
    "display(p3)"
   ]
  },
  {
   "cell_type": "code",
   "execution_count": null,
   "id": "59adddfc",
   "metadata": {},
   "outputs": [],
   "source": []
  }
 ],
 "metadata": {
  "kernelspec": {
   "display_name": "Julia 1.8.5",
   "language": "julia",
   "name": "julia-1.8"
  },
  "language_info": {
   "file_extension": ".jl",
   "mimetype": "application/julia",
   "name": "julia",
   "version": "1.8.5"
  }
 },
 "nbformat": 4,
 "nbformat_minor": 5
}
