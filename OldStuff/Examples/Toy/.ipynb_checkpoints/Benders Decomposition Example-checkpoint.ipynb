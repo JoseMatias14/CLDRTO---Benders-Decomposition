{
 "cells": [
  {
   "cell_type": "markdown",
   "id": "6c801cc9",
   "metadata": {},
   "source": [
    "# Benders decomposition using Julia"
   ]
  },
  {
   "cell_type": "markdown",
   "id": "9d95efc3",
   "metadata": {},
   "source": [
    "Problem\n",
    "\n",
    "$min c_1^T x + c_2^T y$ <br>\n",
    "s.t. <br>\n",
    "$A_1 x + A_2 y \\leq b$ <br>\n",
    "$x \\geq 0 $ <br>\n",
    "$y \\geq 0 $ <br>\n",
    "$x \\in \\mathbb{Z}^n $\n",
    "\n",
    "Master Problem \n",
    "\n",
    "$\\min c_1^T x + \\alpha $ <br>\n",
    "s.t. <br>\n",
    "$x \\geq 0 $ <br>\n",
    "$\\alpha \\geq \\alpha^{(k)} + - \\lambda^{(k),T} A_1 (x - x^{(k)})$\n",
    "\n",
    "Sub Problem  \n",
    "\n",
    "$\\alpha = \\min c_2^T y$ <br>\n",
    "s.t. <br>\n",
    "$A_2 y \\leq b - A_1 x : [\\lambda]$ <br>\n",
    "$y \\geq 0 $ <br>"
   ]
  },
  {
   "cell_type": "code",
   "execution_count": 1,
   "id": "7ffe077b",
   "metadata": {},
   "outputs": [],
   "source": [
    "using JuMP, GLPK, Printf, Plots"
   ]
  },
  {
   "cell_type": "markdown",
   "id": "0c0c292a",
   "metadata": {},
   "source": [
    "### Example\n",
    "\n",
    "\n",
    "$\\min x_1 + 4 x_2 + 2 y_1 + 3 y_2 $ <br>\n",
    "s.t. <br>\n",
    "$ x_1 - 3 x_2 + y_1 - 2 y_2 \\leq -2$ <br>\n",
    "$ - x_1 - 3 x_2 - y_1 - y_2 \\leq -3$ <br>\n",
    "$x, y \\geq 0 $ \n",
    "$x \\in \\mathbb{Z}^n $\n",
    "\n"
   ]
  },
  {
   "cell_type": "code",
   "execution_count": 2,
   "id": "d537d49e",
   "metadata": {},
   "outputs": [],
   "source": [
    "## Parameters\n",
    "c1 = [1,4]\n",
    "c2 = [2,3]\n",
    "A1 = [1 -3; -1 -3] # x coefficients\n",
    "A2 = [1 -2; -1 -1]\n",
    "b = [-2; -3]\n",
    "M = -1000;"
   ]
  },
  {
   "cell_type": "code",
   "execution_count": 16,
   "id": "e64e837b",
   "metadata": {},
   "outputs": [
    {
     "data": {
      "text/plain": [
       "2-element Vector{Float64}:\n",
       " 0.0\n",
       " 1.0"
      ]
     },
     "metadata": {},
     "output_type": "display_data"
    },
    {
     "data": {
      "text/plain": [
       "2-element Vector{Float64}:\n",
       " 0.0\n",
       " 0.0"
      ]
     },
     "metadata": {},
     "output_type": "display_data"
    }
   ],
   "source": [
    "## Modeling the nondecomposed problem\n",
    "nd = Model(GLPK.Optimizer)\n",
    "\n",
    "@variable(nd, x[1:2] ≥ 0, Int)\n",
    "@variable(nd, y[1:2] ≥ 0)\n",
    "\n",
    "@constraint(nd, A1*x + A2*y .≤ b)\n",
    "@objective(nd, Min, c1'*x + c2'*y);\n",
    "\n",
    "# solve master problem\n",
    "optimize!(nd)\n",
    "    \n",
    "xⁿᵈ = value.(x)\n",
    "yⁿᵈ = value.(y)\n",
    "\n",
    "display(xⁿᵈ )\n",
    "display(yⁿᵈ )"
   ]
  },
  {
   "cell_type": "markdown",
   "id": "d554ca0d",
   "metadata": {},
   "source": [
    "# separating master + sub problem \n",
    "\n",
    "Master Problem \n",
    "\n",
    "$\\min x_1 + 4 x_2 + \\alpha $ <br>\n",
    "s.t. <br>\n",
    "$x \\geq 0 $ <br>\n",
    "$\\alpha \\geq - M$\n",
    "\n",
    "Sub Problem  \n",
    "\n",
    "$\\alpha = \\min 2 y_1 + 3 y_2$ <br>\n",
    "s.t. <br>\n",
    "$ x_1 - 3 x_2 + y_1 - 2 y_2 \\leq  - 2: [\\lambda_1]$ <br>\n",
    "$ -x_1 - 3 x_2 - y_1 - y_2  \\leq - 3: [\\lambda_2]$ <br>\n",
    "$x, y \\geq 0 $ \n",
    "$x \\in \\mathbb{Z}^n $$y \\geq 0 $ <br>"
   ]
  },
  {
   "cell_type": "code",
   "execution_count": 11,
   "id": "0a4ea691",
   "metadata": {
    "scrolled": true
   },
   "outputs": [],
   "source": [
    "## Modeling the master problem  --> checking the problem use> print(master)\n",
    "master = Model(GLPK.Optimizer)\n",
    "@variable(master, x[1:2] ≥ 0, Int)\n",
    "@variable(master, α ≥ M)\n",
    "@objective(master, Min, c1'*x + α);"
   ]
  },
  {
   "cell_type": "code",
   "execution_count": 12,
   "id": "8186306a",
   "metadata": {},
   "outputs": [
    {
     "data": {
      "text/plain": [
       "subp (generic function with 1 method)"
      ]
     },
     "execution_count": 12,
     "metadata": {},
     "output_type": "execute_result"
    }
   ],
   "source": [
    "## Modeling the sub problem -- modeling inside a function\n",
    "function subp(x_fixed)\n",
    "    # building subproblem model\n",
    "    sub = Model(GLPK.Optimizer)\n",
    "    @variable(sub, y[1:2] ≥ 0)\n",
    "    @objective(sub, Min, c2'*y)\n",
    "    @constraint(sub, A1*x_fixed + A2*y .≤ b)\n",
    "    optimize!(sub)\n",
    "    \n",
    "    #calling values of the solved subproblem\n",
    "    o = objective_value(sub)\n",
    "    y = value.(y)\n",
    "    all_con = all_constraints(sub, AffExpr, MOI.LessThan{Float64})\n",
    "    λ = dual.(all_con)\n",
    "    \n",
    "    return Dict('o' => o, 'y' => y, 'λ' => λ)\n",
    "end\n"
   ]
  },
  {
   "cell_type": "code",
   "execution_count": 13,
   "id": "224a3ba2",
   "metadata": {},
   "outputs": [
    {
     "data": {
      "text/plain": [
       "Dict{Char, Any} with 3 entries:\n",
       "  'λ' => [-0.333333, -2.33333]\n",
       "  'y' => [1.33333, 1.66667]\n",
       "  'o' => 7.66667"
      ]
     },
     "execution_count": 13,
     "metadata": {},
     "output_type": "execute_result"
    }
   ],
   "source": [
    "subp([0,0])"
   ]
  },
  {
   "cell_type": "code",
   "execution_count": 14,
   "id": "4d58954b",
   "metadata": {},
   "outputs": [
    {
     "data": {
      "text/plain": [
       "print_iteration (generic function with 1 method)"
      ]
     },
     "execution_count": 14,
     "metadata": {},
     "output_type": "execute_result"
    }
   ],
   "source": [
    "function print_iteration(k, args...)\n",
    "    f(x) = Printf.@sprintf(\"%12.4e\",x)\n",
    "    println(lpad(k,9), \" \",join(f.(args), \" \"))\n",
    "    return\n",
    "end"
   ]
  },
  {
   "cell_type": "markdown",
   "id": "5a2ad7fa",
   "metadata": {},
   "source": [
    "## Objective function of the original problem \n",
    "$ c_1^T x + c_2^T y$ <br>\n",
    "Lower bound: $ c_1^T x^{(k)} + \\alpha^{(k)}$ <br>\n",
    "Upper bound: $ c_1^T x^{(k)} + c_2^T y^{(k)}$ \n",
    "\n",
    "\n",
    "## Bender's cuts formula\n",
    "\n",
    "$\\alpha \\geq \\alpha^{(k)} - \\lambda A_1 (x - x^{(k)}) $"
   ]
  },
  {
   "cell_type": "code",
   "execution_count": 15,
   "id": "809c86a7",
   "metadata": {},
   "outputs": [
    {
     "name": "stdout",
     "output_type": "stream",
     "text": [
      "k  x[1]  x[2]  lowerbound     upperbound  gap\n",
      "        1   0.0000e+00   0.0000e+00  -1.0000e+03   7.6667e+00   1.3143e+02\n",
      "        2   5.0400e+02   0.0000e+00  -4.9600e+02   1.2630e+03   1.3927e+00\n",
      "        3   0.0000e+00   2.2200e+02  -1.0800e+02   8.8800e+02   1.1216e+00\n",
      "        4   0.0000e+00   1.0000e+00   4.0000e+00   4.0000e+00   0.0000e+00\n",
      " **** algorithm converged ********\n",
      "r   x1   x2   y1  y2\n",
      "        4   0.0000e+00   0.0000e+00   0.0000e+00   0.0000e+00\n"
     ]
    },
    {
     "name": "stderr",
     "output_type": "stream",
     "text": [
      "\u001b[36m\u001b[1m[ \u001b[22m\u001b[39m\u001b[36m\u001b[1mInfo: \u001b[22m\u001b[39mwe are adding this bender cut 2 x[1] + 8 x[2] + α >= 7.666666666666666\n",
      "\u001b[36m\u001b[1m[ \u001b[22m\u001b[39m\u001b[36m\u001b[1mInfo: \u001b[22m\u001b[39mwe are adding this bender cut -1.5 x[1] + 4.5 x[2] + α >= 3.0\n",
      "\u001b[36m\u001b[1m[ \u001b[22m\u001b[39m\u001b[36m\u001b[1mInfo: \u001b[22m\u001b[39mwe are adding this bender cut α >= 0.0\n"
     ]
    }
   ],
   "source": [
    "println(\"k  x[1]  x[2]  lowerbound     upperbound  gap\")\n",
    "\n",
    "p = plot(legend=false, xlabel=\"iteration\", ylabel=\"OF value\")\n",
    "\n",
    "for k in 1:10\n",
    "    # solve master problem\n",
    "    optimize!(master)\n",
    "    \n",
    "    # lower bound of the original problem\n",
    "    lb = objective_value(master)\n",
    "    xᵏ = value.(x)\n",
    "    \n",
    "    # solve the subproblem to find the upper \n",
    "    ub = c1' * xᵏ + c2' * subp(xᵏ)['y']\n",
    "\n",
    "    # compute optimality gap\n",
    "    gap = (ub - lb)/ub\n",
    "    \n",
    "    # print iteration information\n",
    "    print_iteration(k,xᵏ[1],xᵏ[2],lb, ub, gap)\n",
    "    \n",
    "    plot!([k],[lb], marker=:circle,  markercolor = :green)\n",
    "    plot!([k],[ub], marker=:square, markercolor = :red)\n",
    "    \n",
    "    # check if optimality gap is small enough\n",
    "    if gap < 1e-7\n",
    "        println(\" **** algorithm converged ********\")\n",
    "        \n",
    "        res_x_1 = xᵏ[1] - xⁿᵈ[1]\n",
    "        res_x_2 = xᵏ[2] - xⁿᵈ[2]\n",
    "        res_y_1 = subp(xᵏ)['y'][1] - yⁿᵈ[1]\n",
    "        res_y_2 = subp(xᵏ)['y'][2] - yⁿᵈ[2]\n",
    "\n",
    "        println(\"r   x1   x2   y1  y2\")\n",
    "        print_iteration(k,res_x_1,res_x_1,res_y_1, res_y_2)\n",
    "        \n",
    "        break\n",
    "    end\n",
    "    \n",
    "    # if it is not small enough, add bender's cuts\n",
    "    benderscut = @constraint(master, α ≥ subp(xᵏ)['o'] - (subp(xᵏ)['λ'])'*A1*(x .- xᵏ))\n",
    "    @info \"we are adding this bender cut $(benderscut)\"\n",
    "    \n",
    "\n",
    "end"
   ]
  },
  {
   "cell_type": "code",
   "execution_count": 9,
   "id": "19dcb261",
   "metadata": {},
   "outputs": [],
   "source": [
    "# print(master)"
   ]
  },
  {
   "cell_type": "code",
   "execution_count": null,
   "id": "8ecbbbaa",
   "metadata": {},
   "outputs": [],
   "source": []
  }
 ],
 "metadata": {
  "kernelspec": {
   "display_name": "Julia 1.8.5",
   "language": "julia",
   "name": "julia-1.8"
  },
  "language_info": {
   "file_extension": ".jl",
   "mimetype": "application/julia",
   "name": "julia",
   "version": "1.8.5"
  }
 },
 "nbformat": 4,
 "nbformat_minor": 5
}
