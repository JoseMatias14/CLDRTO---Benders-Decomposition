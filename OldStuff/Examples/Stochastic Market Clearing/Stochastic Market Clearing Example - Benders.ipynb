{
 "cells": [
  {
   "cell_type": "markdown",
   "id": "6c801cc9",
   "metadata": {},
   "source": [
    "# Benders decomposition using Julia"
   ]
  },
  {
   "cell_type": "code",
   "execution_count": null,
   "id": "7ffe077b",
   "metadata": {},
   "outputs": [],
   "source": [
    "using JuMP, CPLEX"
   ]
  },
  {
   "cell_type": "code",
   "execution_count": null,
   "id": "ff34aa04",
   "metadata": {},
   "outputs": [],
   "source": [
    "using Printf, Plots"
   ]
  },
  {
   "cell_type": "code",
   "execution_count": null,
   "id": "fe322b5c",
   "metadata": {},
   "outputs": [],
   "source": [
    "## Parameters\n",
    "# costs\n",
    "cS1 = [10,20]\n",
    "cS2 = [20,80]\n",
    "\n",
    "# scenario probability\n",
    "pi_w = [0.25,0.25,0.25,0.25]\n",
    "\n",
    "# uncertain parameter\n",
    "theta = [30,60,70,10]\n",
    "\n",
    "# bound\n",
    "alpha_down = -6000;"
   ]
  },
  {
   "cell_type": "code",
   "execution_count": null,
   "id": "0a4ea691",
   "metadata": {
    "scrolled": true
   },
   "outputs": [],
   "source": [
    "## Modeling the master problem  --> checking the problem use> print(master)\n",
    "#master = Model(OSQP.Optimizer)\n",
    "master = Model(CPLEX.Optimizer)\n",
    "set_silent(master)\n",
    "\n",
    "@variable(master, 0 ≤ p_da_g1 ≤ 100, start = 90)\n",
    "@variable(master, 0 ≤ p_da_g2 ≤ 30, start = 30)\n",
    "@variable(master, 0 ≤ p_da_w ≤ 70, start = 0)\n",
    "@variable(master, α ≥ alpha_down)\n",
    "\n",
    "@constraint(master, p_da_g1 + p_da_g2 + p_da_w == 120)\n",
    "\n",
    "@objective(master, Min, cS1[1]*p_da_g1 + cS1[2]*p_da_g2 + α);"
   ]
  },
  {
   "cell_type": "code",
   "execution_count": null,
   "id": "8186306a",
   "metadata": {},
   "outputs": [],
   "source": [
    "## Modeling the sub problem (scenario) -- modeling inside a function\n",
    "function subp(u_fixed,theta_unc,prob_s)\n",
    "    # building subproblem model\n",
    "    #sub = Model(OSQP.Optimizer)\n",
    "    sub = Model(CPLEX.Optimizer)\n",
    "    set_silent(sub)\n",
    "    \n",
    "    # same variables as master problem \n",
    "    @variable(sub,p_da_g1)\n",
    "    @variable(sub,p_da_g2)\n",
    "    @variable(sub,p_da_w)\n",
    "    # subproblem (exclusive) variables\n",
    "    @variable(sub, -30 ≤ p_rt_g2 ≤ 30)\n",
    "    @variable(sub, 0 ≤ p_w_spill ≤ theta_unc)\n",
    "    @variable(sub, 0 ≤ p_curtail ≤ 120)\n",
    "    \n",
    "    @constraint(sub, 0 ≤ p_da_g2 + p_rt_g2 ≤ 30)\n",
    "    @constraint(sub, p_rt_g2 + (theta_unc -  p_da_w - p_w_spill) + p_curtail == 0)\n",
    "    \n",
    "    @constraint(sub, p_da_g1 - u_fixed[1] == 0)\n",
    "    @constraint(sub, p_da_g2 - u_fixed[2] == 0)\n",
    "    @constraint(sub, p_da_w - u_fixed[3] == 0)\n",
    "    \n",
    "    @objective(sub, Min, prob_s*(cS2[1]*p_rt_g2 + cS2[2]*p_curtail))\n",
    "    #print(sub)\n",
    "    #@show sub\n",
    "    \n",
    "    optimize!(sub)\n",
    "    #a = termination_status(sub)\n",
    "    \n",
    "    #calling values of the solved subproblem\n",
    "    o = objective_value(sub)\n",
    "    r = value(p_rt_g2)\n",
    "    s = value(p_w_spill)\n",
    "    c = value(p_curtail)\n",
    "    all_con = all_constraints(sub, AffExpr, MOI.EqualTo{Float64})\n",
    "    #print(all_con)\n",
    "    λ = dual.(all_con)\n",
    "    \n",
    "    return Dict('o' => o, 'λ' => λ, 'r' => r, 's' => s, 'c' => c)\n",
    "end\n"
   ]
  },
  {
   "cell_type": "code",
   "execution_count": null,
   "id": "224a3ba2",
   "metadata": {},
   "outputs": [],
   "source": [
    "#subp([90,30,0],10,0.25)"
   ]
  },
  {
   "cell_type": "code",
   "execution_count": null,
   "id": "4d58954b",
   "metadata": {},
   "outputs": [],
   "source": [
    "function print_iteration(k, args...)\n",
    "    f(x) = Printf.@sprintf(\"%12.4e\",x)\n",
    "    println(lpad(k,9), \" \",join(f.(args), \" \"))\n",
    "    return\n",
    "end"
   ]
  },
  {
   "cell_type": "code",
   "execution_count": null,
   "id": "809c86a7",
   "metadata": {
    "scrolled": true
   },
   "outputs": [],
   "source": [
    "println(\"k  p_da_g1  p_da_g2  p_da_w   lowerbound    upperbound  gap\")\n",
    "\n",
    "p = plot(legend=false, xlabel=\"iteration\", ylabel=\"OF value\")\n",
    "\n",
    "for k in 1:100\n",
    "    # solve master problem\n",
    "    optimize!(master)\n",
    "    \n",
    "    # lower bound of the original problem\n",
    "    lb = objective_value(master)\n",
    "    p_da_g1ᵏ = value(p_da_g1)\n",
    "    p_da_g2ᵏ = value(p_da_g2)\n",
    "    p_da_wᵏ = value(p_da_w)\n",
    "    \n",
    "    # solve the subproblem to find the upper \n",
    "    ub = cS1[1]*p_da_g1ᵏ + cS1[2]*p_da_g2ᵏ + sum(subp([p_da_g1ᵏ,p_da_g2ᵏ,p_da_wᵏ],theta[ii],pi_w[ii])['o'] for ii in 1:4)\n",
    "    \n",
    "    # compute optimality gap\n",
    "    gap = abs(ub - lb)/abs(ub)\n",
    "    \n",
    "    # print iteration information\n",
    "    print_iteration(k,p_da_g1ᵏ,p_da_g2ᵏ,p_da_wᵏ,lb,ub,gap)\n",
    "\n",
    "    plot!([k],[lb], marker=:circle,  markercolor = :green)\n",
    "    plot!([k],[ub], marker=:square, markercolor = :red)\n",
    "    \n",
    "    # check if optimality gap is small enough\n",
    "    if gap < 1e-5 || k == 100\n",
    "        println(\" **** solution found ********\")\n",
    "        println(\"s  p_rt_g2  p_spill  p_curt\")\n",
    "        for wi in 1:4\n",
    "            rt = subp([p_da_g1ᵏ,p_da_g2ᵏ,p_da_wᵏ],theta[wi],pi_w[wi])['r']\n",
    "            spill = subp([p_da_g1ᵏ,p_da_g2ᵏ,p_da_wᵏ],theta[wi],pi_w[wi])['s']\n",
    "            curt = subp([p_da_g1ᵏ,p_da_g2ᵏ,p_da_wᵏ],theta[wi],pi_w[wi])['c']\n",
    "            print_iteration(wi,rt,spill,curt)\n",
    "        end\n",
    "        \n",
    "        break\n",
    "    end\n",
    "    \n",
    "    # sensitivity (num scenario, num var)\n",
    "    lambda_M = [subp([p_da_g1ᵏ,p_da_g2ᵏ,p_da_wᵏ],theta[wi],pi_w[wi])['λ'] for wi in 1:4]    \n",
    "    benderscut = @constraint(master, α ≥  sum(subp([p_da_g1ᵏ,p_da_g2ᵏ,p_da_wᵏ],theta[ii],pi_w[ii])['o'] for ii in 1:4) + sum(lambda_M[ii][3] for ii in 1:4)*(p_da_g2 - p_da_g2ᵏ) + sum(lambda_M[ii][4] for ii in 1:4)*(p_da_w - p_da_wᵏ))\n",
    "    #@info \"Adding this bender cut $(benderscut)\"\n",
    "end"
   ]
  },
  {
   "cell_type": "code",
   "execution_count": null,
   "id": "19dcb261",
   "metadata": {},
   "outputs": [],
   "source": [
    "#print(master)"
   ]
  },
  {
   "cell_type": "code",
   "execution_count": null,
   "id": "76142059",
   "metadata": {},
   "outputs": [],
   "source": [
    "display(p)"
   ]
  }
 ],
 "metadata": {
  "kernelspec": {
   "display_name": "Julia 1.8.5",
   "language": "julia",
   "name": "julia-1.8"
  },
  "language_info": {
   "file_extension": ".jl",
   "mimetype": "application/julia",
   "name": "julia",
   "version": "1.8.5"
  }
 },
 "nbformat": 4,
 "nbformat_minor": 5
}
