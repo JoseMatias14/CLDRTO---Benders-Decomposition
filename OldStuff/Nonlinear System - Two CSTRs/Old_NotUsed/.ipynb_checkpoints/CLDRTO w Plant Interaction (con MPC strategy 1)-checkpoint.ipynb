{
 "cells": [
  {
   "cell_type": "markdown",
   "id": "39bb43e3",
   "metadata": {},
   "source": [
    "**This code computes the decomposed/monolithic solution of a Closed-Loop DRTO problem and implement in the plant.**\n",
    "\n",
    "- The case study is a two nonlinear reactors in parallel from:*2018, Economic Coordination of Distributed Nonlinear MPC Systems using Closed-loop Prediction of a Nonlinear Dynamic Plant, H Li and C L E Swartz* \n",
    "- The underlying control structure (modeled in the CLDRTO model) contains two constrained MPC, which are represented by their KKT conditions in the DRTO problem. \n",
    "- The problem is posed as a scenario-based stochastic programming problem\n",
    "- The uncertainty represented by the scenarios comes from the the heat transfer coefficient (UA) \n",
    "- We run a Monte Carlo Analysis of the performance of both strategies for an arbitrary number of scenarios\n",
    "\n",
    "--> see jupyter notebook \"Preliminaries\" and \"Monolithic and Decomposed CLRTO Comparison\" for details\n",
    "\n",
    "AUTHOR: Jose Matias <assumpcj@mcmaster.ca>\n",
    "DATE: August 2023"
   ]
  },
  {
   "cell_type": "markdown",
   "id": "146397a9",
   "metadata": {},
   "source": [
    "[1.Model and Simulation Parameters](#sec1) <br>\n",
    "[2.Building Auxiliary Functions](#sec2)<br>\n",
    "[2.1. MPC matrices builder](#subsec21)<br>\n",
    "[2.2. MPC solver](#subsec22)<br>\n",
    "[2.3. Monolithic CLDRTO](#subsec23)<br>\n",
    "[2.4. Decomposed CLDRTO](#subsec24)<br>\n",
    "[2.5. Plant Model](#subsec25)<br>\n",
    "[3. Implementing CL-DRTO in closed loop with the plant](#sec3)<br>"
   ]
  },
  {
   "cell_type": "code",
   "execution_count": 1,
   "id": "67ea638f",
   "metadata": {},
   "outputs": [],
   "source": [
    "using LinearAlgebra, JuMP, Ipopt, CPLEX, Plots, DataFrames, LaTeXStrings, DifferentialEquations, Distributions, Random"
   ]
  },
  {
   "cell_type": "markdown",
   "id": "d51ccb2b",
   "metadata": {},
   "source": [
    "<a id=\"sec1\"></a>"
   ]
  },
  {
   "cell_type": "markdown",
   "id": "b2933767",
   "metadata": {},
   "source": [
    "# Model and Simulation Parameters"
   ]
  },
  {
   "cell_type": "markdown",
   "id": "a4c42dcf",
   "metadata": {},
   "source": [
    "- Simulation Parameters"
   ]
  },
  {
   "cell_type": "code",
   "execution_count": 2,
   "id": "cb37bc36",
   "metadata": {},
   "outputs": [],
   "source": [
    "# Simulation sampling time\n",
    "dt = 0.5 #[s]\n",
    "\n",
    "# Plant simulation time span\n",
    "tspan = (0.0,dt)\n",
    "\n",
    "# Set seed value for choosing the plant parameter\n",
    "seed = 42\n",
    "Random.seed!(seed)\n",
    "\n",
    "# Optimization horizon\n",
    "ndrto = 20 # dt_DRTO\n",
    "\n",
    "# Optimization horizon \n",
    "Δdrto = 4 # dt_DRTO\n",
    "\n",
    "# time series for plotting\n",
    "t_drto = Vector{Float64}(undef,ndrto) \n",
    "for kk in 1:ndrto\n",
    "    t_drto[kk] = dt*kk\n",
    "end\n",
    "\n",
    "# number of components\n",
    "nc = 3 #[-]\n",
    "# number of inputs\n",
    "nu = 2 #[-]\n",
    "# number of reactors\n",
    "nrt = 2 #[-]\n",
    "# number of reactions\n",
    "nrc = 2 #[-]\n",
    "# number of MPCs\n",
    "numpc = 2 \n",
    "\n",
    "# initial value\n",
    "C0 = [0.124287 0.216517;\n",
    "    19.725 19.659;\n",
    "    0.150668 0.124504]\n",
    "T0 = [341.7216268417903 331.0792925101132]\n",
    "\n",
    "# \"algebraic states\"\n",
    "C_in0 = [20.0 10.0621;\n",
    "          0 9.86252;\n",
    "          0 0.0753341]\n",
    "T_in0 = [299.99999999998846 320.8608134932841]\n",
    "Tj_out0 = [316.6886507367161 297.43171700404525]\n",
    "\n",
    "# \"inputs\"\n",
    "Q0 = 0.2\n",
    "Qm0 = 0.2\n",
    "\n",
    "# initial value of u\n",
    "u0 = [Q0 Qm0]\n",
    "\n",
    "# States (algebraic and differential): CA1,CB1,CC1,T1,Tj1_out,CA2,CB2,CC2,T2,Tj2_out\n",
    "x0 = [C0[1,1], C0[2,1], C0[3,1],T0[1],Tj_out0[1],C0[1,2], C0[2,2], C0[3,2],T0[2],Tj_out0[2]];"
   ]
  },
  {
   "cell_type": "markdown",
   "id": "ac38749b",
   "metadata": {},
   "source": [
    "- Model Parameters"
   ]
  },
  {
   "cell_type": "code",
   "execution_count": 3,
   "id": "9bb381c9",
   "metadata": {},
   "outputs": [],
   "source": [
    "# feed to reactor 1 concentrations c = (A,B,C)\n",
    "C1_in = [20.0, 0, 0] #[kmol/m3]\n",
    "\n",
    "# temperature of feed to reactor 1\n",
    "T1_in = 300.0 #[K]\n",
    "\n",
    "# feed to mixer concentration c = (A,B,C)\n",
    "Cm_in = [20.0, 0, 0]\n",
    "\n",
    "# temperature of feed to mixer\n",
    "Tm_in = 300.0 #[K]\n",
    "\n",
    "# feed flowrate of cooling water to reactor jacket r = (1,2)\n",
    "Qj_in = [0.7, 0.7] #[m3/s]\n",
    "\n",
    "# cooling water temperature to reactor jacket r = (1,2)\n",
    "Tj_in = [300.0, 275.0] #[m3/s]\n",
    "\n",
    "# reactor volumetric holdup r = (1,2)\n",
    "V = [5.0, 5.0] #[m3]\n",
    "\n",
    "# heat transfer coefficient\n",
    "Ua = [0.35, 0.35] #[m3/s]\n",
    "\n",
    "# reaction rate constant e = (I,II)\n",
    "k0 = [2.7e8, 160.0] #[1/s]\n",
    "\n",
    "# reaction activation energy e = (I,II)\n",
    "ER = [6000.0, 4500.0] #[K]\n",
    "\n",
    "# heat of reaction e = (I,II)\n",
    "dH_pcp = -[5.0, 5.0] #[m3 K/kmol] \n",
    "\n",
    "# stochiometric matrix \n",
    "Ms = [-1 0;\n",
    "       1 -1;\n",
    "       0 1];"
   ]
  },
  {
   "cell_type": "code",
   "execution_count": 4,
   "id": "ef2eb729",
   "metadata": {},
   "outputs": [],
   "source": [
    "# Uncertain parameters: Ua1 \n",
    "# nominal value\n",
    "pNom = 0.35\n",
    "# standard deviation associated with uncertainty\n",
    "deltaPar = 0.01*0.007; "
   ]
  },
  {
   "cell_type": "markdown",
   "id": "177c50a5",
   "metadata": {},
   "source": [
    "- Economic Optimization Problem Parameters"
   ]
  },
  {
   "cell_type": "code",
   "execution_count": 5,
   "id": "fd6b1852",
   "metadata": {},
   "outputs": [],
   "source": [
    "# feed supply limitation\n",
    "Qf_max = 0.8 #[m3/s] \n",
    "\n",
    "# safety restriction (avoiding temperature run away) -- (350)\n",
    "Tr_max = 360 #[K]\n",
    "\n",
    "# product specifications\n",
    "cA2_max = 0.3 #[kmol/m3]\n",
    "\n",
    "# max cooling water outlet temperature r = (1,2) ([340, 310])\n",
    "Tj_max = [340, 310] #[K]\n",
    "\n",
    "# min feed to reactor 1\n",
    "Q_min = 0.05 #[m3/s]\n",
    "\n",
    "# min feed to mixer\n",
    "Qm_min = 0.05; #[m3/s]\n",
    "\n",
    "# Output bounds (T1, T2)\n",
    "yMin = [100.0 100.0] #K\n",
    "yMax = [350.0 350.0] #K\n",
    "\n",
    "# Setpoint bounds (T1, T2)\n",
    "yspMin = [100.0 100.0] #K\n",
    "yspMax = [360.0 360.0] #K\n",
    "\n",
    "# Input bounds (Q1, Qm)\n",
    "uMin = [0.050 0.050] #K\n",
    "uMax = [0.805 0.800]; #K"
   ]
  },
  {
   "cell_type": "markdown",
   "id": "6c41f2d6",
   "metadata": {},
   "source": [
    "- Steady-state optimal solution"
   ]
  },
  {
   "cell_type": "code",
   "execution_count": 6,
   "id": "a0f950a9",
   "metadata": {},
   "outputs": [],
   "source": [
    "# concentration related variables\n",
    "C0_star = [0.114545 0.174342;\n",
    "    19.7379 19.6938;\n",
    "    0.147529 0.13187]\n",
    "\n",
    "T0_star = [350.00000000404816 337.5000000227455]\n",
    "T_in0_star = [300.0 327.5923855099112]\n",
    "Tj_out0_star = [320.00000000161924 300.0000000090982]\n",
    "Q0_star = [0.27907949788513375 0.5057183218310063]\n",
    "Qm0_star = 0.22663882394587254\n",
    "\n",
    "solSS = Dict('C' => C0_star,\n",
    "             'T' => T0_star,\n",
    "             'I' => T_in0_star, \n",
    "             'J' => Tj_out0_star,\n",
    "             'Q' => Q0_star,\n",
    "             'M' => Qm0_star);"
   ]
  },
  {
   "cell_type": "markdown",
   "id": "4fe8af5f",
   "metadata": {},
   "source": [
    "- MPC Parameters\n",
    "MPC1: reactor 1 (Q1 <-> T1) <br>\n",
    "MPC2: reactor 2 (Qm <-> T2)"
   ]
  },
  {
   "cell_type": "code",
   "execution_count": 7,
   "id": "e307e215",
   "metadata": {},
   "outputs": [],
   "source": [
    "##########\n",
    "# MODELS #\n",
    "##########\n",
    "# reference for deviation variables\n",
    "# MPC 1\n",
    "T1_0_bar = 350.00000000404816\n",
    "Q1_0_bar = 0.27907949788513375\n",
    "\n",
    "# MPC 2\n",
    "T2_0_bar = 337.5000000227455\n",
    "Qm_0_bar = 0.22663882394587254\n",
    "\n",
    "yref = [T1_0_bar T2_0_bar]\n",
    "uref = [Q1_0_bar Qm_0_bar]\n",
    "\n",
    "# Linear SISO model coefficients\n",
    "# MPC1\n",
    "a1_hat = 0.9444968979045645\n",
    "b1_hat = 4.755754997301486\n",
    "\n",
    "# MPC2\n",
    "a2_hat = 0.9256356006985642\n",
    "b2_hat = 5.70696857693315\n",
    "\n",
    "# initial value of xMPC\n",
    "xMPC0 = [T0[1] - T1_0_bar, T0[2] - T2_0_bar]\n",
    "\n",
    "##########\n",
    "# TUNING #\n",
    "##########\n",
    "# prediction horizon \n",
    "p = 5\n",
    "\n",
    "# control horizon \n",
    "m = 3\n",
    "\n",
    "# output tracking weight\n",
    "q = 1\n",
    "\n",
    "# move supression weight\n",
    "r = [150,500]\n",
    "\n",
    "# input bounds\n",
    "u_mpc_lb = 0.050\n",
    "u_mpc_ub = 0.805\n",
    "\n",
    "##################\n",
    "# KKT CONDITIONS #\n",
    "##################\n",
    "# matrix to compute the gradients of the input bound constraints\n",
    "conMatrix = [-I(m); I(m)]\n",
    "\n",
    "# Regularized CC function \n",
    "epsCC = [1e-1 1e-1 1e-1 1e-1 1e-1 1e-1];"
   ]
  },
  {
   "cell_type": "markdown",
   "id": "7d89cd2c",
   "metadata": {},
   "source": [
    "- Preparing Orthogonal Collocation"
   ]
  },
  {
   "cell_type": "code",
   "execution_count": 8,
   "id": "f7d87f6a",
   "metadata": {},
   "outputs": [],
   "source": [
    "# Parameters for orthogonal collocation\n",
    "#  Radau Collocation Points 1st degree polynomial == Backward Euler\n",
    "radau  = [0.0 1.00000]\n",
    "\n",
    "# number of collocation points (initial point is also considered)\n",
    "ncp = length(radau) \n",
    "\n",
    "# Collocation parameters and radau time series\n",
    "colmat = [-1.0 -1.0;\n",
    "          1.0 1.0]\n",
    "\n",
    "# length of one finite element on the time horizon\n",
    "h = dt;          "
   ]
  },
  {
   "cell_type": "markdown",
   "id": "e3f7955e",
   "metadata": {},
   "source": [
    "- Bender's Decomposition"
   ]
  },
  {
   "cell_type": "code",
   "execution_count": 9,
   "id": "eb669196",
   "metadata": {},
   "outputs": [],
   "source": [
    "# max number of iteration (50)\n",
    "benIterMax = 75\n",
    "\n",
    "# optimality gap (relative) tolerance \n",
    "optGap = 1e-2;"
   ]
  },
  {
   "cell_type": "markdown",
   "id": "61521103",
   "metadata": {},
   "source": [
    "<a id=\"sec2\"></a>"
   ]
  },
  {
   "cell_type": "markdown",
   "id": "2bed46e2",
   "metadata": {},
   "source": [
    "# Building auxiliary functions"
   ]
  },
  {
   "cell_type": "markdown",
   "id": "e3b44c70",
   "metadata": {},
   "source": [
    "<a id=\"subsec21\"></a>"
   ]
  },
  {
   "cell_type": "markdown",
   "id": "722e6ed8",
   "metadata": {},
   "source": [
    "## MPC matrices builder"
   ]
  },
  {
   "cell_type": "code",
   "execution_count": 10,
   "id": "2196febb",
   "metadata": {},
   "outputs": [],
   "source": [
    "function MPC_matrices(A,B,C,p,m,q,r)\n",
    "    ###########\n",
    "    # inputs: #\n",
    "    ###########\n",
    "    # A,B,C - System model\n",
    "    # p, m - prediction and control horizon\n",
    "    # q, r - setpoint and input usage tuning parameters\n",
    "    \n",
    "    # extracting dimensions from system model\n",
    "    nx = size(A,1) # states\n",
    "    nu = size(B,2) # inputs\n",
    "    ny = size(C,1) # outputs\n",
    "    \n",
    "    # adding disturbance model\n",
    "    Ad = [A zeros(nx,ny); zeros(ny,nx) I(ny)]\n",
    "    Bd = [B; zeros(ny,nu)]\n",
    "    Cd = [C ones(ny,ny)]\n",
    "    \n",
    "    # building matrices for MPC\n",
    "    Psi = Cd*Ad\n",
    "    for ii in 2:p\n",
    "        Psi = [Psi;  Cd*Ad^ii]\n",
    "    end\n",
    "\n",
    "    # Computing Dynamic Matrix\n",
    "    a = Cd*Bd\n",
    "    for ii in 2:p\n",
    "        a = [a; Cd*Ad^(ii - 1)*Bd]\n",
    "    end\n",
    "    DynM = a\n",
    "\n",
    "    for ii in 1:(m - 2)\n",
    "        a = [zeros(ny,nu);a[1:(p-1)*ny,:]]\n",
    "        DynM = [DynM  a]\n",
    "    end\n",
    "\n",
    "    # adjusting dynamic matrix for since p > m (last column)\n",
    "    b = Cd*Bd\n",
    "\n",
    "    Ai = I(nx+1) # adding disturbance to the states\n",
    "    for ii = 1:(p - m)\n",
    "        Ai = Ai + Ad^ii\n",
    "        b = [b;Cd*Ai*Bd]\n",
    "    end\n",
    "\n",
    "    Theta=[DynM [zeros(ny*(m-1),nu);b]]\n",
    "    \n",
    "    # Creating Qbar and Rbar matrices\n",
    "    Qbar = Diagonal([q for ii in 1:p])\n",
    "    Rbar = Diagonal([r for ii in 1:m])\n",
    "\n",
    "    # Creating input movement OF penalty matrix \n",
    "    M=[zeros((m-1)*nu,nu) I(nu*(m-1)); zeros(nu) zeros(nu,nu*(m-1))]\n",
    "    Ibar=[I(nu); zeros(nu*(m-1),nu)]\n",
    "    IM = I(nu*m) - M';\n",
    "    \n",
    "    # Matrix H\n",
    "    H = Theta'*Qbar*Theta + IM'*Rbar*IM;\n",
    "    \n",
    "    return Dict('A' => A, 'B' => B, 'C' => C, 'H' => H, 'Θ' => Theta, 'Ψ' => Psi, 'Q' => Qbar, 'I' => Ibar, 'R' => Rbar, 'M' => IM)\n",
    "end;"
   ]
  },
  {
   "cell_type": "markdown",
   "id": "2cdcb41c",
   "metadata": {},
   "source": [
    "<a id=\"subsec23\"></a>"
   ]
  },
  {
   "cell_type": "markdown",
   "id": "900fd302",
   "metadata": {},
   "source": [
    "## MPC solver\n",
    "\n",
    "- Building function for computing MPC solution (solving QP)"
   ]
  },
  {
   "cell_type": "code",
   "execution_count": 11,
   "id": "b9677c35",
   "metadata": {},
   "outputs": [],
   "source": [
    "function solveMPC(xkk,dekk,uk_1,yspk,umin,umax,yref,uref,mpc,p,m)\n",
    "    ###########\n",
    "    # inputs: #\n",
    "    ###########\n",
    "    # xkk - current states (MPC model) \n",
    "    # dekk - disturbance estimate \n",
    "    # uk_1 - inputs at the current iteration, already implemented on the plant\n",
    "    # yspk - setpoint trajectory computed by CL-DRTO\n",
    "    # umin, umax - input bounds\n",
    "    # yref, uref - reference points for computing deviation variables\n",
    "    # mpcModel - System model\n",
    "    # p, m - prediction and control horizon\n",
    "    \n",
    "    MPC_con = Model(Ipopt.Optimizer)\n",
    "    set_silent(MPC_con)\n",
    "    \n",
    "    ####################\n",
    "    # Set up variables #\n",
    "    ####################\n",
    "    # inputs computed by MPCs\n",
    "    @variable(MPC_con, (umin - uref) ≤ u[1:m] ≤ (umax - uref) )\n",
    "    \n",
    "    ######################################\n",
    "    # Set up constraints and expressions #\n",
    "    ######################################\n",
    "    # for OF computation\n",
    "    @expression(MPC_con, cfT, (mpc['Ψ']*[xkk;dekk] - (yspk - yref)*ones(p,1))'*mpc['Q']*mpc['Θ'] - (uk_1 - uref)'*mpc['I']'*mpc['R']*mpc['M'])\n",
    "        \n",
    "    #############################\n",
    "    # Set up objective function #\n",
    "    #############################\n",
    "    @objective(MPC_con, Min, sum(u[jj]*sum(mpc['H'][jj,ii]*u[ii] for ii in 1:m) for jj in 1:m) + 2*sum(cfT[jj]*u[jj] for jj = 1:m))\n",
    "    # @show MPC_con\n",
    "\n",
    "    #################\n",
    "    # Solve Problem #\n",
    "    #################\n",
    "    optimize!(MPC_con)\n",
    "    \n",
    "    if has_values(MPC_con)\n",
    "        flag = 1\n",
    "    else\n",
    "        flag = 0\n",
    "    end\n",
    "\n",
    "    #calling values of the solved problem\n",
    "    ϕ = objective_value(MPC_con)\n",
    "    uArray = value.(u) .+ uref\n",
    "\n",
    "    return Dict('ϕ' => ϕ,'u' => uArray, 'f' => flag)\n",
    "end;"
   ]
  },
  {
   "cell_type": "markdown",
   "id": "f2860f8a",
   "metadata": {},
   "source": [
    "<a id=\"subsec23\"></a>"
   ]
  },
  {
   "cell_type": "markdown",
   "id": "12964a06",
   "metadata": {},
   "source": [
    "## Monolithic solution of scenario-based CLDRTO"
   ]
  },
  {
   "cell_type": "code",
   "execution_count": 12,
   "id": "e5486fc7",
   "metadata": {},
   "outputs": [],
   "source": [
    "function MS_CLDRTO(C_0,T_0,u_0,xMPC_0,UaTemp,ns,solNom)\n",
    "    ###########\n",
    "    # inputs: #\n",
    "    ###########\n",
    "    # C_0, T_0 - concentration and temperature states at the current iteration (beginning of DRTO horizon)\n",
    "    # u_0 - current input implemented in the plant\n",
    "    # xMPC_0 - current MPC states\n",
    "    # UaTemp - vector containing all the values of the uncertain parameter (Ua[1]) and Ua[2]\n",
    "    # nScen - number of scenarios\n",
    "    # solNom - nominal solution\n",
    "    \n",
    "    # Assuming equiprobable scenarios\n",
    "    pScen = 1.0/ns\n",
    "    \n",
    "    # JuMP model\n",
    "    model_ms = Model(Ipopt.Optimizer)\n",
    "    set_optimizer_attribute(model_ms, \"warm_start_init_point\", \"yes\")\n",
    "    #set_optimizer_attribute(model_ms, \"print_level\", 5)\n",
    "    set_optimizer_attribute(model_ms, \"max_cpu_time\", 300.0) # 5 min\n",
    "    set_silent(model_ms)\n",
    "\n",
    "    ####################\n",
    "    # Set up variables #\n",
    "    ####################\n",
    "    # DRTO model variables\n",
    "    @variable(model_ms, C[1:nc, 1:nrt, 1:ndrto, 1:ncp, 1:ns] ≥ 0)           # [kmol/m3] concentration (diff states)\n",
    "    @variable(model_ms, T[rt=1:nrt, 1:ndrto, 1:ncp, 1:ns] ≥ Tj_in[rt])      # [K] reactor temperature (diff states)\n",
    "    @variable(model_ms, J[1:ndrto, 1:ncp, 1:ns])                            # [$] objective function (diff states)\n",
    "    @variable(model_ms, Cdot[1:nc, 1:nrt, 1:ndrto, 1:ncp, 1:ns])            # [kmol/m3/s] concentration (time derivative)\n",
    "    @variable(model_ms, Tdot[1:nrt, 1:ndrto, 1:ncp, 1:ns])                  # [K/s] reactor temperature (time derivative)\n",
    "    @variable(model_ms, Jdot[1:ndrto, 1:ncp, 1:ns])                         # [$/s] objective function (time derivative\n",
    "    @variable(model_ms, Tj_out[rt=1:nrt, 1:ndrto, 1:ncp, 1:ns] ≥ Tj_in[rt]) # [K] reactor temperature (diff states)\n",
    "    @variable(model_ms, C_in[1:nc, 1:nrt, 1:ndrto, 1:ncp, 1:ns] ≥ 0)        # [kmol/m3] inlet concentration (alg. states)\n",
    "    @variable(model_ms, T_in[rt=1:nrt, 1:ndrto, 1:ncp, 1:ns] ≥ Tj_in[rt])   # [K] inlet temperature (alg. states)\n",
    "    @variable(model_ms, Q_min ≤ Q[1:nrt, 1:ndrto, 1:ns] ≤ Qf_max)           # [m3/s] flowrate to reactor\n",
    "    @variable(model_ms, Qm_min ≤ Qm[1:ndrto, 1:ns] ≤ Qf_max)                # [m3/s] flowrate to mixer\n",
    "\n",
    "    # MPC model variables (SISO) -> deviation form\n",
    "    @variable(model_ms, xMPC[1:numpc, 1:ndrto, 1:ns])\n",
    "    #@variable(model_ms, yMPC[1:numpc, 1:ndrto, 1:ns])\n",
    "    @variable(model_ms, uMPC[1:numpc, 1:ndrto, 1:m, 1:ns])\n",
    "    \n",
    "    # MPC <-> DRTO model deviation\n",
    "    @variable(model_ms, de[1:numpc,1:ndrto, 1:ns])\n",
    "    \n",
    "    # Constrained MPC KKT conditions (upper and lower bounds for each input)\n",
    "    @variable(model_ms, mu_g[1:numpc,1:ndrto,1:(2*m), 1:ns] ≥ 0.0) \n",
    "\n",
    "    # setpoints for the controllers sent to the plant (*CL-DRTO degrees of freedom)\n",
    "    @variable(model_ms, yspMin[nct] ≤ ysp[nct = 1:numpc,1:ndrto, 1:ns] ≤ yspMax[nct])\n",
    "\n",
    "    #####################################\n",
    "    # Set up initial guesses for solver #\n",
    "    #####################################\n",
    "    if solNom isa Dict # if gives flexibility to NOT initialize variables w/ trajectories\n",
    "        for ss in 1:ns\n",
    "            for kk in 1:ndrto\n",
    "                for jj in 1:ncp\n",
    "                    for rr in 1:nrt\n",
    "                        for cc in 1:nc\n",
    "                            # concentration related variables\n",
    "                            set_start_value(C[cc,rr,kk,jj,ss], solNom['C'][cc,rr,kk,jj,1]) \n",
    "                        end # components loop\n",
    "\n",
    "                        # temperature related variables\n",
    "                        set_start_value(T[rr,kk,jj,ss], solNom['T'][rr,kk,jj,1]) \n",
    "                        set_start_value(T_in[rr,kk,jj,ss], solNom['I'][rr,kk,jj,1])\n",
    "                        set_start_value(Tj_out[rr,kk,jj,ss], solNom['J'][rr,kk,jj,1])\n",
    "\n",
    "                    end # reactors loop\n",
    "                end # collocation points loop\n",
    "\n",
    "                # MV's\n",
    "                for rr in 1:nrt\n",
    "                    set_start_value(Q[rr,kk,ss], solNom['Q'][rr,kk,1])  \n",
    "                end\n",
    "                set_start_value(Qm[kk,ss], solNom['M'][kk,1]) \n",
    "\n",
    "                for mm in 1:m\n",
    "                    set_start_value(uMPC[1,kk,mm,ss], solNom['u'][1,kk,mm,1])\n",
    "                    set_start_value(uMPC[2,kk,mm,ss], solNom['u'][2,kk,mm,1])\n",
    "                end\n",
    "                \n",
    "                for mm in 1:(2*m)\n",
    "                    set_start_value(mu_g[1,kk,mm,ss], solNom['μ'][1,kk,mm,1])\n",
    "                    set_start_value(mu_g[2,kk,mm,ss], solNom['μ'][2,kk,mm,1])\n",
    "                end\n",
    "            end # finite elements loop\n",
    "        end # scenarios loop\n",
    "    else # Set up initial guesses for solver: using opt. steady-state previoulsy computed\n",
    "        for ss in 1:ns\n",
    "            for kk in 1:ndrto\n",
    "                for jj in 1:ncp\n",
    "                    for rr in 1:nrt\n",
    "                        for cc in 1:nc\n",
    "                            # concentration related variables\n",
    "                            set_start_value(C[cc,rr,kk,jj,ss], C0_star[cc,rr]) \n",
    "                            set_start_value(C[cc,rr,kk,jj,ss], C0_star[cc,rr]) \n",
    "                        end # components loop\n",
    "\n",
    "                        # temperature related variables\n",
    "                        set_start_value(T[rr,kk,jj,ss], T0_star[rr]) \n",
    "                        set_start_value(T_in[rr,kk,jj,ss], T_in0_star[rr])\n",
    "                        set_start_value(Tj_out[rr,kk,jj,ss], Tj_out0_star[rr])\n",
    "\n",
    "                    end # reactors loop\n",
    "                end # collocation points loop\n",
    "\n",
    "                # MV's\n",
    "                for rr in 1:nrt\n",
    "                    set_start_value(Q[rr,kk,ss], Q0_star[rr])  \n",
    "                end\n",
    "                set_start_value(Qm[kk,ss], Qm0_star) \n",
    "\n",
    "                for mm in 1:m\n",
    "                    set_start_value(uMPC[1,kk,mm,ss], Q0_star[1] - uref[1])\n",
    "                    set_start_value(uMPC[2,kk,mm,ss], Qm0_star - uref[2])\n",
    "                end\n",
    "            end # finite elements loop\n",
    "        end # scenario loop\n",
    "    end\n",
    "    \n",
    "    ##############\n",
    "    # DRTO model #\n",
    "    ##############\n",
    "    @NLexpressions(model_ms, begin\n",
    "            # [1/s] reaction rate\n",
    "            k[rt = 1:nrt, rc = 1:nrc, kk = 1:ndrto, jj = 1:ncp, ss = 1:ns], k0[rc]*exp(-ER[rc]/T[rt,kk,jj,ss])\n",
    "            #[m3 K/s] cooling rate\n",
    "            # approximate model *approximating logarithm temperature\n",
    "            qcool[rt = 1:nrt,kk = 1:ndrto, jj = 1:ncp, ss = 1:ns], UaTemp[rt,ss]*(T[rt,kk,jj,ss] - (0.5*(Tj_out[rt,kk,jj,ss] + Tj_in[rt])))\n",
    "    end)\n",
    "\n",
    "    @NLconstraints(model_ms, begin\n",
    "            #########\n",
    "            # MODEL #\n",
    "            #########    \n",
    "            # reactor\n",
    "            r_cmb[co = 1:nc, rt = 1:nrt, kk = 1:ndrto, jj = 1:ncp, ss = 1:ns], Cdot[co,rt,kk,jj,ss] == (C_in[co,rt,kk,jj,ss] - C[co,rt,kk,jj,ss])*Q[rt,kk,ss]/V[rt] + sum(Ms[co,rc]*k[rt,rc,kk,jj,ss]*C[rc,rt,kk,jj,ss] for rc in 1:nrc) \n",
    "            r_eb[rt = 1:nrt, kk = 1:ndrto, jj = 1:ncp, ss = 1:ns], Tdot[rt,kk,jj,ss] == (T_in[rt,kk,jj,ss] - T[rt,kk,jj,ss])*Q[rt,kk,ss]/V[rt] - sum(dH_pcp[rc]*k[rt,rc,kk,jj,ss]*C[rc,rt,kk,jj,ss] for rc in 1:nrc) - qcool[rt,kk,jj,ss]/V[rt]\n",
    "            # mixer\n",
    "            m_mb[kk = 1:ndrto,ss = 1:ns], 0 == Q[1,kk,ss] + Qm[kk,ss] - Q[2,kk,ss]\n",
    "            m_cmb[co = 1:nc,kk = 1:ndrto,jj = 1:ncp,ss = 1:ns], 0 == Q[1,kk,ss]*C[co,1,kk,jj,ss] + Qm[kk,ss]*Cm_in[co] - Q[2,kk,ss]*C_in[co,2,kk,jj,ss]\n",
    "            m_eb[kk = 1:ndrto,jj = 1:ncp,ss = 1:ns], 0 == Q[1,kk,ss]*T[1,kk,jj,ss] + Qm[kk,ss]*Tm_in - Q[2,kk,ss]*T_in[2,kk,jj,ss]\n",
    "            # jacket\n",
    "            j_eb[rt = 1:nrt,kk = 1:ndrto,jj = 1:ncp,ss = 1:ns], 0 == Qj_in[rt]*(Tj_out[rt,kk,jj,ss] - Tj_in[rt]) - qcool[rt,kk,jj,ss]\n",
    "            # objective function\n",
    "            JInteg[kk = 1:ndrto, jj = 1:ncp,ss = 1:ns], Jdot[kk,jj,ss] == 10*(Q[1,kk,ss]*C_in[1,1,kk,jj,ss] + Qm[kk,ss]*Cm_in[1] - Q[2,kk,ss]*(C[1,2,kk,jj,ss] + C[3,2,kk,jj,ss])) - 0.01*qcool[1,kk,jj,ss] - qcool[2,kk,jj,ss] - 0.1*Q[1,kk,ss] - 0.1*Qm[kk,ss]\n",
    "\n",
    "            #########################    \n",
    "            # Collocation Equations #    \n",
    "            #########################\n",
    "            # initial point\n",
    "            coll_C_0[co=1:nc, rt = 1:nrt,ss = 1:ns], C[co,rt,1,1,ss] == C_0[co,rt] \n",
    "            coll_T_0[rt = 1:nrt,ss = 1:ns], T[rt,1,1,ss] == T_0[rt]\n",
    "            coll_J_0[ss = 1:ns], J[1,1,ss] == 0 \n",
    "            \n",
    "            # set up collocation equations \n",
    "            coll_C_n[co = 1:nc, rt = 1:nrt, kk = 1:ndrto, jj = 2:ncp,ss = 1:ns], sum(colmat[ii,jj]*C[co,rt,kk,ii,ss] for ii in 1:ncp) - h*Cdot[co,rt,kk,jj,ss] == 0 \n",
    "            coll_T_n[rt = 1:nrt, kk = 1:ndrto, jj = 2:ncp, ss = 1:ns], sum(colmat[ii,jj]*T[rt,kk,ii] for ii in 1:ncp) - h*Tdot[rt,kk,jj,ss] == 0\n",
    "            coll_J_n[kk = 1:ndrto, jj = 2:ncp, ss = 1:ns], sum(colmat[ii,jj]*J[kk,ii,ss] for ii in 1:ncp) - h*Jdot[kk,jj,ss] == 0\n",
    "\n",
    "            # continuinity equations\n",
    "            coll_C_con[co = 1:nc, rt = 1:nrt, kk = 2:ndrto,ss = 1:ns], C[co,rt,kk,1,ss] - C[co,rt,kk - 1,ncp,ss] == 0 \n",
    "            coll_T_con[rt = 1:nrt, kk = 2:ndrto,ss = 1:ns], T[rt,kk,1,ss] - T[rt,kk - 1,ncp,ss] == 0\n",
    "            coll_J_con[kk = 2:ndrto,ss = 1:ns], J[kk,1,ss] - J[kk - 1,ncp,ss] == 0\n",
    "    end)\n",
    "    \n",
    "    ##########################\n",
    "    # MPC model and solution #\n",
    "    ##########################\n",
    "    # N.B. inside MPC everything is in deviation variables\n",
    "    @expressions(model_ms, begin\n",
    "            # MPC1\n",
    "            cfT_c1_1[ss = 1:ns], (mpc1['Ψ']*[xMPC[1,1,ss];de[1,1,ss]] .- (ysp[1,1,ss] - yref[1]))'*mpc1['Q']*mpc1['Θ'] - (u_0[1] - uref[1])*mpc1['I']'*mpc1['R']*mpc1['M']\n",
    "            cfT_c1[kk=2:ndrto,ss = 1:ns], (mpc1['Ψ']*[xMPC[1,kk,ss];de[1,kk,ss]] .- (ysp[1,kk,ss] - yref[1]))'*mpc1['Q']*mpc1['Θ'] - uMPC[1,kk - 1,1,ss]*mpc1['I']'*mpc1['R']*mpc1['M']\n",
    "            # Input bounds\n",
    "            MPC1_u_upper[kk = 1:ndrto,uu = 1:m,ss = 1:ns], (uMax[1] - uref[1]) - uMPC[1,kk,uu,ss]\n",
    "            MPC1_u_lower[kk = 1:ndrto,uu = 1:m,ss = 1:ns], uMPC[1,kk,uu,ss] - (uMin[1] - uref[1])\n",
    "            # MPC2\n",
    "            cfT_c2_1[ss = 1:ns], (mpc2['Ψ']*[xMPC[2,1,ss];de[2,1,ss]] .- (ysp[2,1,ss] - yref[2]))'*mpc2['Q']*mpc2['Θ'] - (u_0[2] - uref[2])*mpc2['I']'*mpc2['R']*mpc2['M']\n",
    "            cfT_c2[kk=2:ndrto,ss = 1:ns], (mpc2['Ψ']*[xMPC[2,kk,ss];de[2,kk,ss]] .- (ysp[2,kk,ss] - yref[2]))'*mpc2['Q']*mpc2['Θ'] - uMPC[2,kk - 1,1,ss]*mpc2['I']'*mpc2['R']*mpc2['M']\n",
    "            # Input bounds\n",
    "            MPC2_u_upper[kk = 1:ndrto,uu = 1:m,ss = 1:ns], (uMax[2] - uref[2]) - uMPC[2,kk,uu,ss]\n",
    "            MPC2_u_lower[kk = 1:ndrto,uu = 1:m,ss = 1:ns], uMPC[2,kk,uu,ss] - (uMin[2] - uref[2])\n",
    "    end)\n",
    "\n",
    "    @constraints(model_ms, begin\n",
    "            #############\n",
    "            # MPC model #\n",
    "            #############\n",
    "            # MPC1\n",
    "            MPC1_dyn_model_1[ss = 1:ns], xMPC[1,1,ss] == mpc1['A']*xMPC_0[1] + mpc1['B']*(u_0[1] - uref[1])\n",
    "            MPC1_dyn_model[kk = 1:(ndrto - 1),ss = 1:ns], xMPC[1,kk + 1,ss] == mpc1['A']*xMPC[1,kk,ss] + mpc1['B']*uMPC[1,kk,1,ss]\n",
    "            #MPC1_model_out[kk=1:ndrto,ss = 1:ns], yMPC[1,kk,ss] == xMPC[1,kk,ss] # C = 1\n",
    "            MPC1_model_dev[kk=1:ndrto,ss = 1:ns], de[1,kk,ss] == (T[1,kk,ncp,ss] - yref[1]) - xMPC[1,kk,ss]\n",
    "            # MPC12\n",
    "            MPC2_dyn_model_1[ss = 1:ns], xMPC[2,1,ss] == mpc2['A']*xMPC_0[2] + mpc2['B']*(u_0[2] - uref[2])\n",
    "            MPC2_dyn_model[kk = 1:(ndrto - 1),ss = 1:ns], xMPC[2,kk + 1,ss] == mpc2['A']*xMPC[2,kk,ss] + mpc2['B']*uMPC[2,kk,1,ss]\n",
    "            #MPC2_model_out[kk=1:ndrto,ss = 1:ns], yMPC[2,kk,ss] == xMPC[2,kk,ss] \n",
    "            MPC2_model_dev[kk=1:ndrto,ss = 1:ns], de[2,kk,ss] == (T[2,kk,ncp,ss] - yref[2]) - xMPC[2,kk,ss]\n",
    "            ################\n",
    "            # MPC solution #\n",
    "            ################\n",
    "            # MPC 1\n",
    "            # stationarity\n",
    "            MPC1_sol_sta_1[ss = 1:ns], uMPC[1,1,:,ss]'*mpc1['H'] + cfT_c1_1[ss] +  mu_g[1,1,:,ss]'*conMatrix .== 0\n",
    "            MPC1_sol_sta[kk=2:ndrto,ss = 1:ns], uMPC[1,kk,:,ss]'*mpc1['H'] + cfT_c1[kk,ss] +  mu_g[1,kk,:,ss]'*conMatrix .== 0\n",
    "            # primal feasibility\n",
    "            MPC1_sol_feas_ub[kk = 1:ndrto,uu = 1:m,ss = 1:ns], MPC1_u_upper[kk,uu,ss] ≥ 0\n",
    "            MPC1_sol_feas_lb[kk = 1:ndrto,uu = 1:m,ss = 1:ns], MPC1_u_lower[kk,uu,ss] ≥ 0\n",
    "            # dual feasibility (already defined above)\n",
    "            # complementarity constraint (defined below since it is nonlinear)\n",
    "            # MPC 2\n",
    "            # stationarity\n",
    "            MPC2_sol_sta_1[ss = 1:ns], uMPC[2,1,:,ss]'*mpc2['H'] + cfT_c2_1[ss] +  mu_g[2,1,:,ss]'*conMatrix .== 0\n",
    "            MPC2_sol_sta[kk=2:ndrto,ss = 1:ns], uMPC[2,kk,:,ss]'*mpc2['H'] + cfT_c2[kk,ss] +  mu_g[2,kk,:,ss]'*conMatrix .== 0\n",
    "            # primal feasibility\n",
    "            MPC2_sol_feas_ub[kk = 1:ndrto,uu = 1:m,ss = 1:ns], MPC2_u_upper[kk,uu,ss] ≥ 0\n",
    "            MPC2_sol_feas_lb[kk = 1:ndrto,uu = 1:m,ss = 1:ns], MPC2_u_lower[kk,uu,ss] ≥ 0\n",
    "            # dual feasibility (already defined above)\n",
    "            # complementarity constraint (defined below since it is nonlinear)      \n",
    "    end)\n",
    "    \n",
    "    @NLconstraints(model_ms, begin\n",
    "            # MPC 1 \n",
    "            # complementarity constraint\n",
    "            MPC1_sol_cc_ub[kk = 1:ndrto,uu = 1:m,ss = 1:ns], mu_g[1,kk,uu,ss]*MPC1_u_upper[kk,uu,ss] ≤ epsCC[uu]\n",
    "            MPC1_sol_cc_lb[kk = 1:ndrto,uu = 1:m,ss = 1:ns], mu_g[1,kk,m + uu,ss]*MPC1_u_lower[kk,uu,ss] ≤ epsCC[m + uu]    \n",
    "\n",
    "            # MPC 2\n",
    "            # complementarity constraint\n",
    "            MPC2_sol_cc_ub[kk = 1:ndrto,uu = 1:m,ss = 1:ns], mu_g[2,kk,uu,ss]*MPC2_u_upper[kk,uu,ss] ≤ epsCC[uu]\n",
    "            MPC2_sol_cc_lb[kk = 1:ndrto,uu = 1:m,ss = 1:ns], mu_g[2,kk,m + uu,ss]*MPC2_u_lower[kk,uu,ss] ≤ epsCC[m + uu] \n",
    "    end)\n",
    "    \n",
    "    @constraints(model_ms, begin   \n",
    "            #######################\n",
    "            # PROCESS CONSTRAINTS #\n",
    "            #######################\n",
    "            # ! Enforcing only at the end of the finite element\n",
    "            # safety restrictions\n",
    "            g1[rt = 1:nrt, kk = 1:ndrto,ss = 1:ns], T[rt,kk,ncp,ss] - Tr_max ≤ 0\n",
    "            # product specifications (Concentration of A in reactor 2)\n",
    "            g2[kk = 1:ndrto,ss = 1:ns], C[1,2,kk,ncp,ss] - cA2_max ≤ 0\n",
    "            # feed supply limitations\n",
    "            g3[kk = 1:ndrto,ss = 1:ns], Q[1,kk,ss] + Qm[kk,ss] - Qf_max ≤ 0\n",
    "            # process limitations (others have been included when declaring variables): max cooling water outlet temperature\n",
    "            g4[rt = 1:nrt, kk = 1:ndrto,ss = 1:ns], Tj_out[rt,kk,ncp,ss] - Tj_max[rt] ≤ 0    \n",
    "            ############################\n",
    "            # OPTIMIZATION CONSTRAINTS #\n",
    "            ############################\n",
    "            # connecting the MPC solution to the DRTO model (only the first element of the MV* is implemented)\n",
    "            h1[kk = 1:ndrto,ss = 1:ns], (uMPC[1,kk,1,ss] + uref[1]) - Q[1,kk,ss] == 0\n",
    "            h2[kk = 1:ndrto,ss = 1:ns], (uMPC[2,kk,1,ss] + uref[2]) - Qm[kk,ss] == 0\n",
    "            ##################################\n",
    "            # NON-ANTICIPATIVITY CONSTRAINTS #\n",
    "            ##################################\n",
    "            nonAnt_c1[kk=1:Δdrto,ss=2:ns], ysp[1,kk,1] - ysp[1,kk,ss] == 0.0\n",
    "            nonAnt_c2[kk=1:Δdrto,ss=2:ns], ysp[2,kk,1] - ysp[2,kk,ss] == 0.0\n",
    "            ##############    \n",
    "            # PARAMETERS #\n",
    "            ##############\n",
    "            p1[co = 1:nc,kk = 1:ndrto,jj = 1:ncp,ss = 1:ns], C_in[co,1,kk,jj,ss] - C1_in[co] == 0\n",
    "            p2[kk = 1:ndrto,jj = 1:ncp,ss = 1:ns], T_in[1,kk,jj,ss] - T1_in == 0\n",
    "        end)\n",
    "    \n",
    "    # Set up objective function  \n",
    "    @NLobjective(model_ms, Min, -sum(pScen*J[ndrto,ncp,ss] for ss in 1:ns))\n",
    "    \n",
    "    #################\n",
    "    # Solve Problem #\n",
    "    #################\n",
    "    optimize!(model_ms)\n",
    "    \n",
    "    status = termination_status(model_ms)\n",
    "    #display(status)\n",
    "    \n",
    "    if status == MOI.OPTIMAL || status == MOI.ALMOST_OPTIMAL || status == MOI.LOCALLY_SOLVED\n",
    "        # Proved optimality or Optimal within relaxed tolerances\n",
    "        # solution time\n",
    "        timeSol = solve_time(model_ms)\n",
    "\n",
    "        flag = 1\n",
    "        # #primal_status(m)\n",
    "\n",
    "        #calling values of the solved problem\n",
    "        ϕ = objective_value(model_ms)\n",
    "        yspArray = value.(ysp)\n",
    "        CArray = value.(C)\n",
    "        TArray = value.(T)\n",
    "        TjArray = value.(Tj_out)\n",
    "        TinArray = value.(T_in)\n",
    "        QArray = value.(Q)\n",
    "        QmArray = value.(Qm)\n",
    "        \n",
    "        muArray = value.(mu_g)\n",
    "        uArray = value.(uMPC)\n",
    "\n",
    "        outputFun = Dict('ϕ' => ϕ,\n",
    "                        't' => timeSol,\n",
    "                        'f' => flag, \n",
    "                        's' => yspArray,\n",
    "                        'Q' => QArray,\n",
    "                        'M' => QmArray,\n",
    "                        'C' => CArray,\n",
    "                        'T' => TArray, \n",
    "                        'J' => TjArray,\n",
    "                        'I' => TinArray,\n",
    "                        'μ' => muArray,\n",
    "                        'u' => uArray)\n",
    "        \n",
    "        return outputFun\n",
    "    else\n",
    "        # Handle other cases.\n",
    "        outputFun = Dict('f' => 0,\n",
    "                         't' => NaN,\n",
    "                         'ϕ' => NaN)\n",
    "                        \n",
    "        \n",
    "        return outputFun\n",
    "    end\n",
    "end;"
   ]
  },
  {
   "cell_type": "markdown",
   "id": "72b22164",
   "metadata": {},
   "source": [
    "<a id=\"subsec24\"></a>"
   ]
  },
  {
   "cell_type": "markdown",
   "id": "e2a35860",
   "metadata": {},
   "source": [
    "## Decomposed CLDRTO"
   ]
  },
  {
   "cell_type": "markdown",
   "id": "b2f632eb",
   "metadata": {},
   "source": [
    "- Modeling Subproblem"
   ]
  },
  {
   "cell_type": "code",
   "execution_count": 13,
   "id": "3cece797",
   "metadata": {},
   "outputs": [],
   "source": [
    "function subp(yspFixed,C_0,T_0,u_0,xMPC_0,UaScen,pScen,solNom)    \n",
    "    ###########\n",
    "    # inputs: #\n",
    "    ###########\n",
    "    # yspFixed - setpoints determined by the master problem \n",
    "    # C_0, T_0 - concentration and temperature states at the current iteration (beginning of DRTO horizon)\n",
    "    # u_0 - current input implemented in the plant\n",
    "    # xMPC_0 - current MPC states\n",
    "    # UaScen - vector containing the values of the uncertain parameter (Ua[1]) and Ua[2] for a given scenario\n",
    "    # pScen - probability of a given scenario\n",
    "    # solNom - nominal solution\n",
    "    \n",
    "    # JuMP model\n",
    "    model_sub = Model(Ipopt.Optimizer)\n",
    "    set_optimizer_attribute(model_sub, \"warm_start_init_point\", \"yes\")\n",
    "    #set_optimizer_attribute(model_sub, \"print_level\", 5)\n",
    "    set_optimizer_attribute(model_sub, \"max_cpu_time\", 300.0) # 5 min\n",
    "    set_silent(model_sub)\n",
    "\n",
    "    ####################\n",
    "    # Set up variables #\n",
    "    ####################\n",
    "    # DRTO model variables\n",
    "    @variable(model_sub, C[1:nc, 1:nrt, 1:ndrto, 1:ncp] ≥ 0)           # [kmol/m3] concentration (diff states)\n",
    "    @variable(model_sub, T[rt=1:nrt, 1:ndrto, 1:ncp] ≥ Tj_in[rt])      # [K] reactor temperature (diff states)\n",
    "    @variable(model_sub, J[1:ndrto, 1:ncp])                            # [$] objective function (diff states)\n",
    "    @variable(model_sub, Cdot[1:nc, 1:nrt, 1:ndrto, 1:ncp])            # [kmol/m3/s] concentration (time derivative)\n",
    "    @variable(model_sub, Tdot[1:nrt, 1:ndrto, 1:ncp])                  # [K/s] reactor temperature (time derivative)\n",
    "    @variable(model_sub, Jdot[1:ndrto, 1:ncp])                         # [$/s] objective function (time derivative\n",
    "    @variable(model_sub, Tj_out[rt=1:nrt, 1:ndrto, 1:ncp] ≥ Tj_in[rt]) # [K] reactor temperature (diff states)\n",
    "    @variable(model_sub, C_in[1:nc, 1:nrt, 1:ndrto, 1:ncp] ≥ 0)        # [kmol/m3] inlet concentration (alg. states)\n",
    "    @variable(model_sub, T_in[rt=1:nrt, 1:ndrto, 1:ncp] ≥ Tj_in[rt])   # [K] inlet temperature (alg. states)\n",
    "    @variable(model_sub, Q_min ≤ Q[1:nrt, 1:ndrto] ≤ Qf_max)           # [m3/s] flowrate to reactor\n",
    "    @variable(model_sub, Qm_min ≤ Qm[1:ndrto] ≤ Qf_max)                # [m3/s] flowrate to mixer\n",
    "\n",
    "    # MPC model variables (SISO) -> deviation form\n",
    "    @variable(model_sub, xMPC[1:numpc, 1:ndrto])\n",
    "    #@variable(model_sub, yMPC[1:numpc, 1:ndrto])\n",
    "    @variable(model_sub, uMPC[1:numpc, 1:ndrto, 1:m])\n",
    "    \n",
    "    # MPC <-> DRTO model deviation\n",
    "    @variable(model_sub, de[1:numpc,1:ndrto])\n",
    "    \n",
    "    # Constrained MPC KKT conditions (upper and lower bounds for each input)\n",
    "    @variable(model_sub, mu_g[1:numpc,1:ndrto,1:(2*m)] ≥ 0.0) \n",
    "\n",
    "    # setpoints for the controllers sent to the plant (*CL-DRTO degrees of freedom)\n",
    "    @variable(model_sub, yspMin[nct] ≤ ysp[nct = 1:numpc,1:ndrto] ≤ yspMax[nct])\n",
    "\n",
    "    #####################################\n",
    "    # Set up initial guesses for solver #\n",
    "    #####################################\n",
    "    if solNom isa Dict # if gives flexibility to NOT initialize variables\n",
    "        for kk in 1:ndrto\n",
    "            for jj in 1:ncp\n",
    "                for rr in 1:nrt\n",
    "                    for cc in 1:nc\n",
    "                        # concentration related variables\n",
    "                        set_start_value(C[cc,rr,kk,jj], solNom['C'][cc,rr,kk,jj,1]) \n",
    "                    end # components loop\n",
    "                    \n",
    "                    # temperature related variables\n",
    "                    set_start_value(T[rr,kk,jj], solNom['T'][rr,kk,jj,1]) \n",
    "                    set_start_value(T_in[rr,kk,jj], solNom['I'][rr,kk,jj,1])\n",
    "                    set_start_value(Tj_out[rr,kk,jj], solNom['J'][rr,kk,jj,1])\n",
    "\n",
    "                end # reactors loop\n",
    "            end # collocation points loop\n",
    "\n",
    "            # MV's\n",
    "            for rr in 1:nrt\n",
    "                set_start_value(Q[rr,kk], solNom['Q'][rr,kk,1])  \n",
    "            end\n",
    "            set_start_value(Qm[kk], solNom['M'][kk,1]) \n",
    "\n",
    "            for mm in 1:m\n",
    "                set_start_value(uMPC[1,kk,mm], solNom['u'][1,kk,mm,1])\n",
    "                set_start_value(uMPC[2,kk,mm], solNom['u'][2,kk,mm,1])\n",
    "            end\n",
    "            \n",
    "            for mm in 1:(2*m)\n",
    "                set_start_value(mu_g[1,kk,mm], solNom['μ'][1,kk,mm,1])\n",
    "                set_start_value(mu_g[2,kk,mm], solNom['μ'][2,kk,mm,1])\n",
    "            end\n",
    "            \n",
    "        end # finite elements loop\n",
    "    else # Set up initial guesses for solver: using opt. steady-state previoulsy computed\n",
    "        for kk in 1:ndrto\n",
    "            for jj in 1:ncp\n",
    "                for rr in 1:nrt\n",
    "                    for cc in 1:nc\n",
    "                        # concentration related variables\n",
    "                        set_start_value(C[cc,rr,kk,jj], C0_star[cc,rr]) \n",
    "                        set_start_value(C[cc,rr,kk,jj], C0_star[cc,rr]) \n",
    "                    end # components loop\n",
    "\n",
    "                    # temperature related variables\n",
    "                    set_start_value(T[rr,kk,jj], T0_star[rr]) \n",
    "                    set_start_value(T_in[rr,kk,jj], T_in0_star[rr])\n",
    "                    set_start_value(Tj_out[rr,kk,jj], Tj_out0_star[rr])\n",
    "\n",
    "                end # reactors loop\n",
    "            end # collocation points loop\n",
    "\n",
    "            # MV's\n",
    "            for rr in 1:nrt\n",
    "                set_start_value(Q[rr,kk], Q0_star[rr])  \n",
    "            end\n",
    "            set_start_value(Qm[kk], Qm0_star) \n",
    "\n",
    "            for mm in 1:m\n",
    "                set_start_value(uMPC[1,kk,mm], Q0_star[1] - uref[1])\n",
    "                set_start_value(uMPC[2,kk,mm], Qm0_star - uref[2])\n",
    "            end\n",
    "        end # finite elements loop\n",
    "    end\n",
    "    \n",
    "    ##############\n",
    "    # DRTO model #\n",
    "    ##############\n",
    "    @NLexpressions(model_sub, begin\n",
    "            # [1/s] reaction rate\n",
    "            k[rt = 1:nrt, rc = 1:nrc, kk = 1:ndrto, jj = 1:ncp], k0[rc]*exp(-ER[rc]/T[rt,kk,jj])\n",
    "            #[m3 K/s] cooling rate\n",
    "            # approximate model *approximating logarithm temperature\n",
    "            qcool[rt = 1:nrt,kk = 1:ndrto, jj = 1:ncp], UaScen[rt]*(T[rt,kk,jj] - (0.5*(Tj_out[rt,kk,jj] + Tj_in[rt])))\n",
    "    end)\n",
    "\n",
    "    @NLconstraints(model_sub, begin\n",
    "            #########\n",
    "            # MODEL #\n",
    "            #########    \n",
    "            # reactor\n",
    "            r_cmb[co = 1:nc, rt = 1:nrt, kk = 1:ndrto, jj = 1:ncp], Cdot[co,rt,kk,jj] == (C_in[co,rt,kk,jj] - C[co,rt,kk,jj])*Q[rt,kk]/V[rt] + sum(Ms[co,rc]*k[rt,rc,kk,jj]*C[rc,rt,kk,jj] for rc in 1:nrc) \n",
    "            r_eb[rt = 1:nrt, kk = 1:ndrto, jj = 1:ncp], Tdot[rt,kk,jj] == (T_in[rt,kk,jj] - T[rt,kk,jj])*Q[rt,kk]/V[rt] - sum(dH_pcp[rc]*k[rt,rc,kk,jj]*C[rc,rt,kk,jj] for rc in 1:nrc) - qcool[rt,kk,jj]/V[rt]\n",
    "            # mixer\n",
    "            m_mb[kk = 1:ndrto], 0 == Q[1,kk] + Qm[kk] - Q[2,kk]\n",
    "            m_cmb[co = 1:nc,kk = 1:ndrto,jj = 1:ncp], 0 == Q[1,kk]*C[co,1,kk,jj] + Qm[kk]*Cm_in[co] - Q[2,kk]*C_in[co,2,kk,jj]\n",
    "            m_eb[kk = 1:ndrto,jj = 1:ncp], 0 == Q[1,kk]*T[1,kk,jj] + Qm[kk]*Tm_in - Q[2,kk]*T_in[2,kk,jj]\n",
    "            # jacket\n",
    "            j_eb[rt = 1:nrt,kk = 1:ndrto,jj = 1:ncp], 0 == Qj_in[rt]*(Tj_out[rt,kk,jj] - Tj_in[rt]) - qcool[rt,kk,jj]\n",
    "            # objective function\n",
    "            JInteg[kk = 1:ndrto, jj = 1:ncp], Jdot[kk,jj] == 10*(Q[1,kk]*C_in[1,1,kk,jj] + Qm[kk]*Cm_in[1] - Q[2,kk]*(C[1,2,kk,jj] + C[3,2,kk,jj])) - 0.01*qcool[1,kk,jj] - qcool[2,kk,jj] - 0.1*Q[1,kk] - 0.1*Qm[kk]\n",
    "\n",
    "            #########################    \n",
    "            # Collocation Equations #    \n",
    "            #########################\n",
    "            # initial point\n",
    "            coll_C_0[co=1:nc, rt = 1:nrt], C[co,rt,1,1] == C_0[co,rt] \n",
    "            coll_T_0[rt = 1:nrt], T[rt,1,1] == T_0[rt]\n",
    "            coll_J_0, J[1,1] == 0 \n",
    "            \n",
    "            # set up collocation equations \n",
    "            coll_C_n[co = 1:nc, rt = 1:nrt, kk = 1:ndrto, jj = 2:ncp], sum(colmat[ii,jj]*C[co,rt,kk,ii] for ii in 1:ncp) - h*Cdot[co,rt,kk,jj] == 0 \n",
    "            coll_T_n[rt = 1:nrt, kk = 1:ndrto, jj = 2:ncp], sum(colmat[ii,jj]*T[rt,kk,ii] for ii in 1:ncp) - h*Tdot[rt,kk,jj] == 0\n",
    "            coll_J_n[kk = 1:ndrto, jj = 2:ncp], sum(colmat[ii,jj]*J[kk,ii] for ii in 1:ncp) - h*Jdot[kk,jj] == 0\n",
    "\n",
    "            # continuinity equations\n",
    "            coll_C_con[co = 1:nc, rt = 1:nrt, kk = 2:ndrto], C[co,rt,kk,1] - C[co,rt,kk - 1,ncp] == 0 \n",
    "            coll_T_con[rt = 1:nrt, kk = 2:ndrto], T[rt,kk,1] - T[rt,kk - 1,ncp] == 0\n",
    "            coll_J_con[kk = 2:ndrto], J[kk,1] - J[kk - 1,ncp] == 0\n",
    "    end)\n",
    "    \n",
    "    ##########################\n",
    "    # MPC model and solution #\n",
    "    ##########################\n",
    "    # N.B. inside MPC everything is in deviation variables\n",
    "    @expressions(model_sub, begin\n",
    "            # MPC1\n",
    "            cfT_c1_1, (mpc1['Ψ']*[xMPC[1,1];de[1,1]] .- (ysp[1,1] - yref[1]))'*mpc1['Q']*mpc1['Θ'] - (u_0[1] - uref[1])*mpc1['I']'*mpc1['R']*mpc1['M']\n",
    "            cfT_c1[kk=2:ndrto], (mpc1['Ψ']*[xMPC[1,kk];de[1,kk]] .- (ysp[1,kk] - yref[1]))'*mpc1['Q']*mpc1['Θ'] - uMPC[1,kk - 1,1]*mpc1['I']'*mpc1['R']*mpc1['M']\n",
    "            # Input bounds\n",
    "            MPC1_u_upper[kk = 1:ndrto,uu = 1:m], (uMax[1] - uref[1]) - uMPC[1,kk,uu]\n",
    "            MPC1_u_lower[kk = 1:ndrto,uu = 1:m], uMPC[1,kk,uu] - (uMin[1] - uref[1])\n",
    "            # MPC2\n",
    "            cfT_c2_1, (mpc2['Ψ']*[xMPC[2,1];de[2,1]] .- (ysp[2,1] - yref[2]))'*mpc2['Q']*mpc2['Θ'] - (u_0[2] - uref[2])*mpc2['I']'*mpc2['R']*mpc2['M']\n",
    "            cfT_c2[kk=2:ndrto], (mpc2['Ψ']*[xMPC[2,kk];de[2,kk]] .- (ysp[2,kk] - yref[2]))'*mpc2['Q']*mpc2['Θ'] - uMPC[2,kk - 1,1]*mpc2['I']'*mpc2['R']*mpc2['M']\n",
    "            # Input bounds\n",
    "            MPC2_u_upper[kk = 1:ndrto,uu = 1:m], (uMax[2] - uref[2]) - uMPC[2,kk,uu]\n",
    "            MPC2_u_lower[kk = 1:ndrto,uu = 1:m], uMPC[2,kk,uu] - (uMin[2] - uref[2])\n",
    "    end)\n",
    "\n",
    "    @constraints(model_sub, begin\n",
    "            #############\n",
    "            # MPC model #\n",
    "            #############\n",
    "            # MPC1\n",
    "            MPC1_dyn_model_1, xMPC[1,1] == mpc1['A']*xMPC_0[1] + mpc1['B']*(u_0[1] - uref[1])\n",
    "            MPC1_dyn_model[kk = 1:(ndrto - 1)], xMPC[1,kk + 1] == mpc1['A']*xMPC[1,kk] + mpc1['B']*uMPC[1,kk,1]\n",
    "            MPC1_model_dev[kk=1:ndrto], de[1,kk] == (T[1,kk,ncp] - yref[1]) - xMPC[1,kk]\n",
    "            # MPC12\n",
    "            MPC2_dyn_model_1, xMPC[2,1] == mpc2['A']*xMPC_0[2] + mpc2['B']*(u_0[2] - uref[2])\n",
    "            MPC2_dyn_model[kk = 1:(ndrto - 1)], xMPC[2,kk + 1] == mpc2['A']*xMPC[2,kk] + mpc2['B']*uMPC[2,kk,1]\n",
    "            MPC2_model_dev[kk=1:ndrto], de[2,kk] == (T[2,kk,ncp] - yref[2]) - xMPC[2,kk]\n",
    "            ################\n",
    "            # MPC solution #\n",
    "            ################\n",
    "            # MPC 1\n",
    "            # stationarity\n",
    "            MPC1_sol_sta_1, uMPC[1,1,:]'*mpc1['H'] + cfT_c1_1 +  mu_g[1,1,:]'*conMatrix .== 0\n",
    "            MPC1_sol_sta[kk=2:ndrto], uMPC[1,kk,:]'*mpc1['H'] + cfT_c1[kk] +  mu_g[1,kk,:]'*conMatrix .== 0\n",
    "            # primal feasibility\n",
    "            MPC1_sol_feas_ub[kk = 1:ndrto,uu = 1:m], MPC1_u_upper[kk,uu] ≥ 0\n",
    "            MPC1_sol_feas_lb[kk = 1:ndrto,uu = 1:m], MPC1_u_lower[kk,uu] ≥ 0\n",
    "            # dual feasibility (already defined above)\n",
    "            # complementarity constraint (defined below since it is nonlinear)\n",
    "            # MPC 2\n",
    "            # stationarity\n",
    "            MPC2_sol_sta_1, uMPC[2,1,:]'*mpc2['H'] + cfT_c2_1 +  mu_g[2,1,:]'*conMatrix .== 0\n",
    "            MPC2_sol_sta[kk=2:ndrto], uMPC[2,kk,:]'*mpc2['H'] + cfT_c2[kk] +  mu_g[2,kk,:]'*conMatrix .== 0\n",
    "            # primal feasibility\n",
    "            MPC2_sol_feas_ub[kk = 1:ndrto,uu = 1:m], MPC2_u_upper[kk,uu] ≥ 0\n",
    "            MPC2_sol_feas_lb[kk = 1:ndrto,uu = 1:m], MPC2_u_lower[kk,uu] ≥ 0\n",
    "            # dual feasibility (already defined above)\n",
    "            # complementarity constraint (defined below since it is nonlinear)      \n",
    "    end)\n",
    "    \n",
    "    @NLconstraints(model_sub, begin\n",
    "            # MPC 1 \n",
    "            # complementarity constraint\n",
    "            MPC1_sol_cc_ub[kk = 1:ndrto,uu = 1:m], mu_g[1,kk,uu]*MPC1_u_upper[kk,uu] ≤ epsCC[uu]\n",
    "            MPC1_sol_cc_lb[kk = 1:ndrto,uu = 1:m], mu_g[1,kk,m + uu]*MPC1_u_lower[kk,uu] ≤ epsCC[m + uu]    \n",
    "\n",
    "            # MPC 2\n",
    "            # complementarity constraint\n",
    "            MPC2_sol_cc_ub[kk = 1:ndrto,uu = 1:m], mu_g[2,kk,uu]*MPC2_u_upper[kk,uu] ≤ epsCC[uu]\n",
    "            MPC2_sol_cc_lb[kk = 1:ndrto,uu = 1:m], mu_g[2,kk,m + uu]*MPC2_u_lower[kk,uu] ≤ epsCC[m + uu] \n",
    "    end)\n",
    "    \n",
    "    @constraints(model_sub, begin   \n",
    "            #######################\n",
    "            # PROCESS CONSTRAINTS #\n",
    "            #######################\n",
    "            # ! Enforcing only at the end of the finite element\n",
    "            # safety restrictions\n",
    "            g1[rt = 1:nrt, kk = 1:ndrto], T[rt,kk,ncp] - Tr_max ≤ 0\n",
    "            # product specifications (Concentration of A in reactor 2)\n",
    "            g2[kk = 1:ndrto], C[1,2,kk,ncp] - cA2_max ≤ 0\n",
    "            # feed supply limitations\n",
    "            g3[kk = 1:ndrto], Q[1,kk] + Qm[kk] - Qf_max ≤ 0\n",
    "            # process limitations (others have been included when declaring variables): max cooling water outlet temperature\n",
    "            g4[rt = 1:nrt, kk = 1:ndrto], Tj_out[rt,kk,ncp] - Tj_max[rt] ≤ 0    \n",
    "            ############################\n",
    "            # OPTIMIZATION CONSTRAINTS #\n",
    "            ############################\n",
    "            # connecting the MPC solution to the DRTO model (only the first element of the MV* is implemented)\n",
    "            h1[kk = 1:ndrto], (uMPC[1,kk,1] + uref[1]) - Q[1,kk] == 0\n",
    "            h2[kk = 1:ndrto], (uMPC[2,kk,1] + uref[2]) - Qm[kk] == 0\n",
    "            ##################################\n",
    "            # NON-ANTICIPATIVITY CONSTRAINTS # <- fixed in master problem\n",
    "            ##################################\n",
    "            nonAnt_c1[kk=1:Δdrto], ysp[1,kk] - yspFixed[1,kk] == 0.0\n",
    "            nonAnt_c2[kk=1:Δdrto], ysp[2,kk] - yspFixed[2,kk] == 0.0\n",
    "            ##############    \n",
    "            # PARAMETERS #\n",
    "            ##############\n",
    "            p1[co = 1:nc,kk = 1:ndrto,jj = 1:ncp], C_in[co,1,kk,jj] - C1_in[co] == 0\n",
    "            p2[kk = 1:ndrto,jj = 1:ncp], T_in[1,kk,jj] - T1_in == 0\n",
    "        end)\n",
    "    \n",
    "    # Set up objective function  \n",
    "    @NLobjective(model_sub, Min, -pScen*J[ndrto,ncp])\n",
    "    \n",
    "    #################\n",
    "    # Solve Problem #\n",
    "    #################    \n",
    "    optimize!(model_sub)\n",
    "    \n",
    "    # solution time\n",
    "    timeSol = solve_time(model_sub)\n",
    "    \n",
    "    status = termination_status(model_sub)\n",
    "    #display(status)\n",
    "    \n",
    "    # checking if there is a solution to the problem\n",
    "    if status == MOI.ALMOST_LOCALLY_SOLVED || status == MOI.LOCALLY_SOLVED\n",
    "        # Proved optimality or Optimal within relaxed tolerances\n",
    "        # we add an optimality cut\n",
    "        flag = 1\n",
    "        # #primal_status(m)\n",
    "\n",
    "        #calling values of the solved problem\n",
    "        ϕ = objective_value(model_sub)\n",
    "        yspArray = value.(ysp)\n",
    "        CArray = value.(C)\n",
    "        TArray = value.(T)\n",
    "        TjArray = value.(Tj_out)\n",
    "        TinArray = value.(T_in)\n",
    "        QArray = value.(Q)\n",
    "        QmArray = value.(Qm)\n",
    "\n",
    "        muArray = value.(mu_g)\n",
    "        \n",
    "        # lagrange multipliers associated with the nonantecipativity constraints\n",
    "        λ1 = dual.(nonAnt_c1)\n",
    "        λ2 = dual.(nonAnt_c2)\n",
    "        \n",
    "        outputDict = Dict('ϕ' => ϕ,\n",
    "                        't' => timeSol,\n",
    "                        'f' => flag, \n",
    "                        'a' => status,\n",
    "                        's' => yspArray,\n",
    "                        'Q' => QArray,\n",
    "                        'M' => QmArray,\n",
    "                        'C' => CArray,\n",
    "                        'T' => TArray, \n",
    "                        'J' => TjArray,\n",
    "                        'I' => TinArray,\n",
    "                        'μ' => muArray,\n",
    "                        'λ' => λ1,\n",
    "                        'Λ' => λ2)\n",
    "        \n",
    "        return outputDict\n",
    "    else\n",
    "        #i.e. no feasible solution --> Add feasibility cut\n",
    "        #display(\"Feasibility cut: scenario $(scen)\")        \n",
    "        \n",
    "        # deleting input upper bounds\n",
    "        delete_upper_bound.(Q[1:nrt, 1:ndrto])\n",
    "        delete_upper_bound.(Qm[1:ndrto])\n",
    "        \n",
    "        # keep bounds and remove process contraints\n",
    "        delete.(model_sub, g1)\n",
    "        delete.(model_sub, g2)\n",
    "        delete.(model_sub, g3)\n",
    "        delete.(model_sub, g4)\n",
    "\n",
    "        unregister(model_sub, :g1)\n",
    "        unregister(model_sub, :g2)\n",
    "        unregister(model_sub, :g3)\n",
    "        unregister(model_sub, :g4)\n",
    "        \n",
    "        # remove relaxed complementarity constraints\n",
    "        delete.(model_sub, MPC1_sol_cc_ub)\n",
    "        delete.(model_sub, MPC1_sol_cc_lb)\n",
    "        delete.(model_sub, MPC2_sol_cc_ub)\n",
    "        delete.(model_sub, MPC2_sol_cc_lb)\n",
    "        \n",
    "        unregister(model_sub, :MPC1_sol_cc_ub)\n",
    "        unregister(model_sub, :MPC1_sol_cc_lb)\n",
    "        unregister(model_sub, :MPC2_sol_cc_ub)\n",
    "        unregister(model_sub, :MPC2_sol_cc_lb)\n",
    "        \n",
    "        ####################\n",
    "        # Set up variables #\n",
    "        #################### \n",
    "        # slacks\n",
    "        @variable(model_sub, delta_Q[1:nrt,1:ndrto] ≥ 0.0)\n",
    "        @variable(model_sub, delta_Qm[1:ndrto] ≥ 0.0)\n",
    "        \n",
    "        @variable(model_sub, delta_g1[1:nrt,1:ndrto] ≥ 0.0)\n",
    "        @variable(model_sub, delta_g2[1:ndrto] ≥ 0.0)\n",
    "        @variable(model_sub, delta_g3[1:ndrto] ≥ 0.0)\n",
    "        @variable(model_sub, delta_g4[1:nrt,1:ndrto] ≥ 0.0)\n",
    "        \n",
    "        @variable(model_sub, delta_c1_ccub[1:ndrto,1:m] ≥ 0.0)\n",
    "        @variable(model_sub, delta_c1_cclb[1:ndrto,1:m] ≥ 0.0)\n",
    "        \n",
    "        @variable(model_sub, delta_c2_ccub[1:ndrto,1:m] ≥ 0.0)\n",
    "        @variable(model_sub, delta_c2_cclb[1:ndrto,1:m] ≥ 0.0)\n",
    "        \n",
    "        ###########################\n",
    "        # Always-feasible problem #\n",
    "        ###########################\n",
    "        @constraint(model_sub, soft_Q[rt = 1:nrt, kk = 1:ndrto], Q[rt,kk] - Qf_max == delta_Q[rt,kk])\n",
    "        @constraint(model_sub, soft_Qm[kk = 1:ndrto], Qm[kk] - Qf_max == delta_Qm[kk])\n",
    "        \n",
    "        @constraint(model_sub, soft_g1[rt = 1:nrt, kk = 1:ndrto], T[rt,kk,ncp] - Tr_max == delta_g1[rt,kk])\n",
    "        @constraint(model_sub, soft_g2[kk = 1:ndrto], C[1,2,kk,ncp] - cA2_max == delta_g2[kk])\n",
    "        @constraint(model_sub, soft_g3[kk = 1:ndrto], Q[1,kk] + Qm[kk] - Qf_max == delta_g3[kk])\n",
    "        @constraint(model_sub, soft_g4[rt = 1:nrt, kk = 1:ndrto], Tj_out[rt,kk,ncp] - Tj_max[rt] == delta_g4[rt,kk])\n",
    "\n",
    "        # complementarity constraint\n",
    "        # MPC 1\n",
    "        @constraint(model_sub, MPC1_sol_cc_ub[kk = 1:ndrto,uu = 1:m], mu_g[1,kk,uu]*MPC1_u_upper[kk,uu] == delta_c1_ccub[kk,uu])\n",
    "        @constraint(model_sub, MPC1_sol_cc_lb[kk = 1:ndrto,uu = 1:m], mu_g[1,kk,m + uu]*MPC1_u_lower[kk,uu] == delta_c1_cclb[kk,uu])\n",
    "        # MPC 2\n",
    "        @constraint(model_sub, MPC2_sol_cc_ub[kk = 1:ndrto,uu = 1:m], mu_g[2,kk,uu]*MPC2_u_upper[kk,uu] == delta_c2_ccub[kk,uu])\n",
    "        @constraint(model_sub, MPC2_sol_cc_lb[kk = 1:ndrto,uu = 1:m], mu_g[2,kk,m + uu]*MPC2_u_lower[kk,uu] == delta_c2_cclb[kk,uu])\n",
    "        \n",
    "       #############################\n",
    "        # Set up objective function #\n",
    "        #############################\n",
    "        # Modifying the objective --> call @objective with the new objective function.\n",
    "        # minimizing constraint violation - l1 penalty!\n",
    "        @objective(model_sub, Min, \n",
    "            sum(delta_Qm[kk] + delta_g2[kk] + delta_g3[kk] + \n",
    "                sum(delta_Q[rt,kk] + delta_g1[rt,kk] + delta_g4[rt,kk] for rt in 1:nrt) + \n",
    "                sum(delta_c1_ccub[kk,uu] + delta_c1_cclb[kk,uu] + delta_c2_ccub[kk,uu] + delta_c2_cclb[kk,uu] for uu in 1:m)\n",
    "                for kk in 1:ndrto)\n",
    "            )\n",
    "        \n",
    "        #@show sub\n",
    "        # re-optimizing (now using the always feasible problem)\n",
    "        optimize!(model_sub)\n",
    "        \n",
    "        # objective function of the feasibility problem\n",
    "        o = objective_value(model_sub)\n",
    "\n",
    "        # solution time (adding time to solve the always feasible subproblem)\n",
    "        timeSol = solve_time(model_sub)\n",
    "        \n",
    "        # checking status of the solution\n",
    "        status_sub = termination_status(model_sub)\n",
    "        \n",
    "        # flag for calling feasibility cuts (not optimality cuts)\n",
    "        flag = 0\n",
    "        \n",
    "        #calling values of the solved problem\n",
    "        yspArray = value.(ysp)\n",
    "        QArray = value.(Q)\n",
    "        QmArray = value.(Qm)\n",
    "        CArray = value.(C)\n",
    "        TArray = value.(T)\n",
    "        TinArray = value.(T_in)\n",
    "        TjArray = value.(Tj_out)\n",
    "        muArray = value.(mu_g)\n",
    "        \n",
    "        #slacks\n",
    "#         dQ = value.(delta_Q)\n",
    "#         dQm = value.(delta_Qm)\n",
    "#         temp1 = sum(dQm[kk] + sum(dQ[rt,kk] for rt in 1:nrt) for kk in 1:ndrto)\n",
    "#         display(\"DB: Input slacks sum: $(temp1)\")\n",
    "#         dg1 = value.(delta_g1)\n",
    "#         dg2 = value.(delta_g2)\n",
    "#         dg3 = value.(delta_g3)\n",
    "#         dg4 = value.(delta_g4)\n",
    "#         temp2 = sum(dg2[kk] + dg3[kk] + sum(dg1[rt,kk] + dg4[rt,kk] for rt in 1:nrt) for kk in 1:ndrto)\n",
    "#         display(\"DB: Constraint slacks sum: $(temp2)\")\n",
    "        \n",
    "#         dc1_ub = value.(delta_c1_ccub)\n",
    "#         dc1_lb = value.(delta_c1_cclb)\n",
    "#         temp3 = sum(sum(dc1_ub[kk,uu] + dc1_lb[kk,uu] for uu in 1:m) for kk in 1:ndrto)\n",
    "#         display(\"DB: MPC1 slacks sum: $(temp3)\")\n",
    "        \n",
    "#         dc2_ub = value.(delta_c2_ccub)\n",
    "#         dc2_lb = value.(delta_c2_cclb)\n",
    "#         temp4 = sum(sum(dc2_ub[kk,uu] + dc2_lb[kk,uu] for uu in 1:m) for kk in 1:ndrto)\n",
    "#         display(\"DB: MPC2 slacks sum: $(temp4)\")\n",
    "        \n",
    "        # lagrange multipliers associated with the nonantecipativity constraints\n",
    "        λ1 = dual.(nonAnt_c1)\n",
    "        λ2 = dual.(nonAnt_c2)\n",
    "        \n",
    "        outputDict = Dict('ϕ' => o,\n",
    "                        't' => timeSol,\n",
    "                        'f' => flag, \n",
    "                        'a' => status_sub,\n",
    "                        's' => yspArray,\n",
    "                        'Q' => QArray,\n",
    "                        'M' => QmArray,\n",
    "                        'C' => CArray,\n",
    "                        'T' => TArray, \n",
    "                        'J' => TjArray,\n",
    "                        'I' => TinArray,\n",
    "                        'μ' => muArray,\n",
    "                        'λ' => λ1,\n",
    "                        'Λ' => λ2)\n",
    "        \n",
    "        return outputDict\n",
    "    end\n",
    "end;"
   ]
  },
  {
   "cell_type": "markdown",
   "id": "1690f637",
   "metadata": {},
   "source": [
    "- Modeling Master problem"
   ]
  },
  {
   "cell_type": "code",
   "execution_count": 14,
   "id": "21389f30",
   "metadata": {},
   "outputs": [],
   "source": [
    "## Modeling Benders Decompostion\n",
    "function BENS_CLDRTO(C_0,T_0,u_0,xMPC_0,UaTemp,ns,solNom)\n",
    "    ###########\n",
    "    # inputs: #(xInit,uInit,nReac,nScen,pScen,solNom,option)\n",
    "    ###########\n",
    "    # C_0, T_0 - concentration and temperature states at the current iteration (beginning of DRTO horizon)\n",
    "    # u_0 - current input implemented in the plant\n",
    "    # xMPC_0 - current MPC states\n",
    "    # UaTemp - vector containing all the values of the uncertain parameter (Ua[1]) and Ua[2]\n",
    "    # ns - number of scenarios\n",
    "    # solNom - nominal solution\n",
    "    \n",
    "    # Assuming equiprobable scenarios\n",
    "    pScen = 1.0/ns\n",
    "    \n",
    "    # flag for checking if last cut was opt. (1) or feas. (0)\n",
    "    flagO = 1\n",
    "    \n",
    "    # timing solution via Benders\n",
    "    timeSolBen = 0 \n",
    "    # timing solution via parallel Benders\n",
    "    timeSolParBen = 0 \n",
    "    \n",
    "    # Define master problem model\n",
    "    master = Model(Ipopt.Optimizer)\n",
    "    set_silent(master)\n",
    "    \n",
    "    #lower bound on scenario objective function approximation \n",
    "    alpha_down = -1060; # o_nom = -1020.9613426462117\n",
    "    \n",
    "    # defining temp solution to avoid loop's scope\n",
    "     ysp_nonⁱ = Matrix{Float64}(undef,2,Δdrto)\n",
    "    \n",
    "    ####################\n",
    "    # Set up variables #\n",
    "    ####################\n",
    "    # setpoints for the controllers sent to the plant\n",
    "    @variable(master, yspMin[nct] ≤ ysp[nct = 1:numpc,1:Δdrto] ≤ yspMax[nct])\n",
    "    @variable(master, α ≥ alpha_down)\n",
    "    \n",
    "    ################################################\n",
    "    # Solving problem with benders' decomposition  #\n",
    "    ################################################\n",
    "    for ii in 1:benIterMax\n",
    "        \n",
    "        ########################\n",
    "        # Set up initial guess #\n",
    "        ########################\n",
    "        if ii == 1 # use nominal solution\n",
    "            if solNom isa Dict\n",
    "                for kk in 1:Δdrto\n",
    "                    set_start_value(ysp[1,kk], solNom['s'][1,kk,1])\n",
    "                    set_start_value(ysp[2,kk], solNom['s'][2,kk,1])\n",
    "                end \n",
    "            end \n",
    "        else # use previous solution\n",
    "            for kk in 1:Δdrto\n",
    "                set_start_value(ysp[1,kk],  ysp_nonⁱ[1,kk])\n",
    "                set_start_value(ysp[2,kk],  ysp_nonⁱ[2,kk])\n",
    "            end \n",
    "        end\n",
    "           \n",
    "        #############################\n",
    "        # Set up objective function #\n",
    "        #############################\n",
    "        # \"nudge\" next solution towards nominal solution (working = 1e-4)\n",
    "        @objective(master, Min, α + 1e-4*sum(sum((ysp[nct,kk] - solNom['s'][nct,kk,1])^2 for nct = 1:numpc) for kk in 1:Δdrto))\n",
    "        \n",
    "        # solve master problem (with Benders' cut)\n",
    "        optimize!(master)\n",
    "\n",
    "        # solution time\n",
    "        timeSolMaster = solve_time(master)\n",
    "        # extracting solution for the non-anticipativity constraints\n",
    "        ysp_nonⁱ = value.(ysp) \n",
    "        \n",
    "        # Master problem solution: lower bound of the original problem\n",
    "        lb = value(α)\n",
    "        # = objective_value(master) - 0.0005*sum(sum((ysp_nonⁱ[nct,kk] - solNom['s'][nct,kk,1])^2 for nct = 1:numpc) for kk in 1:Δdrto)\n",
    "        \n",
    "        timeSolBen = timeSolBen + timeSolMaster\n",
    "        timeSolParBen = timeSolParBen + timeSolMaster # master cannot be paralellized \n",
    "\n",
    "        #######################\n",
    "        # Solving subproblems #\n",
    "        #######################\n",
    "        # objective function\n",
    "        o_temp = Vector{Float64}(undef,ns)\n",
    "        # flag optimality / feasibility\n",
    "        flag_temp = Vector{Float64}(undef,ns)\n",
    "        # solution time\n",
    "        solTime_temp = Vector{Float64}(undef,ns)\n",
    "        # multipliers\n",
    "        lambdaN_C1_temp = Matrix{Float64}(undef,Δdrto,ns) \n",
    "        lambdaN_C2_temp = Matrix{Float64}(undef,Δdrto,ns)\n",
    "        \n",
    "        for ss in 1:ns\n",
    "            dicTemp = subp(ysp_nonⁱ,C_0,T_0,u_0,xMPC_0,UaTemp[:,ss],pScen,solNom)\n",
    "\n",
    "            # saving files\n",
    "            # objective function\n",
    "            o_temp[ss] = dicTemp['ϕ']\n",
    "            # solution time\n",
    "            solTime_temp[ss] = dicTemp['t']\n",
    "            # optimality / feasibility flag\n",
    "            flag_temp[ss] = dicTemp['f']\n",
    "            # multiplier\n",
    "            for kk in 1:Δdrto\n",
    "                lambdaN_C1_temp[kk,ss] = dicTemp['λ'][kk]\n",
    "                lambdaN_C2_temp[kk,ss] = dicTemp['Λ'][kk]\n",
    "            end\n",
    "            \n",
    "        end\n",
    "        \n",
    "        ##########################################################\n",
    "        # If all subproblems were feasible, check optimality gap #\n",
    "        ##########################################################\n",
    "        if sum(flag_temp) == ns \n",
    "            # Subproblem solution: upper bound of the original problem\n",
    "            ub = sum(o_temp)\n",
    "\n",
    "            # solve subproblems to find the upper bound of the original problem solution \n",
    "            timeSolBen = timeSolBen + sum(solTime_temp)\n",
    "\n",
    "            # assuming that subproblem solution is parallelized\n",
    "            timeSolParBen = timeSolParBen + maximum(solTime_temp)   \n",
    "            \n",
    "            # compute optimality gap\n",
    "            gap = abs(ub - lb)/abs(ub)\n",
    "#            display(\"DB: opt. gap $(gap)\")\n",
    "\n",
    "            # check if optimality gap is small enough\n",
    "            # also, make sure last cut was an optimality cut due to change in OF \n",
    "            if gap < optGap && flagO == 1\n",
    "                global yspSol_dec = ysp_nonⁱ\n",
    "                global objFun_dec = ub\n",
    "                global optGap_dec = gap\n",
    "                global iter_dec = ii\n",
    "                global time_dec = timeSolBen\n",
    "                global time_max_dec = timeSolParBen\n",
    "                break\n",
    "            else # gap ≥ optGap \n",
    "                ##############################\n",
    "                # --> adding optimality cuts #\n",
    "                ##############################\n",
    "                display(\">>>>>> iteration $(ii):O\")\n",
    "                benderscutO = @constraint(master, α ≥ ub + \n",
    "                    sum(sum(lambdaN_C1_temp[jj,ss] for ss in 1:ns)*(ysp[1,jj] - ysp_nonⁱ[1,jj]) for jj in 1:Δdrto) +\n",
    "                    sum(sum(lambdaN_C2_temp[jj,ss] for ss in 1:ns)*(ysp[2,jj] - ysp_nonⁱ[2,jj]) for jj in 1:Δdrto)\n",
    "                )\n",
    "                #@info \"we are adding this bender optimality cut $(benderscutO)\"\n",
    "                \n",
    "                # optimality cut was add\n",
    "                flagO = 1\n",
    "            \n",
    "            end # if gap\n",
    "        else # sum(flag_temp) != nScen\n",
    "            ###############################\n",
    "            # --> adding feasibility cuts #\n",
    "            ###############################\n",
    "            display(\">>>>>> iteration $(ii):F\")\n",
    "            benderscutF = @constraint(master, 0 ≥\n",
    "                sum(sum(lambdaN_C1_temp[jj,ss] for ss in 1:ns)*(ysp[1,jj] - ysp_nonⁱ[1,jj]) for jj in 1:Δdrto) +\n",
    "                sum(sum(lambdaN_C2_temp[jj,ss] for ss in 1:ns)*(ysp[2,jj] - ysp_nonⁱ[2,jj]) for jj in 1:Δdrto)\n",
    "                )\n",
    "            #@info \"we are adding this bender feasibility cut $(benderscutF)\"\n",
    "            \n",
    "            # feasibility cut was add\n",
    "            flagO = 0\n",
    "            \n",
    "        end # if nScen\n",
    "        \n",
    "        # checking if number of iterations reached max \n",
    "        if ii < benIterMax\n",
    "            global yspSol_dec = [[NaN for kk=1:Δdrto] for rt=1:nrt]\n",
    "            global objFun_dec = NaN\n",
    "            global optGap_dec = NaN\n",
    "            global iter_dec = benIterMax\n",
    "            global time_dec = timeSolBen\n",
    "            global time_max_dec = timeSolParBen\n",
    "        end # if < benIterMax\n",
    "    end # if for benders iterations\n",
    "\n",
    "    #####################\n",
    "    # Extracting values #\n",
    "    #####################\n",
    "    if isnan(objFun_dec)\n",
    "        \n",
    "        outputFun = Dict('t' => timeSolBen,\n",
    "                         'ϕ' => objFun_dec,\n",
    "                         'τ' => time_max_dec, \n",
    "                         'i' => iter_dec,\n",
    "                         'd' => yspSol_dec,\n",
    "                         'g' => optGap_dec,\n",
    "                         'f' => 0)\n",
    "                        \n",
    "        \n",
    "        return outputFun\n",
    "        \n",
    "    else\n",
    "        QArray = Array{Float64}(undef,nrt,ndrto,ns)\n",
    "        QmArray = Matrix{Float64}(undef,ndrto,ns)\n",
    "        TArray = Array{Float64}(undef,nrt,ndrto,ncp,ns)\n",
    "        TjArray = Array{Float64}(undef,nrt,ndrto,ncp,ns)\n",
    "        yspArray = Array{Float64}(undef,numpc,ndrto,ns)\n",
    "\n",
    "        for ss in 1:ns\n",
    "            dicTemp = subp(yspSol_dec,C_0,T_0,u_0,xMPC_0,UaTemp[:,ss],pScen,solNom)\n",
    "\n",
    "            # saving files\n",
    "            QArray[:,:,ss] = dicTemp['Q']\n",
    "            QmArray[:,ss] = dicTemp['M']\n",
    "            TArray[:,:,:,ss] = dicTemp['T']\n",
    "            TjArray[:,:,:,ss] = dicTemp['J']\n",
    "            yspArray[:,:,ss] = dicTemp['s']\n",
    "        end\n",
    "\n",
    "        #calling values of the solved problem    \n",
    "        outputFun =  Dict('ϕ' => objFun_dec,\n",
    "                    't' => time_dec,\n",
    "                    'τ' => time_max_dec, \n",
    "                    'i' => iter_dec,\n",
    "                    'd' => yspSol_dec,\n",
    "                    'g' => optGap_dec,\n",
    "                    'Q' => QArray,\n",
    "                    'M' => QmArray,\n",
    "                    'T' => TArray, \n",
    "                    'J' => TjArray,\n",
    "                    's' => yspArray,\n",
    "                    'f' => 1)  \n",
    "        \n",
    "        return outputFun\n",
    "\n",
    "    end\n",
    "end;"
   ]
  },
  {
   "cell_type": "markdown",
   "id": "936e2232",
   "metadata": {},
   "source": [
    "<a id=\"subsec25\"></a>"
   ]
  },
  {
   "cell_type": "markdown",
   "id": "45f011c0",
   "metadata": {},
   "source": [
    "## Plant Model"
   ]
  },
  {
   "cell_type": "code",
   "execution_count": 15,
   "id": "8f95081a",
   "metadata": {},
   "outputs": [],
   "source": [
    "function twoCSTRS_dae!(dx, x, p, t)\n",
    "    CA1,CB1,CC1,T1,Tj1_out,CA2,CB2,CC2,T2,Tj2_out = x\n",
    "    Q1,Qm,UaPlant = p\n",
    "    \n",
    "    # reactor 1\n",
    "    dx[1] = (C1_in[1] - CA1)*Q1/V[1] - k0[1]*exp(-ER[1]/T1)*CA1 \n",
    "    dx[2] = (C1_in[2] - CB1)*Q1/V[1] + k0[1]*exp(-ER[1]/T1)*CA1 - k0[2]*exp(-ER[2]/T1)*CB1\n",
    "    dx[3] = (C1_in[3] - CC1)*Q1/V[1] + k0[2]*exp(-ER[2]/T1)*CB1\n",
    "    dx[4] = (T1_in - T1)*Q1/V[1] - dH_pcp[1]*k0[1]*exp(-ER[1]/T1)*CA1 - dH_pcp[2]*k0[2]*exp(-ER[2]/T1)*CB1 - UaPlant*(T1 - (0.5*(Tj1_out + Tj_in[1])))/V[1]\n",
    "    dx[5] = Qj_in[1]*(Tj1_out - Tj_in[1]) - UaPlant*(T1 - (0.5*(Tj1_out + Tj_in[1])))\n",
    "    # reactor 2\n",
    "    dx[6] = ((Q1*CA1 + Qm*Cm_in[1])/(Q1 + Qm) - CA2)*(Q1 + Qm)/V[2] - k0[1]*exp(-ER[1]/T2)*CA2 \n",
    "    dx[7] = ((Q1*CB1 + Qm*Cm_in[2])/(Q1 + Qm) - CB2)*(Q1 + Qm)/V[2] + k0[1]*exp(-ER[1]/T2)*CA2 - k0[2]*exp(-ER[2]/T2)*CB2 \n",
    "    dx[8] = ((Q1*CC1 + Qm*Cm_in[3])/(Q1 + Qm) - CC2)*(Q1 + Qm)/V[2] + k0[2]*exp(-ER[2]/T2)*CB2 \n",
    "    dx[9] = ((Q1*T1 + Qm*Tm_in)/(Q1 + Qm) - T2)*(Q1 + Qm)/V[2] - dH_pcp[1]*k0[1]*exp(-ER[1]/T2)*CA2 - dH_pcp[2]*k0[2]*exp(-ER[2]/T2)*CB2 - Ua[2]*(T2 - (0.5*(Tj2_out + Tj_in[2])))/V[2]\n",
    "    dx[10] = Qj_in[2]*(Tj2_out - Tj_in[2]) - Ua[2]*(T2 - (0.5*(Tj2_out + Tj_in[2])))\n",
    "    \n",
    "    nothing\n",
    "end\n",
    "\n",
    "# mass matrix to determine algebraic equations\n",
    "M = [1. 0 0 0 0 0 0 0 0 0;\n",
    "     0 1. 0 0 0 0 0 0 0 0;\n",
    "     0 0 1. 0 0 0 0 0 0 0;\n",
    "     0 0 0 1. 0 0 0 0 0 0;\n",
    "     0 0 0 0 0 0 0 0 0 0;\n",
    "     0 0 0 0 0 1. 0 0 0 0;\n",
    "     0 0 0 0 0 0 1. 0 0 0;\n",
    "     0 0 0 0 0 0 0 1. 0 0;\n",
    "     0 0 0 0 0 0 0 0 1. 0;\n",
    "     0 0 0 0 0 0 0 0 0 0]\n",
    "\n",
    "ode_fun_mm = ODEFunction(twoCSTRS_dae!,mass_matrix=M);"
   ]
  },
  {
   "cell_type": "markdown",
   "id": "764a6337",
   "metadata": {},
   "source": [
    "<a id=\"sec3\"></a>"
   ]
  },
  {
   "cell_type": "markdown",
   "id": "7dbb9c4b",
   "metadata": {},
   "source": [
    "# Implementing CL-DRTO in closed loop with the plant\n",
    "\n",
    "Here we run a Monte Carlo Analysis of the CL-DRTO results. The uncertain parameter value is drawn at each MC iteration and the DRTO has access to the lower and upper bound of that distribution to create the scenarios. "
   ]
  },
  {
   "cell_type": "markdown",
   "id": "b5c4412f",
   "metadata": {},
   "source": [
    "Getting the solution for the nominal scenario"
   ]
  },
  {
   "cell_type": "code",
   "execution_count": 16,
   "id": "4697c3ee",
   "metadata": {},
   "outputs": [],
   "source": [
    "# building MPC's\n",
    "# reactor 1 MPC: T1 <-> Q1\n",
    "mpc1 = MPC_matrices(a1_hat,b1_hat,1,p,m,q,r[1])\n",
    "# reactor 2 MPC: T2 <-> Qm\n",
    "mpc2 = MPC_matrices(a2_hat,b2_hat,1,p,m,q,r[2]);"
   ]
  },
  {
   "cell_type": "code",
   "execution_count": 17,
   "id": "a5cd27ad",
   "metadata": {},
   "outputs": [],
   "source": [
    "# Monte Carlo iterations\n",
    "n_MC = 2\n",
    "\n",
    "# Simulation time in sampling periods\n",
    "nsim = 40\n",
    "\n",
    "# number of scenarios\n",
    "nS_MC = 3 \n",
    "\n",
    "# creating uncertain parameter array\n",
    "pTemp = LinRange(pNom - deltaPar,pNom + deltaPar, nS_MC)\n",
    "pUnc = [pTemp'; Ua[2]*ones(1,nS_MC)]\n",
    "\n",
    "#equiprobable scenarios\n",
    "pS_MC = 1.0/nS_MC\n",
    "\n",
    "# Extracting solution for plotting --> monolithic vs. decomposed \n",
    "TrPlant = Array{Float64}(undef,nrt,nsim,n_MC,2)\n",
    "TjPlant = Array{Float64}(undef,nrt,nsim,n_MC,2)\n",
    "QPlant = Array{Float64}(undef,nsim,n_MC,2)\n",
    "QmPlant = Array{Float64}(undef,nsim,n_MC,2)\n",
    "yspPlant = Array{Float64}(undef,nrt,nsim,n_MC,2)\n",
    "flagCLDRTO = Array{Float64}(undef,nsim,n_MC,2);"
   ]
  },
  {
   "cell_type": "markdown",
   "id": "7b8caf7d",
   "metadata": {},
   "source": [
    "## Plant simulation"
   ]
  },
  {
   "cell_type": "code",
   "execution_count": null,
   "id": "25278aaa",
   "metadata": {},
   "outputs": [
    {
     "name": "stdout",
     "output_type": "stream",
     "text": [
      "\n",
      "******************************************************************************\n",
      "This program contains Ipopt, a library for large-scale nonlinear optimization.\n",
      " Ipopt is released as open source code under the Eclipse Public License (EPL).\n",
      "         For more information visit https://github.com/coin-or/Ipopt\n",
      "******************************************************************************\n",
      "\n",
      "MC: 1>> Time: 1\n"
     ]
    },
    {
     "data": {
      "text/plain": [
       "\"Solution found\""
      ]
     },
     "metadata": {},
     "output_type": "display_data"
    },
    {
     "name": "stdout",
     "output_type": "stream",
     "text": [
      "MC: 1>> Time: 2\n",
      "MC: 1>> Time: 3\n",
      "MC: 1>> Time: 4\n"
     ]
    },
    {
     "data": {
      "text/plain": [
       "\"Nominal solution found\""
      ]
     },
     "metadata": {},
     "output_type": "display_data"
    },
    {
     "data": {
      "text/plain": [
       "\"Solution found\""
      ]
     },
     "metadata": {},
     "output_type": "display_data"
    },
    {
     "name": "stdout",
     "output_type": "stream",
     "text": [
      "MC: 1>> Time: 5\n",
      "MC: 1>> Time: 6\n",
      "MC: 1>> Time: 7\n",
      "MC: 1>> Time: 8\n"
     ]
    },
    {
     "data": {
      "text/plain": [
       "\"Nominal solution found\""
      ]
     },
     "metadata": {},
     "output_type": "display_data"
    },
    {
     "data": {
      "text/plain": [
       "\"Solution found\""
      ]
     },
     "metadata": {},
     "output_type": "display_data"
    },
    {
     "name": "stdout",
     "output_type": "stream",
     "text": [
      "MC: 1>> Time: 9\n",
      "MC: 1>> Time: 10\n",
      "MC: 1>> Time: 11\n",
      "MC: 1>> Time: 12\n"
     ]
    },
    {
     "data": {
      "text/plain": [
       "\"Nominal solution found\""
      ]
     },
     "metadata": {},
     "output_type": "display_data"
    },
    {
     "data": {
      "text/plain": [
       "\"Solution found\""
      ]
     },
     "metadata": {},
     "output_type": "display_data"
    },
    {
     "name": "stdout",
     "output_type": "stream",
     "text": [
      "MC: 1>> Time: 13\n",
      "MC: 1>> Time: 14\n",
      "MC: 1>> Time: 15\n",
      "MC: 1>> Time: 16\n"
     ]
    },
    {
     "data": {
      "text/plain": [
       "\"Nominal solution found\""
      ]
     },
     "metadata": {},
     "output_type": "display_data"
    },
    {
     "data": {
      "text/plain": [
       "\"Solution found\""
      ]
     },
     "metadata": {},
     "output_type": "display_data"
    },
    {
     "name": "stdout",
     "output_type": "stream",
     "text": [
      "MC: 1>> Time: 17\n",
      "MC: 1>> Time: 18\n",
      "MC: 1>> Time: 19\n",
      "MC: 1>> Time: 20\n"
     ]
    },
    {
     "data": {
      "text/plain": [
       "\"Nominal solution found\""
      ]
     },
     "metadata": {},
     "output_type": "display_data"
    },
    {
     "data": {
      "text/plain": [
       "\"Solution found\""
      ]
     },
     "metadata": {},
     "output_type": "display_data"
    },
    {
     "name": "stdout",
     "output_type": "stream",
     "text": [
      "MC: 1>> Time: 21\n",
      "MC: 1>> Time: 22\n",
      "MC: 1>> Time: 23\n",
      "MC: 1>> Time: 24\n"
     ]
    },
    {
     "data": {
      "text/plain": [
       "\"Nominal solution found\""
      ]
     },
     "metadata": {},
     "output_type": "display_data"
    },
    {
     "data": {
      "text/plain": [
       "\"Solution found\""
      ]
     },
     "metadata": {},
     "output_type": "display_data"
    },
    {
     "name": "stdout",
     "output_type": "stream",
     "text": [
      "MC: 1>> Time: 25\n",
      "MC: 1>> Time: 26\n",
      "MC: 1>> Time: 27\n",
      "MC: 1>> Time: 28\n"
     ]
    },
    {
     "data": {
      "text/plain": [
       "\"Nominal solution found\""
      ]
     },
     "metadata": {},
     "output_type": "display_data"
    },
    {
     "data": {
      "text/plain": [
       "\"Solution found\""
      ]
     },
     "metadata": {},
     "output_type": "display_data"
    },
    {
     "name": "stdout",
     "output_type": "stream",
     "text": [
      "MC: 1>> Time: 29\n",
      "MC: 1>> Time: 30\n",
      "MC: 1>> Time: 31\n",
      "MC: 1>> Time: 32\n"
     ]
    },
    {
     "data": {
      "text/plain": [
       "\"Nominal solution found\""
      ]
     },
     "metadata": {},
     "output_type": "display_data"
    },
    {
     "data": {
      "text/plain": [
       "\"Solution found\""
      ]
     },
     "metadata": {},
     "output_type": "display_data"
    },
    {
     "name": "stdout",
     "output_type": "stream",
     "text": [
      "MC: 1>> Time: 33\n",
      "MC: 1>> Time: 34\n",
      "MC: 1>> Time: 35\n",
      "MC: 1>> Time: 36\n"
     ]
    },
    {
     "data": {
      "text/plain": [
       "\"Nominal solution found\""
      ]
     },
     "metadata": {},
     "output_type": "display_data"
    },
    {
     "data": {
      "text/plain": [
       "\"Solution found\""
      ]
     },
     "metadata": {},
     "output_type": "display_data"
    },
    {
     "name": "stdout",
     "output_type": "stream",
     "text": [
      "MC: 1>> Time: 37\n",
      "MC: 1>> Time: 38\n",
      "MC: 1>> Time: 39\n",
      "MC: 1>> Time: 40\n"
     ]
    },
    {
     "data": {
      "text/plain": [
       "\"Nominal solution found\""
      ]
     },
     "metadata": {},
     "output_type": "display_data"
    },
    {
     "data": {
      "text/plain": [
       "\"Solution found\""
      ]
     },
     "metadata": {},
     "output_type": "display_data"
    },
    {
     "name": "stdout",
     "output_type": "stream",
     "text": [
      "MC: 1>> Time: 1\n"
     ]
    },
    {
     "data": {
      "text/plain": [
       "\">>>>>> iteration 1:O\""
      ]
     },
     "metadata": {},
     "output_type": "display_data"
    },
    {
     "data": {
      "text/plain": [
       "\">>>>>> iteration 2:O\""
      ]
     },
     "metadata": {},
     "output_type": "display_data"
    },
    {
     "data": {
      "text/plain": [
       "\">>>>>> iteration 3:O\""
      ]
     },
     "metadata": {},
     "output_type": "display_data"
    },
    {
     "data": {
      "text/plain": [
       "\">>>>>> iteration 4:O\""
      ]
     },
     "metadata": {},
     "output_type": "display_data"
    },
    {
     "data": {
      "text/plain": [
       "\">>>>>> iteration 5:O\""
      ]
     },
     "metadata": {},
     "output_type": "display_data"
    },
    {
     "data": {
      "text/plain": [
       "\">>>>>> iteration 6:O\""
      ]
     },
     "metadata": {},
     "output_type": "display_data"
    },
    {
     "data": {
      "text/plain": [
       "\">>>>>> iteration 7:O\""
      ]
     },
     "metadata": {},
     "output_type": "display_data"
    },
    {
     "data": {
      "text/plain": [
       "\">>>>>> iteration 8:O\""
      ]
     },
     "metadata": {},
     "output_type": "display_data"
    },
    {
     "data": {
      "text/plain": [
       "\">>>>>> iteration 9:O\""
      ]
     },
     "metadata": {},
     "output_type": "display_data"
    },
    {
     "data": {
      "text/plain": [
       "\">>>>>> iteration 10:O\""
      ]
     },
     "metadata": {},
     "output_type": "display_data"
    },
    {
     "data": {
      "text/plain": [
       "\">>>>>> iteration 11:O\""
      ]
     },
     "metadata": {},
     "output_type": "display_data"
    },
    {
     "data": {
      "text/plain": [
       "\">>>>>> iteration 12:O\""
      ]
     },
     "metadata": {},
     "output_type": "display_data"
    },
    {
     "data": {
      "text/plain": [
       "\">>>>>> iteration 13:O\""
      ]
     },
     "metadata": {},
     "output_type": "display_data"
    },
    {
     "data": {
      "text/plain": [
       "\">>>>>> iteration 14:O\""
      ]
     },
     "metadata": {},
     "output_type": "display_data"
    },
    {
     "data": {
      "text/plain": [
       "\">>>>>> iteration 15:O\""
      ]
     },
     "metadata": {},
     "output_type": "display_data"
    },
    {
     "data": {
      "text/plain": [
       "\">>>>>> iteration 16:O\""
      ]
     },
     "metadata": {},
     "output_type": "display_data"
    },
    {
     "data": {
      "text/plain": [
       "\">>>>>> iteration 17:O\""
      ]
     },
     "metadata": {},
     "output_type": "display_data"
    },
    {
     "data": {
      "text/plain": [
       "\">>>>>> iteration 18:O\""
      ]
     },
     "metadata": {},
     "output_type": "display_data"
    },
    {
     "data": {
      "text/plain": [
       "\">>>>>> iteration 19:O\""
      ]
     },
     "metadata": {},
     "output_type": "display_data"
    },
    {
     "data": {
      "text/plain": [
       "\">>>>>> iteration 20:O\""
      ]
     },
     "metadata": {},
     "output_type": "display_data"
    },
    {
     "data": {
      "text/plain": [
       "\">>>>>> iteration 21:O\""
      ]
     },
     "metadata": {},
     "output_type": "display_data"
    },
    {
     "data": {
      "text/plain": [
       "\">>>>>> iteration 22:O\""
      ]
     },
     "metadata": {},
     "output_type": "display_data"
    },
    {
     "data": {
      "text/plain": [
       "\">>>>>> iteration 23:O\""
      ]
     },
     "metadata": {},
     "output_type": "display_data"
    },
    {
     "data": {
      "text/plain": [
       "\">>>>>> iteration 24:O\""
      ]
     },
     "metadata": {},
     "output_type": "display_data"
    },
    {
     "data": {
      "text/plain": [
       "\">>>>>> iteration 25:O\""
      ]
     },
     "metadata": {},
     "output_type": "display_data"
    },
    {
     "data": {
      "text/plain": [
       "\">>>>>> iteration 26:O\""
      ]
     },
     "metadata": {},
     "output_type": "display_data"
    },
    {
     "data": {
      "text/plain": [
       "\">>>>>> iteration 27:O\""
      ]
     },
     "metadata": {},
     "output_type": "display_data"
    },
    {
     "data": {
      "text/plain": [
       "\">>>>>> iteration 28:O\""
      ]
     },
     "metadata": {},
     "output_type": "display_data"
    },
    {
     "data": {
      "text/plain": [
       "\">>>>>> iteration 29:O\""
      ]
     },
     "metadata": {},
     "output_type": "display_data"
    },
    {
     "data": {
      "text/plain": [
       "\">>>>>> iteration 30:O\""
      ]
     },
     "metadata": {},
     "output_type": "display_data"
    },
    {
     "data": {
      "text/plain": [
       "\">>>>>> iteration 31:O\""
      ]
     },
     "metadata": {},
     "output_type": "display_data"
    },
    {
     "data": {
      "text/plain": [
       "\">>>>>> iteration 32:O\""
      ]
     },
     "metadata": {},
     "output_type": "display_data"
    },
    {
     "data": {
      "text/plain": [
       "\">>>>>> iteration 33:O\""
      ]
     },
     "metadata": {},
     "output_type": "display_data"
    },
    {
     "data": {
      "text/plain": [
       "\">>>>>> iteration 34:O\""
      ]
     },
     "metadata": {},
     "output_type": "display_data"
    },
    {
     "data": {
      "text/plain": [
       "\">>>>>> iteration 35:O\""
      ]
     },
     "metadata": {},
     "output_type": "display_data"
    },
    {
     "data": {
      "text/plain": [
       "\">>>>>> iteration 36:O\""
      ]
     },
     "metadata": {},
     "output_type": "display_data"
    },
    {
     "data": {
      "text/plain": [
       "\">>>>>> iteration 37:O\""
      ]
     },
     "metadata": {},
     "output_type": "display_data"
    },
    {
     "data": {
      "text/plain": [
       "\">>>>>> iteration 38:O\""
      ]
     },
     "metadata": {},
     "output_type": "display_data"
    },
    {
     "data": {
      "text/plain": [
       "\">>>>>> iteration 39:O\""
      ]
     },
     "metadata": {},
     "output_type": "display_data"
    },
    {
     "data": {
      "text/plain": [
       "\">>>>>> iteration 40:O\""
      ]
     },
     "metadata": {},
     "output_type": "display_data"
    },
    {
     "data": {
      "text/plain": [
       "\">>>>>> iteration 41:O\""
      ]
     },
     "metadata": {},
     "output_type": "display_data"
    },
    {
     "data": {
      "text/plain": [
       "\">>>>>> iteration 42:O\""
      ]
     },
     "metadata": {},
     "output_type": "display_data"
    },
    {
     "data": {
      "text/plain": [
       "\">>>>>> iteration 43:O\""
      ]
     },
     "metadata": {},
     "output_type": "display_data"
    },
    {
     "data": {
      "text/plain": [
       "\">>>>>> iteration 44:O\""
      ]
     },
     "metadata": {},
     "output_type": "display_data"
    },
    {
     "data": {
      "text/plain": [
       "\">>>>>> iteration 45:O\""
      ]
     },
     "metadata": {},
     "output_type": "display_data"
    },
    {
     "data": {
      "text/plain": [
       "\">>>>>> iteration 46:O\""
      ]
     },
     "metadata": {},
     "output_type": "display_data"
    },
    {
     "data": {
      "text/plain": [
       "\">>>>>> iteration 47:O\""
      ]
     },
     "metadata": {},
     "output_type": "display_data"
    },
    {
     "data": {
      "text/plain": [
       "\">>>>>> iteration 48:O\""
      ]
     },
     "metadata": {},
     "output_type": "display_data"
    },
    {
     "data": {
      "text/plain": [
       "\">>>>>> iteration 49:O\""
      ]
     },
     "metadata": {},
     "output_type": "display_data"
    },
    {
     "data": {
      "text/plain": [
       "\">>>>>> iteration 50:O\""
      ]
     },
     "metadata": {},
     "output_type": "display_data"
    },
    {
     "data": {
      "text/plain": [
       "\">>>>>> iteration 51:O\""
      ]
     },
     "metadata": {},
     "output_type": "display_data"
    },
    {
     "data": {
      "text/plain": [
       "\">>>>>> iteration 52:O\""
      ]
     },
     "metadata": {},
     "output_type": "display_data"
    },
    {
     "data": {
      "text/plain": [
       "\">>>>>> iteration 53:O\""
      ]
     },
     "metadata": {},
     "output_type": "display_data"
    },
    {
     "data": {
      "text/plain": [
       "\">>>>>> iteration 54:O\""
      ]
     },
     "metadata": {},
     "output_type": "display_data"
    },
    {
     "data": {
      "text/plain": [
       "\">>>>>> iteration 55:O\""
      ]
     },
     "metadata": {},
     "output_type": "display_data"
    },
    {
     "data": {
      "text/plain": [
       "\">>>>>> iteration 56:O\""
      ]
     },
     "metadata": {},
     "output_type": "display_data"
    },
    {
     "data": {
      "text/plain": [
       "\">>>>>> iteration 57:O\""
      ]
     },
     "metadata": {},
     "output_type": "display_data"
    },
    {
     "data": {
      "text/plain": [
       "\">>>>>> iteration 58:O\""
      ]
     },
     "metadata": {},
     "output_type": "display_data"
    },
    {
     "data": {
      "text/plain": [
       "\">>>>>> iteration 59:O\""
      ]
     },
     "metadata": {},
     "output_type": "display_data"
    },
    {
     "data": {
      "text/plain": [
       "\">>>>>> iteration 60:O\""
      ]
     },
     "metadata": {},
     "output_type": "display_data"
    },
    {
     "data": {
      "text/plain": [
       "\">>>>>> iteration 61:O\""
      ]
     },
     "metadata": {},
     "output_type": "display_data"
    },
    {
     "data": {
      "text/plain": [
       "\">>>>>> iteration 62:O\""
      ]
     },
     "metadata": {},
     "output_type": "display_data"
    },
    {
     "data": {
      "text/plain": [
       "\">>>>>> iteration 63:O\""
      ]
     },
     "metadata": {},
     "output_type": "display_data"
    },
    {
     "data": {
      "text/plain": [
       "\">>>>>> iteration 64:O\""
      ]
     },
     "metadata": {},
     "output_type": "display_data"
    },
    {
     "data": {
      "text/plain": [
       "\">>>>>> iteration 65:O\""
      ]
     },
     "metadata": {},
     "output_type": "display_data"
    },
    {
     "data": {
      "text/plain": [
       "\">>>>>> iteration 66:O\""
      ]
     },
     "metadata": {},
     "output_type": "display_data"
    },
    {
     "data": {
      "text/plain": [
       "\">>>>>> iteration 67:O\""
      ]
     },
     "metadata": {},
     "output_type": "display_data"
    },
    {
     "data": {
      "text/plain": [
       "\">>>>>> iteration 68:O\""
      ]
     },
     "metadata": {},
     "output_type": "display_data"
    },
    {
     "data": {
      "text/plain": [
       "\">>>>>> iteration 69:O\""
      ]
     },
     "metadata": {},
     "output_type": "display_data"
    },
    {
     "data": {
      "text/plain": [
       "\">>>>>> iteration 70:O\""
      ]
     },
     "metadata": {},
     "output_type": "display_data"
    },
    {
     "data": {
      "text/plain": [
       "\">>>>>> iteration 71:O\""
      ]
     },
     "metadata": {},
     "output_type": "display_data"
    },
    {
     "data": {
      "text/plain": [
       "\">>>>>> iteration 72:O\""
      ]
     },
     "metadata": {},
     "output_type": "display_data"
    },
    {
     "data": {
      "text/plain": [
       "\">>>>>> iteration 73:O\""
      ]
     },
     "metadata": {},
     "output_type": "display_data"
    },
    {
     "data": {
      "text/plain": [
       "\">>>>>> iteration 74:O\""
      ]
     },
     "metadata": {},
     "output_type": "display_data"
    },
    {
     "data": {
      "text/plain": [
       "\">>>>>> iteration 75:O\""
      ]
     },
     "metadata": {},
     "output_type": "display_data"
    },
    {
     "data": {
      "text/plain": [
       "\"Solution not found\""
      ]
     },
     "metadata": {},
     "output_type": "display_data"
    },
    {
     "name": "stdout",
     "output_type": "stream",
     "text": [
      "MC: 1>> Time: 2\n",
      "MC: 1>> Time: 3\n",
      "MC: 1>> Time: 4\n"
     ]
    },
    {
     "data": {
      "text/plain": [
       "\"Nominal solution not found\""
      ]
     },
     "metadata": {},
     "output_type": "display_data"
    },
    {
     "data": {
      "text/plain": [
       "\">>>>>> iteration 1:F\""
      ]
     },
     "metadata": {},
     "output_type": "display_data"
    },
    {
     "data": {
      "text/plain": [
       "\">>>>>> iteration 2:F\""
      ]
     },
     "metadata": {},
     "output_type": "display_data"
    },
    {
     "data": {
      "text/plain": [
       "\">>>>>> iteration 3:F\""
      ]
     },
     "metadata": {},
     "output_type": "display_data"
    },
    {
     "data": {
      "text/plain": [
       "\">>>>>> iteration 4:F\""
      ]
     },
     "metadata": {},
     "output_type": "display_data"
    },
    {
     "data": {
      "text/plain": [
       "\">>>>>> iteration 5:F\""
      ]
     },
     "metadata": {},
     "output_type": "display_data"
    },
    {
     "data": {
      "text/plain": [
       "\">>>>>> iteration 6:F\""
      ]
     },
     "metadata": {},
     "output_type": "display_data"
    },
    {
     "data": {
      "text/plain": [
       "\">>>>>> iteration 7:F\""
      ]
     },
     "metadata": {},
     "output_type": "display_data"
    },
    {
     "data": {
      "text/plain": [
       "\">>>>>> iteration 8:F\""
      ]
     },
     "metadata": {},
     "output_type": "display_data"
    },
    {
     "data": {
      "text/plain": [
       "\">>>>>> iteration 9:F\""
      ]
     },
     "metadata": {},
     "output_type": "display_data"
    },
    {
     "data": {
      "text/plain": [
       "\">>>>>> iteration 10:F\""
      ]
     },
     "metadata": {},
     "output_type": "display_data"
    },
    {
     "data": {
      "text/plain": [
       "\">>>>>> iteration 11:F\""
      ]
     },
     "metadata": {},
     "output_type": "display_data"
    },
    {
     "data": {
      "text/plain": [
       "\">>>>>> iteration 12:F\""
      ]
     },
     "metadata": {},
     "output_type": "display_data"
    },
    {
     "data": {
      "text/plain": [
       "\">>>>>> iteration 13:F\""
      ]
     },
     "metadata": {},
     "output_type": "display_data"
    },
    {
     "data": {
      "text/plain": [
       "\">>>>>> iteration 14:F\""
      ]
     },
     "metadata": {},
     "output_type": "display_data"
    },
    {
     "data": {
      "text/plain": [
       "\">>>>>> iteration 15:F\""
      ]
     },
     "metadata": {},
     "output_type": "display_data"
    },
    {
     "data": {
      "text/plain": [
       "\">>>>>> iteration 16:F\""
      ]
     },
     "metadata": {},
     "output_type": "display_data"
    },
    {
     "data": {
      "text/plain": [
       "\">>>>>> iteration 17:F\""
      ]
     },
     "metadata": {},
     "output_type": "display_data"
    },
    {
     "data": {
      "text/plain": [
       "\">>>>>> iteration 18:F\""
      ]
     },
     "metadata": {},
     "output_type": "display_data"
    },
    {
     "data": {
      "text/plain": [
       "\">>>>>> iteration 19:F\""
      ]
     },
     "metadata": {},
     "output_type": "display_data"
    },
    {
     "data": {
      "text/plain": [
       "\">>>>>> iteration 20:F\""
      ]
     },
     "metadata": {},
     "output_type": "display_data"
    },
    {
     "data": {
      "text/plain": [
       "\">>>>>> iteration 21:F\""
      ]
     },
     "metadata": {},
     "output_type": "display_data"
    },
    {
     "data": {
      "text/plain": [
       "\">>>>>> iteration 22:F\""
      ]
     },
     "metadata": {},
     "output_type": "display_data"
    },
    {
     "data": {
      "text/plain": [
       "\">>>>>> iteration 23:F\""
      ]
     },
     "metadata": {},
     "output_type": "display_data"
    },
    {
     "data": {
      "text/plain": [
       "\">>>>>> iteration 24:F\""
      ]
     },
     "metadata": {},
     "output_type": "display_data"
    },
    {
     "data": {
      "text/plain": [
       "\">>>>>> iteration 25:F\""
      ]
     },
     "metadata": {},
     "output_type": "display_data"
    },
    {
     "data": {
      "text/plain": [
       "\">>>>>> iteration 26:F\""
      ]
     },
     "metadata": {},
     "output_type": "display_data"
    }
   ],
   "source": [
    "for jj = 1:n_MC\n",
    "    # ramdonly drawing the plant from the previously computed models\n",
    "    d = Truncated(Normal(pNom, deltaPar), pNom - 3*deltaPar, pNom + 3*deltaPar)  #Construct the distribution type\n",
    "    pPlant = rand(d)\n",
    "    \n",
    "    # RUNNING SIMULATION\n",
    "    for mm = 1:2\n",
    "        \n",
    "        # preparing simulation (starting from opt steady-state)\n",
    "        # plant \n",
    "        xk = x0\n",
    "        uk_1 = [Q0[1] Qm0]\n",
    "\n",
    "        # mpc's models - initial states is the same\n",
    "        xk_mpc1 = x0[4] - T1_0_bar\n",
    "        dek_mpc1 = 0.0\n",
    "        xk_mpc2 = x0[9] - T2_0_bar\n",
    "        dek_mpc2 = 0.0\n",
    "        \n",
    "        # initial conditions (CLDRTO)\n",
    "        Cpk = C0\n",
    "        Tpk = T0\n",
    "        \n",
    "        solNom = MS_CLDRTO(Cpk,Tpk,uk_1,[xk_mpc1;xk_mpc2],Ua,1,0)\n",
    "        \n",
    "        for ii = 1:nsim\n",
    "\n",
    "            print(\"MC: \", jj)\n",
    "            println(\">> Time: \",ii)\n",
    "\n",
    "            # updating arrays # States (algebraic and differential): CA1,CB1,CC1,T1,Tj1_out,CA2,CB2,CC2,T2,Tj2_out\n",
    "            TrPlant[1,ii,jj,mm] = xk[4]\n",
    "            TrPlant[2,ii,jj,mm] = xk[9]\n",
    "            TjPlant[1,ii,jj,mm] = xk[5]\n",
    "            TjPlant[2,ii,jj,mm] = xk[10]\n",
    "            QPlant[ii,jj,mm] = uk_1[1]\n",
    "            QmPlant[ii,jj,mm] = uk_1[2]\n",
    "\n",
    "            # executing DRTO\n",
    "            if ii%Δdrto == 0 || ii == 1\n",
    "                \n",
    "                if ii > 1\n",
    "                    sol_1s_temp = MS_CLDRTO(Cpk,Tpk,uk_1,[xk_mpc1;xk_mpc2],Ua,1,solNom)\n",
    "                    # checking if 1s solution converged\n",
    "                    if sol_1s_temp['f'] == 1\n",
    "                        display(\"Nominal solution found\")\n",
    "                        solNom = sol_1s_temp \n",
    "                    else\n",
    "                        # using SS as guess\n",
    "                        sol_1s_temp = MS_CLDRTO(Cpk,Tpk,uk_1,[xk_mpc1;xk_mpc2],Ua,1,0)\n",
    "                        if sol_1s_temp['f'] == 1\n",
    "                            display(\"Nominal solution found (SS)\")\n",
    "                            solNom = sol_1s_temp  \n",
    "                        else\n",
    "                            display(\"Nominal solution not found\")\n",
    "                        end\n",
    "                    end\n",
    "                end\n",
    "                \n",
    "                \n",
    "                if mm == 1\n",
    "                    sol_temp = MS_CLDRTO(Cpk,Tpk,uk_1,[xk_mpc1;xk_mpc2],pUnc,nS_MC,solNom)\n",
    "                else\n",
    "                    sol_temp = BENS_CLDRTO(Cpk,Tpk,uk_1,[xk_mpc1;xk_mpc2],pUnc,nS_MC,solNom)\n",
    "                end\n",
    "                \n",
    "                # checking solution\n",
    "                if sol_temp['f'] == 1\n",
    "                    display(\"Solution found\")\n",
    "                    # updating the solution\n",
    "                    global sol_k = sol_temp\n",
    "                    # counter for DRTO executions\n",
    "                    global countDRTO = 1;\n",
    "                    # N.B. need to declare as global due to loop scope\n",
    "                else\n",
    "                    display(\"Solution not found\")\n",
    "                    # does not update either the solution or the counter \n",
    "                end\n",
    "            end\n",
    "            \n",
    "            # saving flag: surrogate for CLDRTO flag\n",
    "            flagCLDRTO[ii,jj,mm] = countDRTO\n",
    "\n",
    "            # Preparing controller \n",
    "            yspk = sol_k['s'][:,countDRTO,2] \n",
    "            countDRTO += 1 \n",
    "            # N.B.:\n",
    "            # using nominal (center) scenario, but any scenario could be used\n",
    "\n",
    "            # solving MPC\n",
    "            sol1 = solveMPC(xk_mpc1,dek_mpc1,uk_1[1],yspk[1],u_mpc_lb,u_mpc_ub,T1_0_bar,Q1_0_bar,mpc1,p,q)\n",
    "            sol2 = solveMPC(xk_mpc2,dek_mpc2,uk_1[2],yspk[2],u_mpc_lb,u_mpc_ub,T2_0_bar,Qm_0_bar,mpc2,p,q)\n",
    "            \n",
    "            # evolving plant\n",
    "            ode_prob_mm = ODEProblem(ode_fun_mm,xk,tspan,[sol1['u'][1],sol2['u'][1],pPlant]);\n",
    "            sol =  solve(ode_prob_mm, Rodas5(),reltol=1e-8,abstol=1e-8,save_everystep = false);\n",
    "\n",
    "            # loop\n",
    "            # -> Plant \n",
    "            xk = sol.u[end]\n",
    "            uk_1 = [sol1['u'][1],sol2['u'][1]]\n",
    "            \n",
    "            # -> MPCs\n",
    "            # evolving MPC models\n",
    "            xk_mpc1  = a1_hat*xk_mpc1 + b1_hat*(sol1['u'][1] - Q1_0_bar)\n",
    "            dek_mpc1 = sol.u[end][4] - (xk_mpc1 + T1_0_bar)\n",
    "\n",
    "            xk_mpc2  = a2_hat*xk_mpc2 + b2_hat*(sol2['u'][1] - Qm_0_bar)\n",
    "            dek_mpc2 = sol.u[end][9] - (xk_mpc2 + T2_0_bar)\n",
    "\n",
    "            # -> DRTO\n",
    "            Cpk = [xk[1] xk[6];\n",
    "                   xk[2] xk[7];\n",
    "                   xk[3] xk[8]]\n",
    "            Tpk = [xk[4] xk[9]]\n",
    "            \n",
    "            # saving CLDRTO decisions\n",
    "            yspPlant[1,ii,jj,mm] = yspk[1]\n",
    "            yspPlant[2,ii,jj,mm] = yspk[2]\n",
    "            \n",
    "            \n",
    "            \n",
    "        end # simulation\n",
    "    end # monolithic || decomposed\n",
    "end # MC"
   ]
  },
  {
   "cell_type": "markdown",
   "id": "17935b10",
   "metadata": {},
   "source": [
    "Preparing plot"
   ]
  },
  {
   "cell_type": "code",
   "execution_count": null,
   "id": "f6527b20",
   "metadata": {},
   "outputs": [],
   "source": [
    "# time series for plotting\n",
    "ts = Vector{Float64}(undef,nsim) \n",
    "for i in 1:nsim\n",
    "    ts[i] = 1*i\n",
    "end\n",
    "\n",
    "# one subplot for each method\n",
    "num_subplots = 2\n",
    "\n",
    "# Creating color array\n",
    "CList = reshape( range(colorant\"red\", stop=colorant\"blue\",length=n_MC), 1, n_MC);\n",
    "MList =[:square, :circle];"
   ]
  },
  {
   "cell_type": "markdown",
   "id": "443f08f8",
   "metadata": {},
   "source": [
    "- Reactor 1: Reactor Temperature / Setpoint / Jacket Temperature / MV"
   ]
  },
  {
   "cell_type": "code",
   "execution_count": null,
   "id": "9290063f",
   "metadata": {},
   "outputs": [],
   "source": [
    "p1 = plot(layout = (num_subplots, 1),fmt = :svg, resolution = (600, 400), latex=true,gridlinewidth=2) \n",
    "\n",
    "# Loop to generate subplots \n",
    "for mm in 1:num_subplots     \n",
    "    # Plot data based on the subplot index \n",
    "    # limits\n",
    "    plot!(subplot=mm,ts,Tr_max*ones(length(ts)),linestyle = :dot,linecolor = :black,label=\"\")\n",
    "     \n",
    "    for nn in 1:n_MC\n",
    "        plot!(subplot=mm,ts,TrPlant[1,:,nn,mm],linewidth=3,linealpha = 0.3,linecolor = CList[nn],legend=false)\n",
    "    end\n",
    "    \n",
    "    # Add labels, titles, or other customizations to each subplot \n",
    "    ylabel!(L\"T_{r1} [K]\") \n",
    "    \n",
    "end \n",
    "\n",
    "# Display the subplots \n",
    "display(p1)"
   ]
  },
  {
   "cell_type": "code",
   "execution_count": null,
   "id": "2f0ed6c7",
   "metadata": {},
   "outputs": [],
   "source": [
    "p2 = plot(layout = (num_subplots, 1),fmt = :svg, resolution = (600, 400), latex=true,gridlinewidth=2) \n",
    "\n",
    "# Loop to generate subplots \n",
    "for mm in 1:num_subplots \n",
    "    # limits\n",
    "#     if mm == 1\n",
    "#         plot!(subplot=ss,legend=:topleft)\n",
    "#     end\n",
    "    plot!(subplot=mm,ts,yspMax[1]*ones(length(ts)),linestyle = :dot,linecolor = :black,label=\"\")\n",
    "    \n",
    "    for nn in 1:n_MC\n",
    "        plot!(subplot=mm,ts,yspPlant[1,:,nn,mm],linewidth=3,linealpha = 0.3,linecolor = CList[nn],legend=false)\n",
    "    end\n",
    "     \n",
    "    # Add labels, titles, or other customizations to each subplot \n",
    "    ylabel!(L\"T_{r1}^{SP} [K]\") \n",
    "end \n",
    "\n",
    "# Display the subplots \n",
    "display(p2)"
   ]
  },
  {
   "cell_type": "code",
   "execution_count": null,
   "id": "9ac75ab4",
   "metadata": {},
   "outputs": [],
   "source": [
    "p3 = plot(layout = (num_subplots, 1),fmt = :svg, resolution = (600, 400), latex=true,gridlinewidth=2,legend=:topleft) \n",
    "\n",
    "# Loop to generate subplots \n",
    "for mm in 1:num_subplots  \n",
    "    # limits\n",
    "    plot!(subplot=mm,ts,Tj_max[1]*ones(length(ts)),linestyle = :dot,linecolor = :black,label=\"\")\n",
    "    \n",
    "    for nn in 1:n_MC\n",
    "        plot!(subplot=mm,ts,TjPlant[1,:,nn,mm],linewidth=3,linealpha = 0.3,linecolor = CList[nn],legend=false)\n",
    "    end\n",
    "    \n",
    "    # Add labels, titles, or other customizations to each subplot \n",
    "    ylabel!(L\"T_{j1} [K]\") \n",
    "end \n",
    "\n",
    "# Display the subplots \n",
    "display(p3)"
   ]
  },
  {
   "cell_type": "code",
   "execution_count": null,
   "id": "cfdedb1f",
   "metadata": {},
   "outputs": [],
   "source": [
    "p4 = plot(layout = (num_subplots, 1),fmt = :svg, resolution = (600, 400), latex=true,gridlinewidth=2,legend=:bottomleft) \n",
    "\n",
    "# Loop to generate subplots \n",
    "for mm in 1:num_subplots  \n",
    "    # limits\n",
    "    plot!(subplot=mm,ts,Qf_max*ones(length(ts)),linestyle = :dot,linecolor = :black,label=\"\")\n",
    "    plot!(subplot=mm,ts,Q_min*ones(length(ts)),linestyle = :dot,linecolor = :black,label=\"\")\n",
    "    \n",
    "    for nn in 1:n_MC\n",
    "        plot!(subplot=mm,ts,QPlant[:,nn,mm],linewidth=3,linealpha = 0.3,linecolor = CList[nn],legend=false)\n",
    "    end\n",
    "    \n",
    "    # Add labels, titles, or other customizations to each subplot \n",
    "    ylabel!(L\"Q_{1} [m3/min]\") \n",
    "end \n",
    "\n",
    "# Display the subplots \n",
    "display(p4)"
   ]
  },
  {
   "cell_type": "markdown",
   "id": "b4334df6",
   "metadata": {},
   "source": [
    "- Reactor 2: Reactor Temperature / Setpoint / Jacket Temperature / MV"
   ]
  },
  {
   "cell_type": "code",
   "execution_count": null,
   "id": "0f908825",
   "metadata": {},
   "outputs": [],
   "source": [
    "p5 = plot(layout = (num_subplots, 1),fmt = :svg, resolution = (600, 400), latex=true,gridlinewidth=2,legend=:topleft) \n",
    "\n",
    "# Loop to generate subplots \n",
    "for mm in 1:num_subplots \n",
    "    # limits\n",
    "    plot!(subplot=mm,ts,Tr_max*ones(length(ts)),linestyle = :dot,linecolor = :black,label=\"\")\n",
    "    \n",
    "    for nn in 1:n_MC\n",
    "        plot!(subplot=mm,ts,TrPlant[2,:,nn,mm],linewidth=3,linealpha = 0.3,linecolor = CList[nn],legend=false)\n",
    "    end\n",
    "    \n",
    "    # Add labels, titles, or other customizations to each subplot \n",
    "    ylabel!(L\"T_{r2} [K]\") \n",
    "end \n",
    "\n",
    "# Display the subplots \n",
    "display(p5)"
   ]
  },
  {
   "cell_type": "code",
   "execution_count": null,
   "id": "e849c224",
   "metadata": {},
   "outputs": [],
   "source": [
    "p6 = plot(layout = (num_subplots, 1),fmt = :svg, resolution = (600, 400), latex=true,gridlinewidth=2,legend=:topleft) \n",
    "\n",
    "# Loop to generate subplots \n",
    "for mm in 1:num_subplots  \n",
    "    # limits\n",
    "    #plot!(subplot=mm,ts,yspMin[2]*ones(length(ts)),linestyle = :dot,linecolor = :black,label=\"\")\n",
    "    plot!(subplot=mm,ts,yspMax[2]*ones(length(ts)),linestyle = :dot,linecolor = :black,label=\"\")\n",
    "    \n",
    "    for nn in 1:n_MC\n",
    "        plot!(subplot=mm,ts,yspPlant[2,:,nn,mm],linewidth=3,linealpha = 0.3,linecolor = CList[nn],legend=false)\n",
    "    end\n",
    "    \n",
    "    # Add labels, titles, or other customizations to each subplot \n",
    "    ylabel!(L\"T_{r2}^{SP} [K]\") \n",
    "end \n",
    "\n",
    "\n",
    "# Display the subplots \n",
    "display(p6)"
   ]
  },
  {
   "cell_type": "code",
   "execution_count": null,
   "id": "974b006b",
   "metadata": {},
   "outputs": [],
   "source": [
    "p7 = plot(layout = (num_subplots, 1),fmt = :svg, resolution = (600, 400), latex=true,gridlinewidth=2) \n",
    "\n",
    "# Loop to generate subplots \n",
    "for mm in 1:num_subplots \n",
    "    # limits\n",
    "    plot!(subplot=mm,ts,Tj_max[2]*ones(length(ts)),linestyle = :dot,linecolor = :black,label=\"\")\n",
    "    \n",
    "    for nn in 1:n_MC\n",
    "        plot!(subplot=mm,ts,TjPlant[2,:,nn,mm],linewidth=3,linealpha = 0.3,linecolor = CList[nn],legend=false)\n",
    "    end\n",
    "    \n",
    "    # Add labels, titles, or other customizations to each subplot \n",
    "    ylabel!(L\"T_{j2} [K]\") \n",
    "end \n",
    "\n",
    "# Display the subplots \n",
    "display(p7)"
   ]
  },
  {
   "cell_type": "code",
   "execution_count": null,
   "id": "6dbcfadd",
   "metadata": {},
   "outputs": [],
   "source": [
    "p8 = plot(layout = (num_subplots, 1),fmt = :svg, resolution = (600, 400), latex=true,gridlinewidth=2,legend=:topleft) \n",
    "\n",
    "# Loop to generate subplots \n",
    "for mm in 1:num_subplots \n",
    "\n",
    "    # limits\n",
    "    plot!(subplot=mm,ts,Qf_max*ones(length(ts)),linestyle = :dot,linecolor = :black,label=\"\")\n",
    "    plot!(subplot=mm,ts,Qm_min*ones(length(ts)),linestyle = :dot,linecolor = :black,label=\"\")\n",
    "    \n",
    "    for nn in 1:n_MC\n",
    "        plot!(subplot=mm,ts,QmPlant[:,nn,mm],linewidth=3,linealpha = 0.3,linecolor = CList[nn],legend=false)\n",
    "    end\n",
    "    \n",
    "    # Add labels, titles, or other customizations to each subplot \n",
    "    ylabel!(L\"Q_{m} [m3/min]\") \n",
    "end \n",
    "\n",
    "\n",
    "# Display the subplots \n",
    "display(p8)"
   ]
  },
  {
   "cell_type": "code",
   "execution_count": null,
   "id": "58153cc1",
   "metadata": {},
   "outputs": [],
   "source": []
  }
 ],
 "metadata": {
  "kernelspec": {
   "display_name": "Julia 1.8.5",
   "language": "julia",
   "name": "julia-1.8"
  },
  "language_info": {
   "file_extension": ".jl",
   "mimetype": "application/julia",
   "name": "julia",
   "version": "1.8.5"
  }
 },
 "nbformat": 4,
 "nbformat_minor": 5
}
