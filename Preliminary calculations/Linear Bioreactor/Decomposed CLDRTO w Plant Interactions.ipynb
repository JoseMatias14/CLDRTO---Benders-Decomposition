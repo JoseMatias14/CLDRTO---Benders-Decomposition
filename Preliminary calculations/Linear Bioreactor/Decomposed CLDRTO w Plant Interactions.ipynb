{
 "cells": [
  {
   "cell_type": "markdown",
   "id": "39bb43e3",
   "metadata": {},
   "source": [
    "- **This code computes the decomposed solution of a Closed-Loop DRTO problem and implement both decomposed and monolithic strategies in a plant**\n",
    "- Using tracking objective\n",
    "- The underlying control structure (modeled in the CLDRTO model) is a constrained MPC, which is solved using MPCC\n",
    "- The problem is posed as a scenario-based stochastic programming problem\n",
    "- The case study is an affine multiple parallel bioreactor system from:*Gao, Ling. \"Modeling and dynamics analyses of immobilized CSTR bioreactor using transfer function model.\" 2012 International Symposium on Information Technologies in Medicine and Education. Vol. 2. IEEE, 2012.*\n",
    "- The uncertainty represented by the scenarios comes from the maximum specific growth rate (V_m) --> see matlab file\n",
    "\n",
    "AUTHOR: Jose Matias <assumpcj@mcmaster.ca>\n",
    "DATE: May 2023"
   ]
  },
  {
   "cell_type": "code",
   "execution_count": 1,
   "id": "67ea638f",
   "metadata": {},
   "outputs": [],
   "source": [
    "using LinearAlgebra, JuMP, CPLEX, Ipopt, Plots, CSV, DataFrames, Random, Distributions, LaTeXStrings"
   ]
  },
  {
   "cell_type": "markdown",
   "id": "b2933767",
   "metadata": {},
   "source": [
    "# Simulation Configuration"
   ]
  },
  {
   "cell_type": "code",
   "execution_count": 2,
   "id": "cb37bc36",
   "metadata": {},
   "outputs": [],
   "source": [
    "# Sampling time\n",
    "T = 1 #[h]\n",
    "\n",
    "# Set seed value for choosing the plant parameter \n",
    "seed = 42\n",
    "Random.seed!(seed)\n",
    "\n",
    "# Number of manipulated inputs\n",
    "nu = 1\n",
    "# Number of controlled outputs\n",
    "ny = 1\n",
    "\n",
    "# setting bounds (all arbitrary - not in deviation form!!) \n",
    "uMax = 1.9 # for tight constraints: 1.9 | for loose constraints: 5.0 or 10.0\n",
    "uMin = 0.0\n",
    "\n",
    "yspMax = 1.2 \n",
    "yspMin = 0.0;"
   ]
  },
  {
   "cell_type": "markdown",
   "id": "06d023cd",
   "metadata": {},
   "source": [
    "# Building affine CL-DRTO models"
   ]
  },
  {
   "cell_type": "code",
   "execution_count": 3,
   "id": "06719deb",
   "metadata": {},
   "outputs": [],
   "source": [
    "# Linearization point\n",
    "u0 = 1.5\n",
    "x0 = [0.7179;0.7821]\n",
    "y0 = 0.7821\n",
    "\n",
    "# 100 pre-computed models based on parametric uncertainty Vm (computed using matlab: BioReactorLinearization.m)\n",
    "bioModels = CSV.read(\"C:\\\\Users\\\\MACC-Jose\\\\Documents\\\\GitHub\\\\BD\\\\Preliminary calculations\\\\BioreactorModel\", DataFrame; header=false);"
   ]
  },
  {
   "cell_type": "markdown",
   "id": "8c5197b2",
   "metadata": {},
   "source": [
    "# CL-DRTO configuration"
   ]
  },
  {
   "cell_type": "code",
   "execution_count": 4,
   "id": "ad40ad5c",
   "metadata": {},
   "outputs": [],
   "source": [
    "# DRTO sampling time\n",
    "nDRTO = 4 # [h]\n",
    "# Prediction horizon\n",
    "pD = 20 + (8 - 1)# p = 8 *controller horizon  \n",
    "# Input control horizon \n",
    "mD = 20\n",
    "# Objective function: target tracking (deviation form)\n",
    "pTrack = 1.0 - y0 # [g/L] \n",
    "# Soft upper bounds on P weight (deviation form)\n",
    "pUB = 1.05 - y0 # [g/L]\n",
    "# objective function weight for P penalization term \n",
    "wP = 100;"
   ]
  },
  {
   "cell_type": "markdown",
   "id": "ac4a4609",
   "metadata": {},
   "source": [
    "# MPC configuration"
   ]
  },
  {
   "cell_type": "code",
   "execution_count": 5,
   "id": "76a65401",
   "metadata": {},
   "outputs": [],
   "source": [
    "# MPC sampling time\n",
    "nMPC = 1 # [h]\n",
    "\n",
    "# Controller configuration\n",
    "# Output prediction horizon\n",
    "p = 8\n",
    "# Input control horizon \n",
    "m = 2\n",
    "# Output weights\n",
    "q = 1\n",
    "# Input weights \n",
    "r = 1;"
   ]
  },
  {
   "cell_type": "markdown",
   "id": "14811090",
   "metadata": {},
   "source": [
    "# Bender's configuration"
   ]
  },
  {
   "cell_type": "code",
   "execution_count": 6,
   "id": "34c26822",
   "metadata": {},
   "outputs": [],
   "source": [
    "# max number of iteration\n",
    "benIterMax = 200\n",
    "\n",
    "# optimality gap (relative) tolerance\n",
    "optGap = 1e-3; # MPCC: 0.5 / 1e-3"
   ]
  },
  {
   "cell_type": "markdown",
   "id": "27186ab9",
   "metadata": {},
   "source": [
    "# Auxiliary functions"
   ]
  },
  {
   "cell_type": "markdown",
   "id": "3bd66240",
   "metadata": {},
   "source": [
    "- DRTO model changes with the number of scenarios and parallel reactors.  \n",
    "\n",
    "Used for the monolithic solution. Generates an array of models. Several different models were already computed offline and saved in the \"bioModel\" array. This function extracts the models based on a fixed index grid that is generated based on the number of scenarios"
   ]
  },
  {
   "cell_type": "code",
   "execution_count": 7,
   "id": "57ec4745",
   "metadata": {},
   "outputs": [],
   "source": [
    "function DRTO_matrices(nReactors,nScenarios)\n",
    "    ###########\n",
    "    # inputs: #\n",
    "    ###########\n",
    "    # nReactors - number of reactors in parallel\n",
    "    # nScenarios - number of scenarios used in the stochastic optimization\n",
    "    \n",
    "    # set dimensions\n",
    "    nx = 2*nReactors\n",
    "    # SISO system\n",
    "    ny = 1\n",
    "    nu = 1\n",
    "    \n",
    "    # picking up indexes equally spaced between 1 and 100 (including initial and end point) \n",
    "    # based on the desired number of scenarios\n",
    "    if nScenarios == 1\n",
    "        indexScen = 50 # nominal model --> index = 50\n",
    "    else\n",
    "        indexScen = [floor(Int, 1 + (ii - 1)*(100-1)/(nScenarios-1)) for ii in 1:nScenarios]\n",
    "    end\n",
    "    \n",
    "    # building DRTO model\n",
    "    A_drto = Array{Float64}(undef,nx,nx,nScenarios) \n",
    "    B_drto = Array{Float64}(undef,nx,nu,nScenarios) \n",
    "\n",
    "    for kk in 1:nScenarios\n",
    "\n",
    "        index_temp = indexScen[kk]\n",
    "\n",
    "        A_drto[:,:,kk] = kron(I(nReactors),Matrix(bioModels[2*(index_temp - 1) + 1:2*(index_temp - 1) + 2,1:2]))\n",
    "        B_drto[:,:,kk] = repeat(bioModels[2*(index_temp - 1) + 1:2*(index_temp - 1) + 2,3], outer = [nReactors, 1, 1])\n",
    "\n",
    "    end\n",
    "\n",
    "    # mapping states to measurements is the same for all models\n",
    "    C_drto = repeat([0 1/nReactors], outer = [1, nReactors])\n",
    "    \n",
    "    return Dict('A' => A_drto, 'B' => B_drto, 'C' => C_drto)\n",
    "end;"
   ]
  },
  {
   "cell_type": "markdown",
   "id": "d52a45b4",
   "metadata": {},
   "source": [
    "- DRTO model changes with the number of scenarios and parallel reactors.  \n",
    "\n",
    "Used for the decomposed solution. Generates a single model. Several different models were already computed offline and saved in the \"bioModel\" array. This function extracts the model of interest based on the index \"nScenario\""
   ]
  },
  {
   "cell_type": "code",
   "execution_count": 8,
   "id": "0968ca7b",
   "metadata": {},
   "outputs": [],
   "source": [
    "function DRTO_matrix(nReactors,nScenario,nScenTotal)  \n",
    "    ###########\n",
    "    # inputs: #\n",
    "    ###########\n",
    "    # nReactors - number of reactors in parallel\n",
    "    # nScenario - index the of scenario used in the stochastic optimization\n",
    "    # nScenTotal - total number of scenario used in the stochastic optimization\n",
    "    \n",
    "    # set dimensions\n",
    "    nx = 2*nReactors\n",
    "    # SISO system\n",
    "    ny = 1\n",
    "    nu = 1\n",
    "    \n",
    "    if nScenTotal == 1\n",
    "        index_temp = 50 # nominal model --> index = 50\n",
    "    else\n",
    "        indexScen = [floor(Int, 1 + (ii - 1)*(100-1)/(nScenTotal-1)) for ii in 1:nScenTotal]\n",
    "        index_temp = indexScen[nScenario]\n",
    "    end\n",
    "  \n",
    "    # building DRTO model\n",
    "    A_drto = kron(I(nReactors),Matrix(bioModels[2*(index_temp - 1) + 1:2*(index_temp - 1) + 2,1:2]))\n",
    "    B_drto = repeat(bioModels[2*(index_temp - 1) + 1:2*(index_temp - 1) + 2,3], outer = [nReactors, 1, 1])\n",
    "\n",
    "    # mapping states to measurements is the same for all models\n",
    "    C_drto = repeat([0 1/nReactors], outer = [1, nReactors]);\n",
    "    \n",
    "    return Dict('A' => A_drto, 'B' => B_drto, 'C' => C_drto)\n",
    "end;"
   ]
  },
  {
   "cell_type": "markdown",
   "id": "dbffeddf",
   "metadata": {},
   "source": [
    "- Building MPC Model\n",
    "\n",
    "Using nominal model(indexScen = 50). For the description of how the MPC matrices (with disturbance model) are built, check script: *CLDRTO with unconstrained MPC - uncertain plant test*"
   ]
  },
  {
   "cell_type": "code",
   "execution_count": 9,
   "id": "1f3177a8",
   "metadata": {},
   "outputs": [],
   "source": [
    "function MPC_matrices(nReactors)\n",
    "    ###########\n",
    "    # inputs: #\n",
    "    ###########\n",
    "    # nReactors - number of reactors in parallel\n",
    "    \n",
    "    # set dimensions\n",
    "    nx = 2*nReactors\n",
    "    # SISO system\n",
    "    ny = 1\n",
    "    nu = 1\n",
    "    \n",
    "    # extracting the matrices from the model array computed previously\n",
    "    nNom = 50 # nominal model --> index = 50\n",
    "    \n",
    "    A = kron(I(nReactors),Matrix(bioModels[2*(nNom - 1) + 1:2*(nNom - 1) + 2,1:2])) \n",
    "    B = repeat(bioModels[2*(nNom - 1) + 1:2*(nNom - 1) + 2,3], outer = [nReactors, 1])\n",
    "    C = repeat([0 1/nReactors], outer = [1, nReactors])\n",
    "    \n",
    "    # adding disturbance model\n",
    "    Ad = [A zeros(nx,ny); zeros(ny,nx) I(ny)]\n",
    "    Bd = [B; zeros(ny,nu)]\n",
    "    Cd = [C ones(ny,ny)]\n",
    "    \n",
    "    # building matrices for MPC\n",
    "    Psi = Cd*Ad\n",
    "    for ii in 2:p\n",
    "        Psi = [Psi;  Cd*Ad^ii]\n",
    "    end\n",
    "\n",
    "    # Computing Dynamic Matrix\n",
    "    a = Cd*Bd\n",
    "    for ii in 2:p\n",
    "        a = [a; Cd*Ad^(ii - 1)*Bd]\n",
    "    end\n",
    "    DynM = a\n",
    "\n",
    "    for ii in 1:(m - 2)\n",
    "        a = [zeros(ny,nu);a[1:(p-1)*ny,:]]\n",
    "        DynM = [DynM  a]\n",
    "    end\n",
    "\n",
    "    # adjusting dynamic matrix for since p > m (last column)\n",
    "    b = Cd*Bd\n",
    "\n",
    "    Ai = I(nx+1) # adding disturbance to the states\n",
    "    for ii = 1:(p - m)\n",
    "        Ai = Ai + Ad^ii\n",
    "        b = [b;Cd*Ai*Bd]\n",
    "    end\n",
    "\n",
    "    Theta=[DynM [zeros(ny*(m-1),nu);b]]\n",
    "    \n",
    "    # Creating Qbar and Rbar matrices\n",
    "    Qbar = Diagonal([q for ii in 1:p])\n",
    "    Rbar = Diagonal([r for ii in 1:m])\n",
    "\n",
    "    # Creating input movement OF penalty matrix \n",
    "    M=[zeros((m-1)*nu,nu) I(nu*(m-1)); zeros(nu) zeros(nu,nu*(m-1))]\n",
    "    Ibar=[I(nu); zeros(nu*(m-1),nu)]\n",
    "    IM = I(nu*m) - M';\n",
    "    \n",
    "    # Matrix H\n",
    "    H = Theta'*Qbar*Theta + IM'*Rbar*IM;\n",
    "    \n",
    "    return Dict('A' => A, 'B' => B, 'C' => C, 'H' => H, 'Θ' => Theta, 'Ψ' => Psi, 'Q' => Qbar, 'I' => Ibar, 'R' => Rbar, 'M' => IM)\n",
    "end;"
   ]
  },
  {
   "cell_type": "markdown",
   "id": "c83af00d",
   "metadata": {},
   "source": [
    "- Building function for computing MPC solution (solving QP)"
   ]
  },
  {
   "cell_type": "code",
   "execution_count": 10,
   "id": "78d89652",
   "metadata": {},
   "outputs": [],
   "source": [
    "function solveMPC(xkk,dekk,uk_1,yspk,uref,umin,umax,p,m,nReac)\n",
    "    ###########\n",
    "    # inputs: #\n",
    "    ###########\n",
    "    # xkk - current states (MPC model) \n",
    "    # dekk - disturbance estimate \n",
    "    # uk_1 - inputs at the current iteration, already implemented on the plant\n",
    "    # yspk - setpoint trajectory computed by CL-DRTO\n",
    "    # uref - input reference value\n",
    "    # umin, umax - input bounds\n",
    "    # p, m - prediction and control horizon\n",
    "    # nReac - number of parallel reactors\n",
    "    \n",
    "    # Creating MPC matrices\n",
    "    mpc = MPC_matrices(nReac)\n",
    "    \n",
    "    MPC_con = Model(Ipopt.Optimizer)\n",
    "    set_silent(MPC_con)\n",
    "    \n",
    "    ####################\n",
    "    # Set up variables #\n",
    "    ####################\n",
    "    # inputs computed by MPCs\n",
    "    @variable(MPC_con, (umin - uref) ≤ u[1:m] ≤ (umax - uref) )\n",
    "    \n",
    "    ######################################\n",
    "    # Set up constraints and expressions #\n",
    "    ######################################\n",
    "    # for OF computation\n",
    "    @expression(MPC_con, cfT, (mpc['Ψ']*[xkk;dekk] - yspk)'*mpc['Q']*mpc['Θ'] - uk_1'*mpc['I']'*mpc['R']*mpc['M'])\n",
    "        \n",
    "    #############################\n",
    "    # Set up objective function #\n",
    "    #############################\n",
    "    @objective(MPC_con, Min, sum(u[jj]*sum(mpc['H'][jj,ii]*u[ii] for ii in 1:m) for jj in 1:m) + 2*sum(cfT[jj]*u[jj] for jj = 1:m))\n",
    "    # @show MPC_con\n",
    "\n",
    "    #################\n",
    "    # Solve Problem #\n",
    "    #################\n",
    "    optimize!(MPC_con)\n",
    "\n",
    "    #calling values of the solved problem\n",
    "    ϕ = objective_value(MPC_con)\n",
    "    uArray = value.(u)\n",
    "\n",
    "    return Dict('ϕ' => ϕ,'u' => uArray)\n",
    "end;"
   ]
  },
  {
   "cell_type": "markdown",
   "id": "ab17a7c4",
   "metadata": {},
   "source": [
    "# Solving CL-DRTO Multiscenario Problem (monolithic)\n",
    " - Check details in script *Testing Monolithic CLDRTO*\n",
    " - For the description of the different solution strategies, check *Preliminary calculations/Different Strategies to solve constrained MPC within CLDRTO*"
   ]
  },
  {
   "cell_type": "code",
   "execution_count": 11,
   "id": "74dd560e",
   "metadata": {},
   "outputs": [],
   "source": [
    "# Parameters for MPC solution\n",
    "# matrix to compute the gradients of the input bound constraints\n",
    "conMatrix = [I(m); -I(m)]; \n",
    "\n",
    "# big-M implementation\n",
    "bigM_mu = 10000\n",
    "bigM_u = 10000\n",
    "\n",
    "# weight complementarity relaxation OF term\n",
    "pi_bar = 10^2; "
   ]
  },
  {
   "cell_type": "code",
   "execution_count": 12,
   "id": "e5486fc7",
   "metadata": {},
   "outputs": [],
   "source": [
    "function MS_CLDRTO(xInit,uInit,nReac,nScen,pScen,solNom,option)\n",
    "    ###########\n",
    "    # inputs: #\n",
    "    ###########\n",
    "    # xInit - states at the current iteration (beginning of DRTO horizon)\n",
    "    # uInit - inputs at the current iteration, already implemented on the plant\n",
    "    # nReac - number of parallel reactors\n",
    "    # nScen - number of scenarios used in the problem (only one branching)\n",
    "    # pScen - probability of the scenarios\n",
    "    # solNom - nominal solution\n",
    "    # option - strategy for solving MPC\n",
    "\n",
    "    # Creating MPC matrices\n",
    "    mpc = MPC_matrices(nReac)\n",
    "    \n",
    "    # Creating DRTO matrices\n",
    "    drto = DRTO_matrices(nReac,nScen)\n",
    "\n",
    "    # Define model\n",
    "    if option == 3 || option == 1\n",
    "        model_ms = Model(Ipopt.Optimizer)\n",
    "        set_optimizer_attribute(model_ms, \"max_cpu_time\", 300.0) # 5 min\n",
    "    else \n",
    "        model_ms = Model(CPLEX.Optimizer)\n",
    "        set_optimizer_attribute(model_ms, \"CPX_PARAM_TILIM\", 300.0) # 5 min\n",
    "    end\n",
    "    set_silent(model_ms)\n",
    "    \n",
    "    ####################\n",
    "    # Set up variables #\n",
    "    ####################\n",
    "    # DRTO model variables\n",
    "    @variable(model_ms, xDRTO[1:pD,1:nx,1:nScen])\n",
    "    @variable(model_ms, yDRTO[1:pD,1:nScen])\n",
    "    \n",
    "    # MPC model variables\n",
    "    @variable(model_ms, xMPC[1:pD,1:nx,1:nScen])\n",
    "    @variable(model_ms, yMPC[1:pD,1:nScen])\n",
    "    \n",
    "    # MPC <-> DRTO model deviation\n",
    "    @variable(model_ms, de[1:pD,1:nScen])\n",
    "    \n",
    "    # inputs computed by MPCs\n",
    "    @variable(model_ms, u[1:pD,1:m,1:nScen])\n",
    "     if option == 1\n",
    "        @variable(model_ms, u_w_c[1:pD,1:m,1:nScen]) # inputs w/o clipping\n",
    "    \n",
    "        # input clipping \n",
    "        @variable(model_ms, mu_lb[1:pD,1:m,1:nScen] ≥ 0)\n",
    "        @variable(model_ms, eta_lb[1:pD,1:m,1:nScen] ≥ 0)\n",
    "        @variable(model_ms, mu_ub[1:pD,1:m,1:nScen] ≥ 0)\n",
    "        @variable(model_ms, eta_ub[1:pD,1:m,1:nScen] ≥ 0)       \n",
    "    end\n",
    "    \n",
    "    # setpoints for the controllers sent to the plant (CL-DRTO degrees of freedom)\n",
    "    @variable(model_ms, (yspMin - y0) ≤ ysp[1:pD,1:nScen] ≤ (yspMax - y0))\n",
    "    \n",
    "    # slacks for P soft constraint\n",
    "    @variable(model_ms, delta_p[1:pD,1:nScen] ≥ 0)\n",
    "    \n",
    "    if option == 2 || option == 3\n",
    "        @variable(model_ms, mu_g[1:mD,1:(2*m),1:nScen] ≥ 0) # upper and lower bounds for each input\n",
    "    end\n",
    "    if option == 2\n",
    "        @variable(model_ms, Y_lb[1:mD,1:m,1:nScen], Bin, start = 0) # Binaries for big-M implementation\n",
    "        @variable(model_ms, Y_ub[1:mD,1:m,1:nScen], Bin, start = 0) \n",
    "    end\n",
    "    \n",
    "    ########################\n",
    "    # Set up initial guess #\n",
    "    ########################\n",
    "    if solNom isa Dict\n",
    "        for ss in 1:nScen\n",
    "            for ii in 1:pD\n",
    "                set_start_value(yDRTO[ii,ss], solNom['y'][ii,1]) \n",
    "                set_start_value(yMPC[ii,ss], solNom['c'][ii,1])\n",
    "                set_start_value(ysp[ii,ss], solNom['s'][ii,1])\n",
    "\n",
    "                for rr in 1:nReac # when nReac increases, the number of states change!\n",
    "                    for xx in 1:2 # N.B. nx/reactor is hardcoded here... (maybe use nx/reactor as a function input) \n",
    "                        set_start_value(xDRTO[ii,xx + (rr - 1)*2,ss], solNom['x'][ii,xx,1])    \n",
    "                        set_start_value(xMPC[ii,xx + (rr - 1)*2,ss], solNom['m'][ii,xx,1])           \n",
    "                    end # end xx\n",
    "                end # number \n",
    "                \n",
    "                for uu in 1:m\n",
    "                    set_start_value(u[ii,uu,ss], solNom['u'][ii,uu,1])\n",
    "                end # end of uu\n",
    "            end # eend of ii\n",
    "        end # end of ss\n",
    "    end # end of if\n",
    "    \n",
    "    ######################################\n",
    "    # Set up constraints and expressions #\n",
    "    ######################################\n",
    "    # Model Dynamic for Dynamic RTO\n",
    "    @constraint(model_ms, CLDRTO_dyn_model_1[ss=1:nScen], xDRTO[1,:,ss] .== drto['A'][:,:,ss]*xInit + drto['B'][:,:,ss]*uInit)\n",
    "    @constraint(model_ms, CLDRTO_dyn_model[kk=1:(pD - 1),ss=1:nScen], xDRTO[kk + 1,:,ss] .== drto['A'][:,:,ss]*xDRTO[kk,:,ss] + drto['B'][:,:,ss]*u[kk,1,ss])\n",
    "    @constraint(model_ms, CLDRTO_model_out[kk=1:pD,ss=1:nScen], yDRTO[kk,ss] == dot(drto['C'],xDRTO[kk,:,ss]))\n",
    "    \n",
    "    # fixing setpoint changes after mD\n",
    "    @constraint(model_ms, control_horizon[kk=(mD+1):pD,ss=1:nScen], u[kk,1,ss] .== u[mD,1,ss])\n",
    "    \n",
    "    # P soft constraints\n",
    "    @constraint(model_ms, soft_P[kk=1:pD,ss=1:nScen], yDRTO[kk,ss] - delta_p[kk,ss] ≤ pUB)\n",
    "    \n",
    "    # nonanticipativity constraints\n",
    "    @constraint(model_ms, nonAnt[kk=1:nDRTO,ss=2:nScen], ysp[kk,1] - ysp[kk,ss] == 0.0);\n",
    "    \n",
    "    ################\n",
    "    # MPC solution #\n",
    "    ################    \n",
    "    if option == 1\n",
    "        # Model Dynamic for Controller\n",
    "        @constraint(model_ms, MPC_dyn_model_1[ss=1:nScen], xMPC[1,:,ss] .== mpc['A']*xInit + mpc['B']*uInit)\n",
    "        @constraint(model_ms, MPC_dyn_model[kk=1:(pD - 1),ss=1:nScen], xMPC[kk + 1,:,ss] .== mpc['A']*xMPC[kk,:,ss] + mpc['B']*u_w_c[kk,1,ss])\n",
    "        @constraint(model_ms, MPC_model_out[kk=1:pD,ss=1:nScen], yMPC[kk,ss] == dot(mpc['C'],xMPC[kk,:,ss]))\n",
    "\n",
    "        #  Model deviation\n",
    "        @constraint(model_ms, MPC_model_dev[kk=1:pD,ss=1:nScen], de[kk,ss] == yDRTO[kk,ss] - yMPC[kk,ss])\n",
    "        \n",
    "        @expression(model_ms, cfT_1[ss=1:nScen], (mpc['Ψ']*[xMPC[1,:,ss];de[1,ss]] - ysp[1:p,ss])'*mpc['Q']*mpc['Θ'] - uInit'*mpc['I']'*mpc['R']*mpc['M'])\n",
    "        @expression(model_ms, cfT[kk=2:mD,ss=1:nScen], (mpc['Ψ']*[xMPC[kk,:,ss];de[kk,ss]] - ysp[kk:(kk + p - 1),ss])'*mpc['Q']*mpc['Θ'] - u_w_c[kk-1,1,ss]'*mpc['I']'*mpc['R']*mpc['M'])\n",
    "        \n",
    "        # Unconstrained MPC solution  \n",
    "        @constraint(model_ms, MPC_sol_1[ss=1:nScen], mpc['H']*u_w_c[1,:,ss] + cfT_1[ss]' .== 0)\n",
    "        @constraint(model_ms, MPC_sol[kk=2:mD,ss=1:nScen], mpc['H']*u_w_c[kk,:,ss] + cfT[kk,ss]' .== 0)\n",
    "        \n",
    "        # input clipping\n",
    "        @constraint(model_ms, ic_1[kk = 1:mD,uu = 1:m,ss = 1:nScen], u[kk,uu,ss] == u_w_c[kk,uu,ss] - mu_ub[kk,uu,ss] + mu_lb[kk,uu,ss])\n",
    "        @constraint(model_ms, ic_2[kk = 1:mD,uu = 1:m,ss = 1:nScen], (uMax - u0) - u[kk,uu,ss] == eta_ub[kk,uu,ss])\n",
    "        @constraint(model_ms, ic_3[kk = 1:mD,uu = 1:m,ss = 1:nScen], eta_ub[kk,uu,ss]*mu_ub[kk,uu,ss] ≤ 1e-6)\n",
    "        @constraint(model_ms, ic_4[kk = 1:mD,uu = 1:m,ss = 1:nScen], u[kk,uu,ss] - (uMin - u0) == eta_lb[kk,uu,ss])\n",
    "        @constraint(model_ms, ic_5[kk = 1:mD,uu = 1:m,ss = 1:nScen], eta_lb[kk,uu,ss]*mu_lb[kk,uu,ss] ≤ 1e-6)\n",
    "        \n",
    "    elseif option == 2\n",
    "        # Model Dynamic for Controller\n",
    "        @constraint(model_ms, MPC_dyn_model_1[ss=1:nScen], xMPC[1,:,ss] .== mpc['A']*xInit + mpc['B']*uInit)\n",
    "        @constraint(model_ms, MPC_dyn_model[kk=1:(pD - 1),ss=1:nScen], xMPC[kk + 1,:,ss] .== mpc['A']*xMPC[kk,:,ss] + mpc['B']*u[kk,1,ss])\n",
    "        @constraint(model_ms, MPC_model_out[kk=1:pD,ss=1:nScen], yMPC[kk,ss] == dot(mpc['C'],xMPC[kk,:,ss]))\n",
    "\n",
    "        #  Model deviation\n",
    "        @constraint(model_ms, MPC_model_dev[kk=1:pD,ss=1:nScen], de[kk,ss] == yDRTO[kk,ss] - yMPC[kk,ss])\n",
    "\n",
    "        # sequence of Setpoints\n",
    "        @expression(model_ms, cfT_1[ss=1:nScen], (mpc['Ψ']*[xMPC[1,:,ss];de[1,ss]] - ysp[1:p,ss])'*mpc['Q']*mpc['Θ'] - uInit'*mpc['I']'*mpc['R']*mpc['M'])\n",
    "        @expression(model_ms, cfT[kk=2:mD,ss=1:nScen], (mpc['Ψ']*[xMPC[kk,:,ss];de[kk,ss]] - ysp[kk:(kk + p - 1),ss])'*mpc['Q']*mpc['Θ'] - u[kk-1,1,ss]'*mpc['I']'*mpc['R']*mpc['M'])\n",
    "\n",
    "        # Constrained with binaries\n",
    "        # 1. stationarity\n",
    "        @constraint(model_ms, MPC_sol_1[ss=1:nScen], u[1,:,ss]'*mpc['H'] + cfT_1[ss] +  mu_g[1,:,ss]'*conMatrix .== 0)\n",
    "        @constraint(model_ms, MPC_sol[kk=2:mD,ss=1:nScen], u[kk,:,ss]'*mpc['H'] + cfT[kk,ss] + mu_g[kk,:,ss]'*conMatrix .== 0)\n",
    "\n",
    "        # 2. primal feasibility\n",
    "        @constraint(model_ms, g_u_u[kk=1:mD,uu=1:m,ss=1:nScen], u[kk,uu,ss] - (uMax - u0) ≤ 0)\n",
    "        @constraint(model_ms, g_u_l[kk=1:mD,uu=1:m,ss=1:nScen], (uMin - u0) - u[kk,uu,ss] ≤ 0)\n",
    "    \n",
    "        # 3. complementarity --> using big-M implementation\n",
    "        @constraint(model_ms, bigM_1[kk=1:mD,uu=1:m,ss=1:nScen], mu_g[kk,uu,ss] ≤ bigM_mu*Y_ub[kk,uu,ss])\n",
    "        @constraint(model_ms, bigM_2[kk=1:mD,uu=1:m,ss=1:nScen], mu_g[kk,uu + m,ss] ≤ bigM_mu*Y_lb[kk,uu,ss])\n",
    "        @constraint(model_ms, bigM_3[kk=1:mD,uu=1:m,ss=1:nScen], u[kk,uu,ss] - (uMax - u0) ≥ -bigM_u*(1 - Y_ub[kk,uu,ss]))\n",
    "        @constraint(model_ms, bigM_4[kk=1:mD,uu=1:m,ss=1:nScen], (uMin - u0) - u[kk,uu,ss] ≥ -bigM_u*(1 - Y_lb[kk,uu,ss]))\n",
    "        \n",
    "        @constraint(model_ms, compSlack[kk=1:mD,uu=1:m,ss=1:nScen], Y_ub[kk,uu,ss] + Y_lb[kk,uu,ss] ≤ 1)\n",
    "    \n",
    "    elseif option == 3\n",
    "        # Model Dynamic for Controller\n",
    "        @constraint(model_ms, MPC_dyn_model_1[ss=1:nScen], xMPC[1,:,ss] .== mpc['A']*xInit + mpc['B']*uInit)\n",
    "        @constraint(model_ms, MPC_dyn_model[kk=1:(pD - 1),ss=1:nScen], xMPC[kk + 1,:,ss] .== mpc['A']*xMPC[kk,:,ss] + mpc['B']*u[kk,1,ss])\n",
    "        @constraint(model_ms, MPC_model_out[kk=1:pD,ss=1:nScen], yMPC[kk,ss] == dot(mpc['C'],xMPC[kk,:,ss]))\n",
    "\n",
    "        #  Model deviation\n",
    "        @constraint(model_ms, MPC_model_dev[kk=1:pD,ss=1:nScen], de[kk,ss] == yDRTO[kk,ss] - yMPC[kk,ss])\n",
    "\n",
    "        # sequence of Setpoints\n",
    "        @expression(model_ms, cfT_1[ss=1:nScen], (mpc['Ψ']*[xMPC[1,:,ss];de[1,ss]] - ysp[1:p,ss])'*mpc['Q']*mpc['Θ'] - uInit'*mpc['I']'*mpc['R']*mpc['M'])\n",
    "        @expression(model_ms, cfT[kk=2:mD,ss=1:nScen], (mpc['Ψ']*[xMPC[kk,:,ss];de[kk,ss]] - ysp[kk:(kk + p - 1),ss])'*mpc['Q']*mpc['Θ'] - u[kk-1,1,ss]'*mpc['I']'*mpc['R']*mpc['M'])\n",
    "\n",
    "        # Constrained with MPCC\n",
    "        # 1. stationarity\n",
    "        @constraint(model_ms, MPC_sol_1[ss=1:nScen], u[1,:,ss]'*mpc['H'] + cfT_1[ss] +  mu_g[1,:,ss]'*conMatrix .== 0)\n",
    "        @constraint(model_ms, MPC_sol[kk=2:mD,ss=1:nScen], u[kk,:,ss]'*mpc['H'] + cfT[kk,ss] + mu_g[kk,:,ss]'*conMatrix .== 0)\n",
    "\n",
    "        # 2. primal feasibility\n",
    "        @constraint(model_ms, MPC_c_upper[kk=1:mD,uu=1:m,ss=1:nScen], u[kk,uu,ss] - (uMax - u0) ≤ 0)\n",
    "        @constraint(model_ms, MPC_c_lower[kk=1:mD,uu=1:m,ss=1:nScen], (uMin - u0) - u[kk,uu,ss] ≤ 0)\n",
    "        \n",
    "        # Expressions for OF\n",
    "        @expression(model_ms, g_u_u[kk=1:mD,uu=1:m,ss=1:nScen], u[kk,uu,ss] - (uMax - u0))\n",
    "        @expression(model_ms, g_u_l[kk=1:mD,uu=1:m,ss=1:nScen], (uMin - u0) - u[kk,uu,ss])\n",
    "        \n",
    "    end\n",
    "      \n",
    "    #############################\n",
    "    # Set up objective function #\n",
    "    #############################\n",
    "    if option == 1 || option == 2\n",
    "        @objective(model_ms, Min, \n",
    "            pScen*sum((yDRTO[kk,ss] - pTrack)^2 + wP*delta_p[kk,ss]^2 for kk in 1:pD, ss in 1:nScen)\n",
    "        )\n",
    "    else\n",
    "        @objective(model_ms, Min, pScen*sum((yDRTO[kk,ss] - pTrack)^2 + wP*delta_p[kk,ss]^2 for kk in 1:pD, ss in 1:nScen)\n",
    "                                - pScen*pi_bar*sum(\n",
    "                                                sum(mu_g[kk,jj,ss]*g_u_u[kk,jj,ss] for jj = 1:m) +\n",
    "                                                sum(mu_g[kk,jj + m,ss]*g_u_l[kk,jj,ss] for jj = 1:m)\n",
    "                                                for kk = 1:mD, ss in 1:nScen)\n",
    "        )\n",
    "    end\n",
    "    # @show model_ms\n",
    "\n",
    "    #################\n",
    "    # Solve Problem #\n",
    "    #################\n",
    "    #set_optimizer_attribute(model_ms, \"CPX_PARAM_BARALG\", 1)\n",
    "    optimize!(model_ms)\n",
    "    \n",
    "    status = termination_status(model_ms)\n",
    "    #display(status)\n",
    "    \n",
    "    if status == MOI.OPTIMAL || status == MOI.ALMOST_OPTIMAL || status == MOI.LOCALLY_SOLVED\n",
    "        # Proved optimality or Optimal within relaxed tolerances\n",
    "        # solution time\n",
    "        timeSol = solve_time(model_ms)\n",
    "\n",
    "        flag = 1\n",
    "        # #primal_status(m)\n",
    "\n",
    "        #calling values of the solved problem\n",
    "        ϕ = objective_value(model_ms)\n",
    "        uArray = value.(u)\n",
    "        yspArray = value.(ysp)\n",
    "        yDRTOArray = value.(yDRTO)\n",
    "        yMPCArray = value.(yMPC)\n",
    "        xDRTOArray = value.(xDRTO)\n",
    "        xMPCArray = value.(xMPC)\n",
    "\n",
    "        outputFun = Dict('ϕ' => ϕ,\n",
    "                        't' => timeSol,\n",
    "                        'f' => flag, \n",
    "                        'u' => uArray,\n",
    "                        's' => yspArray,\n",
    "                        'x' => xDRTOArray,\n",
    "                        'y' => yDRTOArray, \n",
    "                        'm' => xDRTOArray,\n",
    "                        'c' => yDRTOArray)\n",
    "        \n",
    "        if option == 2 || option == 3\n",
    "            muArray = value.(mu_g)\n",
    "            merge!(outputFun,Dict('μ'=> muArray))\n",
    "        end\n",
    "        \n",
    "        return outputFun\n",
    "    else\n",
    "        # Handle other cases.\n",
    "        outputFun = Dict('f' => 0,\n",
    "                         't' => NaN,\n",
    "                         'ϕ' => NaN)\n",
    "                        \n",
    "        \n",
    "        return outputFun\n",
    "    end\n",
    "end;"
   ]
  },
  {
   "cell_type": "markdown",
   "id": "e2a35860",
   "metadata": {},
   "source": [
    "# Decomposition of CLDRTO Problem"
   ]
  },
  {
   "cell_type": "markdown",
   "id": "b2f632eb",
   "metadata": {},
   "source": [
    "- Modeling Subproblem"
   ]
  },
  {
   "cell_type": "code",
   "execution_count": 13,
   "id": "1c652a26",
   "metadata": {},
   "outputs": [],
   "source": [
    "## Modeling the sub problem (scenario) -- modeling inside a function\n",
    "function subp(xInit,uInit,ysp_fixed,nReac,nScen,pScen,solNom,option)\n",
    "    ###########\n",
    "    # inputs: #\n",
    "    ###########\n",
    "    # xInit - states at the current iteration (beginning of DRTO horizon)\n",
    "    # uInit - inputs at the current iteration, already implemented on the plant\n",
    "    # ysp_fixed - setpoints fixed by the Master Problem --> nonanticipativity constraints\n",
    "    # nReac - number of parallel reactors\n",
    "    # nScen - number of scenarios used in the problem (only one branching)\n",
    "    # pScen - probability of the scenarios\n",
    "    # solNom - nominal solution\n",
    "    # option - strategy for solving MPC \n",
    "        # for now, code only works for option = 3\n",
    "\n",
    "    # Creating MPC matrices\n",
    "    mpc = MPC_matrices(nReac)\n",
    "    \n",
    "    # Creating DRTO matrices\n",
    "    \n",
    "    # recomputing the number of total scenarios based on scenario probability and the fact that the scenarios have the same probability\n",
    "    nScenTotal = ceil(Int,1/pScen)    \n",
    "    drto = DRTO_matrix(nReac,nScen,nScenTotal)\n",
    "    \n",
    "    # Define subproblem model  #== 3\n",
    "    if option == 3 || option == 1 \n",
    "        sub = Model(Ipopt.Optimizer)\n",
    "        set_optimizer_attribute(sub, \"max_cpu_time\", 300.0) # 5 min\n",
    "    else \n",
    "        sub = Model(CPLEX.Optimizer)\n",
    "        set_optimizer_attribute(sub, \"CPX_PARAM_TILIM\", 300.0) # 5 min\n",
    "    end\n",
    "    set_silent(sub) # avoid printing\n",
    "    \n",
    "    ####################\n",
    "    # Set up variables #\n",
    "    ####################\n",
    "    # DRTO model variables\n",
    "    @variable(sub, xDRTO[1:pD, 1:nx])\n",
    "    @variable(sub, yDRTO[1:pD])\n",
    "    \n",
    "    # MPC model variables\n",
    "    @variable(sub, xMPC[1:pD, 1:nx])\n",
    "    @variable(sub, yMPC[1:pD])\n",
    "\n",
    "    # MPC <-> DRTO model deviation\n",
    "    @variable(sub, de[1:pD])\n",
    "    \n",
    "    # inputs computed by MPCs\n",
    "    @variable(sub, u[1:pD,1:m])\n",
    "    if option == 1\n",
    "        @variable(sub, u_w_c[1:pD,1:m]) # inputs w/o clipping\n",
    "    \n",
    "        # input clipping \n",
    "        @variable(sub, mu_lb[1:pD,1:m] ≥ 0)\n",
    "        @variable(sub, eta_lb[1:pD,1:m] ≥ 0)\n",
    "        @variable(sub, mu_ub[1:pD,1:m] ≥ 0)\n",
    "        @variable(sub, eta_ub[1:pD,1:m] ≥ 0)       \n",
    "    end\n",
    "\n",
    "    # setpoints for the controllers sent to the plant (CL-DRTO degrees of freedom)\n",
    "    @variable(sub, (yspMin - y0) ≤ ysp[1:pD] ≤ (yspMax - y0))\n",
    "        \n",
    "    # slacks for controlling setpoint into a zone\n",
    "    @variable(sub, delta_p[1:pD] ≥ 0)\n",
    "    \n",
    "    if option == 2 || option == 3\n",
    "        @variable(sub, mu_g[1:mD,1:(2*m)] ≥ 0) # upper and lower bounds for each input\n",
    "    end\n",
    "    if option == 2\n",
    "        @variable(sub, Y_lb[1:mD,1:m], start = 0) # Relaxing binaries for big-M implementation\n",
    "        @variable(sub, Y_ub[1:mD,1:m], start = 0) \n",
    "    end\n",
    "    \n",
    "    ########################\n",
    "    # Set up initial guess #\n",
    "    ########################\n",
    "    if solNom isa Dict\n",
    "        for ii in 1:pD\n",
    "            set_start_value(yDRTO[ii], solNom['y'][ii,1]) \n",
    "            set_start_value(yMPC[ii], solNom['c'][ii,1])\n",
    "            #set_start_value(ysp[ii], solNom['s'][ii,1])\n",
    "\n",
    "            for rr in 1:nReac # when nReac increases, the number of states change!\n",
    "                for xx in 1:2 # N.B. nx/reactor is hardcoded here... (maybe use nx/reactor as a function input) \n",
    "                    set_start_value(xDRTO[ii,xx + (rr - 1)*2], solNom['x'][ii,xx,1])    \n",
    "                    set_start_value(xMPC[ii,xx + (rr - 1)*2], solNom['m'][ii,xx,1])           \n",
    "                end # end xx\n",
    "            end # number \n",
    "                \n",
    "            for uu in 1:m\n",
    "                set_start_value(u[ii,uu], solNom['u'][ii,uu,1])\n",
    "            end # end of uu\n",
    "        end # eend of ii\n",
    "    end # end of if\n",
    "\n",
    "    ######################################\n",
    "    # Set up constraints and expressions #\n",
    "    ######################################\n",
    "    # Dynamic RTO model (linear)\n",
    "    @constraint(sub, CLDRTO_dyn_model_1, xDRTO[1,:] .== drto['A']*xInit + drto['B']*uInit)\n",
    "    @constraint(sub, CLDRTO_dyn_model[kk=1:(pD - 1)], xDRTO[kk + 1,:] .== drto['A']*xDRTO[kk,:] + drto['B']*u[kk,1])\n",
    "    @constraint(sub, CLDRTO_model_out[kk=1:pD], yDRTO[kk] == dot(drto['C'],xDRTO[kk,:]))\n",
    "\n",
    "    # fixing input after mD\n",
    "    @constraint(sub, control_horizon[kk=(mD+1):pD], u[kk,1] == u[mD,1]);\n",
    "    \n",
    "    # P soft constraints\n",
    "    @constraint(sub, soft_P[kk=1:pD], yDRTO[kk] - delta_p[kk] ≤ pUB)\n",
    "    \n",
    "    # nonanticipativity constraints\n",
    "    @constraint(sub, nonAnt[kk=1:nDRTO], ysp[kk] - ysp_fixed[kk] == 0.0);\n",
    "    \n",
    "    ################\n",
    "    # MPC solution #\n",
    "    ################\n",
    "    ################\n",
    "    # MPC solution #\n",
    "    ################ \n",
    "    if option == 1\n",
    "        # MPC model (linear)\n",
    "        @constraint(sub, MPC_dyn_model_1, xMPC[1,:] .== mpc['A']*xInit + mpc['B']*uInit)\n",
    "        @constraint(sub, MPC_dyn_model[kk=1:(pD - 1)], xMPC[kk + 1,:] .== mpc['A']*xMPC[kk,:] + mpc['B']*u_w_c[kk,1])\n",
    "        @constraint(sub, MPC_model_out[kk=1:pD], yMPC[kk] == dot(mpc['C'],xMPC[kk,:]))\n",
    "\n",
    "        #  MPC model deviation (disturance)\n",
    "        @constraint(sub, MPC_model_dev[kk=1:pD], de[kk] == yDRTO[kk] - yMPC[kk])\n",
    "\n",
    "        # sequence of Setpoints\n",
    "        @expression(sub, cfT_1, (mpc['Ψ']*[xMPC[1,:];de[1]] - ysp[1:p])'*mpc['Q']*mpc['Θ'] - uInit'*mpc['I']'*mpc['R']*mpc['M'])\n",
    "        @expression(sub, cfT[kk=2:mD], (mpc['Ψ']*[xMPC[kk,:];de[kk]] - ysp[kk:(kk + p - 1)])'*mpc['Q']*mpc['Θ'] - u_w_c[kk-1,1]'*mpc['I']'*mpc['R']*mpc['M'])\n",
    "\n",
    "        # Unconstrained MPC solution  \n",
    "        @constraint(sub, MPC_sol_1, mpc['H']*u_w_c[1,:] + cfT_1' .== 0)\n",
    "        @constraint(sub, MPC_sol[kk=2:mD],mpc['H']*u_w_c[kk,:] + cfT[kk]' .== 0)\n",
    "\n",
    "        # input clipping\n",
    "        @constraint(sub, ic_1[kk = 1:mD,uu = 1:m], u[kk,uu] == u_w_c[kk,uu] - mu_ub[kk,uu] + mu_lb[kk,uu])\n",
    "        @constraint(sub, ic_2[kk = 1:mD,uu = 1:m], (uMax - u0) - u[kk,uu] == eta_ub[kk,uu])\n",
    "        @constraint(sub, ic_3[kk = 1:mD,uu = 1:m], eta_ub[kk,uu]*mu_ub[kk,uu] ≤ 1e-6)\n",
    "        @constraint(sub, ic_4[kk = 1:mD,uu = 1:m], u[kk,uu] - (uMin - u0) == eta_lb[kk,uu])\n",
    "        @constraint(sub, ic_5[kk = 1:mD,uu = 1:m], eta_lb[kk,uu]*mu_lb[kk,uu] ≤ 1e-6)\n",
    "    \n",
    "    elseif option == 2\n",
    "        # MPC model (linear)\n",
    "        @constraint(sub, MPC_dyn_model_1, xMPC[1,:] .== mpc['A']*xInit + mpc['B']*uInit)\n",
    "        @constraint(sub, MPC_dyn_model[kk=1:(pD - 1)], xMPC[kk + 1,:] .== mpc['A']*xMPC[kk,:] + mpc['B']*u[kk,1])\n",
    "        @constraint(sub, MPC_model_out[kk=1:pD], yMPC[kk] == dot(mpc['C'],xMPC[kk,:]))\n",
    "\n",
    "        #  MPC model deviation (disturance)\n",
    "        @constraint(sub, MPC_model_dev[kk=1:pD], de[kk] == yDRTO[kk] - yMPC[kk])\n",
    "\n",
    "        # sequence of Setpoints\n",
    "        @expression(sub, cfT_1, (mpc['Ψ']*[xMPC[1,:];de[1]] - ysp[1:p])'*mpc['Q']*mpc['Θ'] - uInit'*mpc['I']'*mpc['R']*mpc['M'])\n",
    "        @expression(sub, cfT[kk=2:mD], (mpc['Ψ']*[xMPC[kk,:];de[kk]] - ysp[kk:(kk + p - 1)])'*mpc['Q']*mpc['Θ'] - u[kk-1,1]'*mpc['I']'*mpc['R']*mpc['M'])\n",
    "\n",
    "        # Constrained with binaries\n",
    "        # 1. stationarity\n",
    "        @constraint(sub, MPC_sol_1, u[1,:]'*mpc['H'] + cfT_1 +  mu_g[1,:]'*conMatrix .== 0)\n",
    "        @constraint(sub, MPC_sol[kk=2:mD], u[kk,:]'*mpc['H'] + cfT[kk] + mu_g[kk,:]'*conMatrix .== 0)\n",
    "\n",
    "        # 2. primal feasibility\n",
    "        @constraint(sub, MPC_c_upper[kk=1:mD,uu=1:m], u[kk,uu] - (uMax - u0) ≤ 0)\n",
    "        @constraint(sub, MPC_c_lower[kk=1:mD,uu=1:m], (uMin - u0) - u[kk,uu] ≤ 0)\n",
    "    \n",
    "        # 3. complementarity --> using big-M implementation\n",
    "        @constraint(sub, bigM_1[kk=1:mD,uu=1:m], mu_g[kk,uu] ≤ bigM_mu*Y_ub[kk,uu])\n",
    "        @constraint(sub, bigM_2[kk=1:mD,uu=1:m], mu_g[kk,uu + m] ≤ bigM_mu*Y_lb[kk,uu])\n",
    "        @constraint(sub, bigM_3[kk=1:mD,uu=1:m], u[kk,uu] - (uMax - u0) ≥ -bigM_u*(1 - Y_ub[kk,uu]))\n",
    "        @constraint(sub, bigM_4[kk=1:mD,uu=1:m], (uMin - u0) - u[kk,uu] ≥ -bigM_u*(1 - Y_lb[kk,uu]))\n",
    "        \n",
    "        @constraint(sub, compSlack[kk=1:mD,uu=1:m], Y_ub[kk,uu] + Y_lb[kk,uu] ≤ 1)\n",
    "    \n",
    "    elseif option == 3\n",
    "        # MPC model (linear)\n",
    "        @constraint(sub, MPC_dyn_model_1, xMPC[1,:] .== mpc['A']*xInit + mpc['B']*uInit)\n",
    "        @constraint(sub, MPC_dyn_model[kk=1:(pD - 1)], xMPC[kk + 1,:] .== mpc['A']*xMPC[kk,:] + mpc['B']*u[kk,1])\n",
    "        @constraint(sub, MPC_model_out[kk=1:pD], yMPC[kk] == dot(mpc['C'],xMPC[kk,:]))\n",
    "\n",
    "        #  MPC model deviation (disturance)\n",
    "        @constraint(sub, MPC_model_dev[kk=1:pD], de[kk] == yDRTO[kk] - yMPC[kk])\n",
    "\n",
    "        # sequence of Setpoints\n",
    "        @expression(sub, cfT_1, (mpc['Ψ']*[xMPC[1,:];de[1]] - ysp[1:p])'*mpc['Q']*mpc['Θ'] - uInit'*mpc['I']'*mpc['R']*mpc['M'])\n",
    "        @expression(sub, cfT[kk=2:mD], (mpc['Ψ']*[xMPC[kk,:];de[kk]] - ysp[kk:(kk + p - 1)])'*mpc['Q']*mpc['Θ'] - u[kk-1,1]'*mpc['I']'*mpc['R']*mpc['M'])\n",
    "\n",
    "        # Constrained with MPCC\n",
    "        # 1. stationarity\n",
    "        @constraint(sub, MPC_sol_1, u[1,:]'*mpc['H'] + cfT_1 +  mu_g[1,:]'*conMatrix .== 0)\n",
    "        @constraint(sub, MPC_sol[kk=2:mD], u[kk,:]'*mpc['H'] + cfT[kk] + mu_g[kk,:]'*conMatrix .== 0)\n",
    "\n",
    "        # 2. primal feasibility       \n",
    "        @constraint(sub, MPC_c_upper[kk=1:mD,uu=1:m], u[kk,uu] - (uMax - u0) ≤ 0)\n",
    "        @constraint(sub, MPC_c_lower[kk=1:mD,uu=1:m], (uMin - u0) - u[kk,uu] ≤ 0)\n",
    "        \n",
    "        # expression to be used in OF        \n",
    "        @expression(sub, g_u_u[kk=1:mD,uu=1:m], u[kk,uu] - (uMax - u0))\n",
    "        @expression(sub, g_u_l[kk=1:mD,uu=1:m], (uMin - u0) - u[kk,uu])\n",
    "        \n",
    "    end\n",
    "\n",
    "    #############################\n",
    "    # Set up objective function #\n",
    "    #############################\n",
    "     if option == 1 || option == 2\n",
    "        @objective(sub, Min, \n",
    "            pScen*sum((yDRTO[kk] - pTrack)^2 + wP*delta_p[kk]^2 for kk in 1:pD)\n",
    "        )\n",
    "    else\n",
    "        @objective(sub, Min, \n",
    "            pScen*sum((yDRTO[kk] - pTrack)^2 + wP*delta_p[kk]^2 for kk in 1:pD)\n",
    "                    - pScen*pi_bar*sum(\n",
    "                                    sum(mu_g[kk,jj]*g_u_u[kk,jj] for jj = 1:m) +\n",
    "                                    sum(mu_g[kk,jj + m]*g_u_l[kk,jj] for jj = 1:m)\n",
    "                                for kk = 1:mD)\n",
    "        )\n",
    "    end\n",
    "    \n",
    "    # @show sub\n",
    "    #set_optimizer_attribute(sub, \"CPX_PARAM_BARALG\", 1)\n",
    "    \n",
    "    optimize!(sub)\n",
    "    \n",
    "    # solution time\n",
    "    timeSol = solve_time(sub)\n",
    "    \n",
    "    status = termination_status(sub)\n",
    "    #display(status)\n",
    "    \n",
    "    # checking if there is a solution to the problem\n",
    "    if status == MOI.OPTIMAL || status == MOI.ALMOST_OPTIMAL || status == MOI.LOCALLY_SOLVED\n",
    "        # Proved optimality or Optimal within relaxed tolerances\n",
    "        # we add an optimality cut\n",
    "        flag = 1\n",
    "        # #primal_status(m)\n",
    "\n",
    "        #calling values of the solved problem\n",
    "        ϕ = objective_value(sub)\n",
    "        uArray = value.(u)\n",
    "        yspArray = value.(ysp)\n",
    "        yDRTOArray = value.(yDRTO)\n",
    "        yMPCArray = value.(yMPC)\n",
    "        xDRTOArray = value.(xDRTO)\n",
    "        xMPCArray = value.(xMPC)\n",
    "        \n",
    "        # lagrange multipliers associated with the nonantecipativity constraints\n",
    "        λ = dual.(nonAnt)\n",
    "\n",
    "        outputDict = Dict('ϕ' => ϕ,\n",
    "                        't' => timeSol,\n",
    "                        'f' => flag, \n",
    "                        'a' => status,\n",
    "                        'u' => uArray,\n",
    "                        's' => yspArray,\n",
    "                        'x' => xDRTOArray,\n",
    "                        'y' => yDRTOArray, \n",
    "                        'm' => xMPCArray,\n",
    "                        'c' => yMPCArray,\n",
    "                        'λ' => λ)\n",
    "        \n",
    "        # if binaries are used for solving const. MPC\n",
    "        if option == 2\n",
    "            muArray = value.(mu_g)\n",
    "                   \n",
    "            uubBinArray = value.(Y_ub)\n",
    "            ulbBinArray = value.(Y_lb)\n",
    "            \n",
    "            merge!(outputDict,Dict('μ'=> muArray))\n",
    "            merge!(outputDict,Dict('o' => ulbBinArray))\n",
    "            merge!(outputDict,Dict('p' => uubBinArray))\n",
    "            \n",
    "        end\n",
    "        \n",
    "        # if MPCC is used for solving const. MPC\n",
    "        if option == 3\n",
    "            muArray = value.(mu_g)\n",
    "            \n",
    "            merge!(outputDict,Dict('μ'=> muArray))\n",
    "        end\n",
    "        \n",
    "        return outputDict\n",
    "    else\n",
    "        #i.e. no feasible solution --> Add feasibility cut\n",
    "        #display(\"Feasibility cut: scenario $(scen)\")        \n",
    "\n",
    "        # ! soft bounds on ysp\n",
    "        delete_lower_bound.(ysp[1:pD])\n",
    "        delete_upper_bound.(ysp[1:pD])\n",
    "        \n",
    "        if option != 1\n",
    "            # ! soft bounds on mu\n",
    "            delete_lower_bound.(mu_g[1:mD,1:m])\n",
    "            \n",
    "            # ! soft bounds on u\n",
    "            for kk in 1:mD\n",
    "                for uu in 1:m\n",
    "                    delete(sub, MPC_c_upper[kk,uu])\n",
    "                    delete(sub, MPC_c_lower[kk,uu])\n",
    "                end\n",
    "            end\n",
    "        end\n",
    "        \n",
    "        ####################\n",
    "        # Set up variables #\n",
    "        ####################         \n",
    "        @variable(sub, delta_ysp_u[1:pD] ≥ 0.0)\n",
    "        @variable(sub, delta_ysp_l[1:pD] ≥ 0.0)\n",
    "        \n",
    "        if option == 2 || option == 3\n",
    "            @variable(sub, delta_mu[1:mD,1:m] ≥ 0.0)\n",
    "            \n",
    "            # slacks\n",
    "            @variable(sub, delta_u_u[1:mD,1:m] ≥ 0.0)\n",
    "            @variable(sub, delta_u_l[1:mD,1:m] ≥ 0.0)\n",
    "\n",
    "        end\n",
    "        \n",
    "        ###########################\n",
    "        # Always-feasible problem #\n",
    "        ###########################        \n",
    "        @constraint(sub, soft_ysp_upper[kk=1:pD], ysp[kk] - (yspMax - y0) ≤ delta_ysp_u[kk])\n",
    "        @constraint(sub, soft_ysp_lower[kk=1:pD], (yspMin - y0) - ysp[kk] ≤ delta_ysp_l[kk])\n",
    "\n",
    "        # adding a constraint to guarantee that mu is always feasible        \n",
    "        if option == 2 || option == 3\n",
    "            @constraint(sub, soft_MPC_mu_upper[kk=1:mD,uu=1:m], -mu_g[kk,uu] ≤ delta_mu[kk,uu])\n",
    "            \n",
    "            # adding a constraint to guarantee feasibility\n",
    "            @constraint(sub, soft_u_upper[kk=1:mD,uu=1:m], u[kk,uu] - (uMax - u0) ≤ delta_u_u[kk,uu])\n",
    "            @constraint(sub, soft_u_lower[kk=1:mD,uu=1:m], (uMin - u0) - u[kk,uu] ≤ delta_u_l[kk,uu])\n",
    "        end\n",
    "        \n",
    "       #############################\n",
    "        # Set up objective function #\n",
    "        #############################\n",
    "        # Modifying the objective --> call @objective with the new objective function.\n",
    "        # minimizing constraint violation - l1 penalty!\n",
    "        if option == 2 || option == 3\n",
    "            @objective(sub, Min, sum(delta_p[kk] + delta_ysp_u[kk] + delta_ysp_l[kk] for kk in 1:pD)\n",
    "                    + sum(sum(delta_mu[kk,uu] + delta_u_u[kk,uu] + delta_u_l[kk,uu] for uu in 1:m) for kk in 1:mD))\n",
    "        else\n",
    "            @objective(sub, Min, sum(delta_p[kk] + delta_ysp_u[kk] + delta_ysp_l[kk] for kk in 1:pD))\n",
    "        end\n",
    "        \n",
    "        #@show sub\n",
    "        #set_optimizer_attribute(sub, \"CPX_PARAM_BARALG\", 1)\n",
    "\n",
    "        # re-optimizing (now using the always feasible problem)\n",
    "        optimize!(sub)\n",
    "        \n",
    "        # solution time (adding time to solve the always feasible subproblem)\n",
    "        timeSol = timeSol + solve_time(sub)\n",
    "        \n",
    "        # checking status of the solution\n",
    "        status_sub = termination_status(sub)\n",
    "        \n",
    "        # flag for calling feasibility cuts (not optimality cuts)\n",
    "        flag = 0\n",
    "        \n",
    "        #calling values of the solved problem\n",
    "        uArray = value.(u)\n",
    "        yspArray = value.(ysp)\n",
    "        yDRTOArray = value.(yDRTO)\n",
    "        yMPCArray = value.(yMPC)\n",
    "        xDRTOArray = value.(xDRTO)\n",
    "        xMPCArray = value.(xMPC)\n",
    "    \n",
    "        # objective function of the feasibility problem\n",
    "        o = objective_value(sub)\n",
    "        \n",
    "        # lagrange multipliers associated with the nonantecipativity constraints and binaries from master problem\n",
    "        λ = dual.(nonAnt)\n",
    "        \n",
    "        outputDict = Dict('ϕ' => o,\n",
    "                        't' => timeSol,\n",
    "                        'f' => flag, \n",
    "                        'a' => status_sub,\n",
    "                        'u' => uArray,\n",
    "                        's' => yspArray,\n",
    "                        'x' => xDRTOArray,\n",
    "                        'y' => yDRTOArray, \n",
    "                        'm' => xMPCArray,\n",
    "                        'c' => yMPCArray,\n",
    "                        'λ' => λ)\n",
    "        \n",
    "         if option == 2 || option == 3\n",
    "            muArray = value.(mu_g)\n",
    "            merge!(outputDict,Dict('μ'=> muArray))\n",
    "        end\n",
    "        \n",
    "        return outputDict\n",
    "    end\n",
    "end;"
   ]
  },
  {
   "cell_type": "markdown",
   "id": "1690f637",
   "metadata": {},
   "source": [
    "- Modeling Bender's Master Problem"
   ]
  },
  {
   "cell_type": "code",
   "execution_count": 14,
   "id": "6550488c",
   "metadata": {},
   "outputs": [],
   "source": [
    "## Modeling Benders Decompostion\n",
    "function BENS_CLDRTO(xInit,uInit,nReac,nScen,pScen,solNom,option)\n",
    "    \n",
    "    \n",
    "    # flag for checking if last cut was opt. (1) or feas. (0)\n",
    "    flagO = 1\n",
    "    \n",
    "    # timing solution via Benders\n",
    "    timeSolBen = 0 \n",
    "    # timing solution via parallel Benders\n",
    "    timeSolParBen = 0 \n",
    "    \n",
    "    # Define master problem model\n",
    "    master = Model(CPLEX.Optimizer)\n",
    "    set_silent(master)\n",
    "    \n",
    "    #lower bound on scenario objective function approximation \n",
    "    alpha_down = 0.0;\n",
    "    \n",
    "    ####################\n",
    "    # Set up variables #\n",
    "    ####################\n",
    "    @variable(master,  (yspMin - y0) <= ysp[1:nDRTO] <=  (yspMax - y0))     \n",
    "    @variable(master, α ≥ alpha_down)\n",
    "    \n",
    "    ########################\n",
    "    # Set up initial guess #\n",
    "    ########################\n",
    "    if solNom isa Dict\n",
    "        for ii in 1:nDRTO\n",
    "            set_start_value(ysp[ii], solNom['s'][ii,1])\n",
    "        end \n",
    "    end \n",
    " \n",
    "    ################################################\n",
    "    # Solving problem with benders' decomposition  #\n",
    "    ################################################\n",
    "    for ii in 1:benIterMax\n",
    "           \n",
    "        #############################\n",
    "        # Set up objective function #\n",
    "        #############################\n",
    "        if flagO == 1 \n",
    "            # last cut was an optimality cut\n",
    "            # standard OF\n",
    "            @objective(master, Min, α)\n",
    "        else\n",
    "            # last cut was a feasibility cut\n",
    "            # \"nudge\" next solution towards nominal solution \n",
    "            @objective(master, Min, α + 0.0*sum((ysp[kk] - solNom['s'][kk,1])^2 for kk in 1:nDRTO))\n",
    "        end\n",
    "        \n",
    "            # solve master problem (with Benders' cut)\n",
    "            optimize!(master)\n",
    "\n",
    "            # solution time\n",
    "            timeSolMaster = solve_time(master)\n",
    "            # Master problem solution: lower bound of the original problem\n",
    "            lb = objective_value(master)\n",
    "            #display(lb)\n",
    "\n",
    "            # extracting solution for the non-anticipativity constraints\n",
    "            ysp_nonⁱ = value.(ysp)\n",
    "            #display(ysp_nonⁱ)\n",
    "\n",
    "        timeSolBen = timeSolBen + timeSolMaster\n",
    "        timeSolParBen = timeSolParBen + timeSolMaster # master cannot be paralellized \n",
    "\n",
    "        #######################\n",
    "        # Solving subproblems #\n",
    "        #######################\n",
    "        # objective function\n",
    "        o_temp = Vector{Float64}(undef,nScen)\n",
    "        # flag optimality / feasibility\n",
    "        flag_temp = Vector{Float64}(undef,nScen)\n",
    "        # solution time\n",
    "        solTime_temp = Vector{Float64}(undef,nScen)\n",
    "        # multipliers\n",
    "        lambdaN_temp = Matrix{Float64}(undef,nDRTO,nScen) \n",
    "        \n",
    "        for ss in 1:nScen\n",
    "            dicTemp = subp(xInit,uInit,ysp_nonⁱ,nReac,ss,pScen,solNom,option)\n",
    "           \n",
    "            # saving files\n",
    "            # objective function\n",
    "            o_temp[ss] = dicTemp['ϕ']\n",
    "            # solution time\n",
    "            solTime_temp[ss] = dicTemp['t']\n",
    "            # optimality / feasibility flag\n",
    "            flag_temp[ss] = dicTemp['f']\n",
    "            # multiplier\n",
    "            for kk in 1:nDRTO\n",
    "                lambdaN_temp[kk,ss] = dicTemp['λ'][kk]\n",
    "            end\n",
    "            \n",
    "        end\n",
    "        \n",
    "        ##########################################################\n",
    "        # If all subproblems were feasible, check optimality gap #\n",
    "        ##########################################################\n",
    "        if sum(flag_temp) == nScen \n",
    "            # Subproblem solution: upper bound of the original problem\n",
    "            ub = sum(o_temp)\n",
    "\n",
    "            # solve subproblems to find the upper bound of the original problem solution \n",
    "            timeSolBen = timeSolBen + sum(solTime_temp)\n",
    "\n",
    "            # assuming that subproblem solution is parallelized\n",
    "            timeSolParBen = timeSolParBen + maximum(solTime_temp)   \n",
    "            \n",
    "            # compute optimality gap\n",
    "            gap = abs(ub - lb)/abs(ub)\n",
    "            #display(gap)\n",
    "\n",
    "            # check if optimality gap is small enough\n",
    "            # also, make sure last cut was an optimality cut due to change in OF \n",
    "            if gap < optGap && flagO == 1\n",
    "                global yspSol_dec = ysp_nonⁱ\n",
    "                global objFun_dec = ub\n",
    "                global optGap_dec = gap\n",
    "                global iter_dec = ii\n",
    "                global time_dec = timeSolBen\n",
    "                global time_max_dec = timeSolParBen\n",
    "                break\n",
    "            else # gap ≥ optGap \n",
    "                ##############################\n",
    "                # --> adding optimality cuts #\n",
    "                ##############################\n",
    "                display(\">>>>>> iteration $(ii):O\")\n",
    "                benderscutO = @constraint(master, α ≥ ub + \n",
    "                    sum(sum(lambdaN_temp[jj,ss] for ss in 1:nScen)*(ysp[jj] - ysp_nonⁱ[jj]) for jj in 1:nDRTO))\n",
    "                #@info \"we are adding this bender optimality cut $(benderscutO)\"\n",
    "                \n",
    "                # optimality cut was add\n",
    "                flagO = 1\n",
    "            \n",
    "            end # if gap\n",
    "        else # sum(flag_temp) != nScen\n",
    "            ###############################\n",
    "            # --> adding feasibility cuts #\n",
    "            ###############################\n",
    "            display(\">>>>>> iteration $(ii):F\")\n",
    "\n",
    "            benderscutF = @constraint(master, 0 ≥\n",
    "                sum(sum(lambdaN_temp[jj,ss] for ss in 1:nScen)*(ysp[jj] - ysp_nonⁱ[jj]) for jj in 1:nDRTO))\n",
    "            #@info \"we are adding this bender feasibility cut $(benderscutF)\"\n",
    "            \n",
    "            # feasibility cut was add\n",
    "            flagO = 0\n",
    "            \n",
    "        end # if nScen\n",
    "        \n",
    "        # checking if number of iterations reached max \n",
    "        if ii < benIterMax\n",
    "            global yspSol_dec = [NaN for kk=1:nDRTO]\n",
    "            global objFun_dec = NaN\n",
    "            global optGap_dec = NaN\n",
    "            global iter_dec = benIterMax\n",
    "            global time_dec = timeSolBen\n",
    "            global time_max_dec = timeSolParBen\n",
    "        end # if < benIterMax\n",
    "    end # if for benders iterations\n",
    "\n",
    "    # recomputing values\n",
    "    uArray = [subp(xInit,uInit,yspSol_dec,nReac,ss,pScen,solNom,option)['u']' for ss in 1:nScen]\n",
    "    yArray = [subp(xInit,uInit,yspSol_dec,nReac,ss,pScen,solNom,option)['y']' for ss in 1:nScen] \n",
    "    yspArray = [subp(xInit,uInit,yspSol_dec,nReac,ss,pScen,solNom,option)['s']' for ss in 1:nScen]\n",
    "    \n",
    "    #calling values of the solved problem\n",
    "    return Dict('ϕ' => objFun_dec, \n",
    "                'd' => yspSol_dec, \n",
    "                't' => time_dec,\n",
    "                'm' => time_max_dec, \n",
    "                'i' => iter_dec,\n",
    "                'g' => optGap_dec,\n",
    "                'u' => uArray, \n",
    "                'y' => yArray, \n",
    "                's' => yspArray)\n",
    "     \n",
    "end;"
   ]
  },
  {
   "cell_type": "markdown",
   "id": "5e551fe0",
   "metadata": {},
   "source": [
    "# Implementing CL-DRTO in closed loop with the plant\n",
    "\n",
    "Here we run a Monte Carlo Analysis of the CL-DRTO results. The plant gain is drawn at each MC iteration and the DRTO has access to the lower and upper bound of that distribution to create the scenarios. \n",
    "\n",
    "We use the same formulation as above with 3 scenarios and 5 reactors for comparing the monolithic and decomposed implementations"
   ]
  },
  {
   "cell_type": "code",
   "execution_count": 15,
   "id": "a73f73c0",
   "metadata": {},
   "outputs": [
    {
     "name": "stdout",
     "output_type": "stream",
     "text": [
      "\n",
      "******************************************************************************\n",
      "This program contains Ipopt, a library for large-scale nonlinear optimization.\n",
      " Ipopt is released as open source code under the Eclipse Public License (EPL).\n",
      "         For more information visit https://github.com/coin-or/Ipopt\n",
      "******************************************************************************\n",
      "\n"
     ]
    }
   ],
   "source": [
    "# Computing nominal solution #\n",
    "#number of scenarios \n",
    "scenNom = 1\n",
    "#equiprobable scenarios\n",
    "pNom = 1.0\n",
    "#number of reactors \n",
    "reacNom = 1\n",
    "# number of states of the nominal solution\n",
    "nx = 2*reacNom\n",
    "\n",
    "solNominal = MS_CLDRTO(x0,u0,reacNom,scenNom,pNom,0,3);"
   ]
  },
  {
   "cell_type": "code",
   "execution_count": 16,
   "id": "4135986c",
   "metadata": {},
   "outputs": [],
   "source": [
    "# Monte Carlo iterations\n",
    "n_MC = 5 # 20\n",
    "\n",
    "# Simulation time in sampling periods\n",
    "nsim = 20\n",
    "\n",
    "# plant information\n",
    "nS_MC = 3 # number of scenarios 10\n",
    "nR_MC = 1 # number of reactors in parallel 5\n",
    "opti_MC = 3 # MPC solution method (only MPCC is working)\n",
    "\n",
    "#equiprobable scenarios\n",
    "pS_MC = 1.0/nS_MC\n",
    "\n",
    "# Number of states\n",
    "nx = 2*nR_MC\n",
    "\n",
    "# Creating MPC matrices\n",
    "mpc = MPC_matrices(nR_MC)\n",
    "\n",
    "# time series for plotting\n",
    "xPlant = Array{Float64}(undef,nx,nsim,n_MC,2) \n",
    "yPlant = Array{Float64}(undef,nsim,n_MC,2) \n",
    "uPlant = Array{Float64}(undef,nsim,n_MC,2) \n",
    "\n",
    "xMPCmodel = Array{Float64}(undef,nx,nsim,n_MC,2)\n",
    "yMPCmodel = Array{Float64}(undef,nsim,n_MC,2) \n",
    "dev_plant_MPCmodel = Array{Float64}(undef,nsim,n_MC,2);"
   ]
  },
  {
   "cell_type": "markdown",
   "id": "b783955c",
   "metadata": {},
   "source": [
    "## Plant simulation"
   ]
  },
  {
   "cell_type": "code",
   "execution_count": 17,
   "id": "87143f73",
   "metadata": {},
   "outputs": [
    {
     "name": "stdout",
     "output_type": "stream",
     "text": [
      "MC: 1>> Time: 1\n",
      "MC: 1>> Time: 2\n",
      "MC: 1>> Time: 3\n",
      "MC: 1>> Time: 4\n",
      "MC: 1>> Time: 5\n",
      "MC: 1>> Time: 6\n",
      "MC: 1>> Time: 7\n",
      "MC: 1>> Time: 8\n",
      "MC: 1>> Time: 9\n",
      "MC: 1>> Time: 10\n",
      "MC: 1>> Time: 11\n",
      "MC: 1>> Time: 12\n",
      "MC: 1>> Time: 13\n",
      "MC: 1>> Time: 14\n",
      "MC: 1>> Time: 15\n",
      "MC: 1>> Time: 16\n",
      "MC: 1>> Time: 17\n",
      "MC: 1>> Time: 18\n",
      "MC: 1>> Time: 19\n",
      "MC: 1>> Time: 20\n",
      "MC: 1>> Time: 1\n"
     ]
    },
    {
     "data": {
      "text/plain": [
       "\">>>>>> iteration 1:O\""
      ]
     },
     "metadata": {},
     "output_type": "display_data"
    },
    {
     "data": {
      "text/plain": [
       "\">>>>>> iteration 2:O\""
      ]
     },
     "metadata": {},
     "output_type": "display_data"
    },
    {
     "data": {
      "text/plain": [
       "\">>>>>> iteration 3:O\""
      ]
     },
     "metadata": {},
     "output_type": "display_data"
    },
    {
     "data": {
      "text/plain": [
       "\">>>>>> iteration 4:O\""
      ]
     },
     "metadata": {},
     "output_type": "display_data"
    },
    {
     "data": {
      "text/plain": [
       "\">>>>>> iteration 5:O\""
      ]
     },
     "metadata": {},
     "output_type": "display_data"
    },
    {
     "data": {
      "text/plain": [
       "\">>>>>> iteration 6:O\""
      ]
     },
     "metadata": {},
     "output_type": "display_data"
    },
    {
     "data": {
      "text/plain": [
       "\">>>>>> iteration 7:O\""
      ]
     },
     "metadata": {},
     "output_type": "display_data"
    },
    {
     "data": {
      "text/plain": [
       "\">>>>>> iteration 8:O\""
      ]
     },
     "metadata": {},
     "output_type": "display_data"
    },
    {
     "data": {
      "text/plain": [
       "\">>>>>> iteration 9:O\""
      ]
     },
     "metadata": {},
     "output_type": "display_data"
    },
    {
     "data": {
      "text/plain": [
       "\">>>>>> iteration 10:O\""
      ]
     },
     "metadata": {},
     "output_type": "display_data"
    },
    {
     "data": {
      "text/plain": [
       "\">>>>>> iteration 11:O\""
      ]
     },
     "metadata": {},
     "output_type": "display_data"
    },
    {
     "data": {
      "text/plain": [
       "\">>>>>> iteration 12:O\""
      ]
     },
     "metadata": {},
     "output_type": "display_data"
    },
    {
     "data": {
      "text/plain": [
       "\">>>>>> iteration 13:O\""
      ]
     },
     "metadata": {},
     "output_type": "display_data"
    },
    {
     "name": "stdout",
     "output_type": "stream",
     "text": [
      "MC: 1>> Time: 2\n",
      "MC: 1>> Time: 3\n",
      "MC: 1>> Time: 4\n"
     ]
    },
    {
     "data": {
      "text/plain": [
       "\">>>>>> iteration 1:O\""
      ]
     },
     "metadata": {},
     "output_type": "display_data"
    },
    {
     "data": {
      "text/plain": [
       "\">>>>>> iteration 2:O\""
      ]
     },
     "metadata": {},
     "output_type": "display_data"
    },
    {
     "data": {
      "text/plain": [
       "\">>>>>> iteration 3:O\""
      ]
     },
     "metadata": {},
     "output_type": "display_data"
    },
    {
     "data": {
      "text/plain": [
       "\">>>>>> iteration 4:O\""
      ]
     },
     "metadata": {},
     "output_type": "display_data"
    },
    {
     "data": {
      "text/plain": [
       "\">>>>>> iteration 5:O\""
      ]
     },
     "metadata": {},
     "output_type": "display_data"
    },
    {
     "data": {
      "text/plain": [
       "\">>>>>> iteration 6:O\""
      ]
     },
     "metadata": {},
     "output_type": "display_data"
    },
    {
     "data": {
      "text/plain": [
       "\">>>>>> iteration 7:O\""
      ]
     },
     "metadata": {},
     "output_type": "display_data"
    },
    {
     "data": {
      "text/plain": [
       "\">>>>>> iteration 8:O\""
      ]
     },
     "metadata": {},
     "output_type": "display_data"
    },
    {
     "data": {
      "text/plain": [
       "\">>>>>> iteration 9:O\""
      ]
     },
     "metadata": {},
     "output_type": "display_data"
    },
    {
     "data": {
      "text/plain": [
       "\">>>>>> iteration 10:O\""
      ]
     },
     "metadata": {},
     "output_type": "display_data"
    },
    {
     "data": {
      "text/plain": [
       "\">>>>>> iteration 11:O\""
      ]
     },
     "metadata": {},
     "output_type": "display_data"
    },
    {
     "data": {
      "text/plain": [
       "\">>>>>> iteration 12:O\""
      ]
     },
     "metadata": {},
     "output_type": "display_data"
    },
    {
     "data": {
      "text/plain": [
       "\">>>>>> iteration 13:F\""
      ]
     },
     "metadata": {},
     "output_type": "display_data"
    },
    {
     "data": {
      "text/plain": [
       "\">>>>>> iteration 14:O\""
      ]
     },
     "metadata": {},
     "output_type": "display_data"
    },
    {
     "data": {
      "text/plain": [
       "\">>>>>> iteration 15:O\""
      ]
     },
     "metadata": {},
     "output_type": "display_data"
    },
    {
     "data": {
      "text/plain": [
       "\">>>>>> iteration 16:O\""
      ]
     },
     "metadata": {},
     "output_type": "display_data"
    },
    {
     "data": {
      "text/plain": [
       "\">>>>>> iteration 17:O\""
      ]
     },
     "metadata": {},
     "output_type": "display_data"
    },
    {
     "data": {
      "text/plain": [
       "\">>>>>> iteration 18:O\""
      ]
     },
     "metadata": {},
     "output_type": "display_data"
    },
    {
     "data": {
      "text/plain": [
       "\">>>>>> iteration 19:O\""
      ]
     },
     "metadata": {},
     "output_type": "display_data"
    },
    {
     "data": {
      "text/plain": [
       "\">>>>>> iteration 20:O\""
      ]
     },
     "metadata": {},
     "output_type": "display_data"
    },
    {
     "name": "stdout",
     "output_type": "stream",
     "text": [
      "MC: 1>> Time: 5\n",
      "MC: 1>> Time: 6\n",
      "MC: 1>> Time: 7\n",
      "MC: 1>> Time: 8\n"
     ]
    },
    {
     "data": {
      "text/plain": [
       "\">>>>>> iteration 1:O\""
      ]
     },
     "metadata": {},
     "output_type": "display_data"
    },
    {
     "data": {
      "text/plain": [
       "\">>>>>> iteration 2:O\""
      ]
     },
     "metadata": {},
     "output_type": "display_data"
    },
    {
     "data": {
      "text/plain": [
       "\">>>>>> iteration 3:O\""
      ]
     },
     "metadata": {},
     "output_type": "display_data"
    },
    {
     "data": {
      "text/plain": [
       "\">>>>>> iteration 4:O\""
      ]
     },
     "metadata": {},
     "output_type": "display_data"
    },
    {
     "data": {
      "text/plain": [
       "\">>>>>> iteration 5:O\""
      ]
     },
     "metadata": {},
     "output_type": "display_data"
    },
    {
     "data": {
      "text/plain": [
       "\">>>>>> iteration 6:O\""
      ]
     },
     "metadata": {},
     "output_type": "display_data"
    },
    {
     "data": {
      "text/plain": [
       "\">>>>>> iteration 7:O\""
      ]
     },
     "metadata": {},
     "output_type": "display_data"
    },
    {
     "data": {
      "text/plain": [
       "\">>>>>> iteration 8:O\""
      ]
     },
     "metadata": {},
     "output_type": "display_data"
    },
    {
     "data": {
      "text/plain": [
       "\">>>>>> iteration 9:O\""
      ]
     },
     "metadata": {},
     "output_type": "display_data"
    },
    {
     "data": {
      "text/plain": [
       "\">>>>>> iteration 10:O\""
      ]
     },
     "metadata": {},
     "output_type": "display_data"
    },
    {
     "data": {
      "text/plain": [
       "\">>>>>> iteration 11:O\""
      ]
     },
     "metadata": {},
     "output_type": "display_data"
    },
    {
     "data": {
      "text/plain": [
       "\">>>>>> iteration 12:F\""
      ]
     },
     "metadata": {},
     "output_type": "display_data"
    },
    {
     "data": {
      "text/plain": [
       "\">>>>>> iteration 13:O\""
      ]
     },
     "metadata": {},
     "output_type": "display_data"
    },
    {
     "data": {
      "text/plain": [
       "\">>>>>> iteration 14:O\""
      ]
     },
     "metadata": {},
     "output_type": "display_data"
    },
    {
     "data": {
      "text/plain": [
       "\">>>>>> iteration 15:O\""
      ]
     },
     "metadata": {},
     "output_type": "display_data"
    },
    {
     "data": {
      "text/plain": [
       "\">>>>>> iteration 16:O\""
      ]
     },
     "metadata": {},
     "output_type": "display_data"
    },
    {
     "data": {
      "text/plain": [
       "\">>>>>> iteration 17:O\""
      ]
     },
     "metadata": {},
     "output_type": "display_data"
    },
    {
     "data": {
      "text/plain": [
       "\">>>>>> iteration 18:O\""
      ]
     },
     "metadata": {},
     "output_type": "display_data"
    },
    {
     "data": {
      "text/plain": [
       "\">>>>>> iteration 19:O\""
      ]
     },
     "metadata": {},
     "output_type": "display_data"
    },
    {
     "data": {
      "text/plain": [
       "\">>>>>> iteration 20:O\""
      ]
     },
     "metadata": {},
     "output_type": "display_data"
    },
    {
     "data": {
      "text/plain": [
       "\">>>>>> iteration 21:O\""
      ]
     },
     "metadata": {},
     "output_type": "display_data"
    },
    {
     "data": {
      "text/plain": [
       "\">>>>>> iteration 22:O\""
      ]
     },
     "metadata": {},
     "output_type": "display_data"
    },
    {
     "data": {
      "text/plain": [
       "\">>>>>> iteration 23:O\""
      ]
     },
     "metadata": {},
     "output_type": "display_data"
    },
    {
     "data": {
      "text/plain": [
       "\">>>>>> iteration 24:O\""
      ]
     },
     "metadata": {},
     "output_type": "display_data"
    },
    {
     "data": {
      "text/plain": [
       "\">>>>>> iteration 25:O\""
      ]
     },
     "metadata": {},
     "output_type": "display_data"
    },
    {
     "data": {
      "text/plain": [
       "\">>>>>> iteration 26:O\""
      ]
     },
     "metadata": {},
     "output_type": "display_data"
    },
    {
     "data": {
      "text/plain": [
       "\">>>>>> iteration 27:O\""
      ]
     },
     "metadata": {},
     "output_type": "display_data"
    },
    {
     "name": "stdout",
     "output_type": "stream",
     "text": [
      "MC: 1>> Time: 9\n",
      "MC: 1>> Time: 10\n",
      "MC: 1>> Time: 11\n",
      "MC: 1>> Time: 12\n"
     ]
    },
    {
     "data": {
      "text/plain": [
       "\">>>>>> iteration 1:O\""
      ]
     },
     "metadata": {},
     "output_type": "display_data"
    },
    {
     "data": {
      "text/plain": [
       "\">>>>>> iteration 2:O\""
      ]
     },
     "metadata": {},
     "output_type": "display_data"
    },
    {
     "data": {
      "text/plain": [
       "\">>>>>> iteration 3:O\""
      ]
     },
     "metadata": {},
     "output_type": "display_data"
    },
    {
     "data": {
      "text/plain": [
       "\">>>>>> iteration 4:O\""
      ]
     },
     "metadata": {},
     "output_type": "display_data"
    },
    {
     "data": {
      "text/plain": [
       "\">>>>>> iteration 5:O\""
      ]
     },
     "metadata": {},
     "output_type": "display_data"
    },
    {
     "data": {
      "text/plain": [
       "\">>>>>> iteration 6:O\""
      ]
     },
     "metadata": {},
     "output_type": "display_data"
    },
    {
     "data": {
      "text/plain": [
       "\">>>>>> iteration 7:O\""
      ]
     },
     "metadata": {},
     "output_type": "display_data"
    },
    {
     "data": {
      "text/plain": [
       "\">>>>>> iteration 8:O\""
      ]
     },
     "metadata": {},
     "output_type": "display_data"
    },
    {
     "data": {
      "text/plain": [
       "\">>>>>> iteration 9:O\""
      ]
     },
     "metadata": {},
     "output_type": "display_data"
    },
    {
     "data": {
      "text/plain": [
       "\">>>>>> iteration 10:O\""
      ]
     },
     "metadata": {},
     "output_type": "display_data"
    },
    {
     "data": {
      "text/plain": [
       "\">>>>>> iteration 11:O\""
      ]
     },
     "metadata": {},
     "output_type": "display_data"
    },
    {
     "data": {
      "text/plain": [
       "\">>>>>> iteration 12:O\""
      ]
     },
     "metadata": {},
     "output_type": "display_data"
    },
    {
     "data": {
      "text/plain": [
       "\">>>>>> iteration 13:F\""
      ]
     },
     "metadata": {},
     "output_type": "display_data"
    },
    {
     "data": {
      "text/plain": [
       "\">>>>>> iteration 14:O\""
      ]
     },
     "metadata": {},
     "output_type": "display_data"
    },
    {
     "data": {
      "text/plain": [
       "\">>>>>> iteration 15:O\""
      ]
     },
     "metadata": {},
     "output_type": "display_data"
    },
    {
     "data": {
      "text/plain": [
       "\">>>>>> iteration 16:O\""
      ]
     },
     "metadata": {},
     "output_type": "display_data"
    },
    {
     "data": {
      "text/plain": [
       "\">>>>>> iteration 17:O\""
      ]
     },
     "metadata": {},
     "output_type": "display_data"
    },
    {
     "data": {
      "text/plain": [
       "\">>>>>> iteration 18:O\""
      ]
     },
     "metadata": {},
     "output_type": "display_data"
    },
    {
     "data": {
      "text/plain": [
       "\">>>>>> iteration 19:O\""
      ]
     },
     "metadata": {},
     "output_type": "display_data"
    },
    {
     "data": {
      "text/plain": [
       "\">>>>>> iteration 20:O\""
      ]
     },
     "metadata": {},
     "output_type": "display_data"
    },
    {
     "data": {
      "text/plain": [
       "\">>>>>> iteration 21:O\""
      ]
     },
     "metadata": {},
     "output_type": "display_data"
    },
    {
     "data": {
      "text/plain": [
       "\">>>>>> iteration 22:O\""
      ]
     },
     "metadata": {},
     "output_type": "display_data"
    },
    {
     "name": "stdout",
     "output_type": "stream",
     "text": [
      "MC: 1>> Time: 13\n",
      "MC: 1>> Time: 14\n",
      "MC: 1>> Time: 15\n",
      "MC: 1>> Time: 16\n"
     ]
    },
    {
     "data": {
      "text/plain": [
       "\">>>>>> iteration 1:O\""
      ]
     },
     "metadata": {},
     "output_type": "display_data"
    },
    {
     "data": {
      "text/plain": [
       "\">>>>>> iteration 2:O\""
      ]
     },
     "metadata": {},
     "output_type": "display_data"
    },
    {
     "data": {
      "text/plain": [
       "\">>>>>> iteration 3:O\""
      ]
     },
     "metadata": {},
     "output_type": "display_data"
    },
    {
     "data": {
      "text/plain": [
       "\">>>>>> iteration 4:O\""
      ]
     },
     "metadata": {},
     "output_type": "display_data"
    },
    {
     "data": {
      "text/plain": [
       "\">>>>>> iteration 5:O\""
      ]
     },
     "metadata": {},
     "output_type": "display_data"
    },
    {
     "data": {
      "text/plain": [
       "\">>>>>> iteration 6:O\""
      ]
     },
     "metadata": {},
     "output_type": "display_data"
    },
    {
     "data": {
      "text/plain": [
       "\">>>>>> iteration 7:O\""
      ]
     },
     "metadata": {},
     "output_type": "display_data"
    },
    {
     "data": {
      "text/plain": [
       "\">>>>>> iteration 8:O\""
      ]
     },
     "metadata": {},
     "output_type": "display_data"
    },
    {
     "data": {
      "text/plain": [
       "\">>>>>> iteration 9:O\""
      ]
     },
     "metadata": {},
     "output_type": "display_data"
    },
    {
     "data": {
      "text/plain": [
       "\">>>>>> iteration 10:O\""
      ]
     },
     "metadata": {},
     "output_type": "display_data"
    },
    {
     "data": {
      "text/plain": [
       "\">>>>>> iteration 11:O\""
      ]
     },
     "metadata": {},
     "output_type": "display_data"
    },
    {
     "data": {
      "text/plain": [
       "\">>>>>> iteration 12:F\""
      ]
     },
     "metadata": {},
     "output_type": "display_data"
    },
    {
     "data": {
      "text/plain": [
       "\">>>>>> iteration 13:O\""
      ]
     },
     "metadata": {},
     "output_type": "display_data"
    },
    {
     "data": {
      "text/plain": [
       "\">>>>>> iteration 14:O\""
      ]
     },
     "metadata": {},
     "output_type": "display_data"
    },
    {
     "data": {
      "text/plain": [
       "\">>>>>> iteration 15:O\""
      ]
     },
     "metadata": {},
     "output_type": "display_data"
    },
    {
     "data": {
      "text/plain": [
       "\">>>>>> iteration 16:O\""
      ]
     },
     "metadata": {},
     "output_type": "display_data"
    },
    {
     "data": {
      "text/plain": [
       "\">>>>>> iteration 17:O\""
      ]
     },
     "metadata": {},
     "output_type": "display_data"
    },
    {
     "data": {
      "text/plain": [
       "\">>>>>> iteration 18:O\""
      ]
     },
     "metadata": {},
     "output_type": "display_data"
    },
    {
     "data": {
      "text/plain": [
       "\">>>>>> iteration 19:O\""
      ]
     },
     "metadata": {},
     "output_type": "display_data"
    },
    {
     "data": {
      "text/plain": [
       "\">>>>>> iteration 20:O\""
      ]
     },
     "metadata": {},
     "output_type": "display_data"
    },
    {
     "data": {
      "text/plain": [
       "\">>>>>> iteration 21:O\""
      ]
     },
     "metadata": {},
     "output_type": "display_data"
    },
    {
     "name": "stdout",
     "output_type": "stream",
     "text": [
      "MC: 1>> Time: 17\n",
      "MC: 1>> Time: 18\n",
      "MC: 1>> Time: 19\n",
      "MC: 1>> Time: 20\n"
     ]
    },
    {
     "data": {
      "text/plain": [
       "\">>>>>> iteration 1:O\""
      ]
     },
     "metadata": {},
     "output_type": "display_data"
    },
    {
     "data": {
      "text/plain": [
       "\">>>>>> iteration 2:O\""
      ]
     },
     "metadata": {},
     "output_type": "display_data"
    },
    {
     "data": {
      "text/plain": [
       "\">>>>>> iteration 3:O\""
      ]
     },
     "metadata": {},
     "output_type": "display_data"
    },
    {
     "data": {
      "text/plain": [
       "\">>>>>> iteration 4:O\""
      ]
     },
     "metadata": {},
     "output_type": "display_data"
    },
    {
     "data": {
      "text/plain": [
       "\">>>>>> iteration 5:O\""
      ]
     },
     "metadata": {},
     "output_type": "display_data"
    },
    {
     "data": {
      "text/plain": [
       "\">>>>>> iteration 6:O\""
      ]
     },
     "metadata": {},
     "output_type": "display_data"
    },
    {
     "data": {
      "text/plain": [
       "\">>>>>> iteration 7:O\""
      ]
     },
     "metadata": {},
     "output_type": "display_data"
    },
    {
     "data": {
      "text/plain": [
       "\">>>>>> iteration 8:O\""
      ]
     },
     "metadata": {},
     "output_type": "display_data"
    },
    {
     "data": {
      "text/plain": [
       "\">>>>>> iteration 9:O\""
      ]
     },
     "metadata": {},
     "output_type": "display_data"
    },
    {
     "data": {
      "text/plain": [
       "\">>>>>> iteration 10:O\""
      ]
     },
     "metadata": {},
     "output_type": "display_data"
    },
    {
     "data": {
      "text/plain": [
       "\">>>>>> iteration 11:O\""
      ]
     },
     "metadata": {},
     "output_type": "display_data"
    },
    {
     "data": {
      "text/plain": [
       "\">>>>>> iteration 12:O\""
      ]
     },
     "metadata": {},
     "output_type": "display_data"
    },
    {
     "data": {
      "text/plain": [
       "\">>>>>> iteration 13:O\""
      ]
     },
     "metadata": {},
     "output_type": "display_data"
    },
    {
     "data": {
      "text/plain": [
       "\">>>>>> iteration 14:F\""
      ]
     },
     "metadata": {},
     "output_type": "display_data"
    },
    {
     "data": {
      "text/plain": [
       "\">>>>>> iteration 15:O\""
      ]
     },
     "metadata": {},
     "output_type": "display_data"
    },
    {
     "data": {
      "text/plain": [
       "\">>>>>> iteration 16:O\""
      ]
     },
     "metadata": {},
     "output_type": "display_data"
    },
    {
     "data": {
      "text/plain": [
       "\">>>>>> iteration 17:O\""
      ]
     },
     "metadata": {},
     "output_type": "display_data"
    },
    {
     "data": {
      "text/plain": [
       "\">>>>>> iteration 18:O\""
      ]
     },
     "metadata": {},
     "output_type": "display_data"
    },
    {
     "data": {
      "text/plain": [
       "\">>>>>> iteration 19:O\""
      ]
     },
     "metadata": {},
     "output_type": "display_data"
    },
    {
     "data": {
      "text/plain": [
       "\">>>>>> iteration 20:O\""
      ]
     },
     "metadata": {},
     "output_type": "display_data"
    },
    {
     "data": {
      "text/plain": [
       "\">>>>>> iteration 21:O\""
      ]
     },
     "metadata": {},
     "output_type": "display_data"
    },
    {
     "data": {
      "text/plain": [
       "\">>>>>> iteration 22:O\""
      ]
     },
     "metadata": {},
     "output_type": "display_data"
    },
    {
     "data": {
      "text/plain": [
       "\">>>>>> iteration 23:O\""
      ]
     },
     "metadata": {},
     "output_type": "display_data"
    },
    {
     "name": "stdout",
     "output_type": "stream",
     "text": [
      "MC: 2>> Time: 1\n",
      "MC: 2>> Time: 2\n",
      "MC: 2>> Time: 3\n",
      "MC: 2>> Time: 4\n",
      "MC: 2>> Time: 5\n",
      "MC: 2>> Time: 6\n",
      "MC: 2>> Time: 7\n",
      "MC: 2>> Time: 8\n",
      "MC: 2>> Time: 9\n",
      "MC: 2>> Time: 10\n",
      "MC: 2>> Time: 11\n",
      "MC: 2>> Time: 12\n",
      "MC: 2>> Time: 13\n",
      "MC: 2>> Time: 14\n",
      "MC: 2>> Time: 15\n",
      "MC: 2>> Time: 16\n",
      "MC: 2>> Time: 17\n",
      "MC: 2>> Time: 18\n",
      "MC: 2>> Time: 19\n",
      "MC: 2>> Time: 20\n",
      "MC: 2>> Time: 1\n"
     ]
    },
    {
     "data": {
      "text/plain": [
       "\">>>>>> iteration 1:O\""
      ]
     },
     "metadata": {},
     "output_type": "display_data"
    },
    {
     "data": {
      "text/plain": [
       "\">>>>>> iteration 2:O\""
      ]
     },
     "metadata": {},
     "output_type": "display_data"
    },
    {
     "data": {
      "text/plain": [
       "\">>>>>> iteration 3:O\""
      ]
     },
     "metadata": {},
     "output_type": "display_data"
    },
    {
     "data": {
      "text/plain": [
       "\">>>>>> iteration 4:O\""
      ]
     },
     "metadata": {},
     "output_type": "display_data"
    },
    {
     "data": {
      "text/plain": [
       "\">>>>>> iteration 5:O\""
      ]
     },
     "metadata": {},
     "output_type": "display_data"
    },
    {
     "data": {
      "text/plain": [
       "\">>>>>> iteration 6:O\""
      ]
     },
     "metadata": {},
     "output_type": "display_data"
    },
    {
     "data": {
      "text/plain": [
       "\">>>>>> iteration 7:O\""
      ]
     },
     "metadata": {},
     "output_type": "display_data"
    },
    {
     "data": {
      "text/plain": [
       "\">>>>>> iteration 8:O\""
      ]
     },
     "metadata": {},
     "output_type": "display_data"
    },
    {
     "data": {
      "text/plain": [
       "\">>>>>> iteration 9:O\""
      ]
     },
     "metadata": {},
     "output_type": "display_data"
    },
    {
     "data": {
      "text/plain": [
       "\">>>>>> iteration 10:O\""
      ]
     },
     "metadata": {},
     "output_type": "display_data"
    },
    {
     "data": {
      "text/plain": [
       "\">>>>>> iteration 11:O\""
      ]
     },
     "metadata": {},
     "output_type": "display_data"
    },
    {
     "data": {
      "text/plain": [
       "\">>>>>> iteration 12:O\""
      ]
     },
     "metadata": {},
     "output_type": "display_data"
    },
    {
     "data": {
      "text/plain": [
       "\">>>>>> iteration 13:O\""
      ]
     },
     "metadata": {},
     "output_type": "display_data"
    },
    {
     "name": "stdout",
     "output_type": "stream",
     "text": [
      "MC: 2>> Time: 2\n",
      "MC: 2>> Time: 3\n",
      "MC: 2>> Time: 4\n"
     ]
    },
    {
     "data": {
      "text/plain": [
       "\">>>>>> iteration 1:O\""
      ]
     },
     "metadata": {},
     "output_type": "display_data"
    },
    {
     "data": {
      "text/plain": [
       "\">>>>>> iteration 2:O\""
      ]
     },
     "metadata": {},
     "output_type": "display_data"
    },
    {
     "data": {
      "text/plain": [
       "\">>>>>> iteration 3:O\""
      ]
     },
     "metadata": {},
     "output_type": "display_data"
    },
    {
     "data": {
      "text/plain": [
       "\">>>>>> iteration 4:O\""
      ]
     },
     "metadata": {},
     "output_type": "display_data"
    },
    {
     "data": {
      "text/plain": [
       "\">>>>>> iteration 5:O\""
      ]
     },
     "metadata": {},
     "output_type": "display_data"
    },
    {
     "data": {
      "text/plain": [
       "\">>>>>> iteration 6:O\""
      ]
     },
     "metadata": {},
     "output_type": "display_data"
    },
    {
     "data": {
      "text/plain": [
       "\">>>>>> iteration 7:O\""
      ]
     },
     "metadata": {},
     "output_type": "display_data"
    },
    {
     "data": {
      "text/plain": [
       "\">>>>>> iteration 8:O\""
      ]
     },
     "metadata": {},
     "output_type": "display_data"
    },
    {
     "data": {
      "text/plain": [
       "\">>>>>> iteration 9:O\""
      ]
     },
     "metadata": {},
     "output_type": "display_data"
    },
    {
     "data": {
      "text/plain": [
       "\">>>>>> iteration 10:O\""
      ]
     },
     "metadata": {},
     "output_type": "display_data"
    },
    {
     "data": {
      "text/plain": [
       "\">>>>>> iteration 11:O\""
      ]
     },
     "metadata": {},
     "output_type": "display_data"
    },
    {
     "data": {
      "text/plain": [
       "\">>>>>> iteration 12:O\""
      ]
     },
     "metadata": {},
     "output_type": "display_data"
    },
    {
     "data": {
      "text/plain": [
       "\">>>>>> iteration 13:O\""
      ]
     },
     "metadata": {},
     "output_type": "display_data"
    },
    {
     "data": {
      "text/plain": [
       "\">>>>>> iteration 14:O\""
      ]
     },
     "metadata": {},
     "output_type": "display_data"
    },
    {
     "data": {
      "text/plain": [
       "\">>>>>> iteration 15:O\""
      ]
     },
     "metadata": {},
     "output_type": "display_data"
    },
    {
     "name": "stdout",
     "output_type": "stream",
     "text": [
      "MC: 2>> Time: 5\n",
      "MC: 2>> Time: 6\n",
      "MC: 2>> Time: 7\n",
      "MC: 2>> Time: 8\n"
     ]
    },
    {
     "data": {
      "text/plain": [
       "\">>>>>> iteration 1:O\""
      ]
     },
     "metadata": {},
     "output_type": "display_data"
    },
    {
     "data": {
      "text/plain": [
       "\">>>>>> iteration 2:O\""
      ]
     },
     "metadata": {},
     "output_type": "display_data"
    },
    {
     "data": {
      "text/plain": [
       "\">>>>>> iteration 3:O\""
      ]
     },
     "metadata": {},
     "output_type": "display_data"
    },
    {
     "data": {
      "text/plain": [
       "\">>>>>> iteration 4:O\""
      ]
     },
     "metadata": {},
     "output_type": "display_data"
    },
    {
     "data": {
      "text/plain": [
       "\">>>>>> iteration 5:O\""
      ]
     },
     "metadata": {},
     "output_type": "display_data"
    },
    {
     "data": {
      "text/plain": [
       "\">>>>>> iteration 6:O\""
      ]
     },
     "metadata": {},
     "output_type": "display_data"
    },
    {
     "data": {
      "text/plain": [
       "\">>>>>> iteration 7:O\""
      ]
     },
     "metadata": {},
     "output_type": "display_data"
    },
    {
     "data": {
      "text/plain": [
       "\">>>>>> iteration 8:O\""
      ]
     },
     "metadata": {},
     "output_type": "display_data"
    },
    {
     "data": {
      "text/plain": [
       "\">>>>>> iteration 9:O\""
      ]
     },
     "metadata": {},
     "output_type": "display_data"
    },
    {
     "data": {
      "text/plain": [
       "\">>>>>> iteration 10:O\""
      ]
     },
     "metadata": {},
     "output_type": "display_data"
    },
    {
     "data": {
      "text/plain": [
       "\">>>>>> iteration 11:O\""
      ]
     },
     "metadata": {},
     "output_type": "display_data"
    },
    {
     "data": {
      "text/plain": [
       "\">>>>>> iteration 12:O\""
      ]
     },
     "metadata": {},
     "output_type": "display_data"
    },
    {
     "data": {
      "text/plain": [
       "\">>>>>> iteration 13:O\""
      ]
     },
     "metadata": {},
     "output_type": "display_data"
    },
    {
     "data": {
      "text/plain": [
       "\">>>>>> iteration 14:O\""
      ]
     },
     "metadata": {},
     "output_type": "display_data"
    },
    {
     "data": {
      "text/plain": [
       "\">>>>>> iteration 15:O\""
      ]
     },
     "metadata": {},
     "output_type": "display_data"
    },
    {
     "data": {
      "text/plain": [
       "\">>>>>> iteration 16:O\""
      ]
     },
     "metadata": {},
     "output_type": "display_data"
    },
    {
     "data": {
      "text/plain": [
       "\">>>>>> iteration 17:O\""
      ]
     },
     "metadata": {},
     "output_type": "display_data"
    },
    {
     "data": {
      "text/plain": [
       "\">>>>>> iteration 18:F\""
      ]
     },
     "metadata": {},
     "output_type": "display_data"
    },
    {
     "data": {
      "text/plain": [
       "\">>>>>> iteration 19:O\""
      ]
     },
     "metadata": {},
     "output_type": "display_data"
    },
    {
     "data": {
      "text/plain": [
       "\">>>>>> iteration 20:O\""
      ]
     },
     "metadata": {},
     "output_type": "display_data"
    },
    {
     "data": {
      "text/plain": [
       "\">>>>>> iteration 21:O\""
      ]
     },
     "metadata": {},
     "output_type": "display_data"
    },
    {
     "data": {
      "text/plain": [
       "\">>>>>> iteration 22:O\""
      ]
     },
     "metadata": {},
     "output_type": "display_data"
    },
    {
     "data": {
      "text/plain": [
       "\">>>>>> iteration 23:O\""
      ]
     },
     "metadata": {},
     "output_type": "display_data"
    },
    {
     "data": {
      "text/plain": [
       "\">>>>>> iteration 24:O\""
      ]
     },
     "metadata": {},
     "output_type": "display_data"
    },
    {
     "data": {
      "text/plain": [
       "\">>>>>> iteration 25:O\""
      ]
     },
     "metadata": {},
     "output_type": "display_data"
    },
    {
     "name": "stdout",
     "output_type": "stream",
     "text": [
      "MC: 2>> Time: 9\n",
      "MC: 2>> Time: 10\n",
      "MC: 2>> Time: 11\n",
      "MC: 2>> Time: 12\n"
     ]
    },
    {
     "data": {
      "text/plain": [
       "\">>>>>> iteration 1:O\""
      ]
     },
     "metadata": {},
     "output_type": "display_data"
    },
    {
     "data": {
      "text/plain": [
       "\">>>>>> iteration 2:O\""
      ]
     },
     "metadata": {},
     "output_type": "display_data"
    },
    {
     "data": {
      "text/plain": [
       "\">>>>>> iteration 3:O\""
      ]
     },
     "metadata": {},
     "output_type": "display_data"
    },
    {
     "data": {
      "text/plain": [
       "\">>>>>> iteration 4:O\""
      ]
     },
     "metadata": {},
     "output_type": "display_data"
    },
    {
     "data": {
      "text/plain": [
       "\">>>>>> iteration 5:O\""
      ]
     },
     "metadata": {},
     "output_type": "display_data"
    },
    {
     "data": {
      "text/plain": [
       "\">>>>>> iteration 6:O\""
      ]
     },
     "metadata": {},
     "output_type": "display_data"
    },
    {
     "data": {
      "text/plain": [
       "\">>>>>> iteration 7:O\""
      ]
     },
     "metadata": {},
     "output_type": "display_data"
    },
    {
     "data": {
      "text/plain": [
       "\">>>>>> iteration 8:O\""
      ]
     },
     "metadata": {},
     "output_type": "display_data"
    },
    {
     "data": {
      "text/plain": [
       "\">>>>>> iteration 9:O\""
      ]
     },
     "metadata": {},
     "output_type": "display_data"
    },
    {
     "data": {
      "text/plain": [
       "\">>>>>> iteration 10:O\""
      ]
     },
     "metadata": {},
     "output_type": "display_data"
    },
    {
     "data": {
      "text/plain": [
       "\">>>>>> iteration 11:O\""
      ]
     },
     "metadata": {},
     "output_type": "display_data"
    },
    {
     "data": {
      "text/plain": [
       "\">>>>>> iteration 12:O\""
      ]
     },
     "metadata": {},
     "output_type": "display_data"
    },
    {
     "data": {
      "text/plain": [
       "\">>>>>> iteration 13:O\""
      ]
     },
     "metadata": {},
     "output_type": "display_data"
    },
    {
     "data": {
      "text/plain": [
       "\">>>>>> iteration 14:O\""
      ]
     },
     "metadata": {},
     "output_type": "display_data"
    },
    {
     "data": {
      "text/plain": [
       "\">>>>>> iteration 15:O\""
      ]
     },
     "metadata": {},
     "output_type": "display_data"
    },
    {
     "data": {
      "text/plain": [
       "\">>>>>> iteration 16:O\""
      ]
     },
     "metadata": {},
     "output_type": "display_data"
    },
    {
     "data": {
      "text/plain": [
       "\">>>>>> iteration 17:O\""
      ]
     },
     "metadata": {},
     "output_type": "display_data"
    },
    {
     "data": {
      "text/plain": [
       "\">>>>>> iteration 18:F\""
      ]
     },
     "metadata": {},
     "output_type": "display_data"
    },
    {
     "data": {
      "text/plain": [
       "\">>>>>> iteration 19:O\""
      ]
     },
     "metadata": {},
     "output_type": "display_data"
    },
    {
     "name": "stdout",
     "output_type": "stream",
     "text": [
      "MC: 2>> Time: 13\n",
      "MC: 2>> Time: 14\n",
      "MC: 2>> Time: 15\n",
      "MC: 2>> Time: 16\n"
     ]
    },
    {
     "data": {
      "text/plain": [
       "\">>>>>> iteration 1:O\""
      ]
     },
     "metadata": {},
     "output_type": "display_data"
    },
    {
     "data": {
      "text/plain": [
       "\">>>>>> iteration 2:O\""
      ]
     },
     "metadata": {},
     "output_type": "display_data"
    },
    {
     "data": {
      "text/plain": [
       "\">>>>>> iteration 3:O\""
      ]
     },
     "metadata": {},
     "output_type": "display_data"
    },
    {
     "data": {
      "text/plain": [
       "\">>>>>> iteration 4:O\""
      ]
     },
     "metadata": {},
     "output_type": "display_data"
    },
    {
     "data": {
      "text/plain": [
       "\">>>>>> iteration 5:O\""
      ]
     },
     "metadata": {},
     "output_type": "display_data"
    },
    {
     "data": {
      "text/plain": [
       "\">>>>>> iteration 6:O\""
      ]
     },
     "metadata": {},
     "output_type": "display_data"
    },
    {
     "data": {
      "text/plain": [
       "\">>>>>> iteration 7:O\""
      ]
     },
     "metadata": {},
     "output_type": "display_data"
    },
    {
     "data": {
      "text/plain": [
       "\">>>>>> iteration 8:O\""
      ]
     },
     "metadata": {},
     "output_type": "display_data"
    },
    {
     "data": {
      "text/plain": [
       "\">>>>>> iteration 9:O\""
      ]
     },
     "metadata": {},
     "output_type": "display_data"
    },
    {
     "data": {
      "text/plain": [
       "\">>>>>> iteration 10:O\""
      ]
     },
     "metadata": {},
     "output_type": "display_data"
    },
    {
     "data": {
      "text/plain": [
       "\">>>>>> iteration 11:O\""
      ]
     },
     "metadata": {},
     "output_type": "display_data"
    },
    {
     "data": {
      "text/plain": [
       "\">>>>>> iteration 12:O\""
      ]
     },
     "metadata": {},
     "output_type": "display_data"
    },
    {
     "data": {
      "text/plain": [
       "\">>>>>> iteration 13:O\""
      ]
     },
     "metadata": {},
     "output_type": "display_data"
    },
    {
     "data": {
      "text/plain": [
       "\">>>>>> iteration 14:O\""
      ]
     },
     "metadata": {},
     "output_type": "display_data"
    },
    {
     "data": {
      "text/plain": [
       "\">>>>>> iteration 15:O\""
      ]
     },
     "metadata": {},
     "output_type": "display_data"
    },
    {
     "data": {
      "text/plain": [
       "\">>>>>> iteration 16:O\""
      ]
     },
     "metadata": {},
     "output_type": "display_data"
    },
    {
     "data": {
      "text/plain": [
       "\">>>>>> iteration 17:F\""
      ]
     },
     "metadata": {},
     "output_type": "display_data"
    },
    {
     "data": {
      "text/plain": [
       "\">>>>>> iteration 18:O\""
      ]
     },
     "metadata": {},
     "output_type": "display_data"
    },
    {
     "data": {
      "text/plain": [
       "\">>>>>> iteration 19:O\""
      ]
     },
     "metadata": {},
     "output_type": "display_data"
    },
    {
     "data": {
      "text/plain": [
       "\">>>>>> iteration 20:O\""
      ]
     },
     "metadata": {},
     "output_type": "display_data"
    },
    {
     "data": {
      "text/plain": [
       "\">>>>>> iteration 21:O\""
      ]
     },
     "metadata": {},
     "output_type": "display_data"
    },
    {
     "data": {
      "text/plain": [
       "\">>>>>> iteration 22:O\""
      ]
     },
     "metadata": {},
     "output_type": "display_data"
    },
    {
     "data": {
      "text/plain": [
       "\">>>>>> iteration 23:O\""
      ]
     },
     "metadata": {},
     "output_type": "display_data"
    },
    {
     "name": "stdout",
     "output_type": "stream",
     "text": [
      "MC: 2>> Time: 17\n",
      "MC: 2>> Time: 18\n",
      "MC: 2>> Time: 19\n",
      "MC: 2>> Time: 20\n"
     ]
    },
    {
     "data": {
      "text/plain": [
       "\">>>>>> iteration 1:O\""
      ]
     },
     "metadata": {},
     "output_type": "display_data"
    },
    {
     "data": {
      "text/plain": [
       "\">>>>>> iteration 2:O\""
      ]
     },
     "metadata": {},
     "output_type": "display_data"
    },
    {
     "data": {
      "text/plain": [
       "\">>>>>> iteration 3:O\""
      ]
     },
     "metadata": {},
     "output_type": "display_data"
    },
    {
     "data": {
      "text/plain": [
       "\">>>>>> iteration 4:O\""
      ]
     },
     "metadata": {},
     "output_type": "display_data"
    },
    {
     "data": {
      "text/plain": [
       "\">>>>>> iteration 5:O\""
      ]
     },
     "metadata": {},
     "output_type": "display_data"
    },
    {
     "data": {
      "text/plain": [
       "\">>>>>> iteration 6:O\""
      ]
     },
     "metadata": {},
     "output_type": "display_data"
    },
    {
     "data": {
      "text/plain": [
       "\">>>>>> iteration 7:O\""
      ]
     },
     "metadata": {},
     "output_type": "display_data"
    },
    {
     "data": {
      "text/plain": [
       "\">>>>>> iteration 8:O\""
      ]
     },
     "metadata": {},
     "output_type": "display_data"
    },
    {
     "data": {
      "text/plain": [
       "\">>>>>> iteration 9:O\""
      ]
     },
     "metadata": {},
     "output_type": "display_data"
    },
    {
     "data": {
      "text/plain": [
       "\">>>>>> iteration 10:O\""
      ]
     },
     "metadata": {},
     "output_type": "display_data"
    },
    {
     "data": {
      "text/plain": [
       "\">>>>>> iteration 11:O\""
      ]
     },
     "metadata": {},
     "output_type": "display_data"
    },
    {
     "data": {
      "text/plain": [
       "\">>>>>> iteration 12:O\""
      ]
     },
     "metadata": {},
     "output_type": "display_data"
    },
    {
     "data": {
      "text/plain": [
       "\">>>>>> iteration 13:O\""
      ]
     },
     "metadata": {},
     "output_type": "display_data"
    },
    {
     "data": {
      "text/plain": [
       "\">>>>>> iteration 14:O\""
      ]
     },
     "metadata": {},
     "output_type": "display_data"
    },
    {
     "data": {
      "text/plain": [
       "\">>>>>> iteration 15:O\""
      ]
     },
     "metadata": {},
     "output_type": "display_data"
    },
    {
     "data": {
      "text/plain": [
       "\">>>>>> iteration 16:F\""
      ]
     },
     "metadata": {},
     "output_type": "display_data"
    },
    {
     "data": {
      "text/plain": [
       "\">>>>>> iteration 17:O\""
      ]
     },
     "metadata": {},
     "output_type": "display_data"
    },
    {
     "data": {
      "text/plain": [
       "\">>>>>> iteration 18:O\""
      ]
     },
     "metadata": {},
     "output_type": "display_data"
    },
    {
     "data": {
      "text/plain": [
       "\">>>>>> iteration 19:O\""
      ]
     },
     "metadata": {},
     "output_type": "display_data"
    },
    {
     "data": {
      "text/plain": [
       "\">>>>>> iteration 20:O\""
      ]
     },
     "metadata": {},
     "output_type": "display_data"
    },
    {
     "data": {
      "text/plain": [
       "\">>>>>> iteration 21:O\""
      ]
     },
     "metadata": {},
     "output_type": "display_data"
    },
    {
     "data": {
      "text/plain": [
       "\">>>>>> iteration 22:O\""
      ]
     },
     "metadata": {},
     "output_type": "display_data"
    },
    {
     "data": {
      "text/plain": [
       "\">>>>>> iteration 23:O\""
      ]
     },
     "metadata": {},
     "output_type": "display_data"
    },
    {
     "name": "stdout",
     "output_type": "stream",
     "text": [
      "MC: 3>> Time: 1\n",
      "MC: 3>> Time: 2\n",
      "MC: 3>> Time: 3\n",
      "MC: 3>> Time: 4\n",
      "MC: 3>> Time: 5\n",
      "MC: 3>> Time: 6\n",
      "MC: 3>> Time: 7\n",
      "MC: 3>> Time: 8\n",
      "MC: 3>> Time: 9\n",
      "MC: 3>> Time: 10\n",
      "MC: 3>> Time: 11\n",
      "MC: 3>> Time: 12\n",
      "MC: 3>> Time: 13\n",
      "MC: 3>> Time: 14\n",
      "MC: 3>> Time: 15\n",
      "MC: 3>> Time: 16\n",
      "MC: 3>> Time: 17\n",
      "MC: 3>> Time: 18\n",
      "MC: 3>> Time: 19\n",
      "MC: 3>> Time: 20\n",
      "MC: 3>> Time: 1\n"
     ]
    },
    {
     "data": {
      "text/plain": [
       "\">>>>>> iteration 1:O\""
      ]
     },
     "metadata": {},
     "output_type": "display_data"
    },
    {
     "data": {
      "text/plain": [
       "\">>>>>> iteration 2:O\""
      ]
     },
     "metadata": {},
     "output_type": "display_data"
    },
    {
     "data": {
      "text/plain": [
       "\">>>>>> iteration 3:O\""
      ]
     },
     "metadata": {},
     "output_type": "display_data"
    },
    {
     "data": {
      "text/plain": [
       "\">>>>>> iteration 4:O\""
      ]
     },
     "metadata": {},
     "output_type": "display_data"
    },
    {
     "data": {
      "text/plain": [
       "\">>>>>> iteration 5:O\""
      ]
     },
     "metadata": {},
     "output_type": "display_data"
    },
    {
     "data": {
      "text/plain": [
       "\">>>>>> iteration 6:O\""
      ]
     },
     "metadata": {},
     "output_type": "display_data"
    },
    {
     "data": {
      "text/plain": [
       "\">>>>>> iteration 7:O\""
      ]
     },
     "metadata": {},
     "output_type": "display_data"
    },
    {
     "data": {
      "text/plain": [
       "\">>>>>> iteration 8:O\""
      ]
     },
     "metadata": {},
     "output_type": "display_data"
    },
    {
     "data": {
      "text/plain": [
       "\">>>>>> iteration 9:O\""
      ]
     },
     "metadata": {},
     "output_type": "display_data"
    },
    {
     "data": {
      "text/plain": [
       "\">>>>>> iteration 10:O\""
      ]
     },
     "metadata": {},
     "output_type": "display_data"
    },
    {
     "data": {
      "text/plain": [
       "\">>>>>> iteration 11:O\""
      ]
     },
     "metadata": {},
     "output_type": "display_data"
    },
    {
     "data": {
      "text/plain": [
       "\">>>>>> iteration 12:O\""
      ]
     },
     "metadata": {},
     "output_type": "display_data"
    },
    {
     "data": {
      "text/plain": [
       "\">>>>>> iteration 13:O\""
      ]
     },
     "metadata": {},
     "output_type": "display_data"
    },
    {
     "name": "stdout",
     "output_type": "stream",
     "text": [
      "MC: 3>> Time: 2\n",
      "MC: 3>> Time: 3\n",
      "MC: 3>> Time: 4\n"
     ]
    },
    {
     "data": {
      "text/plain": [
       "\">>>>>> iteration 1:O\""
      ]
     },
     "metadata": {},
     "output_type": "display_data"
    },
    {
     "data": {
      "text/plain": [
       "\">>>>>> iteration 2:O\""
      ]
     },
     "metadata": {},
     "output_type": "display_data"
    },
    {
     "data": {
      "text/plain": [
       "\">>>>>> iteration 3:O\""
      ]
     },
     "metadata": {},
     "output_type": "display_data"
    },
    {
     "data": {
      "text/plain": [
       "\">>>>>> iteration 4:O\""
      ]
     },
     "metadata": {},
     "output_type": "display_data"
    },
    {
     "data": {
      "text/plain": [
       "\">>>>>> iteration 5:O\""
      ]
     },
     "metadata": {},
     "output_type": "display_data"
    },
    {
     "data": {
      "text/plain": [
       "\">>>>>> iteration 6:O\""
      ]
     },
     "metadata": {},
     "output_type": "display_data"
    },
    {
     "data": {
      "text/plain": [
       "\">>>>>> iteration 7:O\""
      ]
     },
     "metadata": {},
     "output_type": "display_data"
    },
    {
     "data": {
      "text/plain": [
       "\">>>>>> iteration 8:O\""
      ]
     },
     "metadata": {},
     "output_type": "display_data"
    },
    {
     "data": {
      "text/plain": [
       "\">>>>>> iteration 9:O\""
      ]
     },
     "metadata": {},
     "output_type": "display_data"
    },
    {
     "data": {
      "text/plain": [
       "\">>>>>> iteration 10:O\""
      ]
     },
     "metadata": {},
     "output_type": "display_data"
    },
    {
     "data": {
      "text/plain": [
       "\">>>>>> iteration 11:O\""
      ]
     },
     "metadata": {},
     "output_type": "display_data"
    },
    {
     "data": {
      "text/plain": [
       "\">>>>>> iteration 12:O\""
      ]
     },
     "metadata": {},
     "output_type": "display_data"
    },
    {
     "data": {
      "text/plain": [
       "\">>>>>> iteration 13:O\""
      ]
     },
     "metadata": {},
     "output_type": "display_data"
    },
    {
     "data": {
      "text/plain": [
       "\">>>>>> iteration 14:O\""
      ]
     },
     "metadata": {},
     "output_type": "display_data"
    },
    {
     "data": {
      "text/plain": [
       "\">>>>>> iteration 15:F\""
      ]
     },
     "metadata": {},
     "output_type": "display_data"
    },
    {
     "data": {
      "text/plain": [
       "\">>>>>> iteration 16:O\""
      ]
     },
     "metadata": {},
     "output_type": "display_data"
    },
    {
     "data": {
      "text/plain": [
       "\">>>>>> iteration 17:O\""
      ]
     },
     "metadata": {},
     "output_type": "display_data"
    },
    {
     "data": {
      "text/plain": [
       "\">>>>>> iteration 18:O\""
      ]
     },
     "metadata": {},
     "output_type": "display_data"
    },
    {
     "data": {
      "text/plain": [
       "\">>>>>> iteration 19:O\""
      ]
     },
     "metadata": {},
     "output_type": "display_data"
    },
    {
     "data": {
      "text/plain": [
       "\">>>>>> iteration 20:O\""
      ]
     },
     "metadata": {},
     "output_type": "display_data"
    },
    {
     "name": "stdout",
     "output_type": "stream",
     "text": [
      "MC: 3>> Time: 5\n",
      "MC: 3>> Time: 6\n",
      "MC: 3>> Time: 7\n",
      "MC: 3>> Time: 8\n"
     ]
    },
    {
     "data": {
      "text/plain": [
       "\">>>>>> iteration 1:O\""
      ]
     },
     "metadata": {},
     "output_type": "display_data"
    },
    {
     "data": {
      "text/plain": [
       "\">>>>>> iteration 2:O\""
      ]
     },
     "metadata": {},
     "output_type": "display_data"
    },
    {
     "data": {
      "text/plain": [
       "\">>>>>> iteration 3:O\""
      ]
     },
     "metadata": {},
     "output_type": "display_data"
    },
    {
     "data": {
      "text/plain": [
       "\">>>>>> iteration 4:O\""
      ]
     },
     "metadata": {},
     "output_type": "display_data"
    },
    {
     "data": {
      "text/plain": [
       "\">>>>>> iteration 5:O\""
      ]
     },
     "metadata": {},
     "output_type": "display_data"
    },
    {
     "data": {
      "text/plain": [
       "\">>>>>> iteration 6:O\""
      ]
     },
     "metadata": {},
     "output_type": "display_data"
    },
    {
     "data": {
      "text/plain": [
       "\">>>>>> iteration 7:O\""
      ]
     },
     "metadata": {},
     "output_type": "display_data"
    },
    {
     "data": {
      "text/plain": [
       "\">>>>>> iteration 8:O\""
      ]
     },
     "metadata": {},
     "output_type": "display_data"
    },
    {
     "data": {
      "text/plain": [
       "\">>>>>> iteration 9:O\""
      ]
     },
     "metadata": {},
     "output_type": "display_data"
    },
    {
     "data": {
      "text/plain": [
       "\">>>>>> iteration 10:O\""
      ]
     },
     "metadata": {},
     "output_type": "display_data"
    },
    {
     "data": {
      "text/plain": [
       "\">>>>>> iteration 11:O\""
      ]
     },
     "metadata": {},
     "output_type": "display_data"
    },
    {
     "data": {
      "text/plain": [
       "\">>>>>> iteration 12:O\""
      ]
     },
     "metadata": {},
     "output_type": "display_data"
    },
    {
     "data": {
      "text/plain": [
       "\">>>>>> iteration 13:F\""
      ]
     },
     "metadata": {},
     "output_type": "display_data"
    },
    {
     "data": {
      "text/plain": [
       "\">>>>>> iteration 14:O\""
      ]
     },
     "metadata": {},
     "output_type": "display_data"
    },
    {
     "data": {
      "text/plain": [
       "\">>>>>> iteration 15:O\""
      ]
     },
     "metadata": {},
     "output_type": "display_data"
    },
    {
     "data": {
      "text/plain": [
       "\">>>>>> iteration 16:O\""
      ]
     },
     "metadata": {},
     "output_type": "display_data"
    },
    {
     "data": {
      "text/plain": [
       "\">>>>>> iteration 17:O\""
      ]
     },
     "metadata": {},
     "output_type": "display_data"
    },
    {
     "data": {
      "text/plain": [
       "\">>>>>> iteration 18:O\""
      ]
     },
     "metadata": {},
     "output_type": "display_data"
    },
    {
     "data": {
      "text/plain": [
       "\">>>>>> iteration 19:O\""
      ]
     },
     "metadata": {},
     "output_type": "display_data"
    },
    {
     "data": {
      "text/plain": [
       "\">>>>>> iteration 20:O\""
      ]
     },
     "metadata": {},
     "output_type": "display_data"
    },
    {
     "data": {
      "text/plain": [
       "\">>>>>> iteration 21:O\""
      ]
     },
     "metadata": {},
     "output_type": "display_data"
    },
    {
     "data": {
      "text/plain": [
       "\">>>>>> iteration 22:O\""
      ]
     },
     "metadata": {},
     "output_type": "display_data"
    },
    {
     "data": {
      "text/plain": [
       "\">>>>>> iteration 23:O\""
      ]
     },
     "metadata": {},
     "output_type": "display_data"
    },
    {
     "data": {
      "text/plain": [
       "\">>>>>> iteration 24:O\""
      ]
     },
     "metadata": {},
     "output_type": "display_data"
    },
    {
     "data": {
      "text/plain": [
       "\">>>>>> iteration 25:O\""
      ]
     },
     "metadata": {},
     "output_type": "display_data"
    },
    {
     "name": "stdout",
     "output_type": "stream",
     "text": [
      "MC: 3>> Time: 9\n",
      "MC: 3>> Time: 10\n",
      "MC: 3>> Time: 11\n",
      "MC: 3>> Time: 12\n"
     ]
    },
    {
     "data": {
      "text/plain": [
       "\">>>>>> iteration 1:O\""
      ]
     },
     "metadata": {},
     "output_type": "display_data"
    },
    {
     "data": {
      "text/plain": [
       "\">>>>>> iteration 2:O\""
      ]
     },
     "metadata": {},
     "output_type": "display_data"
    },
    {
     "data": {
      "text/plain": [
       "\">>>>>> iteration 3:O\""
      ]
     },
     "metadata": {},
     "output_type": "display_data"
    },
    {
     "data": {
      "text/plain": [
       "\">>>>>> iteration 4:O\""
      ]
     },
     "metadata": {},
     "output_type": "display_data"
    },
    {
     "data": {
      "text/plain": [
       "\">>>>>> iteration 5:O\""
      ]
     },
     "metadata": {},
     "output_type": "display_data"
    },
    {
     "data": {
      "text/plain": [
       "\">>>>>> iteration 6:O\""
      ]
     },
     "metadata": {},
     "output_type": "display_data"
    },
    {
     "data": {
      "text/plain": [
       "\">>>>>> iteration 7:O\""
      ]
     },
     "metadata": {},
     "output_type": "display_data"
    },
    {
     "data": {
      "text/plain": [
       "\">>>>>> iteration 8:O\""
      ]
     },
     "metadata": {},
     "output_type": "display_data"
    },
    {
     "data": {
      "text/plain": [
       "\">>>>>> iteration 9:O\""
      ]
     },
     "metadata": {},
     "output_type": "display_data"
    },
    {
     "data": {
      "text/plain": [
       "\">>>>>> iteration 10:O\""
      ]
     },
     "metadata": {},
     "output_type": "display_data"
    },
    {
     "data": {
      "text/plain": [
       "\">>>>>> iteration 11:O\""
      ]
     },
     "metadata": {},
     "output_type": "display_data"
    },
    {
     "data": {
      "text/plain": [
       "\">>>>>> iteration 12:F\""
      ]
     },
     "metadata": {},
     "output_type": "display_data"
    },
    {
     "data": {
      "text/plain": [
       "\">>>>>> iteration 13:O\""
      ]
     },
     "metadata": {},
     "output_type": "display_data"
    },
    {
     "data": {
      "text/plain": [
       "\">>>>>> iteration 14:O\""
      ]
     },
     "metadata": {},
     "output_type": "display_data"
    },
    {
     "data": {
      "text/plain": [
       "\">>>>>> iteration 15:O\""
      ]
     },
     "metadata": {},
     "output_type": "display_data"
    },
    {
     "data": {
      "text/plain": [
       "\">>>>>> iteration 16:O\""
      ]
     },
     "metadata": {},
     "output_type": "display_data"
    },
    {
     "data": {
      "text/plain": [
       "\">>>>>> iteration 17:O\""
      ]
     },
     "metadata": {},
     "output_type": "display_data"
    },
    {
     "data": {
      "text/plain": [
       "\">>>>>> iteration 18:O\""
      ]
     },
     "metadata": {},
     "output_type": "display_data"
    },
    {
     "data": {
      "text/plain": [
       "\">>>>>> iteration 19:O\""
      ]
     },
     "metadata": {},
     "output_type": "display_data"
    },
    {
     "data": {
      "text/plain": [
       "\">>>>>> iteration 20:O\""
      ]
     },
     "metadata": {},
     "output_type": "display_data"
    },
    {
     "name": "stdout",
     "output_type": "stream",
     "text": [
      "MC: 3>> Time: 13\n",
      "MC: 3>> Time: 14\n",
      "MC: 3>> Time: 15\n",
      "MC: 3>> Time: 16\n"
     ]
    },
    {
     "data": {
      "text/plain": [
       "\">>>>>> iteration 1:O\""
      ]
     },
     "metadata": {},
     "output_type": "display_data"
    },
    {
     "data": {
      "text/plain": [
       "\">>>>>> iteration 2:O\""
      ]
     },
     "metadata": {},
     "output_type": "display_data"
    },
    {
     "data": {
      "text/plain": [
       "\">>>>>> iteration 3:O\""
      ]
     },
     "metadata": {},
     "output_type": "display_data"
    },
    {
     "data": {
      "text/plain": [
       "\">>>>>> iteration 4:O\""
      ]
     },
     "metadata": {},
     "output_type": "display_data"
    },
    {
     "data": {
      "text/plain": [
       "\">>>>>> iteration 5:O\""
      ]
     },
     "metadata": {},
     "output_type": "display_data"
    },
    {
     "data": {
      "text/plain": [
       "\">>>>>> iteration 6:O\""
      ]
     },
     "metadata": {},
     "output_type": "display_data"
    },
    {
     "data": {
      "text/plain": [
       "\">>>>>> iteration 7:O\""
      ]
     },
     "metadata": {},
     "output_type": "display_data"
    },
    {
     "data": {
      "text/plain": [
       "\">>>>>> iteration 8:O\""
      ]
     },
     "metadata": {},
     "output_type": "display_data"
    },
    {
     "data": {
      "text/plain": [
       "\">>>>>> iteration 9:O\""
      ]
     },
     "metadata": {},
     "output_type": "display_data"
    },
    {
     "data": {
      "text/plain": [
       "\">>>>>> iteration 10:O\""
      ]
     },
     "metadata": {},
     "output_type": "display_data"
    },
    {
     "data": {
      "text/plain": [
       "\">>>>>> iteration 11:O\""
      ]
     },
     "metadata": {},
     "output_type": "display_data"
    },
    {
     "data": {
      "text/plain": [
       "\">>>>>> iteration 12:O\""
      ]
     },
     "metadata": {},
     "output_type": "display_data"
    },
    {
     "data": {
      "text/plain": [
       "\">>>>>> iteration 13:O\""
      ]
     },
     "metadata": {},
     "output_type": "display_data"
    },
    {
     "data": {
      "text/plain": [
       "\">>>>>> iteration 14:O\""
      ]
     },
     "metadata": {},
     "output_type": "display_data"
    },
    {
     "data": {
      "text/plain": [
       "\">>>>>> iteration 15:F\""
      ]
     },
     "metadata": {},
     "output_type": "display_data"
    },
    {
     "data": {
      "text/plain": [
       "\">>>>>> iteration 16:O\""
      ]
     },
     "metadata": {},
     "output_type": "display_data"
    },
    {
     "data": {
      "text/plain": [
       "\">>>>>> iteration 17:O\""
      ]
     },
     "metadata": {},
     "output_type": "display_data"
    },
    {
     "data": {
      "text/plain": [
       "\">>>>>> iteration 18:O\""
      ]
     },
     "metadata": {},
     "output_type": "display_data"
    },
    {
     "data": {
      "text/plain": [
       "\">>>>>> iteration 19:O\""
      ]
     },
     "metadata": {},
     "output_type": "display_data"
    },
    {
     "data": {
      "text/plain": [
       "\">>>>>> iteration 20:O\""
      ]
     },
     "metadata": {},
     "output_type": "display_data"
    },
    {
     "name": "stdout",
     "output_type": "stream",
     "text": [
      "MC: 3>> Time: 17\n",
      "MC: 3>> Time: 18\n",
      "MC: 3>> Time: 19\n",
      "MC: 3>> Time: 20\n"
     ]
    },
    {
     "data": {
      "text/plain": [
       "\">>>>>> iteration 1:O\""
      ]
     },
     "metadata": {},
     "output_type": "display_data"
    },
    {
     "data": {
      "text/plain": [
       "\">>>>>> iteration 2:O\""
      ]
     },
     "metadata": {},
     "output_type": "display_data"
    },
    {
     "data": {
      "text/plain": [
       "\">>>>>> iteration 3:O\""
      ]
     },
     "metadata": {},
     "output_type": "display_data"
    },
    {
     "data": {
      "text/plain": [
       "\">>>>>> iteration 4:O\""
      ]
     },
     "metadata": {},
     "output_type": "display_data"
    },
    {
     "data": {
      "text/plain": [
       "\">>>>>> iteration 5:O\""
      ]
     },
     "metadata": {},
     "output_type": "display_data"
    },
    {
     "data": {
      "text/plain": [
       "\">>>>>> iteration 6:O\""
      ]
     },
     "metadata": {},
     "output_type": "display_data"
    },
    {
     "data": {
      "text/plain": [
       "\">>>>>> iteration 7:O\""
      ]
     },
     "metadata": {},
     "output_type": "display_data"
    },
    {
     "data": {
      "text/plain": [
       "\">>>>>> iteration 8:O\""
      ]
     },
     "metadata": {},
     "output_type": "display_data"
    },
    {
     "data": {
      "text/plain": [
       "\">>>>>> iteration 9:O\""
      ]
     },
     "metadata": {},
     "output_type": "display_data"
    },
    {
     "data": {
      "text/plain": [
       "\">>>>>> iteration 10:O\""
      ]
     },
     "metadata": {},
     "output_type": "display_data"
    },
    {
     "data": {
      "text/plain": [
       "\">>>>>> iteration 11:F\""
      ]
     },
     "metadata": {},
     "output_type": "display_data"
    },
    {
     "data": {
      "text/plain": [
       "\">>>>>> iteration 12:O\""
      ]
     },
     "metadata": {},
     "output_type": "display_data"
    },
    {
     "data": {
      "text/plain": [
       "\">>>>>> iteration 13:O\""
      ]
     },
     "metadata": {},
     "output_type": "display_data"
    },
    {
     "data": {
      "text/plain": [
       "\">>>>>> iteration 14:O\""
      ]
     },
     "metadata": {},
     "output_type": "display_data"
    },
    {
     "data": {
      "text/plain": [
       "\">>>>>> iteration 15:O\""
      ]
     },
     "metadata": {},
     "output_type": "display_data"
    },
    {
     "data": {
      "text/plain": [
       "\">>>>>> iteration 16:O\""
      ]
     },
     "metadata": {},
     "output_type": "display_data"
    },
    {
     "data": {
      "text/plain": [
       "\">>>>>> iteration 17:O\""
      ]
     },
     "metadata": {},
     "output_type": "display_data"
    },
    {
     "data": {
      "text/plain": [
       "\">>>>>> iteration 18:O\""
      ]
     },
     "metadata": {},
     "output_type": "display_data"
    },
    {
     "data": {
      "text/plain": [
       "\">>>>>> iteration 19:O\""
      ]
     },
     "metadata": {},
     "output_type": "display_data"
    },
    {
     "data": {
      "text/plain": [
       "\">>>>>> iteration 20:O\""
      ]
     },
     "metadata": {},
     "output_type": "display_data"
    },
    {
     "data": {
      "text/plain": [
       "\">>>>>> iteration 21:O\""
      ]
     },
     "metadata": {},
     "output_type": "display_data"
    },
    {
     "data": {
      "text/plain": [
       "\">>>>>> iteration 22:O\""
      ]
     },
     "metadata": {},
     "output_type": "display_data"
    },
    {
     "name": "stdout",
     "output_type": "stream",
     "text": [
      "MC: 4>> Time: 1\n",
      "MC: 4>> Time: 2\n",
      "MC: 4>> Time: 3\n",
      "MC: 4>> Time: 4\n",
      "MC: 4>> Time: 5\n",
      "MC: 4>> Time: 6\n",
      "MC: 4>> Time: 7\n",
      "MC: 4>> Time: 8\n",
      "MC: 4>> Time: 9\n",
      "MC: 4>> Time: 10\n",
      "MC: 4>> Time: 11\n",
      "MC: 4>> Time: 12\n",
      "MC: 4>> Time: 13\n",
      "MC: 4>> Time: 14\n",
      "MC: 4>> Time: 15\n",
      "MC: 4>> Time: 16\n",
      "MC: 4>> Time: 17\n",
      "MC: 4>> Time: 18\n",
      "MC: 4>> Time: 19\n",
      "MC: 4>> Time: 20\n",
      "MC: 4>> Time: 1\n"
     ]
    },
    {
     "data": {
      "text/plain": [
       "\">>>>>> iteration 1:O\""
      ]
     },
     "metadata": {},
     "output_type": "display_data"
    },
    {
     "data": {
      "text/plain": [
       "\">>>>>> iteration 2:O\""
      ]
     },
     "metadata": {},
     "output_type": "display_data"
    },
    {
     "data": {
      "text/plain": [
       "\">>>>>> iteration 3:O\""
      ]
     },
     "metadata": {},
     "output_type": "display_data"
    },
    {
     "data": {
      "text/plain": [
       "\">>>>>> iteration 4:O\""
      ]
     },
     "metadata": {},
     "output_type": "display_data"
    },
    {
     "data": {
      "text/plain": [
       "\">>>>>> iteration 5:O\""
      ]
     },
     "metadata": {},
     "output_type": "display_data"
    },
    {
     "data": {
      "text/plain": [
       "\">>>>>> iteration 6:O\""
      ]
     },
     "metadata": {},
     "output_type": "display_data"
    },
    {
     "data": {
      "text/plain": [
       "\">>>>>> iteration 7:O\""
      ]
     },
     "metadata": {},
     "output_type": "display_data"
    },
    {
     "data": {
      "text/plain": [
       "\">>>>>> iteration 8:O\""
      ]
     },
     "metadata": {},
     "output_type": "display_data"
    },
    {
     "data": {
      "text/plain": [
       "\">>>>>> iteration 9:O\""
      ]
     },
     "metadata": {},
     "output_type": "display_data"
    },
    {
     "data": {
      "text/plain": [
       "\">>>>>> iteration 10:O\""
      ]
     },
     "metadata": {},
     "output_type": "display_data"
    },
    {
     "data": {
      "text/plain": [
       "\">>>>>> iteration 11:O\""
      ]
     },
     "metadata": {},
     "output_type": "display_data"
    },
    {
     "data": {
      "text/plain": [
       "\">>>>>> iteration 12:O\""
      ]
     },
     "metadata": {},
     "output_type": "display_data"
    },
    {
     "data": {
      "text/plain": [
       "\">>>>>> iteration 13:O\""
      ]
     },
     "metadata": {},
     "output_type": "display_data"
    },
    {
     "name": "stdout",
     "output_type": "stream",
     "text": [
      "MC: 4>> Time: 2\n",
      "MC: 4>> Time: 3\n",
      "MC: 4>> Time: 4\n"
     ]
    },
    {
     "data": {
      "text/plain": [
       "\">>>>>> iteration 1:O\""
      ]
     },
     "metadata": {},
     "output_type": "display_data"
    },
    {
     "data": {
      "text/plain": [
       "\">>>>>> iteration 2:O\""
      ]
     },
     "metadata": {},
     "output_type": "display_data"
    },
    {
     "data": {
      "text/plain": [
       "\">>>>>> iteration 3:O\""
      ]
     },
     "metadata": {},
     "output_type": "display_data"
    },
    {
     "data": {
      "text/plain": [
       "\">>>>>> iteration 4:O\""
      ]
     },
     "metadata": {},
     "output_type": "display_data"
    },
    {
     "data": {
      "text/plain": [
       "\">>>>>> iteration 5:O\""
      ]
     },
     "metadata": {},
     "output_type": "display_data"
    },
    {
     "data": {
      "text/plain": [
       "\">>>>>> iteration 6:O\""
      ]
     },
     "metadata": {},
     "output_type": "display_data"
    },
    {
     "data": {
      "text/plain": [
       "\">>>>>> iteration 7:O\""
      ]
     },
     "metadata": {},
     "output_type": "display_data"
    },
    {
     "data": {
      "text/plain": [
       "\">>>>>> iteration 8:O\""
      ]
     },
     "metadata": {},
     "output_type": "display_data"
    },
    {
     "data": {
      "text/plain": [
       "\">>>>>> iteration 9:O\""
      ]
     },
     "metadata": {},
     "output_type": "display_data"
    },
    {
     "data": {
      "text/plain": [
       "\">>>>>> iteration 10:O\""
      ]
     },
     "metadata": {},
     "output_type": "display_data"
    },
    {
     "data": {
      "text/plain": [
       "\">>>>>> iteration 11:O\""
      ]
     },
     "metadata": {},
     "output_type": "display_data"
    },
    {
     "data": {
      "text/plain": [
       "\">>>>>> iteration 12:F\""
      ]
     },
     "metadata": {},
     "output_type": "display_data"
    },
    {
     "data": {
      "text/plain": [
       "\">>>>>> iteration 13:O\""
      ]
     },
     "metadata": {},
     "output_type": "display_data"
    },
    {
     "data": {
      "text/plain": [
       "\">>>>>> iteration 14:O\""
      ]
     },
     "metadata": {},
     "output_type": "display_data"
    },
    {
     "data": {
      "text/plain": [
       "\">>>>>> iteration 15:O\""
      ]
     },
     "metadata": {},
     "output_type": "display_data"
    },
    {
     "data": {
      "text/plain": [
       "\">>>>>> iteration 16:O\""
      ]
     },
     "metadata": {},
     "output_type": "display_data"
    },
    {
     "data": {
      "text/plain": [
       "\">>>>>> iteration 17:O\""
      ]
     },
     "metadata": {},
     "output_type": "display_data"
    },
    {
     "name": "stdout",
     "output_type": "stream",
     "text": [
      "MC: 4>> Time: 5\n",
      "MC: 4>> Time: 6\n",
      "MC: 4>> Time: 7\n",
      "MC: 4>> Time: 8\n"
     ]
    },
    {
     "data": {
      "text/plain": [
       "\">>>>>> iteration 1:O\""
      ]
     },
     "metadata": {},
     "output_type": "display_data"
    },
    {
     "data": {
      "text/plain": [
       "\">>>>>> iteration 2:O\""
      ]
     },
     "metadata": {},
     "output_type": "display_data"
    },
    {
     "data": {
      "text/plain": [
       "\">>>>>> iteration 3:O\""
      ]
     },
     "metadata": {},
     "output_type": "display_data"
    },
    {
     "data": {
      "text/plain": [
       "\">>>>>> iteration 4:O\""
      ]
     },
     "metadata": {},
     "output_type": "display_data"
    },
    {
     "data": {
      "text/plain": [
       "\">>>>>> iteration 5:O\""
      ]
     },
     "metadata": {},
     "output_type": "display_data"
    },
    {
     "data": {
      "text/plain": [
       "\">>>>>> iteration 6:O\""
      ]
     },
     "metadata": {},
     "output_type": "display_data"
    },
    {
     "data": {
      "text/plain": [
       "\">>>>>> iteration 7:O\""
      ]
     },
     "metadata": {},
     "output_type": "display_data"
    },
    {
     "data": {
      "text/plain": [
       "\">>>>>> iteration 8:O\""
      ]
     },
     "metadata": {},
     "output_type": "display_data"
    },
    {
     "data": {
      "text/plain": [
       "\">>>>>> iteration 9:O\""
      ]
     },
     "metadata": {},
     "output_type": "display_data"
    },
    {
     "data": {
      "text/plain": [
       "\">>>>>> iteration 10:O\""
      ]
     },
     "metadata": {},
     "output_type": "display_data"
    },
    {
     "data": {
      "text/plain": [
       "\">>>>>> iteration 11:O\""
      ]
     },
     "metadata": {},
     "output_type": "display_data"
    },
    {
     "data": {
      "text/plain": [
       "\">>>>>> iteration 12:O\""
      ]
     },
     "metadata": {},
     "output_type": "display_data"
    },
    {
     "data": {
      "text/plain": [
       "\">>>>>> iteration 13:O\""
      ]
     },
     "metadata": {},
     "output_type": "display_data"
    },
    {
     "data": {
      "text/plain": [
       "\">>>>>> iteration 14:O\""
      ]
     },
     "metadata": {},
     "output_type": "display_data"
    },
    {
     "data": {
      "text/plain": [
       "\">>>>>> iteration 15:F\""
      ]
     },
     "metadata": {},
     "output_type": "display_data"
    },
    {
     "data": {
      "text/plain": [
       "\">>>>>> iteration 16:O\""
      ]
     },
     "metadata": {},
     "output_type": "display_data"
    },
    {
     "data": {
      "text/plain": [
       "\">>>>>> iteration 17:O\""
      ]
     },
     "metadata": {},
     "output_type": "display_data"
    },
    {
     "data": {
      "text/plain": [
       "\">>>>>> iteration 18:O\""
      ]
     },
     "metadata": {},
     "output_type": "display_data"
    },
    {
     "data": {
      "text/plain": [
       "\">>>>>> iteration 19:O\""
      ]
     },
     "metadata": {},
     "output_type": "display_data"
    },
    {
     "data": {
      "text/plain": [
       "\">>>>>> iteration 20:O\""
      ]
     },
     "metadata": {},
     "output_type": "display_data"
    },
    {
     "data": {
      "text/plain": [
       "\">>>>>> iteration 21:O\""
      ]
     },
     "metadata": {},
     "output_type": "display_data"
    },
    {
     "name": "stdout",
     "output_type": "stream",
     "text": [
      "MC: 4>> Time: 9\n",
      "MC: 4>> Time: 10\n",
      "MC: 4>> Time: 11\n",
      "MC: 4>> Time: 12\n"
     ]
    },
    {
     "data": {
      "text/plain": [
       "\">>>>>> iteration 1:O\""
      ]
     },
     "metadata": {},
     "output_type": "display_data"
    },
    {
     "data": {
      "text/plain": [
       "\">>>>>> iteration 2:O\""
      ]
     },
     "metadata": {},
     "output_type": "display_data"
    },
    {
     "data": {
      "text/plain": [
       "\">>>>>> iteration 3:O\""
      ]
     },
     "metadata": {},
     "output_type": "display_data"
    },
    {
     "data": {
      "text/plain": [
       "\">>>>>> iteration 4:O\""
      ]
     },
     "metadata": {},
     "output_type": "display_data"
    },
    {
     "data": {
      "text/plain": [
       "\">>>>>> iteration 5:O\""
      ]
     },
     "metadata": {},
     "output_type": "display_data"
    },
    {
     "data": {
      "text/plain": [
       "\">>>>>> iteration 6:O\""
      ]
     },
     "metadata": {},
     "output_type": "display_data"
    },
    {
     "data": {
      "text/plain": [
       "\">>>>>> iteration 7:O\""
      ]
     },
     "metadata": {},
     "output_type": "display_data"
    },
    {
     "data": {
      "text/plain": [
       "\">>>>>> iteration 8:O\""
      ]
     },
     "metadata": {},
     "output_type": "display_data"
    },
    {
     "data": {
      "text/plain": [
       "\">>>>>> iteration 9:O\""
      ]
     },
     "metadata": {},
     "output_type": "display_data"
    },
    {
     "data": {
      "text/plain": [
       "\">>>>>> iteration 10:O\""
      ]
     },
     "metadata": {},
     "output_type": "display_data"
    },
    {
     "data": {
      "text/plain": [
       "\">>>>>> iteration 11:O\""
      ]
     },
     "metadata": {},
     "output_type": "display_data"
    },
    {
     "data": {
      "text/plain": [
       "\">>>>>> iteration 12:O\""
      ]
     },
     "metadata": {},
     "output_type": "display_data"
    },
    {
     "data": {
      "text/plain": [
       "\">>>>>> iteration 13:F\""
      ]
     },
     "metadata": {},
     "output_type": "display_data"
    },
    {
     "data": {
      "text/plain": [
       "\">>>>>> iteration 14:O\""
      ]
     },
     "metadata": {},
     "output_type": "display_data"
    },
    {
     "data": {
      "text/plain": [
       "\">>>>>> iteration 15:O\""
      ]
     },
     "metadata": {},
     "output_type": "display_data"
    },
    {
     "data": {
      "text/plain": [
       "\">>>>>> iteration 16:O\""
      ]
     },
     "metadata": {},
     "output_type": "display_data"
    },
    {
     "data": {
      "text/plain": [
       "\">>>>>> iteration 17:O\""
      ]
     },
     "metadata": {},
     "output_type": "display_data"
    },
    {
     "data": {
      "text/plain": [
       "\">>>>>> iteration 18:O\""
      ]
     },
     "metadata": {},
     "output_type": "display_data"
    },
    {
     "data": {
      "text/plain": [
       "\">>>>>> iteration 19:O\""
      ]
     },
     "metadata": {},
     "output_type": "display_data"
    },
    {
     "data": {
      "text/plain": [
       "\">>>>>> iteration 20:O\""
      ]
     },
     "metadata": {},
     "output_type": "display_data"
    },
    {
     "data": {
      "text/plain": [
       "\">>>>>> iteration 21:O\""
      ]
     },
     "metadata": {},
     "output_type": "display_data"
    },
    {
     "name": "stdout",
     "output_type": "stream",
     "text": [
      "MC: 4>> Time: 13\n",
      "MC: 4>> Time: 14\n",
      "MC: 4>> Time: 15\n",
      "MC: 4>> Time: 16\n"
     ]
    },
    {
     "data": {
      "text/plain": [
       "\">>>>>> iteration 1:O\""
      ]
     },
     "metadata": {},
     "output_type": "display_data"
    },
    {
     "data": {
      "text/plain": [
       "\">>>>>> iteration 2:O\""
      ]
     },
     "metadata": {},
     "output_type": "display_data"
    },
    {
     "data": {
      "text/plain": [
       "\">>>>>> iteration 3:O\""
      ]
     },
     "metadata": {},
     "output_type": "display_data"
    },
    {
     "data": {
      "text/plain": [
       "\">>>>>> iteration 4:O\""
      ]
     },
     "metadata": {},
     "output_type": "display_data"
    },
    {
     "data": {
      "text/plain": [
       "\">>>>>> iteration 5:O\""
      ]
     },
     "metadata": {},
     "output_type": "display_data"
    },
    {
     "data": {
      "text/plain": [
       "\">>>>>> iteration 6:O\""
      ]
     },
     "metadata": {},
     "output_type": "display_data"
    },
    {
     "data": {
      "text/plain": [
       "\">>>>>> iteration 7:O\""
      ]
     },
     "metadata": {},
     "output_type": "display_data"
    },
    {
     "data": {
      "text/plain": [
       "\">>>>>> iteration 8:O\""
      ]
     },
     "metadata": {},
     "output_type": "display_data"
    },
    {
     "data": {
      "text/plain": [
       "\">>>>>> iteration 9:O\""
      ]
     },
     "metadata": {},
     "output_type": "display_data"
    },
    {
     "data": {
      "text/plain": [
       "\">>>>>> iteration 10:O\""
      ]
     },
     "metadata": {},
     "output_type": "display_data"
    },
    {
     "data": {
      "text/plain": [
       "\">>>>>> iteration 11:F\""
      ]
     },
     "metadata": {},
     "output_type": "display_data"
    },
    {
     "data": {
      "text/plain": [
       "\">>>>>> iteration 12:O\""
      ]
     },
     "metadata": {},
     "output_type": "display_data"
    },
    {
     "data": {
      "text/plain": [
       "\">>>>>> iteration 13:O\""
      ]
     },
     "metadata": {},
     "output_type": "display_data"
    },
    {
     "data": {
      "text/plain": [
       "\">>>>>> iteration 14:O\""
      ]
     },
     "metadata": {},
     "output_type": "display_data"
    },
    {
     "data": {
      "text/plain": [
       "\">>>>>> iteration 15:O\""
      ]
     },
     "metadata": {},
     "output_type": "display_data"
    },
    {
     "data": {
      "text/plain": [
       "\">>>>>> iteration 16:O\""
      ]
     },
     "metadata": {},
     "output_type": "display_data"
    },
    {
     "data": {
      "text/plain": [
       "\">>>>>> iteration 17:O\""
      ]
     },
     "metadata": {},
     "output_type": "display_data"
    },
    {
     "data": {
      "text/plain": [
       "\">>>>>> iteration 18:O\""
      ]
     },
     "metadata": {},
     "output_type": "display_data"
    },
    {
     "data": {
      "text/plain": [
       "\">>>>>> iteration 19:O\""
      ]
     },
     "metadata": {},
     "output_type": "display_data"
    },
    {
     "name": "stdout",
     "output_type": "stream",
     "text": [
      "MC: 4>> Time: 17\n",
      "MC: 4>> Time: 18\n",
      "MC: 4>> Time: 19\n",
      "MC: 4>> Time: 20\n"
     ]
    },
    {
     "data": {
      "text/plain": [
       "\">>>>>> iteration 1:O\""
      ]
     },
     "metadata": {},
     "output_type": "display_data"
    },
    {
     "data": {
      "text/plain": [
       "\">>>>>> iteration 2:O\""
      ]
     },
     "metadata": {},
     "output_type": "display_data"
    },
    {
     "data": {
      "text/plain": [
       "\">>>>>> iteration 3:O\""
      ]
     },
     "metadata": {},
     "output_type": "display_data"
    },
    {
     "data": {
      "text/plain": [
       "\">>>>>> iteration 4:O\""
      ]
     },
     "metadata": {},
     "output_type": "display_data"
    },
    {
     "data": {
      "text/plain": [
       "\">>>>>> iteration 5:O\""
      ]
     },
     "metadata": {},
     "output_type": "display_data"
    },
    {
     "data": {
      "text/plain": [
       "\">>>>>> iteration 6:O\""
      ]
     },
     "metadata": {},
     "output_type": "display_data"
    },
    {
     "data": {
      "text/plain": [
       "\">>>>>> iteration 7:O\""
      ]
     },
     "metadata": {},
     "output_type": "display_data"
    },
    {
     "data": {
      "text/plain": [
       "\">>>>>> iteration 8:O\""
      ]
     },
     "metadata": {},
     "output_type": "display_data"
    },
    {
     "data": {
      "text/plain": [
       "\">>>>>> iteration 9:O\""
      ]
     },
     "metadata": {},
     "output_type": "display_data"
    },
    {
     "data": {
      "text/plain": [
       "\">>>>>> iteration 10:O\""
      ]
     },
     "metadata": {},
     "output_type": "display_data"
    },
    {
     "data": {
      "text/plain": [
       "\">>>>>> iteration 11:O\""
      ]
     },
     "metadata": {},
     "output_type": "display_data"
    },
    {
     "data": {
      "text/plain": [
       "\">>>>>> iteration 12:O\""
      ]
     },
     "metadata": {},
     "output_type": "display_data"
    },
    {
     "data": {
      "text/plain": [
       "\">>>>>> iteration 13:O\""
      ]
     },
     "metadata": {},
     "output_type": "display_data"
    },
    {
     "data": {
      "text/plain": [
       "\">>>>>> iteration 14:O\""
      ]
     },
     "metadata": {},
     "output_type": "display_data"
    },
    {
     "data": {
      "text/plain": [
       "\">>>>>> iteration 15:O\""
      ]
     },
     "metadata": {},
     "output_type": "display_data"
    },
    {
     "data": {
      "text/plain": [
       "\">>>>>> iteration 16:O\""
      ]
     },
     "metadata": {},
     "output_type": "display_data"
    },
    {
     "data": {
      "text/plain": [
       "\">>>>>> iteration 17:F\""
      ]
     },
     "metadata": {},
     "output_type": "display_data"
    },
    {
     "data": {
      "text/plain": [
       "\">>>>>> iteration 18:O\""
      ]
     },
     "metadata": {},
     "output_type": "display_data"
    },
    {
     "data": {
      "text/plain": [
       "\">>>>>> iteration 19:O\""
      ]
     },
     "metadata": {},
     "output_type": "display_data"
    },
    {
     "data": {
      "text/plain": [
       "\">>>>>> iteration 20:O\""
      ]
     },
     "metadata": {},
     "output_type": "display_data"
    },
    {
     "data": {
      "text/plain": [
       "\">>>>>> iteration 21:O\""
      ]
     },
     "metadata": {},
     "output_type": "display_data"
    },
    {
     "data": {
      "text/plain": [
       "\">>>>>> iteration 22:O\""
      ]
     },
     "metadata": {},
     "output_type": "display_data"
    },
    {
     "data": {
      "text/plain": [
       "\">>>>>> iteration 23:O\""
      ]
     },
     "metadata": {},
     "output_type": "display_data"
    },
    {
     "name": "stdout",
     "output_type": "stream",
     "text": [
      "MC: 5>> Time: 1\n",
      "MC: 5>> Time: 2\n",
      "MC: 5>> Time: 3\n",
      "MC: 5>> Time: 4\n",
      "MC: 5>> Time: 5\n",
      "MC: 5>> Time: 6\n",
      "MC: 5>> Time: 7\n",
      "MC: 5>> Time: 8\n",
      "MC: 5>> Time: 9\n",
      "MC: 5>> Time: 10\n",
      "MC: 5>> Time: 11\n",
      "MC: 5>> Time: 12\n",
      "MC: 5>> Time: 13\n",
      "MC: 5>> Time: 14\n",
      "MC: 5>> Time: 15\n",
      "MC: 5>> Time: 16\n",
      "MC: 5>> Time: 17\n",
      "MC: 5>> Time: 18\n",
      "MC: 5>> Time: 19\n",
      "MC: 5>> Time: 20\n",
      "MC: 5>> Time: 1\n"
     ]
    },
    {
     "data": {
      "text/plain": [
       "\">>>>>> iteration 1:O\""
      ]
     },
     "metadata": {},
     "output_type": "display_data"
    },
    {
     "data": {
      "text/plain": [
       "\">>>>>> iteration 2:O\""
      ]
     },
     "metadata": {},
     "output_type": "display_data"
    },
    {
     "data": {
      "text/plain": [
       "\">>>>>> iteration 3:O\""
      ]
     },
     "metadata": {},
     "output_type": "display_data"
    },
    {
     "data": {
      "text/plain": [
       "\">>>>>> iteration 4:O\""
      ]
     },
     "metadata": {},
     "output_type": "display_data"
    },
    {
     "data": {
      "text/plain": [
       "\">>>>>> iteration 5:O\""
      ]
     },
     "metadata": {},
     "output_type": "display_data"
    },
    {
     "data": {
      "text/plain": [
       "\">>>>>> iteration 6:O\""
      ]
     },
     "metadata": {},
     "output_type": "display_data"
    },
    {
     "data": {
      "text/plain": [
       "\">>>>>> iteration 7:O\""
      ]
     },
     "metadata": {},
     "output_type": "display_data"
    },
    {
     "data": {
      "text/plain": [
       "\">>>>>> iteration 8:O\""
      ]
     },
     "metadata": {},
     "output_type": "display_data"
    },
    {
     "data": {
      "text/plain": [
       "\">>>>>> iteration 9:O\""
      ]
     },
     "metadata": {},
     "output_type": "display_data"
    },
    {
     "data": {
      "text/plain": [
       "\">>>>>> iteration 10:O\""
      ]
     },
     "metadata": {},
     "output_type": "display_data"
    },
    {
     "data": {
      "text/plain": [
       "\">>>>>> iteration 11:O\""
      ]
     },
     "metadata": {},
     "output_type": "display_data"
    },
    {
     "data": {
      "text/plain": [
       "\">>>>>> iteration 12:O\""
      ]
     },
     "metadata": {},
     "output_type": "display_data"
    },
    {
     "data": {
      "text/plain": [
       "\">>>>>> iteration 13:O\""
      ]
     },
     "metadata": {},
     "output_type": "display_data"
    },
    {
     "name": "stdout",
     "output_type": "stream",
     "text": [
      "MC: 5>> Time: 2\n",
      "MC: 5>> Time: 3\n",
      "MC: 5>> Time: 4\n"
     ]
    },
    {
     "data": {
      "text/plain": [
       "\">>>>>> iteration 1:O\""
      ]
     },
     "metadata": {},
     "output_type": "display_data"
    },
    {
     "data": {
      "text/plain": [
       "\">>>>>> iteration 2:O\""
      ]
     },
     "metadata": {},
     "output_type": "display_data"
    },
    {
     "data": {
      "text/plain": [
       "\">>>>>> iteration 3:O\""
      ]
     },
     "metadata": {},
     "output_type": "display_data"
    },
    {
     "data": {
      "text/plain": [
       "\">>>>>> iteration 4:O\""
      ]
     },
     "metadata": {},
     "output_type": "display_data"
    },
    {
     "data": {
      "text/plain": [
       "\">>>>>> iteration 5:O\""
      ]
     },
     "metadata": {},
     "output_type": "display_data"
    },
    {
     "data": {
      "text/plain": [
       "\">>>>>> iteration 6:O\""
      ]
     },
     "metadata": {},
     "output_type": "display_data"
    },
    {
     "data": {
      "text/plain": [
       "\">>>>>> iteration 7:O\""
      ]
     },
     "metadata": {},
     "output_type": "display_data"
    },
    {
     "data": {
      "text/plain": [
       "\">>>>>> iteration 8:O\""
      ]
     },
     "metadata": {},
     "output_type": "display_data"
    },
    {
     "data": {
      "text/plain": [
       "\">>>>>> iteration 9:O\""
      ]
     },
     "metadata": {},
     "output_type": "display_data"
    },
    {
     "data": {
      "text/plain": [
       "\">>>>>> iteration 10:O\""
      ]
     },
     "metadata": {},
     "output_type": "display_data"
    },
    {
     "data": {
      "text/plain": [
       "\">>>>>> iteration 11:O\""
      ]
     },
     "metadata": {},
     "output_type": "display_data"
    },
    {
     "data": {
      "text/plain": [
       "\">>>>>> iteration 12:F\""
      ]
     },
     "metadata": {},
     "output_type": "display_data"
    },
    {
     "data": {
      "text/plain": [
       "\">>>>>> iteration 13:O\""
      ]
     },
     "metadata": {},
     "output_type": "display_data"
    },
    {
     "data": {
      "text/plain": [
       "\">>>>>> iteration 14:O\""
      ]
     },
     "metadata": {},
     "output_type": "display_data"
    },
    {
     "data": {
      "text/plain": [
       "\">>>>>> iteration 15:O\""
      ]
     },
     "metadata": {},
     "output_type": "display_data"
    },
    {
     "data": {
      "text/plain": [
       "\">>>>>> iteration 16:O\""
      ]
     },
     "metadata": {},
     "output_type": "display_data"
    },
    {
     "data": {
      "text/plain": [
       "\">>>>>> iteration 17:O\""
      ]
     },
     "metadata": {},
     "output_type": "display_data"
    },
    {
     "data": {
      "text/plain": [
       "\">>>>>> iteration 18:O\""
      ]
     },
     "metadata": {},
     "output_type": "display_data"
    },
    {
     "data": {
      "text/plain": [
       "\">>>>>> iteration 19:O\""
      ]
     },
     "metadata": {},
     "output_type": "display_data"
    },
    {
     "data": {
      "text/plain": [
       "\">>>>>> iteration 20:O\""
      ]
     },
     "metadata": {},
     "output_type": "display_data"
    },
    {
     "name": "stdout",
     "output_type": "stream",
     "text": [
      "MC: 5>> Time: 5\n",
      "MC: 5>> Time: 6\n",
      "MC: 5>> Time: 7\n",
      "MC: 5>> Time: 8\n"
     ]
    },
    {
     "data": {
      "text/plain": [
       "\">>>>>> iteration 1:O\""
      ]
     },
     "metadata": {},
     "output_type": "display_data"
    },
    {
     "data": {
      "text/plain": [
       "\">>>>>> iteration 2:O\""
      ]
     },
     "metadata": {},
     "output_type": "display_data"
    },
    {
     "data": {
      "text/plain": [
       "\">>>>>> iteration 3:O\""
      ]
     },
     "metadata": {},
     "output_type": "display_data"
    },
    {
     "data": {
      "text/plain": [
       "\">>>>>> iteration 4:O\""
      ]
     },
     "metadata": {},
     "output_type": "display_data"
    },
    {
     "data": {
      "text/plain": [
       "\">>>>>> iteration 5:O\""
      ]
     },
     "metadata": {},
     "output_type": "display_data"
    },
    {
     "data": {
      "text/plain": [
       "\">>>>>> iteration 6:O\""
      ]
     },
     "metadata": {},
     "output_type": "display_data"
    },
    {
     "data": {
      "text/plain": [
       "\">>>>>> iteration 7:O\""
      ]
     },
     "metadata": {},
     "output_type": "display_data"
    },
    {
     "data": {
      "text/plain": [
       "\">>>>>> iteration 8:O\""
      ]
     },
     "metadata": {},
     "output_type": "display_data"
    },
    {
     "data": {
      "text/plain": [
       "\">>>>>> iteration 9:O\""
      ]
     },
     "metadata": {},
     "output_type": "display_data"
    },
    {
     "data": {
      "text/plain": [
       "\">>>>>> iteration 10:O\""
      ]
     },
     "metadata": {},
     "output_type": "display_data"
    },
    {
     "data": {
      "text/plain": [
       "\">>>>>> iteration 11:O\""
      ]
     },
     "metadata": {},
     "output_type": "display_data"
    },
    {
     "data": {
      "text/plain": [
       "\">>>>>> iteration 12:O\""
      ]
     },
     "metadata": {},
     "output_type": "display_data"
    },
    {
     "data": {
      "text/plain": [
       "\">>>>>> iteration 13:O\""
      ]
     },
     "metadata": {},
     "output_type": "display_data"
    },
    {
     "data": {
      "text/plain": [
       "\">>>>>> iteration 14:O\""
      ]
     },
     "metadata": {},
     "output_type": "display_data"
    },
    {
     "data": {
      "text/plain": [
       "\">>>>>> iteration 15:O\""
      ]
     },
     "metadata": {},
     "output_type": "display_data"
    },
    {
     "data": {
      "text/plain": [
       "\">>>>>> iteration 16:O\""
      ]
     },
     "metadata": {},
     "output_type": "display_data"
    },
    {
     "data": {
      "text/plain": [
       "\">>>>>> iteration 17:O\""
      ]
     },
     "metadata": {},
     "output_type": "display_data"
    },
    {
     "data": {
      "text/plain": [
       "\">>>>>> iteration 18:O\""
      ]
     },
     "metadata": {},
     "output_type": "display_data"
    },
    {
     "data": {
      "text/plain": [
       "\">>>>>> iteration 19:O\""
      ]
     },
     "metadata": {},
     "output_type": "display_data"
    },
    {
     "data": {
      "text/plain": [
       "\">>>>>> iteration 20:O\""
      ]
     },
     "metadata": {},
     "output_type": "display_data"
    },
    {
     "data": {
      "text/plain": [
       "\">>>>>> iteration 21:O\""
      ]
     },
     "metadata": {},
     "output_type": "display_data"
    },
    {
     "data": {
      "text/plain": [
       "\">>>>>> iteration 22:O\""
      ]
     },
     "metadata": {},
     "output_type": "display_data"
    },
    {
     "data": {
      "text/plain": [
       "\">>>>>> iteration 23:O\""
      ]
     },
     "metadata": {},
     "output_type": "display_data"
    },
    {
     "data": {
      "text/plain": [
       "\">>>>>> iteration 24:O\""
      ]
     },
     "metadata": {},
     "output_type": "display_data"
    },
    {
     "data": {
      "text/plain": [
       "\">>>>>> iteration 25:O\""
      ]
     },
     "metadata": {},
     "output_type": "display_data"
    },
    {
     "data": {
      "text/plain": [
       "\">>>>>> iteration 26:O\""
      ]
     },
     "metadata": {},
     "output_type": "display_data"
    },
    {
     "data": {
      "text/plain": [
       "\">>>>>> iteration 27:O\""
      ]
     },
     "metadata": {},
     "output_type": "display_data"
    },
    {
     "data": {
      "text/plain": [
       "\">>>>>> iteration 28:F\""
      ]
     },
     "metadata": {},
     "output_type": "display_data"
    },
    {
     "data": {
      "text/plain": [
       "\">>>>>> iteration 29:O\""
      ]
     },
     "metadata": {},
     "output_type": "display_data"
    },
    {
     "name": "stdout",
     "output_type": "stream",
     "text": [
      "MC: 5>> Time: 9\n",
      "MC: 5>> Time: 10\n",
      "MC: 5>> Time: 11\n",
      "MC: 5>> Time: 12\n"
     ]
    },
    {
     "data": {
      "text/plain": [
       "\">>>>>> iteration 1:O\""
      ]
     },
     "metadata": {},
     "output_type": "display_data"
    },
    {
     "data": {
      "text/plain": [
       "\">>>>>> iteration 2:O\""
      ]
     },
     "metadata": {},
     "output_type": "display_data"
    },
    {
     "data": {
      "text/plain": [
       "\">>>>>> iteration 3:O\""
      ]
     },
     "metadata": {},
     "output_type": "display_data"
    },
    {
     "data": {
      "text/plain": [
       "\">>>>>> iteration 4:O\""
      ]
     },
     "metadata": {},
     "output_type": "display_data"
    },
    {
     "data": {
      "text/plain": [
       "\">>>>>> iteration 5:O\""
      ]
     },
     "metadata": {},
     "output_type": "display_data"
    },
    {
     "data": {
      "text/plain": [
       "\">>>>>> iteration 6:O\""
      ]
     },
     "metadata": {},
     "output_type": "display_data"
    },
    {
     "data": {
      "text/plain": [
       "\">>>>>> iteration 7:O\""
      ]
     },
     "metadata": {},
     "output_type": "display_data"
    },
    {
     "data": {
      "text/plain": [
       "\">>>>>> iteration 8:O\""
      ]
     },
     "metadata": {},
     "output_type": "display_data"
    },
    {
     "data": {
      "text/plain": [
       "\">>>>>> iteration 9:O\""
      ]
     },
     "metadata": {},
     "output_type": "display_data"
    },
    {
     "data": {
      "text/plain": [
       "\">>>>>> iteration 10:O\""
      ]
     },
     "metadata": {},
     "output_type": "display_data"
    },
    {
     "data": {
      "text/plain": [
       "\">>>>>> iteration 11:O\""
      ]
     },
     "metadata": {},
     "output_type": "display_data"
    },
    {
     "data": {
      "text/plain": [
       "\">>>>>> iteration 12:O\""
      ]
     },
     "metadata": {},
     "output_type": "display_data"
    },
    {
     "data": {
      "text/plain": [
       "\">>>>>> iteration 13:O\""
      ]
     },
     "metadata": {},
     "output_type": "display_data"
    },
    {
     "data": {
      "text/plain": [
       "\">>>>>> iteration 14:O\""
      ]
     },
     "metadata": {},
     "output_type": "display_data"
    },
    {
     "data": {
      "text/plain": [
       "\">>>>>> iteration 15:F\""
      ]
     },
     "metadata": {},
     "output_type": "display_data"
    },
    {
     "data": {
      "text/plain": [
       "\">>>>>> iteration 16:O\""
      ]
     },
     "metadata": {},
     "output_type": "display_data"
    },
    {
     "data": {
      "text/plain": [
       "\">>>>>> iteration 17:O\""
      ]
     },
     "metadata": {},
     "output_type": "display_data"
    },
    {
     "data": {
      "text/plain": [
       "\">>>>>> iteration 18:O\""
      ]
     },
     "metadata": {},
     "output_type": "display_data"
    },
    {
     "data": {
      "text/plain": [
       "\">>>>>> iteration 19:O\""
      ]
     },
     "metadata": {},
     "output_type": "display_data"
    },
    {
     "data": {
      "text/plain": [
       "\">>>>>> iteration 20:O\""
      ]
     },
     "metadata": {},
     "output_type": "display_data"
    },
    {
     "data": {
      "text/plain": [
       "\">>>>>> iteration 21:O\""
      ]
     },
     "metadata": {},
     "output_type": "display_data"
    },
    {
     "data": {
      "text/plain": [
       "\">>>>>> iteration 22:O\""
      ]
     },
     "metadata": {},
     "output_type": "display_data"
    },
    {
     "data": {
      "text/plain": [
       "\">>>>>> iteration 23:O\""
      ]
     },
     "metadata": {},
     "output_type": "display_data"
    },
    {
     "data": {
      "text/plain": [
       "\">>>>>> iteration 24:O\""
      ]
     },
     "metadata": {},
     "output_type": "display_data"
    },
    {
     "data": {
      "text/plain": [
       "\">>>>>> iteration 25:O\""
      ]
     },
     "metadata": {},
     "output_type": "display_data"
    },
    {
     "data": {
      "text/plain": [
       "\">>>>>> iteration 26:O\""
      ]
     },
     "metadata": {},
     "output_type": "display_data"
    },
    {
     "data": {
      "text/plain": [
       "\">>>>>> iteration 27:O\""
      ]
     },
     "metadata": {},
     "output_type": "display_data"
    },
    {
     "data": {
      "text/plain": [
       "\">>>>>> iteration 28:O\""
      ]
     },
     "metadata": {},
     "output_type": "display_data"
    },
    {
     "data": {
      "text/plain": [
       "\">>>>>> iteration 29:O\""
      ]
     },
     "metadata": {},
     "output_type": "display_data"
    },
    {
     "name": "stdout",
     "output_type": "stream",
     "text": [
      "MC: 5>> Time: 13\n",
      "MC: 5>> Time: 14\n",
      "MC: 5>> Time: 15\n",
      "MC: 5>> Time: 16\n"
     ]
    },
    {
     "data": {
      "text/plain": [
       "\">>>>>> iteration 1:O\""
      ]
     },
     "metadata": {},
     "output_type": "display_data"
    },
    {
     "data": {
      "text/plain": [
       "\">>>>>> iteration 2:O\""
      ]
     },
     "metadata": {},
     "output_type": "display_data"
    },
    {
     "data": {
      "text/plain": [
       "\">>>>>> iteration 3:O\""
      ]
     },
     "metadata": {},
     "output_type": "display_data"
    },
    {
     "data": {
      "text/plain": [
       "\">>>>>> iteration 4:O\""
      ]
     },
     "metadata": {},
     "output_type": "display_data"
    },
    {
     "data": {
      "text/plain": [
       "\">>>>>> iteration 5:O\""
      ]
     },
     "metadata": {},
     "output_type": "display_data"
    },
    {
     "data": {
      "text/plain": [
       "\">>>>>> iteration 6:O\""
      ]
     },
     "metadata": {},
     "output_type": "display_data"
    },
    {
     "data": {
      "text/plain": [
       "\">>>>>> iteration 7:O\""
      ]
     },
     "metadata": {},
     "output_type": "display_data"
    },
    {
     "data": {
      "text/plain": [
       "\">>>>>> iteration 8:O\""
      ]
     },
     "metadata": {},
     "output_type": "display_data"
    },
    {
     "data": {
      "text/plain": [
       "\">>>>>> iteration 9:O\""
      ]
     },
     "metadata": {},
     "output_type": "display_data"
    },
    {
     "data": {
      "text/plain": [
       "\">>>>>> iteration 10:O\""
      ]
     },
     "metadata": {},
     "output_type": "display_data"
    },
    {
     "data": {
      "text/plain": [
       "\">>>>>> iteration 11:O\""
      ]
     },
     "metadata": {},
     "output_type": "display_data"
    },
    {
     "data": {
      "text/plain": [
       "\">>>>>> iteration 12:F\""
      ]
     },
     "metadata": {},
     "output_type": "display_data"
    },
    {
     "data": {
      "text/plain": [
       "\">>>>>> iteration 13:O\""
      ]
     },
     "metadata": {},
     "output_type": "display_data"
    },
    {
     "data": {
      "text/plain": [
       "\">>>>>> iteration 14:O\""
      ]
     },
     "metadata": {},
     "output_type": "display_data"
    },
    {
     "data": {
      "text/plain": [
       "\">>>>>> iteration 15:O\""
      ]
     },
     "metadata": {},
     "output_type": "display_data"
    },
    {
     "data": {
      "text/plain": [
       "\">>>>>> iteration 16:O\""
      ]
     },
     "metadata": {},
     "output_type": "display_data"
    },
    {
     "data": {
      "text/plain": [
       "\">>>>>> iteration 17:O\""
      ]
     },
     "metadata": {},
     "output_type": "display_data"
    },
    {
     "data": {
      "text/plain": [
       "\">>>>>> iteration 18:O\""
      ]
     },
     "metadata": {},
     "output_type": "display_data"
    },
    {
     "data": {
      "text/plain": [
       "\">>>>>> iteration 19:O\""
      ]
     },
     "metadata": {},
     "output_type": "display_data"
    },
    {
     "name": "stdout",
     "output_type": "stream",
     "text": [
      "MC: 5>> Time: 17\n",
      "MC: 5>> Time: 18\n",
      "MC: 5>> Time: 19\n",
      "MC: 5>> Time: 20\n"
     ]
    },
    {
     "data": {
      "text/plain": [
       "\">>>>>> iteration 1:O\""
      ]
     },
     "metadata": {},
     "output_type": "display_data"
    },
    {
     "data": {
      "text/plain": [
       "\">>>>>> iteration 2:O\""
      ]
     },
     "metadata": {},
     "output_type": "display_data"
    },
    {
     "data": {
      "text/plain": [
       "\">>>>>> iteration 3:O\""
      ]
     },
     "metadata": {},
     "output_type": "display_data"
    },
    {
     "data": {
      "text/plain": [
       "\">>>>>> iteration 4:O\""
      ]
     },
     "metadata": {},
     "output_type": "display_data"
    },
    {
     "data": {
      "text/plain": [
       "\">>>>>> iteration 5:O\""
      ]
     },
     "metadata": {},
     "output_type": "display_data"
    },
    {
     "data": {
      "text/plain": [
       "\">>>>>> iteration 6:O\""
      ]
     },
     "metadata": {},
     "output_type": "display_data"
    },
    {
     "data": {
      "text/plain": [
       "\">>>>>> iteration 7:O\""
      ]
     },
     "metadata": {},
     "output_type": "display_data"
    },
    {
     "data": {
      "text/plain": [
       "\">>>>>> iteration 8:O\""
      ]
     },
     "metadata": {},
     "output_type": "display_data"
    },
    {
     "data": {
      "text/plain": [
       "\">>>>>> iteration 9:O\""
      ]
     },
     "metadata": {},
     "output_type": "display_data"
    },
    {
     "data": {
      "text/plain": [
       "\">>>>>> iteration 10:O\""
      ]
     },
     "metadata": {},
     "output_type": "display_data"
    },
    {
     "data": {
      "text/plain": [
       "\">>>>>> iteration 11:O\""
      ]
     },
     "metadata": {},
     "output_type": "display_data"
    },
    {
     "data": {
      "text/plain": [
       "\">>>>>> iteration 12:O\""
      ]
     },
     "metadata": {},
     "output_type": "display_data"
    },
    {
     "data": {
      "text/plain": [
       "\">>>>>> iteration 13:O\""
      ]
     },
     "metadata": {},
     "output_type": "display_data"
    },
    {
     "data": {
      "text/plain": [
       "\">>>>>> iteration 14:O\""
      ]
     },
     "metadata": {},
     "output_type": "display_data"
    },
    {
     "data": {
      "text/plain": [
       "\">>>>>> iteration 15:O\""
      ]
     },
     "metadata": {},
     "output_type": "display_data"
    },
    {
     "data": {
      "text/plain": [
       "\">>>>>> iteration 16:O\""
      ]
     },
     "metadata": {},
     "output_type": "display_data"
    },
    {
     "data": {
      "text/plain": [
       "\">>>>>> iteration 17:O\""
      ]
     },
     "metadata": {},
     "output_type": "display_data"
    },
    {
     "data": {
      "text/plain": [
       "\">>>>>> iteration 18:O\""
      ]
     },
     "metadata": {},
     "output_type": "display_data"
    },
    {
     "data": {
      "text/plain": [
       "\">>>>>> iteration 19:O\""
      ]
     },
     "metadata": {},
     "output_type": "display_data"
    },
    {
     "data": {
      "text/plain": [
       "\">>>>>> iteration 20:F\""
      ]
     },
     "metadata": {},
     "output_type": "display_data"
    },
    {
     "data": {
      "text/plain": [
       "\">>>>>> iteration 21:O\""
      ]
     },
     "metadata": {},
     "output_type": "display_data"
    },
    {
     "data": {
      "text/plain": [
       "\">>>>>> iteration 22:O\""
      ]
     },
     "metadata": {},
     "output_type": "display_data"
    },
    {
     "data": {
      "text/plain": [
       "\">>>>>> iteration 23:O\""
      ]
     },
     "metadata": {},
     "output_type": "display_data"
    },
    {
     "data": {
      "text/plain": [
       "\">>>>>> iteration 24:O\""
      ]
     },
     "metadata": {},
     "output_type": "display_data"
    },
    {
     "data": {
      "text/plain": [
       "\">>>>>> iteration 25:O\""
      ]
     },
     "metadata": {},
     "output_type": "display_data"
    },
    {
     "data": {
      "text/plain": [
       "\">>>>>> iteration 26:O\""
      ]
     },
     "metadata": {},
     "output_type": "display_data"
    },
    {
     "data": {
      "text/plain": [
       "\">>>>>> iteration 27:O\""
      ]
     },
     "metadata": {},
     "output_type": "display_data"
    },
    {
     "data": {
      "text/plain": [
       "\">>>>>> iteration 28:O\""
      ]
     },
     "metadata": {},
     "output_type": "display_data"
    },
    {
     "data": {
      "text/plain": [
       "\">>>>>> iteration 29:O\""
      ]
     },
     "metadata": {},
     "output_type": "display_data"
    }
   ],
   "source": [
    "for jj = 1:n_MC\n",
    "    # ramdonly drawing the plant from the previously computed models\n",
    "    plantModelInd = round(Int64, rand(Uniform(1,100)))\n",
    "    \n",
    "    # Plant model\n",
    "    pl = DRTO_matrix(nR_MC,plantModelInd,100) # all possible plant models can be drawn\n",
    "    collapsed_B = pl['B'][:,1]\n",
    "    \n",
    "    # RUNNING SIMULATION\n",
    "    for mm = 1:2\n",
    "        \n",
    "        # Initial conditions (deviation form)\n",
    "        x0_MC = repeat([0.3583;0.6418] .- x0, outer = [nR_MC,1])\n",
    "        u0_MC = 1.0 - u0;\n",
    "\n",
    "        # initializing simulation\n",
    "        xpk = x0_MC # plant\n",
    "        ypk = dot(pl['C'],xpk)\n",
    "        uk_1 = u0_MC\n",
    "\n",
    "        # initial state is known \n",
    "        xmk = x0_MC # model \n",
    "        ymk = dot(mpc['C'],xmk)\n",
    "        dek = ypk - ymk\n",
    "\n",
    "        for ii = 1:nsim\n",
    "\n",
    "            print(\"MC: \", jj)\n",
    "            println(\">> Time: \",ii)\n",
    "\n",
    "            # updating arrays\n",
    "            xPlant[:,ii,jj,mm] = xpk\n",
    "            yPlant[ii,jj,mm] = ypk + y0\n",
    "            uPlant[ii,jj,mm] = uk_1 + u0\n",
    "\n",
    "            xMPCmodel[:,ii,jj,mm] = xmk\n",
    "            yMPCmodel[ii,jj,mm] = ymk\n",
    "            dev_plant_MPCmodel[ii,jj,mm] = dek\n",
    "\n",
    "            # executing DRTO\n",
    "            if ii%nDRTO == 0 || ii == 1\n",
    "\n",
    "                if mm == 1\n",
    "                    global sol_k = MS_CLDRTO(xpk,uk_1,nR_MC,nS_MC,pS_MC,solNominal,opti_MC)\n",
    "                else\n",
    "                    global sol_k = BENS_CLDRTO(xpk,uk_1,nR_MC,nS_MC,pS_MC,solNominal,opti_MC)\n",
    "                end\n",
    "                # counter for DRTO executions\n",
    "                global countDRTO = 1;\n",
    "                # N.B. need to declare as global due to loop scope\n",
    "            end\n",
    "\n",
    "            # Preparing controller \n",
    "            # building terms of the OF that depend on current information\n",
    "            if mm == 1\n",
    "                yspk = sol_k['s'][countDRTO:(countDRTO + (p - 1)),1] \n",
    "            else\n",
    "                yspk = sol_k['s'][1][countDRTO:(countDRTO + (p - 1))]\n",
    "            end\n",
    "            \n",
    "            countDRTO += 1 \n",
    "            # N.B.:\n",
    "            # using first scenario, but any scenario could be used\n",
    "\n",
    "            # solving MPC problem\n",
    "            solkk = solveMPC(xmk,dek,uk_1,yspk,u0,uMin,uMax,p,m,nR_MC)\n",
    "\n",
    "            # extracting the first input\n",
    "            uk = solkk['u'][1]\n",
    "\n",
    "            # applying input to the plant\n",
    "            xpk = pl['A']*xpk + collapsed_B*uk\n",
    "            ypk = dot(pl['C'],xpk)\n",
    "\n",
    "            # applying input to the controller model\n",
    "            xmk = mpc['A']*xmk + mpc['B']*uk\n",
    "            ymk = dot(mpc['C'],xmk)\n",
    "\n",
    "            # computing disturbance model\n",
    "            dek = ypk - ymk\n",
    "\n",
    "                # loop\n",
    "                uk_1 = uk\n",
    "\n",
    "        end # simulation\n",
    "    end # monolithic || decomposed\n",
    "end # MC"
   ]
  },
  {
   "cell_type": "code",
   "execution_count": 18,
   "id": "689a860e",
   "metadata": {},
   "outputs": [],
   "source": [
    "# time series for plotting\n",
    "ts = Vector{Float64}(undef,nsim) \n",
    "for i in 1:nsim\n",
    "    ts[i] = 1*i\n",
    "end\n",
    "\n",
    "# Creating color array\n",
    "CList = reshape( range(colorant\"red\", stop=colorant\"blue\",length=n_MC), 1, n_MC);\n",
    "MList =[:square, :circle];"
   ]
  },
  {
   "cell_type": "markdown",
   "id": "96b310fc",
   "metadata": {},
   "source": [
    "Computing Statistics"
   ]
  },
  {
   "cell_type": "code",
   "execution_count": 19,
   "id": "a29823a3",
   "metadata": {},
   "outputs": [],
   "source": [
    "# Extracting solution for plotting --> monolithic vs. decomposed \n",
    "yMean = mean(yPlant,dims=2)\n",
    "uMean = mean(uPlant,dims=2);"
   ]
  },
  {
   "cell_type": "markdown",
   "id": "82f18400",
   "metadata": {},
   "source": [
    "Plot recipes"
   ]
  },
  {
   "cell_type": "code",
   "execution_count": 20,
   "id": "01fc150b",
   "metadata": {},
   "outputs": [],
   "source": [
    "@userplot MC_Plot\n",
    "@recipe function f(h::MC_Plot)\n",
    "        \n",
    "    if length(h.args) < 6 \n",
    "        ylab, x, y_bar, y, lim_u = h.args\n",
    "    else\n",
    "        ylab, x, y_bar, y, lim_u, lim_l = h.args\n",
    "    end\n",
    "    \n",
    "    # set up the subplots\n",
    "    # these are common to both marginal histograms\n",
    "    legend := false\n",
    "    layout :=  (2,1)\n",
    "    grid := true\n",
    "    gridlinewidth --> 2\n",
    "    latex := true\n",
    "    linecolor := :black\n",
    "    \n",
    "    for mm in 1:2\n",
    "        # labels \n",
    "        ylabel := ylab\n",
    "        if mm == 2\n",
    "            xlabel := \"time [min]\"\n",
    "        end\n",
    "        \n",
    "        # DATA PLOTTING\n",
    "        # upper bound\n",
    "        @series begin\n",
    "            seriestype := :path\n",
    "            linestyle := :dot\n",
    "            subplot := mm\n",
    "            x, lim_u*ones(length(x))\n",
    "        end\n",
    "\n",
    "        if length(h.args) > 5 \n",
    "            # lower bound\n",
    "            @series begin\n",
    "                seriestype := :path\n",
    "                linestyle := :dot\n",
    "                subplot := mm\n",
    "                x, lim_u*ones(length(x))\n",
    "            end\n",
    "        end\n",
    "\n",
    "        # average MC value\n",
    "        @series begin\n",
    "            seriestype := :path\n",
    "            linewidth := 3\n",
    "            markercolor := :black\n",
    "            markerstrokecolor := :black\n",
    "            markersize := 3\n",
    "            \n",
    "            if mm == 1\n",
    "                linestyle := :solid\n",
    "                markershape := :circle\n",
    "            else\n",
    "                linestyle := :dashdot\n",
    "                markershape := :rect\n",
    "            end\n",
    "            \n",
    "            subplot := mm\n",
    "            x, y_bar[:,mm]\n",
    "            \n",
    "        end\n",
    "        \n",
    "        for nn in 1:n_MC\n",
    "            @series begin\n",
    "                seriestype := :path\n",
    "                linewidth := 2\n",
    "                linealpha := 0.1\n",
    "                subplot := mm\n",
    "                x, y[:,nn,mm]\n",
    "            end\n",
    "        end # MC loop\n",
    "    end # mono/dec loop \n",
    "end"
   ]
  },
  {
   "cell_type": "code",
   "execution_count": 21,
   "id": "ab962af0",
   "metadata": {},
   "outputs": [],
   "source": [
    "@userplot MC_Comp\n",
    "@recipe function f(h::MC_Comp)\n",
    "        \n",
    "    if length(h.args) < 5 \n",
    "        ylab, x, y_bar, lim_u = h.args\n",
    "    else\n",
    "        ylab, x, y_bar, lim_u, lim_l = h.args\n",
    "    end\n",
    "    \n",
    "    # set up the subplots\n",
    "    # these are common to both marginal histograms    \n",
    "    grid := true\n",
    "    gridlinewidth --> 2\n",
    "    \n",
    "    linecolor := :black\n",
    "    markercolor := :black\n",
    "    markerstrokecolor := :black\n",
    "    markersize := 3\n",
    "    \n",
    "    # axis labels \n",
    "    ylabel := ylab\n",
    "    xlabel := \"time [min]\"\n",
    "\n",
    "    # legend\n",
    "    legend := true\n",
    "    latex := true\n",
    "    labels = [\"Mono.\",\"Decom.\"] \n",
    "    \n",
    "    # DATA PLOTTING\n",
    "    # upper bound\n",
    "    @series begin\n",
    "        seriestype := :path\n",
    "        linestyle := :dot\n",
    "        label --> \"Limit\"\n",
    "        x, lim_u*ones(length(x))\n",
    "    end\n",
    "    \n",
    "    if length(h.args) > 4\n",
    "        # lower bound\n",
    "        @series begin\n",
    "            seriestype := :path\n",
    "            linestyle := :dot\n",
    "            label --> \"\"\n",
    "            x, lim_u*ones(length(x))\n",
    "        end\n",
    "    end\n",
    "\n",
    "    # monolithic\n",
    "    @series begin\n",
    "        seriestype := :path\n",
    "        linewidth := 3\n",
    "        linestyle := :solid\n",
    "        markershape := :circle\n",
    "        label --> \"Mono.\"\n",
    "        x, y_bar[:,1]\n",
    "    end \n",
    "    \n",
    "    # decomposed\n",
    "    @series begin\n",
    "        seriestype := :path\n",
    "        linewidth := 3\n",
    "        linestyle := :dashdot\n",
    "        markershape := :rect\n",
    "        label --> \"Deco.\"\n",
    "        x, y_bar[:,2]\n",
    "    end \n",
    "end"
   ]
  },
  {
   "cell_type": "markdown",
   "id": "10cfa7bb",
   "metadata": {},
   "source": [
    "Output"
   ]
  },
  {
   "cell_type": "code",
   "execution_count": 22,
   "id": "3bbf8a52",
   "metadata": {},
   "outputs": [
    {
     "data": {
      "image/svg+xml": [
       "<?xml version=\"1.0\" encoding=\"utf-8\"?>\n",
       "<svg xmlns=\"http://www.w3.org/2000/svg\" xmlns:xlink=\"http://www.w3.org/1999/xlink\" width=\"600\" height=\"400\" viewBox=\"0 0 2400 1600\">\n",
       "<defs>\n",
       "  <clipPath id=\"clip490\">\n",
       "    <rect x=\"0\" y=\"0\" width=\"2400\" height=\"1600\"/>\n",
       "  </clipPath>\n",
       "</defs>\n",
       "<path clip-path=\"url(#clip490)\" d=\"M0 1600 L2400 1600 L2400 0 L0 0  Z\" fill=\"#ffffff\" fill-rule=\"evenodd\" fill-opacity=\"1\"/>\n",
       "<defs>\n",
       "  <clipPath id=\"clip491\">\n",
       "    <rect x=\"480\" y=\"0\" width=\"1681\" height=\"1600\"/>\n",
       "  </clipPath>\n",
       "</defs>\n",
       "<path clip-path=\"url(#clip490)\" d=\"M219.288 654.814 L2352.76 654.814 L2352.76 47.2441 L219.288 47.2441  Z\" fill=\"#ffffff\" fill-rule=\"evenodd\" fill-opacity=\"1\"/>\n",
       "<defs>\n",
       "  <clipPath id=\"clip492\">\n",
       "    <rect x=\"219\" y=\"47\" width=\"2134\" height=\"609\"/>\n",
       "  </clipPath>\n",
       "</defs>\n",
       "<polyline clip-path=\"url(#clip492)\" style=\"stroke:#000000; stroke-linecap:round; stroke-linejoin:round; stroke-width:8; stroke-opacity:0.1; fill:none\" points=\"703.396,654.814 703.396,47.2441 \"/>\n",
       "<polyline clip-path=\"url(#clip492)\" style=\"stroke:#000000; stroke-linecap:round; stroke-linejoin:round; stroke-width:8; stroke-opacity:0.1; fill:none\" points=\"1233.06,654.814 1233.06,47.2441 \"/>\n",
       "<polyline clip-path=\"url(#clip492)\" style=\"stroke:#000000; stroke-linecap:round; stroke-linejoin:round; stroke-width:8; stroke-opacity:0.1; fill:none\" points=\"1762.72,654.814 1762.72,47.2441 \"/>\n",
       "<polyline clip-path=\"url(#clip492)\" style=\"stroke:#000000; stroke-linecap:round; stroke-linejoin:round; stroke-width:8; stroke-opacity:0.1; fill:none\" points=\"2292.37,654.814 2292.37,47.2441 \"/>\n",
       "<polyline clip-path=\"url(#clip490)\" style=\"stroke:#000000; stroke-linecap:round; stroke-linejoin:round; stroke-width:4; stroke-opacity:1; fill:none\" points=\"219.288,654.814 2352.76,654.814 \"/>\n",
       "<polyline clip-path=\"url(#clip490)\" style=\"stroke:#000000; stroke-linecap:round; stroke-linejoin:round; stroke-width:4; stroke-opacity:1; fill:none\" points=\"703.396,654.814 703.396,635.916 \"/>\n",
       "<polyline clip-path=\"url(#clip490)\" style=\"stroke:#000000; stroke-linecap:round; stroke-linejoin:round; stroke-width:4; stroke-opacity:1; fill:none\" points=\"1233.06,654.814 1233.06,635.916 \"/>\n",
       "<polyline clip-path=\"url(#clip490)\" style=\"stroke:#000000; stroke-linecap:round; stroke-linejoin:round; stroke-width:4; stroke-opacity:1; fill:none\" points=\"1762.72,654.814 1762.72,635.916 \"/>\n",
       "<polyline clip-path=\"url(#clip490)\" style=\"stroke:#000000; stroke-linecap:round; stroke-linejoin:round; stroke-width:4; stroke-opacity:1; fill:none\" points=\"2292.37,654.814 2292.37,635.916 \"/>\n",
       "<path clip-path=\"url(#clip490)\" d=\"M693.674 682.654 L712.031 682.654 L712.031 686.589 L697.957 686.589 L697.957 695.061 Q698.975 694.714 699.994 694.552 Q701.012 694.367 702.031 694.367 Q707.818 694.367 711.197 697.538 Q714.577 700.709 714.577 706.126 Q714.577 711.705 711.105 714.806 Q707.632 717.885 701.313 717.885 Q699.137 717.885 696.869 717.515 Q694.623 717.144 692.216 716.404 L692.216 711.705 Q694.299 712.839 696.521 713.394 Q698.744 713.95 701.22 713.95 Q705.225 713.95 707.563 711.844 Q709.901 709.737 709.901 706.126 Q709.901 702.515 707.563 700.408 Q705.225 698.302 701.22 698.302 Q699.345 698.302 697.47 698.719 Q695.619 699.135 693.674 700.015 L693.674 682.654 Z\" fill=\"#000000\" fill-rule=\"evenodd\" fill-opacity=\"1\" /><path clip-path=\"url(#clip490)\" d=\"M1207.74 713.279 L1215.38 713.279 L1215.38 686.913 L1207.07 688.58 L1207.07 684.321 L1215.34 682.654 L1220.01 682.654 L1220.01 713.279 L1227.65 713.279 L1227.65 717.214 L1207.74 717.214 L1207.74 713.279 Z\" fill=\"#000000\" fill-rule=\"evenodd\" fill-opacity=\"1\" /><path clip-path=\"url(#clip490)\" d=\"M1247.1 685.733 Q1243.48 685.733 1241.66 689.297 Q1239.85 692.839 1239.85 699.969 Q1239.85 707.075 1241.66 710.64 Q1243.48 714.181 1247.1 714.181 Q1250.73 714.181 1252.53 710.64 Q1254.36 707.075 1254.36 699.969 Q1254.36 692.839 1252.53 689.297 Q1250.73 685.733 1247.1 685.733 M1247.1 682.029 Q1252.91 682.029 1255.96 686.635 Q1259.04 691.219 1259.04 699.969 Q1259.04 708.695 1255.96 713.302 Q1252.91 717.885 1247.1 717.885 Q1241.28 717.885 1238.21 713.302 Q1235.15 708.695 1235.15 699.969 Q1235.15 691.219 1238.21 686.635 Q1241.28 682.029 1247.1 682.029 Z\" fill=\"#000000\" fill-rule=\"evenodd\" fill-opacity=\"1\" /><path clip-path=\"url(#clip490)\" d=\"M1737.9 713.279 L1745.54 713.279 L1745.54 686.913 L1737.23 688.58 L1737.23 684.321 L1745.49 682.654 L1750.17 682.654 L1750.17 713.279 L1757.81 713.279 L1757.81 717.214 L1737.9 717.214 L1737.9 713.279 Z\" fill=\"#000000\" fill-rule=\"evenodd\" fill-opacity=\"1\" /><path clip-path=\"url(#clip490)\" d=\"M1767.3 682.654 L1785.65 682.654 L1785.65 686.589 L1771.58 686.589 L1771.58 695.061 Q1772.6 694.714 1773.62 694.552 Q1774.64 694.367 1775.66 694.367 Q1781.44 694.367 1784.82 697.538 Q1788.2 700.709 1788.2 706.126 Q1788.2 711.705 1784.73 714.806 Q1781.26 717.885 1774.94 717.885 Q1772.76 717.885 1770.49 717.515 Q1768.25 717.144 1765.84 716.404 L1765.84 711.705 Q1767.92 712.839 1770.15 713.394 Q1772.37 713.95 1774.84 713.95 Q1778.85 713.95 1781.19 711.844 Q1783.53 709.737 1783.53 706.126 Q1783.53 702.515 1781.19 700.408 Q1778.85 698.302 1774.84 698.302 Q1772.97 698.302 1771.09 698.719 Q1769.24 699.135 1767.3 700.015 L1767.3 682.654 Z\" fill=\"#000000\" fill-rule=\"evenodd\" fill-opacity=\"1\" /><path clip-path=\"url(#clip490)\" d=\"M2271.15 713.279 L2287.47 713.279 L2287.47 717.214 L2265.52 717.214 L2265.52 713.279 Q2268.19 710.524 2272.77 705.894 Q2277.37 701.242 2278.56 699.899 Q2280.8 697.376 2281.68 695.64 Q2282.58 693.881 2282.58 692.191 Q2282.58 689.436 2280.64 687.7 Q2278.72 685.964 2275.62 685.964 Q2273.42 685.964 2270.96 686.728 Q2268.53 687.492 2265.75 689.043 L2265.75 684.321 Q2268.58 683.186 2271.03 682.608 Q2273.49 682.029 2275.52 682.029 Q2280.89 682.029 2284.09 684.714 Q2287.28 687.399 2287.28 691.89 Q2287.28 694.02 2286.47 695.941 Q2285.68 697.839 2283.58 700.432 Q2283 701.103 2279.9 704.32 Q2276.8 707.515 2271.15 713.279 Z\" fill=\"#000000\" fill-rule=\"evenodd\" fill-opacity=\"1\" /><path clip-path=\"url(#clip490)\" d=\"M2307.28 685.733 Q2303.67 685.733 2301.84 689.297 Q2300.04 692.839 2300.04 699.969 Q2300.04 707.075 2301.84 710.64 Q2303.67 714.181 2307.28 714.181 Q2310.92 714.181 2312.72 710.64 Q2314.55 707.075 2314.55 699.969 Q2314.55 692.839 2312.72 689.297 Q2310.92 685.733 2307.28 685.733 M2307.28 682.029 Q2313.09 682.029 2316.15 686.635 Q2319.23 691.219 2319.23 699.969 Q2319.23 708.695 2316.15 713.302 Q2313.09 717.885 2307.28 717.885 Q2301.47 717.885 2298.39 713.302 Q2295.34 708.695 2295.34 699.969 Q2295.34 691.219 2298.39 686.635 Q2301.47 682.029 2307.28 682.029 Z\" fill=\"#000000\" fill-rule=\"evenodd\" fill-opacity=\"1\" /><polyline clip-path=\"url(#clip492)\" style=\"stroke:#000000; stroke-linecap:round; stroke-linejoin:round; stroke-width:8; stroke-opacity:0.1; fill:none\" points=\"219.288,547.461 2352.76,547.461 \"/>\n",
       "<polyline clip-path=\"url(#clip492)\" style=\"stroke:#000000; stroke-linecap:round; stroke-linejoin:round; stroke-width:8; stroke-opacity:0.1; fill:none\" points=\"219.288,409.455 2352.76,409.455 \"/>\n",
       "<polyline clip-path=\"url(#clip492)\" style=\"stroke:#000000; stroke-linecap:round; stroke-linejoin:round; stroke-width:8; stroke-opacity:0.1; fill:none\" points=\"219.288,271.449 2352.76,271.449 \"/>\n",
       "<polyline clip-path=\"url(#clip492)\" style=\"stroke:#000000; stroke-linecap:round; stroke-linejoin:round; stroke-width:8; stroke-opacity:0.1; fill:none\" points=\"219.288,133.443 2352.76,133.443 \"/>\n",
       "<polyline clip-path=\"url(#clip490)\" style=\"stroke:#000000; stroke-linecap:round; stroke-linejoin:round; stroke-width:4; stroke-opacity:1; fill:none\" points=\"219.288,654.814 219.288,47.2441 \"/>\n",
       "<polyline clip-path=\"url(#clip490)\" style=\"stroke:#000000; stroke-linecap:round; stroke-linejoin:round; stroke-width:4; stroke-opacity:1; fill:none\" points=\"219.288,547.461 238.185,547.461 \"/>\n",
       "<polyline clip-path=\"url(#clip490)\" style=\"stroke:#000000; stroke-linecap:round; stroke-linejoin:round; stroke-width:4; stroke-opacity:1; fill:none\" points=\"219.288,409.455 238.185,409.455 \"/>\n",
       "<polyline clip-path=\"url(#clip490)\" style=\"stroke:#000000; stroke-linecap:round; stroke-linejoin:round; stroke-width:4; stroke-opacity:1; fill:none\" points=\"219.288,271.449 238.185,271.449 \"/>\n",
       "<polyline clip-path=\"url(#clip490)\" style=\"stroke:#000000; stroke-linecap:round; stroke-linejoin:round; stroke-width:4; stroke-opacity:1; fill:none\" points=\"219.288,133.443 238.185,133.443 \"/>\n",
       "<path clip-path=\"url(#clip490)\" d=\"M127.015 533.26 Q123.404 533.26 121.575 536.824 Q119.769 540.366 119.769 547.496 Q119.769 554.602 121.575 558.167 Q123.404 561.708 127.015 561.708 Q130.649 561.708 132.455 558.167 Q134.283 554.602 134.283 547.496 Q134.283 540.366 132.455 536.824 Q130.649 533.26 127.015 533.26 M127.015 529.556 Q132.825 529.556 135.88 534.162 Q138.959 538.746 138.959 547.496 Q138.959 556.222 135.88 560.829 Q132.825 565.412 127.015 565.412 Q121.205 565.412 118.126 560.829 Q115.07 556.222 115.07 547.496 Q115.07 538.746 118.126 534.162 Q121.205 529.556 127.015 529.556 Z\" fill=\"#000000\" fill-rule=\"evenodd\" fill-opacity=\"1\" /><path clip-path=\"url(#clip490)\" d=\"M147.177 558.861 L152.061 558.861 L152.061 564.741 L147.177 564.741 L147.177 558.861 Z\" fill=\"#000000\" fill-rule=\"evenodd\" fill-opacity=\"1\" /><path clip-path=\"url(#clip490)\" d=\"M161.065 530.181 L183.288 530.181 L183.288 532.172 L170.741 564.741 L165.857 564.741 L177.663 534.116 L161.065 534.116 L161.065 530.181 Z\" fill=\"#000000\" fill-rule=\"evenodd\" fill-opacity=\"1\" /><path clip-path=\"url(#clip490)\" d=\"M126.205 395.253 Q122.593 395.253 120.765 398.818 Q118.959 402.36 118.959 409.489 Q118.959 416.596 120.765 420.161 Q122.593 423.702 126.205 423.702 Q129.839 423.702 131.644 420.161 Q133.473 416.596 133.473 409.489 Q133.473 402.36 131.644 398.818 Q129.839 395.253 126.205 395.253 M126.205 391.55 Q132.015 391.55 135.07 396.156 Q138.149 400.74 138.149 409.489 Q138.149 418.216 135.07 422.823 Q132.015 427.406 126.205 427.406 Q120.394 427.406 117.316 422.823 Q114.26 418.216 114.26 409.489 Q114.26 400.74 117.316 396.156 Q120.394 391.55 126.205 391.55 Z\" fill=\"#000000\" fill-rule=\"evenodd\" fill-opacity=\"1\" /><path clip-path=\"url(#clip490)\" d=\"M146.366 420.855 L151.251 420.855 L151.251 426.735 L146.366 426.735 L146.366 420.855 Z\" fill=\"#000000\" fill-rule=\"evenodd\" fill-opacity=\"1\" /><path clip-path=\"url(#clip490)\" d=\"M171.436 410.323 Q168.102 410.323 166.181 412.105 Q164.283 413.888 164.283 417.013 Q164.283 420.138 166.181 421.92 Q168.102 423.702 171.436 423.702 Q174.769 423.702 176.69 421.92 Q178.612 420.114 178.612 417.013 Q178.612 413.888 176.69 412.105 Q174.792 410.323 171.436 410.323 M166.76 408.332 Q163.751 407.591 162.061 405.531 Q160.394 403.471 160.394 400.508 Q160.394 396.365 163.334 393.957 Q166.297 391.55 171.436 391.55 Q176.598 391.55 179.538 393.957 Q182.477 396.365 182.477 400.508 Q182.477 403.471 180.788 405.531 Q179.121 407.591 176.135 408.332 Q179.514 409.119 181.389 411.411 Q183.288 413.702 183.288 417.013 Q183.288 422.036 180.209 424.721 Q177.153 427.406 171.436 427.406 Q165.718 427.406 162.64 424.721 Q159.584 422.036 159.584 417.013 Q159.584 413.702 161.482 411.411 Q163.38 409.119 166.76 408.332 M165.047 400.948 Q165.047 403.633 166.714 405.138 Q168.403 406.642 171.436 406.642 Q174.445 406.642 176.135 405.138 Q177.848 403.633 177.848 400.948 Q177.848 398.263 176.135 396.758 Q174.445 395.253 171.436 395.253 Q168.403 395.253 166.714 396.758 Q165.047 398.263 165.047 400.948 Z\" fill=\"#000000\" fill-rule=\"evenodd\" fill-opacity=\"1\" /><path clip-path=\"url(#clip490)\" d=\"M126.297 257.247 Q122.686 257.247 120.857 260.812 Q119.052 264.354 119.052 271.483 Q119.052 278.59 120.857 282.155 Q122.686 285.696 126.297 285.696 Q129.931 285.696 131.737 282.155 Q133.566 278.59 133.566 271.483 Q133.566 264.354 131.737 260.812 Q129.931 257.247 126.297 257.247 M126.297 253.544 Q132.107 253.544 135.163 258.15 Q138.242 262.733 138.242 271.483 Q138.242 280.21 135.163 284.817 Q132.107 289.4 126.297 289.4 Q120.487 289.4 117.408 284.817 Q114.353 280.21 114.353 271.483 Q114.353 262.733 117.408 258.15 Q120.487 253.544 126.297 253.544 Z\" fill=\"#000000\" fill-rule=\"evenodd\" fill-opacity=\"1\" /><path clip-path=\"url(#clip490)\" d=\"M146.459 282.849 L151.343 282.849 L151.343 288.729 L146.459 288.729 L146.459 282.849 Z\" fill=\"#000000\" fill-rule=\"evenodd\" fill-opacity=\"1\" /><path clip-path=\"url(#clip490)\" d=\"M161.667 288.011 L161.667 283.752 Q163.427 284.585 165.232 285.025 Q167.038 285.465 168.774 285.465 Q173.403 285.465 175.834 282.363 Q178.288 279.238 178.635 272.895 Q177.292 274.886 175.232 275.951 Q173.172 277.016 170.672 277.016 Q165.487 277.016 162.454 273.891 Q159.445 270.743 159.445 265.303 Q159.445 259.979 162.593 256.761 Q165.741 253.544 170.973 253.544 Q176.968 253.544 180.116 258.15 Q183.288 262.733 183.288 271.483 Q183.288 279.655 179.399 284.539 Q175.533 289.4 168.982 289.4 Q167.223 289.4 165.417 289.053 Q163.612 288.705 161.667 288.011 M170.973 273.358 Q174.121 273.358 175.95 271.206 Q177.801 269.053 177.801 265.303 Q177.801 261.576 175.95 259.423 Q174.121 257.247 170.973 257.247 Q167.825 257.247 165.973 259.423 Q164.144 261.576 164.144 265.303 Q164.144 269.053 165.973 271.206 Q167.825 273.358 170.973 273.358 Z\" fill=\"#000000\" fill-rule=\"evenodd\" fill-opacity=\"1\" /><path clip-path=\"url(#clip490)\" d=\"M116.922 146.787 L124.561 146.787 L124.561 120.422 L116.251 122.088 L116.251 117.829 L124.515 116.163 L129.191 116.163 L129.191 146.787 L136.829 146.787 L136.829 150.723 L116.922 150.723 L116.922 146.787 Z\" fill=\"#000000\" fill-rule=\"evenodd\" fill-opacity=\"1\" /><path clip-path=\"url(#clip490)\" d=\"M146.274 144.843 L151.158 144.843 L151.158 150.723 L146.274 150.723 L146.274 144.843 Z\" fill=\"#000000\" fill-rule=\"evenodd\" fill-opacity=\"1\" /><path clip-path=\"url(#clip490)\" d=\"M171.343 119.241 Q167.732 119.241 165.903 122.806 Q164.098 126.348 164.098 133.477 Q164.098 140.584 165.903 144.148 Q167.732 147.69 171.343 147.69 Q174.977 147.69 176.783 144.148 Q178.612 140.584 178.612 133.477 Q178.612 126.348 176.783 122.806 Q174.977 119.241 171.343 119.241 M171.343 115.538 Q177.153 115.538 180.209 120.144 Q183.288 124.727 183.288 133.477 Q183.288 142.204 180.209 146.811 Q177.153 151.394 171.343 151.394 Q165.533 151.394 162.454 146.811 Q159.399 142.204 159.399 133.477 Q159.399 124.727 162.454 120.144 Q165.533 115.538 171.343 115.538 Z\" fill=\"#000000\" fill-rule=\"evenodd\" fill-opacity=\"1\" /><path clip-path=\"url(#clip490)\" d=\"M39.4498 406.296 Q39.9007 406.296 40.9635 406.585 L66.1485 412.898 Q71.7523 414.283 75.6814 418.791 Q79.6106 423.268 79.6106 428.357 Q79.6106 431.416 77.9681 433.381 Q76.3578 435.345 73.8779 435.345 Q71.6879 435.345 70.6251 434.186 Q69.5945 433.026 69.5945 431.642 Q69.5945 431.191 69.7234 430.708 Q69.8522 430.224 70.3997 429.709 Q70.9472 429.194 71.8812 429.194 Q73.3948 429.194 74.5864 430.514 Q75.1339 431.158 75.2628 431.77 Q75.3916 432.35 75.3916 433.348 Q76.2934 432.962 76.9053 432.253 Q77.5172 431.545 77.7426 430.74 Q78.0003 429.935 78.0647 429.419 Q78.1613 428.872 78.1613 428.357 Q78.1613 424.234 74.0067 421.078 Q72.7507 420.144 71.4947 419.468 Q70.2709 418.759 68.7572 418.244 Q67.2757 417.729 66.4706 417.503 Q65.6654 417.246 63.8297 416.795 Q66.8248 419.79 66.8248 423.461 Q66.8248 425.007 66.4062 426.392 Q65.9875 427.745 65.1179 428.936 Q64.2162 430.128 62.6381 430.836 Q61.06 431.513 58.9666 431.513 Q56.7444 431.513 53.717 430.643 Q50.6897 429.774 45.1181 427.68 Q41.9941 426.553 40.4804 426.553 Q39.7397 426.553 39.2888 426.714 Q38.8057 426.875 38.6447 427.197 Q38.4515 427.519 38.4193 427.712 Q38.3871 427.873 38.3871 428.195 Q38.3871 430.096 40.3194 431.867 Q42.2518 433.638 46.5673 434.862 Q47.3725 435.12 47.5657 435.281 Q47.759 435.442 47.759 435.925 Q47.7268 436.73 47.0826 436.73 Q46.825 436.73 45.8266 436.44 Q44.796 436.15 43.2823 435.474 Q41.7365 434.765 40.3516 433.799 Q38.9346 432.833 37.9362 431.319 Q36.9378 429.774 36.9378 428.002 Q36.9378 425.587 38.5159 424.105 Q40.0618 422.592 42.3484 422.592 Q43.2823 422.592 44.1197 422.849 Q44.9248 423.075 47.0826 423.912 Q55.7782 427.294 60.0294 427.294 Q61.06 427.294 61.9295 427.133 Q62.7669 426.939 63.6042 426.521 Q64.4094 426.102 64.8925 425.265 Q65.3434 424.395 65.3434 423.204 Q65.3434 421.69 64.6348 420.273 Q63.8941 418.824 62.8957 417.922 Q61.8973 416.988 61.06 416.44 Q60.1904 415.861 59.7395 415.732 L47.8878 412.769 L42.606 411.448 Q39.7397 410.837 39.0312 410.547 Q38.3548 410.16 38.0006 409.484 Q37.6463 408.808 37.6463 408.228 Q37.6463 407.423 38.1294 406.875 Q38.6125 406.296 39.4498 406.296 Z\" fill=\"#000000\" fill-rule=\"evenodd\" fill-opacity=\"1\" /><path clip-path=\"url(#clip490)\" d=\"M82.5735 352.443 L16.6159 352.443 L16.6159 342.491 L18.1296 342.491 L18.1296 348.03 L81.0598 348.03 L81.0598 342.491 L82.5735 342.491 L82.5735 352.443 Z\" fill=\"#000000\" fill-rule=\"evenodd\" fill-opacity=\"1\" /><path clip-path=\"url(#clip490)\" d=\"M48.6607 290.75 Q49.0472 290.364 49.5947 290.364 Q50.1422 290.364 50.5287 290.75 Q50.9151 291.137 50.9151 291.684 L50.9151 332.972 Q50.9151 333.52 50.5287 333.906 Q50.1422 334.292 49.5947 334.292 Q49.0472 334.292 48.6607 333.906 Q48.2743 333.52 48.2743 332.972 L48.2743 291.684 Q48.2743 291.137 48.6607 290.75 Z\" fill=\"#000000\" fill-rule=\"evenodd\" fill-opacity=\"1\" /><path clip-path=\"url(#clip490)\" d=\"M81.0598 283.478 L81.0598 277.939 L18.1296 277.939 L18.1296 283.478 L16.6159 283.478 L16.6159 273.527 L82.5735 273.527 L82.5735 283.478 L81.0598 283.478 Z\" fill=\"#000000\" fill-rule=\"evenodd\" fill-opacity=\"1\" /><polyline clip-path=\"url(#clip492)\" style=\"stroke:#000000; stroke-linecap:round; stroke-linejoin:round; stroke-width:4; stroke-opacity:1; fill:none\" stroke-dasharray=\"2, 4\" points=\"279.669,64.4395 385.601,64.4395 491.533,64.4395 597.464,64.4395 703.396,64.4395 809.328,64.4395 915.26,64.4395 1021.19,64.4395 1127.12,64.4395 1233.06,64.4395 1338.99,64.4395 1444.92,64.4395 1550.85,64.4395 1656.78,64.4395 1762.72,64.4395 1868.65,64.4395 1974.58,64.4395 2080.51,64.4395 2186.44,64.4395 2292.37,64.4395 \"/>\n",
       "<polyline clip-path=\"url(#clip492)\" style=\"stroke:#000000; stroke-linecap:round; stroke-linejoin:round; stroke-width:4; stroke-opacity:1; fill:none\" stroke-dasharray=\"2, 4\" points=\"279.669,64.4395 385.601,64.4395 491.533,64.4395 597.464,64.4395 703.396,64.4395 809.328,64.4395 915.26,64.4395 1021.19,64.4395 1127.12,64.4395 1233.06,64.4395 1338.99,64.4395 1444.92,64.4395 1550.85,64.4395 1656.78,64.4395 1762.72,64.4395 1868.65,64.4395 1974.58,64.4395 2080.51,64.4395 2186.44,64.4395 2292.37,64.4395 \"/>\n",
       "<polyline clip-path=\"url(#clip492)\" style=\"stroke:#000000; stroke-linecap:round; stroke-linejoin:round; stroke-width:12; stroke-opacity:1; fill:none\" points=\"279.669,627.78 385.601,634.414 491.533,568.59 597.464,477.651 703.396,394.996 809.328,332.903 915.26,290.04 1021.19,261.779 1127.12,243.653 1233.06,232.231 1338.99,225.116 1444.92,220.72 1550.85,218.018 1656.78,216.363 1762.72,215.353 1868.65,214.738 1974.58,214.363 2080.51,214.135 2186.44,213.997 2292.37,213.913 \"/>\n",
       "<circle clip-path=\"url(#clip492)\" cx=\"279.669\" cy=\"627.78\" r=\"10.8\" fill=\"#000000\" fill-rule=\"evenodd\" fill-opacity=\"1\" stroke=\"none\"/>\n",
       "<circle clip-path=\"url(#clip492)\" cx=\"385.601\" cy=\"634.414\" r=\"10.8\" fill=\"#000000\" fill-rule=\"evenodd\" fill-opacity=\"1\" stroke=\"none\"/>\n",
       "<circle clip-path=\"url(#clip492)\" cx=\"491.533\" cy=\"568.59\" r=\"10.8\" fill=\"#000000\" fill-rule=\"evenodd\" fill-opacity=\"1\" stroke=\"none\"/>\n",
       "<circle clip-path=\"url(#clip492)\" cx=\"597.464\" cy=\"477.651\" r=\"10.8\" fill=\"#000000\" fill-rule=\"evenodd\" fill-opacity=\"1\" stroke=\"none\"/>\n",
       "<circle clip-path=\"url(#clip492)\" cx=\"703.396\" cy=\"394.996\" r=\"10.8\" fill=\"#000000\" fill-rule=\"evenodd\" fill-opacity=\"1\" stroke=\"none\"/>\n",
       "<circle clip-path=\"url(#clip492)\" cx=\"809.328\" cy=\"332.903\" r=\"10.8\" fill=\"#000000\" fill-rule=\"evenodd\" fill-opacity=\"1\" stroke=\"none\"/>\n",
       "<circle clip-path=\"url(#clip492)\" cx=\"915.26\" cy=\"290.04\" r=\"10.8\" fill=\"#000000\" fill-rule=\"evenodd\" fill-opacity=\"1\" stroke=\"none\"/>\n",
       "<circle clip-path=\"url(#clip492)\" cx=\"1021.19\" cy=\"261.779\" r=\"10.8\" fill=\"#000000\" fill-rule=\"evenodd\" fill-opacity=\"1\" stroke=\"none\"/>\n",
       "<circle clip-path=\"url(#clip492)\" cx=\"1127.12\" cy=\"243.653\" r=\"10.8\" fill=\"#000000\" fill-rule=\"evenodd\" fill-opacity=\"1\" stroke=\"none\"/>\n",
       "<circle clip-path=\"url(#clip492)\" cx=\"1233.06\" cy=\"232.231\" r=\"10.8\" fill=\"#000000\" fill-rule=\"evenodd\" fill-opacity=\"1\" stroke=\"none\"/>\n",
       "<circle clip-path=\"url(#clip492)\" cx=\"1338.99\" cy=\"225.116\" r=\"10.8\" fill=\"#000000\" fill-rule=\"evenodd\" fill-opacity=\"1\" stroke=\"none\"/>\n",
       "<circle clip-path=\"url(#clip492)\" cx=\"1444.92\" cy=\"220.72\" r=\"10.8\" fill=\"#000000\" fill-rule=\"evenodd\" fill-opacity=\"1\" stroke=\"none\"/>\n",
       "<circle clip-path=\"url(#clip492)\" cx=\"1550.85\" cy=\"218.018\" r=\"10.8\" fill=\"#000000\" fill-rule=\"evenodd\" fill-opacity=\"1\" stroke=\"none\"/>\n",
       "<circle clip-path=\"url(#clip492)\" cx=\"1656.78\" cy=\"216.363\" r=\"10.8\" fill=\"#000000\" fill-rule=\"evenodd\" fill-opacity=\"1\" stroke=\"none\"/>\n",
       "<circle clip-path=\"url(#clip492)\" cx=\"1762.72\" cy=\"215.353\" r=\"10.8\" fill=\"#000000\" fill-rule=\"evenodd\" fill-opacity=\"1\" stroke=\"none\"/>\n",
       "<circle clip-path=\"url(#clip492)\" cx=\"1868.65\" cy=\"214.738\" r=\"10.8\" fill=\"#000000\" fill-rule=\"evenodd\" fill-opacity=\"1\" stroke=\"none\"/>\n",
       "<circle clip-path=\"url(#clip492)\" cx=\"1974.58\" cy=\"214.363\" r=\"10.8\" fill=\"#000000\" fill-rule=\"evenodd\" fill-opacity=\"1\" stroke=\"none\"/>\n",
       "<circle clip-path=\"url(#clip492)\" cx=\"2080.51\" cy=\"214.135\" r=\"10.8\" fill=\"#000000\" fill-rule=\"evenodd\" fill-opacity=\"1\" stroke=\"none\"/>\n",
       "<circle clip-path=\"url(#clip492)\" cx=\"2186.44\" cy=\"213.997\" r=\"10.8\" fill=\"#000000\" fill-rule=\"evenodd\" fill-opacity=\"1\" stroke=\"none\"/>\n",
       "<circle clip-path=\"url(#clip492)\" cx=\"2292.37\" cy=\"213.913\" r=\"10.8\" fill=\"#000000\" fill-rule=\"evenodd\" fill-opacity=\"1\" stroke=\"none\"/>\n",
       "<polyline clip-path=\"url(#clip492)\" style=\"stroke:#000000; stroke-linecap:round; stroke-linejoin:round; stroke-width:8; stroke-opacity:0.1; fill:none\" points=\"279.669,627.78 385.601,635.464 491.533,569.199 597.464,477.406 703.396,394.022 809.328,331.454 915.26,288.314 1021.19,259.901 1127.12,241.695 1233.06,230.232 1338.99,223.097 1444.92,218.69 1550.85,215.983 1656.78,214.327 1762.72,213.316 1868.65,212.7 1974.58,212.325 2080.51,212.097 2186.44,211.958 2292.37,211.874 \"/>\n",
       "<polyline clip-path=\"url(#clip492)\" style=\"stroke:#000000; stroke-linecap:round; stroke-linejoin:round; stroke-width:8; stroke-opacity:0.1; fill:none\" points=\"279.669,627.78 385.601,630.813 491.533,566.544 597.464,478.543 703.396,398.355 809.328,337.854 915.26,295.909 1021.19,268.145 1127.12,250.277 1233.06,238.985 1338.99,231.935 1444.92,227.569 1550.85,224.882 1656.78,223.235 1762.72,222.228 1868.65,221.614 1974.58,221.24 2080.51,221.013 2186.44,220.875 2292.37,220.791 \"/>\n",
       "<polyline clip-path=\"url(#clip492)\" style=\"stroke:#000000; stroke-linecap:round; stroke-linejoin:round; stroke-width:8; stroke-opacity:0.1; fill:none\" points=\"279.669,627.78 385.601,631.362 491.533,566.863 597.464,478.413 703.396,397.843 809.328,337.093 915.26,295.002 1021.19,267.157 1127.12,249.248 1233.06,237.934 1338.99,230.873 1444.92,226.502 1550.85,223.813 1656.78,222.164 1762.72,221.157 1868.65,220.543 1974.58,220.169 2080.51,219.941 2186.44,219.803 2292.37,219.719 \"/>\n",
       "<polyline clip-path=\"url(#clip492)\" style=\"stroke:#000000; stroke-linecap:round; stroke-linejoin:round; stroke-width:8; stroke-opacity:0.1; fill:none\" points=\"279.669,627.78 385.601,637.618 491.533,570.393 597.464,476.84 703.396,392 809.328,328.507 915.26,284.84 1021.19,256.146 1127.12,237.797 1233.06,226.262 1338.99,219.092 1444.92,214.669 1550.85,211.954 1656.78,210.294 1762.72,209.281 1868.65,208.664 1974.58,208.289 2080.51,208.061 2186.44,207.923 2292.37,207.839 \"/>\n",
       "<polyline clip-path=\"url(#clip492)\" style=\"stroke:#000000; stroke-linecap:round; stroke-linejoin:round; stroke-width:8; stroke-opacity:0.1; fill:none\" points=\"279.669,627.78 385.601,636.814 491.533,569.95 597.464,477.055 703.396,392.758 809.328,329.608 915.26,286.136 1021.19,257.546 1127.12,239.25 1233.06,227.741 1338.99,220.584 1444.92,216.167 1550.85,213.455 1656.78,211.796 1762.72,210.784 1868.65,210.168 1974.58,209.793 2080.51,209.565 2186.44,209.426 2292.37,209.342 \"/>\n",
       "<path clip-path=\"url(#clip490)\" d=\"M219.288 1423.18 L2352.76 1423.18 L2352.76 815.61 L219.288 815.61  Z\" fill=\"#ffffff\" fill-rule=\"evenodd\" fill-opacity=\"1\"/>\n",
       "<defs>\n",
       "  <clipPath id=\"clip493\">\n",
       "    <rect x=\"219\" y=\"815\" width=\"2134\" height=\"609\"/>\n",
       "  </clipPath>\n",
       "</defs>\n",
       "<polyline clip-path=\"url(#clip493)\" style=\"stroke:#000000; stroke-linecap:round; stroke-linejoin:round; stroke-width:8; stroke-opacity:0.1; fill:none\" points=\"703.396,1423.18 703.396,815.61 \"/>\n",
       "<polyline clip-path=\"url(#clip493)\" style=\"stroke:#000000; stroke-linecap:round; stroke-linejoin:round; stroke-width:8; stroke-opacity:0.1; fill:none\" points=\"1233.06,1423.18 1233.06,815.61 \"/>\n",
       "<polyline clip-path=\"url(#clip493)\" style=\"stroke:#000000; stroke-linecap:round; stroke-linejoin:round; stroke-width:8; stroke-opacity:0.1; fill:none\" points=\"1762.72,1423.18 1762.72,815.61 \"/>\n",
       "<polyline clip-path=\"url(#clip493)\" style=\"stroke:#000000; stroke-linecap:round; stroke-linejoin:round; stroke-width:8; stroke-opacity:0.1; fill:none\" points=\"2292.37,1423.18 2292.37,815.61 \"/>\n",
       "<polyline clip-path=\"url(#clip490)\" style=\"stroke:#000000; stroke-linecap:round; stroke-linejoin:round; stroke-width:4; stroke-opacity:1; fill:none\" points=\"219.288,1423.18 2352.76,1423.18 \"/>\n",
       "<polyline clip-path=\"url(#clip490)\" style=\"stroke:#000000; stroke-linecap:round; stroke-linejoin:round; stroke-width:4; stroke-opacity:1; fill:none\" points=\"703.396,1423.18 703.396,1404.28 \"/>\n",
       "<polyline clip-path=\"url(#clip490)\" style=\"stroke:#000000; stroke-linecap:round; stroke-linejoin:round; stroke-width:4; stroke-opacity:1; fill:none\" points=\"1233.06,1423.18 1233.06,1404.28 \"/>\n",
       "<polyline clip-path=\"url(#clip490)\" style=\"stroke:#000000; stroke-linecap:round; stroke-linejoin:round; stroke-width:4; stroke-opacity:1; fill:none\" points=\"1762.72,1423.18 1762.72,1404.28 \"/>\n",
       "<polyline clip-path=\"url(#clip490)\" style=\"stroke:#000000; stroke-linecap:round; stroke-linejoin:round; stroke-width:4; stroke-opacity:1; fill:none\" points=\"2292.37,1423.18 2292.37,1404.28 \"/>\n",
       "<path clip-path=\"url(#clip490)\" d=\"M693.674 1451.02 L712.031 1451.02 L712.031 1454.96 L697.957 1454.96 L697.957 1463.43 Q698.975 1463.08 699.994 1462.92 Q701.012 1462.73 702.031 1462.73 Q707.818 1462.73 711.197 1465.9 Q714.577 1469.08 714.577 1474.49 Q714.577 1480.07 711.105 1483.17 Q707.632 1486.25 701.313 1486.25 Q699.137 1486.25 696.869 1485.88 Q694.623 1485.51 692.216 1484.77 L692.216 1480.07 Q694.299 1481.2 696.521 1481.76 Q698.744 1482.32 701.22 1482.32 Q705.225 1482.32 707.563 1480.21 Q709.901 1478.1 709.901 1474.49 Q709.901 1470.88 707.563 1468.77 Q705.225 1466.67 701.22 1466.67 Q699.345 1466.67 697.47 1467.08 Q695.619 1467.5 693.674 1468.38 L693.674 1451.02 Z\" fill=\"#000000\" fill-rule=\"evenodd\" fill-opacity=\"1\" /><path clip-path=\"url(#clip490)\" d=\"M1207.74 1481.64 L1215.38 1481.64 L1215.38 1455.28 L1207.07 1456.95 L1207.07 1452.69 L1215.34 1451.02 L1220.01 1451.02 L1220.01 1481.64 L1227.65 1481.64 L1227.65 1485.58 L1207.74 1485.58 L1207.74 1481.64 Z\" fill=\"#000000\" fill-rule=\"evenodd\" fill-opacity=\"1\" /><path clip-path=\"url(#clip490)\" d=\"M1247.1 1454.1 Q1243.48 1454.1 1241.66 1457.66 Q1239.85 1461.2 1239.85 1468.33 Q1239.85 1475.44 1241.66 1479.01 Q1243.48 1482.55 1247.1 1482.55 Q1250.73 1482.55 1252.53 1479.01 Q1254.36 1475.44 1254.36 1468.33 Q1254.36 1461.2 1252.53 1457.66 Q1250.73 1454.1 1247.1 1454.1 M1247.1 1450.39 Q1252.91 1450.39 1255.96 1455 Q1259.04 1459.58 1259.04 1468.33 Q1259.04 1477.06 1255.96 1481.67 Q1252.91 1486.25 1247.1 1486.25 Q1241.28 1486.25 1238.21 1481.67 Q1235.15 1477.06 1235.15 1468.33 Q1235.15 1459.58 1238.21 1455 Q1241.28 1450.39 1247.1 1450.39 Z\" fill=\"#000000\" fill-rule=\"evenodd\" fill-opacity=\"1\" /><path clip-path=\"url(#clip490)\" d=\"M1737.9 1481.64 L1745.54 1481.64 L1745.54 1455.28 L1737.23 1456.95 L1737.23 1452.69 L1745.49 1451.02 L1750.17 1451.02 L1750.17 1481.64 L1757.81 1481.64 L1757.81 1485.58 L1737.9 1485.58 L1737.9 1481.64 Z\" fill=\"#000000\" fill-rule=\"evenodd\" fill-opacity=\"1\" /><path clip-path=\"url(#clip490)\" d=\"M1767.3 1451.02 L1785.65 1451.02 L1785.65 1454.96 L1771.58 1454.96 L1771.58 1463.43 Q1772.6 1463.08 1773.62 1462.92 Q1774.64 1462.73 1775.66 1462.73 Q1781.44 1462.73 1784.82 1465.9 Q1788.2 1469.08 1788.2 1474.49 Q1788.2 1480.07 1784.73 1483.17 Q1781.26 1486.25 1774.94 1486.25 Q1772.76 1486.25 1770.49 1485.88 Q1768.25 1485.51 1765.84 1484.77 L1765.84 1480.07 Q1767.92 1481.2 1770.15 1481.76 Q1772.37 1482.32 1774.84 1482.32 Q1778.85 1482.32 1781.19 1480.21 Q1783.53 1478.1 1783.53 1474.49 Q1783.53 1470.88 1781.19 1468.77 Q1778.85 1466.67 1774.84 1466.67 Q1772.97 1466.67 1771.09 1467.08 Q1769.24 1467.5 1767.3 1468.38 L1767.3 1451.02 Z\" fill=\"#000000\" fill-rule=\"evenodd\" fill-opacity=\"1\" /><path clip-path=\"url(#clip490)\" d=\"M2271.15 1481.64 L2287.47 1481.64 L2287.47 1485.58 L2265.52 1485.58 L2265.52 1481.64 Q2268.19 1478.89 2272.77 1474.26 Q2277.37 1469.61 2278.56 1468.27 Q2280.8 1465.74 2281.68 1464.01 Q2282.58 1462.25 2282.58 1460.56 Q2282.58 1457.8 2280.64 1456.07 Q2278.72 1454.33 2275.62 1454.33 Q2273.42 1454.33 2270.96 1455.09 Q2268.53 1455.86 2265.75 1457.41 L2265.75 1452.69 Q2268.58 1451.55 2271.03 1450.97 Q2273.49 1450.39 2275.52 1450.39 Q2280.89 1450.39 2284.09 1453.08 Q2287.28 1455.77 2287.28 1460.26 Q2287.28 1462.39 2286.47 1464.31 Q2285.68 1466.2 2283.58 1468.8 Q2283 1469.47 2279.9 1472.69 Q2276.8 1475.88 2271.15 1481.64 Z\" fill=\"#000000\" fill-rule=\"evenodd\" fill-opacity=\"1\" /><path clip-path=\"url(#clip490)\" d=\"M2307.28 1454.1 Q2303.67 1454.1 2301.84 1457.66 Q2300.04 1461.2 2300.04 1468.33 Q2300.04 1475.44 2301.84 1479.01 Q2303.67 1482.55 2307.28 1482.55 Q2310.92 1482.55 2312.72 1479.01 Q2314.55 1475.44 2314.55 1468.33 Q2314.55 1461.2 2312.72 1457.66 Q2310.92 1454.1 2307.28 1454.1 M2307.28 1450.39 Q2313.09 1450.39 2316.15 1455 Q2319.23 1459.58 2319.23 1468.33 Q2319.23 1477.06 2316.15 1481.67 Q2313.09 1486.25 2307.28 1486.25 Q2301.47 1486.25 2298.39 1481.67 Q2295.34 1477.06 2295.34 1468.33 Q2295.34 1459.58 2298.39 1455 Q2301.47 1450.39 2307.28 1450.39 Z\" fill=\"#000000\" fill-rule=\"evenodd\" fill-opacity=\"1\" /><path clip-path=\"url(#clip490)\" d=\"M1129 1522.27 L1129 1532.4 L1141.06 1532.4 L1141.06 1536.95 L1129 1536.95 L1129 1556.3 Q1129 1560.66 1130.17 1561.9 Q1131.38 1563.14 1135.04 1563.14 L1141.06 1563.14 L1141.06 1568.04 L1135.04 1568.04 Q1128.26 1568.04 1125.69 1565.53 Q1123.11 1562.98 1123.11 1556.3 L1123.11 1536.95 L1118.81 1536.95 L1118.81 1532.4 L1123.11 1532.4 L1123.11 1522.27 L1129 1522.27 Z\" fill=\"#000000\" fill-rule=\"evenodd\" fill-opacity=\"1\" /><path clip-path=\"url(#clip490)\" d=\"M1148.76 1532.4 L1154.62 1532.4 L1154.62 1568.04 L1148.76 1568.04 L1148.76 1532.4 M1148.76 1518.52 L1154.62 1518.52 L1154.62 1525.93 L1148.76 1525.93 L1148.76 1518.52 Z\" fill=\"#000000\" fill-rule=\"evenodd\" fill-opacity=\"1\" /><path clip-path=\"url(#clip490)\" d=\"M1194.63 1539.24 Q1196.82 1535.29 1199.88 1533.41 Q1202.93 1531.54 1207.07 1531.54 Q1212.64 1531.54 1215.66 1535.45 Q1218.69 1539.33 1218.69 1546.53 L1218.69 1568.04 L1212.8 1568.04 L1212.8 1546.72 Q1212.8 1541.59 1210.99 1539.11 Q1209.17 1536.63 1205.45 1536.63 Q1200.9 1536.63 1198.25 1539.65 Q1195.61 1542.68 1195.61 1547.9 L1195.61 1568.04 L1189.72 1568.04 L1189.72 1546.72 Q1189.72 1541.56 1187.91 1539.11 Q1186.1 1536.63 1182.31 1536.63 Q1177.82 1536.63 1175.18 1539.68 Q1172.54 1542.71 1172.54 1547.9 L1172.54 1568.04 L1166.65 1568.04 L1166.65 1532.4 L1172.54 1532.4 L1172.54 1537.93 Q1174.54 1534.66 1177.34 1533.1 Q1180.14 1531.54 1184 1531.54 Q1187.88 1531.54 1190.58 1533.51 Q1193.32 1535.48 1194.63 1539.24 Z\" fill=\"#000000\" fill-rule=\"evenodd\" fill-opacity=\"1\" /><path clip-path=\"url(#clip490)\" d=\"M1260.86 1548.76 L1260.86 1551.62 L1233.93 1551.62 Q1234.32 1557.67 1237.56 1560.85 Q1240.84 1564 1246.67 1564 Q1250.04 1564 1253.19 1563.17 Q1256.37 1562.35 1259.49 1560.69 L1259.49 1566.23 Q1256.34 1567.57 1253.03 1568.27 Q1249.72 1568.97 1246.32 1568.97 Q1237.79 1568.97 1232.79 1564 Q1227.82 1559.04 1227.82 1550.57 Q1227.82 1541.82 1232.53 1536.69 Q1237.28 1531.54 1245.3 1531.54 Q1252.49 1531.54 1256.66 1536.18 Q1260.86 1540.8 1260.86 1548.76 M1255 1547.04 Q1254.94 1542.23 1252.3 1539.37 Q1249.69 1536.5 1245.36 1536.5 Q1240.46 1536.5 1237.5 1539.27 Q1234.57 1542.04 1234.13 1547.07 L1255 1547.04 Z\" fill=\"#000000\" fill-rule=\"evenodd\" fill-opacity=\"1\" /><path clip-path=\"url(#clip490)\" d=\"M1290.65 1518.52 L1304.15 1518.52 L1304.15 1523.07 L1296.51 1523.07 L1296.51 1572.09 L1304.15 1572.09 L1304.15 1576.64 L1290.65 1576.64 L1290.65 1518.52 Z\" fill=\"#000000\" fill-rule=\"evenodd\" fill-opacity=\"1\" /><path clip-path=\"url(#clip490)\" d=\"M1344.38 1539.24 Q1346.58 1535.29 1349.63 1533.41 Q1352.69 1531.54 1356.82 1531.54 Q1362.39 1531.54 1365.42 1535.45 Q1368.44 1539.33 1368.44 1546.53 L1368.44 1568.04 L1362.55 1568.04 L1362.55 1546.72 Q1362.55 1541.59 1360.74 1539.11 Q1358.92 1536.63 1355.2 1536.63 Q1350.65 1536.63 1348.01 1539.65 Q1345.37 1542.68 1345.37 1547.9 L1345.37 1568.04 L1339.48 1568.04 L1339.48 1546.72 Q1339.48 1541.56 1337.66 1539.11 Q1335.85 1536.63 1332.06 1536.63 Q1327.57 1536.63 1324.93 1539.68 Q1322.29 1542.71 1322.29 1547.9 L1322.29 1568.04 L1316.4 1568.04 L1316.4 1532.4 L1322.29 1532.4 L1322.29 1537.93 Q1324.3 1534.66 1327.1 1533.1 Q1329.9 1531.54 1333.75 1531.54 Q1337.63 1531.54 1340.34 1533.51 Q1343.07 1535.48 1344.38 1539.24 Z\" fill=\"#000000\" fill-rule=\"evenodd\" fill-opacity=\"1\" /><path clip-path=\"url(#clip490)\" d=\"M1380.12 1532.4 L1385.98 1532.4 L1385.98 1568.04 L1380.12 1568.04 L1380.12 1532.4 M1380.12 1518.52 L1385.98 1518.52 L1385.98 1525.93 L1380.12 1525.93 L1380.12 1518.52 Z\" fill=\"#000000\" fill-rule=\"evenodd\" fill-opacity=\"1\" /><path clip-path=\"url(#clip490)\" d=\"M1427.87 1546.53 L1427.87 1568.04 L1422.01 1568.04 L1422.01 1546.72 Q1422.01 1541.66 1420.04 1539.14 Q1418.06 1536.63 1414.12 1536.63 Q1409.37 1536.63 1406.64 1539.65 Q1403.9 1542.68 1403.9 1547.9 L1403.9 1568.04 L1398.01 1568.04 L1398.01 1532.4 L1403.9 1532.4 L1403.9 1537.93 Q1406 1534.72 1408.83 1533.13 Q1411.7 1531.54 1415.42 1531.54 Q1421.56 1531.54 1424.71 1535.36 Q1427.87 1539.14 1427.87 1546.53 Z\" fill=\"#000000\" fill-rule=\"evenodd\" fill-opacity=\"1\" /><path clip-path=\"url(#clip490)\" d=\"M1453.23 1518.52 L1453.23 1576.64 L1439.74 1576.64 L1439.74 1572.09 L1447.34 1572.09 L1447.34 1523.07 L1439.74 1523.07 L1439.74 1518.52 L1453.23 1518.52 Z\" fill=\"#000000\" fill-rule=\"evenodd\" fill-opacity=\"1\" /><polyline clip-path=\"url(#clip493)\" style=\"stroke:#000000; stroke-linecap:round; stroke-linejoin:round; stroke-width:8; stroke-opacity:0.1; fill:none\" points=\"219.288,1315.83 2352.76,1315.83 \"/>\n",
       "<polyline clip-path=\"url(#clip493)\" style=\"stroke:#000000; stroke-linecap:round; stroke-linejoin:round; stroke-width:8; stroke-opacity:0.1; fill:none\" points=\"219.288,1177.82 2352.76,1177.82 \"/>\n",
       "<polyline clip-path=\"url(#clip493)\" style=\"stroke:#000000; stroke-linecap:round; stroke-linejoin:round; stroke-width:8; stroke-opacity:0.1; fill:none\" points=\"219.288,1039.81 2352.76,1039.81 \"/>\n",
       "<polyline clip-path=\"url(#clip493)\" style=\"stroke:#000000; stroke-linecap:round; stroke-linejoin:round; stroke-width:8; stroke-opacity:0.1; fill:none\" points=\"219.288,901.809 2352.76,901.809 \"/>\n",
       "<polyline clip-path=\"url(#clip490)\" style=\"stroke:#000000; stroke-linecap:round; stroke-linejoin:round; stroke-width:4; stroke-opacity:1; fill:none\" points=\"219.288,1423.18 219.288,815.61 \"/>\n",
       "<polyline clip-path=\"url(#clip490)\" style=\"stroke:#000000; stroke-linecap:round; stroke-linejoin:round; stroke-width:4; stroke-opacity:1; fill:none\" points=\"219.288,1315.83 238.185,1315.83 \"/>\n",
       "<polyline clip-path=\"url(#clip490)\" style=\"stroke:#000000; stroke-linecap:round; stroke-linejoin:round; stroke-width:4; stroke-opacity:1; fill:none\" points=\"219.288,1177.82 238.185,1177.82 \"/>\n",
       "<polyline clip-path=\"url(#clip490)\" style=\"stroke:#000000; stroke-linecap:round; stroke-linejoin:round; stroke-width:4; stroke-opacity:1; fill:none\" points=\"219.288,1039.81 238.185,1039.81 \"/>\n",
       "<polyline clip-path=\"url(#clip490)\" style=\"stroke:#000000; stroke-linecap:round; stroke-linejoin:round; stroke-width:4; stroke-opacity:1; fill:none\" points=\"219.288,901.809 238.185,901.809 \"/>\n",
       "<path clip-path=\"url(#clip490)\" d=\"M127.015 1301.63 Q123.404 1301.63 121.575 1305.19 Q119.769 1308.73 119.769 1315.86 Q119.769 1322.97 121.575 1326.53 Q123.404 1330.07 127.015 1330.07 Q130.649 1330.07 132.455 1326.53 Q134.283 1322.97 134.283 1315.86 Q134.283 1308.73 132.455 1305.19 Q130.649 1301.63 127.015 1301.63 M127.015 1297.92 Q132.825 1297.92 135.88 1302.53 Q138.959 1307.11 138.959 1315.86 Q138.959 1324.59 135.88 1329.19 Q132.825 1333.78 127.015 1333.78 Q121.205 1333.78 118.126 1329.19 Q115.07 1324.59 115.07 1315.86 Q115.07 1307.11 118.126 1302.53 Q121.205 1297.92 127.015 1297.92 Z\" fill=\"#000000\" fill-rule=\"evenodd\" fill-opacity=\"1\" /><path clip-path=\"url(#clip490)\" d=\"M147.177 1327.23 L152.061 1327.23 L152.061 1333.11 L147.177 1333.11 L147.177 1327.23 Z\" fill=\"#000000\" fill-rule=\"evenodd\" fill-opacity=\"1\" /><path clip-path=\"url(#clip490)\" d=\"M161.065 1298.55 L183.288 1298.55 L183.288 1300.54 L170.741 1333.11 L165.857 1333.11 L177.663 1302.48 L161.065 1302.48 L161.065 1298.55 Z\" fill=\"#000000\" fill-rule=\"evenodd\" fill-opacity=\"1\" /><path clip-path=\"url(#clip490)\" d=\"M126.205 1163.62 Q122.593 1163.62 120.765 1167.18 Q118.959 1170.73 118.959 1177.86 Q118.959 1184.96 120.765 1188.53 Q122.593 1192.07 126.205 1192.07 Q129.839 1192.07 131.644 1188.53 Q133.473 1184.96 133.473 1177.86 Q133.473 1170.73 131.644 1167.18 Q129.839 1163.62 126.205 1163.62 M126.205 1159.92 Q132.015 1159.92 135.07 1164.52 Q138.149 1169.11 138.149 1177.86 Q138.149 1186.58 135.07 1191.19 Q132.015 1195.77 126.205 1195.77 Q120.394 1195.77 117.316 1191.19 Q114.26 1186.58 114.26 1177.86 Q114.26 1169.11 117.316 1164.52 Q120.394 1159.92 126.205 1159.92 Z\" fill=\"#000000\" fill-rule=\"evenodd\" fill-opacity=\"1\" /><path clip-path=\"url(#clip490)\" d=\"M146.366 1189.22 L151.251 1189.22 L151.251 1195.1 L146.366 1195.1 L146.366 1189.22 Z\" fill=\"#000000\" fill-rule=\"evenodd\" fill-opacity=\"1\" /><path clip-path=\"url(#clip490)\" d=\"M171.436 1178.69 Q168.102 1178.69 166.181 1180.47 Q164.283 1182.25 164.283 1185.38 Q164.283 1188.5 166.181 1190.29 Q168.102 1192.07 171.436 1192.07 Q174.769 1192.07 176.69 1190.29 Q178.612 1188.48 178.612 1185.38 Q178.612 1182.25 176.69 1180.47 Q174.792 1178.69 171.436 1178.69 M166.76 1176.7 Q163.751 1175.96 162.061 1173.9 Q160.394 1171.84 160.394 1168.87 Q160.394 1164.73 163.334 1162.32 Q166.297 1159.92 171.436 1159.92 Q176.598 1159.92 179.538 1162.32 Q182.477 1164.73 182.477 1168.87 Q182.477 1171.84 180.788 1173.9 Q179.121 1175.96 176.135 1176.7 Q179.514 1177.49 181.389 1179.78 Q183.288 1182.07 183.288 1185.38 Q183.288 1190.4 180.209 1193.09 Q177.153 1195.77 171.436 1195.77 Q165.718 1195.77 162.64 1193.09 Q159.584 1190.4 159.584 1185.38 Q159.584 1182.07 161.482 1179.78 Q163.38 1177.49 166.76 1176.7 M165.047 1169.31 Q165.047 1172 166.714 1173.5 Q168.403 1175.01 171.436 1175.01 Q174.445 1175.01 176.135 1173.5 Q177.848 1172 177.848 1169.31 Q177.848 1166.63 176.135 1165.12 Q174.445 1163.62 171.436 1163.62 Q168.403 1163.62 166.714 1165.12 Q165.047 1166.63 165.047 1169.31 Z\" fill=\"#000000\" fill-rule=\"evenodd\" fill-opacity=\"1\" /><path clip-path=\"url(#clip490)\" d=\"M126.297 1025.61 Q122.686 1025.61 120.857 1029.18 Q119.052 1032.72 119.052 1039.85 Q119.052 1046.96 120.857 1050.52 Q122.686 1054.06 126.297 1054.06 Q129.931 1054.06 131.737 1050.52 Q133.566 1046.96 133.566 1039.85 Q133.566 1032.72 131.737 1029.18 Q129.931 1025.61 126.297 1025.61 M126.297 1021.91 Q132.107 1021.91 135.163 1026.52 Q138.242 1031.1 138.242 1039.85 Q138.242 1048.58 135.163 1053.18 Q132.107 1057.77 126.297 1057.77 Q120.487 1057.77 117.408 1053.18 Q114.353 1048.58 114.353 1039.85 Q114.353 1031.1 117.408 1026.52 Q120.487 1021.91 126.297 1021.91 Z\" fill=\"#000000\" fill-rule=\"evenodd\" fill-opacity=\"1\" /><path clip-path=\"url(#clip490)\" d=\"M146.459 1051.22 L151.343 1051.22 L151.343 1057.09 L146.459 1057.09 L146.459 1051.22 Z\" fill=\"#000000\" fill-rule=\"evenodd\" fill-opacity=\"1\" /><path clip-path=\"url(#clip490)\" d=\"M161.667 1056.38 L161.667 1052.12 Q163.427 1052.95 165.232 1053.39 Q167.038 1053.83 168.774 1053.83 Q173.403 1053.83 175.834 1050.73 Q178.288 1047.6 178.635 1041.26 Q177.292 1043.25 175.232 1044.32 Q173.172 1045.38 170.672 1045.38 Q165.487 1045.38 162.454 1042.26 Q159.445 1039.11 159.445 1033.67 Q159.445 1028.34 162.593 1025.13 Q165.741 1021.91 170.973 1021.91 Q176.968 1021.91 180.116 1026.52 Q183.288 1031.1 183.288 1039.85 Q183.288 1048.02 179.399 1052.9 Q175.533 1057.77 168.982 1057.77 Q167.223 1057.77 165.417 1057.42 Q163.612 1057.07 161.667 1056.38 M170.973 1041.72 Q174.121 1041.72 175.95 1039.57 Q177.801 1037.42 177.801 1033.67 Q177.801 1029.94 175.95 1027.79 Q174.121 1025.61 170.973 1025.61 Q167.825 1025.61 165.973 1027.79 Q164.144 1029.94 164.144 1033.67 Q164.144 1037.42 165.973 1039.57 Q167.825 1041.72 170.973 1041.72 Z\" fill=\"#000000\" fill-rule=\"evenodd\" fill-opacity=\"1\" /><path clip-path=\"url(#clip490)\" d=\"M116.922 915.153 L124.561 915.153 L124.561 888.788 L116.251 890.454 L116.251 886.195 L124.515 884.529 L129.191 884.529 L129.191 915.153 L136.829 915.153 L136.829 919.089 L116.922 919.089 L116.922 915.153 Z\" fill=\"#000000\" fill-rule=\"evenodd\" fill-opacity=\"1\" /><path clip-path=\"url(#clip490)\" d=\"M146.274 913.209 L151.158 913.209 L151.158 919.089 L146.274 919.089 L146.274 913.209 Z\" fill=\"#000000\" fill-rule=\"evenodd\" fill-opacity=\"1\" /><path clip-path=\"url(#clip490)\" d=\"M171.343 887.607 Q167.732 887.607 165.903 891.172 Q164.098 894.714 164.098 901.843 Q164.098 908.95 165.903 912.514 Q167.732 916.056 171.343 916.056 Q174.977 916.056 176.783 912.514 Q178.612 908.95 178.612 901.843 Q178.612 894.714 176.783 891.172 Q174.977 887.607 171.343 887.607 M171.343 883.904 Q177.153 883.904 180.209 888.51 Q183.288 893.093 183.288 901.843 Q183.288 910.57 180.209 915.176 Q177.153 919.76 171.343 919.76 Q165.533 919.76 162.454 915.176 Q159.399 910.57 159.399 901.843 Q159.399 893.093 162.454 888.51 Q165.533 883.904 171.343 883.904 Z\" fill=\"#000000\" fill-rule=\"evenodd\" fill-opacity=\"1\" /><path clip-path=\"url(#clip490)\" d=\"M39.4498 1174.66 Q39.9007 1174.66 40.9635 1174.95 L66.1485 1181.26 Q71.7523 1182.65 75.6814 1187.16 Q79.6106 1191.63 79.6106 1196.72 Q79.6106 1199.78 77.9681 1201.75 Q76.3578 1203.71 73.8779 1203.71 Q71.6879 1203.71 70.6251 1202.55 Q69.5945 1201.39 69.5945 1200.01 Q69.5945 1199.56 69.7234 1199.07 Q69.8522 1198.59 70.3997 1198.08 Q70.9472 1197.56 71.8812 1197.56 Q73.3948 1197.56 74.5864 1198.88 Q75.1339 1199.52 75.2628 1200.14 Q75.3916 1200.72 75.3916 1201.71 Q76.2934 1201.33 76.9053 1200.62 Q77.5172 1199.91 77.7426 1199.11 Q78.0003 1198.3 78.0647 1197.79 Q78.1613 1197.24 78.1613 1196.72 Q78.1613 1192.6 74.0067 1189.44 Q72.7507 1188.51 71.4947 1187.83 Q70.2709 1187.13 68.7572 1186.61 Q67.2757 1186.09 66.4706 1185.87 Q65.6654 1185.61 63.8297 1185.16 Q66.8248 1188.16 66.8248 1191.83 Q66.8248 1193.37 66.4062 1194.76 Q65.9875 1196.11 65.1179 1197.3 Q64.2162 1198.49 62.6381 1199.2 Q61.06 1199.88 58.9666 1199.88 Q56.7444 1199.88 53.717 1199.01 Q50.6897 1198.14 45.1181 1196.05 Q41.9941 1194.92 40.4804 1194.92 Q39.7397 1194.92 39.2888 1195.08 Q38.8057 1195.24 38.6447 1195.56 Q38.4515 1195.89 38.4193 1196.08 Q38.3871 1196.24 38.3871 1196.56 Q38.3871 1198.46 40.3194 1200.23 Q42.2518 1202 46.5673 1203.23 Q47.3725 1203.49 47.5657 1203.65 Q47.759 1203.81 47.759 1204.29 Q47.7268 1205.1 47.0826 1205.1 Q46.825 1205.1 45.8266 1204.81 Q44.796 1204.52 43.2823 1203.84 Q41.7365 1203.13 40.3516 1202.17 Q38.9346 1201.2 37.9362 1199.69 Q36.9378 1198.14 36.9378 1196.37 Q36.9378 1193.95 38.5159 1192.47 Q40.0618 1190.96 42.3484 1190.96 Q43.2823 1190.96 44.1197 1191.22 Q44.9248 1191.44 47.0826 1192.28 Q55.7782 1195.66 60.0294 1195.66 Q61.06 1195.66 61.9295 1195.5 Q62.7669 1195.31 63.6042 1194.89 Q64.4094 1194.47 64.8925 1193.63 Q65.3434 1192.76 65.3434 1191.57 Q65.3434 1190.06 64.6348 1188.64 Q63.8941 1187.19 62.8957 1186.29 Q61.8973 1185.35 61.06 1184.81 Q60.1904 1184.23 59.7395 1184.1 L47.8878 1181.13 L42.606 1179.81 Q39.7397 1179.2 39.0312 1178.91 Q38.3548 1178.53 38.0006 1177.85 Q37.6463 1177.17 37.6463 1176.59 Q37.6463 1175.79 38.1294 1175.24 Q38.6125 1174.66 39.4498 1174.66 Z\" fill=\"#000000\" fill-rule=\"evenodd\" fill-opacity=\"1\" /><path clip-path=\"url(#clip490)\" d=\"M82.5735 1120.81 L16.6159 1120.81 L16.6159 1110.86 L18.1296 1110.86 L18.1296 1116.4 L81.0598 1116.4 L81.0598 1110.86 L82.5735 1110.86 L82.5735 1120.81 Z\" fill=\"#000000\" fill-rule=\"evenodd\" fill-opacity=\"1\" /><path clip-path=\"url(#clip490)\" d=\"M48.6607 1059.12 Q49.0472 1058.73 49.5947 1058.73 Q50.1422 1058.73 50.5287 1059.12 Q50.9151 1059.5 50.9151 1060.05 L50.9151 1101.34 Q50.9151 1101.89 50.5287 1102.27 Q50.1422 1102.66 49.5947 1102.66 Q49.0472 1102.66 48.6607 1102.27 Q48.2743 1101.89 48.2743 1101.34 L48.2743 1060.05 Q48.2743 1059.5 48.6607 1059.12 Z\" fill=\"#000000\" fill-rule=\"evenodd\" fill-opacity=\"1\" /><path clip-path=\"url(#clip490)\" d=\"M81.0598 1051.84 L81.0598 1046.3 L18.1296 1046.3 L18.1296 1051.84 L16.6159 1051.84 L16.6159 1041.89 L82.5735 1041.89 L82.5735 1051.84 L81.0598 1051.84 Z\" fill=\"#000000\" fill-rule=\"evenodd\" fill-opacity=\"1\" /><polyline clip-path=\"url(#clip493)\" style=\"stroke:#000000; stroke-linecap:round; stroke-linejoin:round; stroke-width:4; stroke-opacity:1; fill:none\" stroke-dasharray=\"2, 4\" points=\"279.669,832.805 385.601,832.805 491.533,832.805 597.464,832.805 703.396,832.805 809.328,832.805 915.26,832.805 1021.19,832.805 1127.12,832.805 1233.06,832.805 1338.99,832.805 1444.92,832.805 1550.85,832.805 1656.78,832.805 1762.72,832.805 1868.65,832.805 1974.58,832.805 2080.51,832.805 2186.44,832.805 2292.37,832.805 \"/>\n",
       "<polyline clip-path=\"url(#clip493)\" style=\"stroke:#000000; stroke-linecap:round; stroke-linejoin:round; stroke-width:4; stroke-opacity:1; fill:none\" stroke-dasharray=\"2, 4\" points=\"279.669,832.805 385.601,832.805 491.533,832.805 597.464,832.805 703.396,832.805 809.328,832.805 915.26,832.805 1021.19,832.805 1127.12,832.805 1233.06,832.805 1338.99,832.805 1444.92,832.805 1550.85,832.805 1656.78,832.805 1762.72,832.805 1868.65,832.805 1974.58,832.805 2080.51,832.805 2186.44,832.805 2292.37,832.805 \"/>\n",
       "<polyline clip-path=\"url(#clip493)\" style=\"stroke:#000000; stroke-linecap:round; stroke-linejoin:round; stroke-width:12; stroke-opacity:1; fill:none\" stroke-dasharray=\"48, 24, 6, 24\" points=\"279.669,1396.15 385.601,1402.78 491.533,1336.96 597.464,1246.02 703.396,1163.36 809.328,1101.27 915.26,1058.41 1021.19,1030.15 1127.12,1012.07 1233.06,1000.68 1338.99,993.578 1444.92,989.178 1550.85,986.482 1656.78,984.855 1762.72,983.843 1868.65,983.199 1974.58,982.824 2080.51,982.594 2186.44,982.489 2292.37,982.421 \"/>\n",
       "<path clip-path=\"url(#clip493)\" d=\"M267.669 1384.15 L267.669 1408.15 L291.669 1408.15 L291.669 1384.15 L267.669 1384.15 Z\" fill=\"#000000\" fill-rule=\"evenodd\" fill-opacity=\"1\" stroke=\"none\"/>\n",
       "<path clip-path=\"url(#clip493)\" d=\"M373.601 1390.78 L373.601 1414.78 L397.601 1414.78 L397.601 1390.78 L373.601 1390.78 Z\" fill=\"#000000\" fill-rule=\"evenodd\" fill-opacity=\"1\" stroke=\"none\"/>\n",
       "<path clip-path=\"url(#clip493)\" d=\"M479.533 1324.96 L479.533 1348.96 L503.533 1348.96 L503.533 1324.96 L479.533 1324.96 Z\" fill=\"#000000\" fill-rule=\"evenodd\" fill-opacity=\"1\" stroke=\"none\"/>\n",
       "<path clip-path=\"url(#clip493)\" d=\"M585.464 1234.02 L585.464 1258.02 L609.464 1258.02 L609.464 1234.02 L585.464 1234.02 Z\" fill=\"#000000\" fill-rule=\"evenodd\" fill-opacity=\"1\" stroke=\"none\"/>\n",
       "<path clip-path=\"url(#clip493)\" d=\"M691.396 1151.36 L691.396 1175.36 L715.396 1175.36 L715.396 1151.36 L691.396 1151.36 Z\" fill=\"#000000\" fill-rule=\"evenodd\" fill-opacity=\"1\" stroke=\"none\"/>\n",
       "<path clip-path=\"url(#clip493)\" d=\"M797.328 1089.27 L797.328 1113.27 L821.328 1113.27 L821.328 1089.27 L797.328 1089.27 Z\" fill=\"#000000\" fill-rule=\"evenodd\" fill-opacity=\"1\" stroke=\"none\"/>\n",
       "<path clip-path=\"url(#clip493)\" d=\"M903.26 1046.41 L903.26 1070.41 L927.26 1070.41 L927.26 1046.41 L903.26 1046.41 Z\" fill=\"#000000\" fill-rule=\"evenodd\" fill-opacity=\"1\" stroke=\"none\"/>\n",
       "<path clip-path=\"url(#clip493)\" d=\"M1009.19 1018.15 L1009.19 1042.15 L1033.19 1042.15 L1033.19 1018.15 L1009.19 1018.15 Z\" fill=\"#000000\" fill-rule=\"evenodd\" fill-opacity=\"1\" stroke=\"none\"/>\n",
       "<path clip-path=\"url(#clip493)\" d=\"M1115.12 1000.07 L1115.12 1024.07 L1139.12 1024.07 L1139.12 1000.07 L1115.12 1000.07 Z\" fill=\"#000000\" fill-rule=\"evenodd\" fill-opacity=\"1\" stroke=\"none\"/>\n",
       "<path clip-path=\"url(#clip493)\" d=\"M1221.06 988.681 L1221.06 1012.68 L1245.06 1012.68 L1245.06 988.681 L1221.06 988.681 Z\" fill=\"#000000\" fill-rule=\"evenodd\" fill-opacity=\"1\" stroke=\"none\"/>\n",
       "<path clip-path=\"url(#clip493)\" d=\"M1326.99 981.578 L1326.99 1005.58 L1350.99 1005.58 L1350.99 981.578 L1326.99 981.578 Z\" fill=\"#000000\" fill-rule=\"evenodd\" fill-opacity=\"1\" stroke=\"none\"/>\n",
       "<path clip-path=\"url(#clip493)\" d=\"M1432.92 977.178 L1432.92 1001.18 L1456.92 1001.18 L1456.92 977.178 L1432.92 977.178 Z\" fill=\"#000000\" fill-rule=\"evenodd\" fill-opacity=\"1\" stroke=\"none\"/>\n",
       "<path clip-path=\"url(#clip493)\" d=\"M1538.85 974.482 L1538.85 998.482 L1562.85 998.482 L1562.85 974.482 L1538.85 974.482 Z\" fill=\"#000000\" fill-rule=\"evenodd\" fill-opacity=\"1\" stroke=\"none\"/>\n",
       "<path clip-path=\"url(#clip493)\" d=\"M1644.78 972.855 L1644.78 996.855 L1668.78 996.855 L1668.78 972.855 L1644.78 972.855 Z\" fill=\"#000000\" fill-rule=\"evenodd\" fill-opacity=\"1\" stroke=\"none\"/>\n",
       "<path clip-path=\"url(#clip493)\" d=\"M1750.72 971.843 L1750.72 995.843 L1774.72 995.843 L1774.72 971.843 L1750.72 971.843 Z\" fill=\"#000000\" fill-rule=\"evenodd\" fill-opacity=\"1\" stroke=\"none\"/>\n",
       "<path clip-path=\"url(#clip493)\" d=\"M1856.65 971.199 L1856.65 995.199 L1880.65 995.199 L1880.65 971.199 L1856.65 971.199 Z\" fill=\"#000000\" fill-rule=\"evenodd\" fill-opacity=\"1\" stroke=\"none\"/>\n",
       "<path clip-path=\"url(#clip493)\" d=\"M1962.58 970.824 L1962.58 994.824 L1986.58 994.824 L1986.58 970.824 L1962.58 970.824 Z\" fill=\"#000000\" fill-rule=\"evenodd\" fill-opacity=\"1\" stroke=\"none\"/>\n",
       "<path clip-path=\"url(#clip493)\" d=\"M2068.51 970.594 L2068.51 994.594 L2092.51 994.594 L2092.51 970.594 L2068.51 970.594 Z\" fill=\"#000000\" fill-rule=\"evenodd\" fill-opacity=\"1\" stroke=\"none\"/>\n",
       "<path clip-path=\"url(#clip493)\" d=\"M2174.44 970.489 L2174.44 994.489 L2198.44 994.489 L2198.44 970.489 L2174.44 970.489 Z\" fill=\"#000000\" fill-rule=\"evenodd\" fill-opacity=\"1\" stroke=\"none\"/>\n",
       "<path clip-path=\"url(#clip493)\" d=\"M2280.37 970.421 L2280.37 994.421 L2304.37 994.421 L2304.37 970.421 L2280.37 970.421 Z\" fill=\"#000000\" fill-rule=\"evenodd\" fill-opacity=\"1\" stroke=\"none\"/>\n",
       "<polyline clip-path=\"url(#clip493)\" style=\"stroke:#000000; stroke-linecap:round; stroke-linejoin:round; stroke-width:8; stroke-opacity:0.1; fill:none\" points=\"279.669,1396.15 385.601,1403.83 491.533,1337.57 597.464,1245.77 703.396,1162.39 809.328,1099.82 915.26,1056.68 1021.19,1028.27 1127.12,1010.06 1233.06,998.598 1338.99,991.463 1444.92,987.056 1550.85,984.35 1656.78,982.693 1762.72,981.682 1868.65,981.066 1974.58,980.691 2080.51,980.463 2186.44,980.601 2292.37,980.704 \"/>\n",
       "<polyline clip-path=\"url(#clip493)\" style=\"stroke:#000000; stroke-linecap:round; stroke-linejoin:round; stroke-width:8; stroke-opacity:0.1; fill:none\" points=\"279.669,1396.15 385.601,1399.18 491.533,1334.91 597.464,1246.91 703.396,1166.72 809.328,1106.22 915.26,1064.27 1021.19,1036.51 1127.12,1018.64 1233.06,1007.35 1338.99,1000.41 1444.92,996.125 1550.85,993.417 1656.78,991.727 1762.72,990.682 1868.65,990.038 1974.58,989.643 2080.51,989.402 2186.44,989.255 2292.37,989.166 \"/>\n",
       "<polyline clip-path=\"url(#clip493)\" style=\"stroke:#000000; stroke-linecap:round; stroke-linejoin:round; stroke-width:8; stroke-opacity:0.1; fill:none\" points=\"279.669,1396.15 385.601,1399.73 491.533,1335.23 597.464,1246.78 703.396,1166.21 809.328,1105.46 915.26,1063.39 1021.19,1035.56 1127.12,1017.65 1233.06,1006.33 1338.99,999.257 1444.92,994.881 1550.85,992.187 1656.78,990.535 1762.72,989.526 1868.65,988.91 1974.58,988.536 2080.51,988.308 2186.44,988.169 2292.37,988.085 \"/>\n",
       "<polyline clip-path=\"url(#clip493)\" style=\"stroke:#000000; stroke-linecap:round; stroke-linejoin:round; stroke-width:8; stroke-opacity:0.1; fill:none\" points=\"279.669,1396.15 385.601,1405.98 491.533,1338.76 597.464,1245.21 703.396,1160.37 809.328,1096.87 915.26,1053.21 1021.19,1024.51 1127.12,1006.24 1233.06,994.749 1338.99,987.565 1444.92,983.114 1550.85,980.511 1656.78,978.925 1762.72,977.871 1868.65,977.194 1974.58,976.91 2080.51,976.74 2186.44,976.547 2292.37,976.39 \"/>\n",
       "<polyline clip-path=\"url(#clip493)\" style=\"stroke:#000000; stroke-linecap:round; stroke-linejoin:round; stroke-width:8; stroke-opacity:0.1; fill:none\" points=\"279.669,1396.15 385.601,1405.18 491.533,1338.32 597.464,1245.42 703.396,1161.12 809.328,1097.97 915.26,1054.5 1021.19,1025.91 1127.12,1007.78 1233.06,996.382 1338.99,989.192 1444.92,984.712 1550.85,981.944 1656.78,980.393 1762.72,979.453 1868.65,978.787 1974.58,978.342 2080.51,978.055 2186.44,977.873 2292.37,977.76 \"/>\n",
       "</svg>\n"
      ]
     },
     "execution_count": 22,
     "metadata": {},
     "output_type": "execute_result"
    }
   ],
   "source": [
    "mc_plot(L\"y \\quad [-]\",ts,yMean[:,1,:],yPlant,(pUB + y0),(pTrack + y0))\n",
    "\n",
    "#savefig(\"C:/Users/MACC-Jose/Documents/Canada/Papers/Benders Decomposition/Figures/C1_MC_outputs.pdf\");"
   ]
  },
  {
   "cell_type": "code",
   "execution_count": 23,
   "id": "e8fa0dec",
   "metadata": {},
   "outputs": [
    {
     "data": {
      "image/svg+xml": [
       "<?xml version=\"1.0\" encoding=\"utf-8\"?>\n",
       "<svg xmlns=\"http://www.w3.org/2000/svg\" xmlns:xlink=\"http://www.w3.org/1999/xlink\" width=\"600\" height=\"400\" viewBox=\"0 0 2400 1600\">\n",
       "<defs>\n",
       "  <clipPath id=\"clip530\">\n",
       "    <rect x=\"0\" y=\"0\" width=\"2400\" height=\"1600\"/>\n",
       "  </clipPath>\n",
       "</defs>\n",
       "<path clip-path=\"url(#clip530)\" d=\"M0 1600 L2400 1600 L2400 0 L0 0  Z\" fill=\"#ffffff\" fill-rule=\"evenodd\" fill-opacity=\"1\"/>\n",
       "<defs>\n",
       "  <clipPath id=\"clip531\">\n",
       "    <rect x=\"480\" y=\"0\" width=\"1681\" height=\"1600\"/>\n",
       "  </clipPath>\n",
       "</defs>\n",
       "<defs>\n",
       "  <clipPath id=\"clip532\">\n",
       "    <rect x=\"219\" y=\"815\" width=\"2134\" height=\"609\"/>\n",
       "  </clipPath>\n",
       "</defs>\n",
       "<path clip-path=\"url(#clip530)\" d=\"M219.288 1423.18 L2352.76 1423.18 L2352.76 47.2441 L219.288 47.2441  Z\" fill=\"#ffffff\" fill-rule=\"evenodd\" fill-opacity=\"1\"/>\n",
       "<defs>\n",
       "  <clipPath id=\"clip533\">\n",
       "    <rect x=\"219\" y=\"47\" width=\"2134\" height=\"1377\"/>\n",
       "  </clipPath>\n",
       "</defs>\n",
       "<polyline clip-path=\"url(#clip533)\" style=\"stroke:#000000; stroke-linecap:round; stroke-linejoin:round; stroke-width:8; stroke-opacity:0.1; fill:none\" points=\"703.396,1423.18 703.396,47.2441 \"/>\n",
       "<polyline clip-path=\"url(#clip533)\" style=\"stroke:#000000; stroke-linecap:round; stroke-linejoin:round; stroke-width:8; stroke-opacity:0.1; fill:none\" points=\"1233.06,1423.18 1233.06,47.2441 \"/>\n",
       "<polyline clip-path=\"url(#clip533)\" style=\"stroke:#000000; stroke-linecap:round; stroke-linejoin:round; stroke-width:8; stroke-opacity:0.1; fill:none\" points=\"1762.72,1423.18 1762.72,47.2441 \"/>\n",
       "<polyline clip-path=\"url(#clip533)\" style=\"stroke:#000000; stroke-linecap:round; stroke-linejoin:round; stroke-width:8; stroke-opacity:0.1; fill:none\" points=\"2292.37,1423.18 2292.37,47.2441 \"/>\n",
       "<polyline clip-path=\"url(#clip530)\" style=\"stroke:#000000; stroke-linecap:round; stroke-linejoin:round; stroke-width:4; stroke-opacity:1; fill:none\" points=\"219.288,1423.18 2352.76,1423.18 \"/>\n",
       "<polyline clip-path=\"url(#clip530)\" style=\"stroke:#000000; stroke-linecap:round; stroke-linejoin:round; stroke-width:4; stroke-opacity:1; fill:none\" points=\"703.396,1423.18 703.396,1404.28 \"/>\n",
       "<polyline clip-path=\"url(#clip530)\" style=\"stroke:#000000; stroke-linecap:round; stroke-linejoin:round; stroke-width:4; stroke-opacity:1; fill:none\" points=\"1233.06,1423.18 1233.06,1404.28 \"/>\n",
       "<polyline clip-path=\"url(#clip530)\" style=\"stroke:#000000; stroke-linecap:round; stroke-linejoin:round; stroke-width:4; stroke-opacity:1; fill:none\" points=\"1762.72,1423.18 1762.72,1404.28 \"/>\n",
       "<polyline clip-path=\"url(#clip530)\" style=\"stroke:#000000; stroke-linecap:round; stroke-linejoin:round; stroke-width:4; stroke-opacity:1; fill:none\" points=\"2292.37,1423.18 2292.37,1404.28 \"/>\n",
       "<path clip-path=\"url(#clip530)\" d=\"M693.674 1451.02 L712.031 1451.02 L712.031 1454.96 L697.957 1454.96 L697.957 1463.43 Q698.975 1463.08 699.994 1462.92 Q701.012 1462.73 702.031 1462.73 Q707.818 1462.73 711.197 1465.9 Q714.577 1469.08 714.577 1474.49 Q714.577 1480.07 711.105 1483.17 Q707.632 1486.25 701.313 1486.25 Q699.137 1486.25 696.869 1485.88 Q694.623 1485.51 692.216 1484.77 L692.216 1480.07 Q694.299 1481.2 696.521 1481.76 Q698.744 1482.32 701.22 1482.32 Q705.225 1482.32 707.563 1480.21 Q709.901 1478.1 709.901 1474.49 Q709.901 1470.88 707.563 1468.77 Q705.225 1466.67 701.22 1466.67 Q699.345 1466.67 697.47 1467.08 Q695.619 1467.5 693.674 1468.38 L693.674 1451.02 Z\" fill=\"#000000\" fill-rule=\"evenodd\" fill-opacity=\"1\" /><path clip-path=\"url(#clip530)\" d=\"M1207.74 1481.64 L1215.38 1481.64 L1215.38 1455.28 L1207.07 1456.95 L1207.07 1452.69 L1215.34 1451.02 L1220.01 1451.02 L1220.01 1481.64 L1227.65 1481.64 L1227.65 1485.58 L1207.74 1485.58 L1207.74 1481.64 Z\" fill=\"#000000\" fill-rule=\"evenodd\" fill-opacity=\"1\" /><path clip-path=\"url(#clip530)\" d=\"M1247.1 1454.1 Q1243.48 1454.1 1241.66 1457.66 Q1239.85 1461.2 1239.85 1468.33 Q1239.85 1475.44 1241.66 1479.01 Q1243.48 1482.55 1247.1 1482.55 Q1250.73 1482.55 1252.53 1479.01 Q1254.36 1475.44 1254.36 1468.33 Q1254.36 1461.2 1252.53 1457.66 Q1250.73 1454.1 1247.1 1454.1 M1247.1 1450.39 Q1252.91 1450.39 1255.96 1455 Q1259.04 1459.58 1259.04 1468.33 Q1259.04 1477.06 1255.96 1481.67 Q1252.91 1486.25 1247.1 1486.25 Q1241.28 1486.25 1238.21 1481.67 Q1235.15 1477.06 1235.15 1468.33 Q1235.15 1459.58 1238.21 1455 Q1241.28 1450.39 1247.1 1450.39 Z\" fill=\"#000000\" fill-rule=\"evenodd\" fill-opacity=\"1\" /><path clip-path=\"url(#clip530)\" d=\"M1737.9 1481.64 L1745.54 1481.64 L1745.54 1455.28 L1737.23 1456.95 L1737.23 1452.69 L1745.49 1451.02 L1750.17 1451.02 L1750.17 1481.64 L1757.81 1481.64 L1757.81 1485.58 L1737.9 1485.58 L1737.9 1481.64 Z\" fill=\"#000000\" fill-rule=\"evenodd\" fill-opacity=\"1\" /><path clip-path=\"url(#clip530)\" d=\"M1767.3 1451.02 L1785.65 1451.02 L1785.65 1454.96 L1771.58 1454.96 L1771.58 1463.43 Q1772.6 1463.08 1773.62 1462.92 Q1774.64 1462.73 1775.66 1462.73 Q1781.44 1462.73 1784.82 1465.9 Q1788.2 1469.08 1788.2 1474.49 Q1788.2 1480.07 1784.73 1483.17 Q1781.26 1486.25 1774.94 1486.25 Q1772.76 1486.25 1770.49 1485.88 Q1768.25 1485.51 1765.84 1484.77 L1765.84 1480.07 Q1767.92 1481.2 1770.15 1481.76 Q1772.37 1482.32 1774.84 1482.32 Q1778.85 1482.32 1781.19 1480.21 Q1783.53 1478.1 1783.53 1474.49 Q1783.53 1470.88 1781.19 1468.77 Q1778.85 1466.67 1774.84 1466.67 Q1772.97 1466.67 1771.09 1467.08 Q1769.24 1467.5 1767.3 1468.38 L1767.3 1451.02 Z\" fill=\"#000000\" fill-rule=\"evenodd\" fill-opacity=\"1\" /><path clip-path=\"url(#clip530)\" d=\"M2271.15 1481.64 L2287.47 1481.64 L2287.47 1485.58 L2265.52 1485.58 L2265.52 1481.64 Q2268.19 1478.89 2272.77 1474.26 Q2277.37 1469.61 2278.56 1468.27 Q2280.8 1465.74 2281.68 1464.01 Q2282.58 1462.25 2282.58 1460.56 Q2282.58 1457.8 2280.64 1456.07 Q2278.72 1454.33 2275.62 1454.33 Q2273.42 1454.33 2270.96 1455.09 Q2268.53 1455.86 2265.75 1457.41 L2265.75 1452.69 Q2268.58 1451.55 2271.03 1450.97 Q2273.49 1450.39 2275.52 1450.39 Q2280.89 1450.39 2284.09 1453.08 Q2287.28 1455.77 2287.28 1460.26 Q2287.28 1462.39 2286.47 1464.31 Q2285.68 1466.2 2283.58 1468.8 Q2283 1469.47 2279.9 1472.69 Q2276.8 1475.88 2271.15 1481.64 Z\" fill=\"#000000\" fill-rule=\"evenodd\" fill-opacity=\"1\" /><path clip-path=\"url(#clip530)\" d=\"M2307.28 1454.1 Q2303.67 1454.1 2301.84 1457.66 Q2300.04 1461.2 2300.04 1468.33 Q2300.04 1475.44 2301.84 1479.01 Q2303.67 1482.55 2307.28 1482.55 Q2310.92 1482.55 2312.72 1479.01 Q2314.55 1475.44 2314.55 1468.33 Q2314.55 1461.2 2312.72 1457.66 Q2310.92 1454.1 2307.28 1454.1 M2307.28 1450.39 Q2313.09 1450.39 2316.15 1455 Q2319.23 1459.58 2319.23 1468.33 Q2319.23 1477.06 2316.15 1481.67 Q2313.09 1486.25 2307.28 1486.25 Q2301.47 1486.25 2298.39 1481.67 Q2295.34 1477.06 2295.34 1468.33 Q2295.34 1459.58 2298.39 1455 Q2301.47 1450.39 2307.28 1450.39 Z\" fill=\"#000000\" fill-rule=\"evenodd\" fill-opacity=\"1\" /><path clip-path=\"url(#clip530)\" d=\"M1129 1522.27 L1129 1532.4 L1141.06 1532.4 L1141.06 1536.95 L1129 1536.95 L1129 1556.3 Q1129 1560.66 1130.17 1561.9 Q1131.38 1563.14 1135.04 1563.14 L1141.06 1563.14 L1141.06 1568.04 L1135.04 1568.04 Q1128.26 1568.04 1125.69 1565.53 Q1123.11 1562.98 1123.11 1556.3 L1123.11 1536.95 L1118.81 1536.95 L1118.81 1532.4 L1123.11 1532.4 L1123.11 1522.27 L1129 1522.27 Z\" fill=\"#000000\" fill-rule=\"evenodd\" fill-opacity=\"1\" /><path clip-path=\"url(#clip530)\" d=\"M1148.76 1532.4 L1154.62 1532.4 L1154.62 1568.04 L1148.76 1568.04 L1148.76 1532.4 M1148.76 1518.52 L1154.62 1518.52 L1154.62 1525.93 L1148.76 1525.93 L1148.76 1518.52 Z\" fill=\"#000000\" fill-rule=\"evenodd\" fill-opacity=\"1\" /><path clip-path=\"url(#clip530)\" d=\"M1194.63 1539.24 Q1196.82 1535.29 1199.88 1533.41 Q1202.93 1531.54 1207.07 1531.54 Q1212.64 1531.54 1215.66 1535.45 Q1218.69 1539.33 1218.69 1546.53 L1218.69 1568.04 L1212.8 1568.04 L1212.8 1546.72 Q1212.8 1541.59 1210.99 1539.11 Q1209.17 1536.63 1205.45 1536.63 Q1200.9 1536.63 1198.25 1539.65 Q1195.61 1542.68 1195.61 1547.9 L1195.61 1568.04 L1189.72 1568.04 L1189.72 1546.72 Q1189.72 1541.56 1187.91 1539.11 Q1186.1 1536.63 1182.31 1536.63 Q1177.82 1536.63 1175.18 1539.68 Q1172.54 1542.71 1172.54 1547.9 L1172.54 1568.04 L1166.65 1568.04 L1166.65 1532.4 L1172.54 1532.4 L1172.54 1537.93 Q1174.54 1534.66 1177.34 1533.1 Q1180.14 1531.54 1184 1531.54 Q1187.88 1531.54 1190.58 1533.51 Q1193.32 1535.48 1194.63 1539.24 Z\" fill=\"#000000\" fill-rule=\"evenodd\" fill-opacity=\"1\" /><path clip-path=\"url(#clip530)\" d=\"M1260.86 1548.76 L1260.86 1551.62 L1233.93 1551.62 Q1234.32 1557.67 1237.56 1560.85 Q1240.84 1564 1246.67 1564 Q1250.04 1564 1253.19 1563.17 Q1256.37 1562.35 1259.49 1560.69 L1259.49 1566.23 Q1256.34 1567.57 1253.03 1568.27 Q1249.72 1568.97 1246.32 1568.97 Q1237.79 1568.97 1232.79 1564 Q1227.82 1559.04 1227.82 1550.57 Q1227.82 1541.82 1232.53 1536.69 Q1237.28 1531.54 1245.3 1531.54 Q1252.49 1531.54 1256.66 1536.18 Q1260.86 1540.8 1260.86 1548.76 M1255 1547.04 Q1254.94 1542.23 1252.3 1539.37 Q1249.69 1536.5 1245.36 1536.5 Q1240.46 1536.5 1237.5 1539.27 Q1234.57 1542.04 1234.13 1547.07 L1255 1547.04 Z\" fill=\"#000000\" fill-rule=\"evenodd\" fill-opacity=\"1\" /><path clip-path=\"url(#clip530)\" d=\"M1290.65 1518.52 L1304.15 1518.52 L1304.15 1523.07 L1296.51 1523.07 L1296.51 1572.09 L1304.15 1572.09 L1304.15 1576.64 L1290.65 1576.64 L1290.65 1518.52 Z\" fill=\"#000000\" fill-rule=\"evenodd\" fill-opacity=\"1\" /><path clip-path=\"url(#clip530)\" d=\"M1344.38 1539.24 Q1346.58 1535.29 1349.63 1533.41 Q1352.69 1531.54 1356.82 1531.54 Q1362.39 1531.54 1365.42 1535.45 Q1368.44 1539.33 1368.44 1546.53 L1368.44 1568.04 L1362.55 1568.04 L1362.55 1546.72 Q1362.55 1541.59 1360.74 1539.11 Q1358.92 1536.63 1355.2 1536.63 Q1350.65 1536.63 1348.01 1539.65 Q1345.37 1542.68 1345.37 1547.9 L1345.37 1568.04 L1339.48 1568.04 L1339.48 1546.72 Q1339.48 1541.56 1337.66 1539.11 Q1335.85 1536.63 1332.06 1536.63 Q1327.57 1536.63 1324.93 1539.68 Q1322.29 1542.71 1322.29 1547.9 L1322.29 1568.04 L1316.4 1568.04 L1316.4 1532.4 L1322.29 1532.4 L1322.29 1537.93 Q1324.3 1534.66 1327.1 1533.1 Q1329.9 1531.54 1333.75 1531.54 Q1337.63 1531.54 1340.34 1533.51 Q1343.07 1535.48 1344.38 1539.24 Z\" fill=\"#000000\" fill-rule=\"evenodd\" fill-opacity=\"1\" /><path clip-path=\"url(#clip530)\" d=\"M1380.12 1532.4 L1385.98 1532.4 L1385.98 1568.04 L1380.12 1568.04 L1380.12 1532.4 M1380.12 1518.52 L1385.98 1518.52 L1385.98 1525.93 L1380.12 1525.93 L1380.12 1518.52 Z\" fill=\"#000000\" fill-rule=\"evenodd\" fill-opacity=\"1\" /><path clip-path=\"url(#clip530)\" d=\"M1427.87 1546.53 L1427.87 1568.04 L1422.01 1568.04 L1422.01 1546.72 Q1422.01 1541.66 1420.04 1539.14 Q1418.06 1536.63 1414.12 1536.63 Q1409.37 1536.63 1406.64 1539.65 Q1403.9 1542.68 1403.9 1547.9 L1403.9 1568.04 L1398.01 1568.04 L1398.01 1532.4 L1403.9 1532.4 L1403.9 1537.93 Q1406 1534.72 1408.83 1533.13 Q1411.7 1531.54 1415.42 1531.54 Q1421.56 1531.54 1424.71 1535.36 Q1427.87 1539.14 1427.87 1546.53 Z\" fill=\"#000000\" fill-rule=\"evenodd\" fill-opacity=\"1\" /><path clip-path=\"url(#clip530)\" d=\"M1453.23 1518.52 L1453.23 1576.64 L1439.74 1576.64 L1439.74 1572.09 L1447.34 1572.09 L1447.34 1523.07 L1439.74 1523.07 L1439.74 1518.52 L1453.23 1518.52 Z\" fill=\"#000000\" fill-rule=\"evenodd\" fill-opacity=\"1\" /><polyline clip-path=\"url(#clip533)\" style=\"stroke:#000000; stroke-linecap:round; stroke-linejoin:round; stroke-width:8; stroke-opacity:0.1; fill:none\" points=\"219.288,1186.21 2352.76,1186.21 \"/>\n",
       "<polyline clip-path=\"url(#clip533)\" style=\"stroke:#000000; stroke-linecap:round; stroke-linejoin:round; stroke-width:8; stroke-opacity:0.1; fill:none\" points=\"219.288,871.918 2352.76,871.918 \"/>\n",
       "<polyline clip-path=\"url(#clip533)\" style=\"stroke:#000000; stroke-linecap:round; stroke-linejoin:round; stroke-width:8; stroke-opacity:0.1; fill:none\" points=\"219.288,557.625 2352.76,557.625 \"/>\n",
       "<polyline clip-path=\"url(#clip533)\" style=\"stroke:#000000; stroke-linecap:round; stroke-linejoin:round; stroke-width:8; stroke-opacity:0.1; fill:none\" points=\"219.288,243.332 2352.76,243.332 \"/>\n",
       "<polyline clip-path=\"url(#clip530)\" style=\"stroke:#000000; stroke-linecap:round; stroke-linejoin:round; stroke-width:4; stroke-opacity:1; fill:none\" points=\"219.288,1423.18 219.288,47.2441 \"/>\n",
       "<polyline clip-path=\"url(#clip530)\" style=\"stroke:#000000; stroke-linecap:round; stroke-linejoin:round; stroke-width:4; stroke-opacity:1; fill:none\" points=\"219.288,1186.21 238.185,1186.21 \"/>\n",
       "<polyline clip-path=\"url(#clip530)\" style=\"stroke:#000000; stroke-linecap:round; stroke-linejoin:round; stroke-width:4; stroke-opacity:1; fill:none\" points=\"219.288,871.918 238.185,871.918 \"/>\n",
       "<polyline clip-path=\"url(#clip530)\" style=\"stroke:#000000; stroke-linecap:round; stroke-linejoin:round; stroke-width:4; stroke-opacity:1; fill:none\" points=\"219.288,557.625 238.185,557.625 \"/>\n",
       "<polyline clip-path=\"url(#clip530)\" style=\"stroke:#000000; stroke-linecap:round; stroke-linejoin:round; stroke-width:4; stroke-opacity:1; fill:none\" points=\"219.288,243.332 238.185,243.332 \"/>\n",
       "<path clip-path=\"url(#clip530)\" d=\"M127.015 1172.01 Q123.404 1172.01 121.575 1175.58 Q119.769 1179.12 119.769 1186.25 Q119.769 1193.35 121.575 1196.92 Q123.404 1200.46 127.015 1200.46 Q130.649 1200.46 132.455 1196.92 Q134.283 1193.35 134.283 1186.25 Q134.283 1179.12 132.455 1175.58 Q130.649 1172.01 127.015 1172.01 M127.015 1168.31 Q132.825 1168.31 135.88 1172.91 Q138.959 1177.5 138.959 1186.25 Q138.959 1194.97 135.88 1199.58 Q132.825 1204.16 127.015 1204.16 Q121.205 1204.16 118.126 1199.58 Q115.07 1194.97 115.07 1186.25 Q115.07 1177.5 118.126 1172.91 Q121.205 1168.31 127.015 1168.31 Z\" fill=\"#000000\" fill-rule=\"evenodd\" fill-opacity=\"1\" /><path clip-path=\"url(#clip530)\" d=\"M147.177 1197.61 L152.061 1197.61 L152.061 1203.49 L147.177 1203.49 L147.177 1197.61 Z\" fill=\"#000000\" fill-rule=\"evenodd\" fill-opacity=\"1\" /><path clip-path=\"url(#clip530)\" d=\"M161.065 1168.93 L183.288 1168.93 L183.288 1170.92 L170.741 1203.49 L165.857 1203.49 L177.663 1172.87 L161.065 1172.87 L161.065 1168.93 Z\" fill=\"#000000\" fill-rule=\"evenodd\" fill-opacity=\"1\" /><path clip-path=\"url(#clip530)\" d=\"M126.205 857.717 Q122.593 857.717 120.765 861.282 Q118.959 864.824 118.959 871.953 Q118.959 879.06 120.765 882.624 Q122.593 886.166 126.205 886.166 Q129.839 886.166 131.644 882.624 Q133.473 879.06 133.473 871.953 Q133.473 864.824 131.644 861.282 Q129.839 857.717 126.205 857.717 M126.205 854.013 Q132.015 854.013 135.07 858.62 Q138.149 863.203 138.149 871.953 Q138.149 880.68 135.07 885.286 Q132.015 889.87 126.205 889.87 Q120.394 889.87 117.316 885.286 Q114.26 880.68 114.26 871.953 Q114.26 863.203 117.316 858.62 Q120.394 854.013 126.205 854.013 Z\" fill=\"#000000\" fill-rule=\"evenodd\" fill-opacity=\"1\" /><path clip-path=\"url(#clip530)\" d=\"M146.366 883.319 L151.251 883.319 L151.251 889.198 L146.366 889.198 L146.366 883.319 Z\" fill=\"#000000\" fill-rule=\"evenodd\" fill-opacity=\"1\" /><path clip-path=\"url(#clip530)\" d=\"M171.436 872.787 Q168.102 872.787 166.181 874.569 Q164.283 876.351 164.283 879.476 Q164.283 882.601 166.181 884.384 Q168.102 886.166 171.436 886.166 Q174.769 886.166 176.69 884.384 Q178.612 882.578 178.612 879.476 Q178.612 876.351 176.69 874.569 Q174.792 872.787 171.436 872.787 M166.76 870.796 Q163.751 870.055 162.061 867.995 Q160.394 865.935 160.394 862.972 Q160.394 858.828 163.334 856.421 Q166.297 854.013 171.436 854.013 Q176.598 854.013 179.538 856.421 Q182.477 858.828 182.477 862.972 Q182.477 865.935 180.788 867.995 Q179.121 870.055 176.135 870.796 Q179.514 871.583 181.389 873.875 Q183.288 876.166 183.288 879.476 Q183.288 884.499 180.209 887.185 Q177.153 889.87 171.436 889.87 Q165.718 889.87 162.64 887.185 Q159.584 884.499 159.584 879.476 Q159.584 876.166 161.482 873.875 Q163.38 871.583 166.76 870.796 M165.047 863.412 Q165.047 866.097 166.714 867.601 Q168.403 869.106 171.436 869.106 Q174.445 869.106 176.135 867.601 Q177.848 866.097 177.848 863.412 Q177.848 860.726 176.135 859.222 Q174.445 857.717 171.436 857.717 Q168.403 857.717 166.714 859.222 Q165.047 860.726 165.047 863.412 Z\" fill=\"#000000\" fill-rule=\"evenodd\" fill-opacity=\"1\" /><path clip-path=\"url(#clip530)\" d=\"M126.297 543.424 Q122.686 543.424 120.857 546.989 Q119.052 550.53 119.052 557.66 Q119.052 564.767 120.857 568.331 Q122.686 571.873 126.297 571.873 Q129.931 571.873 131.737 568.331 Q133.566 564.767 133.566 557.66 Q133.566 550.53 131.737 546.989 Q129.931 543.424 126.297 543.424 M126.297 539.72 Q132.107 539.72 135.163 544.327 Q138.242 548.91 138.242 557.66 Q138.242 566.387 135.163 570.993 Q132.107 575.577 126.297 575.577 Q120.487 575.577 117.408 570.993 Q114.353 566.387 114.353 557.66 Q114.353 548.91 117.408 544.327 Q120.487 539.72 126.297 539.72 Z\" fill=\"#000000\" fill-rule=\"evenodd\" fill-opacity=\"1\" /><path clip-path=\"url(#clip530)\" d=\"M146.459 569.026 L151.343 569.026 L151.343 574.905 L146.459 574.905 L146.459 569.026 Z\" fill=\"#000000\" fill-rule=\"evenodd\" fill-opacity=\"1\" /><path clip-path=\"url(#clip530)\" d=\"M161.667 574.188 L161.667 569.929 Q163.427 570.762 165.232 571.202 Q167.038 571.641 168.774 571.641 Q173.403 571.641 175.834 568.54 Q178.288 565.415 178.635 559.072 Q177.292 561.063 175.232 562.128 Q173.172 563.192 170.672 563.192 Q165.487 563.192 162.454 560.067 Q159.445 556.919 159.445 551.48 Q159.445 546.156 162.593 542.938 Q165.741 539.72 170.973 539.72 Q176.968 539.72 180.116 544.327 Q183.288 548.91 183.288 557.66 Q183.288 565.831 179.399 570.716 Q175.533 575.577 168.982 575.577 Q167.223 575.577 165.417 575.229 Q163.612 574.882 161.667 574.188 M170.973 559.535 Q174.121 559.535 175.95 557.382 Q177.801 555.23 177.801 551.48 Q177.801 547.753 175.95 545.6 Q174.121 543.424 170.973 543.424 Q167.825 543.424 165.973 545.6 Q164.144 547.753 164.144 551.48 Q164.144 555.23 165.973 557.382 Q167.825 559.535 170.973 559.535 Z\" fill=\"#000000\" fill-rule=\"evenodd\" fill-opacity=\"1\" /><path clip-path=\"url(#clip530)\" d=\"M116.922 256.677 L124.561 256.677 L124.561 230.311 L116.251 231.978 L116.251 227.719 L124.515 226.052 L129.191 226.052 L129.191 256.677 L136.829 256.677 L136.829 260.612 L116.922 260.612 L116.922 256.677 Z\" fill=\"#000000\" fill-rule=\"evenodd\" fill-opacity=\"1\" /><path clip-path=\"url(#clip530)\" d=\"M146.274 254.733 L151.158 254.733 L151.158 260.612 L146.274 260.612 L146.274 254.733 Z\" fill=\"#000000\" fill-rule=\"evenodd\" fill-opacity=\"1\" /><path clip-path=\"url(#clip530)\" d=\"M171.343 229.131 Q167.732 229.131 165.903 232.696 Q164.098 236.237 164.098 243.367 Q164.098 250.473 165.903 254.038 Q167.732 257.58 171.343 257.58 Q174.977 257.58 176.783 254.038 Q178.612 250.473 178.612 243.367 Q178.612 236.237 176.783 232.696 Q174.977 229.131 171.343 229.131 M171.343 225.427 Q177.153 225.427 180.209 230.034 Q183.288 234.617 183.288 243.367 Q183.288 252.094 180.209 256.7 Q177.153 261.284 171.343 261.284 Q165.533 261.284 162.454 256.7 Q159.399 252.094 159.399 243.367 Q159.399 234.617 162.454 230.034 Q165.533 225.427 171.343 225.427 Z\" fill=\"#000000\" fill-rule=\"evenodd\" fill-opacity=\"1\" /><path clip-path=\"url(#clip530)\" d=\"M39.4498 790.479 Q39.9007 790.479 40.9635 790.768 L66.1485 797.081 Q71.7523 798.466 75.6814 802.974 Q79.6106 807.451 79.6106 812.54 Q79.6106 815.599 77.9681 817.564 Q76.3578 819.528 73.8779 819.528 Q71.6879 819.528 70.6251 818.369 Q69.5945 817.209 69.5945 815.825 Q69.5945 815.374 69.7234 814.891 Q69.8522 814.407 70.3997 813.892 Q70.9472 813.377 71.8812 813.377 Q73.3948 813.377 74.5864 814.697 Q75.1339 815.341 75.2628 815.953 Q75.3916 816.533 75.3916 817.531 Q76.2934 817.145 76.9053 816.436 Q77.5172 815.728 77.7426 814.923 Q78.0003 814.118 78.0647 813.602 Q78.1613 813.055 78.1613 812.54 Q78.1613 808.417 74.0067 805.261 Q72.7507 804.327 71.4947 803.651 Q70.2709 802.942 68.7572 802.427 Q67.2757 801.912 66.4706 801.686 Q65.6654 801.428 63.8297 800.978 Q66.8248 803.973 66.8248 807.644 Q66.8248 809.19 66.4062 810.575 Q65.9875 811.928 65.1179 813.119 Q64.2162 814.311 62.6381 815.019 Q61.06 815.696 58.9666 815.696 Q56.7444 815.696 53.717 814.826 Q50.6897 813.957 45.1181 811.863 Q41.9941 810.736 40.4804 810.736 Q39.7397 810.736 39.2888 810.897 Q38.8057 811.058 38.6447 811.38 Q38.4515 811.702 38.4193 811.895 Q38.3871 812.056 38.3871 812.378 Q38.3871 814.279 40.3194 816.05 Q42.2518 817.821 46.5673 819.045 Q47.3725 819.303 47.5657 819.464 Q47.759 819.625 47.759 820.108 Q47.7268 820.913 47.0826 820.913 Q46.825 820.913 45.8266 820.623 Q44.796 820.333 43.2823 819.657 Q41.7365 818.948 40.3516 817.982 Q38.9346 817.016 37.9362 815.502 Q36.9378 813.957 36.9378 812.185 Q36.9378 809.77 38.5159 808.288 Q40.0618 806.775 42.3484 806.775 Q43.2823 806.775 44.1197 807.032 Q44.9248 807.258 47.0826 808.095 Q55.7782 811.477 60.0294 811.477 Q61.06 811.477 61.9295 811.316 Q62.7669 811.122 63.6042 810.704 Q64.4094 810.285 64.8925 809.448 Q65.3434 808.578 65.3434 807.387 Q65.3434 805.873 64.6348 804.456 Q63.8941 803.007 62.8957 802.105 Q61.8973 801.171 61.06 800.623 Q60.1904 800.044 59.7395 799.915 L47.8878 796.952 L42.606 795.631 Q39.7397 795.02 39.0312 794.73 Q38.3548 794.343 38.0006 793.667 Q37.6463 792.991 37.6463 792.411 Q37.6463 791.606 38.1294 791.058 Q38.6125 790.479 39.4498 790.479 Z\" fill=\"#000000\" fill-rule=\"evenodd\" fill-opacity=\"1\" /><path clip-path=\"url(#clip530)\" d=\"M82.5735 736.626 L16.6159 736.626 L16.6159 726.674 L18.1296 726.674 L18.1296 732.213 L81.0598 732.213 L81.0598 726.674 L82.5735 726.674 L82.5735 736.626 Z\" fill=\"#000000\" fill-rule=\"evenodd\" fill-opacity=\"1\" /><path clip-path=\"url(#clip530)\" d=\"M48.6607 674.933 Q49.0472 674.547 49.5947 674.547 Q50.1422 674.547 50.5287 674.933 Q50.9151 675.32 50.9151 675.867 L50.9151 717.155 Q50.9151 717.702 50.5287 718.089 Q50.1422 718.475 49.5947 718.475 Q49.0472 718.475 48.6607 718.089 Q48.2743 717.702 48.2743 717.155 L48.2743 675.867 Q48.2743 675.32 48.6607 674.933 Z\" fill=\"#000000\" fill-rule=\"evenodd\" fill-opacity=\"1\" /><path clip-path=\"url(#clip530)\" d=\"M81.0598 667.661 L81.0598 662.122 L18.1296 662.122 L18.1296 667.661 L16.6159 667.661 L16.6159 657.71 L82.5735 657.71 L82.5735 667.661 L81.0598 667.661 Z\" fill=\"#000000\" fill-rule=\"evenodd\" fill-opacity=\"1\" /><polyline clip-path=\"url(#clip533)\" style=\"stroke:#000000; stroke-linecap:round; stroke-linejoin:round; stroke-width:4; stroke-opacity:1; fill:none\" stroke-dasharray=\"2, 4\" points=\"279.669,86.1857 385.601,86.1857 491.533,86.1857 597.464,86.1857 703.396,86.1857 809.328,86.1857 915.26,86.1857 1021.19,86.1857 1127.12,86.1857 1233.06,86.1857 1338.99,86.1857 1444.92,86.1857 1550.85,86.1857 1656.78,86.1857 1762.72,86.1857 1868.65,86.1857 1974.58,86.1857 2080.51,86.1857 2186.44,86.1857 2292.37,86.1857 \"/>\n",
       "<polyline clip-path=\"url(#clip533)\" style=\"stroke:#000000; stroke-linecap:round; stroke-linejoin:round; stroke-width:4; stroke-opacity:1; fill:none\" stroke-dasharray=\"2, 4\" points=\"279.669,86.1857 385.601,86.1857 491.533,86.1857 597.464,86.1857 703.396,86.1857 809.328,86.1857 915.26,86.1857 1021.19,86.1857 1127.12,86.1857 1233.06,86.1857 1338.99,86.1857 1444.92,86.1857 1550.85,86.1857 1656.78,86.1857 1762.72,86.1857 1868.65,86.1857 1974.58,86.1857 2080.51,86.1857 2186.44,86.1857 2292.37,86.1857 \"/>\n",
       "<polyline clip-path=\"url(#clip533)\" style=\"stroke:#000000; stroke-linecap:round; stroke-linejoin:round; stroke-width:12; stroke-opacity:1; fill:none\" points=\"279.669,1369.13 385.601,1384.24 491.533,1234.33 597.464,1027.23 703.396,838.99 809.328,697.581 915.26,599.965 1021.19,535.604 1127.12,494.325 1233.06,468.311 1338.99,452.108 1444.92,442.096 1550.85,435.942 1656.78,432.175 1762.72,429.875 1868.65,428.473 1974.58,427.62 2080.51,427.101 2186.44,426.786 2292.37,426.594 \"/>\n",
       "<circle clip-path=\"url(#clip533)\" cx=\"279.669\" cy=\"1369.13\" r=\"10.8\" fill=\"#000000\" fill-rule=\"evenodd\" fill-opacity=\"1\" stroke=\"none\"/>\n",
       "<circle clip-path=\"url(#clip533)\" cx=\"385.601\" cy=\"1384.24\" r=\"10.8\" fill=\"#000000\" fill-rule=\"evenodd\" fill-opacity=\"1\" stroke=\"none\"/>\n",
       "<circle clip-path=\"url(#clip533)\" cx=\"491.533\" cy=\"1234.33\" r=\"10.8\" fill=\"#000000\" fill-rule=\"evenodd\" fill-opacity=\"1\" stroke=\"none\"/>\n",
       "<circle clip-path=\"url(#clip533)\" cx=\"597.464\" cy=\"1027.23\" r=\"10.8\" fill=\"#000000\" fill-rule=\"evenodd\" fill-opacity=\"1\" stroke=\"none\"/>\n",
       "<circle clip-path=\"url(#clip533)\" cx=\"703.396\" cy=\"838.99\" r=\"10.8\" fill=\"#000000\" fill-rule=\"evenodd\" fill-opacity=\"1\" stroke=\"none\"/>\n",
       "<circle clip-path=\"url(#clip533)\" cx=\"809.328\" cy=\"697.581\" r=\"10.8\" fill=\"#000000\" fill-rule=\"evenodd\" fill-opacity=\"1\" stroke=\"none\"/>\n",
       "<circle clip-path=\"url(#clip533)\" cx=\"915.26\" cy=\"599.965\" r=\"10.8\" fill=\"#000000\" fill-rule=\"evenodd\" fill-opacity=\"1\" stroke=\"none\"/>\n",
       "<circle clip-path=\"url(#clip533)\" cx=\"1021.19\" cy=\"535.604\" r=\"10.8\" fill=\"#000000\" fill-rule=\"evenodd\" fill-opacity=\"1\" stroke=\"none\"/>\n",
       "<circle clip-path=\"url(#clip533)\" cx=\"1127.12\" cy=\"494.325\" r=\"10.8\" fill=\"#000000\" fill-rule=\"evenodd\" fill-opacity=\"1\" stroke=\"none\"/>\n",
       "<circle clip-path=\"url(#clip533)\" cx=\"1233.06\" cy=\"468.311\" r=\"10.8\" fill=\"#000000\" fill-rule=\"evenodd\" fill-opacity=\"1\" stroke=\"none\"/>\n",
       "<circle clip-path=\"url(#clip533)\" cx=\"1338.99\" cy=\"452.108\" r=\"10.8\" fill=\"#000000\" fill-rule=\"evenodd\" fill-opacity=\"1\" stroke=\"none\"/>\n",
       "<circle clip-path=\"url(#clip533)\" cx=\"1444.92\" cy=\"442.096\" r=\"10.8\" fill=\"#000000\" fill-rule=\"evenodd\" fill-opacity=\"1\" stroke=\"none\"/>\n",
       "<circle clip-path=\"url(#clip533)\" cx=\"1550.85\" cy=\"435.942\" r=\"10.8\" fill=\"#000000\" fill-rule=\"evenodd\" fill-opacity=\"1\" stroke=\"none\"/>\n",
       "<circle clip-path=\"url(#clip533)\" cx=\"1656.78\" cy=\"432.175\" r=\"10.8\" fill=\"#000000\" fill-rule=\"evenodd\" fill-opacity=\"1\" stroke=\"none\"/>\n",
       "<circle clip-path=\"url(#clip533)\" cx=\"1762.72\" cy=\"429.875\" r=\"10.8\" fill=\"#000000\" fill-rule=\"evenodd\" fill-opacity=\"1\" stroke=\"none\"/>\n",
       "<circle clip-path=\"url(#clip533)\" cx=\"1868.65\" cy=\"428.473\" r=\"10.8\" fill=\"#000000\" fill-rule=\"evenodd\" fill-opacity=\"1\" stroke=\"none\"/>\n",
       "<circle clip-path=\"url(#clip533)\" cx=\"1974.58\" cy=\"427.62\" r=\"10.8\" fill=\"#000000\" fill-rule=\"evenodd\" fill-opacity=\"1\" stroke=\"none\"/>\n",
       "<circle clip-path=\"url(#clip533)\" cx=\"2080.51\" cy=\"427.101\" r=\"10.8\" fill=\"#000000\" fill-rule=\"evenodd\" fill-opacity=\"1\" stroke=\"none\"/>\n",
       "<circle clip-path=\"url(#clip533)\" cx=\"2186.44\" cy=\"426.786\" r=\"10.8\" fill=\"#000000\" fill-rule=\"evenodd\" fill-opacity=\"1\" stroke=\"none\"/>\n",
       "<circle clip-path=\"url(#clip533)\" cx=\"2292.37\" cy=\"426.594\" r=\"10.8\" fill=\"#000000\" fill-rule=\"evenodd\" fill-opacity=\"1\" stroke=\"none\"/>\n",
       "<polyline clip-path=\"url(#clip533)\" style=\"stroke:#000000; stroke-linecap:round; stroke-linejoin:round; stroke-width:12; stroke-opacity:1; fill:none\" stroke-dasharray=\"48, 24, 6, 24\" points=\"279.669,1369.13 385.601,1384.24 491.533,1234.33 597.464,1027.23 703.396,838.99 809.328,697.581 915.26,599.976 1021.19,535.622 1127.12,494.449 1233.06,468.504 1338.99,452.327 1444.92,442.305 1550.85,436.166 1656.78,432.46 1762.72,430.156 1868.65,428.69 1974.58,427.837 2080.51,427.311 2186.44,427.073 2292.37,426.918 \"/>\n",
       "<path clip-path=\"url(#clip533)\" d=\"M267.669 1357.13 L267.669 1381.13 L291.669 1381.13 L291.669 1357.13 L267.669 1357.13 Z\" fill=\"#000000\" fill-rule=\"evenodd\" fill-opacity=\"1\" stroke=\"none\"/>\n",
       "<path clip-path=\"url(#clip533)\" d=\"M373.601 1372.24 L373.601 1396.24 L397.601 1396.24 L397.601 1372.24 L373.601 1372.24 Z\" fill=\"#000000\" fill-rule=\"evenodd\" fill-opacity=\"1\" stroke=\"none\"/>\n",
       "<path clip-path=\"url(#clip533)\" d=\"M479.533 1222.33 L479.533 1246.33 L503.533 1246.33 L503.533 1222.33 L479.533 1222.33 Z\" fill=\"#000000\" fill-rule=\"evenodd\" fill-opacity=\"1\" stroke=\"none\"/>\n",
       "<path clip-path=\"url(#clip533)\" d=\"M585.464 1015.23 L585.464 1039.23 L609.464 1039.23 L609.464 1015.23 L585.464 1015.23 Z\" fill=\"#000000\" fill-rule=\"evenodd\" fill-opacity=\"1\" stroke=\"none\"/>\n",
       "<path clip-path=\"url(#clip533)\" d=\"M691.396 826.99 L691.396 850.99 L715.396 850.99 L715.396 826.99 L691.396 826.99 Z\" fill=\"#000000\" fill-rule=\"evenodd\" fill-opacity=\"1\" stroke=\"none\"/>\n",
       "<path clip-path=\"url(#clip533)\" d=\"M797.328 685.581 L797.328 709.581 L821.328 709.581 L821.328 685.581 L797.328 685.581 Z\" fill=\"#000000\" fill-rule=\"evenodd\" fill-opacity=\"1\" stroke=\"none\"/>\n",
       "<path clip-path=\"url(#clip533)\" d=\"M903.26 587.976 L903.26 611.976 L927.26 611.976 L927.26 587.976 L903.26 587.976 Z\" fill=\"#000000\" fill-rule=\"evenodd\" fill-opacity=\"1\" stroke=\"none\"/>\n",
       "<path clip-path=\"url(#clip533)\" d=\"M1009.19 523.622 L1009.19 547.622 L1033.19 547.622 L1033.19 523.622 L1009.19 523.622 Z\" fill=\"#000000\" fill-rule=\"evenodd\" fill-opacity=\"1\" stroke=\"none\"/>\n",
       "<path clip-path=\"url(#clip533)\" d=\"M1115.12 482.449 L1115.12 506.449 L1139.12 506.449 L1139.12 482.449 L1115.12 482.449 Z\" fill=\"#000000\" fill-rule=\"evenodd\" fill-opacity=\"1\" stroke=\"none\"/>\n",
       "<path clip-path=\"url(#clip533)\" d=\"M1221.06 456.504 L1221.06 480.504 L1245.06 480.504 L1245.06 456.504 L1221.06 456.504 Z\" fill=\"#000000\" fill-rule=\"evenodd\" fill-opacity=\"1\" stroke=\"none\"/>\n",
       "<path clip-path=\"url(#clip533)\" d=\"M1326.99 440.327 L1326.99 464.327 L1350.99 464.327 L1350.99 440.327 L1326.99 440.327 Z\" fill=\"#000000\" fill-rule=\"evenodd\" fill-opacity=\"1\" stroke=\"none\"/>\n",
       "<path clip-path=\"url(#clip533)\" d=\"M1432.92 430.305 L1432.92 454.305 L1456.92 454.305 L1456.92 430.305 L1432.92 430.305 Z\" fill=\"#000000\" fill-rule=\"evenodd\" fill-opacity=\"1\" stroke=\"none\"/>\n",
       "<path clip-path=\"url(#clip533)\" d=\"M1538.85 424.166 L1538.85 448.166 L1562.85 448.166 L1562.85 424.166 L1538.85 424.166 Z\" fill=\"#000000\" fill-rule=\"evenodd\" fill-opacity=\"1\" stroke=\"none\"/>\n",
       "<path clip-path=\"url(#clip533)\" d=\"M1644.78 420.46 L1644.78 444.46 L1668.78 444.46 L1668.78 420.46 L1644.78 420.46 Z\" fill=\"#000000\" fill-rule=\"evenodd\" fill-opacity=\"1\" stroke=\"none\"/>\n",
       "<path clip-path=\"url(#clip533)\" d=\"M1750.72 418.156 L1750.72 442.156 L1774.72 442.156 L1774.72 418.156 L1750.72 418.156 Z\" fill=\"#000000\" fill-rule=\"evenodd\" fill-opacity=\"1\" stroke=\"none\"/>\n",
       "<path clip-path=\"url(#clip533)\" d=\"M1856.65 416.69 L1856.65 440.69 L1880.65 440.69 L1880.65 416.69 L1856.65 416.69 Z\" fill=\"#000000\" fill-rule=\"evenodd\" fill-opacity=\"1\" stroke=\"none\"/>\n",
       "<path clip-path=\"url(#clip533)\" d=\"M1962.58 415.837 L1962.58 439.837 L1986.58 439.837 L1986.58 415.837 L1962.58 415.837 Z\" fill=\"#000000\" fill-rule=\"evenodd\" fill-opacity=\"1\" stroke=\"none\"/>\n",
       "<path clip-path=\"url(#clip533)\" d=\"M2068.51 415.311 L2068.51 439.311 L2092.51 439.311 L2092.51 415.311 L2068.51 415.311 Z\" fill=\"#000000\" fill-rule=\"evenodd\" fill-opacity=\"1\" stroke=\"none\"/>\n",
       "<path clip-path=\"url(#clip533)\" d=\"M2174.44 415.073 L2174.44 439.073 L2198.44 439.073 L2198.44 415.073 L2174.44 415.073 Z\" fill=\"#000000\" fill-rule=\"evenodd\" fill-opacity=\"1\" stroke=\"none\"/>\n",
       "<path clip-path=\"url(#clip533)\" d=\"M2280.37 414.918 L2280.37 438.918 L2304.37 438.918 L2304.37 414.918 L2280.37 414.918 Z\" fill=\"#000000\" fill-rule=\"evenodd\" fill-opacity=\"1\" stroke=\"none\"/>\n",
       "<path clip-path=\"url(#clip530)\" d=\"M1934.87 1377.32 L2281.64 1377.32 L2281.64 1169.96 L1934.87 1169.96  Z\" fill=\"#ffffff\" fill-rule=\"evenodd\" fill-opacity=\"1\"/>\n",
       "<polyline clip-path=\"url(#clip530)\" style=\"stroke:#000000; stroke-linecap:round; stroke-linejoin:round; stroke-width:4; stroke-opacity:1; fill:none\" points=\"1934.87,1377.32 2281.64,1377.32 2281.64,1169.96 1934.87,1169.96 1934.87,1377.32 \"/>\n",
       "<polyline clip-path=\"url(#clip530)\" style=\"stroke:#000000; stroke-linecap:round; stroke-linejoin:round; stroke-width:4; stroke-opacity:1; fill:none\" stroke-dasharray=\"2, 4\" points=\"1958.57,1221.8 2100.8,1221.8 \"/>\n",
       "<path clip-path=\"url(#clip530)\" d=\"M2124.51 1204.52 L2129.19 1204.52 L2129.19 1235.14 L2146.01 1235.14 L2146.01 1239.08 L2124.51 1239.08 L2124.51 1204.52 Z\" fill=\"#000000\" fill-rule=\"evenodd\" fill-opacity=\"1\" /><path clip-path=\"url(#clip530)\" d=\"M2150.74 1213.15 L2155 1213.15 L2155 1239.08 L2150.74 1239.08 L2150.74 1213.15 M2150.74 1203.06 L2155 1203.06 L2155 1208.45 L2150.74 1208.45 L2150.74 1203.06 Z\" fill=\"#000000\" fill-rule=\"evenodd\" fill-opacity=\"1\" /><path clip-path=\"url(#clip530)\" d=\"M2184.09 1218.13 Q2185.69 1215.26 2187.91 1213.89 Q2190.13 1212.52 2193.14 1212.52 Q2197.19 1212.52 2199.39 1215.37 Q2201.59 1218.2 2201.59 1223.43 L2201.59 1239.08 L2197.31 1239.08 L2197.31 1223.57 Q2197.31 1219.84 2195.99 1218.03 Q2194.67 1216.23 2191.96 1216.23 Q2188.65 1216.23 2186.73 1218.43 Q2184.81 1220.63 2184.81 1224.42 L2184.81 1239.08 L2180.53 1239.08 L2180.53 1223.57 Q2180.53 1219.82 2179.21 1218.03 Q2177.89 1216.23 2175.13 1216.23 Q2171.87 1216.23 2169.95 1218.45 Q2168.03 1220.65 2168.03 1224.42 L2168.03 1239.08 L2163.75 1239.08 L2163.75 1213.15 L2168.03 1213.15 L2168.03 1217.18 Q2169.49 1214.79 2171.52 1213.66 Q2173.56 1212.52 2176.36 1212.52 Q2179.19 1212.52 2181.15 1213.96 Q2183.14 1215.39 2184.09 1218.13 Z\" fill=\"#000000\" fill-rule=\"evenodd\" fill-opacity=\"1\" /><path clip-path=\"url(#clip530)\" d=\"M2210.09 1213.15 L2214.35 1213.15 L2214.35 1239.08 L2210.09 1239.08 L2210.09 1213.15 M2210.09 1203.06 L2214.35 1203.06 L2214.35 1208.45 L2210.09 1208.45 L2210.09 1203.06 Z\" fill=\"#000000\" fill-rule=\"evenodd\" fill-opacity=\"1\" /><path clip-path=\"url(#clip530)\" d=\"M2227.47 1205.79 L2227.47 1213.15 L2236.25 1213.15 L2236.25 1216.46 L2227.47 1216.46 L2227.47 1230.53 Q2227.47 1233.7 2228.33 1234.61 Q2229.21 1235.51 2231.87 1235.51 L2236.25 1235.51 L2236.25 1239.08 L2231.87 1239.08 Q2226.94 1239.08 2225.06 1237.25 Q2223.19 1235.39 2223.19 1230.53 L2223.19 1216.46 L2220.06 1216.46 L2220.06 1213.15 L2223.19 1213.15 L2223.19 1205.79 L2227.47 1205.79 Z\" fill=\"#000000\" fill-rule=\"evenodd\" fill-opacity=\"1\" /><polyline clip-path=\"url(#clip530)\" style=\"stroke:#000000; stroke-linecap:round; stroke-linejoin:round; stroke-width:12; stroke-opacity:1; fill:none\" points=\"1958.57,1273.64 2100.8,1273.64 \"/>\n",
       "<circle clip-path=\"url(#clip530)\" cx=\"2029.69\" cy=\"1273.64\" r=\"19.7543\" fill=\"#000000\" fill-rule=\"evenodd\" fill-opacity=\"1\" stroke=\"none\"/>\n",
       "<path clip-path=\"url(#clip530)\" d=\"M2124.51 1256.36 L2131.48 1256.36 L2140.3 1279.87 L2149.16 1256.36 L2156.13 1256.36 L2156.13 1290.92 L2151.57 1290.92 L2151.57 1260.57 L2142.66 1284.27 L2137.96 1284.27 L2129.05 1260.57 L2129.05 1290.92 L2124.51 1290.92 L2124.51 1256.36 Z\" fill=\"#000000\" fill-rule=\"evenodd\" fill-opacity=\"1\" /><path clip-path=\"url(#clip530)\" d=\"M2175.27 1267.98 Q2171.85 1267.98 2169.86 1270.66 Q2167.87 1273.32 2167.87 1277.98 Q2167.87 1282.63 2169.83 1285.31 Q2171.82 1287.98 2175.27 1287.98 Q2178.68 1287.98 2180.67 1285.29 Q2182.66 1282.61 2182.66 1277.98 Q2182.66 1273.37 2180.67 1270.68 Q2178.68 1267.98 2175.27 1267.98 M2175.27 1264.36 Q2180.83 1264.36 2184 1267.98 Q2187.17 1271.59 2187.17 1277.98 Q2187.17 1284.34 2184 1287.98 Q2180.83 1291.59 2175.27 1291.59 Q2169.69 1291.59 2166.52 1287.98 Q2163.38 1284.34 2163.38 1277.98 Q2163.38 1271.59 2166.52 1267.98 Q2169.69 1264.36 2175.27 1264.36 Z\" fill=\"#000000\" fill-rule=\"evenodd\" fill-opacity=\"1\" /><path clip-path=\"url(#clip530)\" d=\"M2215.78 1275.27 L2215.78 1290.92 L2211.52 1290.92 L2211.52 1275.41 Q2211.52 1271.73 2210.09 1269.9 Q2208.65 1268.07 2205.78 1268.07 Q2202.33 1268.07 2200.34 1270.27 Q2198.35 1272.47 2198.35 1276.26 L2198.35 1290.92 L2194.07 1290.92 L2194.07 1264.99 L2198.35 1264.99 L2198.35 1269.02 Q2199.88 1266.68 2201.94 1265.52 Q2204.02 1264.36 2206.73 1264.36 Q2211.2 1264.36 2213.49 1267.14 Q2215.78 1269.9 2215.78 1275.27 Z\" fill=\"#000000\" fill-rule=\"evenodd\" fill-opacity=\"1\" /><path clip-path=\"url(#clip530)\" d=\"M2234.32 1267.98 Q2230.9 1267.98 2228.91 1270.66 Q2226.92 1273.32 2226.92 1277.98 Q2226.92 1282.63 2228.88 1285.31 Q2230.88 1287.98 2234.32 1287.98 Q2237.73 1287.98 2239.72 1285.29 Q2241.71 1282.61 2241.71 1277.98 Q2241.71 1273.37 2239.72 1270.68 Q2237.73 1267.98 2234.32 1267.98 M2234.32 1264.36 Q2239.88 1264.36 2243.05 1267.98 Q2246.22 1271.59 2246.22 1277.98 Q2246.22 1284.34 2243.05 1287.98 Q2239.88 1291.59 2234.32 1291.59 Q2228.75 1291.59 2225.57 1287.98 Q2222.43 1284.34 2222.43 1277.98 Q2222.43 1271.59 2225.57 1267.98 Q2228.75 1264.36 2234.32 1264.36 Z\" fill=\"#000000\" fill-rule=\"evenodd\" fill-opacity=\"1\" /><path clip-path=\"url(#clip530)\" d=\"M2253.05 1285.04 L2257.94 1285.04 L2257.94 1290.92 L2253.05 1290.92 L2253.05 1285.04 Z\" fill=\"#000000\" fill-rule=\"evenodd\" fill-opacity=\"1\" /><polyline clip-path=\"url(#clip530)\" style=\"stroke:#000000; stroke-linecap:round; stroke-linejoin:round; stroke-width:12; stroke-opacity:1; fill:none\" stroke-dasharray=\"48, 24, 6, 24\" points=\"1958.57,1325.48 2100.8,1325.48 \"/>\n",
       "<path clip-path=\"url(#clip530)\" d=\"M2007.74 1303.53 L2007.74 1347.42 L2051.64 1347.42 L2051.64 1303.53 L2007.74 1303.53 Z\" fill=\"#000000\" fill-rule=\"evenodd\" fill-opacity=\"1\" stroke=\"none\"/>\n",
       "<path clip-path=\"url(#clip530)\" d=\"M2129.19 1312.04 L2129.19 1338.91 L2134.83 1338.91 Q2141.99 1338.91 2145.3 1335.67 Q2148.63 1332.43 2148.63 1325.44 Q2148.63 1318.5 2145.3 1315.28 Q2141.99 1312.04 2134.83 1312.04 L2129.19 1312.04 M2124.51 1308.2 L2134.12 1308.2 Q2144.16 1308.2 2148.86 1312.39 Q2153.56 1316.55 2153.56 1325.44 Q2153.56 1334.38 2148.84 1338.57 Q2144.12 1342.76 2134.12 1342.76 L2124.51 1342.76 L2124.51 1308.2 Z\" fill=\"#000000\" fill-rule=\"evenodd\" fill-opacity=\"1\" /><path clip-path=\"url(#clip530)\" d=\"M2183 1328.73 L2183 1330.81 L2163.42 1330.81 Q2163.7 1335.21 2166.06 1337.52 Q2168.44 1339.82 2172.68 1339.82 Q2175.13 1339.82 2177.43 1339.21 Q2179.74 1338.61 2182.01 1337.41 L2182.01 1341.44 Q2179.72 1342.41 2177.31 1342.92 Q2174.9 1343.43 2172.43 1343.43 Q2166.22 1343.43 2162.59 1339.82 Q2158.98 1336.2 2158.98 1330.05 Q2158.98 1323.68 2162.4 1319.95 Q2165.85 1316.2 2171.69 1316.2 Q2176.92 1316.2 2179.95 1319.58 Q2183 1322.94 2183 1328.73 M2178.75 1327.48 Q2178.7 1323.98 2176.78 1321.9 Q2174.88 1319.82 2171.73 1319.82 Q2168.17 1319.82 2166.01 1321.83 Q2163.88 1323.84 2163.56 1327.5 L2178.75 1327.48 Z\" fill=\"#000000\" fill-rule=\"evenodd\" fill-opacity=\"1\" /><path clip-path=\"url(#clip530)\" d=\"M2208.65 1317.82 L2208.65 1321.81 Q2206.85 1320.81 2205.02 1320.32 Q2203.21 1319.82 2201.36 1319.82 Q2197.22 1319.82 2194.93 1322.45 Q2192.63 1325.07 2192.63 1329.82 Q2192.63 1334.56 2194.93 1337.2 Q2197.22 1339.82 2201.36 1339.82 Q2203.21 1339.82 2205.02 1339.33 Q2206.85 1338.82 2208.65 1337.82 L2208.65 1341.76 Q2206.87 1342.59 2204.95 1343.01 Q2203.05 1343.43 2200.9 1343.43 Q2195.04 1343.43 2191.59 1339.75 Q2188.14 1336.07 2188.14 1329.82 Q2188.14 1323.47 2191.62 1319.84 Q2195.11 1316.2 2201.18 1316.2 Q2203.14 1316.2 2205.02 1316.62 Q2206.89 1317.01 2208.65 1317.82 Z\" fill=\"#000000\" fill-rule=\"evenodd\" fill-opacity=\"1\" /><path clip-path=\"url(#clip530)\" d=\"M2226.11 1319.82 Q2222.68 1319.82 2220.69 1322.5 Q2218.7 1325.16 2218.7 1329.82 Q2218.7 1334.47 2220.67 1337.15 Q2222.66 1339.82 2226.11 1339.82 Q2229.51 1339.82 2231.5 1337.13 Q2233.49 1334.45 2233.49 1329.82 Q2233.49 1325.21 2231.5 1322.52 Q2229.51 1319.82 2226.11 1319.82 M2226.11 1316.2 Q2231.66 1316.2 2234.83 1319.82 Q2238 1323.43 2238 1329.82 Q2238 1336.18 2234.83 1339.82 Q2231.66 1343.43 2226.11 1343.43 Q2220.53 1343.43 2217.36 1339.82 Q2214.21 1336.18 2214.21 1329.82 Q2214.21 1323.43 2217.36 1319.82 Q2220.53 1316.2 2226.11 1316.2 Z\" fill=\"#000000\" fill-rule=\"evenodd\" fill-opacity=\"1\" /><path clip-path=\"url(#clip530)\" d=\"M2244.83 1336.88 L2249.72 1336.88 L2249.72 1342.76 L2244.83 1342.76 L2244.83 1336.88 Z\" fill=\"#000000\" fill-rule=\"evenodd\" fill-opacity=\"1\" /></svg>\n"
      ]
     },
     "execution_count": 23,
     "metadata": {},
     "output_type": "execute_result"
    }
   ],
   "source": [
    "mc_comp(L\"y \\quad [-]\",ts,yMean[:,1,:],(pUB + y0),(pTrack + y0))"
   ]
  },
  {
   "cell_type": "markdown",
   "id": "45433edb",
   "metadata": {},
   "source": [
    "Input"
   ]
  },
  {
   "cell_type": "code",
   "execution_count": 24,
   "id": "70daa149",
   "metadata": {},
   "outputs": [
    {
     "data": {
      "image/svg+xml": [
       "<?xml version=\"1.0\" encoding=\"utf-8\"?>\n",
       "<svg xmlns=\"http://www.w3.org/2000/svg\" xmlns:xlink=\"http://www.w3.org/1999/xlink\" width=\"600\" height=\"400\" viewBox=\"0 0 2400 1600\">\n",
       "<defs>\n",
       "  <clipPath id=\"clip570\">\n",
       "    <rect x=\"0\" y=\"0\" width=\"2400\" height=\"1600\"/>\n",
       "  </clipPath>\n",
       "</defs>\n",
       "<path clip-path=\"url(#clip570)\" d=\"M0 1600 L2400 1600 L2400 0 L0 0  Z\" fill=\"#ffffff\" fill-rule=\"evenodd\" fill-opacity=\"1\"/>\n",
       "<defs>\n",
       "  <clipPath id=\"clip571\">\n",
       "    <rect x=\"480\" y=\"0\" width=\"1681\" height=\"1600\"/>\n",
       "  </clipPath>\n",
       "</defs>\n",
       "<defs>\n",
       "  <clipPath id=\"clip572\">\n",
       "    <rect x=\"219\" y=\"47\" width=\"2134\" height=\"1377\"/>\n",
       "  </clipPath>\n",
       "</defs>\n",
       "<path clip-path=\"url(#clip570)\" d=\"M217.783 654.814 L2352.76 654.814 L2352.76 47.2441 L217.783 47.2441  Z\" fill=\"#ffffff\" fill-rule=\"evenodd\" fill-opacity=\"1\"/>\n",
       "<defs>\n",
       "  <clipPath id=\"clip573\">\n",
       "    <rect x=\"217\" y=\"47\" width=\"2136\" height=\"609\"/>\n",
       "  </clipPath>\n",
       "</defs>\n",
       "<polyline clip-path=\"url(#clip573)\" style=\"stroke:#000000; stroke-linecap:round; stroke-linejoin:round; stroke-width:8; stroke-opacity:0.1; fill:none\" points=\"702.233,654.814 702.233,47.2441 \"/>\n",
       "<polyline clip-path=\"url(#clip573)\" style=\"stroke:#000000; stroke-linecap:round; stroke-linejoin:round; stroke-width:8; stroke-opacity:0.1; fill:none\" points=\"1232.27,654.814 1232.27,47.2441 \"/>\n",
       "<polyline clip-path=\"url(#clip573)\" style=\"stroke:#000000; stroke-linecap:round; stroke-linejoin:round; stroke-width:8; stroke-opacity:0.1; fill:none\" points=\"1762.3,654.814 1762.3,47.2441 \"/>\n",
       "<polyline clip-path=\"url(#clip573)\" style=\"stroke:#000000; stroke-linecap:round; stroke-linejoin:round; stroke-width:8; stroke-opacity:0.1; fill:none\" points=\"2292.33,654.814 2292.33,47.2441 \"/>\n",
       "<polyline clip-path=\"url(#clip570)\" style=\"stroke:#000000; stroke-linecap:round; stroke-linejoin:round; stroke-width:4; stroke-opacity:1; fill:none\" points=\"217.783,654.814 2352.76,654.814 \"/>\n",
       "<polyline clip-path=\"url(#clip570)\" style=\"stroke:#000000; stroke-linecap:round; stroke-linejoin:round; stroke-width:4; stroke-opacity:1; fill:none\" points=\"702.233,654.814 702.233,635.916 \"/>\n",
       "<polyline clip-path=\"url(#clip570)\" style=\"stroke:#000000; stroke-linecap:round; stroke-linejoin:round; stroke-width:4; stroke-opacity:1; fill:none\" points=\"1232.27,654.814 1232.27,635.916 \"/>\n",
       "<polyline clip-path=\"url(#clip570)\" style=\"stroke:#000000; stroke-linecap:round; stroke-linejoin:round; stroke-width:4; stroke-opacity:1; fill:none\" points=\"1762.3,654.814 1762.3,635.916 \"/>\n",
       "<polyline clip-path=\"url(#clip570)\" style=\"stroke:#000000; stroke-linecap:round; stroke-linejoin:round; stroke-width:4; stroke-opacity:1; fill:none\" points=\"2292.33,654.814 2292.33,635.916 \"/>\n",
       "<path clip-path=\"url(#clip570)\" d=\"M692.511 682.654 L710.867 682.654 L710.867 686.589 L696.793 686.589 L696.793 695.061 Q697.812 694.714 698.83 694.552 Q699.849 694.367 700.867 694.367 Q706.654 694.367 710.034 697.538 Q713.414 700.709 713.414 706.126 Q713.414 711.705 709.941 714.806 Q706.469 717.885 700.15 717.885 Q697.974 717.885 695.705 717.515 Q693.46 717.144 691.053 716.404 L691.053 711.705 Q693.136 712.839 695.358 713.394 Q697.58 713.95 700.057 713.95 Q704.062 713.95 706.4 711.844 Q708.738 709.737 708.738 706.126 Q708.738 702.515 706.4 700.408 Q704.062 698.302 700.057 698.302 Q698.182 698.302 696.307 698.719 Q694.455 699.135 692.511 700.015 L692.511 682.654 Z\" fill=\"#000000\" fill-rule=\"evenodd\" fill-opacity=\"1\" /><path clip-path=\"url(#clip570)\" d=\"M1206.95 713.279 L1214.59 713.279 L1214.59 686.913 L1206.28 688.58 L1206.28 684.321 L1214.55 682.654 L1219.22 682.654 L1219.22 713.279 L1226.86 713.279 L1226.86 717.214 L1206.95 717.214 L1206.95 713.279 Z\" fill=\"#000000\" fill-rule=\"evenodd\" fill-opacity=\"1\" /><path clip-path=\"url(#clip570)\" d=\"M1246.31 685.733 Q1242.69 685.733 1240.87 689.297 Q1239.06 692.839 1239.06 699.969 Q1239.06 707.075 1240.87 710.64 Q1242.69 714.181 1246.31 714.181 Q1249.94 714.181 1251.75 710.64 Q1253.57 707.075 1253.57 699.969 Q1253.57 692.839 1251.75 689.297 Q1249.94 685.733 1246.31 685.733 M1246.31 682.029 Q1252.12 682.029 1255.17 686.635 Q1258.25 691.219 1258.25 699.969 Q1258.25 708.695 1255.17 713.302 Q1252.12 717.885 1246.31 717.885 Q1240.5 717.885 1237.42 713.302 Q1234.36 708.695 1234.36 699.969 Q1234.36 691.219 1237.42 686.635 Q1240.5 682.029 1246.31 682.029 Z\" fill=\"#000000\" fill-rule=\"evenodd\" fill-opacity=\"1\" /><path clip-path=\"url(#clip570)\" d=\"M1737.48 713.279 L1745.12 713.279 L1745.12 686.913 L1736.81 688.58 L1736.81 684.321 L1745.08 682.654 L1749.75 682.654 L1749.75 713.279 L1757.39 713.279 L1757.39 717.214 L1737.48 717.214 L1737.48 713.279 Z\" fill=\"#000000\" fill-rule=\"evenodd\" fill-opacity=\"1\" /><path clip-path=\"url(#clip570)\" d=\"M1766.88 682.654 L1785.24 682.654 L1785.24 686.589 L1771.16 686.589 L1771.16 695.061 Q1772.18 694.714 1773.2 694.552 Q1774.22 694.367 1775.24 694.367 Q1781.03 694.367 1784.41 697.538 Q1787.79 700.709 1787.79 706.126 Q1787.79 711.705 1784.31 714.806 Q1780.84 717.885 1774.52 717.885 Q1772.35 717.885 1770.08 717.515 Q1767.83 717.144 1765.42 716.404 L1765.42 711.705 Q1767.51 712.839 1769.73 713.394 Q1771.95 713.95 1774.43 713.95 Q1778.43 713.95 1780.77 711.844 Q1783.11 709.737 1783.11 706.126 Q1783.11 702.515 1780.77 700.408 Q1778.43 698.302 1774.43 698.302 Q1772.55 698.302 1770.68 698.719 Q1768.83 699.135 1766.88 700.015 L1766.88 682.654 Z\" fill=\"#000000\" fill-rule=\"evenodd\" fill-opacity=\"1\" /><path clip-path=\"url(#clip570)\" d=\"M2271.11 713.279 L2287.42 713.279 L2287.42 717.214 L2265.48 717.214 L2265.48 713.279 Q2268.14 710.524 2272.73 705.894 Q2277.33 701.242 2278.51 699.899 Q2280.76 697.376 2281.64 695.64 Q2282.54 693.881 2282.54 692.191 Q2282.54 689.436 2280.6 687.7 Q2278.67 685.964 2275.57 685.964 Q2273.37 685.964 2270.92 686.728 Q2268.49 687.492 2265.71 689.043 L2265.71 684.321 Q2268.54 683.186 2270.99 682.608 Q2273.44 682.029 2275.48 682.029 Q2280.85 682.029 2284.05 684.714 Q2287.24 687.399 2287.24 691.89 Q2287.24 694.02 2286.43 695.941 Q2285.64 697.839 2283.54 700.432 Q2282.96 701.103 2279.86 704.32 Q2276.75 707.515 2271.11 713.279 Z\" fill=\"#000000\" fill-rule=\"evenodd\" fill-opacity=\"1\" /><path clip-path=\"url(#clip570)\" d=\"M2307.24 685.733 Q2303.63 685.733 2301.8 689.297 Q2299.99 692.839 2299.99 699.969 Q2299.99 707.075 2301.8 710.64 Q2303.63 714.181 2307.24 714.181 Q2310.87 714.181 2312.68 710.64 Q2314.51 707.075 2314.51 699.969 Q2314.51 692.839 2312.68 689.297 Q2310.87 685.733 2307.24 685.733 M2307.24 682.029 Q2313.05 682.029 2316.11 686.635 Q2319.18 691.219 2319.18 699.969 Q2319.18 708.695 2316.11 713.302 Q2313.05 717.885 2307.24 717.885 Q2301.43 717.885 2298.35 713.302 Q2295.3 708.695 2295.3 699.969 Q2295.3 691.219 2298.35 686.635 Q2301.43 682.029 2307.24 682.029 Z\" fill=\"#000000\" fill-rule=\"evenodd\" fill-opacity=\"1\" /><polyline clip-path=\"url(#clip573)\" style=\"stroke:#000000; stroke-linecap:round; stroke-linejoin:round; stroke-width:8; stroke-opacity:0.1; fill:none\" points=\"217.783,637.618 2352.76,637.618 \"/>\n",
       "<polyline clip-path=\"url(#clip573)\" style=\"stroke:#000000; stroke-linecap:round; stroke-linejoin:round; stroke-width:8; stroke-opacity:0.1; fill:none\" points=\"217.783,510.245 2352.76,510.245 \"/>\n",
       "<polyline clip-path=\"url(#clip573)\" style=\"stroke:#000000; stroke-linecap:round; stroke-linejoin:round; stroke-width:8; stroke-opacity:0.1; fill:none\" points=\"217.783,382.872 2352.76,382.872 \"/>\n",
       "<polyline clip-path=\"url(#clip573)\" style=\"stroke:#000000; stroke-linecap:round; stroke-linejoin:round; stroke-width:8; stroke-opacity:0.1; fill:none\" points=\"217.783,255.499 2352.76,255.499 \"/>\n",
       "<polyline clip-path=\"url(#clip573)\" style=\"stroke:#000000; stroke-linecap:round; stroke-linejoin:round; stroke-width:8; stroke-opacity:0.1; fill:none\" points=\"217.783,128.126 2352.76,128.126 \"/>\n",
       "<polyline clip-path=\"url(#clip570)\" style=\"stroke:#000000; stroke-linecap:round; stroke-linejoin:round; stroke-width:4; stroke-opacity:1; fill:none\" points=\"217.783,654.814 217.783,47.2441 \"/>\n",
       "<polyline clip-path=\"url(#clip570)\" style=\"stroke:#000000; stroke-linecap:round; stroke-linejoin:round; stroke-width:4; stroke-opacity:1; fill:none\" points=\"217.783,637.618 236.681,637.618 \"/>\n",
       "<polyline clip-path=\"url(#clip570)\" style=\"stroke:#000000; stroke-linecap:round; stroke-linejoin:round; stroke-width:4; stroke-opacity:1; fill:none\" points=\"217.783,510.245 236.681,510.245 \"/>\n",
       "<polyline clip-path=\"url(#clip570)\" style=\"stroke:#000000; stroke-linecap:round; stroke-linejoin:round; stroke-width:4; stroke-opacity:1; fill:none\" points=\"217.783,382.872 236.681,382.872 \"/>\n",
       "<polyline clip-path=\"url(#clip570)\" style=\"stroke:#000000; stroke-linecap:round; stroke-linejoin:round; stroke-width:4; stroke-opacity:1; fill:none\" points=\"217.783,255.499 236.681,255.499 \"/>\n",
       "<polyline clip-path=\"url(#clip570)\" style=\"stroke:#000000; stroke-linecap:round; stroke-linejoin:round; stroke-width:4; stroke-opacity:1; fill:none\" points=\"217.783,128.126 236.681,128.126 \"/>\n",
       "<path clip-path=\"url(#clip570)\" d=\"M115.418 650.963 L123.056 650.963 L123.056 624.598 L114.746 626.264 L114.746 622.005 L123.01 620.338 L127.686 620.338 L127.686 650.963 L135.325 650.963 L135.325 654.898 L115.418 654.898 L115.418 650.963 Z\" fill=\"#000000\" fill-rule=\"evenodd\" fill-opacity=\"1\" /><path clip-path=\"url(#clip570)\" d=\"M144.769 649.019 L149.653 649.019 L149.653 654.898 L144.769 654.898 L144.769 649.019 Z\" fill=\"#000000\" fill-rule=\"evenodd\" fill-opacity=\"1\" /><path clip-path=\"url(#clip570)\" d=\"M169.839 623.417 Q166.227 623.417 164.399 626.982 Q162.593 630.524 162.593 637.653 Q162.593 644.76 164.399 648.324 Q166.227 651.866 169.839 651.866 Q173.473 651.866 175.278 648.324 Q177.107 644.76 177.107 637.653 Q177.107 630.524 175.278 626.982 Q173.473 623.417 169.839 623.417 M169.839 619.713 Q175.649 619.713 178.704 624.32 Q181.783 628.903 181.783 637.653 Q181.783 646.38 178.704 650.986 Q175.649 655.57 169.839 655.57 Q164.028 655.57 160.95 650.986 Q157.894 646.38 157.894 637.653 Q157.894 628.903 160.95 624.32 Q164.028 619.713 169.839 619.713 Z\" fill=\"#000000\" fill-rule=\"evenodd\" fill-opacity=\"1\" /><path clip-path=\"url(#clip570)\" d=\"M117.015 523.59 L124.654 523.59 L124.654 497.225 L116.343 498.891 L116.343 494.632 L124.607 492.965 L129.283 492.965 L129.283 523.59 L136.922 523.59 L136.922 527.525 L117.015 527.525 L117.015 523.59 Z\" fill=\"#000000\" fill-rule=\"evenodd\" fill-opacity=\"1\" /><path clip-path=\"url(#clip570)\" d=\"M146.366 521.646 L151.251 521.646 L151.251 527.525 L146.366 527.525 L146.366 521.646 Z\" fill=\"#000000\" fill-rule=\"evenodd\" fill-opacity=\"1\" /><path clip-path=\"url(#clip570)\" d=\"M165.464 523.59 L181.783 523.59 L181.783 527.525 L159.839 527.525 L159.839 523.59 Q162.501 520.836 167.084 516.206 Q171.69 511.553 172.871 510.211 Q175.116 507.688 175.996 505.951 Q176.899 504.192 176.899 502.502 Q176.899 499.748 174.954 498.012 Q173.033 496.276 169.931 496.276 Q167.732 496.276 165.278 497.039 Q162.848 497.803 160.07 499.354 L160.07 494.632 Q162.894 493.498 165.348 492.919 Q167.802 492.34 169.839 492.34 Q175.209 492.34 178.403 495.026 Q181.598 497.711 181.598 502.201 Q181.598 504.331 180.788 506.252 Q180.001 508.15 177.894 510.743 Q177.315 511.414 174.214 514.632 Q171.112 517.826 165.464 523.59 Z\" fill=\"#000000\" fill-rule=\"evenodd\" fill-opacity=\"1\" /><path clip-path=\"url(#clip570)\" d=\"M114.931 396.217 L122.57 396.217 L122.57 369.851 L114.26 371.518 L114.26 367.259 L122.524 365.592 L127.2 365.592 L127.2 396.217 L134.839 396.217 L134.839 400.152 L114.931 400.152 L114.931 396.217 Z\" fill=\"#000000\" fill-rule=\"evenodd\" fill-opacity=\"1\" /><path clip-path=\"url(#clip570)\" d=\"M144.283 394.273 L149.167 394.273 L149.167 400.152 L144.283 400.152 L144.283 394.273 Z\" fill=\"#000000\" fill-rule=\"evenodd\" fill-opacity=\"1\" /><path clip-path=\"url(#clip570)\" d=\"M172.2 369.666 L160.394 388.115 L172.2 388.115 L172.2 369.666 M170.973 365.592 L176.852 365.592 L176.852 388.115 L181.783 388.115 L181.783 392.004 L176.852 392.004 L176.852 400.152 L172.2 400.152 L172.2 392.004 L156.598 392.004 L156.598 387.49 L170.973 365.592 Z\" fill=\"#000000\" fill-rule=\"evenodd\" fill-opacity=\"1\" /><path clip-path=\"url(#clip570)\" d=\"M115.256 268.844 L122.894 268.844 L122.894 242.478 L114.584 244.145 L114.584 239.886 L122.848 238.219 L127.524 238.219 L127.524 268.844 L135.163 268.844 L135.163 272.779 L115.256 272.779 L115.256 268.844 Z\" fill=\"#000000\" fill-rule=\"evenodd\" fill-opacity=\"1\" /><path clip-path=\"url(#clip570)\" d=\"M144.607 266.9 L149.491 266.9 L149.491 272.779 L144.607 272.779 L144.607 266.9 Z\" fill=\"#000000\" fill-rule=\"evenodd\" fill-opacity=\"1\" /><path clip-path=\"url(#clip570)\" d=\"M170.255 253.636 Q167.107 253.636 165.255 255.788 Q163.427 257.941 163.427 261.691 Q163.427 265.418 165.255 267.594 Q167.107 269.747 170.255 269.747 Q173.403 269.747 175.232 267.594 Q177.084 265.418 177.084 261.691 Q177.084 257.941 175.232 255.788 Q173.403 253.636 170.255 253.636 M179.538 238.983 L179.538 243.242 Q177.778 242.409 175.973 241.969 Q174.19 241.529 172.431 241.529 Q167.802 241.529 165.348 244.654 Q162.917 247.779 162.57 254.099 Q163.936 252.085 165.996 251.02 Q168.056 249.932 170.533 249.932 Q175.741 249.932 178.751 253.103 Q181.783 256.251 181.783 261.691 Q181.783 267.015 178.635 270.233 Q175.487 273.45 170.255 273.45 Q164.26 273.45 161.089 268.867 Q157.917 264.261 157.917 255.534 Q157.917 247.339 161.806 242.478 Q165.695 237.594 172.246 237.594 Q174.005 237.594 175.788 237.941 Q177.593 238.289 179.538 238.983 Z\" fill=\"#000000\" fill-rule=\"evenodd\" fill-opacity=\"1\" /><path clip-path=\"url(#clip570)\" d=\"M115.51 141.471 L123.149 141.471 L123.149 115.105 L114.839 116.772 L114.839 112.513 L123.103 110.846 L127.779 110.846 L127.779 141.471 L135.417 141.471 L135.417 145.406 L115.51 145.406 L115.51 141.471 Z\" fill=\"#000000\" fill-rule=\"evenodd\" fill-opacity=\"1\" /><path clip-path=\"url(#clip570)\" d=\"M144.862 139.526 L149.746 139.526 L149.746 145.406 L144.862 145.406 L144.862 139.526 Z\" fill=\"#000000\" fill-rule=\"evenodd\" fill-opacity=\"1\" /><path clip-path=\"url(#clip570)\" d=\"M169.931 128.994 Q166.598 128.994 164.677 130.776 Q162.778 132.559 162.778 135.684 Q162.778 138.809 164.677 140.591 Q166.598 142.374 169.931 142.374 Q173.264 142.374 175.186 140.591 Q177.107 138.786 177.107 135.684 Q177.107 132.559 175.186 130.776 Q173.288 128.994 169.931 128.994 M165.255 127.003 Q162.246 126.263 160.556 124.202 Q158.89 122.142 158.89 119.179 Q158.89 115.036 161.829 112.628 Q164.792 110.221 169.931 110.221 Q175.093 110.221 178.033 112.628 Q180.973 115.036 180.973 119.179 Q180.973 122.142 179.283 124.202 Q177.616 126.263 174.63 127.003 Q178.01 127.79 179.885 130.082 Q181.783 132.374 181.783 135.684 Q181.783 140.707 178.704 143.392 Q175.649 146.077 169.931 146.077 Q164.214 146.077 161.135 143.392 Q158.079 140.707 158.079 135.684 Q158.079 132.374 159.978 130.082 Q161.876 127.79 165.255 127.003 M163.542 119.619 Q163.542 122.304 165.209 123.809 Q166.899 125.314 169.931 125.314 Q172.94 125.314 174.63 123.809 Q176.343 122.304 176.343 119.619 Q176.343 116.934 174.63 115.429 Q172.94 113.925 169.931 113.925 Q166.899 113.925 165.209 115.429 Q163.542 116.934 163.542 119.619 Z\" fill=\"#000000\" fill-rule=\"evenodd\" fill-opacity=\"1\" /><path clip-path=\"url(#clip570)\" d=\"M56.6478 405.497 Q60.8023 406.334 63.1856 407.461 Q66.8248 409.297 66.8248 412.357 Q66.8248 414.482 65.6332 416.092 Q64.4094 417.671 62.3804 418.218 Q63.1856 418.83 63.7331 419.377 Q64.2806 419.893 65.1179 420.891 Q65.9231 421.89 66.3739 423.242 Q66.8248 424.563 66.8248 426.076 Q66.8248 427.236 66.5994 428.299 Q66.4062 429.361 65.8587 430.488 Q65.2789 431.583 64.4094 432.389 Q63.5398 433.162 62.1228 433.677 Q60.7057 434.192 58.9022 434.192 Q56.6478 434.192 53.5882 433.323 Q50.5287 432.421 45.0537 430.36 Q42.1551 429.232 40.5448 429.232 Q39.8041 429.232 39.321 429.394 Q38.8379 429.555 38.6769 429.877 Q38.4837 430.166 38.4515 430.36 Q38.3871 430.553 38.3871 430.875 Q38.3871 432.872 40.416 434.611 Q42.445 436.35 46.5673 437.542 Q47.3725 437.799 47.5657 437.96 Q47.759 438.121 47.759 438.604 Q47.7268 439.41 47.0826 439.41 Q46.825 439.41 45.8266 439.12 Q44.796 438.83 43.2823 438.153 Q41.7365 437.445 40.3516 436.479 Q38.9346 435.513 37.9362 433.999 Q36.9378 432.453 36.9378 430.682 Q36.9378 428.266 38.5159 426.785 Q40.0618 425.271 42.3484 425.271 Q43.7654 425.271 46.5029 426.398 Q56.0037 429.973 59.965 429.973 Q65.3434 429.973 65.3434 425.883 Q65.3434 424.53 64.7959 423.274 Q64.2484 421.986 63.4754 421.149 Q62.7025 420.311 61.8651 419.667 Q61.0278 418.991 60.4803 418.701 Q59.9328 418.379 59.804 418.347 L39.9651 413.419 Q39.1922 413.226 38.6769 412.872 Q38.1294 412.485 37.9362 412.035 Q37.7429 411.584 37.7107 411.326 Q37.6463 411.068 37.6463 410.843 Q37.6463 410.038 38.1294 409.49 Q38.6125 408.911 39.4498 408.911 Q39.6109 408.911 40.3838 409.104 Q41.1246 409.265 42.2196 409.522 Q43.2823 409.78 43.8621 409.909 Q47.92 410.94 48.3387 411.036 L55.4562 412.872 Q55.8748 412.969 57.2275 413.291 Q58.5801 413.58 59.2887 413.741 Q59.965 413.902 60.899 414.064 Q61.8007 414.192 62.316 414.192 Q63.9263 414.192 64.6348 413.709 Q65.3434 413.226 65.3434 412.163 Q65.3434 411.165 64.667 410.392 Q63.9585 409.587 62.6059 408.975 Q61.221 408.363 60.0938 408.009 Q58.9666 407.655 57.1953 407.204 Q56.4223 407.043 56.2291 406.914 Q56.0037 406.753 56.0037 406.302 Q56.0037 405.497 56.6478 405.497 Z\" fill=\"#000000\" fill-rule=\"evenodd\" fill-opacity=\"1\" /><path clip-path=\"url(#clip570)\" d=\"M82.5735 349.763 L16.6159 349.763 L16.6159 339.812 L18.1296 339.812 L18.1296 345.351 L81.0598 345.351 L81.0598 339.812 L82.5735 339.812 L82.5735 349.763 Z\" fill=\"#000000\" fill-rule=\"evenodd\" fill-opacity=\"1\" /><path clip-path=\"url(#clip570)\" d=\"M48.6607 288.071 Q49.0472 287.684 49.5947 287.684 Q50.1422 287.684 50.5287 288.071 Q50.9151 288.457 50.9151 289.005 L50.9151 330.293 Q50.9151 330.84 50.5287 331.226 Q50.1422 331.613 49.5947 331.613 Q49.0472 331.613 48.6607 331.226 Q48.2743 330.84 48.2743 330.293 L48.2743 289.005 Q48.2743 288.457 48.6607 288.071 Z\" fill=\"#000000\" fill-rule=\"evenodd\" fill-opacity=\"1\" /><path clip-path=\"url(#clip570)\" d=\"M81.0598 280.799 L81.0598 275.259 L18.1296 275.259 L18.1296 280.799 L16.6159 280.799 L16.6159 270.847 L82.5735 270.847 L82.5735 280.799 L81.0598 280.799 Z\" fill=\"#000000\" fill-rule=\"evenodd\" fill-opacity=\"1\" /><polyline clip-path=\"url(#clip573)\" style=\"stroke:#000000; stroke-linecap:round; stroke-linejoin:round; stroke-width:4; stroke-opacity:1; fill:none\" stroke-dasharray=\"2, 4\" points=\"278.207,64.4395 384.213,64.4395 490.22,64.4395 596.227,64.4395 702.233,64.4395 808.24,64.4395 914.246,64.4395 1020.25,64.4395 1126.26,64.4395 1232.27,64.4395 1338.27,64.4395 1444.28,64.4395 1550.29,64.4395 1656.29,64.4395 1762.3,64.4395 1868.31,64.4395 1974.31,64.4395 2080.32,64.4395 2186.33,64.4395 2292.33,64.4395 \"/>\n",
       "<polyline clip-path=\"url(#clip573)\" style=\"stroke:#000000; stroke-linecap:round; stroke-linejoin:round; stroke-width:12; stroke-opacity:1; fill:none\" points=\"278.207,637.618 384.213,299.584 490.22,135.191 596.227,64.4395 702.233,64.4395 808.24,64.4395 914.246,64.4395 1020.25,64.4395 1126.26,64.4395 1232.27,64.4395 1338.27,64.4395 1444.28,64.4395 1550.29,64.4395 1656.29,64.4395 1762.3,64.4395 1868.31,64.4395 1974.31,64.4395 2080.32,64.4395 2186.33,64.4395 2292.33,64.4395 \"/>\n",
       "<circle clip-path=\"url(#clip573)\" cx=\"278.207\" cy=\"637.618\" r=\"10.8\" fill=\"#000000\" fill-rule=\"evenodd\" fill-opacity=\"1\" stroke=\"none\"/>\n",
       "<circle clip-path=\"url(#clip573)\" cx=\"384.213\" cy=\"299.584\" r=\"10.8\" fill=\"#000000\" fill-rule=\"evenodd\" fill-opacity=\"1\" stroke=\"none\"/>\n",
       "<circle clip-path=\"url(#clip573)\" cx=\"490.22\" cy=\"135.191\" r=\"10.8\" fill=\"#000000\" fill-rule=\"evenodd\" fill-opacity=\"1\" stroke=\"none\"/>\n",
       "<circle clip-path=\"url(#clip573)\" cx=\"596.227\" cy=\"64.4395\" r=\"10.8\" fill=\"#000000\" fill-rule=\"evenodd\" fill-opacity=\"1\" stroke=\"none\"/>\n",
       "<circle clip-path=\"url(#clip573)\" cx=\"702.233\" cy=\"64.4395\" r=\"10.8\" fill=\"#000000\" fill-rule=\"evenodd\" fill-opacity=\"1\" stroke=\"none\"/>\n",
       "<circle clip-path=\"url(#clip573)\" cx=\"808.24\" cy=\"64.4395\" r=\"10.8\" fill=\"#000000\" fill-rule=\"evenodd\" fill-opacity=\"1\" stroke=\"none\"/>\n",
       "<circle clip-path=\"url(#clip573)\" cx=\"914.246\" cy=\"64.4395\" r=\"10.8\" fill=\"#000000\" fill-rule=\"evenodd\" fill-opacity=\"1\" stroke=\"none\"/>\n",
       "<circle clip-path=\"url(#clip573)\" cx=\"1020.25\" cy=\"64.4395\" r=\"10.8\" fill=\"#000000\" fill-rule=\"evenodd\" fill-opacity=\"1\" stroke=\"none\"/>\n",
       "<circle clip-path=\"url(#clip573)\" cx=\"1126.26\" cy=\"64.4395\" r=\"10.8\" fill=\"#000000\" fill-rule=\"evenodd\" fill-opacity=\"1\" stroke=\"none\"/>\n",
       "<circle clip-path=\"url(#clip573)\" cx=\"1232.27\" cy=\"64.4395\" r=\"10.8\" fill=\"#000000\" fill-rule=\"evenodd\" fill-opacity=\"1\" stroke=\"none\"/>\n",
       "<circle clip-path=\"url(#clip573)\" cx=\"1338.27\" cy=\"64.4395\" r=\"10.8\" fill=\"#000000\" fill-rule=\"evenodd\" fill-opacity=\"1\" stroke=\"none\"/>\n",
       "<circle clip-path=\"url(#clip573)\" cx=\"1444.28\" cy=\"64.4395\" r=\"10.8\" fill=\"#000000\" fill-rule=\"evenodd\" fill-opacity=\"1\" stroke=\"none\"/>\n",
       "<circle clip-path=\"url(#clip573)\" cx=\"1550.29\" cy=\"64.4395\" r=\"10.8\" fill=\"#000000\" fill-rule=\"evenodd\" fill-opacity=\"1\" stroke=\"none\"/>\n",
       "<circle clip-path=\"url(#clip573)\" cx=\"1656.29\" cy=\"64.4395\" r=\"10.8\" fill=\"#000000\" fill-rule=\"evenodd\" fill-opacity=\"1\" stroke=\"none\"/>\n",
       "<circle clip-path=\"url(#clip573)\" cx=\"1762.3\" cy=\"64.4395\" r=\"10.8\" fill=\"#000000\" fill-rule=\"evenodd\" fill-opacity=\"1\" stroke=\"none\"/>\n",
       "<circle clip-path=\"url(#clip573)\" cx=\"1868.31\" cy=\"64.4395\" r=\"10.8\" fill=\"#000000\" fill-rule=\"evenodd\" fill-opacity=\"1\" stroke=\"none\"/>\n",
       "<circle clip-path=\"url(#clip573)\" cx=\"1974.31\" cy=\"64.4395\" r=\"10.8\" fill=\"#000000\" fill-rule=\"evenodd\" fill-opacity=\"1\" stroke=\"none\"/>\n",
       "<circle clip-path=\"url(#clip573)\" cx=\"2080.32\" cy=\"64.4395\" r=\"10.8\" fill=\"#000000\" fill-rule=\"evenodd\" fill-opacity=\"1\" stroke=\"none\"/>\n",
       "<circle clip-path=\"url(#clip573)\" cx=\"2186.33\" cy=\"64.4395\" r=\"10.8\" fill=\"#000000\" fill-rule=\"evenodd\" fill-opacity=\"1\" stroke=\"none\"/>\n",
       "<circle clip-path=\"url(#clip573)\" cx=\"2292.33\" cy=\"64.4395\" r=\"10.8\" fill=\"#000000\" fill-rule=\"evenodd\" fill-opacity=\"1\" stroke=\"none\"/>\n",
       "<polyline clip-path=\"url(#clip573)\" style=\"stroke:#000000; stroke-linecap:round; stroke-linejoin:round; stroke-width:8; stroke-opacity:0.1; fill:none\" points=\"278.207,637.618 384.213,299.584 490.22,135.101 596.227,64.4395 702.233,64.4395 808.24,64.4395 914.246,64.4395 1020.25,64.4395 1126.26,64.4395 1232.27,64.4395 1338.27,64.4395 1444.28,64.4395 1550.29,64.4395 1656.29,64.4395 1762.3,64.4395 1868.31,64.4395 1974.31,64.4395 2080.32,64.4395 2186.33,64.4395 2292.33,64.4395 \"/>\n",
       "<polyline clip-path=\"url(#clip573)\" style=\"stroke:#000000; stroke-linecap:round; stroke-linejoin:round; stroke-width:8; stroke-opacity:0.1; fill:none\" points=\"278.207,637.618 384.213,299.584 490.22,135.497 596.227,64.4395 702.233,64.4395 808.24,64.4395 914.246,64.4395 1020.25,64.4395 1126.26,64.4395 1232.27,64.4395 1338.27,64.4395 1444.28,64.4395 1550.29,64.4395 1656.29,64.4395 1762.3,64.4395 1868.31,64.4395 1974.31,64.4395 2080.32,64.4395 2186.33,64.4395 2292.33,64.4395 \"/>\n",
       "<polyline clip-path=\"url(#clip573)\" style=\"stroke:#000000; stroke-linecap:round; stroke-linejoin:round; stroke-width:8; stroke-opacity:0.1; fill:none\" points=\"278.207,637.618 384.213,299.584 490.22,135.45 596.227,64.4395 702.233,64.4395 808.24,64.4395 914.246,64.4395 1020.25,64.4395 1126.26,64.4395 1232.27,64.4395 1338.27,64.4395 1444.28,64.4395 1550.29,64.4395 1656.29,64.4395 1762.3,64.4395 1868.31,64.4395 1974.31,64.4395 2080.32,64.4395 2186.33,64.4395 2292.33,64.4395 \"/>\n",
       "<polyline clip-path=\"url(#clip573)\" style=\"stroke:#000000; stroke-linecap:round; stroke-linejoin:round; stroke-width:8; stroke-opacity:0.1; fill:none\" points=\"278.207,637.618 384.213,299.584 490.22,134.918 596.227,64.4395 702.233,64.4395 808.24,64.4395 914.246,64.4395 1020.25,64.4395 1126.26,64.4395 1232.27,64.4395 1338.27,64.4395 1444.28,64.4395 1550.29,64.4395 1656.29,64.4395 1762.3,64.4395 1868.31,64.4395 1974.31,64.4395 2080.32,64.4395 2186.33,64.4395 2292.33,64.4395 \"/>\n",
       "<polyline clip-path=\"url(#clip573)\" style=\"stroke:#000000; stroke-linecap:round; stroke-linejoin:round; stroke-width:8; stroke-opacity:0.1; fill:none\" points=\"278.207,637.618 384.213,299.584 490.22,134.986 596.227,64.4395 702.233,64.4395 808.24,64.4395 914.246,64.4395 1020.25,64.4395 1126.26,64.4395 1232.27,64.4395 1338.27,64.4395 1444.28,64.4395 1550.29,64.4395 1656.29,64.4395 1762.3,64.4395 1868.31,64.4395 1974.31,64.4395 2080.32,64.4395 2186.33,64.4395 2292.33,64.4395 \"/>\n",
       "<path clip-path=\"url(#clip570)\" d=\"M217.783 1423.18 L2352.76 1423.18 L2352.76 815.61 L217.783 815.61  Z\" fill=\"#ffffff\" fill-rule=\"evenodd\" fill-opacity=\"1\"/>\n",
       "<defs>\n",
       "  <clipPath id=\"clip574\">\n",
       "    <rect x=\"217\" y=\"815\" width=\"2136\" height=\"609\"/>\n",
       "  </clipPath>\n",
       "</defs>\n",
       "<polyline clip-path=\"url(#clip574)\" style=\"stroke:#000000; stroke-linecap:round; stroke-linejoin:round; stroke-width:8; stroke-opacity:0.1; fill:none\" points=\"702.233,1423.18 702.233,815.61 \"/>\n",
       "<polyline clip-path=\"url(#clip574)\" style=\"stroke:#000000; stroke-linecap:round; stroke-linejoin:round; stroke-width:8; stroke-opacity:0.1; fill:none\" points=\"1232.27,1423.18 1232.27,815.61 \"/>\n",
       "<polyline clip-path=\"url(#clip574)\" style=\"stroke:#000000; stroke-linecap:round; stroke-linejoin:round; stroke-width:8; stroke-opacity:0.1; fill:none\" points=\"1762.3,1423.18 1762.3,815.61 \"/>\n",
       "<polyline clip-path=\"url(#clip574)\" style=\"stroke:#000000; stroke-linecap:round; stroke-linejoin:round; stroke-width:8; stroke-opacity:0.1; fill:none\" points=\"2292.33,1423.18 2292.33,815.61 \"/>\n",
       "<polyline clip-path=\"url(#clip570)\" style=\"stroke:#000000; stroke-linecap:round; stroke-linejoin:round; stroke-width:4; stroke-opacity:1; fill:none\" points=\"217.783,1423.18 2352.76,1423.18 \"/>\n",
       "<polyline clip-path=\"url(#clip570)\" style=\"stroke:#000000; stroke-linecap:round; stroke-linejoin:round; stroke-width:4; stroke-opacity:1; fill:none\" points=\"702.233,1423.18 702.233,1404.28 \"/>\n",
       "<polyline clip-path=\"url(#clip570)\" style=\"stroke:#000000; stroke-linecap:round; stroke-linejoin:round; stroke-width:4; stroke-opacity:1; fill:none\" points=\"1232.27,1423.18 1232.27,1404.28 \"/>\n",
       "<polyline clip-path=\"url(#clip570)\" style=\"stroke:#000000; stroke-linecap:round; stroke-linejoin:round; stroke-width:4; stroke-opacity:1; fill:none\" points=\"1762.3,1423.18 1762.3,1404.28 \"/>\n",
       "<polyline clip-path=\"url(#clip570)\" style=\"stroke:#000000; stroke-linecap:round; stroke-linejoin:round; stroke-width:4; stroke-opacity:1; fill:none\" points=\"2292.33,1423.18 2292.33,1404.28 \"/>\n",
       "<path clip-path=\"url(#clip570)\" d=\"M692.511 1451.02 L710.867 1451.02 L710.867 1454.96 L696.793 1454.96 L696.793 1463.43 Q697.812 1463.08 698.83 1462.92 Q699.849 1462.73 700.867 1462.73 Q706.654 1462.73 710.034 1465.9 Q713.414 1469.08 713.414 1474.49 Q713.414 1480.07 709.941 1483.17 Q706.469 1486.25 700.15 1486.25 Q697.974 1486.25 695.705 1485.88 Q693.46 1485.51 691.053 1484.77 L691.053 1480.07 Q693.136 1481.2 695.358 1481.76 Q697.58 1482.32 700.057 1482.32 Q704.062 1482.32 706.4 1480.21 Q708.738 1478.1 708.738 1474.49 Q708.738 1470.88 706.4 1468.77 Q704.062 1466.67 700.057 1466.67 Q698.182 1466.67 696.307 1467.08 Q694.455 1467.5 692.511 1468.38 L692.511 1451.02 Z\" fill=\"#000000\" fill-rule=\"evenodd\" fill-opacity=\"1\" /><path clip-path=\"url(#clip570)\" d=\"M1206.95 1481.64 L1214.59 1481.64 L1214.59 1455.28 L1206.28 1456.95 L1206.28 1452.69 L1214.55 1451.02 L1219.22 1451.02 L1219.22 1481.64 L1226.86 1481.64 L1226.86 1485.58 L1206.95 1485.58 L1206.95 1481.64 Z\" fill=\"#000000\" fill-rule=\"evenodd\" fill-opacity=\"1\" /><path clip-path=\"url(#clip570)\" d=\"M1246.31 1454.1 Q1242.69 1454.1 1240.87 1457.66 Q1239.06 1461.2 1239.06 1468.33 Q1239.06 1475.44 1240.87 1479.01 Q1242.69 1482.55 1246.31 1482.55 Q1249.94 1482.55 1251.75 1479.01 Q1253.57 1475.44 1253.57 1468.33 Q1253.57 1461.2 1251.75 1457.66 Q1249.94 1454.1 1246.31 1454.1 M1246.31 1450.39 Q1252.12 1450.39 1255.17 1455 Q1258.25 1459.58 1258.25 1468.33 Q1258.25 1477.06 1255.17 1481.67 Q1252.12 1486.25 1246.31 1486.25 Q1240.5 1486.25 1237.42 1481.67 Q1234.36 1477.06 1234.36 1468.33 Q1234.36 1459.58 1237.42 1455 Q1240.5 1450.39 1246.31 1450.39 Z\" fill=\"#000000\" fill-rule=\"evenodd\" fill-opacity=\"1\" /><path clip-path=\"url(#clip570)\" d=\"M1737.48 1481.64 L1745.12 1481.64 L1745.12 1455.28 L1736.81 1456.95 L1736.81 1452.69 L1745.08 1451.02 L1749.75 1451.02 L1749.75 1481.64 L1757.39 1481.64 L1757.39 1485.58 L1737.48 1485.58 L1737.48 1481.64 Z\" fill=\"#000000\" fill-rule=\"evenodd\" fill-opacity=\"1\" /><path clip-path=\"url(#clip570)\" d=\"M1766.88 1451.02 L1785.24 1451.02 L1785.24 1454.96 L1771.16 1454.96 L1771.16 1463.43 Q1772.18 1463.08 1773.2 1462.92 Q1774.22 1462.73 1775.24 1462.73 Q1781.03 1462.73 1784.41 1465.9 Q1787.79 1469.08 1787.79 1474.49 Q1787.79 1480.07 1784.31 1483.17 Q1780.84 1486.25 1774.52 1486.25 Q1772.35 1486.25 1770.08 1485.88 Q1767.83 1485.51 1765.42 1484.77 L1765.42 1480.07 Q1767.51 1481.2 1769.73 1481.76 Q1771.95 1482.32 1774.43 1482.32 Q1778.43 1482.32 1780.77 1480.21 Q1783.11 1478.1 1783.11 1474.49 Q1783.11 1470.88 1780.77 1468.77 Q1778.43 1466.67 1774.43 1466.67 Q1772.55 1466.67 1770.68 1467.08 Q1768.83 1467.5 1766.88 1468.38 L1766.88 1451.02 Z\" fill=\"#000000\" fill-rule=\"evenodd\" fill-opacity=\"1\" /><path clip-path=\"url(#clip570)\" d=\"M2271.11 1481.64 L2287.42 1481.64 L2287.42 1485.58 L2265.48 1485.58 L2265.48 1481.64 Q2268.14 1478.89 2272.73 1474.26 Q2277.33 1469.61 2278.51 1468.27 Q2280.76 1465.74 2281.64 1464.01 Q2282.54 1462.25 2282.54 1460.56 Q2282.54 1457.8 2280.6 1456.07 Q2278.67 1454.33 2275.57 1454.33 Q2273.37 1454.33 2270.92 1455.09 Q2268.49 1455.86 2265.71 1457.41 L2265.71 1452.69 Q2268.54 1451.55 2270.99 1450.97 Q2273.44 1450.39 2275.48 1450.39 Q2280.85 1450.39 2284.05 1453.08 Q2287.24 1455.77 2287.24 1460.26 Q2287.24 1462.39 2286.43 1464.31 Q2285.64 1466.2 2283.54 1468.8 Q2282.96 1469.47 2279.86 1472.69 Q2276.75 1475.88 2271.11 1481.64 Z\" fill=\"#000000\" fill-rule=\"evenodd\" fill-opacity=\"1\" /><path clip-path=\"url(#clip570)\" d=\"M2307.24 1454.1 Q2303.63 1454.1 2301.8 1457.66 Q2299.99 1461.2 2299.99 1468.33 Q2299.99 1475.44 2301.8 1479.01 Q2303.63 1482.55 2307.24 1482.55 Q2310.87 1482.55 2312.68 1479.01 Q2314.51 1475.44 2314.51 1468.33 Q2314.51 1461.2 2312.68 1457.66 Q2310.87 1454.1 2307.24 1454.1 M2307.24 1450.39 Q2313.05 1450.39 2316.11 1455 Q2319.18 1459.58 2319.18 1468.33 Q2319.18 1477.06 2316.11 1481.67 Q2313.05 1486.25 2307.24 1486.25 Q2301.43 1486.25 2298.35 1481.67 Q2295.3 1477.06 2295.3 1468.33 Q2295.3 1459.58 2298.35 1455 Q2301.43 1450.39 2307.24 1450.39 Z\" fill=\"#000000\" fill-rule=\"evenodd\" fill-opacity=\"1\" /><path clip-path=\"url(#clip570)\" d=\"M1128.24 1522.27 L1128.24 1532.4 L1140.31 1532.4 L1140.31 1536.95 L1128.24 1536.95 L1128.24 1556.3 Q1128.24 1560.66 1129.42 1561.9 Q1130.63 1563.14 1134.29 1563.14 L1140.31 1563.14 L1140.31 1568.04 L1134.29 1568.04 Q1127.51 1568.04 1124.93 1565.53 Q1122.36 1562.98 1122.36 1556.3 L1122.36 1536.95 L1118.06 1536.95 L1118.06 1532.4 L1122.36 1532.4 L1122.36 1522.27 L1128.24 1522.27 Z\" fill=\"#000000\" fill-rule=\"evenodd\" fill-opacity=\"1\" /><path clip-path=\"url(#clip570)\" d=\"M1148.01 1532.4 L1153.87 1532.4 L1153.87 1568.04 L1148.01 1568.04 L1148.01 1532.4 M1148.01 1518.52 L1153.87 1518.52 L1153.87 1525.93 L1148.01 1525.93 L1148.01 1518.52 Z\" fill=\"#000000\" fill-rule=\"evenodd\" fill-opacity=\"1\" /><path clip-path=\"url(#clip570)\" d=\"M1193.87 1539.24 Q1196.07 1535.29 1199.13 1533.41 Q1202.18 1531.54 1206.32 1531.54 Q1211.89 1531.54 1214.91 1535.45 Q1217.94 1539.33 1217.94 1546.53 L1217.94 1568.04 L1212.05 1568.04 L1212.05 1546.72 Q1212.05 1541.59 1210.23 1539.11 Q1208.42 1536.63 1204.7 1536.63 Q1200.14 1536.63 1197.5 1539.65 Q1194.86 1542.68 1194.86 1547.9 L1194.86 1568.04 L1188.97 1568.04 L1188.97 1546.72 Q1188.97 1541.56 1187.16 1539.11 Q1185.34 1536.63 1181.56 1536.63 Q1177.07 1536.63 1174.43 1539.68 Q1171.78 1542.71 1171.78 1547.9 L1171.78 1568.04 L1165.9 1568.04 L1165.9 1532.4 L1171.78 1532.4 L1171.78 1537.93 Q1173.79 1534.66 1176.59 1533.1 Q1179.39 1531.54 1183.24 1531.54 Q1187.13 1531.54 1189.83 1533.51 Q1192.57 1535.48 1193.87 1539.24 Z\" fill=\"#000000\" fill-rule=\"evenodd\" fill-opacity=\"1\" /><path clip-path=\"url(#clip570)\" d=\"M1260.11 1548.76 L1260.11 1551.62 L1233.18 1551.62 Q1233.56 1557.67 1236.81 1560.85 Q1240.09 1564 1245.91 1564 Q1249.29 1564 1252.44 1563.17 Q1255.62 1562.35 1258.74 1560.69 L1258.74 1566.23 Q1255.59 1567.57 1252.28 1568.27 Q1248.97 1568.97 1245.56 1568.97 Q1237.03 1568.97 1232.04 1564 Q1227.07 1559.04 1227.07 1550.57 Q1227.07 1541.82 1231.78 1536.69 Q1236.52 1531.54 1244.54 1531.54 Q1251.74 1531.54 1255.91 1536.18 Q1260.11 1540.8 1260.11 1548.76 M1254.25 1547.04 Q1254.19 1542.23 1251.55 1539.37 Q1248.94 1536.5 1244.61 1536.5 Q1239.71 1536.5 1236.75 1539.27 Q1233.82 1542.04 1233.37 1547.07 L1254.25 1547.04 Z\" fill=\"#000000\" fill-rule=\"evenodd\" fill-opacity=\"1\" /><path clip-path=\"url(#clip570)\" d=\"M1289.9 1518.52 L1303.4 1518.52 L1303.4 1523.07 L1295.76 1523.07 L1295.76 1572.09 L1303.4 1572.09 L1303.4 1576.64 L1289.9 1576.64 L1289.9 1518.52 Z\" fill=\"#000000\" fill-rule=\"evenodd\" fill-opacity=\"1\" /><path clip-path=\"url(#clip570)\" d=\"M1343.63 1539.24 Q1345.82 1535.29 1348.88 1533.41 Q1351.93 1531.54 1356.07 1531.54 Q1361.64 1531.54 1364.67 1535.45 Q1367.69 1539.33 1367.69 1546.53 L1367.69 1568.04 L1361.8 1568.04 L1361.8 1546.72 Q1361.8 1541.59 1359.99 1539.11 Q1358.17 1536.63 1354.45 1536.63 Q1349.9 1536.63 1347.26 1539.65 Q1344.61 1542.68 1344.61 1547.9 L1344.61 1568.04 L1338.73 1568.04 L1338.73 1546.72 Q1338.73 1541.56 1336.91 1539.11 Q1335.1 1536.63 1331.31 1536.63 Q1326.82 1536.63 1324.18 1539.68 Q1321.54 1542.71 1321.54 1547.9 L1321.54 1568.04 L1315.65 1568.04 L1315.65 1532.4 L1321.54 1532.4 L1321.54 1537.93 Q1323.54 1534.66 1326.34 1533.1 Q1329.15 1531.54 1333 1531.54 Q1336.88 1531.54 1339.58 1533.51 Q1342.32 1535.48 1343.63 1539.24 Z\" fill=\"#000000\" fill-rule=\"evenodd\" fill-opacity=\"1\" /><path clip-path=\"url(#clip570)\" d=\"M1379.37 1532.4 L1385.23 1532.4 L1385.23 1568.04 L1379.37 1568.04 L1379.37 1532.4 M1379.37 1518.52 L1385.23 1518.52 L1385.23 1525.93 L1379.37 1525.93 L1379.37 1518.52 Z\" fill=\"#000000\" fill-rule=\"evenodd\" fill-opacity=\"1\" /><path clip-path=\"url(#clip570)\" d=\"M1427.11 1546.53 L1427.11 1568.04 L1421.26 1568.04 L1421.26 1546.72 Q1421.26 1541.66 1419.28 1539.14 Q1417.31 1536.63 1413.36 1536.63 Q1408.62 1536.63 1405.88 1539.65 Q1403.15 1542.68 1403.15 1547.9 L1403.15 1568.04 L1397.26 1568.04 L1397.26 1532.4 L1403.15 1532.4 L1403.15 1537.93 Q1405.25 1534.72 1408.08 1533.13 Q1410.94 1531.54 1414.67 1531.54 Q1420.81 1531.54 1423.96 1535.36 Q1427.11 1539.14 1427.11 1546.53 Z\" fill=\"#000000\" fill-rule=\"evenodd\" fill-opacity=\"1\" /><path clip-path=\"url(#clip570)\" d=\"M1452.48 1518.52 L1452.48 1576.64 L1438.99 1576.64 L1438.99 1572.09 L1446.59 1572.09 L1446.59 1523.07 L1438.99 1523.07 L1438.99 1518.52 L1452.48 1518.52 Z\" fill=\"#000000\" fill-rule=\"evenodd\" fill-opacity=\"1\" /><polyline clip-path=\"url(#clip574)\" style=\"stroke:#000000; stroke-linecap:round; stroke-linejoin:round; stroke-width:8; stroke-opacity:0.1; fill:none\" points=\"217.783,1405.98 2352.76,1405.98 \"/>\n",
       "<polyline clip-path=\"url(#clip574)\" style=\"stroke:#000000; stroke-linecap:round; stroke-linejoin:round; stroke-width:8; stroke-opacity:0.1; fill:none\" points=\"217.783,1278.61 2352.76,1278.61 \"/>\n",
       "<polyline clip-path=\"url(#clip574)\" style=\"stroke:#000000; stroke-linecap:round; stroke-linejoin:round; stroke-width:8; stroke-opacity:0.1; fill:none\" points=\"217.783,1151.24 2352.76,1151.24 \"/>\n",
       "<polyline clip-path=\"url(#clip574)\" style=\"stroke:#000000; stroke-linecap:round; stroke-linejoin:round; stroke-width:8; stroke-opacity:0.1; fill:none\" points=\"217.783,1023.87 2352.76,1023.87 \"/>\n",
       "<polyline clip-path=\"url(#clip574)\" style=\"stroke:#000000; stroke-linecap:round; stroke-linejoin:round; stroke-width:8; stroke-opacity:0.1; fill:none\" points=\"217.783,896.492 2352.76,896.492 \"/>\n",
       "<polyline clip-path=\"url(#clip570)\" style=\"stroke:#000000; stroke-linecap:round; stroke-linejoin:round; stroke-width:4; stroke-opacity:1; fill:none\" points=\"217.783,1423.18 217.783,815.61 \"/>\n",
       "<polyline clip-path=\"url(#clip570)\" style=\"stroke:#000000; stroke-linecap:round; stroke-linejoin:round; stroke-width:4; stroke-opacity:1; fill:none\" points=\"217.783,1405.98 236.681,1405.98 \"/>\n",
       "<polyline clip-path=\"url(#clip570)\" style=\"stroke:#000000; stroke-linecap:round; stroke-linejoin:round; stroke-width:4; stroke-opacity:1; fill:none\" points=\"217.783,1278.61 236.681,1278.61 \"/>\n",
       "<polyline clip-path=\"url(#clip570)\" style=\"stroke:#000000; stroke-linecap:round; stroke-linejoin:round; stroke-width:4; stroke-opacity:1; fill:none\" points=\"217.783,1151.24 236.681,1151.24 \"/>\n",
       "<polyline clip-path=\"url(#clip570)\" style=\"stroke:#000000; stroke-linecap:round; stroke-linejoin:round; stroke-width:4; stroke-opacity:1; fill:none\" points=\"217.783,1023.87 236.681,1023.87 \"/>\n",
       "<polyline clip-path=\"url(#clip570)\" style=\"stroke:#000000; stroke-linecap:round; stroke-linejoin:round; stroke-width:4; stroke-opacity:1; fill:none\" points=\"217.783,896.492 236.681,896.492 \"/>\n",
       "<path clip-path=\"url(#clip570)\" d=\"M115.418 1419.33 L123.056 1419.33 L123.056 1392.96 L114.746 1394.63 L114.746 1390.37 L123.01 1388.7 L127.686 1388.7 L127.686 1419.33 L135.325 1419.33 L135.325 1423.26 L115.418 1423.26 L115.418 1419.33 Z\" fill=\"#000000\" fill-rule=\"evenodd\" fill-opacity=\"1\" /><path clip-path=\"url(#clip570)\" d=\"M144.769 1417.38 L149.653 1417.38 L149.653 1423.26 L144.769 1423.26 L144.769 1417.38 Z\" fill=\"#000000\" fill-rule=\"evenodd\" fill-opacity=\"1\" /><path clip-path=\"url(#clip570)\" d=\"M169.839 1391.78 Q166.227 1391.78 164.399 1395.35 Q162.593 1398.89 162.593 1406.02 Q162.593 1413.13 164.399 1416.69 Q166.227 1420.23 169.839 1420.23 Q173.473 1420.23 175.278 1416.69 Q177.107 1413.13 177.107 1406.02 Q177.107 1398.89 175.278 1395.35 Q173.473 1391.78 169.839 1391.78 M169.839 1388.08 Q175.649 1388.08 178.704 1392.69 Q181.783 1397.27 181.783 1406.02 Q181.783 1414.75 178.704 1419.35 Q175.649 1423.94 169.839 1423.94 Q164.028 1423.94 160.95 1419.35 Q157.894 1414.75 157.894 1406.02 Q157.894 1397.27 160.95 1392.69 Q164.028 1388.08 169.839 1388.08 Z\" fill=\"#000000\" fill-rule=\"evenodd\" fill-opacity=\"1\" /><path clip-path=\"url(#clip570)\" d=\"M117.015 1291.96 L124.654 1291.96 L124.654 1265.59 L116.343 1267.26 L116.343 1263 L124.607 1261.33 L129.283 1261.33 L129.283 1291.96 L136.922 1291.96 L136.922 1295.89 L117.015 1295.89 L117.015 1291.96 Z\" fill=\"#000000\" fill-rule=\"evenodd\" fill-opacity=\"1\" /><path clip-path=\"url(#clip570)\" d=\"M146.366 1290.01 L151.251 1290.01 L151.251 1295.89 L146.366 1295.89 L146.366 1290.01 Z\" fill=\"#000000\" fill-rule=\"evenodd\" fill-opacity=\"1\" /><path clip-path=\"url(#clip570)\" d=\"M165.464 1291.96 L181.783 1291.96 L181.783 1295.89 L159.839 1295.89 L159.839 1291.96 Q162.501 1289.2 167.084 1284.57 Q171.69 1279.92 172.871 1278.58 Q175.116 1276.05 175.996 1274.32 Q176.899 1272.56 176.899 1270.87 Q176.899 1268.11 174.954 1266.38 Q173.033 1264.64 169.931 1264.64 Q167.732 1264.64 165.278 1265.41 Q162.848 1266.17 160.07 1267.72 L160.07 1263 Q162.894 1261.86 165.348 1261.29 Q167.802 1260.71 169.839 1260.71 Q175.209 1260.71 178.403 1263.39 Q181.598 1266.08 181.598 1270.57 Q181.598 1272.7 180.788 1274.62 Q180.001 1276.52 177.894 1279.11 Q177.315 1279.78 174.214 1283 Q171.112 1286.19 165.464 1291.96 Z\" fill=\"#000000\" fill-rule=\"evenodd\" fill-opacity=\"1\" /><path clip-path=\"url(#clip570)\" d=\"M114.931 1164.58 L122.57 1164.58 L122.57 1138.22 L114.26 1139.88 L114.26 1135.62 L122.524 1133.96 L127.2 1133.96 L127.2 1164.58 L134.839 1164.58 L134.839 1168.52 L114.931 1168.52 L114.931 1164.58 Z\" fill=\"#000000\" fill-rule=\"evenodd\" fill-opacity=\"1\" /><path clip-path=\"url(#clip570)\" d=\"M144.283 1162.64 L149.167 1162.64 L149.167 1168.52 L144.283 1168.52 L144.283 1162.64 Z\" fill=\"#000000\" fill-rule=\"evenodd\" fill-opacity=\"1\" /><path clip-path=\"url(#clip570)\" d=\"M172.2 1138.03 L160.394 1156.48 L172.2 1156.48 L172.2 1138.03 M170.973 1133.96 L176.852 1133.96 L176.852 1156.48 L181.783 1156.48 L181.783 1160.37 L176.852 1160.37 L176.852 1168.52 L172.2 1168.52 L172.2 1160.37 L156.598 1160.37 L156.598 1155.86 L170.973 1133.96 Z\" fill=\"#000000\" fill-rule=\"evenodd\" fill-opacity=\"1\" /><path clip-path=\"url(#clip570)\" d=\"M115.256 1037.21 L122.894 1037.21 L122.894 1010.84 L114.584 1012.51 L114.584 1008.25 L122.848 1006.59 L127.524 1006.59 L127.524 1037.21 L135.163 1037.21 L135.163 1041.15 L115.256 1041.15 L115.256 1037.21 Z\" fill=\"#000000\" fill-rule=\"evenodd\" fill-opacity=\"1\" /><path clip-path=\"url(#clip570)\" d=\"M144.607 1035.27 L149.491 1035.27 L149.491 1041.15 L144.607 1041.15 L144.607 1035.27 Z\" fill=\"#000000\" fill-rule=\"evenodd\" fill-opacity=\"1\" /><path clip-path=\"url(#clip570)\" d=\"M170.255 1022 Q167.107 1022 165.255 1024.15 Q163.427 1026.31 163.427 1030.06 Q163.427 1033.78 165.255 1035.96 Q167.107 1038.11 170.255 1038.11 Q173.403 1038.11 175.232 1035.96 Q177.084 1033.78 177.084 1030.06 Q177.084 1026.31 175.232 1024.15 Q173.403 1022 170.255 1022 M179.538 1007.35 L179.538 1011.61 Q177.778 1010.77 175.973 1010.34 Q174.19 1009.9 172.431 1009.9 Q167.802 1009.9 165.348 1013.02 Q162.917 1016.15 162.57 1022.46 Q163.936 1020.45 165.996 1019.39 Q168.056 1018.3 170.533 1018.3 Q175.741 1018.3 178.751 1021.47 Q181.783 1024.62 181.783 1030.06 Q181.783 1035.38 178.635 1038.6 Q175.487 1041.82 170.255 1041.82 Q164.26 1041.82 161.089 1037.23 Q157.917 1032.63 157.917 1023.9 Q157.917 1015.71 161.806 1010.84 Q165.695 1005.96 172.246 1005.96 Q174.005 1005.96 175.788 1006.31 Q177.593 1006.65 179.538 1007.35 Z\" fill=\"#000000\" fill-rule=\"evenodd\" fill-opacity=\"1\" /><path clip-path=\"url(#clip570)\" d=\"M115.51 909.837 L123.149 909.837 L123.149 883.471 L114.839 885.138 L114.839 880.879 L123.103 879.212 L127.779 879.212 L127.779 909.837 L135.417 909.837 L135.417 913.772 L115.51 913.772 L115.51 909.837 Z\" fill=\"#000000\" fill-rule=\"evenodd\" fill-opacity=\"1\" /><path clip-path=\"url(#clip570)\" d=\"M144.862 907.892 L149.746 907.892 L149.746 913.772 L144.862 913.772 L144.862 907.892 Z\" fill=\"#000000\" fill-rule=\"evenodd\" fill-opacity=\"1\" /><path clip-path=\"url(#clip570)\" d=\"M169.931 897.36 Q166.598 897.36 164.677 899.142 Q162.778 900.925 162.778 904.05 Q162.778 907.175 164.677 908.957 Q166.598 910.74 169.931 910.74 Q173.264 910.74 175.186 908.957 Q177.107 907.152 177.107 904.05 Q177.107 900.925 175.186 899.142 Q173.288 897.36 169.931 897.36 M165.255 895.369 Q162.246 894.629 160.556 892.568 Q158.89 890.508 158.89 887.545 Q158.89 883.402 161.829 880.994 Q164.792 878.587 169.931 878.587 Q175.093 878.587 178.033 880.994 Q180.973 883.402 180.973 887.545 Q180.973 890.508 179.283 892.568 Q177.616 894.629 174.63 895.369 Q178.01 896.156 179.885 898.448 Q181.783 900.74 181.783 904.05 Q181.783 909.073 178.704 911.758 Q175.649 914.443 169.931 914.443 Q164.214 914.443 161.135 911.758 Q158.079 909.073 158.079 904.05 Q158.079 900.74 159.978 898.448 Q161.876 896.156 165.255 895.369 M163.542 887.985 Q163.542 890.67 165.209 892.175 Q166.899 893.68 169.931 893.68 Q172.94 893.68 174.63 892.175 Q176.343 890.67 176.343 887.985 Q176.343 885.3 174.63 883.795 Q172.94 882.291 169.931 882.291 Q166.899 882.291 165.209 883.795 Q163.542 885.3 163.542 887.985 Z\" fill=\"#000000\" fill-rule=\"evenodd\" fill-opacity=\"1\" /><path clip-path=\"url(#clip570)\" d=\"M56.6478 1173.86 Q60.8023 1174.7 63.1856 1175.83 Q66.8248 1177.66 66.8248 1180.72 Q66.8248 1182.85 65.6332 1184.46 Q64.4094 1186.04 62.3804 1186.58 Q63.1856 1187.2 63.7331 1187.74 Q64.2806 1188.26 65.1179 1189.26 Q65.9231 1190.26 66.3739 1191.61 Q66.8248 1192.93 66.8248 1194.44 Q66.8248 1195.6 66.5994 1196.66 Q66.4062 1197.73 65.8587 1198.85 Q65.2789 1199.95 64.4094 1200.75 Q63.5398 1201.53 62.1228 1202.04 Q60.7057 1202.56 58.9022 1202.56 Q56.6478 1202.56 53.5882 1201.69 Q50.5287 1200.79 45.0537 1198.73 Q42.1551 1197.6 40.5448 1197.6 Q39.8041 1197.6 39.321 1197.76 Q38.8379 1197.92 38.6769 1198.24 Q38.4837 1198.53 38.4515 1198.73 Q38.3871 1198.92 38.3871 1199.24 Q38.3871 1201.24 40.416 1202.98 Q42.445 1204.72 46.5673 1205.91 Q47.3725 1206.17 47.5657 1206.33 Q47.759 1206.49 47.759 1206.97 Q47.7268 1207.78 47.0826 1207.78 Q46.825 1207.78 45.8266 1207.49 Q44.796 1207.2 43.2823 1206.52 Q41.7365 1205.81 40.3516 1204.84 Q38.9346 1203.88 37.9362 1202.36 Q36.9378 1200.82 36.9378 1199.05 Q36.9378 1196.63 38.5159 1195.15 Q40.0618 1193.64 42.3484 1193.64 Q43.7654 1193.64 46.5029 1194.76 Q56.0037 1198.34 59.965 1198.34 Q65.3434 1198.34 65.3434 1194.25 Q65.3434 1192.9 64.7959 1191.64 Q64.2484 1190.35 63.4754 1189.51 Q62.7025 1188.68 61.8651 1188.03 Q61.0278 1187.36 60.4803 1187.07 Q59.9328 1186.75 59.804 1186.71 L39.9651 1181.79 Q39.1922 1181.59 38.6769 1181.24 Q38.1294 1180.85 37.9362 1180.4 Q37.7429 1179.95 37.7107 1179.69 Q37.6463 1179.43 37.6463 1179.21 Q37.6463 1178.4 38.1294 1177.86 Q38.6125 1177.28 39.4498 1177.28 Q39.6109 1177.28 40.3838 1177.47 Q41.1246 1177.63 42.2196 1177.89 Q43.2823 1178.15 43.8621 1178.27 Q47.92 1179.31 48.3387 1179.4 L55.4562 1181.24 Q55.8748 1181.33 57.2275 1181.66 Q58.5801 1181.95 59.2887 1182.11 Q59.965 1182.27 60.899 1182.43 Q61.8007 1182.56 62.316 1182.56 Q63.9263 1182.56 64.6348 1182.08 Q65.3434 1181.59 65.3434 1180.53 Q65.3434 1179.53 64.667 1178.76 Q63.9585 1177.95 62.6059 1177.34 Q61.221 1176.73 60.0938 1176.37 Q58.9666 1176.02 57.1953 1175.57 Q56.4223 1175.41 56.2291 1175.28 Q56.0037 1175.12 56.0037 1174.67 Q56.0037 1173.86 56.6478 1173.86 Z\" fill=\"#000000\" fill-rule=\"evenodd\" fill-opacity=\"1\" /><path clip-path=\"url(#clip570)\" d=\"M82.5735 1118.13 L16.6159 1118.13 L16.6159 1108.18 L18.1296 1108.18 L18.1296 1113.72 L81.0598 1113.72 L81.0598 1108.18 L82.5735 1108.18 L82.5735 1118.13 Z\" fill=\"#000000\" fill-rule=\"evenodd\" fill-opacity=\"1\" /><path clip-path=\"url(#clip570)\" d=\"M48.6607 1056.44 Q49.0472 1056.05 49.5947 1056.05 Q50.1422 1056.05 50.5287 1056.44 Q50.9151 1056.82 50.9151 1057.37 L50.9151 1098.66 Q50.9151 1099.21 50.5287 1099.59 Q50.1422 1099.98 49.5947 1099.98 Q49.0472 1099.98 48.6607 1099.59 Q48.2743 1099.21 48.2743 1098.66 L48.2743 1057.37 Q48.2743 1056.82 48.6607 1056.44 Z\" fill=\"#000000\" fill-rule=\"evenodd\" fill-opacity=\"1\" /><path clip-path=\"url(#clip570)\" d=\"M81.0598 1049.16 L81.0598 1043.63 L18.1296 1043.63 L18.1296 1049.16 L16.6159 1049.16 L16.6159 1039.21 L82.5735 1039.21 L82.5735 1049.16 L81.0598 1049.16 Z\" fill=\"#000000\" fill-rule=\"evenodd\" fill-opacity=\"1\" /><polyline clip-path=\"url(#clip574)\" style=\"stroke:#000000; stroke-linecap:round; stroke-linejoin:round; stroke-width:4; stroke-opacity:1; fill:none\" stroke-dasharray=\"2, 4\" points=\"278.207,832.805 384.213,832.805 490.22,832.805 596.227,832.805 702.233,832.805 808.24,832.805 914.246,832.805 1020.25,832.805 1126.26,832.805 1232.27,832.805 1338.27,832.805 1444.28,832.805 1550.29,832.805 1656.29,832.805 1762.3,832.805 1868.31,832.805 1974.31,832.805 2080.32,832.805 2186.33,832.805 2292.33,832.805 \"/>\n",
       "<polyline clip-path=\"url(#clip574)\" style=\"stroke:#000000; stroke-linecap:round; stroke-linejoin:round; stroke-width:12; stroke-opacity:1; fill:none\" stroke-dasharray=\"48, 24, 6, 24\" points=\"278.207,1405.98 384.213,1067.95 490.22,903.557 596.227,832.805 702.233,832.805 808.24,832.805 914.246,832.847 1020.25,832.805 1126.26,833.196 1232.27,832.806 1338.27,833.006 1444.28,832.805 1550.29,833.03 1656.29,833.053 1762.3,832.805 1868.31,832.805 1974.31,833.041 2080.32,832.806 2186.33,833.271 2292.33,832.805 \"/>\n",
       "<path clip-path=\"url(#clip574)\" d=\"M266.207 1393.98 L266.207 1417.98 L290.207 1417.98 L290.207 1393.98 L266.207 1393.98 Z\" fill=\"#000000\" fill-rule=\"evenodd\" fill-opacity=\"1\" stroke=\"none\"/>\n",
       "<path clip-path=\"url(#clip574)\" d=\"M372.213 1055.95 L372.213 1079.95 L396.213 1079.95 L396.213 1055.95 L372.213 1055.95 Z\" fill=\"#000000\" fill-rule=\"evenodd\" fill-opacity=\"1\" stroke=\"none\"/>\n",
       "<path clip-path=\"url(#clip574)\" d=\"M478.22 891.557 L478.22 915.557 L502.22 915.557 L502.22 891.557 L478.22 891.557 Z\" fill=\"#000000\" fill-rule=\"evenodd\" fill-opacity=\"1\" stroke=\"none\"/>\n",
       "<path clip-path=\"url(#clip574)\" d=\"M584.227 820.805 L584.227 844.805 L608.227 844.805 L608.227 820.805 L584.227 820.805 Z\" fill=\"#000000\" fill-rule=\"evenodd\" fill-opacity=\"1\" stroke=\"none\"/>\n",
       "<path clip-path=\"url(#clip574)\" d=\"M690.233 820.805 L690.233 844.805 L714.233 844.805 L714.233 820.805 L690.233 820.805 Z\" fill=\"#000000\" fill-rule=\"evenodd\" fill-opacity=\"1\" stroke=\"none\"/>\n",
       "<path clip-path=\"url(#clip574)\" d=\"M796.24 820.805 L796.24 844.805 L820.24 844.805 L820.24 820.805 L796.24 820.805 Z\" fill=\"#000000\" fill-rule=\"evenodd\" fill-opacity=\"1\" stroke=\"none\"/>\n",
       "<path clip-path=\"url(#clip574)\" d=\"M902.246 820.847 L902.246 844.847 L926.246 844.847 L926.246 820.847 L902.246 820.847 Z\" fill=\"#000000\" fill-rule=\"evenodd\" fill-opacity=\"1\" stroke=\"none\"/>\n",
       "<path clip-path=\"url(#clip574)\" d=\"M1008.25 820.805 L1008.25 844.805 L1032.25 844.805 L1032.25 820.805 L1008.25 820.805 Z\" fill=\"#000000\" fill-rule=\"evenodd\" fill-opacity=\"1\" stroke=\"none\"/>\n",
       "<path clip-path=\"url(#clip574)\" d=\"M1114.26 821.196 L1114.26 845.196 L1138.26 845.196 L1138.26 821.196 L1114.26 821.196 Z\" fill=\"#000000\" fill-rule=\"evenodd\" fill-opacity=\"1\" stroke=\"none\"/>\n",
       "<path clip-path=\"url(#clip574)\" d=\"M1220.27 820.806 L1220.27 844.806 L1244.27 844.806 L1244.27 820.806 L1220.27 820.806 Z\" fill=\"#000000\" fill-rule=\"evenodd\" fill-opacity=\"1\" stroke=\"none\"/>\n",
       "<path clip-path=\"url(#clip574)\" d=\"M1326.27 821.006 L1326.27 845.006 L1350.27 845.006 L1350.27 821.006 L1326.27 821.006 Z\" fill=\"#000000\" fill-rule=\"evenodd\" fill-opacity=\"1\" stroke=\"none\"/>\n",
       "<path clip-path=\"url(#clip574)\" d=\"M1432.28 820.805 L1432.28 844.805 L1456.28 844.805 L1456.28 820.805 L1432.28 820.805 Z\" fill=\"#000000\" fill-rule=\"evenodd\" fill-opacity=\"1\" stroke=\"none\"/>\n",
       "<path clip-path=\"url(#clip574)\" d=\"M1538.29 821.03 L1538.29 845.03 L1562.29 845.03 L1562.29 821.03 L1538.29 821.03 Z\" fill=\"#000000\" fill-rule=\"evenodd\" fill-opacity=\"1\" stroke=\"none\"/>\n",
       "<path clip-path=\"url(#clip574)\" d=\"M1644.29 821.053 L1644.29 845.053 L1668.29 845.053 L1668.29 821.053 L1644.29 821.053 Z\" fill=\"#000000\" fill-rule=\"evenodd\" fill-opacity=\"1\" stroke=\"none\"/>\n",
       "<path clip-path=\"url(#clip574)\" d=\"M1750.3 820.805 L1750.3 844.805 L1774.3 844.805 L1774.3 820.805 L1750.3 820.805 Z\" fill=\"#000000\" fill-rule=\"evenodd\" fill-opacity=\"1\" stroke=\"none\"/>\n",
       "<path clip-path=\"url(#clip574)\" d=\"M1856.31 820.805 L1856.31 844.805 L1880.31 844.805 L1880.31 820.805 L1856.31 820.805 Z\" fill=\"#000000\" fill-rule=\"evenodd\" fill-opacity=\"1\" stroke=\"none\"/>\n",
       "<path clip-path=\"url(#clip574)\" d=\"M1962.31 821.041 L1962.31 845.041 L1986.31 845.041 L1986.31 821.041 L1962.31 821.041 Z\" fill=\"#000000\" fill-rule=\"evenodd\" fill-opacity=\"1\" stroke=\"none\"/>\n",
       "<path clip-path=\"url(#clip574)\" d=\"M2068.32 820.806 L2068.32 844.806 L2092.32 844.806 L2092.32 820.806 L2068.32 820.806 Z\" fill=\"#000000\" fill-rule=\"evenodd\" fill-opacity=\"1\" stroke=\"none\"/>\n",
       "<path clip-path=\"url(#clip574)\" d=\"M2174.33 821.271 L2174.33 845.271 L2198.33 845.271 L2198.33 821.271 L2174.33 821.271 Z\" fill=\"#000000\" fill-rule=\"evenodd\" fill-opacity=\"1\" stroke=\"none\"/>\n",
       "<path clip-path=\"url(#clip574)\" d=\"M2280.33 820.805 L2280.33 844.805 L2304.33 844.805 L2304.33 820.805 L2280.33 820.805 Z\" fill=\"#000000\" fill-rule=\"evenodd\" fill-opacity=\"1\" stroke=\"none\"/>\n",
       "<polyline clip-path=\"url(#clip574)\" style=\"stroke:#000000; stroke-linecap:round; stroke-linejoin:round; stroke-width:8; stroke-opacity:0.1; fill:none\" points=\"278.207,1405.98 384.213,1067.95 490.22,903.467 596.227,832.805 702.233,832.805 808.24,832.805 914.246,832.805 1020.25,832.805 1126.26,832.806 1232.27,832.806 1338.27,832.807 1444.28,832.805 1550.29,832.805 1656.29,832.805 1762.3,832.805 1868.31,832.805 1974.31,832.805 2080.32,832.806 2186.33,835.131 2292.33,832.805 \"/>\n",
       "<polyline clip-path=\"url(#clip574)\" style=\"stroke:#000000; stroke-linecap:round; stroke-linejoin:round; stroke-width:8; stroke-opacity:0.1; fill:none\" points=\"278.207,1405.98 384.213,1067.95 490.22,903.863 596.227,832.805 702.233,832.806 808.24,832.805 914.246,832.805 1020.25,832.805 1126.26,832.805 1232.27,832.806 1338.27,833.807 1444.28,832.805 1550.29,832.805 1656.29,832.805 1762.3,832.805 1868.31,832.805 1974.31,832.805 2080.32,832.805 2186.33,832.805 2292.33,832.805 \"/>\n",
       "<polyline clip-path=\"url(#clip574)\" style=\"stroke:#000000; stroke-linecap:round; stroke-linejoin:round; stroke-width:8; stroke-opacity:0.1; fill:none\" points=\"278.207,1405.98 384.213,1067.95 490.22,903.816 596.227,832.805 702.233,832.805 808.24,832.805 914.246,833.015 1020.25,832.805 1126.26,832.806 1232.27,832.805 1338.27,832.805 1444.28,832.805 1550.29,832.805 1656.29,832.805 1762.3,832.805 1868.31,832.805 1974.31,832.805 2080.32,832.805 2186.33,832.805 2292.33,832.805 \"/>\n",
       "<polyline clip-path=\"url(#clip574)\" style=\"stroke:#000000; stroke-linecap:round; stroke-linejoin:round; stroke-width:8; stroke-opacity:0.1; fill:none\" points=\"278.207,1405.98 384.213,1067.95 490.22,903.284 596.227,832.805 702.233,832.805 808.24,832.805 914.246,832.805 1020.25,832.805 1126.26,833.4 1232.27,832.805 1338.27,832.805 1444.28,832.805 1550.29,833.928 1656.29,832.805 1762.3,832.805 1868.31,832.805 1974.31,833.986 2080.32,832.805 2186.33,832.805 2292.33,832.805 \"/>\n",
       "<polyline clip-path=\"url(#clip574)\" style=\"stroke:#000000; stroke-linecap:round; stroke-linejoin:round; stroke-width:8; stroke-opacity:0.1; fill:none\" points=\"278.207,1405.98 384.213,1067.95 490.22,903.352 596.227,832.805 702.233,832.805 808.24,832.805 914.246,832.805 1020.25,832.805 1126.26,834.164 1232.27,832.806 1338.27,832.806 1444.28,832.805 1550.29,832.807 1656.29,834.045 1762.3,832.805 1868.31,832.805 1974.31,832.805 2080.32,832.805 2186.33,832.805 2292.33,832.805 \"/>\n",
       "</svg>\n"
      ]
     },
     "execution_count": 24,
     "metadata": {},
     "output_type": "execute_result"
    }
   ],
   "source": [
    "mc_plot(L\"u \\quad [-]\",ts,uMean[:,1,:],uPlant,uMax)\n",
    "\n",
    "#savefig(\"C:/Users/MACC-Jose/Documents/Canada/Papers/Benders Decomposition/Figures/C1_MC_inputs.pdf\");"
   ]
  },
  {
   "cell_type": "code",
   "execution_count": 25,
   "id": "141b81c4",
   "metadata": {},
   "outputs": [
    {
     "data": {
      "image/svg+xml": [
       "<?xml version=\"1.0\" encoding=\"utf-8\"?>\n",
       "<svg xmlns=\"http://www.w3.org/2000/svg\" xmlns:xlink=\"http://www.w3.org/1999/xlink\" width=\"600\" height=\"400\" viewBox=\"0 0 2400 1600\">\n",
       "<defs>\n",
       "  <clipPath id=\"clip610\">\n",
       "    <rect x=\"0\" y=\"0\" width=\"2400\" height=\"1600\"/>\n",
       "  </clipPath>\n",
       "</defs>\n",
       "<path clip-path=\"url(#clip610)\" d=\"M0 1600 L2400 1600 L2400 0 L0 0  Z\" fill=\"#ffffff\" fill-rule=\"evenodd\" fill-opacity=\"1\"/>\n",
       "<defs>\n",
       "  <clipPath id=\"clip611\">\n",
       "    <rect x=\"480\" y=\"0\" width=\"1681\" height=\"1600\"/>\n",
       "  </clipPath>\n",
       "</defs>\n",
       "<defs>\n",
       "  <clipPath id=\"clip612\">\n",
       "    <rect x=\"217\" y=\"815\" width=\"2136\" height=\"609\"/>\n",
       "  </clipPath>\n",
       "</defs>\n",
       "<path clip-path=\"url(#clip610)\" d=\"M217.783 1423.18 L2352.76 1423.18 L2352.76 47.2441 L217.783 47.2441  Z\" fill=\"#ffffff\" fill-rule=\"evenodd\" fill-opacity=\"1\"/>\n",
       "<defs>\n",
       "  <clipPath id=\"clip613\">\n",
       "    <rect x=\"217\" y=\"47\" width=\"2136\" height=\"1377\"/>\n",
       "  </clipPath>\n",
       "</defs>\n",
       "<polyline clip-path=\"url(#clip613)\" style=\"stroke:#000000; stroke-linecap:round; stroke-linejoin:round; stroke-width:8; stroke-opacity:0.1; fill:none\" points=\"702.233,1423.18 702.233,47.2441 \"/>\n",
       "<polyline clip-path=\"url(#clip613)\" style=\"stroke:#000000; stroke-linecap:round; stroke-linejoin:round; stroke-width:8; stroke-opacity:0.1; fill:none\" points=\"1232.27,1423.18 1232.27,47.2441 \"/>\n",
       "<polyline clip-path=\"url(#clip613)\" style=\"stroke:#000000; stroke-linecap:round; stroke-linejoin:round; stroke-width:8; stroke-opacity:0.1; fill:none\" points=\"1762.3,1423.18 1762.3,47.2441 \"/>\n",
       "<polyline clip-path=\"url(#clip613)\" style=\"stroke:#000000; stroke-linecap:round; stroke-linejoin:round; stroke-width:8; stroke-opacity:0.1; fill:none\" points=\"2292.33,1423.18 2292.33,47.2441 \"/>\n",
       "<polyline clip-path=\"url(#clip610)\" style=\"stroke:#000000; stroke-linecap:round; stroke-linejoin:round; stroke-width:4; stroke-opacity:1; fill:none\" points=\"217.783,1423.18 2352.76,1423.18 \"/>\n",
       "<polyline clip-path=\"url(#clip610)\" style=\"stroke:#000000; stroke-linecap:round; stroke-linejoin:round; stroke-width:4; stroke-opacity:1; fill:none\" points=\"702.233,1423.18 702.233,1404.28 \"/>\n",
       "<polyline clip-path=\"url(#clip610)\" style=\"stroke:#000000; stroke-linecap:round; stroke-linejoin:round; stroke-width:4; stroke-opacity:1; fill:none\" points=\"1232.27,1423.18 1232.27,1404.28 \"/>\n",
       "<polyline clip-path=\"url(#clip610)\" style=\"stroke:#000000; stroke-linecap:round; stroke-linejoin:round; stroke-width:4; stroke-opacity:1; fill:none\" points=\"1762.3,1423.18 1762.3,1404.28 \"/>\n",
       "<polyline clip-path=\"url(#clip610)\" style=\"stroke:#000000; stroke-linecap:round; stroke-linejoin:round; stroke-width:4; stroke-opacity:1; fill:none\" points=\"2292.33,1423.18 2292.33,1404.28 \"/>\n",
       "<path clip-path=\"url(#clip610)\" d=\"M692.511 1451.02 L710.867 1451.02 L710.867 1454.96 L696.793 1454.96 L696.793 1463.43 Q697.812 1463.08 698.83 1462.92 Q699.849 1462.73 700.867 1462.73 Q706.654 1462.73 710.034 1465.9 Q713.414 1469.08 713.414 1474.49 Q713.414 1480.07 709.941 1483.17 Q706.469 1486.25 700.15 1486.25 Q697.974 1486.25 695.705 1485.88 Q693.46 1485.51 691.053 1484.77 L691.053 1480.07 Q693.136 1481.2 695.358 1481.76 Q697.58 1482.32 700.057 1482.32 Q704.062 1482.32 706.4 1480.21 Q708.738 1478.1 708.738 1474.49 Q708.738 1470.88 706.4 1468.77 Q704.062 1466.67 700.057 1466.67 Q698.182 1466.67 696.307 1467.08 Q694.455 1467.5 692.511 1468.38 L692.511 1451.02 Z\" fill=\"#000000\" fill-rule=\"evenodd\" fill-opacity=\"1\" /><path clip-path=\"url(#clip610)\" d=\"M1206.95 1481.64 L1214.59 1481.64 L1214.59 1455.28 L1206.28 1456.95 L1206.28 1452.69 L1214.55 1451.02 L1219.22 1451.02 L1219.22 1481.64 L1226.86 1481.64 L1226.86 1485.58 L1206.95 1485.58 L1206.95 1481.64 Z\" fill=\"#000000\" fill-rule=\"evenodd\" fill-opacity=\"1\" /><path clip-path=\"url(#clip610)\" d=\"M1246.31 1454.1 Q1242.69 1454.1 1240.87 1457.66 Q1239.06 1461.2 1239.06 1468.33 Q1239.06 1475.44 1240.87 1479.01 Q1242.69 1482.55 1246.31 1482.55 Q1249.94 1482.55 1251.75 1479.01 Q1253.57 1475.44 1253.57 1468.33 Q1253.57 1461.2 1251.75 1457.66 Q1249.94 1454.1 1246.31 1454.1 M1246.31 1450.39 Q1252.12 1450.39 1255.17 1455 Q1258.25 1459.58 1258.25 1468.33 Q1258.25 1477.06 1255.17 1481.67 Q1252.12 1486.25 1246.31 1486.25 Q1240.5 1486.25 1237.42 1481.67 Q1234.36 1477.06 1234.36 1468.33 Q1234.36 1459.58 1237.42 1455 Q1240.5 1450.39 1246.31 1450.39 Z\" fill=\"#000000\" fill-rule=\"evenodd\" fill-opacity=\"1\" /><path clip-path=\"url(#clip610)\" d=\"M1737.48 1481.64 L1745.12 1481.64 L1745.12 1455.28 L1736.81 1456.95 L1736.81 1452.69 L1745.08 1451.02 L1749.75 1451.02 L1749.75 1481.64 L1757.39 1481.64 L1757.39 1485.58 L1737.48 1485.58 L1737.48 1481.64 Z\" fill=\"#000000\" fill-rule=\"evenodd\" fill-opacity=\"1\" /><path clip-path=\"url(#clip610)\" d=\"M1766.88 1451.02 L1785.24 1451.02 L1785.24 1454.96 L1771.16 1454.96 L1771.16 1463.43 Q1772.18 1463.08 1773.2 1462.92 Q1774.22 1462.73 1775.24 1462.73 Q1781.03 1462.73 1784.41 1465.9 Q1787.79 1469.08 1787.79 1474.49 Q1787.79 1480.07 1784.31 1483.17 Q1780.84 1486.25 1774.52 1486.25 Q1772.35 1486.25 1770.08 1485.88 Q1767.83 1485.51 1765.42 1484.77 L1765.42 1480.07 Q1767.51 1481.2 1769.73 1481.76 Q1771.95 1482.32 1774.43 1482.32 Q1778.43 1482.32 1780.77 1480.21 Q1783.11 1478.1 1783.11 1474.49 Q1783.11 1470.88 1780.77 1468.77 Q1778.43 1466.67 1774.43 1466.67 Q1772.55 1466.67 1770.68 1467.08 Q1768.83 1467.5 1766.88 1468.38 L1766.88 1451.02 Z\" fill=\"#000000\" fill-rule=\"evenodd\" fill-opacity=\"1\" /><path clip-path=\"url(#clip610)\" d=\"M2271.11 1481.64 L2287.42 1481.64 L2287.42 1485.58 L2265.48 1485.58 L2265.48 1481.64 Q2268.14 1478.89 2272.73 1474.26 Q2277.33 1469.61 2278.51 1468.27 Q2280.76 1465.74 2281.64 1464.01 Q2282.54 1462.25 2282.54 1460.56 Q2282.54 1457.8 2280.6 1456.07 Q2278.67 1454.33 2275.57 1454.33 Q2273.37 1454.33 2270.92 1455.09 Q2268.49 1455.86 2265.71 1457.41 L2265.71 1452.69 Q2268.54 1451.55 2270.99 1450.97 Q2273.44 1450.39 2275.48 1450.39 Q2280.85 1450.39 2284.05 1453.08 Q2287.24 1455.77 2287.24 1460.26 Q2287.24 1462.39 2286.43 1464.31 Q2285.64 1466.2 2283.54 1468.8 Q2282.96 1469.47 2279.86 1472.69 Q2276.75 1475.88 2271.11 1481.64 Z\" fill=\"#000000\" fill-rule=\"evenodd\" fill-opacity=\"1\" /><path clip-path=\"url(#clip610)\" d=\"M2307.24 1454.1 Q2303.63 1454.1 2301.8 1457.66 Q2299.99 1461.2 2299.99 1468.33 Q2299.99 1475.44 2301.8 1479.01 Q2303.63 1482.55 2307.24 1482.55 Q2310.87 1482.55 2312.68 1479.01 Q2314.51 1475.44 2314.51 1468.33 Q2314.51 1461.2 2312.68 1457.66 Q2310.87 1454.1 2307.24 1454.1 M2307.24 1450.39 Q2313.05 1450.39 2316.11 1455 Q2319.18 1459.58 2319.18 1468.33 Q2319.18 1477.06 2316.11 1481.67 Q2313.05 1486.25 2307.24 1486.25 Q2301.43 1486.25 2298.35 1481.67 Q2295.3 1477.06 2295.3 1468.33 Q2295.3 1459.58 2298.35 1455 Q2301.43 1450.39 2307.24 1450.39 Z\" fill=\"#000000\" fill-rule=\"evenodd\" fill-opacity=\"1\" /><path clip-path=\"url(#clip610)\" d=\"M1128.24 1522.27 L1128.24 1532.4 L1140.31 1532.4 L1140.31 1536.95 L1128.24 1536.95 L1128.24 1556.3 Q1128.24 1560.66 1129.42 1561.9 Q1130.63 1563.14 1134.29 1563.14 L1140.31 1563.14 L1140.31 1568.04 L1134.29 1568.04 Q1127.51 1568.04 1124.93 1565.53 Q1122.36 1562.98 1122.36 1556.3 L1122.36 1536.95 L1118.06 1536.95 L1118.06 1532.4 L1122.36 1532.4 L1122.36 1522.27 L1128.24 1522.27 Z\" fill=\"#000000\" fill-rule=\"evenodd\" fill-opacity=\"1\" /><path clip-path=\"url(#clip610)\" d=\"M1148.01 1532.4 L1153.87 1532.4 L1153.87 1568.04 L1148.01 1568.04 L1148.01 1532.4 M1148.01 1518.52 L1153.87 1518.52 L1153.87 1525.93 L1148.01 1525.93 L1148.01 1518.52 Z\" fill=\"#000000\" fill-rule=\"evenodd\" fill-opacity=\"1\" /><path clip-path=\"url(#clip610)\" d=\"M1193.87 1539.24 Q1196.07 1535.29 1199.13 1533.41 Q1202.18 1531.54 1206.32 1531.54 Q1211.89 1531.54 1214.91 1535.45 Q1217.94 1539.33 1217.94 1546.53 L1217.94 1568.04 L1212.05 1568.04 L1212.05 1546.72 Q1212.05 1541.59 1210.23 1539.11 Q1208.42 1536.63 1204.7 1536.63 Q1200.14 1536.63 1197.5 1539.65 Q1194.86 1542.68 1194.86 1547.9 L1194.86 1568.04 L1188.97 1568.04 L1188.97 1546.72 Q1188.97 1541.56 1187.16 1539.11 Q1185.34 1536.63 1181.56 1536.63 Q1177.07 1536.63 1174.43 1539.68 Q1171.78 1542.71 1171.78 1547.9 L1171.78 1568.04 L1165.9 1568.04 L1165.9 1532.4 L1171.78 1532.4 L1171.78 1537.93 Q1173.79 1534.66 1176.59 1533.1 Q1179.39 1531.54 1183.24 1531.54 Q1187.13 1531.54 1189.83 1533.51 Q1192.57 1535.48 1193.87 1539.24 Z\" fill=\"#000000\" fill-rule=\"evenodd\" fill-opacity=\"1\" /><path clip-path=\"url(#clip610)\" d=\"M1260.11 1548.76 L1260.11 1551.62 L1233.18 1551.62 Q1233.56 1557.67 1236.81 1560.85 Q1240.09 1564 1245.91 1564 Q1249.29 1564 1252.44 1563.17 Q1255.62 1562.35 1258.74 1560.69 L1258.74 1566.23 Q1255.59 1567.57 1252.28 1568.27 Q1248.97 1568.97 1245.56 1568.97 Q1237.03 1568.97 1232.04 1564 Q1227.07 1559.04 1227.07 1550.57 Q1227.07 1541.82 1231.78 1536.69 Q1236.52 1531.54 1244.54 1531.54 Q1251.74 1531.54 1255.91 1536.18 Q1260.11 1540.8 1260.11 1548.76 M1254.25 1547.04 Q1254.19 1542.23 1251.55 1539.37 Q1248.94 1536.5 1244.61 1536.5 Q1239.71 1536.5 1236.75 1539.27 Q1233.82 1542.04 1233.37 1547.07 L1254.25 1547.04 Z\" fill=\"#000000\" fill-rule=\"evenodd\" fill-opacity=\"1\" /><path clip-path=\"url(#clip610)\" d=\"M1289.9 1518.52 L1303.4 1518.52 L1303.4 1523.07 L1295.76 1523.07 L1295.76 1572.09 L1303.4 1572.09 L1303.4 1576.64 L1289.9 1576.64 L1289.9 1518.52 Z\" fill=\"#000000\" fill-rule=\"evenodd\" fill-opacity=\"1\" /><path clip-path=\"url(#clip610)\" d=\"M1343.63 1539.24 Q1345.82 1535.29 1348.88 1533.41 Q1351.93 1531.54 1356.07 1531.54 Q1361.64 1531.54 1364.67 1535.45 Q1367.69 1539.33 1367.69 1546.53 L1367.69 1568.04 L1361.8 1568.04 L1361.8 1546.72 Q1361.8 1541.59 1359.99 1539.11 Q1358.17 1536.63 1354.45 1536.63 Q1349.9 1536.63 1347.26 1539.65 Q1344.61 1542.68 1344.61 1547.9 L1344.61 1568.04 L1338.73 1568.04 L1338.73 1546.72 Q1338.73 1541.56 1336.91 1539.11 Q1335.1 1536.63 1331.31 1536.63 Q1326.82 1536.63 1324.18 1539.68 Q1321.54 1542.71 1321.54 1547.9 L1321.54 1568.04 L1315.65 1568.04 L1315.65 1532.4 L1321.54 1532.4 L1321.54 1537.93 Q1323.54 1534.66 1326.34 1533.1 Q1329.15 1531.54 1333 1531.54 Q1336.88 1531.54 1339.58 1533.51 Q1342.32 1535.48 1343.63 1539.24 Z\" fill=\"#000000\" fill-rule=\"evenodd\" fill-opacity=\"1\" /><path clip-path=\"url(#clip610)\" d=\"M1379.37 1532.4 L1385.23 1532.4 L1385.23 1568.04 L1379.37 1568.04 L1379.37 1532.4 M1379.37 1518.52 L1385.23 1518.52 L1385.23 1525.93 L1379.37 1525.93 L1379.37 1518.52 Z\" fill=\"#000000\" fill-rule=\"evenodd\" fill-opacity=\"1\" /><path clip-path=\"url(#clip610)\" d=\"M1427.11 1546.53 L1427.11 1568.04 L1421.26 1568.04 L1421.26 1546.72 Q1421.26 1541.66 1419.28 1539.14 Q1417.31 1536.63 1413.36 1536.63 Q1408.62 1536.63 1405.88 1539.65 Q1403.15 1542.68 1403.15 1547.9 L1403.15 1568.04 L1397.26 1568.04 L1397.26 1532.4 L1403.15 1532.4 L1403.15 1537.93 Q1405.25 1534.72 1408.08 1533.13 Q1410.94 1531.54 1414.67 1531.54 Q1420.81 1531.54 1423.96 1535.36 Q1427.11 1539.14 1427.11 1546.53 Z\" fill=\"#000000\" fill-rule=\"evenodd\" fill-opacity=\"1\" /><path clip-path=\"url(#clip610)\" d=\"M1452.48 1518.52 L1452.48 1576.64 L1438.99 1576.64 L1438.99 1572.09 L1446.59 1572.09 L1446.59 1523.07 L1438.99 1523.07 L1438.99 1518.52 L1452.48 1518.52 Z\" fill=\"#000000\" fill-rule=\"evenodd\" fill-opacity=\"1\" /><polyline clip-path=\"url(#clip613)\" style=\"stroke:#000000; stroke-linecap:round; stroke-linejoin:round; stroke-width:8; stroke-opacity:0.1; fill:none\" points=\"217.783,1384.24 2352.76,1384.24 \"/>\n",
       "<polyline clip-path=\"url(#clip613)\" style=\"stroke:#000000; stroke-linecap:round; stroke-linejoin:round; stroke-width:8; stroke-opacity:0.1; fill:none\" points=\"217.783,1095.78 2352.76,1095.78 \"/>\n",
       "<polyline clip-path=\"url(#clip613)\" style=\"stroke:#000000; stroke-linecap:round; stroke-linejoin:round; stroke-width:8; stroke-opacity:0.1; fill:none\" points=\"217.783,807.326 2352.76,807.326 \"/>\n",
       "<polyline clip-path=\"url(#clip613)\" style=\"stroke:#000000; stroke-linecap:round; stroke-linejoin:round; stroke-width:8; stroke-opacity:0.1; fill:none\" points=\"217.783,518.87 2352.76,518.87 \"/>\n",
       "<polyline clip-path=\"url(#clip613)\" style=\"stroke:#000000; stroke-linecap:round; stroke-linejoin:round; stroke-width:8; stroke-opacity:0.1; fill:none\" points=\"217.783,230.414 2352.76,230.414 \"/>\n",
       "<polyline clip-path=\"url(#clip610)\" style=\"stroke:#000000; stroke-linecap:round; stroke-linejoin:round; stroke-width:4; stroke-opacity:1; fill:none\" points=\"217.783,1423.18 217.783,47.2441 \"/>\n",
       "<polyline clip-path=\"url(#clip610)\" style=\"stroke:#000000; stroke-linecap:round; stroke-linejoin:round; stroke-width:4; stroke-opacity:1; fill:none\" points=\"217.783,1384.24 236.681,1384.24 \"/>\n",
       "<polyline clip-path=\"url(#clip610)\" style=\"stroke:#000000; stroke-linecap:round; stroke-linejoin:round; stroke-width:4; stroke-opacity:1; fill:none\" points=\"217.783,1095.78 236.681,1095.78 \"/>\n",
       "<polyline clip-path=\"url(#clip610)\" style=\"stroke:#000000; stroke-linecap:round; stroke-linejoin:round; stroke-width:4; stroke-opacity:1; fill:none\" points=\"217.783,807.326 236.681,807.326 \"/>\n",
       "<polyline clip-path=\"url(#clip610)\" style=\"stroke:#000000; stroke-linecap:round; stroke-linejoin:round; stroke-width:4; stroke-opacity:1; fill:none\" points=\"217.783,518.87 236.681,518.87 \"/>\n",
       "<polyline clip-path=\"url(#clip610)\" style=\"stroke:#000000; stroke-linecap:round; stroke-linejoin:round; stroke-width:4; stroke-opacity:1; fill:none\" points=\"217.783,230.414 236.681,230.414 \"/>\n",
       "<path clip-path=\"url(#clip610)\" d=\"M115.418 1397.58 L123.056 1397.58 L123.056 1371.22 L114.746 1372.88 L114.746 1368.62 L123.01 1366.96 L127.686 1366.96 L127.686 1397.58 L135.325 1397.58 L135.325 1401.52 L115.418 1401.52 L115.418 1397.58 Z\" fill=\"#000000\" fill-rule=\"evenodd\" fill-opacity=\"1\" /><path clip-path=\"url(#clip610)\" d=\"M144.769 1395.64 L149.653 1395.64 L149.653 1401.52 L144.769 1401.52 L144.769 1395.64 Z\" fill=\"#000000\" fill-rule=\"evenodd\" fill-opacity=\"1\" /><path clip-path=\"url(#clip610)\" d=\"M169.839 1370.04 Q166.227 1370.04 164.399 1373.6 Q162.593 1377.14 162.593 1384.27 Q162.593 1391.38 164.399 1394.94 Q166.227 1398.49 169.839 1398.49 Q173.473 1398.49 175.278 1394.94 Q177.107 1391.38 177.107 1384.27 Q177.107 1377.14 175.278 1373.6 Q173.473 1370.04 169.839 1370.04 M169.839 1366.33 Q175.649 1366.33 178.704 1370.94 Q181.783 1375.52 181.783 1384.27 Q181.783 1393 178.704 1397.61 Q175.649 1402.19 169.839 1402.19 Q164.028 1402.19 160.95 1397.61 Q157.894 1393 157.894 1384.27 Q157.894 1375.52 160.95 1370.94 Q164.028 1366.33 169.839 1366.33 Z\" fill=\"#000000\" fill-rule=\"evenodd\" fill-opacity=\"1\" /><path clip-path=\"url(#clip610)\" d=\"M117.015 1109.13 L124.654 1109.13 L124.654 1082.76 L116.343 1084.43 L116.343 1080.17 L124.607 1078.5 L129.283 1078.5 L129.283 1109.13 L136.922 1109.13 L136.922 1113.06 L117.015 1113.06 L117.015 1109.13 Z\" fill=\"#000000\" fill-rule=\"evenodd\" fill-opacity=\"1\" /><path clip-path=\"url(#clip610)\" d=\"M146.366 1107.18 L151.251 1107.18 L151.251 1113.06 L146.366 1113.06 L146.366 1107.18 Z\" fill=\"#000000\" fill-rule=\"evenodd\" fill-opacity=\"1\" /><path clip-path=\"url(#clip610)\" d=\"M165.464 1109.13 L181.783 1109.13 L181.783 1113.06 L159.839 1113.06 L159.839 1109.13 Q162.501 1106.37 167.084 1101.74 Q171.69 1097.09 172.871 1095.75 Q175.116 1093.22 175.996 1091.49 Q176.899 1089.73 176.899 1088.04 Q176.899 1085.28 174.954 1083.55 Q173.033 1081.81 169.931 1081.81 Q167.732 1081.81 165.278 1082.58 Q162.848 1083.34 160.07 1084.89 L160.07 1080.17 Q162.894 1079.03 165.348 1078.46 Q167.802 1077.88 169.839 1077.88 Q175.209 1077.88 178.403 1080.56 Q181.598 1083.25 181.598 1087.74 Q181.598 1089.87 180.788 1091.79 Q180.001 1093.69 177.894 1096.28 Q177.315 1096.95 174.214 1100.17 Q171.112 1103.36 165.464 1109.13 Z\" fill=\"#000000\" fill-rule=\"evenodd\" fill-opacity=\"1\" /><path clip-path=\"url(#clip610)\" d=\"M114.931 820.671 L122.57 820.671 L122.57 794.305 L114.26 795.972 L114.26 791.713 L122.524 790.046 L127.2 790.046 L127.2 820.671 L134.839 820.671 L134.839 824.606 L114.931 824.606 L114.931 820.671 Z\" fill=\"#000000\" fill-rule=\"evenodd\" fill-opacity=\"1\" /><path clip-path=\"url(#clip610)\" d=\"M144.283 818.726 L149.167 818.726 L149.167 824.606 L144.283 824.606 L144.283 818.726 Z\" fill=\"#000000\" fill-rule=\"evenodd\" fill-opacity=\"1\" /><path clip-path=\"url(#clip610)\" d=\"M172.2 794.12 L160.394 812.569 L172.2 812.569 L172.2 794.12 M170.973 790.046 L176.852 790.046 L176.852 812.569 L181.783 812.569 L181.783 816.458 L176.852 816.458 L176.852 824.606 L172.2 824.606 L172.2 816.458 L156.598 816.458 L156.598 811.944 L170.973 790.046 Z\" fill=\"#000000\" fill-rule=\"evenodd\" fill-opacity=\"1\" /><path clip-path=\"url(#clip610)\" d=\"M115.256 532.215 L122.894 532.215 L122.894 505.849 L114.584 507.516 L114.584 503.257 L122.848 501.59 L127.524 501.59 L127.524 532.215 L135.163 532.215 L135.163 536.15 L115.256 536.15 L115.256 532.215 Z\" fill=\"#000000\" fill-rule=\"evenodd\" fill-opacity=\"1\" /><path clip-path=\"url(#clip610)\" d=\"M144.607 530.27 L149.491 530.27 L149.491 536.15 L144.607 536.15 L144.607 530.27 Z\" fill=\"#000000\" fill-rule=\"evenodd\" fill-opacity=\"1\" /><path clip-path=\"url(#clip610)\" d=\"M170.255 517.006 Q167.107 517.006 165.255 519.159 Q163.427 521.312 163.427 525.062 Q163.427 528.789 165.255 530.965 Q167.107 533.117 170.255 533.117 Q173.403 533.117 175.232 530.965 Q177.084 528.789 177.084 525.062 Q177.084 521.312 175.232 519.159 Q173.403 517.006 170.255 517.006 M179.538 502.354 L179.538 506.613 Q177.778 505.78 175.973 505.34 Q174.19 504.9 172.431 504.9 Q167.802 504.9 165.348 508.025 Q162.917 511.15 162.57 517.469 Q163.936 515.456 165.996 514.391 Q168.056 513.303 170.533 513.303 Q175.741 513.303 178.751 516.474 Q181.783 519.622 181.783 525.062 Q181.783 530.386 178.635 533.604 Q175.487 536.821 170.255 536.821 Q164.26 536.821 161.089 532.238 Q157.917 527.631 157.917 518.905 Q157.917 510.71 161.806 505.849 Q165.695 500.965 172.246 500.965 Q174.005 500.965 175.788 501.312 Q177.593 501.659 179.538 502.354 Z\" fill=\"#000000\" fill-rule=\"evenodd\" fill-opacity=\"1\" /><path clip-path=\"url(#clip610)\" d=\"M115.51 243.759 L123.149 243.759 L123.149 217.393 L114.839 219.06 L114.839 214.8 L123.103 213.134 L127.779 213.134 L127.779 243.759 L135.417 243.759 L135.417 247.694 L115.51 247.694 L115.51 243.759 Z\" fill=\"#000000\" fill-rule=\"evenodd\" fill-opacity=\"1\" /><path clip-path=\"url(#clip610)\" d=\"M144.862 241.814 L149.746 241.814 L149.746 247.694 L144.862 247.694 L144.862 241.814 Z\" fill=\"#000000\" fill-rule=\"evenodd\" fill-opacity=\"1\" /><path clip-path=\"url(#clip610)\" d=\"M169.931 231.282 Q166.598 231.282 164.677 233.064 Q162.778 234.847 162.778 237.972 Q162.778 241.097 164.677 242.879 Q166.598 244.661 169.931 244.661 Q173.264 244.661 175.186 242.879 Q177.107 241.073 177.107 237.972 Q177.107 234.847 175.186 233.064 Q173.288 231.282 169.931 231.282 M165.255 229.291 Q162.246 228.55 160.556 226.49 Q158.89 224.43 158.89 221.467 Q158.89 217.324 161.829 214.916 Q164.792 212.509 169.931 212.509 Q175.093 212.509 178.033 214.916 Q180.973 217.324 180.973 221.467 Q180.973 224.43 179.283 226.49 Q177.616 228.55 174.63 229.291 Q178.01 230.078 179.885 232.37 Q181.783 234.661 181.783 237.972 Q181.783 242.995 178.704 245.68 Q175.649 248.365 169.931 248.365 Q164.214 248.365 161.135 245.68 Q158.079 242.995 158.079 237.972 Q158.079 234.661 159.978 232.37 Q161.876 230.078 165.255 229.291 M163.542 221.907 Q163.542 224.592 165.209 226.097 Q166.899 227.601 169.931 227.601 Q172.94 227.601 174.63 226.097 Q176.343 224.592 176.343 221.907 Q176.343 219.222 174.63 217.717 Q172.94 216.212 169.931 216.212 Q166.899 216.212 165.209 217.717 Q163.542 219.222 163.542 221.907 Z\" fill=\"#000000\" fill-rule=\"evenodd\" fill-opacity=\"1\" /><path clip-path=\"url(#clip610)\" d=\"M56.6478 789.68 Q60.8023 790.517 63.1856 791.644 Q66.8248 793.48 66.8248 796.54 Q66.8248 798.665 65.6332 800.275 Q64.4094 801.854 62.3804 802.401 Q63.1856 803.013 63.7331 803.56 Q64.2806 804.076 65.1179 805.074 Q65.9231 806.073 66.3739 807.425 Q66.8248 808.746 66.8248 810.259 Q66.8248 811.419 66.5994 812.481 Q66.4062 813.544 65.8587 814.671 Q65.2789 815.766 64.4094 816.572 Q63.5398 817.345 62.1228 817.86 Q60.7057 818.375 58.9022 818.375 Q56.6478 818.375 53.5882 817.506 Q50.5287 816.604 45.0537 814.543 Q42.1551 813.415 40.5448 813.415 Q39.8041 813.415 39.321 813.576 Q38.8379 813.738 38.6769 814.06 Q38.4837 814.349 38.4515 814.543 Q38.3871 814.736 38.3871 815.058 Q38.3871 817.055 40.416 818.794 Q42.445 820.533 46.5673 821.725 Q47.3725 821.982 47.5657 822.143 Q47.759 822.304 47.759 822.787 Q47.7268 823.593 47.0826 823.593 Q46.825 823.593 45.8266 823.303 Q44.796 823.013 43.2823 822.336 Q41.7365 821.628 40.3516 820.662 Q38.9346 819.696 37.9362 818.182 Q36.9378 816.636 36.9378 814.865 Q36.9378 812.449 38.5159 810.968 Q40.0618 809.454 42.3484 809.454 Q43.7654 809.454 46.5029 810.581 Q56.0037 814.156 59.965 814.156 Q65.3434 814.156 65.3434 810.066 Q65.3434 808.713 64.7959 807.457 Q64.2484 806.169 63.4754 805.332 Q62.7025 804.494 61.8651 803.85 Q61.0278 803.174 60.4803 802.884 Q59.9328 802.562 59.804 802.53 L39.9651 797.602 Q39.1922 797.409 38.6769 797.055 Q38.1294 796.668 37.9362 796.218 Q37.7429 795.767 37.7107 795.509 Q37.6463 795.251 37.6463 795.026 Q37.6463 794.221 38.1294 793.673 Q38.6125 793.094 39.4498 793.094 Q39.6109 793.094 40.3838 793.287 Q41.1246 793.448 42.2196 793.705 Q43.2823 793.963 43.8621 794.092 Q47.92 795.123 48.3387 795.219 L55.4562 797.055 Q55.8748 797.152 57.2275 797.474 Q58.5801 797.763 59.2887 797.924 Q59.965 798.085 60.899 798.247 Q61.8007 798.375 62.316 798.375 Q63.9263 798.375 64.6348 797.892 Q65.3434 797.409 65.3434 796.346 Q65.3434 795.348 64.667 794.575 Q63.9585 793.77 62.6059 793.158 Q61.221 792.546 60.0938 792.192 Q58.9666 791.838 57.1953 791.387 Q56.4223 791.226 56.2291 791.097 Q56.0037 790.936 56.0037 790.485 Q56.0037 789.68 56.6478 789.68 Z\" fill=\"#000000\" fill-rule=\"evenodd\" fill-opacity=\"1\" /><path clip-path=\"url(#clip610)\" d=\"M82.5735 733.946 L16.6159 733.946 L16.6159 723.995 L18.1296 723.995 L18.1296 729.534 L81.0598 729.534 L81.0598 723.995 L82.5735 723.995 L82.5735 733.946 Z\" fill=\"#000000\" fill-rule=\"evenodd\" fill-opacity=\"1\" /><path clip-path=\"url(#clip610)\" d=\"M48.6607 672.254 Q49.0472 671.867 49.5947 671.867 Q50.1422 671.867 50.5287 672.254 Q50.9151 672.64 50.9151 673.188 L50.9151 714.476 Q50.9151 715.023 50.5287 715.409 Q50.1422 715.796 49.5947 715.796 Q49.0472 715.796 48.6607 715.409 Q48.2743 715.023 48.2743 714.476 L48.2743 673.188 Q48.2743 672.64 48.6607 672.254 Z\" fill=\"#000000\" fill-rule=\"evenodd\" fill-opacity=\"1\" /><path clip-path=\"url(#clip610)\" d=\"M81.0598 664.982 L81.0598 659.442 L18.1296 659.442 L18.1296 664.982 L16.6159 664.982 L16.6159 655.03 L82.5735 655.03 L82.5735 664.982 L81.0598 664.982 Z\" fill=\"#000000\" fill-rule=\"evenodd\" fill-opacity=\"1\" /><polyline clip-path=\"url(#clip613)\" style=\"stroke:#000000; stroke-linecap:round; stroke-linejoin:round; stroke-width:4; stroke-opacity:1; fill:none\" stroke-dasharray=\"2, 4\" points=\"278.207,86.1857 384.213,86.1857 490.22,86.1857 596.227,86.1857 702.233,86.1857 808.24,86.1857 914.246,86.1857 1020.25,86.1857 1126.26,86.1857 1232.27,86.1857 1338.27,86.1857 1444.28,86.1857 1550.29,86.1857 1656.29,86.1857 1762.3,86.1857 1868.31,86.1857 1974.31,86.1857 2080.32,86.1857 2186.33,86.1857 2292.33,86.1857 \"/>\n",
       "<polyline clip-path=\"url(#clip613)\" style=\"stroke:#000000; stroke-linecap:round; stroke-linejoin:round; stroke-width:12; stroke-opacity:1; fill:none\" points=\"278.207,1384.24 384.213,618.706 490.22,246.413 596.227,86.1857 702.233,86.1857 808.24,86.1857 914.246,86.1857 1020.25,86.1857 1126.26,86.1857 1232.27,86.1857 1338.27,86.1857 1444.28,86.1857 1550.29,86.1857 1656.29,86.1857 1762.3,86.1857 1868.31,86.1857 1974.31,86.1857 2080.32,86.1857 2186.33,86.1857 2292.33,86.1857 \"/>\n",
       "<circle clip-path=\"url(#clip613)\" cx=\"278.207\" cy=\"1384.24\" r=\"10.8\" fill=\"#000000\" fill-rule=\"evenodd\" fill-opacity=\"1\" stroke=\"none\"/>\n",
       "<circle clip-path=\"url(#clip613)\" cx=\"384.213\" cy=\"618.706\" r=\"10.8\" fill=\"#000000\" fill-rule=\"evenodd\" fill-opacity=\"1\" stroke=\"none\"/>\n",
       "<circle clip-path=\"url(#clip613)\" cx=\"490.22\" cy=\"246.413\" r=\"10.8\" fill=\"#000000\" fill-rule=\"evenodd\" fill-opacity=\"1\" stroke=\"none\"/>\n",
       "<circle clip-path=\"url(#clip613)\" cx=\"596.227\" cy=\"86.1857\" r=\"10.8\" fill=\"#000000\" fill-rule=\"evenodd\" fill-opacity=\"1\" stroke=\"none\"/>\n",
       "<circle clip-path=\"url(#clip613)\" cx=\"702.233\" cy=\"86.1857\" r=\"10.8\" fill=\"#000000\" fill-rule=\"evenodd\" fill-opacity=\"1\" stroke=\"none\"/>\n",
       "<circle clip-path=\"url(#clip613)\" cx=\"808.24\" cy=\"86.1857\" r=\"10.8\" fill=\"#000000\" fill-rule=\"evenodd\" fill-opacity=\"1\" stroke=\"none\"/>\n",
       "<circle clip-path=\"url(#clip613)\" cx=\"914.246\" cy=\"86.1857\" r=\"10.8\" fill=\"#000000\" fill-rule=\"evenodd\" fill-opacity=\"1\" stroke=\"none\"/>\n",
       "<circle clip-path=\"url(#clip613)\" cx=\"1020.25\" cy=\"86.1857\" r=\"10.8\" fill=\"#000000\" fill-rule=\"evenodd\" fill-opacity=\"1\" stroke=\"none\"/>\n",
       "<circle clip-path=\"url(#clip613)\" cx=\"1126.26\" cy=\"86.1857\" r=\"10.8\" fill=\"#000000\" fill-rule=\"evenodd\" fill-opacity=\"1\" stroke=\"none\"/>\n",
       "<circle clip-path=\"url(#clip613)\" cx=\"1232.27\" cy=\"86.1857\" r=\"10.8\" fill=\"#000000\" fill-rule=\"evenodd\" fill-opacity=\"1\" stroke=\"none\"/>\n",
       "<circle clip-path=\"url(#clip613)\" cx=\"1338.27\" cy=\"86.1857\" r=\"10.8\" fill=\"#000000\" fill-rule=\"evenodd\" fill-opacity=\"1\" stroke=\"none\"/>\n",
       "<circle clip-path=\"url(#clip613)\" cx=\"1444.28\" cy=\"86.1857\" r=\"10.8\" fill=\"#000000\" fill-rule=\"evenodd\" fill-opacity=\"1\" stroke=\"none\"/>\n",
       "<circle clip-path=\"url(#clip613)\" cx=\"1550.29\" cy=\"86.1857\" r=\"10.8\" fill=\"#000000\" fill-rule=\"evenodd\" fill-opacity=\"1\" stroke=\"none\"/>\n",
       "<circle clip-path=\"url(#clip613)\" cx=\"1656.29\" cy=\"86.1857\" r=\"10.8\" fill=\"#000000\" fill-rule=\"evenodd\" fill-opacity=\"1\" stroke=\"none\"/>\n",
       "<circle clip-path=\"url(#clip613)\" cx=\"1762.3\" cy=\"86.1857\" r=\"10.8\" fill=\"#000000\" fill-rule=\"evenodd\" fill-opacity=\"1\" stroke=\"none\"/>\n",
       "<circle clip-path=\"url(#clip613)\" cx=\"1868.31\" cy=\"86.1857\" r=\"10.8\" fill=\"#000000\" fill-rule=\"evenodd\" fill-opacity=\"1\" stroke=\"none\"/>\n",
       "<circle clip-path=\"url(#clip613)\" cx=\"1974.31\" cy=\"86.1857\" r=\"10.8\" fill=\"#000000\" fill-rule=\"evenodd\" fill-opacity=\"1\" stroke=\"none\"/>\n",
       "<circle clip-path=\"url(#clip613)\" cx=\"2080.32\" cy=\"86.1857\" r=\"10.8\" fill=\"#000000\" fill-rule=\"evenodd\" fill-opacity=\"1\" stroke=\"none\"/>\n",
       "<circle clip-path=\"url(#clip613)\" cx=\"2186.33\" cy=\"86.1857\" r=\"10.8\" fill=\"#000000\" fill-rule=\"evenodd\" fill-opacity=\"1\" stroke=\"none\"/>\n",
       "<circle clip-path=\"url(#clip613)\" cx=\"2292.33\" cy=\"86.1857\" r=\"10.8\" fill=\"#000000\" fill-rule=\"evenodd\" fill-opacity=\"1\" stroke=\"none\"/>\n",
       "<polyline clip-path=\"url(#clip613)\" style=\"stroke:#000000; stroke-linecap:round; stroke-linejoin:round; stroke-width:12; stroke-opacity:1; fill:none\" stroke-dasharray=\"48, 24, 6, 24\" points=\"278.207,1384.24 384.213,618.706 490.22,246.413 596.227,86.1857 702.233,86.1857 808.24,86.1857 914.246,86.2804 1020.25,86.1857 1126.26,87.0707 1232.27,86.1859 1338.27,86.6404 1444.28,86.1857 1550.29,86.6948 1656.29,86.7469 1762.3,86.1857 1868.31,86.1857 1974.31,86.7202 2080.32,86.1858 2186.33,87.2392 2292.33,86.1857 \"/>\n",
       "<path clip-path=\"url(#clip613)\" d=\"M266.207 1372.24 L266.207 1396.24 L290.207 1396.24 L290.207 1372.24 L266.207 1372.24 Z\" fill=\"#000000\" fill-rule=\"evenodd\" fill-opacity=\"1\" stroke=\"none\"/>\n",
       "<path clip-path=\"url(#clip613)\" d=\"M372.213 606.706 L372.213 630.706 L396.213 630.706 L396.213 606.706 L372.213 606.706 Z\" fill=\"#000000\" fill-rule=\"evenodd\" fill-opacity=\"1\" stroke=\"none\"/>\n",
       "<path clip-path=\"url(#clip613)\" d=\"M478.22 234.413 L478.22 258.413 L502.22 258.413 L502.22 234.413 L478.22 234.413 Z\" fill=\"#000000\" fill-rule=\"evenodd\" fill-opacity=\"1\" stroke=\"none\"/>\n",
       "<path clip-path=\"url(#clip613)\" d=\"M584.227 74.1857 L584.227 98.1857 L608.227 98.1857 L608.227 74.1857 L584.227 74.1857 Z\" fill=\"#000000\" fill-rule=\"evenodd\" fill-opacity=\"1\" stroke=\"none\"/>\n",
       "<path clip-path=\"url(#clip613)\" d=\"M690.233 74.1857 L690.233 98.1857 L714.233 98.1857 L714.233 74.1857 L690.233 74.1857 Z\" fill=\"#000000\" fill-rule=\"evenodd\" fill-opacity=\"1\" stroke=\"none\"/>\n",
       "<path clip-path=\"url(#clip613)\" d=\"M796.24 74.1857 L796.24 98.1857 L820.24 98.1857 L820.24 74.1857 L796.24 74.1857 Z\" fill=\"#000000\" fill-rule=\"evenodd\" fill-opacity=\"1\" stroke=\"none\"/>\n",
       "<path clip-path=\"url(#clip613)\" d=\"M902.246 74.2804 L902.246 98.2804 L926.246 98.2804 L926.246 74.2804 L902.246 74.2804 Z\" fill=\"#000000\" fill-rule=\"evenodd\" fill-opacity=\"1\" stroke=\"none\"/>\n",
       "<path clip-path=\"url(#clip613)\" d=\"M1008.25 74.1857 L1008.25 98.1857 L1032.25 98.1857 L1032.25 74.1857 L1008.25 74.1857 Z\" fill=\"#000000\" fill-rule=\"evenodd\" fill-opacity=\"1\" stroke=\"none\"/>\n",
       "<path clip-path=\"url(#clip613)\" d=\"M1114.26 75.0707 L1114.26 99.0707 L1138.26 99.0707 L1138.26 75.0707 L1114.26 75.0707 Z\" fill=\"#000000\" fill-rule=\"evenodd\" fill-opacity=\"1\" stroke=\"none\"/>\n",
       "<path clip-path=\"url(#clip613)\" d=\"M1220.27 74.1859 L1220.27 98.1859 L1244.27 98.1859 L1244.27 74.1859 L1220.27 74.1859 Z\" fill=\"#000000\" fill-rule=\"evenodd\" fill-opacity=\"1\" stroke=\"none\"/>\n",
       "<path clip-path=\"url(#clip613)\" d=\"M1326.27 74.6404 L1326.27 98.6404 L1350.27 98.6404 L1350.27 74.6404 L1326.27 74.6404 Z\" fill=\"#000000\" fill-rule=\"evenodd\" fill-opacity=\"1\" stroke=\"none\"/>\n",
       "<path clip-path=\"url(#clip613)\" d=\"M1432.28 74.1857 L1432.28 98.1857 L1456.28 98.1857 L1456.28 74.1857 L1432.28 74.1857 Z\" fill=\"#000000\" fill-rule=\"evenodd\" fill-opacity=\"1\" stroke=\"none\"/>\n",
       "<path clip-path=\"url(#clip613)\" d=\"M1538.29 74.6948 L1538.29 98.6948 L1562.29 98.6948 L1562.29 74.6948 L1538.29 74.6948 Z\" fill=\"#000000\" fill-rule=\"evenodd\" fill-opacity=\"1\" stroke=\"none\"/>\n",
       "<path clip-path=\"url(#clip613)\" d=\"M1644.29 74.7469 L1644.29 98.7469 L1668.29 98.7469 L1668.29 74.7469 L1644.29 74.7469 Z\" fill=\"#000000\" fill-rule=\"evenodd\" fill-opacity=\"1\" stroke=\"none\"/>\n",
       "<path clip-path=\"url(#clip613)\" d=\"M1750.3 74.1857 L1750.3 98.1857 L1774.3 98.1857 L1774.3 74.1857 L1750.3 74.1857 Z\" fill=\"#000000\" fill-rule=\"evenodd\" fill-opacity=\"1\" stroke=\"none\"/>\n",
       "<path clip-path=\"url(#clip613)\" d=\"M1856.31 74.1857 L1856.31 98.1857 L1880.31 98.1857 L1880.31 74.1857 L1856.31 74.1857 Z\" fill=\"#000000\" fill-rule=\"evenodd\" fill-opacity=\"1\" stroke=\"none\"/>\n",
       "<path clip-path=\"url(#clip613)\" d=\"M1962.31 74.7202 L1962.31 98.7202 L1986.31 98.7202 L1986.31 74.7202 L1962.31 74.7202 Z\" fill=\"#000000\" fill-rule=\"evenodd\" fill-opacity=\"1\" stroke=\"none\"/>\n",
       "<path clip-path=\"url(#clip613)\" d=\"M2068.32 74.1858 L2068.32 98.1858 L2092.32 98.1858 L2092.32 74.1858 L2068.32 74.1858 Z\" fill=\"#000000\" fill-rule=\"evenodd\" fill-opacity=\"1\" stroke=\"none\"/>\n",
       "<path clip-path=\"url(#clip613)\" d=\"M2174.33 75.2392 L2174.33 99.2392 L2198.33 99.2392 L2198.33 75.2392 L2174.33 75.2392 Z\" fill=\"#000000\" fill-rule=\"evenodd\" fill-opacity=\"1\" stroke=\"none\"/>\n",
       "<path clip-path=\"url(#clip613)\" d=\"M2280.33 74.1857 L2280.33 98.1857 L2304.33 98.1857 L2304.33 74.1857 L2280.33 74.1857 Z\" fill=\"#000000\" fill-rule=\"evenodd\" fill-opacity=\"1\" stroke=\"none\"/>\n",
       "<path clip-path=\"url(#clip610)\" d=\"M1934.67 1377.32 L2281.59 1377.32 L2281.59 1169.96 L1934.67 1169.96  Z\" fill=\"#ffffff\" fill-rule=\"evenodd\" fill-opacity=\"1\"/>\n",
       "<polyline clip-path=\"url(#clip610)\" style=\"stroke:#000000; stroke-linecap:round; stroke-linejoin:round; stroke-width:4; stroke-opacity:1; fill:none\" points=\"1934.67,1377.32 2281.59,1377.32 2281.59,1169.96 1934.67,1169.96 1934.67,1377.32 \"/>\n",
       "<polyline clip-path=\"url(#clip610)\" style=\"stroke:#000000; stroke-linecap:round; stroke-linejoin:round; stroke-width:4; stroke-opacity:1; fill:none\" stroke-dasharray=\"2, 4\" points=\"1958.39,1221.8 2100.72,1221.8 \"/>\n",
       "<path clip-path=\"url(#clip610)\" d=\"M2124.44 1204.52 L2129.12 1204.52 L2129.12 1235.14 L2145.95 1235.14 L2145.95 1239.08 L2124.44 1239.08 L2124.44 1204.52 Z\" fill=\"#000000\" fill-rule=\"evenodd\" fill-opacity=\"1\" /><path clip-path=\"url(#clip610)\" d=\"M2150.67 1213.15 L2154.93 1213.15 L2154.93 1239.08 L2150.67 1239.08 L2150.67 1213.15 M2150.67 1203.06 L2154.93 1203.06 L2154.93 1208.45 L2150.67 1208.45 L2150.67 1203.06 Z\" fill=\"#000000\" fill-rule=\"evenodd\" fill-opacity=\"1\" /><path clip-path=\"url(#clip610)\" d=\"M2184.03 1218.13 Q2185.62 1215.26 2187.85 1213.89 Q2190.07 1212.52 2193.08 1212.52 Q2197.13 1212.52 2199.33 1215.37 Q2201.53 1218.2 2201.53 1223.43 L2201.53 1239.08 L2197.24 1239.08 L2197.24 1223.57 Q2197.24 1219.84 2195.92 1218.03 Q2194.6 1216.23 2191.9 1216.23 Q2188.59 1216.23 2186.66 1218.43 Q2184.74 1220.63 2184.74 1224.42 L2184.74 1239.08 L2180.46 1239.08 L2180.46 1223.57 Q2180.46 1219.82 2179.14 1218.03 Q2177.82 1216.23 2175.07 1216.23 Q2171.8 1216.23 2169.88 1218.45 Q2167.96 1220.65 2167.96 1224.42 L2167.96 1239.08 L2163.68 1239.08 L2163.68 1213.15 L2167.96 1213.15 L2167.96 1217.18 Q2169.42 1214.79 2171.46 1213.66 Q2173.49 1212.52 2176.29 1212.52 Q2179.12 1212.52 2181.09 1213.96 Q2183.08 1215.39 2184.03 1218.13 Z\" fill=\"#000000\" fill-rule=\"evenodd\" fill-opacity=\"1\" /><path clip-path=\"url(#clip610)\" d=\"M2210.02 1213.15 L2214.28 1213.15 L2214.28 1239.08 L2210.02 1239.08 L2210.02 1213.15 M2210.02 1203.06 L2214.28 1203.06 L2214.28 1208.45 L2210.02 1208.45 L2210.02 1203.06 Z\" fill=\"#000000\" fill-rule=\"evenodd\" fill-opacity=\"1\" /><path clip-path=\"url(#clip610)\" d=\"M2227.41 1205.79 L2227.41 1213.15 L2236.18 1213.15 L2236.18 1216.46 L2227.41 1216.46 L2227.41 1230.53 Q2227.41 1233.7 2228.26 1234.61 Q2229.14 1235.51 2231.8 1235.51 L2236.18 1235.51 L2236.18 1239.08 L2231.8 1239.08 Q2226.87 1239.08 2225 1237.25 Q2223.12 1235.39 2223.12 1230.53 L2223.12 1216.46 L2220 1216.46 L2220 1213.15 L2223.12 1213.15 L2223.12 1205.79 L2227.41 1205.79 Z\" fill=\"#000000\" fill-rule=\"evenodd\" fill-opacity=\"1\" /><polyline clip-path=\"url(#clip610)\" style=\"stroke:#000000; stroke-linecap:round; stroke-linejoin:round; stroke-width:12; stroke-opacity:1; fill:none\" points=\"1958.39,1273.64 2100.72,1273.64 \"/>\n",
       "<circle clip-path=\"url(#clip610)\" cx=\"2029.56\" cy=\"1273.64\" r=\"19.7683\" fill=\"#000000\" fill-rule=\"evenodd\" fill-opacity=\"1\" stroke=\"none\"/>\n",
       "<path clip-path=\"url(#clip610)\" d=\"M2124.44 1256.36 L2131.41 1256.36 L2140.23 1279.87 L2149.1 1256.36 L2156.06 1256.36 L2156.06 1290.92 L2151.5 1290.92 L2151.5 1260.57 L2142.59 1284.27 L2137.89 1284.27 L2128.98 1260.57 L2128.98 1290.92 L2124.44 1290.92 L2124.44 1256.36 Z\" fill=\"#000000\" fill-rule=\"evenodd\" fill-opacity=\"1\" /><path clip-path=\"url(#clip610)\" d=\"M2175.21 1267.98 Q2171.78 1267.98 2169.79 1270.66 Q2167.8 1273.32 2167.8 1277.98 Q2167.8 1282.63 2169.77 1285.31 Q2171.76 1287.98 2175.21 1287.98 Q2178.61 1287.98 2180.6 1285.29 Q2182.59 1282.61 2182.59 1277.98 Q2182.59 1273.37 2180.6 1270.68 Q2178.61 1267.98 2175.21 1267.98 M2175.21 1264.36 Q2180.76 1264.36 2183.93 1267.98 Q2187.1 1271.59 2187.1 1277.98 Q2187.1 1284.34 2183.93 1287.98 Q2180.76 1291.59 2175.21 1291.59 Q2169.63 1291.59 2166.46 1287.98 Q2163.31 1284.34 2163.31 1277.98 Q2163.31 1271.59 2166.46 1267.98 Q2169.63 1264.36 2175.21 1264.36 Z\" fill=\"#000000\" fill-rule=\"evenodd\" fill-opacity=\"1\" /><path clip-path=\"url(#clip610)\" d=\"M2215.72 1275.27 L2215.72 1290.92 L2211.46 1290.92 L2211.46 1275.41 Q2211.46 1271.73 2210.02 1269.9 Q2208.59 1268.07 2205.72 1268.07 Q2202.27 1268.07 2200.28 1270.27 Q2198.29 1272.47 2198.29 1276.26 L2198.29 1290.92 L2194 1290.92 L2194 1264.99 L2198.29 1264.99 L2198.29 1269.02 Q2199.81 1266.68 2201.87 1265.52 Q2203.96 1264.36 2206.66 1264.36 Q2211.13 1264.36 2213.42 1267.14 Q2215.72 1269.9 2215.72 1275.27 Z\" fill=\"#000000\" fill-rule=\"evenodd\" fill-opacity=\"1\" /><path clip-path=\"url(#clip610)\" d=\"M2234.26 1267.98 Q2230.83 1267.98 2228.84 1270.66 Q2226.85 1273.32 2226.85 1277.98 Q2226.85 1282.63 2228.82 1285.31 Q2230.81 1287.98 2234.26 1287.98 Q2237.66 1287.98 2239.65 1285.29 Q2241.64 1282.61 2241.64 1277.98 Q2241.64 1273.37 2239.65 1270.68 Q2237.66 1267.98 2234.26 1267.98 M2234.26 1264.36 Q2239.81 1264.36 2242.98 1267.98 Q2246.16 1271.59 2246.16 1277.98 Q2246.16 1284.34 2242.98 1287.98 Q2239.81 1291.59 2234.26 1291.59 Q2228.68 1291.59 2225.51 1287.98 Q2222.36 1284.34 2222.36 1277.98 Q2222.36 1271.59 2225.51 1267.98 Q2228.68 1264.36 2234.26 1264.36 Z\" fill=\"#000000\" fill-rule=\"evenodd\" fill-opacity=\"1\" /><path clip-path=\"url(#clip610)\" d=\"M2252.98 1285.04 L2257.87 1285.04 L2257.87 1290.92 L2252.98 1290.92 L2252.98 1285.04 Z\" fill=\"#000000\" fill-rule=\"evenodd\" fill-opacity=\"1\" /><polyline clip-path=\"url(#clip610)\" style=\"stroke:#000000; stroke-linecap:round; stroke-linejoin:round; stroke-width:12; stroke-opacity:1; fill:none\" stroke-dasharray=\"48, 24, 6, 24\" points=\"1958.39,1325.48 2100.72,1325.48 \"/>\n",
       "<path clip-path=\"url(#clip610)\" d=\"M2007.59 1303.51 L2007.59 1347.44 L2051.52 1347.44 L2051.52 1303.51 L2007.59 1303.51 Z\" fill=\"#000000\" fill-rule=\"evenodd\" fill-opacity=\"1\" stroke=\"none\"/>\n",
       "<path clip-path=\"url(#clip610)\" d=\"M2129.12 1312.04 L2129.12 1338.91 L2134.77 1338.91 Q2141.92 1338.91 2145.23 1335.67 Q2148.56 1332.43 2148.56 1325.44 Q2148.56 1318.5 2145.23 1315.28 Q2141.92 1312.04 2134.77 1312.04 L2129.12 1312.04 M2124.44 1308.2 L2134.05 1308.2 Q2144.1 1308.2 2148.79 1312.39 Q2153.49 1316.55 2153.49 1325.44 Q2153.49 1334.38 2148.77 1338.57 Q2144.05 1342.76 2134.05 1342.76 L2124.44 1342.76 L2124.44 1308.2 Z\" fill=\"#000000\" fill-rule=\"evenodd\" fill-opacity=\"1\" /><path clip-path=\"url(#clip610)\" d=\"M2182.94 1328.73 L2182.94 1330.81 L2163.35 1330.81 Q2163.63 1335.21 2165.99 1337.52 Q2168.38 1339.82 2172.61 1339.82 Q2175.07 1339.82 2177.36 1339.21 Q2179.67 1338.61 2181.94 1337.41 L2181.94 1341.44 Q2179.65 1342.41 2177.24 1342.92 Q2174.84 1343.43 2172.36 1343.43 Q2166.16 1343.43 2162.52 1339.82 Q2158.91 1336.2 2158.91 1330.05 Q2158.91 1323.68 2162.34 1319.95 Q2165.79 1316.2 2171.62 1316.2 Q2176.85 1316.2 2179.88 1319.58 Q2182.94 1322.94 2182.94 1328.73 M2178.68 1327.48 Q2178.63 1323.98 2176.71 1321.9 Q2174.81 1319.82 2171.66 1319.82 Q2168.1 1319.82 2165.95 1321.83 Q2163.82 1323.84 2163.49 1327.5 L2178.68 1327.48 Z\" fill=\"#000000\" fill-rule=\"evenodd\" fill-opacity=\"1\" /><path clip-path=\"url(#clip610)\" d=\"M2208.59 1317.82 L2208.59 1321.81 Q2206.78 1320.81 2204.95 1320.32 Q2203.15 1319.82 2201.29 1319.82 Q2197.15 1319.82 2194.86 1322.45 Q2192.57 1325.07 2192.57 1329.82 Q2192.57 1334.56 2194.86 1337.2 Q2197.15 1339.82 2201.29 1339.82 Q2203.15 1339.82 2204.95 1339.33 Q2206.78 1338.82 2208.59 1337.82 L2208.59 1341.76 Q2206.8 1342.59 2204.88 1343.01 Q2202.98 1343.43 2200.83 1343.43 Q2194.98 1343.43 2191.53 1339.75 Q2188.08 1336.07 2188.08 1329.82 Q2188.08 1323.47 2191.55 1319.84 Q2195.04 1316.2 2201.11 1316.2 Q2203.08 1316.2 2204.95 1316.62 Q2206.83 1317.01 2208.59 1317.82 Z\" fill=\"#000000\" fill-rule=\"evenodd\" fill-opacity=\"1\" /><path clip-path=\"url(#clip610)\" d=\"M2226.04 1319.82 Q2222.61 1319.82 2220.62 1322.5 Q2218.63 1325.16 2218.63 1329.82 Q2218.63 1334.47 2220.6 1337.15 Q2222.59 1339.82 2226.04 1339.82 Q2229.44 1339.82 2231.43 1337.13 Q2233.42 1334.45 2233.42 1329.82 Q2233.42 1325.21 2231.43 1322.52 Q2229.44 1319.82 2226.04 1319.82 M2226.04 1316.2 Q2231.6 1316.2 2234.77 1319.82 Q2237.94 1323.43 2237.94 1329.82 Q2237.94 1336.18 2234.77 1339.82 Q2231.6 1343.43 2226.04 1343.43 Q2220.46 1343.43 2217.29 1339.82 Q2214.14 1336.18 2214.14 1329.82 Q2214.14 1323.43 2217.29 1319.82 Q2220.46 1316.2 2226.04 1316.2 Z\" fill=\"#000000\" fill-rule=\"evenodd\" fill-opacity=\"1\" /><path clip-path=\"url(#clip610)\" d=\"M2244.77 1336.88 L2249.65 1336.88 L2249.65 1342.76 L2244.77 1342.76 L2244.77 1336.88 Z\" fill=\"#000000\" fill-rule=\"evenodd\" fill-opacity=\"1\" /></svg>\n"
      ]
     },
     "execution_count": 25,
     "metadata": {},
     "output_type": "execute_result"
    }
   ],
   "source": [
    "mc_comp(L\"u \\quad [-]\",ts,uMean[:,1,:],uMax)"
   ]
  }
 ],
 "metadata": {
  "kernelspec": {
   "display_name": "Julia 1.8.5",
   "language": "julia",
   "name": "julia-1.8"
  },
  "language_info": {
   "file_extension": ".jl",
   "mimetype": "application/julia",
   "name": "julia",
   "version": "1.8.5"
  }
 },
 "nbformat": 4,
 "nbformat_minor": 5
}
