{
 "cells": [
  {
   "cell_type": "markdown",
   "id": "01e02a45",
   "metadata": {},
   "source": [
    "- **This code computes the CLDRTO solution using a scenario-based stochastic programming approach**\n",
    "- Using tracking objective function\n",
    "- The underlying control structure (modeled in the CLDRTO model) is an MPC, which can is solved using three different strategies: 1. unconstrained, 2. constrained using binaries, and 3. constrained using MPCC\n",
    "- The problem is posed as a scenario-based stochastic programming problem\n",
    "- The problem is solved using a monolithic structure, i.e. independently of the number of scenarios or reactors in parallel, everything is solved at once.\n",
    "- The case study is an affine multiple parallel bioreactor system from:*Gao, Ling. \"Modeling and dynamics analyses of immobilized CSTR bioreactor using transfer function model.\" 2012 International Symposium on Information Technologies in Medicine and Education. Vol. 2. IEEE, 2012.*\n",
    "- The uncertainty represented by the scenarios comes from the maximum specific growth rate (V_m) --> see matlab file\n",
    "\n",
    "AUTHOR: Jose Matias <assumpcj@mcmaster.ca>\n",
    "DATE: May 2023"
   ]
  },
  {
   "cell_type": "code",
   "execution_count": 1,
   "id": "2af54dc3",
   "metadata": {},
   "outputs": [],
   "source": [
    "using LinearAlgebra, JuMP, CPLEX, Ipopt, Plots, CSV, DataFrames"
   ]
  },
  {
   "cell_type": "markdown",
   "id": "b2933767",
   "metadata": {},
   "source": [
    "# Bioreactor Model\n",
    "\n",
    "$\\dfrac{d C}{d t} = D (C_{in} - C) - \\dfrac{V_m C}{(K_s + C)} $ <br>\n",
    "$ \\dfrac{d P}{d t} = \\dfrac{V_m C}{(K_s + C)} - DP $ <br>\n",
    "\n",
    "where, <br>\n",
    "$t$: time in hours \\[h\\] <br>\n",
    "$C$: concentration of reactant (substrate) \\[g/L\\] <br>\n",
    "$P$: concentration of product (biomass) \\[g/L\\] <br>\n",
    "$C_{in}$: inlet concentration of substrate \\[g/L\\] <br>\n",
    "$D$: ratio of flowrate to reactor volume \\[1/h\\] <br>\n",
    "$V_m$: maximum reaction rate \\[g/(h L)\\] <br> \n",
    "$K_s$: reaction constant \\[g/L\\] <br>\n",
    "\n",
    "- System measurement ($y$) - product concentration $P$ <br>\n",
    "- System inputs ($u$) - inlet reactant concentration $C_{in}$ <br>\n",
    "- Uncertain parameters ($\\theta$) - maximum reaction rate $V_m$"
   ]
  },
  {
   "cell_type": "code",
   "execution_count": 2,
   "id": "22a74482",
   "metadata": {},
   "outputs": [],
   "source": [
    "# Sampling time\n",
    "T = 1 #[h]\n",
    "# Simulation time in sampling periods\n",
    "nsim = 20\n",
    "\n",
    "# Number of manipulated inputs\n",
    "nu = 1\n",
    "# Number of controlled outputs\n",
    "ny = 1\n",
    "\n",
    "# setting bounds (all arbitrary - not in deviation form!!) \n",
    "uMax = 5.0 # for tight constraints: 1.9 | for loose constraints: 5.0\n",
    "uMin = 0.0;\n",
    "\n",
    "yspMax = 1.2 \n",
    "yspMin = 0.0;"
   ]
  },
  {
   "cell_type": "markdown",
   "id": "4d69be02",
   "metadata": {},
   "source": [
    "# Building CL-DRTO model"
   ]
  },
  {
   "cell_type": "markdown",
   "id": "b763f418",
   "metadata": {},
   "source": [
    "## Model linearization\n",
    "- linearization is done using Matlab's functions ss and c2d (see BioReactorLinearization.m)\n",
    "- sample time $\\Delta t$ is consider as 1h\n",
    "- linearization around point: $V_m = 0.5$ \\[g/(h L)\\], $K_s = 0.2$ \\[g/L\\], $D = 0.5$ \\[1/h\\], $C_{in,0} = 1$ \\[g/L\\], $C_{0} = 0.358$ \\[g/L\\], and $P_{0} = 0.642$ \\[g/L\\]\n",
    "\n",
    "which leads to: <br>\n",
    "$\\bar{x}_{k+1} = A \\bar{x}_k + B \\bar{u}_k$ <br>\n",
    "$\\bar{y}_k = C \\bar{u}_k$\n",
    "\n",
    "where, <br>\n",
    "$\\bar{x} = \\begin{bmatrix}\n",
    "\\bar{C}\\\\\n",
    "\\bar{P}\n",
    "\\end{bmatrix} =\n",
    "\\begin{bmatrix}\n",
    "C - C_0\\\\\n",
    "P - P_0\n",
    "\\end{bmatrix}$<br>\n",
    "$\\bar{u} = \\bar{C}_{in} = C_{in} - C_{in,0}$<br>\n",
    "$\\bar{y} = \\bar{P} = P - P_0$"
   ]
  },
  {
   "cell_type": "code",
   "execution_count": 3,
   "id": "453c740b",
   "metadata": {},
   "outputs": [],
   "source": [
    "# Linearization point\n",
    "u0 = 1.5\n",
    "x0 = [0.7179;0.7821]\n",
    "y0 = 0.7821;"
   ]
  },
  {
   "cell_type": "code",
   "execution_count": 4,
   "id": "73e98a67",
   "metadata": {},
   "outputs": [],
   "source": [
    "# 100 pre-computed models based on parametric uncertainty Vm (computed using matlab: BioReactorLinearization.m)\n",
    "bioModels = CSV.read(\"C:\\\\Users\\\\MACC-Jose\\\\Documents\\\\GitHub\\\\BD\\\\Preliminary calculations\\\\BioreactorModel\", DataFrame; header=false);"
   ]
  },
  {
   "cell_type": "markdown",
   "id": "ce86a399",
   "metadata": {},
   "source": [
    "CL-DRTO configuration"
   ]
  },
  {
   "cell_type": "code",
   "execution_count": 5,
   "id": "41fb2ff0",
   "metadata": {},
   "outputs": [],
   "source": [
    "# DRTO sampling time\n",
    "nDRTO = 4 # [h]\n",
    "# Prediction horizon\n",
    "pD = 20 + (8 - 1) # p = 8 *controller horizon\n",
    "# Input control horizon \n",
    "mD = 20\n",
    "# Objective function: target tracking (deviation form)\n",
    "pTrack = 1 - y0 # [g/L]\n",
    "# Soft upper bounds on P weight (deviation form)\n",
    "pUB = 1.05 - y0 # [g/L]\n",
    "# objective function weight for P penalization term \n",
    "wP = 100;"
   ]
  },
  {
   "cell_type": "markdown",
   "id": "1c92041f",
   "metadata": {},
   "source": [
    "DRTO model changes with the number of scenarios and parallel reactors"
   ]
  },
  {
   "cell_type": "code",
   "execution_count": 6,
   "id": "d08bed8d",
   "metadata": {},
   "outputs": [],
   "source": [
    "function DRTO_matrices(nReactors,nScenarios)\n",
    "    ###########\n",
    "    # inputs: #\n",
    "    ###########\n",
    "    # nReactors - number of reactors in parallel\n",
    "    # nScenarios - number of scenarios used in the stochastic optimization\n",
    "    \n",
    "    # picking up indexes equally spaced between 1 and 100 (including initial and end point) \n",
    "    # based on the desired number of scenarios\n",
    "    if nScenarios == 1\n",
    "        indexScen = 50 # nominal model --> index = 50\n",
    "    else\n",
    "        indexScen = [floor(Int, 1 + (ii - 1)*(100-1)/(nScenarios-1)) for ii in 1:nScenarios]\n",
    "    end\n",
    "    \n",
    "    # building DRTO model\n",
    "    A_drto = Array{Float64}(undef,nx,nx,nScenarios) \n",
    "    B_drto = Array{Float64}(undef,nx,nu,nScenarios) \n",
    "\n",
    "    for kk in 1:nScenarios\n",
    "\n",
    "        index_temp = indexScen[kk]\n",
    "\n",
    "        A_drto[:,:,kk] = kron(I(nReactors),Matrix(bioModels[2*(index_temp - 1) + 1:2*(index_temp - 1) + 2,1:2]))\n",
    "        B_drto[:,:,kk] = repeat(bioModels[2*(index_temp - 1) + 1:2*(index_temp - 1) + 2,3], outer = [nReactors, 1, 1])\n",
    "\n",
    "    end\n",
    "\n",
    "    # mapping states to measurements is the same for all models\n",
    "    C_drto = repeat([0 1/nReactors], outer = [1, nReactors]);\n",
    "    \n",
    "    return Dict('A' => A_drto, 'B' => B_drto, 'C' => C_drto)\n",
    "end;"
   ]
  },
  {
   "cell_type": "markdown",
   "id": "54887087",
   "metadata": {},
   "source": [
    "# Building MPC model"
   ]
  },
  {
   "cell_type": "markdown",
   "id": "a0104237",
   "metadata": {},
   "source": [
    "Controller configuration"
   ]
  },
  {
   "cell_type": "code",
   "execution_count": 7,
   "id": "101fa750",
   "metadata": {},
   "outputs": [],
   "source": [
    "# MPC sampling time\n",
    "nMPC = 1 # [h]\n",
    "\n",
    "# Controller configuration\n",
    "# Output prediction horizon\n",
    "p = 8\n",
    "# Input control horizon \n",
    "m = 2\n",
    "# Output weights\n",
    "q = 1\n",
    "# Input weights \n",
    "r = 1;"
   ]
  },
  {
   "cell_type": "markdown",
   "id": "7278c04e",
   "metadata": {},
   "source": [
    "Notes:\n",
    "- Using nominal model(indexScen = 50)\n",
    "- For the description of how the MPC matrices (with disturbance model) are built, check script: *Preliminaries/Different Strategies to solve constrained MPC within CLDRTO*"
   ]
  },
  {
   "cell_type": "code",
   "execution_count": 8,
   "id": "c6ffaf85",
   "metadata": {},
   "outputs": [],
   "source": [
    "function MPC_matrices(nReactors)\n",
    "    ###########\n",
    "    # inputs: #\n",
    "    ###########\n",
    "    # nReactors - number of reactors in parallel\n",
    "    \n",
    "    # extracting the matrices from the model array computed previously\n",
    "    nNom = 50 # nominal model --> index = 50\n",
    "    \n",
    "    A = kron(I(nReactors),Matrix(bioModels[2*(nNom - 1) + 1:2*(nNom - 1) + 2,1:2])) \n",
    "    B = repeat(bioModels[2*(nNom - 1) + 1:2*(nNom - 1) + 2,3], outer = [nReactors, 1])\n",
    "    C = repeat([0 1/nReactors], outer = [1, nReactors])\n",
    "    \n",
    "    # adding disturbance model\n",
    "    Ad = [A zeros(nx,ny); zeros(ny,nx) I(ny)]\n",
    "    Bd = [B; zeros(ny,nu)]\n",
    "    Cd = [C ones(ny,ny)]\n",
    "    \n",
    "    # building matrices for MPC\n",
    "    Psi = Cd*Ad\n",
    "    for ii in 2:p\n",
    "        Psi = [Psi;  Cd*Ad^ii]\n",
    "    end\n",
    "\n",
    "    # Computing Dynamic Matrix\n",
    "    a = Cd*Bd\n",
    "    for ii in 2:p\n",
    "        a = [a; Cd*Ad^(ii - 1)*Bd]\n",
    "    end\n",
    "    DynM = a\n",
    "\n",
    "    for ii in 1:(m - 2)\n",
    "        a = [zeros(ny,nu);a[1:(p-1)*ny,:]]\n",
    "        DynM = [DynM  a]\n",
    "    end\n",
    "\n",
    "    # adjusting dynamic matrix for since p > m (last column)\n",
    "    b = Cd*Bd\n",
    "\n",
    "    Ai = I(nx+1) # adding disturbance to the states\n",
    "    for ii = 1:(p - m)\n",
    "        Ai = Ai + Ad^ii\n",
    "        b = [b;Cd*Ai*Bd]\n",
    "    end\n",
    "\n",
    "    Theta=[DynM [zeros(ny*(m-1),nu);b]]\n",
    "    \n",
    "    # Creating Qbar and Rbar matrices\n",
    "    Qbar = Diagonal([q for ii in 1:p])\n",
    "    Rbar = Diagonal([r for ii in 1:m])\n",
    "\n",
    "    # Creating input movement OF penalty matrix \n",
    "    M=[zeros((m-1)*nu,nu) I(nu*(m-1)); zeros(nu) zeros(nu,nu*(m-1))]\n",
    "    Ibar=[I(nu); zeros(nu*(m-1),nu)]\n",
    "    IM = I(nu*m) - M';\n",
    "    \n",
    "    # Matrix H\n",
    "    H = Theta'*Qbar*Theta + IM'*Rbar*IM;\n",
    "    \n",
    "    return Dict('A' => A, 'B' => B, 'C' => C, 'H' => H, 'Θ' => Theta, 'Ψ' => Psi, 'Q' => Qbar, 'I' => Ibar, 'R' => Rbar, 'M' => IM)\n",
    "end;"
   ]
  },
  {
   "cell_type": "markdown",
   "id": "bd717c7a",
   "metadata": {},
   "source": [
    "# CLDRTO Problem"
   ]
  },
  {
   "cell_type": "markdown",
   "id": "9acea8a2",
   "metadata": {},
   "source": [
    "$ \\min_{\\boldsymbol{y}^{SP}} \\quad \\Phi^{ECO}(\\boldsymbol{x},\\boldsymbol{y},\\boldsymbol{u}) $ <br>\n",
    "\n",
    "subjected to: ($k$ represents time and $s$ scenarios) <br>\n",
    "\n",
    "For each scenario ($s = 1,\\ldots,n^{scen}$) <br>\n",
    ">    System dynamics <br>\n",
    ">    $\\boldsymbol{x}_{k + 1,s} = A\\boldsymbol{x}_{k,s} + B_s\\boldsymbol{u}_{k,s} $ <br>\n",
    ">    $\\boldsymbol{y}_{k,s} = C\\boldsymbol{x}_{k,s}$\n",
    "\n",
    ">    CL-DRTO control horizon: constraints fixing inputs after horizon ends <br>\n",
    ">    $\\boldsymbol{u}_{k,s} - \\boldsymbol{u}_{k - 1,s} = 0, \\quad k = m^{DRTO} + 1,\\ldots,p^{DRTO}$\n",
    "\n",
    ">    Product quality target band <br>\n",
    ">    $\\boldsymbol{y}_{k,s} + \\boldsymbol{\\delta}^p_{k,s} \\geq \\boldsymbol{y}_{target,lb}$ <br>\n",
    ">    $\\boldsymbol{y}_{k,s} - \\boldsymbol{\\delta}^m_{k,s} \\leq \\boldsymbol{y}_{target,ub}$\n",
    "\n",
    ">    MPC Problem <br>\n",
    ">    $\\boldsymbol{u}_{k,s} = f_{MPC}(\\boldsymbol{x}_{k,s},\\boldsymbol{y}_{k,s},\\boldsymbol{u}_{k-1,s})$       \n",
    "\n",
    "Non-antecipativity constraints <br>\n",
    "$\\boldsymbol{y}^{SP}_{k,s} = \\boldsymbol{y}^{SP}_{k,S}, \\quad k = 1,\\ldots,\\Delta t_{DRTO} \\ \\quad s = 1,\\ldots,S - 1,S + 1,\\ldots,n^{scen}$\n",
    "\n",
    "Variable bounds <br>\n",
    "$\\forall k, \\forall s \\quad \\boldsymbol{x}_{k,s} \\in \\mathcal{X}, \\ \\boldsymbol{u}_{k,s} \\in \\mathcal{U}, \\ \\boldsymbol{y}_{k,s} \\in \\mathcal{Y}, \\ \\boldsymbol{y}^{SP}_{k,s} \\in \\mathcal{Y}^{SP}$\n",
    "\n"
   ]
  },
  {
   "cell_type": "markdown",
   "id": "1c93737e",
   "metadata": {},
   "source": [
    "## Connection between DRTO and MPC layers (inside CLDRTO formulation)"
   ]
  },
  {
   "cell_type": "markdown",
   "id": "92e7dd6c",
   "metadata": {},
   "source": [
    "for one scenario:"
   ]
  },
  {
   "attachments": {
    "image-3.png": {
     "image/png": "[encoded data removed]"
    }
   },
   "cell_type": "markdown",
   "id": "20155ad9",
   "metadata": {},
   "source": [
    "![image-3.png](attachment:image-3.png)"
   ]
  },
  {
   "cell_type": "markdown",
   "id": "d842630b",
   "metadata": {},
   "source": [
    "## Nonantecipativity constraints"
   ]
  },
  {
   "attachments": {
    "image-2.png": {
     "image/png": "[encoded data removed]"
    }
   },
   "cell_type": "markdown",
   "id": "990b09eb",
   "metadata": {},
   "source": [
    "![image-2.png](attachment:image-2.png)"
   ]
  },
  {
   "cell_type": "markdown",
   "id": "ce5afc6a",
   "metadata": {},
   "source": [
    "## Soft constraint on y / P"
   ]
  },
  {
   "attachments": {
    "image-2.png": {
     "image/png": "[encoded data removed]"
    }
   },
   "cell_type": "markdown",
   "id": "db5cf11a",
   "metadata": {},
   "source": [
    "![image-2.png](attachment:image-2.png)"
   ]
  },
  {
   "cell_type": "markdown",
   "id": "6869d373",
   "metadata": {},
   "source": [
    "# Solving CL-DRTO Multiscenario Problem (monolithic)"
   ]
  },
  {
   "cell_type": "code",
   "execution_count": 9,
   "id": "cc4aadd4",
   "metadata": {},
   "outputs": [],
   "source": [
    "# Parameters for MPC solution\n",
    "# matrix to compute the gradients of the input bound constraints\n",
    "conMatrix = [I(m); -I(m)]; \n",
    "\n",
    "# big-M implementation\n",
    "bigM_mu = 1000\n",
    "bigM_u = 100\n",
    "\n",
    "# weight complementarity relaxation OF term\n",
    "pi_bar = 10^3;"
   ]
  },
  {
   "cell_type": "code",
   "execution_count": 10,
   "id": "757ad6e4",
   "metadata": {},
   "outputs": [],
   "source": [
    "## Modeling the sub problem (scenario) -- modeling inside a function\n",
    "function MS_CLDRTO(xInit,uInit,nReac,nScen,pScen,solNom,option)\n",
    "    ###########\n",
    "    # inputs: #\n",
    "    ###########\n",
    "    # xInit - states at the current iteration (beginning of DRTO horizon)\n",
    "    # uInit - inputs at the current iteration, already implemented on the plant\n",
    "    # nReac - number of parallel reactors\n",
    "    # nScen - number of scenarios used in the problem (only one branching)\n",
    "    # pScen - probability of the scenarios\n",
    "    # solNom - nominal solution\n",
    "    # option - strategy for solving MPC\n",
    "\n",
    "    # Creating MPC matrices\n",
    "    mpc = MPC_matrices(nReac)\n",
    "    \n",
    "    # Creating DRTO matrices\n",
    "    drto = DRTO_matrices(nReac,nScen)\n",
    "    \n",
    "    # Define model\n",
    "    if option == 3 || option == 1\n",
    "        model_ms = Model(Ipopt.Optimizer)\n",
    "        set_optimizer_attribute(model_ms, \"max_cpu_time\", 300.0) # 5 min\n",
    "    else \n",
    "        model_ms = Model(CPLEX.Optimizer)\n",
    "        set_optimizer_attribute(model_ms, \"CPX_PARAM_TILIM\", 300.0) # 5 min\n",
    "    end\n",
    "    set_silent(model_ms)\n",
    "    \n",
    "    ####################\n",
    "    # Set up variables #\n",
    "    ####################\n",
    "    # DRTO model variables\n",
    "    @variable(model_ms, xDRTO[1:pD,1:nx,1:nScen])\n",
    "    @variable(model_ms, yDRTO[1:pD,1:nScen])\n",
    "    \n",
    "    # MPC model variables\n",
    "    @variable(model_ms, xMPC[1:pD,1:nx,1:nScen])\n",
    "    @variable(model_ms, yMPC[1:pD,1:nScen])\n",
    "    \n",
    "    # MPC <-> DRTO model deviation\n",
    "    @variable(model_ms, de[1:pD,1:nScen])\n",
    "    \n",
    "    # inputs computed by MPCs\n",
    "    @variable(model_ms, u[1:pD,1:m,1:nScen])\n",
    "    if option == 1\n",
    "        @variable(model_ms, u_w_c[1:pD,1:m,1:nScen]) # inputs w/o clipping\n",
    "    \n",
    "        # input clipping \n",
    "        @variable(model_ms, mu_lb[1:pD,1:m,1:nScen] ≥ 0)\n",
    "        @variable(model_ms, eta_lb[1:pD,1:m,1:nScen] ≥ 0)\n",
    "        @variable(model_ms, mu_ub[1:pD,1:m,1:nScen] ≥ 0)\n",
    "        @variable(model_ms, eta_ub[1:pD,1:m,1:nScen] ≥ 0)       \n",
    "    end\n",
    "    \n",
    "    # setpoints for the controllers sent to the plant (CL-DRTO degrees of freedom)\n",
    "    @variable(model_ms, (yspMin - y0) ≤ ysp[1:pD,1:nScen] ≤ (yspMax - y0))\n",
    "    \n",
    "    # slacks for P soft constraint\n",
    "    @variable(model_ms, delta_p[1:pD,1:nScen] ≥ 0)\n",
    "    \n",
    "    if option == 2 || option == 3\n",
    "        @variable(model_ms, mu_g[1:mD,1:(2*m),1:nScen] ≥ 0) # upper and lower bounds for each input\n",
    "    end\n",
    "    if option == 2\n",
    "        @variable(model_ms, Y_lb[1:mD,1:m,1:nScen], Bin, start = 0) # Binaries for big-M implementation\n",
    "        @variable(model_ms, Y_ub[1:mD,1:m,1:nScen], Bin, start = 0) \n",
    "    end\n",
    "    \n",
    "    ########################\n",
    "    # Set up initial guess #\n",
    "    ########################\n",
    "    if solNom isa Dict\n",
    "        for ss in 1:nScen\n",
    "            for ii in 1:pD\n",
    "                set_start_value(yDRTO[ii,ss], solNom['y'][ii,1]) \n",
    "                set_start_value(yMPC[ii,ss], solNom['c'][ii,1])\n",
    "                set_start_value(ysp[ii,ss], solNom['s'][ii,1])\n",
    "\n",
    "                for rr in 1:nReac # when nReac increases, the number of states change!\n",
    "                    for xx in 1:2 # N.B. nx/reactor is hardcoded here... (maybe use nx/reactor as a function input) \n",
    "                        set_start_value(xDRTO[ii,xx + (rr - 1)*2,ss], solNom['x'][ii,xx,1])    \n",
    "                        set_start_value(xMPC[ii,xx + (rr - 1)*2,ss], solNom['m'][ii,xx,1])           \n",
    "                    end # end xx\n",
    "                end # number \n",
    "                \n",
    "                for uu in 1:m\n",
    "                    set_start_value(u[ii,uu,ss], solNom['u'][ii,uu,1])\n",
    "                end # end of uu\n",
    "            end # eend of ii\n",
    "        end # end of ss\n",
    "    end # end of if\n",
    "    \n",
    "    ######################################\n",
    "    # Set up constraints and expressions #\n",
    "    ######################################\n",
    "    # Model Dynamic for Dynamic RTO\n",
    "    @constraint(model_ms, CLDRTO_dyn_model_1[ss=1:nScen], xDRTO[1,:,ss] .== drto['A'][:,:,ss]*xInit + drto['B'][:,:,ss]*uInit)\n",
    "    @constraint(model_ms, CLDRTO_dyn_model[kk=1:(pD - 1),ss=1:nScen], xDRTO[kk + 1,:,ss] .== drto['A'][:,:,ss]*xDRTO[kk,:,ss] + drto['B'][:,:,ss]*u[kk,1,ss])\n",
    "    @constraint(model_ms, CLDRTO_model_out[kk=1:pD,ss=1:nScen], yDRTO[kk,ss] == dot(drto['C'],xDRTO[kk,:,ss]))\n",
    "    \n",
    "    # fixing setpoint changes after mD\n",
    "    @constraint(model_ms, control_horizon[kk=(mD+1):pD,ss=1:nScen], u[kk,1,ss] .== u[mD,1,ss])\n",
    "    \n",
    "    # P soft constraints\n",
    "    @constraint(model_ms, soft_P[kk=1:pD,ss=1:nScen], yDRTO[kk,ss] - delta_p[kk,ss] ≤ pUB)\n",
    "    \n",
    "    # nonanticipativity constraints\n",
    "    @constraint(model_ms, nonAnt[kk=1:nDRTO,ss=2:nScen], ysp[kk,1] - ysp[kk,ss] == 0.0);\n",
    "    \n",
    "    ################\n",
    "    # MPC solution #\n",
    "    ################\n",
    "    if option == 1\n",
    "        # Model Dynamic for Controller\n",
    "        @constraint(model_ms, MPC_dyn_model_1[ss=1:nScen], xMPC[1,:,ss] .== mpc['A']*xInit + mpc['B']*uInit)\n",
    "        @constraint(model_ms, MPC_dyn_model[kk=1:(pD - 1),ss=1:nScen], xMPC[kk + 1,:,ss] .== mpc['A']*xMPC[kk,:,ss] + mpc['B']*u_w_c[kk,1,ss])\n",
    "        @constraint(model_ms, MPC_model_out[kk=1:pD,ss=1:nScen], yMPC[kk,ss] == dot(mpc['C'],xMPC[kk,:,ss]))\n",
    "\n",
    "        #  Model deviation\n",
    "        @constraint(model_ms, MPC_model_dev[kk=1:pD,ss=1:nScen], de[kk,ss] == yDRTO[kk,ss] - yMPC[kk,ss])\n",
    "        \n",
    "        @expression(model_ms, cfT_1[ss=1:nScen], (mpc['Ψ']*[xMPC[1,:,ss];de[1,ss]] - ysp[1:p,ss])'*mpc['Q']*mpc['Θ'] - uInit'*mpc['I']'*mpc['R']*mpc['M'])\n",
    "        @expression(model_ms, cfT[kk=2:mD,ss=1:nScen], (mpc['Ψ']*[xMPC[kk,:,ss];de[kk,ss]] - ysp[kk:(kk + p - 1),ss])'*mpc['Q']*mpc['Θ'] - u_w_c[kk-1,1,ss]'*mpc['I']'*mpc['R']*mpc['M'])\n",
    "        \n",
    "        # Unconstrained MPC solution  \n",
    "        @constraint(model_ms, MPC_sol_1[ss=1:nScen], mpc['H']*u_w_c[1,:,ss] + cfT_1[ss]' .== 0)\n",
    "        @constraint(model_ms, MPC_sol[kk=2:mD,ss=1:nScen], mpc['H']*u_w_c[kk,:,ss] + cfT[kk,ss]' .== 0)\n",
    "        \n",
    "        # input clipping\n",
    "        @constraint(model_ms, ic_1[kk = 1:mD,uu = 1:m,ss = 1:nScen], u[kk,uu,ss] == u_w_c[kk,uu,ss] - mu_ub[kk,uu,ss] + mu_lb[kk,uu,ss])\n",
    "        @constraint(model_ms, ic_2[kk = 1:mD,uu = 1:m,ss = 1:nScen], (uMax - u0) - u[kk,uu,ss] == eta_ub[kk,uu,ss])\n",
    "        @constraint(model_ms, ic_3[kk = 1:mD,uu = 1:m,ss = 1:nScen], eta_ub[kk,uu,ss]*mu_ub[kk,uu,ss] ≤ 1e-6)\n",
    "        @constraint(model_ms, ic_4[kk = 1:mD,uu = 1:m,ss = 1:nScen], u[kk,uu,ss] - (uMin - u0) == eta_lb[kk,uu,ss])\n",
    "        @constraint(model_ms, ic_5[kk = 1:mD,uu = 1:m,ss = 1:nScen], eta_lb[kk,uu,ss]*mu_lb[kk,uu,ss] ≤ 1e-6)\n",
    "        \n",
    "    elseif option == 2\n",
    "        # Model Dynamic for Controller\n",
    "        @constraint(model_ms, MPC_dyn_model_1[ss=1:nScen], xMPC[1,:,ss] .== mpc['A']*xInit + mpc['B']*uInit)\n",
    "        @constraint(model_ms, MPC_dyn_model[kk=1:(pD - 1),ss=1:nScen], xMPC[kk + 1,:,ss] .== mpc['A']*xMPC[kk,:,ss] + mpc['B']*u[kk,1,ss])\n",
    "        @constraint(model_ms, MPC_model_out[kk=1:pD,ss=1:nScen], yMPC[kk,ss] == dot(mpc['C'],xMPC[kk,:,ss]))\n",
    "\n",
    "        #  Model deviation\n",
    "        @constraint(model_ms, MPC_model_dev[kk=1:pD,ss=1:nScen], de[kk,ss] == yDRTO[kk,ss] - yMPC[kk,ss])\n",
    "        \n",
    "        @expression(model_ms, cfT_1[ss=1:nScen], (mpc['Ψ']*[xMPC[1,:,ss];de[1,ss]] - ysp[1:p,ss])'*mpc['Q']*mpc['Θ'] - uInit'*mpc['I']'*mpc['R']*mpc['M'])\n",
    "        @expression(model_ms, cfT[kk=2:mD,ss=1:nScen], (mpc['Ψ']*[xMPC[kk,:,ss];de[kk,ss]] - ysp[kk:(kk + p - 1),ss])'*mpc['Q']*mpc['Θ'] - u[kk-1,1,ss]'*mpc['I']'*mpc['R']*mpc['M'])\n",
    "\n",
    "        # Constrained with binaries\n",
    "        # 1. stationarity\n",
    "        @constraint(model_ms, MPC_sol_1[ss=1:nScen], u[1,:,ss]'*mpc['H'] + cfT_1[ss] +  mu_g[1,:,ss]'*conMatrix .== 0)\n",
    "        @constraint(model_ms, MPC_sol[kk=2:mD,ss=1:nScen], u[kk,:,ss]'*mpc['H'] + cfT[kk,ss] + mu_g[kk,:,ss]'*conMatrix .== 0)\n",
    "\n",
    "        # 2. primal feasibility\n",
    "        @constraint(model_ms, g_u_u[kk=1:mD,uu=1:m,ss=1:nScen], u[kk,uu,ss] - (uMax - u0) ≤ 0)\n",
    "        @constraint(model_ms, g_u_l[kk=1:mD,uu=1:m,ss=1:nScen], (uMin - u0) - u[kk,uu,ss] ≤ 0)\n",
    "    \n",
    "        # 3. complementarity --> using big-M implementation\n",
    "        @constraint(model_ms, bigM_1[kk=1:mD,uu=1:m,ss=1:nScen], mu_g[kk,uu,ss] ≤ bigM_mu*Y_ub[kk,uu,ss])\n",
    "        @constraint(model_ms, bigM_2[kk=1:mD,uu=1:m,ss=1:nScen], mu_g[kk,uu + m,ss] ≤ bigM_mu*Y_lb[kk,uu,ss])\n",
    "        @constraint(model_ms, bigM_3[kk=1:mD,uu=1:m,ss=1:nScen], u[kk,uu,ss] - (uMax - u0) ≥ -bigM_u*(1 - Y_ub[kk,uu,ss]))\n",
    "        @constraint(model_ms, bigM_4[kk=1:mD,uu=1:m,ss=1:nScen], (uMin - u0) - u[kk,uu,ss] ≥ -bigM_u*(1 - Y_lb[kk,uu,ss]))\n",
    "        \n",
    "        @constraint(model_ms, compSlack[kk=1:mD,uu=1:m,ss=1:nScen], Y_ub[kk,uu,ss] + Y_lb[kk,uu,ss] ≤ 1)\n",
    "    \n",
    "    elseif option == 3\n",
    "        # Model Dynamic for Controller\n",
    "        @constraint(model_ms, MPC_dyn_model_1[ss=1:nScen], xMPC[1,:,ss] .== mpc['A']*xInit + mpc['B']*uInit)\n",
    "        @constraint(model_ms, MPC_dyn_model[kk=1:(pD - 1),ss=1:nScen], xMPC[kk + 1,:,ss] .== mpc['A']*xMPC[kk,:,ss] + mpc['B']*u[kk,1,ss])\n",
    "        @constraint(model_ms, MPC_model_out[kk=1:pD,ss=1:nScen], yMPC[kk,ss] == dot(mpc['C'],xMPC[kk,:,ss]))\n",
    "\n",
    "        #  Model deviation\n",
    "        @constraint(model_ms, MPC_model_dev[kk=1:pD,ss=1:nScen], de[kk,ss] == yDRTO[kk,ss] - yMPC[kk,ss])\n",
    "\n",
    "        @expression(model_ms, cfT_1[ss=1:nScen], (mpc['Ψ']*[xMPC[1,:,ss];de[1,ss]] - ysp[1:p,ss])'*mpc['Q']*mpc['Θ'] - uInit'*mpc['I']'*mpc['R']*mpc['M'])\n",
    "        @expression(model_ms, cfT[kk=2:mD,ss=1:nScen], (mpc['Ψ']*[xMPC[kk,:,ss];de[kk,ss]] - ysp[kk:(kk + p - 1),ss])'*mpc['Q']*mpc['Θ'] - u[kk-1,1,ss]'*mpc['I']'*mpc['R']*mpc['M'])\n",
    "\n",
    "        # Constrained with MPCC\n",
    "        # 1. stationarity\n",
    "        @constraint(model_ms, MPC_sol_1[ss=1:nScen], u[1,:,ss]'*mpc['H'] + cfT_1[ss] +  mu_g[1,:,ss]'*conMatrix .== 0)\n",
    "        @constraint(model_ms, MPC_sol[kk=2:mD,ss=1:nScen], u[kk,:,ss]'*mpc['H'] + cfT[kk,ss] + mu_g[kk,:,ss]'*conMatrix .== 0)\n",
    "\n",
    "        # 2. primal feasibility\n",
    "        @expression(model_ms, g_u_u[kk=1:mD,uu=1:m,ss=1:nScen], u[kk,uu,ss] - (uMax - u0))\n",
    "        @expression(model_ms, g_u_l[kk=1:mD,uu=1:m,ss=1:nScen], (uMin - u0) - u[kk,uu,ss])\n",
    "        \n",
    "        @constraint(model_ms, MPC_c_upper[kk=1:mD,uu=1:m,ss=1:nScen], g_u_u[kk,uu,ss] ≤ 0)\n",
    "        @constraint(model_ms, MPC_c_lower[kk=1:mD,uu=1:m,ss=1:nScen], g_u_l[kk,uu,ss] ≤ 0)\n",
    "        \n",
    "    end\n",
    "        \n",
    "    #############################\n",
    "    # Set up objective function #\n",
    "    #############################\n",
    "    if option == 1 || option == 2\n",
    "        @objective(model_ms, Min, \n",
    "            pScen*sum((yDRTO[kk,ss] - pTrack)^2 + wP*delta_p[kk,ss]^2 for kk in 1:pD, ss in 1:nScen)\n",
    "        )\n",
    "    else\n",
    "        @objective(model_ms, Min, pScen*sum((yDRTO[kk,ss] - pTrack)^2 + wP*delta_p[kk,ss]^2 for kk in 1:pD, ss in 1:nScen)\n",
    "                                - pScen*pi_bar*sum(\n",
    "                                                sum(mu_g[kk,jj,ss]*g_u_u[kk,jj,ss] for jj = 1:m) +\n",
    "                                                sum(mu_g[kk,jj + m,ss]*g_u_l[kk,jj,ss] for jj = 1:m)\n",
    "                                                for kk = 1:mD, ss in 1:nScen)\n",
    "        )\n",
    "    end\n",
    "    # @show model_ms\n",
    "\n",
    "    #################\n",
    "    # Solve Problem #\n",
    "    #################\n",
    "    optimize!(model_ms)\n",
    "    \n",
    "    status = termination_status(model_ms)\n",
    "    #display(status)\n",
    "    \n",
    "    if status == MOI.OPTIMAL || status == MOI.ALMOST_OPTIMAL || status == MOI.LOCALLY_SOLVED\n",
    "        # Proved optimality or Optimal within relaxed tolerances\n",
    "        # solution time\n",
    "        timeSol = solve_time(model_ms)\n",
    "\n",
    "        flag = 1\n",
    "        # #primal_status(m)\n",
    "\n",
    "        #calling values of the solved problem\n",
    "        ϕ = objective_value(model_ms)\n",
    "        uArray = value.(u)\n",
    "        yspArray = value.(ysp)\n",
    "        yDRTOArray = value.(yDRTO)\n",
    "        yMPCArray = value.(yMPC)\n",
    "        xDRTOArray = value.(xDRTO)\n",
    "        xMPCArray = value.(xMPC)\n",
    "\n",
    "        outputFun = Dict('ϕ' => ϕ,\n",
    "                        't' => timeSol,\n",
    "                        'f' => flag, \n",
    "                        'u' => uArray,\n",
    "                        's' => yspArray,\n",
    "                        'x' => xDRTOArray,\n",
    "                        'y' => yDRTOArray, \n",
    "                        'm' => xMPCArray,\n",
    "                        'c' => yMPCArray)\n",
    "        \n",
    "        if option == 2 || option == 3\n",
    "            muArray = value.(mu_g)\n",
    "            merge!(outputFun,Dict('μ'=> muArray))\n",
    "        end\n",
    "        \n",
    "        return outputFun\n",
    "    else\n",
    "        # Handle other cases.\n",
    "        flag = 0\n",
    "        \n",
    "        return flag\n",
    "    end\n",
    "end;"
   ]
  },
  {
   "cell_type": "markdown",
   "id": "bfd1e7ad",
   "metadata": {},
   "source": [
    "Computing nominal solution"
   ]
  },
  {
   "cell_type": "code",
   "execution_count": 11,
   "id": "58f128a3",
   "metadata": {},
   "outputs": [
    {
     "name": "stdout",
     "output_type": "stream",
     "text": [
      "\n",
      "******************************************************************************\n",
      "This program contains Ipopt, a library for large-scale nonlinear optimization.\n",
      " Ipopt is released as open source code under the Eclipse Public License (EPL).\n",
      "         For more information visit https://github.com/coin-or/Ipopt\n",
      "******************************************************************************\n",
      "\n"
     ]
    }
   ],
   "source": [
    "#number of scenarios \n",
    "scenNom = 1\n",
    "#equiprobable scenarios\n",
    "pNom = 1.0\n",
    "#number of reactors \n",
    "reacNom = 1\n",
    "# number of states of the nominal solution\n",
    "nx = 2*reacNom\n",
    "# MPC solution option\n",
    "optNom = 1 # unconstrained\n",
    "\n",
    "solNominal = MS_CLDRTO(x0,u0,reacNom,scenNom,pNom,0,optNom);"
   ]
  },
  {
   "cell_type": "markdown",
   "id": "9af85077",
   "metadata": {},
   "source": [
    "# Checking the performance of the methods in terms of time vs. nScen"
   ]
  },
  {
   "cell_type": "code",
   "execution_count": 12,
   "id": "d6559ac9",
   "metadata": {},
   "outputs": [
    {
     "data": {
      "text/plain": [
       "\"evaluation 1 scenarios | option 1\""
      ]
     },
     "metadata": {},
     "output_type": "display_data"
    },
    {
     "data": {
      "text/plain": [
       "\"evaluation 2 scenarios | option 1\""
      ]
     },
     "metadata": {},
     "output_type": "display_data"
    },
    {
     "data": {
      "text/plain": [
       "\"evaluation 3 scenarios | option 1\""
      ]
     },
     "metadata": {},
     "output_type": "display_data"
    },
    {
     "data": {
      "text/plain": [
       "\"evaluation 4 scenarios | option 1\""
      ]
     },
     "metadata": {},
     "output_type": "display_data"
    },
    {
     "data": {
      "text/plain": [
       "\"evaluation 5 scenarios | option 1\""
      ]
     },
     "metadata": {},
     "output_type": "display_data"
    },
    {
     "data": {
      "text/plain": [
       "\"evaluation 6 scenarios | option 1\""
      ]
     },
     "metadata": {},
     "output_type": "display_data"
    },
    {
     "data": {
      "text/plain": [
       "\"evaluation 7 scenarios | option 1\""
      ]
     },
     "metadata": {},
     "output_type": "display_data"
    },
    {
     "data": {
      "text/plain": [
       "\"evaluation 8 scenarios | option 1\""
      ]
     },
     "metadata": {},
     "output_type": "display_data"
    },
    {
     "data": {
      "text/plain": [
       "\"evaluation 9 scenarios | option 1\""
      ]
     },
     "metadata": {},
     "output_type": "display_data"
    },
    {
     "data": {
      "text/plain": [
       "\"evaluation 10 scenarios | option 1\""
      ]
     },
     "metadata": {},
     "output_type": "display_data"
    },
    {
     "data": {
      "text/plain": [
       "\"evaluation 11 scenarios | option 1\""
      ]
     },
     "metadata": {},
     "output_type": "display_data"
    },
    {
     "data": {
      "text/plain": [
       "\"evaluation 12 scenarios | option 1\""
      ]
     },
     "metadata": {},
     "output_type": "display_data"
    },
    {
     "data": {
      "text/plain": [
       "\"evaluation 13 scenarios | option 1\""
      ]
     },
     "metadata": {},
     "output_type": "display_data"
    },
    {
     "data": {
      "text/plain": [
       "\"evaluation 14 scenarios | option 1\""
      ]
     },
     "metadata": {},
     "output_type": "display_data"
    },
    {
     "data": {
      "text/plain": [
       "\"evaluation 15 scenarios | option 1\""
      ]
     },
     "metadata": {},
     "output_type": "display_data"
    },
    {
     "data": {
      "text/plain": [
       "\"evaluation 16 scenarios | option 1\""
      ]
     },
     "metadata": {},
     "output_type": "display_data"
    },
    {
     "data": {
      "text/plain": [
       "\"evaluation 17 scenarios | option 1\""
      ]
     },
     "metadata": {},
     "output_type": "display_data"
    },
    {
     "data": {
      "text/plain": [
       "\"evaluation 18 scenarios | option 1\""
      ]
     },
     "metadata": {},
     "output_type": "display_data"
    },
    {
     "data": {
      "text/plain": [
       "\"evaluation 19 scenarios | option 1\""
      ]
     },
     "metadata": {},
     "output_type": "display_data"
    },
    {
     "data": {
      "text/plain": [
       "\"evaluation 20 scenarios | option 1\""
      ]
     },
     "metadata": {},
     "output_type": "display_data"
    },
    {
     "data": {
      "text/plain": [
       "\"evaluation 21 scenarios | option 1\""
      ]
     },
     "metadata": {},
     "output_type": "display_data"
    },
    {
     "data": {
      "text/plain": [
       "\"evaluation 22 scenarios | option 1\""
      ]
     },
     "metadata": {},
     "output_type": "display_data"
    },
    {
     "data": {
      "text/plain": [
       "\"evaluation 23 scenarios | option 1\""
      ]
     },
     "metadata": {},
     "output_type": "display_data"
    },
    {
     "data": {
      "text/plain": [
       "\"evaluation 24 scenarios | option 1\""
      ]
     },
     "metadata": {},
     "output_type": "display_data"
    },
    {
     "data": {
      "text/plain": [
       "\"evaluation 25 scenarios | option 1\""
      ]
     },
     "metadata": {},
     "output_type": "display_data"
    },
    {
     "data": {
      "text/plain": [
       "\"evaluation 26 scenarios | option 1\""
      ]
     },
     "metadata": {},
     "output_type": "display_data"
    },
    {
     "data": {
      "text/plain": [
       "\"evaluation 27 scenarios | option 1\""
      ]
     },
     "metadata": {},
     "output_type": "display_data"
    },
    {
     "data": {
      "text/plain": [
       "\"evaluation 28 scenarios | option 1\""
      ]
     },
     "metadata": {},
     "output_type": "display_data"
    },
    {
     "data": {
      "text/plain": [
       "\"evaluation 29 scenarios | option 1\""
      ]
     },
     "metadata": {},
     "output_type": "display_data"
    },
    {
     "data": {
      "text/plain": [
       "\"evaluation 30 scenarios | option 1\""
      ]
     },
     "metadata": {},
     "output_type": "display_data"
    },
    {
     "data": {
      "text/plain": [
       "\"evaluation 31 scenarios | option 1\""
      ]
     },
     "metadata": {},
     "output_type": "display_data"
    },
    {
     "data": {
      "text/plain": [
       "\"evaluation 32 scenarios | option 1\""
      ]
     },
     "metadata": {},
     "output_type": "display_data"
    },
    {
     "data": {
      "text/plain": [
       "\"evaluation 33 scenarios | option 1\""
      ]
     },
     "metadata": {},
     "output_type": "display_data"
    },
    {
     "data": {
      "text/plain": [
       "\"evaluation 34 scenarios | option 1\""
      ]
     },
     "metadata": {},
     "output_type": "display_data"
    },
    {
     "data": {
      "text/plain": [
       "\"evaluation 35 scenarios | option 1\""
      ]
     },
     "metadata": {},
     "output_type": "display_data"
    },
    {
     "data": {
      "text/plain": [
       "\"evaluation 36 scenarios | option 1\""
      ]
     },
     "metadata": {},
     "output_type": "display_data"
    },
    {
     "data": {
      "text/plain": [
       "\"evaluation 37 scenarios | option 1\""
      ]
     },
     "metadata": {},
     "output_type": "display_data"
    },
    {
     "data": {
      "text/plain": [
       "\"evaluation 38 scenarios | option 1\""
      ]
     },
     "metadata": {},
     "output_type": "display_data"
    },
    {
     "data": {
      "text/plain": [
       "\"evaluation 39 scenarios | option 1\""
      ]
     },
     "metadata": {},
     "output_type": "display_data"
    },
    {
     "data": {
      "text/plain": [
       "\"evaluation 40 scenarios | option 1\""
      ]
     },
     "metadata": {},
     "output_type": "display_data"
    },
    {
     "data": {
      "text/plain": [
       "\"evaluation 41 scenarios | option 1\""
      ]
     },
     "metadata": {},
     "output_type": "display_data"
    },
    {
     "data": {
      "text/plain": [
       "\"evaluation 42 scenarios | option 1\""
      ]
     },
     "metadata": {},
     "output_type": "display_data"
    },
    {
     "data": {
      "text/plain": [
       "\"evaluation 43 scenarios | option 1\""
      ]
     },
     "metadata": {},
     "output_type": "display_data"
    },
    {
     "data": {
      "text/plain": [
       "\"evaluation 44 scenarios | option 1\""
      ]
     },
     "metadata": {},
     "output_type": "display_data"
    },
    {
     "data": {
      "text/plain": [
       "\"evaluation 45 scenarios | option 1\""
      ]
     },
     "metadata": {},
     "output_type": "display_data"
    },
    {
     "data": {
      "text/plain": [
       "\"evaluation 46 scenarios | option 1\""
      ]
     },
     "metadata": {},
     "output_type": "display_data"
    },
    {
     "data": {
      "text/plain": [
       "\"evaluation 47 scenarios | option 1\""
      ]
     },
     "metadata": {},
     "output_type": "display_data"
    },
    {
     "data": {
      "text/plain": [
       "\"evaluation 48 scenarios | option 1\""
      ]
     },
     "metadata": {},
     "output_type": "display_data"
    },
    {
     "data": {
      "text/plain": [
       "\"evaluation 49 scenarios | option 1\""
      ]
     },
     "metadata": {},
     "output_type": "display_data"
    },
    {
     "data": {
      "text/plain": [
       "\"evaluation 50 scenarios | option 1\""
      ]
     },
     "metadata": {},
     "output_type": "display_data"
    },
    {
     "data": {
      "text/plain": [
       "\"evaluation 1 scenarios | option 2\""
      ]
     },
     "metadata": {},
     "output_type": "display_data"
    },
    {
     "data": {
      "text/plain": [
       "\"evaluation 2 scenarios | option 2\""
      ]
     },
     "metadata": {},
     "output_type": "display_data"
    },
    {
     "data": {
      "text/plain": [
       "\"evaluation 3 scenarios | option 2\""
      ]
     },
     "metadata": {},
     "output_type": "display_data"
    },
    {
     "data": {
      "text/plain": [
       "\"evaluation 4 scenarios | option 2\""
      ]
     },
     "metadata": {},
     "output_type": "display_data"
    },
    {
     "data": {
      "text/plain": [
       "\"evaluation 5 scenarios | option 2\""
      ]
     },
     "metadata": {},
     "output_type": "display_data"
    },
    {
     "data": {
      "text/plain": [
       "\"evaluation 6 scenarios | option 2\""
      ]
     },
     "metadata": {},
     "output_type": "display_data"
    },
    {
     "data": {
      "text/plain": [
       "\"evaluation 7 scenarios | option 2\""
      ]
     },
     "metadata": {},
     "output_type": "display_data"
    },
    {
     "data": {
      "text/plain": [
       "\"evaluation 8 scenarios | option 2\""
      ]
     },
     "metadata": {},
     "output_type": "display_data"
    },
    {
     "data": {
      "text/plain": [
       "\"evaluation 9 scenarios | option 2\""
      ]
     },
     "metadata": {},
     "output_type": "display_data"
    },
    {
     "data": {
      "text/plain": [
       "\"evaluation 10 scenarios | option 2\""
      ]
     },
     "metadata": {},
     "output_type": "display_data"
    },
    {
     "data": {
      "text/plain": [
       "\"evaluation 11 scenarios | option 2\""
      ]
     },
     "metadata": {},
     "output_type": "display_data"
    },
    {
     "data": {
      "text/plain": [
       "\"evaluation 12 scenarios | option 2\""
      ]
     },
     "metadata": {},
     "output_type": "display_data"
    },
    {
     "data": {
      "text/plain": [
       "\"evaluation 13 scenarios | option 2\""
      ]
     },
     "metadata": {},
     "output_type": "display_data"
    },
    {
     "data": {
      "text/plain": [
       "\"evaluation 14 scenarios | option 2\""
      ]
     },
     "metadata": {},
     "output_type": "display_data"
    },
    {
     "data": {
      "text/plain": [
       "\"evaluation 15 scenarios | option 2\""
      ]
     },
     "metadata": {},
     "output_type": "display_data"
    },
    {
     "data": {
      "text/plain": [
       "\"evaluation 16 scenarios | option 2\""
      ]
     },
     "metadata": {},
     "output_type": "display_data"
    },
    {
     "data": {
      "text/plain": [
       "\"evaluation 17 scenarios | option 2\""
      ]
     },
     "metadata": {},
     "output_type": "display_data"
    },
    {
     "data": {
      "text/plain": [
       "\"evaluation 18 scenarios | option 2\""
      ]
     },
     "metadata": {},
     "output_type": "display_data"
    },
    {
     "data": {
      "text/plain": [
       "\"evaluation 19 scenarios | option 2\""
      ]
     },
     "metadata": {},
     "output_type": "display_data"
    },
    {
     "data": {
      "text/plain": [
       "\"evaluation 20 scenarios | option 2\""
      ]
     },
     "metadata": {},
     "output_type": "display_data"
    },
    {
     "data": {
      "text/plain": [
       "\"evaluation 21 scenarios | option 2\""
      ]
     },
     "metadata": {},
     "output_type": "display_data"
    },
    {
     "data": {
      "text/plain": [
       "\"evaluation 22 scenarios | option 2\""
      ]
     },
     "metadata": {},
     "output_type": "display_data"
    },
    {
     "data": {
      "text/plain": [
       "\"evaluation 23 scenarios | option 2\""
      ]
     },
     "metadata": {},
     "output_type": "display_data"
    },
    {
     "data": {
      "text/plain": [
       "\"evaluation 24 scenarios | option 2\""
      ]
     },
     "metadata": {},
     "output_type": "display_data"
    },
    {
     "data": {
      "text/plain": [
       "\"evaluation 25 scenarios | option 2\""
      ]
     },
     "metadata": {},
     "output_type": "display_data"
    },
    {
     "data": {
      "text/plain": [
       "\"evaluation 26 scenarios | option 2\""
      ]
     },
     "metadata": {},
     "output_type": "display_data"
    },
    {
     "data": {
      "text/plain": [
       "\"evaluation 27 scenarios | option 2\""
      ]
     },
     "metadata": {},
     "output_type": "display_data"
    },
    {
     "data": {
      "text/plain": [
       "\"evaluation 28 scenarios | option 2\""
      ]
     },
     "metadata": {},
     "output_type": "display_data"
    },
    {
     "data": {
      "text/plain": [
       "\"evaluation 29 scenarios | option 2\""
      ]
     },
     "metadata": {},
     "output_type": "display_data"
    },
    {
     "data": {
      "text/plain": [
       "\"evaluation 30 scenarios | option 2\""
      ]
     },
     "metadata": {},
     "output_type": "display_data"
    },
    {
     "data": {
      "text/plain": [
       "\"evaluation 31 scenarios | option 2\""
      ]
     },
     "metadata": {},
     "output_type": "display_data"
    },
    {
     "data": {
      "text/plain": [
       "\"evaluation 32 scenarios | option 2\""
      ]
     },
     "metadata": {},
     "output_type": "display_data"
    },
    {
     "data": {
      "text/plain": [
       "\"evaluation 33 scenarios | option 2\""
      ]
     },
     "metadata": {},
     "output_type": "display_data"
    },
    {
     "data": {
      "text/plain": [
       "\"evaluation 34 scenarios | option 2\""
      ]
     },
     "metadata": {},
     "output_type": "display_data"
    },
    {
     "data": {
      "text/plain": [
       "\"evaluation 35 scenarios | option 2\""
      ]
     },
     "metadata": {},
     "output_type": "display_data"
    },
    {
     "data": {
      "text/plain": [
       "\"evaluation 36 scenarios | option 2\""
      ]
     },
     "metadata": {},
     "output_type": "display_data"
    },
    {
     "data": {
      "text/plain": [
       "\"evaluation 37 scenarios | option 2\""
      ]
     },
     "metadata": {},
     "output_type": "display_data"
    },
    {
     "data": {
      "text/plain": [
       "\"evaluation 38 scenarios | option 2\""
      ]
     },
     "metadata": {},
     "output_type": "display_data"
    },
    {
     "data": {
      "text/plain": [
       "\"evaluation 39 scenarios | option 2\""
      ]
     },
     "metadata": {},
     "output_type": "display_data"
    },
    {
     "data": {
      "text/plain": [
       "\"evaluation 40 scenarios | option 2\""
      ]
     },
     "metadata": {},
     "output_type": "display_data"
    },
    {
     "data": {
      "text/plain": [
       "\"evaluation 41 scenarios | option 2\""
      ]
     },
     "metadata": {},
     "output_type": "display_data"
    },
    {
     "data": {
      "text/plain": [
       "\"evaluation 42 scenarios | option 2\""
      ]
     },
     "metadata": {},
     "output_type": "display_data"
    },
    {
     "data": {
      "text/plain": [
       "\"evaluation 43 scenarios | option 2\""
      ]
     },
     "metadata": {},
     "output_type": "display_data"
    },
    {
     "data": {
      "text/plain": [
       "\"evaluation 44 scenarios | option 2\""
      ]
     },
     "metadata": {},
     "output_type": "display_data"
    },
    {
     "data": {
      "text/plain": [
       "\"evaluation 45 scenarios | option 2\""
      ]
     },
     "metadata": {},
     "output_type": "display_data"
    },
    {
     "data": {
      "text/plain": [
       "\"evaluation 46 scenarios | option 2\""
      ]
     },
     "metadata": {},
     "output_type": "display_data"
    },
    {
     "data": {
      "text/plain": [
       "\"evaluation 47 scenarios | option 2\""
      ]
     },
     "metadata": {},
     "output_type": "display_data"
    },
    {
     "data": {
      "text/plain": [
       "\"evaluation 48 scenarios | option 2\""
      ]
     },
     "metadata": {},
     "output_type": "display_data"
    },
    {
     "data": {
      "text/plain": [
       "\"evaluation 49 scenarios | option 2\""
      ]
     },
     "metadata": {},
     "output_type": "display_data"
    },
    {
     "data": {
      "text/plain": [
       "\"evaluation 50 scenarios | option 2\""
      ]
     },
     "metadata": {},
     "output_type": "display_data"
    },
    {
     "data": {
      "text/plain": [
       "\"evaluation 1 scenarios | option 3\""
      ]
     },
     "metadata": {},
     "output_type": "display_data"
    },
    {
     "data": {
      "text/plain": [
       "\"evaluation 2 scenarios | option 3\""
      ]
     },
     "metadata": {},
     "output_type": "display_data"
    },
    {
     "data": {
      "text/plain": [
       "\"evaluation 3 scenarios | option 3\""
      ]
     },
     "metadata": {},
     "output_type": "display_data"
    },
    {
     "data": {
      "text/plain": [
       "\"evaluation 4 scenarios | option 3\""
      ]
     },
     "metadata": {},
     "output_type": "display_data"
    },
    {
     "data": {
      "text/plain": [
       "\"evaluation 5 scenarios | option 3\""
      ]
     },
     "metadata": {},
     "output_type": "display_data"
    },
    {
     "data": {
      "text/plain": [
       "\"evaluation 6 scenarios | option 3\""
      ]
     },
     "metadata": {},
     "output_type": "display_data"
    },
    {
     "data": {
      "text/plain": [
       "\"evaluation 7 scenarios | option 3\""
      ]
     },
     "metadata": {},
     "output_type": "display_data"
    },
    {
     "data": {
      "text/plain": [
       "\"evaluation 8 scenarios | option 3\""
      ]
     },
     "metadata": {},
     "output_type": "display_data"
    },
    {
     "data": {
      "text/plain": [
       "\"evaluation 9 scenarios | option 3\""
      ]
     },
     "metadata": {},
     "output_type": "display_data"
    },
    {
     "data": {
      "text/plain": [
       "\"evaluation 10 scenarios | option 3\""
      ]
     },
     "metadata": {},
     "output_type": "display_data"
    },
    {
     "data": {
      "text/plain": [
       "\"evaluation 11 scenarios | option 3\""
      ]
     },
     "metadata": {},
     "output_type": "display_data"
    },
    {
     "data": {
      "text/plain": [
       "\"evaluation 12 scenarios | option 3\""
      ]
     },
     "metadata": {},
     "output_type": "display_data"
    },
    {
     "data": {
      "text/plain": [
       "\"evaluation 13 scenarios | option 3\""
      ]
     },
     "metadata": {},
     "output_type": "display_data"
    },
    {
     "data": {
      "text/plain": [
       "\"evaluation 14 scenarios | option 3\""
      ]
     },
     "metadata": {},
     "output_type": "display_data"
    },
    {
     "data": {
      "text/plain": [
       "\"evaluation 15 scenarios | option 3\""
      ]
     },
     "metadata": {},
     "output_type": "display_data"
    },
    {
     "data": {
      "text/plain": [
       "\"evaluation 16 scenarios | option 3\""
      ]
     },
     "metadata": {},
     "output_type": "display_data"
    },
    {
     "data": {
      "text/plain": [
       "\"evaluation 17 scenarios | option 3\""
      ]
     },
     "metadata": {},
     "output_type": "display_data"
    },
    {
     "data": {
      "text/plain": [
       "\"evaluation 18 scenarios | option 3\""
      ]
     },
     "metadata": {},
     "output_type": "display_data"
    },
    {
     "data": {
      "text/plain": [
       "\"evaluation 19 scenarios | option 3\""
      ]
     },
     "metadata": {},
     "output_type": "display_data"
    },
    {
     "data": {
      "text/plain": [
       "\"evaluation 20 scenarios | option 3\""
      ]
     },
     "metadata": {},
     "output_type": "display_data"
    },
    {
     "data": {
      "text/plain": [
       "\"evaluation 21 scenarios | option 3\""
      ]
     },
     "metadata": {},
     "output_type": "display_data"
    },
    {
     "data": {
      "text/plain": [
       "\"evaluation 22 scenarios | option 3\""
      ]
     },
     "metadata": {},
     "output_type": "display_data"
    },
    {
     "data": {
      "text/plain": [
       "\"evaluation 23 scenarios | option 3\""
      ]
     },
     "metadata": {},
     "output_type": "display_data"
    },
    {
     "data": {
      "text/plain": [
       "\"evaluation 24 scenarios | option 3\""
      ]
     },
     "metadata": {},
     "output_type": "display_data"
    },
    {
     "data": {
      "text/plain": [
       "\"evaluation 25 scenarios | option 3\""
      ]
     },
     "metadata": {},
     "output_type": "display_data"
    },
    {
     "data": {
      "text/plain": [
       "\"evaluation 26 scenarios | option 3\""
      ]
     },
     "metadata": {},
     "output_type": "display_data"
    },
    {
     "data": {
      "text/plain": [
       "\"evaluation 27 scenarios | option 3\""
      ]
     },
     "metadata": {},
     "output_type": "display_data"
    },
    {
     "data": {
      "text/plain": [
       "\"evaluation 28 scenarios | option 3\""
      ]
     },
     "metadata": {},
     "output_type": "display_data"
    },
    {
     "data": {
      "text/plain": [
       "\"evaluation 29 scenarios | option 3\""
      ]
     },
     "metadata": {},
     "output_type": "display_data"
    },
    {
     "data": {
      "text/plain": [
       "\"evaluation 30 scenarios | option 3\""
      ]
     },
     "metadata": {},
     "output_type": "display_data"
    },
    {
     "data": {
      "text/plain": [
       "\"evaluation 31 scenarios | option 3\""
      ]
     },
     "metadata": {},
     "output_type": "display_data"
    },
    {
     "data": {
      "text/plain": [
       "\"evaluation 32 scenarios | option 3\""
      ]
     },
     "metadata": {},
     "output_type": "display_data"
    },
    {
     "data": {
      "text/plain": [
       "\"evaluation 33 scenarios | option 3\""
      ]
     },
     "metadata": {},
     "output_type": "display_data"
    },
    {
     "data": {
      "text/plain": [
       "\"evaluation 34 scenarios | option 3\""
      ]
     },
     "metadata": {},
     "output_type": "display_data"
    },
    {
     "data": {
      "text/plain": [
       "\"evaluation 35 scenarios | option 3\""
      ]
     },
     "metadata": {},
     "output_type": "display_data"
    },
    {
     "data": {
      "text/plain": [
       "\"evaluation 36 scenarios | option 3\""
      ]
     },
     "metadata": {},
     "output_type": "display_data"
    },
    {
     "data": {
      "text/plain": [
       "\"evaluation 37 scenarios | option 3\""
      ]
     },
     "metadata": {},
     "output_type": "display_data"
    },
    {
     "data": {
      "text/plain": [
       "\"evaluation 38 scenarios | option 3\""
      ]
     },
     "metadata": {},
     "output_type": "display_data"
    },
    {
     "data": {
      "text/plain": [
       "\"evaluation 39 scenarios | option 3\""
      ]
     },
     "metadata": {},
     "output_type": "display_data"
    },
    {
     "data": {
      "text/plain": [
       "\"evaluation 40 scenarios | option 3\""
      ]
     },
     "metadata": {},
     "output_type": "display_data"
    },
    {
     "data": {
      "text/plain": [
       "\"evaluation 41 scenarios | option 3\""
      ]
     },
     "metadata": {},
     "output_type": "display_data"
    },
    {
     "data": {
      "text/plain": [
       "\"evaluation 42 scenarios | option 3\""
      ]
     },
     "metadata": {},
     "output_type": "display_data"
    },
    {
     "data": {
      "text/plain": [
       "\"evaluation 43 scenarios | option 3\""
      ]
     },
     "metadata": {},
     "output_type": "display_data"
    },
    {
     "data": {
      "text/plain": [
       "\"evaluation 44 scenarios | option 3\""
      ]
     },
     "metadata": {},
     "output_type": "display_data"
    },
    {
     "data": {
      "text/plain": [
       "\"evaluation 45 scenarios | option 3\""
      ]
     },
     "metadata": {},
     "output_type": "display_data"
    },
    {
     "data": {
      "text/plain": [
       "\"evaluation 46 scenarios | option 3\""
      ]
     },
     "metadata": {},
     "output_type": "display_data"
    },
    {
     "data": {
      "text/plain": [
       "\"evaluation 47 scenarios | option 3\""
      ]
     },
     "metadata": {},
     "output_type": "display_data"
    },
    {
     "data": {
      "text/plain": [
       "\"evaluation 48 scenarios | option 3\""
      ]
     },
     "metadata": {},
     "output_type": "display_data"
    },
    {
     "data": {
      "text/plain": [
       "\"evaluation 49 scenarios | option 3\""
      ]
     },
     "metadata": {},
     "output_type": "display_data"
    },
    {
     "data": {
      "text/plain": [
       "\"evaluation 50 scenarios | option 3\""
      ]
     },
     "metadata": {},
     "output_type": "display_data"
    }
   ],
   "source": [
    "nScenTotal = 50 # 15 | 50\n",
    "\n",
    "# preparing plot --> strategy for solving MPC\n",
    "solTimeTraj_s = Matrix{Float64}(undef,3,nScenTotal) \n",
    "\n",
    "# number of reactors in parallel\n",
    "nReactors = 1\n",
    "# Number of states\n",
    "nx = 2*nReactors\n",
    "\n",
    "# Initial conditions (deviation form)\n",
    "xInit_0 = repeat([0.3583;0.6418] .- x0, outer = [nReactors,1]);\n",
    "uInit_0 = 1.0 - u0;\n",
    "\n",
    "for opti in 1:3\n",
    "    #option = 1 # : Unconstrained MPC\n",
    "    #option = 2 # : Constrained MPC with binaries\n",
    "    #option = 3 # : Constrained MPC with MPCC\n",
    "\n",
    "    for ss in 1:nScenTotal\n",
    "        display(\"evaluation $(ss) scenarios | option $(opti)\")\n",
    "        \n",
    "        #number os scenarios\n",
    "        nScen = ss\n",
    "        #equiprobable scenarios\n",
    "        pScen = 1.0/nScen;\n",
    "        \n",
    "        # solving monolithical problem \n",
    "        sol_m_Dict = MS_CLDRTO(xInit_0,uInit_0,nReactors,nScen,pScen,solNominal,opti)\n",
    "        \n",
    "        # saving values for plotting if problem was solved\n",
    "        # output being a dictionary controls if the solver has converged or not \n",
    "        if sol_m_Dict isa Dict\n",
    "            solTimeTraj_s[opti,ss] = sol_m_Dict['t']\n",
    "        else\n",
    "            solTimeTraj_s[opti,ss] = NaN\n",
    "        end\n",
    "        \n",
    "    end\n",
    "end\n"
   ]
  },
  {
   "cell_type": "code",
   "execution_count": 13,
   "id": "349d5d60",
   "metadata": {},
   "outputs": [
    {
     "data": {
      "image/svg+xml": [
       "<?xml version=\"1.0\" encoding=\"utf-8\"?>\n",
       "<svg xmlns=\"http://www.w3.org/2000/svg\" xmlns:xlink=\"http://www.w3.org/1999/xlink\" width=\"600\" height=\"400\" viewBox=\"0 0 2400 1600\">\n",
       "<defs>\n",
       "  <clipPath id=\"clip140\">\n",
       "    <rect x=\"0\" y=\"0\" width=\"2400\" height=\"1600\"/>\n",
       "  </clipPath>\n",
       "</defs>\n",
       "<path clip-path=\"url(#clip140)\" d=\"M0 1600 L2400 1600 L2400 0 L0 0  Z\" fill=\"#ffffff\" fill-rule=\"evenodd\" fill-opacity=\"1\"/>\n",
       "<defs>\n",
       "  <clipPath id=\"clip141\">\n",
       "    <rect x=\"480\" y=\"0\" width=\"1681\" height=\"1600\"/>\n",
       "  </clipPath>\n",
       "</defs>\n",
       "<path clip-path=\"url(#clip140)\" d=\"M205.121 1423.18 L2352.76 1423.18 L2352.76 47.2441 L205.121 47.2441  Z\" fill=\"#ffffff\" fill-rule=\"evenodd\" fill-opacity=\"1\"/>\n",
       "<defs>\n",
       "  <clipPath id=\"clip142\">\n",
       "    <rect x=\"205\" y=\"47\" width=\"2149\" height=\"1377\"/>\n",
       "  </clipPath>\n",
       "</defs>\n",
       "<polyline clip-path=\"url(#clip142)\" style=\"stroke:#000000; stroke-linecap:round; stroke-linejoin:round; stroke-width:8; stroke-opacity:0.1; fill:none\" points=\"224.555,1423.18 224.555,47.2441 \"/>\n",
       "<polyline clip-path=\"url(#clip142)\" style=\"stroke:#000000; stroke-linecap:round; stroke-linejoin:round; stroke-width:8; stroke-opacity:0.1; fill:none\" points=\"638.039,1423.18 638.039,47.2441 \"/>\n",
       "<polyline clip-path=\"url(#clip142)\" style=\"stroke:#000000; stroke-linecap:round; stroke-linejoin:round; stroke-width:8; stroke-opacity:0.1; fill:none\" points=\"1051.52,1423.18 1051.52,47.2441 \"/>\n",
       "<polyline clip-path=\"url(#clip142)\" style=\"stroke:#000000; stroke-linecap:round; stroke-linejoin:round; stroke-width:8; stroke-opacity:0.1; fill:none\" points=\"1465.01,1423.18 1465.01,47.2441 \"/>\n",
       "<polyline clip-path=\"url(#clip142)\" style=\"stroke:#000000; stroke-linecap:round; stroke-linejoin:round; stroke-width:8; stroke-opacity:0.1; fill:none\" points=\"1878.49,1423.18 1878.49,47.2441 \"/>\n",
       "<polyline clip-path=\"url(#clip142)\" style=\"stroke:#000000; stroke-linecap:round; stroke-linejoin:round; stroke-width:8; stroke-opacity:0.1; fill:none\" points=\"2291.97,1423.18 2291.97,47.2441 \"/>\n",
       "<polyline clip-path=\"url(#clip140)\" style=\"stroke:#000000; stroke-linecap:round; stroke-linejoin:round; stroke-width:4; stroke-opacity:1; fill:none\" points=\"205.121,1423.18 2352.76,1423.18 \"/>\n",
       "<polyline clip-path=\"url(#clip140)\" style=\"stroke:#000000; stroke-linecap:round; stroke-linejoin:round; stroke-width:4; stroke-opacity:1; fill:none\" points=\"224.555,1423.18 224.555,1404.28 \"/>\n",
       "<polyline clip-path=\"url(#clip140)\" style=\"stroke:#000000; stroke-linecap:round; stroke-linejoin:round; stroke-width:4; stroke-opacity:1; fill:none\" points=\"638.039,1423.18 638.039,1404.28 \"/>\n",
       "<polyline clip-path=\"url(#clip140)\" style=\"stroke:#000000; stroke-linecap:round; stroke-linejoin:round; stroke-width:4; stroke-opacity:1; fill:none\" points=\"1051.52,1423.18 1051.52,1404.28 \"/>\n",
       "<polyline clip-path=\"url(#clip140)\" style=\"stroke:#000000; stroke-linecap:round; stroke-linejoin:round; stroke-width:4; stroke-opacity:1; fill:none\" points=\"1465.01,1423.18 1465.01,1404.28 \"/>\n",
       "<polyline clip-path=\"url(#clip140)\" style=\"stroke:#000000; stroke-linecap:round; stroke-linejoin:round; stroke-width:4; stroke-opacity:1; fill:none\" points=\"1878.49,1423.18 1878.49,1404.28 \"/>\n",
       "<polyline clip-path=\"url(#clip140)\" style=\"stroke:#000000; stroke-linecap:round; stroke-linejoin:round; stroke-width:4; stroke-opacity:1; fill:none\" points=\"2291.97,1423.18 2291.97,1404.28 \"/>\n",
       "<path clip-path=\"url(#clip140)\" d=\"M224.555 1454.1 Q220.944 1454.1 219.115 1457.66 Q217.309 1461.2 217.309 1468.33 Q217.309 1475.44 219.115 1479.01 Q220.944 1482.55 224.555 1482.55 Q228.189 1482.55 229.994 1479.01 Q231.823 1475.44 231.823 1468.33 Q231.823 1461.2 229.994 1457.66 Q228.189 1454.1 224.555 1454.1 M224.555 1450.39 Q230.365 1450.39 233.42 1455 Q236.499 1459.58 236.499 1468.33 Q236.499 1477.06 233.42 1481.67 Q230.365 1486.25 224.555 1486.25 Q218.745 1486.25 215.666 1481.67 Q212.61 1477.06 212.61 1468.33 Q212.61 1459.58 215.666 1455 Q218.745 1450.39 224.555 1450.39 Z\" fill=\"#000000\" fill-rule=\"evenodd\" fill-opacity=\"1\" /><path clip-path=\"url(#clip140)\" d=\"M612.726 1481.64 L620.365 1481.64 L620.365 1455.28 L612.055 1456.95 L612.055 1452.69 L620.319 1451.02 L624.995 1451.02 L624.995 1481.64 L632.633 1481.64 L632.633 1485.58 L612.726 1485.58 L612.726 1481.64 Z\" fill=\"#000000\" fill-rule=\"evenodd\" fill-opacity=\"1\" /><path clip-path=\"url(#clip140)\" d=\"M652.078 1454.1 Q648.467 1454.1 646.638 1457.66 Q644.832 1461.2 644.832 1468.33 Q644.832 1475.44 646.638 1479.01 Q648.467 1482.55 652.078 1482.55 Q655.712 1482.55 657.518 1479.01 Q659.346 1475.44 659.346 1468.33 Q659.346 1461.2 657.518 1457.66 Q655.712 1454.1 652.078 1454.1 M652.078 1450.39 Q657.888 1450.39 660.943 1455 Q664.022 1459.58 664.022 1468.33 Q664.022 1477.06 660.943 1481.67 Q657.888 1486.25 652.078 1486.25 Q646.268 1486.25 643.189 1481.67 Q640.133 1477.06 640.133 1468.33 Q640.133 1459.58 643.189 1455 Q646.268 1450.39 652.078 1450.39 Z\" fill=\"#000000\" fill-rule=\"evenodd\" fill-opacity=\"1\" /><path clip-path=\"url(#clip140)\" d=\"M1030.3 1481.64 L1046.61 1481.64 L1046.61 1485.58 L1024.67 1485.58 L1024.67 1481.64 Q1027.33 1478.89 1031.92 1474.26 Q1036.52 1469.61 1037.7 1468.27 Q1039.95 1465.74 1040.83 1464.01 Q1041.73 1462.25 1041.73 1460.56 Q1041.73 1457.8 1039.79 1456.07 Q1037.87 1454.33 1034.76 1454.33 Q1032.56 1454.33 1030.11 1455.09 Q1027.68 1455.86 1024.9 1457.41 L1024.9 1452.69 Q1027.73 1451.55 1030.18 1450.97 Q1032.63 1450.39 1034.67 1450.39 Q1040.04 1450.39 1043.24 1453.08 Q1046.43 1455.77 1046.43 1460.26 Q1046.43 1462.39 1045.62 1464.31 Q1044.83 1466.2 1042.73 1468.8 Q1042.15 1469.47 1039.05 1472.69 Q1035.94 1475.88 1030.3 1481.64 Z\" fill=\"#000000\" fill-rule=\"evenodd\" fill-opacity=\"1\" /><path clip-path=\"url(#clip140)\" d=\"M1066.43 1454.1 Q1062.82 1454.1 1060.99 1457.66 Q1059.18 1461.2 1059.18 1468.33 Q1059.18 1475.44 1060.99 1479.01 Q1062.82 1482.55 1066.43 1482.55 Q1070.06 1482.55 1071.87 1479.01 Q1073.7 1475.44 1073.7 1468.33 Q1073.7 1461.2 1071.87 1457.66 Q1070.06 1454.1 1066.43 1454.1 M1066.43 1450.39 Q1072.24 1450.39 1075.3 1455 Q1078.37 1459.58 1078.37 1468.33 Q1078.37 1477.06 1075.3 1481.67 Q1072.24 1486.25 1066.43 1486.25 Q1060.62 1486.25 1057.54 1481.67 Q1054.49 1477.06 1054.49 1468.33 Q1054.49 1459.58 1057.54 1455 Q1060.62 1450.39 1066.43 1450.39 Z\" fill=\"#000000\" fill-rule=\"evenodd\" fill-opacity=\"1\" /><path clip-path=\"url(#clip140)\" d=\"M1453.85 1466.95 Q1457.21 1467.66 1459.08 1469.93 Q1460.98 1472.2 1460.98 1475.53 Q1460.98 1480.65 1457.46 1483.45 Q1453.94 1486.25 1447.46 1486.25 Q1445.28 1486.25 1442.97 1485.81 Q1440.68 1485.39 1438.22 1484.54 L1438.22 1480.02 Q1440.17 1481.16 1442.48 1481.74 Q1444.8 1482.32 1447.32 1482.32 Q1451.72 1482.32 1454.01 1480.58 Q1456.33 1478.84 1456.33 1475.53 Q1456.33 1472.48 1454.17 1470.77 Q1452.04 1469.03 1448.22 1469.03 L1444.2 1469.03 L1444.2 1465.19 L1448.41 1465.19 Q1451.86 1465.19 1453.69 1463.82 Q1455.52 1462.43 1455.52 1459.84 Q1455.52 1457.18 1453.62 1455.77 Q1451.74 1454.33 1448.22 1454.33 Q1446.3 1454.33 1444.1 1454.75 Q1441.9 1455.16 1439.27 1456.04 L1439.27 1451.88 Q1441.93 1451.14 1444.24 1450.77 Q1446.58 1450.39 1448.64 1450.39 Q1453.96 1450.39 1457.07 1452.83 Q1460.17 1455.23 1460.17 1459.35 Q1460.17 1462.22 1458.52 1464.21 Q1456.88 1466.18 1453.85 1466.95 Z\" fill=\"#000000\" fill-rule=\"evenodd\" fill-opacity=\"1\" /><path clip-path=\"url(#clip140)\" d=\"M1479.84 1454.1 Q1476.23 1454.1 1474.4 1457.66 Q1472.6 1461.2 1472.6 1468.33 Q1472.6 1475.44 1474.4 1479.01 Q1476.23 1482.55 1479.84 1482.55 Q1483.48 1482.55 1485.28 1479.01 Q1487.11 1475.44 1487.11 1468.33 Q1487.11 1461.2 1485.28 1457.66 Q1483.48 1454.1 1479.84 1454.1 M1479.84 1450.39 Q1485.65 1450.39 1488.71 1455 Q1491.79 1459.58 1491.79 1468.33 Q1491.79 1477.06 1488.71 1481.67 Q1485.65 1486.25 1479.84 1486.25 Q1474.03 1486.25 1470.96 1481.67 Q1467.9 1477.06 1467.9 1468.33 Q1467.9 1459.58 1470.96 1455 Q1474.03 1450.39 1479.84 1450.39 Z\" fill=\"#000000\" fill-rule=\"evenodd\" fill-opacity=\"1\" /><path clip-path=\"url(#clip140)\" d=\"M1866.66 1455.09 L1854.86 1473.54 L1866.66 1473.54 L1866.66 1455.09 M1865.43 1451.02 L1871.31 1451.02 L1871.31 1473.54 L1876.24 1473.54 L1876.24 1477.43 L1871.31 1477.43 L1871.31 1485.58 L1866.66 1485.58 L1866.66 1477.43 L1851.06 1477.43 L1851.06 1472.92 L1865.43 1451.02 Z\" fill=\"#000000\" fill-rule=\"evenodd\" fill-opacity=\"1\" /><path clip-path=\"url(#clip140)\" d=\"M1893.98 1454.1 Q1890.36 1454.1 1888.54 1457.66 Q1886.73 1461.2 1886.73 1468.33 Q1886.73 1475.44 1888.54 1479.01 Q1890.36 1482.55 1893.98 1482.55 Q1897.61 1482.55 1899.42 1479.01 Q1901.24 1475.44 1901.24 1468.33 Q1901.24 1461.2 1899.42 1457.66 Q1897.61 1454.1 1893.98 1454.1 M1893.98 1450.39 Q1899.79 1450.39 1902.84 1455 Q1905.92 1459.58 1905.92 1468.33 Q1905.92 1477.06 1902.84 1481.67 Q1899.79 1486.25 1893.98 1486.25 Q1888.17 1486.25 1885.09 1481.67 Q1882.03 1477.06 1882.03 1468.33 Q1882.03 1459.58 1885.09 1455 Q1888.17 1450.39 1893.98 1450.39 Z\" fill=\"#000000\" fill-rule=\"evenodd\" fill-opacity=\"1\" /><path clip-path=\"url(#clip140)\" d=\"M2266.67 1451.02 L2285.03 1451.02 L2285.03 1454.96 L2270.96 1454.96 L2270.96 1463.43 Q2271.97 1463.08 2272.99 1462.92 Q2274.01 1462.73 2275.03 1462.73 Q2280.82 1462.73 2284.2 1465.9 Q2287.58 1469.08 2287.58 1474.49 Q2287.58 1480.07 2284.1 1483.17 Q2280.63 1486.25 2274.31 1486.25 Q2272.14 1486.25 2269.87 1485.88 Q2267.62 1485.51 2265.21 1484.77 L2265.21 1480.07 Q2267.3 1481.2 2269.52 1481.76 Q2271.74 1482.32 2274.22 1482.32 Q2278.22 1482.32 2280.56 1480.21 Q2282.9 1478.1 2282.9 1474.49 Q2282.9 1470.88 2280.56 1468.77 Q2278.22 1466.67 2274.22 1466.67 Q2272.34 1466.67 2270.47 1467.08 Q2268.62 1467.5 2266.67 1468.38 L2266.67 1451.02 Z\" fill=\"#000000\" fill-rule=\"evenodd\" fill-opacity=\"1\" /><path clip-path=\"url(#clip140)\" d=\"M2306.79 1454.1 Q2303.18 1454.1 2301.35 1457.66 Q2299.54 1461.2 2299.54 1468.33 Q2299.54 1475.44 2301.35 1479.01 Q2303.18 1482.55 2306.79 1482.55 Q2310.42 1482.55 2312.23 1479.01 Q2314.06 1475.44 2314.06 1468.33 Q2314.06 1461.2 2312.23 1457.66 Q2310.42 1454.1 2306.79 1454.1 M2306.79 1450.39 Q2312.6 1450.39 2315.65 1455 Q2318.73 1459.58 2318.73 1468.33 Q2318.73 1477.06 2315.65 1481.67 Q2312.6 1486.25 2306.79 1486.25 Q2300.98 1486.25 2297.9 1481.67 Q2294.84 1477.06 2294.84 1468.33 Q2294.84 1459.58 2297.9 1455 Q2300.98 1450.39 2306.79 1450.39 Z\" fill=\"#000000\" fill-rule=\"evenodd\" fill-opacity=\"1\" /><path clip-path=\"url(#clip140)\" d=\"M1118.71 1539.37 L1109.45 1539.37 L1106.78 1550 L1116.1 1550 L1118.71 1539.37 M1113.94 1521.26 L1110.63 1534.46 L1119.92 1534.46 L1123.27 1521.26 L1128.36 1521.26 L1125.08 1534.46 L1135.01 1534.46 L1135.01 1539.37 L1123.84 1539.37 L1121.23 1550 L1131.35 1550 L1131.35 1554.87 L1119.99 1554.87 L1116.68 1568.04 L1111.58 1568.04 L1114.86 1554.87 L1105.54 1554.87 L1102.26 1568.04 L1097.13 1568.04 L1100.44 1554.87 L1090.42 1554.87 L1090.42 1550 L1101.62 1550 L1104.3 1539.37 L1094.05 1539.37 L1094.05 1534.46 L1105.54 1534.46 L1108.78 1521.26 L1113.94 1521.26 Z\" fill=\"#000000\" fill-rule=\"evenodd\" fill-opacity=\"1\" /><path clip-path=\"url(#clip140)\" d=\"M1189.6 1533.45 L1189.6 1538.98 Q1187.11 1537.71 1184.44 1537.07 Q1181.77 1536.44 1178.9 1536.44 Q1174.54 1536.44 1172.34 1537.77 Q1170.18 1539.11 1170.18 1541.79 Q1170.18 1543.82 1171.74 1545 Q1173.3 1546.15 1178.01 1547.2 L1180.02 1547.64 Q1186.25 1548.98 1188.86 1551.43 Q1191.51 1553.85 1191.51 1558.21 Q1191.51 1563.17 1187.56 1566.07 Q1183.64 1568.97 1176.77 1568.97 Q1173.9 1568.97 1170.79 1568.39 Q1167.7 1567.85 1164.26 1566.74 L1164.26 1560.69 Q1167.51 1562.38 1170.66 1563.24 Q1173.81 1564.07 1176.9 1564.07 Q1181.03 1564.07 1183.26 1562.66 Q1185.49 1561.23 1185.49 1558.65 Q1185.49 1556.27 1183.87 1554.99 Q1182.28 1553.72 1176.83 1552.54 L1174.8 1552.07 Q1169.35 1550.92 1166.93 1548.56 Q1164.51 1546.18 1164.51 1542.04 Q1164.51 1537.01 1168.08 1534.27 Q1171.64 1531.54 1178.2 1531.54 Q1181.45 1531.54 1184.31 1532.01 Q1187.18 1532.49 1189.6 1533.45 Z\" fill=\"#000000\" fill-rule=\"evenodd\" fill-opacity=\"1\" /><path clip-path=\"url(#clip140)\" d=\"M1226.49 1533.76 L1226.49 1539.24 Q1224 1537.87 1221.49 1537.2 Q1219.01 1536.5 1216.46 1536.5 Q1210.76 1536.5 1207.61 1540.13 Q1204.46 1543.73 1204.46 1550.25 Q1204.46 1556.78 1207.61 1560.4 Q1210.76 1564 1216.46 1564 Q1219.01 1564 1221.49 1563.33 Q1224 1562.63 1226.49 1561.26 L1226.49 1566.68 Q1224.03 1567.82 1221.39 1568.39 Q1218.78 1568.97 1215.82 1568.97 Q1207.77 1568.97 1203.03 1563.91 Q1198.28 1558.85 1198.28 1550.25 Q1198.28 1541.53 1203.06 1536.53 Q1207.87 1531.54 1216.2 1531.54 Q1218.91 1531.54 1221.49 1532.11 Q1224.07 1532.65 1226.49 1533.76 Z\" fill=\"#000000\" fill-rule=\"evenodd\" fill-opacity=\"1\" /><path clip-path=\"url(#clip140)\" d=\"M1267.16 1548.76 L1267.16 1551.62 L1240.23 1551.62 Q1240.62 1557.67 1243.86 1560.85 Q1247.14 1564 1252.97 1564 Q1256.34 1564 1259.49 1563.17 Q1262.67 1562.35 1265.79 1560.69 L1265.79 1566.23 Q1262.64 1567.57 1259.33 1568.27 Q1256.02 1568.97 1252.62 1568.97 Q1244.09 1568.97 1239.09 1564 Q1234.12 1559.04 1234.12 1550.57 Q1234.12 1541.82 1238.83 1536.69 Q1243.58 1531.54 1251.6 1531.54 Q1258.79 1531.54 1262.96 1536.18 Q1267.16 1540.8 1267.16 1548.76 M1261.31 1547.04 Q1261.24 1542.23 1258.6 1539.37 Q1255.99 1536.5 1251.66 1536.5 Q1246.76 1536.5 1243.8 1539.27 Q1240.87 1542.04 1240.43 1547.07 L1261.31 1547.04 Z\" fill=\"#000000\" fill-rule=\"evenodd\" fill-opacity=\"1\" /><path clip-path=\"url(#clip140)\" d=\"M1306.41 1546.53 L1306.41 1568.04 L1300.55 1568.04 L1300.55 1546.72 Q1300.55 1541.66 1298.58 1539.14 Q1296.6 1536.63 1292.66 1536.63 Q1287.91 1536.63 1285.18 1539.65 Q1282.44 1542.68 1282.44 1547.9 L1282.44 1568.04 L1276.55 1568.04 L1276.55 1532.4 L1282.44 1532.4 L1282.44 1537.93 Q1284.54 1534.72 1287.37 1533.13 Q1290.24 1531.54 1293.96 1531.54 Q1300.1 1531.54 1303.26 1535.36 Q1306.41 1539.14 1306.41 1546.53 Z\" fill=\"#000000\" fill-rule=\"evenodd\" fill-opacity=\"1\" /><path clip-path=\"url(#clip140)\" d=\"M1334.29 1550.12 Q1327.19 1550.12 1324.45 1551.75 Q1321.72 1553.37 1321.72 1557.29 Q1321.72 1560.4 1323.75 1562.25 Q1325.82 1564.07 1329.35 1564.07 Q1334.22 1564.07 1337.15 1560.63 Q1340.11 1557.16 1340.11 1551.43 L1340.11 1550.12 L1334.29 1550.12 M1345.97 1547.71 L1345.97 1568.04 L1340.11 1568.04 L1340.11 1562.63 Q1338.11 1565.88 1335.12 1567.44 Q1332.12 1568.97 1327.8 1568.97 Q1322.32 1568.97 1319.07 1565.91 Q1315.86 1562.82 1315.86 1557.67 Q1315.86 1551.65 1319.87 1548.6 Q1323.91 1545.54 1331.9 1545.54 L1340.11 1545.54 L1340.11 1544.97 Q1340.11 1540.93 1337.44 1538.73 Q1334.8 1536.5 1329.99 1536.5 Q1326.94 1536.5 1324.04 1537.23 Q1321.14 1537.97 1318.47 1539.43 L1318.47 1534.02 Q1321.68 1532.78 1324.71 1532.17 Q1327.73 1531.54 1330.6 1531.54 Q1338.33 1531.54 1342.15 1535.55 Q1345.97 1539.56 1345.97 1547.71 Z\" fill=\"#000000\" fill-rule=\"evenodd\" fill-opacity=\"1\" /><path clip-path=\"url(#clip140)\" d=\"M1378.69 1537.87 Q1377.7 1537.3 1376.52 1537.04 Q1375.38 1536.76 1373.98 1536.76 Q1369.01 1536.76 1366.34 1540 Q1363.7 1543.22 1363.7 1549.27 L1363.7 1568.04 L1357.81 1568.04 L1357.81 1532.4 L1363.7 1532.4 L1363.7 1537.93 Q1365.54 1534.69 1368.5 1533.13 Q1371.46 1531.54 1375.7 1531.54 Q1376.3 1531.54 1377.03 1531.63 Q1377.77 1531.7 1378.66 1531.85 L1378.69 1537.87 Z\" fill=\"#000000\" fill-rule=\"evenodd\" fill-opacity=\"1\" /><path clip-path=\"url(#clip140)\" d=\"M1384.83 1532.4 L1390.69 1532.4 L1390.69 1568.04 L1384.83 1568.04 L1384.83 1532.4 M1384.83 1518.52 L1390.69 1518.52 L1390.69 1525.93 L1384.83 1525.93 L1384.83 1518.52 Z\" fill=\"#000000\" fill-rule=\"evenodd\" fill-opacity=\"1\" /><path clip-path=\"url(#clip140)\" d=\"M1416.76 1536.5 Q1412.05 1536.5 1409.31 1540.19 Q1406.57 1543.85 1406.57 1550.25 Q1406.57 1556.65 1409.28 1560.34 Q1412.01 1564 1416.76 1564 Q1421.43 1564 1424.17 1560.31 Q1426.91 1556.62 1426.91 1550.25 Q1426.91 1543.92 1424.17 1540.23 Q1421.43 1536.5 1416.76 1536.5 M1416.76 1531.54 Q1424.39 1531.54 1428.76 1536.5 Q1433.12 1541.47 1433.12 1550.25 Q1433.12 1559 1428.76 1564 Q1424.39 1568.97 1416.76 1568.97 Q1409.09 1568.97 1404.72 1564 Q1400.4 1559 1400.4 1550.25 Q1400.4 1541.47 1404.72 1536.5 Q1409.09 1531.54 1416.76 1531.54 Z\" fill=\"#000000\" fill-rule=\"evenodd\" fill-opacity=\"1\" /><path clip-path=\"url(#clip140)\" d=\"M1465.55 1533.45 L1465.55 1538.98 Q1463.07 1537.71 1460.39 1537.07 Q1457.72 1536.44 1454.85 1536.44 Q1450.49 1536.44 1448.3 1537.77 Q1446.13 1539.11 1446.13 1541.79 Q1446.13 1543.82 1447.69 1545 Q1449.25 1546.15 1453.96 1547.2 L1455.97 1547.64 Q1462.21 1548.98 1464.82 1551.43 Q1467.46 1553.85 1467.46 1558.21 Q1467.46 1563.17 1463.51 1566.07 Q1459.6 1568.97 1452.72 1568.97 Q1449.86 1568.97 1446.74 1568.39 Q1443.65 1567.85 1440.21 1566.74 L1440.21 1560.69 Q1443.46 1562.38 1446.61 1563.24 Q1449.76 1564.07 1452.85 1564.07 Q1456.99 1564.07 1459.22 1562.66 Q1461.44 1561.23 1461.44 1558.65 Q1461.44 1556.27 1459.82 1554.99 Q1458.23 1553.72 1452.79 1552.54 L1450.75 1552.07 Q1445.31 1550.92 1442.89 1548.56 Q1440.47 1546.18 1440.47 1542.04 Q1440.47 1537.01 1444.03 1534.27 Q1447.6 1531.54 1454.15 1531.54 Q1457.4 1531.54 1460.27 1532.01 Q1463.13 1532.49 1465.55 1533.45 Z\" fill=\"#000000\" fill-rule=\"evenodd\" fill-opacity=\"1\" /><polyline clip-path=\"url(#clip142)\" style=\"stroke:#000000; stroke-linecap:round; stroke-linejoin:round; stroke-width:8; stroke-opacity:0.1; fill:none\" points=\"205.121,1385.55 2352.76,1385.55 \"/>\n",
       "<polyline clip-path=\"url(#clip142)\" style=\"stroke:#000000; stroke-linecap:round; stroke-linejoin:round; stroke-width:8; stroke-opacity:0.1; fill:none\" points=\"205.121,1117.11 2352.76,1117.11 \"/>\n",
       "<polyline clip-path=\"url(#clip142)\" style=\"stroke:#000000; stroke-linecap:round; stroke-linejoin:round; stroke-width:8; stroke-opacity:0.1; fill:none\" points=\"205.121,848.658 2352.76,848.658 \"/>\n",
       "<polyline clip-path=\"url(#clip142)\" style=\"stroke:#000000; stroke-linecap:round; stroke-linejoin:round; stroke-width:8; stroke-opacity:0.1; fill:none\" points=\"205.121,580.21 2352.76,580.21 \"/>\n",
       "<polyline clip-path=\"url(#clip142)\" style=\"stroke:#000000; stroke-linecap:round; stroke-linejoin:round; stroke-width:8; stroke-opacity:0.1; fill:none\" points=\"205.121,311.762 2352.76,311.762 \"/>\n",
       "<polyline clip-path=\"url(#clip140)\" style=\"stroke:#000000; stroke-linecap:round; stroke-linejoin:round; stroke-width:4; stroke-opacity:1; fill:none\" points=\"205.121,1423.18 205.121,47.2441 \"/>\n",
       "<polyline clip-path=\"url(#clip140)\" style=\"stroke:#000000; stroke-linecap:round; stroke-linejoin:round; stroke-width:4; stroke-opacity:1; fill:none\" points=\"205.121,1385.55 224.019,1385.55 \"/>\n",
       "<polyline clip-path=\"url(#clip140)\" style=\"stroke:#000000; stroke-linecap:round; stroke-linejoin:round; stroke-width:4; stroke-opacity:1; fill:none\" points=\"205.121,1117.11 224.019,1117.11 \"/>\n",
       "<polyline clip-path=\"url(#clip140)\" style=\"stroke:#000000; stroke-linecap:round; stroke-linejoin:round; stroke-width:4; stroke-opacity:1; fill:none\" points=\"205.121,848.658 224.019,848.658 \"/>\n",
       "<polyline clip-path=\"url(#clip140)\" style=\"stroke:#000000; stroke-linecap:round; stroke-linejoin:round; stroke-width:4; stroke-opacity:1; fill:none\" points=\"205.121,580.21 224.019,580.21 \"/>\n",
       "<polyline clip-path=\"url(#clip140)\" style=\"stroke:#000000; stroke-linecap:round; stroke-linejoin:round; stroke-width:4; stroke-opacity:1; fill:none\" points=\"205.121,311.762 224.019,311.762 \"/>\n",
       "<path clip-path=\"url(#clip140)\" d=\"M157.177 1371.35 Q153.566 1371.35 151.737 1374.92 Q149.931 1378.46 149.931 1385.59 Q149.931 1392.69 151.737 1396.26 Q153.566 1399.8 157.177 1399.8 Q160.811 1399.8 162.616 1396.26 Q164.445 1392.69 164.445 1385.59 Q164.445 1378.46 162.616 1374.92 Q160.811 1371.35 157.177 1371.35 M157.177 1367.65 Q162.987 1367.65 166.042 1372.26 Q169.121 1376.84 169.121 1385.59 Q169.121 1394.32 166.042 1398.92 Q162.987 1403.5 157.177 1403.5 Q151.366 1403.5 148.288 1398.92 Q145.232 1394.32 145.232 1385.59 Q145.232 1376.84 148.288 1372.26 Q151.366 1367.65 157.177 1367.65 Z\" fill=\"#000000\" fill-rule=\"evenodd\" fill-opacity=\"1\" /><path clip-path=\"url(#clip140)\" d=\"M117.825 1130.45 L125.464 1130.45 L125.464 1104.09 L117.154 1105.75 L117.154 1101.49 L125.418 1099.83 L130.093 1099.83 L130.093 1130.45 L137.732 1130.45 L137.732 1134.39 L117.825 1134.39 L117.825 1130.45 Z\" fill=\"#000000\" fill-rule=\"evenodd\" fill-opacity=\"1\" /><path clip-path=\"url(#clip140)\" d=\"M157.177 1102.9 Q153.566 1102.9 151.737 1106.47 Q149.931 1110.01 149.931 1117.14 Q149.931 1124.25 151.737 1127.81 Q153.566 1131.35 157.177 1131.35 Q160.811 1131.35 162.616 1127.81 Q164.445 1124.25 164.445 1117.14 Q164.445 1110.01 162.616 1106.47 Q160.811 1102.9 157.177 1102.9 M157.177 1099.2 Q162.987 1099.2 166.042 1103.81 Q169.121 1108.39 169.121 1117.14 Q169.121 1125.87 166.042 1130.47 Q162.987 1135.06 157.177 1135.06 Q151.366 1135.06 148.288 1130.47 Q145.232 1125.87 145.232 1117.14 Q145.232 1108.39 148.288 1103.81 Q151.366 1099.2 157.177 1099.2 Z\" fill=\"#000000\" fill-rule=\"evenodd\" fill-opacity=\"1\" /><path clip-path=\"url(#clip140)\" d=\"M121.043 862.003 L137.362 862.003 L137.362 865.938 L115.418 865.938 L115.418 862.003 Q118.08 859.248 122.663 854.619 Q127.269 849.966 128.45 848.623 Q130.695 846.1 131.575 844.364 Q132.478 842.605 132.478 840.915 Q132.478 838.16 130.533 836.424 Q128.612 834.688 125.51 834.688 Q123.311 834.688 120.857 835.452 Q118.427 836.216 115.649 837.767 L115.649 833.045 Q118.473 831.91 120.927 831.332 Q123.38 830.753 125.418 830.753 Q130.788 830.753 133.982 833.438 Q137.177 836.123 137.177 840.614 Q137.177 842.744 136.367 844.665 Q135.579 846.563 133.473 849.156 Q132.894 849.827 129.792 853.045 Q126.691 856.239 121.043 862.003 Z\" fill=\"#000000\" fill-rule=\"evenodd\" fill-opacity=\"1\" /><path clip-path=\"url(#clip140)\" d=\"M157.177 834.457 Q153.566 834.457 151.737 838.021 Q149.931 841.563 149.931 848.693 Q149.931 855.799 151.737 859.364 Q153.566 862.906 157.177 862.906 Q160.811 862.906 162.616 859.364 Q164.445 855.799 164.445 848.693 Q164.445 841.563 162.616 838.021 Q160.811 834.457 157.177 834.457 M157.177 830.753 Q162.987 830.753 166.042 835.359 Q169.121 839.943 169.121 848.693 Q169.121 857.42 166.042 862.026 Q162.987 866.609 157.177 866.609 Q151.366 866.609 148.288 862.026 Q145.232 857.42 145.232 848.693 Q145.232 839.943 148.288 835.359 Q151.366 830.753 157.177 830.753 Z\" fill=\"#000000\" fill-rule=\"evenodd\" fill-opacity=\"1\" /><path clip-path=\"url(#clip140)\" d=\"M131.181 578.856 Q134.538 579.574 136.413 581.842 Q138.311 584.111 138.311 587.444 Q138.311 592.56 134.792 595.361 Q131.274 598.161 124.793 598.161 Q122.617 598.161 120.302 597.722 Q118.01 597.305 115.556 596.449 L115.556 591.935 Q117.501 593.069 119.816 593.648 Q122.13 594.226 124.654 594.226 Q129.052 594.226 131.343 592.49 Q133.658 590.754 133.658 587.444 Q133.658 584.388 131.505 582.675 Q129.376 580.939 125.556 580.939 L121.529 580.939 L121.529 577.097 L125.742 577.097 Q129.191 577.097 131.019 575.731 Q132.848 574.342 132.848 571.75 Q132.848 569.088 130.95 567.676 Q129.075 566.24 125.556 566.24 Q123.635 566.24 121.436 566.657 Q119.237 567.074 116.598 567.953 L116.598 563.787 Q119.26 563.046 121.575 562.676 Q123.913 562.305 125.973 562.305 Q131.297 562.305 134.399 564.736 Q137.501 567.143 137.501 571.263 Q137.501 574.134 135.857 576.125 Q134.214 578.092 131.181 578.856 Z\" fill=\"#000000\" fill-rule=\"evenodd\" fill-opacity=\"1\" /><path clip-path=\"url(#clip140)\" d=\"M157.177 566.009 Q153.566 566.009 151.737 569.574 Q149.931 573.115 149.931 580.245 Q149.931 587.351 151.737 590.916 Q153.566 594.458 157.177 594.458 Q160.811 594.458 162.616 590.916 Q164.445 587.351 164.445 580.245 Q164.445 573.115 162.616 569.574 Q160.811 566.009 157.177 566.009 M157.177 562.305 Q162.987 562.305 166.042 566.912 Q169.121 571.495 169.121 580.245 Q169.121 588.972 166.042 593.578 Q162.987 598.161 157.177 598.161 Q151.366 598.161 148.288 593.578 Q145.232 588.972 145.232 580.245 Q145.232 571.495 148.288 566.912 Q151.366 562.305 157.177 562.305 Z\" fill=\"#000000\" fill-rule=\"evenodd\" fill-opacity=\"1\" /><path clip-path=\"url(#clip140)\" d=\"M129.862 298.556 L118.056 317.005 L129.862 317.005 L129.862 298.556 M128.635 294.482 L134.515 294.482 L134.515 317.005 L139.445 317.005 L139.445 320.894 L134.515 320.894 L134.515 329.042 L129.862 329.042 L129.862 320.894 L114.26 320.894 L114.26 316.38 L128.635 294.482 Z\" fill=\"#000000\" fill-rule=\"evenodd\" fill-opacity=\"1\" /><path clip-path=\"url(#clip140)\" d=\"M157.177 297.561 Q153.566 297.561 151.737 301.126 Q149.931 304.668 149.931 311.797 Q149.931 318.904 151.737 322.468 Q153.566 326.01 157.177 326.01 Q160.811 326.01 162.616 322.468 Q164.445 318.904 164.445 311.797 Q164.445 304.668 162.616 301.126 Q160.811 297.561 157.177 297.561 M157.177 293.857 Q162.987 293.857 166.042 298.464 Q169.121 303.047 169.121 311.797 Q169.121 320.524 166.042 325.13 Q162.987 329.714 157.177 329.714 Q151.366 329.714 148.288 325.13 Q145.232 320.524 145.232 311.797 Q145.232 303.047 148.288 298.464 Q151.366 293.857 157.177 293.857 Z\" fill=\"#000000\" fill-rule=\"evenodd\" fill-opacity=\"1\" /><path clip-path=\"url(#clip140)\" d=\"M29.4065 898.413 L34.9447 898.413 Q33.6716 900.895 33.035 903.569 Q32.3984 906.243 32.3984 909.107 Q32.3984 913.468 33.7352 915.664 Q35.072 917.828 37.7456 917.828 Q39.7826 917.828 40.9603 916.269 Q42.1061 914.709 43.1565 909.998 L43.6021 907.993 Q44.9389 901.755 47.3897 899.145 Q49.8086 896.503 54.1691 896.503 Q59.1344 896.503 62.0308 900.45 Q64.9272 904.365 64.9272 911.24 Q64.9272 914.104 64.3543 917.223 Q63.8132 920.311 62.6992 923.748 L56.6518 923.748 Q58.3387 920.502 59.198 917.351 Q60.0256 914.2 60.0256 911.112 Q60.0256 906.975 58.6251 904.747 Q57.1929 902.519 54.6147 902.519 Q52.2276 902.519 50.9545 904.142 Q49.6813 905.733 48.5037 911.176 L48.0262 913.213 Q46.8804 918.656 44.5251 921.075 Q42.138 923.494 38.0002 923.494 Q32.9713 923.494 30.2341 919.929 Q27.4968 916.364 27.4968 909.807 Q27.4968 906.561 27.9743 903.696 Q28.4517 900.832 29.4065 898.413 Z\" fill=\"#000000\" fill-rule=\"evenodd\" fill-opacity=\"1\" /><path clip-path=\"url(#clip140)\" d=\"M32.4621 873.364 Q32.4621 878.074 36.1542 880.812 Q39.8145 883.549 46.212 883.549 Q52.6095 883.549 56.3017 880.843 Q59.9619 878.106 59.9619 873.364 Q59.9619 868.685 56.2698 865.948 Q52.5777 863.21 46.212 863.21 Q39.8781 863.21 36.186 865.948 Q32.4621 868.685 32.4621 873.364 M27.4968 873.364 Q27.4968 865.725 32.4621 861.364 Q37.4273 857.004 46.212 857.004 Q54.9649 857.004 59.9619 861.364 Q64.9272 865.725 64.9272 873.364 Q64.9272 881.034 59.9619 885.395 Q54.9649 889.724 46.212 889.724 Q37.4273 889.724 32.4621 885.395 Q27.4968 881.034 27.4968 873.364 Z\" fill=\"#000000\" fill-rule=\"evenodd\" fill-opacity=\"1\" /><path clip-path=\"url(#clip140)\" d=\"M14.479 847.296 L14.479 841.44 L64.0042 841.44 L64.0042 847.296 L14.479 847.296 Z\" fill=\"#000000\" fill-rule=\"evenodd\" fill-opacity=\"1\" /><path clip-path=\"url(#clip140)\" d=\"M55.9197 828.358 L55.9197 821.642 L64.0042 821.642 L64.0042 828.358 L55.9197 828.358 Z\" fill=\"#000000\" fill-rule=\"evenodd\" fill-opacity=\"1\" /><path clip-path=\"url(#clip140)\" d=\"M18.2347 781.952 L28.3562 781.952 L28.3562 769.889 L32.9077 769.889 L32.9077 781.952 L52.2594 781.952 Q56.6199 781.952 57.8613 780.775 Q59.1026 779.565 59.1026 775.905 L59.1026 769.889 L64.0042 769.889 L64.0042 775.905 Q64.0042 782.684 61.4897 785.262 Q58.9434 787.84 52.2594 787.84 L32.9077 787.84 L32.9077 792.137 L28.3562 792.137 L28.3562 787.84 L18.2347 787.84 L18.2347 781.952 Z\" fill=\"#000000\" fill-rule=\"evenodd\" fill-opacity=\"1\" /><path clip-path=\"url(#clip140)\" d=\"M28.3562 762.187 L28.3562 756.33 L64.0042 756.33 L64.0042 762.187 L28.3562 762.187 M14.479 762.187 L14.479 756.33 L21.895 756.33 L21.895 762.187 L14.479 762.187 Z\" fill=\"#000000\" fill-rule=\"evenodd\" fill-opacity=\"1\" /><path clip-path=\"url(#clip140)\" d=\"M35.1993 716.322 Q31.2526 714.126 29.3747 711.07 Q27.4968 708.014 27.4968 703.877 Q27.4968 698.307 31.4117 695.283 Q35.2948 692.259 42.4881 692.259 L64.0042 692.259 L64.0042 698.148 L42.679 698.148 Q37.5546 698.148 35.072 699.962 Q32.5894 701.776 32.5894 705.5 Q32.5894 710.052 35.6131 712.693 Q38.6368 715.335 43.8567 715.335 L64.0042 715.335 L64.0042 721.223 L42.679 721.223 Q37.5228 721.223 35.072 723.038 Q32.5894 724.852 32.5894 728.639 Q32.5894 733.127 35.6449 735.769 Q38.6686 738.411 43.8567 738.411 L64.0042 738.411 L64.0042 744.299 L28.3562 744.299 L28.3562 738.411 L33.8944 738.411 Q30.616 736.406 29.0564 733.605 Q27.4968 730.804 27.4968 726.952 Q27.4968 723.069 29.4702 720.364 Q31.4436 717.627 35.1993 716.322 Z\" fill=\"#000000\" fill-rule=\"evenodd\" fill-opacity=\"1\" /><path clip-path=\"url(#clip140)\" d=\"M44.7161 650.087 L47.5806 650.087 L47.5806 677.013 Q53.6281 676.632 56.8109 673.385 Q59.9619 670.107 59.9619 664.282 Q59.9619 660.908 59.1344 657.757 Q58.3069 654.574 56.6518 651.455 L62.1899 651.455 Q63.5267 654.606 64.227 657.916 Q64.9272 661.227 64.9272 664.632 Q64.9272 673.162 59.9619 678.159 Q54.9967 683.125 46.5303 683.125 Q37.7774 683.125 32.6531 678.414 Q27.4968 673.671 27.4968 665.651 Q27.4968 658.457 32.1438 654.288 Q36.7589 650.087 44.7161 650.087 M42.9973 655.943 Q38.1912 656.007 35.3266 658.648 Q32.4621 661.258 32.4621 665.587 Q32.4621 670.489 35.2312 673.449 Q38.0002 676.377 43.0292 676.823 L42.9973 655.943 Z\" fill=\"#000000\" fill-rule=\"evenodd\" fill-opacity=\"1\" /><path clip-path=\"url(#clip140)\" d=\"M14.479 620.295 L14.479 606.8 L19.0304 606.8 L19.0304 614.439 L68.0464 614.439 L68.0464 606.8 L72.5979 606.8 L72.5979 620.295 L14.479 620.295 Z\" fill=\"#000000\" fill-rule=\"evenodd\" fill-opacity=\"1\" /><path clip-path=\"url(#clip140)\" d=\"M29.4065 571.597 L34.9447 571.597 Q33.6716 574.08 33.035 576.754 Q32.3984 579.427 32.3984 582.292 Q32.3984 586.652 33.7352 588.848 Q35.072 591.013 37.7456 591.013 Q39.7826 591.013 40.9603 589.453 Q42.1061 587.894 43.1565 583.183 L43.6021 581.178 Q44.9389 574.939 47.3897 572.329 Q49.8086 569.688 54.1691 569.688 Q59.1344 569.688 62.0308 573.634 Q64.9272 577.549 64.9272 584.424 Q64.9272 587.289 64.3543 590.408 Q63.8132 593.495 62.6992 596.933 L56.6518 596.933 Q58.3387 593.686 59.198 590.535 Q60.0256 587.384 60.0256 584.297 Q60.0256 580.159 58.6251 577.931 Q57.1929 575.703 54.6147 575.703 Q52.2276 575.703 50.9545 577.327 Q49.6813 578.918 48.5037 584.361 L48.0262 586.398 Q46.8804 591.84 44.5251 594.259 Q42.138 596.678 38.0002 596.678 Q32.9713 596.678 30.2341 593.113 Q27.4968 589.549 27.4968 582.992 Q27.4968 579.745 27.9743 576.881 Q28.4517 574.016 29.4065 571.597 Z\" fill=\"#000000\" fill-rule=\"evenodd\" fill-opacity=\"1\" /><path clip-path=\"url(#clip140)\" d=\"M14.479 546.676 L72.5979 546.676 L72.5979 560.171 L68.0464 560.171 L68.0464 552.564 L19.0304 552.564 L19.0304 560.171 L14.479 560.171 L14.479 546.676 Z\" fill=\"#000000\" fill-rule=\"evenodd\" fill-opacity=\"1\" /><polyline clip-path=\"url(#clip142)\" style=\"stroke:#008000; stroke-linecap:round; stroke-linejoin:round; stroke-width:4; stroke-opacity:1; fill:none\" points=\"265.903,1383.22 307.251,1380.78 348.6,1378.33 389.948,1375.73 431.297,1370.65 472.645,1367.92 513.993,1358.06 555.342,1362.6 596.69,1358.84 638.039,1358.12 679.387,1355.3 720.735,1352.51 762.084,1348.16 803.432,1346.2 844.78,1343.11 886.129,1338.58 927.477,1335.94 968.826,1328.32 1010.17,1328.67 1051.52,1326.9 1092.87,1323.78 1134.22,1317.69 1175.57,1311.73 1216.92,1308.37 1258.26,1301.29 1299.61,1300.56 1340.96,1295.17 1382.31,1294.39 1423.66,1293.85 1465.01,1288.64 1506.35,1286.79 1547.7,1290.79 1589.05,1282.71 1630.4,1282.52 1671.75,1280.32 1713.1,1269.37 1754.44,1197.18 1795.79,1231.68 1837.14,1191.39 1878.49,1257.16 1919.84,1262.66 1961.19,1260.67 2002.54,1254.87 2043.88,1253.53 2085.23,1246.47 2126.58,1244.54 2167.93,1242.5 2209.28,1235.97 2250.63,1235.79 2291.97,1233.93 \"/>\n",
       "<circle clip-path=\"url(#clip142)\" cx=\"265.903\" cy=\"1383.22\" r=\"14.4\" fill=\"#008000\" fill-rule=\"evenodd\" fill-opacity=\"1\" stroke=\"#000000\" stroke-opacity=\"1\" stroke-width=\"3.2\"/>\n",
       "<circle clip-path=\"url(#clip142)\" cx=\"307.251\" cy=\"1380.78\" r=\"14.4\" fill=\"#008000\" fill-rule=\"evenodd\" fill-opacity=\"1\" stroke=\"#000000\" stroke-opacity=\"1\" stroke-width=\"3.2\"/>\n",
       "<circle clip-path=\"url(#clip142)\" cx=\"348.6\" cy=\"1378.33\" r=\"14.4\" fill=\"#008000\" fill-rule=\"evenodd\" fill-opacity=\"1\" stroke=\"#000000\" stroke-opacity=\"1\" stroke-width=\"3.2\"/>\n",
       "<circle clip-path=\"url(#clip142)\" cx=\"389.948\" cy=\"1375.73\" r=\"14.4\" fill=\"#008000\" fill-rule=\"evenodd\" fill-opacity=\"1\" stroke=\"#000000\" stroke-opacity=\"1\" stroke-width=\"3.2\"/>\n",
       "<circle clip-path=\"url(#clip142)\" cx=\"431.297\" cy=\"1370.65\" r=\"14.4\" fill=\"#008000\" fill-rule=\"evenodd\" fill-opacity=\"1\" stroke=\"#000000\" stroke-opacity=\"1\" stroke-width=\"3.2\"/>\n",
       "<circle clip-path=\"url(#clip142)\" cx=\"472.645\" cy=\"1367.92\" r=\"14.4\" fill=\"#008000\" fill-rule=\"evenodd\" fill-opacity=\"1\" stroke=\"#000000\" stroke-opacity=\"1\" stroke-width=\"3.2\"/>\n",
       "<circle clip-path=\"url(#clip142)\" cx=\"513.993\" cy=\"1358.06\" r=\"14.4\" fill=\"#008000\" fill-rule=\"evenodd\" fill-opacity=\"1\" stroke=\"#000000\" stroke-opacity=\"1\" stroke-width=\"3.2\"/>\n",
       "<circle clip-path=\"url(#clip142)\" cx=\"555.342\" cy=\"1362.6\" r=\"14.4\" fill=\"#008000\" fill-rule=\"evenodd\" fill-opacity=\"1\" stroke=\"#000000\" stroke-opacity=\"1\" stroke-width=\"3.2\"/>\n",
       "<circle clip-path=\"url(#clip142)\" cx=\"596.69\" cy=\"1358.84\" r=\"14.4\" fill=\"#008000\" fill-rule=\"evenodd\" fill-opacity=\"1\" stroke=\"#000000\" stroke-opacity=\"1\" stroke-width=\"3.2\"/>\n",
       "<circle clip-path=\"url(#clip142)\" cx=\"638.039\" cy=\"1358.12\" r=\"14.4\" fill=\"#008000\" fill-rule=\"evenodd\" fill-opacity=\"1\" stroke=\"#000000\" stroke-opacity=\"1\" stroke-width=\"3.2\"/>\n",
       "<circle clip-path=\"url(#clip142)\" cx=\"679.387\" cy=\"1355.3\" r=\"14.4\" fill=\"#008000\" fill-rule=\"evenodd\" fill-opacity=\"1\" stroke=\"#000000\" stroke-opacity=\"1\" stroke-width=\"3.2\"/>\n",
       "<circle clip-path=\"url(#clip142)\" cx=\"720.735\" cy=\"1352.51\" r=\"14.4\" fill=\"#008000\" fill-rule=\"evenodd\" fill-opacity=\"1\" stroke=\"#000000\" stroke-opacity=\"1\" stroke-width=\"3.2\"/>\n",
       "<circle clip-path=\"url(#clip142)\" cx=\"762.084\" cy=\"1348.16\" r=\"14.4\" fill=\"#008000\" fill-rule=\"evenodd\" fill-opacity=\"1\" stroke=\"#000000\" stroke-opacity=\"1\" stroke-width=\"3.2\"/>\n",
       "<circle clip-path=\"url(#clip142)\" cx=\"803.432\" cy=\"1346.2\" r=\"14.4\" fill=\"#008000\" fill-rule=\"evenodd\" fill-opacity=\"1\" stroke=\"#000000\" stroke-opacity=\"1\" stroke-width=\"3.2\"/>\n",
       "<circle clip-path=\"url(#clip142)\" cx=\"844.78\" cy=\"1343.11\" r=\"14.4\" fill=\"#008000\" fill-rule=\"evenodd\" fill-opacity=\"1\" stroke=\"#000000\" stroke-opacity=\"1\" stroke-width=\"3.2\"/>\n",
       "<circle clip-path=\"url(#clip142)\" cx=\"886.129\" cy=\"1338.58\" r=\"14.4\" fill=\"#008000\" fill-rule=\"evenodd\" fill-opacity=\"1\" stroke=\"#000000\" stroke-opacity=\"1\" stroke-width=\"3.2\"/>\n",
       "<circle clip-path=\"url(#clip142)\" cx=\"927.477\" cy=\"1335.94\" r=\"14.4\" fill=\"#008000\" fill-rule=\"evenodd\" fill-opacity=\"1\" stroke=\"#000000\" stroke-opacity=\"1\" stroke-width=\"3.2\"/>\n",
       "<circle clip-path=\"url(#clip142)\" cx=\"968.826\" cy=\"1328.32\" r=\"14.4\" fill=\"#008000\" fill-rule=\"evenodd\" fill-opacity=\"1\" stroke=\"#000000\" stroke-opacity=\"1\" stroke-width=\"3.2\"/>\n",
       "<circle clip-path=\"url(#clip142)\" cx=\"1010.17\" cy=\"1328.67\" r=\"14.4\" fill=\"#008000\" fill-rule=\"evenodd\" fill-opacity=\"1\" stroke=\"#000000\" stroke-opacity=\"1\" stroke-width=\"3.2\"/>\n",
       "<circle clip-path=\"url(#clip142)\" cx=\"1051.52\" cy=\"1326.9\" r=\"14.4\" fill=\"#008000\" fill-rule=\"evenodd\" fill-opacity=\"1\" stroke=\"#000000\" stroke-opacity=\"1\" stroke-width=\"3.2\"/>\n",
       "<circle clip-path=\"url(#clip142)\" cx=\"1092.87\" cy=\"1323.78\" r=\"14.4\" fill=\"#008000\" fill-rule=\"evenodd\" fill-opacity=\"1\" stroke=\"#000000\" stroke-opacity=\"1\" stroke-width=\"3.2\"/>\n",
       "<circle clip-path=\"url(#clip142)\" cx=\"1134.22\" cy=\"1317.69\" r=\"14.4\" fill=\"#008000\" fill-rule=\"evenodd\" fill-opacity=\"1\" stroke=\"#000000\" stroke-opacity=\"1\" stroke-width=\"3.2\"/>\n",
       "<circle clip-path=\"url(#clip142)\" cx=\"1175.57\" cy=\"1311.73\" r=\"14.4\" fill=\"#008000\" fill-rule=\"evenodd\" fill-opacity=\"1\" stroke=\"#000000\" stroke-opacity=\"1\" stroke-width=\"3.2\"/>\n",
       "<circle clip-path=\"url(#clip142)\" cx=\"1216.92\" cy=\"1308.37\" r=\"14.4\" fill=\"#008000\" fill-rule=\"evenodd\" fill-opacity=\"1\" stroke=\"#000000\" stroke-opacity=\"1\" stroke-width=\"3.2\"/>\n",
       "<circle clip-path=\"url(#clip142)\" cx=\"1258.26\" cy=\"1301.29\" r=\"14.4\" fill=\"#008000\" fill-rule=\"evenodd\" fill-opacity=\"1\" stroke=\"#000000\" stroke-opacity=\"1\" stroke-width=\"3.2\"/>\n",
       "<circle clip-path=\"url(#clip142)\" cx=\"1299.61\" cy=\"1300.56\" r=\"14.4\" fill=\"#008000\" fill-rule=\"evenodd\" fill-opacity=\"1\" stroke=\"#000000\" stroke-opacity=\"1\" stroke-width=\"3.2\"/>\n",
       "<circle clip-path=\"url(#clip142)\" cx=\"1340.96\" cy=\"1295.17\" r=\"14.4\" fill=\"#008000\" fill-rule=\"evenodd\" fill-opacity=\"1\" stroke=\"#000000\" stroke-opacity=\"1\" stroke-width=\"3.2\"/>\n",
       "<circle clip-path=\"url(#clip142)\" cx=\"1382.31\" cy=\"1294.39\" r=\"14.4\" fill=\"#008000\" fill-rule=\"evenodd\" fill-opacity=\"1\" stroke=\"#000000\" stroke-opacity=\"1\" stroke-width=\"3.2\"/>\n",
       "<circle clip-path=\"url(#clip142)\" cx=\"1423.66\" cy=\"1293.85\" r=\"14.4\" fill=\"#008000\" fill-rule=\"evenodd\" fill-opacity=\"1\" stroke=\"#000000\" stroke-opacity=\"1\" stroke-width=\"3.2\"/>\n",
       "<circle clip-path=\"url(#clip142)\" cx=\"1465.01\" cy=\"1288.64\" r=\"14.4\" fill=\"#008000\" fill-rule=\"evenodd\" fill-opacity=\"1\" stroke=\"#000000\" stroke-opacity=\"1\" stroke-width=\"3.2\"/>\n",
       "<circle clip-path=\"url(#clip142)\" cx=\"1506.35\" cy=\"1286.79\" r=\"14.4\" fill=\"#008000\" fill-rule=\"evenodd\" fill-opacity=\"1\" stroke=\"#000000\" stroke-opacity=\"1\" stroke-width=\"3.2\"/>\n",
       "<circle clip-path=\"url(#clip142)\" cx=\"1547.7\" cy=\"1290.79\" r=\"14.4\" fill=\"#008000\" fill-rule=\"evenodd\" fill-opacity=\"1\" stroke=\"#000000\" stroke-opacity=\"1\" stroke-width=\"3.2\"/>\n",
       "<circle clip-path=\"url(#clip142)\" cx=\"1589.05\" cy=\"1282.71\" r=\"14.4\" fill=\"#008000\" fill-rule=\"evenodd\" fill-opacity=\"1\" stroke=\"#000000\" stroke-opacity=\"1\" stroke-width=\"3.2\"/>\n",
       "<circle clip-path=\"url(#clip142)\" cx=\"1630.4\" cy=\"1282.52\" r=\"14.4\" fill=\"#008000\" fill-rule=\"evenodd\" fill-opacity=\"1\" stroke=\"#000000\" stroke-opacity=\"1\" stroke-width=\"3.2\"/>\n",
       "<circle clip-path=\"url(#clip142)\" cx=\"1671.75\" cy=\"1280.32\" r=\"14.4\" fill=\"#008000\" fill-rule=\"evenodd\" fill-opacity=\"1\" stroke=\"#000000\" stroke-opacity=\"1\" stroke-width=\"3.2\"/>\n",
       "<circle clip-path=\"url(#clip142)\" cx=\"1713.1\" cy=\"1269.37\" r=\"14.4\" fill=\"#008000\" fill-rule=\"evenodd\" fill-opacity=\"1\" stroke=\"#000000\" stroke-opacity=\"1\" stroke-width=\"3.2\"/>\n",
       "<circle clip-path=\"url(#clip142)\" cx=\"1754.44\" cy=\"1197.18\" r=\"14.4\" fill=\"#008000\" fill-rule=\"evenodd\" fill-opacity=\"1\" stroke=\"#000000\" stroke-opacity=\"1\" stroke-width=\"3.2\"/>\n",
       "<circle clip-path=\"url(#clip142)\" cx=\"1795.79\" cy=\"1231.68\" r=\"14.4\" fill=\"#008000\" fill-rule=\"evenodd\" fill-opacity=\"1\" stroke=\"#000000\" stroke-opacity=\"1\" stroke-width=\"3.2\"/>\n",
       "<circle clip-path=\"url(#clip142)\" cx=\"1837.14\" cy=\"1191.39\" r=\"14.4\" fill=\"#008000\" fill-rule=\"evenodd\" fill-opacity=\"1\" stroke=\"#000000\" stroke-opacity=\"1\" stroke-width=\"3.2\"/>\n",
       "<circle clip-path=\"url(#clip142)\" cx=\"1878.49\" cy=\"1257.16\" r=\"14.4\" fill=\"#008000\" fill-rule=\"evenodd\" fill-opacity=\"1\" stroke=\"#000000\" stroke-opacity=\"1\" stroke-width=\"3.2\"/>\n",
       "<circle clip-path=\"url(#clip142)\" cx=\"1919.84\" cy=\"1262.66\" r=\"14.4\" fill=\"#008000\" fill-rule=\"evenodd\" fill-opacity=\"1\" stroke=\"#000000\" stroke-opacity=\"1\" stroke-width=\"3.2\"/>\n",
       "<circle clip-path=\"url(#clip142)\" cx=\"1961.19\" cy=\"1260.67\" r=\"14.4\" fill=\"#008000\" fill-rule=\"evenodd\" fill-opacity=\"1\" stroke=\"#000000\" stroke-opacity=\"1\" stroke-width=\"3.2\"/>\n",
       "<circle clip-path=\"url(#clip142)\" cx=\"2002.54\" cy=\"1254.87\" r=\"14.4\" fill=\"#008000\" fill-rule=\"evenodd\" fill-opacity=\"1\" stroke=\"#000000\" stroke-opacity=\"1\" stroke-width=\"3.2\"/>\n",
       "<circle clip-path=\"url(#clip142)\" cx=\"2043.88\" cy=\"1253.53\" r=\"14.4\" fill=\"#008000\" fill-rule=\"evenodd\" fill-opacity=\"1\" stroke=\"#000000\" stroke-opacity=\"1\" stroke-width=\"3.2\"/>\n",
       "<circle clip-path=\"url(#clip142)\" cx=\"2085.23\" cy=\"1246.47\" r=\"14.4\" fill=\"#008000\" fill-rule=\"evenodd\" fill-opacity=\"1\" stroke=\"#000000\" stroke-opacity=\"1\" stroke-width=\"3.2\"/>\n",
       "<circle clip-path=\"url(#clip142)\" cx=\"2126.58\" cy=\"1244.54\" r=\"14.4\" fill=\"#008000\" fill-rule=\"evenodd\" fill-opacity=\"1\" stroke=\"#000000\" stroke-opacity=\"1\" stroke-width=\"3.2\"/>\n",
       "<circle clip-path=\"url(#clip142)\" cx=\"2167.93\" cy=\"1242.5\" r=\"14.4\" fill=\"#008000\" fill-rule=\"evenodd\" fill-opacity=\"1\" stroke=\"#000000\" stroke-opacity=\"1\" stroke-width=\"3.2\"/>\n",
       "<circle clip-path=\"url(#clip142)\" cx=\"2209.28\" cy=\"1235.97\" r=\"14.4\" fill=\"#008000\" fill-rule=\"evenodd\" fill-opacity=\"1\" stroke=\"#000000\" stroke-opacity=\"1\" stroke-width=\"3.2\"/>\n",
       "<circle clip-path=\"url(#clip142)\" cx=\"2250.63\" cy=\"1235.79\" r=\"14.4\" fill=\"#008000\" fill-rule=\"evenodd\" fill-opacity=\"1\" stroke=\"#000000\" stroke-opacity=\"1\" stroke-width=\"3.2\"/>\n",
       "<circle clip-path=\"url(#clip142)\" cx=\"2291.97\" cy=\"1233.93\" r=\"14.4\" fill=\"#008000\" fill-rule=\"evenodd\" fill-opacity=\"1\" stroke=\"#000000\" stroke-opacity=\"1\" stroke-width=\"3.2\"/>\n",
       "<polyline clip-path=\"url(#clip142)\" style=\"stroke:#0000ff; stroke-linecap:round; stroke-linejoin:round; stroke-width:4; stroke-opacity:1; fill:none\" points=\"265.903,1383.38 307.251,1381.18 348.6,1380.51 389.948,1378.95 431.297,1375.38 472.645,1372.18 513.993,1374.41 555.342,1361.96 596.69,1353.96 638.039,1355.51 679.387,1343.03 720.735,1345.69 762.084,1333.85 803.432,1332.64 844.78,1321.34 886.129,1323.43 927.477,1307.89 968.826,1299.49 1010.17,1297.72 1051.52,1255.87 1092.87,1267.71 1134.22,1241.48 1175.57,1229.59 1216.92,1210.53 1258.26,1185.24 1299.61,1183.33 1340.96,1099.93 1382.31,1125.54 1423.66,1090.93 1465.01,990.64 1506.35,981.056 1547.7,1003.31 1589.05,957.809 1630.4,952.682 1671.75,858.349 1713.1,873.597 1754.44,754.97 1795.79,675.831 1837.14,608.934 1878.49,639.349 1919.84,589.015 1961.19,602.116 2002.54,514.118 2043.88,396.109 2085.23,306.608 2126.58,378.445 2167.93,280.273 2209.28,86.1857 2250.63,136.708 2291.97,131.983 \"/>\n",
       "<line clip-path=\"url(#clip142)\" x1=\"265.903\" y1=\"1383.38\" x2=\"265.903\" y2=\"1367.38\" style=\"stroke:#0000ff; stroke-width:3.2; stroke-opacity:1\"/>\n",
       "<line clip-path=\"url(#clip142)\" x1=\"265.903\" y1=\"1383.38\" x2=\"249.903\" y2=\"1383.38\" style=\"stroke:#0000ff; stroke-width:3.2; stroke-opacity:1\"/>\n",
       "<line clip-path=\"url(#clip142)\" x1=\"265.903\" y1=\"1383.38\" x2=\"265.903\" y2=\"1399.38\" style=\"stroke:#0000ff; stroke-width:3.2; stroke-opacity:1\"/>\n",
       "<line clip-path=\"url(#clip142)\" x1=\"265.903\" y1=\"1383.38\" x2=\"281.903\" y2=\"1383.38\" style=\"stroke:#0000ff; stroke-width:3.2; stroke-opacity:1\"/>\n",
       "<line clip-path=\"url(#clip142)\" x1=\"307.251\" y1=\"1381.18\" x2=\"307.251\" y2=\"1365.18\" style=\"stroke:#0000ff; stroke-width:3.2; stroke-opacity:1\"/>\n",
       "<line clip-path=\"url(#clip142)\" x1=\"307.251\" y1=\"1381.18\" x2=\"291.251\" y2=\"1381.18\" style=\"stroke:#0000ff; stroke-width:3.2; stroke-opacity:1\"/>\n",
       "<line clip-path=\"url(#clip142)\" x1=\"307.251\" y1=\"1381.18\" x2=\"307.251\" y2=\"1397.18\" style=\"stroke:#0000ff; stroke-width:3.2; stroke-opacity:1\"/>\n",
       "<line clip-path=\"url(#clip142)\" x1=\"307.251\" y1=\"1381.18\" x2=\"323.251\" y2=\"1381.18\" style=\"stroke:#0000ff; stroke-width:3.2; stroke-opacity:1\"/>\n",
       "<line clip-path=\"url(#clip142)\" x1=\"348.6\" y1=\"1380.51\" x2=\"348.6\" y2=\"1364.51\" style=\"stroke:#0000ff; stroke-width:3.2; stroke-opacity:1\"/>\n",
       "<line clip-path=\"url(#clip142)\" x1=\"348.6\" y1=\"1380.51\" x2=\"332.6\" y2=\"1380.51\" style=\"stroke:#0000ff; stroke-width:3.2; stroke-opacity:1\"/>\n",
       "<line clip-path=\"url(#clip142)\" x1=\"348.6\" y1=\"1380.51\" x2=\"348.6\" y2=\"1396.51\" style=\"stroke:#0000ff; stroke-width:3.2; stroke-opacity:1\"/>\n",
       "<line clip-path=\"url(#clip142)\" x1=\"348.6\" y1=\"1380.51\" x2=\"364.6\" y2=\"1380.51\" style=\"stroke:#0000ff; stroke-width:3.2; stroke-opacity:1\"/>\n",
       "<line clip-path=\"url(#clip142)\" x1=\"389.948\" y1=\"1378.95\" x2=\"389.948\" y2=\"1362.95\" style=\"stroke:#0000ff; stroke-width:3.2; stroke-opacity:1\"/>\n",
       "<line clip-path=\"url(#clip142)\" x1=\"389.948\" y1=\"1378.95\" x2=\"373.948\" y2=\"1378.95\" style=\"stroke:#0000ff; stroke-width:3.2; stroke-opacity:1\"/>\n",
       "<line clip-path=\"url(#clip142)\" x1=\"389.948\" y1=\"1378.95\" x2=\"389.948\" y2=\"1394.95\" style=\"stroke:#0000ff; stroke-width:3.2; stroke-opacity:1\"/>\n",
       "<line clip-path=\"url(#clip142)\" x1=\"389.948\" y1=\"1378.95\" x2=\"405.948\" y2=\"1378.95\" style=\"stroke:#0000ff; stroke-width:3.2; stroke-opacity:1\"/>\n",
       "<line clip-path=\"url(#clip142)\" x1=\"431.297\" y1=\"1375.38\" x2=\"431.297\" y2=\"1359.38\" style=\"stroke:#0000ff; stroke-width:3.2; stroke-opacity:1\"/>\n",
       "<line clip-path=\"url(#clip142)\" x1=\"431.297\" y1=\"1375.38\" x2=\"415.297\" y2=\"1375.38\" style=\"stroke:#0000ff; stroke-width:3.2; stroke-opacity:1\"/>\n",
       "<line clip-path=\"url(#clip142)\" x1=\"431.297\" y1=\"1375.38\" x2=\"431.297\" y2=\"1391.38\" style=\"stroke:#0000ff; stroke-width:3.2; stroke-opacity:1\"/>\n",
       "<line clip-path=\"url(#clip142)\" x1=\"431.297\" y1=\"1375.38\" x2=\"447.297\" y2=\"1375.38\" style=\"stroke:#0000ff; stroke-width:3.2; stroke-opacity:1\"/>\n",
       "<line clip-path=\"url(#clip142)\" x1=\"472.645\" y1=\"1372.18\" x2=\"472.645\" y2=\"1356.18\" style=\"stroke:#0000ff; stroke-width:3.2; stroke-opacity:1\"/>\n",
       "<line clip-path=\"url(#clip142)\" x1=\"472.645\" y1=\"1372.18\" x2=\"456.645\" y2=\"1372.18\" style=\"stroke:#0000ff; stroke-width:3.2; stroke-opacity:1\"/>\n",
       "<line clip-path=\"url(#clip142)\" x1=\"472.645\" y1=\"1372.18\" x2=\"472.645\" y2=\"1388.18\" style=\"stroke:#0000ff; stroke-width:3.2; stroke-opacity:1\"/>\n",
       "<line clip-path=\"url(#clip142)\" x1=\"472.645\" y1=\"1372.18\" x2=\"488.645\" y2=\"1372.18\" style=\"stroke:#0000ff; stroke-width:3.2; stroke-opacity:1\"/>\n",
       "<line clip-path=\"url(#clip142)\" x1=\"513.993\" y1=\"1374.41\" x2=\"513.993\" y2=\"1358.41\" style=\"stroke:#0000ff; stroke-width:3.2; stroke-opacity:1\"/>\n",
       "<line clip-path=\"url(#clip142)\" x1=\"513.993\" y1=\"1374.41\" x2=\"497.993\" y2=\"1374.41\" style=\"stroke:#0000ff; stroke-width:3.2; stroke-opacity:1\"/>\n",
       "<line clip-path=\"url(#clip142)\" x1=\"513.993\" y1=\"1374.41\" x2=\"513.993\" y2=\"1390.41\" style=\"stroke:#0000ff; stroke-width:3.2; stroke-opacity:1\"/>\n",
       "<line clip-path=\"url(#clip142)\" x1=\"513.993\" y1=\"1374.41\" x2=\"529.993\" y2=\"1374.41\" style=\"stroke:#0000ff; stroke-width:3.2; stroke-opacity:1\"/>\n",
       "<line clip-path=\"url(#clip142)\" x1=\"555.342\" y1=\"1361.96\" x2=\"555.342\" y2=\"1345.96\" style=\"stroke:#0000ff; stroke-width:3.2; stroke-opacity:1\"/>\n",
       "<line clip-path=\"url(#clip142)\" x1=\"555.342\" y1=\"1361.96\" x2=\"539.342\" y2=\"1361.96\" style=\"stroke:#0000ff; stroke-width:3.2; stroke-opacity:1\"/>\n",
       "<line clip-path=\"url(#clip142)\" x1=\"555.342\" y1=\"1361.96\" x2=\"555.342\" y2=\"1377.96\" style=\"stroke:#0000ff; stroke-width:3.2; stroke-opacity:1\"/>\n",
       "<line clip-path=\"url(#clip142)\" x1=\"555.342\" y1=\"1361.96\" x2=\"571.342\" y2=\"1361.96\" style=\"stroke:#0000ff; stroke-width:3.2; stroke-opacity:1\"/>\n",
       "<line clip-path=\"url(#clip142)\" x1=\"596.69\" y1=\"1353.96\" x2=\"596.69\" y2=\"1337.96\" style=\"stroke:#0000ff; stroke-width:3.2; stroke-opacity:1\"/>\n",
       "<line clip-path=\"url(#clip142)\" x1=\"596.69\" y1=\"1353.96\" x2=\"580.69\" y2=\"1353.96\" style=\"stroke:#0000ff; stroke-width:3.2; stroke-opacity:1\"/>\n",
       "<line clip-path=\"url(#clip142)\" x1=\"596.69\" y1=\"1353.96\" x2=\"596.69\" y2=\"1369.96\" style=\"stroke:#0000ff; stroke-width:3.2; stroke-opacity:1\"/>\n",
       "<line clip-path=\"url(#clip142)\" x1=\"596.69\" y1=\"1353.96\" x2=\"612.69\" y2=\"1353.96\" style=\"stroke:#0000ff; stroke-width:3.2; stroke-opacity:1\"/>\n",
       "<line clip-path=\"url(#clip142)\" x1=\"638.039\" y1=\"1355.51\" x2=\"638.039\" y2=\"1339.51\" style=\"stroke:#0000ff; stroke-width:3.2; stroke-opacity:1\"/>\n",
       "<line clip-path=\"url(#clip142)\" x1=\"638.039\" y1=\"1355.51\" x2=\"622.039\" y2=\"1355.51\" style=\"stroke:#0000ff; stroke-width:3.2; stroke-opacity:1\"/>\n",
       "<line clip-path=\"url(#clip142)\" x1=\"638.039\" y1=\"1355.51\" x2=\"638.039\" y2=\"1371.51\" style=\"stroke:#0000ff; stroke-width:3.2; stroke-opacity:1\"/>\n",
       "<line clip-path=\"url(#clip142)\" x1=\"638.039\" y1=\"1355.51\" x2=\"654.039\" y2=\"1355.51\" style=\"stroke:#0000ff; stroke-width:3.2; stroke-opacity:1\"/>\n",
       "<line clip-path=\"url(#clip142)\" x1=\"679.387\" y1=\"1343.03\" x2=\"679.387\" y2=\"1327.03\" style=\"stroke:#0000ff; stroke-width:3.2; stroke-opacity:1\"/>\n",
       "<line clip-path=\"url(#clip142)\" x1=\"679.387\" y1=\"1343.03\" x2=\"663.387\" y2=\"1343.03\" style=\"stroke:#0000ff; stroke-width:3.2; stroke-opacity:1\"/>\n",
       "<line clip-path=\"url(#clip142)\" x1=\"679.387\" y1=\"1343.03\" x2=\"679.387\" y2=\"1359.03\" style=\"stroke:#0000ff; stroke-width:3.2; stroke-opacity:1\"/>\n",
       "<line clip-path=\"url(#clip142)\" x1=\"679.387\" y1=\"1343.03\" x2=\"695.387\" y2=\"1343.03\" style=\"stroke:#0000ff; stroke-width:3.2; stroke-opacity:1\"/>\n",
       "<line clip-path=\"url(#clip142)\" x1=\"720.735\" y1=\"1345.69\" x2=\"720.735\" y2=\"1329.69\" style=\"stroke:#0000ff; stroke-width:3.2; stroke-opacity:1\"/>\n",
       "<line clip-path=\"url(#clip142)\" x1=\"720.735\" y1=\"1345.69\" x2=\"704.735\" y2=\"1345.69\" style=\"stroke:#0000ff; stroke-width:3.2; stroke-opacity:1\"/>\n",
       "<line clip-path=\"url(#clip142)\" x1=\"720.735\" y1=\"1345.69\" x2=\"720.735\" y2=\"1361.69\" style=\"stroke:#0000ff; stroke-width:3.2; stroke-opacity:1\"/>\n",
       "<line clip-path=\"url(#clip142)\" x1=\"720.735\" y1=\"1345.69\" x2=\"736.735\" y2=\"1345.69\" style=\"stroke:#0000ff; stroke-width:3.2; stroke-opacity:1\"/>\n",
       "<line clip-path=\"url(#clip142)\" x1=\"762.084\" y1=\"1333.85\" x2=\"762.084\" y2=\"1317.85\" style=\"stroke:#0000ff; stroke-width:3.2; stroke-opacity:1\"/>\n",
       "<line clip-path=\"url(#clip142)\" x1=\"762.084\" y1=\"1333.85\" x2=\"746.084\" y2=\"1333.85\" style=\"stroke:#0000ff; stroke-width:3.2; stroke-opacity:1\"/>\n",
       "<line clip-path=\"url(#clip142)\" x1=\"762.084\" y1=\"1333.85\" x2=\"762.084\" y2=\"1349.85\" style=\"stroke:#0000ff; stroke-width:3.2; stroke-opacity:1\"/>\n",
       "<line clip-path=\"url(#clip142)\" x1=\"762.084\" y1=\"1333.85\" x2=\"778.084\" y2=\"1333.85\" style=\"stroke:#0000ff; stroke-width:3.2; stroke-opacity:1\"/>\n",
       "<line clip-path=\"url(#clip142)\" x1=\"803.432\" y1=\"1332.64\" x2=\"803.432\" y2=\"1316.64\" style=\"stroke:#0000ff; stroke-width:3.2; stroke-opacity:1\"/>\n",
       "<line clip-path=\"url(#clip142)\" x1=\"803.432\" y1=\"1332.64\" x2=\"787.432\" y2=\"1332.64\" style=\"stroke:#0000ff; stroke-width:3.2; stroke-opacity:1\"/>\n",
       "<line clip-path=\"url(#clip142)\" x1=\"803.432\" y1=\"1332.64\" x2=\"803.432\" y2=\"1348.64\" style=\"stroke:#0000ff; stroke-width:3.2; stroke-opacity:1\"/>\n",
       "<line clip-path=\"url(#clip142)\" x1=\"803.432\" y1=\"1332.64\" x2=\"819.432\" y2=\"1332.64\" style=\"stroke:#0000ff; stroke-width:3.2; stroke-opacity:1\"/>\n",
       "<line clip-path=\"url(#clip142)\" x1=\"844.78\" y1=\"1321.34\" x2=\"844.78\" y2=\"1305.34\" style=\"stroke:#0000ff; stroke-width:3.2; stroke-opacity:1\"/>\n",
       "<line clip-path=\"url(#clip142)\" x1=\"844.78\" y1=\"1321.34\" x2=\"828.78\" y2=\"1321.34\" style=\"stroke:#0000ff; stroke-width:3.2; stroke-opacity:1\"/>\n",
       "<line clip-path=\"url(#clip142)\" x1=\"844.78\" y1=\"1321.34\" x2=\"844.78\" y2=\"1337.34\" style=\"stroke:#0000ff; stroke-width:3.2; stroke-opacity:1\"/>\n",
       "<line clip-path=\"url(#clip142)\" x1=\"844.78\" y1=\"1321.34\" x2=\"860.78\" y2=\"1321.34\" style=\"stroke:#0000ff; stroke-width:3.2; stroke-opacity:1\"/>\n",
       "<line clip-path=\"url(#clip142)\" x1=\"886.129\" y1=\"1323.43\" x2=\"886.129\" y2=\"1307.43\" style=\"stroke:#0000ff; stroke-width:3.2; stroke-opacity:1\"/>\n",
       "<line clip-path=\"url(#clip142)\" x1=\"886.129\" y1=\"1323.43\" x2=\"870.129\" y2=\"1323.43\" style=\"stroke:#0000ff; stroke-width:3.2; stroke-opacity:1\"/>\n",
       "<line clip-path=\"url(#clip142)\" x1=\"886.129\" y1=\"1323.43\" x2=\"886.129\" y2=\"1339.43\" style=\"stroke:#0000ff; stroke-width:3.2; stroke-opacity:1\"/>\n",
       "<line clip-path=\"url(#clip142)\" x1=\"886.129\" y1=\"1323.43\" x2=\"902.129\" y2=\"1323.43\" style=\"stroke:#0000ff; stroke-width:3.2; stroke-opacity:1\"/>\n",
       "<line clip-path=\"url(#clip142)\" x1=\"927.477\" y1=\"1307.89\" x2=\"927.477\" y2=\"1291.89\" style=\"stroke:#0000ff; stroke-width:3.2; stroke-opacity:1\"/>\n",
       "<line clip-path=\"url(#clip142)\" x1=\"927.477\" y1=\"1307.89\" x2=\"911.477\" y2=\"1307.89\" style=\"stroke:#0000ff; stroke-width:3.2; stroke-opacity:1\"/>\n",
       "<line clip-path=\"url(#clip142)\" x1=\"927.477\" y1=\"1307.89\" x2=\"927.477\" y2=\"1323.89\" style=\"stroke:#0000ff; stroke-width:3.2; stroke-opacity:1\"/>\n",
       "<line clip-path=\"url(#clip142)\" x1=\"927.477\" y1=\"1307.89\" x2=\"943.477\" y2=\"1307.89\" style=\"stroke:#0000ff; stroke-width:3.2; stroke-opacity:1\"/>\n",
       "<line clip-path=\"url(#clip142)\" x1=\"968.826\" y1=\"1299.49\" x2=\"968.826\" y2=\"1283.49\" style=\"stroke:#0000ff; stroke-width:3.2; stroke-opacity:1\"/>\n",
       "<line clip-path=\"url(#clip142)\" x1=\"968.826\" y1=\"1299.49\" x2=\"952.826\" y2=\"1299.49\" style=\"stroke:#0000ff; stroke-width:3.2; stroke-opacity:1\"/>\n",
       "<line clip-path=\"url(#clip142)\" x1=\"968.826\" y1=\"1299.49\" x2=\"968.826\" y2=\"1315.49\" style=\"stroke:#0000ff; stroke-width:3.2; stroke-opacity:1\"/>\n",
       "<line clip-path=\"url(#clip142)\" x1=\"968.826\" y1=\"1299.49\" x2=\"984.826\" y2=\"1299.49\" style=\"stroke:#0000ff; stroke-width:3.2; stroke-opacity:1\"/>\n",
       "<line clip-path=\"url(#clip142)\" x1=\"1010.17\" y1=\"1297.72\" x2=\"1010.17\" y2=\"1281.72\" style=\"stroke:#0000ff; stroke-width:3.2; stroke-opacity:1\"/>\n",
       "<line clip-path=\"url(#clip142)\" x1=\"1010.17\" y1=\"1297.72\" x2=\"994.174\" y2=\"1297.72\" style=\"stroke:#0000ff; stroke-width:3.2; stroke-opacity:1\"/>\n",
       "<line clip-path=\"url(#clip142)\" x1=\"1010.17\" y1=\"1297.72\" x2=\"1010.17\" y2=\"1313.72\" style=\"stroke:#0000ff; stroke-width:3.2; stroke-opacity:1\"/>\n",
       "<line clip-path=\"url(#clip142)\" x1=\"1010.17\" y1=\"1297.72\" x2=\"1026.17\" y2=\"1297.72\" style=\"stroke:#0000ff; stroke-width:3.2; stroke-opacity:1\"/>\n",
       "<line clip-path=\"url(#clip142)\" x1=\"1051.52\" y1=\"1255.87\" x2=\"1051.52\" y2=\"1239.87\" style=\"stroke:#0000ff; stroke-width:3.2; stroke-opacity:1\"/>\n",
       "<line clip-path=\"url(#clip142)\" x1=\"1051.52\" y1=\"1255.87\" x2=\"1035.52\" y2=\"1255.87\" style=\"stroke:#0000ff; stroke-width:3.2; stroke-opacity:1\"/>\n",
       "<line clip-path=\"url(#clip142)\" x1=\"1051.52\" y1=\"1255.87\" x2=\"1051.52\" y2=\"1271.87\" style=\"stroke:#0000ff; stroke-width:3.2; stroke-opacity:1\"/>\n",
       "<line clip-path=\"url(#clip142)\" x1=\"1051.52\" y1=\"1255.87\" x2=\"1067.52\" y2=\"1255.87\" style=\"stroke:#0000ff; stroke-width:3.2; stroke-opacity:1\"/>\n",
       "<line clip-path=\"url(#clip142)\" x1=\"1092.87\" y1=\"1267.71\" x2=\"1092.87\" y2=\"1251.71\" style=\"stroke:#0000ff; stroke-width:3.2; stroke-opacity:1\"/>\n",
       "<line clip-path=\"url(#clip142)\" x1=\"1092.87\" y1=\"1267.71\" x2=\"1076.87\" y2=\"1267.71\" style=\"stroke:#0000ff; stroke-width:3.2; stroke-opacity:1\"/>\n",
       "<line clip-path=\"url(#clip142)\" x1=\"1092.87\" y1=\"1267.71\" x2=\"1092.87\" y2=\"1283.71\" style=\"stroke:#0000ff; stroke-width:3.2; stroke-opacity:1\"/>\n",
       "<line clip-path=\"url(#clip142)\" x1=\"1092.87\" y1=\"1267.71\" x2=\"1108.87\" y2=\"1267.71\" style=\"stroke:#0000ff; stroke-width:3.2; stroke-opacity:1\"/>\n",
       "<line clip-path=\"url(#clip142)\" x1=\"1134.22\" y1=\"1241.48\" x2=\"1134.22\" y2=\"1225.48\" style=\"stroke:#0000ff; stroke-width:3.2; stroke-opacity:1\"/>\n",
       "<line clip-path=\"url(#clip142)\" x1=\"1134.22\" y1=\"1241.48\" x2=\"1118.22\" y2=\"1241.48\" style=\"stroke:#0000ff; stroke-width:3.2; stroke-opacity:1\"/>\n",
       "<line clip-path=\"url(#clip142)\" x1=\"1134.22\" y1=\"1241.48\" x2=\"1134.22\" y2=\"1257.48\" style=\"stroke:#0000ff; stroke-width:3.2; stroke-opacity:1\"/>\n",
       "<line clip-path=\"url(#clip142)\" x1=\"1134.22\" y1=\"1241.48\" x2=\"1150.22\" y2=\"1241.48\" style=\"stroke:#0000ff; stroke-width:3.2; stroke-opacity:1\"/>\n",
       "<line clip-path=\"url(#clip142)\" x1=\"1175.57\" y1=\"1229.59\" x2=\"1175.57\" y2=\"1213.59\" style=\"stroke:#0000ff; stroke-width:3.2; stroke-opacity:1\"/>\n",
       "<line clip-path=\"url(#clip142)\" x1=\"1175.57\" y1=\"1229.59\" x2=\"1159.57\" y2=\"1229.59\" style=\"stroke:#0000ff; stroke-width:3.2; stroke-opacity:1\"/>\n",
       "<line clip-path=\"url(#clip142)\" x1=\"1175.57\" y1=\"1229.59\" x2=\"1175.57\" y2=\"1245.59\" style=\"stroke:#0000ff; stroke-width:3.2; stroke-opacity:1\"/>\n",
       "<line clip-path=\"url(#clip142)\" x1=\"1175.57\" y1=\"1229.59\" x2=\"1191.57\" y2=\"1229.59\" style=\"stroke:#0000ff; stroke-width:3.2; stroke-opacity:1\"/>\n",
       "<line clip-path=\"url(#clip142)\" x1=\"1216.92\" y1=\"1210.53\" x2=\"1216.92\" y2=\"1194.53\" style=\"stroke:#0000ff; stroke-width:3.2; stroke-opacity:1\"/>\n",
       "<line clip-path=\"url(#clip142)\" x1=\"1216.92\" y1=\"1210.53\" x2=\"1200.92\" y2=\"1210.53\" style=\"stroke:#0000ff; stroke-width:3.2; stroke-opacity:1\"/>\n",
       "<line clip-path=\"url(#clip142)\" x1=\"1216.92\" y1=\"1210.53\" x2=\"1216.92\" y2=\"1226.53\" style=\"stroke:#0000ff; stroke-width:3.2; stroke-opacity:1\"/>\n",
       "<line clip-path=\"url(#clip142)\" x1=\"1216.92\" y1=\"1210.53\" x2=\"1232.92\" y2=\"1210.53\" style=\"stroke:#0000ff; stroke-width:3.2; stroke-opacity:1\"/>\n",
       "<line clip-path=\"url(#clip142)\" x1=\"1258.26\" y1=\"1185.24\" x2=\"1258.26\" y2=\"1169.24\" style=\"stroke:#0000ff; stroke-width:3.2; stroke-opacity:1\"/>\n",
       "<line clip-path=\"url(#clip142)\" x1=\"1258.26\" y1=\"1185.24\" x2=\"1242.26\" y2=\"1185.24\" style=\"stroke:#0000ff; stroke-width:3.2; stroke-opacity:1\"/>\n",
       "<line clip-path=\"url(#clip142)\" x1=\"1258.26\" y1=\"1185.24\" x2=\"1258.26\" y2=\"1201.24\" style=\"stroke:#0000ff; stroke-width:3.2; stroke-opacity:1\"/>\n",
       "<line clip-path=\"url(#clip142)\" x1=\"1258.26\" y1=\"1185.24\" x2=\"1274.26\" y2=\"1185.24\" style=\"stroke:#0000ff; stroke-width:3.2; stroke-opacity:1\"/>\n",
       "<line clip-path=\"url(#clip142)\" x1=\"1299.61\" y1=\"1183.33\" x2=\"1299.61\" y2=\"1167.33\" style=\"stroke:#0000ff; stroke-width:3.2; stroke-opacity:1\"/>\n",
       "<line clip-path=\"url(#clip142)\" x1=\"1299.61\" y1=\"1183.33\" x2=\"1283.61\" y2=\"1183.33\" style=\"stroke:#0000ff; stroke-width:3.2; stroke-opacity:1\"/>\n",
       "<line clip-path=\"url(#clip142)\" x1=\"1299.61\" y1=\"1183.33\" x2=\"1299.61\" y2=\"1199.33\" style=\"stroke:#0000ff; stroke-width:3.2; stroke-opacity:1\"/>\n",
       "<line clip-path=\"url(#clip142)\" x1=\"1299.61\" y1=\"1183.33\" x2=\"1315.61\" y2=\"1183.33\" style=\"stroke:#0000ff; stroke-width:3.2; stroke-opacity:1\"/>\n",
       "<line clip-path=\"url(#clip142)\" x1=\"1340.96\" y1=\"1099.93\" x2=\"1340.96\" y2=\"1083.93\" style=\"stroke:#0000ff; stroke-width:3.2; stroke-opacity:1\"/>\n",
       "<line clip-path=\"url(#clip142)\" x1=\"1340.96\" y1=\"1099.93\" x2=\"1324.96\" y2=\"1099.93\" style=\"stroke:#0000ff; stroke-width:3.2; stroke-opacity:1\"/>\n",
       "<line clip-path=\"url(#clip142)\" x1=\"1340.96\" y1=\"1099.93\" x2=\"1340.96\" y2=\"1115.93\" style=\"stroke:#0000ff; stroke-width:3.2; stroke-opacity:1\"/>\n",
       "<line clip-path=\"url(#clip142)\" x1=\"1340.96\" y1=\"1099.93\" x2=\"1356.96\" y2=\"1099.93\" style=\"stroke:#0000ff; stroke-width:3.2; stroke-opacity:1\"/>\n",
       "<line clip-path=\"url(#clip142)\" x1=\"1382.31\" y1=\"1125.54\" x2=\"1382.31\" y2=\"1109.54\" style=\"stroke:#0000ff; stroke-width:3.2; stroke-opacity:1\"/>\n",
       "<line clip-path=\"url(#clip142)\" x1=\"1382.31\" y1=\"1125.54\" x2=\"1366.31\" y2=\"1125.54\" style=\"stroke:#0000ff; stroke-width:3.2; stroke-opacity:1\"/>\n",
       "<line clip-path=\"url(#clip142)\" x1=\"1382.31\" y1=\"1125.54\" x2=\"1382.31\" y2=\"1141.54\" style=\"stroke:#0000ff; stroke-width:3.2; stroke-opacity:1\"/>\n",
       "<line clip-path=\"url(#clip142)\" x1=\"1382.31\" y1=\"1125.54\" x2=\"1398.31\" y2=\"1125.54\" style=\"stroke:#0000ff; stroke-width:3.2; stroke-opacity:1\"/>\n",
       "<line clip-path=\"url(#clip142)\" x1=\"1423.66\" y1=\"1090.93\" x2=\"1423.66\" y2=\"1074.93\" style=\"stroke:#0000ff; stroke-width:3.2; stroke-opacity:1\"/>\n",
       "<line clip-path=\"url(#clip142)\" x1=\"1423.66\" y1=\"1090.93\" x2=\"1407.66\" y2=\"1090.93\" style=\"stroke:#0000ff; stroke-width:3.2; stroke-opacity:1\"/>\n",
       "<line clip-path=\"url(#clip142)\" x1=\"1423.66\" y1=\"1090.93\" x2=\"1423.66\" y2=\"1106.93\" style=\"stroke:#0000ff; stroke-width:3.2; stroke-opacity:1\"/>\n",
       "<line clip-path=\"url(#clip142)\" x1=\"1423.66\" y1=\"1090.93\" x2=\"1439.66\" y2=\"1090.93\" style=\"stroke:#0000ff; stroke-width:3.2; stroke-opacity:1\"/>\n",
       "<line clip-path=\"url(#clip142)\" x1=\"1465.01\" y1=\"990.64\" x2=\"1465.01\" y2=\"974.64\" style=\"stroke:#0000ff; stroke-width:3.2; stroke-opacity:1\"/>\n",
       "<line clip-path=\"url(#clip142)\" x1=\"1465.01\" y1=\"990.64\" x2=\"1449.01\" y2=\"990.64\" style=\"stroke:#0000ff; stroke-width:3.2; stroke-opacity:1\"/>\n",
       "<line clip-path=\"url(#clip142)\" x1=\"1465.01\" y1=\"990.64\" x2=\"1465.01\" y2=\"1006.64\" style=\"stroke:#0000ff; stroke-width:3.2; stroke-opacity:1\"/>\n",
       "<line clip-path=\"url(#clip142)\" x1=\"1465.01\" y1=\"990.64\" x2=\"1481.01\" y2=\"990.64\" style=\"stroke:#0000ff; stroke-width:3.2; stroke-opacity:1\"/>\n",
       "<line clip-path=\"url(#clip142)\" x1=\"1506.35\" y1=\"981.056\" x2=\"1506.35\" y2=\"965.056\" style=\"stroke:#0000ff; stroke-width:3.2; stroke-opacity:1\"/>\n",
       "<line clip-path=\"url(#clip142)\" x1=\"1506.35\" y1=\"981.056\" x2=\"1490.35\" y2=\"981.056\" style=\"stroke:#0000ff; stroke-width:3.2; stroke-opacity:1\"/>\n",
       "<line clip-path=\"url(#clip142)\" x1=\"1506.35\" y1=\"981.056\" x2=\"1506.35\" y2=\"997.056\" style=\"stroke:#0000ff; stroke-width:3.2; stroke-opacity:1\"/>\n",
       "<line clip-path=\"url(#clip142)\" x1=\"1506.35\" y1=\"981.056\" x2=\"1522.35\" y2=\"981.056\" style=\"stroke:#0000ff; stroke-width:3.2; stroke-opacity:1\"/>\n",
       "<line clip-path=\"url(#clip142)\" x1=\"1547.7\" y1=\"1003.31\" x2=\"1547.7\" y2=\"987.311\" style=\"stroke:#0000ff; stroke-width:3.2; stroke-opacity:1\"/>\n",
       "<line clip-path=\"url(#clip142)\" x1=\"1547.7\" y1=\"1003.31\" x2=\"1531.7\" y2=\"1003.31\" style=\"stroke:#0000ff; stroke-width:3.2; stroke-opacity:1\"/>\n",
       "<line clip-path=\"url(#clip142)\" x1=\"1547.7\" y1=\"1003.31\" x2=\"1547.7\" y2=\"1019.31\" style=\"stroke:#0000ff; stroke-width:3.2; stroke-opacity:1\"/>\n",
       "<line clip-path=\"url(#clip142)\" x1=\"1547.7\" y1=\"1003.31\" x2=\"1563.7\" y2=\"1003.31\" style=\"stroke:#0000ff; stroke-width:3.2; stroke-opacity:1\"/>\n",
       "<line clip-path=\"url(#clip142)\" x1=\"1589.05\" y1=\"957.809\" x2=\"1589.05\" y2=\"941.809\" style=\"stroke:#0000ff; stroke-width:3.2; stroke-opacity:1\"/>\n",
       "<line clip-path=\"url(#clip142)\" x1=\"1589.05\" y1=\"957.809\" x2=\"1573.05\" y2=\"957.809\" style=\"stroke:#0000ff; stroke-width:3.2; stroke-opacity:1\"/>\n",
       "<line clip-path=\"url(#clip142)\" x1=\"1589.05\" y1=\"957.809\" x2=\"1589.05\" y2=\"973.809\" style=\"stroke:#0000ff; stroke-width:3.2; stroke-opacity:1\"/>\n",
       "<line clip-path=\"url(#clip142)\" x1=\"1589.05\" y1=\"957.809\" x2=\"1605.05\" y2=\"957.809\" style=\"stroke:#0000ff; stroke-width:3.2; stroke-opacity:1\"/>\n",
       "<line clip-path=\"url(#clip142)\" x1=\"1630.4\" y1=\"952.682\" x2=\"1630.4\" y2=\"936.682\" style=\"stroke:#0000ff; stroke-width:3.2; stroke-opacity:1\"/>\n",
       "<line clip-path=\"url(#clip142)\" x1=\"1630.4\" y1=\"952.682\" x2=\"1614.4\" y2=\"952.682\" style=\"stroke:#0000ff; stroke-width:3.2; stroke-opacity:1\"/>\n",
       "<line clip-path=\"url(#clip142)\" x1=\"1630.4\" y1=\"952.682\" x2=\"1630.4\" y2=\"968.682\" style=\"stroke:#0000ff; stroke-width:3.2; stroke-opacity:1\"/>\n",
       "<line clip-path=\"url(#clip142)\" x1=\"1630.4\" y1=\"952.682\" x2=\"1646.4\" y2=\"952.682\" style=\"stroke:#0000ff; stroke-width:3.2; stroke-opacity:1\"/>\n",
       "<line clip-path=\"url(#clip142)\" x1=\"1671.75\" y1=\"858.349\" x2=\"1671.75\" y2=\"842.349\" style=\"stroke:#0000ff; stroke-width:3.2; stroke-opacity:1\"/>\n",
       "<line clip-path=\"url(#clip142)\" x1=\"1671.75\" y1=\"858.349\" x2=\"1655.75\" y2=\"858.349\" style=\"stroke:#0000ff; stroke-width:3.2; stroke-opacity:1\"/>\n",
       "<line clip-path=\"url(#clip142)\" x1=\"1671.75\" y1=\"858.349\" x2=\"1671.75\" y2=\"874.349\" style=\"stroke:#0000ff; stroke-width:3.2; stroke-opacity:1\"/>\n",
       "<line clip-path=\"url(#clip142)\" x1=\"1671.75\" y1=\"858.349\" x2=\"1687.75\" y2=\"858.349\" style=\"stroke:#0000ff; stroke-width:3.2; stroke-opacity:1\"/>\n",
       "<line clip-path=\"url(#clip142)\" x1=\"1713.1\" y1=\"873.597\" x2=\"1713.1\" y2=\"857.597\" style=\"stroke:#0000ff; stroke-width:3.2; stroke-opacity:1\"/>\n",
       "<line clip-path=\"url(#clip142)\" x1=\"1713.1\" y1=\"873.597\" x2=\"1697.1\" y2=\"873.597\" style=\"stroke:#0000ff; stroke-width:3.2; stroke-opacity:1\"/>\n",
       "<line clip-path=\"url(#clip142)\" x1=\"1713.1\" y1=\"873.597\" x2=\"1713.1\" y2=\"889.597\" style=\"stroke:#0000ff; stroke-width:3.2; stroke-opacity:1\"/>\n",
       "<line clip-path=\"url(#clip142)\" x1=\"1713.1\" y1=\"873.597\" x2=\"1729.1\" y2=\"873.597\" style=\"stroke:#0000ff; stroke-width:3.2; stroke-opacity:1\"/>\n",
       "<line clip-path=\"url(#clip142)\" x1=\"1754.44\" y1=\"754.97\" x2=\"1754.44\" y2=\"738.97\" style=\"stroke:#0000ff; stroke-width:3.2; stroke-opacity:1\"/>\n",
       "<line clip-path=\"url(#clip142)\" x1=\"1754.44\" y1=\"754.97\" x2=\"1738.44\" y2=\"754.97\" style=\"stroke:#0000ff; stroke-width:3.2; stroke-opacity:1\"/>\n",
       "<line clip-path=\"url(#clip142)\" x1=\"1754.44\" y1=\"754.97\" x2=\"1754.44\" y2=\"770.97\" style=\"stroke:#0000ff; stroke-width:3.2; stroke-opacity:1\"/>\n",
       "<line clip-path=\"url(#clip142)\" x1=\"1754.44\" y1=\"754.97\" x2=\"1770.44\" y2=\"754.97\" style=\"stroke:#0000ff; stroke-width:3.2; stroke-opacity:1\"/>\n",
       "<line clip-path=\"url(#clip142)\" x1=\"1795.79\" y1=\"675.831\" x2=\"1795.79\" y2=\"659.831\" style=\"stroke:#0000ff; stroke-width:3.2; stroke-opacity:1\"/>\n",
       "<line clip-path=\"url(#clip142)\" x1=\"1795.79\" y1=\"675.831\" x2=\"1779.79\" y2=\"675.831\" style=\"stroke:#0000ff; stroke-width:3.2; stroke-opacity:1\"/>\n",
       "<line clip-path=\"url(#clip142)\" x1=\"1795.79\" y1=\"675.831\" x2=\"1795.79\" y2=\"691.831\" style=\"stroke:#0000ff; stroke-width:3.2; stroke-opacity:1\"/>\n",
       "<line clip-path=\"url(#clip142)\" x1=\"1795.79\" y1=\"675.831\" x2=\"1811.79\" y2=\"675.831\" style=\"stroke:#0000ff; stroke-width:3.2; stroke-opacity:1\"/>\n",
       "<line clip-path=\"url(#clip142)\" x1=\"1837.14\" y1=\"608.934\" x2=\"1837.14\" y2=\"592.934\" style=\"stroke:#0000ff; stroke-width:3.2; stroke-opacity:1\"/>\n",
       "<line clip-path=\"url(#clip142)\" x1=\"1837.14\" y1=\"608.934\" x2=\"1821.14\" y2=\"608.934\" style=\"stroke:#0000ff; stroke-width:3.2; stroke-opacity:1\"/>\n",
       "<line clip-path=\"url(#clip142)\" x1=\"1837.14\" y1=\"608.934\" x2=\"1837.14\" y2=\"624.934\" style=\"stroke:#0000ff; stroke-width:3.2; stroke-opacity:1\"/>\n",
       "<line clip-path=\"url(#clip142)\" x1=\"1837.14\" y1=\"608.934\" x2=\"1853.14\" y2=\"608.934\" style=\"stroke:#0000ff; stroke-width:3.2; stroke-opacity:1\"/>\n",
       "<line clip-path=\"url(#clip142)\" x1=\"1878.49\" y1=\"639.349\" x2=\"1878.49\" y2=\"623.349\" style=\"stroke:#0000ff; stroke-width:3.2; stroke-opacity:1\"/>\n",
       "<line clip-path=\"url(#clip142)\" x1=\"1878.49\" y1=\"639.349\" x2=\"1862.49\" y2=\"639.349\" style=\"stroke:#0000ff; stroke-width:3.2; stroke-opacity:1\"/>\n",
       "<line clip-path=\"url(#clip142)\" x1=\"1878.49\" y1=\"639.349\" x2=\"1878.49\" y2=\"655.349\" style=\"stroke:#0000ff; stroke-width:3.2; stroke-opacity:1\"/>\n",
       "<line clip-path=\"url(#clip142)\" x1=\"1878.49\" y1=\"639.349\" x2=\"1894.49\" y2=\"639.349\" style=\"stroke:#0000ff; stroke-width:3.2; stroke-opacity:1\"/>\n",
       "<line clip-path=\"url(#clip142)\" x1=\"1919.84\" y1=\"589.015\" x2=\"1919.84\" y2=\"573.015\" style=\"stroke:#0000ff; stroke-width:3.2; stroke-opacity:1\"/>\n",
       "<line clip-path=\"url(#clip142)\" x1=\"1919.84\" y1=\"589.015\" x2=\"1903.84\" y2=\"589.015\" style=\"stroke:#0000ff; stroke-width:3.2; stroke-opacity:1\"/>\n",
       "<line clip-path=\"url(#clip142)\" x1=\"1919.84\" y1=\"589.015\" x2=\"1919.84\" y2=\"605.015\" style=\"stroke:#0000ff; stroke-width:3.2; stroke-opacity:1\"/>\n",
       "<line clip-path=\"url(#clip142)\" x1=\"1919.84\" y1=\"589.015\" x2=\"1935.84\" y2=\"589.015\" style=\"stroke:#0000ff; stroke-width:3.2; stroke-opacity:1\"/>\n",
       "<line clip-path=\"url(#clip142)\" x1=\"1961.19\" y1=\"602.116\" x2=\"1961.19\" y2=\"586.116\" style=\"stroke:#0000ff; stroke-width:3.2; stroke-opacity:1\"/>\n",
       "<line clip-path=\"url(#clip142)\" x1=\"1961.19\" y1=\"602.116\" x2=\"1945.19\" y2=\"602.116\" style=\"stroke:#0000ff; stroke-width:3.2; stroke-opacity:1\"/>\n",
       "<line clip-path=\"url(#clip142)\" x1=\"1961.19\" y1=\"602.116\" x2=\"1961.19\" y2=\"618.116\" style=\"stroke:#0000ff; stroke-width:3.2; stroke-opacity:1\"/>\n",
       "<line clip-path=\"url(#clip142)\" x1=\"1961.19\" y1=\"602.116\" x2=\"1977.19\" y2=\"602.116\" style=\"stroke:#0000ff; stroke-width:3.2; stroke-opacity:1\"/>\n",
       "<line clip-path=\"url(#clip142)\" x1=\"2002.54\" y1=\"514.118\" x2=\"2002.54\" y2=\"498.118\" style=\"stroke:#0000ff; stroke-width:3.2; stroke-opacity:1\"/>\n",
       "<line clip-path=\"url(#clip142)\" x1=\"2002.54\" y1=\"514.118\" x2=\"1986.54\" y2=\"514.118\" style=\"stroke:#0000ff; stroke-width:3.2; stroke-opacity:1\"/>\n",
       "<line clip-path=\"url(#clip142)\" x1=\"2002.54\" y1=\"514.118\" x2=\"2002.54\" y2=\"530.118\" style=\"stroke:#0000ff; stroke-width:3.2; stroke-opacity:1\"/>\n",
       "<line clip-path=\"url(#clip142)\" x1=\"2002.54\" y1=\"514.118\" x2=\"2018.54\" y2=\"514.118\" style=\"stroke:#0000ff; stroke-width:3.2; stroke-opacity:1\"/>\n",
       "<line clip-path=\"url(#clip142)\" x1=\"2043.88\" y1=\"396.109\" x2=\"2043.88\" y2=\"380.109\" style=\"stroke:#0000ff; stroke-width:3.2; stroke-opacity:1\"/>\n",
       "<line clip-path=\"url(#clip142)\" x1=\"2043.88\" y1=\"396.109\" x2=\"2027.88\" y2=\"396.109\" style=\"stroke:#0000ff; stroke-width:3.2; stroke-opacity:1\"/>\n",
       "<line clip-path=\"url(#clip142)\" x1=\"2043.88\" y1=\"396.109\" x2=\"2043.88\" y2=\"412.109\" style=\"stroke:#0000ff; stroke-width:3.2; stroke-opacity:1\"/>\n",
       "<line clip-path=\"url(#clip142)\" x1=\"2043.88\" y1=\"396.109\" x2=\"2059.88\" y2=\"396.109\" style=\"stroke:#0000ff; stroke-width:3.2; stroke-opacity:1\"/>\n",
       "<line clip-path=\"url(#clip142)\" x1=\"2085.23\" y1=\"306.608\" x2=\"2085.23\" y2=\"290.608\" style=\"stroke:#0000ff; stroke-width:3.2; stroke-opacity:1\"/>\n",
       "<line clip-path=\"url(#clip142)\" x1=\"2085.23\" y1=\"306.608\" x2=\"2069.23\" y2=\"306.608\" style=\"stroke:#0000ff; stroke-width:3.2; stroke-opacity:1\"/>\n",
       "<line clip-path=\"url(#clip142)\" x1=\"2085.23\" y1=\"306.608\" x2=\"2085.23\" y2=\"322.608\" style=\"stroke:#0000ff; stroke-width:3.2; stroke-opacity:1\"/>\n",
       "<line clip-path=\"url(#clip142)\" x1=\"2085.23\" y1=\"306.608\" x2=\"2101.23\" y2=\"306.608\" style=\"stroke:#0000ff; stroke-width:3.2; stroke-opacity:1\"/>\n",
       "<line clip-path=\"url(#clip142)\" x1=\"2126.58\" y1=\"378.445\" x2=\"2126.58\" y2=\"362.445\" style=\"stroke:#0000ff; stroke-width:3.2; stroke-opacity:1\"/>\n",
       "<line clip-path=\"url(#clip142)\" x1=\"2126.58\" y1=\"378.445\" x2=\"2110.58\" y2=\"378.445\" style=\"stroke:#0000ff; stroke-width:3.2; stroke-opacity:1\"/>\n",
       "<line clip-path=\"url(#clip142)\" x1=\"2126.58\" y1=\"378.445\" x2=\"2126.58\" y2=\"394.445\" style=\"stroke:#0000ff; stroke-width:3.2; stroke-opacity:1\"/>\n",
       "<line clip-path=\"url(#clip142)\" x1=\"2126.58\" y1=\"378.445\" x2=\"2142.58\" y2=\"378.445\" style=\"stroke:#0000ff; stroke-width:3.2; stroke-opacity:1\"/>\n",
       "<line clip-path=\"url(#clip142)\" x1=\"2167.93\" y1=\"280.273\" x2=\"2167.93\" y2=\"264.273\" style=\"stroke:#0000ff; stroke-width:3.2; stroke-opacity:1\"/>\n",
       "<line clip-path=\"url(#clip142)\" x1=\"2167.93\" y1=\"280.273\" x2=\"2151.93\" y2=\"280.273\" style=\"stroke:#0000ff; stroke-width:3.2; stroke-opacity:1\"/>\n",
       "<line clip-path=\"url(#clip142)\" x1=\"2167.93\" y1=\"280.273\" x2=\"2167.93\" y2=\"296.273\" style=\"stroke:#0000ff; stroke-width:3.2; stroke-opacity:1\"/>\n",
       "<line clip-path=\"url(#clip142)\" x1=\"2167.93\" y1=\"280.273\" x2=\"2183.93\" y2=\"280.273\" style=\"stroke:#0000ff; stroke-width:3.2; stroke-opacity:1\"/>\n",
       "<line clip-path=\"url(#clip142)\" x1=\"2209.28\" y1=\"86.1857\" x2=\"2209.28\" y2=\"70.1857\" style=\"stroke:#0000ff; stroke-width:3.2; stroke-opacity:1\"/>\n",
       "<line clip-path=\"url(#clip142)\" x1=\"2209.28\" y1=\"86.1857\" x2=\"2193.28\" y2=\"86.1857\" style=\"stroke:#0000ff; stroke-width:3.2; stroke-opacity:1\"/>\n",
       "<line clip-path=\"url(#clip142)\" x1=\"2209.28\" y1=\"86.1857\" x2=\"2209.28\" y2=\"102.186\" style=\"stroke:#0000ff; stroke-width:3.2; stroke-opacity:1\"/>\n",
       "<line clip-path=\"url(#clip142)\" x1=\"2209.28\" y1=\"86.1857\" x2=\"2225.28\" y2=\"86.1857\" style=\"stroke:#0000ff; stroke-width:3.2; stroke-opacity:1\"/>\n",
       "<line clip-path=\"url(#clip142)\" x1=\"2250.63\" y1=\"136.708\" x2=\"2250.63\" y2=\"120.708\" style=\"stroke:#0000ff; stroke-width:3.2; stroke-opacity:1\"/>\n",
       "<line clip-path=\"url(#clip142)\" x1=\"2250.63\" y1=\"136.708\" x2=\"2234.63\" y2=\"136.708\" style=\"stroke:#0000ff; stroke-width:3.2; stroke-opacity:1\"/>\n",
       "<line clip-path=\"url(#clip142)\" x1=\"2250.63\" y1=\"136.708\" x2=\"2250.63\" y2=\"152.708\" style=\"stroke:#0000ff; stroke-width:3.2; stroke-opacity:1\"/>\n",
       "<line clip-path=\"url(#clip142)\" x1=\"2250.63\" y1=\"136.708\" x2=\"2266.63\" y2=\"136.708\" style=\"stroke:#0000ff; stroke-width:3.2; stroke-opacity:1\"/>\n",
       "<line clip-path=\"url(#clip142)\" x1=\"2291.97\" y1=\"131.983\" x2=\"2291.97\" y2=\"115.983\" style=\"stroke:#0000ff; stroke-width:3.2; stroke-opacity:1\"/>\n",
       "<line clip-path=\"url(#clip142)\" x1=\"2291.97\" y1=\"131.983\" x2=\"2275.97\" y2=\"131.983\" style=\"stroke:#0000ff; stroke-width:3.2; stroke-opacity:1\"/>\n",
       "<line clip-path=\"url(#clip142)\" x1=\"2291.97\" y1=\"131.983\" x2=\"2291.97\" y2=\"147.983\" style=\"stroke:#0000ff; stroke-width:3.2; stroke-opacity:1\"/>\n",
       "<line clip-path=\"url(#clip142)\" x1=\"2291.97\" y1=\"131.983\" x2=\"2307.97\" y2=\"131.983\" style=\"stroke:#0000ff; stroke-width:3.2; stroke-opacity:1\"/>\n",
       "<polyline clip-path=\"url(#clip142)\" style=\"stroke:#ff0000; stroke-linecap:round; stroke-linejoin:round; stroke-width:4; stroke-opacity:1; fill:none\" points=\"265.903,1384.24 307.251,1383.14 348.6,1382.22 389.948,1381.34 431.297,1380.21 472.645,1379.46 513.993,1378.63 555.342,1377.39 596.69,1376.35 638.039,1375.43 679.387,1373.5 720.735,1373.77 762.084,1372.59 803.432,1371.78 844.78,1370.6 886.129,1369.61 927.477,1368.72 968.826,1367.81 1010.17,1366.74 1051.52,1365.74 1092.87,1364.61 1134.22,1364 1175.57,1361.63 1216.92,1361.93 1258.26,1360.83 1299.61,1359.76 1340.96,1358.25 1382.31,1357.42 1423.66,1356.45 1465.01,1355.35 1506.35,1354.36 1547.7,1353.45 1589.05,1352.16 1630.4,1351.25 1671.75,1350.31 1713.1,1349.34 1754.44,1348.43 1795.79,1347.09 1837.14,1346.15 1878.49,1345.02 1919.84,1344.37 1961.19,1342.23 2002.54,1341.21 2043.88,1340.32 2085.23,1338.9 2126.58,1338.15 2167.93,1326.66 2209.28,1334.71 2250.63,1333.9 2291.97,1334.84 \"/>\n",
       "<path clip-path=\"url(#clip142)\" d=\"M265.903 1368.24 L249.903 1384.24 L265.903 1400.24 L281.903 1384.24 L265.903 1368.24 Z\" fill=\"#ff0000\" fill-rule=\"evenodd\" fill-opacity=\"1\" stroke=\"#000000\" stroke-opacity=\"1\" stroke-width=\"3.2\"/>\n",
       "<path clip-path=\"url(#clip142)\" d=\"M307.251 1367.14 L291.251 1383.14 L307.251 1399.14 L323.251 1383.14 L307.251 1367.14 Z\" fill=\"#ff0000\" fill-rule=\"evenodd\" fill-opacity=\"1\" stroke=\"#000000\" stroke-opacity=\"1\" stroke-width=\"3.2\"/>\n",
       "<path clip-path=\"url(#clip142)\" d=\"M348.6 1366.22 L332.6 1382.22 L348.6 1398.22 L364.6 1382.22 L348.6 1366.22 Z\" fill=\"#ff0000\" fill-rule=\"evenodd\" fill-opacity=\"1\" stroke=\"#000000\" stroke-opacity=\"1\" stroke-width=\"3.2\"/>\n",
       "<path clip-path=\"url(#clip142)\" d=\"M389.948 1365.34 L373.948 1381.34 L389.948 1397.34 L405.948 1381.34 L389.948 1365.34 Z\" fill=\"#ff0000\" fill-rule=\"evenodd\" fill-opacity=\"1\" stroke=\"#000000\" stroke-opacity=\"1\" stroke-width=\"3.2\"/>\n",
       "<path clip-path=\"url(#clip142)\" d=\"M431.297 1364.21 L415.297 1380.21 L431.297 1396.21 L447.297 1380.21 L431.297 1364.21 Z\" fill=\"#ff0000\" fill-rule=\"evenodd\" fill-opacity=\"1\" stroke=\"#000000\" stroke-opacity=\"1\" stroke-width=\"3.2\"/>\n",
       "<path clip-path=\"url(#clip142)\" d=\"M472.645 1363.46 L456.645 1379.46 L472.645 1395.46 L488.645 1379.46 L472.645 1363.46 Z\" fill=\"#ff0000\" fill-rule=\"evenodd\" fill-opacity=\"1\" stroke=\"#000000\" stroke-opacity=\"1\" stroke-width=\"3.2\"/>\n",
       "<path clip-path=\"url(#clip142)\" d=\"M513.993 1362.63 L497.993 1378.63 L513.993 1394.63 L529.993 1378.63 L513.993 1362.63 Z\" fill=\"#ff0000\" fill-rule=\"evenodd\" fill-opacity=\"1\" stroke=\"#000000\" stroke-opacity=\"1\" stroke-width=\"3.2\"/>\n",
       "<path clip-path=\"url(#clip142)\" d=\"M555.342 1361.39 L539.342 1377.39 L555.342 1393.39 L571.342 1377.39 L555.342 1361.39 Z\" fill=\"#ff0000\" fill-rule=\"evenodd\" fill-opacity=\"1\" stroke=\"#000000\" stroke-opacity=\"1\" stroke-width=\"3.2\"/>\n",
       "<path clip-path=\"url(#clip142)\" d=\"M596.69 1360.35 L580.69 1376.35 L596.69 1392.35 L612.69 1376.35 L596.69 1360.35 Z\" fill=\"#ff0000\" fill-rule=\"evenodd\" fill-opacity=\"1\" stroke=\"#000000\" stroke-opacity=\"1\" stroke-width=\"3.2\"/>\n",
       "<path clip-path=\"url(#clip142)\" d=\"M638.039 1359.43 L622.039 1375.43 L638.039 1391.43 L654.039 1375.43 L638.039 1359.43 Z\" fill=\"#ff0000\" fill-rule=\"evenodd\" fill-opacity=\"1\" stroke=\"#000000\" stroke-opacity=\"1\" stroke-width=\"3.2\"/>\n",
       "<path clip-path=\"url(#clip142)\" d=\"M679.387 1357.5 L663.387 1373.5 L679.387 1389.5 L695.387 1373.5 L679.387 1357.5 Z\" fill=\"#ff0000\" fill-rule=\"evenodd\" fill-opacity=\"1\" stroke=\"#000000\" stroke-opacity=\"1\" stroke-width=\"3.2\"/>\n",
       "<path clip-path=\"url(#clip142)\" d=\"M720.735 1357.77 L704.735 1373.77 L720.735 1389.77 L736.735 1373.77 L720.735 1357.77 Z\" fill=\"#ff0000\" fill-rule=\"evenodd\" fill-opacity=\"1\" stroke=\"#000000\" stroke-opacity=\"1\" stroke-width=\"3.2\"/>\n",
       "<path clip-path=\"url(#clip142)\" d=\"M762.084 1356.59 L746.084 1372.59 L762.084 1388.59 L778.084 1372.59 L762.084 1356.59 Z\" fill=\"#ff0000\" fill-rule=\"evenodd\" fill-opacity=\"1\" stroke=\"#000000\" stroke-opacity=\"1\" stroke-width=\"3.2\"/>\n",
       "<path clip-path=\"url(#clip142)\" d=\"M803.432 1355.78 L787.432 1371.78 L803.432 1387.78 L819.432 1371.78 L803.432 1355.78 Z\" fill=\"#ff0000\" fill-rule=\"evenodd\" fill-opacity=\"1\" stroke=\"#000000\" stroke-opacity=\"1\" stroke-width=\"3.2\"/>\n",
       "<path clip-path=\"url(#clip142)\" d=\"M844.78 1354.6 L828.78 1370.6 L844.78 1386.6 L860.78 1370.6 L844.78 1354.6 Z\" fill=\"#ff0000\" fill-rule=\"evenodd\" fill-opacity=\"1\" stroke=\"#000000\" stroke-opacity=\"1\" stroke-width=\"3.2\"/>\n",
       "<path clip-path=\"url(#clip142)\" d=\"M886.129 1353.61 L870.129 1369.61 L886.129 1385.61 L902.129 1369.61 L886.129 1353.61 Z\" fill=\"#ff0000\" fill-rule=\"evenodd\" fill-opacity=\"1\" stroke=\"#000000\" stroke-opacity=\"1\" stroke-width=\"3.2\"/>\n",
       "<path clip-path=\"url(#clip142)\" d=\"M927.477 1352.72 L911.477 1368.72 L927.477 1384.72 L943.477 1368.72 L927.477 1352.72 Z\" fill=\"#ff0000\" fill-rule=\"evenodd\" fill-opacity=\"1\" stroke=\"#000000\" stroke-opacity=\"1\" stroke-width=\"3.2\"/>\n",
       "<path clip-path=\"url(#clip142)\" d=\"M968.826 1351.81 L952.826 1367.81 L968.826 1383.81 L984.826 1367.81 L968.826 1351.81 Z\" fill=\"#ff0000\" fill-rule=\"evenodd\" fill-opacity=\"1\" stroke=\"#000000\" stroke-opacity=\"1\" stroke-width=\"3.2\"/>\n",
       "<path clip-path=\"url(#clip142)\" d=\"M1010.17 1350.74 L994.174 1366.74 L1010.17 1382.74 L1026.17 1366.74 L1010.17 1350.74 Z\" fill=\"#ff0000\" fill-rule=\"evenodd\" fill-opacity=\"1\" stroke=\"#000000\" stroke-opacity=\"1\" stroke-width=\"3.2\"/>\n",
       "<path clip-path=\"url(#clip142)\" d=\"M1051.52 1349.74 L1035.52 1365.74 L1051.52 1381.74 L1067.52 1365.74 L1051.52 1349.74 Z\" fill=\"#ff0000\" fill-rule=\"evenodd\" fill-opacity=\"1\" stroke=\"#000000\" stroke-opacity=\"1\" stroke-width=\"3.2\"/>\n",
       "<path clip-path=\"url(#clip142)\" d=\"M1092.87 1348.61 L1076.87 1364.61 L1092.87 1380.61 L1108.87 1364.61 L1092.87 1348.61 Z\" fill=\"#ff0000\" fill-rule=\"evenodd\" fill-opacity=\"1\" stroke=\"#000000\" stroke-opacity=\"1\" stroke-width=\"3.2\"/>\n",
       "<path clip-path=\"url(#clip142)\" d=\"M1134.22 1348 L1118.22 1364 L1134.22 1380 L1150.22 1364 L1134.22 1348 Z\" fill=\"#ff0000\" fill-rule=\"evenodd\" fill-opacity=\"1\" stroke=\"#000000\" stroke-opacity=\"1\" stroke-width=\"3.2\"/>\n",
       "<path clip-path=\"url(#clip142)\" d=\"M1175.57 1345.63 L1159.57 1361.63 L1175.57 1377.63 L1191.57 1361.63 L1175.57 1345.63 Z\" fill=\"#ff0000\" fill-rule=\"evenodd\" fill-opacity=\"1\" stroke=\"#000000\" stroke-opacity=\"1\" stroke-width=\"3.2\"/>\n",
       "<path clip-path=\"url(#clip142)\" d=\"M1216.92 1345.93 L1200.92 1361.93 L1216.92 1377.93 L1232.92 1361.93 L1216.92 1345.93 Z\" fill=\"#ff0000\" fill-rule=\"evenodd\" fill-opacity=\"1\" stroke=\"#000000\" stroke-opacity=\"1\" stroke-width=\"3.2\"/>\n",
       "<path clip-path=\"url(#clip142)\" d=\"M1258.26 1344.83 L1242.26 1360.83 L1258.26 1376.83 L1274.26 1360.83 L1258.26 1344.83 Z\" fill=\"#ff0000\" fill-rule=\"evenodd\" fill-opacity=\"1\" stroke=\"#000000\" stroke-opacity=\"1\" stroke-width=\"3.2\"/>\n",
       "<path clip-path=\"url(#clip142)\" d=\"M1299.61 1343.76 L1283.61 1359.76 L1299.61 1375.76 L1315.61 1359.76 L1299.61 1343.76 Z\" fill=\"#ff0000\" fill-rule=\"evenodd\" fill-opacity=\"1\" stroke=\"#000000\" stroke-opacity=\"1\" stroke-width=\"3.2\"/>\n",
       "<path clip-path=\"url(#clip142)\" d=\"M1340.96 1342.25 L1324.96 1358.25 L1340.96 1374.25 L1356.96 1358.25 L1340.96 1342.25 Z\" fill=\"#ff0000\" fill-rule=\"evenodd\" fill-opacity=\"1\" stroke=\"#000000\" stroke-opacity=\"1\" stroke-width=\"3.2\"/>\n",
       "<path clip-path=\"url(#clip142)\" d=\"M1382.31 1341.42 L1366.31 1357.42 L1382.31 1373.42 L1398.31 1357.42 L1382.31 1341.42 Z\" fill=\"#ff0000\" fill-rule=\"evenodd\" fill-opacity=\"1\" stroke=\"#000000\" stroke-opacity=\"1\" stroke-width=\"3.2\"/>\n",
       "<path clip-path=\"url(#clip142)\" d=\"M1423.66 1340.45 L1407.66 1356.45 L1423.66 1372.45 L1439.66 1356.45 L1423.66 1340.45 Z\" fill=\"#ff0000\" fill-rule=\"evenodd\" fill-opacity=\"1\" stroke=\"#000000\" stroke-opacity=\"1\" stroke-width=\"3.2\"/>\n",
       "<path clip-path=\"url(#clip142)\" d=\"M1465.01 1339.35 L1449.01 1355.35 L1465.01 1371.35 L1481.01 1355.35 L1465.01 1339.35 Z\" fill=\"#ff0000\" fill-rule=\"evenodd\" fill-opacity=\"1\" stroke=\"#000000\" stroke-opacity=\"1\" stroke-width=\"3.2\"/>\n",
       "<path clip-path=\"url(#clip142)\" d=\"M1506.35 1338.36 L1490.35 1354.36 L1506.35 1370.36 L1522.35 1354.36 L1506.35 1338.36 Z\" fill=\"#ff0000\" fill-rule=\"evenodd\" fill-opacity=\"1\" stroke=\"#000000\" stroke-opacity=\"1\" stroke-width=\"3.2\"/>\n",
       "<path clip-path=\"url(#clip142)\" d=\"M1547.7 1337.45 L1531.7 1353.45 L1547.7 1369.45 L1563.7 1353.45 L1547.7 1337.45 Z\" fill=\"#ff0000\" fill-rule=\"evenodd\" fill-opacity=\"1\" stroke=\"#000000\" stroke-opacity=\"1\" stroke-width=\"3.2\"/>\n",
       "<path clip-path=\"url(#clip142)\" d=\"M1589.05 1336.16 L1573.05 1352.16 L1589.05 1368.16 L1605.05 1352.16 L1589.05 1336.16 Z\" fill=\"#ff0000\" fill-rule=\"evenodd\" fill-opacity=\"1\" stroke=\"#000000\" stroke-opacity=\"1\" stroke-width=\"3.2\"/>\n",
       "<path clip-path=\"url(#clip142)\" d=\"M1630.4 1335.25 L1614.4 1351.25 L1630.4 1367.25 L1646.4 1351.25 L1630.4 1335.25 Z\" fill=\"#ff0000\" fill-rule=\"evenodd\" fill-opacity=\"1\" stroke=\"#000000\" stroke-opacity=\"1\" stroke-width=\"3.2\"/>\n",
       "<path clip-path=\"url(#clip142)\" d=\"M1671.75 1334.31 L1655.75 1350.31 L1671.75 1366.31 L1687.75 1350.31 L1671.75 1334.31 Z\" fill=\"#ff0000\" fill-rule=\"evenodd\" fill-opacity=\"1\" stroke=\"#000000\" stroke-opacity=\"1\" stroke-width=\"3.2\"/>\n",
       "<path clip-path=\"url(#clip142)\" d=\"M1713.1 1333.34 L1697.1 1349.34 L1713.1 1365.34 L1729.1 1349.34 L1713.1 1333.34 Z\" fill=\"#ff0000\" fill-rule=\"evenodd\" fill-opacity=\"1\" stroke=\"#000000\" stroke-opacity=\"1\" stroke-width=\"3.2\"/>\n",
       "<path clip-path=\"url(#clip142)\" d=\"M1754.44 1332.43 L1738.44 1348.43 L1754.44 1364.43 L1770.44 1348.43 L1754.44 1332.43 Z\" fill=\"#ff0000\" fill-rule=\"evenodd\" fill-opacity=\"1\" stroke=\"#000000\" stroke-opacity=\"1\" stroke-width=\"3.2\"/>\n",
       "<path clip-path=\"url(#clip142)\" d=\"M1795.79 1331.09 L1779.79 1347.09 L1795.79 1363.09 L1811.79 1347.09 L1795.79 1331.09 Z\" fill=\"#ff0000\" fill-rule=\"evenodd\" fill-opacity=\"1\" stroke=\"#000000\" stroke-opacity=\"1\" stroke-width=\"3.2\"/>\n",
       "<path clip-path=\"url(#clip142)\" d=\"M1837.14 1330.15 L1821.14 1346.15 L1837.14 1362.15 L1853.14 1346.15 L1837.14 1330.15 Z\" fill=\"#ff0000\" fill-rule=\"evenodd\" fill-opacity=\"1\" stroke=\"#000000\" stroke-opacity=\"1\" stroke-width=\"3.2\"/>\n",
       "<path clip-path=\"url(#clip142)\" d=\"M1878.49 1329.02 L1862.49 1345.02 L1878.49 1361.02 L1894.49 1345.02 L1878.49 1329.02 Z\" fill=\"#ff0000\" fill-rule=\"evenodd\" fill-opacity=\"1\" stroke=\"#000000\" stroke-opacity=\"1\" stroke-width=\"3.2\"/>\n",
       "<path clip-path=\"url(#clip142)\" d=\"M1919.84 1328.37 L1903.84 1344.37 L1919.84 1360.37 L1935.84 1344.37 L1919.84 1328.37 Z\" fill=\"#ff0000\" fill-rule=\"evenodd\" fill-opacity=\"1\" stroke=\"#000000\" stroke-opacity=\"1\" stroke-width=\"3.2\"/>\n",
       "<path clip-path=\"url(#clip142)\" d=\"M1961.19 1326.23 L1945.19 1342.23 L1961.19 1358.23 L1977.19 1342.23 L1961.19 1326.23 Z\" fill=\"#ff0000\" fill-rule=\"evenodd\" fill-opacity=\"1\" stroke=\"#000000\" stroke-opacity=\"1\" stroke-width=\"3.2\"/>\n",
       "<path clip-path=\"url(#clip142)\" d=\"M2002.54 1325.21 L1986.54 1341.21 L2002.54 1357.21 L2018.54 1341.21 L2002.54 1325.21 Z\" fill=\"#ff0000\" fill-rule=\"evenodd\" fill-opacity=\"1\" stroke=\"#000000\" stroke-opacity=\"1\" stroke-width=\"3.2\"/>\n",
       "<path clip-path=\"url(#clip142)\" d=\"M2043.88 1324.32 L2027.88 1340.32 L2043.88 1356.32 L2059.88 1340.32 L2043.88 1324.32 Z\" fill=\"#ff0000\" fill-rule=\"evenodd\" fill-opacity=\"1\" stroke=\"#000000\" stroke-opacity=\"1\" stroke-width=\"3.2\"/>\n",
       "<path clip-path=\"url(#clip142)\" d=\"M2085.23 1322.9 L2069.23 1338.9 L2085.23 1354.9 L2101.23 1338.9 L2085.23 1322.9 Z\" fill=\"#ff0000\" fill-rule=\"evenodd\" fill-opacity=\"1\" stroke=\"#000000\" stroke-opacity=\"1\" stroke-width=\"3.2\"/>\n",
       "<path clip-path=\"url(#clip142)\" d=\"M2126.58 1322.15 L2110.58 1338.15 L2126.58 1354.15 L2142.58 1338.15 L2126.58 1322.15 Z\" fill=\"#ff0000\" fill-rule=\"evenodd\" fill-opacity=\"1\" stroke=\"#000000\" stroke-opacity=\"1\" stroke-width=\"3.2\"/>\n",
       "<path clip-path=\"url(#clip142)\" d=\"M2167.93 1310.66 L2151.93 1326.66 L2167.93 1342.66 L2183.93 1326.66 L2167.93 1310.66 Z\" fill=\"#ff0000\" fill-rule=\"evenodd\" fill-opacity=\"1\" stroke=\"#000000\" stroke-opacity=\"1\" stroke-width=\"3.2\"/>\n",
       "<path clip-path=\"url(#clip142)\" d=\"M2209.28 1318.71 L2193.28 1334.71 L2209.28 1350.71 L2225.28 1334.71 L2209.28 1318.71 Z\" fill=\"#ff0000\" fill-rule=\"evenodd\" fill-opacity=\"1\" stroke=\"#000000\" stroke-opacity=\"1\" stroke-width=\"3.2\"/>\n",
       "<path clip-path=\"url(#clip142)\" d=\"M2250.63 1317.9 L2234.63 1333.9 L2250.63 1349.9 L2266.63 1333.9 L2250.63 1317.9 Z\" fill=\"#ff0000\" fill-rule=\"evenodd\" fill-opacity=\"1\" stroke=\"#000000\" stroke-opacity=\"1\" stroke-width=\"3.2\"/>\n",
       "<path clip-path=\"url(#clip142)\" d=\"M2291.97 1318.84 L2275.97 1334.84 L2291.97 1350.84 L2307.97 1334.84 L2291.97 1318.84 Z\" fill=\"#ff0000\" fill-rule=\"evenodd\" fill-opacity=\"1\" stroke=\"#000000\" stroke-opacity=\"1\" stroke-width=\"3.2\"/>\n",
       "<path clip-path=\"url(#clip140)\" d=\"M276.709 300.469 L613.902 300.469 L613.902 93.1086 L276.709 93.1086  Z\" fill=\"#ffffff\" fill-rule=\"evenodd\" fill-opacity=\"1\"/>\n",
       "<polyline clip-path=\"url(#clip140)\" style=\"stroke:#000000; stroke-linecap:round; stroke-linejoin:round; stroke-width:4; stroke-opacity:1; fill:none\" points=\"276.709,300.469 613.902,300.469 613.902,93.1086 276.709,93.1086 276.709,300.469 \"/>\n",
       "<polyline clip-path=\"url(#clip140)\" style=\"stroke:#008000; stroke-linecap:round; stroke-linejoin:round; stroke-width:4; stroke-opacity:1; fill:none\" points=\"300.571,144.949 443.747,144.949 \"/>\n",
       "<circle clip-path=\"url(#clip140)\" cx=\"372.159\" cy=\"144.949\" r=\"19.8855\" fill=\"#008000\" fill-rule=\"evenodd\" fill-opacity=\"1\" stroke=\"#000000\" stroke-opacity=\"1\" stroke-width=\"5.12\"/>\n",
       "<path clip-path=\"url(#clip140)\" d=\"M467.61 151.997 L467.61 136.303 L471.869 136.303 L471.869 151.835 Q471.869 155.516 473.304 157.368 Q474.739 159.196 477.61 159.196 Q481.059 159.196 483.049 156.997 Q485.063 154.798 485.063 151.002 L485.063 136.303 L489.323 136.303 L489.323 162.229 L485.063 162.229 L485.063 158.247 Q483.512 160.608 481.452 161.766 Q479.415 162.9 476.707 162.9 Q472.239 162.9 469.924 160.122 Q467.61 157.344 467.61 151.997 M478.327 135.678 L478.327 135.678 Z\" fill=\"#000000\" fill-rule=\"evenodd\" fill-opacity=\"1\" /><path clip-path=\"url(#clip140)\" d=\"M519.646 146.581 L519.646 162.229 L515.387 162.229 L515.387 146.719 Q515.387 143.039 513.952 141.21 Q512.517 139.382 509.647 139.382 Q506.197 139.382 504.207 141.581 Q502.216 143.78 502.216 147.576 L502.216 162.229 L497.934 162.229 L497.934 136.303 L502.216 136.303 L502.216 140.331 Q503.744 137.993 505.804 136.835 Q507.887 135.678 510.596 135.678 Q515.063 135.678 517.355 138.456 Q519.646 141.21 519.646 146.581 Z\" fill=\"#000000\" fill-rule=\"evenodd\" fill-opacity=\"1\" /><path clip-path=\"url(#clip140)\" d=\"M546.799 137.298 L546.799 141.28 Q544.994 140.284 543.165 139.798 Q541.359 139.289 539.507 139.289 Q535.364 139.289 533.072 141.928 Q530.781 144.544 530.781 149.289 Q530.781 154.034 533.072 156.673 Q535.364 159.289 539.507 159.289 Q541.359 159.289 543.165 158.803 Q544.994 158.293 546.799 157.298 L546.799 161.233 Q545.017 162.067 543.095 162.483 Q541.197 162.9 539.044 162.9 Q533.188 162.9 529.739 159.219 Q526.29 155.539 526.29 149.289 Q526.29 142.946 529.762 139.312 Q533.257 135.678 539.322 135.678 Q541.29 135.678 543.165 136.095 Q545.04 136.488 546.799 137.298 Z\" fill=\"#000000\" fill-rule=\"evenodd\" fill-opacity=\"1\" /><path clip-path=\"url(#clip140)\" d=\"M554.808 156.349 L559.693 156.349 L559.693 162.229 L554.808 162.229 L554.808 156.349 Z\" fill=\"#000000\" fill-rule=\"evenodd\" fill-opacity=\"1\" /><polyline clip-path=\"url(#clip140)\" style=\"stroke:#0000ff; stroke-linecap:round; stroke-linejoin:round; stroke-width:4; stroke-opacity:1; fill:none\" points=\"300.571,196.789 443.747,196.789 \"/>\n",
       "<line clip-path=\"url(#clip140)\" x1=\"372.159\" y1=\"196.789\" x2=\"372.159\" y2=\"174.694\" style=\"stroke:#0000ff; stroke-width:5.12; stroke-opacity:1\"/>\n",
       "<line clip-path=\"url(#clip140)\" x1=\"372.159\" y1=\"196.789\" x2=\"350.064\" y2=\"196.789\" style=\"stroke:#0000ff; stroke-width:5.12; stroke-opacity:1\"/>\n",
       "<line clip-path=\"url(#clip140)\" x1=\"372.159\" y1=\"196.789\" x2=\"372.159\" y2=\"218.884\" style=\"stroke:#0000ff; stroke-width:5.12; stroke-opacity:1\"/>\n",
       "<line clip-path=\"url(#clip140)\" x1=\"372.159\" y1=\"196.789\" x2=\"394.254\" y2=\"196.789\" style=\"stroke:#0000ff; stroke-width:5.12; stroke-opacity:1\"/>\n",
       "<path clip-path=\"url(#clip140)\" d=\"M486.383 201.129 Q486.383 196.43 484.438 193.768 Q482.517 191.083 479.137 191.083 Q475.758 191.083 473.813 193.768 Q471.892 196.43 471.892 201.129 Q471.892 205.828 473.813 208.513 Q475.758 211.175 479.137 211.175 Q482.517 211.175 484.438 208.513 Q486.383 205.828 486.383 201.129 M471.892 192.078 Q473.235 189.763 475.272 188.652 Q477.332 187.518 480.179 187.518 Q484.901 187.518 487.841 191.268 Q490.804 195.018 490.804 201.129 Q490.804 207.24 487.841 210.99 Q484.901 214.74 480.179 214.74 Q477.332 214.74 475.272 213.629 Q473.235 212.495 471.892 210.18 L471.892 214.069 L467.61 214.069 L467.61 178.05 L471.892 178.05 L471.892 192.078 Z\" fill=\"#000000\" fill-rule=\"evenodd\" fill-opacity=\"1\" /><path clip-path=\"url(#clip140)\" d=\"M497.864 188.143 L502.123 188.143 L502.123 214.069 L497.864 214.069 L497.864 188.143 M497.864 178.05 L502.123 178.05 L502.123 183.444 L497.864 183.444 L497.864 178.05 Z\" fill=\"#000000\" fill-rule=\"evenodd\" fill-opacity=\"1\" /><path clip-path=\"url(#clip140)\" d=\"M528.095 200.805 Q528.095 196.175 526.174 193.629 Q524.276 191.083 520.827 191.083 Q517.401 191.083 515.48 193.629 Q513.582 196.175 513.582 200.805 Q513.582 205.411 515.48 207.958 Q517.401 210.504 520.827 210.504 Q524.276 210.504 526.174 207.958 Q528.095 205.411 528.095 200.805 M532.355 210.851 Q532.355 217.471 529.415 220.689 Q526.475 223.93 520.41 223.93 Q518.165 223.93 516.174 223.582 Q514.184 223.258 512.309 222.564 L512.309 218.42 Q514.184 219.439 516.012 219.925 Q517.841 220.411 519.739 220.411 Q523.929 220.411 526.012 218.212 Q528.095 216.036 528.095 211.615 L528.095 209.508 Q526.776 211.8 524.716 212.934 Q522.656 214.069 519.785 214.069 Q515.017 214.069 512.1 210.434 Q509.184 206.8 509.184 200.805 Q509.184 194.786 512.1 191.152 Q515.017 187.518 519.785 187.518 Q522.656 187.518 524.716 188.652 Q526.776 189.786 528.095 192.078 L528.095 188.143 L532.355 188.143 L532.355 210.851 Z\" fill=\"#000000\" fill-rule=\"evenodd\" fill-opacity=\"1\" /><path clip-path=\"url(#clip140)\" d=\"M538.975 199.184 L551.452 199.184 L551.452 202.981 L538.975 202.981 L538.975 199.184 Z\" fill=\"#000000\" fill-rule=\"evenodd\" fill-opacity=\"1\" /><path clip-path=\"url(#clip140)\" d=\"M558.419 179.509 L565.387 179.509 L574.206 203.027 L583.072 179.509 L590.04 179.509 L590.04 214.069 L585.479 214.069 L585.479 183.722 L576.567 207.425 L571.868 207.425 L562.956 183.722 L562.956 214.069 L558.419 214.069 L558.419 179.509 Z\" fill=\"#000000\" fill-rule=\"evenodd\" fill-opacity=\"1\" /><polyline clip-path=\"url(#clip140)\" style=\"stroke:#ff0000; stroke-linecap:round; stroke-linejoin:round; stroke-width:4; stroke-opacity:1; fill:none\" points=\"300.571,248.629 443.747,248.629 \"/>\n",
       "<path clip-path=\"url(#clip140)\" d=\"M372.159 226.534 L350.064 248.629 L372.159 270.724 L394.254 248.629 L372.159 226.534 Z\" fill=\"#ff0000\" fill-rule=\"evenodd\" fill-opacity=\"1\" stroke=\"#000000\" stroke-opacity=\"1\" stroke-width=\"5.12\"/>\n",
       "<path clip-path=\"url(#clip140)\" d=\"M487.957 244.96 Q489.554 242.089 491.776 240.724 Q493.998 239.358 497.008 239.358 Q501.059 239.358 503.258 242.205 Q505.457 245.029 505.457 250.261 L505.457 265.909 L501.174 265.909 L501.174 250.399 Q501.174 246.673 499.855 244.867 Q498.535 243.062 495.827 243.062 Q492.517 243.062 490.596 245.261 Q488.674 247.46 488.674 251.256 L488.674 265.909 L484.392 265.909 L484.392 250.399 Q484.392 246.649 483.073 244.867 Q481.753 243.062 478.999 243.062 Q475.735 243.062 473.813 245.284 Q471.892 247.483 471.892 251.256 L471.892 265.909 L467.61 265.909 L467.61 239.983 L471.892 239.983 L471.892 244.011 Q473.35 241.626 475.387 240.492 Q477.424 239.358 480.225 239.358 Q483.049 239.358 485.017 240.793 Q487.008 242.228 487.957 244.96 Z\" fill=\"#000000\" fill-rule=\"evenodd\" fill-opacity=\"1\" /><path clip-path=\"url(#clip140)\" d=\"M518.072 262.02 L518.072 275.77 L513.79 275.77 L513.79 239.983 L518.072 239.983 L518.072 243.918 Q519.415 241.603 521.452 240.492 Q523.512 239.358 526.359 239.358 Q531.082 239.358 534.021 243.108 Q536.984 246.858 536.984 252.969 Q536.984 259.08 534.021 262.83 Q531.082 266.58 526.359 266.58 Q523.512 266.58 521.452 265.469 Q519.415 264.335 518.072 262.02 M532.563 252.969 Q532.563 248.27 530.619 245.608 Q528.697 242.923 525.318 242.923 Q521.938 242.923 519.994 245.608 Q518.072 248.27 518.072 252.969 Q518.072 257.668 519.994 260.353 Q521.938 263.015 525.318 263.015 Q528.697 263.015 530.619 260.353 Q532.563 257.668 532.563 252.969 Z\" fill=\"#000000\" fill-rule=\"evenodd\" fill-opacity=\"1\" /><path clip-path=\"url(#clip140)\" d=\"M562.702 240.978 L562.702 244.96 Q560.896 243.964 559.068 243.478 Q557.262 242.969 555.41 242.969 Q551.267 242.969 548.975 245.608 Q546.683 248.224 546.683 252.969 Q546.683 257.714 548.975 260.353 Q551.267 262.969 555.41 262.969 Q557.262 262.969 559.068 262.483 Q560.896 261.973 562.702 260.978 L562.702 264.913 Q560.919 265.747 558.998 266.163 Q557.1 266.58 554.947 266.58 Q549.091 266.58 545.642 262.899 Q542.193 259.219 542.193 252.969 Q542.193 246.626 545.665 242.992 Q549.16 239.358 555.225 239.358 Q557.193 239.358 559.068 239.775 Q560.943 240.168 562.702 240.978 Z\" fill=\"#000000\" fill-rule=\"evenodd\" fill-opacity=\"1\" /><path clip-path=\"url(#clip140)\" d=\"M588.766 240.978 L588.766 244.96 Q586.961 243.964 585.132 243.478 Q583.327 242.969 581.475 242.969 Q577.331 242.969 575.04 245.608 Q572.748 248.224 572.748 252.969 Q572.748 257.714 575.04 260.353 Q577.331 262.969 581.475 262.969 Q583.327 262.969 585.132 262.483 Q586.961 261.973 588.766 260.978 L588.766 264.913 Q586.984 265.747 585.063 266.163 Q583.165 266.58 581.012 266.58 Q575.155 266.58 571.706 262.899 Q568.257 259.219 568.257 252.969 Q568.257 246.626 571.73 242.992 Q575.225 239.358 581.29 239.358 Q583.257 239.358 585.132 239.775 Q587.007 240.168 588.766 240.978 Z\" fill=\"#000000\" fill-rule=\"evenodd\" fill-opacity=\"1\" /></svg>\n"
      ]
     },
     "metadata": {},
     "output_type": "display_data"
    }
   ],
   "source": [
    "gr()\n",
    "\n",
    "p1 = plot(xlabel=\"# scenarios\", ylabel=\"sol. time [s]\",gridlinewidth=2)\n",
    "p1 = plot!(1:nScenTotal,solTimeTraj_s[1,:], linecolor=:green, marker=:circle, markercolor = :green)\n",
    "p1 = plot!(1:nScenTotal,solTimeTraj_s[2,:], linecolor=:blue, marker=:cross, markercolor = :blue)\n",
    "p1 = plot!(1:nScenTotal,solTimeTraj_s[3,:], linecolor=:red, marker=:diamond, markercolor = :red)\n",
    "p1.series_list[1][:label] = \"unc.\"\n",
    "p1.series_list[2][:label] = \"big-M\"\n",
    "p1.series_list[3][:label] = \"mpcc\"\n",
    "\n",
    "display(p1)"
   ]
  },
  {
   "cell_type": "markdown",
   "id": "766f6bbd",
   "metadata": {},
   "source": [
    "# Checking the performance of the methods in terms of time vs. nReac"
   ]
  },
  {
   "cell_type": "code",
   "execution_count": 22,
   "id": "a4235b15",
   "metadata": {},
   "outputs": [
    {
     "data": {
      "text/plain": [
       "\"simulation iteration: 1 | option 1\""
      ]
     },
     "metadata": {},
     "output_type": "display_data"
    },
    {
     "data": {
      "text/plain": [
       "\"simulation iteration: 2 | option 1\""
      ]
     },
     "metadata": {},
     "output_type": "display_data"
    },
    {
     "data": {
      "text/plain": [
       "\"simulation iteration: 3 | option 1\""
      ]
     },
     "metadata": {},
     "output_type": "display_data"
    },
    {
     "data": {
      "text/plain": [
       "\"simulation iteration: 4 | option 1\""
      ]
     },
     "metadata": {},
     "output_type": "display_data"
    },
    {
     "data": {
      "text/plain": [
       "\"simulation iteration: 5 | option 1\""
      ]
     },
     "metadata": {},
     "output_type": "display_data"
    },
    {
     "data": {
      "text/plain": [
       "\"simulation iteration: 6 | option 1\""
      ]
     },
     "metadata": {},
     "output_type": "display_data"
    },
    {
     "data": {
      "text/plain": [
       "\"simulation iteration: 7 | option 1\""
      ]
     },
     "metadata": {},
     "output_type": "display_data"
    },
    {
     "data": {
      "text/plain": [
       "\"simulation iteration: 8 | option 1\""
      ]
     },
     "metadata": {},
     "output_type": "display_data"
    },
    {
     "data": {
      "text/plain": [
       "\"simulation iteration: 9 | option 1\""
      ]
     },
     "metadata": {},
     "output_type": "display_data"
    },
    {
     "data": {
      "text/plain": [
       "\"simulation iteration: 10 | option 1\""
      ]
     },
     "metadata": {},
     "output_type": "display_data"
    },
    {
     "data": {
      "text/plain": [
       "\"simulation iteration: 11 | option 1\""
      ]
     },
     "metadata": {},
     "output_type": "display_data"
    },
    {
     "data": {
      "text/plain": [
       "\"simulation iteration: 12 | option 1\""
      ]
     },
     "metadata": {},
     "output_type": "display_data"
    },
    {
     "data": {
      "text/plain": [
       "\"simulation iteration: 13 | option 1\""
      ]
     },
     "metadata": {},
     "output_type": "display_data"
    },
    {
     "data": {
      "text/plain": [
       "\"simulation iteration: 14 | option 1\""
      ]
     },
     "metadata": {},
     "output_type": "display_data"
    },
    {
     "data": {
      "text/plain": [
       "\"simulation iteration: 15 | option 1\""
      ]
     },
     "metadata": {},
     "output_type": "display_data"
    },
    {
     "data": {
      "text/plain": [
       "\"simulation iteration: 16 | option 1\""
      ]
     },
     "metadata": {},
     "output_type": "display_data"
    },
    {
     "data": {
      "text/plain": [
       "\"simulation iteration: 17 | option 1\""
      ]
     },
     "metadata": {},
     "output_type": "display_data"
    },
    {
     "data": {
      "text/plain": [
       "\"simulation iteration: 18 | option 1\""
      ]
     },
     "metadata": {},
     "output_type": "display_data"
    },
    {
     "data": {
      "text/plain": [
       "\"simulation iteration: 19 | option 1\""
      ]
     },
     "metadata": {},
     "output_type": "display_data"
    },
    {
     "data": {
      "text/plain": [
       "\"simulation iteration: 20 | option 1\""
      ]
     },
     "metadata": {},
     "output_type": "display_data"
    },
    {
     "data": {
      "text/plain": [
       "\"simulation iteration: 21 | option 1\""
      ]
     },
     "metadata": {},
     "output_type": "display_data"
    },
    {
     "data": {
      "text/plain": [
       "\"simulation iteration: 22 | option 1\""
      ]
     },
     "metadata": {},
     "output_type": "display_data"
    },
    {
     "data": {
      "text/plain": [
       "\"simulation iteration: 23 | option 1\""
      ]
     },
     "metadata": {},
     "output_type": "display_data"
    },
    {
     "data": {
      "text/plain": [
       "\"simulation iteration: 24 | option 1\""
      ]
     },
     "metadata": {},
     "output_type": "display_data"
    },
    {
     "data": {
      "text/plain": [
       "\"simulation iteration: 25 | option 1\""
      ]
     },
     "metadata": {},
     "output_type": "display_data"
    },
    {
     "data": {
      "text/plain": [
       "\"simulation iteration: 26 | option 1\""
      ]
     },
     "metadata": {},
     "output_type": "display_data"
    },
    {
     "data": {
      "text/plain": [
       "\"simulation iteration: 27 | option 1\""
      ]
     },
     "metadata": {},
     "output_type": "display_data"
    },
    {
     "data": {
      "text/plain": [
       "\"simulation iteration: 28 | option 1\""
      ]
     },
     "metadata": {},
     "output_type": "display_data"
    },
    {
     "data": {
      "text/plain": [
       "\"simulation iteration: 29 | option 1\""
      ]
     },
     "metadata": {},
     "output_type": "display_data"
    },
    {
     "data": {
      "text/plain": [
       "\"simulation iteration: 30 | option 1\""
      ]
     },
     "metadata": {},
     "output_type": "display_data"
    },
    {
     "data": {
      "text/plain": [
       "\"simulation iteration: 31 | option 1\""
      ]
     },
     "metadata": {},
     "output_type": "display_data"
    },
    {
     "data": {
      "text/plain": [
       "\"simulation iteration: 32 | option 1\""
      ]
     },
     "metadata": {},
     "output_type": "display_data"
    },
    {
     "data": {
      "text/plain": [
       "\"simulation iteration: 33 | option 1\""
      ]
     },
     "metadata": {},
     "output_type": "display_data"
    },
    {
     "data": {
      "text/plain": [
       "\"simulation iteration: 34 | option 1\""
      ]
     },
     "metadata": {},
     "output_type": "display_data"
    },
    {
     "data": {
      "text/plain": [
       "\"simulation iteration: 35 | option 1\""
      ]
     },
     "metadata": {},
     "output_type": "display_data"
    },
    {
     "data": {
      "text/plain": [
       "\"simulation iteration: 36 | option 1\""
      ]
     },
     "metadata": {},
     "output_type": "display_data"
    },
    {
     "data": {
      "text/plain": [
       "\"simulation iteration: 37 | option 1\""
      ]
     },
     "metadata": {},
     "output_type": "display_data"
    },
    {
     "data": {
      "text/plain": [
       "\"simulation iteration: 38 | option 1\""
      ]
     },
     "metadata": {},
     "output_type": "display_data"
    },
    {
     "data": {
      "text/plain": [
       "\"simulation iteration: 39 | option 1\""
      ]
     },
     "metadata": {},
     "output_type": "display_data"
    },
    {
     "data": {
      "text/plain": [
       "\"simulation iteration: 40 | option 1\""
      ]
     },
     "metadata": {},
     "output_type": "display_data"
    },
    {
     "data": {
      "text/plain": [
       "\"simulation iteration: 41 | option 1\""
      ]
     },
     "metadata": {},
     "output_type": "display_data"
    },
    {
     "data": {
      "text/plain": [
       "\"simulation iteration: 42 | option 1\""
      ]
     },
     "metadata": {},
     "output_type": "display_data"
    },
    {
     "data": {
      "text/plain": [
       "\"simulation iteration: 43 | option 1\""
      ]
     },
     "metadata": {},
     "output_type": "display_data"
    },
    {
     "data": {
      "text/plain": [
       "\"simulation iteration: 44 | option 1\""
      ]
     },
     "metadata": {},
     "output_type": "display_data"
    },
    {
     "data": {
      "text/plain": [
       "\"simulation iteration: 45 | option 1\""
      ]
     },
     "metadata": {},
     "output_type": "display_data"
    },
    {
     "data": {
      "text/plain": [
       "\"simulation iteration: 46 | option 1\""
      ]
     },
     "metadata": {},
     "output_type": "display_data"
    },
    {
     "data": {
      "text/plain": [
       "\"simulation iteration: 47 | option 1\""
      ]
     },
     "metadata": {},
     "output_type": "display_data"
    },
    {
     "data": {
      "text/plain": [
       "\"simulation iteration: 48 | option 1\""
      ]
     },
     "metadata": {},
     "output_type": "display_data"
    },
    {
     "data": {
      "text/plain": [
       "\"simulation iteration: 49 | option 1\""
      ]
     },
     "metadata": {},
     "output_type": "display_data"
    },
    {
     "data": {
      "text/plain": [
       "\"simulation iteration: 50 | option 1\""
      ]
     },
     "metadata": {},
     "output_type": "display_data"
    },
    {
     "data": {
      "text/plain": [
       "\"simulation iteration: 1 | option 2\""
      ]
     },
     "metadata": {},
     "output_type": "display_data"
    },
    {
     "data": {
      "text/plain": [
       "\"simulation iteration: 2 | option 2\""
      ]
     },
     "metadata": {},
     "output_type": "display_data"
    },
    {
     "data": {
      "text/plain": [
       "\"simulation iteration: 3 | option 2\""
      ]
     },
     "metadata": {},
     "output_type": "display_data"
    },
    {
     "data": {
      "text/plain": [
       "\"simulation iteration: 4 | option 2\""
      ]
     },
     "metadata": {},
     "output_type": "display_data"
    },
    {
     "data": {
      "text/plain": [
       "\"simulation iteration: 5 | option 2\""
      ]
     },
     "metadata": {},
     "output_type": "display_data"
    },
    {
     "data": {
      "text/plain": [
       "\"simulation iteration: 6 | option 2\""
      ]
     },
     "metadata": {},
     "output_type": "display_data"
    },
    {
     "data": {
      "text/plain": [
       "\"simulation iteration: 7 | option 2\""
      ]
     },
     "metadata": {},
     "output_type": "display_data"
    },
    {
     "data": {
      "text/plain": [
       "\"simulation iteration: 8 | option 2\""
      ]
     },
     "metadata": {},
     "output_type": "display_data"
    },
    {
     "data": {
      "text/plain": [
       "\"simulation iteration: 9 | option 2\""
      ]
     },
     "metadata": {},
     "output_type": "display_data"
    },
    {
     "data": {
      "text/plain": [
       "\"simulation iteration: 10 | option 2\""
      ]
     },
     "metadata": {},
     "output_type": "display_data"
    },
    {
     "data": {
      "text/plain": [
       "\"simulation iteration: 11 | option 2\""
      ]
     },
     "metadata": {},
     "output_type": "display_data"
    },
    {
     "data": {
      "text/plain": [
       "\"simulation iteration: 12 | option 2\""
      ]
     },
     "metadata": {},
     "output_type": "display_data"
    },
    {
     "data": {
      "text/plain": [
       "\"simulation iteration: 13 | option 2\""
      ]
     },
     "metadata": {},
     "output_type": "display_data"
    },
    {
     "data": {
      "text/plain": [
       "\"simulation iteration: 14 | option 2\""
      ]
     },
     "metadata": {},
     "output_type": "display_data"
    },
    {
     "data": {
      "text/plain": [
       "\"simulation iteration: 15 | option 2\""
      ]
     },
     "metadata": {},
     "output_type": "display_data"
    },
    {
     "data": {
      "text/plain": [
       "\"simulation iteration: 16 | option 2\""
      ]
     },
     "metadata": {},
     "output_type": "display_data"
    },
    {
     "data": {
      "text/plain": [
       "\"simulation iteration: 17 | option 2\""
      ]
     },
     "metadata": {},
     "output_type": "display_data"
    },
    {
     "data": {
      "text/plain": [
       "\"simulation iteration: 18 | option 2\""
      ]
     },
     "metadata": {},
     "output_type": "display_data"
    },
    {
     "data": {
      "text/plain": [
       "\"simulation iteration: 19 | option 2\""
      ]
     },
     "metadata": {},
     "output_type": "display_data"
    },
    {
     "data": {
      "text/plain": [
       "\"simulation iteration: 20 | option 2\""
      ]
     },
     "metadata": {},
     "output_type": "display_data"
    },
    {
     "data": {
      "text/plain": [
       "\"simulation iteration: 21 | option 2\""
      ]
     },
     "metadata": {},
     "output_type": "display_data"
    },
    {
     "data": {
      "text/plain": [
       "\"simulation iteration: 22 | option 2\""
      ]
     },
     "metadata": {},
     "output_type": "display_data"
    },
    {
     "data": {
      "text/plain": [
       "\"simulation iteration: 23 | option 2\""
      ]
     },
     "metadata": {},
     "output_type": "display_data"
    },
    {
     "data": {
      "text/plain": [
       "\"simulation iteration: 24 | option 2\""
      ]
     },
     "metadata": {},
     "output_type": "display_data"
    },
    {
     "data": {
      "text/plain": [
       "\"simulation iteration: 25 | option 2\""
      ]
     },
     "metadata": {},
     "output_type": "display_data"
    },
    {
     "data": {
      "text/plain": [
       "\"simulation iteration: 26 | option 2\""
      ]
     },
     "metadata": {},
     "output_type": "display_data"
    },
    {
     "data": {
      "text/plain": [
       "\"simulation iteration: 27 | option 2\""
      ]
     },
     "metadata": {},
     "output_type": "display_data"
    },
    {
     "data": {
      "text/plain": [
       "\"simulation iteration: 28 | option 2\""
      ]
     },
     "metadata": {},
     "output_type": "display_data"
    },
    {
     "data": {
      "text/plain": [
       "\"simulation iteration: 29 | option 2\""
      ]
     },
     "metadata": {},
     "output_type": "display_data"
    },
    {
     "data": {
      "text/plain": [
       "\"simulation iteration: 30 | option 2\""
      ]
     },
     "metadata": {},
     "output_type": "display_data"
    },
    {
     "data": {
      "text/plain": [
       "\"simulation iteration: 31 | option 2\""
      ]
     },
     "metadata": {},
     "output_type": "display_data"
    },
    {
     "data": {
      "text/plain": [
       "\"simulation iteration: 32 | option 2\""
      ]
     },
     "metadata": {},
     "output_type": "display_data"
    },
    {
     "data": {
      "text/plain": [
       "\"simulation iteration: 33 | option 2\""
      ]
     },
     "metadata": {},
     "output_type": "display_data"
    },
    {
     "data": {
      "text/plain": [
       "\"simulation iteration: 34 | option 2\""
      ]
     },
     "metadata": {},
     "output_type": "display_data"
    },
    {
     "data": {
      "text/plain": [
       "\"simulation iteration: 35 | option 2\""
      ]
     },
     "metadata": {},
     "output_type": "display_data"
    },
    {
     "data": {
      "text/plain": [
       "\"simulation iteration: 36 | option 2\""
      ]
     },
     "metadata": {},
     "output_type": "display_data"
    },
    {
     "data": {
      "text/plain": [
       "\"simulation iteration: 37 | option 2\""
      ]
     },
     "metadata": {},
     "output_type": "display_data"
    },
    {
     "data": {
      "text/plain": [
       "\"simulation iteration: 38 | option 2\""
      ]
     },
     "metadata": {},
     "output_type": "display_data"
    },
    {
     "data": {
      "text/plain": [
       "\"simulation iteration: 39 | option 2\""
      ]
     },
     "metadata": {},
     "output_type": "display_data"
    },
    {
     "data": {
      "text/plain": [
       "\"simulation iteration: 40 | option 2\""
      ]
     },
     "metadata": {},
     "output_type": "display_data"
    },
    {
     "data": {
      "text/plain": [
       "\"simulation iteration: 41 | option 2\""
      ]
     },
     "metadata": {},
     "output_type": "display_data"
    },
    {
     "data": {
      "text/plain": [
       "\"simulation iteration: 42 | option 2\""
      ]
     },
     "metadata": {},
     "output_type": "display_data"
    },
    {
     "data": {
      "text/plain": [
       "\"simulation iteration: 43 | option 2\""
      ]
     },
     "metadata": {},
     "output_type": "display_data"
    },
    {
     "data": {
      "text/plain": [
       "\"simulation iteration: 44 | option 2\""
      ]
     },
     "metadata": {},
     "output_type": "display_data"
    },
    {
     "data": {
      "text/plain": [
       "\"simulation iteration: 45 | option 2\""
      ]
     },
     "metadata": {},
     "output_type": "display_data"
    },
    {
     "data": {
      "text/plain": [
       "\"simulation iteration: 46 | option 2\""
      ]
     },
     "metadata": {},
     "output_type": "display_data"
    },
    {
     "data": {
      "text/plain": [
       "\"simulation iteration: 47 | option 2\""
      ]
     },
     "metadata": {},
     "output_type": "display_data"
    },
    {
     "data": {
      "text/plain": [
       "\"simulation iteration: 48 | option 2\""
      ]
     },
     "metadata": {},
     "output_type": "display_data"
    },
    {
     "data": {
      "text/plain": [
       "\"simulation iteration: 49 | option 2\""
      ]
     },
     "metadata": {},
     "output_type": "display_data"
    },
    {
     "data": {
      "text/plain": [
       "\"simulation iteration: 50 | option 2\""
      ]
     },
     "metadata": {},
     "output_type": "display_data"
    },
    {
     "data": {
      "text/plain": [
       "\"simulation iteration: 1 | option 3\""
      ]
     },
     "metadata": {},
     "output_type": "display_data"
    },
    {
     "data": {
      "text/plain": [
       "\"simulation iteration: 2 | option 3\""
      ]
     },
     "metadata": {},
     "output_type": "display_data"
    },
    {
     "data": {
      "text/plain": [
       "\"simulation iteration: 3 | option 3\""
      ]
     },
     "metadata": {},
     "output_type": "display_data"
    },
    {
     "data": {
      "text/plain": [
       "\"simulation iteration: 4 | option 3\""
      ]
     },
     "metadata": {},
     "output_type": "display_data"
    },
    {
     "data": {
      "text/plain": [
       "\"simulation iteration: 5 | option 3\""
      ]
     },
     "metadata": {},
     "output_type": "display_data"
    },
    {
     "data": {
      "text/plain": [
       "\"simulation iteration: 6 | option 3\""
      ]
     },
     "metadata": {},
     "output_type": "display_data"
    },
    {
     "data": {
      "text/plain": [
       "\"simulation iteration: 7 | option 3\""
      ]
     },
     "metadata": {},
     "output_type": "display_data"
    },
    {
     "data": {
      "text/plain": [
       "\"simulation iteration: 8 | option 3\""
      ]
     },
     "metadata": {},
     "output_type": "display_data"
    },
    {
     "data": {
      "text/plain": [
       "\"simulation iteration: 9 | option 3\""
      ]
     },
     "metadata": {},
     "output_type": "display_data"
    },
    {
     "data": {
      "text/plain": [
       "\"simulation iteration: 10 | option 3\""
      ]
     },
     "metadata": {},
     "output_type": "display_data"
    },
    {
     "data": {
      "text/plain": [
       "\"simulation iteration: 11 | option 3\""
      ]
     },
     "metadata": {},
     "output_type": "display_data"
    },
    {
     "data": {
      "text/plain": [
       "\"simulation iteration: 12 | option 3\""
      ]
     },
     "metadata": {},
     "output_type": "display_data"
    },
    {
     "data": {
      "text/plain": [
       "\"simulation iteration: 13 | option 3\""
      ]
     },
     "metadata": {},
     "output_type": "display_data"
    },
    {
     "data": {
      "text/plain": [
       "\"simulation iteration: 14 | option 3\""
      ]
     },
     "metadata": {},
     "output_type": "display_data"
    },
    {
     "data": {
      "text/plain": [
       "\"simulation iteration: 15 | option 3\""
      ]
     },
     "metadata": {},
     "output_type": "display_data"
    },
    {
     "data": {
      "text/plain": [
       "\"simulation iteration: 16 | option 3\""
      ]
     },
     "metadata": {},
     "output_type": "display_data"
    },
    {
     "data": {
      "text/plain": [
       "\"simulation iteration: 17 | option 3\""
      ]
     },
     "metadata": {},
     "output_type": "display_data"
    },
    {
     "data": {
      "text/plain": [
       "\"simulation iteration: 18 | option 3\""
      ]
     },
     "metadata": {},
     "output_type": "display_data"
    },
    {
     "data": {
      "text/plain": [
       "\"simulation iteration: 19 | option 3\""
      ]
     },
     "metadata": {},
     "output_type": "display_data"
    },
    {
     "data": {
      "text/plain": [
       "\"simulation iteration: 20 | option 3\""
      ]
     },
     "metadata": {},
     "output_type": "display_data"
    },
    {
     "data": {
      "text/plain": [
       "\"simulation iteration: 21 | option 3\""
      ]
     },
     "metadata": {},
     "output_type": "display_data"
    },
    {
     "data": {
      "text/plain": [
       "\"simulation iteration: 22 | option 3\""
      ]
     },
     "metadata": {},
     "output_type": "display_data"
    },
    {
     "data": {
      "text/plain": [
       "\"simulation iteration: 23 | option 3\""
      ]
     },
     "metadata": {},
     "output_type": "display_data"
    },
    {
     "data": {
      "text/plain": [
       "\"simulation iteration: 24 | option 3\""
      ]
     },
     "metadata": {},
     "output_type": "display_data"
    },
    {
     "data": {
      "text/plain": [
       "\"simulation iteration: 25 | option 3\""
      ]
     },
     "metadata": {},
     "output_type": "display_data"
    },
    {
     "data": {
      "text/plain": [
       "\"simulation iteration: 26 | option 3\""
      ]
     },
     "metadata": {},
     "output_type": "display_data"
    },
    {
     "data": {
      "text/plain": [
       "\"simulation iteration: 27 | option 3\""
      ]
     },
     "metadata": {},
     "output_type": "display_data"
    },
    {
     "data": {
      "text/plain": [
       "\"simulation iteration: 28 | option 3\""
      ]
     },
     "metadata": {},
     "output_type": "display_data"
    },
    {
     "data": {
      "text/plain": [
       "\"simulation iteration: 29 | option 3\""
      ]
     },
     "metadata": {},
     "output_type": "display_data"
    },
    {
     "data": {
      "text/plain": [
       "\"simulation iteration: 30 | option 3\""
      ]
     },
     "metadata": {},
     "output_type": "display_data"
    },
    {
     "data": {
      "text/plain": [
       "\"simulation iteration: 31 | option 3\""
      ]
     },
     "metadata": {},
     "output_type": "display_data"
    },
    {
     "data": {
      "text/plain": [
       "\"simulation iteration: 32 | option 3\""
      ]
     },
     "metadata": {},
     "output_type": "display_data"
    },
    {
     "data": {
      "text/plain": [
       "\"simulation iteration: 33 | option 3\""
      ]
     },
     "metadata": {},
     "output_type": "display_data"
    },
    {
     "data": {
      "text/plain": [
       "\"simulation iteration: 34 | option 3\""
      ]
     },
     "metadata": {},
     "output_type": "display_data"
    },
    {
     "data": {
      "text/plain": [
       "\"simulation iteration: 35 | option 3\""
      ]
     },
     "metadata": {},
     "output_type": "display_data"
    },
    {
     "data": {
      "text/plain": [
       "\"simulation iteration: 36 | option 3\""
      ]
     },
     "metadata": {},
     "output_type": "display_data"
    },
    {
     "data": {
      "text/plain": [
       "\"simulation iteration: 37 | option 3\""
      ]
     },
     "metadata": {},
     "output_type": "display_data"
    },
    {
     "data": {
      "text/plain": [
       "\"simulation iteration: 38 | option 3\""
      ]
     },
     "metadata": {},
     "output_type": "display_data"
    },
    {
     "data": {
      "text/plain": [
       "\"simulation iteration: 39 | option 3\""
      ]
     },
     "metadata": {},
     "output_type": "display_data"
    },
    {
     "data": {
      "text/plain": [
       "\"simulation iteration: 40 | option 3\""
      ]
     },
     "metadata": {},
     "output_type": "display_data"
    },
    {
     "data": {
      "text/plain": [
       "\"simulation iteration: 41 | option 3\""
      ]
     },
     "metadata": {},
     "output_type": "display_data"
    },
    {
     "data": {
      "text/plain": [
       "\"simulation iteration: 42 | option 3\""
      ]
     },
     "metadata": {},
     "output_type": "display_data"
    },
    {
     "data": {
      "text/plain": [
       "\"simulation iteration: 43 | option 3\""
      ]
     },
     "metadata": {},
     "output_type": "display_data"
    },
    {
     "data": {
      "text/plain": [
       "\"simulation iteration: 44 | option 3\""
      ]
     },
     "metadata": {},
     "output_type": "display_data"
    },
    {
     "data": {
      "text/plain": [
       "\"simulation iteration: 45 | option 3\""
      ]
     },
     "metadata": {},
     "output_type": "display_data"
    },
    {
     "data": {
      "text/plain": [
       "\"simulation iteration: 46 | option 3\""
      ]
     },
     "metadata": {},
     "output_type": "display_data"
    },
    {
     "data": {
      "text/plain": [
       "\"simulation iteration: 47 | option 3\""
      ]
     },
     "metadata": {},
     "output_type": "display_data"
    },
    {
     "data": {
      "text/plain": [
       "\"simulation iteration: 48 | option 3\""
      ]
     },
     "metadata": {},
     "output_type": "display_data"
    },
    {
     "data": {
      "text/plain": [
       "\"simulation iteration: 49 | option 3\""
      ]
     },
     "metadata": {},
     "output_type": "display_data"
    },
    {
     "data": {
      "text/plain": [
       "\"simulation iteration: 50 | option 3\""
      ]
     },
     "metadata": {},
     "output_type": "display_data"
    }
   ],
   "source": [
    "nReactTotal = 50 # 15 | 50\n",
    "\n",
    "# preparing plot \n",
    "solTimeTraj_r = Matrix{Float64}(undef,3,nReactTotal) \n",
    "\n",
    "#option = 1 # : Unconstrained MPC\n",
    "#option = 2 # : Constrained MPC with binaries\n",
    "#option = 3 # : Constrained MPC with MPCC\n",
    "\n",
    "# number of reactors in parallel\n",
    "nScenarios = 1\n",
    "#equiprobable scenarios\n",
    "pScenarios = 1.0/nScenarios;\n",
    "\n",
    "for opti in 1:3\n",
    "    # dummy for initialization\n",
    "    sol_m_Dict = 0;\n",
    "    \n",
    "    for rr in 1:nReactTotal\n",
    "        display(\"simulation iteration: $(rr) | option $(opti)\")\n",
    "        \n",
    "        #number os reactors\n",
    "        nReac = rr\n",
    "        # Number of states\n",
    "        nx = 2*nReac;\n",
    "\n",
    "        # Initial conditions (deviation form)\n",
    "        xInit_0 = repeat([0.3583;0.6418] .- x0, outer = [nReac,1]);\n",
    "        uInit_0 = 1.0 - u0;\n",
    "        \n",
    "        # solving monolithical problem \n",
    "        sol_m_Dict = MS_CLDRTO(xInit_0,uInit_0,nReac,nScenarios,pScenarios,solNominal,opti)\n",
    "\n",
    "        # saving values for plotting if problem was solved\n",
    "        # output being a dictionary controls if the solver has converged or not \n",
    "        if sol_m_Dict isa Dict\n",
    "            solTimeTraj_r[opti,rr] = sol_m_Dict['t']\n",
    "        else\n",
    "            solTimeTraj_r[opti,rr] = NaN\n",
    "        end\n",
    "        \n",
    "    end\n",
    "end\n"
   ]
  },
  {
   "cell_type": "code",
   "execution_count": 23,
   "id": "3233be5f",
   "metadata": {},
   "outputs": [
    {
     "data": {
      "image/svg+xml": [
       "<?xml version=\"1.0\" encoding=\"utf-8\"?>\n",
       "<svg xmlns=\"http://www.w3.org/2000/svg\" xmlns:xlink=\"http://www.w3.org/1999/xlink\" width=\"600\" height=\"400\" viewBox=\"0 0 2400 1600\">\n",
       "<defs>\n",
       "  <clipPath id=\"clip320\">\n",
       "    <rect x=\"0\" y=\"0\" width=\"2400\" height=\"1600\"/>\n",
       "  </clipPath>\n",
       "</defs>\n",
       "<path clip-path=\"url(#clip320)\" d=\"M0 1600 L2400 1600 L2400 0 L0 0  Z\" fill=\"#ffffff\" fill-rule=\"evenodd\" fill-opacity=\"1\"/>\n",
       "<defs>\n",
       "  <clipPath id=\"clip321\">\n",
       "    <rect x=\"480\" y=\"0\" width=\"1681\" height=\"1600\"/>\n",
       "  </clipPath>\n",
       "</defs>\n",
       "<path clip-path=\"url(#clip320)\" d=\"M219.38 1423.18 L2352.76 1423.18 L2352.76 47.2441 L219.38 47.2441  Z\" fill=\"#ffffff\" fill-rule=\"evenodd\" fill-opacity=\"1\"/>\n",
       "<defs>\n",
       "  <clipPath id=\"clip322\">\n",
       "    <rect x=\"219\" y=\"47\" width=\"2134\" height=\"1377\"/>\n",
       "  </clipPath>\n",
       "</defs>\n",
       "<polyline clip-path=\"url(#clip322)\" style=\"stroke:#000000; stroke-linecap:round; stroke-linejoin:round; stroke-width:8; stroke-opacity:0.1; fill:none\" points=\"238.685,1423.18 238.685,47.2441 \"/>\n",
       "<polyline clip-path=\"url(#clip322)\" style=\"stroke:#000000; stroke-linecap:round; stroke-linejoin:round; stroke-width:8; stroke-opacity:0.1; fill:none\" points=\"649.423,1423.18 649.423,47.2441 \"/>\n",
       "<polyline clip-path=\"url(#clip322)\" style=\"stroke:#000000; stroke-linecap:round; stroke-linejoin:round; stroke-width:8; stroke-opacity:0.1; fill:none\" points=\"1060.16,1423.18 1060.16,47.2441 \"/>\n",
       "<polyline clip-path=\"url(#clip322)\" style=\"stroke:#000000; stroke-linecap:round; stroke-linejoin:round; stroke-width:8; stroke-opacity:0.1; fill:none\" points=\"1470.9,1423.18 1470.9,47.2441 \"/>\n",
       "<polyline clip-path=\"url(#clip322)\" style=\"stroke:#000000; stroke-linecap:round; stroke-linejoin:round; stroke-width:8; stroke-opacity:0.1; fill:none\" points=\"1881.64,1423.18 1881.64,47.2441 \"/>\n",
       "<polyline clip-path=\"url(#clip322)\" style=\"stroke:#000000; stroke-linecap:round; stroke-linejoin:round; stroke-width:8; stroke-opacity:0.1; fill:none\" points=\"2292.38,1423.18 2292.38,47.2441 \"/>\n",
       "<polyline clip-path=\"url(#clip320)\" style=\"stroke:#000000; stroke-linecap:round; stroke-linejoin:round; stroke-width:4; stroke-opacity:1; fill:none\" points=\"219.38,1423.18 2352.76,1423.18 \"/>\n",
       "<polyline clip-path=\"url(#clip320)\" style=\"stroke:#000000; stroke-linecap:round; stroke-linejoin:round; stroke-width:4; stroke-opacity:1; fill:none\" points=\"238.685,1423.18 238.685,1404.28 \"/>\n",
       "<polyline clip-path=\"url(#clip320)\" style=\"stroke:#000000; stroke-linecap:round; stroke-linejoin:round; stroke-width:4; stroke-opacity:1; fill:none\" points=\"649.423,1423.18 649.423,1404.28 \"/>\n",
       "<polyline clip-path=\"url(#clip320)\" style=\"stroke:#000000; stroke-linecap:round; stroke-linejoin:round; stroke-width:4; stroke-opacity:1; fill:none\" points=\"1060.16,1423.18 1060.16,1404.28 \"/>\n",
       "<polyline clip-path=\"url(#clip320)\" style=\"stroke:#000000; stroke-linecap:round; stroke-linejoin:round; stroke-width:4; stroke-opacity:1; fill:none\" points=\"1470.9,1423.18 1470.9,1404.28 \"/>\n",
       "<polyline clip-path=\"url(#clip320)\" style=\"stroke:#000000; stroke-linecap:round; stroke-linejoin:round; stroke-width:4; stroke-opacity:1; fill:none\" points=\"1881.64,1423.18 1881.64,1404.28 \"/>\n",
       "<polyline clip-path=\"url(#clip320)\" style=\"stroke:#000000; stroke-linecap:round; stroke-linejoin:round; stroke-width:4; stroke-opacity:1; fill:none\" points=\"2292.38,1423.18 2292.38,1404.28 \"/>\n",
       "<path clip-path=\"url(#clip320)\" d=\"M238.685 1454.1 Q235.074 1454.1 233.245 1457.66 Q231.44 1461.2 231.44 1468.33 Q231.44 1475.44 233.245 1479.01 Q235.074 1482.55 238.685 1482.55 Q242.319 1482.55 244.125 1479.01 Q245.953 1475.44 245.953 1468.33 Q245.953 1461.2 244.125 1457.66 Q242.319 1454.1 238.685 1454.1 M238.685 1450.39 Q244.495 1450.39 247.551 1455 Q250.629 1459.58 250.629 1468.33 Q250.629 1477.06 247.551 1481.67 Q244.495 1486.25 238.685 1486.25 Q232.875 1486.25 229.796 1481.67 Q226.74 1477.06 226.74 1468.33 Q226.74 1459.58 229.796 1455 Q232.875 1450.39 238.685 1450.39 Z\" fill=\"#000000\" fill-rule=\"evenodd\" fill-opacity=\"1\" /><path clip-path=\"url(#clip320)\" d=\"M624.111 1481.64 L631.75 1481.64 L631.75 1455.28 L623.44 1456.95 L623.44 1452.69 L631.704 1451.02 L636.379 1451.02 L636.379 1481.64 L644.018 1481.64 L644.018 1485.58 L624.111 1485.58 L624.111 1481.64 Z\" fill=\"#000000\" fill-rule=\"evenodd\" fill-opacity=\"1\" /><path clip-path=\"url(#clip320)\" d=\"M663.463 1454.1 Q659.852 1454.1 658.023 1457.66 Q656.217 1461.2 656.217 1468.33 Q656.217 1475.44 658.023 1479.01 Q659.852 1482.55 663.463 1482.55 Q667.097 1482.55 668.902 1479.01 Q670.731 1475.44 670.731 1468.33 Q670.731 1461.2 668.902 1457.66 Q667.097 1454.1 663.463 1454.1 M663.463 1450.39 Q669.273 1450.39 672.328 1455 Q675.407 1459.58 675.407 1468.33 Q675.407 1477.06 672.328 1481.67 Q669.273 1486.25 663.463 1486.25 Q657.652 1486.25 654.574 1481.67 Q651.518 1477.06 651.518 1468.33 Q651.518 1459.58 654.574 1455 Q657.652 1450.39 663.463 1450.39 Z\" fill=\"#000000\" fill-rule=\"evenodd\" fill-opacity=\"1\" /><path clip-path=\"url(#clip320)\" d=\"M1038.94 1481.64 L1055.25 1481.64 L1055.25 1485.58 L1033.31 1485.58 L1033.31 1481.64 Q1035.97 1478.89 1040.56 1474.26 Q1045.16 1469.61 1046.34 1468.27 Q1048.59 1465.74 1049.47 1464.01 Q1050.37 1462.25 1050.37 1460.56 Q1050.37 1457.8 1048.43 1456.07 Q1046.5 1454.33 1043.4 1454.33 Q1041.2 1454.33 1038.75 1455.09 Q1036.32 1455.86 1033.54 1457.41 L1033.54 1452.69 Q1036.37 1451.55 1038.82 1450.97 Q1041.27 1450.39 1043.31 1450.39 Q1048.68 1450.39 1051.87 1453.08 Q1055.07 1455.77 1055.07 1460.26 Q1055.07 1462.39 1054.26 1464.31 Q1053.47 1466.2 1051.37 1468.8 Q1050.79 1469.47 1047.69 1472.69 Q1044.58 1475.88 1038.94 1481.64 Z\" fill=\"#000000\" fill-rule=\"evenodd\" fill-opacity=\"1\" /><path clip-path=\"url(#clip320)\" d=\"M1075.07 1454.1 Q1071.46 1454.1 1069.63 1457.66 Q1067.82 1461.2 1067.82 1468.33 Q1067.82 1475.44 1069.63 1479.01 Q1071.46 1482.55 1075.07 1482.55 Q1078.7 1482.55 1080.51 1479.01 Q1082.34 1475.44 1082.34 1468.33 Q1082.34 1461.2 1080.51 1457.66 Q1078.7 1454.1 1075.07 1454.1 M1075.07 1450.39 Q1080.88 1450.39 1083.93 1455 Q1087.01 1459.58 1087.01 1468.33 Q1087.01 1477.06 1083.93 1481.67 Q1080.88 1486.25 1075.07 1486.25 Q1069.26 1486.25 1066.18 1481.67 Q1063.12 1477.06 1063.12 1468.33 Q1063.12 1459.58 1066.18 1455 Q1069.26 1450.39 1075.07 1450.39 Z\" fill=\"#000000\" fill-rule=\"evenodd\" fill-opacity=\"1\" /><path clip-path=\"url(#clip320)\" d=\"M1459.74 1466.95 Q1463.1 1467.66 1464.97 1469.93 Q1466.87 1472.2 1466.87 1475.53 Q1466.87 1480.65 1463.35 1483.45 Q1459.84 1486.25 1453.35 1486.25 Q1451.18 1486.25 1448.86 1485.81 Q1446.57 1485.39 1444.12 1484.54 L1444.12 1480.02 Q1446.06 1481.16 1448.38 1481.74 Q1450.69 1482.32 1453.22 1482.32 Q1457.61 1482.32 1459.91 1480.58 Q1462.22 1478.84 1462.22 1475.53 Q1462.22 1472.48 1460.07 1470.77 Q1457.94 1469.03 1454.12 1469.03 L1450.09 1469.03 L1450.09 1465.19 L1454.3 1465.19 Q1457.75 1465.19 1459.58 1463.82 Q1461.41 1462.43 1461.41 1459.84 Q1461.41 1457.18 1459.51 1455.77 Q1457.64 1454.33 1454.12 1454.33 Q1452.2 1454.33 1450 1454.75 Q1447.8 1455.16 1445.16 1456.04 L1445.16 1451.88 Q1447.82 1451.14 1450.14 1450.77 Q1452.47 1450.39 1454.53 1450.39 Q1459.86 1450.39 1462.96 1452.83 Q1466.06 1455.23 1466.06 1459.35 Q1466.06 1462.22 1464.42 1464.21 Q1462.78 1466.18 1459.74 1466.95 Z\" fill=\"#000000\" fill-rule=\"evenodd\" fill-opacity=\"1\" /><path clip-path=\"url(#clip320)\" d=\"M1485.74 1454.1 Q1482.13 1454.1 1480.3 1457.66 Q1478.49 1461.2 1478.49 1468.33 Q1478.49 1475.44 1480.3 1479.01 Q1482.13 1482.55 1485.74 1482.55 Q1489.37 1482.55 1491.18 1479.01 Q1493.01 1475.44 1493.01 1468.33 Q1493.01 1461.2 1491.18 1457.66 Q1489.37 1454.1 1485.74 1454.1 M1485.74 1450.39 Q1491.55 1450.39 1494.6 1455 Q1497.68 1459.58 1497.68 1468.33 Q1497.68 1477.06 1494.6 1481.67 Q1491.55 1486.25 1485.74 1486.25 Q1479.93 1486.25 1476.85 1481.67 Q1473.79 1477.06 1473.79 1468.33 Q1473.79 1459.58 1476.85 1455 Q1479.93 1450.39 1485.74 1450.39 Z\" fill=\"#000000\" fill-rule=\"evenodd\" fill-opacity=\"1\" /><path clip-path=\"url(#clip320)\" d=\"M1869.81 1455.09 L1858 1473.54 L1869.81 1473.54 L1869.81 1455.09 M1868.58 1451.02 L1874.46 1451.02 L1874.46 1473.54 L1879.39 1473.54 L1879.39 1477.43 L1874.46 1477.43 L1874.46 1485.58 L1869.81 1485.58 L1869.81 1477.43 L1854.21 1477.43 L1854.21 1472.92 L1868.58 1451.02 Z\" fill=\"#000000\" fill-rule=\"evenodd\" fill-opacity=\"1\" /><path clip-path=\"url(#clip320)\" d=\"M1897.12 1454.1 Q1893.51 1454.1 1891.69 1457.66 Q1889.88 1461.2 1889.88 1468.33 Q1889.88 1475.44 1891.69 1479.01 Q1893.51 1482.55 1897.12 1482.55 Q1900.76 1482.55 1902.56 1479.01 Q1904.39 1475.44 1904.39 1468.33 Q1904.39 1461.2 1902.56 1457.66 Q1900.76 1454.1 1897.12 1454.1 M1897.12 1450.39 Q1902.94 1450.39 1905.99 1455 Q1909.07 1459.58 1909.07 1468.33 Q1909.07 1477.06 1905.99 1481.67 Q1902.94 1486.25 1897.12 1486.25 Q1891.31 1486.25 1888.24 1481.67 Q1885.18 1477.06 1885.18 1468.33 Q1885.18 1459.58 1888.24 1455 Q1891.31 1450.39 1897.12 1450.39 Z\" fill=\"#000000\" fill-rule=\"evenodd\" fill-opacity=\"1\" /><path clip-path=\"url(#clip320)\" d=\"M2267.08 1451.02 L2285.43 1451.02 L2285.43 1454.96 L2271.36 1454.96 L2271.36 1463.43 Q2272.38 1463.08 2273.4 1462.92 Q2274.41 1462.73 2275.43 1462.73 Q2281.22 1462.73 2284.6 1465.9 Q2287.98 1469.08 2287.98 1474.49 Q2287.98 1480.07 2284.51 1483.17 Q2281.03 1486.25 2274.72 1486.25 Q2272.54 1486.25 2270.27 1485.88 Q2268.03 1485.51 2265.62 1484.77 L2265.62 1480.07 Q2267.7 1481.2 2269.92 1481.76 Q2272.15 1482.32 2274.62 1482.32 Q2278.63 1482.32 2280.97 1480.21 Q2283.3 1478.1 2283.3 1474.49 Q2283.3 1470.88 2280.97 1468.77 Q2278.63 1466.67 2274.62 1466.67 Q2272.75 1466.67 2270.87 1467.08 Q2269.02 1467.5 2267.08 1468.38 L2267.08 1451.02 Z\" fill=\"#000000\" fill-rule=\"evenodd\" fill-opacity=\"1\" /><path clip-path=\"url(#clip320)\" d=\"M2307.19 1454.1 Q2303.58 1454.1 2301.75 1457.66 Q2299.95 1461.2 2299.95 1468.33 Q2299.95 1475.44 2301.75 1479.01 Q2303.58 1482.55 2307.19 1482.55 Q2310.83 1482.55 2312.63 1479.01 Q2314.46 1475.44 2314.46 1468.33 Q2314.46 1461.2 2312.63 1457.66 Q2310.83 1454.1 2307.19 1454.1 M2307.19 1450.39 Q2313 1450.39 2316.06 1455 Q2319.14 1459.58 2319.14 1468.33 Q2319.14 1477.06 2316.06 1481.67 Q2313 1486.25 2307.19 1486.25 Q2301.38 1486.25 2298.3 1481.67 Q2295.25 1477.06 2295.25 1468.33 Q2295.25 1459.58 2298.3 1455 Q2301.38 1450.39 2307.19 1450.39 Z\" fill=\"#000000\" fill-rule=\"evenodd\" fill-opacity=\"1\" /><path clip-path=\"url(#clip320)\" d=\"M1147.07 1539.37 L1137.81 1539.37 L1135.14 1550 L1144.46 1550 L1147.07 1539.37 M1142.3 1521.26 L1138.99 1534.46 L1148.28 1534.46 L1151.62 1521.26 L1156.72 1521.26 L1153.44 1534.46 L1163.37 1534.46 L1163.37 1539.37 L1152.2 1539.37 L1149.59 1550 L1159.71 1550 L1159.71 1554.87 L1148.35 1554.87 L1145.04 1568.04 L1139.94 1568.04 L1143.22 1554.87 L1133.9 1554.87 L1130.62 1568.04 L1125.49 1568.04 L1128.8 1554.87 L1118.78 1554.87 L1118.78 1550 L1129.98 1550 L1132.65 1539.37 L1122.41 1539.37 L1122.41 1534.46 L1133.9 1534.46 L1137.14 1521.26 L1142.3 1521.26 Z\" fill=\"#000000\" fill-rule=\"evenodd\" fill-opacity=\"1\" /><path clip-path=\"url(#clip320)\" d=\"M1215.89 1537.87 Q1214.9 1537.3 1213.72 1537.04 Q1212.58 1536.76 1211.18 1536.76 Q1206.21 1536.76 1203.54 1540 Q1200.89 1543.22 1200.89 1549.27 L1200.89 1568.04 L1195.01 1568.04 L1195.01 1532.4 L1200.89 1532.4 L1200.89 1537.93 Q1202.74 1534.69 1205.7 1533.13 Q1208.66 1531.54 1212.89 1531.54 Q1213.5 1531.54 1214.23 1531.63 Q1214.96 1531.7 1215.85 1531.85 L1215.89 1537.87 Z\" fill=\"#000000\" fill-rule=\"evenodd\" fill-opacity=\"1\" /><path clip-path=\"url(#clip320)\" d=\"M1251.09 1548.76 L1251.09 1551.62 L1224.16 1551.62 Q1224.54 1557.67 1227.79 1560.85 Q1231.07 1564 1236.89 1564 Q1240.27 1564 1243.42 1563.17 Q1246.6 1562.35 1249.72 1560.69 L1249.72 1566.23 Q1246.57 1567.57 1243.26 1568.27 Q1239.95 1568.97 1236.54 1568.97 Q1228.01 1568.97 1223.02 1564 Q1218.05 1559.04 1218.05 1550.57 Q1218.05 1541.82 1222.76 1536.69 Q1227.5 1531.54 1235.52 1531.54 Q1242.72 1531.54 1246.89 1536.18 Q1251.09 1540.8 1251.09 1548.76 M1245.23 1547.04 Q1245.17 1542.23 1242.53 1539.37 Q1239.92 1536.5 1235.59 1536.5 Q1230.69 1536.5 1227.73 1539.27 Q1224.8 1542.04 1224.35 1547.07 L1245.23 1547.04 Z\" fill=\"#000000\" fill-rule=\"evenodd\" fill-opacity=\"1\" /><path clip-path=\"url(#clip320)\" d=\"M1276.9 1550.12 Q1269.8 1550.12 1267.07 1551.75 Q1264.33 1553.37 1264.33 1557.29 Q1264.33 1560.4 1266.37 1562.25 Q1268.44 1564.07 1271.97 1564.07 Q1276.84 1564.07 1279.77 1560.63 Q1282.73 1557.16 1282.73 1551.43 L1282.73 1550.12 L1276.9 1550.12 M1288.58 1547.71 L1288.58 1568.04 L1282.73 1568.04 L1282.73 1562.63 Q1280.72 1565.88 1277.73 1567.44 Q1274.74 1568.97 1270.41 1568.97 Q1264.93 1568.97 1261.69 1565.91 Q1258.47 1562.82 1258.47 1557.67 Q1258.47 1551.65 1262.48 1548.6 Q1266.53 1545.54 1274.51 1545.54 L1282.73 1545.54 L1282.73 1544.97 Q1282.73 1540.93 1280.05 1538.73 Q1277.41 1536.5 1272.6 1536.5 Q1269.55 1536.5 1266.65 1537.23 Q1263.76 1537.97 1261.08 1539.43 L1261.08 1534.02 Q1264.3 1532.78 1267.32 1532.17 Q1270.34 1531.54 1273.21 1531.54 Q1280.94 1531.54 1284.76 1535.55 Q1288.58 1539.56 1288.58 1547.71 Z\" fill=\"#000000\" fill-rule=\"evenodd\" fill-opacity=\"1\" /><path clip-path=\"url(#clip320)\" d=\"M1326.3 1533.76 L1326.3 1539.24 Q1323.82 1537.87 1321.3 1537.2 Q1318.82 1536.5 1316.27 1536.5 Q1310.58 1536.5 1307.42 1540.13 Q1304.27 1543.73 1304.27 1550.25 Q1304.27 1556.78 1307.42 1560.4 Q1310.58 1564 1316.27 1564 Q1318.82 1564 1321.3 1563.33 Q1323.82 1562.63 1326.3 1561.26 L1326.3 1566.68 Q1323.85 1567.82 1321.21 1568.39 Q1318.6 1568.97 1315.64 1568.97 Q1307.58 1568.97 1302.84 1563.91 Q1298.1 1558.85 1298.1 1550.25 Q1298.1 1541.53 1302.87 1536.53 Q1307.68 1531.54 1316.02 1531.54 Q1318.72 1531.54 1321.3 1532.11 Q1323.88 1532.65 1326.3 1533.76 Z\" fill=\"#000000\" fill-rule=\"evenodd\" fill-opacity=\"1\" /><path clip-path=\"url(#clip320)\" d=\"M1342.28 1522.27 L1342.28 1532.4 L1354.34 1532.4 L1354.34 1536.95 L1342.28 1536.95 L1342.28 1556.3 Q1342.28 1560.66 1343.45 1561.9 Q1344.66 1563.14 1348.32 1563.14 L1354.34 1563.14 L1354.34 1568.04 L1348.32 1568.04 Q1341.55 1568.04 1338.97 1565.53 Q1336.39 1562.98 1336.39 1556.3 L1336.39 1536.95 L1332.09 1536.95 L1332.09 1532.4 L1336.39 1532.4 L1336.39 1522.27 L1342.28 1522.27 Z\" fill=\"#000000\" fill-rule=\"evenodd\" fill-opacity=\"1\" /><path clip-path=\"url(#clip320)\" d=\"M1375.86 1536.5 Q1371.15 1536.5 1368.41 1540.19 Q1365.67 1543.85 1365.67 1550.25 Q1365.67 1556.65 1368.38 1560.34 Q1371.11 1564 1375.86 1564 Q1380.54 1564 1383.27 1560.31 Q1386.01 1556.62 1386.01 1550.25 Q1386.01 1543.92 1383.27 1540.23 Q1380.54 1536.5 1375.86 1536.5 M1375.86 1531.54 Q1383.5 1531.54 1387.86 1536.5 Q1392.22 1541.47 1392.22 1550.25 Q1392.22 1559 1387.86 1564 Q1383.5 1568.97 1375.86 1568.97 Q1368.19 1568.97 1363.83 1564 Q1359.5 1559 1359.5 1550.25 Q1359.5 1541.47 1363.83 1536.5 Q1368.19 1531.54 1375.86 1531.54 Z\" fill=\"#000000\" fill-rule=\"evenodd\" fill-opacity=\"1\" /><path clip-path=\"url(#clip320)\" d=\"M1422.58 1537.87 Q1421.59 1537.3 1420.42 1537.04 Q1419.27 1536.76 1417.87 1536.76 Q1412.9 1536.76 1410.23 1540 Q1407.59 1543.22 1407.59 1549.27 L1407.59 1568.04 L1401.7 1568.04 L1401.7 1532.4 L1407.59 1532.4 L1407.59 1537.93 Q1409.44 1534.69 1412.4 1533.13 Q1415.36 1531.54 1419.59 1531.54 Q1420.19 1531.54 1420.93 1531.63 Q1421.66 1531.7 1422.55 1531.85 L1422.58 1537.87 Z\" fill=\"#000000\" fill-rule=\"evenodd\" fill-opacity=\"1\" /><path clip-path=\"url(#clip320)\" d=\"M1451.45 1533.45 L1451.45 1538.98 Q1448.97 1537.71 1446.29 1537.07 Q1443.62 1536.44 1440.75 1536.44 Q1436.39 1536.44 1434.2 1537.77 Q1432.03 1539.11 1432.03 1541.79 Q1432.03 1543.82 1433.59 1545 Q1435.15 1546.15 1439.86 1547.2 L1441.87 1547.64 Q1448.11 1548.98 1450.72 1551.43 Q1453.36 1553.85 1453.36 1558.21 Q1453.36 1563.17 1449.41 1566.07 Q1445.5 1568.97 1438.62 1568.97 Q1435.76 1568.97 1432.64 1568.39 Q1429.55 1567.85 1426.11 1566.74 L1426.11 1560.69 Q1429.36 1562.38 1432.51 1563.24 Q1435.66 1564.07 1438.75 1564.07 Q1442.89 1564.07 1445.12 1562.66 Q1447.34 1561.23 1447.34 1558.65 Q1447.34 1556.27 1445.72 1554.99 Q1444.13 1553.72 1438.69 1552.54 L1436.65 1552.07 Q1431.21 1550.92 1428.79 1548.56 Q1426.37 1546.18 1426.37 1542.04 Q1426.37 1537.01 1429.93 1534.27 Q1433.5 1531.54 1440.05 1531.54 Q1443.3 1531.54 1446.17 1532.01 Q1449.03 1532.49 1451.45 1533.45 Z\" fill=\"#000000\" fill-rule=\"evenodd\" fill-opacity=\"1\" /><polyline clip-path=\"url(#clip322)\" style=\"stroke:#000000; stroke-linecap:round; stroke-linejoin:round; stroke-width:8; stroke-opacity:0.1; fill:none\" points=\"219.38,1411.17 2352.76,1411.17 \"/>\n",
       "<polyline clip-path=\"url(#clip322)\" style=\"stroke:#000000; stroke-linecap:round; stroke-linejoin:round; stroke-width:8; stroke-opacity:0.1; fill:none\" points=\"219.38,1105.17 2352.76,1105.17 \"/>\n",
       "<polyline clip-path=\"url(#clip322)\" style=\"stroke:#000000; stroke-linecap:round; stroke-linejoin:round; stroke-width:8; stroke-opacity:0.1; fill:none\" points=\"219.38,799.166 2352.76,799.166 \"/>\n",
       "<polyline clip-path=\"url(#clip322)\" style=\"stroke:#000000; stroke-linecap:round; stroke-linejoin:round; stroke-width:8; stroke-opacity:0.1; fill:none\" points=\"219.38,493.166 2352.76,493.166 \"/>\n",
       "<polyline clip-path=\"url(#clip322)\" style=\"stroke:#000000; stroke-linecap:round; stroke-linejoin:round; stroke-width:8; stroke-opacity:0.1; fill:none\" points=\"219.38,187.166 2352.76,187.166 \"/>\n",
       "<polyline clip-path=\"url(#clip320)\" style=\"stroke:#000000; stroke-linecap:round; stroke-linejoin:round; stroke-width:4; stroke-opacity:1; fill:none\" points=\"219.38,1423.18 219.38,47.2441 \"/>\n",
       "<polyline clip-path=\"url(#clip320)\" style=\"stroke:#000000; stroke-linecap:round; stroke-linejoin:round; stroke-width:4; stroke-opacity:1; fill:none\" points=\"219.38,1411.17 238.278,1411.17 \"/>\n",
       "<polyline clip-path=\"url(#clip320)\" style=\"stroke:#000000; stroke-linecap:round; stroke-linejoin:round; stroke-width:4; stroke-opacity:1; fill:none\" points=\"219.38,1105.17 238.278,1105.17 \"/>\n",
       "<polyline clip-path=\"url(#clip320)\" style=\"stroke:#000000; stroke-linecap:round; stroke-linejoin:round; stroke-width:4; stroke-opacity:1; fill:none\" points=\"219.38,799.166 238.278,799.166 \"/>\n",
       "<polyline clip-path=\"url(#clip320)\" style=\"stroke:#000000; stroke-linecap:round; stroke-linejoin:round; stroke-width:4; stroke-opacity:1; fill:none\" points=\"219.38,493.166 238.278,493.166 \"/>\n",
       "<polyline clip-path=\"url(#clip320)\" style=\"stroke:#000000; stroke-linecap:round; stroke-linejoin:round; stroke-width:4; stroke-opacity:1; fill:none\" points=\"219.38,187.166 238.278,187.166 \"/>\n",
       "<path clip-path=\"url(#clip320)\" d=\"M126.205 1396.97 Q122.593 1396.97 120.765 1400.53 Q118.959 1404.07 118.959 1411.2 Q118.959 1418.31 120.765 1421.87 Q122.593 1425.41 126.205 1425.41 Q129.839 1425.41 131.644 1421.87 Q133.473 1418.31 133.473 1411.2 Q133.473 1404.07 131.644 1400.53 Q129.839 1396.97 126.205 1396.97 M126.205 1393.26 Q132.015 1393.26 135.07 1397.87 Q138.149 1402.45 138.149 1411.2 Q138.149 1419.93 135.07 1424.53 Q132.015 1429.12 126.205 1429.12 Q120.394 1429.12 117.316 1424.53 Q114.26 1419.93 114.26 1411.2 Q114.26 1402.45 117.316 1397.87 Q120.394 1393.26 126.205 1393.26 Z\" fill=\"#000000\" fill-rule=\"evenodd\" fill-opacity=\"1\" /><path clip-path=\"url(#clip320)\" d=\"M146.366 1422.57 L151.251 1422.57 L151.251 1428.45 L146.366 1428.45 L146.366 1422.57 Z\" fill=\"#000000\" fill-rule=\"evenodd\" fill-opacity=\"1\" /><path clip-path=\"url(#clip320)\" d=\"M171.436 1396.97 Q167.825 1396.97 165.996 1400.53 Q164.19 1404.07 164.19 1411.2 Q164.19 1418.31 165.996 1421.87 Q167.825 1425.41 171.436 1425.41 Q175.07 1425.41 176.876 1421.87 Q178.704 1418.31 178.704 1411.2 Q178.704 1404.07 176.876 1400.53 Q175.07 1396.97 171.436 1396.97 M171.436 1393.26 Q177.246 1393.26 180.301 1397.87 Q183.38 1402.45 183.38 1411.2 Q183.38 1419.93 180.301 1424.53 Q177.246 1429.12 171.436 1429.12 Q165.626 1429.12 162.547 1424.53 Q159.491 1419.93 159.491 1411.2 Q159.491 1402.45 162.547 1397.87 Q165.626 1393.26 171.436 1393.26 Z\" fill=\"#000000\" fill-rule=\"evenodd\" fill-opacity=\"1\" /><path clip-path=\"url(#clip320)\" d=\"M127.2 1090.96 Q123.589 1090.96 121.76 1094.53 Q119.955 1098.07 119.955 1105.2 Q119.955 1112.31 121.76 1115.87 Q123.589 1119.41 127.2 1119.41 Q130.834 1119.41 132.64 1115.87 Q134.468 1112.31 134.468 1105.2 Q134.468 1098.07 132.64 1094.53 Q130.834 1090.96 127.2 1090.96 M127.2 1087.26 Q133.01 1087.26 136.066 1091.87 Q139.144 1096.45 139.144 1105.2 Q139.144 1113.93 136.066 1118.53 Q133.01 1123.12 127.2 1123.12 Q121.39 1123.12 118.311 1118.53 Q115.256 1113.93 115.256 1105.2 Q115.256 1096.45 118.311 1091.87 Q121.39 1087.26 127.2 1087.26 Z\" fill=\"#000000\" fill-rule=\"evenodd\" fill-opacity=\"1\" /><path clip-path=\"url(#clip320)\" d=\"M147.362 1116.57 L152.246 1116.57 L152.246 1122.45 L147.362 1122.45 L147.362 1116.57 Z\" fill=\"#000000\" fill-rule=\"evenodd\" fill-opacity=\"1\" /><path clip-path=\"url(#clip320)\" d=\"M162.477 1087.89 L180.834 1087.89 L180.834 1091.82 L166.76 1091.82 L166.76 1100.29 Q167.778 1099.95 168.797 1099.78 Q169.815 1099.6 170.834 1099.6 Q176.621 1099.6 180.001 1102.77 Q183.38 1105.94 183.38 1111.36 Q183.38 1116.94 179.908 1120.04 Q176.436 1123.12 170.116 1123.12 Q167.94 1123.12 165.672 1122.75 Q163.427 1122.38 161.019 1121.64 L161.019 1116.94 Q163.102 1118.07 165.325 1118.63 Q167.547 1119.18 170.024 1119.18 Q174.028 1119.18 176.366 1117.08 Q178.704 1114.97 178.704 1111.36 Q178.704 1107.75 176.366 1105.64 Q174.028 1103.53 170.024 1103.53 Q168.149 1103.53 166.274 1103.95 Q164.422 1104.37 162.477 1105.25 L162.477 1087.89 Z\" fill=\"#000000\" fill-rule=\"evenodd\" fill-opacity=\"1\" /><path clip-path=\"url(#clip320)\" d=\"M117.015 812.511 L124.654 812.511 L124.654 786.145 L116.343 787.812 L116.343 783.553 L124.607 781.886 L129.283 781.886 L129.283 812.511 L136.922 812.511 L136.922 816.446 L117.015 816.446 L117.015 812.511 Z\" fill=\"#000000\" fill-rule=\"evenodd\" fill-opacity=\"1\" /><path clip-path=\"url(#clip320)\" d=\"M146.366 810.567 L151.251 810.567 L151.251 816.446 L146.366 816.446 L146.366 810.567 Z\" fill=\"#000000\" fill-rule=\"evenodd\" fill-opacity=\"1\" /><path clip-path=\"url(#clip320)\" d=\"M171.436 784.965 Q167.825 784.965 165.996 788.53 Q164.19 792.071 164.19 799.201 Q164.19 806.307 165.996 809.872 Q167.825 813.414 171.436 813.414 Q175.07 813.414 176.876 809.872 Q178.704 806.307 178.704 799.201 Q178.704 792.071 176.876 788.53 Q175.07 784.965 171.436 784.965 M171.436 781.261 Q177.246 781.261 180.301 785.868 Q183.38 790.451 183.38 799.201 Q183.38 807.928 180.301 812.534 Q177.246 817.117 171.436 817.117 Q165.626 817.117 162.547 812.534 Q159.491 807.928 159.491 799.201 Q159.491 790.451 162.547 785.868 Q165.626 781.261 171.436 781.261 Z\" fill=\"#000000\" fill-rule=\"evenodd\" fill-opacity=\"1\" /><path clip-path=\"url(#clip320)\" d=\"M118.01 506.511 L125.649 506.511 L125.649 480.145 L117.339 481.812 L117.339 477.553 L125.603 475.886 L130.279 475.886 L130.279 506.511 L137.917 506.511 L137.917 510.446 L118.01 510.446 L118.01 506.511 Z\" fill=\"#000000\" fill-rule=\"evenodd\" fill-opacity=\"1\" /><path clip-path=\"url(#clip320)\" d=\"M147.362 504.566 L152.246 504.566 L152.246 510.446 L147.362 510.446 L147.362 504.566 Z\" fill=\"#000000\" fill-rule=\"evenodd\" fill-opacity=\"1\" /><path clip-path=\"url(#clip320)\" d=\"M162.477 475.886 L180.834 475.886 L180.834 479.821 L166.76 479.821 L166.76 488.293 Q167.778 487.946 168.797 487.784 Q169.815 487.599 170.834 487.599 Q176.621 487.599 180.001 490.77 Q183.38 493.941 183.38 499.358 Q183.38 504.937 179.908 508.039 Q176.436 511.117 170.116 511.117 Q167.94 511.117 165.672 510.747 Q163.427 510.377 161.019 509.636 L161.019 504.937 Q163.102 506.071 165.325 506.627 Q167.547 507.182 170.024 507.182 Q174.028 507.182 176.366 505.076 Q178.704 502.969 178.704 499.358 Q178.704 495.747 176.366 493.641 Q174.028 491.534 170.024 491.534 Q168.149 491.534 166.274 491.951 Q164.422 492.367 162.477 493.247 L162.477 475.886 Z\" fill=\"#000000\" fill-rule=\"evenodd\" fill-opacity=\"1\" /><path clip-path=\"url(#clip320)\" d=\"M120.232 200.511 L136.552 200.511 L136.552 204.446 L114.607 204.446 L114.607 200.511 Q117.269 197.756 121.853 193.126 Q126.459 188.474 127.64 187.131 Q129.885 184.608 130.765 182.872 Q131.667 181.113 131.667 179.423 Q131.667 176.668 129.723 174.932 Q127.802 173.196 124.7 173.196 Q122.501 173.196 120.047 173.96 Q117.617 174.724 114.839 176.275 L114.839 171.552 Q117.663 170.418 120.117 169.84 Q122.57 169.261 124.607 169.261 Q129.978 169.261 133.172 171.946 Q136.367 174.631 136.367 179.122 Q136.367 181.252 135.556 183.173 Q134.769 185.071 132.663 187.664 Q132.084 188.335 128.982 191.552 Q125.88 194.747 120.232 200.511 Z\" fill=\"#000000\" fill-rule=\"evenodd\" fill-opacity=\"1\" /><path clip-path=\"url(#clip320)\" d=\"M146.366 198.566 L151.251 198.566 L151.251 204.446 L146.366 204.446 L146.366 198.566 Z\" fill=\"#000000\" fill-rule=\"evenodd\" fill-opacity=\"1\" /><path clip-path=\"url(#clip320)\" d=\"M171.436 172.965 Q167.825 172.965 165.996 176.529 Q164.19 180.071 164.19 187.201 Q164.19 194.307 165.996 197.872 Q167.825 201.413 171.436 201.413 Q175.07 201.413 176.876 197.872 Q178.704 194.307 178.704 187.201 Q178.704 180.071 176.876 176.529 Q175.07 172.965 171.436 172.965 M171.436 169.261 Q177.246 169.261 180.301 173.867 Q183.38 178.451 183.38 187.201 Q183.38 195.927 180.301 200.534 Q177.246 205.117 171.436 205.117 Q165.626 205.117 162.547 200.534 Q159.491 195.927 159.491 187.201 Q159.491 178.451 162.547 173.867 Q165.626 169.261 171.436 169.261 Z\" fill=\"#000000\" fill-rule=\"evenodd\" fill-opacity=\"1\" /><path clip-path=\"url(#clip320)\" d=\"M29.4065 898.413 L34.9447 898.413 Q33.6716 900.895 33.035 903.569 Q32.3984 906.243 32.3984 909.107 Q32.3984 913.468 33.7352 915.664 Q35.072 917.828 37.7456 917.828 Q39.7826 917.828 40.9603 916.269 Q42.1061 914.709 43.1565 909.998 L43.6021 907.993 Q44.9389 901.755 47.3897 899.145 Q49.8086 896.503 54.1691 896.503 Q59.1344 896.503 62.0308 900.45 Q64.9272 904.365 64.9272 911.24 Q64.9272 914.104 64.3543 917.223 Q63.8132 920.311 62.6992 923.748 L56.6518 923.748 Q58.3387 920.502 59.198 917.351 Q60.0256 914.2 60.0256 911.112 Q60.0256 906.975 58.6251 904.747 Q57.1929 902.519 54.6147 902.519 Q52.2276 902.519 50.9545 904.142 Q49.6813 905.733 48.5037 911.176 L48.0262 913.213 Q46.8804 918.656 44.5251 921.075 Q42.138 923.494 38.0002 923.494 Q32.9713 923.494 30.2341 919.929 Q27.4968 916.364 27.4968 909.807 Q27.4968 906.561 27.9743 903.696 Q28.4517 900.832 29.4065 898.413 Z\" fill=\"#000000\" fill-rule=\"evenodd\" fill-opacity=\"1\" /><path clip-path=\"url(#clip320)\" d=\"M32.4621 873.364 Q32.4621 878.074 36.1542 880.812 Q39.8145 883.549 46.212 883.549 Q52.6095 883.549 56.3017 880.843 Q59.9619 878.106 59.9619 873.364 Q59.9619 868.685 56.2698 865.948 Q52.5777 863.21 46.212 863.21 Q39.8781 863.21 36.186 865.948 Q32.4621 868.685 32.4621 873.364 M27.4968 873.364 Q27.4968 865.725 32.4621 861.364 Q37.4273 857.004 46.212 857.004 Q54.9649 857.004 59.9619 861.364 Q64.9272 865.725 64.9272 873.364 Q64.9272 881.034 59.9619 885.395 Q54.9649 889.724 46.212 889.724 Q37.4273 889.724 32.4621 885.395 Q27.4968 881.034 27.4968 873.364 Z\" fill=\"#000000\" fill-rule=\"evenodd\" fill-opacity=\"1\" /><path clip-path=\"url(#clip320)\" d=\"M14.479 847.296 L14.479 841.44 L64.0042 841.44 L64.0042 847.296 L14.479 847.296 Z\" fill=\"#000000\" fill-rule=\"evenodd\" fill-opacity=\"1\" /><path clip-path=\"url(#clip320)\" d=\"M55.9197 828.358 L55.9197 821.642 L64.0042 821.642 L64.0042 828.358 L55.9197 828.358 Z\" fill=\"#000000\" fill-rule=\"evenodd\" fill-opacity=\"1\" /><path clip-path=\"url(#clip320)\" d=\"M18.2347 781.952 L28.3562 781.952 L28.3562 769.889 L32.9077 769.889 L32.9077 781.952 L52.2594 781.952 Q56.6199 781.952 57.8613 780.775 Q59.1026 779.565 59.1026 775.905 L59.1026 769.889 L64.0042 769.889 L64.0042 775.905 Q64.0042 782.684 61.4897 785.262 Q58.9434 787.84 52.2594 787.84 L32.9077 787.84 L32.9077 792.137 L28.3562 792.137 L28.3562 787.84 L18.2347 787.84 L18.2347 781.952 Z\" fill=\"#000000\" fill-rule=\"evenodd\" fill-opacity=\"1\" /><path clip-path=\"url(#clip320)\" d=\"M28.3562 762.187 L28.3562 756.33 L64.0042 756.33 L64.0042 762.187 L28.3562 762.187 M14.479 762.187 L14.479 756.33 L21.895 756.33 L21.895 762.187 L14.479 762.187 Z\" fill=\"#000000\" fill-rule=\"evenodd\" fill-opacity=\"1\" /><path clip-path=\"url(#clip320)\" d=\"M35.1993 716.322 Q31.2526 714.126 29.3747 711.07 Q27.4968 708.014 27.4968 703.877 Q27.4968 698.307 31.4117 695.283 Q35.2948 692.259 42.4881 692.259 L64.0042 692.259 L64.0042 698.148 L42.679 698.148 Q37.5546 698.148 35.072 699.962 Q32.5894 701.776 32.5894 705.5 Q32.5894 710.052 35.6131 712.693 Q38.6368 715.335 43.8567 715.335 L64.0042 715.335 L64.0042 721.223 L42.679 721.223 Q37.5228 721.223 35.072 723.038 Q32.5894 724.852 32.5894 728.639 Q32.5894 733.127 35.6449 735.769 Q38.6686 738.411 43.8567 738.411 L64.0042 738.411 L64.0042 744.299 L28.3562 744.299 L28.3562 738.411 L33.8944 738.411 Q30.616 736.406 29.0564 733.605 Q27.4968 730.804 27.4968 726.952 Q27.4968 723.069 29.4702 720.364 Q31.4436 717.627 35.1993 716.322 Z\" fill=\"#000000\" fill-rule=\"evenodd\" fill-opacity=\"1\" /><path clip-path=\"url(#clip320)\" d=\"M44.7161 650.087 L47.5806 650.087 L47.5806 677.013 Q53.6281 676.632 56.8109 673.385 Q59.9619 670.107 59.9619 664.282 Q59.9619 660.908 59.1344 657.757 Q58.3069 654.574 56.6518 651.455 L62.1899 651.455 Q63.5267 654.606 64.227 657.916 Q64.9272 661.227 64.9272 664.632 Q64.9272 673.162 59.9619 678.159 Q54.9967 683.125 46.5303 683.125 Q37.7774 683.125 32.6531 678.414 Q27.4968 673.671 27.4968 665.651 Q27.4968 658.457 32.1438 654.288 Q36.7589 650.087 44.7161 650.087 M42.9973 655.943 Q38.1912 656.007 35.3266 658.648 Q32.4621 661.258 32.4621 665.587 Q32.4621 670.489 35.2312 673.449 Q38.0002 676.377 43.0292 676.823 L42.9973 655.943 Z\" fill=\"#000000\" fill-rule=\"evenodd\" fill-opacity=\"1\" /><path clip-path=\"url(#clip320)\" d=\"M14.479 620.295 L14.479 606.8 L19.0304 606.8 L19.0304 614.439 L68.0464 614.439 L68.0464 606.8 L72.5979 606.8 L72.5979 620.295 L14.479 620.295 Z\" fill=\"#000000\" fill-rule=\"evenodd\" fill-opacity=\"1\" /><path clip-path=\"url(#clip320)\" d=\"M29.4065 571.597 L34.9447 571.597 Q33.6716 574.08 33.035 576.754 Q32.3984 579.427 32.3984 582.292 Q32.3984 586.652 33.7352 588.848 Q35.072 591.013 37.7456 591.013 Q39.7826 591.013 40.9603 589.453 Q42.1061 587.894 43.1565 583.183 L43.6021 581.178 Q44.9389 574.939 47.3897 572.329 Q49.8086 569.688 54.1691 569.688 Q59.1344 569.688 62.0308 573.634 Q64.9272 577.549 64.9272 584.424 Q64.9272 587.289 64.3543 590.408 Q63.8132 593.495 62.6992 596.933 L56.6518 596.933 Q58.3387 593.686 59.198 590.535 Q60.0256 587.384 60.0256 584.297 Q60.0256 580.159 58.6251 577.931 Q57.1929 575.703 54.6147 575.703 Q52.2276 575.703 50.9545 577.327 Q49.6813 578.918 48.5037 584.361 L48.0262 586.398 Q46.8804 591.84 44.5251 594.259 Q42.138 596.678 38.0002 596.678 Q32.9713 596.678 30.2341 593.113 Q27.4968 589.549 27.4968 582.992 Q27.4968 579.745 27.9743 576.881 Q28.4517 574.016 29.4065 571.597 Z\" fill=\"#000000\" fill-rule=\"evenodd\" fill-opacity=\"1\" /><path clip-path=\"url(#clip320)\" d=\"M14.479 546.676 L72.5979 546.676 L72.5979 560.171 L68.0464 560.171 L68.0464 552.564 L19.0304 552.564 L19.0304 560.171 L14.479 560.171 L14.479 546.676 Z\" fill=\"#000000\" fill-rule=\"evenodd\" fill-opacity=\"1\" /><polyline clip-path=\"url(#clip322)\" style=\"stroke:#008000; stroke-linecap:round; stroke-linejoin:round; stroke-width:4; stroke-opacity:1; fill:none\" points=\"279.759,1360.37 320.833,1357.31 361.906,1342.01 402.98,1331.61 444.054,1321.81 485.128,1316.31 526.202,1309.57 567.276,1305.9 608.35,1249.6 649.423,1230.01 690.497,1188.4 731.571,1162.69 772.645,1173.1 813.719,1157.19 854.793,1142.5 895.866,1127.2 936.94,1108.84 978.014,1068.45 1019.09,1043.35 1060.16,1026.22 1101.24,984.602 1142.31,942.986 1183.38,1059.88 1224.46,1037.85 1265.53,1020.1 1306.6,990.722 1347.68,953.39 1388.75,814.466 1429.83,782.642 1470.9,742.25 1511.97,706.142 1553.05,668.81 1594.12,635.762 1635.2,608.222 1676.27,551.918 1717.34,542.738 1758.42,499.898 1799.49,487.046 1840.57,458.894 1881.64,440.534 1922.71,397.694 1963.79,389.738 2004.86,356.69 2045.93,318.134 2087.01,286.922 2128.08,213.482 2169.16,201.854 2210.23,174.926 2251.3,149.834 2292.38,86.1857 \"/>\n",
       "<circle clip-path=\"url(#clip322)\" cx=\"279.759\" cy=\"1360.37\" r=\"14.4\" fill=\"#008000\" fill-rule=\"evenodd\" fill-opacity=\"1\" stroke=\"#000000\" stroke-opacity=\"1\" stroke-width=\"3.2\"/>\n",
       "<circle clip-path=\"url(#clip322)\" cx=\"320.833\" cy=\"1357.31\" r=\"14.4\" fill=\"#008000\" fill-rule=\"evenodd\" fill-opacity=\"1\" stroke=\"#000000\" stroke-opacity=\"1\" stroke-width=\"3.2\"/>\n",
       "<circle clip-path=\"url(#clip322)\" cx=\"361.906\" cy=\"1342.01\" r=\"14.4\" fill=\"#008000\" fill-rule=\"evenodd\" fill-opacity=\"1\" stroke=\"#000000\" stroke-opacity=\"1\" stroke-width=\"3.2\"/>\n",
       "<circle clip-path=\"url(#clip322)\" cx=\"402.98\" cy=\"1331.61\" r=\"14.4\" fill=\"#008000\" fill-rule=\"evenodd\" fill-opacity=\"1\" stroke=\"#000000\" stroke-opacity=\"1\" stroke-width=\"3.2\"/>\n",
       "<circle clip-path=\"url(#clip322)\" cx=\"444.054\" cy=\"1321.81\" r=\"14.4\" fill=\"#008000\" fill-rule=\"evenodd\" fill-opacity=\"1\" stroke=\"#000000\" stroke-opacity=\"1\" stroke-width=\"3.2\"/>\n",
       "<circle clip-path=\"url(#clip322)\" cx=\"485.128\" cy=\"1316.31\" r=\"14.4\" fill=\"#008000\" fill-rule=\"evenodd\" fill-opacity=\"1\" stroke=\"#000000\" stroke-opacity=\"1\" stroke-width=\"3.2\"/>\n",
       "<circle clip-path=\"url(#clip322)\" cx=\"526.202\" cy=\"1309.57\" r=\"14.4\" fill=\"#008000\" fill-rule=\"evenodd\" fill-opacity=\"1\" stroke=\"#000000\" stroke-opacity=\"1\" stroke-width=\"3.2\"/>\n",
       "<circle clip-path=\"url(#clip322)\" cx=\"567.276\" cy=\"1305.9\" r=\"14.4\" fill=\"#008000\" fill-rule=\"evenodd\" fill-opacity=\"1\" stroke=\"#000000\" stroke-opacity=\"1\" stroke-width=\"3.2\"/>\n",
       "<circle clip-path=\"url(#clip322)\" cx=\"608.35\" cy=\"1249.6\" r=\"14.4\" fill=\"#008000\" fill-rule=\"evenodd\" fill-opacity=\"1\" stroke=\"#000000\" stroke-opacity=\"1\" stroke-width=\"3.2\"/>\n",
       "<circle clip-path=\"url(#clip322)\" cx=\"649.423\" cy=\"1230.01\" r=\"14.4\" fill=\"#008000\" fill-rule=\"evenodd\" fill-opacity=\"1\" stroke=\"#000000\" stroke-opacity=\"1\" stroke-width=\"3.2\"/>\n",
       "<circle clip-path=\"url(#clip322)\" cx=\"690.497\" cy=\"1188.4\" r=\"14.4\" fill=\"#008000\" fill-rule=\"evenodd\" fill-opacity=\"1\" stroke=\"#000000\" stroke-opacity=\"1\" stroke-width=\"3.2\"/>\n",
       "<circle clip-path=\"url(#clip322)\" cx=\"731.571\" cy=\"1162.69\" r=\"14.4\" fill=\"#008000\" fill-rule=\"evenodd\" fill-opacity=\"1\" stroke=\"#000000\" stroke-opacity=\"1\" stroke-width=\"3.2\"/>\n",
       "<circle clip-path=\"url(#clip322)\" cx=\"772.645\" cy=\"1173.1\" r=\"14.4\" fill=\"#008000\" fill-rule=\"evenodd\" fill-opacity=\"1\" stroke=\"#000000\" stroke-opacity=\"1\" stroke-width=\"3.2\"/>\n",
       "<circle clip-path=\"url(#clip322)\" cx=\"813.719\" cy=\"1157.19\" r=\"14.4\" fill=\"#008000\" fill-rule=\"evenodd\" fill-opacity=\"1\" stroke=\"#000000\" stroke-opacity=\"1\" stroke-width=\"3.2\"/>\n",
       "<circle clip-path=\"url(#clip322)\" cx=\"854.793\" cy=\"1142.5\" r=\"14.4\" fill=\"#008000\" fill-rule=\"evenodd\" fill-opacity=\"1\" stroke=\"#000000\" stroke-opacity=\"1\" stroke-width=\"3.2\"/>\n",
       "<circle clip-path=\"url(#clip322)\" cx=\"895.866\" cy=\"1127.2\" r=\"14.4\" fill=\"#008000\" fill-rule=\"evenodd\" fill-opacity=\"1\" stroke=\"#000000\" stroke-opacity=\"1\" stroke-width=\"3.2\"/>\n",
       "<circle clip-path=\"url(#clip322)\" cx=\"936.94\" cy=\"1108.84\" r=\"14.4\" fill=\"#008000\" fill-rule=\"evenodd\" fill-opacity=\"1\" stroke=\"#000000\" stroke-opacity=\"1\" stroke-width=\"3.2\"/>\n",
       "<circle clip-path=\"url(#clip322)\" cx=\"978.014\" cy=\"1068.45\" r=\"14.4\" fill=\"#008000\" fill-rule=\"evenodd\" fill-opacity=\"1\" stroke=\"#000000\" stroke-opacity=\"1\" stroke-width=\"3.2\"/>\n",
       "<circle clip-path=\"url(#clip322)\" cx=\"1019.09\" cy=\"1043.35\" r=\"14.4\" fill=\"#008000\" fill-rule=\"evenodd\" fill-opacity=\"1\" stroke=\"#000000\" stroke-opacity=\"1\" stroke-width=\"3.2\"/>\n",
       "<circle clip-path=\"url(#clip322)\" cx=\"1060.16\" cy=\"1026.22\" r=\"14.4\" fill=\"#008000\" fill-rule=\"evenodd\" fill-opacity=\"1\" stroke=\"#000000\" stroke-opacity=\"1\" stroke-width=\"3.2\"/>\n",
       "<circle clip-path=\"url(#clip322)\" cx=\"1101.24\" cy=\"984.602\" r=\"14.4\" fill=\"#008000\" fill-rule=\"evenodd\" fill-opacity=\"1\" stroke=\"#000000\" stroke-opacity=\"1\" stroke-width=\"3.2\"/>\n",
       "<circle clip-path=\"url(#clip322)\" cx=\"1142.31\" cy=\"942.986\" r=\"14.4\" fill=\"#008000\" fill-rule=\"evenodd\" fill-opacity=\"1\" stroke=\"#000000\" stroke-opacity=\"1\" stroke-width=\"3.2\"/>\n",
       "<circle clip-path=\"url(#clip322)\" cx=\"1183.38\" cy=\"1059.88\" r=\"14.4\" fill=\"#008000\" fill-rule=\"evenodd\" fill-opacity=\"1\" stroke=\"#000000\" stroke-opacity=\"1\" stroke-width=\"3.2\"/>\n",
       "<circle clip-path=\"url(#clip322)\" cx=\"1224.46\" cy=\"1037.85\" r=\"14.4\" fill=\"#008000\" fill-rule=\"evenodd\" fill-opacity=\"1\" stroke=\"#000000\" stroke-opacity=\"1\" stroke-width=\"3.2\"/>\n",
       "<circle clip-path=\"url(#clip322)\" cx=\"1265.53\" cy=\"1020.1\" r=\"14.4\" fill=\"#008000\" fill-rule=\"evenodd\" fill-opacity=\"1\" stroke=\"#000000\" stroke-opacity=\"1\" stroke-width=\"3.2\"/>\n",
       "<circle clip-path=\"url(#clip322)\" cx=\"1306.6\" cy=\"990.722\" r=\"14.4\" fill=\"#008000\" fill-rule=\"evenodd\" fill-opacity=\"1\" stroke=\"#000000\" stroke-opacity=\"1\" stroke-width=\"3.2\"/>\n",
       "<circle clip-path=\"url(#clip322)\" cx=\"1347.68\" cy=\"953.39\" r=\"14.4\" fill=\"#008000\" fill-rule=\"evenodd\" fill-opacity=\"1\" stroke=\"#000000\" stroke-opacity=\"1\" stroke-width=\"3.2\"/>\n",
       "<circle clip-path=\"url(#clip322)\" cx=\"1388.75\" cy=\"814.466\" r=\"14.4\" fill=\"#008000\" fill-rule=\"evenodd\" fill-opacity=\"1\" stroke=\"#000000\" stroke-opacity=\"1\" stroke-width=\"3.2\"/>\n",
       "<circle clip-path=\"url(#clip322)\" cx=\"1429.83\" cy=\"782.642\" r=\"14.4\" fill=\"#008000\" fill-rule=\"evenodd\" fill-opacity=\"1\" stroke=\"#000000\" stroke-opacity=\"1\" stroke-width=\"3.2\"/>\n",
       "<circle clip-path=\"url(#clip322)\" cx=\"1470.9\" cy=\"742.25\" r=\"14.4\" fill=\"#008000\" fill-rule=\"evenodd\" fill-opacity=\"1\" stroke=\"#000000\" stroke-opacity=\"1\" stroke-width=\"3.2\"/>\n",
       "<circle clip-path=\"url(#clip322)\" cx=\"1511.97\" cy=\"706.142\" r=\"14.4\" fill=\"#008000\" fill-rule=\"evenodd\" fill-opacity=\"1\" stroke=\"#000000\" stroke-opacity=\"1\" stroke-width=\"3.2\"/>\n",
       "<circle clip-path=\"url(#clip322)\" cx=\"1553.05\" cy=\"668.81\" r=\"14.4\" fill=\"#008000\" fill-rule=\"evenodd\" fill-opacity=\"1\" stroke=\"#000000\" stroke-opacity=\"1\" stroke-width=\"3.2\"/>\n",
       "<circle clip-path=\"url(#clip322)\" cx=\"1594.12\" cy=\"635.762\" r=\"14.4\" fill=\"#008000\" fill-rule=\"evenodd\" fill-opacity=\"1\" stroke=\"#000000\" stroke-opacity=\"1\" stroke-width=\"3.2\"/>\n",
       "<circle clip-path=\"url(#clip322)\" cx=\"1635.2\" cy=\"608.222\" r=\"14.4\" fill=\"#008000\" fill-rule=\"evenodd\" fill-opacity=\"1\" stroke=\"#000000\" stroke-opacity=\"1\" stroke-width=\"3.2\"/>\n",
       "<circle clip-path=\"url(#clip322)\" cx=\"1676.27\" cy=\"551.918\" r=\"14.4\" fill=\"#008000\" fill-rule=\"evenodd\" fill-opacity=\"1\" stroke=\"#000000\" stroke-opacity=\"1\" stroke-width=\"3.2\"/>\n",
       "<circle clip-path=\"url(#clip322)\" cx=\"1717.34\" cy=\"542.738\" r=\"14.4\" fill=\"#008000\" fill-rule=\"evenodd\" fill-opacity=\"1\" stroke=\"#000000\" stroke-opacity=\"1\" stroke-width=\"3.2\"/>\n",
       "<circle clip-path=\"url(#clip322)\" cx=\"1758.42\" cy=\"499.898\" r=\"14.4\" fill=\"#008000\" fill-rule=\"evenodd\" fill-opacity=\"1\" stroke=\"#000000\" stroke-opacity=\"1\" stroke-width=\"3.2\"/>\n",
       "<circle clip-path=\"url(#clip322)\" cx=\"1799.49\" cy=\"487.046\" r=\"14.4\" fill=\"#008000\" fill-rule=\"evenodd\" fill-opacity=\"1\" stroke=\"#000000\" stroke-opacity=\"1\" stroke-width=\"3.2\"/>\n",
       "<circle clip-path=\"url(#clip322)\" cx=\"1840.57\" cy=\"458.894\" r=\"14.4\" fill=\"#008000\" fill-rule=\"evenodd\" fill-opacity=\"1\" stroke=\"#000000\" stroke-opacity=\"1\" stroke-width=\"3.2\"/>\n",
       "<circle clip-path=\"url(#clip322)\" cx=\"1881.64\" cy=\"440.534\" r=\"14.4\" fill=\"#008000\" fill-rule=\"evenodd\" fill-opacity=\"1\" stroke=\"#000000\" stroke-opacity=\"1\" stroke-width=\"3.2\"/>\n",
       "<circle clip-path=\"url(#clip322)\" cx=\"1922.71\" cy=\"397.694\" r=\"14.4\" fill=\"#008000\" fill-rule=\"evenodd\" fill-opacity=\"1\" stroke=\"#000000\" stroke-opacity=\"1\" stroke-width=\"3.2\"/>\n",
       "<circle clip-path=\"url(#clip322)\" cx=\"1963.79\" cy=\"389.738\" r=\"14.4\" fill=\"#008000\" fill-rule=\"evenodd\" fill-opacity=\"1\" stroke=\"#000000\" stroke-opacity=\"1\" stroke-width=\"3.2\"/>\n",
       "<circle clip-path=\"url(#clip322)\" cx=\"2004.86\" cy=\"356.69\" r=\"14.4\" fill=\"#008000\" fill-rule=\"evenodd\" fill-opacity=\"1\" stroke=\"#000000\" stroke-opacity=\"1\" stroke-width=\"3.2\"/>\n",
       "<circle clip-path=\"url(#clip322)\" cx=\"2045.93\" cy=\"318.134\" r=\"14.4\" fill=\"#008000\" fill-rule=\"evenodd\" fill-opacity=\"1\" stroke=\"#000000\" stroke-opacity=\"1\" stroke-width=\"3.2\"/>\n",
       "<circle clip-path=\"url(#clip322)\" cx=\"2087.01\" cy=\"286.922\" r=\"14.4\" fill=\"#008000\" fill-rule=\"evenodd\" fill-opacity=\"1\" stroke=\"#000000\" stroke-opacity=\"1\" stroke-width=\"3.2\"/>\n",
       "<circle clip-path=\"url(#clip322)\" cx=\"2128.08\" cy=\"213.482\" r=\"14.4\" fill=\"#008000\" fill-rule=\"evenodd\" fill-opacity=\"1\" stroke=\"#000000\" stroke-opacity=\"1\" stroke-width=\"3.2\"/>\n",
       "<circle clip-path=\"url(#clip322)\" cx=\"2169.16\" cy=\"201.854\" r=\"14.4\" fill=\"#008000\" fill-rule=\"evenodd\" fill-opacity=\"1\" stroke=\"#000000\" stroke-opacity=\"1\" stroke-width=\"3.2\"/>\n",
       "<circle clip-path=\"url(#clip322)\" cx=\"2210.23\" cy=\"174.926\" r=\"14.4\" fill=\"#008000\" fill-rule=\"evenodd\" fill-opacity=\"1\" stroke=\"#000000\" stroke-opacity=\"1\" stroke-width=\"3.2\"/>\n",
       "<circle clip-path=\"url(#clip322)\" cx=\"2251.3\" cy=\"149.834\" r=\"14.4\" fill=\"#008000\" fill-rule=\"evenodd\" fill-opacity=\"1\" stroke=\"#000000\" stroke-opacity=\"1\" stroke-width=\"3.2\"/>\n",
       "<circle clip-path=\"url(#clip322)\" cx=\"2292.38\" cy=\"86.1857\" r=\"14.4\" fill=\"#008000\" fill-rule=\"evenodd\" fill-opacity=\"1\" stroke=\"#000000\" stroke-opacity=\"1\" stroke-width=\"3.2\"/>\n",
       "<polyline clip-path=\"url(#clip322)\" style=\"stroke:#0000ff; stroke-linecap:round; stroke-linejoin:round; stroke-width:4; stroke-opacity:1; fill:none\" points=\"279.759,1368.94 320.833,1362.82 361.906,1357.31 402.98,1357.31 444.054,1364.04 485.128,1368.33 526.202,1333.44 567.276,1330.99 608.35,1331.61 649.423,1325.49 690.497,1328.55 731.571,1325.49 772.645,1328.55 813.719,1306.51 854.793,1297.95 895.866,1282.03 936.94,1305.9 978.014,1313.25 1019.09,1312.63 1060.16,1299.17 1101.24,1288.77 1142.31,1285.71 1183.38,1286.32 1224.46,1282.03 1265.53,1273.47 1306.6,1275.3 1347.68,1285.71 1388.75,1260.61 1429.83,1263.67 1470.9,1280.81 1511.97,1269.18 1553.05,1275.3 1594.12,1270.41 1635.2,1221.45 1676.27,1251.43 1717.34,1255.72 1758.42,1256.94 1799.49,1236.75 1840.57,1230.63 1881.64,1234.91 1922.71,1258.17 1963.79,1230.63 2004.86,1231.24 2045.93,1236.13 2087.01,1187.17 2128.08,1226.95 2169.16,1259.39 2210.23,1240.42 2251.3,1250.82 2292.38,1226.95 \"/>\n",
       "<line clip-path=\"url(#clip322)\" x1=\"279.759\" y1=\"1368.94\" x2=\"279.759\" y2=\"1352.94\" style=\"stroke:#0000ff; stroke-width:3.2; stroke-opacity:1\"/>\n",
       "<line clip-path=\"url(#clip322)\" x1=\"279.759\" y1=\"1368.94\" x2=\"263.759\" y2=\"1368.94\" style=\"stroke:#0000ff; stroke-width:3.2; stroke-opacity:1\"/>\n",
       "<line clip-path=\"url(#clip322)\" x1=\"279.759\" y1=\"1368.94\" x2=\"279.759\" y2=\"1384.94\" style=\"stroke:#0000ff; stroke-width:3.2; stroke-opacity:1\"/>\n",
       "<line clip-path=\"url(#clip322)\" x1=\"279.759\" y1=\"1368.94\" x2=\"295.759\" y2=\"1368.94\" style=\"stroke:#0000ff; stroke-width:3.2; stroke-opacity:1\"/>\n",
       "<line clip-path=\"url(#clip322)\" x1=\"320.833\" y1=\"1362.82\" x2=\"320.833\" y2=\"1346.82\" style=\"stroke:#0000ff; stroke-width:3.2; stroke-opacity:1\"/>\n",
       "<line clip-path=\"url(#clip322)\" x1=\"320.833\" y1=\"1362.82\" x2=\"304.833\" y2=\"1362.82\" style=\"stroke:#0000ff; stroke-width:3.2; stroke-opacity:1\"/>\n",
       "<line clip-path=\"url(#clip322)\" x1=\"320.833\" y1=\"1362.82\" x2=\"320.833\" y2=\"1378.82\" style=\"stroke:#0000ff; stroke-width:3.2; stroke-opacity:1\"/>\n",
       "<line clip-path=\"url(#clip322)\" x1=\"320.833\" y1=\"1362.82\" x2=\"336.833\" y2=\"1362.82\" style=\"stroke:#0000ff; stroke-width:3.2; stroke-opacity:1\"/>\n",
       "<line clip-path=\"url(#clip322)\" x1=\"361.906\" y1=\"1357.31\" x2=\"361.906\" y2=\"1341.31\" style=\"stroke:#0000ff; stroke-width:3.2; stroke-opacity:1\"/>\n",
       "<line clip-path=\"url(#clip322)\" x1=\"361.906\" y1=\"1357.31\" x2=\"345.906\" y2=\"1357.31\" style=\"stroke:#0000ff; stroke-width:3.2; stroke-opacity:1\"/>\n",
       "<line clip-path=\"url(#clip322)\" x1=\"361.906\" y1=\"1357.31\" x2=\"361.906\" y2=\"1373.31\" style=\"stroke:#0000ff; stroke-width:3.2; stroke-opacity:1\"/>\n",
       "<line clip-path=\"url(#clip322)\" x1=\"361.906\" y1=\"1357.31\" x2=\"377.906\" y2=\"1357.31\" style=\"stroke:#0000ff; stroke-width:3.2; stroke-opacity:1\"/>\n",
       "<line clip-path=\"url(#clip322)\" x1=\"402.98\" y1=\"1357.31\" x2=\"402.98\" y2=\"1341.31\" style=\"stroke:#0000ff; stroke-width:3.2; stroke-opacity:1\"/>\n",
       "<line clip-path=\"url(#clip322)\" x1=\"402.98\" y1=\"1357.31\" x2=\"386.98\" y2=\"1357.31\" style=\"stroke:#0000ff; stroke-width:3.2; stroke-opacity:1\"/>\n",
       "<line clip-path=\"url(#clip322)\" x1=\"402.98\" y1=\"1357.31\" x2=\"402.98\" y2=\"1373.31\" style=\"stroke:#0000ff; stroke-width:3.2; stroke-opacity:1\"/>\n",
       "<line clip-path=\"url(#clip322)\" x1=\"402.98\" y1=\"1357.31\" x2=\"418.98\" y2=\"1357.31\" style=\"stroke:#0000ff; stroke-width:3.2; stroke-opacity:1\"/>\n",
       "<line clip-path=\"url(#clip322)\" x1=\"444.054\" y1=\"1364.04\" x2=\"444.054\" y2=\"1348.04\" style=\"stroke:#0000ff; stroke-width:3.2; stroke-opacity:1\"/>\n",
       "<line clip-path=\"url(#clip322)\" x1=\"444.054\" y1=\"1364.04\" x2=\"428.054\" y2=\"1364.04\" style=\"stroke:#0000ff; stroke-width:3.2; stroke-opacity:1\"/>\n",
       "<line clip-path=\"url(#clip322)\" x1=\"444.054\" y1=\"1364.04\" x2=\"444.054\" y2=\"1380.04\" style=\"stroke:#0000ff; stroke-width:3.2; stroke-opacity:1\"/>\n",
       "<line clip-path=\"url(#clip322)\" x1=\"444.054\" y1=\"1364.04\" x2=\"460.054\" y2=\"1364.04\" style=\"stroke:#0000ff; stroke-width:3.2; stroke-opacity:1\"/>\n",
       "<line clip-path=\"url(#clip322)\" x1=\"485.128\" y1=\"1368.33\" x2=\"485.128\" y2=\"1352.33\" style=\"stroke:#0000ff; stroke-width:3.2; stroke-opacity:1\"/>\n",
       "<line clip-path=\"url(#clip322)\" x1=\"485.128\" y1=\"1368.33\" x2=\"469.128\" y2=\"1368.33\" style=\"stroke:#0000ff; stroke-width:3.2; stroke-opacity:1\"/>\n",
       "<line clip-path=\"url(#clip322)\" x1=\"485.128\" y1=\"1368.33\" x2=\"485.128\" y2=\"1384.33\" style=\"stroke:#0000ff; stroke-width:3.2; stroke-opacity:1\"/>\n",
       "<line clip-path=\"url(#clip322)\" x1=\"485.128\" y1=\"1368.33\" x2=\"501.128\" y2=\"1368.33\" style=\"stroke:#0000ff; stroke-width:3.2; stroke-opacity:1\"/>\n",
       "<line clip-path=\"url(#clip322)\" x1=\"526.202\" y1=\"1333.44\" x2=\"526.202\" y2=\"1317.44\" style=\"stroke:#0000ff; stroke-width:3.2; stroke-opacity:1\"/>\n",
       "<line clip-path=\"url(#clip322)\" x1=\"526.202\" y1=\"1333.44\" x2=\"510.202\" y2=\"1333.44\" style=\"stroke:#0000ff; stroke-width:3.2; stroke-opacity:1\"/>\n",
       "<line clip-path=\"url(#clip322)\" x1=\"526.202\" y1=\"1333.44\" x2=\"526.202\" y2=\"1349.44\" style=\"stroke:#0000ff; stroke-width:3.2; stroke-opacity:1\"/>\n",
       "<line clip-path=\"url(#clip322)\" x1=\"526.202\" y1=\"1333.44\" x2=\"542.202\" y2=\"1333.44\" style=\"stroke:#0000ff; stroke-width:3.2; stroke-opacity:1\"/>\n",
       "<line clip-path=\"url(#clip322)\" x1=\"567.276\" y1=\"1330.99\" x2=\"567.276\" y2=\"1314.99\" style=\"stroke:#0000ff; stroke-width:3.2; stroke-opacity:1\"/>\n",
       "<line clip-path=\"url(#clip322)\" x1=\"567.276\" y1=\"1330.99\" x2=\"551.276\" y2=\"1330.99\" style=\"stroke:#0000ff; stroke-width:3.2; stroke-opacity:1\"/>\n",
       "<line clip-path=\"url(#clip322)\" x1=\"567.276\" y1=\"1330.99\" x2=\"567.276\" y2=\"1346.99\" style=\"stroke:#0000ff; stroke-width:3.2; stroke-opacity:1\"/>\n",
       "<line clip-path=\"url(#clip322)\" x1=\"567.276\" y1=\"1330.99\" x2=\"583.276\" y2=\"1330.99\" style=\"stroke:#0000ff; stroke-width:3.2; stroke-opacity:1\"/>\n",
       "<line clip-path=\"url(#clip322)\" x1=\"608.35\" y1=\"1331.61\" x2=\"608.35\" y2=\"1315.61\" style=\"stroke:#0000ff; stroke-width:3.2; stroke-opacity:1\"/>\n",
       "<line clip-path=\"url(#clip322)\" x1=\"608.35\" y1=\"1331.61\" x2=\"592.35\" y2=\"1331.61\" style=\"stroke:#0000ff; stroke-width:3.2; stroke-opacity:1\"/>\n",
       "<line clip-path=\"url(#clip322)\" x1=\"608.35\" y1=\"1331.61\" x2=\"608.35\" y2=\"1347.61\" style=\"stroke:#0000ff; stroke-width:3.2; stroke-opacity:1\"/>\n",
       "<line clip-path=\"url(#clip322)\" x1=\"608.35\" y1=\"1331.61\" x2=\"624.35\" y2=\"1331.61\" style=\"stroke:#0000ff; stroke-width:3.2; stroke-opacity:1\"/>\n",
       "<line clip-path=\"url(#clip322)\" x1=\"649.423\" y1=\"1325.49\" x2=\"649.423\" y2=\"1309.49\" style=\"stroke:#0000ff; stroke-width:3.2; stroke-opacity:1\"/>\n",
       "<line clip-path=\"url(#clip322)\" x1=\"649.423\" y1=\"1325.49\" x2=\"633.423\" y2=\"1325.49\" style=\"stroke:#0000ff; stroke-width:3.2; stroke-opacity:1\"/>\n",
       "<line clip-path=\"url(#clip322)\" x1=\"649.423\" y1=\"1325.49\" x2=\"649.423\" y2=\"1341.49\" style=\"stroke:#0000ff; stroke-width:3.2; stroke-opacity:1\"/>\n",
       "<line clip-path=\"url(#clip322)\" x1=\"649.423\" y1=\"1325.49\" x2=\"665.423\" y2=\"1325.49\" style=\"stroke:#0000ff; stroke-width:3.2; stroke-opacity:1\"/>\n",
       "<line clip-path=\"url(#clip322)\" x1=\"690.497\" y1=\"1328.55\" x2=\"690.497\" y2=\"1312.55\" style=\"stroke:#0000ff; stroke-width:3.2; stroke-opacity:1\"/>\n",
       "<line clip-path=\"url(#clip322)\" x1=\"690.497\" y1=\"1328.55\" x2=\"674.497\" y2=\"1328.55\" style=\"stroke:#0000ff; stroke-width:3.2; stroke-opacity:1\"/>\n",
       "<line clip-path=\"url(#clip322)\" x1=\"690.497\" y1=\"1328.55\" x2=\"690.497\" y2=\"1344.55\" style=\"stroke:#0000ff; stroke-width:3.2; stroke-opacity:1\"/>\n",
       "<line clip-path=\"url(#clip322)\" x1=\"690.497\" y1=\"1328.55\" x2=\"706.497\" y2=\"1328.55\" style=\"stroke:#0000ff; stroke-width:3.2; stroke-opacity:1\"/>\n",
       "<line clip-path=\"url(#clip322)\" x1=\"731.571\" y1=\"1325.49\" x2=\"731.571\" y2=\"1309.49\" style=\"stroke:#0000ff; stroke-width:3.2; stroke-opacity:1\"/>\n",
       "<line clip-path=\"url(#clip322)\" x1=\"731.571\" y1=\"1325.49\" x2=\"715.571\" y2=\"1325.49\" style=\"stroke:#0000ff; stroke-width:3.2; stroke-opacity:1\"/>\n",
       "<line clip-path=\"url(#clip322)\" x1=\"731.571\" y1=\"1325.49\" x2=\"731.571\" y2=\"1341.49\" style=\"stroke:#0000ff; stroke-width:3.2; stroke-opacity:1\"/>\n",
       "<line clip-path=\"url(#clip322)\" x1=\"731.571\" y1=\"1325.49\" x2=\"747.571\" y2=\"1325.49\" style=\"stroke:#0000ff; stroke-width:3.2; stroke-opacity:1\"/>\n",
       "<line clip-path=\"url(#clip322)\" x1=\"772.645\" y1=\"1328.55\" x2=\"772.645\" y2=\"1312.55\" style=\"stroke:#0000ff; stroke-width:3.2; stroke-opacity:1\"/>\n",
       "<line clip-path=\"url(#clip322)\" x1=\"772.645\" y1=\"1328.55\" x2=\"756.645\" y2=\"1328.55\" style=\"stroke:#0000ff; stroke-width:3.2; stroke-opacity:1\"/>\n",
       "<line clip-path=\"url(#clip322)\" x1=\"772.645\" y1=\"1328.55\" x2=\"772.645\" y2=\"1344.55\" style=\"stroke:#0000ff; stroke-width:3.2; stroke-opacity:1\"/>\n",
       "<line clip-path=\"url(#clip322)\" x1=\"772.645\" y1=\"1328.55\" x2=\"788.645\" y2=\"1328.55\" style=\"stroke:#0000ff; stroke-width:3.2; stroke-opacity:1\"/>\n",
       "<line clip-path=\"url(#clip322)\" x1=\"813.719\" y1=\"1306.51\" x2=\"813.719\" y2=\"1290.51\" style=\"stroke:#0000ff; stroke-width:3.2; stroke-opacity:1\"/>\n",
       "<line clip-path=\"url(#clip322)\" x1=\"813.719\" y1=\"1306.51\" x2=\"797.719\" y2=\"1306.51\" style=\"stroke:#0000ff; stroke-width:3.2; stroke-opacity:1\"/>\n",
       "<line clip-path=\"url(#clip322)\" x1=\"813.719\" y1=\"1306.51\" x2=\"813.719\" y2=\"1322.51\" style=\"stroke:#0000ff; stroke-width:3.2; stroke-opacity:1\"/>\n",
       "<line clip-path=\"url(#clip322)\" x1=\"813.719\" y1=\"1306.51\" x2=\"829.719\" y2=\"1306.51\" style=\"stroke:#0000ff; stroke-width:3.2; stroke-opacity:1\"/>\n",
       "<line clip-path=\"url(#clip322)\" x1=\"854.793\" y1=\"1297.95\" x2=\"854.793\" y2=\"1281.95\" style=\"stroke:#0000ff; stroke-width:3.2; stroke-opacity:1\"/>\n",
       "<line clip-path=\"url(#clip322)\" x1=\"854.793\" y1=\"1297.95\" x2=\"838.793\" y2=\"1297.95\" style=\"stroke:#0000ff; stroke-width:3.2; stroke-opacity:1\"/>\n",
       "<line clip-path=\"url(#clip322)\" x1=\"854.793\" y1=\"1297.95\" x2=\"854.793\" y2=\"1313.95\" style=\"stroke:#0000ff; stroke-width:3.2; stroke-opacity:1\"/>\n",
       "<line clip-path=\"url(#clip322)\" x1=\"854.793\" y1=\"1297.95\" x2=\"870.793\" y2=\"1297.95\" style=\"stroke:#0000ff; stroke-width:3.2; stroke-opacity:1\"/>\n",
       "<line clip-path=\"url(#clip322)\" x1=\"895.866\" y1=\"1282.03\" x2=\"895.866\" y2=\"1266.03\" style=\"stroke:#0000ff; stroke-width:3.2; stroke-opacity:1\"/>\n",
       "<line clip-path=\"url(#clip322)\" x1=\"895.866\" y1=\"1282.03\" x2=\"879.866\" y2=\"1282.03\" style=\"stroke:#0000ff; stroke-width:3.2; stroke-opacity:1\"/>\n",
       "<line clip-path=\"url(#clip322)\" x1=\"895.866\" y1=\"1282.03\" x2=\"895.866\" y2=\"1298.03\" style=\"stroke:#0000ff; stroke-width:3.2; stroke-opacity:1\"/>\n",
       "<line clip-path=\"url(#clip322)\" x1=\"895.866\" y1=\"1282.03\" x2=\"911.866\" y2=\"1282.03\" style=\"stroke:#0000ff; stroke-width:3.2; stroke-opacity:1\"/>\n",
       "<line clip-path=\"url(#clip322)\" x1=\"936.94\" y1=\"1305.9\" x2=\"936.94\" y2=\"1289.9\" style=\"stroke:#0000ff; stroke-width:3.2; stroke-opacity:1\"/>\n",
       "<line clip-path=\"url(#clip322)\" x1=\"936.94\" y1=\"1305.9\" x2=\"920.94\" y2=\"1305.9\" style=\"stroke:#0000ff; stroke-width:3.2; stroke-opacity:1\"/>\n",
       "<line clip-path=\"url(#clip322)\" x1=\"936.94\" y1=\"1305.9\" x2=\"936.94\" y2=\"1321.9\" style=\"stroke:#0000ff; stroke-width:3.2; stroke-opacity:1\"/>\n",
       "<line clip-path=\"url(#clip322)\" x1=\"936.94\" y1=\"1305.9\" x2=\"952.94\" y2=\"1305.9\" style=\"stroke:#0000ff; stroke-width:3.2; stroke-opacity:1\"/>\n",
       "<line clip-path=\"url(#clip322)\" x1=\"978.014\" y1=\"1313.25\" x2=\"978.014\" y2=\"1297.25\" style=\"stroke:#0000ff; stroke-width:3.2; stroke-opacity:1\"/>\n",
       "<line clip-path=\"url(#clip322)\" x1=\"978.014\" y1=\"1313.25\" x2=\"962.014\" y2=\"1313.25\" style=\"stroke:#0000ff; stroke-width:3.2; stroke-opacity:1\"/>\n",
       "<line clip-path=\"url(#clip322)\" x1=\"978.014\" y1=\"1313.25\" x2=\"978.014\" y2=\"1329.25\" style=\"stroke:#0000ff; stroke-width:3.2; stroke-opacity:1\"/>\n",
       "<line clip-path=\"url(#clip322)\" x1=\"978.014\" y1=\"1313.25\" x2=\"994.014\" y2=\"1313.25\" style=\"stroke:#0000ff; stroke-width:3.2; stroke-opacity:1\"/>\n",
       "<line clip-path=\"url(#clip322)\" x1=\"1019.09\" y1=\"1312.63\" x2=\"1019.09\" y2=\"1296.63\" style=\"stroke:#0000ff; stroke-width:3.2; stroke-opacity:1\"/>\n",
       "<line clip-path=\"url(#clip322)\" x1=\"1019.09\" y1=\"1312.63\" x2=\"1003.09\" y2=\"1312.63\" style=\"stroke:#0000ff; stroke-width:3.2; stroke-opacity:1\"/>\n",
       "<line clip-path=\"url(#clip322)\" x1=\"1019.09\" y1=\"1312.63\" x2=\"1019.09\" y2=\"1328.63\" style=\"stroke:#0000ff; stroke-width:3.2; stroke-opacity:1\"/>\n",
       "<line clip-path=\"url(#clip322)\" x1=\"1019.09\" y1=\"1312.63\" x2=\"1035.09\" y2=\"1312.63\" style=\"stroke:#0000ff; stroke-width:3.2; stroke-opacity:1\"/>\n",
       "<line clip-path=\"url(#clip322)\" x1=\"1060.16\" y1=\"1299.17\" x2=\"1060.16\" y2=\"1283.17\" style=\"stroke:#0000ff; stroke-width:3.2; stroke-opacity:1\"/>\n",
       "<line clip-path=\"url(#clip322)\" x1=\"1060.16\" y1=\"1299.17\" x2=\"1044.16\" y2=\"1299.17\" style=\"stroke:#0000ff; stroke-width:3.2; stroke-opacity:1\"/>\n",
       "<line clip-path=\"url(#clip322)\" x1=\"1060.16\" y1=\"1299.17\" x2=\"1060.16\" y2=\"1315.17\" style=\"stroke:#0000ff; stroke-width:3.2; stroke-opacity:1\"/>\n",
       "<line clip-path=\"url(#clip322)\" x1=\"1060.16\" y1=\"1299.17\" x2=\"1076.16\" y2=\"1299.17\" style=\"stroke:#0000ff; stroke-width:3.2; stroke-opacity:1\"/>\n",
       "<line clip-path=\"url(#clip322)\" x1=\"1101.24\" y1=\"1288.77\" x2=\"1101.24\" y2=\"1272.77\" style=\"stroke:#0000ff; stroke-width:3.2; stroke-opacity:1\"/>\n",
       "<line clip-path=\"url(#clip322)\" x1=\"1101.24\" y1=\"1288.77\" x2=\"1085.24\" y2=\"1288.77\" style=\"stroke:#0000ff; stroke-width:3.2; stroke-opacity:1\"/>\n",
       "<line clip-path=\"url(#clip322)\" x1=\"1101.24\" y1=\"1288.77\" x2=\"1101.24\" y2=\"1304.77\" style=\"stroke:#0000ff; stroke-width:3.2; stroke-opacity:1\"/>\n",
       "<line clip-path=\"url(#clip322)\" x1=\"1101.24\" y1=\"1288.77\" x2=\"1117.24\" y2=\"1288.77\" style=\"stroke:#0000ff; stroke-width:3.2; stroke-opacity:1\"/>\n",
       "<line clip-path=\"url(#clip322)\" x1=\"1142.31\" y1=\"1285.71\" x2=\"1142.31\" y2=\"1269.71\" style=\"stroke:#0000ff; stroke-width:3.2; stroke-opacity:1\"/>\n",
       "<line clip-path=\"url(#clip322)\" x1=\"1142.31\" y1=\"1285.71\" x2=\"1126.31\" y2=\"1285.71\" style=\"stroke:#0000ff; stroke-width:3.2; stroke-opacity:1\"/>\n",
       "<line clip-path=\"url(#clip322)\" x1=\"1142.31\" y1=\"1285.71\" x2=\"1142.31\" y2=\"1301.71\" style=\"stroke:#0000ff; stroke-width:3.2; stroke-opacity:1\"/>\n",
       "<line clip-path=\"url(#clip322)\" x1=\"1142.31\" y1=\"1285.71\" x2=\"1158.31\" y2=\"1285.71\" style=\"stroke:#0000ff; stroke-width:3.2; stroke-opacity:1\"/>\n",
       "<line clip-path=\"url(#clip322)\" x1=\"1183.38\" y1=\"1286.32\" x2=\"1183.38\" y2=\"1270.32\" style=\"stroke:#0000ff; stroke-width:3.2; stroke-opacity:1\"/>\n",
       "<line clip-path=\"url(#clip322)\" x1=\"1183.38\" y1=\"1286.32\" x2=\"1167.38\" y2=\"1286.32\" style=\"stroke:#0000ff; stroke-width:3.2; stroke-opacity:1\"/>\n",
       "<line clip-path=\"url(#clip322)\" x1=\"1183.38\" y1=\"1286.32\" x2=\"1183.38\" y2=\"1302.32\" style=\"stroke:#0000ff; stroke-width:3.2; stroke-opacity:1\"/>\n",
       "<line clip-path=\"url(#clip322)\" x1=\"1183.38\" y1=\"1286.32\" x2=\"1199.38\" y2=\"1286.32\" style=\"stroke:#0000ff; stroke-width:3.2; stroke-opacity:1\"/>\n",
       "<line clip-path=\"url(#clip322)\" x1=\"1224.46\" y1=\"1282.03\" x2=\"1224.46\" y2=\"1266.03\" style=\"stroke:#0000ff; stroke-width:3.2; stroke-opacity:1\"/>\n",
       "<line clip-path=\"url(#clip322)\" x1=\"1224.46\" y1=\"1282.03\" x2=\"1208.46\" y2=\"1282.03\" style=\"stroke:#0000ff; stroke-width:3.2; stroke-opacity:1\"/>\n",
       "<line clip-path=\"url(#clip322)\" x1=\"1224.46\" y1=\"1282.03\" x2=\"1224.46\" y2=\"1298.03\" style=\"stroke:#0000ff; stroke-width:3.2; stroke-opacity:1\"/>\n",
       "<line clip-path=\"url(#clip322)\" x1=\"1224.46\" y1=\"1282.03\" x2=\"1240.46\" y2=\"1282.03\" style=\"stroke:#0000ff; stroke-width:3.2; stroke-opacity:1\"/>\n",
       "<line clip-path=\"url(#clip322)\" x1=\"1265.53\" y1=\"1273.47\" x2=\"1265.53\" y2=\"1257.47\" style=\"stroke:#0000ff; stroke-width:3.2; stroke-opacity:1\"/>\n",
       "<line clip-path=\"url(#clip322)\" x1=\"1265.53\" y1=\"1273.47\" x2=\"1249.53\" y2=\"1273.47\" style=\"stroke:#0000ff; stroke-width:3.2; stroke-opacity:1\"/>\n",
       "<line clip-path=\"url(#clip322)\" x1=\"1265.53\" y1=\"1273.47\" x2=\"1265.53\" y2=\"1289.47\" style=\"stroke:#0000ff; stroke-width:3.2; stroke-opacity:1\"/>\n",
       "<line clip-path=\"url(#clip322)\" x1=\"1265.53\" y1=\"1273.47\" x2=\"1281.53\" y2=\"1273.47\" style=\"stroke:#0000ff; stroke-width:3.2; stroke-opacity:1\"/>\n",
       "<line clip-path=\"url(#clip322)\" x1=\"1306.6\" y1=\"1275.3\" x2=\"1306.6\" y2=\"1259.3\" style=\"stroke:#0000ff; stroke-width:3.2; stroke-opacity:1\"/>\n",
       "<line clip-path=\"url(#clip322)\" x1=\"1306.6\" y1=\"1275.3\" x2=\"1290.6\" y2=\"1275.3\" style=\"stroke:#0000ff; stroke-width:3.2; stroke-opacity:1\"/>\n",
       "<line clip-path=\"url(#clip322)\" x1=\"1306.6\" y1=\"1275.3\" x2=\"1306.6\" y2=\"1291.3\" style=\"stroke:#0000ff; stroke-width:3.2; stroke-opacity:1\"/>\n",
       "<line clip-path=\"url(#clip322)\" x1=\"1306.6\" y1=\"1275.3\" x2=\"1322.6\" y2=\"1275.3\" style=\"stroke:#0000ff; stroke-width:3.2; stroke-opacity:1\"/>\n",
       "<line clip-path=\"url(#clip322)\" x1=\"1347.68\" y1=\"1285.71\" x2=\"1347.68\" y2=\"1269.71\" style=\"stroke:#0000ff; stroke-width:3.2; stroke-opacity:1\"/>\n",
       "<line clip-path=\"url(#clip322)\" x1=\"1347.68\" y1=\"1285.71\" x2=\"1331.68\" y2=\"1285.71\" style=\"stroke:#0000ff; stroke-width:3.2; stroke-opacity:1\"/>\n",
       "<line clip-path=\"url(#clip322)\" x1=\"1347.68\" y1=\"1285.71\" x2=\"1347.68\" y2=\"1301.71\" style=\"stroke:#0000ff; stroke-width:3.2; stroke-opacity:1\"/>\n",
       "<line clip-path=\"url(#clip322)\" x1=\"1347.68\" y1=\"1285.71\" x2=\"1363.68\" y2=\"1285.71\" style=\"stroke:#0000ff; stroke-width:3.2; stroke-opacity:1\"/>\n",
       "<line clip-path=\"url(#clip322)\" x1=\"1388.75\" y1=\"1260.61\" x2=\"1388.75\" y2=\"1244.61\" style=\"stroke:#0000ff; stroke-width:3.2; stroke-opacity:1\"/>\n",
       "<line clip-path=\"url(#clip322)\" x1=\"1388.75\" y1=\"1260.61\" x2=\"1372.75\" y2=\"1260.61\" style=\"stroke:#0000ff; stroke-width:3.2; stroke-opacity:1\"/>\n",
       "<line clip-path=\"url(#clip322)\" x1=\"1388.75\" y1=\"1260.61\" x2=\"1388.75\" y2=\"1276.61\" style=\"stroke:#0000ff; stroke-width:3.2; stroke-opacity:1\"/>\n",
       "<line clip-path=\"url(#clip322)\" x1=\"1388.75\" y1=\"1260.61\" x2=\"1404.75\" y2=\"1260.61\" style=\"stroke:#0000ff; stroke-width:3.2; stroke-opacity:1\"/>\n",
       "<line clip-path=\"url(#clip322)\" x1=\"1429.83\" y1=\"1263.67\" x2=\"1429.83\" y2=\"1247.67\" style=\"stroke:#0000ff; stroke-width:3.2; stroke-opacity:1\"/>\n",
       "<line clip-path=\"url(#clip322)\" x1=\"1429.83\" y1=\"1263.67\" x2=\"1413.83\" y2=\"1263.67\" style=\"stroke:#0000ff; stroke-width:3.2; stroke-opacity:1\"/>\n",
       "<line clip-path=\"url(#clip322)\" x1=\"1429.83\" y1=\"1263.67\" x2=\"1429.83\" y2=\"1279.67\" style=\"stroke:#0000ff; stroke-width:3.2; stroke-opacity:1\"/>\n",
       "<line clip-path=\"url(#clip322)\" x1=\"1429.83\" y1=\"1263.67\" x2=\"1445.83\" y2=\"1263.67\" style=\"stroke:#0000ff; stroke-width:3.2; stroke-opacity:1\"/>\n",
       "<line clip-path=\"url(#clip322)\" x1=\"1470.9\" y1=\"1280.81\" x2=\"1470.9\" y2=\"1264.81\" style=\"stroke:#0000ff; stroke-width:3.2; stroke-opacity:1\"/>\n",
       "<line clip-path=\"url(#clip322)\" x1=\"1470.9\" y1=\"1280.81\" x2=\"1454.9\" y2=\"1280.81\" style=\"stroke:#0000ff; stroke-width:3.2; stroke-opacity:1\"/>\n",
       "<line clip-path=\"url(#clip322)\" x1=\"1470.9\" y1=\"1280.81\" x2=\"1470.9\" y2=\"1296.81\" style=\"stroke:#0000ff; stroke-width:3.2; stroke-opacity:1\"/>\n",
       "<line clip-path=\"url(#clip322)\" x1=\"1470.9\" y1=\"1280.81\" x2=\"1486.9\" y2=\"1280.81\" style=\"stroke:#0000ff; stroke-width:3.2; stroke-opacity:1\"/>\n",
       "<line clip-path=\"url(#clip322)\" x1=\"1511.97\" y1=\"1269.18\" x2=\"1511.97\" y2=\"1253.18\" style=\"stroke:#0000ff; stroke-width:3.2; stroke-opacity:1\"/>\n",
       "<line clip-path=\"url(#clip322)\" x1=\"1511.97\" y1=\"1269.18\" x2=\"1495.97\" y2=\"1269.18\" style=\"stroke:#0000ff; stroke-width:3.2; stroke-opacity:1\"/>\n",
       "<line clip-path=\"url(#clip322)\" x1=\"1511.97\" y1=\"1269.18\" x2=\"1511.97\" y2=\"1285.18\" style=\"stroke:#0000ff; stroke-width:3.2; stroke-opacity:1\"/>\n",
       "<line clip-path=\"url(#clip322)\" x1=\"1511.97\" y1=\"1269.18\" x2=\"1527.97\" y2=\"1269.18\" style=\"stroke:#0000ff; stroke-width:3.2; stroke-opacity:1\"/>\n",
       "<line clip-path=\"url(#clip322)\" x1=\"1553.05\" y1=\"1275.3\" x2=\"1553.05\" y2=\"1259.3\" style=\"stroke:#0000ff; stroke-width:3.2; stroke-opacity:1\"/>\n",
       "<line clip-path=\"url(#clip322)\" x1=\"1553.05\" y1=\"1275.3\" x2=\"1537.05\" y2=\"1275.3\" style=\"stroke:#0000ff; stroke-width:3.2; stroke-opacity:1\"/>\n",
       "<line clip-path=\"url(#clip322)\" x1=\"1553.05\" y1=\"1275.3\" x2=\"1553.05\" y2=\"1291.3\" style=\"stroke:#0000ff; stroke-width:3.2; stroke-opacity:1\"/>\n",
       "<line clip-path=\"url(#clip322)\" x1=\"1553.05\" y1=\"1275.3\" x2=\"1569.05\" y2=\"1275.3\" style=\"stroke:#0000ff; stroke-width:3.2; stroke-opacity:1\"/>\n",
       "<line clip-path=\"url(#clip322)\" x1=\"1594.12\" y1=\"1270.41\" x2=\"1594.12\" y2=\"1254.41\" style=\"stroke:#0000ff; stroke-width:3.2; stroke-opacity:1\"/>\n",
       "<line clip-path=\"url(#clip322)\" x1=\"1594.12\" y1=\"1270.41\" x2=\"1578.12\" y2=\"1270.41\" style=\"stroke:#0000ff; stroke-width:3.2; stroke-opacity:1\"/>\n",
       "<line clip-path=\"url(#clip322)\" x1=\"1594.12\" y1=\"1270.41\" x2=\"1594.12\" y2=\"1286.41\" style=\"stroke:#0000ff; stroke-width:3.2; stroke-opacity:1\"/>\n",
       "<line clip-path=\"url(#clip322)\" x1=\"1594.12\" y1=\"1270.41\" x2=\"1610.12\" y2=\"1270.41\" style=\"stroke:#0000ff; stroke-width:3.2; stroke-opacity:1\"/>\n",
       "<line clip-path=\"url(#clip322)\" x1=\"1635.2\" y1=\"1221.45\" x2=\"1635.2\" y2=\"1205.45\" style=\"stroke:#0000ff; stroke-width:3.2; stroke-opacity:1\"/>\n",
       "<line clip-path=\"url(#clip322)\" x1=\"1635.2\" y1=\"1221.45\" x2=\"1619.2\" y2=\"1221.45\" style=\"stroke:#0000ff; stroke-width:3.2; stroke-opacity:1\"/>\n",
       "<line clip-path=\"url(#clip322)\" x1=\"1635.2\" y1=\"1221.45\" x2=\"1635.2\" y2=\"1237.45\" style=\"stroke:#0000ff; stroke-width:3.2; stroke-opacity:1\"/>\n",
       "<line clip-path=\"url(#clip322)\" x1=\"1635.2\" y1=\"1221.45\" x2=\"1651.2\" y2=\"1221.45\" style=\"stroke:#0000ff; stroke-width:3.2; stroke-opacity:1\"/>\n",
       "<line clip-path=\"url(#clip322)\" x1=\"1676.27\" y1=\"1251.43\" x2=\"1676.27\" y2=\"1235.43\" style=\"stroke:#0000ff; stroke-width:3.2; stroke-opacity:1\"/>\n",
       "<line clip-path=\"url(#clip322)\" x1=\"1676.27\" y1=\"1251.43\" x2=\"1660.27\" y2=\"1251.43\" style=\"stroke:#0000ff; stroke-width:3.2; stroke-opacity:1\"/>\n",
       "<line clip-path=\"url(#clip322)\" x1=\"1676.27\" y1=\"1251.43\" x2=\"1676.27\" y2=\"1267.43\" style=\"stroke:#0000ff; stroke-width:3.2; stroke-opacity:1\"/>\n",
       "<line clip-path=\"url(#clip322)\" x1=\"1676.27\" y1=\"1251.43\" x2=\"1692.27\" y2=\"1251.43\" style=\"stroke:#0000ff; stroke-width:3.2; stroke-opacity:1\"/>\n",
       "<line clip-path=\"url(#clip322)\" x1=\"1717.34\" y1=\"1255.72\" x2=\"1717.34\" y2=\"1239.72\" style=\"stroke:#0000ff; stroke-width:3.2; stroke-opacity:1\"/>\n",
       "<line clip-path=\"url(#clip322)\" x1=\"1717.34\" y1=\"1255.72\" x2=\"1701.34\" y2=\"1255.72\" style=\"stroke:#0000ff; stroke-width:3.2; stroke-opacity:1\"/>\n",
       "<line clip-path=\"url(#clip322)\" x1=\"1717.34\" y1=\"1255.72\" x2=\"1717.34\" y2=\"1271.72\" style=\"stroke:#0000ff; stroke-width:3.2; stroke-opacity:1\"/>\n",
       "<line clip-path=\"url(#clip322)\" x1=\"1717.34\" y1=\"1255.72\" x2=\"1733.34\" y2=\"1255.72\" style=\"stroke:#0000ff; stroke-width:3.2; stroke-opacity:1\"/>\n",
       "<line clip-path=\"url(#clip322)\" x1=\"1758.42\" y1=\"1256.94\" x2=\"1758.42\" y2=\"1240.94\" style=\"stroke:#0000ff; stroke-width:3.2; stroke-opacity:1\"/>\n",
       "<line clip-path=\"url(#clip322)\" x1=\"1758.42\" y1=\"1256.94\" x2=\"1742.42\" y2=\"1256.94\" style=\"stroke:#0000ff; stroke-width:3.2; stroke-opacity:1\"/>\n",
       "<line clip-path=\"url(#clip322)\" x1=\"1758.42\" y1=\"1256.94\" x2=\"1758.42\" y2=\"1272.94\" style=\"stroke:#0000ff; stroke-width:3.2; stroke-opacity:1\"/>\n",
       "<line clip-path=\"url(#clip322)\" x1=\"1758.42\" y1=\"1256.94\" x2=\"1774.42\" y2=\"1256.94\" style=\"stroke:#0000ff; stroke-width:3.2; stroke-opacity:1\"/>\n",
       "<line clip-path=\"url(#clip322)\" x1=\"1799.49\" y1=\"1236.75\" x2=\"1799.49\" y2=\"1220.75\" style=\"stroke:#0000ff; stroke-width:3.2; stroke-opacity:1\"/>\n",
       "<line clip-path=\"url(#clip322)\" x1=\"1799.49\" y1=\"1236.75\" x2=\"1783.49\" y2=\"1236.75\" style=\"stroke:#0000ff; stroke-width:3.2; stroke-opacity:1\"/>\n",
       "<line clip-path=\"url(#clip322)\" x1=\"1799.49\" y1=\"1236.75\" x2=\"1799.49\" y2=\"1252.75\" style=\"stroke:#0000ff; stroke-width:3.2; stroke-opacity:1\"/>\n",
       "<line clip-path=\"url(#clip322)\" x1=\"1799.49\" y1=\"1236.75\" x2=\"1815.49\" y2=\"1236.75\" style=\"stroke:#0000ff; stroke-width:3.2; stroke-opacity:1\"/>\n",
       "<line clip-path=\"url(#clip322)\" x1=\"1840.57\" y1=\"1230.63\" x2=\"1840.57\" y2=\"1214.63\" style=\"stroke:#0000ff; stroke-width:3.2; stroke-opacity:1\"/>\n",
       "<line clip-path=\"url(#clip322)\" x1=\"1840.57\" y1=\"1230.63\" x2=\"1824.57\" y2=\"1230.63\" style=\"stroke:#0000ff; stroke-width:3.2; stroke-opacity:1\"/>\n",
       "<line clip-path=\"url(#clip322)\" x1=\"1840.57\" y1=\"1230.63\" x2=\"1840.57\" y2=\"1246.63\" style=\"stroke:#0000ff; stroke-width:3.2; stroke-opacity:1\"/>\n",
       "<line clip-path=\"url(#clip322)\" x1=\"1840.57\" y1=\"1230.63\" x2=\"1856.57\" y2=\"1230.63\" style=\"stroke:#0000ff; stroke-width:3.2; stroke-opacity:1\"/>\n",
       "<line clip-path=\"url(#clip322)\" x1=\"1881.64\" y1=\"1234.91\" x2=\"1881.64\" y2=\"1218.91\" style=\"stroke:#0000ff; stroke-width:3.2; stroke-opacity:1\"/>\n",
       "<line clip-path=\"url(#clip322)\" x1=\"1881.64\" y1=\"1234.91\" x2=\"1865.64\" y2=\"1234.91\" style=\"stroke:#0000ff; stroke-width:3.2; stroke-opacity:1\"/>\n",
       "<line clip-path=\"url(#clip322)\" x1=\"1881.64\" y1=\"1234.91\" x2=\"1881.64\" y2=\"1250.91\" style=\"stroke:#0000ff; stroke-width:3.2; stroke-opacity:1\"/>\n",
       "<line clip-path=\"url(#clip322)\" x1=\"1881.64\" y1=\"1234.91\" x2=\"1897.64\" y2=\"1234.91\" style=\"stroke:#0000ff; stroke-width:3.2; stroke-opacity:1\"/>\n",
       "<line clip-path=\"url(#clip322)\" x1=\"1922.71\" y1=\"1258.17\" x2=\"1922.71\" y2=\"1242.17\" style=\"stroke:#0000ff; stroke-width:3.2; stroke-opacity:1\"/>\n",
       "<line clip-path=\"url(#clip322)\" x1=\"1922.71\" y1=\"1258.17\" x2=\"1906.71\" y2=\"1258.17\" style=\"stroke:#0000ff; stroke-width:3.2; stroke-opacity:1\"/>\n",
       "<line clip-path=\"url(#clip322)\" x1=\"1922.71\" y1=\"1258.17\" x2=\"1922.71\" y2=\"1274.17\" style=\"stroke:#0000ff; stroke-width:3.2; stroke-opacity:1\"/>\n",
       "<line clip-path=\"url(#clip322)\" x1=\"1922.71\" y1=\"1258.17\" x2=\"1938.71\" y2=\"1258.17\" style=\"stroke:#0000ff; stroke-width:3.2; stroke-opacity:1\"/>\n",
       "<line clip-path=\"url(#clip322)\" x1=\"1963.79\" y1=\"1230.63\" x2=\"1963.79\" y2=\"1214.63\" style=\"stroke:#0000ff; stroke-width:3.2; stroke-opacity:1\"/>\n",
       "<line clip-path=\"url(#clip322)\" x1=\"1963.79\" y1=\"1230.63\" x2=\"1947.79\" y2=\"1230.63\" style=\"stroke:#0000ff; stroke-width:3.2; stroke-opacity:1\"/>\n",
       "<line clip-path=\"url(#clip322)\" x1=\"1963.79\" y1=\"1230.63\" x2=\"1963.79\" y2=\"1246.63\" style=\"stroke:#0000ff; stroke-width:3.2; stroke-opacity:1\"/>\n",
       "<line clip-path=\"url(#clip322)\" x1=\"1963.79\" y1=\"1230.63\" x2=\"1979.79\" y2=\"1230.63\" style=\"stroke:#0000ff; stroke-width:3.2; stroke-opacity:1\"/>\n",
       "<line clip-path=\"url(#clip322)\" x1=\"2004.86\" y1=\"1231.24\" x2=\"2004.86\" y2=\"1215.24\" style=\"stroke:#0000ff; stroke-width:3.2; stroke-opacity:1\"/>\n",
       "<line clip-path=\"url(#clip322)\" x1=\"2004.86\" y1=\"1231.24\" x2=\"1988.86\" y2=\"1231.24\" style=\"stroke:#0000ff; stroke-width:3.2; stroke-opacity:1\"/>\n",
       "<line clip-path=\"url(#clip322)\" x1=\"2004.86\" y1=\"1231.24\" x2=\"2004.86\" y2=\"1247.24\" style=\"stroke:#0000ff; stroke-width:3.2; stroke-opacity:1\"/>\n",
       "<line clip-path=\"url(#clip322)\" x1=\"2004.86\" y1=\"1231.24\" x2=\"2020.86\" y2=\"1231.24\" style=\"stroke:#0000ff; stroke-width:3.2; stroke-opacity:1\"/>\n",
       "<line clip-path=\"url(#clip322)\" x1=\"2045.93\" y1=\"1236.13\" x2=\"2045.93\" y2=\"1220.13\" style=\"stroke:#0000ff; stroke-width:3.2; stroke-opacity:1\"/>\n",
       "<line clip-path=\"url(#clip322)\" x1=\"2045.93\" y1=\"1236.13\" x2=\"2029.93\" y2=\"1236.13\" style=\"stroke:#0000ff; stroke-width:3.2; stroke-opacity:1\"/>\n",
       "<line clip-path=\"url(#clip322)\" x1=\"2045.93\" y1=\"1236.13\" x2=\"2045.93\" y2=\"1252.13\" style=\"stroke:#0000ff; stroke-width:3.2; stroke-opacity:1\"/>\n",
       "<line clip-path=\"url(#clip322)\" x1=\"2045.93\" y1=\"1236.13\" x2=\"2061.93\" y2=\"1236.13\" style=\"stroke:#0000ff; stroke-width:3.2; stroke-opacity:1\"/>\n",
       "<line clip-path=\"url(#clip322)\" x1=\"2087.01\" y1=\"1187.17\" x2=\"2087.01\" y2=\"1171.17\" style=\"stroke:#0000ff; stroke-width:3.2; stroke-opacity:1\"/>\n",
       "<line clip-path=\"url(#clip322)\" x1=\"2087.01\" y1=\"1187.17\" x2=\"2071.01\" y2=\"1187.17\" style=\"stroke:#0000ff; stroke-width:3.2; stroke-opacity:1\"/>\n",
       "<line clip-path=\"url(#clip322)\" x1=\"2087.01\" y1=\"1187.17\" x2=\"2087.01\" y2=\"1203.17\" style=\"stroke:#0000ff; stroke-width:3.2; stroke-opacity:1\"/>\n",
       "<line clip-path=\"url(#clip322)\" x1=\"2087.01\" y1=\"1187.17\" x2=\"2103.01\" y2=\"1187.17\" style=\"stroke:#0000ff; stroke-width:3.2; stroke-opacity:1\"/>\n",
       "<line clip-path=\"url(#clip322)\" x1=\"2128.08\" y1=\"1226.95\" x2=\"2128.08\" y2=\"1210.95\" style=\"stroke:#0000ff; stroke-width:3.2; stroke-opacity:1\"/>\n",
       "<line clip-path=\"url(#clip322)\" x1=\"2128.08\" y1=\"1226.95\" x2=\"2112.08\" y2=\"1226.95\" style=\"stroke:#0000ff; stroke-width:3.2; stroke-opacity:1\"/>\n",
       "<line clip-path=\"url(#clip322)\" x1=\"2128.08\" y1=\"1226.95\" x2=\"2128.08\" y2=\"1242.95\" style=\"stroke:#0000ff; stroke-width:3.2; stroke-opacity:1\"/>\n",
       "<line clip-path=\"url(#clip322)\" x1=\"2128.08\" y1=\"1226.95\" x2=\"2144.08\" y2=\"1226.95\" style=\"stroke:#0000ff; stroke-width:3.2; stroke-opacity:1\"/>\n",
       "<line clip-path=\"url(#clip322)\" x1=\"2169.16\" y1=\"1259.39\" x2=\"2169.16\" y2=\"1243.39\" style=\"stroke:#0000ff; stroke-width:3.2; stroke-opacity:1\"/>\n",
       "<line clip-path=\"url(#clip322)\" x1=\"2169.16\" y1=\"1259.39\" x2=\"2153.16\" y2=\"1259.39\" style=\"stroke:#0000ff; stroke-width:3.2; stroke-opacity:1\"/>\n",
       "<line clip-path=\"url(#clip322)\" x1=\"2169.16\" y1=\"1259.39\" x2=\"2169.16\" y2=\"1275.39\" style=\"stroke:#0000ff; stroke-width:3.2; stroke-opacity:1\"/>\n",
       "<line clip-path=\"url(#clip322)\" x1=\"2169.16\" y1=\"1259.39\" x2=\"2185.16\" y2=\"1259.39\" style=\"stroke:#0000ff; stroke-width:3.2; stroke-opacity:1\"/>\n",
       "<line clip-path=\"url(#clip322)\" x1=\"2210.23\" y1=\"1240.42\" x2=\"2210.23\" y2=\"1224.42\" style=\"stroke:#0000ff; stroke-width:3.2; stroke-opacity:1\"/>\n",
       "<line clip-path=\"url(#clip322)\" x1=\"2210.23\" y1=\"1240.42\" x2=\"2194.23\" y2=\"1240.42\" style=\"stroke:#0000ff; stroke-width:3.2; stroke-opacity:1\"/>\n",
       "<line clip-path=\"url(#clip322)\" x1=\"2210.23\" y1=\"1240.42\" x2=\"2210.23\" y2=\"1256.42\" style=\"stroke:#0000ff; stroke-width:3.2; stroke-opacity:1\"/>\n",
       "<line clip-path=\"url(#clip322)\" x1=\"2210.23\" y1=\"1240.42\" x2=\"2226.23\" y2=\"1240.42\" style=\"stroke:#0000ff; stroke-width:3.2; stroke-opacity:1\"/>\n",
       "<line clip-path=\"url(#clip322)\" x1=\"2251.3\" y1=\"1250.82\" x2=\"2251.3\" y2=\"1234.82\" style=\"stroke:#0000ff; stroke-width:3.2; stroke-opacity:1\"/>\n",
       "<line clip-path=\"url(#clip322)\" x1=\"2251.3\" y1=\"1250.82\" x2=\"2235.3\" y2=\"1250.82\" style=\"stroke:#0000ff; stroke-width:3.2; stroke-opacity:1\"/>\n",
       "<line clip-path=\"url(#clip322)\" x1=\"2251.3\" y1=\"1250.82\" x2=\"2251.3\" y2=\"1266.82\" style=\"stroke:#0000ff; stroke-width:3.2; stroke-opacity:1\"/>\n",
       "<line clip-path=\"url(#clip322)\" x1=\"2251.3\" y1=\"1250.82\" x2=\"2267.3\" y2=\"1250.82\" style=\"stroke:#0000ff; stroke-width:3.2; stroke-opacity:1\"/>\n",
       "<line clip-path=\"url(#clip322)\" x1=\"2292.38\" y1=\"1226.95\" x2=\"2292.38\" y2=\"1210.95\" style=\"stroke:#0000ff; stroke-width:3.2; stroke-opacity:1\"/>\n",
       "<line clip-path=\"url(#clip322)\" x1=\"2292.38\" y1=\"1226.95\" x2=\"2276.38\" y2=\"1226.95\" style=\"stroke:#0000ff; stroke-width:3.2; stroke-opacity:1\"/>\n",
       "<line clip-path=\"url(#clip322)\" x1=\"2292.38\" y1=\"1226.95\" x2=\"2292.38\" y2=\"1242.95\" style=\"stroke:#0000ff; stroke-width:3.2; stroke-opacity:1\"/>\n",
       "<line clip-path=\"url(#clip322)\" x1=\"2292.38\" y1=\"1226.95\" x2=\"2308.38\" y2=\"1226.95\" style=\"stroke:#0000ff; stroke-width:3.2; stroke-opacity:1\"/>\n",
       "<polyline clip-path=\"url(#clip322)\" style=\"stroke:#ff0000; stroke-linecap:round; stroke-linejoin:round; stroke-width:4; stroke-opacity:1; fill:none\" points=\"279.759,1384.24 320.833,1377.51 361.906,1371.39 402.98,1368.33 444.054,1359.76 485.128,1356.09 526.202,1345.68 567.276,1339.56 608.35,1325.49 649.423,1311.41 690.497,1310.8 731.571,1313.86 772.645,1302.84 813.719,1290.6 854.793,1239.19 895.866,1238.58 936.94,1198.8 978.014,1201.86 1019.09,1099.66 1060.16,1092.93 1101.24,1171.87 1142.31,1095.99 1183.38,1130.87 1224.46,1085.58 1265.53,988.886 1306.6,1007.25 1347.68,1014.59 1388.75,999.902 1429.83,983.378 1470.9,968.69 1511.97,969.302 1553.05,938.09 1594.12,940.538 1635.2,908.714 1676.27,909.326 1717.34,910.55 1758.42,870.158 1799.49,865.874 1840.57,849.962 1881.64,845.678 1922.71,823.034 1963.79,816.914 2004.86,800.39 2045.93,784.478 2087.01,780.194 2128.08,752.654 2169.16,746.534 2210.23,768.566 2251.3,750.818 2292.38,747.758 \"/>\n",
       "<path clip-path=\"url(#clip322)\" d=\"M279.759 1368.24 L263.759 1384.24 L279.759 1400.24 L295.759 1384.24 L279.759 1368.24 Z\" fill=\"#ff0000\" fill-rule=\"evenodd\" fill-opacity=\"1\" stroke=\"#000000\" stroke-opacity=\"1\" stroke-width=\"3.2\"/>\n",
       "<path clip-path=\"url(#clip322)\" d=\"M320.833 1361.51 L304.833 1377.51 L320.833 1393.51 L336.833 1377.51 L320.833 1361.51 Z\" fill=\"#ff0000\" fill-rule=\"evenodd\" fill-opacity=\"1\" stroke=\"#000000\" stroke-opacity=\"1\" stroke-width=\"3.2\"/>\n",
       "<path clip-path=\"url(#clip322)\" d=\"M361.906 1355.39 L345.906 1371.39 L361.906 1387.39 L377.906 1371.39 L361.906 1355.39 Z\" fill=\"#ff0000\" fill-rule=\"evenodd\" fill-opacity=\"1\" stroke=\"#000000\" stroke-opacity=\"1\" stroke-width=\"3.2\"/>\n",
       "<path clip-path=\"url(#clip322)\" d=\"M402.98 1352.33 L386.98 1368.33 L402.98 1384.33 L418.98 1368.33 L402.98 1352.33 Z\" fill=\"#ff0000\" fill-rule=\"evenodd\" fill-opacity=\"1\" stroke=\"#000000\" stroke-opacity=\"1\" stroke-width=\"3.2\"/>\n",
       "<path clip-path=\"url(#clip322)\" d=\"M444.054 1343.76 L428.054 1359.76 L444.054 1375.76 L460.054 1359.76 L444.054 1343.76 Z\" fill=\"#ff0000\" fill-rule=\"evenodd\" fill-opacity=\"1\" stroke=\"#000000\" stroke-opacity=\"1\" stroke-width=\"3.2\"/>\n",
       "<path clip-path=\"url(#clip322)\" d=\"M485.128 1340.09 L469.128 1356.09 L485.128 1372.09 L501.128 1356.09 L485.128 1340.09 Z\" fill=\"#ff0000\" fill-rule=\"evenodd\" fill-opacity=\"1\" stroke=\"#000000\" stroke-opacity=\"1\" stroke-width=\"3.2\"/>\n",
       "<path clip-path=\"url(#clip322)\" d=\"M526.202 1329.68 L510.202 1345.68 L526.202 1361.68 L542.202 1345.68 L526.202 1329.68 Z\" fill=\"#ff0000\" fill-rule=\"evenodd\" fill-opacity=\"1\" stroke=\"#000000\" stroke-opacity=\"1\" stroke-width=\"3.2\"/>\n",
       "<path clip-path=\"url(#clip322)\" d=\"M567.276 1323.56 L551.276 1339.56 L567.276 1355.56 L583.276 1339.56 L567.276 1323.56 Z\" fill=\"#ff0000\" fill-rule=\"evenodd\" fill-opacity=\"1\" stroke=\"#000000\" stroke-opacity=\"1\" stroke-width=\"3.2\"/>\n",
       "<path clip-path=\"url(#clip322)\" d=\"M608.35 1309.49 L592.35 1325.49 L608.35 1341.49 L624.35 1325.49 L608.35 1309.49 Z\" fill=\"#ff0000\" fill-rule=\"evenodd\" fill-opacity=\"1\" stroke=\"#000000\" stroke-opacity=\"1\" stroke-width=\"3.2\"/>\n",
       "<path clip-path=\"url(#clip322)\" d=\"M649.423 1295.41 L633.423 1311.41 L649.423 1327.41 L665.423 1311.41 L649.423 1295.41 Z\" fill=\"#ff0000\" fill-rule=\"evenodd\" fill-opacity=\"1\" stroke=\"#000000\" stroke-opacity=\"1\" stroke-width=\"3.2\"/>\n",
       "<path clip-path=\"url(#clip322)\" d=\"M690.497 1294.8 L674.497 1310.8 L690.497 1326.8 L706.497 1310.8 L690.497 1294.8 Z\" fill=\"#ff0000\" fill-rule=\"evenodd\" fill-opacity=\"1\" stroke=\"#000000\" stroke-opacity=\"1\" stroke-width=\"3.2\"/>\n",
       "<path clip-path=\"url(#clip322)\" d=\"M731.571 1297.86 L715.571 1313.86 L731.571 1329.86 L747.571 1313.86 L731.571 1297.86 Z\" fill=\"#ff0000\" fill-rule=\"evenodd\" fill-opacity=\"1\" stroke=\"#000000\" stroke-opacity=\"1\" stroke-width=\"3.2\"/>\n",
       "<path clip-path=\"url(#clip322)\" d=\"M772.645 1286.84 L756.645 1302.84 L772.645 1318.84 L788.645 1302.84 L772.645 1286.84 Z\" fill=\"#ff0000\" fill-rule=\"evenodd\" fill-opacity=\"1\" stroke=\"#000000\" stroke-opacity=\"1\" stroke-width=\"3.2\"/>\n",
       "<path clip-path=\"url(#clip322)\" d=\"M813.719 1274.6 L797.719 1290.6 L813.719 1306.6 L829.719 1290.6 L813.719 1274.6 Z\" fill=\"#ff0000\" fill-rule=\"evenodd\" fill-opacity=\"1\" stroke=\"#000000\" stroke-opacity=\"1\" stroke-width=\"3.2\"/>\n",
       "<path clip-path=\"url(#clip322)\" d=\"M854.793 1223.19 L838.793 1239.19 L854.793 1255.19 L870.793 1239.19 L854.793 1223.19 Z\" fill=\"#ff0000\" fill-rule=\"evenodd\" fill-opacity=\"1\" stroke=\"#000000\" stroke-opacity=\"1\" stroke-width=\"3.2\"/>\n",
       "<path clip-path=\"url(#clip322)\" d=\"M895.866 1222.58 L879.866 1238.58 L895.866 1254.58 L911.866 1238.58 L895.866 1222.58 Z\" fill=\"#ff0000\" fill-rule=\"evenodd\" fill-opacity=\"1\" stroke=\"#000000\" stroke-opacity=\"1\" stroke-width=\"3.2\"/>\n",
       "<path clip-path=\"url(#clip322)\" d=\"M936.94 1182.8 L920.94 1198.8 L936.94 1214.8 L952.94 1198.8 L936.94 1182.8 Z\" fill=\"#ff0000\" fill-rule=\"evenodd\" fill-opacity=\"1\" stroke=\"#000000\" stroke-opacity=\"1\" stroke-width=\"3.2\"/>\n",
       "<path clip-path=\"url(#clip322)\" d=\"M978.014 1185.86 L962.014 1201.86 L978.014 1217.86 L994.014 1201.86 L978.014 1185.86 Z\" fill=\"#ff0000\" fill-rule=\"evenodd\" fill-opacity=\"1\" stroke=\"#000000\" stroke-opacity=\"1\" stroke-width=\"3.2\"/>\n",
       "<path clip-path=\"url(#clip322)\" d=\"M1019.09 1083.66 L1003.09 1099.66 L1019.09 1115.66 L1035.09 1099.66 L1019.09 1083.66 Z\" fill=\"#ff0000\" fill-rule=\"evenodd\" fill-opacity=\"1\" stroke=\"#000000\" stroke-opacity=\"1\" stroke-width=\"3.2\"/>\n",
       "<path clip-path=\"url(#clip322)\" d=\"M1060.16 1076.93 L1044.16 1092.93 L1060.16 1108.93 L1076.16 1092.93 L1060.16 1076.93 Z\" fill=\"#ff0000\" fill-rule=\"evenodd\" fill-opacity=\"1\" stroke=\"#000000\" stroke-opacity=\"1\" stroke-width=\"3.2\"/>\n",
       "<path clip-path=\"url(#clip322)\" d=\"M1101.24 1155.87 L1085.24 1171.87 L1101.24 1187.87 L1117.24 1171.87 L1101.24 1155.87 Z\" fill=\"#ff0000\" fill-rule=\"evenodd\" fill-opacity=\"1\" stroke=\"#000000\" stroke-opacity=\"1\" stroke-width=\"3.2\"/>\n",
       "<path clip-path=\"url(#clip322)\" d=\"M1142.31 1079.99 L1126.31 1095.99 L1142.31 1111.99 L1158.31 1095.99 L1142.31 1079.99 Z\" fill=\"#ff0000\" fill-rule=\"evenodd\" fill-opacity=\"1\" stroke=\"#000000\" stroke-opacity=\"1\" stroke-width=\"3.2\"/>\n",
       "<path clip-path=\"url(#clip322)\" d=\"M1183.38 1114.87 L1167.38 1130.87 L1183.38 1146.87 L1199.38 1130.87 L1183.38 1114.87 Z\" fill=\"#ff0000\" fill-rule=\"evenodd\" fill-opacity=\"1\" stroke=\"#000000\" stroke-opacity=\"1\" stroke-width=\"3.2\"/>\n",
       "<path clip-path=\"url(#clip322)\" d=\"M1224.46 1069.58 L1208.46 1085.58 L1224.46 1101.58 L1240.46 1085.58 L1224.46 1069.58 Z\" fill=\"#ff0000\" fill-rule=\"evenodd\" fill-opacity=\"1\" stroke=\"#000000\" stroke-opacity=\"1\" stroke-width=\"3.2\"/>\n",
       "<path clip-path=\"url(#clip322)\" d=\"M1265.53 972.886 L1249.53 988.886 L1265.53 1004.89 L1281.53 988.886 L1265.53 972.886 Z\" fill=\"#ff0000\" fill-rule=\"evenodd\" fill-opacity=\"1\" stroke=\"#000000\" stroke-opacity=\"1\" stroke-width=\"3.2\"/>\n",
       "<path clip-path=\"url(#clip322)\" d=\"M1306.6 991.246 L1290.6 1007.25 L1306.6 1023.25 L1322.6 1007.25 L1306.6 991.246 Z\" fill=\"#ff0000\" fill-rule=\"evenodd\" fill-opacity=\"1\" stroke=\"#000000\" stroke-opacity=\"1\" stroke-width=\"3.2\"/>\n",
       "<path clip-path=\"url(#clip322)\" d=\"M1347.68 998.59 L1331.68 1014.59 L1347.68 1030.59 L1363.68 1014.59 L1347.68 998.59 Z\" fill=\"#ff0000\" fill-rule=\"evenodd\" fill-opacity=\"1\" stroke=\"#000000\" stroke-opacity=\"1\" stroke-width=\"3.2\"/>\n",
       "<path clip-path=\"url(#clip322)\" d=\"M1388.75 983.902 L1372.75 999.902 L1388.75 1015.9 L1404.75 999.902 L1388.75 983.902 Z\" fill=\"#ff0000\" fill-rule=\"evenodd\" fill-opacity=\"1\" stroke=\"#000000\" stroke-opacity=\"1\" stroke-width=\"3.2\"/>\n",
       "<path clip-path=\"url(#clip322)\" d=\"M1429.83 967.378 L1413.83 983.378 L1429.83 999.378 L1445.83 983.378 L1429.83 967.378 Z\" fill=\"#ff0000\" fill-rule=\"evenodd\" fill-opacity=\"1\" stroke=\"#000000\" stroke-opacity=\"1\" stroke-width=\"3.2\"/>\n",
       "<path clip-path=\"url(#clip322)\" d=\"M1470.9 952.69 L1454.9 968.69 L1470.9 984.69 L1486.9 968.69 L1470.9 952.69 Z\" fill=\"#ff0000\" fill-rule=\"evenodd\" fill-opacity=\"1\" stroke=\"#000000\" stroke-opacity=\"1\" stroke-width=\"3.2\"/>\n",
       "<path clip-path=\"url(#clip322)\" d=\"M1511.97 953.302 L1495.97 969.302 L1511.97 985.302 L1527.97 969.302 L1511.97 953.302 Z\" fill=\"#ff0000\" fill-rule=\"evenodd\" fill-opacity=\"1\" stroke=\"#000000\" stroke-opacity=\"1\" stroke-width=\"3.2\"/>\n",
       "<path clip-path=\"url(#clip322)\" d=\"M1553.05 922.09 L1537.05 938.09 L1553.05 954.09 L1569.05 938.09 L1553.05 922.09 Z\" fill=\"#ff0000\" fill-rule=\"evenodd\" fill-opacity=\"1\" stroke=\"#000000\" stroke-opacity=\"1\" stroke-width=\"3.2\"/>\n",
       "<path clip-path=\"url(#clip322)\" d=\"M1594.12 924.538 L1578.12 940.538 L1594.12 956.538 L1610.12 940.538 L1594.12 924.538 Z\" fill=\"#ff0000\" fill-rule=\"evenodd\" fill-opacity=\"1\" stroke=\"#000000\" stroke-opacity=\"1\" stroke-width=\"3.2\"/>\n",
       "<path clip-path=\"url(#clip322)\" d=\"M1635.2 892.714 L1619.2 908.714 L1635.2 924.714 L1651.2 908.714 L1635.2 892.714 Z\" fill=\"#ff0000\" fill-rule=\"evenodd\" fill-opacity=\"1\" stroke=\"#000000\" stroke-opacity=\"1\" stroke-width=\"3.2\"/>\n",
       "<path clip-path=\"url(#clip322)\" d=\"M1676.27 893.326 L1660.27 909.326 L1676.27 925.326 L1692.27 909.326 L1676.27 893.326 Z\" fill=\"#ff0000\" fill-rule=\"evenodd\" fill-opacity=\"1\" stroke=\"#000000\" stroke-opacity=\"1\" stroke-width=\"3.2\"/>\n",
       "<path clip-path=\"url(#clip322)\" d=\"M1717.34 894.55 L1701.34 910.55 L1717.34 926.55 L1733.34 910.55 L1717.34 894.55 Z\" fill=\"#ff0000\" fill-rule=\"evenodd\" fill-opacity=\"1\" stroke=\"#000000\" stroke-opacity=\"1\" stroke-width=\"3.2\"/>\n",
       "<path clip-path=\"url(#clip322)\" d=\"M1758.42 854.158 L1742.42 870.158 L1758.42 886.158 L1774.42 870.158 L1758.42 854.158 Z\" fill=\"#ff0000\" fill-rule=\"evenodd\" fill-opacity=\"1\" stroke=\"#000000\" stroke-opacity=\"1\" stroke-width=\"3.2\"/>\n",
       "<path clip-path=\"url(#clip322)\" d=\"M1799.49 849.874 L1783.49 865.874 L1799.49 881.874 L1815.49 865.874 L1799.49 849.874 Z\" fill=\"#ff0000\" fill-rule=\"evenodd\" fill-opacity=\"1\" stroke=\"#000000\" stroke-opacity=\"1\" stroke-width=\"3.2\"/>\n",
       "<path clip-path=\"url(#clip322)\" d=\"M1840.57 833.962 L1824.57 849.962 L1840.57 865.962 L1856.57 849.962 L1840.57 833.962 Z\" fill=\"#ff0000\" fill-rule=\"evenodd\" fill-opacity=\"1\" stroke=\"#000000\" stroke-opacity=\"1\" stroke-width=\"3.2\"/>\n",
       "<path clip-path=\"url(#clip322)\" d=\"M1881.64 829.678 L1865.64 845.678 L1881.64 861.678 L1897.64 845.678 L1881.64 829.678 Z\" fill=\"#ff0000\" fill-rule=\"evenodd\" fill-opacity=\"1\" stroke=\"#000000\" stroke-opacity=\"1\" stroke-width=\"3.2\"/>\n",
       "<path clip-path=\"url(#clip322)\" d=\"M1922.71 807.034 L1906.71 823.034 L1922.71 839.034 L1938.71 823.034 L1922.71 807.034 Z\" fill=\"#ff0000\" fill-rule=\"evenodd\" fill-opacity=\"1\" stroke=\"#000000\" stroke-opacity=\"1\" stroke-width=\"3.2\"/>\n",
       "<path clip-path=\"url(#clip322)\" d=\"M1963.79 800.914 L1947.79 816.914 L1963.79 832.914 L1979.79 816.914 L1963.79 800.914 Z\" fill=\"#ff0000\" fill-rule=\"evenodd\" fill-opacity=\"1\" stroke=\"#000000\" stroke-opacity=\"1\" stroke-width=\"3.2\"/>\n",
       "<path clip-path=\"url(#clip322)\" d=\"M2004.86 784.39 L1988.86 800.39 L2004.86 816.39 L2020.86 800.39 L2004.86 784.39 Z\" fill=\"#ff0000\" fill-rule=\"evenodd\" fill-opacity=\"1\" stroke=\"#000000\" stroke-opacity=\"1\" stroke-width=\"3.2\"/>\n",
       "<path clip-path=\"url(#clip322)\" d=\"M2045.93 768.478 L2029.93 784.478 L2045.93 800.478 L2061.93 784.478 L2045.93 768.478 Z\" fill=\"#ff0000\" fill-rule=\"evenodd\" fill-opacity=\"1\" stroke=\"#000000\" stroke-opacity=\"1\" stroke-width=\"3.2\"/>\n",
       "<path clip-path=\"url(#clip322)\" d=\"M2087.01 764.194 L2071.01 780.194 L2087.01 796.194 L2103.01 780.194 L2087.01 764.194 Z\" fill=\"#ff0000\" fill-rule=\"evenodd\" fill-opacity=\"1\" stroke=\"#000000\" stroke-opacity=\"1\" stroke-width=\"3.2\"/>\n",
       "<path clip-path=\"url(#clip322)\" d=\"M2128.08 736.654 L2112.08 752.654 L2128.08 768.654 L2144.08 752.654 L2128.08 736.654 Z\" fill=\"#ff0000\" fill-rule=\"evenodd\" fill-opacity=\"1\" stroke=\"#000000\" stroke-opacity=\"1\" stroke-width=\"3.2\"/>\n",
       "<path clip-path=\"url(#clip322)\" d=\"M2169.16 730.534 L2153.16 746.534 L2169.16 762.534 L2185.16 746.534 L2169.16 730.534 Z\" fill=\"#ff0000\" fill-rule=\"evenodd\" fill-opacity=\"1\" stroke=\"#000000\" stroke-opacity=\"1\" stroke-width=\"3.2\"/>\n",
       "<path clip-path=\"url(#clip322)\" d=\"M2210.23 752.566 L2194.23 768.566 L2210.23 784.566 L2226.23 768.566 L2210.23 752.566 Z\" fill=\"#ff0000\" fill-rule=\"evenodd\" fill-opacity=\"1\" stroke=\"#000000\" stroke-opacity=\"1\" stroke-width=\"3.2\"/>\n",
       "<path clip-path=\"url(#clip322)\" d=\"M2251.3 734.818 L2235.3 750.818 L2251.3 766.818 L2267.3 750.818 L2251.3 734.818 Z\" fill=\"#ff0000\" fill-rule=\"evenodd\" fill-opacity=\"1\" stroke=\"#000000\" stroke-opacity=\"1\" stroke-width=\"3.2\"/>\n",
       "<path clip-path=\"url(#clip322)\" d=\"M2292.38 731.758 L2276.38 747.758 L2292.38 763.758 L2308.38 747.758 L2292.38 731.758 Z\" fill=\"#ff0000\" fill-rule=\"evenodd\" fill-opacity=\"1\" stroke=\"#000000\" stroke-opacity=\"1\" stroke-width=\"3.2\"/>\n",
       "<path clip-path=\"url(#clip320)\" d=\"M290.493 300.469 L626.26 300.469 L626.26 93.1086 L290.493 93.1086  Z\" fill=\"#ffffff\" fill-rule=\"evenodd\" fill-opacity=\"1\"/>\n",
       "<polyline clip-path=\"url(#clip320)\" style=\"stroke:#000000; stroke-linecap:round; stroke-linejoin:round; stroke-width:4; stroke-opacity:1; fill:none\" points=\"290.493,300.469 626.26,300.469 626.26,93.1086 290.493,93.1086 290.493,300.469 \"/>\n",
       "<polyline clip-path=\"url(#clip320)\" style=\"stroke:#008000; stroke-linecap:round; stroke-linejoin:round; stroke-width:4; stroke-opacity:1; fill:none\" points=\"314.197,144.949 456.422,144.949 \"/>\n",
       "<circle clip-path=\"url(#clip320)\" cx=\"385.309\" cy=\"144.949\" r=\"19.7535\" fill=\"#008000\" fill-rule=\"evenodd\" fill-opacity=\"1\" stroke=\"#000000\" stroke-opacity=\"1\" stroke-width=\"5.12\"/>\n",
       "<path clip-path=\"url(#clip320)\" d=\"M480.126 151.997 L480.126 136.303 L484.385 136.303 L484.385 151.835 Q484.385 155.516 485.82 157.368 Q487.256 159.196 490.126 159.196 Q493.575 159.196 495.566 156.997 Q497.58 154.798 497.58 151.002 L497.58 136.303 L501.839 136.303 L501.839 162.229 L497.58 162.229 L497.58 158.247 Q496.029 160.608 493.969 161.766 Q491.932 162.9 489.223 162.9 Q484.756 162.9 482.441 160.122 Q480.126 157.344 480.126 151.997 M490.844 135.678 L490.844 135.678 Z\" fill=\"#000000\" fill-rule=\"evenodd\" fill-opacity=\"1\" /><path clip-path=\"url(#clip320)\" d=\"M532.163 146.581 L532.163 162.229 L527.904 162.229 L527.904 146.719 Q527.904 143.039 526.468 141.21 Q525.033 139.382 522.163 139.382 Q518.714 139.382 516.723 141.581 Q514.732 143.78 514.732 147.576 L514.732 162.229 L510.45 162.229 L510.45 136.303 L514.732 136.303 L514.732 140.331 Q516.26 137.993 518.32 136.835 Q520.404 135.678 523.112 135.678 Q527.58 135.678 529.871 138.456 Q532.163 141.21 532.163 146.581 Z\" fill=\"#000000\" fill-rule=\"evenodd\" fill-opacity=\"1\" /><path clip-path=\"url(#clip320)\" d=\"M559.315 137.298 L559.315 141.28 Q557.51 140.284 555.681 139.798 Q553.876 139.289 552.024 139.289 Q547.88 139.289 545.589 141.928 Q543.297 144.544 543.297 149.289 Q543.297 154.034 545.589 156.673 Q547.88 159.289 552.024 159.289 Q553.876 159.289 555.681 158.803 Q557.51 158.293 559.315 157.298 L559.315 161.233 Q557.533 162.067 555.612 162.483 Q553.714 162.9 551.561 162.9 Q545.704 162.9 542.255 159.219 Q538.806 155.539 538.806 149.289 Q538.806 142.946 542.279 139.312 Q545.774 135.678 551.839 135.678 Q553.806 135.678 555.681 136.095 Q557.556 136.488 559.315 137.298 Z\" fill=\"#000000\" fill-rule=\"evenodd\" fill-opacity=\"1\" /><path clip-path=\"url(#clip320)\" d=\"M567.325 156.349 L572.209 156.349 L572.209 162.229 L567.325 162.229 L567.325 156.349 Z\" fill=\"#000000\" fill-rule=\"evenodd\" fill-opacity=\"1\" /><polyline clip-path=\"url(#clip320)\" style=\"stroke:#0000ff; stroke-linecap:round; stroke-linejoin:round; stroke-width:4; stroke-opacity:1; fill:none\" points=\"314.197,196.789 456.422,196.789 \"/>\n",
       "<line clip-path=\"url(#clip320)\" x1=\"385.309\" y1=\"196.789\" x2=\"385.309\" y2=\"174.84\" style=\"stroke:#0000ff; stroke-width:5.12; stroke-opacity:1\"/>\n",
       "<line clip-path=\"url(#clip320)\" x1=\"385.309\" y1=\"196.789\" x2=\"363.361\" y2=\"196.789\" style=\"stroke:#0000ff; stroke-width:5.12; stroke-opacity:1\"/>\n",
       "<line clip-path=\"url(#clip320)\" x1=\"385.309\" y1=\"196.789\" x2=\"385.309\" y2=\"218.737\" style=\"stroke:#0000ff; stroke-width:5.12; stroke-opacity:1\"/>\n",
       "<line clip-path=\"url(#clip320)\" x1=\"385.309\" y1=\"196.789\" x2=\"407.258\" y2=\"196.789\" style=\"stroke:#0000ff; stroke-width:5.12; stroke-opacity:1\"/>\n",
       "<path clip-path=\"url(#clip320)\" d=\"M498.899 201.129 Q498.899 196.43 496.955 193.768 Q495.033 191.083 491.654 191.083 Q488.274 191.083 486.33 193.768 Q484.408 196.43 484.408 201.129 Q484.408 205.828 486.33 208.513 Q488.274 211.175 491.654 211.175 Q495.033 211.175 496.955 208.513 Q498.899 205.828 498.899 201.129 M484.408 192.078 Q485.751 189.763 487.788 188.652 Q489.848 187.518 492.695 187.518 Q497.418 187.518 500.357 191.268 Q503.32 195.018 503.32 201.129 Q503.32 207.24 500.357 210.99 Q497.418 214.74 492.695 214.74 Q489.848 214.74 487.788 213.629 Q485.751 212.495 484.408 210.18 L484.408 214.069 L480.126 214.069 L480.126 178.05 L484.408 178.05 L484.408 192.078 Z\" fill=\"#000000\" fill-rule=\"evenodd\" fill-opacity=\"1\" /><path clip-path=\"url(#clip320)\" d=\"M510.381 188.143 L514.64 188.143 L514.64 214.069 L510.381 214.069 L510.381 188.143 M510.381 178.05 L514.64 178.05 L514.64 183.444 L510.381 183.444 L510.381 178.05 Z\" fill=\"#000000\" fill-rule=\"evenodd\" fill-opacity=\"1\" /><path clip-path=\"url(#clip320)\" d=\"M540.612 200.805 Q540.612 196.175 538.691 193.629 Q536.792 191.083 533.343 191.083 Q529.917 191.083 527.996 193.629 Q526.098 196.175 526.098 200.805 Q526.098 205.411 527.996 207.958 Q529.917 210.504 533.343 210.504 Q536.792 210.504 538.691 207.958 Q540.612 205.411 540.612 200.805 M544.871 210.851 Q544.871 217.471 541.931 220.689 Q538.992 223.93 532.927 223.93 Q530.681 223.93 528.691 223.582 Q526.7 223.258 524.825 222.564 L524.825 218.42 Q526.7 219.439 528.529 219.925 Q530.357 220.411 532.255 220.411 Q536.445 220.411 538.529 218.212 Q540.612 216.036 540.612 211.615 L540.612 209.508 Q539.292 211.8 537.232 212.934 Q535.172 214.069 532.302 214.069 Q527.533 214.069 524.617 210.434 Q521.7 206.8 521.7 200.805 Q521.7 194.786 524.617 191.152 Q527.533 187.518 532.302 187.518 Q535.172 187.518 537.232 188.652 Q539.292 189.786 540.612 192.078 L540.612 188.143 L544.871 188.143 L544.871 210.851 Z\" fill=\"#000000\" fill-rule=\"evenodd\" fill-opacity=\"1\" /><path clip-path=\"url(#clip320)\" d=\"M551.491 199.184 L563.968 199.184 L563.968 202.981 L551.491 202.981 L551.491 199.184 Z\" fill=\"#000000\" fill-rule=\"evenodd\" fill-opacity=\"1\" /><path clip-path=\"url(#clip320)\" d=\"M570.936 179.509 L577.903 179.509 L586.723 203.027 L595.588 179.509 L602.556 179.509 L602.556 214.069 L597.996 214.069 L597.996 183.722 L589.084 207.425 L584.385 207.425 L575.473 183.722 L575.473 214.069 L570.936 214.069 L570.936 179.509 Z\" fill=\"#000000\" fill-rule=\"evenodd\" fill-opacity=\"1\" /><polyline clip-path=\"url(#clip320)\" style=\"stroke:#ff0000; stroke-linecap:round; stroke-linejoin:round; stroke-width:4; stroke-opacity:1; fill:none\" points=\"314.197,248.629 456.422,248.629 \"/>\n",
       "<path clip-path=\"url(#clip320)\" d=\"M385.309 226.68 L363.361 248.629 L385.309 270.577 L407.258 248.629 L385.309 226.68 Z\" fill=\"#ff0000\" fill-rule=\"evenodd\" fill-opacity=\"1\" stroke=\"#000000\" stroke-opacity=\"1\" stroke-width=\"5.12\"/>\n",
       "<path clip-path=\"url(#clip320)\" d=\"M500.473 244.96 Q502.07 242.089 504.293 240.724 Q506.515 239.358 509.524 239.358 Q513.575 239.358 515.774 242.205 Q517.973 245.029 517.973 250.261 L517.973 265.909 L513.691 265.909 L513.691 250.399 Q513.691 246.673 512.371 244.867 Q511.052 243.062 508.344 243.062 Q505.033 243.062 503.112 245.261 Q501.191 247.46 501.191 251.256 L501.191 265.909 L496.908 265.909 L496.908 250.399 Q496.908 246.649 495.589 244.867 Q494.27 243.062 491.515 243.062 Q488.251 243.062 486.33 245.284 Q484.408 247.483 484.408 251.256 L484.408 265.909 L480.126 265.909 L480.126 239.983 L484.408 239.983 L484.408 244.011 Q485.867 241.626 487.904 240.492 Q489.941 239.358 492.742 239.358 Q495.566 239.358 497.533 240.793 Q499.524 242.228 500.473 244.96 Z\" fill=\"#000000\" fill-rule=\"evenodd\" fill-opacity=\"1\" /><path clip-path=\"url(#clip320)\" d=\"M530.589 262.02 L530.589 275.77 L526.306 275.77 L526.306 239.983 L530.589 239.983 L530.589 243.918 Q531.931 241.603 533.968 240.492 Q536.029 239.358 538.876 239.358 Q543.598 239.358 546.538 243.108 Q549.501 246.858 549.501 252.969 Q549.501 259.08 546.538 262.83 Q543.598 266.58 538.876 266.58 Q536.029 266.58 533.968 265.469 Q531.931 264.335 530.589 262.02 M545.079 252.969 Q545.079 248.27 543.135 245.608 Q541.214 242.923 537.834 242.923 Q534.454 242.923 532.51 245.608 Q530.589 248.27 530.589 252.969 Q530.589 257.668 532.51 260.353 Q534.454 263.015 537.834 263.015 Q541.214 263.015 543.135 260.353 Q545.079 257.668 545.079 252.969 Z\" fill=\"#000000\" fill-rule=\"evenodd\" fill-opacity=\"1\" /><path clip-path=\"url(#clip320)\" d=\"M575.218 240.978 L575.218 244.96 Q573.413 243.964 571.584 243.478 Q569.778 242.969 567.927 242.969 Q563.783 242.969 561.491 245.608 Q559.2 248.224 559.2 252.969 Q559.2 257.714 561.491 260.353 Q563.783 262.969 567.927 262.969 Q569.778 262.969 571.584 262.483 Q573.413 261.973 575.218 260.978 L575.218 264.913 Q573.436 265.747 571.514 266.163 Q569.616 266.58 567.464 266.58 Q561.607 266.58 558.158 262.899 Q554.709 259.219 554.709 252.969 Q554.709 246.626 558.181 242.992 Q561.677 239.358 567.741 239.358 Q569.709 239.358 571.584 239.775 Q573.459 240.168 575.218 240.978 Z\" fill=\"#000000\" fill-rule=\"evenodd\" fill-opacity=\"1\" /><path clip-path=\"url(#clip320)\" d=\"M601.283 240.978 L601.283 244.96 Q599.477 243.964 597.649 243.478 Q595.843 242.969 593.991 242.969 Q589.848 242.969 587.556 245.608 Q585.264 248.224 585.264 252.969 Q585.264 257.714 587.556 260.353 Q589.848 262.969 593.991 262.969 Q595.843 262.969 597.649 262.483 Q599.477 261.973 601.283 260.978 L601.283 264.913 Q599.5 265.747 597.579 266.163 Q595.681 266.58 593.528 266.58 Q587.672 266.58 584.223 262.899 Q580.774 259.219 580.774 252.969 Q580.774 246.626 584.246 242.992 Q587.741 239.358 593.806 239.358 Q595.774 239.358 597.649 239.775 Q599.524 240.168 601.283 240.978 Z\" fill=\"#000000\" fill-rule=\"evenodd\" fill-opacity=\"1\" /></svg>\n"
      ]
     },
     "metadata": {},
     "output_type": "display_data"
    }
   ],
   "source": [
    "gr()\n",
    "\n",
    "p2 = plot(xlabel=\"# reactors\", ylabel=\"sol. time [s]\",gridlinewidth=2)\n",
    "p2 = plot!(1:nScenTotal,solTimeTraj_r[1,:], linecolor=:green, marker=:circle, markercolor = :green)\n",
    "p2 = plot!(1:nScenTotal,solTimeTraj_r[2,:], linecolor=:blue, marker=:cross, markercolor = :blue)\n",
    "p2 = plot!(1:nScenTotal,solTimeTraj_r[3,:], linecolor=:red, marker=:diamond, markercolor = :red)\n",
    "p2.series_list[1][:label] = \"unc.\"\n",
    "p2.series_list[2][:label] = \"big-M\"\n",
    "p2.series_list[3][:label] = \"mpcc\"\n",
    "\n",
    "display(p2)"
   ]
  },
  {
   "cell_type": "markdown",
   "id": "0ffe348c",
   "metadata": {},
   "source": [
    "# Checking if trajectories match for more scenarios and reactors\n",
    "- arbitrarily chosen number of scenarios and reactors"
   ]
  },
  {
   "cell_type": "code",
   "execution_count": 16,
   "id": "5916ca79",
   "metadata": {},
   "outputs": [],
   "source": [
    "nSCheck = 3 # number of scenarios\n",
    "nRCheck = 3 # number of reactors in parallel\n",
    "\n",
    "# Extracting solution for plotting\n",
    "yTraj = Array{Float64}(undef,3,pD,nSCheck)\n",
    "uTraj = Array{Float64}(undef,3,pD,nSCheck) \n",
    "yspTraj = Array{Float64}(undef,3,pD,nSCheck) \n",
    "\n",
    "#equiprobable scenarios\n",
    "pScheck = 1.0/nSCheck;\n",
    "\n",
    "# Number of states\n",
    "nx = 2*nRCheck;\n",
    "\n",
    "# Initial conditions (deviation form)\n",
    "xInit_0 = repeat([0.3583;0.6418] .- x0, outer = [nRCheck,1]);\n",
    "uInit_0 = 1.0 - u0;\n",
    "\n",
    "for opti in 1:3\n",
    "    sol_dict = MS_CLDRTO(xInit_0,uInit_0,nRCheck,nSCheck,pScheck,solNominal,opti)\n",
    "    #display(sol_dict['f'])\n",
    "    for ii in 1:pD\n",
    "        for ss in 1:nSCheck\n",
    "            # transforming from deviation form\n",
    "            yTraj[opti,ii,ss] = sol_dict['y'][ii,ss] + y0\n",
    "            yspTraj[opti,ii,ss] = sol_dict['s'][ii,ss] + y0\n",
    "            uTraj[opti,ii,ss] = sol_dict['u'][ii,1,ss] + u0\n",
    "        end\n",
    "    end\n",
    "end;"
   ]
  },
  {
   "cell_type": "code",
   "execution_count": 17,
   "id": "3d9ec8ea",
   "metadata": {},
   "outputs": [],
   "source": [
    "# time series for plotting\n",
    "ts = Vector{Float64}(undef,pD) \n",
    "for i in 1:pD\n",
    "    ts[i] = 1*i\n",
    "end\n",
    "\n",
    "# Creating color array\n",
    "CList = reshape( range(colorant\"red\", stop=colorant\"blue\",length=nSCheck), 1, nSCheck);\n",
    "#display(CList)\n",
    "MList =[:cross, :circle, :diamond];"
   ]
  },
  {
   "cell_type": "code",
   "execution_count": 18,
   "id": "57083049",
   "metadata": {},
   "outputs": [
    {
     "data": {
      "image/svg+xml": [
       "<?xml version=\"1.0\" encoding=\"utf-8\"?>\n",
       "<svg xmlns=\"http://www.w3.org/2000/svg\" xmlns:xlink=\"http://www.w3.org/1999/xlink\" width=\"600\" height=\"400\" viewBox=\"0 0 2400 1600\">\n",
       "<defs>\n",
       "  <clipPath id=\"clip200\">\n",
       "    <rect x=\"0\" y=\"0\" width=\"2400\" height=\"1600\"/>\n",
       "  </clipPath>\n",
       "</defs>\n",
       "<path clip-path=\"url(#clip200)\" d=\"M0 1600 L2400 1600 L2400 0 L0 0  Z\" fill=\"#ffffff\" fill-rule=\"evenodd\" fill-opacity=\"1\"/>\n",
       "<defs>\n",
       "  <clipPath id=\"clip201\">\n",
       "    <rect x=\"480\" y=\"0\" width=\"1681\" height=\"1600\"/>\n",
       "  </clipPath>\n",
       "</defs>\n",
       "<path clip-path=\"url(#clip200)\" d=\"M219.542 356.513 L2352.76 356.513 L2352.76 47.2441 L219.542 47.2441  Z\" fill=\"#ffffff\" fill-rule=\"evenodd\" fill-opacity=\"1\"/>\n",
       "<defs>\n",
       "  <clipPath id=\"clip202\">\n",
       "    <rect x=\"219\" y=\"47\" width=\"2134\" height=\"310\"/>\n",
       "  </clipPath>\n",
       "</defs>\n",
       "<polyline clip-path=\"url(#clip202)\" style=\"stroke:#000000; stroke-linecap:round; stroke-linejoin:round; stroke-width:8; stroke-opacity:0.1; fill:none\" points=\"589.526,356.513 589.526,47.2441 \"/>\n",
       "<polyline clip-path=\"url(#clip202)\" style=\"stroke:#000000; stroke-linecap:round; stroke-linejoin:round; stroke-width:8; stroke-opacity:0.1; fill:none\" points=\"976.539,356.513 976.539,47.2441 \"/>\n",
       "<polyline clip-path=\"url(#clip202)\" style=\"stroke:#000000; stroke-linecap:round; stroke-linejoin:round; stroke-width:8; stroke-opacity:0.1; fill:none\" points=\"1363.55,356.513 1363.55,47.2441 \"/>\n",
       "<polyline clip-path=\"url(#clip202)\" style=\"stroke:#000000; stroke-linecap:round; stroke-linejoin:round; stroke-width:8; stroke-opacity:0.1; fill:none\" points=\"1750.56,356.513 1750.56,47.2441 \"/>\n",
       "<polyline clip-path=\"url(#clip202)\" style=\"stroke:#000000; stroke-linecap:round; stroke-linejoin:round; stroke-width:8; stroke-opacity:0.1; fill:none\" points=\"2137.58,356.513 2137.58,47.2441 \"/>\n",
       "<polyline clip-path=\"url(#clip200)\" style=\"stroke:#000000; stroke-linecap:round; stroke-linejoin:round; stroke-width:4; stroke-opacity:1; fill:none\" points=\"219.542,356.513 2352.76,356.513 \"/>\n",
       "<polyline clip-path=\"url(#clip200)\" style=\"stroke:#000000; stroke-linecap:round; stroke-linejoin:round; stroke-width:4; stroke-opacity:1; fill:none\" points=\"589.526,356.513 589.526,337.616 \"/>\n",
       "<polyline clip-path=\"url(#clip200)\" style=\"stroke:#000000; stroke-linecap:round; stroke-linejoin:round; stroke-width:4; stroke-opacity:1; fill:none\" points=\"976.539,356.513 976.539,337.616 \"/>\n",
       "<polyline clip-path=\"url(#clip200)\" style=\"stroke:#000000; stroke-linecap:round; stroke-linejoin:round; stroke-width:4; stroke-opacity:1; fill:none\" points=\"1363.55,356.513 1363.55,337.616 \"/>\n",
       "<polyline clip-path=\"url(#clip200)\" style=\"stroke:#000000; stroke-linecap:round; stroke-linejoin:round; stroke-width:4; stroke-opacity:1; fill:none\" points=\"1750.56,356.513 1750.56,337.616 \"/>\n",
       "<polyline clip-path=\"url(#clip200)\" style=\"stroke:#000000; stroke-linecap:round; stroke-linejoin:round; stroke-width:4; stroke-opacity:1; fill:none\" points=\"2137.58,356.513 2137.58,337.616 \"/>\n",
       "<path clip-path=\"url(#clip200)\" d=\"M579.804 384.353 L598.16 384.353 L598.16 388.288 L584.086 388.288 L584.086 396.761 Q585.105 396.413 586.124 396.251 Q587.142 396.066 588.161 396.066 Q593.948 396.066 597.327 399.237 Q600.707 402.409 600.707 407.825 Q600.707 413.404 597.235 416.506 Q593.762 419.584 587.443 419.584 Q585.267 419.584 582.999 419.214 Q580.753 418.844 578.346 418.103 L578.346 413.404 Q580.429 414.538 582.651 415.094 Q584.874 415.649 587.35 415.649 Q591.355 415.649 593.693 413.543 Q596.031 411.436 596.031 407.825 Q596.031 404.214 593.693 402.108 Q591.355 400.001 587.35 400.001 Q585.475 400.001 583.6 400.418 Q581.749 400.835 579.804 401.714 L579.804 384.353 Z\" fill=\"#000000\" fill-rule=\"evenodd\" fill-opacity=\"1\" /><path clip-path=\"url(#clip200)\" d=\"M951.227 414.978 L958.865 414.978 L958.865 388.612 L950.555 390.279 L950.555 386.02 L958.819 384.353 L963.495 384.353 L963.495 414.978 L971.134 414.978 L971.134 418.913 L951.227 418.913 L951.227 414.978 Z\" fill=\"#000000\" fill-rule=\"evenodd\" fill-opacity=\"1\" /><path clip-path=\"url(#clip200)\" d=\"M990.578 387.432 Q986.967 387.432 985.138 390.997 Q983.333 394.538 983.333 401.668 Q983.333 408.774 985.138 412.339 Q986.967 415.881 990.578 415.881 Q994.212 415.881 996.018 412.339 Q997.847 408.774 997.847 401.668 Q997.847 394.538 996.018 390.997 Q994.212 387.432 990.578 387.432 M990.578 383.728 Q996.388 383.728 999.444 388.335 Q1002.52 392.918 1002.52 401.668 Q1002.52 410.395 999.444 415.001 Q996.388 419.584 990.578 419.584 Q984.768 419.584 981.689 415.001 Q978.634 410.395 978.634 401.668 Q978.634 392.918 981.689 388.335 Q984.768 383.728 990.578 383.728 Z\" fill=\"#000000\" fill-rule=\"evenodd\" fill-opacity=\"1\" /><path clip-path=\"url(#clip200)\" d=\"M1338.74 414.978 L1346.38 414.978 L1346.38 388.612 L1338.07 390.279 L1338.07 386.02 L1346.33 384.353 L1351.01 384.353 L1351.01 414.978 L1358.64 414.978 L1358.64 418.913 L1338.74 418.913 L1338.74 414.978 Z\" fill=\"#000000\" fill-rule=\"evenodd\" fill-opacity=\"1\" /><path clip-path=\"url(#clip200)\" d=\"M1368.13 384.353 L1386.49 384.353 L1386.49 388.288 L1372.42 388.288 L1372.42 396.761 Q1373.44 396.413 1374.45 396.251 Q1375.47 396.066 1376.49 396.066 Q1382.28 396.066 1385.66 399.237 Q1389.04 402.409 1389.04 407.825 Q1389.04 413.404 1385.57 416.506 Q1382.09 419.584 1375.77 419.584 Q1373.6 419.584 1371.33 419.214 Q1369.08 418.844 1366.68 418.103 L1366.68 413.404 Q1368.76 414.538 1370.98 415.094 Q1373.2 415.649 1375.68 415.649 Q1379.69 415.649 1382.02 413.543 Q1384.36 411.436 1384.36 407.825 Q1384.36 404.214 1382.02 402.108 Q1379.69 400.001 1375.68 400.001 Q1373.81 400.001 1371.93 400.418 Q1370.08 400.835 1368.13 401.714 L1368.13 384.353 Z\" fill=\"#000000\" fill-rule=\"evenodd\" fill-opacity=\"1\" /><path clip-path=\"url(#clip200)\" d=\"M1729.34 414.978 L1745.66 414.978 L1745.66 418.913 L1723.71 418.913 L1723.71 414.978 Q1726.37 412.223 1730.96 407.594 Q1735.56 402.941 1736.74 401.598 Q1738.99 399.075 1739.87 397.339 Q1740.77 395.58 1740.77 393.89 Q1740.77 391.136 1738.83 389.399 Q1736.91 387.663 1733.81 387.663 Q1731.61 387.663 1729.15 388.427 Q1726.72 389.191 1723.94 390.742 L1723.94 386.02 Q1726.77 384.886 1729.22 384.307 Q1731.68 383.728 1733.71 383.728 Q1739.08 383.728 1742.28 386.413 Q1745.47 389.099 1745.47 393.589 Q1745.47 395.719 1744.66 397.64 Q1743.87 399.538 1741.77 402.131 Q1741.19 402.802 1738.09 406.02 Q1734.99 409.214 1729.34 414.978 Z\" fill=\"#000000\" fill-rule=\"evenodd\" fill-opacity=\"1\" /><path clip-path=\"url(#clip200)\" d=\"M1765.47 387.432 Q1761.86 387.432 1760.03 390.997 Q1758.23 394.538 1758.23 401.668 Q1758.23 408.774 1760.03 412.339 Q1761.86 415.881 1765.47 415.881 Q1769.11 415.881 1770.91 412.339 Q1772.74 408.774 1772.74 401.668 Q1772.74 394.538 1770.91 390.997 Q1769.11 387.432 1765.47 387.432 M1765.47 383.728 Q1771.28 383.728 1774.34 388.335 Q1777.42 392.918 1777.42 401.668 Q1777.42 410.395 1774.34 415.001 Q1771.28 419.584 1765.47 419.584 Q1759.66 419.584 1756.58 415.001 Q1753.53 410.395 1753.53 401.668 Q1753.53 392.918 1756.58 388.335 Q1759.66 383.728 1765.47 383.728 Z\" fill=\"#000000\" fill-rule=\"evenodd\" fill-opacity=\"1\" /><path clip-path=\"url(#clip200)\" d=\"M2116.85 414.978 L2133.17 414.978 L2133.17 418.913 L2111.22 418.913 L2111.22 414.978 Q2113.88 412.223 2118.47 407.594 Q2123.07 402.941 2124.26 401.598 Q2126.5 399.075 2127.38 397.339 Q2128.28 395.58 2128.28 393.89 Q2128.28 391.136 2126.34 389.399 Q2124.42 387.663 2121.32 387.663 Q2119.12 387.663 2116.66 388.427 Q2114.23 389.191 2111.45 390.742 L2111.45 386.02 Q2114.28 384.886 2116.73 384.307 Q2119.19 383.728 2121.22 383.728 Q2126.59 383.728 2129.79 386.413 Q2132.98 389.099 2132.98 393.589 Q2132.98 395.719 2132.17 397.64 Q2131.38 399.538 2129.28 402.131 Q2128.7 402.802 2125.6 406.02 Q2122.5 409.214 2116.85 414.978 Z\" fill=\"#000000\" fill-rule=\"evenodd\" fill-opacity=\"1\" /><path clip-path=\"url(#clip200)\" d=\"M2143.03 384.353 L2161.38 384.353 L2161.38 388.288 L2147.31 388.288 L2147.31 396.761 Q2148.33 396.413 2149.35 396.251 Q2150.37 396.066 2151.38 396.066 Q2157.17 396.066 2160.55 399.237 Q2163.93 402.409 2163.93 407.825 Q2163.93 413.404 2160.46 416.506 Q2156.99 419.584 2150.67 419.584 Q2148.49 419.584 2146.22 419.214 Q2143.98 418.844 2141.57 418.103 L2141.57 413.404 Q2143.65 414.538 2145.88 415.094 Q2148.1 415.649 2150.57 415.649 Q2154.58 415.649 2156.92 413.543 Q2159.25 411.436 2159.25 407.825 Q2159.25 404.214 2156.92 402.108 Q2154.58 400.001 2150.57 400.001 Q2148.7 400.001 2146.82 400.418 Q2144.97 400.835 2143.03 401.714 L2143.03 384.353 Z\" fill=\"#000000\" fill-rule=\"evenodd\" fill-opacity=\"1\" /><path clip-path=\"url(#clip200)\" d=\"M1180.29 455.608 L1180.29 465.729 L1192.35 465.729 L1192.35 470.281 L1180.29 470.281 L1180.29 489.632 Q1180.29 493.993 1181.47 495.234 Q1182.67 496.476 1186.33 496.476 L1192.35 496.476 L1192.35 501.377 L1186.33 501.377 Q1179.56 501.377 1176.98 498.863 Q1174.4 496.316 1174.4 489.632 L1174.4 470.281 L1170.1 470.281 L1170.1 465.729 L1174.4 465.729 L1174.4 455.608 L1180.29 455.608 Z\" fill=\"#000000\" fill-rule=\"evenodd\" fill-opacity=\"1\" /><path clip-path=\"url(#clip200)\" d=\"M1200.05 465.729 L1205.91 465.729 L1205.91 501.377 L1200.05 501.377 L1200.05 465.729 M1200.05 451.852 L1205.91 451.852 L1205.91 459.268 L1200.05 459.268 L1200.05 451.852 Z\" fill=\"#000000\" fill-rule=\"evenodd\" fill-opacity=\"1\" /><path clip-path=\"url(#clip200)\" d=\"M1245.92 472.572 Q1248.11 468.626 1251.17 466.748 Q1254.23 464.87 1258.36 464.87 Q1263.93 464.87 1266.96 468.785 Q1269.98 472.668 1269.98 479.861 L1269.98 501.377 L1264.09 501.377 L1264.09 480.052 Q1264.09 474.928 1262.28 472.445 Q1260.46 469.962 1256.74 469.962 Q1252.19 469.962 1249.55 472.986 Q1246.9 476.01 1246.9 481.23 L1246.9 501.377 L1241.02 501.377 L1241.02 480.052 Q1241.02 474.896 1239.2 472.445 Q1237.39 469.962 1233.6 469.962 Q1229.11 469.962 1226.47 473.018 Q1223.83 476.042 1223.83 481.23 L1223.83 501.377 L1217.94 501.377 L1217.94 465.729 L1223.83 465.729 L1223.83 471.267 Q1225.83 467.989 1228.63 466.429 Q1231.44 464.87 1235.29 464.87 Q1239.17 464.87 1241.88 466.843 Q1244.61 468.817 1245.92 472.572 Z\" fill=\"#000000\" fill-rule=\"evenodd\" fill-opacity=\"1\" /><path clip-path=\"url(#clip200)\" d=\"M1312.15 482.089 L1312.15 484.954 L1285.23 484.954 Q1285.61 491.001 1288.85 494.184 Q1292.13 497.335 1297.96 497.335 Q1301.33 497.335 1304.48 496.507 Q1307.67 495.68 1310.78 494.025 L1310.78 499.563 Q1307.63 500.9 1304.32 501.6 Q1301.01 502.3 1297.61 502.3 Q1289.08 502.3 1284.08 497.335 Q1279.11 492.37 1279.11 483.903 Q1279.11 475.15 1283.83 470.026 Q1288.57 464.87 1296.59 464.87 Q1303.78 464.87 1307.95 469.517 Q1312.15 474.132 1312.15 482.089 M1306.3 480.37 Q1306.23 475.564 1303.59 472.7 Q1300.98 469.835 1296.65 469.835 Q1291.75 469.835 1288.79 472.604 Q1285.86 475.373 1285.42 480.402 L1306.3 480.37 Z\" fill=\"#000000\" fill-rule=\"evenodd\" fill-opacity=\"1\" /><path clip-path=\"url(#clip200)\" d=\"M1321.22 451.852 L1334.72 451.852 L1334.72 456.403 L1327.08 456.403 L1327.08 505.419 L1334.72 505.419 L1334.72 509.971 L1321.22 509.971 L1321.22 451.852 Z\" fill=\"#000000\" fill-rule=\"evenodd\" fill-opacity=\"1\" /><path clip-path=\"url(#clip200)\" d=\"M1376.83 479.861 L1376.83 501.377 L1370.97 501.377 L1370.97 480.052 Q1370.97 474.991 1369 472.477 Q1367.03 469.962 1363.08 469.962 Q1358.34 469.962 1355.6 472.986 Q1352.86 476.01 1352.86 481.23 L1352.86 501.377 L1346.97 501.377 L1346.97 451.852 L1352.86 451.852 L1352.86 471.267 Q1354.96 468.053 1357.8 466.461 Q1360.66 464.87 1364.38 464.87 Q1370.53 464.87 1373.68 468.689 Q1376.83 472.477 1376.83 479.861 Z\" fill=\"#000000\" fill-rule=\"evenodd\" fill-opacity=\"1\" /><path clip-path=\"url(#clip200)\" d=\"M1402.2 451.852 L1402.2 509.971 L1388.7 509.971 L1388.7 505.419 L1396.31 505.419 L1396.31 456.403 L1388.7 456.403 L1388.7 451.852 L1402.2 451.852 Z\" fill=\"#000000\" fill-rule=\"evenodd\" fill-opacity=\"1\" /><polyline clip-path=\"url(#clip202)\" style=\"stroke:#000000; stroke-linecap:round; stroke-linejoin:round; stroke-width:8; stroke-opacity:0.1; fill:none\" points=\"219.542,296.95 2352.76,296.95 \"/>\n",
       "<polyline clip-path=\"url(#clip202)\" style=\"stroke:#000000; stroke-linecap:round; stroke-linejoin:round; stroke-width:8; stroke-opacity:0.1; fill:none\" points=\"219.542,228.106 2352.76,228.106 \"/>\n",
       "<polyline clip-path=\"url(#clip202)\" style=\"stroke:#000000; stroke-linecap:round; stroke-linejoin:round; stroke-width:8; stroke-opacity:0.1; fill:none\" points=\"219.542,159.262 2352.76,159.262 \"/>\n",
       "<polyline clip-path=\"url(#clip202)\" style=\"stroke:#000000; stroke-linecap:round; stroke-linejoin:round; stroke-width:8; stroke-opacity:0.1; fill:none\" points=\"219.542,90.4188 2352.76,90.4188 \"/>\n",
       "<polyline clip-path=\"url(#clip200)\" style=\"stroke:#000000; stroke-linecap:round; stroke-linejoin:round; stroke-width:4; stroke-opacity:1; fill:none\" points=\"219.542,356.513 219.542,47.2441 \"/>\n",
       "<polyline clip-path=\"url(#clip200)\" style=\"stroke:#000000; stroke-linecap:round; stroke-linejoin:round; stroke-width:4; stroke-opacity:1; fill:none\" points=\"219.542,296.95 238.44,296.95 \"/>\n",
       "<polyline clip-path=\"url(#clip200)\" style=\"stroke:#000000; stroke-linecap:round; stroke-linejoin:round; stroke-width:4; stroke-opacity:1; fill:none\" points=\"219.542,228.106 238.44,228.106 \"/>\n",
       "<polyline clip-path=\"url(#clip200)\" style=\"stroke:#000000; stroke-linecap:round; stroke-linejoin:round; stroke-width:4; stroke-opacity:1; fill:none\" points=\"219.542,159.262 238.44,159.262 \"/>\n",
       "<polyline clip-path=\"url(#clip200)\" style=\"stroke:#000000; stroke-linecap:round; stroke-linejoin:round; stroke-width:4; stroke-opacity:1; fill:none\" points=\"219.542,90.4188 238.44,90.4188 \"/>\n",
       "<path clip-path=\"url(#clip200)\" d=\"M127.269 282.748 Q123.658 282.748 121.83 286.313 Q120.024 289.855 120.024 296.984 Q120.024 304.091 121.83 307.656 Q123.658 311.197 127.269 311.197 Q130.904 311.197 132.709 307.656 Q134.538 304.091 134.538 296.984 Q134.538 289.855 132.709 286.313 Q130.904 282.748 127.269 282.748 M127.269 279.045 Q133.08 279.045 136.135 283.651 Q139.214 288.234 139.214 296.984 Q139.214 305.711 136.135 310.318 Q133.08 314.901 127.269 314.901 Q121.459 314.901 118.381 310.318 Q115.325 305.711 115.325 296.984 Q115.325 288.234 118.381 283.651 Q121.459 279.045 127.269 279.045 Z\" fill=\"#000000\" fill-rule=\"evenodd\" fill-opacity=\"1\" /><path clip-path=\"url(#clip200)\" d=\"M147.431 308.35 L152.316 308.35 L152.316 314.23 L147.431 314.23 L147.431 308.35 Z\" fill=\"#000000\" fill-rule=\"evenodd\" fill-opacity=\"1\" /><path clip-path=\"url(#clip200)\" d=\"M161.32 279.67 L183.542 279.67 L183.542 281.66 L170.996 314.23 L166.112 314.23 L177.917 283.605 L161.32 283.605 L161.32 279.67 Z\" fill=\"#000000\" fill-rule=\"evenodd\" fill-opacity=\"1\" /><path clip-path=\"url(#clip200)\" d=\"M126.459 213.905 Q122.848 213.905 121.019 217.469 Q119.214 221.011 119.214 228.141 Q119.214 235.247 121.019 238.812 Q122.848 242.354 126.459 242.354 Q130.093 242.354 131.899 238.812 Q133.728 235.247 133.728 228.141 Q133.728 221.011 131.899 217.469 Q130.093 213.905 126.459 213.905 M126.459 210.201 Q132.269 210.201 135.325 214.807 Q138.404 219.391 138.404 228.141 Q138.404 236.868 135.325 241.474 Q132.269 246.057 126.459 246.057 Q120.649 246.057 117.57 241.474 Q114.515 236.868 114.515 228.141 Q114.515 219.391 117.57 214.807 Q120.649 210.201 126.459 210.201 Z\" fill=\"#000000\" fill-rule=\"evenodd\" fill-opacity=\"1\" /><path clip-path=\"url(#clip200)\" d=\"M146.621 239.506 L151.505 239.506 L151.505 245.386 L146.621 245.386 L146.621 239.506 Z\" fill=\"#000000\" fill-rule=\"evenodd\" fill-opacity=\"1\" /><path clip-path=\"url(#clip200)\" d=\"M171.69 228.974 Q168.357 228.974 166.436 230.756 Q164.538 232.539 164.538 235.664 Q164.538 238.789 166.436 240.571 Q168.357 242.354 171.69 242.354 Q175.024 242.354 176.945 240.571 Q178.866 238.766 178.866 235.664 Q178.866 232.539 176.945 230.756 Q175.047 228.974 171.69 228.974 M167.015 226.983 Q164.005 226.243 162.315 224.182 Q160.649 222.122 160.649 219.159 Q160.649 215.016 163.589 212.608 Q166.552 210.201 171.69 210.201 Q176.852 210.201 179.792 212.608 Q182.732 215.016 182.732 219.159 Q182.732 222.122 181.042 224.182 Q179.376 226.243 176.389 226.983 Q179.769 227.77 181.644 230.062 Q183.542 232.354 183.542 235.664 Q183.542 240.687 180.464 243.372 Q177.408 246.057 171.69 246.057 Q165.973 246.057 162.894 243.372 Q159.839 240.687 159.839 235.664 Q159.839 232.354 161.737 230.062 Q163.635 227.77 167.015 226.983 M165.302 219.599 Q165.302 222.284 166.968 223.789 Q168.658 225.293 171.69 225.293 Q174.7 225.293 176.389 223.789 Q178.102 222.284 178.102 219.599 Q178.102 216.914 176.389 215.409 Q174.7 213.905 171.69 213.905 Q168.658 213.905 166.968 215.409 Q165.302 216.914 165.302 219.599 Z\" fill=\"#000000\" fill-rule=\"evenodd\" fill-opacity=\"1\" /><path clip-path=\"url(#clip200)\" d=\"M126.552 145.061 Q122.941 145.061 121.112 148.626 Q119.306 152.168 119.306 159.297 Q119.306 166.404 121.112 169.968 Q122.941 173.51 126.552 173.51 Q130.186 173.51 131.992 169.968 Q133.82 166.404 133.82 159.297 Q133.82 152.168 131.992 148.626 Q130.186 145.061 126.552 145.061 M126.552 141.357 Q132.362 141.357 135.417 145.964 Q138.496 150.547 138.496 159.297 Q138.496 168.024 135.417 172.63 Q132.362 177.214 126.552 177.214 Q120.742 177.214 117.663 172.63 Q114.607 168.024 114.607 159.297 Q114.607 150.547 117.663 145.964 Q120.742 141.357 126.552 141.357 Z\" fill=\"#000000\" fill-rule=\"evenodd\" fill-opacity=\"1\" /><path clip-path=\"url(#clip200)\" d=\"M146.714 170.663 L151.598 170.663 L151.598 176.542 L146.714 176.542 L146.714 170.663 Z\" fill=\"#000000\" fill-rule=\"evenodd\" fill-opacity=\"1\" /><path clip-path=\"url(#clip200)\" d=\"M161.922 175.825 L161.922 171.566 Q163.681 172.399 165.487 172.839 Q167.292 173.279 169.028 173.279 Q173.658 173.279 176.089 170.177 Q178.542 167.052 178.889 160.709 Q177.547 162.7 175.487 163.765 Q173.427 164.829 170.927 164.829 Q165.741 164.829 162.709 161.705 Q159.7 158.556 159.7 153.117 Q159.7 147.793 162.848 144.575 Q165.996 141.357 171.227 141.357 Q177.223 141.357 180.371 145.964 Q183.542 150.547 183.542 159.297 Q183.542 167.468 179.653 172.353 Q175.788 177.214 169.237 177.214 Q167.477 177.214 165.672 176.866 Q163.866 176.519 161.922 175.825 M171.227 161.172 Q174.376 161.172 176.204 159.019 Q178.056 156.867 178.056 153.117 Q178.056 149.39 176.204 147.237 Q174.376 145.061 171.227 145.061 Q168.079 145.061 166.227 147.237 Q164.399 149.39 164.399 153.117 Q164.399 156.867 166.227 159.019 Q168.079 161.172 171.227 161.172 Z\" fill=\"#000000\" fill-rule=\"evenodd\" fill-opacity=\"1\" /><path clip-path=\"url(#clip200)\" d=\"M117.177 103.764 L124.816 103.764 L124.816 77.398 L116.506 79.0647 L116.506 74.8054 L124.769 73.1388 L129.445 73.1388 L129.445 103.764 L137.084 103.764 L137.084 107.699 L117.177 107.699 L117.177 103.764 Z\" fill=\"#000000\" fill-rule=\"evenodd\" fill-opacity=\"1\" /><path clip-path=\"url(#clip200)\" d=\"M146.529 101.819 L151.413 101.819 L151.413 107.699 L146.529 107.699 L146.529 101.819 Z\" fill=\"#000000\" fill-rule=\"evenodd\" fill-opacity=\"1\" /><path clip-path=\"url(#clip200)\" d=\"M171.598 76.2175 Q167.987 76.2175 166.158 79.7823 Q164.352 83.3239 164.352 90.4535 Q164.352 97.56 166.158 101.125 Q167.987 104.666 171.598 104.666 Q175.232 104.666 177.038 101.125 Q178.866 97.56 178.866 90.4535 Q178.866 83.3239 177.038 79.7823 Q175.232 76.2175 171.598 76.2175 M171.598 72.5138 Q177.408 72.5138 180.464 77.1203 Q183.542 81.7036 183.542 90.4535 Q183.542 99.1803 180.464 103.787 Q177.408 108.37 171.598 108.37 Q165.788 108.37 162.709 103.787 Q159.653 99.1803 159.653 90.4535 Q159.653 81.7036 162.709 77.1203 Q165.788 72.5138 171.598 72.5138 Z\" fill=\"#000000\" fill-rule=\"evenodd\" fill-opacity=\"1\" /><path clip-path=\"url(#clip200)\" d=\"M67.569 252.168 Q73.9347 254.65 75.8762 257.006 Q77.8177 259.361 77.8177 263.308 L77.8177 267.986 L72.9161 267.986 L72.9161 264.549 Q72.9161 262.13 71.7703 260.793 Q70.6245 259.456 66.3595 257.833 L63.6859 256.783 L28.6108 271.201 L28.6108 264.995 L56.4926 253.855 L28.6108 242.715 L28.6108 236.508 L67.569 252.168 Z\" fill=\"#000000\" fill-rule=\"evenodd\" fill-opacity=\"1\" /><path clip-path=\"url(#clip200)\" d=\"M75.0805 201.338 L79.632 201.338 L79.632 235.203 L75.0805 235.203 L75.0805 201.338 Z\" fill=\"#000000\" fill-rule=\"evenodd\" fill-opacity=\"1\" /><path clip-path=\"url(#clip200)\" d=\"M29.6612 173.106 L35.1993 173.106 Q33.9262 175.588 33.2896 178.262 Q32.6531 180.935 32.6531 183.8 Q32.6531 188.161 33.9899 190.357 Q35.3266 192.521 38.0002 192.521 Q40.0373 192.521 41.2149 190.961 Q42.3608 189.402 43.4111 184.691 L43.8567 182.686 Q45.1935 176.448 47.6443 173.838 Q50.0633 171.196 54.4238 171.196 Q59.389 171.196 62.2854 175.143 Q65.1818 179.058 65.1818 185.933 Q65.1818 188.797 64.6089 191.916 Q64.0678 195.004 62.9538 198.441 L56.9064 198.441 Q58.5933 195.195 59.4527 192.044 Q60.2802 188.893 60.2802 185.805 Q60.2802 181.668 58.8798 179.44 Q57.4475 177.212 54.8694 177.212 Q52.4822 177.212 51.2091 178.835 Q49.9359 180.426 48.7583 185.869 L48.2809 187.906 Q47.135 193.349 44.7797 195.768 Q42.3926 198.187 38.2549 198.187 Q33.226 198.187 30.4887 194.622 Q27.7515 191.057 27.7515 184.5 Q27.7515 181.254 28.2289 178.389 Q28.7063 175.525 29.6612 173.106 Z\" fill=\"#000000\" fill-rule=\"evenodd\" fill-opacity=\"1\" /><path clip-path=\"url(#clip200)\" d=\"M58.8479 159.929 L58.8479 149.425 L22.5952 149.425 L24.8869 160.852 L19.0304 160.852 L16.7388 149.489 L16.7388 143.06 L58.8479 143.06 L58.8479 132.556 L64.2588 132.556 L64.2588 159.929 L58.8479 159.929 Z\" fill=\"#000000\" fill-rule=\"evenodd\" fill-opacity=\"1\" /><polyline clip-path=\"url(#clip202)\" style=\"stroke:#000000; stroke-linecap:round; stroke-linejoin:round; stroke-width:4; stroke-opacity:1; fill:none\" stroke-dasharray=\"2, 4\" points=\"279.916,55.997 357.319,55.997 434.721,55.997 512.124,55.997 589.526,55.997 666.929,55.997 744.331,55.997 821.734,55.997 899.136,55.997 976.539,55.997 1053.94,55.997 1131.34,55.997 1208.75,55.997 1286.15,55.997 1363.55,55.997 1440.95,55.997 1518.36,55.997 1595.76,55.997 1673.16,55.997 1750.56,55.997 1827.97,55.997 1905.37,55.997 1982.77,55.997 2060.17,55.997 2137.58,55.997 2214.98,55.997 2292.38,55.997 \"/>\n",
       "<polyline clip-path=\"url(#clip202)\" style=\"stroke:#000000; stroke-linecap:round; stroke-linejoin:round; stroke-width:4; stroke-opacity:1; fill:none\" stroke-dasharray=\"2, 4\" points=\"279.916,90.4188 357.319,90.4188 434.721,90.4188 512.124,90.4188 589.526,90.4188 666.929,90.4188 744.331,90.4188 821.734,90.4188 899.136,90.4188 976.539,90.4188 1053.94,90.4188 1131.34,90.4188 1208.75,90.4188 1286.15,90.4188 1363.55,90.4188 1440.95,90.4188 1518.36,90.4188 1595.76,90.4188 1673.16,90.4188 1750.56,90.4188 1827.97,90.4188 1905.37,90.4188 1982.77,90.4188 2060.17,90.4188 2137.58,90.4188 2214.98,90.4188 2292.38,90.4188 \"/>\n",
       "<polyline clip-path=\"url(#clip202)\" style=\"stroke:#ff0000; stroke-linecap:round; stroke-linejoin:round; stroke-width:20; stroke-opacity:0.3; fill:none\" points=\"279.916,347.76 357.319,334.987 434.721,294.593 512.124,239.132 589.526,180.705 666.929,130.012 744.331,97.1296 821.734,83.0095 899.136,81.442 976.539,85.978 1053.94,91.6763 1131.34,95.0016 1208.75,93.3181 1286.15,90.6038 1363.55,89.8279 1440.95,90.1793 1518.36,90.6202 1595.76,90.4427 1673.16,90.3887 1750.56,90.4486 1827.97,90.4156 1905.37,90.4091 1982.77,90.4114 2060.17,90.4157 2137.58,90.4197 2214.98,90.4228 2292.38,90.425 \"/>\n",
       "<line clip-path=\"url(#clip202)\" x1=\"279.916\" y1=\"347.76\" x2=\"279.916\" y2=\"331.76\" style=\"stroke:#3da44d; stroke-width:3.2; stroke-opacity:1\"/>\n",
       "<line clip-path=\"url(#clip202)\" x1=\"279.916\" y1=\"347.76\" x2=\"263.916\" y2=\"347.76\" style=\"stroke:#3da44d; stroke-width:3.2; stroke-opacity:1\"/>\n",
       "<line clip-path=\"url(#clip202)\" x1=\"279.916\" y1=\"347.76\" x2=\"279.916\" y2=\"363.76\" style=\"stroke:#3da44d; stroke-width:3.2; stroke-opacity:1\"/>\n",
       "<line clip-path=\"url(#clip202)\" x1=\"279.916\" y1=\"347.76\" x2=\"295.916\" y2=\"347.76\" style=\"stroke:#3da44d; stroke-width:3.2; stroke-opacity:1\"/>\n",
       "<line clip-path=\"url(#clip202)\" x1=\"357.319\" y1=\"334.987\" x2=\"357.319\" y2=\"318.987\" style=\"stroke:#3da44d; stroke-width:3.2; stroke-opacity:1\"/>\n",
       "<line clip-path=\"url(#clip202)\" x1=\"357.319\" y1=\"334.987\" x2=\"341.319\" y2=\"334.987\" style=\"stroke:#3da44d; stroke-width:3.2; stroke-opacity:1\"/>\n",
       "<line clip-path=\"url(#clip202)\" x1=\"357.319\" y1=\"334.987\" x2=\"357.319\" y2=\"350.987\" style=\"stroke:#3da44d; stroke-width:3.2; stroke-opacity:1\"/>\n",
       "<line clip-path=\"url(#clip202)\" x1=\"357.319\" y1=\"334.987\" x2=\"373.319\" y2=\"334.987\" style=\"stroke:#3da44d; stroke-width:3.2; stroke-opacity:1\"/>\n",
       "<line clip-path=\"url(#clip202)\" x1=\"434.721\" y1=\"294.593\" x2=\"434.721\" y2=\"278.593\" style=\"stroke:#3da44d; stroke-width:3.2; stroke-opacity:1\"/>\n",
       "<line clip-path=\"url(#clip202)\" x1=\"434.721\" y1=\"294.593\" x2=\"418.721\" y2=\"294.593\" style=\"stroke:#3da44d; stroke-width:3.2; stroke-opacity:1\"/>\n",
       "<line clip-path=\"url(#clip202)\" x1=\"434.721\" y1=\"294.593\" x2=\"434.721\" y2=\"310.593\" style=\"stroke:#3da44d; stroke-width:3.2; stroke-opacity:1\"/>\n",
       "<line clip-path=\"url(#clip202)\" x1=\"434.721\" y1=\"294.593\" x2=\"450.721\" y2=\"294.593\" style=\"stroke:#3da44d; stroke-width:3.2; stroke-opacity:1\"/>\n",
       "<line clip-path=\"url(#clip202)\" x1=\"512.124\" y1=\"239.132\" x2=\"512.124\" y2=\"223.132\" style=\"stroke:#3da44d; stroke-width:3.2; stroke-opacity:1\"/>\n",
       "<line clip-path=\"url(#clip202)\" x1=\"512.124\" y1=\"239.132\" x2=\"496.124\" y2=\"239.132\" style=\"stroke:#3da44d; stroke-width:3.2; stroke-opacity:1\"/>\n",
       "<line clip-path=\"url(#clip202)\" x1=\"512.124\" y1=\"239.132\" x2=\"512.124\" y2=\"255.132\" style=\"stroke:#3da44d; stroke-width:3.2; stroke-opacity:1\"/>\n",
       "<line clip-path=\"url(#clip202)\" x1=\"512.124\" y1=\"239.132\" x2=\"528.124\" y2=\"239.132\" style=\"stroke:#3da44d; stroke-width:3.2; stroke-opacity:1\"/>\n",
       "<line clip-path=\"url(#clip202)\" x1=\"589.526\" y1=\"180.705\" x2=\"589.526\" y2=\"164.705\" style=\"stroke:#3da44d; stroke-width:3.2; stroke-opacity:1\"/>\n",
       "<line clip-path=\"url(#clip202)\" x1=\"589.526\" y1=\"180.705\" x2=\"573.526\" y2=\"180.705\" style=\"stroke:#3da44d; stroke-width:3.2; stroke-opacity:1\"/>\n",
       "<line clip-path=\"url(#clip202)\" x1=\"589.526\" y1=\"180.705\" x2=\"589.526\" y2=\"196.705\" style=\"stroke:#3da44d; stroke-width:3.2; stroke-opacity:1\"/>\n",
       "<line clip-path=\"url(#clip202)\" x1=\"589.526\" y1=\"180.705\" x2=\"605.526\" y2=\"180.705\" style=\"stroke:#3da44d; stroke-width:3.2; stroke-opacity:1\"/>\n",
       "<line clip-path=\"url(#clip202)\" x1=\"666.929\" y1=\"130.012\" x2=\"666.929\" y2=\"114.012\" style=\"stroke:#3da44d; stroke-width:3.2; stroke-opacity:1\"/>\n",
       "<line clip-path=\"url(#clip202)\" x1=\"666.929\" y1=\"130.012\" x2=\"650.929\" y2=\"130.012\" style=\"stroke:#3da44d; stroke-width:3.2; stroke-opacity:1\"/>\n",
       "<line clip-path=\"url(#clip202)\" x1=\"666.929\" y1=\"130.012\" x2=\"666.929\" y2=\"146.012\" style=\"stroke:#3da44d; stroke-width:3.2; stroke-opacity:1\"/>\n",
       "<line clip-path=\"url(#clip202)\" x1=\"666.929\" y1=\"130.012\" x2=\"682.929\" y2=\"130.012\" style=\"stroke:#3da44d; stroke-width:3.2; stroke-opacity:1\"/>\n",
       "<line clip-path=\"url(#clip202)\" x1=\"744.331\" y1=\"97.1296\" x2=\"744.331\" y2=\"81.1296\" style=\"stroke:#3da44d; stroke-width:3.2; stroke-opacity:1\"/>\n",
       "<line clip-path=\"url(#clip202)\" x1=\"744.331\" y1=\"97.1296\" x2=\"728.331\" y2=\"97.1296\" style=\"stroke:#3da44d; stroke-width:3.2; stroke-opacity:1\"/>\n",
       "<line clip-path=\"url(#clip202)\" x1=\"744.331\" y1=\"97.1296\" x2=\"744.331\" y2=\"113.13\" style=\"stroke:#3da44d; stroke-width:3.2; stroke-opacity:1\"/>\n",
       "<line clip-path=\"url(#clip202)\" x1=\"744.331\" y1=\"97.1296\" x2=\"760.331\" y2=\"97.1296\" style=\"stroke:#3da44d; stroke-width:3.2; stroke-opacity:1\"/>\n",
       "<line clip-path=\"url(#clip202)\" x1=\"821.734\" y1=\"83.0095\" x2=\"821.734\" y2=\"67.0095\" style=\"stroke:#3da44d; stroke-width:3.2; stroke-opacity:1\"/>\n",
       "<line clip-path=\"url(#clip202)\" x1=\"821.734\" y1=\"83.0095\" x2=\"805.734\" y2=\"83.0095\" style=\"stroke:#3da44d; stroke-width:3.2; stroke-opacity:1\"/>\n",
       "<line clip-path=\"url(#clip202)\" x1=\"821.734\" y1=\"83.0095\" x2=\"821.734\" y2=\"99.0095\" style=\"stroke:#3da44d; stroke-width:3.2; stroke-opacity:1\"/>\n",
       "<line clip-path=\"url(#clip202)\" x1=\"821.734\" y1=\"83.0095\" x2=\"837.734\" y2=\"83.0095\" style=\"stroke:#3da44d; stroke-width:3.2; stroke-opacity:1\"/>\n",
       "<line clip-path=\"url(#clip202)\" x1=\"899.136\" y1=\"81.442\" x2=\"899.136\" y2=\"65.442\" style=\"stroke:#3da44d; stroke-width:3.2; stroke-opacity:1\"/>\n",
       "<line clip-path=\"url(#clip202)\" x1=\"899.136\" y1=\"81.442\" x2=\"883.136\" y2=\"81.442\" style=\"stroke:#3da44d; stroke-width:3.2; stroke-opacity:1\"/>\n",
       "<line clip-path=\"url(#clip202)\" x1=\"899.136\" y1=\"81.442\" x2=\"899.136\" y2=\"97.442\" style=\"stroke:#3da44d; stroke-width:3.2; stroke-opacity:1\"/>\n",
       "<line clip-path=\"url(#clip202)\" x1=\"899.136\" y1=\"81.442\" x2=\"915.136\" y2=\"81.442\" style=\"stroke:#3da44d; stroke-width:3.2; stroke-opacity:1\"/>\n",
       "<line clip-path=\"url(#clip202)\" x1=\"976.539\" y1=\"85.978\" x2=\"976.539\" y2=\"69.978\" style=\"stroke:#3da44d; stroke-width:3.2; stroke-opacity:1\"/>\n",
       "<line clip-path=\"url(#clip202)\" x1=\"976.539\" y1=\"85.978\" x2=\"960.539\" y2=\"85.978\" style=\"stroke:#3da44d; stroke-width:3.2; stroke-opacity:1\"/>\n",
       "<line clip-path=\"url(#clip202)\" x1=\"976.539\" y1=\"85.978\" x2=\"976.539\" y2=\"101.978\" style=\"stroke:#3da44d; stroke-width:3.2; stroke-opacity:1\"/>\n",
       "<line clip-path=\"url(#clip202)\" x1=\"976.539\" y1=\"85.978\" x2=\"992.539\" y2=\"85.978\" style=\"stroke:#3da44d; stroke-width:3.2; stroke-opacity:1\"/>\n",
       "<line clip-path=\"url(#clip202)\" x1=\"1053.94\" y1=\"91.6763\" x2=\"1053.94\" y2=\"75.6763\" style=\"stroke:#3da44d; stroke-width:3.2; stroke-opacity:1\"/>\n",
       "<line clip-path=\"url(#clip202)\" x1=\"1053.94\" y1=\"91.6763\" x2=\"1037.94\" y2=\"91.6763\" style=\"stroke:#3da44d; stroke-width:3.2; stroke-opacity:1\"/>\n",
       "<line clip-path=\"url(#clip202)\" x1=\"1053.94\" y1=\"91.6763\" x2=\"1053.94\" y2=\"107.676\" style=\"stroke:#3da44d; stroke-width:3.2; stroke-opacity:1\"/>\n",
       "<line clip-path=\"url(#clip202)\" x1=\"1053.94\" y1=\"91.6763\" x2=\"1069.94\" y2=\"91.6763\" style=\"stroke:#3da44d; stroke-width:3.2; stroke-opacity:1\"/>\n",
       "<line clip-path=\"url(#clip202)\" x1=\"1131.34\" y1=\"95.0016\" x2=\"1131.34\" y2=\"79.0016\" style=\"stroke:#3da44d; stroke-width:3.2; stroke-opacity:1\"/>\n",
       "<line clip-path=\"url(#clip202)\" x1=\"1131.34\" y1=\"95.0016\" x2=\"1115.34\" y2=\"95.0016\" style=\"stroke:#3da44d; stroke-width:3.2; stroke-opacity:1\"/>\n",
       "<line clip-path=\"url(#clip202)\" x1=\"1131.34\" y1=\"95.0016\" x2=\"1131.34\" y2=\"111.002\" style=\"stroke:#3da44d; stroke-width:3.2; stroke-opacity:1\"/>\n",
       "<line clip-path=\"url(#clip202)\" x1=\"1131.34\" y1=\"95.0016\" x2=\"1147.34\" y2=\"95.0016\" style=\"stroke:#3da44d; stroke-width:3.2; stroke-opacity:1\"/>\n",
       "<line clip-path=\"url(#clip202)\" x1=\"1208.75\" y1=\"93.3181\" x2=\"1208.75\" y2=\"77.3181\" style=\"stroke:#3da44d; stroke-width:3.2; stroke-opacity:1\"/>\n",
       "<line clip-path=\"url(#clip202)\" x1=\"1208.75\" y1=\"93.3181\" x2=\"1192.75\" y2=\"93.3181\" style=\"stroke:#3da44d; stroke-width:3.2; stroke-opacity:1\"/>\n",
       "<line clip-path=\"url(#clip202)\" x1=\"1208.75\" y1=\"93.3181\" x2=\"1208.75\" y2=\"109.318\" style=\"stroke:#3da44d; stroke-width:3.2; stroke-opacity:1\"/>\n",
       "<line clip-path=\"url(#clip202)\" x1=\"1208.75\" y1=\"93.3181\" x2=\"1224.75\" y2=\"93.3181\" style=\"stroke:#3da44d; stroke-width:3.2; stroke-opacity:1\"/>\n",
       "<line clip-path=\"url(#clip202)\" x1=\"1286.15\" y1=\"90.6038\" x2=\"1286.15\" y2=\"74.6038\" style=\"stroke:#3da44d; stroke-width:3.2; stroke-opacity:1\"/>\n",
       "<line clip-path=\"url(#clip202)\" x1=\"1286.15\" y1=\"90.6038\" x2=\"1270.15\" y2=\"90.6038\" style=\"stroke:#3da44d; stroke-width:3.2; stroke-opacity:1\"/>\n",
       "<line clip-path=\"url(#clip202)\" x1=\"1286.15\" y1=\"90.6038\" x2=\"1286.15\" y2=\"106.604\" style=\"stroke:#3da44d; stroke-width:3.2; stroke-opacity:1\"/>\n",
       "<line clip-path=\"url(#clip202)\" x1=\"1286.15\" y1=\"90.6038\" x2=\"1302.15\" y2=\"90.6038\" style=\"stroke:#3da44d; stroke-width:3.2; stroke-opacity:1\"/>\n",
       "<line clip-path=\"url(#clip202)\" x1=\"1363.55\" y1=\"89.8279\" x2=\"1363.55\" y2=\"73.8279\" style=\"stroke:#3da44d; stroke-width:3.2; stroke-opacity:1\"/>\n",
       "<line clip-path=\"url(#clip202)\" x1=\"1363.55\" y1=\"89.8279\" x2=\"1347.55\" y2=\"89.8279\" style=\"stroke:#3da44d; stroke-width:3.2; stroke-opacity:1\"/>\n",
       "<line clip-path=\"url(#clip202)\" x1=\"1363.55\" y1=\"89.8279\" x2=\"1363.55\" y2=\"105.828\" style=\"stroke:#3da44d; stroke-width:3.2; stroke-opacity:1\"/>\n",
       "<line clip-path=\"url(#clip202)\" x1=\"1363.55\" y1=\"89.8279\" x2=\"1379.55\" y2=\"89.8279\" style=\"stroke:#3da44d; stroke-width:3.2; stroke-opacity:1\"/>\n",
       "<line clip-path=\"url(#clip202)\" x1=\"1440.95\" y1=\"90.1793\" x2=\"1440.95\" y2=\"74.1793\" style=\"stroke:#3da44d; stroke-width:3.2; stroke-opacity:1\"/>\n",
       "<line clip-path=\"url(#clip202)\" x1=\"1440.95\" y1=\"90.1793\" x2=\"1424.95\" y2=\"90.1793\" style=\"stroke:#3da44d; stroke-width:3.2; stroke-opacity:1\"/>\n",
       "<line clip-path=\"url(#clip202)\" x1=\"1440.95\" y1=\"90.1793\" x2=\"1440.95\" y2=\"106.179\" style=\"stroke:#3da44d; stroke-width:3.2; stroke-opacity:1\"/>\n",
       "<line clip-path=\"url(#clip202)\" x1=\"1440.95\" y1=\"90.1793\" x2=\"1456.95\" y2=\"90.1793\" style=\"stroke:#3da44d; stroke-width:3.2; stroke-opacity:1\"/>\n",
       "<line clip-path=\"url(#clip202)\" x1=\"1518.36\" y1=\"90.6202\" x2=\"1518.36\" y2=\"74.6202\" style=\"stroke:#3da44d; stroke-width:3.2; stroke-opacity:1\"/>\n",
       "<line clip-path=\"url(#clip202)\" x1=\"1518.36\" y1=\"90.6202\" x2=\"1502.36\" y2=\"90.6202\" style=\"stroke:#3da44d; stroke-width:3.2; stroke-opacity:1\"/>\n",
       "<line clip-path=\"url(#clip202)\" x1=\"1518.36\" y1=\"90.6202\" x2=\"1518.36\" y2=\"106.62\" style=\"stroke:#3da44d; stroke-width:3.2; stroke-opacity:1\"/>\n",
       "<line clip-path=\"url(#clip202)\" x1=\"1518.36\" y1=\"90.6202\" x2=\"1534.36\" y2=\"90.6202\" style=\"stroke:#3da44d; stroke-width:3.2; stroke-opacity:1\"/>\n",
       "<line clip-path=\"url(#clip202)\" x1=\"1595.76\" y1=\"90.4427\" x2=\"1595.76\" y2=\"74.4427\" style=\"stroke:#3da44d; stroke-width:3.2; stroke-opacity:1\"/>\n",
       "<line clip-path=\"url(#clip202)\" x1=\"1595.76\" y1=\"90.4427\" x2=\"1579.76\" y2=\"90.4427\" style=\"stroke:#3da44d; stroke-width:3.2; stroke-opacity:1\"/>\n",
       "<line clip-path=\"url(#clip202)\" x1=\"1595.76\" y1=\"90.4427\" x2=\"1595.76\" y2=\"106.443\" style=\"stroke:#3da44d; stroke-width:3.2; stroke-opacity:1\"/>\n",
       "<line clip-path=\"url(#clip202)\" x1=\"1595.76\" y1=\"90.4427\" x2=\"1611.76\" y2=\"90.4427\" style=\"stroke:#3da44d; stroke-width:3.2; stroke-opacity:1\"/>\n",
       "<line clip-path=\"url(#clip202)\" x1=\"1673.16\" y1=\"90.3887\" x2=\"1673.16\" y2=\"74.3887\" style=\"stroke:#3da44d; stroke-width:3.2; stroke-opacity:1\"/>\n",
       "<line clip-path=\"url(#clip202)\" x1=\"1673.16\" y1=\"90.3887\" x2=\"1657.16\" y2=\"90.3887\" style=\"stroke:#3da44d; stroke-width:3.2; stroke-opacity:1\"/>\n",
       "<line clip-path=\"url(#clip202)\" x1=\"1673.16\" y1=\"90.3887\" x2=\"1673.16\" y2=\"106.389\" style=\"stroke:#3da44d; stroke-width:3.2; stroke-opacity:1\"/>\n",
       "<line clip-path=\"url(#clip202)\" x1=\"1673.16\" y1=\"90.3887\" x2=\"1689.16\" y2=\"90.3887\" style=\"stroke:#3da44d; stroke-width:3.2; stroke-opacity:1\"/>\n",
       "<line clip-path=\"url(#clip202)\" x1=\"1750.56\" y1=\"90.4486\" x2=\"1750.56\" y2=\"74.4486\" style=\"stroke:#3da44d; stroke-width:3.2; stroke-opacity:1\"/>\n",
       "<line clip-path=\"url(#clip202)\" x1=\"1750.56\" y1=\"90.4486\" x2=\"1734.56\" y2=\"90.4486\" style=\"stroke:#3da44d; stroke-width:3.2; stroke-opacity:1\"/>\n",
       "<line clip-path=\"url(#clip202)\" x1=\"1750.56\" y1=\"90.4486\" x2=\"1750.56\" y2=\"106.449\" style=\"stroke:#3da44d; stroke-width:3.2; stroke-opacity:1\"/>\n",
       "<line clip-path=\"url(#clip202)\" x1=\"1750.56\" y1=\"90.4486\" x2=\"1766.56\" y2=\"90.4486\" style=\"stroke:#3da44d; stroke-width:3.2; stroke-opacity:1\"/>\n",
       "<line clip-path=\"url(#clip202)\" x1=\"1827.97\" y1=\"90.4156\" x2=\"1827.97\" y2=\"74.4156\" style=\"stroke:#3da44d; stroke-width:3.2; stroke-opacity:1\"/>\n",
       "<line clip-path=\"url(#clip202)\" x1=\"1827.97\" y1=\"90.4156\" x2=\"1811.97\" y2=\"90.4156\" style=\"stroke:#3da44d; stroke-width:3.2; stroke-opacity:1\"/>\n",
       "<line clip-path=\"url(#clip202)\" x1=\"1827.97\" y1=\"90.4156\" x2=\"1827.97\" y2=\"106.416\" style=\"stroke:#3da44d; stroke-width:3.2; stroke-opacity:1\"/>\n",
       "<line clip-path=\"url(#clip202)\" x1=\"1827.97\" y1=\"90.4156\" x2=\"1843.97\" y2=\"90.4156\" style=\"stroke:#3da44d; stroke-width:3.2; stroke-opacity:1\"/>\n",
       "<line clip-path=\"url(#clip202)\" x1=\"1905.37\" y1=\"90.4091\" x2=\"1905.37\" y2=\"74.4091\" style=\"stroke:#3da44d; stroke-width:3.2; stroke-opacity:1\"/>\n",
       "<line clip-path=\"url(#clip202)\" x1=\"1905.37\" y1=\"90.4091\" x2=\"1889.37\" y2=\"90.4091\" style=\"stroke:#3da44d; stroke-width:3.2; stroke-opacity:1\"/>\n",
       "<line clip-path=\"url(#clip202)\" x1=\"1905.37\" y1=\"90.4091\" x2=\"1905.37\" y2=\"106.409\" style=\"stroke:#3da44d; stroke-width:3.2; stroke-opacity:1\"/>\n",
       "<line clip-path=\"url(#clip202)\" x1=\"1905.37\" y1=\"90.4091\" x2=\"1921.37\" y2=\"90.4091\" style=\"stroke:#3da44d; stroke-width:3.2; stroke-opacity:1\"/>\n",
       "<line clip-path=\"url(#clip202)\" x1=\"1982.77\" y1=\"90.4114\" x2=\"1982.77\" y2=\"74.4114\" style=\"stroke:#3da44d; stroke-width:3.2; stroke-opacity:1\"/>\n",
       "<line clip-path=\"url(#clip202)\" x1=\"1982.77\" y1=\"90.4114\" x2=\"1966.77\" y2=\"90.4114\" style=\"stroke:#3da44d; stroke-width:3.2; stroke-opacity:1\"/>\n",
       "<line clip-path=\"url(#clip202)\" x1=\"1982.77\" y1=\"90.4114\" x2=\"1982.77\" y2=\"106.411\" style=\"stroke:#3da44d; stroke-width:3.2; stroke-opacity:1\"/>\n",
       "<line clip-path=\"url(#clip202)\" x1=\"1982.77\" y1=\"90.4114\" x2=\"1998.77\" y2=\"90.4114\" style=\"stroke:#3da44d; stroke-width:3.2; stroke-opacity:1\"/>\n",
       "<line clip-path=\"url(#clip202)\" x1=\"2060.17\" y1=\"90.4157\" x2=\"2060.17\" y2=\"74.4157\" style=\"stroke:#3da44d; stroke-width:3.2; stroke-opacity:1\"/>\n",
       "<line clip-path=\"url(#clip202)\" x1=\"2060.17\" y1=\"90.4157\" x2=\"2044.17\" y2=\"90.4157\" style=\"stroke:#3da44d; stroke-width:3.2; stroke-opacity:1\"/>\n",
       "<line clip-path=\"url(#clip202)\" x1=\"2060.17\" y1=\"90.4157\" x2=\"2060.17\" y2=\"106.416\" style=\"stroke:#3da44d; stroke-width:3.2; stroke-opacity:1\"/>\n",
       "<line clip-path=\"url(#clip202)\" x1=\"2060.17\" y1=\"90.4157\" x2=\"2076.17\" y2=\"90.4157\" style=\"stroke:#3da44d; stroke-width:3.2; stroke-opacity:1\"/>\n",
       "<line clip-path=\"url(#clip202)\" x1=\"2137.58\" y1=\"90.4197\" x2=\"2137.58\" y2=\"74.4197\" style=\"stroke:#3da44d; stroke-width:3.2; stroke-opacity:1\"/>\n",
       "<line clip-path=\"url(#clip202)\" x1=\"2137.58\" y1=\"90.4197\" x2=\"2121.58\" y2=\"90.4197\" style=\"stroke:#3da44d; stroke-width:3.2; stroke-opacity:1\"/>\n",
       "<line clip-path=\"url(#clip202)\" x1=\"2137.58\" y1=\"90.4197\" x2=\"2137.58\" y2=\"106.42\" style=\"stroke:#3da44d; stroke-width:3.2; stroke-opacity:1\"/>\n",
       "<line clip-path=\"url(#clip202)\" x1=\"2137.58\" y1=\"90.4197\" x2=\"2153.58\" y2=\"90.4197\" style=\"stroke:#3da44d; stroke-width:3.2; stroke-opacity:1\"/>\n",
       "<line clip-path=\"url(#clip202)\" x1=\"2214.98\" y1=\"90.4228\" x2=\"2214.98\" y2=\"74.4228\" style=\"stroke:#3da44d; stroke-width:3.2; stroke-opacity:1\"/>\n",
       "<line clip-path=\"url(#clip202)\" x1=\"2214.98\" y1=\"90.4228\" x2=\"2198.98\" y2=\"90.4228\" style=\"stroke:#3da44d; stroke-width:3.2; stroke-opacity:1\"/>\n",
       "<line clip-path=\"url(#clip202)\" x1=\"2214.98\" y1=\"90.4228\" x2=\"2214.98\" y2=\"106.423\" style=\"stroke:#3da44d; stroke-width:3.2; stroke-opacity:1\"/>\n",
       "<line clip-path=\"url(#clip202)\" x1=\"2214.98\" y1=\"90.4228\" x2=\"2230.98\" y2=\"90.4228\" style=\"stroke:#3da44d; stroke-width:3.2; stroke-opacity:1\"/>\n",
       "<line clip-path=\"url(#clip202)\" x1=\"2292.38\" y1=\"90.425\" x2=\"2292.38\" y2=\"74.425\" style=\"stroke:#3da44d; stroke-width:3.2; stroke-opacity:1\"/>\n",
       "<line clip-path=\"url(#clip202)\" x1=\"2292.38\" y1=\"90.425\" x2=\"2276.38\" y2=\"90.425\" style=\"stroke:#3da44d; stroke-width:3.2; stroke-opacity:1\"/>\n",
       "<line clip-path=\"url(#clip202)\" x1=\"2292.38\" y1=\"90.425\" x2=\"2292.38\" y2=\"106.425\" style=\"stroke:#3da44d; stroke-width:3.2; stroke-opacity:1\"/>\n",
       "<line clip-path=\"url(#clip202)\" x1=\"2292.38\" y1=\"90.425\" x2=\"2308.38\" y2=\"90.425\" style=\"stroke:#3da44d; stroke-width:3.2; stroke-opacity:1\"/>\n",
       "<polyline clip-path=\"url(#clip202)\" style=\"stroke:#80007f; stroke-linecap:round; stroke-linejoin:round; stroke-width:20; stroke-opacity:0.3; fill:none\" points=\"279.916,347.76 357.319,334.987 434.721,294.593 512.124,239.132 589.526,180.705 666.929,130.01 744.331,97.1248 821.734,83.0051 899.136,81.4401 976.539,85.9797 1053.94,91.682 1131.34,95.0109 1208.75,93.3211 1286.15,90.5868 1363.55,89.8089 1440.95,90.1913 1518.36,90.6812 1595.76,90.3573 1673.16,90.399 1750.56,90.5103 1827.97,90.401 1905.37,90.3815 1982.77,90.3915 2060.17,90.4079 2137.58,90.4227 2214.98,90.4339 2292.38,90.4418 \"/>\n",
       "<circle clip-path=\"url(#clip202)\" cx=\"279.916\" cy=\"347.76\" r=\"14.4\" fill=\"#c271d2\" fill-rule=\"evenodd\" fill-opacity=\"1\" stroke=\"#000000\" stroke-opacity=\"1\" stroke-width=\"3.2\"/>\n",
       "<circle clip-path=\"url(#clip202)\" cx=\"357.319\" cy=\"334.987\" r=\"14.4\" fill=\"#c271d2\" fill-rule=\"evenodd\" fill-opacity=\"1\" stroke=\"#000000\" stroke-opacity=\"1\" stroke-width=\"3.2\"/>\n",
       "<circle clip-path=\"url(#clip202)\" cx=\"434.721\" cy=\"294.593\" r=\"14.4\" fill=\"#c271d2\" fill-rule=\"evenodd\" fill-opacity=\"1\" stroke=\"#000000\" stroke-opacity=\"1\" stroke-width=\"3.2\"/>\n",
       "<circle clip-path=\"url(#clip202)\" cx=\"512.124\" cy=\"239.132\" r=\"14.4\" fill=\"#c271d2\" fill-rule=\"evenodd\" fill-opacity=\"1\" stroke=\"#000000\" stroke-opacity=\"1\" stroke-width=\"3.2\"/>\n",
       "<circle clip-path=\"url(#clip202)\" cx=\"589.526\" cy=\"180.705\" r=\"14.4\" fill=\"#c271d2\" fill-rule=\"evenodd\" fill-opacity=\"1\" stroke=\"#000000\" stroke-opacity=\"1\" stroke-width=\"3.2\"/>\n",
       "<circle clip-path=\"url(#clip202)\" cx=\"666.929\" cy=\"130.01\" r=\"14.4\" fill=\"#c271d2\" fill-rule=\"evenodd\" fill-opacity=\"1\" stroke=\"#000000\" stroke-opacity=\"1\" stroke-width=\"3.2\"/>\n",
       "<circle clip-path=\"url(#clip202)\" cx=\"744.331\" cy=\"97.1248\" r=\"14.4\" fill=\"#c271d2\" fill-rule=\"evenodd\" fill-opacity=\"1\" stroke=\"#000000\" stroke-opacity=\"1\" stroke-width=\"3.2\"/>\n",
       "<circle clip-path=\"url(#clip202)\" cx=\"821.734\" cy=\"83.0051\" r=\"14.4\" fill=\"#c271d2\" fill-rule=\"evenodd\" fill-opacity=\"1\" stroke=\"#000000\" stroke-opacity=\"1\" stroke-width=\"3.2\"/>\n",
       "<circle clip-path=\"url(#clip202)\" cx=\"899.136\" cy=\"81.4401\" r=\"14.4\" fill=\"#c271d2\" fill-rule=\"evenodd\" fill-opacity=\"1\" stroke=\"#000000\" stroke-opacity=\"1\" stroke-width=\"3.2\"/>\n",
       "<circle clip-path=\"url(#clip202)\" cx=\"976.539\" cy=\"85.9797\" r=\"14.4\" fill=\"#c271d2\" fill-rule=\"evenodd\" fill-opacity=\"1\" stroke=\"#000000\" stroke-opacity=\"1\" stroke-width=\"3.2\"/>\n",
       "<circle clip-path=\"url(#clip202)\" cx=\"1053.94\" cy=\"91.682\" r=\"14.4\" fill=\"#c271d2\" fill-rule=\"evenodd\" fill-opacity=\"1\" stroke=\"#000000\" stroke-opacity=\"1\" stroke-width=\"3.2\"/>\n",
       "<circle clip-path=\"url(#clip202)\" cx=\"1131.34\" cy=\"95.0109\" r=\"14.4\" fill=\"#c271d2\" fill-rule=\"evenodd\" fill-opacity=\"1\" stroke=\"#000000\" stroke-opacity=\"1\" stroke-width=\"3.2\"/>\n",
       "<circle clip-path=\"url(#clip202)\" cx=\"1208.75\" cy=\"93.3211\" r=\"14.4\" fill=\"#c271d2\" fill-rule=\"evenodd\" fill-opacity=\"1\" stroke=\"#000000\" stroke-opacity=\"1\" stroke-width=\"3.2\"/>\n",
       "<circle clip-path=\"url(#clip202)\" cx=\"1286.15\" cy=\"90.5868\" r=\"14.4\" fill=\"#c271d2\" fill-rule=\"evenodd\" fill-opacity=\"1\" stroke=\"#000000\" stroke-opacity=\"1\" stroke-width=\"3.2\"/>\n",
       "<circle clip-path=\"url(#clip202)\" cx=\"1363.55\" cy=\"89.8089\" r=\"14.4\" fill=\"#c271d2\" fill-rule=\"evenodd\" fill-opacity=\"1\" stroke=\"#000000\" stroke-opacity=\"1\" stroke-width=\"3.2\"/>\n",
       "<circle clip-path=\"url(#clip202)\" cx=\"1440.95\" cy=\"90.1913\" r=\"14.4\" fill=\"#c271d2\" fill-rule=\"evenodd\" fill-opacity=\"1\" stroke=\"#000000\" stroke-opacity=\"1\" stroke-width=\"3.2\"/>\n",
       "<circle clip-path=\"url(#clip202)\" cx=\"1518.36\" cy=\"90.6812\" r=\"14.4\" fill=\"#c271d2\" fill-rule=\"evenodd\" fill-opacity=\"1\" stroke=\"#000000\" stroke-opacity=\"1\" stroke-width=\"3.2\"/>\n",
       "<circle clip-path=\"url(#clip202)\" cx=\"1595.76\" cy=\"90.3573\" r=\"14.4\" fill=\"#c271d2\" fill-rule=\"evenodd\" fill-opacity=\"1\" stroke=\"#000000\" stroke-opacity=\"1\" stroke-width=\"3.2\"/>\n",
       "<circle clip-path=\"url(#clip202)\" cx=\"1673.16\" cy=\"90.399\" r=\"14.4\" fill=\"#c271d2\" fill-rule=\"evenodd\" fill-opacity=\"1\" stroke=\"#000000\" stroke-opacity=\"1\" stroke-width=\"3.2\"/>\n",
       "<circle clip-path=\"url(#clip202)\" cx=\"1750.56\" cy=\"90.5103\" r=\"14.4\" fill=\"#c271d2\" fill-rule=\"evenodd\" fill-opacity=\"1\" stroke=\"#000000\" stroke-opacity=\"1\" stroke-width=\"3.2\"/>\n",
       "<circle clip-path=\"url(#clip202)\" cx=\"1827.97\" cy=\"90.401\" r=\"14.4\" fill=\"#c271d2\" fill-rule=\"evenodd\" fill-opacity=\"1\" stroke=\"#000000\" stroke-opacity=\"1\" stroke-width=\"3.2\"/>\n",
       "<circle clip-path=\"url(#clip202)\" cx=\"1905.37\" cy=\"90.3815\" r=\"14.4\" fill=\"#c271d2\" fill-rule=\"evenodd\" fill-opacity=\"1\" stroke=\"#000000\" stroke-opacity=\"1\" stroke-width=\"3.2\"/>\n",
       "<circle clip-path=\"url(#clip202)\" cx=\"1982.77\" cy=\"90.3915\" r=\"14.4\" fill=\"#c271d2\" fill-rule=\"evenodd\" fill-opacity=\"1\" stroke=\"#000000\" stroke-opacity=\"1\" stroke-width=\"3.2\"/>\n",
       "<circle clip-path=\"url(#clip202)\" cx=\"2060.17\" cy=\"90.4079\" r=\"14.4\" fill=\"#c271d2\" fill-rule=\"evenodd\" fill-opacity=\"1\" stroke=\"#000000\" stroke-opacity=\"1\" stroke-width=\"3.2\"/>\n",
       "<circle clip-path=\"url(#clip202)\" cx=\"2137.58\" cy=\"90.4227\" r=\"14.4\" fill=\"#c271d2\" fill-rule=\"evenodd\" fill-opacity=\"1\" stroke=\"#000000\" stroke-opacity=\"1\" stroke-width=\"3.2\"/>\n",
       "<circle clip-path=\"url(#clip202)\" cx=\"2214.98\" cy=\"90.4339\" r=\"14.4\" fill=\"#c271d2\" fill-rule=\"evenodd\" fill-opacity=\"1\" stroke=\"#000000\" stroke-opacity=\"1\" stroke-width=\"3.2\"/>\n",
       "<circle clip-path=\"url(#clip202)\" cx=\"2292.38\" cy=\"90.4418\" r=\"14.4\" fill=\"#c271d2\" fill-rule=\"evenodd\" fill-opacity=\"1\" stroke=\"#000000\" stroke-opacity=\"1\" stroke-width=\"3.2\"/>\n",
       "<polyline clip-path=\"url(#clip202)\" style=\"stroke:#0000ff; stroke-linecap:round; stroke-linejoin:round; stroke-width:20; stroke-opacity:0.3; fill:none\" points=\"279.916,347.76 357.319,334.987 434.721,294.593 512.124,239.132 589.526,180.706 666.929,130.032 744.331,97.1682 821.734,83.0458 899.136,81.4594 976.539,85.969 1053.94,91.6404 1131.34,94.9442 1208.75,93.3003 1286.15,90.685 1363.55,89.903 1440.95,90.1344 1518.36,90.5295 1595.76,90.5106 1673.16,90.4092 1750.56,90.4152 1827.97,90.4217 1905.37,90.4226 1982.77,90.4217 2060.17,90.4205 2137.58,90.4195 2214.98,90.4187 2292.38,90.4182 \"/>\n",
       "<path clip-path=\"url(#clip202)\" d=\"M279.916 331.76 L263.916 347.76 L279.916 363.76 L295.916 347.76 L279.916 331.76 Z\" fill=\"#ac8d18\" fill-rule=\"evenodd\" fill-opacity=\"1\" stroke=\"#000000\" stroke-opacity=\"1\" stroke-width=\"3.2\"/>\n",
       "<path clip-path=\"url(#clip202)\" d=\"M357.319 318.987 L341.319 334.987 L357.319 350.987 L373.319 334.987 L357.319 318.987 Z\" fill=\"#ac8d18\" fill-rule=\"evenodd\" fill-opacity=\"1\" stroke=\"#000000\" stroke-opacity=\"1\" stroke-width=\"3.2\"/>\n",
       "<path clip-path=\"url(#clip202)\" d=\"M434.721 278.593 L418.721 294.593 L434.721 310.593 L450.721 294.593 L434.721 278.593 Z\" fill=\"#ac8d18\" fill-rule=\"evenodd\" fill-opacity=\"1\" stroke=\"#000000\" stroke-opacity=\"1\" stroke-width=\"3.2\"/>\n",
       "<path clip-path=\"url(#clip202)\" d=\"M512.124 223.132 L496.124 239.132 L512.124 255.132 L528.124 239.132 L512.124 223.132 Z\" fill=\"#ac8d18\" fill-rule=\"evenodd\" fill-opacity=\"1\" stroke=\"#000000\" stroke-opacity=\"1\" stroke-width=\"3.2\"/>\n",
       "<path clip-path=\"url(#clip202)\" d=\"M589.526 164.706 L573.526 180.706 L589.526 196.706 L605.526 180.706 L589.526 164.706 Z\" fill=\"#ac8d18\" fill-rule=\"evenodd\" fill-opacity=\"1\" stroke=\"#000000\" stroke-opacity=\"1\" stroke-width=\"3.2\"/>\n",
       "<path clip-path=\"url(#clip202)\" d=\"M666.929 114.032 L650.929 130.032 L666.929 146.032 L682.929 130.032 L666.929 114.032 Z\" fill=\"#ac8d18\" fill-rule=\"evenodd\" fill-opacity=\"1\" stroke=\"#000000\" stroke-opacity=\"1\" stroke-width=\"3.2\"/>\n",
       "<path clip-path=\"url(#clip202)\" d=\"M744.331 81.1682 L728.331 97.1682 L744.331 113.168 L760.331 97.1682 L744.331 81.1682 Z\" fill=\"#ac8d18\" fill-rule=\"evenodd\" fill-opacity=\"1\" stroke=\"#000000\" stroke-opacity=\"1\" stroke-width=\"3.2\"/>\n",
       "<path clip-path=\"url(#clip202)\" d=\"M821.734 67.0458 L805.734 83.0458 L821.734 99.0458 L837.734 83.0458 L821.734 67.0458 Z\" fill=\"#ac8d18\" fill-rule=\"evenodd\" fill-opacity=\"1\" stroke=\"#000000\" stroke-opacity=\"1\" stroke-width=\"3.2\"/>\n",
       "<path clip-path=\"url(#clip202)\" d=\"M899.136 65.4594 L883.136 81.4594 L899.136 97.4594 L915.136 81.4594 L899.136 65.4594 Z\" fill=\"#ac8d18\" fill-rule=\"evenodd\" fill-opacity=\"1\" stroke=\"#000000\" stroke-opacity=\"1\" stroke-width=\"3.2\"/>\n",
       "<path clip-path=\"url(#clip202)\" d=\"M976.539 69.969 L960.539 85.969 L976.539 101.969 L992.539 85.969 L976.539 69.969 Z\" fill=\"#ac8d18\" fill-rule=\"evenodd\" fill-opacity=\"1\" stroke=\"#000000\" stroke-opacity=\"1\" stroke-width=\"3.2\"/>\n",
       "<path clip-path=\"url(#clip202)\" d=\"M1053.94 75.6404 L1037.94 91.6404 L1053.94 107.64 L1069.94 91.6404 L1053.94 75.6404 Z\" fill=\"#ac8d18\" fill-rule=\"evenodd\" fill-opacity=\"1\" stroke=\"#000000\" stroke-opacity=\"1\" stroke-width=\"3.2\"/>\n",
       "<path clip-path=\"url(#clip202)\" d=\"M1131.34 78.9442 L1115.34 94.9442 L1131.34 110.944 L1147.34 94.9442 L1131.34 78.9442 Z\" fill=\"#ac8d18\" fill-rule=\"evenodd\" fill-opacity=\"1\" stroke=\"#000000\" stroke-opacity=\"1\" stroke-width=\"3.2\"/>\n",
       "<path clip-path=\"url(#clip202)\" d=\"M1208.75 77.3003 L1192.75 93.3003 L1208.75 109.3 L1224.75 93.3003 L1208.75 77.3003 Z\" fill=\"#ac8d18\" fill-rule=\"evenodd\" fill-opacity=\"1\" stroke=\"#000000\" stroke-opacity=\"1\" stroke-width=\"3.2\"/>\n",
       "<path clip-path=\"url(#clip202)\" d=\"M1286.15 74.685 L1270.15 90.685 L1286.15 106.685 L1302.15 90.685 L1286.15 74.685 Z\" fill=\"#ac8d18\" fill-rule=\"evenodd\" fill-opacity=\"1\" stroke=\"#000000\" stroke-opacity=\"1\" stroke-width=\"3.2\"/>\n",
       "<path clip-path=\"url(#clip202)\" d=\"M1363.55 73.903 L1347.55 89.903 L1363.55 105.903 L1379.55 89.903 L1363.55 73.903 Z\" fill=\"#ac8d18\" fill-rule=\"evenodd\" fill-opacity=\"1\" stroke=\"#000000\" stroke-opacity=\"1\" stroke-width=\"3.2\"/>\n",
       "<path clip-path=\"url(#clip202)\" d=\"M1440.95 74.1344 L1424.95 90.1344 L1440.95 106.134 L1456.95 90.1344 L1440.95 74.1344 Z\" fill=\"#ac8d18\" fill-rule=\"evenodd\" fill-opacity=\"1\" stroke=\"#000000\" stroke-opacity=\"1\" stroke-width=\"3.2\"/>\n",
       "<path clip-path=\"url(#clip202)\" d=\"M1518.36 74.5295 L1502.36 90.5295 L1518.36 106.53 L1534.36 90.5295 L1518.36 74.5295 Z\" fill=\"#ac8d18\" fill-rule=\"evenodd\" fill-opacity=\"1\" stroke=\"#000000\" stroke-opacity=\"1\" stroke-width=\"3.2\"/>\n",
       "<path clip-path=\"url(#clip202)\" d=\"M1595.76 74.5106 L1579.76 90.5106 L1595.76 106.511 L1611.76 90.5106 L1595.76 74.5106 Z\" fill=\"#ac8d18\" fill-rule=\"evenodd\" fill-opacity=\"1\" stroke=\"#000000\" stroke-opacity=\"1\" stroke-width=\"3.2\"/>\n",
       "<path clip-path=\"url(#clip202)\" d=\"M1673.16 74.4092 L1657.16 90.4092 L1673.16 106.409 L1689.16 90.4092 L1673.16 74.4092 Z\" fill=\"#ac8d18\" fill-rule=\"evenodd\" fill-opacity=\"1\" stroke=\"#000000\" stroke-opacity=\"1\" stroke-width=\"3.2\"/>\n",
       "<path clip-path=\"url(#clip202)\" d=\"M1750.56 74.4152 L1734.56 90.4152 L1750.56 106.415 L1766.56 90.4152 L1750.56 74.4152 Z\" fill=\"#ac8d18\" fill-rule=\"evenodd\" fill-opacity=\"1\" stroke=\"#000000\" stroke-opacity=\"1\" stroke-width=\"3.2\"/>\n",
       "<path clip-path=\"url(#clip202)\" d=\"M1827.97 74.4217 L1811.97 90.4217 L1827.97 106.422 L1843.97 90.4217 L1827.97 74.4217 Z\" fill=\"#ac8d18\" fill-rule=\"evenodd\" fill-opacity=\"1\" stroke=\"#000000\" stroke-opacity=\"1\" stroke-width=\"3.2\"/>\n",
       "<path clip-path=\"url(#clip202)\" d=\"M1905.37 74.4226 L1889.37 90.4226 L1905.37 106.423 L1921.37 90.4226 L1905.37 74.4226 Z\" fill=\"#ac8d18\" fill-rule=\"evenodd\" fill-opacity=\"1\" stroke=\"#000000\" stroke-opacity=\"1\" stroke-width=\"3.2\"/>\n",
       "<path clip-path=\"url(#clip202)\" d=\"M1982.77 74.4217 L1966.77 90.4217 L1982.77 106.422 L1998.77 90.4217 L1982.77 74.4217 Z\" fill=\"#ac8d18\" fill-rule=\"evenodd\" fill-opacity=\"1\" stroke=\"#000000\" stroke-opacity=\"1\" stroke-width=\"3.2\"/>\n",
       "<path clip-path=\"url(#clip202)\" d=\"M2060.17 74.4205 L2044.17 90.4205 L2060.17 106.421 L2076.17 90.4205 L2060.17 74.4205 Z\" fill=\"#ac8d18\" fill-rule=\"evenodd\" fill-opacity=\"1\" stroke=\"#000000\" stroke-opacity=\"1\" stroke-width=\"3.2\"/>\n",
       "<path clip-path=\"url(#clip202)\" d=\"M2137.58 74.4195 L2121.58 90.4195 L2137.58 106.419 L2153.58 90.4195 L2137.58 74.4195 Z\" fill=\"#ac8d18\" fill-rule=\"evenodd\" fill-opacity=\"1\" stroke=\"#000000\" stroke-opacity=\"1\" stroke-width=\"3.2\"/>\n",
       "<path clip-path=\"url(#clip202)\" d=\"M2214.98 74.4187 L2198.98 90.4187 L2214.98 106.419 L2230.98 90.4187 L2214.98 74.4187 Z\" fill=\"#ac8d18\" fill-rule=\"evenodd\" fill-opacity=\"1\" stroke=\"#000000\" stroke-opacity=\"1\" stroke-width=\"3.2\"/>\n",
       "<path clip-path=\"url(#clip202)\" d=\"M2292.38 74.4182 L2276.38 90.4182 L2292.38 106.418 L2308.38 90.4182 L2292.38 74.4182 Z\" fill=\"#ac8d18\" fill-rule=\"evenodd\" fill-opacity=\"1\" stroke=\"#000000\" stroke-opacity=\"1\" stroke-width=\"3.2\"/>\n",
       "<path clip-path=\"url(#clip200)\" d=\"M219.542 889.847 L2352.76 889.847 L2352.76 580.577 L219.542 580.577  Z\" fill=\"#ffffff\" fill-rule=\"evenodd\" fill-opacity=\"1\"/>\n",
       "<defs>\n",
       "  <clipPath id=\"clip203\">\n",
       "    <rect x=\"219\" y=\"580\" width=\"2134\" height=\"310\"/>\n",
       "  </clipPath>\n",
       "</defs>\n",
       "<polyline clip-path=\"url(#clip203)\" style=\"stroke:#000000; stroke-linecap:round; stroke-linejoin:round; stroke-width:8; stroke-opacity:0.1; fill:none\" points=\"589.526,889.847 589.526,580.577 \"/>\n",
       "<polyline clip-path=\"url(#clip203)\" style=\"stroke:#000000; stroke-linecap:round; stroke-linejoin:round; stroke-width:8; stroke-opacity:0.1; fill:none\" points=\"976.539,889.847 976.539,580.577 \"/>\n",
       "<polyline clip-path=\"url(#clip203)\" style=\"stroke:#000000; stroke-linecap:round; stroke-linejoin:round; stroke-width:8; stroke-opacity:0.1; fill:none\" points=\"1363.55,889.847 1363.55,580.577 \"/>\n",
       "<polyline clip-path=\"url(#clip203)\" style=\"stroke:#000000; stroke-linecap:round; stroke-linejoin:round; stroke-width:8; stroke-opacity:0.1; fill:none\" points=\"1750.56,889.847 1750.56,580.577 \"/>\n",
       "<polyline clip-path=\"url(#clip203)\" style=\"stroke:#000000; stroke-linecap:round; stroke-linejoin:round; stroke-width:8; stroke-opacity:0.1; fill:none\" points=\"2137.58,889.847 2137.58,580.577 \"/>\n",
       "<polyline clip-path=\"url(#clip200)\" style=\"stroke:#000000; stroke-linecap:round; stroke-linejoin:round; stroke-width:4; stroke-opacity:1; fill:none\" points=\"219.542,889.847 2352.76,889.847 \"/>\n",
       "<polyline clip-path=\"url(#clip200)\" style=\"stroke:#000000; stroke-linecap:round; stroke-linejoin:round; stroke-width:4; stroke-opacity:1; fill:none\" points=\"589.526,889.847 589.526,870.949 \"/>\n",
       "<polyline clip-path=\"url(#clip200)\" style=\"stroke:#000000; stroke-linecap:round; stroke-linejoin:round; stroke-width:4; stroke-opacity:1; fill:none\" points=\"976.539,889.847 976.539,870.949 \"/>\n",
       "<polyline clip-path=\"url(#clip200)\" style=\"stroke:#000000; stroke-linecap:round; stroke-linejoin:round; stroke-width:4; stroke-opacity:1; fill:none\" points=\"1363.55,889.847 1363.55,870.949 \"/>\n",
       "<polyline clip-path=\"url(#clip200)\" style=\"stroke:#000000; stroke-linecap:round; stroke-linejoin:round; stroke-width:4; stroke-opacity:1; fill:none\" points=\"1750.56,889.847 1750.56,870.949 \"/>\n",
       "<polyline clip-path=\"url(#clip200)\" style=\"stroke:#000000; stroke-linecap:round; stroke-linejoin:round; stroke-width:4; stroke-opacity:1; fill:none\" points=\"2137.58,889.847 2137.58,870.949 \"/>\n",
       "<path clip-path=\"url(#clip200)\" d=\"M579.804 917.687 L598.16 917.687 L598.16 921.622 L584.086 921.622 L584.086 930.094 Q585.105 929.747 586.124 929.585 Q587.142 929.399 588.161 929.399 Q593.948 929.399 597.327 932.571 Q600.707 935.742 600.707 941.159 Q600.707 946.737 597.235 949.839 Q593.762 952.918 587.443 952.918 Q585.267 952.918 582.999 952.547 Q580.753 952.177 578.346 951.436 L578.346 946.737 Q580.429 947.872 582.651 948.427 Q584.874 948.983 587.35 948.983 Q591.355 948.983 593.693 946.876 Q596.031 944.77 596.031 941.159 Q596.031 937.548 593.693 935.441 Q591.355 933.335 587.35 933.335 Q585.475 933.335 583.6 933.751 Q581.749 934.168 579.804 935.048 L579.804 917.687 Z\" fill=\"#000000\" fill-rule=\"evenodd\" fill-opacity=\"1\" /><path clip-path=\"url(#clip200)\" d=\"M951.227 948.311 L958.865 948.311 L958.865 921.946 L950.555 923.612 L950.555 919.353 L958.819 917.687 L963.495 917.687 L963.495 948.311 L971.134 948.311 L971.134 952.247 L951.227 952.247 L951.227 948.311 Z\" fill=\"#000000\" fill-rule=\"evenodd\" fill-opacity=\"1\" /><path clip-path=\"url(#clip200)\" d=\"M990.578 920.765 Q986.967 920.765 985.138 924.33 Q983.333 927.872 983.333 935.001 Q983.333 942.108 985.138 945.672 Q986.967 949.214 990.578 949.214 Q994.212 949.214 996.018 945.672 Q997.847 942.108 997.847 935.001 Q997.847 927.872 996.018 924.33 Q994.212 920.765 990.578 920.765 M990.578 917.062 Q996.388 917.062 999.444 921.668 Q1002.52 926.251 1002.52 935.001 Q1002.52 943.728 999.444 948.334 Q996.388 952.918 990.578 952.918 Q984.768 952.918 981.689 948.334 Q978.634 943.728 978.634 935.001 Q978.634 926.251 981.689 921.668 Q984.768 917.062 990.578 917.062 Z\" fill=\"#000000\" fill-rule=\"evenodd\" fill-opacity=\"1\" /><path clip-path=\"url(#clip200)\" d=\"M1338.74 948.311 L1346.38 948.311 L1346.38 921.946 L1338.07 923.612 L1338.07 919.353 L1346.33 917.687 L1351.01 917.687 L1351.01 948.311 L1358.64 948.311 L1358.64 952.247 L1338.74 952.247 L1338.74 948.311 Z\" fill=\"#000000\" fill-rule=\"evenodd\" fill-opacity=\"1\" /><path clip-path=\"url(#clip200)\" d=\"M1368.13 917.687 L1386.49 917.687 L1386.49 921.622 L1372.42 921.622 L1372.42 930.094 Q1373.44 929.747 1374.45 929.585 Q1375.47 929.399 1376.49 929.399 Q1382.28 929.399 1385.66 932.571 Q1389.04 935.742 1389.04 941.159 Q1389.04 946.737 1385.57 949.839 Q1382.09 952.918 1375.77 952.918 Q1373.6 952.918 1371.33 952.547 Q1369.08 952.177 1366.68 951.436 L1366.68 946.737 Q1368.76 947.872 1370.98 948.427 Q1373.2 948.983 1375.68 948.983 Q1379.69 948.983 1382.02 946.876 Q1384.36 944.77 1384.36 941.159 Q1384.36 937.548 1382.02 935.441 Q1379.69 933.335 1375.68 933.335 Q1373.81 933.335 1371.93 933.751 Q1370.08 934.168 1368.13 935.048 L1368.13 917.687 Z\" fill=\"#000000\" fill-rule=\"evenodd\" fill-opacity=\"1\" /><path clip-path=\"url(#clip200)\" d=\"M1729.34 948.311 L1745.66 948.311 L1745.66 952.247 L1723.71 952.247 L1723.71 948.311 Q1726.37 945.557 1730.96 940.927 Q1735.56 936.274 1736.74 934.932 Q1738.99 932.409 1739.87 930.673 Q1740.77 928.913 1740.77 927.223 Q1740.77 924.469 1738.83 922.733 Q1736.91 920.997 1733.81 920.997 Q1731.61 920.997 1729.15 921.761 Q1726.72 922.524 1723.94 924.075 L1723.94 919.353 Q1726.77 918.219 1729.22 917.64 Q1731.68 917.062 1733.71 917.062 Q1739.08 917.062 1742.28 919.747 Q1745.47 922.432 1745.47 926.923 Q1745.47 929.052 1744.66 930.973 Q1743.87 932.872 1741.77 935.464 Q1741.19 936.135 1738.09 939.353 Q1734.99 942.547 1729.34 948.311 Z\" fill=\"#000000\" fill-rule=\"evenodd\" fill-opacity=\"1\" /><path clip-path=\"url(#clip200)\" d=\"M1765.47 920.765 Q1761.86 920.765 1760.03 924.33 Q1758.23 927.872 1758.23 935.001 Q1758.23 942.108 1760.03 945.672 Q1761.86 949.214 1765.47 949.214 Q1769.11 949.214 1770.91 945.672 Q1772.74 942.108 1772.74 935.001 Q1772.74 927.872 1770.91 924.33 Q1769.11 920.765 1765.47 920.765 M1765.47 917.062 Q1771.28 917.062 1774.34 921.668 Q1777.42 926.251 1777.42 935.001 Q1777.42 943.728 1774.34 948.334 Q1771.28 952.918 1765.47 952.918 Q1759.66 952.918 1756.58 948.334 Q1753.53 943.728 1753.53 935.001 Q1753.53 926.251 1756.58 921.668 Q1759.66 917.062 1765.47 917.062 Z\" fill=\"#000000\" fill-rule=\"evenodd\" fill-opacity=\"1\" /><path clip-path=\"url(#clip200)\" d=\"M2116.85 948.311 L2133.17 948.311 L2133.17 952.247 L2111.22 952.247 L2111.22 948.311 Q2113.88 945.557 2118.47 940.927 Q2123.07 936.274 2124.26 934.932 Q2126.5 932.409 2127.38 930.673 Q2128.28 928.913 2128.28 927.223 Q2128.28 924.469 2126.34 922.733 Q2124.42 920.997 2121.32 920.997 Q2119.12 920.997 2116.66 921.761 Q2114.23 922.524 2111.45 924.075 L2111.45 919.353 Q2114.28 918.219 2116.73 917.64 Q2119.19 917.062 2121.22 917.062 Q2126.59 917.062 2129.79 919.747 Q2132.98 922.432 2132.98 926.923 Q2132.98 929.052 2132.17 930.973 Q2131.38 932.872 2129.28 935.464 Q2128.7 936.135 2125.6 939.353 Q2122.5 942.547 2116.85 948.311 Z\" fill=\"#000000\" fill-rule=\"evenodd\" fill-opacity=\"1\" /><path clip-path=\"url(#clip200)\" d=\"M2143.03 917.687 L2161.38 917.687 L2161.38 921.622 L2147.31 921.622 L2147.31 930.094 Q2148.33 929.747 2149.35 929.585 Q2150.37 929.399 2151.38 929.399 Q2157.17 929.399 2160.55 932.571 Q2163.93 935.742 2163.93 941.159 Q2163.93 946.737 2160.46 949.839 Q2156.99 952.918 2150.67 952.918 Q2148.49 952.918 2146.22 952.547 Q2143.98 952.177 2141.57 951.436 L2141.57 946.737 Q2143.65 947.872 2145.88 948.427 Q2148.1 948.983 2150.57 948.983 Q2154.58 948.983 2156.92 946.876 Q2159.25 944.77 2159.25 941.159 Q2159.25 937.548 2156.92 935.441 Q2154.58 933.335 2150.57 933.335 Q2148.7 933.335 2146.82 933.751 Q2144.97 934.168 2143.03 935.048 L2143.03 917.687 Z\" fill=\"#000000\" fill-rule=\"evenodd\" fill-opacity=\"1\" /><path clip-path=\"url(#clip200)\" d=\"M1180.29 988.941 L1180.29 999.063 L1192.35 999.063 L1192.35 1003.61 L1180.29 1003.61 L1180.29 1022.97 Q1180.29 1027.33 1181.47 1028.57 Q1182.67 1029.81 1186.33 1029.81 L1192.35 1029.81 L1192.35 1034.71 L1186.33 1034.71 Q1179.56 1034.71 1176.98 1032.2 Q1174.4 1029.65 1174.4 1022.97 L1174.4 1003.61 L1170.1 1003.61 L1170.1 999.063 L1174.4 999.063 L1174.4 988.941 L1180.29 988.941 Z\" fill=\"#000000\" fill-rule=\"evenodd\" fill-opacity=\"1\" /><path clip-path=\"url(#clip200)\" d=\"M1200.05 999.063 L1205.91 999.063 L1205.91 1034.71 L1200.05 1034.71 L1200.05 999.063 M1200.05 985.185 L1205.91 985.185 L1205.91 992.601 L1200.05 992.601 L1200.05 985.185 Z\" fill=\"#000000\" fill-rule=\"evenodd\" fill-opacity=\"1\" /><path clip-path=\"url(#clip200)\" d=\"M1245.92 1005.91 Q1248.11 1001.96 1251.17 1000.08 Q1254.23 998.203 1258.36 998.203 Q1263.93 998.203 1266.96 1002.12 Q1269.98 1006 1269.98 1013.19 L1269.98 1034.71 L1264.09 1034.71 L1264.09 1013.39 Q1264.09 1008.26 1262.28 1005.78 Q1260.46 1003.3 1256.74 1003.3 Q1252.19 1003.3 1249.55 1006.32 Q1246.9 1009.34 1246.9 1014.56 L1246.9 1034.71 L1241.02 1034.71 L1241.02 1013.39 Q1241.02 1008.23 1239.2 1005.78 Q1237.39 1003.3 1233.6 1003.3 Q1229.11 1003.3 1226.47 1006.35 Q1223.83 1009.37 1223.83 1014.56 L1223.83 1034.71 L1217.94 1034.71 L1217.94 999.063 L1223.83 999.063 L1223.83 1004.6 Q1225.83 1001.32 1228.63 999.763 Q1231.44 998.203 1235.29 998.203 Q1239.17 998.203 1241.88 1000.18 Q1244.61 1002.15 1245.92 1005.91 Z\" fill=\"#000000\" fill-rule=\"evenodd\" fill-opacity=\"1\" /><path clip-path=\"url(#clip200)\" d=\"M1312.15 1015.42 L1312.15 1018.29 L1285.23 1018.29 Q1285.61 1024.33 1288.85 1027.52 Q1292.13 1030.67 1297.96 1030.67 Q1301.33 1030.67 1304.48 1029.84 Q1307.67 1029.01 1310.78 1027.36 L1310.78 1032.9 Q1307.63 1034.23 1304.32 1034.93 Q1301.01 1035.63 1297.61 1035.63 Q1289.08 1035.63 1284.08 1030.67 Q1279.11 1025.7 1279.11 1017.24 Q1279.11 1008.48 1283.83 1003.36 Q1288.57 998.203 1296.59 998.203 Q1303.78 998.203 1307.95 1002.85 Q1312.15 1007.47 1312.15 1015.42 M1306.3 1013.7 Q1306.23 1008.9 1303.59 1006.03 Q1300.98 1003.17 1296.65 1003.17 Q1291.75 1003.17 1288.79 1005.94 Q1285.86 1008.71 1285.42 1013.74 L1306.3 1013.7 Z\" fill=\"#000000\" fill-rule=\"evenodd\" fill-opacity=\"1\" /><path clip-path=\"url(#clip200)\" d=\"M1321.22 985.185 L1334.72 985.185 L1334.72 989.737 L1327.08 989.737 L1327.08 1038.75 L1334.72 1038.75 L1334.72 1043.3 L1321.22 1043.3 L1321.22 985.185 Z\" fill=\"#000000\" fill-rule=\"evenodd\" fill-opacity=\"1\" /><path clip-path=\"url(#clip200)\" d=\"M1376.83 1013.19 L1376.83 1034.71 L1370.97 1034.71 L1370.97 1013.39 Q1370.97 1008.32 1369 1005.81 Q1367.03 1003.3 1363.08 1003.3 Q1358.34 1003.3 1355.6 1006.32 Q1352.86 1009.34 1352.86 1014.56 L1352.86 1034.71 L1346.97 1034.71 L1346.97 985.185 L1352.86 985.185 L1352.86 1004.6 Q1354.96 1001.39 1357.8 999.795 Q1360.66 998.203 1364.38 998.203 Q1370.53 998.203 1373.68 1002.02 Q1376.83 1005.81 1376.83 1013.19 Z\" fill=\"#000000\" fill-rule=\"evenodd\" fill-opacity=\"1\" /><path clip-path=\"url(#clip200)\" d=\"M1402.2 985.185 L1402.2 1043.3 L1388.7 1043.3 L1388.7 1038.75 L1396.31 1038.75 L1396.31 989.737 L1388.7 989.737 L1388.7 985.185 L1402.2 985.185 Z\" fill=\"#000000\" fill-rule=\"evenodd\" fill-opacity=\"1\" /><polyline clip-path=\"url(#clip203)\" style=\"stroke:#000000; stroke-linecap:round; stroke-linejoin:round; stroke-width:8; stroke-opacity:0.1; fill:none\" points=\"219.542,888.417 2352.76,888.417 \"/>\n",
       "<polyline clip-path=\"url(#clip203)\" style=\"stroke:#000000; stroke-linecap:round; stroke-linejoin:round; stroke-width:8; stroke-opacity:0.1; fill:none\" points=\"219.542,821.953 2352.76,821.953 \"/>\n",
       "<polyline clip-path=\"url(#clip203)\" style=\"stroke:#000000; stroke-linecap:round; stroke-linejoin:round; stroke-width:8; stroke-opacity:0.1; fill:none\" points=\"219.542,755.49 2352.76,755.49 \"/>\n",
       "<polyline clip-path=\"url(#clip203)\" style=\"stroke:#000000; stroke-linecap:round; stroke-linejoin:round; stroke-width:8; stroke-opacity:0.1; fill:none\" points=\"219.542,689.026 2352.76,689.026 \"/>\n",
       "<polyline clip-path=\"url(#clip203)\" style=\"stroke:#000000; stroke-linecap:round; stroke-linejoin:round; stroke-width:8; stroke-opacity:0.1; fill:none\" points=\"219.542,622.562 2352.76,622.562 \"/>\n",
       "<polyline clip-path=\"url(#clip200)\" style=\"stroke:#000000; stroke-linecap:round; stroke-linejoin:round; stroke-width:4; stroke-opacity:1; fill:none\" points=\"219.542,889.847 219.542,580.577 \"/>\n",
       "<polyline clip-path=\"url(#clip200)\" style=\"stroke:#000000; stroke-linecap:round; stroke-linejoin:round; stroke-width:4; stroke-opacity:1; fill:none\" points=\"219.542,888.417 238.44,888.417 \"/>\n",
       "<polyline clip-path=\"url(#clip200)\" style=\"stroke:#000000; stroke-linecap:round; stroke-linejoin:round; stroke-width:4; stroke-opacity:1; fill:none\" points=\"219.542,821.953 238.44,821.953 \"/>\n",
       "<polyline clip-path=\"url(#clip200)\" style=\"stroke:#000000; stroke-linecap:round; stroke-linejoin:round; stroke-width:4; stroke-opacity:1; fill:none\" points=\"219.542,755.49 238.44,755.49 \"/>\n",
       "<polyline clip-path=\"url(#clip200)\" style=\"stroke:#000000; stroke-linecap:round; stroke-linejoin:round; stroke-width:4; stroke-opacity:1; fill:none\" points=\"219.542,689.026 238.44,689.026 \"/>\n",
       "<polyline clip-path=\"url(#clip200)\" style=\"stroke:#000000; stroke-linecap:round; stroke-linejoin:round; stroke-width:4; stroke-opacity:1; fill:none\" points=\"219.542,622.562 238.44,622.562 \"/>\n",
       "<path clip-path=\"url(#clip200)\" d=\"M126.205 874.216 Q122.593 874.216 120.765 877.78 Q118.959 881.322 118.959 888.452 Q118.959 895.558 120.765 899.123 Q122.593 902.665 126.205 902.665 Q129.839 902.665 131.644 899.123 Q133.473 895.558 133.473 888.452 Q133.473 881.322 131.644 877.78 Q129.839 874.216 126.205 874.216 M126.205 870.512 Q132.015 870.512 135.07 875.118 Q138.149 879.702 138.149 888.452 Q138.149 897.178 135.07 901.785 Q132.015 906.368 126.205 906.368 Q120.394 906.368 117.316 901.785 Q114.26 897.178 114.26 888.452 Q114.26 879.702 117.316 875.118 Q120.394 870.512 126.205 870.512 Z\" fill=\"#000000\" fill-rule=\"evenodd\" fill-opacity=\"1\" /><path clip-path=\"url(#clip200)\" d=\"M146.366 899.817 L151.251 899.817 L151.251 905.697 L146.366 905.697 L146.366 899.817 Z\" fill=\"#000000\" fill-rule=\"evenodd\" fill-opacity=\"1\" /><path clip-path=\"url(#clip200)\" d=\"M172.014 886.554 Q168.866 886.554 167.015 888.706 Q165.186 890.859 165.186 894.609 Q165.186 898.336 167.015 900.512 Q168.866 902.665 172.014 902.665 Q175.163 902.665 176.991 900.512 Q178.843 898.336 178.843 894.609 Q178.843 890.859 176.991 888.706 Q175.163 886.554 172.014 886.554 M181.297 871.901 L181.297 876.16 Q179.538 875.327 177.732 874.887 Q175.95 874.447 174.19 874.447 Q169.561 874.447 167.107 877.572 Q164.677 880.697 164.329 887.017 Q165.695 885.003 167.755 883.938 Q169.815 882.85 172.292 882.85 Q177.501 882.85 180.51 886.021 Q183.542 889.169 183.542 894.609 Q183.542 899.933 180.394 903.151 Q177.246 906.368 172.014 906.368 Q166.019 906.368 162.848 901.785 Q159.677 897.178 159.677 888.452 Q159.677 880.257 163.565 875.396 Q167.454 870.512 174.005 870.512 Q175.764 870.512 177.547 870.859 Q179.352 871.206 181.297 871.901 Z\" fill=\"#000000\" fill-rule=\"evenodd\" fill-opacity=\"1\" /><path clip-path=\"url(#clip200)\" d=\"M127.269 807.752 Q123.658 807.752 121.83 811.317 Q120.024 814.858 120.024 821.988 Q120.024 829.094 121.83 832.659 Q123.658 836.201 127.269 836.201 Q130.904 836.201 132.709 832.659 Q134.538 829.094 134.538 821.988 Q134.538 814.858 132.709 811.317 Q130.904 807.752 127.269 807.752 M127.269 804.048 Q133.08 804.048 136.135 808.655 Q139.214 813.238 139.214 821.988 Q139.214 830.715 136.135 835.321 Q133.08 839.905 127.269 839.905 Q121.459 839.905 118.381 835.321 Q115.325 830.715 115.325 821.988 Q115.325 813.238 118.381 808.655 Q121.459 804.048 127.269 804.048 Z\" fill=\"#000000\" fill-rule=\"evenodd\" fill-opacity=\"1\" /><path clip-path=\"url(#clip200)\" d=\"M147.431 833.354 L152.316 833.354 L152.316 839.233 L147.431 839.233 L147.431 833.354 Z\" fill=\"#000000\" fill-rule=\"evenodd\" fill-opacity=\"1\" /><path clip-path=\"url(#clip200)\" d=\"M161.32 804.673 L183.542 804.673 L183.542 806.664 L170.996 839.233 L166.112 839.233 L177.917 808.608 L161.32 808.608 L161.32 804.673 Z\" fill=\"#000000\" fill-rule=\"evenodd\" fill-opacity=\"1\" /><path clip-path=\"url(#clip200)\" d=\"M126.459 741.288 Q122.848 741.288 121.019 744.853 Q119.214 748.395 119.214 755.524 Q119.214 762.631 121.019 766.196 Q122.848 769.737 126.459 769.737 Q130.093 769.737 131.899 766.196 Q133.728 762.631 133.728 755.524 Q133.728 748.395 131.899 744.853 Q130.093 741.288 126.459 741.288 M126.459 737.585 Q132.269 737.585 135.325 742.191 Q138.404 746.774 138.404 755.524 Q138.404 764.251 135.325 768.858 Q132.269 773.441 126.459 773.441 Q120.649 773.441 117.57 768.858 Q114.515 764.251 114.515 755.524 Q114.515 746.774 117.57 742.191 Q120.649 737.585 126.459 737.585 Z\" fill=\"#000000\" fill-rule=\"evenodd\" fill-opacity=\"1\" /><path clip-path=\"url(#clip200)\" d=\"M146.621 766.89 L151.505 766.89 L151.505 772.77 L146.621 772.77 L146.621 766.89 Z\" fill=\"#000000\" fill-rule=\"evenodd\" fill-opacity=\"1\" /><path clip-path=\"url(#clip200)\" d=\"M171.69 756.358 Q168.357 756.358 166.436 758.14 Q164.538 759.922 164.538 763.047 Q164.538 766.172 166.436 767.955 Q168.357 769.737 171.69 769.737 Q175.024 769.737 176.945 767.955 Q178.866 766.149 178.866 763.047 Q178.866 759.922 176.945 758.14 Q175.047 756.358 171.69 756.358 M167.015 754.367 Q164.005 753.626 162.315 751.566 Q160.649 749.506 160.649 746.543 Q160.649 742.399 163.589 739.992 Q166.552 737.585 171.69 737.585 Q176.852 737.585 179.792 739.992 Q182.732 742.399 182.732 746.543 Q182.732 749.506 181.042 751.566 Q179.376 753.626 176.389 754.367 Q179.769 755.154 181.644 757.446 Q183.542 759.737 183.542 763.047 Q183.542 768.071 180.464 770.756 Q177.408 773.441 171.69 773.441 Q165.973 773.441 162.894 770.756 Q159.839 768.071 159.839 763.047 Q159.839 759.737 161.737 757.446 Q163.635 755.154 167.015 754.367 M165.302 746.983 Q165.302 749.668 166.968 751.172 Q168.658 752.677 171.69 752.677 Q174.7 752.677 176.389 751.172 Q178.102 749.668 178.102 746.983 Q178.102 744.297 176.389 742.793 Q174.7 741.288 171.69 741.288 Q168.658 741.288 166.968 742.793 Q165.302 744.297 165.302 746.983 Z\" fill=\"#000000\" fill-rule=\"evenodd\" fill-opacity=\"1\" /><path clip-path=\"url(#clip200)\" d=\"M126.552 674.825 Q122.941 674.825 121.112 678.389 Q119.306 681.931 119.306 689.061 Q119.306 696.167 121.112 699.732 Q122.941 703.273 126.552 703.273 Q130.186 703.273 131.992 699.732 Q133.82 696.167 133.82 689.061 Q133.82 681.931 131.992 678.389 Q130.186 674.825 126.552 674.825 M126.552 671.121 Q132.362 671.121 135.417 675.727 Q138.496 680.311 138.496 689.061 Q138.496 697.787 135.417 702.394 Q132.362 706.977 126.552 706.977 Q120.742 706.977 117.663 702.394 Q114.607 697.787 114.607 689.061 Q114.607 680.311 117.663 675.727 Q120.742 671.121 126.552 671.121 Z\" fill=\"#000000\" fill-rule=\"evenodd\" fill-opacity=\"1\" /><path clip-path=\"url(#clip200)\" d=\"M146.714 700.426 L151.598 700.426 L151.598 706.306 L146.714 706.306 L146.714 700.426 Z\" fill=\"#000000\" fill-rule=\"evenodd\" fill-opacity=\"1\" /><path clip-path=\"url(#clip200)\" d=\"M161.922 705.588 L161.922 701.329 Q163.681 702.162 165.487 702.602 Q167.292 703.042 169.028 703.042 Q173.658 703.042 176.089 699.94 Q178.542 696.815 178.889 690.473 Q177.547 692.463 175.487 693.528 Q173.427 694.593 170.927 694.593 Q165.741 694.593 162.709 691.468 Q159.7 688.32 159.7 682.88 Q159.7 677.556 162.848 674.338 Q165.996 671.121 171.227 671.121 Q177.223 671.121 180.371 675.727 Q183.542 680.311 183.542 689.061 Q183.542 697.232 179.653 702.116 Q175.788 706.977 169.237 706.977 Q167.477 706.977 165.672 706.63 Q163.866 706.283 161.922 705.588 M171.227 690.936 Q174.376 690.936 176.204 688.783 Q178.056 686.63 178.056 682.88 Q178.056 679.153 176.204 677 Q174.376 674.825 171.227 674.825 Q168.079 674.825 166.227 677 Q164.399 679.153 164.399 682.88 Q164.399 686.63 166.227 688.783 Q168.079 690.936 171.227 690.936 Z\" fill=\"#000000\" fill-rule=\"evenodd\" fill-opacity=\"1\" /><path clip-path=\"url(#clip200)\" d=\"M117.177 635.907 L124.816 635.907 L124.816 609.541 L116.506 611.208 L116.506 606.949 L124.769 605.282 L129.445 605.282 L129.445 635.907 L137.084 635.907 L137.084 639.842 L117.177 639.842 L117.177 635.907 Z\" fill=\"#000000\" fill-rule=\"evenodd\" fill-opacity=\"1\" /><path clip-path=\"url(#clip200)\" d=\"M146.529 633.963 L151.413 633.963 L151.413 639.842 L146.529 639.842 L146.529 633.963 Z\" fill=\"#000000\" fill-rule=\"evenodd\" fill-opacity=\"1\" /><path clip-path=\"url(#clip200)\" d=\"M171.598 608.361 Q167.987 608.361 166.158 611.926 Q164.352 615.467 164.352 622.597 Q164.352 629.703 166.158 633.268 Q167.987 636.81 171.598 636.81 Q175.232 636.81 177.038 633.268 Q178.866 629.703 178.866 622.597 Q178.866 615.467 177.038 611.926 Q175.232 608.361 171.598 608.361 M171.598 604.657 Q177.408 604.657 180.464 609.264 Q183.542 613.847 183.542 622.597 Q183.542 631.324 180.464 635.93 Q177.408 640.513 171.598 640.513 Q165.788 640.513 162.709 635.93 Q159.653 631.324 159.653 622.597 Q159.653 613.847 162.709 609.264 Q165.788 604.657 171.598 604.657 Z\" fill=\"#000000\" fill-rule=\"evenodd\" fill-opacity=\"1\" /><path clip-path=\"url(#clip200)\" d=\"M67.3143 785.246 Q73.68 787.729 75.6216 790.084 Q77.5631 792.44 77.5631 796.386 L77.5631 801.065 L72.6615 801.065 L72.6615 797.628 Q72.6615 795.209 71.5157 793.872 Q70.3699 792.535 66.1048 790.912 L63.4312 789.862 L28.3562 804.28 L28.3562 798.073 L56.238 786.933 L28.3562 775.793 L28.3562 769.587 L67.3143 785.246 Z\" fill=\"#000000\" fill-rule=\"evenodd\" fill-opacity=\"1\" /><path clip-path=\"url(#clip200)\" d=\"M74.8259 734.416 L79.3773 734.416 L79.3773 768.282 L74.8259 768.282 L74.8259 734.416 Z\" fill=\"#000000\" fill-rule=\"evenodd\" fill-opacity=\"1\" /><path clip-path=\"url(#clip200)\" d=\"M29.4065 706.184 L34.9447 706.184 Q33.6716 708.667 33.035 711.341 Q32.3984 714.014 32.3984 716.879 Q32.3984 721.239 33.7352 723.435 Q35.072 725.6 37.7456 725.6 Q39.7826 725.6 40.9603 724.04 Q42.1061 722.481 43.1565 717.77 L43.6021 715.765 Q44.9389 709.526 47.3897 706.916 Q49.8086 704.275 54.1691 704.275 Q59.1344 704.275 62.0308 708.221 Q64.9272 712.136 64.9272 719.011 Q64.9272 721.876 64.3543 724.995 Q63.8132 728.082 62.6992 731.52 L56.6518 731.52 Q58.3387 728.273 59.198 725.122 Q60.0256 721.971 60.0256 718.884 Q60.0256 714.746 58.6251 712.518 Q57.1929 710.29 54.6147 710.29 Q52.2276 710.29 50.9545 711.913 Q49.6813 713.505 48.5037 718.948 L48.0262 720.985 Q46.8804 726.427 44.5251 728.846 Q42.138 731.265 38.0002 731.265 Q32.9713 731.265 30.2341 727.7 Q27.4968 724.136 27.4968 717.579 Q27.4968 714.332 27.9743 711.468 Q28.4517 708.603 29.4065 706.184 Z\" fill=\"#000000\" fill-rule=\"evenodd\" fill-opacity=\"1\" /><path clip-path=\"url(#clip200)\" d=\"M58.5933 688.583 L58.5933 666.144 L64.0042 666.144 L64.0042 696.318 L58.5933 696.318 Q54.8057 692.657 48.44 686.355 Q42.0425 680.021 40.1964 678.398 Q36.7271 675.311 34.34 674.101 Q31.921 672.86 29.5975 672.86 Q25.8099 672.86 23.4228 675.533 Q21.0356 678.175 21.0356 682.44 Q21.0356 685.464 22.086 688.838 Q23.1363 692.18 25.2688 695.999 L18.7758 695.999 Q17.2162 692.116 16.4205 688.742 Q15.6248 685.368 15.6248 682.568 Q15.6248 675.183 19.3169 670.791 Q23.009 666.399 29.1837 666.399 Q32.112 666.399 34.7537 667.513 Q37.3637 668.595 40.9285 671.491 Q41.8515 672.287 46.2757 676.552 Q50.668 680.817 58.5933 688.583 Z\" fill=\"#000000\" fill-rule=\"evenodd\" fill-opacity=\"1\" /><polyline clip-path=\"url(#clip203)\" style=\"stroke:#000000; stroke-linecap:round; stroke-linejoin:round; stroke-width:4; stroke-opacity:1; fill:none\" stroke-dasharray=\"2, 4\" points=\"279.916,589.33 357.319,589.33 434.721,589.33 512.124,589.33 589.526,589.33 666.929,589.33 744.331,589.33 821.734,589.33 899.136,589.33 976.539,589.33 1053.94,589.33 1131.34,589.33 1208.75,589.33 1286.15,589.33 1363.55,589.33 1440.95,589.33 1518.36,589.33 1595.76,589.33 1673.16,589.33 1750.56,589.33 1827.97,589.33 1905.37,589.33 1982.77,589.33 2060.17,589.33 2137.58,589.33 2214.98,589.33 2292.38,589.33 \"/>\n",
       "<polyline clip-path=\"url(#clip203)\" style=\"stroke:#000000; stroke-linecap:round; stroke-linejoin:round; stroke-width:4; stroke-opacity:1; fill:none\" stroke-dasharray=\"2, 4\" points=\"279.916,622.562 357.319,622.562 434.721,622.562 512.124,622.562 589.526,622.562 666.929,622.562 744.331,622.562 821.734,622.562 899.136,622.562 976.539,622.562 1053.94,622.562 1131.34,622.562 1208.75,622.562 1286.15,622.562 1363.55,622.562 1440.95,622.562 1518.36,622.562 1595.76,622.562 1673.16,622.562 1750.56,622.562 1827.97,622.562 1905.37,622.562 1982.77,622.562 2060.17,622.562 2137.58,622.562 2214.98,622.562 2292.38,622.562 \"/>\n",
       "<polyline clip-path=\"url(#clip203)\" style=\"stroke:#ff0000; stroke-linecap:round; stroke-linejoin:round; stroke-width:20; stroke-opacity:0.3; fill:none\" points=\"279.916,881.094 357.319,868.521 434.721,821.596 512.124,757.421 589.526,692.526 666.929,643.558 744.331,617.79 821.734,610.597 899.136,613.909 976.539,620.811 1053.94,626.333 1131.34,626.963 1208.75,624.161 1286.15,622.198 1363.55,622.099 1440.95,622.67 1518.36,622.696 1595.76,622.561 1673.16,622.563 1750.56,622.562 1827.97,622.562 1905.37,622.562 1982.77,622.562 2060.17,622.562 2137.58,622.562 2214.98,622.562 2292.38,622.562 \"/>\n",
       "<line clip-path=\"url(#clip203)\" x1=\"279.916\" y1=\"881.094\" x2=\"279.916\" y2=\"865.094\" style=\"stroke:#3da44d; stroke-width:3.2; stroke-opacity:1\"/>\n",
       "<line clip-path=\"url(#clip203)\" x1=\"279.916\" y1=\"881.094\" x2=\"263.916\" y2=\"881.094\" style=\"stroke:#3da44d; stroke-width:3.2; stroke-opacity:1\"/>\n",
       "<line clip-path=\"url(#clip203)\" x1=\"279.916\" y1=\"881.094\" x2=\"279.916\" y2=\"897.094\" style=\"stroke:#3da44d; stroke-width:3.2; stroke-opacity:1\"/>\n",
       "<line clip-path=\"url(#clip203)\" x1=\"279.916\" y1=\"881.094\" x2=\"295.916\" y2=\"881.094\" style=\"stroke:#3da44d; stroke-width:3.2; stroke-opacity:1\"/>\n",
       "<line clip-path=\"url(#clip203)\" x1=\"357.319\" y1=\"868.521\" x2=\"357.319\" y2=\"852.521\" style=\"stroke:#3da44d; stroke-width:3.2; stroke-opacity:1\"/>\n",
       "<line clip-path=\"url(#clip203)\" x1=\"357.319\" y1=\"868.521\" x2=\"341.319\" y2=\"868.521\" style=\"stroke:#3da44d; stroke-width:3.2; stroke-opacity:1\"/>\n",
       "<line clip-path=\"url(#clip203)\" x1=\"357.319\" y1=\"868.521\" x2=\"357.319\" y2=\"884.521\" style=\"stroke:#3da44d; stroke-width:3.2; stroke-opacity:1\"/>\n",
       "<line clip-path=\"url(#clip203)\" x1=\"357.319\" y1=\"868.521\" x2=\"373.319\" y2=\"868.521\" style=\"stroke:#3da44d; stroke-width:3.2; stroke-opacity:1\"/>\n",
       "<line clip-path=\"url(#clip203)\" x1=\"434.721\" y1=\"821.596\" x2=\"434.721\" y2=\"805.596\" style=\"stroke:#3da44d; stroke-width:3.2; stroke-opacity:1\"/>\n",
       "<line clip-path=\"url(#clip203)\" x1=\"434.721\" y1=\"821.596\" x2=\"418.721\" y2=\"821.596\" style=\"stroke:#3da44d; stroke-width:3.2; stroke-opacity:1\"/>\n",
       "<line clip-path=\"url(#clip203)\" x1=\"434.721\" y1=\"821.596\" x2=\"434.721\" y2=\"837.596\" style=\"stroke:#3da44d; stroke-width:3.2; stroke-opacity:1\"/>\n",
       "<line clip-path=\"url(#clip203)\" x1=\"434.721\" y1=\"821.596\" x2=\"450.721\" y2=\"821.596\" style=\"stroke:#3da44d; stroke-width:3.2; stroke-opacity:1\"/>\n",
       "<line clip-path=\"url(#clip203)\" x1=\"512.124\" y1=\"757.421\" x2=\"512.124\" y2=\"741.421\" style=\"stroke:#3da44d; stroke-width:3.2; stroke-opacity:1\"/>\n",
       "<line clip-path=\"url(#clip203)\" x1=\"512.124\" y1=\"757.421\" x2=\"496.124\" y2=\"757.421\" style=\"stroke:#3da44d; stroke-width:3.2; stroke-opacity:1\"/>\n",
       "<line clip-path=\"url(#clip203)\" x1=\"512.124\" y1=\"757.421\" x2=\"512.124\" y2=\"773.421\" style=\"stroke:#3da44d; stroke-width:3.2; stroke-opacity:1\"/>\n",
       "<line clip-path=\"url(#clip203)\" x1=\"512.124\" y1=\"757.421\" x2=\"528.124\" y2=\"757.421\" style=\"stroke:#3da44d; stroke-width:3.2; stroke-opacity:1\"/>\n",
       "<line clip-path=\"url(#clip203)\" x1=\"589.526\" y1=\"692.526\" x2=\"589.526\" y2=\"676.526\" style=\"stroke:#3da44d; stroke-width:3.2; stroke-opacity:1\"/>\n",
       "<line clip-path=\"url(#clip203)\" x1=\"589.526\" y1=\"692.526\" x2=\"573.526\" y2=\"692.526\" style=\"stroke:#3da44d; stroke-width:3.2; stroke-opacity:1\"/>\n",
       "<line clip-path=\"url(#clip203)\" x1=\"589.526\" y1=\"692.526\" x2=\"589.526\" y2=\"708.526\" style=\"stroke:#3da44d; stroke-width:3.2; stroke-opacity:1\"/>\n",
       "<line clip-path=\"url(#clip203)\" x1=\"589.526\" y1=\"692.526\" x2=\"605.526\" y2=\"692.526\" style=\"stroke:#3da44d; stroke-width:3.2; stroke-opacity:1\"/>\n",
       "<line clip-path=\"url(#clip203)\" x1=\"666.929\" y1=\"643.558\" x2=\"666.929\" y2=\"627.558\" style=\"stroke:#3da44d; stroke-width:3.2; stroke-opacity:1\"/>\n",
       "<line clip-path=\"url(#clip203)\" x1=\"666.929\" y1=\"643.558\" x2=\"650.929\" y2=\"643.558\" style=\"stroke:#3da44d; stroke-width:3.2; stroke-opacity:1\"/>\n",
       "<line clip-path=\"url(#clip203)\" x1=\"666.929\" y1=\"643.558\" x2=\"666.929\" y2=\"659.558\" style=\"stroke:#3da44d; stroke-width:3.2; stroke-opacity:1\"/>\n",
       "<line clip-path=\"url(#clip203)\" x1=\"666.929\" y1=\"643.558\" x2=\"682.929\" y2=\"643.558\" style=\"stroke:#3da44d; stroke-width:3.2; stroke-opacity:1\"/>\n",
       "<line clip-path=\"url(#clip203)\" x1=\"744.331\" y1=\"617.79\" x2=\"744.331\" y2=\"601.79\" style=\"stroke:#3da44d; stroke-width:3.2; stroke-opacity:1\"/>\n",
       "<line clip-path=\"url(#clip203)\" x1=\"744.331\" y1=\"617.79\" x2=\"728.331\" y2=\"617.79\" style=\"stroke:#3da44d; stroke-width:3.2; stroke-opacity:1\"/>\n",
       "<line clip-path=\"url(#clip203)\" x1=\"744.331\" y1=\"617.79\" x2=\"744.331\" y2=\"633.79\" style=\"stroke:#3da44d; stroke-width:3.2; stroke-opacity:1\"/>\n",
       "<line clip-path=\"url(#clip203)\" x1=\"744.331\" y1=\"617.79\" x2=\"760.331\" y2=\"617.79\" style=\"stroke:#3da44d; stroke-width:3.2; stroke-opacity:1\"/>\n",
       "<line clip-path=\"url(#clip203)\" x1=\"821.734\" y1=\"610.597\" x2=\"821.734\" y2=\"594.597\" style=\"stroke:#3da44d; stroke-width:3.2; stroke-opacity:1\"/>\n",
       "<line clip-path=\"url(#clip203)\" x1=\"821.734\" y1=\"610.597\" x2=\"805.734\" y2=\"610.597\" style=\"stroke:#3da44d; stroke-width:3.2; stroke-opacity:1\"/>\n",
       "<line clip-path=\"url(#clip203)\" x1=\"821.734\" y1=\"610.597\" x2=\"821.734\" y2=\"626.597\" style=\"stroke:#3da44d; stroke-width:3.2; stroke-opacity:1\"/>\n",
       "<line clip-path=\"url(#clip203)\" x1=\"821.734\" y1=\"610.597\" x2=\"837.734\" y2=\"610.597\" style=\"stroke:#3da44d; stroke-width:3.2; stroke-opacity:1\"/>\n",
       "<line clip-path=\"url(#clip203)\" x1=\"899.136\" y1=\"613.909\" x2=\"899.136\" y2=\"597.909\" style=\"stroke:#3da44d; stroke-width:3.2; stroke-opacity:1\"/>\n",
       "<line clip-path=\"url(#clip203)\" x1=\"899.136\" y1=\"613.909\" x2=\"883.136\" y2=\"613.909\" style=\"stroke:#3da44d; stroke-width:3.2; stroke-opacity:1\"/>\n",
       "<line clip-path=\"url(#clip203)\" x1=\"899.136\" y1=\"613.909\" x2=\"899.136\" y2=\"629.909\" style=\"stroke:#3da44d; stroke-width:3.2; stroke-opacity:1\"/>\n",
       "<line clip-path=\"url(#clip203)\" x1=\"899.136\" y1=\"613.909\" x2=\"915.136\" y2=\"613.909\" style=\"stroke:#3da44d; stroke-width:3.2; stroke-opacity:1\"/>\n",
       "<line clip-path=\"url(#clip203)\" x1=\"976.539\" y1=\"620.811\" x2=\"976.539\" y2=\"604.811\" style=\"stroke:#3da44d; stroke-width:3.2; stroke-opacity:1\"/>\n",
       "<line clip-path=\"url(#clip203)\" x1=\"976.539\" y1=\"620.811\" x2=\"960.539\" y2=\"620.811\" style=\"stroke:#3da44d; stroke-width:3.2; stroke-opacity:1\"/>\n",
       "<line clip-path=\"url(#clip203)\" x1=\"976.539\" y1=\"620.811\" x2=\"976.539\" y2=\"636.811\" style=\"stroke:#3da44d; stroke-width:3.2; stroke-opacity:1\"/>\n",
       "<line clip-path=\"url(#clip203)\" x1=\"976.539\" y1=\"620.811\" x2=\"992.539\" y2=\"620.811\" style=\"stroke:#3da44d; stroke-width:3.2; stroke-opacity:1\"/>\n",
       "<line clip-path=\"url(#clip203)\" x1=\"1053.94\" y1=\"626.333\" x2=\"1053.94\" y2=\"610.333\" style=\"stroke:#3da44d; stroke-width:3.2; stroke-opacity:1\"/>\n",
       "<line clip-path=\"url(#clip203)\" x1=\"1053.94\" y1=\"626.333\" x2=\"1037.94\" y2=\"626.333\" style=\"stroke:#3da44d; stroke-width:3.2; stroke-opacity:1\"/>\n",
       "<line clip-path=\"url(#clip203)\" x1=\"1053.94\" y1=\"626.333\" x2=\"1053.94\" y2=\"642.333\" style=\"stroke:#3da44d; stroke-width:3.2; stroke-opacity:1\"/>\n",
       "<line clip-path=\"url(#clip203)\" x1=\"1053.94\" y1=\"626.333\" x2=\"1069.94\" y2=\"626.333\" style=\"stroke:#3da44d; stroke-width:3.2; stroke-opacity:1\"/>\n",
       "<line clip-path=\"url(#clip203)\" x1=\"1131.34\" y1=\"626.963\" x2=\"1131.34\" y2=\"610.963\" style=\"stroke:#3da44d; stroke-width:3.2; stroke-opacity:1\"/>\n",
       "<line clip-path=\"url(#clip203)\" x1=\"1131.34\" y1=\"626.963\" x2=\"1115.34\" y2=\"626.963\" style=\"stroke:#3da44d; stroke-width:3.2; stroke-opacity:1\"/>\n",
       "<line clip-path=\"url(#clip203)\" x1=\"1131.34\" y1=\"626.963\" x2=\"1131.34\" y2=\"642.963\" style=\"stroke:#3da44d; stroke-width:3.2; stroke-opacity:1\"/>\n",
       "<line clip-path=\"url(#clip203)\" x1=\"1131.34\" y1=\"626.963\" x2=\"1147.34\" y2=\"626.963\" style=\"stroke:#3da44d; stroke-width:3.2; stroke-opacity:1\"/>\n",
       "<line clip-path=\"url(#clip203)\" x1=\"1208.75\" y1=\"624.161\" x2=\"1208.75\" y2=\"608.161\" style=\"stroke:#3da44d; stroke-width:3.2; stroke-opacity:1\"/>\n",
       "<line clip-path=\"url(#clip203)\" x1=\"1208.75\" y1=\"624.161\" x2=\"1192.75\" y2=\"624.161\" style=\"stroke:#3da44d; stroke-width:3.2; stroke-opacity:1\"/>\n",
       "<line clip-path=\"url(#clip203)\" x1=\"1208.75\" y1=\"624.161\" x2=\"1208.75\" y2=\"640.161\" style=\"stroke:#3da44d; stroke-width:3.2; stroke-opacity:1\"/>\n",
       "<line clip-path=\"url(#clip203)\" x1=\"1208.75\" y1=\"624.161\" x2=\"1224.75\" y2=\"624.161\" style=\"stroke:#3da44d; stroke-width:3.2; stroke-opacity:1\"/>\n",
       "<line clip-path=\"url(#clip203)\" x1=\"1286.15\" y1=\"622.198\" x2=\"1286.15\" y2=\"606.198\" style=\"stroke:#3da44d; stroke-width:3.2; stroke-opacity:1\"/>\n",
       "<line clip-path=\"url(#clip203)\" x1=\"1286.15\" y1=\"622.198\" x2=\"1270.15\" y2=\"622.198\" style=\"stroke:#3da44d; stroke-width:3.2; stroke-opacity:1\"/>\n",
       "<line clip-path=\"url(#clip203)\" x1=\"1286.15\" y1=\"622.198\" x2=\"1286.15\" y2=\"638.198\" style=\"stroke:#3da44d; stroke-width:3.2; stroke-opacity:1\"/>\n",
       "<line clip-path=\"url(#clip203)\" x1=\"1286.15\" y1=\"622.198\" x2=\"1302.15\" y2=\"622.198\" style=\"stroke:#3da44d; stroke-width:3.2; stroke-opacity:1\"/>\n",
       "<line clip-path=\"url(#clip203)\" x1=\"1363.55\" y1=\"622.099\" x2=\"1363.55\" y2=\"606.099\" style=\"stroke:#3da44d; stroke-width:3.2; stroke-opacity:1\"/>\n",
       "<line clip-path=\"url(#clip203)\" x1=\"1363.55\" y1=\"622.099\" x2=\"1347.55\" y2=\"622.099\" style=\"stroke:#3da44d; stroke-width:3.2; stroke-opacity:1\"/>\n",
       "<line clip-path=\"url(#clip203)\" x1=\"1363.55\" y1=\"622.099\" x2=\"1363.55\" y2=\"638.099\" style=\"stroke:#3da44d; stroke-width:3.2; stroke-opacity:1\"/>\n",
       "<line clip-path=\"url(#clip203)\" x1=\"1363.55\" y1=\"622.099\" x2=\"1379.55\" y2=\"622.099\" style=\"stroke:#3da44d; stroke-width:3.2; stroke-opacity:1\"/>\n",
       "<line clip-path=\"url(#clip203)\" x1=\"1440.95\" y1=\"622.67\" x2=\"1440.95\" y2=\"606.67\" style=\"stroke:#3da44d; stroke-width:3.2; stroke-opacity:1\"/>\n",
       "<line clip-path=\"url(#clip203)\" x1=\"1440.95\" y1=\"622.67\" x2=\"1424.95\" y2=\"622.67\" style=\"stroke:#3da44d; stroke-width:3.2; stroke-opacity:1\"/>\n",
       "<line clip-path=\"url(#clip203)\" x1=\"1440.95\" y1=\"622.67\" x2=\"1440.95\" y2=\"638.67\" style=\"stroke:#3da44d; stroke-width:3.2; stroke-opacity:1\"/>\n",
       "<line clip-path=\"url(#clip203)\" x1=\"1440.95\" y1=\"622.67\" x2=\"1456.95\" y2=\"622.67\" style=\"stroke:#3da44d; stroke-width:3.2; stroke-opacity:1\"/>\n",
       "<line clip-path=\"url(#clip203)\" x1=\"1518.36\" y1=\"622.696\" x2=\"1518.36\" y2=\"606.696\" style=\"stroke:#3da44d; stroke-width:3.2; stroke-opacity:1\"/>\n",
       "<line clip-path=\"url(#clip203)\" x1=\"1518.36\" y1=\"622.696\" x2=\"1502.36\" y2=\"622.696\" style=\"stroke:#3da44d; stroke-width:3.2; stroke-opacity:1\"/>\n",
       "<line clip-path=\"url(#clip203)\" x1=\"1518.36\" y1=\"622.696\" x2=\"1518.36\" y2=\"638.696\" style=\"stroke:#3da44d; stroke-width:3.2; stroke-opacity:1\"/>\n",
       "<line clip-path=\"url(#clip203)\" x1=\"1518.36\" y1=\"622.696\" x2=\"1534.36\" y2=\"622.696\" style=\"stroke:#3da44d; stroke-width:3.2; stroke-opacity:1\"/>\n",
       "<line clip-path=\"url(#clip203)\" x1=\"1595.76\" y1=\"622.561\" x2=\"1595.76\" y2=\"606.561\" style=\"stroke:#3da44d; stroke-width:3.2; stroke-opacity:1\"/>\n",
       "<line clip-path=\"url(#clip203)\" x1=\"1595.76\" y1=\"622.561\" x2=\"1579.76\" y2=\"622.561\" style=\"stroke:#3da44d; stroke-width:3.2; stroke-opacity:1\"/>\n",
       "<line clip-path=\"url(#clip203)\" x1=\"1595.76\" y1=\"622.561\" x2=\"1595.76\" y2=\"638.561\" style=\"stroke:#3da44d; stroke-width:3.2; stroke-opacity:1\"/>\n",
       "<line clip-path=\"url(#clip203)\" x1=\"1595.76\" y1=\"622.561\" x2=\"1611.76\" y2=\"622.561\" style=\"stroke:#3da44d; stroke-width:3.2; stroke-opacity:1\"/>\n",
       "<line clip-path=\"url(#clip203)\" x1=\"1673.16\" y1=\"622.563\" x2=\"1673.16\" y2=\"606.563\" style=\"stroke:#3da44d; stroke-width:3.2; stroke-opacity:1\"/>\n",
       "<line clip-path=\"url(#clip203)\" x1=\"1673.16\" y1=\"622.563\" x2=\"1657.16\" y2=\"622.563\" style=\"stroke:#3da44d; stroke-width:3.2; stroke-opacity:1\"/>\n",
       "<line clip-path=\"url(#clip203)\" x1=\"1673.16\" y1=\"622.563\" x2=\"1673.16\" y2=\"638.563\" style=\"stroke:#3da44d; stroke-width:3.2; stroke-opacity:1\"/>\n",
       "<line clip-path=\"url(#clip203)\" x1=\"1673.16\" y1=\"622.563\" x2=\"1689.16\" y2=\"622.563\" style=\"stroke:#3da44d; stroke-width:3.2; stroke-opacity:1\"/>\n",
       "<line clip-path=\"url(#clip203)\" x1=\"1750.56\" y1=\"622.562\" x2=\"1750.56\" y2=\"606.562\" style=\"stroke:#3da44d; stroke-width:3.2; stroke-opacity:1\"/>\n",
       "<line clip-path=\"url(#clip203)\" x1=\"1750.56\" y1=\"622.562\" x2=\"1734.56\" y2=\"622.562\" style=\"stroke:#3da44d; stroke-width:3.2; stroke-opacity:1\"/>\n",
       "<line clip-path=\"url(#clip203)\" x1=\"1750.56\" y1=\"622.562\" x2=\"1750.56\" y2=\"638.562\" style=\"stroke:#3da44d; stroke-width:3.2; stroke-opacity:1\"/>\n",
       "<line clip-path=\"url(#clip203)\" x1=\"1750.56\" y1=\"622.562\" x2=\"1766.56\" y2=\"622.562\" style=\"stroke:#3da44d; stroke-width:3.2; stroke-opacity:1\"/>\n",
       "<line clip-path=\"url(#clip203)\" x1=\"1827.97\" y1=\"622.562\" x2=\"1827.97\" y2=\"606.562\" style=\"stroke:#3da44d; stroke-width:3.2; stroke-opacity:1\"/>\n",
       "<line clip-path=\"url(#clip203)\" x1=\"1827.97\" y1=\"622.562\" x2=\"1811.97\" y2=\"622.562\" style=\"stroke:#3da44d; stroke-width:3.2; stroke-opacity:1\"/>\n",
       "<line clip-path=\"url(#clip203)\" x1=\"1827.97\" y1=\"622.562\" x2=\"1827.97\" y2=\"638.562\" style=\"stroke:#3da44d; stroke-width:3.2; stroke-opacity:1\"/>\n",
       "<line clip-path=\"url(#clip203)\" x1=\"1827.97\" y1=\"622.562\" x2=\"1843.97\" y2=\"622.562\" style=\"stroke:#3da44d; stroke-width:3.2; stroke-opacity:1\"/>\n",
       "<line clip-path=\"url(#clip203)\" x1=\"1905.37\" y1=\"622.562\" x2=\"1905.37\" y2=\"606.562\" style=\"stroke:#3da44d; stroke-width:3.2; stroke-opacity:1\"/>\n",
       "<line clip-path=\"url(#clip203)\" x1=\"1905.37\" y1=\"622.562\" x2=\"1889.37\" y2=\"622.562\" style=\"stroke:#3da44d; stroke-width:3.2; stroke-opacity:1\"/>\n",
       "<line clip-path=\"url(#clip203)\" x1=\"1905.37\" y1=\"622.562\" x2=\"1905.37\" y2=\"638.562\" style=\"stroke:#3da44d; stroke-width:3.2; stroke-opacity:1\"/>\n",
       "<line clip-path=\"url(#clip203)\" x1=\"1905.37\" y1=\"622.562\" x2=\"1921.37\" y2=\"622.562\" style=\"stroke:#3da44d; stroke-width:3.2; stroke-opacity:1\"/>\n",
       "<line clip-path=\"url(#clip203)\" x1=\"1982.77\" y1=\"622.562\" x2=\"1982.77\" y2=\"606.562\" style=\"stroke:#3da44d; stroke-width:3.2; stroke-opacity:1\"/>\n",
       "<line clip-path=\"url(#clip203)\" x1=\"1982.77\" y1=\"622.562\" x2=\"1966.77\" y2=\"622.562\" style=\"stroke:#3da44d; stroke-width:3.2; stroke-opacity:1\"/>\n",
       "<line clip-path=\"url(#clip203)\" x1=\"1982.77\" y1=\"622.562\" x2=\"1982.77\" y2=\"638.562\" style=\"stroke:#3da44d; stroke-width:3.2; stroke-opacity:1\"/>\n",
       "<line clip-path=\"url(#clip203)\" x1=\"1982.77\" y1=\"622.562\" x2=\"1998.77\" y2=\"622.562\" style=\"stroke:#3da44d; stroke-width:3.2; stroke-opacity:1\"/>\n",
       "<line clip-path=\"url(#clip203)\" x1=\"2060.17\" y1=\"622.562\" x2=\"2060.17\" y2=\"606.562\" style=\"stroke:#3da44d; stroke-width:3.2; stroke-opacity:1\"/>\n",
       "<line clip-path=\"url(#clip203)\" x1=\"2060.17\" y1=\"622.562\" x2=\"2044.17\" y2=\"622.562\" style=\"stroke:#3da44d; stroke-width:3.2; stroke-opacity:1\"/>\n",
       "<line clip-path=\"url(#clip203)\" x1=\"2060.17\" y1=\"622.562\" x2=\"2060.17\" y2=\"638.562\" style=\"stroke:#3da44d; stroke-width:3.2; stroke-opacity:1\"/>\n",
       "<line clip-path=\"url(#clip203)\" x1=\"2060.17\" y1=\"622.562\" x2=\"2076.17\" y2=\"622.562\" style=\"stroke:#3da44d; stroke-width:3.2; stroke-opacity:1\"/>\n",
       "<line clip-path=\"url(#clip203)\" x1=\"2137.58\" y1=\"622.562\" x2=\"2137.58\" y2=\"606.562\" style=\"stroke:#3da44d; stroke-width:3.2; stroke-opacity:1\"/>\n",
       "<line clip-path=\"url(#clip203)\" x1=\"2137.58\" y1=\"622.562\" x2=\"2121.58\" y2=\"622.562\" style=\"stroke:#3da44d; stroke-width:3.2; stroke-opacity:1\"/>\n",
       "<line clip-path=\"url(#clip203)\" x1=\"2137.58\" y1=\"622.562\" x2=\"2137.58\" y2=\"638.562\" style=\"stroke:#3da44d; stroke-width:3.2; stroke-opacity:1\"/>\n",
       "<line clip-path=\"url(#clip203)\" x1=\"2137.58\" y1=\"622.562\" x2=\"2153.58\" y2=\"622.562\" style=\"stroke:#3da44d; stroke-width:3.2; stroke-opacity:1\"/>\n",
       "<line clip-path=\"url(#clip203)\" x1=\"2214.98\" y1=\"622.562\" x2=\"2214.98\" y2=\"606.562\" style=\"stroke:#3da44d; stroke-width:3.2; stroke-opacity:1\"/>\n",
       "<line clip-path=\"url(#clip203)\" x1=\"2214.98\" y1=\"622.562\" x2=\"2198.98\" y2=\"622.562\" style=\"stroke:#3da44d; stroke-width:3.2; stroke-opacity:1\"/>\n",
       "<line clip-path=\"url(#clip203)\" x1=\"2214.98\" y1=\"622.562\" x2=\"2214.98\" y2=\"638.562\" style=\"stroke:#3da44d; stroke-width:3.2; stroke-opacity:1\"/>\n",
       "<line clip-path=\"url(#clip203)\" x1=\"2214.98\" y1=\"622.562\" x2=\"2230.98\" y2=\"622.562\" style=\"stroke:#3da44d; stroke-width:3.2; stroke-opacity:1\"/>\n",
       "<line clip-path=\"url(#clip203)\" x1=\"2292.38\" y1=\"622.562\" x2=\"2292.38\" y2=\"606.562\" style=\"stroke:#3da44d; stroke-width:3.2; stroke-opacity:1\"/>\n",
       "<line clip-path=\"url(#clip203)\" x1=\"2292.38\" y1=\"622.562\" x2=\"2276.38\" y2=\"622.562\" style=\"stroke:#3da44d; stroke-width:3.2; stroke-opacity:1\"/>\n",
       "<line clip-path=\"url(#clip203)\" x1=\"2292.38\" y1=\"622.562\" x2=\"2292.38\" y2=\"638.562\" style=\"stroke:#3da44d; stroke-width:3.2; stroke-opacity:1\"/>\n",
       "<line clip-path=\"url(#clip203)\" x1=\"2292.38\" y1=\"622.562\" x2=\"2308.38\" y2=\"622.562\" style=\"stroke:#3da44d; stroke-width:3.2; stroke-opacity:1\"/>\n",
       "<polyline clip-path=\"url(#clip203)\" style=\"stroke:#80007f; stroke-linecap:round; stroke-linejoin:round; stroke-width:20; stroke-opacity:0.3; fill:none\" points=\"279.916,881.094 357.319,868.521 434.721,821.596 512.124,757.421 589.526,692.526 666.929,643.558 744.331,617.79 821.734,610.597 899.136,613.909 976.539,620.811 1053.94,626.333 1131.34,626.963 1208.75,624.16 1286.15,622.197 1363.55,622.1 1440.95,622.672 1518.36,622.694 1595.76,622.561 1673.16,622.563 1750.56,622.561 1827.97,622.562 1905.37,622.563 1982.77,622.562 2060.17,622.562 2137.58,622.562 2214.98,622.562 2292.38,622.562 \"/>\n",
       "<circle clip-path=\"url(#clip203)\" cx=\"279.916\" cy=\"881.094\" r=\"14.4\" fill=\"#c271d2\" fill-rule=\"evenodd\" fill-opacity=\"1\" stroke=\"#000000\" stroke-opacity=\"1\" stroke-width=\"3.2\"/>\n",
       "<circle clip-path=\"url(#clip203)\" cx=\"357.319\" cy=\"868.521\" r=\"14.4\" fill=\"#c271d2\" fill-rule=\"evenodd\" fill-opacity=\"1\" stroke=\"#000000\" stroke-opacity=\"1\" stroke-width=\"3.2\"/>\n",
       "<circle clip-path=\"url(#clip203)\" cx=\"434.721\" cy=\"821.596\" r=\"14.4\" fill=\"#c271d2\" fill-rule=\"evenodd\" fill-opacity=\"1\" stroke=\"#000000\" stroke-opacity=\"1\" stroke-width=\"3.2\"/>\n",
       "<circle clip-path=\"url(#clip203)\" cx=\"512.124\" cy=\"757.421\" r=\"14.4\" fill=\"#c271d2\" fill-rule=\"evenodd\" fill-opacity=\"1\" stroke=\"#000000\" stroke-opacity=\"1\" stroke-width=\"3.2\"/>\n",
       "<circle clip-path=\"url(#clip203)\" cx=\"589.526\" cy=\"692.526\" r=\"14.4\" fill=\"#c271d2\" fill-rule=\"evenodd\" fill-opacity=\"1\" stroke=\"#000000\" stroke-opacity=\"1\" stroke-width=\"3.2\"/>\n",
       "<circle clip-path=\"url(#clip203)\" cx=\"666.929\" cy=\"643.558\" r=\"14.4\" fill=\"#c271d2\" fill-rule=\"evenodd\" fill-opacity=\"1\" stroke=\"#000000\" stroke-opacity=\"1\" stroke-width=\"3.2\"/>\n",
       "<circle clip-path=\"url(#clip203)\" cx=\"744.331\" cy=\"617.79\" r=\"14.4\" fill=\"#c271d2\" fill-rule=\"evenodd\" fill-opacity=\"1\" stroke=\"#000000\" stroke-opacity=\"1\" stroke-width=\"3.2\"/>\n",
       "<circle clip-path=\"url(#clip203)\" cx=\"821.734\" cy=\"610.597\" r=\"14.4\" fill=\"#c271d2\" fill-rule=\"evenodd\" fill-opacity=\"1\" stroke=\"#000000\" stroke-opacity=\"1\" stroke-width=\"3.2\"/>\n",
       "<circle clip-path=\"url(#clip203)\" cx=\"899.136\" cy=\"613.909\" r=\"14.4\" fill=\"#c271d2\" fill-rule=\"evenodd\" fill-opacity=\"1\" stroke=\"#000000\" stroke-opacity=\"1\" stroke-width=\"3.2\"/>\n",
       "<circle clip-path=\"url(#clip203)\" cx=\"976.539\" cy=\"620.811\" r=\"14.4\" fill=\"#c271d2\" fill-rule=\"evenodd\" fill-opacity=\"1\" stroke=\"#000000\" stroke-opacity=\"1\" stroke-width=\"3.2\"/>\n",
       "<circle clip-path=\"url(#clip203)\" cx=\"1053.94\" cy=\"626.333\" r=\"14.4\" fill=\"#c271d2\" fill-rule=\"evenodd\" fill-opacity=\"1\" stroke=\"#000000\" stroke-opacity=\"1\" stroke-width=\"3.2\"/>\n",
       "<circle clip-path=\"url(#clip203)\" cx=\"1131.34\" cy=\"626.963\" r=\"14.4\" fill=\"#c271d2\" fill-rule=\"evenodd\" fill-opacity=\"1\" stroke=\"#000000\" stroke-opacity=\"1\" stroke-width=\"3.2\"/>\n",
       "<circle clip-path=\"url(#clip203)\" cx=\"1208.75\" cy=\"624.16\" r=\"14.4\" fill=\"#c271d2\" fill-rule=\"evenodd\" fill-opacity=\"1\" stroke=\"#000000\" stroke-opacity=\"1\" stroke-width=\"3.2\"/>\n",
       "<circle clip-path=\"url(#clip203)\" cx=\"1286.15\" cy=\"622.197\" r=\"14.4\" fill=\"#c271d2\" fill-rule=\"evenodd\" fill-opacity=\"1\" stroke=\"#000000\" stroke-opacity=\"1\" stroke-width=\"3.2\"/>\n",
       "<circle clip-path=\"url(#clip203)\" cx=\"1363.55\" cy=\"622.1\" r=\"14.4\" fill=\"#c271d2\" fill-rule=\"evenodd\" fill-opacity=\"1\" stroke=\"#000000\" stroke-opacity=\"1\" stroke-width=\"3.2\"/>\n",
       "<circle clip-path=\"url(#clip203)\" cx=\"1440.95\" cy=\"622.672\" r=\"14.4\" fill=\"#c271d2\" fill-rule=\"evenodd\" fill-opacity=\"1\" stroke=\"#000000\" stroke-opacity=\"1\" stroke-width=\"3.2\"/>\n",
       "<circle clip-path=\"url(#clip203)\" cx=\"1518.36\" cy=\"622.694\" r=\"14.4\" fill=\"#c271d2\" fill-rule=\"evenodd\" fill-opacity=\"1\" stroke=\"#000000\" stroke-opacity=\"1\" stroke-width=\"3.2\"/>\n",
       "<circle clip-path=\"url(#clip203)\" cx=\"1595.76\" cy=\"622.561\" r=\"14.4\" fill=\"#c271d2\" fill-rule=\"evenodd\" fill-opacity=\"1\" stroke=\"#000000\" stroke-opacity=\"1\" stroke-width=\"3.2\"/>\n",
       "<circle clip-path=\"url(#clip203)\" cx=\"1673.16\" cy=\"622.563\" r=\"14.4\" fill=\"#c271d2\" fill-rule=\"evenodd\" fill-opacity=\"1\" stroke=\"#000000\" stroke-opacity=\"1\" stroke-width=\"3.2\"/>\n",
       "<circle clip-path=\"url(#clip203)\" cx=\"1750.56\" cy=\"622.561\" r=\"14.4\" fill=\"#c271d2\" fill-rule=\"evenodd\" fill-opacity=\"1\" stroke=\"#000000\" stroke-opacity=\"1\" stroke-width=\"3.2\"/>\n",
       "<circle clip-path=\"url(#clip203)\" cx=\"1827.97\" cy=\"622.562\" r=\"14.4\" fill=\"#c271d2\" fill-rule=\"evenodd\" fill-opacity=\"1\" stroke=\"#000000\" stroke-opacity=\"1\" stroke-width=\"3.2\"/>\n",
       "<circle clip-path=\"url(#clip203)\" cx=\"1905.37\" cy=\"622.563\" r=\"14.4\" fill=\"#c271d2\" fill-rule=\"evenodd\" fill-opacity=\"1\" stroke=\"#000000\" stroke-opacity=\"1\" stroke-width=\"3.2\"/>\n",
       "<circle clip-path=\"url(#clip203)\" cx=\"1982.77\" cy=\"622.562\" r=\"14.4\" fill=\"#c271d2\" fill-rule=\"evenodd\" fill-opacity=\"1\" stroke=\"#000000\" stroke-opacity=\"1\" stroke-width=\"3.2\"/>\n",
       "<circle clip-path=\"url(#clip203)\" cx=\"2060.17\" cy=\"622.562\" r=\"14.4\" fill=\"#c271d2\" fill-rule=\"evenodd\" fill-opacity=\"1\" stroke=\"#000000\" stroke-opacity=\"1\" stroke-width=\"3.2\"/>\n",
       "<circle clip-path=\"url(#clip203)\" cx=\"2137.58\" cy=\"622.562\" r=\"14.4\" fill=\"#c271d2\" fill-rule=\"evenodd\" fill-opacity=\"1\" stroke=\"#000000\" stroke-opacity=\"1\" stroke-width=\"3.2\"/>\n",
       "<circle clip-path=\"url(#clip203)\" cx=\"2214.98\" cy=\"622.562\" r=\"14.4\" fill=\"#c271d2\" fill-rule=\"evenodd\" fill-opacity=\"1\" stroke=\"#000000\" stroke-opacity=\"1\" stroke-width=\"3.2\"/>\n",
       "<circle clip-path=\"url(#clip203)\" cx=\"2292.38\" cy=\"622.562\" r=\"14.4\" fill=\"#c271d2\" fill-rule=\"evenodd\" fill-opacity=\"1\" stroke=\"#000000\" stroke-opacity=\"1\" stroke-width=\"3.2\"/>\n",
       "<polyline clip-path=\"url(#clip203)\" style=\"stroke:#0000ff; stroke-linecap:round; stroke-linejoin:round; stroke-width:20; stroke-opacity:0.3; fill:none\" points=\"279.916,881.094 357.319,868.522 434.721,821.596 512.124,757.421 589.526,692.53 666.929,643.571 744.331,617.806 821.734,610.607 899.136,613.908 976.539,620.798 1053.94,626.311 1131.34,626.938 1208.75,624.202 1286.15,622.26 1363.55,622.08 1440.95,622.58 1518.36,622.752 1595.76,622.573 1673.16,622.551 1750.56,622.577 1827.97,622.561 1905.37,622.558 1982.77,622.56 2060.17,622.562 2137.58,622.564 2214.98,622.565 2292.38,622.566 \"/>\n",
       "<path clip-path=\"url(#clip203)\" d=\"M279.916 865.094 L263.916 881.094 L279.916 897.094 L295.916 881.094 L279.916 865.094 Z\" fill=\"#ac8d18\" fill-rule=\"evenodd\" fill-opacity=\"1\" stroke=\"#000000\" stroke-opacity=\"1\" stroke-width=\"3.2\"/>\n",
       "<path clip-path=\"url(#clip203)\" d=\"M357.319 852.522 L341.319 868.522 L357.319 884.522 L373.319 868.522 L357.319 852.522 Z\" fill=\"#ac8d18\" fill-rule=\"evenodd\" fill-opacity=\"1\" stroke=\"#000000\" stroke-opacity=\"1\" stroke-width=\"3.2\"/>\n",
       "<path clip-path=\"url(#clip203)\" d=\"M434.721 805.596 L418.721 821.596 L434.721 837.596 L450.721 821.596 L434.721 805.596 Z\" fill=\"#ac8d18\" fill-rule=\"evenodd\" fill-opacity=\"1\" stroke=\"#000000\" stroke-opacity=\"1\" stroke-width=\"3.2\"/>\n",
       "<path clip-path=\"url(#clip203)\" d=\"M512.124 741.421 L496.124 757.421 L512.124 773.421 L528.124 757.421 L512.124 741.421 Z\" fill=\"#ac8d18\" fill-rule=\"evenodd\" fill-opacity=\"1\" stroke=\"#000000\" stroke-opacity=\"1\" stroke-width=\"3.2\"/>\n",
       "<path clip-path=\"url(#clip203)\" d=\"M589.526 676.53 L573.526 692.53 L589.526 708.53 L605.526 692.53 L589.526 676.53 Z\" fill=\"#ac8d18\" fill-rule=\"evenodd\" fill-opacity=\"1\" stroke=\"#000000\" stroke-opacity=\"1\" stroke-width=\"3.2\"/>\n",
       "<path clip-path=\"url(#clip203)\" d=\"M666.929 627.571 L650.929 643.571 L666.929 659.571 L682.929 643.571 L666.929 627.571 Z\" fill=\"#ac8d18\" fill-rule=\"evenodd\" fill-opacity=\"1\" stroke=\"#000000\" stroke-opacity=\"1\" stroke-width=\"3.2\"/>\n",
       "<path clip-path=\"url(#clip203)\" d=\"M744.331 601.806 L728.331 617.806 L744.331 633.806 L760.331 617.806 L744.331 601.806 Z\" fill=\"#ac8d18\" fill-rule=\"evenodd\" fill-opacity=\"1\" stroke=\"#000000\" stroke-opacity=\"1\" stroke-width=\"3.2\"/>\n",
       "<path clip-path=\"url(#clip203)\" d=\"M821.734 594.607 L805.734 610.607 L821.734 626.607 L837.734 610.607 L821.734 594.607 Z\" fill=\"#ac8d18\" fill-rule=\"evenodd\" fill-opacity=\"1\" stroke=\"#000000\" stroke-opacity=\"1\" stroke-width=\"3.2\"/>\n",
       "<path clip-path=\"url(#clip203)\" d=\"M899.136 597.908 L883.136 613.908 L899.136 629.908 L915.136 613.908 L899.136 597.908 Z\" fill=\"#ac8d18\" fill-rule=\"evenodd\" fill-opacity=\"1\" stroke=\"#000000\" stroke-opacity=\"1\" stroke-width=\"3.2\"/>\n",
       "<path clip-path=\"url(#clip203)\" d=\"M976.539 604.798 L960.539 620.798 L976.539 636.798 L992.539 620.798 L976.539 604.798 Z\" fill=\"#ac8d18\" fill-rule=\"evenodd\" fill-opacity=\"1\" stroke=\"#000000\" stroke-opacity=\"1\" stroke-width=\"3.2\"/>\n",
       "<path clip-path=\"url(#clip203)\" d=\"M1053.94 610.311 L1037.94 626.311 L1053.94 642.311 L1069.94 626.311 L1053.94 610.311 Z\" fill=\"#ac8d18\" fill-rule=\"evenodd\" fill-opacity=\"1\" stroke=\"#000000\" stroke-opacity=\"1\" stroke-width=\"3.2\"/>\n",
       "<path clip-path=\"url(#clip203)\" d=\"M1131.34 610.938 L1115.34 626.938 L1131.34 642.938 L1147.34 626.938 L1131.34 610.938 Z\" fill=\"#ac8d18\" fill-rule=\"evenodd\" fill-opacity=\"1\" stroke=\"#000000\" stroke-opacity=\"1\" stroke-width=\"3.2\"/>\n",
       "<path clip-path=\"url(#clip203)\" d=\"M1208.75 608.202 L1192.75 624.202 L1208.75 640.202 L1224.75 624.202 L1208.75 608.202 Z\" fill=\"#ac8d18\" fill-rule=\"evenodd\" fill-opacity=\"1\" stroke=\"#000000\" stroke-opacity=\"1\" stroke-width=\"3.2\"/>\n",
       "<path clip-path=\"url(#clip203)\" d=\"M1286.15 606.26 L1270.15 622.26 L1286.15 638.26 L1302.15 622.26 L1286.15 606.26 Z\" fill=\"#ac8d18\" fill-rule=\"evenodd\" fill-opacity=\"1\" stroke=\"#000000\" stroke-opacity=\"1\" stroke-width=\"3.2\"/>\n",
       "<path clip-path=\"url(#clip203)\" d=\"M1363.55 606.08 L1347.55 622.08 L1363.55 638.08 L1379.55 622.08 L1363.55 606.08 Z\" fill=\"#ac8d18\" fill-rule=\"evenodd\" fill-opacity=\"1\" stroke=\"#000000\" stroke-opacity=\"1\" stroke-width=\"3.2\"/>\n",
       "<path clip-path=\"url(#clip203)\" d=\"M1440.95 606.58 L1424.95 622.58 L1440.95 638.58 L1456.95 622.58 L1440.95 606.58 Z\" fill=\"#ac8d18\" fill-rule=\"evenodd\" fill-opacity=\"1\" stroke=\"#000000\" stroke-opacity=\"1\" stroke-width=\"3.2\"/>\n",
       "<path clip-path=\"url(#clip203)\" d=\"M1518.36 606.752 L1502.36 622.752 L1518.36 638.752 L1534.36 622.752 L1518.36 606.752 Z\" fill=\"#ac8d18\" fill-rule=\"evenodd\" fill-opacity=\"1\" stroke=\"#000000\" stroke-opacity=\"1\" stroke-width=\"3.2\"/>\n",
       "<path clip-path=\"url(#clip203)\" d=\"M1595.76 606.573 L1579.76 622.573 L1595.76 638.573 L1611.76 622.573 L1595.76 606.573 Z\" fill=\"#ac8d18\" fill-rule=\"evenodd\" fill-opacity=\"1\" stroke=\"#000000\" stroke-opacity=\"1\" stroke-width=\"3.2\"/>\n",
       "<path clip-path=\"url(#clip203)\" d=\"M1673.16 606.551 L1657.16 622.551 L1673.16 638.551 L1689.16 622.551 L1673.16 606.551 Z\" fill=\"#ac8d18\" fill-rule=\"evenodd\" fill-opacity=\"1\" stroke=\"#000000\" stroke-opacity=\"1\" stroke-width=\"3.2\"/>\n",
       "<path clip-path=\"url(#clip203)\" d=\"M1750.56 606.577 L1734.56 622.577 L1750.56 638.577 L1766.56 622.577 L1750.56 606.577 Z\" fill=\"#ac8d18\" fill-rule=\"evenodd\" fill-opacity=\"1\" stroke=\"#000000\" stroke-opacity=\"1\" stroke-width=\"3.2\"/>\n",
       "<path clip-path=\"url(#clip203)\" d=\"M1827.97 606.561 L1811.97 622.561 L1827.97 638.561 L1843.97 622.561 L1827.97 606.561 Z\" fill=\"#ac8d18\" fill-rule=\"evenodd\" fill-opacity=\"1\" stroke=\"#000000\" stroke-opacity=\"1\" stroke-width=\"3.2\"/>\n",
       "<path clip-path=\"url(#clip203)\" d=\"M1905.37 606.558 L1889.37 622.558 L1905.37 638.558 L1921.37 622.558 L1905.37 606.558 Z\" fill=\"#ac8d18\" fill-rule=\"evenodd\" fill-opacity=\"1\" stroke=\"#000000\" stroke-opacity=\"1\" stroke-width=\"3.2\"/>\n",
       "<path clip-path=\"url(#clip203)\" d=\"M1982.77 606.56 L1966.77 622.56 L1982.77 638.56 L1998.77 622.56 L1982.77 606.56 Z\" fill=\"#ac8d18\" fill-rule=\"evenodd\" fill-opacity=\"1\" stroke=\"#000000\" stroke-opacity=\"1\" stroke-width=\"3.2\"/>\n",
       "<path clip-path=\"url(#clip203)\" d=\"M2060.17 606.562 L2044.17 622.562 L2060.17 638.562 L2076.17 622.562 L2060.17 606.562 Z\" fill=\"#ac8d18\" fill-rule=\"evenodd\" fill-opacity=\"1\" stroke=\"#000000\" stroke-opacity=\"1\" stroke-width=\"3.2\"/>\n",
       "<path clip-path=\"url(#clip203)\" d=\"M2137.58 606.564 L2121.58 622.564 L2137.58 638.564 L2153.58 622.564 L2137.58 606.564 Z\" fill=\"#ac8d18\" fill-rule=\"evenodd\" fill-opacity=\"1\" stroke=\"#000000\" stroke-opacity=\"1\" stroke-width=\"3.2\"/>\n",
       "<path clip-path=\"url(#clip203)\" d=\"M2214.98 606.565 L2198.98 622.565 L2214.98 638.565 L2230.98 622.565 L2214.98 606.565 Z\" fill=\"#ac8d18\" fill-rule=\"evenodd\" fill-opacity=\"1\" stroke=\"#000000\" stroke-opacity=\"1\" stroke-width=\"3.2\"/>\n",
       "<path clip-path=\"url(#clip203)\" d=\"M2292.38 606.566 L2276.38 622.566 L2292.38 638.566 L2308.38 622.566 L2292.38 606.566 Z\" fill=\"#ac8d18\" fill-rule=\"evenodd\" fill-opacity=\"1\" stroke=\"#000000\" stroke-opacity=\"1\" stroke-width=\"3.2\"/>\n",
       "<path clip-path=\"url(#clip200)\" d=\"M219.542 1423.18 L2352.76 1423.18 L2352.76 1113.91 L219.542 1113.91  Z\" fill=\"#ffffff\" fill-rule=\"evenodd\" fill-opacity=\"1\"/>\n",
       "<defs>\n",
       "  <clipPath id=\"clip204\">\n",
       "    <rect x=\"219\" y=\"1113\" width=\"2134\" height=\"310\"/>\n",
       "  </clipPath>\n",
       "</defs>\n",
       "<polyline clip-path=\"url(#clip204)\" style=\"stroke:#000000; stroke-linecap:round; stroke-linejoin:round; stroke-width:8; stroke-opacity:0.1; fill:none\" points=\"589.526,1423.18 589.526,1113.91 \"/>\n",
       "<polyline clip-path=\"url(#clip204)\" style=\"stroke:#000000; stroke-linecap:round; stroke-linejoin:round; stroke-width:8; stroke-opacity:0.1; fill:none\" points=\"976.539,1423.18 976.539,1113.91 \"/>\n",
       "<polyline clip-path=\"url(#clip204)\" style=\"stroke:#000000; stroke-linecap:round; stroke-linejoin:round; stroke-width:8; stroke-opacity:0.1; fill:none\" points=\"1363.55,1423.18 1363.55,1113.91 \"/>\n",
       "<polyline clip-path=\"url(#clip204)\" style=\"stroke:#000000; stroke-linecap:round; stroke-linejoin:round; stroke-width:8; stroke-opacity:0.1; fill:none\" points=\"1750.56,1423.18 1750.56,1113.91 \"/>\n",
       "<polyline clip-path=\"url(#clip204)\" style=\"stroke:#000000; stroke-linecap:round; stroke-linejoin:round; stroke-width:8; stroke-opacity:0.1; fill:none\" points=\"2137.58,1423.18 2137.58,1113.91 \"/>\n",
       "<polyline clip-path=\"url(#clip200)\" style=\"stroke:#000000; stroke-linecap:round; stroke-linejoin:round; stroke-width:4; stroke-opacity:1; fill:none\" points=\"219.542,1423.18 2352.76,1423.18 \"/>\n",
       "<polyline clip-path=\"url(#clip200)\" style=\"stroke:#000000; stroke-linecap:round; stroke-linejoin:round; stroke-width:4; stroke-opacity:1; fill:none\" points=\"589.526,1423.18 589.526,1404.28 \"/>\n",
       "<polyline clip-path=\"url(#clip200)\" style=\"stroke:#000000; stroke-linecap:round; stroke-linejoin:round; stroke-width:4; stroke-opacity:1; fill:none\" points=\"976.539,1423.18 976.539,1404.28 \"/>\n",
       "<polyline clip-path=\"url(#clip200)\" style=\"stroke:#000000; stroke-linecap:round; stroke-linejoin:round; stroke-width:4; stroke-opacity:1; fill:none\" points=\"1363.55,1423.18 1363.55,1404.28 \"/>\n",
       "<polyline clip-path=\"url(#clip200)\" style=\"stroke:#000000; stroke-linecap:round; stroke-linejoin:round; stroke-width:4; stroke-opacity:1; fill:none\" points=\"1750.56,1423.18 1750.56,1404.28 \"/>\n",
       "<polyline clip-path=\"url(#clip200)\" style=\"stroke:#000000; stroke-linecap:round; stroke-linejoin:round; stroke-width:4; stroke-opacity:1; fill:none\" points=\"2137.58,1423.18 2137.58,1404.28 \"/>\n",
       "<path clip-path=\"url(#clip200)\" d=\"M579.804 1451.02 L598.16 1451.02 L598.16 1454.96 L584.086 1454.96 L584.086 1463.43 Q585.105 1463.08 586.124 1462.92 Q587.142 1462.73 588.161 1462.73 Q593.948 1462.73 597.327 1465.9 Q600.707 1469.08 600.707 1474.49 Q600.707 1480.07 597.235 1483.17 Q593.762 1486.25 587.443 1486.25 Q585.267 1486.25 582.999 1485.88 Q580.753 1485.51 578.346 1484.77 L578.346 1480.07 Q580.429 1481.2 582.651 1481.76 Q584.874 1482.32 587.35 1482.32 Q591.355 1482.32 593.693 1480.21 Q596.031 1478.1 596.031 1474.49 Q596.031 1470.88 593.693 1468.77 Q591.355 1466.67 587.35 1466.67 Q585.475 1466.67 583.6 1467.08 Q581.749 1467.5 579.804 1468.38 L579.804 1451.02 Z\" fill=\"#000000\" fill-rule=\"evenodd\" fill-opacity=\"1\" /><path clip-path=\"url(#clip200)\" d=\"M951.227 1481.64 L958.865 1481.64 L958.865 1455.28 L950.555 1456.95 L950.555 1452.69 L958.819 1451.02 L963.495 1451.02 L963.495 1481.64 L971.134 1481.64 L971.134 1485.58 L951.227 1485.58 L951.227 1481.64 Z\" fill=\"#000000\" fill-rule=\"evenodd\" fill-opacity=\"1\" /><path clip-path=\"url(#clip200)\" d=\"M990.578 1454.1 Q986.967 1454.1 985.138 1457.66 Q983.333 1461.2 983.333 1468.33 Q983.333 1475.44 985.138 1479.01 Q986.967 1482.55 990.578 1482.55 Q994.212 1482.55 996.018 1479.01 Q997.847 1475.44 997.847 1468.33 Q997.847 1461.2 996.018 1457.66 Q994.212 1454.1 990.578 1454.1 M990.578 1450.39 Q996.388 1450.39 999.444 1455 Q1002.52 1459.58 1002.52 1468.33 Q1002.52 1477.06 999.444 1481.67 Q996.388 1486.25 990.578 1486.25 Q984.768 1486.25 981.689 1481.67 Q978.634 1477.06 978.634 1468.33 Q978.634 1459.58 981.689 1455 Q984.768 1450.39 990.578 1450.39 Z\" fill=\"#000000\" fill-rule=\"evenodd\" fill-opacity=\"1\" /><path clip-path=\"url(#clip200)\" d=\"M1338.74 1481.64 L1346.38 1481.64 L1346.38 1455.28 L1338.07 1456.95 L1338.07 1452.69 L1346.33 1451.02 L1351.01 1451.02 L1351.01 1481.64 L1358.64 1481.64 L1358.64 1485.58 L1338.74 1485.58 L1338.74 1481.64 Z\" fill=\"#000000\" fill-rule=\"evenodd\" fill-opacity=\"1\" /><path clip-path=\"url(#clip200)\" d=\"M1368.13 1451.02 L1386.49 1451.02 L1386.49 1454.96 L1372.42 1454.96 L1372.42 1463.43 Q1373.44 1463.08 1374.45 1462.92 Q1375.47 1462.73 1376.49 1462.73 Q1382.28 1462.73 1385.66 1465.9 Q1389.04 1469.08 1389.04 1474.49 Q1389.04 1480.07 1385.57 1483.17 Q1382.09 1486.25 1375.77 1486.25 Q1373.6 1486.25 1371.33 1485.88 Q1369.08 1485.51 1366.68 1484.77 L1366.68 1480.07 Q1368.76 1481.2 1370.98 1481.76 Q1373.2 1482.32 1375.68 1482.32 Q1379.69 1482.32 1382.02 1480.21 Q1384.36 1478.1 1384.36 1474.49 Q1384.36 1470.88 1382.02 1468.77 Q1379.69 1466.67 1375.68 1466.67 Q1373.81 1466.67 1371.93 1467.08 Q1370.08 1467.5 1368.13 1468.38 L1368.13 1451.02 Z\" fill=\"#000000\" fill-rule=\"evenodd\" fill-opacity=\"1\" /><path clip-path=\"url(#clip200)\" d=\"M1729.34 1481.64 L1745.66 1481.64 L1745.66 1485.58 L1723.71 1485.58 L1723.71 1481.64 Q1726.37 1478.89 1730.96 1474.26 Q1735.56 1469.61 1736.74 1468.27 Q1738.99 1465.74 1739.87 1464.01 Q1740.77 1462.25 1740.77 1460.56 Q1740.77 1457.8 1738.83 1456.07 Q1736.91 1454.33 1733.81 1454.33 Q1731.61 1454.33 1729.15 1455.09 Q1726.72 1455.86 1723.94 1457.41 L1723.94 1452.69 Q1726.77 1451.55 1729.22 1450.97 Q1731.68 1450.39 1733.71 1450.39 Q1739.08 1450.39 1742.28 1453.08 Q1745.47 1455.77 1745.47 1460.26 Q1745.47 1462.39 1744.66 1464.31 Q1743.87 1466.2 1741.77 1468.8 Q1741.19 1469.47 1738.09 1472.69 Q1734.99 1475.88 1729.34 1481.64 Z\" fill=\"#000000\" fill-rule=\"evenodd\" fill-opacity=\"1\" /><path clip-path=\"url(#clip200)\" d=\"M1765.47 1454.1 Q1761.86 1454.1 1760.03 1457.66 Q1758.23 1461.2 1758.23 1468.33 Q1758.23 1475.44 1760.03 1479.01 Q1761.86 1482.55 1765.47 1482.55 Q1769.11 1482.55 1770.91 1479.01 Q1772.74 1475.44 1772.74 1468.33 Q1772.74 1461.2 1770.91 1457.66 Q1769.11 1454.1 1765.47 1454.1 M1765.47 1450.39 Q1771.28 1450.39 1774.34 1455 Q1777.42 1459.58 1777.42 1468.33 Q1777.42 1477.06 1774.34 1481.67 Q1771.28 1486.25 1765.47 1486.25 Q1759.66 1486.25 1756.58 1481.67 Q1753.53 1477.06 1753.53 1468.33 Q1753.53 1459.58 1756.58 1455 Q1759.66 1450.39 1765.47 1450.39 Z\" fill=\"#000000\" fill-rule=\"evenodd\" fill-opacity=\"1\" /><path clip-path=\"url(#clip200)\" d=\"M2116.85 1481.64 L2133.17 1481.64 L2133.17 1485.58 L2111.22 1485.58 L2111.22 1481.64 Q2113.88 1478.89 2118.47 1474.26 Q2123.07 1469.61 2124.26 1468.27 Q2126.5 1465.74 2127.38 1464.01 Q2128.28 1462.25 2128.28 1460.56 Q2128.28 1457.8 2126.34 1456.07 Q2124.42 1454.33 2121.32 1454.33 Q2119.12 1454.33 2116.66 1455.09 Q2114.23 1455.86 2111.45 1457.41 L2111.45 1452.69 Q2114.28 1451.55 2116.73 1450.97 Q2119.19 1450.39 2121.22 1450.39 Q2126.59 1450.39 2129.79 1453.08 Q2132.98 1455.77 2132.98 1460.26 Q2132.98 1462.39 2132.17 1464.31 Q2131.38 1466.2 2129.28 1468.8 Q2128.7 1469.47 2125.6 1472.69 Q2122.5 1475.88 2116.85 1481.64 Z\" fill=\"#000000\" fill-rule=\"evenodd\" fill-opacity=\"1\" /><path clip-path=\"url(#clip200)\" d=\"M2143.03 1451.02 L2161.38 1451.02 L2161.38 1454.96 L2147.31 1454.96 L2147.31 1463.43 Q2148.33 1463.08 2149.35 1462.92 Q2150.37 1462.73 2151.38 1462.73 Q2157.17 1462.73 2160.55 1465.9 Q2163.93 1469.08 2163.93 1474.49 Q2163.93 1480.07 2160.46 1483.17 Q2156.99 1486.25 2150.67 1486.25 Q2148.49 1486.25 2146.22 1485.88 Q2143.98 1485.51 2141.57 1484.77 L2141.57 1480.07 Q2143.65 1481.2 2145.88 1481.76 Q2148.1 1482.32 2150.57 1482.32 Q2154.58 1482.32 2156.92 1480.21 Q2159.25 1478.1 2159.25 1474.49 Q2159.25 1470.88 2156.92 1468.77 Q2154.58 1466.67 2150.57 1466.67 Q2148.7 1466.67 2146.82 1467.08 Q2144.97 1467.5 2143.03 1468.38 L2143.03 1451.02 Z\" fill=\"#000000\" fill-rule=\"evenodd\" fill-opacity=\"1\" /><path clip-path=\"url(#clip200)\" d=\"M1180.29 1522.27 L1180.29 1532.4 L1192.35 1532.4 L1192.35 1536.95 L1180.29 1536.95 L1180.29 1556.3 Q1180.29 1560.66 1181.47 1561.9 Q1182.67 1563.14 1186.33 1563.14 L1192.35 1563.14 L1192.35 1568.04 L1186.33 1568.04 Q1179.56 1568.04 1176.98 1565.53 Q1174.4 1562.98 1174.4 1556.3 L1174.4 1536.95 L1170.1 1536.95 L1170.1 1532.4 L1174.4 1532.4 L1174.4 1522.27 L1180.29 1522.27 Z\" fill=\"#000000\" fill-rule=\"evenodd\" fill-opacity=\"1\" /><path clip-path=\"url(#clip200)\" d=\"M1200.05 1532.4 L1205.91 1532.4 L1205.91 1568.04 L1200.05 1568.04 L1200.05 1532.4 M1200.05 1518.52 L1205.91 1518.52 L1205.91 1525.93 L1200.05 1525.93 L1200.05 1518.52 Z\" fill=\"#000000\" fill-rule=\"evenodd\" fill-opacity=\"1\" /><path clip-path=\"url(#clip200)\" d=\"M1245.92 1539.24 Q1248.11 1535.29 1251.17 1533.41 Q1254.23 1531.54 1258.36 1531.54 Q1263.93 1531.54 1266.96 1535.45 Q1269.98 1539.33 1269.98 1546.53 L1269.98 1568.04 L1264.09 1568.04 L1264.09 1546.72 Q1264.09 1541.59 1262.28 1539.11 Q1260.46 1536.63 1256.74 1536.63 Q1252.19 1536.63 1249.55 1539.65 Q1246.9 1542.68 1246.9 1547.9 L1246.9 1568.04 L1241.02 1568.04 L1241.02 1546.72 Q1241.02 1541.56 1239.2 1539.11 Q1237.39 1536.63 1233.6 1536.63 Q1229.11 1536.63 1226.47 1539.68 Q1223.83 1542.71 1223.83 1547.9 L1223.83 1568.04 L1217.94 1568.04 L1217.94 1532.4 L1223.83 1532.4 L1223.83 1537.93 Q1225.83 1534.66 1228.63 1533.1 Q1231.44 1531.54 1235.29 1531.54 Q1239.17 1531.54 1241.88 1533.51 Q1244.61 1535.48 1245.92 1539.24 Z\" fill=\"#000000\" fill-rule=\"evenodd\" fill-opacity=\"1\" /><path clip-path=\"url(#clip200)\" d=\"M1312.15 1548.76 L1312.15 1551.62 L1285.23 1551.62 Q1285.61 1557.67 1288.85 1560.85 Q1292.13 1564 1297.96 1564 Q1301.33 1564 1304.48 1563.17 Q1307.67 1562.35 1310.78 1560.69 L1310.78 1566.23 Q1307.63 1567.57 1304.32 1568.27 Q1301.01 1568.97 1297.61 1568.97 Q1289.08 1568.97 1284.08 1564 Q1279.11 1559.04 1279.11 1550.57 Q1279.11 1541.82 1283.83 1536.69 Q1288.57 1531.54 1296.59 1531.54 Q1303.78 1531.54 1307.95 1536.18 Q1312.15 1540.8 1312.15 1548.76 M1306.3 1547.04 Q1306.23 1542.23 1303.59 1539.37 Q1300.98 1536.5 1296.65 1536.5 Q1291.75 1536.5 1288.79 1539.27 Q1285.86 1542.04 1285.42 1547.07 L1306.3 1547.04 Z\" fill=\"#000000\" fill-rule=\"evenodd\" fill-opacity=\"1\" /><path clip-path=\"url(#clip200)\" d=\"M1321.22 1518.52 L1334.72 1518.52 L1334.72 1523.07 L1327.08 1523.07 L1327.08 1572.09 L1334.72 1572.09 L1334.72 1576.64 L1321.22 1576.64 L1321.22 1518.52 Z\" fill=\"#000000\" fill-rule=\"evenodd\" fill-opacity=\"1\" /><path clip-path=\"url(#clip200)\" d=\"M1376.83 1546.53 L1376.83 1568.04 L1370.97 1568.04 L1370.97 1546.72 Q1370.97 1541.66 1369 1539.14 Q1367.03 1536.63 1363.08 1536.63 Q1358.34 1536.63 1355.6 1539.65 Q1352.86 1542.68 1352.86 1547.9 L1352.86 1568.04 L1346.97 1568.04 L1346.97 1518.52 L1352.86 1518.52 L1352.86 1537.93 Q1354.96 1534.72 1357.8 1533.13 Q1360.66 1531.54 1364.38 1531.54 Q1370.53 1531.54 1373.68 1535.36 Q1376.83 1539.14 1376.83 1546.53 Z\" fill=\"#000000\" fill-rule=\"evenodd\" fill-opacity=\"1\" /><path clip-path=\"url(#clip200)\" d=\"M1402.2 1518.52 L1402.2 1576.64 L1388.7 1576.64 L1388.7 1572.09 L1396.31 1572.09 L1396.31 1523.07 L1388.7 1523.07 L1388.7 1518.52 L1402.2 1518.52 Z\" fill=\"#000000\" fill-rule=\"evenodd\" fill-opacity=\"1\" /><polyline clip-path=\"url(#clip204)\" style=\"stroke:#000000; stroke-linecap:round; stroke-linejoin:round; stroke-width:8; stroke-opacity:0.1; fill:none\" points=\"219.542,1412.1 2352.76,1412.1 \"/>\n",
       "<polyline clip-path=\"url(#clip204)\" style=\"stroke:#000000; stroke-linecap:round; stroke-linejoin:round; stroke-width:8; stroke-opacity:0.1; fill:none\" points=\"219.542,1347.78 2352.76,1347.78 \"/>\n",
       "<polyline clip-path=\"url(#clip204)\" style=\"stroke:#000000; stroke-linecap:round; stroke-linejoin:round; stroke-width:8; stroke-opacity:0.1; fill:none\" points=\"219.542,1283.46 2352.76,1283.46 \"/>\n",
       "<polyline clip-path=\"url(#clip204)\" style=\"stroke:#000000; stroke-linecap:round; stroke-linejoin:round; stroke-width:8; stroke-opacity:0.1; fill:none\" points=\"219.542,1219.14 2352.76,1219.14 \"/>\n",
       "<polyline clip-path=\"url(#clip204)\" style=\"stroke:#000000; stroke-linecap:round; stroke-linejoin:round; stroke-width:8; stroke-opacity:0.1; fill:none\" points=\"219.542,1154.82 2352.76,1154.82 \"/>\n",
       "<polyline clip-path=\"url(#clip200)\" style=\"stroke:#000000; stroke-linecap:round; stroke-linejoin:round; stroke-width:4; stroke-opacity:1; fill:none\" points=\"219.542,1423.18 219.542,1113.91 \"/>\n",
       "<polyline clip-path=\"url(#clip200)\" style=\"stroke:#000000; stroke-linecap:round; stroke-linejoin:round; stroke-width:4; stroke-opacity:1; fill:none\" points=\"219.542,1412.1 238.44,1412.1 \"/>\n",
       "<polyline clip-path=\"url(#clip200)\" style=\"stroke:#000000; stroke-linecap:round; stroke-linejoin:round; stroke-width:4; stroke-opacity:1; fill:none\" points=\"219.542,1347.78 238.44,1347.78 \"/>\n",
       "<polyline clip-path=\"url(#clip200)\" style=\"stroke:#000000; stroke-linecap:round; stroke-linejoin:round; stroke-width:4; stroke-opacity:1; fill:none\" points=\"219.542,1283.46 238.44,1283.46 \"/>\n",
       "<polyline clip-path=\"url(#clip200)\" style=\"stroke:#000000; stroke-linecap:round; stroke-linejoin:round; stroke-width:4; stroke-opacity:1; fill:none\" points=\"219.542,1219.14 238.44,1219.14 \"/>\n",
       "<polyline clip-path=\"url(#clip200)\" style=\"stroke:#000000; stroke-linecap:round; stroke-linejoin:round; stroke-width:4; stroke-opacity:1; fill:none\" points=\"219.542,1154.82 238.44,1154.82 \"/>\n",
       "<path clip-path=\"url(#clip200)\" d=\"M126.205 1397.9 Q122.593 1397.9 120.765 1401.47 Q118.959 1405.01 118.959 1412.14 Q118.959 1419.24 120.765 1422.81 Q122.593 1426.35 126.205 1426.35 Q129.839 1426.35 131.644 1422.81 Q133.473 1419.24 133.473 1412.14 Q133.473 1405.01 131.644 1401.47 Q129.839 1397.9 126.205 1397.9 M126.205 1394.2 Q132.015 1394.2 135.07 1398.8 Q138.149 1403.39 138.149 1412.14 Q138.149 1420.86 135.07 1425.47 Q132.015 1430.05 126.205 1430.05 Q120.394 1430.05 117.316 1425.47 Q114.26 1420.86 114.26 1412.14 Q114.26 1403.39 117.316 1398.8 Q120.394 1394.2 126.205 1394.2 Z\" fill=\"#000000\" fill-rule=\"evenodd\" fill-opacity=\"1\" /><path clip-path=\"url(#clip200)\" d=\"M146.366 1423.5 L151.251 1423.5 L151.251 1429.38 L146.366 1429.38 L146.366 1423.5 Z\" fill=\"#000000\" fill-rule=\"evenodd\" fill-opacity=\"1\" /><path clip-path=\"url(#clip200)\" d=\"M172.014 1410.24 Q168.866 1410.24 167.015 1412.39 Q165.186 1414.54 165.186 1418.29 Q165.186 1422.02 167.015 1424.2 Q168.866 1426.35 172.014 1426.35 Q175.163 1426.35 176.991 1424.2 Q178.843 1422.02 178.843 1418.29 Q178.843 1414.54 176.991 1412.39 Q175.163 1410.24 172.014 1410.24 M181.297 1395.59 L181.297 1399.85 Q179.538 1399.01 177.732 1398.57 Q175.95 1398.13 174.19 1398.13 Q169.561 1398.13 167.107 1401.26 Q164.677 1404.38 164.329 1410.7 Q165.695 1408.69 167.755 1407.62 Q169.815 1406.54 172.292 1406.54 Q177.501 1406.54 180.51 1409.71 Q183.542 1412.85 183.542 1418.29 Q183.542 1423.62 180.394 1426.84 Q177.246 1430.05 172.014 1430.05 Q166.019 1430.05 162.848 1425.47 Q159.677 1420.86 159.677 1412.14 Q159.677 1403.94 163.565 1399.08 Q167.454 1394.2 174.005 1394.2 Q175.764 1394.2 177.547 1394.54 Q179.352 1394.89 181.297 1395.59 Z\" fill=\"#000000\" fill-rule=\"evenodd\" fill-opacity=\"1\" /><path clip-path=\"url(#clip200)\" d=\"M127.269 1333.58 Q123.658 1333.58 121.83 1337.15 Q120.024 1340.69 120.024 1347.82 Q120.024 1354.92 121.83 1358.49 Q123.658 1362.03 127.269 1362.03 Q130.904 1362.03 132.709 1358.49 Q134.538 1354.92 134.538 1347.82 Q134.538 1340.69 132.709 1337.15 Q130.904 1333.58 127.269 1333.58 M127.269 1329.88 Q133.08 1329.88 136.135 1334.48 Q139.214 1339.07 139.214 1347.82 Q139.214 1356.54 136.135 1361.15 Q133.08 1365.73 127.269 1365.73 Q121.459 1365.73 118.381 1361.15 Q115.325 1356.54 115.325 1347.82 Q115.325 1339.07 118.381 1334.48 Q121.459 1329.88 127.269 1329.88 Z\" fill=\"#000000\" fill-rule=\"evenodd\" fill-opacity=\"1\" /><path clip-path=\"url(#clip200)\" d=\"M147.431 1359.18 L152.316 1359.18 L152.316 1365.06 L147.431 1365.06 L147.431 1359.18 Z\" fill=\"#000000\" fill-rule=\"evenodd\" fill-opacity=\"1\" /><path clip-path=\"url(#clip200)\" d=\"M161.32 1330.5 L183.542 1330.5 L183.542 1332.49 L170.996 1365.06 L166.112 1365.06 L177.917 1334.44 L161.32 1334.44 L161.32 1330.5 Z\" fill=\"#000000\" fill-rule=\"evenodd\" fill-opacity=\"1\" /><path clip-path=\"url(#clip200)\" d=\"M126.459 1269.26 Q122.848 1269.26 121.019 1272.83 Q119.214 1276.37 119.214 1283.5 Q119.214 1290.6 121.019 1294.17 Q122.848 1297.71 126.459 1297.71 Q130.093 1297.71 131.899 1294.17 Q133.728 1290.6 133.728 1283.5 Q133.728 1276.37 131.899 1272.83 Q130.093 1269.26 126.459 1269.26 M126.459 1265.56 Q132.269 1265.56 135.325 1270.16 Q138.404 1274.75 138.404 1283.5 Q138.404 1292.22 135.325 1296.83 Q132.269 1301.41 126.459 1301.41 Q120.649 1301.41 117.57 1296.83 Q114.515 1292.22 114.515 1283.5 Q114.515 1274.75 117.57 1270.16 Q120.649 1265.56 126.459 1265.56 Z\" fill=\"#000000\" fill-rule=\"evenodd\" fill-opacity=\"1\" /><path clip-path=\"url(#clip200)\" d=\"M146.621 1294.86 L151.505 1294.86 L151.505 1300.74 L146.621 1300.74 L146.621 1294.86 Z\" fill=\"#000000\" fill-rule=\"evenodd\" fill-opacity=\"1\" /><path clip-path=\"url(#clip200)\" d=\"M171.69 1284.33 Q168.357 1284.33 166.436 1286.11 Q164.538 1287.9 164.538 1291.02 Q164.538 1294.15 166.436 1295.93 Q168.357 1297.71 171.69 1297.71 Q175.024 1297.71 176.945 1295.93 Q178.866 1294.12 178.866 1291.02 Q178.866 1287.9 176.945 1286.11 Q175.047 1284.33 171.69 1284.33 M167.015 1282.34 Q164.005 1281.6 162.315 1279.54 Q160.649 1277.48 160.649 1274.52 Q160.649 1270.37 163.589 1267.97 Q166.552 1265.56 171.69 1265.56 Q176.852 1265.56 179.792 1267.97 Q182.732 1270.37 182.732 1274.52 Q182.732 1277.48 181.042 1279.54 Q179.376 1281.6 176.389 1282.34 Q179.769 1283.13 181.644 1285.42 Q183.542 1287.71 183.542 1291.02 Q183.542 1296.04 180.464 1298.73 Q177.408 1301.41 171.69 1301.41 Q165.973 1301.41 162.894 1298.73 Q159.839 1296.04 159.839 1291.02 Q159.839 1287.71 161.737 1285.42 Q163.635 1283.13 167.015 1282.34 M165.302 1274.96 Q165.302 1277.64 166.968 1279.15 Q168.658 1280.65 171.69 1280.65 Q174.7 1280.65 176.389 1279.15 Q178.102 1277.64 178.102 1274.96 Q178.102 1272.27 176.389 1270.77 Q174.7 1269.26 171.69 1269.26 Q168.658 1269.26 166.968 1270.77 Q165.302 1272.27 165.302 1274.96 Z\" fill=\"#000000\" fill-rule=\"evenodd\" fill-opacity=\"1\" /><path clip-path=\"url(#clip200)\" d=\"M126.552 1204.94 Q122.941 1204.94 121.112 1208.51 Q119.306 1212.05 119.306 1219.18 Q119.306 1226.28 121.112 1229.85 Q122.941 1233.39 126.552 1233.39 Q130.186 1233.39 131.992 1229.85 Q133.82 1226.28 133.82 1219.18 Q133.82 1212.05 131.992 1208.51 Q130.186 1204.94 126.552 1204.94 M126.552 1201.24 Q132.362 1201.24 135.417 1205.84 Q138.496 1210.43 138.496 1219.18 Q138.496 1227.9 135.417 1232.51 Q132.362 1237.09 126.552 1237.09 Q120.742 1237.09 117.663 1232.51 Q114.607 1227.9 114.607 1219.18 Q114.607 1210.43 117.663 1205.84 Q120.742 1201.24 126.552 1201.24 Z\" fill=\"#000000\" fill-rule=\"evenodd\" fill-opacity=\"1\" /><path clip-path=\"url(#clip200)\" d=\"M146.714 1230.54 L151.598 1230.54 L151.598 1236.42 L146.714 1236.42 L146.714 1230.54 Z\" fill=\"#000000\" fill-rule=\"evenodd\" fill-opacity=\"1\" /><path clip-path=\"url(#clip200)\" d=\"M161.922 1235.71 L161.922 1231.45 Q163.681 1232.28 165.487 1232.72 Q167.292 1233.16 169.028 1233.16 Q173.658 1233.16 176.089 1230.06 Q178.542 1226.93 178.889 1220.59 Q177.547 1222.58 175.487 1223.65 Q173.427 1224.71 170.927 1224.71 Q165.741 1224.71 162.709 1221.59 Q159.7 1218.44 159.7 1213 Q159.7 1207.67 162.848 1204.46 Q165.996 1201.24 171.227 1201.24 Q177.223 1201.24 180.371 1205.84 Q183.542 1210.43 183.542 1219.18 Q183.542 1227.35 179.653 1232.23 Q175.788 1237.09 169.237 1237.09 Q167.477 1237.09 165.672 1236.75 Q163.866 1236.4 161.922 1235.71 M171.227 1221.05 Q174.376 1221.05 176.204 1218.9 Q178.056 1216.75 178.056 1213 Q178.056 1209.27 176.204 1207.12 Q174.376 1204.94 171.227 1204.94 Q168.079 1204.94 166.227 1207.12 Q164.399 1209.27 164.399 1213 Q164.399 1216.75 166.227 1218.9 Q168.079 1221.05 171.227 1221.05 Z\" fill=\"#000000\" fill-rule=\"evenodd\" fill-opacity=\"1\" /><path clip-path=\"url(#clip200)\" d=\"M117.177 1168.17 L124.816 1168.17 L124.816 1141.8 L116.506 1143.47 L116.506 1139.21 L124.769 1137.54 L129.445 1137.54 L129.445 1168.17 L137.084 1168.17 L137.084 1172.1 L117.177 1172.1 L117.177 1168.17 Z\" fill=\"#000000\" fill-rule=\"evenodd\" fill-opacity=\"1\" /><path clip-path=\"url(#clip200)\" d=\"M146.529 1166.22 L151.413 1166.22 L151.413 1172.1 L146.529 1172.1 L146.529 1166.22 Z\" fill=\"#000000\" fill-rule=\"evenodd\" fill-opacity=\"1\" /><path clip-path=\"url(#clip200)\" d=\"M171.598 1140.62 Q167.987 1140.62 166.158 1144.19 Q164.352 1147.73 164.352 1154.86 Q164.352 1161.96 166.158 1165.53 Q167.987 1169.07 171.598 1169.07 Q175.232 1169.07 177.038 1165.53 Q178.866 1161.96 178.866 1154.86 Q178.866 1147.73 177.038 1144.19 Q175.232 1140.62 171.598 1140.62 M171.598 1136.92 Q177.408 1136.92 180.464 1141.52 Q183.542 1146.11 183.542 1154.86 Q183.542 1163.59 180.464 1168.19 Q177.408 1172.77 171.598 1172.77 Q165.788 1172.77 162.709 1168.19 Q159.653 1163.59 159.653 1154.86 Q159.653 1146.11 162.709 1141.52 Q165.788 1136.92 171.598 1136.92 Z\" fill=\"#000000\" fill-rule=\"evenodd\" fill-opacity=\"1\" /><path clip-path=\"url(#clip200)\" d=\"M67.3143 1319.23 Q73.68 1321.71 75.6216 1324.07 Q77.5631 1326.43 77.5631 1330.37 L77.5631 1335.05 L72.6615 1335.05 L72.6615 1331.61 Q72.6615 1329.19 71.5157 1327.86 Q70.3699 1326.52 66.1048 1324.9 L63.4312 1323.85 L28.3562 1338.27 L28.3562 1332.06 L56.238 1320.92 L28.3562 1309.78 L28.3562 1303.57 L67.3143 1319.23 Z\" fill=\"#000000\" fill-rule=\"evenodd\" fill-opacity=\"1\" /><path clip-path=\"url(#clip200)\" d=\"M74.8259 1268.4 L79.3773 1268.4 L79.3773 1302.27 L74.8259 1302.27 L74.8259 1268.4 Z\" fill=\"#000000\" fill-rule=\"evenodd\" fill-opacity=\"1\" /><path clip-path=\"url(#clip200)\" d=\"M29.4065 1240.17 L34.9447 1240.17 Q33.6716 1242.65 33.035 1245.33 Q32.3984 1248 32.3984 1250.86 Q32.3984 1255.23 33.7352 1257.42 Q35.072 1259.59 37.7456 1259.59 Q39.7826 1259.59 40.9603 1258.03 Q42.1061 1256.47 43.1565 1251.76 L43.6021 1249.75 Q44.9389 1243.51 47.3897 1240.9 Q49.8086 1238.26 54.1691 1238.26 Q59.1344 1238.26 62.0308 1242.21 Q64.9272 1246.12 64.9272 1253 Q64.9272 1255.86 64.3543 1258.98 Q63.8132 1262.07 62.6992 1265.51 L56.6518 1265.51 Q58.3387 1262.26 59.198 1259.11 Q60.0256 1255.96 60.0256 1252.87 Q60.0256 1248.73 58.6251 1246.5 Q57.1929 1244.28 54.6147 1244.28 Q52.2276 1244.28 50.9545 1245.9 Q49.6813 1247.49 48.5037 1252.93 L48.0262 1254.97 Q46.8804 1260.41 44.5251 1262.83 Q42.138 1265.25 38.0002 1265.25 Q32.9713 1265.25 30.2341 1261.69 Q27.4968 1258.12 27.4968 1251.56 Q27.4968 1248.32 27.9743 1245.45 Q28.4517 1242.59 29.4065 1240.17 Z\" fill=\"#000000\" fill-rule=\"evenodd\" fill-opacity=\"1\" /><path clip-path=\"url(#clip200)\" d=\"M38.3822 1208.63 Q39.3689 1204.01 42.4881 1201.43 Q45.6073 1198.82 50.1906 1198.82 Q57.2247 1198.82 61.0759 1203.66 Q64.9272 1208.5 64.9272 1217.41 Q64.9272 1220.4 64.3224 1223.59 Q63.7495 1226.74 62.5719 1230.11 L56.3653 1230.11 Q57.9249 1227.44 58.7206 1224.26 Q59.5163 1221.07 59.5163 1217.6 Q59.5163 1211.56 57.1292 1208.41 Q54.7421 1205.22 50.1906 1205.22 Q45.9892 1205.22 43.6339 1208.18 Q41.2468 1211.11 41.2468 1216.36 L41.2468 1221.9 L35.9632 1221.9 L35.9632 1216.11 Q35.9632 1211.37 34.0853 1208.85 Q32.1756 1206.34 28.6108 1206.34 Q24.9505 1206.34 23.009 1208.95 Q21.0356 1211.52 21.0356 1216.36 Q21.0356 1219 21.6086 1222.03 Q22.1815 1225.05 23.3909 1228.68 L17.6618 1228.68 Q16.6433 1225.02 16.134 1221.84 Q15.6248 1218.62 15.6248 1215.79 Q15.6248 1208.47 18.9668 1204.2 Q22.277 1199.94 27.9424 1199.94 Q31.8892 1199.94 34.6264 1202.2 Q37.3318 1204.46 38.3822 1208.63 Z\" fill=\"#000000\" fill-rule=\"evenodd\" fill-opacity=\"1\" /><polyline clip-path=\"url(#clip204)\" style=\"stroke:#000000; stroke-linecap:round; stroke-linejoin:round; stroke-width:4; stroke-opacity:1; fill:none\" stroke-dasharray=\"2, 4\" points=\"279.916,1122.66 357.319,1122.66 434.721,1122.66 512.124,1122.66 589.526,1122.66 666.929,1122.66 744.331,1122.66 821.734,1122.66 899.136,1122.66 976.539,1122.66 1053.94,1122.66 1131.34,1122.66 1208.75,1122.66 1286.15,1122.66 1363.55,1122.66 1440.95,1122.66 1518.36,1122.66 1595.76,1122.66 1673.16,1122.66 1750.56,1122.66 1827.97,1122.66 1905.37,1122.66 1982.77,1122.66 2060.17,1122.66 2137.58,1122.66 2214.98,1122.66 2292.38,1122.66 \"/>\n",
       "<polyline clip-path=\"url(#clip204)\" style=\"stroke:#000000; stroke-linecap:round; stroke-linejoin:round; stroke-width:4; stroke-opacity:1; fill:none\" stroke-dasharray=\"2, 4\" points=\"279.916,1154.82 357.319,1154.82 434.721,1154.82 512.124,1154.82 589.526,1154.82 666.929,1154.82 744.331,1154.82 821.734,1154.82 899.136,1154.82 976.539,1154.82 1053.94,1154.82 1131.34,1154.82 1208.75,1154.82 1286.15,1154.82 1363.55,1154.82 1440.95,1154.82 1518.36,1154.82 1595.76,1154.82 1673.16,1154.82 1750.56,1154.82 1827.97,1154.82 1905.37,1154.82 1982.77,1154.82 2060.17,1154.82 2137.58,1154.82 2214.98,1154.82 2292.38,1154.82 \"/>\n",
       "<polyline clip-path=\"url(#clip204)\" style=\"stroke:#ff0000; stroke-linecap:round; stroke-linejoin:round; stroke-width:20; stroke-opacity:0.3; fill:none\" points=\"279.916,1414.43 357.319,1401.26 434.721,1347.85 512.124,1275.9 589.526,1207.88 666.929,1162.83 744.331,1143.86 821.734,1142.48 899.136,1149.37 976.539,1157.36 1053.94,1161.58 1131.34,1158.8 1208.75,1154.98 1286.15,1153.99 1363.55,1154.53 1440.95,1155.11 1518.36,1154.84 1595.76,1154.81 1673.16,1154.84 1750.56,1154.8 1827.97,1154.83 1905.37,1154.83 1982.77,1154.83 2060.17,1154.83 2137.58,1154.82 2214.98,1154.82 2292.38,1154.82 \"/>\n",
       "<line clip-path=\"url(#clip204)\" x1=\"279.916\" y1=\"1414.43\" x2=\"279.916\" y2=\"1398.43\" style=\"stroke:#3da44d; stroke-width:3.2; stroke-opacity:1\"/>\n",
       "<line clip-path=\"url(#clip204)\" x1=\"279.916\" y1=\"1414.43\" x2=\"263.916\" y2=\"1414.43\" style=\"stroke:#3da44d; stroke-width:3.2; stroke-opacity:1\"/>\n",
       "<line clip-path=\"url(#clip204)\" x1=\"279.916\" y1=\"1414.43\" x2=\"279.916\" y2=\"1430.43\" style=\"stroke:#3da44d; stroke-width:3.2; stroke-opacity:1\"/>\n",
       "<line clip-path=\"url(#clip204)\" x1=\"279.916\" y1=\"1414.43\" x2=\"295.916\" y2=\"1414.43\" style=\"stroke:#3da44d; stroke-width:3.2; stroke-opacity:1\"/>\n",
       "<line clip-path=\"url(#clip204)\" x1=\"357.319\" y1=\"1401.26\" x2=\"357.319\" y2=\"1385.26\" style=\"stroke:#3da44d; stroke-width:3.2; stroke-opacity:1\"/>\n",
       "<line clip-path=\"url(#clip204)\" x1=\"357.319\" y1=\"1401.26\" x2=\"341.319\" y2=\"1401.26\" style=\"stroke:#3da44d; stroke-width:3.2; stroke-opacity:1\"/>\n",
       "<line clip-path=\"url(#clip204)\" x1=\"357.319\" y1=\"1401.26\" x2=\"357.319\" y2=\"1417.26\" style=\"stroke:#3da44d; stroke-width:3.2; stroke-opacity:1\"/>\n",
       "<line clip-path=\"url(#clip204)\" x1=\"357.319\" y1=\"1401.26\" x2=\"373.319\" y2=\"1401.26\" style=\"stroke:#3da44d; stroke-width:3.2; stroke-opacity:1\"/>\n",
       "<line clip-path=\"url(#clip204)\" x1=\"434.721\" y1=\"1347.85\" x2=\"434.721\" y2=\"1331.85\" style=\"stroke:#3da44d; stroke-width:3.2; stroke-opacity:1\"/>\n",
       "<line clip-path=\"url(#clip204)\" x1=\"434.721\" y1=\"1347.85\" x2=\"418.721\" y2=\"1347.85\" style=\"stroke:#3da44d; stroke-width:3.2; stroke-opacity:1\"/>\n",
       "<line clip-path=\"url(#clip204)\" x1=\"434.721\" y1=\"1347.85\" x2=\"434.721\" y2=\"1363.85\" style=\"stroke:#3da44d; stroke-width:3.2; stroke-opacity:1\"/>\n",
       "<line clip-path=\"url(#clip204)\" x1=\"434.721\" y1=\"1347.85\" x2=\"450.721\" y2=\"1347.85\" style=\"stroke:#3da44d; stroke-width:3.2; stroke-opacity:1\"/>\n",
       "<line clip-path=\"url(#clip204)\" x1=\"512.124\" y1=\"1275.9\" x2=\"512.124\" y2=\"1259.9\" style=\"stroke:#3da44d; stroke-width:3.2; stroke-opacity:1\"/>\n",
       "<line clip-path=\"url(#clip204)\" x1=\"512.124\" y1=\"1275.9\" x2=\"496.124\" y2=\"1275.9\" style=\"stroke:#3da44d; stroke-width:3.2; stroke-opacity:1\"/>\n",
       "<line clip-path=\"url(#clip204)\" x1=\"512.124\" y1=\"1275.9\" x2=\"512.124\" y2=\"1291.9\" style=\"stroke:#3da44d; stroke-width:3.2; stroke-opacity:1\"/>\n",
       "<line clip-path=\"url(#clip204)\" x1=\"512.124\" y1=\"1275.9\" x2=\"528.124\" y2=\"1275.9\" style=\"stroke:#3da44d; stroke-width:3.2; stroke-opacity:1\"/>\n",
       "<line clip-path=\"url(#clip204)\" x1=\"589.526\" y1=\"1207.88\" x2=\"589.526\" y2=\"1191.88\" style=\"stroke:#3da44d; stroke-width:3.2; stroke-opacity:1\"/>\n",
       "<line clip-path=\"url(#clip204)\" x1=\"589.526\" y1=\"1207.88\" x2=\"573.526\" y2=\"1207.88\" style=\"stroke:#3da44d; stroke-width:3.2; stroke-opacity:1\"/>\n",
       "<line clip-path=\"url(#clip204)\" x1=\"589.526\" y1=\"1207.88\" x2=\"589.526\" y2=\"1223.88\" style=\"stroke:#3da44d; stroke-width:3.2; stroke-opacity:1\"/>\n",
       "<line clip-path=\"url(#clip204)\" x1=\"589.526\" y1=\"1207.88\" x2=\"605.526\" y2=\"1207.88\" style=\"stroke:#3da44d; stroke-width:3.2; stroke-opacity:1\"/>\n",
       "<line clip-path=\"url(#clip204)\" x1=\"666.929\" y1=\"1162.83\" x2=\"666.929\" y2=\"1146.83\" style=\"stroke:#3da44d; stroke-width:3.2; stroke-opacity:1\"/>\n",
       "<line clip-path=\"url(#clip204)\" x1=\"666.929\" y1=\"1162.83\" x2=\"650.929\" y2=\"1162.83\" style=\"stroke:#3da44d; stroke-width:3.2; stroke-opacity:1\"/>\n",
       "<line clip-path=\"url(#clip204)\" x1=\"666.929\" y1=\"1162.83\" x2=\"666.929\" y2=\"1178.83\" style=\"stroke:#3da44d; stroke-width:3.2; stroke-opacity:1\"/>\n",
       "<line clip-path=\"url(#clip204)\" x1=\"666.929\" y1=\"1162.83\" x2=\"682.929\" y2=\"1162.83\" style=\"stroke:#3da44d; stroke-width:3.2; stroke-opacity:1\"/>\n",
       "<line clip-path=\"url(#clip204)\" x1=\"744.331\" y1=\"1143.86\" x2=\"744.331\" y2=\"1127.86\" style=\"stroke:#3da44d; stroke-width:3.2; stroke-opacity:1\"/>\n",
       "<line clip-path=\"url(#clip204)\" x1=\"744.331\" y1=\"1143.86\" x2=\"728.331\" y2=\"1143.86\" style=\"stroke:#3da44d; stroke-width:3.2; stroke-opacity:1\"/>\n",
       "<line clip-path=\"url(#clip204)\" x1=\"744.331\" y1=\"1143.86\" x2=\"744.331\" y2=\"1159.86\" style=\"stroke:#3da44d; stroke-width:3.2; stroke-opacity:1\"/>\n",
       "<line clip-path=\"url(#clip204)\" x1=\"744.331\" y1=\"1143.86\" x2=\"760.331\" y2=\"1143.86\" style=\"stroke:#3da44d; stroke-width:3.2; stroke-opacity:1\"/>\n",
       "<line clip-path=\"url(#clip204)\" x1=\"821.734\" y1=\"1142.48\" x2=\"821.734\" y2=\"1126.48\" style=\"stroke:#3da44d; stroke-width:3.2; stroke-opacity:1\"/>\n",
       "<line clip-path=\"url(#clip204)\" x1=\"821.734\" y1=\"1142.48\" x2=\"805.734\" y2=\"1142.48\" style=\"stroke:#3da44d; stroke-width:3.2; stroke-opacity:1\"/>\n",
       "<line clip-path=\"url(#clip204)\" x1=\"821.734\" y1=\"1142.48\" x2=\"821.734\" y2=\"1158.48\" style=\"stroke:#3da44d; stroke-width:3.2; stroke-opacity:1\"/>\n",
       "<line clip-path=\"url(#clip204)\" x1=\"821.734\" y1=\"1142.48\" x2=\"837.734\" y2=\"1142.48\" style=\"stroke:#3da44d; stroke-width:3.2; stroke-opacity:1\"/>\n",
       "<line clip-path=\"url(#clip204)\" x1=\"899.136\" y1=\"1149.37\" x2=\"899.136\" y2=\"1133.37\" style=\"stroke:#3da44d; stroke-width:3.2; stroke-opacity:1\"/>\n",
       "<line clip-path=\"url(#clip204)\" x1=\"899.136\" y1=\"1149.37\" x2=\"883.136\" y2=\"1149.37\" style=\"stroke:#3da44d; stroke-width:3.2; stroke-opacity:1\"/>\n",
       "<line clip-path=\"url(#clip204)\" x1=\"899.136\" y1=\"1149.37\" x2=\"899.136\" y2=\"1165.37\" style=\"stroke:#3da44d; stroke-width:3.2; stroke-opacity:1\"/>\n",
       "<line clip-path=\"url(#clip204)\" x1=\"899.136\" y1=\"1149.37\" x2=\"915.136\" y2=\"1149.37\" style=\"stroke:#3da44d; stroke-width:3.2; stroke-opacity:1\"/>\n",
       "<line clip-path=\"url(#clip204)\" x1=\"976.539\" y1=\"1157.36\" x2=\"976.539\" y2=\"1141.36\" style=\"stroke:#3da44d; stroke-width:3.2; stroke-opacity:1\"/>\n",
       "<line clip-path=\"url(#clip204)\" x1=\"976.539\" y1=\"1157.36\" x2=\"960.539\" y2=\"1157.36\" style=\"stroke:#3da44d; stroke-width:3.2; stroke-opacity:1\"/>\n",
       "<line clip-path=\"url(#clip204)\" x1=\"976.539\" y1=\"1157.36\" x2=\"976.539\" y2=\"1173.36\" style=\"stroke:#3da44d; stroke-width:3.2; stroke-opacity:1\"/>\n",
       "<line clip-path=\"url(#clip204)\" x1=\"976.539\" y1=\"1157.36\" x2=\"992.539\" y2=\"1157.36\" style=\"stroke:#3da44d; stroke-width:3.2; stroke-opacity:1\"/>\n",
       "<line clip-path=\"url(#clip204)\" x1=\"1053.94\" y1=\"1161.58\" x2=\"1053.94\" y2=\"1145.58\" style=\"stroke:#3da44d; stroke-width:3.2; stroke-opacity:1\"/>\n",
       "<line clip-path=\"url(#clip204)\" x1=\"1053.94\" y1=\"1161.58\" x2=\"1037.94\" y2=\"1161.58\" style=\"stroke:#3da44d; stroke-width:3.2; stroke-opacity:1\"/>\n",
       "<line clip-path=\"url(#clip204)\" x1=\"1053.94\" y1=\"1161.58\" x2=\"1053.94\" y2=\"1177.58\" style=\"stroke:#3da44d; stroke-width:3.2; stroke-opacity:1\"/>\n",
       "<line clip-path=\"url(#clip204)\" x1=\"1053.94\" y1=\"1161.58\" x2=\"1069.94\" y2=\"1161.58\" style=\"stroke:#3da44d; stroke-width:3.2; stroke-opacity:1\"/>\n",
       "<line clip-path=\"url(#clip204)\" x1=\"1131.34\" y1=\"1158.8\" x2=\"1131.34\" y2=\"1142.8\" style=\"stroke:#3da44d; stroke-width:3.2; stroke-opacity:1\"/>\n",
       "<line clip-path=\"url(#clip204)\" x1=\"1131.34\" y1=\"1158.8\" x2=\"1115.34\" y2=\"1158.8\" style=\"stroke:#3da44d; stroke-width:3.2; stroke-opacity:1\"/>\n",
       "<line clip-path=\"url(#clip204)\" x1=\"1131.34\" y1=\"1158.8\" x2=\"1131.34\" y2=\"1174.8\" style=\"stroke:#3da44d; stroke-width:3.2; stroke-opacity:1\"/>\n",
       "<line clip-path=\"url(#clip204)\" x1=\"1131.34\" y1=\"1158.8\" x2=\"1147.34\" y2=\"1158.8\" style=\"stroke:#3da44d; stroke-width:3.2; stroke-opacity:1\"/>\n",
       "<line clip-path=\"url(#clip204)\" x1=\"1208.75\" y1=\"1154.98\" x2=\"1208.75\" y2=\"1138.98\" style=\"stroke:#3da44d; stroke-width:3.2; stroke-opacity:1\"/>\n",
       "<line clip-path=\"url(#clip204)\" x1=\"1208.75\" y1=\"1154.98\" x2=\"1192.75\" y2=\"1154.98\" style=\"stroke:#3da44d; stroke-width:3.2; stroke-opacity:1\"/>\n",
       "<line clip-path=\"url(#clip204)\" x1=\"1208.75\" y1=\"1154.98\" x2=\"1208.75\" y2=\"1170.98\" style=\"stroke:#3da44d; stroke-width:3.2; stroke-opacity:1\"/>\n",
       "<line clip-path=\"url(#clip204)\" x1=\"1208.75\" y1=\"1154.98\" x2=\"1224.75\" y2=\"1154.98\" style=\"stroke:#3da44d; stroke-width:3.2; stroke-opacity:1\"/>\n",
       "<line clip-path=\"url(#clip204)\" x1=\"1286.15\" y1=\"1153.99\" x2=\"1286.15\" y2=\"1137.99\" style=\"stroke:#3da44d; stroke-width:3.2; stroke-opacity:1\"/>\n",
       "<line clip-path=\"url(#clip204)\" x1=\"1286.15\" y1=\"1153.99\" x2=\"1270.15\" y2=\"1153.99\" style=\"stroke:#3da44d; stroke-width:3.2; stroke-opacity:1\"/>\n",
       "<line clip-path=\"url(#clip204)\" x1=\"1286.15\" y1=\"1153.99\" x2=\"1286.15\" y2=\"1169.99\" style=\"stroke:#3da44d; stroke-width:3.2; stroke-opacity:1\"/>\n",
       "<line clip-path=\"url(#clip204)\" x1=\"1286.15\" y1=\"1153.99\" x2=\"1302.15\" y2=\"1153.99\" style=\"stroke:#3da44d; stroke-width:3.2; stroke-opacity:1\"/>\n",
       "<line clip-path=\"url(#clip204)\" x1=\"1363.55\" y1=\"1154.53\" x2=\"1363.55\" y2=\"1138.53\" style=\"stroke:#3da44d; stroke-width:3.2; stroke-opacity:1\"/>\n",
       "<line clip-path=\"url(#clip204)\" x1=\"1363.55\" y1=\"1154.53\" x2=\"1347.55\" y2=\"1154.53\" style=\"stroke:#3da44d; stroke-width:3.2; stroke-opacity:1\"/>\n",
       "<line clip-path=\"url(#clip204)\" x1=\"1363.55\" y1=\"1154.53\" x2=\"1363.55\" y2=\"1170.53\" style=\"stroke:#3da44d; stroke-width:3.2; stroke-opacity:1\"/>\n",
       "<line clip-path=\"url(#clip204)\" x1=\"1363.55\" y1=\"1154.53\" x2=\"1379.55\" y2=\"1154.53\" style=\"stroke:#3da44d; stroke-width:3.2; stroke-opacity:1\"/>\n",
       "<line clip-path=\"url(#clip204)\" x1=\"1440.95\" y1=\"1155.11\" x2=\"1440.95\" y2=\"1139.11\" style=\"stroke:#3da44d; stroke-width:3.2; stroke-opacity:1\"/>\n",
       "<line clip-path=\"url(#clip204)\" x1=\"1440.95\" y1=\"1155.11\" x2=\"1424.95\" y2=\"1155.11\" style=\"stroke:#3da44d; stroke-width:3.2; stroke-opacity:1\"/>\n",
       "<line clip-path=\"url(#clip204)\" x1=\"1440.95\" y1=\"1155.11\" x2=\"1440.95\" y2=\"1171.11\" style=\"stroke:#3da44d; stroke-width:3.2; stroke-opacity:1\"/>\n",
       "<line clip-path=\"url(#clip204)\" x1=\"1440.95\" y1=\"1155.11\" x2=\"1456.95\" y2=\"1155.11\" style=\"stroke:#3da44d; stroke-width:3.2; stroke-opacity:1\"/>\n",
       "<line clip-path=\"url(#clip204)\" x1=\"1518.36\" y1=\"1154.84\" x2=\"1518.36\" y2=\"1138.84\" style=\"stroke:#3da44d; stroke-width:3.2; stroke-opacity:1\"/>\n",
       "<line clip-path=\"url(#clip204)\" x1=\"1518.36\" y1=\"1154.84\" x2=\"1502.36\" y2=\"1154.84\" style=\"stroke:#3da44d; stroke-width:3.2; stroke-opacity:1\"/>\n",
       "<line clip-path=\"url(#clip204)\" x1=\"1518.36\" y1=\"1154.84\" x2=\"1518.36\" y2=\"1170.84\" style=\"stroke:#3da44d; stroke-width:3.2; stroke-opacity:1\"/>\n",
       "<line clip-path=\"url(#clip204)\" x1=\"1518.36\" y1=\"1154.84\" x2=\"1534.36\" y2=\"1154.84\" style=\"stroke:#3da44d; stroke-width:3.2; stroke-opacity:1\"/>\n",
       "<line clip-path=\"url(#clip204)\" x1=\"1595.76\" y1=\"1154.81\" x2=\"1595.76\" y2=\"1138.81\" style=\"stroke:#3da44d; stroke-width:3.2; stroke-opacity:1\"/>\n",
       "<line clip-path=\"url(#clip204)\" x1=\"1595.76\" y1=\"1154.81\" x2=\"1579.76\" y2=\"1154.81\" style=\"stroke:#3da44d; stroke-width:3.2; stroke-opacity:1\"/>\n",
       "<line clip-path=\"url(#clip204)\" x1=\"1595.76\" y1=\"1154.81\" x2=\"1595.76\" y2=\"1170.81\" style=\"stroke:#3da44d; stroke-width:3.2; stroke-opacity:1\"/>\n",
       "<line clip-path=\"url(#clip204)\" x1=\"1595.76\" y1=\"1154.81\" x2=\"1611.76\" y2=\"1154.81\" style=\"stroke:#3da44d; stroke-width:3.2; stroke-opacity:1\"/>\n",
       "<line clip-path=\"url(#clip204)\" x1=\"1673.16\" y1=\"1154.84\" x2=\"1673.16\" y2=\"1138.84\" style=\"stroke:#3da44d; stroke-width:3.2; stroke-opacity:1\"/>\n",
       "<line clip-path=\"url(#clip204)\" x1=\"1673.16\" y1=\"1154.84\" x2=\"1657.16\" y2=\"1154.84\" style=\"stroke:#3da44d; stroke-width:3.2; stroke-opacity:1\"/>\n",
       "<line clip-path=\"url(#clip204)\" x1=\"1673.16\" y1=\"1154.84\" x2=\"1673.16\" y2=\"1170.84\" style=\"stroke:#3da44d; stroke-width:3.2; stroke-opacity:1\"/>\n",
       "<line clip-path=\"url(#clip204)\" x1=\"1673.16\" y1=\"1154.84\" x2=\"1689.16\" y2=\"1154.84\" style=\"stroke:#3da44d; stroke-width:3.2; stroke-opacity:1\"/>\n",
       "<line clip-path=\"url(#clip204)\" x1=\"1750.56\" y1=\"1154.8\" x2=\"1750.56\" y2=\"1138.8\" style=\"stroke:#3da44d; stroke-width:3.2; stroke-opacity:1\"/>\n",
       "<line clip-path=\"url(#clip204)\" x1=\"1750.56\" y1=\"1154.8\" x2=\"1734.56\" y2=\"1154.8\" style=\"stroke:#3da44d; stroke-width:3.2; stroke-opacity:1\"/>\n",
       "<line clip-path=\"url(#clip204)\" x1=\"1750.56\" y1=\"1154.8\" x2=\"1750.56\" y2=\"1170.8\" style=\"stroke:#3da44d; stroke-width:3.2; stroke-opacity:1\"/>\n",
       "<line clip-path=\"url(#clip204)\" x1=\"1750.56\" y1=\"1154.8\" x2=\"1766.56\" y2=\"1154.8\" style=\"stroke:#3da44d; stroke-width:3.2; stroke-opacity:1\"/>\n",
       "<line clip-path=\"url(#clip204)\" x1=\"1827.97\" y1=\"1154.83\" x2=\"1827.97\" y2=\"1138.83\" style=\"stroke:#3da44d; stroke-width:3.2; stroke-opacity:1\"/>\n",
       "<line clip-path=\"url(#clip204)\" x1=\"1827.97\" y1=\"1154.83\" x2=\"1811.97\" y2=\"1154.83\" style=\"stroke:#3da44d; stroke-width:3.2; stroke-opacity:1\"/>\n",
       "<line clip-path=\"url(#clip204)\" x1=\"1827.97\" y1=\"1154.83\" x2=\"1827.97\" y2=\"1170.83\" style=\"stroke:#3da44d; stroke-width:3.2; stroke-opacity:1\"/>\n",
       "<line clip-path=\"url(#clip204)\" x1=\"1827.97\" y1=\"1154.83\" x2=\"1843.97\" y2=\"1154.83\" style=\"stroke:#3da44d; stroke-width:3.2; stroke-opacity:1\"/>\n",
       "<line clip-path=\"url(#clip204)\" x1=\"1905.37\" y1=\"1154.83\" x2=\"1905.37\" y2=\"1138.83\" style=\"stroke:#3da44d; stroke-width:3.2; stroke-opacity:1\"/>\n",
       "<line clip-path=\"url(#clip204)\" x1=\"1905.37\" y1=\"1154.83\" x2=\"1889.37\" y2=\"1154.83\" style=\"stroke:#3da44d; stroke-width:3.2; stroke-opacity:1\"/>\n",
       "<line clip-path=\"url(#clip204)\" x1=\"1905.37\" y1=\"1154.83\" x2=\"1905.37\" y2=\"1170.83\" style=\"stroke:#3da44d; stroke-width:3.2; stroke-opacity:1\"/>\n",
       "<line clip-path=\"url(#clip204)\" x1=\"1905.37\" y1=\"1154.83\" x2=\"1921.37\" y2=\"1154.83\" style=\"stroke:#3da44d; stroke-width:3.2; stroke-opacity:1\"/>\n",
       "<line clip-path=\"url(#clip204)\" x1=\"1982.77\" y1=\"1154.83\" x2=\"1982.77\" y2=\"1138.83\" style=\"stroke:#3da44d; stroke-width:3.2; stroke-opacity:1\"/>\n",
       "<line clip-path=\"url(#clip204)\" x1=\"1982.77\" y1=\"1154.83\" x2=\"1966.77\" y2=\"1154.83\" style=\"stroke:#3da44d; stroke-width:3.2; stroke-opacity:1\"/>\n",
       "<line clip-path=\"url(#clip204)\" x1=\"1982.77\" y1=\"1154.83\" x2=\"1982.77\" y2=\"1170.83\" style=\"stroke:#3da44d; stroke-width:3.2; stroke-opacity:1\"/>\n",
       "<line clip-path=\"url(#clip204)\" x1=\"1982.77\" y1=\"1154.83\" x2=\"1998.77\" y2=\"1154.83\" style=\"stroke:#3da44d; stroke-width:3.2; stroke-opacity:1\"/>\n",
       "<line clip-path=\"url(#clip204)\" x1=\"2060.17\" y1=\"1154.83\" x2=\"2060.17\" y2=\"1138.83\" style=\"stroke:#3da44d; stroke-width:3.2; stroke-opacity:1\"/>\n",
       "<line clip-path=\"url(#clip204)\" x1=\"2060.17\" y1=\"1154.83\" x2=\"2044.17\" y2=\"1154.83\" style=\"stroke:#3da44d; stroke-width:3.2; stroke-opacity:1\"/>\n",
       "<line clip-path=\"url(#clip204)\" x1=\"2060.17\" y1=\"1154.83\" x2=\"2060.17\" y2=\"1170.83\" style=\"stroke:#3da44d; stroke-width:3.2; stroke-opacity:1\"/>\n",
       "<line clip-path=\"url(#clip204)\" x1=\"2060.17\" y1=\"1154.83\" x2=\"2076.17\" y2=\"1154.83\" style=\"stroke:#3da44d; stroke-width:3.2; stroke-opacity:1\"/>\n",
       "<line clip-path=\"url(#clip204)\" x1=\"2137.58\" y1=\"1154.82\" x2=\"2137.58\" y2=\"1138.82\" style=\"stroke:#3da44d; stroke-width:3.2; stroke-opacity:1\"/>\n",
       "<line clip-path=\"url(#clip204)\" x1=\"2137.58\" y1=\"1154.82\" x2=\"2121.58\" y2=\"1154.82\" style=\"stroke:#3da44d; stroke-width:3.2; stroke-opacity:1\"/>\n",
       "<line clip-path=\"url(#clip204)\" x1=\"2137.58\" y1=\"1154.82\" x2=\"2137.58\" y2=\"1170.82\" style=\"stroke:#3da44d; stroke-width:3.2; stroke-opacity:1\"/>\n",
       "<line clip-path=\"url(#clip204)\" x1=\"2137.58\" y1=\"1154.82\" x2=\"2153.58\" y2=\"1154.82\" style=\"stroke:#3da44d; stroke-width:3.2; stroke-opacity:1\"/>\n",
       "<line clip-path=\"url(#clip204)\" x1=\"2214.98\" y1=\"1154.82\" x2=\"2214.98\" y2=\"1138.82\" style=\"stroke:#3da44d; stroke-width:3.2; stroke-opacity:1\"/>\n",
       "<line clip-path=\"url(#clip204)\" x1=\"2214.98\" y1=\"1154.82\" x2=\"2198.98\" y2=\"1154.82\" style=\"stroke:#3da44d; stroke-width:3.2; stroke-opacity:1\"/>\n",
       "<line clip-path=\"url(#clip204)\" x1=\"2214.98\" y1=\"1154.82\" x2=\"2214.98\" y2=\"1170.82\" style=\"stroke:#3da44d; stroke-width:3.2; stroke-opacity:1\"/>\n",
       "<line clip-path=\"url(#clip204)\" x1=\"2214.98\" y1=\"1154.82\" x2=\"2230.98\" y2=\"1154.82\" style=\"stroke:#3da44d; stroke-width:3.2; stroke-opacity:1\"/>\n",
       "<line clip-path=\"url(#clip204)\" x1=\"2292.38\" y1=\"1154.82\" x2=\"2292.38\" y2=\"1138.82\" style=\"stroke:#3da44d; stroke-width:3.2; stroke-opacity:1\"/>\n",
       "<line clip-path=\"url(#clip204)\" x1=\"2292.38\" y1=\"1154.82\" x2=\"2276.38\" y2=\"1154.82\" style=\"stroke:#3da44d; stroke-width:3.2; stroke-opacity:1\"/>\n",
       "<line clip-path=\"url(#clip204)\" x1=\"2292.38\" y1=\"1154.82\" x2=\"2292.38\" y2=\"1170.82\" style=\"stroke:#3da44d; stroke-width:3.2; stroke-opacity:1\"/>\n",
       "<line clip-path=\"url(#clip204)\" x1=\"2292.38\" y1=\"1154.82\" x2=\"2308.38\" y2=\"1154.82\" style=\"stroke:#3da44d; stroke-width:3.2; stroke-opacity:1\"/>\n",
       "<polyline clip-path=\"url(#clip204)\" style=\"stroke:#80007f; stroke-linecap:round; stroke-linejoin:round; stroke-width:20; stroke-opacity:0.3; fill:none\" points=\"279.916,1414.43 357.319,1401.26 434.721,1347.85 512.124,1275.9 589.526,1207.88 666.929,1162.83 744.331,1143.86 821.734,1142.48 899.136,1149.37 976.539,1157.36 1053.94,1161.58 1131.34,1158.8 1208.75,1154.98 1286.15,1153.99 1363.55,1154.53 1440.95,1155.11 1518.36,1154.83 1595.76,1154.81 1673.16,1154.84 1750.56,1154.8 1827.97,1154.83 1905.37,1154.83 1982.77,1154.83 2060.17,1154.83 2137.58,1154.82 2214.98,1154.82 2292.38,1154.82 \"/>\n",
       "<circle clip-path=\"url(#clip204)\" cx=\"279.916\" cy=\"1414.43\" r=\"14.4\" fill=\"#c271d2\" fill-rule=\"evenodd\" fill-opacity=\"1\" stroke=\"#000000\" stroke-opacity=\"1\" stroke-width=\"3.2\"/>\n",
       "<circle clip-path=\"url(#clip204)\" cx=\"357.319\" cy=\"1401.26\" r=\"14.4\" fill=\"#c271d2\" fill-rule=\"evenodd\" fill-opacity=\"1\" stroke=\"#000000\" stroke-opacity=\"1\" stroke-width=\"3.2\"/>\n",
       "<circle clip-path=\"url(#clip204)\" cx=\"434.721\" cy=\"1347.85\" r=\"14.4\" fill=\"#c271d2\" fill-rule=\"evenodd\" fill-opacity=\"1\" stroke=\"#000000\" stroke-opacity=\"1\" stroke-width=\"3.2\"/>\n",
       "<circle clip-path=\"url(#clip204)\" cx=\"512.124\" cy=\"1275.9\" r=\"14.4\" fill=\"#c271d2\" fill-rule=\"evenodd\" fill-opacity=\"1\" stroke=\"#000000\" stroke-opacity=\"1\" stroke-width=\"3.2\"/>\n",
       "<circle clip-path=\"url(#clip204)\" cx=\"589.526\" cy=\"1207.88\" r=\"14.4\" fill=\"#c271d2\" fill-rule=\"evenodd\" fill-opacity=\"1\" stroke=\"#000000\" stroke-opacity=\"1\" stroke-width=\"3.2\"/>\n",
       "<circle clip-path=\"url(#clip204)\" cx=\"666.929\" cy=\"1162.83\" r=\"14.4\" fill=\"#c271d2\" fill-rule=\"evenodd\" fill-opacity=\"1\" stroke=\"#000000\" stroke-opacity=\"1\" stroke-width=\"3.2\"/>\n",
       "<circle clip-path=\"url(#clip204)\" cx=\"744.331\" cy=\"1143.86\" r=\"14.4\" fill=\"#c271d2\" fill-rule=\"evenodd\" fill-opacity=\"1\" stroke=\"#000000\" stroke-opacity=\"1\" stroke-width=\"3.2\"/>\n",
       "<circle clip-path=\"url(#clip204)\" cx=\"821.734\" cy=\"1142.48\" r=\"14.4\" fill=\"#c271d2\" fill-rule=\"evenodd\" fill-opacity=\"1\" stroke=\"#000000\" stroke-opacity=\"1\" stroke-width=\"3.2\"/>\n",
       "<circle clip-path=\"url(#clip204)\" cx=\"899.136\" cy=\"1149.37\" r=\"14.4\" fill=\"#c271d2\" fill-rule=\"evenodd\" fill-opacity=\"1\" stroke=\"#000000\" stroke-opacity=\"1\" stroke-width=\"3.2\"/>\n",
       "<circle clip-path=\"url(#clip204)\" cx=\"976.539\" cy=\"1157.36\" r=\"14.4\" fill=\"#c271d2\" fill-rule=\"evenodd\" fill-opacity=\"1\" stroke=\"#000000\" stroke-opacity=\"1\" stroke-width=\"3.2\"/>\n",
       "<circle clip-path=\"url(#clip204)\" cx=\"1053.94\" cy=\"1161.58\" r=\"14.4\" fill=\"#c271d2\" fill-rule=\"evenodd\" fill-opacity=\"1\" stroke=\"#000000\" stroke-opacity=\"1\" stroke-width=\"3.2\"/>\n",
       "<circle clip-path=\"url(#clip204)\" cx=\"1131.34\" cy=\"1158.8\" r=\"14.4\" fill=\"#c271d2\" fill-rule=\"evenodd\" fill-opacity=\"1\" stroke=\"#000000\" stroke-opacity=\"1\" stroke-width=\"3.2\"/>\n",
       "<circle clip-path=\"url(#clip204)\" cx=\"1208.75\" cy=\"1154.98\" r=\"14.4\" fill=\"#c271d2\" fill-rule=\"evenodd\" fill-opacity=\"1\" stroke=\"#000000\" stroke-opacity=\"1\" stroke-width=\"3.2\"/>\n",
       "<circle clip-path=\"url(#clip204)\" cx=\"1286.15\" cy=\"1153.99\" r=\"14.4\" fill=\"#c271d2\" fill-rule=\"evenodd\" fill-opacity=\"1\" stroke=\"#000000\" stroke-opacity=\"1\" stroke-width=\"3.2\"/>\n",
       "<circle clip-path=\"url(#clip204)\" cx=\"1363.55\" cy=\"1154.53\" r=\"14.4\" fill=\"#c271d2\" fill-rule=\"evenodd\" fill-opacity=\"1\" stroke=\"#000000\" stroke-opacity=\"1\" stroke-width=\"3.2\"/>\n",
       "<circle clip-path=\"url(#clip204)\" cx=\"1440.95\" cy=\"1155.11\" r=\"14.4\" fill=\"#c271d2\" fill-rule=\"evenodd\" fill-opacity=\"1\" stroke=\"#000000\" stroke-opacity=\"1\" stroke-width=\"3.2\"/>\n",
       "<circle clip-path=\"url(#clip204)\" cx=\"1518.36\" cy=\"1154.83\" r=\"14.4\" fill=\"#c271d2\" fill-rule=\"evenodd\" fill-opacity=\"1\" stroke=\"#000000\" stroke-opacity=\"1\" stroke-width=\"3.2\"/>\n",
       "<circle clip-path=\"url(#clip204)\" cx=\"1595.76\" cy=\"1154.81\" r=\"14.4\" fill=\"#c271d2\" fill-rule=\"evenodd\" fill-opacity=\"1\" stroke=\"#000000\" stroke-opacity=\"1\" stroke-width=\"3.2\"/>\n",
       "<circle clip-path=\"url(#clip204)\" cx=\"1673.16\" cy=\"1154.84\" r=\"14.4\" fill=\"#c271d2\" fill-rule=\"evenodd\" fill-opacity=\"1\" stroke=\"#000000\" stroke-opacity=\"1\" stroke-width=\"3.2\"/>\n",
       "<circle clip-path=\"url(#clip204)\" cx=\"1750.56\" cy=\"1154.8\" r=\"14.4\" fill=\"#c271d2\" fill-rule=\"evenodd\" fill-opacity=\"1\" stroke=\"#000000\" stroke-opacity=\"1\" stroke-width=\"3.2\"/>\n",
       "<circle clip-path=\"url(#clip204)\" cx=\"1827.97\" cy=\"1154.83\" r=\"14.4\" fill=\"#c271d2\" fill-rule=\"evenodd\" fill-opacity=\"1\" stroke=\"#000000\" stroke-opacity=\"1\" stroke-width=\"3.2\"/>\n",
       "<circle clip-path=\"url(#clip204)\" cx=\"1905.37\" cy=\"1154.83\" r=\"14.4\" fill=\"#c271d2\" fill-rule=\"evenodd\" fill-opacity=\"1\" stroke=\"#000000\" stroke-opacity=\"1\" stroke-width=\"3.2\"/>\n",
       "<circle clip-path=\"url(#clip204)\" cx=\"1982.77\" cy=\"1154.83\" r=\"14.4\" fill=\"#c271d2\" fill-rule=\"evenodd\" fill-opacity=\"1\" stroke=\"#000000\" stroke-opacity=\"1\" stroke-width=\"3.2\"/>\n",
       "<circle clip-path=\"url(#clip204)\" cx=\"2060.17\" cy=\"1154.83\" r=\"14.4\" fill=\"#c271d2\" fill-rule=\"evenodd\" fill-opacity=\"1\" stroke=\"#000000\" stroke-opacity=\"1\" stroke-width=\"3.2\"/>\n",
       "<circle clip-path=\"url(#clip204)\" cx=\"2137.58\" cy=\"1154.82\" r=\"14.4\" fill=\"#c271d2\" fill-rule=\"evenodd\" fill-opacity=\"1\" stroke=\"#000000\" stroke-opacity=\"1\" stroke-width=\"3.2\"/>\n",
       "<circle clip-path=\"url(#clip204)\" cx=\"2214.98\" cy=\"1154.82\" r=\"14.4\" fill=\"#c271d2\" fill-rule=\"evenodd\" fill-opacity=\"1\" stroke=\"#000000\" stroke-opacity=\"1\" stroke-width=\"3.2\"/>\n",
       "<circle clip-path=\"url(#clip204)\" cx=\"2292.38\" cy=\"1154.82\" r=\"14.4\" fill=\"#c271d2\" fill-rule=\"evenodd\" fill-opacity=\"1\" stroke=\"#000000\" stroke-opacity=\"1\" stroke-width=\"3.2\"/>\n",
       "<polyline clip-path=\"url(#clip204)\" style=\"stroke:#0000ff; stroke-linecap:round; stroke-linejoin:round; stroke-width:20; stroke-opacity:0.3; fill:none\" points=\"279.916,1414.43 357.319,1401.27 434.721,1347.85 512.124,1275.9 589.526,1207.89 666.929,1162.86 744.331,1143.88 821.734,1142.49 899.136,1149.36 976.539,1157.33 1053.94,1161.54 1131.34,1158.79 1208.75,1155.04 1286.15,1154.04 1363.55,1154.49 1440.95,1155.05 1518.36,1154.91 1595.76,1154.79 1673.16,1154.84 1750.56,1154.83 1827.97,1154.82 1905.37,1154.82 1982.77,1154.82 2060.17,1154.82 2137.58,1154.83 2214.98,1154.83 2292.38,1154.83 \"/>\n",
       "<path clip-path=\"url(#clip204)\" d=\"M279.916 1398.43 L263.916 1414.43 L279.916 1430.43 L295.916 1414.43 L279.916 1398.43 Z\" fill=\"#ac8d18\" fill-rule=\"evenodd\" fill-opacity=\"1\" stroke=\"#000000\" stroke-opacity=\"1\" stroke-width=\"3.2\"/>\n",
       "<path clip-path=\"url(#clip204)\" d=\"M357.319 1385.27 L341.319 1401.27 L357.319 1417.27 L373.319 1401.27 L357.319 1385.27 Z\" fill=\"#ac8d18\" fill-rule=\"evenodd\" fill-opacity=\"1\" stroke=\"#000000\" stroke-opacity=\"1\" stroke-width=\"3.2\"/>\n",
       "<path clip-path=\"url(#clip204)\" d=\"M434.721 1331.85 L418.721 1347.85 L434.721 1363.85 L450.721 1347.85 L434.721 1331.85 Z\" fill=\"#ac8d18\" fill-rule=\"evenodd\" fill-opacity=\"1\" stroke=\"#000000\" stroke-opacity=\"1\" stroke-width=\"3.2\"/>\n",
       "<path clip-path=\"url(#clip204)\" d=\"M512.124 1259.9 L496.124 1275.9 L512.124 1291.9 L528.124 1275.9 L512.124 1259.9 Z\" fill=\"#ac8d18\" fill-rule=\"evenodd\" fill-opacity=\"1\" stroke=\"#000000\" stroke-opacity=\"1\" stroke-width=\"3.2\"/>\n",
       "<path clip-path=\"url(#clip204)\" d=\"M589.526 1191.89 L573.526 1207.89 L589.526 1223.89 L605.526 1207.89 L589.526 1191.89 Z\" fill=\"#ac8d18\" fill-rule=\"evenodd\" fill-opacity=\"1\" stroke=\"#000000\" stroke-opacity=\"1\" stroke-width=\"3.2\"/>\n",
       "<path clip-path=\"url(#clip204)\" d=\"M666.929 1146.86 L650.929 1162.86 L666.929 1178.86 L682.929 1162.86 L666.929 1146.86 Z\" fill=\"#ac8d18\" fill-rule=\"evenodd\" fill-opacity=\"1\" stroke=\"#000000\" stroke-opacity=\"1\" stroke-width=\"3.2\"/>\n",
       "<path clip-path=\"url(#clip204)\" d=\"M744.331 1127.88 L728.331 1143.88 L744.331 1159.88 L760.331 1143.88 L744.331 1127.88 Z\" fill=\"#ac8d18\" fill-rule=\"evenodd\" fill-opacity=\"1\" stroke=\"#000000\" stroke-opacity=\"1\" stroke-width=\"3.2\"/>\n",
       "<path clip-path=\"url(#clip204)\" d=\"M821.734 1126.49 L805.734 1142.49 L821.734 1158.49 L837.734 1142.49 L821.734 1126.49 Z\" fill=\"#ac8d18\" fill-rule=\"evenodd\" fill-opacity=\"1\" stroke=\"#000000\" stroke-opacity=\"1\" stroke-width=\"3.2\"/>\n",
       "<path clip-path=\"url(#clip204)\" d=\"M899.136 1133.36 L883.136 1149.36 L899.136 1165.36 L915.136 1149.36 L899.136 1133.36 Z\" fill=\"#ac8d18\" fill-rule=\"evenodd\" fill-opacity=\"1\" stroke=\"#000000\" stroke-opacity=\"1\" stroke-width=\"3.2\"/>\n",
       "<path clip-path=\"url(#clip204)\" d=\"M976.539 1141.33 L960.539 1157.33 L976.539 1173.33 L992.539 1157.33 L976.539 1141.33 Z\" fill=\"#ac8d18\" fill-rule=\"evenodd\" fill-opacity=\"1\" stroke=\"#000000\" stroke-opacity=\"1\" stroke-width=\"3.2\"/>\n",
       "<path clip-path=\"url(#clip204)\" d=\"M1053.94 1145.54 L1037.94 1161.54 L1053.94 1177.54 L1069.94 1161.54 L1053.94 1145.54 Z\" fill=\"#ac8d18\" fill-rule=\"evenodd\" fill-opacity=\"1\" stroke=\"#000000\" stroke-opacity=\"1\" stroke-width=\"3.2\"/>\n",
       "<path clip-path=\"url(#clip204)\" d=\"M1131.34 1142.79 L1115.34 1158.79 L1131.34 1174.79 L1147.34 1158.79 L1131.34 1142.79 Z\" fill=\"#ac8d18\" fill-rule=\"evenodd\" fill-opacity=\"1\" stroke=\"#000000\" stroke-opacity=\"1\" stroke-width=\"3.2\"/>\n",
       "<path clip-path=\"url(#clip204)\" d=\"M1208.75 1139.04 L1192.75 1155.04 L1208.75 1171.04 L1224.75 1155.04 L1208.75 1139.04 Z\" fill=\"#ac8d18\" fill-rule=\"evenodd\" fill-opacity=\"1\" stroke=\"#000000\" stroke-opacity=\"1\" stroke-width=\"3.2\"/>\n",
       "<path clip-path=\"url(#clip204)\" d=\"M1286.15 1138.04 L1270.15 1154.04 L1286.15 1170.04 L1302.15 1154.04 L1286.15 1138.04 Z\" fill=\"#ac8d18\" fill-rule=\"evenodd\" fill-opacity=\"1\" stroke=\"#000000\" stroke-opacity=\"1\" stroke-width=\"3.2\"/>\n",
       "<path clip-path=\"url(#clip204)\" d=\"M1363.55 1138.49 L1347.55 1154.49 L1363.55 1170.49 L1379.55 1154.49 L1363.55 1138.49 Z\" fill=\"#ac8d18\" fill-rule=\"evenodd\" fill-opacity=\"1\" stroke=\"#000000\" stroke-opacity=\"1\" stroke-width=\"3.2\"/>\n",
       "<path clip-path=\"url(#clip204)\" d=\"M1440.95 1139.05 L1424.95 1155.05 L1440.95 1171.05 L1456.95 1155.05 L1440.95 1139.05 Z\" fill=\"#ac8d18\" fill-rule=\"evenodd\" fill-opacity=\"1\" stroke=\"#000000\" stroke-opacity=\"1\" stroke-width=\"3.2\"/>\n",
       "<path clip-path=\"url(#clip204)\" d=\"M1518.36 1138.91 L1502.36 1154.91 L1518.36 1170.91 L1534.36 1154.91 L1518.36 1138.91 Z\" fill=\"#ac8d18\" fill-rule=\"evenodd\" fill-opacity=\"1\" stroke=\"#000000\" stroke-opacity=\"1\" stroke-width=\"3.2\"/>\n",
       "<path clip-path=\"url(#clip204)\" d=\"M1595.76 1138.79 L1579.76 1154.79 L1595.76 1170.79 L1611.76 1154.79 L1595.76 1138.79 Z\" fill=\"#ac8d18\" fill-rule=\"evenodd\" fill-opacity=\"1\" stroke=\"#000000\" stroke-opacity=\"1\" stroke-width=\"3.2\"/>\n",
       "<path clip-path=\"url(#clip204)\" d=\"M1673.16 1138.84 L1657.16 1154.84 L1673.16 1170.84 L1689.16 1154.84 L1673.16 1138.84 Z\" fill=\"#ac8d18\" fill-rule=\"evenodd\" fill-opacity=\"1\" stroke=\"#000000\" stroke-opacity=\"1\" stroke-width=\"3.2\"/>\n",
       "<path clip-path=\"url(#clip204)\" d=\"M1750.56 1138.83 L1734.56 1154.83 L1750.56 1170.83 L1766.56 1154.83 L1750.56 1138.83 Z\" fill=\"#ac8d18\" fill-rule=\"evenodd\" fill-opacity=\"1\" stroke=\"#000000\" stroke-opacity=\"1\" stroke-width=\"3.2\"/>\n",
       "<path clip-path=\"url(#clip204)\" d=\"M1827.97 1138.82 L1811.97 1154.82 L1827.97 1170.82 L1843.97 1154.82 L1827.97 1138.82 Z\" fill=\"#ac8d18\" fill-rule=\"evenodd\" fill-opacity=\"1\" stroke=\"#000000\" stroke-opacity=\"1\" stroke-width=\"3.2\"/>\n",
       "<path clip-path=\"url(#clip204)\" d=\"M1905.37 1138.82 L1889.37 1154.82 L1905.37 1170.82 L1921.37 1154.82 L1905.37 1138.82 Z\" fill=\"#ac8d18\" fill-rule=\"evenodd\" fill-opacity=\"1\" stroke=\"#000000\" stroke-opacity=\"1\" stroke-width=\"3.2\"/>\n",
       "<path clip-path=\"url(#clip204)\" d=\"M1982.77 1138.82 L1966.77 1154.82 L1982.77 1170.82 L1998.77 1154.82 L1982.77 1138.82 Z\" fill=\"#ac8d18\" fill-rule=\"evenodd\" fill-opacity=\"1\" stroke=\"#000000\" stroke-opacity=\"1\" stroke-width=\"3.2\"/>\n",
       "<path clip-path=\"url(#clip204)\" d=\"M2060.17 1138.82 L2044.17 1154.82 L2060.17 1170.82 L2076.17 1154.82 L2060.17 1138.82 Z\" fill=\"#ac8d18\" fill-rule=\"evenodd\" fill-opacity=\"1\" stroke=\"#000000\" stroke-opacity=\"1\" stroke-width=\"3.2\"/>\n",
       "<path clip-path=\"url(#clip204)\" d=\"M2137.58 1138.83 L2121.58 1154.83 L2137.58 1170.83 L2153.58 1154.83 L2137.58 1138.83 Z\" fill=\"#ac8d18\" fill-rule=\"evenodd\" fill-opacity=\"1\" stroke=\"#000000\" stroke-opacity=\"1\" stroke-width=\"3.2\"/>\n",
       "<path clip-path=\"url(#clip204)\" d=\"M2214.98 1138.83 L2198.98 1154.83 L2214.98 1170.83 L2230.98 1154.83 L2214.98 1138.83 Z\" fill=\"#ac8d18\" fill-rule=\"evenodd\" fill-opacity=\"1\" stroke=\"#000000\" stroke-opacity=\"1\" stroke-width=\"3.2\"/>\n",
       "<path clip-path=\"url(#clip204)\" d=\"M2292.38 1138.83 L2276.38 1154.83 L2292.38 1170.83 L2308.38 1154.83 L2292.38 1138.83 Z\" fill=\"#ac8d18\" fill-rule=\"evenodd\" fill-opacity=\"1\" stroke=\"#000000\" stroke-opacity=\"1\" stroke-width=\"3.2\"/>\n",
       "</svg>\n"
      ]
     },
     "metadata": {},
     "output_type": "display_data"
    }
   ],
   "source": [
    "gr()\n",
    "###########\n",
    "# OUTPUTS #\n",
    "###########\n",
    "# limits\n",
    "p3 = plot(ts,(pUB + y0)*ones(length(ts)),linestyle = :dot,linecolor = :black,xaxis=\"time[h]\",yaxis=\"y_s1\",legend=false,gridlinewidth=2)\n",
    "p3 = plot!(ts,(pTrack + y0)*ones(length(ts)),linestyle = :dot,linecolor = :black,legend=false)\n",
    "\n",
    "for opti in 1:3\n",
    "    p3 = plot!(ts,yTraj[opti,:,1],linewidth=5,linealpha = 0.3,markershape=MList[opti],linecolor = CList[opti],legend=false)\n",
    "end\n",
    "\n",
    "p4 = plot(ts,(pUB + y0)*ones(length(ts)),linestyle = :dot,linecolor = :black,xaxis=\"time[h]\",yaxis=\"y_s2\",legend=false,gridlinewidth=2)\n",
    "p4 = plot!(ts,(pTrack + y0)*ones(length(ts)),linestyle = :dot,linecolor = :black,legend=false)\n",
    "\n",
    "for opti in 1:3\n",
    "    p4 = plot!(ts,yTraj[opti,:,2],linewidth=5,linealpha = 0.3,markershape=MList[opti],linecolor = CList[opti],legend=false)\n",
    "end\n",
    "\n",
    "p5 = plot(ts,(pUB + y0)*ones(length(ts)),linestyle = :dot,linecolor = :black,xaxis=\"time[h]\",yaxis=\"y_s3\",legend=false,gridlinewidth=2)\n",
    "p5 = plot!(ts,(pTrack + y0)*ones(length(ts)),linestyle = :dot,linecolor = :black,legend=false)\n",
    "\n",
    "for opti in 1:3\n",
    "    p5 = plot!(ts,yTraj[opti,:,3],linewidth=5,linealpha = 0.3,markershape=MList[opti],linecolor = CList[opti],legend=false)\n",
    "end\n",
    "\n",
    "g1 = plot(p3,p4,p5,layout=(3,1))\n",
    "display(g1)"
   ]
  },
  {
   "cell_type": "code",
   "execution_count": 19,
   "id": "042bad03",
   "metadata": {},
   "outputs": [
    {
     "data": {
      "image/svg+xml": [
       "<?xml version=\"1.0\" encoding=\"utf-8\"?>\n",
       "<svg xmlns=\"http://www.w3.org/2000/svg\" xmlns:xlink=\"http://www.w3.org/1999/xlink\" width=\"600\" height=\"400\" viewBox=\"0 0 2400 1600\">\n",
       "<defs>\n",
       "  <clipPath id=\"clip240\">\n",
       "    <rect x=\"0\" y=\"0\" width=\"2400\" height=\"1600\"/>\n",
       "  </clipPath>\n",
       "</defs>\n",
       "<path clip-path=\"url(#clip240)\" d=\"M0 1600 L2400 1600 L2400 0 L0 0  Z\" fill=\"#ffffff\" fill-rule=\"evenodd\" fill-opacity=\"1\"/>\n",
       "<defs>\n",
       "  <clipPath id=\"clip241\">\n",
       "    <rect x=\"480\" y=\"0\" width=\"1681\" height=\"1600\"/>\n",
       "  </clipPath>\n",
       "</defs>\n",
       "<path clip-path=\"url(#clip240)\" d=\"M249.542 356.513 L2352.76 356.513 L2352.76 47.2441 L249.542 47.2441  Z\" fill=\"#ffffff\" fill-rule=\"evenodd\" fill-opacity=\"1\"/>\n",
       "<defs>\n",
       "  <clipPath id=\"clip242\">\n",
       "    <rect x=\"249\" y=\"47\" width=\"2104\" height=\"310\"/>\n",
       "  </clipPath>\n",
       "</defs>\n",
       "<polyline clip-path=\"url(#clip242)\" style=\"stroke:#000000; stroke-linecap:round; stroke-linejoin:round; stroke-width:8; stroke-opacity:0.1; fill:none\" points=\"614.323,356.513 614.323,47.2441 \"/>\n",
       "<polyline clip-path=\"url(#clip242)\" style=\"stroke:#000000; stroke-linecap:round; stroke-linejoin:round; stroke-width:8; stroke-opacity:0.1; fill:none\" points=\"995.893,356.513 995.893,47.2441 \"/>\n",
       "<polyline clip-path=\"url(#clip242)\" style=\"stroke:#000000; stroke-linecap:round; stroke-linejoin:round; stroke-width:8; stroke-opacity:0.1; fill:none\" points=\"1377.46,356.513 1377.46,47.2441 \"/>\n",
       "<polyline clip-path=\"url(#clip242)\" style=\"stroke:#000000; stroke-linecap:round; stroke-linejoin:round; stroke-width:8; stroke-opacity:0.1; fill:none\" points=\"1759.03,356.513 1759.03,47.2441 \"/>\n",
       "<polyline clip-path=\"url(#clip242)\" style=\"stroke:#000000; stroke-linecap:round; stroke-linejoin:round; stroke-width:8; stroke-opacity:0.1; fill:none\" points=\"2140.6,356.513 2140.6,47.2441 \"/>\n",
       "<polyline clip-path=\"url(#clip240)\" style=\"stroke:#000000; stroke-linecap:round; stroke-linejoin:round; stroke-width:4; stroke-opacity:1; fill:none\" points=\"249.542,356.513 2352.76,356.513 \"/>\n",
       "<polyline clip-path=\"url(#clip240)\" style=\"stroke:#000000; stroke-linecap:round; stroke-linejoin:round; stroke-width:4; stroke-opacity:1; fill:none\" points=\"614.323,356.513 614.323,337.616 \"/>\n",
       "<polyline clip-path=\"url(#clip240)\" style=\"stroke:#000000; stroke-linecap:round; stroke-linejoin:round; stroke-width:4; stroke-opacity:1; fill:none\" points=\"995.893,356.513 995.893,337.616 \"/>\n",
       "<polyline clip-path=\"url(#clip240)\" style=\"stroke:#000000; stroke-linecap:round; stroke-linejoin:round; stroke-width:4; stroke-opacity:1; fill:none\" points=\"1377.46,356.513 1377.46,337.616 \"/>\n",
       "<polyline clip-path=\"url(#clip240)\" style=\"stroke:#000000; stroke-linecap:round; stroke-linejoin:round; stroke-width:4; stroke-opacity:1; fill:none\" points=\"1759.03,356.513 1759.03,337.616 \"/>\n",
       "<polyline clip-path=\"url(#clip240)\" style=\"stroke:#000000; stroke-linecap:round; stroke-linejoin:round; stroke-width:4; stroke-opacity:1; fill:none\" points=\"2140.6,356.513 2140.6,337.616 \"/>\n",
       "<path clip-path=\"url(#clip240)\" d=\"M604.601 384.353 L622.957 384.353 L622.957 388.288 L608.883 388.288 L608.883 396.761 Q609.902 396.413 610.92 396.251 Q611.939 396.066 612.957 396.066 Q618.744 396.066 622.124 399.237 Q625.503 402.409 625.503 407.825 Q625.503 413.404 622.031 416.506 Q618.559 419.584 612.24 419.584 Q610.064 419.584 607.795 419.214 Q605.55 418.844 603.142 418.103 L603.142 413.404 Q605.226 414.538 607.448 415.094 Q609.67 415.649 612.147 415.649 Q616.152 415.649 618.49 413.543 Q620.828 411.436 620.828 407.825 Q620.828 404.214 618.49 402.108 Q616.152 400.001 612.147 400.001 Q610.272 400.001 608.397 400.418 Q606.545 400.835 604.601 401.714 L604.601 384.353 Z\" fill=\"#000000\" fill-rule=\"evenodd\" fill-opacity=\"1\" /><path clip-path=\"url(#clip240)\" d=\"M970.581 414.978 L978.219 414.978 L978.219 388.612 L969.909 390.279 L969.909 386.02 L978.173 384.353 L982.849 384.353 L982.849 414.978 L990.488 414.978 L990.488 418.913 L970.581 418.913 L970.581 414.978 Z\" fill=\"#000000\" fill-rule=\"evenodd\" fill-opacity=\"1\" /><path clip-path=\"url(#clip240)\" d=\"M1009.93 387.432 Q1006.32 387.432 1004.49 390.997 Q1002.69 394.538 1002.69 401.668 Q1002.69 408.774 1004.49 412.339 Q1006.32 415.881 1009.93 415.881 Q1013.57 415.881 1015.37 412.339 Q1017.2 408.774 1017.2 401.668 Q1017.2 394.538 1015.37 390.997 Q1013.57 387.432 1009.93 387.432 M1009.93 383.728 Q1015.74 383.728 1018.8 388.335 Q1021.88 392.918 1021.88 401.668 Q1021.88 410.395 1018.8 415.001 Q1015.74 419.584 1009.93 419.584 Q1004.12 419.584 1001.04 415.001 Q997.988 410.395 997.988 401.668 Q997.988 392.918 1001.04 388.335 Q1004.12 383.728 1009.93 383.728 Z\" fill=\"#000000\" fill-rule=\"evenodd\" fill-opacity=\"1\" /><path clip-path=\"url(#clip240)\" d=\"M1352.65 414.978 L1360.29 414.978 L1360.29 388.612 L1351.98 390.279 L1351.98 386.02 L1360.24 384.353 L1364.92 384.353 L1364.92 414.978 L1372.56 414.978 L1372.56 418.913 L1352.65 418.913 L1352.65 414.978 Z\" fill=\"#000000\" fill-rule=\"evenodd\" fill-opacity=\"1\" /><path clip-path=\"url(#clip240)\" d=\"M1382.05 384.353 L1400.4 384.353 L1400.4 388.288 L1386.33 388.288 L1386.33 396.761 Q1387.35 396.413 1388.37 396.251 Q1389.38 396.066 1390.4 396.066 Q1396.19 396.066 1399.57 399.237 Q1402.95 402.409 1402.95 407.825 Q1402.95 413.404 1399.48 416.506 Q1396 419.584 1389.69 419.584 Q1387.51 419.584 1385.24 419.214 Q1383 418.844 1380.59 418.103 L1380.59 413.404 Q1382.67 414.538 1384.89 415.094 Q1387.12 415.649 1389.59 415.649 Q1393.6 415.649 1395.94 413.543 Q1398.27 411.436 1398.27 407.825 Q1398.27 404.214 1395.94 402.108 Q1393.6 400.001 1389.59 400.001 Q1387.72 400.001 1385.84 400.418 Q1383.99 400.835 1382.05 401.714 L1382.05 384.353 Z\" fill=\"#000000\" fill-rule=\"evenodd\" fill-opacity=\"1\" /><path clip-path=\"url(#clip240)\" d=\"M1737.81 414.978 L1754.13 414.978 L1754.13 418.913 L1732.18 418.913 L1732.18 414.978 Q1734.84 412.223 1739.43 407.594 Q1744.03 402.941 1745.21 401.598 Q1747.46 399.075 1748.34 397.339 Q1749.24 395.58 1749.24 393.89 Q1749.24 391.136 1747.3 389.399 Q1745.38 387.663 1742.27 387.663 Q1740.07 387.663 1737.62 388.427 Q1735.19 389.191 1732.41 390.742 L1732.41 386.02 Q1735.24 384.886 1737.69 384.307 Q1740.14 383.728 1742.18 383.728 Q1747.55 383.728 1750.75 386.413 Q1753.94 389.099 1753.94 393.589 Q1753.94 395.719 1753.13 397.64 Q1752.34 399.538 1750.24 402.131 Q1749.66 402.802 1746.56 406.02 Q1743.45 409.214 1737.81 414.978 Z\" fill=\"#000000\" fill-rule=\"evenodd\" fill-opacity=\"1\" /><path clip-path=\"url(#clip240)\" d=\"M1773.94 387.432 Q1770.33 387.432 1768.5 390.997 Q1766.69 394.538 1766.69 401.668 Q1766.69 408.774 1768.5 412.339 Q1770.33 415.881 1773.94 415.881 Q1777.57 415.881 1779.38 412.339 Q1781.21 408.774 1781.21 401.668 Q1781.21 394.538 1779.38 390.997 Q1777.57 387.432 1773.94 387.432 M1773.94 383.728 Q1779.75 383.728 1782.81 388.335 Q1785.88 392.918 1785.88 401.668 Q1785.88 410.395 1782.81 415.001 Q1779.75 419.584 1773.94 419.584 Q1768.13 419.584 1765.05 415.001 Q1762 410.395 1762 401.668 Q1762 392.918 1765.05 388.335 Q1768.13 383.728 1773.94 383.728 Z\" fill=\"#000000\" fill-rule=\"evenodd\" fill-opacity=\"1\" /><path clip-path=\"url(#clip240)\" d=\"M2119.87 414.978 L2136.19 414.978 L2136.19 418.913 L2114.25 418.913 L2114.25 414.978 Q2116.91 412.223 2121.49 407.594 Q2126.1 402.941 2127.28 401.598 Q2129.53 399.075 2130.41 397.339 Q2131.31 395.58 2131.31 393.89 Q2131.31 391.136 2129.36 389.399 Q2127.44 387.663 2124.34 387.663 Q2122.14 387.663 2119.69 388.427 Q2117.26 389.191 2114.48 390.742 L2114.48 386.02 Q2117.3 384.886 2119.76 384.307 Q2122.21 383.728 2124.25 383.728 Q2129.62 383.728 2132.81 386.413 Q2136.01 389.099 2136.01 393.589 Q2136.01 395.719 2135.2 397.64 Q2134.41 399.538 2132.3 402.131 Q2131.73 402.802 2128.62 406.02 Q2125.52 409.214 2119.87 414.978 Z\" fill=\"#000000\" fill-rule=\"evenodd\" fill-opacity=\"1\" /><path clip-path=\"url(#clip240)\" d=\"M2146.05 384.353 L2164.41 384.353 L2164.41 388.288 L2150.34 388.288 L2150.34 396.761 Q2151.36 396.413 2152.37 396.251 Q2153.39 396.066 2154.41 396.066 Q2160.2 396.066 2163.58 399.237 Q2166.96 402.409 2166.96 407.825 Q2166.96 413.404 2163.48 416.506 Q2160.01 419.584 2153.69 419.584 Q2151.52 419.584 2149.25 419.214 Q2147 418.844 2144.6 418.103 L2144.6 413.404 Q2146.68 414.538 2148.9 415.094 Q2151.12 415.649 2153.6 415.649 Q2157.61 415.649 2159.94 413.543 Q2162.28 411.436 2162.28 407.825 Q2162.28 404.214 2159.94 402.108 Q2157.61 400.001 2153.6 400.001 Q2151.73 400.001 2149.85 400.418 Q2148 400.835 2146.05 401.714 L2146.05 384.353 Z\" fill=\"#000000\" fill-rule=\"evenodd\" fill-opacity=\"1\" /><path clip-path=\"url(#clip240)\" d=\"M1195.29 455.608 L1195.29 465.729 L1207.35 465.729 L1207.35 470.281 L1195.29 470.281 L1195.29 489.632 Q1195.29 493.993 1196.46 495.234 Q1197.67 496.476 1201.33 496.476 L1207.35 496.476 L1207.35 501.377 L1201.33 501.377 Q1194.56 501.377 1191.98 498.863 Q1189.4 496.316 1189.4 489.632 L1189.4 470.281 L1185.1 470.281 L1185.1 465.729 L1189.4 465.729 L1189.4 455.608 L1195.29 455.608 Z\" fill=\"#000000\" fill-rule=\"evenodd\" fill-opacity=\"1\" /><path clip-path=\"url(#clip240)\" d=\"M1215.05 465.729 L1220.91 465.729 L1220.91 501.377 L1215.05 501.377 L1215.05 465.729 M1215.05 451.852 L1220.91 451.852 L1220.91 459.268 L1215.05 459.268 L1215.05 451.852 Z\" fill=\"#000000\" fill-rule=\"evenodd\" fill-opacity=\"1\" /><path clip-path=\"url(#clip240)\" d=\"M1260.92 472.572 Q1263.11 468.626 1266.17 466.748 Q1269.22 464.87 1273.36 464.87 Q1278.93 464.87 1281.96 468.785 Q1284.98 472.668 1284.98 479.861 L1284.98 501.377 L1279.09 501.377 L1279.09 480.052 Q1279.09 474.928 1277.28 472.445 Q1275.46 469.962 1271.74 469.962 Q1267.19 469.962 1264.55 472.986 Q1261.9 476.01 1261.9 481.23 L1261.9 501.377 L1256.02 501.377 L1256.02 480.052 Q1256.02 474.896 1254.2 472.445 Q1252.39 469.962 1248.6 469.962 Q1244.11 469.962 1241.47 473.018 Q1238.83 476.042 1238.83 481.23 L1238.83 501.377 L1232.94 501.377 L1232.94 465.729 L1238.83 465.729 L1238.83 471.267 Q1240.83 467.989 1243.63 466.429 Q1246.44 464.87 1250.29 464.87 Q1254.17 464.87 1256.88 466.843 Q1259.61 468.817 1260.92 472.572 Z\" fill=\"#000000\" fill-rule=\"evenodd\" fill-opacity=\"1\" /><path clip-path=\"url(#clip240)\" d=\"M1327.15 482.089 L1327.15 484.954 L1300.23 484.954 Q1300.61 491.001 1303.85 494.184 Q1307.13 497.335 1312.96 497.335 Q1316.33 497.335 1319.48 496.507 Q1322.67 495.68 1325.78 494.025 L1325.78 499.563 Q1322.63 500.9 1319.32 501.6 Q1316.01 502.3 1312.61 502.3 Q1304.08 502.3 1299.08 497.335 Q1294.11 492.37 1294.11 483.903 Q1294.11 475.15 1298.83 470.026 Q1303.57 464.87 1311.59 464.87 Q1318.78 464.87 1322.95 469.517 Q1327.15 474.132 1327.15 482.089 M1321.3 480.37 Q1321.23 475.564 1318.59 472.7 Q1315.98 469.835 1311.65 469.835 Q1306.75 469.835 1303.79 472.604 Q1300.86 475.373 1300.42 480.402 L1321.3 480.37 Z\" fill=\"#000000\" fill-rule=\"evenodd\" fill-opacity=\"1\" /><path clip-path=\"url(#clip240)\" d=\"M1336.22 451.852 L1349.72 451.852 L1349.72 456.403 L1342.08 456.403 L1342.08 505.419 L1349.72 505.419 L1349.72 509.971 L1336.22 509.971 L1336.22 451.852 Z\" fill=\"#000000\" fill-rule=\"evenodd\" fill-opacity=\"1\" /><path clip-path=\"url(#clip240)\" d=\"M1391.83 479.861 L1391.83 501.377 L1385.97 501.377 L1385.97 480.052 Q1385.97 474.991 1384 472.477 Q1382.03 469.962 1378.08 469.962 Q1373.34 469.962 1370.6 472.986 Q1367.86 476.01 1367.86 481.23 L1367.86 501.377 L1361.97 501.377 L1361.97 451.852 L1367.86 451.852 L1367.86 471.267 Q1369.96 468.053 1372.79 466.461 Q1375.66 464.87 1379.38 464.87 Q1385.53 464.87 1388.68 468.689 Q1391.83 472.477 1391.83 479.861 Z\" fill=\"#000000\" fill-rule=\"evenodd\" fill-opacity=\"1\" /><path clip-path=\"url(#clip240)\" d=\"M1417.2 451.852 L1417.2 509.971 L1403.7 509.971 L1403.7 505.419 L1411.31 505.419 L1411.31 456.403 L1403.7 456.403 L1403.7 451.852 L1417.2 451.852 Z\" fill=\"#000000\" fill-rule=\"evenodd\" fill-opacity=\"1\" /><polyline clip-path=\"url(#clip242)\" style=\"stroke:#000000; stroke-linecap:round; stroke-linejoin:round; stroke-width:8; stroke-opacity:0.1; fill:none\" points=\"249.542,347.76 2352.76,347.76 \"/>\n",
       "<polyline clip-path=\"url(#clip242)\" style=\"stroke:#000000; stroke-linecap:round; stroke-linejoin:round; stroke-width:8; stroke-opacity:0.1; fill:none\" points=\"249.542,286.976 2352.76,286.976 \"/>\n",
       "<polyline clip-path=\"url(#clip242)\" style=\"stroke:#000000; stroke-linecap:round; stroke-linejoin:round; stroke-width:8; stroke-opacity:0.1; fill:none\" points=\"249.542,226.192 2352.76,226.192 \"/>\n",
       "<polyline clip-path=\"url(#clip242)\" style=\"stroke:#000000; stroke-linecap:round; stroke-linejoin:round; stroke-width:8; stroke-opacity:0.1; fill:none\" points=\"249.542,165.408 2352.76,165.408 \"/>\n",
       "<polyline clip-path=\"url(#clip242)\" style=\"stroke:#000000; stroke-linecap:round; stroke-linejoin:round; stroke-width:8; stroke-opacity:0.1; fill:none\" points=\"249.542,104.624 2352.76,104.624 \"/>\n",
       "<polyline clip-path=\"url(#clip240)\" style=\"stroke:#000000; stroke-linecap:round; stroke-linejoin:round; stroke-width:4; stroke-opacity:1; fill:none\" points=\"249.542,356.513 249.542,47.2441 \"/>\n",
       "<polyline clip-path=\"url(#clip240)\" style=\"stroke:#000000; stroke-linecap:round; stroke-linejoin:round; stroke-width:4; stroke-opacity:1; fill:none\" points=\"249.542,347.76 268.44,347.76 \"/>\n",
       "<polyline clip-path=\"url(#clip240)\" style=\"stroke:#000000; stroke-linecap:round; stroke-linejoin:round; stroke-width:4; stroke-opacity:1; fill:none\" points=\"249.542,286.976 268.44,286.976 \"/>\n",
       "<polyline clip-path=\"url(#clip240)\" style=\"stroke:#000000; stroke-linecap:round; stroke-linejoin:round; stroke-width:4; stroke-opacity:1; fill:none\" points=\"249.542,226.192 268.44,226.192 \"/>\n",
       "<polyline clip-path=\"url(#clip240)\" style=\"stroke:#000000; stroke-linecap:round; stroke-linejoin:round; stroke-width:4; stroke-opacity:1; fill:none\" points=\"249.542,165.408 268.44,165.408 \"/>\n",
       "<polyline clip-path=\"url(#clip240)\" style=\"stroke:#000000; stroke-linecap:round; stroke-linejoin:round; stroke-width:4; stroke-opacity:1; fill:none\" points=\"249.542,104.624 268.44,104.624 \"/>\n",
       "<path clip-path=\"url(#clip240)\" d=\"M126.205 333.559 Q122.593 333.559 120.765 337.124 Q118.959 340.665 118.959 347.795 Q118.959 354.901 120.765 358.466 Q122.593 362.008 126.205 362.008 Q129.839 362.008 131.644 358.466 Q133.473 354.901 133.473 347.795 Q133.473 340.665 131.644 337.124 Q129.839 333.559 126.205 333.559 M126.205 329.855 Q132.015 329.855 135.07 334.462 Q138.149 339.045 138.149 347.795 Q138.149 356.522 135.07 361.128 Q132.015 365.712 126.205 365.712 Q120.394 365.712 117.316 361.128 Q114.26 356.522 114.26 347.795 Q114.26 339.045 117.316 334.462 Q120.394 329.855 126.205 329.855 Z\" fill=\"#000000\" fill-rule=\"evenodd\" fill-opacity=\"1\" /><path clip-path=\"url(#clip240)\" d=\"M146.366 359.161 L151.251 359.161 L151.251 365.04 L146.366 365.04 L146.366 359.161 Z\" fill=\"#000000\" fill-rule=\"evenodd\" fill-opacity=\"1\" /><path clip-path=\"url(#clip240)\" d=\"M171.436 333.559 Q167.825 333.559 165.996 337.124 Q164.19 340.665 164.19 347.795 Q164.19 354.901 165.996 358.466 Q167.825 362.008 171.436 362.008 Q175.07 362.008 176.876 358.466 Q178.704 354.901 178.704 347.795 Q178.704 340.665 176.876 337.124 Q175.07 333.559 171.436 333.559 M171.436 329.855 Q177.246 329.855 180.301 334.462 Q183.38 339.045 183.38 347.795 Q183.38 356.522 180.301 361.128 Q177.246 365.712 171.436 365.712 Q165.626 365.712 162.547 361.128 Q159.491 356.522 159.491 347.795 Q159.491 339.045 162.547 334.462 Q165.626 329.855 171.436 329.855 Z\" fill=\"#000000\" fill-rule=\"evenodd\" fill-opacity=\"1\" /><path clip-path=\"url(#clip240)\" d=\"M201.598 333.559 Q197.987 333.559 196.158 337.124 Q194.352 340.665 194.352 347.795 Q194.352 354.901 196.158 358.466 Q197.987 362.008 201.598 362.008 Q205.232 362.008 207.037 358.466 Q208.866 354.901 208.866 347.795 Q208.866 340.665 207.037 337.124 Q205.232 333.559 201.598 333.559 M201.598 329.855 Q207.408 329.855 210.463 334.462 Q213.542 339.045 213.542 347.795 Q213.542 356.522 210.463 361.128 Q207.408 365.712 201.598 365.712 Q195.787 365.712 192.709 361.128 Q189.653 356.522 189.653 347.795 Q189.653 339.045 192.709 334.462 Q195.787 329.855 201.598 329.855 Z\" fill=\"#000000\" fill-rule=\"evenodd\" fill-opacity=\"1\" /><path clip-path=\"url(#clip240)\" d=\"M127.2 272.775 Q123.589 272.775 121.76 276.34 Q119.955 279.881 119.955 287.011 Q119.955 294.117 121.76 297.682 Q123.589 301.224 127.2 301.224 Q130.834 301.224 132.64 297.682 Q134.468 294.117 134.468 287.011 Q134.468 279.881 132.64 276.34 Q130.834 272.775 127.2 272.775 M127.2 269.071 Q133.01 269.071 136.066 273.678 Q139.144 278.261 139.144 287.011 Q139.144 295.738 136.066 300.344 Q133.01 304.928 127.2 304.928 Q121.39 304.928 118.311 300.344 Q115.256 295.738 115.256 287.011 Q115.256 278.261 118.311 273.678 Q121.39 269.071 127.2 269.071 Z\" fill=\"#000000\" fill-rule=\"evenodd\" fill-opacity=\"1\" /><path clip-path=\"url(#clip240)\" d=\"M147.362 298.377 L152.246 298.377 L152.246 304.256 L147.362 304.256 L147.362 298.377 Z\" fill=\"#000000\" fill-rule=\"evenodd\" fill-opacity=\"1\" /><path clip-path=\"url(#clip240)\" d=\"M166.459 300.321 L182.778 300.321 L182.778 304.256 L160.834 304.256 L160.834 300.321 Q163.496 297.566 168.079 292.937 Q172.686 288.284 173.866 286.942 Q176.112 284.418 176.991 282.682 Q177.894 280.923 177.894 279.233 Q177.894 276.479 175.95 274.743 Q174.028 273.006 170.927 273.006 Q168.727 273.006 166.274 273.77 Q163.843 274.534 161.065 276.085 L161.065 271.363 Q163.89 270.229 166.343 269.65 Q168.797 269.071 170.834 269.071 Q176.204 269.071 179.399 271.756 Q182.593 274.442 182.593 278.932 Q182.593 281.062 181.783 282.983 Q180.996 284.881 178.889 287.474 Q178.311 288.145 175.209 291.363 Q172.107 294.557 166.459 300.321 Z\" fill=\"#000000\" fill-rule=\"evenodd\" fill-opacity=\"1\" /><path clip-path=\"url(#clip240)\" d=\"M192.639 269.696 L210.996 269.696 L210.996 273.631 L196.922 273.631 L196.922 282.104 Q197.94 281.756 198.959 281.594 Q199.977 281.409 200.996 281.409 Q206.783 281.409 210.162 284.58 Q213.542 287.752 213.542 293.168 Q213.542 298.747 210.07 301.849 Q206.598 304.928 200.278 304.928 Q198.102 304.928 195.834 304.557 Q193.588 304.187 191.181 303.446 L191.181 298.747 Q193.264 299.881 195.487 300.437 Q197.709 300.992 200.186 300.992 Q204.19 300.992 206.528 298.886 Q208.866 296.779 208.866 293.168 Q208.866 289.557 206.528 287.451 Q204.19 285.344 200.186 285.344 Q198.311 285.344 196.436 285.761 Q194.584 286.178 192.639 287.057 L192.639 269.696 Z\" fill=\"#000000\" fill-rule=\"evenodd\" fill-opacity=\"1\" /><path clip-path=\"url(#clip240)\" d=\"M126.205 211.991 Q122.593 211.991 120.765 215.556 Q118.959 219.097 118.959 226.227 Q118.959 233.333 120.765 236.898 Q122.593 240.44 126.205 240.44 Q129.839 240.44 131.644 236.898 Q133.473 233.333 133.473 226.227 Q133.473 219.097 131.644 215.556 Q129.839 211.991 126.205 211.991 M126.205 208.287 Q132.015 208.287 135.07 212.894 Q138.149 217.477 138.149 226.227 Q138.149 234.954 135.07 239.56 Q132.015 244.144 126.205 244.144 Q120.394 244.144 117.316 239.56 Q114.26 234.954 114.26 226.227 Q114.26 217.477 117.316 212.894 Q120.394 208.287 126.205 208.287 Z\" fill=\"#000000\" fill-rule=\"evenodd\" fill-opacity=\"1\" /><path clip-path=\"url(#clip240)\" d=\"M146.366 237.593 L151.251 237.593 L151.251 243.472 L146.366 243.472 L146.366 237.593 Z\" fill=\"#000000\" fill-rule=\"evenodd\" fill-opacity=\"1\" /><path clip-path=\"url(#clip240)\" d=\"M161.482 208.912 L179.839 208.912 L179.839 212.847 L165.765 212.847 L165.765 221.32 Q166.783 220.972 167.802 220.81 Q168.82 220.625 169.839 220.625 Q175.626 220.625 179.005 223.796 Q182.385 226.968 182.385 232.384 Q182.385 237.963 178.913 241.065 Q175.44 244.144 169.121 244.144 Q166.945 244.144 164.677 243.773 Q162.431 243.403 160.024 242.662 L160.024 237.963 Q162.107 239.097 164.329 239.653 Q166.552 240.208 169.028 240.208 Q173.033 240.208 175.371 238.102 Q177.709 235.995 177.709 232.384 Q177.709 228.773 175.371 226.667 Q173.033 224.56 169.028 224.56 Q167.153 224.56 165.278 224.977 Q163.427 225.394 161.482 226.273 L161.482 208.912 Z\" fill=\"#000000\" fill-rule=\"evenodd\" fill-opacity=\"1\" /><path clip-path=\"url(#clip240)\" d=\"M201.598 211.991 Q197.987 211.991 196.158 215.556 Q194.352 219.097 194.352 226.227 Q194.352 233.333 196.158 236.898 Q197.987 240.44 201.598 240.44 Q205.232 240.44 207.037 236.898 Q208.866 233.333 208.866 226.227 Q208.866 219.097 207.037 215.556 Q205.232 211.991 201.598 211.991 M201.598 208.287 Q207.408 208.287 210.463 212.894 Q213.542 217.477 213.542 226.227 Q213.542 234.954 210.463 239.56 Q207.408 244.144 201.598 244.144 Q195.787 244.144 192.709 239.56 Q189.653 234.954 189.653 226.227 Q189.653 217.477 192.709 212.894 Q195.787 208.287 201.598 208.287 Z\" fill=\"#000000\" fill-rule=\"evenodd\" fill-opacity=\"1\" /><path clip-path=\"url(#clip240)\" d=\"M127.2 151.207 Q123.589 151.207 121.76 154.772 Q119.955 158.313 119.955 165.443 Q119.955 172.549 121.76 176.114 Q123.589 179.656 127.2 179.656 Q130.834 179.656 132.64 176.114 Q134.468 172.549 134.468 165.443 Q134.468 158.313 132.64 154.772 Q130.834 151.207 127.2 151.207 M127.2 147.503 Q133.01 147.503 136.066 152.11 Q139.144 156.693 139.144 165.443 Q139.144 174.17 136.066 178.776 Q133.01 183.36 127.2 183.36 Q121.39 183.36 118.311 178.776 Q115.256 174.17 115.256 165.443 Q115.256 156.693 118.311 152.11 Q121.39 147.503 127.2 147.503 Z\" fill=\"#000000\" fill-rule=\"evenodd\" fill-opacity=\"1\" /><path clip-path=\"url(#clip240)\" d=\"M147.362 176.809 L152.246 176.809 L152.246 182.688 L147.362 182.688 L147.362 176.809 Z\" fill=\"#000000\" fill-rule=\"evenodd\" fill-opacity=\"1\" /><path clip-path=\"url(#clip240)\" d=\"M161.251 148.128 L183.473 148.128 L183.473 150.119 L170.927 182.688 L166.042 182.688 L177.848 152.063 L161.251 152.063 L161.251 148.128 Z\" fill=\"#000000\" fill-rule=\"evenodd\" fill-opacity=\"1\" /><path clip-path=\"url(#clip240)\" d=\"M192.639 148.128 L210.996 148.128 L210.996 152.063 L196.922 152.063 L196.922 160.536 Q197.94 160.188 198.959 160.026 Q199.977 159.841 200.996 159.841 Q206.783 159.841 210.162 163.012 Q213.542 166.184 213.542 171.6 Q213.542 177.179 210.07 180.281 Q206.598 183.36 200.278 183.36 Q198.102 183.36 195.834 182.989 Q193.588 182.619 191.181 181.878 L191.181 177.179 Q193.264 178.313 195.487 178.869 Q197.709 179.424 200.186 179.424 Q204.19 179.424 206.528 177.318 Q208.866 175.211 208.866 171.6 Q208.866 167.989 206.528 165.883 Q204.19 163.776 200.186 163.776 Q198.311 163.776 196.436 164.193 Q194.584 164.61 192.639 165.489 L192.639 148.128 Z\" fill=\"#000000\" fill-rule=\"evenodd\" fill-opacity=\"1\" /><path clip-path=\"url(#clip240)\" d=\"M117.015 117.969 L124.654 117.969 L124.654 91.6034 L116.343 93.2701 L116.343 89.0109 L124.607 87.3442 L129.283 87.3442 L129.283 117.969 L136.922 117.969 L136.922 121.904 L117.015 121.904 L117.015 117.969 Z\" fill=\"#000000\" fill-rule=\"evenodd\" fill-opacity=\"1\" /><path clip-path=\"url(#clip240)\" d=\"M146.366 116.025 L151.251 116.025 L151.251 121.904 L146.366 121.904 L146.366 116.025 Z\" fill=\"#000000\" fill-rule=\"evenodd\" fill-opacity=\"1\" /><path clip-path=\"url(#clip240)\" d=\"M171.436 90.4229 Q167.825 90.4229 165.996 93.9877 Q164.19 97.5293 164.19 104.659 Q164.19 111.765 165.996 115.33 Q167.825 118.872 171.436 118.872 Q175.07 118.872 176.876 115.33 Q178.704 111.765 178.704 104.659 Q178.704 97.5293 176.876 93.9877 Q175.07 90.4229 171.436 90.4229 M171.436 86.7192 Q177.246 86.7192 180.301 91.3257 Q183.38 95.909 183.38 104.659 Q183.38 113.386 180.301 117.992 Q177.246 122.575 171.436 122.575 Q165.626 122.575 162.547 117.992 Q159.491 113.386 159.491 104.659 Q159.491 95.909 162.547 91.3257 Q165.626 86.7192 171.436 86.7192 Z\" fill=\"#000000\" fill-rule=\"evenodd\" fill-opacity=\"1\" /><path clip-path=\"url(#clip240)\" d=\"M201.598 90.4229 Q197.987 90.4229 196.158 93.9877 Q194.352 97.5293 194.352 104.659 Q194.352 111.765 196.158 115.33 Q197.987 118.872 201.598 118.872 Q205.232 118.872 207.037 115.33 Q208.866 111.765 208.866 104.659 Q208.866 97.5293 207.037 93.9877 Q205.232 90.4229 201.598 90.4229 M201.598 86.7192 Q207.408 86.7192 210.463 91.3257 Q213.542 95.909 213.542 104.659 Q213.542 113.386 210.463 117.992 Q207.408 122.575 201.598 122.575 Q195.787 122.575 192.709 117.992 Q189.653 113.386 189.653 104.659 Q189.653 95.909 192.709 91.3257 Q195.787 86.7192 201.598 86.7192 Z\" fill=\"#000000\" fill-rule=\"evenodd\" fill-opacity=\"1\" /><path clip-path=\"url(#clip240)\" d=\"M67.3143 256.56 Q73.68 259.043 75.6216 261.398 Q77.5631 263.753 77.5631 267.7 L77.5631 272.379 L72.6615 272.379 L72.6615 268.941 Q72.6615 266.522 71.5157 265.186 Q70.3699 263.849 66.1048 262.226 L63.4312 261.175 L28.3562 275.594 L28.3562 269.387 L56.238 258.247 L28.3562 247.107 L28.3562 240.9 L67.3143 256.56 Z\" fill=\"#000000\" fill-rule=\"evenodd\" fill-opacity=\"1\" /><path clip-path=\"url(#clip240)\" d=\"M29.4065 210.09 L34.9447 210.09 Q33.6716 212.573 33.035 215.247 Q32.3984 217.92 32.3984 220.785 Q32.3984 225.145 33.7352 227.341 Q35.072 229.506 37.7456 229.506 Q39.7826 229.506 40.9603 227.946 Q42.1061 226.387 43.1565 221.676 L43.6021 219.671 Q44.9389 213.432 47.3897 210.822 Q49.8086 208.181 54.1691 208.181 Q59.1344 208.181 62.0308 212.127 Q64.9272 216.042 64.9272 222.917 Q64.9272 225.782 64.3543 228.901 Q63.8132 231.988 62.6992 235.426 L56.6518 235.426 Q58.3387 232.179 59.198 229.028 Q60.0256 225.877 60.0256 222.79 Q60.0256 218.652 58.6251 216.424 Q57.1929 214.196 54.6147 214.196 Q52.2276 214.196 50.9545 215.82 Q49.6813 217.411 48.5037 222.854 L48.0262 224.891 Q46.8804 230.333 44.5251 232.752 Q42.138 235.171 38.0002 235.171 Q32.9713 235.171 30.2341 231.606 Q27.4968 228.042 27.4968 221.485 Q27.4968 218.239 27.9743 215.374 Q28.4517 212.509 29.4065 210.09 Z\" fill=\"#000000\" fill-rule=\"evenodd\" fill-opacity=\"1\" /><path clip-path=\"url(#clip240)\" d=\"M58.657 193.189 L77.5631 193.189 L77.5631 199.078 L28.3562 199.078 L28.3562 193.189 L33.7671 193.189 Q30.5842 191.343 29.0564 188.542 Q27.4968 185.71 27.4968 181.795 Q27.4968 175.302 32.6531 171.26 Q37.8093 167.186 46.212 167.186 Q54.6147 167.186 59.771 171.26 Q64.9272 175.302 64.9272 181.795 Q64.9272 185.71 63.3994 188.542 Q61.8398 191.343 58.657 193.189 M46.212 173.265 Q39.7508 173.265 36.0905 175.938 Q32.3984 178.58 32.3984 183.227 Q32.3984 187.874 36.0905 190.548 Q39.7508 193.189 46.212 193.189 Q52.6732 193.189 56.3653 190.548 Q60.0256 187.874 60.0256 183.227 Q60.0256 178.58 56.3653 175.938 Q52.6732 173.265 46.212 173.265 Z\" fill=\"#000000\" fill-rule=\"evenodd\" fill-opacity=\"1\" /><path clip-path=\"url(#clip240)\" d=\"M58.5933 155.536 L58.5933 145.033 L22.3406 145.033 L24.6323 156.459 L18.7758 156.459 L16.4842 145.097 L16.4842 138.667 L58.5933 138.667 L58.5933 128.164 L64.0042 128.164 L64.0042 155.536 L58.5933 155.536 Z\" fill=\"#000000\" fill-rule=\"evenodd\" fill-opacity=\"1\" /><polyline clip-path=\"url(#clip242)\" style=\"stroke:#000000; stroke-linecap:round; stroke-linejoin:round; stroke-width:4; stroke-opacity:1; fill:none\" stroke-dasharray=\"2, 4\" points=\"309.067,55.997 385.381,55.997 461.695,55.997 538.009,55.997 614.323,55.997 690.637,55.997 766.951,55.997 843.265,55.997 919.579,55.997 995.893,55.997 1072.21,55.997 1148.52,55.997 1224.83,55.997 1301.15,55.997 1377.46,55.997 1453.78,55.997 1530.09,55.997 1606.4,55.997 1682.72,55.997 1759.03,55.997 1835.35,55.997 1911.66,55.997 1987.97,55.997 2064.29,55.997 2140.6,55.997 2216.92,55.997 2293.23,55.997 \"/>\n",
       "<line clip-path=\"url(#clip242)\" x1=\"309.067\" y1=\"55.9971\" x2=\"309.067\" y2=\"39.9971\" style=\"stroke:#009af9; stroke-width:3.2; stroke-opacity:1\"/>\n",
       "<line clip-path=\"url(#clip242)\" x1=\"309.067\" y1=\"55.9971\" x2=\"293.067\" y2=\"55.9971\" style=\"stroke:#009af9; stroke-width:3.2; stroke-opacity:1\"/>\n",
       "<line clip-path=\"url(#clip242)\" x1=\"309.067\" y1=\"55.9971\" x2=\"309.067\" y2=\"71.9971\" style=\"stroke:#009af9; stroke-width:3.2; stroke-opacity:1\"/>\n",
       "<line clip-path=\"url(#clip242)\" x1=\"309.067\" y1=\"55.9971\" x2=\"325.067\" y2=\"55.9971\" style=\"stroke:#009af9; stroke-width:3.2; stroke-opacity:1\"/>\n",
       "<line clip-path=\"url(#clip242)\" x1=\"385.381\" y1=\"55.997\" x2=\"385.381\" y2=\"39.997\" style=\"stroke:#009af9; stroke-width:3.2; stroke-opacity:1\"/>\n",
       "<line clip-path=\"url(#clip242)\" x1=\"385.381\" y1=\"55.997\" x2=\"369.381\" y2=\"55.997\" style=\"stroke:#009af9; stroke-width:3.2; stroke-opacity:1\"/>\n",
       "<line clip-path=\"url(#clip242)\" x1=\"385.381\" y1=\"55.997\" x2=\"385.381\" y2=\"71.997\" style=\"stroke:#009af9; stroke-width:3.2; stroke-opacity:1\"/>\n",
       "<line clip-path=\"url(#clip242)\" x1=\"385.381\" y1=\"55.997\" x2=\"401.381\" y2=\"55.997\" style=\"stroke:#009af9; stroke-width:3.2; stroke-opacity:1\"/>\n",
       "<line clip-path=\"url(#clip242)\" x1=\"461.695\" y1=\"55.997\" x2=\"461.695\" y2=\"39.997\" style=\"stroke:#009af9; stroke-width:3.2; stroke-opacity:1\"/>\n",
       "<line clip-path=\"url(#clip242)\" x1=\"461.695\" y1=\"55.997\" x2=\"445.695\" y2=\"55.997\" style=\"stroke:#009af9; stroke-width:3.2; stroke-opacity:1\"/>\n",
       "<line clip-path=\"url(#clip242)\" x1=\"461.695\" y1=\"55.997\" x2=\"461.695\" y2=\"71.997\" style=\"stroke:#009af9; stroke-width:3.2; stroke-opacity:1\"/>\n",
       "<line clip-path=\"url(#clip242)\" x1=\"461.695\" y1=\"55.997\" x2=\"477.695\" y2=\"55.997\" style=\"stroke:#009af9; stroke-width:3.2; stroke-opacity:1\"/>\n",
       "<line clip-path=\"url(#clip242)\" x1=\"538.009\" y1=\"55.997\" x2=\"538.009\" y2=\"39.997\" style=\"stroke:#009af9; stroke-width:3.2; stroke-opacity:1\"/>\n",
       "<line clip-path=\"url(#clip242)\" x1=\"538.009\" y1=\"55.997\" x2=\"522.009\" y2=\"55.997\" style=\"stroke:#009af9; stroke-width:3.2; stroke-opacity:1\"/>\n",
       "<line clip-path=\"url(#clip242)\" x1=\"538.009\" y1=\"55.997\" x2=\"538.009\" y2=\"71.997\" style=\"stroke:#009af9; stroke-width:3.2; stroke-opacity:1\"/>\n",
       "<line clip-path=\"url(#clip242)\" x1=\"538.009\" y1=\"55.997\" x2=\"554.009\" y2=\"55.997\" style=\"stroke:#009af9; stroke-width:3.2; stroke-opacity:1\"/>\n",
       "<line clip-path=\"url(#clip242)\" x1=\"614.323\" y1=\"55.997\" x2=\"614.323\" y2=\"39.997\" style=\"stroke:#009af9; stroke-width:3.2; stroke-opacity:1\"/>\n",
       "<line clip-path=\"url(#clip242)\" x1=\"614.323\" y1=\"55.997\" x2=\"598.323\" y2=\"55.997\" style=\"stroke:#009af9; stroke-width:3.2; stroke-opacity:1\"/>\n",
       "<line clip-path=\"url(#clip242)\" x1=\"614.323\" y1=\"55.997\" x2=\"614.323\" y2=\"71.997\" style=\"stroke:#009af9; stroke-width:3.2; stroke-opacity:1\"/>\n",
       "<line clip-path=\"url(#clip242)\" x1=\"614.323\" y1=\"55.997\" x2=\"630.323\" y2=\"55.997\" style=\"stroke:#009af9; stroke-width:3.2; stroke-opacity:1\"/>\n",
       "<line clip-path=\"url(#clip242)\" x1=\"690.637\" y1=\"55.997\" x2=\"690.637\" y2=\"39.997\" style=\"stroke:#009af9; stroke-width:3.2; stroke-opacity:1\"/>\n",
       "<line clip-path=\"url(#clip242)\" x1=\"690.637\" y1=\"55.997\" x2=\"674.637\" y2=\"55.997\" style=\"stroke:#009af9; stroke-width:3.2; stroke-opacity:1\"/>\n",
       "<line clip-path=\"url(#clip242)\" x1=\"690.637\" y1=\"55.997\" x2=\"690.637\" y2=\"71.997\" style=\"stroke:#009af9; stroke-width:3.2; stroke-opacity:1\"/>\n",
       "<line clip-path=\"url(#clip242)\" x1=\"690.637\" y1=\"55.997\" x2=\"706.637\" y2=\"55.997\" style=\"stroke:#009af9; stroke-width:3.2; stroke-opacity:1\"/>\n",
       "<line clip-path=\"url(#clip242)\" x1=\"766.951\" y1=\"55.997\" x2=\"766.951\" y2=\"39.997\" style=\"stroke:#009af9; stroke-width:3.2; stroke-opacity:1\"/>\n",
       "<line clip-path=\"url(#clip242)\" x1=\"766.951\" y1=\"55.997\" x2=\"750.951\" y2=\"55.997\" style=\"stroke:#009af9; stroke-width:3.2; stroke-opacity:1\"/>\n",
       "<line clip-path=\"url(#clip242)\" x1=\"766.951\" y1=\"55.997\" x2=\"766.951\" y2=\"71.997\" style=\"stroke:#009af9; stroke-width:3.2; stroke-opacity:1\"/>\n",
       "<line clip-path=\"url(#clip242)\" x1=\"766.951\" y1=\"55.997\" x2=\"782.951\" y2=\"55.997\" style=\"stroke:#009af9; stroke-width:3.2; stroke-opacity:1\"/>\n",
       "<line clip-path=\"url(#clip242)\" x1=\"843.265\" y1=\"55.997\" x2=\"843.265\" y2=\"39.997\" style=\"stroke:#009af9; stroke-width:3.2; stroke-opacity:1\"/>\n",
       "<line clip-path=\"url(#clip242)\" x1=\"843.265\" y1=\"55.997\" x2=\"827.265\" y2=\"55.997\" style=\"stroke:#009af9; stroke-width:3.2; stroke-opacity:1\"/>\n",
       "<line clip-path=\"url(#clip242)\" x1=\"843.265\" y1=\"55.997\" x2=\"843.265\" y2=\"71.997\" style=\"stroke:#009af9; stroke-width:3.2; stroke-opacity:1\"/>\n",
       "<line clip-path=\"url(#clip242)\" x1=\"843.265\" y1=\"55.997\" x2=\"859.265\" y2=\"55.997\" style=\"stroke:#009af9; stroke-width:3.2; stroke-opacity:1\"/>\n",
       "<line clip-path=\"url(#clip242)\" x1=\"919.579\" y1=\"55.997\" x2=\"919.579\" y2=\"39.997\" style=\"stroke:#009af9; stroke-width:3.2; stroke-opacity:1\"/>\n",
       "<line clip-path=\"url(#clip242)\" x1=\"919.579\" y1=\"55.997\" x2=\"903.579\" y2=\"55.997\" style=\"stroke:#009af9; stroke-width:3.2; stroke-opacity:1\"/>\n",
       "<line clip-path=\"url(#clip242)\" x1=\"919.579\" y1=\"55.997\" x2=\"919.579\" y2=\"71.997\" style=\"stroke:#009af9; stroke-width:3.2; stroke-opacity:1\"/>\n",
       "<line clip-path=\"url(#clip242)\" x1=\"919.579\" y1=\"55.997\" x2=\"935.579\" y2=\"55.997\" style=\"stroke:#009af9; stroke-width:3.2; stroke-opacity:1\"/>\n",
       "<line clip-path=\"url(#clip242)\" x1=\"995.893\" y1=\"55.997\" x2=\"995.893\" y2=\"39.997\" style=\"stroke:#009af9; stroke-width:3.2; stroke-opacity:1\"/>\n",
       "<line clip-path=\"url(#clip242)\" x1=\"995.893\" y1=\"55.997\" x2=\"979.893\" y2=\"55.997\" style=\"stroke:#009af9; stroke-width:3.2; stroke-opacity:1\"/>\n",
       "<line clip-path=\"url(#clip242)\" x1=\"995.893\" y1=\"55.997\" x2=\"995.893\" y2=\"71.997\" style=\"stroke:#009af9; stroke-width:3.2; stroke-opacity:1\"/>\n",
       "<line clip-path=\"url(#clip242)\" x1=\"995.893\" y1=\"55.997\" x2=\"1011.89\" y2=\"55.997\" style=\"stroke:#009af9; stroke-width:3.2; stroke-opacity:1\"/>\n",
       "<line clip-path=\"url(#clip242)\" x1=\"1072.21\" y1=\"55.9972\" x2=\"1072.21\" y2=\"39.9972\" style=\"stroke:#009af9; stroke-width:3.2; stroke-opacity:1\"/>\n",
       "<line clip-path=\"url(#clip242)\" x1=\"1072.21\" y1=\"55.9972\" x2=\"1056.21\" y2=\"55.9972\" style=\"stroke:#009af9; stroke-width:3.2; stroke-opacity:1\"/>\n",
       "<line clip-path=\"url(#clip242)\" x1=\"1072.21\" y1=\"55.9972\" x2=\"1072.21\" y2=\"71.9972\" style=\"stroke:#009af9; stroke-width:3.2; stroke-opacity:1\"/>\n",
       "<line clip-path=\"url(#clip242)\" x1=\"1072.21\" y1=\"55.9972\" x2=\"1088.21\" y2=\"55.9972\" style=\"stroke:#009af9; stroke-width:3.2; stroke-opacity:1\"/>\n",
       "<line clip-path=\"url(#clip242)\" x1=\"1148.52\" y1=\"206.702\" x2=\"1148.52\" y2=\"190.702\" style=\"stroke:#009af9; stroke-width:3.2; stroke-opacity:1\"/>\n",
       "<line clip-path=\"url(#clip242)\" x1=\"1148.52\" y1=\"206.702\" x2=\"1132.52\" y2=\"206.702\" style=\"stroke:#009af9; stroke-width:3.2; stroke-opacity:1\"/>\n",
       "<line clip-path=\"url(#clip242)\" x1=\"1148.52\" y1=\"206.702\" x2=\"1148.52\" y2=\"222.702\" style=\"stroke:#009af9; stroke-width:3.2; stroke-opacity:1\"/>\n",
       "<line clip-path=\"url(#clip242)\" x1=\"1148.52\" y1=\"206.702\" x2=\"1164.52\" y2=\"206.702\" style=\"stroke:#009af9; stroke-width:3.2; stroke-opacity:1\"/>\n",
       "<line clip-path=\"url(#clip242)\" x1=\"1224.83\" y1=\"318.734\" x2=\"1224.83\" y2=\"302.734\" style=\"stroke:#009af9; stroke-width:3.2; stroke-opacity:1\"/>\n",
       "<line clip-path=\"url(#clip242)\" x1=\"1224.83\" y1=\"318.734\" x2=\"1208.83\" y2=\"318.734\" style=\"stroke:#009af9; stroke-width:3.2; stroke-opacity:1\"/>\n",
       "<line clip-path=\"url(#clip242)\" x1=\"1224.83\" y1=\"318.734\" x2=\"1224.83\" y2=\"334.734\" style=\"stroke:#009af9; stroke-width:3.2; stroke-opacity:1\"/>\n",
       "<line clip-path=\"url(#clip242)\" x1=\"1224.83\" y1=\"318.734\" x2=\"1240.83\" y2=\"318.734\" style=\"stroke:#009af9; stroke-width:3.2; stroke-opacity:1\"/>\n",
       "<line clip-path=\"url(#clip242)\" x1=\"1301.15\" y1=\"55.9979\" x2=\"1301.15\" y2=\"39.9979\" style=\"stroke:#009af9; stroke-width:3.2; stroke-opacity:1\"/>\n",
       "<line clip-path=\"url(#clip242)\" x1=\"1301.15\" y1=\"55.9979\" x2=\"1285.15\" y2=\"55.9979\" style=\"stroke:#009af9; stroke-width:3.2; stroke-opacity:1\"/>\n",
       "<line clip-path=\"url(#clip242)\" x1=\"1301.15\" y1=\"55.9979\" x2=\"1301.15\" y2=\"71.9979\" style=\"stroke:#009af9; stroke-width:3.2; stroke-opacity:1\"/>\n",
       "<line clip-path=\"url(#clip242)\" x1=\"1301.15\" y1=\"55.9979\" x2=\"1317.15\" y2=\"55.9979\" style=\"stroke:#009af9; stroke-width:3.2; stroke-opacity:1\"/>\n",
       "<line clip-path=\"url(#clip242)\" x1=\"1377.46\" y1=\"55.9975\" x2=\"1377.46\" y2=\"39.9975\" style=\"stroke:#009af9; stroke-width:3.2; stroke-opacity:1\"/>\n",
       "<line clip-path=\"url(#clip242)\" x1=\"1377.46\" y1=\"55.9975\" x2=\"1361.46\" y2=\"55.9975\" style=\"stroke:#009af9; stroke-width:3.2; stroke-opacity:1\"/>\n",
       "<line clip-path=\"url(#clip242)\" x1=\"1377.46\" y1=\"55.9975\" x2=\"1377.46\" y2=\"71.9975\" style=\"stroke:#009af9; stroke-width:3.2; stroke-opacity:1\"/>\n",
       "<line clip-path=\"url(#clip242)\" x1=\"1377.46\" y1=\"55.9975\" x2=\"1393.46\" y2=\"55.9975\" style=\"stroke:#009af9; stroke-width:3.2; stroke-opacity:1\"/>\n",
       "<line clip-path=\"url(#clip242)\" x1=\"1453.78\" y1=\"55.9976\" x2=\"1453.78\" y2=\"39.9976\" style=\"stroke:#009af9; stroke-width:3.2; stroke-opacity:1\"/>\n",
       "<line clip-path=\"url(#clip242)\" x1=\"1453.78\" y1=\"55.9976\" x2=\"1437.78\" y2=\"55.9976\" style=\"stroke:#009af9; stroke-width:3.2; stroke-opacity:1\"/>\n",
       "<line clip-path=\"url(#clip242)\" x1=\"1453.78\" y1=\"55.9976\" x2=\"1453.78\" y2=\"71.9976\" style=\"stroke:#009af9; stroke-width:3.2; stroke-opacity:1\"/>\n",
       "<line clip-path=\"url(#clip242)\" x1=\"1453.78\" y1=\"55.9976\" x2=\"1469.78\" y2=\"55.9976\" style=\"stroke:#009af9; stroke-width:3.2; stroke-opacity:1\"/>\n",
       "<line clip-path=\"url(#clip242)\" x1=\"1530.09\" y1=\"55.9981\" x2=\"1530.09\" y2=\"39.9981\" style=\"stroke:#009af9; stroke-width:3.2; stroke-opacity:1\"/>\n",
       "<line clip-path=\"url(#clip242)\" x1=\"1530.09\" y1=\"55.9981\" x2=\"1514.09\" y2=\"55.9981\" style=\"stroke:#009af9; stroke-width:3.2; stroke-opacity:1\"/>\n",
       "<line clip-path=\"url(#clip242)\" x1=\"1530.09\" y1=\"55.9981\" x2=\"1530.09\" y2=\"71.9981\" style=\"stroke:#009af9; stroke-width:3.2; stroke-opacity:1\"/>\n",
       "<line clip-path=\"url(#clip242)\" x1=\"1530.09\" y1=\"55.9981\" x2=\"1546.09\" y2=\"55.9981\" style=\"stroke:#009af9; stroke-width:3.2; stroke-opacity:1\"/>\n",
       "<line clip-path=\"url(#clip242)\" x1=\"1606.4\" y1=\"56.0002\" x2=\"1606.4\" y2=\"40.0002\" style=\"stroke:#009af9; stroke-width:3.2; stroke-opacity:1\"/>\n",
       "<line clip-path=\"url(#clip242)\" x1=\"1606.4\" y1=\"56.0002\" x2=\"1590.4\" y2=\"56.0002\" style=\"stroke:#009af9; stroke-width:3.2; stroke-opacity:1\"/>\n",
       "<line clip-path=\"url(#clip242)\" x1=\"1606.4\" y1=\"56.0002\" x2=\"1606.4\" y2=\"72.0002\" style=\"stroke:#009af9; stroke-width:3.2; stroke-opacity:1\"/>\n",
       "<line clip-path=\"url(#clip242)\" x1=\"1606.4\" y1=\"56.0002\" x2=\"1622.4\" y2=\"56.0002\" style=\"stroke:#009af9; stroke-width:3.2; stroke-opacity:1\"/>\n",
       "<line clip-path=\"url(#clip242)\" x1=\"1682.72\" y1=\"61.0236\" x2=\"1682.72\" y2=\"45.0236\" style=\"stroke:#009af9; stroke-width:3.2; stroke-opacity:1\"/>\n",
       "<line clip-path=\"url(#clip242)\" x1=\"1682.72\" y1=\"61.0236\" x2=\"1666.72\" y2=\"61.0236\" style=\"stroke:#009af9; stroke-width:3.2; stroke-opacity:1\"/>\n",
       "<line clip-path=\"url(#clip242)\" x1=\"1682.72\" y1=\"61.0236\" x2=\"1682.72\" y2=\"77.0236\" style=\"stroke:#009af9; stroke-width:3.2; stroke-opacity:1\"/>\n",
       "<line clip-path=\"url(#clip242)\" x1=\"1682.72\" y1=\"61.0236\" x2=\"1698.72\" y2=\"61.0236\" style=\"stroke:#009af9; stroke-width:3.2; stroke-opacity:1\"/>\n",
       "<line clip-path=\"url(#clip242)\" x1=\"1759.03\" y1=\"347.736\" x2=\"1759.03\" y2=\"331.736\" style=\"stroke:#009af9; stroke-width:3.2; stroke-opacity:1\"/>\n",
       "<line clip-path=\"url(#clip242)\" x1=\"1759.03\" y1=\"347.736\" x2=\"1743.03\" y2=\"347.736\" style=\"stroke:#009af9; stroke-width:3.2; stroke-opacity:1\"/>\n",
       "<line clip-path=\"url(#clip242)\" x1=\"1759.03\" y1=\"347.736\" x2=\"1759.03\" y2=\"363.736\" style=\"stroke:#009af9; stroke-width:3.2; stroke-opacity:1\"/>\n",
       "<line clip-path=\"url(#clip242)\" x1=\"1759.03\" y1=\"347.736\" x2=\"1775.03\" y2=\"347.736\" style=\"stroke:#009af9; stroke-width:3.2; stroke-opacity:1\"/>\n",
       "<line clip-path=\"url(#clip242)\" x1=\"1835.35\" y1=\"79.1327\" x2=\"1835.35\" y2=\"63.1327\" style=\"stroke:#009af9; stroke-width:3.2; stroke-opacity:1\"/>\n",
       "<line clip-path=\"url(#clip242)\" x1=\"1835.35\" y1=\"79.1327\" x2=\"1819.35\" y2=\"79.1327\" style=\"stroke:#009af9; stroke-width:3.2; stroke-opacity:1\"/>\n",
       "<line clip-path=\"url(#clip242)\" x1=\"1835.35\" y1=\"79.1327\" x2=\"1835.35\" y2=\"95.1327\" style=\"stroke:#009af9; stroke-width:3.2; stroke-opacity:1\"/>\n",
       "<line clip-path=\"url(#clip242)\" x1=\"1835.35\" y1=\"79.1327\" x2=\"1851.35\" y2=\"79.1327\" style=\"stroke:#009af9; stroke-width:3.2; stroke-opacity:1\"/>\n",
       "<line clip-path=\"url(#clip242)\" x1=\"1911.66\" y1=\"56.0612\" x2=\"1911.66\" y2=\"40.0612\" style=\"stroke:#009af9; stroke-width:3.2; stroke-opacity:1\"/>\n",
       "<line clip-path=\"url(#clip242)\" x1=\"1911.66\" y1=\"56.0612\" x2=\"1895.66\" y2=\"56.0612\" style=\"stroke:#009af9; stroke-width:3.2; stroke-opacity:1\"/>\n",
       "<line clip-path=\"url(#clip242)\" x1=\"1911.66\" y1=\"56.0612\" x2=\"1911.66\" y2=\"72.0612\" style=\"stroke:#009af9; stroke-width:3.2; stroke-opacity:1\"/>\n",
       "<line clip-path=\"url(#clip242)\" x1=\"1911.66\" y1=\"56.0612\" x2=\"1927.66\" y2=\"56.0612\" style=\"stroke:#009af9; stroke-width:3.2; stroke-opacity:1\"/>\n",
       "<line clip-path=\"url(#clip242)\" x1=\"1987.97\" y1=\"56.14\" x2=\"1987.97\" y2=\"40.14\" style=\"stroke:#009af9; stroke-width:3.2; stroke-opacity:1\"/>\n",
       "<line clip-path=\"url(#clip242)\" x1=\"1987.97\" y1=\"56.14\" x2=\"1971.97\" y2=\"56.14\" style=\"stroke:#009af9; stroke-width:3.2; stroke-opacity:1\"/>\n",
       "<line clip-path=\"url(#clip242)\" x1=\"1987.97\" y1=\"56.14\" x2=\"1987.97\" y2=\"72.14\" style=\"stroke:#009af9; stroke-width:3.2; stroke-opacity:1\"/>\n",
       "<line clip-path=\"url(#clip242)\" x1=\"1987.97\" y1=\"56.14\" x2=\"2003.97\" y2=\"56.14\" style=\"stroke:#009af9; stroke-width:3.2; stroke-opacity:1\"/>\n",
       "<line clip-path=\"url(#clip242)\" x1=\"2064.29\" y1=\"68.6393\" x2=\"2064.29\" y2=\"52.6393\" style=\"stroke:#009af9; stroke-width:3.2; stroke-opacity:1\"/>\n",
       "<line clip-path=\"url(#clip242)\" x1=\"2064.29\" y1=\"68.6393\" x2=\"2048.29\" y2=\"68.6393\" style=\"stroke:#009af9; stroke-width:3.2; stroke-opacity:1\"/>\n",
       "<line clip-path=\"url(#clip242)\" x1=\"2064.29\" y1=\"68.6393\" x2=\"2064.29\" y2=\"84.6393\" style=\"stroke:#009af9; stroke-width:3.2; stroke-opacity:1\"/>\n",
       "<line clip-path=\"url(#clip242)\" x1=\"2064.29\" y1=\"68.6393\" x2=\"2080.29\" y2=\"68.6393\" style=\"stroke:#009af9; stroke-width:3.2; stroke-opacity:1\"/>\n",
       "<line clip-path=\"url(#clip242)\" x1=\"2140.6\" y1=\"134.384\" x2=\"2140.6\" y2=\"118.384\" style=\"stroke:#009af9; stroke-width:3.2; stroke-opacity:1\"/>\n",
       "<line clip-path=\"url(#clip242)\" x1=\"2140.6\" y1=\"134.384\" x2=\"2124.6\" y2=\"134.384\" style=\"stroke:#009af9; stroke-width:3.2; stroke-opacity:1\"/>\n",
       "<line clip-path=\"url(#clip242)\" x1=\"2140.6\" y1=\"134.384\" x2=\"2140.6\" y2=\"150.384\" style=\"stroke:#009af9; stroke-width:3.2; stroke-opacity:1\"/>\n",
       "<line clip-path=\"url(#clip242)\" x1=\"2140.6\" y1=\"134.384\" x2=\"2156.6\" y2=\"134.384\" style=\"stroke:#009af9; stroke-width:3.2; stroke-opacity:1\"/>\n",
       "<line clip-path=\"url(#clip242)\" x1=\"2216.92\" y1=\"86.6059\" x2=\"2216.92\" y2=\"70.6059\" style=\"stroke:#009af9; stroke-width:3.2; stroke-opacity:1\"/>\n",
       "<line clip-path=\"url(#clip242)\" x1=\"2216.92\" y1=\"86.6059\" x2=\"2200.92\" y2=\"86.6059\" style=\"stroke:#009af9; stroke-width:3.2; stroke-opacity:1\"/>\n",
       "<line clip-path=\"url(#clip242)\" x1=\"2216.92\" y1=\"86.6059\" x2=\"2216.92\" y2=\"102.606\" style=\"stroke:#009af9; stroke-width:3.2; stroke-opacity:1\"/>\n",
       "<line clip-path=\"url(#clip242)\" x1=\"2216.92\" y1=\"86.6059\" x2=\"2232.92\" y2=\"86.6059\" style=\"stroke:#009af9; stroke-width:3.2; stroke-opacity:1\"/>\n",
       "<line clip-path=\"url(#clip242)\" x1=\"2293.23\" y1=\"162.487\" x2=\"2293.23\" y2=\"146.487\" style=\"stroke:#009af9; stroke-width:3.2; stroke-opacity:1\"/>\n",
       "<line clip-path=\"url(#clip242)\" x1=\"2293.23\" y1=\"162.487\" x2=\"2277.23\" y2=\"162.487\" style=\"stroke:#009af9; stroke-width:3.2; stroke-opacity:1\"/>\n",
       "<line clip-path=\"url(#clip242)\" x1=\"2293.23\" y1=\"162.487\" x2=\"2293.23\" y2=\"178.487\" style=\"stroke:#009af9; stroke-width:3.2; stroke-opacity:1\"/>\n",
       "<line clip-path=\"url(#clip242)\" x1=\"2293.23\" y1=\"162.487\" x2=\"2309.23\" y2=\"162.487\" style=\"stroke:#009af9; stroke-width:3.2; stroke-opacity:1\"/>\n",
       "<polyline clip-path=\"url(#clip242)\" style=\"stroke:#ff0000; stroke-linecap:round; stroke-linejoin:round; stroke-width:20; stroke-opacity:0.3; fill:none\" points=\"309.067,55.9971 309.067,55.997 385.381,55.997 385.381,55.997 461.695,55.997 461.695,55.997 538.009,55.997 538.009,55.997 614.323,55.997 614.323,55.997 690.637,55.997 690.637,55.997 766.951,55.997 766.951,55.997 843.265,55.997 843.265,55.997 919.579,55.997 919.579,55.997 995.893,55.997 995.893,55.9972 1072.21,55.9972 1072.21,206.702 1148.52,206.702 1148.52,318.734 1224.83,318.734 1224.83,55.9979 1301.15,55.9979 1301.15,55.9975 1377.46,55.9975 1377.46,55.9976 1453.78,55.9976 1453.78,55.9981 1530.09,55.9981 1530.09,56.0002 1606.4,56.0002 1606.4,61.0236 1682.72,61.0236 1682.72,347.736 1759.03,347.736 1759.03,79.1327 1835.35,79.1327 1835.35,56.0612 1911.66,56.0612 1911.66,56.14 1987.97,56.14 1987.97,68.6393 2064.29,68.6393 2064.29,134.384 2140.6,134.384 2140.6,86.6059 2216.92,86.6059 2216.92,162.487 2293.23,162.487 \"/>\n",
       "<circle clip-path=\"url(#clip242)\" cx=\"309.067\" cy=\"55.997\" r=\"14.4\" fill=\"#e26f46\" fill-rule=\"evenodd\" fill-opacity=\"1\" stroke=\"#000000\" stroke-opacity=\"1\" stroke-width=\"3.2\"/>\n",
       "<circle clip-path=\"url(#clip242)\" cx=\"385.381\" cy=\"55.997\" r=\"14.4\" fill=\"#e26f46\" fill-rule=\"evenodd\" fill-opacity=\"1\" stroke=\"#000000\" stroke-opacity=\"1\" stroke-width=\"3.2\"/>\n",
       "<circle clip-path=\"url(#clip242)\" cx=\"461.695\" cy=\"55.997\" r=\"14.4\" fill=\"#e26f46\" fill-rule=\"evenodd\" fill-opacity=\"1\" stroke=\"#000000\" stroke-opacity=\"1\" stroke-width=\"3.2\"/>\n",
       "<circle clip-path=\"url(#clip242)\" cx=\"538.009\" cy=\"55.997\" r=\"14.4\" fill=\"#e26f46\" fill-rule=\"evenodd\" fill-opacity=\"1\" stroke=\"#000000\" stroke-opacity=\"1\" stroke-width=\"3.2\"/>\n",
       "<circle clip-path=\"url(#clip242)\" cx=\"614.323\" cy=\"55.997\" r=\"14.4\" fill=\"#e26f46\" fill-rule=\"evenodd\" fill-opacity=\"1\" stroke=\"#000000\" stroke-opacity=\"1\" stroke-width=\"3.2\"/>\n",
       "<circle clip-path=\"url(#clip242)\" cx=\"690.637\" cy=\"55.997\" r=\"14.4\" fill=\"#e26f46\" fill-rule=\"evenodd\" fill-opacity=\"1\" stroke=\"#000000\" stroke-opacity=\"1\" stroke-width=\"3.2\"/>\n",
       "<circle clip-path=\"url(#clip242)\" cx=\"766.951\" cy=\"55.997\" r=\"14.4\" fill=\"#e26f46\" fill-rule=\"evenodd\" fill-opacity=\"1\" stroke=\"#000000\" stroke-opacity=\"1\" stroke-width=\"3.2\"/>\n",
       "<circle clip-path=\"url(#clip242)\" cx=\"843.265\" cy=\"55.997\" r=\"14.4\" fill=\"#e26f46\" fill-rule=\"evenodd\" fill-opacity=\"1\" stroke=\"#000000\" stroke-opacity=\"1\" stroke-width=\"3.2\"/>\n",
       "<circle clip-path=\"url(#clip242)\" cx=\"919.579\" cy=\"55.997\" r=\"14.4\" fill=\"#e26f46\" fill-rule=\"evenodd\" fill-opacity=\"1\" stroke=\"#000000\" stroke-opacity=\"1\" stroke-width=\"3.2\"/>\n",
       "<circle clip-path=\"url(#clip242)\" cx=\"995.893\" cy=\"55.997\" r=\"14.4\" fill=\"#e26f46\" fill-rule=\"evenodd\" fill-opacity=\"1\" stroke=\"#000000\" stroke-opacity=\"1\" stroke-width=\"3.2\"/>\n",
       "<circle clip-path=\"url(#clip242)\" cx=\"1072.21\" cy=\"55.997\" r=\"14.4\" fill=\"#e26f46\" fill-rule=\"evenodd\" fill-opacity=\"1\" stroke=\"#000000\" stroke-opacity=\"1\" stroke-width=\"3.2\"/>\n",
       "<circle clip-path=\"url(#clip242)\" cx=\"1148.52\" cy=\"206.587\" r=\"14.4\" fill=\"#e26f46\" fill-rule=\"evenodd\" fill-opacity=\"1\" stroke=\"#000000\" stroke-opacity=\"1\" stroke-width=\"3.2\"/>\n",
       "<circle clip-path=\"url(#clip242)\" cx=\"1224.83\" cy=\"318.892\" r=\"14.4\" fill=\"#e26f46\" fill-rule=\"evenodd\" fill-opacity=\"1\" stroke=\"#000000\" stroke-opacity=\"1\" stroke-width=\"3.2\"/>\n",
       "<circle clip-path=\"url(#clip242)\" cx=\"1301.15\" cy=\"55.997\" r=\"14.4\" fill=\"#e26f46\" fill-rule=\"evenodd\" fill-opacity=\"1\" stroke=\"#000000\" stroke-opacity=\"1\" stroke-width=\"3.2\"/>\n",
       "<circle clip-path=\"url(#clip242)\" cx=\"1377.46\" cy=\"55.997\" r=\"14.4\" fill=\"#e26f46\" fill-rule=\"evenodd\" fill-opacity=\"1\" stroke=\"#000000\" stroke-opacity=\"1\" stroke-width=\"3.2\"/>\n",
       "<circle clip-path=\"url(#clip242)\" cx=\"1453.78\" cy=\"55.997\" r=\"14.4\" fill=\"#e26f46\" fill-rule=\"evenodd\" fill-opacity=\"1\" stroke=\"#000000\" stroke-opacity=\"1\" stroke-width=\"3.2\"/>\n",
       "<circle clip-path=\"url(#clip242)\" cx=\"1530.09\" cy=\"55.997\" r=\"14.4\" fill=\"#e26f46\" fill-rule=\"evenodd\" fill-opacity=\"1\" stroke=\"#000000\" stroke-opacity=\"1\" stroke-width=\"3.2\"/>\n",
       "<circle clip-path=\"url(#clip242)\" cx=\"1606.4\" cy=\"55.997\" r=\"14.4\" fill=\"#e26f46\" fill-rule=\"evenodd\" fill-opacity=\"1\" stroke=\"#000000\" stroke-opacity=\"1\" stroke-width=\"3.2\"/>\n",
       "<circle clip-path=\"url(#clip242)\" cx=\"1682.72\" cy=\"60.5511\" r=\"14.4\" fill=\"#e26f46\" fill-rule=\"evenodd\" fill-opacity=\"1\" stroke=\"#000000\" stroke-opacity=\"1\" stroke-width=\"3.2\"/>\n",
       "<circle clip-path=\"url(#clip242)\" cx=\"1759.03\" cy=\"347.76\" r=\"14.4\" fill=\"#e26f46\" fill-rule=\"evenodd\" fill-opacity=\"1\" stroke=\"#000000\" stroke-opacity=\"1\" stroke-width=\"3.2\"/>\n",
       "<circle clip-path=\"url(#clip242)\" cx=\"1835.35\" cy=\"80.4261\" r=\"14.4\" fill=\"#e26f46\" fill-rule=\"evenodd\" fill-opacity=\"1\" stroke=\"#000000\" stroke-opacity=\"1\" stroke-width=\"3.2\"/>\n",
       "<circle clip-path=\"url(#clip242)\" cx=\"1911.66\" cy=\"55.997\" r=\"14.4\" fill=\"#e26f46\" fill-rule=\"evenodd\" fill-opacity=\"1\" stroke=\"#000000\" stroke-opacity=\"1\" stroke-width=\"3.2\"/>\n",
       "<circle clip-path=\"url(#clip242)\" cx=\"1987.97\" cy=\"55.997\" r=\"14.4\" fill=\"#e26f46\" fill-rule=\"evenodd\" fill-opacity=\"1\" stroke=\"#000000\" stroke-opacity=\"1\" stroke-width=\"3.2\"/>\n",
       "<circle clip-path=\"url(#clip242)\" cx=\"2064.29\" cy=\"58.8157\" r=\"14.4\" fill=\"#e26f46\" fill-rule=\"evenodd\" fill-opacity=\"1\" stroke=\"#000000\" stroke-opacity=\"1\" stroke-width=\"3.2\"/>\n",
       "<circle clip-path=\"url(#clip242)\" cx=\"2140.6\" cy=\"160.306\" r=\"14.4\" fill=\"#e26f46\" fill-rule=\"evenodd\" fill-opacity=\"1\" stroke=\"#000000\" stroke-opacity=\"1\" stroke-width=\"3.2\"/>\n",
       "<circle clip-path=\"url(#clip242)\" cx=\"2216.92\" cy=\"55.997\" r=\"14.4\" fill=\"#e26f46\" fill-rule=\"evenodd\" fill-opacity=\"1\" stroke=\"#000000\" stroke-opacity=\"1\" stroke-width=\"3.2\"/>\n",
       "<circle clip-path=\"url(#clip242)\" cx=\"2293.23\" cy=\"180.627\" r=\"14.4\" fill=\"#e26f46\" fill-rule=\"evenodd\" fill-opacity=\"1\" stroke=\"#000000\" stroke-opacity=\"1\" stroke-width=\"3.2\"/>\n",
       "<polyline clip-path=\"url(#clip242)\" style=\"stroke:#80007f; stroke-linecap:round; stroke-linejoin:round; stroke-width:20; stroke-opacity:0.3; fill:none\" points=\"309.067,55.997 309.067,55.997 385.381,55.997 461.695,55.997 538.009,55.997 614.323,55.997 690.637,55.997 766.951,55.997 843.265,55.997 919.579,55.997 995.893,55.997 1072.21,55.997 1072.21,206.587 1148.52,206.587 1148.52,318.892 1224.83,318.892 1224.83,55.997 1301.15,55.997 1377.46,55.997 1453.78,55.997 1530.09,55.997 1606.4,55.997 1606.4,60.5511 1682.72,60.5511 1682.72,347.76 1759.03,347.76 1759.03,80.4261 1835.35,80.4261 1835.35,55.997 1911.66,55.997 1987.97,55.997 1987.97,58.8157 2064.29,58.8157 2064.29,160.306 2140.6,160.306 2140.6,55.997 2216.92,55.997 2216.92,180.627 2293.23,180.627 \"/>\n",
       "<path clip-path=\"url(#clip242)\" d=\"M309.067 40.0005 L293.067 56.0005 L309.067 72.0005 L325.067 56.0005 L309.067 40.0005 Z\" fill=\"#3da44d\" fill-rule=\"evenodd\" fill-opacity=\"1\" stroke=\"#000000\" stroke-opacity=\"1\" stroke-width=\"3.2\"/>\n",
       "<path clip-path=\"url(#clip242)\" d=\"M385.381 39.9982 L369.381 55.9982 L385.381 71.9982 L401.381 55.9982 L385.381 39.9982 Z\" fill=\"#3da44d\" fill-rule=\"evenodd\" fill-opacity=\"1\" stroke=\"#000000\" stroke-opacity=\"1\" stroke-width=\"3.2\"/>\n",
       "<path clip-path=\"url(#clip242)\" d=\"M461.695 39.9977 L445.695 55.9977 L461.695 71.9977 L477.695 55.9977 L461.695 39.9977 Z\" fill=\"#3da44d\" fill-rule=\"evenodd\" fill-opacity=\"1\" stroke=\"#000000\" stroke-opacity=\"1\" stroke-width=\"3.2\"/>\n",
       "<path clip-path=\"url(#clip242)\" d=\"M538.009 39.9976 L522.009 55.9976 L538.009 71.9976 L554.009 55.9976 L538.009 39.9976 Z\" fill=\"#3da44d\" fill-rule=\"evenodd\" fill-opacity=\"1\" stroke=\"#000000\" stroke-opacity=\"1\" stroke-width=\"3.2\"/>\n",
       "<path clip-path=\"url(#clip242)\" d=\"M614.323 39.9975 L598.323 55.9975 L614.323 71.9975 L630.323 55.9975 L614.323 39.9975 Z\" fill=\"#3da44d\" fill-rule=\"evenodd\" fill-opacity=\"1\" stroke=\"#000000\" stroke-opacity=\"1\" stroke-width=\"3.2\"/>\n",
       "<path clip-path=\"url(#clip242)\" d=\"M690.637 39.9975 L674.637 55.9975 L690.637 71.9975 L706.637 55.9975 L690.637 39.9975 Z\" fill=\"#3da44d\" fill-rule=\"evenodd\" fill-opacity=\"1\" stroke=\"#000000\" stroke-opacity=\"1\" stroke-width=\"3.2\"/>\n",
       "<path clip-path=\"url(#clip242)\" d=\"M766.951 39.9974 L750.951 55.9974 L766.951 71.9974 L782.951 55.9974 L766.951 39.9974 Z\" fill=\"#3da44d\" fill-rule=\"evenodd\" fill-opacity=\"1\" stroke=\"#000000\" stroke-opacity=\"1\" stroke-width=\"3.2\"/>\n",
       "<path clip-path=\"url(#clip242)\" d=\"M843.265 39.9974 L827.265 55.9974 L843.265 71.9974 L859.265 55.9974 L843.265 39.9974 Z\" fill=\"#3da44d\" fill-rule=\"evenodd\" fill-opacity=\"1\" stroke=\"#000000\" stroke-opacity=\"1\" stroke-width=\"3.2\"/>\n",
       "<path clip-path=\"url(#clip242)\" d=\"M919.579 39.9979 L903.579 55.9979 L919.579 71.9979 L935.579 55.9979 L919.579 39.9979 Z\" fill=\"#3da44d\" fill-rule=\"evenodd\" fill-opacity=\"1\" stroke=\"#000000\" stroke-opacity=\"1\" stroke-width=\"3.2\"/>\n",
       "<path clip-path=\"url(#clip242)\" d=\"M995.893 39.9992 L979.893 55.9992 L995.893 71.9992 L1011.89 55.9992 L995.893 39.9992 Z\" fill=\"#3da44d\" fill-rule=\"evenodd\" fill-opacity=\"1\" stroke=\"#000000\" stroke-opacity=\"1\" stroke-width=\"3.2\"/>\n",
       "<path clip-path=\"url(#clip242)\" d=\"M1072.21 40.0061 L1056.21 56.0061 L1072.21 72.0061 L1088.21 56.0061 L1072.21 40.0061 Z\" fill=\"#3da44d\" fill-rule=\"evenodd\" fill-opacity=\"1\" stroke=\"#000000\" stroke-opacity=\"1\" stroke-width=\"3.2\"/>\n",
       "<path clip-path=\"url(#clip242)\" d=\"M1148.52 191.599 L1132.52 207.599 L1148.52 223.599 L1164.52 207.599 L1148.52 191.599 Z\" fill=\"#3da44d\" fill-rule=\"evenodd\" fill-opacity=\"1\" stroke=\"#000000\" stroke-opacity=\"1\" stroke-width=\"3.2\"/>\n",
       "<path clip-path=\"url(#clip242)\" d=\"M1224.83 301.485 L1208.83 317.485 L1224.83 333.485 L1240.83 317.485 L1224.83 301.485 Z\" fill=\"#3da44d\" fill-rule=\"evenodd\" fill-opacity=\"1\" stroke=\"#000000\" stroke-opacity=\"1\" stroke-width=\"3.2\"/>\n",
       "<path clip-path=\"url(#clip242)\" d=\"M1301.15 40.0334 L1285.15 56.0334 L1301.15 72.0334 L1317.15 56.0334 L1301.15 40.0334 Z\" fill=\"#3da44d\" fill-rule=\"evenodd\" fill-opacity=\"1\" stroke=\"#000000\" stroke-opacity=\"1\" stroke-width=\"3.2\"/>\n",
       "<path clip-path=\"url(#clip242)\" d=\"M1377.46 40.0204 L1361.46 56.0204 L1377.46 72.0204 L1393.46 56.0204 L1377.46 40.0204 Z\" fill=\"#3da44d\" fill-rule=\"evenodd\" fill-opacity=\"1\" stroke=\"#000000\" stroke-opacity=\"1\" stroke-width=\"3.2\"/>\n",
       "<path clip-path=\"url(#clip242)\" d=\"M1453.78 40.0232 L1437.78 56.0232 L1453.78 72.0232 L1469.78 56.0232 L1453.78 40.0232 Z\" fill=\"#3da44d\" fill-rule=\"evenodd\" fill-opacity=\"1\" stroke=\"#000000\" stroke-opacity=\"1\" stroke-width=\"3.2\"/>\n",
       "<path clip-path=\"url(#clip242)\" d=\"M1530.09 40.0413 L1514.09 56.0413 L1530.09 72.0413 L1546.09 56.0413 L1530.09 40.0413 Z\" fill=\"#3da44d\" fill-rule=\"evenodd\" fill-opacity=\"1\" stroke=\"#000000\" stroke-opacity=\"1\" stroke-width=\"3.2\"/>\n",
       "<path clip-path=\"url(#clip242)\" d=\"M1606.4 40.1281 L1590.4 56.1281 L1606.4 72.1281 L1622.4 56.1281 L1606.4 40.1281 Z\" fill=\"#3da44d\" fill-rule=\"evenodd\" fill-opacity=\"1\" stroke=\"#000000\" stroke-opacity=\"1\" stroke-width=\"3.2\"/>\n",
       "<path clip-path=\"url(#clip242)\" d=\"M1682.72 47.724 L1666.72 63.724 L1682.72 79.724 L1698.72 63.724 L1682.72 47.724 Z\" fill=\"#3da44d\" fill-rule=\"evenodd\" fill-opacity=\"1\" stroke=\"#000000\" stroke-opacity=\"1\" stroke-width=\"3.2\"/>\n",
       "<path clip-path=\"url(#clip242)\" d=\"M1759.03 330.522 L1743.03 346.522 L1759.03 362.522 L1775.03 346.522 L1759.03 330.522 Z\" fill=\"#3da44d\" fill-rule=\"evenodd\" fill-opacity=\"1\" stroke=\"#000000\" stroke-opacity=\"1\" stroke-width=\"3.2\"/>\n",
       "<path clip-path=\"url(#clip242)\" d=\"M1835.35 56.9952 L1819.35 72.9952 L1835.35 88.9952 L1851.35 72.9952 L1835.35 56.9952 Z\" fill=\"#3da44d\" fill-rule=\"evenodd\" fill-opacity=\"1\" stroke=\"#000000\" stroke-opacity=\"1\" stroke-width=\"3.2\"/>\n",
       "<path clip-path=\"url(#clip242)\" d=\"M1911.66 43.1788 L1895.66 59.1788 L1911.66 75.1788 L1927.66 59.1788 L1911.66 43.1788 Z\" fill=\"#3da44d\" fill-rule=\"evenodd\" fill-opacity=\"1\" stroke=\"#000000\" stroke-opacity=\"1\" stroke-width=\"3.2\"/>\n",
       "<path clip-path=\"url(#clip242)\" d=\"M1987.97 45.0431 L1971.97 61.0431 L1987.97 77.0431 L2003.97 61.0431 L1987.97 45.0431 Z\" fill=\"#3da44d\" fill-rule=\"evenodd\" fill-opacity=\"1\" stroke=\"#000000\" stroke-opacity=\"1\" stroke-width=\"3.2\"/>\n",
       "<path clip-path=\"url(#clip242)\" d=\"M2064.29 55.4594 L2048.29 71.4594 L2064.29 87.4594 L2080.29 71.4594 L2064.29 55.4594 Z\" fill=\"#3da44d\" fill-rule=\"evenodd\" fill-opacity=\"1\" stroke=\"#000000\" stroke-opacity=\"1\" stroke-width=\"3.2\"/>\n",
       "<path clip-path=\"url(#clip242)\" d=\"M2140.6 99.6603 L2124.6 115.66 L2140.6 131.66 L2156.6 115.66 L2140.6 99.6603 Z\" fill=\"#3da44d\" fill-rule=\"evenodd\" fill-opacity=\"1\" stroke=\"#000000\" stroke-opacity=\"1\" stroke-width=\"3.2\"/>\n",
       "<path clip-path=\"url(#clip242)\" d=\"M2216.92 93.0538 L2200.92 109.054 L2216.92 125.054 L2232.92 109.054 L2216.92 93.0538 Z\" fill=\"#3da44d\" fill-rule=\"evenodd\" fill-opacity=\"1\" stroke=\"#000000\" stroke-opacity=\"1\" stroke-width=\"3.2\"/>\n",
       "<path clip-path=\"url(#clip242)\" d=\"M2293.23 134.256 L2277.23 150.256 L2293.23 166.256 L2309.23 150.256 L2293.23 134.256 Z\" fill=\"#3da44d\" fill-rule=\"evenodd\" fill-opacity=\"1\" stroke=\"#000000\" stroke-opacity=\"1\" stroke-width=\"3.2\"/>\n",
       "<polyline clip-path=\"url(#clip242)\" style=\"stroke:#0000ff; stroke-linecap:round; stroke-linejoin:round; stroke-width:20; stroke-opacity:0.3; fill:none\" points=\"309.067,56.0005 309.067,55.9982 385.381,55.9982 385.381,55.9977 461.695,55.9977 461.695,55.9976 538.009,55.9976 538.009,55.9975 614.323,55.9975 614.323,55.9975 690.637,55.9975 690.637,55.9974 766.951,55.9974 766.951,55.9974 843.265,55.9974 843.265,55.9979 919.579,55.9979 919.579,55.9992 995.893,55.9992 995.893,56.0061 1072.21,56.0061 1072.21,207.599 1148.52,207.599 1148.52,317.485 1224.83,317.485 1224.83,56.0334 1301.15,56.0334 1301.15,56.0204 1377.46,56.0204 1377.46,56.0232 1453.78,56.0232 1453.78,56.0413 1530.09,56.0413 1530.09,56.1281 1606.4,56.1281 1606.4,63.724 1682.72,63.724 1682.72,346.522 1759.03,346.522 1759.03,72.9952 1835.35,72.9952 1835.35,59.1788 1911.66,59.1788 1911.66,61.0431 1987.97,61.0431 1987.97,71.4594 2064.29,71.4594 2064.29,115.66 2140.6,115.66 2140.6,109.054 2216.92,109.054 2216.92,150.256 2293.23,150.256 \"/>\n",
       "<path clip-path=\"url(#clip240)\" d=\"M249.542 889.847 L2352.76 889.847 L2352.76 580.577 L249.542 580.577  Z\" fill=\"#ffffff\" fill-rule=\"evenodd\" fill-opacity=\"1\"/>\n",
       "<defs>\n",
       "  <clipPath id=\"clip243\">\n",
       "    <rect x=\"249\" y=\"580\" width=\"2104\" height=\"310\"/>\n",
       "  </clipPath>\n",
       "</defs>\n",
       "<polyline clip-path=\"url(#clip243)\" style=\"stroke:#000000; stroke-linecap:round; stroke-linejoin:round; stroke-width:8; stroke-opacity:0.1; fill:none\" points=\"614.323,889.847 614.323,580.577 \"/>\n",
       "<polyline clip-path=\"url(#clip243)\" style=\"stroke:#000000; stroke-linecap:round; stroke-linejoin:round; stroke-width:8; stroke-opacity:0.1; fill:none\" points=\"995.893,889.847 995.893,580.577 \"/>\n",
       "<polyline clip-path=\"url(#clip243)\" style=\"stroke:#000000; stroke-linecap:round; stroke-linejoin:round; stroke-width:8; stroke-opacity:0.1; fill:none\" points=\"1377.46,889.847 1377.46,580.577 \"/>\n",
       "<polyline clip-path=\"url(#clip243)\" style=\"stroke:#000000; stroke-linecap:round; stroke-linejoin:round; stroke-width:8; stroke-opacity:0.1; fill:none\" points=\"1759.03,889.847 1759.03,580.577 \"/>\n",
       "<polyline clip-path=\"url(#clip243)\" style=\"stroke:#000000; stroke-linecap:round; stroke-linejoin:round; stroke-width:8; stroke-opacity:0.1; fill:none\" points=\"2140.6,889.847 2140.6,580.577 \"/>\n",
       "<polyline clip-path=\"url(#clip240)\" style=\"stroke:#000000; stroke-linecap:round; stroke-linejoin:round; stroke-width:4; stroke-opacity:1; fill:none\" points=\"249.542,889.847 2352.76,889.847 \"/>\n",
       "<polyline clip-path=\"url(#clip240)\" style=\"stroke:#000000; stroke-linecap:round; stroke-linejoin:round; stroke-width:4; stroke-opacity:1; fill:none\" points=\"614.323,889.847 614.323,870.949 \"/>\n",
       "<polyline clip-path=\"url(#clip240)\" style=\"stroke:#000000; stroke-linecap:round; stroke-linejoin:round; stroke-width:4; stroke-opacity:1; fill:none\" points=\"995.893,889.847 995.893,870.949 \"/>\n",
       "<polyline clip-path=\"url(#clip240)\" style=\"stroke:#000000; stroke-linecap:round; stroke-linejoin:round; stroke-width:4; stroke-opacity:1; fill:none\" points=\"1377.46,889.847 1377.46,870.949 \"/>\n",
       "<polyline clip-path=\"url(#clip240)\" style=\"stroke:#000000; stroke-linecap:round; stroke-linejoin:round; stroke-width:4; stroke-opacity:1; fill:none\" points=\"1759.03,889.847 1759.03,870.949 \"/>\n",
       "<polyline clip-path=\"url(#clip240)\" style=\"stroke:#000000; stroke-linecap:round; stroke-linejoin:round; stroke-width:4; stroke-opacity:1; fill:none\" points=\"2140.6,889.847 2140.6,870.949 \"/>\n",
       "<path clip-path=\"url(#clip240)\" d=\"M604.601 917.687 L622.957 917.687 L622.957 921.622 L608.883 921.622 L608.883 930.094 Q609.902 929.747 610.92 929.585 Q611.939 929.399 612.957 929.399 Q618.744 929.399 622.124 932.571 Q625.503 935.742 625.503 941.159 Q625.503 946.737 622.031 949.839 Q618.559 952.918 612.24 952.918 Q610.064 952.918 607.795 952.547 Q605.55 952.177 603.142 951.436 L603.142 946.737 Q605.226 947.872 607.448 948.427 Q609.67 948.983 612.147 948.983 Q616.152 948.983 618.49 946.876 Q620.828 944.77 620.828 941.159 Q620.828 937.548 618.49 935.441 Q616.152 933.335 612.147 933.335 Q610.272 933.335 608.397 933.751 Q606.545 934.168 604.601 935.048 L604.601 917.687 Z\" fill=\"#000000\" fill-rule=\"evenodd\" fill-opacity=\"1\" /><path clip-path=\"url(#clip240)\" d=\"M970.581 948.311 L978.219 948.311 L978.219 921.946 L969.909 923.612 L969.909 919.353 L978.173 917.687 L982.849 917.687 L982.849 948.311 L990.488 948.311 L990.488 952.247 L970.581 952.247 L970.581 948.311 Z\" fill=\"#000000\" fill-rule=\"evenodd\" fill-opacity=\"1\" /><path clip-path=\"url(#clip240)\" d=\"M1009.93 920.765 Q1006.32 920.765 1004.49 924.33 Q1002.69 927.872 1002.69 935.001 Q1002.69 942.108 1004.49 945.672 Q1006.32 949.214 1009.93 949.214 Q1013.57 949.214 1015.37 945.672 Q1017.2 942.108 1017.2 935.001 Q1017.2 927.872 1015.37 924.33 Q1013.57 920.765 1009.93 920.765 M1009.93 917.062 Q1015.74 917.062 1018.8 921.668 Q1021.88 926.251 1021.88 935.001 Q1021.88 943.728 1018.8 948.334 Q1015.74 952.918 1009.93 952.918 Q1004.12 952.918 1001.04 948.334 Q997.988 943.728 997.988 935.001 Q997.988 926.251 1001.04 921.668 Q1004.12 917.062 1009.93 917.062 Z\" fill=\"#000000\" fill-rule=\"evenodd\" fill-opacity=\"1\" /><path clip-path=\"url(#clip240)\" d=\"M1352.65 948.311 L1360.29 948.311 L1360.29 921.946 L1351.98 923.612 L1351.98 919.353 L1360.24 917.687 L1364.92 917.687 L1364.92 948.311 L1372.56 948.311 L1372.56 952.247 L1352.65 952.247 L1352.65 948.311 Z\" fill=\"#000000\" fill-rule=\"evenodd\" fill-opacity=\"1\" /><path clip-path=\"url(#clip240)\" d=\"M1382.05 917.687 L1400.4 917.687 L1400.4 921.622 L1386.33 921.622 L1386.33 930.094 Q1387.35 929.747 1388.37 929.585 Q1389.38 929.399 1390.4 929.399 Q1396.19 929.399 1399.57 932.571 Q1402.95 935.742 1402.95 941.159 Q1402.95 946.737 1399.48 949.839 Q1396 952.918 1389.69 952.918 Q1387.51 952.918 1385.24 952.547 Q1383 952.177 1380.59 951.436 L1380.59 946.737 Q1382.67 947.872 1384.89 948.427 Q1387.12 948.983 1389.59 948.983 Q1393.6 948.983 1395.94 946.876 Q1398.27 944.77 1398.27 941.159 Q1398.27 937.548 1395.94 935.441 Q1393.6 933.335 1389.59 933.335 Q1387.72 933.335 1385.84 933.751 Q1383.99 934.168 1382.05 935.048 L1382.05 917.687 Z\" fill=\"#000000\" fill-rule=\"evenodd\" fill-opacity=\"1\" /><path clip-path=\"url(#clip240)\" d=\"M1737.81 948.311 L1754.13 948.311 L1754.13 952.247 L1732.18 952.247 L1732.18 948.311 Q1734.84 945.557 1739.43 940.927 Q1744.03 936.274 1745.21 934.932 Q1747.46 932.409 1748.34 930.673 Q1749.24 928.913 1749.24 927.223 Q1749.24 924.469 1747.3 922.733 Q1745.38 920.997 1742.27 920.997 Q1740.07 920.997 1737.62 921.761 Q1735.19 922.524 1732.41 924.075 L1732.41 919.353 Q1735.24 918.219 1737.69 917.64 Q1740.14 917.062 1742.18 917.062 Q1747.55 917.062 1750.75 919.747 Q1753.94 922.432 1753.94 926.923 Q1753.94 929.052 1753.13 930.973 Q1752.34 932.872 1750.24 935.464 Q1749.66 936.135 1746.56 939.353 Q1743.45 942.547 1737.81 948.311 Z\" fill=\"#000000\" fill-rule=\"evenodd\" fill-opacity=\"1\" /><path clip-path=\"url(#clip240)\" d=\"M1773.94 920.765 Q1770.33 920.765 1768.5 924.33 Q1766.69 927.872 1766.69 935.001 Q1766.69 942.108 1768.5 945.672 Q1770.33 949.214 1773.94 949.214 Q1777.57 949.214 1779.38 945.672 Q1781.21 942.108 1781.21 935.001 Q1781.21 927.872 1779.38 924.33 Q1777.57 920.765 1773.94 920.765 M1773.94 917.062 Q1779.75 917.062 1782.81 921.668 Q1785.88 926.251 1785.88 935.001 Q1785.88 943.728 1782.81 948.334 Q1779.75 952.918 1773.94 952.918 Q1768.13 952.918 1765.05 948.334 Q1762 943.728 1762 935.001 Q1762 926.251 1765.05 921.668 Q1768.13 917.062 1773.94 917.062 Z\" fill=\"#000000\" fill-rule=\"evenodd\" fill-opacity=\"1\" /><path clip-path=\"url(#clip240)\" d=\"M2119.87 948.311 L2136.19 948.311 L2136.19 952.247 L2114.25 952.247 L2114.25 948.311 Q2116.91 945.557 2121.49 940.927 Q2126.1 936.274 2127.28 934.932 Q2129.53 932.409 2130.41 930.673 Q2131.31 928.913 2131.31 927.223 Q2131.31 924.469 2129.36 922.733 Q2127.44 920.997 2124.34 920.997 Q2122.14 920.997 2119.69 921.761 Q2117.26 922.524 2114.48 924.075 L2114.48 919.353 Q2117.3 918.219 2119.76 917.64 Q2122.21 917.062 2124.25 917.062 Q2129.62 917.062 2132.81 919.747 Q2136.01 922.432 2136.01 926.923 Q2136.01 929.052 2135.2 930.973 Q2134.41 932.872 2132.3 935.464 Q2131.73 936.135 2128.62 939.353 Q2125.52 942.547 2119.87 948.311 Z\" fill=\"#000000\" fill-rule=\"evenodd\" fill-opacity=\"1\" /><path clip-path=\"url(#clip240)\" d=\"M2146.05 917.687 L2164.41 917.687 L2164.41 921.622 L2150.34 921.622 L2150.34 930.094 Q2151.36 929.747 2152.37 929.585 Q2153.39 929.399 2154.41 929.399 Q2160.2 929.399 2163.58 932.571 Q2166.96 935.742 2166.96 941.159 Q2166.96 946.737 2163.48 949.839 Q2160.01 952.918 2153.69 952.918 Q2151.52 952.918 2149.25 952.547 Q2147 952.177 2144.6 951.436 L2144.6 946.737 Q2146.68 947.872 2148.9 948.427 Q2151.12 948.983 2153.6 948.983 Q2157.61 948.983 2159.94 946.876 Q2162.28 944.77 2162.28 941.159 Q2162.28 937.548 2159.94 935.441 Q2157.61 933.335 2153.6 933.335 Q2151.73 933.335 2149.85 933.751 Q2148 934.168 2146.05 935.048 L2146.05 917.687 Z\" fill=\"#000000\" fill-rule=\"evenodd\" fill-opacity=\"1\" /><path clip-path=\"url(#clip240)\" d=\"M1195.29 988.941 L1195.29 999.063 L1207.35 999.063 L1207.35 1003.61 L1195.29 1003.61 L1195.29 1022.97 Q1195.29 1027.33 1196.46 1028.57 Q1197.67 1029.81 1201.33 1029.81 L1207.35 1029.81 L1207.35 1034.71 L1201.33 1034.71 Q1194.56 1034.71 1191.98 1032.2 Q1189.4 1029.65 1189.4 1022.97 L1189.4 1003.61 L1185.1 1003.61 L1185.1 999.063 L1189.4 999.063 L1189.4 988.941 L1195.29 988.941 Z\" fill=\"#000000\" fill-rule=\"evenodd\" fill-opacity=\"1\" /><path clip-path=\"url(#clip240)\" d=\"M1215.05 999.063 L1220.91 999.063 L1220.91 1034.71 L1215.05 1034.71 L1215.05 999.063 M1215.05 985.185 L1220.91 985.185 L1220.91 992.601 L1215.05 992.601 L1215.05 985.185 Z\" fill=\"#000000\" fill-rule=\"evenodd\" fill-opacity=\"1\" /><path clip-path=\"url(#clip240)\" d=\"M1260.92 1005.91 Q1263.11 1001.96 1266.17 1000.08 Q1269.22 998.203 1273.36 998.203 Q1278.93 998.203 1281.96 1002.12 Q1284.98 1006 1284.98 1013.19 L1284.98 1034.71 L1279.09 1034.71 L1279.09 1013.39 Q1279.09 1008.26 1277.28 1005.78 Q1275.46 1003.3 1271.74 1003.3 Q1267.19 1003.3 1264.55 1006.32 Q1261.9 1009.34 1261.9 1014.56 L1261.9 1034.71 L1256.02 1034.71 L1256.02 1013.39 Q1256.02 1008.23 1254.2 1005.78 Q1252.39 1003.3 1248.6 1003.3 Q1244.11 1003.3 1241.47 1006.35 Q1238.83 1009.37 1238.83 1014.56 L1238.83 1034.71 L1232.94 1034.71 L1232.94 999.063 L1238.83 999.063 L1238.83 1004.6 Q1240.83 1001.32 1243.63 999.763 Q1246.44 998.203 1250.29 998.203 Q1254.17 998.203 1256.88 1000.18 Q1259.61 1002.15 1260.92 1005.91 Z\" fill=\"#000000\" fill-rule=\"evenodd\" fill-opacity=\"1\" /><path clip-path=\"url(#clip240)\" d=\"M1327.15 1015.42 L1327.15 1018.29 L1300.23 1018.29 Q1300.61 1024.33 1303.85 1027.52 Q1307.13 1030.67 1312.96 1030.67 Q1316.33 1030.67 1319.48 1029.84 Q1322.67 1029.01 1325.78 1027.36 L1325.78 1032.9 Q1322.63 1034.23 1319.32 1034.93 Q1316.01 1035.63 1312.61 1035.63 Q1304.08 1035.63 1299.08 1030.67 Q1294.11 1025.7 1294.11 1017.24 Q1294.11 1008.48 1298.83 1003.36 Q1303.57 998.203 1311.59 998.203 Q1318.78 998.203 1322.95 1002.85 Q1327.15 1007.47 1327.15 1015.42 M1321.3 1013.7 Q1321.23 1008.9 1318.59 1006.03 Q1315.98 1003.17 1311.65 1003.17 Q1306.75 1003.17 1303.79 1005.94 Q1300.86 1008.71 1300.42 1013.74 L1321.3 1013.7 Z\" fill=\"#000000\" fill-rule=\"evenodd\" fill-opacity=\"1\" /><path clip-path=\"url(#clip240)\" d=\"M1336.22 985.185 L1349.72 985.185 L1349.72 989.737 L1342.08 989.737 L1342.08 1038.75 L1349.72 1038.75 L1349.72 1043.3 L1336.22 1043.3 L1336.22 985.185 Z\" fill=\"#000000\" fill-rule=\"evenodd\" fill-opacity=\"1\" /><path clip-path=\"url(#clip240)\" d=\"M1391.83 1013.19 L1391.83 1034.71 L1385.97 1034.71 L1385.97 1013.39 Q1385.97 1008.32 1384 1005.81 Q1382.03 1003.3 1378.08 1003.3 Q1373.34 1003.3 1370.6 1006.32 Q1367.86 1009.34 1367.86 1014.56 L1367.86 1034.71 L1361.97 1034.71 L1361.97 985.185 L1367.86 985.185 L1367.86 1004.6 Q1369.96 1001.39 1372.79 999.795 Q1375.66 998.203 1379.38 998.203 Q1385.53 998.203 1388.68 1002.02 Q1391.83 1005.81 1391.83 1013.19 Z\" fill=\"#000000\" fill-rule=\"evenodd\" fill-opacity=\"1\" /><path clip-path=\"url(#clip240)\" d=\"M1417.2 985.185 L1417.2 1043.3 L1403.7 1043.3 L1403.7 1038.75 L1411.31 1038.75 L1411.31 989.737 L1403.7 989.737 L1403.7 985.185 L1417.2 985.185 Z\" fill=\"#000000\" fill-rule=\"evenodd\" fill-opacity=\"1\" /><polyline clip-path=\"url(#clip243)\" style=\"stroke:#000000; stroke-linecap:round; stroke-linejoin:round; stroke-width:8; stroke-opacity:0.1; fill:none\" points=\"249.542,881.094 2352.76,881.094 \"/>\n",
       "<polyline clip-path=\"url(#clip243)\" style=\"stroke:#000000; stroke-linecap:round; stroke-linejoin:round; stroke-width:8; stroke-opacity:0.1; fill:none\" points=\"249.542,820.31 2352.76,820.31 \"/>\n",
       "<polyline clip-path=\"url(#clip243)\" style=\"stroke:#000000; stroke-linecap:round; stroke-linejoin:round; stroke-width:8; stroke-opacity:0.1; fill:none\" points=\"249.542,759.526 2352.76,759.526 \"/>\n",
       "<polyline clip-path=\"url(#clip243)\" style=\"stroke:#000000; stroke-linecap:round; stroke-linejoin:round; stroke-width:8; stroke-opacity:0.1; fill:none\" points=\"249.542,698.742 2352.76,698.742 \"/>\n",
       "<polyline clip-path=\"url(#clip243)\" style=\"stroke:#000000; stroke-linecap:round; stroke-linejoin:round; stroke-width:8; stroke-opacity:0.1; fill:none\" points=\"249.542,637.958 2352.76,637.958 \"/>\n",
       "<polyline clip-path=\"url(#clip240)\" style=\"stroke:#000000; stroke-linecap:round; stroke-linejoin:round; stroke-width:4; stroke-opacity:1; fill:none\" points=\"249.542,889.847 249.542,580.577 \"/>\n",
       "<polyline clip-path=\"url(#clip240)\" style=\"stroke:#000000; stroke-linecap:round; stroke-linejoin:round; stroke-width:4; stroke-opacity:1; fill:none\" points=\"249.542,881.094 268.44,881.094 \"/>\n",
       "<polyline clip-path=\"url(#clip240)\" style=\"stroke:#000000; stroke-linecap:round; stroke-linejoin:round; stroke-width:4; stroke-opacity:1; fill:none\" points=\"249.542,820.31 268.44,820.31 \"/>\n",
       "<polyline clip-path=\"url(#clip240)\" style=\"stroke:#000000; stroke-linecap:round; stroke-linejoin:round; stroke-width:4; stroke-opacity:1; fill:none\" points=\"249.542,759.526 268.44,759.526 \"/>\n",
       "<polyline clip-path=\"url(#clip240)\" style=\"stroke:#000000; stroke-linecap:round; stroke-linejoin:round; stroke-width:4; stroke-opacity:1; fill:none\" points=\"249.542,698.742 268.44,698.742 \"/>\n",
       "<polyline clip-path=\"url(#clip240)\" style=\"stroke:#000000; stroke-linecap:round; stroke-linejoin:round; stroke-width:4; stroke-opacity:1; fill:none\" points=\"249.542,637.958 268.44,637.958 \"/>\n",
       "<path clip-path=\"url(#clip240)\" d=\"M126.205 866.892 Q122.593 866.892 120.765 870.457 Q118.959 873.999 118.959 881.128 Q118.959 888.235 120.765 891.8 Q122.593 895.341 126.205 895.341 Q129.839 895.341 131.644 891.8 Q133.473 888.235 133.473 881.128 Q133.473 873.999 131.644 870.457 Q129.839 866.892 126.205 866.892 M126.205 863.189 Q132.015 863.189 135.07 867.795 Q138.149 872.378 138.149 881.128 Q138.149 889.855 135.07 894.462 Q132.015 899.045 126.205 899.045 Q120.394 899.045 117.316 894.462 Q114.26 889.855 114.26 881.128 Q114.26 872.378 117.316 867.795 Q120.394 863.189 126.205 863.189 Z\" fill=\"#000000\" fill-rule=\"evenodd\" fill-opacity=\"1\" /><path clip-path=\"url(#clip240)\" d=\"M146.366 892.494 L151.251 892.494 L151.251 898.374 L146.366 898.374 L146.366 892.494 Z\" fill=\"#000000\" fill-rule=\"evenodd\" fill-opacity=\"1\" /><path clip-path=\"url(#clip240)\" d=\"M171.436 866.892 Q167.825 866.892 165.996 870.457 Q164.19 873.999 164.19 881.128 Q164.19 888.235 165.996 891.8 Q167.825 895.341 171.436 895.341 Q175.07 895.341 176.876 891.8 Q178.704 888.235 178.704 881.128 Q178.704 873.999 176.876 870.457 Q175.07 866.892 171.436 866.892 M171.436 863.189 Q177.246 863.189 180.301 867.795 Q183.38 872.378 183.38 881.128 Q183.38 889.855 180.301 894.462 Q177.246 899.045 171.436 899.045 Q165.626 899.045 162.547 894.462 Q159.491 889.855 159.491 881.128 Q159.491 872.378 162.547 867.795 Q165.626 863.189 171.436 863.189 Z\" fill=\"#000000\" fill-rule=\"evenodd\" fill-opacity=\"1\" /><path clip-path=\"url(#clip240)\" d=\"M201.598 866.892 Q197.987 866.892 196.158 870.457 Q194.352 873.999 194.352 881.128 Q194.352 888.235 196.158 891.8 Q197.987 895.341 201.598 895.341 Q205.232 895.341 207.037 891.8 Q208.866 888.235 208.866 881.128 Q208.866 873.999 207.037 870.457 Q205.232 866.892 201.598 866.892 M201.598 863.189 Q207.408 863.189 210.463 867.795 Q213.542 872.378 213.542 881.128 Q213.542 889.855 210.463 894.462 Q207.408 899.045 201.598 899.045 Q195.787 899.045 192.709 894.462 Q189.653 889.855 189.653 881.128 Q189.653 872.378 192.709 867.795 Q195.787 863.189 201.598 863.189 Z\" fill=\"#000000\" fill-rule=\"evenodd\" fill-opacity=\"1\" /><path clip-path=\"url(#clip240)\" d=\"M127.2 806.108 Q123.589 806.108 121.76 809.673 Q119.955 813.215 119.955 820.344 Q119.955 827.451 121.76 831.016 Q123.589 834.557 127.2 834.557 Q130.834 834.557 132.64 831.016 Q134.468 827.451 134.468 820.344 Q134.468 813.215 132.64 809.673 Q130.834 806.108 127.2 806.108 M127.2 802.405 Q133.01 802.405 136.066 807.011 Q139.144 811.594 139.144 820.344 Q139.144 829.071 136.066 833.678 Q133.01 838.261 127.2 838.261 Q121.39 838.261 118.311 833.678 Q115.256 829.071 115.256 820.344 Q115.256 811.594 118.311 807.011 Q121.39 802.405 127.2 802.405 Z\" fill=\"#000000\" fill-rule=\"evenodd\" fill-opacity=\"1\" /><path clip-path=\"url(#clip240)\" d=\"M147.362 831.71 L152.246 831.71 L152.246 837.59 L147.362 837.59 L147.362 831.71 Z\" fill=\"#000000\" fill-rule=\"evenodd\" fill-opacity=\"1\" /><path clip-path=\"url(#clip240)\" d=\"M166.459 833.654 L182.778 833.654 L182.778 837.59 L160.834 837.59 L160.834 833.654 Q163.496 830.9 168.079 826.27 Q172.686 821.617 173.866 820.275 Q176.112 817.752 176.991 816.016 Q177.894 814.256 177.894 812.567 Q177.894 809.812 175.95 808.076 Q174.028 806.34 170.927 806.34 Q168.727 806.34 166.274 807.104 Q163.843 807.868 161.065 809.418 L161.065 804.696 Q163.89 803.562 166.343 802.983 Q168.797 802.405 170.834 802.405 Q176.204 802.405 179.399 805.09 Q182.593 807.775 182.593 812.266 Q182.593 814.395 181.783 816.317 Q180.996 818.215 178.889 820.807 Q178.311 821.479 175.209 824.696 Q172.107 827.891 166.459 833.654 Z\" fill=\"#000000\" fill-rule=\"evenodd\" fill-opacity=\"1\" /><path clip-path=\"url(#clip240)\" d=\"M192.639 803.03 L210.996 803.03 L210.996 806.965 L196.922 806.965 L196.922 815.437 Q197.94 815.09 198.959 814.928 Q199.977 814.742 200.996 814.742 Q206.783 814.742 210.162 817.914 Q213.542 821.085 213.542 826.502 Q213.542 832.08 210.07 835.182 Q206.598 838.261 200.278 838.261 Q198.102 838.261 195.834 837.891 Q193.588 837.52 191.181 836.779 L191.181 832.08 Q193.264 833.215 195.487 833.77 Q197.709 834.326 200.186 834.326 Q204.19 834.326 206.528 832.219 Q208.866 830.113 208.866 826.502 Q208.866 822.891 206.528 820.784 Q204.19 818.678 200.186 818.678 Q198.311 818.678 196.436 819.094 Q194.584 819.511 192.639 820.391 L192.639 803.03 Z\" fill=\"#000000\" fill-rule=\"evenodd\" fill-opacity=\"1\" /><path clip-path=\"url(#clip240)\" d=\"M126.205 745.324 Q122.593 745.324 120.765 748.889 Q118.959 752.431 118.959 759.56 Q118.959 766.667 120.765 770.232 Q122.593 773.773 126.205 773.773 Q129.839 773.773 131.644 770.232 Q133.473 766.667 133.473 759.56 Q133.473 752.431 131.644 748.889 Q129.839 745.324 126.205 745.324 M126.205 741.621 Q132.015 741.621 135.07 746.227 Q138.149 750.81 138.149 759.56 Q138.149 768.287 135.07 772.894 Q132.015 777.477 126.205 777.477 Q120.394 777.477 117.316 772.894 Q114.26 768.287 114.26 759.56 Q114.26 750.81 117.316 746.227 Q120.394 741.621 126.205 741.621 Z\" fill=\"#000000\" fill-rule=\"evenodd\" fill-opacity=\"1\" /><path clip-path=\"url(#clip240)\" d=\"M146.366 770.926 L151.251 770.926 L151.251 776.806 L146.366 776.806 L146.366 770.926 Z\" fill=\"#000000\" fill-rule=\"evenodd\" fill-opacity=\"1\" /><path clip-path=\"url(#clip240)\" d=\"M161.482 742.246 L179.839 742.246 L179.839 746.181 L165.765 746.181 L165.765 754.653 Q166.783 754.306 167.802 754.144 Q168.82 753.958 169.839 753.958 Q175.626 753.958 179.005 757.13 Q182.385 760.301 182.385 765.718 Q182.385 771.296 178.913 774.398 Q175.44 777.477 169.121 777.477 Q166.945 777.477 164.677 777.106 Q162.431 776.736 160.024 775.995 L160.024 771.296 Q162.107 772.431 164.329 772.986 Q166.552 773.542 169.028 773.542 Q173.033 773.542 175.371 771.435 Q177.709 769.329 177.709 765.718 Q177.709 762.107 175.371 760 Q173.033 757.894 169.028 757.894 Q167.153 757.894 165.278 758.31 Q163.427 758.727 161.482 759.607 L161.482 742.246 Z\" fill=\"#000000\" fill-rule=\"evenodd\" fill-opacity=\"1\" /><path clip-path=\"url(#clip240)\" d=\"M201.598 745.324 Q197.987 745.324 196.158 748.889 Q194.352 752.431 194.352 759.56 Q194.352 766.667 196.158 770.232 Q197.987 773.773 201.598 773.773 Q205.232 773.773 207.037 770.232 Q208.866 766.667 208.866 759.56 Q208.866 752.431 207.037 748.889 Q205.232 745.324 201.598 745.324 M201.598 741.621 Q207.408 741.621 210.463 746.227 Q213.542 750.81 213.542 759.56 Q213.542 768.287 210.463 772.894 Q207.408 777.477 201.598 777.477 Q195.787 777.477 192.709 772.894 Q189.653 768.287 189.653 759.56 Q189.653 750.81 192.709 746.227 Q195.787 741.621 201.598 741.621 Z\" fill=\"#000000\" fill-rule=\"evenodd\" fill-opacity=\"1\" /><path clip-path=\"url(#clip240)\" d=\"M127.2 684.54 Q123.589 684.54 121.76 688.105 Q119.955 691.647 119.955 698.776 Q119.955 705.883 121.76 709.448 Q123.589 712.989 127.2 712.989 Q130.834 712.989 132.64 709.448 Q134.468 705.883 134.468 698.776 Q134.468 691.647 132.64 688.105 Q130.834 684.54 127.2 684.54 M127.2 680.837 Q133.01 680.837 136.066 685.443 Q139.144 690.026 139.144 698.776 Q139.144 707.503 136.066 712.11 Q133.01 716.693 127.2 716.693 Q121.39 716.693 118.311 712.11 Q115.256 707.503 115.256 698.776 Q115.256 690.026 118.311 685.443 Q121.39 680.837 127.2 680.837 Z\" fill=\"#000000\" fill-rule=\"evenodd\" fill-opacity=\"1\" /><path clip-path=\"url(#clip240)\" d=\"M147.362 710.142 L152.246 710.142 L152.246 716.022 L147.362 716.022 L147.362 710.142 Z\" fill=\"#000000\" fill-rule=\"evenodd\" fill-opacity=\"1\" /><path clip-path=\"url(#clip240)\" d=\"M161.251 681.462 L183.473 681.462 L183.473 683.452 L170.927 716.022 L166.042 716.022 L177.848 685.397 L161.251 685.397 L161.251 681.462 Z\" fill=\"#000000\" fill-rule=\"evenodd\" fill-opacity=\"1\" /><path clip-path=\"url(#clip240)\" d=\"M192.639 681.462 L210.996 681.462 L210.996 685.397 L196.922 685.397 L196.922 693.869 Q197.94 693.522 198.959 693.36 Q199.977 693.174 200.996 693.174 Q206.783 693.174 210.162 696.346 Q213.542 699.517 213.542 704.934 Q213.542 710.512 210.07 713.614 Q206.598 716.693 200.278 716.693 Q198.102 716.693 195.834 716.322 Q193.588 715.952 191.181 715.211 L191.181 710.512 Q193.264 711.647 195.487 712.202 Q197.709 712.758 200.186 712.758 Q204.19 712.758 206.528 710.651 Q208.866 708.545 208.866 704.934 Q208.866 701.323 206.528 699.216 Q204.19 697.11 200.186 697.11 Q198.311 697.11 196.436 697.526 Q194.584 697.943 192.639 698.823 L192.639 681.462 Z\" fill=\"#000000\" fill-rule=\"evenodd\" fill-opacity=\"1\" /><path clip-path=\"url(#clip240)\" d=\"M117.015 651.302 L124.654 651.302 L124.654 624.937 L116.343 626.603 L116.343 622.344 L124.607 620.678 L129.283 620.678 L129.283 651.302 L136.922 651.302 L136.922 655.238 L117.015 655.238 L117.015 651.302 Z\" fill=\"#000000\" fill-rule=\"evenodd\" fill-opacity=\"1\" /><path clip-path=\"url(#clip240)\" d=\"M146.366 649.358 L151.251 649.358 L151.251 655.238 L146.366 655.238 L146.366 649.358 Z\" fill=\"#000000\" fill-rule=\"evenodd\" fill-opacity=\"1\" /><path clip-path=\"url(#clip240)\" d=\"M171.436 623.756 Q167.825 623.756 165.996 627.321 Q164.19 630.863 164.19 637.992 Q164.19 645.099 165.996 648.664 Q167.825 652.205 171.436 652.205 Q175.07 652.205 176.876 648.664 Q178.704 645.099 178.704 637.992 Q178.704 630.863 176.876 627.321 Q175.07 623.756 171.436 623.756 M171.436 620.053 Q177.246 620.053 180.301 624.659 Q183.38 629.242 183.38 637.992 Q183.38 646.719 180.301 651.326 Q177.246 655.909 171.436 655.909 Q165.626 655.909 162.547 651.326 Q159.491 646.719 159.491 637.992 Q159.491 629.242 162.547 624.659 Q165.626 620.053 171.436 620.053 Z\" fill=\"#000000\" fill-rule=\"evenodd\" fill-opacity=\"1\" /><path clip-path=\"url(#clip240)\" d=\"M201.598 623.756 Q197.987 623.756 196.158 627.321 Q194.352 630.863 194.352 637.992 Q194.352 645.099 196.158 648.664 Q197.987 652.205 201.598 652.205 Q205.232 652.205 207.037 648.664 Q208.866 645.099 208.866 637.992 Q208.866 630.863 207.037 627.321 Q205.232 623.756 201.598 623.756 M201.598 620.053 Q207.408 620.053 210.463 624.659 Q213.542 629.242 213.542 637.992 Q213.542 646.719 210.463 651.326 Q207.408 655.909 201.598 655.909 Q195.787 655.909 192.709 651.326 Q189.653 646.719 189.653 637.992 Q189.653 629.242 192.709 624.659 Q195.787 620.053 201.598 620.053 Z\" fill=\"#000000\" fill-rule=\"evenodd\" fill-opacity=\"1\" /><path clip-path=\"url(#clip240)\" d=\"M67.3143 789.639 Q73.68 792.121 75.6216 794.477 Q77.5631 796.832 77.5631 800.779 L77.5631 805.458 L72.6615 805.458 L72.6615 802.02 Q72.6615 799.601 71.5157 798.264 Q70.3699 796.927 66.1048 795.304 L63.4312 794.254 L28.3562 808.672 L28.3562 802.466 L56.238 791.326 L28.3562 780.186 L28.3562 773.979 L67.3143 789.639 Z\" fill=\"#000000\" fill-rule=\"evenodd\" fill-opacity=\"1\" /><path clip-path=\"url(#clip240)\" d=\"M29.4065 743.169 L34.9447 743.169 Q33.6716 745.652 33.035 748.325 Q32.3984 750.999 32.3984 753.863 Q32.3984 758.224 33.7352 760.42 Q35.072 762.585 37.7456 762.585 Q39.7826 762.585 40.9603 761.025 Q42.1061 759.465 43.1565 754.755 L43.6021 752.749 Q44.9389 746.511 47.3897 743.901 Q49.8086 741.259 54.1691 741.259 Q59.1344 741.259 62.0308 745.206 Q64.9272 749.121 64.9272 755.996 Q64.9272 758.861 64.3543 761.98 Q63.8132 765.067 62.6992 768.505 L56.6518 768.505 Q58.3387 765.258 59.198 762.107 Q60.0256 758.956 60.0256 755.869 Q60.0256 751.731 58.6251 749.503 Q57.1929 747.275 54.6147 747.275 Q52.2276 747.275 50.9545 748.898 Q49.6813 750.49 48.5037 755.932 L48.0262 757.969 Q46.8804 763.412 44.5251 765.831 Q42.138 768.25 38.0002 768.25 Q32.9713 768.25 30.2341 764.685 Q27.4968 761.12 27.4968 754.564 Q27.4968 751.317 27.9743 748.453 Q28.4517 745.588 29.4065 743.169 Z\" fill=\"#000000\" fill-rule=\"evenodd\" fill-opacity=\"1\" /><path clip-path=\"url(#clip240)\" d=\"M58.657 726.268 L77.5631 726.268 L77.5631 732.156 L28.3562 732.156 L28.3562 726.268 L33.7671 726.268 Q30.5842 724.422 29.0564 721.621 Q27.4968 718.788 27.4968 714.874 Q27.4968 708.381 32.6531 704.338 Q37.8093 700.264 46.212 700.264 Q54.6147 700.264 59.771 704.338 Q64.9272 708.381 64.9272 714.874 Q64.9272 718.788 63.3994 721.621 Q61.8398 724.422 58.657 726.268 M46.212 706.343 Q39.7508 706.343 36.0905 709.017 Q32.3984 711.659 32.3984 716.306 Q32.3984 720.953 36.0905 723.626 Q39.7508 726.268 46.212 726.268 Q52.6732 726.268 56.3653 723.626 Q60.0256 720.953 60.0256 716.306 Q60.0256 711.659 56.3653 709.017 Q52.6732 706.343 46.212 706.343 Z\" fill=\"#000000\" fill-rule=\"evenodd\" fill-opacity=\"1\" /><path clip-path=\"url(#clip240)\" d=\"M58.5933 684.191 L58.5933 661.752 L64.0042 661.752 L64.0042 691.925 L58.5933 691.925 Q54.8057 688.265 48.44 681.963 Q42.0425 675.629 40.1964 674.006 Q36.7271 670.918 34.34 669.709 Q31.921 668.468 29.5975 668.468 Q25.8099 668.468 23.4228 671.141 Q21.0356 673.783 21.0356 678.048 Q21.0356 681.072 22.086 684.445 Q23.1363 687.787 25.2688 691.607 L18.7758 691.607 Q17.2162 687.724 16.4205 684.35 Q15.6248 680.976 15.6248 678.175 Q15.6248 670.791 19.3169 666.399 Q23.009 662.006 29.1837 662.006 Q32.112 662.006 34.7537 663.12 Q37.3637 664.203 40.9285 667.099 Q41.8515 667.895 46.2757 672.16 Q50.668 676.425 58.5933 684.191 Z\" fill=\"#000000\" fill-rule=\"evenodd\" fill-opacity=\"1\" /><polyline clip-path=\"url(#clip243)\" style=\"stroke:#000000; stroke-linecap:round; stroke-linejoin:round; stroke-width:4; stroke-opacity:1; fill:none\" stroke-dasharray=\"2, 4\" points=\"309.067,589.33 385.381,589.33 461.695,589.33 538.009,589.33 614.323,589.33 690.637,589.33 766.951,589.33 843.265,589.33 919.579,589.33 995.893,589.33 1072.21,589.33 1148.52,589.33 1224.83,589.33 1301.15,589.33 1377.46,589.33 1453.78,589.33 1530.09,589.33 1606.4,589.33 1682.72,589.33 1759.03,589.33 1835.35,589.33 1911.66,589.33 1987.97,589.33 2064.29,589.33 2140.6,589.33 2216.92,589.33 2293.23,589.33 \"/>\n",
       "<line clip-path=\"url(#clip243)\" x1=\"309.067\" y1=\"589.33\" x2=\"309.067\" y2=\"573.33\" style=\"stroke:#009af9; stroke-width:3.2; stroke-opacity:1\"/>\n",
       "<line clip-path=\"url(#clip243)\" x1=\"309.067\" y1=\"589.33\" x2=\"293.067\" y2=\"589.33\" style=\"stroke:#009af9; stroke-width:3.2; stroke-opacity:1\"/>\n",
       "<line clip-path=\"url(#clip243)\" x1=\"309.067\" y1=\"589.33\" x2=\"309.067\" y2=\"605.33\" style=\"stroke:#009af9; stroke-width:3.2; stroke-opacity:1\"/>\n",
       "<line clip-path=\"url(#clip243)\" x1=\"309.067\" y1=\"589.33\" x2=\"325.067\" y2=\"589.33\" style=\"stroke:#009af9; stroke-width:3.2; stroke-opacity:1\"/>\n",
       "<line clip-path=\"url(#clip243)\" x1=\"385.381\" y1=\"589.33\" x2=\"385.381\" y2=\"573.33\" style=\"stroke:#009af9; stroke-width:3.2; stroke-opacity:1\"/>\n",
       "<line clip-path=\"url(#clip243)\" x1=\"385.381\" y1=\"589.33\" x2=\"369.381\" y2=\"589.33\" style=\"stroke:#009af9; stroke-width:3.2; stroke-opacity:1\"/>\n",
       "<line clip-path=\"url(#clip243)\" x1=\"385.381\" y1=\"589.33\" x2=\"385.381\" y2=\"605.33\" style=\"stroke:#009af9; stroke-width:3.2; stroke-opacity:1\"/>\n",
       "<line clip-path=\"url(#clip243)\" x1=\"385.381\" y1=\"589.33\" x2=\"401.381\" y2=\"589.33\" style=\"stroke:#009af9; stroke-width:3.2; stroke-opacity:1\"/>\n",
       "<line clip-path=\"url(#clip243)\" x1=\"461.695\" y1=\"589.33\" x2=\"461.695\" y2=\"573.33\" style=\"stroke:#009af9; stroke-width:3.2; stroke-opacity:1\"/>\n",
       "<line clip-path=\"url(#clip243)\" x1=\"461.695\" y1=\"589.33\" x2=\"445.695\" y2=\"589.33\" style=\"stroke:#009af9; stroke-width:3.2; stroke-opacity:1\"/>\n",
       "<line clip-path=\"url(#clip243)\" x1=\"461.695\" y1=\"589.33\" x2=\"461.695\" y2=\"605.33\" style=\"stroke:#009af9; stroke-width:3.2; stroke-opacity:1\"/>\n",
       "<line clip-path=\"url(#clip243)\" x1=\"461.695\" y1=\"589.33\" x2=\"477.695\" y2=\"589.33\" style=\"stroke:#009af9; stroke-width:3.2; stroke-opacity:1\"/>\n",
       "<line clip-path=\"url(#clip243)\" x1=\"538.009\" y1=\"589.33\" x2=\"538.009\" y2=\"573.33\" style=\"stroke:#009af9; stroke-width:3.2; stroke-opacity:1\"/>\n",
       "<line clip-path=\"url(#clip243)\" x1=\"538.009\" y1=\"589.33\" x2=\"522.009\" y2=\"589.33\" style=\"stroke:#009af9; stroke-width:3.2; stroke-opacity:1\"/>\n",
       "<line clip-path=\"url(#clip243)\" x1=\"538.009\" y1=\"589.33\" x2=\"538.009\" y2=\"605.33\" style=\"stroke:#009af9; stroke-width:3.2; stroke-opacity:1\"/>\n",
       "<line clip-path=\"url(#clip243)\" x1=\"538.009\" y1=\"589.33\" x2=\"554.009\" y2=\"589.33\" style=\"stroke:#009af9; stroke-width:3.2; stroke-opacity:1\"/>\n",
       "<line clip-path=\"url(#clip243)\" x1=\"614.323\" y1=\"589.33\" x2=\"614.323\" y2=\"573.33\" style=\"stroke:#009af9; stroke-width:3.2; stroke-opacity:1\"/>\n",
       "<line clip-path=\"url(#clip243)\" x1=\"614.323\" y1=\"589.33\" x2=\"598.323\" y2=\"589.33\" style=\"stroke:#009af9; stroke-width:3.2; stroke-opacity:1\"/>\n",
       "<line clip-path=\"url(#clip243)\" x1=\"614.323\" y1=\"589.33\" x2=\"614.323\" y2=\"605.33\" style=\"stroke:#009af9; stroke-width:3.2; stroke-opacity:1\"/>\n",
       "<line clip-path=\"url(#clip243)\" x1=\"614.323\" y1=\"589.33\" x2=\"630.323\" y2=\"589.33\" style=\"stroke:#009af9; stroke-width:3.2; stroke-opacity:1\"/>\n",
       "<line clip-path=\"url(#clip243)\" x1=\"690.637\" y1=\"589.33\" x2=\"690.637\" y2=\"573.33\" style=\"stroke:#009af9; stroke-width:3.2; stroke-opacity:1\"/>\n",
       "<line clip-path=\"url(#clip243)\" x1=\"690.637\" y1=\"589.33\" x2=\"674.637\" y2=\"589.33\" style=\"stroke:#009af9; stroke-width:3.2; stroke-opacity:1\"/>\n",
       "<line clip-path=\"url(#clip243)\" x1=\"690.637\" y1=\"589.33\" x2=\"690.637\" y2=\"605.33\" style=\"stroke:#009af9; stroke-width:3.2; stroke-opacity:1\"/>\n",
       "<line clip-path=\"url(#clip243)\" x1=\"690.637\" y1=\"589.33\" x2=\"706.637\" y2=\"589.33\" style=\"stroke:#009af9; stroke-width:3.2; stroke-opacity:1\"/>\n",
       "<line clip-path=\"url(#clip243)\" x1=\"766.951\" y1=\"589.33\" x2=\"766.951\" y2=\"573.33\" style=\"stroke:#009af9; stroke-width:3.2; stroke-opacity:1\"/>\n",
       "<line clip-path=\"url(#clip243)\" x1=\"766.951\" y1=\"589.33\" x2=\"750.951\" y2=\"589.33\" style=\"stroke:#009af9; stroke-width:3.2; stroke-opacity:1\"/>\n",
       "<line clip-path=\"url(#clip243)\" x1=\"766.951\" y1=\"589.33\" x2=\"766.951\" y2=\"605.33\" style=\"stroke:#009af9; stroke-width:3.2; stroke-opacity:1\"/>\n",
       "<line clip-path=\"url(#clip243)\" x1=\"766.951\" y1=\"589.33\" x2=\"782.951\" y2=\"589.33\" style=\"stroke:#009af9; stroke-width:3.2; stroke-opacity:1\"/>\n",
       "<line clip-path=\"url(#clip243)\" x1=\"843.265\" y1=\"589.33\" x2=\"843.265\" y2=\"573.33\" style=\"stroke:#009af9; stroke-width:3.2; stroke-opacity:1\"/>\n",
       "<line clip-path=\"url(#clip243)\" x1=\"843.265\" y1=\"589.33\" x2=\"827.265\" y2=\"589.33\" style=\"stroke:#009af9; stroke-width:3.2; stroke-opacity:1\"/>\n",
       "<line clip-path=\"url(#clip243)\" x1=\"843.265\" y1=\"589.33\" x2=\"843.265\" y2=\"605.33\" style=\"stroke:#009af9; stroke-width:3.2; stroke-opacity:1\"/>\n",
       "<line clip-path=\"url(#clip243)\" x1=\"843.265\" y1=\"589.33\" x2=\"859.265\" y2=\"589.33\" style=\"stroke:#009af9; stroke-width:3.2; stroke-opacity:1\"/>\n",
       "<line clip-path=\"url(#clip243)\" x1=\"919.579\" y1=\"589.33\" x2=\"919.579\" y2=\"573.33\" style=\"stroke:#009af9; stroke-width:3.2; stroke-opacity:1\"/>\n",
       "<line clip-path=\"url(#clip243)\" x1=\"919.579\" y1=\"589.33\" x2=\"903.579\" y2=\"589.33\" style=\"stroke:#009af9; stroke-width:3.2; stroke-opacity:1\"/>\n",
       "<line clip-path=\"url(#clip243)\" x1=\"919.579\" y1=\"589.33\" x2=\"919.579\" y2=\"605.33\" style=\"stroke:#009af9; stroke-width:3.2; stroke-opacity:1\"/>\n",
       "<line clip-path=\"url(#clip243)\" x1=\"919.579\" y1=\"589.33\" x2=\"935.579\" y2=\"589.33\" style=\"stroke:#009af9; stroke-width:3.2; stroke-opacity:1\"/>\n",
       "<line clip-path=\"url(#clip243)\" x1=\"995.893\" y1=\"589.33\" x2=\"995.893\" y2=\"573.33\" style=\"stroke:#009af9; stroke-width:3.2; stroke-opacity:1\"/>\n",
       "<line clip-path=\"url(#clip243)\" x1=\"995.893\" y1=\"589.33\" x2=\"979.893\" y2=\"589.33\" style=\"stroke:#009af9; stroke-width:3.2; stroke-opacity:1\"/>\n",
       "<line clip-path=\"url(#clip243)\" x1=\"995.893\" y1=\"589.33\" x2=\"995.893\" y2=\"605.33\" style=\"stroke:#009af9; stroke-width:3.2; stroke-opacity:1\"/>\n",
       "<line clip-path=\"url(#clip243)\" x1=\"995.893\" y1=\"589.33\" x2=\"1011.89\" y2=\"589.33\" style=\"stroke:#009af9; stroke-width:3.2; stroke-opacity:1\"/>\n",
       "<line clip-path=\"url(#clip243)\" x1=\"1072.21\" y1=\"634.853\" x2=\"1072.21\" y2=\"618.853\" style=\"stroke:#009af9; stroke-width:3.2; stroke-opacity:1\"/>\n",
       "<line clip-path=\"url(#clip243)\" x1=\"1072.21\" y1=\"634.853\" x2=\"1056.21\" y2=\"634.853\" style=\"stroke:#009af9; stroke-width:3.2; stroke-opacity:1\"/>\n",
       "<line clip-path=\"url(#clip243)\" x1=\"1072.21\" y1=\"634.853\" x2=\"1072.21\" y2=\"650.853\" style=\"stroke:#009af9; stroke-width:3.2; stroke-opacity:1\"/>\n",
       "<line clip-path=\"url(#clip243)\" x1=\"1072.21\" y1=\"634.853\" x2=\"1088.21\" y2=\"634.853\" style=\"stroke:#009af9; stroke-width:3.2; stroke-opacity:1\"/>\n",
       "<line clip-path=\"url(#clip243)\" x1=\"1148.52\" y1=\"881.093\" x2=\"1148.52\" y2=\"865.093\" style=\"stroke:#009af9; stroke-width:3.2; stroke-opacity:1\"/>\n",
       "<line clip-path=\"url(#clip243)\" x1=\"1148.52\" y1=\"881.093\" x2=\"1132.52\" y2=\"881.093\" style=\"stroke:#009af9; stroke-width:3.2; stroke-opacity:1\"/>\n",
       "<line clip-path=\"url(#clip243)\" x1=\"1148.52\" y1=\"881.093\" x2=\"1148.52\" y2=\"897.093\" style=\"stroke:#009af9; stroke-width:3.2; stroke-opacity:1\"/>\n",
       "<line clip-path=\"url(#clip243)\" x1=\"1148.52\" y1=\"881.093\" x2=\"1164.52\" y2=\"881.093\" style=\"stroke:#009af9; stroke-width:3.2; stroke-opacity:1\"/>\n",
       "<line clip-path=\"url(#clip243)\" x1=\"1224.83\" y1=\"662.615\" x2=\"1224.83\" y2=\"646.615\" style=\"stroke:#009af9; stroke-width:3.2; stroke-opacity:1\"/>\n",
       "<line clip-path=\"url(#clip243)\" x1=\"1224.83\" y1=\"662.615\" x2=\"1208.83\" y2=\"662.615\" style=\"stroke:#009af9; stroke-width:3.2; stroke-opacity:1\"/>\n",
       "<line clip-path=\"url(#clip243)\" x1=\"1224.83\" y1=\"662.615\" x2=\"1224.83\" y2=\"678.615\" style=\"stroke:#009af9; stroke-width:3.2; stroke-opacity:1\"/>\n",
       "<line clip-path=\"url(#clip243)\" x1=\"1224.83\" y1=\"662.615\" x2=\"1240.83\" y2=\"662.615\" style=\"stroke:#009af9; stroke-width:3.2; stroke-opacity:1\"/>\n",
       "<line clip-path=\"url(#clip243)\" x1=\"1301.15\" y1=\"589.331\" x2=\"1301.15\" y2=\"573.331\" style=\"stroke:#009af9; stroke-width:3.2; stroke-opacity:1\"/>\n",
       "<line clip-path=\"url(#clip243)\" x1=\"1301.15\" y1=\"589.331\" x2=\"1285.15\" y2=\"589.331\" style=\"stroke:#009af9; stroke-width:3.2; stroke-opacity:1\"/>\n",
       "<line clip-path=\"url(#clip243)\" x1=\"1301.15\" y1=\"589.331\" x2=\"1301.15\" y2=\"605.331\" style=\"stroke:#009af9; stroke-width:3.2; stroke-opacity:1\"/>\n",
       "<line clip-path=\"url(#clip243)\" x1=\"1301.15\" y1=\"589.331\" x2=\"1317.15\" y2=\"589.331\" style=\"stroke:#009af9; stroke-width:3.2; stroke-opacity:1\"/>\n",
       "<line clip-path=\"url(#clip243)\" x1=\"1377.46\" y1=\"589.331\" x2=\"1377.46\" y2=\"573.331\" style=\"stroke:#009af9; stroke-width:3.2; stroke-opacity:1\"/>\n",
       "<line clip-path=\"url(#clip243)\" x1=\"1377.46\" y1=\"589.331\" x2=\"1361.46\" y2=\"589.331\" style=\"stroke:#009af9; stroke-width:3.2; stroke-opacity:1\"/>\n",
       "<line clip-path=\"url(#clip243)\" x1=\"1377.46\" y1=\"589.331\" x2=\"1377.46\" y2=\"605.331\" style=\"stroke:#009af9; stroke-width:3.2; stroke-opacity:1\"/>\n",
       "<line clip-path=\"url(#clip243)\" x1=\"1377.46\" y1=\"589.331\" x2=\"1393.46\" y2=\"589.331\" style=\"stroke:#009af9; stroke-width:3.2; stroke-opacity:1\"/>\n",
       "<line clip-path=\"url(#clip243)\" x1=\"1453.78\" y1=\"589.331\" x2=\"1453.78\" y2=\"573.331\" style=\"stroke:#009af9; stroke-width:3.2; stroke-opacity:1\"/>\n",
       "<line clip-path=\"url(#clip243)\" x1=\"1453.78\" y1=\"589.331\" x2=\"1437.78\" y2=\"589.331\" style=\"stroke:#009af9; stroke-width:3.2; stroke-opacity:1\"/>\n",
       "<line clip-path=\"url(#clip243)\" x1=\"1453.78\" y1=\"589.331\" x2=\"1453.78\" y2=\"605.331\" style=\"stroke:#009af9; stroke-width:3.2; stroke-opacity:1\"/>\n",
       "<line clip-path=\"url(#clip243)\" x1=\"1453.78\" y1=\"589.331\" x2=\"1469.78\" y2=\"589.331\" style=\"stroke:#009af9; stroke-width:3.2; stroke-opacity:1\"/>\n",
       "<line clip-path=\"url(#clip243)\" x1=\"1530.09\" y1=\"589.331\" x2=\"1530.09\" y2=\"573.331\" style=\"stroke:#009af9; stroke-width:3.2; stroke-opacity:1\"/>\n",
       "<line clip-path=\"url(#clip243)\" x1=\"1530.09\" y1=\"589.331\" x2=\"1514.09\" y2=\"589.331\" style=\"stroke:#009af9; stroke-width:3.2; stroke-opacity:1\"/>\n",
       "<line clip-path=\"url(#clip243)\" x1=\"1530.09\" y1=\"589.331\" x2=\"1530.09\" y2=\"605.331\" style=\"stroke:#009af9; stroke-width:3.2; stroke-opacity:1\"/>\n",
       "<line clip-path=\"url(#clip243)\" x1=\"1530.09\" y1=\"589.331\" x2=\"1546.09\" y2=\"589.331\" style=\"stroke:#009af9; stroke-width:3.2; stroke-opacity:1\"/>\n",
       "<line clip-path=\"url(#clip243)\" x1=\"1606.4\" y1=\"589.334\" x2=\"1606.4\" y2=\"573.334\" style=\"stroke:#009af9; stroke-width:3.2; stroke-opacity:1\"/>\n",
       "<line clip-path=\"url(#clip243)\" x1=\"1606.4\" y1=\"589.334\" x2=\"1590.4\" y2=\"589.334\" style=\"stroke:#009af9; stroke-width:3.2; stroke-opacity:1\"/>\n",
       "<line clip-path=\"url(#clip243)\" x1=\"1606.4\" y1=\"589.334\" x2=\"1606.4\" y2=\"605.334\" style=\"stroke:#009af9; stroke-width:3.2; stroke-opacity:1\"/>\n",
       "<line clip-path=\"url(#clip243)\" x1=\"1606.4\" y1=\"589.334\" x2=\"1622.4\" y2=\"589.334\" style=\"stroke:#009af9; stroke-width:3.2; stroke-opacity:1\"/>\n",
       "<line clip-path=\"url(#clip243)\" x1=\"1682.72\" y1=\"760.055\" x2=\"1682.72\" y2=\"744.055\" style=\"stroke:#009af9; stroke-width:3.2; stroke-opacity:1\"/>\n",
       "<line clip-path=\"url(#clip243)\" x1=\"1682.72\" y1=\"760.055\" x2=\"1666.72\" y2=\"760.055\" style=\"stroke:#009af9; stroke-width:3.2; stroke-opacity:1\"/>\n",
       "<line clip-path=\"url(#clip243)\" x1=\"1682.72\" y1=\"760.055\" x2=\"1682.72\" y2=\"776.055\" style=\"stroke:#009af9; stroke-width:3.2; stroke-opacity:1\"/>\n",
       "<line clip-path=\"url(#clip243)\" x1=\"1682.72\" y1=\"760.055\" x2=\"1698.72\" y2=\"760.055\" style=\"stroke:#009af9; stroke-width:3.2; stroke-opacity:1\"/>\n",
       "<line clip-path=\"url(#clip243)\" x1=\"1759.03\" y1=\"739.832\" x2=\"1759.03\" y2=\"723.832\" style=\"stroke:#009af9; stroke-width:3.2; stroke-opacity:1\"/>\n",
       "<line clip-path=\"url(#clip243)\" x1=\"1759.03\" y1=\"739.832\" x2=\"1743.03\" y2=\"739.832\" style=\"stroke:#009af9; stroke-width:3.2; stroke-opacity:1\"/>\n",
       "<line clip-path=\"url(#clip243)\" x1=\"1759.03\" y1=\"739.832\" x2=\"1759.03\" y2=\"755.832\" style=\"stroke:#009af9; stroke-width:3.2; stroke-opacity:1\"/>\n",
       "<line clip-path=\"url(#clip243)\" x1=\"1759.03\" y1=\"739.832\" x2=\"1775.03\" y2=\"739.832\" style=\"stroke:#009af9; stroke-width:3.2; stroke-opacity:1\"/>\n",
       "<line clip-path=\"url(#clip243)\" x1=\"1835.35\" y1=\"589.365\" x2=\"1835.35\" y2=\"573.365\" style=\"stroke:#009af9; stroke-width:3.2; stroke-opacity:1\"/>\n",
       "<line clip-path=\"url(#clip243)\" x1=\"1835.35\" y1=\"589.365\" x2=\"1819.35\" y2=\"589.365\" style=\"stroke:#009af9; stroke-width:3.2; stroke-opacity:1\"/>\n",
       "<line clip-path=\"url(#clip243)\" x1=\"1835.35\" y1=\"589.365\" x2=\"1835.35\" y2=\"605.365\" style=\"stroke:#009af9; stroke-width:3.2; stroke-opacity:1\"/>\n",
       "<line clip-path=\"url(#clip243)\" x1=\"1835.35\" y1=\"589.365\" x2=\"1851.35\" y2=\"589.365\" style=\"stroke:#009af9; stroke-width:3.2; stroke-opacity:1\"/>\n",
       "<line clip-path=\"url(#clip243)\" x1=\"1911.66\" y1=\"589.376\" x2=\"1911.66\" y2=\"573.376\" style=\"stroke:#009af9; stroke-width:3.2; stroke-opacity:1\"/>\n",
       "<line clip-path=\"url(#clip243)\" x1=\"1911.66\" y1=\"589.376\" x2=\"1895.66\" y2=\"589.376\" style=\"stroke:#009af9; stroke-width:3.2; stroke-opacity:1\"/>\n",
       "<line clip-path=\"url(#clip243)\" x1=\"1911.66\" y1=\"589.376\" x2=\"1911.66\" y2=\"605.376\" style=\"stroke:#009af9; stroke-width:3.2; stroke-opacity:1\"/>\n",
       "<line clip-path=\"url(#clip243)\" x1=\"1911.66\" y1=\"589.376\" x2=\"1927.66\" y2=\"589.376\" style=\"stroke:#009af9; stroke-width:3.2; stroke-opacity:1\"/>\n",
       "<line clip-path=\"url(#clip243)\" x1=\"1987.97\" y1=\"589.521\" x2=\"1987.97\" y2=\"573.521\" style=\"stroke:#009af9; stroke-width:3.2; stroke-opacity:1\"/>\n",
       "<line clip-path=\"url(#clip243)\" x1=\"1987.97\" y1=\"589.521\" x2=\"1971.97\" y2=\"589.521\" style=\"stroke:#009af9; stroke-width:3.2; stroke-opacity:1\"/>\n",
       "<line clip-path=\"url(#clip243)\" x1=\"1987.97\" y1=\"589.521\" x2=\"1987.97\" y2=\"605.521\" style=\"stroke:#009af9; stroke-width:3.2; stroke-opacity:1\"/>\n",
       "<line clip-path=\"url(#clip243)\" x1=\"1987.97\" y1=\"589.521\" x2=\"2003.97\" y2=\"589.521\" style=\"stroke:#009af9; stroke-width:3.2; stroke-opacity:1\"/>\n",
       "<line clip-path=\"url(#clip243)\" x1=\"2064.29\" y1=\"652.194\" x2=\"2064.29\" y2=\"636.194\" style=\"stroke:#009af9; stroke-width:3.2; stroke-opacity:1\"/>\n",
       "<line clip-path=\"url(#clip243)\" x1=\"2064.29\" y1=\"652.194\" x2=\"2048.29\" y2=\"652.194\" style=\"stroke:#009af9; stroke-width:3.2; stroke-opacity:1\"/>\n",
       "<line clip-path=\"url(#clip243)\" x1=\"2064.29\" y1=\"652.194\" x2=\"2064.29\" y2=\"668.194\" style=\"stroke:#009af9; stroke-width:3.2; stroke-opacity:1\"/>\n",
       "<line clip-path=\"url(#clip243)\" x1=\"2064.29\" y1=\"652.194\" x2=\"2080.29\" y2=\"652.194\" style=\"stroke:#009af9; stroke-width:3.2; stroke-opacity:1\"/>\n",
       "<line clip-path=\"url(#clip243)\" x1=\"2140.6\" y1=\"628.968\" x2=\"2140.6\" y2=\"612.968\" style=\"stroke:#009af9; stroke-width:3.2; stroke-opacity:1\"/>\n",
       "<line clip-path=\"url(#clip243)\" x1=\"2140.6\" y1=\"628.968\" x2=\"2124.6\" y2=\"628.968\" style=\"stroke:#009af9; stroke-width:3.2; stroke-opacity:1\"/>\n",
       "<line clip-path=\"url(#clip243)\" x1=\"2140.6\" y1=\"628.968\" x2=\"2140.6\" y2=\"644.968\" style=\"stroke:#009af9; stroke-width:3.2; stroke-opacity:1\"/>\n",
       "<line clip-path=\"url(#clip243)\" x1=\"2140.6\" y1=\"628.968\" x2=\"2156.6\" y2=\"628.968\" style=\"stroke:#009af9; stroke-width:3.2; stroke-opacity:1\"/>\n",
       "<line clip-path=\"url(#clip243)\" x1=\"2216.92\" y1=\"672.547\" x2=\"2216.92\" y2=\"656.547\" style=\"stroke:#009af9; stroke-width:3.2; stroke-opacity:1\"/>\n",
       "<line clip-path=\"url(#clip243)\" x1=\"2216.92\" y1=\"672.547\" x2=\"2200.92\" y2=\"672.547\" style=\"stroke:#009af9; stroke-width:3.2; stroke-opacity:1\"/>\n",
       "<line clip-path=\"url(#clip243)\" x1=\"2216.92\" y1=\"672.547\" x2=\"2216.92\" y2=\"688.547\" style=\"stroke:#009af9; stroke-width:3.2; stroke-opacity:1\"/>\n",
       "<line clip-path=\"url(#clip243)\" x1=\"2216.92\" y1=\"672.547\" x2=\"2232.92\" y2=\"672.547\" style=\"stroke:#009af9; stroke-width:3.2; stroke-opacity:1\"/>\n",
       "<line clip-path=\"url(#clip243)\" x1=\"2293.23\" y1=\"676.045\" x2=\"2293.23\" y2=\"660.045\" style=\"stroke:#009af9; stroke-width:3.2; stroke-opacity:1\"/>\n",
       "<line clip-path=\"url(#clip243)\" x1=\"2293.23\" y1=\"676.045\" x2=\"2277.23\" y2=\"676.045\" style=\"stroke:#009af9; stroke-width:3.2; stroke-opacity:1\"/>\n",
       "<line clip-path=\"url(#clip243)\" x1=\"2293.23\" y1=\"676.045\" x2=\"2293.23\" y2=\"692.045\" style=\"stroke:#009af9; stroke-width:3.2; stroke-opacity:1\"/>\n",
       "<line clip-path=\"url(#clip243)\" x1=\"2293.23\" y1=\"676.045\" x2=\"2309.23\" y2=\"676.045\" style=\"stroke:#009af9; stroke-width:3.2; stroke-opacity:1\"/>\n",
       "<polyline clip-path=\"url(#clip243)\" style=\"stroke:#ff0000; stroke-linecap:round; stroke-linejoin:round; stroke-width:20; stroke-opacity:0.3; fill:none\" points=\"309.067,589.33 309.067,589.33 385.381,589.33 385.381,589.33 461.695,589.33 461.695,589.33 538.009,589.33 538.009,589.33 614.323,589.33 614.323,589.33 690.637,589.33 690.637,589.33 766.951,589.33 766.951,589.33 843.265,589.33 843.265,589.33 919.579,589.33 919.579,589.33 995.893,589.33 995.893,634.853 1072.21,634.853 1072.21,881.093 1148.52,881.093 1148.52,662.615 1224.83,662.615 1224.83,589.331 1301.15,589.331 1301.15,589.331 1377.46,589.331 1377.46,589.331 1453.78,589.331 1453.78,589.331 1530.09,589.331 1530.09,589.334 1606.4,589.334 1606.4,760.055 1682.72,760.055 1682.72,739.832 1759.03,739.832 1759.03,589.365 1835.35,589.365 1835.35,589.376 1911.66,589.376 1911.66,589.521 1987.97,589.521 1987.97,652.194 2064.29,652.194 2064.29,628.968 2140.6,628.968 2140.6,672.547 2216.92,672.547 2216.92,676.045 2293.23,676.045 \"/>\n",
       "<circle clip-path=\"url(#clip243)\" cx=\"309.067\" cy=\"589.33\" r=\"14.4\" fill=\"#e26f46\" fill-rule=\"evenodd\" fill-opacity=\"1\" stroke=\"#000000\" stroke-opacity=\"1\" stroke-width=\"3.2\"/>\n",
       "<circle clip-path=\"url(#clip243)\" cx=\"385.381\" cy=\"589.33\" r=\"14.4\" fill=\"#e26f46\" fill-rule=\"evenodd\" fill-opacity=\"1\" stroke=\"#000000\" stroke-opacity=\"1\" stroke-width=\"3.2\"/>\n",
       "<circle clip-path=\"url(#clip243)\" cx=\"461.695\" cy=\"589.33\" r=\"14.4\" fill=\"#e26f46\" fill-rule=\"evenodd\" fill-opacity=\"1\" stroke=\"#000000\" stroke-opacity=\"1\" stroke-width=\"3.2\"/>\n",
       "<circle clip-path=\"url(#clip243)\" cx=\"538.009\" cy=\"589.33\" r=\"14.4\" fill=\"#e26f46\" fill-rule=\"evenodd\" fill-opacity=\"1\" stroke=\"#000000\" stroke-opacity=\"1\" stroke-width=\"3.2\"/>\n",
       "<circle clip-path=\"url(#clip243)\" cx=\"614.323\" cy=\"589.33\" r=\"14.4\" fill=\"#e26f46\" fill-rule=\"evenodd\" fill-opacity=\"1\" stroke=\"#000000\" stroke-opacity=\"1\" stroke-width=\"3.2\"/>\n",
       "<circle clip-path=\"url(#clip243)\" cx=\"690.637\" cy=\"589.33\" r=\"14.4\" fill=\"#e26f46\" fill-rule=\"evenodd\" fill-opacity=\"1\" stroke=\"#000000\" stroke-opacity=\"1\" stroke-width=\"3.2\"/>\n",
       "<circle clip-path=\"url(#clip243)\" cx=\"766.951\" cy=\"589.33\" r=\"14.4\" fill=\"#e26f46\" fill-rule=\"evenodd\" fill-opacity=\"1\" stroke=\"#000000\" stroke-opacity=\"1\" stroke-width=\"3.2\"/>\n",
       "<circle clip-path=\"url(#clip243)\" cx=\"843.265\" cy=\"589.33\" r=\"14.4\" fill=\"#e26f46\" fill-rule=\"evenodd\" fill-opacity=\"1\" stroke=\"#000000\" stroke-opacity=\"1\" stroke-width=\"3.2\"/>\n",
       "<circle clip-path=\"url(#clip243)\" cx=\"919.579\" cy=\"589.33\" r=\"14.4\" fill=\"#e26f46\" fill-rule=\"evenodd\" fill-opacity=\"1\" stroke=\"#000000\" stroke-opacity=\"1\" stroke-width=\"3.2\"/>\n",
       "<circle clip-path=\"url(#clip243)\" cx=\"995.893\" cy=\"589.33\" r=\"14.4\" fill=\"#e26f46\" fill-rule=\"evenodd\" fill-opacity=\"1\" stroke=\"#000000\" stroke-opacity=\"1\" stroke-width=\"3.2\"/>\n",
       "<circle clip-path=\"url(#clip243)\" cx=\"1072.21\" cy=\"634.85\" r=\"14.4\" fill=\"#e26f46\" fill-rule=\"evenodd\" fill-opacity=\"1\" stroke=\"#000000\" stroke-opacity=\"1\" stroke-width=\"3.2\"/>\n",
       "<circle clip-path=\"url(#clip243)\" cx=\"1148.52\" cy=\"881.094\" r=\"14.4\" fill=\"#e26f46\" fill-rule=\"evenodd\" fill-opacity=\"1\" stroke=\"#000000\" stroke-opacity=\"1\" stroke-width=\"3.2\"/>\n",
       "<circle clip-path=\"url(#clip243)\" cx=\"1224.83\" cy=\"662.621\" r=\"14.4\" fill=\"#e26f46\" fill-rule=\"evenodd\" fill-opacity=\"1\" stroke=\"#000000\" stroke-opacity=\"1\" stroke-width=\"3.2\"/>\n",
       "<circle clip-path=\"url(#clip243)\" cx=\"1301.15\" cy=\"589.33\" r=\"14.4\" fill=\"#e26f46\" fill-rule=\"evenodd\" fill-opacity=\"1\" stroke=\"#000000\" stroke-opacity=\"1\" stroke-width=\"3.2\"/>\n",
       "<circle clip-path=\"url(#clip243)\" cx=\"1377.46\" cy=\"589.33\" r=\"14.4\" fill=\"#e26f46\" fill-rule=\"evenodd\" fill-opacity=\"1\" stroke=\"#000000\" stroke-opacity=\"1\" stroke-width=\"3.2\"/>\n",
       "<circle clip-path=\"url(#clip243)\" cx=\"1453.78\" cy=\"589.33\" r=\"14.4\" fill=\"#e26f46\" fill-rule=\"evenodd\" fill-opacity=\"1\" stroke=\"#000000\" stroke-opacity=\"1\" stroke-width=\"3.2\"/>\n",
       "<circle clip-path=\"url(#clip243)\" cx=\"1530.09\" cy=\"589.33\" r=\"14.4\" fill=\"#e26f46\" fill-rule=\"evenodd\" fill-opacity=\"1\" stroke=\"#000000\" stroke-opacity=\"1\" stroke-width=\"3.2\"/>\n",
       "<circle clip-path=\"url(#clip243)\" cx=\"1606.4\" cy=\"589.33\" r=\"14.4\" fill=\"#e26f46\" fill-rule=\"evenodd\" fill-opacity=\"1\" stroke=\"#000000\" stroke-opacity=\"1\" stroke-width=\"3.2\"/>\n",
       "<circle clip-path=\"url(#clip243)\" cx=\"1682.72\" cy=\"760.002\" r=\"14.4\" fill=\"#e26f46\" fill-rule=\"evenodd\" fill-opacity=\"1\" stroke=\"#000000\" stroke-opacity=\"1\" stroke-width=\"3.2\"/>\n",
       "<circle clip-path=\"url(#clip243)\" cx=\"1759.03\" cy=\"739.955\" r=\"14.4\" fill=\"#e26f46\" fill-rule=\"evenodd\" fill-opacity=\"1\" stroke=\"#000000\" stroke-opacity=\"1\" stroke-width=\"3.2\"/>\n",
       "<circle clip-path=\"url(#clip243)\" cx=\"1835.35\" cy=\"589.33\" r=\"14.4\" fill=\"#e26f46\" fill-rule=\"evenodd\" fill-opacity=\"1\" stroke=\"#000000\" stroke-opacity=\"1\" stroke-width=\"3.2\"/>\n",
       "<circle clip-path=\"url(#clip243)\" cx=\"1911.66\" cy=\"589.33\" r=\"14.4\" fill=\"#e26f46\" fill-rule=\"evenodd\" fill-opacity=\"1\" stroke=\"#000000\" stroke-opacity=\"1\" stroke-width=\"3.2\"/>\n",
       "<circle clip-path=\"url(#clip243)\" cx=\"1987.97\" cy=\"589.33\" r=\"14.4\" fill=\"#e26f46\" fill-rule=\"evenodd\" fill-opacity=\"1\" stroke=\"#000000\" stroke-opacity=\"1\" stroke-width=\"3.2\"/>\n",
       "<circle clip-path=\"url(#clip243)\" cx=\"2064.29\" cy=\"652.796\" r=\"14.4\" fill=\"#e26f46\" fill-rule=\"evenodd\" fill-opacity=\"1\" stroke=\"#000000\" stroke-opacity=\"1\" stroke-width=\"3.2\"/>\n",
       "<circle clip-path=\"url(#clip243)\" cx=\"2140.6\" cy=\"628.167\" r=\"14.4\" fill=\"#e26f46\" fill-rule=\"evenodd\" fill-opacity=\"1\" stroke=\"#000000\" stroke-opacity=\"1\" stroke-width=\"3.2\"/>\n",
       "<circle clip-path=\"url(#clip243)\" cx=\"2216.92\" cy=\"673.192\" r=\"14.4\" fill=\"#e26f46\" fill-rule=\"evenodd\" fill-opacity=\"1\" stroke=\"#000000\" stroke-opacity=\"1\" stroke-width=\"3.2\"/>\n",
       "<circle clip-path=\"url(#clip243)\" cx=\"2293.23\" cy=\"675.738\" r=\"14.4\" fill=\"#e26f46\" fill-rule=\"evenodd\" fill-opacity=\"1\" stroke=\"#000000\" stroke-opacity=\"1\" stroke-width=\"3.2\"/>\n",
       "<polyline clip-path=\"url(#clip243)\" style=\"stroke:#80007f; stroke-linecap:round; stroke-linejoin:round; stroke-width:20; stroke-opacity:0.3; fill:none\" points=\"309.067,589.33 309.067,589.33 385.381,589.33 461.695,589.33 538.009,589.33 614.323,589.33 690.637,589.33 766.951,589.33 843.265,589.33 919.579,589.33 995.893,589.33 995.893,634.85 1072.21,634.85 1072.21,881.094 1148.52,881.094 1148.52,662.621 1224.83,662.621 1224.83,589.33 1301.15,589.33 1377.46,589.33 1453.78,589.33 1530.09,589.33 1606.4,589.33 1606.4,760.002 1682.72,760.002 1682.72,739.955 1759.03,739.955 1759.03,589.33 1835.35,589.33 1911.66,589.33 1987.97,589.33 1987.97,652.796 2064.29,652.796 2064.29,628.167 2140.6,628.167 2140.6,673.192 2216.92,673.192 2216.92,675.738 2293.23,675.738 \"/>\n",
       "<path clip-path=\"url(#clip243)\" d=\"M309.067 573.334 L293.067 589.334 L309.067 605.334 L325.067 589.334 L309.067 573.334 Z\" fill=\"#3da44d\" fill-rule=\"evenodd\" fill-opacity=\"1\" stroke=\"#000000\" stroke-opacity=\"1\" stroke-width=\"3.2\"/>\n",
       "<path clip-path=\"url(#clip243)\" d=\"M385.381 573.332 L369.381 589.332 L385.381 605.332 L401.381 589.332 L385.381 573.332 Z\" fill=\"#3da44d\" fill-rule=\"evenodd\" fill-opacity=\"1\" stroke=\"#000000\" stroke-opacity=\"1\" stroke-width=\"3.2\"/>\n",
       "<path clip-path=\"url(#clip243)\" d=\"M461.695 573.331 L445.695 589.331 L461.695 605.331 L477.695 589.331 L461.695 573.331 Z\" fill=\"#3da44d\" fill-rule=\"evenodd\" fill-opacity=\"1\" stroke=\"#000000\" stroke-opacity=\"1\" stroke-width=\"3.2\"/>\n",
       "<path clip-path=\"url(#clip243)\" d=\"M538.009 573.331 L522.009 589.331 L538.009 605.331 L554.009 589.331 L538.009 573.331 Z\" fill=\"#3da44d\" fill-rule=\"evenodd\" fill-opacity=\"1\" stroke=\"#000000\" stroke-opacity=\"1\" stroke-width=\"3.2\"/>\n",
       "<path clip-path=\"url(#clip243)\" d=\"M614.323 573.331 L598.323 589.331 L614.323 605.331 L630.323 589.331 L614.323 573.331 Z\" fill=\"#3da44d\" fill-rule=\"evenodd\" fill-opacity=\"1\" stroke=\"#000000\" stroke-opacity=\"1\" stroke-width=\"3.2\"/>\n",
       "<path clip-path=\"url(#clip243)\" d=\"M690.637 573.331 L674.637 589.331 L690.637 605.331 L706.637 589.331 L690.637 573.331 Z\" fill=\"#3da44d\" fill-rule=\"evenodd\" fill-opacity=\"1\" stroke=\"#000000\" stroke-opacity=\"1\" stroke-width=\"3.2\"/>\n",
       "<path clip-path=\"url(#clip243)\" d=\"M766.951 573.331 L750.951 589.331 L766.951 605.331 L782.951 589.331 L766.951 573.331 Z\" fill=\"#3da44d\" fill-rule=\"evenodd\" fill-opacity=\"1\" stroke=\"#000000\" stroke-opacity=\"1\" stroke-width=\"3.2\"/>\n",
       "<path clip-path=\"url(#clip243)\" d=\"M843.265 573.331 L827.265 589.331 L843.265 605.331 L859.265 589.331 L843.265 573.331 Z\" fill=\"#3da44d\" fill-rule=\"evenodd\" fill-opacity=\"1\" stroke=\"#000000\" stroke-opacity=\"1\" stroke-width=\"3.2\"/>\n",
       "<path clip-path=\"url(#clip243)\" d=\"M919.579 573.331 L903.579 589.331 L919.579 605.331 L935.579 589.331 L919.579 573.331 Z\" fill=\"#3da44d\" fill-rule=\"evenodd\" fill-opacity=\"1\" stroke=\"#000000\" stroke-opacity=\"1\" stroke-width=\"3.2\"/>\n",
       "<path clip-path=\"url(#clip243)\" d=\"M995.893 573.334 L979.893 589.334 L995.893 605.334 L1011.89 589.334 L995.893 573.334 Z\" fill=\"#3da44d\" fill-rule=\"evenodd\" fill-opacity=\"1\" stroke=\"#000000\" stroke-opacity=\"1\" stroke-width=\"3.2\"/>\n",
       "<path clip-path=\"url(#clip243)\" d=\"M1072.21 619.001 L1056.21 635.001 L1072.21 651.001 L1088.21 635.001 L1072.21 619.001 Z\" fill=\"#3da44d\" fill-rule=\"evenodd\" fill-opacity=\"1\" stroke=\"#000000\" stroke-opacity=\"1\" stroke-width=\"3.2\"/>\n",
       "<path clip-path=\"url(#clip243)\" d=\"M1148.52 865.071 L1132.52 881.071 L1148.52 897.071 L1164.52 881.071 L1148.52 865.071 Z\" fill=\"#3da44d\" fill-rule=\"evenodd\" fill-opacity=\"1\" stroke=\"#000000\" stroke-opacity=\"1\" stroke-width=\"3.2\"/>\n",
       "<path clip-path=\"url(#clip243)\" d=\"M1224.83 646.341 L1208.83 662.341 L1224.83 678.341 L1240.83 662.341 L1224.83 646.341 Z\" fill=\"#3da44d\" fill-rule=\"evenodd\" fill-opacity=\"1\" stroke=\"#000000\" stroke-opacity=\"1\" stroke-width=\"3.2\"/>\n",
       "<path clip-path=\"url(#clip243)\" d=\"M1301.15 573.353 L1285.15 589.353 L1301.15 605.353 L1317.15 589.353 L1301.15 573.353 Z\" fill=\"#3da44d\" fill-rule=\"evenodd\" fill-opacity=\"1\" stroke=\"#000000\" stroke-opacity=\"1\" stroke-width=\"3.2\"/>\n",
       "<path clip-path=\"url(#clip243)\" d=\"M1377.46 573.348 L1361.46 589.348 L1377.46 605.348 L1393.46 589.348 L1377.46 573.348 Z\" fill=\"#3da44d\" fill-rule=\"evenodd\" fill-opacity=\"1\" stroke=\"#000000\" stroke-opacity=\"1\" stroke-width=\"3.2\"/>\n",
       "<path clip-path=\"url(#clip243)\" d=\"M1453.78 573.353 L1437.78 589.353 L1453.78 605.353 L1469.78 589.353 L1453.78 573.353 Z\" fill=\"#3da44d\" fill-rule=\"evenodd\" fill-opacity=\"1\" stroke=\"#000000\" stroke-opacity=\"1\" stroke-width=\"3.2\"/>\n",
       "<path clip-path=\"url(#clip243)\" d=\"M1530.09 573.376 L1514.09 589.376 L1530.09 605.376 L1546.09 589.376 L1530.09 573.376 Z\" fill=\"#3da44d\" fill-rule=\"evenodd\" fill-opacity=\"1\" stroke=\"#000000\" stroke-opacity=\"1\" stroke-width=\"3.2\"/>\n",
       "<path clip-path=\"url(#clip243)\" d=\"M1606.4 573.5 L1590.4 589.5 L1606.4 605.5 L1622.4 589.5 L1606.4 573.5 Z\" fill=\"#3da44d\" fill-rule=\"evenodd\" fill-opacity=\"1\" stroke=\"#000000\" stroke-opacity=\"1\" stroke-width=\"3.2\"/>\n",
       "<path clip-path=\"url(#clip243)\" d=\"M1682.72 746.57 L1666.72 762.57 L1682.72 778.57 L1698.72 762.57 L1682.72 746.57 Z\" fill=\"#3da44d\" fill-rule=\"evenodd\" fill-opacity=\"1\" stroke=\"#000000\" stroke-opacity=\"1\" stroke-width=\"3.2\"/>\n",
       "<path clip-path=\"url(#clip243)\" d=\"M1759.03 718.226 L1743.03 734.226 L1759.03 750.226 L1775.03 734.226 L1759.03 718.226 Z\" fill=\"#3da44d\" fill-rule=\"evenodd\" fill-opacity=\"1\" stroke=\"#000000\" stroke-opacity=\"1\" stroke-width=\"3.2\"/>\n",
       "<path clip-path=\"url(#clip243)\" d=\"M1835.35 574.865 L1819.35 590.865 L1835.35 606.865 L1851.35 590.865 L1835.35 574.865 Z\" fill=\"#3da44d\" fill-rule=\"evenodd\" fill-opacity=\"1\" stroke=\"#000000\" stroke-opacity=\"1\" stroke-width=\"3.2\"/>\n",
       "<path clip-path=\"url(#clip243)\" d=\"M1911.66 575.491 L1895.66 591.491 L1911.66 607.491 L1927.66 591.491 L1911.66 575.491 Z\" fill=\"#3da44d\" fill-rule=\"evenodd\" fill-opacity=\"1\" stroke=\"#000000\" stroke-opacity=\"1\" stroke-width=\"3.2\"/>\n",
       "<path clip-path=\"url(#clip243)\" d=\"M1987.97 579.941 L1971.97 595.941 L1987.97 611.941 L2003.97 595.941 L1987.97 579.941 Z\" fill=\"#3da44d\" fill-rule=\"evenodd\" fill-opacity=\"1\" stroke=\"#000000\" stroke-opacity=\"1\" stroke-width=\"3.2\"/>\n",
       "<path clip-path=\"url(#clip243)\" d=\"M2064.29 617.675 L2048.29 633.675 L2064.29 649.675 L2080.29 633.675 L2064.29 617.675 Z\" fill=\"#3da44d\" fill-rule=\"evenodd\" fill-opacity=\"1\" stroke=\"#000000\" stroke-opacity=\"1\" stroke-width=\"3.2\"/>\n",
       "<path clip-path=\"url(#clip243)\" d=\"M2140.6 633.583 L2124.6 649.583 L2140.6 665.583 L2156.6 649.583 L2140.6 633.583 Z\" fill=\"#3da44d\" fill-rule=\"evenodd\" fill-opacity=\"1\" stroke=\"#000000\" stroke-opacity=\"1\" stroke-width=\"3.2\"/>\n",
       "<path clip-path=\"url(#clip243)\" d=\"M2216.92 643.389 L2200.92 659.389 L2216.92 675.389 L2232.92 659.389 L2216.92 643.389 Z\" fill=\"#3da44d\" fill-rule=\"evenodd\" fill-opacity=\"1\" stroke=\"#000000\" stroke-opacity=\"1\" stroke-width=\"3.2\"/>\n",
       "<path clip-path=\"url(#clip243)\" d=\"M2293.23 664.747 L2277.23 680.747 L2293.23 696.747 L2309.23 680.747 L2293.23 664.747 Z\" fill=\"#3da44d\" fill-rule=\"evenodd\" fill-opacity=\"1\" stroke=\"#000000\" stroke-opacity=\"1\" stroke-width=\"3.2\"/>\n",
       "<polyline clip-path=\"url(#clip243)\" style=\"stroke:#0000ff; stroke-linecap:round; stroke-linejoin:round; stroke-width:20; stroke-opacity:0.3; fill:none\" points=\"309.067,589.334 309.067,589.332 385.381,589.332 385.381,589.331 461.695,589.331 461.695,589.331 538.009,589.331 538.009,589.331 614.323,589.331 614.323,589.331 690.637,589.331 690.637,589.331 766.951,589.331 766.951,589.331 843.265,589.331 843.265,589.331 919.579,589.331 919.579,589.334 995.893,589.334 995.893,635.001 1072.21,635.001 1072.21,881.071 1148.52,881.071 1148.52,662.341 1224.83,662.341 1224.83,589.353 1301.15,589.353 1301.15,589.348 1377.46,589.348 1377.46,589.353 1453.78,589.353 1453.78,589.376 1530.09,589.376 1530.09,589.5 1606.4,589.5 1606.4,762.57 1682.72,762.57 1682.72,734.226 1759.03,734.226 1759.03,590.865 1835.35,590.865 1835.35,591.491 1911.66,591.491 1911.66,595.941 1987.97,595.941 1987.97,633.675 2064.29,633.675 2064.29,649.583 2140.6,649.583 2140.6,659.389 2216.92,659.389 2216.92,680.747 2293.23,680.747 \"/>\n",
       "<path clip-path=\"url(#clip240)\" d=\"M249.542 1423.18 L2352.76 1423.18 L2352.76 1113.91 L249.542 1113.91  Z\" fill=\"#ffffff\" fill-rule=\"evenodd\" fill-opacity=\"1\"/>\n",
       "<defs>\n",
       "  <clipPath id=\"clip244\">\n",
       "    <rect x=\"249\" y=\"1113\" width=\"2104\" height=\"310\"/>\n",
       "  </clipPath>\n",
       "</defs>\n",
       "<polyline clip-path=\"url(#clip244)\" style=\"stroke:#000000; stroke-linecap:round; stroke-linejoin:round; stroke-width:8; stroke-opacity:0.1; fill:none\" points=\"614.323,1423.18 614.323,1113.91 \"/>\n",
       "<polyline clip-path=\"url(#clip244)\" style=\"stroke:#000000; stroke-linecap:round; stroke-linejoin:round; stroke-width:8; stroke-opacity:0.1; fill:none\" points=\"995.893,1423.18 995.893,1113.91 \"/>\n",
       "<polyline clip-path=\"url(#clip244)\" style=\"stroke:#000000; stroke-linecap:round; stroke-linejoin:round; stroke-width:8; stroke-opacity:0.1; fill:none\" points=\"1377.46,1423.18 1377.46,1113.91 \"/>\n",
       "<polyline clip-path=\"url(#clip244)\" style=\"stroke:#000000; stroke-linecap:round; stroke-linejoin:round; stroke-width:8; stroke-opacity:0.1; fill:none\" points=\"1759.03,1423.18 1759.03,1113.91 \"/>\n",
       "<polyline clip-path=\"url(#clip244)\" style=\"stroke:#000000; stroke-linecap:round; stroke-linejoin:round; stroke-width:8; stroke-opacity:0.1; fill:none\" points=\"2140.6,1423.18 2140.6,1113.91 \"/>\n",
       "<polyline clip-path=\"url(#clip240)\" style=\"stroke:#000000; stroke-linecap:round; stroke-linejoin:round; stroke-width:4; stroke-opacity:1; fill:none\" points=\"249.542,1423.18 2352.76,1423.18 \"/>\n",
       "<polyline clip-path=\"url(#clip240)\" style=\"stroke:#000000; stroke-linecap:round; stroke-linejoin:round; stroke-width:4; stroke-opacity:1; fill:none\" points=\"614.323,1423.18 614.323,1404.28 \"/>\n",
       "<polyline clip-path=\"url(#clip240)\" style=\"stroke:#000000; stroke-linecap:round; stroke-linejoin:round; stroke-width:4; stroke-opacity:1; fill:none\" points=\"995.893,1423.18 995.893,1404.28 \"/>\n",
       "<polyline clip-path=\"url(#clip240)\" style=\"stroke:#000000; stroke-linecap:round; stroke-linejoin:round; stroke-width:4; stroke-opacity:1; fill:none\" points=\"1377.46,1423.18 1377.46,1404.28 \"/>\n",
       "<polyline clip-path=\"url(#clip240)\" style=\"stroke:#000000; stroke-linecap:round; stroke-linejoin:round; stroke-width:4; stroke-opacity:1; fill:none\" points=\"1759.03,1423.18 1759.03,1404.28 \"/>\n",
       "<polyline clip-path=\"url(#clip240)\" style=\"stroke:#000000; stroke-linecap:round; stroke-linejoin:round; stroke-width:4; stroke-opacity:1; fill:none\" points=\"2140.6,1423.18 2140.6,1404.28 \"/>\n",
       "<path clip-path=\"url(#clip240)\" d=\"M604.601 1451.02 L622.957 1451.02 L622.957 1454.96 L608.883 1454.96 L608.883 1463.43 Q609.902 1463.08 610.92 1462.92 Q611.939 1462.73 612.957 1462.73 Q618.744 1462.73 622.124 1465.9 Q625.503 1469.08 625.503 1474.49 Q625.503 1480.07 622.031 1483.17 Q618.559 1486.25 612.24 1486.25 Q610.064 1486.25 607.795 1485.88 Q605.55 1485.51 603.142 1484.77 L603.142 1480.07 Q605.226 1481.2 607.448 1481.76 Q609.67 1482.32 612.147 1482.32 Q616.152 1482.32 618.49 1480.21 Q620.828 1478.1 620.828 1474.49 Q620.828 1470.88 618.49 1468.77 Q616.152 1466.67 612.147 1466.67 Q610.272 1466.67 608.397 1467.08 Q606.545 1467.5 604.601 1468.38 L604.601 1451.02 Z\" fill=\"#000000\" fill-rule=\"evenodd\" fill-opacity=\"1\" /><path clip-path=\"url(#clip240)\" d=\"M970.581 1481.64 L978.219 1481.64 L978.219 1455.28 L969.909 1456.95 L969.909 1452.69 L978.173 1451.02 L982.849 1451.02 L982.849 1481.64 L990.488 1481.64 L990.488 1485.58 L970.581 1485.58 L970.581 1481.64 Z\" fill=\"#000000\" fill-rule=\"evenodd\" fill-opacity=\"1\" /><path clip-path=\"url(#clip240)\" d=\"M1009.93 1454.1 Q1006.32 1454.1 1004.49 1457.66 Q1002.69 1461.2 1002.69 1468.33 Q1002.69 1475.44 1004.49 1479.01 Q1006.32 1482.55 1009.93 1482.55 Q1013.57 1482.55 1015.37 1479.01 Q1017.2 1475.44 1017.2 1468.33 Q1017.2 1461.2 1015.37 1457.66 Q1013.57 1454.1 1009.93 1454.1 M1009.93 1450.39 Q1015.74 1450.39 1018.8 1455 Q1021.88 1459.58 1021.88 1468.33 Q1021.88 1477.06 1018.8 1481.67 Q1015.74 1486.25 1009.93 1486.25 Q1004.12 1486.25 1001.04 1481.67 Q997.988 1477.06 997.988 1468.33 Q997.988 1459.58 1001.04 1455 Q1004.12 1450.39 1009.93 1450.39 Z\" fill=\"#000000\" fill-rule=\"evenodd\" fill-opacity=\"1\" /><path clip-path=\"url(#clip240)\" d=\"M1352.65 1481.64 L1360.29 1481.64 L1360.29 1455.28 L1351.98 1456.95 L1351.98 1452.69 L1360.24 1451.02 L1364.92 1451.02 L1364.92 1481.64 L1372.56 1481.64 L1372.56 1485.58 L1352.65 1485.58 L1352.65 1481.64 Z\" fill=\"#000000\" fill-rule=\"evenodd\" fill-opacity=\"1\" /><path clip-path=\"url(#clip240)\" d=\"M1382.05 1451.02 L1400.4 1451.02 L1400.4 1454.96 L1386.33 1454.96 L1386.33 1463.43 Q1387.35 1463.08 1388.37 1462.92 Q1389.38 1462.73 1390.4 1462.73 Q1396.19 1462.73 1399.57 1465.9 Q1402.95 1469.08 1402.95 1474.49 Q1402.95 1480.07 1399.48 1483.17 Q1396 1486.25 1389.69 1486.25 Q1387.51 1486.25 1385.24 1485.88 Q1383 1485.51 1380.59 1484.77 L1380.59 1480.07 Q1382.67 1481.2 1384.89 1481.76 Q1387.12 1482.32 1389.59 1482.32 Q1393.6 1482.32 1395.94 1480.21 Q1398.27 1478.1 1398.27 1474.49 Q1398.27 1470.88 1395.94 1468.77 Q1393.6 1466.67 1389.59 1466.67 Q1387.72 1466.67 1385.84 1467.08 Q1383.99 1467.5 1382.05 1468.38 L1382.05 1451.02 Z\" fill=\"#000000\" fill-rule=\"evenodd\" fill-opacity=\"1\" /><path clip-path=\"url(#clip240)\" d=\"M1737.81 1481.64 L1754.13 1481.64 L1754.13 1485.58 L1732.18 1485.58 L1732.18 1481.64 Q1734.84 1478.89 1739.43 1474.26 Q1744.03 1469.61 1745.21 1468.27 Q1747.46 1465.74 1748.34 1464.01 Q1749.24 1462.25 1749.24 1460.56 Q1749.24 1457.8 1747.3 1456.07 Q1745.38 1454.33 1742.27 1454.33 Q1740.07 1454.33 1737.62 1455.09 Q1735.19 1455.86 1732.41 1457.41 L1732.41 1452.69 Q1735.24 1451.55 1737.69 1450.97 Q1740.14 1450.39 1742.18 1450.39 Q1747.55 1450.39 1750.75 1453.08 Q1753.94 1455.77 1753.94 1460.26 Q1753.94 1462.39 1753.13 1464.31 Q1752.34 1466.2 1750.24 1468.8 Q1749.66 1469.47 1746.56 1472.69 Q1743.45 1475.88 1737.81 1481.64 Z\" fill=\"#000000\" fill-rule=\"evenodd\" fill-opacity=\"1\" /><path clip-path=\"url(#clip240)\" d=\"M1773.94 1454.1 Q1770.33 1454.1 1768.5 1457.66 Q1766.69 1461.2 1766.69 1468.33 Q1766.69 1475.44 1768.5 1479.01 Q1770.33 1482.55 1773.94 1482.55 Q1777.57 1482.55 1779.38 1479.01 Q1781.21 1475.44 1781.21 1468.33 Q1781.21 1461.2 1779.38 1457.66 Q1777.57 1454.1 1773.94 1454.1 M1773.94 1450.39 Q1779.75 1450.39 1782.81 1455 Q1785.88 1459.58 1785.88 1468.33 Q1785.88 1477.06 1782.81 1481.67 Q1779.75 1486.25 1773.94 1486.25 Q1768.13 1486.25 1765.05 1481.67 Q1762 1477.06 1762 1468.33 Q1762 1459.58 1765.05 1455 Q1768.13 1450.39 1773.94 1450.39 Z\" fill=\"#000000\" fill-rule=\"evenodd\" fill-opacity=\"1\" /><path clip-path=\"url(#clip240)\" d=\"M2119.87 1481.64 L2136.19 1481.64 L2136.19 1485.58 L2114.25 1485.58 L2114.25 1481.64 Q2116.91 1478.89 2121.49 1474.26 Q2126.1 1469.61 2127.28 1468.27 Q2129.53 1465.74 2130.41 1464.01 Q2131.31 1462.25 2131.31 1460.56 Q2131.31 1457.8 2129.36 1456.07 Q2127.44 1454.33 2124.34 1454.33 Q2122.14 1454.33 2119.69 1455.09 Q2117.26 1455.86 2114.48 1457.41 L2114.48 1452.69 Q2117.3 1451.55 2119.76 1450.97 Q2122.21 1450.39 2124.25 1450.39 Q2129.62 1450.39 2132.81 1453.08 Q2136.01 1455.77 2136.01 1460.26 Q2136.01 1462.39 2135.2 1464.31 Q2134.41 1466.2 2132.3 1468.8 Q2131.73 1469.47 2128.62 1472.69 Q2125.52 1475.88 2119.87 1481.64 Z\" fill=\"#000000\" fill-rule=\"evenodd\" fill-opacity=\"1\" /><path clip-path=\"url(#clip240)\" d=\"M2146.05 1451.02 L2164.41 1451.02 L2164.41 1454.96 L2150.34 1454.96 L2150.34 1463.43 Q2151.36 1463.08 2152.37 1462.92 Q2153.39 1462.73 2154.41 1462.73 Q2160.2 1462.73 2163.58 1465.9 Q2166.96 1469.08 2166.96 1474.49 Q2166.96 1480.07 2163.48 1483.17 Q2160.01 1486.25 2153.69 1486.25 Q2151.52 1486.25 2149.25 1485.88 Q2147 1485.51 2144.6 1484.77 L2144.6 1480.07 Q2146.68 1481.2 2148.9 1481.76 Q2151.12 1482.32 2153.6 1482.32 Q2157.61 1482.32 2159.94 1480.21 Q2162.28 1478.1 2162.28 1474.49 Q2162.28 1470.88 2159.94 1468.77 Q2157.61 1466.67 2153.6 1466.67 Q2151.73 1466.67 2149.85 1467.08 Q2148 1467.5 2146.05 1468.38 L2146.05 1451.02 Z\" fill=\"#000000\" fill-rule=\"evenodd\" fill-opacity=\"1\" /><path clip-path=\"url(#clip240)\" d=\"M1195.29 1522.27 L1195.29 1532.4 L1207.35 1532.4 L1207.35 1536.95 L1195.29 1536.95 L1195.29 1556.3 Q1195.29 1560.66 1196.46 1561.9 Q1197.67 1563.14 1201.33 1563.14 L1207.35 1563.14 L1207.35 1568.04 L1201.33 1568.04 Q1194.56 1568.04 1191.98 1565.53 Q1189.4 1562.98 1189.4 1556.3 L1189.4 1536.95 L1185.1 1536.95 L1185.1 1532.4 L1189.4 1532.4 L1189.4 1522.27 L1195.29 1522.27 Z\" fill=\"#000000\" fill-rule=\"evenodd\" fill-opacity=\"1\" /><path clip-path=\"url(#clip240)\" d=\"M1215.05 1532.4 L1220.91 1532.4 L1220.91 1568.04 L1215.05 1568.04 L1215.05 1532.4 M1215.05 1518.52 L1220.91 1518.52 L1220.91 1525.93 L1215.05 1525.93 L1215.05 1518.52 Z\" fill=\"#000000\" fill-rule=\"evenodd\" fill-opacity=\"1\" /><path clip-path=\"url(#clip240)\" d=\"M1260.92 1539.24 Q1263.11 1535.29 1266.17 1533.41 Q1269.22 1531.54 1273.36 1531.54 Q1278.93 1531.54 1281.96 1535.45 Q1284.98 1539.33 1284.98 1546.53 L1284.98 1568.04 L1279.09 1568.04 L1279.09 1546.72 Q1279.09 1541.59 1277.28 1539.11 Q1275.46 1536.63 1271.74 1536.63 Q1267.19 1536.63 1264.55 1539.65 Q1261.9 1542.68 1261.9 1547.9 L1261.9 1568.04 L1256.02 1568.04 L1256.02 1546.72 Q1256.02 1541.56 1254.2 1539.11 Q1252.39 1536.63 1248.6 1536.63 Q1244.11 1536.63 1241.47 1539.68 Q1238.83 1542.71 1238.83 1547.9 L1238.83 1568.04 L1232.94 1568.04 L1232.94 1532.4 L1238.83 1532.4 L1238.83 1537.93 Q1240.83 1534.66 1243.63 1533.1 Q1246.44 1531.54 1250.29 1531.54 Q1254.17 1531.54 1256.88 1533.51 Q1259.61 1535.48 1260.92 1539.24 Z\" fill=\"#000000\" fill-rule=\"evenodd\" fill-opacity=\"1\" /><path clip-path=\"url(#clip240)\" d=\"M1327.15 1548.76 L1327.15 1551.62 L1300.23 1551.62 Q1300.61 1557.67 1303.85 1560.85 Q1307.13 1564 1312.96 1564 Q1316.33 1564 1319.48 1563.17 Q1322.67 1562.35 1325.78 1560.69 L1325.78 1566.23 Q1322.63 1567.57 1319.32 1568.27 Q1316.01 1568.97 1312.61 1568.97 Q1304.08 1568.97 1299.08 1564 Q1294.11 1559.04 1294.11 1550.57 Q1294.11 1541.82 1298.83 1536.69 Q1303.57 1531.54 1311.59 1531.54 Q1318.78 1531.54 1322.95 1536.18 Q1327.15 1540.8 1327.15 1548.76 M1321.3 1547.04 Q1321.23 1542.23 1318.59 1539.37 Q1315.98 1536.5 1311.65 1536.5 Q1306.75 1536.5 1303.79 1539.27 Q1300.86 1542.04 1300.42 1547.07 L1321.3 1547.04 Z\" fill=\"#000000\" fill-rule=\"evenodd\" fill-opacity=\"1\" /><path clip-path=\"url(#clip240)\" d=\"M1336.22 1518.52 L1349.72 1518.52 L1349.72 1523.07 L1342.08 1523.07 L1342.08 1572.09 L1349.72 1572.09 L1349.72 1576.64 L1336.22 1576.64 L1336.22 1518.52 Z\" fill=\"#000000\" fill-rule=\"evenodd\" fill-opacity=\"1\" /><path clip-path=\"url(#clip240)\" d=\"M1391.83 1546.53 L1391.83 1568.04 L1385.97 1568.04 L1385.97 1546.72 Q1385.97 1541.66 1384 1539.14 Q1382.03 1536.63 1378.08 1536.63 Q1373.34 1536.63 1370.6 1539.65 Q1367.86 1542.68 1367.86 1547.9 L1367.86 1568.04 L1361.97 1568.04 L1361.97 1518.52 L1367.86 1518.52 L1367.86 1537.93 Q1369.96 1534.72 1372.79 1533.13 Q1375.66 1531.54 1379.38 1531.54 Q1385.53 1531.54 1388.68 1535.36 Q1391.83 1539.14 1391.83 1546.53 Z\" fill=\"#000000\" fill-rule=\"evenodd\" fill-opacity=\"1\" /><path clip-path=\"url(#clip240)\" d=\"M1417.2 1518.52 L1417.2 1576.64 L1403.7 1576.64 L1403.7 1572.09 L1411.31 1572.09 L1411.31 1523.07 L1403.7 1523.07 L1403.7 1518.52 L1417.2 1518.52 Z\" fill=\"#000000\" fill-rule=\"evenodd\" fill-opacity=\"1\" /><polyline clip-path=\"url(#clip244)\" style=\"stroke:#000000; stroke-linecap:round; stroke-linejoin:round; stroke-width:8; stroke-opacity:0.1; fill:none\" points=\"249.542,1414.43 2352.76,1414.43 \"/>\n",
       "<polyline clip-path=\"url(#clip244)\" style=\"stroke:#000000; stroke-linecap:round; stroke-linejoin:round; stroke-width:8; stroke-opacity:0.1; fill:none\" points=\"249.542,1353.64 2352.76,1353.64 \"/>\n",
       "<polyline clip-path=\"url(#clip244)\" style=\"stroke:#000000; stroke-linecap:round; stroke-linejoin:round; stroke-width:8; stroke-opacity:0.1; fill:none\" points=\"249.542,1292.86 2352.76,1292.86 \"/>\n",
       "<polyline clip-path=\"url(#clip244)\" style=\"stroke:#000000; stroke-linecap:round; stroke-linejoin:round; stroke-width:8; stroke-opacity:0.1; fill:none\" points=\"249.542,1232.07 2352.76,1232.07 \"/>\n",
       "<polyline clip-path=\"url(#clip244)\" style=\"stroke:#000000; stroke-linecap:round; stroke-linejoin:round; stroke-width:8; stroke-opacity:0.1; fill:none\" points=\"249.542,1171.29 2352.76,1171.29 \"/>\n",
       "<polyline clip-path=\"url(#clip240)\" style=\"stroke:#000000; stroke-linecap:round; stroke-linejoin:round; stroke-width:4; stroke-opacity:1; fill:none\" points=\"249.542,1423.18 249.542,1113.91 \"/>\n",
       "<polyline clip-path=\"url(#clip240)\" style=\"stroke:#000000; stroke-linecap:round; stroke-linejoin:round; stroke-width:4; stroke-opacity:1; fill:none\" points=\"249.542,1414.43 268.44,1414.43 \"/>\n",
       "<polyline clip-path=\"url(#clip240)\" style=\"stroke:#000000; stroke-linecap:round; stroke-linejoin:round; stroke-width:4; stroke-opacity:1; fill:none\" points=\"249.542,1353.64 268.44,1353.64 \"/>\n",
       "<polyline clip-path=\"url(#clip240)\" style=\"stroke:#000000; stroke-linecap:round; stroke-linejoin:round; stroke-width:4; stroke-opacity:1; fill:none\" points=\"249.542,1292.86 268.44,1292.86 \"/>\n",
       "<polyline clip-path=\"url(#clip240)\" style=\"stroke:#000000; stroke-linecap:round; stroke-linejoin:round; stroke-width:4; stroke-opacity:1; fill:none\" points=\"249.542,1232.07 268.44,1232.07 \"/>\n",
       "<polyline clip-path=\"url(#clip240)\" style=\"stroke:#000000; stroke-linecap:round; stroke-linejoin:round; stroke-width:4; stroke-opacity:1; fill:none\" points=\"249.542,1171.29 268.44,1171.29 \"/>\n",
       "<path clip-path=\"url(#clip240)\" d=\"M126.205 1400.23 Q122.593 1400.23 120.765 1403.79 Q118.959 1407.33 118.959 1414.46 Q118.959 1421.57 120.765 1425.13 Q122.593 1428.67 126.205 1428.67 Q129.839 1428.67 131.644 1425.13 Q133.473 1421.57 133.473 1414.46 Q133.473 1407.33 131.644 1403.79 Q129.839 1400.23 126.205 1400.23 M126.205 1396.52 Q132.015 1396.52 135.07 1401.13 Q138.149 1405.71 138.149 1414.46 Q138.149 1423.19 135.07 1427.79 Q132.015 1432.38 126.205 1432.38 Q120.394 1432.38 117.316 1427.79 Q114.26 1423.19 114.26 1414.46 Q114.26 1405.71 117.316 1401.13 Q120.394 1396.52 126.205 1396.52 Z\" fill=\"#000000\" fill-rule=\"evenodd\" fill-opacity=\"1\" /><path clip-path=\"url(#clip240)\" d=\"M146.366 1425.83 L151.251 1425.83 L151.251 1431.71 L146.366 1431.71 L146.366 1425.83 Z\" fill=\"#000000\" fill-rule=\"evenodd\" fill-opacity=\"1\" /><path clip-path=\"url(#clip240)\" d=\"M171.436 1400.23 Q167.825 1400.23 165.996 1403.79 Q164.19 1407.33 164.19 1414.46 Q164.19 1421.57 165.996 1425.13 Q167.825 1428.67 171.436 1428.67 Q175.07 1428.67 176.876 1425.13 Q178.704 1421.57 178.704 1414.46 Q178.704 1407.33 176.876 1403.79 Q175.07 1400.23 171.436 1400.23 M171.436 1396.52 Q177.246 1396.52 180.301 1401.13 Q183.38 1405.71 183.38 1414.46 Q183.38 1423.19 180.301 1427.79 Q177.246 1432.38 171.436 1432.38 Q165.626 1432.38 162.547 1427.79 Q159.491 1423.19 159.491 1414.46 Q159.491 1405.71 162.547 1401.13 Q165.626 1396.52 171.436 1396.52 Z\" fill=\"#000000\" fill-rule=\"evenodd\" fill-opacity=\"1\" /><path clip-path=\"url(#clip240)\" d=\"M201.598 1400.23 Q197.987 1400.23 196.158 1403.79 Q194.352 1407.33 194.352 1414.46 Q194.352 1421.57 196.158 1425.13 Q197.987 1428.67 201.598 1428.67 Q205.232 1428.67 207.037 1425.13 Q208.866 1421.57 208.866 1414.46 Q208.866 1407.33 207.037 1403.79 Q205.232 1400.23 201.598 1400.23 M201.598 1396.52 Q207.408 1396.52 210.463 1401.13 Q213.542 1405.71 213.542 1414.46 Q213.542 1423.19 210.463 1427.79 Q207.408 1432.38 201.598 1432.38 Q195.787 1432.38 192.709 1427.79 Q189.653 1423.19 189.653 1414.46 Q189.653 1405.71 192.709 1401.13 Q195.787 1396.52 201.598 1396.52 Z\" fill=\"#000000\" fill-rule=\"evenodd\" fill-opacity=\"1\" /><path clip-path=\"url(#clip240)\" d=\"M127.2 1339.44 Q123.589 1339.44 121.76 1343.01 Q119.955 1346.55 119.955 1353.68 Q119.955 1360.78 121.76 1364.35 Q123.589 1367.89 127.2 1367.89 Q130.834 1367.89 132.64 1364.35 Q134.468 1360.78 134.468 1353.68 Q134.468 1346.55 132.64 1343.01 Q130.834 1339.44 127.2 1339.44 M127.2 1335.74 Q133.01 1335.74 136.066 1340.34 Q139.144 1344.93 139.144 1353.68 Q139.144 1362.4 136.066 1367.01 Q133.01 1371.59 127.2 1371.59 Q121.39 1371.59 118.311 1367.01 Q115.256 1362.4 115.256 1353.68 Q115.256 1344.93 118.311 1340.34 Q121.39 1335.74 127.2 1335.74 Z\" fill=\"#000000\" fill-rule=\"evenodd\" fill-opacity=\"1\" /><path clip-path=\"url(#clip240)\" d=\"M147.362 1365.04 L152.246 1365.04 L152.246 1370.92 L147.362 1370.92 L147.362 1365.04 Z\" fill=\"#000000\" fill-rule=\"evenodd\" fill-opacity=\"1\" /><path clip-path=\"url(#clip240)\" d=\"M166.459 1366.99 L182.778 1366.99 L182.778 1370.92 L160.834 1370.92 L160.834 1366.99 Q163.496 1364.23 168.079 1359.6 Q172.686 1354.95 173.866 1353.61 Q176.112 1351.09 176.991 1349.35 Q177.894 1347.59 177.894 1345.9 Q177.894 1343.15 175.95 1341.41 Q174.028 1339.67 170.927 1339.67 Q168.727 1339.67 166.274 1340.44 Q163.843 1341.2 161.065 1342.75 L161.065 1338.03 Q163.89 1336.9 166.343 1336.32 Q168.797 1335.74 170.834 1335.74 Q176.204 1335.74 179.399 1338.42 Q182.593 1341.11 182.593 1345.6 Q182.593 1347.73 181.783 1349.65 Q180.996 1351.55 178.889 1354.14 Q178.311 1354.81 175.209 1358.03 Q172.107 1361.22 166.459 1366.99 Z\" fill=\"#000000\" fill-rule=\"evenodd\" fill-opacity=\"1\" /><path clip-path=\"url(#clip240)\" d=\"M192.639 1336.36 L210.996 1336.36 L210.996 1340.3 L196.922 1340.3 L196.922 1348.77 Q197.94 1348.42 198.959 1348.26 Q199.977 1348.08 200.996 1348.08 Q206.783 1348.08 210.162 1351.25 Q213.542 1354.42 213.542 1359.84 Q213.542 1365.41 210.07 1368.52 Q206.598 1371.59 200.278 1371.59 Q198.102 1371.59 195.834 1371.22 Q193.588 1370.85 191.181 1370.11 L191.181 1365.41 Q193.264 1366.55 195.487 1367.1 Q197.709 1367.66 200.186 1367.66 Q204.19 1367.66 206.528 1365.55 Q208.866 1363.45 208.866 1359.84 Q208.866 1356.22 206.528 1354.12 Q204.19 1352.01 200.186 1352.01 Q198.311 1352.01 196.436 1352.43 Q194.584 1352.84 192.639 1353.72 L192.639 1336.36 Z\" fill=\"#000000\" fill-rule=\"evenodd\" fill-opacity=\"1\" /><path clip-path=\"url(#clip240)\" d=\"M126.205 1278.66 Q122.593 1278.66 120.765 1282.22 Q118.959 1285.76 118.959 1292.89 Q118.959 1300 120.765 1303.56 Q122.593 1307.11 126.205 1307.11 Q129.839 1307.11 131.644 1303.56 Q133.473 1300 133.473 1292.89 Q133.473 1285.76 131.644 1282.22 Q129.839 1278.66 126.205 1278.66 M126.205 1274.95 Q132.015 1274.95 135.07 1279.56 Q138.149 1284.14 138.149 1292.89 Q138.149 1301.62 135.07 1306.23 Q132.015 1310.81 126.205 1310.81 Q120.394 1310.81 117.316 1306.23 Q114.26 1301.62 114.26 1292.89 Q114.26 1284.14 117.316 1279.56 Q120.394 1274.95 126.205 1274.95 Z\" fill=\"#000000\" fill-rule=\"evenodd\" fill-opacity=\"1\" /><path clip-path=\"url(#clip240)\" d=\"M146.366 1304.26 L151.251 1304.26 L151.251 1310.14 L146.366 1310.14 L146.366 1304.26 Z\" fill=\"#000000\" fill-rule=\"evenodd\" fill-opacity=\"1\" /><path clip-path=\"url(#clip240)\" d=\"M161.482 1275.58 L179.839 1275.58 L179.839 1279.51 L165.765 1279.51 L165.765 1287.99 Q166.783 1287.64 167.802 1287.48 Q168.82 1287.29 169.839 1287.29 Q175.626 1287.29 179.005 1290.46 Q182.385 1293.63 182.385 1299.05 Q182.385 1304.63 178.913 1307.73 Q175.44 1310.81 169.121 1310.81 Q166.945 1310.81 164.677 1310.44 Q162.431 1310.07 160.024 1309.33 L160.024 1304.63 Q162.107 1305.76 164.329 1306.32 Q166.552 1306.88 169.028 1306.88 Q173.033 1306.88 175.371 1304.77 Q177.709 1302.66 177.709 1299.05 Q177.709 1295.44 175.371 1293.33 Q173.033 1291.23 169.028 1291.23 Q167.153 1291.23 165.278 1291.64 Q163.427 1292.06 161.482 1292.94 L161.482 1275.58 Z\" fill=\"#000000\" fill-rule=\"evenodd\" fill-opacity=\"1\" /><path clip-path=\"url(#clip240)\" d=\"M201.598 1278.66 Q197.987 1278.66 196.158 1282.22 Q194.352 1285.76 194.352 1292.89 Q194.352 1300 196.158 1303.56 Q197.987 1307.11 201.598 1307.11 Q205.232 1307.11 207.037 1303.56 Q208.866 1300 208.866 1292.89 Q208.866 1285.76 207.037 1282.22 Q205.232 1278.66 201.598 1278.66 M201.598 1274.95 Q207.408 1274.95 210.463 1279.56 Q213.542 1284.14 213.542 1292.89 Q213.542 1301.62 210.463 1306.23 Q207.408 1310.81 201.598 1310.81 Q195.787 1310.81 192.709 1306.23 Q189.653 1301.62 189.653 1292.89 Q189.653 1284.14 192.709 1279.56 Q195.787 1274.95 201.598 1274.95 Z\" fill=\"#000000\" fill-rule=\"evenodd\" fill-opacity=\"1\" /><path clip-path=\"url(#clip240)\" d=\"M127.2 1217.87 Q123.589 1217.87 121.76 1221.44 Q119.955 1224.98 119.955 1232.11 Q119.955 1239.22 121.76 1242.78 Q123.589 1246.32 127.2 1246.32 Q130.834 1246.32 132.64 1242.78 Q134.468 1239.22 134.468 1232.11 Q134.468 1224.98 132.64 1221.44 Q130.834 1217.87 127.2 1217.87 M127.2 1214.17 Q133.01 1214.17 136.066 1218.78 Q139.144 1223.36 139.144 1232.11 Q139.144 1240.84 136.066 1245.44 Q133.01 1250.03 127.2 1250.03 Q121.39 1250.03 118.311 1245.44 Q115.256 1240.84 115.256 1232.11 Q115.256 1223.36 118.311 1218.78 Q121.39 1214.17 127.2 1214.17 Z\" fill=\"#000000\" fill-rule=\"evenodd\" fill-opacity=\"1\" /><path clip-path=\"url(#clip240)\" d=\"M147.362 1243.48 L152.246 1243.48 L152.246 1249.35 L147.362 1249.35 L147.362 1243.48 Z\" fill=\"#000000\" fill-rule=\"evenodd\" fill-opacity=\"1\" /><path clip-path=\"url(#clip240)\" d=\"M161.251 1214.79 L183.473 1214.79 L183.473 1216.79 L170.927 1249.35 L166.042 1249.35 L177.848 1218.73 L161.251 1218.73 L161.251 1214.79 Z\" fill=\"#000000\" fill-rule=\"evenodd\" fill-opacity=\"1\" /><path clip-path=\"url(#clip240)\" d=\"M192.639 1214.79 L210.996 1214.79 L210.996 1218.73 L196.922 1218.73 L196.922 1227.2 Q197.94 1226.86 198.959 1226.69 Q199.977 1226.51 200.996 1226.51 Q206.783 1226.51 210.162 1229.68 Q213.542 1232.85 213.542 1238.27 Q213.542 1243.85 210.07 1246.95 Q206.598 1250.03 200.278 1250.03 Q198.102 1250.03 195.834 1249.66 Q193.588 1249.29 191.181 1248.54 L191.181 1243.85 Q193.264 1244.98 195.487 1245.54 Q197.709 1246.09 200.186 1246.09 Q204.19 1246.09 206.528 1243.98 Q208.866 1241.88 208.866 1238.27 Q208.866 1234.66 206.528 1232.55 Q204.19 1230.44 200.186 1230.44 Q198.311 1230.44 196.436 1230.86 Q194.584 1231.28 192.639 1232.16 L192.639 1214.79 Z\" fill=\"#000000\" fill-rule=\"evenodd\" fill-opacity=\"1\" /><path clip-path=\"url(#clip240)\" d=\"M117.015 1184.64 L124.654 1184.64 L124.654 1158.27 L116.343 1159.94 L116.343 1155.68 L124.607 1154.01 L129.283 1154.01 L129.283 1184.64 L136.922 1184.64 L136.922 1188.57 L117.015 1188.57 L117.015 1184.64 Z\" fill=\"#000000\" fill-rule=\"evenodd\" fill-opacity=\"1\" /><path clip-path=\"url(#clip240)\" d=\"M146.366 1182.69 L151.251 1182.69 L151.251 1188.57 L146.366 1188.57 L146.366 1182.69 Z\" fill=\"#000000\" fill-rule=\"evenodd\" fill-opacity=\"1\" /><path clip-path=\"url(#clip240)\" d=\"M171.436 1157.09 Q167.825 1157.09 165.996 1160.65 Q164.19 1164.2 164.19 1171.33 Q164.19 1178.43 165.996 1182 Q167.825 1185.54 171.436 1185.54 Q175.07 1185.54 176.876 1182 Q178.704 1178.43 178.704 1171.33 Q178.704 1164.2 176.876 1160.65 Q175.07 1157.09 171.436 1157.09 M171.436 1153.39 Q177.246 1153.39 180.301 1157.99 Q183.38 1162.58 183.38 1171.33 Q183.38 1180.05 180.301 1184.66 Q177.246 1189.24 171.436 1189.24 Q165.626 1189.24 162.547 1184.66 Q159.491 1180.05 159.491 1171.33 Q159.491 1162.58 162.547 1157.99 Q165.626 1153.39 171.436 1153.39 Z\" fill=\"#000000\" fill-rule=\"evenodd\" fill-opacity=\"1\" /><path clip-path=\"url(#clip240)\" d=\"M201.598 1157.09 Q197.987 1157.09 196.158 1160.65 Q194.352 1164.2 194.352 1171.33 Q194.352 1178.43 196.158 1182 Q197.987 1185.54 201.598 1185.54 Q205.232 1185.54 207.037 1182 Q208.866 1178.43 208.866 1171.33 Q208.866 1164.2 207.037 1160.65 Q205.232 1157.09 201.598 1157.09 M201.598 1153.39 Q207.408 1153.39 210.463 1157.99 Q213.542 1162.58 213.542 1171.33 Q213.542 1180.05 210.463 1184.66 Q207.408 1189.24 201.598 1189.24 Q195.787 1189.24 192.709 1184.66 Q189.653 1180.05 189.653 1171.33 Q189.653 1162.58 192.709 1157.99 Q195.787 1153.39 201.598 1153.39 Z\" fill=\"#000000\" fill-rule=\"evenodd\" fill-opacity=\"1\" /><path clip-path=\"url(#clip240)\" d=\"M67.3143 1323.62 Q73.68 1326.11 75.6216 1328.46 Q77.5631 1330.82 77.5631 1334.76 L77.5631 1339.44 L72.6615 1339.44 L72.6615 1336.01 Q72.6615 1333.59 71.5157 1332.25 Q70.3699 1330.91 66.1048 1329.29 L63.4312 1328.24 L28.3562 1342.66 L28.3562 1336.45 L56.238 1325.31 L28.3562 1314.17 L28.3562 1307.96 L67.3143 1323.62 Z\" fill=\"#000000\" fill-rule=\"evenodd\" fill-opacity=\"1\" /><path clip-path=\"url(#clip240)\" d=\"M29.4065 1277.15 L34.9447 1277.15 Q33.6716 1279.64 33.035 1282.31 Q32.3984 1284.98 32.3984 1287.85 Q32.3984 1292.21 33.7352 1294.41 Q35.072 1296.57 37.7456 1296.57 Q39.7826 1296.57 40.9603 1295.01 Q42.1061 1293.45 43.1565 1288.74 L43.6021 1286.74 Q44.9389 1280.5 47.3897 1277.89 Q49.8086 1275.25 54.1691 1275.25 Q59.1344 1275.25 62.0308 1279.19 Q64.9272 1283.11 64.9272 1289.98 Q64.9272 1292.85 64.3543 1295.97 Q63.8132 1299.05 62.6992 1302.49 L56.6518 1302.49 Q58.3387 1299.24 59.198 1296.09 Q60.0256 1292.94 60.0256 1289.85 Q60.0256 1285.72 58.6251 1283.49 Q57.1929 1281.26 54.6147 1281.26 Q52.2276 1281.26 50.9545 1282.88 Q49.6813 1284.48 48.5037 1289.92 L48.0262 1291.96 Q46.8804 1297.4 44.5251 1299.82 Q42.138 1302.24 38.0002 1302.24 Q32.9713 1302.24 30.2341 1298.67 Q27.4968 1295.11 27.4968 1288.55 Q27.4968 1285.3 27.9743 1282.44 Q28.4517 1279.57 29.4065 1277.15 Z\" fill=\"#000000\" fill-rule=\"evenodd\" fill-opacity=\"1\" /><path clip-path=\"url(#clip240)\" d=\"M58.657 1260.25 L77.5631 1260.25 L77.5631 1266.14 L28.3562 1266.14 L28.3562 1260.25 L33.7671 1260.25 Q30.5842 1258.41 29.0564 1255.61 Q27.4968 1252.77 27.4968 1248.86 Q27.4968 1242.37 32.6531 1238.32 Q37.8093 1234.25 46.212 1234.25 Q54.6147 1234.25 59.771 1238.32 Q64.9272 1242.37 64.9272 1248.86 Q64.9272 1252.77 63.3994 1255.61 Q61.8398 1258.41 58.657 1260.25 M46.212 1240.33 Q39.7508 1240.33 36.0905 1243 Q32.3984 1245.64 32.3984 1250.29 Q32.3984 1254.94 36.0905 1257.61 Q39.7508 1260.25 46.212 1260.25 Q52.6732 1260.25 56.3653 1257.61 Q60.0256 1254.94 60.0256 1250.29 Q60.0256 1245.64 56.3653 1243 Q52.6732 1240.33 46.212 1240.33 Z\" fill=\"#000000\" fill-rule=\"evenodd\" fill-opacity=\"1\" /><path clip-path=\"url(#clip240)\" d=\"M38.3822 1204.24 Q39.3689 1199.62 42.4881 1197.04 Q45.6073 1194.43 50.1906 1194.43 Q57.2247 1194.43 61.0759 1199.27 Q64.9272 1204.11 64.9272 1213.02 Q64.9272 1216.01 64.3224 1219.2 Q63.7495 1222.35 62.5719 1225.72 L56.3653 1225.72 Q57.9249 1223.05 58.7206 1219.86 Q59.5163 1216.68 59.5163 1213.21 Q59.5163 1207.16 57.1292 1204.01 Q54.7421 1200.83 50.1906 1200.83 Q45.9892 1200.83 43.6339 1203.79 Q41.2468 1206.72 41.2468 1211.97 L41.2468 1217.51 L35.9632 1217.51 L35.9632 1211.72 Q35.9632 1206.97 34.0853 1204.46 Q32.1756 1201.94 28.6108 1201.94 Q24.9505 1201.94 23.009 1204.55 Q21.0356 1207.13 21.0356 1211.97 Q21.0356 1214.61 21.6086 1217.64 Q22.1815 1220.66 23.3909 1224.29 L17.6618 1224.29 Q16.6433 1220.63 16.134 1217.44 Q15.6248 1214.23 15.6248 1211.4 Q15.6248 1204.08 18.9668 1199.81 Q22.277 1195.55 27.9424 1195.55 Q31.8892 1195.55 34.6264 1197.81 Q37.3318 1200.07 38.3822 1204.24 Z\" fill=\"#000000\" fill-rule=\"evenodd\" fill-opacity=\"1\" /><polyline clip-path=\"url(#clip244)\" style=\"stroke:#000000; stroke-linecap:round; stroke-linejoin:round; stroke-width:4; stroke-opacity:1; fill:none\" stroke-dasharray=\"2, 4\" points=\"309.067,1122.66 385.381,1122.66 461.695,1122.66 538.009,1122.66 614.323,1122.66 690.637,1122.66 766.951,1122.66 843.265,1122.66 919.579,1122.66 995.893,1122.66 1072.21,1122.66 1148.52,1122.66 1224.83,1122.66 1301.15,1122.66 1377.46,1122.66 1453.78,1122.66 1530.09,1122.66 1606.4,1122.66 1682.72,1122.66 1759.03,1122.66 1835.35,1122.66 1911.66,1122.66 1987.97,1122.66 2064.29,1122.66 2140.6,1122.66 2216.92,1122.66 2293.23,1122.66 \"/>\n",
       "<line clip-path=\"url(#clip244)\" x1=\"309.067\" y1=\"1122.66\" x2=\"309.067\" y2=\"1106.66\" style=\"stroke:#009af9; stroke-width:3.2; stroke-opacity:1\"/>\n",
       "<line clip-path=\"url(#clip244)\" x1=\"309.067\" y1=\"1122.66\" x2=\"293.067\" y2=\"1122.66\" style=\"stroke:#009af9; stroke-width:3.2; stroke-opacity:1\"/>\n",
       "<line clip-path=\"url(#clip244)\" x1=\"309.067\" y1=\"1122.66\" x2=\"309.067\" y2=\"1138.66\" style=\"stroke:#009af9; stroke-width:3.2; stroke-opacity:1\"/>\n",
       "<line clip-path=\"url(#clip244)\" x1=\"309.067\" y1=\"1122.66\" x2=\"325.067\" y2=\"1122.66\" style=\"stroke:#009af9; stroke-width:3.2; stroke-opacity:1\"/>\n",
       "<line clip-path=\"url(#clip244)\" x1=\"385.381\" y1=\"1122.66\" x2=\"385.381\" y2=\"1106.66\" style=\"stroke:#009af9; stroke-width:3.2; stroke-opacity:1\"/>\n",
       "<line clip-path=\"url(#clip244)\" x1=\"385.381\" y1=\"1122.66\" x2=\"369.381\" y2=\"1122.66\" style=\"stroke:#009af9; stroke-width:3.2; stroke-opacity:1\"/>\n",
       "<line clip-path=\"url(#clip244)\" x1=\"385.381\" y1=\"1122.66\" x2=\"385.381\" y2=\"1138.66\" style=\"stroke:#009af9; stroke-width:3.2; stroke-opacity:1\"/>\n",
       "<line clip-path=\"url(#clip244)\" x1=\"385.381\" y1=\"1122.66\" x2=\"401.381\" y2=\"1122.66\" style=\"stroke:#009af9; stroke-width:3.2; stroke-opacity:1\"/>\n",
       "<line clip-path=\"url(#clip244)\" x1=\"461.695\" y1=\"1122.66\" x2=\"461.695\" y2=\"1106.66\" style=\"stroke:#009af9; stroke-width:3.2; stroke-opacity:1\"/>\n",
       "<line clip-path=\"url(#clip244)\" x1=\"461.695\" y1=\"1122.66\" x2=\"445.695\" y2=\"1122.66\" style=\"stroke:#009af9; stroke-width:3.2; stroke-opacity:1\"/>\n",
       "<line clip-path=\"url(#clip244)\" x1=\"461.695\" y1=\"1122.66\" x2=\"461.695\" y2=\"1138.66\" style=\"stroke:#009af9; stroke-width:3.2; stroke-opacity:1\"/>\n",
       "<line clip-path=\"url(#clip244)\" x1=\"461.695\" y1=\"1122.66\" x2=\"477.695\" y2=\"1122.66\" style=\"stroke:#009af9; stroke-width:3.2; stroke-opacity:1\"/>\n",
       "<line clip-path=\"url(#clip244)\" x1=\"538.009\" y1=\"1122.66\" x2=\"538.009\" y2=\"1106.66\" style=\"stroke:#009af9; stroke-width:3.2; stroke-opacity:1\"/>\n",
       "<line clip-path=\"url(#clip244)\" x1=\"538.009\" y1=\"1122.66\" x2=\"522.009\" y2=\"1122.66\" style=\"stroke:#009af9; stroke-width:3.2; stroke-opacity:1\"/>\n",
       "<line clip-path=\"url(#clip244)\" x1=\"538.009\" y1=\"1122.66\" x2=\"538.009\" y2=\"1138.66\" style=\"stroke:#009af9; stroke-width:3.2; stroke-opacity:1\"/>\n",
       "<line clip-path=\"url(#clip244)\" x1=\"538.009\" y1=\"1122.66\" x2=\"554.009\" y2=\"1122.66\" style=\"stroke:#009af9; stroke-width:3.2; stroke-opacity:1\"/>\n",
       "<line clip-path=\"url(#clip244)\" x1=\"614.323\" y1=\"1122.66\" x2=\"614.323\" y2=\"1106.66\" style=\"stroke:#009af9; stroke-width:3.2; stroke-opacity:1\"/>\n",
       "<line clip-path=\"url(#clip244)\" x1=\"614.323\" y1=\"1122.66\" x2=\"598.323\" y2=\"1122.66\" style=\"stroke:#009af9; stroke-width:3.2; stroke-opacity:1\"/>\n",
       "<line clip-path=\"url(#clip244)\" x1=\"614.323\" y1=\"1122.66\" x2=\"614.323\" y2=\"1138.66\" style=\"stroke:#009af9; stroke-width:3.2; stroke-opacity:1\"/>\n",
       "<line clip-path=\"url(#clip244)\" x1=\"614.323\" y1=\"1122.66\" x2=\"630.323\" y2=\"1122.66\" style=\"stroke:#009af9; stroke-width:3.2; stroke-opacity:1\"/>\n",
       "<line clip-path=\"url(#clip244)\" x1=\"690.637\" y1=\"1122.66\" x2=\"690.637\" y2=\"1106.66\" style=\"stroke:#009af9; stroke-width:3.2; stroke-opacity:1\"/>\n",
       "<line clip-path=\"url(#clip244)\" x1=\"690.637\" y1=\"1122.66\" x2=\"674.637\" y2=\"1122.66\" style=\"stroke:#009af9; stroke-width:3.2; stroke-opacity:1\"/>\n",
       "<line clip-path=\"url(#clip244)\" x1=\"690.637\" y1=\"1122.66\" x2=\"690.637\" y2=\"1138.66\" style=\"stroke:#009af9; stroke-width:3.2; stroke-opacity:1\"/>\n",
       "<line clip-path=\"url(#clip244)\" x1=\"690.637\" y1=\"1122.66\" x2=\"706.637\" y2=\"1122.66\" style=\"stroke:#009af9; stroke-width:3.2; stroke-opacity:1\"/>\n",
       "<line clip-path=\"url(#clip244)\" x1=\"766.951\" y1=\"1122.66\" x2=\"766.951\" y2=\"1106.66\" style=\"stroke:#009af9; stroke-width:3.2; stroke-opacity:1\"/>\n",
       "<line clip-path=\"url(#clip244)\" x1=\"766.951\" y1=\"1122.66\" x2=\"750.951\" y2=\"1122.66\" style=\"stroke:#009af9; stroke-width:3.2; stroke-opacity:1\"/>\n",
       "<line clip-path=\"url(#clip244)\" x1=\"766.951\" y1=\"1122.66\" x2=\"766.951\" y2=\"1138.66\" style=\"stroke:#009af9; stroke-width:3.2; stroke-opacity:1\"/>\n",
       "<line clip-path=\"url(#clip244)\" x1=\"766.951\" y1=\"1122.66\" x2=\"782.951\" y2=\"1122.66\" style=\"stroke:#009af9; stroke-width:3.2; stroke-opacity:1\"/>\n",
       "<line clip-path=\"url(#clip244)\" x1=\"843.265\" y1=\"1122.66\" x2=\"843.265\" y2=\"1106.66\" style=\"stroke:#009af9; stroke-width:3.2; stroke-opacity:1\"/>\n",
       "<line clip-path=\"url(#clip244)\" x1=\"843.265\" y1=\"1122.66\" x2=\"827.265\" y2=\"1122.66\" style=\"stroke:#009af9; stroke-width:3.2; stroke-opacity:1\"/>\n",
       "<line clip-path=\"url(#clip244)\" x1=\"843.265\" y1=\"1122.66\" x2=\"843.265\" y2=\"1138.66\" style=\"stroke:#009af9; stroke-width:3.2; stroke-opacity:1\"/>\n",
       "<line clip-path=\"url(#clip244)\" x1=\"843.265\" y1=\"1122.66\" x2=\"859.265\" y2=\"1122.66\" style=\"stroke:#009af9; stroke-width:3.2; stroke-opacity:1\"/>\n",
       "<line clip-path=\"url(#clip244)\" x1=\"919.579\" y1=\"1122.66\" x2=\"919.579\" y2=\"1106.66\" style=\"stroke:#009af9; stroke-width:3.2; stroke-opacity:1\"/>\n",
       "<line clip-path=\"url(#clip244)\" x1=\"919.579\" y1=\"1122.66\" x2=\"903.579\" y2=\"1122.66\" style=\"stroke:#009af9; stroke-width:3.2; stroke-opacity:1\"/>\n",
       "<line clip-path=\"url(#clip244)\" x1=\"919.579\" y1=\"1122.66\" x2=\"919.579\" y2=\"1138.66\" style=\"stroke:#009af9; stroke-width:3.2; stroke-opacity:1\"/>\n",
       "<line clip-path=\"url(#clip244)\" x1=\"919.579\" y1=\"1122.66\" x2=\"935.579\" y2=\"1122.66\" style=\"stroke:#009af9; stroke-width:3.2; stroke-opacity:1\"/>\n",
       "<line clip-path=\"url(#clip244)\" x1=\"995.893\" y1=\"1122.66\" x2=\"995.893\" y2=\"1106.66\" style=\"stroke:#009af9; stroke-width:3.2; stroke-opacity:1\"/>\n",
       "<line clip-path=\"url(#clip244)\" x1=\"995.893\" y1=\"1122.66\" x2=\"979.893\" y2=\"1122.66\" style=\"stroke:#009af9; stroke-width:3.2; stroke-opacity:1\"/>\n",
       "<line clip-path=\"url(#clip244)\" x1=\"995.893\" y1=\"1122.66\" x2=\"995.893\" y2=\"1138.66\" style=\"stroke:#009af9; stroke-width:3.2; stroke-opacity:1\"/>\n",
       "<line clip-path=\"url(#clip244)\" x1=\"995.893\" y1=\"1122.66\" x2=\"1011.89\" y2=\"1122.66\" style=\"stroke:#009af9; stroke-width:3.2; stroke-opacity:1\"/>\n",
       "<line clip-path=\"url(#clip244)\" x1=\"1072.21\" y1=\"1266.58\" x2=\"1072.21\" y2=\"1250.58\" style=\"stroke:#009af9; stroke-width:3.2; stroke-opacity:1\"/>\n",
       "<line clip-path=\"url(#clip244)\" x1=\"1072.21\" y1=\"1266.58\" x2=\"1056.21\" y2=\"1266.58\" style=\"stroke:#009af9; stroke-width:3.2; stroke-opacity:1\"/>\n",
       "<line clip-path=\"url(#clip244)\" x1=\"1072.21\" y1=\"1266.58\" x2=\"1072.21\" y2=\"1282.58\" style=\"stroke:#009af9; stroke-width:3.2; stroke-opacity:1\"/>\n",
       "<line clip-path=\"url(#clip244)\" x1=\"1072.21\" y1=\"1266.58\" x2=\"1088.21\" y2=\"1266.58\" style=\"stroke:#009af9; stroke-width:3.2; stroke-opacity:1\"/>\n",
       "<line clip-path=\"url(#clip244)\" x1=\"1148.52\" y1=\"1389.44\" x2=\"1148.52\" y2=\"1373.44\" style=\"stroke:#009af9; stroke-width:3.2; stroke-opacity:1\"/>\n",
       "<line clip-path=\"url(#clip244)\" x1=\"1148.52\" y1=\"1389.44\" x2=\"1132.52\" y2=\"1389.44\" style=\"stroke:#009af9; stroke-width:3.2; stroke-opacity:1\"/>\n",
       "<line clip-path=\"url(#clip244)\" x1=\"1148.52\" y1=\"1389.44\" x2=\"1148.52\" y2=\"1405.44\" style=\"stroke:#009af9; stroke-width:3.2; stroke-opacity:1\"/>\n",
       "<line clip-path=\"url(#clip244)\" x1=\"1148.52\" y1=\"1389.44\" x2=\"1164.52\" y2=\"1389.44\" style=\"stroke:#009af9; stroke-width:3.2; stroke-opacity:1\"/>\n",
       "<line clip-path=\"url(#clip244)\" x1=\"1224.83\" y1=\"1122.66\" x2=\"1224.83\" y2=\"1106.66\" style=\"stroke:#009af9; stroke-width:3.2; stroke-opacity:1\"/>\n",
       "<line clip-path=\"url(#clip244)\" x1=\"1224.83\" y1=\"1122.66\" x2=\"1208.83\" y2=\"1122.66\" style=\"stroke:#009af9; stroke-width:3.2; stroke-opacity:1\"/>\n",
       "<line clip-path=\"url(#clip244)\" x1=\"1224.83\" y1=\"1122.66\" x2=\"1224.83\" y2=\"1138.66\" style=\"stroke:#009af9; stroke-width:3.2; stroke-opacity:1\"/>\n",
       "<line clip-path=\"url(#clip244)\" x1=\"1224.83\" y1=\"1122.66\" x2=\"1240.83\" y2=\"1122.66\" style=\"stroke:#009af9; stroke-width:3.2; stroke-opacity:1\"/>\n",
       "<line clip-path=\"url(#clip244)\" x1=\"1301.15\" y1=\"1122.66\" x2=\"1301.15\" y2=\"1106.66\" style=\"stroke:#009af9; stroke-width:3.2; stroke-opacity:1\"/>\n",
       "<line clip-path=\"url(#clip244)\" x1=\"1301.15\" y1=\"1122.66\" x2=\"1285.15\" y2=\"1122.66\" style=\"stroke:#009af9; stroke-width:3.2; stroke-opacity:1\"/>\n",
       "<line clip-path=\"url(#clip244)\" x1=\"1301.15\" y1=\"1122.66\" x2=\"1301.15\" y2=\"1138.66\" style=\"stroke:#009af9; stroke-width:3.2; stroke-opacity:1\"/>\n",
       "<line clip-path=\"url(#clip244)\" x1=\"1301.15\" y1=\"1122.66\" x2=\"1317.15\" y2=\"1122.66\" style=\"stroke:#009af9; stroke-width:3.2; stroke-opacity:1\"/>\n",
       "<line clip-path=\"url(#clip244)\" x1=\"1377.46\" y1=\"1122.66\" x2=\"1377.46\" y2=\"1106.66\" style=\"stroke:#009af9; stroke-width:3.2; stroke-opacity:1\"/>\n",
       "<line clip-path=\"url(#clip244)\" x1=\"1377.46\" y1=\"1122.66\" x2=\"1361.46\" y2=\"1122.66\" style=\"stroke:#009af9; stroke-width:3.2; stroke-opacity:1\"/>\n",
       "<line clip-path=\"url(#clip244)\" x1=\"1377.46\" y1=\"1122.66\" x2=\"1377.46\" y2=\"1138.66\" style=\"stroke:#009af9; stroke-width:3.2; stroke-opacity:1\"/>\n",
       "<line clip-path=\"url(#clip244)\" x1=\"1377.46\" y1=\"1122.66\" x2=\"1393.46\" y2=\"1122.66\" style=\"stroke:#009af9; stroke-width:3.2; stroke-opacity:1\"/>\n",
       "<line clip-path=\"url(#clip244)\" x1=\"1453.78\" y1=\"1122.66\" x2=\"1453.78\" y2=\"1106.66\" style=\"stroke:#009af9; stroke-width:3.2; stroke-opacity:1\"/>\n",
       "<line clip-path=\"url(#clip244)\" x1=\"1453.78\" y1=\"1122.66\" x2=\"1437.78\" y2=\"1122.66\" style=\"stroke:#009af9; stroke-width:3.2; stroke-opacity:1\"/>\n",
       "<line clip-path=\"url(#clip244)\" x1=\"1453.78\" y1=\"1122.66\" x2=\"1453.78\" y2=\"1138.66\" style=\"stroke:#009af9; stroke-width:3.2; stroke-opacity:1\"/>\n",
       "<line clip-path=\"url(#clip244)\" x1=\"1453.78\" y1=\"1122.66\" x2=\"1469.78\" y2=\"1122.66\" style=\"stroke:#009af9; stroke-width:3.2; stroke-opacity:1\"/>\n",
       "<line clip-path=\"url(#clip244)\" x1=\"1530.09\" y1=\"1122.67\" x2=\"1530.09\" y2=\"1106.67\" style=\"stroke:#009af9; stroke-width:3.2; stroke-opacity:1\"/>\n",
       "<line clip-path=\"url(#clip244)\" x1=\"1530.09\" y1=\"1122.67\" x2=\"1514.09\" y2=\"1122.67\" style=\"stroke:#009af9; stroke-width:3.2; stroke-opacity:1\"/>\n",
       "<line clip-path=\"url(#clip244)\" x1=\"1530.09\" y1=\"1122.67\" x2=\"1530.09\" y2=\"1138.67\" style=\"stroke:#009af9; stroke-width:3.2; stroke-opacity:1\"/>\n",
       "<line clip-path=\"url(#clip244)\" x1=\"1530.09\" y1=\"1122.67\" x2=\"1546.09\" y2=\"1122.67\" style=\"stroke:#009af9; stroke-width:3.2; stroke-opacity:1\"/>\n",
       "<line clip-path=\"url(#clip244)\" x1=\"1606.4\" y1=\"1128.12\" x2=\"1606.4\" y2=\"1112.12\" style=\"stroke:#009af9; stroke-width:3.2; stroke-opacity:1\"/>\n",
       "<line clip-path=\"url(#clip244)\" x1=\"1606.4\" y1=\"1128.12\" x2=\"1590.4\" y2=\"1128.12\" style=\"stroke:#009af9; stroke-width:3.2; stroke-opacity:1\"/>\n",
       "<line clip-path=\"url(#clip244)\" x1=\"1606.4\" y1=\"1128.12\" x2=\"1606.4\" y2=\"1144.12\" style=\"stroke:#009af9; stroke-width:3.2; stroke-opacity:1\"/>\n",
       "<line clip-path=\"url(#clip244)\" x1=\"1606.4\" y1=\"1128.12\" x2=\"1622.4\" y2=\"1128.12\" style=\"stroke:#009af9; stroke-width:3.2; stroke-opacity:1\"/>\n",
       "<line clip-path=\"url(#clip244)\" x1=\"1682.72\" y1=\"1414.42\" x2=\"1682.72\" y2=\"1398.42\" style=\"stroke:#009af9; stroke-width:3.2; stroke-opacity:1\"/>\n",
       "<line clip-path=\"url(#clip244)\" x1=\"1682.72\" y1=\"1414.42\" x2=\"1666.72\" y2=\"1414.42\" style=\"stroke:#009af9; stroke-width:3.2; stroke-opacity:1\"/>\n",
       "<line clip-path=\"url(#clip244)\" x1=\"1682.72\" y1=\"1414.42\" x2=\"1682.72\" y2=\"1430.42\" style=\"stroke:#009af9; stroke-width:3.2; stroke-opacity:1\"/>\n",
       "<line clip-path=\"url(#clip244)\" x1=\"1682.72\" y1=\"1414.42\" x2=\"1698.72\" y2=\"1414.42\" style=\"stroke:#009af9; stroke-width:3.2; stroke-opacity:1\"/>\n",
       "<line clip-path=\"url(#clip244)\" x1=\"1759.03\" y1=\"1145.24\" x2=\"1759.03\" y2=\"1129.24\" style=\"stroke:#009af9; stroke-width:3.2; stroke-opacity:1\"/>\n",
       "<line clip-path=\"url(#clip244)\" x1=\"1759.03\" y1=\"1145.24\" x2=\"1743.03\" y2=\"1145.24\" style=\"stroke:#009af9; stroke-width:3.2; stroke-opacity:1\"/>\n",
       "<line clip-path=\"url(#clip244)\" x1=\"1759.03\" y1=\"1145.24\" x2=\"1759.03\" y2=\"1161.24\" style=\"stroke:#009af9; stroke-width:3.2; stroke-opacity:1\"/>\n",
       "<line clip-path=\"url(#clip244)\" x1=\"1759.03\" y1=\"1145.24\" x2=\"1775.03\" y2=\"1145.24\" style=\"stroke:#009af9; stroke-width:3.2; stroke-opacity:1\"/>\n",
       "<line clip-path=\"url(#clip244)\" x1=\"1835.35\" y1=\"1122.69\" x2=\"1835.35\" y2=\"1106.69\" style=\"stroke:#009af9; stroke-width:3.2; stroke-opacity:1\"/>\n",
       "<line clip-path=\"url(#clip244)\" x1=\"1835.35\" y1=\"1122.69\" x2=\"1819.35\" y2=\"1122.69\" style=\"stroke:#009af9; stroke-width:3.2; stroke-opacity:1\"/>\n",
       "<line clip-path=\"url(#clip244)\" x1=\"1835.35\" y1=\"1122.69\" x2=\"1835.35\" y2=\"1138.69\" style=\"stroke:#009af9; stroke-width:3.2; stroke-opacity:1\"/>\n",
       "<line clip-path=\"url(#clip244)\" x1=\"1835.35\" y1=\"1122.69\" x2=\"1851.35\" y2=\"1122.69\" style=\"stroke:#009af9; stroke-width:3.2; stroke-opacity:1\"/>\n",
       "<line clip-path=\"url(#clip244)\" x1=\"1911.66\" y1=\"1122.73\" x2=\"1911.66\" y2=\"1106.73\" style=\"stroke:#009af9; stroke-width:3.2; stroke-opacity:1\"/>\n",
       "<line clip-path=\"url(#clip244)\" x1=\"1911.66\" y1=\"1122.73\" x2=\"1895.66\" y2=\"1122.73\" style=\"stroke:#009af9; stroke-width:3.2; stroke-opacity:1\"/>\n",
       "<line clip-path=\"url(#clip244)\" x1=\"1911.66\" y1=\"1122.73\" x2=\"1911.66\" y2=\"1138.73\" style=\"stroke:#009af9; stroke-width:3.2; stroke-opacity:1\"/>\n",
       "<line clip-path=\"url(#clip244)\" x1=\"1911.66\" y1=\"1122.73\" x2=\"1927.66\" y2=\"1122.73\" style=\"stroke:#009af9; stroke-width:3.2; stroke-opacity:1\"/>\n",
       "<line clip-path=\"url(#clip244)\" x1=\"1987.97\" y1=\"1135.66\" x2=\"1987.97\" y2=\"1119.66\" style=\"stroke:#009af9; stroke-width:3.2; stroke-opacity:1\"/>\n",
       "<line clip-path=\"url(#clip244)\" x1=\"1987.97\" y1=\"1135.66\" x2=\"1971.97\" y2=\"1135.66\" style=\"stroke:#009af9; stroke-width:3.2; stroke-opacity:1\"/>\n",
       "<line clip-path=\"url(#clip244)\" x1=\"1987.97\" y1=\"1135.66\" x2=\"1987.97\" y2=\"1151.66\" style=\"stroke:#009af9; stroke-width:3.2; stroke-opacity:1\"/>\n",
       "<line clip-path=\"url(#clip244)\" x1=\"1987.97\" y1=\"1135.66\" x2=\"2003.97\" y2=\"1135.66\" style=\"stroke:#009af9; stroke-width:3.2; stroke-opacity:1\"/>\n",
       "<line clip-path=\"url(#clip244)\" x1=\"2064.29\" y1=\"1202.27\" x2=\"2064.29\" y2=\"1186.27\" style=\"stroke:#009af9; stroke-width:3.2; stroke-opacity:1\"/>\n",
       "<line clip-path=\"url(#clip244)\" x1=\"2064.29\" y1=\"1202.27\" x2=\"2048.29\" y2=\"1202.27\" style=\"stroke:#009af9; stroke-width:3.2; stroke-opacity:1\"/>\n",
       "<line clip-path=\"url(#clip244)\" x1=\"2064.29\" y1=\"1202.27\" x2=\"2064.29\" y2=\"1218.27\" style=\"stroke:#009af9; stroke-width:3.2; stroke-opacity:1\"/>\n",
       "<line clip-path=\"url(#clip244)\" x1=\"2064.29\" y1=\"1202.27\" x2=\"2080.29\" y2=\"1202.27\" style=\"stroke:#009af9; stroke-width:3.2; stroke-opacity:1\"/>\n",
       "<line clip-path=\"url(#clip244)\" x1=\"2140.6\" y1=\"1148.86\" x2=\"2140.6\" y2=\"1132.86\" style=\"stroke:#009af9; stroke-width:3.2; stroke-opacity:1\"/>\n",
       "<line clip-path=\"url(#clip244)\" x1=\"2140.6\" y1=\"1148.86\" x2=\"2124.6\" y2=\"1148.86\" style=\"stroke:#009af9; stroke-width:3.2; stroke-opacity:1\"/>\n",
       "<line clip-path=\"url(#clip244)\" x1=\"2140.6\" y1=\"1148.86\" x2=\"2140.6\" y2=\"1164.86\" style=\"stroke:#009af9; stroke-width:3.2; stroke-opacity:1\"/>\n",
       "<line clip-path=\"url(#clip244)\" x1=\"2140.6\" y1=\"1148.86\" x2=\"2156.6\" y2=\"1148.86\" style=\"stroke:#009af9; stroke-width:3.2; stroke-opacity:1\"/>\n",
       "<line clip-path=\"url(#clip244)\" x1=\"2216.92\" y1=\"1235.9\" x2=\"2216.92\" y2=\"1219.9\" style=\"stroke:#009af9; stroke-width:3.2; stroke-opacity:1\"/>\n",
       "<line clip-path=\"url(#clip244)\" x1=\"2216.92\" y1=\"1235.9\" x2=\"2200.92\" y2=\"1235.9\" style=\"stroke:#009af9; stroke-width:3.2; stroke-opacity:1\"/>\n",
       "<line clip-path=\"url(#clip244)\" x1=\"2216.92\" y1=\"1235.9\" x2=\"2216.92\" y2=\"1251.9\" style=\"stroke:#009af9; stroke-width:3.2; stroke-opacity:1\"/>\n",
       "<line clip-path=\"url(#clip244)\" x1=\"2216.92\" y1=\"1235.9\" x2=\"2232.92\" y2=\"1235.9\" style=\"stroke:#009af9; stroke-width:3.2; stroke-opacity:1\"/>\n",
       "<line clip-path=\"url(#clip244)\" x1=\"2293.23\" y1=\"1193.77\" x2=\"2293.23\" y2=\"1177.77\" style=\"stroke:#009af9; stroke-width:3.2; stroke-opacity:1\"/>\n",
       "<line clip-path=\"url(#clip244)\" x1=\"2293.23\" y1=\"1193.77\" x2=\"2277.23\" y2=\"1193.77\" style=\"stroke:#009af9; stroke-width:3.2; stroke-opacity:1\"/>\n",
       "<line clip-path=\"url(#clip244)\" x1=\"2293.23\" y1=\"1193.77\" x2=\"2293.23\" y2=\"1209.77\" style=\"stroke:#009af9; stroke-width:3.2; stroke-opacity:1\"/>\n",
       "<line clip-path=\"url(#clip244)\" x1=\"2293.23\" y1=\"1193.77\" x2=\"2309.23\" y2=\"1193.77\" style=\"stroke:#009af9; stroke-width:3.2; stroke-opacity:1\"/>\n",
       "<polyline clip-path=\"url(#clip244)\" style=\"stroke:#ff0000; stroke-linecap:round; stroke-linejoin:round; stroke-width:20; stroke-opacity:0.3; fill:none\" points=\"309.067,1122.66 309.067,1122.66 385.381,1122.66 385.381,1122.66 461.695,1122.66 461.695,1122.66 538.009,1122.66 538.009,1122.66 614.323,1122.66 614.323,1122.66 690.637,1122.66 690.637,1122.66 766.951,1122.66 766.951,1122.66 843.265,1122.66 843.265,1122.66 919.579,1122.66 919.579,1122.66 995.893,1122.66 995.893,1266.58 1072.21,1266.58 1072.21,1389.44 1148.52,1389.44 1148.52,1122.66 1224.83,1122.66 1224.83,1122.66 1301.15,1122.66 1301.15,1122.66 1377.46,1122.66 1377.46,1122.66 1453.78,1122.66 1453.78,1122.67 1530.09,1122.67 1530.09,1128.12 1606.4,1128.12 1606.4,1414.42 1682.72,1414.42 1682.72,1145.24 1759.03,1145.24 1759.03,1122.69 1835.35,1122.69 1835.35,1122.73 1911.66,1122.73 1911.66,1135.66 1987.97,1135.66 1987.97,1202.27 2064.29,1202.27 2064.29,1148.86 2140.6,1148.86 2140.6,1235.9 2216.92,1235.9 2216.92,1193.77 2293.23,1193.77 \"/>\n",
       "<circle clip-path=\"url(#clip244)\" cx=\"309.067\" cy=\"1122.66\" r=\"14.4\" fill=\"#e26f46\" fill-rule=\"evenodd\" fill-opacity=\"1\" stroke=\"#000000\" stroke-opacity=\"1\" stroke-width=\"3.2\"/>\n",
       "<circle clip-path=\"url(#clip244)\" cx=\"385.381\" cy=\"1122.66\" r=\"14.4\" fill=\"#e26f46\" fill-rule=\"evenodd\" fill-opacity=\"1\" stroke=\"#000000\" stroke-opacity=\"1\" stroke-width=\"3.2\"/>\n",
       "<circle clip-path=\"url(#clip244)\" cx=\"461.695\" cy=\"1122.66\" r=\"14.4\" fill=\"#e26f46\" fill-rule=\"evenodd\" fill-opacity=\"1\" stroke=\"#000000\" stroke-opacity=\"1\" stroke-width=\"3.2\"/>\n",
       "<circle clip-path=\"url(#clip244)\" cx=\"538.009\" cy=\"1122.66\" r=\"14.4\" fill=\"#e26f46\" fill-rule=\"evenodd\" fill-opacity=\"1\" stroke=\"#000000\" stroke-opacity=\"1\" stroke-width=\"3.2\"/>\n",
       "<circle clip-path=\"url(#clip244)\" cx=\"614.323\" cy=\"1122.66\" r=\"14.4\" fill=\"#e26f46\" fill-rule=\"evenodd\" fill-opacity=\"1\" stroke=\"#000000\" stroke-opacity=\"1\" stroke-width=\"3.2\"/>\n",
       "<circle clip-path=\"url(#clip244)\" cx=\"690.637\" cy=\"1122.66\" r=\"14.4\" fill=\"#e26f46\" fill-rule=\"evenodd\" fill-opacity=\"1\" stroke=\"#000000\" stroke-opacity=\"1\" stroke-width=\"3.2\"/>\n",
       "<circle clip-path=\"url(#clip244)\" cx=\"766.951\" cy=\"1122.66\" r=\"14.4\" fill=\"#e26f46\" fill-rule=\"evenodd\" fill-opacity=\"1\" stroke=\"#000000\" stroke-opacity=\"1\" stroke-width=\"3.2\"/>\n",
       "<circle clip-path=\"url(#clip244)\" cx=\"843.265\" cy=\"1122.66\" r=\"14.4\" fill=\"#e26f46\" fill-rule=\"evenodd\" fill-opacity=\"1\" stroke=\"#000000\" stroke-opacity=\"1\" stroke-width=\"3.2\"/>\n",
       "<circle clip-path=\"url(#clip244)\" cx=\"919.579\" cy=\"1122.66\" r=\"14.4\" fill=\"#e26f46\" fill-rule=\"evenodd\" fill-opacity=\"1\" stroke=\"#000000\" stroke-opacity=\"1\" stroke-width=\"3.2\"/>\n",
       "<circle clip-path=\"url(#clip244)\" cx=\"995.893\" cy=\"1122.66\" r=\"14.4\" fill=\"#e26f46\" fill-rule=\"evenodd\" fill-opacity=\"1\" stroke=\"#000000\" stroke-opacity=\"1\" stroke-width=\"3.2\"/>\n",
       "<circle clip-path=\"url(#clip244)\" cx=\"1072.21\" cy=\"1266.57\" r=\"14.4\" fill=\"#e26f46\" fill-rule=\"evenodd\" fill-opacity=\"1\" stroke=\"#000000\" stroke-opacity=\"1\" stroke-width=\"3.2\"/>\n",
       "<circle clip-path=\"url(#clip244)\" cx=\"1148.52\" cy=\"1389.46\" r=\"14.4\" fill=\"#e26f46\" fill-rule=\"evenodd\" fill-opacity=\"1\" stroke=\"#000000\" stroke-opacity=\"1\" stroke-width=\"3.2\"/>\n",
       "<circle clip-path=\"url(#clip244)\" cx=\"1224.83\" cy=\"1122.66\" r=\"14.4\" fill=\"#e26f46\" fill-rule=\"evenodd\" fill-opacity=\"1\" stroke=\"#000000\" stroke-opacity=\"1\" stroke-width=\"3.2\"/>\n",
       "<circle clip-path=\"url(#clip244)\" cx=\"1301.15\" cy=\"1122.66\" r=\"14.4\" fill=\"#e26f46\" fill-rule=\"evenodd\" fill-opacity=\"1\" stroke=\"#000000\" stroke-opacity=\"1\" stroke-width=\"3.2\"/>\n",
       "<circle clip-path=\"url(#clip244)\" cx=\"1377.46\" cy=\"1122.66\" r=\"14.4\" fill=\"#e26f46\" fill-rule=\"evenodd\" fill-opacity=\"1\" stroke=\"#000000\" stroke-opacity=\"1\" stroke-width=\"3.2\"/>\n",
       "<circle clip-path=\"url(#clip244)\" cx=\"1453.78\" cy=\"1122.66\" r=\"14.4\" fill=\"#e26f46\" fill-rule=\"evenodd\" fill-opacity=\"1\" stroke=\"#000000\" stroke-opacity=\"1\" stroke-width=\"3.2\"/>\n",
       "<circle clip-path=\"url(#clip244)\" cx=\"1530.09\" cy=\"1122.66\" r=\"14.4\" fill=\"#e26f46\" fill-rule=\"evenodd\" fill-opacity=\"1\" stroke=\"#000000\" stroke-opacity=\"1\" stroke-width=\"3.2\"/>\n",
       "<circle clip-path=\"url(#clip244)\" cx=\"1606.4\" cy=\"1128.08\" r=\"14.4\" fill=\"#e26f46\" fill-rule=\"evenodd\" fill-opacity=\"1\" stroke=\"#000000\" stroke-opacity=\"1\" stroke-width=\"3.2\"/>\n",
       "<circle clip-path=\"url(#clip244)\" cx=\"1682.72\" cy=\"1414.43\" r=\"14.4\" fill=\"#e26f46\" fill-rule=\"evenodd\" fill-opacity=\"1\" stroke=\"#000000\" stroke-opacity=\"1\" stroke-width=\"3.2\"/>\n",
       "<circle clip-path=\"url(#clip244)\" cx=\"1759.03\" cy=\"1145.34\" r=\"14.4\" fill=\"#e26f46\" fill-rule=\"evenodd\" fill-opacity=\"1\" stroke=\"#000000\" stroke-opacity=\"1\" stroke-width=\"3.2\"/>\n",
       "<circle clip-path=\"url(#clip244)\" cx=\"1835.35\" cy=\"1122.66\" r=\"14.4\" fill=\"#e26f46\" fill-rule=\"evenodd\" fill-opacity=\"1\" stroke=\"#000000\" stroke-opacity=\"1\" stroke-width=\"3.2\"/>\n",
       "<circle clip-path=\"url(#clip244)\" cx=\"1911.66\" cy=\"1122.66\" r=\"14.4\" fill=\"#e26f46\" fill-rule=\"evenodd\" fill-opacity=\"1\" stroke=\"#000000\" stroke-opacity=\"1\" stroke-width=\"3.2\"/>\n",
       "<circle clip-path=\"url(#clip244)\" cx=\"1987.97\" cy=\"1135.43\" r=\"14.4\" fill=\"#e26f46\" fill-rule=\"evenodd\" fill-opacity=\"1\" stroke=\"#000000\" stroke-opacity=\"1\" stroke-width=\"3.2\"/>\n",
       "<circle clip-path=\"url(#clip244)\" cx=\"2064.29\" cy=\"1203.06\" r=\"14.4\" fill=\"#e26f46\" fill-rule=\"evenodd\" fill-opacity=\"1\" stroke=\"#000000\" stroke-opacity=\"1\" stroke-width=\"3.2\"/>\n",
       "<circle clip-path=\"url(#clip244)\" cx=\"2140.6\" cy=\"1147.75\" r=\"14.4\" fill=\"#e26f46\" fill-rule=\"evenodd\" fill-opacity=\"1\" stroke=\"#000000\" stroke-opacity=\"1\" stroke-width=\"3.2\"/>\n",
       "<circle clip-path=\"url(#clip244)\" cx=\"2216.92\" cy=\"1236.81\" r=\"14.4\" fill=\"#e26f46\" fill-rule=\"evenodd\" fill-opacity=\"1\" stroke=\"#000000\" stroke-opacity=\"1\" stroke-width=\"3.2\"/>\n",
       "<circle clip-path=\"url(#clip244)\" cx=\"2293.23\" cy=\"1193.35\" r=\"14.4\" fill=\"#e26f46\" fill-rule=\"evenodd\" fill-opacity=\"1\" stroke=\"#000000\" stroke-opacity=\"1\" stroke-width=\"3.2\"/>\n",
       "<polyline clip-path=\"url(#clip244)\" style=\"stroke:#80007f; stroke-linecap:round; stroke-linejoin:round; stroke-width:20; stroke-opacity:0.3; fill:none\" points=\"309.067,1122.66 309.067,1122.66 385.381,1122.66 461.695,1122.66 538.009,1122.66 614.323,1122.66 690.637,1122.66 766.951,1122.66 843.265,1122.66 919.579,1122.66 995.893,1122.66 995.893,1266.57 1072.21,1266.57 1072.21,1389.46 1148.52,1389.46 1148.52,1122.66 1224.83,1122.66 1301.15,1122.66 1377.46,1122.66 1453.78,1122.66 1530.09,1122.66 1530.09,1128.08 1606.4,1128.08 1606.4,1414.43 1682.72,1414.43 1682.72,1145.34 1759.03,1145.34 1759.03,1122.66 1835.35,1122.66 1911.66,1122.66 1911.66,1135.43 1987.97,1135.43 1987.97,1203.06 2064.29,1203.06 2064.29,1147.75 2140.6,1147.75 2140.6,1236.81 2216.92,1236.81 2216.92,1193.35 2293.23,1193.35 \"/>\n",
       "<path clip-path=\"url(#clip244)\" d=\"M309.067 1106.67 L293.067 1122.67 L309.067 1138.67 L325.067 1122.67 L309.067 1106.67 Z\" fill=\"#3da44d\" fill-rule=\"evenodd\" fill-opacity=\"1\" stroke=\"#000000\" stroke-opacity=\"1\" stroke-width=\"3.2\"/>\n",
       "<path clip-path=\"url(#clip244)\" d=\"M385.381 1106.66 L369.381 1122.66 L385.381 1138.66 L401.381 1122.66 L385.381 1106.66 Z\" fill=\"#3da44d\" fill-rule=\"evenodd\" fill-opacity=\"1\" stroke=\"#000000\" stroke-opacity=\"1\" stroke-width=\"3.2\"/>\n",
       "<path clip-path=\"url(#clip244)\" d=\"M461.695 1106.66 L445.695 1122.66 L461.695 1138.66 L477.695 1122.66 L461.695 1106.66 Z\" fill=\"#3da44d\" fill-rule=\"evenodd\" fill-opacity=\"1\" stroke=\"#000000\" stroke-opacity=\"1\" stroke-width=\"3.2\"/>\n",
       "<path clip-path=\"url(#clip244)\" d=\"M538.009 1106.66 L522.009 1122.66 L538.009 1138.66 L554.009 1122.66 L538.009 1106.66 Z\" fill=\"#3da44d\" fill-rule=\"evenodd\" fill-opacity=\"1\" stroke=\"#000000\" stroke-opacity=\"1\" stroke-width=\"3.2\"/>\n",
       "<path clip-path=\"url(#clip244)\" d=\"M614.323 1106.66 L598.323 1122.66 L614.323 1138.66 L630.323 1122.66 L614.323 1106.66 Z\" fill=\"#3da44d\" fill-rule=\"evenodd\" fill-opacity=\"1\" stroke=\"#000000\" stroke-opacity=\"1\" stroke-width=\"3.2\"/>\n",
       "<path clip-path=\"url(#clip244)\" d=\"M690.637 1106.66 L674.637 1122.66 L690.637 1138.66 L706.637 1122.66 L690.637 1106.66 Z\" fill=\"#3da44d\" fill-rule=\"evenodd\" fill-opacity=\"1\" stroke=\"#000000\" stroke-opacity=\"1\" stroke-width=\"3.2\"/>\n",
       "<path clip-path=\"url(#clip244)\" d=\"M766.951 1106.66 L750.951 1122.66 L766.951 1138.66 L782.951 1122.66 L766.951 1106.66 Z\" fill=\"#3da44d\" fill-rule=\"evenodd\" fill-opacity=\"1\" stroke=\"#000000\" stroke-opacity=\"1\" stroke-width=\"3.2\"/>\n",
       "<path clip-path=\"url(#clip244)\" d=\"M843.265 1106.66 L827.265 1122.66 L843.265 1138.66 L859.265 1122.66 L843.265 1106.66 Z\" fill=\"#3da44d\" fill-rule=\"evenodd\" fill-opacity=\"1\" stroke=\"#000000\" stroke-opacity=\"1\" stroke-width=\"3.2\"/>\n",
       "<path clip-path=\"url(#clip244)\" d=\"M919.579 1106.66 L903.579 1122.66 L919.579 1138.66 L935.579 1122.66 L919.579 1106.66 Z\" fill=\"#3da44d\" fill-rule=\"evenodd\" fill-opacity=\"1\" stroke=\"#000000\" stroke-opacity=\"1\" stroke-width=\"3.2\"/>\n",
       "<path clip-path=\"url(#clip244)\" d=\"M995.893 1106.67 L979.893 1122.67 L995.893 1138.67 L1011.89 1122.67 L995.893 1106.67 Z\" fill=\"#3da44d\" fill-rule=\"evenodd\" fill-opacity=\"1\" stroke=\"#000000\" stroke-opacity=\"1\" stroke-width=\"3.2\"/>\n",
       "<path clip-path=\"url(#clip244)\" d=\"M1072.21 1251.02 L1056.21 1267.02 L1072.21 1283.02 L1088.21 1267.02 L1072.21 1251.02 Z\" fill=\"#3da44d\" fill-rule=\"evenodd\" fill-opacity=\"1\" stroke=\"#000000\" stroke-opacity=\"1\" stroke-width=\"3.2\"/>\n",
       "<path clip-path=\"url(#clip244)\" d=\"M1148.52 1372.85 L1132.52 1388.85 L1148.52 1404.85 L1164.52 1388.85 L1148.52 1372.85 Z\" fill=\"#3da44d\" fill-rule=\"evenodd\" fill-opacity=\"1\" stroke=\"#000000\" stroke-opacity=\"1\" stroke-width=\"3.2\"/>\n",
       "<path clip-path=\"url(#clip244)\" d=\"M1224.83 1106.68 L1208.83 1122.68 L1224.83 1138.68 L1240.83 1122.68 L1224.83 1106.68 Z\" fill=\"#3da44d\" fill-rule=\"evenodd\" fill-opacity=\"1\" stroke=\"#000000\" stroke-opacity=\"1\" stroke-width=\"3.2\"/>\n",
       "<path clip-path=\"url(#clip244)\" d=\"M1301.15 1106.67 L1285.15 1122.67 L1301.15 1138.67 L1317.15 1122.67 L1301.15 1106.67 Z\" fill=\"#3da44d\" fill-rule=\"evenodd\" fill-opacity=\"1\" stroke=\"#000000\" stroke-opacity=\"1\" stroke-width=\"3.2\"/>\n",
       "<path clip-path=\"url(#clip244)\" d=\"M1377.46 1106.68 L1361.46 1122.68 L1377.46 1138.68 L1393.46 1122.68 L1377.46 1106.68 Z\" fill=\"#3da44d\" fill-rule=\"evenodd\" fill-opacity=\"1\" stroke=\"#000000\" stroke-opacity=\"1\" stroke-width=\"3.2\"/>\n",
       "<path clip-path=\"url(#clip244)\" d=\"M1453.78 1106.68 L1437.78 1122.68 L1453.78 1138.68 L1469.78 1122.68 L1453.78 1106.68 Z\" fill=\"#3da44d\" fill-rule=\"evenodd\" fill-opacity=\"1\" stroke=\"#000000\" stroke-opacity=\"1\" stroke-width=\"3.2\"/>\n",
       "<path clip-path=\"url(#clip244)\" d=\"M1530.09 1106.73 L1514.09 1122.73 L1530.09 1138.73 L1546.09 1122.73 L1530.09 1106.73 Z\" fill=\"#3da44d\" fill-rule=\"evenodd\" fill-opacity=\"1\" stroke=\"#000000\" stroke-opacity=\"1\" stroke-width=\"3.2\"/>\n",
       "<path clip-path=\"url(#clip244)\" d=\"M1606.4 1113.32 L1590.4 1129.32 L1606.4 1145.32 L1622.4 1129.32 L1606.4 1113.32 Z\" fill=\"#3da44d\" fill-rule=\"evenodd\" fill-opacity=\"1\" stroke=\"#000000\" stroke-opacity=\"1\" stroke-width=\"3.2\"/>\n",
       "<path clip-path=\"url(#clip244)\" d=\"M1682.72 1397.92 L1666.72 1413.92 L1682.72 1429.92 L1698.72 1413.92 L1682.72 1397.92 Z\" fill=\"#3da44d\" fill-rule=\"evenodd\" fill-opacity=\"1\" stroke=\"#000000\" stroke-opacity=\"1\" stroke-width=\"3.2\"/>\n",
       "<path clip-path=\"url(#clip244)\" d=\"M1759.03 1126.37 L1743.03 1142.37 L1759.03 1158.37 L1775.03 1142.37 L1759.03 1126.37 Z\" fill=\"#3da44d\" fill-rule=\"evenodd\" fill-opacity=\"1\" stroke=\"#000000\" stroke-opacity=\"1\" stroke-width=\"3.2\"/>\n",
       "<path clip-path=\"url(#clip244)\" d=\"M1835.35 1107.95 L1819.35 1123.95 L1835.35 1139.95 L1851.35 1123.95 L1835.35 1107.95 Z\" fill=\"#3da44d\" fill-rule=\"evenodd\" fill-opacity=\"1\" stroke=\"#000000\" stroke-opacity=\"1\" stroke-width=\"3.2\"/>\n",
       "<path clip-path=\"url(#clip244)\" d=\"M1911.66 1109.58 L1895.66 1125.58 L1911.66 1141.58 L1927.66 1125.58 L1911.66 1109.58 Z\" fill=\"#3da44d\" fill-rule=\"evenodd\" fill-opacity=\"1\" stroke=\"#000000\" stroke-opacity=\"1\" stroke-width=\"3.2\"/>\n",
       "<path clip-path=\"url(#clip244)\" d=\"M1987.97 1121.43 L1971.97 1137.43 L1987.97 1153.43 L2003.97 1137.43 L1987.97 1121.43 Z\" fill=\"#3da44d\" fill-rule=\"evenodd\" fill-opacity=\"1\" stroke=\"#000000\" stroke-opacity=\"1\" stroke-width=\"3.2\"/>\n",
       "<path clip-path=\"url(#clip244)\" d=\"M2064.29 1173.15 L2048.29 1189.15 L2064.29 1205.15 L2080.29 1189.15 L2064.29 1173.15 Z\" fill=\"#3da44d\" fill-rule=\"evenodd\" fill-opacity=\"1\" stroke=\"#000000\" stroke-opacity=\"1\" stroke-width=\"3.2\"/>\n",
       "<path clip-path=\"url(#clip244)\" d=\"M2140.6 1152.55 L2124.6 1168.55 L2140.6 1184.55 L2156.6 1168.55 L2140.6 1152.55 Z\" fill=\"#3da44d\" fill-rule=\"evenodd\" fill-opacity=\"1\" stroke=\"#000000\" stroke-opacity=\"1\" stroke-width=\"3.2\"/>\n",
       "<path clip-path=\"url(#clip244)\" d=\"M2216.92 1203.75 L2200.92 1219.75 L2216.92 1235.75 L2232.92 1219.75 L2216.92 1203.75 Z\" fill=\"#3da44d\" fill-rule=\"evenodd\" fill-opacity=\"1\" stroke=\"#000000\" stroke-opacity=\"1\" stroke-width=\"3.2\"/>\n",
       "<path clip-path=\"url(#clip244)\" d=\"M2293.23 1184.93 L2277.23 1200.93 L2293.23 1216.93 L2309.23 1200.93 L2293.23 1184.93 Z\" fill=\"#3da44d\" fill-rule=\"evenodd\" fill-opacity=\"1\" stroke=\"#000000\" stroke-opacity=\"1\" stroke-width=\"3.2\"/>\n",
       "<polyline clip-path=\"url(#clip244)\" style=\"stroke:#0000ff; stroke-linecap:round; stroke-linejoin:round; stroke-width:20; stroke-opacity:0.3; fill:none\" points=\"309.067,1122.67 309.067,1122.66 385.381,1122.66 385.381,1122.66 461.695,1122.66 461.695,1122.66 538.009,1122.66 538.009,1122.66 614.323,1122.66 614.323,1122.66 690.637,1122.66 690.637,1122.66 766.951,1122.66 766.951,1122.66 843.265,1122.66 843.265,1122.66 919.579,1122.66 919.579,1122.67 995.893,1122.67 995.893,1267.02 1072.21,1267.02 1072.21,1388.85 1148.52,1388.85 1148.52,1122.68 1224.83,1122.68 1224.83,1122.67 1301.15,1122.67 1301.15,1122.68 1377.46,1122.68 1377.46,1122.68 1453.78,1122.68 1453.78,1122.73 1530.09,1122.73 1530.09,1129.32 1606.4,1129.32 1606.4,1413.92 1682.72,1413.92 1682.72,1142.37 1759.03,1142.37 1759.03,1123.95 1835.35,1123.95 1835.35,1125.58 1911.66,1125.58 1911.66,1137.43 1987.97,1137.43 1987.97,1189.15 2064.29,1189.15 2064.29,1168.55 2140.6,1168.55 2140.6,1219.75 2216.92,1219.75 2216.92,1200.93 2293.23,1200.93 \"/>\n",
       "</svg>\n"
      ]
     },
     "metadata": {},
     "output_type": "display_data"
    }
   ],
   "source": [
    "#############\n",
    "# SETPOINTS #\n",
    "#############\n",
    "# limits\n",
    "p6 = plot(ts,yspMax*ones(length(ts)),linestyle = :dot,linecolor = :black,xaxis=\"time[h]\",yaxis=\"ysp1\",legend=false,gridlinewidth=2)\n",
    "for opti in 1:3\n",
    "    p6 = plot!(ts,yspTraj[opti,:,1],linewidth=5,linetype=:steppre,linealpha = 0.3,markershape=MList[opti],linecolor = CList[opti],legend=false)\n",
    "end\n",
    "\n",
    "p7 = plot(ts,yspMax*ones(length(ts)),linestyle = :dot,linecolor = :black,xaxis=\"time[h]\",yaxis=\"ysp2\",legend=false,gridlinewidth=2)\n",
    "for opti in 1:3\n",
    "    p7 = plot!(ts,yspTraj[opti,:,2],linewidth=5,linetype=:steppre,linealpha = 0.3,markershape=MList[opti],linecolor = CList[opti],legend=false)\n",
    "end\n",
    "\n",
    "p8 = plot(ts,yspMax*ones(length(ts)),linestyle = :dot,linecolor = :black,xaxis=\"time[h]\",yaxis=\"ysp3\",legend=false,gridlinewidth=2)\n",
    "for opti in 1:3\n",
    "    p8 = plot!(ts,yspTraj[opti,:,3],linewidth=5,linetype=:steppre,linealpha = 0.3,markershape=MList[opti],linecolor = CList[opti],legend=false)\n",
    "end\n",
    "\n",
    "g2 = plot(p6,p7,p8,layout=(3,1))\n",
    "display(g2)"
   ]
  },
  {
   "cell_type": "code",
   "execution_count": 20,
   "id": "49d7be69",
   "metadata": {},
   "outputs": [
    {
     "data": {
      "image/svg+xml": [
       "<?xml version=\"1.0\" encoding=\"utf-8\"?>\n",
       "<svg xmlns=\"http://www.w3.org/2000/svg\" xmlns:xlink=\"http://www.w3.org/1999/xlink\" width=\"600\" height=\"400\" viewBox=\"0 0 2400 1600\">\n",
       "<defs>\n",
       "  <clipPath id=\"clip280\">\n",
       "    <rect x=\"0\" y=\"0\" width=\"2400\" height=\"1600\"/>\n",
       "  </clipPath>\n",
       "</defs>\n",
       "<path clip-path=\"url(#clip280)\" d=\"M0 1600 L2400 1600 L2400 0 L0 0  Z\" fill=\"#ffffff\" fill-rule=\"evenodd\" fill-opacity=\"1\"/>\n",
       "<defs>\n",
       "  <clipPath id=\"clip281\">\n",
       "    <rect x=\"480\" y=\"0\" width=\"1681\" height=\"1600\"/>\n",
       "  </clipPath>\n",
       "</defs>\n",
       "<path clip-path=\"url(#clip280)\" d=\"M219.033 356.513 L2352.76 356.513 L2352.76 47.2441 L219.033 47.2441  Z\" fill=\"#ffffff\" fill-rule=\"evenodd\" fill-opacity=\"1\"/>\n",
       "<defs>\n",
       "  <clipPath id=\"clip282\">\n",
       "    <rect x=\"219\" y=\"47\" width=\"2135\" height=\"310\"/>\n",
       "  </clipPath>\n",
       "</defs>\n",
       "<polyline clip-path=\"url(#clip282)\" style=\"stroke:#000000; stroke-linecap:round; stroke-linejoin:round; stroke-width:8; stroke-opacity:0.1; fill:none\" points=\"589.105,356.513 589.105,47.2441 \"/>\n",
       "<polyline clip-path=\"url(#clip282)\" style=\"stroke:#000000; stroke-linecap:round; stroke-linejoin:round; stroke-width:8; stroke-opacity:0.1; fill:none\" points=\"976.21,356.513 976.21,47.2441 \"/>\n",
       "<polyline clip-path=\"url(#clip282)\" style=\"stroke:#000000; stroke-linecap:round; stroke-linejoin:round; stroke-width:8; stroke-opacity:0.1; fill:none\" points=\"1363.32,356.513 1363.32,47.2441 \"/>\n",
       "<polyline clip-path=\"url(#clip282)\" style=\"stroke:#000000; stroke-linecap:round; stroke-linejoin:round; stroke-width:8; stroke-opacity:0.1; fill:none\" points=\"1750.42,356.513 1750.42,47.2441 \"/>\n",
       "<polyline clip-path=\"url(#clip282)\" style=\"stroke:#000000; stroke-linecap:round; stroke-linejoin:round; stroke-width:8; stroke-opacity:0.1; fill:none\" points=\"2137.53,356.513 2137.53,47.2441 \"/>\n",
       "<polyline clip-path=\"url(#clip280)\" style=\"stroke:#000000; stroke-linecap:round; stroke-linejoin:round; stroke-width:4; stroke-opacity:1; fill:none\" points=\"219.033,356.513 2352.76,356.513 \"/>\n",
       "<polyline clip-path=\"url(#clip280)\" style=\"stroke:#000000; stroke-linecap:round; stroke-linejoin:round; stroke-width:4; stroke-opacity:1; fill:none\" points=\"589.105,356.513 589.105,337.616 \"/>\n",
       "<polyline clip-path=\"url(#clip280)\" style=\"stroke:#000000; stroke-linecap:round; stroke-linejoin:round; stroke-width:4; stroke-opacity:1; fill:none\" points=\"976.21,356.513 976.21,337.616 \"/>\n",
       "<polyline clip-path=\"url(#clip280)\" style=\"stroke:#000000; stroke-linecap:round; stroke-linejoin:round; stroke-width:4; stroke-opacity:1; fill:none\" points=\"1363.32,356.513 1363.32,337.616 \"/>\n",
       "<polyline clip-path=\"url(#clip280)\" style=\"stroke:#000000; stroke-linecap:round; stroke-linejoin:round; stroke-width:4; stroke-opacity:1; fill:none\" points=\"1750.42,356.513 1750.42,337.616 \"/>\n",
       "<polyline clip-path=\"url(#clip280)\" style=\"stroke:#000000; stroke-linecap:round; stroke-linejoin:round; stroke-width:4; stroke-opacity:1; fill:none\" points=\"2137.53,356.513 2137.53,337.616 \"/>\n",
       "<path clip-path=\"url(#clip280)\" d=\"M579.383 384.353 L597.74 384.353 L597.74 388.288 L583.666 388.288 L583.666 396.761 Q584.684 396.413 585.703 396.251 Q586.721 396.066 587.74 396.066 Q593.527 396.066 596.906 399.237 Q600.286 402.409 600.286 407.825 Q600.286 413.404 596.814 416.506 Q593.341 419.584 587.022 419.584 Q584.846 419.584 582.578 419.214 Q580.332 418.844 577.925 418.103 L577.925 413.404 Q580.008 414.538 582.23 415.094 Q584.453 415.649 586.929 415.649 Q590.934 415.649 593.272 413.543 Q595.61 411.436 595.61 407.825 Q595.61 404.214 593.272 402.108 Q590.934 400.001 586.929 400.001 Q585.054 400.001 583.179 400.418 Q581.328 400.835 579.383 401.714 L579.383 384.353 Z\" fill=\"#000000\" fill-rule=\"evenodd\" fill-opacity=\"1\" /><path clip-path=\"url(#clip280)\" d=\"M950.898 414.978 L958.537 414.978 L958.537 388.612 L950.227 390.279 L950.227 386.02 L958.491 384.353 L963.166 384.353 L963.166 414.978 L970.805 414.978 L970.805 418.913 L950.898 418.913 L950.898 414.978 Z\" fill=\"#000000\" fill-rule=\"evenodd\" fill-opacity=\"1\" /><path clip-path=\"url(#clip280)\" d=\"M990.25 387.432 Q986.639 387.432 984.81 390.997 Q983.004 394.538 983.004 401.668 Q983.004 408.774 984.81 412.339 Q986.639 415.881 990.25 415.881 Q993.884 415.881 995.689 412.339 Q997.518 408.774 997.518 401.668 Q997.518 394.538 995.689 390.997 Q993.884 387.432 990.25 387.432 M990.25 383.728 Q996.06 383.728 999.115 388.335 Q1002.19 392.918 1002.19 401.668 Q1002.19 410.395 999.115 415.001 Q996.06 419.584 990.25 419.584 Q984.44 419.584 981.361 415.001 Q978.305 410.395 978.305 401.668 Q978.305 392.918 981.361 388.335 Q984.44 383.728 990.25 383.728 Z\" fill=\"#000000\" fill-rule=\"evenodd\" fill-opacity=\"1\" /><path clip-path=\"url(#clip280)\" d=\"M1338.5 414.978 L1346.14 414.978 L1346.14 388.612 L1337.83 390.279 L1337.83 386.02 L1346.09 384.353 L1350.77 384.353 L1350.77 414.978 L1358.41 414.978 L1358.41 418.913 L1338.5 418.913 L1338.5 414.978 Z\" fill=\"#000000\" fill-rule=\"evenodd\" fill-opacity=\"1\" /><path clip-path=\"url(#clip280)\" d=\"M1367.9 384.353 L1386.26 384.353 L1386.26 388.288 L1372.18 388.288 L1372.18 396.761 Q1373.2 396.413 1374.22 396.251 Q1375.24 396.066 1376.26 396.066 Q1382.04 396.066 1385.42 399.237 Q1388.8 402.409 1388.8 407.825 Q1388.8 413.404 1385.33 416.506 Q1381.86 419.584 1375.54 419.584 Q1373.36 419.584 1371.09 419.214 Q1368.85 418.844 1366.44 418.103 L1366.44 413.404 Q1368.52 414.538 1370.75 415.094 Q1372.97 415.649 1375.44 415.649 Q1379.45 415.649 1381.79 413.543 Q1384.13 411.436 1384.13 407.825 Q1384.13 404.214 1381.79 402.108 Q1379.45 400.001 1375.44 400.001 Q1373.57 400.001 1371.7 400.418 Q1369.84 400.835 1367.9 401.714 L1367.9 384.353 Z\" fill=\"#000000\" fill-rule=\"evenodd\" fill-opacity=\"1\" /><path clip-path=\"url(#clip280)\" d=\"M1729.19 414.978 L1745.51 414.978 L1745.51 418.913 L1723.57 418.913 L1723.57 414.978 Q1726.23 412.223 1730.81 407.594 Q1735.42 402.941 1736.6 401.598 Q1738.85 399.075 1739.73 397.339 Q1740.63 395.58 1740.63 393.89 Q1740.63 391.136 1738.68 389.399 Q1736.76 387.663 1733.66 387.663 Q1731.46 387.663 1729.01 388.427 Q1726.58 389.191 1723.8 390.742 L1723.8 386.02 Q1726.62 384.886 1729.08 384.307 Q1731.53 383.728 1733.57 383.728 Q1738.94 383.728 1742.13 386.413 Q1745.33 389.099 1745.33 393.589 Q1745.33 395.719 1744.52 397.64 Q1743.73 399.538 1741.62 402.131 Q1741.05 402.802 1737.94 406.02 Q1734.84 409.214 1729.19 414.978 Z\" fill=\"#000000\" fill-rule=\"evenodd\" fill-opacity=\"1\" /><path clip-path=\"url(#clip280)\" d=\"M1765.33 387.432 Q1761.72 387.432 1759.89 390.997 Q1758.08 394.538 1758.08 401.668 Q1758.08 408.774 1759.89 412.339 Q1761.72 415.881 1765.33 415.881 Q1768.96 415.881 1770.77 412.339 Q1772.6 408.774 1772.6 401.668 Q1772.6 394.538 1770.77 390.997 Q1768.96 387.432 1765.33 387.432 M1765.33 383.728 Q1771.14 383.728 1774.19 388.335 Q1777.27 392.918 1777.27 401.668 Q1777.27 410.395 1774.19 415.001 Q1771.14 419.584 1765.33 419.584 Q1759.52 419.584 1756.44 415.001 Q1753.38 410.395 1753.38 401.668 Q1753.38 392.918 1756.44 388.335 Q1759.52 383.728 1765.33 383.728 Z\" fill=\"#000000\" fill-rule=\"evenodd\" fill-opacity=\"1\" /><path clip-path=\"url(#clip280)\" d=\"M2116.8 414.978 L2133.12 414.978 L2133.12 418.913 L2111.17 418.913 L2111.17 414.978 Q2113.83 412.223 2118.42 407.594 Q2123.02 402.941 2124.2 401.598 Q2126.45 399.075 2127.33 397.339 Q2128.23 395.58 2128.23 393.89 Q2128.23 391.136 2126.29 389.399 Q2124.37 387.663 2121.26 387.663 Q2119.06 387.663 2116.61 388.427 Q2114.18 389.191 2111.4 390.742 L2111.4 386.02 Q2114.23 384.886 2116.68 384.307 Q2119.13 383.728 2121.17 383.728 Q2126.54 383.728 2129.74 386.413 Q2132.93 389.099 2132.93 393.589 Q2132.93 395.719 2132.12 397.64 Q2131.33 399.538 2129.23 402.131 Q2128.65 402.802 2125.55 406.02 Q2122.44 409.214 2116.8 414.978 Z\" fill=\"#000000\" fill-rule=\"evenodd\" fill-opacity=\"1\" /><path clip-path=\"url(#clip280)\" d=\"M2142.98 384.353 L2161.33 384.353 L2161.33 388.288 L2147.26 388.288 L2147.26 396.761 Q2148.28 396.413 2149.3 396.251 Q2150.31 396.066 2151.33 396.066 Q2157.12 396.066 2160.5 399.237 Q2163.88 402.409 2163.88 407.825 Q2163.88 413.404 2160.41 416.506 Q2156.94 419.584 2150.62 419.584 Q2148.44 419.584 2146.17 419.214 Q2143.93 418.844 2141.52 418.103 L2141.52 413.404 Q2143.6 414.538 2145.82 415.094 Q2148.05 415.649 2150.52 415.649 Q2154.53 415.649 2156.87 413.543 Q2159.2 411.436 2159.2 407.825 Q2159.2 404.214 2156.87 402.108 Q2154.53 400.001 2150.52 400.001 Q2148.65 400.001 2146.77 400.418 Q2144.92 400.835 2142.98 401.714 L2142.98 384.353 Z\" fill=\"#000000\" fill-rule=\"evenodd\" fill-opacity=\"1\" /><path clip-path=\"url(#clip280)\" d=\"M1180.03 455.608 L1180.03 465.729 L1192.1 465.729 L1192.1 470.281 L1180.03 470.281 L1180.03 489.632 Q1180.03 493.993 1181.21 495.234 Q1182.42 496.476 1186.08 496.476 L1192.1 496.476 L1192.1 501.377 L1186.08 501.377 Q1179.3 501.377 1176.72 498.863 Q1174.14 496.316 1174.14 489.632 L1174.14 470.281 L1169.85 470.281 L1169.85 465.729 L1174.14 465.729 L1174.14 455.608 L1180.03 455.608 Z\" fill=\"#000000\" fill-rule=\"evenodd\" fill-opacity=\"1\" /><path clip-path=\"url(#clip280)\" d=\"M1199.8 465.729 L1205.65 465.729 L1205.65 501.377 L1199.8 501.377 L1199.8 465.729 M1199.8 451.852 L1205.65 451.852 L1205.65 459.268 L1199.8 459.268 L1199.8 451.852 Z\" fill=\"#000000\" fill-rule=\"evenodd\" fill-opacity=\"1\" /><path clip-path=\"url(#clip280)\" d=\"M1245.66 472.572 Q1247.86 468.626 1250.91 466.748 Q1253.97 464.87 1258.11 464.87 Q1263.68 464.87 1266.7 468.785 Q1269.73 472.668 1269.73 479.861 L1269.73 501.377 L1263.84 501.377 L1263.84 480.052 Q1263.84 474.928 1262.02 472.445 Q1260.21 469.962 1256.48 469.962 Q1251.93 469.962 1249.29 472.986 Q1246.65 476.01 1246.65 481.23 L1246.65 501.377 L1240.76 501.377 L1240.76 480.052 Q1240.76 474.896 1238.95 472.445 Q1237.13 469.962 1233.35 469.962 Q1228.86 469.962 1226.22 473.018 Q1223.57 476.042 1223.57 481.23 L1223.57 501.377 L1217.69 501.377 L1217.69 465.729 L1223.57 465.729 L1223.57 471.267 Q1225.58 467.989 1228.38 466.429 Q1231.18 464.87 1235.03 464.87 Q1238.92 464.87 1241.62 466.843 Q1244.36 468.817 1245.66 472.572 Z\" fill=\"#000000\" fill-rule=\"evenodd\" fill-opacity=\"1\" /><path clip-path=\"url(#clip280)\" d=\"M1311.9 482.089 L1311.9 484.954 L1284.97 484.954 Q1285.35 491.001 1288.6 494.184 Q1291.88 497.335 1297.7 497.335 Q1301.08 497.335 1304.23 496.507 Q1307.41 495.68 1310.53 494.025 L1310.53 499.563 Q1307.38 500.9 1304.07 501.6 Q1300.76 502.3 1297.35 502.3 Q1288.82 502.3 1283.83 497.335 Q1278.86 492.37 1278.86 483.903 Q1278.86 475.15 1283.57 470.026 Q1288.31 464.87 1296.33 464.87 Q1303.53 464.87 1307.7 469.517 Q1311.9 474.132 1311.9 482.089 M1306.04 480.37 Q1305.98 475.564 1303.34 472.7 Q1300.73 469.835 1296.4 469.835 Q1291.5 469.835 1288.54 472.604 Q1285.61 475.373 1285.16 480.402 L1306.04 480.37 Z\" fill=\"#000000\" fill-rule=\"evenodd\" fill-opacity=\"1\" /><path clip-path=\"url(#clip280)\" d=\"M1320.97 451.852 L1334.46 451.852 L1334.46 456.403 L1326.83 456.403 L1326.83 505.419 L1334.46 505.419 L1334.46 509.971 L1320.97 509.971 L1320.97 451.852 Z\" fill=\"#000000\" fill-rule=\"evenodd\" fill-opacity=\"1\" /><path clip-path=\"url(#clip280)\" d=\"M1376.57 479.861 L1376.57 501.377 L1370.72 501.377 L1370.72 480.052 Q1370.72 474.991 1368.74 472.477 Q1366.77 469.962 1362.82 469.962 Q1358.08 469.962 1355.34 472.986 Q1352.61 476.01 1352.61 481.23 L1352.61 501.377 L1346.72 501.377 L1346.72 451.852 L1352.61 451.852 L1352.61 471.267 Q1354.71 468.053 1357.54 466.461 Q1360.41 464.87 1364.13 464.87 Q1370.27 464.87 1373.42 468.689 Q1376.57 472.477 1376.57 479.861 Z\" fill=\"#000000\" fill-rule=\"evenodd\" fill-opacity=\"1\" /><path clip-path=\"url(#clip280)\" d=\"M1401.94 451.852 L1401.94 509.971 L1388.45 509.971 L1388.45 505.419 L1396.05 505.419 L1396.05 456.403 L1388.45 456.403 L1388.45 451.852 L1401.94 451.852 Z\" fill=\"#000000\" fill-rule=\"evenodd\" fill-opacity=\"1\" /><polyline clip-path=\"url(#clip282)\" style=\"stroke:#000000; stroke-linecap:round; stroke-linejoin:round; stroke-width:8; stroke-opacity:0.1; fill:none\" points=\"219.033,356.513 2352.76,356.513 \"/>\n",
       "<polyline clip-path=\"url(#clip282)\" style=\"stroke:#000000; stroke-linecap:round; stroke-linejoin:round; stroke-width:8; stroke-opacity:0.1; fill:none\" points=\"219.033,294.659 2352.76,294.659 \"/>\n",
       "<polyline clip-path=\"url(#clip282)\" style=\"stroke:#000000; stroke-linecap:round; stroke-linejoin:round; stroke-width:8; stroke-opacity:0.1; fill:none\" points=\"219.033,232.806 2352.76,232.806 \"/>\n",
       "<polyline clip-path=\"url(#clip282)\" style=\"stroke:#000000; stroke-linecap:round; stroke-linejoin:round; stroke-width:8; stroke-opacity:0.1; fill:none\" points=\"219.033,170.952 2352.76,170.952 \"/>\n",
       "<polyline clip-path=\"url(#clip282)\" style=\"stroke:#000000; stroke-linecap:round; stroke-linejoin:round; stroke-width:8; stroke-opacity:0.1; fill:none\" points=\"219.033,109.098 2352.76,109.098 \"/>\n",
       "<polyline clip-path=\"url(#clip282)\" style=\"stroke:#000000; stroke-linecap:round; stroke-linejoin:round; stroke-width:8; stroke-opacity:0.1; fill:none\" points=\"219.033,47.2441 2352.76,47.2441 \"/>\n",
       "<polyline clip-path=\"url(#clip280)\" style=\"stroke:#000000; stroke-linecap:round; stroke-linejoin:round; stroke-width:4; stroke-opacity:1; fill:none\" points=\"219.033,356.513 219.033,47.2441 \"/>\n",
       "<polyline clip-path=\"url(#clip280)\" style=\"stroke:#000000; stroke-linecap:round; stroke-linejoin:round; stroke-width:4; stroke-opacity:1; fill:none\" points=\"219.033,356.513 237.931,356.513 \"/>\n",
       "<polyline clip-path=\"url(#clip280)\" style=\"stroke:#000000; stroke-linecap:round; stroke-linejoin:round; stroke-width:4; stroke-opacity:1; fill:none\" points=\"219.033,294.659 237.931,294.659 \"/>\n",
       "<polyline clip-path=\"url(#clip280)\" style=\"stroke:#000000; stroke-linecap:round; stroke-linejoin:round; stroke-width:4; stroke-opacity:1; fill:none\" points=\"219.033,232.806 237.931,232.806 \"/>\n",
       "<polyline clip-path=\"url(#clip280)\" style=\"stroke:#000000; stroke-linecap:round; stroke-linejoin:round; stroke-width:4; stroke-opacity:1; fill:none\" points=\"219.033,170.952 237.931,170.952 \"/>\n",
       "<polyline clip-path=\"url(#clip280)\" style=\"stroke:#000000; stroke-linecap:round; stroke-linejoin:round; stroke-width:4; stroke-opacity:1; fill:none\" points=\"219.033,109.098 237.931,109.098 \"/>\n",
       "<polyline clip-path=\"url(#clip280)\" style=\"stroke:#000000; stroke-linecap:round; stroke-linejoin:round; stroke-width:4; stroke-opacity:1; fill:none\" points=\"219.033,47.2441 237.931,47.2441 \"/>\n",
       "<path clip-path=\"url(#clip280)\" d=\"M117.663 369.858 L125.302 369.858 L125.302 343.492 L116.992 345.159 L116.992 340.9 L125.255 339.233 L129.931 339.233 L129.931 369.858 L137.57 369.858 L137.57 373.793 L117.663 373.793 L117.663 369.858 Z\" fill=\"#000000\" fill-rule=\"evenodd\" fill-opacity=\"1\" /><path clip-path=\"url(#clip280)\" d=\"M147.015 367.914 L151.899 367.914 L151.899 373.793 L147.015 373.793 L147.015 367.914 Z\" fill=\"#000000\" fill-rule=\"evenodd\" fill-opacity=\"1\" /><path clip-path=\"url(#clip280)\" d=\"M162.13 339.233 L180.487 339.233 L180.487 343.168 L166.413 343.168 L166.413 351.641 Q167.431 351.293 168.45 351.131 Q169.468 350.946 170.487 350.946 Q176.274 350.946 179.653 354.117 Q183.033 357.289 183.033 362.705 Q183.033 368.284 179.561 371.386 Q176.089 374.464 169.769 374.464 Q167.593 374.464 165.325 374.094 Q163.079 373.724 160.672 372.983 L160.672 368.284 Q162.755 369.418 164.977 369.974 Q167.2 370.529 169.677 370.529 Q173.681 370.529 176.019 368.423 Q178.357 366.316 178.357 362.705 Q178.357 359.094 176.019 356.988 Q173.681 354.881 169.677 354.881 Q167.802 354.881 165.927 355.298 Q164.075 355.715 162.13 356.594 L162.13 339.233 Z\" fill=\"#000000\" fill-rule=\"evenodd\" fill-opacity=\"1\" /><path clip-path=\"url(#clip280)\" d=\"M116.506 308.004 L124.144 308.004 L124.144 281.639 L115.834 283.305 L115.834 279.046 L124.098 277.379 L128.774 277.379 L128.774 308.004 L136.413 308.004 L136.413 311.939 L116.506 311.939 L116.506 308.004 Z\" fill=\"#000000\" fill-rule=\"evenodd\" fill-opacity=\"1\" /><path clip-path=\"url(#clip280)\" d=\"M145.857 306.06 L150.741 306.06 L150.741 311.939 L145.857 311.939 L145.857 306.06 Z\" fill=\"#000000\" fill-rule=\"evenodd\" fill-opacity=\"1\" /><path clip-path=\"url(#clip280)\" d=\"M171.505 292.796 Q168.357 292.796 166.505 294.949 Q164.677 297.101 164.677 300.851 Q164.677 304.578 166.505 306.754 Q168.357 308.907 171.505 308.907 Q174.653 308.907 176.482 306.754 Q178.334 304.578 178.334 300.851 Q178.334 297.101 176.482 294.949 Q174.653 292.796 171.505 292.796 M180.788 278.143 L180.788 282.402 Q179.028 281.569 177.223 281.129 Q175.44 280.69 173.681 280.69 Q169.052 280.69 166.598 283.815 Q164.167 286.939 163.82 293.259 Q165.186 291.245 167.246 290.18 Q169.306 289.092 171.783 289.092 Q176.991 289.092 180.001 292.264 Q183.033 295.412 183.033 300.851 Q183.033 306.176 179.885 309.393 Q176.737 312.611 171.505 312.611 Q165.51 312.611 162.339 308.027 Q159.167 303.421 159.167 294.694 Q159.167 286.5 163.056 281.639 Q166.945 276.754 173.496 276.754 Q175.255 276.754 177.038 277.102 Q178.843 277.449 180.788 278.143 Z\" fill=\"#000000\" fill-rule=\"evenodd\" fill-opacity=\"1\" /><path clip-path=\"url(#clip280)\" d=\"M117.57 246.15 L125.209 246.15 L125.209 219.785 L116.899 221.451 L116.899 217.192 L125.163 215.526 L129.839 215.526 L129.839 246.15 L137.478 246.15 L137.478 250.086 L117.57 250.086 L117.57 246.15 Z\" fill=\"#000000\" fill-rule=\"evenodd\" fill-opacity=\"1\" /><path clip-path=\"url(#clip280)\" d=\"M146.922 244.206 L151.806 244.206 L151.806 250.086 L146.922 250.086 L146.922 244.206 Z\" fill=\"#000000\" fill-rule=\"evenodd\" fill-opacity=\"1\" /><path clip-path=\"url(#clip280)\" d=\"M160.811 215.526 L183.033 215.526 L183.033 217.516 L170.487 250.086 L165.602 250.086 L177.408 219.461 L160.811 219.461 L160.811 215.526 Z\" fill=\"#000000\" fill-rule=\"evenodd\" fill-opacity=\"1\" /><path clip-path=\"url(#clip280)\" d=\"M116.76 184.297 L124.399 184.297 L124.399 157.931 L116.089 159.598 L116.089 155.338 L124.353 153.672 L129.029 153.672 L129.029 184.297 L136.667 184.297 L136.667 188.232 L116.76 188.232 L116.76 184.297 Z\" fill=\"#000000\" fill-rule=\"evenodd\" fill-opacity=\"1\" /><path clip-path=\"url(#clip280)\" d=\"M146.112 182.352 L150.996 182.352 L150.996 188.232 L146.112 188.232 L146.112 182.352 Z\" fill=\"#000000\" fill-rule=\"evenodd\" fill-opacity=\"1\" /><path clip-path=\"url(#clip280)\" d=\"M171.181 171.82 Q167.848 171.82 165.927 173.602 Q164.028 175.385 164.028 178.51 Q164.028 181.635 165.927 183.417 Q167.848 185.199 171.181 185.199 Q174.514 185.199 176.436 183.417 Q178.357 181.611 178.357 178.51 Q178.357 175.385 176.436 173.602 Q174.538 171.82 171.181 171.82 M166.505 169.829 Q163.496 169.088 161.806 167.028 Q160.14 164.968 160.14 162.005 Q160.14 157.862 163.079 155.454 Q166.042 153.047 171.181 153.047 Q176.343 153.047 179.283 155.454 Q182.223 157.862 182.223 162.005 Q182.223 164.968 180.533 167.028 Q178.866 169.088 175.88 169.829 Q179.26 170.616 181.135 172.908 Q183.033 175.199 183.033 178.51 Q183.033 183.533 179.954 186.218 Q176.899 188.903 171.181 188.903 Q165.464 188.903 162.385 186.218 Q159.329 183.533 159.329 178.51 Q159.329 175.199 161.227 172.908 Q163.126 170.616 166.505 169.829 M164.792 162.445 Q164.792 165.13 166.459 166.635 Q168.149 168.139 171.181 168.139 Q174.19 168.139 175.88 166.635 Q177.593 165.13 177.593 162.445 Q177.593 159.76 175.88 158.255 Q174.19 156.75 171.181 156.75 Q168.149 156.75 166.459 158.255 Q164.792 159.76 164.792 162.445 Z\" fill=\"#000000\" fill-rule=\"evenodd\" fill-opacity=\"1\" /><path clip-path=\"url(#clip280)\" d=\"M116.853 122.443 L124.492 122.443 L124.492 96.0771 L116.181 97.7438 L116.181 93.4846 L124.445 91.8179 L129.121 91.8179 L129.121 122.443 L136.76 122.443 L136.76 126.378 L116.853 126.378 L116.853 122.443 Z\" fill=\"#000000\" fill-rule=\"evenodd\" fill-opacity=\"1\" /><path clip-path=\"url(#clip280)\" d=\"M146.204 120.498 L151.089 120.498 L151.089 126.378 L146.204 126.378 L146.204 120.498 Z\" fill=\"#000000\" fill-rule=\"evenodd\" fill-opacity=\"1\" /><path clip-path=\"url(#clip280)\" d=\"M161.413 125.66 L161.413 121.401 Q163.172 122.234 164.977 122.674 Q166.783 123.114 168.519 123.114 Q173.149 123.114 175.579 120.012 Q178.033 116.887 178.38 110.545 Q177.038 112.535 174.977 113.6 Q172.917 114.665 170.417 114.665 Q165.232 114.665 162.2 111.54 Q159.19 108.392 159.19 102.952 Q159.19 97.6281 162.339 94.4105 Q165.487 91.1929 170.718 91.1929 Q176.714 91.1929 179.862 95.7994 Q183.033 100.383 183.033 109.133 Q183.033 117.304 179.144 122.188 Q175.278 127.049 168.727 127.049 Q166.968 127.049 165.163 126.702 Q163.357 126.355 161.413 125.66 M170.718 111.008 Q173.866 111.008 175.695 108.855 Q177.547 106.702 177.547 102.952 Q177.547 99.2253 175.695 97.0725 Q173.866 94.8966 170.718 94.8966 Q167.57 94.8966 165.718 97.0725 Q163.89 99.2253 163.89 102.952 Q163.89 106.702 165.718 108.855 Q167.57 111.008 170.718 111.008 Z\" fill=\"#000000\" fill-rule=\"evenodd\" fill-opacity=\"1\" /><path clip-path=\"url(#clip280)\" d=\"M119.885 60.5889 L136.204 60.5889 L136.204 64.5241 L114.26 64.5241 L114.26 60.5889 Q116.922 57.8343 121.505 53.2047 Q126.112 48.552 127.292 47.2094 Q129.538 44.6862 130.417 42.9501 Q131.32 41.1909 131.32 39.5011 Q131.32 36.7465 129.376 35.0104 Q127.455 33.2743 124.353 33.2743 Q122.154 33.2743 119.7 34.0381 Q117.269 34.802 114.492 36.3529 L114.492 31.6308 Q117.316 30.4965 119.769 29.9178 Q122.223 29.3391 124.26 29.3391 Q129.63 29.3391 132.825 32.0243 Q136.019 34.7094 136.019 39.2002 Q136.019 41.3298 135.209 43.2511 Q134.422 45.1492 132.316 47.7418 Q131.737 48.4131 128.635 51.6306 Q125.533 54.8251 119.885 60.5889 Z\" fill=\"#000000\" fill-rule=\"evenodd\" fill-opacity=\"1\" /><path clip-path=\"url(#clip280)\" d=\"M146.019 58.6445 L150.903 58.6445 L150.903 64.5241 L146.019 64.5241 L146.019 58.6445 Z\" fill=\"#000000\" fill-rule=\"evenodd\" fill-opacity=\"1\" /><path clip-path=\"url(#clip280)\" d=\"M171.089 33.0428 Q167.477 33.0428 165.649 36.6076 Q163.843 40.1492 163.843 47.2788 Q163.843 54.3853 165.649 57.9501 Q167.477 61.4917 171.089 61.4917 Q174.723 61.4917 176.528 57.9501 Q178.357 54.3853 178.357 47.2788 Q178.357 40.1492 176.528 36.6076 Q174.723 33.0428 171.089 33.0428 M171.089 29.3391 Q176.899 29.3391 179.954 33.9456 Q183.033 38.5289 183.033 47.2788 Q183.033 56.0056 179.954 60.6121 Q176.899 65.1954 171.089 65.1954 Q165.278 65.1954 162.2 60.6121 Q159.144 56.0056 159.144 47.2788 Q159.144 38.5289 162.2 33.9456 Q165.278 29.3391 171.089 29.3391 Z\" fill=\"#000000\" fill-rule=\"evenodd\" fill-opacity=\"1\" /><path clip-path=\"url(#clip280)\" d=\"M49.9359 237.495 L28.3562 237.495 L28.3562 231.638 L49.7131 231.638 Q54.7739 231.638 57.3202 229.665 Q59.8346 227.692 59.8346 223.745 Q59.8346 219.002 56.8109 216.265 Q53.7872 213.496 48.5673 213.496 L28.3562 213.496 L28.3562 207.64 L64.0042 207.64 L64.0042 213.496 L58.5296 213.496 Q61.7762 215.629 63.3676 218.461 Q64.9272 221.262 64.9272 224.986 Q64.9272 231.129 61.1078 234.312 Q57.2883 237.495 49.9359 237.495 M27.4968 222.758 L27.4968 222.758 Z\" fill=\"#000000\" fill-rule=\"evenodd\" fill-opacity=\"1\" /><path clip-path=\"url(#clip280)\" d=\"M58.5933 193.635 L58.5933 183.132 L22.3406 183.132 L24.6323 194.558 L18.7758 194.558 L16.4842 183.195 L16.4842 176.766 L58.5933 176.766 L58.5933 166.263 L64.0042 166.263 L64.0042 193.635 L58.5933 193.635 Z\" fill=\"#000000\" fill-rule=\"evenodd\" fill-opacity=\"1\" /><line clip-path=\"url(#clip282)\" x1=\"279.421\" y1=\"291.597\" x2=\"279.421\" y2=\"275.597\" style=\"stroke:#6b9e32; stroke-width:3.2; stroke-opacity:1\"/>\n",
       "<line clip-path=\"url(#clip282)\" x1=\"279.421\" y1=\"291.597\" x2=\"263.421\" y2=\"291.597\" style=\"stroke:#6b9e32; stroke-width:3.2; stroke-opacity:1\"/>\n",
       "<line clip-path=\"url(#clip282)\" x1=\"279.421\" y1=\"291.597\" x2=\"279.421\" y2=\"307.597\" style=\"stroke:#6b9e32; stroke-width:3.2; stroke-opacity:1\"/>\n",
       "<line clip-path=\"url(#clip282)\" x1=\"279.421\" y1=\"291.597\" x2=\"295.421\" y2=\"291.597\" style=\"stroke:#6b9e32; stroke-width:3.2; stroke-opacity:1\"/>\n",
       "<polyline clip-path=\"url(#clip282)\" style=\"stroke:#ff0000; stroke-linecap:round; stroke-linejoin:round; stroke-width:20; stroke-opacity:0.3; fill:none\" points=\"279.421,291.597 279.421,42.0051 356.842,42.0051 356.842,-122.496 434.263,-122.496 434.263,-229.911 511.684,-229.911 511.684,-235.465 589.105,-235.465 589.105,-126.369 666.526,-126.369 666.526,-54.7405 743.947,-54.7405 743.947,-12.2691 821.368,-12.2691 821.368,6.10836 898.789,6.10836 898.789,1.86384 976.21,1.86384 976.21,-27.129 1053.63,-27.129 1053.63,-84.492 1131.05,-84.492 1131.05,-45.8817 1208.47,-45.8817 1208.47,-36.3062 1285.89,-36.3062 1285.89,-33.914 1363.32,-33.914 1363.32,-38.8001 1440.74,-38.8001 1440.74,-47.1759 1518.16,-47.1759 1518.16,-36.159 1595.58,-36.159 1595.58,-41.9865 1673,-41.9865 1673,-40.521 1750.42,-40.521 1827.84,-40.521 1905.26,-40.521 1982.68,-40.521 2060.1,-40.521 2137.53,-40.521 2214.95,-40.521 2292.37,-40.521 \"/>\n",
       "<circle clip-path=\"url(#clip282)\" cx=\"279.421\" cy=\"291.597\" r=\"14.4\" fill=\"#009af9\" fill-rule=\"evenodd\" fill-opacity=\"1\" stroke=\"#000000\" stroke-opacity=\"1\" stroke-width=\"3.2\"/>\n",
       "<polyline clip-path=\"url(#clip282)\" style=\"stroke:#80007f; stroke-linecap:round; stroke-linejoin:round; stroke-width:20; stroke-opacity:0.3; fill:none\" points=\"279.421,291.597 279.421,42.0053 356.842,42.0053 356.842,-122.496 434.263,-122.496 434.263,-229.911 511.684,-229.911 511.684,-235.514 589.105,-235.514 589.105,-126.383 666.526,-126.383 666.526,-54.7311 743.947,-54.7311 743.947,-12.2435 821.368,-12.2435 821.368,6.14508 898.789,6.14508 898.789,1.90826 976.21,1.90826 976.21,-27.0797 1053.63,-27.0797 1053.63,-84.6383 1131.05,-84.6383 1131.05,-46.1549 1208.47,-46.1549 1208.47,-36.1246 1285.89,-36.1246 1285.89,-33.4508 1363.32,-33.4508 1363.32,-38.2102 1440.74,-38.2102 1440.74,-50.6638 1518.16,-50.6638 1518.16,-31.3551 1595.58,-31.3551 1595.58,-44.591 1673,-44.591 1673,-40.4489 1750.42,-40.4489 1827.84,-40.4489 1905.26,-40.4489 1982.68,-40.4489 2060.1,-40.4489 2137.53,-40.4489 2214.95,-40.4489 2292.37,-40.4489 \"/>\n",
       "<path clip-path=\"url(#clip282)\" d=\"M279.421 275.599 L263.421 291.599 L279.421 307.599 L295.421 291.599 L279.421 275.599 Z\" fill=\"#e26f46\" fill-rule=\"evenodd\" fill-opacity=\"1\" stroke=\"#000000\" stroke-opacity=\"1\" stroke-width=\"3.2\"/>\n",
       "<polyline clip-path=\"url(#clip282)\" style=\"stroke:#0000ff; stroke-linecap:round; stroke-linejoin:round; stroke-width:20; stroke-opacity:0.3; fill:none\" points=\"279.421,291.599 279.421,42.008 356.842,42.008 356.842,-122.492 434.263,-122.492 434.263,-229.903 511.684,-229.903 511.684,-235.074 589.105,-235.074 589.105,-126.256 666.526,-126.256 666.526,-54.806 743.947,-54.806 743.947,-12.4478 821.368,-12.4478 821.368,5.86011 898.789,5.86011 898.789,1.58045 976.21,1.58045 976.21,-27.3918 1053.63,-27.3918 1053.63,-83.6103 1131.05,-83.6103 1131.05,-44.6983 1208.47,-44.6983 1208.47,-37.4465 1285.89,-37.4465 1285.89,-35.3184 1363.32,-35.3184 1363.32,-38.3181 1440.74,-38.3181 1440.74,-44.287 1518.16,-44.287 1518.16,-39.703 1595.58,-39.703 1595.58,-40.414 1673,-40.414 1673,-40.5524 1750.42,-40.5524 1827.84,-40.5524 1905.26,-40.5524 1982.68,-40.5524 2060.1,-40.5524 2137.53,-40.5524 2214.95,-40.5524 2292.37,-40.5524 \"/>\n",
       "<path clip-path=\"url(#clip280)\" d=\"M219.033 889.847 L2352.76 889.847 L2352.76 580.577 L219.033 580.577  Z\" fill=\"#ffffff\" fill-rule=\"evenodd\" fill-opacity=\"1\"/>\n",
       "<defs>\n",
       "  <clipPath id=\"clip283\">\n",
       "    <rect x=\"219\" y=\"580\" width=\"2135\" height=\"310\"/>\n",
       "  </clipPath>\n",
       "</defs>\n",
       "<polyline clip-path=\"url(#clip283)\" style=\"stroke:#000000; stroke-linecap:round; stroke-linejoin:round; stroke-width:8; stroke-opacity:0.1; fill:none\" points=\"589.105,889.847 589.105,580.577 \"/>\n",
       "<polyline clip-path=\"url(#clip283)\" style=\"stroke:#000000; stroke-linecap:round; stroke-linejoin:round; stroke-width:8; stroke-opacity:0.1; fill:none\" points=\"976.21,889.847 976.21,580.577 \"/>\n",
       "<polyline clip-path=\"url(#clip283)\" style=\"stroke:#000000; stroke-linecap:round; stroke-linejoin:round; stroke-width:8; stroke-opacity:0.1; fill:none\" points=\"1363.32,889.847 1363.32,580.577 \"/>\n",
       "<polyline clip-path=\"url(#clip283)\" style=\"stroke:#000000; stroke-linecap:round; stroke-linejoin:round; stroke-width:8; stroke-opacity:0.1; fill:none\" points=\"1750.42,889.847 1750.42,580.577 \"/>\n",
       "<polyline clip-path=\"url(#clip283)\" style=\"stroke:#000000; stroke-linecap:round; stroke-linejoin:round; stroke-width:8; stroke-opacity:0.1; fill:none\" points=\"2137.53,889.847 2137.53,580.577 \"/>\n",
       "<polyline clip-path=\"url(#clip280)\" style=\"stroke:#000000; stroke-linecap:round; stroke-linejoin:round; stroke-width:4; stroke-opacity:1; fill:none\" points=\"219.033,889.847 2352.76,889.847 \"/>\n",
       "<polyline clip-path=\"url(#clip280)\" style=\"stroke:#000000; stroke-linecap:round; stroke-linejoin:round; stroke-width:4; stroke-opacity:1; fill:none\" points=\"589.105,889.847 589.105,870.949 \"/>\n",
       "<polyline clip-path=\"url(#clip280)\" style=\"stroke:#000000; stroke-linecap:round; stroke-linejoin:round; stroke-width:4; stroke-opacity:1; fill:none\" points=\"976.21,889.847 976.21,870.949 \"/>\n",
       "<polyline clip-path=\"url(#clip280)\" style=\"stroke:#000000; stroke-linecap:round; stroke-linejoin:round; stroke-width:4; stroke-opacity:1; fill:none\" points=\"1363.32,889.847 1363.32,870.949 \"/>\n",
       "<polyline clip-path=\"url(#clip280)\" style=\"stroke:#000000; stroke-linecap:round; stroke-linejoin:round; stroke-width:4; stroke-opacity:1; fill:none\" points=\"1750.42,889.847 1750.42,870.949 \"/>\n",
       "<polyline clip-path=\"url(#clip280)\" style=\"stroke:#000000; stroke-linecap:round; stroke-linejoin:round; stroke-width:4; stroke-opacity:1; fill:none\" points=\"2137.53,889.847 2137.53,870.949 \"/>\n",
       "<path clip-path=\"url(#clip280)\" d=\"M579.383 917.687 L597.74 917.687 L597.74 921.622 L583.666 921.622 L583.666 930.094 Q584.684 929.747 585.703 929.585 Q586.721 929.399 587.74 929.399 Q593.527 929.399 596.906 932.571 Q600.286 935.742 600.286 941.159 Q600.286 946.737 596.814 949.839 Q593.341 952.918 587.022 952.918 Q584.846 952.918 582.578 952.547 Q580.332 952.177 577.925 951.436 L577.925 946.737 Q580.008 947.872 582.23 948.427 Q584.453 948.983 586.929 948.983 Q590.934 948.983 593.272 946.876 Q595.61 944.77 595.61 941.159 Q595.61 937.548 593.272 935.441 Q590.934 933.335 586.929 933.335 Q585.054 933.335 583.179 933.751 Q581.328 934.168 579.383 935.048 L579.383 917.687 Z\" fill=\"#000000\" fill-rule=\"evenodd\" fill-opacity=\"1\" /><path clip-path=\"url(#clip280)\" d=\"M950.898 948.311 L958.537 948.311 L958.537 921.946 L950.227 923.612 L950.227 919.353 L958.491 917.687 L963.166 917.687 L963.166 948.311 L970.805 948.311 L970.805 952.247 L950.898 952.247 L950.898 948.311 Z\" fill=\"#000000\" fill-rule=\"evenodd\" fill-opacity=\"1\" /><path clip-path=\"url(#clip280)\" d=\"M990.25 920.765 Q986.639 920.765 984.81 924.33 Q983.004 927.872 983.004 935.001 Q983.004 942.108 984.81 945.672 Q986.639 949.214 990.25 949.214 Q993.884 949.214 995.689 945.672 Q997.518 942.108 997.518 935.001 Q997.518 927.872 995.689 924.33 Q993.884 920.765 990.25 920.765 M990.25 917.062 Q996.06 917.062 999.115 921.668 Q1002.19 926.251 1002.19 935.001 Q1002.19 943.728 999.115 948.334 Q996.06 952.918 990.25 952.918 Q984.44 952.918 981.361 948.334 Q978.305 943.728 978.305 935.001 Q978.305 926.251 981.361 921.668 Q984.44 917.062 990.25 917.062 Z\" fill=\"#000000\" fill-rule=\"evenodd\" fill-opacity=\"1\" /><path clip-path=\"url(#clip280)\" d=\"M1338.5 948.311 L1346.14 948.311 L1346.14 921.946 L1337.83 923.612 L1337.83 919.353 L1346.09 917.687 L1350.77 917.687 L1350.77 948.311 L1358.41 948.311 L1358.41 952.247 L1338.5 952.247 L1338.5 948.311 Z\" fill=\"#000000\" fill-rule=\"evenodd\" fill-opacity=\"1\" /><path clip-path=\"url(#clip280)\" d=\"M1367.9 917.687 L1386.26 917.687 L1386.26 921.622 L1372.18 921.622 L1372.18 930.094 Q1373.2 929.747 1374.22 929.585 Q1375.24 929.399 1376.26 929.399 Q1382.04 929.399 1385.42 932.571 Q1388.8 935.742 1388.8 941.159 Q1388.8 946.737 1385.33 949.839 Q1381.86 952.918 1375.54 952.918 Q1373.36 952.918 1371.09 952.547 Q1368.85 952.177 1366.44 951.436 L1366.44 946.737 Q1368.52 947.872 1370.75 948.427 Q1372.97 948.983 1375.44 948.983 Q1379.45 948.983 1381.79 946.876 Q1384.13 944.77 1384.13 941.159 Q1384.13 937.548 1381.79 935.441 Q1379.45 933.335 1375.44 933.335 Q1373.57 933.335 1371.7 933.751 Q1369.84 934.168 1367.9 935.048 L1367.9 917.687 Z\" fill=\"#000000\" fill-rule=\"evenodd\" fill-opacity=\"1\" /><path clip-path=\"url(#clip280)\" d=\"M1729.19 948.311 L1745.51 948.311 L1745.51 952.247 L1723.57 952.247 L1723.57 948.311 Q1726.23 945.557 1730.81 940.927 Q1735.42 936.274 1736.6 934.932 Q1738.85 932.409 1739.73 930.673 Q1740.63 928.913 1740.63 927.223 Q1740.63 924.469 1738.68 922.733 Q1736.76 920.997 1733.66 920.997 Q1731.46 920.997 1729.01 921.761 Q1726.58 922.524 1723.8 924.075 L1723.8 919.353 Q1726.62 918.219 1729.08 917.64 Q1731.53 917.062 1733.57 917.062 Q1738.94 917.062 1742.13 919.747 Q1745.33 922.432 1745.33 926.923 Q1745.33 929.052 1744.52 930.973 Q1743.73 932.872 1741.62 935.464 Q1741.05 936.135 1737.94 939.353 Q1734.84 942.547 1729.19 948.311 Z\" fill=\"#000000\" fill-rule=\"evenodd\" fill-opacity=\"1\" /><path clip-path=\"url(#clip280)\" d=\"M1765.33 920.765 Q1761.72 920.765 1759.89 924.33 Q1758.08 927.872 1758.08 935.001 Q1758.08 942.108 1759.89 945.672 Q1761.72 949.214 1765.33 949.214 Q1768.96 949.214 1770.77 945.672 Q1772.6 942.108 1772.6 935.001 Q1772.6 927.872 1770.77 924.33 Q1768.96 920.765 1765.33 920.765 M1765.33 917.062 Q1771.14 917.062 1774.19 921.668 Q1777.27 926.251 1777.27 935.001 Q1777.27 943.728 1774.19 948.334 Q1771.14 952.918 1765.33 952.918 Q1759.52 952.918 1756.44 948.334 Q1753.38 943.728 1753.38 935.001 Q1753.38 926.251 1756.44 921.668 Q1759.52 917.062 1765.33 917.062 Z\" fill=\"#000000\" fill-rule=\"evenodd\" fill-opacity=\"1\" /><path clip-path=\"url(#clip280)\" d=\"M2116.8 948.311 L2133.12 948.311 L2133.12 952.247 L2111.17 952.247 L2111.17 948.311 Q2113.83 945.557 2118.42 940.927 Q2123.02 936.274 2124.2 934.932 Q2126.45 932.409 2127.33 930.673 Q2128.23 928.913 2128.23 927.223 Q2128.23 924.469 2126.29 922.733 Q2124.37 920.997 2121.26 920.997 Q2119.06 920.997 2116.61 921.761 Q2114.18 922.524 2111.4 924.075 L2111.4 919.353 Q2114.23 918.219 2116.68 917.64 Q2119.13 917.062 2121.17 917.062 Q2126.54 917.062 2129.74 919.747 Q2132.93 922.432 2132.93 926.923 Q2132.93 929.052 2132.12 930.973 Q2131.33 932.872 2129.23 935.464 Q2128.65 936.135 2125.55 939.353 Q2122.44 942.547 2116.8 948.311 Z\" fill=\"#000000\" fill-rule=\"evenodd\" fill-opacity=\"1\" /><path clip-path=\"url(#clip280)\" d=\"M2142.98 917.687 L2161.33 917.687 L2161.33 921.622 L2147.26 921.622 L2147.26 930.094 Q2148.28 929.747 2149.3 929.585 Q2150.31 929.399 2151.33 929.399 Q2157.12 929.399 2160.5 932.571 Q2163.88 935.742 2163.88 941.159 Q2163.88 946.737 2160.41 949.839 Q2156.94 952.918 2150.62 952.918 Q2148.44 952.918 2146.17 952.547 Q2143.93 952.177 2141.52 951.436 L2141.52 946.737 Q2143.6 947.872 2145.82 948.427 Q2148.05 948.983 2150.52 948.983 Q2154.53 948.983 2156.87 946.876 Q2159.2 944.77 2159.2 941.159 Q2159.2 937.548 2156.87 935.441 Q2154.53 933.335 2150.52 933.335 Q2148.65 933.335 2146.77 933.751 Q2144.92 934.168 2142.98 935.048 L2142.98 917.687 Z\" fill=\"#000000\" fill-rule=\"evenodd\" fill-opacity=\"1\" /><path clip-path=\"url(#clip280)\" d=\"M1180.03 988.941 L1180.03 999.063 L1192.1 999.063 L1192.1 1003.61 L1180.03 1003.61 L1180.03 1022.97 Q1180.03 1027.33 1181.21 1028.57 Q1182.42 1029.81 1186.08 1029.81 L1192.1 1029.81 L1192.1 1034.71 L1186.08 1034.71 Q1179.3 1034.71 1176.72 1032.2 Q1174.14 1029.65 1174.14 1022.97 L1174.14 1003.61 L1169.85 1003.61 L1169.85 999.063 L1174.14 999.063 L1174.14 988.941 L1180.03 988.941 Z\" fill=\"#000000\" fill-rule=\"evenodd\" fill-opacity=\"1\" /><path clip-path=\"url(#clip280)\" d=\"M1199.8 999.063 L1205.65 999.063 L1205.65 1034.71 L1199.8 1034.71 L1199.8 999.063 M1199.8 985.185 L1205.65 985.185 L1205.65 992.601 L1199.8 992.601 L1199.8 985.185 Z\" fill=\"#000000\" fill-rule=\"evenodd\" fill-opacity=\"1\" /><path clip-path=\"url(#clip280)\" d=\"M1245.66 1005.91 Q1247.86 1001.96 1250.91 1000.08 Q1253.97 998.203 1258.11 998.203 Q1263.68 998.203 1266.7 1002.12 Q1269.73 1006 1269.73 1013.19 L1269.73 1034.71 L1263.84 1034.71 L1263.84 1013.39 Q1263.84 1008.26 1262.02 1005.78 Q1260.21 1003.3 1256.48 1003.3 Q1251.93 1003.3 1249.29 1006.32 Q1246.65 1009.34 1246.65 1014.56 L1246.65 1034.71 L1240.76 1034.71 L1240.76 1013.39 Q1240.76 1008.23 1238.95 1005.78 Q1237.13 1003.3 1233.35 1003.3 Q1228.86 1003.3 1226.22 1006.35 Q1223.57 1009.37 1223.57 1014.56 L1223.57 1034.71 L1217.69 1034.71 L1217.69 999.063 L1223.57 999.063 L1223.57 1004.6 Q1225.58 1001.32 1228.38 999.763 Q1231.18 998.203 1235.03 998.203 Q1238.92 998.203 1241.62 1000.18 Q1244.36 1002.15 1245.66 1005.91 Z\" fill=\"#000000\" fill-rule=\"evenodd\" fill-opacity=\"1\" /><path clip-path=\"url(#clip280)\" d=\"M1311.9 1015.42 L1311.9 1018.29 L1284.97 1018.29 Q1285.35 1024.33 1288.6 1027.52 Q1291.88 1030.67 1297.7 1030.67 Q1301.08 1030.67 1304.23 1029.84 Q1307.41 1029.01 1310.53 1027.36 L1310.53 1032.9 Q1307.38 1034.23 1304.07 1034.93 Q1300.76 1035.63 1297.35 1035.63 Q1288.82 1035.63 1283.83 1030.67 Q1278.86 1025.7 1278.86 1017.24 Q1278.86 1008.48 1283.57 1003.36 Q1288.31 998.203 1296.33 998.203 Q1303.53 998.203 1307.7 1002.85 Q1311.9 1007.47 1311.9 1015.42 M1306.04 1013.7 Q1305.98 1008.9 1303.34 1006.03 Q1300.73 1003.17 1296.4 1003.17 Q1291.5 1003.17 1288.54 1005.94 Q1285.61 1008.71 1285.16 1013.74 L1306.04 1013.7 Z\" fill=\"#000000\" fill-rule=\"evenodd\" fill-opacity=\"1\" /><path clip-path=\"url(#clip280)\" d=\"M1320.97 985.185 L1334.46 985.185 L1334.46 989.737 L1326.83 989.737 L1326.83 1038.75 L1334.46 1038.75 L1334.46 1043.3 L1320.97 1043.3 L1320.97 985.185 Z\" fill=\"#000000\" fill-rule=\"evenodd\" fill-opacity=\"1\" /><path clip-path=\"url(#clip280)\" d=\"M1376.57 1013.19 L1376.57 1034.71 L1370.72 1034.71 L1370.72 1013.39 Q1370.72 1008.32 1368.74 1005.81 Q1366.77 1003.3 1362.82 1003.3 Q1358.08 1003.3 1355.34 1006.32 Q1352.61 1009.34 1352.61 1014.56 L1352.61 1034.71 L1346.72 1034.71 L1346.72 985.185 L1352.61 985.185 L1352.61 1004.6 Q1354.71 1001.39 1357.54 999.795 Q1360.41 998.203 1364.13 998.203 Q1370.27 998.203 1373.42 1002.02 Q1376.57 1005.81 1376.57 1013.19 Z\" fill=\"#000000\" fill-rule=\"evenodd\" fill-opacity=\"1\" /><path clip-path=\"url(#clip280)\" d=\"M1401.94 985.185 L1401.94 1043.3 L1388.45 1043.3 L1388.45 1038.75 L1396.05 1038.75 L1396.05 989.737 L1388.45 989.737 L1388.45 985.185 L1401.94 985.185 Z\" fill=\"#000000\" fill-rule=\"evenodd\" fill-opacity=\"1\" /><polyline clip-path=\"url(#clip283)\" style=\"stroke:#000000; stroke-linecap:round; stroke-linejoin:round; stroke-width:8; stroke-opacity:0.1; fill:none\" points=\"219.033,889.847 2352.76,889.847 \"/>\n",
       "<polyline clip-path=\"url(#clip283)\" style=\"stroke:#000000; stroke-linecap:round; stroke-linejoin:round; stroke-width:8; stroke-opacity:0.1; fill:none\" points=\"219.033,827.993 2352.76,827.993 \"/>\n",
       "<polyline clip-path=\"url(#clip283)\" style=\"stroke:#000000; stroke-linecap:round; stroke-linejoin:round; stroke-width:8; stroke-opacity:0.1; fill:none\" points=\"219.033,766.139 2352.76,766.139 \"/>\n",
       "<polyline clip-path=\"url(#clip283)\" style=\"stroke:#000000; stroke-linecap:round; stroke-linejoin:round; stroke-width:8; stroke-opacity:0.1; fill:none\" points=\"219.033,704.285 2352.76,704.285 \"/>\n",
       "<polyline clip-path=\"url(#clip283)\" style=\"stroke:#000000; stroke-linecap:round; stroke-linejoin:round; stroke-width:8; stroke-opacity:0.1; fill:none\" points=\"219.033,642.431 2352.76,642.431 \"/>\n",
       "<polyline clip-path=\"url(#clip283)\" style=\"stroke:#000000; stroke-linecap:round; stroke-linejoin:round; stroke-width:8; stroke-opacity:0.1; fill:none\" points=\"219.033,580.577 2352.76,580.577 \"/>\n",
       "<polyline clip-path=\"url(#clip280)\" style=\"stroke:#000000; stroke-linecap:round; stroke-linejoin:round; stroke-width:4; stroke-opacity:1; fill:none\" points=\"219.033,889.847 219.033,580.577 \"/>\n",
       "<polyline clip-path=\"url(#clip280)\" style=\"stroke:#000000; stroke-linecap:round; stroke-linejoin:round; stroke-width:4; stroke-opacity:1; fill:none\" points=\"219.033,889.847 237.931,889.847 \"/>\n",
       "<polyline clip-path=\"url(#clip280)\" style=\"stroke:#000000; stroke-linecap:round; stroke-linejoin:round; stroke-width:4; stroke-opacity:1; fill:none\" points=\"219.033,827.993 237.931,827.993 \"/>\n",
       "<polyline clip-path=\"url(#clip280)\" style=\"stroke:#000000; stroke-linecap:round; stroke-linejoin:round; stroke-width:4; stroke-opacity:1; fill:none\" points=\"219.033,766.139 237.931,766.139 \"/>\n",
       "<polyline clip-path=\"url(#clip280)\" style=\"stroke:#000000; stroke-linecap:round; stroke-linejoin:round; stroke-width:4; stroke-opacity:1; fill:none\" points=\"219.033,704.285 237.931,704.285 \"/>\n",
       "<polyline clip-path=\"url(#clip280)\" style=\"stroke:#000000; stroke-linecap:round; stroke-linejoin:round; stroke-width:4; stroke-opacity:1; fill:none\" points=\"219.033,642.431 237.931,642.431 \"/>\n",
       "<polyline clip-path=\"url(#clip280)\" style=\"stroke:#000000; stroke-linecap:round; stroke-linejoin:round; stroke-width:4; stroke-opacity:1; fill:none\" points=\"219.033,580.577 237.931,580.577 \"/>\n",
       "<path clip-path=\"url(#clip280)\" d=\"M117.663 903.191 L125.302 903.191 L125.302 876.826 L116.992 878.492 L116.992 874.233 L125.255 872.567 L129.931 872.567 L129.931 903.191 L137.57 903.191 L137.57 907.127 L117.663 907.127 L117.663 903.191 Z\" fill=\"#000000\" fill-rule=\"evenodd\" fill-opacity=\"1\" /><path clip-path=\"url(#clip280)\" d=\"M147.015 901.247 L151.899 901.247 L151.899 907.127 L147.015 907.127 L147.015 901.247 Z\" fill=\"#000000\" fill-rule=\"evenodd\" fill-opacity=\"1\" /><path clip-path=\"url(#clip280)\" d=\"M162.13 872.567 L180.487 872.567 L180.487 876.502 L166.413 876.502 L166.413 884.974 Q167.431 884.627 168.45 884.465 Q169.468 884.279 170.487 884.279 Q176.274 884.279 179.653 887.451 Q183.033 890.622 183.033 896.039 Q183.033 901.617 179.561 904.719 Q176.089 907.798 169.769 907.798 Q167.593 907.798 165.325 907.427 Q163.079 907.057 160.672 906.316 L160.672 901.617 Q162.755 902.752 164.977 903.307 Q167.2 903.863 169.677 903.863 Q173.681 903.863 176.019 901.756 Q178.357 899.65 178.357 896.039 Q178.357 892.428 176.019 890.321 Q173.681 888.215 169.677 888.215 Q167.802 888.215 165.927 888.631 Q164.075 889.048 162.13 889.928 L162.13 872.567 Z\" fill=\"#000000\" fill-rule=\"evenodd\" fill-opacity=\"1\" /><path clip-path=\"url(#clip280)\" d=\"M116.506 841.338 L124.144 841.338 L124.144 814.972 L115.834 816.639 L115.834 812.379 L124.098 810.713 L128.774 810.713 L128.774 841.338 L136.413 841.338 L136.413 845.273 L116.506 845.273 L116.506 841.338 Z\" fill=\"#000000\" fill-rule=\"evenodd\" fill-opacity=\"1\" /><path clip-path=\"url(#clip280)\" d=\"M145.857 839.393 L150.741 839.393 L150.741 845.273 L145.857 845.273 L145.857 839.393 Z\" fill=\"#000000\" fill-rule=\"evenodd\" fill-opacity=\"1\" /><path clip-path=\"url(#clip280)\" d=\"M171.505 826.129 Q168.357 826.129 166.505 828.282 Q164.677 830.435 164.677 834.185 Q164.677 837.912 166.505 840.088 Q168.357 842.24 171.505 842.24 Q174.653 842.24 176.482 840.088 Q178.334 837.912 178.334 834.185 Q178.334 830.435 176.482 828.282 Q174.653 826.129 171.505 826.129 M180.788 811.477 L180.788 815.736 Q179.028 814.902 177.223 814.463 Q175.44 814.023 173.681 814.023 Q169.052 814.023 166.598 817.148 Q164.167 820.273 163.82 826.592 Q165.186 824.578 167.246 823.514 Q169.306 822.426 171.783 822.426 Q176.991 822.426 180.001 825.597 Q183.033 828.745 183.033 834.185 Q183.033 839.509 179.885 842.726 Q176.737 845.944 171.505 845.944 Q165.51 845.944 162.339 841.361 Q159.167 836.754 159.167 828.027 Q159.167 819.833 163.056 814.972 Q166.945 810.088 173.496 810.088 Q175.255 810.088 177.038 810.435 Q178.843 810.782 180.788 811.477 Z\" fill=\"#000000\" fill-rule=\"evenodd\" fill-opacity=\"1\" /><path clip-path=\"url(#clip280)\" d=\"M117.57 779.484 L125.209 779.484 L125.209 753.118 L116.899 754.785 L116.899 750.526 L125.163 748.859 L129.839 748.859 L129.839 779.484 L137.478 779.484 L137.478 783.419 L117.57 783.419 L117.57 779.484 Z\" fill=\"#000000\" fill-rule=\"evenodd\" fill-opacity=\"1\" /><path clip-path=\"url(#clip280)\" d=\"M146.922 777.539 L151.806 777.539 L151.806 783.419 L146.922 783.419 L146.922 777.539 Z\" fill=\"#000000\" fill-rule=\"evenodd\" fill-opacity=\"1\" /><path clip-path=\"url(#clip280)\" d=\"M160.811 748.859 L183.033 748.859 L183.033 750.85 L170.487 783.419 L165.602 783.419 L177.408 752.794 L160.811 752.794 L160.811 748.859 Z\" fill=\"#000000\" fill-rule=\"evenodd\" fill-opacity=\"1\" /><path clip-path=\"url(#clip280)\" d=\"M116.76 717.63 L124.399 717.63 L124.399 691.264 L116.089 692.931 L116.089 688.672 L124.353 687.005 L129.029 687.005 L129.029 717.63 L136.667 717.63 L136.667 721.565 L116.76 721.565 L116.76 717.63 Z\" fill=\"#000000\" fill-rule=\"evenodd\" fill-opacity=\"1\" /><path clip-path=\"url(#clip280)\" d=\"M146.112 715.685 L150.996 715.685 L150.996 721.565 L146.112 721.565 L146.112 715.685 Z\" fill=\"#000000\" fill-rule=\"evenodd\" fill-opacity=\"1\" /><path clip-path=\"url(#clip280)\" d=\"M171.181 705.153 Q167.848 705.153 165.927 706.936 Q164.028 708.718 164.028 711.843 Q164.028 714.968 165.927 716.75 Q167.848 718.533 171.181 718.533 Q174.514 718.533 176.436 716.75 Q178.357 714.945 178.357 711.843 Q178.357 708.718 176.436 706.936 Q174.538 705.153 171.181 705.153 M166.505 703.162 Q163.496 702.422 161.806 700.361 Q160.14 698.301 160.14 695.338 Q160.14 691.195 163.079 688.787 Q166.042 686.38 171.181 686.38 Q176.343 686.38 179.283 688.787 Q182.223 691.195 182.223 695.338 Q182.223 698.301 180.533 700.361 Q178.866 702.422 175.88 703.162 Q179.26 703.949 181.135 706.241 Q183.033 708.533 183.033 711.843 Q183.033 716.866 179.954 719.551 Q176.899 722.236 171.181 722.236 Q165.464 722.236 162.385 719.551 Q159.329 716.866 159.329 711.843 Q159.329 708.533 161.227 706.241 Q163.126 703.949 166.505 703.162 M164.792 695.778 Q164.792 698.463 166.459 699.968 Q168.149 701.473 171.181 701.473 Q174.19 701.473 175.88 699.968 Q177.593 698.463 177.593 695.778 Q177.593 693.093 175.88 691.588 Q174.19 690.084 171.181 690.084 Q168.149 690.084 166.459 691.588 Q164.792 693.093 164.792 695.778 Z\" fill=\"#000000\" fill-rule=\"evenodd\" fill-opacity=\"1\" /><path clip-path=\"url(#clip280)\" d=\"M116.853 655.776 L124.492 655.776 L124.492 629.41 L116.181 631.077 L116.181 626.818 L124.445 625.151 L129.121 625.151 L129.121 655.776 L136.76 655.776 L136.76 659.711 L116.853 659.711 L116.853 655.776 Z\" fill=\"#000000\" fill-rule=\"evenodd\" fill-opacity=\"1\" /><path clip-path=\"url(#clip280)\" d=\"M146.204 653.832 L151.089 653.832 L151.089 659.711 L146.204 659.711 L146.204 653.832 Z\" fill=\"#000000\" fill-rule=\"evenodd\" fill-opacity=\"1\" /><path clip-path=\"url(#clip280)\" d=\"M161.413 658.994 L161.413 654.734 Q163.172 655.568 164.977 656.008 Q166.783 656.447 168.519 656.447 Q173.149 656.447 175.579 653.346 Q178.033 650.221 178.38 643.878 Q177.038 645.869 174.977 646.934 Q172.917 647.998 170.417 647.998 Q165.232 647.998 162.2 644.873 Q159.19 641.725 159.19 636.285 Q159.19 630.961 162.339 627.744 Q165.487 624.526 170.718 624.526 Q176.714 624.526 179.862 629.133 Q183.033 633.716 183.033 642.466 Q183.033 650.637 179.144 655.521 Q175.278 660.383 168.727 660.383 Q166.968 660.383 165.163 660.035 Q163.357 659.688 161.413 658.994 M170.718 644.341 Q173.866 644.341 175.695 642.188 Q177.547 640.035 177.547 636.285 Q177.547 632.559 175.695 630.406 Q173.866 628.23 170.718 628.23 Q167.57 628.23 165.718 630.406 Q163.89 632.559 163.89 636.285 Q163.89 640.035 165.718 642.188 Q167.57 644.341 170.718 644.341 Z\" fill=\"#000000\" fill-rule=\"evenodd\" fill-opacity=\"1\" /><path clip-path=\"url(#clip280)\" d=\"M119.885 593.922 L136.204 593.922 L136.204 597.857 L114.26 597.857 L114.26 593.922 Q116.922 591.168 121.505 586.538 Q126.112 581.885 127.292 580.543 Q129.538 578.02 130.417 576.283 Q131.32 574.524 131.32 572.834 Q131.32 570.08 129.376 568.344 Q127.455 566.608 124.353 566.608 Q122.154 566.608 119.7 567.371 Q117.269 568.135 114.492 569.686 L114.492 564.964 Q117.316 563.83 119.769 563.251 Q122.223 562.672 124.26 562.672 Q129.63 562.672 132.825 565.358 Q136.019 568.043 136.019 572.533 Q136.019 574.663 135.209 576.584 Q134.422 578.483 132.316 581.075 Q131.737 581.746 128.635 584.964 Q125.533 588.158 119.885 593.922 Z\" fill=\"#000000\" fill-rule=\"evenodd\" fill-opacity=\"1\" /><path clip-path=\"url(#clip280)\" d=\"M146.019 591.978 L150.903 591.978 L150.903 597.857 L146.019 597.857 L146.019 591.978 Z\" fill=\"#000000\" fill-rule=\"evenodd\" fill-opacity=\"1\" /><path clip-path=\"url(#clip280)\" d=\"M171.089 566.376 Q167.477 566.376 165.649 569.941 Q163.843 573.483 163.843 580.612 Q163.843 587.719 165.649 591.283 Q167.477 594.825 171.089 594.825 Q174.723 594.825 176.528 591.283 Q178.357 587.719 178.357 580.612 Q178.357 573.483 176.528 569.941 Q174.723 566.376 171.089 566.376 M171.089 562.672 Q176.899 562.672 179.954 567.279 Q183.033 571.862 183.033 580.612 Q183.033 589.339 179.954 593.945 Q176.899 598.529 171.089 598.529 Q165.278 598.529 162.2 593.945 Q159.144 589.339 159.144 580.612 Q159.144 571.862 162.2 567.279 Q165.278 562.672 171.089 562.672 Z\" fill=\"#000000\" fill-rule=\"evenodd\" fill-opacity=\"1\" /><path clip-path=\"url(#clip280)\" d=\"M49.9359 770.573 L28.3562 770.573 L28.3562 764.717 L49.7131 764.717 Q54.7739 764.717 57.3202 762.744 Q59.8346 760.77 59.8346 756.824 Q59.8346 752.081 56.8109 749.344 Q53.7872 746.575 48.5673 746.575 L28.3562 746.575 L28.3562 740.718 L64.0042 740.718 L64.0042 746.575 L58.5296 746.575 Q61.7762 748.707 63.3676 751.54 Q64.9272 754.341 64.9272 758.065 Q64.9272 764.208 61.1078 767.391 Q57.2883 770.573 49.9359 770.573 M27.4968 755.837 L27.4968 755.837 Z\" fill=\"#000000\" fill-rule=\"evenodd\" fill-opacity=\"1\" /><path clip-path=\"url(#clip280)\" d=\"M58.5933 722.29 L58.5933 699.85 L64.0042 699.85 L64.0042 730.024 L58.5933 730.024 Q54.8057 726.364 48.44 720.062 Q42.0425 713.728 40.1964 712.104 Q36.7271 709.017 34.34 707.808 Q31.921 706.566 29.5975 706.566 Q25.8099 706.566 23.4228 709.24 Q21.0356 711.882 21.0356 716.147 Q21.0356 719.17 22.086 722.544 Q23.1363 725.886 25.2688 729.706 L18.7758 729.706 Q17.2162 725.823 16.4205 722.449 Q15.6248 719.075 15.6248 716.274 Q15.6248 708.89 19.3169 704.497 Q23.009 700.105 29.1837 700.105 Q32.112 700.105 34.7537 701.219 Q37.3637 702.301 40.9285 705.198 Q41.8515 705.993 46.2757 710.258 Q50.668 714.523 58.5933 722.29 Z\" fill=\"#000000\" fill-rule=\"evenodd\" fill-opacity=\"1\" /><line clip-path=\"url(#clip283)\" x1=\"279.421\" y1=\"815.415\" x2=\"279.421\" y2=\"799.415\" style=\"stroke:#6b9e32; stroke-width:3.2; stroke-opacity:1\"/>\n",
       "<line clip-path=\"url(#clip283)\" x1=\"279.421\" y1=\"815.415\" x2=\"263.421\" y2=\"815.415\" style=\"stroke:#6b9e32; stroke-width:3.2; stroke-opacity:1\"/>\n",
       "<line clip-path=\"url(#clip283)\" x1=\"279.421\" y1=\"815.415\" x2=\"279.421\" y2=\"831.415\" style=\"stroke:#6b9e32; stroke-width:3.2; stroke-opacity:1\"/>\n",
       "<line clip-path=\"url(#clip283)\" x1=\"279.421\" y1=\"815.415\" x2=\"295.421\" y2=\"815.415\" style=\"stroke:#6b9e32; stroke-width:3.2; stroke-opacity:1\"/>\n",
       "<line clip-path=\"url(#clip283)\" x1=\"821.368\" y1=\"585.372\" x2=\"821.368\" y2=\"569.372\" style=\"stroke:#6b9e32; stroke-width:3.2; stroke-opacity:1\"/>\n",
       "<line clip-path=\"url(#clip283)\" x1=\"821.368\" y1=\"585.372\" x2=\"805.368\" y2=\"585.372\" style=\"stroke:#6b9e32; stroke-width:3.2; stroke-opacity:1\"/>\n",
       "<line clip-path=\"url(#clip283)\" x1=\"821.368\" y1=\"585.372\" x2=\"821.368\" y2=\"601.372\" style=\"stroke:#6b9e32; stroke-width:3.2; stroke-opacity:1\"/>\n",
       "<line clip-path=\"url(#clip283)\" x1=\"821.368\" y1=\"585.372\" x2=\"837.368\" y2=\"585.372\" style=\"stroke:#6b9e32; stroke-width:3.2; stroke-opacity:1\"/>\n",
       "<line clip-path=\"url(#clip283)\" x1=\"898.789\" y1=\"591.803\" x2=\"898.789\" y2=\"575.803\" style=\"stroke:#6b9e32; stroke-width:3.2; stroke-opacity:1\"/>\n",
       "<line clip-path=\"url(#clip283)\" x1=\"898.789\" y1=\"591.803\" x2=\"882.789\" y2=\"591.803\" style=\"stroke:#6b9e32; stroke-width:3.2; stroke-opacity:1\"/>\n",
       "<line clip-path=\"url(#clip283)\" x1=\"898.789\" y1=\"591.803\" x2=\"898.789\" y2=\"607.803\" style=\"stroke:#6b9e32; stroke-width:3.2; stroke-opacity:1\"/>\n",
       "<line clip-path=\"url(#clip283)\" x1=\"898.789\" y1=\"591.803\" x2=\"914.789\" y2=\"591.803\" style=\"stroke:#6b9e32; stroke-width:3.2; stroke-opacity:1\"/>\n",
       "<polyline clip-path=\"url(#clip283)\" style=\"stroke:#ff0000; stroke-linecap:round; stroke-linejoin:round; stroke-width:20; stroke-opacity:0.3; fill:none\" points=\"279.421,815.415 279.421,559.203 356.842,559.203 356.842,396.775 434.263,396.775 434.263,319.094 511.684,319.094 511.684,401.555 589.105,401.555 589.105,493.579 666.526,493.579 666.526,553.542 743.947,553.542 743.947,585.372 821.368,585.372 821.368,591.803 898.789,591.803 898.789,573.12 976.21,573.12 976.21,526.346 1053.63,526.346 1053.63,521.129 1131.05,521.129 1131.05,544.739 1208.47,544.739 1208.47,550.988 1285.89,550.988 1285.89,549.648 1363.32,549.648 1363.32,539.883 1440.74,539.883 1440.74,545.981 1518.16,545.981 1518.16,544.741 1595.58,544.741 1595.58,544.834 1673,544.834 1673,544.815 1750.42,544.815 1827.84,544.815 1905.26,544.815 1982.68,544.815 2060.1,544.815 2137.53,544.815 2214.95,544.815 2292.37,544.815 \"/>\n",
       "<circle clip-path=\"url(#clip283)\" cx=\"279.421\" cy=\"815.415\" r=\"14.4\" fill=\"#009af9\" fill-rule=\"evenodd\" fill-opacity=\"1\" stroke=\"#000000\" stroke-opacity=\"1\" stroke-width=\"3.2\"/>\n",
       "<circle clip-path=\"url(#clip283)\" cx=\"821.368\" cy=\"585.374\" r=\"14.4\" fill=\"#009af9\" fill-rule=\"evenodd\" fill-opacity=\"1\" stroke=\"#000000\" stroke-opacity=\"1\" stroke-width=\"3.2\"/>\n",
       "<circle clip-path=\"url(#clip283)\" cx=\"898.789\" cy=\"591.806\" r=\"14.4\" fill=\"#009af9\" fill-rule=\"evenodd\" fill-opacity=\"1\" stroke=\"#000000\" stroke-opacity=\"1\" stroke-width=\"3.2\"/>\n",
       "<polyline clip-path=\"url(#clip283)\" style=\"stroke:#80007f; stroke-linecap:round; stroke-linejoin:round; stroke-width:20; stroke-opacity:0.3; fill:none\" points=\"279.421,815.415 279.421,559.203 356.842,559.203 356.842,396.775 434.263,396.775 434.263,319.093 511.684,319.093 511.684,401.553 589.105,401.553 589.105,493.579 666.526,493.579 666.526,553.543 743.947,553.543 743.947,585.374 821.368,585.374 821.368,591.806 898.789,591.806 898.789,573.122 976.21,573.122 976.21,526.346 1053.63,526.346 1053.63,521.106 1131.05,521.106 1131.05,544.751 1208.47,544.751 1208.47,551.01 1285.89,551.01 1285.89,549.656 1363.32,549.656 1363.32,539.802 1440.74,539.802 1440.74,546.097 1518.16,546.097 1518.16,544.649 1595.58,544.649 1595.58,544.876 1673,544.876 1673,544.814 1750.42,544.814 1827.84,544.814 1905.26,544.814 1982.68,544.814 2060.1,544.814 2137.53,544.814 2214.95,544.814 2292.37,544.814 \"/>\n",
       "<path clip-path=\"url(#clip283)\" d=\"M279.421 799.417 L263.421 815.417 L279.421 831.417 L295.421 815.417 L279.421 799.417 Z\" fill=\"#e26f46\" fill-rule=\"evenodd\" fill-opacity=\"1\" stroke=\"#000000\" stroke-opacity=\"1\" stroke-width=\"3.2\"/>\n",
       "<path clip-path=\"url(#clip283)\" d=\"M821.368 569.281 L805.368 585.281 L821.368 601.281 L837.368 585.281 L821.368 569.281 Z\" fill=\"#e26f46\" fill-rule=\"evenodd\" fill-opacity=\"1\" stroke=\"#000000\" stroke-opacity=\"1\" stroke-width=\"3.2\"/>\n",
       "<path clip-path=\"url(#clip283)\" d=\"M898.789 575.7 L882.789 591.7 L898.789 607.7 L914.789 591.7 L898.789 575.7 Z\" fill=\"#e26f46\" fill-rule=\"evenodd\" fill-opacity=\"1\" stroke=\"#000000\" stroke-opacity=\"1\" stroke-width=\"3.2\"/>\n",
       "<polyline clip-path=\"url(#clip283)\" style=\"stroke:#0000ff; stroke-linecap:round; stroke-linejoin:round; stroke-width:20; stroke-opacity:0.3; fill:none\" points=\"279.421,815.417 279.421,559.206 356.842,559.206 356.842,396.78 434.263,396.78 434.263,319.162 511.684,319.162 511.684,401.654 589.105,401.654 589.105,493.579 666.526,493.579 666.526,553.483 743.947,553.483 743.947,585.281 821.368,585.281 821.368,591.7 898.789,591.7 898.789,573.027 976.21,573.027 976.21,526.327 1053.63,526.327 1053.63,522.233 1131.05,522.233 1131.05,544.225 1208.47,544.225 1208.47,550.034 1285.89,550.034 1285.89,549.308 1363.32,549.308 1363.32,542.674 1440.74,542.674 1440.74,542.943 1518.16,542.943 1518.16,546.512 1595.58,546.512 1595.58,544.248 1673,544.248 1673,544.829 1750.42,544.829 1827.84,544.829 1905.26,544.829 1982.68,544.829 2060.1,544.829 2137.53,544.829 2214.95,544.829 2292.37,544.829 \"/>\n",
       "<path clip-path=\"url(#clip280)\" d=\"M219.033 1423.18 L2352.76 1423.18 L2352.76 1113.91 L219.033 1113.91  Z\" fill=\"#ffffff\" fill-rule=\"evenodd\" fill-opacity=\"1\"/>\n",
       "<defs>\n",
       "  <clipPath id=\"clip284\">\n",
       "    <rect x=\"219\" y=\"1113\" width=\"2135\" height=\"310\"/>\n",
       "  </clipPath>\n",
       "</defs>\n",
       "<polyline clip-path=\"url(#clip284)\" style=\"stroke:#000000; stroke-linecap:round; stroke-linejoin:round; stroke-width:8; stroke-opacity:0.1; fill:none\" points=\"589.105,1423.18 589.105,1113.91 \"/>\n",
       "<polyline clip-path=\"url(#clip284)\" style=\"stroke:#000000; stroke-linecap:round; stroke-linejoin:round; stroke-width:8; stroke-opacity:0.1; fill:none\" points=\"976.21,1423.18 976.21,1113.91 \"/>\n",
       "<polyline clip-path=\"url(#clip284)\" style=\"stroke:#000000; stroke-linecap:round; stroke-linejoin:round; stroke-width:8; stroke-opacity:0.1; fill:none\" points=\"1363.32,1423.18 1363.32,1113.91 \"/>\n",
       "<polyline clip-path=\"url(#clip284)\" style=\"stroke:#000000; stroke-linecap:round; stroke-linejoin:round; stroke-width:8; stroke-opacity:0.1; fill:none\" points=\"1750.42,1423.18 1750.42,1113.91 \"/>\n",
       "<polyline clip-path=\"url(#clip284)\" style=\"stroke:#000000; stroke-linecap:round; stroke-linejoin:round; stroke-width:8; stroke-opacity:0.1; fill:none\" points=\"2137.53,1423.18 2137.53,1113.91 \"/>\n",
       "<polyline clip-path=\"url(#clip280)\" style=\"stroke:#000000; stroke-linecap:round; stroke-linejoin:round; stroke-width:4; stroke-opacity:1; fill:none\" points=\"219.033,1423.18 2352.76,1423.18 \"/>\n",
       "<polyline clip-path=\"url(#clip280)\" style=\"stroke:#000000; stroke-linecap:round; stroke-linejoin:round; stroke-width:4; stroke-opacity:1; fill:none\" points=\"589.105,1423.18 589.105,1404.28 \"/>\n",
       "<polyline clip-path=\"url(#clip280)\" style=\"stroke:#000000; stroke-linecap:round; stroke-linejoin:round; stroke-width:4; stroke-opacity:1; fill:none\" points=\"976.21,1423.18 976.21,1404.28 \"/>\n",
       "<polyline clip-path=\"url(#clip280)\" style=\"stroke:#000000; stroke-linecap:round; stroke-linejoin:round; stroke-width:4; stroke-opacity:1; fill:none\" points=\"1363.32,1423.18 1363.32,1404.28 \"/>\n",
       "<polyline clip-path=\"url(#clip280)\" style=\"stroke:#000000; stroke-linecap:round; stroke-linejoin:round; stroke-width:4; stroke-opacity:1; fill:none\" points=\"1750.42,1423.18 1750.42,1404.28 \"/>\n",
       "<polyline clip-path=\"url(#clip280)\" style=\"stroke:#000000; stroke-linecap:round; stroke-linejoin:round; stroke-width:4; stroke-opacity:1; fill:none\" points=\"2137.53,1423.18 2137.53,1404.28 \"/>\n",
       "<path clip-path=\"url(#clip280)\" d=\"M579.383 1451.02 L597.74 1451.02 L597.74 1454.96 L583.666 1454.96 L583.666 1463.43 Q584.684 1463.08 585.703 1462.92 Q586.721 1462.73 587.74 1462.73 Q593.527 1462.73 596.906 1465.9 Q600.286 1469.08 600.286 1474.49 Q600.286 1480.07 596.814 1483.17 Q593.341 1486.25 587.022 1486.25 Q584.846 1486.25 582.578 1485.88 Q580.332 1485.51 577.925 1484.77 L577.925 1480.07 Q580.008 1481.2 582.23 1481.76 Q584.453 1482.32 586.929 1482.32 Q590.934 1482.32 593.272 1480.21 Q595.61 1478.1 595.61 1474.49 Q595.61 1470.88 593.272 1468.77 Q590.934 1466.67 586.929 1466.67 Q585.054 1466.67 583.179 1467.08 Q581.328 1467.5 579.383 1468.38 L579.383 1451.02 Z\" fill=\"#000000\" fill-rule=\"evenodd\" fill-opacity=\"1\" /><path clip-path=\"url(#clip280)\" d=\"M950.898 1481.64 L958.537 1481.64 L958.537 1455.28 L950.227 1456.95 L950.227 1452.69 L958.491 1451.02 L963.166 1451.02 L963.166 1481.64 L970.805 1481.64 L970.805 1485.58 L950.898 1485.58 L950.898 1481.64 Z\" fill=\"#000000\" fill-rule=\"evenodd\" fill-opacity=\"1\" /><path clip-path=\"url(#clip280)\" d=\"M990.25 1454.1 Q986.639 1454.1 984.81 1457.66 Q983.004 1461.2 983.004 1468.33 Q983.004 1475.44 984.81 1479.01 Q986.639 1482.55 990.25 1482.55 Q993.884 1482.55 995.689 1479.01 Q997.518 1475.44 997.518 1468.33 Q997.518 1461.2 995.689 1457.66 Q993.884 1454.1 990.25 1454.1 M990.25 1450.39 Q996.06 1450.39 999.115 1455 Q1002.19 1459.58 1002.19 1468.33 Q1002.19 1477.06 999.115 1481.67 Q996.06 1486.25 990.25 1486.25 Q984.44 1486.25 981.361 1481.67 Q978.305 1477.06 978.305 1468.33 Q978.305 1459.58 981.361 1455 Q984.44 1450.39 990.25 1450.39 Z\" fill=\"#000000\" fill-rule=\"evenodd\" fill-opacity=\"1\" /><path clip-path=\"url(#clip280)\" d=\"M1338.5 1481.64 L1346.14 1481.64 L1346.14 1455.28 L1337.83 1456.95 L1337.83 1452.69 L1346.09 1451.02 L1350.77 1451.02 L1350.77 1481.64 L1358.41 1481.64 L1358.41 1485.58 L1338.5 1485.58 L1338.5 1481.64 Z\" fill=\"#000000\" fill-rule=\"evenodd\" fill-opacity=\"1\" /><path clip-path=\"url(#clip280)\" d=\"M1367.9 1451.02 L1386.26 1451.02 L1386.26 1454.96 L1372.18 1454.96 L1372.18 1463.43 Q1373.2 1463.08 1374.22 1462.92 Q1375.24 1462.73 1376.26 1462.73 Q1382.04 1462.73 1385.42 1465.9 Q1388.8 1469.08 1388.8 1474.49 Q1388.8 1480.07 1385.33 1483.17 Q1381.86 1486.25 1375.54 1486.25 Q1373.36 1486.25 1371.09 1485.88 Q1368.85 1485.51 1366.44 1484.77 L1366.44 1480.07 Q1368.52 1481.2 1370.75 1481.76 Q1372.97 1482.32 1375.44 1482.32 Q1379.45 1482.32 1381.79 1480.21 Q1384.13 1478.1 1384.13 1474.49 Q1384.13 1470.88 1381.79 1468.77 Q1379.45 1466.67 1375.44 1466.67 Q1373.57 1466.67 1371.7 1467.08 Q1369.84 1467.5 1367.9 1468.38 L1367.9 1451.02 Z\" fill=\"#000000\" fill-rule=\"evenodd\" fill-opacity=\"1\" /><path clip-path=\"url(#clip280)\" d=\"M1729.19 1481.64 L1745.51 1481.64 L1745.51 1485.58 L1723.57 1485.58 L1723.57 1481.64 Q1726.23 1478.89 1730.81 1474.26 Q1735.42 1469.61 1736.6 1468.27 Q1738.85 1465.74 1739.73 1464.01 Q1740.63 1462.25 1740.63 1460.56 Q1740.63 1457.8 1738.68 1456.07 Q1736.76 1454.33 1733.66 1454.33 Q1731.46 1454.33 1729.01 1455.09 Q1726.58 1455.86 1723.8 1457.41 L1723.8 1452.69 Q1726.62 1451.55 1729.08 1450.97 Q1731.53 1450.39 1733.57 1450.39 Q1738.94 1450.39 1742.13 1453.08 Q1745.33 1455.77 1745.33 1460.26 Q1745.33 1462.39 1744.52 1464.31 Q1743.73 1466.2 1741.62 1468.8 Q1741.05 1469.47 1737.94 1472.69 Q1734.84 1475.88 1729.19 1481.64 Z\" fill=\"#000000\" fill-rule=\"evenodd\" fill-opacity=\"1\" /><path clip-path=\"url(#clip280)\" d=\"M1765.33 1454.1 Q1761.72 1454.1 1759.89 1457.66 Q1758.08 1461.2 1758.08 1468.33 Q1758.08 1475.44 1759.89 1479.01 Q1761.72 1482.55 1765.33 1482.55 Q1768.96 1482.55 1770.77 1479.01 Q1772.6 1475.44 1772.6 1468.33 Q1772.6 1461.2 1770.77 1457.66 Q1768.96 1454.1 1765.33 1454.1 M1765.33 1450.39 Q1771.14 1450.39 1774.19 1455 Q1777.27 1459.58 1777.27 1468.33 Q1777.27 1477.06 1774.19 1481.67 Q1771.14 1486.25 1765.33 1486.25 Q1759.52 1486.25 1756.44 1481.67 Q1753.38 1477.06 1753.38 1468.33 Q1753.38 1459.58 1756.44 1455 Q1759.52 1450.39 1765.33 1450.39 Z\" fill=\"#000000\" fill-rule=\"evenodd\" fill-opacity=\"1\" /><path clip-path=\"url(#clip280)\" d=\"M2116.8 1481.64 L2133.12 1481.64 L2133.12 1485.58 L2111.17 1485.58 L2111.17 1481.64 Q2113.83 1478.89 2118.42 1474.26 Q2123.02 1469.61 2124.2 1468.27 Q2126.45 1465.74 2127.33 1464.01 Q2128.23 1462.25 2128.23 1460.56 Q2128.23 1457.8 2126.29 1456.07 Q2124.37 1454.33 2121.26 1454.33 Q2119.06 1454.33 2116.61 1455.09 Q2114.18 1455.86 2111.4 1457.41 L2111.4 1452.69 Q2114.23 1451.55 2116.68 1450.97 Q2119.13 1450.39 2121.17 1450.39 Q2126.54 1450.39 2129.74 1453.08 Q2132.93 1455.77 2132.93 1460.26 Q2132.93 1462.39 2132.12 1464.31 Q2131.33 1466.2 2129.23 1468.8 Q2128.65 1469.47 2125.55 1472.69 Q2122.44 1475.88 2116.8 1481.64 Z\" fill=\"#000000\" fill-rule=\"evenodd\" fill-opacity=\"1\" /><path clip-path=\"url(#clip280)\" d=\"M2142.98 1451.02 L2161.33 1451.02 L2161.33 1454.96 L2147.26 1454.96 L2147.26 1463.43 Q2148.28 1463.08 2149.3 1462.92 Q2150.31 1462.73 2151.33 1462.73 Q2157.12 1462.73 2160.5 1465.9 Q2163.88 1469.08 2163.88 1474.49 Q2163.88 1480.07 2160.41 1483.17 Q2156.94 1486.25 2150.62 1486.25 Q2148.44 1486.25 2146.17 1485.88 Q2143.93 1485.51 2141.52 1484.77 L2141.52 1480.07 Q2143.6 1481.2 2145.82 1481.76 Q2148.05 1482.32 2150.52 1482.32 Q2154.53 1482.32 2156.87 1480.21 Q2159.2 1478.1 2159.2 1474.49 Q2159.2 1470.88 2156.87 1468.77 Q2154.53 1466.67 2150.52 1466.67 Q2148.65 1466.67 2146.77 1467.08 Q2144.92 1467.5 2142.98 1468.38 L2142.98 1451.02 Z\" fill=\"#000000\" fill-rule=\"evenodd\" fill-opacity=\"1\" /><path clip-path=\"url(#clip280)\" d=\"M1180.03 1522.27 L1180.03 1532.4 L1192.1 1532.4 L1192.1 1536.95 L1180.03 1536.95 L1180.03 1556.3 Q1180.03 1560.66 1181.21 1561.9 Q1182.42 1563.14 1186.08 1563.14 L1192.1 1563.14 L1192.1 1568.04 L1186.08 1568.04 Q1179.3 1568.04 1176.72 1565.53 Q1174.14 1562.98 1174.14 1556.3 L1174.14 1536.95 L1169.85 1536.95 L1169.85 1532.4 L1174.14 1532.4 L1174.14 1522.27 L1180.03 1522.27 Z\" fill=\"#000000\" fill-rule=\"evenodd\" fill-opacity=\"1\" /><path clip-path=\"url(#clip280)\" d=\"M1199.8 1532.4 L1205.65 1532.4 L1205.65 1568.04 L1199.8 1568.04 L1199.8 1532.4 M1199.8 1518.52 L1205.65 1518.52 L1205.65 1525.93 L1199.8 1525.93 L1199.8 1518.52 Z\" fill=\"#000000\" fill-rule=\"evenodd\" fill-opacity=\"1\" /><path clip-path=\"url(#clip280)\" d=\"M1245.66 1539.24 Q1247.86 1535.29 1250.91 1533.41 Q1253.97 1531.54 1258.11 1531.54 Q1263.68 1531.54 1266.7 1535.45 Q1269.73 1539.33 1269.73 1546.53 L1269.73 1568.04 L1263.84 1568.04 L1263.84 1546.72 Q1263.84 1541.59 1262.02 1539.11 Q1260.21 1536.63 1256.48 1536.63 Q1251.93 1536.63 1249.29 1539.65 Q1246.65 1542.68 1246.65 1547.9 L1246.65 1568.04 L1240.76 1568.04 L1240.76 1546.72 Q1240.76 1541.56 1238.95 1539.11 Q1237.13 1536.63 1233.35 1536.63 Q1228.86 1536.63 1226.22 1539.68 Q1223.57 1542.71 1223.57 1547.9 L1223.57 1568.04 L1217.69 1568.04 L1217.69 1532.4 L1223.57 1532.4 L1223.57 1537.93 Q1225.58 1534.66 1228.38 1533.1 Q1231.18 1531.54 1235.03 1531.54 Q1238.92 1531.54 1241.62 1533.51 Q1244.36 1535.48 1245.66 1539.24 Z\" fill=\"#000000\" fill-rule=\"evenodd\" fill-opacity=\"1\" /><path clip-path=\"url(#clip280)\" d=\"M1311.9 1548.76 L1311.9 1551.62 L1284.97 1551.62 Q1285.35 1557.67 1288.6 1560.85 Q1291.88 1564 1297.7 1564 Q1301.08 1564 1304.23 1563.17 Q1307.41 1562.35 1310.53 1560.69 L1310.53 1566.23 Q1307.38 1567.57 1304.07 1568.27 Q1300.76 1568.97 1297.35 1568.97 Q1288.82 1568.97 1283.83 1564 Q1278.86 1559.04 1278.86 1550.57 Q1278.86 1541.82 1283.57 1536.69 Q1288.31 1531.54 1296.33 1531.54 Q1303.53 1531.54 1307.7 1536.18 Q1311.9 1540.8 1311.9 1548.76 M1306.04 1547.04 Q1305.98 1542.23 1303.34 1539.37 Q1300.73 1536.5 1296.4 1536.5 Q1291.5 1536.5 1288.54 1539.27 Q1285.61 1542.04 1285.16 1547.07 L1306.04 1547.04 Z\" fill=\"#000000\" fill-rule=\"evenodd\" fill-opacity=\"1\" /><path clip-path=\"url(#clip280)\" d=\"M1320.97 1518.52 L1334.46 1518.52 L1334.46 1523.07 L1326.83 1523.07 L1326.83 1572.09 L1334.46 1572.09 L1334.46 1576.64 L1320.97 1576.64 L1320.97 1518.52 Z\" fill=\"#000000\" fill-rule=\"evenodd\" fill-opacity=\"1\" /><path clip-path=\"url(#clip280)\" d=\"M1376.57 1546.53 L1376.57 1568.04 L1370.72 1568.04 L1370.72 1546.72 Q1370.72 1541.66 1368.74 1539.14 Q1366.77 1536.63 1362.82 1536.63 Q1358.08 1536.63 1355.34 1539.65 Q1352.61 1542.68 1352.61 1547.9 L1352.61 1568.04 L1346.72 1568.04 L1346.72 1518.52 L1352.61 1518.52 L1352.61 1537.93 Q1354.71 1534.72 1357.54 1533.13 Q1360.41 1531.54 1364.13 1531.54 Q1370.27 1531.54 1373.42 1535.36 Q1376.57 1539.14 1376.57 1546.53 Z\" fill=\"#000000\" fill-rule=\"evenodd\" fill-opacity=\"1\" /><path clip-path=\"url(#clip280)\" d=\"M1401.94 1518.52 L1401.94 1576.64 L1388.45 1576.64 L1388.45 1572.09 L1396.05 1572.09 L1396.05 1523.07 L1388.45 1523.07 L1388.45 1518.52 L1401.94 1518.52 Z\" fill=\"#000000\" fill-rule=\"evenodd\" fill-opacity=\"1\" /><polyline clip-path=\"url(#clip284)\" style=\"stroke:#000000; stroke-linecap:round; stroke-linejoin:round; stroke-width:8; stroke-opacity:0.1; fill:none\" points=\"219.033,1423.18 2352.76,1423.18 \"/>\n",
       "<polyline clip-path=\"url(#clip284)\" style=\"stroke:#000000; stroke-linecap:round; stroke-linejoin:round; stroke-width:8; stroke-opacity:0.1; fill:none\" points=\"219.033,1361.33 2352.76,1361.33 \"/>\n",
       "<polyline clip-path=\"url(#clip284)\" style=\"stroke:#000000; stroke-linecap:round; stroke-linejoin:round; stroke-width:8; stroke-opacity:0.1; fill:none\" points=\"219.033,1299.47 2352.76,1299.47 \"/>\n",
       "<polyline clip-path=\"url(#clip284)\" style=\"stroke:#000000; stroke-linecap:round; stroke-linejoin:round; stroke-width:8; stroke-opacity:0.1; fill:none\" points=\"219.033,1237.62 2352.76,1237.62 \"/>\n",
       "<polyline clip-path=\"url(#clip284)\" style=\"stroke:#000000; stroke-linecap:round; stroke-linejoin:round; stroke-width:8; stroke-opacity:0.1; fill:none\" points=\"219.033,1175.76 2352.76,1175.76 \"/>\n",
       "<polyline clip-path=\"url(#clip284)\" style=\"stroke:#000000; stroke-linecap:round; stroke-linejoin:round; stroke-width:8; stroke-opacity:0.1; fill:none\" points=\"219.033,1113.91 2352.76,1113.91 \"/>\n",
       "<polyline clip-path=\"url(#clip280)\" style=\"stroke:#000000; stroke-linecap:round; stroke-linejoin:round; stroke-width:4; stroke-opacity:1; fill:none\" points=\"219.033,1423.18 219.033,1113.91 \"/>\n",
       "<polyline clip-path=\"url(#clip280)\" style=\"stroke:#000000; stroke-linecap:round; stroke-linejoin:round; stroke-width:4; stroke-opacity:1; fill:none\" points=\"219.033,1423.18 237.931,1423.18 \"/>\n",
       "<polyline clip-path=\"url(#clip280)\" style=\"stroke:#000000; stroke-linecap:round; stroke-linejoin:round; stroke-width:4; stroke-opacity:1; fill:none\" points=\"219.033,1361.33 237.931,1361.33 \"/>\n",
       "<polyline clip-path=\"url(#clip280)\" style=\"stroke:#000000; stroke-linecap:round; stroke-linejoin:round; stroke-width:4; stroke-opacity:1; fill:none\" points=\"219.033,1299.47 237.931,1299.47 \"/>\n",
       "<polyline clip-path=\"url(#clip280)\" style=\"stroke:#000000; stroke-linecap:round; stroke-linejoin:round; stroke-width:4; stroke-opacity:1; fill:none\" points=\"219.033,1237.62 237.931,1237.62 \"/>\n",
       "<polyline clip-path=\"url(#clip280)\" style=\"stroke:#000000; stroke-linecap:round; stroke-linejoin:round; stroke-width:4; stroke-opacity:1; fill:none\" points=\"219.033,1175.76 237.931,1175.76 \"/>\n",
       "<polyline clip-path=\"url(#clip280)\" style=\"stroke:#000000; stroke-linecap:round; stroke-linejoin:round; stroke-width:4; stroke-opacity:1; fill:none\" points=\"219.033,1113.91 237.931,1113.91 \"/>\n",
       "<path clip-path=\"url(#clip280)\" d=\"M117.663 1436.52 L125.302 1436.52 L125.302 1410.16 L116.992 1411.83 L116.992 1407.57 L125.255 1405.9 L129.931 1405.9 L129.931 1436.52 L137.57 1436.52 L137.57 1440.46 L117.663 1440.46 L117.663 1436.52 Z\" fill=\"#000000\" fill-rule=\"evenodd\" fill-opacity=\"1\" /><path clip-path=\"url(#clip280)\" d=\"M147.015 1434.58 L151.899 1434.58 L151.899 1440.46 L147.015 1440.46 L147.015 1434.58 Z\" fill=\"#000000\" fill-rule=\"evenodd\" fill-opacity=\"1\" /><path clip-path=\"url(#clip280)\" d=\"M162.13 1405.9 L180.487 1405.9 L180.487 1409.84 L166.413 1409.84 L166.413 1418.31 Q167.431 1417.96 168.45 1417.8 Q169.468 1417.61 170.487 1417.61 Q176.274 1417.61 179.653 1420.78 Q183.033 1423.96 183.033 1429.37 Q183.033 1434.95 179.561 1438.05 Q176.089 1441.13 169.769 1441.13 Q167.593 1441.13 165.325 1440.76 Q163.079 1440.39 160.672 1439.65 L160.672 1434.95 Q162.755 1436.08 164.977 1436.64 Q167.2 1437.2 169.677 1437.2 Q173.681 1437.2 176.019 1435.09 Q178.357 1432.98 178.357 1429.37 Q178.357 1425.76 176.019 1423.65 Q173.681 1421.55 169.677 1421.55 Q167.802 1421.55 165.927 1421.96 Q164.075 1422.38 162.13 1423.26 L162.13 1405.9 Z\" fill=\"#000000\" fill-rule=\"evenodd\" fill-opacity=\"1\" /><path clip-path=\"url(#clip280)\" d=\"M116.506 1374.67 L124.144 1374.67 L124.144 1348.31 L115.834 1349.97 L115.834 1345.71 L124.098 1344.05 L128.774 1344.05 L128.774 1374.67 L136.413 1374.67 L136.413 1378.61 L116.506 1378.61 L116.506 1374.67 Z\" fill=\"#000000\" fill-rule=\"evenodd\" fill-opacity=\"1\" /><path clip-path=\"url(#clip280)\" d=\"M145.857 1372.73 L150.741 1372.73 L150.741 1378.61 L145.857 1378.61 L145.857 1372.73 Z\" fill=\"#000000\" fill-rule=\"evenodd\" fill-opacity=\"1\" /><path clip-path=\"url(#clip280)\" d=\"M171.505 1359.46 Q168.357 1359.46 166.505 1361.62 Q164.677 1363.77 164.677 1367.52 Q164.677 1371.24 166.505 1373.42 Q168.357 1375.57 171.505 1375.57 Q174.653 1375.57 176.482 1373.42 Q178.334 1371.24 178.334 1367.52 Q178.334 1363.77 176.482 1361.62 Q174.653 1359.46 171.505 1359.46 M180.788 1344.81 L180.788 1349.07 Q179.028 1348.24 177.223 1347.8 Q175.44 1347.36 173.681 1347.36 Q169.052 1347.36 166.598 1350.48 Q164.167 1353.61 163.82 1359.93 Q165.186 1357.91 167.246 1356.85 Q169.306 1355.76 171.783 1355.76 Q176.991 1355.76 180.001 1358.93 Q183.033 1362.08 183.033 1367.52 Q183.033 1372.84 179.885 1376.06 Q176.737 1379.28 171.505 1379.28 Q165.51 1379.28 162.339 1374.69 Q159.167 1370.09 159.167 1361.36 Q159.167 1353.17 163.056 1348.31 Q166.945 1343.42 173.496 1343.42 Q175.255 1343.42 177.038 1343.77 Q178.843 1344.12 180.788 1344.81 Z\" fill=\"#000000\" fill-rule=\"evenodd\" fill-opacity=\"1\" /><path clip-path=\"url(#clip280)\" d=\"M117.57 1312.82 L125.209 1312.82 L125.209 1286.45 L116.899 1288.12 L116.899 1283.86 L125.163 1282.19 L129.839 1282.19 L129.839 1312.82 L137.478 1312.82 L137.478 1316.75 L117.57 1316.75 L117.57 1312.82 Z\" fill=\"#000000\" fill-rule=\"evenodd\" fill-opacity=\"1\" /><path clip-path=\"url(#clip280)\" d=\"M146.922 1310.87 L151.806 1310.87 L151.806 1316.75 L146.922 1316.75 L146.922 1310.87 Z\" fill=\"#000000\" fill-rule=\"evenodd\" fill-opacity=\"1\" /><path clip-path=\"url(#clip280)\" d=\"M160.811 1282.19 L183.033 1282.19 L183.033 1284.18 L170.487 1316.75 L165.602 1316.75 L177.408 1286.13 L160.811 1286.13 L160.811 1282.19 Z\" fill=\"#000000\" fill-rule=\"evenodd\" fill-opacity=\"1\" /><path clip-path=\"url(#clip280)\" d=\"M116.76 1250.96 L124.399 1250.96 L124.399 1224.6 L116.089 1226.26 L116.089 1222.01 L124.353 1220.34 L129.029 1220.34 L129.029 1250.96 L136.667 1250.96 L136.667 1254.9 L116.76 1254.9 L116.76 1250.96 Z\" fill=\"#000000\" fill-rule=\"evenodd\" fill-opacity=\"1\" /><path clip-path=\"url(#clip280)\" d=\"M146.112 1249.02 L150.996 1249.02 L150.996 1254.9 L146.112 1254.9 L146.112 1249.02 Z\" fill=\"#000000\" fill-rule=\"evenodd\" fill-opacity=\"1\" /><path clip-path=\"url(#clip280)\" d=\"M171.181 1238.49 Q167.848 1238.49 165.927 1240.27 Q164.028 1242.05 164.028 1245.18 Q164.028 1248.3 165.927 1250.08 Q167.848 1251.87 171.181 1251.87 Q174.514 1251.87 176.436 1250.08 Q178.357 1248.28 178.357 1245.18 Q178.357 1242.05 176.436 1240.27 Q174.538 1238.49 171.181 1238.49 M166.505 1236.5 Q163.496 1235.75 161.806 1233.69 Q160.14 1231.63 160.14 1228.67 Q160.14 1224.53 163.079 1222.12 Q166.042 1219.71 171.181 1219.71 Q176.343 1219.71 179.283 1222.12 Q182.223 1224.53 182.223 1228.67 Q182.223 1231.63 180.533 1233.69 Q178.866 1235.75 175.88 1236.5 Q179.26 1237.28 181.135 1239.57 Q183.033 1241.87 183.033 1245.18 Q183.033 1250.2 179.954 1252.88 Q176.899 1255.57 171.181 1255.57 Q165.464 1255.57 162.385 1252.88 Q159.329 1250.2 159.329 1245.18 Q159.329 1241.87 161.227 1239.57 Q163.126 1237.28 166.505 1236.5 M164.792 1229.11 Q164.792 1231.8 166.459 1233.3 Q168.149 1234.81 171.181 1234.81 Q174.19 1234.81 175.88 1233.3 Q177.593 1231.8 177.593 1229.11 Q177.593 1226.43 175.88 1224.92 Q174.19 1223.42 171.181 1223.42 Q168.149 1223.42 166.459 1224.92 Q164.792 1226.43 164.792 1229.11 Z\" fill=\"#000000\" fill-rule=\"evenodd\" fill-opacity=\"1\" /><path clip-path=\"url(#clip280)\" d=\"M116.853 1189.11 L124.492 1189.11 L124.492 1162.74 L116.181 1164.41 L116.181 1160.15 L124.445 1158.48 L129.121 1158.48 L129.121 1189.11 L136.76 1189.11 L136.76 1193.04 L116.853 1193.04 L116.853 1189.11 Z\" fill=\"#000000\" fill-rule=\"evenodd\" fill-opacity=\"1\" /><path clip-path=\"url(#clip280)\" d=\"M146.204 1187.16 L151.089 1187.16 L151.089 1193.04 L146.204 1193.04 L146.204 1187.16 Z\" fill=\"#000000\" fill-rule=\"evenodd\" fill-opacity=\"1\" /><path clip-path=\"url(#clip280)\" d=\"M161.413 1192.33 L161.413 1188.07 Q163.172 1188.9 164.977 1189.34 Q166.783 1189.78 168.519 1189.78 Q173.149 1189.78 175.579 1186.68 Q178.033 1183.55 178.38 1177.21 Q177.038 1179.2 174.977 1180.27 Q172.917 1181.33 170.417 1181.33 Q165.232 1181.33 162.2 1178.21 Q159.19 1175.06 159.19 1169.62 Q159.19 1164.29 162.339 1161.08 Q165.487 1157.86 170.718 1157.86 Q176.714 1157.86 179.862 1162.47 Q183.033 1167.05 183.033 1175.8 Q183.033 1183.97 179.144 1188.85 Q175.278 1193.72 168.727 1193.72 Q166.968 1193.72 165.163 1193.37 Q163.357 1193.02 161.413 1192.33 M170.718 1177.67 Q173.866 1177.67 175.695 1175.52 Q177.547 1173.37 177.547 1169.62 Q177.547 1165.89 175.695 1163.74 Q173.866 1161.56 170.718 1161.56 Q167.57 1161.56 165.718 1163.74 Q163.89 1165.89 163.89 1169.62 Q163.89 1173.37 165.718 1175.52 Q167.57 1177.67 170.718 1177.67 Z\" fill=\"#000000\" fill-rule=\"evenodd\" fill-opacity=\"1\" /><path clip-path=\"url(#clip280)\" d=\"M119.885 1127.26 L136.204 1127.26 L136.204 1131.19 L114.26 1131.19 L114.26 1127.26 Q116.922 1124.5 121.505 1119.87 Q126.112 1115.22 127.292 1113.88 Q129.538 1111.35 130.417 1109.62 Q131.32 1107.86 131.32 1106.17 Q131.32 1103.41 129.376 1101.68 Q127.455 1099.94 124.353 1099.94 Q122.154 1099.94 119.7 1100.7 Q117.269 1101.47 114.492 1103.02 L114.492 1098.3 Q117.316 1097.16 119.769 1096.58 Q122.223 1096.01 124.26 1096.01 Q129.63 1096.01 132.825 1098.69 Q136.019 1101.38 136.019 1105.87 Q136.019 1108 135.209 1109.92 Q134.422 1111.82 132.316 1114.41 Q131.737 1115.08 128.635 1118.3 Q125.533 1121.49 119.885 1127.26 Z\" fill=\"#000000\" fill-rule=\"evenodd\" fill-opacity=\"1\" /><path clip-path=\"url(#clip280)\" d=\"M146.019 1125.31 L150.903 1125.31 L150.903 1131.19 L146.019 1131.19 L146.019 1125.31 Z\" fill=\"#000000\" fill-rule=\"evenodd\" fill-opacity=\"1\" /><path clip-path=\"url(#clip280)\" d=\"M171.089 1099.71 Q167.477 1099.71 165.649 1103.27 Q163.843 1106.82 163.843 1113.95 Q163.843 1121.05 165.649 1124.62 Q167.477 1128.16 171.089 1128.16 Q174.723 1128.16 176.528 1124.62 Q178.357 1121.05 178.357 1113.95 Q178.357 1106.82 176.528 1103.27 Q174.723 1099.71 171.089 1099.71 M171.089 1096.01 Q176.899 1096.01 179.954 1100.61 Q183.033 1105.2 183.033 1113.95 Q183.033 1122.67 179.954 1127.28 Q176.899 1131.86 171.089 1131.86 Q165.278 1131.86 162.2 1127.28 Q159.144 1122.67 159.144 1113.95 Q159.144 1105.2 162.2 1100.61 Q165.278 1096.01 171.089 1096.01 Z\" fill=\"#000000\" fill-rule=\"evenodd\" fill-opacity=\"1\" /><path clip-path=\"url(#clip280)\" d=\"M49.9359 1304.56 L28.3562 1304.56 L28.3562 1298.7 L49.7131 1298.7 Q54.7739 1298.7 57.3202 1296.73 Q59.8346 1294.76 59.8346 1290.81 Q59.8346 1286.07 56.8109 1283.33 Q53.7872 1280.56 48.5673 1280.56 L28.3562 1280.56 L28.3562 1274.7 L64.0042 1274.7 L64.0042 1280.56 L58.5296 1280.56 Q61.7762 1282.69 63.3676 1285.53 Q64.9272 1288.33 64.9272 1292.05 Q64.9272 1298.19 61.1078 1301.38 Q57.2883 1304.56 49.9359 1304.56 M27.4968 1289.82 L27.4968 1289.82 Z\" fill=\"#000000\" fill-rule=\"evenodd\" fill-opacity=\"1\" /><path clip-path=\"url(#clip280)\" d=\"M38.3822 1242.33 Q39.3689 1237.72 42.4881 1235.14 Q45.6073 1232.53 50.1906 1232.53 Q57.2247 1232.53 61.0759 1237.37 Q64.9272 1242.21 64.9272 1251.12 Q64.9272 1254.11 64.3224 1257.29 Q63.7495 1260.44 62.5719 1263.82 L56.3653 1263.82 Q57.9249 1261.15 58.7206 1257.96 Q59.5163 1254.78 59.5163 1251.31 Q59.5163 1245.26 57.1292 1242.11 Q54.7421 1238.93 50.1906 1238.93 Q45.9892 1238.93 43.6339 1241.89 Q41.2468 1244.82 41.2468 1250.07 L41.2468 1255.61 L35.9632 1255.61 L35.9632 1249.81 Q35.9632 1245.07 34.0853 1242.56 Q32.1756 1240.04 28.6108 1240.04 Q24.9505 1240.04 23.009 1242.65 Q21.0356 1245.23 21.0356 1250.07 Q21.0356 1252.71 21.6086 1255.73 Q22.1815 1258.76 23.3909 1262.39 L17.6618 1262.39 Q16.6433 1258.73 16.134 1255.54 Q15.6248 1252.33 15.6248 1249.5 Q15.6248 1242.18 18.9668 1237.91 Q22.277 1233.65 27.9424 1233.65 Q31.8892 1233.65 34.6264 1235.91 Q37.3318 1238.16 38.3822 1242.33 Z\" fill=\"#000000\" fill-rule=\"evenodd\" fill-opacity=\"1\" /><line clip-path=\"url(#clip284)\" x1=\"279.421\" y1=\"1339.57\" x2=\"279.421\" y2=\"1323.57\" style=\"stroke:#6b9e32; stroke-width:3.2; stroke-opacity:1\"/>\n",
       "<line clip-path=\"url(#clip284)\" x1=\"279.421\" y1=\"1339.57\" x2=\"263.421\" y2=\"1339.57\" style=\"stroke:#6b9e32; stroke-width:3.2; stroke-opacity:1\"/>\n",
       "<line clip-path=\"url(#clip284)\" x1=\"279.421\" y1=\"1339.57\" x2=\"279.421\" y2=\"1355.57\" style=\"stroke:#6b9e32; stroke-width:3.2; stroke-opacity:1\"/>\n",
       "<line clip-path=\"url(#clip284)\" x1=\"279.421\" y1=\"1339.57\" x2=\"295.421\" y2=\"1339.57\" style=\"stroke:#6b9e32; stroke-width:3.2; stroke-opacity:1\"/>\n",
       "<line clip-path=\"url(#clip284)\" x1=\"743.947\" y1=\"1141.54\" x2=\"743.947\" y2=\"1125.54\" style=\"stroke:#6b9e32; stroke-width:3.2; stroke-opacity:1\"/>\n",
       "<line clip-path=\"url(#clip284)\" x1=\"743.947\" y1=\"1141.54\" x2=\"727.947\" y2=\"1141.54\" style=\"stroke:#6b9e32; stroke-width:3.2; stroke-opacity:1\"/>\n",
       "<line clip-path=\"url(#clip284)\" x1=\"743.947\" y1=\"1141.54\" x2=\"743.947\" y2=\"1157.54\" style=\"stroke:#6b9e32; stroke-width:3.2; stroke-opacity:1\"/>\n",
       "<line clip-path=\"url(#clip284)\" x1=\"743.947\" y1=\"1141.54\" x2=\"759.947\" y2=\"1141.54\" style=\"stroke:#6b9e32; stroke-width:3.2; stroke-opacity:1\"/>\n",
       "<line clip-path=\"url(#clip284)\" x1=\"821.368\" y1=\"1164.12\" x2=\"821.368\" y2=\"1148.12\" style=\"stroke:#6b9e32; stroke-width:3.2; stroke-opacity:1\"/>\n",
       "<line clip-path=\"url(#clip284)\" x1=\"821.368\" y1=\"1164.12\" x2=\"805.368\" y2=\"1164.12\" style=\"stroke:#6b9e32; stroke-width:3.2; stroke-opacity:1\"/>\n",
       "<line clip-path=\"url(#clip284)\" x1=\"821.368\" y1=\"1164.12\" x2=\"821.368\" y2=\"1180.12\" style=\"stroke:#6b9e32; stroke-width:3.2; stroke-opacity:1\"/>\n",
       "<line clip-path=\"url(#clip284)\" x1=\"821.368\" y1=\"1164.12\" x2=\"837.368\" y2=\"1164.12\" style=\"stroke:#6b9e32; stroke-width:3.2; stroke-opacity:1\"/>\n",
       "<line clip-path=\"url(#clip284)\" x1=\"898.789\" y1=\"1159.64\" x2=\"898.789\" y2=\"1143.64\" style=\"stroke:#6b9e32; stroke-width:3.2; stroke-opacity:1\"/>\n",
       "<line clip-path=\"url(#clip284)\" x1=\"898.789\" y1=\"1159.64\" x2=\"882.789\" y2=\"1159.64\" style=\"stroke:#6b9e32; stroke-width:3.2; stroke-opacity:1\"/>\n",
       "<line clip-path=\"url(#clip284)\" x1=\"898.789\" y1=\"1159.64\" x2=\"898.789\" y2=\"1175.64\" style=\"stroke:#6b9e32; stroke-width:3.2; stroke-opacity:1\"/>\n",
       "<line clip-path=\"url(#clip284)\" x1=\"898.789\" y1=\"1159.64\" x2=\"914.789\" y2=\"1159.64\" style=\"stroke:#6b9e32; stroke-width:3.2; stroke-opacity:1\"/>\n",
       "<line clip-path=\"url(#clip284)\" x1=\"976.21\" y1=\"1128.21\" x2=\"976.21\" y2=\"1112.21\" style=\"stroke:#6b9e32; stroke-width:3.2; stroke-opacity:1\"/>\n",
       "<line clip-path=\"url(#clip284)\" x1=\"976.21\" y1=\"1128.21\" x2=\"960.21\" y2=\"1128.21\" style=\"stroke:#6b9e32; stroke-width:3.2; stroke-opacity:1\"/>\n",
       "<line clip-path=\"url(#clip284)\" x1=\"976.21\" y1=\"1128.21\" x2=\"976.21\" y2=\"1144.21\" style=\"stroke:#6b9e32; stroke-width:3.2; stroke-opacity:1\"/>\n",
       "<line clip-path=\"url(#clip284)\" x1=\"976.21\" y1=\"1128.21\" x2=\"992.21\" y2=\"1128.21\" style=\"stroke:#6b9e32; stroke-width:3.2; stroke-opacity:1\"/>\n",
       "<line clip-path=\"url(#clip284)\" x1=\"1208.47\" y1=\"1117.43\" x2=\"1208.47\" y2=\"1101.43\" style=\"stroke:#6b9e32; stroke-width:3.2; stroke-opacity:1\"/>\n",
       "<line clip-path=\"url(#clip284)\" x1=\"1208.47\" y1=\"1117.43\" x2=\"1192.47\" y2=\"1117.43\" style=\"stroke:#6b9e32; stroke-width:3.2; stroke-opacity:1\"/>\n",
       "<line clip-path=\"url(#clip284)\" x1=\"1208.47\" y1=\"1117.43\" x2=\"1208.47\" y2=\"1133.43\" style=\"stroke:#6b9e32; stroke-width:3.2; stroke-opacity:1\"/>\n",
       "<line clip-path=\"url(#clip284)\" x1=\"1208.47\" y1=\"1117.43\" x2=\"1224.47\" y2=\"1117.43\" style=\"stroke:#6b9e32; stroke-width:3.2; stroke-opacity:1\"/>\n",
       "<line clip-path=\"url(#clip284)\" x1=\"1285.89\" y1=\"1120.23\" x2=\"1285.89\" y2=\"1104.23\" style=\"stroke:#6b9e32; stroke-width:3.2; stroke-opacity:1\"/>\n",
       "<line clip-path=\"url(#clip284)\" x1=\"1285.89\" y1=\"1120.23\" x2=\"1269.89\" y2=\"1120.23\" style=\"stroke:#6b9e32; stroke-width:3.2; stroke-opacity:1\"/>\n",
       "<line clip-path=\"url(#clip284)\" x1=\"1285.89\" y1=\"1120.23\" x2=\"1285.89\" y2=\"1136.23\" style=\"stroke:#6b9e32; stroke-width:3.2; stroke-opacity:1\"/>\n",
       "<line clip-path=\"url(#clip284)\" x1=\"1285.89\" y1=\"1120.23\" x2=\"1301.89\" y2=\"1120.23\" style=\"stroke:#6b9e32; stroke-width:3.2; stroke-opacity:1\"/>\n",
       "<line clip-path=\"url(#clip284)\" x1=\"1363.32\" y1=\"1115.32\" x2=\"1363.32\" y2=\"1099.32\" style=\"stroke:#6b9e32; stroke-width:3.2; stroke-opacity:1\"/>\n",
       "<line clip-path=\"url(#clip284)\" x1=\"1363.32\" y1=\"1115.32\" x2=\"1347.32\" y2=\"1115.32\" style=\"stroke:#6b9e32; stroke-width:3.2; stroke-opacity:1\"/>\n",
       "<line clip-path=\"url(#clip284)\" x1=\"1363.32\" y1=\"1115.32\" x2=\"1363.32\" y2=\"1131.32\" style=\"stroke:#6b9e32; stroke-width:3.2; stroke-opacity:1\"/>\n",
       "<line clip-path=\"url(#clip284)\" x1=\"1363.32\" y1=\"1115.32\" x2=\"1379.32\" y2=\"1115.32\" style=\"stroke:#6b9e32; stroke-width:3.2; stroke-opacity:1\"/>\n",
       "<line clip-path=\"url(#clip284)\" x1=\"1518.16\" y1=\"1118.43\" x2=\"1518.16\" y2=\"1102.43\" style=\"stroke:#6b9e32; stroke-width:3.2; stroke-opacity:1\"/>\n",
       "<line clip-path=\"url(#clip284)\" x1=\"1518.16\" y1=\"1118.43\" x2=\"1502.16\" y2=\"1118.43\" style=\"stroke:#6b9e32; stroke-width:3.2; stroke-opacity:1\"/>\n",
       "<line clip-path=\"url(#clip284)\" x1=\"1518.16\" y1=\"1118.43\" x2=\"1518.16\" y2=\"1134.43\" style=\"stroke:#6b9e32; stroke-width:3.2; stroke-opacity:1\"/>\n",
       "<line clip-path=\"url(#clip284)\" x1=\"1518.16\" y1=\"1118.43\" x2=\"1534.16\" y2=\"1118.43\" style=\"stroke:#6b9e32; stroke-width:3.2; stroke-opacity:1\"/>\n",
       "<line clip-path=\"url(#clip284)\" x1=\"1673\" y1=\"1114.36\" x2=\"1673\" y2=\"1098.36\" style=\"stroke:#6b9e32; stroke-width:3.2; stroke-opacity:1\"/>\n",
       "<line clip-path=\"url(#clip284)\" x1=\"1673\" y1=\"1114.36\" x2=\"1657\" y2=\"1114.36\" style=\"stroke:#6b9e32; stroke-width:3.2; stroke-opacity:1\"/>\n",
       "<line clip-path=\"url(#clip284)\" x1=\"1673\" y1=\"1114.36\" x2=\"1673\" y2=\"1130.36\" style=\"stroke:#6b9e32; stroke-width:3.2; stroke-opacity:1\"/>\n",
       "<line clip-path=\"url(#clip284)\" x1=\"1673\" y1=\"1114.36\" x2=\"1689\" y2=\"1114.36\" style=\"stroke:#6b9e32; stroke-width:3.2; stroke-opacity:1\"/>\n",
       "<polyline clip-path=\"url(#clip284)\" style=\"stroke:#ff0000; stroke-linecap:round; stroke-linejoin:round; stroke-width:20; stroke-opacity:0.3; fill:none\" points=\"279.421,1339.57 279.421,1077.73 356.842,1077.73 356.842,918.432 434.263,918.432 434.263,893.296 511.684,893.296 511.684,1006.69 589.105,1006.69 589.105,1089.74 666.526,1089.74 666.526,1141.54 743.947,1141.54 743.947,1164.12 821.368,1164.12 821.368,1159.64 898.789,1159.64 898.789,1128.21 976.21,1128.21 976.21,1068.88 1053.63,1068.88 1053.63,1107.41 1131.05,1107.41 1131.05,1117.43 1208.47,1117.43 1208.47,1120.23 1285.89,1120.23 1285.89,1115.32 1363.32,1115.32 1363.32,1106.87 1440.74,1106.87 1440.74,1118.43 1518.16,1118.43 1518.16,1111.07 1595.58,1111.07 1595.58,1114.36 1673,1114.36 1673,1113.52 1750.42,1113.52 1827.84,1113.52 1905.26,1113.52 1982.68,1113.52 2060.1,1113.52 2137.53,1113.52 2214.95,1113.52 2292.37,1113.52 \"/>\n",
       "<circle clip-path=\"url(#clip284)\" cx=\"279.421\" cy=\"1339.57\" r=\"14.4\" fill=\"#009af9\" fill-rule=\"evenodd\" fill-opacity=\"1\" stroke=\"#000000\" stroke-opacity=\"1\" stroke-width=\"3.2\"/>\n",
       "<circle clip-path=\"url(#clip284)\" cx=\"743.947\" cy=\"1141.54\" r=\"14.4\" fill=\"#009af9\" fill-rule=\"evenodd\" fill-opacity=\"1\" stroke=\"#000000\" stroke-opacity=\"1\" stroke-width=\"3.2\"/>\n",
       "<circle clip-path=\"url(#clip284)\" cx=\"821.368\" cy=\"1164.12\" r=\"14.4\" fill=\"#009af9\" fill-rule=\"evenodd\" fill-opacity=\"1\" stroke=\"#000000\" stroke-opacity=\"1\" stroke-width=\"3.2\"/>\n",
       "<circle clip-path=\"url(#clip284)\" cx=\"898.789\" cy=\"1159.65\" r=\"14.4\" fill=\"#009af9\" fill-rule=\"evenodd\" fill-opacity=\"1\" stroke=\"#000000\" stroke-opacity=\"1\" stroke-width=\"3.2\"/>\n",
       "<circle clip-path=\"url(#clip284)\" cx=\"976.21\" cy=\"1128.22\" r=\"14.4\" fill=\"#009af9\" fill-rule=\"evenodd\" fill-opacity=\"1\" stroke=\"#000000\" stroke-opacity=\"1\" stroke-width=\"3.2\"/>\n",
       "<circle clip-path=\"url(#clip284)\" cx=\"1208.47\" cy=\"1117.44\" r=\"14.4\" fill=\"#009af9\" fill-rule=\"evenodd\" fill-opacity=\"1\" stroke=\"#000000\" stroke-opacity=\"1\" stroke-width=\"3.2\"/>\n",
       "<circle clip-path=\"url(#clip284)\" cx=\"1285.89\" cy=\"1120.26\" r=\"14.4\" fill=\"#009af9\" fill-rule=\"evenodd\" fill-opacity=\"1\" stroke=\"#000000\" stroke-opacity=\"1\" stroke-width=\"3.2\"/>\n",
       "<circle clip-path=\"url(#clip284)\" cx=\"1363.32\" cy=\"1115.32\" r=\"14.4\" fill=\"#009af9\" fill-rule=\"evenodd\" fill-opacity=\"1\" stroke=\"#000000\" stroke-opacity=\"1\" stroke-width=\"3.2\"/>\n",
       "<circle clip-path=\"url(#clip284)\" cx=\"1518.16\" cy=\"1118.6\" r=\"14.4\" fill=\"#009af9\" fill-rule=\"evenodd\" fill-opacity=\"1\" stroke=\"#000000\" stroke-opacity=\"1\" stroke-width=\"3.2\"/>\n",
       "<circle clip-path=\"url(#clip284)\" cx=\"1673\" cy=\"1114.41\" r=\"14.4\" fill=\"#009af9\" fill-rule=\"evenodd\" fill-opacity=\"1\" stroke=\"#000000\" stroke-opacity=\"1\" stroke-width=\"3.2\"/>\n",
       "<polyline clip-path=\"url(#clip284)\" style=\"stroke:#80007f; stroke-linecap:round; stroke-linejoin:round; stroke-width:20; stroke-opacity:0.3; fill:none\" points=\"279.421,1339.57 279.421,1077.73 356.842,1077.73 356.842,918.432 434.263,918.432 434.263,893.29 511.684,893.29 511.684,1006.69 589.105,1006.69 589.105,1089.74 666.526,1089.74 666.526,1141.54 743.947,1141.54 743.947,1164.12 821.368,1164.12 821.368,1159.65 898.789,1159.65 898.789,1128.22 976.21,1128.22 976.21,1068.86 1053.63,1068.86 1053.63,1107.39 1131.05,1107.39 1131.05,1117.44 1208.47,1117.44 1208.47,1120.26 1285.89,1120.26 1285.89,1115.32 1363.32,1115.32 1363.32,1106.77 1440.74,1106.77 1440.74,1118.6 1518.16,1118.6 1518.16,1110.94 1595.58,1110.94 1595.58,1114.41 1673,1114.41 1673,1113.52 1750.42,1113.52 1827.84,1113.52 1905.26,1113.52 1982.68,1113.52 2060.1,1113.52 2137.53,1113.52 2214.95,1113.52 2292.37,1113.52 \"/>\n",
       "<path clip-path=\"url(#clip284)\" d=\"M279.421 1323.58 L263.421 1339.58 L279.421 1355.58 L295.421 1339.58 L279.421 1323.58 Z\" fill=\"#e26f46\" fill-rule=\"evenodd\" fill-opacity=\"1\" stroke=\"#000000\" stroke-opacity=\"1\" stroke-width=\"3.2\"/>\n",
       "<path clip-path=\"url(#clip284)\" d=\"M743.947 1125.45 L727.947 1141.45 L743.947 1157.45 L759.947 1141.45 L743.947 1125.45 Z\" fill=\"#e26f46\" fill-rule=\"evenodd\" fill-opacity=\"1\" stroke=\"#000000\" stroke-opacity=\"1\" stroke-width=\"3.2\"/>\n",
       "<path clip-path=\"url(#clip284)\" d=\"M821.368 1148 L805.368 1164 L821.368 1180 L837.368 1164 L821.368 1148 Z\" fill=\"#e26f46\" fill-rule=\"evenodd\" fill-opacity=\"1\" stroke=\"#000000\" stroke-opacity=\"1\" stroke-width=\"3.2\"/>\n",
       "<path clip-path=\"url(#clip284)\" d=\"M898.789 1143.52 L882.789 1159.52 L898.789 1175.52 L914.789 1159.52 L898.789 1143.52 Z\" fill=\"#e26f46\" fill-rule=\"evenodd\" fill-opacity=\"1\" stroke=\"#000000\" stroke-opacity=\"1\" stroke-width=\"3.2\"/>\n",
       "<path clip-path=\"url(#clip284)\" d=\"M976.21 1112.1 L960.21 1128.1 L976.21 1144.1 L992.21 1128.1 L976.21 1112.1 Z\" fill=\"#e26f46\" fill-rule=\"evenodd\" fill-opacity=\"1\" stroke=\"#000000\" stroke-opacity=\"1\" stroke-width=\"3.2\"/>\n",
       "<path clip-path=\"url(#clip284)\" d=\"M1208.47 1100.88 L1192.47 1116.88 L1208.47 1132.88 L1224.47 1116.88 L1208.47 1100.88 Z\" fill=\"#e26f46\" fill-rule=\"evenodd\" fill-opacity=\"1\" stroke=\"#000000\" stroke-opacity=\"1\" stroke-width=\"3.2\"/>\n",
       "<path clip-path=\"url(#clip284)\" d=\"M1285.89 1103.48 L1269.89 1119.48 L1285.89 1135.48 L1301.89 1119.48 L1285.89 1103.48 Z\" fill=\"#e26f46\" fill-rule=\"evenodd\" fill-opacity=\"1\" stroke=\"#000000\" stroke-opacity=\"1\" stroke-width=\"3.2\"/>\n",
       "<path clip-path=\"url(#clip284)\" d=\"M1363.32 1099.65 L1347.32 1115.65 L1363.32 1131.65 L1379.32 1115.65 L1363.32 1099.65 Z\" fill=\"#e26f46\" fill-rule=\"evenodd\" fill-opacity=\"1\" stroke=\"#000000\" stroke-opacity=\"1\" stroke-width=\"3.2\"/>\n",
       "<path clip-path=\"url(#clip284)\" d=\"M1518.16 1099.54 L1502.16 1115.54 L1518.16 1131.54 L1534.16 1115.54 L1518.16 1099.54 Z\" fill=\"#e26f46\" fill-rule=\"evenodd\" fill-opacity=\"1\" stroke=\"#000000\" stroke-opacity=\"1\" stroke-width=\"3.2\"/>\n",
       "<polyline clip-path=\"url(#clip284)\" style=\"stroke:#0000ff; stroke-linecap:round; stroke-linejoin:round; stroke-width:20; stroke-opacity:0.3; fill:none\" points=\"279.421,1339.58 279.421,1077.73 356.842,1077.73 356.842,918.437 434.263,918.437 434.263,893.486 511.684,893.486 511.684,1006.75 589.105,1006.75 589.105,1089.71 666.526,1089.71 666.526,1141.45 743.947,1141.45 743.947,1164 821.368,1164 821.368,1159.52 898.789,1159.52 898.789,1128.1 976.21,1128.1 976.21,1069.28 1053.63,1069.28 1053.63,1107.97 1131.05,1107.97 1131.05,1116.88 1208.47,1116.88 1208.47,1119.48 1285.89,1119.48 1285.89,1115.65 1363.32,1115.65 1363.32,1108.66 1440.74,1108.66 1440.74,1115.54 1518.16,1115.54 1518.16,1113.39 1595.58,1113.39 1595.58,1113.38 1673,1113.38 1673,1113.55 1750.42,1113.55 1827.84,1113.55 1905.26,1113.55 1982.68,1113.55 2060.1,1113.55 2137.53,1113.55 2214.95,1113.55 2292.37,1113.55 \"/>\n",
       "</svg>\n"
      ]
     },
     "metadata": {},
     "output_type": "display_data"
    }
   ],
   "source": [
    "##########\n",
    "# INPUTS #\n",
    "##########\n",
    "# limits\n",
    "#p9 = plot(ts,uMax*ones(length(ts)),linestyle = :dot,linecolor = :black,xaxis=\"time[h]\",yaxis=\"u1\",legend=false,gridlinewidth=2,ylims = (1.5,2.0),yticks = 1.5:0.1:2.0)\n",
    "p9 = plot(xaxis=\"time[h]\",yaxis=\"u1\",gridlinewidth=2,ylims = (1.5,2.0),yticks = 1.5:0.1:2.0)\n",
    "\n",
    "for opti in 1:3\n",
    "    p9 = plot!(ts,uTraj[opti,:,1],linewidth=5,linetype=:steppre,linealpha = 0.3,markershape=MList[opti],linecolor = CList[opti],legend=false)\n",
    "end\n",
    "\n",
    "#p10 = plot(ts,uMax*ones(length(ts)),linestyle = :dot,linecolor = :black,xaxis=\"time[h]\",yaxis=\"u2\",legend=false,gridlinewidth=2,ylims = (1.5,2.0),yticks = 1.5:0.1:2.0)\n",
    "p10 = plot(xaxis=\"time[h]\",yaxis=\"u2\",gridlinewidth=2,ylims = (1.5,2.0),yticks = 1.5:0.1:2.0)\n",
    "for opti in 1:3\n",
    "    p10 = plot!(ts,uTraj[opti,:,2],linewidth=5,linetype=:steppre,linealpha = 0.3,markershape=MList[opti],linecolor = CList[opti],legend=false)\n",
    "end\n",
    "\n",
    "#p11 = plot(ts,uMax*ones(length(ts)),linestyle = :dot,linecolor = :black,xaxis=\"time[h]\",yaxis=\"u3\",legend=false,gridlinewidth=2,ylims = (1.5,2.0),yticks = 1.5:0.1:2.0)\n",
    "p11 = plot(xaxis=\"time[h]\",yaxis=\"u3\",gridlinewidth=2,ylims = (1.5,2.0),yticks = 1.5:0.1:2.0)\n",
    "for opti in 1:3\n",
    "    p11 = plot!(ts,uTraj[opti,:,3],linewidth=5,linetype=:steppre,linealpha = 0.3,markershape=MList[opti],linecolor = CList[opti],legend=false)\n",
    "end\n",
    "\n",
    "g3 = plot(p9,p10,p11,layout=(3,1))\n",
    "display(g3)"
   ]
  }
 ],
 "metadata": {
  "kernelspec": {
   "display_name": "Julia 1.8.5",
   "language": "julia",
   "name": "julia-1.8"
  },
  "language_info": {
   "file_extension": ".jl",
   "mimetype": "application/julia",
   "name": "julia",
   "version": "1.8.5"
  }
 },
 "nbformat": 4,
 "nbformat_minor": 5
}
