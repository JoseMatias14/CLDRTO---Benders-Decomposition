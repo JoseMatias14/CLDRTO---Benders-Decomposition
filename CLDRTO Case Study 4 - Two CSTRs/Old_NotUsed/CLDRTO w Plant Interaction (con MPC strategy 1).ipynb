{
 "cells": [
  {
   "cell_type": "markdown",
   "id": "39bb43e3",
   "metadata": {},
   "source": [
    "**This code computes the decomposed/monolithic solution of a Closed-Loop DRTO problem and implement in the plant.**\n",
    "\n",
    "- The case study is a two nonlinear reactors in parallel from:*2018, Economic Coordination of Distributed Nonlinear MPC Systems using Closed-loop Prediction of a Nonlinear Dynamic Plant, H Li and C L E Swartz* \n",
    "- The underlying control structure (modeled in the CLDRTO model) contains two constrained MPC, which are represented by their KKT conditions in the DRTO problem. \n",
    "- The problem is posed as a scenario-based stochastic programming problem\n",
    "- The uncertainty represented by the scenarios comes from the the heat transfer coefficient (UA) \n",
    "- We run a Monte Carlo Analysis of the performance of both strategies for an arbitrary number of scenarios\n",
    "\n",
    "--> see jupyter notebook \"Preliminaries\" and \"Monolithic and Decomposed CLRTO Comparison\" for details\n",
    "\n",
    "AUTHOR: Jose Matias <assumpcj@mcmaster.ca>\n",
    "DATE: August 2023"
   ]
  },
  {
   "cell_type": "markdown",
   "id": "146397a9",
   "metadata": {},
   "source": [
    "[1.Model and Simulation Parameters](#sec1) <br>\n",
    "[2.Building Auxiliary Functions](#sec2)<br>\n",
    "[2.1. MPC matrices builder](#subsec21)<br>\n",
    "[2.2. MPC solver](#subsec22)<br>\n",
    "[2.3. Monolithic CLDRTO](#subsec23)<br>\n",
    "[2.4. Decomposed CLDRTO](#subsec24)<br>\n",
    "[2.5. Plant Model](#subsec25)<br>\n",
    "[3. Implementing CL-DRTO in closed loop with the plant](#sec3)<br>"
   ]
  },
  {
   "cell_type": "code",
   "execution_count": 1,
   "id": "67ea638f",
   "metadata": {},
   "outputs": [],
   "source": [
    "using LinearAlgebra, JuMP, Ipopt, CPLEX, Plots, DataFrames, LaTeXStrings, DifferentialEquations, Distributions, Random"
   ]
  },
  {
   "cell_type": "markdown",
   "id": "d51ccb2b",
   "metadata": {},
   "source": [
    "<a id=\"sec1\"></a>"
   ]
  },
  {
   "cell_type": "markdown",
   "id": "b2933767",
   "metadata": {},
   "source": [
    "# Model and Simulation Parameters"
   ]
  },
  {
   "cell_type": "markdown",
   "id": "a4c42dcf",
   "metadata": {},
   "source": [
    "- Simulation Parameters"
   ]
  },
  {
   "cell_type": "code",
   "execution_count": 2,
   "id": "cb37bc36",
   "metadata": {},
   "outputs": [],
   "source": [
    "# Simulation sampling time\n",
    "dt = 0.5 #[s]\n",
    "\n",
    "# Plant simulation time span\n",
    "tspan = (0.0,dt)\n",
    "\n",
    "# Set seed value for choosing the plant parameter\n",
    "seed = 42\n",
    "Random.seed!(seed)\n",
    "\n",
    "# Optimization horizon\n",
    "ndrto = 20 # dt_DRTO\n",
    "\n",
    "# Optimization horizon \n",
    "Δdrto = 4 # dt_DRTO\n",
    "\n",
    "# time series for plotting\n",
    "t_drto = Vector{Float64}(undef,ndrto) \n",
    "for kk in 1:ndrto\n",
    "    t_drto[kk] = dt*kk\n",
    "end\n",
    "\n",
    "# number of components\n",
    "nc = 3 #[-]\n",
    "# number of inputs\n",
    "nu = 2 #[-]\n",
    "# number of reactors\n",
    "nrt = 2 #[-]\n",
    "# number of reactions\n",
    "nrc = 2 #[-]\n",
    "# number of MPCs\n",
    "numpc = 2 \n",
    "\n",
    "# initial value\n",
    "C0 = [0.124287 0.216517;\n",
    "    19.725 19.659;\n",
    "    0.150668 0.124504]\n",
    "T0 = [341.7216268417903 331.0792925101132]\n",
    "\n",
    "# \"algebraic states\"\n",
    "C_in0 = [20.0 10.0621;\n",
    "          0 9.86252;\n",
    "          0 0.0753341]\n",
    "T_in0 = [299.99999999998846 320.8608134932841]\n",
    "Tj_out0 = [316.6886507367161 297.43171700404525]\n",
    "\n",
    "# \"inputs\"\n",
    "Q0 = 0.2\n",
    "Qm0 = 0.2\n",
    "\n",
    "# initial value of u\n",
    "u0 = [Q0 Qm0]\n",
    "\n",
    "# States (algebraic and differential): CA1,CB1,CC1,T1,Tj1_out,CA2,CB2,CC2,T2,Tj2_out\n",
    "x0 = [C0[1,1], C0[2,1], C0[3,1],T0[1],Tj_out0[1],C0[1,2], C0[2,2], C0[3,2],T0[2],Tj_out0[2]];"
   ]
  },
  {
   "cell_type": "markdown",
   "id": "ac38749b",
   "metadata": {},
   "source": [
    "- Model Parameters"
   ]
  },
  {
   "cell_type": "code",
   "execution_count": 3,
   "id": "9bb381c9",
   "metadata": {},
   "outputs": [],
   "source": [
    "# feed to reactor 1 concentrations c = (A,B,C)\n",
    "C1_in = [20.0, 0, 0] #[kmol/m3]\n",
    "\n",
    "# temperature of feed to reactor 1\n",
    "T1_in = 300.0 #[K]\n",
    "\n",
    "# feed to mixer concentration c = (A,B,C)\n",
    "Cm_in = [20.0, 0, 0]\n",
    "\n",
    "# temperature of feed to mixer\n",
    "Tm_in = 300.0 #[K]\n",
    "\n",
    "# feed flowrate of cooling water to reactor jacket r = (1,2)\n",
    "Qj_in = [0.7, 0.7] #[m3/s]\n",
    "\n",
    "# cooling water temperature to reactor jacket r = (1,2)\n",
    "Tj_in = [300.0, 275.0] #[m3/s]\n",
    "\n",
    "# reactor volumetric holdup r = (1,2)\n",
    "V = [5.0, 5.0] #[m3]\n",
    "\n",
    "# heat transfer coefficient\n",
    "Ua = [0.35, 0.35] #[m3/s]\n",
    "\n",
    "# reaction rate constant e = (I,II)\n",
    "k0 = [2.7e8, 160.0] #[1/s]\n",
    "\n",
    "# reaction activation energy e = (I,II)\n",
    "ER = [6000.0, 4500.0] #[K]\n",
    "\n",
    "# heat of reaction e = (I,II)\n",
    "dH_pcp = -[5.0, 5.0] #[m3 K/kmol] \n",
    "\n",
    "# stochiometric matrix \n",
    "Ms = [-1 0;\n",
    "       1 -1;\n",
    "       0 1];"
   ]
  },
  {
   "cell_type": "code",
   "execution_count": 4,
   "id": "ef2eb729",
   "metadata": {},
   "outputs": [],
   "source": [
    "# Uncertain parameters: Ua1 \n",
    "# nominal value\n",
    "pNom = 0.35\n",
    "# standard deviation associated with uncertainty\n",
    "deltaPar = 0.01*0.007; "
   ]
  },
  {
   "cell_type": "markdown",
   "id": "177c50a5",
   "metadata": {},
   "source": [
    "- Economic Optimization Problem Parameters"
   ]
  },
  {
   "cell_type": "code",
   "execution_count": 5,
   "id": "fd6b1852",
   "metadata": {},
   "outputs": [],
   "source": [
    "# feed supply limitation\n",
    "Qf_max = 0.8 #[m3/s] \n",
    "\n",
    "# safety restriction (avoiding temperature run away) -- (350)\n",
    "Tr_max = 360 #[K]\n",
    "\n",
    "# product specifications\n",
    "cA2_max = 0.3 #[kmol/m3]\n",
    "\n",
    "# max cooling water outlet temperature r = (1,2) ([340, 310])\n",
    "Tj_max = [340, 310] #[K]\n",
    "\n",
    "# min feed to reactor 1\n",
    "Q_min = 0.05 #[m3/s]\n",
    "\n",
    "# min feed to mixer\n",
    "Qm_min = 0.05; #[m3/s]\n",
    "\n",
    "# Output bounds (T1, T2)\n",
    "yMin = [100.0 100.0] #K\n",
    "yMax = [350.0 350.0] #K\n",
    "\n",
    "# Setpoint bounds (T1, T2)\n",
    "yspMin = [100.0 100.0] #K\n",
    "yspMax = [360.0 360.0] #K\n",
    "\n",
    "# Input bounds (Q1, Qm)\n",
    "uMin = [0.050 0.050] #K\n",
    "uMax = [0.805 0.800]; #K"
   ]
  },
  {
   "cell_type": "markdown",
   "id": "6c41f2d6",
   "metadata": {},
   "source": [
    "- Steady-state optimal solution"
   ]
  },
  {
   "cell_type": "code",
   "execution_count": 6,
   "id": "a0f950a9",
   "metadata": {},
   "outputs": [],
   "source": [
    "# concentration related variables\n",
    "C0_star = [0.114545 0.174342;\n",
    "    19.7379 19.6938;\n",
    "    0.147529 0.13187]\n",
    "\n",
    "T0_star = [350.00000000404816 337.5000000227455]\n",
    "T_in0_star = [300.0 327.5923855099112]\n",
    "Tj_out0_star = [320.00000000161924 300.0000000090982]\n",
    "Q0_star = [0.27907949788513375 0.5057183218310063]\n",
    "Qm0_star = 0.22663882394587254\n",
    "\n",
    "solSS = Dict('C' => C0_star,\n",
    "             'T' => T0_star,\n",
    "             'I' => T_in0_star, \n",
    "             'J' => Tj_out0_star,\n",
    "             'Q' => Q0_star,\n",
    "             'M' => Qm0_star);"
   ]
  },
  {
   "cell_type": "markdown",
   "id": "4fe8af5f",
   "metadata": {},
   "source": [
    "- MPC Parameters\n",
    "MPC1: reactor 1 (Q1 <-> T1) <br>\n",
    "MPC2: reactor 2 (Qm <-> T2)"
   ]
  },
  {
   "cell_type": "code",
   "execution_count": 7,
   "id": "e307e215",
   "metadata": {},
   "outputs": [],
   "source": [
    "##########\n",
    "# MODELS #\n",
    "##########\n",
    "# reference for deviation variables\n",
    "# MPC 1\n",
    "T1_0_bar = 350.00000000404816\n",
    "Q1_0_bar = 0.27907949788513375\n",
    "\n",
    "# MPC 2\n",
    "T2_0_bar = 337.5000000227455\n",
    "Qm_0_bar = 0.22663882394587254\n",
    "\n",
    "yref = [T1_0_bar T2_0_bar]\n",
    "uref = [Q1_0_bar Qm_0_bar]\n",
    "\n",
    "# Linear SISO model coefficients\n",
    "# MPC1\n",
    "a1_hat = 0.9444968979045645\n",
    "b1_hat = 4.755754997301486\n",
    "\n",
    "# MPC2\n",
    "a2_hat = 0.9256356006985642\n",
    "b2_hat = 5.70696857693315\n",
    "\n",
    "# initial value of xMPC\n",
    "xMPC0 = [T0[1] - T1_0_bar, T0[2] - T2_0_bar]\n",
    "\n",
    "##########\n",
    "# TUNING #\n",
    "##########\n",
    "# prediction horizon \n",
    "p = 5\n",
    "\n",
    "# control horizon \n",
    "m = 3\n",
    "\n",
    "# output tracking weight\n",
    "q = 1\n",
    "\n",
    "# move supression weight\n",
    "r = [150,500]\n",
    "\n",
    "# input bounds\n",
    "u_mpc_lb = 0.050\n",
    "u_mpc_ub = 0.805\n",
    "\n",
    "##################\n",
    "# KKT CONDITIONS #\n",
    "##################\n",
    "# matrix to compute the gradients of the input bound constraints\n",
    "conMatrix = [-I(m); I(m)]\n",
    "\n",
    "# Regularized CC function \n",
    "epsCC = [1e-2 1e-2 1e-2 1e-2 1e-2 1e-2];"
   ]
  },
  {
   "cell_type": "markdown",
   "id": "7d89cd2c",
   "metadata": {},
   "source": [
    "- Preparing Orthogonal Collocation"
   ]
  },
  {
   "cell_type": "code",
   "execution_count": 8,
   "id": "f7d87f6a",
   "metadata": {},
   "outputs": [],
   "source": [
    "# Parameters for orthogonal collocation\n",
    "#  Radau Collocation Points 1st degree polynomial == Backward Euler\n",
    "radau  = [0.0 1.00000]\n",
    "\n",
    "# number of collocation points (initial point is also considered)\n",
    "ncp = length(radau) \n",
    "\n",
    "# Collocation parameters and radau time series\n",
    "colmat = [-1.0 -1.0;\n",
    "          1.0 1.0]\n",
    "\n",
    "# length of one finite element on the time horizon\n",
    "h = dt;          "
   ]
  },
  {
   "cell_type": "markdown",
   "id": "e3f7955e",
   "metadata": {},
   "source": [
    "- Bender's Decomposition"
   ]
  },
  {
   "cell_type": "code",
   "execution_count": 9,
   "id": "eb669196",
   "metadata": {},
   "outputs": [],
   "source": [
    "# max number of iteration (50)\n",
    "benIterMax = 75\n",
    "\n",
    "# optimality gap (relative) tolerance \n",
    "optGap = 1e-2;"
   ]
  },
  {
   "cell_type": "markdown",
   "id": "61521103",
   "metadata": {},
   "source": [
    "<a id=\"sec2\"></a>"
   ]
  },
  {
   "cell_type": "markdown",
   "id": "2bed46e2",
   "metadata": {},
   "source": [
    "# Building auxiliary functions"
   ]
  },
  {
   "cell_type": "markdown",
   "id": "e3b44c70",
   "metadata": {},
   "source": [
    "<a id=\"subsec21\"></a>"
   ]
  },
  {
   "cell_type": "markdown",
   "id": "722e6ed8",
   "metadata": {},
   "source": [
    "## MPC matrices builder"
   ]
  },
  {
   "cell_type": "code",
   "execution_count": 10,
   "id": "2196febb",
   "metadata": {},
   "outputs": [],
   "source": [
    "function MPC_matrices(A,B,C,p,m,q,r)\n",
    "    ###########\n",
    "    # inputs: #\n",
    "    ###########\n",
    "    # A,B,C - System model\n",
    "    # p, m - prediction and control horizon\n",
    "    # q, r - setpoint and input usage tuning parameters\n",
    "    \n",
    "    # extracting dimensions from system model\n",
    "    nx = size(A,1) # states\n",
    "    nu = size(B,2) # inputs\n",
    "    ny = size(C,1) # outputs\n",
    "    \n",
    "    # adding disturbance model\n",
    "    Ad = [A zeros(nx,ny); zeros(ny,nx) I(ny)]\n",
    "    Bd = [B; zeros(ny,nu)]\n",
    "    Cd = [C ones(ny,ny)]\n",
    "    \n",
    "    # building matrices for MPC\n",
    "    Psi = Cd*Ad\n",
    "    for ii in 2:p\n",
    "        Psi = [Psi;  Cd*Ad^ii]\n",
    "    end\n",
    "\n",
    "    # Computing Dynamic Matrix\n",
    "    a = Cd*Bd\n",
    "    for ii in 2:p\n",
    "        a = [a; Cd*Ad^(ii - 1)*Bd]\n",
    "    end\n",
    "    DynM = a\n",
    "\n",
    "    for ii in 1:(m - 2)\n",
    "        a = [zeros(ny,nu);a[1:(p-1)*ny,:]]\n",
    "        DynM = [DynM  a]\n",
    "    end\n",
    "\n",
    "    # adjusting dynamic matrix for since p > m (last column)\n",
    "    b = Cd*Bd\n",
    "\n",
    "    Ai = I(nx+1) # adding disturbance to the states\n",
    "    for ii = 1:(p - m)\n",
    "        Ai = Ai + Ad^ii\n",
    "        b = [b;Cd*Ai*Bd]\n",
    "    end\n",
    "\n",
    "    Theta=[DynM [zeros(ny*(m-1),nu);b]]\n",
    "    \n",
    "    # Creating Qbar and Rbar matrices\n",
    "    Qbar = Diagonal([q for ii in 1:p])\n",
    "    Rbar = Diagonal([r for ii in 1:m])\n",
    "\n",
    "    # Creating input movement OF penalty matrix \n",
    "    M=[zeros((m-1)*nu,nu) I(nu*(m-1)); zeros(nu) zeros(nu,nu*(m-1))]\n",
    "    Ibar=[I(nu); zeros(nu*(m-1),nu)]\n",
    "    IM = I(nu*m) - M';\n",
    "    \n",
    "    # Matrix H\n",
    "    H = Theta'*Qbar*Theta + IM'*Rbar*IM;\n",
    "    \n",
    "    return Dict('A' => A, 'B' => B, 'C' => C, 'H' => H, 'Θ' => Theta, 'Ψ' => Psi, 'Q' => Qbar, 'I' => Ibar, 'R' => Rbar, 'M' => IM)\n",
    "end;"
   ]
  },
  {
   "cell_type": "markdown",
   "id": "2cdcb41c",
   "metadata": {},
   "source": [
    "<a id=\"subsec23\"></a>"
   ]
  },
  {
   "cell_type": "markdown",
   "id": "900fd302",
   "metadata": {},
   "source": [
    "## MPC solver\n",
    "\n",
    "- Building function for computing MPC solution (solving QP)"
   ]
  },
  {
   "cell_type": "code",
   "execution_count": 11,
   "id": "b9677c35",
   "metadata": {},
   "outputs": [],
   "source": [
    "function solveMPC(xkk,dekk,uk_1,yspk,umin,umax,yref,uref,mpc,p,m)\n",
    "    ###########\n",
    "    # inputs: #\n",
    "    ###########\n",
    "    # xkk - current states (MPC model) \n",
    "    # dekk - disturbance estimate \n",
    "    # uk_1 - inputs at the current iteration, already implemented on the plant\n",
    "    # yspk - setpoint trajectory computed by CL-DRTO\n",
    "    # umin, umax - input bounds\n",
    "    # yref, uref - reference points for computing deviation variables\n",
    "    # mpcModel - System model\n",
    "    # p, m - prediction and control horizon\n",
    "    \n",
    "    MPC_con = Model(Ipopt.Optimizer)\n",
    "    set_silent(MPC_con)\n",
    "    \n",
    "    ####################\n",
    "    # Set up variables #\n",
    "    ####################\n",
    "    # inputs computed by MPCs\n",
    "    @variable(MPC_con, (umin - uref) ≤ u[1:m] ≤ (umax - uref) )\n",
    "    \n",
    "    ######################################\n",
    "    # Set up constraints and expressions #\n",
    "    ######################################\n",
    "    # for OF computation\n",
    "    @expression(MPC_con, cfT, (mpc['Ψ']*[xkk;dekk] - (yspk - yref)*ones(p,1))'*mpc['Q']*mpc['Θ'] - (uk_1 - uref)'*mpc['I']'*mpc['R']*mpc['M'])\n",
    "        \n",
    "    #############################\n",
    "    # Set up objective function #\n",
    "    #############################\n",
    "    @objective(MPC_con, Min, sum(u[jj]*sum(mpc['H'][jj,ii]*u[ii] for ii in 1:m) for jj in 1:m) + 2*sum(cfT[jj]*u[jj] for jj = 1:m))\n",
    "    # @show MPC_con\n",
    "\n",
    "    #################\n",
    "    # Solve Problem #\n",
    "    #################\n",
    "    optimize!(MPC_con)\n",
    "    \n",
    "    if has_values(MPC_con)\n",
    "        flag = 1\n",
    "    else\n",
    "        flag = 0\n",
    "    end\n",
    "\n",
    "    #calling values of the solved problem\n",
    "    ϕ = objective_value(MPC_con)\n",
    "    uArray = value.(u) .+ uref\n",
    "\n",
    "    return Dict('ϕ' => ϕ,'u' => uArray, 'f' => flag)\n",
    "end;"
   ]
  },
  {
   "cell_type": "markdown",
   "id": "f2860f8a",
   "metadata": {},
   "source": [
    "<a id=\"subsec23\"></a>"
   ]
  },
  {
   "cell_type": "markdown",
   "id": "12964a06",
   "metadata": {},
   "source": [
    "## Monolithic solution of scenario-based CLDRTO"
   ]
  },
  {
   "cell_type": "code",
   "execution_count": 12,
   "id": "e5486fc7",
   "metadata": {},
   "outputs": [],
   "source": [
    "function MS_CLDRTO(C_0,T_0,u_0,xMPC_0,UaTemp,ns,solNom)\n",
    "    ###########\n",
    "    # inputs: #\n",
    "    ###########\n",
    "    # C_0, T_0 - concentration and temperature states at the current iteration (beginning of DRTO horizon)\n",
    "    # u_0 - current input implemented in the plant\n",
    "    # xMPC_0 - current MPC states\n",
    "    # UaTemp - vector containing all the values of the uncertain parameter (Ua[1]) and Ua[2]\n",
    "    # nScen - number of scenarios\n",
    "    # solNom - nominal solution\n",
    "    \n",
    "    # Assuming equiprobable scenarios\n",
    "    pScen = 1.0/ns\n",
    "    \n",
    "    # JuMP model\n",
    "    model_ms = Model(Ipopt.Optimizer)\n",
    "    set_optimizer_attribute(model_ms, \"warm_start_init_point\", \"yes\")\n",
    "    #set_optimizer_attribute(model_ms, \"print_level\", 5)\n",
    "    set_optimizer_attribute(model_ms, \"max_cpu_time\", 300.0) # 5 min\n",
    "    set_silent(model_ms)\n",
    "\n",
    "    ####################\n",
    "    # Set up variables #\n",
    "    ####################\n",
    "    # DRTO model variables\n",
    "    @variable(model_ms, C[1:nc, 1:nrt, 1:ndrto, 1:ncp, 1:ns] ≥ 0)           # [kmol/m3] concentration (diff states)\n",
    "    @variable(model_ms, T[rt=1:nrt, 1:ndrto, 1:ncp, 1:ns] ≥ Tj_in[rt])      # [K] reactor temperature (diff states)\n",
    "    @variable(model_ms, J[1:ndrto, 1:ncp, 1:ns])                            # [$] objective function (diff states)\n",
    "    @variable(model_ms, Cdot[1:nc, 1:nrt, 1:ndrto, 1:ncp, 1:ns])            # [kmol/m3/s] concentration (time derivative)\n",
    "    @variable(model_ms, Tdot[1:nrt, 1:ndrto, 1:ncp, 1:ns])                  # [K/s] reactor temperature (time derivative)\n",
    "    @variable(model_ms, Jdot[1:ndrto, 1:ncp, 1:ns])                         # [$/s] objective function (time derivative\n",
    "    @variable(model_ms, Tj_out[rt=1:nrt, 1:ndrto, 1:ncp, 1:ns] ≥ Tj_in[rt]) # [K] reactor temperature (diff states)\n",
    "    @variable(model_ms, C_in[1:nc, 1:nrt, 1:ndrto, 1:ncp, 1:ns] ≥ 0)        # [kmol/m3] inlet concentration (alg. states)\n",
    "    @variable(model_ms, T_in[rt=1:nrt, 1:ndrto, 1:ncp, 1:ns] ≥ Tj_in[rt])   # [K] inlet temperature (alg. states)\n",
    "    @variable(model_ms, Q_min ≤ Q[1:nrt, 1:ndrto, 1:ns] ≤ Qf_max)           # [m3/s] flowrate to reactor\n",
    "    @variable(model_ms, Qm_min ≤ Qm[1:ndrto, 1:ns] ≤ Qf_max)                # [m3/s] flowrate to mixer\n",
    "\n",
    "    # MPC model variables (SISO) -> deviation form\n",
    "    @variable(model_ms, xMPC[1:numpc, 1:ndrto, 1:ns])\n",
    "    #@variable(model_ms, yMPC[1:numpc, 1:ndrto, 1:ns])\n",
    "    @variable(model_ms, uMPC[1:numpc, 1:ndrto, 1:m, 1:ns])\n",
    "    \n",
    "    # MPC <-> DRTO model deviation\n",
    "    @variable(model_ms, de[1:numpc,1:ndrto, 1:ns])\n",
    "    \n",
    "    # Constrained MPC KKT conditions (upper and lower bounds for each input)\n",
    "    @variable(model_ms, mu_g[1:numpc,1:ndrto,1:(2*m), 1:ns] ≥ 0.0) \n",
    "\n",
    "    # setpoints for the controllers sent to the plant (*CL-DRTO degrees of freedom)\n",
    "    @variable(model_ms, yspMin[nct] ≤ ysp[nct = 1:numpc,1:ndrto, 1:ns] ≤ yspMax[nct])\n",
    "\n",
    "    #####################################\n",
    "    # Set up initial guesses for solver #\n",
    "    #####################################\n",
    "    if solNom isa Dict # if gives flexibility to NOT initialize variables w/ trajectories\n",
    "        for ss in 1:ns\n",
    "            for kk in 1:ndrto\n",
    "                for jj in 1:ncp\n",
    "                    for rr in 1:nrt\n",
    "                        for cc in 1:nc\n",
    "                            # concentration related variables\n",
    "                            set_start_value(C[cc,rr,kk,jj,ss], solNom['C'][cc,rr,kk,jj,1]) \n",
    "                        end # components loop\n",
    "\n",
    "                        # temperature related variables\n",
    "                        set_start_value(T[rr,kk,jj,ss], solNom['T'][rr,kk,jj,1]) \n",
    "                        set_start_value(T_in[rr,kk,jj,ss], solNom['I'][rr,kk,jj,1])\n",
    "                        set_start_value(Tj_out[rr,kk,jj,ss], solNom['J'][rr,kk,jj,1])\n",
    "\n",
    "                    end # reactors loop\n",
    "                end # collocation points loop\n",
    "\n",
    "                # MV's\n",
    "                for rr in 1:nrt\n",
    "                    set_start_value(Q[rr,kk,ss], solNom['Q'][rr,kk,1])  \n",
    "                end\n",
    "                set_start_value(Qm[kk,ss], solNom['M'][kk,1]) \n",
    "\n",
    "                for mm in 1:m\n",
    "                    set_start_value(uMPC[1,kk,mm,ss], solNom['u'][1,kk,mm,1])\n",
    "                    set_start_value(uMPC[2,kk,mm,ss], solNom['u'][2,kk,mm,1])\n",
    "                end\n",
    "                \n",
    "                for mm in 1:(2*m)\n",
    "                    set_start_value(mu_g[1,kk,mm,ss], solNom['μ'][1,kk,mm,1])\n",
    "                    set_start_value(mu_g[2,kk,mm,ss], solNom['μ'][2,kk,mm,1])\n",
    "                end\n",
    "            end # finite elements loop\n",
    "        end # scenarios loop\n",
    "    else # Set up initial guesses for solver: using opt. steady-state previoulsy computed\n",
    "        for ss in 1:ns\n",
    "            for kk in 1:ndrto\n",
    "                for jj in 1:ncp\n",
    "                    for rr in 1:nrt\n",
    "                        for cc in 1:nc\n",
    "                            # concentration related variables\n",
    "                            set_start_value(C[cc,rr,kk,jj,ss], C0_star[cc,rr]) \n",
    "                            set_start_value(C[cc,rr,kk,jj,ss], C0_star[cc,rr]) \n",
    "                        end # components loop\n",
    "\n",
    "                        # temperature related variables\n",
    "                        set_start_value(T[rr,kk,jj,ss], T0_star[rr]) \n",
    "                        set_start_value(T_in[rr,kk,jj,ss], T_in0_star[rr])\n",
    "                        set_start_value(Tj_out[rr,kk,jj,ss], Tj_out0_star[rr])\n",
    "\n",
    "                    end # reactors loop\n",
    "                end # collocation points loop\n",
    "\n",
    "                # MV's\n",
    "                for rr in 1:nrt\n",
    "                    set_start_value(Q[rr,kk,ss], Q0_star[rr])  \n",
    "                end\n",
    "                set_start_value(Qm[kk,ss], Qm0_star) \n",
    "\n",
    "                for mm in 1:m\n",
    "                    set_start_value(uMPC[1,kk,mm,ss], Q0_star[1] - uref[1])\n",
    "                    set_start_value(uMPC[2,kk,mm,ss], Qm0_star - uref[2])\n",
    "                end\n",
    "            end # finite elements loop\n",
    "        end # scenario loop\n",
    "    end\n",
    "    \n",
    "    ##############\n",
    "    # DRTO model #\n",
    "    ##############\n",
    "    @NLexpressions(model_ms, begin\n",
    "            # [1/s] reaction rate\n",
    "            k[rt = 1:nrt, rc = 1:nrc, kk = 1:ndrto, jj = 1:ncp, ss = 1:ns], k0[rc]*exp(-ER[rc]/T[rt,kk,jj,ss])\n",
    "            #[m3 K/s] cooling rate\n",
    "            # approximate model *approximating logarithm temperature\n",
    "            qcool[rt = 1:nrt,kk = 1:ndrto, jj = 1:ncp, ss = 1:ns], UaTemp[rt,ss]*(T[rt,kk,jj,ss] - (0.5*(Tj_out[rt,kk,jj,ss] + Tj_in[rt])))\n",
    "    end)\n",
    "\n",
    "    @NLconstraints(model_ms, begin\n",
    "            #########\n",
    "            # MODEL #\n",
    "            #########    \n",
    "            # reactor\n",
    "            r_cmb[co = 1:nc, rt = 1:nrt, kk = 1:ndrto, jj = 1:ncp, ss = 1:ns], Cdot[co,rt,kk,jj,ss] == (C_in[co,rt,kk,jj,ss] - C[co,rt,kk,jj,ss])*Q[rt,kk,ss]/V[rt] + sum(Ms[co,rc]*k[rt,rc,kk,jj,ss]*C[rc,rt,kk,jj,ss] for rc in 1:nrc) \n",
    "            r_eb[rt = 1:nrt, kk = 1:ndrto, jj = 1:ncp, ss = 1:ns], Tdot[rt,kk,jj,ss] == (T_in[rt,kk,jj,ss] - T[rt,kk,jj,ss])*Q[rt,kk,ss]/V[rt] - sum(dH_pcp[rc]*k[rt,rc,kk,jj,ss]*C[rc,rt,kk,jj,ss] for rc in 1:nrc) - qcool[rt,kk,jj,ss]/V[rt]\n",
    "            # mixer\n",
    "            m_mb[kk = 1:ndrto,ss = 1:ns], 0 == Q[1,kk,ss] + Qm[kk,ss] - Q[2,kk,ss]\n",
    "            m_cmb[co = 1:nc,kk = 1:ndrto,jj = 1:ncp,ss = 1:ns], 0 == Q[1,kk,ss]*C[co,1,kk,jj,ss] + Qm[kk,ss]*Cm_in[co] - Q[2,kk,ss]*C_in[co,2,kk,jj,ss]\n",
    "            m_eb[kk = 1:ndrto,jj = 1:ncp,ss = 1:ns], 0 == Q[1,kk,ss]*T[1,kk,jj,ss] + Qm[kk,ss]*Tm_in - Q[2,kk,ss]*T_in[2,kk,jj,ss]\n",
    "            # jacket\n",
    "            j_eb[rt = 1:nrt,kk = 1:ndrto,jj = 1:ncp,ss = 1:ns], 0 == Qj_in[rt]*(Tj_out[rt,kk,jj,ss] - Tj_in[rt]) - qcool[rt,kk,jj,ss]\n",
    "            # objective function\n",
    "            JInteg[kk = 1:ndrto, jj = 1:ncp,ss = 1:ns], Jdot[kk,jj,ss] == 10*(Q[1,kk,ss]*C_in[1,1,kk,jj,ss] + Qm[kk,ss]*Cm_in[1] - Q[2,kk,ss]*(C[1,2,kk,jj,ss] + C[3,2,kk,jj,ss])) - 0.01*qcool[1,kk,jj,ss] - qcool[2,kk,jj,ss] - 0.1*Q[1,kk,ss] - 0.1*Qm[kk,ss]\n",
    "\n",
    "            #########################    \n",
    "            # Collocation Equations #    \n",
    "            #########################\n",
    "            # initial point\n",
    "            coll_C_0[co=1:nc, rt = 1:nrt,ss = 1:ns], C[co,rt,1,1,ss] == C_0[co,rt] \n",
    "            coll_T_0[rt = 1:nrt,ss = 1:ns], T[rt,1,1,ss] == T_0[rt]\n",
    "            coll_J_0[ss = 1:ns], J[1,1,ss] == 0 \n",
    "            \n",
    "            # set up collocation equations \n",
    "            coll_C_n[co = 1:nc, rt = 1:nrt, kk = 1:ndrto, jj = 2:ncp,ss = 1:ns], sum(colmat[ii,jj]*C[co,rt,kk,ii,ss] for ii in 1:ncp) - h*Cdot[co,rt,kk,jj,ss] == 0 \n",
    "            coll_T_n[rt = 1:nrt, kk = 1:ndrto, jj = 2:ncp, ss = 1:ns], sum(colmat[ii,jj]*T[rt,kk,ii] for ii in 1:ncp) - h*Tdot[rt,kk,jj,ss] == 0\n",
    "            coll_J_n[kk = 1:ndrto, jj = 2:ncp, ss = 1:ns], sum(colmat[ii,jj]*J[kk,ii,ss] for ii in 1:ncp) - h*Jdot[kk,jj,ss] == 0\n",
    "\n",
    "            # continuinity equations\n",
    "            coll_C_con[co = 1:nc, rt = 1:nrt, kk = 2:ndrto,ss = 1:ns], C[co,rt,kk,1,ss] - C[co,rt,kk - 1,ncp,ss] == 0 \n",
    "            coll_T_con[rt = 1:nrt, kk = 2:ndrto,ss = 1:ns], T[rt,kk,1,ss] - T[rt,kk - 1,ncp,ss] == 0\n",
    "            coll_J_con[kk = 2:ndrto,ss = 1:ns], J[kk,1,ss] - J[kk - 1,ncp,ss] == 0\n",
    "    end)\n",
    "    \n",
    "    ##########################\n",
    "    # MPC model and solution #\n",
    "    ##########################\n",
    "    # N.B. inside MPC everything is in deviation variables\n",
    "    @expressions(model_ms, begin\n",
    "            # MPC1\n",
    "            cfT_c1_1[ss = 1:ns], (mpc1['Ψ']*[xMPC[1,1,ss];de[1,1,ss]] .- (ysp[1,1,ss] - yref[1]))'*mpc1['Q']*mpc1['Θ'] - (u_0[1] - uref[1])*mpc1['I']'*mpc1['R']*mpc1['M']\n",
    "            cfT_c1[kk=2:ndrto,ss = 1:ns], (mpc1['Ψ']*[xMPC[1,kk,ss];de[1,kk,ss]] .- (ysp[1,kk,ss] - yref[1]))'*mpc1['Q']*mpc1['Θ'] - uMPC[1,kk - 1,1,ss]*mpc1['I']'*mpc1['R']*mpc1['M']\n",
    "            # Input bounds\n",
    "            MPC1_u_upper[kk = 1:ndrto,uu = 1:m,ss = 1:ns], (uMax[1] - uref[1]) - uMPC[1,kk,uu,ss]\n",
    "            MPC1_u_lower[kk = 1:ndrto,uu = 1:m,ss = 1:ns], uMPC[1,kk,uu,ss] - (uMin[1] - uref[1])\n",
    "            # MPC2\n",
    "            cfT_c2_1[ss = 1:ns], (mpc2['Ψ']*[xMPC[2,1,ss];de[2,1,ss]] .- (ysp[2,1,ss] - yref[2]))'*mpc2['Q']*mpc2['Θ'] - (u_0[2] - uref[2])*mpc2['I']'*mpc2['R']*mpc2['M']\n",
    "            cfT_c2[kk=2:ndrto,ss = 1:ns], (mpc2['Ψ']*[xMPC[2,kk,ss];de[2,kk,ss]] .- (ysp[2,kk,ss] - yref[2]))'*mpc2['Q']*mpc2['Θ'] - uMPC[2,kk - 1,1,ss]*mpc2['I']'*mpc2['R']*mpc2['M']\n",
    "            # Input bounds\n",
    "            MPC2_u_upper[kk = 1:ndrto,uu = 1:m,ss = 1:ns], (uMax[2] - uref[2]) - uMPC[2,kk,uu,ss]\n",
    "            MPC2_u_lower[kk = 1:ndrto,uu = 1:m,ss = 1:ns], uMPC[2,kk,uu,ss] - (uMin[2] - uref[2])\n",
    "    end)\n",
    "\n",
    "    @constraints(model_ms, begin\n",
    "            #############\n",
    "            # MPC model #\n",
    "            #############\n",
    "            # MPC1\n",
    "            MPC1_dyn_model_1[ss = 1:ns], xMPC[1,1,ss] == mpc1['A']*xMPC_0[1] + mpc1['B']*(u_0[1] - uref[1])\n",
    "            MPC1_dyn_model[kk = 1:(ndrto - 1),ss = 1:ns], xMPC[1,kk + 1,ss] == mpc1['A']*xMPC[1,kk,ss] + mpc1['B']*uMPC[1,kk,1,ss]\n",
    "            #MPC1_model_out[kk=1:ndrto,ss = 1:ns], yMPC[1,kk,ss] == xMPC[1,kk,ss] # C = 1\n",
    "            MPC1_model_dev[kk=1:ndrto,ss = 1:ns], de[1,kk,ss] == (T[1,kk,ncp,ss] - yref[1]) - xMPC[1,kk,ss]\n",
    "            # MPC12\n",
    "            MPC2_dyn_model_1[ss = 1:ns], xMPC[2,1,ss] == mpc2['A']*xMPC_0[2] + mpc2['B']*(u_0[2] - uref[2])\n",
    "            MPC2_dyn_model[kk = 1:(ndrto - 1),ss = 1:ns], xMPC[2,kk + 1,ss] == mpc2['A']*xMPC[2,kk,ss] + mpc2['B']*uMPC[2,kk,1,ss]\n",
    "            #MPC2_model_out[kk=1:ndrto,ss = 1:ns], yMPC[2,kk,ss] == xMPC[2,kk,ss] \n",
    "            MPC2_model_dev[kk=1:ndrto,ss = 1:ns], de[2,kk,ss] == (T[2,kk,ncp,ss] - yref[2]) - xMPC[2,kk,ss]\n",
    "            ################\n",
    "            # MPC solution #\n",
    "            ################\n",
    "            # MPC 1\n",
    "            # stationarity\n",
    "            MPC1_sol_sta_1[ss = 1:ns], uMPC[1,1,:,ss]'*mpc1['H'] + cfT_c1_1[ss] +  mu_g[1,1,:,ss]'*conMatrix .== 0\n",
    "            MPC1_sol_sta[kk=2:ndrto,ss = 1:ns], uMPC[1,kk,:,ss]'*mpc1['H'] + cfT_c1[kk,ss] +  mu_g[1,kk,:,ss]'*conMatrix .== 0\n",
    "            # primal feasibility\n",
    "            MPC1_sol_feas_ub[kk = 1:ndrto,uu = 1:m,ss = 1:ns], MPC1_u_upper[kk,uu,ss] ≥ 0\n",
    "            MPC1_sol_feas_lb[kk = 1:ndrto,uu = 1:m,ss = 1:ns], MPC1_u_lower[kk,uu,ss] ≥ 0\n",
    "            # dual feasibility (already defined above)\n",
    "            # complementarity constraint (defined below since it is nonlinear)\n",
    "            # MPC 2\n",
    "            # stationarity\n",
    "            MPC2_sol_sta_1[ss = 1:ns], uMPC[2,1,:,ss]'*mpc2['H'] + cfT_c2_1[ss] +  mu_g[2,1,:,ss]'*conMatrix .== 0\n",
    "            MPC2_sol_sta[kk=2:ndrto,ss = 1:ns], uMPC[2,kk,:,ss]'*mpc2['H'] + cfT_c2[kk,ss] +  mu_g[2,kk,:,ss]'*conMatrix .== 0\n",
    "            # primal feasibility\n",
    "            MPC2_sol_feas_ub[kk = 1:ndrto,uu = 1:m,ss = 1:ns], MPC2_u_upper[kk,uu,ss] ≥ 0\n",
    "            MPC2_sol_feas_lb[kk = 1:ndrto,uu = 1:m,ss = 1:ns], MPC2_u_lower[kk,uu,ss] ≥ 0\n",
    "            # dual feasibility (already defined above)\n",
    "            # complementarity constraint (defined below since it is nonlinear)      \n",
    "    end)\n",
    "    \n",
    "    @NLconstraints(model_ms, begin\n",
    "            # MPC 1 \n",
    "            # complementarity constraint\n",
    "            MPC1_sol_cc_ub[kk = 1:ndrto,uu = 1:m,ss = 1:ns], mu_g[1,kk,uu,ss]*MPC1_u_upper[kk,uu,ss] ≤ epsCC[uu]\n",
    "            MPC1_sol_cc_lb[kk = 1:ndrto,uu = 1:m,ss = 1:ns], mu_g[1,kk,m + uu,ss]*MPC1_u_lower[kk,uu,ss] ≤ epsCC[m + uu]    \n",
    "\n",
    "            # MPC 2\n",
    "            # complementarity constraint\n",
    "            MPC2_sol_cc_ub[kk = 1:ndrto,uu = 1:m,ss = 1:ns], mu_g[2,kk,uu,ss]*MPC2_u_upper[kk,uu,ss] ≤ epsCC[uu]\n",
    "            MPC2_sol_cc_lb[kk = 1:ndrto,uu = 1:m,ss = 1:ns], mu_g[2,kk,m + uu,ss]*MPC2_u_lower[kk,uu,ss] ≤ epsCC[m + uu] \n",
    "    end)\n",
    "    \n",
    "    @constraints(model_ms, begin   \n",
    "            #######################\n",
    "            # PROCESS CONSTRAINTS #\n",
    "            #######################\n",
    "            # ! Enforcing only at the end of the finite element\n",
    "            # safety restrictions\n",
    "            g1[rt = 1:nrt, kk = 1:ndrto,ss = 1:ns], T[rt,kk,ncp,ss] - Tr_max ≤ 0\n",
    "            # product specifications (Concentration of A in reactor 2)\n",
    "            g2[kk = 1:ndrto,ss = 1:ns], C[1,2,kk,ncp,ss] - cA2_max ≤ 0\n",
    "            # feed supply limitations\n",
    "            g3[kk = 1:ndrto,ss = 1:ns], Q[1,kk,ss] + Qm[kk,ss] - Qf_max ≤ 0\n",
    "            # process limitations (others have been included when declaring variables): max cooling water outlet temperature\n",
    "            g4[rt = 1:nrt, kk = 1:ndrto,ss = 1:ns], Tj_out[rt,kk,ncp,ss] - Tj_max[rt] ≤ 0    \n",
    "            ############################\n",
    "            # OPTIMIZATION CONSTRAINTS #\n",
    "            ############################\n",
    "            # connecting the MPC solution to the DRTO model (only the first element of the MV* is implemented)\n",
    "            h1[kk = 1:ndrto,ss = 1:ns], (uMPC[1,kk,1,ss] + uref[1]) - Q[1,kk,ss] == 0\n",
    "            h2[kk = 1:ndrto,ss = 1:ns], (uMPC[2,kk,1,ss] + uref[2]) - Qm[kk,ss] == 0\n",
    "            ##################################\n",
    "            # NON-ANTICIPATIVITY CONSTRAINTS #\n",
    "            ##################################\n",
    "            nonAnt_c1[kk=1:Δdrto,ss=2:ns], ysp[1,kk,1] - ysp[1,kk,ss] == 0.0\n",
    "            nonAnt_c2[kk=1:Δdrto,ss=2:ns], ysp[2,kk,1] - ysp[2,kk,ss] == 0.0\n",
    "            ##############    \n",
    "            # PARAMETERS #\n",
    "            ##############\n",
    "            p1[co = 1:nc,kk = 1:ndrto,jj = 1:ncp,ss = 1:ns], C_in[co,1,kk,jj,ss] - C1_in[co] == 0\n",
    "            p2[kk = 1:ndrto,jj = 1:ncp,ss = 1:ns], T_in[1,kk,jj,ss] - T1_in == 0\n",
    "        end)\n",
    "    \n",
    "    # Set up objective function  \n",
    "    @NLobjective(model_ms, Min, -sum(pScen*J[ndrto,ncp,ss] for ss in 1:ns))\n",
    "    \n",
    "    #################\n",
    "    # Solve Problem #\n",
    "    #################\n",
    "    optimize!(model_ms)\n",
    "    \n",
    "    status = termination_status(model_ms)\n",
    "    #display(status)\n",
    "    \n",
    "    if status == MOI.OPTIMAL || status == MOI.ALMOST_OPTIMAL || status == MOI.LOCALLY_SOLVED\n",
    "        # Proved optimality or Optimal within relaxed tolerances\n",
    "        # solution time\n",
    "        timeSol = solve_time(model_ms)\n",
    "\n",
    "        flag = 1\n",
    "        # #primal_status(m)\n",
    "\n",
    "        #calling values of the solved problem\n",
    "        ϕ = objective_value(model_ms)\n",
    "        yspArray = value.(ysp)\n",
    "        CArray = value.(C)\n",
    "        TArray = value.(T)\n",
    "        TjArray = value.(Tj_out)\n",
    "        TinArray = value.(T_in)\n",
    "        QArray = value.(Q)\n",
    "        QmArray = value.(Qm)\n",
    "        \n",
    "        muArray = value.(mu_g)\n",
    "        uArray = value.(uMPC)\n",
    "\n",
    "        outputFun = Dict('ϕ' => ϕ,\n",
    "                        't' => timeSol,\n",
    "                        'f' => flag, \n",
    "                        's' => yspArray,\n",
    "                        'Q' => QArray,\n",
    "                        'M' => QmArray,\n",
    "                        'C' => CArray,\n",
    "                        'T' => TArray, \n",
    "                        'J' => TjArray,\n",
    "                        'I' => TinArray,\n",
    "                        'μ' => muArray,\n",
    "                        'u' => uArray)\n",
    "        \n",
    "        return outputFun\n",
    "    else\n",
    "        # Handle other cases.\n",
    "        outputFun = Dict('f' => 0,\n",
    "                         't' => NaN,\n",
    "                         'ϕ' => NaN)\n",
    "                        \n",
    "        \n",
    "        return outputFun\n",
    "    end\n",
    "end;"
   ]
  },
  {
   "cell_type": "markdown",
   "id": "72b22164",
   "metadata": {},
   "source": [
    "<a id=\"subsec24\"></a>"
   ]
  },
  {
   "cell_type": "markdown",
   "id": "e2a35860",
   "metadata": {},
   "source": [
    "## Decomposed CLDRTO"
   ]
  },
  {
   "cell_type": "markdown",
   "id": "b2f632eb",
   "metadata": {},
   "source": [
    "- Modeling Subproblem"
   ]
  },
  {
   "cell_type": "code",
   "execution_count": 13,
   "id": "3cece797",
   "metadata": {},
   "outputs": [],
   "source": [
    "function subp(yspFixed,C_0,T_0,u_0,xMPC_0,UaScen,pScen,solNom)    \n",
    "    ###########\n",
    "    # inputs: #\n",
    "    ###########\n",
    "    # yspFixed - setpoints determined by the master problem \n",
    "    # C_0, T_0 - concentration and temperature states at the current iteration (beginning of DRTO horizon)\n",
    "    # u_0 - current input implemented in the plant\n",
    "    # xMPC_0 - current MPC states\n",
    "    # UaScen - vector containing the values of the uncertain parameter (Ua[1]) and Ua[2] for a given scenario\n",
    "    # pScen - probability of a given scenario\n",
    "    # solNom - nominal solution\n",
    "    \n",
    "    # JuMP model\n",
    "    model_sub = Model(Ipopt.Optimizer)\n",
    "    set_optimizer_attribute(model_sub, \"warm_start_init_point\", \"yes\")\n",
    "    #set_optimizer_attribute(model_sub, \"print_level\", 5)\n",
    "    set_optimizer_attribute(model_sub, \"max_cpu_time\", 300.0) # 5 min\n",
    "    set_silent(model_sub)\n",
    "\n",
    "    ####################\n",
    "    # Set up variables #\n",
    "    ####################\n",
    "    # DRTO model variables\n",
    "    @variable(model_sub, C[1:nc, 1:nrt, 1:ndrto, 1:ncp] ≥ 0)           # [kmol/m3] concentration (diff states)\n",
    "    @variable(model_sub, T[rt=1:nrt, 1:ndrto, 1:ncp] ≥ Tj_in[rt])      # [K] reactor temperature (diff states)\n",
    "    @variable(model_sub, J[1:ndrto, 1:ncp])                            # [$] objective function (diff states)\n",
    "    @variable(model_sub, Cdot[1:nc, 1:nrt, 1:ndrto, 1:ncp])            # [kmol/m3/s] concentration (time derivative)\n",
    "    @variable(model_sub, Tdot[1:nrt, 1:ndrto, 1:ncp])                  # [K/s] reactor temperature (time derivative)\n",
    "    @variable(model_sub, Jdot[1:ndrto, 1:ncp])                         # [$/s] objective function (time derivative\n",
    "    @variable(model_sub, Tj_out[rt=1:nrt, 1:ndrto, 1:ncp] ≥ Tj_in[rt]) # [K] reactor temperature (diff states)\n",
    "    @variable(model_sub, C_in[1:nc, 1:nrt, 1:ndrto, 1:ncp] ≥ 0)        # [kmol/m3] inlet concentration (alg. states)\n",
    "    @variable(model_sub, T_in[rt=1:nrt, 1:ndrto, 1:ncp] ≥ Tj_in[rt])   # [K] inlet temperature (alg. states)\n",
    "    @variable(model_sub, Q_min ≤ Q[1:nrt, 1:ndrto] ≤ Qf_max)           # [m3/s] flowrate to reactor\n",
    "    @variable(model_sub, Qm_min ≤ Qm[1:ndrto] ≤ Qf_max)                # [m3/s] flowrate to mixer\n",
    "\n",
    "    # MPC model variables (SISO) -> deviation form\n",
    "    @variable(model_sub, xMPC[1:numpc, 1:ndrto])\n",
    "    #@variable(model_sub, yMPC[1:numpc, 1:ndrto])\n",
    "    @variable(model_sub, uMPC[1:numpc, 1:ndrto, 1:m])\n",
    "    \n",
    "    # MPC <-> DRTO model deviation\n",
    "    @variable(model_sub, de[1:numpc,1:ndrto])\n",
    "    \n",
    "    # Constrained MPC KKT conditions (upper and lower bounds for each input)\n",
    "    @variable(model_sub, mu_g[1:numpc,1:ndrto,1:(2*m)] ≥ 0.0) \n",
    "\n",
    "    # setpoints for the controllers sent to the plant (*CL-DRTO degrees of freedom)\n",
    "    @variable(model_sub, yspMin[nct] ≤ ysp[nct = 1:numpc,1:ndrto] ≤ yspMax[nct])\n",
    "\n",
    "    #####################################\n",
    "    # Set up initial guesses for solver #\n",
    "    #####################################\n",
    "    if solNom isa Dict # if gives flexibility to NOT initialize variables\n",
    "        for kk in 1:ndrto\n",
    "            for jj in 1:ncp\n",
    "                for rr in 1:nrt\n",
    "                    for cc in 1:nc\n",
    "                        # concentration related variables\n",
    "                        set_start_value(C[cc,rr,kk,jj], solNom['C'][cc,rr,kk,jj,1]) \n",
    "                    end # components loop\n",
    "                    \n",
    "                    # temperature related variables\n",
    "                    set_start_value(T[rr,kk,jj], solNom['T'][rr,kk,jj,1]) \n",
    "                    set_start_value(T_in[rr,kk,jj], solNom['I'][rr,kk,jj,1])\n",
    "                    set_start_value(Tj_out[rr,kk,jj], solNom['J'][rr,kk,jj,1])\n",
    "\n",
    "                end # reactors loop\n",
    "            end # collocation points loop\n",
    "\n",
    "            # MV's\n",
    "            for rr in 1:nrt\n",
    "                set_start_value(Q[rr,kk], solNom['Q'][rr,kk,1])  \n",
    "            end\n",
    "            set_start_value(Qm[kk], solNom['M'][kk,1]) \n",
    "\n",
    "            for mm in 1:m\n",
    "                set_start_value(uMPC[1,kk,mm], solNom['u'][1,kk,mm,1])\n",
    "                set_start_value(uMPC[2,kk,mm], solNom['u'][2,kk,mm,1])\n",
    "            end\n",
    "            \n",
    "            for mm in 1:(2*m)\n",
    "                set_start_value(mu_g[1,kk,mm], solNom['μ'][1,kk,mm,1])\n",
    "                set_start_value(mu_g[2,kk,mm], solNom['μ'][2,kk,mm,1])\n",
    "            end\n",
    "            \n",
    "        end # finite elements loop\n",
    "    else # Set up initial guesses for solver: using opt. steady-state previoulsy computed\n",
    "        for kk in 1:ndrto\n",
    "            for jj in 1:ncp\n",
    "                for rr in 1:nrt\n",
    "                    for cc in 1:nc\n",
    "                        # concentration related variables\n",
    "                        set_start_value(C[cc,rr,kk,jj], C0_star[cc,rr]) \n",
    "                        set_start_value(C[cc,rr,kk,jj], C0_star[cc,rr]) \n",
    "                    end # components loop\n",
    "\n",
    "                    # temperature related variables\n",
    "                    set_start_value(T[rr,kk,jj], T0_star[rr]) \n",
    "                    set_start_value(T_in[rr,kk,jj], T_in0_star[rr])\n",
    "                    set_start_value(Tj_out[rr,kk,jj], Tj_out0_star[rr])\n",
    "\n",
    "                end # reactors loop\n",
    "            end # collocation points loop\n",
    "\n",
    "            # MV's\n",
    "            for rr in 1:nrt\n",
    "                set_start_value(Q[rr,kk], Q0_star[rr])  \n",
    "            end\n",
    "            set_start_value(Qm[kk], Qm0_star) \n",
    "\n",
    "            for mm in 1:m\n",
    "                set_start_value(uMPC[1,kk,mm], Q0_star[1] - uref[1])\n",
    "                set_start_value(uMPC[2,kk,mm], Qm0_star - uref[2])\n",
    "            end\n",
    "        end # finite elements loop\n",
    "    end\n",
    "    \n",
    "    ##############\n",
    "    # DRTO model #\n",
    "    ##############\n",
    "    @NLexpressions(model_sub, begin\n",
    "            # [1/s] reaction rate\n",
    "            k[rt = 1:nrt, rc = 1:nrc, kk = 1:ndrto, jj = 1:ncp], k0[rc]*exp(-ER[rc]/T[rt,kk,jj])\n",
    "            #[m3 K/s] cooling rate\n",
    "            # approximate model *approximating logarithm temperature\n",
    "            qcool[rt = 1:nrt,kk = 1:ndrto, jj = 1:ncp], UaScen[rt]*(T[rt,kk,jj] - (0.5*(Tj_out[rt,kk,jj] + Tj_in[rt])))\n",
    "    end)\n",
    "\n",
    "    @NLconstraints(model_sub, begin\n",
    "            #########\n",
    "            # MODEL #\n",
    "            #########    \n",
    "            # reactor\n",
    "            r_cmb[co = 1:nc, rt = 1:nrt, kk = 1:ndrto, jj = 1:ncp], Cdot[co,rt,kk,jj] == (C_in[co,rt,kk,jj] - C[co,rt,kk,jj])*Q[rt,kk]/V[rt] + sum(Ms[co,rc]*k[rt,rc,kk,jj]*C[rc,rt,kk,jj] for rc in 1:nrc) \n",
    "            r_eb[rt = 1:nrt, kk = 1:ndrto, jj = 1:ncp], Tdot[rt,kk,jj] == (T_in[rt,kk,jj] - T[rt,kk,jj])*Q[rt,kk]/V[rt] - sum(dH_pcp[rc]*k[rt,rc,kk,jj]*C[rc,rt,kk,jj] for rc in 1:nrc) - qcool[rt,kk,jj]/V[rt]\n",
    "            # mixer\n",
    "            m_mb[kk = 1:ndrto], 0 == Q[1,kk] + Qm[kk] - Q[2,kk]\n",
    "            m_cmb[co = 1:nc,kk = 1:ndrto,jj = 1:ncp], 0 == Q[1,kk]*C[co,1,kk,jj] + Qm[kk]*Cm_in[co] - Q[2,kk]*C_in[co,2,kk,jj]\n",
    "            m_eb[kk = 1:ndrto,jj = 1:ncp], 0 == Q[1,kk]*T[1,kk,jj] + Qm[kk]*Tm_in - Q[2,kk]*T_in[2,kk,jj]\n",
    "            # jacket\n",
    "            j_eb[rt = 1:nrt,kk = 1:ndrto,jj = 1:ncp], 0 == Qj_in[rt]*(Tj_out[rt,kk,jj] - Tj_in[rt]) - qcool[rt,kk,jj]\n",
    "            # objective function\n",
    "            JInteg[kk = 1:ndrto, jj = 1:ncp], Jdot[kk,jj] == 10*(Q[1,kk]*C_in[1,1,kk,jj] + Qm[kk]*Cm_in[1] - Q[2,kk]*(C[1,2,kk,jj] + C[3,2,kk,jj])) - 0.01*qcool[1,kk,jj] - qcool[2,kk,jj] - 0.1*Q[1,kk] - 0.1*Qm[kk]\n",
    "\n",
    "            #########################    \n",
    "            # Collocation Equations #    \n",
    "            #########################\n",
    "            # initial point\n",
    "            coll_C_0[co=1:nc, rt = 1:nrt], C[co,rt,1,1] == C_0[co,rt] \n",
    "            coll_T_0[rt = 1:nrt], T[rt,1,1] == T_0[rt]\n",
    "            coll_J_0, J[1,1] == 0 \n",
    "            \n",
    "            # set up collocation equations \n",
    "            coll_C_n[co = 1:nc, rt = 1:nrt, kk = 1:ndrto, jj = 2:ncp], sum(colmat[ii,jj]*C[co,rt,kk,ii] for ii in 1:ncp) - h*Cdot[co,rt,kk,jj] == 0 \n",
    "            coll_T_n[rt = 1:nrt, kk = 1:ndrto, jj = 2:ncp], sum(colmat[ii,jj]*T[rt,kk,ii] for ii in 1:ncp) - h*Tdot[rt,kk,jj] == 0\n",
    "            coll_J_n[kk = 1:ndrto, jj = 2:ncp], sum(colmat[ii,jj]*J[kk,ii] for ii in 1:ncp) - h*Jdot[kk,jj] == 0\n",
    "\n",
    "            # continuinity equations\n",
    "            coll_C_con[co = 1:nc, rt = 1:nrt, kk = 2:ndrto], C[co,rt,kk,1] - C[co,rt,kk - 1,ncp] == 0 \n",
    "            coll_T_con[rt = 1:nrt, kk = 2:ndrto], T[rt,kk,1] - T[rt,kk - 1,ncp] == 0\n",
    "            coll_J_con[kk = 2:ndrto], J[kk,1] - J[kk - 1,ncp] == 0\n",
    "    end)\n",
    "    \n",
    "    ##########################\n",
    "    # MPC model and solution #\n",
    "    ##########################\n",
    "    # N.B. inside MPC everything is in deviation variables\n",
    "    @expressions(model_sub, begin\n",
    "            # MPC1\n",
    "            cfT_c1_1, (mpc1['Ψ']*[xMPC[1,1];de[1,1]] .- (ysp[1,1] - yref[1]))'*mpc1['Q']*mpc1['Θ'] - (u_0[1] - uref[1])*mpc1['I']'*mpc1['R']*mpc1['M']\n",
    "            cfT_c1[kk=2:ndrto], (mpc1['Ψ']*[xMPC[1,kk];de[1,kk]] .- (ysp[1,kk] - yref[1]))'*mpc1['Q']*mpc1['Θ'] - uMPC[1,kk - 1,1]*mpc1['I']'*mpc1['R']*mpc1['M']\n",
    "            # Input bounds\n",
    "            MPC1_u_upper[kk = 1:ndrto,uu = 1:m], (uMax[1] - uref[1]) - uMPC[1,kk,uu]\n",
    "            MPC1_u_lower[kk = 1:ndrto,uu = 1:m], uMPC[1,kk,uu] - (uMin[1] - uref[1])\n",
    "            # MPC2\n",
    "            cfT_c2_1, (mpc2['Ψ']*[xMPC[2,1];de[2,1]] .- (ysp[2,1] - yref[2]))'*mpc2['Q']*mpc2['Θ'] - (u_0[2] - uref[2])*mpc2['I']'*mpc2['R']*mpc2['M']\n",
    "            cfT_c2[kk=2:ndrto], (mpc2['Ψ']*[xMPC[2,kk];de[2,kk]] .- (ysp[2,kk] - yref[2]))'*mpc2['Q']*mpc2['Θ'] - uMPC[2,kk - 1,1]*mpc2['I']'*mpc2['R']*mpc2['M']\n",
    "            # Input bounds\n",
    "            MPC2_u_upper[kk = 1:ndrto,uu = 1:m], (uMax[2] - uref[2]) - uMPC[2,kk,uu]\n",
    "            MPC2_u_lower[kk = 1:ndrto,uu = 1:m], uMPC[2,kk,uu] - (uMin[2] - uref[2])\n",
    "    end)\n",
    "\n",
    "    @constraints(model_sub, begin\n",
    "            #############\n",
    "            # MPC model #\n",
    "            #############\n",
    "            # MPC1\n",
    "            MPC1_dyn_model_1, xMPC[1,1] == mpc1['A']*xMPC_0[1] + mpc1['B']*(u_0[1] - uref[1])\n",
    "            MPC1_dyn_model[kk = 1:(ndrto - 1)], xMPC[1,kk + 1] == mpc1['A']*xMPC[1,kk] + mpc1['B']*uMPC[1,kk,1]\n",
    "            MPC1_model_dev[kk=1:ndrto], de[1,kk] == (T[1,kk,ncp] - yref[1]) - xMPC[1,kk]\n",
    "            # MPC12\n",
    "            MPC2_dyn_model_1, xMPC[2,1] == mpc2['A']*xMPC_0[2] + mpc2['B']*(u_0[2] - uref[2])\n",
    "            MPC2_dyn_model[kk = 1:(ndrto - 1)], xMPC[2,kk + 1] == mpc2['A']*xMPC[2,kk] + mpc2['B']*uMPC[2,kk,1]\n",
    "            MPC2_model_dev[kk=1:ndrto], de[2,kk] == (T[2,kk,ncp] - yref[2]) - xMPC[2,kk]\n",
    "            ################\n",
    "            # MPC solution #\n",
    "            ################\n",
    "            # MPC 1\n",
    "            # stationarity\n",
    "            MPC1_sol_sta_1, uMPC[1,1,:]'*mpc1['H'] + cfT_c1_1 +  mu_g[1,1,:]'*conMatrix .== 0\n",
    "            MPC1_sol_sta[kk=2:ndrto], uMPC[1,kk,:]'*mpc1['H'] + cfT_c1[kk] +  mu_g[1,kk,:]'*conMatrix .== 0\n",
    "            # primal feasibility\n",
    "            MPC1_sol_feas_ub[kk = 1:ndrto,uu = 1:m], MPC1_u_upper[kk,uu] ≥ 0\n",
    "            MPC1_sol_feas_lb[kk = 1:ndrto,uu = 1:m], MPC1_u_lower[kk,uu] ≥ 0\n",
    "            # dual feasibility (already defined above)\n",
    "            # complementarity constraint (defined below since it is nonlinear)\n",
    "            # MPC 2\n",
    "            # stationarity\n",
    "            MPC2_sol_sta_1, uMPC[2,1,:]'*mpc2['H'] + cfT_c2_1 +  mu_g[2,1,:]'*conMatrix .== 0\n",
    "            MPC2_sol_sta[kk=2:ndrto], uMPC[2,kk,:]'*mpc2['H'] + cfT_c2[kk] +  mu_g[2,kk,:]'*conMatrix .== 0\n",
    "            # primal feasibility\n",
    "            MPC2_sol_feas_ub[kk = 1:ndrto,uu = 1:m], MPC2_u_upper[kk,uu] ≥ 0\n",
    "            MPC2_sol_feas_lb[kk = 1:ndrto,uu = 1:m], MPC2_u_lower[kk,uu] ≥ 0\n",
    "            # dual feasibility (already defined above)\n",
    "            # complementarity constraint (defined below since it is nonlinear)      \n",
    "    end)\n",
    "    \n",
    "    @NLconstraints(model_sub, begin\n",
    "            # MPC 1 \n",
    "            # complementarity constraint\n",
    "            MPC1_sol_cc_ub[kk = 1:ndrto,uu = 1:m], mu_g[1,kk,uu]*MPC1_u_upper[kk,uu] ≤ epsCC[uu]\n",
    "            MPC1_sol_cc_lb[kk = 1:ndrto,uu = 1:m], mu_g[1,kk,m + uu]*MPC1_u_lower[kk,uu] ≤ epsCC[m + uu]    \n",
    "\n",
    "            # MPC 2\n",
    "            # complementarity constraint\n",
    "            MPC2_sol_cc_ub[kk = 1:ndrto,uu = 1:m], mu_g[2,kk,uu]*MPC2_u_upper[kk,uu] ≤ epsCC[uu]\n",
    "            MPC2_sol_cc_lb[kk = 1:ndrto,uu = 1:m], mu_g[2,kk,m + uu]*MPC2_u_lower[kk,uu] ≤ epsCC[m + uu] \n",
    "    end)\n",
    "    \n",
    "    @constraints(model_sub, begin   \n",
    "            #######################\n",
    "            # PROCESS CONSTRAINTS #\n",
    "            #######################\n",
    "            # ! Enforcing only at the end of the finite element\n",
    "            # safety restrictions\n",
    "            g1[rt = 1:nrt, kk = 1:ndrto], T[rt,kk,ncp] - Tr_max ≤ 0\n",
    "            # product specifications (Concentration of A in reactor 2)\n",
    "            g2[kk = 1:ndrto], C[1,2,kk,ncp] - cA2_max ≤ 0\n",
    "            # feed supply limitations\n",
    "            g3[kk = 1:ndrto], Q[1,kk] + Qm[kk] - Qf_max ≤ 0\n",
    "            # process limitations (others have been included when declaring variables): max cooling water outlet temperature\n",
    "            g4[rt = 1:nrt, kk = 1:ndrto], Tj_out[rt,kk,ncp] - Tj_max[rt] ≤ 0    \n",
    "            ############################\n",
    "            # OPTIMIZATION CONSTRAINTS #\n",
    "            ############################\n",
    "            # connecting the MPC solution to the DRTO model (only the first element of the MV* is implemented)\n",
    "            h1[kk = 1:ndrto], (uMPC[1,kk,1] + uref[1]) - Q[1,kk] == 0\n",
    "            h2[kk = 1:ndrto], (uMPC[2,kk,1] + uref[2]) - Qm[kk] == 0\n",
    "            ##################################\n",
    "            # NON-ANTICIPATIVITY CONSTRAINTS # <- fixed in master problem\n",
    "            ##################################\n",
    "            nonAnt_c1[kk=1:Δdrto], ysp[1,kk] - yspFixed[1,kk] == 0.0\n",
    "            nonAnt_c2[kk=1:Δdrto], ysp[2,kk] - yspFixed[2,kk] == 0.0\n",
    "            ##############    \n",
    "            # PARAMETERS #\n",
    "            ##############\n",
    "            p1[co = 1:nc,kk = 1:ndrto,jj = 1:ncp], C_in[co,1,kk,jj] - C1_in[co] == 0\n",
    "            p2[kk = 1:ndrto,jj = 1:ncp], T_in[1,kk,jj] - T1_in == 0\n",
    "        end)\n",
    "    \n",
    "    # Set up objective function  \n",
    "    @NLobjective(model_sub, Min, -pScen*J[ndrto,ncp])\n",
    "    \n",
    "    #################\n",
    "    # Solve Problem #\n",
    "    #################    \n",
    "    optimize!(model_sub)\n",
    "    \n",
    "    # solution time\n",
    "    timeSol = solve_time(model_sub)\n",
    "    \n",
    "    status = termination_status(model_sub)\n",
    "    #display(status)\n",
    "    \n",
    "    # checking if there is a solution to the problem\n",
    "    if status == MOI.ALMOST_LOCALLY_SOLVED || status == MOI.LOCALLY_SOLVED\n",
    "        # Proved optimality or Optimal within relaxed tolerances\n",
    "        # we add an optimality cut\n",
    "        flag = 1\n",
    "        # #primal_status(m)\n",
    "\n",
    "        #calling values of the solved problem\n",
    "        ϕ = objective_value(model_sub)\n",
    "        yspArray = value.(ysp)\n",
    "        CArray = value.(C)\n",
    "        TArray = value.(T)\n",
    "        TjArray = value.(Tj_out)\n",
    "        TinArray = value.(T_in)\n",
    "        QArray = value.(Q)\n",
    "        QmArray = value.(Qm)\n",
    "\n",
    "        muArray = value.(mu_g)\n",
    "        \n",
    "        # lagrange multipliers associated with the nonantecipativity constraints\n",
    "        λ1 = dual.(nonAnt_c1)\n",
    "        λ2 = dual.(nonAnt_c2)\n",
    "        \n",
    "        outputDict = Dict('ϕ' => ϕ,\n",
    "                        't' => timeSol,\n",
    "                        'f' => flag, \n",
    "                        'a' => status,\n",
    "                        's' => yspArray,\n",
    "                        'Q' => QArray,\n",
    "                        'M' => QmArray,\n",
    "                        'C' => CArray,\n",
    "                        'T' => TArray, \n",
    "                        'J' => TjArray,\n",
    "                        'I' => TinArray,\n",
    "                        'μ' => muArray,\n",
    "                        'λ' => λ1,\n",
    "                        'Λ' => λ2)\n",
    "        \n",
    "        return outputDict\n",
    "    else\n",
    "        #i.e. no feasible solution --> Add feasibility cut\n",
    "        #display(\"Feasibility cut: scenario $(scen)\")        \n",
    "        \n",
    "        # deleting input upper bounds\n",
    "        delete_upper_bound.(Q[1:nrt, 1:ndrto])\n",
    "        delete_upper_bound.(Qm[1:ndrto])\n",
    "        \n",
    "        # keep bounds and remove process contraints\n",
    "        delete.(model_sub, g1)\n",
    "        delete.(model_sub, g2)\n",
    "        delete.(model_sub, g3)\n",
    "        delete.(model_sub, g4)\n",
    "\n",
    "        unregister(model_sub, :g1)\n",
    "        unregister(model_sub, :g2)\n",
    "        unregister(model_sub, :g3)\n",
    "        unregister(model_sub, :g4)\n",
    "        \n",
    "        # remove relaxed complementarity constraints\n",
    "        delete.(model_sub, MPC1_sol_cc_ub)\n",
    "        delete.(model_sub, MPC1_sol_cc_lb)\n",
    "        delete.(model_sub, MPC2_sol_cc_ub)\n",
    "        delete.(model_sub, MPC2_sol_cc_lb)\n",
    "        \n",
    "        unregister(model_sub, :MPC1_sol_cc_ub)\n",
    "        unregister(model_sub, :MPC1_sol_cc_lb)\n",
    "        unregister(model_sub, :MPC2_sol_cc_ub)\n",
    "        unregister(model_sub, :MPC2_sol_cc_lb)\n",
    "        \n",
    "        ####################\n",
    "        # Set up variables #\n",
    "        #################### \n",
    "        # slacks\n",
    "        @variable(model_sub, delta_Q[1:nrt,1:ndrto] ≥ 0.0)\n",
    "        @variable(model_sub, delta_Qm[1:ndrto] ≥ 0.0)\n",
    "        \n",
    "        @variable(model_sub, delta_g1[1:nrt,1:ndrto] ≥ 0.0)\n",
    "        @variable(model_sub, delta_g2[1:ndrto] ≥ 0.0)\n",
    "        @variable(model_sub, delta_g3[1:ndrto] ≥ 0.0)\n",
    "        @variable(model_sub, delta_g4[1:nrt,1:ndrto] ≥ 0.0)\n",
    "        \n",
    "        @variable(model_sub, delta_c1_ccub[1:ndrto,1:m] ≥ 0.0)\n",
    "        @variable(model_sub, delta_c1_cclb[1:ndrto,1:m] ≥ 0.0)\n",
    "        \n",
    "        @variable(model_sub, delta_c2_ccub[1:ndrto,1:m] ≥ 0.0)\n",
    "        @variable(model_sub, delta_c2_cclb[1:ndrto,1:m] ≥ 0.0)\n",
    "        \n",
    "        ###########################\n",
    "        # Always-feasible problem #\n",
    "        ###########################\n",
    "        @constraint(model_sub, soft_Q[rt = 1:nrt, kk = 1:ndrto], Q[rt,kk] - Qf_max == delta_Q[rt,kk])\n",
    "        @constraint(model_sub, soft_Qm[kk = 1:ndrto], Qm[kk] - Qf_max == delta_Qm[kk])\n",
    "        \n",
    "        @constraint(model_sub, soft_g1[rt = 1:nrt, kk = 1:ndrto], T[rt,kk,ncp] - Tr_max == delta_g1[rt,kk])\n",
    "        @constraint(model_sub, soft_g2[kk = 1:ndrto], C[1,2,kk,ncp] - cA2_max == delta_g2[kk])\n",
    "        @constraint(model_sub, soft_g3[kk = 1:ndrto], Q[1,kk] + Qm[kk] - Qf_max == delta_g3[kk])\n",
    "        @constraint(model_sub, soft_g4[rt = 1:nrt, kk = 1:ndrto], Tj_out[rt,kk,ncp] - Tj_max[rt] == delta_g4[rt,kk])\n",
    "\n",
    "        # complementarity constraint\n",
    "        # MPC 1\n",
    "        @constraint(model_sub, MPC1_sol_cc_ub[kk = 1:ndrto,uu = 1:m], mu_g[1,kk,uu]*MPC1_u_upper[kk,uu] == delta_c1_ccub[kk,uu])\n",
    "        @constraint(model_sub, MPC1_sol_cc_lb[kk = 1:ndrto,uu = 1:m], mu_g[1,kk,m + uu]*MPC1_u_lower[kk,uu] == delta_c1_cclb[kk,uu])\n",
    "        # MPC 2\n",
    "        @constraint(model_sub, MPC2_sol_cc_ub[kk = 1:ndrto,uu = 1:m], mu_g[2,kk,uu]*MPC2_u_upper[kk,uu] == delta_c2_ccub[kk,uu])\n",
    "        @constraint(model_sub, MPC2_sol_cc_lb[kk = 1:ndrto,uu = 1:m], mu_g[2,kk,m + uu]*MPC2_u_lower[kk,uu] == delta_c2_cclb[kk,uu])\n",
    "        \n",
    "       #############################\n",
    "        # Set up objective function #\n",
    "        #############################\n",
    "        # Modifying the objective --> call @objective with the new objective function.\n",
    "        # minimizing constraint violation - l1 penalty!\n",
    "        @objective(model_sub, Min, \n",
    "            sum(delta_Qm[kk] + delta_g2[kk] + delta_g3[kk] + \n",
    "                sum(delta_Q[rt,kk] + delta_g1[rt,kk] + delta_g4[rt,kk] for rt in 1:nrt) + \n",
    "                sum(delta_c1_ccub[kk,uu] + delta_c1_cclb[kk,uu] + delta_c2_ccub[kk,uu] + delta_c2_cclb[kk,uu] for uu in 1:m)\n",
    "                for kk in 1:ndrto)\n",
    "            )\n",
    "        \n",
    "        #@show sub\n",
    "        # re-optimizing (now using the always feasible problem)\n",
    "        optimize!(model_sub)\n",
    "        \n",
    "        # objective function of the feasibility problem\n",
    "        o = objective_value(model_sub)\n",
    "\n",
    "        # solution time (adding time to solve the always feasible subproblem)\n",
    "        timeSol = solve_time(model_sub)\n",
    "        \n",
    "        # checking status of the solution\n",
    "        status_sub = termination_status(model_sub)\n",
    "        \n",
    "        # flag for calling feasibility cuts (not optimality cuts)\n",
    "        flag = 0\n",
    "        \n",
    "        #calling values of the solved problem\n",
    "        yspArray = value.(ysp)\n",
    "        QArray = value.(Q)\n",
    "        QmArray = value.(Qm)\n",
    "        CArray = value.(C)\n",
    "        TArray = value.(T)\n",
    "        TinArray = value.(T_in)\n",
    "        TjArray = value.(Tj_out)\n",
    "        muArray = value.(mu_g)\n",
    "        \n",
    "        #slacks\n",
    "#         dQ = value.(delta_Q)\n",
    "#         dQm = value.(delta_Qm)\n",
    "#         temp1 = sum(dQm[kk] + sum(dQ[rt,kk] for rt in 1:nrt) for kk in 1:ndrto)\n",
    "#         display(\"DB: Input slacks sum: $(temp1)\")\n",
    "#         dg1 = value.(delta_g1)\n",
    "#         dg2 = value.(delta_g2)\n",
    "#         dg3 = value.(delta_g3)\n",
    "#         dg4 = value.(delta_g4)\n",
    "#         temp2 = sum(dg2[kk] + dg3[kk] + sum(dg1[rt,kk] + dg4[rt,kk] for rt in 1:nrt) for kk in 1:ndrto)\n",
    "#         display(\"DB: Constraint slacks sum: $(temp2)\")\n",
    "        \n",
    "#         dc1_ub = value.(delta_c1_ccub)\n",
    "#         dc1_lb = value.(delta_c1_cclb)\n",
    "#         temp3 = sum(sum(dc1_ub[kk,uu] + dc1_lb[kk,uu] for uu in 1:m) for kk in 1:ndrto)\n",
    "#         display(\"DB: MPC1 slacks sum: $(temp3)\")\n",
    "        \n",
    "#         dc2_ub = value.(delta_c2_ccub)\n",
    "#         dc2_lb = value.(delta_c2_cclb)\n",
    "#         temp4 = sum(sum(dc2_ub[kk,uu] + dc2_lb[kk,uu] for uu in 1:m) for kk in 1:ndrto)\n",
    "#         display(\"DB: MPC2 slacks sum: $(temp4)\")\n",
    "        \n",
    "        # lagrange multipliers associated with the nonantecipativity constraints\n",
    "        λ1 = dual.(nonAnt_c1)\n",
    "        λ2 = dual.(nonAnt_c2)\n",
    "        \n",
    "        outputDict = Dict('ϕ' => o,\n",
    "                        't' => timeSol,\n",
    "                        'f' => flag, \n",
    "                        'a' => status_sub,\n",
    "                        's' => yspArray,\n",
    "                        'Q' => QArray,\n",
    "                        'M' => QmArray,\n",
    "                        'C' => CArray,\n",
    "                        'T' => TArray, \n",
    "                        'J' => TjArray,\n",
    "                        'I' => TinArray,\n",
    "                        'μ' => muArray,\n",
    "                        'λ' => λ1,\n",
    "                        'Λ' => λ2)\n",
    "        \n",
    "        return outputDict\n",
    "    end\n",
    "end;"
   ]
  },
  {
   "cell_type": "markdown",
   "id": "1690f637",
   "metadata": {},
   "source": [
    "- Modeling Master problem"
   ]
  },
  {
   "cell_type": "code",
   "execution_count": 14,
   "id": "21389f30",
   "metadata": {},
   "outputs": [],
   "source": [
    "## Modeling Benders Decompostion\n",
    "function BENS_CLDRTO(C_0,T_0,u_0,xMPC_0,UaTemp,ns,solNom)\n",
    "    ###########\n",
    "    # inputs: #(xInit,uInit,nReac,nScen,pScen,solNom,option)\n",
    "    ###########\n",
    "    # C_0, T_0 - concentration and temperature states at the current iteration (beginning of DRTO horizon)\n",
    "    # u_0 - current input implemented in the plant\n",
    "    # xMPC_0 - current MPC states\n",
    "    # UaTemp - vector containing all the values of the uncertain parameter (Ua[1]) and Ua[2]\n",
    "    # ns - number of scenarios\n",
    "    # solNom - nominal solution\n",
    "    \n",
    "    # Assuming equiprobable scenarios\n",
    "    pScen = 1.0/ns\n",
    "    \n",
    "    # flag for checking if last cut was opt. (1) or feas. (0)\n",
    "    flagO = 1\n",
    "    \n",
    "    # timing solution via Benders\n",
    "    timeSolBen = 0 \n",
    "    # timing solution via parallel Benders\n",
    "    timeSolParBen = 0 \n",
    "    \n",
    "    # Define master problem model\n",
    "    master = Model(Ipopt.Optimizer)\n",
    "    set_silent(master)\n",
    "    \n",
    "    #lower bound on scenario objective function approximation \n",
    "    alpha_down = -1060; # o_nom = -1020.9613426462117\n",
    "    \n",
    "    # defining temp solution to avoid loop's scope\n",
    "     ysp_nonⁱ = Matrix{Float64}(undef,2,Δdrto)\n",
    "    \n",
    "    ####################\n",
    "    # Set up variables #\n",
    "    ####################\n",
    "    # setpoints for the controllers sent to the plant\n",
    "    @variable(master, yspMin[nct] ≤ ysp[nct = 1:numpc,1:Δdrto] ≤ yspMax[nct])\n",
    "    @variable(master, α ≥ alpha_down)\n",
    "    \n",
    "    ################################################\n",
    "    # Solving problem with benders' decomposition  #\n",
    "    ################################################\n",
    "    for ii in 1:benIterMax\n",
    "        \n",
    "        ########################\n",
    "        # Set up initial guess #\n",
    "        ########################\n",
    "        if ii == 1 # use nominal solution\n",
    "            if solNom isa Dict\n",
    "                for kk in 1:Δdrto\n",
    "                    set_start_value(ysp[1,kk], solNom['s'][1,kk,1])\n",
    "                    set_start_value(ysp[2,kk], solNom['s'][2,kk,1])\n",
    "                end \n",
    "            end \n",
    "        else # use previous solution\n",
    "            for kk in 1:Δdrto\n",
    "                set_start_value(ysp[1,kk],  ysp_nonⁱ[1,kk])\n",
    "                set_start_value(ysp[2,kk],  ysp_nonⁱ[2,kk])\n",
    "            end \n",
    "        end\n",
    "           \n",
    "        #############################\n",
    "        # Set up objective function #\n",
    "        #############################\n",
    "        # \"nudge\" next solution towards nominal solution (working = 1e-4)\n",
    "        @objective(master, Min, α + 1e-2*sum(sum((ysp[nct,kk] - solNom['s'][nct,kk,1])^2 for nct = 1:numpc) for kk in 1:Δdrto))\n",
    "        \n",
    "        # solve master problem (with Benders' cut)\n",
    "        optimize!(master)\n",
    "\n",
    "        # solution time\n",
    "        timeSolMaster = solve_time(master)\n",
    "        # extracting solution for the non-anticipativity constraints\n",
    "        ysp_nonⁱ = value.(ysp) \n",
    "        \n",
    "        # Master problem solution: lower bound of the original problem\n",
    "        lb = value(α)\n",
    "        # = objective_value(master) - 0.0005*sum(sum((ysp_nonⁱ[nct,kk] - solNom['s'][nct,kk,1])^2 for nct = 1:numpc) for kk in 1:Δdrto)\n",
    "        \n",
    "        timeSolBen = timeSolBen + timeSolMaster\n",
    "        timeSolParBen = timeSolParBen + timeSolMaster # master cannot be paralellized \n",
    "\n",
    "        #######################\n",
    "        # Solving subproblems #\n",
    "        #######################\n",
    "        # objective function\n",
    "        o_temp = Vector{Float64}(undef,ns)\n",
    "        # flag optimality / feasibility\n",
    "        flag_temp = Vector{Float64}(undef,ns)\n",
    "        # solution time\n",
    "        solTime_temp = Vector{Float64}(undef,ns)\n",
    "        # multipliers\n",
    "        lambdaN_C1_temp = Matrix{Float64}(undef,Δdrto,ns) \n",
    "        lambdaN_C2_temp = Matrix{Float64}(undef,Δdrto,ns)\n",
    "        \n",
    "        for ss in 1:ns\n",
    "            dicTemp = subp(ysp_nonⁱ,C_0,T_0,u_0,xMPC_0,UaTemp[:,ss],pScen,solNom)\n",
    "\n",
    "            # saving files\n",
    "            # objective function\n",
    "            o_temp[ss] = dicTemp['ϕ']\n",
    "            # solution time\n",
    "            solTime_temp[ss] = dicTemp['t']\n",
    "            # optimality / feasibility flag\n",
    "            flag_temp[ss] = dicTemp['f']\n",
    "            # multiplier\n",
    "            for kk in 1:Δdrto\n",
    "                lambdaN_C1_temp[kk,ss] = dicTemp['λ'][kk]\n",
    "                lambdaN_C2_temp[kk,ss] = dicTemp['Λ'][kk]\n",
    "            end\n",
    "            \n",
    "        end\n",
    "        \n",
    "        ##########################################################\n",
    "        # If all subproblems were feasible, check optimality gap #\n",
    "        ##########################################################\n",
    "        if sum(flag_temp) == ns \n",
    "            # Subproblem solution: upper bound of the original problem\n",
    "            ub = sum(o_temp)\n",
    "\n",
    "            # solve subproblems to find the upper bound of the original problem solution \n",
    "            timeSolBen = timeSolBen + sum(solTime_temp)\n",
    "\n",
    "            # assuming that subproblem solution is parallelized\n",
    "            timeSolParBen = timeSolParBen + maximum(solTime_temp)   \n",
    "            \n",
    "            # compute optimality gap\n",
    "            gap = abs(ub - lb)/abs(ub)\n",
    "#            display(\"DB: opt. gap $(gap)\")\n",
    "\n",
    "            # check if optimality gap is small enough\n",
    "            # also, make sure last cut was an optimality cut due to change in OF \n",
    "            if gap < optGap && flagO == 1\n",
    "                global yspSol_dec = ysp_nonⁱ\n",
    "                global objFun_dec = ub\n",
    "                global optGap_dec = gap\n",
    "                global iter_dec = ii\n",
    "                global time_dec = timeSolBen\n",
    "                global time_max_dec = timeSolParBen\n",
    "                break\n",
    "            else # gap ≥ optGap \n",
    "                ##############################\n",
    "                # --> adding optimality cuts #\n",
    "                ##############################\n",
    "                display(\">>>>>> iteration $(ii):O\")\n",
    "                benderscutO = @constraint(master, α ≥ ub + \n",
    "                    sum(sum(lambdaN_C1_temp[jj,ss] for ss in 1:ns)*(ysp[1,jj] - ysp_nonⁱ[1,jj]) for jj in 1:Δdrto) +\n",
    "                    sum(sum(lambdaN_C2_temp[jj,ss] for ss in 1:ns)*(ysp[2,jj] - ysp_nonⁱ[2,jj]) for jj in 1:Δdrto)\n",
    "                )\n",
    "                #@info \"we are adding this bender optimality cut $(benderscutO)\"\n",
    "                \n",
    "                # optimality cut was add\n",
    "                flagO = 1\n",
    "            \n",
    "            end # if gap\n",
    "        else # sum(flag_temp) != nScen\n",
    "            ###############################\n",
    "            # --> adding feasibility cuts #\n",
    "            ###############################\n",
    "            display(\">>>>>> iteration $(ii):F\")\n",
    "            benderscutF = @constraint(master, 0 ≥\n",
    "                sum(sum(lambdaN_C1_temp[jj,ss] for ss in 1:ns)*(ysp[1,jj] - ysp_nonⁱ[1,jj]) for jj in 1:Δdrto) +\n",
    "                sum(sum(lambdaN_C2_temp[jj,ss] for ss in 1:ns)*(ysp[2,jj] - ysp_nonⁱ[2,jj]) for jj in 1:Δdrto)\n",
    "                )\n",
    "            #@info \"we are adding this bender feasibility cut $(benderscutF)\"\n",
    "            \n",
    "            # feasibility cut was add\n",
    "            flagO = 0\n",
    "            \n",
    "        end # if nScen\n",
    "        \n",
    "        # checking if number of iterations reached max \n",
    "        if ii < benIterMax\n",
    "            global yspSol_dec = [[NaN for kk=1:Δdrto] for rt=1:nrt]\n",
    "            global objFun_dec = NaN\n",
    "            global optGap_dec = NaN\n",
    "            global iter_dec = benIterMax\n",
    "            global time_dec = timeSolBen\n",
    "            global time_max_dec = timeSolParBen\n",
    "        end # if < benIterMax\n",
    "    end # if for benders iterations\n",
    "\n",
    "    #####################\n",
    "    # Extracting values #\n",
    "    #####################\n",
    "    if isnan(objFun_dec)\n",
    "        \n",
    "        outputFun = Dict('t' => timeSolBen,\n",
    "                         'ϕ' => objFun_dec,\n",
    "                         'τ' => time_max_dec, \n",
    "                         'i' => iter_dec,\n",
    "                         'd' => yspSol_dec,\n",
    "                         'g' => optGap_dec,\n",
    "                         'f' => 0)\n",
    "                        \n",
    "        \n",
    "        return outputFun\n",
    "        \n",
    "    else\n",
    "        QArray = Array{Float64}(undef,nrt,ndrto,ns)\n",
    "        QmArray = Matrix{Float64}(undef,ndrto,ns)\n",
    "        TArray = Array{Float64}(undef,nrt,ndrto,ncp,ns)\n",
    "        TjArray = Array{Float64}(undef,nrt,ndrto,ncp,ns)\n",
    "        yspArray = Array{Float64}(undef,numpc,ndrto,ns)\n",
    "\n",
    "        for ss in 1:ns\n",
    "            dicTemp = subp(yspSol_dec,C_0,T_0,u_0,xMPC_0,UaTemp[:,ss],pScen,solNom)\n",
    "\n",
    "            # saving files\n",
    "            QArray[:,:,ss] = dicTemp['Q']\n",
    "            QmArray[:,ss] = dicTemp['M']\n",
    "            TArray[:,:,:,ss] = dicTemp['T']\n",
    "            TjArray[:,:,:,ss] = dicTemp['J']\n",
    "            yspArray[:,:,ss] = dicTemp['s']\n",
    "        end\n",
    "\n",
    "        #calling values of the solved problem    \n",
    "        outputFun =  Dict('ϕ' => objFun_dec,\n",
    "                    't' => time_dec,\n",
    "                    'τ' => time_max_dec, \n",
    "                    'i' => iter_dec,\n",
    "                    'd' => yspSol_dec,\n",
    "                    'g' => optGap_dec,\n",
    "                    'Q' => QArray,\n",
    "                    'M' => QmArray,\n",
    "                    'T' => TArray, \n",
    "                    'J' => TjArray,\n",
    "                    's' => yspArray,\n",
    "                    'f' => 1)  \n",
    "        \n",
    "        return outputFun\n",
    "\n",
    "    end\n",
    "end;"
   ]
  },
  {
   "cell_type": "markdown",
   "id": "936e2232",
   "metadata": {},
   "source": [
    "<a id=\"subsec25\"></a>"
   ]
  },
  {
   "cell_type": "markdown",
   "id": "45f011c0",
   "metadata": {},
   "source": [
    "## Plant Model"
   ]
  },
  {
   "cell_type": "code",
   "execution_count": 15,
   "id": "8f95081a",
   "metadata": {},
   "outputs": [],
   "source": [
    "function twoCSTRS_dae!(dx, x, p, t)\n",
    "    CA1,CB1,CC1,T1,Tj1_out,CA2,CB2,CC2,T2,Tj2_out = x\n",
    "    Q1,Qm,UaPlant = p\n",
    "    \n",
    "    # reactor 1\n",
    "    dx[1] = (C1_in[1] - CA1)*Q1/V[1] - k0[1]*exp(-ER[1]/T1)*CA1 \n",
    "    dx[2] = (C1_in[2] - CB1)*Q1/V[1] + k0[1]*exp(-ER[1]/T1)*CA1 - k0[2]*exp(-ER[2]/T1)*CB1\n",
    "    dx[3] = (C1_in[3] - CC1)*Q1/V[1] + k0[2]*exp(-ER[2]/T1)*CB1\n",
    "    dx[4] = (T1_in - T1)*Q1/V[1] - dH_pcp[1]*k0[1]*exp(-ER[1]/T1)*CA1 - dH_pcp[2]*k0[2]*exp(-ER[2]/T1)*CB1 - UaPlant*(T1 - (0.5*(Tj1_out + Tj_in[1])))/V[1]\n",
    "    dx[5] = Qj_in[1]*(Tj1_out - Tj_in[1]) - UaPlant*(T1 - (0.5*(Tj1_out + Tj_in[1])))\n",
    "    # reactor 2\n",
    "    dx[6] = ((Q1*CA1 + Qm*Cm_in[1])/(Q1 + Qm) - CA2)*(Q1 + Qm)/V[2] - k0[1]*exp(-ER[1]/T2)*CA2 \n",
    "    dx[7] = ((Q1*CB1 + Qm*Cm_in[2])/(Q1 + Qm) - CB2)*(Q1 + Qm)/V[2] + k0[1]*exp(-ER[1]/T2)*CA2 - k0[2]*exp(-ER[2]/T2)*CB2 \n",
    "    dx[8] = ((Q1*CC1 + Qm*Cm_in[3])/(Q1 + Qm) - CC2)*(Q1 + Qm)/V[2] + k0[2]*exp(-ER[2]/T2)*CB2 \n",
    "    dx[9] = ((Q1*T1 + Qm*Tm_in)/(Q1 + Qm) - T2)*(Q1 + Qm)/V[2] - dH_pcp[1]*k0[1]*exp(-ER[1]/T2)*CA2 - dH_pcp[2]*k0[2]*exp(-ER[2]/T2)*CB2 - Ua[2]*(T2 - (0.5*(Tj2_out + Tj_in[2])))/V[2]\n",
    "    dx[10] = Qj_in[2]*(Tj2_out - Tj_in[2]) - Ua[2]*(T2 - (0.5*(Tj2_out + Tj_in[2])))\n",
    "    \n",
    "    nothing\n",
    "end\n",
    "\n",
    "# mass matrix to determine algebraic equations\n",
    "M = [1. 0 0 0 0 0 0 0 0 0;\n",
    "     0 1. 0 0 0 0 0 0 0 0;\n",
    "     0 0 1. 0 0 0 0 0 0 0;\n",
    "     0 0 0 1. 0 0 0 0 0 0;\n",
    "     0 0 0 0 0 0 0 0 0 0;\n",
    "     0 0 0 0 0 1. 0 0 0 0;\n",
    "     0 0 0 0 0 0 1. 0 0 0;\n",
    "     0 0 0 0 0 0 0 1. 0 0;\n",
    "     0 0 0 0 0 0 0 0 1. 0;\n",
    "     0 0 0 0 0 0 0 0 0 0]\n",
    "\n",
    "ode_fun_mm = ODEFunction(twoCSTRS_dae!,mass_matrix=M);"
   ]
  },
  {
   "cell_type": "markdown",
   "id": "764a6337",
   "metadata": {},
   "source": [
    "<a id=\"sec3\"></a>"
   ]
  },
  {
   "cell_type": "markdown",
   "id": "7dbb9c4b",
   "metadata": {},
   "source": [
    "# Implementing CL-DRTO in closed loop with the plant\n",
    "\n",
    "Here we run a Monte Carlo Analysis of the CL-DRTO results. The uncertain parameter value is drawn at each MC iteration and the DRTO has access to the lower and upper bound of that distribution to create the scenarios. "
   ]
  },
  {
   "cell_type": "markdown",
   "id": "b5c4412f",
   "metadata": {},
   "source": [
    "Getting the solution for the nominal scenario"
   ]
  },
  {
   "cell_type": "code",
   "execution_count": 16,
   "id": "4697c3ee",
   "metadata": {},
   "outputs": [],
   "source": [
    "# building MPC's\n",
    "# reactor 1 MPC: T1 <-> Q1\n",
    "mpc1 = MPC_matrices(a1_hat,b1_hat,1,p,m,q,r[1])\n",
    "# reactor 2 MPC: T2 <-> Qm\n",
    "mpc2 = MPC_matrices(a2_hat,b2_hat,1,p,m,q,r[2]);"
   ]
  },
  {
   "cell_type": "code",
   "execution_count": 17,
   "id": "a5cd27ad",
   "metadata": {},
   "outputs": [],
   "source": [
    "# Monte Carlo iterations\n",
    "n_MC = 2\n",
    "\n",
    "# Simulation time in sampling periods\n",
    "nsim = 40\n",
    "\n",
    "# number of scenarios\n",
    "nS_MC = 3 \n",
    "\n",
    "# creating uncertain parameter array\n",
    "pTemp = LinRange(pNom - deltaPar,pNom + deltaPar, nS_MC)\n",
    "pUnc = [pTemp'; Ua[2]*ones(1,nS_MC)]\n",
    "\n",
    "#equiprobable scenarios\n",
    "pS_MC = 1.0/nS_MC\n",
    "\n",
    "# Extracting solution for plotting --> monolithic vs. decomposed \n",
    "TrPlant = Array{Float64}(undef,nrt,nsim,n_MC,2)\n",
    "TjPlant = Array{Float64}(undef,nrt,nsim,n_MC,2)\n",
    "QPlant = Array{Float64}(undef,nsim,n_MC,2)\n",
    "QmPlant = Array{Float64}(undef,nsim,n_MC,2)\n",
    "yspPlant = Array{Float64}(undef,nrt,nsim,n_MC,2)\n",
    "flagCLDRTO = Array{Float64}(undef,nsim,n_MC,2);"
   ]
  },
  {
   "cell_type": "markdown",
   "id": "7b8caf7d",
   "metadata": {},
   "source": [
    "## Plant simulation"
   ]
  },
  {
   "cell_type": "code",
   "execution_count": 18,
   "id": "25278aaa",
   "metadata": {},
   "outputs": [
    {
     "name": "stdout",
     "output_type": "stream",
     "text": [
      "\n",
      "******************************************************************************\n",
      "This program contains Ipopt, a library for large-scale nonlinear optimization.\n",
      " Ipopt is released as open source code under the Eclipse Public License (EPL).\n",
      "         For more information visit https://github.com/coin-or/Ipopt\n",
      "******************************************************************************\n",
      "\n",
      "MC: 1>> Time: 1\n"
     ]
    },
    {
     "data": {
      "text/plain": [
       "\"Solution found\""
      ]
     },
     "metadata": {},
     "output_type": "display_data"
    },
    {
     "name": "stdout",
     "output_type": "stream",
     "text": [
      "MC: 1>> Time: 2\n",
      "MC: 1>> Time: 3\n",
      "MC: 1>> Time: 4\n"
     ]
    },
    {
     "data": {
      "text/plain": [
       "\"Nominal solution found\""
      ]
     },
     "metadata": {},
     "output_type": "display_data"
    },
    {
     "data": {
      "text/plain": [
       "\"Solution found\""
      ]
     },
     "metadata": {},
     "output_type": "display_data"
    },
    {
     "name": "stdout",
     "output_type": "stream",
     "text": [
      "MC: 1>> Time: 5\n",
      "MC: 1>> Time: 6\n",
      "MC: 1>> Time: 7\n",
      "MC: 1>> Time: 8\n"
     ]
    },
    {
     "data": {
      "text/plain": [
       "\"Nominal solution found\""
      ]
     },
     "metadata": {},
     "output_type": "display_data"
    },
    {
     "data": {
      "text/plain": [
       "\"Solution found\""
      ]
     },
     "metadata": {},
     "output_type": "display_data"
    },
    {
     "name": "stdout",
     "output_type": "stream",
     "text": [
      "MC: 1>> Time: 9\n",
      "MC: 1>> Time: 10\n",
      "MC: 1>> Time: 11\n",
      "MC: 1>> Time: 12\n"
     ]
    },
    {
     "data": {
      "text/plain": [
       "\"Nominal solution found\""
      ]
     },
     "metadata": {},
     "output_type": "display_data"
    },
    {
     "data": {
      "text/plain": [
       "\"Solution found\""
      ]
     },
     "metadata": {},
     "output_type": "display_data"
    },
    {
     "name": "stdout",
     "output_type": "stream",
     "text": [
      "MC: 1>> Time: 13\n",
      "MC: 1>> Time: 14\n",
      "MC: 1>> Time: 15\n",
      "MC: 1>> Time: 16\n"
     ]
    },
    {
     "data": {
      "text/plain": [
       "\"Nominal solution found\""
      ]
     },
     "metadata": {},
     "output_type": "display_data"
    },
    {
     "data": {
      "text/plain": [
       "\"Solution found\""
      ]
     },
     "metadata": {},
     "output_type": "display_data"
    },
    {
     "name": "stdout",
     "output_type": "stream",
     "text": [
      "MC: 1>> Time: 17\n",
      "MC: 1>> Time: 18\n",
      "MC: 1>> Time: 19\n",
      "MC: 1>> Time: 20\n"
     ]
    },
    {
     "data": {
      "text/plain": [
       "\"Nominal solution found\""
      ]
     },
     "metadata": {},
     "output_type": "display_data"
    },
    {
     "data": {
      "text/plain": [
       "\"Solution found\""
      ]
     },
     "metadata": {},
     "output_type": "display_data"
    },
    {
     "name": "stdout",
     "output_type": "stream",
     "text": [
      "MC: 1>> Time: 21\n",
      "MC: 1>> Time: 22\n",
      "MC: 1>> Time: 23\n",
      "MC: 1>> Time: 24\n"
     ]
    },
    {
     "data": {
      "text/plain": [
       "\"Nominal solution found\""
      ]
     },
     "metadata": {},
     "output_type": "display_data"
    },
    {
     "data": {
      "text/plain": [
       "\"Solution found\""
      ]
     },
     "metadata": {},
     "output_type": "display_data"
    },
    {
     "name": "stdout",
     "output_type": "stream",
     "text": [
      "MC: 1>> Time: 25\n",
      "MC: 1>> Time: 26\n",
      "MC: 1>> Time: 27\n",
      "MC: 1>> Time: 28\n"
     ]
    },
    {
     "data": {
      "text/plain": [
       "\"Nominal solution found\""
      ]
     },
     "metadata": {},
     "output_type": "display_data"
    },
    {
     "data": {
      "text/plain": [
       "\"Solution found\""
      ]
     },
     "metadata": {},
     "output_type": "display_data"
    },
    {
     "name": "stdout",
     "output_type": "stream",
     "text": [
      "MC: 1>> Time: 29\n",
      "MC: 1>> Time: 30\n",
      "MC: 1>> Time: 31\n",
      "MC: 1>> Time: 32\n"
     ]
    },
    {
     "data": {
      "text/plain": [
       "\"Nominal solution found\""
      ]
     },
     "metadata": {},
     "output_type": "display_data"
    },
    {
     "data": {
      "text/plain": [
       "\"Solution found\""
      ]
     },
     "metadata": {},
     "output_type": "display_data"
    },
    {
     "name": "stdout",
     "output_type": "stream",
     "text": [
      "MC: 1>> Time: 33\n",
      "MC: 1>> Time: 34\n",
      "MC: 1>> Time: 35\n",
      "MC: 1>> Time: 36\n"
     ]
    },
    {
     "data": {
      "text/plain": [
       "\"Nominal solution found\""
      ]
     },
     "metadata": {},
     "output_type": "display_data"
    },
    {
     "data": {
      "text/plain": [
       "\"Solution found\""
      ]
     },
     "metadata": {},
     "output_type": "display_data"
    },
    {
     "name": "stdout",
     "output_type": "stream",
     "text": [
      "MC: 1>> Time: 37\n",
      "MC: 1>> Time: 38\n",
      "MC: 1>> Time: 39\n",
      "MC: 1>> Time: 40\n"
     ]
    },
    {
     "data": {
      "text/plain": [
       "\"Nominal solution found\""
      ]
     },
     "metadata": {},
     "output_type": "display_data"
    },
    {
     "data": {
      "text/plain": [
       "\"Solution found\""
      ]
     },
     "metadata": {},
     "output_type": "display_data"
    },
    {
     "name": "stdout",
     "output_type": "stream",
     "text": [
      "MC: 1>> Time: 1\n"
     ]
    },
    {
     "data": {
      "text/plain": [
       "\">>>>>> iteration 1:O\""
      ]
     },
     "metadata": {},
     "output_type": "display_data"
    },
    {
     "data": {
      "text/plain": [
       "\">>>>>> iteration 2:O\""
      ]
     },
     "metadata": {},
     "output_type": "display_data"
    },
    {
     "data": {
      "text/plain": [
       "\">>>>>> iteration 3:O\""
      ]
     },
     "metadata": {},
     "output_type": "display_data"
    },
    {
     "data": {
      "text/plain": [
       "\">>>>>> iteration 4:O\""
      ]
     },
     "metadata": {},
     "output_type": "display_data"
    },
    {
     "data": {
      "text/plain": [
       "\">>>>>> iteration 5:O\""
      ]
     },
     "metadata": {},
     "output_type": "display_data"
    },
    {
     "data": {
      "text/plain": [
       "\">>>>>> iteration 6:O\""
      ]
     },
     "metadata": {},
     "output_type": "display_data"
    },
    {
     "data": {
      "text/plain": [
       "\">>>>>> iteration 7:O\""
      ]
     },
     "metadata": {},
     "output_type": "display_data"
    },
    {
     "data": {
      "text/plain": [
       "\">>>>>> iteration 8:O\""
      ]
     },
     "metadata": {},
     "output_type": "display_data"
    },
    {
     "data": {
      "text/plain": [
       "\">>>>>> iteration 9:O\""
      ]
     },
     "metadata": {},
     "output_type": "display_data"
    },
    {
     "data": {
      "text/plain": [
       "\">>>>>> iteration 10:O\""
      ]
     },
     "metadata": {},
     "output_type": "display_data"
    },
    {
     "data": {
      "text/plain": [
       "\">>>>>> iteration 11:O\""
      ]
     },
     "metadata": {},
     "output_type": "display_data"
    },
    {
     "data": {
      "text/plain": [
       "\">>>>>> iteration 12:O\""
      ]
     },
     "metadata": {},
     "output_type": "display_data"
    },
    {
     "data": {
      "text/plain": [
       "\">>>>>> iteration 13:O\""
      ]
     },
     "metadata": {},
     "output_type": "display_data"
    },
    {
     "data": {
      "text/plain": [
       "\">>>>>> iteration 14:O\""
      ]
     },
     "metadata": {},
     "output_type": "display_data"
    },
    {
     "data": {
      "text/plain": [
       "\">>>>>> iteration 15:O\""
      ]
     },
     "metadata": {},
     "output_type": "display_data"
    },
    {
     "data": {
      "text/plain": [
       "\">>>>>> iteration 16:O\""
      ]
     },
     "metadata": {},
     "output_type": "display_data"
    },
    {
     "data": {
      "text/plain": [
       "\">>>>>> iteration 17:O\""
      ]
     },
     "metadata": {},
     "output_type": "display_data"
    },
    {
     "data": {
      "text/plain": [
       "\">>>>>> iteration 18:O\""
      ]
     },
     "metadata": {},
     "output_type": "display_data"
    },
    {
     "data": {
      "text/plain": [
       "\">>>>>> iteration 19:O\""
      ]
     },
     "metadata": {},
     "output_type": "display_data"
    },
    {
     "data": {
      "text/plain": [
       "\">>>>>> iteration 20:O\""
      ]
     },
     "metadata": {},
     "output_type": "display_data"
    },
    {
     "data": {
      "text/plain": [
       "\">>>>>> iteration 21:O\""
      ]
     },
     "metadata": {},
     "output_type": "display_data"
    },
    {
     "data": {
      "text/plain": [
       "\">>>>>> iteration 22:O\""
      ]
     },
     "metadata": {},
     "output_type": "display_data"
    },
    {
     "data": {
      "text/plain": [
       "\">>>>>> iteration 23:O\""
      ]
     },
     "metadata": {},
     "output_type": "display_data"
    },
    {
     "data": {
      "text/plain": [
       "\">>>>>> iteration 24:O\""
      ]
     },
     "metadata": {},
     "output_type": "display_data"
    },
    {
     "data": {
      "text/plain": [
       "\">>>>>> iteration 25:O\""
      ]
     },
     "metadata": {},
     "output_type": "display_data"
    },
    {
     "data": {
      "text/plain": [
       "\">>>>>> iteration 26:O\""
      ]
     },
     "metadata": {},
     "output_type": "display_data"
    },
    {
     "data": {
      "text/plain": [
       "\">>>>>> iteration 27:O\""
      ]
     },
     "metadata": {},
     "output_type": "display_data"
    },
    {
     "data": {
      "text/plain": [
       "\">>>>>> iteration 28:O\""
      ]
     },
     "metadata": {},
     "output_type": "display_data"
    },
    {
     "data": {
      "text/plain": [
       "\">>>>>> iteration 29:O\""
      ]
     },
     "metadata": {},
     "output_type": "display_data"
    },
    {
     "data": {
      "text/plain": [
       "\">>>>>> iteration 30:O\""
      ]
     },
     "metadata": {},
     "output_type": "display_data"
    },
    {
     "data": {
      "text/plain": [
       "\">>>>>> iteration 31:O\""
      ]
     },
     "metadata": {},
     "output_type": "display_data"
    },
    {
     "data": {
      "text/plain": [
       "\">>>>>> iteration 32:O\""
      ]
     },
     "metadata": {},
     "output_type": "display_data"
    },
    {
     "data": {
      "text/plain": [
       "\">>>>>> iteration 33:O\""
      ]
     },
     "metadata": {},
     "output_type": "display_data"
    },
    {
     "data": {
      "text/plain": [
       "\">>>>>> iteration 34:O\""
      ]
     },
     "metadata": {},
     "output_type": "display_data"
    },
    {
     "data": {
      "text/plain": [
       "\">>>>>> iteration 35:O\""
      ]
     },
     "metadata": {},
     "output_type": "display_data"
    },
    {
     "data": {
      "text/plain": [
       "\">>>>>> iteration 36:O\""
      ]
     },
     "metadata": {},
     "output_type": "display_data"
    },
    {
     "data": {
      "text/plain": [
       "\">>>>>> iteration 37:O\""
      ]
     },
     "metadata": {},
     "output_type": "display_data"
    },
    {
     "data": {
      "text/plain": [
       "\">>>>>> iteration 38:O\""
      ]
     },
     "metadata": {},
     "output_type": "display_data"
    },
    {
     "data": {
      "text/plain": [
       "\">>>>>> iteration 39:O\""
      ]
     },
     "metadata": {},
     "output_type": "display_data"
    },
    {
     "data": {
      "text/plain": [
       "\">>>>>> iteration 40:O\""
      ]
     },
     "metadata": {},
     "output_type": "display_data"
    },
    {
     "data": {
      "text/plain": [
       "\">>>>>> iteration 41:O\""
      ]
     },
     "metadata": {},
     "output_type": "display_data"
    },
    {
     "data": {
      "text/plain": [
       "\">>>>>> iteration 42:O\""
      ]
     },
     "metadata": {},
     "output_type": "display_data"
    },
    {
     "data": {
      "text/plain": [
       "\">>>>>> iteration 43:O\""
      ]
     },
     "metadata": {},
     "output_type": "display_data"
    },
    {
     "data": {
      "text/plain": [
       "\">>>>>> iteration 44:O\""
      ]
     },
     "metadata": {},
     "output_type": "display_data"
    },
    {
     "data": {
      "text/plain": [
       "\">>>>>> iteration 45:O\""
      ]
     },
     "metadata": {},
     "output_type": "display_data"
    },
    {
     "data": {
      "text/plain": [
       "\">>>>>> iteration 46:O\""
      ]
     },
     "metadata": {},
     "output_type": "display_data"
    },
    {
     "data": {
      "text/plain": [
       "\">>>>>> iteration 47:O\""
      ]
     },
     "metadata": {},
     "output_type": "display_data"
    },
    {
     "data": {
      "text/plain": [
       "\">>>>>> iteration 48:O\""
      ]
     },
     "metadata": {},
     "output_type": "display_data"
    },
    {
     "data": {
      "text/plain": [
       "\">>>>>> iteration 49:O\""
      ]
     },
     "metadata": {},
     "output_type": "display_data"
    },
    {
     "data": {
      "text/plain": [
       "\">>>>>> iteration 50:O\""
      ]
     },
     "metadata": {},
     "output_type": "display_data"
    },
    {
     "data": {
      "text/plain": [
       "\">>>>>> iteration 51:O\""
      ]
     },
     "metadata": {},
     "output_type": "display_data"
    },
    {
     "data": {
      "text/plain": [
       "\">>>>>> iteration 52:O\""
      ]
     },
     "metadata": {},
     "output_type": "display_data"
    },
    {
     "data": {
      "text/plain": [
       "\">>>>>> iteration 53:O\""
      ]
     },
     "metadata": {},
     "output_type": "display_data"
    },
    {
     "data": {
      "text/plain": [
       "\">>>>>> iteration 54:O\""
      ]
     },
     "metadata": {},
     "output_type": "display_data"
    },
    {
     "data": {
      "text/plain": [
       "\">>>>>> iteration 55:O\""
      ]
     },
     "metadata": {},
     "output_type": "display_data"
    },
    {
     "data": {
      "text/plain": [
       "\">>>>>> iteration 56:O\""
      ]
     },
     "metadata": {},
     "output_type": "display_data"
    },
    {
     "data": {
      "text/plain": [
       "\">>>>>> iteration 57:O\""
      ]
     },
     "metadata": {},
     "output_type": "display_data"
    },
    {
     "data": {
      "text/plain": [
       "\">>>>>> iteration 58:O\""
      ]
     },
     "metadata": {},
     "output_type": "display_data"
    },
    {
     "data": {
      "text/plain": [
       "\">>>>>> iteration 59:O\""
      ]
     },
     "metadata": {},
     "output_type": "display_data"
    },
    {
     "data": {
      "text/plain": [
       "\">>>>>> iteration 60:O\""
      ]
     },
     "metadata": {},
     "output_type": "display_data"
    },
    {
     "data": {
      "text/plain": [
       "\">>>>>> iteration 61:O\""
      ]
     },
     "metadata": {},
     "output_type": "display_data"
    },
    {
     "data": {
      "text/plain": [
       "\">>>>>> iteration 62:O\""
      ]
     },
     "metadata": {},
     "output_type": "display_data"
    },
    {
     "data": {
      "text/plain": [
       "\">>>>>> iteration 63:O\""
      ]
     },
     "metadata": {},
     "output_type": "display_data"
    },
    {
     "data": {
      "text/plain": [
       "\">>>>>> iteration 64:O\""
      ]
     },
     "metadata": {},
     "output_type": "display_data"
    },
    {
     "data": {
      "text/plain": [
       "\">>>>>> iteration 65:O\""
      ]
     },
     "metadata": {},
     "output_type": "display_data"
    },
    {
     "data": {
      "text/plain": [
       "\">>>>>> iteration 66:O\""
      ]
     },
     "metadata": {},
     "output_type": "display_data"
    },
    {
     "data": {
      "text/plain": [
       "\">>>>>> iteration 67:O\""
      ]
     },
     "metadata": {},
     "output_type": "display_data"
    },
    {
     "data": {
      "text/plain": [
       "\">>>>>> iteration 68:O\""
      ]
     },
     "metadata": {},
     "output_type": "display_data"
    },
    {
     "data": {
      "text/plain": [
       "\">>>>>> iteration 69:O\""
      ]
     },
     "metadata": {},
     "output_type": "display_data"
    },
    {
     "data": {
      "text/plain": [
       "\">>>>>> iteration 70:O\""
      ]
     },
     "metadata": {},
     "output_type": "display_data"
    },
    {
     "data": {
      "text/plain": [
       "\">>>>>> iteration 71:O\""
      ]
     },
     "metadata": {},
     "output_type": "display_data"
    },
    {
     "data": {
      "text/plain": [
       "\">>>>>> iteration 72:O\""
      ]
     },
     "metadata": {},
     "output_type": "display_data"
    },
    {
     "data": {
      "text/plain": [
       "\">>>>>> iteration 73:O\""
      ]
     },
     "metadata": {},
     "output_type": "display_data"
    },
    {
     "data": {
      "text/plain": [
       "\">>>>>> iteration 74:O\""
      ]
     },
     "metadata": {},
     "output_type": "display_data"
    },
    {
     "data": {
      "text/plain": [
       "\">>>>>> iteration 75:O\""
      ]
     },
     "metadata": {},
     "output_type": "display_data"
    },
    {
     "data": {
      "text/plain": [
       "\"Solution not found\""
      ]
     },
     "metadata": {},
     "output_type": "display_data"
    },
    {
     "name": "stdout",
     "output_type": "stream",
     "text": [
      "MC: 1>> Time: 2\n",
      "MC: 1>> Time: 3\n",
      "MC: 1>> Time: 4\n"
     ]
    },
    {
     "data": {
      "text/plain": [
       "\"Nominal solution not found\""
      ]
     },
     "metadata": {},
     "output_type": "display_data"
    },
    {
     "data": {
      "text/plain": [
       "\">>>>>> iteration 1:F\""
      ]
     },
     "metadata": {},
     "output_type": "display_data"
    },
    {
     "data": {
      "text/plain": [
       "\">>>>>> iteration 2:F\""
      ]
     },
     "metadata": {},
     "output_type": "display_data"
    },
    {
     "data": {
      "text/plain": [
       "\">>>>>> iteration 3:F\""
      ]
     },
     "metadata": {},
     "output_type": "display_data"
    },
    {
     "data": {
      "text/plain": [
       "\">>>>>> iteration 4:F\""
      ]
     },
     "metadata": {},
     "output_type": "display_data"
    },
    {
     "data": {
      "text/plain": [
       "\">>>>>> iteration 5:F\""
      ]
     },
     "metadata": {},
     "output_type": "display_data"
    },
    {
     "data": {
      "text/plain": [
       "\">>>>>> iteration 6:F\""
      ]
     },
     "metadata": {},
     "output_type": "display_data"
    },
    {
     "data": {
      "text/plain": [
       "\">>>>>> iteration 7:F\""
      ]
     },
     "metadata": {},
     "output_type": "display_data"
    },
    {
     "data": {
      "text/plain": [
       "\">>>>>> iteration 8:F\""
      ]
     },
     "metadata": {},
     "output_type": "display_data"
    },
    {
     "data": {
      "text/plain": [
       "\">>>>>> iteration 9:F\""
      ]
     },
     "metadata": {},
     "output_type": "display_data"
    },
    {
     "data": {
      "text/plain": [
       "\">>>>>> iteration 10:F\""
      ]
     },
     "metadata": {},
     "output_type": "display_data"
    },
    {
     "data": {
      "text/plain": [
       "\">>>>>> iteration 11:F\""
      ]
     },
     "metadata": {},
     "output_type": "display_data"
    },
    {
     "data": {
      "text/plain": [
       "\">>>>>> iteration 12:F\""
      ]
     },
     "metadata": {},
     "output_type": "display_data"
    },
    {
     "data": {
      "text/plain": [
       "\">>>>>> iteration 13:F\""
      ]
     },
     "metadata": {},
     "output_type": "display_data"
    },
    {
     "data": {
      "text/plain": [
       "\">>>>>> iteration 14:F\""
      ]
     },
     "metadata": {},
     "output_type": "display_data"
    },
    {
     "data": {
      "text/plain": [
       "\">>>>>> iteration 15:F\""
      ]
     },
     "metadata": {},
     "output_type": "display_data"
    },
    {
     "data": {
      "text/plain": [
       "\">>>>>> iteration 16:F\""
      ]
     },
     "metadata": {},
     "output_type": "display_data"
    },
    {
     "data": {
      "text/plain": [
       "\">>>>>> iteration 17:F\""
      ]
     },
     "metadata": {},
     "output_type": "display_data"
    },
    {
     "data": {
      "text/plain": [
       "\">>>>>> iteration 18:F\""
      ]
     },
     "metadata": {},
     "output_type": "display_data"
    },
    {
     "data": {
      "text/plain": [
       "\">>>>>> iteration 19:F\""
      ]
     },
     "metadata": {},
     "output_type": "display_data"
    },
    {
     "data": {
      "text/plain": [
       "\">>>>>> iteration 20:F\""
      ]
     },
     "metadata": {},
     "output_type": "display_data"
    },
    {
     "data": {
      "text/plain": [
       "\">>>>>> iteration 21:F\""
      ]
     },
     "metadata": {},
     "output_type": "display_data"
    },
    {
     "data": {
      "text/plain": [
       "\">>>>>> iteration 22:F\""
      ]
     },
     "metadata": {},
     "output_type": "display_data"
    },
    {
     "data": {
      "text/plain": [
       "\">>>>>> iteration 23:F\""
      ]
     },
     "metadata": {},
     "output_type": "display_data"
    },
    {
     "data": {
      "text/plain": [
       "\">>>>>> iteration 24:F\""
      ]
     },
     "metadata": {},
     "output_type": "display_data"
    },
    {
     "data": {
      "text/plain": [
       "\">>>>>> iteration 25:F\""
      ]
     },
     "metadata": {},
     "output_type": "display_data"
    },
    {
     "data": {
      "text/plain": [
       "\">>>>>> iteration 26:F\""
      ]
     },
     "metadata": {},
     "output_type": "display_data"
    },
    {
     "data": {
      "text/plain": [
       "\">>>>>> iteration 27:F\""
      ]
     },
     "metadata": {},
     "output_type": "display_data"
    },
    {
     "data": {
      "text/plain": [
       "\">>>>>> iteration 28:F\""
      ]
     },
     "metadata": {},
     "output_type": "display_data"
    },
    {
     "data": {
      "text/plain": [
       "\">>>>>> iteration 29:F\""
      ]
     },
     "metadata": {},
     "output_type": "display_data"
    },
    {
     "data": {
      "text/plain": [
       "\">>>>>> iteration 30:F\""
      ]
     },
     "metadata": {},
     "output_type": "display_data"
    },
    {
     "data": {
      "text/plain": [
       "\">>>>>> iteration 31:F\""
      ]
     },
     "metadata": {},
     "output_type": "display_data"
    },
    {
     "data": {
      "text/plain": [
       "\">>>>>> iteration 32:F\""
      ]
     },
     "metadata": {},
     "output_type": "display_data"
    },
    {
     "data": {
      "text/plain": [
       "\">>>>>> iteration 33:F\""
      ]
     },
     "metadata": {},
     "output_type": "display_data"
    },
    {
     "data": {
      "text/plain": [
       "\">>>>>> iteration 34:F\""
      ]
     },
     "metadata": {},
     "output_type": "display_data"
    },
    {
     "data": {
      "text/plain": [
       "\">>>>>> iteration 35:F\""
      ]
     },
     "metadata": {},
     "output_type": "display_data"
    },
    {
     "data": {
      "text/plain": [
       "\">>>>>> iteration 36:F\""
      ]
     },
     "metadata": {},
     "output_type": "display_data"
    },
    {
     "data": {
      "text/plain": [
       "\">>>>>> iteration 37:F\""
      ]
     },
     "metadata": {},
     "output_type": "display_data"
    },
    {
     "data": {
      "text/plain": [
       "\">>>>>> iteration 38:F\""
      ]
     },
     "metadata": {},
     "output_type": "display_data"
    },
    {
     "data": {
      "text/plain": [
       "\">>>>>> iteration 39:F\""
      ]
     },
     "metadata": {},
     "output_type": "display_data"
    },
    {
     "data": {
      "text/plain": [
       "\">>>>>> iteration 40:F\""
      ]
     },
     "metadata": {},
     "output_type": "display_data"
    },
    {
     "data": {
      "text/plain": [
       "\">>>>>> iteration 41:F\""
      ]
     },
     "metadata": {},
     "output_type": "display_data"
    },
    {
     "data": {
      "text/plain": [
       "\">>>>>> iteration 42:F\""
      ]
     },
     "metadata": {},
     "output_type": "display_data"
    },
    {
     "data": {
      "text/plain": [
       "\">>>>>> iteration 43:F\""
      ]
     },
     "metadata": {},
     "output_type": "display_data"
    },
    {
     "data": {
      "text/plain": [
       "\">>>>>> iteration 44:F\""
      ]
     },
     "metadata": {},
     "output_type": "display_data"
    },
    {
     "data": {
      "text/plain": [
       "\">>>>>> iteration 45:F\""
      ]
     },
     "metadata": {},
     "output_type": "display_data"
    },
    {
     "data": {
      "text/plain": [
       "\">>>>>> iteration 46:F\""
      ]
     },
     "metadata": {},
     "output_type": "display_data"
    },
    {
     "data": {
      "text/plain": [
       "\">>>>>> iteration 47:F\""
      ]
     },
     "metadata": {},
     "output_type": "display_data"
    },
    {
     "data": {
      "text/plain": [
       "\">>>>>> iteration 48:F\""
      ]
     },
     "metadata": {},
     "output_type": "display_data"
    },
    {
     "data": {
      "text/plain": [
       "\">>>>>> iteration 49:F\""
      ]
     },
     "metadata": {},
     "output_type": "display_data"
    },
    {
     "data": {
      "text/plain": [
       "\">>>>>> iteration 50:F\""
      ]
     },
     "metadata": {},
     "output_type": "display_data"
    },
    {
     "data": {
      "text/plain": [
       "\">>>>>> iteration 51:F\""
      ]
     },
     "metadata": {},
     "output_type": "display_data"
    },
    {
     "data": {
      "text/plain": [
       "\">>>>>> iteration 52:F\""
      ]
     },
     "metadata": {},
     "output_type": "display_data"
    },
    {
     "data": {
      "text/plain": [
       "\">>>>>> iteration 53:F\""
      ]
     },
     "metadata": {},
     "output_type": "display_data"
    },
    {
     "data": {
      "text/plain": [
       "\">>>>>> iteration 54:F\""
      ]
     },
     "metadata": {},
     "output_type": "display_data"
    },
    {
     "data": {
      "text/plain": [
       "\">>>>>> iteration 55:F\""
      ]
     },
     "metadata": {},
     "output_type": "display_data"
    },
    {
     "data": {
      "text/plain": [
       "\">>>>>> iteration 56:F\""
      ]
     },
     "metadata": {},
     "output_type": "display_data"
    },
    {
     "data": {
      "text/plain": [
       "\">>>>>> iteration 57:F\""
      ]
     },
     "metadata": {},
     "output_type": "display_data"
    },
    {
     "data": {
      "text/plain": [
       "\">>>>>> iteration 58:F\""
      ]
     },
     "metadata": {},
     "output_type": "display_data"
    },
    {
     "data": {
      "text/plain": [
       "\">>>>>> iteration 59:F\""
      ]
     },
     "metadata": {},
     "output_type": "display_data"
    },
    {
     "data": {
      "text/plain": [
       "\">>>>>> iteration 60:F\""
      ]
     },
     "metadata": {},
     "output_type": "display_data"
    },
    {
     "data": {
      "text/plain": [
       "\">>>>>> iteration 61:F\""
      ]
     },
     "metadata": {},
     "output_type": "display_data"
    },
    {
     "data": {
      "text/plain": [
       "\">>>>>> iteration 62:F\""
      ]
     },
     "metadata": {},
     "output_type": "display_data"
    },
    {
     "data": {
      "text/plain": [
       "\">>>>>> iteration 63:F\""
      ]
     },
     "metadata": {},
     "output_type": "display_data"
    },
    {
     "data": {
      "text/plain": [
       "\">>>>>> iteration 64:F\""
      ]
     },
     "metadata": {},
     "output_type": "display_data"
    },
    {
     "data": {
      "text/plain": [
       "\">>>>>> iteration 65:F\""
      ]
     },
     "metadata": {},
     "output_type": "display_data"
    },
    {
     "data": {
      "text/plain": [
       "\">>>>>> iteration 66:F\""
      ]
     },
     "metadata": {},
     "output_type": "display_data"
    },
    {
     "data": {
      "text/plain": [
       "\">>>>>> iteration 67:F\""
      ]
     },
     "metadata": {},
     "output_type": "display_data"
    },
    {
     "data": {
      "text/plain": [
       "\">>>>>> iteration 68:F\""
      ]
     },
     "metadata": {},
     "output_type": "display_data"
    },
    {
     "data": {
      "text/plain": [
       "\">>>>>> iteration 69:F\""
      ]
     },
     "metadata": {},
     "output_type": "display_data"
    },
    {
     "data": {
      "text/plain": [
       "\">>>>>> iteration 70:F\""
      ]
     },
     "metadata": {},
     "output_type": "display_data"
    },
    {
     "data": {
      "text/plain": [
       "\">>>>>> iteration 71:F\""
      ]
     },
     "metadata": {},
     "output_type": "display_data"
    },
    {
     "data": {
      "text/plain": [
       "\">>>>>> iteration 72:F\""
      ]
     },
     "metadata": {},
     "output_type": "display_data"
    },
    {
     "data": {
      "text/plain": [
       "\">>>>>> iteration 73:F\""
      ]
     },
     "metadata": {},
     "output_type": "display_data"
    },
    {
     "data": {
      "text/plain": [
       "\">>>>>> iteration 74:F\""
      ]
     },
     "metadata": {},
     "output_type": "display_data"
    },
    {
     "data": {
      "text/plain": [
       "\">>>>>> iteration 75:F\""
      ]
     },
     "metadata": {},
     "output_type": "display_data"
    },
    {
     "data": {
      "text/plain": [
       "\"Solution not found\""
      ]
     },
     "metadata": {},
     "output_type": "display_data"
    },
    {
     "name": "stdout",
     "output_type": "stream",
     "text": [
      "MC: 1>> Time: 5\n",
      "MC: 1>> Time: 6\n",
      "MC: 1>> Time: 7\n",
      "MC: 1>> Time: 8\n"
     ]
    },
    {
     "data": {
      "text/plain": [
       "\"Nominal solution found\""
      ]
     },
     "metadata": {},
     "output_type": "display_data"
    },
    {
     "data": {
      "text/plain": [
       "\">>>>>> iteration 1:O\""
      ]
     },
     "metadata": {},
     "output_type": "display_data"
    },
    {
     "data": {
      "text/plain": [
       "\">>>>>> iteration 2:O\""
      ]
     },
     "metadata": {},
     "output_type": "display_data"
    },
    {
     "data": {
      "text/plain": [
       "\">>>>>> iteration 3:O\""
      ]
     },
     "metadata": {},
     "output_type": "display_data"
    },
    {
     "data": {
      "text/plain": [
       "\">>>>>> iteration 4:O\""
      ]
     },
     "metadata": {},
     "output_type": "display_data"
    },
    {
     "data": {
      "text/plain": [
       "\">>>>>> iteration 5:O\""
      ]
     },
     "metadata": {},
     "output_type": "display_data"
    },
    {
     "data": {
      "text/plain": [
       "\">>>>>> iteration 6:O\""
      ]
     },
     "metadata": {},
     "output_type": "display_data"
    },
    {
     "data": {
      "text/plain": [
       "\">>>>>> iteration 7:O\""
      ]
     },
     "metadata": {},
     "output_type": "display_data"
    },
    {
     "data": {
      "text/plain": [
       "\">>>>>> iteration 8:O\""
      ]
     },
     "metadata": {},
     "output_type": "display_data"
    },
    {
     "data": {
      "text/plain": [
       "\">>>>>> iteration 9:O\""
      ]
     },
     "metadata": {},
     "output_type": "display_data"
    },
    {
     "data": {
      "text/plain": [
       "\">>>>>> iteration 10:O\""
      ]
     },
     "metadata": {},
     "output_type": "display_data"
    },
    {
     "data": {
      "text/plain": [
       "\">>>>>> iteration 11:O\""
      ]
     },
     "metadata": {},
     "output_type": "display_data"
    },
    {
     "data": {
      "text/plain": [
       "\">>>>>> iteration 12:O\""
      ]
     },
     "metadata": {},
     "output_type": "display_data"
    },
    {
     "data": {
      "text/plain": [
       "\">>>>>> iteration 13:O\""
      ]
     },
     "metadata": {},
     "output_type": "display_data"
    },
    {
     "data": {
      "text/plain": [
       "\">>>>>> iteration 14:O\""
      ]
     },
     "metadata": {},
     "output_type": "display_data"
    },
    {
     "data": {
      "text/plain": [
       "\">>>>>> iteration 15:O\""
      ]
     },
     "metadata": {},
     "output_type": "display_data"
    },
    {
     "data": {
      "text/plain": [
       "\">>>>>> iteration 16:O\""
      ]
     },
     "metadata": {},
     "output_type": "display_data"
    },
    {
     "data": {
      "text/plain": [
       "\">>>>>> iteration 17:O\""
      ]
     },
     "metadata": {},
     "output_type": "display_data"
    },
    {
     "data": {
      "text/plain": [
       "\">>>>>> iteration 18:O\""
      ]
     },
     "metadata": {},
     "output_type": "display_data"
    },
    {
     "data": {
      "text/plain": [
       "\">>>>>> iteration 19:O\""
      ]
     },
     "metadata": {},
     "output_type": "display_data"
    },
    {
     "data": {
      "text/plain": [
       "\">>>>>> iteration 20:O\""
      ]
     },
     "metadata": {},
     "output_type": "display_data"
    },
    {
     "data": {
      "text/plain": [
       "\">>>>>> iteration 21:O\""
      ]
     },
     "metadata": {},
     "output_type": "display_data"
    },
    {
     "data": {
      "text/plain": [
       "\">>>>>> iteration 22:O\""
      ]
     },
     "metadata": {},
     "output_type": "display_data"
    },
    {
     "data": {
      "text/plain": [
       "\">>>>>> iteration 23:O\""
      ]
     },
     "metadata": {},
     "output_type": "display_data"
    },
    {
     "data": {
      "text/plain": [
       "\">>>>>> iteration 24:O\""
      ]
     },
     "metadata": {},
     "output_type": "display_data"
    },
    {
     "data": {
      "text/plain": [
       "\">>>>>> iteration 25:O\""
      ]
     },
     "metadata": {},
     "output_type": "display_data"
    },
    {
     "data": {
      "text/plain": [
       "\">>>>>> iteration 26:O\""
      ]
     },
     "metadata": {},
     "output_type": "display_data"
    },
    {
     "data": {
      "text/plain": [
       "\">>>>>> iteration 27:O\""
      ]
     },
     "metadata": {},
     "output_type": "display_data"
    },
    {
     "data": {
      "text/plain": [
       "\">>>>>> iteration 28:O\""
      ]
     },
     "metadata": {},
     "output_type": "display_data"
    },
    {
     "data": {
      "text/plain": [
       "\">>>>>> iteration 29:O\""
      ]
     },
     "metadata": {},
     "output_type": "display_data"
    },
    {
     "data": {
      "text/plain": [
       "\">>>>>> iteration 30:O\""
      ]
     },
     "metadata": {},
     "output_type": "display_data"
    },
    {
     "data": {
      "text/plain": [
       "\">>>>>> iteration 31:O\""
      ]
     },
     "metadata": {},
     "output_type": "display_data"
    },
    {
     "data": {
      "text/plain": [
       "\">>>>>> iteration 32:O\""
      ]
     },
     "metadata": {},
     "output_type": "display_data"
    },
    {
     "data": {
      "text/plain": [
       "\">>>>>> iteration 33:O\""
      ]
     },
     "metadata": {},
     "output_type": "display_data"
    },
    {
     "data": {
      "text/plain": [
       "\">>>>>> iteration 34:O\""
      ]
     },
     "metadata": {},
     "output_type": "display_data"
    },
    {
     "data": {
      "text/plain": [
       "\">>>>>> iteration 35:O\""
      ]
     },
     "metadata": {},
     "output_type": "display_data"
    },
    {
     "data": {
      "text/plain": [
       "\">>>>>> iteration 36:O\""
      ]
     },
     "metadata": {},
     "output_type": "display_data"
    },
    {
     "data": {
      "text/plain": [
       "\">>>>>> iteration 37:O\""
      ]
     },
     "metadata": {},
     "output_type": "display_data"
    },
    {
     "data": {
      "text/plain": [
       "\">>>>>> iteration 38:O\""
      ]
     },
     "metadata": {},
     "output_type": "display_data"
    },
    {
     "data": {
      "text/plain": [
       "\">>>>>> iteration 39:O\""
      ]
     },
     "metadata": {},
     "output_type": "display_data"
    },
    {
     "data": {
      "text/plain": [
       "\">>>>>> iteration 40:O\""
      ]
     },
     "metadata": {},
     "output_type": "display_data"
    },
    {
     "data": {
      "text/plain": [
       "\">>>>>> iteration 41:O\""
      ]
     },
     "metadata": {},
     "output_type": "display_data"
    },
    {
     "data": {
      "text/plain": [
       "\">>>>>> iteration 42:O\""
      ]
     },
     "metadata": {},
     "output_type": "display_data"
    },
    {
     "data": {
      "text/plain": [
       "\">>>>>> iteration 43:O\""
      ]
     },
     "metadata": {},
     "output_type": "display_data"
    },
    {
     "data": {
      "text/plain": [
       "\">>>>>> iteration 44:O\""
      ]
     },
     "metadata": {},
     "output_type": "display_data"
    },
    {
     "data": {
      "text/plain": [
       "\">>>>>> iteration 45:O\""
      ]
     },
     "metadata": {},
     "output_type": "display_data"
    },
    {
     "data": {
      "text/plain": [
       "\">>>>>> iteration 46:O\""
      ]
     },
     "metadata": {},
     "output_type": "display_data"
    },
    {
     "data": {
      "text/plain": [
       "\">>>>>> iteration 47:O\""
      ]
     },
     "metadata": {},
     "output_type": "display_data"
    },
    {
     "data": {
      "text/plain": [
       "\">>>>>> iteration 48:O\""
      ]
     },
     "metadata": {},
     "output_type": "display_data"
    },
    {
     "data": {
      "text/plain": [
       "\">>>>>> iteration 49:O\""
      ]
     },
     "metadata": {},
     "output_type": "display_data"
    },
    {
     "data": {
      "text/plain": [
       "\">>>>>> iteration 50:O\""
      ]
     },
     "metadata": {},
     "output_type": "display_data"
    },
    {
     "data": {
      "text/plain": [
       "\">>>>>> iteration 51:O\""
      ]
     },
     "metadata": {},
     "output_type": "display_data"
    },
    {
     "data": {
      "text/plain": [
       "\">>>>>> iteration 52:O\""
      ]
     },
     "metadata": {},
     "output_type": "display_data"
    },
    {
     "data": {
      "text/plain": [
       "\">>>>>> iteration 53:O\""
      ]
     },
     "metadata": {},
     "output_type": "display_data"
    },
    {
     "data": {
      "text/plain": [
       "\">>>>>> iteration 54:O\""
      ]
     },
     "metadata": {},
     "output_type": "display_data"
    },
    {
     "data": {
      "text/plain": [
       "\">>>>>> iteration 55:O\""
      ]
     },
     "metadata": {},
     "output_type": "display_data"
    },
    {
     "data": {
      "text/plain": [
       "\">>>>>> iteration 56:O\""
      ]
     },
     "metadata": {},
     "output_type": "display_data"
    },
    {
     "data": {
      "text/plain": [
       "\">>>>>> iteration 57:O\""
      ]
     },
     "metadata": {},
     "output_type": "display_data"
    },
    {
     "data": {
      "text/plain": [
       "\">>>>>> iteration 58:O\""
      ]
     },
     "metadata": {},
     "output_type": "display_data"
    },
    {
     "data": {
      "text/plain": [
       "\">>>>>> iteration 59:O\""
      ]
     },
     "metadata": {},
     "output_type": "display_data"
    },
    {
     "data": {
      "text/plain": [
       "\">>>>>> iteration 60:O\""
      ]
     },
     "metadata": {},
     "output_type": "display_data"
    },
    {
     "data": {
      "text/plain": [
       "\">>>>>> iteration 61:O\""
      ]
     },
     "metadata": {},
     "output_type": "display_data"
    },
    {
     "data": {
      "text/plain": [
       "\">>>>>> iteration 62:O\""
      ]
     },
     "metadata": {},
     "output_type": "display_data"
    },
    {
     "data": {
      "text/plain": [
       "\">>>>>> iteration 63:O\""
      ]
     },
     "metadata": {},
     "output_type": "display_data"
    },
    {
     "data": {
      "text/plain": [
       "\">>>>>> iteration 64:O\""
      ]
     },
     "metadata": {},
     "output_type": "display_data"
    },
    {
     "data": {
      "text/plain": [
       "\">>>>>> iteration 65:O\""
      ]
     },
     "metadata": {},
     "output_type": "display_data"
    },
    {
     "data": {
      "text/plain": [
       "\">>>>>> iteration 66:O\""
      ]
     },
     "metadata": {},
     "output_type": "display_data"
    },
    {
     "data": {
      "text/plain": [
       "\">>>>>> iteration 67:O\""
      ]
     },
     "metadata": {},
     "output_type": "display_data"
    },
    {
     "data": {
      "text/plain": [
       "\">>>>>> iteration 68:O\""
      ]
     },
     "metadata": {},
     "output_type": "display_data"
    },
    {
     "data": {
      "text/plain": [
       "\">>>>>> iteration 69:O\""
      ]
     },
     "metadata": {},
     "output_type": "display_data"
    },
    {
     "data": {
      "text/plain": [
       "\">>>>>> iteration 70:O\""
      ]
     },
     "metadata": {},
     "output_type": "display_data"
    },
    {
     "data": {
      "text/plain": [
       "\">>>>>> iteration 71:O\""
      ]
     },
     "metadata": {},
     "output_type": "display_data"
    },
    {
     "data": {
      "text/plain": [
       "\">>>>>> iteration 72:O\""
      ]
     },
     "metadata": {},
     "output_type": "display_data"
    },
    {
     "data": {
      "text/plain": [
       "\">>>>>> iteration 73:O\""
      ]
     },
     "metadata": {},
     "output_type": "display_data"
    },
    {
     "data": {
      "text/plain": [
       "\">>>>>> iteration 74:O\""
      ]
     },
     "metadata": {},
     "output_type": "display_data"
    },
    {
     "data": {
      "text/plain": [
       "\">>>>>> iteration 75:O\""
      ]
     },
     "metadata": {},
     "output_type": "display_data"
    },
    {
     "data": {
      "text/plain": [
       "\"Solution not found\""
      ]
     },
     "metadata": {},
     "output_type": "display_data"
    },
    {
     "name": "stdout",
     "output_type": "stream",
     "text": [
      "MC: 1>> Time: 9\n",
      "MC: 1>> Time: 10\n",
      "MC: 1>> Time: 11\n",
      "MC: 1>> Time: 12\n"
     ]
    },
    {
     "data": {
      "text/plain": [
       "\"Nominal solution found\""
      ]
     },
     "metadata": {},
     "output_type": "display_data"
    },
    {
     "data": {
      "text/plain": [
       "\">>>>>> iteration 1:O\""
      ]
     },
     "metadata": {},
     "output_type": "display_data"
    },
    {
     "data": {
      "text/plain": [
       "\">>>>>> iteration 2:O\""
      ]
     },
     "metadata": {},
     "output_type": "display_data"
    },
    {
     "data": {
      "text/plain": [
       "\">>>>>> iteration 3:O\""
      ]
     },
     "metadata": {},
     "output_type": "display_data"
    },
    {
     "data": {
      "text/plain": [
       "\">>>>>> iteration 4:O\""
      ]
     },
     "metadata": {},
     "output_type": "display_data"
    },
    {
     "data": {
      "text/plain": [
       "\">>>>>> iteration 5:O\""
      ]
     },
     "metadata": {},
     "output_type": "display_data"
    },
    {
     "data": {
      "text/plain": [
       "\">>>>>> iteration 6:O\""
      ]
     },
     "metadata": {},
     "output_type": "display_data"
    },
    {
     "data": {
      "text/plain": [
       "\">>>>>> iteration 7:O\""
      ]
     },
     "metadata": {},
     "output_type": "display_data"
    },
    {
     "data": {
      "text/plain": [
       "\">>>>>> iteration 8:O\""
      ]
     },
     "metadata": {},
     "output_type": "display_data"
    },
    {
     "data": {
      "text/plain": [
       "\">>>>>> iteration 9:O\""
      ]
     },
     "metadata": {},
     "output_type": "display_data"
    },
    {
     "data": {
      "text/plain": [
       "\">>>>>> iteration 10:O\""
      ]
     },
     "metadata": {},
     "output_type": "display_data"
    },
    {
     "data": {
      "text/plain": [
       "\">>>>>> iteration 11:O\""
      ]
     },
     "metadata": {},
     "output_type": "display_data"
    },
    {
     "data": {
      "text/plain": [
       "\">>>>>> iteration 12:O\""
      ]
     },
     "metadata": {},
     "output_type": "display_data"
    },
    {
     "data": {
      "text/plain": [
       "\">>>>>> iteration 13:O\""
      ]
     },
     "metadata": {},
     "output_type": "display_data"
    },
    {
     "data": {
      "text/plain": [
       "\">>>>>> iteration 14:O\""
      ]
     },
     "metadata": {},
     "output_type": "display_data"
    },
    {
     "data": {
      "text/plain": [
       "\">>>>>> iteration 15:O\""
      ]
     },
     "metadata": {},
     "output_type": "display_data"
    },
    {
     "data": {
      "text/plain": [
       "\">>>>>> iteration 16:O\""
      ]
     },
     "metadata": {},
     "output_type": "display_data"
    },
    {
     "data": {
      "text/plain": [
       "\">>>>>> iteration 17:O\""
      ]
     },
     "metadata": {},
     "output_type": "display_data"
    },
    {
     "data": {
      "text/plain": [
       "\">>>>>> iteration 18:O\""
      ]
     },
     "metadata": {},
     "output_type": "display_data"
    },
    {
     "data": {
      "text/plain": [
       "\">>>>>> iteration 19:O\""
      ]
     },
     "metadata": {},
     "output_type": "display_data"
    },
    {
     "data": {
      "text/plain": [
       "\">>>>>> iteration 20:O\""
      ]
     },
     "metadata": {},
     "output_type": "display_data"
    },
    {
     "data": {
      "text/plain": [
       "\">>>>>> iteration 21:O\""
      ]
     },
     "metadata": {},
     "output_type": "display_data"
    },
    {
     "data": {
      "text/plain": [
       "\">>>>>> iteration 22:O\""
      ]
     },
     "metadata": {},
     "output_type": "display_data"
    },
    {
     "data": {
      "text/plain": [
       "\">>>>>> iteration 23:O\""
      ]
     },
     "metadata": {},
     "output_type": "display_data"
    },
    {
     "data": {
      "text/plain": [
       "\">>>>>> iteration 24:O\""
      ]
     },
     "metadata": {},
     "output_type": "display_data"
    },
    {
     "data": {
      "text/plain": [
       "\">>>>>> iteration 25:O\""
      ]
     },
     "metadata": {},
     "output_type": "display_data"
    },
    {
     "data": {
      "text/plain": [
       "\">>>>>> iteration 26:O\""
      ]
     },
     "metadata": {},
     "output_type": "display_data"
    },
    {
     "data": {
      "text/plain": [
       "\">>>>>> iteration 27:O\""
      ]
     },
     "metadata": {},
     "output_type": "display_data"
    },
    {
     "data": {
      "text/plain": [
       "\">>>>>> iteration 28:O\""
      ]
     },
     "metadata": {},
     "output_type": "display_data"
    },
    {
     "data": {
      "text/plain": [
       "\">>>>>> iteration 29:O\""
      ]
     },
     "metadata": {},
     "output_type": "display_data"
    },
    {
     "data": {
      "text/plain": [
       "\">>>>>> iteration 30:O\""
      ]
     },
     "metadata": {},
     "output_type": "display_data"
    },
    {
     "data": {
      "text/plain": [
       "\">>>>>> iteration 31:O\""
      ]
     },
     "metadata": {},
     "output_type": "display_data"
    },
    {
     "data": {
      "text/plain": [
       "\">>>>>> iteration 32:O\""
      ]
     },
     "metadata": {},
     "output_type": "display_data"
    },
    {
     "data": {
      "text/plain": [
       "\">>>>>> iteration 33:O\""
      ]
     },
     "metadata": {},
     "output_type": "display_data"
    },
    {
     "data": {
      "text/plain": [
       "\">>>>>> iteration 34:O\""
      ]
     },
     "metadata": {},
     "output_type": "display_data"
    },
    {
     "data": {
      "text/plain": [
       "\">>>>>> iteration 35:O\""
      ]
     },
     "metadata": {},
     "output_type": "display_data"
    },
    {
     "data": {
      "text/plain": [
       "\">>>>>> iteration 36:O\""
      ]
     },
     "metadata": {},
     "output_type": "display_data"
    },
    {
     "data": {
      "text/plain": [
       "\">>>>>> iteration 37:O\""
      ]
     },
     "metadata": {},
     "output_type": "display_data"
    },
    {
     "data": {
      "text/plain": [
       "\">>>>>> iteration 38:O\""
      ]
     },
     "metadata": {},
     "output_type": "display_data"
    },
    {
     "data": {
      "text/plain": [
       "\">>>>>> iteration 39:O\""
      ]
     },
     "metadata": {},
     "output_type": "display_data"
    },
    {
     "data": {
      "text/plain": [
       "\">>>>>> iteration 40:O\""
      ]
     },
     "metadata": {},
     "output_type": "display_data"
    },
    {
     "data": {
      "text/plain": [
       "\">>>>>> iteration 41:O\""
      ]
     },
     "metadata": {},
     "output_type": "display_data"
    },
    {
     "data": {
      "text/plain": [
       "\">>>>>> iteration 42:O\""
      ]
     },
     "metadata": {},
     "output_type": "display_data"
    },
    {
     "data": {
      "text/plain": [
       "\">>>>>> iteration 43:O\""
      ]
     },
     "metadata": {},
     "output_type": "display_data"
    },
    {
     "data": {
      "text/plain": [
       "\">>>>>> iteration 44:O\""
      ]
     },
     "metadata": {},
     "output_type": "display_data"
    },
    {
     "data": {
      "text/plain": [
       "\">>>>>> iteration 45:O\""
      ]
     },
     "metadata": {},
     "output_type": "display_data"
    },
    {
     "data": {
      "text/plain": [
       "\">>>>>> iteration 46:O\""
      ]
     },
     "metadata": {},
     "output_type": "display_data"
    },
    {
     "data": {
      "text/plain": [
       "\">>>>>> iteration 47:O\""
      ]
     },
     "metadata": {},
     "output_type": "display_data"
    },
    {
     "data": {
      "text/plain": [
       "\">>>>>> iteration 48:O\""
      ]
     },
     "metadata": {},
     "output_type": "display_data"
    },
    {
     "data": {
      "text/plain": [
       "\">>>>>> iteration 49:O\""
      ]
     },
     "metadata": {},
     "output_type": "display_data"
    },
    {
     "data": {
      "text/plain": [
       "\">>>>>> iteration 50:O\""
      ]
     },
     "metadata": {},
     "output_type": "display_data"
    },
    {
     "data": {
      "text/plain": [
       "\">>>>>> iteration 51:O\""
      ]
     },
     "metadata": {},
     "output_type": "display_data"
    },
    {
     "data": {
      "text/plain": [
       "\">>>>>> iteration 52:O\""
      ]
     },
     "metadata": {},
     "output_type": "display_data"
    },
    {
     "data": {
      "text/plain": [
       "\">>>>>> iteration 53:O\""
      ]
     },
     "metadata": {},
     "output_type": "display_data"
    },
    {
     "data": {
      "text/plain": [
       "\">>>>>> iteration 54:O\""
      ]
     },
     "metadata": {},
     "output_type": "display_data"
    },
    {
     "data": {
      "text/plain": [
       "\">>>>>> iteration 55:O\""
      ]
     },
     "metadata": {},
     "output_type": "display_data"
    },
    {
     "data": {
      "text/plain": [
       "\">>>>>> iteration 56:O\""
      ]
     },
     "metadata": {},
     "output_type": "display_data"
    },
    {
     "data": {
      "text/plain": [
       "\">>>>>> iteration 57:O\""
      ]
     },
     "metadata": {},
     "output_type": "display_data"
    },
    {
     "data": {
      "text/plain": [
       "\">>>>>> iteration 58:O\""
      ]
     },
     "metadata": {},
     "output_type": "display_data"
    },
    {
     "data": {
      "text/plain": [
       "\">>>>>> iteration 59:O\""
      ]
     },
     "metadata": {},
     "output_type": "display_data"
    },
    {
     "data": {
      "text/plain": [
       "\">>>>>> iteration 60:O\""
      ]
     },
     "metadata": {},
     "output_type": "display_data"
    },
    {
     "data": {
      "text/plain": [
       "\">>>>>> iteration 61:O\""
      ]
     },
     "metadata": {},
     "output_type": "display_data"
    },
    {
     "data": {
      "text/plain": [
       "\">>>>>> iteration 62:O\""
      ]
     },
     "metadata": {},
     "output_type": "display_data"
    },
    {
     "data": {
      "text/plain": [
       "\">>>>>> iteration 63:O\""
      ]
     },
     "metadata": {},
     "output_type": "display_data"
    },
    {
     "data": {
      "text/plain": [
       "\">>>>>> iteration 64:O\""
      ]
     },
     "metadata": {},
     "output_type": "display_data"
    },
    {
     "data": {
      "text/plain": [
       "\">>>>>> iteration 65:O\""
      ]
     },
     "metadata": {},
     "output_type": "display_data"
    },
    {
     "data": {
      "text/plain": [
       "\">>>>>> iteration 66:O\""
      ]
     },
     "metadata": {},
     "output_type": "display_data"
    },
    {
     "data": {
      "text/plain": [
       "\">>>>>> iteration 67:O\""
      ]
     },
     "metadata": {},
     "output_type": "display_data"
    },
    {
     "data": {
      "text/plain": [
       "\">>>>>> iteration 68:O\""
      ]
     },
     "metadata": {},
     "output_type": "display_data"
    },
    {
     "data": {
      "text/plain": [
       "\">>>>>> iteration 69:O\""
      ]
     },
     "metadata": {},
     "output_type": "display_data"
    },
    {
     "data": {
      "text/plain": [
       "\">>>>>> iteration 70:O\""
      ]
     },
     "metadata": {},
     "output_type": "display_data"
    },
    {
     "data": {
      "text/plain": [
       "\">>>>>> iteration 71:O\""
      ]
     },
     "metadata": {},
     "output_type": "display_data"
    },
    {
     "data": {
      "text/plain": [
       "\">>>>>> iteration 72:O\""
      ]
     },
     "metadata": {},
     "output_type": "display_data"
    },
    {
     "data": {
      "text/plain": [
       "\">>>>>> iteration 73:O\""
      ]
     },
     "metadata": {},
     "output_type": "display_data"
    },
    {
     "data": {
      "text/plain": [
       "\">>>>>> iteration 74:O\""
      ]
     },
     "metadata": {},
     "output_type": "display_data"
    },
    {
     "data": {
      "text/plain": [
       "\">>>>>> iteration 75:O\""
      ]
     },
     "metadata": {},
     "output_type": "display_data"
    },
    {
     "data": {
      "text/plain": [
       "\"Solution not found\""
      ]
     },
     "metadata": {},
     "output_type": "display_data"
    },
    {
     "name": "stdout",
     "output_type": "stream",
     "text": [
      "MC: 1>> Time: 13\n",
      "MC: 1>> Time: 14\n",
      "MC: 1>> Time: 15\n",
      "MC: 1>> Time: 16\n"
     ]
    },
    {
     "data": {
      "text/plain": [
       "\"Nominal solution found\""
      ]
     },
     "metadata": {},
     "output_type": "display_data"
    },
    {
     "data": {
      "text/plain": [
       "\">>>>>> iteration 1:O\""
      ]
     },
     "metadata": {},
     "output_type": "display_data"
    },
    {
     "data": {
      "text/plain": [
       "\">>>>>> iteration 2:O\""
      ]
     },
     "metadata": {},
     "output_type": "display_data"
    },
    {
     "data": {
      "text/plain": [
       "\">>>>>> iteration 3:O\""
      ]
     },
     "metadata": {},
     "output_type": "display_data"
    },
    {
     "data": {
      "text/plain": [
       "\">>>>>> iteration 4:O\""
      ]
     },
     "metadata": {},
     "output_type": "display_data"
    },
    {
     "data": {
      "text/plain": [
       "\">>>>>> iteration 5:O\""
      ]
     },
     "metadata": {},
     "output_type": "display_data"
    },
    {
     "data": {
      "text/plain": [
       "\">>>>>> iteration 6:O\""
      ]
     },
     "metadata": {},
     "output_type": "display_data"
    },
    {
     "data": {
      "text/plain": [
       "\">>>>>> iteration 7:O\""
      ]
     },
     "metadata": {},
     "output_type": "display_data"
    },
    {
     "data": {
      "text/plain": [
       "\">>>>>> iteration 8:O\""
      ]
     },
     "metadata": {},
     "output_type": "display_data"
    },
    {
     "data": {
      "text/plain": [
       "\">>>>>> iteration 9:O\""
      ]
     },
     "metadata": {},
     "output_type": "display_data"
    },
    {
     "data": {
      "text/plain": [
       "\">>>>>> iteration 10:O\""
      ]
     },
     "metadata": {},
     "output_type": "display_data"
    },
    {
     "data": {
      "text/plain": [
       "\">>>>>> iteration 11:O\""
      ]
     },
     "metadata": {},
     "output_type": "display_data"
    },
    {
     "data": {
      "text/plain": [
       "\">>>>>> iteration 12:O\""
      ]
     },
     "metadata": {},
     "output_type": "display_data"
    },
    {
     "data": {
      "text/plain": [
       "\">>>>>> iteration 13:O\""
      ]
     },
     "metadata": {},
     "output_type": "display_data"
    },
    {
     "data": {
      "text/plain": [
       "\">>>>>> iteration 14:O\""
      ]
     },
     "metadata": {},
     "output_type": "display_data"
    },
    {
     "data": {
      "text/plain": [
       "\">>>>>> iteration 15:O\""
      ]
     },
     "metadata": {},
     "output_type": "display_data"
    },
    {
     "data": {
      "text/plain": [
       "\">>>>>> iteration 16:O\""
      ]
     },
     "metadata": {},
     "output_type": "display_data"
    },
    {
     "data": {
      "text/plain": [
       "\">>>>>> iteration 17:O\""
      ]
     },
     "metadata": {},
     "output_type": "display_data"
    },
    {
     "data": {
      "text/plain": [
       "\">>>>>> iteration 18:O\""
      ]
     },
     "metadata": {},
     "output_type": "display_data"
    },
    {
     "data": {
      "text/plain": [
       "\">>>>>> iteration 19:O\""
      ]
     },
     "metadata": {},
     "output_type": "display_data"
    },
    {
     "data": {
      "text/plain": [
       "\">>>>>> iteration 20:O\""
      ]
     },
     "metadata": {},
     "output_type": "display_data"
    },
    {
     "data": {
      "text/plain": [
       "\">>>>>> iteration 21:O\""
      ]
     },
     "metadata": {},
     "output_type": "display_data"
    },
    {
     "data": {
      "text/plain": [
       "\">>>>>> iteration 22:O\""
      ]
     },
     "metadata": {},
     "output_type": "display_data"
    },
    {
     "data": {
      "text/plain": [
       "\">>>>>> iteration 23:O\""
      ]
     },
     "metadata": {},
     "output_type": "display_data"
    },
    {
     "data": {
      "text/plain": [
       "\">>>>>> iteration 24:O\""
      ]
     },
     "metadata": {},
     "output_type": "display_data"
    },
    {
     "data": {
      "text/plain": [
       "\">>>>>> iteration 25:O\""
      ]
     },
     "metadata": {},
     "output_type": "display_data"
    },
    {
     "data": {
      "text/plain": [
       "\">>>>>> iteration 26:O\""
      ]
     },
     "metadata": {},
     "output_type": "display_data"
    },
    {
     "data": {
      "text/plain": [
       "\">>>>>> iteration 27:O\""
      ]
     },
     "metadata": {},
     "output_type": "display_data"
    },
    {
     "data": {
      "text/plain": [
       "\">>>>>> iteration 28:O\""
      ]
     },
     "metadata": {},
     "output_type": "display_data"
    },
    {
     "data": {
      "text/plain": [
       "\">>>>>> iteration 29:O\""
      ]
     },
     "metadata": {},
     "output_type": "display_data"
    },
    {
     "data": {
      "text/plain": [
       "\">>>>>> iteration 30:O\""
      ]
     },
     "metadata": {},
     "output_type": "display_data"
    },
    {
     "data": {
      "text/plain": [
       "\">>>>>> iteration 31:O\""
      ]
     },
     "metadata": {},
     "output_type": "display_data"
    },
    {
     "data": {
      "text/plain": [
       "\">>>>>> iteration 32:O\""
      ]
     },
     "metadata": {},
     "output_type": "display_data"
    },
    {
     "data": {
      "text/plain": [
       "\">>>>>> iteration 33:O\""
      ]
     },
     "metadata": {},
     "output_type": "display_data"
    },
    {
     "data": {
      "text/plain": [
       "\">>>>>> iteration 34:O\""
      ]
     },
     "metadata": {},
     "output_type": "display_data"
    },
    {
     "data": {
      "text/plain": [
       "\">>>>>> iteration 35:O\""
      ]
     },
     "metadata": {},
     "output_type": "display_data"
    },
    {
     "data": {
      "text/plain": [
       "\">>>>>> iteration 36:O\""
      ]
     },
     "metadata": {},
     "output_type": "display_data"
    },
    {
     "data": {
      "text/plain": [
       "\">>>>>> iteration 37:O\""
      ]
     },
     "metadata": {},
     "output_type": "display_data"
    },
    {
     "data": {
      "text/plain": [
       "\">>>>>> iteration 38:O\""
      ]
     },
     "metadata": {},
     "output_type": "display_data"
    },
    {
     "data": {
      "text/plain": [
       "\">>>>>> iteration 39:O\""
      ]
     },
     "metadata": {},
     "output_type": "display_data"
    },
    {
     "data": {
      "text/plain": [
       "\">>>>>> iteration 40:O\""
      ]
     },
     "metadata": {},
     "output_type": "display_data"
    },
    {
     "data": {
      "text/plain": [
       "\">>>>>> iteration 41:O\""
      ]
     },
     "metadata": {},
     "output_type": "display_data"
    },
    {
     "data": {
      "text/plain": [
       "\">>>>>> iteration 42:O\""
      ]
     },
     "metadata": {},
     "output_type": "display_data"
    },
    {
     "data": {
      "text/plain": [
       "\">>>>>> iteration 43:O\""
      ]
     },
     "metadata": {},
     "output_type": "display_data"
    },
    {
     "data": {
      "text/plain": [
       "\">>>>>> iteration 44:O\""
      ]
     },
     "metadata": {},
     "output_type": "display_data"
    },
    {
     "data": {
      "text/plain": [
       "\">>>>>> iteration 45:O\""
      ]
     },
     "metadata": {},
     "output_type": "display_data"
    },
    {
     "data": {
      "text/plain": [
       "\">>>>>> iteration 46:O\""
      ]
     },
     "metadata": {},
     "output_type": "display_data"
    },
    {
     "data": {
      "text/plain": [
       "\">>>>>> iteration 47:O\""
      ]
     },
     "metadata": {},
     "output_type": "display_data"
    },
    {
     "data": {
      "text/plain": [
       "\">>>>>> iteration 48:O\""
      ]
     },
     "metadata": {},
     "output_type": "display_data"
    },
    {
     "data": {
      "text/plain": [
       "\">>>>>> iteration 49:O\""
      ]
     },
     "metadata": {},
     "output_type": "display_data"
    },
    {
     "data": {
      "text/plain": [
       "\">>>>>> iteration 50:O\""
      ]
     },
     "metadata": {},
     "output_type": "display_data"
    },
    {
     "data": {
      "text/plain": [
       "\">>>>>> iteration 51:O\""
      ]
     },
     "metadata": {},
     "output_type": "display_data"
    },
    {
     "data": {
      "text/plain": [
       "\">>>>>> iteration 52:O\""
      ]
     },
     "metadata": {},
     "output_type": "display_data"
    },
    {
     "data": {
      "text/plain": [
       "\">>>>>> iteration 53:O\""
      ]
     },
     "metadata": {},
     "output_type": "display_data"
    },
    {
     "data": {
      "text/plain": [
       "\">>>>>> iteration 54:O\""
      ]
     },
     "metadata": {},
     "output_type": "display_data"
    },
    {
     "data": {
      "text/plain": [
       "\">>>>>> iteration 55:O\""
      ]
     },
     "metadata": {},
     "output_type": "display_data"
    },
    {
     "data": {
      "text/plain": [
       "\">>>>>> iteration 56:O\""
      ]
     },
     "metadata": {},
     "output_type": "display_data"
    },
    {
     "data": {
      "text/plain": [
       "\">>>>>> iteration 57:O\""
      ]
     },
     "metadata": {},
     "output_type": "display_data"
    },
    {
     "data": {
      "text/plain": [
       "\">>>>>> iteration 58:O\""
      ]
     },
     "metadata": {},
     "output_type": "display_data"
    },
    {
     "data": {
      "text/plain": [
       "\">>>>>> iteration 59:O\""
      ]
     },
     "metadata": {},
     "output_type": "display_data"
    },
    {
     "data": {
      "text/plain": [
       "\">>>>>> iteration 60:O\""
      ]
     },
     "metadata": {},
     "output_type": "display_data"
    },
    {
     "data": {
      "text/plain": [
       "\">>>>>> iteration 61:O\""
      ]
     },
     "metadata": {},
     "output_type": "display_data"
    },
    {
     "data": {
      "text/plain": [
       "\">>>>>> iteration 62:O\""
      ]
     },
     "metadata": {},
     "output_type": "display_data"
    },
    {
     "data": {
      "text/plain": [
       "\">>>>>> iteration 63:O\""
      ]
     },
     "metadata": {},
     "output_type": "display_data"
    },
    {
     "data": {
      "text/plain": [
       "\">>>>>> iteration 64:O\""
      ]
     },
     "metadata": {},
     "output_type": "display_data"
    },
    {
     "data": {
      "text/plain": [
       "\">>>>>> iteration 65:O\""
      ]
     },
     "metadata": {},
     "output_type": "display_data"
    },
    {
     "data": {
      "text/plain": [
       "\">>>>>> iteration 66:O\""
      ]
     },
     "metadata": {},
     "output_type": "display_data"
    },
    {
     "data": {
      "text/plain": [
       "\">>>>>> iteration 67:O\""
      ]
     },
     "metadata": {},
     "output_type": "display_data"
    },
    {
     "data": {
      "text/plain": [
       "\">>>>>> iteration 68:O\""
      ]
     },
     "metadata": {},
     "output_type": "display_data"
    },
    {
     "data": {
      "text/plain": [
       "\">>>>>> iteration 69:O\""
      ]
     },
     "metadata": {},
     "output_type": "display_data"
    },
    {
     "data": {
      "text/plain": [
       "\">>>>>> iteration 70:O\""
      ]
     },
     "metadata": {},
     "output_type": "display_data"
    },
    {
     "data": {
      "text/plain": [
       "\">>>>>> iteration 71:O\""
      ]
     },
     "metadata": {},
     "output_type": "display_data"
    },
    {
     "data": {
      "text/plain": [
       "\">>>>>> iteration 72:O\""
      ]
     },
     "metadata": {},
     "output_type": "display_data"
    },
    {
     "data": {
      "text/plain": [
       "\">>>>>> iteration 73:O\""
      ]
     },
     "metadata": {},
     "output_type": "display_data"
    },
    {
     "data": {
      "text/plain": [
       "\">>>>>> iteration 74:O\""
      ]
     },
     "metadata": {},
     "output_type": "display_data"
    },
    {
     "data": {
      "text/plain": [
       "\">>>>>> iteration 75:O\""
      ]
     },
     "metadata": {},
     "output_type": "display_data"
    },
    {
     "data": {
      "text/plain": [
       "\"Solution not found\""
      ]
     },
     "metadata": {},
     "output_type": "display_data"
    },
    {
     "name": "stdout",
     "output_type": "stream",
     "text": [
      "MC: 1>> Time: 17\n",
      "MC: 1>> Time: 18\n",
      "MC: 1>> Time: 19\n",
      "MC: 1>> Time: 20\n"
     ]
    },
    {
     "data": {
      "text/plain": [
       "\"Nominal solution found\""
      ]
     },
     "metadata": {},
     "output_type": "display_data"
    },
    {
     "data": {
      "text/plain": [
       "\">>>>>> iteration 1:O\""
      ]
     },
     "metadata": {},
     "output_type": "display_data"
    },
    {
     "data": {
      "text/plain": [
       "\">>>>>> iteration 2:O\""
      ]
     },
     "metadata": {},
     "output_type": "display_data"
    },
    {
     "data": {
      "text/plain": [
       "\">>>>>> iteration 3:O\""
      ]
     },
     "metadata": {},
     "output_type": "display_data"
    },
    {
     "data": {
      "text/plain": [
       "\">>>>>> iteration 4:O\""
      ]
     },
     "metadata": {},
     "output_type": "display_data"
    },
    {
     "data": {
      "text/plain": [
       "\">>>>>> iteration 5:O\""
      ]
     },
     "metadata": {},
     "output_type": "display_data"
    },
    {
     "data": {
      "text/plain": [
       "\">>>>>> iteration 6:O\""
      ]
     },
     "metadata": {},
     "output_type": "display_data"
    },
    {
     "data": {
      "text/plain": [
       "\">>>>>> iteration 7:O\""
      ]
     },
     "metadata": {},
     "output_type": "display_data"
    },
    {
     "data": {
      "text/plain": [
       "\">>>>>> iteration 8:O\""
      ]
     },
     "metadata": {},
     "output_type": "display_data"
    },
    {
     "data": {
      "text/plain": [
       "\">>>>>> iteration 9:O\""
      ]
     },
     "metadata": {},
     "output_type": "display_data"
    },
    {
     "data": {
      "text/plain": [
       "\">>>>>> iteration 10:O\""
      ]
     },
     "metadata": {},
     "output_type": "display_data"
    },
    {
     "data": {
      "text/plain": [
       "\">>>>>> iteration 11:O\""
      ]
     },
     "metadata": {},
     "output_type": "display_data"
    },
    {
     "data": {
      "text/plain": [
       "\">>>>>> iteration 12:O\""
      ]
     },
     "metadata": {},
     "output_type": "display_data"
    },
    {
     "data": {
      "text/plain": [
       "\">>>>>> iteration 13:O\""
      ]
     },
     "metadata": {},
     "output_type": "display_data"
    },
    {
     "data": {
      "text/plain": [
       "\">>>>>> iteration 14:O\""
      ]
     },
     "metadata": {},
     "output_type": "display_data"
    },
    {
     "data": {
      "text/plain": [
       "\">>>>>> iteration 15:O\""
      ]
     },
     "metadata": {},
     "output_type": "display_data"
    },
    {
     "data": {
      "text/plain": [
       "\">>>>>> iteration 16:O\""
      ]
     },
     "metadata": {},
     "output_type": "display_data"
    },
    {
     "data": {
      "text/plain": [
       "\">>>>>> iteration 17:O\""
      ]
     },
     "metadata": {},
     "output_type": "display_data"
    },
    {
     "data": {
      "text/plain": [
       "\">>>>>> iteration 18:O\""
      ]
     },
     "metadata": {},
     "output_type": "display_data"
    },
    {
     "data": {
      "text/plain": [
       "\">>>>>> iteration 19:O\""
      ]
     },
     "metadata": {},
     "output_type": "display_data"
    },
    {
     "data": {
      "text/plain": [
       "\">>>>>> iteration 20:O\""
      ]
     },
     "metadata": {},
     "output_type": "display_data"
    },
    {
     "data": {
      "text/plain": [
       "\">>>>>> iteration 21:O\""
      ]
     },
     "metadata": {},
     "output_type": "display_data"
    },
    {
     "data": {
      "text/plain": [
       "\">>>>>> iteration 22:O\""
      ]
     },
     "metadata": {},
     "output_type": "display_data"
    },
    {
     "data": {
      "text/plain": [
       "\">>>>>> iteration 23:O\""
      ]
     },
     "metadata": {},
     "output_type": "display_data"
    },
    {
     "data": {
      "text/plain": [
       "\">>>>>> iteration 24:O\""
      ]
     },
     "metadata": {},
     "output_type": "display_data"
    },
    {
     "data": {
      "text/plain": [
       "\">>>>>> iteration 25:O\""
      ]
     },
     "metadata": {},
     "output_type": "display_data"
    },
    {
     "data": {
      "text/plain": [
       "\">>>>>> iteration 26:O\""
      ]
     },
     "metadata": {},
     "output_type": "display_data"
    },
    {
     "data": {
      "text/plain": [
       "\">>>>>> iteration 27:O\""
      ]
     },
     "metadata": {},
     "output_type": "display_data"
    },
    {
     "data": {
      "text/plain": [
       "\">>>>>> iteration 28:O\""
      ]
     },
     "metadata": {},
     "output_type": "display_data"
    },
    {
     "data": {
      "text/plain": [
       "\">>>>>> iteration 29:O\""
      ]
     },
     "metadata": {},
     "output_type": "display_data"
    },
    {
     "data": {
      "text/plain": [
       "\">>>>>> iteration 30:O\""
      ]
     },
     "metadata": {},
     "output_type": "display_data"
    },
    {
     "data": {
      "text/plain": [
       "\">>>>>> iteration 31:O\""
      ]
     },
     "metadata": {},
     "output_type": "display_data"
    },
    {
     "data": {
      "text/plain": [
       "\">>>>>> iteration 32:O\""
      ]
     },
     "metadata": {},
     "output_type": "display_data"
    },
    {
     "data": {
      "text/plain": [
       "\">>>>>> iteration 33:O\""
      ]
     },
     "metadata": {},
     "output_type": "display_data"
    },
    {
     "data": {
      "text/plain": [
       "\">>>>>> iteration 34:O\""
      ]
     },
     "metadata": {},
     "output_type": "display_data"
    },
    {
     "data": {
      "text/plain": [
       "\">>>>>> iteration 35:O\""
      ]
     },
     "metadata": {},
     "output_type": "display_data"
    },
    {
     "data": {
      "text/plain": [
       "\">>>>>> iteration 36:O\""
      ]
     },
     "metadata": {},
     "output_type": "display_data"
    },
    {
     "data": {
      "text/plain": [
       "\">>>>>> iteration 37:O\""
      ]
     },
     "metadata": {},
     "output_type": "display_data"
    },
    {
     "data": {
      "text/plain": [
       "\">>>>>> iteration 38:O\""
      ]
     },
     "metadata": {},
     "output_type": "display_data"
    },
    {
     "data": {
      "text/plain": [
       "\">>>>>> iteration 39:O\""
      ]
     },
     "metadata": {},
     "output_type": "display_data"
    },
    {
     "data": {
      "text/plain": [
       "\">>>>>> iteration 40:O\""
      ]
     },
     "metadata": {},
     "output_type": "display_data"
    },
    {
     "data": {
      "text/plain": [
       "\">>>>>> iteration 41:O\""
      ]
     },
     "metadata": {},
     "output_type": "display_data"
    },
    {
     "data": {
      "text/plain": [
       "\">>>>>> iteration 42:O\""
      ]
     },
     "metadata": {},
     "output_type": "display_data"
    },
    {
     "data": {
      "text/plain": [
       "\">>>>>> iteration 43:O\""
      ]
     },
     "metadata": {},
     "output_type": "display_data"
    },
    {
     "data": {
      "text/plain": [
       "\">>>>>> iteration 44:O\""
      ]
     },
     "metadata": {},
     "output_type": "display_data"
    },
    {
     "data": {
      "text/plain": [
       "\">>>>>> iteration 45:O\""
      ]
     },
     "metadata": {},
     "output_type": "display_data"
    },
    {
     "data": {
      "text/plain": [
       "\">>>>>> iteration 46:O\""
      ]
     },
     "metadata": {},
     "output_type": "display_data"
    },
    {
     "data": {
      "text/plain": [
       "\">>>>>> iteration 47:O\""
      ]
     },
     "metadata": {},
     "output_type": "display_data"
    },
    {
     "data": {
      "text/plain": [
       "\">>>>>> iteration 48:O\""
      ]
     },
     "metadata": {},
     "output_type": "display_data"
    },
    {
     "data": {
      "text/plain": [
       "\">>>>>> iteration 49:O\""
      ]
     },
     "metadata": {},
     "output_type": "display_data"
    },
    {
     "data": {
      "text/plain": [
       "\">>>>>> iteration 50:O\""
      ]
     },
     "metadata": {},
     "output_type": "display_data"
    },
    {
     "data": {
      "text/plain": [
       "\">>>>>> iteration 51:O\""
      ]
     },
     "metadata": {},
     "output_type": "display_data"
    },
    {
     "data": {
      "text/plain": [
       "\">>>>>> iteration 52:O\""
      ]
     },
     "metadata": {},
     "output_type": "display_data"
    },
    {
     "data": {
      "text/plain": [
       "\">>>>>> iteration 53:O\""
      ]
     },
     "metadata": {},
     "output_type": "display_data"
    },
    {
     "data": {
      "text/plain": [
       "\">>>>>> iteration 54:O\""
      ]
     },
     "metadata": {},
     "output_type": "display_data"
    },
    {
     "data": {
      "text/plain": [
       "\">>>>>> iteration 55:O\""
      ]
     },
     "metadata": {},
     "output_type": "display_data"
    },
    {
     "data": {
      "text/plain": [
       "\">>>>>> iteration 56:O\""
      ]
     },
     "metadata": {},
     "output_type": "display_data"
    },
    {
     "data": {
      "text/plain": [
       "\">>>>>> iteration 57:O\""
      ]
     },
     "metadata": {},
     "output_type": "display_data"
    },
    {
     "data": {
      "text/plain": [
       "\">>>>>> iteration 58:O\""
      ]
     },
     "metadata": {},
     "output_type": "display_data"
    },
    {
     "data": {
      "text/plain": [
       "\">>>>>> iteration 59:O\""
      ]
     },
     "metadata": {},
     "output_type": "display_data"
    },
    {
     "data": {
      "text/plain": [
       "\">>>>>> iteration 60:O\""
      ]
     },
     "metadata": {},
     "output_type": "display_data"
    },
    {
     "data": {
      "text/plain": [
       "\">>>>>> iteration 61:O\""
      ]
     },
     "metadata": {},
     "output_type": "display_data"
    },
    {
     "data": {
      "text/plain": [
       "\">>>>>> iteration 62:O\""
      ]
     },
     "metadata": {},
     "output_type": "display_data"
    },
    {
     "data": {
      "text/plain": [
       "\">>>>>> iteration 63:O\""
      ]
     },
     "metadata": {},
     "output_type": "display_data"
    },
    {
     "data": {
      "text/plain": [
       "\">>>>>> iteration 64:O\""
      ]
     },
     "metadata": {},
     "output_type": "display_data"
    },
    {
     "data": {
      "text/plain": [
       "\">>>>>> iteration 65:O\""
      ]
     },
     "metadata": {},
     "output_type": "display_data"
    },
    {
     "data": {
      "text/plain": [
       "\">>>>>> iteration 66:O\""
      ]
     },
     "metadata": {},
     "output_type": "display_data"
    },
    {
     "data": {
      "text/plain": [
       "\">>>>>> iteration 67:O\""
      ]
     },
     "metadata": {},
     "output_type": "display_data"
    },
    {
     "data": {
      "text/plain": [
       "\">>>>>> iteration 68:O\""
      ]
     },
     "metadata": {},
     "output_type": "display_data"
    },
    {
     "data": {
      "text/plain": [
       "\">>>>>> iteration 69:O\""
      ]
     },
     "metadata": {},
     "output_type": "display_data"
    },
    {
     "data": {
      "text/plain": [
       "\">>>>>> iteration 70:O\""
      ]
     },
     "metadata": {},
     "output_type": "display_data"
    },
    {
     "data": {
      "text/plain": [
       "\">>>>>> iteration 71:O\""
      ]
     },
     "metadata": {},
     "output_type": "display_data"
    },
    {
     "data": {
      "text/plain": [
       "\">>>>>> iteration 72:O\""
      ]
     },
     "metadata": {},
     "output_type": "display_data"
    },
    {
     "data": {
      "text/plain": [
       "\">>>>>> iteration 73:O\""
      ]
     },
     "metadata": {},
     "output_type": "display_data"
    },
    {
     "data": {
      "text/plain": [
       "\">>>>>> iteration 74:O\""
      ]
     },
     "metadata": {},
     "output_type": "display_data"
    },
    {
     "data": {
      "text/plain": [
       "\">>>>>> iteration 75:O\""
      ]
     },
     "metadata": {},
     "output_type": "display_data"
    },
    {
     "data": {
      "text/plain": [
       "\"Solution not found\""
      ]
     },
     "metadata": {},
     "output_type": "display_data"
    },
    {
     "ename": "LoadError",
     "evalue": "BoundsError: attempt to access 2×20×3 Array{Float64, 3} at index [1:2, 21, 2]\n\nSome of the types have been truncated in the stacktrace for improved reading. To emit complete information\nin the stack trace, evaluate `TruncatedStacktraces.VERBOSE[] = true` and re-run the code.\n",
     "output_type": "error",
     "traceback": [
      "BoundsError: attempt to access 2×20×3 Array{Float64, 3} at index [1:2, 21, 2]\n\nSome of the types have been truncated in the stacktrace for improved reading. To emit complete information\nin the stack trace, evaluate `TruncatedStacktraces.VERBOSE[] = true` and re-run the code.\n",
      "",
      "Stacktrace:",
      " [1] throw_boundserror(A::Array{Float64, 3}, I::Tuple{Base.Slice{Base.OneTo{Int64}}, Int64, Int64})",
      "   @ Base .\\abstractarray.jl:703",
      " [2] checkbounds",
      "   @ .\\abstractarray.jl:668 [inlined]",
      " [3] _getindex",
      "   @ .\\multidimensional.jl:874 [inlined]",
      " [4] getindex(::Array{Float64, 3}, ::Function, ::Int64, ::Int64)",
      "   @ Base .\\abstractarray.jl:1241",
      " [5] top-level scope",
      "   @ .\\In[18]:85"
     ]
    }
   ],
   "source": [
    "for jj = 1:n_MC\n",
    "    # ramdonly drawing the plant from the previously computed models\n",
    "    d = Truncated(Normal(pNom, deltaPar), pNom - 3*deltaPar, pNom + 3*deltaPar)  #Construct the distribution type\n",
    "    pPlant = rand(d)\n",
    "    \n",
    "    # RUNNING SIMULATION\n",
    "    for mm = 1:2\n",
    "        \n",
    "        # preparing simulation (starting from opt steady-state)\n",
    "        # plant \n",
    "        xk = x0\n",
    "        uk_1 = [Q0[1] Qm0]\n",
    "\n",
    "        # mpc's models - initial states is the same\n",
    "        xk_mpc1 = x0[4] - T1_0_bar\n",
    "        dek_mpc1 = 0.0\n",
    "        xk_mpc2 = x0[9] - T2_0_bar\n",
    "        dek_mpc2 = 0.0\n",
    "        \n",
    "        # initial conditions (CLDRTO)\n",
    "        Cpk = C0\n",
    "        Tpk = T0\n",
    "        \n",
    "        solNom = MS_CLDRTO(Cpk,Tpk,uk_1,[xk_mpc1;xk_mpc2],Ua,1,0)\n",
    "        \n",
    "        for ii = 1:nsim\n",
    "\n",
    "            print(\"MC: \", jj)\n",
    "            println(\">> Time: \",ii)\n",
    "\n",
    "            # updating arrays # States (algebraic and differential): CA1,CB1,CC1,T1,Tj1_out,CA2,CB2,CC2,T2,Tj2_out\n",
    "            TrPlant[1,ii,jj,mm] = xk[4]\n",
    "            TrPlant[2,ii,jj,mm] = xk[9]\n",
    "            TjPlant[1,ii,jj,mm] = xk[5]\n",
    "            TjPlant[2,ii,jj,mm] = xk[10]\n",
    "            QPlant[ii,jj,mm] = uk_1[1]\n",
    "            QmPlant[ii,jj,mm] = uk_1[2]\n",
    "\n",
    "            # executing DRTO\n",
    "            if ii%Δdrto == 0 || ii == 1\n",
    "                \n",
    "                if ii > 1\n",
    "                    sol_1s_temp = MS_CLDRTO(Cpk,Tpk,uk_1,[xk_mpc1;xk_mpc2],Ua,1,solNom)\n",
    "                    # checking if 1s solution converged\n",
    "                    if sol_1s_temp['f'] == 1\n",
    "                        display(\"Nominal solution found\")\n",
    "                        solNom = sol_1s_temp \n",
    "                    else\n",
    "                        # using SS as guess\n",
    "                        sol_1s_temp = MS_CLDRTO(Cpk,Tpk,uk_1,[xk_mpc1;xk_mpc2],Ua,1,0)\n",
    "                        if sol_1s_temp['f'] == 1\n",
    "                            display(\"Nominal solution found (SS)\")\n",
    "                            solNom = sol_1s_temp  \n",
    "                        else\n",
    "                            display(\"Nominal solution not found\")\n",
    "                        end\n",
    "                    end\n",
    "                end\n",
    "                \n",
    "                \n",
    "                if mm == 1\n",
    "                    sol_temp = MS_CLDRTO(Cpk,Tpk,uk_1,[xk_mpc1;xk_mpc2],pUnc,nS_MC,solNom)\n",
    "                else\n",
    "                    sol_temp = BENS_CLDRTO(Cpk,Tpk,uk_1,[xk_mpc1;xk_mpc2],pUnc,nS_MC,solNom)\n",
    "                end\n",
    "                \n",
    "                # checking solution\n",
    "                if sol_temp['f'] == 1\n",
    "                    display(\"Solution found\")\n",
    "                    # updating the solution\n",
    "                    global sol_k = sol_temp\n",
    "                    # counter for DRTO executions\n",
    "                    global countDRTO = 1;\n",
    "                    # N.B. need to declare as global due to loop scope\n",
    "                else\n",
    "                    display(\"Solution not found\")\n",
    "                    # does not update either the solution or the counter \n",
    "                end\n",
    "            end\n",
    "            \n",
    "            # saving flag: surrogate for CLDRTO flag\n",
    "            flagCLDRTO[ii,jj,mm] = countDRTO\n",
    "\n",
    "            # Preparing controller \n",
    "            yspk = sol_k['s'][:,countDRTO,2] \n",
    "            countDRTO += 1 \n",
    "            # N.B.:\n",
    "            # using nominal (center) scenario, but any scenario could be used\n",
    "\n",
    "            # solving MPC\n",
    "            sol1 = solveMPC(xk_mpc1,dek_mpc1,uk_1[1],yspk[1],u_mpc_lb,u_mpc_ub,T1_0_bar,Q1_0_bar,mpc1,p,q)\n",
    "            sol2 = solveMPC(xk_mpc2,dek_mpc2,uk_1[2],yspk[2],u_mpc_lb,u_mpc_ub,T2_0_bar,Qm_0_bar,mpc2,p,q)\n",
    "            \n",
    "            # evolving plant\n",
    "            ode_prob_mm = ODEProblem(ode_fun_mm,xk,tspan,[sol1['u'][1],sol2['u'][1],pPlant]);\n",
    "            sol =  solve(ode_prob_mm, Rodas5(),reltol=1e-8,abstol=1e-8,save_everystep = false);\n",
    "\n",
    "            # loop\n",
    "            # -> Plant \n",
    "            xk = sol.u[end]\n",
    "            uk_1 = [sol1['u'][1],sol2['u'][1]]\n",
    "            \n",
    "            # -> MPCs\n",
    "            # evolving MPC models\n",
    "            xk_mpc1  = a1_hat*xk_mpc1 + b1_hat*(sol1['u'][1] - Q1_0_bar)\n",
    "            dek_mpc1 = sol.u[end][4] - (xk_mpc1 + T1_0_bar)\n",
    "\n",
    "            xk_mpc2  = a2_hat*xk_mpc2 + b2_hat*(sol2['u'][1] - Qm_0_bar)\n",
    "            dek_mpc2 = sol.u[end][9] - (xk_mpc2 + T2_0_bar)\n",
    "\n",
    "            # -> DRTO\n",
    "            Cpk = [xk[1] xk[6];\n",
    "                   xk[2] xk[7];\n",
    "                   xk[3] xk[8]]\n",
    "            Tpk = [xk[4] xk[9]]\n",
    "            \n",
    "            # saving CLDRTO decisions\n",
    "            yspPlant[1,ii,jj,mm] = yspk[1]\n",
    "            yspPlant[2,ii,jj,mm] = yspk[2]\n",
    "            \n",
    "            \n",
    "            \n",
    "        end # simulation\n",
    "    end # monolithic || decomposed\n",
    "end # MC"
   ]
  },
  {
   "cell_type": "markdown",
   "id": "17935b10",
   "metadata": {},
   "source": [
    "Preparing plot"
   ]
  },
  {
   "cell_type": "code",
   "execution_count": 19,
   "id": "f6527b20",
   "metadata": {},
   "outputs": [],
   "source": [
    "# time series for plotting\n",
    "ts = Vector{Float64}(undef,nsim) \n",
    "for i in 1:nsim\n",
    "    ts[i] = 1*i\n",
    "end\n",
    "\n",
    "# one subplot for each method\n",
    "num_subplots = 2\n",
    "\n",
    "# Creating color array\n",
    "CList = reshape( range(colorant\"red\", stop=colorant\"blue\",length=n_MC), 1, n_MC);\n",
    "MList =[:square, :circle];"
   ]
  },
  {
   "cell_type": "markdown",
   "id": "443f08f8",
   "metadata": {},
   "source": [
    "- Reactor 1: Reactor Temperature / Setpoint / Jacket Temperature / MV"
   ]
  },
  {
   "cell_type": "code",
   "execution_count": 20,
   "id": "9290063f",
   "metadata": {},
   "outputs": [
    {
     "data": {
      "image/svg+xml": [
       "<?xml version=\"1.0\" encoding=\"utf-8\"?>\n",
       "<svg xmlns=\"http://www.w3.org/2000/svg\" xmlns:xlink=\"http://www.w3.org/1999/xlink\" width=\"600\" height=\"400\" viewBox=\"0 0 2400 1600\">\n",
       "<defs>\n",
       "  <clipPath id=\"clip510\">\n",
       "    <rect x=\"0\" y=\"0\" width=\"2400\" height=\"1600\"/>\n",
       "  </clipPath>\n",
       "</defs>\n",
       "<path clip-path=\"url(#clip510)\" d=\"M0 1600 L2400 1600 L2400 0 L0 0  Z\" fill=\"#ffffff\" fill-rule=\"evenodd\" fill-opacity=\"1\"/>\n",
       "<defs>\n",
       "  <clipPath id=\"clip511\">\n",
       "    <rect x=\"480\" y=\"0\" width=\"1681\" height=\"1600\"/>\n",
       "  </clipPath>\n",
       "</defs>\n",
       "<path clip-path=\"url(#clip510)\" d=\"M385 686.448 L2352.76 686.448 L2352.76 47.2441 L385 47.2441  Z\" fill=\"#ffffff\" fill-rule=\"evenodd\" fill-opacity=\"1\"/>\n",
       "<defs>\n",
       "  <clipPath id=\"clip512\">\n",
       "    <rect x=\"384\" y=\"47\" width=\"1969\" height=\"640\"/>\n",
       "  </clipPath>\n",
       "</defs>\n",
       "<polyline clip-path=\"url(#clip512)\" style=\"stroke:#000000; stroke-linecap:round; stroke-linejoin:round; stroke-width:8; stroke-opacity:0.1; fill:none\" points=\"393.092,686.448 393.092,47.2441 \"/>\n",
       "<polyline clip-path=\"url(#clip512)\" style=\"stroke:#000000; stroke-linecap:round; stroke-linejoin:round; stroke-width:8; stroke-opacity:0.1; fill:none\" points=\"869.085,686.448 869.085,47.2441 \"/>\n",
       "<polyline clip-path=\"url(#clip512)\" style=\"stroke:#000000; stroke-linecap:round; stroke-linejoin:round; stroke-width:8; stroke-opacity:0.1; fill:none\" points=\"1345.08,686.448 1345.08,47.2441 \"/>\n",
       "<polyline clip-path=\"url(#clip512)\" style=\"stroke:#000000; stroke-linecap:round; stroke-linejoin:round; stroke-width:8; stroke-opacity:0.1; fill:none\" points=\"1821.07,686.448 1821.07,47.2441 \"/>\n",
       "<polyline clip-path=\"url(#clip512)\" style=\"stroke:#000000; stroke-linecap:round; stroke-linejoin:round; stroke-width:8; stroke-opacity:0.1; fill:none\" points=\"2297.06,686.448 2297.06,47.2441 \"/>\n",
       "<polyline clip-path=\"url(#clip510)\" style=\"stroke:#000000; stroke-linecap:round; stroke-linejoin:round; stroke-width:4; stroke-opacity:1; fill:none\" points=\"385,686.448 2352.76,686.448 \"/>\n",
       "<polyline clip-path=\"url(#clip510)\" style=\"stroke:#000000; stroke-linecap:round; stroke-linejoin:round; stroke-width:4; stroke-opacity:1; fill:none\" points=\"393.092,686.448 393.092,667.55 \"/>\n",
       "<polyline clip-path=\"url(#clip510)\" style=\"stroke:#000000; stroke-linecap:round; stroke-linejoin:round; stroke-width:4; stroke-opacity:1; fill:none\" points=\"869.085,686.448 869.085,667.55 \"/>\n",
       "<polyline clip-path=\"url(#clip510)\" style=\"stroke:#000000; stroke-linecap:round; stroke-linejoin:round; stroke-width:4; stroke-opacity:1; fill:none\" points=\"1345.08,686.448 1345.08,667.55 \"/>\n",
       "<polyline clip-path=\"url(#clip510)\" style=\"stroke:#000000; stroke-linecap:round; stroke-linejoin:round; stroke-width:4; stroke-opacity:1; fill:none\" points=\"1821.07,686.448 1821.07,667.55 \"/>\n",
       "<polyline clip-path=\"url(#clip510)\" style=\"stroke:#000000; stroke-linecap:round; stroke-linejoin:round; stroke-width:4; stroke-opacity:1; fill:none\" points=\"2297.06,686.448 2297.06,667.55 \"/>\n",
       "<path clip-path=\"url(#clip510)\" d=\"M393.092 717.367 Q389.481 717.367 387.652 720.931 Q385.846 724.473 385.846 731.603 Q385.846 738.709 387.652 742.274 Q389.481 745.815 393.092 745.815 Q396.726 745.815 398.532 742.274 Q400.36 738.709 400.36 731.603 Q400.36 724.473 398.532 720.931 Q396.726 717.367 393.092 717.367 M393.092 713.663 Q398.902 713.663 401.958 718.269 Q405.036 722.853 405.036 731.603 Q405.036 740.329 401.958 744.936 Q398.902 749.519 393.092 749.519 Q387.282 749.519 384.203 744.936 Q381.147 740.329 381.147 731.603 Q381.147 722.853 384.203 718.269 Q387.282 713.663 393.092 713.663 Z\" fill=\"#000000\" fill-rule=\"evenodd\" fill-opacity=\"1\" /><path clip-path=\"url(#clip510)\" d=\"M843.773 744.913 L851.412 744.913 L851.412 718.547 L843.101 720.214 L843.101 715.955 L851.365 714.288 L856.041 714.288 L856.041 744.913 L863.68 744.913 L863.68 748.848 L843.773 748.848 L843.773 744.913 Z\" fill=\"#000000\" fill-rule=\"evenodd\" fill-opacity=\"1\" /><path clip-path=\"url(#clip510)\" d=\"M883.124 717.367 Q879.513 717.367 877.685 720.931 Q875.879 724.473 875.879 731.603 Q875.879 738.709 877.685 742.274 Q879.513 745.815 883.124 745.815 Q886.759 745.815 888.564 742.274 Q890.393 738.709 890.393 731.603 Q890.393 724.473 888.564 720.931 Q886.759 717.367 883.124 717.367 M883.124 713.663 Q888.934 713.663 891.99 718.269 Q895.069 722.853 895.069 731.603 Q895.069 740.329 891.99 744.936 Q888.934 749.519 883.124 749.519 Q877.314 749.519 874.235 744.936 Q871.18 740.329 871.18 731.603 Q871.18 722.853 874.235 718.269 Q877.314 713.663 883.124 713.663 Z\" fill=\"#000000\" fill-rule=\"evenodd\" fill-opacity=\"1\" /><path clip-path=\"url(#clip510)\" d=\"M1323.85 744.913 L1340.17 744.913 L1340.17 748.848 L1318.23 748.848 L1318.23 744.913 Q1320.89 742.158 1325.47 737.528 Q1330.08 732.876 1331.26 731.533 Q1333.5 729.01 1334.38 727.274 Q1335.29 725.515 1335.29 723.825 Q1335.29 721.07 1333.34 719.334 Q1331.42 717.598 1328.32 717.598 Q1326.12 717.598 1323.67 718.362 Q1321.24 719.126 1318.46 720.677 L1318.46 715.955 Q1321.28 714.82 1323.74 714.242 Q1326.19 713.663 1328.23 713.663 Q1333.6 713.663 1336.79 716.348 Q1339.99 719.033 1339.99 723.524 Q1339.99 725.654 1339.18 727.575 Q1338.39 729.473 1336.28 732.066 Q1335.7 732.737 1332.6 735.954 Q1329.5 739.149 1323.85 744.913 Z\" fill=\"#000000\" fill-rule=\"evenodd\" fill-opacity=\"1\" /><path clip-path=\"url(#clip510)\" d=\"M1359.99 717.367 Q1356.37 717.367 1354.55 720.931 Q1352.74 724.473 1352.74 731.603 Q1352.74 738.709 1354.55 742.274 Q1356.37 745.815 1359.99 745.815 Q1363.62 745.815 1365.43 742.274 Q1367.25 738.709 1367.25 731.603 Q1367.25 724.473 1365.43 720.931 Q1363.62 717.367 1359.99 717.367 M1359.99 713.663 Q1365.8 713.663 1368.85 718.269 Q1371.93 722.853 1371.93 731.603 Q1371.93 740.329 1368.85 744.936 Q1365.8 749.519 1359.99 749.519 Q1354.18 749.519 1351.1 744.936 Q1348.04 740.329 1348.04 731.603 Q1348.04 722.853 1351.1 718.269 Q1354.18 713.663 1359.99 713.663 Z\" fill=\"#000000\" fill-rule=\"evenodd\" fill-opacity=\"1\" /><path clip-path=\"url(#clip510)\" d=\"M1809.91 730.214 Q1813.27 730.931 1815.15 733.2 Q1817.04 735.468 1817.04 738.802 Q1817.04 743.917 1813.53 746.718 Q1810.01 749.519 1803.53 749.519 Q1801.35 749.519 1799.03 749.079 Q1796.74 748.663 1794.29 747.806 L1794.29 743.292 Q1796.23 744.427 1798.55 745.005 Q1800.86 745.584 1803.39 745.584 Q1807.78 745.584 1810.08 743.848 Q1812.39 742.112 1812.39 738.802 Q1812.39 735.746 1810.24 734.033 Q1808.11 732.297 1804.29 732.297 L1800.26 732.297 L1800.26 728.454 L1804.47 728.454 Q1807.92 728.454 1809.75 727.089 Q1811.58 725.7 1811.58 723.107 Q1811.58 720.445 1809.68 719.033 Q1807.81 717.598 1804.29 717.598 Q1802.37 717.598 1800.17 718.015 Q1797.97 718.431 1795.33 719.311 L1795.33 715.144 Q1797.99 714.404 1800.31 714.033 Q1802.65 713.663 1804.71 713.663 Q1810.03 713.663 1813.13 716.093 Q1816.23 718.501 1816.23 722.621 Q1816.23 725.492 1814.59 727.482 Q1812.95 729.45 1809.91 730.214 Z\" fill=\"#000000\" fill-rule=\"evenodd\" fill-opacity=\"1\" /><path clip-path=\"url(#clip510)\" d=\"M1835.91 717.367 Q1832.3 717.367 1830.47 720.931 Q1828.66 724.473 1828.66 731.603 Q1828.66 738.709 1830.47 742.274 Q1832.3 745.815 1835.91 745.815 Q1839.54 745.815 1841.35 742.274 Q1843.18 738.709 1843.18 731.603 Q1843.18 724.473 1841.35 720.931 Q1839.54 717.367 1835.91 717.367 M1835.91 713.663 Q1841.72 713.663 1844.78 718.269 Q1847.85 722.853 1847.85 731.603 Q1847.85 740.329 1844.78 744.936 Q1841.72 749.519 1835.91 749.519 Q1830.1 749.519 1827.02 744.936 Q1823.96 740.329 1823.96 731.603 Q1823.96 722.853 1827.02 718.269 Q1830.1 713.663 1835.91 713.663 Z\" fill=\"#000000\" fill-rule=\"evenodd\" fill-opacity=\"1\" /><path clip-path=\"url(#clip510)\" d=\"M2285.24 718.362 L2273.43 736.811 L2285.24 736.811 L2285.24 718.362 M2284.01 714.288 L2289.89 714.288 L2289.89 736.811 L2294.82 736.811 L2294.82 740.7 L2289.89 740.7 L2289.89 748.848 L2285.24 748.848 L2285.24 740.7 L2269.63 740.7 L2269.63 736.186 L2284.01 714.288 Z\" fill=\"#000000\" fill-rule=\"evenodd\" fill-opacity=\"1\" /><path clip-path=\"url(#clip510)\" d=\"M2312.55 717.367 Q2308.94 717.367 2307.11 720.931 Q2305.31 724.473 2305.31 731.603 Q2305.31 738.709 2307.11 742.274 Q2308.94 745.815 2312.55 745.815 Q2316.18 745.815 2317.99 742.274 Q2319.82 738.709 2319.82 731.603 Q2319.82 724.473 2317.99 720.931 Q2316.18 717.367 2312.55 717.367 M2312.55 713.663 Q2318.36 713.663 2321.42 718.269 Q2324.5 722.853 2324.5 731.603 Q2324.5 740.329 2321.42 744.936 Q2318.36 749.519 2312.55 749.519 Q2306.74 749.519 2303.66 744.936 Q2300.61 740.329 2300.61 731.603 Q2300.61 722.853 2303.66 718.269 Q2306.74 713.663 2312.55 713.663 Z\" fill=\"#000000\" fill-rule=\"evenodd\" fill-opacity=\"1\" /><polyline clip-path=\"url(#clip512)\" style=\"stroke:#000000; stroke-linecap:round; stroke-linejoin:round; stroke-width:8; stroke-opacity:0.1; fill:none\" points=\"385,668.357 2352.76,668.357 \"/>\n",
       "<polyline clip-path=\"url(#clip512)\" style=\"stroke:#000000; stroke-linecap:round; stroke-linejoin:round; stroke-width:8; stroke-opacity:0.1; fill:none\" points=\"385,577.269 2352.76,577.269 \"/>\n",
       "<polyline clip-path=\"url(#clip512)\" style=\"stroke:#000000; stroke-linecap:round; stroke-linejoin:round; stroke-width:8; stroke-opacity:0.1; fill:none\" points=\"385,486.181 2352.76,486.181 \"/>\n",
       "<polyline clip-path=\"url(#clip512)\" style=\"stroke:#000000; stroke-linecap:round; stroke-linejoin:round; stroke-width:8; stroke-opacity:0.1; fill:none\" points=\"385,395.093 2352.76,395.093 \"/>\n",
       "<polyline clip-path=\"url(#clip512)\" style=\"stroke:#000000; stroke-linecap:round; stroke-linejoin:round; stroke-width:8; stroke-opacity:0.1; fill:none\" points=\"385,304.004 2352.76,304.004 \"/>\n",
       "<polyline clip-path=\"url(#clip512)\" style=\"stroke:#000000; stroke-linecap:round; stroke-linejoin:round; stroke-width:8; stroke-opacity:0.1; fill:none\" points=\"385,212.916 2352.76,212.916 \"/>\n",
       "<polyline clip-path=\"url(#clip512)\" style=\"stroke:#000000; stroke-linecap:round; stroke-linejoin:round; stroke-width:8; stroke-opacity:0.1; fill:none\" points=\"385,121.828 2352.76,121.828 \"/>\n",
       "<polyline clip-path=\"url(#clip510)\" style=\"stroke:#000000; stroke-linecap:round; stroke-linejoin:round; stroke-width:4; stroke-opacity:1; fill:none\" points=\"385,686.448 385,47.2441 \"/>\n",
       "<polyline clip-path=\"url(#clip510)\" style=\"stroke:#000000; stroke-linecap:round; stroke-linejoin:round; stroke-width:4; stroke-opacity:1; fill:none\" points=\"385,668.357 403.898,668.357 \"/>\n",
       "<polyline clip-path=\"url(#clip510)\" style=\"stroke:#000000; stroke-linecap:round; stroke-linejoin:round; stroke-width:4; stroke-opacity:1; fill:none\" points=\"385,577.269 403.898,577.269 \"/>\n",
       "<polyline clip-path=\"url(#clip510)\" style=\"stroke:#000000; stroke-linecap:round; stroke-linejoin:round; stroke-width:4; stroke-opacity:1; fill:none\" points=\"385,486.181 403.898,486.181 \"/>\n",
       "<polyline clip-path=\"url(#clip510)\" style=\"stroke:#000000; stroke-linecap:round; stroke-linejoin:round; stroke-width:4; stroke-opacity:1; fill:none\" points=\"385,395.093 403.898,395.093 \"/>\n",
       "<polyline clip-path=\"url(#clip510)\" style=\"stroke:#000000; stroke-linecap:round; stroke-linejoin:round; stroke-width:4; stroke-opacity:1; fill:none\" points=\"385,304.004 403.898,304.004 \"/>\n",
       "<polyline clip-path=\"url(#clip510)\" style=\"stroke:#000000; stroke-linecap:round; stroke-linejoin:round; stroke-width:4; stroke-opacity:1; fill:none\" points=\"385,212.916 403.898,212.916 \"/>\n",
       "<polyline clip-path=\"url(#clip510)\" style=\"stroke:#000000; stroke-linecap:round; stroke-linejoin:round; stroke-width:4; stroke-opacity:1; fill:none\" points=\"385,121.828 403.898,121.828 \"/>\n",
       "<path clip-path=\"url(#clip510)\" d=\"M337.056 654.156 Q333.444 654.156 331.616 657.721 Q329.81 661.262 329.81 668.392 Q329.81 675.498 331.616 679.063 Q333.444 682.605 337.056 682.605 Q340.69 682.605 342.495 679.063 Q344.324 675.498 344.324 668.392 Q344.324 661.262 342.495 657.721 Q340.69 654.156 337.056 654.156 M337.056 650.452 Q342.866 650.452 345.921 655.059 Q349 659.642 349 668.392 Q349 677.119 345.921 681.725 Q342.866 686.308 337.056 686.308 Q331.245 686.308 328.167 681.725 Q325.111 677.119 325.111 668.392 Q325.111 659.642 328.167 655.059 Q331.245 650.452 337.056 650.452 Z\" fill=\"#000000\" fill-rule=\"evenodd\" fill-opacity=\"1\" /><path clip-path=\"url(#clip510)\" d=\"M139.312 597.061 L146.951 597.061 L146.951 570.696 L138.641 572.362 L138.641 568.103 L146.905 566.437 L151.581 566.437 L151.581 597.061 L159.219 597.061 L159.219 600.997 L139.312 600.997 L139.312 597.061 Z\" fill=\"#000000\" fill-rule=\"evenodd\" fill-opacity=\"1\" /><path clip-path=\"url(#clip510)\" d=\"M168.664 595.117 L173.548 595.117 L173.548 600.997 L168.664 600.997 L168.664 595.117 Z\" fill=\"#000000\" fill-rule=\"evenodd\" fill-opacity=\"1\" /><path clip-path=\"url(#clip510)\" d=\"M193.733 569.515 Q190.122 569.515 188.293 573.08 Q186.488 576.622 186.488 583.751 Q186.488 590.858 188.293 594.423 Q190.122 597.964 193.733 597.964 Q197.367 597.964 199.173 594.423 Q201.002 590.858 201.002 583.751 Q201.002 576.622 199.173 573.08 Q197.367 569.515 193.733 569.515 M193.733 565.812 Q199.543 565.812 202.599 570.418 Q205.677 575.001 205.677 583.751 Q205.677 592.478 202.599 597.085 Q199.543 601.668 193.733 601.668 Q187.923 601.668 184.844 597.085 Q181.789 592.478 181.789 583.751 Q181.789 575.001 184.844 570.418 Q187.923 565.812 193.733 565.812 Z\" fill=\"#000000\" fill-rule=\"evenodd\" fill-opacity=\"1\" /><path clip-path=\"url(#clip510)\" d=\"M242.066 575.534 L231.488 586.159 L242.066 596.737 L239.312 599.538 L228.687 588.913 L218.062 599.538 L215.33 596.737 L225.886 586.159 L215.33 575.534 L218.062 572.733 L228.687 583.358 L239.312 572.733 L242.066 575.534 Z\" fill=\"#000000\" fill-rule=\"evenodd\" fill-opacity=\"1\" /><path clip-path=\"url(#clip510)\" d=\"M254.427 597.061 L262.066 597.061 L262.066 570.696 L253.756 572.362 L253.756 568.103 L262.02 566.437 L266.696 566.437 L266.696 597.061 L274.335 597.061 L274.335 600.997 L254.427 600.997 L254.427 597.061 Z\" fill=\"#000000\" fill-rule=\"evenodd\" fill-opacity=\"1\" /><path clip-path=\"url(#clip510)\" d=\"M293.779 569.515 Q290.168 569.515 288.339 573.08 Q286.534 576.622 286.534 583.751 Q286.534 590.858 288.339 594.423 Q290.168 597.964 293.779 597.964 Q297.413 597.964 299.219 594.423 Q301.047 590.858 301.047 583.751 Q301.047 576.622 299.219 573.08 Q297.413 569.515 293.779 569.515 M293.779 565.812 Q299.589 565.812 302.645 570.418 Q305.723 575.001 305.723 583.751 Q305.723 592.478 302.645 597.085 Q299.589 601.668 293.779 601.668 Q287.969 601.668 284.89 597.085 Q281.834 592.478 281.834 583.751 Q281.834 575.001 284.89 570.418 Q287.969 565.812 293.779 565.812 Z\" fill=\"#000000\" fill-rule=\"evenodd\" fill-opacity=\"1\" /><path clip-path=\"url(#clip510)\" d=\"M318.4 548.816 L308.808 563.806 L318.4 563.806 L318.4 548.816 M317.403 545.506 L322.18 545.506 L322.18 563.806 L326.186 563.806 L326.186 566.966 L322.18 566.966 L322.18 573.586 L318.4 573.586 L318.4 566.966 L305.723 566.966 L305.723 563.298 L317.403 545.506 Z\" fill=\"#000000\" fill-rule=\"evenodd\" fill-opacity=\"1\" /><path clip-path=\"url(#clip510)\" d=\"M335.74 570.389 L349 570.389 L349 573.586 L331.17 573.586 L331.17 570.389 Q333.333 568.151 337.057 564.389 Q340.8 560.609 341.759 559.518 Q343.583 557.468 344.298 556.057 Q345.031 554.628 345.031 553.255 Q345.031 551.017 343.452 549.606 Q341.891 548.196 339.37 548.196 Q337.584 548.196 335.59 548.816 Q333.615 549.437 331.358 550.697 L331.358 546.86 Q333.653 545.939 335.646 545.469 Q337.64 544.998 339.295 544.998 Q343.659 544.998 346.254 547.18 Q348.849 549.362 348.849 553.01 Q348.849 554.741 348.191 556.302 Q347.552 557.844 345.84 559.951 Q345.37 560.496 342.85 563.11 Q340.33 565.706 335.74 570.389 Z\" fill=\"#000000\" fill-rule=\"evenodd\" fill-opacity=\"1\" /><path clip-path=\"url(#clip510)\" d=\"M142.53 505.973 L158.849 505.973 L158.849 509.908 L136.905 509.908 L136.905 505.973 Q139.567 503.219 144.15 498.589 Q148.757 493.936 149.937 492.594 Q152.182 490.07 153.062 488.334 Q153.965 486.575 153.965 484.885 Q153.965 482.131 152.02 480.395 Q150.099 478.659 146.997 478.659 Q144.798 478.659 142.344 479.422 Q139.914 480.186 137.136 481.737 L137.136 477.015 Q139.96 475.881 142.414 475.302 Q144.868 474.723 146.905 474.723 Q152.275 474.723 155.469 477.409 Q158.664 480.094 158.664 484.584 Q158.664 486.714 157.854 488.635 Q157.067 490.533 154.96 493.126 Q154.381 493.797 151.28 497.015 Q148.178 500.209 142.53 505.973 Z\" fill=\"#000000\" fill-rule=\"evenodd\" fill-opacity=\"1\" /><path clip-path=\"url(#clip510)\" d=\"M168.664 504.029 L173.548 504.029 L173.548 509.908 L168.664 509.908 L168.664 504.029 Z\" fill=\"#000000\" fill-rule=\"evenodd\" fill-opacity=\"1\" /><path clip-path=\"url(#clip510)\" d=\"M193.733 478.427 Q190.122 478.427 188.293 481.992 Q186.488 485.533 186.488 492.663 Q186.488 499.77 188.293 503.334 Q190.122 506.876 193.733 506.876 Q197.367 506.876 199.173 503.334 Q201.002 499.77 201.002 492.663 Q201.002 485.533 199.173 481.992 Q197.367 478.427 193.733 478.427 M193.733 474.723 Q199.543 474.723 202.599 479.33 Q205.677 483.913 205.677 492.663 Q205.677 501.39 202.599 505.996 Q199.543 510.58 193.733 510.58 Q187.923 510.58 184.844 505.996 Q181.789 501.39 181.789 492.663 Q181.789 483.913 184.844 479.33 Q187.923 474.723 193.733 474.723 Z\" fill=\"#000000\" fill-rule=\"evenodd\" fill-opacity=\"1\" /><path clip-path=\"url(#clip510)\" d=\"M242.066 484.446 L231.488 495.07 L242.066 505.649 L239.312 508.45 L228.687 497.825 L218.062 508.45 L215.33 505.649 L225.886 495.07 L215.33 484.446 L218.062 481.645 L228.687 492.27 L239.312 481.645 L242.066 484.446 Z\" fill=\"#000000\" fill-rule=\"evenodd\" fill-opacity=\"1\" /><path clip-path=\"url(#clip510)\" d=\"M254.427 505.973 L262.066 505.973 L262.066 479.608 L253.756 481.274 L253.756 477.015 L262.02 475.348 L266.696 475.348 L266.696 505.973 L274.335 505.973 L274.335 509.908 L254.427 509.908 L254.427 505.973 Z\" fill=\"#000000\" fill-rule=\"evenodd\" fill-opacity=\"1\" /><path clip-path=\"url(#clip510)\" d=\"M293.779 478.427 Q290.168 478.427 288.339 481.992 Q286.534 485.533 286.534 492.663 Q286.534 499.77 288.339 503.334 Q290.168 506.876 293.779 506.876 Q297.413 506.876 299.219 503.334 Q301.047 499.77 301.047 492.663 Q301.047 485.533 299.219 481.992 Q297.413 478.427 293.779 478.427 M293.779 474.723 Q299.589 474.723 302.645 479.33 Q305.723 483.913 305.723 492.663 Q305.723 501.39 302.645 505.996 Q299.589 510.58 293.779 510.58 Q287.969 510.58 284.89 505.996 Q281.834 501.39 281.834 492.663 Q281.834 483.913 284.89 479.33 Q287.969 474.723 293.779 474.723 Z\" fill=\"#000000\" fill-rule=\"evenodd\" fill-opacity=\"1\" /><path clip-path=\"url(#clip510)\" d=\"M318.4 457.728 L308.808 472.718 L318.4 472.718 L318.4 457.728 M317.403 454.418 L322.18 454.418 L322.18 472.718 L326.186 472.718 L326.186 475.878 L322.18 475.878 L322.18 482.498 L318.4 482.498 L318.4 475.878 L305.723 475.878 L305.723 472.21 L317.403 454.418 Z\" fill=\"#000000\" fill-rule=\"evenodd\" fill-opacity=\"1\" /><path clip-path=\"url(#clip510)\" d=\"M335.74 479.301 L349 479.301 L349 482.498 L331.17 482.498 L331.17 479.301 Q333.333 477.062 337.057 473.301 Q340.8 469.521 341.759 468.43 Q343.583 466.38 344.298 464.969 Q345.031 463.54 345.031 462.167 Q345.031 459.929 343.452 458.518 Q341.891 457.107 339.37 457.107 Q337.584 457.107 335.59 457.728 Q333.615 458.349 331.358 459.609 L331.358 455.772 Q333.653 454.851 335.646 454.38 Q337.64 453.91 339.295 453.91 Q343.659 453.91 346.254 456.092 Q348.849 458.274 348.849 461.922 Q348.849 463.653 348.191 465.214 Q347.552 466.756 345.84 468.862 Q345.37 469.408 342.85 472.022 Q340.33 474.617 335.74 479.301 Z\" fill=\"#000000\" fill-rule=\"evenodd\" fill-opacity=\"1\" /><path clip-path=\"url(#clip510)\" d=\"M152.669 400.186 Q156.025 400.904 157.9 403.172 Q159.798 405.441 159.798 408.774 Q159.798 413.89 156.28 416.69 Q152.761 419.491 146.28 419.491 Q144.104 419.491 141.789 419.052 Q139.497 418.635 137.044 417.778 L137.044 413.265 Q138.988 414.399 141.303 414.978 Q143.618 415.556 146.141 415.556 Q150.539 415.556 152.831 413.82 Q155.145 412.084 155.145 408.774 Q155.145 405.718 152.993 404.005 Q150.863 402.269 147.044 402.269 L143.016 402.269 L143.016 398.427 L147.229 398.427 Q150.678 398.427 152.506 397.061 Q154.335 395.672 154.335 393.08 Q154.335 390.417 152.437 389.005 Q150.562 387.57 147.044 387.57 Q145.122 387.57 142.923 387.987 Q140.724 388.404 138.085 389.283 L138.085 385.117 Q140.747 384.376 143.062 384.005 Q145.4 383.635 147.46 383.635 Q152.784 383.635 155.886 386.066 Q158.988 388.473 158.988 392.593 Q158.988 395.464 157.344 397.454 Q155.701 399.422 152.669 400.186 Z\" fill=\"#000000\" fill-rule=\"evenodd\" fill-opacity=\"1\" /><path clip-path=\"url(#clip510)\" d=\"M168.664 412.941 L173.548 412.941 L173.548 418.82 L168.664 418.82 L168.664 412.941 Z\" fill=\"#000000\" fill-rule=\"evenodd\" fill-opacity=\"1\" /><path clip-path=\"url(#clip510)\" d=\"M193.733 387.339 Q190.122 387.339 188.293 390.904 Q186.488 394.445 186.488 401.575 Q186.488 408.681 188.293 412.246 Q190.122 415.788 193.733 415.788 Q197.367 415.788 199.173 412.246 Q201.002 408.681 201.002 401.575 Q201.002 394.445 199.173 390.904 Q197.367 387.339 193.733 387.339 M193.733 383.635 Q199.543 383.635 202.599 388.242 Q205.677 392.825 205.677 401.575 Q205.677 410.302 202.599 414.908 Q199.543 419.491 193.733 419.491 Q187.923 419.491 184.844 414.908 Q181.789 410.302 181.789 401.575 Q181.789 392.825 184.844 388.242 Q187.923 383.635 193.733 383.635 Z\" fill=\"#000000\" fill-rule=\"evenodd\" fill-opacity=\"1\" /><path clip-path=\"url(#clip510)\" d=\"M242.066 393.357 L231.488 403.982 L242.066 414.561 L239.312 417.362 L228.687 406.737 L218.062 417.362 L215.33 414.561 L225.886 403.982 L215.33 393.357 L218.062 390.556 L228.687 401.181 L239.312 390.556 L242.066 393.357 Z\" fill=\"#000000\" fill-rule=\"evenodd\" fill-opacity=\"1\" /><path clip-path=\"url(#clip510)\" d=\"M254.427 414.885 L262.066 414.885 L262.066 388.519 L253.756 390.186 L253.756 385.927 L262.02 384.26 L266.696 384.26 L266.696 414.885 L274.335 414.885 L274.335 418.82 L254.427 418.82 L254.427 414.885 Z\" fill=\"#000000\" fill-rule=\"evenodd\" fill-opacity=\"1\" /><path clip-path=\"url(#clip510)\" d=\"M293.779 387.339 Q290.168 387.339 288.339 390.904 Q286.534 394.445 286.534 401.575 Q286.534 408.681 288.339 412.246 Q290.168 415.788 293.779 415.788 Q297.413 415.788 299.219 412.246 Q301.047 408.681 301.047 401.575 Q301.047 394.445 299.219 390.904 Q297.413 387.339 293.779 387.339 M293.779 383.635 Q299.589 383.635 302.645 388.242 Q305.723 392.825 305.723 401.575 Q305.723 410.302 302.645 414.908 Q299.589 419.491 293.779 419.491 Q287.969 419.491 284.89 414.908 Q281.834 410.302 281.834 401.575 Q281.834 392.825 284.89 388.242 Q287.969 383.635 293.779 383.635 Z\" fill=\"#000000\" fill-rule=\"evenodd\" fill-opacity=\"1\" /><path clip-path=\"url(#clip510)\" d=\"M318.4 366.64 L308.808 381.63 L318.4 381.63 L318.4 366.64 M317.403 363.33 L322.18 363.33 L322.18 381.63 L326.186 381.63 L326.186 384.789 L322.18 384.789 L322.18 391.41 L318.4 391.41 L318.4 384.789 L305.723 384.789 L305.723 381.122 L317.403 363.33 Z\" fill=\"#000000\" fill-rule=\"evenodd\" fill-opacity=\"1\" /><path clip-path=\"url(#clip510)\" d=\"M335.74 388.212 L349 388.212 L349 391.41 L331.17 391.41 L331.17 388.212 Q333.333 385.974 337.057 382.213 Q340.8 378.432 341.759 377.342 Q343.583 375.291 344.298 373.881 Q345.031 372.451 345.031 371.079 Q345.031 368.84 343.452 367.43 Q341.891 366.019 339.37 366.019 Q337.584 366.019 335.59 366.64 Q333.615 367.261 331.358 368.521 L331.358 364.684 Q333.653 363.762 335.646 363.292 Q337.64 362.822 339.295 362.822 Q343.659 362.822 346.254 365.004 Q348.849 367.185 348.849 370.834 Q348.849 372.564 348.191 374.125 Q347.552 375.668 345.84 377.774 Q345.37 378.32 342.85 380.934 Q340.33 383.529 335.74 388.212 Z\" fill=\"#000000\" fill-rule=\"evenodd\" fill-opacity=\"1\" /><path clip-path=\"url(#clip510)\" d=\"M151.349 297.246 L139.544 315.695 L151.349 315.695 L151.349 297.246 M150.122 293.172 L156.002 293.172 L156.002 315.695 L160.932 315.695 L160.932 319.584 L156.002 319.584 L156.002 327.732 L151.349 327.732 L151.349 319.584 L135.747 319.584 L135.747 315.07 L150.122 293.172 Z\" fill=\"#000000\" fill-rule=\"evenodd\" fill-opacity=\"1\" /><path clip-path=\"url(#clip510)\" d=\"M168.664 321.852 L173.548 321.852 L173.548 327.732 L168.664 327.732 L168.664 321.852 Z\" fill=\"#000000\" fill-rule=\"evenodd\" fill-opacity=\"1\" /><path clip-path=\"url(#clip510)\" d=\"M193.733 296.251 Q190.122 296.251 188.293 299.815 Q186.488 303.357 186.488 310.487 Q186.488 317.593 188.293 321.158 Q190.122 324.699 193.733 324.699 Q197.367 324.699 199.173 321.158 Q201.002 317.593 201.002 310.487 Q201.002 303.357 199.173 299.815 Q197.367 296.251 193.733 296.251 M193.733 292.547 Q199.543 292.547 202.599 297.153 Q205.677 301.737 205.677 310.487 Q205.677 319.213 202.599 323.82 Q199.543 328.403 193.733 328.403 Q187.923 328.403 184.844 323.82 Q181.789 319.213 181.789 310.487 Q181.789 301.737 184.844 297.153 Q187.923 292.547 193.733 292.547 Z\" fill=\"#000000\" fill-rule=\"evenodd\" fill-opacity=\"1\" /><path clip-path=\"url(#clip510)\" d=\"M242.066 302.269 L231.488 312.894 L242.066 323.473 L239.312 326.274 L228.687 315.649 L218.062 326.274 L215.33 323.473 L225.886 312.894 L215.33 302.269 L218.062 299.468 L228.687 310.093 L239.312 299.468 L242.066 302.269 Z\" fill=\"#000000\" fill-rule=\"evenodd\" fill-opacity=\"1\" /><path clip-path=\"url(#clip510)\" d=\"M254.427 323.797 L262.066 323.797 L262.066 297.431 L253.756 299.098 L253.756 294.839 L262.02 293.172 L266.696 293.172 L266.696 323.797 L274.335 323.797 L274.335 327.732 L254.427 327.732 L254.427 323.797 Z\" fill=\"#000000\" fill-rule=\"evenodd\" fill-opacity=\"1\" /><path clip-path=\"url(#clip510)\" d=\"M293.779 296.251 Q290.168 296.251 288.339 299.815 Q286.534 303.357 286.534 310.487 Q286.534 317.593 288.339 321.158 Q290.168 324.699 293.779 324.699 Q297.413 324.699 299.219 321.158 Q301.047 317.593 301.047 310.487 Q301.047 303.357 299.219 299.815 Q297.413 296.251 293.779 296.251 M293.779 292.547 Q299.589 292.547 302.645 297.153 Q305.723 301.737 305.723 310.487 Q305.723 319.213 302.645 323.82 Q299.589 328.403 293.779 328.403 Q287.969 328.403 284.89 323.82 Q281.834 319.213 281.834 310.487 Q281.834 301.737 284.89 297.153 Q287.969 292.547 293.779 292.547 Z\" fill=\"#000000\" fill-rule=\"evenodd\" fill-opacity=\"1\" /><path clip-path=\"url(#clip510)\" d=\"M318.4 275.552 L308.808 290.541 L318.4 290.541 L318.4 275.552 M317.403 272.241 L322.18 272.241 L322.18 290.541 L326.186 290.541 L326.186 293.701 L322.18 293.701 L322.18 300.321 L318.4 300.321 L318.4 293.701 L305.723 293.701 L305.723 290.034 L317.403 272.241 Z\" fill=\"#000000\" fill-rule=\"evenodd\" fill-opacity=\"1\" /><path clip-path=\"url(#clip510)\" d=\"M335.74 297.124 L349 297.124 L349 300.321 L331.17 300.321 L331.17 297.124 Q333.333 294.886 337.057 291.124 Q340.8 287.344 341.759 286.253 Q343.583 284.203 344.298 282.793 Q345.031 281.363 345.031 279.99 Q345.031 277.752 343.452 276.342 Q341.891 274.931 339.37 274.931 Q337.584 274.931 335.59 275.552 Q333.615 276.172 331.358 277.432 L331.358 273.596 Q333.653 272.674 335.646 272.204 Q337.64 271.734 339.295 271.734 Q343.659 271.734 346.254 273.915 Q348.849 276.097 348.849 279.746 Q348.849 281.476 348.191 283.037 Q347.552 284.579 345.84 286.686 Q345.37 287.231 342.85 289.846 Q340.33 292.441 335.74 297.124 Z\" fill=\"#000000\" fill-rule=\"evenodd\" fill-opacity=\"1\" /><path clip-path=\"url(#clip510)\" d=\"M138.548 202.084 L156.905 202.084 L156.905 206.019 L142.831 206.019 L142.831 214.491 Q143.849 214.144 144.868 213.982 Q145.886 213.797 146.905 213.797 Q152.692 213.797 156.071 216.968 Q159.451 220.139 159.451 225.556 Q159.451 231.134 155.979 234.236 Q152.506 237.315 146.187 237.315 Q144.011 237.315 141.743 236.945 Q139.497 236.574 137.09 235.833 L137.09 231.134 Q139.173 232.269 141.395 232.824 Q143.618 233.38 146.094 233.38 Q150.099 233.38 152.437 231.273 Q154.775 229.167 154.775 225.556 Q154.775 221.945 152.437 219.838 Q150.099 217.732 146.094 217.732 Q144.219 217.732 142.344 218.148 Q140.493 218.565 138.548 219.445 L138.548 202.084 Z\" fill=\"#000000\" fill-rule=\"evenodd\" fill-opacity=\"1\" /><path clip-path=\"url(#clip510)\" d=\"M168.664 230.764 L173.548 230.764 L173.548 236.644 L168.664 236.644 L168.664 230.764 Z\" fill=\"#000000\" fill-rule=\"evenodd\" fill-opacity=\"1\" /><path clip-path=\"url(#clip510)\" d=\"M193.733 205.162 Q190.122 205.162 188.293 208.727 Q186.488 212.269 186.488 219.398 Q186.488 226.505 188.293 230.07 Q190.122 233.611 193.733 233.611 Q197.367 233.611 199.173 230.07 Q201.002 226.505 201.002 219.398 Q201.002 212.269 199.173 208.727 Q197.367 205.162 193.733 205.162 M193.733 201.459 Q199.543 201.459 202.599 206.065 Q205.677 210.648 205.677 219.398 Q205.677 228.125 202.599 232.732 Q199.543 237.315 193.733 237.315 Q187.923 237.315 184.844 232.732 Q181.789 228.125 181.789 219.398 Q181.789 210.648 184.844 206.065 Q187.923 201.459 193.733 201.459 Z\" fill=\"#000000\" fill-rule=\"evenodd\" fill-opacity=\"1\" /><path clip-path=\"url(#clip510)\" d=\"M242.066 211.181 L231.488 221.806 L242.066 232.384 L239.312 235.185 L228.687 224.56 L218.062 235.185 L215.33 232.384 L225.886 221.806 L215.33 211.181 L218.062 208.38 L228.687 219.005 L239.312 208.38 L242.066 211.181 Z\" fill=\"#000000\" fill-rule=\"evenodd\" fill-opacity=\"1\" /><path clip-path=\"url(#clip510)\" d=\"M254.427 232.708 L262.066 232.708 L262.066 206.343 L253.756 208.01 L253.756 203.75 L262.02 202.084 L266.696 202.084 L266.696 232.708 L274.335 232.708 L274.335 236.644 L254.427 236.644 L254.427 232.708 Z\" fill=\"#000000\" fill-rule=\"evenodd\" fill-opacity=\"1\" /><path clip-path=\"url(#clip510)\" d=\"M293.779 205.162 Q290.168 205.162 288.339 208.727 Q286.534 212.269 286.534 219.398 Q286.534 226.505 288.339 230.07 Q290.168 233.611 293.779 233.611 Q297.413 233.611 299.219 230.07 Q301.047 226.505 301.047 219.398 Q301.047 212.269 299.219 208.727 Q297.413 205.162 293.779 205.162 M293.779 201.459 Q299.589 201.459 302.645 206.065 Q305.723 210.648 305.723 219.398 Q305.723 228.125 302.645 232.732 Q299.589 237.315 293.779 237.315 Q287.969 237.315 284.89 232.732 Q281.834 228.125 281.834 219.398 Q281.834 210.648 284.89 206.065 Q287.969 201.459 293.779 201.459 Z\" fill=\"#000000\" fill-rule=\"evenodd\" fill-opacity=\"1\" /><path clip-path=\"url(#clip510)\" d=\"M318.4 184.463 L308.808 199.453 L318.4 199.453 L318.4 184.463 M317.403 181.153 L322.18 181.153 L322.18 199.453 L326.186 199.453 L326.186 202.613 L322.18 202.613 L322.18 209.233 L318.4 209.233 L318.4 202.613 L305.723 202.613 L305.723 198.945 L317.403 181.153 Z\" fill=\"#000000\" fill-rule=\"evenodd\" fill-opacity=\"1\" /><path clip-path=\"url(#clip510)\" d=\"M335.74 206.036 L349 206.036 L349 209.233 L331.17 209.233 L331.17 206.036 Q333.333 203.798 337.057 200.036 Q340.8 196.256 341.759 195.165 Q343.583 193.115 344.298 191.704 Q345.031 190.275 345.031 188.902 Q345.031 186.664 343.452 185.253 Q341.891 183.843 339.37 183.843 Q337.584 183.843 335.59 184.463 Q333.615 185.084 331.358 186.344 L331.358 182.507 Q333.653 181.586 335.646 181.116 Q337.64 180.645 339.295 180.645 Q343.659 180.645 346.254 182.827 Q348.849 185.009 348.849 188.658 Q348.849 190.388 348.191 191.949 Q347.552 193.491 345.84 195.598 Q345.37 196.143 342.85 198.757 Q340.33 201.353 335.74 206.036 Z\" fill=\"#000000\" fill-rule=\"evenodd\" fill-opacity=\"1\" /><path clip-path=\"url(#clip510)\" d=\"M149.081 126.412 Q145.932 126.412 144.081 128.565 Q142.252 130.718 142.252 134.468 Q142.252 138.194 144.081 140.37 Q145.932 142.523 149.081 142.523 Q152.229 142.523 154.057 140.37 Q155.909 138.194 155.909 134.468 Q155.909 130.718 154.057 128.565 Q152.229 126.412 149.081 126.412 M158.363 111.759 L158.363 116.019 Q156.604 115.185 154.798 114.745 Q153.016 114.306 151.256 114.306 Q146.627 114.306 144.173 117.431 Q141.743 120.556 141.395 126.875 Q142.761 124.861 144.821 123.796 Q146.882 122.708 149.358 122.708 Q154.567 122.708 157.576 125.88 Q160.608 129.028 160.608 134.468 Q160.608 139.792 157.46 143.009 Q154.312 146.227 149.081 146.227 Q143.085 146.227 139.914 141.643 Q136.743 137.037 136.743 128.31 Q136.743 120.116 140.632 115.255 Q144.52 110.37 151.071 110.37 Q152.831 110.37 154.613 110.718 Q156.418 111.065 158.363 111.759 Z\" fill=\"#000000\" fill-rule=\"evenodd\" fill-opacity=\"1\" /><path clip-path=\"url(#clip510)\" d=\"M168.664 139.676 L173.548 139.676 L173.548 145.555 L168.664 145.555 L168.664 139.676 Z\" fill=\"#000000\" fill-rule=\"evenodd\" fill-opacity=\"1\" /><path clip-path=\"url(#clip510)\" d=\"M193.733 114.074 Q190.122 114.074 188.293 117.639 Q186.488 121.181 186.488 128.31 Q186.488 135.417 188.293 138.981 Q190.122 142.523 193.733 142.523 Q197.367 142.523 199.173 138.981 Q201.002 135.417 201.002 128.31 Q201.002 121.181 199.173 117.639 Q197.367 114.074 193.733 114.074 M193.733 110.37 Q199.543 110.37 202.599 114.977 Q205.677 119.56 205.677 128.31 Q205.677 137.037 202.599 141.643 Q199.543 146.227 193.733 146.227 Q187.923 146.227 184.844 141.643 Q181.789 137.037 181.789 128.31 Q181.789 119.56 184.844 114.977 Q187.923 110.37 193.733 110.37 Z\" fill=\"#000000\" fill-rule=\"evenodd\" fill-opacity=\"1\" /><path clip-path=\"url(#clip510)\" d=\"M242.066 120.093 L231.488 130.718 L242.066 141.296 L239.312 144.097 L228.687 133.472 L218.062 144.097 L215.33 141.296 L225.886 130.718 L215.33 120.093 L218.062 117.292 L228.687 127.917 L239.312 117.292 L242.066 120.093 Z\" fill=\"#000000\" fill-rule=\"evenodd\" fill-opacity=\"1\" /><path clip-path=\"url(#clip510)\" d=\"M254.427 141.62 L262.066 141.62 L262.066 115.255 L253.756 116.921 L253.756 112.662 L262.02 110.995 L266.696 110.995 L266.696 141.62 L274.335 141.62 L274.335 145.555 L254.427 145.555 L254.427 141.62 Z\" fill=\"#000000\" fill-rule=\"evenodd\" fill-opacity=\"1\" /><path clip-path=\"url(#clip510)\" d=\"M293.779 114.074 Q290.168 114.074 288.339 117.639 Q286.534 121.181 286.534 128.31 Q286.534 135.417 288.339 138.981 Q290.168 142.523 293.779 142.523 Q297.413 142.523 299.219 138.981 Q301.047 135.417 301.047 128.31 Q301.047 121.181 299.219 117.639 Q297.413 114.074 293.779 114.074 M293.779 110.37 Q299.589 110.37 302.645 114.977 Q305.723 119.56 305.723 128.31 Q305.723 137.037 302.645 141.643 Q299.589 146.227 293.779 146.227 Q287.969 146.227 284.89 141.643 Q281.834 137.037 281.834 128.31 Q281.834 119.56 284.89 114.977 Q287.969 110.37 293.779 110.37 Z\" fill=\"#000000\" fill-rule=\"evenodd\" fill-opacity=\"1\" /><path clip-path=\"url(#clip510)\" d=\"M318.4 93.3752 L308.808 108.365 L318.4 108.365 L318.4 93.3752 M317.403 90.065 L322.18 90.065 L322.18 108.365 L326.186 108.365 L326.186 111.525 L322.18 111.525 L322.18 118.145 L318.4 118.145 L318.4 111.525 L305.723 111.525 L305.723 107.857 L317.403 90.065 Z\" fill=\"#000000\" fill-rule=\"evenodd\" fill-opacity=\"1\" /><path clip-path=\"url(#clip510)\" d=\"M335.74 114.948 L349 114.948 L349 118.145 L331.17 118.145 L331.17 114.948 Q333.333 112.71 337.057 108.948 Q340.8 105.168 341.759 104.077 Q343.583 102.027 344.298 100.616 Q345.031 99.1868 345.031 97.8138 Q345.031 95.5757 343.452 94.1651 Q341.891 92.7545 339.37 92.7545 Q337.584 92.7545 335.59 93.3752 Q333.615 93.9959 331.358 95.256 L331.358 91.4192 Q333.653 90.4976 335.646 90.0274 Q337.64 89.5572 339.295 89.5572 Q343.659 89.5572 346.254 91.7389 Q348.849 93.9206 348.849 97.5693 Q348.849 99.2996 348.191 100.861 Q347.552 102.403 345.84 104.509 Q345.37 105.055 342.85 107.669 Q340.33 110.265 335.74 114.948 Z\" fill=\"#000000\" fill-rule=\"evenodd\" fill-opacity=\"1\" /><path clip-path=\"url(#clip510)\" d=\"M42.4112 418.96 Q43.0231 418.96 43.5384 419.089 L55.0037 420.893 Q55.8733 420.989 56.1953 421.182 Q56.5174 421.343 56.5174 421.859 Q56.5174 422.664 55.68 422.664 Q55.1969 422.664 54.424 422.471 Q50.7847 421.923 49.1422 421.923 Q48.0472 421.923 47.2421 422.149 Q46.4047 422.342 45.825 422.664 Q45.2453 422.954 44.8588 423.63 Q44.4724 424.306 44.2469 424.951 Q44.0215 425.595 43.9249 426.754 Q43.7961 427.913 43.7638 428.912 Q43.7316 429.91 43.7316 431.553 Q43.7316 435.128 43.8605 435.707 Q44.0215 436.319 44.5046 436.641 Q44.9555 436.931 46.3081 437.253 L81.3159 446.013 L82.7007 446.271 Q83.4737 446.271 83.7313 445.788 Q83.989 445.305 84.15 443.823 Q84.311 441.698 84.311 439.604 Q84.311 439.54 84.311 439.411 Q84.311 438.702 84.3432 438.413 Q84.3432 438.123 84.4076 437.833 Q84.4721 437.543 84.6331 437.479 Q84.7619 437.382 85.0196 437.382 Q85.6315 437.382 85.9535 437.64 Q86.2434 437.897 86.3078 438.155 Q86.34 438.38 86.34 438.831 Q86.34 439.733 86.2756 441.665 Q86.2112 443.598 86.2112 444.564 L86.1468 450.039 L86.2112 455.643 Q86.2112 456.512 86.2756 458.348 Q86.34 460.184 86.34 461.053 Q86.34 462.18 85.5349 462.18 Q84.6331 462.18 84.4721 461.762 Q84.311 461.311 84.311 459.411 Q84.311 456.738 84.1822 455.288 Q84.0534 453.839 83.6025 453.066 Q83.1516 452.261 82.7007 452.036 Q82.2176 451.81 81.1226 451.553 L45.9216 442.696 Q45.1487 442.438 44.5368 442.438 Q44.2147 442.438 44.0859 442.535 Q43.9571 442.599 43.8605 443.018 Q43.7316 443.437 43.7316 444.306 L43.7316 446.883 Q43.7316 449.524 43.8605 451.166 Q43.9571 452.776 44.4402 454.322 Q44.9233 455.836 45.5996 456.738 Q46.2759 457.607 47.6608 458.573 Q49.0456 459.54 50.7203 460.248 Q52.395 460.924 55.1325 461.891 Q56.0343 462.213 56.2919 462.406 Q56.5174 462.567 56.5174 463.018 Q56.5174 463.34 56.3241 463.598 Q56.0987 463.823 55.8088 463.823 Q54.746 463.501 54.6172 463.437 L42.9909 459.475 Q42.0569 459.153 41.8959 458.863 Q41.7027 458.541 41.7027 457.35 L41.7027 420.764 Q41.7027 420.184 41.7027 419.991 Q41.7027 419.798 41.7671 419.476 Q41.8315 419.153 41.9925 419.057 Q42.1536 418.96 42.4112 418.96 Z\" fill=\"#000000\" fill-rule=\"evenodd\" fill-opacity=\"1\" /><path clip-path=\"url(#clip510)\" d=\"M87.2125 393.559 Q88.4074 393.559 89.1739 394.348 Q89.9403 395.115 89.9403 396.107 Q89.9403 396.963 89.4444 397.414 Q88.9484 397.865 88.3172 397.865 Q87.4154 397.865 86.6715 397.166 Q85.9275 396.468 85.7697 395.453 Q85.2286 396.197 85.2286 397.392 Q85.2286 399.353 86.7391 401.089 Q87.438 401.856 88.723 402.69 Q89.9854 403.524 90.5265 403.682 L96.5458 405.147 Q97.2221 405.282 100.468 406.116 Q103.692 406.928 103.828 406.996 Q104.459 407.221 104.797 407.717 Q105.135 408.213 105.135 408.709 Q105.135 409.273 104.797 409.656 Q104.459 410.039 103.873 410.039 Q103.782 410.039 103.444 409.971 Q103.106 409.904 102.633 409.791 Q102.159 409.678 101.889 409.633 L91.2254 406.951 Q89.2866 406.455 88.6779 406.342 Q88.0466 406.207 87.3478 406.207 Q86.1304 406.207 85.6795 406.59 Q85.2286 406.973 85.2286 407.649 Q85.2286 408.822 86.6264 409.588 Q88.0241 410.355 90.7294 411.008 Q91.4733 411.211 91.6312 411.347 Q91.789 411.459 91.789 411.798 Q91.7664 412.361 91.3155 412.361 Q91.2028 412.361 90.4814 412.181 Q89.7375 412 88.6553 411.662 Q87.5507 411.302 86.8518 410.918 Q86.3784 410.693 86.0628 410.49 Q85.7471 410.287 85.2512 409.881 Q84.7552 409.475 84.4847 408.867 Q84.2141 408.258 84.2141 407.514 Q84.2141 405.891 85.2061 404.741 Q86.198 403.569 87.7536 403.298 Q86.942 402.735 86.2431 402.036 Q85.5217 401.337 84.8679 400.052 Q84.2141 398.767 84.2141 397.392 Q84.2141 395.678 85.0934 394.619 Q85.95 393.559 87.2125 393.559 Z\" fill=\"#000000\" fill-rule=\"evenodd\" fill-opacity=\"1\" /><path clip-path=\"url(#clip510)\" d=\"M78.2625 388.61 L76.8197 388.61 Q76.8197 383.064 73.8664 380.201 Q73.8664 379.412 74.0468 379.277 Q74.2271 379.141 75.0612 379.141 L100.964 379.141 Q102.34 379.141 102.768 378.465 Q103.196 377.789 103.196 374.835 L103.196 373.37 L104.617 373.37 Q104.481 374.993 104.481 380.855 Q104.481 386.716 104.617 388.317 L103.196 388.317 L103.196 386.851 Q103.196 383.943 102.79 383.244 Q102.362 382.546 100.964 382.546 L77.0451 382.546 Q78.2625 384.958 78.2625 388.61 Z\" fill=\"#000000\" fill-rule=\"evenodd\" fill-opacity=\"1\" /><path clip-path=\"url(#clip510)\" d=\"M102.829 358.705 L36.8718 358.705 L36.8718 348.753 L38.3855 348.753 L38.3855 354.293 L101.316 354.293 L101.316 348.753 L102.829 348.753 L102.829 358.705 Z\" fill=\"#000000\" fill-rule=\"evenodd\" fill-opacity=\"1\" /><path clip-path=\"url(#clip510)\" d=\"M42.0247 290.228 Q42.4434 290.228 42.7333 290.325 Q42.9909 290.421 43.1197 290.647 Q43.2486 290.872 43.2808 291.001 Q43.313 291.13 43.3452 291.42 Q43.474 292.804 43.6994 293.771 Q43.9249 294.705 45.0843 297.023 Q46.2437 299.31 48.3371 302.176 L57.2581 313.706 L58.7718 315.638 Q58.8684 315.638 59.0616 315.574 Q59.2227 315.51 59.4481 315.445 Q59.6413 315.349 59.7058 315.316 L81.3159 305.944 Q83.055 305.204 83.6669 304.302 Q84.2788 303.4 84.311 301.371 Q84.311 301.049 84.3432 300.92 Q84.3432 300.759 84.4076 300.534 Q84.4399 300.276 84.6009 300.18 Q84.7619 300.051 85.0196 300.051 Q86.34 300.051 86.34 301.242 Q86.34 301.983 86.2434 304.495 Q86.1468 307.007 86.1468 307.716 Q86.1468 309.036 86.2434 311.742 Q86.34 314.447 86.34 315.767 Q86.34 316.701 85.5993 316.701 Q84.9874 316.701 84.6975 316.476 Q84.3754 316.218 84.3432 315.993 Q84.311 315.767 84.311 315.252 Q84.311 314.865 84.2788 314.447 Q84.2144 313.996 84.0534 313.352 Q83.8601 312.675 83.4093 312.257 Q82.9262 311.806 82.2499 311.806 Q81.7024 311.806 79.931 312.611 L62.1856 320.244 L69.8506 330.067 L80.2209 332.708 Q80.6074 332.772 81.2837 332.933 Q81.96 333.094 82.4431 333.223 Q82.9262 333.319 83.1194 333.319 Q83.5381 333.319 83.7957 333.062 Q84.0534 332.772 84.1822 332.063 Q84.2788 331.355 84.311 330.807 Q84.311 330.228 84.311 329.036 Q84.311 327.555 84.5687 327.297 Q84.7297 327.168 85.0196 327.168 Q85.4704 327.168 85.7925 327.297 Q86.0824 327.426 86.179 327.683 Q86.2756 327.909 86.3078 328.07 Q86.34 328.231 86.34 328.489 Q86.34 329.165 86.2756 330.614 Q86.2112 332.031 86.2112 332.772 L86.1468 336.991 L86.34 345.364 Q86.34 346.363 85.5349 346.363 Q84.9229 346.363 84.6653 346.105 Q84.3754 345.848 84.3432 345.558 Q84.311 345.268 84.311 344.527 Q84.311 342.917 84.2144 341.951 Q84.1178 340.984 83.989 340.373 Q83.8279 339.728 83.3771 339.406 Q82.9262 339.052 82.5397 338.891 Q82.121 338.73 81.1871 338.505 L45.7606 329.68 Q44.6978 329.423 44.5368 329.423 Q43.9893 329.423 43.7961 329.745 Q43.5706 330.034 43.474 330.872 Q43.3452 332.482 43.3452 333.706 Q43.3452 334.511 43.313 334.833 Q43.2808 335.123 43.1197 335.381 Q42.9265 335.606 42.54 335.606 Q41.284 335.606 41.284 334.286 L41.4772 325.783 L41.284 317.345 Q41.284 316.411 42.0247 316.411 Q42.9587 316.411 43.1519 316.862 Q43.3452 317.281 43.3452 318.666 Q43.3452 321.081 43.6672 322.176 Q43.9571 323.239 44.4724 323.561 Q44.9555 323.851 46.3725 324.205 L67.5318 329.487 L47.7574 303.754 Q45.7606 301.371 44.73 301.371 Q44.0537 301.371 43.7638 301.854 Q43.4418 302.305 43.3452 303.432 Q43.2164 304.238 42.6044 304.238 Q41.9925 304.238 41.7027 304.012 Q41.3806 303.754 41.3484 303.561 Q41.284 303.336 41.284 302.982 Q41.284 301.79 41.3806 299.31 Q41.4772 296.83 41.4772 295.639 Q41.4772 294.833 41.3806 293.255 Q41.284 291.677 41.284 290.969 Q41.284 290.614 41.5416 290.421 Q41.7671 290.228 42.0247 290.228 Z\" fill=\"#000000\" fill-rule=\"evenodd\" fill-opacity=\"1\" /><path clip-path=\"url(#clip510)\" d=\"M101.316 288.019 L101.316 282.48 L38.3855 282.48 L38.3855 288.019 L36.8718 288.019 L36.8718 278.068 L102.829 278.068 L102.829 288.019 L101.316 288.019 Z\" fill=\"#000000\" fill-rule=\"evenodd\" fill-opacity=\"1\" /><polyline clip-path=\"url(#clip512)\" style=\"stroke:#000000; stroke-linecap:round; stroke-linejoin:round; stroke-width:4; stroke-opacity:1; fill:none\" stroke-dasharray=\"2, 4\" points=\"440.691,668.357 488.29,668.357 535.89,668.357 583.489,668.357 631.088,668.357 678.688,668.357 726.287,668.357 773.886,668.357 821.486,668.357 869.085,668.357 916.684,668.357 964.284,668.357 1011.88,668.357 1059.48,668.357 1107.08,668.357 1154.68,668.357 1202.28,668.357 1249.88,668.357 1297.48,668.357 1345.08,668.357 1392.68,668.357 1440.28,668.357 1487.88,668.357 1535.48,668.357 1583.07,668.357 1630.67,668.357 1678.27,668.357 1725.87,668.357 1773.47,668.357 1821.07,668.357 1868.67,668.357 1916.27,668.357 1963.87,668.357 2011.47,668.357 2059.07,668.357 2106.67,668.357 2154.27,668.357 2201.87,668.357 2249.47,668.357 2297.06,668.357 \"/>\n",
       "<polyline clip-path=\"url(#clip512)\" style=\"stroke:#ff0000; stroke-linecap:round; stroke-linejoin:round; stroke-width:12; stroke-opacity:0.3; fill:none\" points=\"440.691,668.357 488.29,668.357 535.89,668.357 583.489,668.357 631.088,668.357 678.688,668.357 726.287,668.357 773.886,668.357 821.486,668.357 869.085,668.357 916.684,668.357 964.284,668.357 1011.88,668.357 1059.48,668.357 1107.08,668.357 1154.68,668.357 1202.28,668.357 1249.88,668.357 1297.48,668.357 1345.08,668.357 1392.68,668.357 1440.28,668.357 1487.88,668.357 1535.48,668.357 1583.07,668.357 1630.67,668.357 1678.27,668.357 1725.87,668.357 1773.47,668.357 1821.07,668.357 1868.67,668.357 1916.27,668.357 1963.87,668.357 2011.47,668.357 2059.07,668.357 2106.67,668.357 2154.27,668.357 2201.87,668.357 2249.47,668.357 2297.06,668.357 \"/>\n",
       "<polyline clip-path=\"url(#clip512)\" style=\"stroke:#0000ff; stroke-linecap:round; stroke-linejoin:round; stroke-width:12; stroke-opacity:0.3; fill:none\" points=\"440.691,668.357 488.29,668.357 535.89,668.357 583.489,668.357 631.088,668.357 678.688,668.357 726.287,668.357 773.886,668.357 821.486,668.357 869.085,668.357 916.684,668.357 964.284,668.357 1011.88,668.357 1059.48,668.357 1107.08,668.357 1154.68,668.357 1202.28,668.357 1249.88,668.357 1297.48,668.357 1345.08,668.357 1392.68,668.357 1440.28,65.3348 1487.88,668.357 1535.48,668.357 1583.07,668.357 1630.67,668.357 1678.27,668.357 1725.87,668.357 1773.47,668.357 1821.07,668.357 1868.67,668.357 1916.27,668.357 1963.87,668.357 2011.47,668.357 2059.07,668.357 2106.67,668.357 2154.27,668.357 2201.87,668.357 2249.47,668.357 2297.06,668.357 \"/>\n",
       "<path clip-path=\"url(#clip510)\" d=\"M385 1486.45 L2352.76 1486.45 L2352.76 847.244 L385 847.244  Z\" fill=\"#ffffff\" fill-rule=\"evenodd\" fill-opacity=\"1\"/>\n",
       "<defs>\n",
       "  <clipPath id=\"clip513\">\n",
       "    <rect x=\"384\" y=\"847\" width=\"1969\" height=\"640\"/>\n",
       "  </clipPath>\n",
       "</defs>\n",
       "<polyline clip-path=\"url(#clip513)\" style=\"stroke:#000000; stroke-linecap:round; stroke-linejoin:round; stroke-width:8; stroke-opacity:0.1; fill:none\" points=\"393.092,1486.45 393.092,847.244 \"/>\n",
       "<polyline clip-path=\"url(#clip513)\" style=\"stroke:#000000; stroke-linecap:round; stroke-linejoin:round; stroke-width:8; stroke-opacity:0.1; fill:none\" points=\"869.085,1486.45 869.085,847.244 \"/>\n",
       "<polyline clip-path=\"url(#clip513)\" style=\"stroke:#000000; stroke-linecap:round; stroke-linejoin:round; stroke-width:8; stroke-opacity:0.1; fill:none\" points=\"1345.08,1486.45 1345.08,847.244 \"/>\n",
       "<polyline clip-path=\"url(#clip513)\" style=\"stroke:#000000; stroke-linecap:round; stroke-linejoin:round; stroke-width:8; stroke-opacity:0.1; fill:none\" points=\"1821.07,1486.45 1821.07,847.244 \"/>\n",
       "<polyline clip-path=\"url(#clip513)\" style=\"stroke:#000000; stroke-linecap:round; stroke-linejoin:round; stroke-width:8; stroke-opacity:0.1; fill:none\" points=\"2297.06,1486.45 2297.06,847.244 \"/>\n",
       "<polyline clip-path=\"url(#clip510)\" style=\"stroke:#000000; stroke-linecap:round; stroke-linejoin:round; stroke-width:4; stroke-opacity:1; fill:none\" points=\"385,1486.45 2352.76,1486.45 \"/>\n",
       "<polyline clip-path=\"url(#clip510)\" style=\"stroke:#000000; stroke-linecap:round; stroke-linejoin:round; stroke-width:4; stroke-opacity:1; fill:none\" points=\"393.092,1486.45 393.092,1467.55 \"/>\n",
       "<polyline clip-path=\"url(#clip510)\" style=\"stroke:#000000; stroke-linecap:round; stroke-linejoin:round; stroke-width:4; stroke-opacity:1; fill:none\" points=\"869.085,1486.45 869.085,1467.55 \"/>\n",
       "<polyline clip-path=\"url(#clip510)\" style=\"stroke:#000000; stroke-linecap:round; stroke-linejoin:round; stroke-width:4; stroke-opacity:1; fill:none\" points=\"1345.08,1486.45 1345.08,1467.55 \"/>\n",
       "<polyline clip-path=\"url(#clip510)\" style=\"stroke:#000000; stroke-linecap:round; stroke-linejoin:round; stroke-width:4; stroke-opacity:1; fill:none\" points=\"1821.07,1486.45 1821.07,1467.55 \"/>\n",
       "<polyline clip-path=\"url(#clip510)\" style=\"stroke:#000000; stroke-linecap:round; stroke-linejoin:round; stroke-width:4; stroke-opacity:1; fill:none\" points=\"2297.06,1486.45 2297.06,1467.55 \"/>\n",
       "<path clip-path=\"url(#clip510)\" d=\"M393.092 1517.37 Q389.481 1517.37 387.652 1520.93 Q385.846 1524.47 385.846 1531.6 Q385.846 1538.71 387.652 1542.27 Q389.481 1545.82 393.092 1545.82 Q396.726 1545.82 398.532 1542.27 Q400.36 1538.71 400.36 1531.6 Q400.36 1524.47 398.532 1520.93 Q396.726 1517.37 393.092 1517.37 M393.092 1513.66 Q398.902 1513.66 401.958 1518.27 Q405.036 1522.85 405.036 1531.6 Q405.036 1540.33 401.958 1544.94 Q398.902 1549.52 393.092 1549.52 Q387.282 1549.52 384.203 1544.94 Q381.147 1540.33 381.147 1531.6 Q381.147 1522.85 384.203 1518.27 Q387.282 1513.66 393.092 1513.66 Z\" fill=\"#000000\" fill-rule=\"evenodd\" fill-opacity=\"1\" /><path clip-path=\"url(#clip510)\" d=\"M843.773 1544.91 L851.412 1544.91 L851.412 1518.55 L843.101 1520.21 L843.101 1515.95 L851.365 1514.29 L856.041 1514.29 L856.041 1544.91 L863.68 1544.91 L863.68 1548.85 L843.773 1548.85 L843.773 1544.91 Z\" fill=\"#000000\" fill-rule=\"evenodd\" fill-opacity=\"1\" /><path clip-path=\"url(#clip510)\" d=\"M883.124 1517.37 Q879.513 1517.37 877.685 1520.93 Q875.879 1524.47 875.879 1531.6 Q875.879 1538.71 877.685 1542.27 Q879.513 1545.82 883.124 1545.82 Q886.759 1545.82 888.564 1542.27 Q890.393 1538.71 890.393 1531.6 Q890.393 1524.47 888.564 1520.93 Q886.759 1517.37 883.124 1517.37 M883.124 1513.66 Q888.934 1513.66 891.99 1518.27 Q895.069 1522.85 895.069 1531.6 Q895.069 1540.33 891.99 1544.94 Q888.934 1549.52 883.124 1549.52 Q877.314 1549.52 874.235 1544.94 Q871.18 1540.33 871.18 1531.6 Q871.18 1522.85 874.235 1518.27 Q877.314 1513.66 883.124 1513.66 Z\" fill=\"#000000\" fill-rule=\"evenodd\" fill-opacity=\"1\" /><path clip-path=\"url(#clip510)\" d=\"M1323.85 1544.91 L1340.17 1544.91 L1340.17 1548.85 L1318.23 1548.85 L1318.23 1544.91 Q1320.89 1542.16 1325.47 1537.53 Q1330.08 1532.88 1331.26 1531.53 Q1333.5 1529.01 1334.38 1527.27 Q1335.29 1525.51 1335.29 1523.82 Q1335.29 1521.07 1333.34 1519.33 Q1331.42 1517.6 1328.32 1517.6 Q1326.12 1517.6 1323.67 1518.36 Q1321.24 1519.13 1318.46 1520.68 L1318.46 1515.95 Q1321.28 1514.82 1323.74 1514.24 Q1326.19 1513.66 1328.23 1513.66 Q1333.6 1513.66 1336.79 1516.35 Q1339.99 1519.03 1339.99 1523.52 Q1339.99 1525.65 1339.18 1527.57 Q1338.39 1529.47 1336.28 1532.07 Q1335.7 1532.74 1332.6 1535.95 Q1329.5 1539.15 1323.85 1544.91 Z\" fill=\"#000000\" fill-rule=\"evenodd\" fill-opacity=\"1\" /><path clip-path=\"url(#clip510)\" d=\"M1359.99 1517.37 Q1356.37 1517.37 1354.55 1520.93 Q1352.74 1524.47 1352.74 1531.6 Q1352.74 1538.71 1354.55 1542.27 Q1356.37 1545.82 1359.99 1545.82 Q1363.62 1545.82 1365.43 1542.27 Q1367.25 1538.71 1367.25 1531.6 Q1367.25 1524.47 1365.43 1520.93 Q1363.62 1517.37 1359.99 1517.37 M1359.99 1513.66 Q1365.8 1513.66 1368.85 1518.27 Q1371.93 1522.85 1371.93 1531.6 Q1371.93 1540.33 1368.85 1544.94 Q1365.8 1549.52 1359.99 1549.52 Q1354.18 1549.52 1351.1 1544.94 Q1348.04 1540.33 1348.04 1531.6 Q1348.04 1522.85 1351.1 1518.27 Q1354.18 1513.66 1359.99 1513.66 Z\" fill=\"#000000\" fill-rule=\"evenodd\" fill-opacity=\"1\" /><path clip-path=\"url(#clip510)\" d=\"M1809.91 1530.21 Q1813.27 1530.93 1815.15 1533.2 Q1817.04 1535.47 1817.04 1538.8 Q1817.04 1543.92 1813.53 1546.72 Q1810.01 1549.52 1803.53 1549.52 Q1801.35 1549.52 1799.03 1549.08 Q1796.74 1548.66 1794.29 1547.81 L1794.29 1543.29 Q1796.23 1544.43 1798.55 1545.01 Q1800.86 1545.58 1803.39 1545.58 Q1807.78 1545.58 1810.08 1543.85 Q1812.39 1542.11 1812.39 1538.8 Q1812.39 1535.75 1810.24 1534.03 Q1808.11 1532.3 1804.29 1532.3 L1800.26 1532.3 L1800.26 1528.45 L1804.47 1528.45 Q1807.92 1528.45 1809.75 1527.09 Q1811.58 1525.7 1811.58 1523.11 Q1811.58 1520.45 1809.68 1519.03 Q1807.81 1517.6 1804.29 1517.6 Q1802.37 1517.6 1800.17 1518.01 Q1797.97 1518.43 1795.33 1519.31 L1795.33 1515.14 Q1797.99 1514.4 1800.31 1514.03 Q1802.65 1513.66 1804.71 1513.66 Q1810.03 1513.66 1813.13 1516.09 Q1816.23 1518.5 1816.23 1522.62 Q1816.23 1525.49 1814.59 1527.48 Q1812.95 1529.45 1809.91 1530.21 Z\" fill=\"#000000\" fill-rule=\"evenodd\" fill-opacity=\"1\" /><path clip-path=\"url(#clip510)\" d=\"M1835.91 1517.37 Q1832.3 1517.37 1830.47 1520.93 Q1828.66 1524.47 1828.66 1531.6 Q1828.66 1538.71 1830.47 1542.27 Q1832.3 1545.82 1835.91 1545.82 Q1839.54 1545.82 1841.35 1542.27 Q1843.18 1538.71 1843.18 1531.6 Q1843.18 1524.47 1841.35 1520.93 Q1839.54 1517.37 1835.91 1517.37 M1835.91 1513.66 Q1841.72 1513.66 1844.78 1518.27 Q1847.85 1522.85 1847.85 1531.6 Q1847.85 1540.33 1844.78 1544.94 Q1841.72 1549.52 1835.91 1549.52 Q1830.1 1549.52 1827.02 1544.94 Q1823.96 1540.33 1823.96 1531.6 Q1823.96 1522.85 1827.02 1518.27 Q1830.1 1513.66 1835.91 1513.66 Z\" fill=\"#000000\" fill-rule=\"evenodd\" fill-opacity=\"1\" /><path clip-path=\"url(#clip510)\" d=\"M2285.24 1518.36 L2273.43 1536.81 L2285.24 1536.81 L2285.24 1518.36 M2284.01 1514.29 L2289.89 1514.29 L2289.89 1536.81 L2294.82 1536.81 L2294.82 1540.7 L2289.89 1540.7 L2289.89 1548.85 L2285.24 1548.85 L2285.24 1540.7 L2269.63 1540.7 L2269.63 1536.19 L2284.01 1514.29 Z\" fill=\"#000000\" fill-rule=\"evenodd\" fill-opacity=\"1\" /><path clip-path=\"url(#clip510)\" d=\"M2312.55 1517.37 Q2308.94 1517.37 2307.11 1520.93 Q2305.31 1524.47 2305.31 1531.6 Q2305.31 1538.71 2307.11 1542.27 Q2308.94 1545.82 2312.55 1545.82 Q2316.18 1545.82 2317.99 1542.27 Q2319.82 1538.71 2319.82 1531.6 Q2319.82 1524.47 2317.99 1520.93 Q2316.18 1517.37 2312.55 1517.37 M2312.55 1513.66 Q2318.36 1513.66 2321.42 1518.27 Q2324.5 1522.85 2324.5 1531.6 Q2324.5 1540.33 2321.42 1544.94 Q2318.36 1549.52 2312.55 1549.52 Q2306.74 1549.52 2303.66 1544.94 Q2300.61 1540.33 2300.61 1531.6 Q2300.61 1522.85 2303.66 1518.27 Q2306.74 1513.66 2312.55 1513.66 Z\" fill=\"#000000\" fill-rule=\"evenodd\" fill-opacity=\"1\" /><polyline clip-path=\"url(#clip513)\" style=\"stroke:#000000; stroke-linecap:round; stroke-linejoin:round; stroke-width:8; stroke-opacity:0.1; fill:none\" points=\"385,1468.36 2352.76,1468.36 \"/>\n",
       "<polyline clip-path=\"url(#clip513)\" style=\"stroke:#000000; stroke-linecap:round; stroke-linejoin:round; stroke-width:8; stroke-opacity:0.1; fill:none\" points=\"385,1261.83 2352.76,1261.83 \"/>\n",
       "<polyline clip-path=\"url(#clip513)\" style=\"stroke:#000000; stroke-linecap:round; stroke-linejoin:round; stroke-width:8; stroke-opacity:0.1; fill:none\" points=\"385,1055.31 2352.76,1055.31 \"/>\n",
       "<polyline clip-path=\"url(#clip513)\" style=\"stroke:#000000; stroke-linecap:round; stroke-linejoin:round; stroke-width:8; stroke-opacity:0.1; fill:none\" points=\"385,848.78 2352.76,848.78 \"/>\n",
       "<polyline clip-path=\"url(#clip510)\" style=\"stroke:#000000; stroke-linecap:round; stroke-linejoin:round; stroke-width:4; stroke-opacity:1; fill:none\" points=\"385,1486.45 385,847.244 \"/>\n",
       "<polyline clip-path=\"url(#clip510)\" style=\"stroke:#000000; stroke-linecap:round; stroke-linejoin:round; stroke-width:4; stroke-opacity:1; fill:none\" points=\"385,1468.36 403.898,1468.36 \"/>\n",
       "<polyline clip-path=\"url(#clip510)\" style=\"stroke:#000000; stroke-linecap:round; stroke-linejoin:round; stroke-width:4; stroke-opacity:1; fill:none\" points=\"385,1261.83 403.898,1261.83 \"/>\n",
       "<polyline clip-path=\"url(#clip510)\" style=\"stroke:#000000; stroke-linecap:round; stroke-linejoin:round; stroke-width:4; stroke-opacity:1; fill:none\" points=\"385,1055.31 403.898,1055.31 \"/>\n",
       "<polyline clip-path=\"url(#clip510)\" style=\"stroke:#000000; stroke-linecap:round; stroke-linejoin:round; stroke-width:4; stroke-opacity:1; fill:none\" points=\"385,848.78 403.898,848.78 \"/>\n",
       "<path clip-path=\"url(#clip510)\" d=\"M337.056 1454.16 Q333.444 1454.16 331.616 1457.72 Q329.81 1461.26 329.81 1468.39 Q329.81 1475.5 331.616 1479.06 Q333.444 1482.6 337.056 1482.6 Q340.69 1482.6 342.495 1479.06 Q344.324 1475.5 344.324 1468.39 Q344.324 1461.26 342.495 1457.72 Q340.69 1454.16 337.056 1454.16 M337.056 1450.45 Q342.866 1450.45 345.921 1455.06 Q349 1459.64 349 1468.39 Q349 1477.12 345.921 1481.73 Q342.866 1486.31 337.056 1486.31 Q331.245 1486.31 328.167 1481.73 Q325.111 1477.12 325.111 1468.39 Q325.111 1459.64 328.167 1455.06 Q331.245 1450.45 337.056 1450.45 Z\" fill=\"#000000\" fill-rule=\"evenodd\" fill-opacity=\"1\" /><path clip-path=\"url(#clip510)\" d=\"M116.668 1281.62 L124.306 1281.62 L124.306 1255.26 L115.996 1256.92 L115.996 1252.67 L124.26 1251 L128.936 1251 L128.936 1281.62 L136.575 1281.62 L136.575 1285.56 L116.668 1285.56 L116.668 1281.62 Z\" fill=\"#000000\" fill-rule=\"evenodd\" fill-opacity=\"1\" /><path clip-path=\"url(#clip510)\" d=\"M146.019 1279.68 L150.903 1279.68 L150.903 1285.56 L146.019 1285.56 L146.019 1279.68 Z\" fill=\"#000000\" fill-rule=\"evenodd\" fill-opacity=\"1\" /><path clip-path=\"url(#clip510)\" d=\"M171.089 1254.08 Q167.477 1254.08 165.649 1257.64 Q163.843 1261.18 163.843 1268.31 Q163.843 1275.42 165.649 1278.98 Q167.477 1282.53 171.089 1282.53 Q174.723 1282.53 176.528 1278.98 Q178.357 1275.42 178.357 1268.31 Q178.357 1261.18 176.528 1257.64 Q174.723 1254.08 171.089 1254.08 M171.089 1250.37 Q176.899 1250.37 179.954 1254.98 Q183.033 1259.56 183.033 1268.31 Q183.033 1277.04 179.954 1281.65 Q176.899 1286.23 171.089 1286.23 Q165.278 1286.23 162.2 1281.65 Q159.144 1277.04 159.144 1268.31 Q159.144 1259.56 162.2 1254.98 Q165.278 1250.37 171.089 1250.37 Z\" fill=\"#000000\" fill-rule=\"evenodd\" fill-opacity=\"1\" /><path clip-path=\"url(#clip510)\" d=\"M219.422 1260.1 L208.843 1270.72 L219.422 1281.3 L216.667 1284.1 L206.042 1273.48 L195.417 1284.1 L192.686 1281.3 L203.241 1270.72 L192.686 1260.1 L195.417 1257.3 L206.042 1267.92 L216.667 1257.3 L219.422 1260.1 Z\" fill=\"#000000\" fill-rule=\"evenodd\" fill-opacity=\"1\" /><path clip-path=\"url(#clip510)\" d=\"M231.783 1281.62 L239.422 1281.62 L239.422 1255.26 L231.111 1256.92 L231.111 1252.67 L239.375 1251 L244.051 1251 L244.051 1281.62 L251.69 1281.62 L251.69 1285.56 L231.783 1285.56 L231.783 1281.62 Z\" fill=\"#000000\" fill-rule=\"evenodd\" fill-opacity=\"1\" /><path clip-path=\"url(#clip510)\" d=\"M271.134 1254.08 Q267.523 1254.08 265.695 1257.64 Q263.889 1261.18 263.889 1268.31 Q263.889 1275.42 265.695 1278.98 Q267.523 1282.53 271.134 1282.53 Q274.769 1282.53 276.574 1278.98 Q278.403 1275.42 278.403 1268.31 Q278.403 1261.18 276.574 1257.64 Q274.769 1254.08 271.134 1254.08 M271.134 1250.37 Q276.944 1250.37 280 1254.98 Q283.079 1259.56 283.079 1268.31 Q283.079 1277.04 280 1281.65 Q276.944 1286.23 271.134 1286.23 Q265.324 1286.23 262.245 1281.65 Q259.19 1277.04 259.19 1268.31 Q259.19 1259.56 262.245 1254.98 Q265.324 1250.37 271.134 1250.37 Z\" fill=\"#000000\" fill-rule=\"evenodd\" fill-opacity=\"1\" /><path clip-path=\"url(#clip510)\" d=\"M283.624 1254.95 L289.831 1254.95 L289.831 1233.53 L283.079 1234.88 L283.079 1231.42 L289.793 1230.07 L293.592 1230.07 L293.592 1254.95 L299.799 1254.95 L299.799 1258.15 L283.624 1258.15 L283.624 1254.95 Z\" fill=\"#000000\" fill-rule=\"evenodd\" fill-opacity=\"1\" /><path clip-path=\"url(#clip510)\" d=\"M318.983 1243.01 Q321.71 1243.59 323.233 1245.43 Q324.776 1247.28 324.776 1249.99 Q324.776 1254.14 321.917 1256.42 Q319.058 1258.69 313.792 1258.69 Q312.024 1258.69 310.143 1258.34 Q308.281 1258 306.287 1257.3 L306.287 1253.63 Q307.867 1254.56 309.748 1255.03 Q311.629 1255.5 313.679 1255.5 Q317.252 1255.5 319.114 1254.09 Q320.995 1252.68 320.995 1249.99 Q320.995 1247.5 319.246 1246.11 Q317.516 1244.7 314.412 1244.7 L311.14 1244.7 L311.14 1241.58 L314.563 1241.58 Q317.365 1241.58 318.851 1240.47 Q320.337 1239.34 320.337 1237.23 Q320.337 1235.07 318.795 1233.92 Q317.271 1232.76 314.412 1232.76 Q312.851 1232.76 311.065 1233.1 Q309.278 1233.44 307.134 1234.15 L307.134 1230.76 Q309.297 1230.16 311.178 1229.86 Q313.077 1229.56 314.751 1229.56 Q319.077 1229.56 321.597 1231.54 Q324.117 1233.49 324.117 1236.84 Q324.117 1239.17 322.782 1240.79 Q321.447 1242.39 318.983 1243.01 Z\" fill=\"#000000\" fill-rule=\"evenodd\" fill-opacity=\"1\" /><path clip-path=\"url(#clip510)\" d=\"M332.017 1230.07 L346.931 1230.07 L346.931 1233.27 L335.496 1233.27 L335.496 1240.15 Q336.323 1239.87 337.151 1239.74 Q337.979 1239.59 338.806 1239.59 Q343.508 1239.59 346.254 1242.16 Q349 1244.74 349 1249.14 Q349 1253.67 346.179 1256.19 Q343.358 1258.69 338.223 1258.69 Q336.455 1258.69 334.612 1258.39 Q332.788 1258.09 330.832 1257.49 L330.832 1253.67 Q332.524 1254.59 334.33 1255.05 Q336.135 1255.5 338.148 1255.5 Q341.402 1255.5 343.301 1253.79 Q345.201 1252.07 345.201 1249.14 Q345.201 1246.21 343.301 1244.49 Q341.402 1242.78 338.148 1242.78 Q336.624 1242.78 335.101 1243.12 Q333.596 1243.46 332.017 1244.17 L332.017 1230.07 Z\" fill=\"#000000\" fill-rule=\"evenodd\" fill-opacity=\"1\" /><path clip-path=\"url(#clip510)\" d=\"M119.885 1075.1 L136.204 1075.1 L136.204 1079.03 L114.26 1079.03 L114.26 1075.1 Q116.922 1072.34 121.505 1067.71 Q126.112 1063.06 127.292 1061.72 Q129.538 1059.2 130.417 1057.46 Q131.32 1055.7 131.32 1054.01 Q131.32 1051.26 129.376 1049.52 Q127.455 1047.78 124.353 1047.78 Q122.154 1047.78 119.7 1048.55 Q117.269 1049.31 114.492 1050.86 L114.492 1046.14 Q117.316 1045.01 119.769 1044.43 Q122.223 1043.85 124.26 1043.85 Q129.63 1043.85 132.825 1046.53 Q136.019 1049.22 136.019 1053.71 Q136.019 1055.84 135.209 1057.76 Q134.422 1059.66 132.316 1062.25 Q131.737 1062.92 128.635 1066.14 Q125.533 1069.33 119.885 1075.1 Z\" fill=\"#000000\" fill-rule=\"evenodd\" fill-opacity=\"1\" /><path clip-path=\"url(#clip510)\" d=\"M146.019 1073.15 L150.903 1073.15 L150.903 1079.03 L146.019 1079.03 L146.019 1073.15 Z\" fill=\"#000000\" fill-rule=\"evenodd\" fill-opacity=\"1\" /><path clip-path=\"url(#clip510)\" d=\"M171.089 1047.55 Q167.477 1047.55 165.649 1051.12 Q163.843 1054.66 163.843 1061.79 Q163.843 1068.89 165.649 1072.46 Q167.477 1076 171.089 1076 Q174.723 1076 176.528 1072.46 Q178.357 1068.89 178.357 1061.79 Q178.357 1054.66 176.528 1051.12 Q174.723 1047.55 171.089 1047.55 M171.089 1043.85 Q176.899 1043.85 179.954 1048.45 Q183.033 1053.04 183.033 1061.79 Q183.033 1070.51 179.954 1075.12 Q176.899 1079.7 171.089 1079.7 Q165.278 1079.7 162.2 1075.12 Q159.144 1070.51 159.144 1061.79 Q159.144 1053.04 162.2 1048.45 Q165.278 1043.85 171.089 1043.85 Z\" fill=\"#000000\" fill-rule=\"evenodd\" fill-opacity=\"1\" /><path clip-path=\"url(#clip510)\" d=\"M219.422 1053.57 L208.843 1064.2 L219.422 1074.77 L216.667 1077.57 L206.042 1066.95 L195.417 1077.57 L192.686 1074.77 L203.241 1064.2 L192.686 1053.57 L195.417 1050.77 L206.042 1061.39 L216.667 1050.77 L219.422 1053.57 Z\" fill=\"#000000\" fill-rule=\"evenodd\" fill-opacity=\"1\" /><path clip-path=\"url(#clip510)\" d=\"M231.783 1075.1 L239.422 1075.1 L239.422 1048.73 L231.111 1050.4 L231.111 1046.14 L239.375 1044.47 L244.051 1044.47 L244.051 1075.1 L251.69 1075.1 L251.69 1079.03 L231.783 1079.03 L231.783 1075.1 Z\" fill=\"#000000\" fill-rule=\"evenodd\" fill-opacity=\"1\" /><path clip-path=\"url(#clip510)\" d=\"M271.134 1047.55 Q267.523 1047.55 265.695 1051.12 Q263.889 1054.66 263.889 1061.79 Q263.889 1068.89 265.695 1072.46 Q267.523 1076 271.134 1076 Q274.769 1076 276.574 1072.46 Q278.403 1068.89 278.403 1061.79 Q278.403 1054.66 276.574 1051.12 Q274.769 1047.55 271.134 1047.55 M271.134 1043.85 Q276.944 1043.85 280 1048.45 Q283.079 1053.04 283.079 1061.79 Q283.079 1070.51 280 1075.12 Q276.944 1079.7 271.134 1079.7 Q265.324 1079.7 262.245 1075.12 Q259.19 1070.51 259.19 1061.79 Q259.19 1053.04 262.245 1048.45 Q265.324 1043.85 271.134 1043.85 Z\" fill=\"#000000\" fill-rule=\"evenodd\" fill-opacity=\"1\" /><path clip-path=\"url(#clip510)\" d=\"M283.624 1048.43 L289.831 1048.43 L289.831 1027 L283.079 1028.36 L283.079 1024.9 L289.793 1023.54 L293.592 1023.54 L293.592 1048.43 L299.799 1048.43 L299.799 1051.62 L283.624 1051.62 L283.624 1048.43 Z\" fill=\"#000000\" fill-rule=\"evenodd\" fill-opacity=\"1\" /><path clip-path=\"url(#clip510)\" d=\"M318.983 1036.48 Q321.71 1037.07 323.233 1038.91 Q324.776 1040.75 324.776 1043.46 Q324.776 1047.62 321.917 1049.89 Q319.058 1052.17 313.792 1052.17 Q312.024 1052.17 310.143 1051.81 Q308.281 1051.47 306.287 1050.78 L306.287 1047.11 Q307.867 1048.03 309.748 1048.5 Q311.629 1048.97 313.679 1048.97 Q317.252 1048.97 319.114 1047.56 Q320.995 1046.15 320.995 1043.46 Q320.995 1040.98 319.246 1039.59 Q317.516 1038.18 314.412 1038.18 L311.14 1038.18 L311.14 1035.05 L314.563 1035.05 Q317.365 1035.05 318.851 1033.94 Q320.337 1032.81 320.337 1030.71 Q320.337 1028.55 318.795 1027.4 Q317.271 1026.23 314.412 1026.23 Q312.851 1026.23 311.065 1026.57 Q309.278 1026.91 307.134 1027.62 L307.134 1024.24 Q309.297 1023.64 311.178 1023.34 Q313.077 1023.03 314.751 1023.03 Q319.077 1023.03 321.597 1025.01 Q324.117 1026.97 324.117 1030.31 Q324.117 1032.65 322.782 1034.26 Q321.447 1035.86 318.983 1036.48 Z\" fill=\"#000000\" fill-rule=\"evenodd\" fill-opacity=\"1\" /><path clip-path=\"url(#clip510)\" d=\"M332.017 1023.54 L346.931 1023.54 L346.931 1026.74 L335.496 1026.74 L335.496 1033.62 Q336.323 1033.34 337.151 1033.21 Q337.979 1033.06 338.806 1033.06 Q343.508 1033.06 346.254 1035.64 Q349 1038.21 349 1042.61 Q349 1047.15 346.179 1049.67 Q343.358 1052.17 338.223 1052.17 Q336.455 1052.17 334.612 1051.87 Q332.788 1051.57 330.832 1050.96 L330.832 1047.15 Q332.524 1048.07 334.33 1048.52 Q336.135 1048.97 338.148 1048.97 Q341.402 1048.97 343.301 1047.26 Q345.201 1045.55 345.201 1042.61 Q345.201 1039.68 343.301 1037.97 Q341.402 1036.26 338.148 1036.26 Q336.624 1036.26 335.101 1036.6 Q333.596 1036.93 332.017 1037.65 L332.017 1023.54 Z\" fill=\"#000000\" fill-rule=\"evenodd\" fill-opacity=\"1\" /><path clip-path=\"url(#clip510)\" d=\"M130.024 853.873 Q133.38 854.591 135.255 856.859 Q137.154 859.128 137.154 862.461 Q137.154 867.577 133.635 870.378 Q130.117 873.179 123.635 873.179 Q121.459 873.179 119.144 872.739 Q116.853 872.322 114.399 871.466 L114.399 866.952 Q116.343 868.086 118.658 868.665 Q120.973 869.243 123.496 869.243 Q127.894 869.243 130.186 867.507 Q132.501 865.771 132.501 862.461 Q132.501 859.405 130.348 857.692 Q128.218 855.956 124.399 855.956 L120.371 855.956 L120.371 852.114 L124.584 852.114 Q128.033 852.114 129.862 850.748 Q131.691 849.359 131.691 846.767 Q131.691 844.105 129.792 842.693 Q127.917 841.257 124.399 841.257 Q122.478 841.257 120.279 841.674 Q118.08 842.091 115.441 842.97 L115.441 838.804 Q118.103 838.063 120.418 837.693 Q122.755 837.322 124.816 837.322 Q130.14 837.322 133.242 839.753 Q136.343 842.16 136.343 846.281 Q136.343 849.151 134.7 851.142 Q133.056 853.109 130.024 853.873 Z\" fill=\"#000000\" fill-rule=\"evenodd\" fill-opacity=\"1\" /><path clip-path=\"url(#clip510)\" d=\"M146.019 866.628 L150.903 866.628 L150.903 872.507 L146.019 872.507 L146.019 866.628 Z\" fill=\"#000000\" fill-rule=\"evenodd\" fill-opacity=\"1\" /><path clip-path=\"url(#clip510)\" d=\"M171.089 841.026 Q167.477 841.026 165.649 844.591 Q163.843 848.132 163.843 855.262 Q163.843 862.368 165.649 865.933 Q167.477 869.475 171.089 869.475 Q174.723 869.475 176.528 865.933 Q178.357 862.368 178.357 855.262 Q178.357 848.132 176.528 844.591 Q174.723 841.026 171.089 841.026 M171.089 837.322 Q176.899 837.322 179.954 841.929 Q183.033 846.512 183.033 855.262 Q183.033 863.989 179.954 868.595 Q176.899 873.179 171.089 873.179 Q165.278 873.179 162.2 868.595 Q159.144 863.989 159.144 855.262 Q159.144 846.512 162.2 841.929 Q165.278 837.322 171.089 837.322 Z\" fill=\"#000000\" fill-rule=\"evenodd\" fill-opacity=\"1\" /><path clip-path=\"url(#clip510)\" d=\"M219.422 847.044 L208.843 857.669 L219.422 868.248 L216.667 871.049 L206.042 860.424 L195.417 871.049 L192.686 868.248 L203.241 857.669 L192.686 847.044 L195.417 844.243 L206.042 854.868 L216.667 844.243 L219.422 847.044 Z\" fill=\"#000000\" fill-rule=\"evenodd\" fill-opacity=\"1\" /><path clip-path=\"url(#clip510)\" d=\"M231.783 868.572 L239.422 868.572 L239.422 842.206 L231.111 843.873 L231.111 839.614 L239.375 837.947 L244.051 837.947 L244.051 868.572 L251.69 868.572 L251.69 872.507 L231.783 872.507 L231.783 868.572 Z\" fill=\"#000000\" fill-rule=\"evenodd\" fill-opacity=\"1\" /><path clip-path=\"url(#clip510)\" d=\"M271.134 841.026 Q267.523 841.026 265.695 844.591 Q263.889 848.132 263.889 855.262 Q263.889 862.368 265.695 865.933 Q267.523 869.475 271.134 869.475 Q274.769 869.475 276.574 865.933 Q278.403 862.368 278.403 855.262 Q278.403 848.132 276.574 844.591 Q274.769 841.026 271.134 841.026 M271.134 837.322 Q276.944 837.322 280 841.929 Q283.079 846.512 283.079 855.262 Q283.079 863.989 280 868.595 Q276.944 873.179 271.134 873.179 Q265.324 873.179 262.245 868.595 Q259.19 863.989 259.19 855.262 Q259.19 846.512 262.245 841.929 Q265.324 837.322 271.134 837.322 Z\" fill=\"#000000\" fill-rule=\"evenodd\" fill-opacity=\"1\" /><path clip-path=\"url(#clip510)\" d=\"M283.624 841.899 L289.831 841.899 L289.831 820.477 L283.079 821.832 L283.079 818.371 L289.793 817.017 L293.592 817.017 L293.592 841.899 L299.799 841.899 L299.799 845.097 L283.624 845.097 L283.624 841.899 Z\" fill=\"#000000\" fill-rule=\"evenodd\" fill-opacity=\"1\" /><path clip-path=\"url(#clip510)\" d=\"M318.983 829.957 Q321.71 830.54 323.233 832.383 Q324.776 834.226 324.776 836.934 Q324.776 841.091 321.917 843.366 Q319.058 845.642 313.792 845.642 Q312.024 845.642 310.143 845.285 Q308.281 844.946 306.287 844.25 L306.287 840.583 Q307.867 841.505 309.748 841.975 Q311.629 842.445 313.679 842.445 Q317.252 842.445 319.114 841.034 Q320.995 839.624 320.995 836.934 Q320.995 834.452 319.246 833.06 Q317.516 831.649 314.412 831.649 L311.14 831.649 L311.14 828.527 L314.563 828.527 Q317.365 828.527 318.851 827.418 Q320.337 826.289 320.337 824.183 Q320.337 822.02 318.795 820.872 Q317.271 819.706 314.412 819.706 Q312.851 819.706 311.065 820.045 Q309.278 820.383 307.134 821.098 L307.134 817.713 Q309.297 817.111 311.178 816.81 Q313.077 816.509 314.751 816.509 Q319.077 816.509 321.597 818.484 Q324.117 820.44 324.117 823.788 Q324.117 826.12 322.782 827.737 Q321.447 829.336 318.983 829.957 Z\" fill=\"#000000\" fill-rule=\"evenodd\" fill-opacity=\"1\" /><path clip-path=\"url(#clip510)\" d=\"M332.017 817.017 L346.931 817.017 L346.931 820.214 L335.496 820.214 L335.496 827.098 Q336.323 826.816 337.151 826.684 Q337.979 826.534 338.806 826.534 Q343.508 826.534 346.254 829.11 Q349 831.687 349 836.088 Q349 840.621 346.179 843.141 Q343.358 845.642 338.223 845.642 Q336.455 845.642 334.612 845.341 Q332.788 845.04 330.832 844.439 L330.832 840.621 Q332.524 841.542 334.33 841.994 Q336.135 842.445 338.148 842.445 Q341.402 842.445 343.301 840.733 Q345.201 839.022 345.201 836.088 Q345.201 833.154 343.301 831.442 Q341.402 829.731 338.148 829.731 Q336.624 829.731 335.101 830.069 Q333.596 830.408 332.017 831.123 L332.017 817.017 Z\" fill=\"#000000\" fill-rule=\"evenodd\" fill-opacity=\"1\" /><path clip-path=\"url(#clip510)\" d=\"M20.9241 1218.96 Q21.536 1218.96 22.0513 1219.09 L33.5165 1220.89 Q34.3861 1220.99 34.7082 1221.18 Q35.0302 1221.34 35.0302 1221.86 Q35.0302 1222.66 34.1929 1222.66 Q33.7098 1222.66 32.9368 1222.47 Q29.2976 1221.92 27.6551 1221.92 Q26.5601 1221.92 25.7549 1222.15 Q24.9176 1222.34 24.3379 1222.66 Q23.7582 1222.95 23.3717 1223.63 Q22.9852 1224.31 22.7598 1224.95 Q22.5343 1225.59 22.4377 1226.75 Q22.3089 1227.91 22.2767 1228.91 Q22.2445 1229.91 22.2445 1231.55 Q22.2445 1235.13 22.3733 1235.71 Q22.5343 1236.32 23.0174 1236.64 Q23.4683 1236.93 24.821 1237.25 L59.8287 1246.01 L61.2136 1246.27 Q61.9865 1246.27 62.2442 1245.79 Q62.5018 1245.3 62.6628 1243.82 Q62.8239 1241.7 62.8239 1239.6 Q62.8239 1239.54 62.8239 1239.41 Q62.8239 1238.7 62.8561 1238.41 Q62.8561 1238.12 62.9205 1237.83 Q62.9849 1237.54 63.1459 1237.48 Q63.2748 1237.38 63.5324 1237.38 Q64.1443 1237.38 64.4664 1237.64 Q64.7562 1237.9 64.8206 1238.15 Q64.8528 1238.38 64.8528 1238.83 Q64.8528 1239.73 64.7884 1241.67 Q64.724 1243.6 64.724 1244.56 L64.6596 1250.04 L64.724 1255.64 Q64.724 1256.51 64.7884 1258.35 Q64.8528 1260.18 64.8528 1261.05 Q64.8528 1262.18 64.0477 1262.18 Q63.1459 1262.18 62.9849 1261.76 Q62.8239 1261.31 62.8239 1259.41 Q62.8239 1256.74 62.6951 1255.29 Q62.5662 1253.84 62.1153 1253.07 Q61.6645 1252.26 61.2136 1252.04 Q60.7305 1251.81 59.6355 1251.55 L24.4345 1242.7 Q23.6615 1242.44 23.0496 1242.44 Q22.7276 1242.44 22.5988 1242.53 Q22.4699 1242.6 22.3733 1243.02 Q22.2445 1243.44 22.2445 1244.31 L22.2445 1246.88 Q22.2445 1249.52 22.3733 1251.17 Q22.4699 1252.78 22.953 1254.32 Q23.4361 1255.84 24.1124 1256.74 Q24.7888 1257.61 26.1736 1258.57 Q27.5585 1259.54 29.2332 1260.25 Q30.9079 1260.92 33.6454 1261.89 Q34.5471 1262.21 34.8048 1262.41 Q35.0302 1262.57 35.0302 1263.02 Q35.0302 1263.34 34.837 1263.6 Q34.6115 1263.82 34.3217 1263.82 Q33.2589 1263.5 33.1301 1263.44 L21.5038 1259.48 Q20.5698 1259.15 20.4088 1258.86 Q20.2155 1258.54 20.2155 1257.35 L20.2155 1220.76 Q20.2155 1220.18 20.2155 1219.99 Q20.2155 1219.8 20.2799 1219.48 Q20.3443 1219.15 20.5054 1219.06 Q20.6664 1218.96 20.9241 1218.96 Z\" fill=\"#000000\" fill-rule=\"evenodd\" fill-opacity=\"1\" /><path clip-path=\"url(#clip510)\" d=\"M65.7254 1193.56 Q66.9202 1193.56 67.6867 1194.35 Q68.4532 1195.11 68.4532 1196.11 Q68.4532 1196.96 67.9572 1197.41 Q67.4613 1197.87 66.83 1197.87 Q65.9283 1197.87 65.1843 1197.17 Q64.4403 1196.47 64.2825 1195.45 Q63.7415 1196.2 63.7415 1197.39 Q63.7415 1199.35 65.2519 1201.09 Q65.9508 1201.86 67.2358 1202.69 Q68.4983 1203.52 69.0393 1203.68 L75.0586 1205.15 Q75.7349 1205.28 78.9813 1206.12 Q82.2051 1206.93 82.3404 1207 Q82.9716 1207.22 83.3098 1207.72 Q83.6479 1208.21 83.6479 1208.71 Q83.6479 1209.27 83.3098 1209.66 Q82.9716 1210.04 82.3855 1210.04 Q82.2953 1210.04 81.9571 1209.97 Q81.619 1209.9 81.1455 1209.79 Q80.6721 1209.68 80.4016 1209.63 L69.7382 1206.95 Q67.7994 1206.45 67.1907 1206.34 Q66.5595 1206.21 65.8606 1206.21 Q64.6432 1206.21 64.1924 1206.59 Q63.7415 1206.97 63.7415 1207.65 Q63.7415 1208.82 65.1392 1209.59 Q66.5369 1210.35 69.2422 1211.01 Q69.9862 1211.21 70.144 1211.35 Q70.3018 1211.46 70.3018 1211.8 Q70.2793 1212.36 69.8284 1212.36 Q69.7157 1212.36 68.9943 1212.18 Q68.2503 1212 67.1682 1211.66 Q66.0635 1211.3 65.3647 1210.92 Q64.8912 1210.69 64.5756 1210.49 Q64.26 1210.29 63.764 1209.88 Q63.2681 1209.48 62.9975 1208.87 Q62.727 1208.26 62.727 1207.51 Q62.727 1205.89 63.7189 1204.74 Q64.7109 1203.57 66.2664 1203.3 Q65.4548 1202.73 64.756 1202.04 Q64.0346 1201.34 63.3808 1200.05 Q62.727 1198.77 62.727 1197.39 Q62.727 1195.68 63.6062 1194.62 Q64.4629 1193.56 65.7254 1193.56 Z\" fill=\"#000000\" fill-rule=\"evenodd\" fill-opacity=\"1\" /><path clip-path=\"url(#clip510)\" d=\"M56.7754 1188.61 L55.3325 1188.61 Q55.3325 1183.06 52.3793 1180.2 Q52.3793 1179.41 52.5596 1179.28 Q52.74 1179.14 53.5741 1179.14 L79.4773 1179.14 Q80.8525 1179.14 81.2808 1178.47 Q81.7091 1177.79 81.7091 1174.84 L81.7091 1173.37 L83.1294 1173.37 Q82.9941 1174.99 82.9941 1180.85 Q82.9941 1186.72 83.1294 1188.32 L81.7091 1188.32 L81.7091 1186.85 Q81.7091 1183.94 81.3033 1183.24 Q80.875 1182.55 79.4773 1182.55 L55.558 1182.55 Q56.7754 1184.96 56.7754 1188.61 Z\" fill=\"#000000\" fill-rule=\"evenodd\" fill-opacity=\"1\" /><path clip-path=\"url(#clip510)\" d=\"M81.3422 1158.71 L15.3846 1158.71 L15.3846 1148.75 L16.8983 1148.75 L16.8983 1154.29 L79.8286 1154.29 L79.8286 1148.75 L81.3422 1148.75 L81.3422 1158.71 Z\" fill=\"#000000\" fill-rule=\"evenodd\" fill-opacity=\"1\" /><path clip-path=\"url(#clip510)\" d=\"M20.5376 1090.23 Q20.9563 1090.23 21.2461 1090.32 Q21.5038 1090.42 21.6326 1090.65 Q21.7614 1090.87 21.7936 1091 Q21.8258 1091.13 21.858 1091.42 Q21.9868 1092.8 22.2123 1093.77 Q22.4377 1094.7 23.5971 1097.02 Q24.7565 1099.31 26.8499 1102.18 L35.771 1113.71 L37.2846 1115.64 Q37.3812 1115.64 37.5745 1115.57 Q37.7355 1115.51 37.961 1115.45 Q38.1542 1115.35 38.2186 1115.32 L59.8287 1105.94 Q61.5678 1105.2 62.1798 1104.3 Q62.7917 1103.4 62.8239 1101.37 Q62.8239 1101.05 62.8561 1100.92 Q62.8561 1100.76 62.9205 1100.53 Q62.9527 1100.28 63.1137 1100.18 Q63.2748 1100.05 63.5324 1100.05 Q64.8528 1100.05 64.8528 1101.24 Q64.8528 1101.98 64.7562 1104.5 Q64.6596 1107.01 64.6596 1107.72 Q64.6596 1109.04 64.7562 1111.74 Q64.8528 1114.45 64.8528 1115.77 Q64.8528 1116.7 64.1121 1116.7 Q63.5002 1116.7 63.2103 1116.48 Q62.8883 1116.22 62.8561 1115.99 Q62.8239 1115.77 62.8239 1115.25 Q62.8239 1114.87 62.7917 1114.45 Q62.7273 1114 62.5662 1113.35 Q62.373 1112.68 61.9221 1112.26 Q61.439 1111.81 60.7627 1111.81 Q60.2152 1111.81 58.4439 1112.61 L40.6984 1120.24 L48.3634 1130.07 L58.7337 1132.71 Q59.1202 1132.77 59.7965 1132.93 Q60.4728 1133.09 60.9559 1133.22 Q61.439 1133.32 61.6323 1133.32 Q62.0509 1133.32 62.3086 1133.06 Q62.5662 1132.77 62.6951 1132.06 Q62.7917 1131.35 62.8239 1130.81 Q62.8239 1130.23 62.8239 1129.04 Q62.8239 1127.55 63.0815 1127.3 Q63.2426 1127.17 63.5324 1127.17 Q63.9833 1127.17 64.3053 1127.3 Q64.5952 1127.43 64.6918 1127.68 Q64.7884 1127.91 64.8206 1128.07 Q64.8528 1128.23 64.8528 1128.49 Q64.8528 1129.16 64.7884 1130.61 Q64.724 1132.03 64.724 1132.77 L64.6596 1136.99 L64.8528 1145.36 Q64.8528 1146.36 64.0477 1146.36 Q63.4358 1146.36 63.1781 1146.11 Q62.8883 1145.85 62.8561 1145.56 Q62.8239 1145.27 62.8239 1144.53 Q62.8239 1142.92 62.7273 1141.95 Q62.6306 1140.98 62.5018 1140.37 Q62.3408 1139.73 61.8899 1139.41 Q61.439 1139.05 61.0526 1138.89 Q60.6339 1138.73 59.6999 1138.5 L24.2735 1129.68 Q23.2107 1129.42 23.0496 1129.42 Q22.5021 1129.42 22.3089 1129.74 Q22.0835 1130.03 21.9868 1130.87 Q21.858 1132.48 21.858 1133.71 Q21.858 1134.51 21.8258 1134.83 Q21.7936 1135.12 21.6326 1135.38 Q21.4393 1135.61 21.0529 1135.61 Q19.7968 1135.61 19.7968 1134.29 L19.9901 1125.78 L19.7968 1117.35 Q19.7968 1116.41 20.5376 1116.41 Q21.4715 1116.41 21.6648 1116.86 Q21.858 1117.28 21.858 1118.67 Q21.858 1121.08 22.1801 1122.18 Q22.4699 1123.24 22.9852 1123.56 Q23.4683 1123.85 24.8854 1124.21 L46.0446 1129.49 L26.2702 1103.75 Q24.2735 1101.37 23.2429 1101.37 Q22.5665 1101.37 22.2767 1101.85 Q21.9546 1102.31 21.858 1103.43 Q21.7292 1104.24 21.1173 1104.24 Q20.5054 1104.24 20.2155 1104.01 Q19.8935 1103.75 19.8613 1103.56 Q19.7968 1103.34 19.7968 1102.98 Q19.7968 1101.79 19.8935 1099.31 Q19.9901 1096.83 19.9901 1095.64 Q19.9901 1094.83 19.8935 1093.26 Q19.7968 1091.68 19.7968 1090.97 Q19.7968 1090.61 20.0545 1090.42 Q20.2799 1090.23 20.5376 1090.23 Z\" fill=\"#000000\" fill-rule=\"evenodd\" fill-opacity=\"1\" /><path clip-path=\"url(#clip510)\" d=\"M79.8286 1088.02 L79.8286 1082.48 L16.8983 1082.48 L16.8983 1088.02 L15.3846 1088.02 L15.3846 1078.07 L81.3422 1078.07 L81.3422 1088.02 L79.8286 1088.02 Z\" fill=\"#000000\" fill-rule=\"evenodd\" fill-opacity=\"1\" /><polyline clip-path=\"url(#clip513)\" style=\"stroke:#000000; stroke-linecap:round; stroke-linejoin:round; stroke-width:4; stroke-opacity:1; fill:none\" stroke-dasharray=\"2, 4\" points=\"440.691,1468.36 488.29,1468.36 535.89,1468.36 583.489,1468.36 631.088,1468.36 678.688,1468.36 726.287,1468.36 773.886,1468.36 821.486,1468.36 869.085,1468.36 916.684,1468.36 964.284,1468.36 1011.88,1468.36 1059.48,1468.36 1107.08,1468.36 1154.68,1468.36 1202.28,1468.36 1249.88,1468.36 1297.48,1468.36 1345.08,1468.36 1392.68,1468.36 1440.28,1468.36 1487.88,1468.36 1535.48,1468.36 1583.07,1468.36 1630.67,1468.36 1678.27,1468.36 1725.87,1468.36 1773.47,1468.36 1821.07,1468.36 1868.67,1468.36 1916.27,1468.36 1963.87,1468.36 2011.47,1468.36 2059.07,1468.36 2106.67,1468.36 2154.27,1468.36 2201.87,1468.36 2249.47,1468.36 2297.06,1468.36 \"/>\n",
       "<polyline clip-path=\"url(#clip513)\" style=\"stroke:#ff0000; stroke-linecap:round; stroke-linejoin:round; stroke-width:12; stroke-opacity:0.3; fill:none\" points=\"440.691,1468.36 488.29,1468.36 535.89,1468.36 583.489,1468.36 631.088,1468.36 678.688,1468.36 726.287,1468.36 773.886,1468.36 821.486,1468.36 869.085,1468.36 916.684,1468.36 964.284,1468.36 1011.88,1468.36 1059.48,1468.36 1107.08,1468.36 1154.68,1468.36 1202.28,1468.36 1249.88,1468.36 1297.48,1468.36 1345.08,1468.36 1392.68,1468.36 1440.28,1468.36 1487.88,1468.36 1535.48,1468.36 1583.07,1468.36 1630.67,1468.36 1678.27,1468.36 1725.87,1468.36 1773.47,1468.36 1821.07,1468.36 1868.67,1468.36 1916.27,1468.36 1963.87,1468.36 2011.47,1468.36 2059.07,1468.36 2106.67,1468.36 2154.27,1468.36 2201.87,1468.36 2249.47,1468.36 2297.06,1468.36 \"/>\n",
       "<polyline clip-path=\"url(#clip513)\" style=\"stroke:#0000ff; stroke-linecap:round; stroke-linejoin:round; stroke-width:12; stroke-opacity:0.3; fill:none\" points=\"440.691,1468.36 488.29,1468.36 535.89,1468.36 583.489,1468.36 631.088,1468.36 678.688,1468.36 726.287,1468.36 773.886,1468.36 821.486,1468.36 869.085,1468.36 916.684,1468.36 964.284,1468.36 1011.88,1468.36 1059.48,1468.36 1107.08,1468.36 1154.68,1468.36 1202.28,1468.36 1249.88,1468.36 1297.48,1468.36 1345.08,1468.36 1392.68,1468.36 1440.28,1468.36 1487.88,1468.36 1535.48,1468.36 1583.07,1468.36 1630.67,1468.36 1678.27,1468.36 1725.87,1468.36 1773.47,1468.36 1821.07,1468.36 1868.67,1468.36 1916.27,1468.36 1963.87,865.335 2011.47,1468.36 2059.07,1468.36 2106.67,1468.36 2154.27,867.327 2201.87,1468.36 2249.47,1468.36 2297.06,1468.36 \"/>\n",
       "</svg>\n"
      ]
     },
     "metadata": {},
     "output_type": "display_data"
    }
   ],
   "source": [
    "p1 = plot(layout = (num_subplots, 1),fmt = :svg, resolution = (600, 400), latex=true,gridlinewidth=2) \n",
    "\n",
    "# Loop to generate subplots \n",
    "for mm in 1:num_subplots     \n",
    "    # Plot data based on the subplot index \n",
    "    # limits\n",
    "    plot!(subplot=mm,ts,Tr_max*ones(length(ts)),linestyle = :dot,linecolor = :black,label=\"\")\n",
    "     \n",
    "    for nn in 1:n_MC\n",
    "        plot!(subplot=mm,ts,TrPlant[1,:,nn,mm],linewidth=3,linealpha = 0.3,linecolor = CList[nn],legend=false)\n",
    "    end\n",
    "    \n",
    "    # Add labels, titles, or other customizations to each subplot \n",
    "    ylabel!(L\"T_{r1} [K]\") \n",
    "    \n",
    "end \n",
    "\n",
    "# Display the subplots \n",
    "display(p1)"
   ]
  },
  {
   "cell_type": "code",
   "execution_count": 21,
   "id": "2f0ed6c7",
   "metadata": {},
   "outputs": [
    {
     "data": {
      "image/svg+xml": [
       "<?xml version=\"1.0\" encoding=\"utf-8\"?>\n",
       "<svg xmlns=\"http://www.w3.org/2000/svg\" xmlns:xlink=\"http://www.w3.org/1999/xlink\" width=\"600\" height=\"400\" viewBox=\"0 0 2400 1600\">\n",
       "<defs>\n",
       "  <clipPath id=\"clip550\">\n",
       "    <rect x=\"0\" y=\"0\" width=\"2400\" height=\"1600\"/>\n",
       "  </clipPath>\n",
       "</defs>\n",
       "<path clip-path=\"url(#clip550)\" d=\"M0 1600 L2400 1600 L2400 0 L0 0  Z\" fill=\"#ffffff\" fill-rule=\"evenodd\" fill-opacity=\"1\"/>\n",
       "<defs>\n",
       "  <clipPath id=\"clip551\">\n",
       "    <rect x=\"480\" y=\"0\" width=\"1681\" height=\"1600\"/>\n",
       "  </clipPath>\n",
       "</defs>\n",
       "<defs>\n",
       "  <clipPath id=\"clip552\">\n",
       "    <rect x=\"384\" y=\"847\" width=\"1969\" height=\"640\"/>\n",
       "  </clipPath>\n",
       "</defs>\n",
       "<path clip-path=\"url(#clip550)\" d=\"M434.786 686.448 L2352.76 686.448 L2352.76 47.2441 L434.786 47.2441  Z\" fill=\"#ffffff\" fill-rule=\"evenodd\" fill-opacity=\"1\"/>\n",
       "<defs>\n",
       "  <clipPath id=\"clip553\">\n",
       "    <rect x=\"434\" y=\"47\" width=\"1919\" height=\"640\"/>\n",
       "  </clipPath>\n",
       "</defs>\n",
       "<polyline clip-path=\"url(#clip553)\" style=\"stroke:#000000; stroke-linecap:round; stroke-linejoin:round; stroke-width:8; stroke-opacity:0.1; fill:none\" points=\"442.673,686.448 442.673,47.2441 \"/>\n",
       "<polyline clip-path=\"url(#clip553)\" style=\"stroke:#000000; stroke-linecap:round; stroke-linejoin:round; stroke-width:8; stroke-opacity:0.1; fill:none\" points=\"906.623,686.448 906.623,47.2441 \"/>\n",
       "<polyline clip-path=\"url(#clip553)\" style=\"stroke:#000000; stroke-linecap:round; stroke-linejoin:round; stroke-width:8; stroke-opacity:0.1; fill:none\" points=\"1370.57,686.448 1370.57,47.2441 \"/>\n",
       "<polyline clip-path=\"url(#clip553)\" style=\"stroke:#000000; stroke-linecap:round; stroke-linejoin:round; stroke-width:8; stroke-opacity:0.1; fill:none\" points=\"1834.52,686.448 1834.52,47.2441 \"/>\n",
       "<polyline clip-path=\"url(#clip553)\" style=\"stroke:#000000; stroke-linecap:round; stroke-linejoin:round; stroke-width:8; stroke-opacity:0.1; fill:none\" points=\"2298.47,686.448 2298.47,47.2441 \"/>\n",
       "<polyline clip-path=\"url(#clip550)\" style=\"stroke:#000000; stroke-linecap:round; stroke-linejoin:round; stroke-width:4; stroke-opacity:1; fill:none\" points=\"434.786,686.448 2352.76,686.448 \"/>\n",
       "<polyline clip-path=\"url(#clip550)\" style=\"stroke:#000000; stroke-linecap:round; stroke-linejoin:round; stroke-width:4; stroke-opacity:1; fill:none\" points=\"442.673,686.448 442.673,667.55 \"/>\n",
       "<polyline clip-path=\"url(#clip550)\" style=\"stroke:#000000; stroke-linecap:round; stroke-linejoin:round; stroke-width:4; stroke-opacity:1; fill:none\" points=\"906.623,686.448 906.623,667.55 \"/>\n",
       "<polyline clip-path=\"url(#clip550)\" style=\"stroke:#000000; stroke-linecap:round; stroke-linejoin:round; stroke-width:4; stroke-opacity:1; fill:none\" points=\"1370.57,686.448 1370.57,667.55 \"/>\n",
       "<polyline clip-path=\"url(#clip550)\" style=\"stroke:#000000; stroke-linecap:round; stroke-linejoin:round; stroke-width:4; stroke-opacity:1; fill:none\" points=\"1834.52,686.448 1834.52,667.55 \"/>\n",
       "<polyline clip-path=\"url(#clip550)\" style=\"stroke:#000000; stroke-linecap:round; stroke-linejoin:round; stroke-width:4; stroke-opacity:1; fill:none\" points=\"2298.47,686.448 2298.47,667.55 \"/>\n",
       "<path clip-path=\"url(#clip550)\" d=\"M442.673 717.367 Q439.062 717.367 437.233 720.931 Q435.428 724.473 435.428 731.603 Q435.428 738.709 437.233 742.274 Q439.062 745.815 442.673 745.815 Q446.307 745.815 448.113 742.274 Q449.941 738.709 449.941 731.603 Q449.941 724.473 448.113 720.931 Q446.307 717.367 442.673 717.367 M442.673 713.663 Q448.483 713.663 451.539 718.269 Q454.617 722.853 454.617 731.603 Q454.617 740.329 451.539 744.936 Q448.483 749.519 442.673 749.519 Q436.863 749.519 433.784 744.936 Q430.729 740.329 430.729 731.603 Q430.729 722.853 433.784 718.269 Q436.863 713.663 442.673 713.663 Z\" fill=\"#000000\" fill-rule=\"evenodd\" fill-opacity=\"1\" /><path clip-path=\"url(#clip550)\" d=\"M881.311 744.913 L888.95 744.913 L888.95 718.547 L880.639 720.214 L880.639 715.955 L888.903 714.288 L893.579 714.288 L893.579 744.913 L901.218 744.913 L901.218 748.848 L881.311 748.848 L881.311 744.913 Z\" fill=\"#000000\" fill-rule=\"evenodd\" fill-opacity=\"1\" /><path clip-path=\"url(#clip550)\" d=\"M920.662 717.367 Q917.051 717.367 915.223 720.931 Q913.417 724.473 913.417 731.603 Q913.417 738.709 915.223 742.274 Q917.051 745.815 920.662 745.815 Q924.297 745.815 926.102 742.274 Q927.931 738.709 927.931 731.603 Q927.931 724.473 926.102 720.931 Q924.297 717.367 920.662 717.367 M920.662 713.663 Q926.473 713.663 929.528 718.269 Q932.607 722.853 932.607 731.603 Q932.607 740.329 929.528 744.936 Q926.473 749.519 920.662 749.519 Q914.852 749.519 911.774 744.936 Q908.718 740.329 908.718 731.603 Q908.718 722.853 911.774 718.269 Q914.852 713.663 920.662 713.663 Z\" fill=\"#000000\" fill-rule=\"evenodd\" fill-opacity=\"1\" /><path clip-path=\"url(#clip550)\" d=\"M1349.35 744.913 L1365.67 744.913 L1365.67 748.848 L1343.72 748.848 L1343.72 744.913 Q1346.38 742.158 1350.97 737.528 Q1355.57 732.876 1356.75 731.533 Q1359 729.01 1359.88 727.274 Q1360.78 725.515 1360.78 723.825 Q1360.78 721.07 1358.84 719.334 Q1356.92 717.598 1353.81 717.598 Q1351.62 717.598 1349.16 718.362 Q1346.73 719.126 1343.95 720.677 L1343.95 715.955 Q1346.78 714.82 1349.23 714.242 Q1351.68 713.663 1353.72 713.663 Q1359.09 713.663 1362.29 716.348 Q1365.48 719.033 1365.48 723.524 Q1365.48 725.654 1364.67 727.575 Q1363.88 729.473 1361.78 732.066 Q1361.2 732.737 1358.1 735.954 Q1354.99 739.149 1349.35 744.913 Z\" fill=\"#000000\" fill-rule=\"evenodd\" fill-opacity=\"1\" /><path clip-path=\"url(#clip550)\" d=\"M1385.48 717.367 Q1381.87 717.367 1380.04 720.931 Q1378.24 724.473 1378.24 731.603 Q1378.24 738.709 1380.04 742.274 Q1381.87 745.815 1385.48 745.815 Q1389.11 745.815 1390.92 742.274 Q1392.75 738.709 1392.75 731.603 Q1392.75 724.473 1390.92 720.931 Q1389.11 717.367 1385.48 717.367 M1385.48 713.663 Q1391.29 713.663 1394.35 718.269 Q1397.43 722.853 1397.43 731.603 Q1397.43 740.329 1394.35 744.936 Q1391.29 749.519 1385.48 749.519 Q1379.67 749.519 1376.59 744.936 Q1373.54 740.329 1373.54 731.603 Q1373.54 722.853 1376.59 718.269 Q1379.67 713.663 1385.48 713.663 Z\" fill=\"#000000\" fill-rule=\"evenodd\" fill-opacity=\"1\" /><path clip-path=\"url(#clip550)\" d=\"M1823.37 730.214 Q1826.72 730.931 1828.6 733.2 Q1830.5 735.468 1830.5 738.802 Q1830.5 743.917 1826.98 746.718 Q1823.46 749.519 1816.98 749.519 Q1814.8 749.519 1812.49 749.079 Q1810.19 748.663 1807.74 747.806 L1807.74 743.292 Q1809.69 744.427 1812 745.005 Q1814.32 745.584 1816.84 745.584 Q1821.24 745.584 1823.53 743.848 Q1825.84 742.112 1825.84 738.802 Q1825.84 735.746 1823.69 734.033 Q1821.56 732.297 1817.74 732.297 L1813.71 732.297 L1813.71 728.454 L1817.93 728.454 Q1821.38 728.454 1823.2 727.089 Q1825.03 725.7 1825.03 723.107 Q1825.03 720.445 1823.13 719.033 Q1821.26 717.598 1817.74 717.598 Q1815.82 717.598 1813.62 718.015 Q1811.42 718.431 1808.78 719.311 L1808.78 715.144 Q1811.44 714.404 1813.76 714.033 Q1816.1 713.663 1818.16 713.663 Q1823.48 713.663 1826.58 716.093 Q1829.69 718.501 1829.69 722.621 Q1829.69 725.492 1828.04 727.482 Q1826.4 729.45 1823.37 730.214 Z\" fill=\"#000000\" fill-rule=\"evenodd\" fill-opacity=\"1\" /><path clip-path=\"url(#clip550)\" d=\"M1849.36 717.367 Q1845.75 717.367 1843.92 720.931 Q1842.12 724.473 1842.12 731.603 Q1842.12 738.709 1843.92 742.274 Q1845.75 745.815 1849.36 745.815 Q1853 745.815 1854.8 742.274 Q1856.63 738.709 1856.63 731.603 Q1856.63 724.473 1854.8 720.931 Q1853 717.367 1849.36 717.367 M1849.36 713.663 Q1855.17 713.663 1858.23 718.269 Q1861.31 722.853 1861.31 731.603 Q1861.31 740.329 1858.23 744.936 Q1855.17 749.519 1849.36 749.519 Q1843.55 749.519 1840.47 744.936 Q1837.42 740.329 1837.42 731.603 Q1837.42 722.853 1840.47 718.269 Q1843.55 713.663 1849.36 713.663 Z\" fill=\"#000000\" fill-rule=\"evenodd\" fill-opacity=\"1\" /><path clip-path=\"url(#clip550)\" d=\"M2286.65 718.362 L2274.84 736.811 L2286.65 736.811 L2286.65 718.362 M2285.42 714.288 L2291.3 714.288 L2291.3 736.811 L2296.23 736.811 L2296.23 740.7 L2291.3 740.7 L2291.3 748.848 L2286.65 748.848 L2286.65 740.7 L2271.04 740.7 L2271.04 736.186 L2285.42 714.288 Z\" fill=\"#000000\" fill-rule=\"evenodd\" fill-opacity=\"1\" /><path clip-path=\"url(#clip550)\" d=\"M2313.96 717.367 Q2310.35 717.367 2308.52 720.931 Q2306.71 724.473 2306.71 731.603 Q2306.71 738.709 2308.52 742.274 Q2310.35 745.815 2313.96 745.815 Q2317.59 745.815 2319.4 742.274 Q2321.23 738.709 2321.23 731.603 Q2321.23 724.473 2319.4 720.931 Q2317.59 717.367 2313.96 717.367 M2313.96 713.663 Q2319.77 713.663 2322.83 718.269 Q2325.9 722.853 2325.9 731.603 Q2325.9 740.329 2322.83 744.936 Q2319.77 749.519 2313.96 749.519 Q2308.15 749.519 2305.07 744.936 Q2302.02 740.329 2302.02 731.603 Q2302.02 722.853 2305.07 718.269 Q2308.15 713.663 2313.96 713.663 Z\" fill=\"#000000\" fill-rule=\"evenodd\" fill-opacity=\"1\" /><polyline clip-path=\"url(#clip553)\" style=\"stroke:#000000; stroke-linecap:round; stroke-linejoin:round; stroke-width:8; stroke-opacity:0.1; fill:none\" points=\"434.786,574.909 2352.76,574.909 \"/>\n",
       "<polyline clip-path=\"url(#clip553)\" style=\"stroke:#000000; stroke-linecap:round; stroke-linejoin:round; stroke-width:8; stroke-opacity:0.1; fill:none\" points=\"434.786,405.051 2352.76,405.051 \"/>\n",
       "<polyline clip-path=\"url(#clip553)\" style=\"stroke:#000000; stroke-linecap:round; stroke-linejoin:round; stroke-width:8; stroke-opacity:0.1; fill:none\" points=\"434.786,235.193 2352.76,235.193 \"/>\n",
       "<polyline clip-path=\"url(#clip553)\" style=\"stroke:#000000; stroke-linecap:round; stroke-linejoin:round; stroke-width:8; stroke-opacity:0.1; fill:none\" points=\"434.786,65.3348 2352.76,65.3348 \"/>\n",
       "<polyline clip-path=\"url(#clip550)\" style=\"stroke:#000000; stroke-linecap:round; stroke-linejoin:round; stroke-width:4; stroke-opacity:1; fill:none\" points=\"434.786,686.448 434.786,47.2441 \"/>\n",
       "<polyline clip-path=\"url(#clip550)\" style=\"stroke:#000000; stroke-linecap:round; stroke-linejoin:round; stroke-width:4; stroke-opacity:1; fill:none\" points=\"434.786,574.909 453.683,574.909 \"/>\n",
       "<polyline clip-path=\"url(#clip550)\" style=\"stroke:#000000; stroke-linecap:round; stroke-linejoin:round; stroke-width:4; stroke-opacity:1; fill:none\" points=\"434.786,405.051 453.683,405.051 \"/>\n",
       "<polyline clip-path=\"url(#clip550)\" style=\"stroke:#000000; stroke-linecap:round; stroke-linejoin:round; stroke-width:4; stroke-opacity:1; fill:none\" points=\"434.786,235.193 453.683,235.193 \"/>\n",
       "<polyline clip-path=\"url(#clip550)\" style=\"stroke:#000000; stroke-linecap:round; stroke-linejoin:round; stroke-width:4; stroke-opacity:1; fill:none\" points=\"434.786,65.3348 453.683,65.3348 \"/>\n",
       "<path clip-path=\"url(#clip550)\" d=\"M124.464 581.808 L154.14 581.808 L154.14 585.743 L124.464 585.743 L124.464 581.808 Z\" fill=\"#000000\" fill-rule=\"evenodd\" fill-opacity=\"1\" /><path clip-path=\"url(#clip550)\" d=\"M174.811 579.493 Q171.663 579.493 169.811 581.646 Q167.983 583.799 167.983 587.549 Q167.983 591.276 169.811 593.452 Q171.663 595.605 174.811 595.605 Q177.959 595.605 179.788 593.452 Q181.64 591.276 181.64 587.549 Q181.64 583.799 179.788 581.646 Q177.959 579.493 174.811 579.493 M184.094 564.841 L184.094 569.1 Q182.334 568.267 180.529 567.827 Q178.746 567.387 176.987 567.387 Q172.358 567.387 169.904 570.512 Q167.473 573.637 167.126 579.956 Q168.492 577.943 170.552 576.878 Q172.612 575.79 175.089 575.79 Q180.297 575.79 183.307 578.961 Q186.339 582.109 186.339 587.549 Q186.339 592.873 183.191 596.091 Q180.043 599.308 174.811 599.308 Q168.816 599.308 165.645 594.725 Q162.473 590.118 162.473 581.392 Q162.473 573.197 166.362 568.336 Q170.251 563.452 176.802 563.452 Q178.561 563.452 180.344 563.799 Q182.149 564.146 184.094 564.841 Z\" fill=\"#000000\" fill-rule=\"evenodd\" fill-opacity=\"1\" /><path clip-path=\"url(#clip550)\" d=\"M194.395 592.757 L199.279 592.757 L199.279 598.637 L194.395 598.637 L194.395 592.757 Z\" fill=\"#000000\" fill-rule=\"evenodd\" fill-opacity=\"1\" /><path clip-path=\"url(#clip550)\" d=\"M219.464 567.156 Q215.853 567.156 214.024 570.72 Q212.218 574.262 212.218 581.392 Q212.218 588.498 214.024 592.063 Q215.853 595.605 219.464 595.605 Q223.098 595.605 224.904 592.063 Q226.732 588.498 226.732 581.392 Q226.732 574.262 224.904 570.72 Q223.098 567.156 219.464 567.156 M219.464 563.452 Q225.274 563.452 228.33 568.058 Q231.408 572.642 231.408 581.392 Q231.408 590.118 228.33 594.725 Q225.274 599.308 219.464 599.308 Q213.654 599.308 210.575 594.725 Q207.519 590.118 207.519 581.392 Q207.519 572.642 210.575 568.058 Q213.654 563.452 219.464 563.452 Z\" fill=\"#000000\" fill-rule=\"evenodd\" fill-opacity=\"1\" /><path clip-path=\"url(#clip550)\" d=\"M267.797 573.174 L257.218 583.799 L267.797 594.378 L265.042 597.179 L254.417 586.554 L243.792 597.179 L241.061 594.378 L251.616 583.799 L241.061 573.174 L243.792 570.373 L254.417 580.998 L265.042 570.373 L267.797 573.174 Z\" fill=\"#000000\" fill-rule=\"evenodd\" fill-opacity=\"1\" /><path clip-path=\"url(#clip550)\" d=\"M280.158 594.702 L287.797 594.702 L287.797 568.336 L279.487 570.003 L279.487 565.744 L287.75 564.077 L292.426 564.077 L292.426 594.702 L300.065 594.702 L300.065 598.637 L280.158 598.637 L280.158 594.702 Z\" fill=\"#000000\" fill-rule=\"evenodd\" fill-opacity=\"1\" /><path clip-path=\"url(#clip550)\" d=\"M319.51 567.156 Q315.898 567.156 314.07 570.72 Q312.264 574.262 312.264 581.392 Q312.264 588.498 314.07 592.063 Q315.898 595.605 319.51 595.605 Q323.144 595.605 324.949 592.063 Q326.778 588.498 326.778 581.392 Q326.778 574.262 324.949 570.72 Q323.144 567.156 319.51 567.156 M319.51 563.452 Q325.32 563.452 328.375 568.058 Q331.454 572.642 331.454 581.392 Q331.454 590.118 328.375 594.725 Q325.32 599.308 319.51 599.308 Q313.699 599.308 310.621 594.725 Q307.565 590.118 307.565 581.392 Q307.565 572.642 310.621 568.058 Q313.699 563.452 319.51 563.452 Z\" fill=\"#000000\" fill-rule=\"evenodd\" fill-opacity=\"1\" /><path clip-path=\"url(#clip550)\" d=\"M336.024 568.029 L349.284 568.029 L349.284 571.226 L331.454 571.226 L331.454 568.029 Q333.617 565.791 337.341 562.029 Q341.084 558.249 342.043 557.158 Q343.867 555.108 344.582 553.698 Q345.315 552.268 345.315 550.895 Q345.315 548.657 343.735 547.247 Q342.174 545.836 339.654 545.836 Q337.867 545.836 335.874 546.457 Q333.899 547.077 331.642 548.337 L331.642 544.501 Q333.937 543.579 335.93 543.109 Q337.924 542.639 339.579 542.639 Q343.942 542.639 346.538 544.82 Q349.133 547.002 349.133 550.651 Q349.133 552.381 348.475 553.942 Q347.836 555.484 346.124 557.591 Q345.654 558.136 343.134 560.751 Q340.613 563.346 336.024 568.029 Z\" fill=\"#000000\" fill-rule=\"evenodd\" fill-opacity=\"1\" /><path clip-path=\"url(#clip550)\" d=\"M357.371 570.643 L357.371 567.183 Q358.8 567.86 360.267 568.217 Q361.734 568.575 363.145 568.575 Q366.907 568.575 368.881 566.054 Q370.875 563.515 371.157 558.362 Q370.066 559.979 368.392 560.845 Q366.719 561.71 364.687 561.71 Q360.474 561.71 358.011 559.171 Q355.566 556.613 355.566 552.193 Q355.566 547.867 358.123 545.253 Q360.681 542.639 364.932 542.639 Q369.803 542.639 372.361 546.381 Q374.938 550.105 374.938 557.215 Q374.938 563.854 371.778 567.822 Q368.637 571.772 363.314 571.772 Q361.885 571.772 360.418 571.49 Q358.951 571.208 357.371 570.643 M364.932 558.738 Q367.49 558.738 368.975 556.989 Q370.48 555.24 370.48 552.193 Q370.48 549.165 368.975 547.416 Q367.49 545.648 364.932 545.648 Q362.374 545.648 360.869 547.416 Q359.383 549.165 359.383 552.193 Q359.383 555.24 360.869 556.989 Q362.374 558.738 364.932 558.738 Z\" fill=\"#000000\" fill-rule=\"evenodd\" fill-opacity=\"1\" /><path clip-path=\"url(#clip550)\" d=\"M381.802 543.146 L396.717 543.146 L396.717 546.344 L385.282 546.344 L385.282 553.227 Q386.109 552.945 386.937 552.814 Q387.764 552.663 388.592 552.663 Q393.294 552.663 396.04 555.24 Q398.786 557.817 398.786 562.218 Q398.786 566.75 395.965 569.27 Q393.143 571.772 388.009 571.772 Q386.241 571.772 384.398 571.471 Q382.573 571.17 380.617 570.568 L380.617 566.75 Q382.31 567.672 384.116 568.123 Q385.921 568.575 387.934 568.575 Q391.187 568.575 393.087 566.863 Q394.987 565.152 394.987 562.218 Q394.987 559.284 393.087 557.572 Q391.187 555.861 387.934 555.861 Q386.41 555.861 384.887 556.199 Q383.382 556.538 381.802 557.252 L381.802 543.146 Z\" fill=\"#000000\" fill-rule=\"evenodd\" fill-opacity=\"1\" /><path clip-path=\"url(#clip550)\" d=\"M124.464 411.95 L154.14 411.95 L154.14 415.885 L124.464 415.885 L124.464 411.95 Z\" fill=\"#000000\" fill-rule=\"evenodd\" fill-opacity=\"1\" /><path clip-path=\"url(#clip550)\" d=\"M177.08 398.293 L165.274 416.742 L177.08 416.742 L177.08 398.293 M175.853 394.219 L181.733 394.219 L181.733 416.742 L186.663 416.742 L186.663 420.631 L181.733 420.631 L181.733 428.779 L177.08 428.779 L177.08 420.631 L161.478 420.631 L161.478 416.117 L175.853 394.219 Z\" fill=\"#000000\" fill-rule=\"evenodd\" fill-opacity=\"1\" /><path clip-path=\"url(#clip550)\" d=\"M194.395 422.899 L199.279 422.899 L199.279 428.779 L194.395 428.779 L194.395 422.899 Z\" fill=\"#000000\" fill-rule=\"evenodd\" fill-opacity=\"1\" /><path clip-path=\"url(#clip550)\" d=\"M219.464 397.297 Q215.853 397.297 214.024 400.862 Q212.218 404.404 212.218 411.533 Q212.218 418.64 214.024 422.205 Q215.853 425.746 219.464 425.746 Q223.098 425.746 224.904 422.205 Q226.732 418.64 226.732 411.533 Q226.732 404.404 224.904 400.862 Q223.098 397.297 219.464 397.297 M219.464 393.594 Q225.274 393.594 228.33 398.2 Q231.408 402.783 231.408 411.533 Q231.408 420.26 228.33 424.867 Q225.274 429.45 219.464 429.45 Q213.654 429.45 210.575 424.867 Q207.519 420.26 207.519 411.533 Q207.519 402.783 210.575 398.2 Q213.654 393.594 219.464 393.594 Z\" fill=\"#000000\" fill-rule=\"evenodd\" fill-opacity=\"1\" /><path clip-path=\"url(#clip550)\" d=\"M267.797 403.316 L257.218 413.941 L267.797 424.519 L265.042 427.32 L254.417 416.695 L243.792 427.32 L241.061 424.519 L251.616 413.941 L241.061 403.316 L243.792 400.515 L254.417 411.14 L265.042 400.515 L267.797 403.316 Z\" fill=\"#000000\" fill-rule=\"evenodd\" fill-opacity=\"1\" /><path clip-path=\"url(#clip550)\" d=\"M280.158 424.844 L287.797 424.844 L287.797 398.478 L279.487 400.145 L279.487 395.885 L287.75 394.219 L292.426 394.219 L292.426 424.844 L300.065 424.844 L300.065 428.779 L280.158 428.779 L280.158 424.844 Z\" fill=\"#000000\" fill-rule=\"evenodd\" fill-opacity=\"1\" /><path clip-path=\"url(#clip550)\" d=\"M319.51 397.297 Q315.898 397.297 314.07 400.862 Q312.264 404.404 312.264 411.533 Q312.264 418.64 314.07 422.205 Q315.898 425.746 319.51 425.746 Q323.144 425.746 324.949 422.205 Q326.778 418.64 326.778 411.533 Q326.778 404.404 324.949 400.862 Q323.144 397.297 319.51 397.297 M319.51 393.594 Q325.32 393.594 328.375 398.2 Q331.454 402.783 331.454 411.533 Q331.454 420.26 328.375 424.867 Q325.32 429.45 319.51 429.45 Q313.699 429.45 310.621 424.867 Q307.565 420.26 307.565 411.533 Q307.565 402.783 310.621 398.2 Q313.699 393.594 319.51 393.594 Z\" fill=\"#000000\" fill-rule=\"evenodd\" fill-opacity=\"1\" /><path clip-path=\"url(#clip550)\" d=\"M336.024 398.171 L349.284 398.171 L349.284 401.368 L331.454 401.368 L331.454 398.171 Q333.617 395.933 337.341 392.171 Q341.084 388.391 342.043 387.3 Q343.867 385.25 344.582 383.839 Q345.315 382.41 345.315 381.037 Q345.315 378.799 343.735 377.388 Q342.174 375.978 339.654 375.978 Q337.867 375.978 335.874 376.598 Q333.899 377.219 331.642 378.479 L331.642 374.642 Q333.937 373.721 335.93 373.251 Q337.924 372.781 339.579 372.781 Q343.942 372.781 346.538 374.962 Q349.133 377.144 349.133 380.793 Q349.133 382.523 348.475 384.084 Q347.836 385.626 346.124 387.733 Q345.654 388.278 343.134 390.892 Q340.613 393.488 336.024 398.171 Z\" fill=\"#000000\" fill-rule=\"evenodd\" fill-opacity=\"1\" /><path clip-path=\"url(#clip550)\" d=\"M357.371 400.785 L357.371 397.325 Q358.8 398.002 360.267 398.359 Q361.734 398.716 363.145 398.716 Q366.907 398.716 368.881 396.196 Q370.875 393.657 371.157 388.504 Q370.066 390.121 368.392 390.986 Q366.719 391.852 364.687 391.852 Q360.474 391.852 358.011 389.313 Q355.566 386.755 355.566 382.335 Q355.566 378.009 358.123 375.395 Q360.681 372.781 364.932 372.781 Q369.803 372.781 372.361 376.523 Q374.938 380.247 374.938 387.357 Q374.938 393.996 371.778 397.964 Q368.637 401.914 363.314 401.914 Q361.885 401.914 360.418 401.632 Q358.951 401.35 357.371 400.785 M364.932 388.88 Q367.49 388.88 368.975 387.131 Q370.48 385.382 370.48 382.335 Q370.48 379.307 368.975 377.558 Q367.49 375.79 364.932 375.79 Q362.374 375.79 360.869 377.558 Q359.383 379.307 359.383 382.335 Q359.383 385.382 360.869 387.131 Q362.374 388.88 364.932 388.88 Z\" fill=\"#000000\" fill-rule=\"evenodd\" fill-opacity=\"1\" /><path clip-path=\"url(#clip550)\" d=\"M381.802 373.288 L396.717 373.288 L396.717 376.486 L385.282 376.486 L385.282 383.369 Q386.109 383.087 386.937 382.956 Q387.764 382.805 388.592 382.805 Q393.294 382.805 396.04 385.382 Q398.786 387.958 398.786 392.359 Q398.786 396.892 395.965 399.412 Q393.143 401.914 388.009 401.914 Q386.241 401.914 384.398 401.613 Q382.573 401.312 380.617 400.71 L380.617 396.892 Q382.31 397.814 384.116 398.265 Q385.921 398.716 387.934 398.716 Q391.187 398.716 393.087 397.005 Q394.987 395.293 394.987 392.359 Q394.987 389.425 393.087 387.714 Q391.187 386.002 387.934 386.002 Q386.41 386.002 384.887 386.341 Q383.382 386.679 381.802 387.394 L381.802 373.288 Z\" fill=\"#000000\" fill-rule=\"evenodd\" fill-opacity=\"1\" /><path clip-path=\"url(#clip550)\" d=\"M124.464 242.092 L154.14 242.092 L154.14 246.027 L124.464 246.027 L124.464 242.092 Z\" fill=\"#000000\" fill-rule=\"evenodd\" fill-opacity=\"1\" /><path clip-path=\"url(#clip550)\" d=\"M168.26 254.985 L184.58 254.985 L184.58 258.921 L162.635 258.921 L162.635 254.985 Q165.297 252.231 169.881 247.601 Q174.487 242.948 175.668 241.606 Q177.913 239.083 178.793 237.347 Q179.696 235.587 179.696 233.898 Q179.696 231.143 177.751 229.407 Q175.83 227.671 172.728 227.671 Q170.529 227.671 168.075 228.435 Q165.645 229.198 162.867 230.749 L162.867 226.027 Q165.691 224.893 168.145 224.314 Q170.598 223.736 172.635 223.736 Q178.006 223.736 181.2 226.421 Q184.395 229.106 184.395 233.597 Q184.395 235.726 183.584 237.648 Q182.797 239.546 180.691 242.138 Q180.112 242.81 177.01 246.027 Q173.909 249.222 168.26 254.985 Z\" fill=\"#000000\" fill-rule=\"evenodd\" fill-opacity=\"1\" /><path clip-path=\"url(#clip550)\" d=\"M194.395 253.041 L199.279 253.041 L199.279 258.921 L194.395 258.921 L194.395 253.041 Z\" fill=\"#000000\" fill-rule=\"evenodd\" fill-opacity=\"1\" /><path clip-path=\"url(#clip550)\" d=\"M219.464 227.439 Q215.853 227.439 214.024 231.004 Q212.218 234.546 212.218 241.675 Q212.218 248.782 214.024 252.347 Q215.853 255.888 219.464 255.888 Q223.098 255.888 224.904 252.347 Q226.732 248.782 226.732 241.675 Q226.732 234.546 224.904 231.004 Q223.098 227.439 219.464 227.439 M219.464 223.736 Q225.274 223.736 228.33 228.342 Q231.408 232.925 231.408 241.675 Q231.408 250.402 228.33 255.009 Q225.274 259.592 219.464 259.592 Q213.654 259.592 210.575 255.009 Q207.519 250.402 207.519 241.675 Q207.519 232.925 210.575 228.342 Q213.654 223.736 219.464 223.736 Z\" fill=\"#000000\" fill-rule=\"evenodd\" fill-opacity=\"1\" /><path clip-path=\"url(#clip550)\" d=\"M267.797 233.458 L257.218 244.083 L267.797 254.661 L265.042 257.462 L254.417 246.837 L243.792 257.462 L241.061 254.661 L251.616 244.083 L241.061 233.458 L243.792 230.657 L254.417 241.282 L265.042 230.657 L267.797 233.458 Z\" fill=\"#000000\" fill-rule=\"evenodd\" fill-opacity=\"1\" /><path clip-path=\"url(#clip550)\" d=\"M280.158 254.985 L287.797 254.985 L287.797 228.62 L279.487 230.286 L279.487 226.027 L287.75 224.361 L292.426 224.361 L292.426 254.985 L300.065 254.985 L300.065 258.921 L280.158 258.921 L280.158 254.985 Z\" fill=\"#000000\" fill-rule=\"evenodd\" fill-opacity=\"1\" /><path clip-path=\"url(#clip550)\" d=\"M319.51 227.439 Q315.898 227.439 314.07 231.004 Q312.264 234.546 312.264 241.675 Q312.264 248.782 314.07 252.347 Q315.898 255.888 319.51 255.888 Q323.144 255.888 324.949 252.347 Q326.778 248.782 326.778 241.675 Q326.778 234.546 324.949 231.004 Q323.144 227.439 319.51 227.439 M319.51 223.736 Q325.32 223.736 328.375 228.342 Q331.454 232.925 331.454 241.675 Q331.454 250.402 328.375 255.009 Q325.32 259.592 319.51 259.592 Q313.699 259.592 310.621 255.009 Q307.565 250.402 307.565 241.675 Q307.565 232.925 310.621 228.342 Q313.699 223.736 319.51 223.736 Z\" fill=\"#000000\" fill-rule=\"evenodd\" fill-opacity=\"1\" /><path clip-path=\"url(#clip550)\" d=\"M336.024 228.313 L349.284 228.313 L349.284 231.51 L331.454 231.51 L331.454 228.313 Q333.617 226.075 337.341 222.313 Q341.084 218.533 342.043 217.442 Q343.867 215.392 344.582 213.981 Q345.315 212.552 345.315 211.179 Q345.315 208.941 343.735 207.53 Q342.174 206.12 339.654 206.12 Q337.867 206.12 335.874 206.74 Q333.899 207.361 331.642 208.621 L331.642 204.784 Q333.937 203.863 335.93 203.393 Q337.924 202.922 339.579 202.922 Q343.942 202.922 346.538 205.104 Q349.133 207.286 349.133 210.934 Q349.133 212.665 348.475 214.226 Q347.836 215.768 346.124 217.875 Q345.654 218.42 343.134 221.034 Q340.613 223.63 336.024 228.313 Z\" fill=\"#000000\" fill-rule=\"evenodd\" fill-opacity=\"1\" /><path clip-path=\"url(#clip550)\" d=\"M357.371 230.927 L357.371 227.466 Q358.8 228.144 360.267 228.501 Q361.734 228.858 363.145 228.858 Q366.907 228.858 368.881 226.338 Q370.875 223.799 371.157 218.646 Q370.066 220.263 368.392 221.128 Q366.719 221.993 364.687 221.993 Q360.474 221.993 358.011 219.454 Q355.566 216.897 355.566 212.477 Q355.566 208.151 358.123 205.537 Q360.681 202.922 364.932 202.922 Q369.803 202.922 372.361 206.665 Q374.938 210.389 374.938 217.498 Q374.938 224.137 371.778 228.106 Q368.637 232.056 363.314 232.056 Q361.885 232.056 360.418 231.773 Q358.951 231.491 357.371 230.927 M364.932 219.022 Q367.49 219.022 368.975 217.273 Q370.48 215.524 370.48 212.477 Q370.48 209.449 368.975 207.7 Q367.49 205.932 364.932 205.932 Q362.374 205.932 360.869 207.7 Q359.383 209.449 359.383 212.477 Q359.383 215.524 360.869 217.273 Q362.374 219.022 364.932 219.022 Z\" fill=\"#000000\" fill-rule=\"evenodd\" fill-opacity=\"1\" /><path clip-path=\"url(#clip550)\" d=\"M381.802 203.43 L396.717 203.43 L396.717 206.627 L385.282 206.627 L385.282 213.511 Q386.109 213.229 386.937 213.097 Q387.764 212.947 388.592 212.947 Q393.294 212.947 396.04 215.524 Q398.786 218.1 398.786 222.501 Q398.786 227.034 395.965 229.554 Q393.143 232.056 388.009 232.056 Q386.241 232.056 384.398 231.755 Q382.573 231.454 380.617 230.852 L380.617 227.034 Q382.31 227.955 384.116 228.407 Q385.921 228.858 387.934 228.858 Q391.187 228.858 393.087 227.147 Q394.987 225.435 394.987 222.501 Q394.987 219.567 393.087 217.856 Q391.187 216.144 387.934 216.144 Q386.41 216.144 384.887 216.483 Q383.382 216.821 381.802 217.536 L381.802 203.43 Z\" fill=\"#000000\" fill-rule=\"evenodd\" fill-opacity=\"1\" /><path clip-path=\"url(#clip550)\" d=\"M386.841 51.1335 Q383.23 51.1335 381.402 54.6983 Q379.596 58.2399 379.596 65.3695 Q379.596 72.4759 381.402 76.0407 Q383.23 79.5824 386.841 79.5824 Q390.476 79.5824 392.281 76.0407 Q394.11 72.4759 394.11 65.3695 Q394.11 58.2399 392.281 54.6983 Q390.476 51.1335 386.841 51.1335 M386.841 47.4298 Q392.652 47.4298 395.707 52.0362 Q398.786 56.6195 398.786 65.3695 Q398.786 74.0963 395.707 78.7028 Q392.652 83.2861 386.841 83.2861 Q381.031 83.2861 377.953 78.7028 Q374.897 74.0963 374.897 65.3695 Q374.897 56.6195 377.953 52.0362 Q381.031 47.4298 386.841 47.4298 Z\" fill=\"#000000\" fill-rule=\"evenodd\" fill-opacity=\"1\" /><path clip-path=\"url(#clip550)\" d=\"M34.4035 425.35 Q35.0154 425.35 35.5307 425.479 L46.996 427.282 Q47.8656 427.379 48.1876 427.572 Q48.5097 427.733 48.5097 428.249 Q48.5097 429.054 47.6723 429.054 Q47.1893 429.054 46.4163 428.861 Q42.7771 428.313 41.1346 428.313 Q40.0396 428.313 39.2344 428.539 Q38.3971 428.732 37.8174 429.054 Q37.2376 429.344 36.8512 430.02 Q36.4647 430.696 36.2393 431.34 Q36.0138 431.985 35.9172 433.144 Q35.7884 434.303 35.7562 435.302 Q35.724 436.3 35.724 437.943 Q35.724 441.517 35.8528 442.097 Q36.0138 442.709 36.4969 443.031 Q36.9478 443.321 38.3004 443.643 L73.3082 452.403 L74.6931 452.661 Q75.466 452.661 75.7236 452.178 Q75.9813 451.695 76.1423 450.213 Q76.3034 448.087 76.3034 445.994 Q76.3034 445.93 76.3034 445.801 Q76.3034 445.092 76.3356 444.802 Q76.3356 444.513 76.4 444.223 Q76.4644 443.933 76.6254 443.868 Q76.7542 443.772 77.0119 443.772 Q77.6238 443.772 77.9459 444.03 Q78.2357 444.287 78.3001 444.545 Q78.3323 444.77 78.3323 445.221 Q78.3323 446.123 78.2679 448.055 Q78.2035 449.988 78.2035 450.954 L78.1391 456.429 L78.2035 462.033 Q78.2035 462.902 78.2679 464.738 Q78.3323 466.574 78.3323 467.443 Q78.3323 468.57 77.5272 468.57 Q76.6254 468.57 76.4644 468.152 Q76.3034 467.701 76.3034 465.801 Q76.3034 463.128 76.1745 461.678 Q76.0457 460.229 75.5948 459.456 Q75.1439 458.651 74.6931 458.426 Q74.21 458.2 73.115 457.942 L37.914 449.086 Q37.141 448.828 36.5291 448.828 Q36.2071 448.828 36.0782 448.925 Q35.9494 448.989 35.8528 449.408 Q35.724 449.827 35.724 450.696 L35.724 453.273 Q35.724 455.913 35.8528 457.556 Q35.9494 459.166 36.4325 460.712 Q36.9156 462.226 37.5919 463.128 Q38.2682 463.997 39.6531 464.963 Q41.0379 465.93 42.7126 466.638 Q44.3873 467.314 47.1248 468.281 Q48.0266 468.603 48.2843 468.796 Q48.5097 468.957 48.5097 469.408 Q48.5097 469.73 48.3165 469.987 Q48.091 470.213 47.8012 470.213 Q46.7384 469.891 46.6096 469.826 L34.9832 465.865 Q34.0493 465.543 33.8882 465.253 Q33.695 464.931 33.695 463.74 L33.695 427.154 Q33.695 426.574 33.695 426.381 Q33.695 426.187 33.7594 425.865 Q33.8238 425.543 33.9849 425.447 Q34.1459 425.35 34.4035 425.35 Z\" fill=\"#000000\" fill-rule=\"evenodd\" fill-opacity=\"1\" /><path clip-path=\"url(#clip550)\" d=\"M79.2048 399.949 Q80.3997 399.949 81.1662 400.738 Q81.9327 401.505 81.9327 402.497 Q81.9327 403.353 81.4367 403.804 Q80.9407 404.255 80.3095 404.255 Q79.4077 404.255 78.6638 403.556 Q77.9198 402.857 77.762 401.843 Q77.221 402.587 77.221 403.782 Q77.221 405.743 78.7314 407.479 Q79.4303 408.245 80.7153 409.08 Q81.9778 409.914 82.5188 410.072 L88.5381 411.537 Q89.2144 411.672 92.4608 412.506 Q95.6846 413.318 95.8198 413.386 Q96.4511 413.611 96.7892 414.107 Q97.1274 414.603 97.1274 415.099 Q97.1274 415.662 96.7892 416.046 Q96.4511 416.429 95.8649 416.429 Q95.7748 416.429 95.4366 416.361 Q95.0984 416.294 94.625 416.181 Q94.1516 416.068 93.8811 416.023 L83.2177 413.34 Q81.2789 412.844 80.6702 412.732 Q80.039 412.596 79.3401 412.596 Q78.1227 412.596 77.6718 412.98 Q77.221 413.363 77.221 414.039 Q77.221 415.212 78.6187 415.978 Q80.0164 416.745 82.7217 417.398 Q83.4657 417.601 83.6235 417.737 Q83.7813 417.849 83.7813 418.187 Q83.7587 418.751 83.3079 418.751 Q83.1951 418.751 82.4737 418.571 Q81.7298 418.39 80.6477 418.052 Q79.543 417.691 78.8441 417.308 Q78.3707 417.083 78.0551 416.88 Q77.7395 416.677 77.2435 416.271 Q76.7475 415.865 76.477 415.257 Q76.2065 414.648 76.2065 413.904 Q76.2065 412.281 77.1984 411.131 Q78.1904 409.959 79.7459 409.688 Q78.9343 409.125 78.2354 408.426 Q77.514 407.727 76.8603 406.442 Q76.2065 405.157 76.2065 403.782 Q76.2065 402.068 77.0857 401.009 Q77.9424 399.949 79.2048 399.949 Z\" fill=\"#000000\" fill-rule=\"evenodd\" fill-opacity=\"1\" /><path clip-path=\"url(#clip550)\" d=\"M70.2548 395 L68.812 395 Q68.812 389.454 65.8587 386.591 Q65.8587 385.802 66.0391 385.667 Q66.2194 385.531 67.0536 385.531 L92.9567 385.531 Q94.3319 385.531 94.7603 384.855 Q95.1886 384.179 95.1886 381.225 L95.1886 379.76 L96.6089 379.76 Q96.4736 381.383 96.4736 387.245 Q96.4736 393.106 96.6089 394.707 L95.1886 394.707 L95.1886 393.241 Q95.1886 390.333 94.7828 389.634 Q94.3545 388.935 92.9567 388.935 L69.0374 388.935 Q70.2548 391.348 70.2548 395 Z\" fill=\"#000000\" fill-rule=\"evenodd\" fill-opacity=\"1\" /><path clip-path=\"url(#clip550)\" d=\"M10.7002 391.36 L20.7999 393.862 Q21.4086 393.998 21.5664 394.11 Q21.7243 394.223 21.7243 394.539 Q21.7243 394.787 21.6115 394.944 Q21.4988 395.08 21.3861 395.08 L21.2734 395.102 Q21.2057 395.102 20.8676 395.057 Q20.5069 395.012 19.9207 394.967 Q19.3346 394.922 18.6808 394.922 Q14.9836 394.922 13.2702 396.725 Q11.5343 398.506 11.5343 401.572 Q11.5343 403.692 12.6615 405.585 Q13.7887 407.479 15.5697 408.561 Q17.3282 409.643 19.1768 409.643 Q20.8676 409.643 21.9497 408.787 Q23.0318 407.93 23.3925 406.825 L24.2267 403.737 Q25.0608 400.49 25.4215 399.566 Q25.7597 398.642 26.5262 397.875 Q28.6453 395.598 31.9367 395.598 Q34.7773 395.598 37.5277 397.199 Q40.2555 398.799 42.0365 401.55 Q43.7949 404.3 43.7949 407.344 Q43.7949 412.687 40.481 415.144 L43.0961 417.398 Q43.592 417.827 43.6822 417.962 Q43.7949 418.075 43.7949 418.232 Q43.7949 418.435 43.6597 418.593 Q43.5469 418.751 43.3441 418.751 Q43.1862 418.751 37.8884 417.421 Q32.5905 416.091 32.4778 415.978 Q32.2974 415.798 32.2974 415.505 Q32.2974 414.964 32.816 414.964 Q32.9512 415.009 33.1316 415.054 Q34.7547 415.324 35.634 415.324 Q37.2797 415.324 38.5422 414.761 Q39.7821 414.197 40.5035 413.363 Q41.2024 412.506 41.6532 411.357 Q42.0816 410.207 42.2394 409.237 Q42.3747 408.268 42.3747 407.254 Q42.3747 405.067 41.1122 403.128 Q39.8497 401.167 37.8884 400.062 Q35.927 398.935 33.8755 398.935 Q32.7934 398.935 31.9593 399.228 Q31.1026 399.521 30.6292 399.927 Q30.1558 400.31 29.795 400.964 Q29.4343 401.617 29.2991 402.068 Q29.1413 402.497 28.9835 403.173 L27.6759 408.11 Q27.0898 410.094 25.3989 411.514 Q23.7081 412.912 21.1156 412.912 Q18.3877 412.912 15.8628 411.311 Q13.3153 409.688 11.7823 407.051 Q10.2268 404.39 10.2268 401.527 Q10.2268 399.273 11.106 397.537 Q11.9627 395.801 13.5633 394.922 L10.9256 392.69 Q10.4071 392.239 10.3169 392.149 Q10.2268 392.036 10.2268 391.878 Q10.2268 391.608 10.3846 391.495 Q10.5424 391.36 10.7002 391.36 Z\" fill=\"#000000\" fill-rule=\"evenodd\" fill-opacity=\"1\" /><path clip-path=\"url(#clip550)\" d=\"M18.2074 355.736 Q20.7323 355.736 23.0544 357.607 Q25.3764 359.456 26.7967 362.477 Q28.1944 365.475 28.1944 368.699 L28.1944 376.544 L39.737 379.407 Q39.8046 379.43 40.0977 379.497 Q40.3682 379.565 40.526 379.565 Q41.0896 379.565 41.2249 378.866 Q41.3602 378.145 41.3602 376.544 Q41.3602 375.507 41.5405 375.349 Q41.6532 375.259 41.8561 375.259 Q42.1718 375.259 42.3972 375.349 Q42.6001 375.439 42.6677 375.62 Q42.7354 375.778 42.7579 375.89 Q42.7804 376.003 42.7804 376.183 Q42.7804 376.657 42.7354 377.671 Q42.6903 378.663 42.6903 379.182 L42.6452 382.135 L42.7804 387.997 Q42.7804 388.695 42.2168 388.695 Q41.7885 388.695 41.6082 388.515 Q41.4053 388.335 41.3827 388.132 Q41.3602 387.929 41.3602 387.41 Q41.3602 386.283 41.2925 385.607 Q41.2249 384.931 41.1347 384.502 Q41.022 384.051 40.7064 383.826 Q40.3908 383.578 40.1202 383.465 Q39.8272 383.352 39.1734 383.195 L14.3749 377.018 Q13.6309 376.837 13.5182 376.837 Q13.135 376.837 12.9997 377.063 Q12.8419 377.266 12.7742 377.852 Q12.6841 378.979 12.6841 379.836 Q12.6841 380.399 12.6615 380.625 Q12.639 380.827 12.5263 381.008 Q12.391 381.166 12.1205 381.166 Q11.6921 381.166 11.5118 380.985 Q11.3089 380.782 11.2863 380.557 Q11.2412 380.332 11.2412 379.79 L11.2412 364.821 Q11.2412 360.515 13.2928 358.126 Q15.3443 355.736 18.2074 355.736 M17.1027 360.019 Q12.6841 360.019 12.6841 366.309 L12.6841 370.728 Q12.6841 372.193 12.9546 372.554 Q13.2026 372.915 14.4425 373.23 L26.9996 376.364 L26.9996 369.849 Q26.9996 365.475 24.5423 362.747 Q23.4151 361.507 21.0705 360.763 Q18.7259 360.019 17.1027 360.019 Z\" fill=\"#000000\" fill-rule=\"evenodd\" fill-opacity=\"1\" /><path clip-path=\"url(#clip550)\" d=\"M94.8217 352.315 L28.8641 352.315 L28.8641 342.364 L30.3778 342.364 L30.3778 347.903 L93.308 347.903 L93.308 342.364 L94.8217 342.364 L94.8217 352.315 Z\" fill=\"#000000\" fill-rule=\"evenodd\" fill-opacity=\"1\" /><path clip-path=\"url(#clip550)\" d=\"M34.0171 283.838 Q34.4357 283.838 34.7256 283.935 Q34.9832 284.031 35.1121 284.257 Q35.2409 284.482 35.2731 284.611 Q35.3053 284.74 35.3375 285.03 Q35.4663 286.415 35.6918 287.381 Q35.9172 288.315 37.0766 290.634 Q38.236 292.92 40.3294 295.786 L49.2504 307.316 L50.7641 309.249 Q50.8607 309.249 51.054 309.184 Q51.215 309.12 51.4404 309.055 Q51.6337 308.959 51.6981 308.926 L73.3082 299.555 Q75.0473 298.814 75.6592 297.912 Q76.2711 297.01 76.3034 294.981 Q76.3034 294.659 76.3356 294.53 Q76.3356 294.369 76.4 294.144 Q76.4322 293.886 76.5932 293.79 Q76.7542 293.661 77.0119 293.661 Q78.3323 293.661 78.3323 294.852 Q78.3323 295.593 78.2357 298.105 Q78.1391 300.617 78.1391 301.326 Q78.1391 302.646 78.2357 305.352 Q78.3323 308.057 78.3323 309.377 Q78.3323 310.311 77.5916 310.311 Q76.9797 310.311 76.6898 310.086 Q76.3678 309.828 76.3356 309.603 Q76.3034 309.377 76.3034 308.862 Q76.3034 308.476 76.2711 308.057 Q76.2067 307.606 76.0457 306.962 Q75.8525 306.286 75.4016 305.867 Q74.9185 305.416 74.2422 305.416 Q73.6947 305.416 71.9234 306.221 L54.1779 313.854 L61.8429 323.677 L72.2132 326.318 Q72.5997 326.382 73.276 326.543 Q73.9523 326.704 74.4354 326.833 Q74.9185 326.93 75.1117 326.93 Q75.5304 326.93 75.7881 326.672 Q76.0457 326.382 76.1745 325.674 Q76.2711 324.965 76.3034 324.417 Q76.3034 323.838 76.3034 322.646 Q76.3034 321.165 76.561 320.907 Q76.722 320.778 77.0119 320.778 Q77.4628 320.778 77.7848 320.907 Q78.0747 321.036 78.1713 321.294 Q78.2679 321.519 78.3001 321.68 Q78.3323 321.841 78.3323 322.099 Q78.3323 322.775 78.2679 324.224 Q78.2035 325.641 78.2035 326.382 L78.1391 330.601 L78.3323 338.975 Q78.3323 339.973 77.5272 339.973 Q76.9153 339.973 76.6576 339.715 Q76.3678 339.458 76.3356 339.168 Q76.3034 338.878 76.3034 338.137 Q76.3034 336.527 76.2067 335.561 Q76.1101 334.595 75.9813 333.983 Q75.8203 333.339 75.3694 333.016 Q74.9185 332.662 74.532 332.501 Q74.1134 332.34 73.1794 332.115 L37.7529 323.29 Q36.6901 323.033 36.5291 323.033 Q35.9816 323.033 35.7884 323.355 Q35.5629 323.645 35.4663 324.482 Q35.3375 326.092 35.3375 327.316 Q35.3375 328.121 35.3053 328.443 Q35.2731 328.733 35.1121 328.991 Q34.9188 329.216 34.5324 329.216 Q33.2763 329.216 33.2763 327.896 L33.4696 319.393 L33.2763 310.955 Q33.2763 310.021 34.0171 310.021 Q34.951 310.021 35.1443 310.472 Q35.3375 310.891 35.3375 312.276 Q35.3375 314.691 35.6596 315.786 Q35.9494 316.849 36.4647 317.171 Q36.9478 317.461 38.3649 317.815 L59.5241 323.097 L39.7497 297.365 Q37.7529 294.981 36.7224 294.981 Q36.046 294.981 35.7562 295.464 Q35.4341 295.915 35.3375 297.042 Q35.2087 297.848 34.5968 297.848 Q33.9849 297.848 33.695 297.622 Q33.3729 297.365 33.3407 297.171 Q33.2763 296.946 33.2763 296.592 Q33.2763 295.4 33.3729 292.92 Q33.4696 290.44 33.4696 289.249 Q33.4696 288.444 33.3729 286.865 Q33.2763 285.287 33.2763 284.579 Q33.2763 284.225 33.534 284.031 Q33.7594 283.838 34.0171 283.838 Z\" fill=\"#000000\" fill-rule=\"evenodd\" fill-opacity=\"1\" /><path clip-path=\"url(#clip550)\" d=\"M93.308 281.629 L93.308 276.09 L30.3778 276.09 L30.3778 281.629 L28.8641 281.629 L28.8641 271.678 L94.8217 271.678 L94.8217 281.629 L93.308 281.629 Z\" fill=\"#000000\" fill-rule=\"evenodd\" fill-opacity=\"1\" /><polyline clip-path=\"url(#clip553)\" style=\"stroke:#000000; stroke-linecap:round; stroke-linejoin:round; stroke-width:4; stroke-opacity:1; fill:none\" stroke-dasharray=\"2, 4\" points=\"489.068,65.3348 535.463,65.3348 581.858,65.3348 628.253,65.3348 674.648,65.3348 721.043,65.3348 767.438,65.3348 813.833,65.3348 860.228,65.3348 906.623,65.3348 953.018,65.3348 999.413,65.3348 1045.81,65.3348 1092.2,65.3348 1138.6,65.3348 1184.99,65.3348 1231.39,65.3348 1277.78,65.3348 1324.18,65.3348 1370.57,65.3348 1416.97,65.3348 1463.36,65.3348 1509.76,65.3348 1556.15,65.3348 1602.55,65.3348 1648.94,65.3348 1695.34,65.3348 1741.73,65.3348 1788.13,65.3348 1834.52,65.3348 1880.92,65.3348 1927.31,65.3348 1973.71,65.3348 2020.1,65.3348 2066.5,65.3348 2112.89,65.3348 2159.29,65.3348 2205.68,65.3348 2252.08,65.3348 2298.47,65.3348 \"/>\n",
       "<polyline clip-path=\"url(#clip553)\" style=\"stroke:#ff0000; stroke-linecap:round; stroke-linejoin:round; stroke-width:12; stroke-opacity:0.3; fill:none\" points=\"489.068,65.3348 535.463,65.3348 581.858,65.3348 628.253,65.3348 674.648,65.3348 721.043,65.3348 767.438,65.3348 813.833,65.3348 860.228,65.3348 906.623,65.3348 953.018,65.3348 999.413,65.3348 1045.81,65.3348 1092.2,65.3348 1138.6,65.3348 1184.99,65.3348 1231.39,65.3348 1277.78,65.3348 1324.18,65.3348 1370.57,65.3348 1416.97,65.3348 1463.36,65.3348 1509.76,65.3348 1556.15,65.3348 1602.55,65.3348 1648.94,65.3348 1695.34,65.3348 1741.73,65.3348 1788.13,65.3348 1834.52,65.3348 1880.92,65.3348 1927.31,65.3348 1973.71,65.3348 2020.1,65.3348 2066.5,65.3348 2112.89,65.3348 2159.29,65.3348 2205.68,65.3348 2252.08,65.3348 2298.47,65.3348 \"/>\n",
       "<polyline clip-path=\"url(#clip553)\" style=\"stroke:#0000ff; stroke-linecap:round; stroke-linejoin:round; stroke-width:12; stroke-opacity:0.3; fill:none\" points=\"489.068,65.3348 535.463,65.3348 581.858,65.3348 628.253,65.3348 674.648,65.3348 721.043,65.3348 767.438,65.3348 813.833,65.3348 860.228,65.3348 906.623,65.3348 953.018,65.3348 999.413,65.3348 1045.81,65.3348 1092.2,65.3348 1138.6,65.3348 1184.99,65.3348 1231.39,65.3348 1277.78,65.3348 1324.18,65.3348 1370.57,65.3348 1416.97,65.3348 1463.36,65.3348 1509.76,65.3348 1556.15,65.3348 1602.55,65.3348 1648.94,65.3348 1695.34,65.3348 1741.73,65.3348 1788.13,65.3348 1834.52,65.3348 1880.92,65.3348 1927.31,65.3348 1973.71,65.3348 2020.1,65.3348 2066.5,65.3348 2112.89,65.3348 2159.29,65.3348 2205.68,668.357 2252.08,65.3348 2298.47,65.3348 \"/>\n",
       "<path clip-path=\"url(#clip550)\" d=\"M434.786 1486.45 L2352.76 1486.45 L2352.76 847.244 L434.786 847.244  Z\" fill=\"#ffffff\" fill-rule=\"evenodd\" fill-opacity=\"1\"/>\n",
       "<defs>\n",
       "  <clipPath id=\"clip554\">\n",
       "    <rect x=\"434\" y=\"847\" width=\"1919\" height=\"640\"/>\n",
       "  </clipPath>\n",
       "</defs>\n",
       "<polyline clip-path=\"url(#clip554)\" style=\"stroke:#000000; stroke-linecap:round; stroke-linejoin:round; stroke-width:8; stroke-opacity:0.1; fill:none\" points=\"442.673,1486.45 442.673,847.244 \"/>\n",
       "<polyline clip-path=\"url(#clip554)\" style=\"stroke:#000000; stroke-linecap:round; stroke-linejoin:round; stroke-width:8; stroke-opacity:0.1; fill:none\" points=\"906.623,1486.45 906.623,847.244 \"/>\n",
       "<polyline clip-path=\"url(#clip554)\" style=\"stroke:#000000; stroke-linecap:round; stroke-linejoin:round; stroke-width:8; stroke-opacity:0.1; fill:none\" points=\"1370.57,1486.45 1370.57,847.244 \"/>\n",
       "<polyline clip-path=\"url(#clip554)\" style=\"stroke:#000000; stroke-linecap:round; stroke-linejoin:round; stroke-width:8; stroke-opacity:0.1; fill:none\" points=\"1834.52,1486.45 1834.52,847.244 \"/>\n",
       "<polyline clip-path=\"url(#clip554)\" style=\"stroke:#000000; stroke-linecap:round; stroke-linejoin:round; stroke-width:8; stroke-opacity:0.1; fill:none\" points=\"2298.47,1486.45 2298.47,847.244 \"/>\n",
       "<polyline clip-path=\"url(#clip550)\" style=\"stroke:#000000; stroke-linecap:round; stroke-linejoin:round; stroke-width:4; stroke-opacity:1; fill:none\" points=\"434.786,1486.45 2352.76,1486.45 \"/>\n",
       "<polyline clip-path=\"url(#clip550)\" style=\"stroke:#000000; stroke-linecap:round; stroke-linejoin:round; stroke-width:4; stroke-opacity:1; fill:none\" points=\"442.673,1486.45 442.673,1467.55 \"/>\n",
       "<polyline clip-path=\"url(#clip550)\" style=\"stroke:#000000; stroke-linecap:round; stroke-linejoin:round; stroke-width:4; stroke-opacity:1; fill:none\" points=\"906.623,1486.45 906.623,1467.55 \"/>\n",
       "<polyline clip-path=\"url(#clip550)\" style=\"stroke:#000000; stroke-linecap:round; stroke-linejoin:round; stroke-width:4; stroke-opacity:1; fill:none\" points=\"1370.57,1486.45 1370.57,1467.55 \"/>\n",
       "<polyline clip-path=\"url(#clip550)\" style=\"stroke:#000000; stroke-linecap:round; stroke-linejoin:round; stroke-width:4; stroke-opacity:1; fill:none\" points=\"1834.52,1486.45 1834.52,1467.55 \"/>\n",
       "<polyline clip-path=\"url(#clip550)\" style=\"stroke:#000000; stroke-linecap:round; stroke-linejoin:round; stroke-width:4; stroke-opacity:1; fill:none\" points=\"2298.47,1486.45 2298.47,1467.55 \"/>\n",
       "<path clip-path=\"url(#clip550)\" d=\"M442.673 1517.37 Q439.062 1517.37 437.233 1520.93 Q435.428 1524.47 435.428 1531.6 Q435.428 1538.71 437.233 1542.27 Q439.062 1545.82 442.673 1545.82 Q446.307 1545.82 448.113 1542.27 Q449.941 1538.71 449.941 1531.6 Q449.941 1524.47 448.113 1520.93 Q446.307 1517.37 442.673 1517.37 M442.673 1513.66 Q448.483 1513.66 451.539 1518.27 Q454.617 1522.85 454.617 1531.6 Q454.617 1540.33 451.539 1544.94 Q448.483 1549.52 442.673 1549.52 Q436.863 1549.52 433.784 1544.94 Q430.729 1540.33 430.729 1531.6 Q430.729 1522.85 433.784 1518.27 Q436.863 1513.66 442.673 1513.66 Z\" fill=\"#000000\" fill-rule=\"evenodd\" fill-opacity=\"1\" /><path clip-path=\"url(#clip550)\" d=\"M881.311 1544.91 L888.95 1544.91 L888.95 1518.55 L880.639 1520.21 L880.639 1515.95 L888.903 1514.29 L893.579 1514.29 L893.579 1544.91 L901.218 1544.91 L901.218 1548.85 L881.311 1548.85 L881.311 1544.91 Z\" fill=\"#000000\" fill-rule=\"evenodd\" fill-opacity=\"1\" /><path clip-path=\"url(#clip550)\" d=\"M920.662 1517.37 Q917.051 1517.37 915.223 1520.93 Q913.417 1524.47 913.417 1531.6 Q913.417 1538.71 915.223 1542.27 Q917.051 1545.82 920.662 1545.82 Q924.297 1545.82 926.102 1542.27 Q927.931 1538.71 927.931 1531.6 Q927.931 1524.47 926.102 1520.93 Q924.297 1517.37 920.662 1517.37 M920.662 1513.66 Q926.473 1513.66 929.528 1518.27 Q932.607 1522.85 932.607 1531.6 Q932.607 1540.33 929.528 1544.94 Q926.473 1549.52 920.662 1549.52 Q914.852 1549.52 911.774 1544.94 Q908.718 1540.33 908.718 1531.6 Q908.718 1522.85 911.774 1518.27 Q914.852 1513.66 920.662 1513.66 Z\" fill=\"#000000\" fill-rule=\"evenodd\" fill-opacity=\"1\" /><path clip-path=\"url(#clip550)\" d=\"M1349.35 1544.91 L1365.67 1544.91 L1365.67 1548.85 L1343.72 1548.85 L1343.72 1544.91 Q1346.38 1542.16 1350.97 1537.53 Q1355.57 1532.88 1356.75 1531.53 Q1359 1529.01 1359.88 1527.27 Q1360.78 1525.51 1360.78 1523.82 Q1360.78 1521.07 1358.84 1519.33 Q1356.92 1517.6 1353.81 1517.6 Q1351.62 1517.6 1349.16 1518.36 Q1346.73 1519.13 1343.95 1520.68 L1343.95 1515.95 Q1346.78 1514.82 1349.23 1514.24 Q1351.68 1513.66 1353.72 1513.66 Q1359.09 1513.66 1362.29 1516.35 Q1365.48 1519.03 1365.48 1523.52 Q1365.48 1525.65 1364.67 1527.57 Q1363.88 1529.47 1361.78 1532.07 Q1361.2 1532.74 1358.1 1535.95 Q1354.99 1539.15 1349.35 1544.91 Z\" fill=\"#000000\" fill-rule=\"evenodd\" fill-opacity=\"1\" /><path clip-path=\"url(#clip550)\" d=\"M1385.48 1517.37 Q1381.87 1517.37 1380.04 1520.93 Q1378.24 1524.47 1378.24 1531.6 Q1378.24 1538.71 1380.04 1542.27 Q1381.87 1545.82 1385.48 1545.82 Q1389.11 1545.82 1390.92 1542.27 Q1392.75 1538.71 1392.75 1531.6 Q1392.75 1524.47 1390.92 1520.93 Q1389.11 1517.37 1385.48 1517.37 M1385.48 1513.66 Q1391.29 1513.66 1394.35 1518.27 Q1397.43 1522.85 1397.43 1531.6 Q1397.43 1540.33 1394.35 1544.94 Q1391.29 1549.52 1385.48 1549.52 Q1379.67 1549.52 1376.59 1544.94 Q1373.54 1540.33 1373.54 1531.6 Q1373.54 1522.85 1376.59 1518.27 Q1379.67 1513.66 1385.48 1513.66 Z\" fill=\"#000000\" fill-rule=\"evenodd\" fill-opacity=\"1\" /><path clip-path=\"url(#clip550)\" d=\"M1823.37 1530.21 Q1826.72 1530.93 1828.6 1533.2 Q1830.5 1535.47 1830.5 1538.8 Q1830.5 1543.92 1826.98 1546.72 Q1823.46 1549.52 1816.98 1549.52 Q1814.8 1549.52 1812.49 1549.08 Q1810.19 1548.66 1807.74 1547.81 L1807.74 1543.29 Q1809.69 1544.43 1812 1545.01 Q1814.32 1545.58 1816.84 1545.58 Q1821.24 1545.58 1823.53 1543.85 Q1825.84 1542.11 1825.84 1538.8 Q1825.84 1535.75 1823.69 1534.03 Q1821.56 1532.3 1817.74 1532.3 L1813.71 1532.3 L1813.71 1528.45 L1817.93 1528.45 Q1821.38 1528.45 1823.2 1527.09 Q1825.03 1525.7 1825.03 1523.11 Q1825.03 1520.45 1823.13 1519.03 Q1821.26 1517.6 1817.74 1517.6 Q1815.82 1517.6 1813.62 1518.01 Q1811.42 1518.43 1808.78 1519.31 L1808.78 1515.14 Q1811.44 1514.4 1813.76 1514.03 Q1816.1 1513.66 1818.16 1513.66 Q1823.48 1513.66 1826.58 1516.09 Q1829.69 1518.5 1829.69 1522.62 Q1829.69 1525.49 1828.04 1527.48 Q1826.4 1529.45 1823.37 1530.21 Z\" fill=\"#000000\" fill-rule=\"evenodd\" fill-opacity=\"1\" /><path clip-path=\"url(#clip550)\" d=\"M1849.36 1517.37 Q1845.75 1517.37 1843.92 1520.93 Q1842.12 1524.47 1842.12 1531.6 Q1842.12 1538.71 1843.92 1542.27 Q1845.75 1545.82 1849.36 1545.82 Q1853 1545.82 1854.8 1542.27 Q1856.63 1538.71 1856.63 1531.6 Q1856.63 1524.47 1854.8 1520.93 Q1853 1517.37 1849.36 1517.37 M1849.36 1513.66 Q1855.17 1513.66 1858.23 1518.27 Q1861.31 1522.85 1861.31 1531.6 Q1861.31 1540.33 1858.23 1544.94 Q1855.17 1549.52 1849.36 1549.52 Q1843.55 1549.52 1840.47 1544.94 Q1837.42 1540.33 1837.42 1531.6 Q1837.42 1522.85 1840.47 1518.27 Q1843.55 1513.66 1849.36 1513.66 Z\" fill=\"#000000\" fill-rule=\"evenodd\" fill-opacity=\"1\" /><path clip-path=\"url(#clip550)\" d=\"M2286.65 1518.36 L2274.84 1536.81 L2286.65 1536.81 L2286.65 1518.36 M2285.42 1514.29 L2291.3 1514.29 L2291.3 1536.81 L2296.23 1536.81 L2296.23 1540.7 L2291.3 1540.7 L2291.3 1548.85 L2286.65 1548.85 L2286.65 1540.7 L2271.04 1540.7 L2271.04 1536.19 L2285.42 1514.29 Z\" fill=\"#000000\" fill-rule=\"evenodd\" fill-opacity=\"1\" /><path clip-path=\"url(#clip550)\" d=\"M2313.96 1517.37 Q2310.35 1517.37 2308.52 1520.93 Q2306.71 1524.47 2306.71 1531.6 Q2306.71 1538.71 2308.52 1542.27 Q2310.35 1545.82 2313.96 1545.82 Q2317.59 1545.82 2319.4 1542.27 Q2321.23 1538.71 2321.23 1531.6 Q2321.23 1524.47 2319.4 1520.93 Q2317.59 1517.37 2313.96 1517.37 M2313.96 1513.66 Q2319.77 1513.66 2322.83 1518.27 Q2325.9 1522.85 2325.9 1531.6 Q2325.9 1540.33 2322.83 1544.94 Q2319.77 1549.52 2313.96 1549.52 Q2308.15 1549.52 2305.07 1544.94 Q2302.02 1540.33 2302.02 1531.6 Q2302.02 1522.85 2305.07 1518.27 Q2308.15 1513.66 2313.96 1513.66 Z\" fill=\"#000000\" fill-rule=\"evenodd\" fill-opacity=\"1\" /><polyline clip-path=\"url(#clip554)\" style=\"stroke:#000000; stroke-linecap:round; stroke-linejoin:round; stroke-width:8; stroke-opacity:0.1; fill:none\" points=\"434.786,1468.36 2352.76,1468.36 \"/>\n",
       "<polyline clip-path=\"url(#clip554)\" style=\"stroke:#000000; stroke-linecap:round; stroke-linejoin:round; stroke-width:8; stroke-opacity:0.1; fill:none\" points=\"434.786,1370.92 2352.76,1370.92 \"/>\n",
       "<polyline clip-path=\"url(#clip554)\" style=\"stroke:#000000; stroke-linecap:round; stroke-linejoin:round; stroke-width:8; stroke-opacity:0.1; fill:none\" points=\"434.786,1273.48 2352.76,1273.48 \"/>\n",
       "<polyline clip-path=\"url(#clip554)\" style=\"stroke:#000000; stroke-linecap:round; stroke-linejoin:round; stroke-width:8; stroke-opacity:0.1; fill:none\" points=\"434.786,1176.04 2352.76,1176.04 \"/>\n",
       "<polyline clip-path=\"url(#clip554)\" style=\"stroke:#000000; stroke-linecap:round; stroke-linejoin:round; stroke-width:8; stroke-opacity:0.1; fill:none\" points=\"434.786,1078.6 2352.76,1078.6 \"/>\n",
       "<polyline clip-path=\"url(#clip554)\" style=\"stroke:#000000; stroke-linecap:round; stroke-linejoin:round; stroke-width:8; stroke-opacity:0.1; fill:none\" points=\"434.786,981.164 2352.76,981.164 \"/>\n",
       "<polyline clip-path=\"url(#clip554)\" style=\"stroke:#000000; stroke-linecap:round; stroke-linejoin:round; stroke-width:8; stroke-opacity:0.1; fill:none\" points=\"434.786,883.725 2352.76,883.725 \"/>\n",
       "<polyline clip-path=\"url(#clip550)\" style=\"stroke:#000000; stroke-linecap:round; stroke-linejoin:round; stroke-width:4; stroke-opacity:1; fill:none\" points=\"434.786,1486.45 434.786,847.244 \"/>\n",
       "<polyline clip-path=\"url(#clip550)\" style=\"stroke:#000000; stroke-linecap:round; stroke-linejoin:round; stroke-width:4; stroke-opacity:1; fill:none\" points=\"434.786,1468.36 453.683,1468.36 \"/>\n",
       "<polyline clip-path=\"url(#clip550)\" style=\"stroke:#000000; stroke-linecap:round; stroke-linejoin:round; stroke-width:4; stroke-opacity:1; fill:none\" points=\"434.786,1370.92 453.683,1370.92 \"/>\n",
       "<polyline clip-path=\"url(#clip550)\" style=\"stroke:#000000; stroke-linecap:round; stroke-linejoin:round; stroke-width:4; stroke-opacity:1; fill:none\" points=\"434.786,1273.48 453.683,1273.48 \"/>\n",
       "<polyline clip-path=\"url(#clip550)\" style=\"stroke:#000000; stroke-linecap:round; stroke-linejoin:round; stroke-width:4; stroke-opacity:1; fill:none\" points=\"434.786,1176.04 453.683,1176.04 \"/>\n",
       "<polyline clip-path=\"url(#clip550)\" style=\"stroke:#000000; stroke-linecap:round; stroke-linejoin:round; stroke-width:4; stroke-opacity:1; fill:none\" points=\"434.786,1078.6 453.683,1078.6 \"/>\n",
       "<polyline clip-path=\"url(#clip550)\" style=\"stroke:#000000; stroke-linecap:round; stroke-linejoin:round; stroke-width:4; stroke-opacity:1; fill:none\" points=\"434.786,981.164 453.683,981.164 \"/>\n",
       "<polyline clip-path=\"url(#clip550)\" style=\"stroke:#000000; stroke-linecap:round; stroke-linejoin:round; stroke-width:4; stroke-opacity:1; fill:none\" points=\"434.786,883.725 453.683,883.725 \"/>\n",
       "<path clip-path=\"url(#clip550)\" d=\"M386.841 1454.16 Q383.23 1454.16 381.402 1457.72 Q379.596 1461.26 379.596 1468.39 Q379.596 1475.5 381.402 1479.06 Q383.23 1482.6 386.841 1482.6 Q390.476 1482.6 392.281 1479.06 Q394.11 1475.5 394.11 1468.39 Q394.11 1461.26 392.281 1457.72 Q390.476 1454.16 386.841 1454.16 M386.841 1450.45 Q392.652 1450.45 395.707 1455.06 Q398.786 1459.64 398.786 1468.39 Q398.786 1477.12 395.707 1481.73 Q392.652 1486.31 386.841 1486.31 Q381.031 1486.31 377.953 1481.73 Q374.897 1477.12 374.897 1468.39 Q374.897 1459.64 377.953 1455.06 Q381.031 1450.45 386.841 1450.45 Z\" fill=\"#000000\" fill-rule=\"evenodd\" fill-opacity=\"1\" /><path clip-path=\"url(#clip550)\" d=\"M165.25 1390.71 L172.889 1390.71 L172.889 1364.35 L164.578 1366.01 L164.578 1361.75 L172.842 1360.09 L177.518 1360.09 L177.518 1390.71 L185.157 1390.71 L185.157 1394.65 L165.25 1394.65 L165.25 1390.71 Z\" fill=\"#000000\" fill-rule=\"evenodd\" fill-opacity=\"1\" /><path clip-path=\"url(#clip550)\" d=\"M194.601 1388.77 L199.486 1388.77 L199.486 1394.65 L194.601 1394.65 L194.601 1388.77 Z\" fill=\"#000000\" fill-rule=\"evenodd\" fill-opacity=\"1\" /><path clip-path=\"url(#clip550)\" d=\"M219.671 1363.16 Q216.06 1363.16 214.231 1366.73 Q212.425 1370.27 212.425 1377.4 Q212.425 1384.51 214.231 1388.07 Q216.06 1391.61 219.671 1391.61 Q223.305 1391.61 225.11 1388.07 Q226.939 1384.51 226.939 1377.4 Q226.939 1370.27 225.11 1366.73 Q223.305 1363.16 219.671 1363.16 M219.671 1359.46 Q225.481 1359.46 228.536 1364.07 Q231.615 1368.65 231.615 1377.4 Q231.615 1386.13 228.536 1390.73 Q225.481 1395.32 219.671 1395.32 Q213.861 1395.32 210.782 1390.73 Q207.726 1386.13 207.726 1377.4 Q207.726 1368.65 210.782 1364.07 Q213.861 1359.46 219.671 1359.46 Z\" fill=\"#000000\" fill-rule=\"evenodd\" fill-opacity=\"1\" /><path clip-path=\"url(#clip550)\" d=\"M268.004 1369.18 L257.425 1379.81 L268.004 1390.39 L265.249 1393.19 L254.624 1382.56 L243.999 1393.19 L241.268 1390.39 L251.823 1379.81 L241.268 1369.18 L243.999 1366.38 L254.624 1377.01 L265.249 1366.38 L268.004 1369.18 Z\" fill=\"#000000\" fill-rule=\"evenodd\" fill-opacity=\"1\" /><path clip-path=\"url(#clip550)\" d=\"M280.365 1390.71 L288.004 1390.71 L288.004 1364.35 L279.694 1366.01 L279.694 1361.75 L287.957 1360.09 L292.633 1360.09 L292.633 1390.71 L300.272 1390.71 L300.272 1394.65 L280.365 1394.65 L280.365 1390.71 Z\" fill=\"#000000\" fill-rule=\"evenodd\" fill-opacity=\"1\" /><path clip-path=\"url(#clip550)\" d=\"M319.716 1363.16 Q316.105 1363.16 314.277 1366.73 Q312.471 1370.27 312.471 1377.4 Q312.471 1384.51 314.277 1388.07 Q316.105 1391.61 319.716 1391.61 Q323.351 1391.61 325.156 1388.07 Q326.985 1384.51 326.985 1377.4 Q326.985 1370.27 325.156 1366.73 Q323.351 1363.16 319.716 1363.16 M319.716 1359.46 Q325.527 1359.46 328.582 1364.07 Q331.661 1368.65 331.661 1377.4 Q331.661 1386.13 328.582 1390.73 Q325.527 1395.32 319.716 1395.32 Q313.906 1395.32 310.828 1390.73 Q307.772 1386.13 307.772 1377.4 Q307.772 1368.65 310.828 1364.07 Q313.906 1359.46 319.716 1359.46 Z\" fill=\"#000000\" fill-rule=\"evenodd\" fill-opacity=\"1\" /><path clip-path=\"url(#clip550)\" d=\"M332.206 1364.04 L338.413 1364.04 L338.413 1342.62 L331.661 1343.97 L331.661 1340.51 L338.375 1339.16 L342.174 1339.16 L342.174 1364.04 L348.381 1364.04 L348.381 1367.24 L332.206 1367.24 L332.206 1364.04 Z\" fill=\"#000000\" fill-rule=\"evenodd\" fill-opacity=\"1\" /><path clip-path=\"url(#clip550)\" d=\"M364.179 1353.9 Q361.471 1353.9 359.91 1355.35 Q358.368 1356.8 358.368 1359.34 Q358.368 1361.88 359.91 1363.32 Q361.471 1364.77 364.179 1364.77 Q366.888 1364.77 368.449 1363.32 Q370.01 1361.86 370.01 1359.34 Q370.01 1356.8 368.449 1355.35 Q366.907 1353.9 364.179 1353.9 M360.38 1352.28 Q357.935 1351.68 356.562 1350.01 Q355.208 1348.33 355.208 1345.93 Q355.208 1342.56 357.597 1340.6 Q360.004 1338.65 364.179 1338.65 Q368.374 1338.65 370.762 1340.6 Q373.151 1342.56 373.151 1345.93 Q373.151 1348.33 371.778 1350.01 Q370.424 1351.68 367.997 1352.28 Q370.743 1352.92 372.267 1354.79 Q373.809 1356.65 373.809 1359.34 Q373.809 1363.42 371.308 1365.6 Q368.825 1367.78 364.179 1367.78 Q359.534 1367.78 357.033 1365.6 Q354.55 1363.42 354.55 1359.34 Q354.55 1356.65 356.092 1354.79 Q357.634 1352.92 360.38 1352.28 M358.989 1346.28 Q358.989 1348.47 360.343 1349.69 Q361.716 1350.91 364.179 1350.91 Q366.624 1350.91 367.997 1349.69 Q369.389 1348.47 369.389 1346.28 Q369.389 1344.1 367.997 1342.88 Q366.624 1341.66 364.179 1341.66 Q361.716 1341.66 360.343 1342.88 Q358.989 1344.1 358.989 1346.28 Z\" fill=\"#000000\" fill-rule=\"evenodd\" fill-opacity=\"1\" /><path clip-path=\"url(#clip550)\" d=\"M390.999 1342.47 L381.407 1357.46 L390.999 1357.46 L390.999 1342.47 M390.003 1339.16 L394.78 1339.16 L394.78 1357.46 L398.786 1357.46 L398.786 1360.62 L394.78 1360.62 L394.78 1367.24 L390.999 1367.24 L390.999 1360.62 L378.323 1360.62 L378.323 1356.95 L390.003 1339.16 Z\" fill=\"#000000\" fill-rule=\"evenodd\" fill-opacity=\"1\" /><path clip-path=\"url(#clip550)\" d=\"M168.467 1293.27 L184.787 1293.27 L184.787 1297.21 L162.842 1297.21 L162.842 1293.27 Q165.504 1290.52 170.088 1285.89 Q174.694 1281.24 175.875 1279.89 Q178.12 1277.37 179 1275.63 Q179.902 1273.87 179.902 1272.18 Q179.902 1269.43 177.958 1267.69 Q176.037 1265.96 172.935 1265.96 Q170.736 1265.96 168.282 1266.72 Q165.852 1267.49 163.074 1269.04 L163.074 1264.31 Q165.898 1263.18 168.352 1262.6 Q170.805 1262.02 172.842 1262.02 Q178.213 1262.02 181.407 1264.71 Q184.601 1267.39 184.601 1271.88 Q184.601 1274.01 183.791 1275.93 Q183.004 1277.83 180.898 1280.43 Q180.319 1281.1 177.217 1284.31 Q174.115 1287.51 168.467 1293.27 Z\" fill=\"#000000\" fill-rule=\"evenodd\" fill-opacity=\"1\" /><path clip-path=\"url(#clip550)\" d=\"M194.601 1291.33 L199.486 1291.33 L199.486 1297.21 L194.601 1297.21 L194.601 1291.33 Z\" fill=\"#000000\" fill-rule=\"evenodd\" fill-opacity=\"1\" /><path clip-path=\"url(#clip550)\" d=\"M219.671 1265.73 Q216.06 1265.73 214.231 1269.29 Q212.425 1272.83 212.425 1279.96 Q212.425 1287.07 214.231 1290.63 Q216.06 1294.18 219.671 1294.18 Q223.305 1294.18 225.11 1290.63 Q226.939 1287.07 226.939 1279.96 Q226.939 1272.83 225.11 1269.29 Q223.305 1265.73 219.671 1265.73 M219.671 1262.02 Q225.481 1262.02 228.536 1266.63 Q231.615 1271.21 231.615 1279.96 Q231.615 1288.69 228.536 1293.3 Q225.481 1297.88 219.671 1297.88 Q213.861 1297.88 210.782 1293.3 Q207.726 1288.69 207.726 1279.96 Q207.726 1271.21 210.782 1266.63 Q213.861 1262.02 219.671 1262.02 Z\" fill=\"#000000\" fill-rule=\"evenodd\" fill-opacity=\"1\" /><path clip-path=\"url(#clip550)\" d=\"M268.004 1271.74 L257.425 1282.37 L268.004 1292.95 L265.249 1295.75 L254.624 1285.12 L243.999 1295.75 L241.268 1292.95 L251.823 1282.37 L241.268 1271.74 L243.999 1268.94 L254.624 1279.57 L265.249 1268.94 L268.004 1271.74 Z\" fill=\"#000000\" fill-rule=\"evenodd\" fill-opacity=\"1\" /><path clip-path=\"url(#clip550)\" d=\"M280.365 1293.27 L288.004 1293.27 L288.004 1266.91 L279.694 1268.57 L279.694 1264.31 L287.957 1262.65 L292.633 1262.65 L292.633 1293.27 L300.272 1293.27 L300.272 1297.21 L280.365 1297.21 L280.365 1293.27 Z\" fill=\"#000000\" fill-rule=\"evenodd\" fill-opacity=\"1\" /><path clip-path=\"url(#clip550)\" d=\"M319.716 1265.73 Q316.105 1265.73 314.277 1269.29 Q312.471 1272.83 312.471 1279.96 Q312.471 1287.07 314.277 1290.63 Q316.105 1294.18 319.716 1294.18 Q323.351 1294.18 325.156 1290.63 Q326.985 1287.07 326.985 1279.96 Q326.985 1272.83 325.156 1269.29 Q323.351 1265.73 319.716 1265.73 M319.716 1262.02 Q325.527 1262.02 328.582 1266.63 Q331.661 1271.21 331.661 1279.96 Q331.661 1288.69 328.582 1293.3 Q325.527 1297.88 319.716 1297.88 Q313.906 1297.88 310.828 1293.3 Q307.772 1288.69 307.772 1279.96 Q307.772 1271.21 310.828 1266.63 Q313.906 1262.02 319.716 1262.02 Z\" fill=\"#000000\" fill-rule=\"evenodd\" fill-opacity=\"1\" /><path clip-path=\"url(#clip550)\" d=\"M332.206 1266.6 L338.413 1266.6 L338.413 1245.18 L331.661 1246.53 L331.661 1243.07 L338.375 1241.72 L342.174 1241.72 L342.174 1266.6 L348.381 1266.6 L348.381 1269.8 L332.206 1269.8 L332.206 1266.6 Z\" fill=\"#000000\" fill-rule=\"evenodd\" fill-opacity=\"1\" /><path clip-path=\"url(#clip550)\" d=\"M364.179 1256.46 Q361.471 1256.46 359.91 1257.91 Q358.368 1259.36 358.368 1261.9 Q358.368 1264.44 359.91 1265.89 Q361.471 1267.33 364.179 1267.33 Q366.888 1267.33 368.449 1265.89 Q370.01 1264.42 370.01 1261.9 Q370.01 1259.36 368.449 1257.91 Q366.907 1256.46 364.179 1256.46 M360.38 1254.84 Q357.935 1254.24 356.562 1252.57 Q355.208 1250.9 355.208 1248.49 Q355.208 1245.12 357.597 1243.17 Q360.004 1241.21 364.179 1241.21 Q368.374 1241.21 370.762 1243.17 Q373.151 1245.12 373.151 1248.49 Q373.151 1250.9 371.778 1252.57 Q370.424 1254.24 367.997 1254.84 Q370.743 1255.48 372.267 1257.35 Q373.809 1259.21 373.809 1261.9 Q373.809 1265.98 371.308 1268.16 Q368.825 1270.34 364.179 1270.34 Q359.534 1270.34 357.033 1268.16 Q354.55 1265.98 354.55 1261.9 Q354.55 1259.21 356.092 1257.35 Q357.634 1255.48 360.38 1254.84 M358.989 1248.85 Q358.989 1251.03 360.343 1252.25 Q361.716 1253.47 364.179 1253.47 Q366.624 1253.47 367.997 1252.25 Q369.389 1251.03 369.389 1248.85 Q369.389 1246.66 367.997 1245.44 Q366.624 1244.22 364.179 1244.22 Q361.716 1244.22 360.343 1245.44 Q358.989 1246.66 358.989 1248.85 Z\" fill=\"#000000\" fill-rule=\"evenodd\" fill-opacity=\"1\" /><path clip-path=\"url(#clip550)\" d=\"M390.999 1245.03 L381.407 1260.02 L390.999 1260.02 L390.999 1245.03 M390.003 1241.72 L394.78 1241.72 L394.78 1260.02 L398.786 1260.02 L398.786 1263.18 L394.78 1263.18 L394.78 1269.8 L390.999 1269.8 L390.999 1263.18 L378.323 1263.18 L378.323 1259.51 L390.003 1241.72 Z\" fill=\"#000000\" fill-rule=\"evenodd\" fill-opacity=\"1\" /><path clip-path=\"url(#clip550)\" d=\"M178.606 1181.13 Q181.963 1181.85 183.838 1184.12 Q185.736 1186.39 185.736 1189.72 Q185.736 1194.84 182.217 1197.64 Q178.699 1200.44 172.217 1200.44 Q170.041 1200.44 167.727 1200 Q165.435 1199.58 162.981 1198.73 L162.981 1194.21 Q164.926 1195.35 167.24 1195.93 Q169.555 1196.5 172.078 1196.5 Q176.476 1196.5 178.768 1194.77 Q181.083 1193.03 181.083 1189.72 Q181.083 1186.67 178.93 1184.95 Q176.801 1183.22 172.981 1183.22 L168.953 1183.22 L168.953 1179.38 L173.166 1179.38 Q176.615 1179.38 178.444 1178.01 Q180.273 1176.62 180.273 1174.03 Q180.273 1171.37 178.375 1169.95 Q176.5 1168.52 172.981 1168.52 Q171.06 1168.52 168.861 1168.94 Q166.662 1169.35 164.023 1170.23 L164.023 1166.07 Q166.685 1165.32 169 1164.95 Q171.338 1164.58 173.398 1164.58 Q178.722 1164.58 181.824 1167.01 Q184.926 1169.42 184.926 1173.54 Q184.926 1176.41 183.282 1178.4 Q181.638 1180.37 178.606 1181.13 Z\" fill=\"#000000\" fill-rule=\"evenodd\" fill-opacity=\"1\" /><path clip-path=\"url(#clip550)\" d=\"M194.601 1193.89 L199.486 1193.89 L199.486 1199.77 L194.601 1199.77 L194.601 1193.89 Z\" fill=\"#000000\" fill-rule=\"evenodd\" fill-opacity=\"1\" /><path clip-path=\"url(#clip550)\" d=\"M219.671 1168.29 Q216.06 1168.29 214.231 1171.85 Q212.425 1175.39 212.425 1182.52 Q212.425 1189.63 214.231 1193.19 Q216.06 1196.74 219.671 1196.74 Q223.305 1196.74 225.11 1193.19 Q226.939 1189.63 226.939 1182.52 Q226.939 1175.39 225.11 1171.85 Q223.305 1168.29 219.671 1168.29 M219.671 1164.58 Q225.481 1164.58 228.536 1169.19 Q231.615 1173.77 231.615 1182.52 Q231.615 1191.25 228.536 1195.86 Q225.481 1200.44 219.671 1200.44 Q213.861 1200.44 210.782 1195.86 Q207.726 1191.25 207.726 1182.52 Q207.726 1173.77 210.782 1169.19 Q213.861 1164.58 219.671 1164.58 Z\" fill=\"#000000\" fill-rule=\"evenodd\" fill-opacity=\"1\" /><path clip-path=\"url(#clip550)\" d=\"M268.004 1174.31 L257.425 1184.93 L268.004 1195.51 L265.249 1198.31 L254.624 1187.69 L243.999 1198.31 L241.268 1195.51 L251.823 1184.93 L241.268 1174.31 L243.999 1171.51 L254.624 1182.13 L265.249 1171.51 L268.004 1174.31 Z\" fill=\"#000000\" fill-rule=\"evenodd\" fill-opacity=\"1\" /><path clip-path=\"url(#clip550)\" d=\"M280.365 1195.83 L288.004 1195.83 L288.004 1169.47 L279.694 1171.13 L279.694 1166.88 L287.957 1165.21 L292.633 1165.21 L292.633 1195.83 L300.272 1195.83 L300.272 1199.77 L280.365 1199.77 L280.365 1195.83 Z\" fill=\"#000000\" fill-rule=\"evenodd\" fill-opacity=\"1\" /><path clip-path=\"url(#clip550)\" d=\"M319.716 1168.29 Q316.105 1168.29 314.277 1171.85 Q312.471 1175.39 312.471 1182.52 Q312.471 1189.63 314.277 1193.19 Q316.105 1196.74 319.716 1196.74 Q323.351 1196.74 325.156 1193.19 Q326.985 1189.63 326.985 1182.52 Q326.985 1175.39 325.156 1171.85 Q323.351 1168.29 319.716 1168.29 M319.716 1164.58 Q325.527 1164.58 328.582 1169.19 Q331.661 1173.77 331.661 1182.52 Q331.661 1191.25 328.582 1195.86 Q325.527 1200.44 319.716 1200.44 Q313.906 1200.44 310.828 1195.86 Q307.772 1191.25 307.772 1182.52 Q307.772 1173.77 310.828 1169.19 Q313.906 1164.58 319.716 1164.58 Z\" fill=\"#000000\" fill-rule=\"evenodd\" fill-opacity=\"1\" /><path clip-path=\"url(#clip550)\" d=\"M332.206 1169.16 L338.413 1169.16 L338.413 1147.74 L331.661 1149.09 L331.661 1145.63 L338.375 1144.28 L342.174 1144.28 L342.174 1169.16 L348.381 1169.16 L348.381 1172.36 L332.206 1172.36 L332.206 1169.16 Z\" fill=\"#000000\" fill-rule=\"evenodd\" fill-opacity=\"1\" /><path clip-path=\"url(#clip550)\" d=\"M364.179 1159.02 Q361.471 1159.02 359.91 1160.47 Q358.368 1161.92 358.368 1164.46 Q358.368 1167 359.91 1168.45 Q361.471 1169.89 364.179 1169.89 Q366.888 1169.89 368.449 1168.45 Q370.01 1166.98 370.01 1164.46 Q370.01 1161.92 368.449 1160.47 Q366.907 1159.02 364.179 1159.02 M360.38 1157.41 Q357.935 1156.8 356.562 1155.13 Q355.208 1153.46 355.208 1151.05 Q355.208 1147.68 357.597 1145.73 Q360.004 1143.77 364.179 1143.77 Q368.374 1143.77 370.762 1145.73 Q373.151 1147.68 373.151 1151.05 Q373.151 1153.46 371.778 1155.13 Q370.424 1156.8 367.997 1157.41 Q370.743 1158.05 372.267 1159.91 Q373.809 1161.77 373.809 1164.46 Q373.809 1168.54 371.308 1170.72 Q368.825 1172.9 364.179 1172.9 Q359.534 1172.9 357.033 1170.72 Q354.55 1168.54 354.55 1164.46 Q354.55 1161.77 356.092 1159.91 Q357.634 1158.05 360.38 1157.41 M358.989 1151.41 Q358.989 1153.59 360.343 1154.81 Q361.716 1156.03 364.179 1156.03 Q366.624 1156.03 367.997 1154.81 Q369.389 1153.59 369.389 1151.41 Q369.389 1149.22 367.997 1148 Q366.624 1146.78 364.179 1146.78 Q361.716 1146.78 360.343 1148 Q358.989 1149.22 358.989 1151.41 Z\" fill=\"#000000\" fill-rule=\"evenodd\" fill-opacity=\"1\" /><path clip-path=\"url(#clip550)\" d=\"M390.999 1147.59 L381.407 1162.58 L390.999 1162.58 L390.999 1147.59 M390.003 1144.28 L394.78 1144.28 L394.78 1162.58 L398.786 1162.58 L398.786 1165.74 L394.78 1165.74 L394.78 1172.36 L390.999 1172.36 L390.999 1165.74 L378.323 1165.74 L378.323 1162.07 L390.003 1144.28 Z\" fill=\"#000000\" fill-rule=\"evenodd\" fill-opacity=\"1\" /><path clip-path=\"url(#clip550)\" d=\"M177.287 1071.84 L165.481 1090.29 L177.287 1090.29 L177.287 1071.84 M176.06 1067.77 L181.939 1067.77 L181.939 1090.29 L186.87 1090.29 L186.87 1094.18 L181.939 1094.18 L181.939 1102.33 L177.287 1102.33 L177.287 1094.18 L161.685 1094.18 L161.685 1089.67 L176.06 1067.77 Z\" fill=\"#000000\" fill-rule=\"evenodd\" fill-opacity=\"1\" /><path clip-path=\"url(#clip550)\" d=\"M194.601 1096.45 L199.486 1096.45 L199.486 1102.33 L194.601 1102.33 L194.601 1096.45 Z\" fill=\"#000000\" fill-rule=\"evenodd\" fill-opacity=\"1\" /><path clip-path=\"url(#clip550)\" d=\"M219.671 1070.85 Q216.06 1070.85 214.231 1074.41 Q212.425 1077.96 212.425 1085.08 Q212.425 1092.19 214.231 1095.76 Q216.06 1099.3 219.671 1099.3 Q223.305 1099.3 225.11 1095.76 Q226.939 1092.19 226.939 1085.08 Q226.939 1077.96 225.11 1074.41 Q223.305 1070.85 219.671 1070.85 M219.671 1067.15 Q225.481 1067.15 228.536 1071.75 Q231.615 1076.33 231.615 1085.08 Q231.615 1093.81 228.536 1098.42 Q225.481 1103 219.671 1103 Q213.861 1103 210.782 1098.42 Q207.726 1093.81 207.726 1085.08 Q207.726 1076.33 210.782 1071.75 Q213.861 1067.15 219.671 1067.15 Z\" fill=\"#000000\" fill-rule=\"evenodd\" fill-opacity=\"1\" /><path clip-path=\"url(#clip550)\" d=\"M268.004 1076.87 L257.425 1087.49 L268.004 1098.07 L265.249 1100.87 L254.624 1090.25 L243.999 1100.87 L241.268 1098.07 L251.823 1087.49 L241.268 1076.87 L243.999 1074.07 L254.624 1084.69 L265.249 1074.07 L268.004 1076.87 Z\" fill=\"#000000\" fill-rule=\"evenodd\" fill-opacity=\"1\" /><path clip-path=\"url(#clip550)\" d=\"M280.365 1098.4 L288.004 1098.4 L288.004 1072.03 L279.694 1073.7 L279.694 1069.44 L287.957 1067.77 L292.633 1067.77 L292.633 1098.4 L300.272 1098.4 L300.272 1102.33 L280.365 1102.33 L280.365 1098.4 Z\" fill=\"#000000\" fill-rule=\"evenodd\" fill-opacity=\"1\" /><path clip-path=\"url(#clip550)\" d=\"M319.716 1070.85 Q316.105 1070.85 314.277 1074.41 Q312.471 1077.96 312.471 1085.08 Q312.471 1092.19 314.277 1095.76 Q316.105 1099.3 319.716 1099.3 Q323.351 1099.3 325.156 1095.76 Q326.985 1092.19 326.985 1085.08 Q326.985 1077.96 325.156 1074.41 Q323.351 1070.85 319.716 1070.85 M319.716 1067.15 Q325.527 1067.15 328.582 1071.75 Q331.661 1076.33 331.661 1085.08 Q331.661 1093.81 328.582 1098.42 Q325.527 1103 319.716 1103 Q313.906 1103 310.828 1098.42 Q307.772 1093.81 307.772 1085.08 Q307.772 1076.33 310.828 1071.75 Q313.906 1067.15 319.716 1067.15 Z\" fill=\"#000000\" fill-rule=\"evenodd\" fill-opacity=\"1\" /><path clip-path=\"url(#clip550)\" d=\"M332.206 1071.72 L338.413 1071.72 L338.413 1050.3 L331.661 1051.65 L331.661 1048.19 L338.375 1046.84 L342.174 1046.84 L342.174 1071.72 L348.381 1071.72 L348.381 1074.92 L332.206 1074.92 L332.206 1071.72 Z\" fill=\"#000000\" fill-rule=\"evenodd\" fill-opacity=\"1\" /><path clip-path=\"url(#clip550)\" d=\"M364.179 1061.59 Q361.471 1061.59 359.91 1063.03 Q358.368 1064.48 358.368 1067.02 Q358.368 1069.56 359.91 1071.01 Q361.471 1072.46 364.179 1072.46 Q366.888 1072.46 368.449 1071.01 Q370.01 1069.54 370.01 1067.02 Q370.01 1064.48 368.449 1063.03 Q366.907 1061.59 364.179 1061.59 M360.38 1059.97 Q357.935 1059.37 356.562 1057.69 Q355.208 1056.02 355.208 1053.61 Q355.208 1050.24 357.597 1048.29 Q360.004 1046.33 364.179 1046.33 Q368.374 1046.33 370.762 1048.29 Q373.151 1050.24 373.151 1053.61 Q373.151 1056.02 371.778 1057.69 Q370.424 1059.37 367.997 1059.97 Q370.743 1060.61 372.267 1062.47 Q373.809 1064.33 373.809 1067.02 Q373.809 1071.1 371.308 1073.28 Q368.825 1075.47 364.179 1075.47 Q359.534 1075.47 357.033 1073.28 Q354.55 1071.1 354.55 1067.02 Q354.55 1064.33 356.092 1062.47 Q357.634 1060.61 360.38 1059.97 M358.989 1053.97 Q358.989 1056.15 360.343 1057.37 Q361.716 1058.59 364.179 1058.59 Q366.624 1058.59 367.997 1057.37 Q369.389 1056.15 369.389 1053.97 Q369.389 1051.79 367.997 1050.56 Q366.624 1049.34 364.179 1049.34 Q361.716 1049.34 360.343 1050.56 Q358.989 1051.79 358.989 1053.97 Z\" fill=\"#000000\" fill-rule=\"evenodd\" fill-opacity=\"1\" /><path clip-path=\"url(#clip550)\" d=\"M390.999 1050.15 L381.407 1065.14 L390.999 1065.14 L390.999 1050.15 M390.003 1046.84 L394.78 1046.84 L394.78 1065.14 L398.786 1065.14 L398.786 1068.3 L394.78 1068.3 L394.78 1074.92 L390.999 1074.92 L390.999 1068.3 L378.323 1068.3 L378.323 1064.63 L390.003 1046.84 Z\" fill=\"#000000\" fill-rule=\"evenodd\" fill-opacity=\"1\" /><path clip-path=\"url(#clip550)\" d=\"M164.486 970.332 L182.842 970.332 L182.842 974.267 L168.768 974.267 L168.768 982.739 Q169.787 982.392 170.805 982.23 Q171.824 982.044 172.842 982.044 Q178.629 982.044 182.009 985.216 Q185.388 988.387 185.388 993.804 Q185.388 999.382 181.916 1002.48 Q178.444 1005.56 172.125 1005.56 Q169.949 1005.56 167.68 1005.19 Q165.435 1004.82 163.027 1004.08 L163.027 999.382 Q165.111 1000.52 167.333 1001.07 Q169.555 1001.63 172.032 1001.63 Q176.037 1001.63 178.375 999.521 Q180.713 997.415 180.713 993.804 Q180.713 990.193 178.375 988.086 Q176.037 985.98 172.032 985.98 Q170.157 985.98 168.282 986.396 Q166.43 986.813 164.486 987.693 L164.486 970.332 Z\" fill=\"#000000\" fill-rule=\"evenodd\" fill-opacity=\"1\" /><path clip-path=\"url(#clip550)\" d=\"M194.601 999.012 L199.486 999.012 L199.486 1004.89 L194.601 1004.89 L194.601 999.012 Z\" fill=\"#000000\" fill-rule=\"evenodd\" fill-opacity=\"1\" /><path clip-path=\"url(#clip550)\" d=\"M219.671 973.41 Q216.06 973.41 214.231 976.975 Q212.425 980.517 212.425 987.646 Q212.425 994.753 214.231 998.318 Q216.06 1001.86 219.671 1001.86 Q223.305 1001.86 225.11 998.318 Q226.939 994.753 226.939 987.646 Q226.939 980.517 225.11 976.975 Q223.305 973.41 219.671 973.41 M219.671 969.707 Q225.481 969.707 228.536 974.313 Q231.615 978.896 231.615 987.646 Q231.615 996.373 228.536 1000.98 Q225.481 1005.56 219.671 1005.56 Q213.861 1005.56 210.782 1000.98 Q207.726 996.373 207.726 987.646 Q207.726 978.896 210.782 974.313 Q213.861 969.707 219.671 969.707 Z\" fill=\"#000000\" fill-rule=\"evenodd\" fill-opacity=\"1\" /><path clip-path=\"url(#clip550)\" d=\"M268.004 979.429 L257.425 990.054 L268.004 1000.63 L265.249 1003.43 L254.624 992.808 L243.999 1003.43 L241.268 1000.63 L251.823 990.054 L241.268 979.429 L243.999 976.628 L254.624 987.253 L265.249 976.628 L268.004 979.429 Z\" fill=\"#000000\" fill-rule=\"evenodd\" fill-opacity=\"1\" /><path clip-path=\"url(#clip550)\" d=\"M280.365 1000.96 L288.004 1000.96 L288.004 974.591 L279.694 976.257 L279.694 971.998 L287.957 970.332 L292.633 970.332 L292.633 1000.96 L300.272 1000.96 L300.272 1004.89 L280.365 1004.89 L280.365 1000.96 Z\" fill=\"#000000\" fill-rule=\"evenodd\" fill-opacity=\"1\" /><path clip-path=\"url(#clip550)\" d=\"M319.716 973.41 Q316.105 973.41 314.277 976.975 Q312.471 980.517 312.471 987.646 Q312.471 994.753 314.277 998.318 Q316.105 1001.86 319.716 1001.86 Q323.351 1001.86 325.156 998.318 Q326.985 994.753 326.985 987.646 Q326.985 980.517 325.156 976.975 Q323.351 973.41 319.716 973.41 M319.716 969.707 Q325.527 969.707 328.582 974.313 Q331.661 978.896 331.661 987.646 Q331.661 996.373 328.582 1000.98 Q325.527 1005.56 319.716 1005.56 Q313.906 1005.56 310.828 1000.98 Q307.772 996.373 307.772 987.646 Q307.772 978.896 310.828 974.313 Q313.906 969.707 319.716 969.707 Z\" fill=\"#000000\" fill-rule=\"evenodd\" fill-opacity=\"1\" /><path clip-path=\"url(#clip550)\" d=\"M332.206 974.284 L338.413 974.284 L338.413 952.862 L331.661 954.216 L331.661 950.755 L338.375 949.401 L342.174 949.401 L342.174 974.284 L348.381 974.284 L348.381 977.481 L332.206 977.481 L332.206 974.284 Z\" fill=\"#000000\" fill-rule=\"evenodd\" fill-opacity=\"1\" /><path clip-path=\"url(#clip550)\" d=\"M364.179 964.146 Q361.471 964.146 359.91 965.595 Q358.368 967.043 358.368 969.582 Q358.368 972.121 359.91 973.569 Q361.471 975.017 364.179 975.017 Q366.888 975.017 368.449 973.569 Q370.01 972.102 370.01 969.582 Q370.01 967.043 368.449 965.595 Q366.907 964.146 364.179 964.146 M360.38 962.529 Q357.935 961.927 356.562 960.253 Q355.208 958.579 355.208 956.172 Q355.208 952.805 357.597 950.849 Q360.004 948.893 364.179 948.893 Q368.374 948.893 370.762 950.849 Q373.151 952.805 373.151 956.172 Q373.151 958.579 371.778 960.253 Q370.424 961.927 367.997 962.529 Q370.743 963.168 372.267 965.03 Q373.809 966.892 373.809 969.582 Q373.809 973.663 371.308 975.845 Q368.825 978.027 364.179 978.027 Q359.534 978.027 357.033 975.845 Q354.55 973.663 354.55 969.582 Q354.55 966.892 356.092 965.03 Q357.634 963.168 360.38 962.529 M358.989 956.529 Q358.989 958.711 360.343 959.934 Q361.716 961.156 364.179 961.156 Q366.624 961.156 367.997 959.934 Q369.389 958.711 369.389 956.529 Q369.389 954.348 367.997 953.125 Q366.624 951.903 364.179 951.903 Q361.716 951.903 360.343 953.125 Q358.989 954.348 358.989 956.529 Z\" fill=\"#000000\" fill-rule=\"evenodd\" fill-opacity=\"1\" /><path clip-path=\"url(#clip550)\" d=\"M390.999 952.711 L381.407 967.701 L390.999 967.701 L390.999 952.711 M390.003 949.401 L394.78 949.401 L394.78 967.701 L398.786 967.701 L398.786 970.861 L394.78 970.861 L394.78 977.481 L390.999 977.481 L390.999 970.861 L378.323 970.861 L378.323 967.193 L390.003 949.401 Z\" fill=\"#000000\" fill-rule=\"evenodd\" fill-opacity=\"1\" /><path clip-path=\"url(#clip550)\" d=\"M175.018 888.31 Q171.87 888.31 170.018 890.462 Q168.189 892.615 168.189 896.365 Q168.189 900.092 170.018 902.268 Q171.87 904.421 175.018 904.421 Q178.166 904.421 179.995 902.268 Q181.847 900.092 181.847 896.365 Q181.847 892.615 179.995 890.462 Q178.166 888.31 175.018 888.31 M184.301 873.657 L184.301 877.916 Q182.541 877.083 180.736 876.643 Q178.953 876.203 177.194 876.203 Q172.564 876.203 170.111 879.328 Q167.68 882.453 167.333 888.772 Q168.699 886.759 170.759 885.694 Q172.819 884.606 175.296 884.606 Q180.504 884.606 183.513 887.777 Q186.546 890.925 186.546 896.365 Q186.546 901.689 183.398 904.907 Q180.25 908.124 175.018 908.124 Q169.023 908.124 165.852 903.541 Q162.68 898.934 162.68 890.208 Q162.68 882.013 166.569 877.152 Q170.458 872.268 177.009 872.268 Q178.768 872.268 180.551 872.615 Q182.356 872.962 184.301 873.657 Z\" fill=\"#000000\" fill-rule=\"evenodd\" fill-opacity=\"1\" /><path clip-path=\"url(#clip550)\" d=\"M194.601 901.573 L199.486 901.573 L199.486 907.453 L194.601 907.453 L194.601 901.573 Z\" fill=\"#000000\" fill-rule=\"evenodd\" fill-opacity=\"1\" /><path clip-path=\"url(#clip550)\" d=\"M219.671 875.972 Q216.06 875.972 214.231 879.536 Q212.425 883.078 212.425 890.208 Q212.425 897.314 214.231 900.879 Q216.06 904.421 219.671 904.421 Q223.305 904.421 225.11 900.879 Q226.939 897.314 226.939 890.208 Q226.939 883.078 225.11 879.536 Q223.305 875.972 219.671 875.972 M219.671 872.268 Q225.481 872.268 228.536 876.874 Q231.615 881.458 231.615 890.208 Q231.615 898.934 228.536 903.541 Q225.481 908.124 219.671 908.124 Q213.861 908.124 210.782 903.541 Q207.726 898.934 207.726 890.208 Q207.726 881.458 210.782 876.874 Q213.861 872.268 219.671 872.268 Z\" fill=\"#000000\" fill-rule=\"evenodd\" fill-opacity=\"1\" /><path clip-path=\"url(#clip550)\" d=\"M268.004 881.99 L257.425 892.615 L268.004 903.194 L265.249 905.995 L254.624 895.37 L243.999 905.995 L241.268 903.194 L251.823 892.615 L241.268 881.99 L243.999 879.189 L254.624 889.814 L265.249 879.189 L268.004 881.99 Z\" fill=\"#000000\" fill-rule=\"evenodd\" fill-opacity=\"1\" /><path clip-path=\"url(#clip550)\" d=\"M280.365 903.518 L288.004 903.518 L288.004 877.152 L279.694 878.819 L279.694 874.56 L287.957 872.893 L292.633 872.893 L292.633 903.518 L300.272 903.518 L300.272 907.453 L280.365 907.453 L280.365 903.518 Z\" fill=\"#000000\" fill-rule=\"evenodd\" fill-opacity=\"1\" /><path clip-path=\"url(#clip550)\" d=\"M319.716 875.972 Q316.105 875.972 314.277 879.536 Q312.471 883.078 312.471 890.208 Q312.471 897.314 314.277 900.879 Q316.105 904.421 319.716 904.421 Q323.351 904.421 325.156 900.879 Q326.985 897.314 326.985 890.208 Q326.985 883.078 325.156 879.536 Q323.351 875.972 319.716 875.972 M319.716 872.268 Q325.527 872.268 328.582 876.874 Q331.661 881.458 331.661 890.208 Q331.661 898.934 328.582 903.541 Q325.527 908.124 319.716 908.124 Q313.906 908.124 310.828 903.541 Q307.772 898.934 307.772 890.208 Q307.772 881.458 310.828 876.874 Q313.906 872.268 319.716 872.268 Z\" fill=\"#000000\" fill-rule=\"evenodd\" fill-opacity=\"1\" /><path clip-path=\"url(#clip550)\" d=\"M332.206 876.845 L338.413 876.845 L338.413 855.423 L331.661 856.777 L331.661 853.317 L338.375 851.963 L342.174 851.963 L342.174 876.845 L348.381 876.845 L348.381 880.043 L332.206 880.043 L332.206 876.845 Z\" fill=\"#000000\" fill-rule=\"evenodd\" fill-opacity=\"1\" /><path clip-path=\"url(#clip550)\" d=\"M364.179 866.708 Q361.471 866.708 359.91 868.156 Q358.368 869.604 358.368 872.143 Q358.368 874.682 359.91 876.131 Q361.471 877.579 364.179 877.579 Q366.888 877.579 368.449 876.131 Q370.01 874.664 370.01 872.143 Q370.01 869.604 368.449 868.156 Q366.907 866.708 364.179 866.708 M360.38 865.09 Q357.935 864.489 356.562 862.815 Q355.208 861.141 355.208 858.733 Q355.208 855.367 357.597 853.411 Q360.004 851.455 364.179 851.455 Q368.374 851.455 370.762 853.411 Q373.151 855.367 373.151 858.733 Q373.151 861.141 371.778 862.815 Q370.424 864.489 367.997 865.09 Q370.743 865.73 372.267 867.592 Q373.809 869.454 373.809 872.143 Q373.809 876.225 371.308 878.406 Q368.825 880.588 364.179 880.588 Q359.534 880.588 357.033 878.406 Q354.55 876.225 354.55 872.143 Q354.55 869.454 356.092 867.592 Q357.634 865.73 360.38 865.09 M358.989 859.091 Q358.989 861.272 360.343 862.495 Q361.716 863.717 364.179 863.717 Q366.624 863.717 367.997 862.495 Q369.389 861.272 369.389 859.091 Q369.389 856.909 367.997 855.686 Q366.624 854.464 364.179 854.464 Q361.716 854.464 360.343 855.686 Q358.989 856.909 358.989 859.091 Z\" fill=\"#000000\" fill-rule=\"evenodd\" fill-opacity=\"1\" /><path clip-path=\"url(#clip550)\" d=\"M390.999 855.273 L381.407 870.262 L390.999 870.262 L390.999 855.273 M390.003 851.963 L394.78 851.963 L394.78 870.262 L398.786 870.262 L398.786 873.422 L394.78 873.422 L394.78 880.043 L390.999 880.043 L390.999 873.422 L378.323 873.422 L378.323 869.755 L390.003 851.963 Z\" fill=\"#000000\" fill-rule=\"evenodd\" fill-opacity=\"1\" /><path clip-path=\"url(#clip550)\" d=\"M71.6241 1225.35 Q72.236 1225.35 72.7513 1225.48 L84.2166 1227.28 Q85.0862 1227.38 85.4082 1227.57 Q85.7303 1227.73 85.7303 1228.25 Q85.7303 1229.05 84.8929 1229.05 Q84.4098 1229.05 83.6369 1228.86 Q79.9976 1228.31 78.3551 1228.31 Q77.2601 1228.31 76.455 1228.54 Q75.6176 1228.73 75.0379 1229.05 Q74.4582 1229.34 74.0718 1230.02 Q73.6853 1230.7 73.4598 1231.34 Q73.2344 1231.98 73.1378 1233.14 Q73.009 1234.3 72.9768 1235.3 Q72.9445 1236.3 72.9445 1237.94 Q72.9445 1241.52 73.0734 1242.1 Q73.2344 1242.71 73.7175 1243.03 Q74.1684 1243.32 75.521 1243.64 L110.529 1252.4 L111.914 1252.66 Q112.687 1252.66 112.944 1252.18 Q113.202 1251.69 113.363 1250.21 Q113.524 1248.09 113.524 1245.99 Q113.524 1245.93 113.524 1245.8 Q113.524 1245.09 113.556 1244.8 Q113.556 1244.51 113.621 1244.22 Q113.685 1243.93 113.846 1243.87 Q113.975 1243.77 114.232 1243.77 Q114.844 1243.77 115.166 1244.03 Q115.456 1244.29 115.521 1244.54 Q115.553 1244.77 115.553 1245.22 Q115.553 1246.12 115.488 1248.06 Q115.424 1249.99 115.424 1250.95 L115.36 1256.43 L115.424 1262.03 Q115.424 1262.9 115.488 1264.74 Q115.553 1266.57 115.553 1267.44 Q115.553 1268.57 114.748 1268.57 Q113.846 1268.57 113.685 1268.15 Q113.524 1267.7 113.524 1265.8 Q113.524 1263.13 113.395 1261.68 Q113.266 1260.23 112.815 1259.46 Q112.365 1258.65 111.914 1258.43 Q111.431 1258.2 110.336 1257.94 L75.1345 1249.09 Q74.3616 1248.83 73.7497 1248.83 Q73.4276 1248.83 73.2988 1248.92 Q73.17 1248.99 73.0734 1249.41 Q72.9445 1249.83 72.9445 1250.7 L72.9445 1253.27 Q72.9445 1255.91 73.0734 1257.56 Q73.17 1259.17 73.6531 1260.71 Q74.1362 1262.23 74.8125 1263.13 Q75.4888 1264 76.8737 1264.96 Q78.2585 1265.93 79.9332 1266.64 Q81.6079 1267.31 84.3454 1268.28 Q85.2472 1268.6 85.5048 1268.8 Q85.7303 1268.96 85.7303 1269.41 Q85.7303 1269.73 85.537 1269.99 Q85.3116 1270.21 85.0217 1270.21 Q83.959 1269.89 83.8301 1269.83 L72.2038 1265.87 Q71.2698 1265.54 71.1088 1265.25 Q70.9156 1264.93 70.9156 1263.74 L70.9156 1227.15 Q70.9156 1226.57 70.9156 1226.38 Q70.9156 1226.19 70.98 1225.87 Q71.0444 1225.54 71.2054 1225.45 Q71.3665 1225.35 71.6241 1225.35 Z\" fill=\"#000000\" fill-rule=\"evenodd\" fill-opacity=\"1\" /><path clip-path=\"url(#clip550)\" d=\"M116.425 1199.95 Q117.62 1199.95 118.387 1200.74 Q119.153 1201.5 119.153 1202.5 Q119.153 1203.35 118.657 1203.8 Q118.161 1204.26 117.53 1204.26 Q116.628 1204.26 115.884 1203.56 Q115.14 1202.86 114.983 1201.84 Q114.442 1202.59 114.442 1203.78 Q114.442 1205.74 115.952 1207.48 Q116.651 1208.25 117.936 1209.08 Q119.198 1209.91 119.739 1210.07 L125.759 1211.54 Q126.435 1211.67 129.681 1212.51 Q132.905 1213.32 133.04 1213.39 Q133.672 1213.61 134.01 1214.11 Q134.348 1214.6 134.348 1215.1 Q134.348 1215.66 134.01 1216.05 Q133.672 1216.43 133.086 1216.43 Q132.995 1216.43 132.657 1216.36 Q132.319 1216.29 131.846 1216.18 Q131.372 1216.07 131.102 1216.02 L120.438 1213.34 Q118.499 1212.84 117.891 1212.73 Q117.26 1212.6 116.561 1212.6 Q115.343 1212.6 114.892 1212.98 Q114.442 1213.36 114.442 1214.04 Q114.442 1215.21 115.839 1215.98 Q117.237 1216.74 119.942 1217.4 Q120.686 1217.6 120.844 1217.74 Q121.002 1217.85 121.002 1218.19 Q120.979 1218.75 120.528 1218.75 Q120.416 1218.75 119.694 1218.57 Q118.95 1218.39 117.868 1218.05 Q116.764 1217.69 116.065 1217.31 Q115.591 1217.08 115.276 1216.88 Q114.96 1216.68 114.464 1216.27 Q113.968 1215.87 113.698 1215.26 Q113.427 1214.65 113.427 1213.9 Q113.427 1212.28 114.419 1211.13 Q115.411 1209.96 116.966 1209.69 Q116.155 1209.12 115.456 1208.43 Q114.735 1207.73 114.081 1206.44 Q113.427 1205.16 113.427 1203.78 Q113.427 1202.07 114.306 1201.01 Q115.163 1199.95 116.425 1199.95 Z\" fill=\"#000000\" fill-rule=\"evenodd\" fill-opacity=\"1\" /><path clip-path=\"url(#clip550)\" d=\"M107.475 1195 L106.033 1195 Q106.033 1189.45 103.079 1186.59 Q103.079 1185.8 103.26 1185.67 Q103.44 1185.53 104.274 1185.53 L130.177 1185.53 Q131.553 1185.53 131.981 1184.85 Q132.409 1184.18 132.409 1181.23 L132.409 1179.76 L133.829 1179.76 Q133.694 1181.38 133.694 1187.24 Q133.694 1193.11 133.829 1194.71 L132.409 1194.71 L132.409 1193.24 Q132.409 1190.33 132.003 1189.63 Q131.575 1188.94 130.177 1188.94 L106.258 1188.94 Q107.475 1191.35 107.475 1195 Z\" fill=\"#000000\" fill-rule=\"evenodd\" fill-opacity=\"1\" /><path clip-path=\"url(#clip550)\" d=\"M47.9208 1191.36 L58.0205 1193.86 Q58.6292 1194 58.787 1194.11 Q58.9448 1194.22 58.9448 1194.54 Q58.9448 1194.79 58.8321 1194.94 Q58.7194 1195.08 58.6067 1195.08 L58.494 1195.1 Q58.4263 1195.1 58.0882 1195.06 Q57.7275 1195.01 57.1413 1194.97 Q56.5552 1194.92 55.9014 1194.92 Q52.2041 1194.92 50.4908 1196.73 Q48.7549 1198.51 48.7549 1201.57 Q48.7549 1203.69 49.8821 1205.59 Q51.0093 1207.48 52.7903 1208.56 Q54.5487 1209.64 56.3973 1209.64 Q58.0882 1209.64 59.1703 1208.79 Q60.2524 1207.93 60.6131 1206.83 L61.4472 1203.74 Q62.2814 1200.49 62.6421 1199.57 Q62.9802 1198.64 63.7467 1197.88 Q65.8659 1195.6 69.1573 1195.6 Q71.9979 1195.6 74.7482 1197.2 Q77.4761 1198.8 79.2571 1201.55 Q81.0155 1204.3 81.0155 1207.34 Q81.0155 1212.69 77.7015 1215.14 L80.3166 1217.4 Q80.8126 1217.83 80.9028 1217.96 Q81.0155 1218.07 81.0155 1218.23 Q81.0155 1218.44 80.8802 1218.59 Q80.7675 1218.75 80.5646 1218.75 Q80.4068 1218.75 75.109 1217.42 Q69.8111 1216.09 69.6984 1215.98 Q69.518 1215.8 69.518 1215.5 Q69.518 1214.96 70.0365 1214.96 Q70.1718 1215.01 70.3521 1215.05 Q71.9753 1215.32 72.8545 1215.32 Q74.5003 1215.32 75.7627 1214.76 Q77.0027 1214.2 77.7241 1213.36 Q78.4229 1212.51 78.8738 1211.36 Q79.3022 1210.21 79.46 1209.24 Q79.5952 1208.27 79.5952 1207.25 Q79.5952 1205.07 78.3328 1203.13 Q77.0703 1201.17 75.109 1200.06 Q73.1476 1198.93 71.0961 1198.93 Q70.014 1198.93 69.1799 1199.23 Q68.3232 1199.52 67.8498 1199.93 Q67.3763 1200.31 67.0156 1200.96 Q66.6549 1201.62 66.5197 1202.07 Q66.3618 1202.5 66.204 1203.17 L64.8965 1208.11 Q64.3103 1210.09 62.6195 1211.51 Q60.9287 1212.91 58.3361 1212.91 Q55.6083 1212.91 53.0834 1211.31 Q50.5359 1209.69 49.0029 1207.05 Q47.4473 1204.39 47.4473 1201.53 Q47.4473 1199.27 48.3266 1197.54 Q49.1832 1195.8 50.7839 1194.92 L48.1462 1192.69 Q47.6277 1192.24 47.5375 1192.15 Q47.4473 1192.04 47.4473 1191.88 Q47.4473 1191.61 47.6051 1191.5 Q47.763 1191.36 47.9208 1191.36 Z\" fill=\"#000000\" fill-rule=\"evenodd\" fill-opacity=\"1\" /><path clip-path=\"url(#clip550)\" d=\"M55.428 1155.74 Q57.9529 1155.74 60.2749 1157.61 Q62.597 1159.46 64.0173 1162.48 Q65.415 1165.47 65.415 1168.7 L65.415 1176.54 L76.9576 1179.41 Q77.0252 1179.43 77.3183 1179.5 Q77.5888 1179.57 77.7466 1179.57 Q78.3102 1179.57 78.4455 1178.87 Q78.5807 1178.14 78.5807 1176.54 Q78.5807 1175.51 78.7611 1175.35 Q78.8738 1175.26 79.0767 1175.26 Q79.3923 1175.26 79.6178 1175.35 Q79.8207 1175.44 79.8883 1175.62 Q79.9559 1175.78 79.9785 1175.89 Q80.001 1176 80.001 1176.18 Q80.001 1176.66 79.9559 1177.67 Q79.9108 1178.66 79.9108 1179.18 L79.8658 1182.14 L80.001 1188 Q80.001 1188.7 79.4374 1188.7 Q79.0091 1188.7 78.8287 1188.52 Q78.6258 1188.33 78.6033 1188.13 Q78.5807 1187.93 78.5807 1187.41 Q78.5807 1186.28 78.5131 1185.61 Q78.4455 1184.93 78.3553 1184.5 Q78.2426 1184.05 77.927 1183.83 Q77.6114 1183.58 77.3408 1183.47 Q77.0477 1183.35 76.394 1183.19 L51.5955 1177.02 Q50.8515 1176.84 50.7388 1176.84 Q50.3555 1176.84 50.2203 1177.06 Q50.0625 1177.27 49.9948 1177.85 Q49.9046 1178.98 49.9046 1179.84 Q49.9046 1180.4 49.8821 1180.62 Q49.8596 1180.83 49.7468 1181.01 Q49.6116 1181.17 49.341 1181.17 Q48.9127 1181.17 48.7324 1180.99 Q48.5295 1180.78 48.5069 1180.56 Q48.4618 1180.33 48.4618 1179.79 L48.4618 1164.82 Q48.4618 1160.52 50.5133 1158.13 Q52.5649 1155.74 55.428 1155.74 M54.3233 1160.02 Q49.9046 1160.02 49.9046 1166.31 L49.9046 1170.73 Q49.9046 1172.19 50.1752 1172.55 Q50.4232 1172.91 51.6631 1173.23 L64.2202 1176.36 L64.2202 1169.85 Q64.2202 1165.47 61.7628 1162.75 Q60.6356 1161.51 58.2911 1160.76 Q55.9465 1160.02 54.3233 1160.02 Z\" fill=\"#000000\" fill-rule=\"evenodd\" fill-opacity=\"1\" /><path clip-path=\"url(#clip550)\" d=\"M132.042 1152.32 L66.0847 1152.32 L66.0847 1142.36 L67.5984 1142.36 L67.5984 1147.9 L130.529 1147.9 L130.529 1142.36 L132.042 1142.36 L132.042 1152.32 Z\" fill=\"#000000\" fill-rule=\"evenodd\" fill-opacity=\"1\" /><path clip-path=\"url(#clip550)\" d=\"M71.2376 1083.84 Q71.6563 1083.84 71.9462 1083.93 Q72.2038 1084.03 72.3326 1084.26 Q72.4615 1084.48 72.4937 1084.61 Q72.5259 1084.74 72.5581 1085.03 Q72.6869 1086.41 72.9123 1087.38 Q73.1378 1088.31 74.2972 1090.63 Q75.4566 1092.92 77.55 1095.79 L86.471 1107.32 L87.9847 1109.25 Q88.0813 1109.25 88.2745 1109.18 Q88.4356 1109.12 88.661 1109.06 Q88.8542 1108.96 88.9187 1108.93 L110.529 1099.55 Q112.268 1098.81 112.88 1097.91 Q113.492 1097.01 113.524 1094.98 Q113.524 1094.66 113.556 1094.53 Q113.556 1094.37 113.621 1094.14 Q113.653 1093.89 113.814 1093.79 Q113.975 1093.66 114.232 1093.66 Q115.553 1093.66 115.553 1094.85 Q115.553 1095.59 115.456 1098.11 Q115.36 1100.62 115.36 1101.33 Q115.36 1102.65 115.456 1105.35 Q115.553 1108.06 115.553 1109.38 Q115.553 1110.31 114.812 1110.31 Q114.2 1110.31 113.91 1110.09 Q113.588 1109.83 113.556 1109.6 Q113.524 1109.38 113.524 1108.86 Q113.524 1108.48 113.492 1108.06 Q113.427 1107.61 113.266 1106.96 Q113.073 1106.29 112.622 1105.87 Q112.139 1105.42 111.463 1105.42 Q110.915 1105.42 109.144 1106.22 L91.3985 1113.85 L99.0635 1123.68 L109.434 1126.32 Q109.82 1126.38 110.497 1126.54 Q111.173 1126.7 111.656 1126.83 Q112.139 1126.93 112.332 1126.93 Q112.751 1126.93 113.009 1126.67 Q113.266 1126.38 113.395 1125.67 Q113.492 1124.96 113.524 1124.42 Q113.524 1123.84 113.524 1122.65 Q113.524 1121.16 113.782 1120.91 Q113.943 1120.78 114.232 1120.78 Q114.683 1120.78 115.005 1120.91 Q115.295 1121.04 115.392 1121.29 Q115.488 1121.52 115.521 1121.68 Q115.553 1121.84 115.553 1122.1 Q115.553 1122.77 115.488 1124.22 Q115.424 1125.64 115.424 1126.38 L115.36 1130.6 L115.553 1138.97 Q115.553 1139.97 114.748 1139.97 Q114.136 1139.97 113.878 1139.72 Q113.588 1139.46 113.556 1139.17 Q113.524 1138.88 113.524 1138.14 Q113.524 1136.53 113.427 1135.56 Q113.331 1134.59 113.202 1133.98 Q113.041 1133.34 112.59 1133.02 Q112.139 1132.66 111.753 1132.5 Q111.334 1132.34 110.4 1132.11 L74.9735 1123.29 Q73.9107 1123.03 73.7497 1123.03 Q73.2022 1123.03 73.009 1123.35 Q72.7835 1123.64 72.6869 1124.48 Q72.5581 1126.09 72.5581 1127.32 Q72.5581 1128.12 72.5259 1128.44 Q72.4937 1128.73 72.3326 1128.99 Q72.1394 1129.22 71.7529 1129.22 Q70.4969 1129.22 70.4969 1127.9 L70.6901 1119.39 L70.4969 1110.96 Q70.4969 1110.02 71.2376 1110.02 Q72.1716 1110.02 72.3648 1110.47 Q72.5581 1110.89 72.5581 1112.28 Q72.5581 1114.69 72.8801 1115.79 Q73.17 1116.85 73.6853 1117.17 Q74.1684 1117.46 75.5854 1117.82 L96.7447 1123.1 L76.9703 1097.36 Q74.9735 1094.98 73.9429 1094.98 Q73.2666 1094.98 72.9768 1095.46 Q72.6547 1095.92 72.5581 1097.04 Q72.4293 1097.85 71.8173 1097.85 Q71.2054 1097.85 70.9156 1097.62 Q70.5935 1097.36 70.5613 1097.17 Q70.4969 1096.95 70.4969 1096.59 Q70.4969 1095.4 70.5935 1092.92 Q70.6901 1090.44 70.6901 1089.25 Q70.6901 1088.44 70.5935 1086.87 Q70.4969 1085.29 70.4969 1084.58 Q70.4969 1084.22 70.7545 1084.03 Q70.98 1083.84 71.2376 1083.84 Z\" fill=\"#000000\" fill-rule=\"evenodd\" fill-opacity=\"1\" /><path clip-path=\"url(#clip550)\" d=\"M130.529 1081.63 L130.529 1076.09 L67.5984 1076.09 L67.5984 1081.63 L66.0847 1081.63 L66.0847 1071.68 L132.042 1071.68 L132.042 1081.63 L130.529 1081.63 Z\" fill=\"#000000\" fill-rule=\"evenodd\" fill-opacity=\"1\" /><polyline clip-path=\"url(#clip554)\" style=\"stroke:#000000; stroke-linecap:round; stroke-linejoin:round; stroke-width:4; stroke-opacity:1; fill:none\" stroke-dasharray=\"2, 4\" points=\"489.068,1468.36 535.463,1468.36 581.858,1468.36 628.253,1468.36 674.648,1468.36 721.043,1468.36 767.438,1468.36 813.833,1468.36 860.228,1468.36 906.623,1468.36 953.018,1468.36 999.413,1468.36 1045.81,1468.36 1092.2,1468.36 1138.6,1468.36 1184.99,1468.36 1231.39,1468.36 1277.78,1468.36 1324.18,1468.36 1370.57,1468.36 1416.97,1468.36 1463.36,1468.36 1509.76,1468.36 1556.15,1468.36 1602.55,1468.36 1648.94,1468.36 1695.34,1468.36 1741.73,1468.36 1788.13,1468.36 1834.52,1468.36 1880.92,1468.36 1927.31,1468.36 1973.71,1468.36 2020.1,1468.36 2066.5,1468.36 2112.89,1468.36 2159.29,1468.36 2205.68,1468.36 2252.08,1468.36 2298.47,1468.36 \"/>\n",
       "<polyline clip-path=\"url(#clip554)\" style=\"stroke:#ff0000; stroke-linecap:round; stroke-linejoin:round; stroke-width:12; stroke-opacity:0.3; fill:none\" points=\"489.068,1468.36 535.463,1468.36 581.858,1468.36 628.253,1468.36 674.648,1468.36 721.043,1468.36 767.438,1468.36 813.833,1468.36 860.228,1468.36 906.623,1468.36 953.018,1468.36 999.413,1468.36 1045.81,1468.36 1092.2,1468.36 1138.6,1468.36 1184.99,1468.36 1231.39,1468.36 1277.78,1468.36 1324.18,1468.36 1370.57,1468.36 1416.97,1468.36 1463.36,1468.36 1509.76,1468.36 1556.15,1468.36 1602.55,1468.36 1648.94,1468.36 1695.34,1468.36 1741.73,1468.36 1788.13,1468.36 1834.52,1468.36 1880.92,1468.36 1927.31,1468.36 1973.71,1468.36 2020.1,1468.36 2066.5,1468.36 2112.89,1468.36 2159.29,1468.36 2205.68,1468.36 2252.08,1468.36 2298.47,1468.36 \"/>\n",
       "<polyline clip-path=\"url(#clip554)\" style=\"stroke:#0000ff; stroke-linecap:round; stroke-linejoin:round; stroke-width:12; stroke-opacity:0.3; fill:none\" points=\"489.068,1468.36 535.463,1468.36 581.858,1468.36 628.253,1468.36 674.648,1468.36 721.043,1468.36 767.438,1468.36 813.833,1468.36 860.228,1468.36 906.623,1468.36 953.018,1468.36 999.413,1468.36 1045.81,1468.36 1092.2,1468.36 1138.6,1468.36 1184.99,1468.36 1231.39,1468.36 1277.78,1468.36 1324.18,1468.36 1370.57,1468.36 1416.97,1468.36 1463.36,1468.36 1509.76,1468.36 1556.15,1468.36 1602.55,1468.36 1648.94,1468.36 1695.34,1468.36 1741.73,1468.36 1788.13,1468.36 1834.52,865.335 1880.92,1468.36 1927.31,1468.36 1973.71,1468.36 2020.1,1468.36 2066.5,1468.36 2112.89,1468.36 2159.29,1468.36 2205.68,1468.36 2252.08,1468.36 2298.47,1468.36 \"/>\n",
       "</svg>\n"
      ]
     },
     "metadata": {},
     "output_type": "display_data"
    }
   ],
   "source": [
    "p2 = plot(layout = (num_subplots, 1),fmt = :svg, resolution = (600, 400), latex=true,gridlinewidth=2) \n",
    "\n",
    "# Loop to generate subplots \n",
    "for mm in 1:num_subplots \n",
    "    # limits\n",
    "#     if mm == 1\n",
    "#         plot!(subplot=ss,legend=:topleft)\n",
    "#     end\n",
    "    plot!(subplot=mm,ts,yspMax[1]*ones(length(ts)),linestyle = :dot,linecolor = :black,label=\"\")\n",
    "    \n",
    "    for nn in 1:n_MC\n",
    "        plot!(subplot=mm,ts,yspPlant[1,:,nn,mm],linewidth=3,linealpha = 0.3,linecolor = CList[nn],legend=false)\n",
    "    end\n",
    "     \n",
    "    # Add labels, titles, or other customizations to each subplot \n",
    "    ylabel!(L\"T_{r1}^{SP} [K]\") \n",
    "end \n",
    "\n",
    "# Display the subplots \n",
    "display(p2)"
   ]
  },
  {
   "cell_type": "code",
   "execution_count": 22,
   "id": "9ac75ab4",
   "metadata": {},
   "outputs": [
    {
     "data": {
      "image/svg+xml": [
       "<?xml version=\"1.0\" encoding=\"utf-8\"?>\n",
       "<svg xmlns=\"http://www.w3.org/2000/svg\" xmlns:xlink=\"http://www.w3.org/1999/xlink\" width=\"600\" height=\"400\" viewBox=\"0 0 2400 1600\">\n",
       "<defs>\n",
       "  <clipPath id=\"clip590\">\n",
       "    <rect x=\"0\" y=\"0\" width=\"2400\" height=\"1600\"/>\n",
       "  </clipPath>\n",
       "</defs>\n",
       "<path clip-path=\"url(#clip590)\" d=\"M0 1600 L2400 1600 L2400 0 L0 0  Z\" fill=\"#ffffff\" fill-rule=\"evenodd\" fill-opacity=\"1\"/>\n",
       "<defs>\n",
       "  <clipPath id=\"clip591\">\n",
       "    <rect x=\"480\" y=\"0\" width=\"1681\" height=\"1600\"/>\n",
       "  </clipPath>\n",
       "</defs>\n",
       "<defs>\n",
       "  <clipPath id=\"clip592\">\n",
       "    <rect x=\"434\" y=\"847\" width=\"1919\" height=\"640\"/>\n",
       "  </clipPath>\n",
       "</defs>\n",
       "<path clip-path=\"url(#clip590)\" d=\"M237.705 686.448 L2352.76 686.448 L2352.76 47.2441 L237.705 47.2441  Z\" fill=\"#ffffff\" fill-rule=\"evenodd\" fill-opacity=\"1\"/>\n",
       "<defs>\n",
       "  <clipPath id=\"clip593\">\n",
       "    <rect x=\"237\" y=\"47\" width=\"2116\" height=\"640\"/>\n",
       "  </clipPath>\n",
       "</defs>\n",
       "<polyline clip-path=\"url(#clip593)\" style=\"stroke:#000000; stroke-linecap:round; stroke-linejoin:round; stroke-width:8; stroke-opacity:0.1; fill:none\" points=\"246.403,686.448 246.403,47.2441 \"/>\n",
       "<polyline clip-path=\"url(#clip593)\" style=\"stroke:#000000; stroke-linecap:round; stroke-linejoin:round; stroke-width:8; stroke-opacity:0.1; fill:none\" points=\"758.026,686.448 758.026,47.2441 \"/>\n",
       "<polyline clip-path=\"url(#clip593)\" style=\"stroke:#000000; stroke-linecap:round; stroke-linejoin:round; stroke-width:8; stroke-opacity:0.1; fill:none\" points=\"1269.65,686.448 1269.65,47.2441 \"/>\n",
       "<polyline clip-path=\"url(#clip593)\" style=\"stroke:#000000; stroke-linecap:round; stroke-linejoin:round; stroke-width:8; stroke-opacity:0.1; fill:none\" points=\"1781.27,686.448 1781.27,47.2441 \"/>\n",
       "<polyline clip-path=\"url(#clip593)\" style=\"stroke:#000000; stroke-linecap:round; stroke-linejoin:round; stroke-width:8; stroke-opacity:0.1; fill:none\" points=\"2292.9,686.448 2292.9,47.2441 \"/>\n",
       "<polyline clip-path=\"url(#clip590)\" style=\"stroke:#000000; stroke-linecap:round; stroke-linejoin:round; stroke-width:4; stroke-opacity:1; fill:none\" points=\"237.705,686.448 2352.76,686.448 \"/>\n",
       "<polyline clip-path=\"url(#clip590)\" style=\"stroke:#000000; stroke-linecap:round; stroke-linejoin:round; stroke-width:4; stroke-opacity:1; fill:none\" points=\"246.403,686.448 246.403,667.55 \"/>\n",
       "<polyline clip-path=\"url(#clip590)\" style=\"stroke:#000000; stroke-linecap:round; stroke-linejoin:round; stroke-width:4; stroke-opacity:1; fill:none\" points=\"758.026,686.448 758.026,667.55 \"/>\n",
       "<polyline clip-path=\"url(#clip590)\" style=\"stroke:#000000; stroke-linecap:round; stroke-linejoin:round; stroke-width:4; stroke-opacity:1; fill:none\" points=\"1269.65,686.448 1269.65,667.55 \"/>\n",
       "<polyline clip-path=\"url(#clip590)\" style=\"stroke:#000000; stroke-linecap:round; stroke-linejoin:round; stroke-width:4; stroke-opacity:1; fill:none\" points=\"1781.27,686.448 1781.27,667.55 \"/>\n",
       "<polyline clip-path=\"url(#clip590)\" style=\"stroke:#000000; stroke-linecap:round; stroke-linejoin:round; stroke-width:4; stroke-opacity:1; fill:none\" points=\"2292.9,686.448 2292.9,667.55 \"/>\n",
       "<path clip-path=\"url(#clip590)\" d=\"M246.403 717.367 Q242.792 717.367 240.963 720.931 Q239.158 724.473 239.158 731.603 Q239.158 738.709 240.963 742.274 Q242.792 745.815 246.403 745.815 Q250.037 745.815 251.843 742.274 Q253.672 738.709 253.672 731.603 Q253.672 724.473 251.843 720.931 Q250.037 717.367 246.403 717.367 M246.403 713.663 Q252.213 713.663 255.269 718.269 Q258.347 722.853 258.347 731.603 Q258.347 740.329 255.269 744.936 Q252.213 749.519 246.403 749.519 Q240.593 749.519 237.514 744.936 Q234.459 740.329 234.459 731.603 Q234.459 722.853 237.514 718.269 Q240.593 713.663 246.403 713.663 Z\" fill=\"#000000\" fill-rule=\"evenodd\" fill-opacity=\"1\" /><path clip-path=\"url(#clip590)\" d=\"M732.714 744.913 L740.353 744.913 L740.353 718.547 L732.043 720.214 L732.043 715.955 L740.306 714.288 L744.982 714.288 L744.982 744.913 L752.621 744.913 L752.621 748.848 L732.714 748.848 L732.714 744.913 Z\" fill=\"#000000\" fill-rule=\"evenodd\" fill-opacity=\"1\" /><path clip-path=\"url(#clip590)\" d=\"M772.066 717.367 Q768.454 717.367 766.626 720.931 Q764.82 724.473 764.82 731.603 Q764.82 738.709 766.626 742.274 Q768.454 745.815 772.066 745.815 Q775.7 745.815 777.505 742.274 Q779.334 738.709 779.334 731.603 Q779.334 724.473 777.505 720.931 Q775.7 717.367 772.066 717.367 M772.066 713.663 Q777.876 713.663 780.931 718.269 Q784.01 722.853 784.01 731.603 Q784.01 740.329 780.931 744.936 Q777.876 749.519 772.066 749.519 Q766.255 749.519 763.177 744.936 Q760.121 740.329 760.121 731.603 Q760.121 722.853 763.177 718.269 Q766.255 713.663 772.066 713.663 Z\" fill=\"#000000\" fill-rule=\"evenodd\" fill-opacity=\"1\" /><path clip-path=\"url(#clip590)\" d=\"M1248.42 744.913 L1264.74 744.913 L1264.74 748.848 L1242.8 748.848 L1242.8 744.913 Q1245.46 742.158 1250.04 737.528 Q1254.65 732.876 1255.83 731.533 Q1258.08 729.01 1258.96 727.274 Q1259.86 725.515 1259.86 723.825 Q1259.86 721.07 1257.91 719.334 Q1255.99 717.598 1252.89 717.598 Q1250.69 717.598 1248.24 718.362 Q1245.81 719.126 1243.03 720.677 L1243.03 715.955 Q1245.85 714.82 1248.31 714.242 Q1250.76 713.663 1252.8 713.663 Q1258.17 713.663 1261.36 716.348 Q1264.56 719.033 1264.56 723.524 Q1264.56 725.654 1263.75 727.575 Q1262.96 729.473 1260.85 732.066 Q1260.27 732.737 1257.17 735.954 Q1254.07 739.149 1248.42 744.913 Z\" fill=\"#000000\" fill-rule=\"evenodd\" fill-opacity=\"1\" /><path clip-path=\"url(#clip590)\" d=\"M1284.56 717.367 Q1280.95 717.367 1279.12 720.931 Q1277.31 724.473 1277.31 731.603 Q1277.31 738.709 1279.12 742.274 Q1280.95 745.815 1284.56 745.815 Q1288.19 745.815 1290 742.274 Q1291.83 738.709 1291.83 731.603 Q1291.83 724.473 1290 720.931 Q1288.19 717.367 1284.56 717.367 M1284.56 713.663 Q1290.37 713.663 1293.42 718.269 Q1296.5 722.853 1296.5 731.603 Q1296.5 740.329 1293.42 744.936 Q1290.37 749.519 1284.56 749.519 Q1278.75 749.519 1275.67 744.936 Q1272.61 740.329 1272.61 731.603 Q1272.61 722.853 1275.67 718.269 Q1278.75 713.663 1284.56 713.663 Z\" fill=\"#000000\" fill-rule=\"evenodd\" fill-opacity=\"1\" /><path clip-path=\"url(#clip590)\" d=\"M1770.12 730.214 Q1773.47 730.931 1775.35 733.2 Q1777.24 735.468 1777.24 738.802 Q1777.24 743.917 1773.73 746.718 Q1770.21 749.519 1763.73 749.519 Q1761.55 749.519 1759.24 749.079 Q1756.94 748.663 1754.49 747.806 L1754.49 743.292 Q1756.43 744.427 1758.75 745.005 Q1761.06 745.584 1763.59 745.584 Q1767.99 745.584 1770.28 743.848 Q1772.59 742.112 1772.59 738.802 Q1772.59 735.746 1770.44 734.033 Q1768.31 732.297 1764.49 732.297 L1760.46 732.297 L1760.46 728.454 L1764.68 728.454 Q1768.12 728.454 1769.95 727.089 Q1771.78 725.7 1771.78 723.107 Q1771.78 720.445 1769.88 719.033 Q1768.01 717.598 1764.49 717.598 Q1762.57 717.598 1760.37 718.015 Q1758.17 718.431 1755.53 719.311 L1755.53 715.144 Q1758.19 714.404 1760.51 714.033 Q1762.85 713.663 1764.91 713.663 Q1770.23 713.663 1773.33 716.093 Q1776.43 718.501 1776.43 722.621 Q1776.43 725.492 1774.79 727.482 Q1773.15 729.45 1770.12 730.214 Z\" fill=\"#000000\" fill-rule=\"evenodd\" fill-opacity=\"1\" /><path clip-path=\"url(#clip590)\" d=\"M1796.11 717.367 Q1792.5 717.367 1790.67 720.931 Q1788.87 724.473 1788.87 731.603 Q1788.87 738.709 1790.67 742.274 Q1792.5 745.815 1796.11 745.815 Q1799.74 745.815 1801.55 742.274 Q1803.38 738.709 1803.38 731.603 Q1803.38 724.473 1801.55 720.931 Q1799.74 717.367 1796.11 717.367 M1796.11 713.663 Q1801.92 713.663 1804.98 718.269 Q1808.06 722.853 1808.06 731.603 Q1808.06 740.329 1804.98 744.936 Q1801.92 749.519 1796.11 749.519 Q1790.3 749.519 1787.22 744.936 Q1784.17 740.329 1784.17 731.603 Q1784.17 722.853 1787.22 718.269 Q1790.3 713.663 1796.11 713.663 Z\" fill=\"#000000\" fill-rule=\"evenodd\" fill-opacity=\"1\" /><path clip-path=\"url(#clip590)\" d=\"M2281.07 718.362 L2269.26 736.811 L2281.07 736.811 L2281.07 718.362 M2279.84 714.288 L2285.72 714.288 L2285.72 736.811 L2290.65 736.811 L2290.65 740.7 L2285.72 740.7 L2285.72 748.848 L2281.07 748.848 L2281.07 740.7 L2265.47 740.7 L2265.47 736.186 L2279.84 714.288 Z\" fill=\"#000000\" fill-rule=\"evenodd\" fill-opacity=\"1\" /><path clip-path=\"url(#clip590)\" d=\"M2308.38 717.367 Q2304.77 717.367 2302.94 720.931 Q2301.14 724.473 2301.14 731.603 Q2301.14 738.709 2302.94 742.274 Q2304.77 745.815 2308.38 745.815 Q2312.02 745.815 2313.82 742.274 Q2315.65 738.709 2315.65 731.603 Q2315.65 724.473 2313.82 720.931 Q2312.02 717.367 2308.38 717.367 M2308.38 713.663 Q2314.19 713.663 2317.25 718.269 Q2320.33 722.853 2320.33 731.603 Q2320.33 740.329 2317.25 744.936 Q2314.19 749.519 2308.38 749.519 Q2302.57 749.519 2299.49 744.936 Q2296.44 740.329 2296.44 731.603 Q2296.44 722.853 2299.49 718.269 Q2302.57 713.663 2308.38 713.663 Z\" fill=\"#000000\" fill-rule=\"evenodd\" fill-opacity=\"1\" /><polyline clip-path=\"url(#clip593)\" style=\"stroke:#000000; stroke-linecap:round; stroke-linejoin:round; stroke-width:8; stroke-opacity:0.1; fill:none\" points=\"237.705,668.357 2352.76,668.357 \"/>\n",
       "<polyline clip-path=\"url(#clip593)\" style=\"stroke:#000000; stroke-linecap:round; stroke-linejoin:round; stroke-width:8; stroke-opacity:0.1; fill:none\" points=\"237.705,490.998 2352.76,490.998 \"/>\n",
       "<polyline clip-path=\"url(#clip593)\" style=\"stroke:#000000; stroke-linecap:round; stroke-linejoin:round; stroke-width:8; stroke-opacity:0.1; fill:none\" points=\"237.705,313.638 2352.76,313.638 \"/>\n",
       "<polyline clip-path=\"url(#clip593)\" style=\"stroke:#000000; stroke-linecap:round; stroke-linejoin:round; stroke-width:8; stroke-opacity:0.1; fill:none\" points=\"237.705,136.279 2352.76,136.279 \"/>\n",
       "<polyline clip-path=\"url(#clip590)\" style=\"stroke:#000000; stroke-linecap:round; stroke-linejoin:round; stroke-width:4; stroke-opacity:1; fill:none\" points=\"237.705,686.448 237.705,47.2441 \"/>\n",
       "<polyline clip-path=\"url(#clip590)\" style=\"stroke:#000000; stroke-linecap:round; stroke-linejoin:round; stroke-width:4; stroke-opacity:1; fill:none\" points=\"237.705,668.357 256.603,668.357 \"/>\n",
       "<polyline clip-path=\"url(#clip590)\" style=\"stroke:#000000; stroke-linecap:round; stroke-linejoin:round; stroke-width:4; stroke-opacity:1; fill:none\" points=\"237.705,490.998 256.603,490.998 \"/>\n",
       "<polyline clip-path=\"url(#clip590)\" style=\"stroke:#000000; stroke-linecap:round; stroke-linejoin:round; stroke-width:4; stroke-opacity:1; fill:none\" points=\"237.705,313.638 256.603,313.638 \"/>\n",
       "<polyline clip-path=\"url(#clip590)\" style=\"stroke:#000000; stroke-linecap:round; stroke-linejoin:round; stroke-width:4; stroke-opacity:1; fill:none\" points=\"237.705,136.279 256.603,136.279 \"/>\n",
       "<path clip-path=\"url(#clip590)\" d=\"M189.761 654.156 Q186.15 654.156 184.321 657.721 Q182.516 661.262 182.516 668.392 Q182.516 675.498 184.321 679.063 Q186.15 682.605 189.761 682.605 Q193.395 682.605 195.201 679.063 Q197.03 675.498 197.03 668.392 Q197.03 661.262 195.201 657.721 Q193.395 654.156 189.761 654.156 M189.761 650.452 Q195.571 650.452 198.627 655.059 Q201.705 659.642 201.705 668.392 Q201.705 677.119 198.627 681.725 Q195.571 686.308 189.761 686.308 Q183.951 686.308 180.872 681.725 Q177.817 677.119 177.817 668.392 Q177.817 659.642 180.872 655.059 Q183.951 650.452 189.761 650.452 Z\" fill=\"#000000\" fill-rule=\"evenodd\" fill-opacity=\"1\" /><path clip-path=\"url(#clip590)\" d=\"M120.248 504.342 L127.886 504.342 L127.886 477.977 L119.576 479.644 L119.576 475.384 L127.84 473.718 L132.516 473.718 L132.516 504.342 L140.155 504.342 L140.155 508.278 L120.248 508.278 L120.248 504.342 Z\" fill=\"#000000\" fill-rule=\"evenodd\" fill-opacity=\"1\" /><path clip-path=\"url(#clip590)\" d=\"M159.599 476.796 Q155.988 476.796 154.159 480.361 Q152.354 483.903 152.354 491.032 Q152.354 498.139 154.159 501.704 Q155.988 505.245 159.599 505.245 Q163.233 505.245 165.039 501.704 Q166.868 498.139 166.868 491.032 Q166.868 483.903 165.039 480.361 Q163.233 476.796 159.599 476.796 M159.599 473.093 Q165.409 473.093 168.465 477.699 Q171.544 482.282 171.544 491.032 Q171.544 499.759 168.465 504.366 Q165.409 508.949 159.599 508.949 Q153.789 508.949 150.71 504.366 Q147.655 499.759 147.655 491.032 Q147.655 482.282 150.71 477.699 Q153.789 473.093 159.599 473.093 Z\" fill=\"#000000\" fill-rule=\"evenodd\" fill-opacity=\"1\" /><path clip-path=\"url(#clip590)\" d=\"M189.761 476.796 Q186.15 476.796 184.321 480.361 Q182.516 483.903 182.516 491.032 Q182.516 498.139 184.321 501.704 Q186.15 505.245 189.761 505.245 Q193.395 505.245 195.201 501.704 Q197.03 498.139 197.03 491.032 Q197.03 483.903 195.201 480.361 Q193.395 476.796 189.761 476.796 M189.761 473.093 Q195.571 473.093 198.627 477.699 Q201.705 482.282 201.705 491.032 Q201.705 499.759 198.627 504.366 Q195.571 508.949 189.761 508.949 Q183.951 508.949 180.872 504.366 Q177.817 499.759 177.817 491.032 Q177.817 482.282 180.872 477.699 Q183.951 473.093 189.761 473.093 Z\" fill=\"#000000\" fill-rule=\"evenodd\" fill-opacity=\"1\" /><path clip-path=\"url(#clip590)\" d=\"M123.465 326.983 L139.784 326.983 L139.784 330.918 L117.84 330.918 L117.84 326.983 Q120.502 324.228 125.085 319.599 Q129.692 314.946 130.872 313.603 Q133.118 311.08 133.997 309.344 Q134.9 307.585 134.9 305.895 Q134.9 303.14 132.956 301.404 Q131.035 299.668 127.933 299.668 Q125.734 299.668 123.28 300.432 Q120.849 301.196 118.072 302.747 L118.072 298.025 Q120.896 296.891 123.349 296.312 Q125.803 295.733 127.84 295.733 Q133.21 295.733 136.405 298.418 Q139.599 301.103 139.599 305.594 Q139.599 307.724 138.789 309.645 Q138.002 311.543 135.896 314.136 Q135.317 314.807 132.215 318.025 Q129.113 321.219 123.465 326.983 Z\" fill=\"#000000\" fill-rule=\"evenodd\" fill-opacity=\"1\" /><path clip-path=\"url(#clip590)\" d=\"M159.599 299.437 Q155.988 299.437 154.159 303.002 Q152.354 306.543 152.354 313.673 Q152.354 320.779 154.159 324.344 Q155.988 327.886 159.599 327.886 Q163.233 327.886 165.039 324.344 Q166.868 320.779 166.868 313.673 Q166.868 306.543 165.039 303.002 Q163.233 299.437 159.599 299.437 M159.599 295.733 Q165.409 295.733 168.465 300.34 Q171.544 304.923 171.544 313.673 Q171.544 322.4 168.465 327.006 Q165.409 331.589 159.599 331.589 Q153.789 331.589 150.71 327.006 Q147.655 322.4 147.655 313.673 Q147.655 304.923 150.71 300.34 Q153.789 295.733 159.599 295.733 Z\" fill=\"#000000\" fill-rule=\"evenodd\" fill-opacity=\"1\" /><path clip-path=\"url(#clip590)\" d=\"M189.761 299.437 Q186.15 299.437 184.321 303.002 Q182.516 306.543 182.516 313.673 Q182.516 320.779 184.321 324.344 Q186.15 327.886 189.761 327.886 Q193.395 327.886 195.201 324.344 Q197.03 320.779 197.03 313.673 Q197.03 306.543 195.201 303.002 Q193.395 299.437 189.761 299.437 M189.761 295.733 Q195.571 295.733 198.627 300.34 Q201.705 304.923 201.705 313.673 Q201.705 322.4 198.627 327.006 Q195.571 331.589 189.761 331.589 Q183.951 331.589 180.872 327.006 Q177.817 322.4 177.817 313.673 Q177.817 304.923 180.872 300.34 Q183.951 295.733 189.761 295.733 Z\" fill=\"#000000\" fill-rule=\"evenodd\" fill-opacity=\"1\" /><path clip-path=\"url(#clip590)\" d=\"M133.604 134.924 Q136.96 135.642 138.835 137.911 Q140.734 140.179 140.734 143.512 Q140.734 148.628 137.215 151.429 Q133.697 154.23 127.215 154.23 Q125.039 154.23 122.724 153.79 Q120.433 153.373 117.979 152.517 L117.979 148.003 Q119.923 149.137 122.238 149.716 Q124.553 150.295 127.076 150.295 Q131.474 150.295 133.766 148.559 Q136.081 146.823 136.081 143.512 Q136.081 140.457 133.928 138.744 Q131.798 137.008 127.979 137.008 L123.951 137.008 L123.951 133.165 L128.164 133.165 Q131.613 133.165 133.442 131.799 Q135.271 130.411 135.271 127.818 Q135.271 125.156 133.372 123.744 Q131.497 122.309 127.979 122.309 Q126.058 122.309 123.859 122.725 Q121.66 123.142 119.021 124.022 L119.021 119.855 Q121.683 119.114 123.998 118.744 Q126.335 118.374 128.396 118.374 Q133.72 118.374 136.822 120.804 Q139.923 123.212 139.923 127.332 Q139.923 130.202 138.28 132.193 Q136.636 134.161 133.604 134.924 Z\" fill=\"#000000\" fill-rule=\"evenodd\" fill-opacity=\"1\" /><path clip-path=\"url(#clip590)\" d=\"M159.599 122.077 Q155.988 122.077 154.159 125.642 Q152.354 129.184 152.354 136.313 Q152.354 143.42 154.159 146.985 Q155.988 150.526 159.599 150.526 Q163.233 150.526 165.039 146.985 Q166.868 143.42 166.868 136.313 Q166.868 129.184 165.039 125.642 Q163.233 122.077 159.599 122.077 M159.599 118.374 Q165.409 118.374 168.465 122.98 Q171.544 127.563 171.544 136.313 Q171.544 145.04 168.465 149.647 Q165.409 154.23 159.599 154.23 Q153.789 154.23 150.71 149.647 Q147.655 145.04 147.655 136.313 Q147.655 127.563 150.71 122.98 Q153.789 118.374 159.599 118.374 Z\" fill=\"#000000\" fill-rule=\"evenodd\" fill-opacity=\"1\" /><path clip-path=\"url(#clip590)\" d=\"M189.761 122.077 Q186.15 122.077 184.321 125.642 Q182.516 129.184 182.516 136.313 Q182.516 143.42 184.321 146.985 Q186.15 150.526 189.761 150.526 Q193.395 150.526 195.201 146.985 Q197.03 143.42 197.03 136.313 Q197.03 129.184 195.201 125.642 Q193.395 122.077 189.761 122.077 M189.761 118.374 Q195.571 118.374 198.627 122.98 Q201.705 127.563 201.705 136.313 Q201.705 145.04 198.627 149.647 Q195.571 154.23 189.761 154.23 Q183.951 154.23 180.872 149.647 Q177.817 145.04 177.817 136.313 Q177.817 127.563 180.872 122.98 Q183.951 118.374 189.761 118.374 Z\" fill=\"#000000\" fill-rule=\"evenodd\" fill-opacity=\"1\" /><path clip-path=\"url(#clip590)\" d=\"M17.9264 419.915 Q18.5383 419.915 19.0536 420.044 L30.5189 421.847 Q31.3884 421.944 31.7105 422.137 Q32.0325 422.298 32.0325 422.814 Q32.0325 423.619 31.1952 423.619 Q30.7121 423.619 29.9391 423.426 Q26.2999 422.878 24.6574 422.878 Q23.5624 422.878 22.7572 423.103 Q21.9199 423.297 21.3402 423.619 Q20.7605 423.909 20.374 424.585 Q19.9875 425.261 19.7621 425.905 Q19.5367 426.549 19.44 427.709 Q19.3112 428.868 19.279 429.867 Q19.2468 430.865 19.2468 432.508 Q19.2468 436.082 19.3756 436.662 Q19.5367 437.274 20.0197 437.596 Q20.4706 437.886 21.8233 438.208 L56.831 446.968 L58.2159 447.226 Q58.9888 447.226 59.2465 446.743 Q59.5041 446.259 59.6652 444.778 Q59.8262 442.652 59.8262 440.559 Q59.8262 440.495 59.8262 440.366 Q59.8262 439.657 59.8584 439.367 Q59.8584 439.078 59.9228 438.788 Q59.9872 438.498 60.1482 438.433 Q60.2771 438.337 60.5347 438.337 Q61.1466 438.337 61.4687 438.594 Q61.7585 438.852 61.823 439.11 Q61.8552 439.335 61.8552 439.786 Q61.8552 440.688 61.7907 442.62 Q61.7263 444.553 61.7263 445.519 L61.6619 450.994 L61.7263 456.598 Q61.7263 457.467 61.7907 459.303 Q61.8552 461.139 61.8552 462.008 Q61.8552 463.135 61.05 463.135 Q60.1482 463.135 59.9872 462.717 Q59.8262 462.266 59.8262 460.366 Q59.8262 457.693 59.6974 456.243 Q59.5685 454.794 59.1177 454.021 Q58.6668 453.216 58.2159 452.99 Q57.7328 452.765 56.6378 452.507 L21.4368 443.651 Q20.6639 443.393 20.0519 443.393 Q19.7299 443.393 19.6011 443.49 Q19.4722 443.554 19.3756 443.973 Q19.2468 444.392 19.2468 445.261 L19.2468 447.838 Q19.2468 450.478 19.3756 452.121 Q19.4722 453.731 19.9553 455.277 Q20.4384 456.791 21.1147 457.693 Q21.7911 458.562 23.1759 459.528 Q24.5608 460.494 26.2355 461.203 Q27.9102 461.879 30.6477 462.845 Q31.5494 463.168 31.8071 463.361 Q32.0325 463.522 32.0325 463.973 Q32.0325 464.295 31.8393 464.552 Q31.6139 464.778 31.324 464.778 Q30.2612 464.456 30.1324 464.391 L18.5061 460.43 Q17.5721 460.108 17.4111 459.818 Q17.2178 459.496 17.2178 458.304 L17.2178 421.719 Q17.2178 421.139 17.2178 420.946 Q17.2178 420.752 17.2822 420.43 Q17.3467 420.108 17.5077 420.012 Q17.6687 419.915 17.9264 419.915 Z\" fill=\"#000000\" fill-rule=\"evenodd\" fill-opacity=\"1\" /><path clip-path=\"url(#clip590)\" d=\"M51.2753 394.379 Q52.1996 394.379 52.9661 395.168 Q53.7326 395.957 53.7326 396.881 Q53.7326 397.648 53.2591 398.121 Q52.7857 398.572 52.0643 398.572 Q51.0724 398.572 50.351 397.783 Q49.607 396.994 49.607 396.137 Q49.607 395.348 50.103 394.875 Q50.5764 394.379 51.2753 394.379 M63.9676 396.092 Q64.7566 396.092 65.681 396.318 L82.589 400.556 Q84.2347 400.962 85.5874 401.931 Q86.9626 402.901 87.8193 404.141 Q88.6759 405.358 89.1268 406.688 Q89.6002 407.996 89.6002 409.235 Q89.6002 410.971 88.8337 412.144 Q88.0672 413.316 86.7371 413.316 Q85.5648 413.316 84.8209 412.549 Q84.0995 411.76 84.0995 410.814 Q84.0995 409.957 84.5955 409.506 Q85.0914 409.055 85.7227 409.055 Q86.4892 409.055 87.2106 409.619 Q87.932 410.16 88.1574 411.129 Q88.5858 410.25 88.5858 409.326 Q88.5858 407.432 86.8499 405.899 Q85.1365 404.343 82.4312 403.667 L65.2075 399.316 Q63.8323 399 62.8629 399 Q61.9612 399 61.4652 399.248 Q60.9692 399.496 60.8565 399.789 Q60.7438 400.06 60.7438 400.466 Q60.7438 402.247 62.3895 403.78 Q64.0127 405.313 66.3798 406.282 Q67.0336 406.553 67.1689 406.688 Q67.3041 406.801 67.3041 407.116 Q67.2816 407.68 66.8307 407.68 Q66.6954 407.68 66.1544 407.454 Q65.6133 407.229 64.8243 406.823 Q64.0127 406.417 63.1335 405.764 Q62.2542 405.11 61.4877 404.343 Q60.7212 403.554 60.2253 402.495 Q59.7293 401.435 59.7293 400.331 Q59.7293 398.55 60.9016 397.332 Q62.0513 396.092 63.9676 396.092 Z\" fill=\"#000000\" fill-rule=\"evenodd\" fill-opacity=\"1\" /><path clip-path=\"url(#clip590)\" d=\"M53.7777 387.655 L52.3348 387.655 Q52.3348 382.109 49.3816 379.246 Q49.3816 378.457 49.5619 378.322 Q49.7423 378.187 50.5764 378.187 L76.4796 378.187 Q77.8548 378.187 78.2831 377.51 Q78.7114 376.834 78.7114 373.881 L78.7114 372.415 L80.1317 372.415 Q79.9965 374.038 79.9965 379.9 Q79.9965 385.761 80.1317 387.362 L78.7114 387.362 L78.7114 385.897 Q78.7114 382.988 78.3056 382.29 Q77.8773 381.591 76.4796 381.591 L52.5603 381.591 Q53.7777 384.003 53.7777 387.655 Z\" fill=\"#000000\" fill-rule=\"evenodd\" fill-opacity=\"1\" /><path clip-path=\"url(#clip590)\" d=\"M78.3446 357.75 L12.387 357.75 L12.387 347.799 L13.9006 347.799 L13.9006 353.338 L76.8309 353.338 L76.8309 347.799 L78.3446 347.799 L78.3446 357.75 Z\" fill=\"#000000\" fill-rule=\"evenodd\" fill-opacity=\"1\" /><path clip-path=\"url(#clip590)\" d=\"M17.5399 289.273 Q17.9586 289.273 18.2484 289.37 Q18.5061 289.466 18.6349 289.692 Q18.7637 289.917 18.7959 290.046 Q18.8281 290.175 18.8603 290.465 Q18.9892 291.85 19.2146 292.816 Q19.44 293.75 20.5994 296.069 Q21.7589 298.355 23.8522 301.222 L32.7733 312.751 L34.2869 314.684 Q34.3836 314.684 34.5768 314.619 Q34.7378 314.555 34.9633 314.49 Q35.1565 314.394 35.2209 314.362 L56.831 304.99 Q58.5702 304.249 59.1821 303.347 Q59.794 302.445 59.8262 300.416 Q59.8262 300.094 59.8584 299.966 Q59.8584 299.804 59.9228 299.579 Q59.955 299.321 60.116 299.225 Q60.2771 299.096 60.5347 299.096 Q61.8552 299.096 61.8552 300.288 Q61.8552 301.028 61.7585 303.54 Q61.6619 306.052 61.6619 306.761 Q61.6619 308.081 61.7585 310.787 Q61.8552 313.492 61.8552 314.812 Q61.8552 315.746 61.1144 315.746 Q60.5025 315.746 60.2127 315.521 Q59.8906 315.263 59.8584 315.038 Q59.8262 314.812 59.8262 314.297 Q59.8262 313.911 59.794 313.492 Q59.7296 313.041 59.5685 312.397 Q59.3753 311.721 58.9244 311.302 Q58.4413 310.851 57.765 310.851 Q57.2175 310.851 55.4462 311.656 L37.7008 319.289 L45.3658 329.112 L55.736 331.753 Q56.1225 331.817 56.7988 331.978 Q57.4752 332.139 57.9582 332.268 Q58.4413 332.365 58.6346 332.365 Q59.0532 332.365 59.3109 332.107 Q59.5685 331.817 59.6974 331.109 Q59.794 330.4 59.8262 329.853 Q59.8262 329.273 59.8262 328.081 Q59.8262 326.6 60.0838 326.342 Q60.2449 326.213 60.5347 326.213 Q60.9856 326.213 61.3077 326.342 Q61.5975 326.471 61.6941 326.729 Q61.7907 326.954 61.823 327.115 Q61.8552 327.276 61.8552 327.534 Q61.8552 328.21 61.7907 329.659 Q61.7263 331.076 61.7263 331.817 L61.6619 336.036 L61.8552 344.41 Q61.8552 345.408 61.05 345.408 Q60.4381 345.408 60.1805 345.15 Q59.8906 344.893 59.8584 344.603 Q59.8262 344.313 59.8262 343.572 Q59.8262 341.962 59.7296 340.996 Q59.633 340.03 59.5041 339.418 Q59.3431 338.774 58.8922 338.452 Q58.4413 338.097 58.0549 337.936 Q57.6362 337.775 56.7022 337.55 L21.2758 328.725 Q20.213 328.468 20.0519 328.468 Q19.5044 328.468 19.3112 328.79 Q19.0858 329.08 18.9892 329.917 Q18.8603 331.527 18.8603 332.751 Q18.8603 333.556 18.8281 333.878 Q18.7959 334.168 18.6349 334.426 Q18.4417 334.651 18.0552 334.651 Q16.7992 334.651 16.7992 333.331 L16.9924 324.828 L16.7992 316.39 Q16.7992 315.457 17.5399 315.457 Q18.4739 315.457 18.6671 315.907 Q18.8603 316.326 18.8603 317.711 Q18.8603 320.126 19.1824 321.221 Q19.4722 322.284 19.9875 322.606 Q20.4706 322.896 21.8877 323.25 L43.0469 328.532 L23.2725 302.8 Q21.2758 300.416 20.2452 300.416 Q19.5689 300.416 19.279 300.899 Q18.957 301.35 18.8603 302.478 Q18.7315 303.283 18.1196 303.283 Q17.5077 303.283 17.2178 303.057 Q16.8958 302.8 16.8636 302.606 Q16.7992 302.381 16.7992 302.027 Q16.7992 300.835 16.8958 298.355 Q16.9924 295.875 16.9924 294.684 Q16.9924 293.879 16.8958 292.301 Q16.7992 290.722 16.7992 290.014 Q16.7992 289.66 17.0568 289.466 Q17.2822 289.273 17.5399 289.273 Z\" fill=\"#000000\" fill-rule=\"evenodd\" fill-opacity=\"1\" /><path clip-path=\"url(#clip590)\" d=\"M76.8309 287.064 L76.8309 281.525 L13.9006 281.525 L13.9006 287.064 L12.387 287.064 L12.387 277.113 L78.3446 277.113 L78.3446 287.064 L76.8309 287.064 Z\" fill=\"#000000\" fill-rule=\"evenodd\" fill-opacity=\"1\" /><polyline clip-path=\"url(#clip593)\" style=\"stroke:#000000; stroke-linecap:round; stroke-linejoin:round; stroke-width:4; stroke-opacity:1; fill:none\" stroke-dasharray=\"2, 4\" points=\"297.565,65.3348 348.728,65.3348 399.89,65.3348 451.052,65.3348 502.215,65.3348 553.377,65.3348 604.539,65.3348 655.702,65.3348 706.864,65.3348 758.026,65.3348 809.189,65.3348 860.351,65.3348 911.513,65.3348 962.676,65.3348 1013.84,65.3348 1065,65.3348 1116.16,65.3348 1167.32,65.3348 1218.49,65.3348 1269.65,65.3348 1320.81,65.3348 1371.97,65.3348 1423.14,65.3348 1474.3,65.3348 1525.46,65.3348 1576.62,65.3348 1627.79,65.3348 1678.95,65.3348 1730.11,65.3348 1781.27,65.3348 1832.44,65.3348 1883.6,65.3348 1934.76,65.3348 1985.92,65.3348 2037.08,65.3348 2088.25,65.3348 2139.41,65.3348 2190.57,65.3348 2241.73,65.3348 2292.9,65.3348 \"/>\n",
       "<polyline clip-path=\"url(#clip593)\" style=\"stroke:#ff0000; stroke-linecap:round; stroke-linejoin:round; stroke-width:12; stroke-opacity:0.3; fill:none\" points=\"297.565,106.68 348.728,105.497 399.89,103.174 451.052,101.061 502.215,99.1984 553.377,97.5499 604.539,96.0855 655.702,95.1209 706.864,94.497 758.026,94.0649 809.189,93.8071 860.351,93.8614 911.513,93.9366 962.676,93.9158 1013.84,93.8571 1065,93.7937 1116.16,93.8008 1167.32,93.8031 1218.49,93.7736 1269.65,93.8078 1320.81,93.8225 1371.97,93.791 1423.14,93.7458 1474.3,93.7807 1525.46,93.8076 1576.62,93.7845 1627.79,93.741 1678.95,93.7786 1730.11,93.8075 1781.27,93.7833 1832.44,93.7371 1883.6,93.7781 1934.76,93.8081 1985.92,93.7816 2037.08,93.7327 2088.25,93.7738 2139.41,93.7965 2190.57,93.7641 2241.73,93.7149 2292.9,93.7934 \"/>\n",
       "<polyline clip-path=\"url(#clip593)\" style=\"stroke:#0000ff; stroke-linecap:round; stroke-linejoin:round; stroke-width:12; stroke-opacity:0.3; fill:none\" points=\"297.565,668.357 348.728,668.357 399.89,668.357 451.052,668.357 502.215,668.357 553.377,668.357 604.539,668.357 655.702,668.357 706.864,668.357 758.026,668.357 809.189,668.357 860.351,668.357 911.513,668.357 962.676,668.357 1013.84,668.357 1065,668.357 1116.16,668.357 1167.32,668.357 1218.49,668.357 1269.65,668.357 1320.81,668.357 1371.97,668.357 1423.14,668.357 1474.3,668.357 1525.46,668.357 1576.62,668.357 1627.79,668.357 1678.95,668.357 1730.11,668.357 1781.27,668.357 1832.44,668.357 1883.6,668.357 1934.76,668.357 1985.92,668.357 2037.08,668.357 2088.25,668.357 2139.41,668.357 2190.57,668.357 2241.73,668.357 2292.9,668.357 \"/>\n",
       "<path clip-path=\"url(#clip590)\" d=\"M237.705 1486.45 L2352.76 1486.45 L2352.76 847.244 L237.705 847.244  Z\" fill=\"#ffffff\" fill-rule=\"evenodd\" fill-opacity=\"1\"/>\n",
       "<defs>\n",
       "  <clipPath id=\"clip594\">\n",
       "    <rect x=\"237\" y=\"847\" width=\"2116\" height=\"640\"/>\n",
       "  </clipPath>\n",
       "</defs>\n",
       "<polyline clip-path=\"url(#clip594)\" style=\"stroke:#000000; stroke-linecap:round; stroke-linejoin:round; stroke-width:8; stroke-opacity:0.1; fill:none\" points=\"246.403,1486.45 246.403,847.244 \"/>\n",
       "<polyline clip-path=\"url(#clip594)\" style=\"stroke:#000000; stroke-linecap:round; stroke-linejoin:round; stroke-width:8; stroke-opacity:0.1; fill:none\" points=\"758.026,1486.45 758.026,847.244 \"/>\n",
       "<polyline clip-path=\"url(#clip594)\" style=\"stroke:#000000; stroke-linecap:round; stroke-linejoin:round; stroke-width:8; stroke-opacity:0.1; fill:none\" points=\"1269.65,1486.45 1269.65,847.244 \"/>\n",
       "<polyline clip-path=\"url(#clip594)\" style=\"stroke:#000000; stroke-linecap:round; stroke-linejoin:round; stroke-width:8; stroke-opacity:0.1; fill:none\" points=\"1781.27,1486.45 1781.27,847.244 \"/>\n",
       "<polyline clip-path=\"url(#clip594)\" style=\"stroke:#000000; stroke-linecap:round; stroke-linejoin:round; stroke-width:8; stroke-opacity:0.1; fill:none\" points=\"2292.9,1486.45 2292.9,847.244 \"/>\n",
       "<polyline clip-path=\"url(#clip590)\" style=\"stroke:#000000; stroke-linecap:round; stroke-linejoin:round; stroke-width:4; stroke-opacity:1; fill:none\" points=\"237.705,1486.45 2352.76,1486.45 \"/>\n",
       "<polyline clip-path=\"url(#clip590)\" style=\"stroke:#000000; stroke-linecap:round; stroke-linejoin:round; stroke-width:4; stroke-opacity:1; fill:none\" points=\"246.403,1486.45 246.403,1467.55 \"/>\n",
       "<polyline clip-path=\"url(#clip590)\" style=\"stroke:#000000; stroke-linecap:round; stroke-linejoin:round; stroke-width:4; stroke-opacity:1; fill:none\" points=\"758.026,1486.45 758.026,1467.55 \"/>\n",
       "<polyline clip-path=\"url(#clip590)\" style=\"stroke:#000000; stroke-linecap:round; stroke-linejoin:round; stroke-width:4; stroke-opacity:1; fill:none\" points=\"1269.65,1486.45 1269.65,1467.55 \"/>\n",
       "<polyline clip-path=\"url(#clip590)\" style=\"stroke:#000000; stroke-linecap:round; stroke-linejoin:round; stroke-width:4; stroke-opacity:1; fill:none\" points=\"1781.27,1486.45 1781.27,1467.55 \"/>\n",
       "<polyline clip-path=\"url(#clip590)\" style=\"stroke:#000000; stroke-linecap:round; stroke-linejoin:round; stroke-width:4; stroke-opacity:1; fill:none\" points=\"2292.9,1486.45 2292.9,1467.55 \"/>\n",
       "<path clip-path=\"url(#clip590)\" d=\"M246.403 1517.37 Q242.792 1517.37 240.963 1520.93 Q239.158 1524.47 239.158 1531.6 Q239.158 1538.71 240.963 1542.27 Q242.792 1545.82 246.403 1545.82 Q250.037 1545.82 251.843 1542.27 Q253.672 1538.71 253.672 1531.6 Q253.672 1524.47 251.843 1520.93 Q250.037 1517.37 246.403 1517.37 M246.403 1513.66 Q252.213 1513.66 255.269 1518.27 Q258.347 1522.85 258.347 1531.6 Q258.347 1540.33 255.269 1544.94 Q252.213 1549.52 246.403 1549.52 Q240.593 1549.52 237.514 1544.94 Q234.459 1540.33 234.459 1531.6 Q234.459 1522.85 237.514 1518.27 Q240.593 1513.66 246.403 1513.66 Z\" fill=\"#000000\" fill-rule=\"evenodd\" fill-opacity=\"1\" /><path clip-path=\"url(#clip590)\" d=\"M732.714 1544.91 L740.353 1544.91 L740.353 1518.55 L732.043 1520.21 L732.043 1515.95 L740.306 1514.29 L744.982 1514.29 L744.982 1544.91 L752.621 1544.91 L752.621 1548.85 L732.714 1548.85 L732.714 1544.91 Z\" fill=\"#000000\" fill-rule=\"evenodd\" fill-opacity=\"1\" /><path clip-path=\"url(#clip590)\" d=\"M772.066 1517.37 Q768.454 1517.37 766.626 1520.93 Q764.82 1524.47 764.82 1531.6 Q764.82 1538.71 766.626 1542.27 Q768.454 1545.82 772.066 1545.82 Q775.7 1545.82 777.505 1542.27 Q779.334 1538.71 779.334 1531.6 Q779.334 1524.47 777.505 1520.93 Q775.7 1517.37 772.066 1517.37 M772.066 1513.66 Q777.876 1513.66 780.931 1518.27 Q784.01 1522.85 784.01 1531.6 Q784.01 1540.33 780.931 1544.94 Q777.876 1549.52 772.066 1549.52 Q766.255 1549.52 763.177 1544.94 Q760.121 1540.33 760.121 1531.6 Q760.121 1522.85 763.177 1518.27 Q766.255 1513.66 772.066 1513.66 Z\" fill=\"#000000\" fill-rule=\"evenodd\" fill-opacity=\"1\" /><path clip-path=\"url(#clip590)\" d=\"M1248.42 1544.91 L1264.74 1544.91 L1264.74 1548.85 L1242.8 1548.85 L1242.8 1544.91 Q1245.46 1542.16 1250.04 1537.53 Q1254.65 1532.88 1255.83 1531.53 Q1258.08 1529.01 1258.96 1527.27 Q1259.86 1525.51 1259.86 1523.82 Q1259.86 1521.07 1257.91 1519.33 Q1255.99 1517.6 1252.89 1517.6 Q1250.69 1517.6 1248.24 1518.36 Q1245.81 1519.13 1243.03 1520.68 L1243.03 1515.95 Q1245.85 1514.82 1248.31 1514.24 Q1250.76 1513.66 1252.8 1513.66 Q1258.17 1513.66 1261.36 1516.35 Q1264.56 1519.03 1264.56 1523.52 Q1264.56 1525.65 1263.75 1527.57 Q1262.96 1529.47 1260.85 1532.07 Q1260.27 1532.74 1257.17 1535.95 Q1254.07 1539.15 1248.42 1544.91 Z\" fill=\"#000000\" fill-rule=\"evenodd\" fill-opacity=\"1\" /><path clip-path=\"url(#clip590)\" d=\"M1284.56 1517.37 Q1280.95 1517.37 1279.12 1520.93 Q1277.31 1524.47 1277.31 1531.6 Q1277.31 1538.71 1279.12 1542.27 Q1280.95 1545.82 1284.56 1545.82 Q1288.19 1545.82 1290 1542.27 Q1291.83 1538.71 1291.83 1531.6 Q1291.83 1524.47 1290 1520.93 Q1288.19 1517.37 1284.56 1517.37 M1284.56 1513.66 Q1290.37 1513.66 1293.42 1518.27 Q1296.5 1522.85 1296.5 1531.6 Q1296.5 1540.33 1293.42 1544.94 Q1290.37 1549.52 1284.56 1549.52 Q1278.75 1549.52 1275.67 1544.94 Q1272.61 1540.33 1272.61 1531.6 Q1272.61 1522.85 1275.67 1518.27 Q1278.75 1513.66 1284.56 1513.66 Z\" fill=\"#000000\" fill-rule=\"evenodd\" fill-opacity=\"1\" /><path clip-path=\"url(#clip590)\" d=\"M1770.12 1530.21 Q1773.47 1530.93 1775.35 1533.2 Q1777.24 1535.47 1777.24 1538.8 Q1777.24 1543.92 1773.73 1546.72 Q1770.21 1549.52 1763.73 1549.52 Q1761.55 1549.52 1759.24 1549.08 Q1756.94 1548.66 1754.49 1547.81 L1754.49 1543.29 Q1756.43 1544.43 1758.75 1545.01 Q1761.06 1545.58 1763.59 1545.58 Q1767.99 1545.58 1770.28 1543.85 Q1772.59 1542.11 1772.59 1538.8 Q1772.59 1535.75 1770.44 1534.03 Q1768.31 1532.3 1764.49 1532.3 L1760.46 1532.3 L1760.46 1528.45 L1764.68 1528.45 Q1768.12 1528.45 1769.95 1527.09 Q1771.78 1525.7 1771.78 1523.11 Q1771.78 1520.45 1769.88 1519.03 Q1768.01 1517.6 1764.49 1517.6 Q1762.57 1517.6 1760.37 1518.01 Q1758.17 1518.43 1755.53 1519.31 L1755.53 1515.14 Q1758.19 1514.4 1760.51 1514.03 Q1762.85 1513.66 1764.91 1513.66 Q1770.23 1513.66 1773.33 1516.09 Q1776.43 1518.5 1776.43 1522.62 Q1776.43 1525.49 1774.79 1527.48 Q1773.15 1529.45 1770.12 1530.21 Z\" fill=\"#000000\" fill-rule=\"evenodd\" fill-opacity=\"1\" /><path clip-path=\"url(#clip590)\" d=\"M1796.11 1517.37 Q1792.5 1517.37 1790.67 1520.93 Q1788.87 1524.47 1788.87 1531.6 Q1788.87 1538.71 1790.67 1542.27 Q1792.5 1545.82 1796.11 1545.82 Q1799.74 1545.82 1801.55 1542.27 Q1803.38 1538.71 1803.38 1531.6 Q1803.38 1524.47 1801.55 1520.93 Q1799.74 1517.37 1796.11 1517.37 M1796.11 1513.66 Q1801.92 1513.66 1804.98 1518.27 Q1808.06 1522.85 1808.06 1531.6 Q1808.06 1540.33 1804.98 1544.94 Q1801.92 1549.52 1796.11 1549.52 Q1790.3 1549.52 1787.22 1544.94 Q1784.17 1540.33 1784.17 1531.6 Q1784.17 1522.85 1787.22 1518.27 Q1790.3 1513.66 1796.11 1513.66 Z\" fill=\"#000000\" fill-rule=\"evenodd\" fill-opacity=\"1\" /><path clip-path=\"url(#clip590)\" d=\"M2281.07 1518.36 L2269.26 1536.81 L2281.07 1536.81 L2281.07 1518.36 M2279.84 1514.29 L2285.72 1514.29 L2285.72 1536.81 L2290.65 1536.81 L2290.65 1540.7 L2285.72 1540.7 L2285.72 1548.85 L2281.07 1548.85 L2281.07 1540.7 L2265.47 1540.7 L2265.47 1536.19 L2279.84 1514.29 Z\" fill=\"#000000\" fill-rule=\"evenodd\" fill-opacity=\"1\" /><path clip-path=\"url(#clip590)\" d=\"M2308.38 1517.37 Q2304.77 1517.37 2302.94 1520.93 Q2301.14 1524.47 2301.14 1531.6 Q2301.14 1538.71 2302.94 1542.27 Q2304.77 1545.82 2308.38 1545.82 Q2312.02 1545.82 2313.82 1542.27 Q2315.65 1538.71 2315.65 1531.6 Q2315.65 1524.47 2313.82 1520.93 Q2312.02 1517.37 2308.38 1517.37 M2308.38 1513.66 Q2314.19 1513.66 2317.25 1518.27 Q2320.33 1522.85 2320.33 1531.6 Q2320.33 1540.33 2317.25 1544.94 Q2314.19 1549.52 2308.38 1549.52 Q2302.57 1549.52 2299.49 1544.94 Q2296.44 1540.33 2296.44 1531.6 Q2296.44 1522.85 2299.49 1518.27 Q2302.57 1513.66 2308.38 1513.66 Z\" fill=\"#000000\" fill-rule=\"evenodd\" fill-opacity=\"1\" /><polyline clip-path=\"url(#clip594)\" style=\"stroke:#000000; stroke-linecap:round; stroke-linejoin:round; stroke-width:8; stroke-opacity:0.1; fill:none\" points=\"237.705,1468.36 2352.76,1468.36 \"/>\n",
       "<polyline clip-path=\"url(#clip594)\" style=\"stroke:#000000; stroke-linecap:round; stroke-linejoin:round; stroke-width:8; stroke-opacity:0.1; fill:none\" points=\"237.705,1291 2352.76,1291 \"/>\n",
       "<polyline clip-path=\"url(#clip594)\" style=\"stroke:#000000; stroke-linecap:round; stroke-linejoin:round; stroke-width:8; stroke-opacity:0.1; fill:none\" points=\"237.705,1113.64 2352.76,1113.64 \"/>\n",
       "<polyline clip-path=\"url(#clip594)\" style=\"stroke:#000000; stroke-linecap:round; stroke-linejoin:round; stroke-width:8; stroke-opacity:0.1; fill:none\" points=\"237.705,936.279 2352.76,936.279 \"/>\n",
       "<polyline clip-path=\"url(#clip590)\" style=\"stroke:#000000; stroke-linecap:round; stroke-linejoin:round; stroke-width:4; stroke-opacity:1; fill:none\" points=\"237.705,1486.45 237.705,847.244 \"/>\n",
       "<polyline clip-path=\"url(#clip590)\" style=\"stroke:#000000; stroke-linecap:round; stroke-linejoin:round; stroke-width:4; stroke-opacity:1; fill:none\" points=\"237.705,1468.36 256.603,1468.36 \"/>\n",
       "<polyline clip-path=\"url(#clip590)\" style=\"stroke:#000000; stroke-linecap:round; stroke-linejoin:round; stroke-width:4; stroke-opacity:1; fill:none\" points=\"237.705,1291 256.603,1291 \"/>\n",
       "<polyline clip-path=\"url(#clip590)\" style=\"stroke:#000000; stroke-linecap:round; stroke-linejoin:round; stroke-width:4; stroke-opacity:1; fill:none\" points=\"237.705,1113.64 256.603,1113.64 \"/>\n",
       "<polyline clip-path=\"url(#clip590)\" style=\"stroke:#000000; stroke-linecap:round; stroke-linejoin:round; stroke-width:4; stroke-opacity:1; fill:none\" points=\"237.705,936.279 256.603,936.279 \"/>\n",
       "<path clip-path=\"url(#clip590)\" d=\"M189.761 1454.16 Q186.15 1454.16 184.321 1457.72 Q182.516 1461.26 182.516 1468.39 Q182.516 1475.5 184.321 1479.06 Q186.15 1482.6 189.761 1482.6 Q193.395 1482.6 195.201 1479.06 Q197.03 1475.5 197.03 1468.39 Q197.03 1461.26 195.201 1457.72 Q193.395 1454.16 189.761 1454.16 M189.761 1450.45 Q195.571 1450.45 198.627 1455.06 Q201.705 1459.64 201.705 1468.39 Q201.705 1477.12 198.627 1481.73 Q195.571 1486.31 189.761 1486.31 Q183.951 1486.31 180.872 1481.73 Q177.817 1477.12 177.817 1468.39 Q177.817 1459.64 180.872 1455.06 Q183.951 1450.45 189.761 1450.45 Z\" fill=\"#000000\" fill-rule=\"evenodd\" fill-opacity=\"1\" /><path clip-path=\"url(#clip590)\" d=\"M120.248 1304.34 L127.886 1304.34 L127.886 1277.98 L119.576 1279.64 L119.576 1275.38 L127.84 1273.72 L132.516 1273.72 L132.516 1304.34 L140.155 1304.34 L140.155 1308.28 L120.248 1308.28 L120.248 1304.34 Z\" fill=\"#000000\" fill-rule=\"evenodd\" fill-opacity=\"1\" /><path clip-path=\"url(#clip590)\" d=\"M159.599 1276.8 Q155.988 1276.8 154.159 1280.36 Q152.354 1283.9 152.354 1291.03 Q152.354 1298.14 154.159 1301.7 Q155.988 1305.25 159.599 1305.25 Q163.233 1305.25 165.039 1301.7 Q166.868 1298.14 166.868 1291.03 Q166.868 1283.9 165.039 1280.36 Q163.233 1276.8 159.599 1276.8 M159.599 1273.09 Q165.409 1273.09 168.465 1277.7 Q171.544 1282.28 171.544 1291.03 Q171.544 1299.76 168.465 1304.37 Q165.409 1308.95 159.599 1308.95 Q153.789 1308.95 150.71 1304.37 Q147.655 1299.76 147.655 1291.03 Q147.655 1282.28 150.71 1277.7 Q153.789 1273.09 159.599 1273.09 Z\" fill=\"#000000\" fill-rule=\"evenodd\" fill-opacity=\"1\" /><path clip-path=\"url(#clip590)\" d=\"M189.761 1276.8 Q186.15 1276.8 184.321 1280.36 Q182.516 1283.9 182.516 1291.03 Q182.516 1298.14 184.321 1301.7 Q186.15 1305.25 189.761 1305.25 Q193.395 1305.25 195.201 1301.7 Q197.03 1298.14 197.03 1291.03 Q197.03 1283.9 195.201 1280.36 Q193.395 1276.8 189.761 1276.8 M189.761 1273.09 Q195.571 1273.09 198.627 1277.7 Q201.705 1282.28 201.705 1291.03 Q201.705 1299.76 198.627 1304.37 Q195.571 1308.95 189.761 1308.95 Q183.951 1308.95 180.872 1304.37 Q177.817 1299.76 177.817 1291.03 Q177.817 1282.28 180.872 1277.7 Q183.951 1273.09 189.761 1273.09 Z\" fill=\"#000000\" fill-rule=\"evenodd\" fill-opacity=\"1\" /><path clip-path=\"url(#clip590)\" d=\"M123.465 1126.98 L139.784 1126.98 L139.784 1130.92 L117.84 1130.92 L117.84 1126.98 Q120.502 1124.23 125.085 1119.6 Q129.692 1114.95 130.872 1113.6 Q133.118 1111.08 133.997 1109.34 Q134.9 1107.58 134.9 1105.9 Q134.9 1103.14 132.956 1101.4 Q131.035 1099.67 127.933 1099.67 Q125.734 1099.67 123.28 1100.43 Q120.849 1101.2 118.072 1102.75 L118.072 1098.02 Q120.896 1096.89 123.349 1096.31 Q125.803 1095.73 127.84 1095.73 Q133.21 1095.73 136.405 1098.42 Q139.599 1101.1 139.599 1105.59 Q139.599 1107.72 138.789 1109.65 Q138.002 1111.54 135.896 1114.14 Q135.317 1114.81 132.215 1118.02 Q129.113 1121.22 123.465 1126.98 Z\" fill=\"#000000\" fill-rule=\"evenodd\" fill-opacity=\"1\" /><path clip-path=\"url(#clip590)\" d=\"M159.599 1099.44 Q155.988 1099.44 154.159 1103 Q152.354 1106.54 152.354 1113.67 Q152.354 1120.78 154.159 1124.34 Q155.988 1127.89 159.599 1127.89 Q163.233 1127.89 165.039 1124.34 Q166.868 1120.78 166.868 1113.67 Q166.868 1106.54 165.039 1103 Q163.233 1099.44 159.599 1099.44 M159.599 1095.73 Q165.409 1095.73 168.465 1100.34 Q171.544 1104.92 171.544 1113.67 Q171.544 1122.4 168.465 1127.01 Q165.409 1131.59 159.599 1131.59 Q153.789 1131.59 150.71 1127.01 Q147.655 1122.4 147.655 1113.67 Q147.655 1104.92 150.71 1100.34 Q153.789 1095.73 159.599 1095.73 Z\" fill=\"#000000\" fill-rule=\"evenodd\" fill-opacity=\"1\" /><path clip-path=\"url(#clip590)\" d=\"M189.761 1099.44 Q186.15 1099.44 184.321 1103 Q182.516 1106.54 182.516 1113.67 Q182.516 1120.78 184.321 1124.34 Q186.15 1127.89 189.761 1127.89 Q193.395 1127.89 195.201 1124.34 Q197.03 1120.78 197.03 1113.67 Q197.03 1106.54 195.201 1103 Q193.395 1099.44 189.761 1099.44 M189.761 1095.73 Q195.571 1095.73 198.627 1100.34 Q201.705 1104.92 201.705 1113.67 Q201.705 1122.4 198.627 1127.01 Q195.571 1131.59 189.761 1131.59 Q183.951 1131.59 180.872 1127.01 Q177.817 1122.4 177.817 1113.67 Q177.817 1104.92 180.872 1100.34 Q183.951 1095.73 189.761 1095.73 Z\" fill=\"#000000\" fill-rule=\"evenodd\" fill-opacity=\"1\" /><path clip-path=\"url(#clip590)\" d=\"M133.604 934.924 Q136.96 935.642 138.835 937.911 Q140.734 940.179 140.734 943.512 Q140.734 948.628 137.215 951.429 Q133.697 954.23 127.215 954.23 Q125.039 954.23 122.724 953.79 Q120.433 953.373 117.979 952.517 L117.979 948.003 Q119.923 949.137 122.238 949.716 Q124.553 950.295 127.076 950.295 Q131.474 950.295 133.766 948.559 Q136.081 946.823 136.081 943.512 Q136.081 940.457 133.928 938.744 Q131.798 937.008 127.979 937.008 L123.951 937.008 L123.951 933.165 L128.164 933.165 Q131.613 933.165 133.442 931.799 Q135.271 930.411 135.271 927.818 Q135.271 925.156 133.372 923.744 Q131.497 922.309 127.979 922.309 Q126.058 922.309 123.859 922.725 Q121.66 923.142 119.021 924.022 L119.021 919.855 Q121.683 919.114 123.998 918.744 Q126.335 918.374 128.396 918.374 Q133.72 918.374 136.822 920.804 Q139.923 923.212 139.923 927.332 Q139.923 930.202 138.28 932.193 Q136.636 934.161 133.604 934.924 Z\" fill=\"#000000\" fill-rule=\"evenodd\" fill-opacity=\"1\" /><path clip-path=\"url(#clip590)\" d=\"M159.599 922.077 Q155.988 922.077 154.159 925.642 Q152.354 929.184 152.354 936.313 Q152.354 943.42 154.159 946.985 Q155.988 950.526 159.599 950.526 Q163.233 950.526 165.039 946.985 Q166.868 943.42 166.868 936.313 Q166.868 929.184 165.039 925.642 Q163.233 922.077 159.599 922.077 M159.599 918.374 Q165.409 918.374 168.465 922.98 Q171.544 927.563 171.544 936.313 Q171.544 945.04 168.465 949.647 Q165.409 954.23 159.599 954.23 Q153.789 954.23 150.71 949.647 Q147.655 945.04 147.655 936.313 Q147.655 927.563 150.71 922.98 Q153.789 918.374 159.599 918.374 Z\" fill=\"#000000\" fill-rule=\"evenodd\" fill-opacity=\"1\" /><path clip-path=\"url(#clip590)\" d=\"M189.761 922.077 Q186.15 922.077 184.321 925.642 Q182.516 929.184 182.516 936.313 Q182.516 943.42 184.321 946.985 Q186.15 950.526 189.761 950.526 Q193.395 950.526 195.201 946.985 Q197.03 943.42 197.03 936.313 Q197.03 929.184 195.201 925.642 Q193.395 922.077 189.761 922.077 M189.761 918.374 Q195.571 918.374 198.627 922.98 Q201.705 927.563 201.705 936.313 Q201.705 945.04 198.627 949.647 Q195.571 954.23 189.761 954.23 Q183.951 954.23 180.872 949.647 Q177.817 945.04 177.817 936.313 Q177.817 927.563 180.872 922.98 Q183.951 918.374 189.761 918.374 Z\" fill=\"#000000\" fill-rule=\"evenodd\" fill-opacity=\"1\" /><path clip-path=\"url(#clip590)\" d=\"M17.9264 1219.92 Q18.5383 1219.92 19.0536 1220.04 L30.5189 1221.85 Q31.3884 1221.94 31.7105 1222.14 Q32.0325 1222.3 32.0325 1222.81 Q32.0325 1223.62 31.1952 1223.62 Q30.7121 1223.62 29.9391 1223.43 Q26.2999 1222.88 24.6574 1222.88 Q23.5624 1222.88 22.7572 1223.1 Q21.9199 1223.3 21.3402 1223.62 Q20.7605 1223.91 20.374 1224.58 Q19.9875 1225.26 19.7621 1225.91 Q19.5367 1226.55 19.44 1227.71 Q19.3112 1228.87 19.279 1229.87 Q19.2468 1230.87 19.2468 1232.51 Q19.2468 1236.08 19.3756 1236.66 Q19.5367 1237.27 20.0197 1237.6 Q20.4706 1237.89 21.8233 1238.21 L56.831 1246.97 L58.2159 1247.23 Q58.9888 1247.23 59.2465 1246.74 Q59.5041 1246.26 59.6652 1244.78 Q59.8262 1242.65 59.8262 1240.56 Q59.8262 1240.49 59.8262 1240.37 Q59.8262 1239.66 59.8584 1239.37 Q59.8584 1239.08 59.9228 1238.79 Q59.9872 1238.5 60.1482 1238.43 Q60.2771 1238.34 60.5347 1238.34 Q61.1466 1238.34 61.4687 1238.59 Q61.7585 1238.85 61.823 1239.11 Q61.8552 1239.34 61.8552 1239.79 Q61.8552 1240.69 61.7907 1242.62 Q61.7263 1244.55 61.7263 1245.52 L61.6619 1250.99 L61.7263 1256.6 Q61.7263 1257.47 61.7907 1259.3 Q61.8552 1261.14 61.8552 1262.01 Q61.8552 1263.14 61.05 1263.14 Q60.1482 1263.14 59.9872 1262.72 Q59.8262 1262.27 59.8262 1260.37 Q59.8262 1257.69 59.6974 1256.24 Q59.5685 1254.79 59.1177 1254.02 Q58.6668 1253.22 58.2159 1252.99 Q57.7328 1252.77 56.6378 1252.51 L21.4368 1243.65 Q20.6639 1243.39 20.0519 1243.39 Q19.7299 1243.39 19.6011 1243.49 Q19.4722 1243.55 19.3756 1243.97 Q19.2468 1244.39 19.2468 1245.26 L19.2468 1247.84 Q19.2468 1250.48 19.3756 1252.12 Q19.4722 1253.73 19.9553 1255.28 Q20.4384 1256.79 21.1147 1257.69 Q21.7911 1258.56 23.1759 1259.53 Q24.5608 1260.49 26.2355 1261.2 Q27.9102 1261.88 30.6477 1262.85 Q31.5494 1263.17 31.8071 1263.36 Q32.0325 1263.52 32.0325 1263.97 Q32.0325 1264.29 31.8393 1264.55 Q31.6139 1264.78 31.324 1264.78 Q30.2612 1264.46 30.1324 1264.39 L18.5061 1260.43 Q17.5721 1260.11 17.4111 1259.82 Q17.2178 1259.5 17.2178 1258.3 L17.2178 1221.72 Q17.2178 1221.14 17.2178 1220.95 Q17.2178 1220.75 17.2822 1220.43 Q17.3467 1220.11 17.5077 1220.01 Q17.6687 1219.92 17.9264 1219.92 Z\" fill=\"#000000\" fill-rule=\"evenodd\" fill-opacity=\"1\" /><path clip-path=\"url(#clip590)\" d=\"M51.2753 1194.38 Q52.1996 1194.38 52.9661 1195.17 Q53.7326 1195.96 53.7326 1196.88 Q53.7326 1197.65 53.2591 1198.12 Q52.7857 1198.57 52.0643 1198.57 Q51.0724 1198.57 50.351 1197.78 Q49.607 1196.99 49.607 1196.14 Q49.607 1195.35 50.103 1194.87 Q50.5764 1194.38 51.2753 1194.38 M63.9676 1196.09 Q64.7566 1196.09 65.681 1196.32 L82.589 1200.56 Q84.2347 1200.96 85.5874 1201.93 Q86.9626 1202.9 87.8193 1204.14 Q88.6759 1205.36 89.1268 1206.69 Q89.6002 1208 89.6002 1209.24 Q89.6002 1210.97 88.8337 1212.14 Q88.0672 1213.32 86.7371 1213.32 Q85.5648 1213.32 84.8209 1212.55 Q84.0995 1211.76 84.0995 1210.81 Q84.0995 1209.96 84.5955 1209.51 Q85.0914 1209.06 85.7227 1209.06 Q86.4892 1209.06 87.2106 1209.62 Q87.932 1210.16 88.1574 1211.13 Q88.5858 1210.25 88.5858 1209.33 Q88.5858 1207.43 86.8499 1205.9 Q85.1365 1204.34 82.4312 1203.67 L65.2075 1199.32 Q63.8323 1199 62.8629 1199 Q61.9612 1199 61.4652 1199.25 Q60.9692 1199.5 60.8565 1199.79 Q60.7438 1200.06 60.7438 1200.47 Q60.7438 1202.25 62.3895 1203.78 Q64.0127 1205.31 66.3798 1206.28 Q67.0336 1206.55 67.1689 1206.69 Q67.3041 1206.8 67.3041 1207.12 Q67.2816 1207.68 66.8307 1207.68 Q66.6954 1207.68 66.1544 1207.45 Q65.6133 1207.23 64.8243 1206.82 Q64.0127 1206.42 63.1335 1205.76 Q62.2542 1205.11 61.4877 1204.34 Q60.7212 1203.55 60.2253 1202.49 Q59.7293 1201.44 59.7293 1200.33 Q59.7293 1198.55 60.9016 1197.33 Q62.0513 1196.09 63.9676 1196.09 Z\" fill=\"#000000\" fill-rule=\"evenodd\" fill-opacity=\"1\" /><path clip-path=\"url(#clip590)\" d=\"M53.7777 1187.66 L52.3348 1187.66 Q52.3348 1182.11 49.3816 1179.25 Q49.3816 1178.46 49.5619 1178.32 Q49.7423 1178.19 50.5764 1178.19 L76.4796 1178.19 Q77.8548 1178.19 78.2831 1177.51 Q78.7114 1176.83 78.7114 1173.88 L78.7114 1172.42 L80.1317 1172.42 Q79.9965 1174.04 79.9965 1179.9 Q79.9965 1185.76 80.1317 1187.36 L78.7114 1187.36 L78.7114 1185.9 Q78.7114 1182.99 78.3056 1182.29 Q77.8773 1181.59 76.4796 1181.59 L52.5603 1181.59 Q53.7777 1184 53.7777 1187.66 Z\" fill=\"#000000\" fill-rule=\"evenodd\" fill-opacity=\"1\" /><path clip-path=\"url(#clip590)\" d=\"M78.3446 1157.75 L12.387 1157.75 L12.387 1147.8 L13.9006 1147.8 L13.9006 1153.34 L76.8309 1153.34 L76.8309 1147.8 L78.3446 1147.8 L78.3446 1157.75 Z\" fill=\"#000000\" fill-rule=\"evenodd\" fill-opacity=\"1\" /><path clip-path=\"url(#clip590)\" d=\"M17.5399 1089.27 Q17.9586 1089.27 18.2484 1089.37 Q18.5061 1089.47 18.6349 1089.69 Q18.7637 1089.92 18.7959 1090.05 Q18.8281 1090.17 18.8603 1090.46 Q18.9892 1091.85 19.2146 1092.82 Q19.44 1093.75 20.5994 1096.07 Q21.7589 1098.36 23.8522 1101.22 L32.7733 1112.75 L34.2869 1114.68 Q34.3836 1114.68 34.5768 1114.62 Q34.7378 1114.55 34.9633 1114.49 Q35.1565 1114.39 35.2209 1114.36 L56.831 1104.99 Q58.5702 1104.25 59.1821 1103.35 Q59.794 1102.45 59.8262 1100.42 Q59.8262 1100.09 59.8584 1099.97 Q59.8584 1099.8 59.9228 1099.58 Q59.955 1099.32 60.116 1099.22 Q60.2771 1099.1 60.5347 1099.1 Q61.8552 1099.1 61.8552 1100.29 Q61.8552 1101.03 61.7585 1103.54 Q61.6619 1106.05 61.6619 1106.76 Q61.6619 1108.08 61.7585 1110.79 Q61.8552 1113.49 61.8552 1114.81 Q61.8552 1115.75 61.1144 1115.75 Q60.5025 1115.75 60.2127 1115.52 Q59.8906 1115.26 59.8584 1115.04 Q59.8262 1114.81 59.8262 1114.3 Q59.8262 1113.91 59.794 1113.49 Q59.7296 1113.04 59.5685 1112.4 Q59.3753 1111.72 58.9244 1111.3 Q58.4413 1110.85 57.765 1110.85 Q57.2175 1110.85 55.4462 1111.66 L37.7008 1119.29 L45.3658 1129.11 L55.736 1131.75 Q56.1225 1131.82 56.7988 1131.98 Q57.4752 1132.14 57.9582 1132.27 Q58.4413 1132.36 58.6346 1132.36 Q59.0532 1132.36 59.3109 1132.11 Q59.5685 1131.82 59.6974 1131.11 Q59.794 1130.4 59.8262 1129.85 Q59.8262 1129.27 59.8262 1128.08 Q59.8262 1126.6 60.0838 1126.34 Q60.2449 1126.21 60.5347 1126.21 Q60.9856 1126.21 61.3077 1126.34 Q61.5975 1126.47 61.6941 1126.73 Q61.7907 1126.95 61.823 1127.12 Q61.8552 1127.28 61.8552 1127.53 Q61.8552 1128.21 61.7907 1129.66 Q61.7263 1131.08 61.7263 1131.82 L61.6619 1136.04 L61.8552 1144.41 Q61.8552 1145.41 61.05 1145.41 Q60.4381 1145.41 60.1805 1145.15 Q59.8906 1144.89 59.8584 1144.6 Q59.8262 1144.31 59.8262 1143.57 Q59.8262 1141.96 59.7296 1141 Q59.633 1140.03 59.5041 1139.42 Q59.3431 1138.77 58.8922 1138.45 Q58.4413 1138.1 58.0549 1137.94 Q57.6362 1137.78 56.7022 1137.55 L21.2758 1128.73 Q20.213 1128.47 20.0519 1128.47 Q19.5044 1128.47 19.3112 1128.79 Q19.0858 1129.08 18.9892 1129.92 Q18.8603 1131.53 18.8603 1132.75 Q18.8603 1133.56 18.8281 1133.88 Q18.7959 1134.17 18.6349 1134.43 Q18.4417 1134.65 18.0552 1134.65 Q16.7992 1134.65 16.7992 1133.33 L16.9924 1124.83 L16.7992 1116.39 Q16.7992 1115.46 17.5399 1115.46 Q18.4739 1115.46 18.6671 1115.91 Q18.8603 1116.33 18.8603 1117.71 Q18.8603 1120.13 19.1824 1121.22 Q19.4722 1122.28 19.9875 1122.61 Q20.4706 1122.9 21.8877 1123.25 L43.0469 1128.53 L23.2725 1102.8 Q21.2758 1100.42 20.2452 1100.42 Q19.5689 1100.42 19.279 1100.9 Q18.957 1101.35 18.8603 1102.48 Q18.7315 1103.28 18.1196 1103.28 Q17.5077 1103.28 17.2178 1103.06 Q16.8958 1102.8 16.8636 1102.61 Q16.7992 1102.38 16.7992 1102.03 Q16.7992 1100.84 16.8958 1098.36 Q16.9924 1095.88 16.9924 1094.68 Q16.9924 1093.88 16.8958 1092.3 Q16.7992 1090.72 16.7992 1090.01 Q16.7992 1089.66 17.0568 1089.47 Q17.2822 1089.27 17.5399 1089.27 Z\" fill=\"#000000\" fill-rule=\"evenodd\" fill-opacity=\"1\" /><path clip-path=\"url(#clip590)\" d=\"M76.8309 1087.06 L76.8309 1081.52 L13.9006 1081.52 L13.9006 1087.06 L12.387 1087.06 L12.387 1077.11 L78.3446 1077.11 L78.3446 1087.06 L76.8309 1087.06 Z\" fill=\"#000000\" fill-rule=\"evenodd\" fill-opacity=\"1\" /><polyline clip-path=\"url(#clip594)\" style=\"stroke:#000000; stroke-linecap:round; stroke-linejoin:round; stroke-width:4; stroke-opacity:1; fill:none\" stroke-dasharray=\"2, 4\" points=\"297.565,865.335 348.728,865.335 399.89,865.335 451.052,865.335 502.215,865.335 553.377,865.335 604.539,865.335 655.702,865.335 706.864,865.335 758.026,865.335 809.189,865.335 860.351,865.335 911.513,865.335 962.676,865.335 1013.84,865.335 1065,865.335 1116.16,865.335 1167.32,865.335 1218.49,865.335 1269.65,865.335 1320.81,865.335 1371.97,865.335 1423.14,865.335 1474.3,865.335 1525.46,865.335 1576.62,865.335 1627.79,865.335 1678.95,865.335 1730.11,865.335 1781.27,865.335 1832.44,865.335 1883.6,865.335 1934.76,865.335 1985.92,865.335 2037.08,865.335 2088.25,865.335 2139.41,865.335 2190.57,865.335 2241.73,865.335 2292.9,865.335 \"/>\n",
       "<polyline clip-path=\"url(#clip594)\" style=\"stroke:#ff0000; stroke-linecap:round; stroke-linejoin:round; stroke-width:12; stroke-opacity:0.3; fill:none\" points=\"297.565,906.68 348.728,905.484 399.89,903.15 451.052,901.04 502.215,899.18 553.377,897.533 604.539,896.071 655.702,894.93 706.864,894.189 758.026,893.778 809.189,893.592 860.351,893.777 911.513,894.439 962.676,895.188 1013.84,895.7 1065,895.93 1116.16,895.898 1167.32,895.496 1218.49,894.913 1269.65,895.375 1320.81,1468.36 1371.97,1468.36 1423.14,1468.36 1474.3,1468.36 1525.46,1468.36 1576.62,1468.36 1627.79,1468.36 1678.95,1468.36 1730.11,1468.36 1781.27,1468.36 1832.44,1468.36 1883.6,1468.36 1934.76,1468.36 1985.92,1468.36 2037.08,1468.36 2088.25,1468.36 2139.41,1468.36 2190.57,1468.36 2241.73,1468.36 2292.9,1468.36 \"/>\n",
       "<polyline clip-path=\"url(#clip594)\" style=\"stroke:#0000ff; stroke-linecap:round; stroke-linejoin:round; stroke-width:12; stroke-opacity:0.3; fill:none\" points=\"297.565,1468.36 348.728,1468.36 399.89,1468.36 451.052,1468.36 502.215,1468.36 553.377,1468.36 604.539,1468.36 655.702,1468.36 706.864,1468.36 758.026,1468.36 809.189,1468.36 860.351,1468.36 911.513,1468.36 962.676,1468.36 1013.84,1468.36 1065,1468.36 1116.16,1468.36 1167.32,1468.36 1218.49,1468.36 1269.65,1468.36 1320.81,1468.36 1371.97,1468.36 1423.14,1468.36 1474.3,1468.36 1525.46,1468.36 1576.62,1468.36 1627.79,1468.36 1678.95,1468.36 1730.11,1468.36 1781.27,1468.36 1832.44,1468.36 1883.6,1468.36 1934.76,1468.36 1985.92,1468.36 2037.08,1468.36 2088.25,1468.36 2139.41,1468.36 2190.57,1468.36 2241.73,1468.36 2292.9,1468.36 \"/>\n",
       "</svg>\n"
      ]
     },
     "metadata": {},
     "output_type": "display_data"
    }
   ],
   "source": [
    "p3 = plot(layout = (num_subplots, 1),fmt = :svg, resolution = (600, 400), latex=true,gridlinewidth=2,legend=:topleft) \n",
    "\n",
    "# Loop to generate subplots \n",
    "for mm in 1:num_subplots  \n",
    "    # limits\n",
    "    plot!(subplot=mm,ts,Tj_max[1]*ones(length(ts)),linestyle = :dot,linecolor = :black,label=\"\")\n",
    "    \n",
    "    for nn in 1:n_MC\n",
    "        plot!(subplot=mm,ts,TjPlant[1,:,nn,mm],linewidth=3,linealpha = 0.3,linecolor = CList[nn],legend=false)\n",
    "    end\n",
    "    \n",
    "    # Add labels, titles, or other customizations to each subplot \n",
    "    ylabel!(L\"T_{j1} [K]\") \n",
    "end \n",
    "\n",
    "# Display the subplots \n",
    "display(p3)"
   ]
  },
  {
   "cell_type": "code",
   "execution_count": 23,
   "id": "cfdedb1f",
   "metadata": {},
   "outputs": [
    {
     "data": {
      "image/svg+xml": [
       "<?xml version=\"1.0\" encoding=\"utf-8\"?>\n",
       "<svg xmlns=\"http://www.w3.org/2000/svg\" xmlns:xlink=\"http://www.w3.org/1999/xlink\" width=\"600\" height=\"400\" viewBox=\"0 0 2400 1600\">\n",
       "<defs>\n",
       "  <clipPath id=\"clip630\">\n",
       "    <rect x=\"0\" y=\"0\" width=\"2400\" height=\"1600\"/>\n",
       "  </clipPath>\n",
       "</defs>\n",
       "<path clip-path=\"url(#clip630)\" d=\"M0 1600 L2400 1600 L2400 0 L0 0  Z\" fill=\"#ffffff\" fill-rule=\"evenodd\" fill-opacity=\"1\"/>\n",
       "<defs>\n",
       "  <clipPath id=\"clip631\">\n",
       "    <rect x=\"480\" y=\"0\" width=\"1681\" height=\"1600\"/>\n",
       "  </clipPath>\n",
       "</defs>\n",
       "<defs>\n",
       "  <clipPath id=\"clip632\">\n",
       "    <rect x=\"237\" y=\"847\" width=\"2116\" height=\"640\"/>\n",
       "  </clipPath>\n",
       "</defs>\n",
       "<path clip-path=\"url(#clip630)\" d=\"M225.635 686.448 L2352.76 686.448 L2352.76 47.2441 L225.635 47.2441  Z\" fill=\"#ffffff\" fill-rule=\"evenodd\" fill-opacity=\"1\"/>\n",
       "<defs>\n",
       "  <clipPath id=\"clip633\">\n",
       "    <rect x=\"225\" y=\"47\" width=\"2128\" height=\"640\"/>\n",
       "  </clipPath>\n",
       "</defs>\n",
       "<polyline clip-path=\"url(#clip633)\" style=\"stroke:#000000; stroke-linecap:round; stroke-linejoin:round; stroke-width:8; stroke-opacity:0.1; fill:none\" points=\"234.382,686.448 234.382,47.2441 \"/>\n",
       "<polyline clip-path=\"url(#clip633)\" style=\"stroke:#000000; stroke-linecap:round; stroke-linejoin:round; stroke-width:8; stroke-opacity:0.1; fill:none\" points=\"748.925,686.448 748.925,47.2441 \"/>\n",
       "<polyline clip-path=\"url(#clip633)\" style=\"stroke:#000000; stroke-linecap:round; stroke-linejoin:round; stroke-width:8; stroke-opacity:0.1; fill:none\" points=\"1263.47,686.448 1263.47,47.2441 \"/>\n",
       "<polyline clip-path=\"url(#clip633)\" style=\"stroke:#000000; stroke-linecap:round; stroke-linejoin:round; stroke-width:8; stroke-opacity:0.1; fill:none\" points=\"1778.01,686.448 1778.01,47.2441 \"/>\n",
       "<polyline clip-path=\"url(#clip633)\" style=\"stroke:#000000; stroke-linecap:round; stroke-linejoin:round; stroke-width:8; stroke-opacity:0.1; fill:none\" points=\"2292.55,686.448 2292.55,47.2441 \"/>\n",
       "<polyline clip-path=\"url(#clip630)\" style=\"stroke:#000000; stroke-linecap:round; stroke-linejoin:round; stroke-width:4; stroke-opacity:1; fill:none\" points=\"225.635,686.448 2352.76,686.448 \"/>\n",
       "<polyline clip-path=\"url(#clip630)\" style=\"stroke:#000000; stroke-linecap:round; stroke-linejoin:round; stroke-width:4; stroke-opacity:1; fill:none\" points=\"234.382,686.448 234.382,667.55 \"/>\n",
       "<polyline clip-path=\"url(#clip630)\" style=\"stroke:#000000; stroke-linecap:round; stroke-linejoin:round; stroke-width:4; stroke-opacity:1; fill:none\" points=\"748.925,686.448 748.925,667.55 \"/>\n",
       "<polyline clip-path=\"url(#clip630)\" style=\"stroke:#000000; stroke-linecap:round; stroke-linejoin:round; stroke-width:4; stroke-opacity:1; fill:none\" points=\"1263.47,686.448 1263.47,667.55 \"/>\n",
       "<polyline clip-path=\"url(#clip630)\" style=\"stroke:#000000; stroke-linecap:round; stroke-linejoin:round; stroke-width:4; stroke-opacity:1; fill:none\" points=\"1778.01,686.448 1778.01,667.55 \"/>\n",
       "<polyline clip-path=\"url(#clip630)\" style=\"stroke:#000000; stroke-linecap:round; stroke-linejoin:round; stroke-width:4; stroke-opacity:1; fill:none\" points=\"2292.55,686.448 2292.55,667.55 \"/>\n",
       "<path clip-path=\"url(#clip630)\" d=\"M234.382 717.367 Q230.771 717.367 228.942 720.931 Q227.137 724.473 227.137 731.603 Q227.137 738.709 228.942 742.274 Q230.771 745.815 234.382 745.815 Q238.016 745.815 239.822 742.274 Q241.651 738.709 241.651 731.603 Q241.651 724.473 239.822 720.931 Q238.016 717.367 234.382 717.367 M234.382 713.663 Q240.192 713.663 243.248 718.269 Q246.326 722.853 246.326 731.603 Q246.326 740.329 243.248 744.936 Q240.192 749.519 234.382 749.519 Q228.572 749.519 225.493 744.936 Q222.438 740.329 222.438 731.603 Q222.438 722.853 225.493 718.269 Q228.572 713.663 234.382 713.663 Z\" fill=\"#000000\" fill-rule=\"evenodd\" fill-opacity=\"1\" /><path clip-path=\"url(#clip630)\" d=\"M723.613 744.913 L731.252 744.913 L731.252 718.547 L722.941 720.214 L722.941 715.955 L731.205 714.288 L735.881 714.288 L735.881 744.913 L743.52 744.913 L743.52 748.848 L723.613 748.848 L723.613 744.913 Z\" fill=\"#000000\" fill-rule=\"evenodd\" fill-opacity=\"1\" /><path clip-path=\"url(#clip630)\" d=\"M762.964 717.367 Q759.353 717.367 757.525 720.931 Q755.719 724.473 755.719 731.603 Q755.719 738.709 757.525 742.274 Q759.353 745.815 762.964 745.815 Q766.599 745.815 768.404 742.274 Q770.233 738.709 770.233 731.603 Q770.233 724.473 768.404 720.931 Q766.599 717.367 762.964 717.367 M762.964 713.663 Q768.775 713.663 771.83 718.269 Q774.909 722.853 774.909 731.603 Q774.909 740.329 771.83 744.936 Q768.775 749.519 762.964 749.519 Q757.154 749.519 754.076 744.936 Q751.02 740.329 751.02 731.603 Q751.02 722.853 754.076 718.269 Q757.154 713.663 762.964 713.663 Z\" fill=\"#000000\" fill-rule=\"evenodd\" fill-opacity=\"1\" /><path clip-path=\"url(#clip630)\" d=\"M1242.24 744.913 L1258.56 744.913 L1258.56 748.848 L1236.62 748.848 L1236.62 744.913 Q1239.28 742.158 1243.86 737.528 Q1248.47 732.876 1249.65 731.533 Q1251.89 729.01 1252.77 727.274 Q1253.68 725.515 1253.68 723.825 Q1253.68 721.07 1251.73 719.334 Q1249.81 717.598 1246.71 717.598 Q1244.51 717.598 1242.06 718.362 Q1239.63 719.126 1236.85 720.677 L1236.85 715.955 Q1239.67 714.82 1242.13 714.242 Q1244.58 713.663 1246.62 713.663 Q1251.99 713.663 1255.18 716.348 Q1258.38 719.033 1258.38 723.524 Q1258.38 725.654 1257.57 727.575 Q1256.78 729.473 1254.67 732.066 Q1254.09 732.737 1250.99 735.954 Q1247.89 739.149 1242.24 744.913 Z\" fill=\"#000000\" fill-rule=\"evenodd\" fill-opacity=\"1\" /><path clip-path=\"url(#clip630)\" d=\"M1278.38 717.367 Q1274.76 717.367 1272.94 720.931 Q1271.13 724.473 1271.13 731.603 Q1271.13 738.709 1272.94 742.274 Q1274.76 745.815 1278.38 745.815 Q1282.01 745.815 1283.82 742.274 Q1285.64 738.709 1285.64 731.603 Q1285.64 724.473 1283.82 720.931 Q1282.01 717.367 1278.38 717.367 M1278.38 713.663 Q1284.19 713.663 1287.24 718.269 Q1290.32 722.853 1290.32 731.603 Q1290.32 740.329 1287.24 744.936 Q1284.19 749.519 1278.38 749.519 Q1272.57 749.519 1269.49 744.936 Q1266.43 740.329 1266.43 731.603 Q1266.43 722.853 1269.49 718.269 Q1272.57 713.663 1278.38 713.663 Z\" fill=\"#000000\" fill-rule=\"evenodd\" fill-opacity=\"1\" /><path clip-path=\"url(#clip630)\" d=\"M1766.85 730.214 Q1770.21 730.931 1772.09 733.2 Q1773.98 735.468 1773.98 738.802 Q1773.98 743.917 1770.47 746.718 Q1766.95 749.519 1760.47 749.519 Q1758.29 749.519 1755.97 749.079 Q1753.68 748.663 1751.23 747.806 L1751.23 743.292 Q1753.17 744.427 1755.49 745.005 Q1757.8 745.584 1760.33 745.584 Q1764.72 745.584 1767.02 743.848 Q1769.33 742.112 1769.33 738.802 Q1769.33 735.746 1767.18 734.033 Q1765.05 732.297 1761.23 732.297 L1757.2 732.297 L1757.2 728.454 L1761.41 728.454 Q1764.86 728.454 1766.69 727.089 Q1768.52 725.7 1768.52 723.107 Q1768.52 720.445 1766.62 719.033 Q1764.75 717.598 1761.23 717.598 Q1759.31 717.598 1757.11 718.015 Q1754.91 718.431 1752.27 719.311 L1752.27 715.144 Q1754.93 714.404 1757.25 714.033 Q1759.59 713.663 1761.65 713.663 Q1766.97 713.663 1770.07 716.093 Q1773.17 718.501 1773.17 722.621 Q1773.17 725.492 1771.53 727.482 Q1769.89 729.45 1766.85 730.214 Z\" fill=\"#000000\" fill-rule=\"evenodd\" fill-opacity=\"1\" /><path clip-path=\"url(#clip630)\" d=\"M1792.85 717.367 Q1789.24 717.367 1787.41 720.931 Q1785.6 724.473 1785.6 731.603 Q1785.6 738.709 1787.41 742.274 Q1789.24 745.815 1792.85 745.815 Q1796.48 745.815 1798.29 742.274 Q1800.12 738.709 1800.12 731.603 Q1800.12 724.473 1798.29 720.931 Q1796.48 717.367 1792.85 717.367 M1792.85 713.663 Q1798.66 713.663 1801.71 718.269 Q1804.79 722.853 1804.79 731.603 Q1804.79 740.329 1801.71 744.936 Q1798.66 749.519 1792.85 749.519 Q1787.04 749.519 1783.96 744.936 Q1780.9 740.329 1780.9 731.603 Q1780.9 722.853 1783.96 718.269 Q1787.04 713.663 1792.85 713.663 Z\" fill=\"#000000\" fill-rule=\"evenodd\" fill-opacity=\"1\" /><path clip-path=\"url(#clip630)\" d=\"M2280.73 718.362 L2268.92 736.811 L2280.73 736.811 L2280.73 718.362 M2279.5 714.288 L2285.38 714.288 L2285.38 736.811 L2290.31 736.811 L2290.31 740.7 L2285.38 740.7 L2285.38 748.848 L2280.73 748.848 L2280.73 740.7 L2265.12 740.7 L2265.12 736.186 L2279.5 714.288 Z\" fill=\"#000000\" fill-rule=\"evenodd\" fill-opacity=\"1\" /><path clip-path=\"url(#clip630)\" d=\"M2308.04 717.367 Q2304.43 717.367 2302.6 720.931 Q2300.8 724.473 2300.8 731.603 Q2300.8 738.709 2302.6 742.274 Q2304.43 745.815 2308.04 745.815 Q2311.67 745.815 2313.48 742.274 Q2315.31 738.709 2315.31 731.603 Q2315.31 724.473 2313.48 720.931 Q2311.67 717.367 2308.04 717.367 M2308.04 713.663 Q2313.85 713.663 2316.91 718.269 Q2319.98 722.853 2319.98 731.603 Q2319.98 740.329 2316.91 744.936 Q2313.85 749.519 2308.04 749.519 Q2302.23 749.519 2299.15 744.936 Q2296.1 740.329 2296.1 731.603 Q2296.1 722.853 2299.15 718.269 Q2302.23 713.663 2308.04 713.663 Z\" fill=\"#000000\" fill-rule=\"evenodd\" fill-opacity=\"1\" /><polyline clip-path=\"url(#clip633)\" style=\"stroke:#000000; stroke-linecap:round; stroke-linejoin:round; stroke-width:8; stroke-opacity:0.1; fill:none\" points=\"225.635,668.357 2352.76,668.357 \"/>\n",
       "<polyline clip-path=\"url(#clip633)\" style=\"stroke:#000000; stroke-linecap:round; stroke-linejoin:round; stroke-width:8; stroke-opacity:0.1; fill:none\" points=\"225.635,518.538 2352.76,518.538 \"/>\n",
       "<polyline clip-path=\"url(#clip633)\" style=\"stroke:#000000; stroke-linecap:round; stroke-linejoin:round; stroke-width:8; stroke-opacity:0.1; fill:none\" points=\"225.635,368.719 2352.76,368.719 \"/>\n",
       "<polyline clip-path=\"url(#clip633)\" style=\"stroke:#000000; stroke-linecap:round; stroke-linejoin:round; stroke-width:8; stroke-opacity:0.1; fill:none\" points=\"225.635,218.899 2352.76,218.899 \"/>\n",
       "<polyline clip-path=\"url(#clip633)\" style=\"stroke:#000000; stroke-linecap:round; stroke-linejoin:round; stroke-width:8; stroke-opacity:0.1; fill:none\" points=\"225.635,69.0803 2352.76,69.0803 \"/>\n",
       "<polyline clip-path=\"url(#clip630)\" style=\"stroke:#000000; stroke-linecap:round; stroke-linejoin:round; stroke-width:4; stroke-opacity:1; fill:none\" points=\"225.635,686.448 225.635,47.2441 \"/>\n",
       "<polyline clip-path=\"url(#clip630)\" style=\"stroke:#000000; stroke-linecap:round; stroke-linejoin:round; stroke-width:4; stroke-opacity:1; fill:none\" points=\"225.635,668.357 244.532,668.357 \"/>\n",
       "<polyline clip-path=\"url(#clip630)\" style=\"stroke:#000000; stroke-linecap:round; stroke-linejoin:round; stroke-width:4; stroke-opacity:1; fill:none\" points=\"225.635,518.538 244.532,518.538 \"/>\n",
       "<polyline clip-path=\"url(#clip630)\" style=\"stroke:#000000; stroke-linecap:round; stroke-linejoin:round; stroke-width:4; stroke-opacity:1; fill:none\" points=\"225.635,368.719 244.532,368.719 \"/>\n",
       "<polyline clip-path=\"url(#clip630)\" style=\"stroke:#000000; stroke-linecap:round; stroke-linejoin:round; stroke-width:4; stroke-opacity:1; fill:none\" points=\"225.635,218.899 244.532,218.899 \"/>\n",
       "<polyline clip-path=\"url(#clip630)\" style=\"stroke:#000000; stroke-linecap:round; stroke-linejoin:round; stroke-width:4; stroke-opacity:1; fill:none\" points=\"225.635,69.0803 244.532,69.0803 \"/>\n",
       "<path clip-path=\"url(#clip630)\" d=\"M132.459 654.156 Q128.848 654.156 127.019 657.721 Q125.214 661.262 125.214 668.392 Q125.214 675.498 127.019 679.063 Q128.848 682.605 132.459 682.605 Q136.093 682.605 137.899 679.063 Q139.728 675.498 139.728 668.392 Q139.728 661.262 137.899 657.721 Q136.093 654.156 132.459 654.156 M132.459 650.452 Q138.269 650.452 141.325 655.059 Q144.404 659.642 144.404 668.392 Q144.404 677.119 141.325 681.725 Q138.269 686.308 132.459 686.308 Q126.649 686.308 123.57 681.725 Q120.515 677.119 120.515 668.392 Q120.515 659.642 123.57 655.059 Q126.649 650.452 132.459 650.452 Z\" fill=\"#000000\" fill-rule=\"evenodd\" fill-opacity=\"1\" /><path clip-path=\"url(#clip630)\" d=\"M152.621 679.758 L157.505 679.758 L157.505 685.637 L152.621 685.637 L152.621 679.758 Z\" fill=\"#000000\" fill-rule=\"evenodd\" fill-opacity=\"1\" /><path clip-path=\"url(#clip630)\" d=\"M177.69 654.156 Q174.079 654.156 172.251 657.721 Q170.445 661.262 170.445 668.392 Q170.445 675.498 172.251 679.063 Q174.079 682.605 177.69 682.605 Q181.325 682.605 183.13 679.063 Q184.959 675.498 184.959 668.392 Q184.959 661.262 183.13 657.721 Q181.325 654.156 177.69 654.156 M177.69 650.452 Q183.501 650.452 186.556 655.059 Q189.635 659.642 189.635 668.392 Q189.635 677.119 186.556 681.725 Q183.501 686.308 177.69 686.308 Q171.88 686.308 168.802 681.725 Q165.746 677.119 165.746 668.392 Q165.746 659.642 168.802 655.059 Q171.88 650.452 177.69 650.452 Z\" fill=\"#000000\" fill-rule=\"evenodd\" fill-opacity=\"1\" /><path clip-path=\"url(#clip630)\" d=\"M134.056 504.337 Q130.445 504.337 128.617 507.901 Q126.811 511.443 126.811 518.573 Q126.811 525.679 128.617 529.244 Q130.445 532.786 134.056 532.786 Q137.691 532.786 139.496 529.244 Q141.325 525.679 141.325 518.573 Q141.325 511.443 139.496 507.901 Q137.691 504.337 134.056 504.337 M134.056 500.633 Q139.867 500.633 142.922 505.239 Q146.001 509.823 146.001 518.573 Q146.001 527.299 142.922 531.906 Q139.867 536.489 134.056 536.489 Q128.246 536.489 125.168 531.906 Q122.112 527.299 122.112 518.573 Q122.112 509.823 125.168 505.239 Q128.246 500.633 134.056 500.633 Z\" fill=\"#000000\" fill-rule=\"evenodd\" fill-opacity=\"1\" /><path clip-path=\"url(#clip630)\" d=\"M154.218 529.938 L159.103 529.938 L159.103 535.818 L154.218 535.818 L154.218 529.938 Z\" fill=\"#000000\" fill-rule=\"evenodd\" fill-opacity=\"1\" /><path clip-path=\"url(#clip630)\" d=\"M173.315 531.883 L189.635 531.883 L189.635 535.818 L167.69 535.818 L167.69 531.883 Q170.353 529.128 174.936 524.499 Q179.542 519.846 180.723 518.503 Q182.968 515.98 183.848 514.244 Q184.751 512.485 184.751 510.795 Q184.751 508.04 182.806 506.304 Q180.885 504.568 177.783 504.568 Q175.584 504.568 173.13 505.332 Q170.7 506.096 167.922 507.647 L167.922 502.925 Q170.746 501.79 173.2 501.212 Q175.653 500.633 177.69 500.633 Q183.061 500.633 186.255 503.318 Q189.45 506.003 189.45 510.494 Q189.45 512.624 188.639 514.545 Q187.852 516.443 185.746 519.036 Q185.167 519.707 182.065 522.925 Q178.964 526.119 173.315 531.883 Z\" fill=\"#000000\" fill-rule=\"evenodd\" fill-opacity=\"1\" /><path clip-path=\"url(#clip630)\" d=\"M131.973 354.517 Q128.362 354.517 126.533 358.082 Q124.728 361.624 124.728 368.753 Q124.728 375.86 126.533 379.425 Q128.362 382.966 131.973 382.966 Q135.607 382.966 137.413 379.425 Q139.242 375.86 139.242 368.753 Q139.242 361.624 137.413 358.082 Q135.607 354.517 131.973 354.517 M131.973 350.814 Q137.783 350.814 140.839 355.42 Q143.917 360.003 143.917 368.753 Q143.917 377.48 140.839 382.087 Q137.783 386.67 131.973 386.67 Q126.163 386.67 123.084 382.087 Q120.029 377.48 120.029 368.753 Q120.029 360.003 123.084 355.42 Q126.163 350.814 131.973 350.814 Z\" fill=\"#000000\" fill-rule=\"evenodd\" fill-opacity=\"1\" /><path clip-path=\"url(#clip630)\" d=\"M152.135 380.119 L157.019 380.119 L157.019 385.999 L152.135 385.999 L152.135 380.119 Z\" fill=\"#000000\" fill-rule=\"evenodd\" fill-opacity=\"1\" /><path clip-path=\"url(#clip630)\" d=\"M180.052 355.513 L168.246 373.962 L180.052 373.962 L180.052 355.513 M178.825 351.439 L184.704 351.439 L184.704 373.962 L189.635 373.962 L189.635 377.851 L184.704 377.851 L184.704 385.999 L180.052 385.999 L180.052 377.851 L164.45 377.851 L164.45 373.337 L178.825 351.439 Z\" fill=\"#000000\" fill-rule=\"evenodd\" fill-opacity=\"1\" /><path clip-path=\"url(#clip630)\" d=\"M132.297 204.698 Q128.686 204.698 126.857 208.263 Q125.052 211.805 125.052 218.934 Q125.052 226.041 126.857 229.605 Q128.686 233.147 132.297 233.147 Q135.931 233.147 137.737 229.605 Q139.566 226.041 139.566 218.934 Q139.566 211.805 137.737 208.263 Q135.931 204.698 132.297 204.698 M132.297 200.994 Q138.107 200.994 141.163 205.601 Q144.242 210.184 144.242 218.934 Q144.242 227.661 141.163 232.267 Q138.107 236.851 132.297 236.851 Q126.487 236.851 123.408 232.267 Q120.353 227.661 120.353 218.934 Q120.353 210.184 123.408 205.601 Q126.487 200.994 132.297 200.994 Z\" fill=\"#000000\" fill-rule=\"evenodd\" fill-opacity=\"1\" /><path clip-path=\"url(#clip630)\" d=\"M152.459 230.3 L157.343 230.3 L157.343 236.179 L152.459 236.179 L152.459 230.3 Z\" fill=\"#000000\" fill-rule=\"evenodd\" fill-opacity=\"1\" /><path clip-path=\"url(#clip630)\" d=\"M178.107 217.036 Q174.959 217.036 173.107 219.189 Q171.278 221.342 171.278 225.092 Q171.278 228.818 173.107 230.994 Q174.959 233.147 178.107 233.147 Q181.255 233.147 183.084 230.994 Q184.936 228.818 184.936 225.092 Q184.936 221.342 183.084 219.189 Q181.255 217.036 178.107 217.036 M187.389 202.383 L187.389 206.643 Q185.63 205.809 183.825 205.369 Q182.042 204.93 180.283 204.93 Q175.653 204.93 173.2 208.055 Q170.769 211.18 170.422 217.499 Q171.788 215.485 173.848 214.42 Q175.908 213.332 178.385 213.332 Q183.593 213.332 186.602 216.504 Q189.635 219.652 189.635 225.092 Q189.635 230.416 186.487 233.633 Q183.339 236.851 178.107 236.851 Q172.112 236.851 168.94 232.267 Q165.769 227.661 165.769 218.934 Q165.769 210.74 169.658 205.879 Q173.547 200.994 180.098 200.994 Q181.857 200.994 183.639 201.342 Q185.445 201.689 187.389 202.383 Z\" fill=\"#000000\" fill-rule=\"evenodd\" fill-opacity=\"1\" /><path clip-path=\"url(#clip630)\" d=\"M132.552 54.8789 Q128.941 54.8789 127.112 58.4437 Q125.306 61.9854 125.306 69.115 Q125.306 76.2214 127.112 79.7862 Q128.941 83.3279 132.552 83.3279 Q136.186 83.3279 137.992 79.7862 Q139.82 76.2214 139.82 69.115 Q139.82 61.9854 137.992 58.4437 Q136.186 54.8789 132.552 54.8789 M132.552 51.1753 Q138.362 51.1753 141.417 55.7817 Q144.496 60.365 144.496 69.115 Q144.496 77.8418 141.417 82.4482 Q138.362 87.0315 132.552 87.0315 Q126.742 87.0315 123.663 82.4482 Q120.607 77.8418 120.607 69.115 Q120.607 60.365 123.663 55.7817 Q126.742 51.1753 132.552 51.1753 Z\" fill=\"#000000\" fill-rule=\"evenodd\" fill-opacity=\"1\" /><path clip-path=\"url(#clip630)\" d=\"M152.714 80.4807 L157.598 80.4807 L157.598 86.3603 L152.714 86.3603 L152.714 80.4807 Z\" fill=\"#000000\" fill-rule=\"evenodd\" fill-opacity=\"1\" /><path clip-path=\"url(#clip630)\" d=\"M177.783 69.9483 Q174.45 69.9483 172.528 71.7307 Q170.63 73.5131 170.63 76.6381 Q170.63 79.7631 172.528 81.5455 Q174.45 83.3279 177.783 83.3279 Q181.116 83.3279 183.038 81.5455 Q184.959 79.7399 184.959 76.6381 Q184.959 73.5131 183.038 71.7307 Q181.139 69.9483 177.783 69.9483 M173.107 67.9576 Q170.098 67.2168 168.408 65.1567 Q166.741 63.0965 166.741 60.1335 Q166.741 55.99 169.681 53.5827 Q172.644 51.1753 177.783 51.1753 Q182.945 51.1753 185.885 53.5827 Q188.825 55.99 188.825 60.1335 Q188.825 63.0965 187.135 65.1567 Q185.468 67.2168 182.482 67.9576 Q185.862 68.7446 187.737 71.0363 Q189.635 73.3279 189.635 76.6381 Q189.635 81.6612 186.556 84.3464 Q183.501 87.0315 177.783 87.0315 Q172.065 87.0315 168.987 84.3464 Q165.931 81.6612 165.931 76.6381 Q165.931 73.3279 167.829 71.0363 Q169.728 68.7446 173.107 67.9576 M171.394 60.5734 Q171.394 63.2585 173.061 64.7631 Q174.751 66.2678 177.783 66.2678 Q180.792 66.2678 182.482 64.7631 Q184.195 63.2585 184.195 60.5734 Q184.195 57.8882 182.482 56.3836 Q180.792 54.8789 177.783 54.8789 Q174.751 54.8789 173.061 56.3836 Q171.394 57.8882 171.394 60.5734 Z\" fill=\"#000000\" fill-rule=\"evenodd\" fill-opacity=\"1\" /><path clip-path=\"url(#clip630)\" d=\"M32.3293 498.667 Q36.967 498.667 41.5724 500.341 Q46.1456 502.016 49.8493 504.818 Q53.553 507.588 56.4193 511.195 Q59.2534 514.77 60.7027 518.602 Q64.5674 518.119 66.0167 517.153 Q67.4981 516.154 67.4981 513.932 Q67.4981 512.644 66.9184 511.259 Q66.3387 509.842 64.825 508.393 Q63.3436 506.944 61.1536 506.203 Q60.4451 505.977 60.4451 505.398 Q60.4451 505.172 60.6383 504.947 Q60.7993 504.689 61.0892 504.689 Q61.3468 504.689 62.2808 504.979 Q63.247 505.237 64.7284 505.784 Q66.2099 506.332 67.7558 507.266 Q69.3339 508.2 70.7187 509.359 Q72.1036 510.486 72.9731 512.161 Q73.8749 513.836 73.8749 515.704 Q73.8749 517.249 73.2952 518.377 Q72.7155 519.472 71.9747 520.019 Q71.234 520.534 70.0424 520.824 Q68.883 521.114 68.2389 521.146 Q67.5948 521.179 66.6286 521.179 Q65.6302 521.179 61.54 520.921 Q62.5384 524.399 62.5384 527.362 Q62.5384 534.673 57.7398 539.472 Q52.9411 544.27 44.9218 544.27 Q39.318 544.27 33.7464 541.758 Q28.1426 539.246 23.988 535.253 Q19.8013 531.259 17.1926 526.009 Q14.5839 520.728 14.5839 515.51 Q14.5839 508.103 19.5114 503.401 Q24.4067 498.667 32.3293 498.667 M30.236 504.496 Q23.7304 504.496 19.9945 507.684 Q16.2264 510.84 16.2264 515.897 Q16.2264 519.762 18.7063 524.045 Q21.1861 528.296 25.9848 531.742 Q30.7835 535.124 36.8059 536.798 Q42.8284 538.441 47.0474 538.441 Q51.7173 538.441 55.2277 536.605 Q58.7059 534.769 60.1552 531.066 Q59.3823 531.452 58.0618 531.452 Q55.4853 531.452 53.4242 529.391 Q51.3308 527.33 51.3308 524.721 Q51.3308 523.562 51.6851 522.66 Q52.0071 521.726 52.6834 521.146 Q53.3598 520.534 54.0039 520.148 Q54.6158 519.729 55.6142 519.504 Q56.5803 519.246 57.0956 519.15 Q57.5787 519.053 58.4483 518.924 Q56.677 515.768 53.7784 513.192 Q50.8477 510.615 47.7559 509.037 Q44.632 507.459 41.2504 506.396 Q37.8365 505.333 35.1312 504.915 Q32.3937 504.496 30.236 504.496 M58.3839 520.728 Q55.3887 520.728 54.1005 521.694 Q52.7801 522.628 52.7801 524.721 Q52.7801 526.782 54.4226 528.393 Q56.0651 530.003 58.0618 530.003 Q59.0602 530.003 59.7043 529.713 Q60.3162 529.391 60.5739 528.811 Q60.7993 528.232 60.8637 527.877 Q60.8959 527.523 60.8959 526.976 Q60.8959 524.174 59.7043 521.436 Q59.5111 520.953 59.3178 520.857 Q59.1246 520.728 58.3839 520.728 Z\" fill=\"#000000\" fill-rule=\"evenodd\" fill-opacity=\"1\" /><path clip-path=\"url(#clip630)\" d=\"M65.6679 492.074 L64.2251 492.074 Q64.2251 486.528 61.2718 483.665 Q61.2718 482.876 61.4522 482.741 Q61.6325 482.605 62.4667 482.605 L88.3698 482.605 Q89.745 482.605 90.1734 481.929 Q90.6017 481.253 90.6017 478.299 L90.6017 476.834 L92.022 476.834 Q91.8867 478.457 91.8867 484.319 Q91.8867 490.18 92.022 491.781 L90.6017 491.781 L90.6017 490.315 Q90.6017 487.407 90.1959 486.708 Q89.7676 486.01 88.3698 486.01 L64.4505 486.01 Q65.6679 488.422 65.6679 492.074 Z\" fill=\"#000000\" fill-rule=\"evenodd\" fill-opacity=\"1\" /><path clip-path=\"url(#clip630)\" d=\"M77.5786 462.169 L11.621 462.169 L11.621 452.217 L13.1346 452.217 L13.1346 457.757 L76.0649 457.757 L76.0649 452.217 L77.5786 452.217 L77.5786 462.169 Z\" fill=\"#000000\" fill-rule=\"evenodd\" fill-opacity=\"1\" /><path clip-path=\"url(#clip630)\" d=\"M51.6529 396.841 Q51.9105 396.841 52.9089 397.131 Q53.9073 397.421 55.4531 398.13 Q56.999 398.806 58.4161 399.772 Q59.8009 400.706 60.8315 402.252 Q61.8299 403.766 61.8299 405.505 Q61.8299 407.824 60.284 409.369 Q58.7381 410.915 56.4193 410.915 Q55.1633 410.915 52.7801 410.046 Q41.8945 405.956 37.9976 405.956 Q33.3921 405.956 33.3921 409.531 Q33.3921 411.559 34.2295 413.395 Q35.0668 415.231 36.2262 416.423 Q37.3857 417.614 38.7061 418.548 Q40.0265 419.482 40.8961 419.901 Q41.7657 420.287 42.1521 420.384 L58.0618 424.345 Q59.4145 424.667 60.0586 424.893 Q60.7027 425.118 61.2502 425.73 Q61.8299 426.342 61.8299 427.308 Q61.8299 428.113 61.3468 428.693 Q60.8637 429.241 60.0264 429.241 Q59.8976 429.241 59.2212 429.079 Q58.5449 428.918 57.6109 428.693 Q56.677 428.468 56.1295 428.371 Q51.7495 427.212 51.1376 427.051 L43.4726 425.215 Q39.6723 424.216 37.9976 424.216 Q33.3921 424.216 33.3921 427.791 Q33.3921 429.563 34.0685 431.237 Q34.7126 432.88 35.6143 434.007 Q36.5161 435.134 37.7721 436.165 Q38.9959 437.163 39.8333 437.678 Q40.6384 438.162 41.4436 438.548 L44.7286 439.385 Q45.6304 439.579 49.1408 440.513 L55.0989 441.962 Q59.5433 442.992 59.962 443.218 Q60.8637 443.54 61.3468 444.248 Q61.8299 444.957 61.8299 445.665 Q61.8299 446.471 61.3468 447.018 Q60.8637 447.566 60.0264 447.566 Q59.8976 447.566 59.4145 447.469 Q58.9314 447.372 58.2551 447.211 Q57.5787 447.05 57.1923 446.986 L41.9589 443.153 Q39.1892 442.445 38.3196 442.284 Q37.4179 442.091 36.4195 442.091 Q33.3921 442.091 33.3921 444.152 Q33.3921 445.827 35.3889 446.922 Q37.3857 448.017 41.2504 448.95 Q42.3132 449.24 42.5386 449.434 Q42.764 449.595 42.764 450.078 Q42.7318 450.883 42.0877 450.883 Q41.9267 450.883 40.8961 450.625 Q39.8655 450.368 38.3196 449.884 Q36.7415 449.369 35.7109 448.822 Q35.0346 448.5 34.5837 448.21 Q34.1329 447.92 33.4243 447.34 Q32.7158 446.76 32.3293 445.891 Q31.9429 445.021 31.9429 443.959 Q31.9429 441.608 33.4565 439.868 Q34.9702 438.097 37.6755 437.872 Q31.9429 433.588 31.9429 427.598 Q31.9429 424.216 33.6498 422.187 Q35.2923 420.287 38.3196 420.062 Q31.9429 415.617 31.9429 409.305 Q31.9429 405.666 33.843 403.701 Q35.7109 401.737 38.9959 401.737 Q40.7029 401.737 43.9556 402.606 Q47.1762 403.476 48.7865 404.056 Q50.3968 404.635 53.4886 405.762 Q56.4515 406.954 58.1906 406.954 Q59.3178 406.954 59.8331 406.568 Q60.3484 406.181 60.3484 405.344 Q60.3484 404.056 59.6077 402.928 Q58.8348 401.801 57.5787 400.996 Q56.2905 400.159 55.0023 399.611 Q53.6818 399.064 52.2004 398.645 Q51.3952 398.387 51.202 398.258 Q51.0087 398.097 51.0087 397.647 Q51.0087 396.841 51.6529 396.841 Z\" fill=\"#000000\" fill-rule=\"evenodd\" fill-opacity=\"1\" /><path clip-path=\"url(#clip630)\" d=\"M52.2004 392.473 Q50.2358 392.473 49.3018 391.346 Q48.3679 390.219 48.3679 388.77 Q48.3679 387.256 49.3662 386.193 Q50.3324 385.098 52.0393 385.098 Q53.8751 385.098 54.9056 386.386 Q55.9362 387.642 55.6786 389.446 Q58.3195 387.868 59.5111 384.969 Q60.7027 382.039 60.7027 379.333 Q60.7027 376.499 58.2551 374.213 Q55.8074 371.894 49.8171 371.894 Q44.7286 371.894 41.7979 373.891 Q38.8671 375.855 38.8671 379.752 L38.8671 382.651 Q38.8671 383.649 38.7705 383.939 Q38.6739 384.229 38.1264 384.229 Q37.4823 384.229 37.3534 383.23 Q37.3534 382.232 37.1602 380.654 Q37.0314 376.821 33.7142 374.792 Q30.6224 372.957 26.2102 372.957 Q22.1845 372.957 20.5098 374.889 Q18.8029 376.789 18.8029 379.269 Q18.8029 381.588 19.769 384.132 Q20.7352 386.676 22.893 388.061 Q22.893 383.971 26.2102 383.971 Q27.6595 383.971 28.6257 384.905 Q29.5596 385.807 29.5596 387.32 Q29.5596 388.77 28.6579 389.736 Q27.7239 390.702 26.1458 390.702 Q22.3777 390.702 19.769 387.353 Q17.1604 383.971 17.1604 379.011 Q17.1604 374.116 19.7368 370.509 Q22.3133 366.87 26.2746 366.87 Q30.1715 366.87 33.3599 369.446 Q36.5483 372.023 37.8687 376.113 Q38.8671 371.089 42.2809 368.094 Q45.6626 365.098 49.8171 365.098 Q54.9701 365.098 58.7703 369.156 Q62.5384 373.214 62.5384 379.14 Q62.5384 384.615 59.5755 388.544 Q56.6126 392.473 52.2004 392.473 Z\" fill=\"#000000\" fill-rule=\"evenodd\" fill-opacity=\"1\" /><path clip-path=\"url(#clip630)\" d=\"M76.6446 359.809 Q76.3225 359.809 75.614 359.552 L13.3923 336.267 Q13.3279 336.267 12.9736 336.106 Q12.6193 335.945 12.3939 335.848 Q12.1363 335.752 11.943 335.558 Q11.7498 335.333 11.7498 335.075 Q11.7498 334.431 12.5549 334.431 Q12.6193 334.431 13.3923 334.624 L75.6784 357.974 Q76.8056 358.36 77.1277 358.618 Q77.4497 358.843 77.4497 359.23 Q77.4497 359.809 76.6446 359.809 Z\" fill=\"#000000\" fill-rule=\"evenodd\" fill-opacity=\"1\" /><path clip-path=\"url(#clip630)\" d=\"M51.6529 273.104 Q51.9105 273.104 52.9089 273.394 Q53.9073 273.683 55.4531 274.392 Q56.999 275.068 58.4161 276.035 Q59.8009 276.968 60.8315 278.514 Q61.8299 280.028 61.8299 281.767 Q61.8299 284.086 60.284 285.632 Q58.7381 287.178 56.4193 287.178 Q55.1633 287.178 52.7801 286.308 Q41.8945 282.218 37.9976 282.218 Q33.3921 282.218 33.3921 285.793 Q33.3921 287.822 34.2295 289.658 Q35.0668 291.493 36.2262 292.685 Q37.3857 293.877 38.7061 294.811 Q40.0265 295.745 40.8961 296.163 Q41.7657 296.55 42.1521 296.646 L58.0618 300.608 Q59.4145 300.93 60.0586 301.155 Q60.7027 301.381 61.2502 301.992 Q61.8299 302.604 61.8299 303.571 Q61.8299 304.376 61.3468 304.955 Q60.8637 305.503 60.0264 305.503 Q59.8976 305.503 59.2212 305.342 Q58.5449 305.181 57.6109 304.955 Q56.677 304.73 56.1295 304.633 Q51.7495 303.474 51.1376 303.313 L43.4726 301.477 Q39.6723 300.479 37.9976 300.479 Q33.3921 300.479 33.3921 304.054 Q33.3921 305.825 34.0685 307.5 Q34.7126 309.142 35.6143 310.269 Q36.5161 311.397 37.7721 312.427 Q38.9959 313.426 39.8333 313.941 Q40.6384 314.424 41.4436 314.81 L44.7286 315.648 Q45.6304 315.841 49.1408 316.775 L55.0989 318.224 Q59.5433 319.255 59.962 319.48 Q60.8637 319.802 61.3468 320.511 Q61.8299 321.219 61.8299 321.928 Q61.8299 322.733 61.3468 323.281 Q60.8637 323.828 60.0264 323.828 Q59.8976 323.828 59.4145 323.731 Q58.9314 323.635 58.2551 323.474 Q57.5787 323.313 57.1923 323.248 L41.9589 319.416 Q39.1892 318.707 38.3196 318.546 Q37.4179 318.353 36.4195 318.353 Q33.3921 318.353 33.3921 320.414 Q33.3921 322.089 35.3889 323.184 Q37.3857 324.279 41.2504 325.213 Q42.3132 325.503 42.5386 325.696 Q42.764 325.857 42.764 326.34 Q42.7318 327.145 42.0877 327.145 Q41.9267 327.145 40.8961 326.888 Q39.8655 326.63 38.3196 326.147 Q36.7415 325.632 35.7109 325.084 Q35.0346 324.762 34.5837 324.472 Q34.1329 324.182 33.4243 323.603 Q32.7158 323.023 32.3293 322.153 Q31.9429 321.284 31.9429 320.221 Q31.9429 317.87 33.4565 316.131 Q34.9702 314.359 37.6755 314.134 Q31.9429 309.851 31.9429 303.86 Q31.9429 300.479 33.6498 298.45 Q35.2923 296.55 38.3196 296.324 Q31.9429 291.88 31.9429 285.567 Q31.9429 281.928 33.843 279.964 Q35.7109 277.999 38.9959 277.999 Q40.7029 277.999 43.9556 278.869 Q47.1762 279.738 48.7865 280.318 Q50.3968 280.898 53.4886 282.025 Q56.4515 283.216 58.1906 283.216 Q59.3178 283.216 59.8331 282.83 Q60.3484 282.443 60.3484 281.606 Q60.3484 280.318 59.6077 279.191 Q58.8348 278.063 57.5787 277.258 Q56.2905 276.421 55.0023 275.873 Q53.6818 275.326 52.2004 274.907 Q51.3952 274.65 51.202 274.521 Q51.0087 274.36 51.0087 273.909 Q51.0087 273.104 51.6529 273.104 Z\" fill=\"#000000\" fill-rule=\"evenodd\" fill-opacity=\"1\" /><path clip-path=\"url(#clip630)\" d=\"M19.8657 253.212 Q21.2827 253.212 22.3455 254.371 Q23.3761 255.499 23.3761 256.722 Q23.3761 257.85 22.6998 258.558 Q21.9913 259.235 20.9929 259.235 Q19.6724 259.235 18.5774 258.107 Q17.4824 256.98 17.4824 255.66 Q17.4824 254.565 18.1588 253.888 Q18.8351 253.212 19.8657 253.212 M51.6529 252.632 Q51.9105 252.632 52.9411 252.922 Q53.9395 253.212 55.4853 253.921 Q56.999 254.597 58.4161 255.531 Q59.8331 256.465 60.8315 258.011 Q61.8299 259.524 61.8299 261.264 Q61.8299 263.615 60.284 265.16 Q58.7381 266.674 56.4193 266.674 Q55.1633 266.674 51.1376 265.16 Q39.4146 260.78 38.9315 260.619 Q37.0958 259.879 35.4855 259.879 Q34.7448 259.879 34.2939 260.04 Q33.8108 260.201 33.6498 260.523 Q33.4565 260.845 33.4243 261.038 Q33.3921 261.199 33.3921 261.521 Q33.3921 263.421 35.3245 265.193 Q37.2568 266.964 41.5724 268.188 Q42.3776 268.445 42.5708 268.606 Q42.764 268.767 42.764 269.251 Q42.7318 270.056 42.0877 270.056 Q41.8945 270.056 41.1537 269.83 Q40.3808 269.605 39.2214 269.186 Q38.0298 268.767 36.8059 268.027 Q35.5499 267.286 34.4549 266.384 Q33.3599 265.45 32.6514 264.13 Q31.9429 262.809 31.9429 261.328 Q31.9429 258.912 33.521 257.431 Q35.0668 255.917 37.3534 255.917 Q38.6095 255.917 40.8317 256.787 Q43.7302 257.85 44.6642 258.236 L51.5884 260.813 Q54.1005 261.747 54.8734 262.036 Q55.6142 262.294 56.5159 262.52 Q57.3855 262.713 58.1906 262.713 Q59.3178 262.713 59.8331 262.359 Q60.3484 261.972 60.3484 261.135 Q60.3484 258.816 58.0618 257.109 Q55.743 255.402 52.2004 254.404 Q52.1037 254.371 51.9427 254.339 Q51.1376 254.082 51.0409 253.824 Q51.0087 253.695 51.0087 253.437 Q51.0087 252.632 51.6529 252.632 Z\" fill=\"#000000\" fill-rule=\"evenodd\" fill-opacity=\"1\" /><path clip-path=\"url(#clip630)\" d=\"M51.6529 211.259 Q51.9105 211.259 52.9089 211.549 Q53.9073 211.839 55.4531 212.547 Q56.999 213.223 58.4161 214.157 Q59.8009 215.091 60.8315 216.637 Q61.8299 218.151 61.8299 219.89 Q61.8299 222.209 60.284 223.755 Q58.7381 225.301 56.4193 225.301 Q55.1311 225.301 53.3598 224.624 Q41.9267 220.341 37.9976 220.341 Q33.3921 220.341 33.3921 223.916 Q33.3921 225.687 34.0685 227.362 Q34.7126 229.004 35.6143 230.132 Q36.5161 231.259 37.7721 232.289 Q38.9959 233.288 39.8333 233.803 Q40.6384 234.286 41.4436 234.673 L44.7286 235.51 Q45.6304 235.703 49.1408 236.637 L55.0989 238.086 Q59.5433 239.117 59.962 239.342 Q60.8637 239.664 61.3468 240.373 Q61.8299 241.082 61.8299 241.79 Q61.8299 242.595 61.3468 243.143 Q60.8637 243.69 60.0264 243.69 Q59.8976 243.69 59.4145 243.594 Q58.9314 243.497 58.2551 243.336 Q57.5787 243.175 57.1923 243.11 L41.9589 239.278 Q39.1892 238.569 38.3196 238.408 Q37.4179 238.215 36.4195 238.215 Q33.3921 238.215 33.3921 240.276 Q33.3921 241.951 35.3889 243.046 Q37.3857 244.141 41.2504 245.075 Q42.3132 245.365 42.5386 245.558 Q42.764 245.719 42.764 246.202 Q42.7318 247.007 42.0877 247.007 Q41.9267 247.007 40.8639 246.75 Q39.8011 246.492 38.2874 246.009 Q36.7415 245.494 35.7109 245.011 Q34.938 244.592 34.5837 244.367 Q34.1973 244.109 33.4565 243.497 Q32.6836 242.853 32.3293 242.015 Q31.9429 241.146 31.9429 240.083 Q31.9429 237.7 33.4887 235.961 Q35.0024 234.222 37.6755 233.996 Q31.9429 229.713 31.9429 223.723 Q31.9429 220.18 33.8108 218.151 Q35.6787 216.122 38.9959 216.122 Q39.7689 216.122 40.7673 216.283 Q41.7334 216.412 42.9573 216.734 Q44.1811 217.024 45.1151 217.281 Q46.049 217.539 47.5627 218.054 Q49.0442 218.57 49.6883 218.795 Q50.3324 219.02 51.8461 219.568 Q53.3276 220.083 53.4886 220.148 Q56.4837 221.339 58.1906 221.339 Q59.3178 221.339 59.8331 220.985 Q60.3484 220.599 60.3484 219.761 Q60.3484 217.507 58.1262 215.832 Q55.8718 214.125 52.2004 213.03 Q51.3952 212.773 51.202 212.644 Q51.0087 212.483 51.0087 212.032 Q51.0087 211.259 51.6529 211.259 Z\" fill=\"#000000\" fill-rule=\"evenodd\" fill-opacity=\"1\" /><path clip-path=\"url(#clip630)\" d=\"M76.0649 207.572 L76.0649 202.033 L13.1346 202.033 L13.1346 207.572 L11.621 207.572 L11.621 197.62 L77.5786 197.62 L77.5786 207.572 L76.0649 207.572 Z\" fill=\"#000000\" fill-rule=\"evenodd\" fill-opacity=\"1\" /><polyline clip-path=\"url(#clip633)\" style=\"stroke:#000000; stroke-linecap:round; stroke-linejoin:round; stroke-width:4; stroke-opacity:1; fill:none\" stroke-dasharray=\"2, 4\" points=\"285.836,69.0803 337.291,69.0803 388.745,69.0803 440.199,69.0803 491.654,69.0803 543.108,69.0803 594.562,69.0803 646.017,69.0803 697.471,69.0803 748.925,69.0803 800.379,69.0803 851.834,69.0803 903.288,69.0803 954.742,69.0803 1006.2,69.0803 1057.65,69.0803 1109.11,69.0803 1160.56,69.0803 1212.01,69.0803 1263.47,69.0803 1314.92,69.0803 1366.38,69.0803 1417.83,69.0803 1469.29,69.0803 1520.74,69.0803 1572.19,69.0803 1623.65,69.0803 1675.1,69.0803 1726.56,69.0803 1778.01,69.0803 1829.47,69.0803 1880.92,69.0803 1932.37,69.0803 1983.83,69.0803 2035.28,69.0803 2086.74,69.0803 2138.19,69.0803 2189.65,69.0803 2241.1,69.0803 2292.55,69.0803 \"/>\n",
       "<polyline clip-path=\"url(#clip633)\" style=\"stroke:#000000; stroke-linecap:round; stroke-linejoin:round; stroke-width:4; stroke-opacity:1; fill:none\" stroke-dasharray=\"2, 4\" points=\"285.836,630.902 337.291,630.902 388.745,630.902 440.199,630.902 491.654,630.902 543.108,630.902 594.562,630.902 646.017,630.902 697.471,630.902 748.925,630.902 800.379,630.902 851.834,630.902 903.288,630.902 954.742,630.902 1006.2,630.902 1057.65,630.902 1109.11,630.902 1160.56,630.902 1212.01,630.902 1263.47,630.902 1314.92,630.902 1366.38,630.902 1417.83,630.902 1469.29,630.902 1520.74,630.902 1572.19,630.902 1623.65,630.902 1675.1,630.902 1726.56,630.902 1778.01,630.902 1829.47,630.902 1880.92,630.902 1932.37,630.902 1983.83,630.902 2035.28,630.902 2086.74,630.902 2138.19,630.902 2189.65,630.902 2241.1,630.902 2292.55,630.902 \"/>\n",
       "<polyline clip-path=\"url(#clip633)\" style=\"stroke:#ff0000; stroke-linecap:round; stroke-linejoin:round; stroke-width:12; stroke-opacity:0.3; fill:none\" points=\"285.836,518.538 337.291,70.0599 388.745,65.3348 440.199,65.3348 491.654,65.3348 543.108,65.3348 594.562,65.3348 646.017,197.937 697.471,226.582 748.925,267.265 800.379,303.458 851.834,403.802 903.288,366.331 954.742,347.544 1006.2,340.713 1057.65,340.423 1109.11,367.073 1160.56,352.865 1212.01,346.818 1263.47,374.391 1314.92,354.566 1366.38,345.76 1417.83,343.511 1469.29,375.509 1520.74,358.188 1572.19,346.997 1623.65,343.458 1675.1,376.457 1726.56,358.522 1778.01,346.414 1829.47,342.601 1880.92,378.131 1932.37,358.145 1983.83,345.663 2035.28,341.844 2086.74,378.419 2138.19,354.955 2189.65,344.487 2241.1,341.768 2292.55,392.982 \"/>\n",
       "<polyline clip-path=\"url(#clip633)\" style=\"stroke:#0000ff; stroke-linecap:round; stroke-linejoin:round; stroke-width:12; stroke-opacity:0.3; fill:none\" points=\"285.836,668.357 337.291,668.357 388.745,668.357 440.199,668.357 491.654,668.357 543.108,668.357 594.562,668.357 646.017,668.357 697.471,668.357 748.925,668.357 800.379,668.357 851.834,668.357 903.288,668.357 954.742,668.357 1006.2,668.357 1057.65,668.357 1109.11,668.357 1160.56,668.357 1212.01,668.357 1263.47,668.357 1314.92,668.357 1366.38,668.357 1417.83,668.357 1469.29,668.357 1520.74,668.357 1572.19,668.357 1623.65,668.357 1675.1,668.357 1726.56,668.357 1778.01,668.357 1829.47,668.357 1880.92,668.357 1932.37,668.357 1983.83,668.357 2035.28,668.357 2086.74,668.357 2138.19,668.357 2189.65,668.357 2241.1,668.357 2292.55,668.357 \"/>\n",
       "<path clip-path=\"url(#clip630)\" d=\"M225.635 1486.45 L2352.76 1486.45 L2352.76 847.244 L225.635 847.244  Z\" fill=\"#ffffff\" fill-rule=\"evenodd\" fill-opacity=\"1\"/>\n",
       "<defs>\n",
       "  <clipPath id=\"clip634\">\n",
       "    <rect x=\"225\" y=\"847\" width=\"2128\" height=\"640\"/>\n",
       "  </clipPath>\n",
       "</defs>\n",
       "<polyline clip-path=\"url(#clip634)\" style=\"stroke:#000000; stroke-linecap:round; stroke-linejoin:round; stroke-width:8; stroke-opacity:0.1; fill:none\" points=\"234.382,1486.45 234.382,847.244 \"/>\n",
       "<polyline clip-path=\"url(#clip634)\" style=\"stroke:#000000; stroke-linecap:round; stroke-linejoin:round; stroke-width:8; stroke-opacity:0.1; fill:none\" points=\"748.925,1486.45 748.925,847.244 \"/>\n",
       "<polyline clip-path=\"url(#clip634)\" style=\"stroke:#000000; stroke-linecap:round; stroke-linejoin:round; stroke-width:8; stroke-opacity:0.1; fill:none\" points=\"1263.47,1486.45 1263.47,847.244 \"/>\n",
       "<polyline clip-path=\"url(#clip634)\" style=\"stroke:#000000; stroke-linecap:round; stroke-linejoin:round; stroke-width:8; stroke-opacity:0.1; fill:none\" points=\"1778.01,1486.45 1778.01,847.244 \"/>\n",
       "<polyline clip-path=\"url(#clip634)\" style=\"stroke:#000000; stroke-linecap:round; stroke-linejoin:round; stroke-width:8; stroke-opacity:0.1; fill:none\" points=\"2292.55,1486.45 2292.55,847.244 \"/>\n",
       "<polyline clip-path=\"url(#clip630)\" style=\"stroke:#000000; stroke-linecap:round; stroke-linejoin:round; stroke-width:4; stroke-opacity:1; fill:none\" points=\"225.635,1486.45 2352.76,1486.45 \"/>\n",
       "<polyline clip-path=\"url(#clip630)\" style=\"stroke:#000000; stroke-linecap:round; stroke-linejoin:round; stroke-width:4; stroke-opacity:1; fill:none\" points=\"234.382,1486.45 234.382,1467.55 \"/>\n",
       "<polyline clip-path=\"url(#clip630)\" style=\"stroke:#000000; stroke-linecap:round; stroke-linejoin:round; stroke-width:4; stroke-opacity:1; fill:none\" points=\"748.925,1486.45 748.925,1467.55 \"/>\n",
       "<polyline clip-path=\"url(#clip630)\" style=\"stroke:#000000; stroke-linecap:round; stroke-linejoin:round; stroke-width:4; stroke-opacity:1; fill:none\" points=\"1263.47,1486.45 1263.47,1467.55 \"/>\n",
       "<polyline clip-path=\"url(#clip630)\" style=\"stroke:#000000; stroke-linecap:round; stroke-linejoin:round; stroke-width:4; stroke-opacity:1; fill:none\" points=\"1778.01,1486.45 1778.01,1467.55 \"/>\n",
       "<polyline clip-path=\"url(#clip630)\" style=\"stroke:#000000; stroke-linecap:round; stroke-linejoin:round; stroke-width:4; stroke-opacity:1; fill:none\" points=\"2292.55,1486.45 2292.55,1467.55 \"/>\n",
       "<path clip-path=\"url(#clip630)\" d=\"M234.382 1517.37 Q230.771 1517.37 228.942 1520.93 Q227.137 1524.47 227.137 1531.6 Q227.137 1538.71 228.942 1542.27 Q230.771 1545.82 234.382 1545.82 Q238.016 1545.82 239.822 1542.27 Q241.651 1538.71 241.651 1531.6 Q241.651 1524.47 239.822 1520.93 Q238.016 1517.37 234.382 1517.37 M234.382 1513.66 Q240.192 1513.66 243.248 1518.27 Q246.326 1522.85 246.326 1531.6 Q246.326 1540.33 243.248 1544.94 Q240.192 1549.52 234.382 1549.52 Q228.572 1549.52 225.493 1544.94 Q222.438 1540.33 222.438 1531.6 Q222.438 1522.85 225.493 1518.27 Q228.572 1513.66 234.382 1513.66 Z\" fill=\"#000000\" fill-rule=\"evenodd\" fill-opacity=\"1\" /><path clip-path=\"url(#clip630)\" d=\"M723.613 1544.91 L731.252 1544.91 L731.252 1518.55 L722.941 1520.21 L722.941 1515.95 L731.205 1514.29 L735.881 1514.29 L735.881 1544.91 L743.52 1544.91 L743.52 1548.85 L723.613 1548.85 L723.613 1544.91 Z\" fill=\"#000000\" fill-rule=\"evenodd\" fill-opacity=\"1\" /><path clip-path=\"url(#clip630)\" d=\"M762.964 1517.37 Q759.353 1517.37 757.525 1520.93 Q755.719 1524.47 755.719 1531.6 Q755.719 1538.71 757.525 1542.27 Q759.353 1545.82 762.964 1545.82 Q766.599 1545.82 768.404 1542.27 Q770.233 1538.71 770.233 1531.6 Q770.233 1524.47 768.404 1520.93 Q766.599 1517.37 762.964 1517.37 M762.964 1513.66 Q768.775 1513.66 771.83 1518.27 Q774.909 1522.85 774.909 1531.6 Q774.909 1540.33 771.83 1544.94 Q768.775 1549.52 762.964 1549.52 Q757.154 1549.52 754.076 1544.94 Q751.02 1540.33 751.02 1531.6 Q751.02 1522.85 754.076 1518.27 Q757.154 1513.66 762.964 1513.66 Z\" fill=\"#000000\" fill-rule=\"evenodd\" fill-opacity=\"1\" /><path clip-path=\"url(#clip630)\" d=\"M1242.24 1544.91 L1258.56 1544.91 L1258.56 1548.85 L1236.62 1548.85 L1236.62 1544.91 Q1239.28 1542.16 1243.86 1537.53 Q1248.47 1532.88 1249.65 1531.53 Q1251.89 1529.01 1252.77 1527.27 Q1253.68 1525.51 1253.68 1523.82 Q1253.68 1521.07 1251.73 1519.33 Q1249.81 1517.6 1246.71 1517.6 Q1244.51 1517.6 1242.06 1518.36 Q1239.63 1519.13 1236.85 1520.68 L1236.85 1515.95 Q1239.67 1514.82 1242.13 1514.24 Q1244.58 1513.66 1246.62 1513.66 Q1251.99 1513.66 1255.18 1516.35 Q1258.38 1519.03 1258.38 1523.52 Q1258.38 1525.65 1257.57 1527.57 Q1256.78 1529.47 1254.67 1532.07 Q1254.09 1532.74 1250.99 1535.95 Q1247.89 1539.15 1242.24 1544.91 Z\" fill=\"#000000\" fill-rule=\"evenodd\" fill-opacity=\"1\" /><path clip-path=\"url(#clip630)\" d=\"M1278.38 1517.37 Q1274.76 1517.37 1272.94 1520.93 Q1271.13 1524.47 1271.13 1531.6 Q1271.13 1538.71 1272.94 1542.27 Q1274.76 1545.82 1278.38 1545.82 Q1282.01 1545.82 1283.82 1542.27 Q1285.64 1538.71 1285.64 1531.6 Q1285.64 1524.47 1283.82 1520.93 Q1282.01 1517.37 1278.38 1517.37 M1278.38 1513.66 Q1284.19 1513.66 1287.24 1518.27 Q1290.32 1522.85 1290.32 1531.6 Q1290.32 1540.33 1287.24 1544.94 Q1284.19 1549.52 1278.38 1549.52 Q1272.57 1549.52 1269.49 1544.94 Q1266.43 1540.33 1266.43 1531.6 Q1266.43 1522.85 1269.49 1518.27 Q1272.57 1513.66 1278.38 1513.66 Z\" fill=\"#000000\" fill-rule=\"evenodd\" fill-opacity=\"1\" /><path clip-path=\"url(#clip630)\" d=\"M1766.85 1530.21 Q1770.21 1530.93 1772.09 1533.2 Q1773.98 1535.47 1773.98 1538.8 Q1773.98 1543.92 1770.47 1546.72 Q1766.95 1549.52 1760.47 1549.52 Q1758.29 1549.52 1755.97 1549.08 Q1753.68 1548.66 1751.23 1547.81 L1751.23 1543.29 Q1753.17 1544.43 1755.49 1545.01 Q1757.8 1545.58 1760.33 1545.58 Q1764.72 1545.58 1767.02 1543.85 Q1769.33 1542.11 1769.33 1538.8 Q1769.33 1535.75 1767.18 1534.03 Q1765.05 1532.3 1761.23 1532.3 L1757.2 1532.3 L1757.2 1528.45 L1761.41 1528.45 Q1764.86 1528.45 1766.69 1527.09 Q1768.52 1525.7 1768.52 1523.11 Q1768.52 1520.45 1766.62 1519.03 Q1764.75 1517.6 1761.23 1517.6 Q1759.31 1517.6 1757.11 1518.01 Q1754.91 1518.43 1752.27 1519.31 L1752.27 1515.14 Q1754.93 1514.4 1757.25 1514.03 Q1759.59 1513.66 1761.65 1513.66 Q1766.97 1513.66 1770.07 1516.09 Q1773.17 1518.5 1773.17 1522.62 Q1773.17 1525.49 1771.53 1527.48 Q1769.89 1529.45 1766.85 1530.21 Z\" fill=\"#000000\" fill-rule=\"evenodd\" fill-opacity=\"1\" /><path clip-path=\"url(#clip630)\" d=\"M1792.85 1517.37 Q1789.24 1517.37 1787.41 1520.93 Q1785.6 1524.47 1785.6 1531.6 Q1785.6 1538.71 1787.41 1542.27 Q1789.24 1545.82 1792.85 1545.82 Q1796.48 1545.82 1798.29 1542.27 Q1800.12 1538.71 1800.12 1531.6 Q1800.12 1524.47 1798.29 1520.93 Q1796.48 1517.37 1792.85 1517.37 M1792.85 1513.66 Q1798.66 1513.66 1801.71 1518.27 Q1804.79 1522.85 1804.79 1531.6 Q1804.79 1540.33 1801.71 1544.94 Q1798.66 1549.52 1792.85 1549.52 Q1787.04 1549.52 1783.96 1544.94 Q1780.9 1540.33 1780.9 1531.6 Q1780.9 1522.85 1783.96 1518.27 Q1787.04 1513.66 1792.85 1513.66 Z\" fill=\"#000000\" fill-rule=\"evenodd\" fill-opacity=\"1\" /><path clip-path=\"url(#clip630)\" d=\"M2280.73 1518.36 L2268.92 1536.81 L2280.73 1536.81 L2280.73 1518.36 M2279.5 1514.29 L2285.38 1514.29 L2285.38 1536.81 L2290.31 1536.81 L2290.31 1540.7 L2285.38 1540.7 L2285.38 1548.85 L2280.73 1548.85 L2280.73 1540.7 L2265.12 1540.7 L2265.12 1536.19 L2279.5 1514.29 Z\" fill=\"#000000\" fill-rule=\"evenodd\" fill-opacity=\"1\" /><path clip-path=\"url(#clip630)\" d=\"M2308.04 1517.37 Q2304.43 1517.37 2302.6 1520.93 Q2300.8 1524.47 2300.8 1531.6 Q2300.8 1538.71 2302.6 1542.27 Q2304.43 1545.82 2308.04 1545.82 Q2311.67 1545.82 2313.48 1542.27 Q2315.31 1538.71 2315.31 1531.6 Q2315.31 1524.47 2313.48 1520.93 Q2311.67 1517.37 2308.04 1517.37 M2308.04 1513.66 Q2313.85 1513.66 2316.91 1518.27 Q2319.98 1522.85 2319.98 1531.6 Q2319.98 1540.33 2316.91 1544.94 Q2313.85 1549.52 2308.04 1549.52 Q2302.23 1549.52 2299.15 1544.94 Q2296.1 1540.33 2296.1 1531.6 Q2296.1 1522.85 2299.15 1518.27 Q2302.23 1513.66 2308.04 1513.66 Z\" fill=\"#000000\" fill-rule=\"evenodd\" fill-opacity=\"1\" /><polyline clip-path=\"url(#clip634)\" style=\"stroke:#000000; stroke-linecap:round; stroke-linejoin:round; stroke-width:8; stroke-opacity:0.1; fill:none\" points=\"225.635,1468.36 2352.76,1468.36 \"/>\n",
       "<polyline clip-path=\"url(#clip634)\" style=\"stroke:#000000; stroke-linecap:round; stroke-linejoin:round; stroke-width:8; stroke-opacity:0.1; fill:none\" points=\"225.635,1318.54 2352.76,1318.54 \"/>\n",
       "<polyline clip-path=\"url(#clip634)\" style=\"stroke:#000000; stroke-linecap:round; stroke-linejoin:round; stroke-width:8; stroke-opacity:0.1; fill:none\" points=\"225.635,1168.72 2352.76,1168.72 \"/>\n",
       "<polyline clip-path=\"url(#clip634)\" style=\"stroke:#000000; stroke-linecap:round; stroke-linejoin:round; stroke-width:8; stroke-opacity:0.1; fill:none\" points=\"225.635,1018.9 2352.76,1018.9 \"/>\n",
       "<polyline clip-path=\"url(#clip634)\" style=\"stroke:#000000; stroke-linecap:round; stroke-linejoin:round; stroke-width:8; stroke-opacity:0.1; fill:none\" points=\"225.635,869.08 2352.76,869.08 \"/>\n",
       "<polyline clip-path=\"url(#clip630)\" style=\"stroke:#000000; stroke-linecap:round; stroke-linejoin:round; stroke-width:4; stroke-opacity:1; fill:none\" points=\"225.635,1486.45 225.635,847.244 \"/>\n",
       "<polyline clip-path=\"url(#clip630)\" style=\"stroke:#000000; stroke-linecap:round; stroke-linejoin:round; stroke-width:4; stroke-opacity:1; fill:none\" points=\"225.635,1468.36 244.532,1468.36 \"/>\n",
       "<polyline clip-path=\"url(#clip630)\" style=\"stroke:#000000; stroke-linecap:round; stroke-linejoin:round; stroke-width:4; stroke-opacity:1; fill:none\" points=\"225.635,1318.54 244.532,1318.54 \"/>\n",
       "<polyline clip-path=\"url(#clip630)\" style=\"stroke:#000000; stroke-linecap:round; stroke-linejoin:round; stroke-width:4; stroke-opacity:1; fill:none\" points=\"225.635,1168.72 244.532,1168.72 \"/>\n",
       "<polyline clip-path=\"url(#clip630)\" style=\"stroke:#000000; stroke-linecap:round; stroke-linejoin:round; stroke-width:4; stroke-opacity:1; fill:none\" points=\"225.635,1018.9 244.532,1018.9 \"/>\n",
       "<polyline clip-path=\"url(#clip630)\" style=\"stroke:#000000; stroke-linecap:round; stroke-linejoin:round; stroke-width:4; stroke-opacity:1; fill:none\" points=\"225.635,869.08 244.532,869.08 \"/>\n",
       "<path clip-path=\"url(#clip630)\" d=\"M132.459 1454.16 Q128.848 1454.16 127.019 1457.72 Q125.214 1461.26 125.214 1468.39 Q125.214 1475.5 127.019 1479.06 Q128.848 1482.6 132.459 1482.6 Q136.093 1482.6 137.899 1479.06 Q139.728 1475.5 139.728 1468.39 Q139.728 1461.26 137.899 1457.72 Q136.093 1454.16 132.459 1454.16 M132.459 1450.45 Q138.269 1450.45 141.325 1455.06 Q144.404 1459.64 144.404 1468.39 Q144.404 1477.12 141.325 1481.73 Q138.269 1486.31 132.459 1486.31 Q126.649 1486.31 123.57 1481.73 Q120.515 1477.12 120.515 1468.39 Q120.515 1459.64 123.57 1455.06 Q126.649 1450.45 132.459 1450.45 Z\" fill=\"#000000\" fill-rule=\"evenodd\" fill-opacity=\"1\" /><path clip-path=\"url(#clip630)\" d=\"M152.621 1479.76 L157.505 1479.76 L157.505 1485.64 L152.621 1485.64 L152.621 1479.76 Z\" fill=\"#000000\" fill-rule=\"evenodd\" fill-opacity=\"1\" /><path clip-path=\"url(#clip630)\" d=\"M177.69 1454.16 Q174.079 1454.16 172.251 1457.72 Q170.445 1461.26 170.445 1468.39 Q170.445 1475.5 172.251 1479.06 Q174.079 1482.6 177.69 1482.6 Q181.325 1482.6 183.13 1479.06 Q184.959 1475.5 184.959 1468.39 Q184.959 1461.26 183.13 1457.72 Q181.325 1454.16 177.69 1454.16 M177.69 1450.45 Q183.501 1450.45 186.556 1455.06 Q189.635 1459.64 189.635 1468.39 Q189.635 1477.12 186.556 1481.73 Q183.501 1486.31 177.69 1486.31 Q171.88 1486.31 168.802 1481.73 Q165.746 1477.12 165.746 1468.39 Q165.746 1459.64 168.802 1455.06 Q171.88 1450.45 177.69 1450.45 Z\" fill=\"#000000\" fill-rule=\"evenodd\" fill-opacity=\"1\" /><path clip-path=\"url(#clip630)\" d=\"M134.056 1304.34 Q130.445 1304.34 128.617 1307.9 Q126.811 1311.44 126.811 1318.57 Q126.811 1325.68 128.617 1329.24 Q130.445 1332.79 134.056 1332.79 Q137.691 1332.79 139.496 1329.24 Q141.325 1325.68 141.325 1318.57 Q141.325 1311.44 139.496 1307.9 Q137.691 1304.34 134.056 1304.34 M134.056 1300.63 Q139.867 1300.63 142.922 1305.24 Q146.001 1309.82 146.001 1318.57 Q146.001 1327.3 142.922 1331.91 Q139.867 1336.49 134.056 1336.49 Q128.246 1336.49 125.168 1331.91 Q122.112 1327.3 122.112 1318.57 Q122.112 1309.82 125.168 1305.24 Q128.246 1300.63 134.056 1300.63 Z\" fill=\"#000000\" fill-rule=\"evenodd\" fill-opacity=\"1\" /><path clip-path=\"url(#clip630)\" d=\"M154.218 1329.94 L159.103 1329.94 L159.103 1335.82 L154.218 1335.82 L154.218 1329.94 Z\" fill=\"#000000\" fill-rule=\"evenodd\" fill-opacity=\"1\" /><path clip-path=\"url(#clip630)\" d=\"M173.315 1331.88 L189.635 1331.88 L189.635 1335.82 L167.69 1335.82 L167.69 1331.88 Q170.353 1329.13 174.936 1324.5 Q179.542 1319.85 180.723 1318.5 Q182.968 1315.98 183.848 1314.24 Q184.751 1312.48 184.751 1310.79 Q184.751 1308.04 182.806 1306.3 Q180.885 1304.57 177.783 1304.57 Q175.584 1304.57 173.13 1305.33 Q170.7 1306.1 167.922 1307.65 L167.922 1302.92 Q170.746 1301.79 173.2 1301.21 Q175.653 1300.63 177.69 1300.63 Q183.061 1300.63 186.255 1303.32 Q189.45 1306 189.45 1310.49 Q189.45 1312.62 188.639 1314.54 Q187.852 1316.44 185.746 1319.04 Q185.167 1319.71 182.065 1322.92 Q178.964 1326.12 173.315 1331.88 Z\" fill=\"#000000\" fill-rule=\"evenodd\" fill-opacity=\"1\" /><path clip-path=\"url(#clip630)\" d=\"M131.973 1154.52 Q128.362 1154.52 126.533 1158.08 Q124.728 1161.62 124.728 1168.75 Q124.728 1175.86 126.533 1179.42 Q128.362 1182.97 131.973 1182.97 Q135.607 1182.97 137.413 1179.42 Q139.242 1175.86 139.242 1168.75 Q139.242 1161.62 137.413 1158.08 Q135.607 1154.52 131.973 1154.52 M131.973 1150.81 Q137.783 1150.81 140.839 1155.42 Q143.917 1160 143.917 1168.75 Q143.917 1177.48 140.839 1182.09 Q137.783 1186.67 131.973 1186.67 Q126.163 1186.67 123.084 1182.09 Q120.029 1177.48 120.029 1168.75 Q120.029 1160 123.084 1155.42 Q126.163 1150.81 131.973 1150.81 Z\" fill=\"#000000\" fill-rule=\"evenodd\" fill-opacity=\"1\" /><path clip-path=\"url(#clip630)\" d=\"M152.135 1180.12 L157.019 1180.12 L157.019 1186 L152.135 1186 L152.135 1180.12 Z\" fill=\"#000000\" fill-rule=\"evenodd\" fill-opacity=\"1\" /><path clip-path=\"url(#clip630)\" d=\"M180.052 1155.51 L168.246 1173.96 L180.052 1173.96 L180.052 1155.51 M178.825 1151.44 L184.704 1151.44 L184.704 1173.96 L189.635 1173.96 L189.635 1177.85 L184.704 1177.85 L184.704 1186 L180.052 1186 L180.052 1177.85 L164.45 1177.85 L164.45 1173.34 L178.825 1151.44 Z\" fill=\"#000000\" fill-rule=\"evenodd\" fill-opacity=\"1\" /><path clip-path=\"url(#clip630)\" d=\"M132.297 1004.7 Q128.686 1004.7 126.857 1008.26 Q125.052 1011.8 125.052 1018.93 Q125.052 1026.04 126.857 1029.61 Q128.686 1033.15 132.297 1033.15 Q135.931 1033.15 137.737 1029.61 Q139.566 1026.04 139.566 1018.93 Q139.566 1011.8 137.737 1008.26 Q135.931 1004.7 132.297 1004.7 M132.297 1000.99 Q138.107 1000.99 141.163 1005.6 Q144.242 1010.18 144.242 1018.93 Q144.242 1027.66 141.163 1032.27 Q138.107 1036.85 132.297 1036.85 Q126.487 1036.85 123.408 1032.27 Q120.353 1027.66 120.353 1018.93 Q120.353 1010.18 123.408 1005.6 Q126.487 1000.99 132.297 1000.99 Z\" fill=\"#000000\" fill-rule=\"evenodd\" fill-opacity=\"1\" /><path clip-path=\"url(#clip630)\" d=\"M152.459 1030.3 L157.343 1030.3 L157.343 1036.18 L152.459 1036.18 L152.459 1030.3 Z\" fill=\"#000000\" fill-rule=\"evenodd\" fill-opacity=\"1\" /><path clip-path=\"url(#clip630)\" d=\"M178.107 1017.04 Q174.959 1017.04 173.107 1019.19 Q171.278 1021.34 171.278 1025.09 Q171.278 1028.82 173.107 1030.99 Q174.959 1033.15 178.107 1033.15 Q181.255 1033.15 183.084 1030.99 Q184.936 1028.82 184.936 1025.09 Q184.936 1021.34 183.084 1019.19 Q181.255 1017.04 178.107 1017.04 M187.389 1002.38 L187.389 1006.64 Q185.63 1005.81 183.825 1005.37 Q182.042 1004.93 180.283 1004.93 Q175.653 1004.93 173.2 1008.05 Q170.769 1011.18 170.422 1017.5 Q171.788 1015.49 173.848 1014.42 Q175.908 1013.33 178.385 1013.33 Q183.593 1013.33 186.602 1016.5 Q189.635 1019.65 189.635 1025.09 Q189.635 1030.42 186.487 1033.63 Q183.339 1036.85 178.107 1036.85 Q172.112 1036.85 168.94 1032.27 Q165.769 1027.66 165.769 1018.93 Q165.769 1010.74 169.658 1005.88 Q173.547 1000.99 180.098 1000.99 Q181.857 1000.99 183.639 1001.34 Q185.445 1001.69 187.389 1002.38 Z\" fill=\"#000000\" fill-rule=\"evenodd\" fill-opacity=\"1\" /><path clip-path=\"url(#clip630)\" d=\"M132.552 854.879 Q128.941 854.879 127.112 858.444 Q125.306 861.985 125.306 869.115 Q125.306 876.221 127.112 879.786 Q128.941 883.328 132.552 883.328 Q136.186 883.328 137.992 879.786 Q139.82 876.221 139.82 869.115 Q139.82 861.985 137.992 858.444 Q136.186 854.879 132.552 854.879 M132.552 851.175 Q138.362 851.175 141.417 855.782 Q144.496 860.365 144.496 869.115 Q144.496 877.842 141.417 882.448 Q138.362 887.032 132.552 887.032 Q126.742 887.032 123.663 882.448 Q120.607 877.842 120.607 869.115 Q120.607 860.365 123.663 855.782 Q126.742 851.175 132.552 851.175 Z\" fill=\"#000000\" fill-rule=\"evenodd\" fill-opacity=\"1\" /><path clip-path=\"url(#clip630)\" d=\"M152.714 880.481 L157.598 880.481 L157.598 886.36 L152.714 886.36 L152.714 880.481 Z\" fill=\"#000000\" fill-rule=\"evenodd\" fill-opacity=\"1\" /><path clip-path=\"url(#clip630)\" d=\"M177.783 869.948 Q174.45 869.948 172.528 871.731 Q170.63 873.513 170.63 876.638 Q170.63 879.763 172.528 881.545 Q174.45 883.328 177.783 883.328 Q181.116 883.328 183.038 881.545 Q184.959 879.74 184.959 876.638 Q184.959 873.513 183.038 871.731 Q181.139 869.948 177.783 869.948 M173.107 867.958 Q170.098 867.217 168.408 865.157 Q166.741 863.096 166.741 860.134 Q166.741 855.99 169.681 853.583 Q172.644 851.175 177.783 851.175 Q182.945 851.175 185.885 853.583 Q188.825 855.99 188.825 860.134 Q188.825 863.096 187.135 865.157 Q185.468 867.217 182.482 867.958 Q185.862 868.745 187.737 871.036 Q189.635 873.328 189.635 876.638 Q189.635 881.661 186.556 884.346 Q183.501 887.032 177.783 887.032 Q172.065 887.032 168.987 884.346 Q165.931 881.661 165.931 876.638 Q165.931 873.328 167.829 871.036 Q169.728 868.745 173.107 867.958 M171.394 860.573 Q171.394 863.259 173.061 864.763 Q174.751 866.268 177.783 866.268 Q180.792 866.268 182.482 864.763 Q184.195 863.259 184.195 860.573 Q184.195 857.888 182.482 856.384 Q180.792 854.879 177.783 854.879 Q174.751 854.879 173.061 856.384 Q171.394 857.888 171.394 860.573 Z\" fill=\"#000000\" fill-rule=\"evenodd\" fill-opacity=\"1\" /><path clip-path=\"url(#clip630)\" d=\"M32.3293 1298.67 Q36.967 1298.67 41.5724 1300.34 Q46.1456 1302.02 49.8493 1304.82 Q53.553 1307.59 56.4193 1311.19 Q59.2534 1314.77 60.7027 1318.6 Q64.5674 1318.12 66.0167 1317.15 Q67.4981 1316.15 67.4981 1313.93 Q67.4981 1312.64 66.9184 1311.26 Q66.3387 1309.84 64.825 1308.39 Q63.3436 1306.94 61.1536 1306.2 Q60.4451 1305.98 60.4451 1305.4 Q60.4451 1305.17 60.6383 1304.95 Q60.7993 1304.69 61.0892 1304.69 Q61.3468 1304.69 62.2808 1304.98 Q63.247 1305.24 64.7284 1305.78 Q66.2099 1306.33 67.7558 1307.27 Q69.3339 1308.2 70.7187 1309.36 Q72.1036 1310.49 72.9731 1312.16 Q73.8749 1313.84 73.8749 1315.7 Q73.8749 1317.25 73.2952 1318.38 Q72.7155 1319.47 71.9747 1320.02 Q71.234 1320.53 70.0424 1320.82 Q68.883 1321.11 68.2389 1321.15 Q67.5948 1321.18 66.6286 1321.18 Q65.6302 1321.18 61.54 1320.92 Q62.5384 1324.4 62.5384 1327.36 Q62.5384 1334.67 57.7398 1339.47 Q52.9411 1344.27 44.9218 1344.27 Q39.318 1344.27 33.7464 1341.76 Q28.1426 1339.25 23.988 1335.25 Q19.8013 1331.26 17.1926 1326.01 Q14.5839 1320.73 14.5839 1315.51 Q14.5839 1308.1 19.5114 1303.4 Q24.4067 1298.67 32.3293 1298.67 M30.236 1304.5 Q23.7304 1304.5 19.9945 1307.68 Q16.2264 1310.84 16.2264 1315.9 Q16.2264 1319.76 18.7063 1324.04 Q21.1861 1328.3 25.9848 1331.74 Q30.7835 1335.12 36.8059 1336.8 Q42.8284 1338.44 47.0474 1338.44 Q51.7173 1338.44 55.2277 1336.61 Q58.7059 1334.77 60.1552 1331.07 Q59.3823 1331.45 58.0618 1331.45 Q55.4853 1331.45 53.4242 1329.39 Q51.3308 1327.33 51.3308 1324.72 Q51.3308 1323.56 51.6851 1322.66 Q52.0071 1321.73 52.6834 1321.15 Q53.3598 1320.53 54.0039 1320.15 Q54.6158 1319.73 55.6142 1319.5 Q56.5803 1319.25 57.0956 1319.15 Q57.5787 1319.05 58.4483 1318.92 Q56.677 1315.77 53.7784 1313.19 Q50.8477 1310.62 47.7559 1309.04 Q44.632 1307.46 41.2504 1306.4 Q37.8365 1305.33 35.1312 1304.91 Q32.3937 1304.5 30.236 1304.5 M58.3839 1320.73 Q55.3887 1320.73 54.1005 1321.69 Q52.7801 1322.63 52.7801 1324.72 Q52.7801 1326.78 54.4226 1328.39 Q56.0651 1330 58.0618 1330 Q59.0602 1330 59.7043 1329.71 Q60.3162 1329.39 60.5739 1328.81 Q60.7993 1328.23 60.8637 1327.88 Q60.8959 1327.52 60.8959 1326.98 Q60.8959 1324.17 59.7043 1321.44 Q59.5111 1320.95 59.3178 1320.86 Q59.1246 1320.73 58.3839 1320.73 Z\" fill=\"#000000\" fill-rule=\"evenodd\" fill-opacity=\"1\" /><path clip-path=\"url(#clip630)\" d=\"M65.6679 1292.07 L64.2251 1292.07 Q64.2251 1286.53 61.2718 1283.66 Q61.2718 1282.88 61.4522 1282.74 Q61.6325 1282.61 62.4667 1282.61 L88.3698 1282.61 Q89.745 1282.61 90.1734 1281.93 Q90.6017 1281.25 90.6017 1278.3 L90.6017 1276.83 L92.022 1276.83 Q91.8867 1278.46 91.8867 1284.32 Q91.8867 1290.18 92.022 1291.78 L90.6017 1291.78 L90.6017 1290.32 Q90.6017 1287.41 90.1959 1286.71 Q89.7676 1286.01 88.3698 1286.01 L64.4505 1286.01 Q65.6679 1288.42 65.6679 1292.07 Z\" fill=\"#000000\" fill-rule=\"evenodd\" fill-opacity=\"1\" /><path clip-path=\"url(#clip630)\" d=\"M77.5786 1262.17 L11.621 1262.17 L11.621 1252.22 L13.1346 1252.22 L13.1346 1257.76 L76.0649 1257.76 L76.0649 1252.22 L77.5786 1252.22 L77.5786 1262.17 Z\" fill=\"#000000\" fill-rule=\"evenodd\" fill-opacity=\"1\" /><path clip-path=\"url(#clip630)\" d=\"M51.6529 1196.84 Q51.9105 1196.84 52.9089 1197.13 Q53.9073 1197.42 55.4531 1198.13 Q56.999 1198.81 58.4161 1199.77 Q59.8009 1200.71 60.8315 1202.25 Q61.8299 1203.77 61.8299 1205.5 Q61.8299 1207.82 60.284 1209.37 Q58.7381 1210.92 56.4193 1210.92 Q55.1633 1210.92 52.7801 1210.05 Q41.8945 1205.96 37.9976 1205.96 Q33.3921 1205.96 33.3921 1209.53 Q33.3921 1211.56 34.2295 1213.4 Q35.0668 1215.23 36.2262 1216.42 Q37.3857 1217.61 38.7061 1218.55 Q40.0265 1219.48 40.8961 1219.9 Q41.7657 1220.29 42.1521 1220.38 L58.0618 1224.35 Q59.4145 1224.67 60.0586 1224.89 Q60.7027 1225.12 61.2502 1225.73 Q61.8299 1226.34 61.8299 1227.31 Q61.8299 1228.11 61.3468 1228.69 Q60.8637 1229.24 60.0264 1229.24 Q59.8976 1229.24 59.2212 1229.08 Q58.5449 1228.92 57.6109 1228.69 Q56.677 1228.47 56.1295 1228.37 Q51.7495 1227.21 51.1376 1227.05 L43.4726 1225.21 Q39.6723 1224.22 37.9976 1224.22 Q33.3921 1224.22 33.3921 1227.79 Q33.3921 1229.56 34.0685 1231.24 Q34.7126 1232.88 35.6143 1234.01 Q36.5161 1235.13 37.7721 1236.16 Q38.9959 1237.16 39.8333 1237.68 Q40.6384 1238.16 41.4436 1238.55 L44.7286 1239.39 Q45.6304 1239.58 49.1408 1240.51 L55.0989 1241.96 Q59.5433 1242.99 59.962 1243.22 Q60.8637 1243.54 61.3468 1244.25 Q61.8299 1244.96 61.8299 1245.67 Q61.8299 1246.47 61.3468 1247.02 Q60.8637 1247.57 60.0264 1247.57 Q59.8976 1247.57 59.4145 1247.47 Q58.9314 1247.37 58.2551 1247.21 Q57.5787 1247.05 57.1923 1246.99 L41.9589 1243.15 Q39.1892 1242.44 38.3196 1242.28 Q37.4179 1242.09 36.4195 1242.09 Q33.3921 1242.09 33.3921 1244.15 Q33.3921 1245.83 35.3889 1246.92 Q37.3857 1248.02 41.2504 1248.95 Q42.3132 1249.24 42.5386 1249.43 Q42.764 1249.59 42.764 1250.08 Q42.7318 1250.88 42.0877 1250.88 Q41.9267 1250.88 40.8961 1250.63 Q39.8655 1250.37 38.3196 1249.88 Q36.7415 1249.37 35.7109 1248.82 Q35.0346 1248.5 34.5837 1248.21 Q34.1329 1247.92 33.4243 1247.34 Q32.7158 1246.76 32.3293 1245.89 Q31.9429 1245.02 31.9429 1243.96 Q31.9429 1241.61 33.4565 1239.87 Q34.9702 1238.1 37.6755 1237.87 Q31.9429 1233.59 31.9429 1227.6 Q31.9429 1224.22 33.6498 1222.19 Q35.2923 1220.29 38.3196 1220.06 Q31.9429 1215.62 31.9429 1209.31 Q31.9429 1205.67 33.843 1203.7 Q35.7109 1201.74 38.9959 1201.74 Q40.7029 1201.74 43.9556 1202.61 Q47.1762 1203.48 48.7865 1204.06 Q50.3968 1204.64 53.4886 1205.76 Q56.4515 1206.95 58.1906 1206.95 Q59.3178 1206.95 59.8331 1206.57 Q60.3484 1206.18 60.3484 1205.34 Q60.3484 1204.06 59.6077 1202.93 Q58.8348 1201.8 57.5787 1201 Q56.2905 1200.16 55.0023 1199.61 Q53.6818 1199.06 52.2004 1198.64 Q51.3952 1198.39 51.202 1198.26 Q51.0087 1198.1 51.0087 1197.65 Q51.0087 1196.84 51.6529 1196.84 Z\" fill=\"#000000\" fill-rule=\"evenodd\" fill-opacity=\"1\" /><path clip-path=\"url(#clip630)\" d=\"M52.2004 1192.47 Q50.2358 1192.47 49.3018 1191.35 Q48.3679 1190.22 48.3679 1188.77 Q48.3679 1187.26 49.3662 1186.19 Q50.3324 1185.1 52.0393 1185.1 Q53.8751 1185.1 54.9056 1186.39 Q55.9362 1187.64 55.6786 1189.45 Q58.3195 1187.87 59.5111 1184.97 Q60.7027 1182.04 60.7027 1179.33 Q60.7027 1176.5 58.2551 1174.21 Q55.8074 1171.89 49.8171 1171.89 Q44.7286 1171.89 41.7979 1173.89 Q38.8671 1175.86 38.8671 1179.75 L38.8671 1182.65 Q38.8671 1183.65 38.7705 1183.94 Q38.6739 1184.23 38.1264 1184.23 Q37.4823 1184.23 37.3534 1183.23 Q37.3534 1182.23 37.1602 1180.65 Q37.0314 1176.82 33.7142 1174.79 Q30.6224 1172.96 26.2102 1172.96 Q22.1845 1172.96 20.5098 1174.89 Q18.8029 1176.79 18.8029 1179.27 Q18.8029 1181.59 19.769 1184.13 Q20.7352 1186.68 22.893 1188.06 Q22.893 1183.97 26.2102 1183.97 Q27.6595 1183.97 28.6257 1184.9 Q29.5596 1185.81 29.5596 1187.32 Q29.5596 1188.77 28.6579 1189.74 Q27.7239 1190.7 26.1458 1190.7 Q22.3777 1190.7 19.769 1187.35 Q17.1604 1183.97 17.1604 1179.01 Q17.1604 1174.12 19.7368 1170.51 Q22.3133 1166.87 26.2746 1166.87 Q30.1715 1166.87 33.3599 1169.45 Q36.5483 1172.02 37.8687 1176.11 Q38.8671 1171.09 42.2809 1168.09 Q45.6626 1165.1 49.8171 1165.1 Q54.9701 1165.1 58.7703 1169.16 Q62.5384 1173.21 62.5384 1179.14 Q62.5384 1184.62 59.5755 1188.54 Q56.6126 1192.47 52.2004 1192.47 Z\" fill=\"#000000\" fill-rule=\"evenodd\" fill-opacity=\"1\" /><path clip-path=\"url(#clip630)\" d=\"M76.6446 1159.81 Q76.3225 1159.81 75.614 1159.55 L13.3923 1136.27 Q13.3279 1136.27 12.9736 1136.11 Q12.6193 1135.94 12.3939 1135.85 Q12.1363 1135.75 11.943 1135.56 Q11.7498 1135.33 11.7498 1135.08 Q11.7498 1134.43 12.5549 1134.43 Q12.6193 1134.43 13.3923 1134.62 L75.6784 1157.97 Q76.8056 1158.36 77.1277 1158.62 Q77.4497 1158.84 77.4497 1159.23 Q77.4497 1159.81 76.6446 1159.81 Z\" fill=\"#000000\" fill-rule=\"evenodd\" fill-opacity=\"1\" /><path clip-path=\"url(#clip630)\" d=\"M51.6529 1073.1 Q51.9105 1073.1 52.9089 1073.39 Q53.9073 1073.68 55.4531 1074.39 Q56.999 1075.07 58.4161 1076.03 Q59.8009 1076.97 60.8315 1078.51 Q61.8299 1080.03 61.8299 1081.77 Q61.8299 1084.09 60.284 1085.63 Q58.7381 1087.18 56.4193 1087.18 Q55.1633 1087.18 52.7801 1086.31 Q41.8945 1082.22 37.9976 1082.22 Q33.3921 1082.22 33.3921 1085.79 Q33.3921 1087.82 34.2295 1089.66 Q35.0668 1091.49 36.2262 1092.68 Q37.3857 1093.88 38.7061 1094.81 Q40.0265 1095.74 40.8961 1096.16 Q41.7657 1096.55 42.1521 1096.65 L58.0618 1100.61 Q59.4145 1100.93 60.0586 1101.16 Q60.7027 1101.38 61.2502 1101.99 Q61.8299 1102.6 61.8299 1103.57 Q61.8299 1104.38 61.3468 1104.96 Q60.8637 1105.5 60.0264 1105.5 Q59.8976 1105.5 59.2212 1105.34 Q58.5449 1105.18 57.6109 1104.96 Q56.677 1104.73 56.1295 1104.63 Q51.7495 1103.47 51.1376 1103.31 L43.4726 1101.48 Q39.6723 1100.48 37.9976 1100.48 Q33.3921 1100.48 33.3921 1104.05 Q33.3921 1105.82 34.0685 1107.5 Q34.7126 1109.14 35.6143 1110.27 Q36.5161 1111.4 37.7721 1112.43 Q38.9959 1113.43 39.8333 1113.94 Q40.6384 1114.42 41.4436 1114.81 L44.7286 1115.65 Q45.6304 1115.84 49.1408 1116.77 L55.0989 1118.22 Q59.5433 1119.25 59.962 1119.48 Q60.8637 1119.8 61.3468 1120.51 Q61.8299 1121.22 61.8299 1121.93 Q61.8299 1122.73 61.3468 1123.28 Q60.8637 1123.83 60.0264 1123.83 Q59.8976 1123.83 59.4145 1123.73 Q58.9314 1123.63 58.2551 1123.47 Q57.5787 1123.31 57.1923 1123.25 L41.9589 1119.42 Q39.1892 1118.71 38.3196 1118.55 Q37.4179 1118.35 36.4195 1118.35 Q33.3921 1118.35 33.3921 1120.41 Q33.3921 1122.09 35.3889 1123.18 Q37.3857 1124.28 41.2504 1125.21 Q42.3132 1125.5 42.5386 1125.7 Q42.764 1125.86 42.764 1126.34 Q42.7318 1127.15 42.0877 1127.15 Q41.9267 1127.15 40.8961 1126.89 Q39.8655 1126.63 38.3196 1126.15 Q36.7415 1125.63 35.7109 1125.08 Q35.0346 1124.76 34.5837 1124.47 Q34.1329 1124.18 33.4243 1123.6 Q32.7158 1123.02 32.3293 1122.15 Q31.9429 1121.28 31.9429 1120.22 Q31.9429 1117.87 33.4565 1116.13 Q34.9702 1114.36 37.6755 1114.13 Q31.9429 1109.85 31.9429 1103.86 Q31.9429 1100.48 33.6498 1098.45 Q35.2923 1096.55 38.3196 1096.32 Q31.9429 1091.88 31.9429 1085.57 Q31.9429 1081.93 33.843 1079.96 Q35.7109 1078 38.9959 1078 Q40.7029 1078 43.9556 1078.87 Q47.1762 1079.74 48.7865 1080.32 Q50.3968 1080.9 53.4886 1082.02 Q56.4515 1083.22 58.1906 1083.22 Q59.3178 1083.22 59.8331 1082.83 Q60.3484 1082.44 60.3484 1081.61 Q60.3484 1080.32 59.6077 1079.19 Q58.8348 1078.06 57.5787 1077.26 Q56.2905 1076.42 55.0023 1075.87 Q53.6818 1075.33 52.2004 1074.91 Q51.3952 1074.65 51.202 1074.52 Q51.0087 1074.36 51.0087 1073.91 Q51.0087 1073.1 51.6529 1073.1 Z\" fill=\"#000000\" fill-rule=\"evenodd\" fill-opacity=\"1\" /><path clip-path=\"url(#clip630)\" d=\"M19.8657 1053.21 Q21.2827 1053.21 22.3455 1054.37 Q23.3761 1055.5 23.3761 1056.72 Q23.3761 1057.85 22.6998 1058.56 Q21.9913 1059.23 20.9929 1059.23 Q19.6724 1059.23 18.5774 1058.11 Q17.4824 1056.98 17.4824 1055.66 Q17.4824 1054.56 18.1588 1053.89 Q18.8351 1053.21 19.8657 1053.21 M51.6529 1052.63 Q51.9105 1052.63 52.9411 1052.92 Q53.9395 1053.21 55.4853 1053.92 Q56.999 1054.6 58.4161 1055.53 Q59.8331 1056.46 60.8315 1058.01 Q61.8299 1059.52 61.8299 1061.26 Q61.8299 1063.61 60.284 1065.16 Q58.7381 1066.67 56.4193 1066.67 Q55.1633 1066.67 51.1376 1065.16 Q39.4146 1060.78 38.9315 1060.62 Q37.0958 1059.88 35.4855 1059.88 Q34.7448 1059.88 34.2939 1060.04 Q33.8108 1060.2 33.6498 1060.52 Q33.4565 1060.84 33.4243 1061.04 Q33.3921 1061.2 33.3921 1061.52 Q33.3921 1063.42 35.3245 1065.19 Q37.2568 1066.96 41.5724 1068.19 Q42.3776 1068.45 42.5708 1068.61 Q42.764 1068.77 42.764 1069.25 Q42.7318 1070.06 42.0877 1070.06 Q41.8945 1070.06 41.1537 1069.83 Q40.3808 1069.6 39.2214 1069.19 Q38.0298 1068.77 36.8059 1068.03 Q35.5499 1067.29 34.4549 1066.38 Q33.3599 1065.45 32.6514 1064.13 Q31.9429 1062.81 31.9429 1061.33 Q31.9429 1058.91 33.521 1057.43 Q35.0668 1055.92 37.3534 1055.92 Q38.6095 1055.92 40.8317 1056.79 Q43.7302 1057.85 44.6642 1058.24 L51.5884 1060.81 Q54.1005 1061.75 54.8734 1062.04 Q55.6142 1062.29 56.5159 1062.52 Q57.3855 1062.71 58.1906 1062.71 Q59.3178 1062.71 59.8331 1062.36 Q60.3484 1061.97 60.3484 1061.13 Q60.3484 1058.82 58.0618 1057.11 Q55.743 1055.4 52.2004 1054.4 Q52.1037 1054.37 51.9427 1054.34 Q51.1376 1054.08 51.0409 1053.82 Q51.0087 1053.7 51.0087 1053.44 Q51.0087 1052.63 51.6529 1052.63 Z\" fill=\"#000000\" fill-rule=\"evenodd\" fill-opacity=\"1\" /><path clip-path=\"url(#clip630)\" d=\"M51.6529 1011.26 Q51.9105 1011.26 52.9089 1011.55 Q53.9073 1011.84 55.4531 1012.55 Q56.999 1013.22 58.4161 1014.16 Q59.8009 1015.09 60.8315 1016.64 Q61.8299 1018.15 61.8299 1019.89 Q61.8299 1022.21 60.284 1023.75 Q58.7381 1025.3 56.4193 1025.3 Q55.1311 1025.3 53.3598 1024.62 Q41.9267 1020.34 37.9976 1020.34 Q33.3921 1020.34 33.3921 1023.92 Q33.3921 1025.69 34.0685 1027.36 Q34.7126 1029 35.6143 1030.13 Q36.5161 1031.26 37.7721 1032.29 Q38.9959 1033.29 39.8333 1033.8 Q40.6384 1034.29 41.4436 1034.67 L44.7286 1035.51 Q45.6304 1035.7 49.1408 1036.64 L55.0989 1038.09 Q59.5433 1039.12 59.962 1039.34 Q60.8637 1039.66 61.3468 1040.37 Q61.8299 1041.08 61.8299 1041.79 Q61.8299 1042.6 61.3468 1043.14 Q60.8637 1043.69 60.0264 1043.69 Q59.8976 1043.69 59.4145 1043.59 Q58.9314 1043.5 58.2551 1043.34 Q57.5787 1043.17 57.1923 1043.11 L41.9589 1039.28 Q39.1892 1038.57 38.3196 1038.41 Q37.4179 1038.22 36.4195 1038.22 Q33.3921 1038.22 33.3921 1040.28 Q33.3921 1041.95 35.3889 1043.05 Q37.3857 1044.14 41.2504 1045.08 Q42.3132 1045.36 42.5386 1045.56 Q42.764 1045.72 42.764 1046.2 Q42.7318 1047.01 42.0877 1047.01 Q41.9267 1047.01 40.8639 1046.75 Q39.8011 1046.49 38.2874 1046.01 Q36.7415 1045.49 35.7109 1045.01 Q34.938 1044.59 34.5837 1044.37 Q34.1973 1044.11 33.4565 1043.5 Q32.6836 1042.85 32.3293 1042.02 Q31.9429 1041.15 31.9429 1040.08 Q31.9429 1037.7 33.4887 1035.96 Q35.0024 1034.22 37.6755 1034 Q31.9429 1029.71 31.9429 1023.72 Q31.9429 1020.18 33.8108 1018.15 Q35.6787 1016.12 38.9959 1016.12 Q39.7689 1016.12 40.7673 1016.28 Q41.7334 1016.41 42.9573 1016.73 Q44.1811 1017.02 45.1151 1017.28 Q46.049 1017.54 47.5627 1018.05 Q49.0442 1018.57 49.6883 1018.8 Q50.3324 1019.02 51.8461 1019.57 Q53.3276 1020.08 53.4886 1020.15 Q56.4837 1021.34 58.1906 1021.34 Q59.3178 1021.34 59.8331 1020.99 Q60.3484 1020.6 60.3484 1019.76 Q60.3484 1017.51 58.1262 1015.83 Q55.8718 1014.13 52.2004 1013.03 Q51.3952 1012.77 51.202 1012.64 Q51.0087 1012.48 51.0087 1012.03 Q51.0087 1011.26 51.6529 1011.26 Z\" fill=\"#000000\" fill-rule=\"evenodd\" fill-opacity=\"1\" /><path clip-path=\"url(#clip630)\" d=\"M76.0649 1007.57 L76.0649 1002.03 L13.1346 1002.03 L13.1346 1007.57 L11.621 1007.57 L11.621 997.62 L77.5786 997.62 L77.5786 1007.57 L76.0649 1007.57 Z\" fill=\"#000000\" fill-rule=\"evenodd\" fill-opacity=\"1\" /><polyline clip-path=\"url(#clip634)\" style=\"stroke:#000000; stroke-linecap:round; stroke-linejoin:round; stroke-width:4; stroke-opacity:1; fill:none\" stroke-dasharray=\"2, 4\" points=\"285.836,869.08 337.291,869.08 388.745,869.08 440.199,869.08 491.654,869.08 543.108,869.08 594.562,869.08 646.017,869.08 697.471,869.08 748.925,869.08 800.379,869.08 851.834,869.08 903.288,869.08 954.742,869.08 1006.2,869.08 1057.65,869.08 1109.11,869.08 1160.56,869.08 1212.01,869.08 1263.47,869.08 1314.92,869.08 1366.38,869.08 1417.83,869.08 1469.29,869.08 1520.74,869.08 1572.19,869.08 1623.65,869.08 1675.1,869.08 1726.56,869.08 1778.01,869.08 1829.47,869.08 1880.92,869.08 1932.37,869.08 1983.83,869.08 2035.28,869.08 2086.74,869.08 2138.19,869.08 2189.65,869.08 2241.1,869.08 2292.55,869.08 \"/>\n",
       "<polyline clip-path=\"url(#clip634)\" style=\"stroke:#000000; stroke-linecap:round; stroke-linejoin:round; stroke-width:4; stroke-opacity:1; fill:none\" stroke-dasharray=\"2, 4\" points=\"285.836,1430.9 337.291,1430.9 388.745,1430.9 440.199,1430.9 491.654,1430.9 543.108,1430.9 594.562,1430.9 646.017,1430.9 697.471,1430.9 748.925,1430.9 800.379,1430.9 851.834,1430.9 903.288,1430.9 954.742,1430.9 1006.2,1430.9 1057.65,1430.9 1109.11,1430.9 1160.56,1430.9 1212.01,1430.9 1263.47,1430.9 1314.92,1430.9 1366.38,1430.9 1417.83,1430.9 1469.29,1430.9 1520.74,1430.9 1572.19,1430.9 1623.65,1430.9 1675.1,1430.9 1726.56,1430.9 1778.01,1430.9 1829.47,1430.9 1880.92,1430.9 1932.37,1430.9 1983.83,1430.9 2035.28,1430.9 2086.74,1430.9 2138.19,1430.9 2189.65,1430.9 2241.1,1430.9 2292.55,1430.9 \"/>\n",
       "<polyline clip-path=\"url(#clip634)\" style=\"stroke:#ff0000; stroke-linecap:round; stroke-linejoin:round; stroke-width:12; stroke-opacity:0.3; fill:none\" points=\"285.836,1318.54 337.291,865.335 388.745,865.335 440.199,865.335 491.654,865.335 543.108,865.335 594.562,865.335 646.017,928.702 697.471,1008.17 748.925,1074.53 800.379,1119.8 851.834,1243.04 903.288,1379.42 954.742,1360.32 1006.2,1289.85 1057.65,1226.06 1109.11,1163.49 1160.56,1052.26 1212.01,1027.17 1263.47,1430.9 1314.92,1468.36 1366.38,1468.36 1417.83,1468.36 1469.29,1468.36 1520.74,1468.36 1572.19,1468.36 1623.65,1468.36 1675.1,1468.36 1726.56,1468.36 1778.01,1468.36 1829.47,1468.36 1880.92,1468.36 1932.37,1468.36 1983.83,1468.36 2035.28,1468.36 2086.74,1468.36 2138.19,1468.36 2189.65,1468.36 2241.1,1468.36 2292.55,1468.36 \"/>\n",
       "<polyline clip-path=\"url(#clip634)\" style=\"stroke:#0000ff; stroke-linecap:round; stroke-linejoin:round; stroke-width:12; stroke-opacity:0.3; fill:none\" points=\"285.836,1468.36 337.291,1468.36 388.745,1468.36 440.199,1468.36 491.654,1468.36 543.108,1468.36 594.562,1468.36 646.017,1468.36 697.471,1468.36 748.925,1468.36 800.379,1468.36 851.834,1468.36 903.288,1468.36 954.742,1468.36 1006.2,1468.36 1057.65,1468.36 1109.11,1468.36 1160.56,1468.36 1212.01,1468.36 1263.47,1468.36 1314.92,1468.36 1366.38,1468.36 1417.83,1468.36 1469.29,1468.36 1520.74,1468.36 1572.19,1468.36 1623.65,1468.36 1675.1,1468.36 1726.56,1468.36 1778.01,1468.36 1829.47,1468.36 1880.92,1468.36 1932.37,1468.36 1983.83,1468.36 2035.28,1468.36 2086.74,1468.36 2138.19,1468.36 2189.65,1468.36 2241.1,1468.36 2292.55,1468.36 \"/>\n",
       "</svg>\n"
      ]
     },
     "metadata": {},
     "output_type": "display_data"
    }
   ],
   "source": [
    "p4 = plot(layout = (num_subplots, 1),fmt = :svg, resolution = (600, 400), latex=true,gridlinewidth=2,legend=:bottomleft) \n",
    "\n",
    "# Loop to generate subplots \n",
    "for mm in 1:num_subplots  \n",
    "    # limits\n",
    "    plot!(subplot=mm,ts,Qf_max*ones(length(ts)),linestyle = :dot,linecolor = :black,label=\"\")\n",
    "    plot!(subplot=mm,ts,Q_min*ones(length(ts)),linestyle = :dot,linecolor = :black,label=\"\")\n",
    "    \n",
    "    for nn in 1:n_MC\n",
    "        plot!(subplot=mm,ts,QPlant[:,nn,mm],linewidth=3,linealpha = 0.3,linecolor = CList[nn],legend=false)\n",
    "    end\n",
    "    \n",
    "    # Add labels, titles, or other customizations to each subplot \n",
    "    ylabel!(L\"Q_{1} [m3/min]\") \n",
    "end \n",
    "\n",
    "# Display the subplots \n",
    "display(p4)"
   ]
  },
  {
   "cell_type": "markdown",
   "id": "b4334df6",
   "metadata": {},
   "source": [
    "- Reactor 2: Reactor Temperature / Setpoint / Jacket Temperature / MV"
   ]
  },
  {
   "cell_type": "code",
   "execution_count": 24,
   "id": "0f908825",
   "metadata": {},
   "outputs": [
    {
     "data": {
      "image/svg+xml": [
       "<?xml version=\"1.0\" encoding=\"utf-8\"?>\n",
       "<svg xmlns=\"http://www.w3.org/2000/svg\" xmlns:xlink=\"http://www.w3.org/1999/xlink\" width=\"600\" height=\"400\" viewBox=\"0 0 2400 1600\">\n",
       "<defs>\n",
       "  <clipPath id=\"clip670\">\n",
       "    <rect x=\"0\" y=\"0\" width=\"2400\" height=\"1600\"/>\n",
       "  </clipPath>\n",
       "</defs>\n",
       "<path clip-path=\"url(#clip670)\" d=\"M0 1600 L2400 1600 L2400 0 L0 0  Z\" fill=\"#ffffff\" fill-rule=\"evenodd\" fill-opacity=\"1\"/>\n",
       "<defs>\n",
       "  <clipPath id=\"clip671\">\n",
       "    <rect x=\"480\" y=\"0\" width=\"1681\" height=\"1600\"/>\n",
       "  </clipPath>\n",
       "</defs>\n",
       "<defs>\n",
       "  <clipPath id=\"clip672\">\n",
       "    <rect x=\"225\" y=\"847\" width=\"2128\" height=\"640\"/>\n",
       "  </clipPath>\n",
       "</defs>\n",
       "<path clip-path=\"url(#clip670)\" d=\"M455.439 686.448 L2352.76 686.448 L2352.76 47.2441 L455.439 47.2441  Z\" fill=\"#ffffff\" fill-rule=\"evenodd\" fill-opacity=\"1\"/>\n",
       "<defs>\n",
       "  <clipPath id=\"clip673\">\n",
       "    <rect x=\"455\" y=\"47\" width=\"1898\" height=\"640\"/>\n",
       "  </clipPath>\n",
       "</defs>\n",
       "<polyline clip-path=\"url(#clip673)\" style=\"stroke:#000000; stroke-linecap:round; stroke-linejoin:round; stroke-width:8; stroke-opacity:0.1; fill:none\" points=\"463.242,686.448 463.242,47.2441 \"/>\n",
       "<polyline clip-path=\"url(#clip673)\" style=\"stroke:#000000; stroke-linecap:round; stroke-linejoin:round; stroke-width:8; stroke-opacity:0.1; fill:none\" points=\"922.196,686.448 922.196,47.2441 \"/>\n",
       "<polyline clip-path=\"url(#clip673)\" style=\"stroke:#000000; stroke-linecap:round; stroke-linejoin:round; stroke-width:8; stroke-opacity:0.1; fill:none\" points=\"1381.15,686.448 1381.15,47.2441 \"/>\n",
       "<polyline clip-path=\"url(#clip673)\" style=\"stroke:#000000; stroke-linecap:round; stroke-linejoin:round; stroke-width:8; stroke-opacity:0.1; fill:none\" points=\"1840.1,686.448 1840.1,47.2441 \"/>\n",
       "<polyline clip-path=\"url(#clip673)\" style=\"stroke:#000000; stroke-linecap:round; stroke-linejoin:round; stroke-width:8; stroke-opacity:0.1; fill:none\" points=\"2299.06,686.448 2299.06,47.2441 \"/>\n",
       "<polyline clip-path=\"url(#clip670)\" style=\"stroke:#000000; stroke-linecap:round; stroke-linejoin:round; stroke-width:4; stroke-opacity:1; fill:none\" points=\"455.439,686.448 2352.76,686.448 \"/>\n",
       "<polyline clip-path=\"url(#clip670)\" style=\"stroke:#000000; stroke-linecap:round; stroke-linejoin:round; stroke-width:4; stroke-opacity:1; fill:none\" points=\"463.242,686.448 463.242,667.55 \"/>\n",
       "<polyline clip-path=\"url(#clip670)\" style=\"stroke:#000000; stroke-linecap:round; stroke-linejoin:round; stroke-width:4; stroke-opacity:1; fill:none\" points=\"922.196,686.448 922.196,667.55 \"/>\n",
       "<polyline clip-path=\"url(#clip670)\" style=\"stroke:#000000; stroke-linecap:round; stroke-linejoin:round; stroke-width:4; stroke-opacity:1; fill:none\" points=\"1381.15,686.448 1381.15,667.55 \"/>\n",
       "<polyline clip-path=\"url(#clip670)\" style=\"stroke:#000000; stroke-linecap:round; stroke-linejoin:round; stroke-width:4; stroke-opacity:1; fill:none\" points=\"1840.1,686.448 1840.1,667.55 \"/>\n",
       "<polyline clip-path=\"url(#clip670)\" style=\"stroke:#000000; stroke-linecap:round; stroke-linejoin:round; stroke-width:4; stroke-opacity:1; fill:none\" points=\"2299.06,686.448 2299.06,667.55 \"/>\n",
       "<path clip-path=\"url(#clip670)\" d=\"M463.242 717.367 Q459.63 717.367 457.802 720.931 Q455.996 724.473 455.996 731.603 Q455.996 738.709 457.802 742.274 Q459.63 745.815 463.242 745.815 Q466.876 745.815 468.681 742.274 Q470.51 738.709 470.51 731.603 Q470.51 724.473 468.681 720.931 Q466.876 717.367 463.242 717.367 M463.242 713.663 Q469.052 713.663 472.107 718.269 Q475.186 722.853 475.186 731.603 Q475.186 740.329 472.107 744.936 Q469.052 749.519 463.242 749.519 Q457.431 749.519 454.353 744.936 Q451.297 740.329 451.297 731.603 Q451.297 722.853 454.353 718.269 Q457.431 713.663 463.242 713.663 Z\" fill=\"#000000\" fill-rule=\"evenodd\" fill-opacity=\"1\" /><path clip-path=\"url(#clip670)\" d=\"M896.883 744.913 L904.522 744.913 L904.522 718.547 L896.212 720.214 L896.212 715.955 L904.476 714.288 L909.152 714.288 L909.152 744.913 L916.791 744.913 L916.791 748.848 L896.883 748.848 L896.883 744.913 Z\" fill=\"#000000\" fill-rule=\"evenodd\" fill-opacity=\"1\" /><path clip-path=\"url(#clip670)\" d=\"M936.235 717.367 Q932.624 717.367 930.795 720.931 Q928.99 724.473 928.99 731.603 Q928.99 738.709 930.795 742.274 Q932.624 745.815 936.235 745.815 Q939.869 745.815 941.675 742.274 Q943.504 738.709 943.504 731.603 Q943.504 724.473 941.675 720.931 Q939.869 717.367 936.235 717.367 M936.235 713.663 Q942.045 713.663 945.101 718.269 Q948.179 722.853 948.179 731.603 Q948.179 740.329 945.101 744.936 Q942.045 749.519 936.235 749.519 Q930.425 749.519 927.346 744.936 Q924.291 740.329 924.291 731.603 Q924.291 722.853 927.346 718.269 Q930.425 713.663 936.235 713.663 Z\" fill=\"#000000\" fill-rule=\"evenodd\" fill-opacity=\"1\" /><path clip-path=\"url(#clip670)\" d=\"M1359.92 744.913 L1376.24 744.913 L1376.24 748.848 L1354.3 748.848 L1354.3 744.913 Q1356.96 742.158 1361.54 737.528 Q1366.15 732.876 1367.33 731.533 Q1369.58 729.01 1370.46 727.274 Q1371.36 725.515 1371.36 723.825 Q1371.36 721.07 1369.41 719.334 Q1367.49 717.598 1364.39 717.598 Q1362.19 717.598 1359.74 718.362 Q1357.31 719.126 1354.53 720.677 L1354.53 715.955 Q1357.35 714.82 1359.81 714.242 Q1362.26 713.663 1364.3 713.663 Q1369.67 713.663 1372.86 716.348 Q1376.06 719.033 1376.06 723.524 Q1376.06 725.654 1375.25 727.575 Q1374.46 729.473 1372.35 732.066 Q1371.77 732.737 1368.67 735.954 Q1365.57 739.149 1359.92 744.913 Z\" fill=\"#000000\" fill-rule=\"evenodd\" fill-opacity=\"1\" /><path clip-path=\"url(#clip670)\" d=\"M1396.06 717.367 Q1392.45 717.367 1390.62 720.931 Q1388.81 724.473 1388.81 731.603 Q1388.81 738.709 1390.62 742.274 Q1392.45 745.815 1396.06 745.815 Q1399.69 745.815 1401.5 742.274 Q1403.33 738.709 1403.33 731.603 Q1403.33 724.473 1401.5 720.931 Q1399.69 717.367 1396.06 717.367 M1396.06 713.663 Q1401.87 713.663 1404.92 718.269 Q1408 722.853 1408 731.603 Q1408 740.329 1404.92 744.936 Q1401.87 749.519 1396.06 749.519 Q1390.25 749.519 1387.17 744.936 Q1384.11 740.329 1384.11 731.603 Q1384.11 722.853 1387.17 718.269 Q1390.25 713.663 1396.06 713.663 Z\" fill=\"#000000\" fill-rule=\"evenodd\" fill-opacity=\"1\" /><path clip-path=\"url(#clip670)\" d=\"M1828.95 730.214 Q1832.3 730.931 1834.18 733.2 Q1836.08 735.468 1836.08 738.802 Q1836.08 743.917 1832.56 746.718 Q1829.04 749.519 1822.56 749.519 Q1820.38 749.519 1818.07 749.079 Q1815.78 748.663 1813.32 747.806 L1813.32 743.292 Q1815.27 744.427 1817.58 745.005 Q1819.9 745.584 1822.42 745.584 Q1826.82 745.584 1829.11 743.848 Q1831.42 742.112 1831.42 738.802 Q1831.42 735.746 1829.27 734.033 Q1827.14 732.297 1823.32 732.297 L1819.29 732.297 L1819.29 728.454 L1823.51 728.454 Q1826.96 728.454 1828.78 727.089 Q1830.61 725.7 1830.61 723.107 Q1830.61 720.445 1828.72 719.033 Q1826.84 717.598 1823.32 717.598 Q1821.4 717.598 1819.2 718.015 Q1817 718.431 1814.36 719.311 L1814.36 715.144 Q1817.03 714.404 1819.34 714.033 Q1821.68 713.663 1823.74 713.663 Q1829.06 713.663 1832.16 716.093 Q1835.27 718.501 1835.27 722.621 Q1835.27 725.492 1833.62 727.482 Q1831.98 729.45 1828.95 730.214 Z\" fill=\"#000000\" fill-rule=\"evenodd\" fill-opacity=\"1\" /><path clip-path=\"url(#clip670)\" d=\"M1854.94 717.367 Q1851.33 717.367 1849.5 720.931 Q1847.7 724.473 1847.7 731.603 Q1847.7 738.709 1849.5 742.274 Q1851.33 745.815 1854.94 745.815 Q1858.58 745.815 1860.38 742.274 Q1862.21 738.709 1862.21 731.603 Q1862.21 724.473 1860.38 720.931 Q1858.58 717.367 1854.94 717.367 M1854.94 713.663 Q1860.75 713.663 1863.81 718.269 Q1866.89 722.853 1866.89 731.603 Q1866.89 740.329 1863.81 744.936 Q1860.75 749.519 1854.94 749.519 Q1849.13 749.519 1846.05 744.936 Q1843 740.329 1843 731.603 Q1843 722.853 1846.05 718.269 Q1849.13 713.663 1854.94 713.663 Z\" fill=\"#000000\" fill-rule=\"evenodd\" fill-opacity=\"1\" /><path clip-path=\"url(#clip670)\" d=\"M2287.23 718.362 L2275.42 736.811 L2287.23 736.811 L2287.23 718.362 M2286 714.288 L2291.88 714.288 L2291.88 736.811 L2296.81 736.811 L2296.81 740.7 L2291.88 740.7 L2291.88 748.848 L2287.23 748.848 L2287.23 740.7 L2271.63 740.7 L2271.63 736.186 L2286 714.288 Z\" fill=\"#000000\" fill-rule=\"evenodd\" fill-opacity=\"1\" /><path clip-path=\"url(#clip670)\" d=\"M2314.54 717.367 Q2310.93 717.367 2309.1 720.931 Q2307.3 724.473 2307.3 731.603 Q2307.3 738.709 2309.1 742.274 Q2310.93 745.815 2314.54 745.815 Q2318.18 745.815 2319.98 742.274 Q2321.81 738.709 2321.81 731.603 Q2321.81 724.473 2319.98 720.931 Q2318.18 717.367 2314.54 717.367 M2314.54 713.663 Q2320.35 713.663 2323.41 718.269 Q2326.49 722.853 2326.49 731.603 Q2326.49 740.329 2323.41 744.936 Q2320.35 749.519 2314.54 749.519 Q2308.73 749.519 2305.66 744.936 Q2302.6 740.329 2302.6 731.603 Q2302.6 722.853 2305.66 718.269 Q2308.73 713.663 2314.54 713.663 Z\" fill=\"#000000\" fill-rule=\"evenodd\" fill-opacity=\"1\" /><polyline clip-path=\"url(#clip673)\" style=\"stroke:#000000; stroke-linecap:round; stroke-linejoin:round; stroke-width:8; stroke-opacity:0.1; fill:none\" points=\"455.439,647.885 2352.76,647.885 \"/>\n",
       "<polyline clip-path=\"url(#clip673)\" style=\"stroke:#000000; stroke-linecap:round; stroke-linejoin:round; stroke-width:8; stroke-opacity:0.1; fill:none\" points=\"455.439,502.247 2352.76,502.247 \"/>\n",
       "<polyline clip-path=\"url(#clip673)\" style=\"stroke:#000000; stroke-linecap:round; stroke-linejoin:round; stroke-width:8; stroke-opacity:0.1; fill:none\" points=\"455.439,356.61 2352.76,356.61 \"/>\n",
       "<polyline clip-path=\"url(#clip673)\" style=\"stroke:#000000; stroke-linecap:round; stroke-linejoin:round; stroke-width:8; stroke-opacity:0.1; fill:none\" points=\"455.439,210.972 2352.76,210.972 \"/>\n",
       "<polyline clip-path=\"url(#clip673)\" style=\"stroke:#000000; stroke-linecap:round; stroke-linejoin:round; stroke-width:8; stroke-opacity:0.1; fill:none\" points=\"455.439,65.3348 2352.76,65.3348 \"/>\n",
       "<polyline clip-path=\"url(#clip670)\" style=\"stroke:#000000; stroke-linecap:round; stroke-linejoin:round; stroke-width:4; stroke-opacity:1; fill:none\" points=\"455.439,686.448 455.439,47.2441 \"/>\n",
       "<polyline clip-path=\"url(#clip670)\" style=\"stroke:#000000; stroke-linecap:round; stroke-linejoin:round; stroke-width:4; stroke-opacity:1; fill:none\" points=\"455.439,647.885 474.337,647.885 \"/>\n",
       "<polyline clip-path=\"url(#clip670)\" style=\"stroke:#000000; stroke-linecap:round; stroke-linejoin:round; stroke-width:4; stroke-opacity:1; fill:none\" points=\"455.439,502.247 474.337,502.247 \"/>\n",
       "<polyline clip-path=\"url(#clip670)\" style=\"stroke:#000000; stroke-linecap:round; stroke-linejoin:round; stroke-width:4; stroke-opacity:1; fill:none\" points=\"455.439,356.61 474.337,356.61 \"/>\n",
       "<polyline clip-path=\"url(#clip670)\" style=\"stroke:#000000; stroke-linecap:round; stroke-linejoin:round; stroke-width:4; stroke-opacity:1; fill:none\" points=\"455.439,210.972 474.337,210.972 \"/>\n",
       "<polyline clip-path=\"url(#clip670)\" style=\"stroke:#000000; stroke-linecap:round; stroke-linejoin:round; stroke-width:4; stroke-opacity:1; fill:none\" points=\"455.439,65.3348 474.337,65.3348 \"/>\n",
       "<path clip-path=\"url(#clip670)\" d=\"M115.257 654.784 L144.933 654.784 L144.933 658.719 L115.257 658.719 L115.257 654.784 Z\" fill=\"#000000\" fill-rule=\"evenodd\" fill-opacity=\"1\" /><path clip-path=\"url(#clip670)\" d=\"M155.835 667.677 L163.474 667.677 L163.474 641.312 L155.164 642.978 L155.164 638.719 L163.428 637.053 L168.104 637.053 L168.104 667.677 L175.743 667.677 L175.743 671.613 L155.835 671.613 L155.835 667.677 Z\" fill=\"#000000\" fill-rule=\"evenodd\" fill-opacity=\"1\" /><path clip-path=\"url(#clip670)\" d=\"M185.187 665.733 L190.071 665.733 L190.071 671.613 L185.187 671.613 L185.187 665.733 Z\" fill=\"#000000\" fill-rule=\"evenodd\" fill-opacity=\"1\" /><path clip-path=\"url(#clip670)\" d=\"M210.256 640.131 Q206.645 640.131 204.817 643.696 Q203.011 647.238 203.011 654.367 Q203.011 661.474 204.817 665.039 Q206.645 668.58 210.256 668.58 Q213.891 668.58 215.696 665.039 Q217.525 661.474 217.525 654.367 Q217.525 647.238 215.696 643.696 Q213.891 640.131 210.256 640.131 M210.256 636.428 Q216.067 636.428 219.122 641.034 Q222.201 645.617 222.201 654.367 Q222.201 663.094 219.122 667.701 Q216.067 672.284 210.256 672.284 Q204.446 672.284 201.368 667.701 Q198.312 663.094 198.312 654.367 Q198.312 645.617 201.368 641.034 Q204.446 636.428 210.256 636.428 Z\" fill=\"#000000\" fill-rule=\"evenodd\" fill-opacity=\"1\" /><path clip-path=\"url(#clip670)\" d=\"M240.418 640.131 Q236.807 640.131 234.979 643.696 Q233.173 647.238 233.173 654.367 Q233.173 661.474 234.979 665.039 Q236.807 668.58 240.418 668.58 Q244.053 668.58 245.858 665.039 Q247.687 661.474 247.687 654.367 Q247.687 647.238 245.858 643.696 Q244.053 640.131 240.418 640.131 M240.418 636.428 Q246.228 636.428 249.284 641.034 Q252.363 645.617 252.363 654.367 Q252.363 663.094 249.284 667.701 Q246.228 672.284 240.418 672.284 Q234.608 672.284 231.529 667.701 Q228.474 663.094 228.474 654.367 Q228.474 645.617 231.529 641.034 Q234.608 636.428 240.418 636.428 Z\" fill=\"#000000\" fill-rule=\"evenodd\" fill-opacity=\"1\" /><path clip-path=\"url(#clip670)\" d=\"M288.751 646.15 L278.173 656.775 L288.751 667.353 L285.997 670.154 L275.372 659.529 L264.747 670.154 L262.015 667.353 L272.571 656.775 L262.015 646.15 L264.747 643.349 L275.372 653.974 L285.997 643.349 L288.751 646.15 Z\" fill=\"#000000\" fill-rule=\"evenodd\" fill-opacity=\"1\" /><path clip-path=\"url(#clip670)\" d=\"M301.112 667.677 L308.751 667.677 L308.751 641.312 L300.441 642.978 L300.441 638.719 L308.705 637.053 L313.381 637.053 L313.381 667.677 L321.02 667.677 L321.02 671.613 L301.112 671.613 L301.112 667.677 Z\" fill=\"#000000\" fill-rule=\"evenodd\" fill-opacity=\"1\" /><path clip-path=\"url(#clip670)\" d=\"M340.464 640.131 Q336.853 640.131 335.024 643.696 Q333.219 647.238 333.219 654.367 Q333.219 661.474 335.024 665.039 Q336.853 668.58 340.464 668.58 Q344.098 668.58 345.904 665.039 Q347.733 661.474 347.733 654.367 Q347.733 647.238 345.904 643.696 Q344.098 640.131 340.464 640.131 M340.464 636.428 Q346.274 636.428 349.33 641.034 Q352.408 645.617 352.408 654.367 Q352.408 663.094 349.33 667.701 Q346.274 672.284 340.464 672.284 Q334.654 672.284 331.575 667.701 Q328.52 663.094 328.52 654.367 Q328.52 645.617 331.575 641.034 Q334.654 636.428 340.464 636.428 Z\" fill=\"#000000\" fill-rule=\"evenodd\" fill-opacity=\"1\" /><path clip-path=\"url(#clip670)\" d=\"M365.104 629.062 Q367.831 629.645 369.354 631.488 Q370.897 633.331 370.897 636.04 Q370.897 640.196 368.038 642.472 Q365.179 644.748 359.913 644.748 Q358.145 644.748 356.264 644.39 Q354.402 644.052 352.408 643.356 L352.408 639.688 Q353.988 640.61 355.869 641.08 Q357.75 641.55 359.8 641.55 Q363.373 641.55 365.235 640.14 Q367.116 638.729 367.116 636.04 Q367.116 633.557 365.367 632.165 Q363.637 630.755 360.533 630.755 L357.261 630.755 L357.261 627.633 L360.684 627.633 Q363.486 627.633 364.972 626.523 Q366.458 625.394 366.458 623.288 Q366.458 621.125 364.916 619.978 Q363.392 618.812 360.533 618.812 Q358.972 618.812 357.186 619.15 Q355.399 619.489 353.255 620.203 L353.255 616.818 Q355.418 616.216 357.298 615.915 Q359.198 615.614 360.872 615.614 Q365.198 615.614 367.718 617.589 Q370.238 619.545 370.238 622.893 Q370.238 625.225 368.903 626.843 Q367.568 628.441 365.104 629.062 Z\" fill=\"#000000\" fill-rule=\"evenodd\" fill-opacity=\"1\" /><path clip-path=\"url(#clip670)\" d=\"M386.225 618.624 Q383.291 618.624 381.805 621.52 Q380.338 624.398 380.338 630.19 Q380.338 635.964 381.805 638.861 Q383.291 641.738 386.225 641.738 Q389.178 641.738 390.645 638.861 Q392.13 635.964 392.13 630.19 Q392.13 624.398 390.645 621.52 Q389.178 618.624 386.225 618.624 M386.225 615.614 Q390.946 615.614 393.428 619.357 Q395.93 623.081 395.93 630.19 Q395.93 637.281 393.428 641.024 Q390.946 644.748 386.225 644.748 Q381.504 644.748 379.003 641.024 Q376.52 637.281 376.52 630.19 Q376.52 623.081 379.003 619.357 Q381.504 615.614 386.225 615.614 Z\" fill=\"#000000\" fill-rule=\"evenodd\" fill-opacity=\"1\" /><path clip-path=\"url(#clip670)\" d=\"M403.265 641.005 L409.471 641.005 L409.471 619.583 L402.719 620.937 L402.719 617.476 L409.434 616.122 L413.233 616.122 L413.233 641.005 L419.439 641.005 L419.439 644.202 L403.265 644.202 L403.265 641.005 Z\" fill=\"#000000\" fill-rule=\"evenodd\" fill-opacity=\"1\" /><path clip-path=\"url(#clip670)\" d=\"M114.26 509.146 L143.936 509.146 L143.936 513.082 L114.26 513.082 L114.26 509.146 Z\" fill=\"#000000\" fill-rule=\"evenodd\" fill-opacity=\"1\" /><path clip-path=\"url(#clip670)\" d=\"M152.848 491.415 L175.07 491.415 L175.07 493.406 L162.524 525.975 L157.64 525.975 L169.445 495.35 L152.848 495.35 L152.848 491.415 Z\" fill=\"#000000\" fill-rule=\"evenodd\" fill-opacity=\"1\" /><path clip-path=\"url(#clip670)\" d=\"M184.19 520.095 L189.075 520.095 L189.075 525.975 L184.19 525.975 L184.19 520.095 Z\" fill=\"#000000\" fill-rule=\"evenodd\" fill-opacity=\"1\" /><path clip-path=\"url(#clip670)\" d=\"M199.306 491.415 L217.662 491.415 L217.662 495.35 L203.588 495.35 L203.588 503.822 Q204.607 503.475 205.625 503.313 Q206.644 503.128 207.662 503.128 Q213.449 503.128 216.829 506.299 Q220.209 509.47 220.209 514.887 Q220.209 520.466 216.736 523.568 Q213.264 526.646 206.945 526.646 Q204.769 526.646 202.5 526.276 Q200.255 525.906 197.848 525.165 L197.848 520.466 Q199.931 521.6 202.153 522.156 Q204.375 522.711 206.852 522.711 Q210.857 522.711 213.195 520.605 Q215.533 518.498 215.533 514.887 Q215.533 511.276 213.195 509.17 Q210.857 507.063 206.852 507.063 Q204.977 507.063 203.102 507.48 Q201.25 507.896 199.306 508.776 L199.306 491.415 Z\" fill=\"#000000\" fill-rule=\"evenodd\" fill-opacity=\"1\" /><path clip-path=\"url(#clip670)\" d=\"M239.422 494.494 Q235.81 494.494 233.982 498.058 Q232.176 501.6 232.176 508.73 Q232.176 515.836 233.982 519.401 Q235.81 522.943 239.422 522.943 Q243.056 522.943 244.861 519.401 Q246.69 515.836 246.69 508.73 Q246.69 501.6 244.861 498.058 Q243.056 494.494 239.422 494.494 M239.422 490.79 Q245.232 490.79 248.287 495.396 Q251.366 499.98 251.366 508.73 Q251.366 517.457 248.287 522.063 Q245.232 526.646 239.422 526.646 Q233.611 526.646 230.533 522.063 Q227.477 517.457 227.477 508.73 Q227.477 499.98 230.533 495.396 Q233.611 490.79 239.422 490.79 Z\" fill=\"#000000\" fill-rule=\"evenodd\" fill-opacity=\"1\" /><path clip-path=\"url(#clip670)\" d=\"M287.755 500.512 L277.176 511.137 L287.755 521.716 L285 524.517 L274.375 513.892 L263.75 524.517 L261.019 521.716 L271.574 511.137 L261.019 500.512 L263.75 497.711 L274.375 508.336 L285 497.711 L287.755 500.512 Z\" fill=\"#000000\" fill-rule=\"evenodd\" fill-opacity=\"1\" /><path clip-path=\"url(#clip670)\" d=\"M300.116 522.04 L307.754 522.04 L307.754 495.674 L299.444 497.341 L299.444 493.082 L307.708 491.415 L312.384 491.415 L312.384 522.04 L320.023 522.04 L320.023 525.975 L300.116 525.975 L300.116 522.04 Z\" fill=\"#000000\" fill-rule=\"evenodd\" fill-opacity=\"1\" /><path clip-path=\"url(#clip670)\" d=\"M339.467 494.494 Q335.856 494.494 334.027 498.058 Q332.222 501.6 332.222 508.73 Q332.222 515.836 334.027 519.401 Q335.856 522.943 339.467 522.943 Q343.102 522.943 344.907 519.401 Q346.736 515.836 346.736 508.73 Q346.736 501.6 344.907 498.058 Q343.102 494.494 339.467 494.494 M339.467 490.79 Q345.277 490.79 348.333 495.396 Q351.412 499.98 351.412 508.73 Q351.412 517.457 348.333 522.063 Q345.277 526.646 339.467 526.646 Q333.657 526.646 330.578 522.063 Q327.523 517.457 327.523 508.73 Q327.523 499.98 330.578 495.396 Q333.657 490.79 339.467 490.79 Z\" fill=\"#000000\" fill-rule=\"evenodd\" fill-opacity=\"1\" /><path clip-path=\"url(#clip670)\" d=\"M364.107 483.424 Q366.834 484.007 368.357 485.851 Q369.9 487.694 369.9 490.402 Q369.9 494.559 367.041 496.834 Q364.182 499.11 358.916 499.11 Q357.148 499.11 355.267 498.753 Q353.405 498.414 351.412 497.718 L351.412 494.051 Q352.992 494.972 354.872 495.443 Q356.753 495.913 358.803 495.913 Q362.377 495.913 364.239 494.502 Q366.119 493.092 366.119 490.402 Q366.119 487.919 364.37 486.528 Q362.64 485.117 359.537 485.117 L356.264 485.117 L356.264 481.995 L359.687 481.995 Q362.489 481.995 363.975 480.885 Q365.461 479.757 365.461 477.65 Q365.461 475.487 363.919 474.34 Q362.395 473.174 359.537 473.174 Q357.976 473.174 356.189 473.513 Q354.402 473.851 352.258 474.566 L352.258 471.18 Q354.421 470.579 356.302 470.278 Q358.201 469.977 359.875 469.977 Q364.201 469.977 366.721 471.952 Q369.241 473.908 369.241 477.255 Q369.241 479.588 367.906 481.205 Q366.571 482.804 364.107 483.424 Z\" fill=\"#000000\" fill-rule=\"evenodd\" fill-opacity=\"1\" /><path clip-path=\"url(#clip670)\" d=\"M385.228 472.986 Q382.294 472.986 380.808 475.882 Q379.341 478.76 379.341 484.553 Q379.341 490.327 380.808 493.223 Q382.294 496.101 385.228 496.101 Q388.181 496.101 389.648 493.223 Q391.134 490.327 391.134 484.553 Q391.134 478.76 389.648 475.882 Q388.181 472.986 385.228 472.986 M385.228 469.977 Q389.949 469.977 392.431 473.72 Q394.933 477.443 394.933 484.553 Q394.933 491.643 392.431 495.386 Q389.949 499.11 385.228 499.11 Q380.507 499.11 378.006 495.386 Q375.523 491.643 375.523 484.553 Q375.523 477.443 378.006 473.72 Q380.507 469.977 385.228 469.977 Z\" fill=\"#000000\" fill-rule=\"evenodd\" fill-opacity=\"1\" /><path clip-path=\"url(#clip670)\" d=\"M409.735 472.986 Q406.801 472.986 405.315 475.882 Q403.848 478.76 403.848 484.553 Q403.848 490.327 405.315 493.223 Q406.801 496.101 409.735 496.101 Q412.687 496.101 414.154 493.223 Q415.64 490.327 415.64 484.553 Q415.64 478.76 414.154 475.882 Q412.687 472.986 409.735 472.986 M409.735 469.977 Q414.455 469.977 416.938 473.72 Q419.439 477.443 419.439 484.553 Q419.439 491.643 416.938 495.386 Q414.455 499.11 409.735 499.11 Q405.014 499.11 402.512 495.386 Q400.03 491.643 400.03 484.553 Q400.03 477.443 402.512 473.72 Q405.014 469.977 409.735 469.977 Z\" fill=\"#000000\" fill-rule=\"evenodd\" fill-opacity=\"1\" /><path clip-path=\"url(#clip670)\" d=\"M114.26 363.509 L143.936 363.509 L143.936 367.444 L114.26 367.444 L114.26 363.509 Z\" fill=\"#000000\" fill-rule=\"evenodd\" fill-opacity=\"1\" /><path clip-path=\"url(#clip670)\" d=\"M154.075 345.777 L172.431 345.777 L172.431 349.713 L158.357 349.713 L158.357 358.185 Q159.376 357.838 160.394 357.676 Q161.413 357.49 162.431 357.49 Q168.218 357.49 171.598 360.662 Q174.977 363.833 174.977 369.25 Q174.977 374.828 171.505 377.93 Q168.033 381.009 161.714 381.009 Q159.538 381.009 157.269 380.638 Q155.024 380.268 152.616 379.527 L152.616 374.828 Q154.7 375.962 156.922 376.518 Q159.144 377.074 161.621 377.074 Q165.626 377.074 167.964 374.967 Q170.302 372.861 170.302 369.25 Q170.302 365.638 167.964 363.532 Q165.626 361.426 161.621 361.426 Q159.746 361.426 157.871 361.842 Q156.019 362.259 154.075 363.138 L154.075 345.777 Z\" fill=\"#000000\" fill-rule=\"evenodd\" fill-opacity=\"1\" /><path clip-path=\"url(#clip670)\" d=\"M184.19 374.458 L189.075 374.458 L189.075 380.337 L184.19 380.337 L184.19 374.458 Z\" fill=\"#000000\" fill-rule=\"evenodd\" fill-opacity=\"1\" /><path clip-path=\"url(#clip670)\" d=\"M209.26 348.856 Q205.649 348.856 203.82 352.421 Q202.014 355.963 202.014 363.092 Q202.014 370.199 203.82 373.763 Q205.649 377.305 209.26 377.305 Q212.894 377.305 214.699 373.763 Q216.528 370.199 216.528 363.092 Q216.528 355.963 214.699 352.421 Q212.894 348.856 209.26 348.856 M209.26 345.152 Q215.07 345.152 218.125 349.759 Q221.204 354.342 221.204 363.092 Q221.204 371.819 218.125 376.425 Q215.07 381.009 209.26 381.009 Q203.449 381.009 200.371 376.425 Q197.315 371.819 197.315 363.092 Q197.315 354.342 200.371 349.759 Q203.449 345.152 209.26 345.152 Z\" fill=\"#000000\" fill-rule=\"evenodd\" fill-opacity=\"1\" /><path clip-path=\"url(#clip670)\" d=\"M239.422 348.856 Q235.81 348.856 233.982 352.421 Q232.176 355.963 232.176 363.092 Q232.176 370.199 233.982 373.763 Q235.81 377.305 239.422 377.305 Q243.056 377.305 244.861 373.763 Q246.69 370.199 246.69 363.092 Q246.69 355.963 244.861 352.421 Q243.056 348.856 239.422 348.856 M239.422 345.152 Q245.232 345.152 248.287 349.759 Q251.366 354.342 251.366 363.092 Q251.366 371.819 248.287 376.425 Q245.232 381.009 239.422 381.009 Q233.611 381.009 230.533 376.425 Q227.477 371.819 227.477 363.092 Q227.477 354.342 230.533 349.759 Q233.611 345.152 239.422 345.152 Z\" fill=\"#000000\" fill-rule=\"evenodd\" fill-opacity=\"1\" /><path clip-path=\"url(#clip670)\" d=\"M287.755 354.875 L277.176 365.5 L287.755 376.078 L285 378.879 L274.375 368.254 L263.75 378.879 L261.019 376.078 L271.574 365.5 L261.019 354.875 L263.75 352.074 L274.375 362.699 L285 352.074 L287.755 354.875 Z\" fill=\"#000000\" fill-rule=\"evenodd\" fill-opacity=\"1\" /><path clip-path=\"url(#clip670)\" d=\"M300.116 376.402 L307.754 376.402 L307.754 350.037 L299.444 351.703 L299.444 347.444 L307.708 345.777 L312.384 345.777 L312.384 376.402 L320.023 376.402 L320.023 380.337 L300.116 380.337 L300.116 376.402 Z\" fill=\"#000000\" fill-rule=\"evenodd\" fill-opacity=\"1\" /><path clip-path=\"url(#clip670)\" d=\"M339.467 348.856 Q335.856 348.856 334.027 352.421 Q332.222 355.963 332.222 363.092 Q332.222 370.199 334.027 373.763 Q335.856 377.305 339.467 377.305 Q343.102 377.305 344.907 373.763 Q346.736 370.199 346.736 363.092 Q346.736 355.963 344.907 352.421 Q343.102 348.856 339.467 348.856 M339.467 345.152 Q345.277 345.152 348.333 349.759 Q351.412 354.342 351.412 363.092 Q351.412 371.819 348.333 376.425 Q345.277 381.009 339.467 381.009 Q333.657 381.009 330.578 376.425 Q327.523 371.819 327.523 363.092 Q327.523 354.342 330.578 349.759 Q333.657 345.152 339.467 345.152 Z\" fill=\"#000000\" fill-rule=\"evenodd\" fill-opacity=\"1\" /><path clip-path=\"url(#clip670)\" d=\"M364.107 337.787 Q366.834 338.37 368.357 340.213 Q369.9 342.056 369.9 344.764 Q369.9 348.921 367.041 351.197 Q364.182 353.472 358.916 353.472 Q357.148 353.472 355.267 353.115 Q353.405 352.777 351.412 352.081 L351.412 348.413 Q352.992 349.335 354.872 349.805 Q356.753 350.275 358.803 350.275 Q362.377 350.275 364.239 348.865 Q366.119 347.454 366.119 344.764 Q366.119 342.282 364.37 340.89 Q362.64 339.48 359.537 339.48 L356.264 339.48 L356.264 336.357 L359.687 336.357 Q362.489 336.357 363.975 335.248 Q365.461 334.119 365.461 332.013 Q365.461 329.85 363.919 328.703 Q362.395 327.537 359.537 327.537 Q357.976 327.537 356.189 327.875 Q354.402 328.214 352.258 328.928 L352.258 325.543 Q354.421 324.941 356.302 324.64 Q358.201 324.339 359.875 324.339 Q364.201 324.339 366.721 326.314 Q369.241 328.27 369.241 331.618 Q369.241 333.95 367.906 335.567 Q366.571 337.166 364.107 337.787 Z\" fill=\"#000000\" fill-rule=\"evenodd\" fill-opacity=\"1\" /><path clip-path=\"url(#clip670)\" d=\"M385.228 327.348 Q382.294 327.348 380.808 330.245 Q379.341 333.122 379.341 338.915 Q379.341 344.689 380.808 347.586 Q382.294 350.463 385.228 350.463 Q388.181 350.463 389.648 347.586 Q391.134 344.689 391.134 338.915 Q391.134 333.122 389.648 330.245 Q388.181 327.348 385.228 327.348 M385.228 324.339 Q389.949 324.339 392.431 328.082 Q394.933 331.806 394.933 338.915 Q394.933 346.006 392.431 349.749 Q389.949 353.472 385.228 353.472 Q380.507 353.472 378.006 349.749 Q375.523 346.006 375.523 338.915 Q375.523 331.806 378.006 328.082 Q380.507 324.339 385.228 324.339 Z\" fill=\"#000000\" fill-rule=\"evenodd\" fill-opacity=\"1\" /><path clip-path=\"url(#clip670)\" d=\"M409.735 327.348 Q406.801 327.348 405.315 330.245 Q403.848 333.122 403.848 338.915 Q403.848 344.689 405.315 347.586 Q406.801 350.463 409.735 350.463 Q412.687 350.463 414.154 347.586 Q415.64 344.689 415.64 338.915 Q415.64 333.122 414.154 330.245 Q412.687 327.348 409.735 327.348 M409.735 324.339 Q414.455 324.339 416.938 328.082 Q419.439 331.806 419.439 338.915 Q419.439 346.006 416.938 349.749 Q414.455 353.472 409.735 353.472 Q405.014 353.472 402.512 349.749 Q400.03 346.006 400.03 338.915 Q400.03 331.806 402.512 328.082 Q405.014 324.339 409.735 324.339 Z\" fill=\"#000000\" fill-rule=\"evenodd\" fill-opacity=\"1\" /><path clip-path=\"url(#clip670)\" d=\"M114.26 217.871 L143.936 217.871 L143.936 221.806 L114.26 221.806 L114.26 217.871 Z\" fill=\"#000000\" fill-rule=\"evenodd\" fill-opacity=\"1\" /><path clip-path=\"url(#clip670)\" d=\"M158.056 230.765 L174.376 230.765 L174.376 234.7 L152.431 234.7 L152.431 230.765 Q155.093 228.01 159.677 223.381 Q164.283 218.728 165.464 217.385 Q167.709 214.862 168.589 213.126 Q169.491 211.367 169.491 209.677 Q169.491 206.922 167.547 205.186 Q165.626 203.45 162.524 203.45 Q160.325 203.45 157.871 204.214 Q155.44 204.978 152.663 206.529 L152.663 201.807 Q155.487 200.672 157.94 200.094 Q160.394 199.515 162.431 199.515 Q167.802 199.515 170.996 202.2 Q174.19 204.885 174.19 209.376 Q174.19 211.506 173.38 213.427 Q172.593 215.325 170.487 217.918 Q169.908 218.589 166.806 221.806 Q163.704 225.001 158.056 230.765 Z\" fill=\"#000000\" fill-rule=\"evenodd\" fill-opacity=\"1\" /><path clip-path=\"url(#clip670)\" d=\"M184.19 228.82 L189.075 228.82 L189.075 234.7 L184.19 234.7 L184.19 228.82 Z\" fill=\"#000000\" fill-rule=\"evenodd\" fill-opacity=\"1\" /><path clip-path=\"url(#clip670)\" d=\"M199.306 200.14 L217.662 200.14 L217.662 204.075 L203.588 204.075 L203.588 212.547 Q204.607 212.2 205.625 212.038 Q206.644 211.853 207.662 211.853 Q213.449 211.853 216.829 215.024 Q220.209 218.195 220.209 223.612 Q220.209 229.191 216.736 232.293 Q213.264 235.371 206.945 235.371 Q204.769 235.371 202.5 235.001 Q200.255 234.63 197.848 233.89 L197.848 229.191 Q199.931 230.325 202.153 230.88 Q204.375 231.436 206.852 231.436 Q210.857 231.436 213.195 229.33 Q215.533 227.223 215.533 223.612 Q215.533 220.001 213.195 217.894 Q210.857 215.788 206.852 215.788 Q204.977 215.788 203.102 216.205 Q201.25 216.621 199.306 217.501 L199.306 200.14 Z\" fill=\"#000000\" fill-rule=\"evenodd\" fill-opacity=\"1\" /><path clip-path=\"url(#clip670)\" d=\"M239.422 203.219 Q235.81 203.219 233.982 206.783 Q232.176 210.325 232.176 217.455 Q232.176 224.561 233.982 228.126 Q235.81 231.668 239.422 231.668 Q243.056 231.668 244.861 228.126 Q246.69 224.561 246.69 217.455 Q246.69 210.325 244.861 206.783 Q243.056 203.219 239.422 203.219 M239.422 199.515 Q245.232 199.515 248.287 204.121 Q251.366 208.705 251.366 217.455 Q251.366 226.181 248.287 230.788 Q245.232 235.371 239.422 235.371 Q233.611 235.371 230.533 230.788 Q227.477 226.181 227.477 217.455 Q227.477 208.705 230.533 204.121 Q233.611 199.515 239.422 199.515 Z\" fill=\"#000000\" fill-rule=\"evenodd\" fill-opacity=\"1\" /><path clip-path=\"url(#clip670)\" d=\"M287.755 209.237 L277.176 219.862 L287.755 230.441 L285 233.242 L274.375 222.617 L263.75 233.242 L261.019 230.441 L271.574 219.862 L261.019 209.237 L263.75 206.436 L274.375 217.061 L285 206.436 L287.755 209.237 Z\" fill=\"#000000\" fill-rule=\"evenodd\" fill-opacity=\"1\" /><path clip-path=\"url(#clip670)\" d=\"M300.116 230.765 L307.754 230.765 L307.754 204.399 L299.444 206.066 L299.444 201.807 L307.708 200.14 L312.384 200.14 L312.384 230.765 L320.023 230.765 L320.023 234.7 L300.116 234.7 L300.116 230.765 Z\" fill=\"#000000\" fill-rule=\"evenodd\" fill-opacity=\"1\" /><path clip-path=\"url(#clip670)\" d=\"M339.467 203.219 Q335.856 203.219 334.027 206.783 Q332.222 210.325 332.222 217.455 Q332.222 224.561 334.027 228.126 Q335.856 231.668 339.467 231.668 Q343.102 231.668 344.907 228.126 Q346.736 224.561 346.736 217.455 Q346.736 210.325 344.907 206.783 Q343.102 203.219 339.467 203.219 M339.467 199.515 Q345.277 199.515 348.333 204.121 Q351.412 208.705 351.412 217.455 Q351.412 226.181 348.333 230.788 Q345.277 235.371 339.467 235.371 Q333.657 235.371 330.578 230.788 Q327.523 226.181 327.523 217.455 Q327.523 208.705 330.578 204.121 Q333.657 199.515 339.467 199.515 Z\" fill=\"#000000\" fill-rule=\"evenodd\" fill-opacity=\"1\" /><path clip-path=\"url(#clip670)\" d=\"M364.107 192.149 Q366.834 192.732 368.357 194.575 Q369.9 196.419 369.9 199.127 Q369.9 203.283 367.041 205.559 Q364.182 207.835 358.916 207.835 Q357.148 207.835 355.267 207.478 Q353.405 207.139 351.412 206.443 L351.412 202.776 Q352.992 203.697 354.872 204.167 Q356.753 204.638 358.803 204.638 Q362.377 204.638 364.239 203.227 Q366.119 201.816 366.119 199.127 Q366.119 196.644 364.37 195.253 Q362.64 193.842 359.537 193.842 L356.264 193.842 L356.264 190.72 L359.687 190.72 Q362.489 190.72 363.975 189.61 Q365.461 188.482 365.461 186.375 Q365.461 184.212 363.919 183.065 Q362.395 181.899 359.537 181.899 Q357.976 181.899 356.189 182.238 Q354.402 182.576 352.258 183.291 L352.258 179.905 Q354.421 179.304 356.302 179.003 Q358.201 178.702 359.875 178.702 Q364.201 178.702 366.721 180.677 Q369.241 182.633 369.241 185.98 Q369.241 188.312 367.906 189.93 Q366.571 191.529 364.107 192.149 Z\" fill=\"#000000\" fill-rule=\"evenodd\" fill-opacity=\"1\" /><path clip-path=\"url(#clip670)\" d=\"M385.228 181.711 Q382.294 181.711 380.808 184.607 Q379.341 187.485 379.341 193.278 Q379.341 199.052 380.808 201.948 Q382.294 204.826 385.228 204.826 Q388.181 204.826 389.648 201.948 Q391.134 199.052 391.134 193.278 Q391.134 187.485 389.648 184.607 Q388.181 181.711 385.228 181.711 M385.228 178.702 Q389.949 178.702 392.431 182.444 Q394.933 186.168 394.933 193.278 Q394.933 200.368 392.431 204.111 Q389.949 207.835 385.228 207.835 Q380.507 207.835 378.006 204.111 Q375.523 200.368 375.523 193.278 Q375.523 186.168 378.006 182.444 Q380.507 178.702 385.228 178.702 Z\" fill=\"#000000\" fill-rule=\"evenodd\" fill-opacity=\"1\" /><path clip-path=\"url(#clip670)\" d=\"M409.735 181.711 Q406.801 181.711 405.315 184.607 Q403.848 187.485 403.848 193.278 Q403.848 199.052 405.315 201.948 Q406.801 204.826 409.735 204.826 Q412.687 204.826 414.154 201.948 Q415.64 199.052 415.64 193.278 Q415.64 187.485 414.154 184.607 Q412.687 181.711 409.735 181.711 M409.735 178.702 Q414.455 178.702 416.938 182.444 Q419.439 186.168 419.439 193.278 Q419.439 200.368 416.938 204.111 Q414.455 207.835 409.735 207.835 Q405.014 207.835 402.512 204.111 Q400.03 200.368 400.03 193.278 Q400.03 186.168 402.512 182.444 Q405.014 178.702 409.735 178.702 Z\" fill=\"#000000\" fill-rule=\"evenodd\" fill-opacity=\"1\" /><path clip-path=\"url(#clip670)\" d=\"M407.495 51.1335 Q403.884 51.1335 402.055 54.6983 Q400.25 58.2399 400.25 65.3695 Q400.25 72.4759 402.055 76.0407 Q403.884 79.5824 407.495 79.5824 Q411.129 79.5824 412.935 76.0407 Q414.763 72.4759 414.763 65.3695 Q414.763 58.2399 412.935 54.6983 Q411.129 51.1335 407.495 51.1335 M407.495 47.4298 Q413.305 47.4298 416.361 52.0362 Q419.439 56.6195 419.439 65.3695 Q419.439 74.0963 416.361 78.7028 Q413.305 83.2861 407.495 83.2861 Q401.685 83.2861 398.606 78.7028 Q395.551 74.0963 395.551 65.3695 Q395.551 56.6195 398.606 52.0362 Q401.685 47.4298 407.495 47.4298 Z\" fill=\"#000000\" fill-rule=\"evenodd\" fill-opacity=\"1\" /><path clip-path=\"url(#clip670)\" d=\"M20.9241 418.129 Q21.536 418.129 22.0513 418.257 L33.5165 420.061 Q34.3861 420.158 34.7082 420.351 Q35.0302 420.512 35.0302 421.027 Q35.0302 421.832 34.1929 421.832 Q33.7098 421.832 32.9368 421.639 Q29.2976 421.092 27.6551 421.092 Q26.5601 421.092 25.7549 421.317 Q24.9176 421.51 24.3379 421.832 Q23.7582 422.122 23.3717 422.798 Q22.9852 423.475 22.7598 424.119 Q22.5343 424.763 22.4377 425.922 Q22.3089 427.082 22.2767 428.08 Q22.2445 429.079 22.2445 430.721 Q22.2445 434.296 22.3733 434.876 Q22.5343 435.488 23.0174 435.81 Q23.4683 436.099 24.821 436.422 L59.8287 445.182 L61.2136 445.439 Q61.9865 445.439 62.2442 444.956 Q62.5018 444.473 62.6628 442.992 Q62.8239 440.866 62.8239 438.773 Q62.8239 438.708 62.8239 438.579 Q62.8239 437.871 62.8561 437.581 Q62.8561 437.291 62.9205 437.001 Q62.9849 436.711 63.1459 436.647 Q63.2748 436.55 63.5324 436.55 Q64.1443 436.55 64.4664 436.808 Q64.7562 437.066 64.8206 437.323 Q64.8528 437.549 64.8528 438 Q64.8528 438.901 64.7884 440.834 Q64.724 442.766 64.724 443.732 L64.6596 449.207 L64.724 454.811 Q64.724 455.681 64.7884 457.516 Q64.8528 459.352 64.8528 460.222 Q64.8528 461.349 64.0477 461.349 Q63.1459 461.349 62.9849 460.93 Q62.8239 460.479 62.8239 458.579 Q62.8239 455.906 62.6951 454.457 Q62.5662 453.008 62.1153 452.235 Q61.6645 451.429 61.2136 451.204 Q60.7305 450.979 59.6355 450.721 L24.4345 441.864 Q23.6615 441.607 23.0496 441.607 Q22.7276 441.607 22.5988 441.703 Q22.4699 441.768 22.3733 442.186 Q22.2445 442.605 22.2445 443.475 L22.2445 446.051 Q22.2445 448.692 22.3733 450.334 Q22.4699 451.945 22.953 453.491 Q23.4361 455.004 24.1124 455.906 Q24.7888 456.776 26.1736 457.742 Q27.5585 458.708 29.2332 459.417 Q30.9079 460.093 33.6454 461.059 Q34.5471 461.381 34.8048 461.574 Q35.0302 461.735 35.0302 462.186 Q35.0302 462.508 34.837 462.766 Q34.6115 462.991 34.3217 462.991 Q33.2589 462.669 33.1301 462.605 L21.5038 458.644 Q20.5698 458.322 20.4088 458.032 Q20.2155 457.71 20.2155 456.518 L20.2155 419.932 Q20.2155 419.352 20.2155 419.159 Q20.2155 418.966 20.2799 418.644 Q20.3443 418.322 20.5054 418.225 Q20.6664 418.129 20.9241 418.129 Z\" fill=\"#000000\" fill-rule=\"evenodd\" fill-opacity=\"1\" /><path clip-path=\"url(#clip670)\" d=\"M65.7254 392.728 Q66.9202 392.728 67.6867 393.517 Q68.4532 394.283 68.4532 395.275 Q68.4532 396.132 67.9572 396.583 Q67.4613 397.034 66.83 397.034 Q65.9283 397.034 65.1843 396.335 Q64.4403 395.636 64.2825 394.621 Q63.7415 395.365 63.7415 396.56 Q63.7415 398.522 65.2519 400.257 Q65.9508 401.024 67.2358 401.858 Q68.4983 402.692 69.0393 402.85 L75.0586 404.315 Q75.7349 404.451 78.9813 405.285 Q82.2051 406.096 82.3404 406.164 Q82.9716 406.389 83.3098 406.885 Q83.6479 407.381 83.6479 407.877 Q83.6479 408.441 83.3098 408.824 Q82.9716 409.207 82.3855 409.207 Q82.2953 409.207 81.9571 409.14 Q81.619 409.072 81.1455 408.959 Q80.6721 408.847 80.4016 408.802 L69.7382 406.119 Q67.7994 405.623 67.1907 405.51 Q66.5595 405.375 65.8606 405.375 Q64.6432 405.375 64.1924 405.758 Q63.7415 406.141 63.7415 406.818 Q63.7415 407.99 65.1392 408.757 Q66.5369 409.523 69.2422 410.177 Q69.9862 410.38 70.144 410.515 Q70.3018 410.628 70.3018 410.966 Q70.2793 411.53 69.8284 411.53 Q69.7157 411.53 68.9943 411.349 Q68.2503 411.169 67.1682 410.831 Q66.0635 410.47 65.3647 410.087 Q64.8912 409.861 64.5756 409.658 Q64.26 409.455 63.764 409.05 Q63.2681 408.644 62.9975 408.035 Q62.727 407.426 62.727 406.683 Q62.727 405.059 63.7189 403.91 Q64.7109 402.737 66.2664 402.467 Q65.4548 401.903 64.756 401.204 Q64.0346 400.505 63.3808 399.22 Q62.727 397.935 62.727 396.56 Q62.727 394.847 63.6062 393.787 Q64.4629 392.728 65.7254 392.728 Z\" fill=\"#000000\" fill-rule=\"evenodd\" fill-opacity=\"1\" /><path clip-path=\"url(#clip670)\" d=\"M83.1294 389.441 Q82.2953 389.441 82.0473 389.374 Q81.7993 389.284 81.4161 388.923 L71.5417 380.063 Q66.0861 375.216 61.3293 375.216 Q58.2407 375.216 56.0314 376.839 Q53.8221 378.44 53.8221 381.393 Q53.8221 383.422 55.062 385.136 Q56.3019 386.849 58.5112 387.638 Q58.4662 387.503 58.4662 387.029 Q58.4662 385.88 59.1876 385.248 Q59.909 384.595 60.8784 384.595 Q62.1183 384.595 62.727 385.406 Q63.3131 386.195 63.3131 386.984 Q63.3131 387.3 63.2455 387.728 Q63.1779 388.134 62.5466 388.788 Q61.8929 389.441 60.7431 389.441 Q57.5193 389.441 54.9493 387.007 Q52.3793 384.549 52.3793 380.807 Q52.3793 376.569 54.9042 373.796 Q57.4066 371 61.3293 371 Q62.7045 371 63.9669 371.429 Q65.2068 371.835 66.1762 372.398 Q67.1456 372.939 68.7012 374.427 Q70.2567 375.915 71.3614 377.11 Q72.466 378.305 74.8106 380.987 L79.5674 385.88 L79.5674 377.561 Q79.5674 373.503 79.2067 373.187 Q78.553 372.736 75.1037 372.173 L75.1037 371 L83.1294 372.308 L83.1294 389.441 Z\" fill=\"#000000\" fill-rule=\"evenodd\" fill-opacity=\"1\" /><path clip-path=\"url(#clip670)\" d=\"M81.3422 359.537 L15.3846 359.537 L15.3846 349.585 L16.8983 349.585 L16.8983 355.124 L79.8286 355.124 L79.8286 349.585 L81.3422 349.585 L81.3422 359.537 Z\" fill=\"#000000\" fill-rule=\"evenodd\" fill-opacity=\"1\" /><path clip-path=\"url(#clip670)\" d=\"M20.5376 291.06 Q20.9563 291.06 21.2461 291.156 Q21.5038 291.253 21.6326 291.478 Q21.7614 291.704 21.7936 291.833 Q21.8258 291.961 21.858 292.251 Q21.9868 293.636 22.2123 294.602 Q22.4377 295.536 23.5971 297.855 Q24.7565 300.142 26.8499 303.008 L35.771 314.538 L37.2846 316.47 Q37.3812 316.47 37.5745 316.406 Q37.7355 316.341 37.961 316.277 Q38.1542 316.18 38.2186 316.148 L59.8287 306.776 Q61.5678 306.035 62.1798 305.134 Q62.7917 304.232 62.8239 302.203 Q62.8239 301.881 62.8561 301.752 Q62.8561 301.591 62.9205 301.365 Q62.9527 301.108 63.1137 301.011 Q63.2748 300.882 63.5324 300.882 Q64.8528 300.882 64.8528 302.074 Q64.8528 302.815 64.7562 305.327 Q64.6596 307.839 64.6596 308.547 Q64.6596 309.868 64.7562 312.573 Q64.8528 315.278 64.8528 316.599 Q64.8528 317.533 64.1121 317.533 Q63.5002 317.533 63.2103 317.307 Q62.8883 317.05 62.8561 316.824 Q62.8239 316.599 62.8239 316.084 Q62.8239 315.697 62.7917 315.278 Q62.7273 314.828 62.5662 314.183 Q62.373 313.507 61.9221 313.088 Q61.439 312.638 60.7627 312.638 Q60.2152 312.638 58.4439 313.443 L40.6984 321.075 L48.3634 330.898 L58.7337 333.539 Q59.1202 333.604 59.7965 333.765 Q60.4728 333.926 60.9559 334.054 Q61.439 334.151 61.6323 334.151 Q62.0509 334.151 62.3086 333.893 Q62.5662 333.604 62.6951 332.895 Q62.7917 332.186 62.8239 331.639 Q62.8239 331.059 62.8239 329.868 Q62.8239 328.386 63.0815 328.129 Q63.2426 328 63.5324 328 Q63.9833 328 64.3053 328.129 Q64.5952 328.257 64.6918 328.515 Q64.7884 328.74 64.8206 328.901 Q64.8528 329.063 64.8528 329.32 Q64.8528 329.996 64.7884 331.446 Q64.724 332.863 64.724 333.604 L64.6596 337.823 L64.8528 346.196 Q64.8528 347.194 64.0477 347.194 Q63.4358 347.194 63.1781 346.937 Q62.8883 346.679 62.8561 346.389 Q62.8239 346.099 62.8239 345.359 Q62.8239 343.748 62.7273 342.782 Q62.6306 341.816 62.5018 341.204 Q62.3408 340.56 61.8899 340.238 Q61.439 339.884 61.0526 339.723 Q60.6339 339.562 59.6999 339.336 L24.2735 330.512 Q23.2107 330.254 23.0496 330.254 Q22.5021 330.254 22.3089 330.576 Q22.0835 330.866 21.9868 331.703 Q21.858 333.314 21.858 334.538 Q21.858 335.343 21.8258 335.665 Q21.7936 335.955 21.6326 336.212 Q21.4393 336.438 21.0529 336.438 Q19.7968 336.438 19.7968 335.117 L19.9901 326.615 L19.7968 318.177 Q19.7968 317.243 20.5376 317.243 Q21.4715 317.243 21.6648 317.694 Q21.858 318.113 21.858 319.497 Q21.858 321.913 22.1801 323.008 Q22.4699 324.071 22.9852 324.393 Q23.4683 324.683 24.8854 325.037 L46.0446 330.319 L26.2702 304.586 Q24.2735 302.203 23.2429 302.203 Q22.5665 302.203 22.2767 302.686 Q21.9546 303.137 21.858 304.264 Q21.7292 305.069 21.1173 305.069 Q20.5054 305.069 20.2155 304.844 Q19.8935 304.586 19.8613 304.393 Q19.7968 304.167 19.7968 303.813 Q19.7968 302.622 19.8935 300.142 Q19.9901 297.662 19.9901 296.47 Q19.9901 295.665 19.8935 294.087 Q19.7968 292.509 19.7968 291.8 Q19.7968 291.446 20.0545 291.253 Q20.2799 291.06 20.5376 291.06 Z\" fill=\"#000000\" fill-rule=\"evenodd\" fill-opacity=\"1\" /><path clip-path=\"url(#clip670)\" d=\"M79.8286 288.851 L79.8286 283.311 L16.8983 283.311 L16.8983 288.851 L15.3846 288.851 L15.3846 278.899 L81.3422 278.899 L81.3422 288.851 L79.8286 288.851 Z\" fill=\"#000000\" fill-rule=\"evenodd\" fill-opacity=\"1\" /><polyline clip-path=\"url(#clip673)\" style=\"stroke:#000000; stroke-linecap:round; stroke-linejoin:round; stroke-width:4; stroke-opacity:1; fill:none\" stroke-dasharray=\"2, 4\" points=\"509.137,65.3348 555.032,65.3348 600.928,65.3348 646.823,65.3348 692.719,65.3348 738.614,65.3348 784.51,65.3348 830.405,65.3348 876.3,65.3348 922.196,65.3348 968.091,65.3348 1013.99,65.3348 1059.88,65.3348 1105.78,65.3348 1151.67,65.3348 1197.57,65.3348 1243.46,65.3348 1289.36,65.3348 1335.25,65.3348 1381.15,65.3348 1427.05,65.3348 1472.94,65.3348 1518.84,65.3348 1564.73,65.3348 1610.63,65.3348 1656.52,65.3348 1702.42,65.3348 1748.31,65.3348 1794.21,65.3348 1840.1,65.3348 1886,65.3348 1931.89,65.3348 1977.79,65.3348 2023.69,65.3348 2069.58,65.3348 2115.48,65.3348 2161.37,65.3348 2207.27,65.3348 2253.16,65.3348 2299.06,65.3348 \"/>\n",
       "<polyline clip-path=\"url(#clip673)\" style=\"stroke:#ff0000; stroke-linecap:round; stroke-linejoin:round; stroke-width:12; stroke-opacity:0.3; fill:none\" points=\"509.137,65.3348 555.032,65.3348 600.928,65.3348 646.823,65.3348 692.719,65.3348 738.614,65.3348 784.51,65.3348 830.405,65.3348 876.3,65.3348 922.196,65.3348 968.091,65.3348 1013.99,65.3348 1059.88,65.3348 1105.78,65.3348 1151.67,65.3348 1197.57,65.3348 1243.46,65.3348 1289.36,65.3348 1335.25,65.3348 1381.15,65.3348 1427.05,65.3348 1472.94,65.3348 1518.84,65.3348 1564.73,65.3348 1610.63,65.3348 1656.52,65.3348 1702.42,65.3348 1748.31,65.3348 1794.21,65.3348 1840.1,65.3348 1886,65.3348 1931.89,65.3348 1977.79,65.3348 2023.69,65.3348 2069.58,65.3348 2115.48,65.3348 2161.37,65.3348 2207.27,65.3348 2253.16,65.3348 2299.06,65.3348 \"/>\n",
       "<polyline clip-path=\"url(#clip673)\" style=\"stroke:#0000ff; stroke-linecap:round; stroke-linejoin:round; stroke-width:12; stroke-opacity:0.3; fill:none\" points=\"509.137,65.3348 555.032,65.3348 600.928,65.3348 646.823,65.3348 692.719,65.3348 738.614,65.3348 784.51,65.3348 830.405,65.3348 876.3,65.3348 922.196,65.3348 968.091,65.3348 1013.99,65.3348 1059.88,65.3348 1105.78,65.3348 1151.67,65.3348 1197.57,65.3348 1243.46,65.3348 1289.36,65.3348 1335.25,65.3348 1381.15,65.3348 1427.05,65.3348 1472.94,65.3348 1518.84,65.3348 1564.73,668.357 1610.63,65.3348 1656.52,65.3348 1702.42,65.3348 1748.31,65.3348 1794.21,65.3348 1840.1,65.3348 1886,65.3348 1931.89,65.3348 1977.79,65.3348 2023.69,65.3348 2069.58,65.3348 2115.48,65.3348 2161.37,65.3348 2207.27,65.3348 2253.16,65.3348 2299.06,65.3348 \"/>\n",
       "<path clip-path=\"url(#clip670)\" d=\"M455.439 1486.45 L2352.76 1486.45 L2352.76 847.244 L455.439 847.244  Z\" fill=\"#ffffff\" fill-rule=\"evenodd\" fill-opacity=\"1\"/>\n",
       "<defs>\n",
       "  <clipPath id=\"clip674\">\n",
       "    <rect x=\"455\" y=\"847\" width=\"1898\" height=\"640\"/>\n",
       "  </clipPath>\n",
       "</defs>\n",
       "<polyline clip-path=\"url(#clip674)\" style=\"stroke:#000000; stroke-linecap:round; stroke-linejoin:round; stroke-width:8; stroke-opacity:0.1; fill:none\" points=\"463.242,1486.45 463.242,847.244 \"/>\n",
       "<polyline clip-path=\"url(#clip674)\" style=\"stroke:#000000; stroke-linecap:round; stroke-linejoin:round; stroke-width:8; stroke-opacity:0.1; fill:none\" points=\"922.196,1486.45 922.196,847.244 \"/>\n",
       "<polyline clip-path=\"url(#clip674)\" style=\"stroke:#000000; stroke-linecap:round; stroke-linejoin:round; stroke-width:8; stroke-opacity:0.1; fill:none\" points=\"1381.15,1486.45 1381.15,847.244 \"/>\n",
       "<polyline clip-path=\"url(#clip674)\" style=\"stroke:#000000; stroke-linecap:round; stroke-linejoin:round; stroke-width:8; stroke-opacity:0.1; fill:none\" points=\"1840.1,1486.45 1840.1,847.244 \"/>\n",
       "<polyline clip-path=\"url(#clip674)\" style=\"stroke:#000000; stroke-linecap:round; stroke-linejoin:round; stroke-width:8; stroke-opacity:0.1; fill:none\" points=\"2299.06,1486.45 2299.06,847.244 \"/>\n",
       "<polyline clip-path=\"url(#clip670)\" style=\"stroke:#000000; stroke-linecap:round; stroke-linejoin:round; stroke-width:4; stroke-opacity:1; fill:none\" points=\"455.439,1486.45 2352.76,1486.45 \"/>\n",
       "<polyline clip-path=\"url(#clip670)\" style=\"stroke:#000000; stroke-linecap:round; stroke-linejoin:round; stroke-width:4; stroke-opacity:1; fill:none\" points=\"463.242,1486.45 463.242,1467.55 \"/>\n",
       "<polyline clip-path=\"url(#clip670)\" style=\"stroke:#000000; stroke-linecap:round; stroke-linejoin:round; stroke-width:4; stroke-opacity:1; fill:none\" points=\"922.196,1486.45 922.196,1467.55 \"/>\n",
       "<polyline clip-path=\"url(#clip670)\" style=\"stroke:#000000; stroke-linecap:round; stroke-linejoin:round; stroke-width:4; stroke-opacity:1; fill:none\" points=\"1381.15,1486.45 1381.15,1467.55 \"/>\n",
       "<polyline clip-path=\"url(#clip670)\" style=\"stroke:#000000; stroke-linecap:round; stroke-linejoin:round; stroke-width:4; stroke-opacity:1; fill:none\" points=\"1840.1,1486.45 1840.1,1467.55 \"/>\n",
       "<polyline clip-path=\"url(#clip670)\" style=\"stroke:#000000; stroke-linecap:round; stroke-linejoin:round; stroke-width:4; stroke-opacity:1; fill:none\" points=\"2299.06,1486.45 2299.06,1467.55 \"/>\n",
       "<path clip-path=\"url(#clip670)\" d=\"M463.242 1517.37 Q459.63 1517.37 457.802 1520.93 Q455.996 1524.47 455.996 1531.6 Q455.996 1538.71 457.802 1542.27 Q459.63 1545.82 463.242 1545.82 Q466.876 1545.82 468.681 1542.27 Q470.51 1538.71 470.51 1531.6 Q470.51 1524.47 468.681 1520.93 Q466.876 1517.37 463.242 1517.37 M463.242 1513.66 Q469.052 1513.66 472.107 1518.27 Q475.186 1522.85 475.186 1531.6 Q475.186 1540.33 472.107 1544.94 Q469.052 1549.52 463.242 1549.52 Q457.431 1549.52 454.353 1544.94 Q451.297 1540.33 451.297 1531.6 Q451.297 1522.85 454.353 1518.27 Q457.431 1513.66 463.242 1513.66 Z\" fill=\"#000000\" fill-rule=\"evenodd\" fill-opacity=\"1\" /><path clip-path=\"url(#clip670)\" d=\"M896.883 1544.91 L904.522 1544.91 L904.522 1518.55 L896.212 1520.21 L896.212 1515.95 L904.476 1514.29 L909.152 1514.29 L909.152 1544.91 L916.791 1544.91 L916.791 1548.85 L896.883 1548.85 L896.883 1544.91 Z\" fill=\"#000000\" fill-rule=\"evenodd\" fill-opacity=\"1\" /><path clip-path=\"url(#clip670)\" d=\"M936.235 1517.37 Q932.624 1517.37 930.795 1520.93 Q928.99 1524.47 928.99 1531.6 Q928.99 1538.71 930.795 1542.27 Q932.624 1545.82 936.235 1545.82 Q939.869 1545.82 941.675 1542.27 Q943.504 1538.71 943.504 1531.6 Q943.504 1524.47 941.675 1520.93 Q939.869 1517.37 936.235 1517.37 M936.235 1513.66 Q942.045 1513.66 945.101 1518.27 Q948.179 1522.85 948.179 1531.6 Q948.179 1540.33 945.101 1544.94 Q942.045 1549.52 936.235 1549.52 Q930.425 1549.52 927.346 1544.94 Q924.291 1540.33 924.291 1531.6 Q924.291 1522.85 927.346 1518.27 Q930.425 1513.66 936.235 1513.66 Z\" fill=\"#000000\" fill-rule=\"evenodd\" fill-opacity=\"1\" /><path clip-path=\"url(#clip670)\" d=\"M1359.92 1544.91 L1376.24 1544.91 L1376.24 1548.85 L1354.3 1548.85 L1354.3 1544.91 Q1356.96 1542.16 1361.54 1537.53 Q1366.15 1532.88 1367.33 1531.53 Q1369.58 1529.01 1370.46 1527.27 Q1371.36 1525.51 1371.36 1523.82 Q1371.36 1521.07 1369.41 1519.33 Q1367.49 1517.6 1364.39 1517.6 Q1362.19 1517.6 1359.74 1518.36 Q1357.31 1519.13 1354.53 1520.68 L1354.53 1515.95 Q1357.35 1514.82 1359.81 1514.24 Q1362.26 1513.66 1364.3 1513.66 Q1369.67 1513.66 1372.86 1516.35 Q1376.06 1519.03 1376.06 1523.52 Q1376.06 1525.65 1375.25 1527.57 Q1374.46 1529.47 1372.35 1532.07 Q1371.77 1532.74 1368.67 1535.95 Q1365.57 1539.15 1359.92 1544.91 Z\" fill=\"#000000\" fill-rule=\"evenodd\" fill-opacity=\"1\" /><path clip-path=\"url(#clip670)\" d=\"M1396.06 1517.37 Q1392.45 1517.37 1390.62 1520.93 Q1388.81 1524.47 1388.81 1531.6 Q1388.81 1538.71 1390.62 1542.27 Q1392.45 1545.82 1396.06 1545.82 Q1399.69 1545.82 1401.5 1542.27 Q1403.33 1538.71 1403.33 1531.6 Q1403.33 1524.47 1401.5 1520.93 Q1399.69 1517.37 1396.06 1517.37 M1396.06 1513.66 Q1401.87 1513.66 1404.92 1518.27 Q1408 1522.85 1408 1531.6 Q1408 1540.33 1404.92 1544.94 Q1401.87 1549.52 1396.06 1549.52 Q1390.25 1549.52 1387.17 1544.94 Q1384.11 1540.33 1384.11 1531.6 Q1384.11 1522.85 1387.17 1518.27 Q1390.25 1513.66 1396.06 1513.66 Z\" fill=\"#000000\" fill-rule=\"evenodd\" fill-opacity=\"1\" /><path clip-path=\"url(#clip670)\" d=\"M1828.95 1530.21 Q1832.3 1530.93 1834.18 1533.2 Q1836.08 1535.47 1836.08 1538.8 Q1836.08 1543.92 1832.56 1546.72 Q1829.04 1549.52 1822.56 1549.52 Q1820.38 1549.52 1818.07 1549.08 Q1815.78 1548.66 1813.32 1547.81 L1813.32 1543.29 Q1815.27 1544.43 1817.58 1545.01 Q1819.9 1545.58 1822.42 1545.58 Q1826.82 1545.58 1829.11 1543.85 Q1831.42 1542.11 1831.42 1538.8 Q1831.42 1535.75 1829.27 1534.03 Q1827.14 1532.3 1823.32 1532.3 L1819.29 1532.3 L1819.29 1528.45 L1823.51 1528.45 Q1826.96 1528.45 1828.78 1527.09 Q1830.61 1525.7 1830.61 1523.11 Q1830.61 1520.45 1828.72 1519.03 Q1826.84 1517.6 1823.32 1517.6 Q1821.4 1517.6 1819.2 1518.01 Q1817 1518.43 1814.36 1519.31 L1814.36 1515.14 Q1817.03 1514.4 1819.34 1514.03 Q1821.68 1513.66 1823.74 1513.66 Q1829.06 1513.66 1832.16 1516.09 Q1835.27 1518.5 1835.27 1522.62 Q1835.27 1525.49 1833.62 1527.48 Q1831.98 1529.45 1828.95 1530.21 Z\" fill=\"#000000\" fill-rule=\"evenodd\" fill-opacity=\"1\" /><path clip-path=\"url(#clip670)\" d=\"M1854.94 1517.37 Q1851.33 1517.37 1849.5 1520.93 Q1847.7 1524.47 1847.7 1531.6 Q1847.7 1538.71 1849.5 1542.27 Q1851.33 1545.82 1854.94 1545.82 Q1858.58 1545.82 1860.38 1542.27 Q1862.21 1538.71 1862.21 1531.6 Q1862.21 1524.47 1860.38 1520.93 Q1858.58 1517.37 1854.94 1517.37 M1854.94 1513.66 Q1860.75 1513.66 1863.81 1518.27 Q1866.89 1522.85 1866.89 1531.6 Q1866.89 1540.33 1863.81 1544.94 Q1860.75 1549.52 1854.94 1549.52 Q1849.13 1549.52 1846.05 1544.94 Q1843 1540.33 1843 1531.6 Q1843 1522.85 1846.05 1518.27 Q1849.13 1513.66 1854.94 1513.66 Z\" fill=\"#000000\" fill-rule=\"evenodd\" fill-opacity=\"1\" /><path clip-path=\"url(#clip670)\" d=\"M2287.23 1518.36 L2275.42 1536.81 L2287.23 1536.81 L2287.23 1518.36 M2286 1514.29 L2291.88 1514.29 L2291.88 1536.81 L2296.81 1536.81 L2296.81 1540.7 L2291.88 1540.7 L2291.88 1548.85 L2287.23 1548.85 L2287.23 1540.7 L2271.63 1540.7 L2271.63 1536.19 L2286 1514.29 Z\" fill=\"#000000\" fill-rule=\"evenodd\" fill-opacity=\"1\" /><path clip-path=\"url(#clip670)\" d=\"M2314.54 1517.37 Q2310.93 1517.37 2309.1 1520.93 Q2307.3 1524.47 2307.3 1531.6 Q2307.3 1538.71 2309.1 1542.27 Q2310.93 1545.82 2314.54 1545.82 Q2318.18 1545.82 2319.98 1542.27 Q2321.81 1538.71 2321.81 1531.6 Q2321.81 1524.47 2319.98 1520.93 Q2318.18 1517.37 2314.54 1517.37 M2314.54 1513.66 Q2320.35 1513.66 2323.41 1518.27 Q2326.49 1522.85 2326.49 1531.6 Q2326.49 1540.33 2323.41 1544.94 Q2320.35 1549.52 2314.54 1549.52 Q2308.73 1549.52 2305.66 1544.94 Q2302.6 1540.33 2302.6 1531.6 Q2302.6 1522.85 2305.66 1518.27 Q2308.73 1513.66 2314.54 1513.66 Z\" fill=\"#000000\" fill-rule=\"evenodd\" fill-opacity=\"1\" /><polyline clip-path=\"url(#clip674)\" style=\"stroke:#000000; stroke-linecap:round; stroke-linejoin:round; stroke-width:8; stroke-opacity:0.1; fill:none\" points=\"455.439,1468.36 2352.76,1468.36 \"/>\n",
       "<polyline clip-path=\"url(#clip674)\" style=\"stroke:#000000; stroke-linecap:round; stroke-linejoin:round; stroke-width:8; stroke-opacity:0.1; fill:none\" points=\"455.439,1261.83 2352.76,1261.83 \"/>\n",
       "<polyline clip-path=\"url(#clip674)\" style=\"stroke:#000000; stroke-linecap:round; stroke-linejoin:round; stroke-width:8; stroke-opacity:0.1; fill:none\" points=\"455.439,1055.31 2352.76,1055.31 \"/>\n",
       "<polyline clip-path=\"url(#clip674)\" style=\"stroke:#000000; stroke-linecap:round; stroke-linejoin:round; stroke-width:8; stroke-opacity:0.1; fill:none\" points=\"455.439,848.78 2352.76,848.78 \"/>\n",
       "<polyline clip-path=\"url(#clip670)\" style=\"stroke:#000000; stroke-linecap:round; stroke-linejoin:round; stroke-width:4; stroke-opacity:1; fill:none\" points=\"455.439,1486.45 455.439,847.244 \"/>\n",
       "<polyline clip-path=\"url(#clip670)\" style=\"stroke:#000000; stroke-linecap:round; stroke-linejoin:round; stroke-width:4; stroke-opacity:1; fill:none\" points=\"455.439,1468.36 474.337,1468.36 \"/>\n",
       "<polyline clip-path=\"url(#clip670)\" style=\"stroke:#000000; stroke-linecap:round; stroke-linejoin:round; stroke-width:4; stroke-opacity:1; fill:none\" points=\"455.439,1261.83 474.337,1261.83 \"/>\n",
       "<polyline clip-path=\"url(#clip670)\" style=\"stroke:#000000; stroke-linecap:round; stroke-linejoin:round; stroke-width:4; stroke-opacity:1; fill:none\" points=\"455.439,1055.31 474.337,1055.31 \"/>\n",
       "<polyline clip-path=\"url(#clip670)\" style=\"stroke:#000000; stroke-linecap:round; stroke-linejoin:round; stroke-width:4; stroke-opacity:1; fill:none\" points=\"455.439,848.78 474.337,848.78 \"/>\n",
       "<path clip-path=\"url(#clip670)\" d=\"M407.495 1454.16 Q403.884 1454.16 402.055 1457.72 Q400.25 1461.26 400.25 1468.39 Q400.25 1475.5 402.055 1479.06 Q403.884 1482.6 407.495 1482.6 Q411.129 1482.6 412.935 1479.06 Q414.763 1475.5 414.763 1468.39 Q414.763 1461.26 412.935 1457.72 Q411.129 1454.16 407.495 1454.16 M407.495 1450.45 Q413.305 1450.45 416.361 1455.06 Q419.439 1459.64 419.439 1468.39 Q419.439 1477.12 416.361 1481.73 Q413.305 1486.31 407.495 1486.31 Q401.685 1486.31 398.606 1481.73 Q395.551 1477.12 395.551 1468.39 Q395.551 1459.64 398.606 1455.06 Q401.685 1450.45 407.495 1450.45 Z\" fill=\"#000000\" fill-rule=\"evenodd\" fill-opacity=\"1\" /><path clip-path=\"url(#clip670)\" d=\"M187.107 1281.62 L194.746 1281.62 L194.746 1255.26 L186.436 1256.92 L186.436 1252.67 L194.7 1251 L199.375 1251 L199.375 1281.62 L207.014 1281.62 L207.014 1285.56 L187.107 1285.56 L187.107 1281.62 Z\" fill=\"#000000\" fill-rule=\"evenodd\" fill-opacity=\"1\" /><path clip-path=\"url(#clip670)\" d=\"M216.459 1279.68 L221.343 1279.68 L221.343 1285.56 L216.459 1285.56 L216.459 1279.68 Z\" fill=\"#000000\" fill-rule=\"evenodd\" fill-opacity=\"1\" /><path clip-path=\"url(#clip670)\" d=\"M241.528 1254.08 Q237.917 1254.08 236.088 1257.64 Q234.283 1261.18 234.283 1268.31 Q234.283 1275.42 236.088 1278.98 Q237.917 1282.53 241.528 1282.53 Q245.162 1282.53 246.968 1278.98 Q248.796 1275.42 248.796 1268.31 Q248.796 1261.18 246.968 1257.64 Q245.162 1254.08 241.528 1254.08 M241.528 1250.37 Q247.338 1250.37 250.394 1254.98 Q253.472 1259.56 253.472 1268.31 Q253.472 1277.04 250.394 1281.65 Q247.338 1286.23 241.528 1286.23 Q235.718 1286.23 232.639 1281.65 Q229.584 1277.04 229.584 1268.31 Q229.584 1259.56 232.639 1254.98 Q235.718 1250.37 241.528 1250.37 Z\" fill=\"#000000\" fill-rule=\"evenodd\" fill-opacity=\"1\" /><path clip-path=\"url(#clip670)\" d=\"M289.861 1260.1 L279.282 1270.72 L289.861 1281.3 L287.106 1284.1 L276.482 1273.48 L265.857 1284.1 L263.125 1281.3 L273.681 1270.72 L263.125 1260.1 L265.857 1257.3 L276.482 1267.92 L287.106 1257.3 L289.861 1260.1 Z\" fill=\"#000000\" fill-rule=\"evenodd\" fill-opacity=\"1\" /><path clip-path=\"url(#clip670)\" d=\"M302.222 1281.62 L309.861 1281.62 L309.861 1255.26 L301.551 1256.92 L301.551 1252.67 L309.815 1251 L314.491 1251 L314.491 1281.62 L322.129 1281.62 L322.129 1285.56 L302.222 1285.56 L302.222 1281.62 Z\" fill=\"#000000\" fill-rule=\"evenodd\" fill-opacity=\"1\" /><path clip-path=\"url(#clip670)\" d=\"M341.574 1254.08 Q337.963 1254.08 336.134 1257.64 Q334.328 1261.18 334.328 1268.31 Q334.328 1275.42 336.134 1278.98 Q337.963 1282.53 341.574 1282.53 Q345.208 1282.53 347.014 1278.98 Q348.842 1275.42 348.842 1268.31 Q348.842 1261.18 347.014 1257.64 Q345.208 1254.08 341.574 1254.08 M341.574 1250.37 Q347.384 1250.37 350.439 1254.98 Q353.518 1259.56 353.518 1268.31 Q353.518 1277.04 350.439 1281.65 Q347.384 1286.23 341.574 1286.23 Q335.764 1286.23 332.685 1281.65 Q329.629 1277.04 329.629 1268.31 Q329.629 1259.56 332.685 1254.98 Q335.764 1250.37 341.574 1250.37 Z\" fill=\"#000000\" fill-rule=\"evenodd\" fill-opacity=\"1\" /><path clip-path=\"url(#clip670)\" d=\"M354.064 1254.95 L360.27 1254.95 L360.27 1233.53 L353.518 1234.88 L353.518 1231.42 L360.233 1230.07 L364.032 1230.07 L364.032 1254.95 L370.238 1254.95 L370.238 1258.15 L354.064 1258.15 L354.064 1254.95 Z\" fill=\"#000000\" fill-rule=\"evenodd\" fill-opacity=\"1\" /><path clip-path=\"url(#clip670)\" d=\"M389.422 1243.01 Q392.149 1243.59 393.673 1245.43 Q395.215 1247.28 395.215 1249.99 Q395.215 1254.14 392.356 1256.42 Q389.497 1258.69 384.231 1258.69 Q382.463 1258.69 380.583 1258.34 Q378.721 1258 376.727 1257.3 L376.727 1253.63 Q378.307 1254.56 380.188 1255.03 Q382.068 1255.5 384.118 1255.5 Q387.692 1255.5 389.554 1254.09 Q391.435 1252.68 391.435 1249.99 Q391.435 1247.5 389.685 1246.11 Q387.955 1244.7 384.852 1244.7 L381.579 1244.7 L381.579 1241.58 L385.002 1241.58 Q387.805 1241.58 389.291 1240.47 Q390.776 1239.34 390.776 1237.23 Q390.776 1235.07 389.234 1233.92 Q387.711 1232.76 384.852 1232.76 Q383.291 1232.76 381.504 1233.1 Q379.717 1233.44 377.573 1234.15 L377.573 1230.76 Q379.736 1230.16 381.617 1229.86 Q383.517 1229.56 385.19 1229.56 Q389.516 1229.56 392.036 1231.54 Q394.557 1233.49 394.557 1236.84 Q394.557 1239.17 393.221 1240.79 Q391.886 1242.39 389.422 1243.01 Z\" fill=\"#000000\" fill-rule=\"evenodd\" fill-opacity=\"1\" /><path clip-path=\"url(#clip670)\" d=\"M402.456 1230.07 L417.371 1230.07 L417.371 1233.27 L405.935 1233.27 L405.935 1240.15 Q406.763 1239.87 407.59 1239.74 Q408.418 1239.59 409.246 1239.59 Q413.947 1239.59 416.693 1242.16 Q419.439 1244.74 419.439 1249.14 Q419.439 1253.67 416.618 1256.19 Q413.797 1258.69 408.663 1258.69 Q406.895 1258.69 405.051 1258.39 Q403.227 1258.09 401.271 1257.49 L401.271 1253.67 Q402.964 1254.59 404.769 1255.05 Q406.575 1255.5 408.587 1255.5 Q411.841 1255.5 413.741 1253.79 Q415.64 1252.07 415.64 1249.14 Q415.64 1246.21 413.741 1244.49 Q411.841 1242.78 408.587 1242.78 Q407.064 1242.78 405.54 1243.12 Q404.036 1243.46 402.456 1244.17 L402.456 1230.07 Z\" fill=\"#000000\" fill-rule=\"evenodd\" fill-opacity=\"1\" /><path clip-path=\"url(#clip670)\" d=\"M190.325 1075.1 L206.644 1075.1 L206.644 1079.03 L184.7 1079.03 L184.7 1075.1 Q187.362 1072.34 191.945 1067.71 Q196.551 1063.06 197.732 1061.72 Q199.977 1059.2 200.857 1057.46 Q201.76 1055.7 201.76 1054.01 Q201.76 1051.26 199.815 1049.52 Q197.894 1047.78 194.792 1047.78 Q192.593 1047.78 190.139 1048.55 Q187.709 1049.31 184.931 1050.86 L184.931 1046.14 Q187.755 1045.01 190.209 1044.43 Q192.663 1043.85 194.7 1043.85 Q200.07 1043.85 203.264 1046.53 Q206.459 1049.22 206.459 1053.71 Q206.459 1055.84 205.649 1057.76 Q204.862 1059.66 202.755 1062.25 Q202.176 1062.92 199.075 1066.14 Q195.973 1069.33 190.325 1075.1 Z\" fill=\"#000000\" fill-rule=\"evenodd\" fill-opacity=\"1\" /><path clip-path=\"url(#clip670)\" d=\"M216.459 1073.15 L221.343 1073.15 L221.343 1079.03 L216.459 1079.03 L216.459 1073.15 Z\" fill=\"#000000\" fill-rule=\"evenodd\" fill-opacity=\"1\" /><path clip-path=\"url(#clip670)\" d=\"M241.528 1047.55 Q237.917 1047.55 236.088 1051.12 Q234.283 1054.66 234.283 1061.79 Q234.283 1068.89 236.088 1072.46 Q237.917 1076 241.528 1076 Q245.162 1076 246.968 1072.46 Q248.796 1068.89 248.796 1061.79 Q248.796 1054.66 246.968 1051.12 Q245.162 1047.55 241.528 1047.55 M241.528 1043.85 Q247.338 1043.85 250.394 1048.45 Q253.472 1053.04 253.472 1061.79 Q253.472 1070.51 250.394 1075.12 Q247.338 1079.7 241.528 1079.7 Q235.718 1079.7 232.639 1075.12 Q229.584 1070.51 229.584 1061.79 Q229.584 1053.04 232.639 1048.45 Q235.718 1043.85 241.528 1043.85 Z\" fill=\"#000000\" fill-rule=\"evenodd\" fill-opacity=\"1\" /><path clip-path=\"url(#clip670)\" d=\"M289.861 1053.57 L279.282 1064.2 L289.861 1074.77 L287.106 1077.57 L276.482 1066.95 L265.857 1077.57 L263.125 1074.77 L273.681 1064.2 L263.125 1053.57 L265.857 1050.77 L276.482 1061.39 L287.106 1050.77 L289.861 1053.57 Z\" fill=\"#000000\" fill-rule=\"evenodd\" fill-opacity=\"1\" /><path clip-path=\"url(#clip670)\" d=\"M302.222 1075.1 L309.861 1075.1 L309.861 1048.73 L301.551 1050.4 L301.551 1046.14 L309.815 1044.47 L314.491 1044.47 L314.491 1075.1 L322.129 1075.1 L322.129 1079.03 L302.222 1079.03 L302.222 1075.1 Z\" fill=\"#000000\" fill-rule=\"evenodd\" fill-opacity=\"1\" /><path clip-path=\"url(#clip670)\" d=\"M341.574 1047.55 Q337.963 1047.55 336.134 1051.12 Q334.328 1054.66 334.328 1061.79 Q334.328 1068.89 336.134 1072.46 Q337.963 1076 341.574 1076 Q345.208 1076 347.014 1072.46 Q348.842 1068.89 348.842 1061.79 Q348.842 1054.66 347.014 1051.12 Q345.208 1047.55 341.574 1047.55 M341.574 1043.85 Q347.384 1043.85 350.439 1048.45 Q353.518 1053.04 353.518 1061.79 Q353.518 1070.51 350.439 1075.12 Q347.384 1079.7 341.574 1079.7 Q335.764 1079.7 332.685 1075.12 Q329.629 1070.51 329.629 1061.79 Q329.629 1053.04 332.685 1048.45 Q335.764 1043.85 341.574 1043.85 Z\" fill=\"#000000\" fill-rule=\"evenodd\" fill-opacity=\"1\" /><path clip-path=\"url(#clip670)\" d=\"M354.064 1048.43 L360.27 1048.43 L360.27 1027 L353.518 1028.36 L353.518 1024.9 L360.233 1023.54 L364.032 1023.54 L364.032 1048.43 L370.238 1048.43 L370.238 1051.62 L354.064 1051.62 L354.064 1048.43 Z\" fill=\"#000000\" fill-rule=\"evenodd\" fill-opacity=\"1\" /><path clip-path=\"url(#clip670)\" d=\"M389.422 1036.48 Q392.149 1037.07 393.673 1038.91 Q395.215 1040.75 395.215 1043.46 Q395.215 1047.62 392.356 1049.89 Q389.497 1052.17 384.231 1052.17 Q382.463 1052.17 380.583 1051.81 Q378.721 1051.47 376.727 1050.78 L376.727 1047.11 Q378.307 1048.03 380.188 1048.5 Q382.068 1048.97 384.118 1048.97 Q387.692 1048.97 389.554 1047.56 Q391.435 1046.15 391.435 1043.46 Q391.435 1040.98 389.685 1039.59 Q387.955 1038.18 384.852 1038.18 L381.579 1038.18 L381.579 1035.05 L385.002 1035.05 Q387.805 1035.05 389.291 1033.94 Q390.776 1032.81 390.776 1030.71 Q390.776 1028.55 389.234 1027.4 Q387.711 1026.23 384.852 1026.23 Q383.291 1026.23 381.504 1026.57 Q379.717 1026.91 377.573 1027.62 L377.573 1024.24 Q379.736 1023.64 381.617 1023.34 Q383.517 1023.03 385.19 1023.03 Q389.516 1023.03 392.036 1025.01 Q394.557 1026.97 394.557 1030.31 Q394.557 1032.65 393.221 1034.26 Q391.886 1035.86 389.422 1036.48 Z\" fill=\"#000000\" fill-rule=\"evenodd\" fill-opacity=\"1\" /><path clip-path=\"url(#clip670)\" d=\"M402.456 1023.54 L417.371 1023.54 L417.371 1026.74 L405.935 1026.74 L405.935 1033.62 Q406.763 1033.34 407.59 1033.21 Q408.418 1033.06 409.246 1033.06 Q413.947 1033.06 416.693 1035.64 Q419.439 1038.21 419.439 1042.61 Q419.439 1047.15 416.618 1049.67 Q413.797 1052.17 408.663 1052.17 Q406.895 1052.17 405.051 1051.87 Q403.227 1051.57 401.271 1050.96 L401.271 1047.15 Q402.964 1048.07 404.769 1048.52 Q406.575 1048.97 408.587 1048.97 Q411.841 1048.97 413.741 1047.26 Q415.64 1045.55 415.64 1042.61 Q415.64 1039.68 413.741 1037.97 Q411.841 1036.26 408.587 1036.26 Q407.064 1036.26 405.54 1036.6 Q404.036 1036.93 402.456 1037.65 L402.456 1023.54 Z\" fill=\"#000000\" fill-rule=\"evenodd\" fill-opacity=\"1\" /><path clip-path=\"url(#clip670)\" d=\"M200.463 853.873 Q203.82 854.591 205.695 856.859 Q207.593 859.128 207.593 862.461 Q207.593 867.577 204.074 870.378 Q200.556 873.179 194.075 873.179 Q191.899 873.179 189.584 872.739 Q187.292 872.322 184.838 871.466 L184.838 866.952 Q186.783 868.086 189.098 868.665 Q191.413 869.243 193.936 869.243 Q198.334 869.243 200.625 867.507 Q202.94 865.771 202.94 862.461 Q202.94 859.405 200.787 857.692 Q198.658 855.956 194.838 855.956 L190.811 855.956 L190.811 852.114 L195.024 852.114 Q198.473 852.114 200.301 850.748 Q202.13 849.359 202.13 846.767 Q202.13 844.105 200.232 842.693 Q198.357 841.257 194.838 841.257 Q192.917 841.257 190.718 841.674 Q188.519 842.091 185.88 842.97 L185.88 838.804 Q188.542 838.063 190.857 837.693 Q193.195 837.322 195.255 837.322 Q200.579 837.322 203.681 839.753 Q206.783 842.16 206.783 846.281 Q206.783 849.151 205.139 851.142 Q203.496 853.109 200.463 853.873 Z\" fill=\"#000000\" fill-rule=\"evenodd\" fill-opacity=\"1\" /><path clip-path=\"url(#clip670)\" d=\"M216.459 866.628 L221.343 866.628 L221.343 872.507 L216.459 872.507 L216.459 866.628 Z\" fill=\"#000000\" fill-rule=\"evenodd\" fill-opacity=\"1\" /><path clip-path=\"url(#clip670)\" d=\"M241.528 841.026 Q237.917 841.026 236.088 844.591 Q234.283 848.132 234.283 855.262 Q234.283 862.368 236.088 865.933 Q237.917 869.475 241.528 869.475 Q245.162 869.475 246.968 865.933 Q248.796 862.368 248.796 855.262 Q248.796 848.132 246.968 844.591 Q245.162 841.026 241.528 841.026 M241.528 837.322 Q247.338 837.322 250.394 841.929 Q253.472 846.512 253.472 855.262 Q253.472 863.989 250.394 868.595 Q247.338 873.179 241.528 873.179 Q235.718 873.179 232.639 868.595 Q229.584 863.989 229.584 855.262 Q229.584 846.512 232.639 841.929 Q235.718 837.322 241.528 837.322 Z\" fill=\"#000000\" fill-rule=\"evenodd\" fill-opacity=\"1\" /><path clip-path=\"url(#clip670)\" d=\"M289.861 847.044 L279.282 857.669 L289.861 868.248 L287.106 871.049 L276.482 860.424 L265.857 871.049 L263.125 868.248 L273.681 857.669 L263.125 847.044 L265.857 844.243 L276.482 854.868 L287.106 844.243 L289.861 847.044 Z\" fill=\"#000000\" fill-rule=\"evenodd\" fill-opacity=\"1\" /><path clip-path=\"url(#clip670)\" d=\"M302.222 868.572 L309.861 868.572 L309.861 842.206 L301.551 843.873 L301.551 839.614 L309.815 837.947 L314.491 837.947 L314.491 868.572 L322.129 868.572 L322.129 872.507 L302.222 872.507 L302.222 868.572 Z\" fill=\"#000000\" fill-rule=\"evenodd\" fill-opacity=\"1\" /><path clip-path=\"url(#clip670)\" d=\"M341.574 841.026 Q337.963 841.026 336.134 844.591 Q334.328 848.132 334.328 855.262 Q334.328 862.368 336.134 865.933 Q337.963 869.475 341.574 869.475 Q345.208 869.475 347.014 865.933 Q348.842 862.368 348.842 855.262 Q348.842 848.132 347.014 844.591 Q345.208 841.026 341.574 841.026 M341.574 837.322 Q347.384 837.322 350.439 841.929 Q353.518 846.512 353.518 855.262 Q353.518 863.989 350.439 868.595 Q347.384 873.179 341.574 873.179 Q335.764 873.179 332.685 868.595 Q329.629 863.989 329.629 855.262 Q329.629 846.512 332.685 841.929 Q335.764 837.322 341.574 837.322 Z\" fill=\"#000000\" fill-rule=\"evenodd\" fill-opacity=\"1\" /><path clip-path=\"url(#clip670)\" d=\"M354.064 841.899 L360.27 841.899 L360.27 820.477 L353.518 821.832 L353.518 818.371 L360.233 817.017 L364.032 817.017 L364.032 841.899 L370.238 841.899 L370.238 845.097 L354.064 845.097 L354.064 841.899 Z\" fill=\"#000000\" fill-rule=\"evenodd\" fill-opacity=\"1\" /><path clip-path=\"url(#clip670)\" d=\"M389.422 829.957 Q392.149 830.54 393.673 832.383 Q395.215 834.226 395.215 836.934 Q395.215 841.091 392.356 843.366 Q389.497 845.642 384.231 845.642 Q382.463 845.642 380.583 845.285 Q378.721 844.946 376.727 844.25 L376.727 840.583 Q378.307 841.505 380.188 841.975 Q382.068 842.445 384.118 842.445 Q387.692 842.445 389.554 841.034 Q391.435 839.624 391.435 836.934 Q391.435 834.452 389.685 833.06 Q387.955 831.649 384.852 831.649 L381.579 831.649 L381.579 828.527 L385.002 828.527 Q387.805 828.527 389.291 827.418 Q390.776 826.289 390.776 824.183 Q390.776 822.02 389.234 820.872 Q387.711 819.706 384.852 819.706 Q383.291 819.706 381.504 820.045 Q379.717 820.383 377.573 821.098 L377.573 817.713 Q379.736 817.111 381.617 816.81 Q383.517 816.509 385.19 816.509 Q389.516 816.509 392.036 818.484 Q394.557 820.44 394.557 823.788 Q394.557 826.12 393.221 827.737 Q391.886 829.336 389.422 829.957 Z\" fill=\"#000000\" fill-rule=\"evenodd\" fill-opacity=\"1\" /><path clip-path=\"url(#clip670)\" d=\"M402.456 817.017 L417.371 817.017 L417.371 820.214 L405.935 820.214 L405.935 827.098 Q406.763 826.816 407.59 826.684 Q408.418 826.534 409.246 826.534 Q413.947 826.534 416.693 829.11 Q419.439 831.687 419.439 836.088 Q419.439 840.621 416.618 843.141 Q413.797 845.642 408.663 845.642 Q406.895 845.642 405.051 845.341 Q403.227 845.04 401.271 844.439 L401.271 840.621 Q402.964 841.542 404.769 841.994 Q406.575 842.445 408.587 842.445 Q411.841 842.445 413.741 840.733 Q415.64 839.022 415.64 836.088 Q415.64 833.154 413.741 831.442 Q411.841 829.731 408.587 829.731 Q407.064 829.731 405.54 830.069 Q404.036 830.408 402.456 831.123 L402.456 817.017 Z\" fill=\"#000000\" fill-rule=\"evenodd\" fill-opacity=\"1\" /><path clip-path=\"url(#clip670)\" d=\"M91.3635 1218.13 Q91.9754 1218.13 92.4907 1218.26 L103.956 1220.06 Q104.826 1220.16 105.148 1220.35 Q105.47 1220.51 105.47 1221.03 Q105.47 1221.83 104.632 1221.83 Q104.149 1221.83 103.376 1221.64 Q99.737 1221.09 98.0945 1221.09 Q96.9995 1221.09 96.1944 1221.32 Q95.357 1221.51 94.7773 1221.83 Q94.1976 1222.12 93.8111 1222.8 Q93.4247 1223.47 93.1992 1224.12 Q92.9738 1224.76 92.8772 1225.92 Q92.7483 1227.08 92.7161 1228.08 Q92.6839 1229.08 92.6839 1230.72 Q92.6839 1234.3 92.8128 1234.88 Q92.9738 1235.49 93.4569 1235.81 Q93.9078 1236.1 95.2604 1236.42 L130.268 1245.18 L131.653 1245.44 Q132.426 1245.44 132.684 1244.96 Q132.941 1244.47 133.102 1242.99 Q133.263 1240.87 133.263 1238.77 Q133.263 1238.71 133.263 1238.58 Q133.263 1237.87 133.296 1237.58 Q133.296 1237.29 133.36 1237 Q133.424 1236.71 133.585 1236.65 Q133.714 1236.55 133.972 1236.55 Q134.584 1236.55 134.906 1236.81 Q135.196 1237.07 135.26 1237.32 Q135.292 1237.55 135.292 1238 Q135.292 1238.9 135.228 1240.83 Q135.163 1242.77 135.163 1243.73 L135.099 1249.21 L135.163 1254.81 Q135.163 1255.68 135.228 1257.52 Q135.292 1259.35 135.292 1260.22 Q135.292 1261.35 134.487 1261.35 Q133.585 1261.35 133.424 1260.93 Q133.263 1260.48 133.263 1258.58 Q133.263 1255.91 133.134 1254.46 Q133.006 1253.01 132.555 1252.23 Q132.104 1251.43 131.653 1251.2 Q131.17 1250.98 130.075 1250.72 L94.8739 1241.86 Q94.101 1241.61 93.4891 1241.61 Q93.167 1241.61 93.0382 1241.7 Q92.9094 1241.77 92.8128 1242.19 Q92.6839 1242.61 92.6839 1243.47 L92.6839 1246.05 Q92.6839 1248.69 92.8128 1250.33 Q92.9094 1251.94 93.3925 1253.49 Q93.8755 1255 94.5519 1255.91 Q95.2282 1256.78 96.613 1257.74 Q97.9979 1258.71 99.6726 1259.42 Q101.347 1260.09 104.085 1261.06 Q104.987 1261.38 105.244 1261.57 Q105.47 1261.74 105.47 1262.19 Q105.47 1262.51 105.276 1262.77 Q105.051 1262.99 104.761 1262.99 Q103.698 1262.67 103.57 1262.6 L91.9432 1258.64 Q91.0092 1258.32 90.8482 1258.03 Q90.655 1257.71 90.655 1256.52 L90.655 1219.93 Q90.655 1219.35 90.655 1219.16 Q90.655 1218.97 90.7194 1218.64 Q90.7838 1218.32 90.9448 1218.23 Q91.1058 1218.13 91.3635 1218.13 Z\" fill=\"#000000\" fill-rule=\"evenodd\" fill-opacity=\"1\" /><path clip-path=\"url(#clip670)\" d=\"M136.165 1192.73 Q137.36 1192.73 138.126 1193.52 Q138.893 1194.28 138.893 1195.28 Q138.893 1196.13 138.397 1196.58 Q137.901 1197.03 137.269 1197.03 Q136.368 1197.03 135.624 1196.33 Q134.88 1195.64 134.722 1194.62 Q134.181 1195.37 134.181 1196.56 Q134.181 1198.52 135.691 1200.26 Q136.39 1201.02 137.675 1201.86 Q138.938 1202.69 139.479 1202.85 L145.498 1204.32 Q146.174 1204.45 149.421 1205.28 Q152.645 1206.1 152.78 1206.16 Q153.411 1206.39 153.749 1206.89 Q154.087 1207.38 154.087 1207.88 Q154.087 1208.44 153.749 1208.82 Q153.411 1209.21 152.825 1209.21 Q152.735 1209.21 152.397 1209.14 Q152.058 1209.07 151.585 1208.96 Q151.112 1208.85 150.841 1208.8 L140.178 1206.12 Q138.239 1205.62 137.63 1205.51 Q136.999 1205.37 136.3 1205.37 Q135.083 1205.37 134.632 1205.76 Q134.181 1206.14 134.181 1206.82 Q134.181 1207.99 135.579 1208.76 Q136.976 1209.52 139.682 1210.18 Q140.426 1210.38 140.583 1210.52 Q140.741 1210.63 140.741 1210.97 Q140.719 1211.53 140.268 1211.53 Q140.155 1211.53 139.434 1211.35 Q138.69 1211.17 137.608 1210.83 Q136.503 1210.47 135.804 1210.09 Q135.331 1209.86 135.015 1209.66 Q134.699 1209.46 134.203 1209.05 Q133.707 1208.64 133.437 1208.04 Q133.166 1207.43 133.166 1206.68 Q133.166 1205.06 134.158 1203.91 Q135.15 1202.74 136.706 1202.47 Q135.894 1201.9 135.195 1201.2 Q134.474 1200.51 133.82 1199.22 Q133.166 1197.94 133.166 1196.56 Q133.166 1194.85 134.046 1193.79 Q134.902 1192.73 136.165 1192.73 Z\" fill=\"#000000\" fill-rule=\"evenodd\" fill-opacity=\"1\" /><path clip-path=\"url(#clip670)\" d=\"M153.569 1189.44 Q152.735 1189.44 152.487 1189.37 Q152.239 1189.28 151.855 1188.92 L141.981 1180.06 Q136.526 1175.22 131.769 1175.22 Q128.68 1175.22 126.471 1176.84 Q124.262 1178.44 124.262 1181.39 Q124.262 1183.42 125.501 1185.14 Q126.741 1186.85 128.951 1187.64 Q128.906 1187.5 128.906 1187.03 Q128.906 1185.88 129.627 1185.25 Q130.348 1184.59 131.318 1184.59 Q132.558 1184.59 133.166 1185.41 Q133.753 1186.2 133.753 1186.98 Q133.753 1187.3 133.685 1187.73 Q133.617 1188.13 132.986 1188.79 Q132.332 1189.44 131.183 1189.44 Q127.959 1189.44 125.389 1187.01 Q122.819 1184.55 122.819 1180.81 Q122.819 1176.57 125.344 1173.8 Q127.846 1171 131.769 1171 Q133.144 1171 134.406 1171.43 Q135.646 1171.83 136.616 1172.4 Q137.585 1172.94 139.141 1174.43 Q140.696 1175.92 141.801 1177.11 Q142.905 1178.3 145.25 1180.99 L150.007 1185.88 L150.007 1177.56 Q150.007 1173.5 149.646 1173.19 Q148.992 1172.74 145.543 1172.17 L145.543 1171 L153.569 1172.31 L153.569 1189.44 Z\" fill=\"#000000\" fill-rule=\"evenodd\" fill-opacity=\"1\" /><path clip-path=\"url(#clip670)\" d=\"M151.782 1159.54 L85.8241 1159.54 L85.8241 1149.59 L87.3378 1149.59 L87.3378 1155.12 L150.268 1155.12 L150.268 1149.59 L151.782 1149.59 L151.782 1159.54 Z\" fill=\"#000000\" fill-rule=\"evenodd\" fill-opacity=\"1\" /><path clip-path=\"url(#clip670)\" d=\"M90.977 1091.06 Q91.3957 1091.06 91.6855 1091.16 Q91.9432 1091.25 92.072 1091.48 Q92.2008 1091.7 92.233 1091.83 Q92.2653 1091.96 92.2975 1092.25 Q92.4263 1093.64 92.6517 1094.6 Q92.8772 1095.54 94.0366 1097.86 Q95.196 1100.14 97.2894 1103.01 L106.21 1114.54 L107.724 1116.47 Q107.821 1116.47 108.014 1116.41 Q108.175 1116.34 108.4 1116.28 Q108.594 1116.18 108.658 1116.15 L130.268 1106.78 Q132.007 1106.04 132.619 1105.13 Q133.231 1104.23 133.263 1102.2 Q133.263 1101.88 133.296 1101.75 Q133.296 1101.59 133.36 1101.37 Q133.392 1101.11 133.553 1101.01 Q133.714 1100.88 133.972 1100.88 Q135.292 1100.88 135.292 1102.07 Q135.292 1102.81 135.196 1105.33 Q135.099 1107.84 135.099 1108.55 Q135.099 1109.87 135.196 1112.57 Q135.292 1115.28 135.292 1116.6 Q135.292 1117.53 134.552 1117.53 Q133.94 1117.53 133.65 1117.31 Q133.328 1117.05 133.296 1116.82 Q133.263 1116.6 133.263 1116.08 Q133.263 1115.7 133.231 1115.28 Q133.167 1114.83 133.006 1114.18 Q132.812 1113.51 132.362 1113.09 Q131.878 1112.64 131.202 1112.64 Q130.655 1112.64 128.883 1113.44 L111.138 1121.08 L118.803 1130.9 L129.173 1133.54 Q129.56 1133.6 130.236 1133.76 Q130.912 1133.93 131.395 1134.05 Q131.878 1134.15 132.072 1134.15 Q132.49 1134.15 132.748 1133.89 Q133.006 1133.6 133.134 1132.9 Q133.231 1132.19 133.263 1131.64 Q133.263 1131.06 133.263 1129.87 Q133.263 1128.39 133.521 1128.13 Q133.682 1128 133.972 1128 Q134.423 1128 134.745 1128.13 Q135.035 1128.26 135.131 1128.52 Q135.228 1128.74 135.26 1128.9 Q135.292 1129.06 135.292 1129.32 Q135.292 1130 135.228 1131.45 Q135.163 1132.86 135.163 1133.6 L135.099 1137.82 L135.292 1146.2 Q135.292 1147.19 134.487 1147.19 Q133.875 1147.19 133.618 1146.94 Q133.328 1146.68 133.296 1146.39 Q133.263 1146.1 133.263 1145.36 Q133.263 1143.75 133.167 1142.78 Q133.07 1141.82 132.941 1141.2 Q132.78 1140.56 132.329 1140.24 Q131.878 1139.88 131.492 1139.72 Q131.073 1139.56 130.139 1139.34 L94.7129 1130.51 Q93.6501 1130.25 93.4891 1130.25 Q92.9416 1130.25 92.7483 1130.58 Q92.5229 1130.87 92.4263 1131.7 Q92.2975 1133.31 92.2975 1134.54 Q92.2975 1135.34 92.2653 1135.66 Q92.233 1135.95 92.072 1136.21 Q91.8788 1136.44 91.4923 1136.44 Q90.2363 1136.44 90.2363 1135.12 L90.4295 1126.61 L90.2363 1118.18 Q90.2363 1117.24 90.977 1117.24 Q91.911 1117.24 92.1042 1117.69 Q92.2975 1118.11 92.2975 1119.5 Q92.2975 1121.91 92.6195 1123.01 Q92.9094 1124.07 93.4247 1124.39 Q93.9078 1124.68 95.3248 1125.04 L116.484 1130.32 L96.7097 1104.59 Q94.7129 1102.2 93.6823 1102.2 Q93.006 1102.2 92.7161 1102.69 Q92.3941 1103.14 92.2975 1104.26 Q92.1686 1105.07 91.5567 1105.07 Q90.9448 1105.07 90.655 1104.84 Q90.3329 1104.59 90.3007 1104.39 Q90.2363 1104.17 90.2363 1103.81 Q90.2363 1102.62 90.3329 1100.14 Q90.4295 1097.66 90.4295 1096.47 Q90.4295 1095.67 90.3329 1094.09 Q90.2363 1092.51 90.2363 1091.8 Q90.2363 1091.45 90.4939 1091.25 Q90.7194 1091.06 90.977 1091.06 Z\" fill=\"#000000\" fill-rule=\"evenodd\" fill-opacity=\"1\" /><path clip-path=\"url(#clip670)\" d=\"M150.268 1088.85 L150.268 1083.31 L87.3378 1083.31 L87.3378 1088.85 L85.8241 1088.85 L85.8241 1078.9 L151.782 1078.9 L151.782 1088.85 L150.268 1088.85 Z\" fill=\"#000000\" fill-rule=\"evenodd\" fill-opacity=\"1\" /><polyline clip-path=\"url(#clip674)\" style=\"stroke:#000000; stroke-linecap:round; stroke-linejoin:round; stroke-width:4; stroke-opacity:1; fill:none\" stroke-dasharray=\"2, 4\" points=\"509.137,1468.36 555.032,1468.36 600.928,1468.36 646.823,1468.36 692.719,1468.36 738.614,1468.36 784.51,1468.36 830.405,1468.36 876.3,1468.36 922.196,1468.36 968.091,1468.36 1013.99,1468.36 1059.88,1468.36 1105.78,1468.36 1151.67,1468.36 1197.57,1468.36 1243.46,1468.36 1289.36,1468.36 1335.25,1468.36 1381.15,1468.36 1427.05,1468.36 1472.94,1468.36 1518.84,1468.36 1564.73,1468.36 1610.63,1468.36 1656.52,1468.36 1702.42,1468.36 1748.31,1468.36 1794.21,1468.36 1840.1,1468.36 1886,1468.36 1931.89,1468.36 1977.79,1468.36 2023.69,1468.36 2069.58,1468.36 2115.48,1468.36 2161.37,1468.36 2207.27,1468.36 2253.16,1468.36 2299.06,1468.36 \"/>\n",
       "<polyline clip-path=\"url(#clip674)\" style=\"stroke:#ff0000; stroke-linecap:round; stroke-linejoin:round; stroke-width:12; stroke-opacity:0.3; fill:none\" points=\"509.137,1468.36 555.032,1468.36 600.928,1468.36 646.823,1468.36 692.719,1468.36 738.614,1468.36 784.51,1468.36 830.405,1468.36 876.3,1468.36 922.196,1468.36 968.091,1468.36 1013.99,1468.36 1059.88,1468.36 1105.78,1468.36 1151.67,1468.36 1197.57,1468.36 1243.46,1468.36 1289.36,1468.36 1335.25,1468.36 1381.15,1468.36 1427.05,1468.36 1472.94,1468.36 1518.84,1468.36 1564.73,1468.36 1610.63,1468.36 1656.52,1468.36 1702.42,1468.36 1748.31,1468.36 1794.21,1468.36 1840.1,1468.36 1886,1468.36 1931.89,1468.36 1977.79,1468.36 2023.69,1468.36 2069.58,1468.36 2115.48,1468.36 2161.37,1468.36 2207.27,1468.36 2253.16,1468.36 2299.06,1468.36 \"/>\n",
       "<polyline clip-path=\"url(#clip674)\" style=\"stroke:#0000ff; stroke-linecap:round; stroke-linejoin:round; stroke-width:12; stroke-opacity:0.3; fill:none\" points=\"509.137,1468.36 555.032,1468.36 600.928,1468.36 646.823,1468.36 692.719,1468.36 738.614,1468.36 784.51,1468.36 830.405,1468.36 876.3,1468.36 922.196,1468.36 968.091,1468.36 1013.99,1468.36 1059.88,1468.36 1105.78,1468.36 1151.67,1468.36 1197.57,865.335 1243.46,1468.36 1289.36,1468.36 1335.25,1468.36 1381.15,1468.36 1427.05,1468.36 1472.94,1468.36 1518.84,1468.36 1564.73,1468.36 1610.63,1468.36 1656.52,1468.36 1702.42,1468.36 1748.31,1468.36 1794.21,1468.36 1840.1,1468.36 1886,1468.36 1931.89,1468.36 1977.79,1468.36 2023.69,1468.36 2069.58,1468.36 2115.48,1468.36 2161.37,1468.36 2207.27,1468.36 2253.16,1468.36 2299.06,1468.36 \"/>\n",
       "</svg>\n"
      ]
     },
     "metadata": {},
     "output_type": "display_data"
    }
   ],
   "source": [
    "p5 = plot(layout = (num_subplots, 1),fmt = :svg, resolution = (600, 400), latex=true,gridlinewidth=2,legend=:topleft) \n",
    "\n",
    "# Loop to generate subplots \n",
    "for mm in 1:num_subplots \n",
    "    # limits\n",
    "    plot!(subplot=mm,ts,Tr_max*ones(length(ts)),linestyle = :dot,linecolor = :black,label=\"\")\n",
    "    \n",
    "    for nn in 1:n_MC\n",
    "        plot!(subplot=mm,ts,TrPlant[2,:,nn,mm],linewidth=3,linealpha = 0.3,linecolor = CList[nn],legend=false)\n",
    "    end\n",
    "    \n",
    "    # Add labels, titles, or other customizations to each subplot \n",
    "    ylabel!(L\"T_{r2} [K]\") \n",
    "end \n",
    "\n",
    "# Display the subplots \n",
    "display(p5)"
   ]
  },
  {
   "cell_type": "code",
   "execution_count": 25,
   "id": "e849c224",
   "metadata": {},
   "outputs": [
    {
     "data": {
      "image/svg+xml": [
       "<?xml version=\"1.0\" encoding=\"utf-8\"?>\n",
       "<svg xmlns=\"http://www.w3.org/2000/svg\" xmlns:xlink=\"http://www.w3.org/1999/xlink\" width=\"600\" height=\"400\" viewBox=\"0 0 2400 1600\">\n",
       "<defs>\n",
       "  <clipPath id=\"clip710\">\n",
       "    <rect x=\"0\" y=\"0\" width=\"2400\" height=\"1600\"/>\n",
       "  </clipPath>\n",
       "</defs>\n",
       "<path clip-path=\"url(#clip710)\" d=\"M0 1600 L2400 1600 L2400 0 L0 0  Z\" fill=\"#ffffff\" fill-rule=\"evenodd\" fill-opacity=\"1\"/>\n",
       "<defs>\n",
       "  <clipPath id=\"clip711\">\n",
       "    <rect x=\"480\" y=\"0\" width=\"1681\" height=\"1600\"/>\n",
       "  </clipPath>\n",
       "</defs>\n",
       "<defs>\n",
       "  <clipPath id=\"clip712\">\n",
       "    <rect x=\"455\" y=\"847\" width=\"1898\" height=\"640\"/>\n",
       "  </clipPath>\n",
       "</defs>\n",
       "<path clip-path=\"url(#clip710)\" d=\"M434.786 686.448 L2352.76 686.448 L2352.76 47.2441 L434.786 47.2441  Z\" fill=\"#ffffff\" fill-rule=\"evenodd\" fill-opacity=\"1\"/>\n",
       "<defs>\n",
       "  <clipPath id=\"clip713\">\n",
       "    <rect x=\"434\" y=\"47\" width=\"1919\" height=\"640\"/>\n",
       "  </clipPath>\n",
       "</defs>\n",
       "<polyline clip-path=\"url(#clip713)\" style=\"stroke:#000000; stroke-linecap:round; stroke-linejoin:round; stroke-width:8; stroke-opacity:0.1; fill:none\" points=\"442.673,686.448 442.673,47.2441 \"/>\n",
       "<polyline clip-path=\"url(#clip713)\" style=\"stroke:#000000; stroke-linecap:round; stroke-linejoin:round; stroke-width:8; stroke-opacity:0.1; fill:none\" points=\"906.623,686.448 906.623,47.2441 \"/>\n",
       "<polyline clip-path=\"url(#clip713)\" style=\"stroke:#000000; stroke-linecap:round; stroke-linejoin:round; stroke-width:8; stroke-opacity:0.1; fill:none\" points=\"1370.57,686.448 1370.57,47.2441 \"/>\n",
       "<polyline clip-path=\"url(#clip713)\" style=\"stroke:#000000; stroke-linecap:round; stroke-linejoin:round; stroke-width:8; stroke-opacity:0.1; fill:none\" points=\"1834.52,686.448 1834.52,47.2441 \"/>\n",
       "<polyline clip-path=\"url(#clip713)\" style=\"stroke:#000000; stroke-linecap:round; stroke-linejoin:round; stroke-width:8; stroke-opacity:0.1; fill:none\" points=\"2298.47,686.448 2298.47,47.2441 \"/>\n",
       "<polyline clip-path=\"url(#clip710)\" style=\"stroke:#000000; stroke-linecap:round; stroke-linejoin:round; stroke-width:4; stroke-opacity:1; fill:none\" points=\"434.786,686.448 2352.76,686.448 \"/>\n",
       "<polyline clip-path=\"url(#clip710)\" style=\"stroke:#000000; stroke-linecap:round; stroke-linejoin:round; stroke-width:4; stroke-opacity:1; fill:none\" points=\"442.673,686.448 442.673,667.55 \"/>\n",
       "<polyline clip-path=\"url(#clip710)\" style=\"stroke:#000000; stroke-linecap:round; stroke-linejoin:round; stroke-width:4; stroke-opacity:1; fill:none\" points=\"906.623,686.448 906.623,667.55 \"/>\n",
       "<polyline clip-path=\"url(#clip710)\" style=\"stroke:#000000; stroke-linecap:round; stroke-linejoin:round; stroke-width:4; stroke-opacity:1; fill:none\" points=\"1370.57,686.448 1370.57,667.55 \"/>\n",
       "<polyline clip-path=\"url(#clip710)\" style=\"stroke:#000000; stroke-linecap:round; stroke-linejoin:round; stroke-width:4; stroke-opacity:1; fill:none\" points=\"1834.52,686.448 1834.52,667.55 \"/>\n",
       "<polyline clip-path=\"url(#clip710)\" style=\"stroke:#000000; stroke-linecap:round; stroke-linejoin:round; stroke-width:4; stroke-opacity:1; fill:none\" points=\"2298.47,686.448 2298.47,667.55 \"/>\n",
       "<path clip-path=\"url(#clip710)\" d=\"M442.673 717.367 Q439.062 717.367 437.233 720.931 Q435.428 724.473 435.428 731.603 Q435.428 738.709 437.233 742.274 Q439.062 745.815 442.673 745.815 Q446.307 745.815 448.113 742.274 Q449.941 738.709 449.941 731.603 Q449.941 724.473 448.113 720.931 Q446.307 717.367 442.673 717.367 M442.673 713.663 Q448.483 713.663 451.539 718.269 Q454.617 722.853 454.617 731.603 Q454.617 740.329 451.539 744.936 Q448.483 749.519 442.673 749.519 Q436.863 749.519 433.784 744.936 Q430.729 740.329 430.729 731.603 Q430.729 722.853 433.784 718.269 Q436.863 713.663 442.673 713.663 Z\" fill=\"#000000\" fill-rule=\"evenodd\" fill-opacity=\"1\" /><path clip-path=\"url(#clip710)\" d=\"M881.311 744.913 L888.95 744.913 L888.95 718.547 L880.639 720.214 L880.639 715.955 L888.903 714.288 L893.579 714.288 L893.579 744.913 L901.218 744.913 L901.218 748.848 L881.311 748.848 L881.311 744.913 Z\" fill=\"#000000\" fill-rule=\"evenodd\" fill-opacity=\"1\" /><path clip-path=\"url(#clip710)\" d=\"M920.662 717.367 Q917.051 717.367 915.223 720.931 Q913.417 724.473 913.417 731.603 Q913.417 738.709 915.223 742.274 Q917.051 745.815 920.662 745.815 Q924.297 745.815 926.102 742.274 Q927.931 738.709 927.931 731.603 Q927.931 724.473 926.102 720.931 Q924.297 717.367 920.662 717.367 M920.662 713.663 Q926.473 713.663 929.528 718.269 Q932.607 722.853 932.607 731.603 Q932.607 740.329 929.528 744.936 Q926.473 749.519 920.662 749.519 Q914.852 749.519 911.774 744.936 Q908.718 740.329 908.718 731.603 Q908.718 722.853 911.774 718.269 Q914.852 713.663 920.662 713.663 Z\" fill=\"#000000\" fill-rule=\"evenodd\" fill-opacity=\"1\" /><path clip-path=\"url(#clip710)\" d=\"M1349.35 744.913 L1365.67 744.913 L1365.67 748.848 L1343.72 748.848 L1343.72 744.913 Q1346.38 742.158 1350.97 737.528 Q1355.57 732.876 1356.75 731.533 Q1359 729.01 1359.88 727.274 Q1360.78 725.515 1360.78 723.825 Q1360.78 721.07 1358.84 719.334 Q1356.92 717.598 1353.81 717.598 Q1351.62 717.598 1349.16 718.362 Q1346.73 719.126 1343.95 720.677 L1343.95 715.955 Q1346.78 714.82 1349.23 714.242 Q1351.68 713.663 1353.72 713.663 Q1359.09 713.663 1362.29 716.348 Q1365.48 719.033 1365.48 723.524 Q1365.48 725.654 1364.67 727.575 Q1363.88 729.473 1361.78 732.066 Q1361.2 732.737 1358.1 735.954 Q1354.99 739.149 1349.35 744.913 Z\" fill=\"#000000\" fill-rule=\"evenodd\" fill-opacity=\"1\" /><path clip-path=\"url(#clip710)\" d=\"M1385.48 717.367 Q1381.87 717.367 1380.04 720.931 Q1378.24 724.473 1378.24 731.603 Q1378.24 738.709 1380.04 742.274 Q1381.87 745.815 1385.48 745.815 Q1389.11 745.815 1390.92 742.274 Q1392.75 738.709 1392.75 731.603 Q1392.75 724.473 1390.92 720.931 Q1389.11 717.367 1385.48 717.367 M1385.48 713.663 Q1391.29 713.663 1394.35 718.269 Q1397.43 722.853 1397.43 731.603 Q1397.43 740.329 1394.35 744.936 Q1391.29 749.519 1385.48 749.519 Q1379.67 749.519 1376.59 744.936 Q1373.54 740.329 1373.54 731.603 Q1373.54 722.853 1376.59 718.269 Q1379.67 713.663 1385.48 713.663 Z\" fill=\"#000000\" fill-rule=\"evenodd\" fill-opacity=\"1\" /><path clip-path=\"url(#clip710)\" d=\"M1823.37 730.214 Q1826.72 730.931 1828.6 733.2 Q1830.5 735.468 1830.5 738.802 Q1830.5 743.917 1826.98 746.718 Q1823.46 749.519 1816.98 749.519 Q1814.8 749.519 1812.49 749.079 Q1810.19 748.663 1807.74 747.806 L1807.74 743.292 Q1809.69 744.427 1812 745.005 Q1814.32 745.584 1816.84 745.584 Q1821.24 745.584 1823.53 743.848 Q1825.84 742.112 1825.84 738.802 Q1825.84 735.746 1823.69 734.033 Q1821.56 732.297 1817.74 732.297 L1813.71 732.297 L1813.71 728.454 L1817.93 728.454 Q1821.38 728.454 1823.2 727.089 Q1825.03 725.7 1825.03 723.107 Q1825.03 720.445 1823.13 719.033 Q1821.26 717.598 1817.74 717.598 Q1815.82 717.598 1813.62 718.015 Q1811.42 718.431 1808.78 719.311 L1808.78 715.144 Q1811.44 714.404 1813.76 714.033 Q1816.1 713.663 1818.16 713.663 Q1823.48 713.663 1826.58 716.093 Q1829.69 718.501 1829.69 722.621 Q1829.69 725.492 1828.04 727.482 Q1826.4 729.45 1823.37 730.214 Z\" fill=\"#000000\" fill-rule=\"evenodd\" fill-opacity=\"1\" /><path clip-path=\"url(#clip710)\" d=\"M1849.36 717.367 Q1845.75 717.367 1843.92 720.931 Q1842.12 724.473 1842.12 731.603 Q1842.12 738.709 1843.92 742.274 Q1845.75 745.815 1849.36 745.815 Q1853 745.815 1854.8 742.274 Q1856.63 738.709 1856.63 731.603 Q1856.63 724.473 1854.8 720.931 Q1853 717.367 1849.36 717.367 M1849.36 713.663 Q1855.17 713.663 1858.23 718.269 Q1861.31 722.853 1861.31 731.603 Q1861.31 740.329 1858.23 744.936 Q1855.17 749.519 1849.36 749.519 Q1843.55 749.519 1840.47 744.936 Q1837.42 740.329 1837.42 731.603 Q1837.42 722.853 1840.47 718.269 Q1843.55 713.663 1849.36 713.663 Z\" fill=\"#000000\" fill-rule=\"evenodd\" fill-opacity=\"1\" /><path clip-path=\"url(#clip710)\" d=\"M2286.65 718.362 L2274.84 736.811 L2286.65 736.811 L2286.65 718.362 M2285.42 714.288 L2291.3 714.288 L2291.3 736.811 L2296.23 736.811 L2296.23 740.7 L2291.3 740.7 L2291.3 748.848 L2286.65 748.848 L2286.65 740.7 L2271.04 740.7 L2271.04 736.186 L2285.42 714.288 Z\" fill=\"#000000\" fill-rule=\"evenodd\" fill-opacity=\"1\" /><path clip-path=\"url(#clip710)\" d=\"M2313.96 717.367 Q2310.35 717.367 2308.52 720.931 Q2306.71 724.473 2306.71 731.603 Q2306.71 738.709 2308.52 742.274 Q2310.35 745.815 2313.96 745.815 Q2317.59 745.815 2319.4 742.274 Q2321.23 738.709 2321.23 731.603 Q2321.23 724.473 2319.4 720.931 Q2317.59 717.367 2313.96 717.367 M2313.96 713.663 Q2319.77 713.663 2322.83 718.269 Q2325.9 722.853 2325.9 731.603 Q2325.9 740.329 2322.83 744.936 Q2319.77 749.519 2313.96 749.519 Q2308.15 749.519 2305.07 744.936 Q2302.02 740.329 2302.02 731.603 Q2302.02 722.853 2305.07 718.269 Q2308.15 713.663 2313.96 713.663 Z\" fill=\"#000000\" fill-rule=\"evenodd\" fill-opacity=\"1\" /><polyline clip-path=\"url(#clip713)\" style=\"stroke:#000000; stroke-linecap:round; stroke-linejoin:round; stroke-width:8; stroke-opacity:0.1; fill:none\" points=\"434.786,574.909 2352.76,574.909 \"/>\n",
       "<polyline clip-path=\"url(#clip713)\" style=\"stroke:#000000; stroke-linecap:round; stroke-linejoin:round; stroke-width:8; stroke-opacity:0.1; fill:none\" points=\"434.786,405.051 2352.76,405.051 \"/>\n",
       "<polyline clip-path=\"url(#clip713)\" style=\"stroke:#000000; stroke-linecap:round; stroke-linejoin:round; stroke-width:8; stroke-opacity:0.1; fill:none\" points=\"434.786,235.193 2352.76,235.193 \"/>\n",
       "<polyline clip-path=\"url(#clip713)\" style=\"stroke:#000000; stroke-linecap:round; stroke-linejoin:round; stroke-width:8; stroke-opacity:0.1; fill:none\" points=\"434.786,65.3348 2352.76,65.3348 \"/>\n",
       "<polyline clip-path=\"url(#clip710)\" style=\"stroke:#000000; stroke-linecap:round; stroke-linejoin:round; stroke-width:4; stroke-opacity:1; fill:none\" points=\"434.786,686.448 434.786,47.2441 \"/>\n",
       "<polyline clip-path=\"url(#clip710)\" style=\"stroke:#000000; stroke-linecap:round; stroke-linejoin:round; stroke-width:4; stroke-opacity:1; fill:none\" points=\"434.786,574.909 453.683,574.909 \"/>\n",
       "<polyline clip-path=\"url(#clip710)\" style=\"stroke:#000000; stroke-linecap:round; stroke-linejoin:round; stroke-width:4; stroke-opacity:1; fill:none\" points=\"434.786,405.051 453.683,405.051 \"/>\n",
       "<polyline clip-path=\"url(#clip710)\" style=\"stroke:#000000; stroke-linecap:round; stroke-linejoin:round; stroke-width:4; stroke-opacity:1; fill:none\" points=\"434.786,235.193 453.683,235.193 \"/>\n",
       "<polyline clip-path=\"url(#clip710)\" style=\"stroke:#000000; stroke-linecap:round; stroke-linejoin:round; stroke-width:4; stroke-opacity:1; fill:none\" points=\"434.786,65.3348 453.683,65.3348 \"/>\n",
       "<path clip-path=\"url(#clip710)\" d=\"M124.464 581.808 L154.14 581.808 L154.14 585.743 L124.464 585.743 L124.464 581.808 Z\" fill=\"#000000\" fill-rule=\"evenodd\" fill-opacity=\"1\" /><path clip-path=\"url(#clip710)\" d=\"M174.811 579.493 Q171.663 579.493 169.811 581.646 Q167.983 583.799 167.983 587.549 Q167.983 591.276 169.811 593.452 Q171.663 595.605 174.811 595.605 Q177.959 595.605 179.788 593.452 Q181.64 591.276 181.64 587.549 Q181.64 583.799 179.788 581.646 Q177.959 579.493 174.811 579.493 M184.094 564.841 L184.094 569.1 Q182.334 568.267 180.529 567.827 Q178.746 567.387 176.987 567.387 Q172.358 567.387 169.904 570.512 Q167.473 573.637 167.126 579.956 Q168.492 577.943 170.552 576.878 Q172.612 575.79 175.089 575.79 Q180.297 575.79 183.307 578.961 Q186.339 582.109 186.339 587.549 Q186.339 592.873 183.191 596.091 Q180.043 599.308 174.811 599.308 Q168.816 599.308 165.645 594.725 Q162.473 590.118 162.473 581.392 Q162.473 573.197 166.362 568.336 Q170.251 563.452 176.802 563.452 Q178.561 563.452 180.344 563.799 Q182.149 564.146 184.094 564.841 Z\" fill=\"#000000\" fill-rule=\"evenodd\" fill-opacity=\"1\" /><path clip-path=\"url(#clip710)\" d=\"M194.395 592.757 L199.279 592.757 L199.279 598.637 L194.395 598.637 L194.395 592.757 Z\" fill=\"#000000\" fill-rule=\"evenodd\" fill-opacity=\"1\" /><path clip-path=\"url(#clip710)\" d=\"M219.464 567.156 Q215.853 567.156 214.024 570.72 Q212.218 574.262 212.218 581.392 Q212.218 588.498 214.024 592.063 Q215.853 595.605 219.464 595.605 Q223.098 595.605 224.904 592.063 Q226.732 588.498 226.732 581.392 Q226.732 574.262 224.904 570.72 Q223.098 567.156 219.464 567.156 M219.464 563.452 Q225.274 563.452 228.33 568.058 Q231.408 572.642 231.408 581.392 Q231.408 590.118 228.33 594.725 Q225.274 599.308 219.464 599.308 Q213.654 599.308 210.575 594.725 Q207.519 590.118 207.519 581.392 Q207.519 572.642 210.575 568.058 Q213.654 563.452 219.464 563.452 Z\" fill=\"#000000\" fill-rule=\"evenodd\" fill-opacity=\"1\" /><path clip-path=\"url(#clip710)\" d=\"M267.797 573.174 L257.218 583.799 L267.797 594.378 L265.042 597.179 L254.417 586.554 L243.792 597.179 L241.061 594.378 L251.616 583.799 L241.061 573.174 L243.792 570.373 L254.417 580.998 L265.042 570.373 L267.797 573.174 Z\" fill=\"#000000\" fill-rule=\"evenodd\" fill-opacity=\"1\" /><path clip-path=\"url(#clip710)\" d=\"M280.158 594.702 L287.797 594.702 L287.797 568.336 L279.487 570.003 L279.487 565.744 L287.75 564.077 L292.426 564.077 L292.426 594.702 L300.065 594.702 L300.065 598.637 L280.158 598.637 L280.158 594.702 Z\" fill=\"#000000\" fill-rule=\"evenodd\" fill-opacity=\"1\" /><path clip-path=\"url(#clip710)\" d=\"M319.51 567.156 Q315.898 567.156 314.07 570.72 Q312.264 574.262 312.264 581.392 Q312.264 588.498 314.07 592.063 Q315.898 595.605 319.51 595.605 Q323.144 595.605 324.949 592.063 Q326.778 588.498 326.778 581.392 Q326.778 574.262 324.949 570.72 Q323.144 567.156 319.51 567.156 M319.51 563.452 Q325.32 563.452 328.375 568.058 Q331.454 572.642 331.454 581.392 Q331.454 590.118 328.375 594.725 Q325.32 599.308 319.51 599.308 Q313.699 599.308 310.621 594.725 Q307.565 590.118 307.565 581.392 Q307.565 572.642 310.621 568.058 Q313.699 563.452 319.51 563.452 Z\" fill=\"#000000\" fill-rule=\"evenodd\" fill-opacity=\"1\" /><path clip-path=\"url(#clip710)\" d=\"M336.024 568.029 L349.284 568.029 L349.284 571.226 L331.454 571.226 L331.454 568.029 Q333.617 565.791 337.341 562.029 Q341.084 558.249 342.043 557.158 Q343.867 555.108 344.582 553.698 Q345.315 552.268 345.315 550.895 Q345.315 548.657 343.735 547.247 Q342.174 545.836 339.654 545.836 Q337.867 545.836 335.874 546.457 Q333.899 547.077 331.642 548.337 L331.642 544.501 Q333.937 543.579 335.93 543.109 Q337.924 542.639 339.579 542.639 Q343.942 542.639 346.538 544.82 Q349.133 547.002 349.133 550.651 Q349.133 552.381 348.475 553.942 Q347.836 555.484 346.124 557.591 Q345.654 558.136 343.134 560.751 Q340.613 563.346 336.024 568.029 Z\" fill=\"#000000\" fill-rule=\"evenodd\" fill-opacity=\"1\" /><path clip-path=\"url(#clip710)\" d=\"M357.371 570.643 L357.371 567.183 Q358.8 567.86 360.267 568.217 Q361.734 568.575 363.145 568.575 Q366.907 568.575 368.881 566.054 Q370.875 563.515 371.157 558.362 Q370.066 559.979 368.392 560.845 Q366.719 561.71 364.687 561.71 Q360.474 561.71 358.011 559.171 Q355.566 556.613 355.566 552.193 Q355.566 547.867 358.123 545.253 Q360.681 542.639 364.932 542.639 Q369.803 542.639 372.361 546.381 Q374.938 550.105 374.938 557.215 Q374.938 563.854 371.778 567.822 Q368.637 571.772 363.314 571.772 Q361.885 571.772 360.418 571.49 Q358.951 571.208 357.371 570.643 M364.932 558.738 Q367.49 558.738 368.975 556.989 Q370.48 555.24 370.48 552.193 Q370.48 549.165 368.975 547.416 Q367.49 545.648 364.932 545.648 Q362.374 545.648 360.869 547.416 Q359.383 549.165 359.383 552.193 Q359.383 555.24 360.869 556.989 Q362.374 558.738 364.932 558.738 Z\" fill=\"#000000\" fill-rule=\"evenodd\" fill-opacity=\"1\" /><path clip-path=\"url(#clip710)\" d=\"M381.802 543.146 L396.717 543.146 L396.717 546.344 L385.282 546.344 L385.282 553.227 Q386.109 552.945 386.937 552.814 Q387.764 552.663 388.592 552.663 Q393.294 552.663 396.04 555.24 Q398.786 557.817 398.786 562.218 Q398.786 566.75 395.965 569.27 Q393.143 571.772 388.009 571.772 Q386.241 571.772 384.398 571.471 Q382.573 571.17 380.617 570.568 L380.617 566.75 Q382.31 567.672 384.116 568.123 Q385.921 568.575 387.934 568.575 Q391.187 568.575 393.087 566.863 Q394.987 565.152 394.987 562.218 Q394.987 559.284 393.087 557.572 Q391.187 555.861 387.934 555.861 Q386.41 555.861 384.887 556.199 Q383.382 556.538 381.802 557.252 L381.802 543.146 Z\" fill=\"#000000\" fill-rule=\"evenodd\" fill-opacity=\"1\" /><path clip-path=\"url(#clip710)\" d=\"M124.464 411.95 L154.14 411.95 L154.14 415.885 L124.464 415.885 L124.464 411.95 Z\" fill=\"#000000\" fill-rule=\"evenodd\" fill-opacity=\"1\" /><path clip-path=\"url(#clip710)\" d=\"M177.08 398.293 L165.274 416.742 L177.08 416.742 L177.08 398.293 M175.853 394.219 L181.733 394.219 L181.733 416.742 L186.663 416.742 L186.663 420.631 L181.733 420.631 L181.733 428.779 L177.08 428.779 L177.08 420.631 L161.478 420.631 L161.478 416.117 L175.853 394.219 Z\" fill=\"#000000\" fill-rule=\"evenodd\" fill-opacity=\"1\" /><path clip-path=\"url(#clip710)\" d=\"M194.395 422.899 L199.279 422.899 L199.279 428.779 L194.395 428.779 L194.395 422.899 Z\" fill=\"#000000\" fill-rule=\"evenodd\" fill-opacity=\"1\" /><path clip-path=\"url(#clip710)\" d=\"M219.464 397.297 Q215.853 397.297 214.024 400.862 Q212.218 404.404 212.218 411.533 Q212.218 418.64 214.024 422.205 Q215.853 425.746 219.464 425.746 Q223.098 425.746 224.904 422.205 Q226.732 418.64 226.732 411.533 Q226.732 404.404 224.904 400.862 Q223.098 397.297 219.464 397.297 M219.464 393.594 Q225.274 393.594 228.33 398.2 Q231.408 402.783 231.408 411.533 Q231.408 420.26 228.33 424.867 Q225.274 429.45 219.464 429.45 Q213.654 429.45 210.575 424.867 Q207.519 420.26 207.519 411.533 Q207.519 402.783 210.575 398.2 Q213.654 393.594 219.464 393.594 Z\" fill=\"#000000\" fill-rule=\"evenodd\" fill-opacity=\"1\" /><path clip-path=\"url(#clip710)\" d=\"M267.797 403.316 L257.218 413.941 L267.797 424.519 L265.042 427.32 L254.417 416.695 L243.792 427.32 L241.061 424.519 L251.616 413.941 L241.061 403.316 L243.792 400.515 L254.417 411.14 L265.042 400.515 L267.797 403.316 Z\" fill=\"#000000\" fill-rule=\"evenodd\" fill-opacity=\"1\" /><path clip-path=\"url(#clip710)\" d=\"M280.158 424.844 L287.797 424.844 L287.797 398.478 L279.487 400.145 L279.487 395.885 L287.75 394.219 L292.426 394.219 L292.426 424.844 L300.065 424.844 L300.065 428.779 L280.158 428.779 L280.158 424.844 Z\" fill=\"#000000\" fill-rule=\"evenodd\" fill-opacity=\"1\" /><path clip-path=\"url(#clip710)\" d=\"M319.51 397.297 Q315.898 397.297 314.07 400.862 Q312.264 404.404 312.264 411.533 Q312.264 418.64 314.07 422.205 Q315.898 425.746 319.51 425.746 Q323.144 425.746 324.949 422.205 Q326.778 418.64 326.778 411.533 Q326.778 404.404 324.949 400.862 Q323.144 397.297 319.51 397.297 M319.51 393.594 Q325.32 393.594 328.375 398.2 Q331.454 402.783 331.454 411.533 Q331.454 420.26 328.375 424.867 Q325.32 429.45 319.51 429.45 Q313.699 429.45 310.621 424.867 Q307.565 420.26 307.565 411.533 Q307.565 402.783 310.621 398.2 Q313.699 393.594 319.51 393.594 Z\" fill=\"#000000\" fill-rule=\"evenodd\" fill-opacity=\"1\" /><path clip-path=\"url(#clip710)\" d=\"M336.024 398.171 L349.284 398.171 L349.284 401.368 L331.454 401.368 L331.454 398.171 Q333.617 395.933 337.341 392.171 Q341.084 388.391 342.043 387.3 Q343.867 385.25 344.582 383.839 Q345.315 382.41 345.315 381.037 Q345.315 378.799 343.735 377.388 Q342.174 375.978 339.654 375.978 Q337.867 375.978 335.874 376.598 Q333.899 377.219 331.642 378.479 L331.642 374.642 Q333.937 373.721 335.93 373.251 Q337.924 372.781 339.579 372.781 Q343.942 372.781 346.538 374.962 Q349.133 377.144 349.133 380.793 Q349.133 382.523 348.475 384.084 Q347.836 385.626 346.124 387.733 Q345.654 388.278 343.134 390.892 Q340.613 393.488 336.024 398.171 Z\" fill=\"#000000\" fill-rule=\"evenodd\" fill-opacity=\"1\" /><path clip-path=\"url(#clip710)\" d=\"M357.371 400.785 L357.371 397.325 Q358.8 398.002 360.267 398.359 Q361.734 398.716 363.145 398.716 Q366.907 398.716 368.881 396.196 Q370.875 393.657 371.157 388.504 Q370.066 390.121 368.392 390.986 Q366.719 391.852 364.687 391.852 Q360.474 391.852 358.011 389.313 Q355.566 386.755 355.566 382.335 Q355.566 378.009 358.123 375.395 Q360.681 372.781 364.932 372.781 Q369.803 372.781 372.361 376.523 Q374.938 380.247 374.938 387.357 Q374.938 393.996 371.778 397.964 Q368.637 401.914 363.314 401.914 Q361.885 401.914 360.418 401.632 Q358.951 401.35 357.371 400.785 M364.932 388.88 Q367.49 388.88 368.975 387.131 Q370.48 385.382 370.48 382.335 Q370.48 379.307 368.975 377.558 Q367.49 375.79 364.932 375.79 Q362.374 375.79 360.869 377.558 Q359.383 379.307 359.383 382.335 Q359.383 385.382 360.869 387.131 Q362.374 388.88 364.932 388.88 Z\" fill=\"#000000\" fill-rule=\"evenodd\" fill-opacity=\"1\" /><path clip-path=\"url(#clip710)\" d=\"M381.802 373.288 L396.717 373.288 L396.717 376.486 L385.282 376.486 L385.282 383.369 Q386.109 383.087 386.937 382.956 Q387.764 382.805 388.592 382.805 Q393.294 382.805 396.04 385.382 Q398.786 387.958 398.786 392.359 Q398.786 396.892 395.965 399.412 Q393.143 401.914 388.009 401.914 Q386.241 401.914 384.398 401.613 Q382.573 401.312 380.617 400.71 L380.617 396.892 Q382.31 397.814 384.116 398.265 Q385.921 398.716 387.934 398.716 Q391.187 398.716 393.087 397.005 Q394.987 395.293 394.987 392.359 Q394.987 389.425 393.087 387.714 Q391.187 386.002 387.934 386.002 Q386.41 386.002 384.887 386.341 Q383.382 386.679 381.802 387.394 L381.802 373.288 Z\" fill=\"#000000\" fill-rule=\"evenodd\" fill-opacity=\"1\" /><path clip-path=\"url(#clip710)\" d=\"M124.464 242.092 L154.14 242.092 L154.14 246.027 L124.464 246.027 L124.464 242.092 Z\" fill=\"#000000\" fill-rule=\"evenodd\" fill-opacity=\"1\" /><path clip-path=\"url(#clip710)\" d=\"M168.26 254.985 L184.58 254.985 L184.58 258.921 L162.635 258.921 L162.635 254.985 Q165.297 252.231 169.881 247.601 Q174.487 242.948 175.668 241.606 Q177.913 239.083 178.793 237.347 Q179.696 235.587 179.696 233.898 Q179.696 231.143 177.751 229.407 Q175.83 227.671 172.728 227.671 Q170.529 227.671 168.075 228.435 Q165.645 229.198 162.867 230.749 L162.867 226.027 Q165.691 224.893 168.145 224.314 Q170.598 223.736 172.635 223.736 Q178.006 223.736 181.2 226.421 Q184.395 229.106 184.395 233.597 Q184.395 235.726 183.584 237.648 Q182.797 239.546 180.691 242.138 Q180.112 242.81 177.01 246.027 Q173.909 249.222 168.26 254.985 Z\" fill=\"#000000\" fill-rule=\"evenodd\" fill-opacity=\"1\" /><path clip-path=\"url(#clip710)\" d=\"M194.395 253.041 L199.279 253.041 L199.279 258.921 L194.395 258.921 L194.395 253.041 Z\" fill=\"#000000\" fill-rule=\"evenodd\" fill-opacity=\"1\" /><path clip-path=\"url(#clip710)\" d=\"M219.464 227.439 Q215.853 227.439 214.024 231.004 Q212.218 234.546 212.218 241.675 Q212.218 248.782 214.024 252.347 Q215.853 255.888 219.464 255.888 Q223.098 255.888 224.904 252.347 Q226.732 248.782 226.732 241.675 Q226.732 234.546 224.904 231.004 Q223.098 227.439 219.464 227.439 M219.464 223.736 Q225.274 223.736 228.33 228.342 Q231.408 232.925 231.408 241.675 Q231.408 250.402 228.33 255.009 Q225.274 259.592 219.464 259.592 Q213.654 259.592 210.575 255.009 Q207.519 250.402 207.519 241.675 Q207.519 232.925 210.575 228.342 Q213.654 223.736 219.464 223.736 Z\" fill=\"#000000\" fill-rule=\"evenodd\" fill-opacity=\"1\" /><path clip-path=\"url(#clip710)\" d=\"M267.797 233.458 L257.218 244.083 L267.797 254.661 L265.042 257.462 L254.417 246.837 L243.792 257.462 L241.061 254.661 L251.616 244.083 L241.061 233.458 L243.792 230.657 L254.417 241.282 L265.042 230.657 L267.797 233.458 Z\" fill=\"#000000\" fill-rule=\"evenodd\" fill-opacity=\"1\" /><path clip-path=\"url(#clip710)\" d=\"M280.158 254.985 L287.797 254.985 L287.797 228.62 L279.487 230.286 L279.487 226.027 L287.75 224.361 L292.426 224.361 L292.426 254.985 L300.065 254.985 L300.065 258.921 L280.158 258.921 L280.158 254.985 Z\" fill=\"#000000\" fill-rule=\"evenodd\" fill-opacity=\"1\" /><path clip-path=\"url(#clip710)\" d=\"M319.51 227.439 Q315.898 227.439 314.07 231.004 Q312.264 234.546 312.264 241.675 Q312.264 248.782 314.07 252.347 Q315.898 255.888 319.51 255.888 Q323.144 255.888 324.949 252.347 Q326.778 248.782 326.778 241.675 Q326.778 234.546 324.949 231.004 Q323.144 227.439 319.51 227.439 M319.51 223.736 Q325.32 223.736 328.375 228.342 Q331.454 232.925 331.454 241.675 Q331.454 250.402 328.375 255.009 Q325.32 259.592 319.51 259.592 Q313.699 259.592 310.621 255.009 Q307.565 250.402 307.565 241.675 Q307.565 232.925 310.621 228.342 Q313.699 223.736 319.51 223.736 Z\" fill=\"#000000\" fill-rule=\"evenodd\" fill-opacity=\"1\" /><path clip-path=\"url(#clip710)\" d=\"M336.024 228.313 L349.284 228.313 L349.284 231.51 L331.454 231.51 L331.454 228.313 Q333.617 226.075 337.341 222.313 Q341.084 218.533 342.043 217.442 Q343.867 215.392 344.582 213.981 Q345.315 212.552 345.315 211.179 Q345.315 208.941 343.735 207.53 Q342.174 206.12 339.654 206.12 Q337.867 206.12 335.874 206.74 Q333.899 207.361 331.642 208.621 L331.642 204.784 Q333.937 203.863 335.93 203.393 Q337.924 202.922 339.579 202.922 Q343.942 202.922 346.538 205.104 Q349.133 207.286 349.133 210.934 Q349.133 212.665 348.475 214.226 Q347.836 215.768 346.124 217.875 Q345.654 218.42 343.134 221.034 Q340.613 223.63 336.024 228.313 Z\" fill=\"#000000\" fill-rule=\"evenodd\" fill-opacity=\"1\" /><path clip-path=\"url(#clip710)\" d=\"M357.371 230.927 L357.371 227.466 Q358.8 228.144 360.267 228.501 Q361.734 228.858 363.145 228.858 Q366.907 228.858 368.881 226.338 Q370.875 223.799 371.157 218.646 Q370.066 220.263 368.392 221.128 Q366.719 221.993 364.687 221.993 Q360.474 221.993 358.011 219.454 Q355.566 216.897 355.566 212.477 Q355.566 208.151 358.123 205.537 Q360.681 202.922 364.932 202.922 Q369.803 202.922 372.361 206.665 Q374.938 210.389 374.938 217.498 Q374.938 224.137 371.778 228.106 Q368.637 232.056 363.314 232.056 Q361.885 232.056 360.418 231.773 Q358.951 231.491 357.371 230.927 M364.932 219.022 Q367.49 219.022 368.975 217.273 Q370.48 215.524 370.48 212.477 Q370.48 209.449 368.975 207.7 Q367.49 205.932 364.932 205.932 Q362.374 205.932 360.869 207.7 Q359.383 209.449 359.383 212.477 Q359.383 215.524 360.869 217.273 Q362.374 219.022 364.932 219.022 Z\" fill=\"#000000\" fill-rule=\"evenodd\" fill-opacity=\"1\" /><path clip-path=\"url(#clip710)\" d=\"M381.802 203.43 L396.717 203.43 L396.717 206.627 L385.282 206.627 L385.282 213.511 Q386.109 213.229 386.937 213.097 Q387.764 212.947 388.592 212.947 Q393.294 212.947 396.04 215.524 Q398.786 218.1 398.786 222.501 Q398.786 227.034 395.965 229.554 Q393.143 232.056 388.009 232.056 Q386.241 232.056 384.398 231.755 Q382.573 231.454 380.617 230.852 L380.617 227.034 Q382.31 227.955 384.116 228.407 Q385.921 228.858 387.934 228.858 Q391.187 228.858 393.087 227.147 Q394.987 225.435 394.987 222.501 Q394.987 219.567 393.087 217.856 Q391.187 216.144 387.934 216.144 Q386.41 216.144 384.887 216.483 Q383.382 216.821 381.802 217.536 L381.802 203.43 Z\" fill=\"#000000\" fill-rule=\"evenodd\" fill-opacity=\"1\" /><path clip-path=\"url(#clip710)\" d=\"M386.841 51.1335 Q383.23 51.1335 381.402 54.6983 Q379.596 58.2399 379.596 65.3695 Q379.596 72.4759 381.402 76.0407 Q383.23 79.5824 386.841 79.5824 Q390.476 79.5824 392.281 76.0407 Q394.11 72.4759 394.11 65.3695 Q394.11 58.2399 392.281 54.6983 Q390.476 51.1335 386.841 51.1335 M386.841 47.4298 Q392.652 47.4298 395.707 52.0362 Q398.786 56.6195 398.786 65.3695 Q398.786 74.0963 395.707 78.7028 Q392.652 83.2861 386.841 83.2861 Q381.031 83.2861 377.953 78.7028 Q374.897 74.0963 374.897 65.3695 Q374.897 56.6195 377.953 52.0362 Q381.031 47.4298 386.841 47.4298 Z\" fill=\"#000000\" fill-rule=\"evenodd\" fill-opacity=\"1\" /><path clip-path=\"url(#clip710)\" d=\"M34.4035 425.35 Q35.0154 425.35 35.5307 425.479 L46.996 427.282 Q47.8656 427.379 48.1876 427.572 Q48.5097 427.733 48.5097 428.249 Q48.5097 429.054 47.6723 429.054 Q47.1893 429.054 46.4163 428.861 Q42.7771 428.313 41.1346 428.313 Q40.0396 428.313 39.2344 428.539 Q38.3971 428.732 37.8174 429.054 Q37.2376 429.344 36.8512 430.02 Q36.4647 430.696 36.2393 431.34 Q36.0138 431.985 35.9172 433.144 Q35.7884 434.303 35.7562 435.302 Q35.724 436.3 35.724 437.943 Q35.724 441.517 35.8528 442.097 Q36.0138 442.709 36.4969 443.031 Q36.9478 443.321 38.3004 443.643 L73.3082 452.403 L74.6931 452.661 Q75.466 452.661 75.7236 452.178 Q75.9813 451.695 76.1423 450.213 Q76.3034 448.087 76.3034 445.994 Q76.3034 445.93 76.3034 445.801 Q76.3034 445.092 76.3356 444.802 Q76.3356 444.513 76.4 444.223 Q76.4644 443.933 76.6254 443.868 Q76.7542 443.772 77.0119 443.772 Q77.6238 443.772 77.9459 444.03 Q78.2357 444.287 78.3001 444.545 Q78.3323 444.77 78.3323 445.221 Q78.3323 446.123 78.2679 448.055 Q78.2035 449.988 78.2035 450.954 L78.1391 456.429 L78.2035 462.033 Q78.2035 462.902 78.2679 464.738 Q78.3323 466.574 78.3323 467.443 Q78.3323 468.57 77.5272 468.57 Q76.6254 468.57 76.4644 468.152 Q76.3034 467.701 76.3034 465.801 Q76.3034 463.128 76.1745 461.678 Q76.0457 460.229 75.5948 459.456 Q75.1439 458.651 74.6931 458.426 Q74.21 458.2 73.115 457.942 L37.914 449.086 Q37.141 448.828 36.5291 448.828 Q36.2071 448.828 36.0782 448.925 Q35.9494 448.989 35.8528 449.408 Q35.724 449.827 35.724 450.696 L35.724 453.273 Q35.724 455.913 35.8528 457.556 Q35.9494 459.166 36.4325 460.712 Q36.9156 462.226 37.5919 463.128 Q38.2682 463.997 39.6531 464.963 Q41.0379 465.93 42.7126 466.638 Q44.3873 467.314 47.1248 468.281 Q48.0266 468.603 48.2843 468.796 Q48.5097 468.957 48.5097 469.408 Q48.5097 469.73 48.3165 469.987 Q48.091 470.213 47.8012 470.213 Q46.7384 469.891 46.6096 469.826 L34.9832 465.865 Q34.0493 465.543 33.8882 465.253 Q33.695 464.931 33.695 463.74 L33.695 427.154 Q33.695 426.574 33.695 426.381 Q33.695 426.187 33.7594 425.865 Q33.8238 425.543 33.9849 425.447 Q34.1459 425.35 34.4035 425.35 Z\" fill=\"#000000\" fill-rule=\"evenodd\" fill-opacity=\"1\" /><path clip-path=\"url(#clip710)\" d=\"M79.2048 399.949 Q80.3997 399.949 81.1662 400.738 Q81.9327 401.505 81.9327 402.497 Q81.9327 403.353 81.4367 403.804 Q80.9407 404.255 80.3095 404.255 Q79.4077 404.255 78.6638 403.556 Q77.9198 402.857 77.762 401.843 Q77.221 402.587 77.221 403.782 Q77.221 405.743 78.7314 407.479 Q79.4303 408.245 80.7153 409.08 Q81.9778 409.914 82.5188 410.072 L88.5381 411.537 Q89.2144 411.672 92.4608 412.506 Q95.6846 413.318 95.8198 413.386 Q96.4511 413.611 96.7892 414.107 Q97.1274 414.603 97.1274 415.099 Q97.1274 415.662 96.7892 416.046 Q96.4511 416.429 95.8649 416.429 Q95.7748 416.429 95.4366 416.361 Q95.0984 416.294 94.625 416.181 Q94.1516 416.068 93.8811 416.023 L83.2177 413.34 Q81.2789 412.844 80.6702 412.732 Q80.039 412.596 79.3401 412.596 Q78.1227 412.596 77.6718 412.98 Q77.221 413.363 77.221 414.039 Q77.221 415.212 78.6187 415.978 Q80.0164 416.745 82.7217 417.398 Q83.4657 417.601 83.6235 417.737 Q83.7813 417.849 83.7813 418.187 Q83.7587 418.751 83.3079 418.751 Q83.1951 418.751 82.4737 418.571 Q81.7298 418.39 80.6477 418.052 Q79.543 417.691 78.8441 417.308 Q78.3707 417.083 78.0551 416.88 Q77.7395 416.677 77.2435 416.271 Q76.7475 415.865 76.477 415.257 Q76.2065 414.648 76.2065 413.904 Q76.2065 412.281 77.1984 411.131 Q78.1904 409.959 79.7459 409.688 Q78.9343 409.125 78.2354 408.426 Q77.514 407.727 76.8603 406.442 Q76.2065 405.157 76.2065 403.782 Q76.2065 402.068 77.0857 401.009 Q77.9424 399.949 79.2048 399.949 Z\" fill=\"#000000\" fill-rule=\"evenodd\" fill-opacity=\"1\" /><path clip-path=\"url(#clip710)\" d=\"M96.6089 396.663 Q95.7748 396.663 95.5268 396.595 Q95.2788 396.505 94.8955 396.144 L85.0212 387.285 Q79.5655 382.438 74.8087 382.438 Q71.7202 382.438 69.5109 384.061 Q67.3016 385.661 67.3016 388.615 Q67.3016 390.644 68.5415 392.357 Q69.7814 394.07 71.9907 394.859 Q71.9456 394.724 71.9456 394.251 Q71.9456 393.101 72.667 392.47 Q73.3885 391.816 74.3579 391.816 Q75.5978 391.816 76.2065 392.628 Q76.7926 393.417 76.7926 394.206 Q76.7926 394.521 76.725 394.95 Q76.6574 395.355 76.0261 396.009 Q75.3723 396.663 74.2226 396.663 Q70.9988 396.663 68.4288 394.228 Q65.8587 391.771 65.8587 388.029 Q65.8587 383.79 68.3837 381.017 Q70.8861 378.222 74.8087 378.222 Q76.1839 378.222 77.4464 378.65 Q78.6863 379.056 79.6557 379.62 Q80.6251 380.161 82.1807 381.649 Q83.7362 383.137 84.8409 384.331 Q85.9455 385.526 88.2901 388.209 L93.0469 393.101 L93.0469 384.782 Q93.0469 380.724 92.6862 380.409 Q92.0324 379.958 88.5832 379.394 L88.5832 378.222 L96.6089 379.529 L96.6089 396.663 Z\" fill=\"#000000\" fill-rule=\"evenodd\" fill-opacity=\"1\" /><path clip-path=\"url(#clip710)\" d=\"M10.7002 391.36 L20.7999 393.862 Q21.4086 393.998 21.5664 394.11 Q21.7243 394.223 21.7243 394.539 Q21.7243 394.787 21.6115 394.944 Q21.4988 395.08 21.3861 395.08 L21.2734 395.102 Q21.2057 395.102 20.8676 395.057 Q20.5069 395.012 19.9207 394.967 Q19.3346 394.922 18.6808 394.922 Q14.9836 394.922 13.2702 396.725 Q11.5343 398.506 11.5343 401.572 Q11.5343 403.692 12.6615 405.585 Q13.7887 407.479 15.5697 408.561 Q17.3282 409.643 19.1768 409.643 Q20.8676 409.643 21.9497 408.787 Q23.0318 407.93 23.3925 406.825 L24.2267 403.737 Q25.0608 400.49 25.4215 399.566 Q25.7597 398.642 26.5262 397.875 Q28.6453 395.598 31.9367 395.598 Q34.7773 395.598 37.5277 397.199 Q40.2555 398.799 42.0365 401.55 Q43.7949 404.3 43.7949 407.344 Q43.7949 412.687 40.481 415.144 L43.0961 417.398 Q43.592 417.827 43.6822 417.962 Q43.7949 418.075 43.7949 418.232 Q43.7949 418.435 43.6597 418.593 Q43.5469 418.751 43.3441 418.751 Q43.1862 418.751 37.8884 417.421 Q32.5905 416.091 32.4778 415.978 Q32.2974 415.798 32.2974 415.505 Q32.2974 414.964 32.816 414.964 Q32.9512 415.009 33.1316 415.054 Q34.7547 415.324 35.634 415.324 Q37.2797 415.324 38.5422 414.761 Q39.7821 414.197 40.5035 413.363 Q41.2024 412.506 41.6532 411.357 Q42.0816 410.207 42.2394 409.237 Q42.3747 408.268 42.3747 407.254 Q42.3747 405.067 41.1122 403.128 Q39.8497 401.167 37.8884 400.062 Q35.927 398.935 33.8755 398.935 Q32.7934 398.935 31.9593 399.228 Q31.1026 399.521 30.6292 399.927 Q30.1558 400.31 29.795 400.964 Q29.4343 401.617 29.2991 402.068 Q29.1413 402.497 28.9835 403.173 L27.6759 408.11 Q27.0898 410.094 25.3989 411.514 Q23.7081 412.912 21.1156 412.912 Q18.3877 412.912 15.8628 411.311 Q13.3153 409.688 11.7823 407.051 Q10.2268 404.39 10.2268 401.527 Q10.2268 399.273 11.106 397.537 Q11.9627 395.801 13.5633 394.922 L10.9256 392.69 Q10.4071 392.239 10.3169 392.149 Q10.2268 392.036 10.2268 391.878 Q10.2268 391.608 10.3846 391.495 Q10.5424 391.36 10.7002 391.36 Z\" fill=\"#000000\" fill-rule=\"evenodd\" fill-opacity=\"1\" /><path clip-path=\"url(#clip710)\" d=\"M18.2074 355.736 Q20.7323 355.736 23.0544 357.607 Q25.3764 359.456 26.7967 362.477 Q28.1944 365.475 28.1944 368.699 L28.1944 376.544 L39.737 379.407 Q39.8046 379.43 40.0977 379.497 Q40.3682 379.565 40.526 379.565 Q41.0896 379.565 41.2249 378.866 Q41.3602 378.145 41.3602 376.544 Q41.3602 375.507 41.5405 375.349 Q41.6532 375.259 41.8561 375.259 Q42.1718 375.259 42.3972 375.349 Q42.6001 375.439 42.6677 375.62 Q42.7354 375.778 42.7579 375.89 Q42.7804 376.003 42.7804 376.183 Q42.7804 376.657 42.7354 377.671 Q42.6903 378.663 42.6903 379.182 L42.6452 382.135 L42.7804 387.997 Q42.7804 388.695 42.2168 388.695 Q41.7885 388.695 41.6082 388.515 Q41.4053 388.335 41.3827 388.132 Q41.3602 387.929 41.3602 387.41 Q41.3602 386.283 41.2925 385.607 Q41.2249 384.931 41.1347 384.502 Q41.022 384.051 40.7064 383.826 Q40.3908 383.578 40.1202 383.465 Q39.8272 383.352 39.1734 383.195 L14.3749 377.018 Q13.6309 376.837 13.5182 376.837 Q13.135 376.837 12.9997 377.063 Q12.8419 377.266 12.7742 377.852 Q12.6841 378.979 12.6841 379.836 Q12.6841 380.399 12.6615 380.625 Q12.639 380.827 12.5263 381.008 Q12.391 381.166 12.1205 381.166 Q11.6921 381.166 11.5118 380.985 Q11.3089 380.782 11.2863 380.557 Q11.2412 380.332 11.2412 379.79 L11.2412 364.821 Q11.2412 360.515 13.2928 358.126 Q15.3443 355.736 18.2074 355.736 M17.1027 360.019 Q12.6841 360.019 12.6841 366.309 L12.6841 370.728 Q12.6841 372.193 12.9546 372.554 Q13.2026 372.915 14.4425 373.23 L26.9996 376.364 L26.9996 369.849 Q26.9996 365.475 24.5423 362.747 Q23.4151 361.507 21.0705 360.763 Q18.7259 360.019 17.1027 360.019 Z\" fill=\"#000000\" fill-rule=\"evenodd\" fill-opacity=\"1\" /><path clip-path=\"url(#clip710)\" d=\"M94.8217 352.315 L28.8641 352.315 L28.8641 342.364 L30.3778 342.364 L30.3778 347.903 L93.308 347.903 L93.308 342.364 L94.8217 342.364 L94.8217 352.315 Z\" fill=\"#000000\" fill-rule=\"evenodd\" fill-opacity=\"1\" /><path clip-path=\"url(#clip710)\" d=\"M34.0171 283.838 Q34.4357 283.838 34.7256 283.935 Q34.9832 284.031 35.1121 284.257 Q35.2409 284.482 35.2731 284.611 Q35.3053 284.74 35.3375 285.03 Q35.4663 286.415 35.6918 287.381 Q35.9172 288.315 37.0766 290.634 Q38.236 292.92 40.3294 295.786 L49.2504 307.316 L50.7641 309.249 Q50.8607 309.249 51.054 309.184 Q51.215 309.12 51.4404 309.055 Q51.6337 308.959 51.6981 308.926 L73.3082 299.555 Q75.0473 298.814 75.6592 297.912 Q76.2711 297.01 76.3034 294.981 Q76.3034 294.659 76.3356 294.53 Q76.3356 294.369 76.4 294.144 Q76.4322 293.886 76.5932 293.79 Q76.7542 293.661 77.0119 293.661 Q78.3323 293.661 78.3323 294.852 Q78.3323 295.593 78.2357 298.105 Q78.1391 300.617 78.1391 301.326 Q78.1391 302.646 78.2357 305.352 Q78.3323 308.057 78.3323 309.377 Q78.3323 310.311 77.5916 310.311 Q76.9797 310.311 76.6898 310.086 Q76.3678 309.828 76.3356 309.603 Q76.3034 309.377 76.3034 308.862 Q76.3034 308.476 76.2711 308.057 Q76.2067 307.606 76.0457 306.962 Q75.8525 306.286 75.4016 305.867 Q74.9185 305.416 74.2422 305.416 Q73.6947 305.416 71.9234 306.221 L54.1779 313.854 L61.8429 323.677 L72.2132 326.318 Q72.5997 326.382 73.276 326.543 Q73.9523 326.704 74.4354 326.833 Q74.9185 326.93 75.1117 326.93 Q75.5304 326.93 75.7881 326.672 Q76.0457 326.382 76.1745 325.674 Q76.2711 324.965 76.3034 324.417 Q76.3034 323.838 76.3034 322.646 Q76.3034 321.165 76.561 320.907 Q76.722 320.778 77.0119 320.778 Q77.4628 320.778 77.7848 320.907 Q78.0747 321.036 78.1713 321.294 Q78.2679 321.519 78.3001 321.68 Q78.3323 321.841 78.3323 322.099 Q78.3323 322.775 78.2679 324.224 Q78.2035 325.641 78.2035 326.382 L78.1391 330.601 L78.3323 338.975 Q78.3323 339.973 77.5272 339.973 Q76.9153 339.973 76.6576 339.715 Q76.3678 339.458 76.3356 339.168 Q76.3034 338.878 76.3034 338.137 Q76.3034 336.527 76.2067 335.561 Q76.1101 334.595 75.9813 333.983 Q75.8203 333.339 75.3694 333.016 Q74.9185 332.662 74.532 332.501 Q74.1134 332.34 73.1794 332.115 L37.7529 323.29 Q36.6901 323.033 36.5291 323.033 Q35.9816 323.033 35.7884 323.355 Q35.5629 323.645 35.4663 324.482 Q35.3375 326.092 35.3375 327.316 Q35.3375 328.121 35.3053 328.443 Q35.2731 328.733 35.1121 328.991 Q34.9188 329.216 34.5324 329.216 Q33.2763 329.216 33.2763 327.896 L33.4696 319.393 L33.2763 310.955 Q33.2763 310.021 34.0171 310.021 Q34.951 310.021 35.1443 310.472 Q35.3375 310.891 35.3375 312.276 Q35.3375 314.691 35.6596 315.786 Q35.9494 316.849 36.4647 317.171 Q36.9478 317.461 38.3649 317.815 L59.5241 323.097 L39.7497 297.365 Q37.7529 294.981 36.7224 294.981 Q36.046 294.981 35.7562 295.464 Q35.4341 295.915 35.3375 297.042 Q35.2087 297.848 34.5968 297.848 Q33.9849 297.848 33.695 297.622 Q33.3729 297.365 33.3407 297.171 Q33.2763 296.946 33.2763 296.592 Q33.2763 295.4 33.3729 292.92 Q33.4696 290.44 33.4696 289.249 Q33.4696 288.444 33.3729 286.865 Q33.2763 285.287 33.2763 284.579 Q33.2763 284.225 33.534 284.031 Q33.7594 283.838 34.0171 283.838 Z\" fill=\"#000000\" fill-rule=\"evenodd\" fill-opacity=\"1\" /><path clip-path=\"url(#clip710)\" d=\"M93.308 281.629 L93.308 276.09 L30.3778 276.09 L30.3778 281.629 L28.8641 281.629 L28.8641 271.678 L94.8217 271.678 L94.8217 281.629 L93.308 281.629 Z\" fill=\"#000000\" fill-rule=\"evenodd\" fill-opacity=\"1\" /><polyline clip-path=\"url(#clip713)\" style=\"stroke:#000000; stroke-linecap:round; stroke-linejoin:round; stroke-width:4; stroke-opacity:1; fill:none\" stroke-dasharray=\"2, 4\" points=\"489.068,65.3348 535.463,65.3348 581.858,65.3348 628.253,65.3348 674.648,65.3348 721.043,65.3348 767.438,65.3348 813.833,65.3348 860.228,65.3348 906.623,65.3348 953.018,65.3348 999.413,65.3348 1045.81,65.3348 1092.2,65.3348 1138.6,65.3348 1184.99,65.3348 1231.39,65.3348 1277.78,65.3348 1324.18,65.3348 1370.57,65.3348 1416.97,65.3348 1463.36,65.3348 1509.76,65.3348 1556.15,65.3348 1602.55,65.3348 1648.94,65.3348 1695.34,65.3348 1741.73,65.3348 1788.13,65.3348 1834.52,65.3348 1880.92,65.3348 1927.31,65.3348 1973.71,65.3348 2020.1,65.3348 2066.5,65.3348 2112.89,65.3348 2159.29,65.3348 2205.68,65.3348 2252.08,65.3348 2298.47,65.3348 \"/>\n",
       "<polyline clip-path=\"url(#clip713)\" style=\"stroke:#ff0000; stroke-linecap:round; stroke-linejoin:round; stroke-width:12; stroke-opacity:0.3; fill:none\" points=\"489.068,65.3348 535.463,65.3348 581.858,65.3348 628.253,65.3348 674.648,65.3348 721.043,65.3348 767.438,65.3348 813.833,65.3348 860.228,65.3348 906.623,65.3348 953.018,65.3348 999.413,65.3348 1045.81,65.3348 1092.2,65.3348 1138.6,65.3348 1184.99,65.3348 1231.39,65.3348 1277.78,65.3348 1324.18,65.3348 1370.57,65.3348 1416.97,65.3348 1463.36,65.3348 1509.76,65.3348 1556.15,65.3348 1602.55,65.3348 1648.94,65.3348 1695.34,65.3348 1741.73,65.3348 1788.13,65.3348 1834.52,65.3348 1880.92,65.3348 1927.31,65.3348 1973.71,65.3348 2020.1,65.3348 2066.5,65.3348 2112.89,65.3348 2159.29,65.3348 2205.68,65.3348 2252.08,65.3348 2298.47,65.3348 \"/>\n",
       "<polyline clip-path=\"url(#clip713)\" style=\"stroke:#0000ff; stroke-linecap:round; stroke-linejoin:round; stroke-width:12; stroke-opacity:0.3; fill:none\" points=\"489.068,65.3348 535.463,65.3348 581.858,668.357 628.253,65.3348 674.648,65.3348 721.043,65.3348 767.438,65.3348 813.833,65.3348 860.228,65.3348 906.623,65.3348 953.018,65.3348 999.413,65.3348 1045.81,65.3348 1092.2,65.3348 1138.6,65.3348 1184.99,65.3348 1231.39,65.3348 1277.78,65.3348 1324.18,65.3348 1370.57,65.3348 1416.97,65.3348 1463.36,65.3348 1509.76,65.3348 1556.15,65.3348 1602.55,65.3348 1648.94,65.3348 1695.34,65.3348 1741.73,65.3348 1788.13,65.3348 1834.52,65.3348 1880.92,65.3348 1927.31,65.3348 1973.71,65.3348 2020.1,65.3348 2066.5,65.3348 2112.89,65.3348 2159.29,65.3348 2205.68,65.3348 2252.08,65.3348 2298.47,65.3348 \"/>\n",
       "<path clip-path=\"url(#clip710)\" d=\"M434.786 1486.45 L2352.76 1486.45 L2352.76 847.244 L434.786 847.244  Z\" fill=\"#ffffff\" fill-rule=\"evenodd\" fill-opacity=\"1\"/>\n",
       "<defs>\n",
       "  <clipPath id=\"clip714\">\n",
       "    <rect x=\"434\" y=\"847\" width=\"1919\" height=\"640\"/>\n",
       "  </clipPath>\n",
       "</defs>\n",
       "<polyline clip-path=\"url(#clip714)\" style=\"stroke:#000000; stroke-linecap:round; stroke-linejoin:round; stroke-width:8; stroke-opacity:0.1; fill:none\" points=\"442.673,1486.45 442.673,847.244 \"/>\n",
       "<polyline clip-path=\"url(#clip714)\" style=\"stroke:#000000; stroke-linecap:round; stroke-linejoin:round; stroke-width:8; stroke-opacity:0.1; fill:none\" points=\"906.623,1486.45 906.623,847.244 \"/>\n",
       "<polyline clip-path=\"url(#clip714)\" style=\"stroke:#000000; stroke-linecap:round; stroke-linejoin:round; stroke-width:8; stroke-opacity:0.1; fill:none\" points=\"1370.57,1486.45 1370.57,847.244 \"/>\n",
       "<polyline clip-path=\"url(#clip714)\" style=\"stroke:#000000; stroke-linecap:round; stroke-linejoin:round; stroke-width:8; stroke-opacity:0.1; fill:none\" points=\"1834.52,1486.45 1834.52,847.244 \"/>\n",
       "<polyline clip-path=\"url(#clip714)\" style=\"stroke:#000000; stroke-linecap:round; stroke-linejoin:round; stroke-width:8; stroke-opacity:0.1; fill:none\" points=\"2298.47,1486.45 2298.47,847.244 \"/>\n",
       "<polyline clip-path=\"url(#clip710)\" style=\"stroke:#000000; stroke-linecap:round; stroke-linejoin:round; stroke-width:4; stroke-opacity:1; fill:none\" points=\"434.786,1486.45 2352.76,1486.45 \"/>\n",
       "<polyline clip-path=\"url(#clip710)\" style=\"stroke:#000000; stroke-linecap:round; stroke-linejoin:round; stroke-width:4; stroke-opacity:1; fill:none\" points=\"442.673,1486.45 442.673,1467.55 \"/>\n",
       "<polyline clip-path=\"url(#clip710)\" style=\"stroke:#000000; stroke-linecap:round; stroke-linejoin:round; stroke-width:4; stroke-opacity:1; fill:none\" points=\"906.623,1486.45 906.623,1467.55 \"/>\n",
       "<polyline clip-path=\"url(#clip710)\" style=\"stroke:#000000; stroke-linecap:round; stroke-linejoin:round; stroke-width:4; stroke-opacity:1; fill:none\" points=\"1370.57,1486.45 1370.57,1467.55 \"/>\n",
       "<polyline clip-path=\"url(#clip710)\" style=\"stroke:#000000; stroke-linecap:round; stroke-linejoin:round; stroke-width:4; stroke-opacity:1; fill:none\" points=\"1834.52,1486.45 1834.52,1467.55 \"/>\n",
       "<polyline clip-path=\"url(#clip710)\" style=\"stroke:#000000; stroke-linecap:round; stroke-linejoin:round; stroke-width:4; stroke-opacity:1; fill:none\" points=\"2298.47,1486.45 2298.47,1467.55 \"/>\n",
       "<path clip-path=\"url(#clip710)\" d=\"M442.673 1517.37 Q439.062 1517.37 437.233 1520.93 Q435.428 1524.47 435.428 1531.6 Q435.428 1538.71 437.233 1542.27 Q439.062 1545.82 442.673 1545.82 Q446.307 1545.82 448.113 1542.27 Q449.941 1538.71 449.941 1531.6 Q449.941 1524.47 448.113 1520.93 Q446.307 1517.37 442.673 1517.37 M442.673 1513.66 Q448.483 1513.66 451.539 1518.27 Q454.617 1522.85 454.617 1531.6 Q454.617 1540.33 451.539 1544.94 Q448.483 1549.52 442.673 1549.52 Q436.863 1549.52 433.784 1544.94 Q430.729 1540.33 430.729 1531.6 Q430.729 1522.85 433.784 1518.27 Q436.863 1513.66 442.673 1513.66 Z\" fill=\"#000000\" fill-rule=\"evenodd\" fill-opacity=\"1\" /><path clip-path=\"url(#clip710)\" d=\"M881.311 1544.91 L888.95 1544.91 L888.95 1518.55 L880.639 1520.21 L880.639 1515.95 L888.903 1514.29 L893.579 1514.29 L893.579 1544.91 L901.218 1544.91 L901.218 1548.85 L881.311 1548.85 L881.311 1544.91 Z\" fill=\"#000000\" fill-rule=\"evenodd\" fill-opacity=\"1\" /><path clip-path=\"url(#clip710)\" d=\"M920.662 1517.37 Q917.051 1517.37 915.223 1520.93 Q913.417 1524.47 913.417 1531.6 Q913.417 1538.71 915.223 1542.27 Q917.051 1545.82 920.662 1545.82 Q924.297 1545.82 926.102 1542.27 Q927.931 1538.71 927.931 1531.6 Q927.931 1524.47 926.102 1520.93 Q924.297 1517.37 920.662 1517.37 M920.662 1513.66 Q926.473 1513.66 929.528 1518.27 Q932.607 1522.85 932.607 1531.6 Q932.607 1540.33 929.528 1544.94 Q926.473 1549.52 920.662 1549.52 Q914.852 1549.52 911.774 1544.94 Q908.718 1540.33 908.718 1531.6 Q908.718 1522.85 911.774 1518.27 Q914.852 1513.66 920.662 1513.66 Z\" fill=\"#000000\" fill-rule=\"evenodd\" fill-opacity=\"1\" /><path clip-path=\"url(#clip710)\" d=\"M1349.35 1544.91 L1365.67 1544.91 L1365.67 1548.85 L1343.72 1548.85 L1343.72 1544.91 Q1346.38 1542.16 1350.97 1537.53 Q1355.57 1532.88 1356.75 1531.53 Q1359 1529.01 1359.88 1527.27 Q1360.78 1525.51 1360.78 1523.82 Q1360.78 1521.07 1358.84 1519.33 Q1356.92 1517.6 1353.81 1517.6 Q1351.62 1517.6 1349.16 1518.36 Q1346.73 1519.13 1343.95 1520.68 L1343.95 1515.95 Q1346.78 1514.82 1349.23 1514.24 Q1351.68 1513.66 1353.72 1513.66 Q1359.09 1513.66 1362.29 1516.35 Q1365.48 1519.03 1365.48 1523.52 Q1365.48 1525.65 1364.67 1527.57 Q1363.88 1529.47 1361.78 1532.07 Q1361.2 1532.74 1358.1 1535.95 Q1354.99 1539.15 1349.35 1544.91 Z\" fill=\"#000000\" fill-rule=\"evenodd\" fill-opacity=\"1\" /><path clip-path=\"url(#clip710)\" d=\"M1385.48 1517.37 Q1381.87 1517.37 1380.04 1520.93 Q1378.24 1524.47 1378.24 1531.6 Q1378.24 1538.71 1380.04 1542.27 Q1381.87 1545.82 1385.48 1545.82 Q1389.11 1545.82 1390.92 1542.27 Q1392.75 1538.71 1392.75 1531.6 Q1392.75 1524.47 1390.92 1520.93 Q1389.11 1517.37 1385.48 1517.37 M1385.48 1513.66 Q1391.29 1513.66 1394.35 1518.27 Q1397.43 1522.85 1397.43 1531.6 Q1397.43 1540.33 1394.35 1544.94 Q1391.29 1549.52 1385.48 1549.52 Q1379.67 1549.52 1376.59 1544.94 Q1373.54 1540.33 1373.54 1531.6 Q1373.54 1522.85 1376.59 1518.27 Q1379.67 1513.66 1385.48 1513.66 Z\" fill=\"#000000\" fill-rule=\"evenodd\" fill-opacity=\"1\" /><path clip-path=\"url(#clip710)\" d=\"M1823.37 1530.21 Q1826.72 1530.93 1828.6 1533.2 Q1830.5 1535.47 1830.5 1538.8 Q1830.5 1543.92 1826.98 1546.72 Q1823.46 1549.52 1816.98 1549.52 Q1814.8 1549.52 1812.49 1549.08 Q1810.19 1548.66 1807.74 1547.81 L1807.74 1543.29 Q1809.69 1544.43 1812 1545.01 Q1814.32 1545.58 1816.84 1545.58 Q1821.24 1545.58 1823.53 1543.85 Q1825.84 1542.11 1825.84 1538.8 Q1825.84 1535.75 1823.69 1534.03 Q1821.56 1532.3 1817.74 1532.3 L1813.71 1532.3 L1813.71 1528.45 L1817.93 1528.45 Q1821.38 1528.45 1823.2 1527.09 Q1825.03 1525.7 1825.03 1523.11 Q1825.03 1520.45 1823.13 1519.03 Q1821.26 1517.6 1817.74 1517.6 Q1815.82 1517.6 1813.62 1518.01 Q1811.42 1518.43 1808.78 1519.31 L1808.78 1515.14 Q1811.44 1514.4 1813.76 1514.03 Q1816.1 1513.66 1818.16 1513.66 Q1823.48 1513.66 1826.58 1516.09 Q1829.69 1518.5 1829.69 1522.62 Q1829.69 1525.49 1828.04 1527.48 Q1826.4 1529.45 1823.37 1530.21 Z\" fill=\"#000000\" fill-rule=\"evenodd\" fill-opacity=\"1\" /><path clip-path=\"url(#clip710)\" d=\"M1849.36 1517.37 Q1845.75 1517.37 1843.92 1520.93 Q1842.12 1524.47 1842.12 1531.6 Q1842.12 1538.71 1843.92 1542.27 Q1845.75 1545.82 1849.36 1545.82 Q1853 1545.82 1854.8 1542.27 Q1856.63 1538.71 1856.63 1531.6 Q1856.63 1524.47 1854.8 1520.93 Q1853 1517.37 1849.36 1517.37 M1849.36 1513.66 Q1855.17 1513.66 1858.23 1518.27 Q1861.31 1522.85 1861.31 1531.6 Q1861.31 1540.33 1858.23 1544.94 Q1855.17 1549.52 1849.36 1549.52 Q1843.55 1549.52 1840.47 1544.94 Q1837.42 1540.33 1837.42 1531.6 Q1837.42 1522.85 1840.47 1518.27 Q1843.55 1513.66 1849.36 1513.66 Z\" fill=\"#000000\" fill-rule=\"evenodd\" fill-opacity=\"1\" /><path clip-path=\"url(#clip710)\" d=\"M2286.65 1518.36 L2274.84 1536.81 L2286.65 1536.81 L2286.65 1518.36 M2285.42 1514.29 L2291.3 1514.29 L2291.3 1536.81 L2296.23 1536.81 L2296.23 1540.7 L2291.3 1540.7 L2291.3 1548.85 L2286.65 1548.85 L2286.65 1540.7 L2271.04 1540.7 L2271.04 1536.19 L2285.42 1514.29 Z\" fill=\"#000000\" fill-rule=\"evenodd\" fill-opacity=\"1\" /><path clip-path=\"url(#clip710)\" d=\"M2313.96 1517.37 Q2310.35 1517.37 2308.52 1520.93 Q2306.71 1524.47 2306.71 1531.6 Q2306.71 1538.71 2308.52 1542.27 Q2310.35 1545.82 2313.96 1545.82 Q2317.59 1545.82 2319.4 1542.27 Q2321.23 1538.71 2321.23 1531.6 Q2321.23 1524.47 2319.4 1520.93 Q2317.59 1517.37 2313.96 1517.37 M2313.96 1513.66 Q2319.77 1513.66 2322.83 1518.27 Q2325.9 1522.85 2325.9 1531.6 Q2325.9 1540.33 2322.83 1544.94 Q2319.77 1549.52 2313.96 1549.52 Q2308.15 1549.52 2305.07 1544.94 Q2302.02 1540.33 2302.02 1531.6 Q2302.02 1522.85 2305.07 1518.27 Q2308.15 1513.66 2313.96 1513.66 Z\" fill=\"#000000\" fill-rule=\"evenodd\" fill-opacity=\"1\" /><polyline clip-path=\"url(#clip714)\" style=\"stroke:#000000; stroke-linecap:round; stroke-linejoin:round; stroke-width:8; stroke-opacity:0.1; fill:none\" points=\"434.786,1468.36 2352.76,1468.36 \"/>\n",
       "<polyline clip-path=\"url(#clip714)\" style=\"stroke:#000000; stroke-linecap:round; stroke-linejoin:round; stroke-width:8; stroke-opacity:0.1; fill:none\" points=\"434.786,1287.65 2352.76,1287.65 \"/>\n",
       "<polyline clip-path=\"url(#clip714)\" style=\"stroke:#000000; stroke-linecap:round; stroke-linejoin:round; stroke-width:8; stroke-opacity:0.1; fill:none\" points=\"434.786,1106.94 2352.76,1106.94 \"/>\n",
       "<polyline clip-path=\"url(#clip714)\" style=\"stroke:#000000; stroke-linecap:round; stroke-linejoin:round; stroke-width:8; stroke-opacity:0.1; fill:none\" points=\"434.786,926.227 2352.76,926.227 \"/>\n",
       "<polyline clip-path=\"url(#clip710)\" style=\"stroke:#000000; stroke-linecap:round; stroke-linejoin:round; stroke-width:4; stroke-opacity:1; fill:none\" points=\"434.786,1486.45 434.786,847.244 \"/>\n",
       "<polyline clip-path=\"url(#clip710)\" style=\"stroke:#000000; stroke-linecap:round; stroke-linejoin:round; stroke-width:4; stroke-opacity:1; fill:none\" points=\"434.786,1468.36 453.683,1468.36 \"/>\n",
       "<polyline clip-path=\"url(#clip710)\" style=\"stroke:#000000; stroke-linecap:round; stroke-linejoin:round; stroke-width:4; stroke-opacity:1; fill:none\" points=\"434.786,1287.65 453.683,1287.65 \"/>\n",
       "<polyline clip-path=\"url(#clip710)\" style=\"stroke:#000000; stroke-linecap:round; stroke-linejoin:round; stroke-width:4; stroke-opacity:1; fill:none\" points=\"434.786,1106.94 453.683,1106.94 \"/>\n",
       "<polyline clip-path=\"url(#clip710)\" style=\"stroke:#000000; stroke-linecap:round; stroke-linejoin:round; stroke-width:4; stroke-opacity:1; fill:none\" points=\"434.786,926.227 453.683,926.227 \"/>\n",
       "<path clip-path=\"url(#clip710)\" d=\"M386.841 1454.16 Q383.23 1454.16 381.402 1457.72 Q379.596 1461.26 379.596 1468.39 Q379.596 1475.5 381.402 1479.06 Q383.23 1482.6 386.841 1482.6 Q390.476 1482.6 392.281 1479.06 Q394.11 1475.5 394.11 1468.39 Q394.11 1461.26 392.281 1457.72 Q390.476 1454.16 386.841 1454.16 M386.841 1450.45 Q392.652 1450.45 395.707 1455.06 Q398.786 1459.64 398.786 1468.39 Q398.786 1477.12 395.707 1481.73 Q392.652 1486.31 386.841 1486.31 Q381.031 1486.31 377.953 1481.73 Q374.897 1477.12 374.897 1468.39 Q374.897 1459.64 377.953 1455.06 Q381.031 1450.45 386.841 1450.45 Z\" fill=\"#000000\" fill-rule=\"evenodd\" fill-opacity=\"1\" /><path clip-path=\"url(#clip710)\" d=\"M134.305 1276.81 L152.662 1276.81 L152.662 1280.75 L138.588 1280.75 L138.588 1289.22 Q139.606 1288.87 140.625 1288.71 Q141.643 1288.53 142.662 1288.53 Q148.449 1288.53 151.828 1291.7 Q155.208 1294.87 155.208 1300.29 Q155.208 1305.87 151.736 1308.97 Q148.263 1312.05 141.944 1312.05 Q139.768 1312.05 137.5 1311.68 Q135.254 1311.31 132.847 1310.56 L132.847 1305.87 Q134.93 1307 137.152 1307.56 Q139.375 1308.11 141.851 1308.11 Q145.856 1308.11 148.194 1306 Q150.532 1303.9 150.532 1300.29 Q150.532 1296.68 148.194 1294.57 Q145.856 1292.46 141.851 1292.46 Q139.976 1292.46 138.101 1292.88 Q136.25 1293.3 134.305 1294.18 L134.305 1276.81 Z\" fill=\"#000000\" fill-rule=\"evenodd\" fill-opacity=\"1\" /><path clip-path=\"url(#clip710)\" d=\"M164.421 1305.5 L169.305 1305.5 L169.305 1311.37 L164.421 1311.37 L164.421 1305.5 Z\" fill=\"#000000\" fill-rule=\"evenodd\" fill-opacity=\"1\" /><path clip-path=\"url(#clip710)\" d=\"M189.49 1279.89 Q185.879 1279.89 184.05 1283.46 Q182.245 1287 182.245 1294.13 Q182.245 1301.24 184.05 1304.8 Q185.879 1308.34 189.49 1308.34 Q193.124 1308.34 194.93 1304.8 Q196.758 1301.24 196.758 1294.13 Q196.758 1287 194.93 1283.46 Q193.124 1279.89 189.49 1279.89 M189.49 1276.19 Q195.3 1276.19 198.356 1280.8 Q201.434 1285.38 201.434 1294.13 Q201.434 1302.86 198.356 1307.46 Q195.3 1312.05 189.49 1312.05 Q183.68 1312.05 180.601 1307.46 Q177.546 1302.86 177.546 1294.13 Q177.546 1285.38 180.601 1280.8 Q183.68 1276.19 189.49 1276.19 Z\" fill=\"#000000\" fill-rule=\"evenodd\" fill-opacity=\"1\" /><path clip-path=\"url(#clip710)\" d=\"M219.652 1279.89 Q216.041 1279.89 214.212 1283.46 Q212.407 1287 212.407 1294.13 Q212.407 1301.24 214.212 1304.8 Q216.041 1308.34 219.652 1308.34 Q223.286 1308.34 225.092 1304.8 Q226.92 1301.24 226.92 1294.13 Q226.92 1287 225.092 1283.46 Q223.286 1279.89 219.652 1279.89 M219.652 1276.19 Q225.462 1276.19 228.518 1280.8 Q231.596 1285.38 231.596 1294.13 Q231.596 1302.86 228.518 1307.46 Q225.462 1312.05 219.652 1312.05 Q213.842 1312.05 210.763 1307.46 Q207.708 1302.86 207.708 1294.13 Q207.708 1285.38 210.763 1280.8 Q213.842 1276.19 219.652 1276.19 Z\" fill=\"#000000\" fill-rule=\"evenodd\" fill-opacity=\"1\" /><path clip-path=\"url(#clip710)\" d=\"M267.985 1285.91 L257.406 1296.54 L267.985 1307.12 L265.23 1309.92 L254.605 1299.29 L243.98 1309.92 L241.249 1307.12 L251.804 1296.54 L241.249 1285.91 L243.98 1283.11 L254.605 1293.74 L265.23 1283.11 L267.985 1285.91 Z\" fill=\"#000000\" fill-rule=\"evenodd\" fill-opacity=\"1\" /><path clip-path=\"url(#clip710)\" d=\"M280.346 1307.44 L287.985 1307.44 L287.985 1281.07 L279.675 1282.74 L279.675 1278.48 L287.939 1276.81 L292.614 1276.81 L292.614 1307.44 L300.253 1307.44 L300.253 1311.37 L280.346 1311.37 L280.346 1307.44 Z\" fill=\"#000000\" fill-rule=\"evenodd\" fill-opacity=\"1\" /><path clip-path=\"url(#clip710)\" d=\"M319.698 1279.89 Q316.087 1279.89 314.258 1283.46 Q312.452 1287 312.452 1294.13 Q312.452 1301.24 314.258 1304.8 Q316.087 1308.34 319.698 1308.34 Q323.332 1308.34 325.137 1304.8 Q326.966 1301.24 326.966 1294.13 Q326.966 1287 325.137 1283.46 Q323.332 1279.89 319.698 1279.89 M319.698 1276.19 Q325.508 1276.19 328.563 1280.8 Q331.642 1285.38 331.642 1294.13 Q331.642 1302.86 328.563 1307.46 Q325.508 1312.05 319.698 1312.05 Q313.887 1312.05 310.809 1307.46 Q307.753 1302.86 307.753 1294.13 Q307.753 1285.38 310.809 1280.8 Q313.887 1276.19 319.698 1276.19 Z\" fill=\"#000000\" fill-rule=\"evenodd\" fill-opacity=\"1\" /><path clip-path=\"url(#clip710)\" d=\"M336.212 1280.77 L349.472 1280.77 L349.472 1283.96 L331.642 1283.96 L331.642 1280.77 Q333.805 1278.53 337.529 1274.77 Q341.272 1270.99 342.231 1269.9 Q344.055 1267.85 344.77 1266.44 Q345.503 1265.01 345.503 1263.63 Q345.503 1261.4 343.924 1259.98 Q342.362 1258.57 339.842 1258.57 Q338.055 1258.57 336.062 1259.19 Q334.087 1259.82 331.83 1261.08 L331.83 1257.24 Q334.125 1256.32 336.118 1255.85 Q338.112 1255.38 339.767 1255.38 Q344.13 1255.38 346.726 1257.56 Q349.321 1259.74 349.321 1263.39 Q349.321 1265.12 348.663 1266.68 Q348.024 1268.22 346.312 1270.33 Q345.842 1270.87 343.322 1273.49 Q340.801 1276.08 336.212 1280.77 Z\" fill=\"#000000\" fill-rule=\"evenodd\" fill-opacity=\"1\" /><path clip-path=\"url(#clip710)\" d=\"M357.484 1255.88 L372.398 1255.88 L372.398 1259.08 L360.963 1259.08 L360.963 1265.97 Q361.791 1265.68 362.618 1265.55 Q363.446 1265.4 364.274 1265.4 Q368.975 1265.4 371.721 1267.98 Q374.467 1270.55 374.467 1274.96 Q374.467 1279.49 371.646 1282.01 Q368.825 1284.51 363.69 1284.51 Q361.923 1284.51 360.079 1284.21 Q358.255 1283.91 356.299 1283.31 L356.299 1279.49 Q357.992 1280.41 359.797 1280.86 Q361.603 1281.31 363.615 1281.31 Q366.869 1281.31 368.769 1279.6 Q370.668 1277.89 370.668 1274.96 Q370.668 1272.02 368.769 1270.31 Q366.869 1268.6 363.615 1268.6 Q362.092 1268.6 360.568 1268.94 Q359.064 1269.28 357.484 1269.99 L357.484 1255.88 Z\" fill=\"#000000\" fill-rule=\"evenodd\" fill-opacity=\"1\" /><path clip-path=\"url(#clip710)\" d=\"M382.611 1280.77 L388.818 1280.77 L388.818 1259.35 L382.066 1260.7 L382.066 1257.24 L388.78 1255.88 L392.579 1255.88 L392.579 1280.77 L398.786 1280.77 L398.786 1283.96 L382.611 1283.96 L382.611 1280.77 Z\" fill=\"#000000\" fill-rule=\"evenodd\" fill-opacity=\"1\" /><path clip-path=\"url(#clip710)\" d=\"M135.37 1126.73 L143.009 1126.73 L143.009 1100.36 L134.699 1102.03 L134.699 1097.77 L142.962 1096.1 L147.638 1096.1 L147.638 1126.73 L155.277 1126.73 L155.277 1130.66 L135.37 1130.66 L135.37 1126.73 Z\" fill=\"#000000\" fill-rule=\"evenodd\" fill-opacity=\"1\" /><path clip-path=\"url(#clip710)\" d=\"M164.722 1124.79 L169.606 1124.79 L169.606 1130.66 L164.722 1130.66 L164.722 1124.79 Z\" fill=\"#000000\" fill-rule=\"evenodd\" fill-opacity=\"1\" /><path clip-path=\"url(#clip710)\" d=\"M189.791 1099.18 Q186.18 1099.18 184.351 1102.75 Q182.546 1106.29 182.546 1113.42 Q182.546 1120.53 184.351 1124.09 Q186.18 1127.63 189.791 1127.63 Q193.425 1127.63 195.231 1124.09 Q197.059 1120.53 197.059 1113.42 Q197.059 1106.29 195.231 1102.75 Q193.425 1099.18 189.791 1099.18 M189.791 1095.48 Q195.601 1095.48 198.657 1100.09 Q201.735 1104.67 201.735 1113.42 Q201.735 1122.15 198.657 1126.75 Q195.601 1131.34 189.791 1131.34 Q183.981 1131.34 180.902 1126.75 Q177.847 1122.15 177.847 1113.42 Q177.847 1104.67 180.902 1100.09 Q183.981 1095.48 189.791 1095.48 Z\" fill=\"#000000\" fill-rule=\"evenodd\" fill-opacity=\"1\" /><path clip-path=\"url(#clip710)\" d=\"M219.953 1099.18 Q216.342 1099.18 214.513 1102.75 Q212.707 1106.29 212.707 1113.42 Q212.707 1120.53 214.513 1124.09 Q216.342 1127.63 219.953 1127.63 Q223.587 1127.63 225.393 1124.09 Q227.221 1120.53 227.221 1113.42 Q227.221 1106.29 225.393 1102.75 Q223.587 1099.18 219.953 1099.18 M219.953 1095.48 Q225.763 1095.48 228.819 1100.09 Q231.897 1104.67 231.897 1113.42 Q231.897 1122.15 228.819 1126.75 Q225.763 1131.34 219.953 1131.34 Q214.143 1131.34 211.064 1126.75 Q208.008 1122.15 208.008 1113.42 Q208.008 1104.67 211.064 1100.09 Q214.143 1095.48 219.953 1095.48 Z\" fill=\"#000000\" fill-rule=\"evenodd\" fill-opacity=\"1\" /><path clip-path=\"url(#clip710)\" d=\"M268.286 1105.2 L257.707 1115.83 L268.286 1126.41 L265.531 1129.21 L254.906 1118.58 L244.281 1129.21 L241.55 1126.41 L252.105 1115.83 L241.55 1105.2 L244.281 1102.4 L254.906 1113.03 L265.531 1102.4 L268.286 1105.2 Z\" fill=\"#000000\" fill-rule=\"evenodd\" fill-opacity=\"1\" /><path clip-path=\"url(#clip710)\" d=\"M280.647 1126.73 L288.286 1126.73 L288.286 1100.36 L279.976 1102.03 L279.976 1097.77 L288.239 1096.1 L292.915 1096.1 L292.915 1126.73 L300.554 1126.73 L300.554 1130.66 L280.647 1130.66 L280.647 1126.73 Z\" fill=\"#000000\" fill-rule=\"evenodd\" fill-opacity=\"1\" /><path clip-path=\"url(#clip710)\" d=\"M319.999 1099.18 Q316.387 1099.18 314.559 1102.75 Q312.753 1106.29 312.753 1113.42 Q312.753 1120.53 314.559 1124.09 Q316.387 1127.63 319.999 1127.63 Q323.633 1127.63 325.438 1124.09 Q327.267 1120.53 327.267 1113.42 Q327.267 1106.29 325.438 1102.75 Q323.633 1099.18 319.999 1099.18 M319.999 1095.48 Q325.809 1095.48 328.864 1100.09 Q331.943 1104.67 331.943 1113.42 Q331.943 1122.15 328.864 1126.75 Q325.809 1131.34 319.999 1131.34 Q314.188 1131.34 311.11 1126.75 Q308.054 1122.15 308.054 1113.42 Q308.054 1104.67 311.11 1100.09 Q314.188 1095.48 319.999 1095.48 Z\" fill=\"#000000\" fill-rule=\"evenodd\" fill-opacity=\"1\" /><path clip-path=\"url(#clip710)\" d=\"M336.513 1100.06 L349.773 1100.06 L349.773 1103.25 L331.943 1103.25 L331.943 1100.06 Q334.106 1097.82 337.83 1094.06 Q341.573 1090.28 342.532 1089.19 Q344.356 1087.14 345.071 1085.73 Q345.804 1084.3 345.804 1082.92 Q345.804 1080.69 344.224 1079.27 Q342.663 1077.86 340.143 1077.86 Q338.356 1077.86 336.363 1078.48 Q334.388 1079.11 332.131 1080.37 L332.131 1076.53 Q334.426 1075.61 336.419 1075.14 Q338.413 1074.67 340.068 1074.67 Q344.431 1074.67 347.027 1076.85 Q349.622 1079.03 349.622 1082.68 Q349.622 1084.41 348.964 1085.97 Q348.325 1087.51 346.613 1089.62 Q346.143 1090.16 343.623 1092.78 Q341.102 1095.37 336.513 1100.06 Z\" fill=\"#000000\" fill-rule=\"evenodd\" fill-opacity=\"1\" /><path clip-path=\"url(#clip710)\" d=\"M357.785 1075.17 L372.699 1075.17 L372.699 1078.37 L361.264 1078.37 L361.264 1085.26 Q362.092 1084.97 362.919 1084.84 Q363.747 1084.69 364.574 1084.69 Q369.276 1084.69 372.022 1087.27 Q374.768 1089.84 374.768 1094.25 Q374.768 1098.78 371.947 1101.3 Q369.126 1103.8 363.991 1103.8 Q362.223 1103.8 360.38 1103.5 Q358.556 1103.2 356.6 1102.6 L356.6 1098.78 Q358.293 1099.7 360.098 1100.15 Q361.904 1100.6 363.916 1100.6 Q367.17 1100.6 369.069 1098.89 Q370.969 1097.18 370.969 1094.25 Q370.969 1091.31 369.069 1089.6 Q367.17 1087.89 363.916 1087.89 Q362.393 1087.89 360.869 1088.23 Q359.365 1088.57 357.785 1089.28 L357.785 1075.17 Z\" fill=\"#000000\" fill-rule=\"evenodd\" fill-opacity=\"1\" /><path clip-path=\"url(#clip710)\" d=\"M385.526 1100.06 L398.786 1100.06 L398.786 1103.25 L380.956 1103.25 L380.956 1100.06 Q383.119 1097.82 386.843 1094.06 Q390.586 1090.28 391.545 1089.19 Q393.369 1087.14 394.084 1085.73 Q394.817 1084.3 394.817 1082.92 Q394.817 1080.69 393.237 1079.27 Q391.676 1077.86 389.156 1077.86 Q387.369 1077.86 385.376 1078.48 Q383.401 1079.11 381.144 1080.37 L381.144 1076.53 Q383.439 1075.61 385.432 1075.14 Q387.426 1074.67 389.081 1074.67 Q393.444 1074.67 396.04 1076.85 Q398.635 1079.03 398.635 1082.68 Q398.635 1084.41 397.977 1085.97 Q397.338 1087.51 395.626 1089.62 Q395.156 1090.16 392.636 1092.78 Q390.115 1095.37 385.526 1100.06 Z\" fill=\"#000000\" fill-rule=\"evenodd\" fill-opacity=\"1\" /><path clip-path=\"url(#clip710)\" d=\"M135.37 946.02 L143.009 946.02 L143.009 919.654 L134.699 921.321 L134.699 917.062 L142.962 915.395 L147.638 915.395 L147.638 946.02 L155.277 946.02 L155.277 949.955 L135.37 949.955 L135.37 946.02 Z\" fill=\"#000000\" fill-rule=\"evenodd\" fill-opacity=\"1\" /><path clip-path=\"url(#clip710)\" d=\"M164.722 944.075 L169.606 944.075 L169.606 949.955 L164.722 949.955 L164.722 944.075 Z\" fill=\"#000000\" fill-rule=\"evenodd\" fill-opacity=\"1\" /><path clip-path=\"url(#clip710)\" d=\"M179.837 915.395 L198.194 915.395 L198.194 919.33 L184.12 919.33 L184.12 927.802 Q185.138 927.455 186.157 927.293 Q187.175 927.108 188.194 927.108 Q193.981 927.108 197.36 930.279 Q200.74 933.45 200.74 938.867 Q200.74 944.446 197.268 947.548 Q193.796 950.626 187.476 950.626 Q185.3 950.626 183.032 950.256 Q180.786 949.886 178.379 949.145 L178.379 944.446 Q180.462 945.58 182.684 946.136 Q184.907 946.691 187.384 946.691 Q191.388 946.691 193.726 944.585 Q196.064 942.478 196.064 938.867 Q196.064 935.256 193.726 933.15 Q191.388 931.043 187.384 931.043 Q185.509 931.043 183.634 931.46 Q181.782 931.876 179.837 932.756 L179.837 915.395 Z\" fill=\"#000000\" fill-rule=\"evenodd\" fill-opacity=\"1\" /><path clip-path=\"url(#clip710)\" d=\"M219.953 918.474 Q216.342 918.474 214.513 922.038 Q212.707 925.58 212.707 932.71 Q212.707 939.816 214.513 943.381 Q216.342 946.923 219.953 946.923 Q223.587 946.923 225.393 943.381 Q227.221 939.816 227.221 932.71 Q227.221 925.58 225.393 922.038 Q223.587 918.474 219.953 918.474 M219.953 914.77 Q225.763 914.77 228.819 919.376 Q231.897 923.96 231.897 932.71 Q231.897 941.437 228.819 946.043 Q225.763 950.626 219.953 950.626 Q214.143 950.626 211.064 946.043 Q208.008 941.437 208.008 932.71 Q208.008 923.96 211.064 919.376 Q214.143 914.77 219.953 914.77 Z\" fill=\"#000000\" fill-rule=\"evenodd\" fill-opacity=\"1\" /><path clip-path=\"url(#clip710)\" d=\"M268.286 924.492 L257.707 935.117 L268.286 945.696 L265.531 948.497 L254.906 937.872 L244.281 948.497 L241.55 945.696 L252.105 935.117 L241.55 924.492 L244.281 921.691 L254.906 932.316 L265.531 921.691 L268.286 924.492 Z\" fill=\"#000000\" fill-rule=\"evenodd\" fill-opacity=\"1\" /><path clip-path=\"url(#clip710)\" d=\"M280.647 946.02 L288.286 946.02 L288.286 919.654 L279.976 921.321 L279.976 917.062 L288.239 915.395 L292.915 915.395 L292.915 946.02 L300.554 946.02 L300.554 949.955 L280.647 949.955 L280.647 946.02 Z\" fill=\"#000000\" fill-rule=\"evenodd\" fill-opacity=\"1\" /><path clip-path=\"url(#clip710)\" d=\"M319.999 918.474 Q316.387 918.474 314.559 922.038 Q312.753 925.58 312.753 932.71 Q312.753 939.816 314.559 943.381 Q316.387 946.923 319.999 946.923 Q323.633 946.923 325.438 943.381 Q327.267 939.816 327.267 932.71 Q327.267 925.58 325.438 922.038 Q323.633 918.474 319.999 918.474 M319.999 914.77 Q325.809 914.77 328.864 919.376 Q331.943 923.96 331.943 932.71 Q331.943 941.437 328.864 946.043 Q325.809 950.626 319.999 950.626 Q314.188 950.626 311.11 946.043 Q308.054 941.437 308.054 932.71 Q308.054 923.96 311.11 919.376 Q314.188 914.77 319.999 914.77 Z\" fill=\"#000000\" fill-rule=\"evenodd\" fill-opacity=\"1\" /><path clip-path=\"url(#clip710)\" d=\"M336.513 919.347 L349.773 919.347 L349.773 922.545 L331.943 922.545 L331.943 919.347 Q334.106 917.109 337.83 913.348 Q341.573 909.567 342.532 908.476 Q344.356 906.426 345.071 905.016 Q345.804 903.586 345.804 902.213 Q345.804 899.975 344.224 898.565 Q342.663 897.154 340.143 897.154 Q338.356 897.154 336.363 897.775 Q334.388 898.395 332.131 899.656 L332.131 895.819 Q334.426 894.897 336.419 894.427 Q338.413 893.957 340.068 893.957 Q344.431 893.957 347.027 896.138 Q349.622 898.32 349.622 901.969 Q349.622 903.699 348.964 905.26 Q348.325 906.802 346.613 908.909 Q346.143 909.454 343.623 912.069 Q341.102 914.664 336.513 919.347 Z\" fill=\"#000000\" fill-rule=\"evenodd\" fill-opacity=\"1\" /><path clip-path=\"url(#clip710)\" d=\"M357.785 894.465 L372.699 894.465 L372.699 897.662 L361.264 897.662 L361.264 904.546 Q362.092 904.263 362.919 904.132 Q363.747 903.981 364.574 903.981 Q369.276 903.981 372.022 906.558 Q374.768 909.135 374.768 913.536 Q374.768 918.068 371.947 920.589 Q369.126 923.09 363.991 923.09 Q362.223 923.09 360.38 922.789 Q358.556 922.488 356.6 921.886 L356.6 918.068 Q358.293 918.99 360.098 919.441 Q361.904 919.893 363.916 919.893 Q367.17 919.893 369.069 918.181 Q370.969 916.47 370.969 913.536 Q370.969 910.602 369.069 908.89 Q367.17 907.179 363.916 907.179 Q362.393 907.179 360.869 907.517 Q359.365 907.856 357.785 908.57 L357.785 894.465 Z\" fill=\"#000000\" fill-rule=\"evenodd\" fill-opacity=\"1\" /><path clip-path=\"url(#clip710)\" d=\"M385.526 919.347 L398.786 919.347 L398.786 922.545 L380.956 922.545 L380.956 919.347 Q383.119 917.109 386.843 913.348 Q390.586 909.567 391.545 908.476 Q393.369 906.426 394.084 905.016 Q394.817 903.586 394.817 902.213 Q394.817 899.975 393.237 898.565 Q391.676 897.154 389.156 897.154 Q387.369 897.154 385.376 897.775 Q383.401 898.395 381.144 899.656 L381.144 895.819 Q383.439 894.897 385.432 894.427 Q387.426 893.957 389.081 893.957 Q393.444 893.957 396.04 896.138 Q398.635 898.32 398.635 901.969 Q398.635 903.699 397.977 905.26 Q397.338 906.802 395.626 908.909 Q395.156 909.454 392.636 912.069 Q390.115 914.664 385.526 919.347 Z\" fill=\"#000000\" fill-rule=\"evenodd\" fill-opacity=\"1\" /><path clip-path=\"url(#clip710)\" d=\"M42.786 1225.35 Q43.3979 1225.35 43.9132 1225.48 L55.3785 1227.28 Q56.2481 1227.38 56.5701 1227.57 Q56.8922 1227.73 56.8922 1228.25 Q56.8922 1229.05 56.0548 1229.05 Q55.5717 1229.05 54.7988 1228.86 Q51.1595 1228.31 49.517 1228.31 Q48.422 1228.31 47.6169 1228.54 Q46.7795 1228.73 46.1998 1229.05 Q45.6201 1229.34 45.2337 1230.02 Q44.8472 1230.7 44.6217 1231.34 Q44.3963 1231.98 44.2997 1233.14 Q44.1709 1234.3 44.1387 1235.3 Q44.1064 1236.3 44.1064 1237.94 Q44.1064 1241.52 44.2353 1242.1 Q44.3963 1242.71 44.8794 1243.03 Q45.3303 1243.32 46.6829 1243.64 L81.6907 1252.4 L83.0755 1252.66 Q83.8485 1252.66 84.1061 1252.18 Q84.3638 1251.69 84.5248 1250.21 Q84.6858 1248.09 84.6858 1245.99 Q84.6858 1245.93 84.6858 1245.8 Q84.6858 1245.09 84.718 1244.8 Q84.718 1244.51 84.7825 1244.22 Q84.8469 1243.93 85.0079 1243.87 Q85.1367 1243.77 85.3944 1243.77 Q86.0063 1243.77 86.3283 1244.03 Q86.6182 1244.29 86.6826 1244.54 Q86.7148 1244.77 86.7148 1245.22 Q86.7148 1246.12 86.6504 1248.06 Q86.586 1249.99 86.586 1250.95 L86.5216 1256.43 L86.586 1262.03 Q86.586 1262.9 86.6504 1264.74 Q86.7148 1266.57 86.7148 1267.44 Q86.7148 1268.57 85.9097 1268.57 Q85.0079 1268.57 84.8469 1268.15 Q84.6858 1267.7 84.6858 1265.8 Q84.6858 1263.13 84.557 1261.68 Q84.4282 1260.23 83.9773 1259.46 Q83.5264 1258.65 83.0755 1258.43 Q82.5925 1258.2 81.4975 1257.94 L46.2964 1249.09 Q45.5235 1248.83 44.9116 1248.83 Q44.5895 1248.83 44.4607 1248.92 Q44.3319 1248.99 44.2353 1249.41 Q44.1064 1249.83 44.1064 1250.7 L44.1064 1253.27 Q44.1064 1255.91 44.2353 1257.56 Q44.3319 1259.17 44.815 1260.71 Q45.2981 1262.23 45.9744 1263.13 Q46.6507 1264 48.0356 1264.96 Q49.4204 1265.93 51.0951 1266.64 Q52.7698 1267.31 55.5073 1268.28 Q56.4091 1268.6 56.6667 1268.8 Q56.8922 1268.96 56.8922 1269.41 Q56.8922 1269.73 56.6989 1269.99 Q56.4735 1270.21 56.1836 1270.21 Q55.1209 1269.89 54.992 1269.83 L43.3657 1265.87 Q42.4317 1265.54 42.2707 1265.25 Q42.0775 1264.93 42.0775 1263.74 L42.0775 1227.15 Q42.0775 1226.57 42.0775 1226.38 Q42.0775 1226.19 42.1419 1225.87 Q42.2063 1225.54 42.3673 1225.45 Q42.5284 1225.35 42.786 1225.35 Z\" fill=\"#000000\" fill-rule=\"evenodd\" fill-opacity=\"1\" /><path clip-path=\"url(#clip710)\" d=\"M87.5873 1199.95 Q88.7822 1199.95 89.5487 1200.74 Q90.3152 1201.5 90.3152 1202.5 Q90.3152 1203.35 89.8192 1203.8 Q89.3232 1204.26 88.692 1204.26 Q87.7902 1204.26 87.0463 1203.56 Q86.3023 1202.86 86.1445 1201.84 Q85.6034 1202.59 85.6034 1203.78 Q85.6034 1205.74 87.1139 1207.48 Q87.8128 1208.25 89.0978 1209.08 Q90.3602 1209.91 90.9013 1210.07 L96.9206 1211.54 Q97.5969 1211.67 100.843 1212.51 Q104.067 1213.32 104.202 1213.39 Q104.834 1213.61 105.172 1214.11 Q105.51 1214.6 105.51 1215.1 Q105.51 1215.66 105.172 1216.05 Q104.834 1216.43 104.247 1216.43 Q104.157 1216.43 103.819 1216.36 Q103.481 1216.29 103.007 1216.18 Q102.534 1216.07 102.264 1216.02 L91.6002 1213.34 Q89.6614 1212.84 89.0527 1212.73 Q88.4214 1212.6 87.7226 1212.6 Q86.5052 1212.6 86.0543 1212.98 Q85.6034 1213.36 85.6034 1214.04 Q85.6034 1215.21 87.0012 1215.98 Q88.3989 1216.74 91.1042 1217.4 Q91.8482 1217.6 92.006 1217.74 Q92.1638 1217.85 92.1638 1218.19 Q92.1412 1218.75 91.6903 1218.75 Q91.5776 1218.75 90.8562 1218.57 Q90.1123 1218.39 89.0301 1218.05 Q87.9255 1217.69 87.2266 1217.31 Q86.7532 1217.08 86.4376 1216.88 Q86.122 1216.68 85.626 1216.27 Q85.13 1215.87 84.8595 1215.26 Q84.589 1214.65 84.589 1213.9 Q84.589 1212.28 85.5809 1211.13 Q86.5728 1209.96 88.1284 1209.69 Q87.3168 1209.12 86.6179 1208.43 Q85.8965 1207.73 85.2427 1206.44 Q84.589 1205.16 84.589 1203.78 Q84.589 1202.07 85.4682 1201.01 Q86.3248 1199.95 87.5873 1199.95 Z\" fill=\"#000000\" fill-rule=\"evenodd\" fill-opacity=\"1\" /><path clip-path=\"url(#clip710)\" d=\"M104.991 1196.66 Q104.157 1196.66 103.909 1196.6 Q103.661 1196.51 103.278 1196.14 L93.4037 1187.28 Q87.948 1182.44 83.1912 1182.44 Q80.1027 1182.44 77.8934 1184.06 Q75.684 1185.66 75.684 1188.61 Q75.684 1190.64 76.924 1192.36 Q78.1639 1194.07 80.3732 1194.86 Q80.3281 1194.72 80.3281 1194.25 Q80.3281 1193.1 81.0495 1192.47 Q81.7709 1191.82 82.7403 1191.82 Q83.9803 1191.82 84.589 1192.63 Q85.1751 1193.42 85.1751 1194.21 Q85.1751 1194.52 85.1075 1194.95 Q85.0398 1195.36 84.4086 1196.01 Q83.7548 1196.66 82.6051 1196.66 Q79.3813 1196.66 76.8112 1194.23 Q74.2412 1191.77 74.2412 1188.03 Q74.2412 1183.79 76.7661 1181.02 Q79.2685 1178.22 83.1912 1178.22 Q84.5664 1178.22 85.8289 1178.65 Q87.0688 1179.06 88.0382 1179.62 Q89.0076 1180.16 90.5631 1181.65 Q92.1187 1183.14 93.2233 1184.33 Q94.328 1185.53 96.6726 1188.21 L101.429 1193.1 L101.429 1184.78 Q101.429 1180.72 101.069 1180.41 Q100.415 1179.96 96.9657 1179.39 L96.9657 1178.22 L104.991 1179.53 L104.991 1196.66 Z\" fill=\"#000000\" fill-rule=\"evenodd\" fill-opacity=\"1\" /><path clip-path=\"url(#clip710)\" d=\"M19.0827 1191.36 L29.1824 1193.86 Q29.7911 1194 29.9489 1194.11 Q30.1067 1194.22 30.1067 1194.54 Q30.1067 1194.79 29.994 1194.94 Q29.8813 1195.08 29.7686 1195.08 L29.6559 1195.1 Q29.5882 1195.1 29.2501 1195.06 Q28.8894 1195.01 28.3032 1194.97 Q27.7171 1194.92 27.0633 1194.92 Q23.366 1194.92 21.6527 1196.73 Q19.9168 1198.51 19.9168 1201.57 Q19.9168 1203.69 21.044 1205.59 Q22.1712 1207.48 23.9522 1208.56 Q25.7106 1209.64 27.5593 1209.64 Q29.2501 1209.64 30.3322 1208.79 Q31.4143 1207.93 31.775 1206.83 L32.6091 1203.74 Q33.4433 1200.49 33.804 1199.57 Q34.1421 1198.64 34.9086 1197.88 Q37.0278 1195.6 40.3192 1195.6 Q43.1598 1195.6 45.9102 1197.2 Q48.638 1198.8 50.419 1201.55 Q52.1774 1204.3 52.1774 1207.34 Q52.1774 1212.69 48.8634 1215.14 L51.4785 1217.4 Q51.9745 1217.83 52.0647 1217.96 Q52.1774 1218.07 52.1774 1218.23 Q52.1774 1218.44 52.0421 1218.59 Q51.9294 1218.75 51.7265 1218.75 Q51.5687 1218.75 46.2709 1217.42 Q40.973 1216.09 40.8603 1215.98 Q40.6799 1215.8 40.6799 1215.5 Q40.6799 1214.96 41.1984 1214.96 Q41.3337 1215.01 41.5141 1215.05 Q43.1372 1215.32 44.0164 1215.32 Q45.6622 1215.32 46.9246 1214.76 Q48.1646 1214.2 48.886 1213.36 Q49.5848 1212.51 50.0357 1211.36 Q50.4641 1210.21 50.6219 1209.24 Q50.7571 1208.27 50.7571 1207.25 Q50.7571 1205.07 49.4947 1203.13 Q48.2322 1201.17 46.2709 1200.06 Q44.3095 1198.93 42.258 1198.93 Q41.1759 1198.93 40.3418 1199.23 Q39.4851 1199.52 39.0117 1199.93 Q38.5382 1200.31 38.1775 1200.96 Q37.8168 1201.62 37.6816 1202.07 Q37.5237 1202.5 37.3659 1203.17 L36.0584 1208.11 Q35.4722 1210.09 33.7814 1211.51 Q32.0906 1212.91 29.498 1212.91 Q26.7702 1212.91 24.2453 1211.31 Q21.6978 1209.69 20.1648 1207.05 Q18.6092 1204.39 18.6092 1201.53 Q18.6092 1199.27 19.4885 1197.54 Q20.3451 1195.8 21.9458 1194.92 L19.3081 1192.69 Q18.7896 1192.24 18.6994 1192.15 Q18.6092 1192.04 18.6092 1191.88 Q18.6092 1191.61 18.7671 1191.5 Q18.9249 1191.36 19.0827 1191.36 Z\" fill=\"#000000\" fill-rule=\"evenodd\" fill-opacity=\"1\" /><path clip-path=\"url(#clip710)\" d=\"M26.5899 1155.74 Q29.1148 1155.74 31.4368 1157.61 Q33.7589 1159.46 35.1792 1162.48 Q36.5769 1165.47 36.5769 1168.7 L36.5769 1176.54 L48.1195 1179.41 Q48.1871 1179.43 48.4802 1179.5 Q48.7507 1179.57 48.9085 1179.57 Q49.4721 1179.57 49.6074 1178.87 Q49.7426 1178.14 49.7426 1176.54 Q49.7426 1175.51 49.923 1175.35 Q50.0357 1175.26 50.2386 1175.26 Q50.5542 1175.26 50.7797 1175.35 Q50.9826 1175.44 51.0502 1175.62 Q51.1178 1175.78 51.1404 1175.89 Q51.1629 1176 51.1629 1176.18 Q51.1629 1176.66 51.1178 1177.67 Q51.0728 1178.66 51.0728 1179.18 L51.0277 1182.14 L51.1629 1188 Q51.1629 1188.7 50.5993 1188.7 Q50.171 1188.7 49.9906 1188.52 Q49.7877 1188.33 49.7652 1188.13 Q49.7426 1187.93 49.7426 1187.41 Q49.7426 1186.28 49.675 1185.61 Q49.6074 1184.93 49.5172 1184.5 Q49.4045 1184.05 49.0889 1183.83 Q48.7733 1183.58 48.5027 1183.47 Q48.2096 1183.35 47.5559 1183.19 L22.7574 1177.02 Q22.0134 1176.84 21.9007 1176.84 Q21.5174 1176.84 21.3822 1177.06 Q21.2244 1177.27 21.1567 1177.85 Q21.0665 1178.98 21.0665 1179.84 Q21.0665 1180.4 21.044 1180.62 Q21.0215 1180.83 20.9087 1181.01 Q20.7735 1181.17 20.5029 1181.17 Q20.0746 1181.17 19.8943 1180.99 Q19.6914 1180.78 19.6688 1180.56 Q19.6237 1180.33 19.6237 1179.79 L19.6237 1164.82 Q19.6237 1160.52 21.6752 1158.13 Q23.7268 1155.74 26.5899 1155.74 M25.4852 1160.02 Q21.0665 1160.02 21.0665 1166.31 L21.0665 1170.73 Q21.0665 1172.19 21.3371 1172.55 Q21.5851 1172.91 22.825 1173.23 L35.3821 1176.36 L35.3821 1169.85 Q35.3821 1165.47 32.9247 1162.75 Q31.7975 1161.51 29.453 1160.76 Q27.1084 1160.02 25.4852 1160.02 Z\" fill=\"#000000\" fill-rule=\"evenodd\" fill-opacity=\"1\" /><path clip-path=\"url(#clip710)\" d=\"M103.204 1152.32 L37.2466 1152.32 L37.2466 1142.36 L38.7603 1142.36 L38.7603 1147.9 L101.691 1147.9 L101.691 1142.36 L103.204 1142.36 L103.204 1152.32 Z\" fill=\"#000000\" fill-rule=\"evenodd\" fill-opacity=\"1\" /><path clip-path=\"url(#clip710)\" d=\"M42.3995 1083.84 Q42.8182 1083.84 43.1081 1083.93 Q43.3657 1084.03 43.4945 1084.26 Q43.6234 1084.48 43.6556 1084.61 Q43.6878 1084.74 43.72 1085.03 Q43.8488 1086.41 44.0742 1087.38 Q44.2997 1088.31 45.4591 1090.63 Q46.6185 1092.92 48.7119 1095.79 L57.6329 1107.32 L59.1466 1109.25 Q59.2432 1109.25 59.4364 1109.18 Q59.5975 1109.12 59.8229 1109.06 Q60.0161 1108.96 60.0806 1108.93 L81.6907 1099.55 Q83.4298 1098.81 84.0417 1097.91 Q84.6536 1097.01 84.6858 1094.98 Q84.6858 1094.66 84.718 1094.53 Q84.718 1094.37 84.7825 1094.14 Q84.8147 1093.89 84.9757 1093.79 Q85.1367 1093.66 85.3944 1093.66 Q86.7148 1093.66 86.7148 1094.85 Q86.7148 1095.59 86.6182 1098.11 Q86.5216 1100.62 86.5216 1101.33 Q86.5216 1102.65 86.6182 1105.35 Q86.7148 1108.06 86.7148 1109.38 Q86.7148 1110.31 85.9741 1110.31 Q85.3622 1110.31 85.0723 1110.09 Q84.7502 1109.83 84.718 1109.6 Q84.6858 1109.38 84.6858 1108.86 Q84.6858 1108.48 84.6536 1108.06 Q84.5892 1107.61 84.4282 1106.96 Q84.235 1106.29 83.7841 1105.87 Q83.301 1105.42 82.6247 1105.42 Q82.0772 1105.42 80.3058 1106.22 L62.5604 1113.85 L70.2254 1123.68 L80.5957 1126.32 Q80.9822 1126.38 81.6585 1126.54 Q82.3348 1126.7 82.8179 1126.83 Q83.301 1126.93 83.4942 1126.93 Q83.9129 1126.93 84.1705 1126.67 Q84.4282 1126.38 84.557 1125.67 Q84.6536 1124.96 84.6858 1124.42 Q84.6858 1123.84 84.6858 1122.65 Q84.6858 1121.16 84.9435 1120.91 Q85.1045 1120.78 85.3944 1120.78 Q85.8452 1120.78 86.1673 1120.91 Q86.4572 1121.04 86.5538 1121.29 Q86.6504 1121.52 86.6826 1121.68 Q86.7148 1121.84 86.7148 1122.1 Q86.7148 1122.77 86.6504 1124.22 Q86.586 1125.64 86.586 1126.38 L86.5216 1130.6 L86.7148 1138.97 Q86.7148 1139.97 85.9097 1139.97 Q85.2977 1139.97 85.0401 1139.72 Q84.7502 1139.46 84.718 1139.17 Q84.6858 1138.88 84.6858 1138.14 Q84.6858 1136.53 84.5892 1135.56 Q84.4926 1134.59 84.3638 1133.98 Q84.2027 1133.34 83.7519 1133.02 Q83.301 1132.66 82.9145 1132.5 Q82.4958 1132.34 81.5619 1132.11 L46.1354 1123.29 Q45.0726 1123.03 44.9116 1123.03 Q44.3641 1123.03 44.1709 1123.35 Q43.9454 1123.64 43.8488 1124.48 Q43.72 1126.09 43.72 1127.32 Q43.72 1128.12 43.6878 1128.44 Q43.6556 1128.73 43.4945 1128.99 Q43.3013 1129.22 42.9148 1129.22 Q41.6588 1129.22 41.6588 1127.9 L41.852 1119.39 L41.6588 1110.96 Q41.6588 1110.02 42.3995 1110.02 Q43.3335 1110.02 43.5267 1110.47 Q43.72 1110.89 43.72 1112.28 Q43.72 1114.69 44.042 1115.79 Q44.3319 1116.85 44.8472 1117.17 Q45.3303 1117.46 46.7473 1117.82 L67.9066 1123.1 L48.1322 1097.36 Q46.1354 1094.98 45.1048 1094.98 Q44.4285 1094.98 44.1387 1095.46 Q43.8166 1095.92 43.72 1097.04 Q43.5912 1097.85 42.9792 1097.85 Q42.3673 1097.85 42.0775 1097.62 Q41.7554 1097.36 41.7232 1097.17 Q41.6588 1096.95 41.6588 1096.59 Q41.6588 1095.4 41.7554 1092.92 Q41.852 1090.44 41.852 1089.25 Q41.852 1088.44 41.7554 1086.87 Q41.6588 1085.29 41.6588 1084.58 Q41.6588 1084.22 41.9164 1084.03 Q42.1419 1083.84 42.3995 1083.84 Z\" fill=\"#000000\" fill-rule=\"evenodd\" fill-opacity=\"1\" /><path clip-path=\"url(#clip710)\" d=\"M101.691 1081.63 L101.691 1076.09 L38.7603 1076.09 L38.7603 1081.63 L37.2466 1081.63 L37.2466 1071.68 L103.204 1071.68 L103.204 1081.63 L101.691 1081.63 Z\" fill=\"#000000\" fill-rule=\"evenodd\" fill-opacity=\"1\" /><polyline clip-path=\"url(#clip714)\" style=\"stroke:#000000; stroke-linecap:round; stroke-linejoin:round; stroke-width:4; stroke-opacity:1; fill:none\" stroke-dasharray=\"2, 4\" points=\"489.068,1468.36 535.463,1468.36 581.858,1468.36 628.253,1468.36 674.648,1468.36 721.043,1468.36 767.438,1468.36 813.833,1468.36 860.228,1468.36 906.623,1468.36 953.018,1468.36 999.413,1468.36 1045.81,1468.36 1092.2,1468.36 1138.6,1468.36 1184.99,1468.36 1231.39,1468.36 1277.78,1468.36 1324.18,1468.36 1370.57,1468.36 1416.97,1468.36 1463.36,1468.36 1509.76,1468.36 1556.15,1468.36 1602.55,1468.36 1648.94,1468.36 1695.34,1468.36 1741.73,1468.36 1788.13,1468.36 1834.52,1468.36 1880.92,1468.36 1927.31,1468.36 1973.71,1468.36 2020.1,1468.36 2066.5,1468.36 2112.89,1468.36 2159.29,1468.36 2205.68,1468.36 2252.08,1468.36 2298.47,1468.36 \"/>\n",
       "<polyline clip-path=\"url(#clip714)\" style=\"stroke:#ff0000; stroke-linecap:round; stroke-linejoin:round; stroke-width:12; stroke-opacity:0.3; fill:none\" points=\"489.068,1468.36 535.463,1468.36 581.858,1468.36 628.253,1468.36 674.648,1468.36 721.043,1468.36 767.438,1468.36 813.833,1468.36 860.228,1468.36 906.623,1468.36 953.018,1468.36 999.413,1468.36 1045.81,1468.36 1092.2,1468.36 1138.6,1468.36 1184.99,1468.36 1231.39,1468.36 1277.78,1468.36 1324.18,1468.36 1370.57,1468.36 1416.97,1468.36 1463.36,1468.36 1509.76,1468.36 1556.15,1468.36 1602.55,1468.36 1648.94,1468.36 1695.34,1468.36 1741.73,1468.36 1788.13,1468.36 1834.52,1468.36 1880.92,1468.36 1927.31,1468.36 1973.71,1468.36 2020.1,1468.36 2066.5,1468.36 2112.89,1468.36 2159.29,1468.36 2205.68,1468.36 2252.08,1468.36 2298.47,1468.36 \"/>\n",
       "<polyline clip-path=\"url(#clip714)\" style=\"stroke:#0000ff; stroke-linecap:round; stroke-linejoin:round; stroke-width:12; stroke-opacity:0.3; fill:none\" points=\"489.068,1468.36 535.463,1468.36 581.858,1468.36 628.253,1468.36 674.648,1468.36 721.043,1468.36 767.438,1468.36 813.833,1468.36 860.228,1468.36 906.623,1468.36 953.018,1468.36 999.413,1468.36 1045.81,1468.36 1092.2,1468.36 1138.6,1468.36 1184.99,1468.36 1231.39,1468.36 1277.78,1468.36 1324.18,1468.36 1370.57,1468.36 1416.97,1468.36 1463.36,1468.36 1509.76,1468.36 1556.15,1468.36 1602.55,1468.36 1648.94,1468.36 1695.34,1468.36 1741.73,1468.36 1788.13,1468.36 1834.52,1468.36 1880.92,1468.36 1927.31,1468.36 1973.71,1468.36 2020.1,1468.36 2066.5,1468.36 2112.89,865.335 2159.29,1468.36 2205.68,1468.36 2252.08,1468.36 2298.47,1468.36 \"/>\n",
       "</svg>\n"
      ]
     },
     "metadata": {},
     "output_type": "display_data"
    }
   ],
   "source": [
    "p6 = plot(layout = (num_subplots, 1),fmt = :svg, resolution = (600, 400), latex=true,gridlinewidth=2,legend=:topleft) \n",
    "\n",
    "# Loop to generate subplots \n",
    "for mm in 1:num_subplots  \n",
    "    # limits\n",
    "    #plot!(subplot=mm,ts,yspMin[2]*ones(length(ts)),linestyle = :dot,linecolor = :black,label=\"\")\n",
    "    plot!(subplot=mm,ts,yspMax[2]*ones(length(ts)),linestyle = :dot,linecolor = :black,label=\"\")\n",
    "    \n",
    "    for nn in 1:n_MC\n",
    "        plot!(subplot=mm,ts,yspPlant[2,:,nn,mm],linewidth=3,linealpha = 0.3,linecolor = CList[nn],legend=false)\n",
    "    end\n",
    "    \n",
    "    # Add labels, titles, or other customizations to each subplot \n",
    "    ylabel!(L\"T_{r2}^{SP} [K]\") \n",
    "end \n",
    "\n",
    "\n",
    "# Display the subplots \n",
    "display(p6)"
   ]
  },
  {
   "cell_type": "code",
   "execution_count": 26,
   "id": "974b006b",
   "metadata": {},
   "outputs": [
    {
     "data": {
      "image/svg+xml": [
       "<?xml version=\"1.0\" encoding=\"utf-8\"?>\n",
       "<svg xmlns=\"http://www.w3.org/2000/svg\" xmlns:xlink=\"http://www.w3.org/1999/xlink\" width=\"600\" height=\"400\" viewBox=\"0 0 2400 1600\">\n",
       "<defs>\n",
       "  <clipPath id=\"clip750\">\n",
       "    <rect x=\"0\" y=\"0\" width=\"2400\" height=\"1600\"/>\n",
       "  </clipPath>\n",
       "</defs>\n",
       "<path clip-path=\"url(#clip750)\" d=\"M0 1600 L2400 1600 L2400 0 L0 0  Z\" fill=\"#ffffff\" fill-rule=\"evenodd\" fill-opacity=\"1\"/>\n",
       "<defs>\n",
       "  <clipPath id=\"clip751\">\n",
       "    <rect x=\"480\" y=\"0\" width=\"1681\" height=\"1600\"/>\n",
       "  </clipPath>\n",
       "</defs>\n",
       "<defs>\n",
       "  <clipPath id=\"clip752\">\n",
       "    <rect x=\"434\" y=\"847\" width=\"1919\" height=\"640\"/>\n",
       "  </clipPath>\n",
       "</defs>\n",
       "<path clip-path=\"url(#clip750)\" d=\"M237.705 686.448 L2352.76 686.448 L2352.76 47.2441 L237.705 47.2441  Z\" fill=\"#ffffff\" fill-rule=\"evenodd\" fill-opacity=\"1\"/>\n",
       "<defs>\n",
       "  <clipPath id=\"clip753\">\n",
       "    <rect x=\"237\" y=\"47\" width=\"2116\" height=\"640\"/>\n",
       "  </clipPath>\n",
       "</defs>\n",
       "<polyline clip-path=\"url(#clip753)\" style=\"stroke:#000000; stroke-linecap:round; stroke-linejoin:round; stroke-width:8; stroke-opacity:0.1; fill:none\" points=\"246.403,686.448 246.403,47.2441 \"/>\n",
       "<polyline clip-path=\"url(#clip753)\" style=\"stroke:#000000; stroke-linecap:round; stroke-linejoin:round; stroke-width:8; stroke-opacity:0.1; fill:none\" points=\"758.026,686.448 758.026,47.2441 \"/>\n",
       "<polyline clip-path=\"url(#clip753)\" style=\"stroke:#000000; stroke-linecap:round; stroke-linejoin:round; stroke-width:8; stroke-opacity:0.1; fill:none\" points=\"1269.65,686.448 1269.65,47.2441 \"/>\n",
       "<polyline clip-path=\"url(#clip753)\" style=\"stroke:#000000; stroke-linecap:round; stroke-linejoin:round; stroke-width:8; stroke-opacity:0.1; fill:none\" points=\"1781.27,686.448 1781.27,47.2441 \"/>\n",
       "<polyline clip-path=\"url(#clip753)\" style=\"stroke:#000000; stroke-linecap:round; stroke-linejoin:round; stroke-width:8; stroke-opacity:0.1; fill:none\" points=\"2292.9,686.448 2292.9,47.2441 \"/>\n",
       "<polyline clip-path=\"url(#clip750)\" style=\"stroke:#000000; stroke-linecap:round; stroke-linejoin:round; stroke-width:4; stroke-opacity:1; fill:none\" points=\"237.705,686.448 2352.76,686.448 \"/>\n",
       "<polyline clip-path=\"url(#clip750)\" style=\"stroke:#000000; stroke-linecap:round; stroke-linejoin:round; stroke-width:4; stroke-opacity:1; fill:none\" points=\"246.403,686.448 246.403,667.55 \"/>\n",
       "<polyline clip-path=\"url(#clip750)\" style=\"stroke:#000000; stroke-linecap:round; stroke-linejoin:round; stroke-width:4; stroke-opacity:1; fill:none\" points=\"758.026,686.448 758.026,667.55 \"/>\n",
       "<polyline clip-path=\"url(#clip750)\" style=\"stroke:#000000; stroke-linecap:round; stroke-linejoin:round; stroke-width:4; stroke-opacity:1; fill:none\" points=\"1269.65,686.448 1269.65,667.55 \"/>\n",
       "<polyline clip-path=\"url(#clip750)\" style=\"stroke:#000000; stroke-linecap:round; stroke-linejoin:round; stroke-width:4; stroke-opacity:1; fill:none\" points=\"1781.27,686.448 1781.27,667.55 \"/>\n",
       "<polyline clip-path=\"url(#clip750)\" style=\"stroke:#000000; stroke-linecap:round; stroke-linejoin:round; stroke-width:4; stroke-opacity:1; fill:none\" points=\"2292.9,686.448 2292.9,667.55 \"/>\n",
       "<path clip-path=\"url(#clip750)\" d=\"M246.403 717.367 Q242.792 717.367 240.963 720.931 Q239.158 724.473 239.158 731.603 Q239.158 738.709 240.963 742.274 Q242.792 745.815 246.403 745.815 Q250.037 745.815 251.843 742.274 Q253.672 738.709 253.672 731.603 Q253.672 724.473 251.843 720.931 Q250.037 717.367 246.403 717.367 M246.403 713.663 Q252.213 713.663 255.269 718.269 Q258.347 722.853 258.347 731.603 Q258.347 740.329 255.269 744.936 Q252.213 749.519 246.403 749.519 Q240.593 749.519 237.514 744.936 Q234.459 740.329 234.459 731.603 Q234.459 722.853 237.514 718.269 Q240.593 713.663 246.403 713.663 Z\" fill=\"#000000\" fill-rule=\"evenodd\" fill-opacity=\"1\" /><path clip-path=\"url(#clip750)\" d=\"M732.714 744.913 L740.353 744.913 L740.353 718.547 L732.043 720.214 L732.043 715.955 L740.306 714.288 L744.982 714.288 L744.982 744.913 L752.621 744.913 L752.621 748.848 L732.714 748.848 L732.714 744.913 Z\" fill=\"#000000\" fill-rule=\"evenodd\" fill-opacity=\"1\" /><path clip-path=\"url(#clip750)\" d=\"M772.066 717.367 Q768.454 717.367 766.626 720.931 Q764.82 724.473 764.82 731.603 Q764.82 738.709 766.626 742.274 Q768.454 745.815 772.066 745.815 Q775.7 745.815 777.505 742.274 Q779.334 738.709 779.334 731.603 Q779.334 724.473 777.505 720.931 Q775.7 717.367 772.066 717.367 M772.066 713.663 Q777.876 713.663 780.931 718.269 Q784.01 722.853 784.01 731.603 Q784.01 740.329 780.931 744.936 Q777.876 749.519 772.066 749.519 Q766.255 749.519 763.177 744.936 Q760.121 740.329 760.121 731.603 Q760.121 722.853 763.177 718.269 Q766.255 713.663 772.066 713.663 Z\" fill=\"#000000\" fill-rule=\"evenodd\" fill-opacity=\"1\" /><path clip-path=\"url(#clip750)\" d=\"M1248.42 744.913 L1264.74 744.913 L1264.74 748.848 L1242.8 748.848 L1242.8 744.913 Q1245.46 742.158 1250.04 737.528 Q1254.65 732.876 1255.83 731.533 Q1258.08 729.01 1258.96 727.274 Q1259.86 725.515 1259.86 723.825 Q1259.86 721.07 1257.91 719.334 Q1255.99 717.598 1252.89 717.598 Q1250.69 717.598 1248.24 718.362 Q1245.81 719.126 1243.03 720.677 L1243.03 715.955 Q1245.85 714.82 1248.31 714.242 Q1250.76 713.663 1252.8 713.663 Q1258.17 713.663 1261.36 716.348 Q1264.56 719.033 1264.56 723.524 Q1264.56 725.654 1263.75 727.575 Q1262.96 729.473 1260.85 732.066 Q1260.27 732.737 1257.17 735.954 Q1254.07 739.149 1248.42 744.913 Z\" fill=\"#000000\" fill-rule=\"evenodd\" fill-opacity=\"1\" /><path clip-path=\"url(#clip750)\" d=\"M1284.56 717.367 Q1280.95 717.367 1279.12 720.931 Q1277.31 724.473 1277.31 731.603 Q1277.31 738.709 1279.12 742.274 Q1280.95 745.815 1284.56 745.815 Q1288.19 745.815 1290 742.274 Q1291.83 738.709 1291.83 731.603 Q1291.83 724.473 1290 720.931 Q1288.19 717.367 1284.56 717.367 M1284.56 713.663 Q1290.37 713.663 1293.42 718.269 Q1296.5 722.853 1296.5 731.603 Q1296.5 740.329 1293.42 744.936 Q1290.37 749.519 1284.56 749.519 Q1278.75 749.519 1275.67 744.936 Q1272.61 740.329 1272.61 731.603 Q1272.61 722.853 1275.67 718.269 Q1278.75 713.663 1284.56 713.663 Z\" fill=\"#000000\" fill-rule=\"evenodd\" fill-opacity=\"1\" /><path clip-path=\"url(#clip750)\" d=\"M1770.12 730.214 Q1773.47 730.931 1775.35 733.2 Q1777.24 735.468 1777.24 738.802 Q1777.24 743.917 1773.73 746.718 Q1770.21 749.519 1763.73 749.519 Q1761.55 749.519 1759.24 749.079 Q1756.94 748.663 1754.49 747.806 L1754.49 743.292 Q1756.43 744.427 1758.75 745.005 Q1761.06 745.584 1763.59 745.584 Q1767.99 745.584 1770.28 743.848 Q1772.59 742.112 1772.59 738.802 Q1772.59 735.746 1770.44 734.033 Q1768.31 732.297 1764.49 732.297 L1760.46 732.297 L1760.46 728.454 L1764.68 728.454 Q1768.12 728.454 1769.95 727.089 Q1771.78 725.7 1771.78 723.107 Q1771.78 720.445 1769.88 719.033 Q1768.01 717.598 1764.49 717.598 Q1762.57 717.598 1760.37 718.015 Q1758.17 718.431 1755.53 719.311 L1755.53 715.144 Q1758.19 714.404 1760.51 714.033 Q1762.85 713.663 1764.91 713.663 Q1770.23 713.663 1773.33 716.093 Q1776.43 718.501 1776.43 722.621 Q1776.43 725.492 1774.79 727.482 Q1773.15 729.45 1770.12 730.214 Z\" fill=\"#000000\" fill-rule=\"evenodd\" fill-opacity=\"1\" /><path clip-path=\"url(#clip750)\" d=\"M1796.11 717.367 Q1792.5 717.367 1790.67 720.931 Q1788.87 724.473 1788.87 731.603 Q1788.87 738.709 1790.67 742.274 Q1792.5 745.815 1796.11 745.815 Q1799.74 745.815 1801.55 742.274 Q1803.38 738.709 1803.38 731.603 Q1803.38 724.473 1801.55 720.931 Q1799.74 717.367 1796.11 717.367 M1796.11 713.663 Q1801.92 713.663 1804.98 718.269 Q1808.06 722.853 1808.06 731.603 Q1808.06 740.329 1804.98 744.936 Q1801.92 749.519 1796.11 749.519 Q1790.3 749.519 1787.22 744.936 Q1784.17 740.329 1784.17 731.603 Q1784.17 722.853 1787.22 718.269 Q1790.3 713.663 1796.11 713.663 Z\" fill=\"#000000\" fill-rule=\"evenodd\" fill-opacity=\"1\" /><path clip-path=\"url(#clip750)\" d=\"M2281.07 718.362 L2269.26 736.811 L2281.07 736.811 L2281.07 718.362 M2279.84 714.288 L2285.72 714.288 L2285.72 736.811 L2290.65 736.811 L2290.65 740.7 L2285.72 740.7 L2285.72 748.848 L2281.07 748.848 L2281.07 740.7 L2265.47 740.7 L2265.47 736.186 L2279.84 714.288 Z\" fill=\"#000000\" fill-rule=\"evenodd\" fill-opacity=\"1\" /><path clip-path=\"url(#clip750)\" d=\"M2308.38 717.367 Q2304.77 717.367 2302.94 720.931 Q2301.14 724.473 2301.14 731.603 Q2301.14 738.709 2302.94 742.274 Q2304.77 745.815 2308.38 745.815 Q2312.02 745.815 2313.82 742.274 Q2315.65 738.709 2315.65 731.603 Q2315.65 724.473 2313.82 720.931 Q2312.02 717.367 2308.38 717.367 M2308.38 713.663 Q2314.19 713.663 2317.25 718.269 Q2320.33 722.853 2320.33 731.603 Q2320.33 740.329 2317.25 744.936 Q2314.19 749.519 2308.38 749.519 Q2302.57 749.519 2299.49 744.936 Q2296.44 740.329 2296.44 731.603 Q2296.44 722.853 2299.49 718.269 Q2302.57 713.663 2308.38 713.663 Z\" fill=\"#000000\" fill-rule=\"evenodd\" fill-opacity=\"1\" /><polyline clip-path=\"url(#clip753)\" style=\"stroke:#000000; stroke-linecap:round; stroke-linejoin:round; stroke-width:8; stroke-opacity:0.1; fill:none\" points=\"237.705,668.357 2352.76,668.357 \"/>\n",
       "<polyline clip-path=\"url(#clip753)\" style=\"stroke:#000000; stroke-linecap:round; stroke-linejoin:round; stroke-width:8; stroke-opacity:0.1; fill:none\" points=\"237.705,473.834 2352.76,473.834 \"/>\n",
       "<polyline clip-path=\"url(#clip753)\" style=\"stroke:#000000; stroke-linecap:round; stroke-linejoin:round; stroke-width:8; stroke-opacity:0.1; fill:none\" points=\"237.705,279.31 2352.76,279.31 \"/>\n",
       "<polyline clip-path=\"url(#clip753)\" style=\"stroke:#000000; stroke-linecap:round; stroke-linejoin:round; stroke-width:8; stroke-opacity:0.1; fill:none\" points=\"237.705,84.7871 2352.76,84.7871 \"/>\n",
       "<polyline clip-path=\"url(#clip750)\" style=\"stroke:#000000; stroke-linecap:round; stroke-linejoin:round; stroke-width:4; stroke-opacity:1; fill:none\" points=\"237.705,686.448 237.705,47.2441 \"/>\n",
       "<polyline clip-path=\"url(#clip750)\" style=\"stroke:#000000; stroke-linecap:round; stroke-linejoin:round; stroke-width:4; stroke-opacity:1; fill:none\" points=\"237.705,668.357 256.603,668.357 \"/>\n",
       "<polyline clip-path=\"url(#clip750)\" style=\"stroke:#000000; stroke-linecap:round; stroke-linejoin:round; stroke-width:4; stroke-opacity:1; fill:none\" points=\"237.705,473.834 256.603,473.834 \"/>\n",
       "<polyline clip-path=\"url(#clip750)\" style=\"stroke:#000000; stroke-linecap:round; stroke-linejoin:round; stroke-width:4; stroke-opacity:1; fill:none\" points=\"237.705,279.31 256.603,279.31 \"/>\n",
       "<polyline clip-path=\"url(#clip750)\" style=\"stroke:#000000; stroke-linecap:round; stroke-linejoin:round; stroke-width:4; stroke-opacity:1; fill:none\" points=\"237.705,84.7871 256.603,84.7871 \"/>\n",
       "<path clip-path=\"url(#clip750)\" d=\"M189.761 654.156 Q186.15 654.156 184.321 657.721 Q182.516 661.262 182.516 668.392 Q182.516 675.498 184.321 679.063 Q186.15 682.605 189.761 682.605 Q193.395 682.605 195.201 679.063 Q197.03 675.498 197.03 668.392 Q197.03 661.262 195.201 657.721 Q193.395 654.156 189.761 654.156 M189.761 650.452 Q195.571 650.452 198.627 655.059 Q201.705 659.642 201.705 668.392 Q201.705 677.119 198.627 681.725 Q195.571 686.308 189.761 686.308 Q183.951 686.308 180.872 681.725 Q177.817 677.119 177.817 668.392 Q177.817 659.642 180.872 655.059 Q183.951 650.452 189.761 650.452 Z\" fill=\"#000000\" fill-rule=\"evenodd\" fill-opacity=\"1\" /><path clip-path=\"url(#clip750)\" d=\"M120.248 487.179 L127.886 487.179 L127.886 460.813 L119.576 462.48 L119.576 458.22 L127.84 456.554 L132.516 456.554 L132.516 487.179 L140.155 487.179 L140.155 491.114 L120.248 491.114 L120.248 487.179 Z\" fill=\"#000000\" fill-rule=\"evenodd\" fill-opacity=\"1\" /><path clip-path=\"url(#clip750)\" d=\"M159.599 459.633 Q155.988 459.633 154.159 463.197 Q152.354 466.739 152.354 473.869 Q152.354 480.975 154.159 484.54 Q155.988 488.081 159.599 488.081 Q163.233 488.081 165.039 484.54 Q166.868 480.975 166.868 473.869 Q166.868 466.739 165.039 463.197 Q163.233 459.633 159.599 459.633 M159.599 455.929 Q165.409 455.929 168.465 460.535 Q171.544 465.119 171.544 473.869 Q171.544 482.595 168.465 487.202 Q165.409 491.785 159.599 491.785 Q153.789 491.785 150.71 487.202 Q147.655 482.595 147.655 473.869 Q147.655 465.119 150.71 460.535 Q153.789 455.929 159.599 455.929 Z\" fill=\"#000000\" fill-rule=\"evenodd\" fill-opacity=\"1\" /><path clip-path=\"url(#clip750)\" d=\"M189.761 459.633 Q186.15 459.633 184.321 463.197 Q182.516 466.739 182.516 473.869 Q182.516 480.975 184.321 484.54 Q186.15 488.081 189.761 488.081 Q193.395 488.081 195.201 484.54 Q197.03 480.975 197.03 473.869 Q197.03 466.739 195.201 463.197 Q193.395 459.633 189.761 459.633 M189.761 455.929 Q195.571 455.929 198.627 460.535 Q201.705 465.119 201.705 473.869 Q201.705 482.595 198.627 487.202 Q195.571 491.785 189.761 491.785 Q183.951 491.785 180.872 487.202 Q177.817 482.595 177.817 473.869 Q177.817 465.119 180.872 460.535 Q183.951 455.929 189.761 455.929 Z\" fill=\"#000000\" fill-rule=\"evenodd\" fill-opacity=\"1\" /><path clip-path=\"url(#clip750)\" d=\"M123.465 292.655 L139.784 292.655 L139.784 296.59 L117.84 296.59 L117.84 292.655 Q120.502 289.901 125.085 285.271 Q129.692 280.618 130.872 279.276 Q133.118 276.753 133.997 275.017 Q134.9 273.257 134.9 271.567 Q134.9 268.813 132.956 267.077 Q131.035 265.341 127.933 265.341 Q125.734 265.341 123.28 266.105 Q120.849 266.868 118.072 268.419 L118.072 263.697 Q120.896 262.563 123.349 261.984 Q125.803 261.405 127.84 261.405 Q133.21 261.405 136.405 264.091 Q139.599 266.776 139.599 271.267 Q139.599 273.396 138.789 275.317 Q138.002 277.216 135.896 279.808 Q135.317 280.479 132.215 283.697 Q129.113 286.891 123.465 292.655 Z\" fill=\"#000000\" fill-rule=\"evenodd\" fill-opacity=\"1\" /><path clip-path=\"url(#clip750)\" d=\"M159.599 265.109 Q155.988 265.109 154.159 268.674 Q152.354 272.216 152.354 279.345 Q152.354 286.452 154.159 290.016 Q155.988 293.558 159.599 293.558 Q163.233 293.558 165.039 290.016 Q166.868 286.452 166.868 279.345 Q166.868 272.216 165.039 268.674 Q163.233 265.109 159.599 265.109 M159.599 261.405 Q165.409 261.405 168.465 266.012 Q171.544 270.595 171.544 279.345 Q171.544 288.072 168.465 292.678 Q165.409 297.262 159.599 297.262 Q153.789 297.262 150.71 292.678 Q147.655 288.072 147.655 279.345 Q147.655 270.595 150.71 266.012 Q153.789 261.405 159.599 261.405 Z\" fill=\"#000000\" fill-rule=\"evenodd\" fill-opacity=\"1\" /><path clip-path=\"url(#clip750)\" d=\"M189.761 265.109 Q186.15 265.109 184.321 268.674 Q182.516 272.216 182.516 279.345 Q182.516 286.452 184.321 290.016 Q186.15 293.558 189.761 293.558 Q193.395 293.558 195.201 290.016 Q197.03 286.452 197.03 279.345 Q197.03 272.216 195.201 268.674 Q193.395 265.109 189.761 265.109 M189.761 261.405 Q195.571 261.405 198.627 266.012 Q201.705 270.595 201.705 279.345 Q201.705 288.072 198.627 292.678 Q195.571 297.262 189.761 297.262 Q183.951 297.262 180.872 292.678 Q177.817 288.072 177.817 279.345 Q177.817 270.595 180.872 266.012 Q183.951 261.405 189.761 261.405 Z\" fill=\"#000000\" fill-rule=\"evenodd\" fill-opacity=\"1\" /><path clip-path=\"url(#clip750)\" d=\"M133.604 83.4329 Q136.96 84.1505 138.835 86.419 Q140.734 88.6875 140.734 92.0209 Q140.734 97.1366 137.215 99.9375 Q133.697 102.738 127.215 102.738 Q125.039 102.738 122.724 102.299 Q120.433 101.882 117.979 101.025 L117.979 96.5116 Q119.923 97.6458 122.238 98.2245 Q124.553 98.8032 127.076 98.8032 Q131.474 98.8032 133.766 97.0671 Q136.081 95.331 136.081 92.0209 Q136.081 88.9653 133.928 87.2524 Q131.798 85.5163 127.979 85.5163 L123.951 85.5163 L123.951 81.6737 L128.164 81.6737 Q131.613 81.6737 133.442 80.308 Q135.271 78.9191 135.271 76.3265 Q135.271 73.6645 133.372 72.2524 Q131.497 70.8173 127.979 70.8173 Q126.058 70.8173 123.859 71.2339 Q121.66 71.6506 119.021 72.5302 L119.021 68.3636 Q121.683 67.6228 123.998 67.2525 Q126.335 66.8821 128.396 66.8821 Q133.72 66.8821 136.822 69.3126 Q139.923 71.72 139.923 75.8404 Q139.923 78.7107 138.28 80.7015 Q136.636 82.6691 133.604 83.4329 Z\" fill=\"#000000\" fill-rule=\"evenodd\" fill-opacity=\"1\" /><path clip-path=\"url(#clip750)\" d=\"M159.599 70.5858 Q155.988 70.5858 154.159 74.1506 Q152.354 77.6922 152.354 84.8218 Q152.354 91.9283 154.159 95.4931 Q155.988 99.0347 159.599 99.0347 Q163.233 99.0347 165.039 95.4931 Q166.868 91.9283 166.868 84.8218 Q166.868 77.6922 165.039 74.1506 Q163.233 70.5858 159.599 70.5858 M159.599 66.8821 Q165.409 66.8821 168.465 71.4886 Q171.544 76.0719 171.544 84.8218 Q171.544 93.5486 168.465 98.1551 Q165.409 102.738 159.599 102.738 Q153.789 102.738 150.71 98.1551 Q147.655 93.5486 147.655 84.8218 Q147.655 76.0719 150.71 71.4886 Q153.789 66.8821 159.599 66.8821 Z\" fill=\"#000000\" fill-rule=\"evenodd\" fill-opacity=\"1\" /><path clip-path=\"url(#clip750)\" d=\"M189.761 70.5858 Q186.15 70.5858 184.321 74.1506 Q182.516 77.6922 182.516 84.8218 Q182.516 91.9283 184.321 95.4931 Q186.15 99.0347 189.761 99.0347 Q193.395 99.0347 195.201 95.4931 Q197.03 91.9283 197.03 84.8218 Q197.03 77.6922 195.201 74.1506 Q193.395 70.5858 189.761 70.5858 M189.761 66.8821 Q195.571 66.8821 198.627 71.4886 Q201.705 76.0719 201.705 84.8218 Q201.705 93.5486 198.627 98.1551 Q195.571 102.738 189.761 102.738 Q183.951 102.738 180.872 98.1551 Q177.817 93.5486 177.817 84.8218 Q177.817 76.0719 180.872 71.4886 Q183.951 66.8821 189.761 66.8821 Z\" fill=\"#000000\" fill-rule=\"evenodd\" fill-opacity=\"1\" /><path clip-path=\"url(#clip750)\" d=\"M17.9264 419.083 Q18.5383 419.083 19.0536 419.212 L30.5189 421.016 Q31.3884 421.112 31.7105 421.306 Q32.0325 421.467 32.0325 421.982 Q32.0325 422.787 31.1952 422.787 Q30.7121 422.787 29.9391 422.594 Q26.2999 422.046 24.6574 422.046 Q23.5624 422.046 22.7572 422.272 Q21.9199 422.465 21.3402 422.787 Q20.7605 423.077 20.374 423.753 Q19.9875 424.43 19.7621 425.074 Q19.5367 425.718 19.44 426.877 Q19.3112 428.037 19.279 429.035 Q19.2468 430.033 19.2468 431.676 Q19.2468 435.251 19.3756 435.831 Q19.5367 436.442 20.0197 436.764 Q20.4706 437.054 21.8233 437.376 L56.831 446.136 L58.2159 446.394 Q58.9888 446.394 59.2465 445.911 Q59.5041 445.428 59.6652 443.946 Q59.8262 441.821 59.8262 439.727 Q59.8262 439.663 59.8262 439.534 Q59.8262 438.826 59.8584 438.536 Q59.8584 438.246 59.9228 437.956 Q59.9872 437.666 60.1482 437.602 Q60.2771 437.505 60.5347 437.505 Q61.1466 437.505 61.4687 437.763 Q61.7585 438.021 61.823 438.278 Q61.8552 438.504 61.8552 438.954 Q61.8552 439.856 61.7907 441.789 Q61.7263 443.721 61.7263 444.687 L61.6619 450.162 L61.7263 455.766 Q61.7263 456.635 61.7907 458.471 Q61.8552 460.307 61.8552 461.177 Q61.8552 462.304 61.05 462.304 Q60.1482 462.304 59.9872 461.885 Q59.8262 461.434 59.8262 459.534 Q59.8262 456.861 59.6974 455.412 Q59.5685 453.962 59.1177 453.189 Q58.6668 452.384 58.2159 452.159 Q57.7328 451.933 56.6378 451.676 L21.4368 442.819 Q20.6639 442.562 20.0519 442.562 Q19.7299 442.562 19.6011 442.658 Q19.4722 442.723 19.3756 443.141 Q19.2468 443.56 19.2468 444.429 L19.2468 447.006 Q19.2468 449.647 19.3756 451.289 Q19.4722 452.9 19.9553 454.445 Q20.4384 455.959 21.1147 456.861 Q21.7911 457.73 23.1759 458.697 Q24.5608 459.663 26.2355 460.371 Q27.9102 461.048 30.6477 462.014 Q31.5494 462.336 31.8071 462.529 Q32.0325 462.69 32.0325 463.141 Q32.0325 463.463 31.8393 463.721 Q31.6139 463.946 31.324 463.946 Q30.2612 463.624 30.1324 463.56 L18.5061 459.598 Q17.5721 459.276 17.4111 458.987 Q17.2178 458.664 17.2178 457.473 L17.2178 420.887 Q17.2178 420.307 17.2178 420.114 Q17.2178 419.921 17.2822 419.599 Q17.3467 419.277 17.5077 419.18 Q17.6687 419.083 17.9264 419.083 Z\" fill=\"#000000\" fill-rule=\"evenodd\" fill-opacity=\"1\" /><path clip-path=\"url(#clip750)\" d=\"M51.2753 393.547 Q52.1996 393.547 52.9661 394.336 Q53.7326 395.125 53.7326 396.05 Q53.7326 396.816 53.2591 397.29 Q52.7857 397.741 52.0643 397.741 Q51.0724 397.741 50.351 396.951 Q49.607 396.162 49.607 395.306 Q49.607 394.517 50.103 394.043 Q50.5764 393.547 51.2753 393.547 M63.9676 395.261 Q64.7566 395.261 65.681 395.486 L82.589 399.724 Q84.2347 400.13 85.5874 401.1 Q86.9626 402.069 87.8193 403.309 Q88.6759 404.526 89.1268 405.856 Q89.6002 407.164 89.6002 408.404 Q89.6002 410.14 88.8337 411.312 Q88.0672 412.484 86.7371 412.484 Q85.5648 412.484 84.8209 411.718 Q84.0995 410.929 84.0995 409.982 Q84.0995 409.125 84.5955 408.674 Q85.0914 408.224 85.7227 408.224 Q86.4892 408.224 87.2106 408.787 Q87.932 409.328 88.1574 410.298 Q88.5858 409.418 88.5858 408.494 Q88.5858 406.6 86.8499 405.067 Q85.1365 403.512 82.4312 402.835 L65.2075 398.484 Q63.8323 398.169 62.8629 398.169 Q61.9612 398.169 61.4652 398.417 Q60.9692 398.665 60.8565 398.958 Q60.7438 399.228 60.7438 399.634 Q60.7438 401.415 62.3895 402.948 Q64.0127 404.481 66.3798 405.451 Q67.0336 405.721 67.1689 405.856 Q67.3041 405.969 67.3041 406.285 Q67.2816 406.848 66.8307 406.848 Q66.6954 406.848 66.1544 406.623 Q65.6133 406.397 64.8243 405.992 Q64.0127 405.586 63.1335 404.932 Q62.2542 404.278 61.4877 403.512 Q60.7212 402.723 60.2253 401.663 Q59.7293 400.604 59.7293 399.499 Q59.7293 397.718 60.9016 396.501 Q62.0513 395.261 63.9676 395.261 Z\" fill=\"#000000\" fill-rule=\"evenodd\" fill-opacity=\"1\" /><path clip-path=\"url(#clip750)\" d=\"M80.1317 388.487 Q79.2976 388.487 79.0496 388.419 Q78.8016 388.329 78.4184 387.968 L68.5441 379.108 Q63.0884 374.261 58.3316 374.261 Q55.243 374.261 53.0337 375.884 Q50.8244 377.485 50.8244 380.438 Q50.8244 382.467 52.0643 384.181 Q53.3042 385.894 55.5136 386.683 Q55.4685 386.548 55.4685 386.074 Q55.4685 384.925 56.1899 384.293 Q56.9113 383.64 57.8807 383.64 Q59.1206 383.64 59.7293 384.451 Q60.3155 385.24 60.3155 386.029 Q60.3155 386.345 60.2478 386.773 Q60.1802 387.179 59.549 387.833 Q58.8952 388.487 57.7454 388.487 Q54.5216 388.487 51.9516 386.052 Q49.3816 383.595 49.3816 379.852 Q49.3816 375.614 51.9065 372.841 Q54.4089 370.046 58.3316 370.046 Q59.7068 370.046 60.9692 370.474 Q62.2092 370.88 63.1786 371.443 Q64.148 371.984 65.7035 373.472 Q67.259 374.96 68.3637 376.155 Q69.4684 377.35 71.8129 380.033 L76.5698 384.925 L76.5698 376.606 Q76.5698 372.548 76.209 372.232 Q75.5553 371.781 72.106 371.218 L72.106 370.046 L80.1317 371.353 L80.1317 388.487 Z\" fill=\"#000000\" fill-rule=\"evenodd\" fill-opacity=\"1\" /><path clip-path=\"url(#clip750)\" d=\"M78.3446 358.582 L12.387 358.582 L12.387 348.63 L13.9006 348.63 L13.9006 354.17 L76.8309 354.17 L76.8309 348.63 L78.3446 348.63 L78.3446 358.582 Z\" fill=\"#000000\" fill-rule=\"evenodd\" fill-opacity=\"1\" /><path clip-path=\"url(#clip750)\" d=\"M17.5399 290.105 Q17.9586 290.105 18.2484 290.201 Q18.5061 290.298 18.6349 290.523 Q18.7637 290.749 18.7959 290.878 Q18.8281 291.007 18.8603 291.296 Q18.9892 292.681 19.2146 293.647 Q19.44 294.581 20.5994 296.9 Q21.7589 299.187 23.8522 302.053 L32.7733 313.583 L34.2869 315.515 Q34.3836 315.515 34.5768 315.451 Q34.7378 315.386 34.9633 315.322 Q35.1565 315.225 35.2209 315.193 L56.831 305.821 Q58.5702 305.08 59.1821 304.179 Q59.794 303.277 59.8262 301.248 Q59.8262 300.926 59.8584 300.797 Q59.8584 300.636 59.9228 300.411 Q59.955 300.153 60.116 300.056 Q60.2771 299.928 60.5347 299.928 Q61.8552 299.928 61.8552 301.119 Q61.8552 301.86 61.7585 304.372 Q61.6619 306.884 61.6619 307.593 Q61.6619 308.913 61.7585 311.618 Q61.8552 314.324 61.8552 315.644 Q61.8552 316.578 61.1144 316.578 Q60.5025 316.578 60.2127 316.353 Q59.8906 316.095 59.8584 315.869 Q59.8262 315.644 59.8262 315.129 Q59.8262 314.742 59.794 314.324 Q59.7296 313.873 59.5685 313.229 Q59.3753 312.552 58.9244 312.134 Q58.4413 311.683 57.765 311.683 Q57.2175 311.683 55.4462 312.488 L37.7008 320.121 L45.3658 329.943 L55.736 332.584 Q56.1225 332.649 56.7988 332.81 Q57.4752 332.971 57.9582 333.1 Q58.4413 333.196 58.6346 333.196 Q59.0532 333.196 59.3109 332.939 Q59.5685 332.649 59.6974 331.94 Q59.794 331.232 59.8262 330.684 Q59.8262 330.104 59.8262 328.913 Q59.8262 327.431 60.0838 327.174 Q60.2449 327.045 60.5347 327.045 Q60.9856 327.045 61.3077 327.174 Q61.5975 327.303 61.6941 327.56 Q61.7907 327.786 61.823 327.947 Q61.8552 328.108 61.8552 328.365 Q61.8552 329.042 61.7907 330.491 Q61.7263 331.908 61.7263 332.649 L61.6619 336.868 L61.8552 345.241 Q61.8552 346.24 61.05 346.24 Q60.4381 346.24 60.1805 345.982 Q59.8906 345.724 59.8584 345.434 Q59.8262 345.145 59.8262 344.404 Q59.8262 342.794 59.7296 341.827 Q59.633 340.861 59.5041 340.249 Q59.3431 339.605 58.8922 339.283 Q58.4413 338.929 58.0549 338.768 Q57.6362 338.607 56.7022 338.381 L21.2758 329.557 Q20.213 329.299 20.0519 329.299 Q19.5044 329.299 19.3112 329.621 Q19.0858 329.911 18.9892 330.749 Q18.8603 332.359 18.8603 333.583 Q18.8603 334.388 18.8281 334.71 Q18.7959 335 18.6349 335.257 Q18.4417 335.483 18.0552 335.483 Q16.7992 335.483 16.7992 334.162 L16.9924 325.66 L16.7992 317.222 Q16.7992 316.288 17.5399 316.288 Q18.4739 316.288 18.6671 316.739 Q18.8603 317.158 18.8603 318.543 Q18.8603 320.958 19.1824 322.053 Q19.4722 323.116 19.9875 323.438 Q20.4706 323.728 21.8877 324.082 L43.0469 329.364 L23.2725 303.631 Q21.2758 301.248 20.2452 301.248 Q19.5689 301.248 19.279 301.731 Q18.957 302.182 18.8603 303.309 Q18.7315 304.114 18.1196 304.114 Q17.5077 304.114 17.2178 303.889 Q16.8958 303.631 16.8636 303.438 Q16.7992 303.213 16.7992 302.858 Q16.7992 301.667 16.8958 299.187 Q16.9924 296.707 16.9924 295.515 Q16.9924 294.71 16.8958 293.132 Q16.7992 291.554 16.7992 290.845 Q16.7992 290.491 17.0568 290.298 Q17.2822 290.105 17.5399 290.105 Z\" fill=\"#000000\" fill-rule=\"evenodd\" fill-opacity=\"1\" /><path clip-path=\"url(#clip750)\" d=\"M76.8309 287.896 L76.8309 282.357 L13.9006 282.357 L13.9006 287.896 L12.387 287.896 L12.387 277.944 L78.3446 277.944 L78.3446 287.896 L76.8309 287.896 Z\" fill=\"#000000\" fill-rule=\"evenodd\" fill-opacity=\"1\" /><polyline clip-path=\"url(#clip753)\" style=\"stroke:#000000; stroke-linecap:round; stroke-linejoin:round; stroke-width:4; stroke-opacity:1; fill:none\" stroke-dasharray=\"2, 4\" points=\"297.565,65.3348 348.728,65.3348 399.89,65.3348 451.052,65.3348 502.215,65.3348 553.377,65.3348 604.539,65.3348 655.702,65.3348 706.864,65.3348 758.026,65.3348 809.189,65.3348 860.351,65.3348 911.513,65.3348 962.676,65.3348 1013.84,65.3348 1065,65.3348 1116.16,65.3348 1167.32,65.3348 1218.49,65.3348 1269.65,65.3348 1320.81,65.3348 1371.97,65.3348 1423.14,65.3348 1474.3,65.3348 1525.46,65.3348 1576.62,65.3348 1627.79,65.3348 1678.95,65.3348 1730.11,65.3348 1781.27,65.3348 1832.44,65.3348 1883.6,65.3348 1934.76,65.3348 1985.92,65.3348 2037.08,65.3348 2088.25,65.3348 2139.41,65.3348 2190.57,65.3348 2241.73,65.3348 2292.9,65.3348 \"/>\n",
       "<polyline clip-path=\"url(#clip753)\" style=\"stroke:#ff0000; stroke-linecap:round; stroke-linejoin:round; stroke-width:12; stroke-opacity:0.3; fill:none\" points=\"297.565,89.783 348.728,89.3243 399.89,88.8238 451.052,88.2246 502.215,87.5568 553.377,86.856 604.539,86.0781 655.702,85.5609 706.864,84.9515 758.026,84.3714 809.189,83.7579 860.351,83.024 911.513,82.1643 962.676,81.6007 1013.84,80.9793 1065,80.2362 1116.16,79.7188 1167.32,79.4682 1218.49,79.0818 1269.65,78.5643 1320.81,78.1742 1371.97,78.1218 1423.14,77.8893 1474.3,77.5244 1525.46,77.2482 1576.62,77.2971 1627.79,77.1444 1678.95,76.8631 1730.11,76.6574 1781.27,76.7747 1832.44,76.6767 1883.6,76.4509 1934.76,76.2888 1985.92,76.4491 2037.08,76.384 2088.25,76.1906 2139.41,76.0602 2190.57,76.259 2241.73,76.2027 2292.9,76.1526 \"/>\n",
       "<polyline clip-path=\"url(#clip753)\" style=\"stroke:#0000ff; stroke-linecap:round; stroke-linejoin:round; stroke-width:12; stroke-opacity:0.3; fill:none\" points=\"297.565,668.357 348.728,668.357 399.89,668.357 451.052,668.357 502.215,668.357 553.377,668.357 604.539,668.357 655.702,668.357 706.864,668.357 758.026,668.357 809.189,668.357 860.351,668.357 911.513,668.357 962.676,668.357 1013.84,668.357 1065,668.357 1116.16,668.357 1167.32,668.357 1218.49,668.357 1269.65,668.357 1320.81,668.357 1371.97,668.357 1423.14,668.357 1474.3,668.357 1525.46,668.357 1576.62,668.357 1627.79,668.357 1678.95,668.357 1730.11,668.357 1781.27,668.357 1832.44,668.357 1883.6,668.357 1934.76,668.357 1985.92,668.357 2037.08,668.357 2088.25,668.357 2139.41,668.357 2190.57,668.357 2241.73,668.357 2292.9,668.357 \"/>\n",
       "<path clip-path=\"url(#clip750)\" d=\"M237.705 1486.45 L2352.76 1486.45 L2352.76 847.244 L237.705 847.244  Z\" fill=\"#ffffff\" fill-rule=\"evenodd\" fill-opacity=\"1\"/>\n",
       "<defs>\n",
       "  <clipPath id=\"clip754\">\n",
       "    <rect x=\"237\" y=\"847\" width=\"2116\" height=\"640\"/>\n",
       "  </clipPath>\n",
       "</defs>\n",
       "<polyline clip-path=\"url(#clip754)\" style=\"stroke:#000000; stroke-linecap:round; stroke-linejoin:round; stroke-width:8; stroke-opacity:0.1; fill:none\" points=\"246.403,1486.45 246.403,847.244 \"/>\n",
       "<polyline clip-path=\"url(#clip754)\" style=\"stroke:#000000; stroke-linecap:round; stroke-linejoin:round; stroke-width:8; stroke-opacity:0.1; fill:none\" points=\"758.026,1486.45 758.026,847.244 \"/>\n",
       "<polyline clip-path=\"url(#clip754)\" style=\"stroke:#000000; stroke-linecap:round; stroke-linejoin:round; stroke-width:8; stroke-opacity:0.1; fill:none\" points=\"1269.65,1486.45 1269.65,847.244 \"/>\n",
       "<polyline clip-path=\"url(#clip754)\" style=\"stroke:#000000; stroke-linecap:round; stroke-linejoin:round; stroke-width:8; stroke-opacity:0.1; fill:none\" points=\"1781.27,1486.45 1781.27,847.244 \"/>\n",
       "<polyline clip-path=\"url(#clip754)\" style=\"stroke:#000000; stroke-linecap:round; stroke-linejoin:round; stroke-width:8; stroke-opacity:0.1; fill:none\" points=\"2292.9,1486.45 2292.9,847.244 \"/>\n",
       "<polyline clip-path=\"url(#clip750)\" style=\"stroke:#000000; stroke-linecap:round; stroke-linejoin:round; stroke-width:4; stroke-opacity:1; fill:none\" points=\"237.705,1486.45 2352.76,1486.45 \"/>\n",
       "<polyline clip-path=\"url(#clip750)\" style=\"stroke:#000000; stroke-linecap:round; stroke-linejoin:round; stroke-width:4; stroke-opacity:1; fill:none\" points=\"246.403,1486.45 246.403,1467.55 \"/>\n",
       "<polyline clip-path=\"url(#clip750)\" style=\"stroke:#000000; stroke-linecap:round; stroke-linejoin:round; stroke-width:4; stroke-opacity:1; fill:none\" points=\"758.026,1486.45 758.026,1467.55 \"/>\n",
       "<polyline clip-path=\"url(#clip750)\" style=\"stroke:#000000; stroke-linecap:round; stroke-linejoin:round; stroke-width:4; stroke-opacity:1; fill:none\" points=\"1269.65,1486.45 1269.65,1467.55 \"/>\n",
       "<polyline clip-path=\"url(#clip750)\" style=\"stroke:#000000; stroke-linecap:round; stroke-linejoin:round; stroke-width:4; stroke-opacity:1; fill:none\" points=\"1781.27,1486.45 1781.27,1467.55 \"/>\n",
       "<polyline clip-path=\"url(#clip750)\" style=\"stroke:#000000; stroke-linecap:round; stroke-linejoin:round; stroke-width:4; stroke-opacity:1; fill:none\" points=\"2292.9,1486.45 2292.9,1467.55 \"/>\n",
       "<path clip-path=\"url(#clip750)\" d=\"M246.403 1517.37 Q242.792 1517.37 240.963 1520.93 Q239.158 1524.47 239.158 1531.6 Q239.158 1538.71 240.963 1542.27 Q242.792 1545.82 246.403 1545.82 Q250.037 1545.82 251.843 1542.27 Q253.672 1538.71 253.672 1531.6 Q253.672 1524.47 251.843 1520.93 Q250.037 1517.37 246.403 1517.37 M246.403 1513.66 Q252.213 1513.66 255.269 1518.27 Q258.347 1522.85 258.347 1531.6 Q258.347 1540.33 255.269 1544.94 Q252.213 1549.52 246.403 1549.52 Q240.593 1549.52 237.514 1544.94 Q234.459 1540.33 234.459 1531.6 Q234.459 1522.85 237.514 1518.27 Q240.593 1513.66 246.403 1513.66 Z\" fill=\"#000000\" fill-rule=\"evenodd\" fill-opacity=\"1\" /><path clip-path=\"url(#clip750)\" d=\"M732.714 1544.91 L740.353 1544.91 L740.353 1518.55 L732.043 1520.21 L732.043 1515.95 L740.306 1514.29 L744.982 1514.29 L744.982 1544.91 L752.621 1544.91 L752.621 1548.85 L732.714 1548.85 L732.714 1544.91 Z\" fill=\"#000000\" fill-rule=\"evenodd\" fill-opacity=\"1\" /><path clip-path=\"url(#clip750)\" d=\"M772.066 1517.37 Q768.454 1517.37 766.626 1520.93 Q764.82 1524.47 764.82 1531.6 Q764.82 1538.71 766.626 1542.27 Q768.454 1545.82 772.066 1545.82 Q775.7 1545.82 777.505 1542.27 Q779.334 1538.71 779.334 1531.6 Q779.334 1524.47 777.505 1520.93 Q775.7 1517.37 772.066 1517.37 M772.066 1513.66 Q777.876 1513.66 780.931 1518.27 Q784.01 1522.85 784.01 1531.6 Q784.01 1540.33 780.931 1544.94 Q777.876 1549.52 772.066 1549.52 Q766.255 1549.52 763.177 1544.94 Q760.121 1540.33 760.121 1531.6 Q760.121 1522.85 763.177 1518.27 Q766.255 1513.66 772.066 1513.66 Z\" fill=\"#000000\" fill-rule=\"evenodd\" fill-opacity=\"1\" /><path clip-path=\"url(#clip750)\" d=\"M1248.42 1544.91 L1264.74 1544.91 L1264.74 1548.85 L1242.8 1548.85 L1242.8 1544.91 Q1245.46 1542.16 1250.04 1537.53 Q1254.65 1532.88 1255.83 1531.53 Q1258.08 1529.01 1258.96 1527.27 Q1259.86 1525.51 1259.86 1523.82 Q1259.86 1521.07 1257.91 1519.33 Q1255.99 1517.6 1252.89 1517.6 Q1250.69 1517.6 1248.24 1518.36 Q1245.81 1519.13 1243.03 1520.68 L1243.03 1515.95 Q1245.85 1514.82 1248.31 1514.24 Q1250.76 1513.66 1252.8 1513.66 Q1258.17 1513.66 1261.36 1516.35 Q1264.56 1519.03 1264.56 1523.52 Q1264.56 1525.65 1263.75 1527.57 Q1262.96 1529.47 1260.85 1532.07 Q1260.27 1532.74 1257.17 1535.95 Q1254.07 1539.15 1248.42 1544.91 Z\" fill=\"#000000\" fill-rule=\"evenodd\" fill-opacity=\"1\" /><path clip-path=\"url(#clip750)\" d=\"M1284.56 1517.37 Q1280.95 1517.37 1279.12 1520.93 Q1277.31 1524.47 1277.31 1531.6 Q1277.31 1538.71 1279.12 1542.27 Q1280.95 1545.82 1284.56 1545.82 Q1288.19 1545.82 1290 1542.27 Q1291.83 1538.71 1291.83 1531.6 Q1291.83 1524.47 1290 1520.93 Q1288.19 1517.37 1284.56 1517.37 M1284.56 1513.66 Q1290.37 1513.66 1293.42 1518.27 Q1296.5 1522.85 1296.5 1531.6 Q1296.5 1540.33 1293.42 1544.94 Q1290.37 1549.52 1284.56 1549.52 Q1278.75 1549.52 1275.67 1544.94 Q1272.61 1540.33 1272.61 1531.6 Q1272.61 1522.85 1275.67 1518.27 Q1278.75 1513.66 1284.56 1513.66 Z\" fill=\"#000000\" fill-rule=\"evenodd\" fill-opacity=\"1\" /><path clip-path=\"url(#clip750)\" d=\"M1770.12 1530.21 Q1773.47 1530.93 1775.35 1533.2 Q1777.24 1535.47 1777.24 1538.8 Q1777.24 1543.92 1773.73 1546.72 Q1770.21 1549.52 1763.73 1549.52 Q1761.55 1549.52 1759.24 1549.08 Q1756.94 1548.66 1754.49 1547.81 L1754.49 1543.29 Q1756.43 1544.43 1758.75 1545.01 Q1761.06 1545.58 1763.59 1545.58 Q1767.99 1545.58 1770.28 1543.85 Q1772.59 1542.11 1772.59 1538.8 Q1772.59 1535.75 1770.44 1534.03 Q1768.31 1532.3 1764.49 1532.3 L1760.46 1532.3 L1760.46 1528.45 L1764.68 1528.45 Q1768.12 1528.45 1769.95 1527.09 Q1771.78 1525.7 1771.78 1523.11 Q1771.78 1520.45 1769.88 1519.03 Q1768.01 1517.6 1764.49 1517.6 Q1762.57 1517.6 1760.37 1518.01 Q1758.17 1518.43 1755.53 1519.31 L1755.53 1515.14 Q1758.19 1514.4 1760.51 1514.03 Q1762.85 1513.66 1764.91 1513.66 Q1770.23 1513.66 1773.33 1516.09 Q1776.43 1518.5 1776.43 1522.62 Q1776.43 1525.49 1774.79 1527.48 Q1773.15 1529.45 1770.12 1530.21 Z\" fill=\"#000000\" fill-rule=\"evenodd\" fill-opacity=\"1\" /><path clip-path=\"url(#clip750)\" d=\"M1796.11 1517.37 Q1792.5 1517.37 1790.67 1520.93 Q1788.87 1524.47 1788.87 1531.6 Q1788.87 1538.71 1790.67 1542.27 Q1792.5 1545.82 1796.11 1545.82 Q1799.74 1545.82 1801.55 1542.27 Q1803.38 1538.71 1803.38 1531.6 Q1803.38 1524.47 1801.55 1520.93 Q1799.74 1517.37 1796.11 1517.37 M1796.11 1513.66 Q1801.92 1513.66 1804.98 1518.27 Q1808.06 1522.85 1808.06 1531.6 Q1808.06 1540.33 1804.98 1544.94 Q1801.92 1549.52 1796.11 1549.52 Q1790.3 1549.52 1787.22 1544.94 Q1784.17 1540.33 1784.17 1531.6 Q1784.17 1522.85 1787.22 1518.27 Q1790.3 1513.66 1796.11 1513.66 Z\" fill=\"#000000\" fill-rule=\"evenodd\" fill-opacity=\"1\" /><path clip-path=\"url(#clip750)\" d=\"M2281.07 1518.36 L2269.26 1536.81 L2281.07 1536.81 L2281.07 1518.36 M2279.84 1514.29 L2285.72 1514.29 L2285.72 1536.81 L2290.65 1536.81 L2290.65 1540.7 L2285.72 1540.7 L2285.72 1548.85 L2281.07 1548.85 L2281.07 1540.7 L2265.47 1540.7 L2265.47 1536.19 L2279.84 1514.29 Z\" fill=\"#000000\" fill-rule=\"evenodd\" fill-opacity=\"1\" /><path clip-path=\"url(#clip750)\" d=\"M2308.38 1517.37 Q2304.77 1517.37 2302.94 1520.93 Q2301.14 1524.47 2301.14 1531.6 Q2301.14 1538.71 2302.94 1542.27 Q2304.77 1545.82 2308.38 1545.82 Q2312.02 1545.82 2313.82 1542.27 Q2315.65 1538.71 2315.65 1531.6 Q2315.65 1524.47 2313.82 1520.93 Q2312.02 1517.37 2308.38 1517.37 M2308.38 1513.66 Q2314.19 1513.66 2317.25 1518.27 Q2320.33 1522.85 2320.33 1531.6 Q2320.33 1540.33 2317.25 1544.94 Q2314.19 1549.52 2308.38 1549.52 Q2302.57 1549.52 2299.49 1544.94 Q2296.44 1540.33 2296.44 1531.6 Q2296.44 1522.85 2299.49 1518.27 Q2302.57 1513.66 2308.38 1513.66 Z\" fill=\"#000000\" fill-rule=\"evenodd\" fill-opacity=\"1\" /><polyline clip-path=\"url(#clip754)\" style=\"stroke:#000000; stroke-linecap:round; stroke-linejoin:round; stroke-width:8; stroke-opacity:0.1; fill:none\" points=\"237.705,1468.36 2352.76,1468.36 \"/>\n",
       "<polyline clip-path=\"url(#clip754)\" style=\"stroke:#000000; stroke-linecap:round; stroke-linejoin:round; stroke-width:8; stroke-opacity:0.1; fill:none\" points=\"237.705,1273.83 2352.76,1273.83 \"/>\n",
       "<polyline clip-path=\"url(#clip754)\" style=\"stroke:#000000; stroke-linecap:round; stroke-linejoin:round; stroke-width:8; stroke-opacity:0.1; fill:none\" points=\"237.705,1079.31 2352.76,1079.31 \"/>\n",
       "<polyline clip-path=\"url(#clip754)\" style=\"stroke:#000000; stroke-linecap:round; stroke-linejoin:round; stroke-width:8; stroke-opacity:0.1; fill:none\" points=\"237.705,884.787 2352.76,884.787 \"/>\n",
       "<polyline clip-path=\"url(#clip750)\" style=\"stroke:#000000; stroke-linecap:round; stroke-linejoin:round; stroke-width:4; stroke-opacity:1; fill:none\" points=\"237.705,1486.45 237.705,847.244 \"/>\n",
       "<polyline clip-path=\"url(#clip750)\" style=\"stroke:#000000; stroke-linecap:round; stroke-linejoin:round; stroke-width:4; stroke-opacity:1; fill:none\" points=\"237.705,1468.36 256.603,1468.36 \"/>\n",
       "<polyline clip-path=\"url(#clip750)\" style=\"stroke:#000000; stroke-linecap:round; stroke-linejoin:round; stroke-width:4; stroke-opacity:1; fill:none\" points=\"237.705,1273.83 256.603,1273.83 \"/>\n",
       "<polyline clip-path=\"url(#clip750)\" style=\"stroke:#000000; stroke-linecap:round; stroke-linejoin:round; stroke-width:4; stroke-opacity:1; fill:none\" points=\"237.705,1079.31 256.603,1079.31 \"/>\n",
       "<polyline clip-path=\"url(#clip750)\" style=\"stroke:#000000; stroke-linecap:round; stroke-linejoin:round; stroke-width:4; stroke-opacity:1; fill:none\" points=\"237.705,884.787 256.603,884.787 \"/>\n",
       "<path clip-path=\"url(#clip750)\" d=\"M189.761 1454.16 Q186.15 1454.16 184.321 1457.72 Q182.516 1461.26 182.516 1468.39 Q182.516 1475.5 184.321 1479.06 Q186.15 1482.6 189.761 1482.6 Q193.395 1482.6 195.201 1479.06 Q197.03 1475.5 197.03 1468.39 Q197.03 1461.26 195.201 1457.72 Q193.395 1454.16 189.761 1454.16 M189.761 1450.45 Q195.571 1450.45 198.627 1455.06 Q201.705 1459.64 201.705 1468.39 Q201.705 1477.12 198.627 1481.73 Q195.571 1486.31 189.761 1486.31 Q183.951 1486.31 180.872 1481.73 Q177.817 1477.12 177.817 1468.39 Q177.817 1459.64 180.872 1455.06 Q183.951 1450.45 189.761 1450.45 Z\" fill=\"#000000\" fill-rule=\"evenodd\" fill-opacity=\"1\" /><path clip-path=\"url(#clip750)\" d=\"M120.248 1287.18 L127.886 1287.18 L127.886 1260.81 L119.576 1262.48 L119.576 1258.22 L127.84 1256.55 L132.516 1256.55 L132.516 1287.18 L140.155 1287.18 L140.155 1291.11 L120.248 1291.11 L120.248 1287.18 Z\" fill=\"#000000\" fill-rule=\"evenodd\" fill-opacity=\"1\" /><path clip-path=\"url(#clip750)\" d=\"M159.599 1259.63 Q155.988 1259.63 154.159 1263.2 Q152.354 1266.74 152.354 1273.87 Q152.354 1280.98 154.159 1284.54 Q155.988 1288.08 159.599 1288.08 Q163.233 1288.08 165.039 1284.54 Q166.868 1280.98 166.868 1273.87 Q166.868 1266.74 165.039 1263.2 Q163.233 1259.63 159.599 1259.63 M159.599 1255.93 Q165.409 1255.93 168.465 1260.54 Q171.544 1265.12 171.544 1273.87 Q171.544 1282.6 168.465 1287.2 Q165.409 1291.79 159.599 1291.79 Q153.789 1291.79 150.71 1287.2 Q147.655 1282.6 147.655 1273.87 Q147.655 1265.12 150.71 1260.54 Q153.789 1255.93 159.599 1255.93 Z\" fill=\"#000000\" fill-rule=\"evenodd\" fill-opacity=\"1\" /><path clip-path=\"url(#clip750)\" d=\"M189.761 1259.63 Q186.15 1259.63 184.321 1263.2 Q182.516 1266.74 182.516 1273.87 Q182.516 1280.98 184.321 1284.54 Q186.15 1288.08 189.761 1288.08 Q193.395 1288.08 195.201 1284.54 Q197.03 1280.98 197.03 1273.87 Q197.03 1266.74 195.201 1263.2 Q193.395 1259.63 189.761 1259.63 M189.761 1255.93 Q195.571 1255.93 198.627 1260.54 Q201.705 1265.12 201.705 1273.87 Q201.705 1282.6 198.627 1287.2 Q195.571 1291.79 189.761 1291.79 Q183.951 1291.79 180.872 1287.2 Q177.817 1282.6 177.817 1273.87 Q177.817 1265.12 180.872 1260.54 Q183.951 1255.93 189.761 1255.93 Z\" fill=\"#000000\" fill-rule=\"evenodd\" fill-opacity=\"1\" /><path clip-path=\"url(#clip750)\" d=\"M123.465 1092.66 L139.784 1092.66 L139.784 1096.59 L117.84 1096.59 L117.84 1092.66 Q120.502 1089.9 125.085 1085.27 Q129.692 1080.62 130.872 1079.28 Q133.118 1076.75 133.997 1075.02 Q134.9 1073.26 134.9 1071.57 Q134.9 1068.81 132.956 1067.08 Q131.035 1065.34 127.933 1065.34 Q125.734 1065.34 123.28 1066.1 Q120.849 1066.87 118.072 1068.42 L118.072 1063.7 Q120.896 1062.56 123.349 1061.98 Q125.803 1061.41 127.84 1061.41 Q133.21 1061.41 136.405 1064.09 Q139.599 1066.78 139.599 1071.27 Q139.599 1073.4 138.789 1075.32 Q138.002 1077.22 135.896 1079.81 Q135.317 1080.48 132.215 1083.7 Q129.113 1086.89 123.465 1092.66 Z\" fill=\"#000000\" fill-rule=\"evenodd\" fill-opacity=\"1\" /><path clip-path=\"url(#clip750)\" d=\"M159.599 1065.11 Q155.988 1065.11 154.159 1068.67 Q152.354 1072.22 152.354 1079.35 Q152.354 1086.45 154.159 1090.02 Q155.988 1093.56 159.599 1093.56 Q163.233 1093.56 165.039 1090.02 Q166.868 1086.45 166.868 1079.35 Q166.868 1072.22 165.039 1068.67 Q163.233 1065.11 159.599 1065.11 M159.599 1061.41 Q165.409 1061.41 168.465 1066.01 Q171.544 1070.6 171.544 1079.35 Q171.544 1088.07 168.465 1092.68 Q165.409 1097.26 159.599 1097.26 Q153.789 1097.26 150.71 1092.68 Q147.655 1088.07 147.655 1079.35 Q147.655 1070.6 150.71 1066.01 Q153.789 1061.41 159.599 1061.41 Z\" fill=\"#000000\" fill-rule=\"evenodd\" fill-opacity=\"1\" /><path clip-path=\"url(#clip750)\" d=\"M189.761 1065.11 Q186.15 1065.11 184.321 1068.67 Q182.516 1072.22 182.516 1079.35 Q182.516 1086.45 184.321 1090.02 Q186.15 1093.56 189.761 1093.56 Q193.395 1093.56 195.201 1090.02 Q197.03 1086.45 197.03 1079.35 Q197.03 1072.22 195.201 1068.67 Q193.395 1065.11 189.761 1065.11 M189.761 1061.41 Q195.571 1061.41 198.627 1066.01 Q201.705 1070.6 201.705 1079.35 Q201.705 1088.07 198.627 1092.68 Q195.571 1097.26 189.761 1097.26 Q183.951 1097.26 180.872 1092.68 Q177.817 1088.07 177.817 1079.35 Q177.817 1070.6 180.872 1066.01 Q183.951 1061.41 189.761 1061.41 Z\" fill=\"#000000\" fill-rule=\"evenodd\" fill-opacity=\"1\" /><path clip-path=\"url(#clip750)\" d=\"M133.604 883.433 Q136.96 884.151 138.835 886.419 Q140.734 888.688 140.734 892.021 Q140.734 897.137 137.215 899.937 Q133.697 902.738 127.215 902.738 Q125.039 902.738 122.724 902.299 Q120.433 901.882 117.979 901.025 L117.979 896.512 Q119.923 897.646 122.238 898.225 Q124.553 898.803 127.076 898.803 Q131.474 898.803 133.766 897.067 Q136.081 895.331 136.081 892.021 Q136.081 888.965 133.928 887.252 Q131.798 885.516 127.979 885.516 L123.951 885.516 L123.951 881.674 L128.164 881.674 Q131.613 881.674 133.442 880.308 Q135.271 878.919 135.271 876.327 Q135.271 873.664 133.372 872.252 Q131.497 870.817 127.979 870.817 Q126.058 870.817 123.859 871.234 Q121.66 871.651 119.021 872.53 L119.021 868.364 Q121.683 867.623 123.998 867.252 Q126.335 866.882 128.396 866.882 Q133.72 866.882 136.822 869.313 Q139.923 871.72 139.923 875.84 Q139.923 878.711 138.28 880.701 Q136.636 882.669 133.604 883.433 Z\" fill=\"#000000\" fill-rule=\"evenodd\" fill-opacity=\"1\" /><path clip-path=\"url(#clip750)\" d=\"M159.599 870.586 Q155.988 870.586 154.159 874.151 Q152.354 877.692 152.354 884.822 Q152.354 891.928 154.159 895.493 Q155.988 899.035 159.599 899.035 Q163.233 899.035 165.039 895.493 Q166.868 891.928 166.868 884.822 Q166.868 877.692 165.039 874.151 Q163.233 870.586 159.599 870.586 M159.599 866.882 Q165.409 866.882 168.465 871.489 Q171.544 876.072 171.544 884.822 Q171.544 893.549 168.465 898.155 Q165.409 902.738 159.599 902.738 Q153.789 902.738 150.71 898.155 Q147.655 893.549 147.655 884.822 Q147.655 876.072 150.71 871.489 Q153.789 866.882 159.599 866.882 Z\" fill=\"#000000\" fill-rule=\"evenodd\" fill-opacity=\"1\" /><path clip-path=\"url(#clip750)\" d=\"M189.761 870.586 Q186.15 870.586 184.321 874.151 Q182.516 877.692 182.516 884.822 Q182.516 891.928 184.321 895.493 Q186.15 899.035 189.761 899.035 Q193.395 899.035 195.201 895.493 Q197.03 891.928 197.03 884.822 Q197.03 877.692 195.201 874.151 Q193.395 870.586 189.761 870.586 M189.761 866.882 Q195.571 866.882 198.627 871.489 Q201.705 876.072 201.705 884.822 Q201.705 893.549 198.627 898.155 Q195.571 902.738 189.761 902.738 Q183.951 902.738 180.872 898.155 Q177.817 893.549 177.817 884.822 Q177.817 876.072 180.872 871.489 Q183.951 866.882 189.761 866.882 Z\" fill=\"#000000\" fill-rule=\"evenodd\" fill-opacity=\"1\" /><path clip-path=\"url(#clip750)\" d=\"M17.9264 1219.08 Q18.5383 1219.08 19.0536 1219.21 L30.5189 1221.02 Q31.3884 1221.11 31.7105 1221.31 Q32.0325 1221.47 32.0325 1221.98 Q32.0325 1222.79 31.1952 1222.79 Q30.7121 1222.79 29.9391 1222.59 Q26.2999 1222.05 24.6574 1222.05 Q23.5624 1222.05 22.7572 1222.27 Q21.9199 1222.47 21.3402 1222.79 Q20.7605 1223.08 20.374 1223.75 Q19.9875 1224.43 19.7621 1225.07 Q19.5367 1225.72 19.44 1226.88 Q19.3112 1228.04 19.279 1229.04 Q19.2468 1230.03 19.2468 1231.68 Q19.2468 1235.25 19.3756 1235.83 Q19.5367 1236.44 20.0197 1236.76 Q20.4706 1237.05 21.8233 1237.38 L56.831 1246.14 L58.2159 1246.39 Q58.9888 1246.39 59.2465 1245.91 Q59.5041 1245.43 59.6652 1243.95 Q59.8262 1241.82 59.8262 1239.73 Q59.8262 1239.66 59.8262 1239.53 Q59.8262 1238.83 59.8584 1238.54 Q59.8584 1238.25 59.9228 1237.96 Q59.9872 1237.67 60.1482 1237.6 Q60.2771 1237.51 60.5347 1237.51 Q61.1466 1237.51 61.4687 1237.76 Q61.7585 1238.02 61.823 1238.28 Q61.8552 1238.5 61.8552 1238.95 Q61.8552 1239.86 61.7907 1241.79 Q61.7263 1243.72 61.7263 1244.69 L61.6619 1250.16 L61.7263 1255.77 Q61.7263 1256.64 61.7907 1258.47 Q61.8552 1260.31 61.8552 1261.18 Q61.8552 1262.3 61.05 1262.3 Q60.1482 1262.3 59.9872 1261.89 Q59.8262 1261.43 59.8262 1259.53 Q59.8262 1256.86 59.6974 1255.41 Q59.5685 1253.96 59.1177 1253.19 Q58.6668 1252.38 58.2159 1252.16 Q57.7328 1251.93 56.6378 1251.68 L21.4368 1242.82 Q20.6639 1242.56 20.0519 1242.56 Q19.7299 1242.56 19.6011 1242.66 Q19.4722 1242.72 19.3756 1243.14 Q19.2468 1243.56 19.2468 1244.43 L19.2468 1247.01 Q19.2468 1249.65 19.3756 1251.29 Q19.4722 1252.9 19.9553 1254.45 Q20.4384 1255.96 21.1147 1256.86 Q21.7911 1257.73 23.1759 1258.7 Q24.5608 1259.66 26.2355 1260.37 Q27.9102 1261.05 30.6477 1262.01 Q31.5494 1262.34 31.8071 1262.53 Q32.0325 1262.69 32.0325 1263.14 Q32.0325 1263.46 31.8393 1263.72 Q31.6139 1263.95 31.324 1263.95 Q30.2612 1263.62 30.1324 1263.56 L18.5061 1259.6 Q17.5721 1259.28 17.4111 1258.99 Q17.2178 1258.66 17.2178 1257.47 L17.2178 1220.89 Q17.2178 1220.31 17.2178 1220.11 Q17.2178 1219.92 17.2822 1219.6 Q17.3467 1219.28 17.5077 1219.18 Q17.6687 1219.08 17.9264 1219.08 Z\" fill=\"#000000\" fill-rule=\"evenodd\" fill-opacity=\"1\" /><path clip-path=\"url(#clip750)\" d=\"M51.2753 1193.55 Q52.1996 1193.55 52.9661 1194.34 Q53.7326 1195.13 53.7326 1196.05 Q53.7326 1196.82 53.2591 1197.29 Q52.7857 1197.74 52.0643 1197.74 Q51.0724 1197.74 50.351 1196.95 Q49.607 1196.16 49.607 1195.31 Q49.607 1194.52 50.103 1194.04 Q50.5764 1193.55 51.2753 1193.55 M63.9676 1195.26 Q64.7566 1195.26 65.681 1195.49 L82.589 1199.72 Q84.2347 1200.13 85.5874 1201.1 Q86.9626 1202.07 87.8193 1203.31 Q88.6759 1204.53 89.1268 1205.86 Q89.6002 1207.16 89.6002 1208.4 Q89.6002 1210.14 88.8337 1211.31 Q88.0672 1212.48 86.7371 1212.48 Q85.5648 1212.48 84.8209 1211.72 Q84.0995 1210.93 84.0995 1209.98 Q84.0995 1209.13 84.5955 1208.67 Q85.0914 1208.22 85.7227 1208.22 Q86.4892 1208.22 87.2106 1208.79 Q87.932 1209.33 88.1574 1210.3 Q88.5858 1209.42 88.5858 1208.49 Q88.5858 1206.6 86.8499 1205.07 Q85.1365 1203.51 82.4312 1202.84 L65.2075 1198.48 Q63.8323 1198.17 62.8629 1198.17 Q61.9612 1198.17 61.4652 1198.42 Q60.9692 1198.66 60.8565 1198.96 Q60.7438 1199.23 60.7438 1199.63 Q60.7438 1201.42 62.3895 1202.95 Q64.0127 1204.48 66.3798 1205.45 Q67.0336 1205.72 67.1689 1205.86 Q67.3041 1205.97 67.3041 1206.28 Q67.2816 1206.85 66.8307 1206.85 Q66.6954 1206.85 66.1544 1206.62 Q65.6133 1206.4 64.8243 1205.99 Q64.0127 1205.59 63.1335 1204.93 Q62.2542 1204.28 61.4877 1203.51 Q60.7212 1202.72 60.2253 1201.66 Q59.7293 1200.6 59.7293 1199.5 Q59.7293 1197.72 60.9016 1196.5 Q62.0513 1195.26 63.9676 1195.26 Z\" fill=\"#000000\" fill-rule=\"evenodd\" fill-opacity=\"1\" /><path clip-path=\"url(#clip750)\" d=\"M80.1317 1188.49 Q79.2976 1188.49 79.0496 1188.42 Q78.8016 1188.33 78.4184 1187.97 L68.5441 1179.11 Q63.0884 1174.26 58.3316 1174.26 Q55.243 1174.26 53.0337 1175.88 Q50.8244 1177.49 50.8244 1180.44 Q50.8244 1182.47 52.0643 1184.18 Q53.3042 1185.89 55.5136 1186.68 Q55.4685 1186.55 55.4685 1186.07 Q55.4685 1184.92 56.1899 1184.29 Q56.9113 1183.64 57.8807 1183.64 Q59.1206 1183.64 59.7293 1184.45 Q60.3155 1185.24 60.3155 1186.03 Q60.3155 1186.34 60.2478 1186.77 Q60.1802 1187.18 59.549 1187.83 Q58.8952 1188.49 57.7454 1188.49 Q54.5216 1188.49 51.9516 1186.05 Q49.3816 1183.59 49.3816 1179.85 Q49.3816 1175.61 51.9065 1172.84 Q54.4089 1170.05 58.3316 1170.05 Q59.7068 1170.05 60.9692 1170.47 Q62.2092 1170.88 63.1786 1171.44 Q64.148 1171.98 65.7035 1173.47 Q67.259 1174.96 68.3637 1176.16 Q69.4684 1177.35 71.8129 1180.03 L76.5698 1184.92 L76.5698 1176.61 Q76.5698 1172.55 76.209 1172.23 Q75.5553 1171.78 72.106 1171.22 L72.106 1170.05 L80.1317 1171.35 L80.1317 1188.49 Z\" fill=\"#000000\" fill-rule=\"evenodd\" fill-opacity=\"1\" /><path clip-path=\"url(#clip750)\" d=\"M78.3446 1158.58 L12.387 1158.58 L12.387 1148.63 L13.9006 1148.63 L13.9006 1154.17 L76.8309 1154.17 L76.8309 1148.63 L78.3446 1148.63 L78.3446 1158.58 Z\" fill=\"#000000\" fill-rule=\"evenodd\" fill-opacity=\"1\" /><path clip-path=\"url(#clip750)\" d=\"M17.5399 1090.1 Q17.9586 1090.1 18.2484 1090.2 Q18.5061 1090.3 18.6349 1090.52 Q18.7637 1090.75 18.7959 1090.88 Q18.8281 1091.01 18.8603 1091.3 Q18.9892 1092.68 19.2146 1093.65 Q19.44 1094.58 20.5994 1096.9 Q21.7589 1099.19 23.8522 1102.05 L32.7733 1113.58 L34.2869 1115.52 Q34.3836 1115.52 34.5768 1115.45 Q34.7378 1115.39 34.9633 1115.32 Q35.1565 1115.23 35.2209 1115.19 L56.831 1105.82 Q58.5702 1105.08 59.1821 1104.18 Q59.794 1103.28 59.8262 1101.25 Q59.8262 1100.93 59.8584 1100.8 Q59.8584 1100.64 59.9228 1100.41 Q59.955 1100.15 60.116 1100.06 Q60.2771 1099.93 60.5347 1099.93 Q61.8552 1099.93 61.8552 1101.12 Q61.8552 1101.86 61.7585 1104.37 Q61.6619 1106.88 61.6619 1107.59 Q61.6619 1108.91 61.7585 1111.62 Q61.8552 1114.32 61.8552 1115.64 Q61.8552 1116.58 61.1144 1116.58 Q60.5025 1116.58 60.2127 1116.35 Q59.8906 1116.09 59.8584 1115.87 Q59.8262 1115.64 59.8262 1115.13 Q59.8262 1114.74 59.794 1114.32 Q59.7296 1113.87 59.5685 1113.23 Q59.3753 1112.55 58.9244 1112.13 Q58.4413 1111.68 57.765 1111.68 Q57.2175 1111.68 55.4462 1112.49 L37.7008 1120.12 L45.3658 1129.94 L55.736 1132.58 Q56.1225 1132.65 56.7988 1132.81 Q57.4752 1132.97 57.9582 1133.1 Q58.4413 1133.2 58.6346 1133.2 Q59.0532 1133.2 59.3109 1132.94 Q59.5685 1132.65 59.6974 1131.94 Q59.794 1131.23 59.8262 1130.68 Q59.8262 1130.1 59.8262 1128.91 Q59.8262 1127.43 60.0838 1127.17 Q60.2449 1127.04 60.5347 1127.04 Q60.9856 1127.04 61.3077 1127.17 Q61.5975 1127.3 61.6941 1127.56 Q61.7907 1127.79 61.823 1127.95 Q61.8552 1128.11 61.8552 1128.37 Q61.8552 1129.04 61.7907 1130.49 Q61.7263 1131.91 61.7263 1132.65 L61.6619 1136.87 L61.8552 1145.24 Q61.8552 1146.24 61.05 1146.24 Q60.4381 1146.24 60.1805 1145.98 Q59.8906 1145.72 59.8584 1145.43 Q59.8262 1145.14 59.8262 1144.4 Q59.8262 1142.79 59.7296 1141.83 Q59.633 1140.86 59.5041 1140.25 Q59.3431 1139.61 58.8922 1139.28 Q58.4413 1138.93 58.0549 1138.77 Q57.6362 1138.61 56.7022 1138.38 L21.2758 1129.56 Q20.213 1129.3 20.0519 1129.3 Q19.5044 1129.3 19.3112 1129.62 Q19.0858 1129.91 18.9892 1130.75 Q18.8603 1132.36 18.8603 1133.58 Q18.8603 1134.39 18.8281 1134.71 Q18.7959 1135 18.6349 1135.26 Q18.4417 1135.48 18.0552 1135.48 Q16.7992 1135.48 16.7992 1134.16 L16.9924 1125.66 L16.7992 1117.22 Q16.7992 1116.29 17.5399 1116.29 Q18.4739 1116.29 18.6671 1116.74 Q18.8603 1117.16 18.8603 1118.54 Q18.8603 1120.96 19.1824 1122.05 Q19.4722 1123.12 19.9875 1123.44 Q20.4706 1123.73 21.8877 1124.08 L43.0469 1129.36 L23.2725 1103.63 Q21.2758 1101.25 20.2452 1101.25 Q19.5689 1101.25 19.279 1101.73 Q18.957 1102.18 18.8603 1103.31 Q18.7315 1104.11 18.1196 1104.11 Q17.5077 1104.11 17.2178 1103.89 Q16.8958 1103.63 16.8636 1103.44 Q16.7992 1103.21 16.7992 1102.86 Q16.7992 1101.67 16.8958 1099.19 Q16.9924 1096.71 16.9924 1095.52 Q16.9924 1094.71 16.8958 1093.13 Q16.7992 1091.55 16.7992 1090.85 Q16.7992 1090.49 17.0568 1090.3 Q17.2822 1090.1 17.5399 1090.1 Z\" fill=\"#000000\" fill-rule=\"evenodd\" fill-opacity=\"1\" /><path clip-path=\"url(#clip750)\" d=\"M76.8309 1087.9 L76.8309 1082.36 L13.9006 1082.36 L13.9006 1087.9 L12.387 1087.9 L12.387 1077.94 L78.3446 1077.94 L78.3446 1087.9 L76.8309 1087.9 Z\" fill=\"#000000\" fill-rule=\"evenodd\" fill-opacity=\"1\" /><polyline clip-path=\"url(#clip754)\" style=\"stroke:#000000; stroke-linecap:round; stroke-linejoin:round; stroke-width:4; stroke-opacity:1; fill:none\" stroke-dasharray=\"2, 4\" points=\"297.565,865.335 348.728,865.335 399.89,865.335 451.052,865.335 502.215,865.335 553.377,865.335 604.539,865.335 655.702,865.335 706.864,865.335 758.026,865.335 809.189,865.335 860.351,865.335 911.513,865.335 962.676,865.335 1013.84,865.335 1065,865.335 1116.16,865.335 1167.32,865.335 1218.49,865.335 1269.65,865.335 1320.81,865.335 1371.97,865.335 1423.14,865.335 1474.3,865.335 1525.46,865.335 1576.62,865.335 1627.79,865.335 1678.95,865.335 1730.11,865.335 1781.27,865.335 1832.44,865.335 1883.6,865.335 1934.76,865.335 1985.92,865.335 2037.08,865.335 2088.25,865.335 2139.41,865.335 2190.57,865.335 2241.73,865.335 2292.9,865.335 \"/>\n",
       "<polyline clip-path=\"url(#clip754)\" style=\"stroke:#ff0000; stroke-linecap:round; stroke-linejoin:round; stroke-width:12; stroke-opacity:0.3; fill:none\" points=\"297.565,889.783 348.728,888.827 399.89,886.435 451.052,883.187 502.215,880.476 553.377,878.44 604.539,876.999 655.702,876.046 706.864,875.467 758.026,875.16 809.189,875.017 860.351,874.88 911.513,874.513 962.676,873.938 1013.84,873.374 1065,872.883 1116.16,872.481 1167.32,872.578 1218.49,873.195 1269.65,874.462 1320.81,1468.36 1371.97,1468.36 1423.14,1468.36 1474.3,1468.36 1525.46,1468.36 1576.62,1468.36 1627.79,1468.36 1678.95,1468.36 1730.11,1468.36 1781.27,1468.36 1832.44,1468.36 1883.6,1468.36 1934.76,1468.36 1985.92,1468.36 2037.08,1468.36 2088.25,1468.36 2139.41,1468.36 2190.57,1468.36 2241.73,1468.36 2292.9,1468.36 \"/>\n",
       "<polyline clip-path=\"url(#clip754)\" style=\"stroke:#0000ff; stroke-linecap:round; stroke-linejoin:round; stroke-width:12; stroke-opacity:0.3; fill:none\" points=\"297.565,1468.36 348.728,1468.36 399.89,1468.36 451.052,1468.36 502.215,1468.36 553.377,1468.36 604.539,1468.36 655.702,1468.36 706.864,1468.36 758.026,1468.36 809.189,1468.36 860.351,1468.36 911.513,1468.36 962.676,1468.36 1013.84,1468.36 1065,1468.36 1116.16,1468.36 1167.32,1468.36 1218.49,1468.36 1269.65,1468.36 1320.81,1468.36 1371.97,1468.36 1423.14,1468.36 1474.3,1468.36 1525.46,1468.36 1576.62,1468.36 1627.79,1468.36 1678.95,1468.36 1730.11,1468.36 1781.27,1468.36 1832.44,1468.36 1883.6,1468.36 1934.76,1468.36 1985.92,1468.36 2037.08,1468.36 2088.25,1468.36 2139.41,1468.36 2190.57,1468.36 2241.73,1468.36 2292.9,1468.36 \"/>\n",
       "</svg>\n"
      ]
     },
     "metadata": {},
     "output_type": "display_data"
    }
   ],
   "source": [
    "p7 = plot(layout = (num_subplots, 1),fmt = :svg, resolution = (600, 400), latex=true,gridlinewidth=2) \n",
    "\n",
    "# Loop to generate subplots \n",
    "for mm in 1:num_subplots \n",
    "    # limits\n",
    "    plot!(subplot=mm,ts,Tj_max[2]*ones(length(ts)),linestyle = :dot,linecolor = :black,label=\"\")\n",
    "    \n",
    "    for nn in 1:n_MC\n",
    "        plot!(subplot=mm,ts,TjPlant[2,:,nn,mm],linewidth=3,linealpha = 0.3,linecolor = CList[nn],legend=false)\n",
    "    end\n",
    "    \n",
    "    # Add labels, titles, or other customizations to each subplot \n",
    "    ylabel!(L\"T_{j2} [K]\") \n",
    "end \n",
    "\n",
    "# Display the subplots \n",
    "display(p7)"
   ]
  },
  {
   "cell_type": "code",
   "execution_count": 27,
   "id": "6dbcfadd",
   "metadata": {},
   "outputs": [
    {
     "data": {
      "image/svg+xml": [
       "<?xml version=\"1.0\" encoding=\"utf-8\"?>\n",
       "<svg xmlns=\"http://www.w3.org/2000/svg\" xmlns:xlink=\"http://www.w3.org/1999/xlink\" width=\"600\" height=\"400\" viewBox=\"0 0 2400 1600\">\n",
       "<defs>\n",
       "  <clipPath id=\"clip790\">\n",
       "    <rect x=\"0\" y=\"0\" width=\"2400\" height=\"1600\"/>\n",
       "  </clipPath>\n",
       "</defs>\n",
       "<path clip-path=\"url(#clip790)\" d=\"M0 1600 L2400 1600 L2400 0 L0 0  Z\" fill=\"#ffffff\" fill-rule=\"evenodd\" fill-opacity=\"1\"/>\n",
       "<defs>\n",
       "  <clipPath id=\"clip791\">\n",
       "    <rect x=\"480\" y=\"0\" width=\"1681\" height=\"1600\"/>\n",
       "  </clipPath>\n",
       "</defs>\n",
       "<defs>\n",
       "  <clipPath id=\"clip792\">\n",
       "    <rect x=\"237\" y=\"847\" width=\"2116\" height=\"640\"/>\n",
       "  </clipPath>\n",
       "</defs>\n",
       "<path clip-path=\"url(#clip790)\" d=\"M221.878 686.448 L2352.76 686.448 L2352.76 47.2441 L221.878 47.2441  Z\" fill=\"#ffffff\" fill-rule=\"evenodd\" fill-opacity=\"1\"/>\n",
       "<defs>\n",
       "  <clipPath id=\"clip793\">\n",
       "    <rect x=\"221\" y=\"47\" width=\"2132\" height=\"640\"/>\n",
       "  </clipPath>\n",
       "</defs>\n",
       "<polyline clip-path=\"url(#clip793)\" style=\"stroke:#000000; stroke-linecap:round; stroke-linejoin:round; stroke-width:8; stroke-opacity:0.1; fill:none\" points=\"230.641,686.448 230.641,47.2441 \"/>\n",
       "<polyline clip-path=\"url(#clip793)\" style=\"stroke:#000000; stroke-linecap:round; stroke-linejoin:round; stroke-width:8; stroke-opacity:0.1; fill:none\" points=\"746.093,686.448 746.093,47.2441 \"/>\n",
       "<polyline clip-path=\"url(#clip793)\" style=\"stroke:#000000; stroke-linecap:round; stroke-linejoin:round; stroke-width:8; stroke-opacity:0.1; fill:none\" points=\"1261.54,686.448 1261.54,47.2441 \"/>\n",
       "<polyline clip-path=\"url(#clip793)\" style=\"stroke:#000000; stroke-linecap:round; stroke-linejoin:round; stroke-width:8; stroke-opacity:0.1; fill:none\" points=\"1777,686.448 1777,47.2441 \"/>\n",
       "<polyline clip-path=\"url(#clip793)\" style=\"stroke:#000000; stroke-linecap:round; stroke-linejoin:round; stroke-width:8; stroke-opacity:0.1; fill:none\" points=\"2292.45,686.448 2292.45,47.2441 \"/>\n",
       "<polyline clip-path=\"url(#clip790)\" style=\"stroke:#000000; stroke-linecap:round; stroke-linejoin:round; stroke-width:4; stroke-opacity:1; fill:none\" points=\"221.878,686.448 2352.76,686.448 \"/>\n",
       "<polyline clip-path=\"url(#clip790)\" style=\"stroke:#000000; stroke-linecap:round; stroke-linejoin:round; stroke-width:4; stroke-opacity:1; fill:none\" points=\"230.641,686.448 230.641,667.55 \"/>\n",
       "<polyline clip-path=\"url(#clip790)\" style=\"stroke:#000000; stroke-linecap:round; stroke-linejoin:round; stroke-width:4; stroke-opacity:1; fill:none\" points=\"746.093,686.448 746.093,667.55 \"/>\n",
       "<polyline clip-path=\"url(#clip790)\" style=\"stroke:#000000; stroke-linecap:round; stroke-linejoin:round; stroke-width:4; stroke-opacity:1; fill:none\" points=\"1261.54,686.448 1261.54,667.55 \"/>\n",
       "<polyline clip-path=\"url(#clip790)\" style=\"stroke:#000000; stroke-linecap:round; stroke-linejoin:round; stroke-width:4; stroke-opacity:1; fill:none\" points=\"1777,686.448 1777,667.55 \"/>\n",
       "<polyline clip-path=\"url(#clip790)\" style=\"stroke:#000000; stroke-linecap:round; stroke-linejoin:round; stroke-width:4; stroke-opacity:1; fill:none\" points=\"2292.45,686.448 2292.45,667.55 \"/>\n",
       "<path clip-path=\"url(#clip790)\" d=\"M230.641 717.367 Q227.03 717.367 225.201 720.931 Q223.395 724.473 223.395 731.603 Q223.395 738.709 225.201 742.274 Q227.03 745.815 230.641 745.815 Q234.275 745.815 236.081 742.274 Q237.909 738.709 237.909 731.603 Q237.909 724.473 236.081 720.931 Q234.275 717.367 230.641 717.367 M230.641 713.663 Q236.451 713.663 239.507 718.269 Q242.585 722.853 242.585 731.603 Q242.585 740.329 239.507 744.936 Q236.451 749.519 230.641 749.519 Q224.831 749.519 221.752 744.936 Q218.696 740.329 218.696 731.603 Q218.696 722.853 221.752 718.269 Q224.831 713.663 230.641 713.663 Z\" fill=\"#000000\" fill-rule=\"evenodd\" fill-opacity=\"1\" /><path clip-path=\"url(#clip790)\" d=\"M720.78 744.913 L728.419 744.913 L728.419 718.547 L720.109 720.214 L720.109 715.955 L728.373 714.288 L733.049 714.288 L733.049 744.913 L740.688 744.913 L740.688 748.848 L720.78 748.848 L720.78 744.913 Z\" fill=\"#000000\" fill-rule=\"evenodd\" fill-opacity=\"1\" /><path clip-path=\"url(#clip790)\" d=\"M760.132 717.367 Q756.521 717.367 754.692 720.931 Q752.887 724.473 752.887 731.603 Q752.887 738.709 754.692 742.274 Q756.521 745.815 760.132 745.815 Q763.766 745.815 765.572 742.274 Q767.4 738.709 767.4 731.603 Q767.4 724.473 765.572 720.931 Q763.766 717.367 760.132 717.367 M760.132 713.663 Q765.942 713.663 768.998 718.269 Q772.076 722.853 772.076 731.603 Q772.076 740.329 768.998 744.936 Q765.942 749.519 760.132 749.519 Q754.322 749.519 751.243 744.936 Q748.188 740.329 748.188 731.603 Q748.188 722.853 751.243 718.269 Q754.322 713.663 760.132 713.663 Z\" fill=\"#000000\" fill-rule=\"evenodd\" fill-opacity=\"1\" /><path clip-path=\"url(#clip790)\" d=\"M1240.32 744.913 L1256.64 744.913 L1256.64 748.848 L1234.69 748.848 L1234.69 744.913 Q1237.35 742.158 1241.94 737.528 Q1246.54 732.876 1247.73 731.533 Q1249.97 729.01 1250.85 727.274 Q1251.75 725.515 1251.75 723.825 Q1251.75 721.07 1249.81 719.334 Q1247.89 717.598 1244.79 717.598 Q1242.59 717.598 1240.13 718.362 Q1237.7 719.126 1234.92 720.677 L1234.92 715.955 Q1237.75 714.82 1240.2 714.242 Q1242.66 713.663 1244.69 713.663 Q1250.06 713.663 1253.26 716.348 Q1256.45 719.033 1256.45 723.524 Q1256.45 725.654 1255.64 727.575 Q1254.85 729.473 1252.75 732.066 Q1252.17 732.737 1249.07 735.954 Q1245.97 739.149 1240.32 744.913 Z\" fill=\"#000000\" fill-rule=\"evenodd\" fill-opacity=\"1\" /><path clip-path=\"url(#clip790)\" d=\"M1276.45 717.367 Q1272.84 717.367 1271.01 720.931 Q1269.21 724.473 1269.21 731.603 Q1269.21 738.709 1271.01 742.274 Q1272.84 745.815 1276.45 745.815 Q1280.09 745.815 1281.89 742.274 Q1283.72 738.709 1283.72 731.603 Q1283.72 724.473 1281.89 720.931 Q1280.09 717.367 1276.45 717.367 M1276.45 713.663 Q1282.26 713.663 1285.32 718.269 Q1288.4 722.853 1288.4 731.603 Q1288.4 740.329 1285.32 744.936 Q1282.26 749.519 1276.45 749.519 Q1270.64 749.519 1267.56 744.936 Q1264.51 740.329 1264.51 731.603 Q1264.51 722.853 1267.56 718.269 Q1270.64 713.663 1276.45 713.663 Z\" fill=\"#000000\" fill-rule=\"evenodd\" fill-opacity=\"1\" /><path clip-path=\"url(#clip790)\" d=\"M1765.84 730.214 Q1769.2 730.931 1771.07 733.2 Q1772.97 735.468 1772.97 738.802 Q1772.97 743.917 1769.45 746.718 Q1765.93 749.519 1759.45 749.519 Q1757.27 749.519 1754.96 749.079 Q1752.67 748.663 1750.21 747.806 L1750.21 743.292 Q1752.16 744.427 1754.47 745.005 Q1756.79 745.584 1759.31 745.584 Q1763.71 745.584 1766 743.848 Q1768.32 742.112 1768.32 738.802 Q1768.32 735.746 1766.16 734.033 Q1764.03 732.297 1760.21 732.297 L1756.19 732.297 L1756.19 728.454 L1760.4 728.454 Q1763.85 728.454 1765.68 727.089 Q1767.51 725.7 1767.51 723.107 Q1767.51 720.445 1765.61 719.033 Q1763.73 717.598 1760.21 717.598 Q1758.29 717.598 1756.09 718.015 Q1753.89 718.431 1751.26 719.311 L1751.26 715.144 Q1753.92 714.404 1756.23 714.033 Q1758.57 713.663 1760.63 713.663 Q1765.95 713.663 1769.06 716.093 Q1772.16 718.501 1772.16 722.621 Q1772.16 725.492 1770.51 727.482 Q1768.87 729.45 1765.84 730.214 Z\" fill=\"#000000\" fill-rule=\"evenodd\" fill-opacity=\"1\" /><path clip-path=\"url(#clip790)\" d=\"M1791.83 717.367 Q1788.22 717.367 1786.39 720.931 Q1784.59 724.473 1784.59 731.603 Q1784.59 738.709 1786.39 742.274 Q1788.22 745.815 1791.83 745.815 Q1795.47 745.815 1797.27 742.274 Q1799.1 738.709 1799.1 731.603 Q1799.1 724.473 1797.27 720.931 Q1795.47 717.367 1791.83 717.367 M1791.83 713.663 Q1797.64 713.663 1800.7 718.269 Q1803.78 722.853 1803.78 731.603 Q1803.78 740.329 1800.7 744.936 Q1797.64 749.519 1791.83 749.519 Q1786.02 749.519 1782.95 744.936 Q1779.89 740.329 1779.89 731.603 Q1779.89 722.853 1782.95 718.269 Q1786.02 713.663 1791.83 713.663 Z\" fill=\"#000000\" fill-rule=\"evenodd\" fill-opacity=\"1\" /><path clip-path=\"url(#clip790)\" d=\"M2280.62 718.362 L2268.81 736.811 L2280.62 736.811 L2280.62 718.362 M2279.39 714.288 L2285.27 714.288 L2285.27 736.811 L2290.2 736.811 L2290.2 740.7 L2285.27 740.7 L2285.27 748.848 L2280.62 748.848 L2280.62 740.7 L2265.02 740.7 L2265.02 736.186 L2279.39 714.288 Z\" fill=\"#000000\" fill-rule=\"evenodd\" fill-opacity=\"1\" /><path clip-path=\"url(#clip790)\" d=\"M2307.93 717.367 Q2304.32 717.367 2302.49 720.931 Q2300.69 724.473 2300.69 731.603 Q2300.69 738.709 2302.49 742.274 Q2304.32 745.815 2307.93 745.815 Q2311.57 745.815 2313.37 742.274 Q2315.2 738.709 2315.2 731.603 Q2315.2 724.473 2313.37 720.931 Q2311.57 717.367 2307.93 717.367 M2307.93 713.663 Q2313.74 713.663 2316.8 718.269 Q2319.88 722.853 2319.88 731.603 Q2319.88 740.329 2316.8 744.936 Q2313.74 749.519 2307.93 749.519 Q2302.12 749.519 2299.05 744.936 Q2295.99 740.329 2295.99 731.603 Q2295.99 722.853 2299.05 718.269 Q2302.12 713.663 2307.93 713.663 Z\" fill=\"#000000\" fill-rule=\"evenodd\" fill-opacity=\"1\" /><polyline clip-path=\"url(#clip793)\" style=\"stroke:#000000; stroke-linecap:round; stroke-linejoin:round; stroke-width:8; stroke-opacity:0.1; fill:none\" points=\"221.878,668.357 2352.76,668.357 \"/>\n",
       "<polyline clip-path=\"url(#clip793)\" style=\"stroke:#000000; stroke-linecap:round; stroke-linejoin:round; stroke-width:8; stroke-opacity:0.1; fill:none\" points=\"221.878,517.602 2352.76,517.602 \"/>\n",
       "<polyline clip-path=\"url(#clip793)\" style=\"stroke:#000000; stroke-linecap:round; stroke-linejoin:round; stroke-width:8; stroke-opacity:0.1; fill:none\" points=\"221.878,366.846 2352.76,366.846 \"/>\n",
       "<polyline clip-path=\"url(#clip793)\" style=\"stroke:#000000; stroke-linecap:round; stroke-linejoin:round; stroke-width:8; stroke-opacity:0.1; fill:none\" points=\"221.878,216.09 2352.76,216.09 \"/>\n",
       "<polyline clip-path=\"url(#clip793)\" style=\"stroke:#000000; stroke-linecap:round; stroke-linejoin:round; stroke-width:8; stroke-opacity:0.1; fill:none\" points=\"221.878,65.3348 2352.76,65.3348 \"/>\n",
       "<polyline clip-path=\"url(#clip790)\" style=\"stroke:#000000; stroke-linecap:round; stroke-linejoin:round; stroke-width:4; stroke-opacity:1; fill:none\" points=\"221.878,686.448 221.878,47.2441 \"/>\n",
       "<polyline clip-path=\"url(#clip790)\" style=\"stroke:#000000; stroke-linecap:round; stroke-linejoin:round; stroke-width:4; stroke-opacity:1; fill:none\" points=\"221.878,668.357 240.776,668.357 \"/>\n",
       "<polyline clip-path=\"url(#clip790)\" style=\"stroke:#000000; stroke-linecap:round; stroke-linejoin:round; stroke-width:4; stroke-opacity:1; fill:none\" points=\"221.878,517.602 240.776,517.602 \"/>\n",
       "<polyline clip-path=\"url(#clip790)\" style=\"stroke:#000000; stroke-linecap:round; stroke-linejoin:round; stroke-width:4; stroke-opacity:1; fill:none\" points=\"221.878,366.846 240.776,366.846 \"/>\n",
       "<polyline clip-path=\"url(#clip790)\" style=\"stroke:#000000; stroke-linecap:round; stroke-linejoin:round; stroke-width:4; stroke-opacity:1; fill:none\" points=\"221.878,216.09 240.776,216.09 \"/>\n",
       "<polyline clip-path=\"url(#clip790)\" style=\"stroke:#000000; stroke-linecap:round; stroke-linejoin:round; stroke-width:4; stroke-opacity:1; fill:none\" points=\"221.878,65.3348 240.776,65.3348 \"/>\n",
       "<path clip-path=\"url(#clip790)\" d=\"M128.703 654.156 Q125.091 654.156 123.263 657.721 Q121.457 661.262 121.457 668.392 Q121.457 675.498 123.263 679.063 Q125.091 682.605 128.703 682.605 Q132.337 682.605 134.142 679.063 Q135.971 675.498 135.971 668.392 Q135.971 661.262 134.142 657.721 Q132.337 654.156 128.703 654.156 M128.703 650.452 Q134.513 650.452 137.568 655.059 Q140.647 659.642 140.647 668.392 Q140.647 677.119 137.568 681.725 Q134.513 686.308 128.703 686.308 Q122.892 686.308 119.814 681.725 Q116.758 677.119 116.758 668.392 Q116.758 659.642 119.814 655.059 Q122.892 650.452 128.703 650.452 Z\" fill=\"#000000\" fill-rule=\"evenodd\" fill-opacity=\"1\" /><path clip-path=\"url(#clip790)\" d=\"M148.864 679.758 L153.749 679.758 L153.749 685.637 L148.864 685.637 L148.864 679.758 Z\" fill=\"#000000\" fill-rule=\"evenodd\" fill-opacity=\"1\" /><path clip-path=\"url(#clip790)\" d=\"M173.934 654.156 Q170.323 654.156 168.494 657.721 Q166.688 661.262 166.688 668.392 Q166.688 675.498 168.494 679.063 Q170.323 682.605 173.934 682.605 Q177.568 682.605 179.374 679.063 Q181.202 675.498 181.202 668.392 Q181.202 661.262 179.374 657.721 Q177.568 654.156 173.934 654.156 M173.934 650.452 Q179.744 650.452 182.799 655.059 Q185.878 659.642 185.878 668.392 Q185.878 677.119 182.799 681.725 Q179.744 686.308 173.934 686.308 Q168.124 686.308 165.045 681.725 Q161.989 677.119 161.989 668.392 Q161.989 659.642 165.045 655.059 Q168.124 650.452 173.934 650.452 Z\" fill=\"#000000\" fill-rule=\"evenodd\" fill-opacity=\"1\" /><path clip-path=\"url(#clip790)\" d=\"M130.3 503.4 Q126.689 503.4 124.86 506.965 Q123.054 510.507 123.054 517.636 Q123.054 524.743 124.86 528.308 Q126.689 531.849 130.3 531.849 Q133.934 531.849 135.74 528.308 Q137.568 524.743 137.568 517.636 Q137.568 510.507 135.74 506.965 Q133.934 503.4 130.3 503.4 M130.3 499.697 Q136.11 499.697 139.165 504.303 Q142.244 508.886 142.244 517.636 Q142.244 526.363 139.165 530.97 Q136.11 535.553 130.3 535.553 Q124.49 535.553 121.411 530.97 Q118.355 526.363 118.355 517.636 Q118.355 508.886 121.411 504.303 Q124.49 499.697 130.3 499.697 Z\" fill=\"#000000\" fill-rule=\"evenodd\" fill-opacity=\"1\" /><path clip-path=\"url(#clip790)\" d=\"M150.462 529.002 L155.346 529.002 L155.346 534.882 L150.462 534.882 L150.462 529.002 Z\" fill=\"#000000\" fill-rule=\"evenodd\" fill-opacity=\"1\" /><path clip-path=\"url(#clip790)\" d=\"M169.559 530.946 L185.878 530.946 L185.878 534.882 L163.934 534.882 L163.934 530.946 Q166.596 528.192 171.179 523.562 Q175.786 518.909 176.966 517.567 Q179.212 515.044 180.091 513.308 Q180.994 511.548 180.994 509.859 Q180.994 507.104 179.049 505.368 Q177.128 503.632 174.026 503.632 Q171.827 503.632 169.374 504.396 Q166.943 505.16 164.165 506.71 L164.165 501.988 Q166.989 500.854 169.443 500.275 Q171.897 499.697 173.934 499.697 Q179.304 499.697 182.499 502.382 Q185.693 505.067 185.693 509.558 Q185.693 511.687 184.883 513.609 Q184.096 515.507 181.989 518.099 Q181.411 518.771 178.309 521.988 Q175.207 525.183 169.559 530.946 Z\" fill=\"#000000\" fill-rule=\"evenodd\" fill-opacity=\"1\" /><path clip-path=\"url(#clip790)\" d=\"M128.216 352.645 Q124.605 352.645 122.777 356.209 Q120.971 359.751 120.971 366.881 Q120.971 373.987 122.777 377.552 Q124.605 381.094 128.216 381.094 Q131.851 381.094 133.656 377.552 Q135.485 373.987 135.485 366.881 Q135.485 359.751 133.656 356.209 Q131.851 352.645 128.216 352.645 M128.216 348.941 Q134.027 348.941 137.082 353.547 Q140.161 358.131 140.161 366.881 Q140.161 375.608 137.082 380.214 Q134.027 384.797 128.216 384.797 Q122.406 384.797 119.328 380.214 Q116.272 375.608 116.272 366.881 Q116.272 358.131 119.328 353.547 Q122.406 348.941 128.216 348.941 Z\" fill=\"#000000\" fill-rule=\"evenodd\" fill-opacity=\"1\" /><path clip-path=\"url(#clip790)\" d=\"M148.378 378.246 L153.263 378.246 L153.263 384.126 L148.378 384.126 L148.378 378.246 Z\" fill=\"#000000\" fill-rule=\"evenodd\" fill-opacity=\"1\" /><path clip-path=\"url(#clip790)\" d=\"M176.295 353.64 L164.489 372.089 L176.295 372.089 L176.295 353.64 M175.068 349.566 L180.948 349.566 L180.948 372.089 L185.878 372.089 L185.878 375.978 L180.948 375.978 L180.948 384.126 L176.295 384.126 L176.295 375.978 L160.693 375.978 L160.693 371.464 L175.068 349.566 Z\" fill=\"#000000\" fill-rule=\"evenodd\" fill-opacity=\"1\" /><path clip-path=\"url(#clip790)\" d=\"M128.54 201.889 Q124.929 201.889 123.101 205.454 Q121.295 208.996 121.295 216.125 Q121.295 223.232 123.101 226.796 Q124.929 230.338 128.54 230.338 Q132.175 230.338 133.98 226.796 Q135.809 223.232 135.809 216.125 Q135.809 208.996 133.98 205.454 Q132.175 201.889 128.54 201.889 M128.54 198.185 Q134.351 198.185 137.406 202.792 Q140.485 207.375 140.485 216.125 Q140.485 224.852 137.406 229.458 Q134.351 234.042 128.54 234.042 Q122.73 234.042 119.652 229.458 Q116.596 224.852 116.596 216.125 Q116.596 207.375 119.652 202.792 Q122.73 198.185 128.54 198.185 Z\" fill=\"#000000\" fill-rule=\"evenodd\" fill-opacity=\"1\" /><path clip-path=\"url(#clip790)\" d=\"M148.702 227.491 L153.587 227.491 L153.587 233.37 L148.702 233.37 L148.702 227.491 Z\" fill=\"#000000\" fill-rule=\"evenodd\" fill-opacity=\"1\" /><path clip-path=\"url(#clip790)\" d=\"M174.35 214.227 Q171.202 214.227 169.35 216.38 Q167.522 218.532 167.522 222.282 Q167.522 226.009 169.35 228.185 Q171.202 230.338 174.35 230.338 Q177.499 230.338 179.327 228.185 Q181.179 226.009 181.179 222.282 Q181.179 218.532 179.327 216.38 Q177.499 214.227 174.35 214.227 M183.633 199.574 L183.633 203.833 Q181.874 203 180.068 202.56 Q178.286 202.121 176.526 202.121 Q171.897 202.121 169.443 205.246 Q167.013 208.371 166.665 214.69 Q168.031 212.676 170.091 211.611 Q172.151 210.523 174.628 210.523 Q179.837 210.523 182.846 213.695 Q185.878 216.843 185.878 222.282 Q185.878 227.607 182.73 230.824 Q179.582 234.042 174.35 234.042 Q168.355 234.042 165.184 229.458 Q162.013 224.852 162.013 216.125 Q162.013 207.931 165.901 203.07 Q169.79 198.185 176.341 198.185 Q178.1 198.185 179.883 198.533 Q181.688 198.88 183.633 199.574 Z\" fill=\"#000000\" fill-rule=\"evenodd\" fill-opacity=\"1\" /><path clip-path=\"url(#clip790)\" d=\"M128.795 51.1335 Q125.184 51.1335 123.355 54.6983 Q121.55 58.2399 121.55 65.3695 Q121.55 72.4759 123.355 76.0407 Q125.184 79.5824 128.795 79.5824 Q132.429 79.5824 134.235 76.0407 Q136.064 72.4759 136.064 65.3695 Q136.064 58.2399 134.235 54.6983 Q132.429 51.1335 128.795 51.1335 M128.795 47.4298 Q134.605 47.4298 137.661 52.0362 Q140.739 56.6195 140.739 65.3695 Q140.739 74.0963 137.661 78.7028 Q134.605 83.2861 128.795 83.2861 Q122.985 83.2861 119.906 78.7028 Q116.851 74.0963 116.851 65.3695 Q116.851 56.6195 119.906 52.0362 Q122.985 47.4298 128.795 47.4298 Z\" fill=\"#000000\" fill-rule=\"evenodd\" fill-opacity=\"1\" /><path clip-path=\"url(#clip790)\" d=\"M148.957 76.7352 L153.841 76.7352 L153.841 82.6148 L148.957 82.6148 L148.957 76.7352 Z\" fill=\"#000000\" fill-rule=\"evenodd\" fill-opacity=\"1\" /><path clip-path=\"url(#clip790)\" d=\"M174.026 66.2028 Q170.693 66.2028 168.772 67.9852 Q166.874 69.7676 166.874 72.8926 Q166.874 76.0176 168.772 77.8 Q170.693 79.5824 174.026 79.5824 Q177.36 79.5824 179.281 77.8 Q181.202 75.9944 181.202 72.8926 Q181.202 69.7676 179.281 67.9852 Q177.383 66.2028 174.026 66.2028 M169.35 64.2121 Q166.341 63.4714 164.651 61.4112 Q162.985 59.351 162.985 56.3881 Q162.985 52.2446 165.925 49.8372 Q168.887 47.4298 174.026 47.4298 Q179.188 47.4298 182.128 49.8372 Q185.068 52.2446 185.068 56.3881 Q185.068 59.351 183.378 61.4112 Q181.711 63.4714 178.725 64.2121 Q182.105 64.9991 183.98 67.2908 Q185.878 69.5824 185.878 72.8926 Q185.878 77.9157 182.799 80.6009 Q179.744 83.2861 174.026 83.2861 Q168.309 83.2861 165.23 80.6009 Q162.175 77.9157 162.175 72.8926 Q162.175 69.5824 164.073 67.2908 Q165.971 64.9991 169.35 64.2121 M167.637 56.8279 Q167.637 59.513 169.304 61.0177 Q170.994 62.5223 174.026 62.5223 Q177.036 62.5223 178.725 61.0177 Q180.438 59.513 180.438 56.8279 Q180.438 54.1427 178.725 52.6381 Q177.036 51.1335 174.026 51.1335 Q170.994 51.1335 169.304 52.6381 Q167.637 54.1427 167.637 56.8279 Z\" fill=\"#000000\" fill-rule=\"evenodd\" fill-opacity=\"1\" /><path clip-path=\"url(#clip790)\" d=\"M33.6442 507.308 Q38.2818 507.308 42.8872 508.983 Q47.4605 510.657 51.1642 513.459 Q54.8678 516.229 57.7342 519.836 Q60.5683 523.411 62.0175 527.243 Q65.8822 526.76 67.3315 525.794 Q68.813 524.796 68.813 522.574 Q68.813 521.285 68.2333 519.9 Q67.6536 518.483 66.1399 517.034 Q64.6584 515.585 62.4684 514.844 Q61.7599 514.619 61.7599 514.039 Q61.7599 513.814 61.9531 513.588 Q62.1141 513.33 62.404 513.33 Q62.6616 513.33 63.5956 513.62 Q64.5618 513.878 66.0433 514.425 Q67.5247 514.973 69.0706 515.907 Q70.6487 516.841 72.0336 518 Q73.4184 519.128 74.288 520.802 Q75.1897 522.477 75.1897 524.345 Q75.1897 525.891 74.61 527.018 Q74.0303 528.113 73.2896 528.66 Q72.5488 529.176 71.3572 529.466 Q70.1978 529.755 69.5537 529.788 Q68.9096 529.82 67.9434 529.82 Q66.945 529.82 62.8549 529.562 Q63.8533 533.04 63.8533 536.003 Q63.8533 543.314 59.0546 548.113 Q54.2559 552.911 46.2367 552.911 Q40.6328 552.911 35.0612 550.399 Q29.4574 547.887 25.3028 543.894 Q21.1161 539.9 18.5074 534.651 Q15.8987 529.369 15.8987 524.152 Q15.8987 516.744 20.8262 512.042 Q25.7215 507.308 33.6442 507.308 M31.5508 513.137 Q25.0452 513.137 21.3093 516.326 Q17.5412 519.482 17.5412 524.538 Q17.5412 528.403 20.0211 532.686 Q22.5009 536.937 27.2996 540.383 Q32.0983 543.765 38.1208 545.44 Q44.1433 547.082 48.3622 547.082 Q53.0321 547.082 56.5425 545.246 Q60.0208 543.411 61.47 539.707 Q60.6971 540.094 59.3767 540.094 Q56.8002 540.094 54.739 538.032 Q52.6456 535.971 52.6456 533.363 Q52.6456 532.203 52.9999 531.301 Q53.3219 530.367 53.9983 529.788 Q54.6746 529.176 55.3187 528.789 Q55.9306 528.371 56.929 528.145 Q57.8952 527.888 58.4105 527.791 Q58.8936 527.694 59.7631 527.565 Q57.9918 524.409 55.0933 521.833 Q52.1625 519.256 49.0708 517.678 Q45.9468 516.1 42.5652 515.037 Q39.1514 513.975 36.4461 513.556 Q33.7086 513.137 31.5508 513.137 M59.6987 529.369 Q56.7036 529.369 55.4153 530.335 Q54.0949 531.269 54.0949 533.363 Q54.0949 535.424 55.7374 537.034 Q57.3799 538.644 59.3767 538.644 Q60.375 538.644 61.0191 538.354 Q61.6311 538.032 61.8887 537.453 Q62.1141 536.873 62.1786 536.519 Q62.2108 536.164 62.2108 535.617 Q62.2108 532.815 61.0191 530.078 Q60.8259 529.594 60.6327 529.498 Q60.4394 529.369 59.6987 529.369 Z\" fill=\"#000000\" fill-rule=\"evenodd\" fill-opacity=\"1\" /><path clip-path=\"url(#clip790)\" d=\"M80.5823 462.886 Q80.7627 462.886 81.4615 463.089 Q82.1604 463.292 83.2425 463.788 Q84.3247 464.261 85.3166 464.938 Q86.286 465.592 87.0074 466.674 Q87.7063 467.733 87.7063 468.951 Q87.7063 470.574 86.6241 471.656 Q85.542 472.738 83.9189 472.738 Q83.0396 472.738 81.3714 472.129 Q73.7515 469.266 71.0236 469.266 Q67.7998 469.266 67.7998 471.769 Q67.7998 473.189 68.386 474.474 Q68.9721 475.759 69.7837 476.593 Q70.5953 477.427 71.5196 478.081 Q72.4439 478.735 73.0526 479.028 Q73.6613 479.298 73.9318 479.366 L85.0686 482.139 Q86.0155 482.364 86.4663 482.522 Q86.9172 482.68 87.3005 483.108 Q87.7063 483.537 87.7063 484.213 Q87.7063 484.777 87.3681 485.182 Q87.0299 485.566 86.4438 485.566 Q86.3536 485.566 85.8802 485.453 Q85.4068 485.34 84.753 485.182 Q84.0992 485.025 83.716 484.957 Q80.65 484.145 80.2216 484.033 L74.8561 482.748 Q72.1959 482.049 71.0236 482.049 Q67.7998 482.049 67.7998 484.551 Q67.7998 485.791 68.2732 486.963 Q68.7241 488.113 69.3554 488.902 Q69.9866 489.691 70.8658 490.413 Q71.7225 491.111 72.3086 491.472 Q72.8722 491.81 73.4358 492.081 L75.7353 492.667 Q76.3666 492.802 78.8239 493.456 L82.9945 494.471 Q86.1056 495.192 86.3987 495.35 Q87.0299 495.575 87.3681 496.071 Q87.7063 496.567 87.7063 497.063 Q87.7063 497.627 87.3681 498.01 Q87.0299 498.393 86.4438 498.393 Q86.3536 498.393 86.0155 498.326 Q85.6773 498.258 85.2039 498.145 Q84.7304 498.032 84.4599 497.987 L73.7966 495.305 Q71.8578 494.809 71.2491 494.696 Q70.6178 494.561 69.919 494.561 Q67.7998 494.561 67.7998 496.004 Q67.7998 497.176 69.1976 497.942 Q70.5953 498.709 73.3006 499.363 Q74.0445 499.565 74.2023 499.701 Q74.3602 499.813 74.3602 500.152 Q74.3376 500.715 73.8867 500.715 Q73.774 500.715 73.0526 500.535 Q72.3312 500.355 71.2491 500.016 Q70.1444 499.656 69.423 499.272 Q68.9496 499.047 68.634 498.844 Q68.3183 498.641 67.8224 498.235 Q67.3264 497.83 67.0559 497.221 Q66.7853 496.612 66.7853 495.868 Q66.7853 494.223 67.8449 493.005 Q68.9045 491.765 70.7982 491.607 Q66.7853 488.609 66.7853 484.416 Q66.7853 482.049 67.9802 480.628 Q69.1299 479.298 71.2491 479.141 Q66.7853 476.029 66.7853 471.611 Q66.7853 469.063 68.1154 467.688 Q69.423 466.313 71.7225 466.313 Q72.9173 466.313 75.1943 466.922 Q77.4487 467.53 78.5759 467.936 Q79.7031 468.342 81.8673 469.131 Q83.9414 469.965 85.1588 469.965 Q85.9478 469.965 86.3085 469.695 Q86.6692 469.424 86.6692 468.838 Q86.6692 467.936 86.1507 467.147 Q85.6097 466.358 84.7304 465.794 Q83.8287 465.208 82.9269 464.825 Q82.0026 464.442 80.9656 464.149 Q80.402 463.968 80.2667 463.878 Q80.1314 463.765 80.1314 463.45 Q80.1314 462.886 80.5823 462.886 Z\" fill=\"#000000\" fill-rule=\"evenodd\" fill-opacity=\"1\" /><path clip-path=\"url(#clip790)\" d=\"M78.8934 453.528 L12.9358 453.528 L12.9358 443.576 L14.4495 443.576 L14.4495 449.116 L77.3797 449.116 L77.3797 443.576 L78.8934 443.576 L78.8934 453.528 Z\" fill=\"#000000\" fill-rule=\"evenodd\" fill-opacity=\"1\" /><path clip-path=\"url(#clip790)\" d=\"M52.9677 388.2 Q53.2253 388.2 54.2237 388.49 Q55.2221 388.78 56.768 389.488 Q58.3139 390.165 59.7309 391.131 Q61.1158 392.065 62.1464 393.611 Q63.1447 395.124 63.1447 396.863 Q63.1447 399.182 61.5989 400.728 Q60.053 402.274 57.7342 402.274 Q56.4781 402.274 54.0949 401.405 Q43.2093 397.314 39.3124 397.314 Q34.707 397.314 34.707 400.889 Q34.707 402.918 35.5443 404.754 Q36.3817 406.59 37.5411 407.781 Q38.7005 408.973 40.0209 409.907 Q41.3414 410.841 42.2109 411.26 Q43.0805 411.646 43.467 411.743 L59.3767 415.704 Q60.7293 416.026 61.3734 416.251 Q62.0175 416.477 62.565 417.089 Q63.1447 417.701 63.1447 418.667 Q63.1447 419.472 62.6616 420.052 Q62.1786 420.599 61.3412 420.599 Q61.2124 420.599 60.5361 420.438 Q59.8597 420.277 58.9258 420.052 Q57.9918 419.826 57.4443 419.73 Q53.0643 418.57 52.4524 418.409 L44.7874 416.573 Q40.9871 415.575 39.3124 415.575 Q34.707 415.575 34.707 419.15 Q34.707 420.921 35.3833 422.596 Q36.0274 424.238 36.9292 425.366 Q37.8309 426.493 39.087 427.523 Q40.3108 428.522 41.1481 429.037 Q41.9533 429.52 42.7584 429.907 L46.0434 430.744 Q46.9452 430.937 50.4556 431.871 L56.4137 433.321 Q60.8581 434.351 61.2768 434.577 Q62.1786 434.899 62.6616 435.607 Q63.1447 436.316 63.1447 437.024 Q63.1447 437.829 62.6616 438.377 Q62.1786 438.924 61.3412 438.924 Q61.2124 438.924 60.7293 438.828 Q60.2462 438.731 59.5699 438.57 Q58.8936 438.409 58.5071 438.345 L43.2737 434.512 Q40.504 433.804 39.6345 433.643 Q38.7327 433.449 37.7343 433.449 Q34.707 433.449 34.707 435.511 Q34.707 437.185 36.7037 438.28 Q38.7005 439.375 42.5652 440.309 Q43.628 440.599 43.8534 440.792 Q44.0789 440.953 44.0789 441.436 Q44.0467 442.242 43.4025 442.242 Q43.2415 442.242 42.2109 441.984 Q41.1803 441.726 39.6345 441.243 Q38.0564 440.728 37.0258 440.18 Q36.3495 439.858 35.8986 439.568 Q35.4477 439.279 34.7392 438.699 Q34.0306 438.119 33.6442 437.25 Q33.2577 436.38 33.2577 435.317 Q33.2577 432.966 34.7714 431.227 Q36.285 429.456 38.9903 429.23 Q33.2577 424.947 33.2577 418.957 Q33.2577 415.575 34.9646 413.546 Q36.6071 411.646 39.6345 411.421 Q33.2577 406.976 33.2577 400.664 Q33.2577 397.025 35.1578 395.06 Q37.0258 393.095 40.3108 393.095 Q42.0177 393.095 45.2705 393.965 Q48.4911 394.835 50.1014 395.414 Q51.7117 395.994 54.8034 397.121 Q57.7664 398.313 59.5055 398.313 Q60.6327 398.313 61.148 397.926 Q61.6633 397.54 61.6633 396.702 Q61.6633 395.414 60.9225 394.287 Q60.1496 393.16 58.8936 392.355 Q57.6053 391.517 56.3171 390.97 Q54.9967 390.422 53.5152 390.004 Q52.71 389.746 52.5168 389.617 Q52.3236 389.456 52.3236 389.005 Q52.3236 388.2 52.9677 388.2 Z\" fill=\"#000000\" fill-rule=\"evenodd\" fill-opacity=\"1\" /><path clip-path=\"url(#clip790)\" d=\"M53.5152 383.832 Q51.5506 383.832 50.6167 382.705 Q49.6827 381.578 49.6827 380.128 Q49.6827 378.615 50.6811 377.552 Q51.6472 376.457 53.3542 376.457 Q55.1899 376.457 56.2205 377.745 Q57.2511 379.001 56.9934 380.805 Q59.6343 379.227 60.8259 376.328 Q62.0175 373.397 62.0175 370.692 Q62.0175 367.858 59.5699 365.571 Q57.1222 363.252 51.1319 363.252 Q46.0434 363.252 43.1127 365.249 Q40.182 367.214 40.182 371.111 L40.182 374.009 Q40.182 375.008 40.0853 375.297 Q39.9887 375.587 39.4412 375.587 Q38.7971 375.587 38.6683 374.589 Q38.6683 373.591 38.475 372.012 Q38.3462 368.18 35.029 366.151 Q31.9373 364.315 27.5251 364.315 Q23.4993 364.315 21.8246 366.248 Q20.1177 368.148 20.1177 370.628 Q20.1177 372.946 21.0839 375.491 Q22.0501 378.035 24.2078 379.42 Q24.2078 375.33 27.5251 375.33 Q28.9743 375.33 29.9405 376.264 Q30.8745 377.165 30.8745 378.679 Q30.8745 380.128 29.9727 381.095 Q29.0387 382.061 27.4606 382.061 Q23.6926 382.061 21.0839 378.711 Q18.4752 375.33 18.4752 370.37 Q18.4752 365.475 21.0517 361.868 Q23.6281 358.228 27.5895 358.228 Q31.4864 358.228 34.6748 360.805 Q37.8631 363.381 39.1836 367.471 Q40.182 362.447 43.5958 359.452 Q46.9774 356.457 51.1319 356.457 Q56.2849 356.457 60.0852 360.515 Q63.8533 364.573 63.8533 370.499 Q63.8533 375.974 60.8903 379.903 Q57.9274 383.832 53.5152 383.832 Z\" fill=\"#000000\" fill-rule=\"evenodd\" fill-opacity=\"1\" /><path clip-path=\"url(#clip790)\" d=\"M77.9594 351.168 Q77.6374 351.168 76.9288 350.91 L14.7071 327.625 Q14.6427 327.625 14.2884 327.464 Q13.9342 327.303 13.7087 327.207 Q13.4511 327.11 13.2579 326.917 Q13.0646 326.692 13.0646 326.434 Q13.0646 325.79 13.8698 325.79 Q13.9342 325.79 14.7071 325.983 L76.9933 349.332 Q78.1205 349.719 78.4425 349.976 Q78.7646 350.202 78.7646 350.588 Q78.7646 351.168 77.9594 351.168 Z\" fill=\"#000000\" fill-rule=\"evenodd\" fill-opacity=\"1\" /><path clip-path=\"url(#clip790)\" d=\"M52.9677 264.462 Q53.2253 264.462 54.2237 264.752 Q55.2221 265.042 56.768 265.751 Q58.3139 266.427 59.7309 267.393 Q61.1158 268.327 62.1464 269.873 Q63.1447 271.387 63.1447 273.126 Q63.1447 275.445 61.5989 276.991 Q60.053 278.536 57.7342 278.536 Q56.4781 278.536 54.0949 277.667 Q43.2093 273.577 39.3124 273.577 Q34.707 273.577 34.707 277.152 Q34.707 279.181 35.5443 281.016 Q36.3817 282.852 37.5411 284.044 Q38.7005 285.235 40.0209 286.169 Q41.3414 287.103 42.2109 287.522 Q43.0805 287.908 43.467 288.005 L59.3767 291.966 Q60.7293 292.288 61.3734 292.514 Q62.0175 292.739 62.565 293.351 Q63.1447 293.963 63.1447 294.929 Q63.1447 295.734 62.6616 296.314 Q62.1786 296.862 61.3412 296.862 Q61.2124 296.862 60.5361 296.701 Q59.8597 296.54 58.9258 296.314 Q57.9918 296.089 57.4443 295.992 Q53.0643 294.833 52.4524 294.672 L44.7874 292.836 Q40.9871 291.837 39.3124 291.837 Q34.707 291.837 34.707 295.412 Q34.707 297.184 35.3833 298.858 Q36.0274 300.501 36.9292 301.628 Q37.8309 302.755 39.087 303.786 Q40.3108 304.784 41.1481 305.3 Q41.9533 305.783 42.7584 306.169 L46.0434 307.006 Q46.9452 307.2 50.4556 308.134 L56.4137 309.583 Q60.8581 310.613 61.2768 310.839 Q62.1786 311.161 62.6616 311.87 Q63.1447 312.578 63.1447 313.287 Q63.1447 314.092 62.6616 314.639 Q62.1786 315.187 61.3412 315.187 Q61.2124 315.187 60.7293 315.09 Q60.2462 314.993 59.5699 314.832 Q58.8936 314.671 58.5071 314.607 L43.2737 310.775 Q40.504 310.066 39.6345 309.905 Q38.7327 309.712 37.7343 309.712 Q34.707 309.712 34.707 311.773 Q34.707 313.448 36.7037 314.543 Q38.7005 315.638 42.5652 316.572 Q43.628 316.861 43.8534 317.055 Q44.0789 317.216 44.0789 317.699 Q44.0467 318.504 43.4025 318.504 Q43.2415 318.504 42.2109 318.246 Q41.1803 317.989 39.6345 317.506 Q38.0564 316.99 37.0258 316.443 Q36.3495 316.121 35.8986 315.831 Q35.4477 315.541 34.7392 314.961 Q34.0306 314.382 33.6442 313.512 Q33.2577 312.642 33.2577 311.58 Q33.2577 309.229 34.7714 307.49 Q36.285 305.718 38.9903 305.493 Q33.2577 301.209 33.2577 295.219 Q33.2577 291.837 34.9646 289.808 Q36.6071 287.908 39.6345 287.683 Q33.2577 283.239 33.2577 276.926 Q33.2577 273.287 35.1578 271.322 Q37.0258 269.358 40.3108 269.358 Q42.0177 269.358 45.2705 270.227 Q48.4911 271.097 50.1014 271.677 Q51.7117 272.256 54.8034 273.384 Q57.7664 274.575 59.5055 274.575 Q60.6327 274.575 61.148 274.189 Q61.6633 273.802 61.6633 272.965 Q61.6633 271.677 60.9225 270.549 Q60.1496 269.422 58.8936 268.617 Q57.6053 267.78 56.3171 267.232 Q54.9967 266.685 53.5152 266.266 Q52.71 266.008 52.5168 265.88 Q52.3236 265.719 52.3236 265.268 Q52.3236 264.462 52.9677 264.462 Z\" fill=\"#000000\" fill-rule=\"evenodd\" fill-opacity=\"1\" /><path clip-path=\"url(#clip790)\" d=\"M21.1805 244.571 Q22.5976 244.571 23.6604 245.73 Q24.6909 246.857 24.6909 248.081 Q24.6909 249.208 24.0146 249.917 Q23.3061 250.593 22.3077 250.593 Q20.9873 250.593 19.8923 249.466 Q18.7973 248.339 18.7973 247.018 Q18.7973 245.923 19.4736 245.247 Q20.1499 244.571 21.1805 244.571 M52.9677 243.991 Q53.2253 243.991 54.2559 244.281 Q55.2543 244.571 56.8002 245.279 Q58.3139 245.956 59.7309 246.89 Q61.148 247.824 62.1464 249.369 Q63.1447 250.883 63.1447 252.622 Q63.1447 254.973 61.5989 256.519 Q60.053 258.033 57.7342 258.033 Q56.4781 258.033 52.4524 256.519 Q40.7295 252.139 40.2464 251.978 Q38.4106 251.237 36.8003 251.237 Q36.0596 251.237 35.6087 251.398 Q35.1256 251.559 34.9646 251.881 Q34.7714 252.204 34.7392 252.397 Q34.707 252.558 34.707 252.88 Q34.707 254.78 36.6393 256.551 Q38.5717 258.323 42.8872 259.546 Q43.6924 259.804 43.8856 259.965 Q44.0789 260.126 44.0789 260.609 Q44.0467 261.414 43.4025 261.414 Q43.2093 261.414 42.4686 261.189 Q41.6956 260.964 40.5362 260.545 Q39.3446 260.126 38.1208 259.385 Q36.8648 258.645 35.7698 257.743 Q34.6748 256.809 33.9662 255.489 Q33.2577 254.168 33.2577 252.687 Q33.2577 250.271 34.8358 248.79 Q36.3817 247.276 38.6683 247.276 Q39.9243 247.276 42.1465 248.146 Q45.045 249.208 45.979 249.595 L52.9033 252.171 Q55.4153 253.105 56.1883 253.395 Q56.929 253.653 57.8308 253.878 Q58.7003 254.071 59.5055 254.071 Q60.6327 254.071 61.148 253.717 Q61.6633 253.331 61.6633 252.493 Q61.6633 250.175 59.3767 248.468 Q57.0578 246.761 53.5152 245.762 Q53.4186 245.73 53.2575 245.698 Q52.4524 245.44 52.3558 245.183 Q52.3236 245.054 52.3236 244.796 Q52.3236 243.991 52.9677 243.991 Z\" fill=\"#000000\" fill-rule=\"evenodd\" fill-opacity=\"1\" /><path clip-path=\"url(#clip790)\" d=\"M52.9677 202.618 Q53.2253 202.618 54.2237 202.907 Q55.2221 203.197 56.768 203.906 Q58.3139 204.582 59.7309 205.516 Q61.1158 206.45 62.1464 207.996 Q63.1447 209.51 63.1447 211.249 Q63.1447 213.568 61.5989 215.113 Q60.053 216.659 57.7342 216.659 Q56.4459 216.659 54.6746 215.983 Q43.2415 211.7 39.3124 211.7 Q34.707 211.7 34.707 215.274 Q34.707 217.046 35.3833 218.721 Q36.0274 220.363 36.9292 221.49 Q37.8309 222.617 39.087 223.648 Q40.3108 224.646 41.1481 225.162 Q41.9533 225.645 42.7584 226.031 L46.0434 226.869 Q46.9452 227.062 50.4556 227.996 L56.4137 229.445 Q60.8581 230.476 61.2768 230.701 Q62.1786 231.023 62.6616 231.732 Q63.1447 232.44 63.1447 233.149 Q63.1447 233.954 62.6616 234.501 Q62.1786 235.049 61.3412 235.049 Q61.2124 235.049 60.7293 234.952 Q60.2462 234.856 59.5699 234.695 Q58.8936 234.534 58.5071 234.469 L43.2737 230.637 Q40.504 229.928 39.6345 229.767 Q38.7327 229.574 37.7343 229.574 Q34.707 229.574 34.707 231.635 Q34.707 233.31 36.7037 234.405 Q38.7005 235.5 42.5652 236.434 Q43.628 236.724 43.8534 236.917 Q44.0789 237.078 44.0789 237.561 Q44.0467 238.366 43.4025 238.366 Q43.2415 238.366 42.1787 238.108 Q41.1159 237.851 39.6023 237.368 Q38.0564 236.852 37.0258 236.369 Q36.2528 235.951 35.8986 235.725 Q35.5121 235.468 34.7714 234.856 Q33.9984 234.212 33.6442 233.374 Q33.2577 232.505 33.2577 231.442 Q33.2577 229.059 34.8036 227.319 Q36.3173 225.58 38.9903 225.355 Q33.2577 221.072 33.2577 215.081 Q33.2577 211.539 35.1256 209.51 Q36.9936 207.481 40.3108 207.481 Q41.0837 207.481 42.0821 207.642 Q43.0483 207.771 44.2721 208.093 Q45.4959 208.382 46.4299 208.64 Q47.3639 208.898 48.8775 209.413 Q50.359 209.928 51.0031 210.154 Q51.6472 210.379 53.1609 210.927 Q54.6424 211.442 54.8034 211.506 Q57.7986 212.698 59.5055 212.698 Q60.6327 212.698 61.148 212.344 Q61.6633 211.957 61.6633 211.12 Q61.6633 208.866 59.4411 207.191 Q57.1867 205.484 53.5152 204.389 Q52.71 204.131 52.5168 204.002 Q52.3236 203.841 52.3236 203.391 Q52.3236 202.618 52.9677 202.618 Z\" fill=\"#000000\" fill-rule=\"evenodd\" fill-opacity=\"1\" /><path clip-path=\"url(#clip790)\" d=\"M77.3797 198.931 L77.3797 193.391 L14.4495 193.391 L14.4495 198.931 L12.9358 198.931 L12.9358 188.979 L78.8934 188.979 L78.8934 198.931 L77.3797 198.931 Z\" fill=\"#000000\" fill-rule=\"evenodd\" fill-opacity=\"1\" /><polyline clip-path=\"url(#clip793)\" style=\"stroke:#000000; stroke-linecap:round; stroke-linejoin:round; stroke-width:4; stroke-opacity:1; fill:none\" stroke-dasharray=\"2, 4\" points=\"282.186,65.3348 333.731,65.3348 385.276,65.3348 436.822,65.3348 488.367,65.3348 539.912,65.3348 591.457,65.3348 643.002,65.3348 694.547,65.3348 746.093,65.3348 797.638,65.3348 849.183,65.3348 900.728,65.3348 952.273,65.3348 1003.82,65.3348 1055.36,65.3348 1106.91,65.3348 1158.45,65.3348 1210,65.3348 1261.54,65.3348 1313.09,65.3348 1364.63,65.3348 1416.18,65.3348 1467.73,65.3348 1519.27,65.3348 1570.82,65.3348 1622.36,65.3348 1673.91,65.3348 1725.45,65.3348 1777,65.3348 1828.54,65.3348 1880.09,65.3348 1931.63,65.3348 1983.18,65.3348 2034.72,65.3348 2086.27,65.3348 2137.81,65.3348 2189.36,65.3348 2240.9,65.3348 2292.45,65.3348 \"/>\n",
       "<polyline clip-path=\"url(#clip793)\" style=\"stroke:#000000; stroke-linecap:round; stroke-linejoin:round; stroke-width:4; stroke-opacity:1; fill:none\" stroke-dasharray=\"2, 4\" points=\"282.186,630.668 333.731,630.668 385.276,630.668 436.822,630.668 488.367,630.668 539.912,630.668 591.457,630.668 643.002,630.668 694.547,630.668 746.093,630.668 797.638,630.668 849.183,630.668 900.728,630.668 952.273,630.668 1003.82,630.668 1055.36,630.668 1106.91,630.668 1158.45,630.668 1210,630.668 1261.54,630.668 1313.09,630.668 1364.63,630.668 1416.18,630.668 1467.73,630.668 1519.27,630.668 1570.82,630.668 1622.36,630.668 1673.91,630.668 1725.45,630.668 1777,630.668 1828.54,630.668 1880.09,630.668 1931.63,630.668 1983.18,630.668 2034.72,630.668 2086.27,630.668 2137.81,630.668 2189.36,630.668 2240.9,630.668 2292.45,630.668 \"/>\n",
       "<polyline clip-path=\"url(#clip793)\" style=\"stroke:#ff0000; stroke-linecap:round; stroke-linejoin:round; stroke-width:12; stroke-opacity:0.3; fill:none\" points=\"282.186,517.602 333.731,550.675 385.276,557.052 436.822,552.594 488.367,564.338 539.912,558.936 591.457,549.981 643.002,554.265 694.547,481.814 746.093,536.918 797.638,418.463 849.183,410.219 900.728,381.874 952.273,502.058 1003.82,342.717 1055.36,432.406 1106.91,389.319 1158.45,509.35 1210,350.194 1261.54,413.709 1313.09,397.922 1364.63,518.533 1416.18,357.5 1467.73,417.187 1519.27,396.964 1570.82,520.542 1622.36,358.973 1673.91,418.003 1725.45,397.928 1777,522.682 1828.54,361.109 1880.09,418.301 1931.63,398.808 1983.18,524.207 2034.72,361.963 2086.27,418.54 2137.81,402.084 2189.36,527.84 2240.9,357.004 2292.45,459.55 \"/>\n",
       "<polyline clip-path=\"url(#clip793)\" style=\"stroke:#0000ff; stroke-linecap:round; stroke-linejoin:round; stroke-width:12; stroke-opacity:0.3; fill:none\" points=\"282.186,668.357 333.731,668.357 385.276,668.357 436.822,668.357 488.367,668.357 539.912,668.357 591.457,668.357 643.002,668.357 694.547,668.357 746.093,668.357 797.638,668.357 849.183,668.357 900.728,668.357 952.273,668.357 1003.82,668.357 1055.36,668.357 1106.91,668.357 1158.45,668.357 1210,668.357 1261.54,668.357 1313.09,668.357 1364.63,668.357 1416.18,668.357 1467.73,668.357 1519.27,668.357 1570.82,668.357 1622.36,668.357 1673.91,668.357 1725.45,668.357 1777,668.357 1828.54,668.357 1880.09,668.357 1931.63,668.357 1983.18,668.357 2034.72,668.357 2086.27,668.357 2137.81,668.357 2189.36,668.357 2240.9,668.357 2292.45,668.357 \"/>\n",
       "<path clip-path=\"url(#clip790)\" d=\"M221.878 1486.45 L2352.76 1486.45 L2352.76 847.244 L221.878 847.244  Z\" fill=\"#ffffff\" fill-rule=\"evenodd\" fill-opacity=\"1\"/>\n",
       "<defs>\n",
       "  <clipPath id=\"clip794\">\n",
       "    <rect x=\"221\" y=\"847\" width=\"2132\" height=\"640\"/>\n",
       "  </clipPath>\n",
       "</defs>\n",
       "<polyline clip-path=\"url(#clip794)\" style=\"stroke:#000000; stroke-linecap:round; stroke-linejoin:round; stroke-width:8; stroke-opacity:0.1; fill:none\" points=\"230.641,1486.45 230.641,847.244 \"/>\n",
       "<polyline clip-path=\"url(#clip794)\" style=\"stroke:#000000; stroke-linecap:round; stroke-linejoin:round; stroke-width:8; stroke-opacity:0.1; fill:none\" points=\"746.093,1486.45 746.093,847.244 \"/>\n",
       "<polyline clip-path=\"url(#clip794)\" style=\"stroke:#000000; stroke-linecap:round; stroke-linejoin:round; stroke-width:8; stroke-opacity:0.1; fill:none\" points=\"1261.54,1486.45 1261.54,847.244 \"/>\n",
       "<polyline clip-path=\"url(#clip794)\" style=\"stroke:#000000; stroke-linecap:round; stroke-linejoin:round; stroke-width:8; stroke-opacity:0.1; fill:none\" points=\"1777,1486.45 1777,847.244 \"/>\n",
       "<polyline clip-path=\"url(#clip794)\" style=\"stroke:#000000; stroke-linecap:round; stroke-linejoin:round; stroke-width:8; stroke-opacity:0.1; fill:none\" points=\"2292.45,1486.45 2292.45,847.244 \"/>\n",
       "<polyline clip-path=\"url(#clip790)\" style=\"stroke:#000000; stroke-linecap:round; stroke-linejoin:round; stroke-width:4; stroke-opacity:1; fill:none\" points=\"221.878,1486.45 2352.76,1486.45 \"/>\n",
       "<polyline clip-path=\"url(#clip790)\" style=\"stroke:#000000; stroke-linecap:round; stroke-linejoin:round; stroke-width:4; stroke-opacity:1; fill:none\" points=\"230.641,1486.45 230.641,1467.55 \"/>\n",
       "<polyline clip-path=\"url(#clip790)\" style=\"stroke:#000000; stroke-linecap:round; stroke-linejoin:round; stroke-width:4; stroke-opacity:1; fill:none\" points=\"746.093,1486.45 746.093,1467.55 \"/>\n",
       "<polyline clip-path=\"url(#clip790)\" style=\"stroke:#000000; stroke-linecap:round; stroke-linejoin:round; stroke-width:4; stroke-opacity:1; fill:none\" points=\"1261.54,1486.45 1261.54,1467.55 \"/>\n",
       "<polyline clip-path=\"url(#clip790)\" style=\"stroke:#000000; stroke-linecap:round; stroke-linejoin:round; stroke-width:4; stroke-opacity:1; fill:none\" points=\"1777,1486.45 1777,1467.55 \"/>\n",
       "<polyline clip-path=\"url(#clip790)\" style=\"stroke:#000000; stroke-linecap:round; stroke-linejoin:round; stroke-width:4; stroke-opacity:1; fill:none\" points=\"2292.45,1486.45 2292.45,1467.55 \"/>\n",
       "<path clip-path=\"url(#clip790)\" d=\"M230.641 1517.37 Q227.03 1517.37 225.201 1520.93 Q223.395 1524.47 223.395 1531.6 Q223.395 1538.71 225.201 1542.27 Q227.03 1545.82 230.641 1545.82 Q234.275 1545.82 236.081 1542.27 Q237.909 1538.71 237.909 1531.6 Q237.909 1524.47 236.081 1520.93 Q234.275 1517.37 230.641 1517.37 M230.641 1513.66 Q236.451 1513.66 239.507 1518.27 Q242.585 1522.85 242.585 1531.6 Q242.585 1540.33 239.507 1544.94 Q236.451 1549.52 230.641 1549.52 Q224.831 1549.52 221.752 1544.94 Q218.696 1540.33 218.696 1531.6 Q218.696 1522.85 221.752 1518.27 Q224.831 1513.66 230.641 1513.66 Z\" fill=\"#000000\" fill-rule=\"evenodd\" fill-opacity=\"1\" /><path clip-path=\"url(#clip790)\" d=\"M720.78 1544.91 L728.419 1544.91 L728.419 1518.55 L720.109 1520.21 L720.109 1515.95 L728.373 1514.29 L733.049 1514.29 L733.049 1544.91 L740.688 1544.91 L740.688 1548.85 L720.78 1548.85 L720.78 1544.91 Z\" fill=\"#000000\" fill-rule=\"evenodd\" fill-opacity=\"1\" /><path clip-path=\"url(#clip790)\" d=\"M760.132 1517.37 Q756.521 1517.37 754.692 1520.93 Q752.887 1524.47 752.887 1531.6 Q752.887 1538.71 754.692 1542.27 Q756.521 1545.82 760.132 1545.82 Q763.766 1545.82 765.572 1542.27 Q767.4 1538.71 767.4 1531.6 Q767.4 1524.47 765.572 1520.93 Q763.766 1517.37 760.132 1517.37 M760.132 1513.66 Q765.942 1513.66 768.998 1518.27 Q772.076 1522.85 772.076 1531.6 Q772.076 1540.33 768.998 1544.94 Q765.942 1549.52 760.132 1549.52 Q754.322 1549.52 751.243 1544.94 Q748.188 1540.33 748.188 1531.6 Q748.188 1522.85 751.243 1518.27 Q754.322 1513.66 760.132 1513.66 Z\" fill=\"#000000\" fill-rule=\"evenodd\" fill-opacity=\"1\" /><path clip-path=\"url(#clip790)\" d=\"M1240.32 1544.91 L1256.64 1544.91 L1256.64 1548.85 L1234.69 1548.85 L1234.69 1544.91 Q1237.35 1542.16 1241.94 1537.53 Q1246.54 1532.88 1247.73 1531.53 Q1249.97 1529.01 1250.85 1527.27 Q1251.75 1525.51 1251.75 1523.82 Q1251.75 1521.07 1249.81 1519.33 Q1247.89 1517.6 1244.79 1517.6 Q1242.59 1517.6 1240.13 1518.36 Q1237.7 1519.13 1234.92 1520.68 L1234.92 1515.95 Q1237.75 1514.82 1240.2 1514.24 Q1242.66 1513.66 1244.69 1513.66 Q1250.06 1513.66 1253.26 1516.35 Q1256.45 1519.03 1256.45 1523.52 Q1256.45 1525.65 1255.64 1527.57 Q1254.85 1529.47 1252.75 1532.07 Q1252.17 1532.74 1249.07 1535.95 Q1245.97 1539.15 1240.32 1544.91 Z\" fill=\"#000000\" fill-rule=\"evenodd\" fill-opacity=\"1\" /><path clip-path=\"url(#clip790)\" d=\"M1276.45 1517.37 Q1272.84 1517.37 1271.01 1520.93 Q1269.21 1524.47 1269.21 1531.6 Q1269.21 1538.71 1271.01 1542.27 Q1272.84 1545.82 1276.45 1545.82 Q1280.09 1545.82 1281.89 1542.27 Q1283.72 1538.71 1283.72 1531.6 Q1283.72 1524.47 1281.89 1520.93 Q1280.09 1517.37 1276.45 1517.37 M1276.45 1513.66 Q1282.26 1513.66 1285.32 1518.27 Q1288.4 1522.85 1288.4 1531.6 Q1288.4 1540.33 1285.32 1544.94 Q1282.26 1549.52 1276.45 1549.52 Q1270.64 1549.52 1267.56 1544.94 Q1264.51 1540.33 1264.51 1531.6 Q1264.51 1522.85 1267.56 1518.27 Q1270.64 1513.66 1276.45 1513.66 Z\" fill=\"#000000\" fill-rule=\"evenodd\" fill-opacity=\"1\" /><path clip-path=\"url(#clip790)\" d=\"M1765.84 1530.21 Q1769.2 1530.93 1771.07 1533.2 Q1772.97 1535.47 1772.97 1538.8 Q1772.97 1543.92 1769.45 1546.72 Q1765.93 1549.52 1759.45 1549.52 Q1757.27 1549.52 1754.96 1549.08 Q1752.67 1548.66 1750.21 1547.81 L1750.21 1543.29 Q1752.16 1544.43 1754.47 1545.01 Q1756.79 1545.58 1759.31 1545.58 Q1763.71 1545.58 1766 1543.85 Q1768.32 1542.11 1768.32 1538.8 Q1768.32 1535.75 1766.16 1534.03 Q1764.03 1532.3 1760.21 1532.3 L1756.19 1532.3 L1756.19 1528.45 L1760.4 1528.45 Q1763.85 1528.45 1765.68 1527.09 Q1767.51 1525.7 1767.51 1523.11 Q1767.51 1520.45 1765.61 1519.03 Q1763.73 1517.6 1760.21 1517.6 Q1758.29 1517.6 1756.09 1518.01 Q1753.89 1518.43 1751.26 1519.31 L1751.26 1515.14 Q1753.92 1514.4 1756.23 1514.03 Q1758.57 1513.66 1760.63 1513.66 Q1765.95 1513.66 1769.06 1516.09 Q1772.16 1518.5 1772.16 1522.62 Q1772.16 1525.49 1770.51 1527.48 Q1768.87 1529.45 1765.84 1530.21 Z\" fill=\"#000000\" fill-rule=\"evenodd\" fill-opacity=\"1\" /><path clip-path=\"url(#clip790)\" d=\"M1791.83 1517.37 Q1788.22 1517.37 1786.39 1520.93 Q1784.59 1524.47 1784.59 1531.6 Q1784.59 1538.71 1786.39 1542.27 Q1788.22 1545.82 1791.83 1545.82 Q1795.47 1545.82 1797.27 1542.27 Q1799.1 1538.71 1799.1 1531.6 Q1799.1 1524.47 1797.27 1520.93 Q1795.47 1517.37 1791.83 1517.37 M1791.83 1513.66 Q1797.64 1513.66 1800.7 1518.27 Q1803.78 1522.85 1803.78 1531.6 Q1803.78 1540.33 1800.7 1544.94 Q1797.64 1549.52 1791.83 1549.52 Q1786.02 1549.52 1782.95 1544.94 Q1779.89 1540.33 1779.89 1531.6 Q1779.89 1522.85 1782.95 1518.27 Q1786.02 1513.66 1791.83 1513.66 Z\" fill=\"#000000\" fill-rule=\"evenodd\" fill-opacity=\"1\" /><path clip-path=\"url(#clip790)\" d=\"M2280.62 1518.36 L2268.81 1536.81 L2280.62 1536.81 L2280.62 1518.36 M2279.39 1514.29 L2285.27 1514.29 L2285.27 1536.81 L2290.2 1536.81 L2290.2 1540.7 L2285.27 1540.7 L2285.27 1548.85 L2280.62 1548.85 L2280.62 1540.7 L2265.02 1540.7 L2265.02 1536.19 L2279.39 1514.29 Z\" fill=\"#000000\" fill-rule=\"evenodd\" fill-opacity=\"1\" /><path clip-path=\"url(#clip790)\" d=\"M2307.93 1517.37 Q2304.32 1517.37 2302.49 1520.93 Q2300.69 1524.47 2300.69 1531.6 Q2300.69 1538.71 2302.49 1542.27 Q2304.32 1545.82 2307.93 1545.82 Q2311.57 1545.82 2313.37 1542.27 Q2315.2 1538.71 2315.2 1531.6 Q2315.2 1524.47 2313.37 1520.93 Q2311.57 1517.37 2307.93 1517.37 M2307.93 1513.66 Q2313.74 1513.66 2316.8 1518.27 Q2319.88 1522.85 2319.88 1531.6 Q2319.88 1540.33 2316.8 1544.94 Q2313.74 1549.52 2307.93 1549.52 Q2302.12 1549.52 2299.05 1544.94 Q2295.99 1540.33 2295.99 1531.6 Q2295.99 1522.85 2299.05 1518.27 Q2302.12 1513.66 2307.93 1513.66 Z\" fill=\"#000000\" fill-rule=\"evenodd\" fill-opacity=\"1\" /><polyline clip-path=\"url(#clip794)\" style=\"stroke:#000000; stroke-linecap:round; stroke-linejoin:round; stroke-width:8; stroke-opacity:0.1; fill:none\" points=\"221.878,1468.36 2352.76,1468.36 \"/>\n",
       "<polyline clip-path=\"url(#clip794)\" style=\"stroke:#000000; stroke-linecap:round; stroke-linejoin:round; stroke-width:8; stroke-opacity:0.1; fill:none\" points=\"221.878,1318.54 2352.76,1318.54 \"/>\n",
       "<polyline clip-path=\"url(#clip794)\" style=\"stroke:#000000; stroke-linecap:round; stroke-linejoin:round; stroke-width:8; stroke-opacity:0.1; fill:none\" points=\"221.878,1168.72 2352.76,1168.72 \"/>\n",
       "<polyline clip-path=\"url(#clip794)\" style=\"stroke:#000000; stroke-linecap:round; stroke-linejoin:round; stroke-width:8; stroke-opacity:0.1; fill:none\" points=\"221.878,1018.9 2352.76,1018.9 \"/>\n",
       "<polyline clip-path=\"url(#clip794)\" style=\"stroke:#000000; stroke-linecap:round; stroke-linejoin:round; stroke-width:8; stroke-opacity:0.1; fill:none\" points=\"221.878,869.08 2352.76,869.08 \"/>\n",
       "<polyline clip-path=\"url(#clip790)\" style=\"stroke:#000000; stroke-linecap:round; stroke-linejoin:round; stroke-width:4; stroke-opacity:1; fill:none\" points=\"221.878,1486.45 221.878,847.244 \"/>\n",
       "<polyline clip-path=\"url(#clip790)\" style=\"stroke:#000000; stroke-linecap:round; stroke-linejoin:round; stroke-width:4; stroke-opacity:1; fill:none\" points=\"221.878,1468.36 240.776,1468.36 \"/>\n",
       "<polyline clip-path=\"url(#clip790)\" style=\"stroke:#000000; stroke-linecap:round; stroke-linejoin:round; stroke-width:4; stroke-opacity:1; fill:none\" points=\"221.878,1318.54 240.776,1318.54 \"/>\n",
       "<polyline clip-path=\"url(#clip790)\" style=\"stroke:#000000; stroke-linecap:round; stroke-linejoin:round; stroke-width:4; stroke-opacity:1; fill:none\" points=\"221.878,1168.72 240.776,1168.72 \"/>\n",
       "<polyline clip-path=\"url(#clip790)\" style=\"stroke:#000000; stroke-linecap:round; stroke-linejoin:round; stroke-width:4; stroke-opacity:1; fill:none\" points=\"221.878,1018.9 240.776,1018.9 \"/>\n",
       "<polyline clip-path=\"url(#clip790)\" style=\"stroke:#000000; stroke-linecap:round; stroke-linejoin:round; stroke-width:4; stroke-opacity:1; fill:none\" points=\"221.878,869.08 240.776,869.08 \"/>\n",
       "<path clip-path=\"url(#clip790)\" d=\"M128.703 1454.16 Q125.091 1454.16 123.263 1457.72 Q121.457 1461.26 121.457 1468.39 Q121.457 1475.5 123.263 1479.06 Q125.091 1482.6 128.703 1482.6 Q132.337 1482.6 134.142 1479.06 Q135.971 1475.5 135.971 1468.39 Q135.971 1461.26 134.142 1457.72 Q132.337 1454.16 128.703 1454.16 M128.703 1450.45 Q134.513 1450.45 137.568 1455.06 Q140.647 1459.64 140.647 1468.39 Q140.647 1477.12 137.568 1481.73 Q134.513 1486.31 128.703 1486.31 Q122.892 1486.31 119.814 1481.73 Q116.758 1477.12 116.758 1468.39 Q116.758 1459.64 119.814 1455.06 Q122.892 1450.45 128.703 1450.45 Z\" fill=\"#000000\" fill-rule=\"evenodd\" fill-opacity=\"1\" /><path clip-path=\"url(#clip790)\" d=\"M148.864 1479.76 L153.749 1479.76 L153.749 1485.64 L148.864 1485.64 L148.864 1479.76 Z\" fill=\"#000000\" fill-rule=\"evenodd\" fill-opacity=\"1\" /><path clip-path=\"url(#clip790)\" d=\"M173.934 1454.16 Q170.323 1454.16 168.494 1457.72 Q166.688 1461.26 166.688 1468.39 Q166.688 1475.5 168.494 1479.06 Q170.323 1482.6 173.934 1482.6 Q177.568 1482.6 179.374 1479.06 Q181.202 1475.5 181.202 1468.39 Q181.202 1461.26 179.374 1457.72 Q177.568 1454.16 173.934 1454.16 M173.934 1450.45 Q179.744 1450.45 182.799 1455.06 Q185.878 1459.64 185.878 1468.39 Q185.878 1477.12 182.799 1481.73 Q179.744 1486.31 173.934 1486.31 Q168.124 1486.31 165.045 1481.73 Q161.989 1477.12 161.989 1468.39 Q161.989 1459.64 165.045 1455.06 Q168.124 1450.45 173.934 1450.45 Z\" fill=\"#000000\" fill-rule=\"evenodd\" fill-opacity=\"1\" /><path clip-path=\"url(#clip790)\" d=\"M130.3 1304.34 Q126.689 1304.34 124.86 1307.9 Q123.054 1311.44 123.054 1318.57 Q123.054 1325.68 124.86 1329.24 Q126.689 1332.79 130.3 1332.79 Q133.934 1332.79 135.74 1329.24 Q137.568 1325.68 137.568 1318.57 Q137.568 1311.44 135.74 1307.9 Q133.934 1304.34 130.3 1304.34 M130.3 1300.63 Q136.11 1300.63 139.165 1305.24 Q142.244 1309.82 142.244 1318.57 Q142.244 1327.3 139.165 1331.91 Q136.11 1336.49 130.3 1336.49 Q124.49 1336.49 121.411 1331.91 Q118.355 1327.3 118.355 1318.57 Q118.355 1309.82 121.411 1305.24 Q124.49 1300.63 130.3 1300.63 Z\" fill=\"#000000\" fill-rule=\"evenodd\" fill-opacity=\"1\" /><path clip-path=\"url(#clip790)\" d=\"M150.462 1329.94 L155.346 1329.94 L155.346 1335.82 L150.462 1335.82 L150.462 1329.94 Z\" fill=\"#000000\" fill-rule=\"evenodd\" fill-opacity=\"1\" /><path clip-path=\"url(#clip790)\" d=\"M169.559 1331.88 L185.878 1331.88 L185.878 1335.82 L163.934 1335.82 L163.934 1331.88 Q166.596 1329.13 171.179 1324.5 Q175.786 1319.85 176.966 1318.5 Q179.212 1315.98 180.091 1314.24 Q180.994 1312.48 180.994 1310.79 Q180.994 1308.04 179.049 1306.3 Q177.128 1304.57 174.026 1304.57 Q171.827 1304.57 169.374 1305.33 Q166.943 1306.1 164.165 1307.65 L164.165 1302.92 Q166.989 1301.79 169.443 1301.21 Q171.897 1300.63 173.934 1300.63 Q179.304 1300.63 182.499 1303.32 Q185.693 1306 185.693 1310.49 Q185.693 1312.62 184.883 1314.54 Q184.096 1316.44 181.989 1319.04 Q181.411 1319.71 178.309 1322.92 Q175.207 1326.12 169.559 1331.88 Z\" fill=\"#000000\" fill-rule=\"evenodd\" fill-opacity=\"1\" /><path clip-path=\"url(#clip790)\" d=\"M128.216 1154.52 Q124.605 1154.52 122.777 1158.08 Q120.971 1161.62 120.971 1168.75 Q120.971 1175.86 122.777 1179.42 Q124.605 1182.97 128.216 1182.97 Q131.851 1182.97 133.656 1179.42 Q135.485 1175.86 135.485 1168.75 Q135.485 1161.62 133.656 1158.08 Q131.851 1154.52 128.216 1154.52 M128.216 1150.81 Q134.027 1150.81 137.082 1155.42 Q140.161 1160 140.161 1168.75 Q140.161 1177.48 137.082 1182.09 Q134.027 1186.67 128.216 1186.67 Q122.406 1186.67 119.328 1182.09 Q116.272 1177.48 116.272 1168.75 Q116.272 1160 119.328 1155.42 Q122.406 1150.81 128.216 1150.81 Z\" fill=\"#000000\" fill-rule=\"evenodd\" fill-opacity=\"1\" /><path clip-path=\"url(#clip790)\" d=\"M148.378 1180.12 L153.263 1180.12 L153.263 1186 L148.378 1186 L148.378 1180.12 Z\" fill=\"#000000\" fill-rule=\"evenodd\" fill-opacity=\"1\" /><path clip-path=\"url(#clip790)\" d=\"M176.295 1155.51 L164.489 1173.96 L176.295 1173.96 L176.295 1155.51 M175.068 1151.44 L180.948 1151.44 L180.948 1173.96 L185.878 1173.96 L185.878 1177.85 L180.948 1177.85 L180.948 1186 L176.295 1186 L176.295 1177.85 L160.693 1177.85 L160.693 1173.34 L175.068 1151.44 Z\" fill=\"#000000\" fill-rule=\"evenodd\" fill-opacity=\"1\" /><path clip-path=\"url(#clip790)\" d=\"M128.54 1004.7 Q124.929 1004.7 123.101 1008.26 Q121.295 1011.8 121.295 1018.93 Q121.295 1026.04 123.101 1029.61 Q124.929 1033.15 128.54 1033.15 Q132.175 1033.15 133.98 1029.61 Q135.809 1026.04 135.809 1018.93 Q135.809 1011.8 133.98 1008.26 Q132.175 1004.7 128.54 1004.7 M128.54 1000.99 Q134.351 1000.99 137.406 1005.6 Q140.485 1010.18 140.485 1018.93 Q140.485 1027.66 137.406 1032.27 Q134.351 1036.85 128.54 1036.85 Q122.73 1036.85 119.652 1032.27 Q116.596 1027.66 116.596 1018.93 Q116.596 1010.18 119.652 1005.6 Q122.73 1000.99 128.54 1000.99 Z\" fill=\"#000000\" fill-rule=\"evenodd\" fill-opacity=\"1\" /><path clip-path=\"url(#clip790)\" d=\"M148.702 1030.3 L153.587 1030.3 L153.587 1036.18 L148.702 1036.18 L148.702 1030.3 Z\" fill=\"#000000\" fill-rule=\"evenodd\" fill-opacity=\"1\" /><path clip-path=\"url(#clip790)\" d=\"M174.35 1017.04 Q171.202 1017.04 169.35 1019.19 Q167.522 1021.34 167.522 1025.09 Q167.522 1028.82 169.35 1030.99 Q171.202 1033.15 174.35 1033.15 Q177.499 1033.15 179.327 1030.99 Q181.179 1028.82 181.179 1025.09 Q181.179 1021.34 179.327 1019.19 Q177.499 1017.04 174.35 1017.04 M183.633 1002.38 L183.633 1006.64 Q181.874 1005.81 180.068 1005.37 Q178.286 1004.93 176.526 1004.93 Q171.897 1004.93 169.443 1008.05 Q167.013 1011.18 166.665 1017.5 Q168.031 1015.49 170.091 1014.42 Q172.151 1013.33 174.628 1013.33 Q179.837 1013.33 182.846 1016.5 Q185.878 1019.65 185.878 1025.09 Q185.878 1030.42 182.73 1033.63 Q179.582 1036.85 174.35 1036.85 Q168.355 1036.85 165.184 1032.27 Q162.013 1027.66 162.013 1018.93 Q162.013 1010.74 165.901 1005.88 Q169.79 1000.99 176.341 1000.99 Q178.1 1000.99 179.883 1001.34 Q181.688 1001.69 183.633 1002.38 Z\" fill=\"#000000\" fill-rule=\"evenodd\" fill-opacity=\"1\" /><path clip-path=\"url(#clip790)\" d=\"M128.795 854.879 Q125.184 854.879 123.355 858.444 Q121.55 861.985 121.55 869.115 Q121.55 876.221 123.355 879.786 Q125.184 883.328 128.795 883.328 Q132.429 883.328 134.235 879.786 Q136.064 876.221 136.064 869.115 Q136.064 861.985 134.235 858.444 Q132.429 854.879 128.795 854.879 M128.795 851.175 Q134.605 851.175 137.661 855.782 Q140.739 860.365 140.739 869.115 Q140.739 877.842 137.661 882.448 Q134.605 887.032 128.795 887.032 Q122.985 887.032 119.906 882.448 Q116.851 877.842 116.851 869.115 Q116.851 860.365 119.906 855.782 Q122.985 851.175 128.795 851.175 Z\" fill=\"#000000\" fill-rule=\"evenodd\" fill-opacity=\"1\" /><path clip-path=\"url(#clip790)\" d=\"M148.957 880.481 L153.841 880.481 L153.841 886.36 L148.957 886.36 L148.957 880.481 Z\" fill=\"#000000\" fill-rule=\"evenodd\" fill-opacity=\"1\" /><path clip-path=\"url(#clip790)\" d=\"M174.026 869.948 Q170.693 869.948 168.772 871.731 Q166.874 873.513 166.874 876.638 Q166.874 879.763 168.772 881.545 Q170.693 883.328 174.026 883.328 Q177.36 883.328 179.281 881.545 Q181.202 879.74 181.202 876.638 Q181.202 873.513 179.281 871.731 Q177.383 869.948 174.026 869.948 M169.35 867.958 Q166.341 867.217 164.651 865.157 Q162.985 863.096 162.985 860.134 Q162.985 855.99 165.925 853.583 Q168.887 851.175 174.026 851.175 Q179.188 851.175 182.128 853.583 Q185.068 855.99 185.068 860.134 Q185.068 863.096 183.378 865.157 Q181.711 867.217 178.725 867.958 Q182.105 868.745 183.98 871.036 Q185.878 873.328 185.878 876.638 Q185.878 881.661 182.799 884.346 Q179.744 887.032 174.026 887.032 Q168.309 887.032 165.23 884.346 Q162.175 881.661 162.175 876.638 Q162.175 873.328 164.073 871.036 Q165.971 868.745 169.35 867.958 M167.637 860.573 Q167.637 863.259 169.304 864.763 Q170.994 866.268 174.026 866.268 Q177.036 866.268 178.725 864.763 Q180.438 863.259 180.438 860.573 Q180.438 857.888 178.725 856.384 Q177.036 854.879 174.026 854.879 Q170.994 854.879 169.304 856.384 Q167.637 857.888 167.637 860.573 Z\" fill=\"#000000\" fill-rule=\"evenodd\" fill-opacity=\"1\" /><path clip-path=\"url(#clip790)\" d=\"M33.6442 1307.31 Q38.2818 1307.31 42.8872 1308.98 Q47.4605 1310.66 51.1642 1313.46 Q54.8678 1316.23 57.7342 1319.84 Q60.5683 1323.41 62.0175 1327.24 Q65.8822 1326.76 67.3315 1325.79 Q68.813 1324.8 68.813 1322.57 Q68.813 1321.29 68.2333 1319.9 Q67.6536 1318.48 66.1399 1317.03 Q64.6584 1315.58 62.4684 1314.84 Q61.7599 1314.62 61.7599 1314.04 Q61.7599 1313.81 61.9531 1313.59 Q62.1141 1313.33 62.404 1313.33 Q62.6616 1313.33 63.5956 1313.62 Q64.5618 1313.88 66.0433 1314.43 Q67.5247 1314.97 69.0706 1315.91 Q70.6487 1316.84 72.0336 1318 Q73.4184 1319.13 74.288 1320.8 Q75.1897 1322.48 75.1897 1324.34 Q75.1897 1325.89 74.61 1327.02 Q74.0303 1328.11 73.2896 1328.66 Q72.5488 1329.18 71.3572 1329.47 Q70.1978 1329.76 69.5537 1329.79 Q68.9096 1329.82 67.9434 1329.82 Q66.945 1329.82 62.8549 1329.56 Q63.8533 1333.04 63.8533 1336 Q63.8533 1343.31 59.0546 1348.11 Q54.2559 1352.91 46.2367 1352.91 Q40.6328 1352.91 35.0612 1350.4 Q29.4574 1347.89 25.3028 1343.89 Q21.1161 1339.9 18.5074 1334.65 Q15.8987 1329.37 15.8987 1324.15 Q15.8987 1316.74 20.8262 1312.04 Q25.7215 1307.31 33.6442 1307.31 M31.5508 1313.14 Q25.0452 1313.14 21.3093 1316.33 Q17.5412 1319.48 17.5412 1324.54 Q17.5412 1328.4 20.0211 1332.69 Q22.5009 1336.94 27.2996 1340.38 Q32.0983 1343.77 38.1208 1345.44 Q44.1433 1347.08 48.3622 1347.08 Q53.0321 1347.08 56.5425 1345.25 Q60.0208 1343.41 61.47 1339.71 Q60.6971 1340.09 59.3767 1340.09 Q56.8002 1340.09 54.739 1338.03 Q52.6456 1335.97 52.6456 1333.36 Q52.6456 1332.2 52.9999 1331.3 Q53.3219 1330.37 53.9983 1329.79 Q54.6746 1329.18 55.3187 1328.79 Q55.9306 1328.37 56.929 1328.15 Q57.8952 1327.89 58.4105 1327.79 Q58.8936 1327.69 59.7631 1327.57 Q57.9918 1324.41 55.0933 1321.83 Q52.1625 1319.26 49.0708 1317.68 Q45.9468 1316.1 42.5652 1315.04 Q39.1514 1313.97 36.4461 1313.56 Q33.7086 1313.14 31.5508 1313.14 M59.6987 1329.37 Q56.7036 1329.37 55.4153 1330.34 Q54.0949 1331.27 54.0949 1333.36 Q54.0949 1335.42 55.7374 1337.03 Q57.3799 1338.64 59.3767 1338.64 Q60.375 1338.64 61.0191 1338.35 Q61.6311 1338.03 61.8887 1337.45 Q62.1141 1336.87 62.1786 1336.52 Q62.2108 1336.16 62.2108 1335.62 Q62.2108 1332.82 61.0191 1330.08 Q60.8259 1329.59 60.6327 1329.5 Q60.4394 1329.37 59.6987 1329.37 Z\" fill=\"#000000\" fill-rule=\"evenodd\" fill-opacity=\"1\" /><path clip-path=\"url(#clip790)\" d=\"M80.5823 1262.89 Q80.7627 1262.89 81.4615 1263.09 Q82.1604 1263.29 83.2425 1263.79 Q84.3247 1264.26 85.3166 1264.94 Q86.286 1265.59 87.0074 1266.67 Q87.7063 1267.73 87.7063 1268.95 Q87.7063 1270.57 86.6241 1271.66 Q85.542 1272.74 83.9189 1272.74 Q83.0396 1272.74 81.3714 1272.13 Q73.7515 1269.27 71.0236 1269.27 Q67.7998 1269.27 67.7998 1271.77 Q67.7998 1273.19 68.386 1274.47 Q68.9721 1275.76 69.7837 1276.59 Q70.5953 1277.43 71.5196 1278.08 Q72.4439 1278.73 73.0526 1279.03 Q73.6613 1279.3 73.9318 1279.37 L85.0686 1282.14 Q86.0155 1282.36 86.4663 1282.52 Q86.9172 1282.68 87.3005 1283.11 Q87.7063 1283.54 87.7063 1284.21 Q87.7063 1284.78 87.3681 1285.18 Q87.0299 1285.57 86.4438 1285.57 Q86.3536 1285.57 85.8802 1285.45 Q85.4068 1285.34 84.753 1285.18 Q84.0992 1285.02 83.716 1284.96 Q80.65 1284.15 80.2216 1284.03 L74.8561 1282.75 Q72.1959 1282.05 71.0236 1282.05 Q67.7998 1282.05 67.7998 1284.55 Q67.7998 1285.79 68.2732 1286.96 Q68.7241 1288.11 69.3554 1288.9 Q69.9866 1289.69 70.8658 1290.41 Q71.7225 1291.11 72.3086 1291.47 Q72.8722 1291.81 73.4358 1292.08 L75.7353 1292.67 Q76.3666 1292.8 78.8239 1293.46 L82.9945 1294.47 Q86.1056 1295.19 86.3987 1295.35 Q87.0299 1295.58 87.3681 1296.07 Q87.7063 1296.57 87.7063 1297.06 Q87.7063 1297.63 87.3681 1298.01 Q87.0299 1298.39 86.4438 1298.39 Q86.3536 1298.39 86.0155 1298.33 Q85.6773 1298.26 85.2039 1298.15 Q84.7304 1298.03 84.4599 1297.99 L73.7966 1295.3 Q71.8578 1294.81 71.2491 1294.7 Q70.6178 1294.56 69.919 1294.56 Q67.7998 1294.56 67.7998 1296 Q67.7998 1297.18 69.1976 1297.94 Q70.5953 1298.71 73.3006 1299.36 Q74.0445 1299.57 74.2023 1299.7 Q74.3602 1299.81 74.3602 1300.15 Q74.3376 1300.72 73.8867 1300.72 Q73.774 1300.72 73.0526 1300.53 Q72.3312 1300.35 71.2491 1300.02 Q70.1444 1299.66 69.423 1299.27 Q68.9496 1299.05 68.634 1298.84 Q68.3183 1298.64 67.8224 1298.24 Q67.3264 1297.83 67.0559 1297.22 Q66.7853 1296.61 66.7853 1295.87 Q66.7853 1294.22 67.8449 1293.01 Q68.9045 1291.77 70.7982 1291.61 Q66.7853 1288.61 66.7853 1284.42 Q66.7853 1282.05 67.9802 1280.63 Q69.1299 1279.3 71.2491 1279.14 Q66.7853 1276.03 66.7853 1271.61 Q66.7853 1269.06 68.1154 1267.69 Q69.423 1266.31 71.7225 1266.31 Q72.9173 1266.31 75.1943 1266.92 Q77.4487 1267.53 78.5759 1267.94 Q79.7031 1268.34 81.8673 1269.13 Q83.9414 1269.97 85.1588 1269.97 Q85.9478 1269.97 86.3085 1269.69 Q86.6692 1269.42 86.6692 1268.84 Q86.6692 1267.94 86.1507 1267.15 Q85.6097 1266.36 84.7304 1265.79 Q83.8287 1265.21 82.9269 1264.83 Q82.0026 1264.44 80.9656 1264.15 Q80.402 1263.97 80.2667 1263.88 Q80.1314 1263.77 80.1314 1263.45 Q80.1314 1262.89 80.5823 1262.89 Z\" fill=\"#000000\" fill-rule=\"evenodd\" fill-opacity=\"1\" /><path clip-path=\"url(#clip790)\" d=\"M78.8934 1253.53 L12.9358 1253.53 L12.9358 1243.58 L14.4495 1243.58 L14.4495 1249.12 L77.3797 1249.12 L77.3797 1243.58 L78.8934 1243.58 L78.8934 1253.53 Z\" fill=\"#000000\" fill-rule=\"evenodd\" fill-opacity=\"1\" /><path clip-path=\"url(#clip790)\" d=\"M52.9677 1188.2 Q53.2253 1188.2 54.2237 1188.49 Q55.2221 1188.78 56.768 1189.49 Q58.3139 1190.16 59.7309 1191.13 Q61.1158 1192.06 62.1464 1193.61 Q63.1447 1195.12 63.1447 1196.86 Q63.1447 1199.18 61.5989 1200.73 Q60.053 1202.27 57.7342 1202.27 Q56.4781 1202.27 54.0949 1201.4 Q43.2093 1197.31 39.3124 1197.31 Q34.707 1197.31 34.707 1200.89 Q34.707 1202.92 35.5443 1204.75 Q36.3817 1206.59 37.5411 1207.78 Q38.7005 1208.97 40.0209 1209.91 Q41.3414 1210.84 42.2109 1211.26 Q43.0805 1211.65 43.467 1211.74 L59.3767 1215.7 Q60.7293 1216.03 61.3734 1216.25 Q62.0175 1216.48 62.565 1217.09 Q63.1447 1217.7 63.1447 1218.67 Q63.1447 1219.47 62.6616 1220.05 Q62.1786 1220.6 61.3412 1220.6 Q61.2124 1220.6 60.5361 1220.44 Q59.8597 1220.28 58.9258 1220.05 Q57.9918 1219.83 57.4443 1219.73 Q53.0643 1218.57 52.4524 1218.41 L44.7874 1216.57 Q40.9871 1215.58 39.3124 1215.58 Q34.707 1215.58 34.707 1219.15 Q34.707 1220.92 35.3833 1222.6 Q36.0274 1224.24 36.9292 1225.37 Q37.8309 1226.49 39.087 1227.52 Q40.3108 1228.52 41.1481 1229.04 Q41.9533 1229.52 42.7584 1229.91 L46.0434 1230.74 Q46.9452 1230.94 50.4556 1231.87 L56.4137 1233.32 Q60.8581 1234.35 61.2768 1234.58 Q62.1786 1234.9 62.6616 1235.61 Q63.1447 1236.32 63.1447 1237.02 Q63.1447 1237.83 62.6616 1238.38 Q62.1786 1238.92 61.3412 1238.92 Q61.2124 1238.92 60.7293 1238.83 Q60.2462 1238.73 59.5699 1238.57 Q58.8936 1238.41 58.5071 1238.34 L43.2737 1234.51 Q40.504 1233.8 39.6345 1233.64 Q38.7327 1233.45 37.7343 1233.45 Q34.707 1233.45 34.707 1235.51 Q34.707 1237.19 36.7037 1238.28 Q38.7005 1239.38 42.5652 1240.31 Q43.628 1240.6 43.8534 1240.79 Q44.0789 1240.95 44.0789 1241.44 Q44.0467 1242.24 43.4025 1242.24 Q43.2415 1242.24 42.2109 1241.98 Q41.1803 1241.73 39.6345 1241.24 Q38.0564 1240.73 37.0258 1240.18 Q36.3495 1239.86 35.8986 1239.57 Q35.4477 1239.28 34.7392 1238.7 Q34.0306 1238.12 33.6442 1237.25 Q33.2577 1236.38 33.2577 1235.32 Q33.2577 1232.97 34.7714 1231.23 Q36.285 1229.46 38.9903 1229.23 Q33.2577 1224.95 33.2577 1218.96 Q33.2577 1215.58 34.9646 1213.55 Q36.6071 1211.65 39.6345 1211.42 Q33.2577 1206.98 33.2577 1200.66 Q33.2577 1197.02 35.1578 1195.06 Q37.0258 1193.1 40.3108 1193.1 Q42.0177 1193.1 45.2705 1193.96 Q48.4911 1194.83 50.1014 1195.41 Q51.7117 1195.99 54.8034 1197.12 Q57.7664 1198.31 59.5055 1198.31 Q60.6327 1198.31 61.148 1197.93 Q61.6633 1197.54 61.6633 1196.7 Q61.6633 1195.41 60.9225 1194.29 Q60.1496 1193.16 58.8936 1192.35 Q57.6053 1191.52 56.3171 1190.97 Q54.9967 1190.42 53.5152 1190 Q52.71 1189.75 52.5168 1189.62 Q52.3236 1189.46 52.3236 1189.01 Q52.3236 1188.2 52.9677 1188.2 Z\" fill=\"#000000\" fill-rule=\"evenodd\" fill-opacity=\"1\" /><path clip-path=\"url(#clip790)\" d=\"M53.5152 1183.83 Q51.5506 1183.83 50.6167 1182.7 Q49.6827 1181.58 49.6827 1180.13 Q49.6827 1178.61 50.6811 1177.55 Q51.6472 1176.46 53.3542 1176.46 Q55.1899 1176.46 56.2205 1177.75 Q57.2511 1179 56.9934 1180.8 Q59.6343 1179.23 60.8259 1176.33 Q62.0175 1173.4 62.0175 1170.69 Q62.0175 1167.86 59.5699 1165.57 Q57.1222 1163.25 51.1319 1163.25 Q46.0434 1163.25 43.1127 1165.25 Q40.182 1167.21 40.182 1171.11 L40.182 1174.01 Q40.182 1175.01 40.0853 1175.3 Q39.9887 1175.59 39.4412 1175.59 Q38.7971 1175.59 38.6683 1174.59 Q38.6683 1173.59 38.475 1172.01 Q38.3462 1168.18 35.029 1166.15 Q31.9373 1164.32 27.5251 1164.32 Q23.4993 1164.32 21.8246 1166.25 Q20.1177 1168.15 20.1177 1170.63 Q20.1177 1172.95 21.0839 1175.49 Q22.0501 1178.03 24.2078 1179.42 Q24.2078 1175.33 27.5251 1175.33 Q28.9743 1175.33 29.9405 1176.26 Q30.8745 1177.17 30.8745 1178.68 Q30.8745 1180.13 29.9727 1181.09 Q29.0387 1182.06 27.4606 1182.06 Q23.6926 1182.06 21.0839 1178.71 Q18.4752 1175.33 18.4752 1170.37 Q18.4752 1165.47 21.0517 1161.87 Q23.6281 1158.23 27.5895 1158.23 Q31.4864 1158.23 34.6748 1160.8 Q37.8631 1163.38 39.1836 1167.47 Q40.182 1162.45 43.5958 1159.45 Q46.9774 1156.46 51.1319 1156.46 Q56.2849 1156.46 60.0852 1160.52 Q63.8533 1164.57 63.8533 1170.5 Q63.8533 1175.97 60.8903 1179.9 Q57.9274 1183.83 53.5152 1183.83 Z\" fill=\"#000000\" fill-rule=\"evenodd\" fill-opacity=\"1\" /><path clip-path=\"url(#clip790)\" d=\"M77.9594 1151.17 Q77.6374 1151.17 76.9288 1150.91 L14.7071 1127.63 Q14.6427 1127.63 14.2884 1127.46 Q13.9342 1127.3 13.7087 1127.21 Q13.4511 1127.11 13.2579 1126.92 Q13.0646 1126.69 13.0646 1126.43 Q13.0646 1125.79 13.8698 1125.79 Q13.9342 1125.79 14.7071 1125.98 L76.9933 1149.33 Q78.1205 1149.72 78.4425 1149.98 Q78.7646 1150.2 78.7646 1150.59 Q78.7646 1151.17 77.9594 1151.17 Z\" fill=\"#000000\" fill-rule=\"evenodd\" fill-opacity=\"1\" /><path clip-path=\"url(#clip790)\" d=\"M52.9677 1064.46 Q53.2253 1064.46 54.2237 1064.75 Q55.2221 1065.04 56.768 1065.75 Q58.3139 1066.43 59.7309 1067.39 Q61.1158 1068.33 62.1464 1069.87 Q63.1447 1071.39 63.1447 1073.13 Q63.1447 1075.44 61.5989 1076.99 Q60.053 1078.54 57.7342 1078.54 Q56.4781 1078.54 54.0949 1077.67 Q43.2093 1073.58 39.3124 1073.58 Q34.707 1073.58 34.707 1077.15 Q34.707 1079.18 35.5443 1081.02 Q36.3817 1082.85 37.5411 1084.04 Q38.7005 1085.24 40.0209 1086.17 Q41.3414 1087.1 42.2109 1087.52 Q43.0805 1087.91 43.467 1088 L59.3767 1091.97 Q60.7293 1092.29 61.3734 1092.51 Q62.0175 1092.74 62.565 1093.35 Q63.1447 1093.96 63.1447 1094.93 Q63.1447 1095.73 62.6616 1096.31 Q62.1786 1096.86 61.3412 1096.86 Q61.2124 1096.86 60.5361 1096.7 Q59.8597 1096.54 58.9258 1096.31 Q57.9918 1096.09 57.4443 1095.99 Q53.0643 1094.83 52.4524 1094.67 L44.7874 1092.84 Q40.9871 1091.84 39.3124 1091.84 Q34.707 1091.84 34.707 1095.41 Q34.707 1097.18 35.3833 1098.86 Q36.0274 1100.5 36.9292 1101.63 Q37.8309 1102.76 39.087 1103.79 Q40.3108 1104.78 41.1481 1105.3 Q41.9533 1105.78 42.7584 1106.17 L46.0434 1107.01 Q46.9452 1107.2 50.4556 1108.13 L56.4137 1109.58 Q60.8581 1110.61 61.2768 1110.84 Q62.1786 1111.16 62.6616 1111.87 Q63.1447 1112.58 63.1447 1113.29 Q63.1447 1114.09 62.6616 1114.64 Q62.1786 1115.19 61.3412 1115.19 Q61.2124 1115.19 60.7293 1115.09 Q60.2462 1114.99 59.5699 1114.83 Q58.8936 1114.67 58.5071 1114.61 L43.2737 1110.77 Q40.504 1110.07 39.6345 1109.9 Q38.7327 1109.71 37.7343 1109.71 Q34.707 1109.71 34.707 1111.77 Q34.707 1113.45 36.7037 1114.54 Q38.7005 1115.64 42.5652 1116.57 Q43.628 1116.86 43.8534 1117.05 Q44.0789 1117.22 44.0789 1117.7 Q44.0467 1118.5 43.4025 1118.5 Q43.2415 1118.5 42.2109 1118.25 Q41.1803 1117.99 39.6345 1117.51 Q38.0564 1116.99 37.0258 1116.44 Q36.3495 1116.12 35.8986 1115.83 Q35.4477 1115.54 34.7392 1114.96 Q34.0306 1114.38 33.6442 1113.51 Q33.2577 1112.64 33.2577 1111.58 Q33.2577 1109.23 34.7714 1107.49 Q36.285 1105.72 38.9903 1105.49 Q33.2577 1101.21 33.2577 1095.22 Q33.2577 1091.84 34.9646 1089.81 Q36.6071 1087.91 39.6345 1087.68 Q33.2577 1083.24 33.2577 1076.93 Q33.2577 1073.29 35.1578 1071.32 Q37.0258 1069.36 40.3108 1069.36 Q42.0177 1069.36 45.2705 1070.23 Q48.4911 1071.1 50.1014 1071.68 Q51.7117 1072.26 54.8034 1073.38 Q57.7664 1074.58 59.5055 1074.58 Q60.6327 1074.58 61.148 1074.19 Q61.6633 1073.8 61.6633 1072.96 Q61.6633 1071.68 60.9225 1070.55 Q60.1496 1069.42 58.8936 1068.62 Q57.6053 1067.78 56.3171 1067.23 Q54.9967 1066.68 53.5152 1066.27 Q52.71 1066.01 52.5168 1065.88 Q52.3236 1065.72 52.3236 1065.27 Q52.3236 1064.46 52.9677 1064.46 Z\" fill=\"#000000\" fill-rule=\"evenodd\" fill-opacity=\"1\" /><path clip-path=\"url(#clip790)\" d=\"M21.1805 1044.57 Q22.5976 1044.57 23.6604 1045.73 Q24.6909 1046.86 24.6909 1048.08 Q24.6909 1049.21 24.0146 1049.92 Q23.3061 1050.59 22.3077 1050.59 Q20.9873 1050.59 19.8923 1049.47 Q18.7973 1048.34 18.7973 1047.02 Q18.7973 1045.92 19.4736 1045.25 Q20.1499 1044.57 21.1805 1044.57 M52.9677 1043.99 Q53.2253 1043.99 54.2559 1044.28 Q55.2543 1044.57 56.8002 1045.28 Q58.3139 1045.96 59.7309 1046.89 Q61.148 1047.82 62.1464 1049.37 Q63.1447 1050.88 63.1447 1052.62 Q63.1447 1054.97 61.5989 1056.52 Q60.053 1058.03 57.7342 1058.03 Q56.4781 1058.03 52.4524 1056.52 Q40.7295 1052.14 40.2464 1051.98 Q38.4106 1051.24 36.8003 1051.24 Q36.0596 1051.24 35.6087 1051.4 Q35.1256 1051.56 34.9646 1051.88 Q34.7714 1052.2 34.7392 1052.4 Q34.707 1052.56 34.707 1052.88 Q34.707 1054.78 36.6393 1056.55 Q38.5717 1058.32 42.8872 1059.55 Q43.6924 1059.8 43.8856 1059.97 Q44.0789 1060.13 44.0789 1060.61 Q44.0467 1061.41 43.4025 1061.41 Q43.2093 1061.41 42.4686 1061.19 Q41.6956 1060.96 40.5362 1060.54 Q39.3446 1060.13 38.1208 1059.39 Q36.8648 1058.64 35.7698 1057.74 Q34.6748 1056.81 33.9662 1055.49 Q33.2577 1054.17 33.2577 1052.69 Q33.2577 1050.27 34.8358 1048.79 Q36.3817 1047.28 38.6683 1047.28 Q39.9243 1047.28 42.1465 1048.15 Q45.045 1049.21 45.979 1049.59 L52.9033 1052.17 Q55.4153 1053.11 56.1883 1053.4 Q56.929 1053.65 57.8308 1053.88 Q58.7003 1054.07 59.5055 1054.07 Q60.6327 1054.07 61.148 1053.72 Q61.6633 1053.33 61.6633 1052.49 Q61.6633 1050.17 59.3767 1048.47 Q57.0578 1046.76 53.5152 1045.76 Q53.4186 1045.73 53.2575 1045.7 Q52.4524 1045.44 52.3558 1045.18 Q52.3236 1045.05 52.3236 1044.8 Q52.3236 1043.99 52.9677 1043.99 Z\" fill=\"#000000\" fill-rule=\"evenodd\" fill-opacity=\"1\" /><path clip-path=\"url(#clip790)\" d=\"M52.9677 1002.62 Q53.2253 1002.62 54.2237 1002.91 Q55.2221 1003.2 56.768 1003.91 Q58.3139 1004.58 59.7309 1005.52 Q61.1158 1006.45 62.1464 1008 Q63.1447 1009.51 63.1447 1011.25 Q63.1447 1013.57 61.5989 1015.11 Q60.053 1016.66 57.7342 1016.66 Q56.4459 1016.66 54.6746 1015.98 Q43.2415 1011.7 39.3124 1011.7 Q34.707 1011.7 34.707 1015.27 Q34.707 1017.05 35.3833 1018.72 Q36.0274 1020.36 36.9292 1021.49 Q37.8309 1022.62 39.087 1023.65 Q40.3108 1024.65 41.1481 1025.16 Q41.9533 1025.64 42.7584 1026.03 L46.0434 1026.87 Q46.9452 1027.06 50.4556 1028 L56.4137 1029.45 Q60.8581 1030.48 61.2768 1030.7 Q62.1786 1031.02 62.6616 1031.73 Q63.1447 1032.44 63.1447 1033.15 Q63.1447 1033.95 62.6616 1034.5 Q62.1786 1035.05 61.3412 1035.05 Q61.2124 1035.05 60.7293 1034.95 Q60.2462 1034.86 59.5699 1034.69 Q58.8936 1034.53 58.5071 1034.47 L43.2737 1030.64 Q40.504 1029.93 39.6345 1029.77 Q38.7327 1029.57 37.7343 1029.57 Q34.707 1029.57 34.707 1031.64 Q34.707 1033.31 36.7037 1034.4 Q38.7005 1035.5 42.5652 1036.43 Q43.628 1036.72 43.8534 1036.92 Q44.0789 1037.08 44.0789 1037.56 Q44.0467 1038.37 43.4025 1038.37 Q43.2415 1038.37 42.1787 1038.11 Q41.1159 1037.85 39.6023 1037.37 Q38.0564 1036.85 37.0258 1036.37 Q36.2528 1035.95 35.8986 1035.73 Q35.5121 1035.47 34.7714 1034.86 Q33.9984 1034.21 33.6442 1033.37 Q33.2577 1032.5 33.2577 1031.44 Q33.2577 1029.06 34.8036 1027.32 Q36.3173 1025.58 38.9903 1025.35 Q33.2577 1021.07 33.2577 1015.08 Q33.2577 1011.54 35.1256 1009.51 Q36.9936 1007.48 40.3108 1007.48 Q41.0837 1007.48 42.0821 1007.64 Q43.0483 1007.77 44.2721 1008.09 Q45.4959 1008.38 46.4299 1008.64 Q47.3639 1008.9 48.8775 1009.41 Q50.359 1009.93 51.0031 1010.15 Q51.6472 1010.38 53.1609 1010.93 Q54.6424 1011.44 54.8034 1011.51 Q57.7986 1012.7 59.5055 1012.7 Q60.6327 1012.7 61.148 1012.34 Q61.6633 1011.96 61.6633 1011.12 Q61.6633 1008.87 59.4411 1007.19 Q57.1867 1005.48 53.5152 1004.39 Q52.71 1004.13 52.5168 1004 Q52.3236 1003.84 52.3236 1003.39 Q52.3236 1002.62 52.9677 1002.62 Z\" fill=\"#000000\" fill-rule=\"evenodd\" fill-opacity=\"1\" /><path clip-path=\"url(#clip790)\" d=\"M77.3797 998.931 L77.3797 993.391 L14.4495 993.391 L14.4495 998.931 L12.9358 998.931 L12.9358 988.979 L78.8934 988.979 L78.8934 998.931 L77.3797 998.931 Z\" fill=\"#000000\" fill-rule=\"evenodd\" fill-opacity=\"1\" /><polyline clip-path=\"url(#clip794)\" style=\"stroke:#000000; stroke-linecap:round; stroke-linejoin:round; stroke-width:4; stroke-opacity:1; fill:none\" stroke-dasharray=\"2, 4\" points=\"282.186,869.08 333.731,869.08 385.276,869.08 436.822,869.08 488.367,869.08 539.912,869.08 591.457,869.08 643.002,869.08 694.547,869.08 746.093,869.08 797.638,869.08 849.183,869.08 900.728,869.08 952.273,869.08 1003.82,869.08 1055.36,869.08 1106.91,869.08 1158.45,869.08 1210,869.08 1261.54,869.08 1313.09,869.08 1364.63,869.08 1416.18,869.08 1467.73,869.08 1519.27,869.08 1570.82,869.08 1622.36,869.08 1673.91,869.08 1725.45,869.08 1777,869.08 1828.54,869.08 1880.09,869.08 1931.63,869.08 1983.18,869.08 2034.72,869.08 2086.27,869.08 2137.81,869.08 2189.36,869.08 2240.9,869.08 2292.45,869.08 \"/>\n",
       "<polyline clip-path=\"url(#clip794)\" style=\"stroke:#000000; stroke-linecap:round; stroke-linejoin:round; stroke-width:4; stroke-opacity:1; fill:none\" stroke-dasharray=\"2, 4\" points=\"282.186,1430.9 333.731,1430.9 385.276,1430.9 436.822,1430.9 488.367,1430.9 539.912,1430.9 591.457,1430.9 643.002,1430.9 694.547,1430.9 746.093,1430.9 797.638,1430.9 849.183,1430.9 900.728,1430.9 952.273,1430.9 1003.82,1430.9 1055.36,1430.9 1106.91,1430.9 1158.45,1430.9 1210,1430.9 1261.54,1430.9 1313.09,1430.9 1364.63,1430.9 1416.18,1430.9 1467.73,1430.9 1519.27,1430.9 1570.82,1430.9 1622.36,1430.9 1673.91,1430.9 1725.45,1430.9 1777,1430.9 1828.54,1430.9 1880.09,1430.9 1931.63,1430.9 1983.18,1430.9 2034.72,1430.9 2086.27,1430.9 2137.81,1430.9 2189.36,1430.9 2240.9,1430.9 2292.45,1430.9 \"/>\n",
       "<polyline clip-path=\"url(#clip794)\" style=\"stroke:#ff0000; stroke-linecap:round; stroke-linejoin:round; stroke-width:12; stroke-opacity:0.3; fill:none\" points=\"282.186,1318.54 333.731,1128.86 385.276,865.335 436.822,901.372 488.367,936.453 539.912,1004.94 591.457,1069.29 643.002,1121.49 694.547,1159.84 746.093,1188.5 797.638,1201.67 849.183,1145.88 900.728,1052.82 952.273,1036.03 1003.82,1041.58 1055.36,1049.07 1106.91,1063.98 1158.45,1233.85 1210,1338.57 1261.54,1430.9 1313.09,1468.36 1364.63,1468.36 1416.18,1468.36 1467.73,1468.36 1519.27,1468.36 1570.82,1468.36 1622.36,1468.36 1673.91,1468.36 1725.45,1468.36 1777,1468.36 1828.54,1468.36 1880.09,1468.36 1931.63,1468.36 1983.18,1468.36 2034.72,1468.36 2086.27,1468.36 2137.81,1468.36 2189.36,1468.36 2240.9,1468.36 2292.45,1468.36 \"/>\n",
       "<polyline clip-path=\"url(#clip794)\" style=\"stroke:#0000ff; stroke-linecap:round; stroke-linejoin:round; stroke-width:12; stroke-opacity:0.3; fill:none\" points=\"282.186,1468.36 333.731,1468.36 385.276,1468.36 436.822,1468.36 488.367,1468.36 539.912,1468.36 591.457,1468.36 643.002,1468.36 694.547,1468.36 746.093,1468.36 797.638,1468.36 849.183,1468.36 900.728,1468.36 952.273,1468.36 1003.82,1468.36 1055.36,1468.36 1106.91,1468.36 1158.45,1468.36 1210,1468.36 1261.54,1468.36 1313.09,1468.36 1364.63,1468.36 1416.18,1468.36 1467.73,1468.36 1519.27,1468.36 1570.82,1468.36 1622.36,1468.36 1673.91,1468.36 1725.45,1468.36 1777,1468.36 1828.54,1468.36 1880.09,1468.36 1931.63,1468.36 1983.18,1468.36 2034.72,1468.36 2086.27,1468.36 2137.81,1468.36 2189.36,1468.36 2240.9,1468.36 2292.45,1468.36 \"/>\n",
       "</svg>\n"
      ]
     },
     "metadata": {},
     "output_type": "display_data"
    }
   ],
   "source": [
    "p8 = plot(layout = (num_subplots, 1),fmt = :svg, resolution = (600, 400), latex=true,gridlinewidth=2,legend=:topleft) \n",
    "\n",
    "# Loop to generate subplots \n",
    "for mm in 1:num_subplots \n",
    "\n",
    "    # limits\n",
    "    plot!(subplot=mm,ts,Qf_max*ones(length(ts)),linestyle = :dot,linecolor = :black,label=\"\")\n",
    "    plot!(subplot=mm,ts,Qm_min*ones(length(ts)),linestyle = :dot,linecolor = :black,label=\"\")\n",
    "    \n",
    "    for nn in 1:n_MC\n",
    "        plot!(subplot=mm,ts,QmPlant[:,nn,mm],linewidth=3,linealpha = 0.3,linecolor = CList[nn],legend=false)\n",
    "    end\n",
    "    \n",
    "    # Add labels, titles, or other customizations to each subplot \n",
    "    ylabel!(L\"Q_{m} [m3/min]\") \n",
    "end \n",
    "\n",
    "\n",
    "# Display the subplots \n",
    "display(p8)"
   ]
  },
  {
   "cell_type": "code",
   "execution_count": null,
   "id": "58153cc1",
   "metadata": {},
   "outputs": [],
   "source": []
  }
 ],
 "metadata": {
  "kernelspec": {
   "display_name": "Julia 1.8.5",
   "language": "julia",
   "name": "julia-1.8"
  },
  "language_info": {
   "file_extension": ".jl",
   "mimetype": "application/julia",
   "name": "julia",
   "version": "1.8.5"
  }
 },
 "nbformat": 4,
 "nbformat_minor": 5
}
