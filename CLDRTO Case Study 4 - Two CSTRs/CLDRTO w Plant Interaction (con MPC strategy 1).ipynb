{
 "cells": [
  {
   "cell_type": "markdown",
   "id": "39bb43e3",
   "metadata": {},
   "source": [
    "**This code computes the decomposed/monolithic solution of a Closed-Loop DRTO problem and implement in the plant.**\n",
    "\n",
    "- The case study is a two nonlinear reactors in parallel from:*2018, Economic Coordination of Distributed Nonlinear MPC Systems using Closed-loop Prediction of a Nonlinear Dynamic Plant, H Li and C L E Swartz* \n",
    "- The underlying control structure (modeled in the CLDRTO model) contains two constrained MPC, which are represented by their KKT conditions in the DRTO problem. \n",
    "- The problem is posed as a scenario-based stochastic programming problem\n",
    "- The uncertainty represented by the scenarios comes from the the heat transfer coefficient (UA) \n",
    "- We run a Monte Carlo Analysis of the performance of both strategies for an arbitrary number of scenarios\n",
    "\n",
    "--> see jupyter notebook \"Preliminaries\" and \"Monolithic and Decomposed CLRTO Comparison\" for details\n",
    "\n",
    "AUTHOR: Jose Matias <assumpcj@mcmaster.ca>\n",
    "DATE: August 2023"
   ]
  },
  {
   "cell_type": "markdown",
   "id": "146397a9",
   "metadata": {},
   "source": [
    "[1.Model and Simulation Parameters](#sec1) <br>\n",
    "[2.Building Auxiliary Functions](#sec2)<br>\n",
    "[2.1. MPC matrices builder](#subsec21)<br>\n",
    "[2.2. MPC solver](#subsec22)<br>\n",
    "[2.3. Monolithic CLDRTO](#subsec23)<br>\n",
    "[2.4. Decomposed CLDRTO](#subsec24)<br>\n",
    "[2.5. Plant Model](#subsec25)<br>\n",
    "[3. Implementing CL-DRTO in closed loop with the plant](#sec3)<br>"
   ]
  },
  {
   "cell_type": "code",
   "execution_count": 1,
   "id": "67ea638f",
   "metadata": {},
   "outputs": [],
   "source": [
    "using LinearAlgebra, JuMP, Ipopt, CPLEX, Plots, DataFrames, LaTeXStrings, DifferentialEquations, Distributions"
   ]
  },
  {
   "cell_type": "markdown",
   "id": "d51ccb2b",
   "metadata": {},
   "source": [
    "<a id=\"sec1\"></a>"
   ]
  },
  {
   "cell_type": "markdown",
   "id": "b2933767",
   "metadata": {},
   "source": [
    "# Model and Simulation Parameters"
   ]
  },
  {
   "cell_type": "markdown",
   "id": "a4c42dcf",
   "metadata": {},
   "source": [
    "- Simulation Parameters"
   ]
  },
  {
   "cell_type": "code",
   "execution_count": 2,
   "id": "cb37bc36",
   "metadata": {},
   "outputs": [],
   "source": [
    "# Simulation sampling time\n",
    "dt = 0.5 #[s]\n",
    "\n",
    "# Plant simulation time span\n",
    "tspan = (0.0,dt)\n",
    "\n",
    "# Optimization horizon \n",
    "ndrto = 20 # dt_DRTO\n",
    "\n",
    "# Optimization horizon \n",
    "Δdrto = 4 # dt_DRTO\n",
    "\n",
    "# time series for plotting\n",
    "t_drto = Vector{Float64}(undef,ndrto) \n",
    "for kk in 1:ndrto\n",
    "    t_drto[kk] = dt*kk\n",
    "end\n",
    "\n",
    "# number of components\n",
    "nc = 3 #[-]\n",
    "# number of inputs\n",
    "nu = 2 #[-]\n",
    "# number of reactors\n",
    "nrt = 2 #[-]\n",
    "# number of reactions\n",
    "nrc = 2 #[-]\n",
    "# number of MPCs\n",
    "numpc = 2 \n",
    "\n",
    "# initial value\n",
    "C0 = [0.124287 0.216517;\n",
    "    19.725 19.659;\n",
    "    0.150668 0.124504]\n",
    "T0 = [341.7216268417903 331.0792925101132]\n",
    "\n",
    "# \"algebraic states\"\n",
    "C_in0 = [20.0 10.0621;\n",
    "          0 9.86252;\n",
    "          0 0.0753341]\n",
    "T_in0 = [299.99999999998846 320.8608134932841]\n",
    "Tj_out0 = [316.6886507367161 297.43171700404525]\n",
    "\n",
    "# \"inputs\"\n",
    "Q0 = 0.2\n",
    "Qm0 = 0.2\n",
    "\n",
    "# initial value of u\n",
    "u0 = [Q0 Qm0]\n",
    "\n",
    "# States (algebraic and differential): CA1,CB1,CC1,T1,Tj1_out,CA2,CB2,CC2,T2,Tj2_out\n",
    "x0 = [C0[1,1], C0[2,1], C0[3,1],T0[1],Tj_out0[1],C0[1,2], C0[2,2], C0[3,2],T0[2],Tj_out0[2]];"
   ]
  },
  {
   "cell_type": "markdown",
   "id": "ac38749b",
   "metadata": {},
   "source": [
    "- Model Parameters"
   ]
  },
  {
   "cell_type": "code",
   "execution_count": 3,
   "id": "9bb381c9",
   "metadata": {},
   "outputs": [],
   "source": [
    "# feed to reactor 1 concentrations c = (A,B,C)\n",
    "C1_in = [20.0, 0, 0] #[kmol/m3]\n",
    "\n",
    "# temperature of feed to reactor 1\n",
    "T1_in = 300.0 #[K]\n",
    "\n",
    "# feed to mixer concentration c = (A,B,C)\n",
    "Cm_in = [20.0, 0, 0]\n",
    "\n",
    "# temperature of feed to mixer\n",
    "Tm_in = 300.0 #[K]\n",
    "\n",
    "# feed flowrate of cooling water to reactor jacket r = (1,2)\n",
    "Qj_in = [0.7, 0.7] #[m3/s]\n",
    "\n",
    "# cooling water temperature to reactor jacket r = (1,2)\n",
    "Tj_in = [300.0, 275.0] #[m3/s]\n",
    "\n",
    "# reactor volumetric holdup r = (1,2)\n",
    "V = [5.0, 5.0] #[m3]\n",
    "\n",
    "# heat transfer coefficient\n",
    "Ua = [0.35, 0.35] #[m3/s]\n",
    "\n",
    "# reaction rate constant e = (I,II)\n",
    "k0 = [2.7e8, 160.0] #[1/s]\n",
    "\n",
    "# reaction activation energy e = (I,II)\n",
    "ER = [6000.0, 4500.0] #[K]\n",
    "\n",
    "# heat of reaction e = (I,II)\n",
    "dH_pcp = -[5.0, 5.0] #[m3 K/kmol] \n",
    "\n",
    "# stochiometric matrix \n",
    "Ms = [-1 0;\n",
    "       1 -1;\n",
    "       0 1];"
   ]
  },
  {
   "cell_type": "code",
   "execution_count": 4,
   "id": "ef2eb729",
   "metadata": {},
   "outputs": [],
   "source": [
    "# Uncertain parameters: Ua1 \n",
    "# nominal value\n",
    "pNom = 0.35\n",
    "# standard deviation associated with uncertainty\n",
    "deltaPar = 0.01*0.007; "
   ]
  },
  {
   "cell_type": "markdown",
   "id": "177c50a5",
   "metadata": {},
   "source": [
    "- Economic Optimization Problem Parameters"
   ]
  },
  {
   "cell_type": "code",
   "execution_count": 5,
   "id": "fd6b1852",
   "metadata": {},
   "outputs": [],
   "source": [
    "# feed supply limitation\n",
    "Qf_max = 0.8 #[m3/s] \n",
    "\n",
    "# safety restriction (avoiding temperature run away)\n",
    "Tr_max = 350 #[K]\n",
    "\n",
    "# product specifications\n",
    "cA2_max = 0.3 #[kmol/m3]\n",
    "\n",
    "# max cooling water outlet temperature r = (1,2)\n",
    "Tj_max = [330, 300] #[K]\n",
    "\n",
    "# min feed to reactor 1\n",
    "Q_min = 0.05 #[m3/s]\n",
    "\n",
    "# min feed to mixer\n",
    "Qm_min = 0.05; #[m3/s]\n",
    "\n",
    "# Output bounds (T1, T2)\n",
    "yMin = [100.0 100.0] #K\n",
    "yMax = [350.0 350.0] #K\n",
    "\n",
    "# Setpoint bounds (T1, T2)\n",
    "yspMin = [100.0 100.0] #K\n",
    "yspMax = [360.0 360.0] #K\n",
    "\n",
    "# Input bounds (Q1, Qm)\n",
    "uMin = [0.050 0.050] #K\n",
    "uMax = [0.805 0.800]; #K"
   ]
  },
  {
   "cell_type": "markdown",
   "id": "6c41f2d6",
   "metadata": {},
   "source": [
    "- Steady-state optimal solution"
   ]
  },
  {
   "cell_type": "code",
   "execution_count": 6,
   "id": "a0f950a9",
   "metadata": {},
   "outputs": [],
   "source": [
    "# concentration related variables\n",
    "C0_star = [0.114545 0.174342;\n",
    "    19.7379 19.6938;\n",
    "    0.147529 0.13187]\n",
    "\n",
    "T0_star = [350.00000000404816 337.5000000227455]\n",
    "T_in0_star = [300.0 327.5923855099112]\n",
    "Tj_out0_star = [320.00000000161924 300.0000000090982]\n",
    "Q0_star = [0.27907949788513375 0.5057183218310063]\n",
    "Qm0_star = 0.22663882394587254\n",
    "\n",
    "solSS = Dict('C' => C0_star,\n",
    "             'T' => T0_star,\n",
    "             'I' => T_in0_star, \n",
    "             'J' => Tj_out0_star,\n",
    "             'Q' => Q0_star,\n",
    "             'M' => Qm0_star);"
   ]
  },
  {
   "cell_type": "markdown",
   "id": "4fe8af5f",
   "metadata": {},
   "source": [
    "- MPC Parameters\n",
    "MPC1: reactor 1 (Q1 <-> T1) <br>\n",
    "MPC2: reactor 2 (Qm <-> T2)"
   ]
  },
  {
   "cell_type": "code",
   "execution_count": 7,
   "id": "e307e215",
   "metadata": {},
   "outputs": [],
   "source": [
    "##########\n",
    "# MODELS #\n",
    "##########\n",
    "# reference for deviation variables\n",
    "# MPC 1\n",
    "T1_0_bar = 350.00000000404816\n",
    "Q1_0_bar = 0.27907949788513375\n",
    "\n",
    "# MPC 2\n",
    "T2_0_bar = 337.5000000227455\n",
    "Qm_0_bar = 0.22663882394587254\n",
    "\n",
    "yref = [T1_0_bar T2_0_bar]\n",
    "uref = [Q1_0_bar Qm_0_bar]\n",
    "\n",
    "# Linear SISO model coefficients\n",
    "# MPC1\n",
    "a1_hat = 0.9444968979045645\n",
    "b1_hat = 4.755754997301486\n",
    "\n",
    "# MPC2\n",
    "a2_hat = 0.9256356006985642\n",
    "b2_hat = 5.70696857693315\n",
    "\n",
    "# initial value of xMPC\n",
    "xMPC0 = [T0[1] - T1_0_bar, T0[2] - T2_0_bar]\n",
    "\n",
    "##########\n",
    "# TUNING #\n",
    "##########\n",
    "# prediction horizon \n",
    "p = 5\n",
    "\n",
    "# control horizon \n",
    "m = 3\n",
    "\n",
    "# output tracking weight\n",
    "q = 1\n",
    "\n",
    "# move supression weight\n",
    "r = [150,500]\n",
    "\n",
    "# input bounds\n",
    "u_mpc_lb = 0.050\n",
    "u_mpc_ub = 0.805\n",
    "\n",
    "##################\n",
    "# KKT CONDITIONS #\n",
    "##################\n",
    "# matrix to compute the gradients of the input bound constraints\n",
    "conMatrix = [-I(m); I(m)]\n",
    "\n",
    "# Regularized CC function \n",
    "epsCC = [1e-1 1e-1 1e-1 1e-1 1e-1 1e-1];\n",
    "#epsCC = [1e-2 1e-2 1e-2 1e-2 1e-2 1e-2];"
   ]
  },
  {
   "cell_type": "markdown",
   "id": "7d89cd2c",
   "metadata": {},
   "source": [
    "- Preparing Orthogonal Collocation"
   ]
  },
  {
   "cell_type": "code",
   "execution_count": 8,
   "id": "f7d87f6a",
   "metadata": {},
   "outputs": [],
   "source": [
    "# Parameters for orthogonal collocation\n",
    "#  Radau Collocation Points 1st degree polynomial == Backward Euler\n",
    "radau  = [0.0 1.00000]\n",
    "\n",
    "# number of collocation points (initial point is also considered)\n",
    "ncp = length(radau) \n",
    "\n",
    "# Collocation parameters and radau time series\n",
    "colmat = [-1.0 -1.0;\n",
    "          1.0 1.0]\n",
    "\n",
    "# length of one finite element on the time horizon\n",
    "h = dt;          "
   ]
  },
  {
   "cell_type": "markdown",
   "id": "e3f7955e",
   "metadata": {},
   "source": [
    "- Bender's Decomposition"
   ]
  },
  {
   "cell_type": "code",
   "execution_count": 9,
   "id": "eb669196",
   "metadata": {},
   "outputs": [],
   "source": [
    "# max number of iteration (50)\n",
    "benIterMax = 50\n",
    "\n",
    "# optimality gap (relative) tolerance (1e-2)\n",
    "optGap = 1e-1; "
   ]
  },
  {
   "cell_type": "markdown",
   "id": "61521103",
   "metadata": {},
   "source": [
    "<a id=\"sec2\"></a>"
   ]
  },
  {
   "cell_type": "markdown",
   "id": "2bed46e2",
   "metadata": {},
   "source": [
    "# Building auxiliary functions"
   ]
  },
  {
   "cell_type": "markdown",
   "id": "e3b44c70",
   "metadata": {},
   "source": [
    "<a id=\"subsec21\"></a>"
   ]
  },
  {
   "cell_type": "markdown",
   "id": "722e6ed8",
   "metadata": {},
   "source": [
    "## MPC matrices builder"
   ]
  },
  {
   "cell_type": "code",
   "execution_count": 10,
   "id": "2196febb",
   "metadata": {},
   "outputs": [],
   "source": [
    "function MPC_matrices(A,B,C,p,m,q,r)\n",
    "    ###########\n",
    "    # inputs: #\n",
    "    ###########\n",
    "    # A,B,C - System model\n",
    "    # p, m - prediction and control horizon\n",
    "    # q, r - setpoint and input usage tuning parameters\n",
    "    \n",
    "    # extracting dimensions from system model\n",
    "    nx = size(A,1) # states\n",
    "    nu = size(B,2) # inputs\n",
    "    ny = size(C,1) # outputs\n",
    "    \n",
    "    # adding disturbance model\n",
    "    Ad = [A zeros(nx,ny); zeros(ny,nx) I(ny)]\n",
    "    Bd = [B; zeros(ny,nu)]\n",
    "    Cd = [C ones(ny,ny)]\n",
    "    \n",
    "    # building matrices for MPC\n",
    "    Psi = Cd*Ad\n",
    "    for ii in 2:p\n",
    "        Psi = [Psi;  Cd*Ad^ii]\n",
    "    end\n",
    "\n",
    "    # Computing Dynamic Matrix\n",
    "    a = Cd*Bd\n",
    "    for ii in 2:p\n",
    "        a = [a; Cd*Ad^(ii - 1)*Bd]\n",
    "    end\n",
    "    DynM = a\n",
    "\n",
    "    for ii in 1:(m - 2)\n",
    "        a = [zeros(ny,nu);a[1:(p-1)*ny,:]]\n",
    "        DynM = [DynM  a]\n",
    "    end\n",
    "\n",
    "    # adjusting dynamic matrix for since p > m (last column)\n",
    "    b = Cd*Bd\n",
    "\n",
    "    Ai = I(nx+1) # adding disturbance to the states\n",
    "    for ii = 1:(p - m)\n",
    "        Ai = Ai + Ad^ii\n",
    "        b = [b;Cd*Ai*Bd]\n",
    "    end\n",
    "\n",
    "    Theta=[DynM [zeros(ny*(m-1),nu);b]]\n",
    "    \n",
    "    # Creating Qbar and Rbar matrices\n",
    "    Qbar = Diagonal([q for ii in 1:p])\n",
    "    Rbar = Diagonal([r for ii in 1:m])\n",
    "\n",
    "    # Creating input movement OF penalty matrix \n",
    "    M=[zeros((m-1)*nu,nu) I(nu*(m-1)); zeros(nu) zeros(nu,nu*(m-1))]\n",
    "    Ibar=[I(nu); zeros(nu*(m-1),nu)]\n",
    "    IM = I(nu*m) - M';\n",
    "    \n",
    "    # Matrix H\n",
    "    H = Theta'*Qbar*Theta + IM'*Rbar*IM;\n",
    "    \n",
    "    return Dict('A' => A, 'B' => B, 'C' => C, 'H' => H, 'Θ' => Theta, 'Ψ' => Psi, 'Q' => Qbar, 'I' => Ibar, 'R' => Rbar, 'M' => IM)\n",
    "end;"
   ]
  },
  {
   "cell_type": "markdown",
   "id": "2cdcb41c",
   "metadata": {},
   "source": [
    "<a id=\"subsec23\"></a>"
   ]
  },
  {
   "cell_type": "markdown",
   "id": "900fd302",
   "metadata": {},
   "source": [
    "## MPC solver\n",
    "\n",
    "- Building function for computing MPC solution (solving QP)"
   ]
  },
  {
   "cell_type": "code",
   "execution_count": 11,
   "id": "b9677c35",
   "metadata": {},
   "outputs": [],
   "source": [
    "function solveMPC(xkk,dekk,uk_1,yspk,umin,umax,yref,uref,mpc,p,m)\n",
    "    ###########\n",
    "    # inputs: #\n",
    "    ###########\n",
    "    # xkk - current states (MPC model) \n",
    "    # dekk - disturbance estimate \n",
    "    # uk_1 - inputs at the current iteration, already implemented on the plant\n",
    "    # yspk - setpoint trajectory computed by CL-DRTO\n",
    "    # umin, umax - input bounds\n",
    "    # yref, uref - reference points for computing deviation variables\n",
    "    # mpcModel - System model\n",
    "    # p, m - prediction and control horizon\n",
    "    \n",
    "    MPC_con = Model(Ipopt.Optimizer)\n",
    "    set_silent(MPC_con)\n",
    "    \n",
    "    ####################\n",
    "    # Set up variables #\n",
    "    ####################\n",
    "    # inputs computed by MPCs\n",
    "    @variable(MPC_con, (umin - uref) ≤ u[1:m] ≤ (umax - uref) )\n",
    "    \n",
    "    ######################################\n",
    "    # Set up constraints and expressions #\n",
    "    ######################################\n",
    "    # for OF computation\n",
    "    @expression(MPC_con, cfT, (mpc['Ψ']*[xkk;dekk] - (yspk - yref)*ones(p,1))'*mpc['Q']*mpc['Θ'] - (uk_1 - uref)'*mpc['I']'*mpc['R']*mpc['M'])\n",
    "        \n",
    "    #############################\n",
    "    # Set up objective function #\n",
    "    #############################\n",
    "    @objective(MPC_con, Min, sum(u[jj]*sum(mpc['H'][jj,ii]*u[ii] for ii in 1:m) for jj in 1:m) + 2*sum(cfT[jj]*u[jj] for jj = 1:m))\n",
    "    # @show MPC_con\n",
    "\n",
    "    #################\n",
    "    # Solve Problem #\n",
    "    #################\n",
    "    optimize!(MPC_con)\n",
    "\n",
    "    #calling values of the solved problem\n",
    "    ϕ = objective_value(MPC_con)\n",
    "    uArray = value.(u) .+ uref\n",
    "\n",
    "    return Dict('ϕ' => ϕ,'u' => uArray)\n",
    "end;"
   ]
  },
  {
   "cell_type": "markdown",
   "id": "f2860f8a",
   "metadata": {},
   "source": [
    "<a id=\"subsec23\"></a>"
   ]
  },
  {
   "cell_type": "markdown",
   "id": "12964a06",
   "metadata": {},
   "source": [
    "## Monolithic solution of scenario-based CLDRTO"
   ]
  },
  {
   "cell_type": "code",
   "execution_count": 12,
   "id": "e5486fc7",
   "metadata": {},
   "outputs": [],
   "source": [
    "function MS_CLDRTO(C_0,T_0,u_0,xMPC_0,UaTemp,ns,solNom)\n",
    "    ###########\n",
    "    # inputs: #\n",
    "    ###########\n",
    "    # C_0, T_0 - concentration and temperature states at the current iteration (beginning of DRTO horizon)\n",
    "    # u_0 - current input implemented in the plant\n",
    "    # xMPC_0 - current MPC states\n",
    "    # UaTemp - vector containing all the values of the uncertain parameter (Ua[1]) and Ua[2]\n",
    "    # nScen - number of scenarios\n",
    "    # solNom - nominal solution\n",
    "    \n",
    "    # Assuming equiprobable scenarios\n",
    "    pScen = 1.0/ns\n",
    "    \n",
    "    # JuMP model\n",
    "    model_ms = Model(Ipopt.Optimizer)\n",
    "    set_optimizer_attribute(model_ms, \"warm_start_init_point\", \"yes\")\n",
    "    #set_optimizer_attribute(model_ms, \"print_level\", 5)\n",
    "    set_optimizer_attribute(model_ms, \"max_cpu_time\", 300.0) # 5 min\n",
    "    set_silent(model_ms)\n",
    "\n",
    "    ####################\n",
    "    # Set up variables #\n",
    "    ####################\n",
    "    # DRTO model variables\n",
    "    @variable(model_ms, C[1:nc, 1:nrt, 1:ndrto, 1:ncp, 1:ns] ≥ 0)           # [kmol/m3] concentration (diff states)\n",
    "    @variable(model_ms, T[rt=1:nrt, 1:ndrto, 1:ncp, 1:ns] ≥ Tj_in[rt])      # [K] reactor temperature (diff states)\n",
    "    @variable(model_ms, J[1:ndrto, 1:ncp, 1:ns])                            # [$] objective function (diff states)\n",
    "    @variable(model_ms, Cdot[1:nc, 1:nrt, 1:ndrto, 1:ncp, 1:ns])            # [kmol/m3/s] concentration (time derivative)\n",
    "    @variable(model_ms, Tdot[1:nrt, 1:ndrto, 1:ncp, 1:ns])                  # [K/s] reactor temperature (time derivative)\n",
    "    @variable(model_ms, Jdot[1:ndrto, 1:ncp, 1:ns])                         # [$/s] objective function (time derivative\n",
    "    @variable(model_ms, Tj_out[rt=1:nrt, 1:ndrto, 1:ncp, 1:ns] ≥ Tj_in[rt]) # [K] reactor temperature (diff states)\n",
    "    @variable(model_ms, C_in[1:nc, 1:nrt, 1:ndrto, 1:ncp, 1:ns] ≥ 0)        # [kmol/m3] inlet concentration (alg. states)\n",
    "    @variable(model_ms, T_in[rt=1:nrt, 1:ndrto, 1:ncp, 1:ns] ≥ Tj_in[rt])   # [K] inlet temperature (alg. states)\n",
    "    @variable(model_ms, Q_min ≤ Q[1:nrt, 1:ndrto, 1:ns] ≤ Qf_max)           # [m3/s] flowrate to reactor\n",
    "    @variable(model_ms, Qm_min ≤ Qm[1:ndrto, 1:ns] ≤ Qf_max)                # [m3/s] flowrate to mixer\n",
    "\n",
    "    # MPC model variables (SISO) -> deviation form\n",
    "    @variable(model_ms, xMPC[1:numpc, 1:ndrto, 1:ns])\n",
    "    #@variable(model_ms, yMPC[1:numpc, 1:ndrto, 1:ns])\n",
    "    @variable(model_ms, uMPC[1:numpc, 1:ndrto, 1:m, 1:ns])\n",
    "    \n",
    "    # MPC <-> DRTO model deviation\n",
    "    @variable(model_ms, de[1:numpc,1:ndrto, 1:ns])\n",
    "    \n",
    "    # Constrained MPC KKT conditions (upper and lower bounds for each input)\n",
    "    @variable(model_ms, mu_g[1:numpc,1:ndrto,1:(2*m), 1:ns] ≥ 0) \n",
    "\n",
    "    # setpoints for the controllers sent to the plant (*CL-DRTO degrees of freedom)\n",
    "    @variable(model_ms, yspMin[nct] ≤ ysp[nct = 1:numpc,1:ndrto, 1:ns] ≤ yspMax[nct])\n",
    "\n",
    "    #####################################\n",
    "    # Set up initial guesses for solver #\n",
    "    #####################################\n",
    "    if solNom isa Dict # if gives flexibility to NOT initialize variables\n",
    "        for ss in 1:ns\n",
    "            for kk in 1:ndrto\n",
    "                for jj in 1:ncp\n",
    "                    for rr in 1:nrt\n",
    "                        for cc in 1:nc\n",
    "                            # concentration related variables\n",
    "                            set_start_value(C[cc,rr,kk,jj,ss], solNom['C'][cc,rr,kk,jj,1]) \n",
    "                        end # components loop\n",
    "\n",
    "                        # temperature related variables\n",
    "                        set_start_value(T[rr,kk,jj,ss], solNom['T'][rr,kk,jj,1]) \n",
    "                        set_start_value(T_in[rr,kk,jj,ss], solNom['I'][rr,kk,jj,1])\n",
    "                        set_start_value(Tj_out[rr,kk,jj,ss], solNom['J'][rr,kk,jj,1])\n",
    "\n",
    "                    end # reactors loop\n",
    "                end # collocation points loop\n",
    "\n",
    "                # MV's\n",
    "                for rr in 1:nrt\n",
    "                    set_start_value(Q[rr,kk,ss], solNom['Q'][rr,kk,1])  \n",
    "                end\n",
    "                set_start_value(Qm[kk,ss], solNom['M'][kk,1]) \n",
    "\n",
    "                for mm in 1:m\n",
    "                    set_start_value(uMPC[1,kk,mm,ss], solNom['Q'][1,kk,1] - uref[1])\n",
    "                    set_start_value(uMPC[2,kk,mm,ss], solNom['M'][kk,1] - uref[2])\n",
    "                    set_start_value(mu_g[1,kk,mm,ss], solNom['μ'][1,kk,mm,1])\n",
    "                    set_start_value(mu_g[2,kk,mm,ss], solNom['μ'][2,kk,mm,1])\n",
    "                end\n",
    "            end # finite elements loop\n",
    "        end # scenarios loop\n",
    "    end\n",
    "    \n",
    "    ##############\n",
    "    # DRTO model #\n",
    "    ##############\n",
    "    @NLexpressions(model_ms, begin\n",
    "            # [1/s] reaction rate\n",
    "            k[rt = 1:nrt, rc = 1:nrc, kk = 1:ndrto, jj = 1:ncp, ss = 1:ns], k0[rc]*exp(-ER[rc]/T[rt,kk,jj,ss])\n",
    "            #[m3 K/s] cooling rate\n",
    "            # approximate model *approximating logarithm temperature\n",
    "            qcool[rt = 1:nrt,kk = 1:ndrto, jj = 1:ncp, ss = 1:ns], UaTemp[rt,ss]*(T[rt,kk,jj,ss] - (0.5*(Tj_out[rt,kk,jj,ss] + Tj_in[rt])))\n",
    "    end)\n",
    "\n",
    "    @NLconstraints(model_ms, begin\n",
    "            #########\n",
    "            # MODEL #\n",
    "            #########    \n",
    "            # reactor\n",
    "            r_cmb[co = 1:nc, rt = 1:nrt, kk = 1:ndrto, jj = 1:ncp, ss = 1:ns], Cdot[co,rt,kk,jj,ss] == (C_in[co,rt,kk,jj,ss] - C[co,rt,kk,jj,ss])*Q[rt,kk,ss]/V[rt] + sum(Ms[co,rc]*k[rt,rc,kk,jj,ss]*C[rc,rt,kk,jj,ss] for rc in 1:nrc) \n",
    "            r_eb[rt = 1:nrt, kk = 1:ndrto, jj = 1:ncp, ss = 1:ns], Tdot[rt,kk,jj,ss] == (T_in[rt,kk,jj,ss] - T[rt,kk,jj,ss])*Q[rt,kk,ss]/V[rt] - sum(dH_pcp[rc]*k[rt,rc,kk,jj,ss]*C[rc,rt,kk,jj,ss] for rc in 1:nrc) - qcool[rt,kk,jj,ss]/V[rt]\n",
    "            # mixer\n",
    "            m_mb[kk = 1:ndrto,ss = 1:ns], 0 == Q[1,kk,ss] + Qm[kk,ss] - Q[2,kk,ss]\n",
    "            m_cmb[co = 1:nc,kk = 1:ndrto,jj = 1:ncp,ss = 1:ns], 0 == Q[1,kk,ss]*C[co,1,kk,jj,ss] + Qm[kk,ss]*Cm_in[co] - Q[2,kk,ss]*C_in[co,2,kk,jj,ss]\n",
    "            m_eb[kk = 1:ndrto,jj = 1:ncp,ss = 1:ns], 0 == Q[1,kk,ss]*T[1,kk,jj,ss] + Qm[kk,ss]*Tm_in - Q[2,kk,ss]*T_in[2,kk,jj,ss]\n",
    "            # jacket\n",
    "            j_eb[rt = 1:nrt,kk = 1:ndrto,jj = 1:ncp,ss = 1:ns], 0 == Qj_in[rt]*(Tj_out[rt,kk,jj,ss] - Tj_in[rt]) - qcool[rt,kk,jj,ss]\n",
    "            # objective function\n",
    "            JInteg[kk = 1:ndrto, jj = 1:ncp,ss = 1:ns], Jdot[kk,jj,ss] == 10*(Q[1,kk,ss]*C_in[1,1,kk,jj,ss] + Qm[kk,ss]*Cm_in[1] - Q[2,kk,ss]*(C[1,2,kk,jj,ss] + C[3,2,kk,jj,ss])) - 0.01*qcool[1,kk,jj,ss] - qcool[2,kk,jj,ss] - 0.1*Q[1,kk,ss] - 0.1*Qm[kk,ss]\n",
    "\n",
    "            #########################    \n",
    "            # Collocation Equations #    \n",
    "            #########################\n",
    "            # initial point\n",
    "            coll_C_0[co=1:nc, rt = 1:nrt,ss = 1:ns], C[co,rt,1,1,ss] == C_0[co,rt] \n",
    "            coll_T_0[rt = 1:nrt,ss = 1:ns], T[rt,1,1,ss] == T_0[rt]\n",
    "            coll_J_0[ss = 1:ns], J[1,1,ss] == 0 \n",
    "            \n",
    "            # set up collocation equations \n",
    "            coll_C_n[co = 1:nc, rt = 1:nrt, kk = 1:ndrto, jj = 2:ncp,ss = 1:ns], sum(colmat[ii,jj]*C[co,rt,kk,ii,ss] for ii in 1:ncp) - h*Cdot[co,rt,kk,jj,ss] == 0 \n",
    "            coll_T_n[rt = 1:nrt, kk = 1:ndrto, jj = 2:ncp, ss = 1:ns], sum(colmat[ii,jj]*T[rt,kk,ii] for ii in 1:ncp) - h*Tdot[rt,kk,jj,ss] == 0\n",
    "            coll_J_n[kk = 1:ndrto, jj = 2:ncp, ss = 1:ns], sum(colmat[ii,jj]*J[kk,ii,ss] for ii in 1:ncp) - h*Jdot[kk,jj,ss] == 0\n",
    "\n",
    "            # continuinity equations\n",
    "            coll_C_con[co = 1:nc, rt = 1:nrt, kk = 2:ndrto,ss = 1:ns], C[co,rt,kk,1,ss] - C[co,rt,kk - 1,ncp,ss] == 0 \n",
    "            coll_T_con[rt = 1:nrt, kk = 2:ndrto,ss = 1:ns], T[rt,kk,1,ss] - T[rt,kk - 1,ncp,ss] == 0\n",
    "            coll_J_con[kk = 2:ndrto,ss = 1:ns], J[kk,1,ss] - J[kk - 1,ncp,ss] == 0\n",
    "    end)\n",
    "    \n",
    "    ##########################\n",
    "    # MPC model and solution #\n",
    "    ##########################\n",
    "    # N.B. inside MPC everything is in deviation variables\n",
    "    @expressions(model_ms, begin\n",
    "            # MPC1\n",
    "            cfT_c1_1[ss = 1:ns], (mpc1['Ψ']*[xMPC[1,1,ss];de[1,1,ss]] .- (ysp[1,1,ss] - yref[1]))'*mpc1['Q']*mpc1['Θ'] - (u_0[1] - uref[1])*mpc1['I']'*mpc1['R']*mpc1['M']\n",
    "            cfT_c1[kk=2:ndrto,ss = 1:ns], (mpc1['Ψ']*[xMPC[1,kk,ss];de[1,kk,ss]] .- (ysp[1,kk,ss] - yref[1]))'*mpc1['Q']*mpc1['Θ'] - uMPC[1,kk - 1,1,ss]*mpc1['I']'*mpc1['R']*mpc1['M']\n",
    "            # Input bounds\n",
    "            MPC1_u_upper[kk = 1:ndrto,uu = 1:m,ss = 1:ns], (uMax[1] - uref[1]) - uMPC[1,kk,uu,ss]\n",
    "            MPC1_u_lower[kk = 1:ndrto,uu = 1:m,ss = 1:ns], uMPC[1,kk,uu,ss] - (uMin[1] - uref[1])\n",
    "            # MPC2\n",
    "            cfT_c2_1[ss = 1:ns], (mpc2['Ψ']*[xMPC[2,1,ss];de[2,1,ss]] .- (ysp[2,1,ss] - yref[2]))'*mpc2['Q']*mpc2['Θ'] - (u_0[2] - uref[2])*mpc2['I']'*mpc2['R']*mpc2['M']\n",
    "            cfT_c2[kk=2:ndrto,ss = 1:ns], (mpc2['Ψ']*[xMPC[2,kk,ss];de[2,kk,ss]] .- (ysp[2,kk,ss] - yref[2]))'*mpc2['Q']*mpc2['Θ'] - uMPC[2,kk - 1,1,ss]*mpc2['I']'*mpc2['R']*mpc2['M']\n",
    "            # Input bounds\n",
    "            MPC2_u_upper[kk = 1:ndrto,uu = 1:m,ss = 1:ns], (uMax[2] - uref[2]) - uMPC[2,kk,uu,ss]\n",
    "            MPC2_u_lower[kk = 1:ndrto,uu = 1:m,ss = 1:ns], uMPC[2,kk,uu,ss] - (uMin[2] - uref[2])\n",
    "    end)\n",
    "\n",
    "    @constraints(model_ms, begin\n",
    "            #############\n",
    "            # MPC model #\n",
    "            #############\n",
    "            # MPC1\n",
    "            MPC1_dyn_model_1[ss = 1:ns], xMPC[1,1,ss] == mpc1['A']*xMPC_0[1] + mpc1['B']*(u_0[1] - uref[1])\n",
    "            MPC1_dyn_model[kk = 1:(ndrto - 1),ss = 1:ns], xMPC[1,kk + 1,ss] == mpc1['A']*xMPC[1,kk,ss] + mpc1['B']*uMPC[1,kk,1,ss]\n",
    "            #MPC1_model_out[kk=1:ndrto,ss = 1:ns], yMPC[1,kk,ss] == xMPC[1,kk,ss] # C = 1\n",
    "            MPC1_model_dev[kk=1:ndrto,ss = 1:ns], de[1,kk,ss] == (T[1,kk,ncp,ss] - yref[1]) - xMPC[1,kk,ss]\n",
    "            # MPC12\n",
    "            MPC2_dyn_model_1[ss = 1:ns], xMPC[2,1,ss] == mpc2['A']*xMPC_0[2] + mpc2['B']*(u_0[2] - uref[2])\n",
    "            MPC2_dyn_model[kk = 1:(ndrto - 1),ss = 1:ns], xMPC[2,kk + 1,ss] == mpc2['A']*xMPC[2,kk,ss] + mpc2['B']*uMPC[2,kk,1,ss]\n",
    "            #MPC2_model_out[kk=1:ndrto,ss = 1:ns], yMPC[2,kk,ss] == xMPC[2,kk,ss] \n",
    "            MPC2_model_dev[kk=1:ndrto,ss = 1:ns], de[2,kk,ss] == (T[2,kk,ncp,ss] - yref[2]) - xMPC[2,kk,ss]\n",
    "            ################\n",
    "            # MPC solution #\n",
    "            ################\n",
    "            # MPC 1\n",
    "            # stationarity\n",
    "            MPC1_sol_sta_1[ss = 1:ns], uMPC[1,1,:,ss]'*mpc1['H'] + cfT_c1_1[ss] +  mu_g[1,1,:,ss]'*conMatrix .== 0\n",
    "            MPC1_sol_sta[kk=2:ndrto,ss = 1:ns], uMPC[1,kk,:,ss]'*mpc1['H'] + cfT_c1[kk,ss] +  mu_g[1,kk,:,ss]'*conMatrix .== 0\n",
    "            # primal feasibility\n",
    "            MPC1_sol_feas_ub[kk = 1:ndrto,uu = 1:m,ss = 1:ns], MPC1_u_upper[kk,uu,ss] ≥ 0\n",
    "            MPC1_sol_feas_lb[kk = 1:ndrto,uu = 1:m,ss = 1:ns], MPC1_u_lower[kk,uu,ss] ≥ 0\n",
    "            # dual feasibility (already defined above)\n",
    "            # complementarity constraint (defined below since it is nonlinear)\n",
    "            # MPC 2\n",
    "            # stationarity\n",
    "            MPC2_sol_sta_1[ss = 1:ns], uMPC[2,1,:,ss]'*mpc2['H'] + cfT_c2_1[ss] +  mu_g[2,1,:,ss]'*conMatrix .== 0\n",
    "            MPC2_sol_sta[kk=2:ndrto,ss = 1:ns], uMPC[2,kk,:,ss]'*mpc2['H'] + cfT_c2[kk,ss] +  mu_g[2,kk,:,ss]'*conMatrix .== 0\n",
    "            # primal feasibility\n",
    "            MPC2_sol_feas_ub[kk = 1:ndrto,uu = 1:m,ss = 1:ns], MPC2_u_upper[kk,uu,ss] ≥ 0\n",
    "            MPC2_sol_feas_lb[kk = 1:ndrto,uu = 1:m,ss = 1:ns], MPC2_u_lower[kk,uu,ss] ≥ 0\n",
    "            # dual feasibility (already defined above)\n",
    "            # complementarity constraint (defined below since it is nonlinear)      \n",
    "    end)\n",
    "    \n",
    "    @NLconstraints(model_ms, begin\n",
    "            # MPC 1 \n",
    "            # complementarity constraint\n",
    "            MPC1_sol_cc_ub[kk = 1:ndrto,uu = 1:m,ss = 1:ns], mu_g[1,kk,uu,ss]*MPC1_u_upper[kk,uu,ss] ≤ epsCC[uu]\n",
    "            MPC1_sol_cc_lb[kk = 1:ndrto,uu = 1:m,ss = 1:ns], mu_g[1,kk,m + uu,ss]*MPC1_u_lower[kk,uu,ss] ≤ epsCC[m + uu]    \n",
    "\n",
    "            # MPC 2\n",
    "            # complementarity constraint\n",
    "            MPC2_sol_cc_ub[kk = 1:ndrto,uu = 1:m,ss = 1:ns], mu_g[2,kk,uu,ss]*MPC2_u_upper[kk,uu,ss] ≤ epsCC[uu]\n",
    "            MPC2_sol_cc_lb[kk = 1:ndrto,uu = 1:m,ss = 1:ns], mu_g[2,kk,m + uu,ss]*MPC2_u_lower[kk,uu,ss] ≤ epsCC[m + uu] \n",
    "    end)\n",
    "    \n",
    "    @constraints(model_ms, begin   \n",
    "            #######################\n",
    "            # PROCESS CONSTRAINTS #\n",
    "            #######################\n",
    "            # ! Enforcing only at the end of the finite element\n",
    "            # safety restrictions\n",
    "            g1[rt = 1:nrt, kk = 1:ndrto,ss = 1:ns], T[rt,kk,ncp,ss] - Tr_max ≤ 0\n",
    "            # product specifications (Concentration of A in reactor 2)\n",
    "            g2[kk = 1:ndrto,ss = 1:ns], C[1,2,kk,ncp,ss] - cA2_max ≤ 0\n",
    "            # feed supply limitations\n",
    "            g3[kk = 1:ndrto,ss = 1:ns], Q[1,kk,ss] + Qm[kk,ss] - Qf_max ≤ 0\n",
    "            # process limitations (others have been included when declaring variables): max cooling water outlet temperature\n",
    "            g4[rt = 1:nrt, kk = 1:ndrto,ss = 1:ns], Tj_out[rt,kk,ncp,ss] - Tj_max[rt] ≤ 0    \n",
    "            ############################\n",
    "            # OPTIMIZATION CONSTRAINTS #\n",
    "            ############################\n",
    "            # connecting the MPC solution to the DRTO model (only the first element of the MV* is implemented)\n",
    "            h1[kk = 1:ndrto,ss = 1:ns], (uMPC[1,kk,1,ss] + uref[1]) - Q[1,kk,ss] == 0\n",
    "            h2[kk = 1:ndrto,ss = 1:ns], (uMPC[2,kk,1,ss] + uref[2]) - Qm[kk,ss] == 0\n",
    "            ##################################\n",
    "            # NON-ANTICIPATIVITY CONSTRAINTS #\n",
    "            ##################################\n",
    "            nonAnt_c1[kk=1:Δdrto,ss=2:ns], ysp[1,kk,1] - ysp[1,kk,ss] == 0.0\n",
    "            nonAnt_c2[kk=1:Δdrto,ss=2:ns], ysp[2,kk,1] - ysp[2,kk,ss] == 0.0\n",
    "            ##############    \n",
    "            # PARAMETERS #\n",
    "            ##############\n",
    "            p1[co = 1:nc,kk = 1:ndrto,jj = 1:ncp,ss = 1:ns], C_in[co,1,kk,jj,ss] - C1_in[co] == 0\n",
    "            p2[kk = 1:ndrto,jj = 1:ncp,ss = 1:ns], T_in[1,kk,jj,ss] - T1_in == 0\n",
    "        end)\n",
    "    \n",
    "    # Set up objective function  \n",
    "    @NLobjective(model_ms, Min, -sum(pScen*J[ndrto,ncp,ss] for ss in 1:ns))\n",
    "    \n",
    "    #################\n",
    "    # Solve Problem #\n",
    "    #################\n",
    "    optimize!(model_ms)\n",
    "    \n",
    "    status = termination_status(model_ms)\n",
    "    #display(status)\n",
    "    \n",
    "    if status == MOI.OPTIMAL || status == MOI.ALMOST_OPTIMAL || status == MOI.LOCALLY_SOLVED\n",
    "        # Proved optimality or Optimal within relaxed tolerances\n",
    "        # solution time\n",
    "        timeSol = solve_time(model_ms)\n",
    "\n",
    "        flag = 1\n",
    "        # #primal_status(m)\n",
    "\n",
    "        #calling values of the solved problem\n",
    "        ϕ = objective_value(model_ms)\n",
    "        yspArray = value.(ysp)\n",
    "        CArray = value.(C)\n",
    "        TArray = value.(T)\n",
    "        TjArray = value.(Tj_out)\n",
    "        TinArray = value.(T_in)\n",
    "        QArray = value.(Q)\n",
    "        QmArray = value.(Qm)\n",
    "        \n",
    "        muArray = value.(mu_g)\n",
    "\n",
    "        outputFun = Dict('ϕ' => ϕ,\n",
    "                        't' => timeSol,\n",
    "                        'f' => flag, \n",
    "                        's' => yspArray,\n",
    "                        'Q' => QArray,\n",
    "                        'M' => QmArray,\n",
    "                        'C' => CArray,\n",
    "                        'T' => TArray, \n",
    "                        'J' => TjArray,\n",
    "                        'I' => TinArray,\n",
    "                        'μ' => muArray)\n",
    "        \n",
    "        return outputFun\n",
    "    else\n",
    "        # Handle other cases.\n",
    "        outputFun = Dict('f' => 0,\n",
    "                         't' => NaN,\n",
    "                         'ϕ' => NaN)\n",
    "                        \n",
    "        \n",
    "        return outputFun\n",
    "    end\n",
    "end;"
   ]
  },
  {
   "cell_type": "markdown",
   "id": "72b22164",
   "metadata": {},
   "source": [
    "<a id=\"subsec24\"></a>"
   ]
  },
  {
   "cell_type": "markdown",
   "id": "e2a35860",
   "metadata": {},
   "source": [
    "## Decomposed CLDRTO"
   ]
  },
  {
   "cell_type": "markdown",
   "id": "b2f632eb",
   "metadata": {},
   "source": [
    "- Modeling Subproblem"
   ]
  },
  {
   "cell_type": "code",
   "execution_count": 13,
   "id": "3cece797",
   "metadata": {},
   "outputs": [],
   "source": [
    "function subp(yspFixed,C_0,T_0,u_0,xMPC_0,UaScen,pScen,solNom)    \n",
    "    ###########\n",
    "    # inputs: #\n",
    "    ###########\n",
    "    # yspFixed - setpoints determined by the master problem \n",
    "    # C_0, T_0 - concentration and temperature states at the current iteration (beginning of DRTO horizon)\n",
    "    # u_0 - current input implemented in the plant\n",
    "    # xMPC_0 - current MPC states\n",
    "    # UaScen - vector containing the values of the uncertain parameter (Ua[1]) and Ua[2] for a given scenario\n",
    "    # pScen - probability of a given scenario\n",
    "    # solNom - nominal solution\n",
    "    \n",
    "    # JuMP model\n",
    "    model_sub = Model(Ipopt.Optimizer)\n",
    "    set_optimizer_attribute(model_sub, \"warm_start_init_point\", \"yes\")\n",
    "    #set_optimizer_attribute(model_sub, \"print_level\", 5)\n",
    "    set_optimizer_attribute(model_sub, \"max_cpu_time\", 300.0) # 5 min\n",
    "    set_silent(model_sub)\n",
    "\n",
    "    ####################\n",
    "    # Set up variables #\n",
    "    ####################\n",
    "    # DRTO model variables\n",
    "    @variable(model_sub, C[1:nc, 1:nrt, 1:ndrto, 1:ncp] ≥ 0)           # [kmol/m3] concentration (diff states)\n",
    "    @variable(model_sub, T[rt=1:nrt, 1:ndrto, 1:ncp] ≥ Tj_in[rt])      # [K] reactor temperature (diff states)\n",
    "    @variable(model_sub, J[1:ndrto, 1:ncp])                            # [$] objective function (diff states)\n",
    "    @variable(model_sub, Cdot[1:nc, 1:nrt, 1:ndrto, 1:ncp])            # [kmol/m3/s] concentration (time derivative)\n",
    "    @variable(model_sub, Tdot[1:nrt, 1:ndrto, 1:ncp])                  # [K/s] reactor temperature (time derivative)\n",
    "    @variable(model_sub, Jdot[1:ndrto, 1:ncp])                         # [$/s] objective function (time derivative\n",
    "    @variable(model_sub, Tj_out[rt=1:nrt, 1:ndrto, 1:ncp] ≥ Tj_in[rt]) # [K] reactor temperature (diff states)\n",
    "    @variable(model_sub, C_in[1:nc, 1:nrt, 1:ndrto, 1:ncp] ≥ 0)        # [kmol/m3] inlet concentration (alg. states)\n",
    "    @variable(model_sub, T_in[rt=1:nrt, 1:ndrto, 1:ncp] ≥ Tj_in[rt])   # [K] inlet temperature (alg. states)\n",
    "    @variable(model_sub, Q_min ≤ Q[1:nrt, 1:ndrto] ≤ Qf_max)           # [m3/s] flowrate to reactor\n",
    "    @variable(model_sub, Qm_min ≤ Qm[1:ndrto] ≤ Qf_max)                # [m3/s] flowrate to mixer\n",
    "\n",
    "    # MPC model variables (SISO) -> deviation form\n",
    "    @variable(model_sub, xMPC[1:numpc, 1:ndrto])\n",
    "    #@variable(model_sub, yMPC[1:numpc, 1:ndrto])\n",
    "    @variable(model_sub, uMPC[1:numpc, 1:ndrto, 1:m])\n",
    "    \n",
    "    # MPC <-> DRTO model deviation\n",
    "    @variable(model_sub, de[1:numpc,1:ndrto])\n",
    "    \n",
    "    # Constrained MPC KKT conditions (upper and lower bounds for each input)\n",
    "    @variable(model_sub, mu_g[1:numpc,1:ndrto,1:(2*m)] ≥ 0, start = 0) \n",
    "\n",
    "    # setpoints for the controllers sent to the plant (*CL-DRTO degrees of freedom)\n",
    "    @variable(model_sub, yspMin[nct] ≤ ysp[nct = 1:numpc,1:ndrto] ≤ yspMax[nct])\n",
    "\n",
    "    #####################################\n",
    "    # Set up initial guesses for solver #\n",
    "    #####################################\n",
    "    if solNom isa Dict # if gives flexibility to NOT initialize variables\n",
    "        for kk in 1:ndrto\n",
    "            for jj in 1:ncp\n",
    "                for rr in 1:nrt\n",
    "                    for cc in 1:nc\n",
    "                        # concentration related variables\n",
    "                        set_start_value(C[cc,rr,kk,jj], solNom['C'][cc,rr,kk,jj,1]) \n",
    "                    end # components loop\n",
    "                    \n",
    "                    # temperature related variables\n",
    "                    set_start_value(T[rr,kk,jj], solNom['T'][rr,kk,jj,1]) \n",
    "                    set_start_value(T_in[rr,kk,jj], solNom['I'][rr,kk,jj,1])\n",
    "                    set_start_value(Tj_out[rr,kk,jj], solNom['J'][rr,kk,jj,1])\n",
    "\n",
    "                end # reactors loop\n",
    "            end # collocation points loop\n",
    "\n",
    "            # MV's\n",
    "            for rr in 1:nrt\n",
    "                set_start_value(Q[rr,kk], solNom['Q'][rr,kk,1])  \n",
    "            end\n",
    "            set_start_value(Qm[kk], solNom['M'][kk,1]) \n",
    "\n",
    "            for mm in 1:m\n",
    "                set_start_value(uMPC[1,kk,mm], solNom['Q'][1,kk,1] - uref[1])\n",
    "                set_start_value(uMPC[2,kk,mm], solNom['M'][kk,1] - uref[2])\n",
    "            end\n",
    "        end # finite elements loop\n",
    "    end\n",
    "    \n",
    "    ##############\n",
    "    # DRTO model #\n",
    "    ##############\n",
    "    @NLexpressions(model_sub, begin\n",
    "            # [1/s] reaction rate\n",
    "            k[rt = 1:nrt, rc = 1:nrc, kk = 1:ndrto, jj = 1:ncp], k0[rc]*exp(-ER[rc]/T[rt,kk,jj])\n",
    "            #[m3 K/s] cooling rate\n",
    "            # approximate model *approximating logarithm temperature\n",
    "            qcool[rt = 1:nrt,kk = 1:ndrto, jj = 1:ncp], UaScen[rt]*(T[rt,kk,jj] - (0.5*(Tj_out[rt,kk,jj] + Tj_in[rt])))\n",
    "    end)\n",
    "\n",
    "    @NLconstraints(model_sub, begin\n",
    "            #########\n",
    "            # MODEL #\n",
    "            #########    \n",
    "            # reactor\n",
    "            r_cmb[co = 1:nc, rt = 1:nrt, kk = 1:ndrto, jj = 1:ncp], Cdot[co,rt,kk,jj] == (C_in[co,rt,kk,jj] - C[co,rt,kk,jj])*Q[rt,kk]/V[rt] + sum(Ms[co,rc]*k[rt,rc,kk,jj]*C[rc,rt,kk,jj] for rc in 1:nrc) \n",
    "            r_eb[rt = 1:nrt, kk = 1:ndrto, jj = 1:ncp], Tdot[rt,kk,jj] == (T_in[rt,kk,jj] - T[rt,kk,jj])*Q[rt,kk]/V[rt] - sum(dH_pcp[rc]*k[rt,rc,kk,jj]*C[rc,rt,kk,jj] for rc in 1:nrc) - qcool[rt,kk,jj]/V[rt]\n",
    "            # mixer\n",
    "            m_mb[kk = 1:ndrto], 0 == Q[1,kk] + Qm[kk] - Q[2,kk]\n",
    "            m_cmb[co = 1:nc,kk = 1:ndrto,jj = 1:ncp], 0 == Q[1,kk]*C[co,1,kk,jj] + Qm[kk]*Cm_in[co] - Q[2,kk]*C_in[co,2,kk,jj]\n",
    "            m_eb[kk = 1:ndrto,jj = 1:ncp], 0 == Q[1,kk]*T[1,kk,jj] + Qm[kk]*Tm_in - Q[2,kk]*T_in[2,kk,jj]\n",
    "            # jacket\n",
    "            j_eb[rt = 1:nrt,kk = 1:ndrto,jj = 1:ncp], 0 == Qj_in[rt]*(Tj_out[rt,kk,jj] - Tj_in[rt]) - qcool[rt,kk,jj]\n",
    "            # objective function\n",
    "            JInteg[kk = 1:ndrto, jj = 1:ncp], Jdot[kk,jj] == 10*(Q[1,kk]*C_in[1,1,kk,jj] + Qm[kk]*Cm_in[1] - Q[2,kk]*(C[1,2,kk,jj] + C[3,2,kk,jj])) - 0.01*qcool[1,kk,jj] - qcool[2,kk,jj] - 0.1*Q[1,kk] - 0.1*Qm[kk]\n",
    "\n",
    "            #########################    \n",
    "            # Collocation Equations #    \n",
    "            #########################\n",
    "            # initial point\n",
    "            coll_C_0[co=1:nc, rt = 1:nrt], C[co,rt,1,1] == C_0[co,rt] \n",
    "            coll_T_0[rt = 1:nrt], T[rt,1,1] == T_0[rt]\n",
    "            coll_J_0, J[1,1] == 0 \n",
    "            \n",
    "            # set up collocation equations \n",
    "            coll_C_n[co = 1:nc, rt = 1:nrt, kk = 1:ndrto, jj = 2:ncp], sum(colmat[ii,jj]*C[co,rt,kk,ii] for ii in 1:ncp) - h*Cdot[co,rt,kk,jj] == 0 \n",
    "            coll_T_n[rt = 1:nrt, kk = 1:ndrto, jj = 2:ncp], sum(colmat[ii,jj]*T[rt,kk,ii] for ii in 1:ncp) - h*Tdot[rt,kk,jj] == 0\n",
    "            coll_J_n[kk = 1:ndrto, jj = 2:ncp], sum(colmat[ii,jj]*J[kk,ii] for ii in 1:ncp) - h*Jdot[kk,jj] == 0\n",
    "\n",
    "            # continuinity equations\n",
    "            coll_C_con[co = 1:nc, rt = 1:nrt, kk = 2:ndrto], C[co,rt,kk,1] - C[co,rt,kk - 1,ncp] == 0 \n",
    "            coll_T_con[rt = 1:nrt, kk = 2:ndrto], T[rt,kk,1] - T[rt,kk - 1,ncp] == 0\n",
    "            coll_J_con[kk = 2:ndrto], J[kk,1] - J[kk - 1,ncp] == 0\n",
    "    end)\n",
    "    \n",
    "    ##########################\n",
    "    # MPC model and solution #\n",
    "    ##########################\n",
    "    # N.B. inside MPC everything is in deviation variables\n",
    "    @expressions(model_sub, begin\n",
    "            # MPC1\n",
    "            cfT_c1_1, (mpc1['Ψ']*[xMPC[1,1];de[1,1]] .- (ysp[1,1] - yref[1]))'*mpc1['Q']*mpc1['Θ'] - (u_0[1] - uref[1])*mpc1['I']'*mpc1['R']*mpc1['M']\n",
    "            cfT_c1[kk=2:ndrto], (mpc1['Ψ']*[xMPC[1,kk];de[1,kk]] .- (ysp[1,kk] - yref[1]))'*mpc1['Q']*mpc1['Θ'] - uMPC[1,kk - 1,1]*mpc1['I']'*mpc1['R']*mpc1['M']\n",
    "            # Input bounds\n",
    "            MPC1_u_upper[kk = 1:ndrto,uu = 1:m], (uMax[1] - uref[1]) - uMPC[1,kk,uu]\n",
    "            MPC1_u_lower[kk = 1:ndrto,uu = 1:m], uMPC[1,kk,uu] - (uMin[1] - uref[1])\n",
    "            # MPC2\n",
    "            cfT_c2_1, (mpc2['Ψ']*[xMPC[2,1];de[2,1]] .- (ysp[2,1] - yref[2]))'*mpc2['Q']*mpc2['Θ'] - (u_0[2] - uref[2])*mpc2['I']'*mpc2['R']*mpc2['M']\n",
    "            cfT_c2[kk=2:ndrto], (mpc2['Ψ']*[xMPC[2,kk];de[2,kk]] .- (ysp[2,kk] - yref[2]))'*mpc2['Q']*mpc2['Θ'] - uMPC[2,kk - 1,1]*mpc2['I']'*mpc2['R']*mpc2['M']\n",
    "            # Input bounds\n",
    "            MPC2_u_upper[kk = 1:ndrto,uu = 1:m], (uMax[2] - uref[2]) - uMPC[2,kk,uu]\n",
    "            MPC2_u_lower[kk = 1:ndrto,uu = 1:m], uMPC[2,kk,uu] - (uMin[2] - uref[2])\n",
    "    end)\n",
    "\n",
    "    @constraints(model_sub, begin\n",
    "            #############\n",
    "            # MPC model #\n",
    "            #############\n",
    "            # MPC1\n",
    "            MPC1_dyn_model_1, xMPC[1,1] == mpc1['A']*xMPC_0[1] + mpc1['B']*(u_0[1] - uref[1])\n",
    "            MPC1_dyn_model[kk = 1:(ndrto - 1)], xMPC[1,kk + 1] == mpc1['A']*xMPC[1,kk] + mpc1['B']*uMPC[1,kk,1]\n",
    "            MPC1_model_dev[kk=1:ndrto], de[1,kk] == (T[1,kk,ncp] - yref[1]) - xMPC[1,kk]\n",
    "            # MPC12\n",
    "            MPC2_dyn_model_1, xMPC[2,1] == mpc2['A']*xMPC_0[2] + mpc2['B']*(u_0[2] - uref[2])\n",
    "            MPC2_dyn_model[kk = 1:(ndrto - 1)], xMPC[2,kk + 1] == mpc2['A']*xMPC[2,kk] + mpc2['B']*uMPC[2,kk,1]\n",
    "            MPC2_model_dev[kk=1:ndrto], de[2,kk] == (T[2,kk,ncp] - yref[2]) - xMPC[2,kk]\n",
    "            ################\n",
    "            # MPC solution #\n",
    "            ################\n",
    "            # MPC 1\n",
    "            # stationarity\n",
    "            MPC1_sol_sta_1, uMPC[1,1,:]'*mpc1['H'] + cfT_c1_1 +  mu_g[1,1,:]'*conMatrix .== 0\n",
    "            MPC1_sol_sta[kk=2:ndrto], uMPC[1,kk,:]'*mpc1['H'] + cfT_c1[kk] +  mu_g[1,kk,:]'*conMatrix .== 0\n",
    "            # primal feasibility\n",
    "            MPC1_sol_feas_ub[kk = 1:ndrto,uu = 1:m], MPC1_u_upper[kk,uu] ≥ 0\n",
    "            MPC1_sol_feas_lb[kk = 1:ndrto,uu = 1:m], MPC1_u_lower[kk,uu] ≥ 0\n",
    "            # dual feasibility (already defined above)\n",
    "            # complementarity constraint (defined below since it is nonlinear)\n",
    "            # MPC 2\n",
    "            # stationarity\n",
    "            MPC2_sol_sta_1, uMPC[2,1,:]'*mpc2['H'] + cfT_c2_1 +  mu_g[2,1,:]'*conMatrix .== 0\n",
    "            MPC2_sol_sta[kk=2:ndrto], uMPC[2,kk,:]'*mpc2['H'] + cfT_c2[kk] +  mu_g[2,kk,:]'*conMatrix .== 0\n",
    "            # primal feasibility\n",
    "            MPC2_sol_feas_ub[kk = 1:ndrto,uu = 1:m], MPC2_u_upper[kk,uu] ≥ 0\n",
    "            MPC2_sol_feas_lb[kk = 1:ndrto,uu = 1:m], MPC2_u_lower[kk,uu] ≥ 0\n",
    "            # dual feasibility (already defined above)\n",
    "            # complementarity constraint (defined below since it is nonlinear)      \n",
    "    end)\n",
    "    \n",
    "    @NLconstraints(model_sub, begin\n",
    "            # MPC 1 \n",
    "            # complementarity constraint\n",
    "            MPC1_sol_cc_ub[kk = 1:ndrto,uu = 1:m], mu_g[1,kk,uu]*MPC1_u_upper[kk,uu] ≤ epsCC[uu]\n",
    "            MPC1_sol_cc_lb[kk = 1:ndrto,uu = 1:m], mu_g[1,kk,m + uu]*MPC1_u_lower[kk,uu] ≤ epsCC[m + uu]    \n",
    "\n",
    "            # MPC 2\n",
    "            # complementarity constraint\n",
    "            MPC2_sol_cc_ub[kk = 1:ndrto,uu = 1:m], mu_g[2,kk,uu]*MPC2_u_upper[kk,uu] ≤ epsCC[uu]\n",
    "            MPC2_sol_cc_lb[kk = 1:ndrto,uu = 1:m], mu_g[2,kk,m + uu]*MPC2_u_lower[kk,uu] ≤ epsCC[m + uu] \n",
    "    end)\n",
    "    \n",
    "    @constraints(model_sub, begin   \n",
    "            #######################\n",
    "            # PROCESS CONSTRAINTS #\n",
    "            #######################\n",
    "            # ! Enforcing only at the end of the finite element\n",
    "            # safety restrictions\n",
    "            g1[rt = 1:nrt, kk = 1:ndrto], T[rt,kk,ncp] - Tr_max ≤ 0\n",
    "            # product specifications (Concentration of A in reactor 2)\n",
    "            g2[kk = 1:ndrto], C[1,2,kk,ncp] - cA2_max ≤ 0\n",
    "            # feed supply limitations\n",
    "            g3[kk = 1:ndrto], Q[1,kk] + Qm[kk] - Qf_max ≤ 0\n",
    "            # process limitations (others have been included when declaring variables): max cooling water outlet temperature\n",
    "            g4[rt = 1:nrt, kk = 1:ndrto], Tj_out[rt,kk,ncp] - Tj_max[rt] ≤ 0    \n",
    "            ############################\n",
    "            # OPTIMIZATION CONSTRAINTS #\n",
    "            ############################\n",
    "            # connecting the MPC solution to the DRTO model (only the first element of the MV* is implemented)\n",
    "            h1[kk = 1:ndrto], (uMPC[1,kk,1] + uref[1]) - Q[1,kk] == 0\n",
    "            h2[kk = 1:ndrto], (uMPC[2,kk,1] + uref[2]) - Qm[kk] == 0\n",
    "            ##################################\n",
    "            # NON-ANTICIPATIVITY CONSTRAINTS # <- fixed in master problem\n",
    "            ##################################\n",
    "            nonAnt_c1[kk=1:Δdrto], ysp[1,kk] - yspFixed[1,kk] == 0.0\n",
    "            nonAnt_c2[kk=1:Δdrto], ysp[2,kk] - yspFixed[2,kk] == 0.0\n",
    "            ##############    \n",
    "            # PARAMETERS #\n",
    "            ##############\n",
    "            p1[co = 1:nc,kk = 1:ndrto,jj = 1:ncp], C_in[co,1,kk,jj] - C1_in[co] == 0\n",
    "            p2[kk = 1:ndrto,jj = 1:ncp], T_in[1,kk,jj] - T1_in == 0\n",
    "        end)\n",
    "    \n",
    "    # Set up objective function  \n",
    "    @NLobjective(model_sub, Min, -pScen*J[ndrto,ncp])\n",
    "    \n",
    "    #################\n",
    "    # Solve Problem #\n",
    "    #################    \n",
    "    optimize!(model_sub)\n",
    "    \n",
    "    # solution time\n",
    "    timeSol = solve_time(model_sub)\n",
    "    \n",
    "    status = termination_status(model_sub)\n",
    "    #display(status)\n",
    "    \n",
    "    # checking if there is a solution to the problem\n",
    "    if status == MOI.ALMOST_LOCALLY_SOLVED || status == MOI.LOCALLY_SOLVED\n",
    "        # Proved optimality or Optimal within relaxed tolerances\n",
    "        # we add an optimality cut\n",
    "        flag = 1\n",
    "        # #primal_status(m)\n",
    "\n",
    "        #calling values of the solved problem\n",
    "        ϕ = objective_value(model_sub)\n",
    "        yspArray = value.(ysp)\n",
    "        CArray = value.(C)\n",
    "        TArray = value.(T)\n",
    "        TjArray = value.(Tj_out)\n",
    "        TinArray = value.(T_in)\n",
    "        QArray = value.(Q)\n",
    "        QmArray = value.(Qm)\n",
    "\n",
    "        muArray = value.(mu_g)\n",
    "        \n",
    "        # lagrange multipliers associated with the nonantecipativity constraints\n",
    "        λ1 = dual.(nonAnt_c1)\n",
    "        λ2 = dual.(nonAnt_c2)\n",
    "        \n",
    "        outputDict = Dict('ϕ' => ϕ,\n",
    "                        't' => timeSol,\n",
    "                        'f' => flag, \n",
    "                        'a' => status,\n",
    "                        's' => yspArray,\n",
    "                        'Q' => QArray,\n",
    "                        'M' => QmArray,\n",
    "                        'C' => CArray,\n",
    "                        'T' => TArray, \n",
    "                        'J' => TjArray,\n",
    "                        'I' => TinArray,\n",
    "                        'μ' => muArray,\n",
    "                        'λ' => λ1,\n",
    "                        'Λ' => λ2)\n",
    "        \n",
    "        return outputDict\n",
    "    else\n",
    "        #i.e. no feasible solution --> Add feasibility cut\n",
    "        #display(\"Feasibility cut: scenario $(scen)\")        \n",
    "        \n",
    "        # deleting input upper bounds\n",
    "        delete_upper_bound.(Q[1:nrt, 1:ndrto])\n",
    "        delete_upper_bound.(Qm[1:ndrto])\n",
    "        \n",
    "        # keep bounds and remove process contraints\n",
    "        delete.(model_sub, g1)\n",
    "        delete.(model_sub, g2)\n",
    "        delete.(model_sub, g3)\n",
    "        delete.(model_sub, g4)\n",
    "\n",
    "        unregister(model_sub, :g1)\n",
    "        unregister(model_sub, :g2)\n",
    "        unregister(model_sub, :g3)\n",
    "        unregister(model_sub, :g4)\n",
    "        \n",
    "        # remove relaxed complementarity constraints\n",
    "        delete.(model_sub, MPC1_sol_cc_ub)\n",
    "        delete.(model_sub, MPC1_sol_cc_lb)\n",
    "        delete.(model_sub, MPC2_sol_cc_ub)\n",
    "        delete.(model_sub, MPC2_sol_cc_lb)\n",
    "        \n",
    "        unregister(model_sub, :MPC1_sol_cc_ub)\n",
    "        unregister(model_sub, :MPC1_sol_cc_lb)\n",
    "        unregister(model_sub, :MPC2_sol_cc_ub)\n",
    "        unregister(model_sub, :MPC2_sol_cc_lb)\n",
    "        \n",
    "        ####################\n",
    "        # Set up variables #\n",
    "        #################### \n",
    "        # slacks\n",
    "        @variable(model_sub, delta_Q[1:nrt,1:ndrto] ≥ 0.0)\n",
    "        @variable(model_sub, delta_Qm[1:ndrto] ≥ 0.0)\n",
    "        \n",
    "        @variable(model_sub, delta_g1[1:nrt,1:ndrto] ≥ 0.0)\n",
    "        @variable(model_sub, delta_g2[1:ndrto] ≥ 0.0)\n",
    "        @variable(model_sub, delta_g3[1:ndrto] ≥ 0.0)\n",
    "        @variable(model_sub, delta_g4[1:nrt,1:ndrto] ≥ 0.0)\n",
    "        \n",
    "        @variable(model_sub, delta_c1_ccub[1:ndrto,1:m] ≥ 0.0)\n",
    "        @variable(model_sub, delta_c1_cclb[1:ndrto,1:m] ≥ 0.0)\n",
    "        \n",
    "        @variable(model_sub, delta_c2_ccub[1:ndrto,1:m] ≥ 0.0)\n",
    "        @variable(model_sub, delta_c2_cclb[1:ndrto,1:m] ≥ 0.0)\n",
    "        \n",
    "        ###########################\n",
    "        # Always-feasible problem #\n",
    "        ###########################\n",
    "        @constraint(model_sub, soft_Q[rt = 1:nrt, kk = 1:ndrto], Q[rt,kk] - Qf_max ≤ delta_Q[rt,kk])\n",
    "        @constraint(model_sub, soft_Qm[kk = 1:ndrto], Qm[kk] - Qf_max ≤ delta_Qm[kk])\n",
    "        \n",
    "        @constraint(model_sub, soft_g1[rt = 1:nrt, kk = 1:ndrto], T[rt,kk,ncp] - Tr_max ≤ delta_g1[rt,kk])\n",
    "        @constraint(model_sub, soft_g2[kk = 1:ndrto], C[1,2,kk,ncp] - cA2_max ≤ delta_g2[kk])\n",
    "        @constraint(model_sub, soft_g3[kk = 1:ndrto], Q[1,kk] + Qm[kk] - Qf_max ≤ delta_g3[kk])\n",
    "        @constraint(model_sub, soft_g4[rt = 1:nrt, kk = 1:ndrto], Tj_out[rt,kk,ncp] - Tj_max[rt] ≤ delta_g4[rt,kk])\n",
    "\n",
    "        # complementarity constraint\n",
    "        # MPC 1\n",
    "        @constraint(model_sub, MPC1_sol_cc_ub[kk = 1:ndrto,uu = 1:m], mu_g[1,kk,uu]*MPC1_u_upper[kk,uu] ≤ delta_c1_ccub[kk,uu])\n",
    "        @constraint(model_sub, MPC1_sol_cc_lb[kk = 1:ndrto,uu = 1:m], mu_g[1,kk,m + uu]*MPC1_u_lower[kk,uu] ≤ delta_c1_cclb[kk,uu])\n",
    "        # MPC 2\n",
    "        @constraint(model_sub, MPC2_sol_cc_ub[kk = 1:ndrto,uu = 1:m], mu_g[2,kk,uu]*MPC2_u_upper[kk,uu] ≤ delta_c2_ccub[kk,uu])\n",
    "        @constraint(model_sub, MPC2_sol_cc_lb[kk = 1:ndrto,uu = 1:m], mu_g[2,kk,m + uu]*MPC2_u_lower[kk,uu] ≤ delta_c2_cclb[kk,uu])\n",
    "        \n",
    "       #############################\n",
    "        # Set up objective function #\n",
    "        #############################\n",
    "        # Modifying the objective --> call @objective with the new objective function.\n",
    "        # minimizing constraint violation - l1 penalty!\n",
    "        @objective(model_sub, Min, \n",
    "            sum(delta_Qm[kk] + delta_g2[kk] + delta_g3[kk] + \n",
    "                sum(delta_Q[rt,kk] + delta_g1[rt,kk] + delta_g4[rt,kk] for rt in 1:nrt) + \n",
    "                sum(delta_c1_ccub[kk,uu] + delta_c1_cclb[kk,uu] + delta_c2_ccub[kk,uu] + delta_c2_cclb[kk,uu] for uu in 1:m)\n",
    "                for kk in 1:ndrto)\n",
    "            )\n",
    "        \n",
    "        #@show sub\n",
    "        # re-optimizing (now using the always feasible problem)\n",
    "        optimize!(model_sub)\n",
    "        \n",
    "        # objective function of the feasibility problem\n",
    "        o = objective_value(model_sub)\n",
    "\n",
    "        # solution time (adding time to solve the always feasible subproblem)\n",
    "        timeSol = solve_time(model_sub)\n",
    "        \n",
    "        # checking status of the solution\n",
    "        status_sub = termination_status(model_sub)\n",
    "        \n",
    "        # flag for calling feasibility cuts (not optimality cuts)\n",
    "        flag = 0\n",
    "        \n",
    "        #calling values of the solved problem\n",
    "        yspArray = value.(ysp)\n",
    "        QArray = value.(Q)\n",
    "        QmArray = value.(Qm)\n",
    "        CArray = value.(C)\n",
    "        TArray = value.(T)\n",
    "        TinArray = value.(T_in)\n",
    "        TjArray = value.(Tj_out)\n",
    "        muArray = value.(mu_g)\n",
    "        \n",
    "        #slacks\n",
    "#         dQ = value.(delta_Q)\n",
    "#         dQm = value.(delta_Qm)\n",
    "#         temp1 = sum(dQm[kk] + sum(dQ[rt,kk] for rt in 1:nrt) for kk in 1:ndrto)\n",
    "#         display(\"DB: Input slacks sum: $(temp1)\")\n",
    "#         dg1 = value.(delta_g1)\n",
    "#         dg2 = value.(delta_g2)\n",
    "#         dg3 = value.(delta_g3)\n",
    "#         dg4 = value.(delta_g4)\n",
    "#         temp2 = sum(dg2[kk] + dg3[kk] + sum(dg1[rt,kk] + dg4[rt,kk] for rt in 1:nrt) for kk in 1:ndrto)\n",
    "#         display(\"DB: Constraint slacks sum: $(temp2)\")\n",
    "        \n",
    "#         dc1_ub = value.(delta_c1_ccub)\n",
    "#         dc1_lb = value.(delta_c1_cclb)\n",
    "#         temp3 = sum(sum(dc1_ub[kk,uu] + dc1_lb[kk,uu] for uu in 1:m) for kk in 1:ndrto)\n",
    "#         display(\"DB: MPC1 slacks sum: $(temp3)\")\n",
    "        \n",
    "#         dc2_ub = value.(delta_c2_ccub)\n",
    "#         dc2_lb = value.(delta_c2_cclb)\n",
    "#         temp4 = sum(sum(dc2_ub[kk,uu] + dc2_lb[kk,uu] for uu in 1:m) for kk in 1:ndrto)\n",
    "#         display(\"DB: MPC2 slacks sum: $(temp4)\")\n",
    "        \n",
    "        # lagrange multipliers associated with the nonantecipativity constraints\n",
    "        λ1 = dual.(nonAnt_c1)\n",
    "        λ2 = dual.(nonAnt_c2)\n",
    "        \n",
    "        outputDict = Dict('ϕ' => o,\n",
    "                        't' => timeSol,\n",
    "                        'f' => flag, \n",
    "                        'a' => status_sub,\n",
    "                        's' => yspArray,\n",
    "                        'Q' => QArray,\n",
    "                        'M' => QmArray,\n",
    "                        'C' => CArray,\n",
    "                        'T' => TArray, \n",
    "                        'J' => TjArray,\n",
    "                        'I' => TinArray,\n",
    "                        'μ' => muArray,\n",
    "                        'λ' => λ1,\n",
    "                        'Λ' => λ2)\n",
    "        \n",
    "        return outputDict\n",
    "    end\n",
    "end;"
   ]
  },
  {
   "cell_type": "markdown",
   "id": "1690f637",
   "metadata": {},
   "source": [
    "- Modeling Master problem"
   ]
  },
  {
   "cell_type": "code",
   "execution_count": 14,
   "id": "21389f30",
   "metadata": {},
   "outputs": [],
   "source": [
    "## Modeling Benders Decompostion\n",
    "function BENS_CLDRTO(C_0,T_0,u_0,xMPC_0,UaTemp,ns,solNom)\n",
    "    ###########\n",
    "    # inputs: #(xInit,uInit,nReac,nScen,pScen,solNom,option)\n",
    "    ###########\n",
    "    # C_0, T_0 - concentration and temperature states at the current iteration (beginning of DRTO horizon)\n",
    "    # u_0 - current input implemented in the plant\n",
    "    # xMPC_0 - current MPC states\n",
    "    # UaTemp - vector containing all the values of the uncertain parameter (Ua[1]) and Ua[2]\n",
    "    # ns - number of scenarios\n",
    "    # solNom - nominal solution\n",
    "    \n",
    "    # Assuming equiprobable scenarios\n",
    "    pScen = 1.0/ns\n",
    "    \n",
    "    # flag for checking if last cut was opt. (1) or feas. (0)\n",
    "    flagO = 1\n",
    "    \n",
    "    # timing solution via Benders\n",
    "    timeSolBen = 0 \n",
    "    # timing solution via parallel Benders\n",
    "    timeSolParBen = 0 \n",
    "    \n",
    "    # Define master problem model\n",
    "    master = Model(Ipopt.Optimizer)\n",
    "    set_silent(master)\n",
    "    \n",
    "    #lower bound on scenario objective function approximation \n",
    "    alpha_down = -1060; # o_nom = -1020.9613426462117\n",
    "    \n",
    "    # defining temp solution to avoid loop's scope\n",
    "     ysp_nonⁱ = Matrix{Float64}(undef,2,Δdrto)\n",
    "    \n",
    "    ####################\n",
    "    # Set up variables #\n",
    "    ####################\n",
    "    # setpoints for the controllers sent to the plant\n",
    "    @variable(master, yspMin[nct] ≤ ysp[nct = 1:numpc,1:Δdrto] ≤ yspMax[nct])\n",
    "    @variable(master, α ≥ alpha_down)\n",
    "    \n",
    "    ################################################\n",
    "    # Solving problem with benders' decomposition  #\n",
    "    ################################################\n",
    "    for ii in 1:benIterMax\n",
    "        \n",
    "        ########################\n",
    "        # Set up initial guess #\n",
    "        ########################\n",
    "        if ii == 1 # use nominal solution\n",
    "            if solNom isa Dict\n",
    "                for kk in 1:Δdrto\n",
    "                    set_start_value(ysp[1,kk], solNom['s'][1,kk,1])\n",
    "                    set_start_value(ysp[2,kk], solNom['s'][2,kk,1])\n",
    "                end \n",
    "            end \n",
    "        else # use previous solution\n",
    "            for kk in 1:Δdrto\n",
    "                set_start_value(ysp[1,kk],  ysp_nonⁱ[1,kk])\n",
    "                set_start_value(ysp[2,kk],  ysp_nonⁱ[2,kk])\n",
    "            end \n",
    "        end\n",
    "           \n",
    "        #############################\n",
    "        # Set up objective function #\n",
    "        #############################\n",
    "        # \"nudge\" next solution towards nominal solution (working = 1e-4)\n",
    "        @objective(master, Min, α + 1e-4*sum(sum((ysp[nct,kk] - solNom['s'][nct,kk,1])^2 for nct = 1:numpc) for kk in 1:Δdrto))\n",
    "        \n",
    "        # solve master problem (with Benders' cut)\n",
    "        optimize!(master)\n",
    "\n",
    "        # solution time\n",
    "        timeSolMaster = solve_time(master)\n",
    "        # extracting solution for the non-anticipativity constraints\n",
    "        ysp_nonⁱ = value.(ysp) \n",
    "        \n",
    "        # Master problem solution: lower bound of the original problem\n",
    "        lb = value(α)\n",
    "        # = objective_value(master) - 0.0005*sum(sum((ysp_nonⁱ[nct,kk] - solNom['s'][nct,kk,1])^2 for nct = 1:numpc) for kk in 1:Δdrto)\n",
    "        \n",
    "        timeSolBen = timeSolBen + timeSolMaster\n",
    "        timeSolParBen = timeSolParBen + timeSolMaster # master cannot be paralellized \n",
    "\n",
    "        #######################\n",
    "        # Solving subproblems #\n",
    "        #######################\n",
    "        # objective function\n",
    "        o_temp = Vector{Float64}(undef,ns)\n",
    "        # flag optimality / feasibility\n",
    "        flag_temp = Vector{Float64}(undef,ns)\n",
    "        # solution time\n",
    "        solTime_temp = Vector{Float64}(undef,ns)\n",
    "        # multipliers\n",
    "        lambdaN_C1_temp = Matrix{Float64}(undef,Δdrto,ns) \n",
    "        lambdaN_C2_temp = Matrix{Float64}(undef,Δdrto,ns)\n",
    "        \n",
    "        for ss in 1:ns\n",
    "            dicTemp = subp(ysp_nonⁱ,C_0,T_0,u_0,xMPC_0,UaTemp[:,ss],pScen,solNom)\n",
    "\n",
    "            # saving files\n",
    "            # objective function\n",
    "            o_temp[ss] = dicTemp['ϕ']\n",
    "            # solution time\n",
    "            solTime_temp[ss] = dicTemp['t']\n",
    "            # optimality / feasibility flag\n",
    "            flag_temp[ss] = dicTemp['f']\n",
    "            # multiplier\n",
    "            for kk in 1:Δdrto\n",
    "                lambdaN_C1_temp[kk,ss] = dicTemp['λ'][kk]\n",
    "                lambdaN_C2_temp[kk,ss] = dicTemp['Λ'][kk]\n",
    "            end\n",
    "            \n",
    "        end\n",
    "        \n",
    "        ##########################################################\n",
    "        # If all subproblems were feasible, check optimality gap #\n",
    "        ##########################################################\n",
    "        if sum(flag_temp) == ns \n",
    "            # Subproblem solution: upper bound of the original problem\n",
    "            ub = sum(o_temp)\n",
    "\n",
    "            # solve subproblems to find the upper bound of the original problem solution \n",
    "            timeSolBen = timeSolBen + sum(solTime_temp)\n",
    "\n",
    "            # assuming that subproblem solution is parallelized\n",
    "            timeSolParBen = timeSolParBen + maximum(solTime_temp)   \n",
    "            \n",
    "            # compute optimality gap\n",
    "            gap = abs(ub - lb)/abs(ub)\n",
    "#            display(\"DB: opt. gap $(gap)\")\n",
    "\n",
    "            # check if optimality gap is small enough\n",
    "            # also, make sure last cut was an optimality cut due to change in OF \n",
    "            if gap < optGap && flagO == 1\n",
    "                global yspSol_dec = ysp_nonⁱ\n",
    "                global objFun_dec = ub\n",
    "                global optGap_dec = gap\n",
    "                global iter_dec = ii\n",
    "                global time_dec = timeSolBen\n",
    "                global time_max_dec = timeSolParBen\n",
    "                break\n",
    "            else # gap ≥ optGap \n",
    "                ##############################\n",
    "                # --> adding optimality cuts #\n",
    "                ##############################\n",
    "                display(\">>>>>> iteration $(ii):O\")\n",
    "                benderscutO = @constraint(master, α ≥ ub + \n",
    "                    sum(sum(lambdaN_C1_temp[jj,ss] for ss in 1:ns)*(ysp[1,jj] - ysp_nonⁱ[1,jj]) for jj in 1:Δdrto) +\n",
    "                    sum(sum(lambdaN_C2_temp[jj,ss] for ss in 1:ns)*(ysp[2,jj] - ysp_nonⁱ[2,jj]) for jj in 1:Δdrto)\n",
    "                )\n",
    "                #@info \"we are adding this bender optimality cut $(benderscutO)\"\n",
    "                \n",
    "                # optimality cut was add\n",
    "                flagO = 1\n",
    "            \n",
    "            end # if gap\n",
    "        else # sum(flag_temp) != nScen\n",
    "            ###############################\n",
    "            # --> adding feasibility cuts #\n",
    "            ###############################\n",
    "            display(\">>>>>> iteration $(ii):F\")\n",
    "            benderscutF = @constraint(master, 0 ≥\n",
    "                sum(sum(lambdaN_C1_temp[jj,ss] for ss in 1:ns)*(ysp[1,jj] - ysp_nonⁱ[1,jj]) for jj in 1:Δdrto) +\n",
    "                sum(sum(lambdaN_C2_temp[jj,ss] for ss in 1:ns)*(ysp[2,jj] - ysp_nonⁱ[2,jj]) for jj in 1:Δdrto)\n",
    "                )\n",
    "            #@info \"we are adding this bender feasibility cut $(benderscutF)\"\n",
    "            \n",
    "            # feasibility cut was add\n",
    "            flagO = 0\n",
    "            \n",
    "        end # if nScen\n",
    "        \n",
    "        # checking if number of iterations reached max \n",
    "        if ii < benIterMax\n",
    "            global yspSol_dec = [[NaN for kk=1:Δdrto] for rt=1:nrt]\n",
    "            global objFun_dec = NaN\n",
    "            global optGap_dec = NaN\n",
    "            global iter_dec = benIterMax\n",
    "            global time_dec = timeSolBen\n",
    "            global time_max_dec = timeSolParBen\n",
    "        end # if < benIterMax\n",
    "    end # if for benders iterations\n",
    "\n",
    "    #####################\n",
    "    # Extracting values #\n",
    "    #####################\n",
    "    if isnan(objFun_dec)\n",
    "        \n",
    "        outputFun = Dict('t' => timeSolBen,\n",
    "                         'ϕ' => objFun_dec,\n",
    "                         'τ' => time_max_dec, \n",
    "                         'i' => iter_dec,\n",
    "                         'd' => yspSol_dec,\n",
    "                         'g' => optGap_dec,\n",
    "                         'f' => 0)\n",
    "                        \n",
    "        \n",
    "        return outputFun\n",
    "        \n",
    "    else\n",
    "        QArray = Array{Float64}(undef,nrt,ndrto,ns)\n",
    "        QmArray = Matrix{Float64}(undef,ndrto,ns)\n",
    "        TArray = Array{Float64}(undef,nrt,ndrto,ncp,ns)\n",
    "        TjArray = Array{Float64}(undef,nrt,ndrto,ncp,ns)\n",
    "        yspArray = Array{Float64}(undef,numpc,ndrto,ns)\n",
    "\n",
    "        for ss in 1:ns\n",
    "            dicTemp = subp(yspSol_dec,C_0,T_0,u_0,xMPC_0,UaTemp[:,ss],pScen,solNom)\n",
    "\n",
    "            # saving files\n",
    "            QArray[:,:,ss] = dicTemp['Q']\n",
    "            QmArray[:,ss] = dicTemp['M']\n",
    "            TArray[:,:,:,ss] = dicTemp['T']\n",
    "            TjArray[:,:,:,ss] = dicTemp['J']\n",
    "            yspArray[:,:,ss] = dicTemp['s']\n",
    "        end\n",
    "\n",
    "        #calling values of the solved problem    \n",
    "        outputFun =  Dict('ϕ' => objFun_dec,\n",
    "                    't' => time_dec,\n",
    "                    'τ' => time_max_dec, \n",
    "                    'i' => iter_dec,\n",
    "                    'd' => yspSol_dec,\n",
    "                    'g' => optGap_dec,\n",
    "                    'Q' => QArray,\n",
    "                    'M' => QmArray,\n",
    "                    'T' => TArray, \n",
    "                    'J' => TjArray,\n",
    "                    's' => yspArray,\n",
    "                    'f' => 1)  \n",
    "        \n",
    "        return outputFun\n",
    "\n",
    "    end\n",
    "end;"
   ]
  },
  {
   "cell_type": "markdown",
   "id": "936e2232",
   "metadata": {},
   "source": [
    "<a id=\"subsec25\"></a>"
   ]
  },
  {
   "cell_type": "markdown",
   "id": "45f011c0",
   "metadata": {},
   "source": [
    "## Plant Model"
   ]
  },
  {
   "cell_type": "code",
   "execution_count": 15,
   "id": "8f95081a",
   "metadata": {},
   "outputs": [],
   "source": [
    "function twoCSTRS_dae!(dx, x, p, t)\n",
    "    CA1,CB1,CC1,T1,Tj1_out,CA2,CB2,CC2,T2,Tj2_out = x\n",
    "    Q1,Qm,UaPlant = p\n",
    "    \n",
    "    # reactor 1\n",
    "    dx[1] = (C1_in[1] - CA1)*Q1/V[1] - k0[1]*exp(-ER[1]/T1)*CA1 \n",
    "    dx[2] = (C1_in[2] - CB1)*Q1/V[1] + k0[1]*exp(-ER[1]/T1)*CA1 - k0[2]*exp(-ER[2]/T1)*CB1\n",
    "    dx[3] = (C1_in[3] - CC1)*Q1/V[1] + k0[2]*exp(-ER[2]/T1)*CB1\n",
    "    dx[4] = (T1_in - T1)*Q1/V[1] - dH_pcp[1]*k0[1]*exp(-ER[1]/T1)*CA1 - dH_pcp[2]*k0[2]*exp(-ER[2]/T1)*CB1 - UaPlant*(T1 - (0.5*(Tj1_out + Tj_in[1])))/V[1]\n",
    "    dx[5] = Qj_in[1]*(Tj1_out - Tj_in[1]) - UaPlant*(T1 - (0.5*(Tj1_out + Tj_in[1])))\n",
    "    # reactor 2\n",
    "    dx[6] = ((Q1*CA1 + Qm*Cm_in[1])/(Q1 + Qm) - CA2)*(Q1 + Qm)/V[2] - k0[1]*exp(-ER[1]/T2)*CA2 \n",
    "    dx[7] = ((Q1*CB1 + Qm*Cm_in[2])/(Q1 + Qm) - CB2)*(Q1 + Qm)/V[2] + k0[1]*exp(-ER[1]/T2)*CA2 - k0[2]*exp(-ER[2]/T2)*CB2 \n",
    "    dx[8] = ((Q1*CC1 + Qm*Cm_in[3])/(Q1 + Qm) - CC2)*(Q1 + Qm)/V[2] + k0[2]*exp(-ER[2]/T2)*CB2 \n",
    "    dx[9] = ((Q1*T1 + Qm*Tm_in)/(Q1 + Qm) - T2)*(Q1 + Qm)/V[2] - dH_pcp[1]*k0[1]*exp(-ER[1]/T2)*CA2 - dH_pcp[2]*k0[2]*exp(-ER[2]/T2)*CB2 - Ua[2]*(T2 - (0.5*(Tj2_out + Tj_in[2])))/V[2]\n",
    "    dx[10] = Qj_in[2]*(Tj2_out - Tj_in[2]) - Ua[2]*(T2 - (0.5*(Tj2_out + Tj_in[2])))\n",
    "    \n",
    "    nothing\n",
    "end\n",
    "\n",
    "# mass matrix to determine algebraic equations\n",
    "M = [1. 0 0 0 0 0 0 0 0 0;\n",
    "     0 1. 0 0 0 0 0 0 0 0;\n",
    "     0 0 1. 0 0 0 0 0 0 0;\n",
    "     0 0 0 1. 0 0 0 0 0 0;\n",
    "     0 0 0 0 0 0 0 0 0 0;\n",
    "     0 0 0 0 0 1. 0 0 0 0;\n",
    "     0 0 0 0 0 0 1. 0 0 0;\n",
    "     0 0 0 0 0 0 0 1. 0 0;\n",
    "     0 0 0 0 0 0 0 0 1. 0;\n",
    "     0 0 0 0 0 0 0 0 0 0]\n",
    "\n",
    "ode_fun_mm = ODEFunction(twoCSTRS_dae!,mass_matrix=M);"
   ]
  },
  {
   "cell_type": "markdown",
   "id": "764a6337",
   "metadata": {},
   "source": [
    "<a id=\"sec3\"></a>"
   ]
  },
  {
   "cell_type": "markdown",
   "id": "7dbb9c4b",
   "metadata": {},
   "source": [
    "# Implementing CL-DRTO in closed loop with the plant\n",
    "\n",
    "Here we run a Monte Carlo Analysis of the CL-DRTO results. The uncertain parameter value is drawn at each MC iteration and the DRTO has access to the lower and upper bound of that distribution to create the scenarios. "
   ]
  },
  {
   "cell_type": "markdown",
   "id": "b5c4412f",
   "metadata": {},
   "source": [
    "Getting the solution for the nominal scenario"
   ]
  },
  {
   "cell_type": "code",
   "execution_count": 16,
   "id": "4697c3ee",
   "metadata": {},
   "outputs": [],
   "source": [
    "# building MPC's\n",
    "# reactor 1 MPC: T1 <-> Q1\n",
    "mpc1 = MPC_matrices(a1_hat,b1_hat,1,p,m,q,r[1])\n",
    "# reactor 2 MPC: T2 <-> Qm\n",
    "mpc2 = MPC_matrices(a2_hat,b2_hat,1,p,m,q,r[2]);"
   ]
  },
  {
   "cell_type": "code",
   "execution_count": 17,
   "id": "a5cd27ad",
   "metadata": {},
   "outputs": [],
   "source": [
    "# Monte Carlo iterations\n",
    "n_MC = 2\n",
    "\n",
    "# Simulation time in sampling periods\n",
    "nsim = 40\n",
    "\n",
    "# number of scenarios\n",
    "nS_MC = 3 \n",
    "\n",
    "# creating uncertain parameter array\n",
    "pTemp = LinRange(pNom - deltaPar,pNom + deltaPar, nS_MC)\n",
    "pUnc = [pTemp'; Ua[2]*ones(1,nS_MC)]\n",
    "\n",
    "#equiprobable scenarios\n",
    "pS_MC = 1.0/nS_MC\n",
    "\n",
    "# Extracting solution for plotting --> monolithic vs. decomposed \n",
    "TrPlant = Array{Float64}(undef,nrt,nsim,n_MC,2)\n",
    "TjPlant = Array{Float64}(undef,nrt,nsim,n_MC,2)\n",
    "QPlant = Array{Float64}(undef,nsim,n_MC,2)\n",
    "QmPlant = Array{Float64}(undef,nsim,n_MC,2)\n",
    "yspPlant = Array{Float64}(undef,nrt,nsim,n_MC,2)\n",
    "flagCLDRTO = Array{Float64}(undef,nsim,n_MC,2);"
   ]
  },
  {
   "cell_type": "markdown",
   "id": "7b8caf7d",
   "metadata": {},
   "source": [
    "## Plant simulation"
   ]
  },
  {
   "cell_type": "code",
   "execution_count": 28,
   "id": "25278aaa",
   "metadata": {},
   "outputs": [
    {
     "name": "stdout",
     "output_type": "stream",
     "text": [
      "MC: 1>> Time: 1\n"
     ]
    },
    {
     "data": {
      "text/plain": [
       "\"Solution found\""
      ]
     },
     "metadata": {},
     "output_type": "display_data"
    },
    {
     "name": "stdout",
     "output_type": "stream",
     "text": [
      "MC: 1>> Time: 2\n",
      "MC: 1>> Time: 3\n",
      "MC: 1>> Time: 4\n"
     ]
    },
    {
     "data": {
      "text/plain": [
       "\"Solution found\""
      ]
     },
     "metadata": {},
     "output_type": "display_data"
    },
    {
     "name": "stdout",
     "output_type": "stream",
     "text": [
      "MC: 1>> Time: 5\n",
      "MC: 1>> Time: 6\n",
      "MC: 1>> Time: 7\n",
      "MC: 1>> Time: 8\n"
     ]
    },
    {
     "data": {
      "text/plain": [
       "\"Solution not found\""
      ]
     },
     "metadata": {},
     "output_type": "display_data"
    },
    {
     "name": "stdout",
     "output_type": "stream",
     "text": [
      "MC: 1>> Time: 9\n",
      "MC: 1>> Time: 10\n",
      "MC: 1>> Time: 11\n",
      "MC: 1>> Time: 12\n"
     ]
    },
    {
     "data": {
      "text/plain": [
       "\"Solution found\""
      ]
     },
     "metadata": {},
     "output_type": "display_data"
    },
    {
     "name": "stdout",
     "output_type": "stream",
     "text": [
      "MC: 1>> Time: 13\n",
      "MC: 1>> Time: 14\n",
      "MC: 1>> Time: 15\n",
      "MC: 1>> Time: 16\n"
     ]
    },
    {
     "data": {
      "text/plain": [
       "\"Solution found\""
      ]
     },
     "metadata": {},
     "output_type": "display_data"
    },
    {
     "name": "stdout",
     "output_type": "stream",
     "text": [
      "MC: 1>> Time: 17\n",
      "MC: 1>> Time: 18\n",
      "MC: 1>> Time: 19\n",
      "MC: 1>> Time: 20\n"
     ]
    },
    {
     "data": {
      "text/plain": [
       "\"Solution found\""
      ]
     },
     "metadata": {},
     "output_type": "display_data"
    },
    {
     "name": "stdout",
     "output_type": "stream",
     "text": [
      "MC: 1>> Time: 21\n",
      "MC: 1>> Time: 22\n",
      "MC: 1>> Time: 23\n",
      "MC: 1>> Time: 24\n"
     ]
    },
    {
     "data": {
      "text/plain": [
       "\"Solution found\""
      ]
     },
     "metadata": {},
     "output_type": "display_data"
    },
    {
     "name": "stdout",
     "output_type": "stream",
     "text": [
      "MC: 1>> Time: 25\n",
      "MC: 1>> Time: 26\n",
      "MC: 1>> Time: 27\n",
      "MC: 1>> Time: 28\n"
     ]
    },
    {
     "data": {
      "text/plain": [
       "\"Solution found\""
      ]
     },
     "metadata": {},
     "output_type": "display_data"
    },
    {
     "name": "stdout",
     "output_type": "stream",
     "text": [
      "MC: 1>> Time: 29\n",
      "MC: 1>> Time: 30\n",
      "MC: 1>> Time: 31\n",
      "MC: 1>> Time: 32\n"
     ]
    },
    {
     "data": {
      "text/plain": [
       "\"Solution found\""
      ]
     },
     "metadata": {},
     "output_type": "display_data"
    },
    {
     "name": "stdout",
     "output_type": "stream",
     "text": [
      "MC: 1>> Time: 33\n",
      "MC: 1>> Time: 34\n",
      "MC: 1>> Time: 35\n",
      "MC: 1>> Time: 36\n"
     ]
    },
    {
     "data": {
      "text/plain": [
       "\"Solution found\""
      ]
     },
     "metadata": {},
     "output_type": "display_data"
    },
    {
     "name": "stdout",
     "output_type": "stream",
     "text": [
      "MC: 1>> Time: 37\n",
      "MC: 1>> Time: 38\n",
      "MC: 1>> Time: 39\n",
      "MC: 1>> Time: 40\n"
     ]
    },
    {
     "data": {
      "text/plain": [
       "\"Solution found\""
      ]
     },
     "metadata": {},
     "output_type": "display_data"
    },
    {
     "name": "stdout",
     "output_type": "stream",
     "text": [
      "MC: 1>> Time: 1\n"
     ]
    },
    {
     "data": {
      "text/plain": [
       "\"Solution found\""
      ]
     },
     "metadata": {},
     "output_type": "display_data"
    },
    {
     "name": "stdout",
     "output_type": "stream",
     "text": [
      "MC: 1>> Time: 2\n",
      "MC: 1>> Time: 3\n",
      "MC: 1>> Time: 4\n"
     ]
    },
    {
     "data": {
      "text/plain": [
       "\">>>>>> iteration 1:O\""
      ]
     },
     "metadata": {},
     "output_type": "display_data"
    },
    {
     "data": {
      "text/plain": [
       "\">>>>>> iteration 2:F\""
      ]
     },
     "metadata": {},
     "output_type": "display_data"
    },
    {
     "data": {
      "text/plain": [
       "\">>>>>> iteration 3:F\""
      ]
     },
     "metadata": {},
     "output_type": "display_data"
    },
    {
     "data": {
      "text/plain": [
       "\">>>>>> iteration 4:F\""
      ]
     },
     "metadata": {},
     "output_type": "display_data"
    },
    {
     "data": {
      "text/plain": [
       "\">>>>>> iteration 5:F\""
      ]
     },
     "metadata": {},
     "output_type": "display_data"
    },
    {
     "data": {
      "text/plain": [
       "\">>>>>> iteration 6:F\""
      ]
     },
     "metadata": {},
     "output_type": "display_data"
    },
    {
     "data": {
      "text/plain": [
       "\">>>>>> iteration 7:F\""
      ]
     },
     "metadata": {},
     "output_type": "display_data"
    },
    {
     "data": {
      "text/plain": [
       "\">>>>>> iteration 8:F\""
      ]
     },
     "metadata": {},
     "output_type": "display_data"
    },
    {
     "data": {
      "text/plain": [
       "\">>>>>> iteration 9:F\""
      ]
     },
     "metadata": {},
     "output_type": "display_data"
    },
    {
     "data": {
      "text/plain": [
       "\">>>>>> iteration 10:F\""
      ]
     },
     "metadata": {},
     "output_type": "display_data"
    },
    {
     "data": {
      "text/plain": [
       "\">>>>>> iteration 11:F\""
      ]
     },
     "metadata": {},
     "output_type": "display_data"
    },
    {
     "data": {
      "text/plain": [
       "\">>>>>> iteration 12:F\""
      ]
     },
     "metadata": {},
     "output_type": "display_data"
    },
    {
     "data": {
      "text/plain": [
       "\">>>>>> iteration 13:F\""
      ]
     },
     "metadata": {},
     "output_type": "display_data"
    },
    {
     "data": {
      "text/plain": [
       "\">>>>>> iteration 14:F\""
      ]
     },
     "metadata": {},
     "output_type": "display_data"
    },
    {
     "data": {
      "text/plain": [
       "\">>>>>> iteration 15:F\""
      ]
     },
     "metadata": {},
     "output_type": "display_data"
    },
    {
     "data": {
      "text/plain": [
       "\">>>>>> iteration 16:F\""
      ]
     },
     "metadata": {},
     "output_type": "display_data"
    },
    {
     "data": {
      "text/plain": [
       "\">>>>>> iteration 17:F\""
      ]
     },
     "metadata": {},
     "output_type": "display_data"
    },
    {
     "data": {
      "text/plain": [
       "\">>>>>> iteration 18:F\""
      ]
     },
     "metadata": {},
     "output_type": "display_data"
    },
    {
     "data": {
      "text/plain": [
       "\">>>>>> iteration 19:F\""
      ]
     },
     "metadata": {},
     "output_type": "display_data"
    },
    {
     "data": {
      "text/plain": [
       "\">>>>>> iteration 20:F\""
      ]
     },
     "metadata": {},
     "output_type": "display_data"
    },
    {
     "data": {
      "text/plain": [
       "\">>>>>> iteration 21:F\""
      ]
     },
     "metadata": {},
     "output_type": "display_data"
    },
    {
     "data": {
      "text/plain": [
       "\">>>>>> iteration 22:F\""
      ]
     },
     "metadata": {},
     "output_type": "display_data"
    },
    {
     "data": {
      "text/plain": [
       "\">>>>>> iteration 23:F\""
      ]
     },
     "metadata": {},
     "output_type": "display_data"
    },
    {
     "data": {
      "text/plain": [
       "\">>>>>> iteration 24:F\""
      ]
     },
     "metadata": {},
     "output_type": "display_data"
    },
    {
     "data": {
      "text/plain": [
       "\">>>>>> iteration 25:F\""
      ]
     },
     "metadata": {},
     "output_type": "display_data"
    },
    {
     "data": {
      "text/plain": [
       "\">>>>>> iteration 26:F\""
      ]
     },
     "metadata": {},
     "output_type": "display_data"
    },
    {
     "data": {
      "text/plain": [
       "\">>>>>> iteration 27:F\""
      ]
     },
     "metadata": {},
     "output_type": "display_data"
    },
    {
     "data": {
      "text/plain": [
       "\">>>>>> iteration 28:F\""
      ]
     },
     "metadata": {},
     "output_type": "display_data"
    },
    {
     "data": {
      "text/plain": [
       "\">>>>>> iteration 29:F\""
      ]
     },
     "metadata": {},
     "output_type": "display_data"
    },
    {
     "data": {
      "text/plain": [
       "\">>>>>> iteration 30:F\""
      ]
     },
     "metadata": {},
     "output_type": "display_data"
    },
    {
     "data": {
      "text/plain": [
       "\">>>>>> iteration 31:F\""
      ]
     },
     "metadata": {},
     "output_type": "display_data"
    },
    {
     "data": {
      "text/plain": [
       "\">>>>>> iteration 32:F\""
      ]
     },
     "metadata": {},
     "output_type": "display_data"
    },
    {
     "data": {
      "text/plain": [
       "\">>>>>> iteration 33:F\""
      ]
     },
     "metadata": {},
     "output_type": "display_data"
    },
    {
     "data": {
      "text/plain": [
       "\">>>>>> iteration 34:F\""
      ]
     },
     "metadata": {},
     "output_type": "display_data"
    },
    {
     "data": {
      "text/plain": [
       "\">>>>>> iteration 35:F\""
      ]
     },
     "metadata": {},
     "output_type": "display_data"
    },
    {
     "data": {
      "text/plain": [
       "\">>>>>> iteration 36:F\""
      ]
     },
     "metadata": {},
     "output_type": "display_data"
    },
    {
     "data": {
      "text/plain": [
       "\">>>>>> iteration 37:F\""
      ]
     },
     "metadata": {},
     "output_type": "display_data"
    },
    {
     "data": {
      "text/plain": [
       "\">>>>>> iteration 38:F\""
      ]
     },
     "metadata": {},
     "output_type": "display_data"
    },
    {
     "data": {
      "text/plain": [
       "\">>>>>> iteration 39:F\""
      ]
     },
     "metadata": {},
     "output_type": "display_data"
    },
    {
     "data": {
      "text/plain": [
       "\">>>>>> iteration 40:F\""
      ]
     },
     "metadata": {},
     "output_type": "display_data"
    },
    {
     "data": {
      "text/plain": [
       "\">>>>>> iteration 41:F\""
      ]
     },
     "metadata": {},
     "output_type": "display_data"
    },
    {
     "data": {
      "text/plain": [
       "\">>>>>> iteration 42:F\""
      ]
     },
     "metadata": {},
     "output_type": "display_data"
    },
    {
     "data": {
      "text/plain": [
       "\">>>>>> iteration 43:F\""
      ]
     },
     "metadata": {},
     "output_type": "display_data"
    },
    {
     "data": {
      "text/plain": [
       "\">>>>>> iteration 44:F\""
      ]
     },
     "metadata": {},
     "output_type": "display_data"
    },
    {
     "data": {
      "text/plain": [
       "\">>>>>> iteration 45:F\""
      ]
     },
     "metadata": {},
     "output_type": "display_data"
    },
    {
     "data": {
      "text/plain": [
       "\">>>>>> iteration 46:F\""
      ]
     },
     "metadata": {},
     "output_type": "display_data"
    },
    {
     "data": {
      "text/plain": [
       "\">>>>>> iteration 47:F\""
      ]
     },
     "metadata": {},
     "output_type": "display_data"
    },
    {
     "data": {
      "text/plain": [
       "\">>>>>> iteration 48:F\""
      ]
     },
     "metadata": {},
     "output_type": "display_data"
    },
    {
     "data": {
      "text/plain": [
       "\">>>>>> iteration 49:F\""
      ]
     },
     "metadata": {},
     "output_type": "display_data"
    },
    {
     "data": {
      "text/plain": [
       "\">>>>>> iteration 50:F\""
      ]
     },
     "metadata": {},
     "output_type": "display_data"
    },
    {
     "data": {
      "text/plain": [
       "\"Solution not found\""
      ]
     },
     "metadata": {},
     "output_type": "display_data"
    },
    {
     "name": "stdout",
     "output_type": "stream",
     "text": [
      "MC: 1>> Time: 5\n",
      "MC: 1>> Time: 6\n",
      "MC: 1>> Time: 7\n",
      "MC: 1>> Time: 8\n"
     ]
    },
    {
     "data": {
      "text/plain": [
       "\">>>>>> iteration 1:F\""
      ]
     },
     "metadata": {},
     "output_type": "display_data"
    },
    {
     "data": {
      "text/plain": [
       "\">>>>>> iteration 2:F\""
      ]
     },
     "metadata": {},
     "output_type": "display_data"
    },
    {
     "data": {
      "text/plain": [
       "\">>>>>> iteration 3:F\""
      ]
     },
     "metadata": {},
     "output_type": "display_data"
    },
    {
     "data": {
      "text/plain": [
       "\">>>>>> iteration 4:F\""
      ]
     },
     "metadata": {},
     "output_type": "display_data"
    },
    {
     "data": {
      "text/plain": [
       "\">>>>>> iteration 5:F\""
      ]
     },
     "metadata": {},
     "output_type": "display_data"
    },
    {
     "data": {
      "text/plain": [
       "\">>>>>> iteration 6:F\""
      ]
     },
     "metadata": {},
     "output_type": "display_data"
    },
    {
     "data": {
      "text/plain": [
       "\">>>>>> iteration 7:F\""
      ]
     },
     "metadata": {},
     "output_type": "display_data"
    },
    {
     "data": {
      "text/plain": [
       "\">>>>>> iteration 8:F\""
      ]
     },
     "metadata": {},
     "output_type": "display_data"
    },
    {
     "data": {
      "text/plain": [
       "\">>>>>> iteration 9:F\""
      ]
     },
     "metadata": {},
     "output_type": "display_data"
    },
    {
     "data": {
      "text/plain": [
       "\">>>>>> iteration 10:F\""
      ]
     },
     "metadata": {},
     "output_type": "display_data"
    },
    {
     "data": {
      "text/plain": [
       "\">>>>>> iteration 11:F\""
      ]
     },
     "metadata": {},
     "output_type": "display_data"
    },
    {
     "data": {
      "text/plain": [
       "\">>>>>> iteration 12:F\""
      ]
     },
     "metadata": {},
     "output_type": "display_data"
    },
    {
     "data": {
      "text/plain": [
       "\">>>>>> iteration 13:F\""
      ]
     },
     "metadata": {},
     "output_type": "display_data"
    },
    {
     "data": {
      "text/plain": [
       "\">>>>>> iteration 14:F\""
      ]
     },
     "metadata": {},
     "output_type": "display_data"
    },
    {
     "data": {
      "text/plain": [
       "\">>>>>> iteration 15:F\""
      ]
     },
     "metadata": {},
     "output_type": "display_data"
    },
    {
     "data": {
      "text/plain": [
       "\">>>>>> iteration 16:F\""
      ]
     },
     "metadata": {},
     "output_type": "display_data"
    },
    {
     "data": {
      "text/plain": [
       "\">>>>>> iteration 17:F\""
      ]
     },
     "metadata": {},
     "output_type": "display_data"
    },
    {
     "data": {
      "text/plain": [
       "\">>>>>> iteration 18:F\""
      ]
     },
     "metadata": {},
     "output_type": "display_data"
    },
    {
     "data": {
      "text/plain": [
       "\">>>>>> iteration 19:F\""
      ]
     },
     "metadata": {},
     "output_type": "display_data"
    },
    {
     "data": {
      "text/plain": [
       "\">>>>>> iteration 20:F\""
      ]
     },
     "metadata": {},
     "output_type": "display_data"
    },
    {
     "data": {
      "text/plain": [
       "\">>>>>> iteration 21:F\""
      ]
     },
     "metadata": {},
     "output_type": "display_data"
    },
    {
     "data": {
      "text/plain": [
       "\">>>>>> iteration 22:F\""
      ]
     },
     "metadata": {},
     "output_type": "display_data"
    },
    {
     "data": {
      "text/plain": [
       "\">>>>>> iteration 23:F\""
      ]
     },
     "metadata": {},
     "output_type": "display_data"
    },
    {
     "data": {
      "text/plain": [
       "\">>>>>> iteration 24:F\""
      ]
     },
     "metadata": {},
     "output_type": "display_data"
    },
    {
     "data": {
      "text/plain": [
       "\">>>>>> iteration 25:F\""
      ]
     },
     "metadata": {},
     "output_type": "display_data"
    },
    {
     "data": {
      "text/plain": [
       "\">>>>>> iteration 26:F\""
      ]
     },
     "metadata": {},
     "output_type": "display_data"
    },
    {
     "data": {
      "text/plain": [
       "\">>>>>> iteration 27:F\""
      ]
     },
     "metadata": {},
     "output_type": "display_data"
    },
    {
     "data": {
      "text/plain": [
       "\">>>>>> iteration 28:F\""
      ]
     },
     "metadata": {},
     "output_type": "display_data"
    },
    {
     "data": {
      "text/plain": [
       "\">>>>>> iteration 29:F\""
      ]
     },
     "metadata": {},
     "output_type": "display_data"
    },
    {
     "data": {
      "text/plain": [
       "\">>>>>> iteration 30:F\""
      ]
     },
     "metadata": {},
     "output_type": "display_data"
    },
    {
     "data": {
      "text/plain": [
       "\">>>>>> iteration 31:F\""
      ]
     },
     "metadata": {},
     "output_type": "display_data"
    },
    {
     "data": {
      "text/plain": [
       "\">>>>>> iteration 32:F\""
      ]
     },
     "metadata": {},
     "output_type": "display_data"
    },
    {
     "data": {
      "text/plain": [
       "\">>>>>> iteration 33:F\""
      ]
     },
     "metadata": {},
     "output_type": "display_data"
    },
    {
     "data": {
      "text/plain": [
       "\">>>>>> iteration 34:F\""
      ]
     },
     "metadata": {},
     "output_type": "display_data"
    },
    {
     "data": {
      "text/plain": [
       "\">>>>>> iteration 35:F\""
      ]
     },
     "metadata": {},
     "output_type": "display_data"
    },
    {
     "data": {
      "text/plain": [
       "\">>>>>> iteration 36:F\""
      ]
     },
     "metadata": {},
     "output_type": "display_data"
    },
    {
     "data": {
      "text/plain": [
       "\">>>>>> iteration 37:F\""
      ]
     },
     "metadata": {},
     "output_type": "display_data"
    },
    {
     "data": {
      "text/plain": [
       "\">>>>>> iteration 38:F\""
      ]
     },
     "metadata": {},
     "output_type": "display_data"
    },
    {
     "data": {
      "text/plain": [
       "\">>>>>> iteration 39:F\""
      ]
     },
     "metadata": {},
     "output_type": "display_data"
    },
    {
     "data": {
      "text/plain": [
       "\">>>>>> iteration 40:F\""
      ]
     },
     "metadata": {},
     "output_type": "display_data"
    },
    {
     "data": {
      "text/plain": [
       "\">>>>>> iteration 41:F\""
      ]
     },
     "metadata": {},
     "output_type": "display_data"
    },
    {
     "data": {
      "text/plain": [
       "\">>>>>> iteration 42:F\""
      ]
     },
     "metadata": {},
     "output_type": "display_data"
    },
    {
     "data": {
      "text/plain": [
       "\">>>>>> iteration 43:F\""
      ]
     },
     "metadata": {},
     "output_type": "display_data"
    },
    {
     "data": {
      "text/plain": [
       "\">>>>>> iteration 44:F\""
      ]
     },
     "metadata": {},
     "output_type": "display_data"
    },
    {
     "data": {
      "text/plain": [
       "\">>>>>> iteration 45:F\""
      ]
     },
     "metadata": {},
     "output_type": "display_data"
    },
    {
     "data": {
      "text/plain": [
       "\">>>>>> iteration 46:F\""
      ]
     },
     "metadata": {},
     "output_type": "display_data"
    },
    {
     "data": {
      "text/plain": [
       "\">>>>>> iteration 47:F\""
      ]
     },
     "metadata": {},
     "output_type": "display_data"
    },
    {
     "data": {
      "text/plain": [
       "\">>>>>> iteration 48:F\""
      ]
     },
     "metadata": {},
     "output_type": "display_data"
    },
    {
     "data": {
      "text/plain": [
       "\">>>>>> iteration 49:F\""
      ]
     },
     "metadata": {},
     "output_type": "display_data"
    },
    {
     "data": {
      "text/plain": [
       "\">>>>>> iteration 50:F\""
      ]
     },
     "metadata": {},
     "output_type": "display_data"
    },
    {
     "data": {
      "text/plain": [
       "\"Solution not found\""
      ]
     },
     "metadata": {},
     "output_type": "display_data"
    },
    {
     "name": "stdout",
     "output_type": "stream",
     "text": [
      "MC: 1>> Time: 9\n",
      "MC: 1>> Time: 10\n",
      "MC: 1>> Time: 11\n",
      "MC: 1>> Time: 12\n"
     ]
    },
    {
     "data": {
      "text/plain": [
       "\">>>>>> iteration 1:O\""
      ]
     },
     "metadata": {},
     "output_type": "display_data"
    },
    {
     "data": {
      "text/plain": [
       "\"Solution found\""
      ]
     },
     "metadata": {},
     "output_type": "display_data"
    },
    {
     "name": "stdout",
     "output_type": "stream",
     "text": [
      "MC: 1>> Time: 13\n",
      "MC: 1>> Time: 14\n",
      "MC: 1>> Time: 15\n",
      "MC: 1>> Time: 16\n"
     ]
    },
    {
     "data": {
      "text/plain": [
       "\">>>>>> iteration 1:O\""
      ]
     },
     "metadata": {},
     "output_type": "display_data"
    },
    {
     "data": {
      "text/plain": [
       "\">>>>>> iteration 2:F\""
      ]
     },
     "metadata": {},
     "output_type": "display_data"
    },
    {
     "data": {
      "text/plain": [
       "\">>>>>> iteration 3:F\""
      ]
     },
     "metadata": {},
     "output_type": "display_data"
    },
    {
     "data": {
      "text/plain": [
       "\">>>>>> iteration 4:F\""
      ]
     },
     "metadata": {},
     "output_type": "display_data"
    },
    {
     "data": {
      "text/plain": [
       "\">>>>>> iteration 5:F\""
      ]
     },
     "metadata": {},
     "output_type": "display_data"
    },
    {
     "data": {
      "text/plain": [
       "\">>>>>> iteration 6:F\""
      ]
     },
     "metadata": {},
     "output_type": "display_data"
    },
    {
     "data": {
      "text/plain": [
       "\">>>>>> iteration 7:F\""
      ]
     },
     "metadata": {},
     "output_type": "display_data"
    },
    {
     "data": {
      "text/plain": [
       "\">>>>>> iteration 8:F\""
      ]
     },
     "metadata": {},
     "output_type": "display_data"
    },
    {
     "data": {
      "text/plain": [
       "\">>>>>> iteration 9:F\""
      ]
     },
     "metadata": {},
     "output_type": "display_data"
    },
    {
     "data": {
      "text/plain": [
       "\">>>>>> iteration 10:F\""
      ]
     },
     "metadata": {},
     "output_type": "display_data"
    },
    {
     "data": {
      "text/plain": [
       "\">>>>>> iteration 11:F\""
      ]
     },
     "metadata": {},
     "output_type": "display_data"
    },
    {
     "data": {
      "text/plain": [
       "\">>>>>> iteration 12:F\""
      ]
     },
     "metadata": {},
     "output_type": "display_data"
    },
    {
     "data": {
      "text/plain": [
       "\">>>>>> iteration 13:F\""
      ]
     },
     "metadata": {},
     "output_type": "display_data"
    },
    {
     "data": {
      "text/plain": [
       "\">>>>>> iteration 14:F\""
      ]
     },
     "metadata": {},
     "output_type": "display_data"
    },
    {
     "data": {
      "text/plain": [
       "\">>>>>> iteration 15:F\""
      ]
     },
     "metadata": {},
     "output_type": "display_data"
    },
    {
     "data": {
      "text/plain": [
       "\">>>>>> iteration 16:F\""
      ]
     },
     "metadata": {},
     "output_type": "display_data"
    },
    {
     "data": {
      "text/plain": [
       "\">>>>>> iteration 17:F\""
      ]
     },
     "metadata": {},
     "output_type": "display_data"
    },
    {
     "data": {
      "text/plain": [
       "\">>>>>> iteration 18:F\""
      ]
     },
     "metadata": {},
     "output_type": "display_data"
    },
    {
     "data": {
      "text/plain": [
       "\">>>>>> iteration 19:F\""
      ]
     },
     "metadata": {},
     "output_type": "display_data"
    },
    {
     "data": {
      "text/plain": [
       "\">>>>>> iteration 20:F\""
      ]
     },
     "metadata": {},
     "output_type": "display_data"
    },
    {
     "data": {
      "text/plain": [
       "\">>>>>> iteration 21:F\""
      ]
     },
     "metadata": {},
     "output_type": "display_data"
    },
    {
     "data": {
      "text/plain": [
       "\">>>>>> iteration 22:F\""
      ]
     },
     "metadata": {},
     "output_type": "display_data"
    },
    {
     "data": {
      "text/plain": [
       "\">>>>>> iteration 23:F\""
      ]
     },
     "metadata": {},
     "output_type": "display_data"
    },
    {
     "data": {
      "text/plain": [
       "\">>>>>> iteration 24:F\""
      ]
     },
     "metadata": {},
     "output_type": "display_data"
    },
    {
     "data": {
      "text/plain": [
       "\">>>>>> iteration 25:F\""
      ]
     },
     "metadata": {},
     "output_type": "display_data"
    },
    {
     "data": {
      "text/plain": [
       "\">>>>>> iteration 26:F\""
      ]
     },
     "metadata": {},
     "output_type": "display_data"
    },
    {
     "data": {
      "text/plain": [
       "\">>>>>> iteration 27:F\""
      ]
     },
     "metadata": {},
     "output_type": "display_data"
    },
    {
     "data": {
      "text/plain": [
       "\">>>>>> iteration 28:F\""
      ]
     },
     "metadata": {},
     "output_type": "display_data"
    },
    {
     "data": {
      "text/plain": [
       "\">>>>>> iteration 29:F\""
      ]
     },
     "metadata": {},
     "output_type": "display_data"
    },
    {
     "data": {
      "text/plain": [
       "\">>>>>> iteration 30:F\""
      ]
     },
     "metadata": {},
     "output_type": "display_data"
    },
    {
     "data": {
      "text/plain": [
       "\">>>>>> iteration 31:F\""
      ]
     },
     "metadata": {},
     "output_type": "display_data"
    },
    {
     "data": {
      "text/plain": [
       "\">>>>>> iteration 32:F\""
      ]
     },
     "metadata": {},
     "output_type": "display_data"
    },
    {
     "data": {
      "text/plain": [
       "\">>>>>> iteration 33:F\""
      ]
     },
     "metadata": {},
     "output_type": "display_data"
    },
    {
     "data": {
      "text/plain": [
       "\">>>>>> iteration 34:F\""
      ]
     },
     "metadata": {},
     "output_type": "display_data"
    },
    {
     "data": {
      "text/plain": [
       "\">>>>>> iteration 35:F\""
      ]
     },
     "metadata": {},
     "output_type": "display_data"
    },
    {
     "data": {
      "text/plain": [
       "\">>>>>> iteration 36:F\""
      ]
     },
     "metadata": {},
     "output_type": "display_data"
    },
    {
     "data": {
      "text/plain": [
       "\">>>>>> iteration 37:F\""
      ]
     },
     "metadata": {},
     "output_type": "display_data"
    },
    {
     "data": {
      "text/plain": [
       "\">>>>>> iteration 38:F\""
      ]
     },
     "metadata": {},
     "output_type": "display_data"
    },
    {
     "data": {
      "text/plain": [
       "\">>>>>> iteration 39:F\""
      ]
     },
     "metadata": {},
     "output_type": "display_data"
    },
    {
     "data": {
      "text/plain": [
       "\">>>>>> iteration 40:F\""
      ]
     },
     "metadata": {},
     "output_type": "display_data"
    },
    {
     "data": {
      "text/plain": [
       "\">>>>>> iteration 41:F\""
      ]
     },
     "metadata": {},
     "output_type": "display_data"
    },
    {
     "data": {
      "text/plain": [
       "\">>>>>> iteration 42:F\""
      ]
     },
     "metadata": {},
     "output_type": "display_data"
    },
    {
     "data": {
      "text/plain": [
       "\">>>>>> iteration 43:F\""
      ]
     },
     "metadata": {},
     "output_type": "display_data"
    },
    {
     "data": {
      "text/plain": [
       "\">>>>>> iteration 44:F\""
      ]
     },
     "metadata": {},
     "output_type": "display_data"
    },
    {
     "data": {
      "text/plain": [
       "\">>>>>> iteration 45:F\""
      ]
     },
     "metadata": {},
     "output_type": "display_data"
    },
    {
     "data": {
      "text/plain": [
       "\">>>>>> iteration 46:F\""
      ]
     },
     "metadata": {},
     "output_type": "display_data"
    },
    {
     "data": {
      "text/plain": [
       "\">>>>>> iteration 47:F\""
      ]
     },
     "metadata": {},
     "output_type": "display_data"
    },
    {
     "data": {
      "text/plain": [
       "\">>>>>> iteration 48:F\""
      ]
     },
     "metadata": {},
     "output_type": "display_data"
    },
    {
     "data": {
      "text/plain": [
       "\">>>>>> iteration 49:F\""
      ]
     },
     "metadata": {},
     "output_type": "display_data"
    },
    {
     "data": {
      "text/plain": [
       "\">>>>>> iteration 50:F\""
      ]
     },
     "metadata": {},
     "output_type": "display_data"
    },
    {
     "data": {
      "text/plain": [
       "\"Solution not found\""
      ]
     },
     "metadata": {},
     "output_type": "display_data"
    },
    {
     "name": "stdout",
     "output_type": "stream",
     "text": [
      "MC: 1>> Time: 17\n",
      "MC: 1>> Time: 18\n",
      "MC: 1>> Time: 19\n",
      "MC: 1>> Time: 20\n"
     ]
    },
    {
     "data": {
      "text/plain": [
       "\">>>>>> iteration 1:O\""
      ]
     },
     "metadata": {},
     "output_type": "display_data"
    },
    {
     "data": {
      "text/plain": [
       "\"Solution found\""
      ]
     },
     "metadata": {},
     "output_type": "display_data"
    },
    {
     "name": "stdout",
     "output_type": "stream",
     "text": [
      "MC: 1>> Time: 21\n",
      "MC: 1>> Time: 22\n",
      "MC: 1>> Time: 23\n",
      "MC: 1>> Time: 24\n"
     ]
    },
    {
     "data": {
      "text/plain": [
       "\">>>>>> iteration 1:O\""
      ]
     },
     "metadata": {},
     "output_type": "display_data"
    },
    {
     "data": {
      "text/plain": [
       "\"Solution found\""
      ]
     },
     "metadata": {},
     "output_type": "display_data"
    },
    {
     "name": "stdout",
     "output_type": "stream",
     "text": [
      "MC: 1>> Time: 25\n",
      "MC: 1>> Time: 26\n",
      "MC: 1>> Time: 27\n",
      "MC: 1>> Time: 28\n"
     ]
    },
    {
     "data": {
      "text/plain": [
       "\">>>>>> iteration 1:O\""
      ]
     },
     "metadata": {},
     "output_type": "display_data"
    },
    {
     "data": {
      "text/plain": [
       "\"Solution found\""
      ]
     },
     "metadata": {},
     "output_type": "display_data"
    },
    {
     "name": "stdout",
     "output_type": "stream",
     "text": [
      "MC: 1>> Time: 29\n",
      "MC: 1>> Time: 30\n",
      "MC: 1>> Time: 31\n",
      "MC: 1>> Time: 32\n"
     ]
    },
    {
     "data": {
      "text/plain": [
       "\">>>>>> iteration 1:O\""
      ]
     },
     "metadata": {},
     "output_type": "display_data"
    },
    {
     "data": {
      "text/plain": [
       "\"Solution found\""
      ]
     },
     "metadata": {},
     "output_type": "display_data"
    },
    {
     "name": "stdout",
     "output_type": "stream",
     "text": [
      "MC: 1>> Time: 33\n",
      "MC: 1>> Time: 34\n",
      "MC: 1>> Time: 35\n",
      "MC: 1>> Time: 36\n"
     ]
    },
    {
     "data": {
      "text/plain": [
       "\">>>>>> iteration 1:O\""
      ]
     },
     "metadata": {},
     "output_type": "display_data"
    },
    {
     "data": {
      "text/plain": [
       "\"Solution found\""
      ]
     },
     "metadata": {},
     "output_type": "display_data"
    },
    {
     "name": "stdout",
     "output_type": "stream",
     "text": [
      "MC: 1>> Time: 37\n",
      "MC: 1>> Time: 38\n",
      "MC: 1>> Time: 39\n",
      "MC: 1>> Time: 40\n"
     ]
    },
    {
     "data": {
      "text/plain": [
       "\">>>>>> iteration 1:O\""
      ]
     },
     "metadata": {},
     "output_type": "display_data"
    },
    {
     "data": {
      "text/plain": [
       "\"Solution found\""
      ]
     },
     "metadata": {},
     "output_type": "display_data"
    },
    {
     "name": "stdout",
     "output_type": "stream",
     "text": [
      "MC: 2>> Time: 1\n"
     ]
    },
    {
     "data": {
      "text/plain": [
       "\"Solution found\""
      ]
     },
     "metadata": {},
     "output_type": "display_data"
    },
    {
     "name": "stdout",
     "output_type": "stream",
     "text": [
      "MC: 2>> Time: 2\n",
      "MC: 2>> Time: 3\n",
      "MC: 2>> Time: 4\n"
     ]
    },
    {
     "data": {
      "text/plain": [
       "\"Solution found\""
      ]
     },
     "metadata": {},
     "output_type": "display_data"
    },
    {
     "name": "stdout",
     "output_type": "stream",
     "text": [
      "MC: 2>> Time: 5\n",
      "MC: 2>> Time: 6\n",
      "MC: 2>> Time: 7\n",
      "MC: 2>> Time: 8\n"
     ]
    },
    {
     "data": {
      "text/plain": [
       "\"Solution not found\""
      ]
     },
     "metadata": {},
     "output_type": "display_data"
    },
    {
     "name": "stdout",
     "output_type": "stream",
     "text": [
      "MC: 2>> Time: 9\n",
      "MC: 2>> Time: 10\n",
      "MC: 2>> Time: 11\n",
      "MC: 2>> Time: 12\n"
     ]
    },
    {
     "data": {
      "text/plain": [
       "\"Solution found\""
      ]
     },
     "metadata": {},
     "output_type": "display_data"
    },
    {
     "name": "stdout",
     "output_type": "stream",
     "text": [
      "MC: 2>> Time: 13\n",
      "MC: 2>> Time: 14\n",
      "MC: 2>> Time: 15\n",
      "MC: 2>> Time: 16\n"
     ]
    },
    {
     "data": {
      "text/plain": [
       "\"Solution found\""
      ]
     },
     "metadata": {},
     "output_type": "display_data"
    },
    {
     "name": "stdout",
     "output_type": "stream",
     "text": [
      "MC: 2>> Time: 17\n",
      "MC: 2>> Time: 18\n",
      "MC: 2>> Time: 19\n",
      "MC: 2>> Time: 20\n"
     ]
    },
    {
     "data": {
      "text/plain": [
       "\"Solution found\""
      ]
     },
     "metadata": {},
     "output_type": "display_data"
    },
    {
     "name": "stdout",
     "output_type": "stream",
     "text": [
      "MC: 2>> Time: 21\n",
      "MC: 2>> Time: 22\n",
      "MC: 2>> Time: 23\n",
      "MC: 2>> Time: 24\n"
     ]
    },
    {
     "data": {
      "text/plain": [
       "\"Solution found\""
      ]
     },
     "metadata": {},
     "output_type": "display_data"
    },
    {
     "name": "stdout",
     "output_type": "stream",
     "text": [
      "MC: 2>> Time: 25\n",
      "MC: 2>> Time: 26\n",
      "MC: 2>> Time: 27\n",
      "MC: 2>> Time: 28\n"
     ]
    },
    {
     "data": {
      "text/plain": [
       "\"Solution found\""
      ]
     },
     "metadata": {},
     "output_type": "display_data"
    },
    {
     "name": "stdout",
     "output_type": "stream",
     "text": [
      "MC: 2>> Time: 29\n",
      "MC: 2>> Time: 30\n",
      "MC: 2>> Time: 31\n",
      "MC: 2>> Time: 32\n"
     ]
    },
    {
     "data": {
      "text/plain": [
       "\"Solution found\""
      ]
     },
     "metadata": {},
     "output_type": "display_data"
    },
    {
     "name": "stdout",
     "output_type": "stream",
     "text": [
      "MC: 2>> Time: 33\n",
      "MC: 2>> Time: 34\n",
      "MC: 2>> Time: 35\n",
      "MC: 2>> Time: 36\n"
     ]
    },
    {
     "data": {
      "text/plain": [
       "\"Solution found\""
      ]
     },
     "metadata": {},
     "output_type": "display_data"
    },
    {
     "name": "stdout",
     "output_type": "stream",
     "text": [
      "MC: 2>> Time: 37\n",
      "MC: 2>> Time: 38\n",
      "MC: 2>> Time: 39\n",
      "MC: 2>> Time: 40\n"
     ]
    },
    {
     "data": {
      "text/plain": [
       "\"Solution found\""
      ]
     },
     "metadata": {},
     "output_type": "display_data"
    },
    {
     "name": "stdout",
     "output_type": "stream",
     "text": [
      "MC: 2>> Time: 1\n"
     ]
    },
    {
     "data": {
      "text/plain": [
       "\"Solution found\""
      ]
     },
     "metadata": {},
     "output_type": "display_data"
    },
    {
     "name": "stdout",
     "output_type": "stream",
     "text": [
      "MC: 2>> Time: 2\n",
      "MC: 2>> Time: 3\n",
      "MC: 2>> Time: 4\n"
     ]
    },
    {
     "data": {
      "text/plain": [
       "\">>>>>> iteration 1:O\""
      ]
     },
     "metadata": {},
     "output_type": "display_data"
    },
    {
     "data": {
      "text/plain": [
       "\">>>>>> iteration 2:F\""
      ]
     },
     "metadata": {},
     "output_type": "display_data"
    },
    {
     "data": {
      "text/plain": [
       "\">>>>>> iteration 3:F\""
      ]
     },
     "metadata": {},
     "output_type": "display_data"
    },
    {
     "data": {
      "text/plain": [
       "\">>>>>> iteration 4:F\""
      ]
     },
     "metadata": {},
     "output_type": "display_data"
    },
    {
     "data": {
      "text/plain": [
       "\">>>>>> iteration 5:F\""
      ]
     },
     "metadata": {},
     "output_type": "display_data"
    },
    {
     "data": {
      "text/plain": [
       "\">>>>>> iteration 6:F\""
      ]
     },
     "metadata": {},
     "output_type": "display_data"
    },
    {
     "data": {
      "text/plain": [
       "\">>>>>> iteration 7:F\""
      ]
     },
     "metadata": {},
     "output_type": "display_data"
    },
    {
     "data": {
      "text/plain": [
       "\">>>>>> iteration 8:F\""
      ]
     },
     "metadata": {},
     "output_type": "display_data"
    },
    {
     "data": {
      "text/plain": [
       "\">>>>>> iteration 9:F\""
      ]
     },
     "metadata": {},
     "output_type": "display_data"
    },
    {
     "data": {
      "text/plain": [
       "\">>>>>> iteration 10:F\""
      ]
     },
     "metadata": {},
     "output_type": "display_data"
    },
    {
     "data": {
      "text/plain": [
       "\">>>>>> iteration 11:F\""
      ]
     },
     "metadata": {},
     "output_type": "display_data"
    },
    {
     "data": {
      "text/plain": [
       "\">>>>>> iteration 12:F\""
      ]
     },
     "metadata": {},
     "output_type": "display_data"
    },
    {
     "data": {
      "text/plain": [
       "\">>>>>> iteration 13:F\""
      ]
     },
     "metadata": {},
     "output_type": "display_data"
    },
    {
     "data": {
      "text/plain": [
       "\">>>>>> iteration 14:F\""
      ]
     },
     "metadata": {},
     "output_type": "display_data"
    },
    {
     "data": {
      "text/plain": [
       "\">>>>>> iteration 15:F\""
      ]
     },
     "metadata": {},
     "output_type": "display_data"
    },
    {
     "data": {
      "text/plain": [
       "\">>>>>> iteration 16:F\""
      ]
     },
     "metadata": {},
     "output_type": "display_data"
    },
    {
     "data": {
      "text/plain": [
       "\">>>>>> iteration 17:F\""
      ]
     },
     "metadata": {},
     "output_type": "display_data"
    },
    {
     "data": {
      "text/plain": [
       "\">>>>>> iteration 18:F\""
      ]
     },
     "metadata": {},
     "output_type": "display_data"
    },
    {
     "data": {
      "text/plain": [
       "\">>>>>> iteration 19:F\""
      ]
     },
     "metadata": {},
     "output_type": "display_data"
    },
    {
     "data": {
      "text/plain": [
       "\">>>>>> iteration 20:F\""
      ]
     },
     "metadata": {},
     "output_type": "display_data"
    },
    {
     "data": {
      "text/plain": [
       "\">>>>>> iteration 21:F\""
      ]
     },
     "metadata": {},
     "output_type": "display_data"
    },
    {
     "data": {
      "text/plain": [
       "\">>>>>> iteration 22:F\""
      ]
     },
     "metadata": {},
     "output_type": "display_data"
    },
    {
     "data": {
      "text/plain": [
       "\">>>>>> iteration 23:F\""
      ]
     },
     "metadata": {},
     "output_type": "display_data"
    },
    {
     "data": {
      "text/plain": [
       "\">>>>>> iteration 24:F\""
      ]
     },
     "metadata": {},
     "output_type": "display_data"
    },
    {
     "data": {
      "text/plain": [
       "\">>>>>> iteration 25:F\""
      ]
     },
     "metadata": {},
     "output_type": "display_data"
    },
    {
     "data": {
      "text/plain": [
       "\">>>>>> iteration 26:F\""
      ]
     },
     "metadata": {},
     "output_type": "display_data"
    },
    {
     "data": {
      "text/plain": [
       "\">>>>>> iteration 27:F\""
      ]
     },
     "metadata": {},
     "output_type": "display_data"
    },
    {
     "data": {
      "text/plain": [
       "\">>>>>> iteration 28:F\""
      ]
     },
     "metadata": {},
     "output_type": "display_data"
    },
    {
     "data": {
      "text/plain": [
       "\">>>>>> iteration 29:F\""
      ]
     },
     "metadata": {},
     "output_type": "display_data"
    },
    {
     "data": {
      "text/plain": [
       "\">>>>>> iteration 30:F\""
      ]
     },
     "metadata": {},
     "output_type": "display_data"
    },
    {
     "data": {
      "text/plain": [
       "\">>>>>> iteration 31:F\""
      ]
     },
     "metadata": {},
     "output_type": "display_data"
    },
    {
     "data": {
      "text/plain": [
       "\">>>>>> iteration 32:F\""
      ]
     },
     "metadata": {},
     "output_type": "display_data"
    },
    {
     "data": {
      "text/plain": [
       "\">>>>>> iteration 33:F\""
      ]
     },
     "metadata": {},
     "output_type": "display_data"
    },
    {
     "data": {
      "text/plain": [
       "\">>>>>> iteration 34:F\""
      ]
     },
     "metadata": {},
     "output_type": "display_data"
    },
    {
     "data": {
      "text/plain": [
       "\">>>>>> iteration 35:F\""
      ]
     },
     "metadata": {},
     "output_type": "display_data"
    },
    {
     "data": {
      "text/plain": [
       "\">>>>>> iteration 36:F\""
      ]
     },
     "metadata": {},
     "output_type": "display_data"
    },
    {
     "data": {
      "text/plain": [
       "\">>>>>> iteration 37:F\""
      ]
     },
     "metadata": {},
     "output_type": "display_data"
    },
    {
     "data": {
      "text/plain": [
       "\">>>>>> iteration 38:F\""
      ]
     },
     "metadata": {},
     "output_type": "display_data"
    },
    {
     "data": {
      "text/plain": [
       "\">>>>>> iteration 39:F\""
      ]
     },
     "metadata": {},
     "output_type": "display_data"
    },
    {
     "data": {
      "text/plain": [
       "\">>>>>> iteration 40:F\""
      ]
     },
     "metadata": {},
     "output_type": "display_data"
    },
    {
     "data": {
      "text/plain": [
       "\">>>>>> iteration 41:F\""
      ]
     },
     "metadata": {},
     "output_type": "display_data"
    },
    {
     "data": {
      "text/plain": [
       "\">>>>>> iteration 42:F\""
      ]
     },
     "metadata": {},
     "output_type": "display_data"
    },
    {
     "data": {
      "text/plain": [
       "\">>>>>> iteration 43:F\""
      ]
     },
     "metadata": {},
     "output_type": "display_data"
    },
    {
     "data": {
      "text/plain": [
       "\">>>>>> iteration 44:F\""
      ]
     },
     "metadata": {},
     "output_type": "display_data"
    },
    {
     "data": {
      "text/plain": [
       "\">>>>>> iteration 45:F\""
      ]
     },
     "metadata": {},
     "output_type": "display_data"
    },
    {
     "data": {
      "text/plain": [
       "\">>>>>> iteration 46:F\""
      ]
     },
     "metadata": {},
     "output_type": "display_data"
    },
    {
     "data": {
      "text/plain": [
       "\">>>>>> iteration 47:F\""
      ]
     },
     "metadata": {},
     "output_type": "display_data"
    },
    {
     "data": {
      "text/plain": [
       "\">>>>>> iteration 48:F\""
      ]
     },
     "metadata": {},
     "output_type": "display_data"
    },
    {
     "data": {
      "text/plain": [
       "\">>>>>> iteration 49:F\""
      ]
     },
     "metadata": {},
     "output_type": "display_data"
    },
    {
     "data": {
      "text/plain": [
       "\">>>>>> iteration 50:F\""
      ]
     },
     "metadata": {},
     "output_type": "display_data"
    },
    {
     "data": {
      "text/plain": [
       "\"Solution not found\""
      ]
     },
     "metadata": {},
     "output_type": "display_data"
    },
    {
     "name": "stdout",
     "output_type": "stream",
     "text": [
      "MC: 2>> Time: 5\n",
      "MC: 2>> Time: 6\n",
      "MC: 2>> Time: 7\n",
      "MC: 2>> Time: 8\n"
     ]
    },
    {
     "data": {
      "text/plain": [
       "\">>>>>> iteration 1:F\""
      ]
     },
     "metadata": {},
     "output_type": "display_data"
    },
    {
     "data": {
      "text/plain": [
       "\">>>>>> iteration 2:F\""
      ]
     },
     "metadata": {},
     "output_type": "display_data"
    },
    {
     "data": {
      "text/plain": [
       "\">>>>>> iteration 3:F\""
      ]
     },
     "metadata": {},
     "output_type": "display_data"
    },
    {
     "data": {
      "text/plain": [
       "\">>>>>> iteration 4:F\""
      ]
     },
     "metadata": {},
     "output_type": "display_data"
    },
    {
     "data": {
      "text/plain": [
       "\">>>>>> iteration 5:F\""
      ]
     },
     "metadata": {},
     "output_type": "display_data"
    },
    {
     "data": {
      "text/plain": [
       "\">>>>>> iteration 6:F\""
      ]
     },
     "metadata": {},
     "output_type": "display_data"
    },
    {
     "data": {
      "text/plain": [
       "\">>>>>> iteration 7:F\""
      ]
     },
     "metadata": {},
     "output_type": "display_data"
    },
    {
     "data": {
      "text/plain": [
       "\">>>>>> iteration 8:F\""
      ]
     },
     "metadata": {},
     "output_type": "display_data"
    },
    {
     "data": {
      "text/plain": [
       "\">>>>>> iteration 9:F\""
      ]
     },
     "metadata": {},
     "output_type": "display_data"
    },
    {
     "data": {
      "text/plain": [
       "\">>>>>> iteration 10:F\""
      ]
     },
     "metadata": {},
     "output_type": "display_data"
    },
    {
     "data": {
      "text/plain": [
       "\">>>>>> iteration 11:F\""
      ]
     },
     "metadata": {},
     "output_type": "display_data"
    },
    {
     "data": {
      "text/plain": [
       "\">>>>>> iteration 12:F\""
      ]
     },
     "metadata": {},
     "output_type": "display_data"
    },
    {
     "data": {
      "text/plain": [
       "\">>>>>> iteration 13:F\""
      ]
     },
     "metadata": {},
     "output_type": "display_data"
    },
    {
     "data": {
      "text/plain": [
       "\">>>>>> iteration 14:F\""
      ]
     },
     "metadata": {},
     "output_type": "display_data"
    },
    {
     "data": {
      "text/plain": [
       "\">>>>>> iteration 15:F\""
      ]
     },
     "metadata": {},
     "output_type": "display_data"
    },
    {
     "data": {
      "text/plain": [
       "\">>>>>> iteration 16:F\""
      ]
     },
     "metadata": {},
     "output_type": "display_data"
    },
    {
     "data": {
      "text/plain": [
       "\">>>>>> iteration 17:F\""
      ]
     },
     "metadata": {},
     "output_type": "display_data"
    },
    {
     "data": {
      "text/plain": [
       "\">>>>>> iteration 18:F\""
      ]
     },
     "metadata": {},
     "output_type": "display_data"
    },
    {
     "data": {
      "text/plain": [
       "\">>>>>> iteration 19:F\""
      ]
     },
     "metadata": {},
     "output_type": "display_data"
    },
    {
     "data": {
      "text/plain": [
       "\">>>>>> iteration 20:F\""
      ]
     },
     "metadata": {},
     "output_type": "display_data"
    },
    {
     "data": {
      "text/plain": [
       "\">>>>>> iteration 21:F\""
      ]
     },
     "metadata": {},
     "output_type": "display_data"
    },
    {
     "data": {
      "text/plain": [
       "\">>>>>> iteration 22:F\""
      ]
     },
     "metadata": {},
     "output_type": "display_data"
    },
    {
     "data": {
      "text/plain": [
       "\">>>>>> iteration 23:F\""
      ]
     },
     "metadata": {},
     "output_type": "display_data"
    },
    {
     "data": {
      "text/plain": [
       "\">>>>>> iteration 24:F\""
      ]
     },
     "metadata": {},
     "output_type": "display_data"
    },
    {
     "data": {
      "text/plain": [
       "\">>>>>> iteration 25:F\""
      ]
     },
     "metadata": {},
     "output_type": "display_data"
    },
    {
     "data": {
      "text/plain": [
       "\">>>>>> iteration 26:F\""
      ]
     },
     "metadata": {},
     "output_type": "display_data"
    },
    {
     "data": {
      "text/plain": [
       "\">>>>>> iteration 27:F\""
      ]
     },
     "metadata": {},
     "output_type": "display_data"
    },
    {
     "data": {
      "text/plain": [
       "\">>>>>> iteration 28:F\""
      ]
     },
     "metadata": {},
     "output_type": "display_data"
    },
    {
     "data": {
      "text/plain": [
       "\">>>>>> iteration 29:F\""
      ]
     },
     "metadata": {},
     "output_type": "display_data"
    },
    {
     "data": {
      "text/plain": [
       "\">>>>>> iteration 30:F\""
      ]
     },
     "metadata": {},
     "output_type": "display_data"
    },
    {
     "data": {
      "text/plain": [
       "\">>>>>> iteration 31:F\""
      ]
     },
     "metadata": {},
     "output_type": "display_data"
    },
    {
     "data": {
      "text/plain": [
       "\">>>>>> iteration 32:F\""
      ]
     },
     "metadata": {},
     "output_type": "display_data"
    },
    {
     "data": {
      "text/plain": [
       "\">>>>>> iteration 33:F\""
      ]
     },
     "metadata": {},
     "output_type": "display_data"
    },
    {
     "data": {
      "text/plain": [
       "\">>>>>> iteration 34:F\""
      ]
     },
     "metadata": {},
     "output_type": "display_data"
    },
    {
     "data": {
      "text/plain": [
       "\">>>>>> iteration 35:F\""
      ]
     },
     "metadata": {},
     "output_type": "display_data"
    },
    {
     "data": {
      "text/plain": [
       "\">>>>>> iteration 36:F\""
      ]
     },
     "metadata": {},
     "output_type": "display_data"
    },
    {
     "data": {
      "text/plain": [
       "\">>>>>> iteration 37:F\""
      ]
     },
     "metadata": {},
     "output_type": "display_data"
    },
    {
     "data": {
      "text/plain": [
       "\">>>>>> iteration 38:F\""
      ]
     },
     "metadata": {},
     "output_type": "display_data"
    },
    {
     "data": {
      "text/plain": [
       "\">>>>>> iteration 39:F\""
      ]
     },
     "metadata": {},
     "output_type": "display_data"
    },
    {
     "data": {
      "text/plain": [
       "\">>>>>> iteration 40:F\""
      ]
     },
     "metadata": {},
     "output_type": "display_data"
    },
    {
     "data": {
      "text/plain": [
       "\">>>>>> iteration 41:F\""
      ]
     },
     "metadata": {},
     "output_type": "display_data"
    },
    {
     "data": {
      "text/plain": [
       "\">>>>>> iteration 42:F\""
      ]
     },
     "metadata": {},
     "output_type": "display_data"
    },
    {
     "data": {
      "text/plain": [
       "\">>>>>> iteration 43:F\""
      ]
     },
     "metadata": {},
     "output_type": "display_data"
    },
    {
     "data": {
      "text/plain": [
       "\">>>>>> iteration 44:F\""
      ]
     },
     "metadata": {},
     "output_type": "display_data"
    },
    {
     "data": {
      "text/plain": [
       "\">>>>>> iteration 45:F\""
      ]
     },
     "metadata": {},
     "output_type": "display_data"
    },
    {
     "data": {
      "text/plain": [
       "\">>>>>> iteration 46:F\""
      ]
     },
     "metadata": {},
     "output_type": "display_data"
    },
    {
     "data": {
      "text/plain": [
       "\">>>>>> iteration 47:F\""
      ]
     },
     "metadata": {},
     "output_type": "display_data"
    },
    {
     "data": {
      "text/plain": [
       "\">>>>>> iteration 48:F\""
      ]
     },
     "metadata": {},
     "output_type": "display_data"
    },
    {
     "data": {
      "text/plain": [
       "\">>>>>> iteration 49:F\""
      ]
     },
     "metadata": {},
     "output_type": "display_data"
    },
    {
     "data": {
      "text/plain": [
       "\">>>>>> iteration 50:F\""
      ]
     },
     "metadata": {},
     "output_type": "display_data"
    },
    {
     "data": {
      "text/plain": [
       "\"Solution not found\""
      ]
     },
     "metadata": {},
     "output_type": "display_data"
    },
    {
     "name": "stdout",
     "output_type": "stream",
     "text": [
      "MC: 2>> Time: 9\n",
      "MC: 2>> Time: 10\n",
      "MC: 2>> Time: 11\n",
      "MC: 2>> Time: 12\n"
     ]
    },
    {
     "data": {
      "text/plain": [
       "\">>>>>> iteration 1:O\""
      ]
     },
     "metadata": {},
     "output_type": "display_data"
    },
    {
     "data": {
      "text/plain": [
       "\"Solution found\""
      ]
     },
     "metadata": {},
     "output_type": "display_data"
    },
    {
     "name": "stdout",
     "output_type": "stream",
     "text": [
      "MC: 2>> Time: 13\n",
      "MC: 2>> Time: 14\n",
      "MC: 2>> Time: 15\n",
      "MC: 2>> Time: 16\n"
     ]
    },
    {
     "data": {
      "text/plain": [
       "\">>>>>> iteration 1:O\""
      ]
     },
     "metadata": {},
     "output_type": "display_data"
    },
    {
     "data": {
      "text/plain": [
       "\"Solution found\""
      ]
     },
     "metadata": {},
     "output_type": "display_data"
    },
    {
     "name": "stdout",
     "output_type": "stream",
     "text": [
      "MC: 2>> Time: 17\n",
      "MC: 2>> Time: 18\n",
      "MC: 2>> Time: 19\n",
      "MC: 2>> Time: 20\n"
     ]
    },
    {
     "data": {
      "text/plain": [
       "\">>>>>> iteration 1:O\""
      ]
     },
     "metadata": {},
     "output_type": "display_data"
    },
    {
     "data": {
      "text/plain": [
       "\"Solution found\""
      ]
     },
     "metadata": {},
     "output_type": "display_data"
    },
    {
     "name": "stdout",
     "output_type": "stream",
     "text": [
      "MC: 2>> Time: 21\n",
      "MC: 2>> Time: 22\n",
      "MC: 2>> Time: 23\n",
      "MC: 2>> Time: 24\n"
     ]
    },
    {
     "data": {
      "text/plain": [
       "\">>>>>> iteration 1:O\""
      ]
     },
     "metadata": {},
     "output_type": "display_data"
    },
    {
     "data": {
      "text/plain": [
       "\"Solution found\""
      ]
     },
     "metadata": {},
     "output_type": "display_data"
    },
    {
     "name": "stdout",
     "output_type": "stream",
     "text": [
      "MC: 2>> Time: 25\n",
      "MC: 2>> Time: 26\n",
      "MC: 2>> Time: 27\n",
      "MC: 2>> Time: 28\n"
     ]
    },
    {
     "data": {
      "text/plain": [
       "\">>>>>> iteration 1:O\""
      ]
     },
     "metadata": {},
     "output_type": "display_data"
    },
    {
     "data": {
      "text/plain": [
       "\"Solution found\""
      ]
     },
     "metadata": {},
     "output_type": "display_data"
    },
    {
     "name": "stdout",
     "output_type": "stream",
     "text": [
      "MC: 2>> Time: 29\n",
      "MC: 2>> Time: 30\n",
      "MC: 2>> Time: 31\n",
      "MC: 2>> Time: 32\n"
     ]
    },
    {
     "data": {
      "text/plain": [
       "\">>>>>> iteration 1:O\""
      ]
     },
     "metadata": {},
     "output_type": "display_data"
    },
    {
     "data": {
      "text/plain": [
       "\"Solution found\""
      ]
     },
     "metadata": {},
     "output_type": "display_data"
    },
    {
     "name": "stdout",
     "output_type": "stream",
     "text": [
      "MC: 2>> Time: 33\n",
      "MC: 2>> Time: 34\n",
      "MC: 2>> Time: 35\n",
      "MC: 2>> Time: 36\n"
     ]
    },
    {
     "data": {
      "text/plain": [
       "\">>>>>> iteration 1:O\""
      ]
     },
     "metadata": {},
     "output_type": "display_data"
    },
    {
     "data": {
      "text/plain": [
       "\"Solution found\""
      ]
     },
     "metadata": {},
     "output_type": "display_data"
    },
    {
     "name": "stdout",
     "output_type": "stream",
     "text": [
      "MC: 2>> Time: 37\n",
      "MC: 2>> Time: 38\n",
      "MC: 2>> Time: 39\n",
      "MC: 2>> Time: 40\n"
     ]
    },
    {
     "data": {
      "text/plain": [
       "\">>>>>> iteration 1:O\""
      ]
     },
     "metadata": {},
     "output_type": "display_data"
    },
    {
     "data": {
      "text/plain": [
       "\"Solution found\""
      ]
     },
     "metadata": {},
     "output_type": "display_data"
    }
   ],
   "source": [
    "for jj = 1:n_MC\n",
    "    # ramdonly drawing the plant from the previously computed models\n",
    "    d = Truncated(Normal(pNom, deltaPar), pNom - 3*deltaPar, pNom + 3*deltaPar)  #Construct the distribution type\n",
    "    pPlant = rand(d)\n",
    "    \n",
    "    # RUNNING SIMULATION\n",
    "    for mm = 1:2\n",
    "        \n",
    "        # preparing simulation (starting from opt steady-state)\n",
    "        # plant \n",
    "        xk = x0\n",
    "        uk_1 = [Q0[1] Qm0]\n",
    "\n",
    "        # mpc's models - initial states is the same\n",
    "        xk_mpc1 = x0[4] - T1_0_bar\n",
    "        dek_mpc1 = 0.0\n",
    "        xk_mpc2 = x0[9] - T2_0_bar\n",
    "        dek_mpc2 = 0.0\n",
    "        \n",
    "        # initial conditions (CLDRTO)\n",
    "        Cpk = C0\n",
    "        Tpk = T0\n",
    "        \n",
    "        solNom = MS_CLDRTO(Cpk,Tpk,uk_1,[xk_mpc1;xk_mpc2],Ua,1,0)\n",
    "        \n",
    "        for ii = 1:nsim\n",
    "\n",
    "            print(\"MC: \", jj)\n",
    "            println(\">> Time: \",ii)\n",
    "\n",
    "            # updating arrays # States (algebraic and differential): CA1,CB1,CC1,T1,Tj1_out,CA2,CB2,CC2,T2,Tj2_out\n",
    "            TrPlant[1,ii,jj,mm] = xk[4]\n",
    "            TrPlant[2,ii,jj,mm] = xk[9]\n",
    "            TjPlant[1,ii,jj,mm] = xk[5]\n",
    "            TjPlant[2,ii,jj,mm] = xk[10]\n",
    "            QPlant[ii,jj,mm] = uk_1[1]\n",
    "            QmPlant[ii,jj,mm] = uk_1[2]\n",
    "\n",
    "            # executing DRTO\n",
    "            if ii%Δdrto == 0 || ii == 1\n",
    "                \n",
    "                if ii > 1\n",
    "                    sol_1s_temp = MS_CLDRTO(Cpk,Tpk,uk_1,[xk_mpc1;xk_mpc2],Ua,1,solNom)\n",
    "                    # checking if 1s solution converged\n",
    "                    if sol_1s_temp['f'] == 1\n",
    "                        solNom = sol_1s_temp \n",
    "                    end\n",
    "                end\n",
    "                \n",
    "                \n",
    "                if mm == 1\n",
    "                    sol_temp = MS_CLDRTO(Cpk,Tpk,uk_1,[xk_mpc1;xk_mpc2],pUnc,nS_MC,solNom)\n",
    "                else\n",
    "                    sol_temp = BENS_CLDRTO(Cpk,Tpk,uk_1,[xk_mpc1;xk_mpc2],pUnc,nS_MC,solNom)\n",
    "                end\n",
    "                \n",
    "                # checking solution\n",
    "                if sol_temp['f'] == 1\n",
    "                    display(\"Solution found\")\n",
    "                    # updating the solution\n",
    "                    global sol_k = sol_temp\n",
    "                    # counter for DRTO executions\n",
    "                    global countDRTO = 1;\n",
    "                    # N.B. need to declare as global due to loop scope\n",
    "                else\n",
    "                    display(\"Solution not found\")\n",
    "                    # does not update either the solution or the counter \n",
    "                end\n",
    "            end\n",
    "            \n",
    "            # saving flag: surrogate for CLDRTO flag\n",
    "            flagCLDRTO[ii,jj,mm] = countDRTO\n",
    "\n",
    "            # Preparing controller \n",
    "            yspk = sol_k['s'][:,countDRTO,2] \n",
    "            countDRTO += 1 \n",
    "            # N.B.:\n",
    "            # using nominal (center) scenario, but any scenario could be used\n",
    "\n",
    "            # solving MPC\n",
    "            sol1 = solveMPC(xk_mpc1,dek_mpc1,uk_1[1],yspk[1],u_mpc_lb,u_mpc_ub,T1_0_bar,Q1_0_bar,mpc1,p,q)\n",
    "            sol2 = solveMPC(xk_mpc2,dek_mpc2,uk_1[2],yspk[2],u_mpc_lb,u_mpc_ub,T2_0_bar,Qm_0_bar,mpc2,p,q)\n",
    "            \n",
    "            # evolving plant\n",
    "            ode_prob_mm = ODEProblem(ode_fun_mm,xk,tspan,[sol1['u'][1],sol2['u'][1],pPlant]);\n",
    "            sol =  solve(ode_prob_mm, Rodas5(),reltol=1e-8,abstol=1e-8,save_everystep = false);\n",
    "\n",
    "            # loop\n",
    "            # -> Plant \n",
    "            xk = sol.u[end]\n",
    "            uk_1 = [sol1['u'][1],sol2['u'][1]]\n",
    "            \n",
    "            # -> MPCs\n",
    "            # evolving MPC models\n",
    "            xk_mpc1  = a1_hat*xk_mpc1 + b1_hat*(sol1['u'][1] - Q1_0_bar)\n",
    "            dek_mpc1 = sol.u[end][4] - (xk_mpc1 + T1_0_bar)\n",
    "\n",
    "            xk_mpc2  = a2_hat*xk_mpc2 + b2_hat*(sol2['u'][1] - Qm_0_bar)\n",
    "            dek_mpc2 = sol.u[end][9] - (xk_mpc2 + T2_0_bar)\n",
    "\n",
    "            # -> DRTO\n",
    "            Cpk = [xk[1] xk[6];\n",
    "                   xk[2] xk[7];\n",
    "                   xk[3] xk[8]]\n",
    "            Tpk = [xk[4] xk[9]]\n",
    "            \n",
    "            # saving CLDRTO decisions\n",
    "            yspPlant[1,ii,jj,mm] = yspk[1]\n",
    "            yspPlant[2,ii,jj,mm] = yspk[2]\n",
    "            \n",
    "            \n",
    "            \n",
    "        end # simulation\n",
    "    end # monolithic || decomposed\n",
    "end # MC"
   ]
  },
  {
   "cell_type": "markdown",
   "id": "17935b10",
   "metadata": {},
   "source": [
    "Preparing plot"
   ]
  },
  {
   "cell_type": "code",
   "execution_count": 19,
   "id": "f6527b20",
   "metadata": {},
   "outputs": [],
   "source": [
    "# time series for plotting\n",
    "ts = Vector{Float64}(undef,nsim) \n",
    "for i in 1:nsim\n",
    "    ts[i] = 1*i\n",
    "end\n",
    "\n",
    "# one subplot for each method\n",
    "num_subplots = 2\n",
    "\n",
    "# Creating color array\n",
    "CList = reshape( range(colorant\"red\", stop=colorant\"blue\",length=n_MC), 1, n_MC);\n",
    "MList =[:square, :circle];"
   ]
  },
  {
   "cell_type": "markdown",
   "id": "443f08f8",
   "metadata": {},
   "source": [
    "- Reactor 1: Reactor Temperature / Setpoint / Jacket Temperature / MV"
   ]
  },
  {
   "cell_type": "code",
   "execution_count": 20,
   "id": "9290063f",
   "metadata": {},
   "outputs": [
    {
     "data": {
      "image/svg+xml": [
       "<?xml version=\"1.0\" encoding=\"utf-8\"?>\n",
       "<svg xmlns=\"http://www.w3.org/2000/svg\" xmlns:xlink=\"http://www.w3.org/1999/xlink\" width=\"600\" height=\"400\" viewBox=\"0 0 2400 1600\">\n",
       "<defs>\n",
       "  <clipPath id=\"clip320\">\n",
       "    <rect x=\"0\" y=\"0\" width=\"2400\" height=\"1600\"/>\n",
       "  </clipPath>\n",
       "</defs>\n",
       "<path clip-path=\"url(#clip320)\" d=\"M0 1600 L2400 1600 L2400 0 L0 0  Z\" fill=\"#ffffff\" fill-rule=\"evenodd\" fill-opacity=\"1\"/>\n",
       "<defs>\n",
       "  <clipPath id=\"clip321\">\n",
       "    <rect x=\"480\" y=\"0\" width=\"1681\" height=\"1600\"/>\n",
       "  </clipPath>\n",
       "</defs>\n",
       "<path clip-path=\"url(#clip320)\" d=\"M234.125 686.448 L2352.76 686.448 L2352.76 47.2441 L234.125 47.2441  Z\" fill=\"#ffffff\" fill-rule=\"evenodd\" fill-opacity=\"1\"/>\n",
       "<defs>\n",
       "  <clipPath id=\"clip322\">\n",
       "    <rect x=\"234\" y=\"47\" width=\"2120\" height=\"640\"/>\n",
       "  </clipPath>\n",
       "</defs>\n",
       "<polyline clip-path=\"url(#clip322)\" style=\"stroke:#000000; stroke-linecap:round; stroke-linejoin:round; stroke-width:8; stroke-opacity:0.1; fill:none\" points=\"242.838,686.448 242.838,47.2441 \"/>\n",
       "<polyline clip-path=\"url(#clip322)\" style=\"stroke:#000000; stroke-linecap:round; stroke-linejoin:round; stroke-width:8; stroke-opacity:0.1; fill:none\" points=\"755.327,686.448 755.327,47.2441 \"/>\n",
       "<polyline clip-path=\"url(#clip322)\" style=\"stroke:#000000; stroke-linecap:round; stroke-linejoin:round; stroke-width:8; stroke-opacity:0.1; fill:none\" points=\"1267.82,686.448 1267.82,47.2441 \"/>\n",
       "<polyline clip-path=\"url(#clip322)\" style=\"stroke:#000000; stroke-linecap:round; stroke-linejoin:round; stroke-width:8; stroke-opacity:0.1; fill:none\" points=\"1780.31,686.448 1780.31,47.2441 \"/>\n",
       "<polyline clip-path=\"url(#clip322)\" style=\"stroke:#000000; stroke-linecap:round; stroke-linejoin:round; stroke-width:8; stroke-opacity:0.1; fill:none\" points=\"2292.79,686.448 2292.79,47.2441 \"/>\n",
       "<polyline clip-path=\"url(#clip320)\" style=\"stroke:#000000; stroke-linecap:round; stroke-linejoin:round; stroke-width:4; stroke-opacity:1; fill:none\" points=\"234.125,686.448 2352.76,686.448 \"/>\n",
       "<polyline clip-path=\"url(#clip320)\" style=\"stroke:#000000; stroke-linecap:round; stroke-linejoin:round; stroke-width:4; stroke-opacity:1; fill:none\" points=\"242.838,686.448 242.838,667.55 \"/>\n",
       "<polyline clip-path=\"url(#clip320)\" style=\"stroke:#000000; stroke-linecap:round; stroke-linejoin:round; stroke-width:4; stroke-opacity:1; fill:none\" points=\"755.327,686.448 755.327,667.55 \"/>\n",
       "<polyline clip-path=\"url(#clip320)\" style=\"stroke:#000000; stroke-linecap:round; stroke-linejoin:round; stroke-width:4; stroke-opacity:1; fill:none\" points=\"1267.82,686.448 1267.82,667.55 \"/>\n",
       "<polyline clip-path=\"url(#clip320)\" style=\"stroke:#000000; stroke-linecap:round; stroke-linejoin:round; stroke-width:4; stroke-opacity:1; fill:none\" points=\"1780.31,686.448 1780.31,667.55 \"/>\n",
       "<polyline clip-path=\"url(#clip320)\" style=\"stroke:#000000; stroke-linecap:round; stroke-linejoin:round; stroke-width:4; stroke-opacity:1; fill:none\" points=\"2292.79,686.448 2292.79,667.55 \"/>\n",
       "<path clip-path=\"url(#clip320)\" d=\"M242.838 717.367 Q239.227 717.367 237.398 720.931 Q235.592 724.473 235.592 731.603 Q235.592 738.709 237.398 742.274 Q239.227 745.815 242.838 745.815 Q246.472 745.815 248.278 742.274 Q250.106 738.709 250.106 731.603 Q250.106 724.473 248.278 720.931 Q246.472 717.367 242.838 717.367 M242.838 713.663 Q248.648 713.663 251.703 718.269 Q254.782 722.853 254.782 731.603 Q254.782 740.329 251.703 744.936 Q248.648 749.519 242.838 749.519 Q237.028 749.519 233.949 744.936 Q230.893 740.329 230.893 731.603 Q230.893 722.853 233.949 718.269 Q237.028 713.663 242.838 713.663 Z\" fill=\"#000000\" fill-rule=\"evenodd\" fill-opacity=\"1\" /><path clip-path=\"url(#clip320)\" d=\"M730.015 744.913 L737.653 744.913 L737.653 718.547 L729.343 720.214 L729.343 715.955 L737.607 714.288 L742.283 714.288 L742.283 744.913 L749.922 744.913 L749.922 748.848 L730.015 748.848 L730.015 744.913 Z\" fill=\"#000000\" fill-rule=\"evenodd\" fill-opacity=\"1\" /><path clip-path=\"url(#clip320)\" d=\"M769.366 717.367 Q765.755 717.367 763.926 720.931 Q762.121 724.473 762.121 731.603 Q762.121 738.709 763.926 742.274 Q765.755 745.815 769.366 745.815 Q773.001 745.815 774.806 742.274 Q776.635 738.709 776.635 731.603 Q776.635 724.473 774.806 720.931 Q773.001 717.367 769.366 717.367 M769.366 713.663 Q775.176 713.663 778.232 718.269 Q781.311 722.853 781.311 731.603 Q781.311 740.329 778.232 744.936 Q775.176 749.519 769.366 749.519 Q763.556 749.519 760.477 744.936 Q757.422 740.329 757.422 731.603 Q757.422 722.853 760.477 718.269 Q763.556 713.663 769.366 713.663 Z\" fill=\"#000000\" fill-rule=\"evenodd\" fill-opacity=\"1\" /><path clip-path=\"url(#clip320)\" d=\"M1246.59 744.913 L1262.91 744.913 L1262.91 748.848 L1240.96 748.848 L1240.96 744.913 Q1243.63 742.158 1248.21 737.528 Q1252.82 732.876 1254 731.533 Q1256.24 729.01 1257.12 727.274 Q1258.02 725.515 1258.02 723.825 Q1258.02 721.07 1256.08 719.334 Q1254.16 717.598 1251.06 717.598 Q1248.86 717.598 1246.4 718.362 Q1243.97 719.126 1241.2 720.677 L1241.2 715.955 Q1244.02 714.82 1246.47 714.242 Q1248.93 713.663 1250.96 713.663 Q1256.33 713.663 1259.53 716.348 Q1262.72 719.033 1262.72 723.524 Q1262.72 725.654 1261.91 727.575 Q1261.13 729.473 1259.02 732.066 Q1258.44 732.737 1255.34 735.954 Q1252.24 739.149 1246.59 744.913 Z\" fill=\"#000000\" fill-rule=\"evenodd\" fill-opacity=\"1\" /><path clip-path=\"url(#clip320)\" d=\"M1282.72 717.367 Q1279.11 717.367 1277.28 720.931 Q1275.48 724.473 1275.48 731.603 Q1275.48 738.709 1277.28 742.274 Q1279.11 745.815 1282.72 745.815 Q1286.36 745.815 1288.16 742.274 Q1289.99 738.709 1289.99 731.603 Q1289.99 724.473 1288.16 720.931 Q1286.36 717.367 1282.72 717.367 M1282.72 713.663 Q1288.53 713.663 1291.59 718.269 Q1294.67 722.853 1294.67 731.603 Q1294.67 740.329 1291.59 744.936 Q1288.53 749.519 1282.72 749.519 Q1276.91 749.519 1273.83 744.936 Q1270.78 740.329 1270.78 731.603 Q1270.78 722.853 1273.83 718.269 Q1276.91 713.663 1282.72 713.663 Z\" fill=\"#000000\" fill-rule=\"evenodd\" fill-opacity=\"1\" /><path clip-path=\"url(#clip320)\" d=\"M1769.15 730.214 Q1772.5 730.931 1774.38 733.2 Q1776.28 735.468 1776.28 738.802 Q1776.28 743.917 1772.76 746.718 Q1769.24 749.519 1762.76 749.519 Q1760.58 749.519 1758.27 749.079 Q1755.98 748.663 1753.52 747.806 L1753.52 743.292 Q1755.47 744.427 1757.78 745.005 Q1760.1 745.584 1762.62 745.584 Q1767.02 745.584 1769.31 743.848 Q1771.62 742.112 1771.62 738.802 Q1771.62 735.746 1769.47 734.033 Q1767.34 732.297 1763.52 732.297 L1759.5 732.297 L1759.5 728.454 L1763.71 728.454 Q1767.16 728.454 1768.99 727.089 Q1770.81 725.7 1770.81 723.107 Q1770.81 720.445 1768.92 719.033 Q1767.04 717.598 1763.52 717.598 Q1761.6 717.598 1759.4 718.015 Q1757.2 718.431 1754.56 719.311 L1754.56 715.144 Q1757.23 714.404 1759.54 714.033 Q1761.88 713.663 1763.94 713.663 Q1769.26 713.663 1772.37 716.093 Q1775.47 718.501 1775.47 722.621 Q1775.47 725.492 1773.82 727.482 Q1772.18 729.45 1769.15 730.214 Z\" fill=\"#000000\" fill-rule=\"evenodd\" fill-opacity=\"1\" /><path clip-path=\"url(#clip320)\" d=\"M1795.14 717.367 Q1791.53 717.367 1789.7 720.931 Q1787.9 724.473 1787.9 731.603 Q1787.9 738.709 1789.7 742.274 Q1791.53 745.815 1795.14 745.815 Q1798.78 745.815 1800.58 742.274 Q1802.41 738.709 1802.41 731.603 Q1802.41 724.473 1800.58 720.931 Q1798.78 717.367 1795.14 717.367 M1795.14 713.663 Q1800.95 713.663 1804.01 718.269 Q1807.09 722.853 1807.09 731.603 Q1807.09 740.329 1804.01 744.936 Q1800.95 749.519 1795.14 749.519 Q1789.33 749.519 1786.25 744.936 Q1783.2 740.329 1783.2 731.603 Q1783.2 722.853 1786.25 718.269 Q1789.33 713.663 1795.14 713.663 Z\" fill=\"#000000\" fill-rule=\"evenodd\" fill-opacity=\"1\" /><path clip-path=\"url(#clip320)\" d=\"M2280.97 718.362 L2269.16 736.811 L2280.97 736.811 L2280.97 718.362 M2279.74 714.288 L2285.62 714.288 L2285.62 736.811 L2290.55 736.811 L2290.55 740.7 L2285.62 740.7 L2285.62 748.848 L2280.97 748.848 L2280.97 740.7 L2265.36 740.7 L2265.36 736.186 L2279.74 714.288 Z\" fill=\"#000000\" fill-rule=\"evenodd\" fill-opacity=\"1\" /><path clip-path=\"url(#clip320)\" d=\"M2308.28 717.367 Q2304.67 717.367 2302.84 720.931 Q2301.04 724.473 2301.04 731.603 Q2301.04 738.709 2302.84 742.274 Q2304.67 745.815 2308.28 745.815 Q2311.91 745.815 2313.72 742.274 Q2315.55 738.709 2315.55 731.603 Q2315.55 724.473 2313.72 720.931 Q2311.91 717.367 2308.28 717.367 M2308.28 713.663 Q2314.09 713.663 2317.15 718.269 Q2320.23 722.853 2320.23 731.603 Q2320.23 740.329 2317.15 744.936 Q2314.09 749.519 2308.28 749.519 Q2302.47 749.519 2299.39 744.936 Q2296.34 740.329 2296.34 731.603 Q2296.34 722.853 2299.39 718.269 Q2302.47 713.663 2308.28 713.663 Z\" fill=\"#000000\" fill-rule=\"evenodd\" fill-opacity=\"1\" /><polyline clip-path=\"url(#clip322)\" style=\"stroke:#000000; stroke-linecap:round; stroke-linejoin:round; stroke-width:8; stroke-opacity:0.1; fill:none\" points=\"234.125,668.357 2352.76,668.357 \"/>\n",
       "<polyline clip-path=\"url(#clip322)\" style=\"stroke:#000000; stroke-linecap:round; stroke-linejoin:round; stroke-width:8; stroke-opacity:0.1; fill:none\" points=\"234.125,496.065 2352.76,496.065 \"/>\n",
       "<polyline clip-path=\"url(#clip322)\" style=\"stroke:#000000; stroke-linecap:round; stroke-linejoin:round; stroke-width:8; stroke-opacity:0.1; fill:none\" points=\"234.125,323.773 2352.76,323.773 \"/>\n",
       "<polyline clip-path=\"url(#clip322)\" style=\"stroke:#000000; stroke-linecap:round; stroke-linejoin:round; stroke-width:8; stroke-opacity:0.1; fill:none\" points=\"234.125,151.481 2352.76,151.481 \"/>\n",
       "<polyline clip-path=\"url(#clip320)\" style=\"stroke:#000000; stroke-linecap:round; stroke-linejoin:round; stroke-width:4; stroke-opacity:1; fill:none\" points=\"234.125,686.448 234.125,47.2441 \"/>\n",
       "<polyline clip-path=\"url(#clip320)\" style=\"stroke:#000000; stroke-linecap:round; stroke-linejoin:round; stroke-width:4; stroke-opacity:1; fill:none\" points=\"234.125,668.357 253.023,668.357 \"/>\n",
       "<polyline clip-path=\"url(#clip320)\" style=\"stroke:#000000; stroke-linecap:round; stroke-linejoin:round; stroke-width:4; stroke-opacity:1; fill:none\" points=\"234.125,496.065 253.023,496.065 \"/>\n",
       "<polyline clip-path=\"url(#clip320)\" style=\"stroke:#000000; stroke-linecap:round; stroke-linejoin:round; stroke-width:4; stroke-opacity:1; fill:none\" points=\"234.125,323.773 253.023,323.773 \"/>\n",
       "<polyline clip-path=\"url(#clip320)\" style=\"stroke:#000000; stroke-linecap:round; stroke-linejoin:round; stroke-width:4; stroke-opacity:1; fill:none\" points=\"234.125,151.481 253.023,151.481 \"/>\n",
       "<path clip-path=\"url(#clip320)\" d=\"M186.181 654.156 Q182.57 654.156 180.741 657.721 Q178.936 661.262 178.936 668.392 Q178.936 675.498 180.741 679.063 Q182.57 682.605 186.181 682.605 Q189.815 682.605 191.621 679.063 Q193.45 675.498 193.45 668.392 Q193.45 661.262 191.621 657.721 Q189.815 654.156 186.181 654.156 M186.181 650.452 Q191.991 650.452 195.047 655.059 Q198.125 659.642 198.125 668.392 Q198.125 677.119 195.047 681.725 Q191.991 686.308 186.181 686.308 Q180.371 686.308 177.292 681.725 Q174.237 677.119 174.237 668.392 Q174.237 659.642 177.292 655.059 Q180.371 650.452 186.181 650.452 Z\" fill=\"#000000\" fill-rule=\"evenodd\" fill-opacity=\"1\" /><path clip-path=\"url(#clip320)\" d=\"M116.668 509.41 L124.306 509.41 L124.306 483.044 L115.996 484.711 L115.996 480.452 L124.26 478.785 L128.936 478.785 L128.936 509.41 L136.575 509.41 L136.575 513.345 L116.668 513.345 L116.668 509.41 Z\" fill=\"#000000\" fill-rule=\"evenodd\" fill-opacity=\"1\" /><path clip-path=\"url(#clip320)\" d=\"M156.019 481.864 Q152.408 481.864 150.579 485.429 Q148.774 488.97 148.774 496.1 Q148.774 503.206 150.579 506.771 Q152.408 510.313 156.019 510.313 Q159.653 510.313 161.459 506.771 Q163.288 503.206 163.288 496.1 Q163.288 488.97 161.459 485.429 Q159.653 481.864 156.019 481.864 M156.019 478.16 Q161.829 478.16 164.885 482.767 Q167.964 487.35 167.964 496.1 Q167.964 504.827 164.885 509.433 Q161.829 514.016 156.019 514.016 Q150.209 514.016 147.13 509.433 Q144.075 504.827 144.075 496.1 Q144.075 487.35 147.13 482.767 Q150.209 478.16 156.019 478.16 Z\" fill=\"#000000\" fill-rule=\"evenodd\" fill-opacity=\"1\" /><path clip-path=\"url(#clip320)\" d=\"M186.181 481.864 Q182.57 481.864 180.741 485.429 Q178.936 488.97 178.936 496.1 Q178.936 503.206 180.741 506.771 Q182.57 510.313 186.181 510.313 Q189.815 510.313 191.621 506.771 Q193.45 503.206 193.45 496.1 Q193.45 488.97 191.621 485.429 Q189.815 481.864 186.181 481.864 M186.181 478.16 Q191.991 478.16 195.047 482.767 Q198.125 487.35 198.125 496.1 Q198.125 504.827 195.047 509.433 Q191.991 514.016 186.181 514.016 Q180.371 514.016 177.292 509.433 Q174.237 504.827 174.237 496.1 Q174.237 487.35 177.292 482.767 Q180.371 478.16 186.181 478.16 Z\" fill=\"#000000\" fill-rule=\"evenodd\" fill-opacity=\"1\" /><path clip-path=\"url(#clip320)\" d=\"M119.885 337.118 L136.204 337.118 L136.204 341.053 L114.26 341.053 L114.26 337.118 Q116.922 334.363 121.505 329.734 Q126.112 325.081 127.292 323.738 Q129.538 321.215 130.417 319.479 Q131.32 317.72 131.32 316.03 Q131.32 313.275 129.376 311.539 Q127.455 309.803 124.353 309.803 Q122.154 309.803 119.7 310.567 Q117.269 311.331 114.492 312.882 L114.492 308.16 Q117.316 307.025 119.769 306.447 Q122.223 305.868 124.26 305.868 Q129.63 305.868 132.825 308.553 Q136.019 311.238 136.019 315.729 Q136.019 317.859 135.209 319.78 Q134.422 321.678 132.316 324.271 Q131.737 324.942 128.635 328.16 Q125.533 331.354 119.885 337.118 Z\" fill=\"#000000\" fill-rule=\"evenodd\" fill-opacity=\"1\" /><path clip-path=\"url(#clip320)\" d=\"M156.019 309.572 Q152.408 309.572 150.579 313.136 Q148.774 316.678 148.774 323.808 Q148.774 330.914 150.579 334.479 Q152.408 338.021 156.019 338.021 Q159.653 338.021 161.459 334.479 Q163.288 330.914 163.288 323.808 Q163.288 316.678 161.459 313.136 Q159.653 309.572 156.019 309.572 M156.019 305.868 Q161.829 305.868 164.885 310.474 Q167.964 315.058 167.964 323.808 Q167.964 332.534 164.885 337.141 Q161.829 341.724 156.019 341.724 Q150.209 341.724 147.13 337.141 Q144.075 332.534 144.075 323.808 Q144.075 315.058 147.13 310.474 Q150.209 305.868 156.019 305.868 Z\" fill=\"#000000\" fill-rule=\"evenodd\" fill-opacity=\"1\" /><path clip-path=\"url(#clip320)\" d=\"M186.181 309.572 Q182.57 309.572 180.741 313.136 Q178.936 316.678 178.936 323.808 Q178.936 330.914 180.741 334.479 Q182.57 338.021 186.181 338.021 Q189.815 338.021 191.621 334.479 Q193.45 330.914 193.45 323.808 Q193.45 316.678 191.621 313.136 Q189.815 309.572 186.181 309.572 M186.181 305.868 Q191.991 305.868 195.047 310.474 Q198.125 315.058 198.125 323.808 Q198.125 332.534 195.047 337.141 Q191.991 341.724 186.181 341.724 Q180.371 341.724 177.292 337.141 Q174.237 332.534 174.237 323.808 Q174.237 315.058 177.292 310.474 Q180.371 305.868 186.181 305.868 Z\" fill=\"#000000\" fill-rule=\"evenodd\" fill-opacity=\"1\" /><path clip-path=\"url(#clip320)\" d=\"M130.024 150.127 Q133.38 150.844 135.255 153.113 Q137.154 155.381 137.154 158.715 Q137.154 163.83 133.635 166.631 Q130.117 169.432 123.635 169.432 Q121.459 169.432 119.144 168.992 Q116.853 168.576 114.399 167.719 L114.399 163.205 Q116.343 164.34 118.658 164.918 Q120.973 165.497 123.496 165.497 Q127.894 165.497 130.186 163.761 Q132.501 162.025 132.501 158.715 Q132.501 155.659 130.348 153.946 Q128.218 152.21 124.399 152.21 L120.371 152.21 L120.371 148.367 L124.584 148.367 Q128.033 148.367 129.862 147.002 Q131.691 145.613 131.691 143.02 Q131.691 140.358 129.792 138.946 Q127.917 137.511 124.399 137.511 Q122.478 137.511 120.279 137.928 Q118.08 138.344 115.441 139.224 L115.441 135.057 Q118.103 134.317 120.418 133.946 Q122.755 133.576 124.816 133.576 Q130.14 133.576 133.242 136.006 Q136.343 138.414 136.343 142.534 Q136.343 145.404 134.7 147.395 Q133.056 149.363 130.024 150.127 Z\" fill=\"#000000\" fill-rule=\"evenodd\" fill-opacity=\"1\" /><path clip-path=\"url(#clip320)\" d=\"M156.019 137.28 Q152.408 137.28 150.579 140.844 Q148.774 144.386 148.774 151.516 Q148.774 158.622 150.579 162.187 Q152.408 165.728 156.019 165.728 Q159.653 165.728 161.459 162.187 Q163.288 158.622 163.288 151.516 Q163.288 144.386 161.459 140.844 Q159.653 137.28 156.019 137.28 M156.019 133.576 Q161.829 133.576 164.885 138.182 Q167.964 142.766 167.964 151.516 Q167.964 160.242 164.885 164.849 Q161.829 169.432 156.019 169.432 Q150.209 169.432 147.13 164.849 Q144.075 160.242 144.075 151.516 Q144.075 142.766 147.13 138.182 Q150.209 133.576 156.019 133.576 Z\" fill=\"#000000\" fill-rule=\"evenodd\" fill-opacity=\"1\" /><path clip-path=\"url(#clip320)\" d=\"M186.181 137.28 Q182.57 137.28 180.741 140.844 Q178.936 144.386 178.936 151.516 Q178.936 158.622 180.741 162.187 Q182.57 165.728 186.181 165.728 Q189.815 165.728 191.621 162.187 Q193.45 158.622 193.45 151.516 Q193.45 144.386 191.621 140.844 Q189.815 137.28 186.181 137.28 M186.181 133.576 Q191.991 133.576 195.047 138.182 Q198.125 142.766 198.125 151.516 Q198.125 160.242 195.047 164.849 Q191.991 169.432 186.181 169.432 Q180.371 169.432 177.292 164.849 Q174.237 160.242 174.237 151.516 Q174.237 142.766 177.292 138.182 Q180.371 133.576 186.181 133.576 Z\" fill=\"#000000\" fill-rule=\"evenodd\" fill-opacity=\"1\" /><path clip-path=\"url(#clip320)\" d=\"M20.9241 418.96 Q21.536 418.96 22.0513 419.089 L33.5165 420.893 Q34.3861 420.989 34.7082 421.182 Q35.0302 421.343 35.0302 421.859 Q35.0302 422.664 34.1929 422.664 Q33.7098 422.664 32.9368 422.471 Q29.2976 421.923 27.6551 421.923 Q26.5601 421.923 25.7549 422.149 Q24.9176 422.342 24.3379 422.664 Q23.7582 422.954 23.3717 423.63 Q22.9852 424.306 22.7598 424.951 Q22.5343 425.595 22.4377 426.754 Q22.3089 427.913 22.2767 428.912 Q22.2445 429.91 22.2445 431.553 Q22.2445 435.128 22.3733 435.707 Q22.5343 436.319 23.0174 436.641 Q23.4683 436.931 24.821 437.253 L59.8287 446.013 L61.2136 446.271 Q61.9865 446.271 62.2442 445.788 Q62.5018 445.305 62.6628 443.823 Q62.8239 441.698 62.8239 439.604 Q62.8239 439.54 62.8239 439.411 Q62.8239 438.702 62.8561 438.413 Q62.8561 438.123 62.9205 437.833 Q62.9849 437.543 63.1459 437.479 Q63.2748 437.382 63.5324 437.382 Q64.1443 437.382 64.4664 437.64 Q64.7562 437.897 64.8206 438.155 Q64.8528 438.38 64.8528 438.831 Q64.8528 439.733 64.7884 441.665 Q64.724 443.598 64.724 444.564 L64.6596 450.039 L64.724 455.643 Q64.724 456.512 64.7884 458.348 Q64.8528 460.184 64.8528 461.053 Q64.8528 462.18 64.0477 462.18 Q63.1459 462.18 62.9849 461.762 Q62.8239 461.311 62.8239 459.411 Q62.8239 456.738 62.6951 455.288 Q62.5662 453.839 62.1153 453.066 Q61.6645 452.261 61.2136 452.036 Q60.7305 451.81 59.6355 451.553 L24.4345 442.696 Q23.6615 442.438 23.0496 442.438 Q22.7276 442.438 22.5988 442.535 Q22.4699 442.599 22.3733 443.018 Q22.2445 443.437 22.2445 444.306 L22.2445 446.883 Q22.2445 449.524 22.3733 451.166 Q22.4699 452.776 22.953 454.322 Q23.4361 455.836 24.1124 456.738 Q24.7888 457.607 26.1736 458.573 Q27.5585 459.54 29.2332 460.248 Q30.9079 460.924 33.6454 461.891 Q34.5471 462.213 34.8048 462.406 Q35.0302 462.567 35.0302 463.018 Q35.0302 463.34 34.837 463.598 Q34.6115 463.823 34.3217 463.823 Q33.2589 463.501 33.1301 463.437 L21.5038 459.475 Q20.5698 459.153 20.4088 458.863 Q20.2155 458.541 20.2155 457.35 L20.2155 420.764 Q20.2155 420.184 20.2155 419.991 Q20.2155 419.798 20.2799 419.476 Q20.3443 419.153 20.5054 419.057 Q20.6664 418.96 20.9241 418.96 Z\" fill=\"#000000\" fill-rule=\"evenodd\" fill-opacity=\"1\" /><path clip-path=\"url(#clip320)\" d=\"M65.7254 393.559 Q66.9202 393.559 67.6867 394.348 Q68.4532 395.115 68.4532 396.107 Q68.4532 396.963 67.9572 397.414 Q67.4613 397.865 66.83 397.865 Q65.9283 397.865 65.1843 397.166 Q64.4403 396.468 64.2825 395.453 Q63.7415 396.197 63.7415 397.392 Q63.7415 399.353 65.2519 401.089 Q65.9508 401.856 67.2358 402.69 Q68.4983 403.524 69.0393 403.682 L75.0586 405.147 Q75.7349 405.282 78.9813 406.116 Q82.2051 406.928 82.3404 406.996 Q82.9716 407.221 83.3098 407.717 Q83.6479 408.213 83.6479 408.709 Q83.6479 409.273 83.3098 409.656 Q82.9716 410.039 82.3855 410.039 Q82.2953 410.039 81.9571 409.971 Q81.619 409.904 81.1455 409.791 Q80.6721 409.678 80.4016 409.633 L69.7382 406.951 Q67.7994 406.455 67.1907 406.342 Q66.5595 406.207 65.8606 406.207 Q64.6432 406.207 64.1924 406.59 Q63.7415 406.973 63.7415 407.649 Q63.7415 408.822 65.1392 409.588 Q66.5369 410.355 69.2422 411.008 Q69.9862 411.211 70.144 411.347 Q70.3018 411.459 70.3018 411.798 Q70.2793 412.361 69.8284 412.361 Q69.7157 412.361 68.9943 412.181 Q68.2503 412 67.1682 411.662 Q66.0635 411.302 65.3647 410.918 Q64.8912 410.693 64.5756 410.49 Q64.26 410.287 63.764 409.881 Q63.2681 409.475 62.9975 408.867 Q62.727 408.258 62.727 407.514 Q62.727 405.891 63.7189 404.741 Q64.7109 403.569 66.2664 403.298 Q65.4548 402.735 64.756 402.036 Q64.0346 401.337 63.3808 400.052 Q62.727 398.767 62.727 397.392 Q62.727 395.678 63.6062 394.619 Q64.4629 393.559 65.7254 393.559 Z\" fill=\"#000000\" fill-rule=\"evenodd\" fill-opacity=\"1\" /><path clip-path=\"url(#clip320)\" d=\"M56.7754 388.61 L55.3325 388.61 Q55.3325 383.064 52.3793 380.201 Q52.3793 379.412 52.5596 379.277 Q52.74 379.141 53.5741 379.141 L79.4773 379.141 Q80.8525 379.141 81.2808 378.465 Q81.7091 377.789 81.7091 374.835 L81.7091 373.37 L83.1294 373.37 Q82.9941 374.993 82.9941 380.855 Q82.9941 386.716 83.1294 388.317 L81.7091 388.317 L81.7091 386.851 Q81.7091 383.943 81.3033 383.244 Q80.875 382.546 79.4773 382.546 L55.558 382.546 Q56.7754 384.958 56.7754 388.61 Z\" fill=\"#000000\" fill-rule=\"evenodd\" fill-opacity=\"1\" /><path clip-path=\"url(#clip320)\" d=\"M81.3422 358.705 L15.3846 358.705 L15.3846 348.753 L16.8983 348.753 L16.8983 354.293 L79.8286 354.293 L79.8286 348.753 L81.3422 348.753 L81.3422 358.705 Z\" fill=\"#000000\" fill-rule=\"evenodd\" fill-opacity=\"1\" /><path clip-path=\"url(#clip320)\" d=\"M20.5376 290.228 Q20.9563 290.228 21.2461 290.325 Q21.5038 290.421 21.6326 290.647 Q21.7614 290.872 21.7936 291.001 Q21.8258 291.13 21.858 291.42 Q21.9868 292.804 22.2123 293.771 Q22.4377 294.705 23.5971 297.023 Q24.7565 299.31 26.8499 302.176 L35.771 313.706 L37.2846 315.638 Q37.3812 315.638 37.5745 315.574 Q37.7355 315.51 37.961 315.445 Q38.1542 315.349 38.2186 315.316 L59.8287 305.944 Q61.5678 305.204 62.1798 304.302 Q62.7917 303.4 62.8239 301.371 Q62.8239 301.049 62.8561 300.92 Q62.8561 300.759 62.9205 300.534 Q62.9527 300.276 63.1137 300.18 Q63.2748 300.051 63.5324 300.051 Q64.8528 300.051 64.8528 301.242 Q64.8528 301.983 64.7562 304.495 Q64.6596 307.007 64.6596 307.716 Q64.6596 309.036 64.7562 311.742 Q64.8528 314.447 64.8528 315.767 Q64.8528 316.701 64.1121 316.701 Q63.5002 316.701 63.2103 316.476 Q62.8883 316.218 62.8561 315.993 Q62.8239 315.767 62.8239 315.252 Q62.8239 314.865 62.7917 314.447 Q62.7273 313.996 62.5662 313.352 Q62.373 312.675 61.9221 312.257 Q61.439 311.806 60.7627 311.806 Q60.2152 311.806 58.4439 312.611 L40.6984 320.244 L48.3634 330.067 L58.7337 332.708 Q59.1202 332.772 59.7965 332.933 Q60.4728 333.094 60.9559 333.223 Q61.439 333.319 61.6323 333.319 Q62.0509 333.319 62.3086 333.062 Q62.5662 332.772 62.6951 332.063 Q62.7917 331.355 62.8239 330.807 Q62.8239 330.228 62.8239 329.036 Q62.8239 327.555 63.0815 327.297 Q63.2426 327.168 63.5324 327.168 Q63.9833 327.168 64.3053 327.297 Q64.5952 327.426 64.6918 327.683 Q64.7884 327.909 64.8206 328.07 Q64.8528 328.231 64.8528 328.489 Q64.8528 329.165 64.7884 330.614 Q64.724 332.031 64.724 332.772 L64.6596 336.991 L64.8528 345.364 Q64.8528 346.363 64.0477 346.363 Q63.4358 346.363 63.1781 346.105 Q62.8883 345.848 62.8561 345.558 Q62.8239 345.268 62.8239 344.527 Q62.8239 342.917 62.7273 341.951 Q62.6306 340.984 62.5018 340.373 Q62.3408 339.728 61.8899 339.406 Q61.439 339.052 61.0526 338.891 Q60.6339 338.73 59.6999 338.505 L24.2735 329.68 Q23.2107 329.423 23.0496 329.423 Q22.5021 329.423 22.3089 329.745 Q22.0835 330.034 21.9868 330.872 Q21.858 332.482 21.858 333.706 Q21.858 334.511 21.8258 334.833 Q21.7936 335.123 21.6326 335.381 Q21.4393 335.606 21.0529 335.606 Q19.7968 335.606 19.7968 334.286 L19.9901 325.783 L19.7968 317.345 Q19.7968 316.411 20.5376 316.411 Q21.4715 316.411 21.6648 316.862 Q21.858 317.281 21.858 318.666 Q21.858 321.081 22.1801 322.176 Q22.4699 323.239 22.9852 323.561 Q23.4683 323.851 24.8854 324.205 L46.0446 329.487 L26.2702 303.754 Q24.2735 301.371 23.2429 301.371 Q22.5665 301.371 22.2767 301.854 Q21.9546 302.305 21.858 303.432 Q21.7292 304.238 21.1173 304.238 Q20.5054 304.238 20.2155 304.012 Q19.8935 303.754 19.8613 303.561 Q19.7968 303.336 19.7968 302.982 Q19.7968 301.79 19.8935 299.31 Q19.9901 296.83 19.9901 295.639 Q19.9901 294.833 19.8935 293.255 Q19.7968 291.677 19.7968 290.969 Q19.7968 290.614 20.0545 290.421 Q20.2799 290.228 20.5376 290.228 Z\" fill=\"#000000\" fill-rule=\"evenodd\" fill-opacity=\"1\" /><path clip-path=\"url(#clip320)\" d=\"M79.8286 288.019 L79.8286 282.48 L16.8983 282.48 L16.8983 288.019 L15.3846 288.019 L15.3846 278.068 L81.3422 278.068 L81.3422 288.019 L79.8286 288.019 Z\" fill=\"#000000\" fill-rule=\"evenodd\" fill-opacity=\"1\" /><polyline clip-path=\"url(#clip322)\" style=\"stroke:#000000; stroke-linecap:round; stroke-linejoin:round; stroke-width:4; stroke-opacity:1; fill:none\" stroke-dasharray=\"2, 4\" points=\"294.087,65.3348 345.336,65.3348 396.585,65.3348 447.833,65.3348 499.082,65.3348 550.331,65.3348 601.58,65.3348 652.829,65.3348 704.078,65.3348 755.327,65.3348 806.576,65.3348 857.825,65.3348 909.074,65.3348 960.323,65.3348 1011.57,65.3348 1062.82,65.3348 1114.07,65.3348 1165.32,65.3348 1216.57,65.3348 1267.82,65.3348 1319.07,65.3348 1370.31,65.3348 1421.56,65.3348 1472.81,65.3348 1524.06,65.3348 1575.31,65.3348 1626.56,65.3348 1677.81,65.3348 1729.06,65.3348 1780.31,65.3348 1831.55,65.3348 1882.8,65.3348 1934.05,65.3348 1985.3,65.3348 2036.55,65.3348 2087.8,65.3348 2139.05,65.3348 2190.3,65.3348 2241.55,65.3348 2292.79,65.3348 \"/>\n",
       "<polyline clip-path=\"url(#clip322)\" style=\"stroke:#ff0000; stroke-linecap:round; stroke-linejoin:round; stroke-width:12; stroke-opacity:0.3; fill:none\" points=\"294.087,79.5978 345.336,668.357 396.585,668.357 447.833,668.357 499.082,668.357 550.331,668.357 601.58,668.357 652.829,668.357 704.078,668.357 755.327,668.357 806.576,668.357 857.825,668.357 909.074,668.357 960.323,668.357 1011.57,668.357 1062.82,668.357 1114.07,668.357 1165.32,668.357 1216.57,668.357 1267.82,668.357 1319.07,668.357 1370.31,668.357 1421.56,668.357 1472.81,668.357 1524.06,668.357 1575.31,668.357 1626.56,668.357 1677.81,668.357 1729.06,668.357 1780.31,668.357 1831.55,668.357 1882.8,668.357 1934.05,668.357 1985.3,668.357 2036.55,668.357 2087.8,668.357 2139.05,668.357 2190.3,668.357 2241.55,668.357 2292.79,668.357 \"/>\n",
       "<polyline clip-path=\"url(#clip322)\" style=\"stroke:#0000ff; stroke-linecap:round; stroke-linejoin:round; stroke-width:12; stroke-opacity:0.3; fill:none\" points=\"294.087,668.357 345.336,668.357 396.585,668.357 447.833,668.357 499.082,668.357 550.331,668.357 601.58,668.357 652.829,668.357 704.078,668.357 755.327,668.357 806.576,668.357 857.825,668.357 909.074,668.357 960.323,668.357 1011.57,668.357 1062.82,668.357 1114.07,668.357 1165.32,668.357 1216.57,668.357 1267.82,668.357 1319.07,668.357 1370.31,668.357 1421.56,668.357 1472.81,668.357 1524.06,668.357 1575.31,668.357 1626.56,668.357 1677.81,668.357 1729.06,668.357 1780.31,668.357 1831.55,668.357 1882.8,668.357 1934.05,668.357 1985.3,668.357 2036.55,668.357 2087.8,668.357 2139.05,668.357 2190.3,668.357 2241.55,668.357 2292.79,668.357 \"/>\n",
       "<path clip-path=\"url(#clip320)\" d=\"M234.125 1486.45 L2352.76 1486.45 L2352.76 847.244 L234.125 847.244  Z\" fill=\"#ffffff\" fill-rule=\"evenodd\" fill-opacity=\"1\"/>\n",
       "<defs>\n",
       "  <clipPath id=\"clip323\">\n",
       "    <rect x=\"234\" y=\"847\" width=\"2120\" height=\"640\"/>\n",
       "  </clipPath>\n",
       "</defs>\n",
       "<polyline clip-path=\"url(#clip323)\" style=\"stroke:#000000; stroke-linecap:round; stroke-linejoin:round; stroke-width:8; stroke-opacity:0.1; fill:none\" points=\"242.838,1486.45 242.838,847.244 \"/>\n",
       "<polyline clip-path=\"url(#clip323)\" style=\"stroke:#000000; stroke-linecap:round; stroke-linejoin:round; stroke-width:8; stroke-opacity:0.1; fill:none\" points=\"755.327,1486.45 755.327,847.244 \"/>\n",
       "<polyline clip-path=\"url(#clip323)\" style=\"stroke:#000000; stroke-linecap:round; stroke-linejoin:round; stroke-width:8; stroke-opacity:0.1; fill:none\" points=\"1267.82,1486.45 1267.82,847.244 \"/>\n",
       "<polyline clip-path=\"url(#clip323)\" style=\"stroke:#000000; stroke-linecap:round; stroke-linejoin:round; stroke-width:8; stroke-opacity:0.1; fill:none\" points=\"1780.31,1486.45 1780.31,847.244 \"/>\n",
       "<polyline clip-path=\"url(#clip323)\" style=\"stroke:#000000; stroke-linecap:round; stroke-linejoin:round; stroke-width:8; stroke-opacity:0.1; fill:none\" points=\"2292.79,1486.45 2292.79,847.244 \"/>\n",
       "<polyline clip-path=\"url(#clip320)\" style=\"stroke:#000000; stroke-linecap:round; stroke-linejoin:round; stroke-width:4; stroke-opacity:1; fill:none\" points=\"234.125,1486.45 2352.76,1486.45 \"/>\n",
       "<polyline clip-path=\"url(#clip320)\" style=\"stroke:#000000; stroke-linecap:round; stroke-linejoin:round; stroke-width:4; stroke-opacity:1; fill:none\" points=\"242.838,1486.45 242.838,1467.55 \"/>\n",
       "<polyline clip-path=\"url(#clip320)\" style=\"stroke:#000000; stroke-linecap:round; stroke-linejoin:round; stroke-width:4; stroke-opacity:1; fill:none\" points=\"755.327,1486.45 755.327,1467.55 \"/>\n",
       "<polyline clip-path=\"url(#clip320)\" style=\"stroke:#000000; stroke-linecap:round; stroke-linejoin:round; stroke-width:4; stroke-opacity:1; fill:none\" points=\"1267.82,1486.45 1267.82,1467.55 \"/>\n",
       "<polyline clip-path=\"url(#clip320)\" style=\"stroke:#000000; stroke-linecap:round; stroke-linejoin:round; stroke-width:4; stroke-opacity:1; fill:none\" points=\"1780.31,1486.45 1780.31,1467.55 \"/>\n",
       "<polyline clip-path=\"url(#clip320)\" style=\"stroke:#000000; stroke-linecap:round; stroke-linejoin:round; stroke-width:4; stroke-opacity:1; fill:none\" points=\"2292.79,1486.45 2292.79,1467.55 \"/>\n",
       "<path clip-path=\"url(#clip320)\" d=\"M242.838 1517.37 Q239.227 1517.37 237.398 1520.93 Q235.592 1524.47 235.592 1531.6 Q235.592 1538.71 237.398 1542.27 Q239.227 1545.82 242.838 1545.82 Q246.472 1545.82 248.278 1542.27 Q250.106 1538.71 250.106 1531.6 Q250.106 1524.47 248.278 1520.93 Q246.472 1517.37 242.838 1517.37 M242.838 1513.66 Q248.648 1513.66 251.703 1518.27 Q254.782 1522.85 254.782 1531.6 Q254.782 1540.33 251.703 1544.94 Q248.648 1549.52 242.838 1549.52 Q237.028 1549.52 233.949 1544.94 Q230.893 1540.33 230.893 1531.6 Q230.893 1522.85 233.949 1518.27 Q237.028 1513.66 242.838 1513.66 Z\" fill=\"#000000\" fill-rule=\"evenodd\" fill-opacity=\"1\" /><path clip-path=\"url(#clip320)\" d=\"M730.015 1544.91 L737.653 1544.91 L737.653 1518.55 L729.343 1520.21 L729.343 1515.95 L737.607 1514.29 L742.283 1514.29 L742.283 1544.91 L749.922 1544.91 L749.922 1548.85 L730.015 1548.85 L730.015 1544.91 Z\" fill=\"#000000\" fill-rule=\"evenodd\" fill-opacity=\"1\" /><path clip-path=\"url(#clip320)\" d=\"M769.366 1517.37 Q765.755 1517.37 763.926 1520.93 Q762.121 1524.47 762.121 1531.6 Q762.121 1538.71 763.926 1542.27 Q765.755 1545.82 769.366 1545.82 Q773.001 1545.82 774.806 1542.27 Q776.635 1538.71 776.635 1531.6 Q776.635 1524.47 774.806 1520.93 Q773.001 1517.37 769.366 1517.37 M769.366 1513.66 Q775.176 1513.66 778.232 1518.27 Q781.311 1522.85 781.311 1531.6 Q781.311 1540.33 778.232 1544.94 Q775.176 1549.52 769.366 1549.52 Q763.556 1549.52 760.477 1544.94 Q757.422 1540.33 757.422 1531.6 Q757.422 1522.85 760.477 1518.27 Q763.556 1513.66 769.366 1513.66 Z\" fill=\"#000000\" fill-rule=\"evenodd\" fill-opacity=\"1\" /><path clip-path=\"url(#clip320)\" d=\"M1246.59 1544.91 L1262.91 1544.91 L1262.91 1548.85 L1240.96 1548.85 L1240.96 1544.91 Q1243.63 1542.16 1248.21 1537.53 Q1252.82 1532.88 1254 1531.53 Q1256.24 1529.01 1257.12 1527.27 Q1258.02 1525.51 1258.02 1523.82 Q1258.02 1521.07 1256.08 1519.33 Q1254.16 1517.6 1251.06 1517.6 Q1248.86 1517.6 1246.4 1518.36 Q1243.97 1519.13 1241.2 1520.68 L1241.2 1515.95 Q1244.02 1514.82 1246.47 1514.24 Q1248.93 1513.66 1250.96 1513.66 Q1256.33 1513.66 1259.53 1516.35 Q1262.72 1519.03 1262.72 1523.52 Q1262.72 1525.65 1261.91 1527.57 Q1261.13 1529.47 1259.02 1532.07 Q1258.44 1532.74 1255.34 1535.95 Q1252.24 1539.15 1246.59 1544.91 Z\" fill=\"#000000\" fill-rule=\"evenodd\" fill-opacity=\"1\" /><path clip-path=\"url(#clip320)\" d=\"M1282.72 1517.37 Q1279.11 1517.37 1277.28 1520.93 Q1275.48 1524.47 1275.48 1531.6 Q1275.48 1538.71 1277.28 1542.27 Q1279.11 1545.82 1282.72 1545.82 Q1286.36 1545.82 1288.16 1542.27 Q1289.99 1538.71 1289.99 1531.6 Q1289.99 1524.47 1288.16 1520.93 Q1286.36 1517.37 1282.72 1517.37 M1282.72 1513.66 Q1288.53 1513.66 1291.59 1518.27 Q1294.67 1522.85 1294.67 1531.6 Q1294.67 1540.33 1291.59 1544.94 Q1288.53 1549.52 1282.72 1549.52 Q1276.91 1549.52 1273.83 1544.94 Q1270.78 1540.33 1270.78 1531.6 Q1270.78 1522.85 1273.83 1518.27 Q1276.91 1513.66 1282.72 1513.66 Z\" fill=\"#000000\" fill-rule=\"evenodd\" fill-opacity=\"1\" /><path clip-path=\"url(#clip320)\" d=\"M1769.15 1530.21 Q1772.5 1530.93 1774.38 1533.2 Q1776.28 1535.47 1776.28 1538.8 Q1776.28 1543.92 1772.76 1546.72 Q1769.24 1549.52 1762.76 1549.52 Q1760.58 1549.52 1758.27 1549.08 Q1755.98 1548.66 1753.52 1547.81 L1753.52 1543.29 Q1755.47 1544.43 1757.78 1545.01 Q1760.1 1545.58 1762.62 1545.58 Q1767.02 1545.58 1769.31 1543.85 Q1771.62 1542.11 1771.62 1538.8 Q1771.62 1535.75 1769.47 1534.03 Q1767.34 1532.3 1763.52 1532.3 L1759.5 1532.3 L1759.5 1528.45 L1763.71 1528.45 Q1767.16 1528.45 1768.99 1527.09 Q1770.81 1525.7 1770.81 1523.11 Q1770.81 1520.45 1768.92 1519.03 Q1767.04 1517.6 1763.52 1517.6 Q1761.6 1517.6 1759.4 1518.01 Q1757.2 1518.43 1754.56 1519.31 L1754.56 1515.14 Q1757.23 1514.4 1759.54 1514.03 Q1761.88 1513.66 1763.94 1513.66 Q1769.26 1513.66 1772.37 1516.09 Q1775.47 1518.5 1775.47 1522.62 Q1775.47 1525.49 1773.82 1527.48 Q1772.18 1529.45 1769.15 1530.21 Z\" fill=\"#000000\" fill-rule=\"evenodd\" fill-opacity=\"1\" /><path clip-path=\"url(#clip320)\" d=\"M1795.14 1517.37 Q1791.53 1517.37 1789.7 1520.93 Q1787.9 1524.47 1787.9 1531.6 Q1787.9 1538.71 1789.7 1542.27 Q1791.53 1545.82 1795.14 1545.82 Q1798.78 1545.82 1800.58 1542.27 Q1802.41 1538.71 1802.41 1531.6 Q1802.41 1524.47 1800.58 1520.93 Q1798.78 1517.37 1795.14 1517.37 M1795.14 1513.66 Q1800.95 1513.66 1804.01 1518.27 Q1807.09 1522.85 1807.09 1531.6 Q1807.09 1540.33 1804.01 1544.94 Q1800.95 1549.52 1795.14 1549.52 Q1789.33 1549.52 1786.25 1544.94 Q1783.2 1540.33 1783.2 1531.6 Q1783.2 1522.85 1786.25 1518.27 Q1789.33 1513.66 1795.14 1513.66 Z\" fill=\"#000000\" fill-rule=\"evenodd\" fill-opacity=\"1\" /><path clip-path=\"url(#clip320)\" d=\"M2280.97 1518.36 L2269.16 1536.81 L2280.97 1536.81 L2280.97 1518.36 M2279.74 1514.29 L2285.62 1514.29 L2285.62 1536.81 L2290.55 1536.81 L2290.55 1540.7 L2285.62 1540.7 L2285.62 1548.85 L2280.97 1548.85 L2280.97 1540.7 L2265.36 1540.7 L2265.36 1536.19 L2279.74 1514.29 Z\" fill=\"#000000\" fill-rule=\"evenodd\" fill-opacity=\"1\" /><path clip-path=\"url(#clip320)\" d=\"M2308.28 1517.37 Q2304.67 1517.37 2302.84 1520.93 Q2301.04 1524.47 2301.04 1531.6 Q2301.04 1538.71 2302.84 1542.27 Q2304.67 1545.82 2308.28 1545.82 Q2311.91 1545.82 2313.72 1542.27 Q2315.55 1538.71 2315.55 1531.6 Q2315.55 1524.47 2313.72 1520.93 Q2311.91 1517.37 2308.28 1517.37 M2308.28 1513.66 Q2314.09 1513.66 2317.15 1518.27 Q2320.23 1522.85 2320.23 1531.6 Q2320.23 1540.33 2317.15 1544.94 Q2314.09 1549.52 2308.28 1549.52 Q2302.47 1549.52 2299.39 1544.94 Q2296.34 1540.33 2296.34 1531.6 Q2296.34 1522.85 2299.39 1518.27 Q2302.47 1513.66 2308.28 1513.66 Z\" fill=\"#000000\" fill-rule=\"evenodd\" fill-opacity=\"1\" /><polyline clip-path=\"url(#clip323)\" style=\"stroke:#000000; stroke-linecap:round; stroke-linejoin:round; stroke-width:8; stroke-opacity:0.1; fill:none\" points=\"234.125,1468.36 2352.76,1468.36 \"/>\n",
       "<polyline clip-path=\"url(#clip323)\" style=\"stroke:#000000; stroke-linecap:round; stroke-linejoin:round; stroke-width:8; stroke-opacity:0.1; fill:none\" points=\"234.125,1296.07 2352.76,1296.07 \"/>\n",
       "<polyline clip-path=\"url(#clip323)\" style=\"stroke:#000000; stroke-linecap:round; stroke-linejoin:round; stroke-width:8; stroke-opacity:0.1; fill:none\" points=\"234.125,1123.77 2352.76,1123.77 \"/>\n",
       "<polyline clip-path=\"url(#clip323)\" style=\"stroke:#000000; stroke-linecap:round; stroke-linejoin:round; stroke-width:8; stroke-opacity:0.1; fill:none\" points=\"234.125,951.481 2352.76,951.481 \"/>\n",
       "<polyline clip-path=\"url(#clip320)\" style=\"stroke:#000000; stroke-linecap:round; stroke-linejoin:round; stroke-width:4; stroke-opacity:1; fill:none\" points=\"234.125,1486.45 234.125,847.244 \"/>\n",
       "<polyline clip-path=\"url(#clip320)\" style=\"stroke:#000000; stroke-linecap:round; stroke-linejoin:round; stroke-width:4; stroke-opacity:1; fill:none\" points=\"234.125,1468.36 253.023,1468.36 \"/>\n",
       "<polyline clip-path=\"url(#clip320)\" style=\"stroke:#000000; stroke-linecap:round; stroke-linejoin:round; stroke-width:4; stroke-opacity:1; fill:none\" points=\"234.125,1296.07 253.023,1296.07 \"/>\n",
       "<polyline clip-path=\"url(#clip320)\" style=\"stroke:#000000; stroke-linecap:round; stroke-linejoin:round; stroke-width:4; stroke-opacity:1; fill:none\" points=\"234.125,1123.77 253.023,1123.77 \"/>\n",
       "<polyline clip-path=\"url(#clip320)\" style=\"stroke:#000000; stroke-linecap:round; stroke-linejoin:round; stroke-width:4; stroke-opacity:1; fill:none\" points=\"234.125,951.481 253.023,951.481 \"/>\n",
       "<path clip-path=\"url(#clip320)\" d=\"M186.181 1454.16 Q182.57 1454.16 180.741 1457.72 Q178.936 1461.26 178.936 1468.39 Q178.936 1475.5 180.741 1479.06 Q182.57 1482.6 186.181 1482.6 Q189.815 1482.6 191.621 1479.06 Q193.45 1475.5 193.45 1468.39 Q193.45 1461.26 191.621 1457.72 Q189.815 1454.16 186.181 1454.16 M186.181 1450.45 Q191.991 1450.45 195.047 1455.06 Q198.125 1459.64 198.125 1468.39 Q198.125 1477.12 195.047 1481.73 Q191.991 1486.31 186.181 1486.31 Q180.371 1486.31 177.292 1481.73 Q174.237 1477.12 174.237 1468.39 Q174.237 1459.64 177.292 1455.06 Q180.371 1450.45 186.181 1450.45 Z\" fill=\"#000000\" fill-rule=\"evenodd\" fill-opacity=\"1\" /><path clip-path=\"url(#clip320)\" d=\"M116.668 1309.41 L124.306 1309.41 L124.306 1283.04 L115.996 1284.71 L115.996 1280.45 L124.26 1278.79 L128.936 1278.79 L128.936 1309.41 L136.575 1309.41 L136.575 1313.35 L116.668 1313.35 L116.668 1309.41 Z\" fill=\"#000000\" fill-rule=\"evenodd\" fill-opacity=\"1\" /><path clip-path=\"url(#clip320)\" d=\"M156.019 1281.86 Q152.408 1281.86 150.579 1285.43 Q148.774 1288.97 148.774 1296.1 Q148.774 1303.21 150.579 1306.77 Q152.408 1310.31 156.019 1310.31 Q159.653 1310.31 161.459 1306.77 Q163.288 1303.21 163.288 1296.1 Q163.288 1288.97 161.459 1285.43 Q159.653 1281.86 156.019 1281.86 M156.019 1278.16 Q161.829 1278.16 164.885 1282.77 Q167.964 1287.35 167.964 1296.1 Q167.964 1304.83 164.885 1309.43 Q161.829 1314.02 156.019 1314.02 Q150.209 1314.02 147.13 1309.43 Q144.075 1304.83 144.075 1296.1 Q144.075 1287.35 147.13 1282.77 Q150.209 1278.16 156.019 1278.16 Z\" fill=\"#000000\" fill-rule=\"evenodd\" fill-opacity=\"1\" /><path clip-path=\"url(#clip320)\" d=\"M186.181 1281.86 Q182.57 1281.86 180.741 1285.43 Q178.936 1288.97 178.936 1296.1 Q178.936 1303.21 180.741 1306.77 Q182.57 1310.31 186.181 1310.31 Q189.815 1310.31 191.621 1306.77 Q193.45 1303.21 193.45 1296.1 Q193.45 1288.97 191.621 1285.43 Q189.815 1281.86 186.181 1281.86 M186.181 1278.16 Q191.991 1278.16 195.047 1282.77 Q198.125 1287.35 198.125 1296.1 Q198.125 1304.83 195.047 1309.43 Q191.991 1314.02 186.181 1314.02 Q180.371 1314.02 177.292 1309.43 Q174.237 1304.83 174.237 1296.1 Q174.237 1287.35 177.292 1282.77 Q180.371 1278.16 186.181 1278.16 Z\" fill=\"#000000\" fill-rule=\"evenodd\" fill-opacity=\"1\" /><path clip-path=\"url(#clip320)\" d=\"M119.885 1137.12 L136.204 1137.12 L136.204 1141.05 L114.26 1141.05 L114.26 1137.12 Q116.922 1134.36 121.505 1129.73 Q126.112 1125.08 127.292 1123.74 Q129.538 1121.22 130.417 1119.48 Q131.32 1117.72 131.32 1116.03 Q131.32 1113.28 129.376 1111.54 Q127.455 1109.8 124.353 1109.8 Q122.154 1109.8 119.7 1110.57 Q117.269 1111.33 114.492 1112.88 L114.492 1108.16 Q117.316 1107.03 119.769 1106.45 Q122.223 1105.87 124.26 1105.87 Q129.63 1105.87 132.825 1108.55 Q136.019 1111.24 136.019 1115.73 Q136.019 1117.86 135.209 1119.78 Q134.422 1121.68 132.316 1124.27 Q131.737 1124.94 128.635 1128.16 Q125.533 1131.35 119.885 1137.12 Z\" fill=\"#000000\" fill-rule=\"evenodd\" fill-opacity=\"1\" /><path clip-path=\"url(#clip320)\" d=\"M156.019 1109.57 Q152.408 1109.57 150.579 1113.14 Q148.774 1116.68 148.774 1123.81 Q148.774 1130.91 150.579 1134.48 Q152.408 1138.02 156.019 1138.02 Q159.653 1138.02 161.459 1134.48 Q163.288 1130.91 163.288 1123.81 Q163.288 1116.68 161.459 1113.14 Q159.653 1109.57 156.019 1109.57 M156.019 1105.87 Q161.829 1105.87 164.885 1110.47 Q167.964 1115.06 167.964 1123.81 Q167.964 1132.53 164.885 1137.14 Q161.829 1141.72 156.019 1141.72 Q150.209 1141.72 147.13 1137.14 Q144.075 1132.53 144.075 1123.81 Q144.075 1115.06 147.13 1110.47 Q150.209 1105.87 156.019 1105.87 Z\" fill=\"#000000\" fill-rule=\"evenodd\" fill-opacity=\"1\" /><path clip-path=\"url(#clip320)\" d=\"M186.181 1109.57 Q182.57 1109.57 180.741 1113.14 Q178.936 1116.68 178.936 1123.81 Q178.936 1130.91 180.741 1134.48 Q182.57 1138.02 186.181 1138.02 Q189.815 1138.02 191.621 1134.48 Q193.45 1130.91 193.45 1123.81 Q193.45 1116.68 191.621 1113.14 Q189.815 1109.57 186.181 1109.57 M186.181 1105.87 Q191.991 1105.87 195.047 1110.47 Q198.125 1115.06 198.125 1123.81 Q198.125 1132.53 195.047 1137.14 Q191.991 1141.72 186.181 1141.72 Q180.371 1141.72 177.292 1137.14 Q174.237 1132.53 174.237 1123.81 Q174.237 1115.06 177.292 1110.47 Q180.371 1105.87 186.181 1105.87 Z\" fill=\"#000000\" fill-rule=\"evenodd\" fill-opacity=\"1\" /><path clip-path=\"url(#clip320)\" d=\"M130.024 950.127 Q133.38 950.844 135.255 953.113 Q137.154 955.381 137.154 958.715 Q137.154 963.83 133.635 966.631 Q130.117 969.432 123.635 969.432 Q121.459 969.432 119.144 968.992 Q116.853 968.576 114.399 967.719 L114.399 963.205 Q116.343 964.34 118.658 964.918 Q120.973 965.497 123.496 965.497 Q127.894 965.497 130.186 963.761 Q132.501 962.025 132.501 958.715 Q132.501 955.659 130.348 953.946 Q128.218 952.21 124.399 952.21 L120.371 952.21 L120.371 948.367 L124.584 948.367 Q128.033 948.367 129.862 947.002 Q131.691 945.613 131.691 943.02 Q131.691 940.358 129.792 938.946 Q127.917 937.511 124.399 937.511 Q122.478 937.511 120.279 937.928 Q118.08 938.344 115.441 939.224 L115.441 935.057 Q118.103 934.317 120.418 933.946 Q122.755 933.576 124.816 933.576 Q130.14 933.576 133.242 936.006 Q136.343 938.414 136.343 942.534 Q136.343 945.404 134.7 947.395 Q133.056 949.363 130.024 950.127 Z\" fill=\"#000000\" fill-rule=\"evenodd\" fill-opacity=\"1\" /><path clip-path=\"url(#clip320)\" d=\"M156.019 937.28 Q152.408 937.28 150.579 940.844 Q148.774 944.386 148.774 951.516 Q148.774 958.622 150.579 962.187 Q152.408 965.728 156.019 965.728 Q159.653 965.728 161.459 962.187 Q163.288 958.622 163.288 951.516 Q163.288 944.386 161.459 940.844 Q159.653 937.28 156.019 937.28 M156.019 933.576 Q161.829 933.576 164.885 938.182 Q167.964 942.766 167.964 951.516 Q167.964 960.242 164.885 964.849 Q161.829 969.432 156.019 969.432 Q150.209 969.432 147.13 964.849 Q144.075 960.242 144.075 951.516 Q144.075 942.766 147.13 938.182 Q150.209 933.576 156.019 933.576 Z\" fill=\"#000000\" fill-rule=\"evenodd\" fill-opacity=\"1\" /><path clip-path=\"url(#clip320)\" d=\"M186.181 937.28 Q182.57 937.28 180.741 940.844 Q178.936 944.386 178.936 951.516 Q178.936 958.622 180.741 962.187 Q182.57 965.728 186.181 965.728 Q189.815 965.728 191.621 962.187 Q193.45 958.622 193.45 951.516 Q193.45 944.386 191.621 940.844 Q189.815 937.28 186.181 937.28 M186.181 933.576 Q191.991 933.576 195.047 938.182 Q198.125 942.766 198.125 951.516 Q198.125 960.242 195.047 964.849 Q191.991 969.432 186.181 969.432 Q180.371 969.432 177.292 964.849 Q174.237 960.242 174.237 951.516 Q174.237 942.766 177.292 938.182 Q180.371 933.576 186.181 933.576 Z\" fill=\"#000000\" fill-rule=\"evenodd\" fill-opacity=\"1\" /><path clip-path=\"url(#clip320)\" d=\"M20.9241 1218.96 Q21.536 1218.96 22.0513 1219.09 L33.5165 1220.89 Q34.3861 1220.99 34.7082 1221.18 Q35.0302 1221.34 35.0302 1221.86 Q35.0302 1222.66 34.1929 1222.66 Q33.7098 1222.66 32.9368 1222.47 Q29.2976 1221.92 27.6551 1221.92 Q26.5601 1221.92 25.7549 1222.15 Q24.9176 1222.34 24.3379 1222.66 Q23.7582 1222.95 23.3717 1223.63 Q22.9852 1224.31 22.7598 1224.95 Q22.5343 1225.59 22.4377 1226.75 Q22.3089 1227.91 22.2767 1228.91 Q22.2445 1229.91 22.2445 1231.55 Q22.2445 1235.13 22.3733 1235.71 Q22.5343 1236.32 23.0174 1236.64 Q23.4683 1236.93 24.821 1237.25 L59.8287 1246.01 L61.2136 1246.27 Q61.9865 1246.27 62.2442 1245.79 Q62.5018 1245.3 62.6628 1243.82 Q62.8239 1241.7 62.8239 1239.6 Q62.8239 1239.54 62.8239 1239.41 Q62.8239 1238.7 62.8561 1238.41 Q62.8561 1238.12 62.9205 1237.83 Q62.9849 1237.54 63.1459 1237.48 Q63.2748 1237.38 63.5324 1237.38 Q64.1443 1237.38 64.4664 1237.64 Q64.7562 1237.9 64.8206 1238.15 Q64.8528 1238.38 64.8528 1238.83 Q64.8528 1239.73 64.7884 1241.67 Q64.724 1243.6 64.724 1244.56 L64.6596 1250.04 L64.724 1255.64 Q64.724 1256.51 64.7884 1258.35 Q64.8528 1260.18 64.8528 1261.05 Q64.8528 1262.18 64.0477 1262.18 Q63.1459 1262.18 62.9849 1261.76 Q62.8239 1261.31 62.8239 1259.41 Q62.8239 1256.74 62.6951 1255.29 Q62.5662 1253.84 62.1153 1253.07 Q61.6645 1252.26 61.2136 1252.04 Q60.7305 1251.81 59.6355 1251.55 L24.4345 1242.7 Q23.6615 1242.44 23.0496 1242.44 Q22.7276 1242.44 22.5988 1242.53 Q22.4699 1242.6 22.3733 1243.02 Q22.2445 1243.44 22.2445 1244.31 L22.2445 1246.88 Q22.2445 1249.52 22.3733 1251.17 Q22.4699 1252.78 22.953 1254.32 Q23.4361 1255.84 24.1124 1256.74 Q24.7888 1257.61 26.1736 1258.57 Q27.5585 1259.54 29.2332 1260.25 Q30.9079 1260.92 33.6454 1261.89 Q34.5471 1262.21 34.8048 1262.41 Q35.0302 1262.57 35.0302 1263.02 Q35.0302 1263.34 34.837 1263.6 Q34.6115 1263.82 34.3217 1263.82 Q33.2589 1263.5 33.1301 1263.44 L21.5038 1259.48 Q20.5698 1259.15 20.4088 1258.86 Q20.2155 1258.54 20.2155 1257.35 L20.2155 1220.76 Q20.2155 1220.18 20.2155 1219.99 Q20.2155 1219.8 20.2799 1219.48 Q20.3443 1219.15 20.5054 1219.06 Q20.6664 1218.96 20.9241 1218.96 Z\" fill=\"#000000\" fill-rule=\"evenodd\" fill-opacity=\"1\" /><path clip-path=\"url(#clip320)\" d=\"M65.7254 1193.56 Q66.9202 1193.56 67.6867 1194.35 Q68.4532 1195.11 68.4532 1196.11 Q68.4532 1196.96 67.9572 1197.41 Q67.4613 1197.87 66.83 1197.87 Q65.9283 1197.87 65.1843 1197.17 Q64.4403 1196.47 64.2825 1195.45 Q63.7415 1196.2 63.7415 1197.39 Q63.7415 1199.35 65.2519 1201.09 Q65.9508 1201.86 67.2358 1202.69 Q68.4983 1203.52 69.0393 1203.68 L75.0586 1205.15 Q75.7349 1205.28 78.9813 1206.12 Q82.2051 1206.93 82.3404 1207 Q82.9716 1207.22 83.3098 1207.72 Q83.6479 1208.21 83.6479 1208.71 Q83.6479 1209.27 83.3098 1209.66 Q82.9716 1210.04 82.3855 1210.04 Q82.2953 1210.04 81.9571 1209.97 Q81.619 1209.9 81.1455 1209.79 Q80.6721 1209.68 80.4016 1209.63 L69.7382 1206.95 Q67.7994 1206.45 67.1907 1206.34 Q66.5595 1206.21 65.8606 1206.21 Q64.6432 1206.21 64.1924 1206.59 Q63.7415 1206.97 63.7415 1207.65 Q63.7415 1208.82 65.1392 1209.59 Q66.5369 1210.35 69.2422 1211.01 Q69.9862 1211.21 70.144 1211.35 Q70.3018 1211.46 70.3018 1211.8 Q70.2793 1212.36 69.8284 1212.36 Q69.7157 1212.36 68.9943 1212.18 Q68.2503 1212 67.1682 1211.66 Q66.0635 1211.3 65.3647 1210.92 Q64.8912 1210.69 64.5756 1210.49 Q64.26 1210.29 63.764 1209.88 Q63.2681 1209.48 62.9975 1208.87 Q62.727 1208.26 62.727 1207.51 Q62.727 1205.89 63.7189 1204.74 Q64.7109 1203.57 66.2664 1203.3 Q65.4548 1202.73 64.756 1202.04 Q64.0346 1201.34 63.3808 1200.05 Q62.727 1198.77 62.727 1197.39 Q62.727 1195.68 63.6062 1194.62 Q64.4629 1193.56 65.7254 1193.56 Z\" fill=\"#000000\" fill-rule=\"evenodd\" fill-opacity=\"1\" /><path clip-path=\"url(#clip320)\" d=\"M56.7754 1188.61 L55.3325 1188.61 Q55.3325 1183.06 52.3793 1180.2 Q52.3793 1179.41 52.5596 1179.28 Q52.74 1179.14 53.5741 1179.14 L79.4773 1179.14 Q80.8525 1179.14 81.2808 1178.47 Q81.7091 1177.79 81.7091 1174.84 L81.7091 1173.37 L83.1294 1173.37 Q82.9941 1174.99 82.9941 1180.85 Q82.9941 1186.72 83.1294 1188.32 L81.7091 1188.32 L81.7091 1186.85 Q81.7091 1183.94 81.3033 1183.24 Q80.875 1182.55 79.4773 1182.55 L55.558 1182.55 Q56.7754 1184.96 56.7754 1188.61 Z\" fill=\"#000000\" fill-rule=\"evenodd\" fill-opacity=\"1\" /><path clip-path=\"url(#clip320)\" d=\"M81.3422 1158.71 L15.3846 1158.71 L15.3846 1148.75 L16.8983 1148.75 L16.8983 1154.29 L79.8286 1154.29 L79.8286 1148.75 L81.3422 1148.75 L81.3422 1158.71 Z\" fill=\"#000000\" fill-rule=\"evenodd\" fill-opacity=\"1\" /><path clip-path=\"url(#clip320)\" d=\"M20.5376 1090.23 Q20.9563 1090.23 21.2461 1090.32 Q21.5038 1090.42 21.6326 1090.65 Q21.7614 1090.87 21.7936 1091 Q21.8258 1091.13 21.858 1091.42 Q21.9868 1092.8 22.2123 1093.77 Q22.4377 1094.7 23.5971 1097.02 Q24.7565 1099.31 26.8499 1102.18 L35.771 1113.71 L37.2846 1115.64 Q37.3812 1115.64 37.5745 1115.57 Q37.7355 1115.51 37.961 1115.45 Q38.1542 1115.35 38.2186 1115.32 L59.8287 1105.94 Q61.5678 1105.2 62.1798 1104.3 Q62.7917 1103.4 62.8239 1101.37 Q62.8239 1101.05 62.8561 1100.92 Q62.8561 1100.76 62.9205 1100.53 Q62.9527 1100.28 63.1137 1100.18 Q63.2748 1100.05 63.5324 1100.05 Q64.8528 1100.05 64.8528 1101.24 Q64.8528 1101.98 64.7562 1104.5 Q64.6596 1107.01 64.6596 1107.72 Q64.6596 1109.04 64.7562 1111.74 Q64.8528 1114.45 64.8528 1115.77 Q64.8528 1116.7 64.1121 1116.7 Q63.5002 1116.7 63.2103 1116.48 Q62.8883 1116.22 62.8561 1115.99 Q62.8239 1115.77 62.8239 1115.25 Q62.8239 1114.87 62.7917 1114.45 Q62.7273 1114 62.5662 1113.35 Q62.373 1112.68 61.9221 1112.26 Q61.439 1111.81 60.7627 1111.81 Q60.2152 1111.81 58.4439 1112.61 L40.6984 1120.24 L48.3634 1130.07 L58.7337 1132.71 Q59.1202 1132.77 59.7965 1132.93 Q60.4728 1133.09 60.9559 1133.22 Q61.439 1133.32 61.6323 1133.32 Q62.0509 1133.32 62.3086 1133.06 Q62.5662 1132.77 62.6951 1132.06 Q62.7917 1131.35 62.8239 1130.81 Q62.8239 1130.23 62.8239 1129.04 Q62.8239 1127.55 63.0815 1127.3 Q63.2426 1127.17 63.5324 1127.17 Q63.9833 1127.17 64.3053 1127.3 Q64.5952 1127.43 64.6918 1127.68 Q64.7884 1127.91 64.8206 1128.07 Q64.8528 1128.23 64.8528 1128.49 Q64.8528 1129.16 64.7884 1130.61 Q64.724 1132.03 64.724 1132.77 L64.6596 1136.99 L64.8528 1145.36 Q64.8528 1146.36 64.0477 1146.36 Q63.4358 1146.36 63.1781 1146.11 Q62.8883 1145.85 62.8561 1145.56 Q62.8239 1145.27 62.8239 1144.53 Q62.8239 1142.92 62.7273 1141.95 Q62.6306 1140.98 62.5018 1140.37 Q62.3408 1139.73 61.8899 1139.41 Q61.439 1139.05 61.0526 1138.89 Q60.6339 1138.73 59.6999 1138.5 L24.2735 1129.68 Q23.2107 1129.42 23.0496 1129.42 Q22.5021 1129.42 22.3089 1129.74 Q22.0835 1130.03 21.9868 1130.87 Q21.858 1132.48 21.858 1133.71 Q21.858 1134.51 21.8258 1134.83 Q21.7936 1135.12 21.6326 1135.38 Q21.4393 1135.61 21.0529 1135.61 Q19.7968 1135.61 19.7968 1134.29 L19.9901 1125.78 L19.7968 1117.35 Q19.7968 1116.41 20.5376 1116.41 Q21.4715 1116.41 21.6648 1116.86 Q21.858 1117.28 21.858 1118.67 Q21.858 1121.08 22.1801 1122.18 Q22.4699 1123.24 22.9852 1123.56 Q23.4683 1123.85 24.8854 1124.21 L46.0446 1129.49 L26.2702 1103.75 Q24.2735 1101.37 23.2429 1101.37 Q22.5665 1101.37 22.2767 1101.85 Q21.9546 1102.31 21.858 1103.43 Q21.7292 1104.24 21.1173 1104.24 Q20.5054 1104.24 20.2155 1104.01 Q19.8935 1103.75 19.8613 1103.56 Q19.7968 1103.34 19.7968 1102.98 Q19.7968 1101.79 19.8935 1099.31 Q19.9901 1096.83 19.9901 1095.64 Q19.9901 1094.83 19.8935 1093.26 Q19.7968 1091.68 19.7968 1090.97 Q19.7968 1090.61 20.0545 1090.42 Q20.2799 1090.23 20.5376 1090.23 Z\" fill=\"#000000\" fill-rule=\"evenodd\" fill-opacity=\"1\" /><path clip-path=\"url(#clip320)\" d=\"M79.8286 1088.02 L79.8286 1082.48 L16.8983 1082.48 L16.8983 1088.02 L15.3846 1088.02 L15.3846 1078.07 L81.3422 1078.07 L81.3422 1088.02 L79.8286 1088.02 Z\" fill=\"#000000\" fill-rule=\"evenodd\" fill-opacity=\"1\" /><polyline clip-path=\"url(#clip323)\" style=\"stroke:#000000; stroke-linecap:round; stroke-linejoin:round; stroke-width:4; stroke-opacity:1; fill:none\" stroke-dasharray=\"2, 4\" points=\"294.087,865.335 345.336,865.335 396.585,865.335 447.833,865.335 499.082,865.335 550.331,865.335 601.58,865.335 652.829,865.335 704.078,865.335 755.327,865.335 806.576,865.335 857.825,865.335 909.074,865.335 960.323,865.335 1011.57,865.335 1062.82,865.335 1114.07,865.335 1165.32,865.335 1216.57,865.335 1267.82,865.335 1319.07,865.335 1370.31,865.335 1421.56,865.335 1472.81,865.335 1524.06,865.335 1575.31,865.335 1626.56,865.335 1677.81,865.335 1729.06,865.335 1780.31,865.335 1831.55,865.335 1882.8,865.335 1934.05,865.335 1985.3,865.335 2036.55,865.335 2087.8,865.335 2139.05,865.335 2190.3,865.335 2241.55,865.335 2292.79,865.335 \"/>\n",
       "<polyline clip-path=\"url(#clip323)\" style=\"stroke:#ff0000; stroke-linecap:round; stroke-linejoin:round; stroke-width:12; stroke-opacity:0.3; fill:none\" points=\"294.087,1468.36 345.336,1468.36 396.585,1468.36 447.833,1468.36 499.082,1468.36 550.331,1468.36 601.58,1468.36 652.829,1468.36 704.078,1468.36 755.327,1468.36 806.576,1468.36 857.825,1468.36 909.074,1468.36 960.323,1468.36 1011.57,1468.36 1062.82,1468.36 1114.07,1468.36 1165.32,1468.36 1216.57,1468.36 1267.82,1468.36 1319.07,1468.36 1370.31,1468.36 1421.56,1468.36 1472.81,1468.36 1524.06,1468.36 1575.31,1468.36 1626.56,1468.36 1677.81,1468.36 1729.06,1468.36 1780.31,1468.36 1831.55,1468.36 1882.8,1468.36 1934.05,1468.36 1985.3,1468.36 2036.55,1468.36 2087.8,1468.36 2139.05,1468.36 2190.3,1468.36 2241.55,1468.36 2292.79,1468.36 \"/>\n",
       "<polyline clip-path=\"url(#clip323)\" style=\"stroke:#0000ff; stroke-linecap:round; stroke-linejoin:round; stroke-width:12; stroke-opacity:0.3; fill:none\" points=\"294.087,1468.36 345.336,1468.36 396.585,1468.36 447.833,1468.36 499.082,1468.36 550.331,1468.36 601.58,1468.36 652.829,1468.36 704.078,1468.36 755.327,1468.36 806.576,1468.36 857.825,1468.36 909.074,1468.36 960.323,1468.36 1011.57,1468.36 1062.82,1468.36 1114.07,1468.36 1165.32,1468.36 1216.57,1468.36 1267.82,1468.36 1319.07,1468.36 1370.31,1468.36 1421.56,1468.36 1472.81,1468.36 1524.06,1468.36 1575.31,1468.36 1626.56,1468.36 1677.81,1468.36 1729.06,1468.36 1780.31,1468.36 1831.55,1468.36 1882.8,1468.36 1934.05,1468.36 1985.3,1468.36 2036.55,1468.36 2087.8,1468.36 2139.05,1468.36 2190.3,1468.36 2241.55,1468.36 2292.79,1468.36 \"/>\n",
       "</svg>\n"
      ]
     },
     "metadata": {},
     "output_type": "display_data"
    }
   ],
   "source": [
    "p1 = plot(layout = (num_subplots, 1),fmt = :svg, resolution = (600, 400), latex=true,gridlinewidth=2) \n",
    "\n",
    "# Loop to generate subplots \n",
    "for mm in 1:num_subplots     \n",
    "    # Plot data based on the subplot index \n",
    "    # limits\n",
    "    plot!(subplot=mm,ts,Tr_max*ones(length(ts)),linestyle = :dot,linecolor = :black,label=\"\")\n",
    "     \n",
    "    for nn in 1:n_MC\n",
    "        plot!(subplot=mm,ts,TrPlant[1,:,nn,mm],linewidth=3,linealpha = 0.3,linecolor = CList[nn],legend=false)\n",
    "    end\n",
    "    \n",
    "    # Add labels, titles, or other customizations to each subplot \n",
    "    ylabel!(L\"T_{r1} [K]\") \n",
    "    \n",
    "end \n",
    "\n",
    "# Display the subplots \n",
    "display(p1)"
   ]
  },
  {
   "cell_type": "code",
   "execution_count": 21,
   "id": "2f0ed6c7",
   "metadata": {},
   "outputs": [
    {
     "data": {
      "image/svg+xml": [
       "<?xml version=\"1.0\" encoding=\"utf-8\"?>\n",
       "<svg xmlns=\"http://www.w3.org/2000/svg\" xmlns:xlink=\"http://www.w3.org/1999/xlink\" width=\"600\" height=\"400\" viewBox=\"0 0 2400 1600\">\n",
       "<defs>\n",
       "  <clipPath id=\"clip360\">\n",
       "    <rect x=\"0\" y=\"0\" width=\"2400\" height=\"1600\"/>\n",
       "  </clipPath>\n",
       "</defs>\n",
       "<path clip-path=\"url(#clip360)\" d=\"M0 1600 L2400 1600 L2400 0 L0 0  Z\" fill=\"#ffffff\" fill-rule=\"evenodd\" fill-opacity=\"1\"/>\n",
       "<defs>\n",
       "  <clipPath id=\"clip361\">\n",
       "    <rect x=\"480\" y=\"0\" width=\"1681\" height=\"1600\"/>\n",
       "  </clipPath>\n",
       "</defs>\n",
       "<defs>\n",
       "  <clipPath id=\"clip362\">\n",
       "    <rect x=\"234\" y=\"847\" width=\"2120\" height=\"640\"/>\n",
       "  </clipPath>\n",
       "</defs>\n",
       "<path clip-path=\"url(#clip360)\" d=\"M244.33 686.448 L2352.76 686.448 L2352.76 47.2441 L244.33 47.2441  Z\" fill=\"#ffffff\" fill-rule=\"evenodd\" fill-opacity=\"1\"/>\n",
       "<defs>\n",
       "  <clipPath id=\"clip363\">\n",
       "    <rect x=\"244\" y=\"47\" width=\"2109\" height=\"640\"/>\n",
       "  </clipPath>\n",
       "</defs>\n",
       "<polyline clip-path=\"url(#clip363)\" style=\"stroke:#000000; stroke-linecap:round; stroke-linejoin:round; stroke-width:8; stroke-opacity:0.1; fill:none\" points=\"253,686.448 253,47.2441 \"/>\n",
       "<polyline clip-path=\"url(#clip363)\" style=\"stroke:#000000; stroke-linecap:round; stroke-linejoin:round; stroke-width:8; stroke-opacity:0.1; fill:none\" points=\"763.021,686.448 763.021,47.2441 \"/>\n",
       "<polyline clip-path=\"url(#clip363)\" style=\"stroke:#000000; stroke-linecap:round; stroke-linejoin:round; stroke-width:8; stroke-opacity:0.1; fill:none\" points=\"1273.04,686.448 1273.04,47.2441 \"/>\n",
       "<polyline clip-path=\"url(#clip363)\" style=\"stroke:#000000; stroke-linecap:round; stroke-linejoin:round; stroke-width:8; stroke-opacity:0.1; fill:none\" points=\"1783.06,686.448 1783.06,47.2441 \"/>\n",
       "<polyline clip-path=\"url(#clip363)\" style=\"stroke:#000000; stroke-linecap:round; stroke-linejoin:round; stroke-width:8; stroke-opacity:0.1; fill:none\" points=\"2293.08,686.448 2293.08,47.2441 \"/>\n",
       "<polyline clip-path=\"url(#clip360)\" style=\"stroke:#000000; stroke-linecap:round; stroke-linejoin:round; stroke-width:4; stroke-opacity:1; fill:none\" points=\"244.33,686.448 2352.76,686.448 \"/>\n",
       "<polyline clip-path=\"url(#clip360)\" style=\"stroke:#000000; stroke-linecap:round; stroke-linejoin:round; stroke-width:4; stroke-opacity:1; fill:none\" points=\"253,686.448 253,667.55 \"/>\n",
       "<polyline clip-path=\"url(#clip360)\" style=\"stroke:#000000; stroke-linecap:round; stroke-linejoin:round; stroke-width:4; stroke-opacity:1; fill:none\" points=\"763.021,686.448 763.021,667.55 \"/>\n",
       "<polyline clip-path=\"url(#clip360)\" style=\"stroke:#000000; stroke-linecap:round; stroke-linejoin:round; stroke-width:4; stroke-opacity:1; fill:none\" points=\"1273.04,686.448 1273.04,667.55 \"/>\n",
       "<polyline clip-path=\"url(#clip360)\" style=\"stroke:#000000; stroke-linecap:round; stroke-linejoin:round; stroke-width:4; stroke-opacity:1; fill:none\" points=\"1783.06,686.448 1783.06,667.55 \"/>\n",
       "<polyline clip-path=\"url(#clip360)\" style=\"stroke:#000000; stroke-linecap:round; stroke-linejoin:round; stroke-width:4; stroke-opacity:1; fill:none\" points=\"2293.08,686.448 2293.08,667.55 \"/>\n",
       "<path clip-path=\"url(#clip360)\" d=\"M253 717.367 Q249.389 717.367 247.56 720.931 Q245.755 724.473 245.755 731.603 Q245.755 738.709 247.56 742.274 Q249.389 745.815 253 745.815 Q256.634 745.815 258.44 742.274 Q260.268 738.709 260.268 731.603 Q260.268 724.473 258.44 720.931 Q256.634 717.367 253 717.367 M253 713.663 Q258.81 713.663 261.866 718.269 Q264.944 722.853 264.944 731.603 Q264.944 740.329 261.866 744.936 Q258.81 749.519 253 749.519 Q247.19 749.519 244.111 744.936 Q241.056 740.329 241.056 731.603 Q241.056 722.853 244.111 718.269 Q247.19 713.663 253 713.663 Z\" fill=\"#000000\" fill-rule=\"evenodd\" fill-opacity=\"1\" /><path clip-path=\"url(#clip360)\" d=\"M737.708 744.913 L745.347 744.913 L745.347 718.547 L737.037 720.214 L737.037 715.955 L745.301 714.288 L749.977 714.288 L749.977 744.913 L757.616 744.913 L757.616 748.848 L737.708 748.848 L737.708 744.913 Z\" fill=\"#000000\" fill-rule=\"evenodd\" fill-opacity=\"1\" /><path clip-path=\"url(#clip360)\" d=\"M777.06 717.367 Q773.449 717.367 771.62 720.931 Q769.815 724.473 769.815 731.603 Q769.815 738.709 771.62 742.274 Q773.449 745.815 777.06 745.815 Q780.694 745.815 782.5 742.274 Q784.329 738.709 784.329 731.603 Q784.329 724.473 782.5 720.931 Q780.694 717.367 777.06 717.367 M777.06 713.663 Q782.87 713.663 785.926 718.269 Q789.005 722.853 789.005 731.603 Q789.005 740.329 785.926 744.936 Q782.87 749.519 777.06 749.519 Q771.25 749.519 768.171 744.936 Q765.116 740.329 765.116 731.603 Q765.116 722.853 768.171 718.269 Q771.25 713.663 777.06 713.663 Z\" fill=\"#000000\" fill-rule=\"evenodd\" fill-opacity=\"1\" /><path clip-path=\"url(#clip360)\" d=\"M1251.81 744.913 L1268.13 744.913 L1268.13 748.848 L1246.19 748.848 L1246.19 744.913 Q1248.85 742.158 1253.44 737.528 Q1258.04 732.876 1259.22 731.533 Q1261.47 729.01 1262.35 727.274 Q1263.25 725.515 1263.25 723.825 Q1263.25 721.07 1261.31 719.334 Q1259.38 717.598 1256.28 717.598 Q1254.08 717.598 1251.63 718.362 Q1249.2 719.126 1246.42 720.677 L1246.42 715.955 Q1249.25 714.82 1251.7 714.242 Q1254.15 713.663 1256.19 713.663 Q1261.56 713.663 1264.75 716.348 Q1267.95 719.033 1267.95 723.524 Q1267.95 725.654 1267.14 727.575 Q1266.35 729.473 1264.25 732.066 Q1263.67 732.737 1260.56 735.954 Q1257.46 739.149 1251.81 744.913 Z\" fill=\"#000000\" fill-rule=\"evenodd\" fill-opacity=\"1\" /><path clip-path=\"url(#clip360)\" d=\"M1287.95 717.367 Q1284.34 717.367 1282.51 720.931 Q1280.7 724.473 1280.7 731.603 Q1280.7 738.709 1282.51 742.274 Q1284.34 745.815 1287.95 745.815 Q1291.58 745.815 1293.39 742.274 Q1295.22 738.709 1295.22 731.603 Q1295.22 724.473 1293.39 720.931 Q1291.58 717.367 1287.95 717.367 M1287.95 713.663 Q1293.76 713.663 1296.81 718.269 Q1299.89 722.853 1299.89 731.603 Q1299.89 740.329 1296.81 744.936 Q1293.76 749.519 1287.95 749.519 Q1282.14 749.519 1279.06 744.936 Q1276 740.329 1276 731.603 Q1276 722.853 1279.06 718.269 Q1282.14 713.663 1287.95 713.663 Z\" fill=\"#000000\" fill-rule=\"evenodd\" fill-opacity=\"1\" /><path clip-path=\"url(#clip360)\" d=\"M1771.91 730.214 Q1775.26 730.931 1777.14 733.2 Q1779.03 735.468 1779.03 738.802 Q1779.03 743.917 1775.52 746.718 Q1772 749.519 1765.52 749.519 Q1763.34 749.519 1761.03 749.079 Q1758.73 748.663 1756.28 747.806 L1756.28 743.292 Q1758.22 744.427 1760.54 745.005 Q1762.85 745.584 1765.38 745.584 Q1769.78 745.584 1772.07 743.848 Q1774.38 742.112 1774.38 738.802 Q1774.38 735.746 1772.23 734.033 Q1770.1 732.297 1766.28 732.297 L1762.25 732.297 L1762.25 728.454 L1766.47 728.454 Q1769.91 728.454 1771.74 727.089 Q1773.57 725.7 1773.57 723.107 Q1773.57 720.445 1771.67 719.033 Q1769.8 717.598 1766.28 717.598 Q1764.36 717.598 1762.16 718.015 Q1759.96 718.431 1757.32 719.311 L1757.32 715.144 Q1759.98 714.404 1762.3 714.033 Q1764.64 713.663 1766.7 713.663 Q1772.02 713.663 1775.12 716.093 Q1778.22 718.501 1778.22 722.621 Q1778.22 725.492 1776.58 727.482 Q1774.94 729.45 1771.91 730.214 Z\" fill=\"#000000\" fill-rule=\"evenodd\" fill-opacity=\"1\" /><path clip-path=\"url(#clip360)\" d=\"M1797.9 717.367 Q1794.29 717.367 1792.46 720.931 Q1790.66 724.473 1790.66 731.603 Q1790.66 738.709 1792.46 742.274 Q1794.29 745.815 1797.9 745.815 Q1801.53 745.815 1803.34 742.274 Q1805.17 738.709 1805.17 731.603 Q1805.17 724.473 1803.34 720.931 Q1801.53 717.367 1797.9 717.367 M1797.9 713.663 Q1803.71 713.663 1806.77 718.269 Q1809.84 722.853 1809.84 731.603 Q1809.84 740.329 1806.77 744.936 Q1803.71 749.519 1797.9 749.519 Q1792.09 749.519 1789.01 744.936 Q1785.96 740.329 1785.96 731.603 Q1785.96 722.853 1789.01 718.269 Q1792.09 713.663 1797.9 713.663 Z\" fill=\"#000000\" fill-rule=\"evenodd\" fill-opacity=\"1\" /><path clip-path=\"url(#clip360)\" d=\"M2281.25 718.362 L2269.45 736.811 L2281.25 736.811 L2281.25 718.362 M2280.03 714.288 L2285.91 714.288 L2285.91 736.811 L2290.84 736.811 L2290.84 740.7 L2285.91 740.7 L2285.91 748.848 L2281.25 748.848 L2281.25 740.7 L2265.65 740.7 L2265.65 736.186 L2280.03 714.288 Z\" fill=\"#000000\" fill-rule=\"evenodd\" fill-opacity=\"1\" /><path clip-path=\"url(#clip360)\" d=\"M2308.57 717.367 Q2304.96 717.367 2303.13 720.931 Q2301.32 724.473 2301.32 731.603 Q2301.32 738.709 2303.13 742.274 Q2304.96 745.815 2308.57 745.815 Q2312.2 745.815 2314.01 742.274 Q2315.84 738.709 2315.84 731.603 Q2315.84 724.473 2314.01 720.931 Q2312.2 717.367 2308.57 717.367 M2308.57 713.663 Q2314.38 713.663 2317.44 718.269 Q2320.51 722.853 2320.51 731.603 Q2320.51 740.329 2317.44 744.936 Q2314.38 749.519 2308.57 749.519 Q2302.76 749.519 2299.68 744.936 Q2296.63 740.329 2296.63 731.603 Q2296.63 722.853 2299.68 718.269 Q2302.76 713.663 2308.57 713.663 Z\" fill=\"#000000\" fill-rule=\"evenodd\" fill-opacity=\"1\" /><polyline clip-path=\"url(#clip363)\" style=\"stroke:#000000; stroke-linecap:round; stroke-linejoin:round; stroke-width:8; stroke-opacity:0.1; fill:none\" points=\"244.33,668.357 2352.76,668.357 \"/>\n",
       "<polyline clip-path=\"url(#clip363)\" style=\"stroke:#000000; stroke-linecap:round; stroke-linejoin:round; stroke-width:8; stroke-opacity:0.1; fill:none\" points=\"244.33,500.851 2352.76,500.851 \"/>\n",
       "<polyline clip-path=\"url(#clip363)\" style=\"stroke:#000000; stroke-linecap:round; stroke-linejoin:round; stroke-width:8; stroke-opacity:0.1; fill:none\" points=\"244.33,333.345 2352.76,333.345 \"/>\n",
       "<polyline clip-path=\"url(#clip363)\" style=\"stroke:#000000; stroke-linecap:round; stroke-linejoin:round; stroke-width:8; stroke-opacity:0.1; fill:none\" points=\"244.33,165.839 2352.76,165.839 \"/>\n",
       "<polyline clip-path=\"url(#clip360)\" style=\"stroke:#000000; stroke-linecap:round; stroke-linejoin:round; stroke-width:4; stroke-opacity:1; fill:none\" points=\"244.33,686.448 244.33,47.2441 \"/>\n",
       "<polyline clip-path=\"url(#clip360)\" style=\"stroke:#000000; stroke-linecap:round; stroke-linejoin:round; stroke-width:4; stroke-opacity:1; fill:none\" points=\"244.33,668.357 263.227,668.357 \"/>\n",
       "<polyline clip-path=\"url(#clip360)\" style=\"stroke:#000000; stroke-linecap:round; stroke-linejoin:round; stroke-width:4; stroke-opacity:1; fill:none\" points=\"244.33,500.851 263.227,500.851 \"/>\n",
       "<polyline clip-path=\"url(#clip360)\" style=\"stroke:#000000; stroke-linecap:round; stroke-linejoin:round; stroke-width:4; stroke-opacity:1; fill:none\" points=\"244.33,333.345 263.227,333.345 \"/>\n",
       "<polyline clip-path=\"url(#clip360)\" style=\"stroke:#000000; stroke-linecap:round; stroke-linejoin:round; stroke-width:4; stroke-opacity:1; fill:none\" points=\"244.33,165.839 263.227,165.839 \"/>\n",
       "<path clip-path=\"url(#clip360)\" d=\"M196.385 654.156 Q192.774 654.156 190.945 657.721 Q189.14 661.262 189.14 668.392 Q189.14 675.498 190.945 679.063 Q192.774 682.605 196.385 682.605 Q200.019 682.605 201.825 679.063 Q203.654 675.498 203.654 668.392 Q203.654 661.262 201.825 657.721 Q200.019 654.156 196.385 654.156 M196.385 650.452 Q202.195 650.452 205.251 655.059 Q208.33 659.642 208.33 668.392 Q208.33 677.119 205.251 681.725 Q202.195 686.308 196.385 686.308 Q190.575 686.308 187.496 681.725 Q184.441 677.119 184.441 668.392 Q184.441 659.642 187.496 655.059 Q190.575 650.452 196.385 650.452 Z\" fill=\"#000000\" fill-rule=\"evenodd\" fill-opacity=\"1\" /><path clip-path=\"url(#clip360)\" d=\"M126.872 514.196 L134.511 514.196 L134.511 487.83 L126.2 489.497 L126.2 485.238 L134.464 483.571 L139.14 483.571 L139.14 514.196 L146.779 514.196 L146.779 518.131 L126.872 518.131 L126.872 514.196 Z\" fill=\"#000000\" fill-rule=\"evenodd\" fill-opacity=\"1\" /><path clip-path=\"url(#clip360)\" d=\"M166.223 486.65 Q162.612 486.65 160.784 490.214 Q158.978 493.756 158.978 500.886 Q158.978 507.992 160.784 511.557 Q162.612 515.099 166.223 515.099 Q169.858 515.099 171.663 511.557 Q173.492 507.992 173.492 500.886 Q173.492 493.756 171.663 490.214 Q169.858 486.65 166.223 486.65 M166.223 482.946 Q172.034 482.946 175.089 487.552 Q178.168 492.136 178.168 500.886 Q178.168 509.612 175.089 514.219 Q172.034 518.802 166.223 518.802 Q160.413 518.802 157.335 514.219 Q154.279 509.612 154.279 500.886 Q154.279 492.136 157.335 487.552 Q160.413 482.946 166.223 482.946 Z\" fill=\"#000000\" fill-rule=\"evenodd\" fill-opacity=\"1\" /><path clip-path=\"url(#clip360)\" d=\"M196.385 486.65 Q192.774 486.65 190.945 490.214 Q189.14 493.756 189.14 500.886 Q189.14 507.992 190.945 511.557 Q192.774 515.099 196.385 515.099 Q200.019 515.099 201.825 511.557 Q203.654 507.992 203.654 500.886 Q203.654 493.756 201.825 490.214 Q200.019 486.65 196.385 486.65 M196.385 482.946 Q202.195 482.946 205.251 487.552 Q208.33 492.136 208.33 500.886 Q208.33 509.612 205.251 514.219 Q202.195 518.802 196.385 518.802 Q190.575 518.802 187.496 514.219 Q184.441 509.612 184.441 500.886 Q184.441 492.136 187.496 487.552 Q190.575 482.946 196.385 482.946 Z\" fill=\"#000000\" fill-rule=\"evenodd\" fill-opacity=\"1\" /><path clip-path=\"url(#clip360)\" d=\"M130.089 346.69 L146.409 346.69 L146.409 350.625 L124.464 350.625 L124.464 346.69 Q127.126 343.935 131.71 339.305 Q136.316 334.653 137.497 333.31 Q139.742 330.787 140.622 329.051 Q141.524 327.292 141.524 325.602 Q141.524 322.847 139.58 321.111 Q137.659 319.375 134.557 319.375 Q132.358 319.375 129.904 320.139 Q127.474 320.903 124.696 322.454 L124.696 317.731 Q127.52 316.597 129.974 316.018 Q132.427 315.44 134.464 315.44 Q139.835 315.44 143.029 318.125 Q146.223 320.81 146.223 325.301 Q146.223 327.43 145.413 329.352 Q144.626 331.25 142.52 333.842 Q141.941 334.514 138.839 337.731 Q135.737 340.926 130.089 346.69 Z\" fill=\"#000000\" fill-rule=\"evenodd\" fill-opacity=\"1\" /><path clip-path=\"url(#clip360)\" d=\"M166.223 319.143 Q162.612 319.143 160.784 322.708 Q158.978 326.25 158.978 333.379 Q158.978 340.486 160.784 344.051 Q162.612 347.592 166.223 347.592 Q169.858 347.592 171.663 344.051 Q173.492 340.486 173.492 333.379 Q173.492 326.25 171.663 322.708 Q169.858 319.143 166.223 319.143 M166.223 315.44 Q172.034 315.44 175.089 320.046 Q178.168 324.63 178.168 333.379 Q178.168 342.106 175.089 346.713 Q172.034 351.296 166.223 351.296 Q160.413 351.296 157.335 346.713 Q154.279 342.106 154.279 333.379 Q154.279 324.63 157.335 320.046 Q160.413 315.44 166.223 315.44 Z\" fill=\"#000000\" fill-rule=\"evenodd\" fill-opacity=\"1\" /><path clip-path=\"url(#clip360)\" d=\"M196.385 319.143 Q192.774 319.143 190.945 322.708 Q189.14 326.25 189.14 333.379 Q189.14 340.486 190.945 344.051 Q192.774 347.592 196.385 347.592 Q200.019 347.592 201.825 344.051 Q203.654 340.486 203.654 333.379 Q203.654 326.25 201.825 322.708 Q200.019 319.143 196.385 319.143 M196.385 315.44 Q202.195 315.44 205.251 320.046 Q208.33 324.63 208.33 333.379 Q208.33 342.106 205.251 346.713 Q202.195 351.296 196.385 351.296 Q190.575 351.296 187.496 346.713 Q184.441 342.106 184.441 333.379 Q184.441 324.63 187.496 320.046 Q190.575 315.44 196.385 315.44 Z\" fill=\"#000000\" fill-rule=\"evenodd\" fill-opacity=\"1\" /><path clip-path=\"url(#clip360)\" d=\"M140.228 164.484 Q143.585 165.202 145.46 167.47 Q147.358 169.739 147.358 173.072 Q147.358 178.188 143.839 180.989 Q140.321 183.79 133.839 183.79 Q131.663 183.79 129.349 183.35 Q127.057 182.933 124.603 182.077 L124.603 177.563 Q126.548 178.697 128.862 179.276 Q131.177 179.855 133.7 179.855 Q138.099 179.855 140.39 178.119 Q142.705 176.382 142.705 173.072 Q142.705 170.017 140.552 168.304 Q138.423 166.568 134.603 166.568 L130.575 166.568 L130.575 162.725 L134.788 162.725 Q138.237 162.725 140.066 161.359 Q141.895 159.97 141.895 157.378 Q141.895 154.716 139.997 153.304 Q138.122 151.869 134.603 151.869 Q132.682 151.869 130.483 152.285 Q128.284 152.702 125.645 153.582 L125.645 149.415 Q128.307 148.674 130.622 148.304 Q132.96 147.934 135.02 147.934 Q140.344 147.934 143.446 150.364 Q146.548 152.771 146.548 156.892 Q146.548 159.762 144.904 161.753 Q143.261 163.72 140.228 164.484 Z\" fill=\"#000000\" fill-rule=\"evenodd\" fill-opacity=\"1\" /><path clip-path=\"url(#clip360)\" d=\"M166.223 151.637 Q162.612 151.637 160.784 155.202 Q158.978 158.744 158.978 165.873 Q158.978 172.98 160.784 176.544 Q162.612 180.086 166.223 180.086 Q169.858 180.086 171.663 176.544 Q173.492 172.98 173.492 165.873 Q173.492 158.744 171.663 155.202 Q169.858 151.637 166.223 151.637 M166.223 147.934 Q172.034 147.934 175.089 152.54 Q178.168 157.123 178.168 165.873 Q178.168 174.6 175.089 179.206 Q172.034 183.79 166.223 183.79 Q160.413 183.79 157.335 179.206 Q154.279 174.6 154.279 165.873 Q154.279 157.123 157.335 152.54 Q160.413 147.934 166.223 147.934 Z\" fill=\"#000000\" fill-rule=\"evenodd\" fill-opacity=\"1\" /><path clip-path=\"url(#clip360)\" d=\"M196.385 151.637 Q192.774 151.637 190.945 155.202 Q189.14 158.744 189.14 165.873 Q189.14 172.98 190.945 176.544 Q192.774 180.086 196.385 180.086 Q200.019 180.086 201.825 176.544 Q203.654 172.98 203.654 165.873 Q203.654 158.744 201.825 155.202 Q200.019 151.637 196.385 151.637 M196.385 147.934 Q202.195 147.934 205.251 152.54 Q208.33 157.123 208.33 165.873 Q208.33 174.6 205.251 179.206 Q202.195 183.79 196.385 183.79 Q190.575 183.79 187.496 179.206 Q184.441 174.6 184.441 165.873 Q184.441 157.123 187.496 152.54 Q190.575 147.934 196.385 147.934 Z\" fill=\"#000000\" fill-rule=\"evenodd\" fill-opacity=\"1\" /><path clip-path=\"url(#clip360)\" d=\"M34.4035 425.35 Q35.0154 425.35 35.5307 425.479 L46.996 427.282 Q47.8656 427.379 48.1876 427.572 Q48.5097 427.733 48.5097 428.249 Q48.5097 429.054 47.6723 429.054 Q47.1893 429.054 46.4163 428.861 Q42.7771 428.313 41.1346 428.313 Q40.0396 428.313 39.2344 428.539 Q38.3971 428.732 37.8174 429.054 Q37.2376 429.344 36.8512 430.02 Q36.4647 430.696 36.2393 431.34 Q36.0138 431.985 35.9172 433.144 Q35.7884 434.303 35.7562 435.302 Q35.724 436.3 35.724 437.943 Q35.724 441.517 35.8528 442.097 Q36.0138 442.709 36.4969 443.031 Q36.9478 443.321 38.3004 443.643 L73.3082 452.403 L74.6931 452.661 Q75.466 452.661 75.7236 452.178 Q75.9813 451.695 76.1423 450.213 Q76.3034 448.087 76.3034 445.994 Q76.3034 445.93 76.3034 445.801 Q76.3034 445.092 76.3356 444.802 Q76.3356 444.513 76.4 444.223 Q76.4644 443.933 76.6254 443.868 Q76.7542 443.772 77.0119 443.772 Q77.6238 443.772 77.9459 444.03 Q78.2357 444.287 78.3001 444.545 Q78.3323 444.77 78.3323 445.221 Q78.3323 446.123 78.2679 448.055 Q78.2035 449.988 78.2035 450.954 L78.1391 456.429 L78.2035 462.033 Q78.2035 462.902 78.2679 464.738 Q78.3323 466.574 78.3323 467.443 Q78.3323 468.57 77.5272 468.57 Q76.6254 468.57 76.4644 468.152 Q76.3034 467.701 76.3034 465.801 Q76.3034 463.128 76.1745 461.678 Q76.0457 460.229 75.5948 459.456 Q75.1439 458.651 74.6931 458.426 Q74.21 458.2 73.115 457.942 L37.914 449.086 Q37.141 448.828 36.5291 448.828 Q36.2071 448.828 36.0782 448.925 Q35.9494 448.989 35.8528 449.408 Q35.724 449.827 35.724 450.696 L35.724 453.273 Q35.724 455.913 35.8528 457.556 Q35.9494 459.166 36.4325 460.712 Q36.9156 462.226 37.5919 463.128 Q38.2682 463.997 39.6531 464.963 Q41.0379 465.93 42.7126 466.638 Q44.3873 467.314 47.1248 468.281 Q48.0266 468.603 48.2843 468.796 Q48.5097 468.957 48.5097 469.408 Q48.5097 469.73 48.3165 469.987 Q48.091 470.213 47.8012 470.213 Q46.7384 469.891 46.6096 469.826 L34.9832 465.865 Q34.0493 465.543 33.8882 465.253 Q33.695 464.931 33.695 463.74 L33.695 427.154 Q33.695 426.574 33.695 426.381 Q33.695 426.187 33.7594 425.865 Q33.8238 425.543 33.9849 425.447 Q34.1459 425.35 34.4035 425.35 Z\" fill=\"#000000\" fill-rule=\"evenodd\" fill-opacity=\"1\" /><path clip-path=\"url(#clip360)\" d=\"M79.2048 399.949 Q80.3997 399.949 81.1662 400.738 Q81.9327 401.505 81.9327 402.497 Q81.9327 403.353 81.4367 403.804 Q80.9407 404.255 80.3095 404.255 Q79.4077 404.255 78.6638 403.556 Q77.9198 402.857 77.762 401.843 Q77.221 402.587 77.221 403.782 Q77.221 405.743 78.7314 407.479 Q79.4303 408.245 80.7153 409.08 Q81.9778 409.914 82.5188 410.072 L88.5381 411.537 Q89.2144 411.672 92.4608 412.506 Q95.6846 413.318 95.8198 413.386 Q96.4511 413.611 96.7892 414.107 Q97.1274 414.603 97.1274 415.099 Q97.1274 415.662 96.7892 416.046 Q96.4511 416.429 95.8649 416.429 Q95.7748 416.429 95.4366 416.361 Q95.0984 416.294 94.625 416.181 Q94.1516 416.068 93.8811 416.023 L83.2177 413.34 Q81.2789 412.844 80.6702 412.732 Q80.039 412.596 79.3401 412.596 Q78.1227 412.596 77.6718 412.98 Q77.221 413.363 77.221 414.039 Q77.221 415.212 78.6187 415.978 Q80.0164 416.745 82.7217 417.398 Q83.4657 417.601 83.6235 417.737 Q83.7813 417.849 83.7813 418.187 Q83.7587 418.751 83.3079 418.751 Q83.1951 418.751 82.4737 418.571 Q81.7298 418.39 80.6477 418.052 Q79.543 417.691 78.8441 417.308 Q78.3707 417.083 78.0551 416.88 Q77.7395 416.677 77.2435 416.271 Q76.7475 415.865 76.477 415.257 Q76.2065 414.648 76.2065 413.904 Q76.2065 412.281 77.1984 411.131 Q78.1904 409.959 79.7459 409.688 Q78.9343 409.125 78.2354 408.426 Q77.514 407.727 76.8603 406.442 Q76.2065 405.157 76.2065 403.782 Q76.2065 402.068 77.0857 401.009 Q77.9424 399.949 79.2048 399.949 Z\" fill=\"#000000\" fill-rule=\"evenodd\" fill-opacity=\"1\" /><path clip-path=\"url(#clip360)\" d=\"M70.2548 395 L68.812 395 Q68.812 389.454 65.8587 386.591 Q65.8587 385.802 66.0391 385.667 Q66.2194 385.531 67.0536 385.531 L92.9567 385.531 Q94.3319 385.531 94.7603 384.855 Q95.1886 384.179 95.1886 381.225 L95.1886 379.76 L96.6089 379.76 Q96.4736 381.383 96.4736 387.245 Q96.4736 393.106 96.6089 394.707 L95.1886 394.707 L95.1886 393.241 Q95.1886 390.333 94.7828 389.634 Q94.3545 388.935 92.9567 388.935 L69.0374 388.935 Q70.2548 391.348 70.2548 395 Z\" fill=\"#000000\" fill-rule=\"evenodd\" fill-opacity=\"1\" /><path clip-path=\"url(#clip360)\" d=\"M10.7002 391.36 L20.7999 393.862 Q21.4086 393.998 21.5664 394.11 Q21.7243 394.223 21.7243 394.539 Q21.7243 394.787 21.6115 394.944 Q21.4988 395.08 21.3861 395.08 L21.2734 395.102 Q21.2057 395.102 20.8676 395.057 Q20.5069 395.012 19.9207 394.967 Q19.3346 394.922 18.6808 394.922 Q14.9836 394.922 13.2702 396.725 Q11.5343 398.506 11.5343 401.572 Q11.5343 403.692 12.6615 405.585 Q13.7887 407.479 15.5697 408.561 Q17.3282 409.643 19.1768 409.643 Q20.8676 409.643 21.9497 408.787 Q23.0318 407.93 23.3925 406.825 L24.2267 403.737 Q25.0608 400.49 25.4215 399.566 Q25.7597 398.642 26.5262 397.875 Q28.6453 395.598 31.9367 395.598 Q34.7773 395.598 37.5277 397.199 Q40.2555 398.799 42.0365 401.55 Q43.7949 404.3 43.7949 407.344 Q43.7949 412.687 40.481 415.144 L43.0961 417.398 Q43.592 417.827 43.6822 417.962 Q43.7949 418.075 43.7949 418.232 Q43.7949 418.435 43.6597 418.593 Q43.5469 418.751 43.3441 418.751 Q43.1862 418.751 37.8884 417.421 Q32.5905 416.091 32.4778 415.978 Q32.2974 415.798 32.2974 415.505 Q32.2974 414.964 32.816 414.964 Q32.9512 415.009 33.1316 415.054 Q34.7547 415.324 35.634 415.324 Q37.2797 415.324 38.5422 414.761 Q39.7821 414.197 40.5035 413.363 Q41.2024 412.506 41.6532 411.357 Q42.0816 410.207 42.2394 409.237 Q42.3747 408.268 42.3747 407.254 Q42.3747 405.067 41.1122 403.128 Q39.8497 401.167 37.8884 400.062 Q35.927 398.935 33.8755 398.935 Q32.7934 398.935 31.9593 399.228 Q31.1026 399.521 30.6292 399.927 Q30.1558 400.31 29.795 400.964 Q29.4343 401.617 29.2991 402.068 Q29.1413 402.497 28.9835 403.173 L27.6759 408.11 Q27.0898 410.094 25.3989 411.514 Q23.7081 412.912 21.1156 412.912 Q18.3877 412.912 15.8628 411.311 Q13.3153 409.688 11.7823 407.051 Q10.2268 404.39 10.2268 401.527 Q10.2268 399.273 11.106 397.537 Q11.9627 395.801 13.5633 394.922 L10.9256 392.69 Q10.4071 392.239 10.3169 392.149 Q10.2268 392.036 10.2268 391.878 Q10.2268 391.608 10.3846 391.495 Q10.5424 391.36 10.7002 391.36 Z\" fill=\"#000000\" fill-rule=\"evenodd\" fill-opacity=\"1\" /><path clip-path=\"url(#clip360)\" d=\"M18.2074 355.736 Q20.7323 355.736 23.0544 357.607 Q25.3764 359.456 26.7967 362.477 Q28.1944 365.475 28.1944 368.699 L28.1944 376.544 L39.737 379.407 Q39.8046 379.43 40.0977 379.497 Q40.3682 379.565 40.526 379.565 Q41.0896 379.565 41.2249 378.866 Q41.3602 378.145 41.3602 376.544 Q41.3602 375.507 41.5405 375.349 Q41.6532 375.259 41.8561 375.259 Q42.1718 375.259 42.3972 375.349 Q42.6001 375.439 42.6677 375.62 Q42.7354 375.778 42.7579 375.89 Q42.7804 376.003 42.7804 376.183 Q42.7804 376.657 42.7354 377.671 Q42.6903 378.663 42.6903 379.182 L42.6452 382.135 L42.7804 387.997 Q42.7804 388.695 42.2168 388.695 Q41.7885 388.695 41.6082 388.515 Q41.4053 388.335 41.3827 388.132 Q41.3602 387.929 41.3602 387.41 Q41.3602 386.283 41.2925 385.607 Q41.2249 384.931 41.1347 384.502 Q41.022 384.051 40.7064 383.826 Q40.3908 383.578 40.1202 383.465 Q39.8272 383.352 39.1734 383.195 L14.3749 377.018 Q13.6309 376.837 13.5182 376.837 Q13.135 376.837 12.9997 377.063 Q12.8419 377.266 12.7742 377.852 Q12.6841 378.979 12.6841 379.836 Q12.6841 380.399 12.6615 380.625 Q12.639 380.827 12.5263 381.008 Q12.391 381.166 12.1205 381.166 Q11.6921 381.166 11.5118 380.985 Q11.3089 380.782 11.2863 380.557 Q11.2412 380.332 11.2412 379.79 L11.2412 364.821 Q11.2412 360.515 13.2928 358.126 Q15.3443 355.736 18.2074 355.736 M17.1027 360.019 Q12.6841 360.019 12.6841 366.309 L12.6841 370.728 Q12.6841 372.193 12.9546 372.554 Q13.2026 372.915 14.4425 373.23 L26.9996 376.364 L26.9996 369.849 Q26.9996 365.475 24.5423 362.747 Q23.4151 361.507 21.0705 360.763 Q18.7259 360.019 17.1027 360.019 Z\" fill=\"#000000\" fill-rule=\"evenodd\" fill-opacity=\"1\" /><path clip-path=\"url(#clip360)\" d=\"M94.8217 352.315 L28.8641 352.315 L28.8641 342.364 L30.3778 342.364 L30.3778 347.903 L93.308 347.903 L93.308 342.364 L94.8217 342.364 L94.8217 352.315 Z\" fill=\"#000000\" fill-rule=\"evenodd\" fill-opacity=\"1\" /><path clip-path=\"url(#clip360)\" d=\"M34.0171 283.838 Q34.4357 283.838 34.7256 283.935 Q34.9832 284.031 35.1121 284.257 Q35.2409 284.482 35.2731 284.611 Q35.3053 284.74 35.3375 285.03 Q35.4663 286.415 35.6918 287.381 Q35.9172 288.315 37.0766 290.634 Q38.236 292.92 40.3294 295.786 L49.2504 307.316 L50.7641 309.249 Q50.8607 309.249 51.054 309.184 Q51.215 309.12 51.4404 309.055 Q51.6337 308.959 51.6981 308.926 L73.3082 299.555 Q75.0473 298.814 75.6592 297.912 Q76.2711 297.01 76.3034 294.981 Q76.3034 294.659 76.3356 294.53 Q76.3356 294.369 76.4 294.144 Q76.4322 293.886 76.5932 293.79 Q76.7542 293.661 77.0119 293.661 Q78.3323 293.661 78.3323 294.852 Q78.3323 295.593 78.2357 298.105 Q78.1391 300.617 78.1391 301.326 Q78.1391 302.646 78.2357 305.352 Q78.3323 308.057 78.3323 309.377 Q78.3323 310.311 77.5916 310.311 Q76.9797 310.311 76.6898 310.086 Q76.3678 309.828 76.3356 309.603 Q76.3034 309.377 76.3034 308.862 Q76.3034 308.476 76.2711 308.057 Q76.2067 307.606 76.0457 306.962 Q75.8525 306.286 75.4016 305.867 Q74.9185 305.416 74.2422 305.416 Q73.6947 305.416 71.9234 306.221 L54.1779 313.854 L61.8429 323.677 L72.2132 326.318 Q72.5997 326.382 73.276 326.543 Q73.9523 326.704 74.4354 326.833 Q74.9185 326.93 75.1117 326.93 Q75.5304 326.93 75.7881 326.672 Q76.0457 326.382 76.1745 325.674 Q76.2711 324.965 76.3034 324.417 Q76.3034 323.838 76.3034 322.646 Q76.3034 321.165 76.561 320.907 Q76.722 320.778 77.0119 320.778 Q77.4628 320.778 77.7848 320.907 Q78.0747 321.036 78.1713 321.294 Q78.2679 321.519 78.3001 321.68 Q78.3323 321.841 78.3323 322.099 Q78.3323 322.775 78.2679 324.224 Q78.2035 325.641 78.2035 326.382 L78.1391 330.601 L78.3323 338.975 Q78.3323 339.973 77.5272 339.973 Q76.9153 339.973 76.6576 339.715 Q76.3678 339.458 76.3356 339.168 Q76.3034 338.878 76.3034 338.137 Q76.3034 336.527 76.2067 335.561 Q76.1101 334.595 75.9813 333.983 Q75.8203 333.339 75.3694 333.016 Q74.9185 332.662 74.532 332.501 Q74.1134 332.34 73.1794 332.115 L37.7529 323.29 Q36.6901 323.033 36.5291 323.033 Q35.9816 323.033 35.7884 323.355 Q35.5629 323.645 35.4663 324.482 Q35.3375 326.092 35.3375 327.316 Q35.3375 328.121 35.3053 328.443 Q35.2731 328.733 35.1121 328.991 Q34.9188 329.216 34.5324 329.216 Q33.2763 329.216 33.2763 327.896 L33.4696 319.393 L33.2763 310.955 Q33.2763 310.021 34.0171 310.021 Q34.951 310.021 35.1443 310.472 Q35.3375 310.891 35.3375 312.276 Q35.3375 314.691 35.6596 315.786 Q35.9494 316.849 36.4647 317.171 Q36.9478 317.461 38.3649 317.815 L59.5241 323.097 L39.7497 297.365 Q37.7529 294.981 36.7224 294.981 Q36.046 294.981 35.7562 295.464 Q35.4341 295.915 35.3375 297.042 Q35.2087 297.848 34.5968 297.848 Q33.9849 297.848 33.695 297.622 Q33.3729 297.365 33.3407 297.171 Q33.2763 296.946 33.2763 296.592 Q33.2763 295.4 33.3729 292.92 Q33.4696 290.44 33.4696 289.249 Q33.4696 288.444 33.3729 286.865 Q33.2763 285.287 33.2763 284.579 Q33.2763 284.225 33.534 284.031 Q33.7594 283.838 34.0171 283.838 Z\" fill=\"#000000\" fill-rule=\"evenodd\" fill-opacity=\"1\" /><path clip-path=\"url(#clip360)\" d=\"M93.308 281.629 L93.308 276.09 L30.3778 276.09 L30.3778 281.629 L28.8641 281.629 L28.8641 271.678 L94.8217 271.678 L94.8217 281.629 L93.308 281.629 Z\" fill=\"#000000\" fill-rule=\"evenodd\" fill-opacity=\"1\" /><polyline clip-path=\"url(#clip363)\" style=\"stroke:#000000; stroke-linecap:round; stroke-linejoin:round; stroke-width:4; stroke-opacity:1; fill:none\" stroke-dasharray=\"2, 4\" points=\"304.002,65.3348 355.004,65.3348 406.006,65.3348 457.008,65.3348 508.01,65.3348 559.012,65.3348 610.015,65.3348 661.017,65.3348 712.019,65.3348 763.021,65.3348 814.023,65.3348 865.025,65.3348 916.027,65.3348 967.029,65.3348 1018.03,65.3348 1069.03,65.3348 1120.04,65.3348 1171.04,65.3348 1222.04,65.3348 1273.04,65.3348 1324.04,65.3348 1375.05,65.3348 1426.05,65.3348 1477.05,65.3348 1528.05,65.3348 1579.05,65.3348 1630.06,65.3348 1681.06,65.3348 1732.06,65.3348 1783.06,65.3348 1834.06,65.3348 1885.07,65.3348 1936.07,65.3348 1987.07,65.3348 2038.07,65.3348 2089.08,65.3348 2140.08,65.3348 2191.08,65.3348 2242.08,65.3348 2293.08,65.3348 \"/>\n",
       "<polyline clip-path=\"url(#clip363)\" style=\"stroke:#ff0000; stroke-linecap:round; stroke-linejoin:round; stroke-width:12; stroke-opacity:0.3; fill:none\" points=\"304.002,668.357 355.004,668.357 406.006,668.357 457.008,668.357 508.01,668.357 559.012,668.357 610.015,668.357 661.017,668.357 712.019,668.357 763.021,668.357 814.023,668.357 865.025,668.357 916.027,668.357 967.029,668.357 1018.03,668.357 1069.03,668.357 1120.04,668.357 1171.04,668.357 1222.04,668.357 1273.04,668.357 1324.04,668.357 1375.05,668.357 1426.05,668.357 1477.05,668.357 1528.05,668.357 1579.05,668.357 1630.06,668.357 1681.06,668.357 1732.06,668.357 1783.06,668.357 1834.06,668.357 1885.07,668.357 1936.07,668.357 1987.07,668.357 2038.07,668.357 2089.08,668.357 2140.08,668.357 2191.08,668.357 2242.08,668.357 2293.08,668.357 \"/>\n",
       "<polyline clip-path=\"url(#clip363)\" style=\"stroke:#0000ff; stroke-linecap:round; stroke-linejoin:round; stroke-width:12; stroke-opacity:0.3; fill:none\" points=\"304.002,668.357 355.004,668.357 406.006,668.357 457.008,668.357 508.01,668.357 559.012,668.357 610.015,668.357 661.017,668.357 712.019,668.357 763.021,668.357 814.023,668.357 865.025,668.357 916.027,668.357 967.029,668.357 1018.03,668.357 1069.03,668.357 1120.04,668.357 1171.04,668.357 1222.04,668.357 1273.04,668.357 1324.04,668.357 1375.05,668.357 1426.05,668.357 1477.05,668.357 1528.05,668.357 1579.05,668.357 1630.06,668.357 1681.06,668.357 1732.06,668.357 1783.06,668.357 1834.06,668.357 1885.07,668.357 1936.07,668.357 1987.07,668.357 2038.07,668.357 2089.08,668.357 2140.08,668.357 2191.08,668.357 2242.08,668.357 2293.08,668.357 \"/>\n",
       "<path clip-path=\"url(#clip360)\" d=\"M244.33 1486.45 L2352.76 1486.45 L2352.76 847.244 L244.33 847.244  Z\" fill=\"#ffffff\" fill-rule=\"evenodd\" fill-opacity=\"1\"/>\n",
       "<defs>\n",
       "  <clipPath id=\"clip364\">\n",
       "    <rect x=\"244\" y=\"847\" width=\"2109\" height=\"640\"/>\n",
       "  </clipPath>\n",
       "</defs>\n",
       "<polyline clip-path=\"url(#clip364)\" style=\"stroke:#000000; stroke-linecap:round; stroke-linejoin:round; stroke-width:8; stroke-opacity:0.1; fill:none\" points=\"253,1486.45 253,847.244 \"/>\n",
       "<polyline clip-path=\"url(#clip364)\" style=\"stroke:#000000; stroke-linecap:round; stroke-linejoin:round; stroke-width:8; stroke-opacity:0.1; fill:none\" points=\"763.021,1486.45 763.021,847.244 \"/>\n",
       "<polyline clip-path=\"url(#clip364)\" style=\"stroke:#000000; stroke-linecap:round; stroke-linejoin:round; stroke-width:8; stroke-opacity:0.1; fill:none\" points=\"1273.04,1486.45 1273.04,847.244 \"/>\n",
       "<polyline clip-path=\"url(#clip364)\" style=\"stroke:#000000; stroke-linecap:round; stroke-linejoin:round; stroke-width:8; stroke-opacity:0.1; fill:none\" points=\"1783.06,1486.45 1783.06,847.244 \"/>\n",
       "<polyline clip-path=\"url(#clip364)\" style=\"stroke:#000000; stroke-linecap:round; stroke-linejoin:round; stroke-width:8; stroke-opacity:0.1; fill:none\" points=\"2293.08,1486.45 2293.08,847.244 \"/>\n",
       "<polyline clip-path=\"url(#clip360)\" style=\"stroke:#000000; stroke-linecap:round; stroke-linejoin:round; stroke-width:4; stroke-opacity:1; fill:none\" points=\"244.33,1486.45 2352.76,1486.45 \"/>\n",
       "<polyline clip-path=\"url(#clip360)\" style=\"stroke:#000000; stroke-linecap:round; stroke-linejoin:round; stroke-width:4; stroke-opacity:1; fill:none\" points=\"253,1486.45 253,1467.55 \"/>\n",
       "<polyline clip-path=\"url(#clip360)\" style=\"stroke:#000000; stroke-linecap:round; stroke-linejoin:round; stroke-width:4; stroke-opacity:1; fill:none\" points=\"763.021,1486.45 763.021,1467.55 \"/>\n",
       "<polyline clip-path=\"url(#clip360)\" style=\"stroke:#000000; stroke-linecap:round; stroke-linejoin:round; stroke-width:4; stroke-opacity:1; fill:none\" points=\"1273.04,1486.45 1273.04,1467.55 \"/>\n",
       "<polyline clip-path=\"url(#clip360)\" style=\"stroke:#000000; stroke-linecap:round; stroke-linejoin:round; stroke-width:4; stroke-opacity:1; fill:none\" points=\"1783.06,1486.45 1783.06,1467.55 \"/>\n",
       "<polyline clip-path=\"url(#clip360)\" style=\"stroke:#000000; stroke-linecap:round; stroke-linejoin:round; stroke-width:4; stroke-opacity:1; fill:none\" points=\"2293.08,1486.45 2293.08,1467.55 \"/>\n",
       "<path clip-path=\"url(#clip360)\" d=\"M253 1517.37 Q249.389 1517.37 247.56 1520.93 Q245.755 1524.47 245.755 1531.6 Q245.755 1538.71 247.56 1542.27 Q249.389 1545.82 253 1545.82 Q256.634 1545.82 258.44 1542.27 Q260.268 1538.71 260.268 1531.6 Q260.268 1524.47 258.44 1520.93 Q256.634 1517.37 253 1517.37 M253 1513.66 Q258.81 1513.66 261.866 1518.27 Q264.944 1522.85 264.944 1531.6 Q264.944 1540.33 261.866 1544.94 Q258.81 1549.52 253 1549.52 Q247.19 1549.52 244.111 1544.94 Q241.056 1540.33 241.056 1531.6 Q241.056 1522.85 244.111 1518.27 Q247.19 1513.66 253 1513.66 Z\" fill=\"#000000\" fill-rule=\"evenodd\" fill-opacity=\"1\" /><path clip-path=\"url(#clip360)\" d=\"M737.708 1544.91 L745.347 1544.91 L745.347 1518.55 L737.037 1520.21 L737.037 1515.95 L745.301 1514.29 L749.977 1514.29 L749.977 1544.91 L757.616 1544.91 L757.616 1548.85 L737.708 1548.85 L737.708 1544.91 Z\" fill=\"#000000\" fill-rule=\"evenodd\" fill-opacity=\"1\" /><path clip-path=\"url(#clip360)\" d=\"M777.06 1517.37 Q773.449 1517.37 771.62 1520.93 Q769.815 1524.47 769.815 1531.6 Q769.815 1538.71 771.62 1542.27 Q773.449 1545.82 777.06 1545.82 Q780.694 1545.82 782.5 1542.27 Q784.329 1538.71 784.329 1531.6 Q784.329 1524.47 782.5 1520.93 Q780.694 1517.37 777.06 1517.37 M777.06 1513.66 Q782.87 1513.66 785.926 1518.27 Q789.005 1522.85 789.005 1531.6 Q789.005 1540.33 785.926 1544.94 Q782.87 1549.52 777.06 1549.52 Q771.25 1549.52 768.171 1544.94 Q765.116 1540.33 765.116 1531.6 Q765.116 1522.85 768.171 1518.27 Q771.25 1513.66 777.06 1513.66 Z\" fill=\"#000000\" fill-rule=\"evenodd\" fill-opacity=\"1\" /><path clip-path=\"url(#clip360)\" d=\"M1251.81 1544.91 L1268.13 1544.91 L1268.13 1548.85 L1246.19 1548.85 L1246.19 1544.91 Q1248.85 1542.16 1253.44 1537.53 Q1258.04 1532.88 1259.22 1531.53 Q1261.47 1529.01 1262.35 1527.27 Q1263.25 1525.51 1263.25 1523.82 Q1263.25 1521.07 1261.31 1519.33 Q1259.38 1517.6 1256.28 1517.6 Q1254.08 1517.6 1251.63 1518.36 Q1249.2 1519.13 1246.42 1520.68 L1246.42 1515.95 Q1249.25 1514.82 1251.7 1514.24 Q1254.15 1513.66 1256.19 1513.66 Q1261.56 1513.66 1264.75 1516.35 Q1267.95 1519.03 1267.95 1523.52 Q1267.95 1525.65 1267.14 1527.57 Q1266.35 1529.47 1264.25 1532.07 Q1263.67 1532.74 1260.56 1535.95 Q1257.46 1539.15 1251.81 1544.91 Z\" fill=\"#000000\" fill-rule=\"evenodd\" fill-opacity=\"1\" /><path clip-path=\"url(#clip360)\" d=\"M1287.95 1517.37 Q1284.34 1517.37 1282.51 1520.93 Q1280.7 1524.47 1280.7 1531.6 Q1280.7 1538.71 1282.51 1542.27 Q1284.34 1545.82 1287.95 1545.82 Q1291.58 1545.82 1293.39 1542.27 Q1295.22 1538.71 1295.22 1531.6 Q1295.22 1524.47 1293.39 1520.93 Q1291.58 1517.37 1287.95 1517.37 M1287.95 1513.66 Q1293.76 1513.66 1296.81 1518.27 Q1299.89 1522.85 1299.89 1531.6 Q1299.89 1540.33 1296.81 1544.94 Q1293.76 1549.52 1287.95 1549.52 Q1282.14 1549.52 1279.06 1544.94 Q1276 1540.33 1276 1531.6 Q1276 1522.85 1279.06 1518.27 Q1282.14 1513.66 1287.95 1513.66 Z\" fill=\"#000000\" fill-rule=\"evenodd\" fill-opacity=\"1\" /><path clip-path=\"url(#clip360)\" d=\"M1771.91 1530.21 Q1775.26 1530.93 1777.14 1533.2 Q1779.03 1535.47 1779.03 1538.8 Q1779.03 1543.92 1775.52 1546.72 Q1772 1549.52 1765.52 1549.52 Q1763.34 1549.52 1761.03 1549.08 Q1758.73 1548.66 1756.28 1547.81 L1756.28 1543.29 Q1758.22 1544.43 1760.54 1545.01 Q1762.85 1545.58 1765.38 1545.58 Q1769.78 1545.58 1772.07 1543.85 Q1774.38 1542.11 1774.38 1538.8 Q1774.38 1535.75 1772.23 1534.03 Q1770.1 1532.3 1766.28 1532.3 L1762.25 1532.3 L1762.25 1528.45 L1766.47 1528.45 Q1769.91 1528.45 1771.74 1527.09 Q1773.57 1525.7 1773.57 1523.11 Q1773.57 1520.45 1771.67 1519.03 Q1769.8 1517.6 1766.28 1517.6 Q1764.36 1517.6 1762.16 1518.01 Q1759.96 1518.43 1757.32 1519.31 L1757.32 1515.14 Q1759.98 1514.4 1762.3 1514.03 Q1764.64 1513.66 1766.7 1513.66 Q1772.02 1513.66 1775.12 1516.09 Q1778.22 1518.5 1778.22 1522.62 Q1778.22 1525.49 1776.58 1527.48 Q1774.94 1529.45 1771.91 1530.21 Z\" fill=\"#000000\" fill-rule=\"evenodd\" fill-opacity=\"1\" /><path clip-path=\"url(#clip360)\" d=\"M1797.9 1517.37 Q1794.29 1517.37 1792.46 1520.93 Q1790.66 1524.47 1790.66 1531.6 Q1790.66 1538.71 1792.46 1542.27 Q1794.29 1545.82 1797.9 1545.82 Q1801.53 1545.82 1803.34 1542.27 Q1805.17 1538.71 1805.17 1531.6 Q1805.17 1524.47 1803.34 1520.93 Q1801.53 1517.37 1797.9 1517.37 M1797.9 1513.66 Q1803.71 1513.66 1806.77 1518.27 Q1809.84 1522.85 1809.84 1531.6 Q1809.84 1540.33 1806.77 1544.94 Q1803.71 1549.52 1797.9 1549.52 Q1792.09 1549.52 1789.01 1544.94 Q1785.96 1540.33 1785.96 1531.6 Q1785.96 1522.85 1789.01 1518.27 Q1792.09 1513.66 1797.9 1513.66 Z\" fill=\"#000000\" fill-rule=\"evenodd\" fill-opacity=\"1\" /><path clip-path=\"url(#clip360)\" d=\"M2281.25 1518.36 L2269.45 1536.81 L2281.25 1536.81 L2281.25 1518.36 M2280.03 1514.29 L2285.91 1514.29 L2285.91 1536.81 L2290.84 1536.81 L2290.84 1540.7 L2285.91 1540.7 L2285.91 1548.85 L2281.25 1548.85 L2281.25 1540.7 L2265.65 1540.7 L2265.65 1536.19 L2280.03 1514.29 Z\" fill=\"#000000\" fill-rule=\"evenodd\" fill-opacity=\"1\" /><path clip-path=\"url(#clip360)\" d=\"M2308.57 1517.37 Q2304.96 1517.37 2303.13 1520.93 Q2301.32 1524.47 2301.32 1531.6 Q2301.32 1538.71 2303.13 1542.27 Q2304.96 1545.82 2308.57 1545.82 Q2312.2 1545.82 2314.01 1542.27 Q2315.84 1538.71 2315.84 1531.6 Q2315.84 1524.47 2314.01 1520.93 Q2312.2 1517.37 2308.57 1517.37 M2308.57 1513.66 Q2314.38 1513.66 2317.44 1518.27 Q2320.51 1522.85 2320.51 1531.6 Q2320.51 1540.33 2317.44 1544.94 Q2314.38 1549.52 2308.57 1549.52 Q2302.76 1549.52 2299.68 1544.94 Q2296.63 1540.33 2296.63 1531.6 Q2296.63 1522.85 2299.68 1518.27 Q2302.76 1513.66 2308.57 1513.66 Z\" fill=\"#000000\" fill-rule=\"evenodd\" fill-opacity=\"1\" /><polyline clip-path=\"url(#clip364)\" style=\"stroke:#000000; stroke-linecap:round; stroke-linejoin:round; stroke-width:8; stroke-opacity:0.1; fill:none\" points=\"244.33,1468.36 2352.76,1468.36 \"/>\n",
       "<polyline clip-path=\"url(#clip364)\" style=\"stroke:#000000; stroke-linecap:round; stroke-linejoin:round; stroke-width:8; stroke-opacity:0.1; fill:none\" points=\"244.33,1300.85 2352.76,1300.85 \"/>\n",
       "<polyline clip-path=\"url(#clip364)\" style=\"stroke:#000000; stroke-linecap:round; stroke-linejoin:round; stroke-width:8; stroke-opacity:0.1; fill:none\" points=\"244.33,1133.34 2352.76,1133.34 \"/>\n",
       "<polyline clip-path=\"url(#clip364)\" style=\"stroke:#000000; stroke-linecap:round; stroke-linejoin:round; stroke-width:8; stroke-opacity:0.1; fill:none\" points=\"244.33,965.839 2352.76,965.839 \"/>\n",
       "<polyline clip-path=\"url(#clip360)\" style=\"stroke:#000000; stroke-linecap:round; stroke-linejoin:round; stroke-width:4; stroke-opacity:1; fill:none\" points=\"244.33,1486.45 244.33,847.244 \"/>\n",
       "<polyline clip-path=\"url(#clip360)\" style=\"stroke:#000000; stroke-linecap:round; stroke-linejoin:round; stroke-width:4; stroke-opacity:1; fill:none\" points=\"244.33,1468.36 263.227,1468.36 \"/>\n",
       "<polyline clip-path=\"url(#clip360)\" style=\"stroke:#000000; stroke-linecap:round; stroke-linejoin:round; stroke-width:4; stroke-opacity:1; fill:none\" points=\"244.33,1300.85 263.227,1300.85 \"/>\n",
       "<polyline clip-path=\"url(#clip360)\" style=\"stroke:#000000; stroke-linecap:round; stroke-linejoin:round; stroke-width:4; stroke-opacity:1; fill:none\" points=\"244.33,1133.34 263.227,1133.34 \"/>\n",
       "<polyline clip-path=\"url(#clip360)\" style=\"stroke:#000000; stroke-linecap:round; stroke-linejoin:round; stroke-width:4; stroke-opacity:1; fill:none\" points=\"244.33,965.839 263.227,965.839 \"/>\n",
       "<path clip-path=\"url(#clip360)\" d=\"M196.385 1454.16 Q192.774 1454.16 190.945 1457.72 Q189.14 1461.26 189.14 1468.39 Q189.14 1475.5 190.945 1479.06 Q192.774 1482.6 196.385 1482.6 Q200.019 1482.6 201.825 1479.06 Q203.654 1475.5 203.654 1468.39 Q203.654 1461.26 201.825 1457.72 Q200.019 1454.16 196.385 1454.16 M196.385 1450.45 Q202.195 1450.45 205.251 1455.06 Q208.33 1459.64 208.33 1468.39 Q208.33 1477.12 205.251 1481.73 Q202.195 1486.31 196.385 1486.31 Q190.575 1486.31 187.496 1481.73 Q184.441 1477.12 184.441 1468.39 Q184.441 1459.64 187.496 1455.06 Q190.575 1450.45 196.385 1450.45 Z\" fill=\"#000000\" fill-rule=\"evenodd\" fill-opacity=\"1\" /><path clip-path=\"url(#clip360)\" d=\"M126.872 1314.2 L134.511 1314.2 L134.511 1287.83 L126.2 1289.5 L126.2 1285.24 L134.464 1283.57 L139.14 1283.57 L139.14 1314.2 L146.779 1314.2 L146.779 1318.13 L126.872 1318.13 L126.872 1314.2 Z\" fill=\"#000000\" fill-rule=\"evenodd\" fill-opacity=\"1\" /><path clip-path=\"url(#clip360)\" d=\"M166.223 1286.65 Q162.612 1286.65 160.784 1290.21 Q158.978 1293.76 158.978 1300.89 Q158.978 1307.99 160.784 1311.56 Q162.612 1315.1 166.223 1315.1 Q169.858 1315.1 171.663 1311.56 Q173.492 1307.99 173.492 1300.89 Q173.492 1293.76 171.663 1290.21 Q169.858 1286.65 166.223 1286.65 M166.223 1282.95 Q172.034 1282.95 175.089 1287.55 Q178.168 1292.14 178.168 1300.89 Q178.168 1309.61 175.089 1314.22 Q172.034 1318.8 166.223 1318.8 Q160.413 1318.8 157.335 1314.22 Q154.279 1309.61 154.279 1300.89 Q154.279 1292.14 157.335 1287.55 Q160.413 1282.95 166.223 1282.95 Z\" fill=\"#000000\" fill-rule=\"evenodd\" fill-opacity=\"1\" /><path clip-path=\"url(#clip360)\" d=\"M196.385 1286.65 Q192.774 1286.65 190.945 1290.21 Q189.14 1293.76 189.14 1300.89 Q189.14 1307.99 190.945 1311.56 Q192.774 1315.1 196.385 1315.1 Q200.019 1315.1 201.825 1311.56 Q203.654 1307.99 203.654 1300.89 Q203.654 1293.76 201.825 1290.21 Q200.019 1286.65 196.385 1286.65 M196.385 1282.95 Q202.195 1282.95 205.251 1287.55 Q208.33 1292.14 208.33 1300.89 Q208.33 1309.61 205.251 1314.22 Q202.195 1318.8 196.385 1318.8 Q190.575 1318.8 187.496 1314.22 Q184.441 1309.61 184.441 1300.89 Q184.441 1292.14 187.496 1287.55 Q190.575 1282.95 196.385 1282.95 Z\" fill=\"#000000\" fill-rule=\"evenodd\" fill-opacity=\"1\" /><path clip-path=\"url(#clip360)\" d=\"M130.089 1146.69 L146.409 1146.69 L146.409 1150.62 L124.464 1150.62 L124.464 1146.69 Q127.126 1143.93 131.71 1139.31 Q136.316 1134.65 137.497 1133.31 Q139.742 1130.79 140.622 1129.05 Q141.524 1127.29 141.524 1125.6 Q141.524 1122.85 139.58 1121.11 Q137.659 1119.37 134.557 1119.37 Q132.358 1119.37 129.904 1120.14 Q127.474 1120.9 124.696 1122.45 L124.696 1117.73 Q127.52 1116.6 129.974 1116.02 Q132.427 1115.44 134.464 1115.44 Q139.835 1115.44 143.029 1118.12 Q146.223 1120.81 146.223 1125.3 Q146.223 1127.43 145.413 1129.35 Q144.626 1131.25 142.52 1133.84 Q141.941 1134.51 138.839 1137.73 Q135.737 1140.93 130.089 1146.69 Z\" fill=\"#000000\" fill-rule=\"evenodd\" fill-opacity=\"1\" /><path clip-path=\"url(#clip360)\" d=\"M166.223 1119.14 Q162.612 1119.14 160.784 1122.71 Q158.978 1126.25 158.978 1133.38 Q158.978 1140.49 160.784 1144.05 Q162.612 1147.59 166.223 1147.59 Q169.858 1147.59 171.663 1144.05 Q173.492 1140.49 173.492 1133.38 Q173.492 1126.25 171.663 1122.71 Q169.858 1119.14 166.223 1119.14 M166.223 1115.44 Q172.034 1115.44 175.089 1120.05 Q178.168 1124.63 178.168 1133.38 Q178.168 1142.11 175.089 1146.71 Q172.034 1151.3 166.223 1151.3 Q160.413 1151.3 157.335 1146.71 Q154.279 1142.11 154.279 1133.38 Q154.279 1124.63 157.335 1120.05 Q160.413 1115.44 166.223 1115.44 Z\" fill=\"#000000\" fill-rule=\"evenodd\" fill-opacity=\"1\" /><path clip-path=\"url(#clip360)\" d=\"M196.385 1119.14 Q192.774 1119.14 190.945 1122.71 Q189.14 1126.25 189.14 1133.38 Q189.14 1140.49 190.945 1144.05 Q192.774 1147.59 196.385 1147.59 Q200.019 1147.59 201.825 1144.05 Q203.654 1140.49 203.654 1133.38 Q203.654 1126.25 201.825 1122.71 Q200.019 1119.14 196.385 1119.14 M196.385 1115.44 Q202.195 1115.44 205.251 1120.05 Q208.33 1124.63 208.33 1133.38 Q208.33 1142.11 205.251 1146.71 Q202.195 1151.3 196.385 1151.3 Q190.575 1151.3 187.496 1146.71 Q184.441 1142.11 184.441 1133.38 Q184.441 1124.63 187.496 1120.05 Q190.575 1115.44 196.385 1115.44 Z\" fill=\"#000000\" fill-rule=\"evenodd\" fill-opacity=\"1\" /><path clip-path=\"url(#clip360)\" d=\"M140.228 964.484 Q143.585 965.202 145.46 967.47 Q147.358 969.739 147.358 973.072 Q147.358 978.188 143.839 980.989 Q140.321 983.79 133.839 983.79 Q131.663 983.79 129.349 983.35 Q127.057 982.933 124.603 982.077 L124.603 977.563 Q126.548 978.697 128.862 979.276 Q131.177 979.855 133.7 979.855 Q138.099 979.855 140.39 978.119 Q142.705 976.382 142.705 973.072 Q142.705 970.017 140.552 968.304 Q138.423 966.568 134.603 966.568 L130.575 966.568 L130.575 962.725 L134.788 962.725 Q138.237 962.725 140.066 961.359 Q141.895 959.97 141.895 957.378 Q141.895 954.716 139.997 953.304 Q138.122 951.869 134.603 951.869 Q132.682 951.869 130.483 952.285 Q128.284 952.702 125.645 953.582 L125.645 949.415 Q128.307 948.674 130.622 948.304 Q132.96 947.934 135.02 947.934 Q140.344 947.934 143.446 950.364 Q146.548 952.771 146.548 956.892 Q146.548 959.762 144.904 961.753 Q143.261 963.72 140.228 964.484 Z\" fill=\"#000000\" fill-rule=\"evenodd\" fill-opacity=\"1\" /><path clip-path=\"url(#clip360)\" d=\"M166.223 951.637 Q162.612 951.637 160.784 955.202 Q158.978 958.744 158.978 965.873 Q158.978 972.98 160.784 976.544 Q162.612 980.086 166.223 980.086 Q169.858 980.086 171.663 976.544 Q173.492 972.98 173.492 965.873 Q173.492 958.744 171.663 955.202 Q169.858 951.637 166.223 951.637 M166.223 947.934 Q172.034 947.934 175.089 952.54 Q178.168 957.123 178.168 965.873 Q178.168 974.6 175.089 979.206 Q172.034 983.79 166.223 983.79 Q160.413 983.79 157.335 979.206 Q154.279 974.6 154.279 965.873 Q154.279 957.123 157.335 952.54 Q160.413 947.934 166.223 947.934 Z\" fill=\"#000000\" fill-rule=\"evenodd\" fill-opacity=\"1\" /><path clip-path=\"url(#clip360)\" d=\"M196.385 951.637 Q192.774 951.637 190.945 955.202 Q189.14 958.744 189.14 965.873 Q189.14 972.98 190.945 976.544 Q192.774 980.086 196.385 980.086 Q200.019 980.086 201.825 976.544 Q203.654 972.98 203.654 965.873 Q203.654 958.744 201.825 955.202 Q200.019 951.637 196.385 951.637 M196.385 947.934 Q202.195 947.934 205.251 952.54 Q208.33 957.123 208.33 965.873 Q208.33 974.6 205.251 979.206 Q202.195 983.79 196.385 983.79 Q190.575 983.79 187.496 979.206 Q184.441 974.6 184.441 965.873 Q184.441 957.123 187.496 952.54 Q190.575 947.934 196.385 947.934 Z\" fill=\"#000000\" fill-rule=\"evenodd\" fill-opacity=\"1\" /><path clip-path=\"url(#clip360)\" d=\"M34.4035 1225.35 Q35.0154 1225.35 35.5307 1225.48 L46.996 1227.28 Q47.8656 1227.38 48.1876 1227.57 Q48.5097 1227.73 48.5097 1228.25 Q48.5097 1229.05 47.6723 1229.05 Q47.1893 1229.05 46.4163 1228.86 Q42.7771 1228.31 41.1346 1228.31 Q40.0396 1228.31 39.2344 1228.54 Q38.3971 1228.73 37.8174 1229.05 Q37.2376 1229.34 36.8512 1230.02 Q36.4647 1230.7 36.2393 1231.34 Q36.0138 1231.98 35.9172 1233.14 Q35.7884 1234.3 35.7562 1235.3 Q35.724 1236.3 35.724 1237.94 Q35.724 1241.52 35.8528 1242.1 Q36.0138 1242.71 36.4969 1243.03 Q36.9478 1243.32 38.3004 1243.64 L73.3082 1252.4 L74.6931 1252.66 Q75.466 1252.66 75.7236 1252.18 Q75.9813 1251.69 76.1423 1250.21 Q76.3034 1248.09 76.3034 1245.99 Q76.3034 1245.93 76.3034 1245.8 Q76.3034 1245.09 76.3356 1244.8 Q76.3356 1244.51 76.4 1244.22 Q76.4644 1243.93 76.6254 1243.87 Q76.7542 1243.77 77.0119 1243.77 Q77.6238 1243.77 77.9459 1244.03 Q78.2357 1244.29 78.3001 1244.54 Q78.3323 1244.77 78.3323 1245.22 Q78.3323 1246.12 78.2679 1248.06 Q78.2035 1249.99 78.2035 1250.95 L78.1391 1256.43 L78.2035 1262.03 Q78.2035 1262.9 78.2679 1264.74 Q78.3323 1266.57 78.3323 1267.44 Q78.3323 1268.57 77.5272 1268.57 Q76.6254 1268.57 76.4644 1268.15 Q76.3034 1267.7 76.3034 1265.8 Q76.3034 1263.13 76.1745 1261.68 Q76.0457 1260.23 75.5948 1259.46 Q75.1439 1258.65 74.6931 1258.43 Q74.21 1258.2 73.115 1257.94 L37.914 1249.09 Q37.141 1248.83 36.5291 1248.83 Q36.2071 1248.83 36.0782 1248.92 Q35.9494 1248.99 35.8528 1249.41 Q35.724 1249.83 35.724 1250.7 L35.724 1253.27 Q35.724 1255.91 35.8528 1257.56 Q35.9494 1259.17 36.4325 1260.71 Q36.9156 1262.23 37.5919 1263.13 Q38.2682 1264 39.6531 1264.96 Q41.0379 1265.93 42.7126 1266.64 Q44.3873 1267.31 47.1248 1268.28 Q48.0266 1268.6 48.2843 1268.8 Q48.5097 1268.96 48.5097 1269.41 Q48.5097 1269.73 48.3165 1269.99 Q48.091 1270.21 47.8012 1270.21 Q46.7384 1269.89 46.6096 1269.83 L34.9832 1265.87 Q34.0493 1265.54 33.8882 1265.25 Q33.695 1264.93 33.695 1263.74 L33.695 1227.15 Q33.695 1226.57 33.695 1226.38 Q33.695 1226.19 33.7594 1225.87 Q33.8238 1225.54 33.9849 1225.45 Q34.1459 1225.35 34.4035 1225.35 Z\" fill=\"#000000\" fill-rule=\"evenodd\" fill-opacity=\"1\" /><path clip-path=\"url(#clip360)\" d=\"M79.2048 1199.95 Q80.3997 1199.95 81.1662 1200.74 Q81.9327 1201.5 81.9327 1202.5 Q81.9327 1203.35 81.4367 1203.8 Q80.9407 1204.26 80.3095 1204.26 Q79.4077 1204.26 78.6638 1203.56 Q77.9198 1202.86 77.762 1201.84 Q77.221 1202.59 77.221 1203.78 Q77.221 1205.74 78.7314 1207.48 Q79.4303 1208.25 80.7153 1209.08 Q81.9778 1209.91 82.5188 1210.07 L88.5381 1211.54 Q89.2144 1211.67 92.4608 1212.51 Q95.6846 1213.32 95.8198 1213.39 Q96.4511 1213.61 96.7892 1214.11 Q97.1274 1214.6 97.1274 1215.1 Q97.1274 1215.66 96.7892 1216.05 Q96.4511 1216.43 95.8649 1216.43 Q95.7748 1216.43 95.4366 1216.36 Q95.0984 1216.29 94.625 1216.18 Q94.1516 1216.07 93.8811 1216.02 L83.2177 1213.34 Q81.2789 1212.84 80.6702 1212.73 Q80.039 1212.6 79.3401 1212.6 Q78.1227 1212.6 77.6718 1212.98 Q77.221 1213.36 77.221 1214.04 Q77.221 1215.21 78.6187 1215.98 Q80.0164 1216.74 82.7217 1217.4 Q83.4657 1217.6 83.6235 1217.74 Q83.7813 1217.85 83.7813 1218.19 Q83.7587 1218.75 83.3079 1218.75 Q83.1951 1218.75 82.4737 1218.57 Q81.7298 1218.39 80.6477 1218.05 Q79.543 1217.69 78.8441 1217.31 Q78.3707 1217.08 78.0551 1216.88 Q77.7395 1216.68 77.2435 1216.27 Q76.7475 1215.87 76.477 1215.26 Q76.2065 1214.65 76.2065 1213.9 Q76.2065 1212.28 77.1984 1211.13 Q78.1904 1209.96 79.7459 1209.69 Q78.9343 1209.12 78.2354 1208.43 Q77.514 1207.73 76.8603 1206.44 Q76.2065 1205.16 76.2065 1203.78 Q76.2065 1202.07 77.0857 1201.01 Q77.9424 1199.95 79.2048 1199.95 Z\" fill=\"#000000\" fill-rule=\"evenodd\" fill-opacity=\"1\" /><path clip-path=\"url(#clip360)\" d=\"M70.2548 1195 L68.812 1195 Q68.812 1189.45 65.8587 1186.59 Q65.8587 1185.8 66.0391 1185.67 Q66.2194 1185.53 67.0536 1185.53 L92.9567 1185.53 Q94.3319 1185.53 94.7603 1184.85 Q95.1886 1184.18 95.1886 1181.23 L95.1886 1179.76 L96.6089 1179.76 Q96.4736 1181.38 96.4736 1187.24 Q96.4736 1193.11 96.6089 1194.71 L95.1886 1194.71 L95.1886 1193.24 Q95.1886 1190.33 94.7828 1189.63 Q94.3545 1188.94 92.9567 1188.94 L69.0374 1188.94 Q70.2548 1191.35 70.2548 1195 Z\" fill=\"#000000\" fill-rule=\"evenodd\" fill-opacity=\"1\" /><path clip-path=\"url(#clip360)\" d=\"M10.7002 1191.36 L20.7999 1193.86 Q21.4086 1194 21.5664 1194.11 Q21.7243 1194.22 21.7243 1194.54 Q21.7243 1194.79 21.6115 1194.94 Q21.4988 1195.08 21.3861 1195.08 L21.2734 1195.1 Q21.2057 1195.1 20.8676 1195.06 Q20.5069 1195.01 19.9207 1194.97 Q19.3346 1194.92 18.6808 1194.92 Q14.9836 1194.92 13.2702 1196.73 Q11.5343 1198.51 11.5343 1201.57 Q11.5343 1203.69 12.6615 1205.59 Q13.7887 1207.48 15.5697 1208.56 Q17.3282 1209.64 19.1768 1209.64 Q20.8676 1209.64 21.9497 1208.79 Q23.0318 1207.93 23.3925 1206.83 L24.2267 1203.74 Q25.0608 1200.49 25.4215 1199.57 Q25.7597 1198.64 26.5262 1197.88 Q28.6453 1195.6 31.9367 1195.6 Q34.7773 1195.6 37.5277 1197.2 Q40.2555 1198.8 42.0365 1201.55 Q43.7949 1204.3 43.7949 1207.34 Q43.7949 1212.69 40.481 1215.14 L43.0961 1217.4 Q43.592 1217.83 43.6822 1217.96 Q43.7949 1218.07 43.7949 1218.23 Q43.7949 1218.44 43.6597 1218.59 Q43.5469 1218.75 43.3441 1218.75 Q43.1862 1218.75 37.8884 1217.42 Q32.5905 1216.09 32.4778 1215.98 Q32.2974 1215.8 32.2974 1215.5 Q32.2974 1214.96 32.816 1214.96 Q32.9512 1215.01 33.1316 1215.05 Q34.7547 1215.32 35.634 1215.32 Q37.2797 1215.32 38.5422 1214.76 Q39.7821 1214.2 40.5035 1213.36 Q41.2024 1212.51 41.6532 1211.36 Q42.0816 1210.21 42.2394 1209.24 Q42.3747 1208.27 42.3747 1207.25 Q42.3747 1205.07 41.1122 1203.13 Q39.8497 1201.17 37.8884 1200.06 Q35.927 1198.93 33.8755 1198.93 Q32.7934 1198.93 31.9593 1199.23 Q31.1026 1199.52 30.6292 1199.93 Q30.1558 1200.31 29.795 1200.96 Q29.4343 1201.62 29.2991 1202.07 Q29.1413 1202.5 28.9835 1203.17 L27.6759 1208.11 Q27.0898 1210.09 25.3989 1211.51 Q23.7081 1212.91 21.1156 1212.91 Q18.3877 1212.91 15.8628 1211.31 Q13.3153 1209.69 11.7823 1207.05 Q10.2268 1204.39 10.2268 1201.53 Q10.2268 1199.27 11.106 1197.54 Q11.9627 1195.8 13.5633 1194.92 L10.9256 1192.69 Q10.4071 1192.24 10.3169 1192.15 Q10.2268 1192.04 10.2268 1191.88 Q10.2268 1191.61 10.3846 1191.5 Q10.5424 1191.36 10.7002 1191.36 Z\" fill=\"#000000\" fill-rule=\"evenodd\" fill-opacity=\"1\" /><path clip-path=\"url(#clip360)\" d=\"M18.2074 1155.74 Q20.7323 1155.74 23.0544 1157.61 Q25.3764 1159.46 26.7967 1162.48 Q28.1944 1165.47 28.1944 1168.7 L28.1944 1176.54 L39.737 1179.41 Q39.8046 1179.43 40.0977 1179.5 Q40.3682 1179.57 40.526 1179.57 Q41.0896 1179.57 41.2249 1178.87 Q41.3602 1178.14 41.3602 1176.54 Q41.3602 1175.51 41.5405 1175.35 Q41.6532 1175.26 41.8561 1175.26 Q42.1718 1175.26 42.3972 1175.35 Q42.6001 1175.44 42.6677 1175.62 Q42.7354 1175.78 42.7579 1175.89 Q42.7804 1176 42.7804 1176.18 Q42.7804 1176.66 42.7354 1177.67 Q42.6903 1178.66 42.6903 1179.18 L42.6452 1182.14 L42.7804 1188 Q42.7804 1188.7 42.2168 1188.7 Q41.7885 1188.7 41.6082 1188.52 Q41.4053 1188.33 41.3827 1188.13 Q41.3602 1187.93 41.3602 1187.41 Q41.3602 1186.28 41.2925 1185.61 Q41.2249 1184.93 41.1347 1184.5 Q41.022 1184.05 40.7064 1183.83 Q40.3908 1183.58 40.1202 1183.47 Q39.8272 1183.35 39.1734 1183.19 L14.3749 1177.02 Q13.6309 1176.84 13.5182 1176.84 Q13.135 1176.84 12.9997 1177.06 Q12.8419 1177.27 12.7742 1177.85 Q12.6841 1178.98 12.6841 1179.84 Q12.6841 1180.4 12.6615 1180.62 Q12.639 1180.83 12.5263 1181.01 Q12.391 1181.17 12.1205 1181.17 Q11.6921 1181.17 11.5118 1180.99 Q11.3089 1180.78 11.2863 1180.56 Q11.2412 1180.33 11.2412 1179.79 L11.2412 1164.82 Q11.2412 1160.52 13.2928 1158.13 Q15.3443 1155.74 18.2074 1155.74 M17.1027 1160.02 Q12.6841 1160.02 12.6841 1166.31 L12.6841 1170.73 Q12.6841 1172.19 12.9546 1172.55 Q13.2026 1172.91 14.4425 1173.23 L26.9996 1176.36 L26.9996 1169.85 Q26.9996 1165.47 24.5423 1162.75 Q23.4151 1161.51 21.0705 1160.76 Q18.7259 1160.02 17.1027 1160.02 Z\" fill=\"#000000\" fill-rule=\"evenodd\" fill-opacity=\"1\" /><path clip-path=\"url(#clip360)\" d=\"M94.8217 1152.32 L28.8641 1152.32 L28.8641 1142.36 L30.3778 1142.36 L30.3778 1147.9 L93.308 1147.9 L93.308 1142.36 L94.8217 1142.36 L94.8217 1152.32 Z\" fill=\"#000000\" fill-rule=\"evenodd\" fill-opacity=\"1\" /><path clip-path=\"url(#clip360)\" d=\"M34.0171 1083.84 Q34.4357 1083.84 34.7256 1083.93 Q34.9832 1084.03 35.1121 1084.26 Q35.2409 1084.48 35.2731 1084.61 Q35.3053 1084.74 35.3375 1085.03 Q35.4663 1086.41 35.6918 1087.38 Q35.9172 1088.31 37.0766 1090.63 Q38.236 1092.92 40.3294 1095.79 L49.2504 1107.32 L50.7641 1109.25 Q50.8607 1109.25 51.054 1109.18 Q51.215 1109.12 51.4404 1109.06 Q51.6337 1108.96 51.6981 1108.93 L73.3082 1099.55 Q75.0473 1098.81 75.6592 1097.91 Q76.2711 1097.01 76.3034 1094.98 Q76.3034 1094.66 76.3356 1094.53 Q76.3356 1094.37 76.4 1094.14 Q76.4322 1093.89 76.5932 1093.79 Q76.7542 1093.66 77.0119 1093.66 Q78.3323 1093.66 78.3323 1094.85 Q78.3323 1095.59 78.2357 1098.11 Q78.1391 1100.62 78.1391 1101.33 Q78.1391 1102.65 78.2357 1105.35 Q78.3323 1108.06 78.3323 1109.38 Q78.3323 1110.31 77.5916 1110.31 Q76.9797 1110.31 76.6898 1110.09 Q76.3678 1109.83 76.3356 1109.6 Q76.3034 1109.38 76.3034 1108.86 Q76.3034 1108.48 76.2711 1108.06 Q76.2067 1107.61 76.0457 1106.96 Q75.8525 1106.29 75.4016 1105.87 Q74.9185 1105.42 74.2422 1105.42 Q73.6947 1105.42 71.9234 1106.22 L54.1779 1113.85 L61.8429 1123.68 L72.2132 1126.32 Q72.5997 1126.38 73.276 1126.54 Q73.9523 1126.7 74.4354 1126.83 Q74.9185 1126.93 75.1117 1126.93 Q75.5304 1126.93 75.7881 1126.67 Q76.0457 1126.38 76.1745 1125.67 Q76.2711 1124.96 76.3034 1124.42 Q76.3034 1123.84 76.3034 1122.65 Q76.3034 1121.16 76.561 1120.91 Q76.722 1120.78 77.0119 1120.78 Q77.4628 1120.78 77.7848 1120.91 Q78.0747 1121.04 78.1713 1121.29 Q78.2679 1121.52 78.3001 1121.68 Q78.3323 1121.84 78.3323 1122.1 Q78.3323 1122.77 78.2679 1124.22 Q78.2035 1125.64 78.2035 1126.38 L78.1391 1130.6 L78.3323 1138.97 Q78.3323 1139.97 77.5272 1139.97 Q76.9153 1139.97 76.6576 1139.72 Q76.3678 1139.46 76.3356 1139.17 Q76.3034 1138.88 76.3034 1138.14 Q76.3034 1136.53 76.2067 1135.56 Q76.1101 1134.59 75.9813 1133.98 Q75.8203 1133.34 75.3694 1133.02 Q74.9185 1132.66 74.532 1132.5 Q74.1134 1132.34 73.1794 1132.11 L37.7529 1123.29 Q36.6901 1123.03 36.5291 1123.03 Q35.9816 1123.03 35.7884 1123.35 Q35.5629 1123.64 35.4663 1124.48 Q35.3375 1126.09 35.3375 1127.32 Q35.3375 1128.12 35.3053 1128.44 Q35.2731 1128.73 35.1121 1128.99 Q34.9188 1129.22 34.5324 1129.22 Q33.2763 1129.22 33.2763 1127.9 L33.4696 1119.39 L33.2763 1110.96 Q33.2763 1110.02 34.0171 1110.02 Q34.951 1110.02 35.1443 1110.47 Q35.3375 1110.89 35.3375 1112.28 Q35.3375 1114.69 35.6596 1115.79 Q35.9494 1116.85 36.4647 1117.17 Q36.9478 1117.46 38.3649 1117.82 L59.5241 1123.1 L39.7497 1097.36 Q37.7529 1094.98 36.7224 1094.98 Q36.046 1094.98 35.7562 1095.46 Q35.4341 1095.92 35.3375 1097.04 Q35.2087 1097.85 34.5968 1097.85 Q33.9849 1097.85 33.695 1097.62 Q33.3729 1097.36 33.3407 1097.17 Q33.2763 1096.95 33.2763 1096.59 Q33.2763 1095.4 33.3729 1092.92 Q33.4696 1090.44 33.4696 1089.25 Q33.4696 1088.44 33.3729 1086.87 Q33.2763 1085.29 33.2763 1084.58 Q33.2763 1084.22 33.534 1084.03 Q33.7594 1083.84 34.0171 1083.84 Z\" fill=\"#000000\" fill-rule=\"evenodd\" fill-opacity=\"1\" /><path clip-path=\"url(#clip360)\" d=\"M93.308 1081.63 L93.308 1076.09 L30.3778 1076.09 L30.3778 1081.63 L28.8641 1081.63 L28.8641 1071.68 L94.8217 1071.68 L94.8217 1081.63 L93.308 1081.63 Z\" fill=\"#000000\" fill-rule=\"evenodd\" fill-opacity=\"1\" /><polyline clip-path=\"url(#clip364)\" style=\"stroke:#000000; stroke-linecap:round; stroke-linejoin:round; stroke-width:4; stroke-opacity:1; fill:none\" stroke-dasharray=\"2, 4\" points=\"304.002,865.335 355.004,865.335 406.006,865.335 457.008,865.335 508.01,865.335 559.012,865.335 610.015,865.335 661.017,865.335 712.019,865.335 763.021,865.335 814.023,865.335 865.025,865.335 916.027,865.335 967.029,865.335 1018.03,865.335 1069.03,865.335 1120.04,865.335 1171.04,865.335 1222.04,865.335 1273.04,865.335 1324.04,865.335 1375.05,865.335 1426.05,865.335 1477.05,865.335 1528.05,865.335 1579.05,865.335 1630.06,865.335 1681.06,865.335 1732.06,865.335 1783.06,865.335 1834.06,865.335 1885.07,865.335 1936.07,865.335 1987.07,865.335 2038.07,865.335 2089.08,865.335 2140.08,865.335 2191.08,865.335 2242.08,865.335 2293.08,865.335 \"/>\n",
       "<polyline clip-path=\"url(#clip364)\" style=\"stroke:#ff0000; stroke-linecap:round; stroke-linejoin:round; stroke-width:12; stroke-opacity:0.3; fill:none\" points=\"304.002,1468.36 355.004,1468.36 406.006,1468.36 457.008,1468.36 508.01,1468.36 559.012,1468.36 610.015,1468.36 661.017,1468.36 712.019,1468.36 763.021,1468.36 814.023,1468.36 865.025,1468.36 916.027,1468.36 967.029,1468.36 1018.03,1468.36 1069.03,1468.36 1120.04,1468.36 1171.04,1468.36 1222.04,1468.36 1273.04,1468.36 1324.04,1468.36 1375.05,1468.36 1426.05,1468.36 1477.05,1468.36 1528.05,1468.36 1579.05,1468.36 1630.06,1468.36 1681.06,1468.36 1732.06,1468.36 1783.06,1468.36 1834.06,1468.36 1885.07,1468.36 1936.07,1468.36 1987.07,1468.36 2038.07,1468.36 2089.08,1468.36 2140.08,1468.36 2191.08,1468.36 2242.08,1468.36 2293.08,1468.36 \"/>\n",
       "<polyline clip-path=\"url(#clip364)\" style=\"stroke:#0000ff; stroke-linecap:round; stroke-linejoin:round; stroke-width:12; stroke-opacity:0.3; fill:none\" points=\"304.002,1468.36 355.004,1468.36 406.006,1468.36 457.008,1468.36 508.01,1468.36 559.012,1468.36 610.015,1468.36 661.017,1468.36 712.019,1468.36 763.021,1468.36 814.023,1468.36 865.025,1468.36 916.027,1468.36 967.029,1468.36 1018.03,1468.36 1069.03,1468.36 1120.04,1468.36 1171.04,1468.36 1222.04,1468.36 1273.04,1468.36 1324.04,1468.36 1375.05,1468.36 1426.05,1468.36 1477.05,1468.36 1528.05,1468.36 1579.05,1468.36 1630.06,1468.36 1681.06,1468.36 1732.06,1468.36 1783.06,1468.36 1834.06,1468.36 1885.07,1468.36 1936.07,1468.36 1987.07,1468.36 2038.07,1468.36 2089.08,1468.36 2140.08,1468.36 2191.08,1468.36 2242.08,1468.36 2293.08,1468.36 \"/>\n",
       "</svg>\n"
      ]
     },
     "metadata": {},
     "output_type": "display_data"
    }
   ],
   "source": [
    "p2 = plot(layout = (num_subplots, 1),fmt = :svg, resolution = (600, 400), latex=true,gridlinewidth=2) \n",
    "\n",
    "# Loop to generate subplots \n",
    "for mm in 1:num_subplots \n",
    "    # limits\n",
    "#     if mm == 1\n",
    "#         plot!(subplot=ss,legend=:topleft)\n",
    "#     end\n",
    "    plot!(subplot=mm,ts,yspMax[1]*ones(length(ts)),linestyle = :dot,linecolor = :black,label=\"\")\n",
    "    \n",
    "    for nn in 1:n_MC\n",
    "        plot!(subplot=mm,ts,yspPlant[1,:,nn,mm],linewidth=3,linealpha = 0.3,linecolor = CList[nn],legend=false)\n",
    "    end\n",
    "     \n",
    "    # Add labels, titles, or other customizations to each subplot \n",
    "    ylabel!(L\"T_{r1}^{SP} [K]\") \n",
    "end \n",
    "\n",
    "# Display the subplots \n",
    "display(p2)"
   ]
  },
  {
   "cell_type": "code",
   "execution_count": 22,
   "id": "9ac75ab4",
   "metadata": {},
   "outputs": [
    {
     "data": {
      "image/svg+xml": [
       "<?xml version=\"1.0\" encoding=\"utf-8\"?>\n",
       "<svg xmlns=\"http://www.w3.org/2000/svg\" xmlns:xlink=\"http://www.w3.org/1999/xlink\" width=\"600\" height=\"400\" viewBox=\"0 0 2400 1600\">\n",
       "<defs>\n",
       "  <clipPath id=\"clip400\">\n",
       "    <rect x=\"0\" y=\"0\" width=\"2400\" height=\"1600\"/>\n",
       "  </clipPath>\n",
       "</defs>\n",
       "<path clip-path=\"url(#clip400)\" d=\"M0 1600 L2400 1600 L2400 0 L0 0  Z\" fill=\"#ffffff\" fill-rule=\"evenodd\" fill-opacity=\"1\"/>\n",
       "<defs>\n",
       "  <clipPath id=\"clip401\">\n",
       "    <rect x=\"480\" y=\"0\" width=\"1681\" height=\"1600\"/>\n",
       "  </clipPath>\n",
       "</defs>\n",
       "<defs>\n",
       "  <clipPath id=\"clip402\">\n",
       "    <rect x=\"244\" y=\"847\" width=\"2109\" height=\"640\"/>\n",
       "  </clipPath>\n",
       "</defs>\n",
       "<path clip-path=\"url(#clip400)\" d=\"M459.414 686.448 L2352.76 686.448 L2352.76 47.2441 L459.414 47.2441  Z\" fill=\"#ffffff\" fill-rule=\"evenodd\" fill-opacity=\"1\"/>\n",
       "<defs>\n",
       "  <clipPath id=\"clip403\">\n",
       "    <rect x=\"459\" y=\"47\" width=\"1894\" height=\"640\"/>\n",
       "  </clipPath>\n",
       "</defs>\n",
       "<polyline clip-path=\"url(#clip403)\" style=\"stroke:#000000; stroke-linecap:round; stroke-linejoin:round; stroke-width:8; stroke-opacity:0.1; fill:none\" points=\"467.2,686.448 467.2,47.2441 \"/>\n",
       "<polyline clip-path=\"url(#clip403)\" style=\"stroke:#000000; stroke-linecap:round; stroke-linejoin:round; stroke-width:8; stroke-opacity:0.1; fill:none\" points=\"925.193,686.448 925.193,47.2441 \"/>\n",
       "<polyline clip-path=\"url(#clip403)\" style=\"stroke:#000000; stroke-linecap:round; stroke-linejoin:round; stroke-width:8; stroke-opacity:0.1; fill:none\" points=\"1383.19,686.448 1383.19,47.2441 \"/>\n",
       "<polyline clip-path=\"url(#clip403)\" style=\"stroke:#000000; stroke-linecap:round; stroke-linejoin:round; stroke-width:8; stroke-opacity:0.1; fill:none\" points=\"1841.18,686.448 1841.18,47.2441 \"/>\n",
       "<polyline clip-path=\"url(#clip403)\" style=\"stroke:#000000; stroke-linecap:round; stroke-linejoin:round; stroke-width:8; stroke-opacity:0.1; fill:none\" points=\"2299.17,686.448 2299.17,47.2441 \"/>\n",
       "<polyline clip-path=\"url(#clip400)\" style=\"stroke:#000000; stroke-linecap:round; stroke-linejoin:round; stroke-width:4; stroke-opacity:1; fill:none\" points=\"459.414,686.448 2352.76,686.448 \"/>\n",
       "<polyline clip-path=\"url(#clip400)\" style=\"stroke:#000000; stroke-linecap:round; stroke-linejoin:round; stroke-width:4; stroke-opacity:1; fill:none\" points=\"467.2,686.448 467.2,667.55 \"/>\n",
       "<polyline clip-path=\"url(#clip400)\" style=\"stroke:#000000; stroke-linecap:round; stroke-linejoin:round; stroke-width:4; stroke-opacity:1; fill:none\" points=\"925.193,686.448 925.193,667.55 \"/>\n",
       "<polyline clip-path=\"url(#clip400)\" style=\"stroke:#000000; stroke-linecap:round; stroke-linejoin:round; stroke-width:4; stroke-opacity:1; fill:none\" points=\"1383.19,686.448 1383.19,667.55 \"/>\n",
       "<polyline clip-path=\"url(#clip400)\" style=\"stroke:#000000; stroke-linecap:round; stroke-linejoin:round; stroke-width:4; stroke-opacity:1; fill:none\" points=\"1841.18,686.448 1841.18,667.55 \"/>\n",
       "<polyline clip-path=\"url(#clip400)\" style=\"stroke:#000000; stroke-linecap:round; stroke-linejoin:round; stroke-width:4; stroke-opacity:1; fill:none\" points=\"2299.17,686.448 2299.17,667.55 \"/>\n",
       "<path clip-path=\"url(#clip400)\" d=\"M467.2 717.367 Q463.589 717.367 461.76 720.931 Q459.955 724.473 459.955 731.603 Q459.955 738.709 461.76 742.274 Q463.589 745.815 467.2 745.815 Q470.834 745.815 472.64 742.274 Q474.469 738.709 474.469 731.603 Q474.469 724.473 472.64 720.931 Q470.834 717.367 467.2 717.367 M467.2 713.663 Q473.01 713.663 476.066 718.269 Q479.145 722.853 479.145 731.603 Q479.145 740.329 476.066 744.936 Q473.01 749.519 467.2 749.519 Q461.39 749.519 458.311 744.936 Q455.256 740.329 455.256 731.603 Q455.256 722.853 458.311 718.269 Q461.39 713.663 467.2 713.663 Z\" fill=\"#000000\" fill-rule=\"evenodd\" fill-opacity=\"1\" /><path clip-path=\"url(#clip400)\" d=\"M899.88 744.913 L907.519 744.913 L907.519 718.547 L899.209 720.214 L899.209 715.955 L907.473 714.288 L912.149 714.288 L912.149 744.913 L919.788 744.913 L919.788 748.848 L899.88 748.848 L899.88 744.913 Z\" fill=\"#000000\" fill-rule=\"evenodd\" fill-opacity=\"1\" /><path clip-path=\"url(#clip400)\" d=\"M939.232 717.367 Q935.621 717.367 933.792 720.931 Q931.987 724.473 931.987 731.603 Q931.987 738.709 933.792 742.274 Q935.621 745.815 939.232 745.815 Q942.866 745.815 944.672 742.274 Q946.501 738.709 946.501 731.603 Q946.501 724.473 944.672 720.931 Q942.866 717.367 939.232 717.367 M939.232 713.663 Q945.042 713.663 948.098 718.269 Q951.177 722.853 951.177 731.603 Q951.177 740.329 948.098 744.936 Q945.042 749.519 939.232 749.519 Q933.422 749.519 930.343 744.936 Q927.288 740.329 927.288 731.603 Q927.288 722.853 930.343 718.269 Q933.422 713.663 939.232 713.663 Z\" fill=\"#000000\" fill-rule=\"evenodd\" fill-opacity=\"1\" /><path clip-path=\"url(#clip400)\" d=\"M1361.96 744.913 L1378.28 744.913 L1378.28 748.848 L1356.33 748.848 L1356.33 744.913 Q1359 742.158 1363.58 737.528 Q1368.19 732.876 1369.37 731.533 Q1371.61 729.01 1372.49 727.274 Q1373.39 725.515 1373.39 723.825 Q1373.39 721.07 1371.45 719.334 Q1369.53 717.598 1366.43 717.598 Q1364.23 717.598 1361.77 718.362 Q1359.34 719.126 1356.57 720.677 L1356.57 715.955 Q1359.39 714.82 1361.84 714.242 Q1364.3 713.663 1366.33 713.663 Q1371.7 713.663 1374.9 716.348 Q1378.09 719.033 1378.09 723.524 Q1378.09 725.654 1377.28 727.575 Q1376.5 729.473 1374.39 732.066 Q1373.81 732.737 1370.71 735.954 Q1367.61 739.149 1361.96 744.913 Z\" fill=\"#000000\" fill-rule=\"evenodd\" fill-opacity=\"1\" /><path clip-path=\"url(#clip400)\" d=\"M1398.09 717.367 Q1394.48 717.367 1392.65 720.931 Q1390.85 724.473 1390.85 731.603 Q1390.85 738.709 1392.65 742.274 Q1394.48 745.815 1398.09 745.815 Q1401.73 745.815 1403.53 742.274 Q1405.36 738.709 1405.36 731.603 Q1405.36 724.473 1403.53 720.931 Q1401.73 717.367 1398.09 717.367 M1398.09 713.663 Q1403.9 713.663 1406.96 718.269 Q1410.04 722.853 1410.04 731.603 Q1410.04 740.329 1406.96 744.936 Q1403.9 749.519 1398.09 749.519 Q1392.28 749.519 1389.2 744.936 Q1386.15 740.329 1386.15 731.603 Q1386.15 722.853 1389.2 718.269 Q1392.28 713.663 1398.09 713.663 Z\" fill=\"#000000\" fill-rule=\"evenodd\" fill-opacity=\"1\" /><path clip-path=\"url(#clip400)\" d=\"M1830.02 730.214 Q1833.38 730.931 1835.25 733.2 Q1837.15 735.468 1837.15 738.802 Q1837.15 743.917 1833.63 746.718 Q1830.11 749.519 1823.63 749.519 Q1821.46 749.519 1819.14 749.079 Q1816.85 748.663 1814.4 747.806 L1814.4 743.292 Q1816.34 744.427 1818.66 745.005 Q1820.97 745.584 1823.49 745.584 Q1827.89 745.584 1830.18 743.848 Q1832.5 742.112 1832.5 738.802 Q1832.5 735.746 1830.34 734.033 Q1828.22 732.297 1824.4 732.297 L1820.37 732.297 L1820.37 728.454 L1824.58 728.454 Q1828.03 728.454 1829.86 727.089 Q1831.69 725.7 1831.69 723.107 Q1831.69 720.445 1829.79 719.033 Q1827.91 717.598 1824.4 717.598 Q1822.47 717.598 1820.28 718.015 Q1818.08 718.431 1815.44 719.311 L1815.44 715.144 Q1818.1 714.404 1820.41 714.033 Q1822.75 713.663 1824.81 713.663 Q1830.14 713.663 1833.24 716.093 Q1836.34 718.501 1836.34 722.621 Q1836.34 725.492 1834.7 727.482 Q1833.05 729.45 1830.02 730.214 Z\" fill=\"#000000\" fill-rule=\"evenodd\" fill-opacity=\"1\" /><path clip-path=\"url(#clip400)\" d=\"M1856.02 717.367 Q1852.4 717.367 1850.58 720.931 Q1848.77 724.473 1848.77 731.603 Q1848.77 738.709 1850.58 742.274 Q1852.4 745.815 1856.02 745.815 Q1859.65 745.815 1861.46 742.274 Q1863.28 738.709 1863.28 731.603 Q1863.28 724.473 1861.46 720.931 Q1859.65 717.367 1856.02 717.367 M1856.02 713.663 Q1861.83 713.663 1864.88 718.269 Q1867.96 722.853 1867.96 731.603 Q1867.96 740.329 1864.88 744.936 Q1861.83 749.519 1856.02 749.519 Q1850.21 749.519 1847.13 744.936 Q1844.07 740.329 1844.07 731.603 Q1844.07 722.853 1847.13 718.269 Q1850.21 713.663 1856.02 713.663 Z\" fill=\"#000000\" fill-rule=\"evenodd\" fill-opacity=\"1\" /><path clip-path=\"url(#clip400)\" d=\"M2287.34 718.362 L2275.54 736.811 L2287.34 736.811 L2287.34 718.362 M2286.12 714.288 L2291.99 714.288 L2291.99 736.811 L2296.93 736.811 L2296.93 740.7 L2291.99 740.7 L2291.99 748.848 L2287.34 748.848 L2287.34 740.7 L2271.74 740.7 L2271.74 736.186 L2286.12 714.288 Z\" fill=\"#000000\" fill-rule=\"evenodd\" fill-opacity=\"1\" /><path clip-path=\"url(#clip400)\" d=\"M2314.66 717.367 Q2311.05 717.367 2309.22 720.931 Q2307.41 724.473 2307.41 731.603 Q2307.41 738.709 2309.22 742.274 Q2311.05 745.815 2314.66 745.815 Q2318.29 745.815 2320.1 742.274 Q2321.93 738.709 2321.93 731.603 Q2321.93 724.473 2320.1 720.931 Q2318.29 717.367 2314.66 717.367 M2314.66 713.663 Q2320.47 713.663 2323.52 718.269 Q2326.6 722.853 2326.6 731.603 Q2326.6 740.329 2323.52 744.936 Q2320.47 749.519 2314.66 749.519 Q2308.85 749.519 2305.77 744.936 Q2302.71 740.329 2302.71 731.603 Q2302.71 722.853 2305.77 718.269 Q2308.85 713.663 2314.66 713.663 Z\" fill=\"#000000\" fill-rule=\"evenodd\" fill-opacity=\"1\" /><polyline clip-path=\"url(#clip403)\" style=\"stroke:#000000; stroke-linecap:round; stroke-linejoin:round; stroke-width:8; stroke-opacity:0.1; fill:none\" points=\"459.414,680.994 2352.76,680.994 \"/>\n",
       "<polyline clip-path=\"url(#clip403)\" style=\"stroke:#000000; stroke-linecap:round; stroke-linejoin:round; stroke-width:8; stroke-opacity:0.1; fill:none\" points=\"459.414,527.079 2352.76,527.079 \"/>\n",
       "<polyline clip-path=\"url(#clip403)\" style=\"stroke:#000000; stroke-linecap:round; stroke-linejoin:round; stroke-width:8; stroke-opacity:0.1; fill:none\" points=\"459.414,373.165 2352.76,373.165 \"/>\n",
       "<polyline clip-path=\"url(#clip403)\" style=\"stroke:#000000; stroke-linecap:round; stroke-linejoin:round; stroke-width:8; stroke-opacity:0.1; fill:none\" points=\"459.414,219.25 2352.76,219.25 \"/>\n",
       "<polyline clip-path=\"url(#clip403)\" style=\"stroke:#000000; stroke-linecap:round; stroke-linejoin:round; stroke-width:8; stroke-opacity:0.1; fill:none\" points=\"459.414,65.3348 2352.76,65.3348 \"/>\n",
       "<polyline clip-path=\"url(#clip400)\" style=\"stroke:#000000; stroke-linecap:round; stroke-linejoin:round; stroke-width:4; stroke-opacity:1; fill:none\" points=\"459.414,686.448 459.414,47.2441 \"/>\n",
       "<polyline clip-path=\"url(#clip400)\" style=\"stroke:#000000; stroke-linecap:round; stroke-linejoin:round; stroke-width:4; stroke-opacity:1; fill:none\" points=\"459.414,680.994 478.312,680.994 \"/>\n",
       "<polyline clip-path=\"url(#clip400)\" style=\"stroke:#000000; stroke-linecap:round; stroke-linejoin:round; stroke-width:4; stroke-opacity:1; fill:none\" points=\"459.414,527.079 478.312,527.079 \"/>\n",
       "<polyline clip-path=\"url(#clip400)\" style=\"stroke:#000000; stroke-linecap:round; stroke-linejoin:round; stroke-width:4; stroke-opacity:1; fill:none\" points=\"459.414,373.165 478.312,373.165 \"/>\n",
       "<polyline clip-path=\"url(#clip400)\" style=\"stroke:#000000; stroke-linecap:round; stroke-linejoin:round; stroke-width:4; stroke-opacity:1; fill:none\" points=\"459.414,219.25 478.312,219.25 \"/>\n",
       "<polyline clip-path=\"url(#clip400)\" style=\"stroke:#000000; stroke-linecap:round; stroke-linejoin:round; stroke-width:4; stroke-opacity:1; fill:none\" points=\"459.414,65.3348 478.312,65.3348 \"/>\n",
       "<path clip-path=\"url(#clip400)\" d=\"M119.044 687.893 L148.72 687.893 L148.72 691.829 L119.044 691.829 L119.044 687.893 Z\" fill=\"#000000\" fill-rule=\"evenodd\" fill-opacity=\"1\" /><path clip-path=\"url(#clip400)\" d=\"M159.622 700.787 L167.261 700.787 L167.261 674.421 L158.951 676.088 L158.951 671.829 L167.215 670.162 L171.891 670.162 L171.891 700.787 L179.53 700.787 L179.53 704.722 L159.622 704.722 L159.622 700.787 Z\" fill=\"#000000\" fill-rule=\"evenodd\" fill-opacity=\"1\" /><path clip-path=\"url(#clip400)\" d=\"M188.974 698.842 L193.858 698.842 L193.858 704.722 L188.974 704.722 L188.974 698.842 Z\" fill=\"#000000\" fill-rule=\"evenodd\" fill-opacity=\"1\" /><path clip-path=\"url(#clip400)\" d=\"M214.043 673.241 Q210.432 673.241 208.604 676.805 Q206.798 680.347 206.798 687.477 Q206.798 694.583 208.604 698.148 Q210.432 701.69 214.043 701.69 Q217.678 701.69 219.483 698.148 Q221.312 694.583 221.312 687.477 Q221.312 680.347 219.483 676.805 Q217.678 673.241 214.043 673.241 M214.043 669.537 Q219.853 669.537 222.909 674.143 Q225.988 678.727 225.988 687.477 Q225.988 696.203 222.909 700.81 Q219.853 705.393 214.043 705.393 Q208.233 705.393 205.155 700.81 Q202.099 696.203 202.099 687.477 Q202.099 678.727 205.155 674.143 Q208.233 669.537 214.043 669.537 Z\" fill=\"#000000\" fill-rule=\"evenodd\" fill-opacity=\"1\" /><path clip-path=\"url(#clip400)\" d=\"M244.205 673.241 Q240.594 673.241 238.765 676.805 Q236.96 680.347 236.96 687.477 Q236.96 694.583 238.765 698.148 Q240.594 701.69 244.205 701.69 Q247.839 701.69 249.645 698.148 Q251.474 694.583 251.474 687.477 Q251.474 680.347 249.645 676.805 Q247.839 673.241 244.205 673.241 M244.205 669.537 Q250.015 669.537 253.071 674.143 Q256.15 678.727 256.15 687.477 Q256.15 696.203 253.071 700.81 Q250.015 705.393 244.205 705.393 Q238.395 705.393 235.316 700.81 Q232.261 696.203 232.261 687.477 Q232.261 678.727 235.316 674.143 Q238.395 669.537 244.205 669.537 Z\" fill=\"#000000\" fill-rule=\"evenodd\" fill-opacity=\"1\" /><path clip-path=\"url(#clip400)\" d=\"M292.538 679.259 L281.96 689.884 L292.538 700.463 L289.784 703.264 L279.159 692.639 L268.534 703.264 L265.802 700.463 L276.358 689.884 L265.802 679.259 L268.534 676.458 L279.159 687.083 L289.784 676.458 L292.538 679.259 Z\" fill=\"#000000\" fill-rule=\"evenodd\" fill-opacity=\"1\" /><path clip-path=\"url(#clip400)\" d=\"M304.899 700.787 L312.538 700.787 L312.538 674.421 L304.228 676.088 L304.228 671.829 L312.492 670.162 L317.168 670.162 L317.168 700.787 L324.807 700.787 L324.807 704.722 L304.899 704.722 L304.899 700.787 Z\" fill=\"#000000\" fill-rule=\"evenodd\" fill-opacity=\"1\" /><path clip-path=\"url(#clip400)\" d=\"M344.251 673.241 Q340.64 673.241 338.811 676.805 Q337.006 680.347 337.006 687.477 Q337.006 694.583 338.811 698.148 Q340.64 701.69 344.251 701.69 Q347.885 701.69 349.691 698.148 Q351.519 694.583 351.519 687.477 Q351.519 680.347 349.691 676.805 Q347.885 673.241 344.251 673.241 M344.251 669.537 Q350.061 669.537 353.117 674.143 Q356.195 678.727 356.195 687.477 Q356.195 696.203 353.117 700.81 Q350.061 705.393 344.251 705.393 Q338.441 705.393 335.362 700.81 Q332.307 696.203 332.307 687.477 Q332.307 678.727 335.362 674.143 Q338.441 669.537 344.251 669.537 Z\" fill=\"#000000\" fill-rule=\"evenodd\" fill-opacity=\"1\" /><path clip-path=\"url(#clip400)\" d=\"M368.891 662.171 Q371.618 662.754 373.141 664.598 Q374.683 666.441 374.683 669.149 Q374.683 673.306 371.825 675.581 Q368.966 677.857 363.7 677.857 Q361.932 677.857 360.051 677.5 Q358.189 677.161 356.195 676.465 L356.195 672.798 Q357.775 673.719 359.656 674.189 Q361.537 674.66 363.587 674.66 Q367.16 674.66 369.022 673.249 Q370.903 671.838 370.903 669.149 Q370.903 666.666 369.154 665.275 Q367.424 663.864 364.32 663.864 L361.048 663.864 L361.048 660.742 L364.471 660.742 Q367.273 660.742 368.759 659.632 Q370.245 658.504 370.245 656.397 Q370.245 654.234 368.703 653.087 Q367.179 651.921 364.32 651.921 Q362.759 651.921 360.973 652.26 Q359.186 652.598 357.042 653.313 L357.042 649.927 Q359.205 649.326 361.085 649.025 Q362.985 648.724 364.659 648.724 Q368.985 648.724 371.505 650.699 Q374.025 652.655 374.025 656.002 Q374.025 658.335 372.69 659.952 Q371.354 661.551 368.891 662.171 Z\" fill=\"#000000\" fill-rule=\"evenodd\" fill-opacity=\"1\" /><path clip-path=\"url(#clip400)\" d=\"M390.012 651.733 Q387.078 651.733 385.592 654.629 Q384.125 657.507 384.125 663.3 Q384.125 669.074 385.592 671.97 Q387.078 674.848 390.012 674.848 Q392.965 674.848 394.432 671.97 Q395.917 669.074 395.917 663.3 Q395.917 657.507 394.432 654.629 Q392.965 651.733 390.012 651.733 M390.012 648.724 Q394.732 648.724 397.215 652.466 Q399.717 656.19 399.717 663.3 Q399.717 670.39 397.215 674.133 Q394.732 677.857 390.012 677.857 Q385.291 677.857 382.79 674.133 Q380.307 670.39 380.307 663.3 Q380.307 656.19 382.79 652.466 Q385.291 648.724 390.012 648.724 Z\" fill=\"#000000\" fill-rule=\"evenodd\" fill-opacity=\"1\" /><path clip-path=\"url(#clip400)\" d=\"M406.431 649.232 L421.345 649.232 L421.345 652.429 L409.91 652.429 L409.91 659.313 Q410.738 659.03 411.565 658.899 Q412.393 658.748 413.221 658.748 Q417.922 658.748 420.668 661.325 Q423.414 663.902 423.414 668.303 Q423.414 672.835 420.593 675.356 Q417.772 677.857 412.637 677.857 Q410.87 677.857 409.026 677.556 Q407.202 677.255 405.246 676.653 L405.246 672.835 Q406.939 673.757 408.744 674.208 Q410.55 674.66 412.562 674.66 Q415.816 674.66 417.716 672.948 Q419.615 671.237 419.615 668.303 Q419.615 665.369 417.716 663.657 Q415.816 661.946 412.562 661.946 Q411.039 661.946 409.515 662.284 Q408.011 662.623 406.431 663.337 L406.431 649.232 Z\" fill=\"#000000\" fill-rule=\"evenodd\" fill-opacity=\"1\" /><path clip-path=\"url(#clip400)\" d=\"M117.84 533.978 L147.516 533.978 L147.516 537.914 L117.84 537.914 L117.84 533.978 Z\" fill=\"#000000\" fill-rule=\"evenodd\" fill-opacity=\"1\" /><path clip-path=\"url(#clip400)\" d=\"M156.428 516.247 L178.65 516.247 L178.65 518.238 L166.104 550.807 L161.22 550.807 L173.025 520.182 L156.428 520.182 L156.428 516.247 Z\" fill=\"#000000\" fill-rule=\"evenodd\" fill-opacity=\"1\" /><path clip-path=\"url(#clip400)\" d=\"M187.77 544.927 L192.655 544.927 L192.655 550.807 L187.77 550.807 L187.77 544.927 Z\" fill=\"#000000\" fill-rule=\"evenodd\" fill-opacity=\"1\" /><path clip-path=\"url(#clip400)\" d=\"M202.886 516.247 L221.242 516.247 L221.242 520.182 L207.168 520.182 L207.168 528.654 Q208.187 528.307 209.205 528.145 Q210.224 527.96 211.242 527.96 Q217.029 527.96 220.409 531.131 Q223.789 534.303 223.789 539.719 Q223.789 545.298 220.316 548.4 Q216.844 551.478 210.525 551.478 Q208.349 551.478 206.08 551.108 Q203.835 550.738 201.428 549.997 L201.428 545.298 Q203.511 546.432 205.733 546.988 Q207.955 547.543 210.432 547.543 Q214.437 547.543 216.775 545.437 Q219.113 543.33 219.113 539.719 Q219.113 536.108 216.775 534.002 Q214.437 531.895 210.432 531.895 Q208.557 531.895 206.682 532.312 Q204.83 532.728 202.886 533.608 L202.886 516.247 Z\" fill=\"#000000\" fill-rule=\"evenodd\" fill-opacity=\"1\" /><path clip-path=\"url(#clip400)\" d=\"M243.002 519.326 Q239.39 519.326 237.562 522.891 Q235.756 526.432 235.756 533.562 Q235.756 540.668 237.562 544.233 Q239.39 547.775 243.002 547.775 Q246.636 547.775 248.441 544.233 Q250.27 540.668 250.27 533.562 Q250.27 526.432 248.441 522.891 Q246.636 519.326 243.002 519.326 M243.002 515.622 Q248.812 515.622 251.867 520.229 Q254.946 524.812 254.946 533.562 Q254.946 542.289 251.867 546.895 Q248.812 551.478 243.002 551.478 Q237.191 551.478 234.113 546.895 Q231.057 542.289 231.057 533.562 Q231.057 524.812 234.113 520.229 Q237.191 515.622 243.002 515.622 Z\" fill=\"#000000\" fill-rule=\"evenodd\" fill-opacity=\"1\" /><path clip-path=\"url(#clip400)\" d=\"M291.335 525.344 L280.756 535.969 L291.335 546.548 L288.58 549.349 L277.955 538.724 L267.33 549.349 L264.599 546.548 L275.154 535.969 L264.599 525.344 L267.33 522.543 L277.955 533.168 L288.58 522.543 L291.335 525.344 Z\" fill=\"#000000\" fill-rule=\"evenodd\" fill-opacity=\"1\" /><path clip-path=\"url(#clip400)\" d=\"M303.696 546.872 L311.334 546.872 L311.334 520.506 L303.024 522.173 L303.024 517.914 L311.288 516.247 L315.964 516.247 L315.964 546.872 L323.603 546.872 L323.603 550.807 L303.696 550.807 L303.696 546.872 Z\" fill=\"#000000\" fill-rule=\"evenodd\" fill-opacity=\"1\" /><path clip-path=\"url(#clip400)\" d=\"M343.047 519.326 Q339.436 519.326 337.607 522.891 Q335.802 526.432 335.802 533.562 Q335.802 540.668 337.607 544.233 Q339.436 547.775 343.047 547.775 Q346.682 547.775 348.487 544.233 Q350.316 540.668 350.316 533.562 Q350.316 526.432 348.487 522.891 Q346.682 519.326 343.047 519.326 M343.047 515.622 Q348.857 515.622 351.913 520.229 Q354.992 524.812 354.992 533.562 Q354.992 542.289 351.913 546.895 Q348.857 551.478 343.047 551.478 Q337.237 551.478 334.158 546.895 Q331.103 542.289 331.103 533.562 Q331.103 524.812 334.158 520.229 Q337.237 515.622 343.047 515.622 Z\" fill=\"#000000\" fill-rule=\"evenodd\" fill-opacity=\"1\" /><path clip-path=\"url(#clip400)\" d=\"M367.687 508.256 Q370.414 508.839 371.937 510.683 Q373.48 512.526 373.48 515.234 Q373.48 519.391 370.621 521.666 Q367.762 523.942 362.496 523.942 Q360.728 523.942 358.847 523.585 Q356.985 523.246 354.992 522.55 L354.992 518.883 Q356.572 519.804 358.452 520.275 Q360.333 520.745 362.383 520.745 Q365.957 520.745 367.819 519.334 Q369.699 517.924 369.699 515.234 Q369.699 512.751 367.95 511.36 Q366.22 509.949 363.117 509.949 L359.844 509.949 L359.844 506.827 L363.267 506.827 Q366.069 506.827 367.555 505.717 Q369.041 504.589 369.041 502.482 Q369.041 500.32 367.499 499.172 Q365.975 498.006 363.117 498.006 Q361.556 498.006 359.769 498.345 Q357.982 498.683 355.838 499.398 L355.838 496.013 Q358.001 495.411 359.882 495.11 Q361.781 494.809 363.455 494.809 Q367.781 494.809 370.301 496.784 Q372.821 498.74 372.821 502.087 Q372.821 504.42 371.486 506.037 Q370.151 507.636 367.687 508.256 Z\" fill=\"#000000\" fill-rule=\"evenodd\" fill-opacity=\"1\" /><path clip-path=\"url(#clip400)\" d=\"M388.808 497.818 Q385.874 497.818 384.388 500.714 Q382.921 503.592 382.921 509.385 Q382.921 515.159 384.388 518.055 Q385.874 520.933 388.808 520.933 Q391.761 520.933 393.228 518.055 Q394.714 515.159 394.714 509.385 Q394.714 503.592 393.228 500.714 Q391.761 497.818 388.808 497.818 M388.808 494.809 Q393.529 494.809 396.011 498.552 Q398.513 502.276 398.513 509.385 Q398.513 516.475 396.011 520.218 Q393.529 523.942 388.808 523.942 Q384.087 523.942 381.586 520.218 Q379.103 516.475 379.103 509.385 Q379.103 502.276 381.586 498.552 Q384.087 494.809 388.808 494.809 Z\" fill=\"#000000\" fill-rule=\"evenodd\" fill-opacity=\"1\" /><path clip-path=\"url(#clip400)\" d=\"M415.628 498.627 L406.036 513.617 L415.628 513.617 L415.628 498.627 M414.631 495.317 L419.408 495.317 L419.408 513.617 L423.414 513.617 L423.414 516.776 L419.408 516.776 L419.408 523.397 L415.628 523.397 L415.628 516.776 L402.951 516.776 L402.951 513.109 L414.631 495.317 Z\" fill=\"#000000\" fill-rule=\"evenodd\" fill-opacity=\"1\" /><path clip-path=\"url(#clip400)\" d=\"M117.84 380.064 L147.516 380.064 L147.516 383.999 L117.84 383.999 L117.84 380.064 Z\" fill=\"#000000\" fill-rule=\"evenodd\" fill-opacity=\"1\" /><path clip-path=\"url(#clip400)\" d=\"M157.655 362.332 L176.011 362.332 L176.011 366.267 L161.937 366.267 L161.937 374.74 Q162.956 374.392 163.974 374.23 Q164.993 374.045 166.011 374.045 Q171.798 374.045 175.178 377.216 Q178.557 380.388 178.557 385.804 Q178.557 391.383 175.085 394.485 Q171.613 397.563 165.294 397.563 Q163.118 397.563 160.849 397.193 Q158.604 396.823 156.196 396.082 L156.196 391.383 Q158.28 392.517 160.502 393.073 Q162.724 393.628 165.201 393.628 Q169.206 393.628 171.544 391.522 Q173.882 389.415 173.882 385.804 Q173.882 382.193 171.544 380.087 Q169.206 377.98 165.201 377.98 Q163.326 377.98 161.451 378.397 Q159.599 378.814 157.655 379.693 L157.655 362.332 Z\" fill=\"#000000\" fill-rule=\"evenodd\" fill-opacity=\"1\" /><path clip-path=\"url(#clip400)\" d=\"M187.77 391.013 L192.655 391.013 L192.655 396.892 L187.77 396.892 L187.77 391.013 Z\" fill=\"#000000\" fill-rule=\"evenodd\" fill-opacity=\"1\" /><path clip-path=\"url(#clip400)\" d=\"M212.84 365.411 Q209.229 365.411 207.4 368.976 Q205.594 372.517 205.594 379.647 Q205.594 386.753 207.4 390.318 Q209.229 393.86 212.84 393.86 Q216.474 393.86 218.279 390.318 Q220.108 386.753 220.108 379.647 Q220.108 372.517 218.279 368.976 Q216.474 365.411 212.84 365.411 M212.84 361.707 Q218.65 361.707 221.705 366.314 Q224.784 370.897 224.784 379.647 Q224.784 388.374 221.705 392.98 Q218.65 397.563 212.84 397.563 Q207.029 397.563 203.951 392.98 Q200.895 388.374 200.895 379.647 Q200.895 370.897 203.951 366.314 Q207.029 361.707 212.84 361.707 Z\" fill=\"#000000\" fill-rule=\"evenodd\" fill-opacity=\"1\" /><path clip-path=\"url(#clip400)\" d=\"M243.002 365.411 Q239.39 365.411 237.562 368.976 Q235.756 372.517 235.756 379.647 Q235.756 386.753 237.562 390.318 Q239.39 393.86 243.002 393.86 Q246.636 393.86 248.441 390.318 Q250.27 386.753 250.27 379.647 Q250.27 372.517 248.441 368.976 Q246.636 365.411 243.002 365.411 M243.002 361.707 Q248.812 361.707 251.867 366.314 Q254.946 370.897 254.946 379.647 Q254.946 388.374 251.867 392.98 Q248.812 397.563 243.002 397.563 Q237.191 397.563 234.113 392.98 Q231.057 388.374 231.057 379.647 Q231.057 370.897 234.113 366.314 Q237.191 361.707 243.002 361.707 Z\" fill=\"#000000\" fill-rule=\"evenodd\" fill-opacity=\"1\" /><path clip-path=\"url(#clip400)\" d=\"M291.335 371.429 L280.756 382.054 L291.335 392.633 L288.58 395.434 L277.955 384.809 L267.33 395.434 L264.599 392.633 L275.154 382.054 L264.599 371.429 L267.33 368.628 L277.955 379.253 L288.58 368.628 L291.335 371.429 Z\" fill=\"#000000\" fill-rule=\"evenodd\" fill-opacity=\"1\" /><path clip-path=\"url(#clip400)\" d=\"M303.696 392.957 L311.334 392.957 L311.334 366.591 L303.024 368.258 L303.024 363.999 L311.288 362.332 L315.964 362.332 L315.964 392.957 L323.603 392.957 L323.603 396.892 L303.696 396.892 L303.696 392.957 Z\" fill=\"#000000\" fill-rule=\"evenodd\" fill-opacity=\"1\" /><path clip-path=\"url(#clip400)\" d=\"M343.047 365.411 Q339.436 365.411 337.607 368.976 Q335.802 372.517 335.802 379.647 Q335.802 386.753 337.607 390.318 Q339.436 393.86 343.047 393.86 Q346.682 393.86 348.487 390.318 Q350.316 386.753 350.316 379.647 Q350.316 372.517 348.487 368.976 Q346.682 365.411 343.047 365.411 M343.047 361.707 Q348.857 361.707 351.913 366.314 Q354.992 370.897 354.992 379.647 Q354.992 388.374 351.913 392.98 Q348.857 397.563 343.047 397.563 Q337.237 397.563 334.158 392.98 Q331.103 388.374 331.103 379.647 Q331.103 370.897 334.158 366.314 Q337.237 361.707 343.047 361.707 Z\" fill=\"#000000\" fill-rule=\"evenodd\" fill-opacity=\"1\" /><path clip-path=\"url(#clip400)\" d=\"M367.687 354.342 Q370.414 354.925 371.937 356.768 Q373.48 358.611 373.48 361.319 Q373.48 365.476 370.621 367.751 Q367.762 370.027 362.496 370.027 Q360.728 370.027 358.847 369.67 Q356.985 369.331 354.992 368.635 L354.992 364.968 Q356.572 365.889 358.452 366.36 Q360.333 366.83 362.383 366.83 Q365.957 366.83 367.819 365.419 Q369.699 364.009 369.699 361.319 Q369.699 358.837 367.95 357.445 Q366.22 356.034 363.117 356.034 L359.844 356.034 L359.844 352.912 L363.267 352.912 Q366.069 352.912 367.555 351.802 Q369.041 350.674 369.041 348.568 Q369.041 346.405 367.499 345.257 Q365.975 344.091 363.117 344.091 Q361.556 344.091 359.769 344.43 Q357.982 344.768 355.838 345.483 L355.838 342.098 Q358.001 341.496 359.882 341.195 Q361.781 340.894 363.455 340.894 Q367.781 340.894 370.301 342.869 Q372.821 344.825 372.821 348.173 Q372.821 350.505 371.486 352.122 Q370.151 353.721 367.687 354.342 Z\" fill=\"#000000\" fill-rule=\"evenodd\" fill-opacity=\"1\" /><path clip-path=\"url(#clip400)\" d=\"M388.808 343.903 Q385.874 343.903 384.388 346.8 Q382.921 349.677 382.921 355.47 Q382.921 361.244 384.388 364.14 Q385.874 367.018 388.808 367.018 Q391.761 367.018 393.228 364.14 Q394.714 361.244 394.714 355.47 Q394.714 349.677 393.228 346.8 Q391.761 343.903 388.808 343.903 M388.808 340.894 Q393.529 340.894 396.011 344.637 Q398.513 348.361 398.513 355.47 Q398.513 362.561 396.011 366.303 Q393.529 370.027 388.808 370.027 Q384.087 370.027 381.586 366.303 Q379.103 362.561 379.103 355.47 Q379.103 348.361 381.586 344.637 Q384.087 340.894 388.808 340.894 Z\" fill=\"#000000\" fill-rule=\"evenodd\" fill-opacity=\"1\" /><path clip-path=\"url(#clip400)\" d=\"M415.628 344.712 L406.036 359.702 L415.628 359.702 L415.628 344.712 M414.631 341.402 L419.408 341.402 L419.408 359.702 L423.414 359.702 L423.414 362.861 L419.408 362.861 L419.408 369.482 L415.628 369.482 L415.628 362.861 L402.951 362.861 L402.951 359.194 L414.631 341.402 Z\" fill=\"#000000\" fill-rule=\"evenodd\" fill-opacity=\"1\" /><path clip-path=\"url(#clip400)\" d=\"M117.84 226.149 L147.516 226.149 L147.516 230.084 L117.84 230.084 L117.84 226.149 Z\" fill=\"#000000\" fill-rule=\"evenodd\" fill-opacity=\"1\" /><path clip-path=\"url(#clip400)\" d=\"M161.636 239.042 L177.956 239.042 L177.956 242.977 L156.011 242.977 L156.011 239.042 Q158.673 236.287 163.257 231.658 Q167.863 227.005 169.044 225.663 Q171.289 223.139 172.169 221.403 Q173.071 219.644 173.071 217.954 Q173.071 215.2 171.127 213.464 Q169.206 211.727 166.104 211.727 Q163.905 211.727 161.451 212.491 Q159.02 213.255 156.243 214.806 L156.243 210.084 Q159.067 208.95 161.52 208.371 Q163.974 207.792 166.011 207.792 Q171.382 207.792 174.576 210.477 Q177.77 213.163 177.77 217.653 Q177.77 219.783 176.96 221.704 Q176.173 223.602 174.067 226.195 Q173.488 226.866 170.386 230.084 Q167.284 233.278 161.636 239.042 Z\" fill=\"#000000\" fill-rule=\"evenodd\" fill-opacity=\"1\" /><path clip-path=\"url(#clip400)\" d=\"M187.77 237.098 L192.655 237.098 L192.655 242.977 L187.77 242.977 L187.77 237.098 Z\" fill=\"#000000\" fill-rule=\"evenodd\" fill-opacity=\"1\" /><path clip-path=\"url(#clip400)\" d=\"M202.886 208.417 L221.242 208.417 L221.242 212.352 L207.168 212.352 L207.168 220.825 Q208.187 220.477 209.205 220.315 Q210.224 220.13 211.242 220.13 Q217.029 220.13 220.409 223.301 Q223.789 226.473 223.789 231.889 Q223.789 237.468 220.316 240.57 Q216.844 243.649 210.525 243.649 Q208.349 243.649 206.08 243.278 Q203.835 242.908 201.428 242.167 L201.428 237.468 Q203.511 238.602 205.733 239.158 Q207.955 239.713 210.432 239.713 Q214.437 239.713 216.775 237.607 Q219.113 235.5 219.113 231.889 Q219.113 228.278 216.775 226.172 Q214.437 224.065 210.432 224.065 Q208.557 224.065 206.682 224.482 Q204.83 224.899 202.886 225.778 L202.886 208.417 Z\" fill=\"#000000\" fill-rule=\"evenodd\" fill-opacity=\"1\" /><path clip-path=\"url(#clip400)\" d=\"M243.002 211.496 Q239.39 211.496 237.562 215.061 Q235.756 218.602 235.756 225.732 Q235.756 232.838 237.562 236.403 Q239.39 239.945 243.002 239.945 Q246.636 239.945 248.441 236.403 Q250.27 232.838 250.27 225.732 Q250.27 218.602 248.441 215.061 Q246.636 211.496 243.002 211.496 M243.002 207.792 Q248.812 207.792 251.867 212.399 Q254.946 216.982 254.946 225.732 Q254.946 234.459 251.867 239.065 Q248.812 243.649 243.002 243.649 Q237.191 243.649 234.113 239.065 Q231.057 234.459 231.057 225.732 Q231.057 216.982 234.113 212.399 Q237.191 207.792 243.002 207.792 Z\" fill=\"#000000\" fill-rule=\"evenodd\" fill-opacity=\"1\" /><path clip-path=\"url(#clip400)\" d=\"M291.335 217.514 L280.756 228.139 L291.335 238.718 L288.58 241.519 L277.955 230.894 L267.33 241.519 L264.599 238.718 L275.154 228.139 L264.599 217.514 L267.33 214.714 L277.955 225.338 L288.58 214.714 L291.335 217.514 Z\" fill=\"#000000\" fill-rule=\"evenodd\" fill-opacity=\"1\" /><path clip-path=\"url(#clip400)\" d=\"M303.696 239.042 L311.334 239.042 L311.334 212.677 L303.024 214.343 L303.024 210.084 L311.288 208.417 L315.964 208.417 L315.964 239.042 L323.603 239.042 L323.603 242.977 L303.696 242.977 L303.696 239.042 Z\" fill=\"#000000\" fill-rule=\"evenodd\" fill-opacity=\"1\" /><path clip-path=\"url(#clip400)\" d=\"M343.047 211.496 Q339.436 211.496 337.607 215.061 Q335.802 218.602 335.802 225.732 Q335.802 232.838 337.607 236.403 Q339.436 239.945 343.047 239.945 Q346.682 239.945 348.487 236.403 Q350.316 232.838 350.316 225.732 Q350.316 218.602 348.487 215.061 Q346.682 211.496 343.047 211.496 M343.047 207.792 Q348.857 207.792 351.913 212.399 Q354.992 216.982 354.992 225.732 Q354.992 234.459 351.913 239.065 Q348.857 243.649 343.047 243.649 Q337.237 243.649 334.158 239.065 Q331.103 234.459 331.103 225.732 Q331.103 216.982 334.158 212.399 Q337.237 207.792 343.047 207.792 Z\" fill=\"#000000\" fill-rule=\"evenodd\" fill-opacity=\"1\" /><path clip-path=\"url(#clip400)\" d=\"M367.687 200.427 Q370.414 201.01 371.937 202.853 Q373.48 204.696 373.48 207.404 Q373.48 211.561 370.621 213.837 Q367.762 216.112 362.496 216.112 Q360.728 216.112 358.847 215.755 Q356.985 215.416 354.992 214.721 L354.992 211.053 Q356.572 211.975 358.452 212.445 Q360.333 212.915 362.383 212.915 Q365.957 212.915 367.819 211.504 Q369.699 210.094 369.699 207.404 Q369.699 204.922 367.95 203.53 Q366.22 202.119 363.117 202.119 L359.844 202.119 L359.844 198.997 L363.267 198.997 Q366.069 198.997 367.555 197.888 Q369.041 196.759 369.041 194.653 Q369.041 192.49 367.499 191.342 Q365.975 190.176 363.117 190.176 Q361.556 190.176 359.769 190.515 Q357.982 190.853 355.838 191.568 L355.838 188.183 Q358.001 187.581 359.882 187.28 Q361.781 186.979 363.455 186.979 Q367.781 186.979 370.301 188.954 Q372.821 190.91 372.821 194.258 Q372.821 196.59 371.486 198.207 Q370.151 199.806 367.687 200.427 Z\" fill=\"#000000\" fill-rule=\"evenodd\" fill-opacity=\"1\" /><path clip-path=\"url(#clip400)\" d=\"M388.808 189.988 Q385.874 189.988 384.388 192.885 Q382.921 195.762 382.921 201.555 Q382.921 207.329 384.388 210.225 Q385.874 213.103 388.808 213.103 Q391.761 213.103 393.228 210.225 Q394.714 207.329 394.714 201.555 Q394.714 195.762 393.228 192.885 Q391.761 189.988 388.808 189.988 M388.808 186.979 Q393.529 186.979 396.011 190.722 Q398.513 194.446 398.513 201.555 Q398.513 208.646 396.011 212.388 Q393.529 216.112 388.808 216.112 Q384.087 216.112 381.586 212.388 Q379.103 208.646 379.103 201.555 Q379.103 194.446 381.586 190.722 Q384.087 186.979 388.808 186.979 Z\" fill=\"#000000\" fill-rule=\"evenodd\" fill-opacity=\"1\" /><path clip-path=\"url(#clip400)\" d=\"M415.628 190.797 L406.036 205.787 L415.628 205.787 L415.628 190.797 M414.631 187.487 L419.408 187.487 L419.408 205.787 L423.414 205.787 L423.414 208.947 L419.408 208.947 L419.408 215.567 L415.628 215.567 L415.628 208.947 L402.951 208.947 L402.951 205.279 L414.631 187.487 Z\" fill=\"#000000\" fill-rule=\"evenodd\" fill-opacity=\"1\" /><path clip-path=\"url(#clip400)\" d=\"M411.47 51.1335 Q407.859 51.1335 406.03 54.6983 Q404.225 58.2399 404.225 65.3695 Q404.225 72.4759 406.03 76.0407 Q407.859 79.5824 411.47 79.5824 Q415.104 79.5824 416.91 76.0407 Q418.738 72.4759 418.738 65.3695 Q418.738 58.2399 416.91 54.6983 Q415.104 51.1335 411.47 51.1335 M411.47 47.4298 Q417.28 47.4298 420.336 52.0362 Q423.414 56.6195 423.414 65.3695 Q423.414 74.0963 420.336 78.7028 Q417.28 83.2861 411.47 83.2861 Q405.66 83.2861 402.581 78.7028 Q399.526 74.0963 399.526 65.3695 Q399.526 56.6195 402.581 52.0362 Q405.66 47.4298 411.47 47.4298 Z\" fill=\"#000000\" fill-rule=\"evenodd\" fill-opacity=\"1\" /><path clip-path=\"url(#clip400)\" d=\"M17.9264 419.915 Q18.5383 419.915 19.0536 420.044 L30.5189 421.847 Q31.3884 421.944 31.7105 422.137 Q32.0325 422.298 32.0325 422.814 Q32.0325 423.619 31.1952 423.619 Q30.7121 423.619 29.9391 423.426 Q26.2999 422.878 24.6574 422.878 Q23.5624 422.878 22.7572 423.103 Q21.9199 423.297 21.3402 423.619 Q20.7605 423.909 20.374 424.585 Q19.9875 425.261 19.7621 425.905 Q19.5367 426.549 19.44 427.709 Q19.3112 428.868 19.279 429.867 Q19.2468 430.865 19.2468 432.508 Q19.2468 436.082 19.3756 436.662 Q19.5367 437.274 20.0197 437.596 Q20.4706 437.886 21.8233 438.208 L56.831 446.968 L58.2159 447.226 Q58.9888 447.226 59.2465 446.743 Q59.5041 446.259 59.6652 444.778 Q59.8262 442.652 59.8262 440.559 Q59.8262 440.495 59.8262 440.366 Q59.8262 439.657 59.8584 439.367 Q59.8584 439.078 59.9228 438.788 Q59.9872 438.498 60.1482 438.433 Q60.2771 438.337 60.5347 438.337 Q61.1466 438.337 61.4687 438.594 Q61.7585 438.852 61.823 439.11 Q61.8552 439.335 61.8552 439.786 Q61.8552 440.688 61.7907 442.62 Q61.7263 444.553 61.7263 445.519 L61.6619 450.994 L61.7263 456.598 Q61.7263 457.467 61.7907 459.303 Q61.8552 461.139 61.8552 462.008 Q61.8552 463.135 61.05 463.135 Q60.1482 463.135 59.9872 462.717 Q59.8262 462.266 59.8262 460.366 Q59.8262 457.693 59.6974 456.243 Q59.5685 454.794 59.1177 454.021 Q58.6668 453.216 58.2159 452.99 Q57.7328 452.765 56.6378 452.507 L21.4368 443.651 Q20.6639 443.393 20.0519 443.393 Q19.7299 443.393 19.6011 443.49 Q19.4722 443.554 19.3756 443.973 Q19.2468 444.392 19.2468 445.261 L19.2468 447.838 Q19.2468 450.478 19.3756 452.121 Q19.4722 453.731 19.9553 455.277 Q20.4384 456.791 21.1147 457.693 Q21.7911 458.562 23.1759 459.528 Q24.5608 460.494 26.2355 461.203 Q27.9102 461.879 30.6477 462.845 Q31.5494 463.168 31.8071 463.361 Q32.0325 463.522 32.0325 463.973 Q32.0325 464.295 31.8393 464.552 Q31.6139 464.778 31.324 464.778 Q30.2612 464.456 30.1324 464.391 L18.5061 460.43 Q17.5721 460.108 17.4111 459.818 Q17.2178 459.496 17.2178 458.304 L17.2178 421.719 Q17.2178 421.139 17.2178 420.946 Q17.2178 420.752 17.2822 420.43 Q17.3467 420.108 17.5077 420.012 Q17.6687 419.915 17.9264 419.915 Z\" fill=\"#000000\" fill-rule=\"evenodd\" fill-opacity=\"1\" /><path clip-path=\"url(#clip400)\" d=\"M51.2753 394.379 Q52.1996 394.379 52.9661 395.168 Q53.7326 395.957 53.7326 396.881 Q53.7326 397.648 53.2591 398.121 Q52.7857 398.572 52.0643 398.572 Q51.0724 398.572 50.351 397.783 Q49.607 396.994 49.607 396.137 Q49.607 395.348 50.103 394.875 Q50.5764 394.379 51.2753 394.379 M63.9676 396.092 Q64.7566 396.092 65.681 396.318 L82.589 400.556 Q84.2347 400.962 85.5874 401.931 Q86.9626 402.901 87.8193 404.141 Q88.6759 405.358 89.1268 406.688 Q89.6002 407.996 89.6002 409.235 Q89.6002 410.971 88.8337 412.144 Q88.0672 413.316 86.7371 413.316 Q85.5648 413.316 84.8209 412.549 Q84.0995 411.76 84.0995 410.814 Q84.0995 409.957 84.5955 409.506 Q85.0914 409.055 85.7227 409.055 Q86.4892 409.055 87.2106 409.619 Q87.932 410.16 88.1574 411.129 Q88.5858 410.25 88.5858 409.326 Q88.5858 407.432 86.8499 405.899 Q85.1365 404.343 82.4312 403.667 L65.2075 399.316 Q63.8323 399 62.8629 399 Q61.9612 399 61.4652 399.248 Q60.9692 399.496 60.8565 399.789 Q60.7438 400.06 60.7438 400.466 Q60.7438 402.247 62.3895 403.78 Q64.0127 405.313 66.3798 406.282 Q67.0336 406.553 67.1689 406.688 Q67.3041 406.801 67.3041 407.116 Q67.2816 407.68 66.8307 407.68 Q66.6954 407.68 66.1544 407.454 Q65.6133 407.229 64.8243 406.823 Q64.0127 406.417 63.1335 405.764 Q62.2542 405.11 61.4877 404.343 Q60.7212 403.554 60.2253 402.495 Q59.7293 401.435 59.7293 400.331 Q59.7293 398.55 60.9016 397.332 Q62.0513 396.092 63.9676 396.092 Z\" fill=\"#000000\" fill-rule=\"evenodd\" fill-opacity=\"1\" /><path clip-path=\"url(#clip400)\" d=\"M53.7777 387.655 L52.3348 387.655 Q52.3348 382.109 49.3816 379.246 Q49.3816 378.457 49.5619 378.322 Q49.7423 378.187 50.5764 378.187 L76.4796 378.187 Q77.8548 378.187 78.2831 377.51 Q78.7114 376.834 78.7114 373.881 L78.7114 372.415 L80.1317 372.415 Q79.9965 374.038 79.9965 379.9 Q79.9965 385.761 80.1317 387.362 L78.7114 387.362 L78.7114 385.897 Q78.7114 382.988 78.3056 382.29 Q77.8773 381.591 76.4796 381.591 L52.5603 381.591 Q53.7777 384.003 53.7777 387.655 Z\" fill=\"#000000\" fill-rule=\"evenodd\" fill-opacity=\"1\" /><path clip-path=\"url(#clip400)\" d=\"M78.3446 357.75 L12.387 357.75 L12.387 347.799 L13.9006 347.799 L13.9006 353.338 L76.8309 353.338 L76.8309 347.799 L78.3446 347.799 L78.3446 357.75 Z\" fill=\"#000000\" fill-rule=\"evenodd\" fill-opacity=\"1\" /><path clip-path=\"url(#clip400)\" d=\"M17.5399 289.273 Q17.9586 289.273 18.2484 289.37 Q18.5061 289.466 18.6349 289.692 Q18.7637 289.917 18.7959 290.046 Q18.8281 290.175 18.8603 290.465 Q18.9892 291.85 19.2146 292.816 Q19.44 293.75 20.5994 296.069 Q21.7589 298.355 23.8522 301.222 L32.7733 312.751 L34.2869 314.684 Q34.3836 314.684 34.5768 314.619 Q34.7378 314.555 34.9633 314.49 Q35.1565 314.394 35.2209 314.362 L56.831 304.99 Q58.5702 304.249 59.1821 303.347 Q59.794 302.445 59.8262 300.416 Q59.8262 300.094 59.8584 299.966 Q59.8584 299.804 59.9228 299.579 Q59.955 299.321 60.116 299.225 Q60.2771 299.096 60.5347 299.096 Q61.8552 299.096 61.8552 300.288 Q61.8552 301.028 61.7585 303.54 Q61.6619 306.052 61.6619 306.761 Q61.6619 308.081 61.7585 310.787 Q61.8552 313.492 61.8552 314.812 Q61.8552 315.746 61.1144 315.746 Q60.5025 315.746 60.2127 315.521 Q59.8906 315.263 59.8584 315.038 Q59.8262 314.812 59.8262 314.297 Q59.8262 313.911 59.794 313.492 Q59.7296 313.041 59.5685 312.397 Q59.3753 311.721 58.9244 311.302 Q58.4413 310.851 57.765 310.851 Q57.2175 310.851 55.4462 311.656 L37.7008 319.289 L45.3658 329.112 L55.736 331.753 Q56.1225 331.817 56.7988 331.978 Q57.4752 332.139 57.9582 332.268 Q58.4413 332.365 58.6346 332.365 Q59.0532 332.365 59.3109 332.107 Q59.5685 331.817 59.6974 331.109 Q59.794 330.4 59.8262 329.853 Q59.8262 329.273 59.8262 328.081 Q59.8262 326.6 60.0838 326.342 Q60.2449 326.213 60.5347 326.213 Q60.9856 326.213 61.3077 326.342 Q61.5975 326.471 61.6941 326.729 Q61.7907 326.954 61.823 327.115 Q61.8552 327.276 61.8552 327.534 Q61.8552 328.21 61.7907 329.659 Q61.7263 331.076 61.7263 331.817 L61.6619 336.036 L61.8552 344.41 Q61.8552 345.408 61.05 345.408 Q60.4381 345.408 60.1805 345.15 Q59.8906 344.893 59.8584 344.603 Q59.8262 344.313 59.8262 343.572 Q59.8262 341.962 59.7296 340.996 Q59.633 340.03 59.5041 339.418 Q59.3431 338.774 58.8922 338.452 Q58.4413 338.097 58.0549 337.936 Q57.6362 337.775 56.7022 337.55 L21.2758 328.725 Q20.213 328.468 20.0519 328.468 Q19.5044 328.468 19.3112 328.79 Q19.0858 329.08 18.9892 329.917 Q18.8603 331.527 18.8603 332.751 Q18.8603 333.556 18.8281 333.878 Q18.7959 334.168 18.6349 334.426 Q18.4417 334.651 18.0552 334.651 Q16.7992 334.651 16.7992 333.331 L16.9924 324.828 L16.7992 316.39 Q16.7992 315.457 17.5399 315.457 Q18.4739 315.457 18.6671 315.907 Q18.8603 316.326 18.8603 317.711 Q18.8603 320.126 19.1824 321.221 Q19.4722 322.284 19.9875 322.606 Q20.4706 322.896 21.8877 323.25 L43.0469 328.532 L23.2725 302.8 Q21.2758 300.416 20.2452 300.416 Q19.5689 300.416 19.279 300.899 Q18.957 301.35 18.8603 302.478 Q18.7315 303.283 18.1196 303.283 Q17.5077 303.283 17.2178 303.057 Q16.8958 302.8 16.8636 302.606 Q16.7992 302.381 16.7992 302.027 Q16.7992 300.835 16.8958 298.355 Q16.9924 295.875 16.9924 294.684 Q16.9924 293.879 16.8958 292.301 Q16.7992 290.722 16.7992 290.014 Q16.7992 289.66 17.0568 289.466 Q17.2822 289.273 17.5399 289.273 Z\" fill=\"#000000\" fill-rule=\"evenodd\" fill-opacity=\"1\" /><path clip-path=\"url(#clip400)\" d=\"M76.8309 287.064 L76.8309 281.525 L13.9006 281.525 L13.9006 287.064 L12.387 287.064 L12.387 277.113 L78.3446 277.113 L78.3446 287.064 L76.8309 287.064 Z\" fill=\"#000000\" fill-rule=\"evenodd\" fill-opacity=\"1\" /><polyline clip-path=\"url(#clip403)\" style=\"stroke:#000000; stroke-linecap:round; stroke-linejoin:round; stroke-width:4; stroke-opacity:1; fill:none\" stroke-dasharray=\"2, 4\" points=\"512.999,65.3348 558.799,65.3348 604.598,65.3348 650.397,65.3348 696.197,65.3348 741.996,65.3348 787.795,65.3348 833.594,65.3348 879.394,65.3348 925.193,65.3348 970.992,65.3348 1016.79,65.3348 1062.59,65.3348 1108.39,65.3348 1154.19,65.3348 1199.99,65.3348 1245.79,65.3348 1291.59,65.3348 1337.39,65.3348 1383.19,65.3348 1428.98,65.3348 1474.78,65.3348 1520.58,65.3348 1566.38,65.3348 1612.18,65.3348 1657.98,65.3348 1703.78,65.3348 1749.58,65.3348 1795.38,65.3348 1841.18,65.3348 1886.98,65.3348 1932.78,65.3348 1978.58,65.3348 2024.38,65.3348 2070.17,65.3348 2115.97,65.3348 2161.77,65.3348 2207.57,65.3348 2253.37,65.3348 2299.17,65.3348 \"/>\n",
       "<polyline clip-path=\"url(#clip403)\" style=\"stroke:#ff0000; stroke-linecap:round; stroke-linejoin:round; stroke-width:12; stroke-opacity:0.3; fill:none\" points=\"512.999,65.3348 558.799,65.3348 604.598,65.3348 650.397,65.3348 696.197,65.3348 741.996,65.3348 787.795,65.3348 833.594,65.3348 879.394,65.3348 925.193,65.3348 970.992,668.357 1016.79,65.3348 1062.59,65.3348 1108.39,65.3348 1154.19,65.3348 1199.99,65.3348 1245.79,65.3348 1291.59,65.3348 1337.39,65.3348 1383.19,65.3348 1428.98,65.3348 1474.78,65.3348 1520.58,65.3348 1566.38,65.3348 1612.18,65.3348 1657.98,65.3348 1703.78,65.3348 1749.58,65.3348 1795.38,65.3348 1841.18,65.3348 1886.98,65.3348 1932.78,65.3348 1978.58,65.3348 2024.38,65.3348 2070.17,65.3348 2115.97,65.3348 2161.77,65.3348 2207.57,65.3348 2253.37,65.3348 2299.17,65.3348 \"/>\n",
       "<polyline clip-path=\"url(#clip403)\" style=\"stroke:#0000ff; stroke-linecap:round; stroke-linejoin:round; stroke-width:12; stroke-opacity:0.3; fill:none\" points=\"512.999,65.3348 558.799,65.3348 604.598,65.3348 650.397,65.3348 696.197,65.3348 741.996,65.3348 787.795,65.3348 833.594,65.3348 879.394,65.3348 925.193,65.3348 970.992,65.3348 1016.79,65.3348 1062.59,65.3348 1108.39,65.3348 1154.19,65.3348 1199.99,65.3348 1245.79,65.3348 1291.59,65.3348 1337.39,65.3348 1383.19,65.3348 1428.98,65.3348 1474.78,65.3348 1520.58,65.3348 1566.38,65.3348 1612.18,65.3348 1657.98,65.3348 1703.78,65.3348 1749.58,65.3348 1795.38,65.3348 1841.18,65.3348 1886.98,65.3348 1932.78,65.3348 1978.58,65.3348 2024.38,65.3348 2070.17,65.3348 2115.97,65.3348 2161.77,65.3348 2207.57,65.3348 2253.37,65.3348 2299.17,65.3348 \"/>\n",
       "<path clip-path=\"url(#clip400)\" d=\"M459.414 1486.45 L2352.76 1486.45 L2352.76 847.244 L459.414 847.244  Z\" fill=\"#ffffff\" fill-rule=\"evenodd\" fill-opacity=\"1\"/>\n",
       "<defs>\n",
       "  <clipPath id=\"clip404\">\n",
       "    <rect x=\"459\" y=\"847\" width=\"1894\" height=\"640\"/>\n",
       "  </clipPath>\n",
       "</defs>\n",
       "<polyline clip-path=\"url(#clip404)\" style=\"stroke:#000000; stroke-linecap:round; stroke-linejoin:round; stroke-width:8; stroke-opacity:0.1; fill:none\" points=\"467.2,1486.45 467.2,847.244 \"/>\n",
       "<polyline clip-path=\"url(#clip404)\" style=\"stroke:#000000; stroke-linecap:round; stroke-linejoin:round; stroke-width:8; stroke-opacity:0.1; fill:none\" points=\"925.193,1486.45 925.193,847.244 \"/>\n",
       "<polyline clip-path=\"url(#clip404)\" style=\"stroke:#000000; stroke-linecap:round; stroke-linejoin:round; stroke-width:8; stroke-opacity:0.1; fill:none\" points=\"1383.19,1486.45 1383.19,847.244 \"/>\n",
       "<polyline clip-path=\"url(#clip404)\" style=\"stroke:#000000; stroke-linecap:round; stroke-linejoin:round; stroke-width:8; stroke-opacity:0.1; fill:none\" points=\"1841.18,1486.45 1841.18,847.244 \"/>\n",
       "<polyline clip-path=\"url(#clip404)\" style=\"stroke:#000000; stroke-linecap:round; stroke-linejoin:round; stroke-width:8; stroke-opacity:0.1; fill:none\" points=\"2299.17,1486.45 2299.17,847.244 \"/>\n",
       "<polyline clip-path=\"url(#clip400)\" style=\"stroke:#000000; stroke-linecap:round; stroke-linejoin:round; stroke-width:4; stroke-opacity:1; fill:none\" points=\"459.414,1486.45 2352.76,1486.45 \"/>\n",
       "<polyline clip-path=\"url(#clip400)\" style=\"stroke:#000000; stroke-linecap:round; stroke-linejoin:round; stroke-width:4; stroke-opacity:1; fill:none\" points=\"467.2,1486.45 467.2,1467.55 \"/>\n",
       "<polyline clip-path=\"url(#clip400)\" style=\"stroke:#000000; stroke-linecap:round; stroke-linejoin:round; stroke-width:4; stroke-opacity:1; fill:none\" points=\"925.193,1486.45 925.193,1467.55 \"/>\n",
       "<polyline clip-path=\"url(#clip400)\" style=\"stroke:#000000; stroke-linecap:round; stroke-linejoin:round; stroke-width:4; stroke-opacity:1; fill:none\" points=\"1383.19,1486.45 1383.19,1467.55 \"/>\n",
       "<polyline clip-path=\"url(#clip400)\" style=\"stroke:#000000; stroke-linecap:round; stroke-linejoin:round; stroke-width:4; stroke-opacity:1; fill:none\" points=\"1841.18,1486.45 1841.18,1467.55 \"/>\n",
       "<polyline clip-path=\"url(#clip400)\" style=\"stroke:#000000; stroke-linecap:round; stroke-linejoin:round; stroke-width:4; stroke-opacity:1; fill:none\" points=\"2299.17,1486.45 2299.17,1467.55 \"/>\n",
       "<path clip-path=\"url(#clip400)\" d=\"M467.2 1517.37 Q463.589 1517.37 461.76 1520.93 Q459.955 1524.47 459.955 1531.6 Q459.955 1538.71 461.76 1542.27 Q463.589 1545.82 467.2 1545.82 Q470.834 1545.82 472.64 1542.27 Q474.469 1538.71 474.469 1531.6 Q474.469 1524.47 472.64 1520.93 Q470.834 1517.37 467.2 1517.37 M467.2 1513.66 Q473.01 1513.66 476.066 1518.27 Q479.145 1522.85 479.145 1531.6 Q479.145 1540.33 476.066 1544.94 Q473.01 1549.52 467.2 1549.52 Q461.39 1549.52 458.311 1544.94 Q455.256 1540.33 455.256 1531.6 Q455.256 1522.85 458.311 1518.27 Q461.39 1513.66 467.2 1513.66 Z\" fill=\"#000000\" fill-rule=\"evenodd\" fill-opacity=\"1\" /><path clip-path=\"url(#clip400)\" d=\"M899.88 1544.91 L907.519 1544.91 L907.519 1518.55 L899.209 1520.21 L899.209 1515.95 L907.473 1514.29 L912.149 1514.29 L912.149 1544.91 L919.788 1544.91 L919.788 1548.85 L899.88 1548.85 L899.88 1544.91 Z\" fill=\"#000000\" fill-rule=\"evenodd\" fill-opacity=\"1\" /><path clip-path=\"url(#clip400)\" d=\"M939.232 1517.37 Q935.621 1517.37 933.792 1520.93 Q931.987 1524.47 931.987 1531.6 Q931.987 1538.71 933.792 1542.27 Q935.621 1545.82 939.232 1545.82 Q942.866 1545.82 944.672 1542.27 Q946.501 1538.71 946.501 1531.6 Q946.501 1524.47 944.672 1520.93 Q942.866 1517.37 939.232 1517.37 M939.232 1513.66 Q945.042 1513.66 948.098 1518.27 Q951.177 1522.85 951.177 1531.6 Q951.177 1540.33 948.098 1544.94 Q945.042 1549.52 939.232 1549.52 Q933.422 1549.52 930.343 1544.94 Q927.288 1540.33 927.288 1531.6 Q927.288 1522.85 930.343 1518.27 Q933.422 1513.66 939.232 1513.66 Z\" fill=\"#000000\" fill-rule=\"evenodd\" fill-opacity=\"1\" /><path clip-path=\"url(#clip400)\" d=\"M1361.96 1544.91 L1378.28 1544.91 L1378.28 1548.85 L1356.33 1548.85 L1356.33 1544.91 Q1359 1542.16 1363.58 1537.53 Q1368.19 1532.88 1369.37 1531.53 Q1371.61 1529.01 1372.49 1527.27 Q1373.39 1525.51 1373.39 1523.82 Q1373.39 1521.07 1371.45 1519.33 Q1369.53 1517.6 1366.43 1517.6 Q1364.23 1517.6 1361.77 1518.36 Q1359.34 1519.13 1356.57 1520.68 L1356.57 1515.95 Q1359.39 1514.82 1361.84 1514.24 Q1364.3 1513.66 1366.33 1513.66 Q1371.7 1513.66 1374.9 1516.35 Q1378.09 1519.03 1378.09 1523.52 Q1378.09 1525.65 1377.28 1527.57 Q1376.5 1529.47 1374.39 1532.07 Q1373.81 1532.74 1370.71 1535.95 Q1367.61 1539.15 1361.96 1544.91 Z\" fill=\"#000000\" fill-rule=\"evenodd\" fill-opacity=\"1\" /><path clip-path=\"url(#clip400)\" d=\"M1398.09 1517.37 Q1394.48 1517.37 1392.65 1520.93 Q1390.85 1524.47 1390.85 1531.6 Q1390.85 1538.71 1392.65 1542.27 Q1394.48 1545.82 1398.09 1545.82 Q1401.73 1545.82 1403.53 1542.27 Q1405.36 1538.71 1405.36 1531.6 Q1405.36 1524.47 1403.53 1520.93 Q1401.73 1517.37 1398.09 1517.37 M1398.09 1513.66 Q1403.9 1513.66 1406.96 1518.27 Q1410.04 1522.85 1410.04 1531.6 Q1410.04 1540.33 1406.96 1544.94 Q1403.9 1549.52 1398.09 1549.52 Q1392.28 1549.52 1389.2 1544.94 Q1386.15 1540.33 1386.15 1531.6 Q1386.15 1522.85 1389.2 1518.27 Q1392.28 1513.66 1398.09 1513.66 Z\" fill=\"#000000\" fill-rule=\"evenodd\" fill-opacity=\"1\" /><path clip-path=\"url(#clip400)\" d=\"M1830.02 1530.21 Q1833.38 1530.93 1835.25 1533.2 Q1837.15 1535.47 1837.15 1538.8 Q1837.15 1543.92 1833.63 1546.72 Q1830.11 1549.52 1823.63 1549.52 Q1821.46 1549.52 1819.14 1549.08 Q1816.85 1548.66 1814.4 1547.81 L1814.4 1543.29 Q1816.34 1544.43 1818.66 1545.01 Q1820.97 1545.58 1823.49 1545.58 Q1827.89 1545.58 1830.18 1543.85 Q1832.5 1542.11 1832.5 1538.8 Q1832.5 1535.75 1830.34 1534.03 Q1828.22 1532.3 1824.4 1532.3 L1820.37 1532.3 L1820.37 1528.45 L1824.58 1528.45 Q1828.03 1528.45 1829.86 1527.09 Q1831.69 1525.7 1831.69 1523.11 Q1831.69 1520.45 1829.79 1519.03 Q1827.91 1517.6 1824.4 1517.6 Q1822.47 1517.6 1820.28 1518.01 Q1818.08 1518.43 1815.44 1519.31 L1815.44 1515.14 Q1818.1 1514.4 1820.41 1514.03 Q1822.75 1513.66 1824.81 1513.66 Q1830.14 1513.66 1833.24 1516.09 Q1836.34 1518.5 1836.34 1522.62 Q1836.34 1525.49 1834.7 1527.48 Q1833.05 1529.45 1830.02 1530.21 Z\" fill=\"#000000\" fill-rule=\"evenodd\" fill-opacity=\"1\" /><path clip-path=\"url(#clip400)\" d=\"M1856.02 1517.37 Q1852.4 1517.37 1850.58 1520.93 Q1848.77 1524.47 1848.77 1531.6 Q1848.77 1538.71 1850.58 1542.27 Q1852.4 1545.82 1856.02 1545.82 Q1859.65 1545.82 1861.46 1542.27 Q1863.28 1538.71 1863.28 1531.6 Q1863.28 1524.47 1861.46 1520.93 Q1859.65 1517.37 1856.02 1517.37 M1856.02 1513.66 Q1861.83 1513.66 1864.88 1518.27 Q1867.96 1522.85 1867.96 1531.6 Q1867.96 1540.33 1864.88 1544.94 Q1861.83 1549.52 1856.02 1549.52 Q1850.21 1549.52 1847.13 1544.94 Q1844.07 1540.33 1844.07 1531.6 Q1844.07 1522.85 1847.13 1518.27 Q1850.21 1513.66 1856.02 1513.66 Z\" fill=\"#000000\" fill-rule=\"evenodd\" fill-opacity=\"1\" /><path clip-path=\"url(#clip400)\" d=\"M2287.34 1518.36 L2275.54 1536.81 L2287.34 1536.81 L2287.34 1518.36 M2286.12 1514.29 L2291.99 1514.29 L2291.99 1536.81 L2296.93 1536.81 L2296.93 1540.7 L2291.99 1540.7 L2291.99 1548.85 L2287.34 1548.85 L2287.34 1540.7 L2271.74 1540.7 L2271.74 1536.19 L2286.12 1514.29 Z\" fill=\"#000000\" fill-rule=\"evenodd\" fill-opacity=\"1\" /><path clip-path=\"url(#clip400)\" d=\"M2314.66 1517.37 Q2311.05 1517.37 2309.22 1520.93 Q2307.41 1524.47 2307.41 1531.6 Q2307.41 1538.71 2309.22 1542.27 Q2311.05 1545.82 2314.66 1545.82 Q2318.29 1545.82 2320.1 1542.27 Q2321.93 1538.71 2321.93 1531.6 Q2321.93 1524.47 2320.1 1520.93 Q2318.29 1517.37 2314.66 1517.37 M2314.66 1513.66 Q2320.47 1513.66 2323.52 1518.27 Q2326.6 1522.85 2326.6 1531.6 Q2326.6 1540.33 2323.52 1544.94 Q2320.47 1549.52 2314.66 1549.52 Q2308.85 1549.52 2305.77 1544.94 Q2302.71 1540.33 2302.71 1531.6 Q2302.71 1522.85 2305.77 1518.27 Q2308.85 1513.66 2314.66 1513.66 Z\" fill=\"#000000\" fill-rule=\"evenodd\" fill-opacity=\"1\" /><polyline clip-path=\"url(#clip404)\" style=\"stroke:#000000; stroke-linecap:round; stroke-linejoin:round; stroke-width:8; stroke-opacity:0.1; fill:none\" points=\"459.414,1468.36 2352.76,1468.36 \"/>\n",
       "<polyline clip-path=\"url(#clip404)\" style=\"stroke:#000000; stroke-linecap:round; stroke-linejoin:round; stroke-width:8; stroke-opacity:0.1; fill:none\" points=\"459.414,1285.62 2352.76,1285.62 \"/>\n",
       "<polyline clip-path=\"url(#clip404)\" style=\"stroke:#000000; stroke-linecap:round; stroke-linejoin:round; stroke-width:8; stroke-opacity:0.1; fill:none\" points=\"459.414,1102.89 2352.76,1102.89 \"/>\n",
       "<polyline clip-path=\"url(#clip404)\" style=\"stroke:#000000; stroke-linecap:round; stroke-linejoin:round; stroke-width:8; stroke-opacity:0.1; fill:none\" points=\"459.414,920.155 2352.76,920.155 \"/>\n",
       "<polyline clip-path=\"url(#clip400)\" style=\"stroke:#000000; stroke-linecap:round; stroke-linejoin:round; stroke-width:4; stroke-opacity:1; fill:none\" points=\"459.414,1486.45 459.414,847.244 \"/>\n",
       "<polyline clip-path=\"url(#clip400)\" style=\"stroke:#000000; stroke-linecap:round; stroke-linejoin:round; stroke-width:4; stroke-opacity:1; fill:none\" points=\"459.414,1468.36 478.312,1468.36 \"/>\n",
       "<polyline clip-path=\"url(#clip400)\" style=\"stroke:#000000; stroke-linecap:round; stroke-linejoin:round; stroke-width:4; stroke-opacity:1; fill:none\" points=\"459.414,1285.62 478.312,1285.62 \"/>\n",
       "<polyline clip-path=\"url(#clip400)\" style=\"stroke:#000000; stroke-linecap:round; stroke-linejoin:round; stroke-width:4; stroke-opacity:1; fill:none\" points=\"459.414,1102.89 478.312,1102.89 \"/>\n",
       "<polyline clip-path=\"url(#clip400)\" style=\"stroke:#000000; stroke-linecap:round; stroke-linejoin:round; stroke-width:4; stroke-opacity:1; fill:none\" points=\"459.414,920.155 478.312,920.155 \"/>\n",
       "<path clip-path=\"url(#clip400)\" d=\"M411.47 1454.16 Q407.859 1454.16 406.03 1457.72 Q404.225 1461.26 404.225 1468.39 Q404.225 1475.5 406.03 1479.06 Q407.859 1482.6 411.47 1482.6 Q415.104 1482.6 416.91 1479.06 Q418.738 1475.5 418.738 1468.39 Q418.738 1461.26 416.91 1457.72 Q415.104 1454.16 411.47 1454.16 M411.47 1450.45 Q417.28 1450.45 420.336 1455.06 Q423.414 1459.64 423.414 1468.39 Q423.414 1477.12 420.336 1481.73 Q417.28 1486.31 411.47 1486.31 Q405.66 1486.31 402.581 1481.73 Q399.526 1477.12 399.526 1468.39 Q399.526 1459.64 402.581 1455.06 Q405.66 1450.45 411.47 1450.45 Z\" fill=\"#000000\" fill-rule=\"evenodd\" fill-opacity=\"1\" /><path clip-path=\"url(#clip400)\" d=\"M341.956 1298.97 L349.595 1298.97 L349.595 1272.6 L341.285 1274.27 L341.285 1270.01 L349.549 1268.34 L354.225 1268.34 L354.225 1298.97 L361.864 1298.97 L361.864 1302.9 L341.956 1302.9 L341.956 1298.97 Z\" fill=\"#000000\" fill-rule=\"evenodd\" fill-opacity=\"1\" /><path clip-path=\"url(#clip400)\" d=\"M381.308 1271.42 Q377.697 1271.42 375.868 1274.99 Q374.063 1278.53 374.063 1285.66 Q374.063 1292.76 375.868 1296.33 Q377.697 1299.87 381.308 1299.87 Q384.942 1299.87 386.748 1296.33 Q388.577 1292.76 388.577 1285.66 Q388.577 1278.53 386.748 1274.99 Q384.942 1271.42 381.308 1271.42 M381.308 1267.72 Q387.118 1267.72 390.174 1272.32 Q393.252 1276.91 393.252 1285.66 Q393.252 1294.38 390.174 1298.99 Q387.118 1303.57 381.308 1303.57 Q375.498 1303.57 372.419 1298.99 Q369.364 1294.38 369.364 1285.66 Q369.364 1276.91 372.419 1272.32 Q375.498 1267.72 381.308 1267.72 Z\" fill=\"#000000\" fill-rule=\"evenodd\" fill-opacity=\"1\" /><path clip-path=\"url(#clip400)\" d=\"M411.47 1271.42 Q407.859 1271.42 406.03 1274.99 Q404.225 1278.53 404.225 1285.66 Q404.225 1292.76 406.03 1296.33 Q407.859 1299.87 411.47 1299.87 Q415.104 1299.87 416.91 1296.33 Q418.738 1292.76 418.738 1285.66 Q418.738 1278.53 416.91 1274.99 Q415.104 1271.42 411.47 1271.42 M411.47 1267.72 Q417.28 1267.72 420.336 1272.32 Q423.414 1276.91 423.414 1285.66 Q423.414 1294.38 420.336 1298.99 Q417.28 1303.57 411.47 1303.57 Q405.66 1303.57 402.581 1298.99 Q399.526 1294.38 399.526 1285.66 Q399.526 1276.91 402.581 1272.32 Q405.66 1267.72 411.47 1267.72 Z\" fill=\"#000000\" fill-rule=\"evenodd\" fill-opacity=\"1\" /><path clip-path=\"url(#clip400)\" d=\"M345.174 1116.23 L361.493 1116.23 L361.493 1120.17 L339.549 1120.17 L339.549 1116.23 Q342.211 1113.48 346.794 1108.85 Q351.401 1104.2 352.581 1102.85 Q354.827 1100.33 355.706 1098.6 Q356.609 1096.84 356.609 1095.15 Q356.609 1092.39 354.665 1090.66 Q352.743 1088.92 349.642 1088.92 Q347.443 1088.92 344.989 1089.68 Q342.558 1090.45 339.781 1092 L339.781 1087.28 Q342.605 1086.14 345.058 1085.56 Q347.512 1084.98 349.549 1084.98 Q354.919 1084.98 358.114 1087.67 Q361.308 1090.35 361.308 1094.85 Q361.308 1096.97 360.498 1098.9 Q359.711 1100.79 357.604 1103.39 Q357.026 1104.06 353.924 1107.28 Q350.822 1110.47 345.174 1116.23 Z\" fill=\"#000000\" fill-rule=\"evenodd\" fill-opacity=\"1\" /><path clip-path=\"url(#clip400)\" d=\"M381.308 1088.69 Q377.697 1088.69 375.868 1092.25 Q374.063 1095.79 374.063 1102.92 Q374.063 1110.03 375.868 1113.6 Q377.697 1117.14 381.308 1117.14 Q384.942 1117.14 386.748 1113.6 Q388.577 1110.03 388.577 1102.92 Q388.577 1095.79 386.748 1092.25 Q384.942 1088.69 381.308 1088.69 M381.308 1084.98 Q387.118 1084.98 390.174 1089.59 Q393.252 1094.17 393.252 1102.92 Q393.252 1111.65 390.174 1116.26 Q387.118 1120.84 381.308 1120.84 Q375.498 1120.84 372.419 1116.26 Q369.364 1111.65 369.364 1102.92 Q369.364 1094.17 372.419 1089.59 Q375.498 1084.98 381.308 1084.98 Z\" fill=\"#000000\" fill-rule=\"evenodd\" fill-opacity=\"1\" /><path clip-path=\"url(#clip400)\" d=\"M411.47 1088.69 Q407.859 1088.69 406.03 1092.25 Q404.225 1095.79 404.225 1102.92 Q404.225 1110.03 406.03 1113.6 Q407.859 1117.14 411.47 1117.14 Q415.104 1117.14 416.91 1113.6 Q418.738 1110.03 418.738 1102.92 Q418.738 1095.79 416.91 1092.25 Q415.104 1088.69 411.47 1088.69 M411.47 1084.98 Q417.28 1084.98 420.336 1089.59 Q423.414 1094.17 423.414 1102.92 Q423.414 1111.65 420.336 1116.26 Q417.28 1120.84 411.47 1120.84 Q405.66 1120.84 402.581 1116.26 Q399.526 1111.65 399.526 1102.92 Q399.526 1094.17 402.581 1089.59 Q405.66 1084.98 411.47 1084.98 Z\" fill=\"#000000\" fill-rule=\"evenodd\" fill-opacity=\"1\" /><path clip-path=\"url(#clip400)\" d=\"M355.313 918.801 Q358.669 919.518 360.544 921.787 Q362.442 924.055 362.442 927.389 Q362.442 932.504 358.924 935.305 Q355.405 938.106 348.924 938.106 Q346.748 938.106 344.433 937.666 Q342.142 937.25 339.688 936.393 L339.688 931.879 Q341.632 933.014 343.947 933.592 Q346.262 934.171 348.785 934.171 Q353.183 934.171 355.475 932.435 Q357.79 930.699 357.79 927.389 Q357.79 924.333 355.637 922.62 Q353.507 920.884 349.688 920.884 L345.66 920.884 L345.66 917.042 L349.873 917.042 Q353.322 917.042 355.151 915.676 Q356.98 914.287 356.98 911.694 Q356.98 909.032 355.081 907.62 Q353.206 906.185 349.688 906.185 Q347.767 906.185 345.568 906.602 Q343.368 907.018 340.73 907.898 L340.73 903.731 Q343.392 902.991 345.706 902.62 Q348.044 902.25 350.105 902.25 Q355.429 902.25 358.53 904.681 Q361.632 907.088 361.632 911.208 Q361.632 914.079 359.989 916.069 Q358.345 918.037 355.313 918.801 Z\" fill=\"#000000\" fill-rule=\"evenodd\" fill-opacity=\"1\" /><path clip-path=\"url(#clip400)\" d=\"M381.308 905.954 Q377.697 905.954 375.868 909.518 Q374.063 913.06 374.063 920.19 Q374.063 927.296 375.868 930.861 Q377.697 934.403 381.308 934.403 Q384.942 934.403 386.748 930.861 Q388.577 927.296 388.577 920.19 Q388.577 913.06 386.748 909.518 Q384.942 905.954 381.308 905.954 M381.308 902.25 Q387.118 902.25 390.174 906.856 Q393.252 911.44 393.252 920.19 Q393.252 928.917 390.174 933.523 Q387.118 938.106 381.308 938.106 Q375.498 938.106 372.419 933.523 Q369.364 928.917 369.364 920.19 Q369.364 911.44 372.419 906.856 Q375.498 902.25 381.308 902.25 Z\" fill=\"#000000\" fill-rule=\"evenodd\" fill-opacity=\"1\" /><path clip-path=\"url(#clip400)\" d=\"M411.47 905.954 Q407.859 905.954 406.03 909.518 Q404.225 913.06 404.225 920.19 Q404.225 927.296 406.03 930.861 Q407.859 934.403 411.47 934.403 Q415.104 934.403 416.91 930.861 Q418.738 927.296 418.738 920.19 Q418.738 913.06 416.91 909.518 Q415.104 905.954 411.47 905.954 M411.47 902.25 Q417.28 902.25 420.336 906.856 Q423.414 911.44 423.414 920.19 Q423.414 928.917 420.336 933.523 Q417.28 938.106 411.47 938.106 Q405.66 938.106 402.581 933.523 Q399.526 928.917 399.526 920.19 Q399.526 911.44 402.581 906.856 Q405.66 902.25 411.47 902.25 Z\" fill=\"#000000\" fill-rule=\"evenodd\" fill-opacity=\"1\" /><path clip-path=\"url(#clip400)\" d=\"M239.635 1219.92 Q240.247 1219.92 240.762 1220.04 L252.228 1221.85 Q253.097 1221.94 253.419 1222.14 Q253.741 1222.3 253.741 1222.81 Q253.741 1223.62 252.904 1223.62 Q252.421 1223.62 251.648 1223.43 Q248.009 1222.88 246.366 1222.88 Q245.271 1222.88 244.466 1223.1 Q243.629 1223.3 243.049 1223.62 Q242.469 1223.91 242.083 1224.58 Q241.696 1225.26 241.471 1225.91 Q241.246 1226.55 241.149 1227.71 Q241.02 1228.87 240.988 1229.87 Q240.956 1230.87 240.956 1232.51 Q240.956 1236.08 241.085 1236.66 Q241.246 1237.27 241.729 1237.6 Q242.18 1237.89 243.532 1238.21 L278.54 1246.97 L279.925 1247.23 Q280.698 1247.23 280.955 1246.74 Q281.213 1246.26 281.374 1244.78 Q281.535 1242.65 281.535 1240.56 Q281.535 1240.49 281.535 1240.37 Q281.535 1239.66 281.567 1239.37 Q281.567 1239.08 281.632 1238.79 Q281.696 1238.5 281.857 1238.43 Q281.986 1238.34 282.244 1238.34 Q282.856 1238.34 283.178 1238.59 Q283.467 1238.85 283.532 1239.11 Q283.564 1239.34 283.564 1239.79 Q283.564 1240.69 283.5 1242.62 Q283.435 1244.55 283.435 1245.52 L283.371 1250.99 L283.435 1256.6 Q283.435 1257.47 283.5 1259.3 Q283.564 1261.14 283.564 1262.01 Q283.564 1263.14 282.759 1263.14 Q281.857 1263.14 281.696 1262.72 Q281.535 1262.27 281.535 1260.37 Q281.535 1257.69 281.406 1256.24 Q281.277 1254.79 280.827 1254.02 Q280.376 1253.22 279.925 1252.99 Q279.442 1252.77 278.347 1252.51 L243.146 1243.65 Q242.373 1243.39 241.761 1243.39 Q241.439 1243.39 241.31 1243.49 Q241.181 1243.55 241.085 1243.97 Q240.956 1244.39 240.956 1245.26 L240.956 1247.84 Q240.956 1250.48 241.085 1252.12 Q241.181 1253.73 241.664 1255.28 Q242.147 1256.79 242.824 1257.69 Q243.5 1258.56 244.885 1259.53 Q246.27 1260.49 247.944 1261.2 Q249.619 1261.88 252.357 1262.85 Q253.258 1263.17 253.516 1263.36 Q253.741 1263.52 253.741 1263.97 Q253.741 1264.29 253.548 1264.55 Q253.323 1264.78 253.033 1264.78 Q251.97 1264.46 251.841 1264.39 L240.215 1260.43 Q239.281 1260.11 239.12 1259.82 Q238.927 1259.5 238.927 1258.3 L238.927 1221.72 Q238.927 1221.14 238.927 1220.95 Q238.927 1220.75 238.991 1220.43 Q239.056 1220.11 239.217 1220.01 Q239.378 1219.92 239.635 1219.92 Z\" fill=\"#000000\" fill-rule=\"evenodd\" fill-opacity=\"1\" /><path clip-path=\"url(#clip400)\" d=\"M272.984 1194.38 Q273.908 1194.38 274.675 1195.17 Q275.441 1195.96 275.441 1196.88 Q275.441 1197.65 274.968 1198.12 Q274.495 1198.57 273.773 1198.57 Q272.781 1198.57 272.06 1197.78 Q271.316 1196.99 271.316 1196.14 Q271.316 1195.35 271.812 1194.87 Q272.285 1194.38 272.984 1194.38 M285.676 1196.09 Q286.466 1196.09 287.39 1196.32 L304.298 1200.56 Q305.944 1200.96 307.296 1201.93 Q308.671 1202.9 309.528 1204.14 Q310.385 1205.36 310.836 1206.69 Q311.309 1208 311.309 1209.24 Q311.309 1210.97 310.543 1212.14 Q309.776 1213.32 308.446 1213.32 Q307.274 1213.32 306.53 1212.55 Q305.808 1211.76 305.808 1210.81 Q305.808 1209.96 306.304 1209.51 Q306.8 1209.06 307.432 1209.06 Q308.198 1209.06 308.919 1209.62 Q309.641 1210.16 309.866 1211.13 Q310.295 1210.25 310.295 1209.33 Q310.295 1207.43 308.559 1205.9 Q306.845 1204.34 304.14 1203.67 L286.916 1199.32 Q285.541 1199 284.572 1199 Q283.67 1199 283.174 1199.25 Q282.678 1199.5 282.565 1199.79 Q282.453 1200.06 282.453 1200.47 Q282.453 1202.25 284.098 1203.78 Q285.722 1205.31 288.089 1206.28 Q288.742 1206.55 288.878 1206.69 Q289.013 1206.8 289.013 1207.12 Q288.99 1207.68 288.54 1207.68 Q288.404 1207.68 287.863 1207.45 Q287.322 1207.23 286.533 1206.82 Q285.722 1206.42 284.842 1205.76 Q283.963 1205.11 283.197 1204.34 Q282.43 1203.55 281.934 1202.49 Q281.438 1201.44 281.438 1200.33 Q281.438 1198.55 282.61 1197.33 Q283.76 1196.09 285.676 1196.09 Z\" fill=\"#000000\" fill-rule=\"evenodd\" fill-opacity=\"1\" /><path clip-path=\"url(#clip400)\" d=\"M275.487 1187.66 L274.044 1187.66 Q274.044 1182.11 271.09 1179.25 Q271.09 1178.46 271.271 1178.32 Q271.451 1178.19 272.285 1178.19 L298.188 1178.19 Q299.564 1178.19 299.992 1177.51 Q300.42 1176.83 300.42 1173.88 L300.42 1172.42 L301.841 1172.42 Q301.705 1174.04 301.705 1179.9 Q301.705 1185.76 301.841 1187.36 L300.42 1187.36 L300.42 1185.9 Q300.42 1182.99 300.015 1182.29 Q299.586 1181.59 298.188 1181.59 L274.269 1181.59 Q275.487 1184 275.487 1187.66 Z\" fill=\"#000000\" fill-rule=\"evenodd\" fill-opacity=\"1\" /><path clip-path=\"url(#clip400)\" d=\"M300.053 1157.75 L234.096 1157.75 L234.096 1147.8 L235.61 1147.8 L235.61 1153.34 L298.54 1153.34 L298.54 1147.8 L300.053 1147.8 L300.053 1157.75 Z\" fill=\"#000000\" fill-rule=\"evenodd\" fill-opacity=\"1\" /><path clip-path=\"url(#clip400)\" d=\"M239.249 1089.27 Q239.667 1089.27 239.957 1089.37 Q240.215 1089.47 240.344 1089.69 Q240.473 1089.92 240.505 1090.05 Q240.537 1090.17 240.569 1090.46 Q240.698 1091.85 240.923 1092.82 Q241.149 1093.75 242.308 1096.07 Q243.468 1098.36 245.561 1101.22 L254.482 1112.75 L255.996 1114.68 Q256.092 1114.68 256.286 1114.62 Q256.447 1114.55 256.672 1114.49 Q256.865 1114.39 256.93 1114.36 L278.54 1104.99 Q280.279 1104.25 280.891 1103.35 Q281.503 1102.45 281.535 1100.42 Q281.535 1100.09 281.567 1099.97 Q281.567 1099.8 281.632 1099.58 Q281.664 1099.32 281.825 1099.22 Q281.986 1099.1 282.244 1099.1 Q283.564 1099.1 283.564 1100.29 Q283.564 1101.03 283.467 1103.54 Q283.371 1106.05 283.371 1106.76 Q283.371 1108.08 283.467 1110.79 Q283.564 1113.49 283.564 1114.81 Q283.564 1115.75 282.823 1115.75 Q282.211 1115.75 281.922 1115.52 Q281.599 1115.26 281.567 1115.04 Q281.535 1114.81 281.535 1114.3 Q281.535 1113.91 281.503 1113.49 Q281.438 1113.04 281.277 1112.4 Q281.084 1111.72 280.633 1111.3 Q280.15 1110.85 279.474 1110.85 Q278.926 1110.85 277.155 1111.66 L259.41 1119.29 L267.075 1129.11 L277.445 1131.75 Q277.831 1131.82 278.508 1131.98 Q279.184 1132.14 279.667 1132.27 Q280.15 1132.36 280.343 1132.36 Q280.762 1132.36 281.02 1132.11 Q281.277 1131.82 281.406 1131.11 Q281.503 1130.4 281.535 1129.85 Q281.535 1129.27 281.535 1128.08 Q281.535 1126.6 281.793 1126.34 Q281.954 1126.21 282.244 1126.21 Q282.694 1126.21 283.017 1126.34 Q283.306 1126.47 283.403 1126.73 Q283.5 1126.95 283.532 1127.12 Q283.564 1127.28 283.564 1127.53 Q283.564 1128.21 283.5 1129.66 Q283.435 1131.08 283.435 1131.82 L283.371 1136.04 L283.564 1144.41 Q283.564 1145.41 282.759 1145.41 Q282.147 1145.41 281.889 1145.15 Q281.599 1144.89 281.567 1144.6 Q281.535 1144.31 281.535 1143.57 Q281.535 1141.96 281.438 1141 Q281.342 1140.03 281.213 1139.42 Q281.052 1138.77 280.601 1138.45 Q280.15 1138.1 279.764 1137.94 Q279.345 1137.78 278.411 1137.55 L242.985 1128.73 Q241.922 1128.47 241.761 1128.47 Q241.213 1128.47 241.02 1128.79 Q240.795 1129.08 240.698 1129.92 Q240.569 1131.53 240.569 1132.75 Q240.569 1133.56 240.537 1133.88 Q240.505 1134.17 240.344 1134.43 Q240.151 1134.65 239.764 1134.65 Q238.508 1134.65 238.508 1133.33 L238.701 1124.83 L238.508 1116.39 Q238.508 1115.46 239.249 1115.46 Q240.183 1115.46 240.376 1115.91 Q240.569 1116.33 240.569 1117.71 Q240.569 1120.13 240.891 1121.22 Q241.181 1122.28 241.696 1122.61 Q242.18 1122.9 243.597 1123.25 L264.756 1128.53 L244.981 1102.8 Q242.985 1100.42 241.954 1100.42 Q241.278 1100.42 240.988 1100.9 Q240.666 1101.35 240.569 1102.48 Q240.44 1103.28 239.828 1103.28 Q239.217 1103.28 238.927 1103.06 Q238.605 1102.8 238.572 1102.61 Q238.508 1102.38 238.508 1102.03 Q238.508 1100.84 238.605 1098.36 Q238.701 1095.88 238.701 1094.68 Q238.701 1093.88 238.605 1092.3 Q238.508 1090.72 238.508 1090.01 Q238.508 1089.66 238.766 1089.47 Q238.991 1089.27 239.249 1089.27 Z\" fill=\"#000000\" fill-rule=\"evenodd\" fill-opacity=\"1\" /><path clip-path=\"url(#clip400)\" d=\"M298.54 1087.06 L298.54 1081.52 L235.61 1081.52 L235.61 1087.06 L234.096 1087.06 L234.096 1077.11 L300.053 1077.11 L300.053 1087.06 L298.54 1087.06 Z\" fill=\"#000000\" fill-rule=\"evenodd\" fill-opacity=\"1\" /><polyline clip-path=\"url(#clip404)\" style=\"stroke:#000000; stroke-linecap:round; stroke-linejoin:round; stroke-width:4; stroke-opacity:1; fill:none\" stroke-dasharray=\"2, 4\" points=\"512.999,865.335 558.799,865.335 604.598,865.335 650.397,865.335 696.197,865.335 741.996,865.335 787.795,865.335 833.594,865.335 879.394,865.335 925.193,865.335 970.992,865.335 1016.79,865.335 1062.59,865.335 1108.39,865.335 1154.19,865.335 1199.99,865.335 1245.79,865.335 1291.59,865.335 1337.39,865.335 1383.19,865.335 1428.98,865.335 1474.78,865.335 1520.58,865.335 1566.38,865.335 1612.18,865.335 1657.98,865.335 1703.78,865.335 1749.58,865.335 1795.38,865.335 1841.18,865.335 1886.98,865.335 1932.78,865.335 1978.58,865.335 2024.38,865.335 2070.17,865.335 2115.97,865.335 2161.77,865.335 2207.57,865.335 2253.37,865.335 2299.17,865.335 \"/>\n",
       "<polyline clip-path=\"url(#clip404)\" style=\"stroke:#ff0000; stroke-linecap:round; stroke-linejoin:round; stroke-width:12; stroke-opacity:0.3; fill:none\" points=\"512.999,1468.36 558.799,1468.36 604.598,1468.36 650.397,1468.36 696.197,1468.36 741.996,1468.36 787.795,1468.36 833.594,1468.36 879.394,1468.36 925.193,1468.36 970.992,1468.36 1016.79,1468.36 1062.59,1468.36 1108.39,1468.36 1154.19,1468.36 1199.99,1468.36 1245.79,1468.36 1291.59,1468.36 1337.39,1468.36 1383.19,1468.36 1428.98,1468.36 1474.78,1468.36 1520.58,1468.36 1566.38,1468.36 1612.18,1468.36 1657.98,1468.36 1703.78,1468.36 1749.58,1468.36 1795.38,1468.36 1841.18,1468.36 1886.98,1468.36 1932.78,1468.36 1978.58,1468.36 2024.38,1468.36 2070.17,1468.36 2115.97,1468.36 2161.77,1468.36 2207.57,1468.36 2253.37,1468.36 2299.17,1468.36 \"/>\n",
       "<polyline clip-path=\"url(#clip404)\" style=\"stroke:#0000ff; stroke-linecap:round; stroke-linejoin:round; stroke-width:12; stroke-opacity:0.3; fill:none\" points=\"512.999,1468.36 558.799,1468.36 604.598,1468.36 650.397,1468.36 696.197,1468.36 741.996,1468.36 787.795,1468.36 833.594,1468.36 879.394,1468.36 925.193,1468.36 970.992,1468.36 1016.79,1468.36 1062.59,1468.36 1108.39,1468.36 1154.19,1468.36 1199.99,1468.36 1245.79,1468.36 1291.59,1468.36 1337.39,1468.36 1383.19,1468.36 1428.98,1468.36 1474.78,1468.36 1520.58,1468.36 1566.38,1468.36 1612.18,1468.36 1657.98,1468.36 1703.78,1468.36 1749.58,1468.36 1795.38,1468.36 1841.18,1468.36 1886.98,1468.36 1932.78,1468.36 1978.58,1468.36 2024.38,1468.36 2070.17,1468.36 2115.97,1468.36 2161.77,1468.36 2207.57,1468.36 2253.37,1468.36 2299.17,1468.36 \"/>\n",
       "</svg>\n"
      ]
     },
     "metadata": {},
     "output_type": "display_data"
    }
   ],
   "source": [
    "p3 = plot(layout = (num_subplots, 1),fmt = :svg, resolution = (600, 400), latex=true,gridlinewidth=2,legend=:topleft) \n",
    "\n",
    "# Loop to generate subplots \n",
    "for mm in 1:num_subplots  \n",
    "    # limits\n",
    "    plot!(subplot=mm,ts,Tj_max[1]*ones(length(ts)),linestyle = :dot,linecolor = :black,label=\"\")\n",
    "    \n",
    "    for nn in 1:n_MC\n",
    "        plot!(subplot=mm,ts,TjPlant[1,:,nn,mm],linewidth=3,linealpha = 0.3,linecolor = CList[nn],legend=false)\n",
    "    end\n",
    "    \n",
    "    # Add labels, titles, or other customizations to each subplot \n",
    "    ylabel!(L\"T_{j1} [K]\") \n",
    "end \n",
    "\n",
    "# Display the subplots \n",
    "display(p3)"
   ]
  },
  {
   "cell_type": "code",
   "execution_count": 23,
   "id": "cfdedb1f",
   "metadata": {},
   "outputs": [
    {
     "data": {
      "image/svg+xml": [
       "<?xml version=\"1.0\" encoding=\"utf-8\"?>\n",
       "<svg xmlns=\"http://www.w3.org/2000/svg\" xmlns:xlink=\"http://www.w3.org/1999/xlink\" width=\"600\" height=\"400\" viewBox=\"0 0 2400 1600\">\n",
       "<defs>\n",
       "  <clipPath id=\"clip440\">\n",
       "    <rect x=\"0\" y=\"0\" width=\"2400\" height=\"1600\"/>\n",
       "  </clipPath>\n",
       "</defs>\n",
       "<path clip-path=\"url(#clip440)\" d=\"M0 1600 L2400 1600 L2400 0 L0 0  Z\" fill=\"#ffffff\" fill-rule=\"evenodd\" fill-opacity=\"1\"/>\n",
       "<defs>\n",
       "  <clipPath id=\"clip441\">\n",
       "    <rect x=\"480\" y=\"0\" width=\"1681\" height=\"1600\"/>\n",
       "  </clipPath>\n",
       "</defs>\n",
       "<defs>\n",
       "  <clipPath id=\"clip442\">\n",
       "    <rect x=\"459\" y=\"847\" width=\"1894\" height=\"640\"/>\n",
       "  </clipPath>\n",
       "</defs>\n",
       "<path clip-path=\"url(#clip440)\" d=\"M225.635 686.448 L2352.76 686.448 L2352.76 47.2441 L225.635 47.2441  Z\" fill=\"#ffffff\" fill-rule=\"evenodd\" fill-opacity=\"1\"/>\n",
       "<defs>\n",
       "  <clipPath id=\"clip443\">\n",
       "    <rect x=\"225\" y=\"47\" width=\"2128\" height=\"640\"/>\n",
       "  </clipPath>\n",
       "</defs>\n",
       "<polyline clip-path=\"url(#clip443)\" style=\"stroke:#000000; stroke-linecap:round; stroke-linejoin:round; stroke-width:8; stroke-opacity:0.1; fill:none\" points=\"234.382,686.448 234.382,47.2441 \"/>\n",
       "<polyline clip-path=\"url(#clip443)\" style=\"stroke:#000000; stroke-linecap:round; stroke-linejoin:round; stroke-width:8; stroke-opacity:0.1; fill:none\" points=\"748.925,686.448 748.925,47.2441 \"/>\n",
       "<polyline clip-path=\"url(#clip443)\" style=\"stroke:#000000; stroke-linecap:round; stroke-linejoin:round; stroke-width:8; stroke-opacity:0.1; fill:none\" points=\"1263.47,686.448 1263.47,47.2441 \"/>\n",
       "<polyline clip-path=\"url(#clip443)\" style=\"stroke:#000000; stroke-linecap:round; stroke-linejoin:round; stroke-width:8; stroke-opacity:0.1; fill:none\" points=\"1778.01,686.448 1778.01,47.2441 \"/>\n",
       "<polyline clip-path=\"url(#clip443)\" style=\"stroke:#000000; stroke-linecap:round; stroke-linejoin:round; stroke-width:8; stroke-opacity:0.1; fill:none\" points=\"2292.55,686.448 2292.55,47.2441 \"/>\n",
       "<polyline clip-path=\"url(#clip440)\" style=\"stroke:#000000; stroke-linecap:round; stroke-linejoin:round; stroke-width:4; stroke-opacity:1; fill:none\" points=\"225.635,686.448 2352.76,686.448 \"/>\n",
       "<polyline clip-path=\"url(#clip440)\" style=\"stroke:#000000; stroke-linecap:round; stroke-linejoin:round; stroke-width:4; stroke-opacity:1; fill:none\" points=\"234.382,686.448 234.382,667.55 \"/>\n",
       "<polyline clip-path=\"url(#clip440)\" style=\"stroke:#000000; stroke-linecap:round; stroke-linejoin:round; stroke-width:4; stroke-opacity:1; fill:none\" points=\"748.925,686.448 748.925,667.55 \"/>\n",
       "<polyline clip-path=\"url(#clip440)\" style=\"stroke:#000000; stroke-linecap:round; stroke-linejoin:round; stroke-width:4; stroke-opacity:1; fill:none\" points=\"1263.47,686.448 1263.47,667.55 \"/>\n",
       "<polyline clip-path=\"url(#clip440)\" style=\"stroke:#000000; stroke-linecap:round; stroke-linejoin:round; stroke-width:4; stroke-opacity:1; fill:none\" points=\"1778.01,686.448 1778.01,667.55 \"/>\n",
       "<polyline clip-path=\"url(#clip440)\" style=\"stroke:#000000; stroke-linecap:round; stroke-linejoin:round; stroke-width:4; stroke-opacity:1; fill:none\" points=\"2292.55,686.448 2292.55,667.55 \"/>\n",
       "<path clip-path=\"url(#clip440)\" d=\"M234.382 717.367 Q230.771 717.367 228.942 720.931 Q227.137 724.473 227.137 731.603 Q227.137 738.709 228.942 742.274 Q230.771 745.815 234.382 745.815 Q238.016 745.815 239.822 742.274 Q241.651 738.709 241.651 731.603 Q241.651 724.473 239.822 720.931 Q238.016 717.367 234.382 717.367 M234.382 713.663 Q240.192 713.663 243.248 718.269 Q246.326 722.853 246.326 731.603 Q246.326 740.329 243.248 744.936 Q240.192 749.519 234.382 749.519 Q228.572 749.519 225.493 744.936 Q222.438 740.329 222.438 731.603 Q222.438 722.853 225.493 718.269 Q228.572 713.663 234.382 713.663 Z\" fill=\"#000000\" fill-rule=\"evenodd\" fill-opacity=\"1\" /><path clip-path=\"url(#clip440)\" d=\"M723.613 744.913 L731.252 744.913 L731.252 718.547 L722.941 720.214 L722.941 715.955 L731.205 714.288 L735.881 714.288 L735.881 744.913 L743.52 744.913 L743.52 748.848 L723.613 748.848 L723.613 744.913 Z\" fill=\"#000000\" fill-rule=\"evenodd\" fill-opacity=\"1\" /><path clip-path=\"url(#clip440)\" d=\"M762.964 717.367 Q759.353 717.367 757.525 720.931 Q755.719 724.473 755.719 731.603 Q755.719 738.709 757.525 742.274 Q759.353 745.815 762.964 745.815 Q766.599 745.815 768.404 742.274 Q770.233 738.709 770.233 731.603 Q770.233 724.473 768.404 720.931 Q766.599 717.367 762.964 717.367 M762.964 713.663 Q768.775 713.663 771.83 718.269 Q774.909 722.853 774.909 731.603 Q774.909 740.329 771.83 744.936 Q768.775 749.519 762.964 749.519 Q757.154 749.519 754.076 744.936 Q751.02 740.329 751.02 731.603 Q751.02 722.853 754.076 718.269 Q757.154 713.663 762.964 713.663 Z\" fill=\"#000000\" fill-rule=\"evenodd\" fill-opacity=\"1\" /><path clip-path=\"url(#clip440)\" d=\"M1242.24 744.913 L1258.56 744.913 L1258.56 748.848 L1236.62 748.848 L1236.62 744.913 Q1239.28 742.158 1243.86 737.528 Q1248.47 732.876 1249.65 731.533 Q1251.89 729.01 1252.77 727.274 Q1253.68 725.515 1253.68 723.825 Q1253.68 721.07 1251.73 719.334 Q1249.81 717.598 1246.71 717.598 Q1244.51 717.598 1242.06 718.362 Q1239.63 719.126 1236.85 720.677 L1236.85 715.955 Q1239.67 714.82 1242.13 714.242 Q1244.58 713.663 1246.62 713.663 Q1251.99 713.663 1255.18 716.348 Q1258.38 719.033 1258.38 723.524 Q1258.38 725.654 1257.57 727.575 Q1256.78 729.473 1254.67 732.066 Q1254.09 732.737 1250.99 735.954 Q1247.89 739.149 1242.24 744.913 Z\" fill=\"#000000\" fill-rule=\"evenodd\" fill-opacity=\"1\" /><path clip-path=\"url(#clip440)\" d=\"M1278.38 717.367 Q1274.76 717.367 1272.94 720.931 Q1271.13 724.473 1271.13 731.603 Q1271.13 738.709 1272.94 742.274 Q1274.76 745.815 1278.38 745.815 Q1282.01 745.815 1283.82 742.274 Q1285.64 738.709 1285.64 731.603 Q1285.64 724.473 1283.82 720.931 Q1282.01 717.367 1278.38 717.367 M1278.38 713.663 Q1284.19 713.663 1287.24 718.269 Q1290.32 722.853 1290.32 731.603 Q1290.32 740.329 1287.24 744.936 Q1284.19 749.519 1278.38 749.519 Q1272.57 749.519 1269.49 744.936 Q1266.43 740.329 1266.43 731.603 Q1266.43 722.853 1269.49 718.269 Q1272.57 713.663 1278.38 713.663 Z\" fill=\"#000000\" fill-rule=\"evenodd\" fill-opacity=\"1\" /><path clip-path=\"url(#clip440)\" d=\"M1766.85 730.214 Q1770.21 730.931 1772.09 733.2 Q1773.98 735.468 1773.98 738.802 Q1773.98 743.917 1770.47 746.718 Q1766.95 749.519 1760.47 749.519 Q1758.29 749.519 1755.97 749.079 Q1753.68 748.663 1751.23 747.806 L1751.23 743.292 Q1753.17 744.427 1755.49 745.005 Q1757.8 745.584 1760.33 745.584 Q1764.72 745.584 1767.02 743.848 Q1769.33 742.112 1769.33 738.802 Q1769.33 735.746 1767.18 734.033 Q1765.05 732.297 1761.23 732.297 L1757.2 732.297 L1757.2 728.454 L1761.41 728.454 Q1764.86 728.454 1766.69 727.089 Q1768.52 725.7 1768.52 723.107 Q1768.52 720.445 1766.62 719.033 Q1764.75 717.598 1761.23 717.598 Q1759.31 717.598 1757.11 718.015 Q1754.91 718.431 1752.27 719.311 L1752.27 715.144 Q1754.93 714.404 1757.25 714.033 Q1759.59 713.663 1761.65 713.663 Q1766.97 713.663 1770.07 716.093 Q1773.17 718.501 1773.17 722.621 Q1773.17 725.492 1771.53 727.482 Q1769.89 729.45 1766.85 730.214 Z\" fill=\"#000000\" fill-rule=\"evenodd\" fill-opacity=\"1\" /><path clip-path=\"url(#clip440)\" d=\"M1792.85 717.367 Q1789.24 717.367 1787.41 720.931 Q1785.6 724.473 1785.6 731.603 Q1785.6 738.709 1787.41 742.274 Q1789.24 745.815 1792.85 745.815 Q1796.48 745.815 1798.29 742.274 Q1800.12 738.709 1800.12 731.603 Q1800.12 724.473 1798.29 720.931 Q1796.48 717.367 1792.85 717.367 M1792.85 713.663 Q1798.66 713.663 1801.71 718.269 Q1804.79 722.853 1804.79 731.603 Q1804.79 740.329 1801.71 744.936 Q1798.66 749.519 1792.85 749.519 Q1787.04 749.519 1783.96 744.936 Q1780.9 740.329 1780.9 731.603 Q1780.9 722.853 1783.96 718.269 Q1787.04 713.663 1792.85 713.663 Z\" fill=\"#000000\" fill-rule=\"evenodd\" fill-opacity=\"1\" /><path clip-path=\"url(#clip440)\" d=\"M2280.73 718.362 L2268.92 736.811 L2280.73 736.811 L2280.73 718.362 M2279.5 714.288 L2285.38 714.288 L2285.38 736.811 L2290.31 736.811 L2290.31 740.7 L2285.38 740.7 L2285.38 748.848 L2280.73 748.848 L2280.73 740.7 L2265.12 740.7 L2265.12 736.186 L2279.5 714.288 Z\" fill=\"#000000\" fill-rule=\"evenodd\" fill-opacity=\"1\" /><path clip-path=\"url(#clip440)\" d=\"M2308.04 717.367 Q2304.43 717.367 2302.6 720.931 Q2300.8 724.473 2300.8 731.603 Q2300.8 738.709 2302.6 742.274 Q2304.43 745.815 2308.04 745.815 Q2311.67 745.815 2313.48 742.274 Q2315.31 738.709 2315.31 731.603 Q2315.31 724.473 2313.48 720.931 Q2311.67 717.367 2308.04 717.367 M2308.04 713.663 Q2313.85 713.663 2316.91 718.269 Q2319.98 722.853 2319.98 731.603 Q2319.98 740.329 2316.91 744.936 Q2313.85 749.519 2308.04 749.519 Q2302.23 749.519 2299.15 744.936 Q2296.1 740.329 2296.1 731.603 Q2296.1 722.853 2299.15 718.269 Q2302.23 713.663 2308.04 713.663 Z\" fill=\"#000000\" fill-rule=\"evenodd\" fill-opacity=\"1\" /><polyline clip-path=\"url(#clip443)\" style=\"stroke:#000000; stroke-linecap:round; stroke-linejoin:round; stroke-width:8; stroke-opacity:0.1; fill:none\" points=\"225.635,668.357 2352.76,668.357 \"/>\n",
       "<polyline clip-path=\"url(#clip443)\" style=\"stroke:#000000; stroke-linecap:round; stroke-linejoin:round; stroke-width:8; stroke-opacity:0.1; fill:none\" points=\"225.635,517.602 2352.76,517.602 \"/>\n",
       "<polyline clip-path=\"url(#clip443)\" style=\"stroke:#000000; stroke-linecap:round; stroke-linejoin:round; stroke-width:8; stroke-opacity:0.1; fill:none\" points=\"225.635,366.846 2352.76,366.846 \"/>\n",
       "<polyline clip-path=\"url(#clip443)\" style=\"stroke:#000000; stroke-linecap:round; stroke-linejoin:round; stroke-width:8; stroke-opacity:0.1; fill:none\" points=\"225.635,216.09 2352.76,216.09 \"/>\n",
       "<polyline clip-path=\"url(#clip443)\" style=\"stroke:#000000; stroke-linecap:round; stroke-linejoin:round; stroke-width:8; stroke-opacity:0.1; fill:none\" points=\"225.635,65.3348 2352.76,65.3348 \"/>\n",
       "<polyline clip-path=\"url(#clip440)\" style=\"stroke:#000000; stroke-linecap:round; stroke-linejoin:round; stroke-width:4; stroke-opacity:1; fill:none\" points=\"225.635,686.448 225.635,47.2441 \"/>\n",
       "<polyline clip-path=\"url(#clip440)\" style=\"stroke:#000000; stroke-linecap:round; stroke-linejoin:round; stroke-width:4; stroke-opacity:1; fill:none\" points=\"225.635,668.357 244.532,668.357 \"/>\n",
       "<polyline clip-path=\"url(#clip440)\" style=\"stroke:#000000; stroke-linecap:round; stroke-linejoin:round; stroke-width:4; stroke-opacity:1; fill:none\" points=\"225.635,517.602 244.532,517.602 \"/>\n",
       "<polyline clip-path=\"url(#clip440)\" style=\"stroke:#000000; stroke-linecap:round; stroke-linejoin:round; stroke-width:4; stroke-opacity:1; fill:none\" points=\"225.635,366.846 244.532,366.846 \"/>\n",
       "<polyline clip-path=\"url(#clip440)\" style=\"stroke:#000000; stroke-linecap:round; stroke-linejoin:round; stroke-width:4; stroke-opacity:1; fill:none\" points=\"225.635,216.09 244.532,216.09 \"/>\n",
       "<polyline clip-path=\"url(#clip440)\" style=\"stroke:#000000; stroke-linecap:round; stroke-linejoin:round; stroke-width:4; stroke-opacity:1; fill:none\" points=\"225.635,65.3348 244.532,65.3348 \"/>\n",
       "<path clip-path=\"url(#clip440)\" d=\"M132.459 654.156 Q128.848 654.156 127.019 657.721 Q125.214 661.262 125.214 668.392 Q125.214 675.498 127.019 679.063 Q128.848 682.605 132.459 682.605 Q136.093 682.605 137.899 679.063 Q139.728 675.498 139.728 668.392 Q139.728 661.262 137.899 657.721 Q136.093 654.156 132.459 654.156 M132.459 650.452 Q138.269 650.452 141.325 655.059 Q144.404 659.642 144.404 668.392 Q144.404 677.119 141.325 681.725 Q138.269 686.308 132.459 686.308 Q126.649 686.308 123.57 681.725 Q120.515 677.119 120.515 668.392 Q120.515 659.642 123.57 655.059 Q126.649 650.452 132.459 650.452 Z\" fill=\"#000000\" fill-rule=\"evenodd\" fill-opacity=\"1\" /><path clip-path=\"url(#clip440)\" d=\"M152.621 679.758 L157.505 679.758 L157.505 685.637 L152.621 685.637 L152.621 679.758 Z\" fill=\"#000000\" fill-rule=\"evenodd\" fill-opacity=\"1\" /><path clip-path=\"url(#clip440)\" d=\"M177.69 654.156 Q174.079 654.156 172.251 657.721 Q170.445 661.262 170.445 668.392 Q170.445 675.498 172.251 679.063 Q174.079 682.605 177.69 682.605 Q181.325 682.605 183.13 679.063 Q184.959 675.498 184.959 668.392 Q184.959 661.262 183.13 657.721 Q181.325 654.156 177.69 654.156 M177.69 650.452 Q183.501 650.452 186.556 655.059 Q189.635 659.642 189.635 668.392 Q189.635 677.119 186.556 681.725 Q183.501 686.308 177.69 686.308 Q171.88 686.308 168.802 681.725 Q165.746 677.119 165.746 668.392 Q165.746 659.642 168.802 655.059 Q171.88 650.452 177.69 650.452 Z\" fill=\"#000000\" fill-rule=\"evenodd\" fill-opacity=\"1\" /><path clip-path=\"url(#clip440)\" d=\"M134.056 503.4 Q130.445 503.4 128.617 506.965 Q126.811 510.507 126.811 517.636 Q126.811 524.743 128.617 528.308 Q130.445 531.849 134.056 531.849 Q137.691 531.849 139.496 528.308 Q141.325 524.743 141.325 517.636 Q141.325 510.507 139.496 506.965 Q137.691 503.4 134.056 503.4 M134.056 499.697 Q139.867 499.697 142.922 504.303 Q146.001 508.886 146.001 517.636 Q146.001 526.363 142.922 530.97 Q139.867 535.553 134.056 535.553 Q128.246 535.553 125.168 530.97 Q122.112 526.363 122.112 517.636 Q122.112 508.886 125.168 504.303 Q128.246 499.697 134.056 499.697 Z\" fill=\"#000000\" fill-rule=\"evenodd\" fill-opacity=\"1\" /><path clip-path=\"url(#clip440)\" d=\"M154.218 529.002 L159.103 529.002 L159.103 534.882 L154.218 534.882 L154.218 529.002 Z\" fill=\"#000000\" fill-rule=\"evenodd\" fill-opacity=\"1\" /><path clip-path=\"url(#clip440)\" d=\"M173.315 530.946 L189.635 530.946 L189.635 534.882 L167.69 534.882 L167.69 530.946 Q170.353 528.192 174.936 523.562 Q179.542 518.909 180.723 517.567 Q182.968 515.044 183.848 513.308 Q184.751 511.548 184.751 509.859 Q184.751 507.104 182.806 505.368 Q180.885 503.632 177.783 503.632 Q175.584 503.632 173.13 504.396 Q170.7 505.16 167.922 506.71 L167.922 501.988 Q170.746 500.854 173.2 500.275 Q175.653 499.697 177.69 499.697 Q183.061 499.697 186.255 502.382 Q189.45 505.067 189.45 509.558 Q189.45 511.687 188.639 513.609 Q187.852 515.507 185.746 518.099 Q185.167 518.771 182.065 521.988 Q178.964 525.183 173.315 530.946 Z\" fill=\"#000000\" fill-rule=\"evenodd\" fill-opacity=\"1\" /><path clip-path=\"url(#clip440)\" d=\"M131.973 352.645 Q128.362 352.645 126.533 356.209 Q124.728 359.751 124.728 366.881 Q124.728 373.987 126.533 377.552 Q128.362 381.094 131.973 381.094 Q135.607 381.094 137.413 377.552 Q139.242 373.987 139.242 366.881 Q139.242 359.751 137.413 356.209 Q135.607 352.645 131.973 352.645 M131.973 348.941 Q137.783 348.941 140.839 353.547 Q143.917 358.131 143.917 366.881 Q143.917 375.608 140.839 380.214 Q137.783 384.797 131.973 384.797 Q126.163 384.797 123.084 380.214 Q120.029 375.608 120.029 366.881 Q120.029 358.131 123.084 353.547 Q126.163 348.941 131.973 348.941 Z\" fill=\"#000000\" fill-rule=\"evenodd\" fill-opacity=\"1\" /><path clip-path=\"url(#clip440)\" d=\"M152.135 378.246 L157.019 378.246 L157.019 384.126 L152.135 384.126 L152.135 378.246 Z\" fill=\"#000000\" fill-rule=\"evenodd\" fill-opacity=\"1\" /><path clip-path=\"url(#clip440)\" d=\"M180.052 353.64 L168.246 372.089 L180.052 372.089 L180.052 353.64 M178.825 349.566 L184.704 349.566 L184.704 372.089 L189.635 372.089 L189.635 375.978 L184.704 375.978 L184.704 384.126 L180.052 384.126 L180.052 375.978 L164.45 375.978 L164.45 371.464 L178.825 349.566 Z\" fill=\"#000000\" fill-rule=\"evenodd\" fill-opacity=\"1\" /><path clip-path=\"url(#clip440)\" d=\"M132.297 201.889 Q128.686 201.889 126.857 205.454 Q125.052 208.996 125.052 216.125 Q125.052 223.232 126.857 226.796 Q128.686 230.338 132.297 230.338 Q135.931 230.338 137.737 226.796 Q139.566 223.232 139.566 216.125 Q139.566 208.996 137.737 205.454 Q135.931 201.889 132.297 201.889 M132.297 198.185 Q138.107 198.185 141.163 202.792 Q144.242 207.375 144.242 216.125 Q144.242 224.852 141.163 229.458 Q138.107 234.042 132.297 234.042 Q126.487 234.042 123.408 229.458 Q120.353 224.852 120.353 216.125 Q120.353 207.375 123.408 202.792 Q126.487 198.185 132.297 198.185 Z\" fill=\"#000000\" fill-rule=\"evenodd\" fill-opacity=\"1\" /><path clip-path=\"url(#clip440)\" d=\"M152.459 227.491 L157.343 227.491 L157.343 233.37 L152.459 233.37 L152.459 227.491 Z\" fill=\"#000000\" fill-rule=\"evenodd\" fill-opacity=\"1\" /><path clip-path=\"url(#clip440)\" d=\"M178.107 214.227 Q174.959 214.227 173.107 216.38 Q171.278 218.532 171.278 222.282 Q171.278 226.009 173.107 228.185 Q174.959 230.338 178.107 230.338 Q181.255 230.338 183.084 228.185 Q184.936 226.009 184.936 222.282 Q184.936 218.532 183.084 216.38 Q181.255 214.227 178.107 214.227 M187.389 199.574 L187.389 203.833 Q185.63 203 183.825 202.56 Q182.042 202.121 180.283 202.121 Q175.653 202.121 173.2 205.246 Q170.769 208.371 170.422 214.69 Q171.788 212.676 173.848 211.611 Q175.908 210.523 178.385 210.523 Q183.593 210.523 186.602 213.695 Q189.635 216.843 189.635 222.282 Q189.635 227.607 186.487 230.824 Q183.339 234.042 178.107 234.042 Q172.112 234.042 168.94 229.458 Q165.769 224.852 165.769 216.125 Q165.769 207.931 169.658 203.07 Q173.547 198.185 180.098 198.185 Q181.857 198.185 183.639 198.533 Q185.445 198.88 187.389 199.574 Z\" fill=\"#000000\" fill-rule=\"evenodd\" fill-opacity=\"1\" /><path clip-path=\"url(#clip440)\" d=\"M132.552 51.1335 Q128.941 51.1335 127.112 54.6983 Q125.306 58.2399 125.306 65.3695 Q125.306 72.4759 127.112 76.0407 Q128.941 79.5824 132.552 79.5824 Q136.186 79.5824 137.992 76.0407 Q139.82 72.4759 139.82 65.3695 Q139.82 58.2399 137.992 54.6983 Q136.186 51.1335 132.552 51.1335 M132.552 47.4298 Q138.362 47.4298 141.417 52.0362 Q144.496 56.6195 144.496 65.3695 Q144.496 74.0963 141.417 78.7028 Q138.362 83.2861 132.552 83.2861 Q126.742 83.2861 123.663 78.7028 Q120.607 74.0963 120.607 65.3695 Q120.607 56.6195 123.663 52.0362 Q126.742 47.4298 132.552 47.4298 Z\" fill=\"#000000\" fill-rule=\"evenodd\" fill-opacity=\"1\" /><path clip-path=\"url(#clip440)\" d=\"M152.714 76.7352 L157.598 76.7352 L157.598 82.6148 L152.714 82.6148 L152.714 76.7352 Z\" fill=\"#000000\" fill-rule=\"evenodd\" fill-opacity=\"1\" /><path clip-path=\"url(#clip440)\" d=\"M177.783 66.2028 Q174.45 66.2028 172.528 67.9852 Q170.63 69.7676 170.63 72.8926 Q170.63 76.0176 172.528 77.8 Q174.45 79.5824 177.783 79.5824 Q181.116 79.5824 183.038 77.8 Q184.959 75.9944 184.959 72.8926 Q184.959 69.7676 183.038 67.9852 Q181.139 66.2028 177.783 66.2028 M173.107 64.2121 Q170.098 63.4714 168.408 61.4112 Q166.741 59.351 166.741 56.3881 Q166.741 52.2446 169.681 49.8372 Q172.644 47.4298 177.783 47.4298 Q182.945 47.4298 185.885 49.8372 Q188.825 52.2446 188.825 56.3881 Q188.825 59.351 187.135 61.4112 Q185.468 63.4714 182.482 64.2121 Q185.862 64.9991 187.737 67.2908 Q189.635 69.5824 189.635 72.8926 Q189.635 77.9157 186.556 80.6009 Q183.501 83.2861 177.783 83.2861 Q172.065 83.2861 168.987 80.6009 Q165.931 77.9157 165.931 72.8926 Q165.931 69.5824 167.829 67.2908 Q169.728 64.9991 173.107 64.2121 M171.394 56.8279 Q171.394 59.513 173.061 61.0177 Q174.751 62.5223 177.783 62.5223 Q180.792 62.5223 182.482 61.0177 Q184.195 59.513 184.195 56.8279 Q184.195 54.1427 182.482 52.6381 Q180.792 51.1335 177.783 51.1335 Q174.751 51.1335 173.061 52.6381 Q171.394 54.1427 171.394 56.8279 Z\" fill=\"#000000\" fill-rule=\"evenodd\" fill-opacity=\"1\" /><path clip-path=\"url(#clip440)\" d=\"M32.3293 498.667 Q36.967 498.667 41.5724 500.341 Q46.1456 502.016 49.8493 504.818 Q53.553 507.588 56.4193 511.195 Q59.2534 514.77 60.7027 518.602 Q64.5674 518.119 66.0167 517.153 Q67.4981 516.154 67.4981 513.932 Q67.4981 512.644 66.9184 511.259 Q66.3387 509.842 64.825 508.393 Q63.3436 506.944 61.1536 506.203 Q60.4451 505.977 60.4451 505.398 Q60.4451 505.172 60.6383 504.947 Q60.7993 504.689 61.0892 504.689 Q61.3468 504.689 62.2808 504.979 Q63.247 505.237 64.7284 505.784 Q66.2099 506.332 67.7558 507.266 Q69.3339 508.2 70.7187 509.359 Q72.1036 510.486 72.9731 512.161 Q73.8749 513.836 73.8749 515.704 Q73.8749 517.249 73.2952 518.377 Q72.7155 519.472 71.9747 520.019 Q71.234 520.534 70.0424 520.824 Q68.883 521.114 68.2389 521.146 Q67.5948 521.179 66.6286 521.179 Q65.6302 521.179 61.54 520.921 Q62.5384 524.399 62.5384 527.362 Q62.5384 534.673 57.7398 539.472 Q52.9411 544.27 44.9218 544.27 Q39.318 544.27 33.7464 541.758 Q28.1426 539.246 23.988 535.253 Q19.8013 531.259 17.1926 526.009 Q14.5839 520.728 14.5839 515.51 Q14.5839 508.103 19.5114 503.401 Q24.4067 498.667 32.3293 498.667 M30.236 504.496 Q23.7304 504.496 19.9945 507.684 Q16.2264 510.84 16.2264 515.897 Q16.2264 519.762 18.7063 524.045 Q21.1861 528.296 25.9848 531.742 Q30.7835 535.124 36.8059 536.798 Q42.8284 538.441 47.0474 538.441 Q51.7173 538.441 55.2277 536.605 Q58.7059 534.769 60.1552 531.066 Q59.3823 531.452 58.0618 531.452 Q55.4853 531.452 53.4242 529.391 Q51.3308 527.33 51.3308 524.721 Q51.3308 523.562 51.6851 522.66 Q52.0071 521.726 52.6834 521.146 Q53.3598 520.534 54.0039 520.148 Q54.6158 519.729 55.6142 519.504 Q56.5803 519.246 57.0956 519.15 Q57.5787 519.053 58.4483 518.924 Q56.677 515.768 53.7784 513.192 Q50.8477 510.615 47.7559 509.037 Q44.632 507.459 41.2504 506.396 Q37.8365 505.333 35.1312 504.915 Q32.3937 504.496 30.236 504.496 M58.3839 520.728 Q55.3887 520.728 54.1005 521.694 Q52.7801 522.628 52.7801 524.721 Q52.7801 526.782 54.4226 528.393 Q56.0651 530.003 58.0618 530.003 Q59.0602 530.003 59.7043 529.713 Q60.3162 529.391 60.5739 528.811 Q60.7993 528.232 60.8637 527.877 Q60.8959 527.523 60.8959 526.976 Q60.8959 524.174 59.7043 521.436 Q59.5111 520.953 59.3178 520.857 Q59.1246 520.728 58.3839 520.728 Z\" fill=\"#000000\" fill-rule=\"evenodd\" fill-opacity=\"1\" /><path clip-path=\"url(#clip440)\" d=\"M65.6679 492.074 L64.2251 492.074 Q64.2251 486.528 61.2718 483.665 Q61.2718 482.876 61.4522 482.741 Q61.6325 482.605 62.4667 482.605 L88.3698 482.605 Q89.745 482.605 90.1734 481.929 Q90.6017 481.253 90.6017 478.299 L90.6017 476.834 L92.022 476.834 Q91.8867 478.457 91.8867 484.319 Q91.8867 490.18 92.022 491.781 L90.6017 491.781 L90.6017 490.315 Q90.6017 487.407 90.1959 486.708 Q89.7676 486.01 88.3698 486.01 L64.4505 486.01 Q65.6679 488.422 65.6679 492.074 Z\" fill=\"#000000\" fill-rule=\"evenodd\" fill-opacity=\"1\" /><path clip-path=\"url(#clip440)\" d=\"M77.5786 462.169 L11.621 462.169 L11.621 452.217 L13.1346 452.217 L13.1346 457.757 L76.0649 457.757 L76.0649 452.217 L77.5786 452.217 L77.5786 462.169 Z\" fill=\"#000000\" fill-rule=\"evenodd\" fill-opacity=\"1\" /><path clip-path=\"url(#clip440)\" d=\"M51.6529 396.841 Q51.9105 396.841 52.9089 397.131 Q53.9073 397.421 55.4531 398.13 Q56.999 398.806 58.4161 399.772 Q59.8009 400.706 60.8315 402.252 Q61.8299 403.766 61.8299 405.505 Q61.8299 407.824 60.284 409.369 Q58.7381 410.915 56.4193 410.915 Q55.1633 410.915 52.7801 410.046 Q41.8945 405.956 37.9976 405.956 Q33.3921 405.956 33.3921 409.531 Q33.3921 411.559 34.2295 413.395 Q35.0668 415.231 36.2262 416.423 Q37.3857 417.614 38.7061 418.548 Q40.0265 419.482 40.8961 419.901 Q41.7657 420.287 42.1521 420.384 L58.0618 424.345 Q59.4145 424.667 60.0586 424.893 Q60.7027 425.118 61.2502 425.73 Q61.8299 426.342 61.8299 427.308 Q61.8299 428.113 61.3468 428.693 Q60.8637 429.241 60.0264 429.241 Q59.8976 429.241 59.2212 429.079 Q58.5449 428.918 57.6109 428.693 Q56.677 428.468 56.1295 428.371 Q51.7495 427.212 51.1376 427.051 L43.4726 425.215 Q39.6723 424.216 37.9976 424.216 Q33.3921 424.216 33.3921 427.791 Q33.3921 429.563 34.0685 431.237 Q34.7126 432.88 35.6143 434.007 Q36.5161 435.134 37.7721 436.165 Q38.9959 437.163 39.8333 437.678 Q40.6384 438.162 41.4436 438.548 L44.7286 439.385 Q45.6304 439.579 49.1408 440.513 L55.0989 441.962 Q59.5433 442.992 59.962 443.218 Q60.8637 443.54 61.3468 444.248 Q61.8299 444.957 61.8299 445.665 Q61.8299 446.471 61.3468 447.018 Q60.8637 447.566 60.0264 447.566 Q59.8976 447.566 59.4145 447.469 Q58.9314 447.372 58.2551 447.211 Q57.5787 447.05 57.1923 446.986 L41.9589 443.153 Q39.1892 442.445 38.3196 442.284 Q37.4179 442.091 36.4195 442.091 Q33.3921 442.091 33.3921 444.152 Q33.3921 445.827 35.3889 446.922 Q37.3857 448.017 41.2504 448.95 Q42.3132 449.24 42.5386 449.434 Q42.764 449.595 42.764 450.078 Q42.7318 450.883 42.0877 450.883 Q41.9267 450.883 40.8961 450.625 Q39.8655 450.368 38.3196 449.884 Q36.7415 449.369 35.7109 448.822 Q35.0346 448.5 34.5837 448.21 Q34.1329 447.92 33.4243 447.34 Q32.7158 446.76 32.3293 445.891 Q31.9429 445.021 31.9429 443.959 Q31.9429 441.608 33.4565 439.868 Q34.9702 438.097 37.6755 437.872 Q31.9429 433.588 31.9429 427.598 Q31.9429 424.216 33.6498 422.187 Q35.2923 420.287 38.3196 420.062 Q31.9429 415.617 31.9429 409.305 Q31.9429 405.666 33.843 403.701 Q35.7109 401.737 38.9959 401.737 Q40.7029 401.737 43.9556 402.606 Q47.1762 403.476 48.7865 404.056 Q50.3968 404.635 53.4886 405.762 Q56.4515 406.954 58.1906 406.954 Q59.3178 406.954 59.8331 406.568 Q60.3484 406.181 60.3484 405.344 Q60.3484 404.056 59.6077 402.928 Q58.8348 401.801 57.5787 400.996 Q56.2905 400.159 55.0023 399.611 Q53.6818 399.064 52.2004 398.645 Q51.3952 398.387 51.202 398.258 Q51.0087 398.097 51.0087 397.647 Q51.0087 396.841 51.6529 396.841 Z\" fill=\"#000000\" fill-rule=\"evenodd\" fill-opacity=\"1\" /><path clip-path=\"url(#clip440)\" d=\"M52.2004 392.473 Q50.2358 392.473 49.3018 391.346 Q48.3679 390.219 48.3679 388.77 Q48.3679 387.256 49.3662 386.193 Q50.3324 385.098 52.0393 385.098 Q53.8751 385.098 54.9056 386.386 Q55.9362 387.642 55.6786 389.446 Q58.3195 387.868 59.5111 384.969 Q60.7027 382.039 60.7027 379.333 Q60.7027 376.499 58.2551 374.213 Q55.8074 371.894 49.8171 371.894 Q44.7286 371.894 41.7979 373.891 Q38.8671 375.855 38.8671 379.752 L38.8671 382.651 Q38.8671 383.649 38.7705 383.939 Q38.6739 384.229 38.1264 384.229 Q37.4823 384.229 37.3534 383.23 Q37.3534 382.232 37.1602 380.654 Q37.0314 376.821 33.7142 374.792 Q30.6224 372.957 26.2102 372.957 Q22.1845 372.957 20.5098 374.889 Q18.8029 376.789 18.8029 379.269 Q18.8029 381.588 19.769 384.132 Q20.7352 386.676 22.893 388.061 Q22.893 383.971 26.2102 383.971 Q27.6595 383.971 28.6257 384.905 Q29.5596 385.807 29.5596 387.32 Q29.5596 388.77 28.6579 389.736 Q27.7239 390.702 26.1458 390.702 Q22.3777 390.702 19.769 387.353 Q17.1604 383.971 17.1604 379.011 Q17.1604 374.116 19.7368 370.509 Q22.3133 366.87 26.2746 366.87 Q30.1715 366.87 33.3599 369.446 Q36.5483 372.023 37.8687 376.113 Q38.8671 371.089 42.2809 368.094 Q45.6626 365.098 49.8171 365.098 Q54.9701 365.098 58.7703 369.156 Q62.5384 373.214 62.5384 379.14 Q62.5384 384.615 59.5755 388.544 Q56.6126 392.473 52.2004 392.473 Z\" fill=\"#000000\" fill-rule=\"evenodd\" fill-opacity=\"1\" /><path clip-path=\"url(#clip440)\" d=\"M76.6446 359.809 Q76.3225 359.809 75.614 359.552 L13.3923 336.267 Q13.3279 336.267 12.9736 336.106 Q12.6193 335.945 12.3939 335.848 Q12.1363 335.752 11.943 335.558 Q11.7498 335.333 11.7498 335.075 Q11.7498 334.431 12.5549 334.431 Q12.6193 334.431 13.3923 334.624 L75.6784 357.974 Q76.8056 358.36 77.1277 358.618 Q77.4497 358.843 77.4497 359.23 Q77.4497 359.809 76.6446 359.809 Z\" fill=\"#000000\" fill-rule=\"evenodd\" fill-opacity=\"1\" /><path clip-path=\"url(#clip440)\" d=\"M51.6529 273.104 Q51.9105 273.104 52.9089 273.394 Q53.9073 273.683 55.4531 274.392 Q56.999 275.068 58.4161 276.035 Q59.8009 276.968 60.8315 278.514 Q61.8299 280.028 61.8299 281.767 Q61.8299 284.086 60.284 285.632 Q58.7381 287.178 56.4193 287.178 Q55.1633 287.178 52.7801 286.308 Q41.8945 282.218 37.9976 282.218 Q33.3921 282.218 33.3921 285.793 Q33.3921 287.822 34.2295 289.658 Q35.0668 291.493 36.2262 292.685 Q37.3857 293.877 38.7061 294.811 Q40.0265 295.745 40.8961 296.163 Q41.7657 296.55 42.1521 296.646 L58.0618 300.608 Q59.4145 300.93 60.0586 301.155 Q60.7027 301.381 61.2502 301.992 Q61.8299 302.604 61.8299 303.571 Q61.8299 304.376 61.3468 304.955 Q60.8637 305.503 60.0264 305.503 Q59.8976 305.503 59.2212 305.342 Q58.5449 305.181 57.6109 304.955 Q56.677 304.73 56.1295 304.633 Q51.7495 303.474 51.1376 303.313 L43.4726 301.477 Q39.6723 300.479 37.9976 300.479 Q33.3921 300.479 33.3921 304.054 Q33.3921 305.825 34.0685 307.5 Q34.7126 309.142 35.6143 310.269 Q36.5161 311.397 37.7721 312.427 Q38.9959 313.426 39.8333 313.941 Q40.6384 314.424 41.4436 314.81 L44.7286 315.648 Q45.6304 315.841 49.1408 316.775 L55.0989 318.224 Q59.5433 319.255 59.962 319.48 Q60.8637 319.802 61.3468 320.511 Q61.8299 321.219 61.8299 321.928 Q61.8299 322.733 61.3468 323.281 Q60.8637 323.828 60.0264 323.828 Q59.8976 323.828 59.4145 323.731 Q58.9314 323.635 58.2551 323.474 Q57.5787 323.313 57.1923 323.248 L41.9589 319.416 Q39.1892 318.707 38.3196 318.546 Q37.4179 318.353 36.4195 318.353 Q33.3921 318.353 33.3921 320.414 Q33.3921 322.089 35.3889 323.184 Q37.3857 324.279 41.2504 325.213 Q42.3132 325.503 42.5386 325.696 Q42.764 325.857 42.764 326.34 Q42.7318 327.145 42.0877 327.145 Q41.9267 327.145 40.8961 326.888 Q39.8655 326.63 38.3196 326.147 Q36.7415 325.632 35.7109 325.084 Q35.0346 324.762 34.5837 324.472 Q34.1329 324.182 33.4243 323.603 Q32.7158 323.023 32.3293 322.153 Q31.9429 321.284 31.9429 320.221 Q31.9429 317.87 33.4565 316.131 Q34.9702 314.359 37.6755 314.134 Q31.9429 309.851 31.9429 303.86 Q31.9429 300.479 33.6498 298.45 Q35.2923 296.55 38.3196 296.324 Q31.9429 291.88 31.9429 285.567 Q31.9429 281.928 33.843 279.964 Q35.7109 277.999 38.9959 277.999 Q40.7029 277.999 43.9556 278.869 Q47.1762 279.738 48.7865 280.318 Q50.3968 280.898 53.4886 282.025 Q56.4515 283.216 58.1906 283.216 Q59.3178 283.216 59.8331 282.83 Q60.3484 282.443 60.3484 281.606 Q60.3484 280.318 59.6077 279.191 Q58.8348 278.063 57.5787 277.258 Q56.2905 276.421 55.0023 275.873 Q53.6818 275.326 52.2004 274.907 Q51.3952 274.65 51.202 274.521 Q51.0087 274.36 51.0087 273.909 Q51.0087 273.104 51.6529 273.104 Z\" fill=\"#000000\" fill-rule=\"evenodd\" fill-opacity=\"1\" /><path clip-path=\"url(#clip440)\" d=\"M19.8657 253.212 Q21.2827 253.212 22.3455 254.371 Q23.3761 255.499 23.3761 256.722 Q23.3761 257.85 22.6998 258.558 Q21.9913 259.235 20.9929 259.235 Q19.6724 259.235 18.5774 258.107 Q17.4824 256.98 17.4824 255.66 Q17.4824 254.565 18.1588 253.888 Q18.8351 253.212 19.8657 253.212 M51.6529 252.632 Q51.9105 252.632 52.9411 252.922 Q53.9395 253.212 55.4853 253.921 Q56.999 254.597 58.4161 255.531 Q59.8331 256.465 60.8315 258.011 Q61.8299 259.524 61.8299 261.264 Q61.8299 263.615 60.284 265.16 Q58.7381 266.674 56.4193 266.674 Q55.1633 266.674 51.1376 265.16 Q39.4146 260.78 38.9315 260.619 Q37.0958 259.879 35.4855 259.879 Q34.7448 259.879 34.2939 260.04 Q33.8108 260.201 33.6498 260.523 Q33.4565 260.845 33.4243 261.038 Q33.3921 261.199 33.3921 261.521 Q33.3921 263.421 35.3245 265.193 Q37.2568 266.964 41.5724 268.188 Q42.3776 268.445 42.5708 268.606 Q42.764 268.767 42.764 269.251 Q42.7318 270.056 42.0877 270.056 Q41.8945 270.056 41.1537 269.83 Q40.3808 269.605 39.2214 269.186 Q38.0298 268.767 36.8059 268.027 Q35.5499 267.286 34.4549 266.384 Q33.3599 265.45 32.6514 264.13 Q31.9429 262.809 31.9429 261.328 Q31.9429 258.912 33.521 257.431 Q35.0668 255.917 37.3534 255.917 Q38.6095 255.917 40.8317 256.787 Q43.7302 257.85 44.6642 258.236 L51.5884 260.813 Q54.1005 261.747 54.8734 262.036 Q55.6142 262.294 56.5159 262.52 Q57.3855 262.713 58.1906 262.713 Q59.3178 262.713 59.8331 262.359 Q60.3484 261.972 60.3484 261.135 Q60.3484 258.816 58.0618 257.109 Q55.743 255.402 52.2004 254.404 Q52.1037 254.371 51.9427 254.339 Q51.1376 254.082 51.0409 253.824 Q51.0087 253.695 51.0087 253.437 Q51.0087 252.632 51.6529 252.632 Z\" fill=\"#000000\" fill-rule=\"evenodd\" fill-opacity=\"1\" /><path clip-path=\"url(#clip440)\" d=\"M51.6529 211.259 Q51.9105 211.259 52.9089 211.549 Q53.9073 211.839 55.4531 212.547 Q56.999 213.223 58.4161 214.157 Q59.8009 215.091 60.8315 216.637 Q61.8299 218.151 61.8299 219.89 Q61.8299 222.209 60.284 223.755 Q58.7381 225.301 56.4193 225.301 Q55.1311 225.301 53.3598 224.624 Q41.9267 220.341 37.9976 220.341 Q33.3921 220.341 33.3921 223.916 Q33.3921 225.687 34.0685 227.362 Q34.7126 229.004 35.6143 230.132 Q36.5161 231.259 37.7721 232.289 Q38.9959 233.288 39.8333 233.803 Q40.6384 234.286 41.4436 234.673 L44.7286 235.51 Q45.6304 235.703 49.1408 236.637 L55.0989 238.086 Q59.5433 239.117 59.962 239.342 Q60.8637 239.664 61.3468 240.373 Q61.8299 241.082 61.8299 241.79 Q61.8299 242.595 61.3468 243.143 Q60.8637 243.69 60.0264 243.69 Q59.8976 243.69 59.4145 243.594 Q58.9314 243.497 58.2551 243.336 Q57.5787 243.175 57.1923 243.11 L41.9589 239.278 Q39.1892 238.569 38.3196 238.408 Q37.4179 238.215 36.4195 238.215 Q33.3921 238.215 33.3921 240.276 Q33.3921 241.951 35.3889 243.046 Q37.3857 244.141 41.2504 245.075 Q42.3132 245.365 42.5386 245.558 Q42.764 245.719 42.764 246.202 Q42.7318 247.007 42.0877 247.007 Q41.9267 247.007 40.8639 246.75 Q39.8011 246.492 38.2874 246.009 Q36.7415 245.494 35.7109 245.011 Q34.938 244.592 34.5837 244.367 Q34.1973 244.109 33.4565 243.497 Q32.6836 242.853 32.3293 242.015 Q31.9429 241.146 31.9429 240.083 Q31.9429 237.7 33.4887 235.961 Q35.0024 234.222 37.6755 233.996 Q31.9429 229.713 31.9429 223.723 Q31.9429 220.18 33.8108 218.151 Q35.6787 216.122 38.9959 216.122 Q39.7689 216.122 40.7673 216.283 Q41.7334 216.412 42.9573 216.734 Q44.1811 217.024 45.1151 217.281 Q46.049 217.539 47.5627 218.054 Q49.0442 218.57 49.6883 218.795 Q50.3324 219.02 51.8461 219.568 Q53.3276 220.083 53.4886 220.148 Q56.4837 221.339 58.1906 221.339 Q59.3178 221.339 59.8331 220.985 Q60.3484 220.599 60.3484 219.761 Q60.3484 217.507 58.1262 215.832 Q55.8718 214.125 52.2004 213.03 Q51.3952 212.773 51.202 212.644 Q51.0087 212.483 51.0087 212.032 Q51.0087 211.259 51.6529 211.259 Z\" fill=\"#000000\" fill-rule=\"evenodd\" fill-opacity=\"1\" /><path clip-path=\"url(#clip440)\" d=\"M76.0649 207.572 L76.0649 202.033 L13.1346 202.033 L13.1346 207.572 L11.621 207.572 L11.621 197.62 L77.5786 197.62 L77.5786 207.572 L76.0649 207.572 Z\" fill=\"#000000\" fill-rule=\"evenodd\" fill-opacity=\"1\" /><polyline clip-path=\"url(#clip443)\" style=\"stroke:#000000; stroke-linecap:round; stroke-linejoin:round; stroke-width:4; stroke-opacity:1; fill:none\" stroke-dasharray=\"2, 4\" points=\"285.836,65.3348 337.291,65.3348 388.745,65.3348 440.199,65.3348 491.654,65.3348 543.108,65.3348 594.562,65.3348 646.017,65.3348 697.471,65.3348 748.925,65.3348 800.379,65.3348 851.834,65.3348 903.288,65.3348 954.742,65.3348 1006.2,65.3348 1057.65,65.3348 1109.11,65.3348 1160.56,65.3348 1212.01,65.3348 1263.47,65.3348 1314.92,65.3348 1366.38,65.3348 1417.83,65.3348 1469.29,65.3348 1520.74,65.3348 1572.19,65.3348 1623.65,65.3348 1675.1,65.3348 1726.56,65.3348 1778.01,65.3348 1829.47,65.3348 1880.92,65.3348 1932.37,65.3348 1983.83,65.3348 2035.28,65.3348 2086.74,65.3348 2138.19,65.3348 2189.65,65.3348 2241.1,65.3348 2292.55,65.3348 \"/>\n",
       "<polyline clip-path=\"url(#clip443)\" style=\"stroke:#000000; stroke-linecap:round; stroke-linejoin:round; stroke-width:4; stroke-opacity:1; fill:none\" stroke-dasharray=\"2, 4\" points=\"285.836,630.668 337.291,630.668 388.745,630.668 440.199,630.668 491.654,630.668 543.108,630.668 594.562,630.668 646.017,630.668 697.471,630.668 748.925,630.668 800.379,630.668 851.834,630.668 903.288,630.668 954.742,630.668 1006.2,630.668 1057.65,630.668 1109.11,630.668 1160.56,630.668 1212.01,630.668 1263.47,630.668 1314.92,630.668 1366.38,630.668 1417.83,630.668 1469.29,630.668 1520.74,630.668 1572.19,630.668 1623.65,630.668 1675.1,630.668 1726.56,630.668 1778.01,630.668 1829.47,630.668 1880.92,630.668 1932.37,630.668 1983.83,630.668 2035.28,630.668 2086.74,630.668 2138.19,630.668 2189.65,630.668 2241.1,630.668 2292.55,630.668 \"/>\n",
       "<polyline clip-path=\"url(#clip443)\" style=\"stroke:#ff0000; stroke-linecap:round; stroke-linejoin:round; stroke-width:12; stroke-opacity:0.3; fill:none\" points=\"285.836,517.602 337.291,668.357 388.745,668.357 440.199,668.357 491.654,668.357 543.108,668.357 594.562,668.357 646.017,668.357 697.471,668.357 748.925,668.357 800.379,668.357 851.834,668.357 903.288,668.357 954.742,668.357 1006.2,668.357 1057.65,668.357 1109.11,668.357 1160.56,668.357 1212.01,668.357 1263.47,668.357 1314.92,668.357 1366.38,668.357 1417.83,668.357 1469.29,668.357 1520.74,668.357 1572.19,668.357 1623.65,668.357 1675.1,668.357 1726.56,668.357 1778.01,668.357 1829.47,668.357 1880.92,668.357 1932.37,668.357 1983.83,668.357 2035.28,668.357 2086.74,668.357 2138.19,668.357 2189.65,668.357 2241.1,668.357 2292.55,668.357 \"/>\n",
       "<polyline clip-path=\"url(#clip443)\" style=\"stroke:#0000ff; stroke-linecap:round; stroke-linejoin:round; stroke-width:12; stroke-opacity:0.3; fill:none\" points=\"285.836,668.357 337.291,668.357 388.745,668.357 440.199,668.357 491.654,668.357 543.108,668.357 594.562,668.357 646.017,668.357 697.471,668.357 748.925,668.357 800.379,668.357 851.834,668.357 903.288,668.357 954.742,668.357 1006.2,668.357 1057.65,668.357 1109.11,668.357 1160.56,668.357 1212.01,668.357 1263.47,668.357 1314.92,668.357 1366.38,668.357 1417.83,668.357 1469.29,668.357 1520.74,668.357 1572.19,668.357 1623.65,668.357 1675.1,668.357 1726.56,668.357 1778.01,668.357 1829.47,668.357 1880.92,668.357 1932.37,668.357 1983.83,668.357 2035.28,668.357 2086.74,668.357 2138.19,668.357 2189.65,668.357 2241.1,668.357 2292.55,668.357 \"/>\n",
       "<path clip-path=\"url(#clip440)\" d=\"M225.635 1486.45 L2352.76 1486.45 L2352.76 847.244 L225.635 847.244  Z\" fill=\"#ffffff\" fill-rule=\"evenodd\" fill-opacity=\"1\"/>\n",
       "<defs>\n",
       "  <clipPath id=\"clip444\">\n",
       "    <rect x=\"225\" y=\"847\" width=\"2128\" height=\"640\"/>\n",
       "  </clipPath>\n",
       "</defs>\n",
       "<polyline clip-path=\"url(#clip444)\" style=\"stroke:#000000; stroke-linecap:round; stroke-linejoin:round; stroke-width:8; stroke-opacity:0.1; fill:none\" points=\"234.382,1486.45 234.382,847.244 \"/>\n",
       "<polyline clip-path=\"url(#clip444)\" style=\"stroke:#000000; stroke-linecap:round; stroke-linejoin:round; stroke-width:8; stroke-opacity:0.1; fill:none\" points=\"748.925,1486.45 748.925,847.244 \"/>\n",
       "<polyline clip-path=\"url(#clip444)\" style=\"stroke:#000000; stroke-linecap:round; stroke-linejoin:round; stroke-width:8; stroke-opacity:0.1; fill:none\" points=\"1263.47,1486.45 1263.47,847.244 \"/>\n",
       "<polyline clip-path=\"url(#clip444)\" style=\"stroke:#000000; stroke-linecap:round; stroke-linejoin:round; stroke-width:8; stroke-opacity:0.1; fill:none\" points=\"1778.01,1486.45 1778.01,847.244 \"/>\n",
       "<polyline clip-path=\"url(#clip444)\" style=\"stroke:#000000; stroke-linecap:round; stroke-linejoin:round; stroke-width:8; stroke-opacity:0.1; fill:none\" points=\"2292.55,1486.45 2292.55,847.244 \"/>\n",
       "<polyline clip-path=\"url(#clip440)\" style=\"stroke:#000000; stroke-linecap:round; stroke-linejoin:round; stroke-width:4; stroke-opacity:1; fill:none\" points=\"225.635,1486.45 2352.76,1486.45 \"/>\n",
       "<polyline clip-path=\"url(#clip440)\" style=\"stroke:#000000; stroke-linecap:round; stroke-linejoin:round; stroke-width:4; stroke-opacity:1; fill:none\" points=\"234.382,1486.45 234.382,1467.55 \"/>\n",
       "<polyline clip-path=\"url(#clip440)\" style=\"stroke:#000000; stroke-linecap:round; stroke-linejoin:round; stroke-width:4; stroke-opacity:1; fill:none\" points=\"748.925,1486.45 748.925,1467.55 \"/>\n",
       "<polyline clip-path=\"url(#clip440)\" style=\"stroke:#000000; stroke-linecap:round; stroke-linejoin:round; stroke-width:4; stroke-opacity:1; fill:none\" points=\"1263.47,1486.45 1263.47,1467.55 \"/>\n",
       "<polyline clip-path=\"url(#clip440)\" style=\"stroke:#000000; stroke-linecap:round; stroke-linejoin:round; stroke-width:4; stroke-opacity:1; fill:none\" points=\"1778.01,1486.45 1778.01,1467.55 \"/>\n",
       "<polyline clip-path=\"url(#clip440)\" style=\"stroke:#000000; stroke-linecap:round; stroke-linejoin:round; stroke-width:4; stroke-opacity:1; fill:none\" points=\"2292.55,1486.45 2292.55,1467.55 \"/>\n",
       "<path clip-path=\"url(#clip440)\" d=\"M234.382 1517.37 Q230.771 1517.37 228.942 1520.93 Q227.137 1524.47 227.137 1531.6 Q227.137 1538.71 228.942 1542.27 Q230.771 1545.82 234.382 1545.82 Q238.016 1545.82 239.822 1542.27 Q241.651 1538.71 241.651 1531.6 Q241.651 1524.47 239.822 1520.93 Q238.016 1517.37 234.382 1517.37 M234.382 1513.66 Q240.192 1513.66 243.248 1518.27 Q246.326 1522.85 246.326 1531.6 Q246.326 1540.33 243.248 1544.94 Q240.192 1549.52 234.382 1549.52 Q228.572 1549.52 225.493 1544.94 Q222.438 1540.33 222.438 1531.6 Q222.438 1522.85 225.493 1518.27 Q228.572 1513.66 234.382 1513.66 Z\" fill=\"#000000\" fill-rule=\"evenodd\" fill-opacity=\"1\" /><path clip-path=\"url(#clip440)\" d=\"M723.613 1544.91 L731.252 1544.91 L731.252 1518.55 L722.941 1520.21 L722.941 1515.95 L731.205 1514.29 L735.881 1514.29 L735.881 1544.91 L743.52 1544.91 L743.52 1548.85 L723.613 1548.85 L723.613 1544.91 Z\" fill=\"#000000\" fill-rule=\"evenodd\" fill-opacity=\"1\" /><path clip-path=\"url(#clip440)\" d=\"M762.964 1517.37 Q759.353 1517.37 757.525 1520.93 Q755.719 1524.47 755.719 1531.6 Q755.719 1538.71 757.525 1542.27 Q759.353 1545.82 762.964 1545.82 Q766.599 1545.82 768.404 1542.27 Q770.233 1538.71 770.233 1531.6 Q770.233 1524.47 768.404 1520.93 Q766.599 1517.37 762.964 1517.37 M762.964 1513.66 Q768.775 1513.66 771.83 1518.27 Q774.909 1522.85 774.909 1531.6 Q774.909 1540.33 771.83 1544.94 Q768.775 1549.52 762.964 1549.52 Q757.154 1549.52 754.076 1544.94 Q751.02 1540.33 751.02 1531.6 Q751.02 1522.85 754.076 1518.27 Q757.154 1513.66 762.964 1513.66 Z\" fill=\"#000000\" fill-rule=\"evenodd\" fill-opacity=\"1\" /><path clip-path=\"url(#clip440)\" d=\"M1242.24 1544.91 L1258.56 1544.91 L1258.56 1548.85 L1236.62 1548.85 L1236.62 1544.91 Q1239.28 1542.16 1243.86 1537.53 Q1248.47 1532.88 1249.65 1531.53 Q1251.89 1529.01 1252.77 1527.27 Q1253.68 1525.51 1253.68 1523.82 Q1253.68 1521.07 1251.73 1519.33 Q1249.81 1517.6 1246.71 1517.6 Q1244.51 1517.6 1242.06 1518.36 Q1239.63 1519.13 1236.85 1520.68 L1236.85 1515.95 Q1239.67 1514.82 1242.13 1514.24 Q1244.58 1513.66 1246.62 1513.66 Q1251.99 1513.66 1255.18 1516.35 Q1258.38 1519.03 1258.38 1523.52 Q1258.38 1525.65 1257.57 1527.57 Q1256.78 1529.47 1254.67 1532.07 Q1254.09 1532.74 1250.99 1535.95 Q1247.89 1539.15 1242.24 1544.91 Z\" fill=\"#000000\" fill-rule=\"evenodd\" fill-opacity=\"1\" /><path clip-path=\"url(#clip440)\" d=\"M1278.38 1517.37 Q1274.76 1517.37 1272.94 1520.93 Q1271.13 1524.47 1271.13 1531.6 Q1271.13 1538.71 1272.94 1542.27 Q1274.76 1545.82 1278.38 1545.82 Q1282.01 1545.82 1283.82 1542.27 Q1285.64 1538.71 1285.64 1531.6 Q1285.64 1524.47 1283.82 1520.93 Q1282.01 1517.37 1278.38 1517.37 M1278.38 1513.66 Q1284.19 1513.66 1287.24 1518.27 Q1290.32 1522.85 1290.32 1531.6 Q1290.32 1540.33 1287.24 1544.94 Q1284.19 1549.52 1278.38 1549.52 Q1272.57 1549.52 1269.49 1544.94 Q1266.43 1540.33 1266.43 1531.6 Q1266.43 1522.85 1269.49 1518.27 Q1272.57 1513.66 1278.38 1513.66 Z\" fill=\"#000000\" fill-rule=\"evenodd\" fill-opacity=\"1\" /><path clip-path=\"url(#clip440)\" d=\"M1766.85 1530.21 Q1770.21 1530.93 1772.09 1533.2 Q1773.98 1535.47 1773.98 1538.8 Q1773.98 1543.92 1770.47 1546.72 Q1766.95 1549.52 1760.47 1549.52 Q1758.29 1549.52 1755.97 1549.08 Q1753.68 1548.66 1751.23 1547.81 L1751.23 1543.29 Q1753.17 1544.43 1755.49 1545.01 Q1757.8 1545.58 1760.33 1545.58 Q1764.72 1545.58 1767.02 1543.85 Q1769.33 1542.11 1769.33 1538.8 Q1769.33 1535.75 1767.18 1534.03 Q1765.05 1532.3 1761.23 1532.3 L1757.2 1532.3 L1757.2 1528.45 L1761.41 1528.45 Q1764.86 1528.45 1766.69 1527.09 Q1768.52 1525.7 1768.52 1523.11 Q1768.52 1520.45 1766.62 1519.03 Q1764.75 1517.6 1761.23 1517.6 Q1759.31 1517.6 1757.11 1518.01 Q1754.91 1518.43 1752.27 1519.31 L1752.27 1515.14 Q1754.93 1514.4 1757.25 1514.03 Q1759.59 1513.66 1761.65 1513.66 Q1766.97 1513.66 1770.07 1516.09 Q1773.17 1518.5 1773.17 1522.62 Q1773.17 1525.49 1771.53 1527.48 Q1769.89 1529.45 1766.85 1530.21 Z\" fill=\"#000000\" fill-rule=\"evenodd\" fill-opacity=\"1\" /><path clip-path=\"url(#clip440)\" d=\"M1792.85 1517.37 Q1789.24 1517.37 1787.41 1520.93 Q1785.6 1524.47 1785.6 1531.6 Q1785.6 1538.71 1787.41 1542.27 Q1789.24 1545.82 1792.85 1545.82 Q1796.48 1545.82 1798.29 1542.27 Q1800.12 1538.71 1800.12 1531.6 Q1800.12 1524.47 1798.29 1520.93 Q1796.48 1517.37 1792.85 1517.37 M1792.85 1513.66 Q1798.66 1513.66 1801.71 1518.27 Q1804.79 1522.85 1804.79 1531.6 Q1804.79 1540.33 1801.71 1544.94 Q1798.66 1549.52 1792.85 1549.52 Q1787.04 1549.52 1783.96 1544.94 Q1780.9 1540.33 1780.9 1531.6 Q1780.9 1522.85 1783.96 1518.27 Q1787.04 1513.66 1792.85 1513.66 Z\" fill=\"#000000\" fill-rule=\"evenodd\" fill-opacity=\"1\" /><path clip-path=\"url(#clip440)\" d=\"M2280.73 1518.36 L2268.92 1536.81 L2280.73 1536.81 L2280.73 1518.36 M2279.5 1514.29 L2285.38 1514.29 L2285.38 1536.81 L2290.31 1536.81 L2290.31 1540.7 L2285.38 1540.7 L2285.38 1548.85 L2280.73 1548.85 L2280.73 1540.7 L2265.12 1540.7 L2265.12 1536.19 L2279.5 1514.29 Z\" fill=\"#000000\" fill-rule=\"evenodd\" fill-opacity=\"1\" /><path clip-path=\"url(#clip440)\" d=\"M2308.04 1517.37 Q2304.43 1517.37 2302.6 1520.93 Q2300.8 1524.47 2300.8 1531.6 Q2300.8 1538.71 2302.6 1542.27 Q2304.43 1545.82 2308.04 1545.82 Q2311.67 1545.82 2313.48 1542.27 Q2315.31 1538.71 2315.31 1531.6 Q2315.31 1524.47 2313.48 1520.93 Q2311.67 1517.37 2308.04 1517.37 M2308.04 1513.66 Q2313.85 1513.66 2316.91 1518.27 Q2319.98 1522.85 2319.98 1531.6 Q2319.98 1540.33 2316.91 1544.94 Q2313.85 1549.52 2308.04 1549.52 Q2302.23 1549.52 2299.15 1544.94 Q2296.1 1540.33 2296.1 1531.6 Q2296.1 1522.85 2299.15 1518.27 Q2302.23 1513.66 2308.04 1513.66 Z\" fill=\"#000000\" fill-rule=\"evenodd\" fill-opacity=\"1\" /><polyline clip-path=\"url(#clip444)\" style=\"stroke:#000000; stroke-linecap:round; stroke-linejoin:round; stroke-width:8; stroke-opacity:0.1; fill:none\" points=\"225.635,1468.36 2352.76,1468.36 \"/>\n",
       "<polyline clip-path=\"url(#clip444)\" style=\"stroke:#000000; stroke-linecap:round; stroke-linejoin:round; stroke-width:8; stroke-opacity:0.1; fill:none\" points=\"225.635,1317.6 2352.76,1317.6 \"/>\n",
       "<polyline clip-path=\"url(#clip444)\" style=\"stroke:#000000; stroke-linecap:round; stroke-linejoin:round; stroke-width:8; stroke-opacity:0.1; fill:none\" points=\"225.635,1166.85 2352.76,1166.85 \"/>\n",
       "<polyline clip-path=\"url(#clip444)\" style=\"stroke:#000000; stroke-linecap:round; stroke-linejoin:round; stroke-width:8; stroke-opacity:0.1; fill:none\" points=\"225.635,1016.09 2352.76,1016.09 \"/>\n",
       "<polyline clip-path=\"url(#clip444)\" style=\"stroke:#000000; stroke-linecap:round; stroke-linejoin:round; stroke-width:8; stroke-opacity:0.1; fill:none\" points=\"225.635,865.335 2352.76,865.335 \"/>\n",
       "<polyline clip-path=\"url(#clip440)\" style=\"stroke:#000000; stroke-linecap:round; stroke-linejoin:round; stroke-width:4; stroke-opacity:1; fill:none\" points=\"225.635,1486.45 225.635,847.244 \"/>\n",
       "<polyline clip-path=\"url(#clip440)\" style=\"stroke:#000000; stroke-linecap:round; stroke-linejoin:round; stroke-width:4; stroke-opacity:1; fill:none\" points=\"225.635,1468.36 244.532,1468.36 \"/>\n",
       "<polyline clip-path=\"url(#clip440)\" style=\"stroke:#000000; stroke-linecap:round; stroke-linejoin:round; stroke-width:4; stroke-opacity:1; fill:none\" points=\"225.635,1317.6 244.532,1317.6 \"/>\n",
       "<polyline clip-path=\"url(#clip440)\" style=\"stroke:#000000; stroke-linecap:round; stroke-linejoin:round; stroke-width:4; stroke-opacity:1; fill:none\" points=\"225.635,1166.85 244.532,1166.85 \"/>\n",
       "<polyline clip-path=\"url(#clip440)\" style=\"stroke:#000000; stroke-linecap:round; stroke-linejoin:round; stroke-width:4; stroke-opacity:1; fill:none\" points=\"225.635,1016.09 244.532,1016.09 \"/>\n",
       "<polyline clip-path=\"url(#clip440)\" style=\"stroke:#000000; stroke-linecap:round; stroke-linejoin:round; stroke-width:4; stroke-opacity:1; fill:none\" points=\"225.635,865.335 244.532,865.335 \"/>\n",
       "<path clip-path=\"url(#clip440)\" d=\"M132.459 1454.16 Q128.848 1454.16 127.019 1457.72 Q125.214 1461.26 125.214 1468.39 Q125.214 1475.5 127.019 1479.06 Q128.848 1482.6 132.459 1482.6 Q136.093 1482.6 137.899 1479.06 Q139.728 1475.5 139.728 1468.39 Q139.728 1461.26 137.899 1457.72 Q136.093 1454.16 132.459 1454.16 M132.459 1450.45 Q138.269 1450.45 141.325 1455.06 Q144.404 1459.64 144.404 1468.39 Q144.404 1477.12 141.325 1481.73 Q138.269 1486.31 132.459 1486.31 Q126.649 1486.31 123.57 1481.73 Q120.515 1477.12 120.515 1468.39 Q120.515 1459.64 123.57 1455.06 Q126.649 1450.45 132.459 1450.45 Z\" fill=\"#000000\" fill-rule=\"evenodd\" fill-opacity=\"1\" /><path clip-path=\"url(#clip440)\" d=\"M152.621 1479.76 L157.505 1479.76 L157.505 1485.64 L152.621 1485.64 L152.621 1479.76 Z\" fill=\"#000000\" fill-rule=\"evenodd\" fill-opacity=\"1\" /><path clip-path=\"url(#clip440)\" d=\"M177.69 1454.16 Q174.079 1454.16 172.251 1457.72 Q170.445 1461.26 170.445 1468.39 Q170.445 1475.5 172.251 1479.06 Q174.079 1482.6 177.69 1482.6 Q181.325 1482.6 183.13 1479.06 Q184.959 1475.5 184.959 1468.39 Q184.959 1461.26 183.13 1457.72 Q181.325 1454.16 177.69 1454.16 M177.69 1450.45 Q183.501 1450.45 186.556 1455.06 Q189.635 1459.64 189.635 1468.39 Q189.635 1477.12 186.556 1481.73 Q183.501 1486.31 177.69 1486.31 Q171.88 1486.31 168.802 1481.73 Q165.746 1477.12 165.746 1468.39 Q165.746 1459.64 168.802 1455.06 Q171.88 1450.45 177.69 1450.45 Z\" fill=\"#000000\" fill-rule=\"evenodd\" fill-opacity=\"1\" /><path clip-path=\"url(#clip440)\" d=\"M134.056 1303.4 Q130.445 1303.4 128.617 1306.97 Q126.811 1310.51 126.811 1317.64 Q126.811 1324.74 128.617 1328.31 Q130.445 1331.85 134.056 1331.85 Q137.691 1331.85 139.496 1328.31 Q141.325 1324.74 141.325 1317.64 Q141.325 1310.51 139.496 1306.97 Q137.691 1303.4 134.056 1303.4 M134.056 1299.7 Q139.867 1299.7 142.922 1304.3 Q146.001 1308.89 146.001 1317.64 Q146.001 1326.36 142.922 1330.97 Q139.867 1335.55 134.056 1335.55 Q128.246 1335.55 125.168 1330.97 Q122.112 1326.36 122.112 1317.64 Q122.112 1308.89 125.168 1304.3 Q128.246 1299.7 134.056 1299.7 Z\" fill=\"#000000\" fill-rule=\"evenodd\" fill-opacity=\"1\" /><path clip-path=\"url(#clip440)\" d=\"M154.218 1329 L159.103 1329 L159.103 1334.88 L154.218 1334.88 L154.218 1329 Z\" fill=\"#000000\" fill-rule=\"evenodd\" fill-opacity=\"1\" /><path clip-path=\"url(#clip440)\" d=\"M173.315 1330.95 L189.635 1330.95 L189.635 1334.88 L167.69 1334.88 L167.69 1330.95 Q170.353 1328.19 174.936 1323.56 Q179.542 1318.91 180.723 1317.57 Q182.968 1315.04 183.848 1313.31 Q184.751 1311.55 184.751 1309.86 Q184.751 1307.1 182.806 1305.37 Q180.885 1303.63 177.783 1303.63 Q175.584 1303.63 173.13 1304.4 Q170.7 1305.16 167.922 1306.71 L167.922 1301.99 Q170.746 1300.85 173.2 1300.28 Q175.653 1299.7 177.69 1299.7 Q183.061 1299.7 186.255 1302.38 Q189.45 1305.07 189.45 1309.56 Q189.45 1311.69 188.639 1313.61 Q187.852 1315.51 185.746 1318.1 Q185.167 1318.77 182.065 1321.99 Q178.964 1325.18 173.315 1330.95 Z\" fill=\"#000000\" fill-rule=\"evenodd\" fill-opacity=\"1\" /><path clip-path=\"url(#clip440)\" d=\"M131.973 1152.64 Q128.362 1152.64 126.533 1156.21 Q124.728 1159.75 124.728 1166.88 Q124.728 1173.99 126.533 1177.55 Q128.362 1181.09 131.973 1181.09 Q135.607 1181.09 137.413 1177.55 Q139.242 1173.99 139.242 1166.88 Q139.242 1159.75 137.413 1156.21 Q135.607 1152.64 131.973 1152.64 M131.973 1148.94 Q137.783 1148.94 140.839 1153.55 Q143.917 1158.13 143.917 1166.88 Q143.917 1175.61 140.839 1180.21 Q137.783 1184.8 131.973 1184.8 Q126.163 1184.8 123.084 1180.21 Q120.029 1175.61 120.029 1166.88 Q120.029 1158.13 123.084 1153.55 Q126.163 1148.94 131.973 1148.94 Z\" fill=\"#000000\" fill-rule=\"evenodd\" fill-opacity=\"1\" /><path clip-path=\"url(#clip440)\" d=\"M152.135 1178.25 L157.019 1178.25 L157.019 1184.13 L152.135 1184.13 L152.135 1178.25 Z\" fill=\"#000000\" fill-rule=\"evenodd\" fill-opacity=\"1\" /><path clip-path=\"url(#clip440)\" d=\"M180.052 1153.64 L168.246 1172.09 L180.052 1172.09 L180.052 1153.64 M178.825 1149.57 L184.704 1149.57 L184.704 1172.09 L189.635 1172.09 L189.635 1175.98 L184.704 1175.98 L184.704 1184.13 L180.052 1184.13 L180.052 1175.98 L164.45 1175.98 L164.45 1171.46 L178.825 1149.57 Z\" fill=\"#000000\" fill-rule=\"evenodd\" fill-opacity=\"1\" /><path clip-path=\"url(#clip440)\" d=\"M132.297 1001.89 Q128.686 1001.89 126.857 1005.45 Q125.052 1009 125.052 1016.13 Q125.052 1023.23 126.857 1026.8 Q128.686 1030.34 132.297 1030.34 Q135.931 1030.34 137.737 1026.8 Q139.566 1023.23 139.566 1016.13 Q139.566 1009 137.737 1005.45 Q135.931 1001.89 132.297 1001.89 M132.297 998.185 Q138.107 998.185 141.163 1002.79 Q144.242 1007.38 144.242 1016.13 Q144.242 1024.85 141.163 1029.46 Q138.107 1034.04 132.297 1034.04 Q126.487 1034.04 123.408 1029.46 Q120.353 1024.85 120.353 1016.13 Q120.353 1007.38 123.408 1002.79 Q126.487 998.185 132.297 998.185 Z\" fill=\"#000000\" fill-rule=\"evenodd\" fill-opacity=\"1\" /><path clip-path=\"url(#clip440)\" d=\"M152.459 1027.49 L157.343 1027.49 L157.343 1033.37 L152.459 1033.37 L152.459 1027.49 Z\" fill=\"#000000\" fill-rule=\"evenodd\" fill-opacity=\"1\" /><path clip-path=\"url(#clip440)\" d=\"M178.107 1014.23 Q174.959 1014.23 173.107 1016.38 Q171.278 1018.53 171.278 1022.28 Q171.278 1026.01 173.107 1028.19 Q174.959 1030.34 178.107 1030.34 Q181.255 1030.34 183.084 1028.19 Q184.936 1026.01 184.936 1022.28 Q184.936 1018.53 183.084 1016.38 Q181.255 1014.23 178.107 1014.23 M187.389 999.574 L187.389 1003.83 Q185.63 1003 183.825 1002.56 Q182.042 1002.12 180.283 1002.12 Q175.653 1002.12 173.2 1005.25 Q170.769 1008.37 170.422 1014.69 Q171.788 1012.68 173.848 1011.61 Q175.908 1010.52 178.385 1010.52 Q183.593 1010.52 186.602 1013.69 Q189.635 1016.84 189.635 1022.28 Q189.635 1027.61 186.487 1030.82 Q183.339 1034.04 178.107 1034.04 Q172.112 1034.04 168.94 1029.46 Q165.769 1024.85 165.769 1016.13 Q165.769 1007.93 169.658 1003.07 Q173.547 998.185 180.098 998.185 Q181.857 998.185 183.639 998.533 Q185.445 998.88 187.389 999.574 Z\" fill=\"#000000\" fill-rule=\"evenodd\" fill-opacity=\"1\" /><path clip-path=\"url(#clip440)\" d=\"M132.552 851.133 Q128.941 851.133 127.112 854.698 Q125.306 858.24 125.306 865.369 Q125.306 872.476 127.112 876.041 Q128.941 879.582 132.552 879.582 Q136.186 879.582 137.992 876.041 Q139.82 872.476 139.82 865.369 Q139.82 858.24 137.992 854.698 Q136.186 851.133 132.552 851.133 M132.552 847.43 Q138.362 847.43 141.417 852.036 Q144.496 856.62 144.496 865.369 Q144.496 874.096 141.417 878.703 Q138.362 883.286 132.552 883.286 Q126.742 883.286 123.663 878.703 Q120.607 874.096 120.607 865.369 Q120.607 856.62 123.663 852.036 Q126.742 847.43 132.552 847.43 Z\" fill=\"#000000\" fill-rule=\"evenodd\" fill-opacity=\"1\" /><path clip-path=\"url(#clip440)\" d=\"M152.714 876.735 L157.598 876.735 L157.598 882.615 L152.714 882.615 L152.714 876.735 Z\" fill=\"#000000\" fill-rule=\"evenodd\" fill-opacity=\"1\" /><path clip-path=\"url(#clip440)\" d=\"M177.783 866.203 Q174.45 866.203 172.528 867.985 Q170.63 869.768 170.63 872.893 Q170.63 876.018 172.528 877.8 Q174.45 879.582 177.783 879.582 Q181.116 879.582 183.038 877.8 Q184.959 875.994 184.959 872.893 Q184.959 869.768 183.038 867.985 Q181.139 866.203 177.783 866.203 M173.107 864.212 Q170.098 863.471 168.408 861.411 Q166.741 859.351 166.741 856.388 Q166.741 852.245 169.681 849.837 Q172.644 847.43 177.783 847.43 Q182.945 847.43 185.885 849.837 Q188.825 852.245 188.825 856.388 Q188.825 859.351 187.135 861.411 Q185.468 863.471 182.482 864.212 Q185.862 864.999 187.737 867.291 Q189.635 869.582 189.635 872.893 Q189.635 877.916 186.556 880.601 Q183.501 883.286 177.783 883.286 Q172.065 883.286 168.987 880.601 Q165.931 877.916 165.931 872.893 Q165.931 869.582 167.829 867.291 Q169.728 864.999 173.107 864.212 M171.394 856.828 Q171.394 859.513 173.061 861.018 Q174.751 862.522 177.783 862.522 Q180.792 862.522 182.482 861.018 Q184.195 859.513 184.195 856.828 Q184.195 854.143 182.482 852.638 Q180.792 851.133 177.783 851.133 Q174.751 851.133 173.061 852.638 Q171.394 854.143 171.394 856.828 Z\" fill=\"#000000\" fill-rule=\"evenodd\" fill-opacity=\"1\" /><path clip-path=\"url(#clip440)\" d=\"M32.3293 1298.67 Q36.967 1298.67 41.5724 1300.34 Q46.1456 1302.02 49.8493 1304.82 Q53.553 1307.59 56.4193 1311.19 Q59.2534 1314.77 60.7027 1318.6 Q64.5674 1318.12 66.0167 1317.15 Q67.4981 1316.15 67.4981 1313.93 Q67.4981 1312.64 66.9184 1311.26 Q66.3387 1309.84 64.825 1308.39 Q63.3436 1306.94 61.1536 1306.2 Q60.4451 1305.98 60.4451 1305.4 Q60.4451 1305.17 60.6383 1304.95 Q60.7993 1304.69 61.0892 1304.69 Q61.3468 1304.69 62.2808 1304.98 Q63.247 1305.24 64.7284 1305.78 Q66.2099 1306.33 67.7558 1307.27 Q69.3339 1308.2 70.7187 1309.36 Q72.1036 1310.49 72.9731 1312.16 Q73.8749 1313.84 73.8749 1315.7 Q73.8749 1317.25 73.2952 1318.38 Q72.7155 1319.47 71.9747 1320.02 Q71.234 1320.53 70.0424 1320.82 Q68.883 1321.11 68.2389 1321.15 Q67.5948 1321.18 66.6286 1321.18 Q65.6302 1321.18 61.54 1320.92 Q62.5384 1324.4 62.5384 1327.36 Q62.5384 1334.67 57.7398 1339.47 Q52.9411 1344.27 44.9218 1344.27 Q39.318 1344.27 33.7464 1341.76 Q28.1426 1339.25 23.988 1335.25 Q19.8013 1331.26 17.1926 1326.01 Q14.5839 1320.73 14.5839 1315.51 Q14.5839 1308.1 19.5114 1303.4 Q24.4067 1298.67 32.3293 1298.67 M30.236 1304.5 Q23.7304 1304.5 19.9945 1307.68 Q16.2264 1310.84 16.2264 1315.9 Q16.2264 1319.76 18.7063 1324.04 Q21.1861 1328.3 25.9848 1331.74 Q30.7835 1335.12 36.8059 1336.8 Q42.8284 1338.44 47.0474 1338.44 Q51.7173 1338.44 55.2277 1336.61 Q58.7059 1334.77 60.1552 1331.07 Q59.3823 1331.45 58.0618 1331.45 Q55.4853 1331.45 53.4242 1329.39 Q51.3308 1327.33 51.3308 1324.72 Q51.3308 1323.56 51.6851 1322.66 Q52.0071 1321.73 52.6834 1321.15 Q53.3598 1320.53 54.0039 1320.15 Q54.6158 1319.73 55.6142 1319.5 Q56.5803 1319.25 57.0956 1319.15 Q57.5787 1319.05 58.4483 1318.92 Q56.677 1315.77 53.7784 1313.19 Q50.8477 1310.62 47.7559 1309.04 Q44.632 1307.46 41.2504 1306.4 Q37.8365 1305.33 35.1312 1304.91 Q32.3937 1304.5 30.236 1304.5 M58.3839 1320.73 Q55.3887 1320.73 54.1005 1321.69 Q52.7801 1322.63 52.7801 1324.72 Q52.7801 1326.78 54.4226 1328.39 Q56.0651 1330 58.0618 1330 Q59.0602 1330 59.7043 1329.71 Q60.3162 1329.39 60.5739 1328.81 Q60.7993 1328.23 60.8637 1327.88 Q60.8959 1327.52 60.8959 1326.98 Q60.8959 1324.17 59.7043 1321.44 Q59.5111 1320.95 59.3178 1320.86 Q59.1246 1320.73 58.3839 1320.73 Z\" fill=\"#000000\" fill-rule=\"evenodd\" fill-opacity=\"1\" /><path clip-path=\"url(#clip440)\" d=\"M65.6679 1292.07 L64.2251 1292.07 Q64.2251 1286.53 61.2718 1283.66 Q61.2718 1282.88 61.4522 1282.74 Q61.6325 1282.61 62.4667 1282.61 L88.3698 1282.61 Q89.745 1282.61 90.1734 1281.93 Q90.6017 1281.25 90.6017 1278.3 L90.6017 1276.83 L92.022 1276.83 Q91.8867 1278.46 91.8867 1284.32 Q91.8867 1290.18 92.022 1291.78 L90.6017 1291.78 L90.6017 1290.32 Q90.6017 1287.41 90.1959 1286.71 Q89.7676 1286.01 88.3698 1286.01 L64.4505 1286.01 Q65.6679 1288.42 65.6679 1292.07 Z\" fill=\"#000000\" fill-rule=\"evenodd\" fill-opacity=\"1\" /><path clip-path=\"url(#clip440)\" d=\"M77.5786 1262.17 L11.621 1262.17 L11.621 1252.22 L13.1346 1252.22 L13.1346 1257.76 L76.0649 1257.76 L76.0649 1252.22 L77.5786 1252.22 L77.5786 1262.17 Z\" fill=\"#000000\" fill-rule=\"evenodd\" fill-opacity=\"1\" /><path clip-path=\"url(#clip440)\" d=\"M51.6529 1196.84 Q51.9105 1196.84 52.9089 1197.13 Q53.9073 1197.42 55.4531 1198.13 Q56.999 1198.81 58.4161 1199.77 Q59.8009 1200.71 60.8315 1202.25 Q61.8299 1203.77 61.8299 1205.5 Q61.8299 1207.82 60.284 1209.37 Q58.7381 1210.92 56.4193 1210.92 Q55.1633 1210.92 52.7801 1210.05 Q41.8945 1205.96 37.9976 1205.96 Q33.3921 1205.96 33.3921 1209.53 Q33.3921 1211.56 34.2295 1213.4 Q35.0668 1215.23 36.2262 1216.42 Q37.3857 1217.61 38.7061 1218.55 Q40.0265 1219.48 40.8961 1219.9 Q41.7657 1220.29 42.1521 1220.38 L58.0618 1224.35 Q59.4145 1224.67 60.0586 1224.89 Q60.7027 1225.12 61.2502 1225.73 Q61.8299 1226.34 61.8299 1227.31 Q61.8299 1228.11 61.3468 1228.69 Q60.8637 1229.24 60.0264 1229.24 Q59.8976 1229.24 59.2212 1229.08 Q58.5449 1228.92 57.6109 1228.69 Q56.677 1228.47 56.1295 1228.37 Q51.7495 1227.21 51.1376 1227.05 L43.4726 1225.21 Q39.6723 1224.22 37.9976 1224.22 Q33.3921 1224.22 33.3921 1227.79 Q33.3921 1229.56 34.0685 1231.24 Q34.7126 1232.88 35.6143 1234.01 Q36.5161 1235.13 37.7721 1236.16 Q38.9959 1237.16 39.8333 1237.68 Q40.6384 1238.16 41.4436 1238.55 L44.7286 1239.39 Q45.6304 1239.58 49.1408 1240.51 L55.0989 1241.96 Q59.5433 1242.99 59.962 1243.22 Q60.8637 1243.54 61.3468 1244.25 Q61.8299 1244.96 61.8299 1245.67 Q61.8299 1246.47 61.3468 1247.02 Q60.8637 1247.57 60.0264 1247.57 Q59.8976 1247.57 59.4145 1247.47 Q58.9314 1247.37 58.2551 1247.21 Q57.5787 1247.05 57.1923 1246.99 L41.9589 1243.15 Q39.1892 1242.44 38.3196 1242.28 Q37.4179 1242.09 36.4195 1242.09 Q33.3921 1242.09 33.3921 1244.15 Q33.3921 1245.83 35.3889 1246.92 Q37.3857 1248.02 41.2504 1248.95 Q42.3132 1249.24 42.5386 1249.43 Q42.764 1249.59 42.764 1250.08 Q42.7318 1250.88 42.0877 1250.88 Q41.9267 1250.88 40.8961 1250.63 Q39.8655 1250.37 38.3196 1249.88 Q36.7415 1249.37 35.7109 1248.82 Q35.0346 1248.5 34.5837 1248.21 Q34.1329 1247.92 33.4243 1247.34 Q32.7158 1246.76 32.3293 1245.89 Q31.9429 1245.02 31.9429 1243.96 Q31.9429 1241.61 33.4565 1239.87 Q34.9702 1238.1 37.6755 1237.87 Q31.9429 1233.59 31.9429 1227.6 Q31.9429 1224.22 33.6498 1222.19 Q35.2923 1220.29 38.3196 1220.06 Q31.9429 1215.62 31.9429 1209.31 Q31.9429 1205.67 33.843 1203.7 Q35.7109 1201.74 38.9959 1201.74 Q40.7029 1201.74 43.9556 1202.61 Q47.1762 1203.48 48.7865 1204.06 Q50.3968 1204.64 53.4886 1205.76 Q56.4515 1206.95 58.1906 1206.95 Q59.3178 1206.95 59.8331 1206.57 Q60.3484 1206.18 60.3484 1205.34 Q60.3484 1204.06 59.6077 1202.93 Q58.8348 1201.8 57.5787 1201 Q56.2905 1200.16 55.0023 1199.61 Q53.6818 1199.06 52.2004 1198.64 Q51.3952 1198.39 51.202 1198.26 Q51.0087 1198.1 51.0087 1197.65 Q51.0087 1196.84 51.6529 1196.84 Z\" fill=\"#000000\" fill-rule=\"evenodd\" fill-opacity=\"1\" /><path clip-path=\"url(#clip440)\" d=\"M52.2004 1192.47 Q50.2358 1192.47 49.3018 1191.35 Q48.3679 1190.22 48.3679 1188.77 Q48.3679 1187.26 49.3662 1186.19 Q50.3324 1185.1 52.0393 1185.1 Q53.8751 1185.1 54.9056 1186.39 Q55.9362 1187.64 55.6786 1189.45 Q58.3195 1187.87 59.5111 1184.97 Q60.7027 1182.04 60.7027 1179.33 Q60.7027 1176.5 58.2551 1174.21 Q55.8074 1171.89 49.8171 1171.89 Q44.7286 1171.89 41.7979 1173.89 Q38.8671 1175.86 38.8671 1179.75 L38.8671 1182.65 Q38.8671 1183.65 38.7705 1183.94 Q38.6739 1184.23 38.1264 1184.23 Q37.4823 1184.23 37.3534 1183.23 Q37.3534 1182.23 37.1602 1180.65 Q37.0314 1176.82 33.7142 1174.79 Q30.6224 1172.96 26.2102 1172.96 Q22.1845 1172.96 20.5098 1174.89 Q18.8029 1176.79 18.8029 1179.27 Q18.8029 1181.59 19.769 1184.13 Q20.7352 1186.68 22.893 1188.06 Q22.893 1183.97 26.2102 1183.97 Q27.6595 1183.97 28.6257 1184.9 Q29.5596 1185.81 29.5596 1187.32 Q29.5596 1188.77 28.6579 1189.74 Q27.7239 1190.7 26.1458 1190.7 Q22.3777 1190.7 19.769 1187.35 Q17.1604 1183.97 17.1604 1179.01 Q17.1604 1174.12 19.7368 1170.51 Q22.3133 1166.87 26.2746 1166.87 Q30.1715 1166.87 33.3599 1169.45 Q36.5483 1172.02 37.8687 1176.11 Q38.8671 1171.09 42.2809 1168.09 Q45.6626 1165.1 49.8171 1165.1 Q54.9701 1165.1 58.7703 1169.16 Q62.5384 1173.21 62.5384 1179.14 Q62.5384 1184.62 59.5755 1188.54 Q56.6126 1192.47 52.2004 1192.47 Z\" fill=\"#000000\" fill-rule=\"evenodd\" fill-opacity=\"1\" /><path clip-path=\"url(#clip440)\" d=\"M76.6446 1159.81 Q76.3225 1159.81 75.614 1159.55 L13.3923 1136.27 Q13.3279 1136.27 12.9736 1136.11 Q12.6193 1135.94 12.3939 1135.85 Q12.1363 1135.75 11.943 1135.56 Q11.7498 1135.33 11.7498 1135.08 Q11.7498 1134.43 12.5549 1134.43 Q12.6193 1134.43 13.3923 1134.62 L75.6784 1157.97 Q76.8056 1158.36 77.1277 1158.62 Q77.4497 1158.84 77.4497 1159.23 Q77.4497 1159.81 76.6446 1159.81 Z\" fill=\"#000000\" fill-rule=\"evenodd\" fill-opacity=\"1\" /><path clip-path=\"url(#clip440)\" d=\"M51.6529 1073.1 Q51.9105 1073.1 52.9089 1073.39 Q53.9073 1073.68 55.4531 1074.39 Q56.999 1075.07 58.4161 1076.03 Q59.8009 1076.97 60.8315 1078.51 Q61.8299 1080.03 61.8299 1081.77 Q61.8299 1084.09 60.284 1085.63 Q58.7381 1087.18 56.4193 1087.18 Q55.1633 1087.18 52.7801 1086.31 Q41.8945 1082.22 37.9976 1082.22 Q33.3921 1082.22 33.3921 1085.79 Q33.3921 1087.82 34.2295 1089.66 Q35.0668 1091.49 36.2262 1092.68 Q37.3857 1093.88 38.7061 1094.81 Q40.0265 1095.74 40.8961 1096.16 Q41.7657 1096.55 42.1521 1096.65 L58.0618 1100.61 Q59.4145 1100.93 60.0586 1101.16 Q60.7027 1101.38 61.2502 1101.99 Q61.8299 1102.6 61.8299 1103.57 Q61.8299 1104.38 61.3468 1104.96 Q60.8637 1105.5 60.0264 1105.5 Q59.8976 1105.5 59.2212 1105.34 Q58.5449 1105.18 57.6109 1104.96 Q56.677 1104.73 56.1295 1104.63 Q51.7495 1103.47 51.1376 1103.31 L43.4726 1101.48 Q39.6723 1100.48 37.9976 1100.48 Q33.3921 1100.48 33.3921 1104.05 Q33.3921 1105.82 34.0685 1107.5 Q34.7126 1109.14 35.6143 1110.27 Q36.5161 1111.4 37.7721 1112.43 Q38.9959 1113.43 39.8333 1113.94 Q40.6384 1114.42 41.4436 1114.81 L44.7286 1115.65 Q45.6304 1115.84 49.1408 1116.77 L55.0989 1118.22 Q59.5433 1119.25 59.962 1119.48 Q60.8637 1119.8 61.3468 1120.51 Q61.8299 1121.22 61.8299 1121.93 Q61.8299 1122.73 61.3468 1123.28 Q60.8637 1123.83 60.0264 1123.83 Q59.8976 1123.83 59.4145 1123.73 Q58.9314 1123.63 58.2551 1123.47 Q57.5787 1123.31 57.1923 1123.25 L41.9589 1119.42 Q39.1892 1118.71 38.3196 1118.55 Q37.4179 1118.35 36.4195 1118.35 Q33.3921 1118.35 33.3921 1120.41 Q33.3921 1122.09 35.3889 1123.18 Q37.3857 1124.28 41.2504 1125.21 Q42.3132 1125.5 42.5386 1125.7 Q42.764 1125.86 42.764 1126.34 Q42.7318 1127.15 42.0877 1127.15 Q41.9267 1127.15 40.8961 1126.89 Q39.8655 1126.63 38.3196 1126.15 Q36.7415 1125.63 35.7109 1125.08 Q35.0346 1124.76 34.5837 1124.47 Q34.1329 1124.18 33.4243 1123.6 Q32.7158 1123.02 32.3293 1122.15 Q31.9429 1121.28 31.9429 1120.22 Q31.9429 1117.87 33.4565 1116.13 Q34.9702 1114.36 37.6755 1114.13 Q31.9429 1109.85 31.9429 1103.86 Q31.9429 1100.48 33.6498 1098.45 Q35.2923 1096.55 38.3196 1096.32 Q31.9429 1091.88 31.9429 1085.57 Q31.9429 1081.93 33.843 1079.96 Q35.7109 1078 38.9959 1078 Q40.7029 1078 43.9556 1078.87 Q47.1762 1079.74 48.7865 1080.32 Q50.3968 1080.9 53.4886 1082.02 Q56.4515 1083.22 58.1906 1083.22 Q59.3178 1083.22 59.8331 1082.83 Q60.3484 1082.44 60.3484 1081.61 Q60.3484 1080.32 59.6077 1079.19 Q58.8348 1078.06 57.5787 1077.26 Q56.2905 1076.42 55.0023 1075.87 Q53.6818 1075.33 52.2004 1074.91 Q51.3952 1074.65 51.202 1074.52 Q51.0087 1074.36 51.0087 1073.91 Q51.0087 1073.1 51.6529 1073.1 Z\" fill=\"#000000\" fill-rule=\"evenodd\" fill-opacity=\"1\" /><path clip-path=\"url(#clip440)\" d=\"M19.8657 1053.21 Q21.2827 1053.21 22.3455 1054.37 Q23.3761 1055.5 23.3761 1056.72 Q23.3761 1057.85 22.6998 1058.56 Q21.9913 1059.23 20.9929 1059.23 Q19.6724 1059.23 18.5774 1058.11 Q17.4824 1056.98 17.4824 1055.66 Q17.4824 1054.56 18.1588 1053.89 Q18.8351 1053.21 19.8657 1053.21 M51.6529 1052.63 Q51.9105 1052.63 52.9411 1052.92 Q53.9395 1053.21 55.4853 1053.92 Q56.999 1054.6 58.4161 1055.53 Q59.8331 1056.46 60.8315 1058.01 Q61.8299 1059.52 61.8299 1061.26 Q61.8299 1063.61 60.284 1065.16 Q58.7381 1066.67 56.4193 1066.67 Q55.1633 1066.67 51.1376 1065.16 Q39.4146 1060.78 38.9315 1060.62 Q37.0958 1059.88 35.4855 1059.88 Q34.7448 1059.88 34.2939 1060.04 Q33.8108 1060.2 33.6498 1060.52 Q33.4565 1060.84 33.4243 1061.04 Q33.3921 1061.2 33.3921 1061.52 Q33.3921 1063.42 35.3245 1065.19 Q37.2568 1066.96 41.5724 1068.19 Q42.3776 1068.45 42.5708 1068.61 Q42.764 1068.77 42.764 1069.25 Q42.7318 1070.06 42.0877 1070.06 Q41.8945 1070.06 41.1537 1069.83 Q40.3808 1069.6 39.2214 1069.19 Q38.0298 1068.77 36.8059 1068.03 Q35.5499 1067.29 34.4549 1066.38 Q33.3599 1065.45 32.6514 1064.13 Q31.9429 1062.81 31.9429 1061.33 Q31.9429 1058.91 33.521 1057.43 Q35.0668 1055.92 37.3534 1055.92 Q38.6095 1055.92 40.8317 1056.79 Q43.7302 1057.85 44.6642 1058.24 L51.5884 1060.81 Q54.1005 1061.75 54.8734 1062.04 Q55.6142 1062.29 56.5159 1062.52 Q57.3855 1062.71 58.1906 1062.71 Q59.3178 1062.71 59.8331 1062.36 Q60.3484 1061.97 60.3484 1061.13 Q60.3484 1058.82 58.0618 1057.11 Q55.743 1055.4 52.2004 1054.4 Q52.1037 1054.37 51.9427 1054.34 Q51.1376 1054.08 51.0409 1053.82 Q51.0087 1053.7 51.0087 1053.44 Q51.0087 1052.63 51.6529 1052.63 Z\" fill=\"#000000\" fill-rule=\"evenodd\" fill-opacity=\"1\" /><path clip-path=\"url(#clip440)\" d=\"M51.6529 1011.26 Q51.9105 1011.26 52.9089 1011.55 Q53.9073 1011.84 55.4531 1012.55 Q56.999 1013.22 58.4161 1014.16 Q59.8009 1015.09 60.8315 1016.64 Q61.8299 1018.15 61.8299 1019.89 Q61.8299 1022.21 60.284 1023.75 Q58.7381 1025.3 56.4193 1025.3 Q55.1311 1025.3 53.3598 1024.62 Q41.9267 1020.34 37.9976 1020.34 Q33.3921 1020.34 33.3921 1023.92 Q33.3921 1025.69 34.0685 1027.36 Q34.7126 1029 35.6143 1030.13 Q36.5161 1031.26 37.7721 1032.29 Q38.9959 1033.29 39.8333 1033.8 Q40.6384 1034.29 41.4436 1034.67 L44.7286 1035.51 Q45.6304 1035.7 49.1408 1036.64 L55.0989 1038.09 Q59.5433 1039.12 59.962 1039.34 Q60.8637 1039.66 61.3468 1040.37 Q61.8299 1041.08 61.8299 1041.79 Q61.8299 1042.6 61.3468 1043.14 Q60.8637 1043.69 60.0264 1043.69 Q59.8976 1043.69 59.4145 1043.59 Q58.9314 1043.5 58.2551 1043.34 Q57.5787 1043.17 57.1923 1043.11 L41.9589 1039.28 Q39.1892 1038.57 38.3196 1038.41 Q37.4179 1038.22 36.4195 1038.22 Q33.3921 1038.22 33.3921 1040.28 Q33.3921 1041.95 35.3889 1043.05 Q37.3857 1044.14 41.2504 1045.08 Q42.3132 1045.36 42.5386 1045.56 Q42.764 1045.72 42.764 1046.2 Q42.7318 1047.01 42.0877 1047.01 Q41.9267 1047.01 40.8639 1046.75 Q39.8011 1046.49 38.2874 1046.01 Q36.7415 1045.49 35.7109 1045.01 Q34.938 1044.59 34.5837 1044.37 Q34.1973 1044.11 33.4565 1043.5 Q32.6836 1042.85 32.3293 1042.02 Q31.9429 1041.15 31.9429 1040.08 Q31.9429 1037.7 33.4887 1035.96 Q35.0024 1034.22 37.6755 1034 Q31.9429 1029.71 31.9429 1023.72 Q31.9429 1020.18 33.8108 1018.15 Q35.6787 1016.12 38.9959 1016.12 Q39.7689 1016.12 40.7673 1016.28 Q41.7334 1016.41 42.9573 1016.73 Q44.1811 1017.02 45.1151 1017.28 Q46.049 1017.54 47.5627 1018.05 Q49.0442 1018.57 49.6883 1018.8 Q50.3324 1019.02 51.8461 1019.57 Q53.3276 1020.08 53.4886 1020.15 Q56.4837 1021.34 58.1906 1021.34 Q59.3178 1021.34 59.8331 1020.99 Q60.3484 1020.6 60.3484 1019.76 Q60.3484 1017.51 58.1262 1015.83 Q55.8718 1014.13 52.2004 1013.03 Q51.3952 1012.77 51.202 1012.64 Q51.0087 1012.48 51.0087 1012.03 Q51.0087 1011.26 51.6529 1011.26 Z\" fill=\"#000000\" fill-rule=\"evenodd\" fill-opacity=\"1\" /><path clip-path=\"url(#clip440)\" d=\"M76.0649 1007.57 L76.0649 1002.03 L13.1346 1002.03 L13.1346 1007.57 L11.621 1007.57 L11.621 997.62 L77.5786 997.62 L77.5786 1007.57 L76.0649 1007.57 Z\" fill=\"#000000\" fill-rule=\"evenodd\" fill-opacity=\"1\" /><polyline clip-path=\"url(#clip444)\" style=\"stroke:#000000; stroke-linecap:round; stroke-linejoin:round; stroke-width:4; stroke-opacity:1; fill:none\" stroke-dasharray=\"2, 4\" points=\"285.836,865.335 337.291,865.335 388.745,865.335 440.199,865.335 491.654,865.335 543.108,865.335 594.562,865.335 646.017,865.335 697.471,865.335 748.925,865.335 800.379,865.335 851.834,865.335 903.288,865.335 954.742,865.335 1006.2,865.335 1057.65,865.335 1109.11,865.335 1160.56,865.335 1212.01,865.335 1263.47,865.335 1314.92,865.335 1366.38,865.335 1417.83,865.335 1469.29,865.335 1520.74,865.335 1572.19,865.335 1623.65,865.335 1675.1,865.335 1726.56,865.335 1778.01,865.335 1829.47,865.335 1880.92,865.335 1932.37,865.335 1983.83,865.335 2035.28,865.335 2086.74,865.335 2138.19,865.335 2189.65,865.335 2241.1,865.335 2292.55,865.335 \"/>\n",
       "<polyline clip-path=\"url(#clip444)\" style=\"stroke:#000000; stroke-linecap:round; stroke-linejoin:round; stroke-width:4; stroke-opacity:1; fill:none\" stroke-dasharray=\"2, 4\" points=\"285.836,1430.67 337.291,1430.67 388.745,1430.67 440.199,1430.67 491.654,1430.67 543.108,1430.67 594.562,1430.67 646.017,1430.67 697.471,1430.67 748.925,1430.67 800.379,1430.67 851.834,1430.67 903.288,1430.67 954.742,1430.67 1006.2,1430.67 1057.65,1430.67 1109.11,1430.67 1160.56,1430.67 1212.01,1430.67 1263.47,1430.67 1314.92,1430.67 1366.38,1430.67 1417.83,1430.67 1469.29,1430.67 1520.74,1430.67 1572.19,1430.67 1623.65,1430.67 1675.1,1430.67 1726.56,1430.67 1778.01,1430.67 1829.47,1430.67 1880.92,1430.67 1932.37,1430.67 1983.83,1430.67 2035.28,1430.67 2086.74,1430.67 2138.19,1430.67 2189.65,1430.67 2241.1,1430.67 2292.55,1430.67 \"/>\n",
       "<polyline clip-path=\"url(#clip444)\" style=\"stroke:#ff0000; stroke-linecap:round; stroke-linejoin:round; stroke-width:12; stroke-opacity:0.3; fill:none\" points=\"285.836,1468.36 337.291,1468.36 388.745,1468.36 440.199,1468.36 491.654,1468.36 543.108,1468.36 594.562,1468.36 646.017,1468.36 697.471,1468.36 748.925,1468.36 800.379,1468.36 851.834,1468.36 903.288,1468.36 954.742,1468.36 1006.2,1468.36 1057.65,1468.36 1109.11,1468.36 1160.56,1468.36 1212.01,1468.36 1263.47,1468.36 1314.92,1468.36 1366.38,1468.36 1417.83,1468.36 1469.29,1468.36 1520.74,1468.36 1572.19,1468.36 1623.65,1468.36 1675.1,1468.36 1726.56,1468.36 1778.01,1468.36 1829.47,1468.36 1880.92,1468.36 1932.37,1468.36 1983.83,1468.36 2035.28,1468.36 2086.74,1468.36 2138.19,1468.36 2189.65,1468.36 2241.1,1468.36 2292.55,1468.36 \"/>\n",
       "<polyline clip-path=\"url(#clip444)\" style=\"stroke:#0000ff; stroke-linecap:round; stroke-linejoin:round; stroke-width:12; stroke-opacity:0.3; fill:none\" points=\"285.836,1468.36 337.291,1468.36 388.745,1468.36 440.199,1468.36 491.654,1468.36 543.108,1468.36 594.562,1468.36 646.017,1468.36 697.471,1468.36 748.925,1468.36 800.379,1468.36 851.834,1468.36 903.288,1468.36 954.742,1468.36 1006.2,1468.36 1057.65,1468.36 1109.11,1468.36 1160.56,1468.36 1212.01,1468.36 1263.47,1468.36 1314.92,1468.36 1366.38,1468.36 1417.83,1468.36 1469.29,1468.36 1520.74,1468.36 1572.19,1468.36 1623.65,1468.36 1675.1,1468.36 1726.56,1468.36 1778.01,1468.36 1829.47,1468.36 1880.92,1468.36 1932.37,1468.36 1983.83,1468.36 2035.28,1468.36 2086.74,1468.36 2138.19,1468.36 2189.65,1468.36 2241.1,1468.36 2292.55,1468.36 \"/>\n",
       "</svg>\n"
      ]
     },
     "metadata": {},
     "output_type": "display_data"
    }
   ],
   "source": [
    "p4 = plot(layout = (num_subplots, 1),fmt = :svg, resolution = (600, 400), latex=true,gridlinewidth=2,legend=:bottomleft) \n",
    "\n",
    "# Loop to generate subplots \n",
    "for mm in 1:num_subplots  \n",
    "    # limits\n",
    "    plot!(subplot=mm,ts,Qf_max*ones(length(ts)),linestyle = :dot,linecolor = :black,label=\"\")\n",
    "    plot!(subplot=mm,ts,Q_min*ones(length(ts)),linestyle = :dot,linecolor = :black,label=\"\")\n",
    "    \n",
    "    for nn in 1:n_MC\n",
    "        plot!(subplot=mm,ts,QPlant[:,nn,mm],linewidth=3,linealpha = 0.3,linecolor = CList[nn],legend=false)\n",
    "    end\n",
    "    \n",
    "    # Add labels, titles, or other customizations to each subplot \n",
    "    ylabel!(L\"Q_{1} [m3/min]\") \n",
    "end \n",
    "\n",
    "# Display the subplots \n",
    "display(p4)"
   ]
  },
  {
   "cell_type": "markdown",
   "id": "b4334df6",
   "metadata": {},
   "source": [
    "- Reactor 2: Reactor Temperature / Setpoint / Jacket Temperature / MV"
   ]
  },
  {
   "cell_type": "code",
   "execution_count": 24,
   "id": "0f908825",
   "metadata": {},
   "outputs": [
    {
     "data": {
      "image/svg+xml": [
       "<?xml version=\"1.0\" encoding=\"utf-8\"?>\n",
       "<svg xmlns=\"http://www.w3.org/2000/svg\" xmlns:xlink=\"http://www.w3.org/1999/xlink\" width=\"600\" height=\"400\" viewBox=\"0 0 2400 1600\">\n",
       "<defs>\n",
       "  <clipPath id=\"clip480\">\n",
       "    <rect x=\"0\" y=\"0\" width=\"2400\" height=\"1600\"/>\n",
       "  </clipPath>\n",
       "</defs>\n",
       "<path clip-path=\"url(#clip480)\" d=\"M0 1600 L2400 1600 L2400 0 L0 0  Z\" fill=\"#ffffff\" fill-rule=\"evenodd\" fill-opacity=\"1\"/>\n",
       "<defs>\n",
       "  <clipPath id=\"clip481\">\n",
       "    <rect x=\"480\" y=\"0\" width=\"1681\" height=\"1600\"/>\n",
       "  </clipPath>\n",
       "</defs>\n",
       "<defs>\n",
       "  <clipPath id=\"clip482\">\n",
       "    <rect x=\"225\" y=\"847\" width=\"2128\" height=\"640\"/>\n",
       "  </clipPath>\n",
       "</defs>\n",
       "<path clip-path=\"url(#clip480)\" d=\"M234.125 686.448 L2352.76 686.448 L2352.76 47.2441 L234.125 47.2441  Z\" fill=\"#ffffff\" fill-rule=\"evenodd\" fill-opacity=\"1\"/>\n",
       "<defs>\n",
       "  <clipPath id=\"clip483\">\n",
       "    <rect x=\"234\" y=\"47\" width=\"2120\" height=\"640\"/>\n",
       "  </clipPath>\n",
       "</defs>\n",
       "<polyline clip-path=\"url(#clip483)\" style=\"stroke:#000000; stroke-linecap:round; stroke-linejoin:round; stroke-width:8; stroke-opacity:0.1; fill:none\" points=\"242.838,686.448 242.838,47.2441 \"/>\n",
       "<polyline clip-path=\"url(#clip483)\" style=\"stroke:#000000; stroke-linecap:round; stroke-linejoin:round; stroke-width:8; stroke-opacity:0.1; fill:none\" points=\"755.327,686.448 755.327,47.2441 \"/>\n",
       "<polyline clip-path=\"url(#clip483)\" style=\"stroke:#000000; stroke-linecap:round; stroke-linejoin:round; stroke-width:8; stroke-opacity:0.1; fill:none\" points=\"1267.82,686.448 1267.82,47.2441 \"/>\n",
       "<polyline clip-path=\"url(#clip483)\" style=\"stroke:#000000; stroke-linecap:round; stroke-linejoin:round; stroke-width:8; stroke-opacity:0.1; fill:none\" points=\"1780.31,686.448 1780.31,47.2441 \"/>\n",
       "<polyline clip-path=\"url(#clip483)\" style=\"stroke:#000000; stroke-linecap:round; stroke-linejoin:round; stroke-width:8; stroke-opacity:0.1; fill:none\" points=\"2292.79,686.448 2292.79,47.2441 \"/>\n",
       "<polyline clip-path=\"url(#clip480)\" style=\"stroke:#000000; stroke-linecap:round; stroke-linejoin:round; stroke-width:4; stroke-opacity:1; fill:none\" points=\"234.125,686.448 2352.76,686.448 \"/>\n",
       "<polyline clip-path=\"url(#clip480)\" style=\"stroke:#000000; stroke-linecap:round; stroke-linejoin:round; stroke-width:4; stroke-opacity:1; fill:none\" points=\"242.838,686.448 242.838,667.55 \"/>\n",
       "<polyline clip-path=\"url(#clip480)\" style=\"stroke:#000000; stroke-linecap:round; stroke-linejoin:round; stroke-width:4; stroke-opacity:1; fill:none\" points=\"755.327,686.448 755.327,667.55 \"/>\n",
       "<polyline clip-path=\"url(#clip480)\" style=\"stroke:#000000; stroke-linecap:round; stroke-linejoin:round; stroke-width:4; stroke-opacity:1; fill:none\" points=\"1267.82,686.448 1267.82,667.55 \"/>\n",
       "<polyline clip-path=\"url(#clip480)\" style=\"stroke:#000000; stroke-linecap:round; stroke-linejoin:round; stroke-width:4; stroke-opacity:1; fill:none\" points=\"1780.31,686.448 1780.31,667.55 \"/>\n",
       "<polyline clip-path=\"url(#clip480)\" style=\"stroke:#000000; stroke-linecap:round; stroke-linejoin:round; stroke-width:4; stroke-opacity:1; fill:none\" points=\"2292.79,686.448 2292.79,667.55 \"/>\n",
       "<path clip-path=\"url(#clip480)\" d=\"M242.838 717.367 Q239.227 717.367 237.398 720.931 Q235.592 724.473 235.592 731.603 Q235.592 738.709 237.398 742.274 Q239.227 745.815 242.838 745.815 Q246.472 745.815 248.278 742.274 Q250.106 738.709 250.106 731.603 Q250.106 724.473 248.278 720.931 Q246.472 717.367 242.838 717.367 M242.838 713.663 Q248.648 713.663 251.703 718.269 Q254.782 722.853 254.782 731.603 Q254.782 740.329 251.703 744.936 Q248.648 749.519 242.838 749.519 Q237.028 749.519 233.949 744.936 Q230.893 740.329 230.893 731.603 Q230.893 722.853 233.949 718.269 Q237.028 713.663 242.838 713.663 Z\" fill=\"#000000\" fill-rule=\"evenodd\" fill-opacity=\"1\" /><path clip-path=\"url(#clip480)\" d=\"M730.015 744.913 L737.653 744.913 L737.653 718.547 L729.343 720.214 L729.343 715.955 L737.607 714.288 L742.283 714.288 L742.283 744.913 L749.922 744.913 L749.922 748.848 L730.015 748.848 L730.015 744.913 Z\" fill=\"#000000\" fill-rule=\"evenodd\" fill-opacity=\"1\" /><path clip-path=\"url(#clip480)\" d=\"M769.366 717.367 Q765.755 717.367 763.926 720.931 Q762.121 724.473 762.121 731.603 Q762.121 738.709 763.926 742.274 Q765.755 745.815 769.366 745.815 Q773.001 745.815 774.806 742.274 Q776.635 738.709 776.635 731.603 Q776.635 724.473 774.806 720.931 Q773.001 717.367 769.366 717.367 M769.366 713.663 Q775.176 713.663 778.232 718.269 Q781.311 722.853 781.311 731.603 Q781.311 740.329 778.232 744.936 Q775.176 749.519 769.366 749.519 Q763.556 749.519 760.477 744.936 Q757.422 740.329 757.422 731.603 Q757.422 722.853 760.477 718.269 Q763.556 713.663 769.366 713.663 Z\" fill=\"#000000\" fill-rule=\"evenodd\" fill-opacity=\"1\" /><path clip-path=\"url(#clip480)\" d=\"M1246.59 744.913 L1262.91 744.913 L1262.91 748.848 L1240.96 748.848 L1240.96 744.913 Q1243.63 742.158 1248.21 737.528 Q1252.82 732.876 1254 731.533 Q1256.24 729.01 1257.12 727.274 Q1258.02 725.515 1258.02 723.825 Q1258.02 721.07 1256.08 719.334 Q1254.16 717.598 1251.06 717.598 Q1248.86 717.598 1246.4 718.362 Q1243.97 719.126 1241.2 720.677 L1241.2 715.955 Q1244.02 714.82 1246.47 714.242 Q1248.93 713.663 1250.96 713.663 Q1256.33 713.663 1259.53 716.348 Q1262.72 719.033 1262.72 723.524 Q1262.72 725.654 1261.91 727.575 Q1261.13 729.473 1259.02 732.066 Q1258.44 732.737 1255.34 735.954 Q1252.24 739.149 1246.59 744.913 Z\" fill=\"#000000\" fill-rule=\"evenodd\" fill-opacity=\"1\" /><path clip-path=\"url(#clip480)\" d=\"M1282.72 717.367 Q1279.11 717.367 1277.28 720.931 Q1275.48 724.473 1275.48 731.603 Q1275.48 738.709 1277.28 742.274 Q1279.11 745.815 1282.72 745.815 Q1286.36 745.815 1288.16 742.274 Q1289.99 738.709 1289.99 731.603 Q1289.99 724.473 1288.16 720.931 Q1286.36 717.367 1282.72 717.367 M1282.72 713.663 Q1288.53 713.663 1291.59 718.269 Q1294.67 722.853 1294.67 731.603 Q1294.67 740.329 1291.59 744.936 Q1288.53 749.519 1282.72 749.519 Q1276.91 749.519 1273.83 744.936 Q1270.78 740.329 1270.78 731.603 Q1270.78 722.853 1273.83 718.269 Q1276.91 713.663 1282.72 713.663 Z\" fill=\"#000000\" fill-rule=\"evenodd\" fill-opacity=\"1\" /><path clip-path=\"url(#clip480)\" d=\"M1769.15 730.214 Q1772.5 730.931 1774.38 733.2 Q1776.28 735.468 1776.28 738.802 Q1776.28 743.917 1772.76 746.718 Q1769.24 749.519 1762.76 749.519 Q1760.58 749.519 1758.27 749.079 Q1755.98 748.663 1753.52 747.806 L1753.52 743.292 Q1755.47 744.427 1757.78 745.005 Q1760.1 745.584 1762.62 745.584 Q1767.02 745.584 1769.31 743.848 Q1771.62 742.112 1771.62 738.802 Q1771.62 735.746 1769.47 734.033 Q1767.34 732.297 1763.52 732.297 L1759.5 732.297 L1759.5 728.454 L1763.71 728.454 Q1767.16 728.454 1768.99 727.089 Q1770.81 725.7 1770.81 723.107 Q1770.81 720.445 1768.92 719.033 Q1767.04 717.598 1763.52 717.598 Q1761.6 717.598 1759.4 718.015 Q1757.2 718.431 1754.56 719.311 L1754.56 715.144 Q1757.23 714.404 1759.54 714.033 Q1761.88 713.663 1763.94 713.663 Q1769.26 713.663 1772.37 716.093 Q1775.47 718.501 1775.47 722.621 Q1775.47 725.492 1773.82 727.482 Q1772.18 729.45 1769.15 730.214 Z\" fill=\"#000000\" fill-rule=\"evenodd\" fill-opacity=\"1\" /><path clip-path=\"url(#clip480)\" d=\"M1795.14 717.367 Q1791.53 717.367 1789.7 720.931 Q1787.9 724.473 1787.9 731.603 Q1787.9 738.709 1789.7 742.274 Q1791.53 745.815 1795.14 745.815 Q1798.78 745.815 1800.58 742.274 Q1802.41 738.709 1802.41 731.603 Q1802.41 724.473 1800.58 720.931 Q1798.78 717.367 1795.14 717.367 M1795.14 713.663 Q1800.95 713.663 1804.01 718.269 Q1807.09 722.853 1807.09 731.603 Q1807.09 740.329 1804.01 744.936 Q1800.95 749.519 1795.14 749.519 Q1789.33 749.519 1786.25 744.936 Q1783.2 740.329 1783.2 731.603 Q1783.2 722.853 1786.25 718.269 Q1789.33 713.663 1795.14 713.663 Z\" fill=\"#000000\" fill-rule=\"evenodd\" fill-opacity=\"1\" /><path clip-path=\"url(#clip480)\" d=\"M2280.97 718.362 L2269.16 736.811 L2280.97 736.811 L2280.97 718.362 M2279.74 714.288 L2285.62 714.288 L2285.62 736.811 L2290.55 736.811 L2290.55 740.7 L2285.62 740.7 L2285.62 748.848 L2280.97 748.848 L2280.97 740.7 L2265.36 740.7 L2265.36 736.186 L2279.74 714.288 Z\" fill=\"#000000\" fill-rule=\"evenodd\" fill-opacity=\"1\" /><path clip-path=\"url(#clip480)\" d=\"M2308.28 717.367 Q2304.67 717.367 2302.84 720.931 Q2301.04 724.473 2301.04 731.603 Q2301.04 738.709 2302.84 742.274 Q2304.67 745.815 2308.28 745.815 Q2311.91 745.815 2313.72 742.274 Q2315.55 738.709 2315.55 731.603 Q2315.55 724.473 2313.72 720.931 Q2311.91 717.367 2308.28 717.367 M2308.28 713.663 Q2314.09 713.663 2317.15 718.269 Q2320.23 722.853 2320.23 731.603 Q2320.23 740.329 2317.15 744.936 Q2314.09 749.519 2308.28 749.519 Q2302.47 749.519 2299.39 744.936 Q2296.34 740.329 2296.34 731.603 Q2296.34 722.853 2299.39 718.269 Q2302.47 713.663 2308.28 713.663 Z\" fill=\"#000000\" fill-rule=\"evenodd\" fill-opacity=\"1\" /><polyline clip-path=\"url(#clip483)\" style=\"stroke:#000000; stroke-linecap:round; stroke-linejoin:round; stroke-width:8; stroke-opacity:0.1; fill:none\" points=\"234.125,668.357 2352.76,668.357 \"/>\n",
       "<polyline clip-path=\"url(#clip483)\" style=\"stroke:#000000; stroke-linecap:round; stroke-linejoin:round; stroke-width:8; stroke-opacity:0.1; fill:none\" points=\"234.125,496.065 2352.76,496.065 \"/>\n",
       "<polyline clip-path=\"url(#clip483)\" style=\"stroke:#000000; stroke-linecap:round; stroke-linejoin:round; stroke-width:8; stroke-opacity:0.1; fill:none\" points=\"234.125,323.773 2352.76,323.773 \"/>\n",
       "<polyline clip-path=\"url(#clip483)\" style=\"stroke:#000000; stroke-linecap:round; stroke-linejoin:round; stroke-width:8; stroke-opacity:0.1; fill:none\" points=\"234.125,151.481 2352.76,151.481 \"/>\n",
       "<polyline clip-path=\"url(#clip480)\" style=\"stroke:#000000; stroke-linecap:round; stroke-linejoin:round; stroke-width:4; stroke-opacity:1; fill:none\" points=\"234.125,686.448 234.125,47.2441 \"/>\n",
       "<polyline clip-path=\"url(#clip480)\" style=\"stroke:#000000; stroke-linecap:round; stroke-linejoin:round; stroke-width:4; stroke-opacity:1; fill:none\" points=\"234.125,668.357 253.023,668.357 \"/>\n",
       "<polyline clip-path=\"url(#clip480)\" style=\"stroke:#000000; stroke-linecap:round; stroke-linejoin:round; stroke-width:4; stroke-opacity:1; fill:none\" points=\"234.125,496.065 253.023,496.065 \"/>\n",
       "<polyline clip-path=\"url(#clip480)\" style=\"stroke:#000000; stroke-linecap:round; stroke-linejoin:round; stroke-width:4; stroke-opacity:1; fill:none\" points=\"234.125,323.773 253.023,323.773 \"/>\n",
       "<polyline clip-path=\"url(#clip480)\" style=\"stroke:#000000; stroke-linecap:round; stroke-linejoin:round; stroke-width:4; stroke-opacity:1; fill:none\" points=\"234.125,151.481 253.023,151.481 \"/>\n",
       "<path clip-path=\"url(#clip480)\" d=\"M186.181 654.156 Q182.57 654.156 180.741 657.721 Q178.936 661.262 178.936 668.392 Q178.936 675.498 180.741 679.063 Q182.57 682.605 186.181 682.605 Q189.815 682.605 191.621 679.063 Q193.45 675.498 193.45 668.392 Q193.45 661.262 191.621 657.721 Q189.815 654.156 186.181 654.156 M186.181 650.452 Q191.991 650.452 195.047 655.059 Q198.125 659.642 198.125 668.392 Q198.125 677.119 195.047 681.725 Q191.991 686.308 186.181 686.308 Q180.371 686.308 177.292 681.725 Q174.237 677.119 174.237 668.392 Q174.237 659.642 177.292 655.059 Q180.371 650.452 186.181 650.452 Z\" fill=\"#000000\" fill-rule=\"evenodd\" fill-opacity=\"1\" /><path clip-path=\"url(#clip480)\" d=\"M116.668 509.41 L124.306 509.41 L124.306 483.044 L115.996 484.711 L115.996 480.452 L124.26 478.785 L128.936 478.785 L128.936 509.41 L136.575 509.41 L136.575 513.345 L116.668 513.345 L116.668 509.41 Z\" fill=\"#000000\" fill-rule=\"evenodd\" fill-opacity=\"1\" /><path clip-path=\"url(#clip480)\" d=\"M156.019 481.864 Q152.408 481.864 150.579 485.429 Q148.774 488.97 148.774 496.1 Q148.774 503.206 150.579 506.771 Q152.408 510.313 156.019 510.313 Q159.653 510.313 161.459 506.771 Q163.288 503.206 163.288 496.1 Q163.288 488.97 161.459 485.429 Q159.653 481.864 156.019 481.864 M156.019 478.16 Q161.829 478.16 164.885 482.767 Q167.964 487.35 167.964 496.1 Q167.964 504.827 164.885 509.433 Q161.829 514.016 156.019 514.016 Q150.209 514.016 147.13 509.433 Q144.075 504.827 144.075 496.1 Q144.075 487.35 147.13 482.767 Q150.209 478.16 156.019 478.16 Z\" fill=\"#000000\" fill-rule=\"evenodd\" fill-opacity=\"1\" /><path clip-path=\"url(#clip480)\" d=\"M186.181 481.864 Q182.57 481.864 180.741 485.429 Q178.936 488.97 178.936 496.1 Q178.936 503.206 180.741 506.771 Q182.57 510.313 186.181 510.313 Q189.815 510.313 191.621 506.771 Q193.45 503.206 193.45 496.1 Q193.45 488.97 191.621 485.429 Q189.815 481.864 186.181 481.864 M186.181 478.16 Q191.991 478.16 195.047 482.767 Q198.125 487.35 198.125 496.1 Q198.125 504.827 195.047 509.433 Q191.991 514.016 186.181 514.016 Q180.371 514.016 177.292 509.433 Q174.237 504.827 174.237 496.1 Q174.237 487.35 177.292 482.767 Q180.371 478.16 186.181 478.16 Z\" fill=\"#000000\" fill-rule=\"evenodd\" fill-opacity=\"1\" /><path clip-path=\"url(#clip480)\" d=\"M119.885 337.118 L136.204 337.118 L136.204 341.053 L114.26 341.053 L114.26 337.118 Q116.922 334.363 121.505 329.734 Q126.112 325.081 127.292 323.738 Q129.538 321.215 130.417 319.479 Q131.32 317.72 131.32 316.03 Q131.32 313.275 129.376 311.539 Q127.455 309.803 124.353 309.803 Q122.154 309.803 119.7 310.567 Q117.269 311.331 114.492 312.882 L114.492 308.16 Q117.316 307.025 119.769 306.447 Q122.223 305.868 124.26 305.868 Q129.63 305.868 132.825 308.553 Q136.019 311.238 136.019 315.729 Q136.019 317.859 135.209 319.78 Q134.422 321.678 132.316 324.271 Q131.737 324.942 128.635 328.16 Q125.533 331.354 119.885 337.118 Z\" fill=\"#000000\" fill-rule=\"evenodd\" fill-opacity=\"1\" /><path clip-path=\"url(#clip480)\" d=\"M156.019 309.572 Q152.408 309.572 150.579 313.136 Q148.774 316.678 148.774 323.808 Q148.774 330.914 150.579 334.479 Q152.408 338.021 156.019 338.021 Q159.653 338.021 161.459 334.479 Q163.288 330.914 163.288 323.808 Q163.288 316.678 161.459 313.136 Q159.653 309.572 156.019 309.572 M156.019 305.868 Q161.829 305.868 164.885 310.474 Q167.964 315.058 167.964 323.808 Q167.964 332.534 164.885 337.141 Q161.829 341.724 156.019 341.724 Q150.209 341.724 147.13 337.141 Q144.075 332.534 144.075 323.808 Q144.075 315.058 147.13 310.474 Q150.209 305.868 156.019 305.868 Z\" fill=\"#000000\" fill-rule=\"evenodd\" fill-opacity=\"1\" /><path clip-path=\"url(#clip480)\" d=\"M186.181 309.572 Q182.57 309.572 180.741 313.136 Q178.936 316.678 178.936 323.808 Q178.936 330.914 180.741 334.479 Q182.57 338.021 186.181 338.021 Q189.815 338.021 191.621 334.479 Q193.45 330.914 193.45 323.808 Q193.45 316.678 191.621 313.136 Q189.815 309.572 186.181 309.572 M186.181 305.868 Q191.991 305.868 195.047 310.474 Q198.125 315.058 198.125 323.808 Q198.125 332.534 195.047 337.141 Q191.991 341.724 186.181 341.724 Q180.371 341.724 177.292 337.141 Q174.237 332.534 174.237 323.808 Q174.237 315.058 177.292 310.474 Q180.371 305.868 186.181 305.868 Z\" fill=\"#000000\" fill-rule=\"evenodd\" fill-opacity=\"1\" /><path clip-path=\"url(#clip480)\" d=\"M130.024 150.127 Q133.38 150.844 135.255 153.113 Q137.154 155.381 137.154 158.715 Q137.154 163.83 133.635 166.631 Q130.117 169.432 123.635 169.432 Q121.459 169.432 119.144 168.992 Q116.853 168.576 114.399 167.719 L114.399 163.205 Q116.343 164.34 118.658 164.918 Q120.973 165.497 123.496 165.497 Q127.894 165.497 130.186 163.761 Q132.501 162.025 132.501 158.715 Q132.501 155.659 130.348 153.946 Q128.218 152.21 124.399 152.21 L120.371 152.21 L120.371 148.367 L124.584 148.367 Q128.033 148.367 129.862 147.002 Q131.691 145.613 131.691 143.02 Q131.691 140.358 129.792 138.946 Q127.917 137.511 124.399 137.511 Q122.478 137.511 120.279 137.928 Q118.08 138.344 115.441 139.224 L115.441 135.057 Q118.103 134.317 120.418 133.946 Q122.755 133.576 124.816 133.576 Q130.14 133.576 133.242 136.006 Q136.343 138.414 136.343 142.534 Q136.343 145.404 134.7 147.395 Q133.056 149.363 130.024 150.127 Z\" fill=\"#000000\" fill-rule=\"evenodd\" fill-opacity=\"1\" /><path clip-path=\"url(#clip480)\" d=\"M156.019 137.28 Q152.408 137.28 150.579 140.844 Q148.774 144.386 148.774 151.516 Q148.774 158.622 150.579 162.187 Q152.408 165.728 156.019 165.728 Q159.653 165.728 161.459 162.187 Q163.288 158.622 163.288 151.516 Q163.288 144.386 161.459 140.844 Q159.653 137.28 156.019 137.28 M156.019 133.576 Q161.829 133.576 164.885 138.182 Q167.964 142.766 167.964 151.516 Q167.964 160.242 164.885 164.849 Q161.829 169.432 156.019 169.432 Q150.209 169.432 147.13 164.849 Q144.075 160.242 144.075 151.516 Q144.075 142.766 147.13 138.182 Q150.209 133.576 156.019 133.576 Z\" fill=\"#000000\" fill-rule=\"evenodd\" fill-opacity=\"1\" /><path clip-path=\"url(#clip480)\" d=\"M186.181 137.28 Q182.57 137.28 180.741 140.844 Q178.936 144.386 178.936 151.516 Q178.936 158.622 180.741 162.187 Q182.57 165.728 186.181 165.728 Q189.815 165.728 191.621 162.187 Q193.45 158.622 193.45 151.516 Q193.45 144.386 191.621 140.844 Q189.815 137.28 186.181 137.28 M186.181 133.576 Q191.991 133.576 195.047 138.182 Q198.125 142.766 198.125 151.516 Q198.125 160.242 195.047 164.849 Q191.991 169.432 186.181 169.432 Q180.371 169.432 177.292 164.849 Q174.237 160.242 174.237 151.516 Q174.237 142.766 177.292 138.182 Q180.371 133.576 186.181 133.576 Z\" fill=\"#000000\" fill-rule=\"evenodd\" fill-opacity=\"1\" /><path clip-path=\"url(#clip480)\" d=\"M20.9241 418.129 Q21.536 418.129 22.0513 418.257 L33.5165 420.061 Q34.3861 420.158 34.7082 420.351 Q35.0302 420.512 35.0302 421.027 Q35.0302 421.832 34.1929 421.832 Q33.7098 421.832 32.9368 421.639 Q29.2976 421.092 27.6551 421.092 Q26.5601 421.092 25.7549 421.317 Q24.9176 421.51 24.3379 421.832 Q23.7582 422.122 23.3717 422.798 Q22.9852 423.475 22.7598 424.119 Q22.5343 424.763 22.4377 425.922 Q22.3089 427.082 22.2767 428.08 Q22.2445 429.079 22.2445 430.721 Q22.2445 434.296 22.3733 434.876 Q22.5343 435.488 23.0174 435.81 Q23.4683 436.099 24.821 436.422 L59.8287 445.182 L61.2136 445.439 Q61.9865 445.439 62.2442 444.956 Q62.5018 444.473 62.6628 442.992 Q62.8239 440.866 62.8239 438.773 Q62.8239 438.708 62.8239 438.579 Q62.8239 437.871 62.8561 437.581 Q62.8561 437.291 62.9205 437.001 Q62.9849 436.711 63.1459 436.647 Q63.2748 436.55 63.5324 436.55 Q64.1443 436.55 64.4664 436.808 Q64.7562 437.066 64.8206 437.323 Q64.8528 437.549 64.8528 438 Q64.8528 438.901 64.7884 440.834 Q64.724 442.766 64.724 443.732 L64.6596 449.207 L64.724 454.811 Q64.724 455.681 64.7884 457.516 Q64.8528 459.352 64.8528 460.222 Q64.8528 461.349 64.0477 461.349 Q63.1459 461.349 62.9849 460.93 Q62.8239 460.479 62.8239 458.579 Q62.8239 455.906 62.6951 454.457 Q62.5662 453.008 62.1153 452.235 Q61.6645 451.429 61.2136 451.204 Q60.7305 450.979 59.6355 450.721 L24.4345 441.864 Q23.6615 441.607 23.0496 441.607 Q22.7276 441.607 22.5988 441.703 Q22.4699 441.768 22.3733 442.186 Q22.2445 442.605 22.2445 443.475 L22.2445 446.051 Q22.2445 448.692 22.3733 450.334 Q22.4699 451.945 22.953 453.491 Q23.4361 455.004 24.1124 455.906 Q24.7888 456.776 26.1736 457.742 Q27.5585 458.708 29.2332 459.417 Q30.9079 460.093 33.6454 461.059 Q34.5471 461.381 34.8048 461.574 Q35.0302 461.735 35.0302 462.186 Q35.0302 462.508 34.837 462.766 Q34.6115 462.991 34.3217 462.991 Q33.2589 462.669 33.1301 462.605 L21.5038 458.644 Q20.5698 458.322 20.4088 458.032 Q20.2155 457.71 20.2155 456.518 L20.2155 419.932 Q20.2155 419.352 20.2155 419.159 Q20.2155 418.966 20.2799 418.644 Q20.3443 418.322 20.5054 418.225 Q20.6664 418.129 20.9241 418.129 Z\" fill=\"#000000\" fill-rule=\"evenodd\" fill-opacity=\"1\" /><path clip-path=\"url(#clip480)\" d=\"M65.7254 392.728 Q66.9202 392.728 67.6867 393.517 Q68.4532 394.283 68.4532 395.275 Q68.4532 396.132 67.9572 396.583 Q67.4613 397.034 66.83 397.034 Q65.9283 397.034 65.1843 396.335 Q64.4403 395.636 64.2825 394.621 Q63.7415 395.365 63.7415 396.56 Q63.7415 398.522 65.2519 400.257 Q65.9508 401.024 67.2358 401.858 Q68.4983 402.692 69.0393 402.85 L75.0586 404.315 Q75.7349 404.451 78.9813 405.285 Q82.2051 406.096 82.3404 406.164 Q82.9716 406.389 83.3098 406.885 Q83.6479 407.381 83.6479 407.877 Q83.6479 408.441 83.3098 408.824 Q82.9716 409.207 82.3855 409.207 Q82.2953 409.207 81.9571 409.14 Q81.619 409.072 81.1455 408.959 Q80.6721 408.847 80.4016 408.802 L69.7382 406.119 Q67.7994 405.623 67.1907 405.51 Q66.5595 405.375 65.8606 405.375 Q64.6432 405.375 64.1924 405.758 Q63.7415 406.141 63.7415 406.818 Q63.7415 407.99 65.1392 408.757 Q66.5369 409.523 69.2422 410.177 Q69.9862 410.38 70.144 410.515 Q70.3018 410.628 70.3018 410.966 Q70.2793 411.53 69.8284 411.53 Q69.7157 411.53 68.9943 411.349 Q68.2503 411.169 67.1682 410.831 Q66.0635 410.47 65.3647 410.087 Q64.8912 409.861 64.5756 409.658 Q64.26 409.455 63.764 409.05 Q63.2681 408.644 62.9975 408.035 Q62.727 407.426 62.727 406.683 Q62.727 405.059 63.7189 403.91 Q64.7109 402.737 66.2664 402.467 Q65.4548 401.903 64.756 401.204 Q64.0346 400.505 63.3808 399.22 Q62.727 397.935 62.727 396.56 Q62.727 394.847 63.6062 393.787 Q64.4629 392.728 65.7254 392.728 Z\" fill=\"#000000\" fill-rule=\"evenodd\" fill-opacity=\"1\" /><path clip-path=\"url(#clip480)\" d=\"M83.1294 389.441 Q82.2953 389.441 82.0473 389.374 Q81.7993 389.284 81.4161 388.923 L71.5417 380.063 Q66.0861 375.216 61.3293 375.216 Q58.2407 375.216 56.0314 376.839 Q53.8221 378.44 53.8221 381.393 Q53.8221 383.422 55.062 385.136 Q56.3019 386.849 58.5112 387.638 Q58.4662 387.503 58.4662 387.029 Q58.4662 385.88 59.1876 385.248 Q59.909 384.595 60.8784 384.595 Q62.1183 384.595 62.727 385.406 Q63.3131 386.195 63.3131 386.984 Q63.3131 387.3 63.2455 387.728 Q63.1779 388.134 62.5466 388.788 Q61.8929 389.441 60.7431 389.441 Q57.5193 389.441 54.9493 387.007 Q52.3793 384.549 52.3793 380.807 Q52.3793 376.569 54.9042 373.796 Q57.4066 371 61.3293 371 Q62.7045 371 63.9669 371.429 Q65.2068 371.835 66.1762 372.398 Q67.1456 372.939 68.7012 374.427 Q70.2567 375.915 71.3614 377.11 Q72.466 378.305 74.8106 380.987 L79.5674 385.88 L79.5674 377.561 Q79.5674 373.503 79.2067 373.187 Q78.553 372.736 75.1037 372.173 L75.1037 371 L83.1294 372.308 L83.1294 389.441 Z\" fill=\"#000000\" fill-rule=\"evenodd\" fill-opacity=\"1\" /><path clip-path=\"url(#clip480)\" d=\"M81.3422 359.537 L15.3846 359.537 L15.3846 349.585 L16.8983 349.585 L16.8983 355.124 L79.8286 355.124 L79.8286 349.585 L81.3422 349.585 L81.3422 359.537 Z\" fill=\"#000000\" fill-rule=\"evenodd\" fill-opacity=\"1\" /><path clip-path=\"url(#clip480)\" d=\"M20.5376 291.06 Q20.9563 291.06 21.2461 291.156 Q21.5038 291.253 21.6326 291.478 Q21.7614 291.704 21.7936 291.833 Q21.8258 291.961 21.858 292.251 Q21.9868 293.636 22.2123 294.602 Q22.4377 295.536 23.5971 297.855 Q24.7565 300.142 26.8499 303.008 L35.771 314.538 L37.2846 316.47 Q37.3812 316.47 37.5745 316.406 Q37.7355 316.341 37.961 316.277 Q38.1542 316.18 38.2186 316.148 L59.8287 306.776 Q61.5678 306.035 62.1798 305.134 Q62.7917 304.232 62.8239 302.203 Q62.8239 301.881 62.8561 301.752 Q62.8561 301.591 62.9205 301.365 Q62.9527 301.108 63.1137 301.011 Q63.2748 300.882 63.5324 300.882 Q64.8528 300.882 64.8528 302.074 Q64.8528 302.815 64.7562 305.327 Q64.6596 307.839 64.6596 308.547 Q64.6596 309.868 64.7562 312.573 Q64.8528 315.278 64.8528 316.599 Q64.8528 317.533 64.1121 317.533 Q63.5002 317.533 63.2103 317.307 Q62.8883 317.05 62.8561 316.824 Q62.8239 316.599 62.8239 316.084 Q62.8239 315.697 62.7917 315.278 Q62.7273 314.828 62.5662 314.183 Q62.373 313.507 61.9221 313.088 Q61.439 312.638 60.7627 312.638 Q60.2152 312.638 58.4439 313.443 L40.6984 321.075 L48.3634 330.898 L58.7337 333.539 Q59.1202 333.604 59.7965 333.765 Q60.4728 333.926 60.9559 334.054 Q61.439 334.151 61.6323 334.151 Q62.0509 334.151 62.3086 333.893 Q62.5662 333.604 62.6951 332.895 Q62.7917 332.186 62.8239 331.639 Q62.8239 331.059 62.8239 329.868 Q62.8239 328.386 63.0815 328.129 Q63.2426 328 63.5324 328 Q63.9833 328 64.3053 328.129 Q64.5952 328.257 64.6918 328.515 Q64.7884 328.74 64.8206 328.901 Q64.8528 329.063 64.8528 329.32 Q64.8528 329.996 64.7884 331.446 Q64.724 332.863 64.724 333.604 L64.6596 337.823 L64.8528 346.196 Q64.8528 347.194 64.0477 347.194 Q63.4358 347.194 63.1781 346.937 Q62.8883 346.679 62.8561 346.389 Q62.8239 346.099 62.8239 345.359 Q62.8239 343.748 62.7273 342.782 Q62.6306 341.816 62.5018 341.204 Q62.3408 340.56 61.8899 340.238 Q61.439 339.884 61.0526 339.723 Q60.6339 339.562 59.6999 339.336 L24.2735 330.512 Q23.2107 330.254 23.0496 330.254 Q22.5021 330.254 22.3089 330.576 Q22.0835 330.866 21.9868 331.703 Q21.858 333.314 21.858 334.538 Q21.858 335.343 21.8258 335.665 Q21.7936 335.955 21.6326 336.212 Q21.4393 336.438 21.0529 336.438 Q19.7968 336.438 19.7968 335.117 L19.9901 326.615 L19.7968 318.177 Q19.7968 317.243 20.5376 317.243 Q21.4715 317.243 21.6648 317.694 Q21.858 318.113 21.858 319.497 Q21.858 321.913 22.1801 323.008 Q22.4699 324.071 22.9852 324.393 Q23.4683 324.683 24.8854 325.037 L46.0446 330.319 L26.2702 304.586 Q24.2735 302.203 23.2429 302.203 Q22.5665 302.203 22.2767 302.686 Q21.9546 303.137 21.858 304.264 Q21.7292 305.069 21.1173 305.069 Q20.5054 305.069 20.2155 304.844 Q19.8935 304.586 19.8613 304.393 Q19.7968 304.167 19.7968 303.813 Q19.7968 302.622 19.8935 300.142 Q19.9901 297.662 19.9901 296.47 Q19.9901 295.665 19.8935 294.087 Q19.7968 292.509 19.7968 291.8 Q19.7968 291.446 20.0545 291.253 Q20.2799 291.06 20.5376 291.06 Z\" fill=\"#000000\" fill-rule=\"evenodd\" fill-opacity=\"1\" /><path clip-path=\"url(#clip480)\" d=\"M79.8286 288.851 L79.8286 283.311 L16.8983 283.311 L16.8983 288.851 L15.3846 288.851 L15.3846 278.899 L81.3422 278.899 L81.3422 288.851 L79.8286 288.851 Z\" fill=\"#000000\" fill-rule=\"evenodd\" fill-opacity=\"1\" /><polyline clip-path=\"url(#clip483)\" style=\"stroke:#000000; stroke-linecap:round; stroke-linejoin:round; stroke-width:4; stroke-opacity:1; fill:none\" stroke-dasharray=\"2, 4\" points=\"294.087,65.3348 345.336,65.3348 396.585,65.3348 447.833,65.3348 499.082,65.3348 550.331,65.3348 601.58,65.3348 652.829,65.3348 704.078,65.3348 755.327,65.3348 806.576,65.3348 857.825,65.3348 909.074,65.3348 960.323,65.3348 1011.57,65.3348 1062.82,65.3348 1114.07,65.3348 1165.32,65.3348 1216.57,65.3348 1267.82,65.3348 1319.07,65.3348 1370.31,65.3348 1421.56,65.3348 1472.81,65.3348 1524.06,65.3348 1575.31,65.3348 1626.56,65.3348 1677.81,65.3348 1729.06,65.3348 1780.31,65.3348 1831.55,65.3348 1882.8,65.3348 1934.05,65.3348 1985.3,65.3348 2036.55,65.3348 2087.8,65.3348 2139.05,65.3348 2190.3,65.3348 2241.55,65.3348 2292.79,65.3348 \"/>\n",
       "<polyline clip-path=\"url(#clip483)\" style=\"stroke:#ff0000; stroke-linecap:round; stroke-linejoin:round; stroke-width:12; stroke-opacity:0.3; fill:none\" points=\"294.087,97.9337 345.336,668.357 396.585,668.357 447.833,668.357 499.082,668.357 550.331,668.357 601.58,668.357 652.829,668.357 704.078,668.357 755.327,668.357 806.576,668.357 857.825,668.357 909.074,668.357 960.323,668.357 1011.57,668.357 1062.82,668.357 1114.07,668.357 1165.32,668.357 1216.57,668.357 1267.82,668.357 1319.07,668.357 1370.31,668.357 1421.56,668.357 1472.81,668.357 1524.06,668.357 1575.31,668.357 1626.56,668.357 1677.81,668.357 1729.06,668.357 1780.31,668.357 1831.55,668.357 1882.8,668.357 1934.05,668.357 1985.3,668.357 2036.55,668.357 2087.8,668.357 2139.05,668.357 2190.3,668.357 2241.55,668.357 2292.79,668.357 \"/>\n",
       "<polyline clip-path=\"url(#clip483)\" style=\"stroke:#0000ff; stroke-linecap:round; stroke-linejoin:round; stroke-width:12; stroke-opacity:0.3; fill:none\" points=\"294.087,668.357 345.336,668.357 396.585,668.357 447.833,668.357 499.082,668.357 550.331,668.357 601.58,668.357 652.829,668.357 704.078,668.357 755.327,668.357 806.576,668.357 857.825,668.357 909.074,668.357 960.323,668.357 1011.57,668.357 1062.82,668.357 1114.07,668.357 1165.32,668.357 1216.57,668.357 1267.82,668.357 1319.07,668.357 1370.31,668.357 1421.56,668.357 1472.81,668.357 1524.06,668.357 1575.31,668.357 1626.56,668.357 1677.81,668.357 1729.06,668.357 1780.31,668.357 1831.55,668.357 1882.8,668.357 1934.05,668.357 1985.3,668.357 2036.55,668.357 2087.8,668.357 2139.05,668.357 2190.3,668.357 2241.55,668.357 2292.79,668.357 \"/>\n",
       "<path clip-path=\"url(#clip480)\" d=\"M234.125 1486.45 L2352.76 1486.45 L2352.76 847.244 L234.125 847.244  Z\" fill=\"#ffffff\" fill-rule=\"evenodd\" fill-opacity=\"1\"/>\n",
       "<defs>\n",
       "  <clipPath id=\"clip484\">\n",
       "    <rect x=\"234\" y=\"847\" width=\"2120\" height=\"640\"/>\n",
       "  </clipPath>\n",
       "</defs>\n",
       "<polyline clip-path=\"url(#clip484)\" style=\"stroke:#000000; stroke-linecap:round; stroke-linejoin:round; stroke-width:8; stroke-opacity:0.1; fill:none\" points=\"242.838,1486.45 242.838,847.244 \"/>\n",
       "<polyline clip-path=\"url(#clip484)\" style=\"stroke:#000000; stroke-linecap:round; stroke-linejoin:round; stroke-width:8; stroke-opacity:0.1; fill:none\" points=\"755.327,1486.45 755.327,847.244 \"/>\n",
       "<polyline clip-path=\"url(#clip484)\" style=\"stroke:#000000; stroke-linecap:round; stroke-linejoin:round; stroke-width:8; stroke-opacity:0.1; fill:none\" points=\"1267.82,1486.45 1267.82,847.244 \"/>\n",
       "<polyline clip-path=\"url(#clip484)\" style=\"stroke:#000000; stroke-linecap:round; stroke-linejoin:round; stroke-width:8; stroke-opacity:0.1; fill:none\" points=\"1780.31,1486.45 1780.31,847.244 \"/>\n",
       "<polyline clip-path=\"url(#clip484)\" style=\"stroke:#000000; stroke-linecap:round; stroke-linejoin:round; stroke-width:8; stroke-opacity:0.1; fill:none\" points=\"2292.79,1486.45 2292.79,847.244 \"/>\n",
       "<polyline clip-path=\"url(#clip480)\" style=\"stroke:#000000; stroke-linecap:round; stroke-linejoin:round; stroke-width:4; stroke-opacity:1; fill:none\" points=\"234.125,1486.45 2352.76,1486.45 \"/>\n",
       "<polyline clip-path=\"url(#clip480)\" style=\"stroke:#000000; stroke-linecap:round; stroke-linejoin:round; stroke-width:4; stroke-opacity:1; fill:none\" points=\"242.838,1486.45 242.838,1467.55 \"/>\n",
       "<polyline clip-path=\"url(#clip480)\" style=\"stroke:#000000; stroke-linecap:round; stroke-linejoin:round; stroke-width:4; stroke-opacity:1; fill:none\" points=\"755.327,1486.45 755.327,1467.55 \"/>\n",
       "<polyline clip-path=\"url(#clip480)\" style=\"stroke:#000000; stroke-linecap:round; stroke-linejoin:round; stroke-width:4; stroke-opacity:1; fill:none\" points=\"1267.82,1486.45 1267.82,1467.55 \"/>\n",
       "<polyline clip-path=\"url(#clip480)\" style=\"stroke:#000000; stroke-linecap:round; stroke-linejoin:round; stroke-width:4; stroke-opacity:1; fill:none\" points=\"1780.31,1486.45 1780.31,1467.55 \"/>\n",
       "<polyline clip-path=\"url(#clip480)\" style=\"stroke:#000000; stroke-linecap:round; stroke-linejoin:round; stroke-width:4; stroke-opacity:1; fill:none\" points=\"2292.79,1486.45 2292.79,1467.55 \"/>\n",
       "<path clip-path=\"url(#clip480)\" d=\"M242.838 1517.37 Q239.227 1517.37 237.398 1520.93 Q235.592 1524.47 235.592 1531.6 Q235.592 1538.71 237.398 1542.27 Q239.227 1545.82 242.838 1545.82 Q246.472 1545.82 248.278 1542.27 Q250.106 1538.71 250.106 1531.6 Q250.106 1524.47 248.278 1520.93 Q246.472 1517.37 242.838 1517.37 M242.838 1513.66 Q248.648 1513.66 251.703 1518.27 Q254.782 1522.85 254.782 1531.6 Q254.782 1540.33 251.703 1544.94 Q248.648 1549.52 242.838 1549.52 Q237.028 1549.52 233.949 1544.94 Q230.893 1540.33 230.893 1531.6 Q230.893 1522.85 233.949 1518.27 Q237.028 1513.66 242.838 1513.66 Z\" fill=\"#000000\" fill-rule=\"evenodd\" fill-opacity=\"1\" /><path clip-path=\"url(#clip480)\" d=\"M730.015 1544.91 L737.653 1544.91 L737.653 1518.55 L729.343 1520.21 L729.343 1515.95 L737.607 1514.29 L742.283 1514.29 L742.283 1544.91 L749.922 1544.91 L749.922 1548.85 L730.015 1548.85 L730.015 1544.91 Z\" fill=\"#000000\" fill-rule=\"evenodd\" fill-opacity=\"1\" /><path clip-path=\"url(#clip480)\" d=\"M769.366 1517.37 Q765.755 1517.37 763.926 1520.93 Q762.121 1524.47 762.121 1531.6 Q762.121 1538.71 763.926 1542.27 Q765.755 1545.82 769.366 1545.82 Q773.001 1545.82 774.806 1542.27 Q776.635 1538.71 776.635 1531.6 Q776.635 1524.47 774.806 1520.93 Q773.001 1517.37 769.366 1517.37 M769.366 1513.66 Q775.176 1513.66 778.232 1518.27 Q781.311 1522.85 781.311 1531.6 Q781.311 1540.33 778.232 1544.94 Q775.176 1549.52 769.366 1549.52 Q763.556 1549.52 760.477 1544.94 Q757.422 1540.33 757.422 1531.6 Q757.422 1522.85 760.477 1518.27 Q763.556 1513.66 769.366 1513.66 Z\" fill=\"#000000\" fill-rule=\"evenodd\" fill-opacity=\"1\" /><path clip-path=\"url(#clip480)\" d=\"M1246.59 1544.91 L1262.91 1544.91 L1262.91 1548.85 L1240.96 1548.85 L1240.96 1544.91 Q1243.63 1542.16 1248.21 1537.53 Q1252.82 1532.88 1254 1531.53 Q1256.24 1529.01 1257.12 1527.27 Q1258.02 1525.51 1258.02 1523.82 Q1258.02 1521.07 1256.08 1519.33 Q1254.16 1517.6 1251.06 1517.6 Q1248.86 1517.6 1246.4 1518.36 Q1243.97 1519.13 1241.2 1520.68 L1241.2 1515.95 Q1244.02 1514.82 1246.47 1514.24 Q1248.93 1513.66 1250.96 1513.66 Q1256.33 1513.66 1259.53 1516.35 Q1262.72 1519.03 1262.72 1523.52 Q1262.72 1525.65 1261.91 1527.57 Q1261.13 1529.47 1259.02 1532.07 Q1258.44 1532.74 1255.34 1535.95 Q1252.24 1539.15 1246.59 1544.91 Z\" fill=\"#000000\" fill-rule=\"evenodd\" fill-opacity=\"1\" /><path clip-path=\"url(#clip480)\" d=\"M1282.72 1517.37 Q1279.11 1517.37 1277.28 1520.93 Q1275.48 1524.47 1275.48 1531.6 Q1275.48 1538.71 1277.28 1542.27 Q1279.11 1545.82 1282.72 1545.82 Q1286.36 1545.82 1288.16 1542.27 Q1289.99 1538.71 1289.99 1531.6 Q1289.99 1524.47 1288.16 1520.93 Q1286.36 1517.37 1282.72 1517.37 M1282.72 1513.66 Q1288.53 1513.66 1291.59 1518.27 Q1294.67 1522.85 1294.67 1531.6 Q1294.67 1540.33 1291.59 1544.94 Q1288.53 1549.52 1282.72 1549.52 Q1276.91 1549.52 1273.83 1544.94 Q1270.78 1540.33 1270.78 1531.6 Q1270.78 1522.85 1273.83 1518.27 Q1276.91 1513.66 1282.72 1513.66 Z\" fill=\"#000000\" fill-rule=\"evenodd\" fill-opacity=\"1\" /><path clip-path=\"url(#clip480)\" d=\"M1769.15 1530.21 Q1772.5 1530.93 1774.38 1533.2 Q1776.28 1535.47 1776.28 1538.8 Q1776.28 1543.92 1772.76 1546.72 Q1769.24 1549.52 1762.76 1549.52 Q1760.58 1549.52 1758.27 1549.08 Q1755.98 1548.66 1753.52 1547.81 L1753.52 1543.29 Q1755.47 1544.43 1757.78 1545.01 Q1760.1 1545.58 1762.62 1545.58 Q1767.02 1545.58 1769.31 1543.85 Q1771.62 1542.11 1771.62 1538.8 Q1771.62 1535.75 1769.47 1534.03 Q1767.34 1532.3 1763.52 1532.3 L1759.5 1532.3 L1759.5 1528.45 L1763.71 1528.45 Q1767.16 1528.45 1768.99 1527.09 Q1770.81 1525.7 1770.81 1523.11 Q1770.81 1520.45 1768.92 1519.03 Q1767.04 1517.6 1763.52 1517.6 Q1761.6 1517.6 1759.4 1518.01 Q1757.2 1518.43 1754.56 1519.31 L1754.56 1515.14 Q1757.23 1514.4 1759.54 1514.03 Q1761.88 1513.66 1763.94 1513.66 Q1769.26 1513.66 1772.37 1516.09 Q1775.47 1518.5 1775.47 1522.62 Q1775.47 1525.49 1773.82 1527.48 Q1772.18 1529.45 1769.15 1530.21 Z\" fill=\"#000000\" fill-rule=\"evenodd\" fill-opacity=\"1\" /><path clip-path=\"url(#clip480)\" d=\"M1795.14 1517.37 Q1791.53 1517.37 1789.7 1520.93 Q1787.9 1524.47 1787.9 1531.6 Q1787.9 1538.71 1789.7 1542.27 Q1791.53 1545.82 1795.14 1545.82 Q1798.78 1545.82 1800.58 1542.27 Q1802.41 1538.71 1802.41 1531.6 Q1802.41 1524.47 1800.58 1520.93 Q1798.78 1517.37 1795.14 1517.37 M1795.14 1513.66 Q1800.95 1513.66 1804.01 1518.27 Q1807.09 1522.85 1807.09 1531.6 Q1807.09 1540.33 1804.01 1544.94 Q1800.95 1549.52 1795.14 1549.52 Q1789.33 1549.52 1786.25 1544.94 Q1783.2 1540.33 1783.2 1531.6 Q1783.2 1522.85 1786.25 1518.27 Q1789.33 1513.66 1795.14 1513.66 Z\" fill=\"#000000\" fill-rule=\"evenodd\" fill-opacity=\"1\" /><path clip-path=\"url(#clip480)\" d=\"M2280.97 1518.36 L2269.16 1536.81 L2280.97 1536.81 L2280.97 1518.36 M2279.74 1514.29 L2285.62 1514.29 L2285.62 1536.81 L2290.55 1536.81 L2290.55 1540.7 L2285.62 1540.7 L2285.62 1548.85 L2280.97 1548.85 L2280.97 1540.7 L2265.36 1540.7 L2265.36 1536.19 L2279.74 1514.29 Z\" fill=\"#000000\" fill-rule=\"evenodd\" fill-opacity=\"1\" /><path clip-path=\"url(#clip480)\" d=\"M2308.28 1517.37 Q2304.67 1517.37 2302.84 1520.93 Q2301.04 1524.47 2301.04 1531.6 Q2301.04 1538.71 2302.84 1542.27 Q2304.67 1545.82 2308.28 1545.82 Q2311.91 1545.82 2313.72 1542.27 Q2315.55 1538.71 2315.55 1531.6 Q2315.55 1524.47 2313.72 1520.93 Q2311.91 1517.37 2308.28 1517.37 M2308.28 1513.66 Q2314.09 1513.66 2317.15 1518.27 Q2320.23 1522.85 2320.23 1531.6 Q2320.23 1540.33 2317.15 1544.94 Q2314.09 1549.52 2308.28 1549.52 Q2302.47 1549.52 2299.39 1544.94 Q2296.34 1540.33 2296.34 1531.6 Q2296.34 1522.85 2299.39 1518.27 Q2302.47 1513.66 2308.28 1513.66 Z\" fill=\"#000000\" fill-rule=\"evenodd\" fill-opacity=\"1\" /><polyline clip-path=\"url(#clip484)\" style=\"stroke:#000000; stroke-linecap:round; stroke-linejoin:round; stroke-width:8; stroke-opacity:0.1; fill:none\" points=\"234.125,1468.36 2352.76,1468.36 \"/>\n",
       "<polyline clip-path=\"url(#clip484)\" style=\"stroke:#000000; stroke-linecap:round; stroke-linejoin:round; stroke-width:8; stroke-opacity:0.1; fill:none\" points=\"234.125,1296.07 2352.76,1296.07 \"/>\n",
       "<polyline clip-path=\"url(#clip484)\" style=\"stroke:#000000; stroke-linecap:round; stroke-linejoin:round; stroke-width:8; stroke-opacity:0.1; fill:none\" points=\"234.125,1123.77 2352.76,1123.77 \"/>\n",
       "<polyline clip-path=\"url(#clip484)\" style=\"stroke:#000000; stroke-linecap:round; stroke-linejoin:round; stroke-width:8; stroke-opacity:0.1; fill:none\" points=\"234.125,951.481 2352.76,951.481 \"/>\n",
       "<polyline clip-path=\"url(#clip480)\" style=\"stroke:#000000; stroke-linecap:round; stroke-linejoin:round; stroke-width:4; stroke-opacity:1; fill:none\" points=\"234.125,1486.45 234.125,847.244 \"/>\n",
       "<polyline clip-path=\"url(#clip480)\" style=\"stroke:#000000; stroke-linecap:round; stroke-linejoin:round; stroke-width:4; stroke-opacity:1; fill:none\" points=\"234.125,1468.36 253.023,1468.36 \"/>\n",
       "<polyline clip-path=\"url(#clip480)\" style=\"stroke:#000000; stroke-linecap:round; stroke-linejoin:round; stroke-width:4; stroke-opacity:1; fill:none\" points=\"234.125,1296.07 253.023,1296.07 \"/>\n",
       "<polyline clip-path=\"url(#clip480)\" style=\"stroke:#000000; stroke-linecap:round; stroke-linejoin:round; stroke-width:4; stroke-opacity:1; fill:none\" points=\"234.125,1123.77 253.023,1123.77 \"/>\n",
       "<polyline clip-path=\"url(#clip480)\" style=\"stroke:#000000; stroke-linecap:round; stroke-linejoin:round; stroke-width:4; stroke-opacity:1; fill:none\" points=\"234.125,951.481 253.023,951.481 \"/>\n",
       "<path clip-path=\"url(#clip480)\" d=\"M186.181 1454.16 Q182.57 1454.16 180.741 1457.72 Q178.936 1461.26 178.936 1468.39 Q178.936 1475.5 180.741 1479.06 Q182.57 1482.6 186.181 1482.6 Q189.815 1482.6 191.621 1479.06 Q193.45 1475.5 193.45 1468.39 Q193.45 1461.26 191.621 1457.72 Q189.815 1454.16 186.181 1454.16 M186.181 1450.45 Q191.991 1450.45 195.047 1455.06 Q198.125 1459.64 198.125 1468.39 Q198.125 1477.12 195.047 1481.73 Q191.991 1486.31 186.181 1486.31 Q180.371 1486.31 177.292 1481.73 Q174.237 1477.12 174.237 1468.39 Q174.237 1459.64 177.292 1455.06 Q180.371 1450.45 186.181 1450.45 Z\" fill=\"#000000\" fill-rule=\"evenodd\" fill-opacity=\"1\" /><path clip-path=\"url(#clip480)\" d=\"M116.668 1309.41 L124.306 1309.41 L124.306 1283.04 L115.996 1284.71 L115.996 1280.45 L124.26 1278.79 L128.936 1278.79 L128.936 1309.41 L136.575 1309.41 L136.575 1313.35 L116.668 1313.35 L116.668 1309.41 Z\" fill=\"#000000\" fill-rule=\"evenodd\" fill-opacity=\"1\" /><path clip-path=\"url(#clip480)\" d=\"M156.019 1281.86 Q152.408 1281.86 150.579 1285.43 Q148.774 1288.97 148.774 1296.1 Q148.774 1303.21 150.579 1306.77 Q152.408 1310.31 156.019 1310.31 Q159.653 1310.31 161.459 1306.77 Q163.288 1303.21 163.288 1296.1 Q163.288 1288.97 161.459 1285.43 Q159.653 1281.86 156.019 1281.86 M156.019 1278.16 Q161.829 1278.16 164.885 1282.77 Q167.964 1287.35 167.964 1296.1 Q167.964 1304.83 164.885 1309.43 Q161.829 1314.02 156.019 1314.02 Q150.209 1314.02 147.13 1309.43 Q144.075 1304.83 144.075 1296.1 Q144.075 1287.35 147.13 1282.77 Q150.209 1278.16 156.019 1278.16 Z\" fill=\"#000000\" fill-rule=\"evenodd\" fill-opacity=\"1\" /><path clip-path=\"url(#clip480)\" d=\"M186.181 1281.86 Q182.57 1281.86 180.741 1285.43 Q178.936 1288.97 178.936 1296.1 Q178.936 1303.21 180.741 1306.77 Q182.57 1310.31 186.181 1310.31 Q189.815 1310.31 191.621 1306.77 Q193.45 1303.21 193.45 1296.1 Q193.45 1288.97 191.621 1285.43 Q189.815 1281.86 186.181 1281.86 M186.181 1278.16 Q191.991 1278.16 195.047 1282.77 Q198.125 1287.35 198.125 1296.1 Q198.125 1304.83 195.047 1309.43 Q191.991 1314.02 186.181 1314.02 Q180.371 1314.02 177.292 1309.43 Q174.237 1304.83 174.237 1296.1 Q174.237 1287.35 177.292 1282.77 Q180.371 1278.16 186.181 1278.16 Z\" fill=\"#000000\" fill-rule=\"evenodd\" fill-opacity=\"1\" /><path clip-path=\"url(#clip480)\" d=\"M119.885 1137.12 L136.204 1137.12 L136.204 1141.05 L114.26 1141.05 L114.26 1137.12 Q116.922 1134.36 121.505 1129.73 Q126.112 1125.08 127.292 1123.74 Q129.538 1121.22 130.417 1119.48 Q131.32 1117.72 131.32 1116.03 Q131.32 1113.28 129.376 1111.54 Q127.455 1109.8 124.353 1109.8 Q122.154 1109.8 119.7 1110.57 Q117.269 1111.33 114.492 1112.88 L114.492 1108.16 Q117.316 1107.03 119.769 1106.45 Q122.223 1105.87 124.26 1105.87 Q129.63 1105.87 132.825 1108.55 Q136.019 1111.24 136.019 1115.73 Q136.019 1117.86 135.209 1119.78 Q134.422 1121.68 132.316 1124.27 Q131.737 1124.94 128.635 1128.16 Q125.533 1131.35 119.885 1137.12 Z\" fill=\"#000000\" fill-rule=\"evenodd\" fill-opacity=\"1\" /><path clip-path=\"url(#clip480)\" d=\"M156.019 1109.57 Q152.408 1109.57 150.579 1113.14 Q148.774 1116.68 148.774 1123.81 Q148.774 1130.91 150.579 1134.48 Q152.408 1138.02 156.019 1138.02 Q159.653 1138.02 161.459 1134.48 Q163.288 1130.91 163.288 1123.81 Q163.288 1116.68 161.459 1113.14 Q159.653 1109.57 156.019 1109.57 M156.019 1105.87 Q161.829 1105.87 164.885 1110.47 Q167.964 1115.06 167.964 1123.81 Q167.964 1132.53 164.885 1137.14 Q161.829 1141.72 156.019 1141.72 Q150.209 1141.72 147.13 1137.14 Q144.075 1132.53 144.075 1123.81 Q144.075 1115.06 147.13 1110.47 Q150.209 1105.87 156.019 1105.87 Z\" fill=\"#000000\" fill-rule=\"evenodd\" fill-opacity=\"1\" /><path clip-path=\"url(#clip480)\" d=\"M186.181 1109.57 Q182.57 1109.57 180.741 1113.14 Q178.936 1116.68 178.936 1123.81 Q178.936 1130.91 180.741 1134.48 Q182.57 1138.02 186.181 1138.02 Q189.815 1138.02 191.621 1134.48 Q193.45 1130.91 193.45 1123.81 Q193.45 1116.68 191.621 1113.14 Q189.815 1109.57 186.181 1109.57 M186.181 1105.87 Q191.991 1105.87 195.047 1110.47 Q198.125 1115.06 198.125 1123.81 Q198.125 1132.53 195.047 1137.14 Q191.991 1141.72 186.181 1141.72 Q180.371 1141.72 177.292 1137.14 Q174.237 1132.53 174.237 1123.81 Q174.237 1115.06 177.292 1110.47 Q180.371 1105.87 186.181 1105.87 Z\" fill=\"#000000\" fill-rule=\"evenodd\" fill-opacity=\"1\" /><path clip-path=\"url(#clip480)\" d=\"M130.024 950.127 Q133.38 950.844 135.255 953.113 Q137.154 955.381 137.154 958.715 Q137.154 963.83 133.635 966.631 Q130.117 969.432 123.635 969.432 Q121.459 969.432 119.144 968.992 Q116.853 968.576 114.399 967.719 L114.399 963.205 Q116.343 964.34 118.658 964.918 Q120.973 965.497 123.496 965.497 Q127.894 965.497 130.186 963.761 Q132.501 962.025 132.501 958.715 Q132.501 955.659 130.348 953.946 Q128.218 952.21 124.399 952.21 L120.371 952.21 L120.371 948.367 L124.584 948.367 Q128.033 948.367 129.862 947.002 Q131.691 945.613 131.691 943.02 Q131.691 940.358 129.792 938.946 Q127.917 937.511 124.399 937.511 Q122.478 937.511 120.279 937.928 Q118.08 938.344 115.441 939.224 L115.441 935.057 Q118.103 934.317 120.418 933.946 Q122.755 933.576 124.816 933.576 Q130.14 933.576 133.242 936.006 Q136.343 938.414 136.343 942.534 Q136.343 945.404 134.7 947.395 Q133.056 949.363 130.024 950.127 Z\" fill=\"#000000\" fill-rule=\"evenodd\" fill-opacity=\"1\" /><path clip-path=\"url(#clip480)\" d=\"M156.019 937.28 Q152.408 937.28 150.579 940.844 Q148.774 944.386 148.774 951.516 Q148.774 958.622 150.579 962.187 Q152.408 965.728 156.019 965.728 Q159.653 965.728 161.459 962.187 Q163.288 958.622 163.288 951.516 Q163.288 944.386 161.459 940.844 Q159.653 937.28 156.019 937.28 M156.019 933.576 Q161.829 933.576 164.885 938.182 Q167.964 942.766 167.964 951.516 Q167.964 960.242 164.885 964.849 Q161.829 969.432 156.019 969.432 Q150.209 969.432 147.13 964.849 Q144.075 960.242 144.075 951.516 Q144.075 942.766 147.13 938.182 Q150.209 933.576 156.019 933.576 Z\" fill=\"#000000\" fill-rule=\"evenodd\" fill-opacity=\"1\" /><path clip-path=\"url(#clip480)\" d=\"M186.181 937.28 Q182.57 937.28 180.741 940.844 Q178.936 944.386 178.936 951.516 Q178.936 958.622 180.741 962.187 Q182.57 965.728 186.181 965.728 Q189.815 965.728 191.621 962.187 Q193.45 958.622 193.45 951.516 Q193.45 944.386 191.621 940.844 Q189.815 937.28 186.181 937.28 M186.181 933.576 Q191.991 933.576 195.047 938.182 Q198.125 942.766 198.125 951.516 Q198.125 960.242 195.047 964.849 Q191.991 969.432 186.181 969.432 Q180.371 969.432 177.292 964.849 Q174.237 960.242 174.237 951.516 Q174.237 942.766 177.292 938.182 Q180.371 933.576 186.181 933.576 Z\" fill=\"#000000\" fill-rule=\"evenodd\" fill-opacity=\"1\" /><path clip-path=\"url(#clip480)\" d=\"M20.9241 1218.13 Q21.536 1218.13 22.0513 1218.26 L33.5165 1220.06 Q34.3861 1220.16 34.7082 1220.35 Q35.0302 1220.51 35.0302 1221.03 Q35.0302 1221.83 34.1929 1221.83 Q33.7098 1221.83 32.9368 1221.64 Q29.2976 1221.09 27.6551 1221.09 Q26.5601 1221.09 25.7549 1221.32 Q24.9176 1221.51 24.3379 1221.83 Q23.7582 1222.12 23.3717 1222.8 Q22.9852 1223.47 22.7598 1224.12 Q22.5343 1224.76 22.4377 1225.92 Q22.3089 1227.08 22.2767 1228.08 Q22.2445 1229.08 22.2445 1230.72 Q22.2445 1234.3 22.3733 1234.88 Q22.5343 1235.49 23.0174 1235.81 Q23.4683 1236.1 24.821 1236.42 L59.8287 1245.18 L61.2136 1245.44 Q61.9865 1245.44 62.2442 1244.96 Q62.5018 1244.47 62.6628 1242.99 Q62.8239 1240.87 62.8239 1238.77 Q62.8239 1238.71 62.8239 1238.58 Q62.8239 1237.87 62.8561 1237.58 Q62.8561 1237.29 62.9205 1237 Q62.9849 1236.71 63.1459 1236.65 Q63.2748 1236.55 63.5324 1236.55 Q64.1443 1236.55 64.4664 1236.81 Q64.7562 1237.07 64.8206 1237.32 Q64.8528 1237.55 64.8528 1238 Q64.8528 1238.9 64.7884 1240.83 Q64.724 1242.77 64.724 1243.73 L64.6596 1249.21 L64.724 1254.81 Q64.724 1255.68 64.7884 1257.52 Q64.8528 1259.35 64.8528 1260.22 Q64.8528 1261.35 64.0477 1261.35 Q63.1459 1261.35 62.9849 1260.93 Q62.8239 1260.48 62.8239 1258.58 Q62.8239 1255.91 62.6951 1254.46 Q62.5662 1253.01 62.1153 1252.23 Q61.6645 1251.43 61.2136 1251.2 Q60.7305 1250.98 59.6355 1250.72 L24.4345 1241.86 Q23.6615 1241.61 23.0496 1241.61 Q22.7276 1241.61 22.5988 1241.7 Q22.4699 1241.77 22.3733 1242.19 Q22.2445 1242.61 22.2445 1243.47 L22.2445 1246.05 Q22.2445 1248.69 22.3733 1250.33 Q22.4699 1251.94 22.953 1253.49 Q23.4361 1255 24.1124 1255.91 Q24.7888 1256.78 26.1736 1257.74 Q27.5585 1258.71 29.2332 1259.42 Q30.9079 1260.09 33.6454 1261.06 Q34.5471 1261.38 34.8048 1261.57 Q35.0302 1261.74 35.0302 1262.19 Q35.0302 1262.51 34.837 1262.77 Q34.6115 1262.99 34.3217 1262.99 Q33.2589 1262.67 33.1301 1262.6 L21.5038 1258.64 Q20.5698 1258.32 20.4088 1258.03 Q20.2155 1257.71 20.2155 1256.52 L20.2155 1219.93 Q20.2155 1219.35 20.2155 1219.16 Q20.2155 1218.97 20.2799 1218.64 Q20.3443 1218.32 20.5054 1218.23 Q20.6664 1218.13 20.9241 1218.13 Z\" fill=\"#000000\" fill-rule=\"evenodd\" fill-opacity=\"1\" /><path clip-path=\"url(#clip480)\" d=\"M65.7254 1192.73 Q66.9202 1192.73 67.6867 1193.52 Q68.4532 1194.28 68.4532 1195.28 Q68.4532 1196.13 67.9572 1196.58 Q67.4613 1197.03 66.83 1197.03 Q65.9283 1197.03 65.1843 1196.33 Q64.4403 1195.64 64.2825 1194.62 Q63.7415 1195.37 63.7415 1196.56 Q63.7415 1198.52 65.2519 1200.26 Q65.9508 1201.02 67.2358 1201.86 Q68.4983 1202.69 69.0393 1202.85 L75.0586 1204.32 Q75.7349 1204.45 78.9813 1205.28 Q82.2051 1206.1 82.3404 1206.16 Q82.9716 1206.39 83.3098 1206.89 Q83.6479 1207.38 83.6479 1207.88 Q83.6479 1208.44 83.3098 1208.82 Q82.9716 1209.21 82.3855 1209.21 Q82.2953 1209.21 81.9571 1209.14 Q81.619 1209.07 81.1455 1208.96 Q80.6721 1208.85 80.4016 1208.8 L69.7382 1206.12 Q67.7994 1205.62 67.1907 1205.51 Q66.5595 1205.37 65.8606 1205.37 Q64.6432 1205.37 64.1924 1205.76 Q63.7415 1206.14 63.7415 1206.82 Q63.7415 1207.99 65.1392 1208.76 Q66.5369 1209.52 69.2422 1210.18 Q69.9862 1210.38 70.144 1210.52 Q70.3018 1210.63 70.3018 1210.97 Q70.2793 1211.53 69.8284 1211.53 Q69.7157 1211.53 68.9943 1211.35 Q68.2503 1211.17 67.1682 1210.83 Q66.0635 1210.47 65.3647 1210.09 Q64.8912 1209.86 64.5756 1209.66 Q64.26 1209.46 63.764 1209.05 Q63.2681 1208.64 62.9975 1208.04 Q62.727 1207.43 62.727 1206.68 Q62.727 1205.06 63.7189 1203.91 Q64.7109 1202.74 66.2664 1202.47 Q65.4548 1201.9 64.756 1201.2 Q64.0346 1200.51 63.3808 1199.22 Q62.727 1197.94 62.727 1196.56 Q62.727 1194.85 63.6062 1193.79 Q64.4629 1192.73 65.7254 1192.73 Z\" fill=\"#000000\" fill-rule=\"evenodd\" fill-opacity=\"1\" /><path clip-path=\"url(#clip480)\" d=\"M83.1294 1189.44 Q82.2953 1189.44 82.0473 1189.37 Q81.7993 1189.28 81.4161 1188.92 L71.5417 1180.06 Q66.0861 1175.22 61.3293 1175.22 Q58.2407 1175.22 56.0314 1176.84 Q53.8221 1178.44 53.8221 1181.39 Q53.8221 1183.42 55.062 1185.14 Q56.3019 1186.85 58.5112 1187.64 Q58.4662 1187.5 58.4662 1187.03 Q58.4662 1185.88 59.1876 1185.25 Q59.909 1184.59 60.8784 1184.59 Q62.1183 1184.59 62.727 1185.41 Q63.3131 1186.2 63.3131 1186.98 Q63.3131 1187.3 63.2455 1187.73 Q63.1779 1188.13 62.5466 1188.79 Q61.8929 1189.44 60.7431 1189.44 Q57.5193 1189.44 54.9493 1187.01 Q52.3793 1184.55 52.3793 1180.81 Q52.3793 1176.57 54.9042 1173.8 Q57.4066 1171 61.3293 1171 Q62.7045 1171 63.9669 1171.43 Q65.2068 1171.83 66.1762 1172.4 Q67.1456 1172.94 68.7012 1174.43 Q70.2567 1175.92 71.3614 1177.11 Q72.466 1178.3 74.8106 1180.99 L79.5674 1185.88 L79.5674 1177.56 Q79.5674 1173.5 79.2067 1173.19 Q78.553 1172.74 75.1037 1172.17 L75.1037 1171 L83.1294 1172.31 L83.1294 1189.44 Z\" fill=\"#000000\" fill-rule=\"evenodd\" fill-opacity=\"1\" /><path clip-path=\"url(#clip480)\" d=\"M81.3422 1159.54 L15.3846 1159.54 L15.3846 1149.59 L16.8983 1149.59 L16.8983 1155.12 L79.8286 1155.12 L79.8286 1149.59 L81.3422 1149.59 L81.3422 1159.54 Z\" fill=\"#000000\" fill-rule=\"evenodd\" fill-opacity=\"1\" /><path clip-path=\"url(#clip480)\" d=\"M20.5376 1091.06 Q20.9563 1091.06 21.2461 1091.16 Q21.5038 1091.25 21.6326 1091.48 Q21.7614 1091.7 21.7936 1091.83 Q21.8258 1091.96 21.858 1092.25 Q21.9868 1093.64 22.2123 1094.6 Q22.4377 1095.54 23.5971 1097.86 Q24.7565 1100.14 26.8499 1103.01 L35.771 1114.54 L37.2846 1116.47 Q37.3812 1116.47 37.5745 1116.41 Q37.7355 1116.34 37.961 1116.28 Q38.1542 1116.18 38.2186 1116.15 L59.8287 1106.78 Q61.5678 1106.04 62.1798 1105.13 Q62.7917 1104.23 62.8239 1102.2 Q62.8239 1101.88 62.8561 1101.75 Q62.8561 1101.59 62.9205 1101.37 Q62.9527 1101.11 63.1137 1101.01 Q63.2748 1100.88 63.5324 1100.88 Q64.8528 1100.88 64.8528 1102.07 Q64.8528 1102.81 64.7562 1105.33 Q64.6596 1107.84 64.6596 1108.55 Q64.6596 1109.87 64.7562 1112.57 Q64.8528 1115.28 64.8528 1116.6 Q64.8528 1117.53 64.1121 1117.53 Q63.5002 1117.53 63.2103 1117.31 Q62.8883 1117.05 62.8561 1116.82 Q62.8239 1116.6 62.8239 1116.08 Q62.8239 1115.7 62.7917 1115.28 Q62.7273 1114.83 62.5662 1114.18 Q62.373 1113.51 61.9221 1113.09 Q61.439 1112.64 60.7627 1112.64 Q60.2152 1112.64 58.4439 1113.44 L40.6984 1121.08 L48.3634 1130.9 L58.7337 1133.54 Q59.1202 1133.6 59.7965 1133.76 Q60.4728 1133.93 60.9559 1134.05 Q61.439 1134.15 61.6323 1134.15 Q62.0509 1134.15 62.3086 1133.89 Q62.5662 1133.6 62.6951 1132.9 Q62.7917 1132.19 62.8239 1131.64 Q62.8239 1131.06 62.8239 1129.87 Q62.8239 1128.39 63.0815 1128.13 Q63.2426 1128 63.5324 1128 Q63.9833 1128 64.3053 1128.13 Q64.5952 1128.26 64.6918 1128.52 Q64.7884 1128.74 64.8206 1128.9 Q64.8528 1129.06 64.8528 1129.32 Q64.8528 1130 64.7884 1131.45 Q64.724 1132.86 64.724 1133.6 L64.6596 1137.82 L64.8528 1146.2 Q64.8528 1147.19 64.0477 1147.19 Q63.4358 1147.19 63.1781 1146.94 Q62.8883 1146.68 62.8561 1146.39 Q62.8239 1146.1 62.8239 1145.36 Q62.8239 1143.75 62.7273 1142.78 Q62.6306 1141.82 62.5018 1141.2 Q62.3408 1140.56 61.8899 1140.24 Q61.439 1139.88 61.0526 1139.72 Q60.6339 1139.56 59.6999 1139.34 L24.2735 1130.51 Q23.2107 1130.25 23.0496 1130.25 Q22.5021 1130.25 22.3089 1130.58 Q22.0835 1130.87 21.9868 1131.7 Q21.858 1133.31 21.858 1134.54 Q21.858 1135.34 21.8258 1135.66 Q21.7936 1135.95 21.6326 1136.21 Q21.4393 1136.44 21.0529 1136.44 Q19.7968 1136.44 19.7968 1135.12 L19.9901 1126.61 L19.7968 1118.18 Q19.7968 1117.24 20.5376 1117.24 Q21.4715 1117.24 21.6648 1117.69 Q21.858 1118.11 21.858 1119.5 Q21.858 1121.91 22.1801 1123.01 Q22.4699 1124.07 22.9852 1124.39 Q23.4683 1124.68 24.8854 1125.04 L46.0446 1130.32 L26.2702 1104.59 Q24.2735 1102.2 23.2429 1102.2 Q22.5665 1102.2 22.2767 1102.69 Q21.9546 1103.14 21.858 1104.26 Q21.7292 1105.07 21.1173 1105.07 Q20.5054 1105.07 20.2155 1104.84 Q19.8935 1104.59 19.8613 1104.39 Q19.7968 1104.17 19.7968 1103.81 Q19.7968 1102.62 19.8935 1100.14 Q19.9901 1097.66 19.9901 1096.47 Q19.9901 1095.67 19.8935 1094.09 Q19.7968 1092.51 19.7968 1091.8 Q19.7968 1091.45 20.0545 1091.25 Q20.2799 1091.06 20.5376 1091.06 Z\" fill=\"#000000\" fill-rule=\"evenodd\" fill-opacity=\"1\" /><path clip-path=\"url(#clip480)\" d=\"M79.8286 1088.85 L79.8286 1083.31 L16.8983 1083.31 L16.8983 1088.85 L15.3846 1088.85 L15.3846 1078.9 L81.3422 1078.9 L81.3422 1088.85 L79.8286 1088.85 Z\" fill=\"#000000\" fill-rule=\"evenodd\" fill-opacity=\"1\" /><polyline clip-path=\"url(#clip484)\" style=\"stroke:#000000; stroke-linecap:round; stroke-linejoin:round; stroke-width:4; stroke-opacity:1; fill:none\" stroke-dasharray=\"2, 4\" points=\"294.087,865.335 345.336,865.335 396.585,865.335 447.833,865.335 499.082,865.335 550.331,865.335 601.58,865.335 652.829,865.335 704.078,865.335 755.327,865.335 806.576,865.335 857.825,865.335 909.074,865.335 960.323,865.335 1011.57,865.335 1062.82,865.335 1114.07,865.335 1165.32,865.335 1216.57,865.335 1267.82,865.335 1319.07,865.335 1370.31,865.335 1421.56,865.335 1472.81,865.335 1524.06,865.335 1575.31,865.335 1626.56,865.335 1677.81,865.335 1729.06,865.335 1780.31,865.335 1831.55,865.335 1882.8,865.335 1934.05,865.335 1985.3,865.335 2036.55,865.335 2087.8,865.335 2139.05,865.335 2190.3,865.335 2241.55,865.335 2292.79,865.335 \"/>\n",
       "<polyline clip-path=\"url(#clip484)\" style=\"stroke:#ff0000; stroke-linecap:round; stroke-linejoin:round; stroke-width:12; stroke-opacity:0.3; fill:none\" points=\"294.087,1468.36 345.336,1468.36 396.585,1468.36 447.833,1468.36 499.082,1468.36 550.331,1468.36 601.58,1468.36 652.829,1468.36 704.078,1468.36 755.327,1468.36 806.576,1468.36 857.825,1468.36 909.074,1468.36 960.323,1468.36 1011.57,1468.36 1062.82,1468.36 1114.07,1468.36 1165.32,1468.36 1216.57,1468.36 1267.82,1468.36 1319.07,1468.36 1370.31,1468.36 1421.56,1468.36 1472.81,1468.36 1524.06,1468.36 1575.31,1468.36 1626.56,1468.36 1677.81,1468.36 1729.06,1468.36 1780.31,1468.36 1831.55,1468.36 1882.8,1468.36 1934.05,1468.36 1985.3,1468.36 2036.55,1468.36 2087.8,1468.36 2139.05,1468.36 2190.3,1468.36 2241.55,1468.36 2292.79,1468.36 \"/>\n",
       "<polyline clip-path=\"url(#clip484)\" style=\"stroke:#0000ff; stroke-linecap:round; stroke-linejoin:round; stroke-width:12; stroke-opacity:0.3; fill:none\" points=\"294.087,1468.36 345.336,1468.36 396.585,1468.36 447.833,1468.36 499.082,1468.36 550.331,1468.36 601.58,1468.36 652.829,1468.36 704.078,1468.36 755.327,1468.36 806.576,1468.36 857.825,1468.36 909.074,1468.36 960.323,1468.36 1011.57,1468.36 1062.82,1468.36 1114.07,1468.36 1165.32,1468.36 1216.57,1468.36 1267.82,1468.36 1319.07,1468.36 1370.31,1468.36 1421.56,1468.36 1472.81,1468.36 1524.06,1468.36 1575.31,1468.36 1626.56,1468.36 1677.81,1468.36 1729.06,1468.36 1780.31,1468.36 1831.55,1468.36 1882.8,1468.36 1934.05,1468.36 1985.3,1468.36 2036.55,1468.36 2087.8,1468.36 2139.05,1468.36 2190.3,1468.36 2241.55,1468.36 2292.79,1468.36 \"/>\n",
       "</svg>\n"
      ]
     },
     "metadata": {},
     "output_type": "display_data"
    }
   ],
   "source": [
    "p5 = plot(layout = (num_subplots, 1),fmt = :svg, resolution = (600, 400), latex=true,gridlinewidth=2,legend=:topleft) \n",
    "\n",
    "# Loop to generate subplots \n",
    "for mm in 1:num_subplots \n",
    "    # limits\n",
    "    plot!(subplot=mm,ts,Tr_max*ones(length(ts)),linestyle = :dot,linecolor = :black,label=\"\")\n",
    "    \n",
    "    for nn in 1:n_MC\n",
    "        plot!(subplot=mm,ts,TrPlant[2,:,nn,mm],linewidth=3,linealpha = 0.3,linecolor = CList[nn],legend=false)\n",
    "    end\n",
    "    \n",
    "    # Add labels, titles, or other customizations to each subplot \n",
    "    ylabel!(L\"T_{r2} [K]\") \n",
    "end \n",
    "\n",
    "# Display the subplots \n",
    "display(p5)"
   ]
  },
  {
   "cell_type": "code",
   "execution_count": 25,
   "id": "e849c224",
   "metadata": {},
   "outputs": [
    {
     "data": {
      "image/svg+xml": [
       "<?xml version=\"1.0\" encoding=\"utf-8\"?>\n",
       "<svg xmlns=\"http://www.w3.org/2000/svg\" xmlns:xlink=\"http://www.w3.org/1999/xlink\" width=\"600\" height=\"400\" viewBox=\"0 0 2400 1600\">\n",
       "<defs>\n",
       "  <clipPath id=\"clip520\">\n",
       "    <rect x=\"0\" y=\"0\" width=\"2400\" height=\"1600\"/>\n",
       "  </clipPath>\n",
       "</defs>\n",
       "<path clip-path=\"url(#clip520)\" d=\"M0 1600 L2400 1600 L2400 0 L0 0  Z\" fill=\"#ffffff\" fill-rule=\"evenodd\" fill-opacity=\"1\"/>\n",
       "<defs>\n",
       "  <clipPath id=\"clip521\">\n",
       "    <rect x=\"480\" y=\"0\" width=\"1681\" height=\"1600\"/>\n",
       "  </clipPath>\n",
       "</defs>\n",
       "<defs>\n",
       "  <clipPath id=\"clip522\">\n",
       "    <rect x=\"234\" y=\"847\" width=\"2120\" height=\"640\"/>\n",
       "  </clipPath>\n",
       "</defs>\n",
       "<path clip-path=\"url(#clip520)\" d=\"M244.33 686.448 L2352.76 686.448 L2352.76 47.2441 L244.33 47.2441  Z\" fill=\"#ffffff\" fill-rule=\"evenodd\" fill-opacity=\"1\"/>\n",
       "<defs>\n",
       "  <clipPath id=\"clip523\">\n",
       "    <rect x=\"244\" y=\"47\" width=\"2109\" height=\"640\"/>\n",
       "  </clipPath>\n",
       "</defs>\n",
       "<polyline clip-path=\"url(#clip523)\" style=\"stroke:#000000; stroke-linecap:round; stroke-linejoin:round; stroke-width:8; stroke-opacity:0.1; fill:none\" points=\"253,686.448 253,47.2441 \"/>\n",
       "<polyline clip-path=\"url(#clip523)\" style=\"stroke:#000000; stroke-linecap:round; stroke-linejoin:round; stroke-width:8; stroke-opacity:0.1; fill:none\" points=\"763.021,686.448 763.021,47.2441 \"/>\n",
       "<polyline clip-path=\"url(#clip523)\" style=\"stroke:#000000; stroke-linecap:round; stroke-linejoin:round; stroke-width:8; stroke-opacity:0.1; fill:none\" points=\"1273.04,686.448 1273.04,47.2441 \"/>\n",
       "<polyline clip-path=\"url(#clip523)\" style=\"stroke:#000000; stroke-linecap:round; stroke-linejoin:round; stroke-width:8; stroke-opacity:0.1; fill:none\" points=\"1783.06,686.448 1783.06,47.2441 \"/>\n",
       "<polyline clip-path=\"url(#clip523)\" style=\"stroke:#000000; stroke-linecap:round; stroke-linejoin:round; stroke-width:8; stroke-opacity:0.1; fill:none\" points=\"2293.08,686.448 2293.08,47.2441 \"/>\n",
       "<polyline clip-path=\"url(#clip520)\" style=\"stroke:#000000; stroke-linecap:round; stroke-linejoin:round; stroke-width:4; stroke-opacity:1; fill:none\" points=\"244.33,686.448 2352.76,686.448 \"/>\n",
       "<polyline clip-path=\"url(#clip520)\" style=\"stroke:#000000; stroke-linecap:round; stroke-linejoin:round; stroke-width:4; stroke-opacity:1; fill:none\" points=\"253,686.448 253,667.55 \"/>\n",
       "<polyline clip-path=\"url(#clip520)\" style=\"stroke:#000000; stroke-linecap:round; stroke-linejoin:round; stroke-width:4; stroke-opacity:1; fill:none\" points=\"763.021,686.448 763.021,667.55 \"/>\n",
       "<polyline clip-path=\"url(#clip520)\" style=\"stroke:#000000; stroke-linecap:round; stroke-linejoin:round; stroke-width:4; stroke-opacity:1; fill:none\" points=\"1273.04,686.448 1273.04,667.55 \"/>\n",
       "<polyline clip-path=\"url(#clip520)\" style=\"stroke:#000000; stroke-linecap:round; stroke-linejoin:round; stroke-width:4; stroke-opacity:1; fill:none\" points=\"1783.06,686.448 1783.06,667.55 \"/>\n",
       "<polyline clip-path=\"url(#clip520)\" style=\"stroke:#000000; stroke-linecap:round; stroke-linejoin:round; stroke-width:4; stroke-opacity:1; fill:none\" points=\"2293.08,686.448 2293.08,667.55 \"/>\n",
       "<path clip-path=\"url(#clip520)\" d=\"M253 717.367 Q249.389 717.367 247.56 720.931 Q245.755 724.473 245.755 731.603 Q245.755 738.709 247.56 742.274 Q249.389 745.815 253 745.815 Q256.634 745.815 258.44 742.274 Q260.268 738.709 260.268 731.603 Q260.268 724.473 258.44 720.931 Q256.634 717.367 253 717.367 M253 713.663 Q258.81 713.663 261.866 718.269 Q264.944 722.853 264.944 731.603 Q264.944 740.329 261.866 744.936 Q258.81 749.519 253 749.519 Q247.19 749.519 244.111 744.936 Q241.056 740.329 241.056 731.603 Q241.056 722.853 244.111 718.269 Q247.19 713.663 253 713.663 Z\" fill=\"#000000\" fill-rule=\"evenodd\" fill-opacity=\"1\" /><path clip-path=\"url(#clip520)\" d=\"M737.708 744.913 L745.347 744.913 L745.347 718.547 L737.037 720.214 L737.037 715.955 L745.301 714.288 L749.977 714.288 L749.977 744.913 L757.616 744.913 L757.616 748.848 L737.708 748.848 L737.708 744.913 Z\" fill=\"#000000\" fill-rule=\"evenodd\" fill-opacity=\"1\" /><path clip-path=\"url(#clip520)\" d=\"M777.06 717.367 Q773.449 717.367 771.62 720.931 Q769.815 724.473 769.815 731.603 Q769.815 738.709 771.62 742.274 Q773.449 745.815 777.06 745.815 Q780.694 745.815 782.5 742.274 Q784.329 738.709 784.329 731.603 Q784.329 724.473 782.5 720.931 Q780.694 717.367 777.06 717.367 M777.06 713.663 Q782.87 713.663 785.926 718.269 Q789.005 722.853 789.005 731.603 Q789.005 740.329 785.926 744.936 Q782.87 749.519 777.06 749.519 Q771.25 749.519 768.171 744.936 Q765.116 740.329 765.116 731.603 Q765.116 722.853 768.171 718.269 Q771.25 713.663 777.06 713.663 Z\" fill=\"#000000\" fill-rule=\"evenodd\" fill-opacity=\"1\" /><path clip-path=\"url(#clip520)\" d=\"M1251.81 744.913 L1268.13 744.913 L1268.13 748.848 L1246.19 748.848 L1246.19 744.913 Q1248.85 742.158 1253.44 737.528 Q1258.04 732.876 1259.22 731.533 Q1261.47 729.01 1262.35 727.274 Q1263.25 725.515 1263.25 723.825 Q1263.25 721.07 1261.31 719.334 Q1259.38 717.598 1256.28 717.598 Q1254.08 717.598 1251.63 718.362 Q1249.2 719.126 1246.42 720.677 L1246.42 715.955 Q1249.25 714.82 1251.7 714.242 Q1254.15 713.663 1256.19 713.663 Q1261.56 713.663 1264.75 716.348 Q1267.95 719.033 1267.95 723.524 Q1267.95 725.654 1267.14 727.575 Q1266.35 729.473 1264.25 732.066 Q1263.67 732.737 1260.56 735.954 Q1257.46 739.149 1251.81 744.913 Z\" fill=\"#000000\" fill-rule=\"evenodd\" fill-opacity=\"1\" /><path clip-path=\"url(#clip520)\" d=\"M1287.95 717.367 Q1284.34 717.367 1282.51 720.931 Q1280.7 724.473 1280.7 731.603 Q1280.7 738.709 1282.51 742.274 Q1284.34 745.815 1287.95 745.815 Q1291.58 745.815 1293.39 742.274 Q1295.22 738.709 1295.22 731.603 Q1295.22 724.473 1293.39 720.931 Q1291.58 717.367 1287.95 717.367 M1287.95 713.663 Q1293.76 713.663 1296.81 718.269 Q1299.89 722.853 1299.89 731.603 Q1299.89 740.329 1296.81 744.936 Q1293.76 749.519 1287.95 749.519 Q1282.14 749.519 1279.06 744.936 Q1276 740.329 1276 731.603 Q1276 722.853 1279.06 718.269 Q1282.14 713.663 1287.95 713.663 Z\" fill=\"#000000\" fill-rule=\"evenodd\" fill-opacity=\"1\" /><path clip-path=\"url(#clip520)\" d=\"M1771.91 730.214 Q1775.26 730.931 1777.14 733.2 Q1779.03 735.468 1779.03 738.802 Q1779.03 743.917 1775.52 746.718 Q1772 749.519 1765.52 749.519 Q1763.34 749.519 1761.03 749.079 Q1758.73 748.663 1756.28 747.806 L1756.28 743.292 Q1758.22 744.427 1760.54 745.005 Q1762.85 745.584 1765.38 745.584 Q1769.78 745.584 1772.07 743.848 Q1774.38 742.112 1774.38 738.802 Q1774.38 735.746 1772.23 734.033 Q1770.1 732.297 1766.28 732.297 L1762.25 732.297 L1762.25 728.454 L1766.47 728.454 Q1769.91 728.454 1771.74 727.089 Q1773.57 725.7 1773.57 723.107 Q1773.57 720.445 1771.67 719.033 Q1769.8 717.598 1766.28 717.598 Q1764.36 717.598 1762.16 718.015 Q1759.96 718.431 1757.32 719.311 L1757.32 715.144 Q1759.98 714.404 1762.3 714.033 Q1764.64 713.663 1766.7 713.663 Q1772.02 713.663 1775.12 716.093 Q1778.22 718.501 1778.22 722.621 Q1778.22 725.492 1776.58 727.482 Q1774.94 729.45 1771.91 730.214 Z\" fill=\"#000000\" fill-rule=\"evenodd\" fill-opacity=\"1\" /><path clip-path=\"url(#clip520)\" d=\"M1797.9 717.367 Q1794.29 717.367 1792.46 720.931 Q1790.66 724.473 1790.66 731.603 Q1790.66 738.709 1792.46 742.274 Q1794.29 745.815 1797.9 745.815 Q1801.53 745.815 1803.34 742.274 Q1805.17 738.709 1805.17 731.603 Q1805.17 724.473 1803.34 720.931 Q1801.53 717.367 1797.9 717.367 M1797.9 713.663 Q1803.71 713.663 1806.77 718.269 Q1809.84 722.853 1809.84 731.603 Q1809.84 740.329 1806.77 744.936 Q1803.71 749.519 1797.9 749.519 Q1792.09 749.519 1789.01 744.936 Q1785.96 740.329 1785.96 731.603 Q1785.96 722.853 1789.01 718.269 Q1792.09 713.663 1797.9 713.663 Z\" fill=\"#000000\" fill-rule=\"evenodd\" fill-opacity=\"1\" /><path clip-path=\"url(#clip520)\" d=\"M2281.25 718.362 L2269.45 736.811 L2281.25 736.811 L2281.25 718.362 M2280.03 714.288 L2285.91 714.288 L2285.91 736.811 L2290.84 736.811 L2290.84 740.7 L2285.91 740.7 L2285.91 748.848 L2281.25 748.848 L2281.25 740.7 L2265.65 740.7 L2265.65 736.186 L2280.03 714.288 Z\" fill=\"#000000\" fill-rule=\"evenodd\" fill-opacity=\"1\" /><path clip-path=\"url(#clip520)\" d=\"M2308.57 717.367 Q2304.96 717.367 2303.13 720.931 Q2301.32 724.473 2301.32 731.603 Q2301.32 738.709 2303.13 742.274 Q2304.96 745.815 2308.57 745.815 Q2312.2 745.815 2314.01 742.274 Q2315.84 738.709 2315.84 731.603 Q2315.84 724.473 2314.01 720.931 Q2312.2 717.367 2308.57 717.367 M2308.57 713.663 Q2314.38 713.663 2317.44 718.269 Q2320.51 722.853 2320.51 731.603 Q2320.51 740.329 2317.44 744.936 Q2314.38 749.519 2308.57 749.519 Q2302.76 749.519 2299.68 744.936 Q2296.63 740.329 2296.63 731.603 Q2296.63 722.853 2299.68 718.269 Q2302.76 713.663 2308.57 713.663 Z\" fill=\"#000000\" fill-rule=\"evenodd\" fill-opacity=\"1\" /><polyline clip-path=\"url(#clip523)\" style=\"stroke:#000000; stroke-linecap:round; stroke-linejoin:round; stroke-width:8; stroke-opacity:0.1; fill:none\" points=\"244.33,668.357 2352.76,668.357 \"/>\n",
       "<polyline clip-path=\"url(#clip523)\" style=\"stroke:#000000; stroke-linecap:round; stroke-linejoin:round; stroke-width:8; stroke-opacity:0.1; fill:none\" points=\"244.33,500.851 2352.76,500.851 \"/>\n",
       "<polyline clip-path=\"url(#clip523)\" style=\"stroke:#000000; stroke-linecap:round; stroke-linejoin:round; stroke-width:8; stroke-opacity:0.1; fill:none\" points=\"244.33,333.345 2352.76,333.345 \"/>\n",
       "<polyline clip-path=\"url(#clip523)\" style=\"stroke:#000000; stroke-linecap:round; stroke-linejoin:round; stroke-width:8; stroke-opacity:0.1; fill:none\" points=\"244.33,165.839 2352.76,165.839 \"/>\n",
       "<polyline clip-path=\"url(#clip520)\" style=\"stroke:#000000; stroke-linecap:round; stroke-linejoin:round; stroke-width:4; stroke-opacity:1; fill:none\" points=\"244.33,686.448 244.33,47.2441 \"/>\n",
       "<polyline clip-path=\"url(#clip520)\" style=\"stroke:#000000; stroke-linecap:round; stroke-linejoin:round; stroke-width:4; stroke-opacity:1; fill:none\" points=\"244.33,668.357 263.227,668.357 \"/>\n",
       "<polyline clip-path=\"url(#clip520)\" style=\"stroke:#000000; stroke-linecap:round; stroke-linejoin:round; stroke-width:4; stroke-opacity:1; fill:none\" points=\"244.33,500.851 263.227,500.851 \"/>\n",
       "<polyline clip-path=\"url(#clip520)\" style=\"stroke:#000000; stroke-linecap:round; stroke-linejoin:round; stroke-width:4; stroke-opacity:1; fill:none\" points=\"244.33,333.345 263.227,333.345 \"/>\n",
       "<polyline clip-path=\"url(#clip520)\" style=\"stroke:#000000; stroke-linecap:round; stroke-linejoin:round; stroke-width:4; stroke-opacity:1; fill:none\" points=\"244.33,165.839 263.227,165.839 \"/>\n",
       "<path clip-path=\"url(#clip520)\" d=\"M196.385 654.156 Q192.774 654.156 190.945 657.721 Q189.14 661.262 189.14 668.392 Q189.14 675.498 190.945 679.063 Q192.774 682.605 196.385 682.605 Q200.019 682.605 201.825 679.063 Q203.654 675.498 203.654 668.392 Q203.654 661.262 201.825 657.721 Q200.019 654.156 196.385 654.156 M196.385 650.452 Q202.195 650.452 205.251 655.059 Q208.33 659.642 208.33 668.392 Q208.33 677.119 205.251 681.725 Q202.195 686.308 196.385 686.308 Q190.575 686.308 187.496 681.725 Q184.441 677.119 184.441 668.392 Q184.441 659.642 187.496 655.059 Q190.575 650.452 196.385 650.452 Z\" fill=\"#000000\" fill-rule=\"evenodd\" fill-opacity=\"1\" /><path clip-path=\"url(#clip520)\" d=\"M126.872 514.196 L134.511 514.196 L134.511 487.83 L126.2 489.497 L126.2 485.238 L134.464 483.571 L139.14 483.571 L139.14 514.196 L146.779 514.196 L146.779 518.131 L126.872 518.131 L126.872 514.196 Z\" fill=\"#000000\" fill-rule=\"evenodd\" fill-opacity=\"1\" /><path clip-path=\"url(#clip520)\" d=\"M166.223 486.65 Q162.612 486.65 160.784 490.214 Q158.978 493.756 158.978 500.886 Q158.978 507.992 160.784 511.557 Q162.612 515.099 166.223 515.099 Q169.858 515.099 171.663 511.557 Q173.492 507.992 173.492 500.886 Q173.492 493.756 171.663 490.214 Q169.858 486.65 166.223 486.65 M166.223 482.946 Q172.034 482.946 175.089 487.552 Q178.168 492.136 178.168 500.886 Q178.168 509.612 175.089 514.219 Q172.034 518.802 166.223 518.802 Q160.413 518.802 157.335 514.219 Q154.279 509.612 154.279 500.886 Q154.279 492.136 157.335 487.552 Q160.413 482.946 166.223 482.946 Z\" fill=\"#000000\" fill-rule=\"evenodd\" fill-opacity=\"1\" /><path clip-path=\"url(#clip520)\" d=\"M196.385 486.65 Q192.774 486.65 190.945 490.214 Q189.14 493.756 189.14 500.886 Q189.14 507.992 190.945 511.557 Q192.774 515.099 196.385 515.099 Q200.019 515.099 201.825 511.557 Q203.654 507.992 203.654 500.886 Q203.654 493.756 201.825 490.214 Q200.019 486.65 196.385 486.65 M196.385 482.946 Q202.195 482.946 205.251 487.552 Q208.33 492.136 208.33 500.886 Q208.33 509.612 205.251 514.219 Q202.195 518.802 196.385 518.802 Q190.575 518.802 187.496 514.219 Q184.441 509.612 184.441 500.886 Q184.441 492.136 187.496 487.552 Q190.575 482.946 196.385 482.946 Z\" fill=\"#000000\" fill-rule=\"evenodd\" fill-opacity=\"1\" /><path clip-path=\"url(#clip520)\" d=\"M130.089 346.69 L146.409 346.69 L146.409 350.625 L124.464 350.625 L124.464 346.69 Q127.126 343.935 131.71 339.305 Q136.316 334.653 137.497 333.31 Q139.742 330.787 140.622 329.051 Q141.524 327.292 141.524 325.602 Q141.524 322.847 139.58 321.111 Q137.659 319.375 134.557 319.375 Q132.358 319.375 129.904 320.139 Q127.474 320.903 124.696 322.454 L124.696 317.731 Q127.52 316.597 129.974 316.018 Q132.427 315.44 134.464 315.44 Q139.835 315.44 143.029 318.125 Q146.223 320.81 146.223 325.301 Q146.223 327.43 145.413 329.352 Q144.626 331.25 142.52 333.842 Q141.941 334.514 138.839 337.731 Q135.737 340.926 130.089 346.69 Z\" fill=\"#000000\" fill-rule=\"evenodd\" fill-opacity=\"1\" /><path clip-path=\"url(#clip520)\" d=\"M166.223 319.143 Q162.612 319.143 160.784 322.708 Q158.978 326.25 158.978 333.379 Q158.978 340.486 160.784 344.051 Q162.612 347.592 166.223 347.592 Q169.858 347.592 171.663 344.051 Q173.492 340.486 173.492 333.379 Q173.492 326.25 171.663 322.708 Q169.858 319.143 166.223 319.143 M166.223 315.44 Q172.034 315.44 175.089 320.046 Q178.168 324.63 178.168 333.379 Q178.168 342.106 175.089 346.713 Q172.034 351.296 166.223 351.296 Q160.413 351.296 157.335 346.713 Q154.279 342.106 154.279 333.379 Q154.279 324.63 157.335 320.046 Q160.413 315.44 166.223 315.44 Z\" fill=\"#000000\" fill-rule=\"evenodd\" fill-opacity=\"1\" /><path clip-path=\"url(#clip520)\" d=\"M196.385 319.143 Q192.774 319.143 190.945 322.708 Q189.14 326.25 189.14 333.379 Q189.14 340.486 190.945 344.051 Q192.774 347.592 196.385 347.592 Q200.019 347.592 201.825 344.051 Q203.654 340.486 203.654 333.379 Q203.654 326.25 201.825 322.708 Q200.019 319.143 196.385 319.143 M196.385 315.44 Q202.195 315.44 205.251 320.046 Q208.33 324.63 208.33 333.379 Q208.33 342.106 205.251 346.713 Q202.195 351.296 196.385 351.296 Q190.575 351.296 187.496 346.713 Q184.441 342.106 184.441 333.379 Q184.441 324.63 187.496 320.046 Q190.575 315.44 196.385 315.44 Z\" fill=\"#000000\" fill-rule=\"evenodd\" fill-opacity=\"1\" /><path clip-path=\"url(#clip520)\" d=\"M140.228 164.484 Q143.585 165.202 145.46 167.47 Q147.358 169.739 147.358 173.072 Q147.358 178.188 143.839 180.989 Q140.321 183.79 133.839 183.79 Q131.663 183.79 129.349 183.35 Q127.057 182.933 124.603 182.077 L124.603 177.563 Q126.548 178.697 128.862 179.276 Q131.177 179.855 133.7 179.855 Q138.099 179.855 140.39 178.119 Q142.705 176.382 142.705 173.072 Q142.705 170.017 140.552 168.304 Q138.423 166.568 134.603 166.568 L130.575 166.568 L130.575 162.725 L134.788 162.725 Q138.237 162.725 140.066 161.359 Q141.895 159.97 141.895 157.378 Q141.895 154.716 139.997 153.304 Q138.122 151.869 134.603 151.869 Q132.682 151.869 130.483 152.285 Q128.284 152.702 125.645 153.582 L125.645 149.415 Q128.307 148.674 130.622 148.304 Q132.96 147.934 135.02 147.934 Q140.344 147.934 143.446 150.364 Q146.548 152.771 146.548 156.892 Q146.548 159.762 144.904 161.753 Q143.261 163.72 140.228 164.484 Z\" fill=\"#000000\" fill-rule=\"evenodd\" fill-opacity=\"1\" /><path clip-path=\"url(#clip520)\" d=\"M166.223 151.637 Q162.612 151.637 160.784 155.202 Q158.978 158.744 158.978 165.873 Q158.978 172.98 160.784 176.544 Q162.612 180.086 166.223 180.086 Q169.858 180.086 171.663 176.544 Q173.492 172.98 173.492 165.873 Q173.492 158.744 171.663 155.202 Q169.858 151.637 166.223 151.637 M166.223 147.934 Q172.034 147.934 175.089 152.54 Q178.168 157.123 178.168 165.873 Q178.168 174.6 175.089 179.206 Q172.034 183.79 166.223 183.79 Q160.413 183.79 157.335 179.206 Q154.279 174.6 154.279 165.873 Q154.279 157.123 157.335 152.54 Q160.413 147.934 166.223 147.934 Z\" fill=\"#000000\" fill-rule=\"evenodd\" fill-opacity=\"1\" /><path clip-path=\"url(#clip520)\" d=\"M196.385 151.637 Q192.774 151.637 190.945 155.202 Q189.14 158.744 189.14 165.873 Q189.14 172.98 190.945 176.544 Q192.774 180.086 196.385 180.086 Q200.019 180.086 201.825 176.544 Q203.654 172.98 203.654 165.873 Q203.654 158.744 201.825 155.202 Q200.019 151.637 196.385 151.637 M196.385 147.934 Q202.195 147.934 205.251 152.54 Q208.33 157.123 208.33 165.873 Q208.33 174.6 205.251 179.206 Q202.195 183.79 196.385 183.79 Q190.575 183.79 187.496 179.206 Q184.441 174.6 184.441 165.873 Q184.441 157.123 187.496 152.54 Q190.575 147.934 196.385 147.934 Z\" fill=\"#000000\" fill-rule=\"evenodd\" fill-opacity=\"1\" /><path clip-path=\"url(#clip520)\" d=\"M34.4035 425.35 Q35.0154 425.35 35.5307 425.479 L46.996 427.282 Q47.8656 427.379 48.1876 427.572 Q48.5097 427.733 48.5097 428.249 Q48.5097 429.054 47.6723 429.054 Q47.1893 429.054 46.4163 428.861 Q42.7771 428.313 41.1346 428.313 Q40.0396 428.313 39.2344 428.539 Q38.3971 428.732 37.8174 429.054 Q37.2376 429.344 36.8512 430.02 Q36.4647 430.696 36.2393 431.34 Q36.0138 431.985 35.9172 433.144 Q35.7884 434.303 35.7562 435.302 Q35.724 436.3 35.724 437.943 Q35.724 441.517 35.8528 442.097 Q36.0138 442.709 36.4969 443.031 Q36.9478 443.321 38.3004 443.643 L73.3082 452.403 L74.6931 452.661 Q75.466 452.661 75.7236 452.178 Q75.9813 451.695 76.1423 450.213 Q76.3034 448.087 76.3034 445.994 Q76.3034 445.93 76.3034 445.801 Q76.3034 445.092 76.3356 444.802 Q76.3356 444.513 76.4 444.223 Q76.4644 443.933 76.6254 443.868 Q76.7542 443.772 77.0119 443.772 Q77.6238 443.772 77.9459 444.03 Q78.2357 444.287 78.3001 444.545 Q78.3323 444.77 78.3323 445.221 Q78.3323 446.123 78.2679 448.055 Q78.2035 449.988 78.2035 450.954 L78.1391 456.429 L78.2035 462.033 Q78.2035 462.902 78.2679 464.738 Q78.3323 466.574 78.3323 467.443 Q78.3323 468.57 77.5272 468.57 Q76.6254 468.57 76.4644 468.152 Q76.3034 467.701 76.3034 465.801 Q76.3034 463.128 76.1745 461.678 Q76.0457 460.229 75.5948 459.456 Q75.1439 458.651 74.6931 458.426 Q74.21 458.2 73.115 457.942 L37.914 449.086 Q37.141 448.828 36.5291 448.828 Q36.2071 448.828 36.0782 448.925 Q35.9494 448.989 35.8528 449.408 Q35.724 449.827 35.724 450.696 L35.724 453.273 Q35.724 455.913 35.8528 457.556 Q35.9494 459.166 36.4325 460.712 Q36.9156 462.226 37.5919 463.128 Q38.2682 463.997 39.6531 464.963 Q41.0379 465.93 42.7126 466.638 Q44.3873 467.314 47.1248 468.281 Q48.0266 468.603 48.2843 468.796 Q48.5097 468.957 48.5097 469.408 Q48.5097 469.73 48.3165 469.987 Q48.091 470.213 47.8012 470.213 Q46.7384 469.891 46.6096 469.826 L34.9832 465.865 Q34.0493 465.543 33.8882 465.253 Q33.695 464.931 33.695 463.74 L33.695 427.154 Q33.695 426.574 33.695 426.381 Q33.695 426.187 33.7594 425.865 Q33.8238 425.543 33.9849 425.447 Q34.1459 425.35 34.4035 425.35 Z\" fill=\"#000000\" fill-rule=\"evenodd\" fill-opacity=\"1\" /><path clip-path=\"url(#clip520)\" d=\"M79.2048 399.949 Q80.3997 399.949 81.1662 400.738 Q81.9327 401.505 81.9327 402.497 Q81.9327 403.353 81.4367 403.804 Q80.9407 404.255 80.3095 404.255 Q79.4077 404.255 78.6638 403.556 Q77.9198 402.857 77.762 401.843 Q77.221 402.587 77.221 403.782 Q77.221 405.743 78.7314 407.479 Q79.4303 408.245 80.7153 409.08 Q81.9778 409.914 82.5188 410.072 L88.5381 411.537 Q89.2144 411.672 92.4608 412.506 Q95.6846 413.318 95.8198 413.386 Q96.4511 413.611 96.7892 414.107 Q97.1274 414.603 97.1274 415.099 Q97.1274 415.662 96.7892 416.046 Q96.4511 416.429 95.8649 416.429 Q95.7748 416.429 95.4366 416.361 Q95.0984 416.294 94.625 416.181 Q94.1516 416.068 93.8811 416.023 L83.2177 413.34 Q81.2789 412.844 80.6702 412.732 Q80.039 412.596 79.3401 412.596 Q78.1227 412.596 77.6718 412.98 Q77.221 413.363 77.221 414.039 Q77.221 415.212 78.6187 415.978 Q80.0164 416.745 82.7217 417.398 Q83.4657 417.601 83.6235 417.737 Q83.7813 417.849 83.7813 418.187 Q83.7587 418.751 83.3079 418.751 Q83.1951 418.751 82.4737 418.571 Q81.7298 418.39 80.6477 418.052 Q79.543 417.691 78.8441 417.308 Q78.3707 417.083 78.0551 416.88 Q77.7395 416.677 77.2435 416.271 Q76.7475 415.865 76.477 415.257 Q76.2065 414.648 76.2065 413.904 Q76.2065 412.281 77.1984 411.131 Q78.1904 409.959 79.7459 409.688 Q78.9343 409.125 78.2354 408.426 Q77.514 407.727 76.8603 406.442 Q76.2065 405.157 76.2065 403.782 Q76.2065 402.068 77.0857 401.009 Q77.9424 399.949 79.2048 399.949 Z\" fill=\"#000000\" fill-rule=\"evenodd\" fill-opacity=\"1\" /><path clip-path=\"url(#clip520)\" d=\"M96.6089 396.663 Q95.7748 396.663 95.5268 396.595 Q95.2788 396.505 94.8955 396.144 L85.0212 387.285 Q79.5655 382.438 74.8087 382.438 Q71.7202 382.438 69.5109 384.061 Q67.3016 385.661 67.3016 388.615 Q67.3016 390.644 68.5415 392.357 Q69.7814 394.07 71.9907 394.859 Q71.9456 394.724 71.9456 394.251 Q71.9456 393.101 72.667 392.47 Q73.3885 391.816 74.3579 391.816 Q75.5978 391.816 76.2065 392.628 Q76.7926 393.417 76.7926 394.206 Q76.7926 394.521 76.725 394.95 Q76.6574 395.355 76.0261 396.009 Q75.3723 396.663 74.2226 396.663 Q70.9988 396.663 68.4288 394.228 Q65.8587 391.771 65.8587 388.029 Q65.8587 383.79 68.3837 381.017 Q70.8861 378.222 74.8087 378.222 Q76.1839 378.222 77.4464 378.65 Q78.6863 379.056 79.6557 379.62 Q80.6251 380.161 82.1807 381.649 Q83.7362 383.137 84.8409 384.331 Q85.9455 385.526 88.2901 388.209 L93.0469 393.101 L93.0469 384.782 Q93.0469 380.724 92.6862 380.409 Q92.0324 379.958 88.5832 379.394 L88.5832 378.222 L96.6089 379.529 L96.6089 396.663 Z\" fill=\"#000000\" fill-rule=\"evenodd\" fill-opacity=\"1\" /><path clip-path=\"url(#clip520)\" d=\"M10.7002 391.36 L20.7999 393.862 Q21.4086 393.998 21.5664 394.11 Q21.7243 394.223 21.7243 394.539 Q21.7243 394.787 21.6115 394.944 Q21.4988 395.08 21.3861 395.08 L21.2734 395.102 Q21.2057 395.102 20.8676 395.057 Q20.5069 395.012 19.9207 394.967 Q19.3346 394.922 18.6808 394.922 Q14.9836 394.922 13.2702 396.725 Q11.5343 398.506 11.5343 401.572 Q11.5343 403.692 12.6615 405.585 Q13.7887 407.479 15.5697 408.561 Q17.3282 409.643 19.1768 409.643 Q20.8676 409.643 21.9497 408.787 Q23.0318 407.93 23.3925 406.825 L24.2267 403.737 Q25.0608 400.49 25.4215 399.566 Q25.7597 398.642 26.5262 397.875 Q28.6453 395.598 31.9367 395.598 Q34.7773 395.598 37.5277 397.199 Q40.2555 398.799 42.0365 401.55 Q43.7949 404.3 43.7949 407.344 Q43.7949 412.687 40.481 415.144 L43.0961 417.398 Q43.592 417.827 43.6822 417.962 Q43.7949 418.075 43.7949 418.232 Q43.7949 418.435 43.6597 418.593 Q43.5469 418.751 43.3441 418.751 Q43.1862 418.751 37.8884 417.421 Q32.5905 416.091 32.4778 415.978 Q32.2974 415.798 32.2974 415.505 Q32.2974 414.964 32.816 414.964 Q32.9512 415.009 33.1316 415.054 Q34.7547 415.324 35.634 415.324 Q37.2797 415.324 38.5422 414.761 Q39.7821 414.197 40.5035 413.363 Q41.2024 412.506 41.6532 411.357 Q42.0816 410.207 42.2394 409.237 Q42.3747 408.268 42.3747 407.254 Q42.3747 405.067 41.1122 403.128 Q39.8497 401.167 37.8884 400.062 Q35.927 398.935 33.8755 398.935 Q32.7934 398.935 31.9593 399.228 Q31.1026 399.521 30.6292 399.927 Q30.1558 400.31 29.795 400.964 Q29.4343 401.617 29.2991 402.068 Q29.1413 402.497 28.9835 403.173 L27.6759 408.11 Q27.0898 410.094 25.3989 411.514 Q23.7081 412.912 21.1156 412.912 Q18.3877 412.912 15.8628 411.311 Q13.3153 409.688 11.7823 407.051 Q10.2268 404.39 10.2268 401.527 Q10.2268 399.273 11.106 397.537 Q11.9627 395.801 13.5633 394.922 L10.9256 392.69 Q10.4071 392.239 10.3169 392.149 Q10.2268 392.036 10.2268 391.878 Q10.2268 391.608 10.3846 391.495 Q10.5424 391.36 10.7002 391.36 Z\" fill=\"#000000\" fill-rule=\"evenodd\" fill-opacity=\"1\" /><path clip-path=\"url(#clip520)\" d=\"M18.2074 355.736 Q20.7323 355.736 23.0544 357.607 Q25.3764 359.456 26.7967 362.477 Q28.1944 365.475 28.1944 368.699 L28.1944 376.544 L39.737 379.407 Q39.8046 379.43 40.0977 379.497 Q40.3682 379.565 40.526 379.565 Q41.0896 379.565 41.2249 378.866 Q41.3602 378.145 41.3602 376.544 Q41.3602 375.507 41.5405 375.349 Q41.6532 375.259 41.8561 375.259 Q42.1718 375.259 42.3972 375.349 Q42.6001 375.439 42.6677 375.62 Q42.7354 375.778 42.7579 375.89 Q42.7804 376.003 42.7804 376.183 Q42.7804 376.657 42.7354 377.671 Q42.6903 378.663 42.6903 379.182 L42.6452 382.135 L42.7804 387.997 Q42.7804 388.695 42.2168 388.695 Q41.7885 388.695 41.6082 388.515 Q41.4053 388.335 41.3827 388.132 Q41.3602 387.929 41.3602 387.41 Q41.3602 386.283 41.2925 385.607 Q41.2249 384.931 41.1347 384.502 Q41.022 384.051 40.7064 383.826 Q40.3908 383.578 40.1202 383.465 Q39.8272 383.352 39.1734 383.195 L14.3749 377.018 Q13.6309 376.837 13.5182 376.837 Q13.135 376.837 12.9997 377.063 Q12.8419 377.266 12.7742 377.852 Q12.6841 378.979 12.6841 379.836 Q12.6841 380.399 12.6615 380.625 Q12.639 380.827 12.5263 381.008 Q12.391 381.166 12.1205 381.166 Q11.6921 381.166 11.5118 380.985 Q11.3089 380.782 11.2863 380.557 Q11.2412 380.332 11.2412 379.79 L11.2412 364.821 Q11.2412 360.515 13.2928 358.126 Q15.3443 355.736 18.2074 355.736 M17.1027 360.019 Q12.6841 360.019 12.6841 366.309 L12.6841 370.728 Q12.6841 372.193 12.9546 372.554 Q13.2026 372.915 14.4425 373.23 L26.9996 376.364 L26.9996 369.849 Q26.9996 365.475 24.5423 362.747 Q23.4151 361.507 21.0705 360.763 Q18.7259 360.019 17.1027 360.019 Z\" fill=\"#000000\" fill-rule=\"evenodd\" fill-opacity=\"1\" /><path clip-path=\"url(#clip520)\" d=\"M94.8217 352.315 L28.8641 352.315 L28.8641 342.364 L30.3778 342.364 L30.3778 347.903 L93.308 347.903 L93.308 342.364 L94.8217 342.364 L94.8217 352.315 Z\" fill=\"#000000\" fill-rule=\"evenodd\" fill-opacity=\"1\" /><path clip-path=\"url(#clip520)\" d=\"M34.0171 283.838 Q34.4357 283.838 34.7256 283.935 Q34.9832 284.031 35.1121 284.257 Q35.2409 284.482 35.2731 284.611 Q35.3053 284.74 35.3375 285.03 Q35.4663 286.415 35.6918 287.381 Q35.9172 288.315 37.0766 290.634 Q38.236 292.92 40.3294 295.786 L49.2504 307.316 L50.7641 309.249 Q50.8607 309.249 51.054 309.184 Q51.215 309.12 51.4404 309.055 Q51.6337 308.959 51.6981 308.926 L73.3082 299.555 Q75.0473 298.814 75.6592 297.912 Q76.2711 297.01 76.3034 294.981 Q76.3034 294.659 76.3356 294.53 Q76.3356 294.369 76.4 294.144 Q76.4322 293.886 76.5932 293.79 Q76.7542 293.661 77.0119 293.661 Q78.3323 293.661 78.3323 294.852 Q78.3323 295.593 78.2357 298.105 Q78.1391 300.617 78.1391 301.326 Q78.1391 302.646 78.2357 305.352 Q78.3323 308.057 78.3323 309.377 Q78.3323 310.311 77.5916 310.311 Q76.9797 310.311 76.6898 310.086 Q76.3678 309.828 76.3356 309.603 Q76.3034 309.377 76.3034 308.862 Q76.3034 308.476 76.2711 308.057 Q76.2067 307.606 76.0457 306.962 Q75.8525 306.286 75.4016 305.867 Q74.9185 305.416 74.2422 305.416 Q73.6947 305.416 71.9234 306.221 L54.1779 313.854 L61.8429 323.677 L72.2132 326.318 Q72.5997 326.382 73.276 326.543 Q73.9523 326.704 74.4354 326.833 Q74.9185 326.93 75.1117 326.93 Q75.5304 326.93 75.7881 326.672 Q76.0457 326.382 76.1745 325.674 Q76.2711 324.965 76.3034 324.417 Q76.3034 323.838 76.3034 322.646 Q76.3034 321.165 76.561 320.907 Q76.722 320.778 77.0119 320.778 Q77.4628 320.778 77.7848 320.907 Q78.0747 321.036 78.1713 321.294 Q78.2679 321.519 78.3001 321.68 Q78.3323 321.841 78.3323 322.099 Q78.3323 322.775 78.2679 324.224 Q78.2035 325.641 78.2035 326.382 L78.1391 330.601 L78.3323 338.975 Q78.3323 339.973 77.5272 339.973 Q76.9153 339.973 76.6576 339.715 Q76.3678 339.458 76.3356 339.168 Q76.3034 338.878 76.3034 338.137 Q76.3034 336.527 76.2067 335.561 Q76.1101 334.595 75.9813 333.983 Q75.8203 333.339 75.3694 333.016 Q74.9185 332.662 74.532 332.501 Q74.1134 332.34 73.1794 332.115 L37.7529 323.29 Q36.6901 323.033 36.5291 323.033 Q35.9816 323.033 35.7884 323.355 Q35.5629 323.645 35.4663 324.482 Q35.3375 326.092 35.3375 327.316 Q35.3375 328.121 35.3053 328.443 Q35.2731 328.733 35.1121 328.991 Q34.9188 329.216 34.5324 329.216 Q33.2763 329.216 33.2763 327.896 L33.4696 319.393 L33.2763 310.955 Q33.2763 310.021 34.0171 310.021 Q34.951 310.021 35.1443 310.472 Q35.3375 310.891 35.3375 312.276 Q35.3375 314.691 35.6596 315.786 Q35.9494 316.849 36.4647 317.171 Q36.9478 317.461 38.3649 317.815 L59.5241 323.097 L39.7497 297.365 Q37.7529 294.981 36.7224 294.981 Q36.046 294.981 35.7562 295.464 Q35.4341 295.915 35.3375 297.042 Q35.2087 297.848 34.5968 297.848 Q33.9849 297.848 33.695 297.622 Q33.3729 297.365 33.3407 297.171 Q33.2763 296.946 33.2763 296.592 Q33.2763 295.4 33.3729 292.92 Q33.4696 290.44 33.4696 289.249 Q33.4696 288.444 33.3729 286.865 Q33.2763 285.287 33.2763 284.579 Q33.2763 284.225 33.534 284.031 Q33.7594 283.838 34.0171 283.838 Z\" fill=\"#000000\" fill-rule=\"evenodd\" fill-opacity=\"1\" /><path clip-path=\"url(#clip520)\" d=\"M93.308 281.629 L93.308 276.09 L30.3778 276.09 L30.3778 281.629 L28.8641 281.629 L28.8641 271.678 L94.8217 271.678 L94.8217 281.629 L93.308 281.629 Z\" fill=\"#000000\" fill-rule=\"evenodd\" fill-opacity=\"1\" /><polyline clip-path=\"url(#clip523)\" style=\"stroke:#000000; stroke-linecap:round; stroke-linejoin:round; stroke-width:4; stroke-opacity:1; fill:none\" stroke-dasharray=\"2, 4\" points=\"304.002,65.3348 355.004,65.3348 406.006,65.3348 457.008,65.3348 508.01,65.3348 559.012,65.3348 610.015,65.3348 661.017,65.3348 712.019,65.3348 763.021,65.3348 814.023,65.3348 865.025,65.3348 916.027,65.3348 967.029,65.3348 1018.03,65.3348 1069.03,65.3348 1120.04,65.3348 1171.04,65.3348 1222.04,65.3348 1273.04,65.3348 1324.04,65.3348 1375.05,65.3348 1426.05,65.3348 1477.05,65.3348 1528.05,65.3348 1579.05,65.3348 1630.06,65.3348 1681.06,65.3348 1732.06,65.3348 1783.06,65.3348 1834.06,65.3348 1885.07,65.3348 1936.07,65.3348 1987.07,65.3348 2038.07,65.3348 2089.08,65.3348 2140.08,65.3348 2191.08,65.3348 2242.08,65.3348 2293.08,65.3348 \"/>\n",
       "<polyline clip-path=\"url(#clip523)\" style=\"stroke:#ff0000; stroke-linecap:round; stroke-linejoin:round; stroke-width:12; stroke-opacity:0.3; fill:none\" points=\"304.002,668.357 355.004,668.357 406.006,668.357 457.008,668.357 508.01,668.357 559.012,668.357 610.015,668.357 661.017,668.357 712.019,668.357 763.021,668.357 814.023,668.357 865.025,668.357 916.027,668.357 967.029,668.357 1018.03,668.357 1069.03,668.357 1120.04,668.357 1171.04,668.357 1222.04,668.357 1273.04,668.357 1324.04,668.357 1375.05,668.357 1426.05,668.357 1477.05,668.357 1528.05,668.357 1579.05,668.357 1630.06,668.357 1681.06,668.357 1732.06,668.357 1783.06,668.357 1834.06,668.357 1885.07,668.357 1936.07,668.357 1987.07,668.357 2038.07,668.357 2089.08,668.357 2140.08,668.357 2191.08,668.357 2242.08,668.357 2293.08,668.357 \"/>\n",
       "<polyline clip-path=\"url(#clip523)\" style=\"stroke:#0000ff; stroke-linecap:round; stroke-linejoin:round; stroke-width:12; stroke-opacity:0.3; fill:none\" points=\"304.002,668.357 355.004,668.357 406.006,668.357 457.008,668.357 508.01,668.357 559.012,668.357 610.015,668.357 661.017,668.357 712.019,668.357 763.021,668.357 814.023,668.357 865.025,668.357 916.027,668.357 967.029,668.357 1018.03,668.357 1069.03,668.357 1120.04,668.357 1171.04,668.357 1222.04,668.357 1273.04,668.357 1324.04,668.357 1375.05,668.357 1426.05,668.357 1477.05,668.357 1528.05,668.357 1579.05,668.357 1630.06,668.357 1681.06,668.357 1732.06,668.357 1783.06,668.357 1834.06,668.357 1885.07,668.357 1936.07,668.357 1987.07,668.357 2038.07,668.357 2089.08,668.357 2140.08,668.357 2191.08,668.357 2242.08,668.357 2293.08,668.357 \"/>\n",
       "<path clip-path=\"url(#clip520)\" d=\"M244.33 1486.45 L2352.76 1486.45 L2352.76 847.244 L244.33 847.244  Z\" fill=\"#ffffff\" fill-rule=\"evenodd\" fill-opacity=\"1\"/>\n",
       "<defs>\n",
       "  <clipPath id=\"clip524\">\n",
       "    <rect x=\"244\" y=\"847\" width=\"2109\" height=\"640\"/>\n",
       "  </clipPath>\n",
       "</defs>\n",
       "<polyline clip-path=\"url(#clip524)\" style=\"stroke:#000000; stroke-linecap:round; stroke-linejoin:round; stroke-width:8; stroke-opacity:0.1; fill:none\" points=\"253,1486.45 253,847.244 \"/>\n",
       "<polyline clip-path=\"url(#clip524)\" style=\"stroke:#000000; stroke-linecap:round; stroke-linejoin:round; stroke-width:8; stroke-opacity:0.1; fill:none\" points=\"763.021,1486.45 763.021,847.244 \"/>\n",
       "<polyline clip-path=\"url(#clip524)\" style=\"stroke:#000000; stroke-linecap:round; stroke-linejoin:round; stroke-width:8; stroke-opacity:0.1; fill:none\" points=\"1273.04,1486.45 1273.04,847.244 \"/>\n",
       "<polyline clip-path=\"url(#clip524)\" style=\"stroke:#000000; stroke-linecap:round; stroke-linejoin:round; stroke-width:8; stroke-opacity:0.1; fill:none\" points=\"1783.06,1486.45 1783.06,847.244 \"/>\n",
       "<polyline clip-path=\"url(#clip524)\" style=\"stroke:#000000; stroke-linecap:round; stroke-linejoin:round; stroke-width:8; stroke-opacity:0.1; fill:none\" points=\"2293.08,1486.45 2293.08,847.244 \"/>\n",
       "<polyline clip-path=\"url(#clip520)\" style=\"stroke:#000000; stroke-linecap:round; stroke-linejoin:round; stroke-width:4; stroke-opacity:1; fill:none\" points=\"244.33,1486.45 2352.76,1486.45 \"/>\n",
       "<polyline clip-path=\"url(#clip520)\" style=\"stroke:#000000; stroke-linecap:round; stroke-linejoin:round; stroke-width:4; stroke-opacity:1; fill:none\" points=\"253,1486.45 253,1467.55 \"/>\n",
       "<polyline clip-path=\"url(#clip520)\" style=\"stroke:#000000; stroke-linecap:round; stroke-linejoin:round; stroke-width:4; stroke-opacity:1; fill:none\" points=\"763.021,1486.45 763.021,1467.55 \"/>\n",
       "<polyline clip-path=\"url(#clip520)\" style=\"stroke:#000000; stroke-linecap:round; stroke-linejoin:round; stroke-width:4; stroke-opacity:1; fill:none\" points=\"1273.04,1486.45 1273.04,1467.55 \"/>\n",
       "<polyline clip-path=\"url(#clip520)\" style=\"stroke:#000000; stroke-linecap:round; stroke-linejoin:round; stroke-width:4; stroke-opacity:1; fill:none\" points=\"1783.06,1486.45 1783.06,1467.55 \"/>\n",
       "<polyline clip-path=\"url(#clip520)\" style=\"stroke:#000000; stroke-linecap:round; stroke-linejoin:round; stroke-width:4; stroke-opacity:1; fill:none\" points=\"2293.08,1486.45 2293.08,1467.55 \"/>\n",
       "<path clip-path=\"url(#clip520)\" d=\"M253 1517.37 Q249.389 1517.37 247.56 1520.93 Q245.755 1524.47 245.755 1531.6 Q245.755 1538.71 247.56 1542.27 Q249.389 1545.82 253 1545.82 Q256.634 1545.82 258.44 1542.27 Q260.268 1538.71 260.268 1531.6 Q260.268 1524.47 258.44 1520.93 Q256.634 1517.37 253 1517.37 M253 1513.66 Q258.81 1513.66 261.866 1518.27 Q264.944 1522.85 264.944 1531.6 Q264.944 1540.33 261.866 1544.94 Q258.81 1549.52 253 1549.52 Q247.19 1549.52 244.111 1544.94 Q241.056 1540.33 241.056 1531.6 Q241.056 1522.85 244.111 1518.27 Q247.19 1513.66 253 1513.66 Z\" fill=\"#000000\" fill-rule=\"evenodd\" fill-opacity=\"1\" /><path clip-path=\"url(#clip520)\" d=\"M737.708 1544.91 L745.347 1544.91 L745.347 1518.55 L737.037 1520.21 L737.037 1515.95 L745.301 1514.29 L749.977 1514.29 L749.977 1544.91 L757.616 1544.91 L757.616 1548.85 L737.708 1548.85 L737.708 1544.91 Z\" fill=\"#000000\" fill-rule=\"evenodd\" fill-opacity=\"1\" /><path clip-path=\"url(#clip520)\" d=\"M777.06 1517.37 Q773.449 1517.37 771.62 1520.93 Q769.815 1524.47 769.815 1531.6 Q769.815 1538.71 771.62 1542.27 Q773.449 1545.82 777.06 1545.82 Q780.694 1545.82 782.5 1542.27 Q784.329 1538.71 784.329 1531.6 Q784.329 1524.47 782.5 1520.93 Q780.694 1517.37 777.06 1517.37 M777.06 1513.66 Q782.87 1513.66 785.926 1518.27 Q789.005 1522.85 789.005 1531.6 Q789.005 1540.33 785.926 1544.94 Q782.87 1549.52 777.06 1549.52 Q771.25 1549.52 768.171 1544.94 Q765.116 1540.33 765.116 1531.6 Q765.116 1522.85 768.171 1518.27 Q771.25 1513.66 777.06 1513.66 Z\" fill=\"#000000\" fill-rule=\"evenodd\" fill-opacity=\"1\" /><path clip-path=\"url(#clip520)\" d=\"M1251.81 1544.91 L1268.13 1544.91 L1268.13 1548.85 L1246.19 1548.85 L1246.19 1544.91 Q1248.85 1542.16 1253.44 1537.53 Q1258.04 1532.88 1259.22 1531.53 Q1261.47 1529.01 1262.35 1527.27 Q1263.25 1525.51 1263.25 1523.82 Q1263.25 1521.07 1261.31 1519.33 Q1259.38 1517.6 1256.28 1517.6 Q1254.08 1517.6 1251.63 1518.36 Q1249.2 1519.13 1246.42 1520.68 L1246.42 1515.95 Q1249.25 1514.82 1251.7 1514.24 Q1254.15 1513.66 1256.19 1513.66 Q1261.56 1513.66 1264.75 1516.35 Q1267.95 1519.03 1267.95 1523.52 Q1267.95 1525.65 1267.14 1527.57 Q1266.35 1529.47 1264.25 1532.07 Q1263.67 1532.74 1260.56 1535.95 Q1257.46 1539.15 1251.81 1544.91 Z\" fill=\"#000000\" fill-rule=\"evenodd\" fill-opacity=\"1\" /><path clip-path=\"url(#clip520)\" d=\"M1287.95 1517.37 Q1284.34 1517.37 1282.51 1520.93 Q1280.7 1524.47 1280.7 1531.6 Q1280.7 1538.71 1282.51 1542.27 Q1284.34 1545.82 1287.95 1545.82 Q1291.58 1545.82 1293.39 1542.27 Q1295.22 1538.71 1295.22 1531.6 Q1295.22 1524.47 1293.39 1520.93 Q1291.58 1517.37 1287.95 1517.37 M1287.95 1513.66 Q1293.76 1513.66 1296.81 1518.27 Q1299.89 1522.85 1299.89 1531.6 Q1299.89 1540.33 1296.81 1544.94 Q1293.76 1549.52 1287.95 1549.52 Q1282.14 1549.52 1279.06 1544.94 Q1276 1540.33 1276 1531.6 Q1276 1522.85 1279.06 1518.27 Q1282.14 1513.66 1287.95 1513.66 Z\" fill=\"#000000\" fill-rule=\"evenodd\" fill-opacity=\"1\" /><path clip-path=\"url(#clip520)\" d=\"M1771.91 1530.21 Q1775.26 1530.93 1777.14 1533.2 Q1779.03 1535.47 1779.03 1538.8 Q1779.03 1543.92 1775.52 1546.72 Q1772 1549.52 1765.52 1549.52 Q1763.34 1549.52 1761.03 1549.08 Q1758.73 1548.66 1756.28 1547.81 L1756.28 1543.29 Q1758.22 1544.43 1760.54 1545.01 Q1762.85 1545.58 1765.38 1545.58 Q1769.78 1545.58 1772.07 1543.85 Q1774.38 1542.11 1774.38 1538.8 Q1774.38 1535.75 1772.23 1534.03 Q1770.1 1532.3 1766.28 1532.3 L1762.25 1532.3 L1762.25 1528.45 L1766.47 1528.45 Q1769.91 1528.45 1771.74 1527.09 Q1773.57 1525.7 1773.57 1523.11 Q1773.57 1520.45 1771.67 1519.03 Q1769.8 1517.6 1766.28 1517.6 Q1764.36 1517.6 1762.16 1518.01 Q1759.96 1518.43 1757.32 1519.31 L1757.32 1515.14 Q1759.98 1514.4 1762.3 1514.03 Q1764.64 1513.66 1766.7 1513.66 Q1772.02 1513.66 1775.12 1516.09 Q1778.22 1518.5 1778.22 1522.62 Q1778.22 1525.49 1776.58 1527.48 Q1774.94 1529.45 1771.91 1530.21 Z\" fill=\"#000000\" fill-rule=\"evenodd\" fill-opacity=\"1\" /><path clip-path=\"url(#clip520)\" d=\"M1797.9 1517.37 Q1794.29 1517.37 1792.46 1520.93 Q1790.66 1524.47 1790.66 1531.6 Q1790.66 1538.71 1792.46 1542.27 Q1794.29 1545.82 1797.9 1545.82 Q1801.53 1545.82 1803.34 1542.27 Q1805.17 1538.71 1805.17 1531.6 Q1805.17 1524.47 1803.34 1520.93 Q1801.53 1517.37 1797.9 1517.37 M1797.9 1513.66 Q1803.71 1513.66 1806.77 1518.27 Q1809.84 1522.85 1809.84 1531.6 Q1809.84 1540.33 1806.77 1544.94 Q1803.71 1549.52 1797.9 1549.52 Q1792.09 1549.52 1789.01 1544.94 Q1785.96 1540.33 1785.96 1531.6 Q1785.96 1522.85 1789.01 1518.27 Q1792.09 1513.66 1797.9 1513.66 Z\" fill=\"#000000\" fill-rule=\"evenodd\" fill-opacity=\"1\" /><path clip-path=\"url(#clip520)\" d=\"M2281.25 1518.36 L2269.45 1536.81 L2281.25 1536.81 L2281.25 1518.36 M2280.03 1514.29 L2285.91 1514.29 L2285.91 1536.81 L2290.84 1536.81 L2290.84 1540.7 L2285.91 1540.7 L2285.91 1548.85 L2281.25 1548.85 L2281.25 1540.7 L2265.65 1540.7 L2265.65 1536.19 L2280.03 1514.29 Z\" fill=\"#000000\" fill-rule=\"evenodd\" fill-opacity=\"1\" /><path clip-path=\"url(#clip520)\" d=\"M2308.57 1517.37 Q2304.96 1517.37 2303.13 1520.93 Q2301.32 1524.47 2301.32 1531.6 Q2301.32 1538.71 2303.13 1542.27 Q2304.96 1545.82 2308.57 1545.82 Q2312.2 1545.82 2314.01 1542.27 Q2315.84 1538.71 2315.84 1531.6 Q2315.84 1524.47 2314.01 1520.93 Q2312.2 1517.37 2308.57 1517.37 M2308.57 1513.66 Q2314.38 1513.66 2317.44 1518.27 Q2320.51 1522.85 2320.51 1531.6 Q2320.51 1540.33 2317.44 1544.94 Q2314.38 1549.52 2308.57 1549.52 Q2302.76 1549.52 2299.68 1544.94 Q2296.63 1540.33 2296.63 1531.6 Q2296.63 1522.85 2299.68 1518.27 Q2302.76 1513.66 2308.57 1513.66 Z\" fill=\"#000000\" fill-rule=\"evenodd\" fill-opacity=\"1\" /><polyline clip-path=\"url(#clip524)\" style=\"stroke:#000000; stroke-linecap:round; stroke-linejoin:round; stroke-width:8; stroke-opacity:0.1; fill:none\" points=\"244.33,1468.36 2352.76,1468.36 \"/>\n",
       "<polyline clip-path=\"url(#clip524)\" style=\"stroke:#000000; stroke-linecap:round; stroke-linejoin:round; stroke-width:8; stroke-opacity:0.1; fill:none\" points=\"244.33,1300.85 2352.76,1300.85 \"/>\n",
       "<polyline clip-path=\"url(#clip524)\" style=\"stroke:#000000; stroke-linecap:round; stroke-linejoin:round; stroke-width:8; stroke-opacity:0.1; fill:none\" points=\"244.33,1133.34 2352.76,1133.34 \"/>\n",
       "<polyline clip-path=\"url(#clip524)\" style=\"stroke:#000000; stroke-linecap:round; stroke-linejoin:round; stroke-width:8; stroke-opacity:0.1; fill:none\" points=\"244.33,965.839 2352.76,965.839 \"/>\n",
       "<polyline clip-path=\"url(#clip520)\" style=\"stroke:#000000; stroke-linecap:round; stroke-linejoin:round; stroke-width:4; stroke-opacity:1; fill:none\" points=\"244.33,1486.45 244.33,847.244 \"/>\n",
       "<polyline clip-path=\"url(#clip520)\" style=\"stroke:#000000; stroke-linecap:round; stroke-linejoin:round; stroke-width:4; stroke-opacity:1; fill:none\" points=\"244.33,1468.36 263.227,1468.36 \"/>\n",
       "<polyline clip-path=\"url(#clip520)\" style=\"stroke:#000000; stroke-linecap:round; stroke-linejoin:round; stroke-width:4; stroke-opacity:1; fill:none\" points=\"244.33,1300.85 263.227,1300.85 \"/>\n",
       "<polyline clip-path=\"url(#clip520)\" style=\"stroke:#000000; stroke-linecap:round; stroke-linejoin:round; stroke-width:4; stroke-opacity:1; fill:none\" points=\"244.33,1133.34 263.227,1133.34 \"/>\n",
       "<polyline clip-path=\"url(#clip520)\" style=\"stroke:#000000; stroke-linecap:round; stroke-linejoin:round; stroke-width:4; stroke-opacity:1; fill:none\" points=\"244.33,965.839 263.227,965.839 \"/>\n",
       "<path clip-path=\"url(#clip520)\" d=\"M196.385 1454.16 Q192.774 1454.16 190.945 1457.72 Q189.14 1461.26 189.14 1468.39 Q189.14 1475.5 190.945 1479.06 Q192.774 1482.6 196.385 1482.6 Q200.019 1482.6 201.825 1479.06 Q203.654 1475.5 203.654 1468.39 Q203.654 1461.26 201.825 1457.72 Q200.019 1454.16 196.385 1454.16 M196.385 1450.45 Q202.195 1450.45 205.251 1455.06 Q208.33 1459.64 208.33 1468.39 Q208.33 1477.12 205.251 1481.73 Q202.195 1486.31 196.385 1486.31 Q190.575 1486.31 187.496 1481.73 Q184.441 1477.12 184.441 1468.39 Q184.441 1459.64 187.496 1455.06 Q190.575 1450.45 196.385 1450.45 Z\" fill=\"#000000\" fill-rule=\"evenodd\" fill-opacity=\"1\" /><path clip-path=\"url(#clip520)\" d=\"M126.872 1314.2 L134.511 1314.2 L134.511 1287.83 L126.2 1289.5 L126.2 1285.24 L134.464 1283.57 L139.14 1283.57 L139.14 1314.2 L146.779 1314.2 L146.779 1318.13 L126.872 1318.13 L126.872 1314.2 Z\" fill=\"#000000\" fill-rule=\"evenodd\" fill-opacity=\"1\" /><path clip-path=\"url(#clip520)\" d=\"M166.223 1286.65 Q162.612 1286.65 160.784 1290.21 Q158.978 1293.76 158.978 1300.89 Q158.978 1307.99 160.784 1311.56 Q162.612 1315.1 166.223 1315.1 Q169.858 1315.1 171.663 1311.56 Q173.492 1307.99 173.492 1300.89 Q173.492 1293.76 171.663 1290.21 Q169.858 1286.65 166.223 1286.65 M166.223 1282.95 Q172.034 1282.95 175.089 1287.55 Q178.168 1292.14 178.168 1300.89 Q178.168 1309.61 175.089 1314.22 Q172.034 1318.8 166.223 1318.8 Q160.413 1318.8 157.335 1314.22 Q154.279 1309.61 154.279 1300.89 Q154.279 1292.14 157.335 1287.55 Q160.413 1282.95 166.223 1282.95 Z\" fill=\"#000000\" fill-rule=\"evenodd\" fill-opacity=\"1\" /><path clip-path=\"url(#clip520)\" d=\"M196.385 1286.65 Q192.774 1286.65 190.945 1290.21 Q189.14 1293.76 189.14 1300.89 Q189.14 1307.99 190.945 1311.56 Q192.774 1315.1 196.385 1315.1 Q200.019 1315.1 201.825 1311.56 Q203.654 1307.99 203.654 1300.89 Q203.654 1293.76 201.825 1290.21 Q200.019 1286.65 196.385 1286.65 M196.385 1282.95 Q202.195 1282.95 205.251 1287.55 Q208.33 1292.14 208.33 1300.89 Q208.33 1309.61 205.251 1314.22 Q202.195 1318.8 196.385 1318.8 Q190.575 1318.8 187.496 1314.22 Q184.441 1309.61 184.441 1300.89 Q184.441 1292.14 187.496 1287.55 Q190.575 1282.95 196.385 1282.95 Z\" fill=\"#000000\" fill-rule=\"evenodd\" fill-opacity=\"1\" /><path clip-path=\"url(#clip520)\" d=\"M130.089 1146.69 L146.409 1146.69 L146.409 1150.62 L124.464 1150.62 L124.464 1146.69 Q127.126 1143.93 131.71 1139.31 Q136.316 1134.65 137.497 1133.31 Q139.742 1130.79 140.622 1129.05 Q141.524 1127.29 141.524 1125.6 Q141.524 1122.85 139.58 1121.11 Q137.659 1119.37 134.557 1119.37 Q132.358 1119.37 129.904 1120.14 Q127.474 1120.9 124.696 1122.45 L124.696 1117.73 Q127.52 1116.6 129.974 1116.02 Q132.427 1115.44 134.464 1115.44 Q139.835 1115.44 143.029 1118.12 Q146.223 1120.81 146.223 1125.3 Q146.223 1127.43 145.413 1129.35 Q144.626 1131.25 142.52 1133.84 Q141.941 1134.51 138.839 1137.73 Q135.737 1140.93 130.089 1146.69 Z\" fill=\"#000000\" fill-rule=\"evenodd\" fill-opacity=\"1\" /><path clip-path=\"url(#clip520)\" d=\"M166.223 1119.14 Q162.612 1119.14 160.784 1122.71 Q158.978 1126.25 158.978 1133.38 Q158.978 1140.49 160.784 1144.05 Q162.612 1147.59 166.223 1147.59 Q169.858 1147.59 171.663 1144.05 Q173.492 1140.49 173.492 1133.38 Q173.492 1126.25 171.663 1122.71 Q169.858 1119.14 166.223 1119.14 M166.223 1115.44 Q172.034 1115.44 175.089 1120.05 Q178.168 1124.63 178.168 1133.38 Q178.168 1142.11 175.089 1146.71 Q172.034 1151.3 166.223 1151.3 Q160.413 1151.3 157.335 1146.71 Q154.279 1142.11 154.279 1133.38 Q154.279 1124.63 157.335 1120.05 Q160.413 1115.44 166.223 1115.44 Z\" fill=\"#000000\" fill-rule=\"evenodd\" fill-opacity=\"1\" /><path clip-path=\"url(#clip520)\" d=\"M196.385 1119.14 Q192.774 1119.14 190.945 1122.71 Q189.14 1126.25 189.14 1133.38 Q189.14 1140.49 190.945 1144.05 Q192.774 1147.59 196.385 1147.59 Q200.019 1147.59 201.825 1144.05 Q203.654 1140.49 203.654 1133.38 Q203.654 1126.25 201.825 1122.71 Q200.019 1119.14 196.385 1119.14 M196.385 1115.44 Q202.195 1115.44 205.251 1120.05 Q208.33 1124.63 208.33 1133.38 Q208.33 1142.11 205.251 1146.71 Q202.195 1151.3 196.385 1151.3 Q190.575 1151.3 187.496 1146.71 Q184.441 1142.11 184.441 1133.38 Q184.441 1124.63 187.496 1120.05 Q190.575 1115.44 196.385 1115.44 Z\" fill=\"#000000\" fill-rule=\"evenodd\" fill-opacity=\"1\" /><path clip-path=\"url(#clip520)\" d=\"M140.228 964.484 Q143.585 965.202 145.46 967.47 Q147.358 969.739 147.358 973.072 Q147.358 978.188 143.839 980.989 Q140.321 983.79 133.839 983.79 Q131.663 983.79 129.349 983.35 Q127.057 982.933 124.603 982.077 L124.603 977.563 Q126.548 978.697 128.862 979.276 Q131.177 979.855 133.7 979.855 Q138.099 979.855 140.39 978.119 Q142.705 976.382 142.705 973.072 Q142.705 970.017 140.552 968.304 Q138.423 966.568 134.603 966.568 L130.575 966.568 L130.575 962.725 L134.788 962.725 Q138.237 962.725 140.066 961.359 Q141.895 959.97 141.895 957.378 Q141.895 954.716 139.997 953.304 Q138.122 951.869 134.603 951.869 Q132.682 951.869 130.483 952.285 Q128.284 952.702 125.645 953.582 L125.645 949.415 Q128.307 948.674 130.622 948.304 Q132.96 947.934 135.02 947.934 Q140.344 947.934 143.446 950.364 Q146.548 952.771 146.548 956.892 Q146.548 959.762 144.904 961.753 Q143.261 963.72 140.228 964.484 Z\" fill=\"#000000\" fill-rule=\"evenodd\" fill-opacity=\"1\" /><path clip-path=\"url(#clip520)\" d=\"M166.223 951.637 Q162.612 951.637 160.784 955.202 Q158.978 958.744 158.978 965.873 Q158.978 972.98 160.784 976.544 Q162.612 980.086 166.223 980.086 Q169.858 980.086 171.663 976.544 Q173.492 972.98 173.492 965.873 Q173.492 958.744 171.663 955.202 Q169.858 951.637 166.223 951.637 M166.223 947.934 Q172.034 947.934 175.089 952.54 Q178.168 957.123 178.168 965.873 Q178.168 974.6 175.089 979.206 Q172.034 983.79 166.223 983.79 Q160.413 983.79 157.335 979.206 Q154.279 974.6 154.279 965.873 Q154.279 957.123 157.335 952.54 Q160.413 947.934 166.223 947.934 Z\" fill=\"#000000\" fill-rule=\"evenodd\" fill-opacity=\"1\" /><path clip-path=\"url(#clip520)\" d=\"M196.385 951.637 Q192.774 951.637 190.945 955.202 Q189.14 958.744 189.14 965.873 Q189.14 972.98 190.945 976.544 Q192.774 980.086 196.385 980.086 Q200.019 980.086 201.825 976.544 Q203.654 972.98 203.654 965.873 Q203.654 958.744 201.825 955.202 Q200.019 951.637 196.385 951.637 M196.385 947.934 Q202.195 947.934 205.251 952.54 Q208.33 957.123 208.33 965.873 Q208.33 974.6 205.251 979.206 Q202.195 983.79 196.385 983.79 Q190.575 983.79 187.496 979.206 Q184.441 974.6 184.441 965.873 Q184.441 957.123 187.496 952.54 Q190.575 947.934 196.385 947.934 Z\" fill=\"#000000\" fill-rule=\"evenodd\" fill-opacity=\"1\" /><path clip-path=\"url(#clip520)\" d=\"M34.4035 1225.35 Q35.0154 1225.35 35.5307 1225.48 L46.996 1227.28 Q47.8656 1227.38 48.1876 1227.57 Q48.5097 1227.73 48.5097 1228.25 Q48.5097 1229.05 47.6723 1229.05 Q47.1893 1229.05 46.4163 1228.86 Q42.7771 1228.31 41.1346 1228.31 Q40.0396 1228.31 39.2344 1228.54 Q38.3971 1228.73 37.8174 1229.05 Q37.2376 1229.34 36.8512 1230.02 Q36.4647 1230.7 36.2393 1231.34 Q36.0138 1231.98 35.9172 1233.14 Q35.7884 1234.3 35.7562 1235.3 Q35.724 1236.3 35.724 1237.94 Q35.724 1241.52 35.8528 1242.1 Q36.0138 1242.71 36.4969 1243.03 Q36.9478 1243.32 38.3004 1243.64 L73.3082 1252.4 L74.6931 1252.66 Q75.466 1252.66 75.7236 1252.18 Q75.9813 1251.69 76.1423 1250.21 Q76.3034 1248.09 76.3034 1245.99 Q76.3034 1245.93 76.3034 1245.8 Q76.3034 1245.09 76.3356 1244.8 Q76.3356 1244.51 76.4 1244.22 Q76.4644 1243.93 76.6254 1243.87 Q76.7542 1243.77 77.0119 1243.77 Q77.6238 1243.77 77.9459 1244.03 Q78.2357 1244.29 78.3001 1244.54 Q78.3323 1244.77 78.3323 1245.22 Q78.3323 1246.12 78.2679 1248.06 Q78.2035 1249.99 78.2035 1250.95 L78.1391 1256.43 L78.2035 1262.03 Q78.2035 1262.9 78.2679 1264.74 Q78.3323 1266.57 78.3323 1267.44 Q78.3323 1268.57 77.5272 1268.57 Q76.6254 1268.57 76.4644 1268.15 Q76.3034 1267.7 76.3034 1265.8 Q76.3034 1263.13 76.1745 1261.68 Q76.0457 1260.23 75.5948 1259.46 Q75.1439 1258.65 74.6931 1258.43 Q74.21 1258.2 73.115 1257.94 L37.914 1249.09 Q37.141 1248.83 36.5291 1248.83 Q36.2071 1248.83 36.0782 1248.92 Q35.9494 1248.99 35.8528 1249.41 Q35.724 1249.83 35.724 1250.7 L35.724 1253.27 Q35.724 1255.91 35.8528 1257.56 Q35.9494 1259.17 36.4325 1260.71 Q36.9156 1262.23 37.5919 1263.13 Q38.2682 1264 39.6531 1264.96 Q41.0379 1265.93 42.7126 1266.64 Q44.3873 1267.31 47.1248 1268.28 Q48.0266 1268.6 48.2843 1268.8 Q48.5097 1268.96 48.5097 1269.41 Q48.5097 1269.73 48.3165 1269.99 Q48.091 1270.21 47.8012 1270.21 Q46.7384 1269.89 46.6096 1269.83 L34.9832 1265.87 Q34.0493 1265.54 33.8882 1265.25 Q33.695 1264.93 33.695 1263.74 L33.695 1227.15 Q33.695 1226.57 33.695 1226.38 Q33.695 1226.19 33.7594 1225.87 Q33.8238 1225.54 33.9849 1225.45 Q34.1459 1225.35 34.4035 1225.35 Z\" fill=\"#000000\" fill-rule=\"evenodd\" fill-opacity=\"1\" /><path clip-path=\"url(#clip520)\" d=\"M79.2048 1199.95 Q80.3997 1199.95 81.1662 1200.74 Q81.9327 1201.5 81.9327 1202.5 Q81.9327 1203.35 81.4367 1203.8 Q80.9407 1204.26 80.3095 1204.26 Q79.4077 1204.26 78.6638 1203.56 Q77.9198 1202.86 77.762 1201.84 Q77.221 1202.59 77.221 1203.78 Q77.221 1205.74 78.7314 1207.48 Q79.4303 1208.25 80.7153 1209.08 Q81.9778 1209.91 82.5188 1210.07 L88.5381 1211.54 Q89.2144 1211.67 92.4608 1212.51 Q95.6846 1213.32 95.8198 1213.39 Q96.4511 1213.61 96.7892 1214.11 Q97.1274 1214.6 97.1274 1215.1 Q97.1274 1215.66 96.7892 1216.05 Q96.4511 1216.43 95.8649 1216.43 Q95.7748 1216.43 95.4366 1216.36 Q95.0984 1216.29 94.625 1216.18 Q94.1516 1216.07 93.8811 1216.02 L83.2177 1213.34 Q81.2789 1212.84 80.6702 1212.73 Q80.039 1212.6 79.3401 1212.6 Q78.1227 1212.6 77.6718 1212.98 Q77.221 1213.36 77.221 1214.04 Q77.221 1215.21 78.6187 1215.98 Q80.0164 1216.74 82.7217 1217.4 Q83.4657 1217.6 83.6235 1217.74 Q83.7813 1217.85 83.7813 1218.19 Q83.7587 1218.75 83.3079 1218.75 Q83.1951 1218.75 82.4737 1218.57 Q81.7298 1218.39 80.6477 1218.05 Q79.543 1217.69 78.8441 1217.31 Q78.3707 1217.08 78.0551 1216.88 Q77.7395 1216.68 77.2435 1216.27 Q76.7475 1215.87 76.477 1215.26 Q76.2065 1214.65 76.2065 1213.9 Q76.2065 1212.28 77.1984 1211.13 Q78.1904 1209.96 79.7459 1209.69 Q78.9343 1209.12 78.2354 1208.43 Q77.514 1207.73 76.8603 1206.44 Q76.2065 1205.16 76.2065 1203.78 Q76.2065 1202.07 77.0857 1201.01 Q77.9424 1199.95 79.2048 1199.95 Z\" fill=\"#000000\" fill-rule=\"evenodd\" fill-opacity=\"1\" /><path clip-path=\"url(#clip520)\" d=\"M96.6089 1196.66 Q95.7748 1196.66 95.5268 1196.6 Q95.2788 1196.51 94.8955 1196.14 L85.0212 1187.28 Q79.5655 1182.44 74.8087 1182.44 Q71.7202 1182.44 69.5109 1184.06 Q67.3016 1185.66 67.3016 1188.61 Q67.3016 1190.64 68.5415 1192.36 Q69.7814 1194.07 71.9907 1194.86 Q71.9456 1194.72 71.9456 1194.25 Q71.9456 1193.1 72.667 1192.47 Q73.3885 1191.82 74.3579 1191.82 Q75.5978 1191.82 76.2065 1192.63 Q76.7926 1193.42 76.7926 1194.21 Q76.7926 1194.52 76.725 1194.95 Q76.6574 1195.36 76.0261 1196.01 Q75.3723 1196.66 74.2226 1196.66 Q70.9988 1196.66 68.4288 1194.23 Q65.8587 1191.77 65.8587 1188.03 Q65.8587 1183.79 68.3837 1181.02 Q70.8861 1178.22 74.8087 1178.22 Q76.1839 1178.22 77.4464 1178.65 Q78.6863 1179.06 79.6557 1179.62 Q80.6251 1180.16 82.1807 1181.65 Q83.7362 1183.14 84.8409 1184.33 Q85.9455 1185.53 88.2901 1188.21 L93.0469 1193.1 L93.0469 1184.78 Q93.0469 1180.72 92.6862 1180.41 Q92.0324 1179.96 88.5832 1179.39 L88.5832 1178.22 L96.6089 1179.53 L96.6089 1196.66 Z\" fill=\"#000000\" fill-rule=\"evenodd\" fill-opacity=\"1\" /><path clip-path=\"url(#clip520)\" d=\"M10.7002 1191.36 L20.7999 1193.86 Q21.4086 1194 21.5664 1194.11 Q21.7243 1194.22 21.7243 1194.54 Q21.7243 1194.79 21.6115 1194.94 Q21.4988 1195.08 21.3861 1195.08 L21.2734 1195.1 Q21.2057 1195.1 20.8676 1195.06 Q20.5069 1195.01 19.9207 1194.97 Q19.3346 1194.92 18.6808 1194.92 Q14.9836 1194.92 13.2702 1196.73 Q11.5343 1198.51 11.5343 1201.57 Q11.5343 1203.69 12.6615 1205.59 Q13.7887 1207.48 15.5697 1208.56 Q17.3282 1209.64 19.1768 1209.64 Q20.8676 1209.64 21.9497 1208.79 Q23.0318 1207.93 23.3925 1206.83 L24.2267 1203.74 Q25.0608 1200.49 25.4215 1199.57 Q25.7597 1198.64 26.5262 1197.88 Q28.6453 1195.6 31.9367 1195.6 Q34.7773 1195.6 37.5277 1197.2 Q40.2555 1198.8 42.0365 1201.55 Q43.7949 1204.3 43.7949 1207.34 Q43.7949 1212.69 40.481 1215.14 L43.0961 1217.4 Q43.592 1217.83 43.6822 1217.96 Q43.7949 1218.07 43.7949 1218.23 Q43.7949 1218.44 43.6597 1218.59 Q43.5469 1218.75 43.3441 1218.75 Q43.1862 1218.75 37.8884 1217.42 Q32.5905 1216.09 32.4778 1215.98 Q32.2974 1215.8 32.2974 1215.5 Q32.2974 1214.96 32.816 1214.96 Q32.9512 1215.01 33.1316 1215.05 Q34.7547 1215.32 35.634 1215.32 Q37.2797 1215.32 38.5422 1214.76 Q39.7821 1214.2 40.5035 1213.36 Q41.2024 1212.51 41.6532 1211.36 Q42.0816 1210.21 42.2394 1209.24 Q42.3747 1208.27 42.3747 1207.25 Q42.3747 1205.07 41.1122 1203.13 Q39.8497 1201.17 37.8884 1200.06 Q35.927 1198.93 33.8755 1198.93 Q32.7934 1198.93 31.9593 1199.23 Q31.1026 1199.52 30.6292 1199.93 Q30.1558 1200.31 29.795 1200.96 Q29.4343 1201.62 29.2991 1202.07 Q29.1413 1202.5 28.9835 1203.17 L27.6759 1208.11 Q27.0898 1210.09 25.3989 1211.51 Q23.7081 1212.91 21.1156 1212.91 Q18.3877 1212.91 15.8628 1211.31 Q13.3153 1209.69 11.7823 1207.05 Q10.2268 1204.39 10.2268 1201.53 Q10.2268 1199.27 11.106 1197.54 Q11.9627 1195.8 13.5633 1194.92 L10.9256 1192.69 Q10.4071 1192.24 10.3169 1192.15 Q10.2268 1192.04 10.2268 1191.88 Q10.2268 1191.61 10.3846 1191.5 Q10.5424 1191.36 10.7002 1191.36 Z\" fill=\"#000000\" fill-rule=\"evenodd\" fill-opacity=\"1\" /><path clip-path=\"url(#clip520)\" d=\"M18.2074 1155.74 Q20.7323 1155.74 23.0544 1157.61 Q25.3764 1159.46 26.7967 1162.48 Q28.1944 1165.47 28.1944 1168.7 L28.1944 1176.54 L39.737 1179.41 Q39.8046 1179.43 40.0977 1179.5 Q40.3682 1179.57 40.526 1179.57 Q41.0896 1179.57 41.2249 1178.87 Q41.3602 1178.14 41.3602 1176.54 Q41.3602 1175.51 41.5405 1175.35 Q41.6532 1175.26 41.8561 1175.26 Q42.1718 1175.26 42.3972 1175.35 Q42.6001 1175.44 42.6677 1175.62 Q42.7354 1175.78 42.7579 1175.89 Q42.7804 1176 42.7804 1176.18 Q42.7804 1176.66 42.7354 1177.67 Q42.6903 1178.66 42.6903 1179.18 L42.6452 1182.14 L42.7804 1188 Q42.7804 1188.7 42.2168 1188.7 Q41.7885 1188.7 41.6082 1188.52 Q41.4053 1188.33 41.3827 1188.13 Q41.3602 1187.93 41.3602 1187.41 Q41.3602 1186.28 41.2925 1185.61 Q41.2249 1184.93 41.1347 1184.5 Q41.022 1184.05 40.7064 1183.83 Q40.3908 1183.58 40.1202 1183.47 Q39.8272 1183.35 39.1734 1183.19 L14.3749 1177.02 Q13.6309 1176.84 13.5182 1176.84 Q13.135 1176.84 12.9997 1177.06 Q12.8419 1177.27 12.7742 1177.85 Q12.6841 1178.98 12.6841 1179.84 Q12.6841 1180.4 12.6615 1180.62 Q12.639 1180.83 12.5263 1181.01 Q12.391 1181.17 12.1205 1181.17 Q11.6921 1181.17 11.5118 1180.99 Q11.3089 1180.78 11.2863 1180.56 Q11.2412 1180.33 11.2412 1179.79 L11.2412 1164.82 Q11.2412 1160.52 13.2928 1158.13 Q15.3443 1155.74 18.2074 1155.74 M17.1027 1160.02 Q12.6841 1160.02 12.6841 1166.31 L12.6841 1170.73 Q12.6841 1172.19 12.9546 1172.55 Q13.2026 1172.91 14.4425 1173.23 L26.9996 1176.36 L26.9996 1169.85 Q26.9996 1165.47 24.5423 1162.75 Q23.4151 1161.51 21.0705 1160.76 Q18.7259 1160.02 17.1027 1160.02 Z\" fill=\"#000000\" fill-rule=\"evenodd\" fill-opacity=\"1\" /><path clip-path=\"url(#clip520)\" d=\"M94.8217 1152.32 L28.8641 1152.32 L28.8641 1142.36 L30.3778 1142.36 L30.3778 1147.9 L93.308 1147.9 L93.308 1142.36 L94.8217 1142.36 L94.8217 1152.32 Z\" fill=\"#000000\" fill-rule=\"evenodd\" fill-opacity=\"1\" /><path clip-path=\"url(#clip520)\" d=\"M34.0171 1083.84 Q34.4357 1083.84 34.7256 1083.93 Q34.9832 1084.03 35.1121 1084.26 Q35.2409 1084.48 35.2731 1084.61 Q35.3053 1084.74 35.3375 1085.03 Q35.4663 1086.41 35.6918 1087.38 Q35.9172 1088.31 37.0766 1090.63 Q38.236 1092.92 40.3294 1095.79 L49.2504 1107.32 L50.7641 1109.25 Q50.8607 1109.25 51.054 1109.18 Q51.215 1109.12 51.4404 1109.06 Q51.6337 1108.96 51.6981 1108.93 L73.3082 1099.55 Q75.0473 1098.81 75.6592 1097.91 Q76.2711 1097.01 76.3034 1094.98 Q76.3034 1094.66 76.3356 1094.53 Q76.3356 1094.37 76.4 1094.14 Q76.4322 1093.89 76.5932 1093.79 Q76.7542 1093.66 77.0119 1093.66 Q78.3323 1093.66 78.3323 1094.85 Q78.3323 1095.59 78.2357 1098.11 Q78.1391 1100.62 78.1391 1101.33 Q78.1391 1102.65 78.2357 1105.35 Q78.3323 1108.06 78.3323 1109.38 Q78.3323 1110.31 77.5916 1110.31 Q76.9797 1110.31 76.6898 1110.09 Q76.3678 1109.83 76.3356 1109.6 Q76.3034 1109.38 76.3034 1108.86 Q76.3034 1108.48 76.2711 1108.06 Q76.2067 1107.61 76.0457 1106.96 Q75.8525 1106.29 75.4016 1105.87 Q74.9185 1105.42 74.2422 1105.42 Q73.6947 1105.42 71.9234 1106.22 L54.1779 1113.85 L61.8429 1123.68 L72.2132 1126.32 Q72.5997 1126.38 73.276 1126.54 Q73.9523 1126.7 74.4354 1126.83 Q74.9185 1126.93 75.1117 1126.93 Q75.5304 1126.93 75.7881 1126.67 Q76.0457 1126.38 76.1745 1125.67 Q76.2711 1124.96 76.3034 1124.42 Q76.3034 1123.84 76.3034 1122.65 Q76.3034 1121.16 76.561 1120.91 Q76.722 1120.78 77.0119 1120.78 Q77.4628 1120.78 77.7848 1120.91 Q78.0747 1121.04 78.1713 1121.29 Q78.2679 1121.52 78.3001 1121.68 Q78.3323 1121.84 78.3323 1122.1 Q78.3323 1122.77 78.2679 1124.22 Q78.2035 1125.64 78.2035 1126.38 L78.1391 1130.6 L78.3323 1138.97 Q78.3323 1139.97 77.5272 1139.97 Q76.9153 1139.97 76.6576 1139.72 Q76.3678 1139.46 76.3356 1139.17 Q76.3034 1138.88 76.3034 1138.14 Q76.3034 1136.53 76.2067 1135.56 Q76.1101 1134.59 75.9813 1133.98 Q75.8203 1133.34 75.3694 1133.02 Q74.9185 1132.66 74.532 1132.5 Q74.1134 1132.34 73.1794 1132.11 L37.7529 1123.29 Q36.6901 1123.03 36.5291 1123.03 Q35.9816 1123.03 35.7884 1123.35 Q35.5629 1123.64 35.4663 1124.48 Q35.3375 1126.09 35.3375 1127.32 Q35.3375 1128.12 35.3053 1128.44 Q35.2731 1128.73 35.1121 1128.99 Q34.9188 1129.22 34.5324 1129.22 Q33.2763 1129.22 33.2763 1127.9 L33.4696 1119.39 L33.2763 1110.96 Q33.2763 1110.02 34.0171 1110.02 Q34.951 1110.02 35.1443 1110.47 Q35.3375 1110.89 35.3375 1112.28 Q35.3375 1114.69 35.6596 1115.79 Q35.9494 1116.85 36.4647 1117.17 Q36.9478 1117.46 38.3649 1117.82 L59.5241 1123.1 L39.7497 1097.36 Q37.7529 1094.98 36.7224 1094.98 Q36.046 1094.98 35.7562 1095.46 Q35.4341 1095.92 35.3375 1097.04 Q35.2087 1097.85 34.5968 1097.85 Q33.9849 1097.85 33.695 1097.62 Q33.3729 1097.36 33.3407 1097.17 Q33.2763 1096.95 33.2763 1096.59 Q33.2763 1095.4 33.3729 1092.92 Q33.4696 1090.44 33.4696 1089.25 Q33.4696 1088.44 33.3729 1086.87 Q33.2763 1085.29 33.2763 1084.58 Q33.2763 1084.22 33.534 1084.03 Q33.7594 1083.84 34.0171 1083.84 Z\" fill=\"#000000\" fill-rule=\"evenodd\" fill-opacity=\"1\" /><path clip-path=\"url(#clip520)\" d=\"M93.308 1081.63 L93.308 1076.09 L30.3778 1076.09 L30.3778 1081.63 L28.8641 1081.63 L28.8641 1071.68 L94.8217 1071.68 L94.8217 1081.63 L93.308 1081.63 Z\" fill=\"#000000\" fill-rule=\"evenodd\" fill-opacity=\"1\" /><polyline clip-path=\"url(#clip524)\" style=\"stroke:#000000; stroke-linecap:round; stroke-linejoin:round; stroke-width:4; stroke-opacity:1; fill:none\" stroke-dasharray=\"2, 4\" points=\"304.002,865.335 355.004,865.335 406.006,865.335 457.008,865.335 508.01,865.335 559.012,865.335 610.015,865.335 661.017,865.335 712.019,865.335 763.021,865.335 814.023,865.335 865.025,865.335 916.027,865.335 967.029,865.335 1018.03,865.335 1069.03,865.335 1120.04,865.335 1171.04,865.335 1222.04,865.335 1273.04,865.335 1324.04,865.335 1375.05,865.335 1426.05,865.335 1477.05,865.335 1528.05,865.335 1579.05,865.335 1630.06,865.335 1681.06,865.335 1732.06,865.335 1783.06,865.335 1834.06,865.335 1885.07,865.335 1936.07,865.335 1987.07,865.335 2038.07,865.335 2089.08,865.335 2140.08,865.335 2191.08,865.335 2242.08,865.335 2293.08,865.335 \"/>\n",
       "<polyline clip-path=\"url(#clip524)\" style=\"stroke:#ff0000; stroke-linecap:round; stroke-linejoin:round; stroke-width:12; stroke-opacity:0.3; fill:none\" points=\"304.002,1468.36 355.004,1468.36 406.006,1468.36 457.008,1468.36 508.01,1468.36 559.012,1468.36 610.015,1468.36 661.017,1468.36 712.019,1468.36 763.021,1468.36 814.023,1468.36 865.025,1468.36 916.027,1468.36 967.029,1468.36 1018.03,1468.36 1069.03,1468.36 1120.04,1468.36 1171.04,1468.36 1222.04,1468.36 1273.04,1468.36 1324.04,1468.36 1375.05,1468.36 1426.05,1468.36 1477.05,1468.36 1528.05,1468.36 1579.05,1468.36 1630.06,1468.36 1681.06,1468.36 1732.06,1468.36 1783.06,1468.36 1834.06,1468.36 1885.07,1468.36 1936.07,1468.36 1987.07,1468.36 2038.07,1468.36 2089.08,1468.36 2140.08,1468.36 2191.08,1468.36 2242.08,1468.36 2293.08,1468.36 \"/>\n",
       "<polyline clip-path=\"url(#clip524)\" style=\"stroke:#0000ff; stroke-linecap:round; stroke-linejoin:round; stroke-width:12; stroke-opacity:0.3; fill:none\" points=\"304.002,1468.36 355.004,1468.36 406.006,1468.36 457.008,1468.36 508.01,1468.36 559.012,1468.36 610.015,1468.36 661.017,1468.36 712.019,1468.36 763.021,1468.36 814.023,1468.36 865.025,1468.36 916.027,1468.36 967.029,1468.36 1018.03,1468.36 1069.03,1468.36 1120.04,1468.36 1171.04,1468.36 1222.04,1468.36 1273.04,1468.36 1324.04,1468.36 1375.05,1468.36 1426.05,1468.36 1477.05,1468.36 1528.05,1468.36 1579.05,1468.36 1630.06,1468.36 1681.06,1468.36 1732.06,1468.36 1783.06,1468.36 1834.06,1468.36 1885.07,1468.36 1936.07,1468.36 1987.07,1468.36 2038.07,1468.36 2089.08,1468.36 2140.08,1468.36 2191.08,1468.36 2242.08,1468.36 2293.08,1468.36 \"/>\n",
       "</svg>\n"
      ]
     },
     "metadata": {},
     "output_type": "display_data"
    }
   ],
   "source": [
    "p6 = plot(layout = (num_subplots, 1),fmt = :svg, resolution = (600, 400), latex=true,gridlinewidth=2,legend=:topleft) \n",
    "\n",
    "# Loop to generate subplots \n",
    "for mm in 1:num_subplots  \n",
    "    # limits\n",
    "    #plot!(subplot=mm,ts,yspMin[2]*ones(length(ts)),linestyle = :dot,linecolor = :black,label=\"\")\n",
    "    plot!(subplot=mm,ts,yspMax[2]*ones(length(ts)),linestyle = :dot,linecolor = :black,label=\"\")\n",
    "    \n",
    "    for nn in 1:n_MC\n",
    "        plot!(subplot=mm,ts,yspPlant[2,:,nn,mm],linewidth=3,linealpha = 0.3,linecolor = CList[nn],legend=false)\n",
    "    end\n",
    "    \n",
    "    # Add labels, titles, or other customizations to each subplot \n",
    "    ylabel!(L\"T_{r2}^{SP} [K]\") \n",
    "end \n",
    "\n",
    "\n",
    "# Display the subplots \n",
    "display(p6)"
   ]
  },
  {
   "cell_type": "code",
   "execution_count": 26,
   "id": "974b006b",
   "metadata": {},
   "outputs": [
    {
     "data": {
      "image/svg+xml": [
       "<?xml version=\"1.0\" encoding=\"utf-8\"?>\n",
       "<svg xmlns=\"http://www.w3.org/2000/svg\" xmlns:xlink=\"http://www.w3.org/1999/xlink\" width=\"600\" height=\"400\" viewBox=\"0 0 2400 1600\">\n",
       "<defs>\n",
       "  <clipPath id=\"clip560\">\n",
       "    <rect x=\"0\" y=\"0\" width=\"2400\" height=\"1600\"/>\n",
       "  </clipPath>\n",
       "</defs>\n",
       "<path clip-path=\"url(#clip560)\" d=\"M0 1600 L2400 1600 L2400 0 L0 0  Z\" fill=\"#ffffff\" fill-rule=\"evenodd\" fill-opacity=\"1\"/>\n",
       "<defs>\n",
       "  <clipPath id=\"clip561\">\n",
       "    <rect x=\"480\" y=\"0\" width=\"1681\" height=\"1600\"/>\n",
       "  </clipPath>\n",
       "</defs>\n",
       "<defs>\n",
       "  <clipPath id=\"clip562\">\n",
       "    <rect x=\"244\" y=\"847\" width=\"2109\" height=\"640\"/>\n",
       "  </clipPath>\n",
       "</defs>\n",
       "<path clip-path=\"url(#clip560)\" d=\"M459.019 686.448 L2352.76 686.448 L2352.76 47.2441 L459.019 47.2441  Z\" fill=\"#ffffff\" fill-rule=\"evenodd\" fill-opacity=\"1\"/>\n",
       "<defs>\n",
       "  <clipPath id=\"clip563\">\n",
       "    <rect x=\"459\" y=\"47\" width=\"1895\" height=\"640\"/>\n",
       "  </clipPath>\n",
       "</defs>\n",
       "<polyline clip-path=\"url(#clip563)\" style=\"stroke:#000000; stroke-linecap:round; stroke-linejoin:round; stroke-width:8; stroke-opacity:0.1; fill:none\" points=\"466.807,686.448 466.807,47.2441 \"/>\n",
       "<polyline clip-path=\"url(#clip563)\" style=\"stroke:#000000; stroke-linecap:round; stroke-linejoin:round; stroke-width:8; stroke-opacity:0.1; fill:none\" points=\"924.895,686.448 924.895,47.2441 \"/>\n",
       "<polyline clip-path=\"url(#clip563)\" style=\"stroke:#000000; stroke-linecap:round; stroke-linejoin:round; stroke-width:8; stroke-opacity:0.1; fill:none\" points=\"1382.98,686.448 1382.98,47.2441 \"/>\n",
       "<polyline clip-path=\"url(#clip563)\" style=\"stroke:#000000; stroke-linecap:round; stroke-linejoin:round; stroke-width:8; stroke-opacity:0.1; fill:none\" points=\"1841.07,686.448 1841.07,47.2441 \"/>\n",
       "<polyline clip-path=\"url(#clip563)\" style=\"stroke:#000000; stroke-linecap:round; stroke-linejoin:round; stroke-width:8; stroke-opacity:0.1; fill:none\" points=\"2299.16,686.448 2299.16,47.2441 \"/>\n",
       "<polyline clip-path=\"url(#clip560)\" style=\"stroke:#000000; stroke-linecap:round; stroke-linejoin:round; stroke-width:4; stroke-opacity:1; fill:none\" points=\"459.019,686.448 2352.76,686.448 \"/>\n",
       "<polyline clip-path=\"url(#clip560)\" style=\"stroke:#000000; stroke-linecap:round; stroke-linejoin:round; stroke-width:4; stroke-opacity:1; fill:none\" points=\"466.807,686.448 466.807,667.55 \"/>\n",
       "<polyline clip-path=\"url(#clip560)\" style=\"stroke:#000000; stroke-linecap:round; stroke-linejoin:round; stroke-width:4; stroke-opacity:1; fill:none\" points=\"924.895,686.448 924.895,667.55 \"/>\n",
       "<polyline clip-path=\"url(#clip560)\" style=\"stroke:#000000; stroke-linecap:round; stroke-linejoin:round; stroke-width:4; stroke-opacity:1; fill:none\" points=\"1382.98,686.448 1382.98,667.55 \"/>\n",
       "<polyline clip-path=\"url(#clip560)\" style=\"stroke:#000000; stroke-linecap:round; stroke-linejoin:round; stroke-width:4; stroke-opacity:1; fill:none\" points=\"1841.07,686.448 1841.07,667.55 \"/>\n",
       "<polyline clip-path=\"url(#clip560)\" style=\"stroke:#000000; stroke-linecap:round; stroke-linejoin:round; stroke-width:4; stroke-opacity:1; fill:none\" points=\"2299.16,686.448 2299.16,667.55 \"/>\n",
       "<path clip-path=\"url(#clip560)\" d=\"M466.807 717.367 Q463.196 717.367 461.367 720.931 Q459.562 724.473 459.562 731.603 Q459.562 738.709 461.367 742.274 Q463.196 745.815 466.807 745.815 Q470.441 745.815 472.247 742.274 Q474.075 738.709 474.075 731.603 Q474.075 724.473 472.247 720.931 Q470.441 717.367 466.807 717.367 M466.807 713.663 Q472.617 713.663 475.673 718.269 Q478.751 722.853 478.751 731.603 Q478.751 740.329 475.673 744.936 Q472.617 749.519 466.807 749.519 Q460.997 749.519 457.918 744.936 Q454.862 740.329 454.862 731.603 Q454.862 722.853 457.918 718.269 Q460.997 713.663 466.807 713.663 Z\" fill=\"#000000\" fill-rule=\"evenodd\" fill-opacity=\"1\" /><path clip-path=\"url(#clip560)\" d=\"M899.583 744.913 L907.222 744.913 L907.222 718.547 L898.911 720.214 L898.911 715.955 L907.175 714.288 L911.851 714.288 L911.851 744.913 L919.49 744.913 L919.49 748.848 L899.583 748.848 L899.583 744.913 Z\" fill=\"#000000\" fill-rule=\"evenodd\" fill-opacity=\"1\" /><path clip-path=\"url(#clip560)\" d=\"M938.934 717.367 Q935.323 717.367 933.495 720.931 Q931.689 724.473 931.689 731.603 Q931.689 738.709 933.495 742.274 Q935.323 745.815 938.934 745.815 Q942.569 745.815 944.374 742.274 Q946.203 738.709 946.203 731.603 Q946.203 724.473 944.374 720.931 Q942.569 717.367 938.934 717.367 M938.934 713.663 Q944.744 713.663 947.8 718.269 Q950.879 722.853 950.879 731.603 Q950.879 740.329 947.8 744.936 Q944.744 749.519 938.934 749.519 Q933.124 749.519 930.045 744.936 Q926.99 740.329 926.99 731.603 Q926.99 722.853 930.045 718.269 Q933.124 713.663 938.934 713.663 Z\" fill=\"#000000\" fill-rule=\"evenodd\" fill-opacity=\"1\" /><path clip-path=\"url(#clip560)\" d=\"M1361.76 744.913 L1378.08 744.913 L1378.08 748.848 L1356.13 748.848 L1356.13 744.913 Q1358.79 742.158 1363.38 737.528 Q1367.98 732.876 1369.16 731.533 Q1371.41 729.01 1372.29 727.274 Q1373.19 725.515 1373.19 723.825 Q1373.19 721.07 1371.25 719.334 Q1369.33 717.598 1366.22 717.598 Q1364.02 717.598 1361.57 718.362 Q1359.14 719.126 1356.36 720.677 L1356.36 715.955 Q1359.19 714.82 1361.64 714.242 Q1364.09 713.663 1366.13 713.663 Q1371.5 713.663 1374.7 716.348 Q1377.89 719.033 1377.89 723.524 Q1377.89 725.654 1377.08 727.575 Q1376.29 729.473 1374.19 732.066 Q1373.61 732.737 1370.51 735.954 Q1367.4 739.149 1361.76 744.913 Z\" fill=\"#000000\" fill-rule=\"evenodd\" fill-opacity=\"1\" /><path clip-path=\"url(#clip560)\" d=\"M1397.89 717.367 Q1394.28 717.367 1392.45 720.931 Q1390.65 724.473 1390.65 731.603 Q1390.65 738.709 1392.45 742.274 Q1394.28 745.815 1397.89 745.815 Q1401.52 745.815 1403.33 742.274 Q1405.16 738.709 1405.16 731.603 Q1405.16 724.473 1403.33 720.931 Q1401.52 717.367 1397.89 717.367 M1397.89 713.663 Q1403.7 713.663 1406.76 718.269 Q1409.83 722.853 1409.83 731.603 Q1409.83 740.329 1406.76 744.936 Q1403.7 749.519 1397.89 749.519 Q1392.08 749.519 1389 744.936 Q1385.95 740.329 1385.95 731.603 Q1385.95 722.853 1389 718.269 Q1392.08 713.663 1397.89 713.663 Z\" fill=\"#000000\" fill-rule=\"evenodd\" fill-opacity=\"1\" /><path clip-path=\"url(#clip560)\" d=\"M1829.91 730.214 Q1833.27 730.931 1835.15 733.2 Q1837.04 735.468 1837.04 738.802 Q1837.04 743.917 1833.53 746.718 Q1830.01 749.519 1823.53 749.519 Q1821.35 749.519 1819.03 749.079 Q1816.74 748.663 1814.29 747.806 L1814.29 743.292 Q1816.23 744.427 1818.55 745.005 Q1820.86 745.584 1823.39 745.584 Q1827.78 745.584 1830.08 743.848 Q1832.39 742.112 1832.39 738.802 Q1832.39 735.746 1830.24 734.033 Q1828.11 732.297 1824.29 732.297 L1820.26 732.297 L1820.26 728.454 L1824.47 728.454 Q1827.92 728.454 1829.75 727.089 Q1831.58 725.7 1831.58 723.107 Q1831.58 720.445 1829.68 719.033 Q1827.81 717.598 1824.29 717.598 Q1822.37 717.598 1820.17 718.015 Q1817.97 718.431 1815.33 719.311 L1815.33 715.144 Q1817.99 714.404 1820.31 714.033 Q1822.65 713.663 1824.71 713.663 Q1830.03 713.663 1833.13 716.093 Q1836.23 718.501 1836.23 722.621 Q1836.23 725.492 1834.59 727.482 Q1832.95 729.45 1829.91 730.214 Z\" fill=\"#000000\" fill-rule=\"evenodd\" fill-opacity=\"1\" /><path clip-path=\"url(#clip560)\" d=\"M1855.91 717.367 Q1852.3 717.367 1850.47 720.931 Q1848.66 724.473 1848.66 731.603 Q1848.66 738.709 1850.47 742.274 Q1852.3 745.815 1855.91 745.815 Q1859.54 745.815 1861.35 742.274 Q1863.18 738.709 1863.18 731.603 Q1863.18 724.473 1861.35 720.931 Q1859.54 717.367 1855.91 717.367 M1855.91 713.663 Q1861.72 713.663 1864.77 718.269 Q1867.85 722.853 1867.85 731.603 Q1867.85 740.329 1864.77 744.936 Q1861.72 749.519 1855.91 749.519 Q1850.1 749.519 1847.02 744.936 Q1843.96 740.329 1843.96 731.603 Q1843.96 722.853 1847.02 718.269 Q1850.1 713.663 1855.91 713.663 Z\" fill=\"#000000\" fill-rule=\"evenodd\" fill-opacity=\"1\" /><path clip-path=\"url(#clip560)\" d=\"M2287.33 718.362 L2275.53 736.811 L2287.33 736.811 L2287.33 718.362 M2286.1 714.288 L2291.98 714.288 L2291.98 736.811 L2296.91 736.811 L2296.91 740.7 L2291.98 740.7 L2291.98 748.848 L2287.33 748.848 L2287.33 740.7 L2271.73 740.7 L2271.73 736.186 L2286.1 714.288 Z\" fill=\"#000000\" fill-rule=\"evenodd\" fill-opacity=\"1\" /><path clip-path=\"url(#clip560)\" d=\"M2314.65 717.367 Q2311.03 717.367 2309.21 720.931 Q2307.4 724.473 2307.4 731.603 Q2307.4 738.709 2309.21 742.274 Q2311.03 745.815 2314.65 745.815 Q2318.28 745.815 2320.09 742.274 Q2321.91 738.709 2321.91 731.603 Q2321.91 724.473 2320.09 720.931 Q2318.28 717.367 2314.65 717.367 M2314.65 713.663 Q2320.46 713.663 2323.51 718.269 Q2326.59 722.853 2326.59 731.603 Q2326.59 740.329 2323.51 744.936 Q2320.46 749.519 2314.65 749.519 Q2308.84 749.519 2305.76 744.936 Q2302.7 740.329 2302.7 731.603 Q2302.7 722.853 2305.76 718.269 Q2308.84 713.663 2314.65 713.663 Z\" fill=\"#000000\" fill-rule=\"evenodd\" fill-opacity=\"1\" /><polyline clip-path=\"url(#clip563)\" style=\"stroke:#000000; stroke-linecap:round; stroke-linejoin:round; stroke-width:8; stroke-opacity:0.1; fill:none\" points=\"459.019,647.885 2352.76,647.885 \"/>\n",
       "<polyline clip-path=\"url(#clip563)\" style=\"stroke:#000000; stroke-linecap:round; stroke-linejoin:round; stroke-width:8; stroke-opacity:0.1; fill:none\" points=\"459.019,502.247 2352.76,502.247 \"/>\n",
       "<polyline clip-path=\"url(#clip563)\" style=\"stroke:#000000; stroke-linecap:round; stroke-linejoin:round; stroke-width:8; stroke-opacity:0.1; fill:none\" points=\"459.019,356.61 2352.76,356.61 \"/>\n",
       "<polyline clip-path=\"url(#clip563)\" style=\"stroke:#000000; stroke-linecap:round; stroke-linejoin:round; stroke-width:8; stroke-opacity:0.1; fill:none\" points=\"459.019,210.972 2352.76,210.972 \"/>\n",
       "<polyline clip-path=\"url(#clip563)\" style=\"stroke:#000000; stroke-linecap:round; stroke-linejoin:round; stroke-width:8; stroke-opacity:0.1; fill:none\" points=\"459.019,65.3348 2352.76,65.3348 \"/>\n",
       "<polyline clip-path=\"url(#clip560)\" style=\"stroke:#000000; stroke-linecap:round; stroke-linejoin:round; stroke-width:4; stroke-opacity:1; fill:none\" points=\"459.019,686.448 459.019,47.2441 \"/>\n",
       "<polyline clip-path=\"url(#clip560)\" style=\"stroke:#000000; stroke-linecap:round; stroke-linejoin:round; stroke-width:4; stroke-opacity:1; fill:none\" points=\"459.019,647.885 477.917,647.885 \"/>\n",
       "<polyline clip-path=\"url(#clip560)\" style=\"stroke:#000000; stroke-linecap:round; stroke-linejoin:round; stroke-width:4; stroke-opacity:1; fill:none\" points=\"459.019,502.247 477.917,502.247 \"/>\n",
       "<polyline clip-path=\"url(#clip560)\" style=\"stroke:#000000; stroke-linecap:round; stroke-linejoin:round; stroke-width:4; stroke-opacity:1; fill:none\" points=\"459.019,356.61 477.917,356.61 \"/>\n",
       "<polyline clip-path=\"url(#clip560)\" style=\"stroke:#000000; stroke-linecap:round; stroke-linejoin:round; stroke-width:4; stroke-opacity:1; fill:none\" points=\"459.019,210.972 477.917,210.972 \"/>\n",
       "<polyline clip-path=\"url(#clip560)\" style=\"stroke:#000000; stroke-linecap:round; stroke-linejoin:round; stroke-width:4; stroke-opacity:1; fill:none\" points=\"459.019,65.3348 477.917,65.3348 \"/>\n",
       "<path clip-path=\"url(#clip560)\" d=\"M118.837 654.784 L148.513 654.784 L148.513 658.719 L118.837 658.719 L118.837 654.784 Z\" fill=\"#000000\" fill-rule=\"evenodd\" fill-opacity=\"1\" /><path clip-path=\"url(#clip560)\" d=\"M159.415 667.677 L167.054 667.677 L167.054 641.312 L158.744 642.978 L158.744 638.719 L167.008 637.053 L171.684 637.053 L171.684 667.677 L179.323 667.677 L179.323 671.613 L159.415 671.613 L159.415 667.677 Z\" fill=\"#000000\" fill-rule=\"evenodd\" fill-opacity=\"1\" /><path clip-path=\"url(#clip560)\" d=\"M188.767 665.733 L193.651 665.733 L193.651 671.613 L188.767 671.613 L188.767 665.733 Z\" fill=\"#000000\" fill-rule=\"evenodd\" fill-opacity=\"1\" /><path clip-path=\"url(#clip560)\" d=\"M213.836 640.131 Q210.225 640.131 208.397 643.696 Q206.591 647.238 206.591 654.367 Q206.591 661.474 208.397 665.039 Q210.225 668.58 213.836 668.58 Q217.471 668.58 219.276 665.039 Q221.105 661.474 221.105 654.367 Q221.105 647.238 219.276 643.696 Q217.471 640.131 213.836 640.131 M213.836 636.428 Q219.647 636.428 222.702 641.034 Q225.781 645.617 225.781 654.367 Q225.781 663.094 222.702 667.701 Q219.647 672.284 213.836 672.284 Q208.026 672.284 204.948 667.701 Q201.892 663.094 201.892 654.367 Q201.892 645.617 204.948 641.034 Q208.026 636.428 213.836 636.428 Z\" fill=\"#000000\" fill-rule=\"evenodd\" fill-opacity=\"1\" /><path clip-path=\"url(#clip560)\" d=\"M243.998 640.131 Q240.387 640.131 238.559 643.696 Q236.753 647.238 236.753 654.367 Q236.753 661.474 238.559 665.039 Q240.387 668.58 243.998 668.58 Q247.633 668.58 249.438 665.039 Q251.267 661.474 251.267 654.367 Q251.267 647.238 249.438 643.696 Q247.633 640.131 243.998 640.131 M243.998 636.428 Q249.808 636.428 252.864 641.034 Q255.943 645.617 255.943 654.367 Q255.943 663.094 252.864 667.701 Q249.808 672.284 243.998 672.284 Q238.188 672.284 235.109 667.701 Q232.054 663.094 232.054 654.367 Q232.054 645.617 235.109 641.034 Q238.188 636.428 243.998 636.428 Z\" fill=\"#000000\" fill-rule=\"evenodd\" fill-opacity=\"1\" /><path clip-path=\"url(#clip560)\" d=\"M292.331 646.15 L281.753 656.775 L292.331 667.353 L289.577 670.154 L278.952 659.529 L268.327 670.154 L265.595 667.353 L276.151 656.775 L265.595 646.15 L268.327 643.349 L278.952 653.974 L289.577 643.349 L292.331 646.15 Z\" fill=\"#000000\" fill-rule=\"evenodd\" fill-opacity=\"1\" /><path clip-path=\"url(#clip560)\" d=\"M304.692 667.677 L312.331 667.677 L312.331 641.312 L304.021 642.978 L304.021 638.719 L312.285 637.053 L316.961 637.053 L316.961 667.677 L324.6 667.677 L324.6 671.613 L304.692 671.613 L304.692 667.677 Z\" fill=\"#000000\" fill-rule=\"evenodd\" fill-opacity=\"1\" /><path clip-path=\"url(#clip560)\" d=\"M344.044 640.131 Q340.433 640.131 338.604 643.696 Q336.799 647.238 336.799 654.367 Q336.799 661.474 338.604 665.039 Q340.433 668.58 344.044 668.58 Q347.678 668.58 349.484 665.039 Q351.313 661.474 351.313 654.367 Q351.313 647.238 349.484 643.696 Q347.678 640.131 344.044 640.131 M344.044 636.428 Q349.854 636.428 352.91 641.034 Q355.988 645.617 355.988 654.367 Q355.988 663.094 352.91 667.701 Q349.854 672.284 344.044 672.284 Q338.234 672.284 335.155 667.701 Q332.1 663.094 332.1 654.367 Q332.1 645.617 335.155 641.034 Q338.234 636.428 344.044 636.428 Z\" fill=\"#000000\" fill-rule=\"evenodd\" fill-opacity=\"1\" /><path clip-path=\"url(#clip560)\" d=\"M368.684 629.062 Q371.411 629.645 372.934 631.488 Q374.477 633.331 374.477 636.04 Q374.477 640.196 371.618 642.472 Q368.759 644.748 363.493 644.748 Q361.725 644.748 359.844 644.39 Q357.982 644.052 355.988 643.356 L355.988 639.688 Q357.568 640.61 359.449 641.08 Q361.33 641.55 363.38 641.55 Q366.953 641.55 368.815 640.14 Q370.696 638.729 370.696 636.04 Q370.696 633.557 368.947 632.165 Q367.217 630.755 364.113 630.755 L360.841 630.755 L360.841 627.633 L364.264 627.633 Q367.066 627.633 368.552 626.523 Q370.038 625.394 370.038 623.288 Q370.038 621.125 368.496 619.978 Q366.972 618.812 364.113 618.812 Q362.552 618.812 360.766 619.15 Q358.979 619.489 356.835 620.203 L356.835 616.818 Q358.998 616.216 360.878 615.915 Q362.778 615.614 364.452 615.614 Q368.778 615.614 371.298 617.589 Q373.818 619.545 373.818 622.893 Q373.818 625.225 372.483 626.843 Q371.148 628.441 368.684 629.062 Z\" fill=\"#000000\" fill-rule=\"evenodd\" fill-opacity=\"1\" /><path clip-path=\"url(#clip560)\" d=\"M389.805 618.624 Q386.871 618.624 385.385 621.52 Q383.918 624.398 383.918 630.19 Q383.918 635.964 385.385 638.861 Q386.871 641.738 389.805 641.738 Q392.758 641.738 394.225 638.861 Q395.71 635.964 395.71 630.19 Q395.71 624.398 394.225 621.52 Q392.758 618.624 389.805 618.624 M389.805 615.614 Q394.526 615.614 397.008 619.357 Q399.51 623.081 399.51 630.19 Q399.51 637.281 397.008 641.024 Q394.526 644.748 389.805 644.748 Q385.084 644.748 382.583 641.024 Q380.1 637.281 380.1 630.19 Q380.1 623.081 382.583 619.357 Q385.084 615.614 389.805 615.614 Z\" fill=\"#000000\" fill-rule=\"evenodd\" fill-opacity=\"1\" /><path clip-path=\"url(#clip560)\" d=\"M406.845 641.005 L413.051 641.005 L413.051 619.583 L406.299 620.937 L406.299 617.476 L413.014 616.122 L416.813 616.122 L416.813 641.005 L423.019 641.005 L423.019 644.202 L406.845 644.202 L406.845 641.005 Z\" fill=\"#000000\" fill-rule=\"evenodd\" fill-opacity=\"1\" /><path clip-path=\"url(#clip560)\" d=\"M117.84 509.146 L147.516 509.146 L147.516 513.082 L117.84 513.082 L117.84 509.146 Z\" fill=\"#000000\" fill-rule=\"evenodd\" fill-opacity=\"1\" /><path clip-path=\"url(#clip560)\" d=\"M156.428 491.415 L178.65 491.415 L178.65 493.406 L166.104 525.975 L161.22 525.975 L173.025 495.35 L156.428 495.35 L156.428 491.415 Z\" fill=\"#000000\" fill-rule=\"evenodd\" fill-opacity=\"1\" /><path clip-path=\"url(#clip560)\" d=\"M187.77 520.095 L192.655 520.095 L192.655 525.975 L187.77 525.975 L187.77 520.095 Z\" fill=\"#000000\" fill-rule=\"evenodd\" fill-opacity=\"1\" /><path clip-path=\"url(#clip560)\" d=\"M202.886 491.415 L221.242 491.415 L221.242 495.35 L207.168 495.35 L207.168 503.822 Q208.187 503.475 209.205 503.313 Q210.224 503.128 211.242 503.128 Q217.029 503.128 220.409 506.299 Q223.789 509.47 223.789 514.887 Q223.789 520.466 220.316 523.568 Q216.844 526.646 210.525 526.646 Q208.349 526.646 206.08 526.276 Q203.835 525.906 201.428 525.165 L201.428 520.466 Q203.511 521.6 205.733 522.156 Q207.955 522.711 210.432 522.711 Q214.437 522.711 216.775 520.605 Q219.113 518.498 219.113 514.887 Q219.113 511.276 216.775 509.17 Q214.437 507.063 210.432 507.063 Q208.557 507.063 206.682 507.48 Q204.83 507.896 202.886 508.776 L202.886 491.415 Z\" fill=\"#000000\" fill-rule=\"evenodd\" fill-opacity=\"1\" /><path clip-path=\"url(#clip560)\" d=\"M243.002 494.494 Q239.39 494.494 237.562 498.058 Q235.756 501.6 235.756 508.73 Q235.756 515.836 237.562 519.401 Q239.39 522.943 243.002 522.943 Q246.636 522.943 248.441 519.401 Q250.27 515.836 250.27 508.73 Q250.27 501.6 248.441 498.058 Q246.636 494.494 243.002 494.494 M243.002 490.79 Q248.812 490.79 251.867 495.396 Q254.946 499.98 254.946 508.73 Q254.946 517.457 251.867 522.063 Q248.812 526.646 243.002 526.646 Q237.191 526.646 234.113 522.063 Q231.057 517.457 231.057 508.73 Q231.057 499.98 234.113 495.396 Q237.191 490.79 243.002 490.79 Z\" fill=\"#000000\" fill-rule=\"evenodd\" fill-opacity=\"1\" /><path clip-path=\"url(#clip560)\" d=\"M291.335 500.512 L280.756 511.137 L291.335 521.716 L288.58 524.517 L277.955 513.892 L267.33 524.517 L264.599 521.716 L275.154 511.137 L264.599 500.512 L267.33 497.711 L277.955 508.336 L288.58 497.711 L291.335 500.512 Z\" fill=\"#000000\" fill-rule=\"evenodd\" fill-opacity=\"1\" /><path clip-path=\"url(#clip560)\" d=\"M303.696 522.04 L311.334 522.04 L311.334 495.674 L303.024 497.341 L303.024 493.082 L311.288 491.415 L315.964 491.415 L315.964 522.04 L323.603 522.04 L323.603 525.975 L303.696 525.975 L303.696 522.04 Z\" fill=\"#000000\" fill-rule=\"evenodd\" fill-opacity=\"1\" /><path clip-path=\"url(#clip560)\" d=\"M343.047 494.494 Q339.436 494.494 337.607 498.058 Q335.802 501.6 335.802 508.73 Q335.802 515.836 337.607 519.401 Q339.436 522.943 343.047 522.943 Q346.682 522.943 348.487 519.401 Q350.316 515.836 350.316 508.73 Q350.316 501.6 348.487 498.058 Q346.682 494.494 343.047 494.494 M343.047 490.79 Q348.857 490.79 351.913 495.396 Q354.992 499.98 354.992 508.73 Q354.992 517.457 351.913 522.063 Q348.857 526.646 343.047 526.646 Q337.237 526.646 334.158 522.063 Q331.103 517.457 331.103 508.73 Q331.103 499.98 334.158 495.396 Q337.237 490.79 343.047 490.79 Z\" fill=\"#000000\" fill-rule=\"evenodd\" fill-opacity=\"1\" /><path clip-path=\"url(#clip560)\" d=\"M367.687 483.424 Q370.414 484.007 371.937 485.851 Q373.48 487.694 373.48 490.402 Q373.48 494.559 370.621 496.834 Q367.762 499.11 362.496 499.11 Q360.728 499.11 358.847 498.753 Q356.985 498.414 354.992 497.718 L354.992 494.051 Q356.572 494.972 358.452 495.443 Q360.333 495.913 362.383 495.913 Q365.957 495.913 367.819 494.502 Q369.699 493.092 369.699 490.402 Q369.699 487.919 367.95 486.528 Q366.22 485.117 363.117 485.117 L359.844 485.117 L359.844 481.995 L363.267 481.995 Q366.069 481.995 367.555 480.885 Q369.041 479.757 369.041 477.65 Q369.041 475.487 367.499 474.34 Q365.975 473.174 363.117 473.174 Q361.556 473.174 359.769 473.513 Q357.982 473.851 355.838 474.566 L355.838 471.18 Q358.001 470.579 359.882 470.278 Q361.781 469.977 363.455 469.977 Q367.781 469.977 370.301 471.952 Q372.821 473.908 372.821 477.255 Q372.821 479.588 371.486 481.205 Q370.151 482.804 367.687 483.424 Z\" fill=\"#000000\" fill-rule=\"evenodd\" fill-opacity=\"1\" /><path clip-path=\"url(#clip560)\" d=\"M388.808 472.986 Q385.874 472.986 384.388 475.882 Q382.921 478.76 382.921 484.553 Q382.921 490.327 384.388 493.223 Q385.874 496.101 388.808 496.101 Q391.761 496.101 393.228 493.223 Q394.714 490.327 394.714 484.553 Q394.714 478.76 393.228 475.882 Q391.761 472.986 388.808 472.986 M388.808 469.977 Q393.529 469.977 396.011 473.72 Q398.513 477.443 398.513 484.553 Q398.513 491.643 396.011 495.386 Q393.529 499.11 388.808 499.11 Q384.087 499.11 381.586 495.386 Q379.103 491.643 379.103 484.553 Q379.103 477.443 381.586 473.72 Q384.087 469.977 388.808 469.977 Z\" fill=\"#000000\" fill-rule=\"evenodd\" fill-opacity=\"1\" /><path clip-path=\"url(#clip560)\" d=\"M413.315 472.986 Q410.381 472.986 408.895 475.882 Q407.428 478.76 407.428 484.553 Q407.428 490.327 408.895 493.223 Q410.381 496.101 413.315 496.101 Q416.267 496.101 417.734 493.223 Q419.22 490.327 419.22 484.553 Q419.22 478.76 417.734 475.882 Q416.267 472.986 413.315 472.986 M413.315 469.977 Q418.035 469.977 420.518 473.72 Q423.019 477.443 423.019 484.553 Q423.019 491.643 420.518 495.386 Q418.035 499.11 413.315 499.11 Q408.594 499.11 406.092 495.386 Q403.61 491.643 403.61 484.553 Q403.61 477.443 406.092 473.72 Q408.594 469.977 413.315 469.977 Z\" fill=\"#000000\" fill-rule=\"evenodd\" fill-opacity=\"1\" /><path clip-path=\"url(#clip560)\" d=\"M117.84 363.509 L147.516 363.509 L147.516 367.444 L117.84 367.444 L117.84 363.509 Z\" fill=\"#000000\" fill-rule=\"evenodd\" fill-opacity=\"1\" /><path clip-path=\"url(#clip560)\" d=\"M157.655 345.777 L176.011 345.777 L176.011 349.713 L161.937 349.713 L161.937 358.185 Q162.956 357.838 163.974 357.676 Q164.993 357.49 166.011 357.49 Q171.798 357.49 175.178 360.662 Q178.557 363.833 178.557 369.25 Q178.557 374.828 175.085 377.93 Q171.613 381.009 165.294 381.009 Q163.118 381.009 160.849 380.638 Q158.604 380.268 156.196 379.527 L156.196 374.828 Q158.28 375.962 160.502 376.518 Q162.724 377.074 165.201 377.074 Q169.206 377.074 171.544 374.967 Q173.882 372.861 173.882 369.25 Q173.882 365.638 171.544 363.532 Q169.206 361.426 165.201 361.426 Q163.326 361.426 161.451 361.842 Q159.599 362.259 157.655 363.138 L157.655 345.777 Z\" fill=\"#000000\" fill-rule=\"evenodd\" fill-opacity=\"1\" /><path clip-path=\"url(#clip560)\" d=\"M187.77 374.458 L192.655 374.458 L192.655 380.337 L187.77 380.337 L187.77 374.458 Z\" fill=\"#000000\" fill-rule=\"evenodd\" fill-opacity=\"1\" /><path clip-path=\"url(#clip560)\" d=\"M212.84 348.856 Q209.229 348.856 207.4 352.421 Q205.594 355.963 205.594 363.092 Q205.594 370.199 207.4 373.763 Q209.229 377.305 212.84 377.305 Q216.474 377.305 218.279 373.763 Q220.108 370.199 220.108 363.092 Q220.108 355.963 218.279 352.421 Q216.474 348.856 212.84 348.856 M212.84 345.152 Q218.65 345.152 221.705 349.759 Q224.784 354.342 224.784 363.092 Q224.784 371.819 221.705 376.425 Q218.65 381.009 212.84 381.009 Q207.029 381.009 203.951 376.425 Q200.895 371.819 200.895 363.092 Q200.895 354.342 203.951 349.759 Q207.029 345.152 212.84 345.152 Z\" fill=\"#000000\" fill-rule=\"evenodd\" fill-opacity=\"1\" /><path clip-path=\"url(#clip560)\" d=\"M243.002 348.856 Q239.39 348.856 237.562 352.421 Q235.756 355.963 235.756 363.092 Q235.756 370.199 237.562 373.763 Q239.39 377.305 243.002 377.305 Q246.636 377.305 248.441 373.763 Q250.27 370.199 250.27 363.092 Q250.27 355.963 248.441 352.421 Q246.636 348.856 243.002 348.856 M243.002 345.152 Q248.812 345.152 251.867 349.759 Q254.946 354.342 254.946 363.092 Q254.946 371.819 251.867 376.425 Q248.812 381.009 243.002 381.009 Q237.191 381.009 234.113 376.425 Q231.057 371.819 231.057 363.092 Q231.057 354.342 234.113 349.759 Q237.191 345.152 243.002 345.152 Z\" fill=\"#000000\" fill-rule=\"evenodd\" fill-opacity=\"1\" /><path clip-path=\"url(#clip560)\" d=\"M291.335 354.875 L280.756 365.5 L291.335 376.078 L288.58 378.879 L277.955 368.254 L267.33 378.879 L264.599 376.078 L275.154 365.5 L264.599 354.875 L267.33 352.074 L277.955 362.699 L288.58 352.074 L291.335 354.875 Z\" fill=\"#000000\" fill-rule=\"evenodd\" fill-opacity=\"1\" /><path clip-path=\"url(#clip560)\" d=\"M303.696 376.402 L311.334 376.402 L311.334 350.037 L303.024 351.703 L303.024 347.444 L311.288 345.777 L315.964 345.777 L315.964 376.402 L323.603 376.402 L323.603 380.337 L303.696 380.337 L303.696 376.402 Z\" fill=\"#000000\" fill-rule=\"evenodd\" fill-opacity=\"1\" /><path clip-path=\"url(#clip560)\" d=\"M343.047 348.856 Q339.436 348.856 337.607 352.421 Q335.802 355.963 335.802 363.092 Q335.802 370.199 337.607 373.763 Q339.436 377.305 343.047 377.305 Q346.682 377.305 348.487 373.763 Q350.316 370.199 350.316 363.092 Q350.316 355.963 348.487 352.421 Q346.682 348.856 343.047 348.856 M343.047 345.152 Q348.857 345.152 351.913 349.759 Q354.992 354.342 354.992 363.092 Q354.992 371.819 351.913 376.425 Q348.857 381.009 343.047 381.009 Q337.237 381.009 334.158 376.425 Q331.103 371.819 331.103 363.092 Q331.103 354.342 334.158 349.759 Q337.237 345.152 343.047 345.152 Z\" fill=\"#000000\" fill-rule=\"evenodd\" fill-opacity=\"1\" /><path clip-path=\"url(#clip560)\" d=\"M367.687 337.787 Q370.414 338.37 371.937 340.213 Q373.48 342.056 373.48 344.764 Q373.48 348.921 370.621 351.197 Q367.762 353.472 362.496 353.472 Q360.728 353.472 358.847 353.115 Q356.985 352.777 354.992 352.081 L354.992 348.413 Q356.572 349.335 358.452 349.805 Q360.333 350.275 362.383 350.275 Q365.957 350.275 367.819 348.865 Q369.699 347.454 369.699 344.764 Q369.699 342.282 367.95 340.89 Q366.22 339.48 363.117 339.48 L359.844 339.48 L359.844 336.357 L363.267 336.357 Q366.069 336.357 367.555 335.248 Q369.041 334.119 369.041 332.013 Q369.041 329.85 367.499 328.703 Q365.975 327.537 363.117 327.537 Q361.556 327.537 359.769 327.875 Q357.982 328.214 355.838 328.928 L355.838 325.543 Q358.001 324.941 359.882 324.64 Q361.781 324.339 363.455 324.339 Q367.781 324.339 370.301 326.314 Q372.821 328.27 372.821 331.618 Q372.821 333.95 371.486 335.567 Q370.151 337.166 367.687 337.787 Z\" fill=\"#000000\" fill-rule=\"evenodd\" fill-opacity=\"1\" /><path clip-path=\"url(#clip560)\" d=\"M388.808 327.348 Q385.874 327.348 384.388 330.245 Q382.921 333.122 382.921 338.915 Q382.921 344.689 384.388 347.586 Q385.874 350.463 388.808 350.463 Q391.761 350.463 393.228 347.586 Q394.714 344.689 394.714 338.915 Q394.714 333.122 393.228 330.245 Q391.761 327.348 388.808 327.348 M388.808 324.339 Q393.529 324.339 396.011 328.082 Q398.513 331.806 398.513 338.915 Q398.513 346.006 396.011 349.749 Q393.529 353.472 388.808 353.472 Q384.087 353.472 381.586 349.749 Q379.103 346.006 379.103 338.915 Q379.103 331.806 381.586 328.082 Q384.087 324.339 388.808 324.339 Z\" fill=\"#000000\" fill-rule=\"evenodd\" fill-opacity=\"1\" /><path clip-path=\"url(#clip560)\" d=\"M413.315 327.348 Q410.381 327.348 408.895 330.245 Q407.428 333.122 407.428 338.915 Q407.428 344.689 408.895 347.586 Q410.381 350.463 413.315 350.463 Q416.267 350.463 417.734 347.586 Q419.22 344.689 419.22 338.915 Q419.22 333.122 417.734 330.245 Q416.267 327.348 413.315 327.348 M413.315 324.339 Q418.035 324.339 420.518 328.082 Q423.019 331.806 423.019 338.915 Q423.019 346.006 420.518 349.749 Q418.035 353.472 413.315 353.472 Q408.594 353.472 406.092 349.749 Q403.61 346.006 403.61 338.915 Q403.61 331.806 406.092 328.082 Q408.594 324.339 413.315 324.339 Z\" fill=\"#000000\" fill-rule=\"evenodd\" fill-opacity=\"1\" /><path clip-path=\"url(#clip560)\" d=\"M117.84 217.871 L147.516 217.871 L147.516 221.806 L117.84 221.806 L117.84 217.871 Z\" fill=\"#000000\" fill-rule=\"evenodd\" fill-opacity=\"1\" /><path clip-path=\"url(#clip560)\" d=\"M161.636 230.765 L177.956 230.765 L177.956 234.7 L156.011 234.7 L156.011 230.765 Q158.673 228.01 163.257 223.381 Q167.863 218.728 169.044 217.385 Q171.289 214.862 172.169 213.126 Q173.071 211.367 173.071 209.677 Q173.071 206.922 171.127 205.186 Q169.206 203.45 166.104 203.45 Q163.905 203.45 161.451 204.214 Q159.02 204.978 156.243 206.529 L156.243 201.807 Q159.067 200.672 161.52 200.094 Q163.974 199.515 166.011 199.515 Q171.382 199.515 174.576 202.2 Q177.77 204.885 177.77 209.376 Q177.77 211.506 176.96 213.427 Q176.173 215.325 174.067 217.918 Q173.488 218.589 170.386 221.806 Q167.284 225.001 161.636 230.765 Z\" fill=\"#000000\" fill-rule=\"evenodd\" fill-opacity=\"1\" /><path clip-path=\"url(#clip560)\" d=\"M187.77 228.82 L192.655 228.82 L192.655 234.7 L187.77 234.7 L187.77 228.82 Z\" fill=\"#000000\" fill-rule=\"evenodd\" fill-opacity=\"1\" /><path clip-path=\"url(#clip560)\" d=\"M202.886 200.14 L221.242 200.14 L221.242 204.075 L207.168 204.075 L207.168 212.547 Q208.187 212.2 209.205 212.038 Q210.224 211.853 211.242 211.853 Q217.029 211.853 220.409 215.024 Q223.789 218.195 223.789 223.612 Q223.789 229.191 220.316 232.293 Q216.844 235.371 210.525 235.371 Q208.349 235.371 206.08 235.001 Q203.835 234.63 201.428 233.89 L201.428 229.191 Q203.511 230.325 205.733 230.88 Q207.955 231.436 210.432 231.436 Q214.437 231.436 216.775 229.33 Q219.113 227.223 219.113 223.612 Q219.113 220.001 216.775 217.894 Q214.437 215.788 210.432 215.788 Q208.557 215.788 206.682 216.205 Q204.83 216.621 202.886 217.501 L202.886 200.14 Z\" fill=\"#000000\" fill-rule=\"evenodd\" fill-opacity=\"1\" /><path clip-path=\"url(#clip560)\" d=\"M243.002 203.219 Q239.39 203.219 237.562 206.783 Q235.756 210.325 235.756 217.455 Q235.756 224.561 237.562 228.126 Q239.39 231.668 243.002 231.668 Q246.636 231.668 248.441 228.126 Q250.27 224.561 250.27 217.455 Q250.27 210.325 248.441 206.783 Q246.636 203.219 243.002 203.219 M243.002 199.515 Q248.812 199.515 251.867 204.121 Q254.946 208.705 254.946 217.455 Q254.946 226.181 251.867 230.788 Q248.812 235.371 243.002 235.371 Q237.191 235.371 234.113 230.788 Q231.057 226.181 231.057 217.455 Q231.057 208.705 234.113 204.121 Q237.191 199.515 243.002 199.515 Z\" fill=\"#000000\" fill-rule=\"evenodd\" fill-opacity=\"1\" /><path clip-path=\"url(#clip560)\" d=\"M291.335 209.237 L280.756 219.862 L291.335 230.441 L288.58 233.242 L277.955 222.617 L267.33 233.242 L264.599 230.441 L275.154 219.862 L264.599 209.237 L267.33 206.436 L277.955 217.061 L288.58 206.436 L291.335 209.237 Z\" fill=\"#000000\" fill-rule=\"evenodd\" fill-opacity=\"1\" /><path clip-path=\"url(#clip560)\" d=\"M303.696 230.765 L311.334 230.765 L311.334 204.399 L303.024 206.066 L303.024 201.807 L311.288 200.14 L315.964 200.14 L315.964 230.765 L323.603 230.765 L323.603 234.7 L303.696 234.7 L303.696 230.765 Z\" fill=\"#000000\" fill-rule=\"evenodd\" fill-opacity=\"1\" /><path clip-path=\"url(#clip560)\" d=\"M343.047 203.219 Q339.436 203.219 337.607 206.783 Q335.802 210.325 335.802 217.455 Q335.802 224.561 337.607 228.126 Q339.436 231.668 343.047 231.668 Q346.682 231.668 348.487 228.126 Q350.316 224.561 350.316 217.455 Q350.316 210.325 348.487 206.783 Q346.682 203.219 343.047 203.219 M343.047 199.515 Q348.857 199.515 351.913 204.121 Q354.992 208.705 354.992 217.455 Q354.992 226.181 351.913 230.788 Q348.857 235.371 343.047 235.371 Q337.237 235.371 334.158 230.788 Q331.103 226.181 331.103 217.455 Q331.103 208.705 334.158 204.121 Q337.237 199.515 343.047 199.515 Z\" fill=\"#000000\" fill-rule=\"evenodd\" fill-opacity=\"1\" /><path clip-path=\"url(#clip560)\" d=\"M367.687 192.149 Q370.414 192.732 371.937 194.575 Q373.48 196.419 373.48 199.127 Q373.48 203.283 370.621 205.559 Q367.762 207.835 362.496 207.835 Q360.728 207.835 358.847 207.478 Q356.985 207.139 354.992 206.443 L354.992 202.776 Q356.572 203.697 358.452 204.167 Q360.333 204.638 362.383 204.638 Q365.957 204.638 367.819 203.227 Q369.699 201.816 369.699 199.127 Q369.699 196.644 367.95 195.253 Q366.22 193.842 363.117 193.842 L359.844 193.842 L359.844 190.72 L363.267 190.72 Q366.069 190.72 367.555 189.61 Q369.041 188.482 369.041 186.375 Q369.041 184.212 367.499 183.065 Q365.975 181.899 363.117 181.899 Q361.556 181.899 359.769 182.238 Q357.982 182.576 355.838 183.291 L355.838 179.905 Q358.001 179.304 359.882 179.003 Q361.781 178.702 363.455 178.702 Q367.781 178.702 370.301 180.677 Q372.821 182.633 372.821 185.98 Q372.821 188.312 371.486 189.93 Q370.151 191.529 367.687 192.149 Z\" fill=\"#000000\" fill-rule=\"evenodd\" fill-opacity=\"1\" /><path clip-path=\"url(#clip560)\" d=\"M388.808 181.711 Q385.874 181.711 384.388 184.607 Q382.921 187.485 382.921 193.278 Q382.921 199.052 384.388 201.948 Q385.874 204.826 388.808 204.826 Q391.761 204.826 393.228 201.948 Q394.714 199.052 394.714 193.278 Q394.714 187.485 393.228 184.607 Q391.761 181.711 388.808 181.711 M388.808 178.702 Q393.529 178.702 396.011 182.444 Q398.513 186.168 398.513 193.278 Q398.513 200.368 396.011 204.111 Q393.529 207.835 388.808 207.835 Q384.087 207.835 381.586 204.111 Q379.103 200.368 379.103 193.278 Q379.103 186.168 381.586 182.444 Q384.087 178.702 388.808 178.702 Z\" fill=\"#000000\" fill-rule=\"evenodd\" fill-opacity=\"1\" /><path clip-path=\"url(#clip560)\" d=\"M413.315 181.711 Q410.381 181.711 408.895 184.607 Q407.428 187.485 407.428 193.278 Q407.428 199.052 408.895 201.948 Q410.381 204.826 413.315 204.826 Q416.267 204.826 417.734 201.948 Q419.22 199.052 419.22 193.278 Q419.22 187.485 417.734 184.607 Q416.267 181.711 413.315 181.711 M413.315 178.702 Q418.035 178.702 420.518 182.444 Q423.019 186.168 423.019 193.278 Q423.019 200.368 420.518 204.111 Q418.035 207.835 413.315 207.835 Q408.594 207.835 406.092 204.111 Q403.61 200.368 403.61 193.278 Q403.61 186.168 406.092 182.444 Q408.594 178.702 413.315 178.702 Z\" fill=\"#000000\" fill-rule=\"evenodd\" fill-opacity=\"1\" /><path clip-path=\"url(#clip560)\" d=\"M411.075 51.1335 Q407.464 51.1335 405.635 54.6983 Q403.83 58.2399 403.83 65.3695 Q403.83 72.4759 405.635 76.0407 Q407.464 79.5824 411.075 79.5824 Q414.709 79.5824 416.515 76.0407 Q418.343 72.4759 418.343 65.3695 Q418.343 58.2399 416.515 54.6983 Q414.709 51.1335 411.075 51.1335 M411.075 47.4298 Q416.885 47.4298 419.941 52.0362 Q423.019 56.6195 423.019 65.3695 Q423.019 74.0963 419.941 78.7028 Q416.885 83.2861 411.075 83.2861 Q405.265 83.2861 402.186 78.7028 Q399.131 74.0963 399.131 65.3695 Q399.131 56.6195 402.186 52.0362 Q405.265 47.4298 411.075 47.4298 Z\" fill=\"#000000\" fill-rule=\"evenodd\" fill-opacity=\"1\" /><path clip-path=\"url(#clip560)\" d=\"M17.9264 419.083 Q18.5383 419.083 19.0536 419.212 L30.5189 421.016 Q31.3884 421.112 31.7105 421.306 Q32.0325 421.467 32.0325 421.982 Q32.0325 422.787 31.1952 422.787 Q30.7121 422.787 29.9391 422.594 Q26.2999 422.046 24.6574 422.046 Q23.5624 422.046 22.7572 422.272 Q21.9199 422.465 21.3402 422.787 Q20.7605 423.077 20.374 423.753 Q19.9875 424.43 19.7621 425.074 Q19.5367 425.718 19.44 426.877 Q19.3112 428.037 19.279 429.035 Q19.2468 430.033 19.2468 431.676 Q19.2468 435.251 19.3756 435.831 Q19.5367 436.442 20.0197 436.764 Q20.4706 437.054 21.8233 437.376 L56.831 446.136 L58.2159 446.394 Q58.9888 446.394 59.2465 445.911 Q59.5041 445.428 59.6652 443.946 Q59.8262 441.821 59.8262 439.727 Q59.8262 439.663 59.8262 439.534 Q59.8262 438.826 59.8584 438.536 Q59.8584 438.246 59.9228 437.956 Q59.9872 437.666 60.1482 437.602 Q60.2771 437.505 60.5347 437.505 Q61.1466 437.505 61.4687 437.763 Q61.7585 438.021 61.823 438.278 Q61.8552 438.504 61.8552 438.954 Q61.8552 439.856 61.7907 441.789 Q61.7263 443.721 61.7263 444.687 L61.6619 450.162 L61.7263 455.766 Q61.7263 456.635 61.7907 458.471 Q61.8552 460.307 61.8552 461.177 Q61.8552 462.304 61.05 462.304 Q60.1482 462.304 59.9872 461.885 Q59.8262 461.434 59.8262 459.534 Q59.8262 456.861 59.6974 455.412 Q59.5685 453.962 59.1177 453.189 Q58.6668 452.384 58.2159 452.159 Q57.7328 451.933 56.6378 451.676 L21.4368 442.819 Q20.6639 442.562 20.0519 442.562 Q19.7299 442.562 19.6011 442.658 Q19.4722 442.723 19.3756 443.141 Q19.2468 443.56 19.2468 444.429 L19.2468 447.006 Q19.2468 449.647 19.3756 451.289 Q19.4722 452.9 19.9553 454.445 Q20.4384 455.959 21.1147 456.861 Q21.7911 457.73 23.1759 458.697 Q24.5608 459.663 26.2355 460.371 Q27.9102 461.048 30.6477 462.014 Q31.5494 462.336 31.8071 462.529 Q32.0325 462.69 32.0325 463.141 Q32.0325 463.463 31.8393 463.721 Q31.6139 463.946 31.324 463.946 Q30.2612 463.624 30.1324 463.56 L18.5061 459.598 Q17.5721 459.276 17.4111 458.987 Q17.2178 458.664 17.2178 457.473 L17.2178 420.887 Q17.2178 420.307 17.2178 420.114 Q17.2178 419.921 17.2822 419.599 Q17.3467 419.277 17.5077 419.18 Q17.6687 419.083 17.9264 419.083 Z\" fill=\"#000000\" fill-rule=\"evenodd\" fill-opacity=\"1\" /><path clip-path=\"url(#clip560)\" d=\"M51.2753 393.547 Q52.1996 393.547 52.9661 394.336 Q53.7326 395.125 53.7326 396.05 Q53.7326 396.816 53.2591 397.29 Q52.7857 397.741 52.0643 397.741 Q51.0724 397.741 50.351 396.951 Q49.607 396.162 49.607 395.306 Q49.607 394.517 50.103 394.043 Q50.5764 393.547 51.2753 393.547 M63.9676 395.261 Q64.7566 395.261 65.681 395.486 L82.589 399.724 Q84.2347 400.13 85.5874 401.1 Q86.9626 402.069 87.8193 403.309 Q88.6759 404.526 89.1268 405.856 Q89.6002 407.164 89.6002 408.404 Q89.6002 410.14 88.8337 411.312 Q88.0672 412.484 86.7371 412.484 Q85.5648 412.484 84.8209 411.718 Q84.0995 410.929 84.0995 409.982 Q84.0995 409.125 84.5955 408.674 Q85.0914 408.224 85.7227 408.224 Q86.4892 408.224 87.2106 408.787 Q87.932 409.328 88.1574 410.298 Q88.5858 409.418 88.5858 408.494 Q88.5858 406.6 86.8499 405.067 Q85.1365 403.512 82.4312 402.835 L65.2075 398.484 Q63.8323 398.169 62.8629 398.169 Q61.9612 398.169 61.4652 398.417 Q60.9692 398.665 60.8565 398.958 Q60.7438 399.228 60.7438 399.634 Q60.7438 401.415 62.3895 402.948 Q64.0127 404.481 66.3798 405.451 Q67.0336 405.721 67.1689 405.856 Q67.3041 405.969 67.3041 406.285 Q67.2816 406.848 66.8307 406.848 Q66.6954 406.848 66.1544 406.623 Q65.6133 406.397 64.8243 405.992 Q64.0127 405.586 63.1335 404.932 Q62.2542 404.278 61.4877 403.512 Q60.7212 402.723 60.2253 401.663 Q59.7293 400.604 59.7293 399.499 Q59.7293 397.718 60.9016 396.501 Q62.0513 395.261 63.9676 395.261 Z\" fill=\"#000000\" fill-rule=\"evenodd\" fill-opacity=\"1\" /><path clip-path=\"url(#clip560)\" d=\"M80.1317 388.487 Q79.2976 388.487 79.0496 388.419 Q78.8016 388.329 78.4184 387.968 L68.5441 379.108 Q63.0884 374.261 58.3316 374.261 Q55.243 374.261 53.0337 375.884 Q50.8244 377.485 50.8244 380.438 Q50.8244 382.467 52.0643 384.181 Q53.3042 385.894 55.5136 386.683 Q55.4685 386.548 55.4685 386.074 Q55.4685 384.925 56.1899 384.293 Q56.9113 383.64 57.8807 383.64 Q59.1206 383.64 59.7293 384.451 Q60.3155 385.24 60.3155 386.029 Q60.3155 386.345 60.2478 386.773 Q60.1802 387.179 59.549 387.833 Q58.8952 388.487 57.7454 388.487 Q54.5216 388.487 51.9516 386.052 Q49.3816 383.595 49.3816 379.852 Q49.3816 375.614 51.9065 372.841 Q54.4089 370.046 58.3316 370.046 Q59.7068 370.046 60.9692 370.474 Q62.2092 370.88 63.1786 371.443 Q64.148 371.984 65.7035 373.472 Q67.259 374.96 68.3637 376.155 Q69.4684 377.35 71.8129 380.033 L76.5698 384.925 L76.5698 376.606 Q76.5698 372.548 76.209 372.232 Q75.5553 371.781 72.106 371.218 L72.106 370.046 L80.1317 371.353 L80.1317 388.487 Z\" fill=\"#000000\" fill-rule=\"evenodd\" fill-opacity=\"1\" /><path clip-path=\"url(#clip560)\" d=\"M78.3446 358.582 L12.387 358.582 L12.387 348.63 L13.9006 348.63 L13.9006 354.17 L76.8309 354.17 L76.8309 348.63 L78.3446 348.63 L78.3446 358.582 Z\" fill=\"#000000\" fill-rule=\"evenodd\" fill-opacity=\"1\" /><path clip-path=\"url(#clip560)\" d=\"M17.5399 290.105 Q17.9586 290.105 18.2484 290.201 Q18.5061 290.298 18.6349 290.523 Q18.7637 290.749 18.7959 290.878 Q18.8281 291.007 18.8603 291.296 Q18.9892 292.681 19.2146 293.647 Q19.44 294.581 20.5994 296.9 Q21.7589 299.187 23.8522 302.053 L32.7733 313.583 L34.2869 315.515 Q34.3836 315.515 34.5768 315.451 Q34.7378 315.386 34.9633 315.322 Q35.1565 315.225 35.2209 315.193 L56.831 305.821 Q58.5702 305.08 59.1821 304.179 Q59.794 303.277 59.8262 301.248 Q59.8262 300.926 59.8584 300.797 Q59.8584 300.636 59.9228 300.411 Q59.955 300.153 60.116 300.056 Q60.2771 299.928 60.5347 299.928 Q61.8552 299.928 61.8552 301.119 Q61.8552 301.86 61.7585 304.372 Q61.6619 306.884 61.6619 307.593 Q61.6619 308.913 61.7585 311.618 Q61.8552 314.324 61.8552 315.644 Q61.8552 316.578 61.1144 316.578 Q60.5025 316.578 60.2127 316.353 Q59.8906 316.095 59.8584 315.869 Q59.8262 315.644 59.8262 315.129 Q59.8262 314.742 59.794 314.324 Q59.7296 313.873 59.5685 313.229 Q59.3753 312.552 58.9244 312.134 Q58.4413 311.683 57.765 311.683 Q57.2175 311.683 55.4462 312.488 L37.7008 320.121 L45.3658 329.943 L55.736 332.584 Q56.1225 332.649 56.7988 332.81 Q57.4752 332.971 57.9582 333.1 Q58.4413 333.196 58.6346 333.196 Q59.0532 333.196 59.3109 332.939 Q59.5685 332.649 59.6974 331.94 Q59.794 331.232 59.8262 330.684 Q59.8262 330.104 59.8262 328.913 Q59.8262 327.431 60.0838 327.174 Q60.2449 327.045 60.5347 327.045 Q60.9856 327.045 61.3077 327.174 Q61.5975 327.303 61.6941 327.56 Q61.7907 327.786 61.823 327.947 Q61.8552 328.108 61.8552 328.365 Q61.8552 329.042 61.7907 330.491 Q61.7263 331.908 61.7263 332.649 L61.6619 336.868 L61.8552 345.241 Q61.8552 346.24 61.05 346.24 Q60.4381 346.24 60.1805 345.982 Q59.8906 345.724 59.8584 345.434 Q59.8262 345.145 59.8262 344.404 Q59.8262 342.794 59.7296 341.827 Q59.633 340.861 59.5041 340.249 Q59.3431 339.605 58.8922 339.283 Q58.4413 338.929 58.0549 338.768 Q57.6362 338.607 56.7022 338.381 L21.2758 329.557 Q20.213 329.299 20.0519 329.299 Q19.5044 329.299 19.3112 329.621 Q19.0858 329.911 18.9892 330.749 Q18.8603 332.359 18.8603 333.583 Q18.8603 334.388 18.8281 334.71 Q18.7959 335 18.6349 335.257 Q18.4417 335.483 18.0552 335.483 Q16.7992 335.483 16.7992 334.162 L16.9924 325.66 L16.7992 317.222 Q16.7992 316.288 17.5399 316.288 Q18.4739 316.288 18.6671 316.739 Q18.8603 317.158 18.8603 318.543 Q18.8603 320.958 19.1824 322.053 Q19.4722 323.116 19.9875 323.438 Q20.4706 323.728 21.8877 324.082 L43.0469 329.364 L23.2725 303.631 Q21.2758 301.248 20.2452 301.248 Q19.5689 301.248 19.279 301.731 Q18.957 302.182 18.8603 303.309 Q18.7315 304.114 18.1196 304.114 Q17.5077 304.114 17.2178 303.889 Q16.8958 303.631 16.8636 303.438 Q16.7992 303.213 16.7992 302.858 Q16.7992 301.667 16.8958 299.187 Q16.9924 296.707 16.9924 295.515 Q16.9924 294.71 16.8958 293.132 Q16.7992 291.554 16.7992 290.845 Q16.7992 290.491 17.0568 290.298 Q17.2822 290.105 17.5399 290.105 Z\" fill=\"#000000\" fill-rule=\"evenodd\" fill-opacity=\"1\" /><path clip-path=\"url(#clip560)\" d=\"M76.8309 287.896 L76.8309 282.357 L13.9006 282.357 L13.9006 287.896 L12.387 287.896 L12.387 277.944 L78.3446 277.944 L78.3446 287.896 L76.8309 287.896 Z\" fill=\"#000000\" fill-rule=\"evenodd\" fill-opacity=\"1\" /><polyline clip-path=\"url(#clip563)\" style=\"stroke:#000000; stroke-linecap:round; stroke-linejoin:round; stroke-width:4; stroke-opacity:1; fill:none\" stroke-dasharray=\"2, 4\" points=\"512.616,65.3348 558.425,65.3348 604.233,65.3348 650.042,65.3348 695.851,65.3348 741.66,65.3348 787.469,65.3348 833.277,65.3348 879.086,65.3348 924.895,65.3348 970.704,65.3348 1016.51,65.3348 1062.32,65.3348 1108.13,65.3348 1153.94,65.3348 1199.75,65.3348 1245.56,65.3348 1291.37,65.3348 1337.17,65.3348 1382.98,65.3348 1428.79,65.3348 1474.6,65.3348 1520.41,65.3348 1566.22,65.3348 1612.03,65.3348 1657.84,65.3348 1703.64,65.3348 1749.45,65.3348 1795.26,65.3348 1841.07,65.3348 1886.88,65.3348 1932.69,65.3348 1978.5,65.3348 2024.31,65.3348 2070.12,65.3348 2115.92,65.3348 2161.73,65.3348 2207.54,65.3348 2253.35,65.3348 2299.16,65.3348 \"/>\n",
       "<polyline clip-path=\"url(#clip563)\" style=\"stroke:#ff0000; stroke-linecap:round; stroke-linejoin:round; stroke-width:12; stroke-opacity:0.3; fill:none\" points=\"512.616,65.3348 558.425,65.3348 604.233,65.3348 650.042,65.3348 695.851,65.3348 741.66,65.3348 787.469,65.3348 833.277,65.3348 879.086,65.3348 924.895,65.3348 970.704,65.3348 1016.51,65.3348 1062.32,65.3348 1108.13,65.3348 1153.94,65.3348 1199.75,65.3348 1245.56,65.3348 1291.37,65.3348 1337.17,65.3348 1382.98,65.3348 1428.79,65.3348 1474.6,65.3348 1520.41,65.3348 1566.22,65.3348 1612.03,65.3348 1657.84,65.3348 1703.64,65.3348 1749.45,65.3348 1795.26,65.3348 1841.07,65.3348 1886.88,65.3348 1932.69,65.3348 1978.5,65.3348 2024.31,65.3348 2070.12,65.3348 2115.92,65.3348 2161.73,65.3348 2207.54,65.3348 2253.35,65.3348 2299.16,65.3348 \"/>\n",
       "<polyline clip-path=\"url(#clip563)\" style=\"stroke:#0000ff; stroke-linecap:round; stroke-linejoin:round; stroke-width:12; stroke-opacity:0.3; fill:none\" points=\"512.616,65.3348 558.425,65.3348 604.233,65.3348 650.042,65.3348 695.851,65.3348 741.66,65.3348 787.469,65.3348 833.277,65.3348 879.086,65.3348 924.895,65.3348 970.704,65.3348 1016.51,65.3348 1062.32,65.3348 1108.13,65.3348 1153.94,65.3348 1199.75,65.3348 1245.56,65.3348 1291.37,65.3348 1337.17,65.3348 1382.98,65.3348 1428.79,65.3348 1474.6,65.3348 1520.41,65.3348 1566.22,668.357 1612.03,65.3348 1657.84,65.3348 1703.64,65.3348 1749.45,65.3348 1795.26,65.3348 1841.07,65.3348 1886.88,65.3348 1932.69,65.3348 1978.5,65.3348 2024.31,65.3348 2070.12,65.3348 2115.92,65.3348 2161.73,65.3348 2207.54,65.3348 2253.35,65.3348 2299.16,65.3348 \"/>\n",
       "<path clip-path=\"url(#clip560)\" d=\"M459.019 1486.45 L2352.76 1486.45 L2352.76 847.244 L459.019 847.244  Z\" fill=\"#ffffff\" fill-rule=\"evenodd\" fill-opacity=\"1\"/>\n",
       "<defs>\n",
       "  <clipPath id=\"clip564\">\n",
       "    <rect x=\"459\" y=\"847\" width=\"1895\" height=\"640\"/>\n",
       "  </clipPath>\n",
       "</defs>\n",
       "<polyline clip-path=\"url(#clip564)\" style=\"stroke:#000000; stroke-linecap:round; stroke-linejoin:round; stroke-width:8; stroke-opacity:0.1; fill:none\" points=\"466.807,1486.45 466.807,847.244 \"/>\n",
       "<polyline clip-path=\"url(#clip564)\" style=\"stroke:#000000; stroke-linecap:round; stroke-linejoin:round; stroke-width:8; stroke-opacity:0.1; fill:none\" points=\"924.895,1486.45 924.895,847.244 \"/>\n",
       "<polyline clip-path=\"url(#clip564)\" style=\"stroke:#000000; stroke-linecap:round; stroke-linejoin:round; stroke-width:8; stroke-opacity:0.1; fill:none\" points=\"1382.98,1486.45 1382.98,847.244 \"/>\n",
       "<polyline clip-path=\"url(#clip564)\" style=\"stroke:#000000; stroke-linecap:round; stroke-linejoin:round; stroke-width:8; stroke-opacity:0.1; fill:none\" points=\"1841.07,1486.45 1841.07,847.244 \"/>\n",
       "<polyline clip-path=\"url(#clip564)\" style=\"stroke:#000000; stroke-linecap:round; stroke-linejoin:round; stroke-width:8; stroke-opacity:0.1; fill:none\" points=\"2299.16,1486.45 2299.16,847.244 \"/>\n",
       "<polyline clip-path=\"url(#clip560)\" style=\"stroke:#000000; stroke-linecap:round; stroke-linejoin:round; stroke-width:4; stroke-opacity:1; fill:none\" points=\"459.019,1486.45 2352.76,1486.45 \"/>\n",
       "<polyline clip-path=\"url(#clip560)\" style=\"stroke:#000000; stroke-linecap:round; stroke-linejoin:round; stroke-width:4; stroke-opacity:1; fill:none\" points=\"466.807,1486.45 466.807,1467.55 \"/>\n",
       "<polyline clip-path=\"url(#clip560)\" style=\"stroke:#000000; stroke-linecap:round; stroke-linejoin:round; stroke-width:4; stroke-opacity:1; fill:none\" points=\"924.895,1486.45 924.895,1467.55 \"/>\n",
       "<polyline clip-path=\"url(#clip560)\" style=\"stroke:#000000; stroke-linecap:round; stroke-linejoin:round; stroke-width:4; stroke-opacity:1; fill:none\" points=\"1382.98,1486.45 1382.98,1467.55 \"/>\n",
       "<polyline clip-path=\"url(#clip560)\" style=\"stroke:#000000; stroke-linecap:round; stroke-linejoin:round; stroke-width:4; stroke-opacity:1; fill:none\" points=\"1841.07,1486.45 1841.07,1467.55 \"/>\n",
       "<polyline clip-path=\"url(#clip560)\" style=\"stroke:#000000; stroke-linecap:round; stroke-linejoin:round; stroke-width:4; stroke-opacity:1; fill:none\" points=\"2299.16,1486.45 2299.16,1467.55 \"/>\n",
       "<path clip-path=\"url(#clip560)\" d=\"M466.807 1517.37 Q463.196 1517.37 461.367 1520.93 Q459.562 1524.47 459.562 1531.6 Q459.562 1538.71 461.367 1542.27 Q463.196 1545.82 466.807 1545.82 Q470.441 1545.82 472.247 1542.27 Q474.075 1538.71 474.075 1531.6 Q474.075 1524.47 472.247 1520.93 Q470.441 1517.37 466.807 1517.37 M466.807 1513.66 Q472.617 1513.66 475.673 1518.27 Q478.751 1522.85 478.751 1531.6 Q478.751 1540.33 475.673 1544.94 Q472.617 1549.52 466.807 1549.52 Q460.997 1549.52 457.918 1544.94 Q454.862 1540.33 454.862 1531.6 Q454.862 1522.85 457.918 1518.27 Q460.997 1513.66 466.807 1513.66 Z\" fill=\"#000000\" fill-rule=\"evenodd\" fill-opacity=\"1\" /><path clip-path=\"url(#clip560)\" d=\"M899.583 1544.91 L907.222 1544.91 L907.222 1518.55 L898.911 1520.21 L898.911 1515.95 L907.175 1514.29 L911.851 1514.29 L911.851 1544.91 L919.49 1544.91 L919.49 1548.85 L899.583 1548.85 L899.583 1544.91 Z\" fill=\"#000000\" fill-rule=\"evenodd\" fill-opacity=\"1\" /><path clip-path=\"url(#clip560)\" d=\"M938.934 1517.37 Q935.323 1517.37 933.495 1520.93 Q931.689 1524.47 931.689 1531.6 Q931.689 1538.71 933.495 1542.27 Q935.323 1545.82 938.934 1545.82 Q942.569 1545.82 944.374 1542.27 Q946.203 1538.71 946.203 1531.6 Q946.203 1524.47 944.374 1520.93 Q942.569 1517.37 938.934 1517.37 M938.934 1513.66 Q944.744 1513.66 947.8 1518.27 Q950.879 1522.85 950.879 1531.6 Q950.879 1540.33 947.8 1544.94 Q944.744 1549.52 938.934 1549.52 Q933.124 1549.52 930.045 1544.94 Q926.99 1540.33 926.99 1531.6 Q926.99 1522.85 930.045 1518.27 Q933.124 1513.66 938.934 1513.66 Z\" fill=\"#000000\" fill-rule=\"evenodd\" fill-opacity=\"1\" /><path clip-path=\"url(#clip560)\" d=\"M1361.76 1544.91 L1378.08 1544.91 L1378.08 1548.85 L1356.13 1548.85 L1356.13 1544.91 Q1358.79 1542.16 1363.38 1537.53 Q1367.98 1532.88 1369.16 1531.53 Q1371.41 1529.01 1372.29 1527.27 Q1373.19 1525.51 1373.19 1523.82 Q1373.19 1521.07 1371.25 1519.33 Q1369.33 1517.6 1366.22 1517.6 Q1364.02 1517.6 1361.57 1518.36 Q1359.14 1519.13 1356.36 1520.68 L1356.36 1515.95 Q1359.19 1514.82 1361.64 1514.24 Q1364.09 1513.66 1366.13 1513.66 Q1371.5 1513.66 1374.7 1516.35 Q1377.89 1519.03 1377.89 1523.52 Q1377.89 1525.65 1377.08 1527.57 Q1376.29 1529.47 1374.19 1532.07 Q1373.61 1532.74 1370.51 1535.95 Q1367.4 1539.15 1361.76 1544.91 Z\" fill=\"#000000\" fill-rule=\"evenodd\" fill-opacity=\"1\" /><path clip-path=\"url(#clip560)\" d=\"M1397.89 1517.37 Q1394.28 1517.37 1392.45 1520.93 Q1390.65 1524.47 1390.65 1531.6 Q1390.65 1538.71 1392.45 1542.27 Q1394.28 1545.82 1397.89 1545.82 Q1401.52 1545.82 1403.33 1542.27 Q1405.16 1538.71 1405.16 1531.6 Q1405.16 1524.47 1403.33 1520.93 Q1401.52 1517.37 1397.89 1517.37 M1397.89 1513.66 Q1403.7 1513.66 1406.76 1518.27 Q1409.83 1522.85 1409.83 1531.6 Q1409.83 1540.33 1406.76 1544.94 Q1403.7 1549.52 1397.89 1549.52 Q1392.08 1549.52 1389 1544.94 Q1385.95 1540.33 1385.95 1531.6 Q1385.95 1522.85 1389 1518.27 Q1392.08 1513.66 1397.89 1513.66 Z\" fill=\"#000000\" fill-rule=\"evenodd\" fill-opacity=\"1\" /><path clip-path=\"url(#clip560)\" d=\"M1829.91 1530.21 Q1833.27 1530.93 1835.15 1533.2 Q1837.04 1535.47 1837.04 1538.8 Q1837.04 1543.92 1833.53 1546.72 Q1830.01 1549.52 1823.53 1549.52 Q1821.35 1549.52 1819.03 1549.08 Q1816.74 1548.66 1814.29 1547.81 L1814.29 1543.29 Q1816.23 1544.43 1818.55 1545.01 Q1820.86 1545.58 1823.39 1545.58 Q1827.78 1545.58 1830.08 1543.85 Q1832.39 1542.11 1832.39 1538.8 Q1832.39 1535.75 1830.24 1534.03 Q1828.11 1532.3 1824.29 1532.3 L1820.26 1532.3 L1820.26 1528.45 L1824.47 1528.45 Q1827.92 1528.45 1829.75 1527.09 Q1831.58 1525.7 1831.58 1523.11 Q1831.58 1520.45 1829.68 1519.03 Q1827.81 1517.6 1824.29 1517.6 Q1822.37 1517.6 1820.17 1518.01 Q1817.97 1518.43 1815.33 1519.31 L1815.33 1515.14 Q1817.99 1514.4 1820.31 1514.03 Q1822.65 1513.66 1824.71 1513.66 Q1830.03 1513.66 1833.13 1516.09 Q1836.23 1518.5 1836.23 1522.62 Q1836.23 1525.49 1834.59 1527.48 Q1832.95 1529.45 1829.91 1530.21 Z\" fill=\"#000000\" fill-rule=\"evenodd\" fill-opacity=\"1\" /><path clip-path=\"url(#clip560)\" d=\"M1855.91 1517.37 Q1852.3 1517.37 1850.47 1520.93 Q1848.66 1524.47 1848.66 1531.6 Q1848.66 1538.71 1850.47 1542.27 Q1852.3 1545.82 1855.91 1545.82 Q1859.54 1545.82 1861.35 1542.27 Q1863.18 1538.71 1863.18 1531.6 Q1863.18 1524.47 1861.35 1520.93 Q1859.54 1517.37 1855.91 1517.37 M1855.91 1513.66 Q1861.72 1513.66 1864.77 1518.27 Q1867.85 1522.85 1867.85 1531.6 Q1867.85 1540.33 1864.77 1544.94 Q1861.72 1549.52 1855.91 1549.52 Q1850.1 1549.52 1847.02 1544.94 Q1843.96 1540.33 1843.96 1531.6 Q1843.96 1522.85 1847.02 1518.27 Q1850.1 1513.66 1855.91 1513.66 Z\" fill=\"#000000\" fill-rule=\"evenodd\" fill-opacity=\"1\" /><path clip-path=\"url(#clip560)\" d=\"M2287.33 1518.36 L2275.53 1536.81 L2287.33 1536.81 L2287.33 1518.36 M2286.1 1514.29 L2291.98 1514.29 L2291.98 1536.81 L2296.91 1536.81 L2296.91 1540.7 L2291.98 1540.7 L2291.98 1548.85 L2287.33 1548.85 L2287.33 1540.7 L2271.73 1540.7 L2271.73 1536.19 L2286.1 1514.29 Z\" fill=\"#000000\" fill-rule=\"evenodd\" fill-opacity=\"1\" /><path clip-path=\"url(#clip560)\" d=\"M2314.65 1517.37 Q2311.03 1517.37 2309.21 1520.93 Q2307.4 1524.47 2307.4 1531.6 Q2307.4 1538.71 2309.21 1542.27 Q2311.03 1545.82 2314.65 1545.82 Q2318.28 1545.82 2320.09 1542.27 Q2321.91 1538.71 2321.91 1531.6 Q2321.91 1524.47 2320.09 1520.93 Q2318.28 1517.37 2314.65 1517.37 M2314.65 1513.66 Q2320.46 1513.66 2323.51 1518.27 Q2326.59 1522.85 2326.59 1531.6 Q2326.59 1540.33 2323.51 1544.94 Q2320.46 1549.52 2314.65 1549.52 Q2308.84 1549.52 2305.76 1544.94 Q2302.7 1540.33 2302.7 1531.6 Q2302.7 1522.85 2305.76 1518.27 Q2308.84 1513.66 2314.65 1513.66 Z\" fill=\"#000000\" fill-rule=\"evenodd\" fill-opacity=\"1\" /><polyline clip-path=\"url(#clip564)\" style=\"stroke:#000000; stroke-linecap:round; stroke-linejoin:round; stroke-width:8; stroke-opacity:0.1; fill:none\" points=\"459.019,1468.36 2352.76,1468.36 \"/>\n",
       "<polyline clip-path=\"url(#clip564)\" style=\"stroke:#000000; stroke-linecap:round; stroke-linejoin:round; stroke-width:8; stroke-opacity:0.1; fill:none\" points=\"459.019,1267.35 2352.76,1267.35 \"/>\n",
       "<polyline clip-path=\"url(#clip564)\" style=\"stroke:#000000; stroke-linecap:round; stroke-linejoin:round; stroke-width:8; stroke-opacity:0.1; fill:none\" points=\"459.019,1066.34 2352.76,1066.34 \"/>\n",
       "<polyline clip-path=\"url(#clip564)\" style=\"stroke:#000000; stroke-linecap:round; stroke-linejoin:round; stroke-width:8; stroke-opacity:0.1; fill:none\" points=\"459.019,865.335 2352.76,865.335 \"/>\n",
       "<polyline clip-path=\"url(#clip560)\" style=\"stroke:#000000; stroke-linecap:round; stroke-linejoin:round; stroke-width:4; stroke-opacity:1; fill:none\" points=\"459.019,1486.45 459.019,847.244 \"/>\n",
       "<polyline clip-path=\"url(#clip560)\" style=\"stroke:#000000; stroke-linecap:round; stroke-linejoin:round; stroke-width:4; stroke-opacity:1; fill:none\" points=\"459.019,1468.36 477.917,1468.36 \"/>\n",
       "<polyline clip-path=\"url(#clip560)\" style=\"stroke:#000000; stroke-linecap:round; stroke-linejoin:round; stroke-width:4; stroke-opacity:1; fill:none\" points=\"459.019,1267.35 477.917,1267.35 \"/>\n",
       "<polyline clip-path=\"url(#clip560)\" style=\"stroke:#000000; stroke-linecap:round; stroke-linejoin:round; stroke-width:4; stroke-opacity:1; fill:none\" points=\"459.019,1066.34 477.917,1066.34 \"/>\n",
       "<polyline clip-path=\"url(#clip560)\" style=\"stroke:#000000; stroke-linecap:round; stroke-linejoin:round; stroke-width:4; stroke-opacity:1; fill:none\" points=\"459.019,865.335 477.917,865.335 \"/>\n",
       "<path clip-path=\"url(#clip560)\" d=\"M411.075 1454.16 Q407.464 1454.16 405.635 1457.72 Q403.83 1461.26 403.83 1468.39 Q403.83 1475.5 405.635 1479.06 Q407.464 1482.6 411.075 1482.6 Q414.709 1482.6 416.515 1479.06 Q418.343 1475.5 418.343 1468.39 Q418.343 1461.26 416.515 1457.72 Q414.709 1454.16 411.075 1454.16 M411.075 1450.45 Q416.885 1450.45 419.941 1455.06 Q423.019 1459.64 423.019 1468.39 Q423.019 1477.12 419.941 1481.73 Q416.885 1486.31 411.075 1486.31 Q405.265 1486.31 402.186 1481.73 Q399.131 1477.12 399.131 1468.39 Q399.131 1459.64 402.186 1455.06 Q405.265 1450.45 411.075 1450.45 Z\" fill=\"#000000\" fill-rule=\"evenodd\" fill-opacity=\"1\" /><path clip-path=\"url(#clip560)\" d=\"M341.561 1280.69 L349.2 1280.69 L349.2 1254.33 L340.89 1256 L340.89 1251.74 L349.154 1250.07 L353.83 1250.07 L353.83 1280.69 L361.469 1280.69 L361.469 1284.63 L341.561 1284.63 L341.561 1280.69 Z\" fill=\"#000000\" fill-rule=\"evenodd\" fill-opacity=\"1\" /><path clip-path=\"url(#clip560)\" d=\"M380.913 1253.15 Q377.302 1253.15 375.473 1256.71 Q373.668 1260.25 373.668 1267.38 Q373.668 1274.49 375.473 1278.06 Q377.302 1281.6 380.913 1281.6 Q384.547 1281.6 386.353 1278.06 Q388.182 1274.49 388.182 1267.38 Q388.182 1260.25 386.353 1256.71 Q384.547 1253.15 380.913 1253.15 M380.913 1249.44 Q386.723 1249.44 389.779 1254.05 Q392.857 1258.63 392.857 1267.38 Q392.857 1276.11 389.779 1280.72 Q386.723 1285.3 380.913 1285.3 Q375.103 1285.3 372.024 1280.72 Q368.969 1276.11 368.969 1267.38 Q368.969 1258.63 372.024 1254.05 Q375.103 1249.44 380.913 1249.44 Z\" fill=\"#000000\" fill-rule=\"evenodd\" fill-opacity=\"1\" /><path clip-path=\"url(#clip560)\" d=\"M411.075 1253.15 Q407.464 1253.15 405.635 1256.71 Q403.83 1260.25 403.83 1267.38 Q403.83 1274.49 405.635 1278.06 Q407.464 1281.6 411.075 1281.6 Q414.709 1281.6 416.515 1278.06 Q418.343 1274.49 418.343 1267.38 Q418.343 1260.25 416.515 1256.71 Q414.709 1253.15 411.075 1253.15 M411.075 1249.44 Q416.885 1249.44 419.941 1254.05 Q423.019 1258.63 423.019 1267.38 Q423.019 1276.11 419.941 1280.72 Q416.885 1285.3 411.075 1285.3 Q405.265 1285.3 402.186 1280.72 Q399.131 1276.11 399.131 1267.38 Q399.131 1258.63 402.186 1254.05 Q405.265 1249.44 411.075 1249.44 Z\" fill=\"#000000\" fill-rule=\"evenodd\" fill-opacity=\"1\" /><path clip-path=\"url(#clip560)\" d=\"M344.779 1079.69 L361.098 1079.69 L361.098 1083.62 L339.154 1083.62 L339.154 1079.69 Q341.816 1076.93 346.399 1072.3 Q351.006 1067.65 352.186 1066.31 Q354.432 1063.78 355.311 1062.05 Q356.214 1060.29 356.214 1058.6 Q356.214 1055.84 354.27 1054.11 Q352.348 1052.37 349.247 1052.37 Q347.048 1052.37 344.594 1053.14 Q342.163 1053.9 339.386 1055.45 L339.386 1050.73 Q342.21 1049.59 344.663 1049.02 Q347.117 1048.44 349.154 1048.44 Q354.524 1048.44 357.719 1051.12 Q360.913 1053.81 360.913 1058.3 Q360.913 1060.43 360.103 1062.35 Q359.316 1064.25 357.21 1066.84 Q356.631 1067.51 353.529 1070.73 Q350.427 1073.92 344.779 1079.69 Z\" fill=\"#000000\" fill-rule=\"evenodd\" fill-opacity=\"1\" /><path clip-path=\"url(#clip560)\" d=\"M380.913 1052.14 Q377.302 1052.14 375.473 1055.71 Q373.668 1059.25 373.668 1066.38 Q373.668 1073.48 375.473 1077.05 Q377.302 1080.59 380.913 1080.59 Q384.547 1080.59 386.353 1077.05 Q388.182 1073.48 388.182 1066.38 Q388.182 1059.25 386.353 1055.71 Q384.547 1052.14 380.913 1052.14 M380.913 1048.44 Q386.723 1048.44 389.779 1053.04 Q392.857 1057.63 392.857 1066.38 Q392.857 1075.1 389.779 1079.71 Q386.723 1084.29 380.913 1084.29 Q375.103 1084.29 372.024 1079.71 Q368.969 1075.1 368.969 1066.38 Q368.969 1057.63 372.024 1053.04 Q375.103 1048.44 380.913 1048.44 Z\" fill=\"#000000\" fill-rule=\"evenodd\" fill-opacity=\"1\" /><path clip-path=\"url(#clip560)\" d=\"M411.075 1052.14 Q407.464 1052.14 405.635 1055.71 Q403.83 1059.25 403.83 1066.38 Q403.83 1073.48 405.635 1077.05 Q407.464 1080.59 411.075 1080.59 Q414.709 1080.59 416.515 1077.05 Q418.343 1073.48 418.343 1066.38 Q418.343 1059.25 416.515 1055.71 Q414.709 1052.14 411.075 1052.14 M411.075 1048.44 Q416.885 1048.44 419.941 1053.04 Q423.019 1057.63 423.019 1066.38 Q423.019 1075.1 419.941 1079.71 Q416.885 1084.29 411.075 1084.29 Q405.265 1084.29 402.186 1079.71 Q399.131 1075.1 399.131 1066.38 Q399.131 1057.63 402.186 1053.04 Q405.265 1048.44 411.075 1048.44 Z\" fill=\"#000000\" fill-rule=\"evenodd\" fill-opacity=\"1\" /><path clip-path=\"url(#clip560)\" d=\"M354.918 863.981 Q358.274 864.698 360.149 866.967 Q362.047 869.235 362.047 872.569 Q362.047 877.684 358.529 880.485 Q355.01 883.286 348.529 883.286 Q346.353 883.286 344.038 882.846 Q341.747 882.43 339.293 881.573 L339.293 877.059 Q341.237 878.193 343.552 878.772 Q345.867 879.351 348.39 879.351 Q352.788 879.351 355.08 877.615 Q357.395 875.879 357.395 872.569 Q357.395 869.513 355.242 867.8 Q353.112 866.064 349.293 866.064 L345.265 866.064 L345.265 862.221 L349.478 862.221 Q352.927 862.221 354.756 860.856 Q356.585 859.467 356.585 856.874 Q356.585 854.212 354.686 852.8 Q352.811 851.365 349.293 851.365 Q347.372 851.365 345.173 851.782 Q342.973 852.198 340.335 853.078 L340.335 848.911 Q342.997 848.171 345.311 847.8 Q347.649 847.43 349.71 847.43 Q355.034 847.43 358.135 849.86 Q361.237 852.268 361.237 856.388 Q361.237 859.258 359.594 861.249 Q357.95 863.217 354.918 863.981 Z\" fill=\"#000000\" fill-rule=\"evenodd\" fill-opacity=\"1\" /><path clip-path=\"url(#clip560)\" d=\"M380.913 851.133 Q377.302 851.133 375.473 854.698 Q373.668 858.24 373.668 865.369 Q373.668 872.476 375.473 876.041 Q377.302 879.582 380.913 879.582 Q384.547 879.582 386.353 876.041 Q388.182 872.476 388.182 865.369 Q388.182 858.24 386.353 854.698 Q384.547 851.133 380.913 851.133 M380.913 847.43 Q386.723 847.43 389.779 852.036 Q392.857 856.62 392.857 865.369 Q392.857 874.096 389.779 878.703 Q386.723 883.286 380.913 883.286 Q375.103 883.286 372.024 878.703 Q368.969 874.096 368.969 865.369 Q368.969 856.62 372.024 852.036 Q375.103 847.43 380.913 847.43 Z\" fill=\"#000000\" fill-rule=\"evenodd\" fill-opacity=\"1\" /><path clip-path=\"url(#clip560)\" d=\"M411.075 851.133 Q407.464 851.133 405.635 854.698 Q403.83 858.24 403.83 865.369 Q403.83 872.476 405.635 876.041 Q407.464 879.582 411.075 879.582 Q414.709 879.582 416.515 876.041 Q418.343 872.476 418.343 865.369 Q418.343 858.24 416.515 854.698 Q414.709 851.133 411.075 851.133 M411.075 847.43 Q416.885 847.43 419.941 852.036 Q423.019 856.62 423.019 865.369 Q423.019 874.096 419.941 878.703 Q416.885 883.286 411.075 883.286 Q405.265 883.286 402.186 878.703 Q399.131 874.096 399.131 865.369 Q399.131 856.62 402.186 852.036 Q405.265 847.43 411.075 847.43 Z\" fill=\"#000000\" fill-rule=\"evenodd\" fill-opacity=\"1\" /><path clip-path=\"url(#clip560)\" d=\"M239.24 1219.08 Q239.852 1219.08 240.367 1219.21 L251.833 1221.02 Q252.702 1221.11 253.024 1221.31 Q253.346 1221.47 253.346 1221.98 Q253.346 1222.79 252.509 1222.79 Q252.026 1222.79 251.253 1222.59 Q247.614 1222.05 245.971 1222.05 Q244.876 1222.05 244.071 1222.27 Q243.234 1222.47 242.654 1222.79 Q242.074 1223.08 241.688 1223.75 Q241.301 1224.43 241.076 1225.07 Q240.851 1225.72 240.754 1226.88 Q240.625 1228.04 240.593 1229.04 Q240.561 1230.03 240.561 1231.68 Q240.561 1235.25 240.69 1235.83 Q240.851 1236.44 241.334 1236.76 Q241.785 1237.05 243.137 1237.38 L278.145 1246.14 L279.53 1246.39 Q280.303 1246.39 280.56 1245.91 Q280.818 1245.43 280.979 1243.95 Q281.14 1241.82 281.14 1239.73 Q281.14 1239.66 281.14 1239.53 Q281.14 1238.83 281.172 1238.54 Q281.172 1238.25 281.237 1237.96 Q281.301 1237.67 281.462 1237.6 Q281.591 1237.51 281.849 1237.51 Q282.461 1237.51 282.783 1237.76 Q283.072 1238.02 283.137 1238.28 Q283.169 1238.5 283.169 1238.95 Q283.169 1239.86 283.105 1241.79 Q283.04 1243.72 283.04 1244.69 L282.976 1250.16 L283.04 1255.77 Q283.04 1256.64 283.105 1258.47 Q283.169 1260.31 283.169 1261.18 Q283.169 1262.3 282.364 1262.3 Q281.462 1262.3 281.301 1261.89 Q281.14 1261.43 281.14 1259.53 Q281.14 1256.86 281.011 1255.41 Q280.882 1253.96 280.432 1253.19 Q279.981 1252.38 279.53 1252.16 Q279.047 1251.93 277.952 1251.68 L242.751 1242.82 Q241.978 1242.56 241.366 1242.56 Q241.044 1242.56 240.915 1242.66 Q240.786 1242.72 240.69 1243.14 Q240.561 1243.56 240.561 1244.43 L240.561 1247.01 Q240.561 1249.65 240.69 1251.29 Q240.786 1252.9 241.269 1254.45 Q241.752 1255.96 242.429 1256.86 Q243.105 1257.73 244.49 1258.7 Q245.875 1259.66 247.549 1260.37 Q249.224 1261.05 251.962 1262.01 Q252.863 1262.34 253.121 1262.53 Q253.346 1262.69 253.346 1263.14 Q253.346 1263.46 253.153 1263.72 Q252.928 1263.95 252.638 1263.95 Q251.575 1263.62 251.446 1263.56 L239.82 1259.6 Q238.886 1259.28 238.725 1258.99 Q238.532 1258.66 238.532 1257.47 L238.532 1220.89 Q238.532 1220.31 238.532 1220.11 Q238.532 1219.92 238.596 1219.6 Q238.661 1219.28 238.822 1219.18 Q238.983 1219.08 239.24 1219.08 Z\" fill=\"#000000\" fill-rule=\"evenodd\" fill-opacity=\"1\" /><path clip-path=\"url(#clip560)\" d=\"M272.589 1193.55 Q273.513 1193.55 274.28 1194.34 Q275.046 1195.13 275.046 1196.05 Q275.046 1196.82 274.573 1197.29 Q274.1 1197.74 273.378 1197.74 Q272.386 1197.74 271.665 1196.95 Q270.921 1196.16 270.921 1195.31 Q270.921 1194.52 271.417 1194.04 Q271.89 1193.55 272.589 1193.55 M285.282 1195.26 Q286.071 1195.26 286.995 1195.49 L303.903 1199.72 Q305.549 1200.13 306.901 1201.1 Q308.277 1202.07 309.133 1203.31 Q309.99 1204.53 310.441 1205.86 Q310.914 1207.16 310.914 1208.4 Q310.914 1210.14 310.148 1211.31 Q309.381 1212.48 308.051 1212.48 Q306.879 1212.48 306.135 1211.72 Q305.413 1210.93 305.413 1209.98 Q305.413 1209.13 305.909 1208.67 Q306.405 1208.22 307.037 1208.22 Q307.803 1208.22 308.524 1208.79 Q309.246 1209.33 309.471 1210.3 Q309.9 1209.42 309.9 1208.49 Q309.9 1206.6 308.164 1205.07 Q306.45 1203.51 303.745 1202.84 L286.521 1198.48 Q285.146 1198.17 284.177 1198.17 Q283.275 1198.17 282.779 1198.42 Q282.283 1198.66 282.17 1198.96 Q282.058 1199.23 282.058 1199.63 Q282.058 1201.42 283.703 1202.95 Q285.327 1204.48 287.694 1205.45 Q288.348 1205.72 288.483 1205.86 Q288.618 1205.97 288.618 1206.28 Q288.595 1206.85 288.145 1206.85 Q288.009 1206.85 287.468 1206.62 Q286.927 1206.4 286.138 1205.99 Q285.327 1205.59 284.447 1204.93 Q283.568 1204.28 282.802 1203.51 Q282.035 1202.72 281.539 1201.66 Q281.043 1200.6 281.043 1199.5 Q281.043 1197.72 282.216 1196.5 Q283.365 1195.26 285.282 1195.26 Z\" fill=\"#000000\" fill-rule=\"evenodd\" fill-opacity=\"1\" /><path clip-path=\"url(#clip560)\" d=\"M301.446 1188.49 Q300.612 1188.49 300.364 1188.42 Q300.116 1188.33 299.732 1187.97 L289.858 1179.11 Q284.402 1174.26 279.645 1174.26 Q276.557 1174.26 274.348 1175.88 Q272.138 1177.49 272.138 1180.44 Q272.138 1182.47 273.378 1184.18 Q274.618 1185.89 276.827 1186.68 Q276.782 1186.55 276.782 1186.07 Q276.782 1184.92 277.504 1184.29 Q278.225 1183.64 279.195 1183.64 Q280.435 1183.64 281.043 1184.45 Q281.629 1185.24 281.629 1186.03 Q281.629 1186.34 281.562 1186.77 Q281.494 1187.18 280.863 1187.83 Q280.209 1188.49 279.059 1188.49 Q275.836 1188.49 273.266 1186.05 Q270.695 1183.59 270.695 1179.85 Q270.695 1175.61 273.22 1172.84 Q275.723 1170.05 279.645 1170.05 Q281.021 1170.05 282.283 1170.47 Q283.523 1170.88 284.492 1171.44 Q285.462 1171.98 287.017 1173.47 Q288.573 1174.96 289.678 1176.16 Q290.782 1177.35 293.127 1180.03 L297.884 1184.92 L297.884 1176.61 Q297.884 1172.55 297.523 1172.23 Q296.869 1171.78 293.42 1171.22 L293.42 1170.05 L301.446 1171.35 L301.446 1188.49 Z\" fill=\"#000000\" fill-rule=\"evenodd\" fill-opacity=\"1\" /><path clip-path=\"url(#clip560)\" d=\"M299.658 1158.58 L233.701 1158.58 L233.701 1148.63 L235.215 1148.63 L235.215 1154.17 L298.145 1154.17 L298.145 1148.63 L299.658 1148.63 L299.658 1158.58 Z\" fill=\"#000000\" fill-rule=\"evenodd\" fill-opacity=\"1\" /><path clip-path=\"url(#clip560)\" d=\"M238.854 1090.1 Q239.272 1090.1 239.562 1090.2 Q239.82 1090.3 239.949 1090.52 Q240.078 1090.75 240.11 1090.88 Q240.142 1091.01 240.174 1091.3 Q240.303 1092.68 240.529 1093.65 Q240.754 1094.58 241.913 1096.9 Q243.073 1099.19 245.166 1102.05 L254.087 1113.58 L255.601 1115.52 Q255.697 1115.52 255.891 1115.45 Q256.052 1115.39 256.277 1115.32 Q256.47 1115.23 256.535 1115.19 L278.145 1105.82 Q279.884 1105.08 280.496 1104.18 Q281.108 1103.28 281.14 1101.25 Q281.14 1100.93 281.172 1100.8 Q281.172 1100.64 281.237 1100.41 Q281.269 1100.15 281.43 1100.06 Q281.591 1099.93 281.849 1099.93 Q283.169 1099.93 283.169 1101.12 Q283.169 1101.86 283.072 1104.37 Q282.976 1106.88 282.976 1107.59 Q282.976 1108.91 283.072 1111.62 Q283.169 1114.32 283.169 1115.64 Q283.169 1116.58 282.428 1116.58 Q281.816 1116.58 281.527 1116.35 Q281.205 1116.09 281.172 1115.87 Q281.14 1115.64 281.14 1115.13 Q281.14 1114.74 281.108 1114.32 Q281.043 1113.87 280.882 1113.23 Q280.689 1112.55 280.238 1112.13 Q279.755 1111.68 279.079 1111.68 Q278.531 1111.68 276.76 1112.49 L259.015 1120.12 L266.68 1129.94 L277.05 1132.58 Q277.436 1132.65 278.113 1132.81 Q278.789 1132.97 279.272 1133.1 Q279.755 1133.2 279.948 1133.2 Q280.367 1133.2 280.625 1132.94 Q280.882 1132.65 281.011 1131.94 Q281.108 1131.23 281.14 1130.68 Q281.14 1130.1 281.14 1128.91 Q281.14 1127.43 281.398 1127.17 Q281.559 1127.04 281.849 1127.04 Q282.3 1127.04 282.622 1127.17 Q282.911 1127.3 283.008 1127.56 Q283.105 1127.79 283.137 1127.95 Q283.169 1128.11 283.169 1128.37 Q283.169 1129.04 283.105 1130.49 Q283.04 1131.91 283.04 1132.65 L282.976 1136.87 L283.169 1145.24 Q283.169 1146.24 282.364 1146.24 Q281.752 1146.24 281.494 1145.98 Q281.205 1145.72 281.172 1145.43 Q281.14 1145.14 281.14 1144.4 Q281.14 1142.79 281.043 1141.83 Q280.947 1140.86 280.818 1140.25 Q280.657 1139.61 280.206 1139.28 Q279.755 1138.93 279.369 1138.77 Q278.95 1138.61 278.016 1138.38 L242.59 1129.56 Q241.527 1129.3 241.366 1129.3 Q240.818 1129.3 240.625 1129.62 Q240.4 1129.91 240.303 1130.75 Q240.174 1132.36 240.174 1133.58 Q240.174 1134.39 240.142 1134.71 Q240.11 1135 239.949 1135.26 Q239.756 1135.48 239.369 1135.48 Q238.113 1135.48 238.113 1134.16 L238.306 1125.66 L238.113 1117.22 Q238.113 1116.29 238.854 1116.29 Q239.788 1116.29 239.981 1116.74 Q240.174 1117.16 240.174 1118.54 Q240.174 1120.96 240.496 1122.05 Q240.786 1123.12 241.301 1123.44 Q241.785 1123.73 243.202 1124.08 L264.361 1129.36 L244.586 1103.63 Q242.59 1101.25 241.559 1101.25 Q240.883 1101.25 240.593 1101.73 Q240.271 1102.18 240.174 1103.31 Q240.045 1104.11 239.434 1104.11 Q238.822 1104.11 238.532 1103.89 Q238.21 1103.63 238.177 1103.44 Q238.113 1103.21 238.113 1102.86 Q238.113 1101.67 238.21 1099.19 Q238.306 1096.71 238.306 1095.52 Q238.306 1094.71 238.21 1093.13 Q238.113 1091.55 238.113 1090.85 Q238.113 1090.49 238.371 1090.3 Q238.596 1090.1 238.854 1090.1 Z\" fill=\"#000000\" fill-rule=\"evenodd\" fill-opacity=\"1\" /><path clip-path=\"url(#clip560)\" d=\"M298.145 1087.9 L298.145 1082.36 L235.215 1082.36 L235.215 1087.9 L233.701 1087.9 L233.701 1077.94 L299.658 1077.94 L299.658 1087.9 L298.145 1087.9 Z\" fill=\"#000000\" fill-rule=\"evenodd\" fill-opacity=\"1\" /><polyline clip-path=\"url(#clip564)\" style=\"stroke:#000000; stroke-linecap:round; stroke-linejoin:round; stroke-width:4; stroke-opacity:1; fill:none\" stroke-dasharray=\"2, 4\" points=\"512.616,865.335 558.425,865.335 604.233,865.335 650.042,865.335 695.851,865.335 741.66,865.335 787.469,865.335 833.277,865.335 879.086,865.335 924.895,865.335 970.704,865.335 1016.51,865.335 1062.32,865.335 1108.13,865.335 1153.94,865.335 1199.75,865.335 1245.56,865.335 1291.37,865.335 1337.17,865.335 1382.98,865.335 1428.79,865.335 1474.6,865.335 1520.41,865.335 1566.22,865.335 1612.03,865.335 1657.84,865.335 1703.64,865.335 1749.45,865.335 1795.26,865.335 1841.07,865.335 1886.88,865.335 1932.69,865.335 1978.5,865.335 2024.31,865.335 2070.12,865.335 2115.92,865.335 2161.73,865.335 2207.54,865.335 2253.35,865.335 2299.16,865.335 \"/>\n",
       "<polyline clip-path=\"url(#clip564)\" style=\"stroke:#ff0000; stroke-linecap:round; stroke-linejoin:round; stroke-width:12; stroke-opacity:0.3; fill:none\" points=\"512.616,1468.36 558.425,1468.36 604.233,1468.36 650.042,1468.36 695.851,1468.36 741.66,1468.36 787.469,1468.36 833.277,1468.36 879.086,1468.36 924.895,1468.36 970.704,1468.36 1016.51,1468.36 1062.32,1468.36 1108.13,1468.36 1153.94,1468.36 1199.75,1468.36 1245.56,1468.36 1291.37,1468.36 1337.17,1468.36 1382.98,1468.36 1428.79,1468.36 1474.6,1468.36 1520.41,1468.36 1566.22,1468.36 1612.03,1468.36 1657.84,1468.36 1703.64,1468.36 1749.45,1468.36 1795.26,1468.36 1841.07,1468.36 1886.88,1468.36 1932.69,1468.36 1978.5,1468.36 2024.31,1468.36 2070.12,1468.36 2115.92,1468.36 2161.73,1468.36 2207.54,1468.36 2253.35,1468.36 2299.16,1468.36 \"/>\n",
       "<polyline clip-path=\"url(#clip564)\" style=\"stroke:#0000ff; stroke-linecap:round; stroke-linejoin:round; stroke-width:12; stroke-opacity:0.3; fill:none\" points=\"512.616,1468.36 558.425,1468.36 604.233,1468.36 650.042,1468.36 695.851,1468.36 741.66,1468.36 787.469,1468.36 833.277,1468.36 879.086,1468.36 924.895,1468.36 970.704,1468.36 1016.51,1468.36 1062.32,1468.36 1108.13,1468.36 1153.94,1468.36 1199.75,1468.36 1245.56,1468.36 1291.37,1468.36 1337.17,1468.36 1382.98,1468.36 1428.79,1468.36 1474.6,1468.36 1520.41,1468.36 1566.22,1468.36 1612.03,1468.36 1657.84,1468.36 1703.64,1468.36 1749.45,1468.36 1795.26,1468.36 1841.07,1468.36 1886.88,1468.36 1932.69,1468.36 1978.5,1468.36 2024.31,1468.36 2070.12,1468.36 2115.92,1468.36 2161.73,1468.36 2207.54,1468.36 2253.35,1468.36 2299.16,1468.36 \"/>\n",
       "</svg>\n"
      ]
     },
     "metadata": {},
     "output_type": "display_data"
    }
   ],
   "source": [
    "p7 = plot(layout = (num_subplots, 1),fmt = :svg, resolution = (600, 400), latex=true,gridlinewidth=2) \n",
    "\n",
    "# Loop to generate subplots \n",
    "for mm in 1:num_subplots \n",
    "    # limits\n",
    "    plot!(subplot=mm,ts,Tj_max[2]*ones(length(ts)),linestyle = :dot,linecolor = :black,label=\"\")\n",
    "    \n",
    "    for nn in 1:n_MC\n",
    "        plot!(subplot=mm,ts,TjPlant[2,:,nn,mm],linewidth=3,linealpha = 0.3,linecolor = CList[nn],legend=false)\n",
    "    end\n",
    "    \n",
    "    # Add labels, titles, or other customizations to each subplot \n",
    "    ylabel!(L\"T_{j2} [K]\") \n",
    "end \n",
    "\n",
    "# Display the subplots \n",
    "display(p7)"
   ]
  },
  {
   "cell_type": "code",
   "execution_count": 27,
   "id": "6dbcfadd",
   "metadata": {},
   "outputs": [
    {
     "data": {
      "image/svg+xml": [
       "<?xml version=\"1.0\" encoding=\"utf-8\"?>\n",
       "<svg xmlns=\"http://www.w3.org/2000/svg\" xmlns:xlink=\"http://www.w3.org/1999/xlink\" width=\"600\" height=\"400\" viewBox=\"0 0 2400 1600\">\n",
       "<defs>\n",
       "  <clipPath id=\"clip600\">\n",
       "    <rect x=\"0\" y=\"0\" width=\"2400\" height=\"1600\"/>\n",
       "  </clipPath>\n",
       "</defs>\n",
       "<path clip-path=\"url(#clip600)\" d=\"M0 1600 L2400 1600 L2400 0 L0 0  Z\" fill=\"#ffffff\" fill-rule=\"evenodd\" fill-opacity=\"1\"/>\n",
       "<defs>\n",
       "  <clipPath id=\"clip601\">\n",
       "    <rect x=\"480\" y=\"0\" width=\"1681\" height=\"1600\"/>\n",
       "  </clipPath>\n",
       "</defs>\n",
       "<defs>\n",
       "  <clipPath id=\"clip602\">\n",
       "    <rect x=\"459\" y=\"847\" width=\"1895\" height=\"640\"/>\n",
       "  </clipPath>\n",
       "</defs>\n",
       "<path clip-path=\"url(#clip600)\" d=\"M221.878 686.448 L2352.76 686.448 L2352.76 47.2441 L221.878 47.2441  Z\" fill=\"#ffffff\" fill-rule=\"evenodd\" fill-opacity=\"1\"/>\n",
       "<defs>\n",
       "  <clipPath id=\"clip603\">\n",
       "    <rect x=\"221\" y=\"47\" width=\"2132\" height=\"640\"/>\n",
       "  </clipPath>\n",
       "</defs>\n",
       "<polyline clip-path=\"url(#clip603)\" style=\"stroke:#000000; stroke-linecap:round; stroke-linejoin:round; stroke-width:8; stroke-opacity:0.1; fill:none\" points=\"230.641,686.448 230.641,47.2441 \"/>\n",
       "<polyline clip-path=\"url(#clip603)\" style=\"stroke:#000000; stroke-linecap:round; stroke-linejoin:round; stroke-width:8; stroke-opacity:0.1; fill:none\" points=\"746.093,686.448 746.093,47.2441 \"/>\n",
       "<polyline clip-path=\"url(#clip603)\" style=\"stroke:#000000; stroke-linecap:round; stroke-linejoin:round; stroke-width:8; stroke-opacity:0.1; fill:none\" points=\"1261.54,686.448 1261.54,47.2441 \"/>\n",
       "<polyline clip-path=\"url(#clip603)\" style=\"stroke:#000000; stroke-linecap:round; stroke-linejoin:round; stroke-width:8; stroke-opacity:0.1; fill:none\" points=\"1777,686.448 1777,47.2441 \"/>\n",
       "<polyline clip-path=\"url(#clip603)\" style=\"stroke:#000000; stroke-linecap:round; stroke-linejoin:round; stroke-width:8; stroke-opacity:0.1; fill:none\" points=\"2292.45,686.448 2292.45,47.2441 \"/>\n",
       "<polyline clip-path=\"url(#clip600)\" style=\"stroke:#000000; stroke-linecap:round; stroke-linejoin:round; stroke-width:4; stroke-opacity:1; fill:none\" points=\"221.878,686.448 2352.76,686.448 \"/>\n",
       "<polyline clip-path=\"url(#clip600)\" style=\"stroke:#000000; stroke-linecap:round; stroke-linejoin:round; stroke-width:4; stroke-opacity:1; fill:none\" points=\"230.641,686.448 230.641,667.55 \"/>\n",
       "<polyline clip-path=\"url(#clip600)\" style=\"stroke:#000000; stroke-linecap:round; stroke-linejoin:round; stroke-width:4; stroke-opacity:1; fill:none\" points=\"746.093,686.448 746.093,667.55 \"/>\n",
       "<polyline clip-path=\"url(#clip600)\" style=\"stroke:#000000; stroke-linecap:round; stroke-linejoin:round; stroke-width:4; stroke-opacity:1; fill:none\" points=\"1261.54,686.448 1261.54,667.55 \"/>\n",
       "<polyline clip-path=\"url(#clip600)\" style=\"stroke:#000000; stroke-linecap:round; stroke-linejoin:round; stroke-width:4; stroke-opacity:1; fill:none\" points=\"1777,686.448 1777,667.55 \"/>\n",
       "<polyline clip-path=\"url(#clip600)\" style=\"stroke:#000000; stroke-linecap:round; stroke-linejoin:round; stroke-width:4; stroke-opacity:1; fill:none\" points=\"2292.45,686.448 2292.45,667.55 \"/>\n",
       "<path clip-path=\"url(#clip600)\" d=\"M230.641 717.367 Q227.03 717.367 225.201 720.931 Q223.395 724.473 223.395 731.603 Q223.395 738.709 225.201 742.274 Q227.03 745.815 230.641 745.815 Q234.275 745.815 236.081 742.274 Q237.909 738.709 237.909 731.603 Q237.909 724.473 236.081 720.931 Q234.275 717.367 230.641 717.367 M230.641 713.663 Q236.451 713.663 239.507 718.269 Q242.585 722.853 242.585 731.603 Q242.585 740.329 239.507 744.936 Q236.451 749.519 230.641 749.519 Q224.831 749.519 221.752 744.936 Q218.696 740.329 218.696 731.603 Q218.696 722.853 221.752 718.269 Q224.831 713.663 230.641 713.663 Z\" fill=\"#000000\" fill-rule=\"evenodd\" fill-opacity=\"1\" /><path clip-path=\"url(#clip600)\" d=\"M720.78 744.913 L728.419 744.913 L728.419 718.547 L720.109 720.214 L720.109 715.955 L728.373 714.288 L733.049 714.288 L733.049 744.913 L740.688 744.913 L740.688 748.848 L720.78 748.848 L720.78 744.913 Z\" fill=\"#000000\" fill-rule=\"evenodd\" fill-opacity=\"1\" /><path clip-path=\"url(#clip600)\" d=\"M760.132 717.367 Q756.521 717.367 754.692 720.931 Q752.887 724.473 752.887 731.603 Q752.887 738.709 754.692 742.274 Q756.521 745.815 760.132 745.815 Q763.766 745.815 765.572 742.274 Q767.4 738.709 767.4 731.603 Q767.4 724.473 765.572 720.931 Q763.766 717.367 760.132 717.367 M760.132 713.663 Q765.942 713.663 768.998 718.269 Q772.076 722.853 772.076 731.603 Q772.076 740.329 768.998 744.936 Q765.942 749.519 760.132 749.519 Q754.322 749.519 751.243 744.936 Q748.188 740.329 748.188 731.603 Q748.188 722.853 751.243 718.269 Q754.322 713.663 760.132 713.663 Z\" fill=\"#000000\" fill-rule=\"evenodd\" fill-opacity=\"1\" /><path clip-path=\"url(#clip600)\" d=\"M1240.32 744.913 L1256.64 744.913 L1256.64 748.848 L1234.69 748.848 L1234.69 744.913 Q1237.35 742.158 1241.94 737.528 Q1246.54 732.876 1247.73 731.533 Q1249.97 729.01 1250.85 727.274 Q1251.75 725.515 1251.75 723.825 Q1251.75 721.07 1249.81 719.334 Q1247.89 717.598 1244.79 717.598 Q1242.59 717.598 1240.13 718.362 Q1237.7 719.126 1234.92 720.677 L1234.92 715.955 Q1237.75 714.82 1240.2 714.242 Q1242.66 713.663 1244.69 713.663 Q1250.06 713.663 1253.26 716.348 Q1256.45 719.033 1256.45 723.524 Q1256.45 725.654 1255.64 727.575 Q1254.85 729.473 1252.75 732.066 Q1252.17 732.737 1249.07 735.954 Q1245.97 739.149 1240.32 744.913 Z\" fill=\"#000000\" fill-rule=\"evenodd\" fill-opacity=\"1\" /><path clip-path=\"url(#clip600)\" d=\"M1276.45 717.367 Q1272.84 717.367 1271.01 720.931 Q1269.21 724.473 1269.21 731.603 Q1269.21 738.709 1271.01 742.274 Q1272.84 745.815 1276.45 745.815 Q1280.09 745.815 1281.89 742.274 Q1283.72 738.709 1283.72 731.603 Q1283.72 724.473 1281.89 720.931 Q1280.09 717.367 1276.45 717.367 M1276.45 713.663 Q1282.26 713.663 1285.32 718.269 Q1288.4 722.853 1288.4 731.603 Q1288.4 740.329 1285.32 744.936 Q1282.26 749.519 1276.45 749.519 Q1270.64 749.519 1267.56 744.936 Q1264.51 740.329 1264.51 731.603 Q1264.51 722.853 1267.56 718.269 Q1270.64 713.663 1276.45 713.663 Z\" fill=\"#000000\" fill-rule=\"evenodd\" fill-opacity=\"1\" /><path clip-path=\"url(#clip600)\" d=\"M1765.84 730.214 Q1769.2 730.931 1771.07 733.2 Q1772.97 735.468 1772.97 738.802 Q1772.97 743.917 1769.45 746.718 Q1765.93 749.519 1759.45 749.519 Q1757.27 749.519 1754.96 749.079 Q1752.67 748.663 1750.21 747.806 L1750.21 743.292 Q1752.16 744.427 1754.47 745.005 Q1756.79 745.584 1759.31 745.584 Q1763.71 745.584 1766 743.848 Q1768.32 742.112 1768.32 738.802 Q1768.32 735.746 1766.16 734.033 Q1764.03 732.297 1760.21 732.297 L1756.19 732.297 L1756.19 728.454 L1760.4 728.454 Q1763.85 728.454 1765.68 727.089 Q1767.51 725.7 1767.51 723.107 Q1767.51 720.445 1765.61 719.033 Q1763.73 717.598 1760.21 717.598 Q1758.29 717.598 1756.09 718.015 Q1753.89 718.431 1751.26 719.311 L1751.26 715.144 Q1753.92 714.404 1756.23 714.033 Q1758.57 713.663 1760.63 713.663 Q1765.95 713.663 1769.06 716.093 Q1772.16 718.501 1772.16 722.621 Q1772.16 725.492 1770.51 727.482 Q1768.87 729.45 1765.84 730.214 Z\" fill=\"#000000\" fill-rule=\"evenodd\" fill-opacity=\"1\" /><path clip-path=\"url(#clip600)\" d=\"M1791.83 717.367 Q1788.22 717.367 1786.39 720.931 Q1784.59 724.473 1784.59 731.603 Q1784.59 738.709 1786.39 742.274 Q1788.22 745.815 1791.83 745.815 Q1795.47 745.815 1797.27 742.274 Q1799.1 738.709 1799.1 731.603 Q1799.1 724.473 1797.27 720.931 Q1795.47 717.367 1791.83 717.367 M1791.83 713.663 Q1797.64 713.663 1800.7 718.269 Q1803.78 722.853 1803.78 731.603 Q1803.78 740.329 1800.7 744.936 Q1797.64 749.519 1791.83 749.519 Q1786.02 749.519 1782.95 744.936 Q1779.89 740.329 1779.89 731.603 Q1779.89 722.853 1782.95 718.269 Q1786.02 713.663 1791.83 713.663 Z\" fill=\"#000000\" fill-rule=\"evenodd\" fill-opacity=\"1\" /><path clip-path=\"url(#clip600)\" d=\"M2280.62 718.362 L2268.81 736.811 L2280.62 736.811 L2280.62 718.362 M2279.39 714.288 L2285.27 714.288 L2285.27 736.811 L2290.2 736.811 L2290.2 740.7 L2285.27 740.7 L2285.27 748.848 L2280.62 748.848 L2280.62 740.7 L2265.02 740.7 L2265.02 736.186 L2279.39 714.288 Z\" fill=\"#000000\" fill-rule=\"evenodd\" fill-opacity=\"1\" /><path clip-path=\"url(#clip600)\" d=\"M2307.93 717.367 Q2304.32 717.367 2302.49 720.931 Q2300.69 724.473 2300.69 731.603 Q2300.69 738.709 2302.49 742.274 Q2304.32 745.815 2307.93 745.815 Q2311.57 745.815 2313.37 742.274 Q2315.2 738.709 2315.2 731.603 Q2315.2 724.473 2313.37 720.931 Q2311.57 717.367 2307.93 717.367 M2307.93 713.663 Q2313.74 713.663 2316.8 718.269 Q2319.88 722.853 2319.88 731.603 Q2319.88 740.329 2316.8 744.936 Q2313.74 749.519 2307.93 749.519 Q2302.12 749.519 2299.05 744.936 Q2295.99 740.329 2295.99 731.603 Q2295.99 722.853 2299.05 718.269 Q2302.12 713.663 2307.93 713.663 Z\" fill=\"#000000\" fill-rule=\"evenodd\" fill-opacity=\"1\" /><polyline clip-path=\"url(#clip603)\" style=\"stroke:#000000; stroke-linecap:round; stroke-linejoin:round; stroke-width:8; stroke-opacity:0.1; fill:none\" points=\"221.878,668.357 2352.76,668.357 \"/>\n",
       "<polyline clip-path=\"url(#clip603)\" style=\"stroke:#000000; stroke-linecap:round; stroke-linejoin:round; stroke-width:8; stroke-opacity:0.1; fill:none\" points=\"221.878,517.602 2352.76,517.602 \"/>\n",
       "<polyline clip-path=\"url(#clip603)\" style=\"stroke:#000000; stroke-linecap:round; stroke-linejoin:round; stroke-width:8; stroke-opacity:0.1; fill:none\" points=\"221.878,366.846 2352.76,366.846 \"/>\n",
       "<polyline clip-path=\"url(#clip603)\" style=\"stroke:#000000; stroke-linecap:round; stroke-linejoin:round; stroke-width:8; stroke-opacity:0.1; fill:none\" points=\"221.878,216.09 2352.76,216.09 \"/>\n",
       "<polyline clip-path=\"url(#clip603)\" style=\"stroke:#000000; stroke-linecap:round; stroke-linejoin:round; stroke-width:8; stroke-opacity:0.1; fill:none\" points=\"221.878,65.3348 2352.76,65.3348 \"/>\n",
       "<polyline clip-path=\"url(#clip600)\" style=\"stroke:#000000; stroke-linecap:round; stroke-linejoin:round; stroke-width:4; stroke-opacity:1; fill:none\" points=\"221.878,686.448 221.878,47.2441 \"/>\n",
       "<polyline clip-path=\"url(#clip600)\" style=\"stroke:#000000; stroke-linecap:round; stroke-linejoin:round; stroke-width:4; stroke-opacity:1; fill:none\" points=\"221.878,668.357 240.776,668.357 \"/>\n",
       "<polyline clip-path=\"url(#clip600)\" style=\"stroke:#000000; stroke-linecap:round; stroke-linejoin:round; stroke-width:4; stroke-opacity:1; fill:none\" points=\"221.878,517.602 240.776,517.602 \"/>\n",
       "<polyline clip-path=\"url(#clip600)\" style=\"stroke:#000000; stroke-linecap:round; stroke-linejoin:round; stroke-width:4; stroke-opacity:1; fill:none\" points=\"221.878,366.846 240.776,366.846 \"/>\n",
       "<polyline clip-path=\"url(#clip600)\" style=\"stroke:#000000; stroke-linecap:round; stroke-linejoin:round; stroke-width:4; stroke-opacity:1; fill:none\" points=\"221.878,216.09 240.776,216.09 \"/>\n",
       "<polyline clip-path=\"url(#clip600)\" style=\"stroke:#000000; stroke-linecap:round; stroke-linejoin:round; stroke-width:4; stroke-opacity:1; fill:none\" points=\"221.878,65.3348 240.776,65.3348 \"/>\n",
       "<path clip-path=\"url(#clip600)\" d=\"M128.703 654.156 Q125.091 654.156 123.263 657.721 Q121.457 661.262 121.457 668.392 Q121.457 675.498 123.263 679.063 Q125.091 682.605 128.703 682.605 Q132.337 682.605 134.142 679.063 Q135.971 675.498 135.971 668.392 Q135.971 661.262 134.142 657.721 Q132.337 654.156 128.703 654.156 M128.703 650.452 Q134.513 650.452 137.568 655.059 Q140.647 659.642 140.647 668.392 Q140.647 677.119 137.568 681.725 Q134.513 686.308 128.703 686.308 Q122.892 686.308 119.814 681.725 Q116.758 677.119 116.758 668.392 Q116.758 659.642 119.814 655.059 Q122.892 650.452 128.703 650.452 Z\" fill=\"#000000\" fill-rule=\"evenodd\" fill-opacity=\"1\" /><path clip-path=\"url(#clip600)\" d=\"M148.864 679.758 L153.749 679.758 L153.749 685.637 L148.864 685.637 L148.864 679.758 Z\" fill=\"#000000\" fill-rule=\"evenodd\" fill-opacity=\"1\" /><path clip-path=\"url(#clip600)\" d=\"M173.934 654.156 Q170.323 654.156 168.494 657.721 Q166.688 661.262 166.688 668.392 Q166.688 675.498 168.494 679.063 Q170.323 682.605 173.934 682.605 Q177.568 682.605 179.374 679.063 Q181.202 675.498 181.202 668.392 Q181.202 661.262 179.374 657.721 Q177.568 654.156 173.934 654.156 M173.934 650.452 Q179.744 650.452 182.799 655.059 Q185.878 659.642 185.878 668.392 Q185.878 677.119 182.799 681.725 Q179.744 686.308 173.934 686.308 Q168.124 686.308 165.045 681.725 Q161.989 677.119 161.989 668.392 Q161.989 659.642 165.045 655.059 Q168.124 650.452 173.934 650.452 Z\" fill=\"#000000\" fill-rule=\"evenodd\" fill-opacity=\"1\" /><path clip-path=\"url(#clip600)\" d=\"M130.3 503.4 Q126.689 503.4 124.86 506.965 Q123.054 510.507 123.054 517.636 Q123.054 524.743 124.86 528.308 Q126.689 531.849 130.3 531.849 Q133.934 531.849 135.74 528.308 Q137.568 524.743 137.568 517.636 Q137.568 510.507 135.74 506.965 Q133.934 503.4 130.3 503.4 M130.3 499.697 Q136.11 499.697 139.165 504.303 Q142.244 508.886 142.244 517.636 Q142.244 526.363 139.165 530.97 Q136.11 535.553 130.3 535.553 Q124.49 535.553 121.411 530.97 Q118.355 526.363 118.355 517.636 Q118.355 508.886 121.411 504.303 Q124.49 499.697 130.3 499.697 Z\" fill=\"#000000\" fill-rule=\"evenodd\" fill-opacity=\"1\" /><path clip-path=\"url(#clip600)\" d=\"M150.462 529.002 L155.346 529.002 L155.346 534.882 L150.462 534.882 L150.462 529.002 Z\" fill=\"#000000\" fill-rule=\"evenodd\" fill-opacity=\"1\" /><path clip-path=\"url(#clip600)\" d=\"M169.559 530.946 L185.878 530.946 L185.878 534.882 L163.934 534.882 L163.934 530.946 Q166.596 528.192 171.179 523.562 Q175.786 518.909 176.966 517.567 Q179.212 515.044 180.091 513.308 Q180.994 511.548 180.994 509.859 Q180.994 507.104 179.049 505.368 Q177.128 503.632 174.026 503.632 Q171.827 503.632 169.374 504.396 Q166.943 505.16 164.165 506.71 L164.165 501.988 Q166.989 500.854 169.443 500.275 Q171.897 499.697 173.934 499.697 Q179.304 499.697 182.499 502.382 Q185.693 505.067 185.693 509.558 Q185.693 511.687 184.883 513.609 Q184.096 515.507 181.989 518.099 Q181.411 518.771 178.309 521.988 Q175.207 525.183 169.559 530.946 Z\" fill=\"#000000\" fill-rule=\"evenodd\" fill-opacity=\"1\" /><path clip-path=\"url(#clip600)\" d=\"M128.216 352.645 Q124.605 352.645 122.777 356.209 Q120.971 359.751 120.971 366.881 Q120.971 373.987 122.777 377.552 Q124.605 381.094 128.216 381.094 Q131.851 381.094 133.656 377.552 Q135.485 373.987 135.485 366.881 Q135.485 359.751 133.656 356.209 Q131.851 352.645 128.216 352.645 M128.216 348.941 Q134.027 348.941 137.082 353.547 Q140.161 358.131 140.161 366.881 Q140.161 375.608 137.082 380.214 Q134.027 384.797 128.216 384.797 Q122.406 384.797 119.328 380.214 Q116.272 375.608 116.272 366.881 Q116.272 358.131 119.328 353.547 Q122.406 348.941 128.216 348.941 Z\" fill=\"#000000\" fill-rule=\"evenodd\" fill-opacity=\"1\" /><path clip-path=\"url(#clip600)\" d=\"M148.378 378.246 L153.263 378.246 L153.263 384.126 L148.378 384.126 L148.378 378.246 Z\" fill=\"#000000\" fill-rule=\"evenodd\" fill-opacity=\"1\" /><path clip-path=\"url(#clip600)\" d=\"M176.295 353.64 L164.489 372.089 L176.295 372.089 L176.295 353.64 M175.068 349.566 L180.948 349.566 L180.948 372.089 L185.878 372.089 L185.878 375.978 L180.948 375.978 L180.948 384.126 L176.295 384.126 L176.295 375.978 L160.693 375.978 L160.693 371.464 L175.068 349.566 Z\" fill=\"#000000\" fill-rule=\"evenodd\" fill-opacity=\"1\" /><path clip-path=\"url(#clip600)\" d=\"M128.54 201.889 Q124.929 201.889 123.101 205.454 Q121.295 208.996 121.295 216.125 Q121.295 223.232 123.101 226.796 Q124.929 230.338 128.54 230.338 Q132.175 230.338 133.98 226.796 Q135.809 223.232 135.809 216.125 Q135.809 208.996 133.98 205.454 Q132.175 201.889 128.54 201.889 M128.54 198.185 Q134.351 198.185 137.406 202.792 Q140.485 207.375 140.485 216.125 Q140.485 224.852 137.406 229.458 Q134.351 234.042 128.54 234.042 Q122.73 234.042 119.652 229.458 Q116.596 224.852 116.596 216.125 Q116.596 207.375 119.652 202.792 Q122.73 198.185 128.54 198.185 Z\" fill=\"#000000\" fill-rule=\"evenodd\" fill-opacity=\"1\" /><path clip-path=\"url(#clip600)\" d=\"M148.702 227.491 L153.587 227.491 L153.587 233.37 L148.702 233.37 L148.702 227.491 Z\" fill=\"#000000\" fill-rule=\"evenodd\" fill-opacity=\"1\" /><path clip-path=\"url(#clip600)\" d=\"M174.35 214.227 Q171.202 214.227 169.35 216.38 Q167.522 218.532 167.522 222.282 Q167.522 226.009 169.35 228.185 Q171.202 230.338 174.35 230.338 Q177.499 230.338 179.327 228.185 Q181.179 226.009 181.179 222.282 Q181.179 218.532 179.327 216.38 Q177.499 214.227 174.35 214.227 M183.633 199.574 L183.633 203.833 Q181.874 203 180.068 202.56 Q178.286 202.121 176.526 202.121 Q171.897 202.121 169.443 205.246 Q167.013 208.371 166.665 214.69 Q168.031 212.676 170.091 211.611 Q172.151 210.523 174.628 210.523 Q179.837 210.523 182.846 213.695 Q185.878 216.843 185.878 222.282 Q185.878 227.607 182.73 230.824 Q179.582 234.042 174.35 234.042 Q168.355 234.042 165.184 229.458 Q162.013 224.852 162.013 216.125 Q162.013 207.931 165.901 203.07 Q169.79 198.185 176.341 198.185 Q178.1 198.185 179.883 198.533 Q181.688 198.88 183.633 199.574 Z\" fill=\"#000000\" fill-rule=\"evenodd\" fill-opacity=\"1\" /><path clip-path=\"url(#clip600)\" d=\"M128.795 51.1335 Q125.184 51.1335 123.355 54.6983 Q121.55 58.2399 121.55 65.3695 Q121.55 72.4759 123.355 76.0407 Q125.184 79.5824 128.795 79.5824 Q132.429 79.5824 134.235 76.0407 Q136.064 72.4759 136.064 65.3695 Q136.064 58.2399 134.235 54.6983 Q132.429 51.1335 128.795 51.1335 M128.795 47.4298 Q134.605 47.4298 137.661 52.0362 Q140.739 56.6195 140.739 65.3695 Q140.739 74.0963 137.661 78.7028 Q134.605 83.2861 128.795 83.2861 Q122.985 83.2861 119.906 78.7028 Q116.851 74.0963 116.851 65.3695 Q116.851 56.6195 119.906 52.0362 Q122.985 47.4298 128.795 47.4298 Z\" fill=\"#000000\" fill-rule=\"evenodd\" fill-opacity=\"1\" /><path clip-path=\"url(#clip600)\" d=\"M148.957 76.7352 L153.841 76.7352 L153.841 82.6148 L148.957 82.6148 L148.957 76.7352 Z\" fill=\"#000000\" fill-rule=\"evenodd\" fill-opacity=\"1\" /><path clip-path=\"url(#clip600)\" d=\"M174.026 66.2028 Q170.693 66.2028 168.772 67.9852 Q166.874 69.7676 166.874 72.8926 Q166.874 76.0176 168.772 77.8 Q170.693 79.5824 174.026 79.5824 Q177.36 79.5824 179.281 77.8 Q181.202 75.9944 181.202 72.8926 Q181.202 69.7676 179.281 67.9852 Q177.383 66.2028 174.026 66.2028 M169.35 64.2121 Q166.341 63.4714 164.651 61.4112 Q162.985 59.351 162.985 56.3881 Q162.985 52.2446 165.925 49.8372 Q168.887 47.4298 174.026 47.4298 Q179.188 47.4298 182.128 49.8372 Q185.068 52.2446 185.068 56.3881 Q185.068 59.351 183.378 61.4112 Q181.711 63.4714 178.725 64.2121 Q182.105 64.9991 183.98 67.2908 Q185.878 69.5824 185.878 72.8926 Q185.878 77.9157 182.799 80.6009 Q179.744 83.2861 174.026 83.2861 Q168.309 83.2861 165.23 80.6009 Q162.175 77.9157 162.175 72.8926 Q162.175 69.5824 164.073 67.2908 Q165.971 64.9991 169.35 64.2121 M167.637 56.8279 Q167.637 59.513 169.304 61.0177 Q170.994 62.5223 174.026 62.5223 Q177.036 62.5223 178.725 61.0177 Q180.438 59.513 180.438 56.8279 Q180.438 54.1427 178.725 52.6381 Q177.036 51.1335 174.026 51.1335 Q170.994 51.1335 169.304 52.6381 Q167.637 54.1427 167.637 56.8279 Z\" fill=\"#000000\" fill-rule=\"evenodd\" fill-opacity=\"1\" /><path clip-path=\"url(#clip600)\" d=\"M33.6442 507.308 Q38.2818 507.308 42.8872 508.983 Q47.4605 510.657 51.1642 513.459 Q54.8678 516.229 57.7342 519.836 Q60.5683 523.411 62.0175 527.243 Q65.8822 526.76 67.3315 525.794 Q68.813 524.796 68.813 522.574 Q68.813 521.285 68.2333 519.9 Q67.6536 518.483 66.1399 517.034 Q64.6584 515.585 62.4684 514.844 Q61.7599 514.619 61.7599 514.039 Q61.7599 513.814 61.9531 513.588 Q62.1141 513.33 62.404 513.33 Q62.6616 513.33 63.5956 513.62 Q64.5618 513.878 66.0433 514.425 Q67.5247 514.973 69.0706 515.907 Q70.6487 516.841 72.0336 518 Q73.4184 519.128 74.288 520.802 Q75.1897 522.477 75.1897 524.345 Q75.1897 525.891 74.61 527.018 Q74.0303 528.113 73.2896 528.66 Q72.5488 529.176 71.3572 529.466 Q70.1978 529.755 69.5537 529.788 Q68.9096 529.82 67.9434 529.82 Q66.945 529.82 62.8549 529.562 Q63.8533 533.04 63.8533 536.003 Q63.8533 543.314 59.0546 548.113 Q54.2559 552.911 46.2367 552.911 Q40.6328 552.911 35.0612 550.399 Q29.4574 547.887 25.3028 543.894 Q21.1161 539.9 18.5074 534.651 Q15.8987 529.369 15.8987 524.152 Q15.8987 516.744 20.8262 512.042 Q25.7215 507.308 33.6442 507.308 M31.5508 513.137 Q25.0452 513.137 21.3093 516.326 Q17.5412 519.482 17.5412 524.538 Q17.5412 528.403 20.0211 532.686 Q22.5009 536.937 27.2996 540.383 Q32.0983 543.765 38.1208 545.44 Q44.1433 547.082 48.3622 547.082 Q53.0321 547.082 56.5425 545.246 Q60.0208 543.411 61.47 539.707 Q60.6971 540.094 59.3767 540.094 Q56.8002 540.094 54.739 538.032 Q52.6456 535.971 52.6456 533.363 Q52.6456 532.203 52.9999 531.301 Q53.3219 530.367 53.9983 529.788 Q54.6746 529.176 55.3187 528.789 Q55.9306 528.371 56.929 528.145 Q57.8952 527.888 58.4105 527.791 Q58.8936 527.694 59.7631 527.565 Q57.9918 524.409 55.0933 521.833 Q52.1625 519.256 49.0708 517.678 Q45.9468 516.1 42.5652 515.037 Q39.1514 513.975 36.4461 513.556 Q33.7086 513.137 31.5508 513.137 M59.6987 529.369 Q56.7036 529.369 55.4153 530.335 Q54.0949 531.269 54.0949 533.363 Q54.0949 535.424 55.7374 537.034 Q57.3799 538.644 59.3767 538.644 Q60.375 538.644 61.0191 538.354 Q61.6311 538.032 61.8887 537.453 Q62.1141 536.873 62.1786 536.519 Q62.2108 536.164 62.2108 535.617 Q62.2108 532.815 61.0191 530.078 Q60.8259 529.594 60.6327 529.498 Q60.4394 529.369 59.6987 529.369 Z\" fill=\"#000000\" fill-rule=\"evenodd\" fill-opacity=\"1\" /><path clip-path=\"url(#clip600)\" d=\"M80.5823 462.886 Q80.7627 462.886 81.4615 463.089 Q82.1604 463.292 83.2425 463.788 Q84.3247 464.261 85.3166 464.938 Q86.286 465.592 87.0074 466.674 Q87.7063 467.733 87.7063 468.951 Q87.7063 470.574 86.6241 471.656 Q85.542 472.738 83.9189 472.738 Q83.0396 472.738 81.3714 472.129 Q73.7515 469.266 71.0236 469.266 Q67.7998 469.266 67.7998 471.769 Q67.7998 473.189 68.386 474.474 Q68.9721 475.759 69.7837 476.593 Q70.5953 477.427 71.5196 478.081 Q72.4439 478.735 73.0526 479.028 Q73.6613 479.298 73.9318 479.366 L85.0686 482.139 Q86.0155 482.364 86.4663 482.522 Q86.9172 482.68 87.3005 483.108 Q87.7063 483.537 87.7063 484.213 Q87.7063 484.777 87.3681 485.182 Q87.0299 485.566 86.4438 485.566 Q86.3536 485.566 85.8802 485.453 Q85.4068 485.34 84.753 485.182 Q84.0992 485.025 83.716 484.957 Q80.65 484.145 80.2216 484.033 L74.8561 482.748 Q72.1959 482.049 71.0236 482.049 Q67.7998 482.049 67.7998 484.551 Q67.7998 485.791 68.2732 486.963 Q68.7241 488.113 69.3554 488.902 Q69.9866 489.691 70.8658 490.413 Q71.7225 491.111 72.3086 491.472 Q72.8722 491.81 73.4358 492.081 L75.7353 492.667 Q76.3666 492.802 78.8239 493.456 L82.9945 494.471 Q86.1056 495.192 86.3987 495.35 Q87.0299 495.575 87.3681 496.071 Q87.7063 496.567 87.7063 497.063 Q87.7063 497.627 87.3681 498.01 Q87.0299 498.393 86.4438 498.393 Q86.3536 498.393 86.0155 498.326 Q85.6773 498.258 85.2039 498.145 Q84.7304 498.032 84.4599 497.987 L73.7966 495.305 Q71.8578 494.809 71.2491 494.696 Q70.6178 494.561 69.919 494.561 Q67.7998 494.561 67.7998 496.004 Q67.7998 497.176 69.1976 497.942 Q70.5953 498.709 73.3006 499.363 Q74.0445 499.565 74.2023 499.701 Q74.3602 499.813 74.3602 500.152 Q74.3376 500.715 73.8867 500.715 Q73.774 500.715 73.0526 500.535 Q72.3312 500.355 71.2491 500.016 Q70.1444 499.656 69.423 499.272 Q68.9496 499.047 68.634 498.844 Q68.3183 498.641 67.8224 498.235 Q67.3264 497.83 67.0559 497.221 Q66.7853 496.612 66.7853 495.868 Q66.7853 494.223 67.8449 493.005 Q68.9045 491.765 70.7982 491.607 Q66.7853 488.609 66.7853 484.416 Q66.7853 482.049 67.9802 480.628 Q69.1299 479.298 71.2491 479.141 Q66.7853 476.029 66.7853 471.611 Q66.7853 469.063 68.1154 467.688 Q69.423 466.313 71.7225 466.313 Q72.9173 466.313 75.1943 466.922 Q77.4487 467.53 78.5759 467.936 Q79.7031 468.342 81.8673 469.131 Q83.9414 469.965 85.1588 469.965 Q85.9478 469.965 86.3085 469.695 Q86.6692 469.424 86.6692 468.838 Q86.6692 467.936 86.1507 467.147 Q85.6097 466.358 84.7304 465.794 Q83.8287 465.208 82.9269 464.825 Q82.0026 464.442 80.9656 464.149 Q80.402 463.968 80.2667 463.878 Q80.1314 463.765 80.1314 463.45 Q80.1314 462.886 80.5823 462.886 Z\" fill=\"#000000\" fill-rule=\"evenodd\" fill-opacity=\"1\" /><path clip-path=\"url(#clip600)\" d=\"M78.8934 453.528 L12.9358 453.528 L12.9358 443.576 L14.4495 443.576 L14.4495 449.116 L77.3797 449.116 L77.3797 443.576 L78.8934 443.576 L78.8934 453.528 Z\" fill=\"#000000\" fill-rule=\"evenodd\" fill-opacity=\"1\" /><path clip-path=\"url(#clip600)\" d=\"M52.9677 388.2 Q53.2253 388.2 54.2237 388.49 Q55.2221 388.78 56.768 389.488 Q58.3139 390.165 59.7309 391.131 Q61.1158 392.065 62.1464 393.611 Q63.1447 395.124 63.1447 396.863 Q63.1447 399.182 61.5989 400.728 Q60.053 402.274 57.7342 402.274 Q56.4781 402.274 54.0949 401.405 Q43.2093 397.314 39.3124 397.314 Q34.707 397.314 34.707 400.889 Q34.707 402.918 35.5443 404.754 Q36.3817 406.59 37.5411 407.781 Q38.7005 408.973 40.0209 409.907 Q41.3414 410.841 42.2109 411.26 Q43.0805 411.646 43.467 411.743 L59.3767 415.704 Q60.7293 416.026 61.3734 416.251 Q62.0175 416.477 62.565 417.089 Q63.1447 417.701 63.1447 418.667 Q63.1447 419.472 62.6616 420.052 Q62.1786 420.599 61.3412 420.599 Q61.2124 420.599 60.5361 420.438 Q59.8597 420.277 58.9258 420.052 Q57.9918 419.826 57.4443 419.73 Q53.0643 418.57 52.4524 418.409 L44.7874 416.573 Q40.9871 415.575 39.3124 415.575 Q34.707 415.575 34.707 419.15 Q34.707 420.921 35.3833 422.596 Q36.0274 424.238 36.9292 425.366 Q37.8309 426.493 39.087 427.523 Q40.3108 428.522 41.1481 429.037 Q41.9533 429.52 42.7584 429.907 L46.0434 430.744 Q46.9452 430.937 50.4556 431.871 L56.4137 433.321 Q60.8581 434.351 61.2768 434.577 Q62.1786 434.899 62.6616 435.607 Q63.1447 436.316 63.1447 437.024 Q63.1447 437.829 62.6616 438.377 Q62.1786 438.924 61.3412 438.924 Q61.2124 438.924 60.7293 438.828 Q60.2462 438.731 59.5699 438.57 Q58.8936 438.409 58.5071 438.345 L43.2737 434.512 Q40.504 433.804 39.6345 433.643 Q38.7327 433.449 37.7343 433.449 Q34.707 433.449 34.707 435.511 Q34.707 437.185 36.7037 438.28 Q38.7005 439.375 42.5652 440.309 Q43.628 440.599 43.8534 440.792 Q44.0789 440.953 44.0789 441.436 Q44.0467 442.242 43.4025 442.242 Q43.2415 442.242 42.2109 441.984 Q41.1803 441.726 39.6345 441.243 Q38.0564 440.728 37.0258 440.18 Q36.3495 439.858 35.8986 439.568 Q35.4477 439.279 34.7392 438.699 Q34.0306 438.119 33.6442 437.25 Q33.2577 436.38 33.2577 435.317 Q33.2577 432.966 34.7714 431.227 Q36.285 429.456 38.9903 429.23 Q33.2577 424.947 33.2577 418.957 Q33.2577 415.575 34.9646 413.546 Q36.6071 411.646 39.6345 411.421 Q33.2577 406.976 33.2577 400.664 Q33.2577 397.025 35.1578 395.06 Q37.0258 393.095 40.3108 393.095 Q42.0177 393.095 45.2705 393.965 Q48.4911 394.835 50.1014 395.414 Q51.7117 395.994 54.8034 397.121 Q57.7664 398.313 59.5055 398.313 Q60.6327 398.313 61.148 397.926 Q61.6633 397.54 61.6633 396.702 Q61.6633 395.414 60.9225 394.287 Q60.1496 393.16 58.8936 392.355 Q57.6053 391.517 56.3171 390.97 Q54.9967 390.422 53.5152 390.004 Q52.71 389.746 52.5168 389.617 Q52.3236 389.456 52.3236 389.005 Q52.3236 388.2 52.9677 388.2 Z\" fill=\"#000000\" fill-rule=\"evenodd\" fill-opacity=\"1\" /><path clip-path=\"url(#clip600)\" d=\"M53.5152 383.832 Q51.5506 383.832 50.6167 382.705 Q49.6827 381.578 49.6827 380.128 Q49.6827 378.615 50.6811 377.552 Q51.6472 376.457 53.3542 376.457 Q55.1899 376.457 56.2205 377.745 Q57.2511 379.001 56.9934 380.805 Q59.6343 379.227 60.8259 376.328 Q62.0175 373.397 62.0175 370.692 Q62.0175 367.858 59.5699 365.571 Q57.1222 363.252 51.1319 363.252 Q46.0434 363.252 43.1127 365.249 Q40.182 367.214 40.182 371.111 L40.182 374.009 Q40.182 375.008 40.0853 375.297 Q39.9887 375.587 39.4412 375.587 Q38.7971 375.587 38.6683 374.589 Q38.6683 373.591 38.475 372.012 Q38.3462 368.18 35.029 366.151 Q31.9373 364.315 27.5251 364.315 Q23.4993 364.315 21.8246 366.248 Q20.1177 368.148 20.1177 370.628 Q20.1177 372.946 21.0839 375.491 Q22.0501 378.035 24.2078 379.42 Q24.2078 375.33 27.5251 375.33 Q28.9743 375.33 29.9405 376.264 Q30.8745 377.165 30.8745 378.679 Q30.8745 380.128 29.9727 381.095 Q29.0387 382.061 27.4606 382.061 Q23.6926 382.061 21.0839 378.711 Q18.4752 375.33 18.4752 370.37 Q18.4752 365.475 21.0517 361.868 Q23.6281 358.228 27.5895 358.228 Q31.4864 358.228 34.6748 360.805 Q37.8631 363.381 39.1836 367.471 Q40.182 362.447 43.5958 359.452 Q46.9774 356.457 51.1319 356.457 Q56.2849 356.457 60.0852 360.515 Q63.8533 364.573 63.8533 370.499 Q63.8533 375.974 60.8903 379.903 Q57.9274 383.832 53.5152 383.832 Z\" fill=\"#000000\" fill-rule=\"evenodd\" fill-opacity=\"1\" /><path clip-path=\"url(#clip600)\" d=\"M77.9594 351.168 Q77.6374 351.168 76.9288 350.91 L14.7071 327.625 Q14.6427 327.625 14.2884 327.464 Q13.9342 327.303 13.7087 327.207 Q13.4511 327.11 13.2579 326.917 Q13.0646 326.692 13.0646 326.434 Q13.0646 325.79 13.8698 325.79 Q13.9342 325.79 14.7071 325.983 L76.9933 349.332 Q78.1205 349.719 78.4425 349.976 Q78.7646 350.202 78.7646 350.588 Q78.7646 351.168 77.9594 351.168 Z\" fill=\"#000000\" fill-rule=\"evenodd\" fill-opacity=\"1\" /><path clip-path=\"url(#clip600)\" d=\"M52.9677 264.462 Q53.2253 264.462 54.2237 264.752 Q55.2221 265.042 56.768 265.751 Q58.3139 266.427 59.7309 267.393 Q61.1158 268.327 62.1464 269.873 Q63.1447 271.387 63.1447 273.126 Q63.1447 275.445 61.5989 276.991 Q60.053 278.536 57.7342 278.536 Q56.4781 278.536 54.0949 277.667 Q43.2093 273.577 39.3124 273.577 Q34.707 273.577 34.707 277.152 Q34.707 279.181 35.5443 281.016 Q36.3817 282.852 37.5411 284.044 Q38.7005 285.235 40.0209 286.169 Q41.3414 287.103 42.2109 287.522 Q43.0805 287.908 43.467 288.005 L59.3767 291.966 Q60.7293 292.288 61.3734 292.514 Q62.0175 292.739 62.565 293.351 Q63.1447 293.963 63.1447 294.929 Q63.1447 295.734 62.6616 296.314 Q62.1786 296.862 61.3412 296.862 Q61.2124 296.862 60.5361 296.701 Q59.8597 296.54 58.9258 296.314 Q57.9918 296.089 57.4443 295.992 Q53.0643 294.833 52.4524 294.672 L44.7874 292.836 Q40.9871 291.837 39.3124 291.837 Q34.707 291.837 34.707 295.412 Q34.707 297.184 35.3833 298.858 Q36.0274 300.501 36.9292 301.628 Q37.8309 302.755 39.087 303.786 Q40.3108 304.784 41.1481 305.3 Q41.9533 305.783 42.7584 306.169 L46.0434 307.006 Q46.9452 307.2 50.4556 308.134 L56.4137 309.583 Q60.8581 310.613 61.2768 310.839 Q62.1786 311.161 62.6616 311.87 Q63.1447 312.578 63.1447 313.287 Q63.1447 314.092 62.6616 314.639 Q62.1786 315.187 61.3412 315.187 Q61.2124 315.187 60.7293 315.09 Q60.2462 314.993 59.5699 314.832 Q58.8936 314.671 58.5071 314.607 L43.2737 310.775 Q40.504 310.066 39.6345 309.905 Q38.7327 309.712 37.7343 309.712 Q34.707 309.712 34.707 311.773 Q34.707 313.448 36.7037 314.543 Q38.7005 315.638 42.5652 316.572 Q43.628 316.861 43.8534 317.055 Q44.0789 317.216 44.0789 317.699 Q44.0467 318.504 43.4025 318.504 Q43.2415 318.504 42.2109 318.246 Q41.1803 317.989 39.6345 317.506 Q38.0564 316.99 37.0258 316.443 Q36.3495 316.121 35.8986 315.831 Q35.4477 315.541 34.7392 314.961 Q34.0306 314.382 33.6442 313.512 Q33.2577 312.642 33.2577 311.58 Q33.2577 309.229 34.7714 307.49 Q36.285 305.718 38.9903 305.493 Q33.2577 301.209 33.2577 295.219 Q33.2577 291.837 34.9646 289.808 Q36.6071 287.908 39.6345 287.683 Q33.2577 283.239 33.2577 276.926 Q33.2577 273.287 35.1578 271.322 Q37.0258 269.358 40.3108 269.358 Q42.0177 269.358 45.2705 270.227 Q48.4911 271.097 50.1014 271.677 Q51.7117 272.256 54.8034 273.384 Q57.7664 274.575 59.5055 274.575 Q60.6327 274.575 61.148 274.189 Q61.6633 273.802 61.6633 272.965 Q61.6633 271.677 60.9225 270.549 Q60.1496 269.422 58.8936 268.617 Q57.6053 267.78 56.3171 267.232 Q54.9967 266.685 53.5152 266.266 Q52.71 266.008 52.5168 265.88 Q52.3236 265.719 52.3236 265.268 Q52.3236 264.462 52.9677 264.462 Z\" fill=\"#000000\" fill-rule=\"evenodd\" fill-opacity=\"1\" /><path clip-path=\"url(#clip600)\" d=\"M21.1805 244.571 Q22.5976 244.571 23.6604 245.73 Q24.6909 246.857 24.6909 248.081 Q24.6909 249.208 24.0146 249.917 Q23.3061 250.593 22.3077 250.593 Q20.9873 250.593 19.8923 249.466 Q18.7973 248.339 18.7973 247.018 Q18.7973 245.923 19.4736 245.247 Q20.1499 244.571 21.1805 244.571 M52.9677 243.991 Q53.2253 243.991 54.2559 244.281 Q55.2543 244.571 56.8002 245.279 Q58.3139 245.956 59.7309 246.89 Q61.148 247.824 62.1464 249.369 Q63.1447 250.883 63.1447 252.622 Q63.1447 254.973 61.5989 256.519 Q60.053 258.033 57.7342 258.033 Q56.4781 258.033 52.4524 256.519 Q40.7295 252.139 40.2464 251.978 Q38.4106 251.237 36.8003 251.237 Q36.0596 251.237 35.6087 251.398 Q35.1256 251.559 34.9646 251.881 Q34.7714 252.204 34.7392 252.397 Q34.707 252.558 34.707 252.88 Q34.707 254.78 36.6393 256.551 Q38.5717 258.323 42.8872 259.546 Q43.6924 259.804 43.8856 259.965 Q44.0789 260.126 44.0789 260.609 Q44.0467 261.414 43.4025 261.414 Q43.2093 261.414 42.4686 261.189 Q41.6956 260.964 40.5362 260.545 Q39.3446 260.126 38.1208 259.385 Q36.8648 258.645 35.7698 257.743 Q34.6748 256.809 33.9662 255.489 Q33.2577 254.168 33.2577 252.687 Q33.2577 250.271 34.8358 248.79 Q36.3817 247.276 38.6683 247.276 Q39.9243 247.276 42.1465 248.146 Q45.045 249.208 45.979 249.595 L52.9033 252.171 Q55.4153 253.105 56.1883 253.395 Q56.929 253.653 57.8308 253.878 Q58.7003 254.071 59.5055 254.071 Q60.6327 254.071 61.148 253.717 Q61.6633 253.331 61.6633 252.493 Q61.6633 250.175 59.3767 248.468 Q57.0578 246.761 53.5152 245.762 Q53.4186 245.73 53.2575 245.698 Q52.4524 245.44 52.3558 245.183 Q52.3236 245.054 52.3236 244.796 Q52.3236 243.991 52.9677 243.991 Z\" fill=\"#000000\" fill-rule=\"evenodd\" fill-opacity=\"1\" /><path clip-path=\"url(#clip600)\" d=\"M52.9677 202.618 Q53.2253 202.618 54.2237 202.907 Q55.2221 203.197 56.768 203.906 Q58.3139 204.582 59.7309 205.516 Q61.1158 206.45 62.1464 207.996 Q63.1447 209.51 63.1447 211.249 Q63.1447 213.568 61.5989 215.113 Q60.053 216.659 57.7342 216.659 Q56.4459 216.659 54.6746 215.983 Q43.2415 211.7 39.3124 211.7 Q34.707 211.7 34.707 215.274 Q34.707 217.046 35.3833 218.721 Q36.0274 220.363 36.9292 221.49 Q37.8309 222.617 39.087 223.648 Q40.3108 224.646 41.1481 225.162 Q41.9533 225.645 42.7584 226.031 L46.0434 226.869 Q46.9452 227.062 50.4556 227.996 L56.4137 229.445 Q60.8581 230.476 61.2768 230.701 Q62.1786 231.023 62.6616 231.732 Q63.1447 232.44 63.1447 233.149 Q63.1447 233.954 62.6616 234.501 Q62.1786 235.049 61.3412 235.049 Q61.2124 235.049 60.7293 234.952 Q60.2462 234.856 59.5699 234.695 Q58.8936 234.534 58.5071 234.469 L43.2737 230.637 Q40.504 229.928 39.6345 229.767 Q38.7327 229.574 37.7343 229.574 Q34.707 229.574 34.707 231.635 Q34.707 233.31 36.7037 234.405 Q38.7005 235.5 42.5652 236.434 Q43.628 236.724 43.8534 236.917 Q44.0789 237.078 44.0789 237.561 Q44.0467 238.366 43.4025 238.366 Q43.2415 238.366 42.1787 238.108 Q41.1159 237.851 39.6023 237.368 Q38.0564 236.852 37.0258 236.369 Q36.2528 235.951 35.8986 235.725 Q35.5121 235.468 34.7714 234.856 Q33.9984 234.212 33.6442 233.374 Q33.2577 232.505 33.2577 231.442 Q33.2577 229.059 34.8036 227.319 Q36.3173 225.58 38.9903 225.355 Q33.2577 221.072 33.2577 215.081 Q33.2577 211.539 35.1256 209.51 Q36.9936 207.481 40.3108 207.481 Q41.0837 207.481 42.0821 207.642 Q43.0483 207.771 44.2721 208.093 Q45.4959 208.382 46.4299 208.64 Q47.3639 208.898 48.8775 209.413 Q50.359 209.928 51.0031 210.154 Q51.6472 210.379 53.1609 210.927 Q54.6424 211.442 54.8034 211.506 Q57.7986 212.698 59.5055 212.698 Q60.6327 212.698 61.148 212.344 Q61.6633 211.957 61.6633 211.12 Q61.6633 208.866 59.4411 207.191 Q57.1867 205.484 53.5152 204.389 Q52.71 204.131 52.5168 204.002 Q52.3236 203.841 52.3236 203.391 Q52.3236 202.618 52.9677 202.618 Z\" fill=\"#000000\" fill-rule=\"evenodd\" fill-opacity=\"1\" /><path clip-path=\"url(#clip600)\" d=\"M77.3797 198.931 L77.3797 193.391 L14.4495 193.391 L14.4495 198.931 L12.9358 198.931 L12.9358 188.979 L78.8934 188.979 L78.8934 198.931 L77.3797 198.931 Z\" fill=\"#000000\" fill-rule=\"evenodd\" fill-opacity=\"1\" /><polyline clip-path=\"url(#clip603)\" style=\"stroke:#000000; stroke-linecap:round; stroke-linejoin:round; stroke-width:4; stroke-opacity:1; fill:none\" stroke-dasharray=\"2, 4\" points=\"282.186,65.3348 333.731,65.3348 385.276,65.3348 436.822,65.3348 488.367,65.3348 539.912,65.3348 591.457,65.3348 643.002,65.3348 694.547,65.3348 746.093,65.3348 797.638,65.3348 849.183,65.3348 900.728,65.3348 952.273,65.3348 1003.82,65.3348 1055.36,65.3348 1106.91,65.3348 1158.45,65.3348 1210,65.3348 1261.54,65.3348 1313.09,65.3348 1364.63,65.3348 1416.18,65.3348 1467.73,65.3348 1519.27,65.3348 1570.82,65.3348 1622.36,65.3348 1673.91,65.3348 1725.45,65.3348 1777,65.3348 1828.54,65.3348 1880.09,65.3348 1931.63,65.3348 1983.18,65.3348 2034.72,65.3348 2086.27,65.3348 2137.81,65.3348 2189.36,65.3348 2240.9,65.3348 2292.45,65.3348 \"/>\n",
       "<polyline clip-path=\"url(#clip603)\" style=\"stroke:#000000; stroke-linecap:round; stroke-linejoin:round; stroke-width:4; stroke-opacity:1; fill:none\" stroke-dasharray=\"2, 4\" points=\"282.186,630.668 333.731,630.668 385.276,630.668 436.822,630.668 488.367,630.668 539.912,630.668 591.457,630.668 643.002,630.668 694.547,630.668 746.093,630.668 797.638,630.668 849.183,630.668 900.728,630.668 952.273,630.668 1003.82,630.668 1055.36,630.668 1106.91,630.668 1158.45,630.668 1210,630.668 1261.54,630.668 1313.09,630.668 1364.63,630.668 1416.18,630.668 1467.73,630.668 1519.27,630.668 1570.82,630.668 1622.36,630.668 1673.91,630.668 1725.45,630.668 1777,630.668 1828.54,630.668 1880.09,630.668 1931.63,630.668 1983.18,630.668 2034.72,630.668 2086.27,630.668 2137.81,630.668 2189.36,630.668 2240.9,630.668 2292.45,630.668 \"/>\n",
       "<polyline clip-path=\"url(#clip603)\" style=\"stroke:#ff0000; stroke-linecap:round; stroke-linejoin:round; stroke-width:12; stroke-opacity:0.3; fill:none\" points=\"282.186,517.602 333.731,668.357 385.276,668.357 436.822,668.357 488.367,668.357 539.912,668.357 591.457,668.357 643.002,668.357 694.547,668.357 746.093,668.357 797.638,668.357 849.183,668.357 900.728,668.357 952.273,668.357 1003.82,668.357 1055.36,668.357 1106.91,668.357 1158.45,668.357 1210,668.357 1261.54,668.357 1313.09,668.357 1364.63,668.357 1416.18,668.357 1467.73,668.357 1519.27,668.357 1570.82,668.357 1622.36,668.357 1673.91,668.357 1725.45,668.357 1777,668.357 1828.54,668.357 1880.09,668.357 1931.63,668.357 1983.18,668.357 2034.72,668.357 2086.27,668.357 2137.81,668.357 2189.36,668.357 2240.9,668.357 2292.45,668.357 \"/>\n",
       "<polyline clip-path=\"url(#clip603)\" style=\"stroke:#0000ff; stroke-linecap:round; stroke-linejoin:round; stroke-width:12; stroke-opacity:0.3; fill:none\" points=\"282.186,668.357 333.731,668.357 385.276,668.357 436.822,668.357 488.367,668.357 539.912,668.357 591.457,668.357 643.002,668.357 694.547,668.357 746.093,668.357 797.638,668.357 849.183,668.357 900.728,668.357 952.273,668.357 1003.82,668.357 1055.36,668.357 1106.91,668.357 1158.45,668.357 1210,668.357 1261.54,668.357 1313.09,668.357 1364.63,668.357 1416.18,668.357 1467.73,668.357 1519.27,668.357 1570.82,668.357 1622.36,668.357 1673.91,668.357 1725.45,668.357 1777,668.357 1828.54,668.357 1880.09,668.357 1931.63,668.357 1983.18,668.357 2034.72,668.357 2086.27,668.357 2137.81,668.357 2189.36,668.357 2240.9,668.357 2292.45,668.357 \"/>\n",
       "<path clip-path=\"url(#clip600)\" d=\"M221.878 1486.45 L2352.76 1486.45 L2352.76 847.244 L221.878 847.244  Z\" fill=\"#ffffff\" fill-rule=\"evenodd\" fill-opacity=\"1\"/>\n",
       "<defs>\n",
       "  <clipPath id=\"clip604\">\n",
       "    <rect x=\"221\" y=\"847\" width=\"2132\" height=\"640\"/>\n",
       "  </clipPath>\n",
       "</defs>\n",
       "<polyline clip-path=\"url(#clip604)\" style=\"stroke:#000000; stroke-linecap:round; stroke-linejoin:round; stroke-width:8; stroke-opacity:0.1; fill:none\" points=\"230.641,1486.45 230.641,847.244 \"/>\n",
       "<polyline clip-path=\"url(#clip604)\" style=\"stroke:#000000; stroke-linecap:round; stroke-linejoin:round; stroke-width:8; stroke-opacity:0.1; fill:none\" points=\"746.093,1486.45 746.093,847.244 \"/>\n",
       "<polyline clip-path=\"url(#clip604)\" style=\"stroke:#000000; stroke-linecap:round; stroke-linejoin:round; stroke-width:8; stroke-opacity:0.1; fill:none\" points=\"1261.54,1486.45 1261.54,847.244 \"/>\n",
       "<polyline clip-path=\"url(#clip604)\" style=\"stroke:#000000; stroke-linecap:round; stroke-linejoin:round; stroke-width:8; stroke-opacity:0.1; fill:none\" points=\"1777,1486.45 1777,847.244 \"/>\n",
       "<polyline clip-path=\"url(#clip604)\" style=\"stroke:#000000; stroke-linecap:round; stroke-linejoin:round; stroke-width:8; stroke-opacity:0.1; fill:none\" points=\"2292.45,1486.45 2292.45,847.244 \"/>\n",
       "<polyline clip-path=\"url(#clip600)\" style=\"stroke:#000000; stroke-linecap:round; stroke-linejoin:round; stroke-width:4; stroke-opacity:1; fill:none\" points=\"221.878,1486.45 2352.76,1486.45 \"/>\n",
       "<polyline clip-path=\"url(#clip600)\" style=\"stroke:#000000; stroke-linecap:round; stroke-linejoin:round; stroke-width:4; stroke-opacity:1; fill:none\" points=\"230.641,1486.45 230.641,1467.55 \"/>\n",
       "<polyline clip-path=\"url(#clip600)\" style=\"stroke:#000000; stroke-linecap:round; stroke-linejoin:round; stroke-width:4; stroke-opacity:1; fill:none\" points=\"746.093,1486.45 746.093,1467.55 \"/>\n",
       "<polyline clip-path=\"url(#clip600)\" style=\"stroke:#000000; stroke-linecap:round; stroke-linejoin:round; stroke-width:4; stroke-opacity:1; fill:none\" points=\"1261.54,1486.45 1261.54,1467.55 \"/>\n",
       "<polyline clip-path=\"url(#clip600)\" style=\"stroke:#000000; stroke-linecap:round; stroke-linejoin:round; stroke-width:4; stroke-opacity:1; fill:none\" points=\"1777,1486.45 1777,1467.55 \"/>\n",
       "<polyline clip-path=\"url(#clip600)\" style=\"stroke:#000000; stroke-linecap:round; stroke-linejoin:round; stroke-width:4; stroke-opacity:1; fill:none\" points=\"2292.45,1486.45 2292.45,1467.55 \"/>\n",
       "<path clip-path=\"url(#clip600)\" d=\"M230.641 1517.37 Q227.03 1517.37 225.201 1520.93 Q223.395 1524.47 223.395 1531.6 Q223.395 1538.71 225.201 1542.27 Q227.03 1545.82 230.641 1545.82 Q234.275 1545.82 236.081 1542.27 Q237.909 1538.71 237.909 1531.6 Q237.909 1524.47 236.081 1520.93 Q234.275 1517.37 230.641 1517.37 M230.641 1513.66 Q236.451 1513.66 239.507 1518.27 Q242.585 1522.85 242.585 1531.6 Q242.585 1540.33 239.507 1544.94 Q236.451 1549.52 230.641 1549.52 Q224.831 1549.52 221.752 1544.94 Q218.696 1540.33 218.696 1531.6 Q218.696 1522.85 221.752 1518.27 Q224.831 1513.66 230.641 1513.66 Z\" fill=\"#000000\" fill-rule=\"evenodd\" fill-opacity=\"1\" /><path clip-path=\"url(#clip600)\" d=\"M720.78 1544.91 L728.419 1544.91 L728.419 1518.55 L720.109 1520.21 L720.109 1515.95 L728.373 1514.29 L733.049 1514.29 L733.049 1544.91 L740.688 1544.91 L740.688 1548.85 L720.78 1548.85 L720.78 1544.91 Z\" fill=\"#000000\" fill-rule=\"evenodd\" fill-opacity=\"1\" /><path clip-path=\"url(#clip600)\" d=\"M760.132 1517.37 Q756.521 1517.37 754.692 1520.93 Q752.887 1524.47 752.887 1531.6 Q752.887 1538.71 754.692 1542.27 Q756.521 1545.82 760.132 1545.82 Q763.766 1545.82 765.572 1542.27 Q767.4 1538.71 767.4 1531.6 Q767.4 1524.47 765.572 1520.93 Q763.766 1517.37 760.132 1517.37 M760.132 1513.66 Q765.942 1513.66 768.998 1518.27 Q772.076 1522.85 772.076 1531.6 Q772.076 1540.33 768.998 1544.94 Q765.942 1549.52 760.132 1549.52 Q754.322 1549.52 751.243 1544.94 Q748.188 1540.33 748.188 1531.6 Q748.188 1522.85 751.243 1518.27 Q754.322 1513.66 760.132 1513.66 Z\" fill=\"#000000\" fill-rule=\"evenodd\" fill-opacity=\"1\" /><path clip-path=\"url(#clip600)\" d=\"M1240.32 1544.91 L1256.64 1544.91 L1256.64 1548.85 L1234.69 1548.85 L1234.69 1544.91 Q1237.35 1542.16 1241.94 1537.53 Q1246.54 1532.88 1247.73 1531.53 Q1249.97 1529.01 1250.85 1527.27 Q1251.75 1525.51 1251.75 1523.82 Q1251.75 1521.07 1249.81 1519.33 Q1247.89 1517.6 1244.79 1517.6 Q1242.59 1517.6 1240.13 1518.36 Q1237.7 1519.13 1234.92 1520.68 L1234.92 1515.95 Q1237.75 1514.82 1240.2 1514.24 Q1242.66 1513.66 1244.69 1513.66 Q1250.06 1513.66 1253.26 1516.35 Q1256.45 1519.03 1256.45 1523.52 Q1256.45 1525.65 1255.64 1527.57 Q1254.85 1529.47 1252.75 1532.07 Q1252.17 1532.74 1249.07 1535.95 Q1245.97 1539.15 1240.32 1544.91 Z\" fill=\"#000000\" fill-rule=\"evenodd\" fill-opacity=\"1\" /><path clip-path=\"url(#clip600)\" d=\"M1276.45 1517.37 Q1272.84 1517.37 1271.01 1520.93 Q1269.21 1524.47 1269.21 1531.6 Q1269.21 1538.71 1271.01 1542.27 Q1272.84 1545.82 1276.45 1545.82 Q1280.09 1545.82 1281.89 1542.27 Q1283.72 1538.71 1283.72 1531.6 Q1283.72 1524.47 1281.89 1520.93 Q1280.09 1517.37 1276.45 1517.37 M1276.45 1513.66 Q1282.26 1513.66 1285.32 1518.27 Q1288.4 1522.85 1288.4 1531.6 Q1288.4 1540.33 1285.32 1544.94 Q1282.26 1549.52 1276.45 1549.52 Q1270.64 1549.52 1267.56 1544.94 Q1264.51 1540.33 1264.51 1531.6 Q1264.51 1522.85 1267.56 1518.27 Q1270.64 1513.66 1276.45 1513.66 Z\" fill=\"#000000\" fill-rule=\"evenodd\" fill-opacity=\"1\" /><path clip-path=\"url(#clip600)\" d=\"M1765.84 1530.21 Q1769.2 1530.93 1771.07 1533.2 Q1772.97 1535.47 1772.97 1538.8 Q1772.97 1543.92 1769.45 1546.72 Q1765.93 1549.52 1759.45 1549.52 Q1757.27 1549.52 1754.96 1549.08 Q1752.67 1548.66 1750.21 1547.81 L1750.21 1543.29 Q1752.16 1544.43 1754.47 1545.01 Q1756.79 1545.58 1759.31 1545.58 Q1763.71 1545.58 1766 1543.85 Q1768.32 1542.11 1768.32 1538.8 Q1768.32 1535.75 1766.16 1534.03 Q1764.03 1532.3 1760.21 1532.3 L1756.19 1532.3 L1756.19 1528.45 L1760.4 1528.45 Q1763.85 1528.45 1765.68 1527.09 Q1767.51 1525.7 1767.51 1523.11 Q1767.51 1520.45 1765.61 1519.03 Q1763.73 1517.6 1760.21 1517.6 Q1758.29 1517.6 1756.09 1518.01 Q1753.89 1518.43 1751.26 1519.31 L1751.26 1515.14 Q1753.92 1514.4 1756.23 1514.03 Q1758.57 1513.66 1760.63 1513.66 Q1765.95 1513.66 1769.06 1516.09 Q1772.16 1518.5 1772.16 1522.62 Q1772.16 1525.49 1770.51 1527.48 Q1768.87 1529.45 1765.84 1530.21 Z\" fill=\"#000000\" fill-rule=\"evenodd\" fill-opacity=\"1\" /><path clip-path=\"url(#clip600)\" d=\"M1791.83 1517.37 Q1788.22 1517.37 1786.39 1520.93 Q1784.59 1524.47 1784.59 1531.6 Q1784.59 1538.71 1786.39 1542.27 Q1788.22 1545.82 1791.83 1545.82 Q1795.47 1545.82 1797.27 1542.27 Q1799.1 1538.71 1799.1 1531.6 Q1799.1 1524.47 1797.27 1520.93 Q1795.47 1517.37 1791.83 1517.37 M1791.83 1513.66 Q1797.64 1513.66 1800.7 1518.27 Q1803.78 1522.85 1803.78 1531.6 Q1803.78 1540.33 1800.7 1544.94 Q1797.64 1549.52 1791.83 1549.52 Q1786.02 1549.52 1782.95 1544.94 Q1779.89 1540.33 1779.89 1531.6 Q1779.89 1522.85 1782.95 1518.27 Q1786.02 1513.66 1791.83 1513.66 Z\" fill=\"#000000\" fill-rule=\"evenodd\" fill-opacity=\"1\" /><path clip-path=\"url(#clip600)\" d=\"M2280.62 1518.36 L2268.81 1536.81 L2280.62 1536.81 L2280.62 1518.36 M2279.39 1514.29 L2285.27 1514.29 L2285.27 1536.81 L2290.2 1536.81 L2290.2 1540.7 L2285.27 1540.7 L2285.27 1548.85 L2280.62 1548.85 L2280.62 1540.7 L2265.02 1540.7 L2265.02 1536.19 L2279.39 1514.29 Z\" fill=\"#000000\" fill-rule=\"evenodd\" fill-opacity=\"1\" /><path clip-path=\"url(#clip600)\" d=\"M2307.93 1517.37 Q2304.32 1517.37 2302.49 1520.93 Q2300.69 1524.47 2300.69 1531.6 Q2300.69 1538.71 2302.49 1542.27 Q2304.32 1545.82 2307.93 1545.82 Q2311.57 1545.82 2313.37 1542.27 Q2315.2 1538.71 2315.2 1531.6 Q2315.2 1524.47 2313.37 1520.93 Q2311.57 1517.37 2307.93 1517.37 M2307.93 1513.66 Q2313.74 1513.66 2316.8 1518.27 Q2319.88 1522.85 2319.88 1531.6 Q2319.88 1540.33 2316.8 1544.94 Q2313.74 1549.52 2307.93 1549.52 Q2302.12 1549.52 2299.05 1544.94 Q2295.99 1540.33 2295.99 1531.6 Q2295.99 1522.85 2299.05 1518.27 Q2302.12 1513.66 2307.93 1513.66 Z\" fill=\"#000000\" fill-rule=\"evenodd\" fill-opacity=\"1\" /><polyline clip-path=\"url(#clip604)\" style=\"stroke:#000000; stroke-linecap:round; stroke-linejoin:round; stroke-width:8; stroke-opacity:0.1; fill:none\" points=\"221.878,1468.36 2352.76,1468.36 \"/>\n",
       "<polyline clip-path=\"url(#clip604)\" style=\"stroke:#000000; stroke-linecap:round; stroke-linejoin:round; stroke-width:8; stroke-opacity:0.1; fill:none\" points=\"221.878,1317.6 2352.76,1317.6 \"/>\n",
       "<polyline clip-path=\"url(#clip604)\" style=\"stroke:#000000; stroke-linecap:round; stroke-linejoin:round; stroke-width:8; stroke-opacity:0.1; fill:none\" points=\"221.878,1166.85 2352.76,1166.85 \"/>\n",
       "<polyline clip-path=\"url(#clip604)\" style=\"stroke:#000000; stroke-linecap:round; stroke-linejoin:round; stroke-width:8; stroke-opacity:0.1; fill:none\" points=\"221.878,1016.09 2352.76,1016.09 \"/>\n",
       "<polyline clip-path=\"url(#clip604)\" style=\"stroke:#000000; stroke-linecap:round; stroke-linejoin:round; stroke-width:8; stroke-opacity:0.1; fill:none\" points=\"221.878,865.335 2352.76,865.335 \"/>\n",
       "<polyline clip-path=\"url(#clip600)\" style=\"stroke:#000000; stroke-linecap:round; stroke-linejoin:round; stroke-width:4; stroke-opacity:1; fill:none\" points=\"221.878,1486.45 221.878,847.244 \"/>\n",
       "<polyline clip-path=\"url(#clip600)\" style=\"stroke:#000000; stroke-linecap:round; stroke-linejoin:round; stroke-width:4; stroke-opacity:1; fill:none\" points=\"221.878,1468.36 240.776,1468.36 \"/>\n",
       "<polyline clip-path=\"url(#clip600)\" style=\"stroke:#000000; stroke-linecap:round; stroke-linejoin:round; stroke-width:4; stroke-opacity:1; fill:none\" points=\"221.878,1317.6 240.776,1317.6 \"/>\n",
       "<polyline clip-path=\"url(#clip600)\" style=\"stroke:#000000; stroke-linecap:round; stroke-linejoin:round; stroke-width:4; stroke-opacity:1; fill:none\" points=\"221.878,1166.85 240.776,1166.85 \"/>\n",
       "<polyline clip-path=\"url(#clip600)\" style=\"stroke:#000000; stroke-linecap:round; stroke-linejoin:round; stroke-width:4; stroke-opacity:1; fill:none\" points=\"221.878,1016.09 240.776,1016.09 \"/>\n",
       "<polyline clip-path=\"url(#clip600)\" style=\"stroke:#000000; stroke-linecap:round; stroke-linejoin:round; stroke-width:4; stroke-opacity:1; fill:none\" points=\"221.878,865.335 240.776,865.335 \"/>\n",
       "<path clip-path=\"url(#clip600)\" d=\"M128.703 1454.16 Q125.091 1454.16 123.263 1457.72 Q121.457 1461.26 121.457 1468.39 Q121.457 1475.5 123.263 1479.06 Q125.091 1482.6 128.703 1482.6 Q132.337 1482.6 134.142 1479.06 Q135.971 1475.5 135.971 1468.39 Q135.971 1461.26 134.142 1457.72 Q132.337 1454.16 128.703 1454.16 M128.703 1450.45 Q134.513 1450.45 137.568 1455.06 Q140.647 1459.64 140.647 1468.39 Q140.647 1477.12 137.568 1481.73 Q134.513 1486.31 128.703 1486.31 Q122.892 1486.31 119.814 1481.73 Q116.758 1477.12 116.758 1468.39 Q116.758 1459.64 119.814 1455.06 Q122.892 1450.45 128.703 1450.45 Z\" fill=\"#000000\" fill-rule=\"evenodd\" fill-opacity=\"1\" /><path clip-path=\"url(#clip600)\" d=\"M148.864 1479.76 L153.749 1479.76 L153.749 1485.64 L148.864 1485.64 L148.864 1479.76 Z\" fill=\"#000000\" fill-rule=\"evenodd\" fill-opacity=\"1\" /><path clip-path=\"url(#clip600)\" d=\"M173.934 1454.16 Q170.323 1454.16 168.494 1457.72 Q166.688 1461.26 166.688 1468.39 Q166.688 1475.5 168.494 1479.06 Q170.323 1482.6 173.934 1482.6 Q177.568 1482.6 179.374 1479.06 Q181.202 1475.5 181.202 1468.39 Q181.202 1461.26 179.374 1457.72 Q177.568 1454.16 173.934 1454.16 M173.934 1450.45 Q179.744 1450.45 182.799 1455.06 Q185.878 1459.64 185.878 1468.39 Q185.878 1477.12 182.799 1481.73 Q179.744 1486.31 173.934 1486.31 Q168.124 1486.31 165.045 1481.73 Q161.989 1477.12 161.989 1468.39 Q161.989 1459.64 165.045 1455.06 Q168.124 1450.45 173.934 1450.45 Z\" fill=\"#000000\" fill-rule=\"evenodd\" fill-opacity=\"1\" /><path clip-path=\"url(#clip600)\" d=\"M130.3 1303.4 Q126.689 1303.4 124.86 1306.97 Q123.054 1310.51 123.054 1317.64 Q123.054 1324.74 124.86 1328.31 Q126.689 1331.85 130.3 1331.85 Q133.934 1331.85 135.74 1328.31 Q137.568 1324.74 137.568 1317.64 Q137.568 1310.51 135.74 1306.97 Q133.934 1303.4 130.3 1303.4 M130.3 1299.7 Q136.11 1299.7 139.165 1304.3 Q142.244 1308.89 142.244 1317.64 Q142.244 1326.36 139.165 1330.97 Q136.11 1335.55 130.3 1335.55 Q124.49 1335.55 121.411 1330.97 Q118.355 1326.36 118.355 1317.64 Q118.355 1308.89 121.411 1304.3 Q124.49 1299.7 130.3 1299.7 Z\" fill=\"#000000\" fill-rule=\"evenodd\" fill-opacity=\"1\" /><path clip-path=\"url(#clip600)\" d=\"M150.462 1329 L155.346 1329 L155.346 1334.88 L150.462 1334.88 L150.462 1329 Z\" fill=\"#000000\" fill-rule=\"evenodd\" fill-opacity=\"1\" /><path clip-path=\"url(#clip600)\" d=\"M169.559 1330.95 L185.878 1330.95 L185.878 1334.88 L163.934 1334.88 L163.934 1330.95 Q166.596 1328.19 171.179 1323.56 Q175.786 1318.91 176.966 1317.57 Q179.212 1315.04 180.091 1313.31 Q180.994 1311.55 180.994 1309.86 Q180.994 1307.1 179.049 1305.37 Q177.128 1303.63 174.026 1303.63 Q171.827 1303.63 169.374 1304.4 Q166.943 1305.16 164.165 1306.71 L164.165 1301.99 Q166.989 1300.85 169.443 1300.28 Q171.897 1299.7 173.934 1299.7 Q179.304 1299.7 182.499 1302.38 Q185.693 1305.07 185.693 1309.56 Q185.693 1311.69 184.883 1313.61 Q184.096 1315.51 181.989 1318.1 Q181.411 1318.77 178.309 1321.99 Q175.207 1325.18 169.559 1330.95 Z\" fill=\"#000000\" fill-rule=\"evenodd\" fill-opacity=\"1\" /><path clip-path=\"url(#clip600)\" d=\"M128.216 1152.64 Q124.605 1152.64 122.777 1156.21 Q120.971 1159.75 120.971 1166.88 Q120.971 1173.99 122.777 1177.55 Q124.605 1181.09 128.216 1181.09 Q131.851 1181.09 133.656 1177.55 Q135.485 1173.99 135.485 1166.88 Q135.485 1159.75 133.656 1156.21 Q131.851 1152.64 128.216 1152.64 M128.216 1148.94 Q134.027 1148.94 137.082 1153.55 Q140.161 1158.13 140.161 1166.88 Q140.161 1175.61 137.082 1180.21 Q134.027 1184.8 128.216 1184.8 Q122.406 1184.8 119.328 1180.21 Q116.272 1175.61 116.272 1166.88 Q116.272 1158.13 119.328 1153.55 Q122.406 1148.94 128.216 1148.94 Z\" fill=\"#000000\" fill-rule=\"evenodd\" fill-opacity=\"1\" /><path clip-path=\"url(#clip600)\" d=\"M148.378 1178.25 L153.263 1178.25 L153.263 1184.13 L148.378 1184.13 L148.378 1178.25 Z\" fill=\"#000000\" fill-rule=\"evenodd\" fill-opacity=\"1\" /><path clip-path=\"url(#clip600)\" d=\"M176.295 1153.64 L164.489 1172.09 L176.295 1172.09 L176.295 1153.64 M175.068 1149.57 L180.948 1149.57 L180.948 1172.09 L185.878 1172.09 L185.878 1175.98 L180.948 1175.98 L180.948 1184.13 L176.295 1184.13 L176.295 1175.98 L160.693 1175.98 L160.693 1171.46 L175.068 1149.57 Z\" fill=\"#000000\" fill-rule=\"evenodd\" fill-opacity=\"1\" /><path clip-path=\"url(#clip600)\" d=\"M128.54 1001.89 Q124.929 1001.89 123.101 1005.45 Q121.295 1009 121.295 1016.13 Q121.295 1023.23 123.101 1026.8 Q124.929 1030.34 128.54 1030.34 Q132.175 1030.34 133.98 1026.8 Q135.809 1023.23 135.809 1016.13 Q135.809 1009 133.98 1005.45 Q132.175 1001.89 128.54 1001.89 M128.54 998.185 Q134.351 998.185 137.406 1002.79 Q140.485 1007.38 140.485 1016.13 Q140.485 1024.85 137.406 1029.46 Q134.351 1034.04 128.54 1034.04 Q122.73 1034.04 119.652 1029.46 Q116.596 1024.85 116.596 1016.13 Q116.596 1007.38 119.652 1002.79 Q122.73 998.185 128.54 998.185 Z\" fill=\"#000000\" fill-rule=\"evenodd\" fill-opacity=\"1\" /><path clip-path=\"url(#clip600)\" d=\"M148.702 1027.49 L153.587 1027.49 L153.587 1033.37 L148.702 1033.37 L148.702 1027.49 Z\" fill=\"#000000\" fill-rule=\"evenodd\" fill-opacity=\"1\" /><path clip-path=\"url(#clip600)\" d=\"M174.35 1014.23 Q171.202 1014.23 169.35 1016.38 Q167.522 1018.53 167.522 1022.28 Q167.522 1026.01 169.35 1028.19 Q171.202 1030.34 174.35 1030.34 Q177.499 1030.34 179.327 1028.19 Q181.179 1026.01 181.179 1022.28 Q181.179 1018.53 179.327 1016.38 Q177.499 1014.23 174.35 1014.23 M183.633 999.574 L183.633 1003.83 Q181.874 1003 180.068 1002.56 Q178.286 1002.12 176.526 1002.12 Q171.897 1002.12 169.443 1005.25 Q167.013 1008.37 166.665 1014.69 Q168.031 1012.68 170.091 1011.61 Q172.151 1010.52 174.628 1010.52 Q179.837 1010.52 182.846 1013.69 Q185.878 1016.84 185.878 1022.28 Q185.878 1027.61 182.73 1030.82 Q179.582 1034.04 174.35 1034.04 Q168.355 1034.04 165.184 1029.46 Q162.013 1024.85 162.013 1016.13 Q162.013 1007.93 165.901 1003.07 Q169.79 998.185 176.341 998.185 Q178.1 998.185 179.883 998.533 Q181.688 998.88 183.633 999.574 Z\" fill=\"#000000\" fill-rule=\"evenodd\" fill-opacity=\"1\" /><path clip-path=\"url(#clip600)\" d=\"M128.795 851.133 Q125.184 851.133 123.355 854.698 Q121.55 858.24 121.55 865.369 Q121.55 872.476 123.355 876.041 Q125.184 879.582 128.795 879.582 Q132.429 879.582 134.235 876.041 Q136.064 872.476 136.064 865.369 Q136.064 858.24 134.235 854.698 Q132.429 851.133 128.795 851.133 M128.795 847.43 Q134.605 847.43 137.661 852.036 Q140.739 856.62 140.739 865.369 Q140.739 874.096 137.661 878.703 Q134.605 883.286 128.795 883.286 Q122.985 883.286 119.906 878.703 Q116.851 874.096 116.851 865.369 Q116.851 856.62 119.906 852.036 Q122.985 847.43 128.795 847.43 Z\" fill=\"#000000\" fill-rule=\"evenodd\" fill-opacity=\"1\" /><path clip-path=\"url(#clip600)\" d=\"M148.957 876.735 L153.841 876.735 L153.841 882.615 L148.957 882.615 L148.957 876.735 Z\" fill=\"#000000\" fill-rule=\"evenodd\" fill-opacity=\"1\" /><path clip-path=\"url(#clip600)\" d=\"M174.026 866.203 Q170.693 866.203 168.772 867.985 Q166.874 869.768 166.874 872.893 Q166.874 876.018 168.772 877.8 Q170.693 879.582 174.026 879.582 Q177.36 879.582 179.281 877.8 Q181.202 875.994 181.202 872.893 Q181.202 869.768 179.281 867.985 Q177.383 866.203 174.026 866.203 M169.35 864.212 Q166.341 863.471 164.651 861.411 Q162.985 859.351 162.985 856.388 Q162.985 852.245 165.925 849.837 Q168.887 847.43 174.026 847.43 Q179.188 847.43 182.128 849.837 Q185.068 852.245 185.068 856.388 Q185.068 859.351 183.378 861.411 Q181.711 863.471 178.725 864.212 Q182.105 864.999 183.98 867.291 Q185.878 869.582 185.878 872.893 Q185.878 877.916 182.799 880.601 Q179.744 883.286 174.026 883.286 Q168.309 883.286 165.23 880.601 Q162.175 877.916 162.175 872.893 Q162.175 869.582 164.073 867.291 Q165.971 864.999 169.35 864.212 M167.637 856.828 Q167.637 859.513 169.304 861.018 Q170.994 862.522 174.026 862.522 Q177.036 862.522 178.725 861.018 Q180.438 859.513 180.438 856.828 Q180.438 854.143 178.725 852.638 Q177.036 851.133 174.026 851.133 Q170.994 851.133 169.304 852.638 Q167.637 854.143 167.637 856.828 Z\" fill=\"#000000\" fill-rule=\"evenodd\" fill-opacity=\"1\" /><path clip-path=\"url(#clip600)\" d=\"M33.6442 1307.31 Q38.2818 1307.31 42.8872 1308.98 Q47.4605 1310.66 51.1642 1313.46 Q54.8678 1316.23 57.7342 1319.84 Q60.5683 1323.41 62.0175 1327.24 Q65.8822 1326.76 67.3315 1325.79 Q68.813 1324.8 68.813 1322.57 Q68.813 1321.29 68.2333 1319.9 Q67.6536 1318.48 66.1399 1317.03 Q64.6584 1315.58 62.4684 1314.84 Q61.7599 1314.62 61.7599 1314.04 Q61.7599 1313.81 61.9531 1313.59 Q62.1141 1313.33 62.404 1313.33 Q62.6616 1313.33 63.5956 1313.62 Q64.5618 1313.88 66.0433 1314.43 Q67.5247 1314.97 69.0706 1315.91 Q70.6487 1316.84 72.0336 1318 Q73.4184 1319.13 74.288 1320.8 Q75.1897 1322.48 75.1897 1324.34 Q75.1897 1325.89 74.61 1327.02 Q74.0303 1328.11 73.2896 1328.66 Q72.5488 1329.18 71.3572 1329.47 Q70.1978 1329.76 69.5537 1329.79 Q68.9096 1329.82 67.9434 1329.82 Q66.945 1329.82 62.8549 1329.56 Q63.8533 1333.04 63.8533 1336 Q63.8533 1343.31 59.0546 1348.11 Q54.2559 1352.91 46.2367 1352.91 Q40.6328 1352.91 35.0612 1350.4 Q29.4574 1347.89 25.3028 1343.89 Q21.1161 1339.9 18.5074 1334.65 Q15.8987 1329.37 15.8987 1324.15 Q15.8987 1316.74 20.8262 1312.04 Q25.7215 1307.31 33.6442 1307.31 M31.5508 1313.14 Q25.0452 1313.14 21.3093 1316.33 Q17.5412 1319.48 17.5412 1324.54 Q17.5412 1328.4 20.0211 1332.69 Q22.5009 1336.94 27.2996 1340.38 Q32.0983 1343.77 38.1208 1345.44 Q44.1433 1347.08 48.3622 1347.08 Q53.0321 1347.08 56.5425 1345.25 Q60.0208 1343.41 61.47 1339.71 Q60.6971 1340.09 59.3767 1340.09 Q56.8002 1340.09 54.739 1338.03 Q52.6456 1335.97 52.6456 1333.36 Q52.6456 1332.2 52.9999 1331.3 Q53.3219 1330.37 53.9983 1329.79 Q54.6746 1329.18 55.3187 1328.79 Q55.9306 1328.37 56.929 1328.15 Q57.8952 1327.89 58.4105 1327.79 Q58.8936 1327.69 59.7631 1327.57 Q57.9918 1324.41 55.0933 1321.83 Q52.1625 1319.26 49.0708 1317.68 Q45.9468 1316.1 42.5652 1315.04 Q39.1514 1313.97 36.4461 1313.56 Q33.7086 1313.14 31.5508 1313.14 M59.6987 1329.37 Q56.7036 1329.37 55.4153 1330.34 Q54.0949 1331.27 54.0949 1333.36 Q54.0949 1335.42 55.7374 1337.03 Q57.3799 1338.64 59.3767 1338.64 Q60.375 1338.64 61.0191 1338.35 Q61.6311 1338.03 61.8887 1337.45 Q62.1141 1336.87 62.1786 1336.52 Q62.2108 1336.16 62.2108 1335.62 Q62.2108 1332.82 61.0191 1330.08 Q60.8259 1329.59 60.6327 1329.5 Q60.4394 1329.37 59.6987 1329.37 Z\" fill=\"#000000\" fill-rule=\"evenodd\" fill-opacity=\"1\" /><path clip-path=\"url(#clip600)\" d=\"M80.5823 1262.89 Q80.7627 1262.89 81.4615 1263.09 Q82.1604 1263.29 83.2425 1263.79 Q84.3247 1264.26 85.3166 1264.94 Q86.286 1265.59 87.0074 1266.67 Q87.7063 1267.73 87.7063 1268.95 Q87.7063 1270.57 86.6241 1271.66 Q85.542 1272.74 83.9189 1272.74 Q83.0396 1272.74 81.3714 1272.13 Q73.7515 1269.27 71.0236 1269.27 Q67.7998 1269.27 67.7998 1271.77 Q67.7998 1273.19 68.386 1274.47 Q68.9721 1275.76 69.7837 1276.59 Q70.5953 1277.43 71.5196 1278.08 Q72.4439 1278.73 73.0526 1279.03 Q73.6613 1279.3 73.9318 1279.37 L85.0686 1282.14 Q86.0155 1282.36 86.4663 1282.52 Q86.9172 1282.68 87.3005 1283.11 Q87.7063 1283.54 87.7063 1284.21 Q87.7063 1284.78 87.3681 1285.18 Q87.0299 1285.57 86.4438 1285.57 Q86.3536 1285.57 85.8802 1285.45 Q85.4068 1285.34 84.753 1285.18 Q84.0992 1285.02 83.716 1284.96 Q80.65 1284.15 80.2216 1284.03 L74.8561 1282.75 Q72.1959 1282.05 71.0236 1282.05 Q67.7998 1282.05 67.7998 1284.55 Q67.7998 1285.79 68.2732 1286.96 Q68.7241 1288.11 69.3554 1288.9 Q69.9866 1289.69 70.8658 1290.41 Q71.7225 1291.11 72.3086 1291.47 Q72.8722 1291.81 73.4358 1292.08 L75.7353 1292.67 Q76.3666 1292.8 78.8239 1293.46 L82.9945 1294.47 Q86.1056 1295.19 86.3987 1295.35 Q87.0299 1295.58 87.3681 1296.07 Q87.7063 1296.57 87.7063 1297.06 Q87.7063 1297.63 87.3681 1298.01 Q87.0299 1298.39 86.4438 1298.39 Q86.3536 1298.39 86.0155 1298.33 Q85.6773 1298.26 85.2039 1298.15 Q84.7304 1298.03 84.4599 1297.99 L73.7966 1295.3 Q71.8578 1294.81 71.2491 1294.7 Q70.6178 1294.56 69.919 1294.56 Q67.7998 1294.56 67.7998 1296 Q67.7998 1297.18 69.1976 1297.94 Q70.5953 1298.71 73.3006 1299.36 Q74.0445 1299.57 74.2023 1299.7 Q74.3602 1299.81 74.3602 1300.15 Q74.3376 1300.72 73.8867 1300.72 Q73.774 1300.72 73.0526 1300.53 Q72.3312 1300.35 71.2491 1300.02 Q70.1444 1299.66 69.423 1299.27 Q68.9496 1299.05 68.634 1298.84 Q68.3183 1298.64 67.8224 1298.24 Q67.3264 1297.83 67.0559 1297.22 Q66.7853 1296.61 66.7853 1295.87 Q66.7853 1294.22 67.8449 1293.01 Q68.9045 1291.77 70.7982 1291.61 Q66.7853 1288.61 66.7853 1284.42 Q66.7853 1282.05 67.9802 1280.63 Q69.1299 1279.3 71.2491 1279.14 Q66.7853 1276.03 66.7853 1271.61 Q66.7853 1269.06 68.1154 1267.69 Q69.423 1266.31 71.7225 1266.31 Q72.9173 1266.31 75.1943 1266.92 Q77.4487 1267.53 78.5759 1267.94 Q79.7031 1268.34 81.8673 1269.13 Q83.9414 1269.97 85.1588 1269.97 Q85.9478 1269.97 86.3085 1269.69 Q86.6692 1269.42 86.6692 1268.84 Q86.6692 1267.94 86.1507 1267.15 Q85.6097 1266.36 84.7304 1265.79 Q83.8287 1265.21 82.9269 1264.83 Q82.0026 1264.44 80.9656 1264.15 Q80.402 1263.97 80.2667 1263.88 Q80.1314 1263.77 80.1314 1263.45 Q80.1314 1262.89 80.5823 1262.89 Z\" fill=\"#000000\" fill-rule=\"evenodd\" fill-opacity=\"1\" /><path clip-path=\"url(#clip600)\" d=\"M78.8934 1253.53 L12.9358 1253.53 L12.9358 1243.58 L14.4495 1243.58 L14.4495 1249.12 L77.3797 1249.12 L77.3797 1243.58 L78.8934 1243.58 L78.8934 1253.53 Z\" fill=\"#000000\" fill-rule=\"evenodd\" fill-opacity=\"1\" /><path clip-path=\"url(#clip600)\" d=\"M52.9677 1188.2 Q53.2253 1188.2 54.2237 1188.49 Q55.2221 1188.78 56.768 1189.49 Q58.3139 1190.16 59.7309 1191.13 Q61.1158 1192.06 62.1464 1193.61 Q63.1447 1195.12 63.1447 1196.86 Q63.1447 1199.18 61.5989 1200.73 Q60.053 1202.27 57.7342 1202.27 Q56.4781 1202.27 54.0949 1201.4 Q43.2093 1197.31 39.3124 1197.31 Q34.707 1197.31 34.707 1200.89 Q34.707 1202.92 35.5443 1204.75 Q36.3817 1206.59 37.5411 1207.78 Q38.7005 1208.97 40.0209 1209.91 Q41.3414 1210.84 42.2109 1211.26 Q43.0805 1211.65 43.467 1211.74 L59.3767 1215.7 Q60.7293 1216.03 61.3734 1216.25 Q62.0175 1216.48 62.565 1217.09 Q63.1447 1217.7 63.1447 1218.67 Q63.1447 1219.47 62.6616 1220.05 Q62.1786 1220.6 61.3412 1220.6 Q61.2124 1220.6 60.5361 1220.44 Q59.8597 1220.28 58.9258 1220.05 Q57.9918 1219.83 57.4443 1219.73 Q53.0643 1218.57 52.4524 1218.41 L44.7874 1216.57 Q40.9871 1215.58 39.3124 1215.58 Q34.707 1215.58 34.707 1219.15 Q34.707 1220.92 35.3833 1222.6 Q36.0274 1224.24 36.9292 1225.37 Q37.8309 1226.49 39.087 1227.52 Q40.3108 1228.52 41.1481 1229.04 Q41.9533 1229.52 42.7584 1229.91 L46.0434 1230.74 Q46.9452 1230.94 50.4556 1231.87 L56.4137 1233.32 Q60.8581 1234.35 61.2768 1234.58 Q62.1786 1234.9 62.6616 1235.61 Q63.1447 1236.32 63.1447 1237.02 Q63.1447 1237.83 62.6616 1238.38 Q62.1786 1238.92 61.3412 1238.92 Q61.2124 1238.92 60.7293 1238.83 Q60.2462 1238.73 59.5699 1238.57 Q58.8936 1238.41 58.5071 1238.34 L43.2737 1234.51 Q40.504 1233.8 39.6345 1233.64 Q38.7327 1233.45 37.7343 1233.45 Q34.707 1233.45 34.707 1235.51 Q34.707 1237.19 36.7037 1238.28 Q38.7005 1239.38 42.5652 1240.31 Q43.628 1240.6 43.8534 1240.79 Q44.0789 1240.95 44.0789 1241.44 Q44.0467 1242.24 43.4025 1242.24 Q43.2415 1242.24 42.2109 1241.98 Q41.1803 1241.73 39.6345 1241.24 Q38.0564 1240.73 37.0258 1240.18 Q36.3495 1239.86 35.8986 1239.57 Q35.4477 1239.28 34.7392 1238.7 Q34.0306 1238.12 33.6442 1237.25 Q33.2577 1236.38 33.2577 1235.32 Q33.2577 1232.97 34.7714 1231.23 Q36.285 1229.46 38.9903 1229.23 Q33.2577 1224.95 33.2577 1218.96 Q33.2577 1215.58 34.9646 1213.55 Q36.6071 1211.65 39.6345 1211.42 Q33.2577 1206.98 33.2577 1200.66 Q33.2577 1197.02 35.1578 1195.06 Q37.0258 1193.1 40.3108 1193.1 Q42.0177 1193.1 45.2705 1193.96 Q48.4911 1194.83 50.1014 1195.41 Q51.7117 1195.99 54.8034 1197.12 Q57.7664 1198.31 59.5055 1198.31 Q60.6327 1198.31 61.148 1197.93 Q61.6633 1197.54 61.6633 1196.7 Q61.6633 1195.41 60.9225 1194.29 Q60.1496 1193.16 58.8936 1192.35 Q57.6053 1191.52 56.3171 1190.97 Q54.9967 1190.42 53.5152 1190 Q52.71 1189.75 52.5168 1189.62 Q52.3236 1189.46 52.3236 1189.01 Q52.3236 1188.2 52.9677 1188.2 Z\" fill=\"#000000\" fill-rule=\"evenodd\" fill-opacity=\"1\" /><path clip-path=\"url(#clip600)\" d=\"M53.5152 1183.83 Q51.5506 1183.83 50.6167 1182.7 Q49.6827 1181.58 49.6827 1180.13 Q49.6827 1178.61 50.6811 1177.55 Q51.6472 1176.46 53.3542 1176.46 Q55.1899 1176.46 56.2205 1177.75 Q57.2511 1179 56.9934 1180.8 Q59.6343 1179.23 60.8259 1176.33 Q62.0175 1173.4 62.0175 1170.69 Q62.0175 1167.86 59.5699 1165.57 Q57.1222 1163.25 51.1319 1163.25 Q46.0434 1163.25 43.1127 1165.25 Q40.182 1167.21 40.182 1171.11 L40.182 1174.01 Q40.182 1175.01 40.0853 1175.3 Q39.9887 1175.59 39.4412 1175.59 Q38.7971 1175.59 38.6683 1174.59 Q38.6683 1173.59 38.475 1172.01 Q38.3462 1168.18 35.029 1166.15 Q31.9373 1164.32 27.5251 1164.32 Q23.4993 1164.32 21.8246 1166.25 Q20.1177 1168.15 20.1177 1170.63 Q20.1177 1172.95 21.0839 1175.49 Q22.0501 1178.03 24.2078 1179.42 Q24.2078 1175.33 27.5251 1175.33 Q28.9743 1175.33 29.9405 1176.26 Q30.8745 1177.17 30.8745 1178.68 Q30.8745 1180.13 29.9727 1181.09 Q29.0387 1182.06 27.4606 1182.06 Q23.6926 1182.06 21.0839 1178.71 Q18.4752 1175.33 18.4752 1170.37 Q18.4752 1165.47 21.0517 1161.87 Q23.6281 1158.23 27.5895 1158.23 Q31.4864 1158.23 34.6748 1160.8 Q37.8631 1163.38 39.1836 1167.47 Q40.182 1162.45 43.5958 1159.45 Q46.9774 1156.46 51.1319 1156.46 Q56.2849 1156.46 60.0852 1160.52 Q63.8533 1164.57 63.8533 1170.5 Q63.8533 1175.97 60.8903 1179.9 Q57.9274 1183.83 53.5152 1183.83 Z\" fill=\"#000000\" fill-rule=\"evenodd\" fill-opacity=\"1\" /><path clip-path=\"url(#clip600)\" d=\"M77.9594 1151.17 Q77.6374 1151.17 76.9288 1150.91 L14.7071 1127.63 Q14.6427 1127.63 14.2884 1127.46 Q13.9342 1127.3 13.7087 1127.21 Q13.4511 1127.11 13.2579 1126.92 Q13.0646 1126.69 13.0646 1126.43 Q13.0646 1125.79 13.8698 1125.79 Q13.9342 1125.79 14.7071 1125.98 L76.9933 1149.33 Q78.1205 1149.72 78.4425 1149.98 Q78.7646 1150.2 78.7646 1150.59 Q78.7646 1151.17 77.9594 1151.17 Z\" fill=\"#000000\" fill-rule=\"evenodd\" fill-opacity=\"1\" /><path clip-path=\"url(#clip600)\" d=\"M52.9677 1064.46 Q53.2253 1064.46 54.2237 1064.75 Q55.2221 1065.04 56.768 1065.75 Q58.3139 1066.43 59.7309 1067.39 Q61.1158 1068.33 62.1464 1069.87 Q63.1447 1071.39 63.1447 1073.13 Q63.1447 1075.44 61.5989 1076.99 Q60.053 1078.54 57.7342 1078.54 Q56.4781 1078.54 54.0949 1077.67 Q43.2093 1073.58 39.3124 1073.58 Q34.707 1073.58 34.707 1077.15 Q34.707 1079.18 35.5443 1081.02 Q36.3817 1082.85 37.5411 1084.04 Q38.7005 1085.24 40.0209 1086.17 Q41.3414 1087.1 42.2109 1087.52 Q43.0805 1087.91 43.467 1088 L59.3767 1091.97 Q60.7293 1092.29 61.3734 1092.51 Q62.0175 1092.74 62.565 1093.35 Q63.1447 1093.96 63.1447 1094.93 Q63.1447 1095.73 62.6616 1096.31 Q62.1786 1096.86 61.3412 1096.86 Q61.2124 1096.86 60.5361 1096.7 Q59.8597 1096.54 58.9258 1096.31 Q57.9918 1096.09 57.4443 1095.99 Q53.0643 1094.83 52.4524 1094.67 L44.7874 1092.84 Q40.9871 1091.84 39.3124 1091.84 Q34.707 1091.84 34.707 1095.41 Q34.707 1097.18 35.3833 1098.86 Q36.0274 1100.5 36.9292 1101.63 Q37.8309 1102.76 39.087 1103.79 Q40.3108 1104.78 41.1481 1105.3 Q41.9533 1105.78 42.7584 1106.17 L46.0434 1107.01 Q46.9452 1107.2 50.4556 1108.13 L56.4137 1109.58 Q60.8581 1110.61 61.2768 1110.84 Q62.1786 1111.16 62.6616 1111.87 Q63.1447 1112.58 63.1447 1113.29 Q63.1447 1114.09 62.6616 1114.64 Q62.1786 1115.19 61.3412 1115.19 Q61.2124 1115.19 60.7293 1115.09 Q60.2462 1114.99 59.5699 1114.83 Q58.8936 1114.67 58.5071 1114.61 L43.2737 1110.77 Q40.504 1110.07 39.6345 1109.9 Q38.7327 1109.71 37.7343 1109.71 Q34.707 1109.71 34.707 1111.77 Q34.707 1113.45 36.7037 1114.54 Q38.7005 1115.64 42.5652 1116.57 Q43.628 1116.86 43.8534 1117.05 Q44.0789 1117.22 44.0789 1117.7 Q44.0467 1118.5 43.4025 1118.5 Q43.2415 1118.5 42.2109 1118.25 Q41.1803 1117.99 39.6345 1117.51 Q38.0564 1116.99 37.0258 1116.44 Q36.3495 1116.12 35.8986 1115.83 Q35.4477 1115.54 34.7392 1114.96 Q34.0306 1114.38 33.6442 1113.51 Q33.2577 1112.64 33.2577 1111.58 Q33.2577 1109.23 34.7714 1107.49 Q36.285 1105.72 38.9903 1105.49 Q33.2577 1101.21 33.2577 1095.22 Q33.2577 1091.84 34.9646 1089.81 Q36.6071 1087.91 39.6345 1087.68 Q33.2577 1083.24 33.2577 1076.93 Q33.2577 1073.29 35.1578 1071.32 Q37.0258 1069.36 40.3108 1069.36 Q42.0177 1069.36 45.2705 1070.23 Q48.4911 1071.1 50.1014 1071.68 Q51.7117 1072.26 54.8034 1073.38 Q57.7664 1074.58 59.5055 1074.58 Q60.6327 1074.58 61.148 1074.19 Q61.6633 1073.8 61.6633 1072.96 Q61.6633 1071.68 60.9225 1070.55 Q60.1496 1069.42 58.8936 1068.62 Q57.6053 1067.78 56.3171 1067.23 Q54.9967 1066.68 53.5152 1066.27 Q52.71 1066.01 52.5168 1065.88 Q52.3236 1065.72 52.3236 1065.27 Q52.3236 1064.46 52.9677 1064.46 Z\" fill=\"#000000\" fill-rule=\"evenodd\" fill-opacity=\"1\" /><path clip-path=\"url(#clip600)\" d=\"M21.1805 1044.57 Q22.5976 1044.57 23.6604 1045.73 Q24.6909 1046.86 24.6909 1048.08 Q24.6909 1049.21 24.0146 1049.92 Q23.3061 1050.59 22.3077 1050.59 Q20.9873 1050.59 19.8923 1049.47 Q18.7973 1048.34 18.7973 1047.02 Q18.7973 1045.92 19.4736 1045.25 Q20.1499 1044.57 21.1805 1044.57 M52.9677 1043.99 Q53.2253 1043.99 54.2559 1044.28 Q55.2543 1044.57 56.8002 1045.28 Q58.3139 1045.96 59.7309 1046.89 Q61.148 1047.82 62.1464 1049.37 Q63.1447 1050.88 63.1447 1052.62 Q63.1447 1054.97 61.5989 1056.52 Q60.053 1058.03 57.7342 1058.03 Q56.4781 1058.03 52.4524 1056.52 Q40.7295 1052.14 40.2464 1051.98 Q38.4106 1051.24 36.8003 1051.24 Q36.0596 1051.24 35.6087 1051.4 Q35.1256 1051.56 34.9646 1051.88 Q34.7714 1052.2 34.7392 1052.4 Q34.707 1052.56 34.707 1052.88 Q34.707 1054.78 36.6393 1056.55 Q38.5717 1058.32 42.8872 1059.55 Q43.6924 1059.8 43.8856 1059.97 Q44.0789 1060.13 44.0789 1060.61 Q44.0467 1061.41 43.4025 1061.41 Q43.2093 1061.41 42.4686 1061.19 Q41.6956 1060.96 40.5362 1060.54 Q39.3446 1060.13 38.1208 1059.39 Q36.8648 1058.64 35.7698 1057.74 Q34.6748 1056.81 33.9662 1055.49 Q33.2577 1054.17 33.2577 1052.69 Q33.2577 1050.27 34.8358 1048.79 Q36.3817 1047.28 38.6683 1047.28 Q39.9243 1047.28 42.1465 1048.15 Q45.045 1049.21 45.979 1049.59 L52.9033 1052.17 Q55.4153 1053.11 56.1883 1053.4 Q56.929 1053.65 57.8308 1053.88 Q58.7003 1054.07 59.5055 1054.07 Q60.6327 1054.07 61.148 1053.72 Q61.6633 1053.33 61.6633 1052.49 Q61.6633 1050.17 59.3767 1048.47 Q57.0578 1046.76 53.5152 1045.76 Q53.4186 1045.73 53.2575 1045.7 Q52.4524 1045.44 52.3558 1045.18 Q52.3236 1045.05 52.3236 1044.8 Q52.3236 1043.99 52.9677 1043.99 Z\" fill=\"#000000\" fill-rule=\"evenodd\" fill-opacity=\"1\" /><path clip-path=\"url(#clip600)\" d=\"M52.9677 1002.62 Q53.2253 1002.62 54.2237 1002.91 Q55.2221 1003.2 56.768 1003.91 Q58.3139 1004.58 59.7309 1005.52 Q61.1158 1006.45 62.1464 1008 Q63.1447 1009.51 63.1447 1011.25 Q63.1447 1013.57 61.5989 1015.11 Q60.053 1016.66 57.7342 1016.66 Q56.4459 1016.66 54.6746 1015.98 Q43.2415 1011.7 39.3124 1011.7 Q34.707 1011.7 34.707 1015.27 Q34.707 1017.05 35.3833 1018.72 Q36.0274 1020.36 36.9292 1021.49 Q37.8309 1022.62 39.087 1023.65 Q40.3108 1024.65 41.1481 1025.16 Q41.9533 1025.64 42.7584 1026.03 L46.0434 1026.87 Q46.9452 1027.06 50.4556 1028 L56.4137 1029.45 Q60.8581 1030.48 61.2768 1030.7 Q62.1786 1031.02 62.6616 1031.73 Q63.1447 1032.44 63.1447 1033.15 Q63.1447 1033.95 62.6616 1034.5 Q62.1786 1035.05 61.3412 1035.05 Q61.2124 1035.05 60.7293 1034.95 Q60.2462 1034.86 59.5699 1034.69 Q58.8936 1034.53 58.5071 1034.47 L43.2737 1030.64 Q40.504 1029.93 39.6345 1029.77 Q38.7327 1029.57 37.7343 1029.57 Q34.707 1029.57 34.707 1031.64 Q34.707 1033.31 36.7037 1034.4 Q38.7005 1035.5 42.5652 1036.43 Q43.628 1036.72 43.8534 1036.92 Q44.0789 1037.08 44.0789 1037.56 Q44.0467 1038.37 43.4025 1038.37 Q43.2415 1038.37 42.1787 1038.11 Q41.1159 1037.85 39.6023 1037.37 Q38.0564 1036.85 37.0258 1036.37 Q36.2528 1035.95 35.8986 1035.73 Q35.5121 1035.47 34.7714 1034.86 Q33.9984 1034.21 33.6442 1033.37 Q33.2577 1032.5 33.2577 1031.44 Q33.2577 1029.06 34.8036 1027.32 Q36.3173 1025.58 38.9903 1025.35 Q33.2577 1021.07 33.2577 1015.08 Q33.2577 1011.54 35.1256 1009.51 Q36.9936 1007.48 40.3108 1007.48 Q41.0837 1007.48 42.0821 1007.64 Q43.0483 1007.77 44.2721 1008.09 Q45.4959 1008.38 46.4299 1008.64 Q47.3639 1008.9 48.8775 1009.41 Q50.359 1009.93 51.0031 1010.15 Q51.6472 1010.38 53.1609 1010.93 Q54.6424 1011.44 54.8034 1011.51 Q57.7986 1012.7 59.5055 1012.7 Q60.6327 1012.7 61.148 1012.34 Q61.6633 1011.96 61.6633 1011.12 Q61.6633 1008.87 59.4411 1007.19 Q57.1867 1005.48 53.5152 1004.39 Q52.71 1004.13 52.5168 1004 Q52.3236 1003.84 52.3236 1003.39 Q52.3236 1002.62 52.9677 1002.62 Z\" fill=\"#000000\" fill-rule=\"evenodd\" fill-opacity=\"1\" /><path clip-path=\"url(#clip600)\" d=\"M77.3797 998.931 L77.3797 993.391 L14.4495 993.391 L14.4495 998.931 L12.9358 998.931 L12.9358 988.979 L78.8934 988.979 L78.8934 998.931 L77.3797 998.931 Z\" fill=\"#000000\" fill-rule=\"evenodd\" fill-opacity=\"1\" /><polyline clip-path=\"url(#clip604)\" style=\"stroke:#000000; stroke-linecap:round; stroke-linejoin:round; stroke-width:4; stroke-opacity:1; fill:none\" stroke-dasharray=\"2, 4\" points=\"282.186,865.335 333.731,865.335 385.276,865.335 436.822,865.335 488.367,865.335 539.912,865.335 591.457,865.335 643.002,865.335 694.547,865.335 746.093,865.335 797.638,865.335 849.183,865.335 900.728,865.335 952.273,865.335 1003.82,865.335 1055.36,865.335 1106.91,865.335 1158.45,865.335 1210,865.335 1261.54,865.335 1313.09,865.335 1364.63,865.335 1416.18,865.335 1467.73,865.335 1519.27,865.335 1570.82,865.335 1622.36,865.335 1673.91,865.335 1725.45,865.335 1777,865.335 1828.54,865.335 1880.09,865.335 1931.63,865.335 1983.18,865.335 2034.72,865.335 2086.27,865.335 2137.81,865.335 2189.36,865.335 2240.9,865.335 2292.45,865.335 \"/>\n",
       "<polyline clip-path=\"url(#clip604)\" style=\"stroke:#000000; stroke-linecap:round; stroke-linejoin:round; stroke-width:4; stroke-opacity:1; fill:none\" stroke-dasharray=\"2, 4\" points=\"282.186,1430.67 333.731,1430.67 385.276,1430.67 436.822,1430.67 488.367,1430.67 539.912,1430.67 591.457,1430.67 643.002,1430.67 694.547,1430.67 746.093,1430.67 797.638,1430.67 849.183,1430.67 900.728,1430.67 952.273,1430.67 1003.82,1430.67 1055.36,1430.67 1106.91,1430.67 1158.45,1430.67 1210,1430.67 1261.54,1430.67 1313.09,1430.67 1364.63,1430.67 1416.18,1430.67 1467.73,1430.67 1519.27,1430.67 1570.82,1430.67 1622.36,1430.67 1673.91,1430.67 1725.45,1430.67 1777,1430.67 1828.54,1430.67 1880.09,1430.67 1931.63,1430.67 1983.18,1430.67 2034.72,1430.67 2086.27,1430.67 2137.81,1430.67 2189.36,1430.67 2240.9,1430.67 2292.45,1430.67 \"/>\n",
       "<polyline clip-path=\"url(#clip604)\" style=\"stroke:#ff0000; stroke-linecap:round; stroke-linejoin:round; stroke-width:12; stroke-opacity:0.3; fill:none\" points=\"282.186,1468.36 333.731,1468.36 385.276,1468.36 436.822,1468.36 488.367,1468.36 539.912,1468.36 591.457,1468.36 643.002,1468.36 694.547,1468.36 746.093,1468.36 797.638,1468.36 849.183,1468.36 900.728,1468.36 952.273,1468.36 1003.82,1468.36 1055.36,1468.36 1106.91,1468.36 1158.45,1468.36 1210,1468.36 1261.54,1468.36 1313.09,1468.36 1364.63,1468.36 1416.18,1468.36 1467.73,1468.36 1519.27,1468.36 1570.82,1468.36 1622.36,1468.36 1673.91,1468.36 1725.45,1468.36 1777,1468.36 1828.54,1468.36 1880.09,1468.36 1931.63,1468.36 1983.18,1468.36 2034.72,1468.36 2086.27,1468.36 2137.81,1468.36 2189.36,1468.36 2240.9,1468.36 2292.45,1468.36 \"/>\n",
       "<polyline clip-path=\"url(#clip604)\" style=\"stroke:#0000ff; stroke-linecap:round; stroke-linejoin:round; stroke-width:12; stroke-opacity:0.3; fill:none\" points=\"282.186,1468.36 333.731,1468.36 385.276,1468.36 436.822,1468.36 488.367,1468.36 539.912,1468.36 591.457,1468.36 643.002,1468.36 694.547,1468.36 746.093,1468.36 797.638,1468.36 849.183,1468.36 900.728,1468.36 952.273,1468.36 1003.82,1468.36 1055.36,1468.36 1106.91,1468.36 1158.45,1468.36 1210,1468.36 1261.54,1468.36 1313.09,1468.36 1364.63,1468.36 1416.18,1468.36 1467.73,1468.36 1519.27,1468.36 1570.82,1468.36 1622.36,1468.36 1673.91,1468.36 1725.45,1468.36 1777,1468.36 1828.54,1468.36 1880.09,1468.36 1931.63,1468.36 1983.18,1468.36 2034.72,1468.36 2086.27,1468.36 2137.81,1468.36 2189.36,1468.36 2240.9,1468.36 2292.45,1468.36 \"/>\n",
       "</svg>\n"
      ]
     },
     "metadata": {},
     "output_type": "display_data"
    }
   ],
   "source": [
    "p8 = plot(layout = (num_subplots, 1),fmt = :svg, resolution = (600, 400), latex=true,gridlinewidth=2,legend=:topleft) \n",
    "\n",
    "# Loop to generate subplots \n",
    "for mm in 1:num_subplots \n",
    "\n",
    "    # limits\n",
    "    plot!(subplot=mm,ts,Qf_max*ones(length(ts)),linestyle = :dot,linecolor = :black,label=\"\")\n",
    "    plot!(subplot=mm,ts,Qm_min*ones(length(ts)),linestyle = :dot,linecolor = :black,label=\"\")\n",
    "    \n",
    "    for nn in 1:n_MC\n",
    "        plot!(subplot=mm,ts,QmPlant[:,nn,mm],linewidth=3,linealpha = 0.3,linecolor = CList[nn],legend=false)\n",
    "    end\n",
    "    \n",
    "    # Add labels, titles, or other customizations to each subplot \n",
    "    ylabel!(L\"Q_{m} [m3/min]\") \n",
    "end \n",
    "\n",
    "\n",
    "# Display the subplots \n",
    "display(p8)"
   ]
  },
  {
   "cell_type": "code",
   "execution_count": null,
   "id": "58153cc1",
   "metadata": {},
   "outputs": [],
   "source": []
  }
 ],
 "metadata": {
  "kernelspec": {
   "display_name": "Julia 1.8.5",
   "language": "julia",
   "name": "julia-1.8"
  },
  "language_info": {
   "file_extension": ".jl",
   "mimetype": "application/julia",
   "name": "julia",
   "version": "1.8.5"
  }
 },
 "nbformat": 4,
 "nbformat_minor": 5
}
