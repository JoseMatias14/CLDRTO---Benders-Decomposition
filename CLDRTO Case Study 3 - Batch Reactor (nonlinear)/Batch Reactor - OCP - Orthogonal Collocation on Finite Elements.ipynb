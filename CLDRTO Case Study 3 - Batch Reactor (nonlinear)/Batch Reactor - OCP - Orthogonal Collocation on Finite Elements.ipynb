{
 "cells": [
  {
   "cell_type": "code",
   "execution_count": null,
   "id": "71c8d886",
   "metadata": {},
   "outputs": [],
   "source": [
    "using JuMP, Ipopt, Plots"
   ]
  },
  {
   "cell_type": "markdown",
   "id": "51ca7611",
   "metadata": {},
   "source": [
    "#### Nonisothermal Batch Reactor\n",
    "Based on: Example 8.4 of Biegler, L. T. (2010). Nonlinear programming: concepts, algorithms, and applications to chemical processes\n",
    "\n",
    "Consider the nonisothermal batch reactor with first order parallel reactions $A \\rightarrow B$, and $A \\rightarrow C$. For optimal operation, we seek a temperature profile that maximizes the final amount of product $B$. The optimal control problem can be stated as: \n",
    "\n",
    "$\\underset{T}{\\max} \\quad C_B(T_{end})$ \n",
    "\n",
    "subject to:\n",
    "\n",
    "$ \\dfrac{d C_A(t)}{d t} = -k_{1} \\exp\\bigg(\\dfrac{-E_1}{RT}\\bigg) C_A(t) - k_{2} \\exp\\bigg(\\dfrac{-E_2}{RT}\\bigg) C_A(t) \\quad\\quad t \\in [0, T]$ <br>\n",
    "$ \\dfrac{d C_B(t)}{d t} = k_{1} \\exp\\bigg(\\dfrac{-E_1}{RT}\\bigg) C_A(t)  \\quad\\quad t \\in [0, T]$ <br>\n",
    "$ C_A(0) = C_{A,0}, \\ C_B(0) = C_{B,0} $ <br>\n",
    "\n",
    "where, $C_X$ denotes the concentration of species $X$, $T$ the reactor temperature (degree of freedom), $k_{1}$ and $k_{2}$ are the pre-exponential factor $E_1$ and $E_2$ are the activation energies of the reactions.$R$ is the universal gas constant. \n",
    "\n",
    "The problem above can be rewritten as:\n",
    "\n",
    "\n",
    "$\\underset{u(t)}{\\min} \\quad - C_B(T_{end})$ \n",
    "\n",
    "subject to:\n",
    "\n",
    "$ \\dfrac{d C_A(t)}{d t} = -C_A(t)(u(t) + k u(t)^\\beta) \\quad\\quad t \\in [0, T]$ <br>\n",
    "$ \\dfrac{d C_B(t)}{d t} = u(t) C_A(t)  \\quad\\quad t \\in [0, T]$ <br>\n",
    "$ C_A(0) = C_{A,0}, \\ C_B(0) = C_{B,0} $ <br>\n"
   ]
  },
  {
   "cell_type": "code",
   "execution_count": null,
   "id": "cdebbebe",
   "metadata": {},
   "outputs": [],
   "source": [
    "#System parameters\n",
    "nx     = 2          # [-] number of states\n",
    "nfe    = 20          # number of control intervals\n",
    "ncp    = 3           # number of collocation points\n",
    "th     = 1          # time horizon\n",
    "h      = th/nfe      # length of one finite element on the time horizon\n",
    "\n",
    "ts     = Vector{Float64}(undef,nfe) # time series for plotting\n",
    "for i in 1:nfe\n",
    "    ts[i] = h*i\n",
    "end\n",
    "\n",
    "# Initial conditions\n",
    "x0 = [1.0,0.0]\n",
    "u0 = 2.0\n",
    "\n",
    "# model parameters\n",
    "k = 2.0\n",
    "β = 2.0"
   ]
  },
  {
   "cell_type": "code",
   "execution_count": null,
   "id": "7c978b50",
   "metadata": {},
   "outputs": [],
   "source": [
    "# Collocation parameters and radau time series\n",
    "colmat = [0.19681547722366  -0.06553542585020 0.02377097434822;\n",
    "          0.39442431473909  0.29207341166523 -0.04154875212600;\n",
    "          0.37640306270047  0.51248582618842 0.11111111111111]\n",
    "radau  = [0.15505 0.64495 1.00000]"
   ]
  },
  {
   "cell_type": "code",
   "execution_count": null,
   "id": "2409057e",
   "metadata": {},
   "outputs": [],
   "source": [
    "# JuMP model\n",
    "m = Model(Ipopt.Optimizer)\n",
    "set_optimizer_attribute(m, \"warm_start_init_point\", \"yes\")\n",
    "set_optimizer_attribute(m, \"print_level\", 5)\n",
    "\n",
    "# Set up variables\n",
    "@variables(m, begin\n",
    "    x[1:nx, 1:nfe, 1:ncp] ≥ 0 \n",
    "    xdot[1:nx, 1:nfe, 1:ncp]\n",
    "    0 <= u[1:nfe] <= 5\n",
    "end)\n",
    "\n",
    "# Set up initial guesses for solver\n",
    "for i in 1:nfe\n",
    "    for j in 1:ncp\n",
    "        set_start_value(x[1,i,j], x0[1])\n",
    "        set_start_value(x[2,i,j], x0[2])\n",
    "    end\n",
    "    set_start_value(u[i], u0)\n",
    "end\n",
    "\n",
    "# Set up objective function\n",
    "@NLobjective(m, Min, -x[2,nfe,ncp])\n",
    "\n",
    "#Set up the constraints\n",
    "@NLconstraints(m, begin\n",
    "    # set up differential equations\n",
    "    m1[i=1:nfe, j=1:ncp], xdot[1,i,j] == -x[1,i,j]*(u[i] + k*u[i]^β)\n",
    "    m2[i=1:nfe, j=1:ncp], xdot[2,i,j] == x[1,i,j]*u[i] \n",
    "    # set up collocation equations - 2nd-to-nth point\n",
    "    coll_c_n[l=1:nx, i=2:nfe, j=1:ncp], x[l,i,j] == x[l,i-1,ncp] + h*sum(colmat[j,k]*xdot[l,i,k] for k in 1:ncp)\n",
    "    # set up collocation equations - 1st point\n",
    "    coll_c_0[l=1:nx, i=[1], j=1:ncp], x[l,i,j] == x0[l] + h*sum(colmat[j,k]*xdot[l,i,k] for k in 1:ncp)\n",
    "    end);"
   ]
  },
  {
   "cell_type": "code",
   "execution_count": null,
   "id": "76403f1d",
   "metadata": {},
   "outputs": [],
   "source": [
    "# Solve the model\n",
    "solveNLP = JuMP.optimize!\n",
    "status = solveNLP(m)\n",
    "\n",
    "# Get values for plotting\n",
    "\n",
    "res = Matrix{Float64}(undef,nx,nfe) # time series for plotting\n",
    "for i in 1:nx\n",
    "    res[i,:] = JuMP.value.(x[i,:,3])\n",
    "end\n",
    "uStar = JuMP.value.(u);"
   ]
  },
  {
   "cell_type": "code",
   "execution_count": null,
   "id": "e8b74947",
   "metadata": {},
   "outputs": [],
   "source": [
    "gr()\n",
    "\n",
    "p11 = plot(ts,res[1,:],linewidth=5,xaxis=\"time (t)\",yaxis=\"x1(u,t)\",legend=false)\n",
    "p12 = plot(ts,res[2,:],linewidth=5,xaxis=\"time (t)\",yaxis=\"x2(u,t)\",legend=false)\n",
    "\n",
    "g1 = plot(p11,p12,layout=(2,1))\n",
    "display(g1)\n",
    "\n",
    "g2 = plot(ts,uStar,linetype=:steppre,linewidth=5,xaxis=\"time [min]\",yaxis=\"u\",legend=false)\n",
    "display(g2)"
   ]
  },
  {
   "cell_type": "code",
   "execution_count": null,
   "id": "3dcda9c0",
   "metadata": {},
   "outputs": [],
   "source": []
  }
 ],
 "metadata": {
  "kernelspec": {
   "display_name": "Julia 1.8.5",
   "language": "julia",
   "name": "julia-1.8"
  },
  "language_info": {
   "file_extension": ".jl",
   "mimetype": "application/julia",
   "name": "julia",
   "version": "1.8.5"
  }
 },
 "nbformat": 4,
 "nbformat_minor": 5
}
