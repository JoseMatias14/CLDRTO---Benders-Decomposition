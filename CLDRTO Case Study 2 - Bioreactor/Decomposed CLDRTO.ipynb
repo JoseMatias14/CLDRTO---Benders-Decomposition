{
 "cells": [
  {
   "cell_type": "markdown",
   "id": "39bb43e3",
   "metadata": {},
   "source": [
    "- **This code computes the decomposed solution of a Closed-Loop DRTO problem.**\n",
    "- The underlying control structure (modeled in the CLDRTO model) is an MPC, which can is solved using three different strategies: 1. unconstrained, 2. constrained using binaries, and 3. constrained using MPCC N.B.:strategy 2 not working\n",
    "- The problem is posed as a scenario-based stochastic programming problem\n",
    "- The case study is an affine multiple parallel bioreactor system from:*Gao, Ling. \"Modeling and dynamics analyses of immobilized CSTR bioreactor using transfer function model.\" 2012 International Symposium on Information Technologies in Medicine and Education. Vol. 2. IEEE, 2012.*\n",
    "- The uncertainty represented by the scenarios comes from the maximum specific growth rate (V_m) --> see matlab file\n",
    "\n",
    "AUTHOR: Jose Matias <assumpcj@mcmaster.ca>\n",
    "DATE: May 2023"
   ]
  },
  {
   "cell_type": "code",
   "execution_count": 1,
   "id": "67ea638f",
   "metadata": {},
   "outputs": [],
   "source": [
    "using LinearAlgebra, JuMP, CPLEX, Ipopt, Plots, CSV, DataFrames, Distributions"
   ]
  },
  {
   "cell_type": "markdown",
   "id": "b2933767",
   "metadata": {},
   "source": [
    "# Bioreactor Model\n",
    "\n",
    "$\\dfrac{d C}{d t} = D (C_{in} - C) - \\dfrac{V_m C}{(K_s + C)} $ <br>\n",
    "$ \\dfrac{d P}{d t} = \\dfrac{V_m C}{(K_s + C)} - DP $ <br>\n",
    "\n",
    "where, <br>\n",
    "$t$: time in hours \\[h\\] <br>\n",
    "$C$: concentration of reactant (substrate) \\[g/L\\] <br>\n",
    "$P$: concentration of product (biomass) \\[g/L\\] <br>\n",
    "$C_{in}$: inlet concentration of substrate \\[g/L\\] <br>\n",
    "$D$: ratio of flowrate to reactor volume \\[1/h\\] <br>\n",
    "$V_m$: maximum reaction rate \\[g/(h L)\\] <br> \n",
    "$K_s$: reaction constant \\[g/L\\] <br>\n",
    "\n",
    "- System measurement ($y$) - product concentration $P$ <br>\n",
    "- System inputs ($u$) - inlet reactant concentration $C_{in}$ <br>\n",
    "- Uncertain parameters ($\\theta$) - maximum reaction rate $V_m$"
   ]
  },
  {
   "cell_type": "code",
   "execution_count": 2,
   "id": "cb37bc36",
   "metadata": {},
   "outputs": [],
   "source": [
    "# Sampling time\n",
    "T = 1 #[h]\n",
    "\n",
    "# Number of manipulated inputs\n",
    "nu = 1\n",
    "# Number of controlled outputs\n",
    "ny = 1\n",
    "\n",
    "# setting bounds (all arbitrary - not in deviation form!!) \n",
    "uMax = 1.90 # for tight constraints: 1.9 | for loose constraints: 5.0 or 10.0\n",
    "uMin = 0.0;\n",
    "\n",
    "yspMax = 1.2 \n",
    "yspMin = 0.0;"
   ]
  },
  {
   "cell_type": "markdown",
   "id": "06d023cd",
   "metadata": {},
   "source": [
    "# Building affine CL-DRTO models\n",
    "\n",
    "## Model linearization\n",
    "- linearization is done using Matlab's functions ss and c2d (see BioReactorLinearization.m)\n",
    "- sample time $\\Delta t$ is consider as 1h\n",
    "- linearization around point: $V_m = 0.5$ \\[g/(h L)\\], $K_s = 0.2$ \\[g/L\\], $D = 0.5$ \\[1/h\\], $C_{in,0} = 1$ \\[g/L\\], $C_{0} = 0.358$ \\[g/L\\], and $P_{0} = 0.642$ \\[g/L\\]\n",
    "\n",
    "which leads to: <br>\n",
    "$\\bar{x}_{k+1} = A \\bar{x}_k + B \\bar{u}_k$ <br>\n",
    "$\\bar{y}_k = C \\bar{u}_k$\n",
    "\n",
    "where, <br>\n",
    "$\\bar{x} = \\begin{bmatrix}\n",
    "\\bar{C}\\\\\n",
    "\\bar{P}\n",
    "\\end{bmatrix} =\n",
    "\\begin{bmatrix}\n",
    "C - C_0\\\\\n",
    "P - P_0\n",
    "\\end{bmatrix}$<br>\n",
    "$\\bar{u} = \\bar{C}_{in} = C_{in} - C_{in,0}$<br>\n",
    "$\\bar{y} = \\bar{P} = P - P_0$"
   ]
  },
  {
   "cell_type": "code",
   "execution_count": 3,
   "id": "06719deb",
   "metadata": {},
   "outputs": [],
   "source": [
    "# Linearization point\n",
    "u0 = 1.5\n",
    "x0 = [0.7179;0.7821]\n",
    "y0 = 0.7821\n",
    "\n",
    "# 100 pre-computed models based on parametric uncertainty Vm (computed using matlab: BioReactorLinearization.m)\n",
    "bioModels = CSV.read(\"C:\\\\Users\\\\MACC-Jose\\\\Documents\\\\GitHub\\\\BD\\\\CLDRTO Case Study 2 - Bioreactor\\\\BioreactorModel\", DataFrame; header=false);\n",
    "#print(bioModels)"
   ]
  },
  {
   "cell_type": "markdown",
   "id": "8c5197b2",
   "metadata": {},
   "source": [
    "CL-DRTO configuration"
   ]
  },
  {
   "cell_type": "code",
   "execution_count": 4,
   "id": "ad40ad5c",
   "metadata": {},
   "outputs": [],
   "source": [
    "# DRTO sampling time\n",
    "nDRTO = 4 # [h]\n",
    "# Prediction horizon\n",
    "pD = 20 + (8 - 1)# p = 8 *controller horizon  \n",
    "# Input control horizon \n",
    "mD = 20\n",
    "# Objective function: target tracking (deviation form)\n",
    "pTrack = 1 - y0 # [g/L]\n",
    "# Soft upper bounds on P weight (deviation form)\n",
    "pUB = 1.05 - y0 # [g/L]\n",
    "# objective function weight for P penalization term \n",
    "wP = 100;"
   ]
  },
  {
   "cell_type": "markdown",
   "id": "27186ab9",
   "metadata": {},
   "source": [
    "DRTO model changes with the number of scenarios and parallel reactors"
   ]
  },
  {
   "cell_type": "code",
   "execution_count": 5,
   "id": "57ec4745",
   "metadata": {},
   "outputs": [],
   "source": [
    "function DRTO_matrices(nReactors,nScenarios)\n",
    "    # ATTENTION: Used for the monolithic solution. Generates an array of models\n",
    "    # Several different models were already computed offline and saved in the \"bioModel\" array\n",
    "    # This function extracts the models based on a fixed index grid that is generated based on the number of scenarios\n",
    "    \n",
    "    ###########\n",
    "    # inputs: #\n",
    "    ###########\n",
    "    # nReactors - number of reactors in parallel\n",
    "    # nScenarios - number of scenarios used in the stochastic optimization\n",
    "    \n",
    "    # picking up indexes equally spaced between 1 and 100 (including initial and end point) \n",
    "    # based on the desired number of scenarios\n",
    "    if nScenarios == 1\n",
    "        indexScen = 50 # nominal model --> index = 50\n",
    "    else\n",
    "        indexScen = [floor(Int, 1 + (ii - 1)*(100-1)/(nScenarios-1)) for ii in 1:nScenarios]\n",
    "    end\n",
    "    \n",
    "    # building DRTO model\n",
    "    A_drto = Array{Float64}(undef,nx,nx,nScenarios) \n",
    "    B_drto = Array{Float64}(undef,nx,nu,nScenarios) \n",
    "\n",
    "    for kk in 1:nScenarios\n",
    "\n",
    "        index_temp = indexScen[kk]\n",
    "\n",
    "        A_drto[:,:,kk] = kron(I(nReactors),Matrix(bioModels[2*(index_temp - 1) + 1:2*(index_temp - 1) + 2,1:2]))\n",
    "        B_drto[:,:,kk] = repeat(bioModels[2*(index_temp - 1) + 1:2*(index_temp - 1) + 2,3], outer = [nReactors, 1, 1])\n",
    "\n",
    "    end\n",
    "\n",
    "    # mapping states to measurements is the same for all models\n",
    "    C_drto = repeat([0 1], outer = [1, nReactors])\n",
    "    \n",
    "    return Dict('A' => A_drto, 'B' => B_drto, 'C' => C_drto)\n",
    "end;"
   ]
  },
  {
   "cell_type": "code",
   "execution_count": 6,
   "id": "0968ca7b",
   "metadata": {},
   "outputs": [],
   "source": [
    "function DRTO_matrix(nReactors,nScenario,nScenTotal)\n",
    "    # ATTENTION: Used for the decomposed solution. Generates a single model\n",
    "    # Several different models were already computed offline and saved in the \"bioModel\" array\n",
    "    # This function extracts the model of interest based on the index \"nScenario\"\n",
    "  \n",
    "    ###########\n",
    "    # inputs: #\n",
    "    ###########\n",
    "    # nReactors - number of reactors in parallel\n",
    "    # nScenario - index the of scenario used in the stochastic optimization\n",
    "    # nScenTotal - total number of scenario used in the stochastic optimization\n",
    "    \n",
    "    if nScenTotal == 1\n",
    "        index_temp = 50 # nominal model --> index = 50\n",
    "    else\n",
    "        indexScen = [floor(Int, 1 + (ii - 1)*(100-1)/(nScenTotal-1)) for ii in 1:nScenTotal]\n",
    "        index_temp = indexScen[nScenario]\n",
    "    end\n",
    "  \n",
    "    # building DRTO model\n",
    "    A_drto = kron(I(nReactors),Matrix(bioModels[2*(index_temp - 1) + 1:2*(index_temp - 1) + 2,1:2]))\n",
    "    B_drto = repeat(bioModels[2*(index_temp - 1) + 1:2*(index_temp - 1) + 2,3], outer = [nReactors, 1, 1])\n",
    "\n",
    "    # mapping states to measurements is the same for all models\n",
    "    C_drto = repeat([0 1], outer = [1, nReactors]);\n",
    "    \n",
    "    return Dict('A' => A_drto, 'B' => B_drto, 'C' => C_drto)\n",
    "end;"
   ]
  },
  {
   "cell_type": "markdown",
   "id": "66f4ef3c",
   "metadata": {},
   "source": [
    "# Building MPC model\n",
    "\n",
    "Controller configuration"
   ]
  },
  {
   "cell_type": "code",
   "execution_count": 7,
   "id": "54509748",
   "metadata": {},
   "outputs": [],
   "source": [
    "# MPC sampling time\n",
    "nMPC = 1 # [h]\n",
    "\n",
    "# Controller configuration\n",
    "# Output prediction horizon\n",
    "p = 8\n",
    "# Input control horizon \n",
    "m = 2\n",
    "# Output weights\n",
    "q = 1\n",
    "# Input weights \n",
    "r = 1;"
   ]
  },
  {
   "cell_type": "markdown",
   "id": "dbffeddf",
   "metadata": {},
   "source": [
    "Notes:\n",
    "- Using nominal model(indexScen = 50)\n",
    "- For the description of how the MPC matrices (with disturbance model) are built, check script: *CLDRTO with unconstrained MPC - uncertain plant test*"
   ]
  },
  {
   "cell_type": "code",
   "execution_count": 8,
   "id": "1f3177a8",
   "metadata": {},
   "outputs": [],
   "source": [
    "function MPC_matrices(nReactors)\n",
    "    ###########\n",
    "    # inputs: #\n",
    "    ###########\n",
    "    # nReactors - number of reactors in parallel\n",
    "    \n",
    "    # extracting the matrices from the model array computed previously\n",
    "    nNom = 50 # nominal model --> index = 50\n",
    "    \n",
    "    A = kron(I(nReactors),Matrix(bioModels[2*(nNom - 1) + 1:2*(nNom - 1) + 2,1:2])) \n",
    "    B = repeat(bioModels[2*(nNom - 1) + 1:2*(nNom - 1) + 2,3], outer = [nReactors, 1])\n",
    "    C = repeat([0 1], outer = [1, nReactors])\n",
    "    \n",
    "    # adding disturbance model\n",
    "    Ad = [A zeros(nx,ny); zeros(ny,nx) I(ny)]\n",
    "    Bd = [B; zeros(ny,nu)]\n",
    "    Cd = [C ones(ny,ny)]\n",
    "    \n",
    "    # building matrices for MPC\n",
    "    Psi = Cd*Ad\n",
    "    for ii in 2:p\n",
    "        Psi = [Psi;  Cd*Ad^ii]\n",
    "    end\n",
    "\n",
    "    # Computing Dynamic Matrix\n",
    "    a = Cd*Bd\n",
    "    for ii in 2:p\n",
    "        a = [a; Cd*Ad^(ii - 1)*Bd]\n",
    "    end\n",
    "    DynM = a\n",
    "\n",
    "    for ii in 1:(m - 2)\n",
    "        a = [zeros(ny,nu);a[1:(p-1)*ny,:]]\n",
    "        DynM = [DynM  a]\n",
    "    end\n",
    "\n",
    "    # adjusting dynamic matrix for since p > m (last column)\n",
    "    b = Cd*Bd\n",
    "\n",
    "    Ai = I(nx+1) # adding disturbance to the states\n",
    "    for ii = 1:(p - m)\n",
    "        Ai = Ai + Ad^ii\n",
    "        b = [b;Cd*Ai*Bd]\n",
    "    end\n",
    "\n",
    "    Theta=[DynM [zeros(ny*(m-1),nu);b]]\n",
    "    \n",
    "    # Creating Qbar and Rbar matrices\n",
    "    Qbar = Diagonal([q for ii in 1:p])\n",
    "    Rbar = Diagonal([r for ii in 1:m])\n",
    "\n",
    "    # Creating input movement OF penalty matrix \n",
    "    M=[zeros((m-1)*nu,nu) I(nu*(m-1)); zeros(nu) zeros(nu,nu*(m-1))]\n",
    "    Ibar=[I(nu); zeros(nu*(m-1),nu)]\n",
    "    IM = I(nu*m) - M';\n",
    "    \n",
    "    # Matrix H\n",
    "    H = Theta'*Qbar*Theta + IM'*Rbar*IM;\n",
    "    \n",
    "    return Dict('A' => A, 'B' => B, 'C' => C, 'H' => H, 'Θ' => Theta, 'Ψ' => Psi, 'Q' => Qbar, 'I' => Ibar, 'R' => Rbar, 'M' => IM)\n",
    "end;"
   ]
  },
  {
   "cell_type": "markdown",
   "id": "ab17a7c4",
   "metadata": {},
   "source": [
    "# Solving CL-DRTO Multiscenario Problem (monolithic)\n",
    " - Check details in script *Monolithic CLDRTO*\n",
    " - For the description of the different solution strategies, check *Different Strategies to solve constrained MPC within CLDRTO*"
   ]
  },
  {
   "cell_type": "code",
   "execution_count": 9,
   "id": "74dd560e",
   "metadata": {},
   "outputs": [],
   "source": [
    "# Parameters for MPC solution\n",
    "# matrix to compute the gradients of the input bound constraints\n",
    "conMatrix = [I(m); -I(m)]; \n",
    "\n",
    "# big-M implementation\n",
    "bigM_mu = 10000#1000\n",
    "bigM_u = 10000#100\n",
    "\n",
    "# weight complementarity relaxation OF term\n",
    "pi_bar = 10^2; # 10^2"
   ]
  },
  {
   "cell_type": "code",
   "execution_count": 10,
   "id": "e5486fc7",
   "metadata": {},
   "outputs": [],
   "source": [
    "## Modeling the sub problem (scenario) -- modeling inside a function\n",
    "function MS_CLDRTO(xInit,uInit,nReac,nScen,pScen,solNom,option)\n",
    "    ###########\n",
    "    # inputs: #\n",
    "    ###########\n",
    "    # xInit - states at the current iteration (beginning of DRTO horizon)\n",
    "    # uInit - inputs at the current iteration, already implemented on the plant\n",
    "    # nReac - number of parallel reactors\n",
    "    # nScen - number of scenarios used in the problem (only one branching)\n",
    "    # pScen - probability of the scenarios\n",
    "    # solNom - nominal solution\n",
    "    # option - strategy for solving MPC\n",
    "\n",
    "    # Creating MPC matrices\n",
    "    mpc = MPC_matrices(nReac)\n",
    "    \n",
    "    # Creating DRTO matrices\n",
    "    drto = DRTO_matrices(nReac,nScen)\n",
    "\n",
    "    # Define model\n",
    "    if option == 3\n",
    "        model_ms = Model(Ipopt.Optimizer)\n",
    "        set_optimizer_attribute(model_ms, \"max_cpu_time\", 300.0) # 5 min\n",
    "    else \n",
    "        model_ms = Model(CPLEX.Optimizer)\n",
    "        set_optimizer_attribute(model_ms, \"CPX_PARAM_TILIM\", 300.0) # 5 min\n",
    "    end\n",
    "    set_silent(model_ms)\n",
    "    \n",
    "    ####################\n",
    "    # Set up variables #\n",
    "    ####################\n",
    "    # DRTO model variables\n",
    "    @variable(model_ms, xDRTO[1:pD,1:nx,1:nScen])\n",
    "    @variable(model_ms, yDRTO[1:pD,1:nScen])\n",
    "    \n",
    "    # MPC model variables\n",
    "    @variable(model_ms, xMPC[1:pD,1:nx,1:nScen])\n",
    "    @variable(model_ms, yMPC[1:pD,1:nScen])\n",
    "    \n",
    "    # MPC <-> DRTO model deviation\n",
    "    @variable(model_ms, de[1:pD,1:nScen])\n",
    "    \n",
    "    # inputs computed by MPCs\n",
    "    @variable(model_ms, u[1:pD,1:m,1:nScen])\n",
    "    \n",
    "    # setpoints for the controllers sent to the plant (CL-DRTO degrees of freedom)\n",
    "    @variable(model_ms, (yspMin - y0) ≤ ysp[1:pD,1:nScen] ≤ (yspMax - y0))\n",
    "    \n",
    "    # slacks for P soft constraint\n",
    "    @variable(model_ms, delta_p[1:pD,1:nScen] ≥ 0)\n",
    "    \n",
    "    if option == 2 || option == 3\n",
    "        @variable(model_ms, mu_g[1:mD,1:(2*m),1:nScen] ≥ 0) # upper and lower bounds for each input\n",
    "    end\n",
    "    if option == 2\n",
    "        @variable(model_ms, Y_lb[1:mD,1:m,1:nScen], Bin, start = 0) # Binaries for big-M implementation\n",
    "        @variable(model_ms, Y_ub[1:mD,1:m,1:nScen], Bin, start = 0) \n",
    "    end\n",
    "    \n",
    "    ########################\n",
    "    # Set up initial guess #\n",
    "    ########################\n",
    "    if solNom isa Dict\n",
    "        for ss in 1:nScen\n",
    "            for ii in 1:pD\n",
    "                set_start_value(yDRTO[ii,ss], solNom['y'][ii,1]) \n",
    "                set_start_value(yMPC[ii,ss], solNom['c'][ii,1])\n",
    "                set_start_value(ysp[ii,ss], solNom['s'][ii,1])\n",
    "\n",
    "                for rr in 1:nReac # when nReac increases, the number of states change!\n",
    "                    for xx in 1:2 # N.B. nx/reactor is hardcoded here... (maybe use nx/reactor as a function input) \n",
    "                        set_start_value(xDRTO[ii,xx + (rr - 1)*2,ss], solNom['x'][ii,xx,1])    \n",
    "                        set_start_value(xMPC[ii,xx + (rr - 1)*2,ss], solNom['m'][ii,xx,1])           \n",
    "                    end # end xx\n",
    "                end # number \n",
    "                \n",
    "                for uu in 1:m\n",
    "                    set_start_value(u[ii,uu,ss], solNom['u'][ii,uu,1])\n",
    "                end # end of uu\n",
    "            end # eend of ii\n",
    "        end # end of ss\n",
    "    end # end of if\n",
    "    \n",
    "    ######################################\n",
    "    # Set up constraints and expressions #\n",
    "    ######################################\n",
    "    # Model Dynamic for Dynamic RTO\n",
    "    @constraint(model_ms, CLDRTO_dyn_model_1[ss=1:nScen], xDRTO[1,:,ss] .== drto['A'][:,:,ss]*xInit + drto['B'][:,:,ss]*uInit)\n",
    "    @constraint(model_ms, CLDRTO_dyn_model[kk=1:(pD - 1),ss=1:nScen], xDRTO[kk + 1,:,ss] .== drto['A'][:,:,ss]*xDRTO[kk,:,ss] + drto['B'][:,:,ss]*u[kk,1,ss])\n",
    "    @constraint(model_ms, CLDRTO_model_out[kk=1:pD,ss=1:nScen], yDRTO[kk,ss] == dot(drto['C'],xDRTO[kk,:,ss]))\n",
    "    \n",
    "    # Model Dynamic for Controller\n",
    "    @constraint(model_ms, MPC_dyn_model_1[ss=1:nScen], xMPC[1,:,ss] .== mpc['A']*xInit + mpc['B']*uInit)\n",
    "    @constraint(model_ms, MPC_dyn_model[kk=1:(pD - 1),ss=1:nScen], xMPC[kk + 1,:,ss] .== mpc['A']*xMPC[kk,:,ss] + mpc['B']*u[kk,1,ss])\n",
    "    @constraint(model_ms, MPC_model_out[kk=1:pD,ss=1:nScen], yMPC[kk,ss] == dot(mpc['C'],xMPC[kk,:,ss]))\n",
    "\n",
    "    #  Model deviation\n",
    "    @constraint(model_ms, MPC_model_dev[kk=1:pD,ss=1:nScen], de[kk,ss] == yDRTO[kk,ss] - yMPC[kk,ss])\n",
    "\n",
    "    # fixing setpoint changes after mD\n",
    "    @constraint(model_ms, control_horizon[kk=(mD+1):pD,ss=1:nScen], u[kk,1,ss] .== u[mD,1,ss])\n",
    "    \n",
    "    # P soft constraints\n",
    "    @constraint(model_ms, soft_P[kk=1:pD,ss=1:nScen], yDRTO[kk,ss] - delta_p[kk,ss] ≤ pUB)\n",
    "    \n",
    "    # nonanticipativity constraints\n",
    "    @constraint(model_ms, nonAnt[kk=1:nDRTO,ss=2:nScen], ysp[kk,1] - ysp[kk,ss] == 0.0);\n",
    "    \n",
    "    ################\n",
    "    # MPC solution #\n",
    "    ################\n",
    "    # sequence of Setpoints\n",
    "    @expression(model_ms, cfT_1[ss=1:nScen], (mpc['Ψ']*[xMPC[1,:,ss];de[1,ss]] - ysp[1:p,ss])'*mpc['Q']*mpc['Θ'] - uInit'*mpc['I']'*mpc['R']*mpc['M'])\n",
    "    @expression(model_ms, cfT[kk=2:mD,ss=1:nScen], (mpc['Ψ']*[xMPC[kk,:,ss];de[kk,ss]] - ysp[kk:(kk + p - 1),ss])'*mpc['Q']*mpc['Θ'] - u[kk-1,1,ss]'*mpc['I']'*mpc['R']*mpc['M'])\n",
    "    \n",
    "    # using setpoint holders\n",
    "    #@expression(model_ms, cfT_1[ss=1:nScen], (mpc['Ψ']*[xMPC[1,:,ss];de[1,ss]] - ysp[1,ss]*ones(p,1))'*mpc['Q']*mpc['Θ'] - uInit'*mpc['I']'*mpc['R']*mpc['M'])\n",
    "    #@expression(model_ms, cfT[kk=2:mD,ss=1:nScen], (mpc['Ψ']*[xMPC[kk,:,ss];de[kk,ss]] - ysp[kk,ss]*ones(p,1))'*mpc['Q']*mpc['Θ'] - u[kk-1,1,ss]'*mpc['I']'*mpc['R']*mpc['M']) \n",
    "    \n",
    "    if option == 1\n",
    "        # Unconstrained MPC solution  \n",
    "        @constraint(model_ms, MPC_sol_1[ss=1:nScen], mpc['H']*u[1,:,ss] + cfT_1[ss]' .== 0)\n",
    "        @constraint(model_ms, MPC_sol[kk=2:mD,ss=1:nScen], mpc['H']*u[kk,:,ss] + cfT[kk,ss]' .== 0)\n",
    "        \n",
    "        # input clipping directly into DRTO problem\n",
    "        @constraint(model_ms, MPC_c_upper[kk=1:mD,uu=1:m,ss=1:nScen], u[kk,uu,ss] - (uMax - u0) ≤ 0)\n",
    "        @constraint(model_ms, MPC_c_lower[kk=1:mD,uu=1:m,ss=1:nScen], (uMin - u0) - u[kk,uu,ss] ≤ 0)\n",
    "        \n",
    "    elseif option == 2\n",
    "        # Constrained with binaries\n",
    "        # 1. stationarity\n",
    "        @constraint(model_ms, MPC_sol_1[ss=1:nScen], u[1,:,ss]'*mpc['H'] + cfT_1[ss] +  mu_g[1,:,ss]'*conMatrix .== 0)\n",
    "        @constraint(model_ms, MPC_sol[kk=2:mD,ss=1:nScen], u[kk,:,ss]'*mpc['H'] + cfT[kk,ss] + mu_g[kk,:,ss]'*conMatrix .== 0)\n",
    "\n",
    "        # 2. primal feasibility\n",
    "        @constraint(model_ms, g_u_u[kk=1:mD,uu=1:m,ss=1:nScen], u[kk,uu,ss] - (uMax - u0) ≤ 0)\n",
    "        @constraint(model_ms, g_u_l[kk=1:mD,uu=1:m,ss=1:nScen], (uMin - u0) - u[kk,uu,ss] ≤ 0)\n",
    "    \n",
    "        # 3. complementarity --> using big-M implementation\n",
    "        @constraint(model_ms, bigM_1[kk=1:mD,uu=1:m,ss=1:nScen], mu_g[kk,uu,ss] ≤ bigM_mu*Y_ub[kk,uu,ss])\n",
    "        @constraint(model_ms, bigM_2[kk=1:mD,uu=1:m,ss=1:nScen], mu_g[kk,uu + m,ss] ≤ bigM_mu*Y_lb[kk,uu,ss])\n",
    "        @constraint(model_ms, bigM_3[kk=1:mD,uu=1:m,ss=1:nScen], u[kk,uu,ss] - (uMax - u0) ≥ -bigM_u*(1 - Y_ub[kk,uu,ss]))\n",
    "        @constraint(model_ms, bigM_4[kk=1:mD,uu=1:m,ss=1:nScen], (uMin - u0) - u[kk,uu,ss] ≥ -bigM_u*(1 - Y_lb[kk,uu,ss]))\n",
    "        \n",
    "        @constraint(model_ms, compSlack[kk=1:mD,uu=1:m,ss=1:nScen], Y_ub[kk,uu,ss] + Y_lb[kk,uu,ss] ≤ 1)\n",
    "    \n",
    "    elseif option == 3\n",
    "        # Constrained with MPCC\n",
    "        # 1. stationarity\n",
    "        @constraint(model_ms, MPC_sol_1[ss=1:nScen], u[1,:,ss]'*mpc['H'] + cfT_1[ss] +  mu_g[1,:,ss]'*conMatrix .== 0)\n",
    "        @constraint(model_ms, MPC_sol[kk=2:mD,ss=1:nScen], u[kk,:,ss]'*mpc['H'] + cfT[kk,ss] + mu_g[kk,:,ss]'*conMatrix .== 0)\n",
    "\n",
    "        # 2. primal feasibility\n",
    "        @constraint(model_ms, MPC_c_upper[kk=1:mD,uu=1:m,ss=1:nScen], u[kk,uu,ss] - (uMax - u0) ≤ 0)\n",
    "        @constraint(model_ms, MPC_c_lower[kk=1:mD,uu=1:m,ss=1:nScen], (uMin - u0) - u[kk,uu,ss] ≤ 0)\n",
    "        \n",
    "        # Expressions for OF\n",
    "        @expression(model_ms, g_u_u[kk=1:mD,uu=1:m,ss=1:nScen], u[kk,uu,ss] - (uMax - u0))\n",
    "        @expression(model_ms, g_u_l[kk=1:mD,uu=1:m,ss=1:nScen], (uMin - u0) - u[kk,uu,ss])\n",
    "        \n",
    "    end\n",
    "        \n",
    "    #############################\n",
    "    # Set up objective function #\n",
    "    #############################\n",
    "    if option == 1 || option == 2\n",
    "        @objective(model_ms, Min, \n",
    "            pScen*sum((yDRTO[kk,ss] - pTrack)^2 + wP*delta_p[kk,ss]^2 for kk in 1:pD, ss in 1:nScen)\n",
    "        )\n",
    "    else\n",
    "        @objective(model_ms, Min, pScen*sum((yDRTO[kk,ss] - pTrack)^2 + wP*delta_p[kk,ss]^2 for kk in 1:pD, ss in 1:nScen)\n",
    "                                - pScen*pi_bar*sum(\n",
    "                                                sum(mu_g[kk,jj,ss]*g_u_u[kk,jj,ss] for jj = 1:m) +\n",
    "                                                sum(mu_g[kk,jj + m,ss]*g_u_l[kk,jj,ss] for jj = 1:m)\n",
    "                                                for kk = 1:mD, ss in 1:nScen)\n",
    "        )\n",
    "    end\n",
    "    # @show model_ms\n",
    "\n",
    "    #################\n",
    "    # Solve Problem #\n",
    "    #################\n",
    "    #set_optimizer_attribute(model_ms, \"CPX_PARAM_BARALG\", 1)\n",
    "    optimize!(model_ms)\n",
    "    \n",
    "    status = termination_status(model_ms)\n",
    "    #display(status)\n",
    "    \n",
    "    if status == MOI.OPTIMAL || status == MOI.ALMOST_OPTIMAL || status == MOI.LOCALLY_SOLVED\n",
    "        # Proved optimality or Optimal within relaxed tolerances\n",
    "        # solution time\n",
    "        timeSol = solve_time(model_ms)\n",
    "\n",
    "        flag = 1\n",
    "        # #primal_status(m)\n",
    "\n",
    "        #calling values of the solved problem\n",
    "        ϕ = objective_value(model_ms)\n",
    "        uArray = value.(u)\n",
    "        yspArray = value.(ysp)\n",
    "        yDRTOArray = value.(yDRTO)\n",
    "        yMPCArray = value.(yMPC)\n",
    "        xDRTOArray = value.(xDRTO)\n",
    "        xMPCArray = value.(xMPC)\n",
    "\n",
    "        outputFun = Dict('ϕ' => ϕ,\n",
    "                        't' => timeSol,\n",
    "                        'f' => flag, \n",
    "                        'u' => uArray,\n",
    "                        's' => yspArray,\n",
    "                        'x' => xDRTOArray,\n",
    "                        'y' => yDRTOArray, \n",
    "                        'm' => xDRTOArray,\n",
    "                        'c' => yDRTOArray)\n",
    "        \n",
    "        if option == 2 || option == 3\n",
    "            muArray = value.(mu_g)\n",
    "            merge!(outputFun,Dict('μ'=> muArray))\n",
    "        end\n",
    "        \n",
    "        return outputFun\n",
    "    else\n",
    "        # Handle other cases.\n",
    "        outputFun = Dict('f' => 0,\n",
    "                         't' => NaN,\n",
    "                         'ϕ' => NaN)\n",
    "                        \n",
    "        \n",
    "        return outputFun\n",
    "    end\n",
    "end;"
   ]
  },
  {
   "cell_type": "markdown",
   "id": "e2a35860",
   "metadata": {},
   "source": [
    "# Decomposition of CLDRTO Problem"
   ]
  },
  {
   "attachments": {
    "image-2.png": {
     "image/png": "[encoded data removed]"
    }
   },
   "cell_type": "markdown",
   "id": "eccb0edd",
   "metadata": {},
   "source": [
    "<div>\n",
    "<img src=\"attachment:image-2.png\" width=\"900\"/>\n",
    "</div>"
   ]
  },
  {
   "cell_type": "markdown",
   "id": "b2f632eb",
   "metadata": {},
   "source": [
    "## Modeling Subproblem"
   ]
  },
  {
   "cell_type": "code",
   "execution_count": 11,
   "id": "1c652a26",
   "metadata": {},
   "outputs": [],
   "source": [
    "## Modeling the sub problem (scenario) -- modeling inside a function\n",
    "function subp(xInit,uInit,ysp_fixed,nReac,nScen,pScen,solNom,option)\n",
    "    ###########\n",
    "    # inputs: #\n",
    "    ###########\n",
    "    # xInit - states at the current iteration (beginning of DRTO horizon)\n",
    "    # uInit - inputs at the current iteration, already implemented on the plant\n",
    "    # ysp_fixed - setpoints fixed by the Master Problem --> nonanticipativity constraints\n",
    "    # nReac - number of parallel reactors\n",
    "    # nScen - number of scenarios used in the problem (only one branching)\n",
    "    # pScen - probability of the scenarios\n",
    "    # solNom - nominal solution\n",
    "    # option - strategy for solving MPC \n",
    "        # for now, code only works for option = 3\n",
    "\n",
    "    # Creating MPC matrices\n",
    "    mpc = MPC_matrices(nReac)\n",
    "    \n",
    "    # Creating DRTO matrices\n",
    "    \n",
    "    # recomputing the number of total scenarios based on scenario probability and the fact that the scenarios have the same probability\n",
    "    nScenTotal = ceil(Int,1/pScen)    \n",
    "    drto = DRTO_matrix(nReac,nScen,nScenTotal)\n",
    "    \n",
    "    # Define subproblem model  #== 3\n",
    "    if option == 3  \n",
    "        sub = Model(Ipopt.Optimizer)\n",
    "        set_optimizer_attribute(sub, \"max_cpu_time\", 300.0) # 5 min\n",
    "    else \n",
    "        sub = Model(CPLEX.Optimizer)\n",
    "        set_optimizer_attribute(sub, \"CPX_PARAM_TILIM\", 300.0) # 5 min\n",
    "    end\n",
    "    set_silent(sub) # avoid printing\n",
    "    \n",
    "    ####################\n",
    "    # Set up variables #\n",
    "    ####################\n",
    "    # DRTO model variables\n",
    "    @variable(sub, xDRTO[1:pD, 1:nx])\n",
    "    @variable(sub, yDRTO[1:pD])\n",
    "    \n",
    "    # MPC model variables\n",
    "    @variable(sub, xMPC[1:pD, 1:nx])\n",
    "    @variable(sub, yMPC[1:pD])\n",
    "\n",
    "    # MPC <-> DRTO model deviation\n",
    "    @variable(sub, de[1:pD])\n",
    "    \n",
    "    # inputs computed by MPCs\n",
    "    @variable(sub, u[1:pD,1:m])\n",
    "\n",
    "    # setpoints for the controllers sent to the plant (CL-DRTO degrees of freedom)\n",
    "    @variable(sub, (yspMin - y0) ≤ ysp[1:pD] ≤ (yspMax - y0))\n",
    "        \n",
    "    # slacks for controlling setpoint into a zone\n",
    "    @variable(sub, delta_p[1:pD] ≥ 0)\n",
    "    \n",
    "    if option == 2 || option == 3\n",
    "        @variable(sub, mu_g[1:mD,1:(2*m)] ≥ 0) # upper and lower bounds for each input\n",
    "    end\n",
    "    if option == 2\n",
    "        @variable(sub, Y_lb[1:mD,1:m], start = 0) # Relaxing binaries for big-M implementation\n",
    "        @variable(sub, Y_ub[1:mD,1:m], start = 0) \n",
    "    end\n",
    "    \n",
    "    ########################\n",
    "    # Set up initial guess #\n",
    "    ########################\n",
    "    if solNom isa Dict\n",
    "        for ii in 1:pD\n",
    "            set_start_value(yDRTO[ii], solNom['y'][ii,1]) \n",
    "            set_start_value(yMPC[ii], solNom['c'][ii,1])\n",
    "            #set_start_value(ysp[ii], solNom['s'][ii,1])\n",
    "\n",
    "            for rr in 1:nReac # when nReac increases, the number of states change!\n",
    "                for xx in 1:2 # N.B. nx/reactor is hardcoded here... (maybe use nx/reactor as a function input) \n",
    "                    set_start_value(xDRTO[ii,xx + (rr - 1)*2], solNom['x'][ii,xx,1])    \n",
    "                    set_start_value(xMPC[ii,xx + (rr - 1)*2], solNom['m'][ii,xx,1])           \n",
    "                end # end xx\n",
    "            end # number \n",
    "                \n",
    "            for uu in 1:m\n",
    "                set_start_value(u[ii,uu], solNom['u'][ii,uu,1])\n",
    "            end # end of uu\n",
    "        end # eend of ii\n",
    "    end # end of if\n",
    "\n",
    "    ######################################\n",
    "    # Set up constraints and expressions #\n",
    "    ######################################\n",
    "    # Dynamic RTO model (linear)\n",
    "    @constraint(sub, CLDRTO_dyn_model_1, xDRTO[1,:] .== drto['A']*xInit + drto['B']*uInit)\n",
    "    @constraint(sub, CLDRTO_dyn_model[kk=1:(pD - 1)], xDRTO[kk + 1,:] .== drto['A']*xDRTO[kk,:] + drto['B']*u[kk,1])\n",
    "    @constraint(sub, CLDRTO_model_out[kk=1:pD], yDRTO[kk] == dot(drto['C'],xDRTO[kk,:]))\n",
    "\n",
    "    # MPC model (linear)\n",
    "    @constraint(sub, MPC_dyn_model_1, xMPC[1,:] .== mpc['A']*xInit + mpc['B']*uInit)\n",
    "    @constraint(sub, MPC_dyn_model[kk=1:(pD - 1)], xMPC[kk + 1,:] .== mpc['A']*xMPC[kk,:] + mpc['B']*u[kk,1])\n",
    "    @constraint(sub, MPC_model_out[kk=1:pD], yMPC[kk] == dot(mpc['C'],xMPC[kk,:]))\n",
    "    \n",
    "    #  MPC model deviation (disturance)\n",
    "    @constraint(sub, MPC_model_dev[kk=1:pD], de[kk] == yDRTO[kk] - yMPC[kk])\n",
    "\n",
    "    # fixing input after mD\n",
    "    @constraint(sub, control_horizon[kk=(mD+1):pD], u[kk,1] == u[mD,1]);\n",
    "    \n",
    "    # P soft constraints\n",
    "    @constraint(sub, soft_P[kk=1:pD], yDRTO[kk] - delta_p[kk] ≤ pUB)\n",
    "    \n",
    "    # nonanticipativity constraints\n",
    "    @constraint(sub, nonAnt[kk=1:nDRTO], ysp[kk] - ysp_fixed[kk] == 0.0);\n",
    "    \n",
    "    ################\n",
    "    # MPC solution #\n",
    "    ################\n",
    "    # sequence of Setpoints\n",
    "    @expression(sub, cfT_1, (mpc['Ψ']*[xMPC[1,:];de[1]] - ysp[1:p])'*mpc['Q']*mpc['Θ'] - uInit'*mpc['I']'*mpc['R']*mpc['M'])\n",
    "    @expression(sub, cfT[kk=2:mD], (mpc['Ψ']*[xMPC[kk,:];de[kk]] - ysp[kk:(kk + p - 1)])'*mpc['Q']*mpc['Θ'] - u[kk-1,1]'*mpc['I']'*mpc['R']*mpc['M'])\n",
    "    \n",
    "    # using setpoint holders\n",
    "    #@expression(sub, cfT_1, (mpc['Ψ']*[xMPC[1,:];de[1]] - ysp[1]*ones(p,1))'*mpc['Q']*mpc['Θ'] - uInit'*mpc['I']'*mpc['R']*mpc['M'])\n",
    "    #@expression(sub, cfT[kk=2:mD], (mpc['Ψ']*[xMPC[kk,:];de[kk]] - ysp[kk]*ones(p,1))'*mpc['Q']*mpc['Θ'] - u[kk-1,1]'*mpc['I']'*mpc['R']*mpc['M'])\n",
    " \n",
    "    if option == 1\n",
    "        # Unconstrained MPC solution  \n",
    "        @constraint(sub, MPC_sol_1, mpc['H']*u[1,:] + cfT_1' .== 0)\n",
    "        @constraint(sub, MPC_sol[kk=2:mD],mpc['H']*u[kk,:] + cfT[kk]' .== 0)\n",
    "        \n",
    "        # input clipping directly into DRTO problem\n",
    "        @constraint(sub, MPC_c_upper[kk=1:mD,uu=1:m], u[kk,uu] - (uMax - u0) ≤ 0)\n",
    "        @constraint(sub, MPC_c_lower[kk=1:mD,uu=1:m], (uMin - u0) - u[kk,uu] ≤ 0)\n",
    "    \n",
    "    elseif option == 2\n",
    "        # Constrained with binaries\n",
    "        # 1. stationarity\n",
    "        @constraint(sub, MPC_sol_1, u[1,:]'*mpc['H'] + cfT_1 +  mu_g[1,:]'*conMatrix .== 0)\n",
    "        @constraint(sub, MPC_sol[kk=2:mD], u[kk,:]'*mpc['H'] + cfT[kk] + mu_g[kk,:]'*conMatrix .== 0)\n",
    "\n",
    "        # 2. primal feasibility\n",
    "        @constraint(sub, MPC_c_upper[kk=1:mD,uu=1:m], u[kk,uu] - (uMax - u0) ≤ 0)\n",
    "        @constraint(sub, MPC_c_lower[kk=1:mD,uu=1:m], (uMin - u0) - u[kk,uu] ≤ 0)\n",
    "    \n",
    "        # 3. complementarity --> using big-M implementation\n",
    "        @constraint(sub, bigM_1[kk=1:mD,uu=1:m], mu_g[kk,uu] ≤ bigM_mu*Y_ub[kk,uu])\n",
    "        @constraint(sub, bigM_2[kk=1:mD,uu=1:m], mu_g[kk,uu + m] ≤ bigM_mu*Y_lb[kk,uu])\n",
    "        @constraint(sub, bigM_3[kk=1:mD,uu=1:m], u[kk,uu] - (uMax - u0) ≥ -bigM_u*(1 - Y_ub[kk,uu]))\n",
    "        @constraint(sub, bigM_4[kk=1:mD,uu=1:m], (uMin - u0) - u[kk,uu] ≥ -bigM_u*(1 - Y_lb[kk,uu]))\n",
    "        \n",
    "        @constraint(sub, compSlack[kk=1:mD,uu=1:m], Y_ub[kk,uu] + Y_lb[kk,uu] ≤ 1)\n",
    "    \n",
    "    elseif option == 3\n",
    "        # Constrained with MPCC\n",
    "        # 1. stationarity\n",
    "        @constraint(sub, MPC_sol_1, u[1,:]'*mpc['H'] + cfT_1 +  mu_g[1,:]'*conMatrix .== 0)\n",
    "        @constraint(sub, MPC_sol[kk=2:mD], u[kk,:]'*mpc['H'] + cfT[kk] + mu_g[kk,:]'*conMatrix .== 0)\n",
    "\n",
    "        # 2. primal feasibility       \n",
    "        @constraint(sub, MPC_c_upper[kk=1:mD,uu=1:m], u[kk,uu] - (uMax - u0) ≤ 0)\n",
    "        @constraint(sub, MPC_c_lower[kk=1:mD,uu=1:m], (uMin - u0) - u[kk,uu] ≤ 0)\n",
    "        \n",
    "        # expression to be used in OF        \n",
    "        @expression(sub, g_u_u[kk=1:mD,uu=1:m], u[kk,uu] - (uMax - u0))\n",
    "        @expression(sub, g_u_l[kk=1:mD,uu=1:m], (uMin - u0) - u[kk,uu])\n",
    "        \n",
    "    end\n",
    "  \n",
    "    #############################\n",
    "    # Set up objective function #\n",
    "    #############################\n",
    "     if option == 1 || option == 2\n",
    "        @objective(sub, Min, \n",
    "            pScen*sum((yDRTO[kk] - pTrack)^2 + wP*delta_p[kk]^2 for kk in 1:pD)\n",
    "        )\n",
    "    else\n",
    "        @objective(sub, Min, \n",
    "            pScen*sum((yDRTO[kk] - pTrack)^2 + wP*delta_p[kk]^2 for kk in 1:pD)\n",
    "                    - pScen*pi_bar*sum(\n",
    "                                    sum(mu_g[kk,jj]*g_u_u[kk,jj] for jj = 1:m) +\n",
    "                                    sum(mu_g[kk,jj + m]*g_u_l[kk,jj] for jj = 1:m)\n",
    "                                for kk = 1:mD)\n",
    "        )\n",
    "    end\n",
    "    \n",
    "    # @show sub\n",
    "    #set_optimizer_attribute(sub, \"CPX_PARAM_BARALG\", 1)\n",
    "    \n",
    "    optimize!(sub)\n",
    "    \n",
    "    # solution time\n",
    "    timeSol = solve_time(sub)\n",
    "    \n",
    "    status = termination_status(sub)\n",
    "    #display(status)\n",
    "    \n",
    "    # checking if there is a solution to the problem\n",
    "    if status == MOI.OPTIMAL || status == MOI.ALMOST_OPTIMAL || status == MOI.LOCALLY_SOLVED\n",
    "        # Proved optimality or Optimal within relaxed tolerances\n",
    "        # we add an optimality cut\n",
    "        flag = 1\n",
    "        # #primal_status(m)\n",
    "\n",
    "        #calling values of the solved problem\n",
    "        ϕ = objective_value(sub)\n",
    "        uArray = value.(u)\n",
    "        yspArray = value.(ysp)\n",
    "        yDRTOArray = value.(yDRTO)\n",
    "        yMPCArray = value.(yMPC)\n",
    "        xDRTOArray = value.(xDRTO)\n",
    "        xMPCArray = value.(xMPC)\n",
    "        \n",
    "        # lagrange multipliers associated with the nonantecipativity constraints\n",
    "        λ = dual.(nonAnt)\n",
    "\n",
    "        outputDict = Dict('ϕ' => ϕ,\n",
    "                        't' => timeSol,\n",
    "                        'f' => flag, \n",
    "                        'a' => status,\n",
    "                        'u' => uArray,\n",
    "                        's' => yspArray,\n",
    "                        'x' => xDRTOArray,\n",
    "                        'y' => yDRTOArray, \n",
    "                        'm' => xMPCArray,\n",
    "                        'c' => yMPCArray,\n",
    "                        'λ' => λ)\n",
    "        \n",
    "        # if binaries are used for solving const. MPC\n",
    "        if option == 2\n",
    "            muArray = value.(mu_g)\n",
    "                   \n",
    "            uubBinArray = value.(Y_ub)\n",
    "            ulbBinArray = value.(Y_lb)\n",
    "            \n",
    "            merge!(outputDict,Dict('μ'=> muArray))\n",
    "            merge!(outputDict,Dict('o' => ulbBinArray))\n",
    "            merge!(outputDict,Dict('p' => uubBinArray))\n",
    "            \n",
    "        end\n",
    "        \n",
    "        # if MPCC is used for solving const. MPC\n",
    "        if option == 3\n",
    "            muArray = value.(mu_g)\n",
    "            \n",
    "            merge!(outputDict,Dict('μ'=> muArray))\n",
    "        end\n",
    "        \n",
    "        return outputDict\n",
    "    else\n",
    "        #i.e. no feasible solution --> Add feasibility cut\n",
    "        #display(\"Feasibility cut: scenario $(scen)\")        \n",
    "\n",
    "        # ! soft bounds on u\n",
    "        for kk in 1:mD\n",
    "            for uu in 1:m\n",
    "                delete(sub, MPC_c_upper[kk,uu])\n",
    "                delete(sub, MPC_c_lower[kk,uu])\n",
    "            end\n",
    "        end\n",
    "        # ! soft bounds on ysp\n",
    "        delete_lower_bound.(ysp[1:pD])\n",
    "        delete_upper_bound.(ysp[1:pD])\n",
    "        \n",
    "        if option != 1\n",
    "            # ! soft bounds on mu\n",
    "            delete_lower_bound.(mu_g[1:mD,1:m])\n",
    "        end\n",
    "        \n",
    "        ####################\n",
    "        # Set up variables #\n",
    "        #################### \n",
    "        # slacks\n",
    "        @variable(sub, delta_u_u[1:mD,1:m] ≥ 0.0)\n",
    "        @variable(sub, delta_u_l[1:mD,1:m] ≥ 0.0)\n",
    "        \n",
    "        @variable(sub, delta_ysp_u[1:pD] ≥ 0.0)\n",
    "        @variable(sub, delta_ysp_l[1:pD] ≥ 0.0)\n",
    "        \n",
    "        if option == 2 || option == 3\n",
    "            @variable(sub, delta_mu[1:mD,1:m] ≥ 0.0)\n",
    "        end\n",
    "        \n",
    "        ###########################\n",
    "        # Always-feasible problem #\n",
    "        ###########################        \n",
    "        # adding a constraint to guarantee feasibility\n",
    "        @constraint(sub, soft_u_upper[kk=1:mD,uu=1:m], u[kk,uu] - (uMax - u0) ≤ delta_u_u[kk,uu])\n",
    "        @constraint(sub, soft_u_lower[kk=1:mD,uu=1:m], (uMin - u0) - u[kk,uu] ≤ delta_u_l[kk,uu])\n",
    "        \n",
    "        @constraint(sub, soft_ysp_upper[kk=1:pD], ysp[kk] - (yspMax - y0) ≤ delta_ysp_u[kk])\n",
    "        @constraint(sub, soft_ysp_lower[kk=1:pD], (yspMin - y0) - ysp[kk] ≤ delta_ysp_l[kk])\n",
    "\n",
    "        # adding a constraint to guarantee that mu is always feasible        \n",
    "        if option == 2 || option == 3\n",
    "            @constraint(sub, soft_MPC_mu_upper[kk=1:mD,uu=1:m], -mu_g[kk,uu] ≤ delta_mu[kk,uu])\n",
    "        end\n",
    "        \n",
    "       #############################\n",
    "        # Set up objective function #\n",
    "        #############################\n",
    "        # Modifying the objective --> call @objective with the new objective function.\n",
    "        # minimizing constraint violation - l1 penalty!\n",
    "        if option == 2 || option == 3\n",
    "            @objective(sub, Min, sum(delta_p[kk] + delta_ysp_u[kk] + delta_ysp_l[kk] for kk in 1:pD)\n",
    "                    + sum(sum(delta_mu[kk,uu] + delta_u_u[kk,uu] + delta_u_l[kk,uu] for uu in 1:m) for kk in 1:mD))\n",
    "        else\n",
    "            @objective(sub, Min, sum(delta_p[kk] + delta_ysp_u[kk] + delta_ysp_l[kk] for kk in 1:pD)\n",
    "                    + sum(sum(delta_u_u[kk,uu] + delta_u_l[kk,uu] for uu in 1:m) for kk in 1:mD))\n",
    "        end\n",
    "        \n",
    "        #@show sub\n",
    "        #set_optimizer_attribute(sub, \"CPX_PARAM_BARALG\", 1)\n",
    "\n",
    "        # re-optimizing (now using the always feasible problem)\n",
    "        optimize!(sub)\n",
    "        \n",
    "        # solution time (adding time to solve the always feasible subproblem)\n",
    "        timeSol = timeSol + solve_time(sub)\n",
    "        \n",
    "        # checking status of the solution\n",
    "        status_sub = termination_status(sub)\n",
    "        \n",
    "        # flag for calling feasibility cuts (not optimality cuts)\n",
    "        flag = 0\n",
    "        \n",
    "        #calling values of the solved problem\n",
    "        uArray = value.(u)\n",
    "        yspArray = value.(ysp)\n",
    "        yDRTOArray = value.(yDRTO)\n",
    "        yMPCArray = value.(yMPC)\n",
    "        xDRTOArray = value.(xDRTO)\n",
    "        xMPCArray = value.(xMPC)\n",
    "        \n",
    "        #delta_muArray = value.(delta_mu)\n",
    "        delta_ulArray = value.(delta_u_l)\n",
    "        delta_uuArray = value.(delta_u_u)\n",
    "    \n",
    "        # objective function of the feasibility problem\n",
    "        o = objective_value(sub)\n",
    "        \n",
    "        # lagrange multipliers associated with the nonantecipativity constraints and binaries from master problem\n",
    "        λ = dual.(nonAnt)\n",
    "        \n",
    "        outputDict = Dict('ϕ' => o,\n",
    "                        't' => timeSol,\n",
    "                        'f' => flag, \n",
    "                        'a' => status_sub,\n",
    "                        'u' => uArray,\n",
    "                        's' => yspArray,\n",
    "                        'x' => xDRTOArray,\n",
    "                        'y' => yDRTOArray, \n",
    "                        'm' => xMPCArray,\n",
    "                        'c' => yMPCArray,\n",
    "                        'λ' => λ)\n",
    "        \n",
    "         if option == 2 || option == 3\n",
    "            muArray = value.(mu_g)\n",
    "            merge!(outputDict,Dict('μ'=> muArray))\n",
    "        end\n",
    "        \n",
    "        return outputDict\n",
    "    end\n",
    "end;"
   ]
  },
  {
   "cell_type": "markdown",
   "id": "1690f637",
   "metadata": {},
   "source": [
    "Modeling Bender's Decomposition"
   ]
  },
  {
   "cell_type": "code",
   "execution_count": 12,
   "id": "418c3ed4",
   "metadata": {},
   "outputs": [],
   "source": [
    "# max number of iteration\n",
    "benIterMax = 50\n",
    "\n",
    "# optimality gap (relative) tolerance\n",
    "optGap = 1e-3; # UNC/BIN: 0.001 | MPCC: 0.5"
   ]
  },
  {
   "cell_type": "code",
   "execution_count": 13,
   "id": "6550488c",
   "metadata": {},
   "outputs": [],
   "source": [
    "## Modeling Benders Decompostion\n",
    "function BENS_CLDRTO(xInit,uInit,nReac,nScen,pScen,solNom,option)\n",
    "    \n",
    "    \n",
    "    # flag for checking if last cut was opt. (1) or feas. (0)\n",
    "    flagO = 1\n",
    "    \n",
    "    # timing solution via Benders\n",
    "    timeSolBen = 0 \n",
    "    # timing solution via parallel Benders\n",
    "    timeSolParBen = 0 \n",
    "    \n",
    "    # Define master problem model\n",
    "    master = Model(CPLEX.Optimizer)\n",
    "    set_silent(master)\n",
    "    \n",
    "    #lower bound on scenario objective function approximation \n",
    "    alpha_down = 0.0;\n",
    "    \n",
    "    ####################\n",
    "    # Set up variables #\n",
    "    ####################\n",
    "    @variable(master,  (yspMin - y0) <= ysp[1:nDRTO] <=  (yspMax - y0))     \n",
    "    @variable(master, α ≥ alpha_down)\n",
    "    \n",
    "    ########################\n",
    "    # Set up initial guess #\n",
    "    ########################\n",
    "    if solNom isa Dict\n",
    "        for ii in 1:nDRTO\n",
    "            set_start_value(ysp[ii], solNom['s'][ii,1])\n",
    "        end \n",
    "    end \n",
    " \n",
    "    ################################################\n",
    "    # Solving problem with benders' decomposition  #\n",
    "    ################################################\n",
    "    for ii in 1:benIterMax\n",
    "           \n",
    "        #############################\n",
    "        # Set up objective function #\n",
    "        #############################\n",
    "        if flagO == 1 \n",
    "            # last cut was an optimality cut\n",
    "            # standard OF\n",
    "            @objective(master, Min, α)\n",
    "        else\n",
    "            # last cut was a feasibility cut\n",
    "            # \"nudge\" next solution towards nominal solution \n",
    "            @objective(master, Min, α + 0*sum((ysp[kk] - solNom['s'][kk,1])^2 for kk in 1:nDRTO))\n",
    "        end\n",
    "        \n",
    "            # solve master problem (with Benders' cut)\n",
    "            optimize!(master)\n",
    "\n",
    "            # solution time\n",
    "            timeSolMaster = solve_time(master)\n",
    "            # Master problem solution: lower bound of the original problem\n",
    "            lb = objective_value(master)\n",
    "            #display(lb)\n",
    "\n",
    "            # extracting solution for the non-anticipativity constraints\n",
    "            ysp_nonⁱ = value.(ysp)\n",
    "            #display(ysp_nonⁱ)\n",
    "\n",
    "        timeSolBen = timeSolBen + timeSolMaster\n",
    "        timeSolParBen = timeSolParBen + timeSolMaster # master cannot be paralellized \n",
    "\n",
    "        #######################\n",
    "        # Solving subproblems #\n",
    "        #######################\n",
    "        # objective function\n",
    "        o_temp = Vector{Float64}(undef,nScen)\n",
    "        # flag optimality / feasibility\n",
    "        flag_temp = Vector{Float64}(undef,nScen)\n",
    "        # solution time\n",
    "        solTime_temp = Vector{Float64}(undef,nScen)\n",
    "        # multipliers\n",
    "        lambdaN_temp = Matrix{Float64}(undef,nDRTO,nScen) \n",
    "        \n",
    "        for ss in 1:nScen\n",
    "            dicTemp = subp(xInit,uInit,ysp_nonⁱ,nReac,ss,pScen,solNom,option)\n",
    "           \n",
    "            # saving files\n",
    "            # objective function\n",
    "            o_temp[ss] = dicTemp['ϕ']\n",
    "            # solution time\n",
    "            solTime_temp[ss] = dicTemp['t']\n",
    "            # optimality / feasibility flag\n",
    "            flag_temp[ss] = dicTemp['f']\n",
    "            # multiplier\n",
    "            for kk in 1:nDRTO\n",
    "                lambdaN_temp[kk,ss] = dicTemp['λ'][kk]\n",
    "            end\n",
    "            \n",
    "        end\n",
    "        \n",
    "        ##########################################################\n",
    "        # If all subproblems were feasible, check optimality gap #\n",
    "        ##########################################################\n",
    "        if sum(flag_temp) == nScen \n",
    "            # Subproblem solution: upper bound of the original problem\n",
    "            ub = sum(o_temp)\n",
    "\n",
    "            # solve subproblems to find the upper bound of the original problem solution \n",
    "            timeSolBen = timeSolBen + sum(solTime_temp)\n",
    "\n",
    "            # assuming that subproblem solution is parallelized\n",
    "            timeSolParBen = timeSolParBen + maximum(solTime_temp)   \n",
    "            \n",
    "            # compute optimality gap\n",
    "            gap = abs(ub - lb)/abs(ub)\n",
    "            #display(gap)\n",
    "\n",
    "            # check if optimality gap is small enough\n",
    "            # also, make sure last cut was an optimality cut due to change in OF \n",
    "            if gap < optGap && flagO == 1\n",
    "                global yspSol_dec = ysp_nonⁱ\n",
    "                global objFun_dec = ub\n",
    "                global optGap_dec = gap\n",
    "                global iter_dec = ii\n",
    "                global time_dec = timeSolBen\n",
    "                global time_max_dec = timeSolParBen\n",
    "                break\n",
    "            else # gap ≥ optGap \n",
    "                ##############################\n",
    "                # --> adding optimality cuts #\n",
    "                ##############################\n",
    "                display(\">>>>>> iteration $(ii):O\")\n",
    "                benderscutO = @constraint(master, α ≥ ub + \n",
    "                    sum(sum(lambdaN_temp[jj,ss] for ss in 1:nScen)*(ysp[jj] - ysp_nonⁱ[jj]) for jj in 1:nDRTO))\n",
    "                #@info \"we are adding this bender optimality cut $(benderscutO)\"\n",
    "                \n",
    "                # optimality cut was add\n",
    "                flagO = 1\n",
    "            \n",
    "            end # if gap\n",
    "        else # sum(flag_temp) != nScen\n",
    "            ###############################\n",
    "            # --> adding feasibility cuts #\n",
    "            ###############################\n",
    "            display(\">>>>>> iteration $(ii):F\")\n",
    "\n",
    "            benderscutF = @constraint(master, 0 ≥\n",
    "                sum(sum(lambdaN_temp[jj,ss] for ss in 1:nScen)*(ysp[jj] - ysp_nonⁱ[jj]) for jj in 1:nDRTO))\n",
    "            #@info \"we are adding this bender feasibility cut $(benderscutF)\"\n",
    "            \n",
    "            # feasibility cut was add\n",
    "            flagO = 0\n",
    "            \n",
    "        end # if nScen\n",
    "        \n",
    "        # checking if number of iterations reached max \n",
    "        if ii < benIterMax\n",
    "            global yspSol_dec = [NaN for kk=1:nDRTO]\n",
    "            global objFun_dec = NaN\n",
    "            global optGap_dec = NaN\n",
    "            global iter_dec = benIterMax\n",
    "            global time_dec = timeSolBen\n",
    "            global time_max_dec = timeSolParBen\n",
    "        end # if < benIterMax\n",
    "    end # if for benders iterations\n",
    "\n",
    "    # recomputing values\n",
    "    uArray = [subp(xInit,uInit,yspSol_dec,nReac,ss,pScen,solNom,option)['u']' for ss in 1:nScen]\n",
    "    yArray = [subp(xInit,uInit,yspSol_dec,nReac,ss,pScen,solNom,option)['y']' for ss in 1:nScen] \n",
    "    yspArray = [subp(xInit,uInit,yspSol_dec,nReac,ss,pScen,solNom,option)['s']' for ss in 1:nScen]\n",
    "    \n",
    "    #calling values of the solved problem\n",
    "    return Dict('ϕ' => objFun_dec, \n",
    "                'd' => yspSol_dec, \n",
    "                't' => time_dec,\n",
    "                'm' => time_max_dec, \n",
    "                'i' => iter_dec,\n",
    "                'g' => optGap_dec,\n",
    "                'u' => uArray, \n",
    "                'y' => yArray, \n",
    "                's' => yspArray)\n",
    "     \n",
    "end;"
   ]
  },
  {
   "cell_type": "markdown",
   "id": "7dbb9c4b",
   "metadata": {},
   "source": [
    "# Checking the performance of the methods in terms of time vs. nScen"
   ]
  },
  {
   "cell_type": "code",
   "execution_count": 14,
   "id": "a5cd27ad",
   "metadata": {},
   "outputs": [
    {
     "name": "stdout",
     "output_type": "stream",
     "text": [
      "\n",
      "******************************************************************************\n",
      "This program contains Ipopt, a library for large-scale nonlinear optimization.\n",
      " Ipopt is released as open source code under the Eclipse Public License (EPL).\n",
      "         For more information visit https://github.com/coin-or/Ipopt\n",
      "******************************************************************************\n",
      "\n"
     ]
    },
    {
     "data": {
      "text/plain": [
       "\"evaluating 1 scenarios| option 3\""
      ]
     },
     "metadata": {},
     "output_type": "display_data"
    },
    {
     "data": {
      "text/plain": [
       "\">>>>>> iteration 1:O\""
      ]
     },
     "metadata": {},
     "output_type": "display_data"
    },
    {
     "data": {
      "text/plain": [
       "\">>>>>> iteration 2:O\""
      ]
     },
     "metadata": {},
     "output_type": "display_data"
    },
    {
     "data": {
      "text/plain": [
       "\">>>>>> iteration 3:O\""
      ]
     },
     "metadata": {},
     "output_type": "display_data"
    },
    {
     "data": {
      "text/plain": [
       "\">>>>>> iteration 4:O\""
      ]
     },
     "metadata": {},
     "output_type": "display_data"
    },
    {
     "data": {
      "text/plain": [
       "\">>>>>> iteration 5:O\""
      ]
     },
     "metadata": {},
     "output_type": "display_data"
    },
    {
     "data": {
      "text/plain": [
       "\">>>>>> iteration 6:O\""
      ]
     },
     "metadata": {},
     "output_type": "display_data"
    },
    {
     "data": {
      "text/plain": [
       "\">>>>>> iteration 7:O\""
      ]
     },
     "metadata": {},
     "output_type": "display_data"
    },
    {
     "data": {
      "text/plain": [
       "\">>>>>> iteration 8:O\""
      ]
     },
     "metadata": {},
     "output_type": "display_data"
    },
    {
     "data": {
      "text/plain": [
       "\">>>>>> iteration 9:O\""
      ]
     },
     "metadata": {},
     "output_type": "display_data"
    },
    {
     "data": {
      "text/plain": [
       "\">>>>>> iteration 10:O\""
      ]
     },
     "metadata": {},
     "output_type": "display_data"
    },
    {
     "data": {
      "text/plain": [
       "\">>>>>> iteration 11:O\""
      ]
     },
     "metadata": {},
     "output_type": "display_data"
    },
    {
     "data": {
      "text/plain": [
       "\">>>>>> iteration 12:O\""
      ]
     },
     "metadata": {},
     "output_type": "display_data"
    },
    {
     "data": {
      "text/plain": [
       "\">>>>>> iteration 13:O\""
      ]
     },
     "metadata": {},
     "output_type": "display_data"
    },
    {
     "data": {
      "text/plain": [
       "\"time M 0.20399999618530273 | time D 3.9050004482269287\""
      ]
     },
     "metadata": {},
     "output_type": "display_data"
    },
    {
     "data": {
      "text/plain": [
       "\"evaluating 2 scenarios| option 3\""
      ]
     },
     "metadata": {},
     "output_type": "display_data"
    },
    {
     "data": {
      "text/plain": [
       "\">>>>>> iteration 1:O\""
      ]
     },
     "metadata": {},
     "output_type": "display_data"
    },
    {
     "data": {
      "text/plain": [
       "\">>>>>> iteration 2:O\""
      ]
     },
     "metadata": {},
     "output_type": "display_data"
    },
    {
     "data": {
      "text/plain": [
       "\">>>>>> iteration 3:O\""
      ]
     },
     "metadata": {},
     "output_type": "display_data"
    },
    {
     "data": {
      "text/plain": [
       "\">>>>>> iteration 4:O\""
      ]
     },
     "metadata": {},
     "output_type": "display_data"
    },
    {
     "data": {
      "text/plain": [
       "\">>>>>> iteration 5:O\""
      ]
     },
     "metadata": {},
     "output_type": "display_data"
    },
    {
     "data": {
      "text/plain": [
       "\">>>>>> iteration 6:O\""
      ]
     },
     "metadata": {},
     "output_type": "display_data"
    },
    {
     "data": {
      "text/plain": [
       "\">>>>>> iteration 7:O\""
      ]
     },
     "metadata": {},
     "output_type": "display_data"
    },
    {
     "data": {
      "text/plain": [
       "\">>>>>> iteration 8:O\""
      ]
     },
     "metadata": {},
     "output_type": "display_data"
    },
    {
     "data": {
      "text/plain": [
       "\">>>>>> iteration 9:O\""
      ]
     },
     "metadata": {},
     "output_type": "display_data"
    },
    {
     "data": {
      "text/plain": [
       "\">>>>>> iteration 10:O\""
      ]
     },
     "metadata": {},
     "output_type": "display_data"
    },
    {
     "data": {
      "text/plain": [
       "\">>>>>> iteration 11:O\""
      ]
     },
     "metadata": {},
     "output_type": "display_data"
    },
    {
     "data": {
      "text/plain": [
       "\">>>>>> iteration 12:O\""
      ]
     },
     "metadata": {},
     "output_type": "display_data"
    },
    {
     "data": {
      "text/plain": [
       "\">>>>>> iteration 13:O\""
      ]
     },
     "metadata": {},
     "output_type": "display_data"
    },
    {
     "data": {
      "text/plain": [
       "\"time M 0.5360000133514404 | time D 7.563999652862549\""
      ]
     },
     "metadata": {},
     "output_type": "display_data"
    },
    {
     "data": {
      "text/plain": [
       "\"evaluating 3 scenarios| option 3\""
      ]
     },
     "metadata": {},
     "output_type": "display_data"
    },
    {
     "data": {
      "text/plain": [
       "\">>>>>> iteration 1:O\""
      ]
     },
     "metadata": {},
     "output_type": "display_data"
    },
    {
     "data": {
      "text/plain": [
       "\">>>>>> iteration 2:O\""
      ]
     },
     "metadata": {},
     "output_type": "display_data"
    },
    {
     "data": {
      "text/plain": [
       "\">>>>>> iteration 3:O\""
      ]
     },
     "metadata": {},
     "output_type": "display_data"
    },
    {
     "data": {
      "text/plain": [
       "\">>>>>> iteration 4:O\""
      ]
     },
     "metadata": {},
     "output_type": "display_data"
    },
    {
     "data": {
      "text/plain": [
       "\">>>>>> iteration 5:O\""
      ]
     },
     "metadata": {},
     "output_type": "display_data"
    },
    {
     "data": {
      "text/plain": [
       "\">>>>>> iteration 6:O\""
      ]
     },
     "metadata": {},
     "output_type": "display_data"
    },
    {
     "data": {
      "text/plain": [
       "\">>>>>> iteration 7:O\""
      ]
     },
     "metadata": {},
     "output_type": "display_data"
    },
    {
     "data": {
      "text/plain": [
       "\">>>>>> iteration 8:O\""
      ]
     },
     "metadata": {},
     "output_type": "display_data"
    },
    {
     "data": {
      "text/plain": [
       "\">>>>>> iteration 9:O\""
      ]
     },
     "metadata": {},
     "output_type": "display_data"
    },
    {
     "data": {
      "text/plain": [
       "\">>>>>> iteration 10:O\""
      ]
     },
     "metadata": {},
     "output_type": "display_data"
    },
    {
     "data": {
      "text/plain": [
       "\">>>>>> iteration 11:O\""
      ]
     },
     "metadata": {},
     "output_type": "display_data"
    },
    {
     "data": {
      "text/plain": [
       "\">>>>>> iteration 12:O\""
      ]
     },
     "metadata": {},
     "output_type": "display_data"
    },
    {
     "data": {
      "text/plain": [
       "\">>>>>> iteration 13:O\""
      ]
     },
     "metadata": {},
     "output_type": "display_data"
    },
    {
     "data": {
      "text/plain": [
       "\">>>>>> iteration 14:F\""
      ]
     },
     "metadata": {},
     "output_type": "display_data"
    },
    {
     "data": {
      "text/plain": [
       "\">>>>>> iteration 15:O\""
      ]
     },
     "metadata": {},
     "output_type": "display_data"
    },
    {
     "data": {
      "text/plain": [
       "\">>>>>> iteration 16:O\""
      ]
     },
     "metadata": {},
     "output_type": "display_data"
    },
    {
     "data": {
      "text/plain": [
       "\">>>>>> iteration 17:O\""
      ]
     },
     "metadata": {},
     "output_type": "display_data"
    },
    {
     "data": {
      "text/plain": [
       "\">>>>>> iteration 18:O\""
      ]
     },
     "metadata": {},
     "output_type": "display_data"
    },
    {
     "data": {
      "text/plain": [
       "\">>>>>> iteration 19:O\""
      ]
     },
     "metadata": {},
     "output_type": "display_data"
    },
    {
     "data": {
      "text/plain": [
       "\">>>>>> iteration 20:O\""
      ]
     },
     "metadata": {},
     "output_type": "display_data"
    },
    {
     "data": {
      "text/plain": [
       "\"time M 0.7360000610351562 | time D 14.580999612808228\""
      ]
     },
     "metadata": {},
     "output_type": "display_data"
    },
    {
     "data": {
      "text/plain": [
       "\"evaluating 4 scenarios| option 3\""
      ]
     },
     "metadata": {},
     "output_type": "display_data"
    },
    {
     "data": {
      "text/plain": [
       "\">>>>>> iteration 1:O\""
      ]
     },
     "metadata": {},
     "output_type": "display_data"
    },
    {
     "data": {
      "text/plain": [
       "\">>>>>> iteration 2:O\""
      ]
     },
     "metadata": {},
     "output_type": "display_data"
    },
    {
     "data": {
      "text/plain": [
       "\">>>>>> iteration 3:O\""
      ]
     },
     "metadata": {},
     "output_type": "display_data"
    },
    {
     "data": {
      "text/plain": [
       "\">>>>>> iteration 4:O\""
      ]
     },
     "metadata": {},
     "output_type": "display_data"
    },
    {
     "data": {
      "text/plain": [
       "\">>>>>> iteration 5:O\""
      ]
     },
     "metadata": {},
     "output_type": "display_data"
    },
    {
     "data": {
      "text/plain": [
       "\">>>>>> iteration 6:O\""
      ]
     },
     "metadata": {},
     "output_type": "display_data"
    },
    {
     "data": {
      "text/plain": [
       "\">>>>>> iteration 7:O\""
      ]
     },
     "metadata": {},
     "output_type": "display_data"
    },
    {
     "data": {
      "text/plain": [
       "\">>>>>> iteration 8:O\""
      ]
     },
     "metadata": {},
     "output_type": "display_data"
    },
    {
     "data": {
      "text/plain": [
       "\">>>>>> iteration 9:O\""
      ]
     },
     "metadata": {},
     "output_type": "display_data"
    },
    {
     "data": {
      "text/plain": [
       "\">>>>>> iteration 10:O\""
      ]
     },
     "metadata": {},
     "output_type": "display_data"
    },
    {
     "data": {
      "text/plain": [
       "\">>>>>> iteration 11:O\""
      ]
     },
     "metadata": {},
     "output_type": "display_data"
    },
    {
     "data": {
      "text/plain": [
       "\">>>>>> iteration 12:O\""
      ]
     },
     "metadata": {},
     "output_type": "display_data"
    },
    {
     "data": {
      "text/plain": [
       "\">>>>>> iteration 13:O\""
      ]
     },
     "metadata": {},
     "output_type": "display_data"
    },
    {
     "data": {
      "text/plain": [
       "\">>>>>> iteration 14:O\""
      ]
     },
     "metadata": {},
     "output_type": "display_data"
    },
    {
     "data": {
      "text/plain": [
       "\">>>>>> iteration 15:O\""
      ]
     },
     "metadata": {},
     "output_type": "display_data"
    },
    {
     "data": {
      "text/plain": [
       "\"time M 0.6659998893737793 | time D 15.765000581741333\""
      ]
     },
     "metadata": {},
     "output_type": "display_data"
    },
    {
     "data": {
      "text/plain": [
       "\"evaluating 5 scenarios| option 3\""
      ]
     },
     "metadata": {},
     "output_type": "display_data"
    },
    {
     "data": {
      "text/plain": [
       "\">>>>>> iteration 1:O\""
      ]
     },
     "metadata": {},
     "output_type": "display_data"
    },
    {
     "data": {
      "text/plain": [
       "\">>>>>> iteration 2:O\""
      ]
     },
     "metadata": {},
     "output_type": "display_data"
    },
    {
     "data": {
      "text/plain": [
       "\">>>>>> iteration 3:O\""
      ]
     },
     "metadata": {},
     "output_type": "display_data"
    },
    {
     "data": {
      "text/plain": [
       "\">>>>>> iteration 4:O\""
      ]
     },
     "metadata": {},
     "output_type": "display_data"
    },
    {
     "data": {
      "text/plain": [
       "\">>>>>> iteration 5:O\""
      ]
     },
     "metadata": {},
     "output_type": "display_data"
    },
    {
     "data": {
      "text/plain": [
       "\">>>>>> iteration 6:O\""
      ]
     },
     "metadata": {},
     "output_type": "display_data"
    },
    {
     "data": {
      "text/plain": [
       "\">>>>>> iteration 7:O\""
      ]
     },
     "metadata": {},
     "output_type": "display_data"
    },
    {
     "data": {
      "text/plain": [
       "\">>>>>> iteration 8:O\""
      ]
     },
     "metadata": {},
     "output_type": "display_data"
    },
    {
     "data": {
      "text/plain": [
       "\">>>>>> iteration 9:O\""
      ]
     },
     "metadata": {},
     "output_type": "display_data"
    },
    {
     "data": {
      "text/plain": [
       "\">>>>>> iteration 10:O\""
      ]
     },
     "metadata": {},
     "output_type": "display_data"
    },
    {
     "data": {
      "text/plain": [
       "\">>>>>> iteration 11:O\""
      ]
     },
     "metadata": {},
     "output_type": "display_data"
    },
    {
     "data": {
      "text/plain": [
       "\">>>>>> iteration 12:O\""
      ]
     },
     "metadata": {},
     "output_type": "display_data"
    },
    {
     "data": {
      "text/plain": [
       "\">>>>>> iteration 13:F\""
      ]
     },
     "metadata": {},
     "output_type": "display_data"
    },
    {
     "data": {
      "text/plain": [
       "\">>>>>> iteration 14:O\""
      ]
     },
     "metadata": {},
     "output_type": "display_data"
    },
    {
     "data": {
      "text/plain": [
       "\">>>>>> iteration 15:O\""
      ]
     },
     "metadata": {},
     "output_type": "display_data"
    },
    {
     "data": {
      "text/plain": [
       "\">>>>>> iteration 16:O\""
      ]
     },
     "metadata": {},
     "output_type": "display_data"
    },
    {
     "data": {
      "text/plain": [
       "\">>>>>> iteration 17:O\""
      ]
     },
     "metadata": {},
     "output_type": "display_data"
    },
    {
     "data": {
      "text/plain": [
       "\">>>>>> iteration 18:O\""
      ]
     },
     "metadata": {},
     "output_type": "display_data"
    },
    {
     "data": {
      "text/plain": [
       "\">>>>>> iteration 19:O\""
      ]
     },
     "metadata": {},
     "output_type": "display_data"
    },
    {
     "data": {
      "text/plain": [
       "\">>>>>> iteration 20:O\""
      ]
     },
     "metadata": {},
     "output_type": "display_data"
    },
    {
     "data": {
      "text/plain": [
       "\">>>>>> iteration 21:O\""
      ]
     },
     "metadata": {},
     "output_type": "display_data"
    },
    {
     "data": {
      "text/plain": [
       "\"time M 1.2740001678466797 | time D 23.877999782562256\""
      ]
     },
     "metadata": {},
     "output_type": "display_data"
    },
    {
     "data": {
      "text/plain": [
       "\"evaluating 6 scenarios| option 3\""
      ]
     },
     "metadata": {},
     "output_type": "display_data"
    },
    {
     "data": {
      "text/plain": [
       "\">>>>>> iteration 1:O\""
      ]
     },
     "metadata": {},
     "output_type": "display_data"
    },
    {
     "data": {
      "text/plain": [
       "\">>>>>> iteration 2:O\""
      ]
     },
     "metadata": {},
     "output_type": "display_data"
    },
    {
     "data": {
      "text/plain": [
       "\">>>>>> iteration 3:O\""
      ]
     },
     "metadata": {},
     "output_type": "display_data"
    },
    {
     "data": {
      "text/plain": [
       "\">>>>>> iteration 4:O\""
      ]
     },
     "metadata": {},
     "output_type": "display_data"
    },
    {
     "data": {
      "text/plain": [
       "\">>>>>> iteration 5:O\""
      ]
     },
     "metadata": {},
     "output_type": "display_data"
    },
    {
     "data": {
      "text/plain": [
       "\">>>>>> iteration 6:O\""
      ]
     },
     "metadata": {},
     "output_type": "display_data"
    },
    {
     "data": {
      "text/plain": [
       "\">>>>>> iteration 7:O\""
      ]
     },
     "metadata": {},
     "output_type": "display_data"
    },
    {
     "data": {
      "text/plain": [
       "\">>>>>> iteration 8:O\""
      ]
     },
     "metadata": {},
     "output_type": "display_data"
    },
    {
     "data": {
      "text/plain": [
       "\">>>>>> iteration 9:O\""
      ]
     },
     "metadata": {},
     "output_type": "display_data"
    },
    {
     "data": {
      "text/plain": [
       "\">>>>>> iteration 10:F\""
      ]
     },
     "metadata": {},
     "output_type": "display_data"
    },
    {
     "data": {
      "text/plain": [
       "\">>>>>> iteration 11:O\""
      ]
     },
     "metadata": {},
     "output_type": "display_data"
    },
    {
     "data": {
      "text/plain": [
       "\">>>>>> iteration 12:O\""
      ]
     },
     "metadata": {},
     "output_type": "display_data"
    },
    {
     "data": {
      "text/plain": [
       "\">>>>>> iteration 13:O\""
      ]
     },
     "metadata": {},
     "output_type": "display_data"
    },
    {
     "data": {
      "text/plain": [
       "\">>>>>> iteration 14:O\""
      ]
     },
     "metadata": {},
     "output_type": "display_data"
    },
    {
     "data": {
      "text/plain": [
       "\">>>>>> iteration 15:O\""
      ]
     },
     "metadata": {},
     "output_type": "display_data"
    },
    {
     "data": {
      "text/plain": [
       "\">>>>>> iteration 16:O\""
      ]
     },
     "metadata": {},
     "output_type": "display_data"
    },
    {
     "data": {
      "text/plain": [
       "\">>>>>> iteration 17:O\""
      ]
     },
     "metadata": {},
     "output_type": "display_data"
    },
    {
     "data": {
      "text/plain": [
       "\"time M 1.9399998188018799 | time D 26.069997787475586\""
      ]
     },
     "metadata": {},
     "output_type": "display_data"
    },
    {
     "data": {
      "text/plain": [
       "\"evaluating 7 scenarios| option 3\""
      ]
     },
     "metadata": {},
     "output_type": "display_data"
    },
    {
     "data": {
      "text/plain": [
       "\">>>>>> iteration 1:O\""
      ]
     },
     "metadata": {},
     "output_type": "display_data"
    },
    {
     "data": {
      "text/plain": [
       "\">>>>>> iteration 2:O\""
      ]
     },
     "metadata": {},
     "output_type": "display_data"
    },
    {
     "data": {
      "text/plain": [
       "\">>>>>> iteration 3:O\""
      ]
     },
     "metadata": {},
     "output_type": "display_data"
    },
    {
     "data": {
      "text/plain": [
       "\">>>>>> iteration 4:O\""
      ]
     },
     "metadata": {},
     "output_type": "display_data"
    },
    {
     "data": {
      "text/plain": [
       "\">>>>>> iteration 5:O\""
      ]
     },
     "metadata": {},
     "output_type": "display_data"
    },
    {
     "data": {
      "text/plain": [
       "\">>>>>> iteration 6:O\""
      ]
     },
     "metadata": {},
     "output_type": "display_data"
    },
    {
     "data": {
      "text/plain": [
       "\">>>>>> iteration 7:O\""
      ]
     },
     "metadata": {},
     "output_type": "display_data"
    },
    {
     "data": {
      "text/plain": [
       "\">>>>>> iteration 8:O\""
      ]
     },
     "metadata": {},
     "output_type": "display_data"
    },
    {
     "data": {
      "text/plain": [
       "\">>>>>> iteration 9:O\""
      ]
     },
     "metadata": {},
     "output_type": "display_data"
    },
    {
     "data": {
      "text/plain": [
       "\">>>>>> iteration 10:O\""
      ]
     },
     "metadata": {},
     "output_type": "display_data"
    },
    {
     "data": {
      "text/plain": [
       "\">>>>>> iteration 11:O\""
      ]
     },
     "metadata": {},
     "output_type": "display_data"
    },
    {
     "data": {
      "text/plain": [
       "\">>>>>> iteration 12:O\""
      ]
     },
     "metadata": {},
     "output_type": "display_data"
    },
    {
     "data": {
      "text/plain": [
       "\">>>>>> iteration 13:O\""
      ]
     },
     "metadata": {},
     "output_type": "display_data"
    },
    {
     "data": {
      "text/plain": [
       "\">>>>>> iteration 14:F\""
      ]
     },
     "metadata": {},
     "output_type": "display_data"
    },
    {
     "data": {
      "text/plain": [
       "\">>>>>> iteration 15:O\""
      ]
     },
     "metadata": {},
     "output_type": "display_data"
    },
    {
     "data": {
      "text/plain": [
       "\">>>>>> iteration 16:O\""
      ]
     },
     "metadata": {},
     "output_type": "display_data"
    },
    {
     "data": {
      "text/plain": [
       "\">>>>>> iteration 17:O\""
      ]
     },
     "metadata": {},
     "output_type": "display_data"
    },
    {
     "data": {
      "text/plain": [
       "\">>>>>> iteration 18:O\""
      ]
     },
     "metadata": {},
     "output_type": "display_data"
    },
    {
     "data": {
      "text/plain": [
       "\">>>>>> iteration 19:O\""
      ]
     },
     "metadata": {},
     "output_type": "display_data"
    },
    {
     "data": {
      "text/plain": [
       "\"time M 1.7119998931884766 | time D 32.8700008392334\""
      ]
     },
     "metadata": {},
     "output_type": "display_data"
    },
    {
     "data": {
      "text/plain": [
       "\"evaluating 8 scenarios| option 3\""
      ]
     },
     "metadata": {},
     "output_type": "display_data"
    },
    {
     "data": {
      "text/plain": [
       "\">>>>>> iteration 1:O\""
      ]
     },
     "metadata": {},
     "output_type": "display_data"
    },
    {
     "data": {
      "text/plain": [
       "\">>>>>> iteration 2:O\""
      ]
     },
     "metadata": {},
     "output_type": "display_data"
    },
    {
     "data": {
      "text/plain": [
       "\">>>>>> iteration 3:O\""
      ]
     },
     "metadata": {},
     "output_type": "display_data"
    },
    {
     "data": {
      "text/plain": [
       "\">>>>>> iteration 4:O\""
      ]
     },
     "metadata": {},
     "output_type": "display_data"
    },
    {
     "data": {
      "text/plain": [
       "\">>>>>> iteration 5:F\""
      ]
     },
     "metadata": {},
     "output_type": "display_data"
    },
    {
     "data": {
      "text/plain": [
       "\">>>>>> iteration 6:O\""
      ]
     },
     "metadata": {},
     "output_type": "display_data"
    },
    {
     "data": {
      "text/plain": [
       "\">>>>>> iteration 7:O\""
      ]
     },
     "metadata": {},
     "output_type": "display_data"
    },
    {
     "data": {
      "text/plain": [
       "\">>>>>> iteration 8:O\""
      ]
     },
     "metadata": {},
     "output_type": "display_data"
    },
    {
     "data": {
      "text/plain": [
       "\">>>>>> iteration 9:O\""
      ]
     },
     "metadata": {},
     "output_type": "display_data"
    },
    {
     "data": {
      "text/plain": [
       "\">>>>>> iteration 10:O\""
      ]
     },
     "metadata": {},
     "output_type": "display_data"
    },
    {
     "data": {
      "text/plain": [
       "\">>>>>> iteration 11:O\""
      ]
     },
     "metadata": {},
     "output_type": "display_data"
    },
    {
     "data": {
      "text/plain": [
       "\">>>>>> iteration 12:O\""
      ]
     },
     "metadata": {},
     "output_type": "display_data"
    },
    {
     "data": {
      "text/plain": [
       "\">>>>>> iteration 13:O\""
      ]
     },
     "metadata": {},
     "output_type": "display_data"
    },
    {
     "data": {
      "text/plain": [
       "\">>>>>> iteration 14:O\""
      ]
     },
     "metadata": {},
     "output_type": "display_data"
    },
    {
     "data": {
      "text/plain": [
       "\">>>>>> iteration 15:O\""
      ]
     },
     "metadata": {},
     "output_type": "display_data"
    },
    {
     "data": {
      "text/plain": [
       "\">>>>>> iteration 16:O\""
      ]
     },
     "metadata": {},
     "output_type": "display_data"
    },
    {
     "data": {
      "text/plain": [
       "\"time M 2.500999927520752 | time D 29.737000465393066\""
      ]
     },
     "metadata": {},
     "output_type": "display_data"
    },
    {
     "data": {
      "text/plain": [
       "\"evaluating 9 scenarios| option 3\""
      ]
     },
     "metadata": {},
     "output_type": "display_data"
    },
    {
     "data": {
      "text/plain": [
       "\">>>>>> iteration 1:O\""
      ]
     },
     "metadata": {},
     "output_type": "display_data"
    },
    {
     "data": {
      "text/plain": [
       "\">>>>>> iteration 2:O\""
      ]
     },
     "metadata": {},
     "output_type": "display_data"
    },
    {
     "data": {
      "text/plain": [
       "\">>>>>> iteration 3:O\""
      ]
     },
     "metadata": {},
     "output_type": "display_data"
    },
    {
     "data": {
      "text/plain": [
       "\">>>>>> iteration 4:O\""
      ]
     },
     "metadata": {},
     "output_type": "display_data"
    },
    {
     "data": {
      "text/plain": [
       "\">>>>>> iteration 5:O\""
      ]
     },
     "metadata": {},
     "output_type": "display_data"
    },
    {
     "data": {
      "text/plain": [
       "\">>>>>> iteration 6:O\""
      ]
     },
     "metadata": {},
     "output_type": "display_data"
    },
    {
     "data": {
      "text/plain": [
       "\">>>>>> iteration 7:O\""
      ]
     },
     "metadata": {},
     "output_type": "display_data"
    },
    {
     "data": {
      "text/plain": [
       "\">>>>>> iteration 8:O\""
      ]
     },
     "metadata": {},
     "output_type": "display_data"
    },
    {
     "data": {
      "text/plain": [
       "\">>>>>> iteration 9:O\""
      ]
     },
     "metadata": {},
     "output_type": "display_data"
    },
    {
     "data": {
      "text/plain": [
       "\">>>>>> iteration 10:O\""
      ]
     },
     "metadata": {},
     "output_type": "display_data"
    },
    {
     "data": {
      "text/plain": [
       "\">>>>>> iteration 11:O\""
      ]
     },
     "metadata": {},
     "output_type": "display_data"
    },
    {
     "data": {
      "text/plain": [
       "\">>>>>> iteration 12:F\""
      ]
     },
     "metadata": {},
     "output_type": "display_data"
    },
    {
     "data": {
      "text/plain": [
       "\">>>>>> iteration 13:O\""
      ]
     },
     "metadata": {},
     "output_type": "display_data"
    },
    {
     "data": {
      "text/plain": [
       "\">>>>>> iteration 14:O\""
      ]
     },
     "metadata": {},
     "output_type": "display_data"
    },
    {
     "data": {
      "text/plain": [
       "\">>>>>> iteration 15:O\""
      ]
     },
     "metadata": {},
     "output_type": "display_data"
    },
    {
     "data": {
      "text/plain": [
       "\">>>>>> iteration 16:O\""
      ]
     },
     "metadata": {},
     "output_type": "display_data"
    },
    {
     "data": {
      "text/plain": [
       "\">>>>>> iteration 17:O\""
      ]
     },
     "metadata": {},
     "output_type": "display_data"
    },
    {
     "data": {
      "text/plain": [
       "\">>>>>> iteration 18:O\""
      ]
     },
     "metadata": {},
     "output_type": "display_data"
    },
    {
     "data": {
      "text/plain": [
       "\">>>>>> iteration 19:F\""
      ]
     },
     "metadata": {},
     "output_type": "display_data"
    },
    {
     "data": {
      "text/plain": [
       "\">>>>>> iteration 20:O\""
      ]
     },
     "metadata": {},
     "output_type": "display_data"
    },
    {
     "data": {
      "text/plain": [
       "\"time M 3.635000228881836 | time D 41.198999881744385\""
      ]
     },
     "metadata": {},
     "output_type": "display_data"
    },
    {
     "data": {
      "text/plain": [
       "\"evaluating 10 scenarios| option 3\""
      ]
     },
     "metadata": {},
     "output_type": "display_data"
    },
    {
     "data": {
      "text/plain": [
       "\">>>>>> iteration 1:O\""
      ]
     },
     "metadata": {},
     "output_type": "display_data"
    },
    {
     "data": {
      "text/plain": [
       "\">>>>>> iteration 2:O\""
      ]
     },
     "metadata": {},
     "output_type": "display_data"
    },
    {
     "data": {
      "text/plain": [
       "\">>>>>> iteration 3:O\""
      ]
     },
     "metadata": {},
     "output_type": "display_data"
    },
    {
     "data": {
      "text/plain": [
       "\">>>>>> iteration 4:O\""
      ]
     },
     "metadata": {},
     "output_type": "display_data"
    },
    {
     "data": {
      "text/plain": [
       "\">>>>>> iteration 5:O\""
      ]
     },
     "metadata": {},
     "output_type": "display_data"
    },
    {
     "data": {
      "text/plain": [
       "\">>>>>> iteration 6:O\""
      ]
     },
     "metadata": {},
     "output_type": "display_data"
    },
    {
     "data": {
      "text/plain": [
       "\">>>>>> iteration 7:O\""
      ]
     },
     "metadata": {},
     "output_type": "display_data"
    },
    {
     "data": {
      "text/plain": [
       "\">>>>>> iteration 8:O\""
      ]
     },
     "metadata": {},
     "output_type": "display_data"
    },
    {
     "data": {
      "text/plain": [
       "\">>>>>> iteration 9:O\""
      ]
     },
     "metadata": {},
     "output_type": "display_data"
    },
    {
     "data": {
      "text/plain": [
       "\">>>>>> iteration 10:F\""
      ]
     },
     "metadata": {},
     "output_type": "display_data"
    },
    {
     "data": {
      "text/plain": [
       "\">>>>>> iteration 11:O\""
      ]
     },
     "metadata": {},
     "output_type": "display_data"
    },
    {
     "data": {
      "text/plain": [
       "\">>>>>> iteration 12:O\""
      ]
     },
     "metadata": {},
     "output_type": "display_data"
    },
    {
     "data": {
      "text/plain": [
       "\">>>>>> iteration 13:O\""
      ]
     },
     "metadata": {},
     "output_type": "display_data"
    },
    {
     "data": {
      "text/plain": [
       "\">>>>>> iteration 14:O\""
      ]
     },
     "metadata": {},
     "output_type": "display_data"
    },
    {
     "data": {
      "text/plain": [
       "\">>>>>> iteration 15:O\""
      ]
     },
     "metadata": {},
     "output_type": "display_data"
    },
    {
     "data": {
      "text/plain": [
       "\">>>>>> iteration 16:O\""
      ]
     },
     "metadata": {},
     "output_type": "display_data"
    },
    {
     "data": {
      "text/plain": [
       "\">>>>>> iteration 17:O\""
      ]
     },
     "metadata": {},
     "output_type": "display_data"
    },
    {
     "data": {
      "text/plain": [
       "\"time M 3.7170000076293945 | time D 40.29800009727478\""
      ]
     },
     "metadata": {},
     "output_type": "display_data"
    },
    {
     "data": {
      "text/plain": [
       "\"evaluating 11 scenarios| option 3\""
      ]
     },
     "metadata": {},
     "output_type": "display_data"
    },
    {
     "data": {
      "text/plain": [
       "\">>>>>> iteration 1:O\""
      ]
     },
     "metadata": {},
     "output_type": "display_data"
    },
    {
     "data": {
      "text/plain": [
       "\">>>>>> iteration 2:O\""
      ]
     },
     "metadata": {},
     "output_type": "display_data"
    },
    {
     "data": {
      "text/plain": [
       "\">>>>>> iteration 3:O\""
      ]
     },
     "metadata": {},
     "output_type": "display_data"
    },
    {
     "data": {
      "text/plain": [
       "\">>>>>> iteration 4:O\""
      ]
     },
     "metadata": {},
     "output_type": "display_data"
    },
    {
     "data": {
      "text/plain": [
       "\">>>>>> iteration 5:O\""
      ]
     },
     "metadata": {},
     "output_type": "display_data"
    },
    {
     "data": {
      "text/plain": [
       "\">>>>>> iteration 6:O\""
      ]
     },
     "metadata": {},
     "output_type": "display_data"
    },
    {
     "data": {
      "text/plain": [
       "\">>>>>> iteration 7:O\""
      ]
     },
     "metadata": {},
     "output_type": "display_data"
    },
    {
     "data": {
      "text/plain": [
       "\">>>>>> iteration 8:O\""
      ]
     },
     "metadata": {},
     "output_type": "display_data"
    },
    {
     "data": {
      "text/plain": [
       "\">>>>>> iteration 9:O\""
      ]
     },
     "metadata": {},
     "output_type": "display_data"
    },
    {
     "data": {
      "text/plain": [
       "\">>>>>> iteration 10:O\""
      ]
     },
     "metadata": {},
     "output_type": "display_data"
    },
    {
     "data": {
      "text/plain": [
       "\">>>>>> iteration 11:O\""
      ]
     },
     "metadata": {},
     "output_type": "display_data"
    },
    {
     "data": {
      "text/plain": [
       "\">>>>>> iteration 12:O\""
      ]
     },
     "metadata": {},
     "output_type": "display_data"
    },
    {
     "data": {
      "text/plain": [
       "\">>>>>> iteration 13:O\""
      ]
     },
     "metadata": {},
     "output_type": "display_data"
    },
    {
     "data": {
      "text/plain": [
       "\">>>>>> iteration 14:O\""
      ]
     },
     "metadata": {},
     "output_type": "display_data"
    },
    {
     "data": {
      "text/plain": [
       "\">>>>>> iteration 15:O\""
      ]
     },
     "metadata": {},
     "output_type": "display_data"
    },
    {
     "data": {
      "text/plain": [
       "\">>>>>> iteration 16:O\""
      ]
     },
     "metadata": {},
     "output_type": "display_data"
    },
    {
     "data": {
      "text/plain": [
       "\">>>>>> iteration 17:F\""
      ]
     },
     "metadata": {},
     "output_type": "display_data"
    },
    {
     "data": {
      "text/plain": [
       "\">>>>>> iteration 18:O\""
      ]
     },
     "metadata": {},
     "output_type": "display_data"
    },
    {
     "data": {
      "text/plain": [
       "\"time M 3.8999998569488525 | time D 43.59399890899658\""
      ]
     },
     "metadata": {},
     "output_type": "display_data"
    },
    {
     "data": {
      "text/plain": [
       "\"evaluating 12 scenarios| option 3\""
      ]
     },
     "metadata": {},
     "output_type": "display_data"
    },
    {
     "data": {
      "text/plain": [
       "\">>>>>> iteration 1:O\""
      ]
     },
     "metadata": {},
     "output_type": "display_data"
    },
    {
     "data": {
      "text/plain": [
       "\">>>>>> iteration 2:O\""
      ]
     },
     "metadata": {},
     "output_type": "display_data"
    },
    {
     "data": {
      "text/plain": [
       "\">>>>>> iteration 3:O\""
      ]
     },
     "metadata": {},
     "output_type": "display_data"
    },
    {
     "data": {
      "text/plain": [
       "\">>>>>> iteration 4:O\""
      ]
     },
     "metadata": {},
     "output_type": "display_data"
    },
    {
     "data": {
      "text/plain": [
       "\">>>>>> iteration 5:O\""
      ]
     },
     "metadata": {},
     "output_type": "display_data"
    },
    {
     "data": {
      "text/plain": [
       "\">>>>>> iteration 6:O\""
      ]
     },
     "metadata": {},
     "output_type": "display_data"
    },
    {
     "data": {
      "text/plain": [
       "\">>>>>> iteration 7:O\""
      ]
     },
     "metadata": {},
     "output_type": "display_data"
    },
    {
     "data": {
      "text/plain": [
       "\">>>>>> iteration 8:O\""
      ]
     },
     "metadata": {},
     "output_type": "display_data"
    },
    {
     "data": {
      "text/plain": [
       "\">>>>>> iteration 9:F\""
      ]
     },
     "metadata": {},
     "output_type": "display_data"
    },
    {
     "data": {
      "text/plain": [
       "\">>>>>> iteration 10:O\""
      ]
     },
     "metadata": {},
     "output_type": "display_data"
    },
    {
     "data": {
      "text/plain": [
       "\">>>>>> iteration 11:O\""
      ]
     },
     "metadata": {},
     "output_type": "display_data"
    },
    {
     "data": {
      "text/plain": [
       "\">>>>>> iteration 12:O\""
      ]
     },
     "metadata": {},
     "output_type": "display_data"
    },
    {
     "data": {
      "text/plain": [
       "\">>>>>> iteration 13:O\""
      ]
     },
     "metadata": {},
     "output_type": "display_data"
    },
    {
     "data": {
      "text/plain": [
       "\">>>>>> iteration 14:O\""
      ]
     },
     "metadata": {},
     "output_type": "display_data"
    },
    {
     "data": {
      "text/plain": [
       "\">>>>>> iteration 15:O\""
      ]
     },
     "metadata": {},
     "output_type": "display_data"
    },
    {
     "data": {
      "text/plain": [
       "\">>>>>> iteration 16:O\""
      ]
     },
     "metadata": {},
     "output_type": "display_data"
    },
    {
     "data": {
      "text/plain": [
       "\">>>>>> iteration 17:O\""
      ]
     },
     "metadata": {},
     "output_type": "display_data"
    },
    {
     "data": {
      "text/plain": [
       "\">>>>>> iteration 18:O\""
      ]
     },
     "metadata": {},
     "output_type": "display_data"
    },
    {
     "data": {
      "text/plain": [
       "\">>>>>> iteration 19:O\""
      ]
     },
     "metadata": {},
     "output_type": "display_data"
    },
    {
     "data": {
      "text/plain": [
       "\"time M 4.767999887466431 | time D 57.79599976539612\""
      ]
     },
     "metadata": {},
     "output_type": "display_data"
    },
    {
     "data": {
      "text/plain": [
       "\"evaluating 13 scenarios| option 3\""
      ]
     },
     "metadata": {},
     "output_type": "display_data"
    },
    {
     "data": {
      "text/plain": [
       "\">>>>>> iteration 1:O\""
      ]
     },
     "metadata": {},
     "output_type": "display_data"
    },
    {
     "data": {
      "text/plain": [
       "\">>>>>> iteration 2:O\""
      ]
     },
     "metadata": {},
     "output_type": "display_data"
    },
    {
     "data": {
      "text/plain": [
       "\">>>>>> iteration 3:O\""
      ]
     },
     "metadata": {},
     "output_type": "display_data"
    },
    {
     "data": {
      "text/plain": [
       "\">>>>>> iteration 4:O\""
      ]
     },
     "metadata": {},
     "output_type": "display_data"
    },
    {
     "data": {
      "text/plain": [
       "\">>>>>> iteration 5:O\""
      ]
     },
     "metadata": {},
     "output_type": "display_data"
    },
    {
     "data": {
      "text/plain": [
       "\">>>>>> iteration 6:O\""
      ]
     },
     "metadata": {},
     "output_type": "display_data"
    },
    {
     "data": {
      "text/plain": [
       "\">>>>>> iteration 7:O\""
      ]
     },
     "metadata": {},
     "output_type": "display_data"
    },
    {
     "data": {
      "text/plain": [
       "\">>>>>> iteration 8:F\""
      ]
     },
     "metadata": {},
     "output_type": "display_data"
    },
    {
     "data": {
      "text/plain": [
       "\">>>>>> iteration 9:O\""
      ]
     },
     "metadata": {},
     "output_type": "display_data"
    },
    {
     "data": {
      "text/plain": [
       "\">>>>>> iteration 10:O\""
      ]
     },
     "metadata": {},
     "output_type": "display_data"
    },
    {
     "data": {
      "text/plain": [
       "\">>>>>> iteration 11:O\""
      ]
     },
     "metadata": {},
     "output_type": "display_data"
    },
    {
     "data": {
      "text/plain": [
       "\">>>>>> iteration 12:O\""
      ]
     },
     "metadata": {},
     "output_type": "display_data"
    },
    {
     "data": {
      "text/plain": [
       "\">>>>>> iteration 13:O\""
      ]
     },
     "metadata": {},
     "output_type": "display_data"
    },
    {
     "data": {
      "text/plain": [
       "\">>>>>> iteration 14:O\""
      ]
     },
     "metadata": {},
     "output_type": "display_data"
    },
    {
     "data": {
      "text/plain": [
       "\">>>>>> iteration 15:O\""
      ]
     },
     "metadata": {},
     "output_type": "display_data"
    },
    {
     "data": {
      "text/plain": [
       "\">>>>>> iteration 16:O\""
      ]
     },
     "metadata": {},
     "output_type": "display_data"
    },
    {
     "data": {
      "text/plain": [
       "\">>>>>> iteration 17:O\""
      ]
     },
     "metadata": {},
     "output_type": "display_data"
    },
    {
     "data": {
      "text/plain": [
       "\">>>>>> iteration 18:O\""
      ]
     },
     "metadata": {},
     "output_type": "display_data"
    },
    {
     "data": {
      "text/plain": [
       "\">>>>>> iteration 19:O\""
      ]
     },
     "metadata": {},
     "output_type": "display_data"
    },
    {
     "data": {
      "text/plain": [
       "\"time M 5.393999814987183 | time D 62.0749990940094\""
      ]
     },
     "metadata": {},
     "output_type": "display_data"
    },
    {
     "data": {
      "text/plain": [
       "\"evaluating 14 scenarios| option 3\""
      ]
     },
     "metadata": {},
     "output_type": "display_data"
    },
    {
     "data": {
      "text/plain": [
       "\">>>>>> iteration 1:O\""
      ]
     },
     "metadata": {},
     "output_type": "display_data"
    },
    {
     "data": {
      "text/plain": [
       "\">>>>>> iteration 2:O\""
      ]
     },
     "metadata": {},
     "output_type": "display_data"
    },
    {
     "data": {
      "text/plain": [
       "\">>>>>> iteration 3:O\""
      ]
     },
     "metadata": {},
     "output_type": "display_data"
    },
    {
     "data": {
      "text/plain": [
       "\">>>>>> iteration 4:O\""
      ]
     },
     "metadata": {},
     "output_type": "display_data"
    },
    {
     "data": {
      "text/plain": [
       "\">>>>>> iteration 5:O\""
      ]
     },
     "metadata": {},
     "output_type": "display_data"
    },
    {
     "data": {
      "text/plain": [
       "\">>>>>> iteration 6:O\""
      ]
     },
     "metadata": {},
     "output_type": "display_data"
    },
    {
     "data": {
      "text/plain": [
       "\">>>>>> iteration 7:O\""
      ]
     },
     "metadata": {},
     "output_type": "display_data"
    },
    {
     "data": {
      "text/plain": [
       "\">>>>>> iteration 8:O\""
      ]
     },
     "metadata": {},
     "output_type": "display_data"
    },
    {
     "data": {
      "text/plain": [
       "\">>>>>> iteration 9:O\""
      ]
     },
     "metadata": {},
     "output_type": "display_data"
    },
    {
     "data": {
      "text/plain": [
       "\">>>>>> iteration 10:O\""
      ]
     },
     "metadata": {},
     "output_type": "display_data"
    },
    {
     "data": {
      "text/plain": [
       "\">>>>>> iteration 11:O\""
      ]
     },
     "metadata": {},
     "output_type": "display_data"
    },
    {
     "data": {
      "text/plain": [
       "\">>>>>> iteration 12:O\""
      ]
     },
     "metadata": {},
     "output_type": "display_data"
    },
    {
     "data": {
      "text/plain": [
       "\">>>>>> iteration 13:O\""
      ]
     },
     "metadata": {},
     "output_type": "display_data"
    },
    {
     "data": {
      "text/plain": [
       "\">>>>>> iteration 14:O\""
      ]
     },
     "metadata": {},
     "output_type": "display_data"
    },
    {
     "data": {
      "text/plain": [
       "\">>>>>> iteration 15:O\""
      ]
     },
     "metadata": {},
     "output_type": "display_data"
    },
    {
     "data": {
      "text/plain": [
       "\">>>>>> iteration 16:O\""
      ]
     },
     "metadata": {},
     "output_type": "display_data"
    },
    {
     "data": {
      "text/plain": [
       "\">>>>>> iteration 17:F\""
      ]
     },
     "metadata": {},
     "output_type": "display_data"
    },
    {
     "data": {
      "text/plain": [
       "\">>>>>> iteration 18:O\""
      ]
     },
     "metadata": {},
     "output_type": "display_data"
    },
    {
     "data": {
      "text/plain": [
       "\">>>>>> iteration 19:O\""
      ]
     },
     "metadata": {},
     "output_type": "display_data"
    },
    {
     "data": {
      "text/plain": [
       "\">>>>>> iteration 20:O\""
      ]
     },
     "metadata": {},
     "output_type": "display_data"
    },
    {
     "data": {
      "text/plain": [
       "\"time M 8.83299994468689 | time D 65.51599836349487\""
      ]
     },
     "metadata": {},
     "output_type": "display_data"
    },
    {
     "data": {
      "text/plain": [
       "\"evaluating 15 scenarios| option 3\""
      ]
     },
     "metadata": {},
     "output_type": "display_data"
    },
    {
     "data": {
      "text/plain": [
       "\">>>>>> iteration 1:O\""
      ]
     },
     "metadata": {},
     "output_type": "display_data"
    },
    {
     "data": {
      "text/plain": [
       "\">>>>>> iteration 2:O\""
      ]
     },
     "metadata": {},
     "output_type": "display_data"
    },
    {
     "data": {
      "text/plain": [
       "\">>>>>> iteration 3:O\""
      ]
     },
     "metadata": {},
     "output_type": "display_data"
    },
    {
     "data": {
      "text/plain": [
       "\">>>>>> iteration 4:O\""
      ]
     },
     "metadata": {},
     "output_type": "display_data"
    },
    {
     "data": {
      "text/plain": [
       "\">>>>>> iteration 5:O\""
      ]
     },
     "metadata": {},
     "output_type": "display_data"
    },
    {
     "data": {
      "text/plain": [
       "\">>>>>> iteration 6:O\""
      ]
     },
     "metadata": {},
     "output_type": "display_data"
    },
    {
     "data": {
      "text/plain": [
       "\">>>>>> iteration 7:O\""
      ]
     },
     "metadata": {},
     "output_type": "display_data"
    },
    {
     "data": {
      "text/plain": [
       "\">>>>>> iteration 8:O\""
      ]
     },
     "metadata": {},
     "output_type": "display_data"
    },
    {
     "data": {
      "text/plain": [
       "\">>>>>> iteration 9:O\""
      ]
     },
     "metadata": {},
     "output_type": "display_data"
    },
    {
     "data": {
      "text/plain": [
       "\">>>>>> iteration 10:O\""
      ]
     },
     "metadata": {},
     "output_type": "display_data"
    },
    {
     "data": {
      "text/plain": [
       "\">>>>>> iteration 11:O\""
      ]
     },
     "metadata": {},
     "output_type": "display_data"
    },
    {
     "data": {
      "text/plain": [
       "\">>>>>> iteration 12:O\""
      ]
     },
     "metadata": {},
     "output_type": "display_data"
    },
    {
     "data": {
      "text/plain": [
       "\">>>>>> iteration 13:O\""
      ]
     },
     "metadata": {},
     "output_type": "display_data"
    },
    {
     "data": {
      "text/plain": [
       "\">>>>>> iteration 14:F\""
      ]
     },
     "metadata": {},
     "output_type": "display_data"
    },
    {
     "data": {
      "text/plain": [
       "\">>>>>> iteration 15:O\""
      ]
     },
     "metadata": {},
     "output_type": "display_data"
    },
    {
     "data": {
      "text/plain": [
       "\">>>>>> iteration 16:O\""
      ]
     },
     "metadata": {},
     "output_type": "display_data"
    },
    {
     "data": {
      "text/plain": [
       "\">>>>>> iteration 17:O\""
      ]
     },
     "metadata": {},
     "output_type": "display_data"
    },
    {
     "data": {
      "text/plain": [
       "\">>>>>> iteration 18:O\""
      ]
     },
     "metadata": {},
     "output_type": "display_data"
    },
    {
     "data": {
      "text/plain": [
       "\">>>>>> iteration 19:O\""
      ]
     },
     "metadata": {},
     "output_type": "display_data"
    },
    {
     "data": {
      "text/plain": [
       "\"time M 5.0329999923706055 | time D 70.09699940681458\""
      ]
     },
     "metadata": {},
     "output_type": "display_data"
    },
    {
     "data": {
      "text/plain": [
       "\"evaluating 16 scenarios| option 3\""
      ]
     },
     "metadata": {},
     "output_type": "display_data"
    },
    {
     "data": {
      "text/plain": [
       "\">>>>>> iteration 1:O\""
      ]
     },
     "metadata": {},
     "output_type": "display_data"
    },
    {
     "data": {
      "text/plain": [
       "\">>>>>> iteration 2:O\""
      ]
     },
     "metadata": {},
     "output_type": "display_data"
    },
    {
     "data": {
      "text/plain": [
       "\">>>>>> iteration 3:O\""
      ]
     },
     "metadata": {},
     "output_type": "display_data"
    },
    {
     "data": {
      "text/plain": [
       "\">>>>>> iteration 4:O\""
      ]
     },
     "metadata": {},
     "output_type": "display_data"
    },
    {
     "data": {
      "text/plain": [
       "\">>>>>> iteration 5:O\""
      ]
     },
     "metadata": {},
     "output_type": "display_data"
    },
    {
     "data": {
      "text/plain": [
       "\">>>>>> iteration 6:O\""
      ]
     },
     "metadata": {},
     "output_type": "display_data"
    },
    {
     "data": {
      "text/plain": [
       "\">>>>>> iteration 7:O\""
      ]
     },
     "metadata": {},
     "output_type": "display_data"
    },
    {
     "data": {
      "text/plain": [
       "\">>>>>> iteration 8:O\""
      ]
     },
     "metadata": {},
     "output_type": "display_data"
    },
    {
     "data": {
      "text/plain": [
       "\">>>>>> iteration 9:O\""
      ]
     },
     "metadata": {},
     "output_type": "display_data"
    },
    {
     "data": {
      "text/plain": [
       "\">>>>>> iteration 10:O\""
      ]
     },
     "metadata": {},
     "output_type": "display_data"
    },
    {
     "data": {
      "text/plain": [
       "\">>>>>> iteration 11:O\""
      ]
     },
     "metadata": {},
     "output_type": "display_data"
    },
    {
     "data": {
      "text/plain": [
       "\">>>>>> iteration 12:O\""
      ]
     },
     "metadata": {},
     "output_type": "display_data"
    },
    {
     "data": {
      "text/plain": [
       "\">>>>>> iteration 13:F\""
      ]
     },
     "metadata": {},
     "output_type": "display_data"
    },
    {
     "data": {
      "text/plain": [
       "\">>>>>> iteration 14:O\""
      ]
     },
     "metadata": {},
     "output_type": "display_data"
    },
    {
     "data": {
      "text/plain": [
       "\">>>>>> iteration 15:O\""
      ]
     },
     "metadata": {},
     "output_type": "display_data"
    },
    {
     "data": {
      "text/plain": [
       "\">>>>>> iteration 16:O\""
      ]
     },
     "metadata": {},
     "output_type": "display_data"
    },
    {
     "data": {
      "text/plain": [
       "\">>>>>> iteration 17:O\""
      ]
     },
     "metadata": {},
     "output_type": "display_data"
    },
    {
     "data": {
      "text/plain": [
       "\">>>>>> iteration 18:O\""
      ]
     },
     "metadata": {},
     "output_type": "display_data"
    },
    {
     "data": {
      "text/plain": [
       "\">>>>>> iteration 19:O\""
      ]
     },
     "metadata": {},
     "output_type": "display_data"
    },
    {
     "data": {
      "text/plain": [
       "\">>>>>> iteration 20:O\""
      ]
     },
     "metadata": {},
     "output_type": "display_data"
    },
    {
     "data": {
      "text/plain": [
       "\"time M 5.726999998092651 | time D 76.54800176620483\""
      ]
     },
     "metadata": {},
     "output_type": "display_data"
    },
    {
     "data": {
      "text/plain": [
       "\"evaluating 17 scenarios| option 3\""
      ]
     },
     "metadata": {},
     "output_type": "display_data"
    },
    {
     "data": {
      "text/plain": [
       "\">>>>>> iteration 1:O\""
      ]
     },
     "metadata": {},
     "output_type": "display_data"
    },
    {
     "data": {
      "text/plain": [
       "\">>>>>> iteration 2:O\""
      ]
     },
     "metadata": {},
     "output_type": "display_data"
    },
    {
     "data": {
      "text/plain": [
       "\">>>>>> iteration 3:O\""
      ]
     },
     "metadata": {},
     "output_type": "display_data"
    },
    {
     "data": {
      "text/plain": [
       "\">>>>>> iteration 4:O\""
      ]
     },
     "metadata": {},
     "output_type": "display_data"
    },
    {
     "data": {
      "text/plain": [
       "\">>>>>> iteration 5:O\""
      ]
     },
     "metadata": {},
     "output_type": "display_data"
    },
    {
     "data": {
      "text/plain": [
       "\">>>>>> iteration 6:O\""
      ]
     },
     "metadata": {},
     "output_type": "display_data"
    },
    {
     "data": {
      "text/plain": [
       "\">>>>>> iteration 7:O\""
      ]
     },
     "metadata": {},
     "output_type": "display_data"
    },
    {
     "data": {
      "text/plain": [
       "\">>>>>> iteration 8:O\""
      ]
     },
     "metadata": {},
     "output_type": "display_data"
    },
    {
     "data": {
      "text/plain": [
       "\">>>>>> iteration 9:O\""
      ]
     },
     "metadata": {},
     "output_type": "display_data"
    },
    {
     "data": {
      "text/plain": [
       "\">>>>>> iteration 10:O\""
      ]
     },
     "metadata": {},
     "output_type": "display_data"
    },
    {
     "data": {
      "text/plain": [
       "\">>>>>> iteration 11:F\""
      ]
     },
     "metadata": {},
     "output_type": "display_data"
    },
    {
     "data": {
      "text/plain": [
       "\">>>>>> iteration 12:O\""
      ]
     },
     "metadata": {},
     "output_type": "display_data"
    },
    {
     "data": {
      "text/plain": [
       "\">>>>>> iteration 13:O\""
      ]
     },
     "metadata": {},
     "output_type": "display_data"
    },
    {
     "data": {
      "text/plain": [
       "\">>>>>> iteration 14:O\""
      ]
     },
     "metadata": {},
     "output_type": "display_data"
    },
    {
     "data": {
      "text/plain": [
       "\">>>>>> iteration 15:O\""
      ]
     },
     "metadata": {},
     "output_type": "display_data"
    },
    {
     "data": {
      "text/plain": [
       "\">>>>>> iteration 16:O\""
      ]
     },
     "metadata": {},
     "output_type": "display_data"
    },
    {
     "data": {
      "text/plain": [
       "\">>>>>> iteration 17:O\""
      ]
     },
     "metadata": {},
     "output_type": "display_data"
    },
    {
     "data": {
      "text/plain": [
       "\">>>>>> iteration 18:O\""
      ]
     },
     "metadata": {},
     "output_type": "display_data"
    },
    {
     "data": {
      "text/plain": [
       "\">>>>>> iteration 19:O\""
      ]
     },
     "metadata": {},
     "output_type": "display_data"
    },
    {
     "data": {
      "text/plain": [
       "\">>>>>> iteration 20:O\""
      ]
     },
     "metadata": {},
     "output_type": "display_data"
    },
    {
     "data": {
      "text/plain": [
       "\">>>>>> iteration 21:O\""
      ]
     },
     "metadata": {},
     "output_type": "display_data"
    },
    {
     "data": {
      "text/plain": [
       "\">>>>>> iteration 22:O\""
      ]
     },
     "metadata": {},
     "output_type": "display_data"
    },
    {
     "data": {
      "text/plain": [
       "\">>>>>> iteration 23:O\""
      ]
     },
     "metadata": {},
     "output_type": "display_data"
    },
    {
     "data": {
      "text/plain": [
       "\"time M 5.297999858856201 | time D 96.66499996185303\""
      ]
     },
     "metadata": {},
     "output_type": "display_data"
    },
    {
     "data": {
      "text/plain": [
       "\"evaluating 18 scenarios| option 3\""
      ]
     },
     "metadata": {},
     "output_type": "display_data"
    },
    {
     "data": {
      "text/plain": [
       "\">>>>>> iteration 1:O\""
      ]
     },
     "metadata": {},
     "output_type": "display_data"
    },
    {
     "data": {
      "text/plain": [
       "\">>>>>> iteration 2:O\""
      ]
     },
     "metadata": {},
     "output_type": "display_data"
    },
    {
     "data": {
      "text/plain": [
       "\">>>>>> iteration 3:O\""
      ]
     },
     "metadata": {},
     "output_type": "display_data"
    },
    {
     "data": {
      "text/plain": [
       "\">>>>>> iteration 4:O\""
      ]
     },
     "metadata": {},
     "output_type": "display_data"
    },
    {
     "data": {
      "text/plain": [
       "\">>>>>> iteration 5:O\""
      ]
     },
     "metadata": {},
     "output_type": "display_data"
    },
    {
     "data": {
      "text/plain": [
       "\">>>>>> iteration 6:O\""
      ]
     },
     "metadata": {},
     "output_type": "display_data"
    },
    {
     "data": {
      "text/plain": [
       "\">>>>>> iteration 7:O\""
      ]
     },
     "metadata": {},
     "output_type": "display_data"
    },
    {
     "data": {
      "text/plain": [
       "\">>>>>> iteration 8:O\""
      ]
     },
     "metadata": {},
     "output_type": "display_data"
    },
    {
     "data": {
      "text/plain": [
       "\">>>>>> iteration 9:O\""
      ]
     },
     "metadata": {},
     "output_type": "display_data"
    },
    {
     "data": {
      "text/plain": [
       "\">>>>>> iteration 10:O\""
      ]
     },
     "metadata": {},
     "output_type": "display_data"
    },
    {
     "data": {
      "text/plain": [
       "\">>>>>> iteration 11:O\""
      ]
     },
     "metadata": {},
     "output_type": "display_data"
    },
    {
     "data": {
      "text/plain": [
       "\">>>>>> iteration 12:O\""
      ]
     },
     "metadata": {},
     "output_type": "display_data"
    },
    {
     "data": {
      "text/plain": [
       "\">>>>>> iteration 13:O\""
      ]
     },
     "metadata": {},
     "output_type": "display_data"
    },
    {
     "data": {
      "text/plain": [
       "\">>>>>> iteration 14:F\""
      ]
     },
     "metadata": {},
     "output_type": "display_data"
    },
    {
     "data": {
      "text/plain": [
       "\">>>>>> iteration 15:O\""
      ]
     },
     "metadata": {},
     "output_type": "display_data"
    },
    {
     "data": {
      "text/plain": [
       "\">>>>>> iteration 16:O\""
      ]
     },
     "metadata": {},
     "output_type": "display_data"
    },
    {
     "data": {
      "text/plain": [
       "\">>>>>> iteration 17:O\""
      ]
     },
     "metadata": {},
     "output_type": "display_data"
    },
    {
     "data": {
      "text/plain": [
       "\">>>>>> iteration 18:O\""
      ]
     },
     "metadata": {},
     "output_type": "display_data"
    },
    {
     "data": {
      "text/plain": [
       "\">>>>>> iteration 19:O\""
      ]
     },
     "metadata": {},
     "output_type": "display_data"
    },
    {
     "data": {
      "text/plain": [
       "\">>>>>> iteration 20:O\""
      ]
     },
     "metadata": {},
     "output_type": "display_data"
    },
    {
     "data": {
      "text/plain": [
       "\">>>>>> iteration 21:O\""
      ]
     },
     "metadata": {},
     "output_type": "display_data"
    },
    {
     "data": {
      "text/plain": [
       "\">>>>>> iteration 22:O\""
      ]
     },
     "metadata": {},
     "output_type": "display_data"
    },
    {
     "data": {
      "text/plain": [
       "\"time M 9.200000047683716 | time D 93.63499999046326\""
      ]
     },
     "metadata": {},
     "output_type": "display_data"
    },
    {
     "data": {
      "text/plain": [
       "\"evaluating 19 scenarios| option 3\""
      ]
     },
     "metadata": {},
     "output_type": "display_data"
    },
    {
     "data": {
      "text/plain": [
       "\">>>>>> iteration 1:O\""
      ]
     },
     "metadata": {},
     "output_type": "display_data"
    },
    {
     "data": {
      "text/plain": [
       "\">>>>>> iteration 2:O\""
      ]
     },
     "metadata": {},
     "output_type": "display_data"
    },
    {
     "data": {
      "text/plain": [
       "\">>>>>> iteration 3:O\""
      ]
     },
     "metadata": {},
     "output_type": "display_data"
    },
    {
     "data": {
      "text/plain": [
       "\">>>>>> iteration 4:O\""
      ]
     },
     "metadata": {},
     "output_type": "display_data"
    },
    {
     "data": {
      "text/plain": [
       "\">>>>>> iteration 5:O\""
      ]
     },
     "metadata": {},
     "output_type": "display_data"
    },
    {
     "data": {
      "text/plain": [
       "\">>>>>> iteration 6:O\""
      ]
     },
     "metadata": {},
     "output_type": "display_data"
    },
    {
     "data": {
      "text/plain": [
       "\">>>>>> iteration 7:O\""
      ]
     },
     "metadata": {},
     "output_type": "display_data"
    },
    {
     "data": {
      "text/plain": [
       "\">>>>>> iteration 8:O\""
      ]
     },
     "metadata": {},
     "output_type": "display_data"
    },
    {
     "data": {
      "text/plain": [
       "\">>>>>> iteration 9:O\""
      ]
     },
     "metadata": {},
     "output_type": "display_data"
    },
    {
     "data": {
      "text/plain": [
       "\">>>>>> iteration 10:O\""
      ]
     },
     "metadata": {},
     "output_type": "display_data"
    },
    {
     "data": {
      "text/plain": [
       "\">>>>>> iteration 11:O\""
      ]
     },
     "metadata": {},
     "output_type": "display_data"
    },
    {
     "data": {
      "text/plain": [
       "\">>>>>> iteration 12:F\""
      ]
     },
     "metadata": {},
     "output_type": "display_data"
    },
    {
     "data": {
      "text/plain": [
       "\">>>>>> iteration 13:O\""
      ]
     },
     "metadata": {},
     "output_type": "display_data"
    },
    {
     "data": {
      "text/plain": [
       "\">>>>>> iteration 14:O\""
      ]
     },
     "metadata": {},
     "output_type": "display_data"
    },
    {
     "data": {
      "text/plain": [
       "\">>>>>> iteration 15:O\""
      ]
     },
     "metadata": {},
     "output_type": "display_data"
    },
    {
     "data": {
      "text/plain": [
       "\">>>>>> iteration 16:O\""
      ]
     },
     "metadata": {},
     "output_type": "display_data"
    },
    {
     "data": {
      "text/plain": [
       "\">>>>>> iteration 17:O\""
      ]
     },
     "metadata": {},
     "output_type": "display_data"
    },
    {
     "data": {
      "text/plain": [
       "\">>>>>> iteration 18:O\""
      ]
     },
     "metadata": {},
     "output_type": "display_data"
    },
    {
     "data": {
      "text/plain": [
       "\"time M 4.109999895095825 | time D 86.1200008392334\""
      ]
     },
     "metadata": {},
     "output_type": "display_data"
    },
    {
     "data": {
      "text/plain": [
       "\"evaluating 20 scenarios| option 3\""
      ]
     },
     "metadata": {},
     "output_type": "display_data"
    },
    {
     "data": {
      "text/plain": [
       "\">>>>>> iteration 1:O\""
      ]
     },
     "metadata": {},
     "output_type": "display_data"
    },
    {
     "data": {
      "text/plain": [
       "\">>>>>> iteration 2:O\""
      ]
     },
     "metadata": {},
     "output_type": "display_data"
    },
    {
     "data": {
      "text/plain": [
       "\">>>>>> iteration 3:O\""
      ]
     },
     "metadata": {},
     "output_type": "display_data"
    },
    {
     "data": {
      "text/plain": [
       "\">>>>>> iteration 4:O\""
      ]
     },
     "metadata": {},
     "output_type": "display_data"
    },
    {
     "data": {
      "text/plain": [
       "\">>>>>> iteration 5:O\""
      ]
     },
     "metadata": {},
     "output_type": "display_data"
    },
    {
     "data": {
      "text/plain": [
       "\">>>>>> iteration 6:O\""
      ]
     },
     "metadata": {},
     "output_type": "display_data"
    },
    {
     "data": {
      "text/plain": [
       "\">>>>>> iteration 7:O\""
      ]
     },
     "metadata": {},
     "output_type": "display_data"
    },
    {
     "data": {
      "text/plain": [
       "\">>>>>> iteration 8:O\""
      ]
     },
     "metadata": {},
     "output_type": "display_data"
    },
    {
     "data": {
      "text/plain": [
       "\">>>>>> iteration 9:O\""
      ]
     },
     "metadata": {},
     "output_type": "display_data"
    },
    {
     "data": {
      "text/plain": [
       "\">>>>>> iteration 10:O\""
      ]
     },
     "metadata": {},
     "output_type": "display_data"
    },
    {
     "data": {
      "text/plain": [
       "\">>>>>> iteration 11:O\""
      ]
     },
     "metadata": {},
     "output_type": "display_data"
    },
    {
     "data": {
      "text/plain": [
       "\">>>>>> iteration 12:O\""
      ]
     },
     "metadata": {},
     "output_type": "display_data"
    },
    {
     "data": {
      "text/plain": [
       "\">>>>>> iteration 13:O\""
      ]
     },
     "metadata": {},
     "output_type": "display_data"
    },
    {
     "data": {
      "text/plain": [
       "\">>>>>> iteration 14:O\""
      ]
     },
     "metadata": {},
     "output_type": "display_data"
    },
    {
     "data": {
      "text/plain": [
       "\">>>>>> iteration 15:O\""
      ]
     },
     "metadata": {},
     "output_type": "display_data"
    },
    {
     "data": {
      "text/plain": [
       "\">>>>>> iteration 16:O\""
      ]
     },
     "metadata": {},
     "output_type": "display_data"
    },
    {
     "data": {
      "text/plain": [
       "\"time M 11.418999910354614 | time D 79.38099932670593\""
      ]
     },
     "metadata": {},
     "output_type": "display_data"
    },
    {
     "data": {
      "text/plain": [
       "\"evaluating 21 scenarios| option 3\""
      ]
     },
     "metadata": {},
     "output_type": "display_data"
    },
    {
     "data": {
      "text/plain": [
       "\">>>>>> iteration 1:O\""
      ]
     },
     "metadata": {},
     "output_type": "display_data"
    },
    {
     "data": {
      "text/plain": [
       "\">>>>>> iteration 2:O\""
      ]
     },
     "metadata": {},
     "output_type": "display_data"
    },
    {
     "data": {
      "text/plain": [
       "\">>>>>> iteration 3:O\""
      ]
     },
     "metadata": {},
     "output_type": "display_data"
    },
    {
     "data": {
      "text/plain": [
       "\">>>>>> iteration 4:O\""
      ]
     },
     "metadata": {},
     "output_type": "display_data"
    },
    {
     "data": {
      "text/plain": [
       "\">>>>>> iteration 5:O\""
      ]
     },
     "metadata": {},
     "output_type": "display_data"
    },
    {
     "data": {
      "text/plain": [
       "\">>>>>> iteration 6:O\""
      ]
     },
     "metadata": {},
     "output_type": "display_data"
    },
    {
     "data": {
      "text/plain": [
       "\">>>>>> iteration 7:O\""
      ]
     },
     "metadata": {},
     "output_type": "display_data"
    },
    {
     "data": {
      "text/plain": [
       "\">>>>>> iteration 8:O\""
      ]
     },
     "metadata": {},
     "output_type": "display_data"
    },
    {
     "data": {
      "text/plain": [
       "\">>>>>> iteration 9:O\""
      ]
     },
     "metadata": {},
     "output_type": "display_data"
    },
    {
     "data": {
      "text/plain": [
       "\">>>>>> iteration 10:O\""
      ]
     },
     "metadata": {},
     "output_type": "display_data"
    },
    {
     "data": {
      "text/plain": [
       "\">>>>>> iteration 11:O\""
      ]
     },
     "metadata": {},
     "output_type": "display_data"
    },
    {
     "data": {
      "text/plain": [
       "\">>>>>> iteration 12:O\""
      ]
     },
     "metadata": {},
     "output_type": "display_data"
    },
    {
     "data": {
      "text/plain": [
       "\">>>>>> iteration 13:O\""
      ]
     },
     "metadata": {},
     "output_type": "display_data"
    },
    {
     "data": {
      "text/plain": [
       "\">>>>>> iteration 14:O\""
      ]
     },
     "metadata": {},
     "output_type": "display_data"
    },
    {
     "data": {
      "text/plain": [
       "\">>>>>> iteration 15:O\""
      ]
     },
     "metadata": {},
     "output_type": "display_data"
    },
    {
     "data": {
      "text/plain": [
       "\">>>>>> iteration 16:O\""
      ]
     },
     "metadata": {},
     "output_type": "display_data"
    },
    {
     "data": {
      "text/plain": [
       "\">>>>>> iteration 17:O\""
      ]
     },
     "metadata": {},
     "output_type": "display_data"
    },
    {
     "data": {
      "text/plain": [
       "\">>>>>> iteration 18:O\""
      ]
     },
     "metadata": {},
     "output_type": "display_data"
    },
    {
     "data": {
      "text/plain": [
       "\"time M 11.385999917984009 | time D 81.25899982452393\""
      ]
     },
     "metadata": {},
     "output_type": "display_data"
    },
    {
     "data": {
      "text/plain": [
       "\"evaluating 22 scenarios| option 3\""
      ]
     },
     "metadata": {},
     "output_type": "display_data"
    },
    {
     "data": {
      "text/plain": [
       "\">>>>>> iteration 1:O\""
      ]
     },
     "metadata": {},
     "output_type": "display_data"
    },
    {
     "data": {
      "text/plain": [
       "\">>>>>> iteration 2:O\""
      ]
     },
     "metadata": {},
     "output_type": "display_data"
    },
    {
     "data": {
      "text/plain": [
       "\">>>>>> iteration 3:O\""
      ]
     },
     "metadata": {},
     "output_type": "display_data"
    },
    {
     "data": {
      "text/plain": [
       "\">>>>>> iteration 4:O\""
      ]
     },
     "metadata": {},
     "output_type": "display_data"
    },
    {
     "data": {
      "text/plain": [
       "\">>>>>> iteration 5:O\""
      ]
     },
     "metadata": {},
     "output_type": "display_data"
    },
    {
     "data": {
      "text/plain": [
       "\">>>>>> iteration 6:O\""
      ]
     },
     "metadata": {},
     "output_type": "display_data"
    },
    {
     "data": {
      "text/plain": [
       "\">>>>>> iteration 7:O\""
      ]
     },
     "metadata": {},
     "output_type": "display_data"
    },
    {
     "data": {
      "text/plain": [
       "\">>>>>> iteration 8:O\""
      ]
     },
     "metadata": {},
     "output_type": "display_data"
    },
    {
     "data": {
      "text/plain": [
       "\">>>>>> iteration 9:O\""
      ]
     },
     "metadata": {},
     "output_type": "display_data"
    },
    {
     "data": {
      "text/plain": [
       "\">>>>>> iteration 10:O\""
      ]
     },
     "metadata": {},
     "output_type": "display_data"
    },
    {
     "data": {
      "text/plain": [
       "\">>>>>> iteration 11:O\""
      ]
     },
     "metadata": {},
     "output_type": "display_data"
    },
    {
     "data": {
      "text/plain": [
       "\">>>>>> iteration 12:O\""
      ]
     },
     "metadata": {},
     "output_type": "display_data"
    },
    {
     "data": {
      "text/plain": [
       "\">>>>>> iteration 13:O\""
      ]
     },
     "metadata": {},
     "output_type": "display_data"
    },
    {
     "data": {
      "text/plain": [
       "\">>>>>> iteration 14:F\""
      ]
     },
     "metadata": {},
     "output_type": "display_data"
    },
    {
     "data": {
      "text/plain": [
       "\">>>>>> iteration 15:O\""
      ]
     },
     "metadata": {},
     "output_type": "display_data"
    },
    {
     "data": {
      "text/plain": [
       "\">>>>>> iteration 16:O\""
      ]
     },
     "metadata": {},
     "output_type": "display_data"
    },
    {
     "data": {
      "text/plain": [
       "\">>>>>> iteration 17:O\""
      ]
     },
     "metadata": {},
     "output_type": "display_data"
    },
    {
     "data": {
      "text/plain": [
       "\">>>>>> iteration 18:O\""
      ]
     },
     "metadata": {},
     "output_type": "display_data"
    },
    {
     "data": {
      "text/plain": [
       "\">>>>>> iteration 19:O\""
      ]
     },
     "metadata": {},
     "output_type": "display_data"
    },
    {
     "data": {
      "text/plain": [
       "\">>>>>> iteration 20:O\""
      ]
     },
     "metadata": {},
     "output_type": "display_data"
    },
    {
     "data": {
      "text/plain": [
       "\">>>>>> iteration 21:O\""
      ]
     },
     "metadata": {},
     "output_type": "display_data"
    },
    {
     "data": {
      "text/plain": [
       "\">>>>>> iteration 22:O\""
      ]
     },
     "metadata": {},
     "output_type": "display_data"
    },
    {
     "data": {
      "text/plain": [
       "\">>>>>> iteration 23:O\""
      ]
     },
     "metadata": {},
     "output_type": "display_data"
    },
    {
     "data": {
      "text/plain": [
       "\">>>>>> iteration 24:O\""
      ]
     },
     "metadata": {},
     "output_type": "display_data"
    },
    {
     "data": {
      "text/plain": [
       "\"time M 11.567999839782715 | time D 107.82799935340881\""
      ]
     },
     "metadata": {},
     "output_type": "display_data"
    },
    {
     "data": {
      "text/plain": [
       "\"evaluating 23 scenarios| option 3\""
      ]
     },
     "metadata": {},
     "output_type": "display_data"
    },
    {
     "data": {
      "text/plain": [
       "\">>>>>> iteration 1:O\""
      ]
     },
     "metadata": {},
     "output_type": "display_data"
    },
    {
     "data": {
      "text/plain": [
       "\">>>>>> iteration 2:O\""
      ]
     },
     "metadata": {},
     "output_type": "display_data"
    },
    {
     "data": {
      "text/plain": [
       "\">>>>>> iteration 3:O\""
      ]
     },
     "metadata": {},
     "output_type": "display_data"
    },
    {
     "data": {
      "text/plain": [
       "\">>>>>> iteration 4:O\""
      ]
     },
     "metadata": {},
     "output_type": "display_data"
    },
    {
     "data": {
      "text/plain": [
       "\">>>>>> iteration 5:O\""
      ]
     },
     "metadata": {},
     "output_type": "display_data"
    },
    {
     "data": {
      "text/plain": [
       "\">>>>>> iteration 6:O\""
      ]
     },
     "metadata": {},
     "output_type": "display_data"
    },
    {
     "data": {
      "text/plain": [
       "\">>>>>> iteration 7:O\""
      ]
     },
     "metadata": {},
     "output_type": "display_data"
    },
    {
     "data": {
      "text/plain": [
       "\">>>>>> iteration 8:O\""
      ]
     },
     "metadata": {},
     "output_type": "display_data"
    },
    {
     "data": {
      "text/plain": [
       "\">>>>>> iteration 9:O\""
      ]
     },
     "metadata": {},
     "output_type": "display_data"
    },
    {
     "data": {
      "text/plain": [
       "\">>>>>> iteration 10:O\""
      ]
     },
     "metadata": {},
     "output_type": "display_data"
    },
    {
     "data": {
      "text/plain": [
       "\">>>>>> iteration 11:O\""
      ]
     },
     "metadata": {},
     "output_type": "display_data"
    },
    {
     "data": {
      "text/plain": [
       "\">>>>>> iteration 12:F\""
      ]
     },
     "metadata": {},
     "output_type": "display_data"
    },
    {
     "data": {
      "text/plain": [
       "\">>>>>> iteration 13:O\""
      ]
     },
     "metadata": {},
     "output_type": "display_data"
    },
    {
     "data": {
      "text/plain": [
       "\">>>>>> iteration 14:O\""
      ]
     },
     "metadata": {},
     "output_type": "display_data"
    },
    {
     "data": {
      "text/plain": [
       "\">>>>>> iteration 15:O\""
      ]
     },
     "metadata": {},
     "output_type": "display_data"
    },
    {
     "data": {
      "text/plain": [
       "\">>>>>> iteration 16:O\""
      ]
     },
     "metadata": {},
     "output_type": "display_data"
    },
    {
     "data": {
      "text/plain": [
       "\">>>>>> iteration 17:O\""
      ]
     },
     "metadata": {},
     "output_type": "display_data"
    },
    {
     "data": {
      "text/plain": [
       "\">>>>>> iteration 18:O\""
      ]
     },
     "metadata": {},
     "output_type": "display_data"
    },
    {
     "data": {
      "text/plain": [
       "\">>>>>> iteration 19:O\""
      ]
     },
     "metadata": {},
     "output_type": "display_data"
    },
    {
     "data": {
      "text/plain": [
       "\">>>>>> iteration 20:O\""
      ]
     },
     "metadata": {},
     "output_type": "display_data"
    },
    {
     "data": {
      "text/plain": [
       "\"time M NaN | time D 99.8219997882843\""
      ]
     },
     "metadata": {},
     "output_type": "display_data"
    },
    {
     "data": {
      "text/plain": [
       "\"evaluating 24 scenarios| option 3\""
      ]
     },
     "metadata": {},
     "output_type": "display_data"
    },
    {
     "data": {
      "text/plain": [
       "\">>>>>> iteration 1:O\""
      ]
     },
     "metadata": {},
     "output_type": "display_data"
    },
    {
     "data": {
      "text/plain": [
       "\">>>>>> iteration 2:O\""
      ]
     },
     "metadata": {},
     "output_type": "display_data"
    },
    {
     "data": {
      "text/plain": [
       "\">>>>>> iteration 3:O\""
      ]
     },
     "metadata": {},
     "output_type": "display_data"
    },
    {
     "data": {
      "text/plain": [
       "\">>>>>> iteration 4:O\""
      ]
     },
     "metadata": {},
     "output_type": "display_data"
    },
    {
     "data": {
      "text/plain": [
       "\">>>>>> iteration 5:O\""
      ]
     },
     "metadata": {},
     "output_type": "display_data"
    },
    {
     "data": {
      "text/plain": [
       "\">>>>>> iteration 6:O\""
      ]
     },
     "metadata": {},
     "output_type": "display_data"
    },
    {
     "data": {
      "text/plain": [
       "\">>>>>> iteration 7:O\""
      ]
     },
     "metadata": {},
     "output_type": "display_data"
    },
    {
     "data": {
      "text/plain": [
       "\">>>>>> iteration 8:O\""
      ]
     },
     "metadata": {},
     "output_type": "display_data"
    },
    {
     "data": {
      "text/plain": [
       "\">>>>>> iteration 9:O\""
      ]
     },
     "metadata": {},
     "output_type": "display_data"
    },
    {
     "data": {
      "text/plain": [
       "\">>>>>> iteration 10:O\""
      ]
     },
     "metadata": {},
     "output_type": "display_data"
    },
    {
     "data": {
      "text/plain": [
       "\">>>>>> iteration 11:F\""
      ]
     },
     "metadata": {},
     "output_type": "display_data"
    },
    {
     "data": {
      "text/plain": [
       "\">>>>>> iteration 12:O\""
      ]
     },
     "metadata": {},
     "output_type": "display_data"
    },
    {
     "data": {
      "text/plain": [
       "\">>>>>> iteration 13:O\""
      ]
     },
     "metadata": {},
     "output_type": "display_data"
    },
    {
     "data": {
      "text/plain": [
       "\">>>>>> iteration 14:O\""
      ]
     },
     "metadata": {},
     "output_type": "display_data"
    },
    {
     "data": {
      "text/plain": [
       "\">>>>>> iteration 15:O\""
      ]
     },
     "metadata": {},
     "output_type": "display_data"
    },
    {
     "data": {
      "text/plain": [
       "\">>>>>> iteration 16:O\""
      ]
     },
     "metadata": {},
     "output_type": "display_data"
    },
    {
     "data": {
      "text/plain": [
       "\">>>>>> iteration 17:O\""
      ]
     },
     "metadata": {},
     "output_type": "display_data"
    },
    {
     "data": {
      "text/plain": [
       "\"time M 14.21999979019165 | time D 89.53099918365479\""
      ]
     },
     "metadata": {},
     "output_type": "display_data"
    },
    {
     "data": {
      "text/plain": [
       "\"evaluating 25 scenarios| option 3\""
      ]
     },
     "metadata": {},
     "output_type": "display_data"
    },
    {
     "data": {
      "text/plain": [
       "\">>>>>> iteration 1:O\""
      ]
     },
     "metadata": {},
     "output_type": "display_data"
    },
    {
     "data": {
      "text/plain": [
       "\">>>>>> iteration 2:O\""
      ]
     },
     "metadata": {},
     "output_type": "display_data"
    },
    {
     "data": {
      "text/plain": [
       "\">>>>>> iteration 3:O\""
      ]
     },
     "metadata": {},
     "output_type": "display_data"
    },
    {
     "data": {
      "text/plain": [
       "\">>>>>> iteration 4:O\""
      ]
     },
     "metadata": {},
     "output_type": "display_data"
    },
    {
     "data": {
      "text/plain": [
       "\">>>>>> iteration 5:O\""
      ]
     },
     "metadata": {},
     "output_type": "display_data"
    },
    {
     "data": {
      "text/plain": [
       "\">>>>>> iteration 6:O\""
      ]
     },
     "metadata": {},
     "output_type": "display_data"
    },
    {
     "data": {
      "text/plain": [
       "\">>>>>> iteration 7:O\""
      ]
     },
     "metadata": {},
     "output_type": "display_data"
    },
    {
     "data": {
      "text/plain": [
       "\">>>>>> iteration 8:O\""
      ]
     },
     "metadata": {},
     "output_type": "display_data"
    },
    {
     "data": {
      "text/plain": [
       "\">>>>>> iteration 9:O\""
      ]
     },
     "metadata": {},
     "output_type": "display_data"
    },
    {
     "data": {
      "text/plain": [
       "\">>>>>> iteration 10:O\""
      ]
     },
     "metadata": {},
     "output_type": "display_data"
    },
    {
     "data": {
      "text/plain": [
       "\">>>>>> iteration 11:O\""
      ]
     },
     "metadata": {},
     "output_type": "display_data"
    },
    {
     "data": {
      "text/plain": [
       "\">>>>>> iteration 12:O\""
      ]
     },
     "metadata": {},
     "output_type": "display_data"
    },
    {
     "data": {
      "text/plain": [
       "\">>>>>> iteration 13:O\""
      ]
     },
     "metadata": {},
     "output_type": "display_data"
    },
    {
     "data": {
      "text/plain": [
       "\">>>>>> iteration 14:O\""
      ]
     },
     "metadata": {},
     "output_type": "display_data"
    },
    {
     "data": {
      "text/plain": [
       "\">>>>>> iteration 15:O\""
      ]
     },
     "metadata": {},
     "output_type": "display_data"
    },
    {
     "data": {
      "text/plain": [
       "\">>>>>> iteration 16:O\""
      ]
     },
     "metadata": {},
     "output_type": "display_data"
    },
    {
     "data": {
      "text/plain": [
       "\">>>>>> iteration 17:F\""
      ]
     },
     "metadata": {},
     "output_type": "display_data"
    },
    {
     "data": {
      "text/plain": [
       "\">>>>>> iteration 18:O\""
      ]
     },
     "metadata": {},
     "output_type": "display_data"
    },
    {
     "data": {
      "text/plain": [
       "\"time M 8.950000047683716 | time D 110.31800079345703\""
      ]
     },
     "metadata": {},
     "output_type": "display_data"
    },
    {
     "data": {
      "text/plain": [
       "\"evaluating 26 scenarios| option 3\""
      ]
     },
     "metadata": {},
     "output_type": "display_data"
    },
    {
     "data": {
      "text/plain": [
       "\">>>>>> iteration 1:O\""
      ]
     },
     "metadata": {},
     "output_type": "display_data"
    },
    {
     "data": {
      "text/plain": [
       "\">>>>>> iteration 2:O\""
      ]
     },
     "metadata": {},
     "output_type": "display_data"
    },
    {
     "data": {
      "text/plain": [
       "\">>>>>> iteration 3:O\""
      ]
     },
     "metadata": {},
     "output_type": "display_data"
    },
    {
     "data": {
      "text/plain": [
       "\">>>>>> iteration 4:O\""
      ]
     },
     "metadata": {},
     "output_type": "display_data"
    },
    {
     "data": {
      "text/plain": [
       "\">>>>>> iteration 5:O\""
      ]
     },
     "metadata": {},
     "output_type": "display_data"
    },
    {
     "data": {
      "text/plain": [
       "\">>>>>> iteration 6:O\""
      ]
     },
     "metadata": {},
     "output_type": "display_data"
    },
    {
     "data": {
      "text/plain": [
       "\">>>>>> iteration 7:O\""
      ]
     },
     "metadata": {},
     "output_type": "display_data"
    },
    {
     "data": {
      "text/plain": [
       "\">>>>>> iteration 8:O\""
      ]
     },
     "metadata": {},
     "output_type": "display_data"
    },
    {
     "data": {
      "text/plain": [
       "\">>>>>> iteration 9:O\""
      ]
     },
     "metadata": {},
     "output_type": "display_data"
    },
    {
     "data": {
      "text/plain": [
       "\">>>>>> iteration 10:O\""
      ]
     },
     "metadata": {},
     "output_type": "display_data"
    },
    {
     "data": {
      "text/plain": [
       "\">>>>>> iteration 11:O\""
      ]
     },
     "metadata": {},
     "output_type": "display_data"
    },
    {
     "data": {
      "text/plain": [
       "\">>>>>> iteration 12:O\""
      ]
     },
     "metadata": {},
     "output_type": "display_data"
    },
    {
     "data": {
      "text/plain": [
       "\">>>>>> iteration 13:O\""
      ]
     },
     "metadata": {},
     "output_type": "display_data"
    },
    {
     "data": {
      "text/plain": [
       "\">>>>>> iteration 14:O\""
      ]
     },
     "metadata": {},
     "output_type": "display_data"
    },
    {
     "data": {
      "text/plain": [
       "\">>>>>> iteration 15:O\""
      ]
     },
     "metadata": {},
     "output_type": "display_data"
    },
    {
     "data": {
      "text/plain": [
       "\">>>>>> iteration 16:O\""
      ]
     },
     "metadata": {},
     "output_type": "display_data"
    },
    {
     "data": {
      "text/plain": [
       "\">>>>>> iteration 17:O\""
      ]
     },
     "metadata": {},
     "output_type": "display_data"
    },
    {
     "data": {
      "text/plain": [
       "\">>>>>> iteration 18:F\""
      ]
     },
     "metadata": {},
     "output_type": "display_data"
    },
    {
     "data": {
      "text/plain": [
       "\">>>>>> iteration 19:F\""
      ]
     },
     "metadata": {},
     "output_type": "display_data"
    },
    {
     "data": {
      "text/plain": [
       "\">>>>>> iteration 20:O\""
      ]
     },
     "metadata": {},
     "output_type": "display_data"
    },
    {
     "data": {
      "text/plain": [
       "\"time M 12.402000188827515 | time D 128.6259994506836\""
      ]
     },
     "metadata": {},
     "output_type": "display_data"
    },
    {
     "data": {
      "text/plain": [
       "\"evaluating 27 scenarios| option 3\""
      ]
     },
     "metadata": {},
     "output_type": "display_data"
    },
    {
     "data": {
      "text/plain": [
       "\">>>>>> iteration 1:O\""
      ]
     },
     "metadata": {},
     "output_type": "display_data"
    },
    {
     "data": {
      "text/plain": [
       "\">>>>>> iteration 2:O\""
      ]
     },
     "metadata": {},
     "output_type": "display_data"
    },
    {
     "data": {
      "text/plain": [
       "\">>>>>> iteration 3:O\""
      ]
     },
     "metadata": {},
     "output_type": "display_data"
    },
    {
     "data": {
      "text/plain": [
       "\">>>>>> iteration 4:O\""
      ]
     },
     "metadata": {},
     "output_type": "display_data"
    },
    {
     "data": {
      "text/plain": [
       "\">>>>>> iteration 13:F\""
      ]
     },
     "metadata": {},
     "output_type": "display_data"
    },
    {
     "data": {
      "text/plain": [
       "\">>>>>> iteration 14:O\""
      ]
     },
     "metadata": {},
     "output_type": "display_data"
    },
    {
     "data": {
      "text/plain": [
       "\">>>>>> iteration 15:O\""
      ]
     },
     "metadata": {},
     "output_type": "display_data"
    },
    {
     "data": {
      "text/plain": [
       "\">>>>>> iteration 16:O\""
      ]
     },
     "metadata": {},
     "output_type": "display_data"
    },
    {
     "data": {
      "text/plain": [
       "\">>>>>> iteration 17:O\""
      ]
     },
     "metadata": {},
     "output_type": "display_data"
    },
    {
     "data": {
      "text/plain": [
       "\">>>>>> iteration 18:O\""
      ]
     },
     "metadata": {},
     "output_type": "display_data"
    },
    {
     "data": {
      "text/plain": [
       "\"time M 13.996999979019165 | time D 127.646000623703\""
      ]
     },
     "metadata": {},
     "output_type": "display_data"
    },
    {
     "data": {
      "text/plain": [
       "\"evaluating 28 scenarios| option 3\""
      ]
     },
     "metadata": {},
     "output_type": "display_data"
    },
    {
     "data": {
      "text/plain": [
       "\">>>>>> iteration 1:O\""
      ]
     },
     "metadata": {},
     "output_type": "display_data"
    },
    {
     "data": {
      "text/plain": [
       "\">>>>>> iteration 2:O\""
      ]
     },
     "metadata": {},
     "output_type": "display_data"
    },
    {
     "data": {
      "text/plain": [
       "\">>>>>> iteration 3:O\""
      ]
     },
     "metadata": {},
     "output_type": "display_data"
    },
    {
     "data": {
      "text/plain": [
       "\">>>>>> iteration 4:O\""
      ]
     },
     "metadata": {},
     "output_type": "display_data"
    },
    {
     "data": {
      "text/plain": [
       "\">>>>>> iteration 5:O\""
      ]
     },
     "metadata": {},
     "output_type": "display_data"
    },
    {
     "data": {
      "text/plain": [
       "\">>>>>> iteration 6:O\""
      ]
     },
     "metadata": {},
     "output_type": "display_data"
    },
    {
     "data": {
      "text/plain": [
       "\">>>>>> iteration 7:O\""
      ]
     },
     "metadata": {},
     "output_type": "display_data"
    },
    {
     "data": {
      "text/plain": [
       "\">>>>>> iteration 8:O\""
      ]
     },
     "metadata": {},
     "output_type": "display_data"
    },
    {
     "data": {
      "text/plain": [
       "\">>>>>> iteration 9:O\""
      ]
     },
     "metadata": {},
     "output_type": "display_data"
    },
    {
     "data": {
      "text/plain": [
       "\">>>>>> iteration 10:O\""
      ]
     },
     "metadata": {},
     "output_type": "display_data"
    },
    {
     "data": {
      "text/plain": [
       "\">>>>>> iteration 11:O\""
      ]
     },
     "metadata": {},
     "output_type": "display_data"
    },
    {
     "data": {
      "text/plain": [
       "\">>>>>> iteration 12:O\""
      ]
     },
     "metadata": {},
     "output_type": "display_data"
    },
    {
     "data": {
      "text/plain": [
       "\">>>>>> iteration 13:O\""
      ]
     },
     "metadata": {},
     "output_type": "display_data"
    },
    {
     "data": {
      "text/plain": [
       "\">>>>>> iteration 14:O\""
      ]
     },
     "metadata": {},
     "output_type": "display_data"
    },
    {
     "data": {
      "text/plain": [
       "\">>>>>> iteration 15:O\""
      ]
     },
     "metadata": {},
     "output_type": "display_data"
    },
    {
     "data": {
      "text/plain": [
       "\">>>>>> iteration 16:O\""
      ]
     },
     "metadata": {},
     "output_type": "display_data"
    },
    {
     "data": {
      "text/plain": [
       "\">>>>>> iteration 17:O\""
      ]
     },
     "metadata": {},
     "output_type": "display_data"
    },
    {
     "data": {
      "text/plain": [
       "\">>>>>> iteration 18:O\""
      ]
     },
     "metadata": {},
     "output_type": "display_data"
    },
    {
     "data": {
      "text/plain": [
       "\">>>>>> iteration 19:F\""
      ]
     },
     "metadata": {},
     "output_type": "display_data"
    },
    {
     "data": {
      "text/plain": [
       "\">>>>>> iteration 20:O\""
      ]
     },
     "metadata": {},
     "output_type": "display_data"
    },
    {
     "data": {
      "text/plain": [
       "\"time M 10.618000030517578 | time D 153.85100150108337\""
      ]
     },
     "metadata": {},
     "output_type": "display_data"
    },
    {
     "data": {
      "text/plain": [
       "\"evaluating 29 scenarios| option 3\""
      ]
     },
     "metadata": {},
     "output_type": "display_data"
    },
    {
     "data": {
      "text/plain": [
       "\">>>>>> iteration 1:O\""
      ]
     },
     "metadata": {},
     "output_type": "display_data"
    },
    {
     "data": {
      "text/plain": [
       "\">>>>>> iteration 2:O\""
      ]
     },
     "metadata": {},
     "output_type": "display_data"
    },
    {
     "data": {
      "text/plain": [
       "\">>>>>> iteration 3:O\""
      ]
     },
     "metadata": {},
     "output_type": "display_data"
    },
    {
     "data": {
      "text/plain": [
       "\">>>>>> iteration 4:O\""
      ]
     },
     "metadata": {},
     "output_type": "display_data"
    },
    {
     "data": {
      "text/plain": [
       "\">>>>>> iteration 5:O\""
      ]
     },
     "metadata": {},
     "output_type": "display_data"
    },
    {
     "data": {
      "text/plain": [
       "\">>>>>> iteration 6:O\""
      ]
     },
     "metadata": {},
     "output_type": "display_data"
    },
    {
     "data": {
      "text/plain": [
       "\">>>>>> iteration 7:O\""
      ]
     },
     "metadata": {},
     "output_type": "display_data"
    },
    {
     "data": {
      "text/plain": [
       "\">>>>>> iteration 8:O\""
      ]
     },
     "metadata": {},
     "output_type": "display_data"
    },
    {
     "data": {
      "text/plain": [
       "\">>>>>> iteration 9:O\""
      ]
     },
     "metadata": {},
     "output_type": "display_data"
    },
    {
     "data": {
      "text/plain": [
       "\">>>>>> iteration 10:O\""
      ]
     },
     "metadata": {},
     "output_type": "display_data"
    },
    {
     "data": {
      "text/plain": [
       "\">>>>>> iteration 11:O\""
      ]
     },
     "metadata": {},
     "output_type": "display_data"
    },
    {
     "data": {
      "text/plain": [
       "\">>>>>> iteration 12:O\""
      ]
     },
     "metadata": {},
     "output_type": "display_data"
    },
    {
     "data": {
      "text/plain": [
       "\">>>>>> iteration 13:O\""
      ]
     },
     "metadata": {},
     "output_type": "display_data"
    },
    {
     "data": {
      "text/plain": [
       "\">>>>>> iteration 14:O\""
      ]
     },
     "metadata": {},
     "output_type": "display_data"
    },
    {
     "data": {
      "text/plain": [
       "\">>>>>> iteration 15:O\""
      ]
     },
     "metadata": {},
     "output_type": "display_data"
    },
    {
     "data": {
      "text/plain": [
       "\">>>>>> iteration 16:O\""
      ]
     },
     "metadata": {},
     "output_type": "display_data"
    },
    {
     "data": {
      "text/plain": [
       "\">>>>>> iteration 17:O\""
      ]
     },
     "metadata": {},
     "output_type": "display_data"
    },
    {
     "data": {
      "text/plain": [
       "\">>>>>> iteration 18:O\""
      ]
     },
     "metadata": {},
     "output_type": "display_data"
    },
    {
     "data": {
      "text/plain": [
       "\">>>>>> iteration 19:O\""
      ]
     },
     "metadata": {},
     "output_type": "display_data"
    },
    {
     "data": {
      "text/plain": [
       "\">>>>>> iteration 20:O\""
      ]
     },
     "metadata": {},
     "output_type": "display_data"
    },
    {
     "data": {
      "text/plain": [
       "\">>>>>> iteration 21:F\""
      ]
     },
     "metadata": {},
     "output_type": "display_data"
    },
    {
     "data": {
      "text/plain": [
       "\">>>>>> iteration 22:O\""
      ]
     },
     "metadata": {},
     "output_type": "display_data"
    },
    {
     "data": {
      "text/plain": [
       "\"time M 15.611999988555908 | time D 179.9020013809204\""
      ]
     },
     "metadata": {},
     "output_type": "display_data"
    },
    {
     "data": {
      "text/plain": [
       "\"evaluating 30 scenarios| option 3\""
      ]
     },
     "metadata": {},
     "output_type": "display_data"
    },
    {
     "data": {
      "text/plain": [
       "\">>>>>> iteration 1:O\""
      ]
     },
     "metadata": {},
     "output_type": "display_data"
    },
    {
     "data": {
      "text/plain": [
       "\">>>>>> iteration 2:O\""
      ]
     },
     "metadata": {},
     "output_type": "display_data"
    },
    {
     "data": {
      "text/plain": [
       "\">>>>>> iteration 3:O\""
      ]
     },
     "metadata": {},
     "output_type": "display_data"
    },
    {
     "data": {
      "text/plain": [
       "\">>>>>> iteration 4:O\""
      ]
     },
     "metadata": {},
     "output_type": "display_data"
    },
    {
     "data": {
      "text/plain": [
       "\">>>>>> iteration 5:O\""
      ]
     },
     "metadata": {},
     "output_type": "display_data"
    },
    {
     "data": {
      "text/plain": [
       "\">>>>>> iteration 6:O\""
      ]
     },
     "metadata": {},
     "output_type": "display_data"
    },
    {
     "data": {
      "text/plain": [
       "\">>>>>> iteration 7:O\""
      ]
     },
     "metadata": {},
     "output_type": "display_data"
    },
    {
     "data": {
      "text/plain": [
       "\">>>>>> iteration 8:O\""
      ]
     },
     "metadata": {},
     "output_type": "display_data"
    },
    {
     "data": {
      "text/plain": [
       "\">>>>>> iteration 9:O\""
      ]
     },
     "metadata": {},
     "output_type": "display_data"
    },
    {
     "data": {
      "text/plain": [
       "\">>>>>> iteration 10:O\""
      ]
     },
     "metadata": {},
     "output_type": "display_data"
    },
    {
     "data": {
      "text/plain": [
       "\">>>>>> iteration 11:O\""
      ]
     },
     "metadata": {},
     "output_type": "display_data"
    },
    {
     "data": {
      "text/plain": [
       "\">>>>>> iteration 12:O\""
      ]
     },
     "metadata": {},
     "output_type": "display_data"
    },
    {
     "data": {
      "text/plain": [
       "\">>>>>> iteration 13:O\""
      ]
     },
     "metadata": {},
     "output_type": "display_data"
    },
    {
     "data": {
      "text/plain": [
       "\">>>>>> iteration 14:F\""
      ]
     },
     "metadata": {},
     "output_type": "display_data"
    },
    {
     "data": {
      "text/plain": [
       "\">>>>>> iteration 15:O\""
      ]
     },
     "metadata": {},
     "output_type": "display_data"
    },
    {
     "data": {
      "text/plain": [
       "\">>>>>> iteration 16:O\""
      ]
     },
     "metadata": {},
     "output_type": "display_data"
    },
    {
     "data": {
      "text/plain": [
       "\">>>>>> iteration 17:O\""
      ]
     },
     "metadata": {},
     "output_type": "display_data"
    },
    {
     "data": {
      "text/plain": [
       "\">>>>>> iteration 18:O\""
      ]
     },
     "metadata": {},
     "output_type": "display_data"
    },
    {
     "data": {
      "text/plain": [
       "\">>>>>> iteration 19:O\""
      ]
     },
     "metadata": {},
     "output_type": "display_data"
    },
    {
     "data": {
      "text/plain": [
       "\">>>>>> iteration 20:O\""
      ]
     },
     "metadata": {},
     "output_type": "display_data"
    },
    {
     "data": {
      "text/plain": [
       "\">>>>>> iteration 21:O\""
      ]
     },
     "metadata": {},
     "output_type": "display_data"
    },
    {
     "data": {
      "text/plain": [
       "\">>>>>> iteration 22:O\""
      ]
     },
     "metadata": {},
     "output_type": "display_data"
    },
    {
     "data": {
      "text/plain": [
       "\">>>>>> iteration 23:O\""
      ]
     },
     "metadata": {},
     "output_type": "display_data"
    },
    {
     "data": {
      "text/plain": [
       "\">>>>>> iteration 24:O\""
      ]
     },
     "metadata": {},
     "output_type": "display_data"
    },
    {
     "data": {
      "text/plain": [
       "\"time M 15.727999925613403 | time D 220.3009958267212\""
      ]
     },
     "metadata": {},
     "output_type": "display_data"
    }
   ],
   "source": [
    "# testing the number of scenarios\n",
    "nScenMax = 30 # 30\n",
    "\n",
    "#preparing plot \n",
    "# --> monolithic vs. decomposed \n",
    "# solution time\n",
    "solTimeTraj_s = Matrix{Float64}(undef,2,nScenMax) \n",
    "# computed objective function\n",
    "solObjTraj_s = Matrix{Float64}(undef,2,nScenMax) \n",
    "# --> only decomposed\n",
    "# max solution time over all scenarios \n",
    "solTimeMaxTraj_s = Vector{Float64}(undef,nScenMax) \n",
    "# number of iterations\n",
    "iterTraj_s = Vector{Float64}(undef,nScenMax) \n",
    "# optimality gap\n",
    "optGapTraj_s = Vector{Float64}(undef,nScenMax) \n",
    "\n",
    "# number of reactors in parallel\n",
    "nReactors = 1\n",
    "# Number of states\n",
    "nx = 2*nReactors\n",
    "\n",
    "# Initial conditions (deviation form)\n",
    "xInit_0 = repeat([0.3583;0.6418] .- x0, outer = [nReactors,1])\n",
    "uInit_0 = 1.0 - u0;\n",
    "\n",
    "#option = 1 --> Unconstrained MPC\n",
    "#option = 2 --> Constrained MPC with binaries --> DOES NOT WORK YET!\n",
    "#option = 3 --> Constrained MPC with MPCC\n",
    "opti = 3\n",
    "    \n",
    "# Computing nominal solution #\n",
    "#number of scenarios \n",
    "scenNom = 1\n",
    "#equiprobable scenarios\n",
    "pNom = 1.0\n",
    "#number of reactors \n",
    "reacNom = 1\n",
    "# number of states of the nominal solution\n",
    "nx = 2*reacNom\n",
    "\n",
    "solNominal = MS_CLDRTO(x0,u0,reacNom,scenNom,pNom,0,opti); \n",
    "\n",
    "for ss = 1:nScenMax\n",
    "    display(\"evaluating $(ss) scenarios| option $(opti)\")\n",
    "\n",
    "    #number os scenarios\n",
    "    nScen = ss\n",
    "    #equiprobable scenarios\n",
    "    pScen = 1.0/nScen\n",
    "       \n",
    "    # solving monolithical problem \n",
    "    sol_m_Dict = MS_CLDRTO(xInit_0,uInit_0,nReactors,nScen,pScen,solNominal,opti)\n",
    "\n",
    "    # solving decomposed problem\n",
    "    sol_d_Dict = BENS_CLDRTO(xInit_0,uInit_0,nReactors,nScen,pScen,solNominal,opti)\n",
    "    \n",
    "    # for plotting\n",
    "    display(\"time M $(sol_m_Dict['t']) | time D $(sol_d_Dict['t'])\")\n",
    "    solTimeTraj_s[1,ss] = sol_m_Dict['t']\n",
    "    solTimeTraj_s[2,ss] = sol_d_Dict['t']\n",
    "    solObjTraj_s[1,ss] = sol_m_Dict['ϕ']\n",
    "    solObjTraj_s[2,ss] = sol_d_Dict['ϕ']\n",
    "    \n",
    "    solTimeMaxTraj_s[ss] = sol_d_Dict['m']\n",
    "    iterTraj_s[ss] = sol_d_Dict['i'] \n",
    "    optGapTraj_s[ss] = sol_d_Dict['g']\n",
    "end\n"
   ]
  },
  {
   "cell_type": "code",
   "execution_count": 15,
   "id": "06275755",
   "metadata": {},
   "outputs": [
    {
     "data": {
      "image/svg+xml": [
       "<?xml version=\"1.0\" encoding=\"utf-8\"?>\n",
       "<svg xmlns=\"http://www.w3.org/2000/svg\" xmlns:xlink=\"http://www.w3.org/1999/xlink\" width=\"600\" height=\"400\" viewBox=\"0 0 2400 1600\">\n",
       "<defs>\n",
       "  <clipPath id=\"clip620\">\n",
       "    <rect x=\"0\" y=\"0\" width=\"2400\" height=\"1600\"/>\n",
       "  </clipPath>\n",
       "</defs>\n",
       "<path clip-path=\"url(#clip620)\" d=\"M0 1600 L2400 1600 L2400 0 L0 0  Z\" fill=\"#ffffff\" fill-rule=\"evenodd\" fill-opacity=\"1\"/>\n",
       "<defs>\n",
       "  <clipPath id=\"clip621\">\n",
       "    <rect x=\"480\" y=\"0\" width=\"1681\" height=\"1600\"/>\n",
       "  </clipPath>\n",
       "</defs>\n",
       "<path clip-path=\"url(#clip620)\" d=\"M234.125 1423.18 L2352.76 1423.18 L2352.76 47.2441 L234.125 47.2441  Z\" fill=\"#ffffff\" fill-rule=\"evenodd\" fill-opacity=\"1\"/>\n",
       "<defs>\n",
       "  <clipPath id=\"clip622\">\n",
       "    <rect x=\"234\" y=\"47\" width=\"2120\" height=\"1377\"/>\n",
       "  </clipPath>\n",
       "</defs>\n",
       "<polyline clip-path=\"url(#clip622)\" style=\"stroke:#000000; stroke-linecap:round; stroke-linejoin:round; stroke-width:8; stroke-opacity:0.1; fill:none\" points=\"569.771,1423.18 569.771,47.2441 \"/>\n",
       "<polyline clip-path=\"url(#clip622)\" style=\"stroke:#000000; stroke-linecap:round; stroke-linejoin:round; stroke-width:8; stroke-opacity:0.1; fill:none\" points=\"914.375,1423.18 914.375,47.2441 \"/>\n",
       "<polyline clip-path=\"url(#clip622)\" style=\"stroke:#000000; stroke-linecap:round; stroke-linejoin:round; stroke-width:8; stroke-opacity:0.1; fill:none\" points=\"1258.98,1423.18 1258.98,47.2441 \"/>\n",
       "<polyline clip-path=\"url(#clip622)\" style=\"stroke:#000000; stroke-linecap:round; stroke-linejoin:round; stroke-width:8; stroke-opacity:0.1; fill:none\" points=\"1603.59,1423.18 1603.59,47.2441 \"/>\n",
       "<polyline clip-path=\"url(#clip622)\" style=\"stroke:#000000; stroke-linecap:round; stroke-linejoin:round; stroke-width:8; stroke-opacity:0.1; fill:none\" points=\"1948.19,1423.18 1948.19,47.2441 \"/>\n",
       "<polyline clip-path=\"url(#clip622)\" style=\"stroke:#000000; stroke-linecap:round; stroke-linejoin:round; stroke-width:8; stroke-opacity:0.1; fill:none\" points=\"2292.79,1423.18 2292.79,47.2441 \"/>\n",
       "<polyline clip-path=\"url(#clip620)\" style=\"stroke:#000000; stroke-linecap:round; stroke-linejoin:round; stroke-width:4; stroke-opacity:1; fill:none\" points=\"234.125,1423.18 2352.76,1423.18 \"/>\n",
       "<polyline clip-path=\"url(#clip620)\" style=\"stroke:#000000; stroke-linecap:round; stroke-linejoin:round; stroke-width:4; stroke-opacity:1; fill:none\" points=\"569.771,1423.18 569.771,1404.28 \"/>\n",
       "<polyline clip-path=\"url(#clip620)\" style=\"stroke:#000000; stroke-linecap:round; stroke-linejoin:round; stroke-width:4; stroke-opacity:1; fill:none\" points=\"914.375,1423.18 914.375,1404.28 \"/>\n",
       "<polyline clip-path=\"url(#clip620)\" style=\"stroke:#000000; stroke-linecap:round; stroke-linejoin:round; stroke-width:4; stroke-opacity:1; fill:none\" points=\"1258.98,1423.18 1258.98,1404.28 \"/>\n",
       "<polyline clip-path=\"url(#clip620)\" style=\"stroke:#000000; stroke-linecap:round; stroke-linejoin:round; stroke-width:4; stroke-opacity:1; fill:none\" points=\"1603.59,1423.18 1603.59,1404.28 \"/>\n",
       "<polyline clip-path=\"url(#clip620)\" style=\"stroke:#000000; stroke-linecap:round; stroke-linejoin:round; stroke-width:4; stroke-opacity:1; fill:none\" points=\"1948.19,1423.18 1948.19,1404.28 \"/>\n",
       "<polyline clip-path=\"url(#clip620)\" style=\"stroke:#000000; stroke-linecap:round; stroke-linejoin:round; stroke-width:4; stroke-opacity:1; fill:none\" points=\"2292.79,1423.18 2292.79,1404.28 \"/>\n",
       "<path clip-path=\"url(#clip620)\" d=\"M560.048 1451.02 L578.405 1451.02 L578.405 1454.96 L564.331 1454.96 L564.331 1463.43 Q565.349 1463.08 566.368 1462.92 Q567.386 1462.73 568.405 1462.73 Q574.192 1462.73 577.571 1465.9 Q580.951 1469.08 580.951 1474.49 Q580.951 1480.07 577.479 1483.17 Q574.007 1486.25 567.687 1486.25 Q565.511 1486.25 563.243 1485.88 Q560.997 1485.51 558.59 1484.77 L558.59 1480.07 Q560.673 1481.2 562.896 1481.76 Q565.118 1482.32 567.595 1482.32 Q571.599 1482.32 573.937 1480.21 Q576.275 1478.1 576.275 1474.49 Q576.275 1470.88 573.937 1468.77 Q571.599 1466.67 567.595 1466.67 Q565.72 1466.67 563.845 1467.08 Q561.993 1467.5 560.048 1468.38 L560.048 1451.02 Z\" fill=\"#000000\" fill-rule=\"evenodd\" fill-opacity=\"1\" /><path clip-path=\"url(#clip620)\" d=\"M889.063 1481.64 L896.702 1481.64 L896.702 1455.28 L888.392 1456.95 L888.392 1452.69 L896.656 1451.02 L901.331 1451.02 L901.331 1481.64 L908.97 1481.64 L908.97 1485.58 L889.063 1485.58 L889.063 1481.64 Z\" fill=\"#000000\" fill-rule=\"evenodd\" fill-opacity=\"1\" /><path clip-path=\"url(#clip620)\" d=\"M928.415 1454.1 Q924.804 1454.1 922.975 1457.66 Q921.169 1461.2 921.169 1468.33 Q921.169 1475.44 922.975 1479.01 Q924.804 1482.55 928.415 1482.55 Q932.049 1482.55 933.854 1479.01 Q935.683 1475.44 935.683 1468.33 Q935.683 1461.2 933.854 1457.66 Q932.049 1454.1 928.415 1454.1 M928.415 1450.39 Q934.225 1450.39 937.28 1455 Q940.359 1459.58 940.359 1468.33 Q940.359 1477.06 937.28 1481.67 Q934.225 1486.25 928.415 1486.25 Q922.604 1486.25 919.526 1481.67 Q916.47 1477.06 916.47 1468.33 Q916.47 1459.58 919.526 1455 Q922.604 1450.39 928.415 1450.39 Z\" fill=\"#000000\" fill-rule=\"evenodd\" fill-opacity=\"1\" /><path clip-path=\"url(#clip620)\" d=\"M1234.17 1481.64 L1241.8 1481.64 L1241.8 1455.28 L1233.49 1456.95 L1233.49 1452.69 L1241.76 1451.02 L1246.43 1451.02 L1246.43 1481.64 L1254.07 1481.64 L1254.07 1485.58 L1234.17 1485.58 L1234.17 1481.64 Z\" fill=\"#000000\" fill-rule=\"evenodd\" fill-opacity=\"1\" /><path clip-path=\"url(#clip620)\" d=\"M1263.56 1451.02 L1281.92 1451.02 L1281.92 1454.96 L1267.85 1454.96 L1267.85 1463.43 Q1268.86 1463.08 1269.88 1462.92 Q1270.9 1462.73 1271.92 1462.73 Q1277.71 1462.73 1281.09 1465.9 Q1284.47 1469.08 1284.47 1474.49 Q1284.47 1480.07 1280.99 1483.17 Q1277.52 1486.25 1271.2 1486.25 Q1269.03 1486.25 1266.76 1485.88 Q1264.51 1485.51 1262.11 1484.77 L1262.11 1480.07 Q1264.19 1481.2 1266.41 1481.76 Q1268.63 1482.32 1271.11 1482.32 Q1275.11 1482.32 1277.45 1480.21 Q1279.79 1478.1 1279.79 1474.49 Q1279.79 1470.88 1277.45 1468.77 Q1275.11 1466.67 1271.11 1466.67 Q1269.23 1466.67 1267.36 1467.08 Q1265.51 1467.5 1263.56 1468.38 L1263.56 1451.02 Z\" fill=\"#000000\" fill-rule=\"evenodd\" fill-opacity=\"1\" /><path clip-path=\"url(#clip620)\" d=\"M1582.36 1481.64 L1598.68 1481.64 L1598.68 1485.58 L1576.73 1485.58 L1576.73 1481.64 Q1579.4 1478.89 1583.98 1474.26 Q1588.59 1469.61 1589.77 1468.27 Q1592.01 1465.74 1592.89 1464.01 Q1593.79 1462.25 1593.79 1460.56 Q1593.79 1457.8 1591.85 1456.07 Q1589.93 1454.33 1586.83 1454.33 Q1584.63 1454.33 1582.17 1455.09 Q1579.74 1455.86 1576.96 1457.41 L1576.96 1452.69 Q1579.79 1451.55 1582.24 1450.97 Q1584.7 1450.39 1586.73 1450.39 Q1592.1 1450.39 1595.3 1453.08 Q1598.49 1455.77 1598.49 1460.26 Q1598.49 1462.39 1597.68 1464.31 Q1596.9 1466.2 1594.79 1468.8 Q1594.21 1469.47 1591.11 1472.69 Q1588.01 1475.88 1582.36 1481.64 Z\" fill=\"#000000\" fill-rule=\"evenodd\" fill-opacity=\"1\" /><path clip-path=\"url(#clip620)\" d=\"M1618.49 1454.1 Q1614.88 1454.1 1613.05 1457.66 Q1611.25 1461.2 1611.25 1468.33 Q1611.25 1475.44 1613.05 1479.01 Q1614.88 1482.55 1618.49 1482.55 Q1622.13 1482.55 1623.93 1479.01 Q1625.76 1475.44 1625.76 1468.33 Q1625.76 1461.2 1623.93 1457.66 Q1622.13 1454.1 1618.49 1454.1 M1618.49 1450.39 Q1624.3 1450.39 1627.36 1455 Q1630.44 1459.58 1630.44 1468.33 Q1630.44 1477.06 1627.36 1481.67 Q1624.3 1486.25 1618.49 1486.25 Q1612.68 1486.25 1609.6 1481.67 Q1606.55 1477.06 1606.55 1468.33 Q1606.55 1459.58 1609.6 1455 Q1612.68 1450.39 1618.49 1450.39 Z\" fill=\"#000000\" fill-rule=\"evenodd\" fill-opacity=\"1\" /><path clip-path=\"url(#clip620)\" d=\"M1927.46 1481.64 L1943.78 1481.64 L1943.78 1485.58 L1921.84 1485.58 L1921.84 1481.64 Q1924.5 1478.89 1929.08 1474.26 Q1933.69 1469.61 1934.87 1468.27 Q1937.11 1465.74 1937.99 1464.01 Q1938.9 1462.25 1938.9 1460.56 Q1938.9 1457.8 1936.95 1456.07 Q1935.03 1454.33 1931.93 1454.33 Q1929.73 1454.33 1927.28 1455.09 Q1924.85 1455.86 1922.07 1457.41 L1922.07 1452.69 Q1924.89 1451.55 1927.35 1450.97 Q1929.8 1450.39 1931.84 1450.39 Q1937.21 1450.39 1940.4 1453.08 Q1943.59 1455.77 1943.59 1460.26 Q1943.59 1462.39 1942.78 1464.31 Q1942 1466.2 1939.89 1468.8 Q1939.31 1469.47 1936.21 1472.69 Q1933.11 1475.88 1927.46 1481.64 Z\" fill=\"#000000\" fill-rule=\"evenodd\" fill-opacity=\"1\" /><path clip-path=\"url(#clip620)\" d=\"M1953.64 1451.02 L1972 1451.02 L1972 1454.96 L1957.92 1454.96 L1957.92 1463.43 Q1958.94 1463.08 1959.96 1462.92 Q1960.98 1462.73 1962 1462.73 Q1967.78 1462.73 1971.16 1465.9 Q1974.54 1469.08 1974.54 1474.49 Q1974.54 1480.07 1971.07 1483.17 Q1967.6 1486.25 1961.28 1486.25 Q1959.1 1486.25 1956.84 1485.88 Q1954.59 1485.51 1952.18 1484.77 L1952.18 1480.07 Q1954.27 1481.2 1956.49 1481.76 Q1958.71 1482.32 1961.19 1482.32 Q1965.19 1482.32 1967.53 1480.21 Q1969.87 1478.1 1969.87 1474.49 Q1969.87 1470.88 1967.53 1468.77 Q1965.19 1466.67 1961.19 1466.67 Q1959.31 1466.67 1957.44 1467.08 Q1955.59 1467.5 1953.64 1468.38 L1953.64 1451.02 Z\" fill=\"#000000\" fill-rule=\"evenodd\" fill-opacity=\"1\" /><path clip-path=\"url(#clip620)\" d=\"M2281.64 1466.95 Q2284.99 1467.66 2286.87 1469.93 Q2288.77 1472.2 2288.77 1475.53 Q2288.77 1480.65 2285.25 1483.45 Q2281.73 1486.25 2275.25 1486.25 Q2273.07 1486.25 2270.76 1485.81 Q2268.47 1485.39 2266.01 1484.54 L2266.01 1480.02 Q2267.96 1481.16 2270.27 1481.74 Q2272.59 1482.32 2275.11 1482.32 Q2279.51 1482.32 2281.8 1480.58 Q2284.11 1478.84 2284.11 1475.53 Q2284.11 1472.48 2281.96 1470.77 Q2279.83 1469.03 2276.01 1469.03 L2271.98 1469.03 L2271.98 1465.19 L2276.2 1465.19 Q2279.65 1465.19 2281.48 1463.82 Q2283.3 1462.43 2283.3 1459.84 Q2283.3 1457.18 2281.41 1455.77 Q2279.53 1454.33 2276.01 1454.33 Q2274.09 1454.33 2271.89 1454.75 Q2269.69 1455.16 2267.05 1456.04 L2267.05 1451.88 Q2269.72 1451.14 2272.03 1450.77 Q2274.37 1450.39 2276.43 1450.39 Q2281.75 1450.39 2284.85 1452.83 Q2287.96 1455.23 2287.96 1459.35 Q2287.96 1462.22 2286.31 1464.21 Q2284.67 1466.18 2281.64 1466.95 Z\" fill=\"#000000\" fill-rule=\"evenodd\" fill-opacity=\"1\" /><path clip-path=\"url(#clip620)\" d=\"M2307.63 1454.1 Q2304.02 1454.1 2302.19 1457.66 Q2300.39 1461.2 2300.39 1468.33 Q2300.39 1475.44 2302.19 1479.01 Q2304.02 1482.55 2307.63 1482.55 Q2311.27 1482.55 2313.07 1479.01 Q2314.9 1475.44 2314.9 1468.33 Q2314.9 1461.2 2313.07 1457.66 Q2311.27 1454.1 2307.63 1454.1 M2307.63 1450.39 Q2313.44 1450.39 2316.5 1455 Q2319.58 1459.58 2319.58 1468.33 Q2319.58 1477.06 2316.5 1481.67 Q2313.44 1486.25 2307.63 1486.25 Q2301.82 1486.25 2298.74 1481.67 Q2295.69 1477.06 2295.69 1468.33 Q2295.69 1459.58 2298.74 1455 Q2301.82 1450.39 2307.63 1450.39 Z\" fill=\"#000000\" fill-rule=\"evenodd\" fill-opacity=\"1\" /><path clip-path=\"url(#clip620)\" d=\"M1133.22 1539.37 L1123.95 1539.37 L1121.28 1550 L1130.61 1550 L1133.22 1539.37 M1128.44 1521.26 L1125.13 1534.46 L1134.43 1534.46 L1137.77 1521.26 L1142.86 1521.26 L1139.58 1534.46 L1149.51 1534.46 L1149.51 1539.37 L1138.34 1539.37 L1135.73 1550 L1145.85 1550 L1145.85 1554.87 L1134.49 1554.87 L1131.18 1568.04 L1126.09 1568.04 L1129.36 1554.87 L1120.04 1554.87 L1116.76 1568.04 L1111.64 1568.04 L1114.95 1554.87 L1104.92 1554.87 L1104.92 1550 L1116.12 1550 L1118.8 1539.37 L1108.55 1539.37 L1108.55 1534.46 L1120.04 1534.46 L1123.29 1521.26 L1128.44 1521.26 Z\" fill=\"#000000\" fill-rule=\"evenodd\" fill-opacity=\"1\" /><path clip-path=\"url(#clip620)\" d=\"M1204.1 1533.45 L1204.1 1538.98 Q1201.62 1537.71 1198.94 1537.07 Q1196.27 1536.44 1193.4 1536.44 Q1189.04 1536.44 1186.85 1537.77 Q1184.68 1539.11 1184.68 1541.79 Q1184.68 1543.82 1186.24 1545 Q1187.8 1546.15 1192.51 1547.2 L1194.52 1547.64 Q1200.76 1548.98 1203.37 1551.43 Q1206.01 1553.85 1206.01 1558.21 Q1206.01 1563.17 1202.06 1566.07 Q1198.15 1568.97 1191.27 1568.97 Q1188.41 1568.97 1185.29 1568.39 Q1182.2 1567.85 1178.76 1566.74 L1178.76 1560.69 Q1182.01 1562.38 1185.16 1563.24 Q1188.31 1564.07 1191.4 1564.07 Q1195.54 1564.07 1197.76 1562.66 Q1199.99 1561.23 1199.99 1558.65 Q1199.99 1556.27 1198.37 1554.99 Q1196.78 1553.72 1191.33 1552.54 L1189.3 1552.07 Q1183.86 1550.92 1181.44 1548.56 Q1179.02 1546.18 1179.02 1542.04 Q1179.02 1537.01 1182.58 1534.27 Q1186.15 1531.54 1192.7 1531.54 Q1195.95 1531.54 1198.81 1532.01 Q1201.68 1532.49 1204.1 1533.45 Z\" fill=\"#000000\" fill-rule=\"evenodd\" fill-opacity=\"1\" /><path clip-path=\"url(#clip620)\" d=\"M1240.99 1533.76 L1240.99 1539.24 Q1238.5 1537.87 1235.99 1537.2 Q1233.51 1536.5 1230.96 1536.5 Q1225.26 1536.5 1222.11 1540.13 Q1218.96 1543.73 1218.96 1550.25 Q1218.96 1556.78 1222.11 1560.4 Q1225.26 1564 1230.96 1564 Q1233.51 1564 1235.99 1563.33 Q1238.5 1562.63 1240.99 1561.26 L1240.99 1566.68 Q1238.54 1567.82 1235.89 1568.39 Q1233.28 1568.97 1230.32 1568.97 Q1222.27 1568.97 1217.53 1563.91 Q1212.79 1558.85 1212.79 1550.25 Q1212.79 1541.53 1217.56 1536.53 Q1222.37 1531.54 1230.71 1531.54 Q1233.41 1531.54 1235.99 1532.11 Q1238.57 1532.65 1240.99 1533.76 Z\" fill=\"#000000\" fill-rule=\"evenodd\" fill-opacity=\"1\" /><path clip-path=\"url(#clip620)\" d=\"M1281.66 1548.76 L1281.66 1551.62 L1254.74 1551.62 Q1255.12 1557.67 1258.37 1560.85 Q1261.64 1564 1267.47 1564 Q1270.84 1564 1273.99 1563.17 Q1277.18 1562.35 1280.3 1560.69 L1280.3 1566.23 Q1277.14 1567.57 1273.83 1568.27 Q1270.52 1568.97 1267.12 1568.97 Q1258.59 1568.97 1253.59 1564 Q1248.63 1559.04 1248.63 1550.57 Q1248.63 1541.82 1253.34 1536.69 Q1258.08 1531.54 1266.1 1531.54 Q1273.29 1531.54 1277.46 1536.18 Q1281.66 1540.8 1281.66 1548.76 M1275.81 1547.04 Q1275.74 1542.23 1273.1 1539.37 Q1270.49 1536.5 1266.16 1536.5 Q1261.26 1536.5 1258.3 1539.27 Q1255.37 1542.04 1254.93 1547.07 L1275.81 1547.04 Z\" fill=\"#000000\" fill-rule=\"evenodd\" fill-opacity=\"1\" /><path clip-path=\"url(#clip620)\" d=\"M1320.91 1546.53 L1320.91 1568.04 L1315.05 1568.04 L1315.05 1546.72 Q1315.05 1541.66 1313.08 1539.14 Q1311.11 1536.63 1307.16 1536.63 Q1302.42 1536.63 1299.68 1539.65 Q1296.94 1542.68 1296.94 1547.9 L1296.94 1568.04 L1291.05 1568.04 L1291.05 1532.4 L1296.94 1532.4 L1296.94 1537.93 Q1299.04 1534.72 1301.88 1533.13 Q1304.74 1531.54 1308.46 1531.54 Q1314.61 1531.54 1317.76 1535.36 Q1320.91 1539.14 1320.91 1546.53 Z\" fill=\"#000000\" fill-rule=\"evenodd\" fill-opacity=\"1\" /><path clip-path=\"url(#clip620)\" d=\"M1348.79 1550.12 Q1341.69 1550.12 1338.96 1551.75 Q1336.22 1553.37 1336.22 1557.29 Q1336.22 1560.4 1338.26 1562.25 Q1340.32 1564.07 1343.86 1564.07 Q1348.73 1564.07 1351.66 1560.63 Q1354.62 1557.16 1354.62 1551.43 L1354.62 1550.12 L1348.79 1550.12 M1360.47 1547.71 L1360.47 1568.04 L1354.62 1568.04 L1354.62 1562.63 Q1352.61 1565.88 1349.62 1567.44 Q1346.63 1568.97 1342.3 1568.97 Q1336.82 1568.97 1333.58 1565.91 Q1330.36 1562.82 1330.36 1557.67 Q1330.36 1551.65 1334.37 1548.6 Q1338.41 1545.54 1346.4 1545.54 L1354.62 1545.54 L1354.62 1544.97 Q1354.62 1540.93 1351.94 1538.73 Q1349.3 1536.5 1344.49 1536.5 Q1341.44 1536.5 1338.54 1537.23 Q1335.65 1537.97 1332.97 1539.43 L1332.97 1534.02 Q1336.19 1532.78 1339.21 1532.17 Q1342.23 1531.54 1345.1 1531.54 Q1352.83 1531.54 1356.65 1535.55 Q1360.47 1539.56 1360.47 1547.71 Z\" fill=\"#000000\" fill-rule=\"evenodd\" fill-opacity=\"1\" /><path clip-path=\"url(#clip620)\" d=\"M1393.19 1537.87 Q1392.2 1537.3 1391.03 1537.04 Q1389.88 1536.76 1388.48 1536.76 Q1383.52 1536.76 1380.84 1540 Q1378.2 1543.22 1378.2 1549.27 L1378.2 1568.04 L1372.31 1568.04 L1372.31 1532.4 L1378.2 1532.4 L1378.2 1537.93 Q1380.05 1534.69 1383.01 1533.13 Q1385.97 1531.54 1390.2 1531.54 Q1390.8 1531.54 1391.54 1531.63 Q1392.27 1531.7 1393.16 1531.85 L1393.19 1537.87 Z\" fill=\"#000000\" fill-rule=\"evenodd\" fill-opacity=\"1\" /><path clip-path=\"url(#clip620)\" d=\"M1399.33 1532.4 L1405.19 1532.4 L1405.19 1568.04 L1399.33 1568.04 L1399.33 1532.4 M1399.33 1518.52 L1405.19 1518.52 L1405.19 1525.93 L1399.33 1525.93 L1399.33 1518.52 Z\" fill=\"#000000\" fill-rule=\"evenodd\" fill-opacity=\"1\" /><path clip-path=\"url(#clip620)\" d=\"M1431.26 1536.5 Q1426.55 1536.5 1423.81 1540.19 Q1421.07 1543.85 1421.07 1550.25 Q1421.07 1556.65 1423.78 1560.34 Q1426.52 1564 1431.26 1564 Q1435.94 1564 1438.67 1560.31 Q1441.41 1556.62 1441.41 1550.25 Q1441.41 1543.92 1438.67 1540.23 Q1435.94 1536.5 1431.26 1536.5 M1431.26 1531.54 Q1438.9 1531.54 1443.26 1536.5 Q1447.62 1541.47 1447.62 1550.25 Q1447.62 1559 1443.26 1564 Q1438.9 1568.97 1431.26 1568.97 Q1423.59 1568.97 1419.23 1564 Q1414.9 1559 1414.9 1550.25 Q1414.9 1541.47 1419.23 1536.5 Q1423.59 1531.54 1431.26 1531.54 Z\" fill=\"#000000\" fill-rule=\"evenodd\" fill-opacity=\"1\" /><path clip-path=\"url(#clip620)\" d=\"M1480.05 1533.45 L1480.05 1538.98 Q1477.57 1537.71 1474.9 1537.07 Q1472.22 1536.44 1469.36 1536.44 Q1465 1536.44 1462.8 1537.77 Q1460.64 1539.11 1460.64 1541.79 Q1460.64 1543.82 1462.2 1545 Q1463.76 1546.15 1468.47 1547.2 L1470.47 1547.64 Q1476.71 1548.98 1479.32 1551.43 Q1481.96 1553.85 1481.96 1558.21 Q1481.96 1563.17 1478.01 1566.07 Q1474.1 1568.97 1467.22 1568.97 Q1464.36 1568.97 1461.24 1568.39 Q1458.15 1567.85 1454.72 1566.74 L1454.72 1560.69 Q1457.96 1562.38 1461.11 1563.24 Q1464.26 1564.07 1467.35 1564.07 Q1471.49 1564.07 1473.72 1562.66 Q1475.95 1561.23 1475.95 1558.65 Q1475.95 1556.27 1474.32 1554.99 Q1472.73 1553.72 1467.29 1552.54 L1465.25 1552.07 Q1459.81 1550.92 1457.39 1548.56 Q1454.97 1546.18 1454.97 1542.04 Q1454.97 1537.01 1458.54 1534.27 Q1462.1 1531.54 1468.66 1531.54 Q1471.9 1531.54 1474.77 1532.01 Q1477.63 1532.49 1480.05 1533.45 Z\" fill=\"#000000\" fill-rule=\"evenodd\" fill-opacity=\"1\" /><polyline clip-path=\"url(#clip622)\" style=\"stroke:#000000; stroke-linecap:round; stroke-linejoin:round; stroke-width:8; stroke-opacity:0.1; fill:none\" points=\"234.125,1385.44 2352.76,1385.44 \"/>\n",
       "<polyline clip-path=\"url(#clip622)\" style=\"stroke:#000000; stroke-linecap:round; stroke-linejoin:round; stroke-width:8; stroke-opacity:0.1; fill:none\" points=\"234.125,1090.56 2352.76,1090.56 \"/>\n",
       "<polyline clip-path=\"url(#clip622)\" style=\"stroke:#000000; stroke-linecap:round; stroke-linejoin:round; stroke-width:8; stroke-opacity:0.1; fill:none\" points=\"234.125,795.677 2352.76,795.677 \"/>\n",
       "<polyline clip-path=\"url(#clip622)\" style=\"stroke:#000000; stroke-linecap:round; stroke-linejoin:round; stroke-width:8; stroke-opacity:0.1; fill:none\" points=\"234.125,500.796 2352.76,500.796 \"/>\n",
       "<polyline clip-path=\"url(#clip622)\" style=\"stroke:#000000; stroke-linecap:round; stroke-linejoin:round; stroke-width:8; stroke-opacity:0.1; fill:none\" points=\"234.125,205.914 2352.76,205.914 \"/>\n",
       "<polyline clip-path=\"url(#clip620)\" style=\"stroke:#000000; stroke-linecap:round; stroke-linejoin:round; stroke-width:4; stroke-opacity:1; fill:none\" points=\"234.125,1423.18 234.125,47.2441 \"/>\n",
       "<polyline clip-path=\"url(#clip620)\" style=\"stroke:#000000; stroke-linecap:round; stroke-linejoin:round; stroke-width:4; stroke-opacity:1; fill:none\" points=\"234.125,1385.44 253.023,1385.44 \"/>\n",
       "<polyline clip-path=\"url(#clip620)\" style=\"stroke:#000000; stroke-linecap:round; stroke-linejoin:round; stroke-width:4; stroke-opacity:1; fill:none\" points=\"234.125,1090.56 253.023,1090.56 \"/>\n",
       "<polyline clip-path=\"url(#clip620)\" style=\"stroke:#000000; stroke-linecap:round; stroke-linejoin:round; stroke-width:4; stroke-opacity:1; fill:none\" points=\"234.125,795.677 253.023,795.677 \"/>\n",
       "<polyline clip-path=\"url(#clip620)\" style=\"stroke:#000000; stroke-linecap:round; stroke-linejoin:round; stroke-width:4; stroke-opacity:1; fill:none\" points=\"234.125,500.796 253.023,500.796 \"/>\n",
       "<polyline clip-path=\"url(#clip620)\" style=\"stroke:#000000; stroke-linecap:round; stroke-linejoin:round; stroke-width:4; stroke-opacity:1; fill:none\" points=\"234.125,205.914 253.023,205.914 \"/>\n",
       "<path clip-path=\"url(#clip620)\" d=\"M186.181 1371.24 Q182.57 1371.24 180.741 1374.8 Q178.936 1378.35 178.936 1385.48 Q178.936 1392.58 180.741 1396.15 Q182.57 1399.69 186.181 1399.69 Q189.815 1399.69 191.621 1396.15 Q193.45 1392.58 193.45 1385.48 Q193.45 1378.35 191.621 1374.8 Q189.815 1371.24 186.181 1371.24 M186.181 1367.54 Q191.991 1367.54 195.047 1372.14 Q198.125 1376.73 198.125 1385.48 Q198.125 1394.2 195.047 1398.81 Q191.991 1403.39 186.181 1403.39 Q180.371 1403.39 177.292 1398.81 Q174.237 1394.2 174.237 1385.48 Q174.237 1376.73 177.292 1372.14 Q180.371 1367.54 186.181 1367.54 Z\" fill=\"#000000\" fill-rule=\"evenodd\" fill-opacity=\"1\" /><path clip-path=\"url(#clip620)\" d=\"M146.066 1073.28 L164.422 1073.28 L164.422 1077.21 L150.348 1077.21 L150.348 1085.69 Q151.366 1085.34 152.385 1085.18 Q153.403 1084.99 154.422 1084.99 Q160.209 1084.99 163.589 1088.16 Q166.968 1091.33 166.968 1096.75 Q166.968 1102.33 163.496 1105.43 Q160.024 1108.51 153.704 1108.51 Q151.528 1108.51 149.26 1108.14 Q147.015 1107.77 144.607 1107.03 L144.607 1102.33 Q146.691 1103.46 148.913 1104.02 Q151.135 1104.58 153.612 1104.58 Q157.616 1104.58 159.954 1102.47 Q162.292 1100.36 162.292 1096.75 Q162.292 1093.14 159.954 1091.03 Q157.616 1088.93 153.612 1088.93 Q151.737 1088.93 149.862 1089.34 Q148.01 1089.76 146.066 1090.64 L146.066 1073.28 Z\" fill=\"#000000\" fill-rule=\"evenodd\" fill-opacity=\"1\" /><path clip-path=\"url(#clip620)\" d=\"M186.181 1076.36 Q182.57 1076.36 180.741 1079.92 Q178.936 1083.46 178.936 1090.59 Q178.936 1097.7 180.741 1101.27 Q182.57 1104.81 186.181 1104.81 Q189.815 1104.81 191.621 1101.27 Q193.45 1097.7 193.45 1090.59 Q193.45 1083.46 191.621 1079.92 Q189.815 1076.36 186.181 1076.36 M186.181 1072.65 Q191.991 1072.65 195.047 1077.26 Q198.125 1081.84 198.125 1090.59 Q198.125 1099.32 195.047 1103.93 Q191.991 1108.51 186.181 1108.51 Q180.371 1108.51 177.292 1103.93 Q174.237 1099.32 174.237 1090.59 Q174.237 1081.84 177.292 1077.26 Q180.371 1072.65 186.181 1072.65 Z\" fill=\"#000000\" fill-rule=\"evenodd\" fill-opacity=\"1\" /><path clip-path=\"url(#clip620)\" d=\"M116.668 809.022 L124.306 809.022 L124.306 782.657 L115.996 784.323 L115.996 780.064 L124.26 778.397 L128.936 778.397 L128.936 809.022 L136.575 809.022 L136.575 812.957 L116.668 812.957 L116.668 809.022 Z\" fill=\"#000000\" fill-rule=\"evenodd\" fill-opacity=\"1\" /><path clip-path=\"url(#clip620)\" d=\"M156.019 781.476 Q152.408 781.476 150.579 785.041 Q148.774 788.583 148.774 795.712 Q148.774 802.819 150.579 806.383 Q152.408 809.925 156.019 809.925 Q159.653 809.925 161.459 806.383 Q163.288 802.819 163.288 795.712 Q163.288 788.583 161.459 785.041 Q159.653 781.476 156.019 781.476 M156.019 777.773 Q161.829 777.773 164.885 782.379 Q167.964 786.962 167.964 795.712 Q167.964 804.439 164.885 809.045 Q161.829 813.629 156.019 813.629 Q150.209 813.629 147.13 809.045 Q144.075 804.439 144.075 795.712 Q144.075 786.962 147.13 782.379 Q150.209 777.773 156.019 777.773 Z\" fill=\"#000000\" fill-rule=\"evenodd\" fill-opacity=\"1\" /><path clip-path=\"url(#clip620)\" d=\"M186.181 781.476 Q182.57 781.476 180.741 785.041 Q178.936 788.583 178.936 795.712 Q178.936 802.819 180.741 806.383 Q182.57 809.925 186.181 809.925 Q189.815 809.925 191.621 806.383 Q193.45 802.819 193.45 795.712 Q193.45 788.583 191.621 785.041 Q189.815 781.476 186.181 781.476 M186.181 777.773 Q191.991 777.773 195.047 782.379 Q198.125 786.962 198.125 795.712 Q198.125 804.439 195.047 809.045 Q191.991 813.629 186.181 813.629 Q180.371 813.629 177.292 809.045 Q174.237 804.439 174.237 795.712 Q174.237 786.962 177.292 782.379 Q180.371 777.773 186.181 777.773 Z\" fill=\"#000000\" fill-rule=\"evenodd\" fill-opacity=\"1\" /><path clip-path=\"url(#clip620)\" d=\"M116.668 514.14 L124.306 514.14 L124.306 487.775 L115.996 489.441 L115.996 485.182 L124.26 483.516 L128.936 483.516 L128.936 514.14 L136.575 514.14 L136.575 518.076 L116.668 518.076 L116.668 514.14 Z\" fill=\"#000000\" fill-rule=\"evenodd\" fill-opacity=\"1\" /><path clip-path=\"url(#clip620)\" d=\"M146.066 483.516 L164.422 483.516 L164.422 487.451 L150.348 487.451 L150.348 495.923 Q151.366 495.576 152.385 495.414 Q153.403 495.228 154.422 495.228 Q160.209 495.228 163.589 498.4 Q166.968 501.571 166.968 506.988 Q166.968 512.566 163.496 515.668 Q160.024 518.747 153.704 518.747 Q151.528 518.747 149.26 518.376 Q147.015 518.006 144.607 517.265 L144.607 512.566 Q146.691 513.701 148.913 514.256 Q151.135 514.812 153.612 514.812 Q157.616 514.812 159.954 512.705 Q162.292 510.599 162.292 506.988 Q162.292 503.377 159.954 501.27 Q157.616 499.164 153.612 499.164 Q151.737 499.164 149.862 499.58 Q148.01 499.997 146.066 500.877 L146.066 483.516 Z\" fill=\"#000000\" fill-rule=\"evenodd\" fill-opacity=\"1\" /><path clip-path=\"url(#clip620)\" d=\"M186.181 486.594 Q182.57 486.594 180.741 490.159 Q178.936 493.701 178.936 500.83 Q178.936 507.937 180.741 511.502 Q182.57 515.043 186.181 515.043 Q189.815 515.043 191.621 511.502 Q193.45 507.937 193.45 500.83 Q193.45 493.701 191.621 490.159 Q189.815 486.594 186.181 486.594 M186.181 482.891 Q191.991 482.891 195.047 487.497 Q198.125 492.08 198.125 500.83 Q198.125 509.557 195.047 514.164 Q191.991 518.747 186.181 518.747 Q180.371 518.747 177.292 514.164 Q174.237 509.557 174.237 500.83 Q174.237 492.08 177.292 487.497 Q180.371 482.891 186.181 482.891 Z\" fill=\"#000000\" fill-rule=\"evenodd\" fill-opacity=\"1\" /><path clip-path=\"url(#clip620)\" d=\"M119.885 219.258 L136.204 219.258 L136.204 223.194 L114.26 223.194 L114.26 219.258 Q116.922 216.504 121.505 211.874 Q126.112 207.221 127.292 205.879 Q129.538 203.356 130.417 201.62 Q131.32 199.86 131.32 198.171 Q131.32 195.416 129.376 193.68 Q127.455 191.944 124.353 191.944 Q122.154 191.944 119.7 192.708 Q117.269 193.472 114.492 195.022 L114.492 190.3 Q117.316 189.166 119.769 188.587 Q122.223 188.009 124.26 188.009 Q129.63 188.009 132.825 190.694 Q136.019 193.379 136.019 197.87 Q136.019 199.999 135.209 201.921 Q134.422 203.819 132.316 206.411 Q131.737 207.083 128.635 210.3 Q125.533 213.495 119.885 219.258 Z\" fill=\"#000000\" fill-rule=\"evenodd\" fill-opacity=\"1\" /><path clip-path=\"url(#clip620)\" d=\"M156.019 191.712 Q152.408 191.712 150.579 195.277 Q148.774 198.819 148.774 205.948 Q148.774 213.055 150.579 216.62 Q152.408 220.161 156.019 220.161 Q159.653 220.161 161.459 216.62 Q163.288 213.055 163.288 205.948 Q163.288 198.819 161.459 195.277 Q159.653 191.712 156.019 191.712 M156.019 188.009 Q161.829 188.009 164.885 192.615 Q167.964 197.198 167.964 205.948 Q167.964 214.675 164.885 219.282 Q161.829 223.865 156.019 223.865 Q150.209 223.865 147.13 219.282 Q144.075 214.675 144.075 205.948 Q144.075 197.198 147.13 192.615 Q150.209 188.009 156.019 188.009 Z\" fill=\"#000000\" fill-rule=\"evenodd\" fill-opacity=\"1\" /><path clip-path=\"url(#clip620)\" d=\"M186.181 191.712 Q182.57 191.712 180.741 195.277 Q178.936 198.819 178.936 205.948 Q178.936 213.055 180.741 216.62 Q182.57 220.161 186.181 220.161 Q189.815 220.161 191.621 216.62 Q193.45 213.055 193.45 205.948 Q193.45 198.819 191.621 195.277 Q189.815 191.712 186.181 191.712 M186.181 188.009 Q191.991 188.009 195.047 192.615 Q198.125 197.198 198.125 205.948 Q198.125 214.675 195.047 219.282 Q191.991 223.865 186.181 223.865 Q180.371 223.865 177.292 219.282 Q174.237 214.675 174.237 205.948 Q174.237 197.198 177.292 192.615 Q180.371 188.009 186.181 188.009 Z\" fill=\"#000000\" fill-rule=\"evenodd\" fill-opacity=\"1\" /><path clip-path=\"url(#clip620)\" d=\"M29.4065 898.413 L34.9447 898.413 Q33.6716 900.895 33.035 903.569 Q32.3984 906.243 32.3984 909.107 Q32.3984 913.468 33.7352 915.664 Q35.072 917.828 37.7456 917.828 Q39.7826 917.828 40.9603 916.269 Q42.1061 914.709 43.1565 909.998 L43.6021 907.993 Q44.9389 901.755 47.3897 899.145 Q49.8086 896.503 54.1691 896.503 Q59.1344 896.503 62.0308 900.45 Q64.9272 904.365 64.9272 911.24 Q64.9272 914.104 64.3543 917.223 Q63.8132 920.311 62.6992 923.748 L56.6518 923.748 Q58.3387 920.502 59.198 917.351 Q60.0256 914.2 60.0256 911.112 Q60.0256 906.975 58.6251 904.747 Q57.1929 902.519 54.6147 902.519 Q52.2276 902.519 50.9545 904.142 Q49.6813 905.733 48.5037 911.176 L48.0262 913.213 Q46.8804 918.656 44.5251 921.075 Q42.138 923.494 38.0002 923.494 Q32.9713 923.494 30.2341 919.929 Q27.4968 916.364 27.4968 909.807 Q27.4968 906.561 27.9743 903.696 Q28.4517 900.832 29.4065 898.413 Z\" fill=\"#000000\" fill-rule=\"evenodd\" fill-opacity=\"1\" /><path clip-path=\"url(#clip620)\" d=\"M32.4621 873.364 Q32.4621 878.074 36.1542 880.812 Q39.8145 883.549 46.212 883.549 Q52.6095 883.549 56.3017 880.843 Q59.9619 878.106 59.9619 873.364 Q59.9619 868.685 56.2698 865.948 Q52.5777 863.21 46.212 863.21 Q39.8781 863.21 36.186 865.948 Q32.4621 868.685 32.4621 873.364 M27.4968 873.364 Q27.4968 865.725 32.4621 861.364 Q37.4273 857.004 46.212 857.004 Q54.9649 857.004 59.9619 861.364 Q64.9272 865.725 64.9272 873.364 Q64.9272 881.034 59.9619 885.395 Q54.9649 889.724 46.212 889.724 Q37.4273 889.724 32.4621 885.395 Q27.4968 881.034 27.4968 873.364 Z\" fill=\"#000000\" fill-rule=\"evenodd\" fill-opacity=\"1\" /><path clip-path=\"url(#clip620)\" d=\"M14.479 847.296 L14.479 841.44 L64.0042 841.44 L64.0042 847.296 L14.479 847.296 Z\" fill=\"#000000\" fill-rule=\"evenodd\" fill-opacity=\"1\" /><path clip-path=\"url(#clip620)\" d=\"M55.9197 828.358 L55.9197 821.642 L64.0042 821.642 L64.0042 828.358 L55.9197 828.358 Z\" fill=\"#000000\" fill-rule=\"evenodd\" fill-opacity=\"1\" /><path clip-path=\"url(#clip620)\" d=\"M18.2347 781.952 L28.3562 781.952 L28.3562 769.889 L32.9077 769.889 L32.9077 781.952 L52.2594 781.952 Q56.6199 781.952 57.8613 780.775 Q59.1026 779.565 59.1026 775.905 L59.1026 769.889 L64.0042 769.889 L64.0042 775.905 Q64.0042 782.684 61.4897 785.262 Q58.9434 787.84 52.2594 787.84 L32.9077 787.84 L32.9077 792.137 L28.3562 792.137 L28.3562 787.84 L18.2347 787.84 L18.2347 781.952 Z\" fill=\"#000000\" fill-rule=\"evenodd\" fill-opacity=\"1\" /><path clip-path=\"url(#clip620)\" d=\"M28.3562 762.187 L28.3562 756.33 L64.0042 756.33 L64.0042 762.187 L28.3562 762.187 M14.479 762.187 L14.479 756.33 L21.895 756.33 L21.895 762.187 L14.479 762.187 Z\" fill=\"#000000\" fill-rule=\"evenodd\" fill-opacity=\"1\" /><path clip-path=\"url(#clip620)\" d=\"M35.1993 716.322 Q31.2526 714.126 29.3747 711.07 Q27.4968 708.014 27.4968 703.877 Q27.4968 698.307 31.4117 695.283 Q35.2948 692.259 42.4881 692.259 L64.0042 692.259 L64.0042 698.148 L42.679 698.148 Q37.5546 698.148 35.072 699.962 Q32.5894 701.776 32.5894 705.5 Q32.5894 710.052 35.6131 712.693 Q38.6368 715.335 43.8567 715.335 L64.0042 715.335 L64.0042 721.223 L42.679 721.223 Q37.5228 721.223 35.072 723.038 Q32.5894 724.852 32.5894 728.639 Q32.5894 733.127 35.6449 735.769 Q38.6686 738.411 43.8567 738.411 L64.0042 738.411 L64.0042 744.299 L28.3562 744.299 L28.3562 738.411 L33.8944 738.411 Q30.616 736.406 29.0564 733.605 Q27.4968 730.804 27.4968 726.952 Q27.4968 723.069 29.4702 720.364 Q31.4436 717.627 35.1993 716.322 Z\" fill=\"#000000\" fill-rule=\"evenodd\" fill-opacity=\"1\" /><path clip-path=\"url(#clip620)\" d=\"M44.7161 650.087 L47.5806 650.087 L47.5806 677.013 Q53.6281 676.632 56.8109 673.385 Q59.9619 670.107 59.9619 664.282 Q59.9619 660.908 59.1344 657.757 Q58.3069 654.574 56.6518 651.455 L62.1899 651.455 Q63.5267 654.606 64.227 657.916 Q64.9272 661.227 64.9272 664.632 Q64.9272 673.162 59.9619 678.159 Q54.9967 683.125 46.5303 683.125 Q37.7774 683.125 32.6531 678.414 Q27.4968 673.671 27.4968 665.651 Q27.4968 658.457 32.1438 654.288 Q36.7589 650.087 44.7161 650.087 M42.9973 655.943 Q38.1912 656.007 35.3266 658.648 Q32.4621 661.258 32.4621 665.587 Q32.4621 670.489 35.2312 673.449 Q38.0002 676.377 43.0292 676.823 L42.9973 655.943 Z\" fill=\"#000000\" fill-rule=\"evenodd\" fill-opacity=\"1\" /><path clip-path=\"url(#clip620)\" d=\"M14.479 620.295 L14.479 606.8 L19.0304 606.8 L19.0304 614.439 L68.0464 614.439 L68.0464 606.8 L72.5979 606.8 L72.5979 620.295 L14.479 620.295 Z\" fill=\"#000000\" fill-rule=\"evenodd\" fill-opacity=\"1\" /><path clip-path=\"url(#clip620)\" d=\"M29.4065 571.597 L34.9447 571.597 Q33.6716 574.08 33.035 576.754 Q32.3984 579.427 32.3984 582.292 Q32.3984 586.652 33.7352 588.848 Q35.072 591.013 37.7456 591.013 Q39.7826 591.013 40.9603 589.453 Q42.1061 587.894 43.1565 583.183 L43.6021 581.178 Q44.9389 574.939 47.3897 572.329 Q49.8086 569.688 54.1691 569.688 Q59.1344 569.688 62.0308 573.634 Q64.9272 577.549 64.9272 584.424 Q64.9272 587.289 64.3543 590.408 Q63.8132 593.495 62.6992 596.933 L56.6518 596.933 Q58.3387 593.686 59.198 590.535 Q60.0256 587.384 60.0256 584.297 Q60.0256 580.159 58.6251 577.931 Q57.1929 575.703 54.6147 575.703 Q52.2276 575.703 50.9545 577.327 Q49.6813 578.918 48.5037 584.361 L48.0262 586.398 Q46.8804 591.84 44.5251 594.259 Q42.138 596.678 38.0002 596.678 Q32.9713 596.678 30.2341 593.113 Q27.4968 589.549 27.4968 582.992 Q27.4968 579.745 27.9743 576.881 Q28.4517 574.016 29.4065 571.597 Z\" fill=\"#000000\" fill-rule=\"evenodd\" fill-opacity=\"1\" /><path clip-path=\"url(#clip620)\" d=\"M14.479 546.676 L72.5979 546.676 L72.5979 560.171 L68.0464 560.171 L68.0464 552.564 L19.0304 552.564 L19.0304 560.171 L14.479 560.171 L14.479 546.676 Z\" fill=\"#000000\" fill-rule=\"evenodd\" fill-opacity=\"1\" /><polyline clip-path=\"url(#clip622)\" style=\"stroke:#009af9; stroke-linecap:round; stroke-linejoin:round; stroke-width:4; stroke-opacity:1; fill:none\" points=\"294.087,1384.24 363.008,1382.28 431.929,1381.1 500.85,1381.51 569.771,1377.93 638.692,1374 707.612,1375.34 776.533,1370.69 845.454,1364 914.375,1363.52 983.296,1362.44 1052.22,1357.32 1121.14,1353.63 1190.06,1333.35 1258.98,1355.76 1327.9,1351.67 1396.82,1354.2 1465.74,1331.18 1534.66,1361.2 1603.59,1318.1 1672.51,1318.29 1741.43,1317.22 \"/>\n",
       "<polyline clip-path=\"url(#clip622)\" style=\"stroke:#009af9; stroke-linecap:round; stroke-linejoin:round; stroke-width:4; stroke-opacity:1; fill:none\" points=\"1879.27,1301.58 1948.19,1332.66 2017.11,1312.3 2086.03,1302.89 2154.95,1322.82 2223.87,1293.37 2292.79,1292.68 \"/>\n",
       "<circle clip-path=\"url(#clip622)\" cx=\"294.087\" cy=\"1384.24\" r=\"14.4\" fill=\"#008000\" fill-rule=\"evenodd\" fill-opacity=\"1\" stroke=\"#000000\" stroke-opacity=\"1\" stroke-width=\"3.2\"/>\n",
       "<circle clip-path=\"url(#clip622)\" cx=\"363.008\" cy=\"1382.28\" r=\"14.4\" fill=\"#008000\" fill-rule=\"evenodd\" fill-opacity=\"1\" stroke=\"#000000\" stroke-opacity=\"1\" stroke-width=\"3.2\"/>\n",
       "<circle clip-path=\"url(#clip622)\" cx=\"431.929\" cy=\"1381.1\" r=\"14.4\" fill=\"#008000\" fill-rule=\"evenodd\" fill-opacity=\"1\" stroke=\"#000000\" stroke-opacity=\"1\" stroke-width=\"3.2\"/>\n",
       "<circle clip-path=\"url(#clip622)\" cx=\"500.85\" cy=\"1381.51\" r=\"14.4\" fill=\"#008000\" fill-rule=\"evenodd\" fill-opacity=\"1\" stroke=\"#000000\" stroke-opacity=\"1\" stroke-width=\"3.2\"/>\n",
       "<circle clip-path=\"url(#clip622)\" cx=\"569.771\" cy=\"1377.93\" r=\"14.4\" fill=\"#008000\" fill-rule=\"evenodd\" fill-opacity=\"1\" stroke=\"#000000\" stroke-opacity=\"1\" stroke-width=\"3.2\"/>\n",
       "<circle clip-path=\"url(#clip622)\" cx=\"638.692\" cy=\"1374\" r=\"14.4\" fill=\"#008000\" fill-rule=\"evenodd\" fill-opacity=\"1\" stroke=\"#000000\" stroke-opacity=\"1\" stroke-width=\"3.2\"/>\n",
       "<circle clip-path=\"url(#clip622)\" cx=\"707.612\" cy=\"1375.34\" r=\"14.4\" fill=\"#008000\" fill-rule=\"evenodd\" fill-opacity=\"1\" stroke=\"#000000\" stroke-opacity=\"1\" stroke-width=\"3.2\"/>\n",
       "<circle clip-path=\"url(#clip622)\" cx=\"776.533\" cy=\"1370.69\" r=\"14.4\" fill=\"#008000\" fill-rule=\"evenodd\" fill-opacity=\"1\" stroke=\"#000000\" stroke-opacity=\"1\" stroke-width=\"3.2\"/>\n",
       "<circle clip-path=\"url(#clip622)\" cx=\"845.454\" cy=\"1364\" r=\"14.4\" fill=\"#008000\" fill-rule=\"evenodd\" fill-opacity=\"1\" stroke=\"#000000\" stroke-opacity=\"1\" stroke-width=\"3.2\"/>\n",
       "<circle clip-path=\"url(#clip622)\" cx=\"914.375\" cy=\"1363.52\" r=\"14.4\" fill=\"#008000\" fill-rule=\"evenodd\" fill-opacity=\"1\" stroke=\"#000000\" stroke-opacity=\"1\" stroke-width=\"3.2\"/>\n",
       "<circle clip-path=\"url(#clip622)\" cx=\"983.296\" cy=\"1362.44\" r=\"14.4\" fill=\"#008000\" fill-rule=\"evenodd\" fill-opacity=\"1\" stroke=\"#000000\" stroke-opacity=\"1\" stroke-width=\"3.2\"/>\n",
       "<circle clip-path=\"url(#clip622)\" cx=\"1052.22\" cy=\"1357.32\" r=\"14.4\" fill=\"#008000\" fill-rule=\"evenodd\" fill-opacity=\"1\" stroke=\"#000000\" stroke-opacity=\"1\" stroke-width=\"3.2\"/>\n",
       "<circle clip-path=\"url(#clip622)\" cx=\"1121.14\" cy=\"1353.63\" r=\"14.4\" fill=\"#008000\" fill-rule=\"evenodd\" fill-opacity=\"1\" stroke=\"#000000\" stroke-opacity=\"1\" stroke-width=\"3.2\"/>\n",
       "<circle clip-path=\"url(#clip622)\" cx=\"1190.06\" cy=\"1333.35\" r=\"14.4\" fill=\"#008000\" fill-rule=\"evenodd\" fill-opacity=\"1\" stroke=\"#000000\" stroke-opacity=\"1\" stroke-width=\"3.2\"/>\n",
       "<circle clip-path=\"url(#clip622)\" cx=\"1258.98\" cy=\"1355.76\" r=\"14.4\" fill=\"#008000\" fill-rule=\"evenodd\" fill-opacity=\"1\" stroke=\"#000000\" stroke-opacity=\"1\" stroke-width=\"3.2\"/>\n",
       "<circle clip-path=\"url(#clip622)\" cx=\"1327.9\" cy=\"1351.67\" r=\"14.4\" fill=\"#008000\" fill-rule=\"evenodd\" fill-opacity=\"1\" stroke=\"#000000\" stroke-opacity=\"1\" stroke-width=\"3.2\"/>\n",
       "<circle clip-path=\"url(#clip622)\" cx=\"1396.82\" cy=\"1354.2\" r=\"14.4\" fill=\"#008000\" fill-rule=\"evenodd\" fill-opacity=\"1\" stroke=\"#000000\" stroke-opacity=\"1\" stroke-width=\"3.2\"/>\n",
       "<circle clip-path=\"url(#clip622)\" cx=\"1465.74\" cy=\"1331.18\" r=\"14.4\" fill=\"#008000\" fill-rule=\"evenodd\" fill-opacity=\"1\" stroke=\"#000000\" stroke-opacity=\"1\" stroke-width=\"3.2\"/>\n",
       "<circle clip-path=\"url(#clip622)\" cx=\"1534.66\" cy=\"1361.2\" r=\"14.4\" fill=\"#008000\" fill-rule=\"evenodd\" fill-opacity=\"1\" stroke=\"#000000\" stroke-opacity=\"1\" stroke-width=\"3.2\"/>\n",
       "<circle clip-path=\"url(#clip622)\" cx=\"1603.59\" cy=\"1318.1\" r=\"14.4\" fill=\"#008000\" fill-rule=\"evenodd\" fill-opacity=\"1\" stroke=\"#000000\" stroke-opacity=\"1\" stroke-width=\"3.2\"/>\n",
       "<circle clip-path=\"url(#clip622)\" cx=\"1672.51\" cy=\"1318.29\" r=\"14.4\" fill=\"#008000\" fill-rule=\"evenodd\" fill-opacity=\"1\" stroke=\"#000000\" stroke-opacity=\"1\" stroke-width=\"3.2\"/>\n",
       "<circle clip-path=\"url(#clip622)\" cx=\"1741.43\" cy=\"1317.22\" r=\"14.4\" fill=\"#008000\" fill-rule=\"evenodd\" fill-opacity=\"1\" stroke=\"#000000\" stroke-opacity=\"1\" stroke-width=\"3.2\"/>\n",
       "<circle clip-path=\"url(#clip622)\" cx=\"1879.27\" cy=\"1301.58\" r=\"14.4\" fill=\"#008000\" fill-rule=\"evenodd\" fill-opacity=\"1\" stroke=\"#000000\" stroke-opacity=\"1\" stroke-width=\"3.2\"/>\n",
       "<circle clip-path=\"url(#clip622)\" cx=\"1948.19\" cy=\"1332.66\" r=\"14.4\" fill=\"#008000\" fill-rule=\"evenodd\" fill-opacity=\"1\" stroke=\"#000000\" stroke-opacity=\"1\" stroke-width=\"3.2\"/>\n",
       "<circle clip-path=\"url(#clip622)\" cx=\"2017.11\" cy=\"1312.3\" r=\"14.4\" fill=\"#008000\" fill-rule=\"evenodd\" fill-opacity=\"1\" stroke=\"#000000\" stroke-opacity=\"1\" stroke-width=\"3.2\"/>\n",
       "<circle clip-path=\"url(#clip622)\" cx=\"2086.03\" cy=\"1302.89\" r=\"14.4\" fill=\"#008000\" fill-rule=\"evenodd\" fill-opacity=\"1\" stroke=\"#000000\" stroke-opacity=\"1\" stroke-width=\"3.2\"/>\n",
       "<circle clip-path=\"url(#clip622)\" cx=\"2154.95\" cy=\"1322.82\" r=\"14.4\" fill=\"#008000\" fill-rule=\"evenodd\" fill-opacity=\"1\" stroke=\"#000000\" stroke-opacity=\"1\" stroke-width=\"3.2\"/>\n",
       "<circle clip-path=\"url(#clip622)\" cx=\"2223.87\" cy=\"1293.37\" r=\"14.4\" fill=\"#008000\" fill-rule=\"evenodd\" fill-opacity=\"1\" stroke=\"#000000\" stroke-opacity=\"1\" stroke-width=\"3.2\"/>\n",
       "<circle clip-path=\"url(#clip622)\" cx=\"2292.79\" cy=\"1292.68\" r=\"14.4\" fill=\"#008000\" fill-rule=\"evenodd\" fill-opacity=\"1\" stroke=\"#000000\" stroke-opacity=\"1\" stroke-width=\"3.2\"/>\n",
       "<polyline clip-path=\"url(#clip622)\" style=\"stroke:#e26f46; stroke-linecap:round; stroke-linejoin:round; stroke-width:4; stroke-opacity:1; fill:none\" points=\"294.087,1362.41 363.008,1340.83 431.929,1299.45 500.85,1292.47 569.771,1244.62 638.692,1231.69 707.612,1191.59 776.533,1210.06 845.454,1142.46 914.375,1147.78 983.296,1128.34 1052.22,1044.58 1121.14,1019.35 1190.06,999.052 1258.98,972.035 1327.9,933.989 1396.82,815.346 1465.74,833.216 1534.66,877.537 1603.59,917.281 1672.51,906.205 1741.43,749.511 1810.35,796.727 1879.27,857.42 1948.19,734.826 2017.11,626.852 2086.03,632.631 2154.95,478.084 2223.87,324.444 2292.79,86.1857 \"/>\n",
       "<path clip-path=\"url(#clip622)\" d=\"M278.087 1346.41 L278.087 1378.41 L310.087 1378.41 L310.087 1346.41 L278.087 1346.41 Z\" fill=\"#ff0000\" fill-rule=\"evenodd\" fill-opacity=\"1\" stroke=\"#000000\" stroke-opacity=\"1\" stroke-width=\"3.2\"/>\n",
       "<path clip-path=\"url(#clip622)\" d=\"M347.008 1324.83 L347.008 1356.83 L379.008 1356.83 L379.008 1324.83 L347.008 1324.83 Z\" fill=\"#ff0000\" fill-rule=\"evenodd\" fill-opacity=\"1\" stroke=\"#000000\" stroke-opacity=\"1\" stroke-width=\"3.2\"/>\n",
       "<path clip-path=\"url(#clip622)\" d=\"M415.929 1283.45 L415.929 1315.45 L447.929 1315.45 L447.929 1283.45 L415.929 1283.45 Z\" fill=\"#ff0000\" fill-rule=\"evenodd\" fill-opacity=\"1\" stroke=\"#000000\" stroke-opacity=\"1\" stroke-width=\"3.2\"/>\n",
       "<path clip-path=\"url(#clip622)\" d=\"M484.85 1276.47 L484.85 1308.47 L516.85 1308.47 L516.85 1276.47 L484.85 1276.47 Z\" fill=\"#ff0000\" fill-rule=\"evenodd\" fill-opacity=\"1\" stroke=\"#000000\" stroke-opacity=\"1\" stroke-width=\"3.2\"/>\n",
       "<path clip-path=\"url(#clip622)\" d=\"M553.771 1228.62 L553.771 1260.62 L585.771 1260.62 L585.771 1228.62 L553.771 1228.62 Z\" fill=\"#ff0000\" fill-rule=\"evenodd\" fill-opacity=\"1\" stroke=\"#000000\" stroke-opacity=\"1\" stroke-width=\"3.2\"/>\n",
       "<path clip-path=\"url(#clip622)\" d=\"M622.692 1215.69 L622.692 1247.69 L654.692 1247.69 L654.692 1215.69 L622.692 1215.69 Z\" fill=\"#ff0000\" fill-rule=\"evenodd\" fill-opacity=\"1\" stroke=\"#000000\" stroke-opacity=\"1\" stroke-width=\"3.2\"/>\n",
       "<path clip-path=\"url(#clip622)\" d=\"M691.612 1175.59 L691.612 1207.59 L723.612 1207.59 L723.612 1175.59 L691.612 1175.59 Z\" fill=\"#ff0000\" fill-rule=\"evenodd\" fill-opacity=\"1\" stroke=\"#000000\" stroke-opacity=\"1\" stroke-width=\"3.2\"/>\n",
       "<path clip-path=\"url(#clip622)\" d=\"M760.533 1194.06 L760.533 1226.06 L792.533 1226.06 L792.533 1194.06 L760.533 1194.06 Z\" fill=\"#ff0000\" fill-rule=\"evenodd\" fill-opacity=\"1\" stroke=\"#000000\" stroke-opacity=\"1\" stroke-width=\"3.2\"/>\n",
       "<path clip-path=\"url(#clip622)\" d=\"M829.454 1126.46 L829.454 1158.46 L861.454 1158.46 L861.454 1126.46 L829.454 1126.46 Z\" fill=\"#ff0000\" fill-rule=\"evenodd\" fill-opacity=\"1\" stroke=\"#000000\" stroke-opacity=\"1\" stroke-width=\"3.2\"/>\n",
       "<path clip-path=\"url(#clip622)\" d=\"M898.375 1131.78 L898.375 1163.78 L930.375 1163.78 L930.375 1131.78 L898.375 1131.78 Z\" fill=\"#ff0000\" fill-rule=\"evenodd\" fill-opacity=\"1\" stroke=\"#000000\" stroke-opacity=\"1\" stroke-width=\"3.2\"/>\n",
       "<path clip-path=\"url(#clip622)\" d=\"M967.296 1112.34 L967.296 1144.34 L999.296 1144.34 L999.296 1112.34 L967.296 1112.34 Z\" fill=\"#ff0000\" fill-rule=\"evenodd\" fill-opacity=\"1\" stroke=\"#000000\" stroke-opacity=\"1\" stroke-width=\"3.2\"/>\n",
       "<path clip-path=\"url(#clip622)\" d=\"M1036.22 1028.58 L1036.22 1060.58 L1068.22 1060.58 L1068.22 1028.58 L1036.22 1028.58 Z\" fill=\"#ff0000\" fill-rule=\"evenodd\" fill-opacity=\"1\" stroke=\"#000000\" stroke-opacity=\"1\" stroke-width=\"3.2\"/>\n",
       "<path clip-path=\"url(#clip622)\" d=\"M1105.14 1003.35 L1105.14 1035.35 L1137.14 1035.35 L1137.14 1003.35 L1105.14 1003.35 Z\" fill=\"#ff0000\" fill-rule=\"evenodd\" fill-opacity=\"1\" stroke=\"#000000\" stroke-opacity=\"1\" stroke-width=\"3.2\"/>\n",
       "<path clip-path=\"url(#clip622)\" d=\"M1174.06 983.052 L1174.06 1015.05 L1206.06 1015.05 L1206.06 983.052 L1174.06 983.052 Z\" fill=\"#ff0000\" fill-rule=\"evenodd\" fill-opacity=\"1\" stroke=\"#000000\" stroke-opacity=\"1\" stroke-width=\"3.2\"/>\n",
       "<path clip-path=\"url(#clip622)\" d=\"M1242.98 956.035 L1242.98 988.035 L1274.98 988.035 L1274.98 956.035 L1242.98 956.035 Z\" fill=\"#ff0000\" fill-rule=\"evenodd\" fill-opacity=\"1\" stroke=\"#000000\" stroke-opacity=\"1\" stroke-width=\"3.2\"/>\n",
       "<path clip-path=\"url(#clip622)\" d=\"M1311.9 917.989 L1311.9 949.989 L1343.9 949.989 L1343.9 917.989 L1311.9 917.989 Z\" fill=\"#ff0000\" fill-rule=\"evenodd\" fill-opacity=\"1\" stroke=\"#000000\" stroke-opacity=\"1\" stroke-width=\"3.2\"/>\n",
       "<path clip-path=\"url(#clip622)\" d=\"M1380.82 799.346 L1380.82 831.346 L1412.82 831.346 L1412.82 799.346 L1380.82 799.346 Z\" fill=\"#ff0000\" fill-rule=\"evenodd\" fill-opacity=\"1\" stroke=\"#000000\" stroke-opacity=\"1\" stroke-width=\"3.2\"/>\n",
       "<path clip-path=\"url(#clip622)\" d=\"M1449.74 817.216 L1449.74 849.216 L1481.74 849.216 L1481.74 817.216 L1449.74 817.216 Z\" fill=\"#ff0000\" fill-rule=\"evenodd\" fill-opacity=\"1\" stroke=\"#000000\" stroke-opacity=\"1\" stroke-width=\"3.2\"/>\n",
       "<path clip-path=\"url(#clip622)\" d=\"M1518.66 861.537 L1518.66 893.537 L1550.66 893.537 L1550.66 861.537 L1518.66 861.537 Z\" fill=\"#ff0000\" fill-rule=\"evenodd\" fill-opacity=\"1\" stroke=\"#000000\" stroke-opacity=\"1\" stroke-width=\"3.2\"/>\n",
       "<path clip-path=\"url(#clip622)\" d=\"M1587.59 901.281 L1587.59 933.281 L1619.59 933.281 L1619.59 901.281 L1587.59 901.281 Z\" fill=\"#ff0000\" fill-rule=\"evenodd\" fill-opacity=\"1\" stroke=\"#000000\" stroke-opacity=\"1\" stroke-width=\"3.2\"/>\n",
       "<path clip-path=\"url(#clip622)\" d=\"M1656.51 890.205 L1656.51 922.205 L1688.51 922.205 L1688.51 890.205 L1656.51 890.205 Z\" fill=\"#ff0000\" fill-rule=\"evenodd\" fill-opacity=\"1\" stroke=\"#000000\" stroke-opacity=\"1\" stroke-width=\"3.2\"/>\n",
       "<path clip-path=\"url(#clip622)\" d=\"M1725.43 733.511 L1725.43 765.511 L1757.43 765.511 L1757.43 733.511 L1725.43 733.511 Z\" fill=\"#ff0000\" fill-rule=\"evenodd\" fill-opacity=\"1\" stroke=\"#000000\" stroke-opacity=\"1\" stroke-width=\"3.2\"/>\n",
       "<path clip-path=\"url(#clip622)\" d=\"M1794.35 780.727 L1794.35 812.727 L1826.35 812.727 L1826.35 780.727 L1794.35 780.727 Z\" fill=\"#ff0000\" fill-rule=\"evenodd\" fill-opacity=\"1\" stroke=\"#000000\" stroke-opacity=\"1\" stroke-width=\"3.2\"/>\n",
       "<path clip-path=\"url(#clip622)\" d=\"M1863.27 841.42 L1863.27 873.42 L1895.27 873.42 L1895.27 841.42 L1863.27 841.42 Z\" fill=\"#ff0000\" fill-rule=\"evenodd\" fill-opacity=\"1\" stroke=\"#000000\" stroke-opacity=\"1\" stroke-width=\"3.2\"/>\n",
       "<path clip-path=\"url(#clip622)\" d=\"M1932.19 718.826 L1932.19 750.826 L1964.19 750.826 L1964.19 718.826 L1932.19 718.826 Z\" fill=\"#ff0000\" fill-rule=\"evenodd\" fill-opacity=\"1\" stroke=\"#000000\" stroke-opacity=\"1\" stroke-width=\"3.2\"/>\n",
       "<path clip-path=\"url(#clip622)\" d=\"M2001.11 610.852 L2001.11 642.852 L2033.11 642.852 L2033.11 610.852 L2001.11 610.852 Z\" fill=\"#ff0000\" fill-rule=\"evenodd\" fill-opacity=\"1\" stroke=\"#000000\" stroke-opacity=\"1\" stroke-width=\"3.2\"/>\n",
       "<path clip-path=\"url(#clip622)\" d=\"M2070.03 616.631 L2070.03 648.631 L2102.03 648.631 L2102.03 616.631 L2070.03 616.631 Z\" fill=\"#ff0000\" fill-rule=\"evenodd\" fill-opacity=\"1\" stroke=\"#000000\" stroke-opacity=\"1\" stroke-width=\"3.2\"/>\n",
       "<path clip-path=\"url(#clip622)\" d=\"M2138.95 462.084 L2138.95 494.084 L2170.95 494.084 L2170.95 462.084 L2138.95 462.084 Z\" fill=\"#ff0000\" fill-rule=\"evenodd\" fill-opacity=\"1\" stroke=\"#000000\" stroke-opacity=\"1\" stroke-width=\"3.2\"/>\n",
       "<path clip-path=\"url(#clip622)\" d=\"M2207.87 308.444 L2207.87 340.444 L2239.87 340.444 L2239.87 308.444 L2207.87 308.444 Z\" fill=\"#ff0000\" fill-rule=\"evenodd\" fill-opacity=\"1\" stroke=\"#000000\" stroke-opacity=\"1\" stroke-width=\"3.2\"/>\n",
       "<path clip-path=\"url(#clip622)\" d=\"M2276.79 70.1857 L2276.79 102.186 L2308.79 102.186 L2308.79 70.1857 L2276.79 70.1857 Z\" fill=\"#ff0000\" fill-rule=\"evenodd\" fill-opacity=\"1\" stroke=\"#000000\" stroke-opacity=\"1\" stroke-width=\"3.2\"/>\n",
       "<path clip-path=\"url(#clip620)\" d=\"M304.746 248.629 L813.251 248.629 L813.251 93.1086 L304.746 93.1086  Z\" fill=\"#ffffff\" fill-rule=\"evenodd\" fill-opacity=\"1\"/>\n",
       "<polyline clip-path=\"url(#clip620)\" style=\"stroke:#000000; stroke-linecap:round; stroke-linejoin:round; stroke-width:4; stroke-opacity:1; fill:none\" points=\"304.746,248.629 813.251,248.629 813.251,93.1086 304.746,93.1086 304.746,248.629 \"/>\n",
       "<polyline clip-path=\"url(#clip620)\" style=\"stroke:#009af9; stroke-linecap:round; stroke-linejoin:round; stroke-width:4; stroke-opacity:1; fill:none\" points=\"328.287,144.949 469.529,144.949 \"/>\n",
       "<circle clip-path=\"url(#clip620)\" cx=\"398.908\" cy=\"144.949\" r=\"19.6169\" fill=\"#008000\" fill-rule=\"evenodd\" fill-opacity=\"1\" stroke=\"#000000\" stroke-opacity=\"1\" stroke-width=\"5.12\"/>\n",
       "<path clip-path=\"url(#clip620)\" d=\"M513.416 141.28 Q515.013 138.409 517.236 137.044 Q519.458 135.678 522.467 135.678 Q526.518 135.678 528.717 138.525 Q530.916 141.349 530.916 146.581 L530.916 162.229 L526.634 162.229 L526.634 146.719 Q526.634 142.993 525.314 141.187 Q523.995 139.382 521.287 139.382 Q517.976 139.382 516.055 141.581 Q514.134 143.78 514.134 147.576 L514.134 162.229 L509.851 162.229 L509.851 146.719 Q509.851 142.969 508.532 141.187 Q507.213 139.382 504.458 139.382 Q501.194 139.382 499.273 141.604 Q497.352 143.803 497.352 147.576 L497.352 162.229 L493.069 162.229 L493.069 136.303 L497.352 136.303 L497.352 140.331 Q498.81 137.946 500.847 136.812 Q502.884 135.678 505.685 135.678 Q508.509 135.678 510.476 137.113 Q512.467 138.548 513.416 141.28 Z\" fill=\"#000000\" fill-rule=\"evenodd\" fill-opacity=\"1\" /><path clip-path=\"url(#clip620)\" d=\"M549.458 139.289 Q546.032 139.289 544.041 141.974 Q542.05 144.636 542.05 149.289 Q542.05 153.942 544.018 156.627 Q546.009 159.289 549.458 159.289 Q552.861 159.289 554.851 156.604 Q556.842 153.918 556.842 149.289 Q556.842 144.682 554.851 141.997 Q552.861 139.289 549.458 139.289 M549.458 135.678 Q555.013 135.678 558.185 139.289 Q561.356 142.9 561.356 149.289 Q561.356 155.655 558.185 159.289 Q555.013 162.9 549.458 162.9 Q543.879 162.9 540.708 159.289 Q537.56 155.655 537.56 149.289 Q537.56 142.9 540.708 139.289 Q543.879 135.678 549.458 135.678 Z\" fill=\"#000000\" fill-rule=\"evenodd\" fill-opacity=\"1\" /><path clip-path=\"url(#clip620)\" d=\"M589.967 146.581 L589.967 162.229 L585.708 162.229 L585.708 146.719 Q585.708 143.039 584.272 141.21 Q582.837 139.382 579.967 139.382 Q576.518 139.382 574.527 141.581 Q572.536 143.78 572.536 147.576 L572.536 162.229 L568.254 162.229 L568.254 136.303 L572.536 136.303 L572.536 140.331 Q574.064 137.993 576.124 136.835 Q578.208 135.678 580.916 135.678 Q585.383 135.678 587.675 138.456 Q589.967 141.21 589.967 146.581 Z\" fill=\"#000000\" fill-rule=\"evenodd\" fill-opacity=\"1\" /><path clip-path=\"url(#clip620)\" d=\"M608.508 139.289 Q605.082 139.289 603.092 141.974 Q601.101 144.636 601.101 149.289 Q601.101 153.942 603.069 156.627 Q605.059 159.289 608.508 159.289 Q611.911 159.289 613.902 156.604 Q615.893 153.918 615.893 149.289 Q615.893 144.682 613.902 141.997 Q611.911 139.289 608.508 139.289 M608.508 135.678 Q614.064 135.678 617.235 139.289 Q620.406 142.9 620.406 149.289 Q620.406 155.655 617.235 159.289 Q614.064 162.9 608.508 162.9 Q602.93 162.9 599.758 159.289 Q596.61 155.655 596.61 149.289 Q596.61 142.9 599.758 139.289 Q602.93 135.678 608.508 135.678 Z\" fill=\"#000000\" fill-rule=\"evenodd\" fill-opacity=\"1\" /><path clip-path=\"url(#clip620)\" d=\"M627.467 126.21 L631.726 126.21 L631.726 162.229 L627.467 162.229 L627.467 126.21 Z\" fill=\"#000000\" fill-rule=\"evenodd\" fill-opacity=\"1\" /><path clip-path=\"url(#clip620)\" d=\"M640.638 136.303 L644.897 136.303 L644.897 162.229 L640.638 162.229 L640.638 136.303 M640.638 126.21 L644.897 126.21 L644.897 131.604 L640.638 131.604 L640.638 126.21 Z\" fill=\"#000000\" fill-rule=\"evenodd\" fill-opacity=\"1\" /><path clip-path=\"url(#clip620)\" d=\"M658.022 128.942 L658.022 136.303 L666.795 136.303 L666.795 139.613 L658.022 139.613 L658.022 153.687 Q658.022 156.858 658.878 157.761 Q659.758 158.664 662.42 158.664 L666.795 158.664 L666.795 162.229 L662.42 162.229 Q657.49 162.229 655.615 160.4 Q653.74 158.548 653.74 153.687 L653.74 139.613 L650.615 139.613 L650.615 136.303 L653.74 136.303 L653.74 128.942 L658.022 128.942 Z\" fill=\"#000000\" fill-rule=\"evenodd\" fill-opacity=\"1\" /><path clip-path=\"url(#clip620)\" d=\"M693.948 146.581 L693.948 162.229 L689.688 162.229 L689.688 146.719 Q689.688 143.039 688.253 141.21 Q686.818 139.382 683.948 139.382 Q680.499 139.382 678.508 141.581 Q676.517 143.78 676.517 147.576 L676.517 162.229 L672.235 162.229 L672.235 126.21 L676.517 126.21 L676.517 140.331 Q678.045 137.993 680.105 136.835 Q682.189 135.678 684.897 135.678 Q689.364 135.678 691.656 138.456 Q693.948 141.21 693.948 146.581 Z\" fill=\"#000000\" fill-rule=\"evenodd\" fill-opacity=\"1\" /><path clip-path=\"url(#clip620)\" d=\"M702.443 136.303 L706.702 136.303 L706.702 162.229 L702.443 162.229 L702.443 136.303 M702.443 126.21 L706.702 126.21 L706.702 131.604 L702.443 131.604 L702.443 126.21 Z\" fill=\"#000000\" fill-rule=\"evenodd\" fill-opacity=\"1\" /><path clip-path=\"url(#clip620)\" d=\"M734.272 137.298 L734.272 141.28 Q732.466 140.284 730.637 139.798 Q728.832 139.289 726.98 139.289 Q722.836 139.289 720.545 141.928 Q718.253 144.544 718.253 149.289 Q718.253 154.034 720.545 156.673 Q722.836 159.289 726.98 159.289 Q728.832 159.289 730.637 158.803 Q732.466 158.293 734.272 157.298 L734.272 161.233 Q732.489 162.067 730.568 162.483 Q728.67 162.9 726.517 162.9 Q720.661 162.9 717.211 159.219 Q713.762 155.539 713.762 149.289 Q713.762 142.946 717.235 139.312 Q720.73 135.678 726.795 135.678 Q728.762 135.678 730.637 136.095 Q732.512 136.488 734.272 137.298 Z\" fill=\"#000000\" fill-rule=\"evenodd\" fill-opacity=\"1\" /><polyline clip-path=\"url(#clip620)\" style=\"stroke:#e26f46; stroke-linecap:round; stroke-linejoin:round; stroke-width:4; stroke-opacity:1; fill:none\" points=\"328.287,196.789 469.529,196.789 \"/>\n",
       "<path clip-path=\"url(#clip620)\" d=\"M377.111 174.992 L377.111 218.585 L420.704 218.585 L420.704 174.992 L377.111 174.992 Z\" fill=\"#ff0000\" fill-rule=\"evenodd\" fill-opacity=\"1\" stroke=\"#000000\" stroke-opacity=\"1\" stroke-width=\"5.12\"/>\n",
       "<path clip-path=\"url(#clip620)\" d=\"M511.981 192.078 L511.981 178.05 L516.24 178.05 L516.24 214.069 L511.981 214.069 L511.981 210.18 Q510.639 212.495 508.578 213.629 Q506.541 214.74 503.671 214.74 Q498.972 214.74 496.009 210.99 Q493.069 207.24 493.069 201.129 Q493.069 195.018 496.009 191.268 Q498.972 187.518 503.671 187.518 Q506.541 187.518 508.578 188.652 Q510.639 189.763 511.981 192.078 M497.467 201.129 Q497.467 205.828 499.389 208.513 Q501.333 211.175 504.713 211.175 Q508.092 211.175 510.037 208.513 Q511.981 205.828 511.981 201.129 Q511.981 196.43 510.037 193.768 Q508.092 191.083 504.713 191.083 Q501.333 191.083 499.389 193.768 Q497.467 196.43 497.467 201.129 Z\" fill=\"#000000\" fill-rule=\"evenodd\" fill-opacity=\"1\" /><path clip-path=\"url(#clip620)\" d=\"M547.189 200.041 L547.189 202.124 L527.606 202.124 Q527.884 206.522 530.245 208.837 Q532.629 211.129 536.865 211.129 Q539.319 211.129 541.611 210.527 Q543.925 209.925 546.194 208.721 L546.194 212.749 Q543.902 213.721 541.495 214.231 Q539.087 214.74 536.611 214.74 Q530.407 214.74 526.773 211.129 Q523.162 207.518 523.162 201.36 Q523.162 194.995 526.588 191.268 Q530.037 187.518 535.87 187.518 Q541.101 187.518 544.134 190.897 Q547.189 194.254 547.189 200.041 M542.93 198.791 Q542.884 195.296 540.962 193.212 Q539.064 191.129 535.916 191.129 Q532.351 191.129 530.199 193.143 Q528.069 195.157 527.745 198.814 L542.93 198.791 Z\" fill=\"#000000\" fill-rule=\"evenodd\" fill-opacity=\"1\" /><path clip-path=\"url(#clip620)\" d=\"M572.837 189.138 L572.837 193.12 Q571.032 192.124 569.203 191.638 Q567.397 191.129 565.546 191.129 Q561.402 191.129 559.11 193.768 Q556.819 196.384 556.819 201.129 Q556.819 205.874 559.11 208.513 Q561.402 211.129 565.546 211.129 Q567.397 211.129 569.203 210.643 Q571.032 210.133 572.837 209.138 L572.837 213.073 Q571.055 213.907 569.134 214.323 Q567.235 214.74 565.083 214.74 Q559.226 214.74 555.777 211.059 Q552.328 207.379 552.328 201.129 Q552.328 194.786 555.8 191.152 Q559.296 187.518 565.36 187.518 Q567.328 187.518 569.203 187.935 Q571.078 188.328 572.837 189.138 Z\" fill=\"#000000\" fill-rule=\"evenodd\" fill-opacity=\"1\" /><path clip-path=\"url(#clip620)\" d=\"M590.291 191.129 Q586.865 191.129 584.874 193.814 Q582.884 196.476 582.884 201.129 Q582.884 205.782 584.851 208.467 Q586.842 211.129 590.291 211.129 Q593.694 211.129 595.684 208.444 Q597.675 205.758 597.675 201.129 Q597.675 196.522 595.684 193.837 Q593.694 191.129 590.291 191.129 M590.291 187.518 Q595.846 187.518 599.018 191.129 Q602.189 194.74 602.189 201.129 Q602.189 207.495 599.018 211.129 Q595.846 214.74 590.291 214.74 Q584.712 214.74 581.541 211.129 Q578.393 207.495 578.393 201.129 Q578.393 194.74 581.541 191.129 Q584.712 187.518 590.291 187.518 Z\" fill=\"#000000\" fill-rule=\"evenodd\" fill-opacity=\"1\" /><path clip-path=\"url(#clip620)\" d=\"M629.434 193.12 Q631.031 190.249 633.254 188.884 Q635.476 187.518 638.485 187.518 Q642.536 187.518 644.735 190.365 Q646.934 193.189 646.934 198.421 L646.934 214.069 L642.652 214.069 L642.652 198.559 Q642.652 194.833 641.332 193.027 Q640.013 191.222 637.305 191.222 Q633.994 191.222 632.073 193.421 Q630.152 195.62 630.152 199.416 L630.152 214.069 L625.869 214.069 L625.869 198.559 Q625.869 194.809 624.55 193.027 Q623.231 191.222 620.476 191.222 Q617.212 191.222 615.291 193.444 Q613.369 195.643 613.369 199.416 L613.369 214.069 L609.087 214.069 L609.087 188.143 L613.369 188.143 L613.369 192.171 Q614.828 189.786 616.865 188.652 Q618.902 187.518 621.703 187.518 Q624.527 187.518 626.494 188.953 Q628.485 190.388 629.434 193.12 Z\" fill=\"#000000\" fill-rule=\"evenodd\" fill-opacity=\"1\" /><path clip-path=\"url(#clip620)\" d=\"M659.55 210.18 L659.55 223.93 L655.267 223.93 L655.267 188.143 L659.55 188.143 L659.55 192.078 Q660.892 189.763 662.929 188.652 Q664.99 187.518 667.837 187.518 Q672.559 187.518 675.499 191.268 Q678.462 195.018 678.462 201.129 Q678.462 207.24 675.499 210.99 Q672.559 214.74 667.837 214.74 Q664.99 214.74 662.929 213.629 Q660.892 212.495 659.55 210.18 M674.04 201.129 Q674.04 196.43 672.096 193.768 Q670.175 191.083 666.795 191.083 Q663.415 191.083 661.471 193.768 Q659.55 196.43 659.55 201.129 Q659.55 205.828 661.471 208.513 Q663.415 211.175 666.795 211.175 Q670.175 211.175 672.096 208.513 Q674.04 205.828 674.04 201.129 Z\" fill=\"#000000\" fill-rule=\"evenodd\" fill-opacity=\"1\" /><path clip-path=\"url(#clip620)\" d=\"M695.568 191.129 Q692.142 191.129 690.151 193.814 Q688.161 196.476 688.161 201.129 Q688.161 205.782 690.128 208.467 Q692.119 211.129 695.568 211.129 Q698.971 211.129 700.962 208.444 Q702.952 205.758 702.952 201.129 Q702.952 196.522 700.962 193.837 Q698.971 191.129 695.568 191.129 M695.568 187.518 Q701.124 187.518 704.295 191.129 Q707.466 194.74 707.466 201.129 Q707.466 207.495 704.295 211.129 Q701.124 214.74 695.568 214.74 Q689.989 214.74 686.818 211.129 Q683.67 207.495 683.67 201.129 Q683.67 194.74 686.818 191.129 Q689.989 187.518 695.568 187.518 Z\" fill=\"#000000\" fill-rule=\"evenodd\" fill-opacity=\"1\" /><path clip-path=\"url(#clip620)\" d=\"M731.054 188.907 L731.054 192.934 Q729.248 192.009 727.304 191.546 Q725.36 191.083 723.276 191.083 Q720.105 191.083 718.508 192.055 Q716.934 193.027 716.934 194.971 Q716.934 196.453 718.068 197.309 Q719.202 198.143 722.628 198.907 L724.086 199.231 Q728.623 200.203 730.522 201.985 Q732.443 203.745 732.443 206.916 Q732.443 210.527 729.573 212.633 Q726.725 214.74 721.725 214.74 Q719.642 214.74 717.374 214.323 Q715.128 213.93 712.628 213.12 L712.628 208.721 Q714.989 209.948 717.281 210.573 Q719.573 211.175 721.818 211.175 Q724.827 211.175 726.448 210.157 Q728.068 209.115 728.068 207.24 Q728.068 205.504 726.887 204.578 Q725.73 203.652 721.772 202.796 L720.29 202.448 Q716.332 201.615 714.573 199.902 Q712.813 198.166 712.813 195.157 Q712.813 191.499 715.406 189.509 Q717.999 187.518 722.767 187.518 Q725.128 187.518 727.211 187.865 Q729.295 188.212 731.054 188.907 Z\" fill=\"#000000\" fill-rule=\"evenodd\" fill-opacity=\"1\" /><path clip-path=\"url(#clip620)\" d=\"M761.401 200.041 L761.401 202.124 L741.818 202.124 Q742.096 206.522 744.457 208.837 Q746.841 211.129 751.077 211.129 Q753.531 211.129 755.822 210.527 Q758.137 209.925 760.406 208.721 L760.406 212.749 Q758.114 213.721 755.707 214.231 Q753.299 214.74 750.822 214.74 Q744.619 214.74 740.985 211.129 Q737.373 207.518 737.373 201.36 Q737.373 194.995 740.799 191.268 Q744.248 187.518 750.082 187.518 Q755.313 187.518 758.346 190.897 Q761.401 194.254 761.401 200.041 M757.142 198.791 Q757.096 195.296 755.174 193.212 Q753.276 191.129 750.128 191.129 Q746.563 191.129 744.41 193.143 Q742.281 195.157 741.957 198.814 L757.142 198.791 Z\" fill=\"#000000\" fill-rule=\"evenodd\" fill-opacity=\"1\" /><path clip-path=\"url(#clip620)\" d=\"M785.452 192.078 L785.452 178.05 L789.711 178.05 L789.711 214.069 L785.452 214.069 L785.452 210.18 Q784.109 212.495 782.049 213.629 Q780.012 214.74 777.142 214.74 Q772.443 214.74 769.48 210.99 Q766.54 207.24 766.54 201.129 Q766.54 195.018 769.48 191.268 Q772.443 187.518 777.142 187.518 Q780.012 187.518 782.049 188.652 Q784.109 189.763 785.452 192.078 M770.938 201.129 Q770.938 205.828 772.859 208.513 Q774.804 211.175 778.183 211.175 Q781.563 211.175 783.507 208.513 Q785.452 205.828 785.452 201.129 Q785.452 196.43 783.507 193.768 Q781.563 191.083 778.183 191.083 Q774.804 191.083 772.859 193.768 Q770.938 196.43 770.938 201.129 Z\" fill=\"#000000\" fill-rule=\"evenodd\" fill-opacity=\"1\" /></svg>\n"
      ]
     },
     "metadata": {},
     "output_type": "display_data"
    }
   ],
   "source": [
    "# solution time\n",
    "p1 = plot(1:nScenMax,solTimeTraj_s[1,:],xlabel=\"# scenarios\", ylabel=\"sol. time [s]\",marker=:circle, markercolor = :green,label=\"monolithic\")\n",
    "p1 = plot!(1:nScenMax,solTimeTraj_s[2,:],marker=:square, markercolor = :red,label=\"decomposed\",gridlinewidth=2)\n",
    "display(p1)"
   ]
  },
  {
   "cell_type": "code",
   "execution_count": 16,
   "id": "f9e5bfc5",
   "metadata": {},
   "outputs": [
    {
     "data": {
      "image/svg+xml": [
       "<?xml version=\"1.0\" encoding=\"utf-8\"?>\n",
       "<svg xmlns=\"http://www.w3.org/2000/svg\" xmlns:xlink=\"http://www.w3.org/1999/xlink\" width=\"600\" height=\"400\" viewBox=\"0 0 2400 1600\">\n",
       "<defs>\n",
       "  <clipPath id=\"clip660\">\n",
       "    <rect x=\"0\" y=\"0\" width=\"2400\" height=\"1600\"/>\n",
       "  </clipPath>\n",
       "</defs>\n",
       "<path clip-path=\"url(#clip660)\" d=\"M0 1600 L2400 1600 L2400 0 L0 0  Z\" fill=\"#ffffff\" fill-rule=\"evenodd\" fill-opacity=\"1\"/>\n",
       "<defs>\n",
       "  <clipPath id=\"clip661\">\n",
       "    <rect x=\"480\" y=\"0\" width=\"1681\" height=\"1600\"/>\n",
       "  </clipPath>\n",
       "</defs>\n",
       "<path clip-path=\"url(#clip660)\" d=\"M202.227 1423.18 L2352.76 1423.18 L2352.76 47.2441 L202.227 47.2441  Z\" fill=\"#ffffff\" fill-rule=\"evenodd\" fill-opacity=\"1\"/>\n",
       "<defs>\n",
       "  <clipPath id=\"clip662\">\n",
       "    <rect x=\"202\" y=\"47\" width=\"2152\" height=\"1377\"/>\n",
       "  </clipPath>\n",
       "</defs>\n",
       "<polyline clip-path=\"url(#clip662)\" style=\"stroke:#000000; stroke-linecap:round; stroke-linejoin:round; stroke-width:8; stroke-opacity:0.1; fill:none\" points=\"542.926,1423.18 542.926,47.2441 \"/>\n",
       "<polyline clip-path=\"url(#clip662)\" style=\"stroke:#000000; stroke-linecap:round; stroke-linejoin:round; stroke-width:8; stroke-opacity:0.1; fill:none\" points=\"892.719,1423.18 892.719,47.2441 \"/>\n",
       "<polyline clip-path=\"url(#clip662)\" style=\"stroke:#000000; stroke-linecap:round; stroke-linejoin:round; stroke-width:8; stroke-opacity:0.1; fill:none\" points=\"1242.51,1423.18 1242.51,47.2441 \"/>\n",
       "<polyline clip-path=\"url(#clip662)\" style=\"stroke:#000000; stroke-linecap:round; stroke-linejoin:round; stroke-width:8; stroke-opacity:0.1; fill:none\" points=\"1592.31,1423.18 1592.31,47.2441 \"/>\n",
       "<polyline clip-path=\"url(#clip662)\" style=\"stroke:#000000; stroke-linecap:round; stroke-linejoin:round; stroke-width:8; stroke-opacity:0.1; fill:none\" points=\"1942.1,1423.18 1942.1,47.2441 \"/>\n",
       "<polyline clip-path=\"url(#clip662)\" style=\"stroke:#000000; stroke-linecap:round; stroke-linejoin:round; stroke-width:8; stroke-opacity:0.1; fill:none\" points=\"2291.89,1423.18 2291.89,47.2441 \"/>\n",
       "<polyline clip-path=\"url(#clip660)\" style=\"stroke:#000000; stroke-linecap:round; stroke-linejoin:round; stroke-width:4; stroke-opacity:1; fill:none\" points=\"202.227,1423.18 2352.76,1423.18 \"/>\n",
       "<polyline clip-path=\"url(#clip660)\" style=\"stroke:#000000; stroke-linecap:round; stroke-linejoin:round; stroke-width:4; stroke-opacity:1; fill:none\" points=\"542.926,1423.18 542.926,1404.28 \"/>\n",
       "<polyline clip-path=\"url(#clip660)\" style=\"stroke:#000000; stroke-linecap:round; stroke-linejoin:round; stroke-width:4; stroke-opacity:1; fill:none\" points=\"892.719,1423.18 892.719,1404.28 \"/>\n",
       "<polyline clip-path=\"url(#clip660)\" style=\"stroke:#000000; stroke-linecap:round; stroke-linejoin:round; stroke-width:4; stroke-opacity:1; fill:none\" points=\"1242.51,1423.18 1242.51,1404.28 \"/>\n",
       "<polyline clip-path=\"url(#clip660)\" style=\"stroke:#000000; stroke-linecap:round; stroke-linejoin:round; stroke-width:4; stroke-opacity:1; fill:none\" points=\"1592.31,1423.18 1592.31,1404.28 \"/>\n",
       "<polyline clip-path=\"url(#clip660)\" style=\"stroke:#000000; stroke-linecap:round; stroke-linejoin:round; stroke-width:4; stroke-opacity:1; fill:none\" points=\"1942.1,1423.18 1942.1,1404.28 \"/>\n",
       "<polyline clip-path=\"url(#clip660)\" style=\"stroke:#000000; stroke-linecap:round; stroke-linejoin:round; stroke-width:4; stroke-opacity:1; fill:none\" points=\"2291.89,1423.18 2291.89,1404.28 \"/>\n",
       "<path clip-path=\"url(#clip660)\" d=\"M533.204 1451.02 L551.56 1451.02 L551.56 1454.96 L537.486 1454.96 L537.486 1463.43 Q538.505 1463.08 539.523 1462.92 Q540.542 1462.73 541.56 1462.73 Q547.347 1462.73 550.727 1465.9 Q554.107 1469.08 554.107 1474.49 Q554.107 1480.07 550.634 1483.17 Q547.162 1486.25 540.843 1486.25 Q538.667 1486.25 536.398 1485.88 Q534.153 1485.51 531.746 1484.77 L531.746 1480.07 Q533.829 1481.2 536.051 1481.76 Q538.273 1482.32 540.75 1482.32 Q544.755 1482.32 547.093 1480.21 Q549.431 1478.1 549.431 1474.49 Q549.431 1470.88 547.093 1468.77 Q544.755 1466.67 540.75 1466.67 Q538.875 1466.67 537 1467.08 Q535.148 1467.5 533.204 1468.38 L533.204 1451.02 Z\" fill=\"#000000\" fill-rule=\"evenodd\" fill-opacity=\"1\" /><path clip-path=\"url(#clip660)\" d=\"M867.407 1481.64 L875.046 1481.64 L875.046 1455.28 L866.736 1456.95 L866.736 1452.69 L874.999 1451.02 L879.675 1451.02 L879.675 1481.64 L887.314 1481.64 L887.314 1485.58 L867.407 1485.58 L867.407 1481.64 Z\" fill=\"#000000\" fill-rule=\"evenodd\" fill-opacity=\"1\" /><path clip-path=\"url(#clip660)\" d=\"M906.758 1454.1 Q903.147 1454.1 901.319 1457.66 Q899.513 1461.2 899.513 1468.33 Q899.513 1475.44 901.319 1479.01 Q903.147 1482.55 906.758 1482.55 Q910.393 1482.55 912.198 1479.01 Q914.027 1475.44 914.027 1468.33 Q914.027 1461.2 912.198 1457.66 Q910.393 1454.1 906.758 1454.1 M906.758 1450.39 Q912.569 1450.39 915.624 1455 Q918.703 1459.58 918.703 1468.33 Q918.703 1477.06 915.624 1481.67 Q912.569 1486.25 906.758 1486.25 Q900.948 1486.25 897.87 1481.67 Q894.814 1477.06 894.814 1468.33 Q894.814 1459.58 897.87 1455 Q900.948 1450.39 906.758 1450.39 Z\" fill=\"#000000\" fill-rule=\"evenodd\" fill-opacity=\"1\" /><path clip-path=\"url(#clip660)\" d=\"M1217.7 1481.64 L1225.34 1481.64 L1225.34 1455.28 L1217.03 1456.95 L1217.03 1452.69 L1225.29 1451.02 L1229.97 1451.02 L1229.97 1481.64 L1237.6 1481.64 L1237.6 1485.58 L1217.7 1485.58 L1217.7 1481.64 Z\" fill=\"#000000\" fill-rule=\"evenodd\" fill-opacity=\"1\" /><path clip-path=\"url(#clip660)\" d=\"M1247.1 1451.02 L1265.45 1451.02 L1265.45 1454.96 L1251.38 1454.96 L1251.38 1463.43 Q1252.4 1463.08 1253.42 1462.92 Q1254.43 1462.73 1255.45 1462.73 Q1261.24 1462.73 1264.62 1465.9 Q1268 1469.08 1268 1474.49 Q1268 1480.07 1264.53 1483.17 Q1261.05 1486.25 1254.73 1486.25 Q1252.56 1486.25 1250.29 1485.88 Q1248.04 1485.51 1245.64 1484.77 L1245.64 1480.07 Q1247.72 1481.2 1249.94 1481.76 Q1252.17 1482.32 1254.64 1482.32 Q1258.65 1482.32 1260.98 1480.21 Q1263.32 1478.1 1263.32 1474.49 Q1263.32 1470.88 1260.98 1468.77 Q1258.65 1466.67 1254.64 1466.67 Q1252.77 1466.67 1250.89 1467.08 Q1249.04 1467.5 1247.1 1468.38 L1247.1 1451.02 Z\" fill=\"#000000\" fill-rule=\"evenodd\" fill-opacity=\"1\" /><path clip-path=\"url(#clip660)\" d=\"M1571.08 1481.64 L1587.4 1481.64 L1587.4 1485.58 L1565.45 1485.58 L1565.45 1481.64 Q1568.12 1478.89 1572.7 1474.26 Q1577.31 1469.61 1578.49 1468.27 Q1580.73 1465.74 1581.61 1464.01 Q1582.51 1462.25 1582.51 1460.56 Q1582.51 1457.8 1580.57 1456.07 Q1578.65 1454.33 1575.55 1454.33 Q1573.35 1454.33 1570.89 1455.09 Q1568.46 1455.86 1565.69 1457.41 L1565.69 1452.69 Q1568.51 1451.55 1570.96 1450.97 Q1573.42 1450.39 1575.45 1450.39 Q1580.82 1450.39 1584.02 1453.08 Q1587.21 1455.77 1587.21 1460.26 Q1587.21 1462.39 1586.4 1464.31 Q1585.62 1466.2 1583.51 1468.8 Q1582.93 1469.47 1579.83 1472.69 Q1576.73 1475.88 1571.08 1481.64 Z\" fill=\"#000000\" fill-rule=\"evenodd\" fill-opacity=\"1\" /><path clip-path=\"url(#clip660)\" d=\"M1607.21 1454.1 Q1603.6 1454.1 1601.77 1457.66 Q1599.97 1461.2 1599.97 1468.33 Q1599.97 1475.44 1601.77 1479.01 Q1603.6 1482.55 1607.21 1482.55 Q1610.85 1482.55 1612.65 1479.01 Q1614.48 1475.44 1614.48 1468.33 Q1614.48 1461.2 1612.65 1457.66 Q1610.85 1454.1 1607.21 1454.1 M1607.21 1450.39 Q1613.02 1450.39 1616.08 1455 Q1619.16 1459.58 1619.16 1468.33 Q1619.16 1477.06 1616.08 1481.67 Q1613.02 1486.25 1607.21 1486.25 Q1601.4 1486.25 1598.32 1481.67 Q1595.27 1477.06 1595.27 1468.33 Q1595.27 1459.58 1598.32 1455 Q1601.4 1450.39 1607.21 1450.39 Z\" fill=\"#000000\" fill-rule=\"evenodd\" fill-opacity=\"1\" /><path clip-path=\"url(#clip660)\" d=\"M1921.37 1481.64 L1937.69 1481.64 L1937.69 1485.58 L1915.74 1485.58 L1915.74 1481.64 Q1918.41 1478.89 1922.99 1474.26 Q1927.6 1469.61 1928.78 1468.27 Q1931.02 1465.74 1931.9 1464.01 Q1932.8 1462.25 1932.8 1460.56 Q1932.8 1457.8 1930.86 1456.07 Q1928.94 1454.33 1925.84 1454.33 Q1923.64 1454.33 1921.18 1455.09 Q1918.75 1455.86 1915.98 1457.41 L1915.98 1452.69 Q1918.8 1451.55 1921.25 1450.97 Q1923.71 1450.39 1925.74 1450.39 Q1931.11 1450.39 1934.31 1453.08 Q1937.5 1455.77 1937.5 1460.26 Q1937.5 1462.39 1936.69 1464.31 Q1935.91 1466.2 1933.8 1468.8 Q1933.22 1469.47 1930.12 1472.69 Q1927.02 1475.88 1921.37 1481.64 Z\" fill=\"#000000\" fill-rule=\"evenodd\" fill-opacity=\"1\" /><path clip-path=\"url(#clip660)\" d=\"M1947.55 1451.02 L1965.91 1451.02 L1965.91 1454.96 L1951.83 1454.96 L1951.83 1463.43 Q1952.85 1463.08 1953.87 1462.92 Q1954.89 1462.73 1955.91 1462.73 Q1961.69 1462.73 1965.07 1465.9 Q1968.45 1469.08 1968.45 1474.49 Q1968.45 1480.07 1964.98 1483.17 Q1961.51 1486.25 1955.19 1486.25 Q1953.01 1486.25 1950.74 1485.88 Q1948.5 1485.51 1946.09 1484.77 L1946.09 1480.07 Q1948.18 1481.2 1950.4 1481.76 Q1952.62 1482.32 1955.1 1482.32 Q1959.1 1482.32 1961.44 1480.21 Q1963.78 1478.1 1963.78 1474.49 Q1963.78 1470.88 1961.44 1468.77 Q1959.1 1466.67 1955.1 1466.67 Q1953.22 1466.67 1951.35 1467.08 Q1949.49 1467.5 1947.55 1468.38 L1947.55 1451.02 Z\" fill=\"#000000\" fill-rule=\"evenodd\" fill-opacity=\"1\" /><path clip-path=\"url(#clip660)\" d=\"M2280.73 1466.95 Q2284.09 1467.66 2285.97 1469.93 Q2287.86 1472.2 2287.86 1475.53 Q2287.86 1480.65 2284.35 1483.45 Q2280.83 1486.25 2274.35 1486.25 Q2272.17 1486.25 2269.85 1485.81 Q2267.56 1485.39 2265.11 1484.54 L2265.11 1480.02 Q2267.05 1481.16 2269.37 1481.74 Q2271.68 1482.32 2274.21 1482.32 Q2278.6 1482.32 2280.9 1480.58 Q2283.21 1478.84 2283.21 1475.53 Q2283.21 1472.48 2281.06 1470.77 Q2278.93 1469.03 2275.11 1469.03 L2271.08 1469.03 L2271.08 1465.19 L2275.29 1465.19 Q2278.74 1465.19 2280.57 1463.82 Q2282.4 1462.43 2282.4 1459.84 Q2282.4 1457.18 2280.5 1455.77 Q2278.63 1454.33 2275.11 1454.33 Q2273.19 1454.33 2270.99 1454.75 Q2268.79 1455.16 2266.15 1456.04 L2266.15 1451.88 Q2268.81 1451.14 2271.13 1450.77 Q2273.47 1450.39 2275.53 1450.39 Q2280.85 1450.39 2283.95 1452.83 Q2287.05 1455.23 2287.05 1459.35 Q2287.05 1462.22 2285.41 1464.21 Q2283.77 1466.18 2280.73 1466.95 Z\" fill=\"#000000\" fill-rule=\"evenodd\" fill-opacity=\"1\" /><path clip-path=\"url(#clip660)\" d=\"M2306.73 1454.1 Q2303.12 1454.1 2301.29 1457.66 Q2299.48 1461.2 2299.48 1468.33 Q2299.48 1475.44 2301.29 1479.01 Q2303.12 1482.55 2306.73 1482.55 Q2310.36 1482.55 2312.17 1479.01 Q2314 1475.44 2314 1468.33 Q2314 1461.2 2312.17 1457.66 Q2310.36 1454.1 2306.73 1454.1 M2306.73 1450.39 Q2312.54 1450.39 2315.6 1455 Q2318.67 1459.58 2318.67 1468.33 Q2318.67 1477.06 2315.6 1481.67 Q2312.54 1486.25 2306.73 1486.25 Q2300.92 1486.25 2297.84 1481.67 Q2294.79 1477.06 2294.79 1468.33 Q2294.79 1459.58 2297.84 1455 Q2300.92 1450.39 2306.73 1450.39 Z\" fill=\"#000000\" fill-rule=\"evenodd\" fill-opacity=\"1\" /><path clip-path=\"url(#clip660)\" d=\"M1117.27 1539.37 L1108 1539.37 L1105.33 1550 L1114.66 1550 L1117.27 1539.37 M1112.49 1521.26 L1109.18 1534.46 L1118.48 1534.46 L1121.82 1521.26 L1126.91 1521.26 L1123.63 1534.46 L1133.56 1534.46 L1133.56 1539.37 L1122.39 1539.37 L1119.78 1550 L1129.9 1550 L1129.9 1554.87 L1118.54 1554.87 L1115.23 1568.04 L1110.14 1568.04 L1113.42 1554.87 L1104.09 1554.87 L1100.81 1568.04 L1095.69 1568.04 L1099 1554.87 L1088.97 1554.87 L1088.97 1550 L1100.17 1550 L1102.85 1539.37 L1092.6 1539.37 L1092.6 1534.46 L1104.09 1534.46 L1107.34 1521.26 L1112.49 1521.26 Z\" fill=\"#000000\" fill-rule=\"evenodd\" fill-opacity=\"1\" /><path clip-path=\"url(#clip660)\" d=\"M1188.15 1533.45 L1188.15 1538.98 Q1185.67 1537.71 1182.99 1537.07 Q1180.32 1536.44 1177.45 1536.44 Q1173.09 1536.44 1170.9 1537.77 Q1168.73 1539.11 1168.73 1541.79 Q1168.73 1543.82 1170.29 1545 Q1171.85 1546.15 1176.56 1547.2 L1178.57 1547.64 Q1184.81 1548.98 1187.42 1551.43 Q1190.06 1553.85 1190.06 1558.21 Q1190.06 1563.17 1186.11 1566.07 Q1182.2 1568.97 1175.32 1568.97 Q1172.46 1568.97 1169.34 1568.39 Q1166.25 1567.85 1162.81 1566.74 L1162.81 1560.69 Q1166.06 1562.38 1169.21 1563.24 Q1172.36 1564.07 1175.45 1564.07 Q1179.59 1564.07 1181.82 1562.66 Q1184.04 1561.23 1184.04 1558.65 Q1184.04 1556.27 1182.42 1554.99 Q1180.83 1553.72 1175.39 1552.54 L1173.35 1552.07 Q1167.91 1550.92 1165.49 1548.56 Q1163.07 1546.18 1163.07 1542.04 Q1163.07 1537.01 1166.63 1534.27 Q1170.2 1531.54 1176.75 1531.54 Q1180 1531.54 1182.87 1532.01 Q1185.73 1532.49 1188.15 1533.45 Z\" fill=\"#000000\" fill-rule=\"evenodd\" fill-opacity=\"1\" /><path clip-path=\"url(#clip660)\" d=\"M1225.04 1533.76 L1225.04 1539.24 Q1222.56 1537.87 1220.04 1537.2 Q1217.56 1536.5 1215.01 1536.5 Q1209.31 1536.5 1206.16 1540.13 Q1203.01 1543.73 1203.01 1550.25 Q1203.01 1556.78 1206.16 1560.4 Q1209.31 1564 1215.01 1564 Q1217.56 1564 1220.04 1563.33 Q1222.56 1562.63 1225.04 1561.26 L1225.04 1566.68 Q1222.59 1567.82 1219.95 1568.39 Q1217.34 1568.97 1214.38 1568.97 Q1206.32 1568.97 1201.58 1563.91 Q1196.84 1558.85 1196.84 1550.25 Q1196.84 1541.53 1201.61 1536.53 Q1206.42 1531.54 1214.76 1531.54 Q1217.46 1531.54 1220.04 1532.11 Q1222.62 1532.65 1225.04 1533.76 Z\" fill=\"#000000\" fill-rule=\"evenodd\" fill-opacity=\"1\" /><path clip-path=\"url(#clip660)\" d=\"M1265.72 1548.76 L1265.72 1551.62 L1238.79 1551.62 Q1239.17 1557.67 1242.42 1560.85 Q1245.69 1564 1251.52 1564 Q1254.89 1564 1258.04 1563.17 Q1261.23 1562.35 1264.35 1560.69 L1264.35 1566.23 Q1261.2 1567.57 1257.89 1568.27 Q1254.58 1568.97 1251.17 1568.97 Q1242.64 1568.97 1237.64 1564 Q1232.68 1559.04 1232.68 1550.57 Q1232.68 1541.82 1237.39 1536.69 Q1242.13 1531.54 1250.15 1531.54 Q1257.34 1531.54 1261.51 1536.18 Q1265.72 1540.8 1265.72 1548.76 M1259.86 1547.04 Q1259.8 1542.23 1257.15 1539.37 Q1254.54 1536.5 1250.21 1536.5 Q1245.31 1536.5 1242.35 1539.27 Q1239.42 1542.04 1238.98 1547.07 L1259.86 1547.04 Z\" fill=\"#000000\" fill-rule=\"evenodd\" fill-opacity=\"1\" /><path clip-path=\"url(#clip660)\" d=\"M1304.96 1546.53 L1304.96 1568.04 L1299.1 1568.04 L1299.1 1546.72 Q1299.1 1541.66 1297.13 1539.14 Q1295.16 1536.63 1291.21 1536.63 Q1286.47 1536.63 1283.73 1539.65 Q1280.99 1542.68 1280.99 1547.9 L1280.99 1568.04 L1275.1 1568.04 L1275.1 1532.4 L1280.99 1532.4 L1280.99 1537.93 Q1283.09 1534.72 1285.93 1533.13 Q1288.79 1531.54 1292.51 1531.54 Q1298.66 1531.54 1301.81 1535.36 Q1304.96 1539.14 1304.96 1546.53 Z\" fill=\"#000000\" fill-rule=\"evenodd\" fill-opacity=\"1\" /><path clip-path=\"url(#clip660)\" d=\"M1332.84 1550.12 Q1325.74 1550.12 1323.01 1551.75 Q1320.27 1553.37 1320.27 1557.29 Q1320.27 1560.4 1322.31 1562.25 Q1324.38 1564.07 1327.91 1564.07 Q1332.78 1564.07 1335.71 1560.63 Q1338.67 1557.16 1338.67 1551.43 L1338.67 1550.12 L1332.84 1550.12 M1344.52 1547.71 L1344.52 1568.04 L1338.67 1568.04 L1338.67 1562.63 Q1336.66 1565.88 1333.67 1567.44 Q1330.68 1568.97 1326.35 1568.97 Q1320.87 1568.97 1317.63 1565.91 Q1314.41 1562.82 1314.41 1557.67 Q1314.41 1551.65 1318.42 1548.6 Q1322.47 1545.54 1330.45 1545.54 L1338.67 1545.54 L1338.67 1544.97 Q1338.67 1540.93 1335.99 1538.73 Q1333.35 1536.5 1328.54 1536.5 Q1325.49 1536.5 1322.59 1537.23 Q1319.7 1537.97 1317.02 1539.43 L1317.02 1534.02 Q1320.24 1532.78 1323.26 1532.17 Q1326.28 1531.54 1329.15 1531.54 Q1336.88 1531.54 1340.7 1535.55 Q1344.52 1539.56 1344.52 1547.71 Z\" fill=\"#000000\" fill-rule=\"evenodd\" fill-opacity=\"1\" /><path clip-path=\"url(#clip660)\" d=\"M1377.24 1537.87 Q1376.26 1537.3 1375.08 1537.04 Q1373.93 1536.76 1372.53 1536.76 Q1367.57 1536.76 1364.89 1540 Q1362.25 1543.22 1362.25 1549.27 L1362.25 1568.04 L1356.36 1568.04 L1356.36 1532.4 L1362.25 1532.4 L1362.25 1537.93 Q1364.1 1534.69 1367.06 1533.13 Q1370.02 1531.54 1374.25 1531.54 Q1374.86 1531.54 1375.59 1531.63 Q1376.32 1531.7 1377.21 1531.85 L1377.24 1537.87 Z\" fill=\"#000000\" fill-rule=\"evenodd\" fill-opacity=\"1\" /><path clip-path=\"url(#clip660)\" d=\"M1383.39 1532.4 L1389.24 1532.4 L1389.24 1568.04 L1383.39 1568.04 L1383.39 1532.4 M1383.39 1518.52 L1389.24 1518.52 L1389.24 1525.93 L1383.39 1525.93 L1383.39 1518.52 Z\" fill=\"#000000\" fill-rule=\"evenodd\" fill-opacity=\"1\" /><path clip-path=\"url(#clip660)\" d=\"M1415.31 1536.5 Q1410.6 1536.5 1407.86 1540.19 Q1405.12 1543.85 1405.12 1550.25 Q1405.12 1556.65 1407.83 1560.34 Q1410.57 1564 1415.31 1564 Q1419.99 1564 1422.73 1560.31 Q1425.46 1556.62 1425.46 1550.25 Q1425.46 1543.92 1422.73 1540.23 Q1419.99 1536.5 1415.31 1536.5 M1415.31 1531.54 Q1422.95 1531.54 1427.31 1536.5 Q1431.67 1541.47 1431.67 1550.25 Q1431.67 1559 1427.31 1564 Q1422.95 1568.97 1415.31 1568.97 Q1407.64 1568.97 1403.28 1564 Q1398.95 1559 1398.95 1550.25 Q1398.95 1541.47 1403.28 1536.5 Q1407.64 1531.54 1415.31 1531.54 Z\" fill=\"#000000\" fill-rule=\"evenodd\" fill-opacity=\"1\" /><path clip-path=\"url(#clip660)\" d=\"M1464.1 1533.45 L1464.1 1538.98 Q1461.62 1537.71 1458.95 1537.07 Q1456.27 1536.44 1453.41 1536.44 Q1449.05 1536.44 1446.85 1537.77 Q1444.69 1539.11 1444.69 1541.79 Q1444.69 1543.82 1446.25 1545 Q1447.81 1546.15 1452.52 1547.2 L1454.52 1547.64 Q1460.76 1548.98 1463.37 1551.43 Q1466.01 1553.85 1466.01 1558.21 Q1466.01 1563.17 1462.07 1566.07 Q1458.15 1568.97 1451.28 1568.97 Q1448.41 1568.97 1445.29 1568.39 Q1442.2 1567.85 1438.77 1566.74 L1438.77 1560.69 Q1442.01 1562.38 1445.16 1563.24 Q1448.32 1564.07 1451.4 1564.07 Q1455.54 1564.07 1457.77 1562.66 Q1460 1561.23 1460 1558.65 Q1460 1556.27 1458.37 1554.99 Q1456.78 1553.72 1451.34 1552.54 L1449.3 1552.07 Q1443.86 1550.92 1441.44 1548.56 Q1439.02 1546.18 1439.02 1542.04 Q1439.02 1537.01 1442.59 1534.27 Q1446.15 1531.54 1452.71 1531.54 Q1455.95 1531.54 1458.82 1532.01 Q1461.68 1532.49 1464.1 1533.45 Z\" fill=\"#000000\" fill-rule=\"evenodd\" fill-opacity=\"1\" /><polyline clip-path=\"url(#clip662)\" style=\"stroke:#000000; stroke-linecap:round; stroke-linejoin:round; stroke-width:8; stroke-opacity:0.1; fill:none\" points=\"202.227,1401.3 2352.76,1401.3 \"/>\n",
       "<polyline clip-path=\"url(#clip662)\" style=\"stroke:#000000; stroke-linecap:round; stroke-linejoin:round; stroke-width:8; stroke-opacity:0.1; fill:none\" points=\"202.227,983.217 2352.76,983.217 \"/>\n",
       "<polyline clip-path=\"url(#clip662)\" style=\"stroke:#000000; stroke-linecap:round; stroke-linejoin:round; stroke-width:8; stroke-opacity:0.1; fill:none\" points=\"202.227,565.137 2352.76,565.137 \"/>\n",
       "<polyline clip-path=\"url(#clip662)\" style=\"stroke:#000000; stroke-linecap:round; stroke-linejoin:round; stroke-width:8; stroke-opacity:0.1; fill:none\" points=\"202.227,147.058 2352.76,147.058 \"/>\n",
       "<polyline clip-path=\"url(#clip660)\" style=\"stroke:#000000; stroke-linecap:round; stroke-linejoin:round; stroke-width:4; stroke-opacity:1; fill:none\" points=\"202.227,1423.18 202.227,47.2441 \"/>\n",
       "<polyline clip-path=\"url(#clip660)\" style=\"stroke:#000000; stroke-linecap:round; stroke-linejoin:round; stroke-width:4; stroke-opacity:1; fill:none\" points=\"202.227,1401.3 221.125,1401.3 \"/>\n",
       "<polyline clip-path=\"url(#clip660)\" style=\"stroke:#000000; stroke-linecap:round; stroke-linejoin:round; stroke-width:4; stroke-opacity:1; fill:none\" points=\"202.227,983.217 221.125,983.217 \"/>\n",
       "<polyline clip-path=\"url(#clip660)\" style=\"stroke:#000000; stroke-linecap:round; stroke-linejoin:round; stroke-width:4; stroke-opacity:1; fill:none\" points=\"202.227,565.137 221.125,565.137 \"/>\n",
       "<polyline clip-path=\"url(#clip660)\" style=\"stroke:#000000; stroke-linecap:round; stroke-linejoin:round; stroke-width:4; stroke-opacity:1; fill:none\" points=\"202.227,147.058 221.125,147.058 \"/>\n",
       "<path clip-path=\"url(#clip660)\" d=\"M154.283 1387.09 Q150.672 1387.09 148.843 1390.66 Q147.038 1394.2 147.038 1401.33 Q147.038 1408.44 148.843 1412 Q150.672 1415.54 154.283 1415.54 Q157.917 1415.54 159.723 1412 Q161.552 1408.44 161.552 1401.33 Q161.552 1394.2 159.723 1390.66 Q157.917 1387.09 154.283 1387.09 M154.283 1383.39 Q160.093 1383.39 163.149 1388 Q166.227 1392.58 166.227 1401.33 Q166.227 1410.06 163.149 1414.66 Q160.093 1419.25 154.283 1419.25 Q148.473 1419.25 145.394 1414.66 Q142.339 1410.06 142.339 1401.33 Q142.339 1392.58 145.394 1388 Q148.473 1383.39 154.283 1383.39 Z\" fill=\"#000000\" fill-rule=\"evenodd\" fill-opacity=\"1\" /><path clip-path=\"url(#clip660)\" d=\"M145.325 965.937 L163.681 965.937 L163.681 969.872 L149.607 969.872 L149.607 978.344 Q150.626 977.997 151.644 977.835 Q152.663 977.65 153.681 977.65 Q159.468 977.65 162.848 980.821 Q166.227 983.992 166.227 989.409 Q166.227 994.987 162.755 998.089 Q159.283 1001.17 152.964 1001.17 Q150.788 1001.17 148.519 1000.8 Q146.274 1000.43 143.866 999.686 L143.866 994.987 Q145.95 996.122 148.172 996.677 Q150.394 997.233 152.871 997.233 Q156.876 997.233 159.214 995.126 Q161.552 993.02 161.552 989.409 Q161.552 985.798 159.214 983.691 Q156.876 981.585 152.871 981.585 Q150.996 981.585 149.121 982.001 Q147.269 982.418 145.325 983.298 L145.325 965.937 Z\" fill=\"#000000\" fill-rule=\"evenodd\" fill-opacity=\"1\" /><path clip-path=\"url(#clip660)\" d=\"M114.931 578.482 L122.57 578.482 L122.57 552.117 L114.26 553.783 L114.26 549.524 L122.524 547.857 L127.2 547.857 L127.2 578.482 L134.839 578.482 L134.839 582.417 L114.931 582.417 L114.931 578.482 Z\" fill=\"#000000\" fill-rule=\"evenodd\" fill-opacity=\"1\" /><path clip-path=\"url(#clip660)\" d=\"M154.283 550.936 Q150.672 550.936 148.843 554.501 Q147.038 558.042 147.038 565.172 Q147.038 572.278 148.843 575.843 Q150.672 579.385 154.283 579.385 Q157.917 579.385 159.723 575.843 Q161.552 572.278 161.552 565.172 Q161.552 558.042 159.723 554.501 Q157.917 550.936 154.283 550.936 M154.283 547.232 Q160.093 547.232 163.149 551.839 Q166.227 556.422 166.227 565.172 Q166.227 573.899 163.149 578.505 Q160.093 583.089 154.283 583.089 Q148.473 583.089 145.394 578.505 Q142.339 573.899 142.339 565.172 Q142.339 556.422 145.394 551.839 Q148.473 547.232 154.283 547.232 Z\" fill=\"#000000\" fill-rule=\"evenodd\" fill-opacity=\"1\" /><path clip-path=\"url(#clip660)\" d=\"M115.927 160.403 L123.566 160.403 L123.566 134.037 L115.256 135.704 L115.256 131.445 L123.519 129.778 L128.195 129.778 L128.195 160.403 L135.834 160.403 L135.834 164.338 L115.927 164.338 L115.927 160.403 Z\" fill=\"#000000\" fill-rule=\"evenodd\" fill-opacity=\"1\" /><path clip-path=\"url(#clip660)\" d=\"M145.325 129.778 L163.681 129.778 L163.681 133.713 L149.607 133.713 L149.607 142.185 Q150.626 141.838 151.644 141.676 Q152.663 141.491 153.681 141.491 Q159.468 141.491 162.848 144.662 Q166.227 147.833 166.227 153.25 Q166.227 158.829 162.755 161.931 Q159.283 165.009 152.964 165.009 Q150.788 165.009 148.519 164.639 Q146.274 164.269 143.866 163.528 L143.866 158.829 Q145.95 159.963 148.172 160.519 Q150.394 161.074 152.871 161.074 Q156.876 161.074 159.214 158.968 Q161.552 156.861 161.552 153.25 Q161.552 149.639 159.214 147.533 Q156.876 145.426 152.871 145.426 Q150.996 145.426 149.121 145.843 Q147.269 146.259 145.325 147.139 L145.325 129.778 Z\" fill=\"#000000\" fill-rule=\"evenodd\" fill-opacity=\"1\" /><path clip-path=\"url(#clip660)\" d=\"M29.4065 1005.21 L34.9447 1005.21 Q33.6716 1007.7 33.035 1010.37 Q32.3984 1013.04 32.3984 1015.91 Q32.3984 1020.27 33.7352 1022.46 Q35.072 1024.63 37.7456 1024.63 Q39.7826 1024.63 40.9603 1023.07 Q42.1061 1021.51 43.1565 1016.8 L43.6021 1014.79 Q44.9389 1008.56 47.3897 1005.95 Q49.8086 1003.3 54.1691 1003.3 Q59.1344 1003.3 62.0308 1007.25 Q64.9272 1011.17 64.9272 1018.04 Q64.9272 1020.9 64.3543 1024.02 Q63.8132 1027.11 62.6992 1030.55 L56.6518 1030.55 Q58.3387 1027.3 59.198 1024.15 Q60.0256 1021 60.0256 1017.91 Q60.0256 1013.78 58.6251 1011.55 Q57.1929 1009.32 54.6147 1009.32 Q52.2276 1009.32 50.9545 1010.94 Q49.6813 1012.53 48.5037 1017.98 L48.0262 1020.01 Q46.8804 1025.46 44.5251 1027.88 Q42.138 1030.29 38.0002 1030.29 Q32.9713 1030.29 30.2341 1026.73 Q27.4968 1023.16 27.4968 1016.61 Q27.4968 1013.36 27.9743 1010.5 Q28.4517 1007.63 29.4065 1005.21 Z\" fill=\"#000000\" fill-rule=\"evenodd\" fill-opacity=\"1\" /><path clip-path=\"url(#clip660)\" d=\"M32.4621 980.164 Q32.4621 984.875 36.1542 987.612 Q39.8145 990.349 46.212 990.349 Q52.6095 990.349 56.3017 987.644 Q59.9619 984.907 59.9619 980.164 Q59.9619 975.486 56.2698 972.748 Q52.5777 970.011 46.212 970.011 Q39.8781 970.011 36.186 972.748 Q32.4621 975.486 32.4621 980.164 M27.4968 980.164 Q27.4968 972.526 32.4621 968.165 Q37.4273 963.804 46.212 963.804 Q54.9649 963.804 59.9619 968.165 Q64.9272 972.526 64.9272 980.164 Q64.9272 987.835 59.9619 992.196 Q54.9649 996.524 46.212 996.524 Q37.4273 996.524 32.4621 992.196 Q27.4968 987.835 27.4968 980.164 Z\" fill=\"#000000\" fill-rule=\"evenodd\" fill-opacity=\"1\" /><path clip-path=\"url(#clip660)\" d=\"M14.479 954.097 L14.479 948.24 L64.0042 948.24 L64.0042 954.097 L14.479 954.097 Z\" fill=\"#000000\" fill-rule=\"evenodd\" fill-opacity=\"1\" /><path clip-path=\"url(#clip660)\" d=\"M55.9197 935.159 L55.9197 928.443 L64.0042 928.443 L64.0042 935.159 L55.9197 935.159 Z\" fill=\"#000000\" fill-rule=\"evenodd\" fill-opacity=\"1\" /><path clip-path=\"url(#clip660)\" d=\"M18.2347 888.753 L28.3562 888.753 L28.3562 876.69 L32.9077 876.69 L32.9077 888.753 L52.2594 888.753 Q56.6199 888.753 57.8613 887.575 Q59.1026 886.366 59.1026 882.705 L59.1026 876.69 L64.0042 876.69 L64.0042 882.705 Q64.0042 889.485 61.4897 892.063 Q58.9434 894.641 52.2594 894.641 L32.9077 894.641 L32.9077 898.938 L28.3562 898.938 L28.3562 894.641 L18.2347 894.641 L18.2347 888.753 Z\" fill=\"#000000\" fill-rule=\"evenodd\" fill-opacity=\"1\" /><path clip-path=\"url(#clip660)\" d=\"M28.3562 868.987 L28.3562 863.131 L64.0042 863.131 L64.0042 868.987 L28.3562 868.987 M14.479 868.987 L14.479 863.131 L21.895 863.131 L21.895 868.987 L14.479 868.987 Z\" fill=\"#000000\" fill-rule=\"evenodd\" fill-opacity=\"1\" /><path clip-path=\"url(#clip660)\" d=\"M35.1993 823.122 Q31.2526 820.926 29.3747 817.871 Q27.4968 814.815 27.4968 810.677 Q27.4968 805.107 31.4117 802.084 Q35.2948 799.06 42.4881 799.06 L64.0042 799.06 L64.0042 804.948 L42.679 804.948 Q37.5546 804.948 35.072 806.763 Q32.5894 808.577 32.5894 812.301 Q32.5894 816.852 35.6131 819.494 Q38.6368 822.136 43.8567 822.136 L64.0042 822.136 L64.0042 828.024 L42.679 828.024 Q37.5228 828.024 35.072 829.838 Q32.5894 831.652 32.5894 835.44 Q32.5894 839.928 35.6449 842.57 Q38.6686 845.211 43.8567 845.211 L64.0042 845.211 L64.0042 851.1 L28.3562 851.1 L28.3562 845.211 L33.8944 845.211 Q30.616 843.206 29.0564 840.405 Q27.4968 837.604 27.4968 833.753 Q27.4968 829.87 29.4702 827.165 Q31.4436 824.427 35.1993 823.122 Z\" fill=\"#000000\" fill-rule=\"evenodd\" fill-opacity=\"1\" /><path clip-path=\"url(#clip660)\" d=\"M44.7161 756.887 L47.5806 756.887 L47.5806 783.814 Q53.6281 783.432 56.8109 780.186 Q59.9619 776.907 59.9619 771.083 Q59.9619 767.709 59.1344 764.558 Q58.3069 761.375 56.6518 758.256 L62.1899 758.256 Q63.5267 761.407 64.227 764.717 Q64.9272 768.027 64.9272 771.433 Q64.9272 779.963 59.9619 784.96 Q54.9967 789.925 46.5303 789.925 Q37.7774 789.925 32.6531 785.215 Q27.4968 780.472 27.4968 772.451 Q27.4968 765.258 32.1438 761.089 Q36.7589 756.887 44.7161 756.887 M42.9973 762.744 Q38.1912 762.807 35.3266 765.449 Q32.4621 768.059 32.4621 772.388 Q32.4621 777.289 35.2312 780.249 Q38.0002 783.178 43.0292 783.623 L42.9973 762.744 Z\" fill=\"#000000\" fill-rule=\"evenodd\" fill-opacity=\"1\" /><path clip-path=\"url(#clip660)\" d=\"M14.5426 712.486 Q21.8632 716.751 29.0246 718.82 Q36.186 720.889 43.5384 720.889 Q50.8908 720.889 58.1159 718.82 Q65.3091 716.72 72.5979 712.486 L72.5979 717.579 Q65.1182 722.353 57.8931 724.74 Q50.668 727.096 43.5384 727.096 Q36.4406 727.096 29.2474 724.74 Q22.0542 722.385 14.5426 717.579 L14.5426 712.486 Z\" fill=\"#000000\" fill-rule=\"evenodd\" fill-opacity=\"1\" /><path clip-path=\"url(#clip660)\" d=\"M35.1993 673.369 Q31.2526 671.173 29.3747 668.117 Q27.4968 665.062 27.4968 660.924 Q27.4968 655.354 31.4117 652.33 Q35.2948 649.307 42.4881 649.307 L64.0042 649.307 L64.0042 655.195 L42.679 655.195 Q37.5546 655.195 35.072 657.009 Q32.5894 658.823 32.5894 662.547 Q32.5894 667.099 35.6131 669.741 Q38.6368 672.382 43.8567 672.382 L64.0042 672.382 L64.0042 678.271 L42.679 678.271 Q37.5228 678.271 35.072 680.085 Q32.5894 681.899 32.5894 685.687 Q32.5894 690.175 35.6449 692.816 Q38.6686 695.458 43.8567 695.458 L64.0042 695.458 L64.0042 701.346 L28.3562 701.346 L28.3562 695.458 L33.8944 695.458 Q30.616 693.453 29.0564 690.652 Q27.4968 687.851 27.4968 684 Q27.4968 680.117 29.4702 677.411 Q31.4436 674.674 35.1993 673.369 Z\" fill=\"#000000\" fill-rule=\"evenodd\" fill-opacity=\"1\" /><path clip-path=\"url(#clip660)\" d=\"M46.0847 621.425 Q46.0847 628.523 47.7079 631.26 Q49.3312 633.997 53.2461 633.997 Q56.3653 633.997 58.2114 631.96 Q60.0256 629.891 60.0256 626.358 Q60.0256 621.489 56.5881 618.56 Q53.1188 615.6 47.3897 615.6 L46.0847 615.6 L46.0847 621.425 M43.6657 609.744 L64.0042 609.744 L64.0042 615.6 L58.5933 615.6 Q61.8398 617.606 63.3994 620.597 Q64.9272 623.589 64.9272 627.918 Q64.9272 633.392 61.8716 636.639 Q58.7843 639.854 53.6281 639.854 Q47.6125 639.854 44.5569 635.843 Q41.5014 631.801 41.5014 623.812 L41.5014 615.6 L40.9285 615.6 Q36.8862 615.6 34.6901 618.274 Q32.4621 620.916 32.4621 625.722 Q32.4621 628.777 33.1941 631.674 Q33.9262 634.57 35.3903 637.244 L29.9795 637.244 Q28.7381 634.029 28.1334 631.005 Q27.4968 627.982 27.4968 625.117 Q27.4968 617.383 31.5072 613.563 Q35.5176 609.744 43.6657 609.744 Z\" fill=\"#000000\" fill-rule=\"evenodd\" fill-opacity=\"1\" /><path clip-path=\"url(#clip660)\" d=\"M28.3562 568.049 L45.7028 580.939 L64.0042 567.38 L64.0042 574.287 L49.9996 584.663 L64.0042 595.039 L64.0042 601.946 L45.3526 588.1 L28.3562 600.768 L28.3562 593.861 L41.0558 584.408 L28.3562 574.955 L28.3562 568.049 Z\" fill=\"#000000\" fill-rule=\"evenodd\" fill-opacity=\"1\" /><path clip-path=\"url(#clip660)\" d=\"M14.5426 560.028 L14.5426 554.935 Q22.0542 550.161 29.2474 547.806 Q36.4406 545.418 43.5384 545.418 Q50.668 545.418 57.8931 547.806 Q65.1182 550.161 72.5979 554.935 L72.5979 560.028 Q65.3091 555.795 58.1159 553.726 Q50.8908 551.625 43.5384 551.625 Q36.186 551.625 29.0246 553.726 Q21.8632 555.795 14.5426 560.028 Z\" fill=\"#000000\" fill-rule=\"evenodd\" fill-opacity=\"1\" /><path clip-path=\"url(#clip660)\" d=\"M14.479 513.494 L14.479 499.999 L19.0304 499.999 L19.0304 507.638 L68.0464 507.638 L68.0464 499.999 L72.5979 499.999 L72.5979 513.494 L14.479 513.494 Z\" fill=\"#000000\" fill-rule=\"evenodd\" fill-opacity=\"1\" /><path clip-path=\"url(#clip660)\" d=\"M29.4065 464.797 L34.9447 464.797 Q33.6716 467.279 33.035 469.953 Q32.3984 472.627 32.3984 475.491 Q32.3984 479.852 33.7352 482.048 Q35.072 484.212 37.7456 484.212 Q39.7826 484.212 40.9603 482.653 Q42.1061 481.093 43.1565 476.382 L43.6021 474.377 Q44.9389 468.139 47.3897 465.529 Q49.8086 462.887 54.1691 462.887 Q59.1344 462.887 62.0308 466.834 Q64.9272 470.749 64.9272 477.624 Q64.9272 480.488 64.3543 483.607 Q63.8132 486.695 62.6992 490.132 L56.6518 490.132 Q58.3387 486.886 59.198 483.735 Q60.0256 480.584 60.0256 477.496 Q60.0256 473.359 58.6251 471.131 Q57.1929 468.903 54.6147 468.903 Q52.2276 468.903 50.9545 470.526 Q49.6813 472.117 48.5037 477.56 L48.0262 479.597 Q46.8804 485.04 44.5251 487.459 Q42.138 489.878 38.0002 489.878 Q32.9713 489.878 30.2341 486.313 Q27.4968 482.748 27.4968 476.191 Q27.4968 472.945 27.9743 470.08 Q28.4517 467.216 29.4065 464.797 Z\" fill=\"#000000\" fill-rule=\"evenodd\" fill-opacity=\"1\" /><path clip-path=\"url(#clip660)\" d=\"M14.479 439.875 L72.5979 439.875 L72.5979 453.37 L68.0464 453.37 L68.0464 445.763 L19.0304 445.763 L19.0304 453.37 L14.479 453.37 L14.479 439.875 Z\" fill=\"#000000\" fill-rule=\"evenodd\" fill-opacity=\"1\" /><polyline clip-path=\"url(#clip662)\" style=\"stroke:#009af9; stroke-linecap:round; stroke-linejoin:round; stroke-width:4; stroke-opacity:1; fill:none\" points=\"263.091,1384.24 333.05,1356.48 403.009,1339.75 472.967,1345.61 542.926,1294.77 612.885,1239.08 682.843,1258.15 752.802,1192.17 822.761,1097.35 892.719,1090.5 962.678,1075.19 1032.64,1002.62 1102.6,950.272 1172.55,662.717 1242.51,980.457 1312.47,922.428 1382.43,958.299 1452.39,632.03 1522.35,1057.63 1592.31,446.486 1662.26,449.246 1732.22,434.028 \"/>\n",
       "<polyline clip-path=\"url(#clip662)\" style=\"stroke:#009af9; stroke-linecap:round; stroke-linejoin:round; stroke-width:4; stroke-opacity:1; fill:none\" points=\"1872.14,212.278 1942.1,652.934 2012.06,364.292 2082.02,230.925 2151.97,513.463 2221.93,95.8851 2291.89,86.1857 \"/>\n",
       "<circle clip-path=\"url(#clip662)\" cx=\"263.091\" cy=\"1384.24\" r=\"14.4\" fill=\"#008000\" fill-rule=\"evenodd\" fill-opacity=\"1\" stroke=\"#000000\" stroke-opacity=\"1\" stroke-width=\"3.2\"/>\n",
       "<circle clip-path=\"url(#clip662)\" cx=\"333.05\" cy=\"1356.48\" r=\"14.4\" fill=\"#008000\" fill-rule=\"evenodd\" fill-opacity=\"1\" stroke=\"#000000\" stroke-opacity=\"1\" stroke-width=\"3.2\"/>\n",
       "<circle clip-path=\"url(#clip662)\" cx=\"403.009\" cy=\"1339.75\" r=\"14.4\" fill=\"#008000\" fill-rule=\"evenodd\" fill-opacity=\"1\" stroke=\"#000000\" stroke-opacity=\"1\" stroke-width=\"3.2\"/>\n",
       "<circle clip-path=\"url(#clip662)\" cx=\"472.967\" cy=\"1345.61\" r=\"14.4\" fill=\"#008000\" fill-rule=\"evenodd\" fill-opacity=\"1\" stroke=\"#000000\" stroke-opacity=\"1\" stroke-width=\"3.2\"/>\n",
       "<circle clip-path=\"url(#clip662)\" cx=\"542.926\" cy=\"1294.77\" r=\"14.4\" fill=\"#008000\" fill-rule=\"evenodd\" fill-opacity=\"1\" stroke=\"#000000\" stroke-opacity=\"1\" stroke-width=\"3.2\"/>\n",
       "<circle clip-path=\"url(#clip662)\" cx=\"612.885\" cy=\"1239.08\" r=\"14.4\" fill=\"#008000\" fill-rule=\"evenodd\" fill-opacity=\"1\" stroke=\"#000000\" stroke-opacity=\"1\" stroke-width=\"3.2\"/>\n",
       "<circle clip-path=\"url(#clip662)\" cx=\"682.843\" cy=\"1258.15\" r=\"14.4\" fill=\"#008000\" fill-rule=\"evenodd\" fill-opacity=\"1\" stroke=\"#000000\" stroke-opacity=\"1\" stroke-width=\"3.2\"/>\n",
       "<circle clip-path=\"url(#clip662)\" cx=\"752.802\" cy=\"1192.17\" r=\"14.4\" fill=\"#008000\" fill-rule=\"evenodd\" fill-opacity=\"1\" stroke=\"#000000\" stroke-opacity=\"1\" stroke-width=\"3.2\"/>\n",
       "<circle clip-path=\"url(#clip662)\" cx=\"822.761\" cy=\"1097.35\" r=\"14.4\" fill=\"#008000\" fill-rule=\"evenodd\" fill-opacity=\"1\" stroke=\"#000000\" stroke-opacity=\"1\" stroke-width=\"3.2\"/>\n",
       "<circle clip-path=\"url(#clip662)\" cx=\"892.719\" cy=\"1090.5\" r=\"14.4\" fill=\"#008000\" fill-rule=\"evenodd\" fill-opacity=\"1\" stroke=\"#000000\" stroke-opacity=\"1\" stroke-width=\"3.2\"/>\n",
       "<circle clip-path=\"url(#clip662)\" cx=\"962.678\" cy=\"1075.19\" r=\"14.4\" fill=\"#008000\" fill-rule=\"evenodd\" fill-opacity=\"1\" stroke=\"#000000\" stroke-opacity=\"1\" stroke-width=\"3.2\"/>\n",
       "<circle clip-path=\"url(#clip662)\" cx=\"1032.64\" cy=\"1002.62\" r=\"14.4\" fill=\"#008000\" fill-rule=\"evenodd\" fill-opacity=\"1\" stroke=\"#000000\" stroke-opacity=\"1\" stroke-width=\"3.2\"/>\n",
       "<circle clip-path=\"url(#clip662)\" cx=\"1102.6\" cy=\"950.272\" r=\"14.4\" fill=\"#008000\" fill-rule=\"evenodd\" fill-opacity=\"1\" stroke=\"#000000\" stroke-opacity=\"1\" stroke-width=\"3.2\"/>\n",
       "<circle clip-path=\"url(#clip662)\" cx=\"1172.55\" cy=\"662.717\" r=\"14.4\" fill=\"#008000\" fill-rule=\"evenodd\" fill-opacity=\"1\" stroke=\"#000000\" stroke-opacity=\"1\" stroke-width=\"3.2\"/>\n",
       "<circle clip-path=\"url(#clip662)\" cx=\"1242.51\" cy=\"980.457\" r=\"14.4\" fill=\"#008000\" fill-rule=\"evenodd\" fill-opacity=\"1\" stroke=\"#000000\" stroke-opacity=\"1\" stroke-width=\"3.2\"/>\n",
       "<circle clip-path=\"url(#clip662)\" cx=\"1312.47\" cy=\"922.428\" r=\"14.4\" fill=\"#008000\" fill-rule=\"evenodd\" fill-opacity=\"1\" stroke=\"#000000\" stroke-opacity=\"1\" stroke-width=\"3.2\"/>\n",
       "<circle clip-path=\"url(#clip662)\" cx=\"1382.43\" cy=\"958.299\" r=\"14.4\" fill=\"#008000\" fill-rule=\"evenodd\" fill-opacity=\"1\" stroke=\"#000000\" stroke-opacity=\"1\" stroke-width=\"3.2\"/>\n",
       "<circle clip-path=\"url(#clip662)\" cx=\"1452.39\" cy=\"632.03\" r=\"14.4\" fill=\"#008000\" fill-rule=\"evenodd\" fill-opacity=\"1\" stroke=\"#000000\" stroke-opacity=\"1\" stroke-width=\"3.2\"/>\n",
       "<circle clip-path=\"url(#clip662)\" cx=\"1522.35\" cy=\"1057.63\" r=\"14.4\" fill=\"#008000\" fill-rule=\"evenodd\" fill-opacity=\"1\" stroke=\"#000000\" stroke-opacity=\"1\" stroke-width=\"3.2\"/>\n",
       "<circle clip-path=\"url(#clip662)\" cx=\"1592.31\" cy=\"446.486\" r=\"14.4\" fill=\"#008000\" fill-rule=\"evenodd\" fill-opacity=\"1\" stroke=\"#000000\" stroke-opacity=\"1\" stroke-width=\"3.2\"/>\n",
       "<circle clip-path=\"url(#clip662)\" cx=\"1662.26\" cy=\"449.246\" r=\"14.4\" fill=\"#008000\" fill-rule=\"evenodd\" fill-opacity=\"1\" stroke=\"#000000\" stroke-opacity=\"1\" stroke-width=\"3.2\"/>\n",
       "<circle clip-path=\"url(#clip662)\" cx=\"1732.22\" cy=\"434.028\" r=\"14.4\" fill=\"#008000\" fill-rule=\"evenodd\" fill-opacity=\"1\" stroke=\"#000000\" stroke-opacity=\"1\" stroke-width=\"3.2\"/>\n",
       "<circle clip-path=\"url(#clip662)\" cx=\"1872.14\" cy=\"212.278\" r=\"14.4\" fill=\"#008000\" fill-rule=\"evenodd\" fill-opacity=\"1\" stroke=\"#000000\" stroke-opacity=\"1\" stroke-width=\"3.2\"/>\n",
       "<circle clip-path=\"url(#clip662)\" cx=\"1942.1\" cy=\"652.934\" r=\"14.4\" fill=\"#008000\" fill-rule=\"evenodd\" fill-opacity=\"1\" stroke=\"#000000\" stroke-opacity=\"1\" stroke-width=\"3.2\"/>\n",
       "<circle clip-path=\"url(#clip662)\" cx=\"2012.06\" cy=\"364.292\" r=\"14.4\" fill=\"#008000\" fill-rule=\"evenodd\" fill-opacity=\"1\" stroke=\"#000000\" stroke-opacity=\"1\" stroke-width=\"3.2\"/>\n",
       "<circle clip-path=\"url(#clip662)\" cx=\"2082.02\" cy=\"230.925\" r=\"14.4\" fill=\"#008000\" fill-rule=\"evenodd\" fill-opacity=\"1\" stroke=\"#000000\" stroke-opacity=\"1\" stroke-width=\"3.2\"/>\n",
       "<circle clip-path=\"url(#clip662)\" cx=\"2151.97\" cy=\"513.463\" r=\"14.4\" fill=\"#008000\" fill-rule=\"evenodd\" fill-opacity=\"1\" stroke=\"#000000\" stroke-opacity=\"1\" stroke-width=\"3.2\"/>\n",
       "<circle clip-path=\"url(#clip662)\" cx=\"2221.93\" cy=\"95.8851\" r=\"14.4\" fill=\"#008000\" fill-rule=\"evenodd\" fill-opacity=\"1\" stroke=\"#000000\" stroke-opacity=\"1\" stroke-width=\"3.2\"/>\n",
       "<circle clip-path=\"url(#clip662)\" cx=\"2291.89\" cy=\"86.1857\" r=\"14.4\" fill=\"#008000\" fill-rule=\"evenodd\" fill-opacity=\"1\" stroke=\"#000000\" stroke-opacity=\"1\" stroke-width=\"3.2\"/>\n",
       "<polyline clip-path=\"url(#clip662)\" style=\"stroke:#e26f46; stroke-linecap:round; stroke-linejoin:round; stroke-width:4; stroke-opacity:1; fill:none\" points=\"263.091,1074.78 333.05,1055.13 403.009,911.474 472.967,998.936 542.926,882.125 612.885,926.943 682.843,868.496 752.802,946.76 822.761,865.569 892.719,946.008 962.678,919.418 1032.64,847.759 1102.6,789.562 1172.55,822.841 1242.51,832.123 1312.47,829.698 1382.43,758.708 1452.39,809.296 1522.35,883.296 1592.31,935.388 1662.26,912.059 1732.22,800.683 1802.18,858.545 1872.14,936.559 1942.1,862.308 2012.06,783.793 2082.02,825.517 2151.97,751.935 2221.93,697.919 2291.89,546.742 \"/>\n",
       "<path clip-path=\"url(#clip662)\" d=\"M247.091 1058.78 L247.091 1090.78 L279.091 1090.78 L279.091 1058.78 L247.091 1058.78 Z\" fill=\"#ff0000\" fill-rule=\"evenodd\" fill-opacity=\"1\" stroke=\"#000000\" stroke-opacity=\"1\" stroke-width=\"3.2\"/>\n",
       "<path clip-path=\"url(#clip662)\" d=\"M317.05 1039.13 L317.05 1071.13 L349.05 1071.13 L349.05 1039.13 L317.05 1039.13 Z\" fill=\"#ff0000\" fill-rule=\"evenodd\" fill-opacity=\"1\" stroke=\"#000000\" stroke-opacity=\"1\" stroke-width=\"3.2\"/>\n",
       "<path clip-path=\"url(#clip662)\" d=\"M387.009 895.474 L387.009 927.474 L419.009 927.474 L419.009 895.474 L387.009 895.474 Z\" fill=\"#ff0000\" fill-rule=\"evenodd\" fill-opacity=\"1\" stroke=\"#000000\" stroke-opacity=\"1\" stroke-width=\"3.2\"/>\n",
       "<path clip-path=\"url(#clip662)\" d=\"M456.967 982.936 L456.967 1014.94 L488.967 1014.94 L488.967 982.936 L456.967 982.936 Z\" fill=\"#ff0000\" fill-rule=\"evenodd\" fill-opacity=\"1\" stroke=\"#000000\" stroke-opacity=\"1\" stroke-width=\"3.2\"/>\n",
       "<path clip-path=\"url(#clip662)\" d=\"M526.926 866.125 L526.926 898.125 L558.926 898.125 L558.926 866.125 L526.926 866.125 Z\" fill=\"#ff0000\" fill-rule=\"evenodd\" fill-opacity=\"1\" stroke=\"#000000\" stroke-opacity=\"1\" stroke-width=\"3.2\"/>\n",
       "<path clip-path=\"url(#clip662)\" d=\"M596.885 910.943 L596.885 942.943 L628.885 942.943 L628.885 910.943 L596.885 910.943 Z\" fill=\"#ff0000\" fill-rule=\"evenodd\" fill-opacity=\"1\" stroke=\"#000000\" stroke-opacity=\"1\" stroke-width=\"3.2\"/>\n",
       "<path clip-path=\"url(#clip662)\" d=\"M666.843 852.496 L666.843 884.496 L698.843 884.496 L698.843 852.496 L666.843 852.496 Z\" fill=\"#ff0000\" fill-rule=\"evenodd\" fill-opacity=\"1\" stroke=\"#000000\" stroke-opacity=\"1\" stroke-width=\"3.2\"/>\n",
       "<path clip-path=\"url(#clip662)\" d=\"M736.802 930.76 L736.802 962.76 L768.802 962.76 L768.802 930.76 L736.802 930.76 Z\" fill=\"#ff0000\" fill-rule=\"evenodd\" fill-opacity=\"1\" stroke=\"#000000\" stroke-opacity=\"1\" stroke-width=\"3.2\"/>\n",
       "<path clip-path=\"url(#clip662)\" d=\"M806.761 849.569 L806.761 881.569 L838.761 881.569 L838.761 849.569 L806.761 849.569 Z\" fill=\"#ff0000\" fill-rule=\"evenodd\" fill-opacity=\"1\" stroke=\"#000000\" stroke-opacity=\"1\" stroke-width=\"3.2\"/>\n",
       "<path clip-path=\"url(#clip662)\" d=\"M876.719 930.008 L876.719 962.008 L908.719 962.008 L908.719 930.008 L876.719 930.008 Z\" fill=\"#ff0000\" fill-rule=\"evenodd\" fill-opacity=\"1\" stroke=\"#000000\" stroke-opacity=\"1\" stroke-width=\"3.2\"/>\n",
       "<path clip-path=\"url(#clip662)\" d=\"M946.678 903.418 L946.678 935.418 L978.678 935.418 L978.678 903.418 L946.678 903.418 Z\" fill=\"#ff0000\" fill-rule=\"evenodd\" fill-opacity=\"1\" stroke=\"#000000\" stroke-opacity=\"1\" stroke-width=\"3.2\"/>\n",
       "<path clip-path=\"url(#clip662)\" d=\"M1016.64 831.759 L1016.64 863.759 L1048.64 863.759 L1048.64 831.759 L1016.64 831.759 Z\" fill=\"#ff0000\" fill-rule=\"evenodd\" fill-opacity=\"1\" stroke=\"#000000\" stroke-opacity=\"1\" stroke-width=\"3.2\"/>\n",
       "<path clip-path=\"url(#clip662)\" d=\"M1086.6 773.562 L1086.6 805.562 L1118.6 805.562 L1118.6 773.562 L1086.6 773.562 Z\" fill=\"#ff0000\" fill-rule=\"evenodd\" fill-opacity=\"1\" stroke=\"#000000\" stroke-opacity=\"1\" stroke-width=\"3.2\"/>\n",
       "<path clip-path=\"url(#clip662)\" d=\"M1156.55 806.841 L1156.55 838.841 L1188.55 838.841 L1188.55 806.841 L1156.55 806.841 Z\" fill=\"#ff0000\" fill-rule=\"evenodd\" fill-opacity=\"1\" stroke=\"#000000\" stroke-opacity=\"1\" stroke-width=\"3.2\"/>\n",
       "<path clip-path=\"url(#clip662)\" d=\"M1226.51 816.123 L1226.51 848.123 L1258.51 848.123 L1258.51 816.123 L1226.51 816.123 Z\" fill=\"#ff0000\" fill-rule=\"evenodd\" fill-opacity=\"1\" stroke=\"#000000\" stroke-opacity=\"1\" stroke-width=\"3.2\"/>\n",
       "<path clip-path=\"url(#clip662)\" d=\"M1296.47 813.698 L1296.47 845.698 L1328.47 845.698 L1328.47 813.698 L1296.47 813.698 Z\" fill=\"#ff0000\" fill-rule=\"evenodd\" fill-opacity=\"1\" stroke=\"#000000\" stroke-opacity=\"1\" stroke-width=\"3.2\"/>\n",
       "<path clip-path=\"url(#clip662)\" d=\"M1366.43 742.708 L1366.43 774.708 L1398.43 774.708 L1398.43 742.708 L1366.43 742.708 Z\" fill=\"#ff0000\" fill-rule=\"evenodd\" fill-opacity=\"1\" stroke=\"#000000\" stroke-opacity=\"1\" stroke-width=\"3.2\"/>\n",
       "<path clip-path=\"url(#clip662)\" d=\"M1436.39 793.296 L1436.39 825.296 L1468.39 825.296 L1468.39 793.296 L1436.39 793.296 Z\" fill=\"#ff0000\" fill-rule=\"evenodd\" fill-opacity=\"1\" stroke=\"#000000\" stroke-opacity=\"1\" stroke-width=\"3.2\"/>\n",
       "<path clip-path=\"url(#clip662)\" d=\"M1506.35 867.296 L1506.35 899.296 L1538.35 899.296 L1538.35 867.296 L1506.35 867.296 Z\" fill=\"#ff0000\" fill-rule=\"evenodd\" fill-opacity=\"1\" stroke=\"#000000\" stroke-opacity=\"1\" stroke-width=\"3.2\"/>\n",
       "<path clip-path=\"url(#clip662)\" d=\"M1576.31 919.388 L1576.31 951.388 L1608.31 951.388 L1608.31 919.388 L1576.31 919.388 Z\" fill=\"#ff0000\" fill-rule=\"evenodd\" fill-opacity=\"1\" stroke=\"#000000\" stroke-opacity=\"1\" stroke-width=\"3.2\"/>\n",
       "<path clip-path=\"url(#clip662)\" d=\"M1646.26 896.059 L1646.26 928.059 L1678.26 928.059 L1678.26 896.059 L1646.26 896.059 Z\" fill=\"#ff0000\" fill-rule=\"evenodd\" fill-opacity=\"1\" stroke=\"#000000\" stroke-opacity=\"1\" stroke-width=\"3.2\"/>\n",
       "<path clip-path=\"url(#clip662)\" d=\"M1716.22 784.683 L1716.22 816.683 L1748.22 816.683 L1748.22 784.683 L1716.22 784.683 Z\" fill=\"#ff0000\" fill-rule=\"evenodd\" fill-opacity=\"1\" stroke=\"#000000\" stroke-opacity=\"1\" stroke-width=\"3.2\"/>\n",
       "<path clip-path=\"url(#clip662)\" d=\"M1786.18 842.545 L1786.18 874.545 L1818.18 874.545 L1818.18 842.545 L1786.18 842.545 Z\" fill=\"#ff0000\" fill-rule=\"evenodd\" fill-opacity=\"1\" stroke=\"#000000\" stroke-opacity=\"1\" stroke-width=\"3.2\"/>\n",
       "<path clip-path=\"url(#clip662)\" d=\"M1856.14 920.559 L1856.14 952.559 L1888.14 952.559 L1888.14 920.559 L1856.14 920.559 Z\" fill=\"#ff0000\" fill-rule=\"evenodd\" fill-opacity=\"1\" stroke=\"#000000\" stroke-opacity=\"1\" stroke-width=\"3.2\"/>\n",
       "<path clip-path=\"url(#clip662)\" d=\"M1926.1 846.308 L1926.1 878.308 L1958.1 878.308 L1958.1 846.308 L1926.1 846.308 Z\" fill=\"#ff0000\" fill-rule=\"evenodd\" fill-opacity=\"1\" stroke=\"#000000\" stroke-opacity=\"1\" stroke-width=\"3.2\"/>\n",
       "<path clip-path=\"url(#clip662)\" d=\"M1996.06 767.793 L1996.06 799.793 L2028.06 799.793 L2028.06 767.793 L1996.06 767.793 Z\" fill=\"#ff0000\" fill-rule=\"evenodd\" fill-opacity=\"1\" stroke=\"#000000\" stroke-opacity=\"1\" stroke-width=\"3.2\"/>\n",
       "<path clip-path=\"url(#clip662)\" d=\"M2066.02 809.517 L2066.02 841.517 L2098.02 841.517 L2098.02 809.517 L2066.02 809.517 Z\" fill=\"#ff0000\" fill-rule=\"evenodd\" fill-opacity=\"1\" stroke=\"#000000\" stroke-opacity=\"1\" stroke-width=\"3.2\"/>\n",
       "<path clip-path=\"url(#clip662)\" d=\"M2135.97 735.935 L2135.97 767.935 L2167.97 767.935 L2167.97 735.935 L2135.97 735.935 Z\" fill=\"#ff0000\" fill-rule=\"evenodd\" fill-opacity=\"1\" stroke=\"#000000\" stroke-opacity=\"1\" stroke-width=\"3.2\"/>\n",
       "<path clip-path=\"url(#clip662)\" d=\"M2205.93 681.919 L2205.93 713.919 L2237.93 713.919 L2237.93 681.919 L2205.93 681.919 Z\" fill=\"#ff0000\" fill-rule=\"evenodd\" fill-opacity=\"1\" stroke=\"#000000\" stroke-opacity=\"1\" stroke-width=\"3.2\"/>\n",
       "<path clip-path=\"url(#clip662)\" d=\"M2275.89 530.742 L2275.89 562.742 L2307.89 562.742 L2307.89 530.742 L2275.89 530.742 Z\" fill=\"#ff0000\" fill-rule=\"evenodd\" fill-opacity=\"1\" stroke=\"#000000\" stroke-opacity=\"1\" stroke-width=\"3.2\"/>\n",
       "<path clip-path=\"url(#clip660)\" d=\"M273.912 248.629 L785.607 248.629 L785.607 93.1086 L273.912 93.1086  Z\" fill=\"#ffffff\" fill-rule=\"evenodd\" fill-opacity=\"1\"/>\n",
       "<polyline clip-path=\"url(#clip660)\" style=\"stroke:#000000; stroke-linecap:round; stroke-linejoin:round; stroke-width:4; stroke-opacity:1; fill:none\" points=\"273.912,248.629 785.607,248.629 785.607,93.1086 273.912,93.1086 273.912,248.629 \"/>\n",
       "<polyline clip-path=\"url(#clip660)\" style=\"stroke:#009af9; stroke-linecap:round; stroke-linejoin:round; stroke-width:4; stroke-opacity:1; fill:none\" points=\"297.807,144.949 441.175,144.949 \"/>\n",
       "<circle clip-path=\"url(#clip660)\" cx=\"369.491\" cy=\"144.949\" r=\"19.9123\" fill=\"#008000\" fill-rule=\"evenodd\" fill-opacity=\"1\" stroke=\"#000000\" stroke-opacity=\"1\" stroke-width=\"5.12\"/>\n",
       "<path clip-path=\"url(#clip660)\" d=\"M485.417 141.28 Q487.014 138.409 489.236 137.044 Q491.459 135.678 494.468 135.678 Q498.519 135.678 500.718 138.525 Q502.917 141.349 502.917 146.581 L502.917 162.229 L498.634 162.229 L498.634 146.719 Q498.634 142.993 497.315 141.187 Q495.996 139.382 493.287 139.382 Q489.977 139.382 488.056 141.581 Q486.135 143.78 486.135 147.576 L486.135 162.229 L481.852 162.229 L481.852 146.719 Q481.852 142.969 480.533 141.187 Q479.213 139.382 476.459 139.382 Q473.195 139.382 471.274 141.604 Q469.352 143.803 469.352 147.576 L469.352 162.229 L465.07 162.229 L465.07 136.303 L469.352 136.303 L469.352 140.331 Q470.811 137.946 472.848 136.812 Q474.885 135.678 477.686 135.678 Q480.51 135.678 482.477 137.113 Q484.468 138.548 485.417 141.28 Z\" fill=\"#000000\" fill-rule=\"evenodd\" fill-opacity=\"1\" /><path clip-path=\"url(#clip660)\" d=\"M521.458 139.289 Q518.033 139.289 516.042 141.974 Q514.051 144.636 514.051 149.289 Q514.051 153.942 516.019 156.627 Q518.009 159.289 521.458 159.289 Q524.861 159.289 526.852 156.604 Q528.843 153.918 528.843 149.289 Q528.843 144.682 526.852 141.997 Q524.861 139.289 521.458 139.289 M521.458 135.678 Q527.014 135.678 530.185 139.289 Q533.357 142.9 533.357 149.289 Q533.357 155.655 530.185 159.289 Q527.014 162.9 521.458 162.9 Q515.88 162.9 512.708 159.289 Q509.56 155.655 509.56 149.289 Q509.56 142.9 512.708 139.289 Q515.88 135.678 521.458 135.678 Z\" fill=\"#000000\" fill-rule=\"evenodd\" fill-opacity=\"1\" /><path clip-path=\"url(#clip660)\" d=\"M561.967 146.581 L561.967 162.229 L557.708 162.229 L557.708 146.719 Q557.708 143.039 556.273 141.21 Q554.838 139.382 551.968 139.382 Q548.518 139.382 546.528 141.581 Q544.537 143.78 544.537 147.576 L544.537 162.229 L540.255 162.229 L540.255 136.303 L544.537 136.303 L544.537 140.331 Q546.065 137.993 548.125 136.835 Q550.208 135.678 552.917 135.678 Q557.384 135.678 559.676 138.456 Q561.967 141.21 561.967 146.581 Z\" fill=\"#000000\" fill-rule=\"evenodd\" fill-opacity=\"1\" /><path clip-path=\"url(#clip660)\" d=\"M580.509 139.289 Q577.083 139.289 575.092 141.974 Q573.102 144.636 573.102 149.289 Q573.102 153.942 575.069 156.627 Q577.06 159.289 580.509 159.289 Q583.912 159.289 585.903 156.604 Q587.893 153.918 587.893 149.289 Q587.893 144.682 585.903 141.997 Q583.912 139.289 580.509 139.289 M580.509 135.678 Q586.065 135.678 589.236 139.289 Q592.407 142.9 592.407 149.289 Q592.407 155.655 589.236 159.289 Q586.065 162.9 580.509 162.9 Q574.93 162.9 571.759 159.289 Q568.611 155.655 568.611 149.289 Q568.611 142.9 571.759 139.289 Q574.93 135.678 580.509 135.678 Z\" fill=\"#000000\" fill-rule=\"evenodd\" fill-opacity=\"1\" /><path clip-path=\"url(#clip660)\" d=\"M599.467 126.21 L603.727 126.21 L603.727 162.229 L599.467 162.229 L599.467 126.21 Z\" fill=\"#000000\" fill-rule=\"evenodd\" fill-opacity=\"1\" /><path clip-path=\"url(#clip660)\" d=\"M612.638 136.303 L616.898 136.303 L616.898 162.229 L612.638 162.229 L612.638 136.303 M612.638 126.21 L616.898 126.21 L616.898 131.604 L612.638 131.604 L612.638 126.21 Z\" fill=\"#000000\" fill-rule=\"evenodd\" fill-opacity=\"1\" /><path clip-path=\"url(#clip660)\" d=\"M630.023 128.942 L630.023 136.303 L638.796 136.303 L638.796 139.613 L630.023 139.613 L630.023 153.687 Q630.023 156.858 630.879 157.761 Q631.759 158.664 634.421 158.664 L638.796 158.664 L638.796 162.229 L634.421 162.229 Q629.49 162.229 627.615 160.4 Q625.74 158.548 625.74 153.687 L625.74 139.613 L622.615 139.613 L622.615 136.303 L625.74 136.303 L625.74 128.942 L630.023 128.942 Z\" fill=\"#000000\" fill-rule=\"evenodd\" fill-opacity=\"1\" /><path clip-path=\"url(#clip660)\" d=\"M665.948 146.581 L665.948 162.229 L661.689 162.229 L661.689 146.719 Q661.689 143.039 660.254 141.21 Q658.819 139.382 655.948 139.382 Q652.499 139.382 650.509 141.581 Q648.518 143.78 648.518 147.576 L648.518 162.229 L644.236 162.229 L644.236 126.21 L648.518 126.21 L648.518 140.331 Q650.046 137.993 652.106 136.835 Q654.189 135.678 656.898 135.678 Q661.365 135.678 663.657 138.456 Q665.948 141.21 665.948 146.581 Z\" fill=\"#000000\" fill-rule=\"evenodd\" fill-opacity=\"1\" /><path clip-path=\"url(#clip660)\" d=\"M674.444 136.303 L678.703 136.303 L678.703 162.229 L674.444 162.229 L674.444 136.303 M674.444 126.21 L678.703 126.21 L678.703 131.604 L674.444 131.604 L674.444 126.21 Z\" fill=\"#000000\" fill-rule=\"evenodd\" fill-opacity=\"1\" /><path clip-path=\"url(#clip660)\" d=\"M706.272 137.298 L706.272 141.28 Q704.467 140.284 702.638 139.798 Q700.832 139.289 698.981 139.289 Q694.837 139.289 692.545 141.928 Q690.254 144.544 690.254 149.289 Q690.254 154.034 692.545 156.673 Q694.837 159.289 698.981 159.289 Q700.832 159.289 702.638 158.803 Q704.467 158.293 706.272 157.298 L706.272 161.233 Q704.49 162.067 702.569 162.483 Q700.67 162.9 698.518 162.9 Q692.661 162.9 689.212 159.219 Q685.763 155.539 685.763 149.289 Q685.763 142.946 689.235 139.312 Q692.731 135.678 698.795 135.678 Q700.763 135.678 702.638 136.095 Q704.513 136.488 706.272 137.298 Z\" fill=\"#000000\" fill-rule=\"evenodd\" fill-opacity=\"1\" /><polyline clip-path=\"url(#clip660)\" style=\"stroke:#e26f46; stroke-linecap:round; stroke-linejoin:round; stroke-width:4; stroke-opacity:1; fill:none\" points=\"297.807,196.789 441.175,196.789 \"/>\n",
       "<path clip-path=\"url(#clip660)\" d=\"M347.366 174.664 L347.366 218.913 L391.616 218.913 L391.616 174.664 L347.366 174.664 Z\" fill=\"#ff0000\" fill-rule=\"evenodd\" fill-opacity=\"1\" stroke=\"#000000\" stroke-opacity=\"1\" stroke-width=\"5.12\"/>\n",
       "<path clip-path=\"url(#clip660)\" d=\"M483.982 192.078 L483.982 178.05 L488.241 178.05 L488.241 214.069 L483.982 214.069 L483.982 210.18 Q482.639 212.495 480.579 213.629 Q478.542 214.74 475.672 214.74 Q470.973 214.74 468.01 210.99 Q465.07 207.24 465.07 201.129 Q465.07 195.018 468.01 191.268 Q470.973 187.518 475.672 187.518 Q478.542 187.518 480.579 188.652 Q482.639 189.763 483.982 192.078 M469.468 201.129 Q469.468 205.828 471.389 208.513 Q473.334 211.175 476.713 211.175 Q480.093 211.175 482.037 208.513 Q483.982 205.828 483.982 201.129 Q483.982 196.43 482.037 193.768 Q480.093 191.083 476.713 191.083 Q473.334 191.083 471.389 193.768 Q469.468 196.43 469.468 201.129 Z\" fill=\"#000000\" fill-rule=\"evenodd\" fill-opacity=\"1\" /><path clip-path=\"url(#clip660)\" d=\"M519.19 200.041 L519.19 202.124 L499.607 202.124 Q499.884 206.522 502.246 208.837 Q504.63 211.129 508.866 211.129 Q511.32 211.129 513.611 210.527 Q515.926 209.925 518.195 208.721 L518.195 212.749 Q515.903 213.721 513.496 214.231 Q511.088 214.74 508.611 214.74 Q502.408 214.74 498.773 211.129 Q495.162 207.518 495.162 201.36 Q495.162 194.995 498.588 191.268 Q502.037 187.518 507.871 187.518 Q513.102 187.518 516.134 190.897 Q519.19 194.254 519.19 200.041 M514.931 198.791 Q514.884 195.296 512.963 193.212 Q511.065 191.129 507.917 191.129 Q504.352 191.129 502.199 193.143 Q500.07 195.157 499.746 198.814 L514.931 198.791 Z\" fill=\"#000000\" fill-rule=\"evenodd\" fill-opacity=\"1\" /><path clip-path=\"url(#clip660)\" d=\"M544.838 189.138 L544.838 193.12 Q543.032 192.124 541.204 191.638 Q539.398 191.129 537.546 191.129 Q533.403 191.129 531.111 193.768 Q528.819 196.384 528.819 201.129 Q528.819 205.874 531.111 208.513 Q533.403 211.129 537.546 211.129 Q539.398 211.129 541.204 210.643 Q543.032 210.133 544.838 209.138 L544.838 213.073 Q543.056 213.907 541.134 214.323 Q539.236 214.74 537.083 214.74 Q531.227 214.74 527.778 211.059 Q524.329 207.379 524.329 201.129 Q524.329 194.786 527.801 191.152 Q531.296 187.518 537.361 187.518 Q539.329 187.518 541.204 187.935 Q543.079 188.328 544.838 189.138 Z\" fill=\"#000000\" fill-rule=\"evenodd\" fill-opacity=\"1\" /><path clip-path=\"url(#clip660)\" d=\"M562.292 191.129 Q558.866 191.129 556.875 193.814 Q554.884 196.476 554.884 201.129 Q554.884 205.782 556.852 208.467 Q558.842 211.129 562.292 211.129 Q565.694 211.129 567.685 208.444 Q569.676 205.758 569.676 201.129 Q569.676 196.522 567.685 193.837 Q565.694 191.129 562.292 191.129 M562.292 187.518 Q567.847 187.518 571.018 191.129 Q574.19 194.74 574.19 201.129 Q574.19 207.495 571.018 211.129 Q567.847 214.74 562.292 214.74 Q556.713 214.74 553.542 211.129 Q550.393 207.495 550.393 201.129 Q550.393 194.74 553.542 191.129 Q556.713 187.518 562.292 187.518 Z\" fill=\"#000000\" fill-rule=\"evenodd\" fill-opacity=\"1\" /><path clip-path=\"url(#clip660)\" d=\"M601.435 193.12 Q603.032 190.249 605.254 188.884 Q607.476 187.518 610.486 187.518 Q614.537 187.518 616.736 190.365 Q618.935 193.189 618.935 198.421 L618.935 214.069 L614.652 214.069 L614.652 198.559 Q614.652 194.833 613.333 193.027 Q612.013 191.222 609.305 191.222 Q605.995 191.222 604.074 193.421 Q602.152 195.62 602.152 199.416 L602.152 214.069 L597.87 214.069 L597.87 198.559 Q597.87 194.809 596.551 193.027 Q595.231 191.222 592.477 191.222 Q589.213 191.222 587.291 193.444 Q585.37 195.643 585.37 199.416 L585.37 214.069 L581.088 214.069 L581.088 188.143 L585.37 188.143 L585.37 192.171 Q586.828 189.786 588.865 188.652 Q590.902 187.518 593.703 187.518 Q596.527 187.518 598.495 188.953 Q600.486 190.388 601.435 193.12 Z\" fill=\"#000000\" fill-rule=\"evenodd\" fill-opacity=\"1\" /><path clip-path=\"url(#clip660)\" d=\"M631.55 210.18 L631.55 223.93 L627.268 223.93 L627.268 188.143 L631.55 188.143 L631.55 192.078 Q632.893 189.763 634.93 188.652 Q636.99 187.518 639.837 187.518 Q644.56 187.518 647.499 191.268 Q650.462 195.018 650.462 201.129 Q650.462 207.24 647.499 210.99 Q644.56 214.74 639.837 214.74 Q636.99 214.74 634.93 213.629 Q632.893 212.495 631.55 210.18 M646.041 201.129 Q646.041 196.43 644.097 193.768 Q642.175 191.083 638.796 191.083 Q635.416 191.083 633.472 193.768 Q631.55 196.43 631.55 201.129 Q631.55 205.828 633.472 208.513 Q635.416 211.175 638.796 211.175 Q642.175 211.175 644.097 208.513 Q646.041 205.828 646.041 201.129 Z\" fill=\"#000000\" fill-rule=\"evenodd\" fill-opacity=\"1\" /><path clip-path=\"url(#clip660)\" d=\"M667.569 191.129 Q664.143 191.129 662.152 193.814 Q660.161 196.476 660.161 201.129 Q660.161 205.782 662.129 208.467 Q664.12 211.129 667.569 211.129 Q670.972 211.129 672.962 208.444 Q674.953 205.758 674.953 201.129 Q674.953 196.522 672.962 193.837 Q670.972 191.129 667.569 191.129 M667.569 187.518 Q673.124 187.518 676.296 191.129 Q679.467 194.74 679.467 201.129 Q679.467 207.495 676.296 211.129 Q673.124 214.74 667.569 214.74 Q661.99 214.74 658.819 211.129 Q655.671 207.495 655.671 201.129 Q655.671 194.74 658.819 191.129 Q661.99 187.518 667.569 187.518 Z\" fill=\"#000000\" fill-rule=\"evenodd\" fill-opacity=\"1\" /><path clip-path=\"url(#clip660)\" d=\"M703.055 188.907 L703.055 192.934 Q701.249 192.009 699.305 191.546 Q697.36 191.083 695.277 191.083 Q692.106 191.083 690.508 192.055 Q688.934 193.027 688.934 194.971 Q688.934 196.453 690.069 197.309 Q691.203 198.143 694.629 198.907 L696.087 199.231 Q700.624 200.203 702.522 201.985 Q704.444 203.745 704.444 206.916 Q704.444 210.527 701.573 212.633 Q698.726 214.74 693.726 214.74 Q691.643 214.74 689.374 214.323 Q687.129 213.93 684.629 213.12 L684.629 208.721 Q686.99 209.948 689.282 210.573 Q691.573 211.175 693.819 211.175 Q696.828 211.175 698.448 210.157 Q700.069 209.115 700.069 207.24 Q700.069 205.504 698.888 204.578 Q697.731 203.652 693.772 202.796 L692.291 202.448 Q688.333 201.615 686.573 199.902 Q684.814 198.166 684.814 195.157 Q684.814 191.499 687.407 189.509 Q689.999 187.518 694.768 187.518 Q697.129 187.518 699.212 187.865 Q701.295 188.212 703.055 188.907 Z\" fill=\"#000000\" fill-rule=\"evenodd\" fill-opacity=\"1\" /><path clip-path=\"url(#clip660)\" d=\"M733.402 200.041 L733.402 202.124 L713.819 202.124 Q714.096 206.522 716.457 208.837 Q718.842 211.129 723.078 211.129 Q725.531 211.129 727.823 210.527 Q730.138 209.925 732.406 208.721 L732.406 212.749 Q730.115 213.721 727.707 214.231 Q725.3 214.74 722.823 214.74 Q716.619 214.74 712.985 211.129 Q709.374 207.518 709.374 201.36 Q709.374 194.995 712.8 191.268 Q716.249 187.518 722.082 187.518 Q727.314 187.518 730.346 190.897 Q733.402 194.254 733.402 200.041 M729.142 198.791 Q729.096 195.296 727.175 193.212 Q725.277 191.129 722.129 191.129 Q718.564 191.129 716.411 193.143 Q714.281 195.157 713.957 198.814 L729.142 198.791 Z\" fill=\"#000000\" fill-rule=\"evenodd\" fill-opacity=\"1\" /><path clip-path=\"url(#clip660)\" d=\"M757.453 192.078 L757.453 178.05 L761.712 178.05 L761.712 214.069 L757.453 214.069 L757.453 210.18 Q756.11 212.495 754.05 213.629 Q752.013 214.74 749.142 214.74 Q744.443 214.74 741.48 210.99 Q738.541 207.24 738.541 201.129 Q738.541 195.018 741.48 191.268 Q744.443 187.518 749.142 187.518 Q752.013 187.518 754.05 188.652 Q756.11 189.763 757.453 192.078 M742.939 201.129 Q742.939 205.828 744.86 208.513 Q746.804 211.175 750.184 211.175 Q753.564 211.175 755.508 208.513 Q757.453 205.828 757.453 201.129 Q757.453 196.43 755.508 193.768 Q753.564 191.083 750.184 191.083 Q746.804 191.083 744.86 193.768 Q742.939 196.43 742.939 201.129 Z\" fill=\"#000000\" fill-rule=\"evenodd\" fill-opacity=\"1\" /></svg>\n"
      ]
     },
     "metadata": {},
     "output_type": "display_data"
    }
   ],
   "source": [
    "# solution time (parallel)\n",
    "p2 = plot(1:nScenMax,solTimeTraj_s[1,:],xlabel=\"# scenarios\", ylabel=\"sol. time (max) [s]\",marker=:circle, markercolor = :green,label=\"monolithic\")\n",
    "p2 = plot!(1:nScenMax,solTimeMaxTraj_s,marker=:square, markercolor = :red,label=\"decomposed\",gridlinewidth=2)\n",
    "display(p2)"
   ]
  },
  {
   "cell_type": "code",
   "execution_count": 17,
   "id": "e2222e80",
   "metadata": {},
   "outputs": [
    {
     "data": {
      "image/svg+xml": [
       "<?xml version=\"1.0\" encoding=\"utf-8\"?>\n",
       "<svg xmlns=\"http://www.w3.org/2000/svg\" xmlns:xlink=\"http://www.w3.org/1999/xlink\" width=\"600\" height=\"400\" viewBox=\"0 0 2400 1600\">\n",
       "<defs>\n",
       "  <clipPath id=\"clip700\">\n",
       "    <rect x=\"0\" y=\"0\" width=\"2400\" height=\"1600\"/>\n",
       "  </clipPath>\n",
       "</defs>\n",
       "<path clip-path=\"url(#clip700)\" d=\"M0 1600 L2400 1600 L2400 0 L0 0  Z\" fill=\"#ffffff\" fill-rule=\"evenodd\" fill-opacity=\"1\"/>\n",
       "<defs>\n",
       "  <clipPath id=\"clip701\">\n",
       "    <rect x=\"480\" y=\"0\" width=\"1681\" height=\"1600\"/>\n",
       "  </clipPath>\n",
       "</defs>\n",
       "<path clip-path=\"url(#clip700)\" d=\"M204.45 1423.18 L2352.76 1423.18 L2352.76 47.2441 L204.45 47.2441  Z\" fill=\"#ffffff\" fill-rule=\"evenodd\" fill-opacity=\"1\"/>\n",
       "<defs>\n",
       "  <clipPath id=\"clip702\">\n",
       "    <rect x=\"204\" y=\"47\" width=\"2149\" height=\"1377\"/>\n",
       "  </clipPath>\n",
       "</defs>\n",
       "<polyline clip-path=\"url(#clip702)\" style=\"stroke:#000000; stroke-linecap:round; stroke-linejoin:round; stroke-width:8; stroke-opacity:0.1; fill:none\" points=\"544.796,1423.18 544.796,47.2441 \"/>\n",
       "<polyline clip-path=\"url(#clip702)\" style=\"stroke:#000000; stroke-linecap:round; stroke-linejoin:round; stroke-width:8; stroke-opacity:0.1; fill:none\" points=\"894.228,1423.18 894.228,47.2441 \"/>\n",
       "<polyline clip-path=\"url(#clip702)\" style=\"stroke:#000000; stroke-linecap:round; stroke-linejoin:round; stroke-width:8; stroke-opacity:0.1; fill:none\" points=\"1243.66,1423.18 1243.66,47.2441 \"/>\n",
       "<polyline clip-path=\"url(#clip702)\" style=\"stroke:#000000; stroke-linecap:round; stroke-linejoin:round; stroke-width:8; stroke-opacity:0.1; fill:none\" points=\"1593.09,1423.18 1593.09,47.2441 \"/>\n",
       "<polyline clip-path=\"url(#clip702)\" style=\"stroke:#000000; stroke-linecap:round; stroke-linejoin:round; stroke-width:8; stroke-opacity:0.1; fill:none\" points=\"1942.52,1423.18 1942.52,47.2441 \"/>\n",
       "<polyline clip-path=\"url(#clip702)\" style=\"stroke:#000000; stroke-linecap:round; stroke-linejoin:round; stroke-width:8; stroke-opacity:0.1; fill:none\" points=\"2291.95,1423.18 2291.95,47.2441 \"/>\n",
       "<polyline clip-path=\"url(#clip700)\" style=\"stroke:#000000; stroke-linecap:round; stroke-linejoin:round; stroke-width:4; stroke-opacity:1; fill:none\" points=\"204.45,1423.18 2352.76,1423.18 \"/>\n",
       "<polyline clip-path=\"url(#clip700)\" style=\"stroke:#000000; stroke-linecap:round; stroke-linejoin:round; stroke-width:4; stroke-opacity:1; fill:none\" points=\"544.796,1423.18 544.796,1404.28 \"/>\n",
       "<polyline clip-path=\"url(#clip700)\" style=\"stroke:#000000; stroke-linecap:round; stroke-linejoin:round; stroke-width:4; stroke-opacity:1; fill:none\" points=\"894.228,1423.18 894.228,1404.28 \"/>\n",
       "<polyline clip-path=\"url(#clip700)\" style=\"stroke:#000000; stroke-linecap:round; stroke-linejoin:round; stroke-width:4; stroke-opacity:1; fill:none\" points=\"1243.66,1423.18 1243.66,1404.28 \"/>\n",
       "<polyline clip-path=\"url(#clip700)\" style=\"stroke:#000000; stroke-linecap:round; stroke-linejoin:round; stroke-width:4; stroke-opacity:1; fill:none\" points=\"1593.09,1423.18 1593.09,1404.28 \"/>\n",
       "<polyline clip-path=\"url(#clip700)\" style=\"stroke:#000000; stroke-linecap:round; stroke-linejoin:round; stroke-width:4; stroke-opacity:1; fill:none\" points=\"1942.52,1423.18 1942.52,1404.28 \"/>\n",
       "<polyline clip-path=\"url(#clip700)\" style=\"stroke:#000000; stroke-linecap:round; stroke-linejoin:round; stroke-width:4; stroke-opacity:1; fill:none\" points=\"2291.95,1423.18 2291.95,1404.28 \"/>\n",
       "<path clip-path=\"url(#clip700)\" d=\"M535.074 1451.02 L553.43 1451.02 L553.43 1454.96 L539.356 1454.96 L539.356 1463.43 Q540.375 1463.08 541.393 1462.92 Q542.412 1462.73 543.43 1462.73 Q549.217 1462.73 552.597 1465.9 Q555.977 1469.08 555.977 1474.49 Q555.977 1480.07 552.504 1483.17 Q549.032 1486.25 542.713 1486.25 Q540.537 1486.25 538.268 1485.88 Q536.023 1485.51 533.616 1484.77 L533.616 1480.07 Q535.699 1481.2 537.921 1481.76 Q540.143 1482.32 542.62 1482.32 Q546.625 1482.32 548.963 1480.21 Q551.301 1478.1 551.301 1474.49 Q551.301 1470.88 548.963 1468.77 Q546.625 1466.67 542.62 1466.67 Q540.745 1466.67 538.87 1467.08 Q537.018 1467.5 535.074 1468.38 L535.074 1451.02 Z\" fill=\"#000000\" fill-rule=\"evenodd\" fill-opacity=\"1\" /><path clip-path=\"url(#clip700)\" d=\"M868.916 1481.64 L876.554 1481.64 L876.554 1455.28 L868.244 1456.95 L868.244 1452.69 L876.508 1451.02 L881.184 1451.02 L881.184 1481.64 L888.823 1481.64 L888.823 1485.58 L868.916 1485.58 L868.916 1481.64 Z\" fill=\"#000000\" fill-rule=\"evenodd\" fill-opacity=\"1\" /><path clip-path=\"url(#clip700)\" d=\"M908.267 1454.1 Q904.656 1454.1 902.827 1457.66 Q901.022 1461.2 901.022 1468.33 Q901.022 1475.44 902.827 1479.01 Q904.656 1482.55 908.267 1482.55 Q911.901 1482.55 913.707 1479.01 Q915.536 1475.44 915.536 1468.33 Q915.536 1461.2 913.707 1457.66 Q911.901 1454.1 908.267 1454.1 M908.267 1450.39 Q914.077 1450.39 917.133 1455 Q920.212 1459.58 920.212 1468.33 Q920.212 1477.06 917.133 1481.67 Q914.077 1486.25 908.267 1486.25 Q902.457 1486.25 899.378 1481.67 Q896.323 1477.06 896.323 1468.33 Q896.323 1459.58 899.378 1455 Q902.457 1450.39 908.267 1450.39 Z\" fill=\"#000000\" fill-rule=\"evenodd\" fill-opacity=\"1\" /><path clip-path=\"url(#clip700)\" d=\"M1218.84 1481.64 L1226.48 1481.64 L1226.48 1455.28 L1218.17 1456.95 L1218.17 1452.69 L1226.44 1451.02 L1231.11 1451.02 L1231.11 1481.64 L1238.75 1481.64 L1238.75 1485.58 L1218.84 1485.58 L1218.84 1481.64 Z\" fill=\"#000000\" fill-rule=\"evenodd\" fill-opacity=\"1\" /><path clip-path=\"url(#clip700)\" d=\"M1248.24 1451.02 L1266.6 1451.02 L1266.6 1454.96 L1252.53 1454.96 L1252.53 1463.43 Q1253.54 1463.08 1254.56 1462.92 Q1255.58 1462.73 1256.6 1462.73 Q1262.39 1462.73 1265.77 1465.9 Q1269.15 1469.08 1269.15 1474.49 Q1269.15 1480.07 1265.67 1483.17 Q1262.2 1486.25 1255.88 1486.25 Q1253.71 1486.25 1251.44 1485.88 Q1249.19 1485.51 1246.78 1484.77 L1246.78 1480.07 Q1248.87 1481.2 1251.09 1481.76 Q1253.31 1482.32 1255.79 1482.32 Q1259.79 1482.32 1262.13 1480.21 Q1264.47 1478.1 1264.47 1474.49 Q1264.47 1470.88 1262.13 1468.77 Q1259.79 1466.67 1255.79 1466.67 Q1253.91 1466.67 1252.04 1467.08 Q1250.19 1467.5 1248.24 1468.38 L1248.24 1451.02 Z\" fill=\"#000000\" fill-rule=\"evenodd\" fill-opacity=\"1\" /><path clip-path=\"url(#clip700)\" d=\"M1571.86 1481.64 L1588.18 1481.64 L1588.18 1485.58 L1566.24 1485.58 L1566.24 1481.64 Q1568.9 1478.89 1573.48 1474.26 Q1578.09 1469.61 1579.27 1468.27 Q1581.52 1465.74 1582.4 1464.01 Q1583.3 1462.25 1583.3 1460.56 Q1583.3 1457.8 1581.36 1456.07 Q1579.43 1454.33 1576.33 1454.33 Q1574.13 1454.33 1571.68 1455.09 Q1569.25 1455.86 1566.47 1457.41 L1566.47 1452.69 Q1569.3 1451.55 1571.75 1450.97 Q1574.2 1450.39 1576.24 1450.39 Q1581.61 1450.39 1584.8 1453.08 Q1588 1455.77 1588 1460.26 Q1588 1462.39 1587.19 1464.31 Q1586.4 1466.2 1584.3 1468.8 Q1583.72 1469.47 1580.61 1472.69 Q1577.51 1475.88 1571.86 1481.64 Z\" fill=\"#000000\" fill-rule=\"evenodd\" fill-opacity=\"1\" /><path clip-path=\"url(#clip700)\" d=\"M1608 1454.1 Q1604.39 1454.1 1602.56 1457.66 Q1600.75 1461.2 1600.75 1468.33 Q1600.75 1475.44 1602.56 1479.01 Q1604.39 1482.55 1608 1482.55 Q1611.63 1482.55 1613.44 1479.01 Q1615.27 1475.44 1615.27 1468.33 Q1615.27 1461.2 1613.44 1457.66 Q1611.63 1454.1 1608 1454.1 M1608 1450.39 Q1613.81 1450.39 1616.86 1455 Q1619.94 1459.58 1619.94 1468.33 Q1619.94 1477.06 1616.86 1481.67 Q1613.81 1486.25 1608 1486.25 Q1602.19 1486.25 1599.11 1481.67 Q1596.05 1477.06 1596.05 1468.33 Q1596.05 1459.58 1599.11 1455 Q1602.19 1450.39 1608 1450.39 Z\" fill=\"#000000\" fill-rule=\"evenodd\" fill-opacity=\"1\" /><path clip-path=\"url(#clip700)\" d=\"M1921.79 1481.64 L1938.11 1481.64 L1938.11 1485.58 L1916.17 1485.58 L1916.17 1481.64 Q1918.83 1478.89 1923.41 1474.26 Q1928.02 1469.61 1929.2 1468.27 Q1931.45 1465.74 1932.33 1464.01 Q1933.23 1462.25 1933.23 1460.56 Q1933.23 1457.8 1931.28 1456.07 Q1929.36 1454.33 1926.26 1454.33 Q1924.06 1454.33 1921.61 1455.09 Q1919.18 1455.86 1916.4 1457.41 L1916.4 1452.69 Q1919.22 1451.55 1921.68 1450.97 Q1924.13 1450.39 1926.17 1450.39 Q1931.54 1450.39 1934.73 1453.08 Q1937.93 1455.77 1937.93 1460.26 Q1937.93 1462.39 1937.12 1464.31 Q1936.33 1466.2 1934.22 1468.8 Q1933.65 1469.47 1930.54 1472.69 Q1927.44 1475.88 1921.79 1481.64 Z\" fill=\"#000000\" fill-rule=\"evenodd\" fill-opacity=\"1\" /><path clip-path=\"url(#clip700)\" d=\"M1947.97 1451.02 L1966.33 1451.02 L1966.33 1454.96 L1952.26 1454.96 L1952.26 1463.43 Q1953.28 1463.08 1954.29 1462.92 Q1955.31 1462.73 1956.33 1462.73 Q1962.12 1462.73 1965.5 1465.9 Q1968.88 1469.08 1968.88 1474.49 Q1968.88 1480.07 1965.4 1483.17 Q1961.93 1486.25 1955.61 1486.25 Q1953.44 1486.25 1951.17 1485.88 Q1948.92 1485.51 1946.52 1484.77 L1946.52 1480.07 Q1948.6 1481.2 1950.82 1481.76 Q1953.04 1482.32 1955.52 1482.32 Q1959.53 1482.32 1961.86 1480.21 Q1964.2 1478.1 1964.2 1474.49 Q1964.2 1470.88 1961.86 1468.77 Q1959.53 1466.67 1955.52 1466.67 Q1953.65 1466.67 1951.77 1467.08 Q1949.92 1467.5 1947.97 1468.38 L1947.97 1451.02 Z\" fill=\"#000000\" fill-rule=\"evenodd\" fill-opacity=\"1\" /><path clip-path=\"url(#clip700)\" d=\"M2280.8 1466.95 Q2284.15 1467.66 2286.03 1469.93 Q2287.93 1472.2 2287.93 1475.53 Q2287.93 1480.65 2284.41 1483.45 Q2280.89 1486.25 2274.41 1486.25 Q2272.23 1486.25 2269.92 1485.81 Q2267.63 1485.39 2265.17 1484.54 L2265.17 1480.02 Q2267.12 1481.16 2269.43 1481.74 Q2271.75 1482.32 2274.27 1482.32 Q2278.67 1482.32 2280.96 1480.58 Q2283.27 1478.84 2283.27 1475.53 Q2283.27 1472.48 2281.12 1470.77 Q2278.99 1469.03 2275.17 1469.03 L2271.14 1469.03 L2271.14 1465.19 L2275.36 1465.19 Q2278.81 1465.19 2280.64 1463.82 Q2282.46 1462.43 2282.46 1459.84 Q2282.46 1457.18 2280.57 1455.77 Q2278.69 1454.33 2275.17 1454.33 Q2273.25 1454.33 2271.05 1454.75 Q2268.85 1455.16 2266.21 1456.04 L2266.21 1451.88 Q2268.88 1451.14 2271.19 1450.77 Q2273.53 1450.39 2275.59 1450.39 Q2280.91 1450.39 2284.02 1452.83 Q2287.12 1455.23 2287.12 1459.35 Q2287.12 1462.22 2285.47 1464.21 Q2283.83 1466.18 2280.8 1466.95 Z\" fill=\"#000000\" fill-rule=\"evenodd\" fill-opacity=\"1\" /><path clip-path=\"url(#clip700)\" d=\"M2306.79 1454.1 Q2303.18 1454.1 2301.35 1457.66 Q2299.55 1461.2 2299.55 1468.33 Q2299.55 1475.44 2301.35 1479.01 Q2303.18 1482.55 2306.79 1482.55 Q2310.43 1482.55 2312.23 1479.01 Q2314.06 1475.44 2314.06 1468.33 Q2314.06 1461.2 2312.23 1457.66 Q2310.43 1454.1 2306.79 1454.1 M2306.79 1450.39 Q2312.6 1450.39 2315.66 1455 Q2318.74 1459.58 2318.74 1468.33 Q2318.74 1477.06 2315.66 1481.67 Q2312.6 1486.25 2306.79 1486.25 Q2300.98 1486.25 2297.9 1481.67 Q2294.85 1477.06 2294.85 1468.33 Q2294.85 1459.58 2297.9 1455 Q2300.98 1450.39 2306.79 1450.39 Z\" fill=\"#000000\" fill-rule=\"evenodd\" fill-opacity=\"1\" /><path clip-path=\"url(#clip700)\" d=\"M1118.38 1539.37 L1109.12 1539.37 L1106.44 1550 L1115.77 1550 L1118.38 1539.37 M1113.6 1521.26 L1110.29 1534.46 L1119.59 1534.46 L1122.93 1521.26 L1128.02 1521.26 L1124.74 1534.46 L1134.67 1534.46 L1134.67 1539.37 L1123.5 1539.37 L1120.89 1550 L1131.01 1550 L1131.01 1554.87 L1119.65 1554.87 L1116.34 1568.04 L1111.25 1568.04 L1114.53 1554.87 L1105.2 1554.87 L1101.92 1568.04 L1096.8 1568.04 L1100.11 1554.87 L1090.08 1554.87 L1090.08 1550 L1101.29 1550 L1103.96 1539.37 L1093.71 1539.37 L1093.71 1534.46 L1105.2 1534.46 L1108.45 1521.26 L1113.6 1521.26 Z\" fill=\"#000000\" fill-rule=\"evenodd\" fill-opacity=\"1\" /><path clip-path=\"url(#clip700)\" d=\"M1189.26 1533.45 L1189.26 1538.98 Q1186.78 1537.71 1184.1 1537.07 Q1181.43 1536.44 1178.57 1536.44 Q1174.21 1536.44 1172.01 1537.77 Q1169.84 1539.11 1169.84 1541.79 Q1169.84 1543.82 1171.4 1545 Q1172.96 1546.15 1177.67 1547.2 L1179.68 1547.64 Q1185.92 1548.98 1188.53 1551.43 Q1191.17 1553.85 1191.17 1558.21 Q1191.17 1563.17 1187.22 1566.07 Q1183.31 1568.97 1176.43 1568.97 Q1173.57 1568.97 1170.45 1568.39 Q1167.36 1567.85 1163.92 1566.74 L1163.92 1560.69 Q1167.17 1562.38 1170.32 1563.24 Q1173.47 1564.07 1176.56 1564.07 Q1180.7 1564.07 1182.93 1562.66 Q1185.15 1561.23 1185.15 1558.65 Q1185.15 1556.27 1183.53 1554.99 Q1181.94 1553.72 1176.5 1552.54 L1174.46 1552.07 Q1169.02 1550.92 1166.6 1548.56 Q1164.18 1546.18 1164.18 1542.04 Q1164.18 1537.01 1167.74 1534.27 Q1171.31 1531.54 1177.87 1531.54 Q1181.11 1531.54 1183.98 1532.01 Q1186.84 1532.49 1189.26 1533.45 Z\" fill=\"#000000\" fill-rule=\"evenodd\" fill-opacity=\"1\" /><path clip-path=\"url(#clip700)\" d=\"M1226.15 1533.76 L1226.15 1539.24 Q1223.67 1537.87 1221.15 1537.2 Q1218.67 1536.5 1216.12 1536.5 Q1210.43 1536.5 1207.28 1540.13 Q1204.12 1543.73 1204.12 1550.25 Q1204.12 1556.78 1207.28 1560.4 Q1210.43 1564 1216.12 1564 Q1218.67 1564 1221.15 1563.33 Q1223.67 1562.63 1226.15 1561.26 L1226.15 1566.68 Q1223.7 1567.82 1221.06 1568.39 Q1218.45 1568.97 1215.49 1568.97 Q1207.43 1568.97 1202.69 1563.91 Q1197.95 1558.85 1197.95 1550.25 Q1197.95 1541.53 1202.72 1536.53 Q1207.53 1531.54 1215.87 1531.54 Q1218.57 1531.54 1221.15 1532.11 Q1223.73 1532.65 1226.15 1533.76 Z\" fill=\"#000000\" fill-rule=\"evenodd\" fill-opacity=\"1\" /><path clip-path=\"url(#clip700)\" d=\"M1266.83 1548.76 L1266.83 1551.62 L1239.9 1551.62 Q1240.28 1557.67 1243.53 1560.85 Q1246.81 1564 1252.63 1564 Q1256 1564 1259.16 1563.17 Q1262.34 1562.35 1265.46 1560.69 L1265.46 1566.23 Q1262.31 1567.57 1259 1568.27 Q1255.69 1568.97 1252.28 1568.97 Q1243.75 1568.97 1238.75 1564 Q1233.79 1559.04 1233.79 1550.57 Q1233.79 1541.82 1238.5 1536.69 Q1243.24 1531.54 1251.26 1531.54 Q1258.46 1531.54 1262.62 1536.18 Q1266.83 1540.8 1266.83 1548.76 M1260.97 1547.04 Q1260.91 1542.23 1258.26 1539.37 Q1255.65 1536.5 1251.33 1536.5 Q1246.42 1536.5 1243.46 1539.27 Q1240.54 1542.04 1240.09 1547.07 L1260.97 1547.04 Z\" fill=\"#000000\" fill-rule=\"evenodd\" fill-opacity=\"1\" /><path clip-path=\"url(#clip700)\" d=\"M1306.07 1546.53 L1306.07 1568.04 L1300.21 1568.04 L1300.21 1546.72 Q1300.21 1541.66 1298.24 1539.14 Q1296.27 1536.63 1292.32 1536.63 Q1287.58 1536.63 1284.84 1539.65 Q1282.1 1542.68 1282.1 1547.9 L1282.1 1568.04 L1276.22 1568.04 L1276.22 1532.4 L1282.1 1532.4 L1282.1 1537.93 Q1284.2 1534.72 1287.04 1533.13 Q1289.9 1531.54 1293.63 1531.54 Q1299.77 1531.54 1302.92 1535.36 Q1306.07 1539.14 1306.07 1546.53 Z\" fill=\"#000000\" fill-rule=\"evenodd\" fill-opacity=\"1\" /><path clip-path=\"url(#clip700)\" d=\"M1333.95 1550.12 Q1326.85 1550.12 1324.12 1551.75 Q1321.38 1553.37 1321.38 1557.29 Q1321.38 1560.4 1323.42 1562.25 Q1325.49 1564.07 1329.02 1564.07 Q1333.89 1564.07 1336.82 1560.63 Q1339.78 1557.16 1339.78 1551.43 L1339.78 1550.12 L1333.95 1550.12 M1345.63 1547.71 L1345.63 1568.04 L1339.78 1568.04 L1339.78 1562.63 Q1337.77 1565.88 1334.78 1567.44 Q1331.79 1568.97 1327.46 1568.97 Q1321.99 1568.97 1318.74 1565.91 Q1315.52 1562.82 1315.52 1557.67 Q1315.52 1551.65 1319.53 1548.6 Q1323.58 1545.54 1331.57 1545.54 L1339.78 1545.54 L1339.78 1544.97 Q1339.78 1540.93 1337.1 1538.73 Q1334.46 1536.5 1329.66 1536.5 Q1326.6 1536.5 1323.7 1537.23 Q1320.81 1537.97 1318.13 1539.43 L1318.13 1534.02 Q1321.35 1532.78 1324.37 1532.17 Q1327.4 1531.54 1330.26 1531.54 Q1337.99 1531.54 1341.81 1535.55 Q1345.63 1539.56 1345.63 1547.71 Z\" fill=\"#000000\" fill-rule=\"evenodd\" fill-opacity=\"1\" /><path clip-path=\"url(#clip700)\" d=\"M1378.35 1537.87 Q1377.37 1537.3 1376.19 1537.04 Q1375.04 1536.76 1373.64 1536.76 Q1368.68 1536.76 1366 1540 Q1363.36 1543.22 1363.36 1549.27 L1363.36 1568.04 L1357.47 1568.04 L1357.47 1532.4 L1363.36 1532.4 L1363.36 1537.93 Q1365.21 1534.69 1368.17 1533.13 Q1371.13 1531.54 1375.36 1531.54 Q1375.97 1531.54 1376.7 1531.63 Q1377.43 1531.7 1378.32 1531.85 L1378.35 1537.87 Z\" fill=\"#000000\" fill-rule=\"evenodd\" fill-opacity=\"1\" /><path clip-path=\"url(#clip700)\" d=\"M1384.5 1532.4 L1390.35 1532.4 L1390.35 1568.04 L1384.5 1568.04 L1384.5 1532.4 M1384.5 1518.52 L1390.35 1518.52 L1390.35 1525.93 L1384.5 1525.93 L1384.5 1518.52 Z\" fill=\"#000000\" fill-rule=\"evenodd\" fill-opacity=\"1\" /><path clip-path=\"url(#clip700)\" d=\"M1416.42 1536.5 Q1411.71 1536.5 1408.97 1540.19 Q1406.24 1543.85 1406.24 1550.25 Q1406.24 1556.65 1408.94 1560.34 Q1411.68 1564 1416.42 1564 Q1421.1 1564 1423.84 1560.31 Q1426.57 1556.62 1426.57 1550.25 Q1426.57 1543.92 1423.84 1540.23 Q1421.1 1536.5 1416.42 1536.5 M1416.42 1531.54 Q1424.06 1531.54 1428.42 1536.5 Q1432.78 1541.47 1432.78 1550.25 Q1432.78 1559 1428.42 1564 Q1424.06 1568.97 1416.42 1568.97 Q1408.75 1568.97 1404.39 1564 Q1400.06 1559 1400.06 1550.25 Q1400.06 1541.47 1404.39 1536.5 Q1408.75 1531.54 1416.42 1531.54 Z\" fill=\"#000000\" fill-rule=\"evenodd\" fill-opacity=\"1\" /><path clip-path=\"url(#clip700)\" d=\"M1465.21 1533.45 L1465.21 1538.98 Q1462.73 1537.71 1460.06 1537.07 Q1457.38 1536.44 1454.52 1536.44 Q1450.16 1536.44 1447.96 1537.77 Q1445.8 1539.11 1445.8 1541.79 Q1445.8 1543.82 1447.36 1545 Q1448.92 1546.15 1453.63 1547.2 L1455.63 1547.64 Q1461.87 1548.98 1464.48 1551.43 Q1467.12 1553.85 1467.12 1558.21 Q1467.12 1563.17 1463.18 1566.07 Q1459.26 1568.97 1452.39 1568.97 Q1449.52 1568.97 1446.4 1568.39 Q1443.32 1567.85 1439.88 1566.74 L1439.88 1560.69 Q1443.12 1562.38 1446.28 1563.24 Q1449.43 1564.07 1452.51 1564.07 Q1456.65 1564.07 1458.88 1562.66 Q1461.11 1561.23 1461.11 1558.65 Q1461.11 1556.27 1459.48 1554.99 Q1457.89 1553.72 1452.45 1552.54 L1450.41 1552.07 Q1444.97 1550.92 1442.55 1548.56 Q1440.13 1546.18 1440.13 1542.04 Q1440.13 1537.01 1443.7 1534.27 Q1447.26 1531.54 1453.82 1531.54 Q1457.07 1531.54 1459.93 1532.01 Q1462.79 1532.49 1465.21 1533.45 Z\" fill=\"#000000\" fill-rule=\"evenodd\" fill-opacity=\"1\" /><polyline clip-path=\"url(#clip702)\" style=\"stroke:#000000; stroke-linecap:round; stroke-linejoin:round; stroke-width:8; stroke-opacity:0.1; fill:none\" points=\"204.45,1384.24 2352.76,1384.24 \"/>\n",
       "<polyline clip-path=\"url(#clip702)\" style=\"stroke:#000000; stroke-linecap:round; stroke-linejoin:round; stroke-width:8; stroke-opacity:0.1; fill:none\" points=\"204.45,1266.23 2352.76,1266.23 \"/>\n",
       "<polyline clip-path=\"url(#clip702)\" style=\"stroke:#000000; stroke-linecap:round; stroke-linejoin:round; stroke-width:8; stroke-opacity:0.1; fill:none\" points=\"204.45,1148.23 2352.76,1148.23 \"/>\n",
       "<polyline clip-path=\"url(#clip702)\" style=\"stroke:#000000; stroke-linecap:round; stroke-linejoin:round; stroke-width:8; stroke-opacity:0.1; fill:none\" points=\"204.45,1030.22 2352.76,1030.22 \"/>\n",
       "<polyline clip-path=\"url(#clip702)\" style=\"stroke:#000000; stroke-linecap:round; stroke-linejoin:round; stroke-width:8; stroke-opacity:0.1; fill:none\" points=\"204.45,912.219 2352.76,912.219 \"/>\n",
       "<polyline clip-path=\"url(#clip702)\" style=\"stroke:#000000; stroke-linecap:round; stroke-linejoin:round; stroke-width:8; stroke-opacity:0.1; fill:none\" points=\"204.45,794.214 2352.76,794.214 \"/>\n",
       "<polyline clip-path=\"url(#clip702)\" style=\"stroke:#000000; stroke-linecap:round; stroke-linejoin:round; stroke-width:8; stroke-opacity:0.1; fill:none\" points=\"204.45,676.21 2352.76,676.21 \"/>\n",
       "<polyline clip-path=\"url(#clip702)\" style=\"stroke:#000000; stroke-linecap:round; stroke-linejoin:round; stroke-width:8; stroke-opacity:0.1; fill:none\" points=\"204.45,558.205 2352.76,558.205 \"/>\n",
       "<polyline clip-path=\"url(#clip702)\" style=\"stroke:#000000; stroke-linecap:round; stroke-linejoin:round; stroke-width:8; stroke-opacity:0.1; fill:none\" points=\"204.45,440.2 2352.76,440.2 \"/>\n",
       "<polyline clip-path=\"url(#clip702)\" style=\"stroke:#000000; stroke-linecap:round; stroke-linejoin:round; stroke-width:8; stroke-opacity:0.1; fill:none\" points=\"204.45,322.195 2352.76,322.195 \"/>\n",
       "<polyline clip-path=\"url(#clip702)\" style=\"stroke:#000000; stroke-linecap:round; stroke-linejoin:round; stroke-width:8; stroke-opacity:0.1; fill:none\" points=\"204.45,204.19 2352.76,204.19 \"/>\n",
       "<polyline clip-path=\"url(#clip702)\" style=\"stroke:#000000; stroke-linecap:round; stroke-linejoin:round; stroke-width:8; stroke-opacity:0.1; fill:none\" points=\"204.45,86.1857 2352.76,86.1857 \"/>\n",
       "<polyline clip-path=\"url(#clip700)\" style=\"stroke:#000000; stroke-linecap:round; stroke-linejoin:round; stroke-width:4; stroke-opacity:1; fill:none\" points=\"204.45,1423.18 204.45,47.2441 \"/>\n",
       "<polyline clip-path=\"url(#clip700)\" style=\"stroke:#000000; stroke-linecap:round; stroke-linejoin:round; stroke-width:4; stroke-opacity:1; fill:none\" points=\"204.45,1384.24 223.347,1384.24 \"/>\n",
       "<polyline clip-path=\"url(#clip700)\" style=\"stroke:#000000; stroke-linecap:round; stroke-linejoin:round; stroke-width:4; stroke-opacity:1; fill:none\" points=\"204.45,1266.23 223.347,1266.23 \"/>\n",
       "<polyline clip-path=\"url(#clip700)\" style=\"stroke:#000000; stroke-linecap:round; stroke-linejoin:round; stroke-width:4; stroke-opacity:1; fill:none\" points=\"204.45,1148.23 223.347,1148.23 \"/>\n",
       "<polyline clip-path=\"url(#clip700)\" style=\"stroke:#000000; stroke-linecap:round; stroke-linejoin:round; stroke-width:4; stroke-opacity:1; fill:none\" points=\"204.45,1030.22 223.347,1030.22 \"/>\n",
       "<polyline clip-path=\"url(#clip700)\" style=\"stroke:#000000; stroke-linecap:round; stroke-linejoin:round; stroke-width:4; stroke-opacity:1; fill:none\" points=\"204.45,912.219 223.347,912.219 \"/>\n",
       "<polyline clip-path=\"url(#clip700)\" style=\"stroke:#000000; stroke-linecap:round; stroke-linejoin:round; stroke-width:4; stroke-opacity:1; fill:none\" points=\"204.45,794.214 223.347,794.214 \"/>\n",
       "<polyline clip-path=\"url(#clip700)\" style=\"stroke:#000000; stroke-linecap:round; stroke-linejoin:round; stroke-width:4; stroke-opacity:1; fill:none\" points=\"204.45,676.21 223.347,676.21 \"/>\n",
       "<polyline clip-path=\"url(#clip700)\" style=\"stroke:#000000; stroke-linecap:round; stroke-linejoin:round; stroke-width:4; stroke-opacity:1; fill:none\" points=\"204.45,558.205 223.347,558.205 \"/>\n",
       "<polyline clip-path=\"url(#clip700)\" style=\"stroke:#000000; stroke-linecap:round; stroke-linejoin:round; stroke-width:4; stroke-opacity:1; fill:none\" points=\"204.45,440.2 223.347,440.2 \"/>\n",
       "<polyline clip-path=\"url(#clip700)\" style=\"stroke:#000000; stroke-linecap:round; stroke-linejoin:round; stroke-width:4; stroke-opacity:1; fill:none\" points=\"204.45,322.195 223.347,322.195 \"/>\n",
       "<polyline clip-path=\"url(#clip700)\" style=\"stroke:#000000; stroke-linecap:round; stroke-linejoin:round; stroke-width:4; stroke-opacity:1; fill:none\" points=\"204.45,204.19 223.347,204.19 \"/>\n",
       "<polyline clip-path=\"url(#clip700)\" style=\"stroke:#000000; stroke-linecap:round; stroke-linejoin:round; stroke-width:4; stroke-opacity:1; fill:none\" points=\"204.45,86.1857 223.347,86.1857 \"/>\n",
       "<path clip-path=\"url(#clip700)\" d=\"M116.668 1397.58 L124.306 1397.58 L124.306 1371.22 L115.996 1372.88 L115.996 1368.62 L124.26 1366.96 L128.936 1366.96 L128.936 1397.58 L136.575 1397.58 L136.575 1401.52 L116.668 1401.52 L116.668 1397.58 Z\" fill=\"#000000\" fill-rule=\"evenodd\" fill-opacity=\"1\" /><path clip-path=\"url(#clip700)\" d=\"M158.866 1371.03 L147.061 1389.48 L158.866 1389.48 L158.866 1371.03 M157.64 1366.96 L163.519 1366.96 L163.519 1389.48 L168.45 1389.48 L168.45 1393.37 L163.519 1393.37 L163.519 1401.52 L158.866 1401.52 L158.866 1393.37 L143.265 1393.37 L143.265 1388.86 L157.64 1366.96 Z\" fill=\"#000000\" fill-rule=\"evenodd\" fill-opacity=\"1\" /><path clip-path=\"url(#clip700)\" d=\"M118.149 1279.58 L125.788 1279.58 L125.788 1253.21 L117.478 1254.88 L117.478 1250.62 L125.742 1248.95 L130.417 1248.95 L130.417 1279.58 L138.056 1279.58 L138.056 1283.51 L118.149 1283.51 L118.149 1279.58 Z\" fill=\"#000000\" fill-rule=\"evenodd\" fill-opacity=\"1\" /><path clip-path=\"url(#clip700)\" d=\"M147.547 1248.95 L165.903 1248.95 L165.903 1252.89 L151.829 1252.89 L151.829 1261.36 Q152.848 1261.01 153.866 1260.85 Q154.885 1260.67 155.903 1260.67 Q161.69 1260.67 165.07 1263.84 Q168.45 1267.01 168.45 1272.43 Q168.45 1278 164.977 1281.11 Q161.505 1284.18 155.186 1284.18 Q153.01 1284.18 150.741 1283.81 Q148.496 1283.44 146.089 1282.7 L146.089 1278 Q148.172 1279.14 150.394 1279.69 Q152.616 1280.25 155.093 1280.25 Q159.098 1280.25 161.436 1278.14 Q163.774 1276.04 163.774 1272.43 Q163.774 1268.81 161.436 1266.71 Q159.098 1264.6 155.093 1264.6 Q153.218 1264.6 151.343 1265.02 Q149.491 1265.43 147.547 1266.31 L147.547 1248.95 Z\" fill=\"#000000\" fill-rule=\"evenodd\" fill-opacity=\"1\" /><path clip-path=\"url(#clip700)\" d=\"M116.992 1161.57 L124.63 1161.57 L124.63 1135.21 L116.32 1136.87 L116.32 1132.62 L124.584 1130.95 L129.26 1130.95 L129.26 1161.57 L136.899 1161.57 L136.899 1165.51 L116.992 1165.51 L116.992 1161.57 Z\" fill=\"#000000\" fill-rule=\"evenodd\" fill-opacity=\"1\" /><path clip-path=\"url(#clip700)\" d=\"M156.922 1146.37 Q153.774 1146.37 151.922 1148.52 Q150.093 1150.67 150.093 1154.42 Q150.093 1158.15 151.922 1160.32 Q153.774 1162.48 156.922 1162.48 Q160.07 1162.48 161.899 1160.32 Q163.751 1158.15 163.751 1154.42 Q163.751 1150.67 161.899 1148.52 Q160.07 1146.37 156.922 1146.37 M166.204 1131.71 L166.204 1135.97 Q164.445 1135.14 162.64 1134.7 Q160.857 1134.26 159.098 1134.26 Q154.468 1134.26 152.015 1137.38 Q149.584 1140.51 149.237 1146.83 Q150.603 1144.81 152.663 1143.75 Q154.723 1142.66 157.2 1142.66 Q162.408 1142.66 165.417 1145.83 Q168.45 1148.98 168.45 1154.42 Q168.45 1159.74 165.302 1162.96 Q162.153 1166.18 156.922 1166.18 Q150.927 1166.18 147.755 1161.6 Q144.584 1156.99 144.584 1148.26 Q144.584 1140.07 148.473 1135.21 Q152.362 1130.32 158.913 1130.32 Q160.672 1130.32 162.454 1130.67 Q164.26 1131.02 166.204 1131.71 Z\" fill=\"#000000\" fill-rule=\"evenodd\" fill-opacity=\"1\" /><path clip-path=\"url(#clip700)\" d=\"M118.056 1043.57 L125.695 1043.57 L125.695 1017.2 L117.385 1018.87 L117.385 1014.61 L125.649 1012.94 L130.325 1012.94 L130.325 1043.57 L137.964 1043.57 L137.964 1047.5 L118.056 1047.5 L118.056 1043.57 Z\" fill=\"#000000\" fill-rule=\"evenodd\" fill-opacity=\"1\" /><path clip-path=\"url(#clip700)\" d=\"M146.228 1012.94 L168.45 1012.94 L168.45 1014.93 L155.903 1047.5 L151.019 1047.5 L162.825 1016.88 L146.228 1016.88 L146.228 1012.94 Z\" fill=\"#000000\" fill-rule=\"evenodd\" fill-opacity=\"1\" /><path clip-path=\"url(#clip700)\" d=\"M117.246 925.564 L124.885 925.564 L124.885 899.198 L116.575 900.865 L116.575 896.606 L124.839 894.939 L129.515 894.939 L129.515 925.564 L137.154 925.564 L137.154 929.499 L117.246 929.499 L117.246 925.564 Z\" fill=\"#000000\" fill-rule=\"evenodd\" fill-opacity=\"1\" /><path clip-path=\"url(#clip700)\" d=\"M156.598 913.087 Q153.265 913.087 151.343 914.87 Q149.445 916.652 149.445 919.777 Q149.445 922.902 151.343 924.684 Q153.265 926.467 156.598 926.467 Q159.931 926.467 161.852 924.684 Q163.774 922.879 163.774 919.777 Q163.774 916.652 161.852 914.87 Q159.954 913.087 156.598 913.087 M151.922 911.096 Q148.913 910.356 147.223 908.296 Q145.556 906.235 145.556 903.272 Q145.556 899.129 148.496 896.722 Q151.459 894.314 156.598 894.314 Q161.76 894.314 164.7 896.722 Q167.64 899.129 167.64 903.272 Q167.64 906.235 165.95 908.296 Q164.283 910.356 161.297 911.096 Q164.677 911.883 166.552 914.175 Q168.45 916.467 168.45 919.777 Q168.45 924.8 165.371 927.485 Q162.315 930.17 156.598 930.17 Q150.88 930.17 147.802 927.485 Q144.746 924.8 144.746 919.777 Q144.746 916.467 146.644 914.175 Q148.542 911.883 151.922 911.096 M150.209 903.712 Q150.209 906.397 151.876 907.902 Q153.566 909.407 156.598 909.407 Q159.607 909.407 161.297 907.902 Q163.01 906.397 163.01 903.712 Q163.01 901.027 161.297 899.522 Q159.607 898.018 156.598 898.018 Q153.566 898.018 151.876 899.522 Q150.209 901.027 150.209 903.712 Z\" fill=\"#000000\" fill-rule=\"evenodd\" fill-opacity=\"1\" /><path clip-path=\"url(#clip700)\" d=\"M117.339 807.559 L124.978 807.559 L124.978 781.194 L116.668 782.86 L116.668 778.601 L124.931 776.934 L129.607 776.934 L129.607 807.559 L137.246 807.559 L137.246 811.494 L117.339 811.494 L117.339 807.559 Z\" fill=\"#000000\" fill-rule=\"evenodd\" fill-opacity=\"1\" /><path clip-path=\"url(#clip700)\" d=\"M146.829 810.777 L146.829 806.518 Q148.589 807.351 150.394 807.791 Q152.2 808.23 153.936 808.23 Q158.565 808.23 160.996 805.129 Q163.45 802.004 163.797 795.661 Q162.454 797.652 160.394 798.717 Q158.334 799.781 155.834 799.781 Q150.649 799.781 147.616 796.656 Q144.607 793.508 144.607 788.069 Q144.607 782.745 147.755 779.527 Q150.903 776.309 156.135 776.309 Q162.13 776.309 165.278 780.916 Q168.45 785.499 168.45 794.249 Q168.45 802.42 164.561 807.305 Q160.695 812.166 154.144 812.166 Q152.385 812.166 150.579 811.818 Q148.774 811.471 146.829 810.777 M156.135 796.124 Q159.283 796.124 161.112 793.971 Q162.964 791.819 162.964 788.069 Q162.964 784.342 161.112 782.189 Q159.283 780.013 156.135 780.013 Q152.987 780.013 151.135 782.189 Q149.306 784.342 149.306 788.069 Q149.306 791.819 151.135 793.971 Q152.987 796.124 156.135 796.124 Z\" fill=\"#000000\" fill-rule=\"evenodd\" fill-opacity=\"1\" /><path clip-path=\"url(#clip700)\" d=\"M120.371 689.554 L136.691 689.554 L136.691 693.49 L114.746 693.49 L114.746 689.554 Q117.408 686.8 121.992 682.17 Q126.598 677.517 127.779 676.175 Q130.024 673.652 130.904 671.916 Q131.806 670.156 131.806 668.467 Q131.806 665.712 129.862 663.976 Q127.941 662.24 124.839 662.24 Q122.64 662.24 120.186 663.004 Q117.756 663.768 114.978 665.318 L114.978 660.596 Q117.802 659.462 120.255 658.883 Q122.709 658.305 124.746 658.305 Q130.117 658.305 133.311 660.99 Q136.505 663.675 136.505 668.166 Q136.505 670.295 135.695 672.217 Q134.908 674.115 132.802 676.707 Q132.223 677.379 129.121 680.596 Q126.019 683.791 120.371 689.554 Z\" fill=\"#000000\" fill-rule=\"evenodd\" fill-opacity=\"1\" /><path clip-path=\"url(#clip700)\" d=\"M156.505 662.008 Q152.894 662.008 151.066 665.573 Q149.26 669.115 149.26 676.244 Q149.26 683.351 151.066 686.916 Q152.894 690.457 156.505 690.457 Q160.14 690.457 161.945 686.916 Q163.774 683.351 163.774 676.244 Q163.774 669.115 161.945 665.573 Q160.14 662.008 156.505 662.008 M156.505 658.305 Q162.315 658.305 165.371 662.911 Q168.45 667.494 168.45 676.244 Q168.45 684.971 165.371 689.578 Q162.315 694.161 156.505 694.161 Q150.695 694.161 147.616 689.578 Q144.561 684.971 144.561 676.244 Q144.561 667.494 147.616 662.911 Q150.695 658.305 156.505 658.305 Z\" fill=\"#000000\" fill-rule=\"evenodd\" fill-opacity=\"1\" /><path clip-path=\"url(#clip700)\" d=\"M121.598 571.55 L137.917 571.55 L137.917 575.485 L115.973 575.485 L115.973 571.55 Q118.635 568.795 123.218 564.165 Q127.825 559.513 129.005 558.17 Q131.251 555.647 132.13 553.911 Q133.033 552.152 133.033 550.462 Q133.033 547.707 131.089 545.971 Q129.167 544.235 126.066 544.235 Q123.867 544.235 121.413 544.999 Q118.982 545.763 116.205 547.314 L116.205 542.591 Q119.029 541.457 121.482 540.879 Q123.936 540.3 125.973 540.3 Q131.343 540.3 134.538 542.985 Q137.732 545.67 137.732 550.161 Q137.732 552.29 136.922 554.212 Q136.135 556.11 134.029 558.702 Q133.45 559.374 130.348 562.591 Q127.246 565.786 121.598 571.55 Z\" fill=\"#000000\" fill-rule=\"evenodd\" fill-opacity=\"1\" /><path clip-path=\"url(#clip700)\" d=\"M148.542 571.55 L156.181 571.55 L156.181 545.184 L147.871 546.851 L147.871 542.591 L156.135 540.925 L160.811 540.925 L160.811 571.55 L168.45 571.55 L168.45 575.485 L148.542 575.485 L148.542 571.55 Z\" fill=\"#000000\" fill-rule=\"evenodd\" fill-opacity=\"1\" /><path clip-path=\"url(#clip700)\" d=\"M121.968 453.545 L138.288 453.545 L138.288 457.48 L116.343 457.48 L116.343 453.545 Q119.006 450.79 123.589 446.161 Q128.195 441.508 129.376 440.165 Q131.621 437.642 132.501 435.906 Q133.404 434.147 133.404 432.457 Q133.404 429.702 131.459 427.966 Q129.538 426.23 126.436 426.23 Q124.237 426.23 121.783 426.994 Q119.353 427.758 116.575 429.309 L116.575 424.587 Q119.399 423.452 121.853 422.874 Q124.306 422.295 126.343 422.295 Q131.714 422.295 134.908 424.98 Q138.103 427.665 138.103 432.156 Q138.103 434.286 137.292 436.207 Q136.505 438.105 134.399 440.698 Q133.82 441.369 130.718 444.587 Q127.617 447.781 121.968 453.545 Z\" fill=\"#000000\" fill-rule=\"evenodd\" fill-opacity=\"1\" /><path clip-path=\"url(#clip700)\" d=\"M152.13 453.545 L168.45 453.545 L168.45 457.48 L146.505 457.48 L146.505 453.545 Q149.167 450.79 153.751 446.161 Q158.357 441.508 159.538 440.165 Q161.783 437.642 162.663 435.906 Q163.565 434.147 163.565 432.457 Q163.565 429.702 161.621 427.966 Q159.7 426.23 156.598 426.23 Q154.399 426.23 151.945 426.994 Q149.515 427.758 146.737 429.309 L146.737 424.587 Q149.561 423.452 152.015 422.874 Q154.468 422.295 156.505 422.295 Q161.876 422.295 165.07 424.98 Q168.264 427.665 168.264 432.156 Q168.264 434.286 167.454 436.207 Q166.667 438.105 164.561 440.698 Q163.982 441.369 160.88 444.587 Q157.778 447.781 152.13 453.545 Z\" fill=\"#000000\" fill-rule=\"evenodd\" fill-opacity=\"1\" /><path clip-path=\"url(#clip700)\" d=\"M121.019 335.54 L137.339 335.54 L137.339 339.475 L115.394 339.475 L115.394 335.54 Q118.056 332.785 122.64 328.156 Q127.246 323.503 128.427 322.161 Q130.672 319.637 131.552 317.901 Q132.455 316.142 132.455 314.452 Q132.455 311.698 130.51 309.962 Q128.589 308.225 125.487 308.225 Q123.288 308.225 120.834 308.989 Q118.404 309.753 115.626 311.304 L115.626 306.582 Q118.45 305.448 120.904 304.869 Q123.357 304.29 125.394 304.29 Q130.765 304.29 133.959 306.975 Q137.154 309.661 137.154 314.151 Q137.154 316.281 136.343 318.202 Q135.556 320.1 133.45 322.693 Q132.871 323.364 129.769 326.582 Q126.667 329.776 121.019 335.54 Z\" fill=\"#000000\" fill-rule=\"evenodd\" fill-opacity=\"1\" /><path clip-path=\"url(#clip700)\" d=\"M161.32 320.841 Q164.677 321.559 166.552 323.827 Q168.45 326.096 168.45 329.429 Q168.45 334.545 164.931 337.346 Q161.413 340.147 154.931 340.147 Q152.755 340.147 150.441 339.707 Q148.149 339.29 145.695 338.434 L145.695 333.92 Q147.64 335.054 149.954 335.633 Q152.269 336.211 154.792 336.211 Q159.19 336.211 161.482 334.475 Q163.797 332.739 163.797 329.429 Q163.797 326.373 161.644 324.66 Q159.515 322.924 155.695 322.924 L151.667 322.924 L151.667 319.082 L155.88 319.082 Q159.329 319.082 161.158 317.716 Q162.987 316.327 162.987 313.735 Q162.987 311.073 161.089 309.661 Q159.214 308.225 155.695 308.225 Q153.774 308.225 151.575 308.642 Q149.376 309.059 146.737 309.938 L146.737 305.772 Q149.399 305.031 151.714 304.661 Q154.052 304.29 156.112 304.29 Q161.436 304.29 164.538 306.721 Q167.64 309.128 167.64 313.249 Q167.64 316.119 165.996 318.11 Q164.352 320.077 161.32 320.841 Z\" fill=\"#000000\" fill-rule=\"evenodd\" fill-opacity=\"1\" /><path clip-path=\"url(#clip700)\" d=\"M119.885 217.535 L136.204 217.535 L136.204 221.47 L114.26 221.47 L114.26 217.535 Q116.922 214.781 121.505 210.151 Q126.112 205.498 127.292 204.156 Q129.538 201.633 130.417 199.896 Q131.32 198.137 131.32 196.447 Q131.32 193.693 129.376 191.957 Q127.455 190.221 124.353 190.221 Q122.154 190.221 119.7 190.985 Q117.269 191.748 114.492 193.299 L114.492 188.577 Q117.316 187.443 119.769 186.864 Q122.223 186.285 124.26 186.285 Q129.63 186.285 132.825 188.971 Q136.019 191.656 136.019 196.147 Q136.019 198.276 135.209 200.197 Q134.422 202.096 132.316 204.688 Q131.737 205.359 128.635 208.577 Q125.533 211.771 119.885 217.535 Z\" fill=\"#000000\" fill-rule=\"evenodd\" fill-opacity=\"1\" /><path clip-path=\"url(#clip700)\" d=\"M158.866 190.985 L147.061 209.433 L158.866 209.433 L158.866 190.985 M157.64 186.91 L163.519 186.91 L163.519 209.433 L168.45 209.433 L168.45 213.322 L163.519 213.322 L163.519 221.47 L158.866 221.47 L158.866 213.322 L143.265 213.322 L143.265 208.808 L157.64 186.91 Z\" fill=\"#000000\" fill-rule=\"evenodd\" fill-opacity=\"1\" /><path clip-path=\"url(#clip700)\" d=\"M121.367 99.5305 L137.686 99.5305 L137.686 103.466 L115.742 103.466 L115.742 99.5305 Q118.404 96.7759 122.987 92.1463 Q127.593 87.4935 128.774 86.151 Q131.019 83.6278 131.899 81.8917 Q132.802 80.1325 132.802 78.4427 Q132.802 75.688 130.857 73.9519 Q128.936 72.2158 125.834 72.2158 Q123.635 72.2158 121.181 72.9797 Q118.751 73.7436 115.973 75.2945 L115.973 70.5723 Q118.797 69.4381 121.251 68.8594 Q123.705 68.2807 125.742 68.2807 Q131.112 68.2807 134.306 70.9658 Q137.501 73.651 137.501 78.1417 Q137.501 80.2714 136.691 82.1926 Q135.904 84.0908 133.797 86.6834 Q133.218 87.3546 130.117 90.5722 Q127.015 93.7667 121.367 99.5305 Z\" fill=\"#000000\" fill-rule=\"evenodd\" fill-opacity=\"1\" /><path clip-path=\"url(#clip700)\" d=\"M147.547 68.9057 L165.903 68.9057 L165.903 72.8408 L151.829 72.8408 L151.829 81.313 Q152.848 80.9658 153.866 80.8038 Q154.885 80.6186 155.903 80.6186 Q161.69 80.6186 165.07 83.7899 Q168.45 86.9611 168.45 92.3778 Q168.45 97.9564 164.977 101.058 Q161.505 104.137 155.186 104.137 Q153.01 104.137 150.741 103.767 Q148.496 103.396 146.089 102.655 L146.089 97.9564 Q148.172 99.0907 150.394 99.6462 Q152.616 100.202 155.093 100.202 Q159.098 100.202 161.436 98.0953 Q163.774 95.9889 163.774 92.3778 Q163.774 88.7667 161.436 86.6602 Q159.098 84.5537 155.093 84.5537 Q153.218 84.5537 151.343 84.9704 Q149.491 85.3871 147.547 86.2667 L147.547 68.9057 Z\" fill=\"#000000\" fill-rule=\"evenodd\" fill-opacity=\"1\" /><path clip-path=\"url(#clip700)\" d=\"M35.3266 895.15 L35.3266 904.412 L45.9574 907.086 L45.9574 897.76 L35.3266 895.15 M17.2162 899.925 L30.4251 903.235 L30.4251 893.941 L17.2162 890.599 L17.2162 885.506 L30.4251 888.785 L30.4251 878.854 L35.3266 878.854 L35.3266 890.026 L45.9574 892.636 L45.9574 882.514 L50.8271 882.514 L50.8271 893.877 L64.0042 897.187 L64.0042 902.28 L50.8271 899.002 L50.8271 908.327 L64.0042 911.606 L64.0042 916.73 L50.8271 913.42 L50.8271 923.446 L45.9574 923.446 L45.9574 912.242 L35.3266 909.569 L35.3266 919.817 L30.4251 919.817 L30.4251 908.327 L17.2162 905.081 L17.2162 899.925 Z\" fill=\"#000000\" fill-rule=\"evenodd\" fill-opacity=\"1\" /><path clip-path=\"url(#clip700)\" d=\"M28.3562 846.994 L28.3562 841.137 L64.0042 841.137 L64.0042 846.994 L28.3562 846.994 M14.479 846.994 L14.479 841.137 L21.895 841.137 L21.895 846.994 L14.479 846.994 Z\" fill=\"#000000\" fill-rule=\"evenodd\" fill-opacity=\"1\" /><path clip-path=\"url(#clip700)\" d=\"M18.2347 823.091 L28.3562 823.091 L28.3562 811.028 L32.9077 811.028 L32.9077 823.091 L52.2594 823.091 Q56.6199 823.091 57.8613 821.913 Q59.1026 820.703 59.1026 817.043 L59.1026 811.028 L64.0042 811.028 L64.0042 817.043 Q64.0042 823.823 61.4897 826.401 Q58.9434 828.979 52.2594 828.979 L32.9077 828.979 L32.9077 833.276 L28.3562 833.276 L28.3562 828.979 L18.2347 828.979 L18.2347 823.091 Z\" fill=\"#000000\" fill-rule=\"evenodd\" fill-opacity=\"1\" /><path clip-path=\"url(#clip700)\" d=\"M44.7161 772.833 L47.5806 772.833 L47.5806 799.76 Q53.6281 799.378 56.8109 796.132 Q59.9619 792.853 59.9619 787.029 Q59.9619 783.655 59.1344 780.504 Q58.3069 777.321 56.6518 774.202 L62.1899 774.202 Q63.5267 777.353 64.227 780.663 Q64.9272 783.973 64.9272 787.379 Q64.9272 795.909 59.9619 800.906 Q54.9967 805.871 46.5303 805.871 Q37.7774 805.871 32.6531 801.161 Q27.4968 796.418 27.4968 788.397 Q27.4968 781.204 32.1438 777.035 Q36.7589 772.833 44.7161 772.833 M42.9973 778.69 Q38.1912 778.753 35.3266 781.395 Q32.4621 784.005 32.4621 788.334 Q32.4621 793.235 35.2312 796.195 Q38.0002 799.124 43.0292 799.569 L42.9973 778.69 Z\" fill=\"#000000\" fill-rule=\"evenodd\" fill-opacity=\"1\" /><path clip-path=\"url(#clip700)\" d=\"M33.8307 742.564 Q33.2578 743.551 33.0032 744.729 Q32.7167 745.875 32.7167 747.275 Q32.7167 752.24 35.9632 754.914 Q39.1779 757.556 45.2253 757.556 L64.0042 757.556 L64.0042 763.444 L28.3562 763.444 L28.3562 757.556 L33.8944 757.556 Q30.6479 755.71 29.0883 752.749 Q27.4968 749.789 27.4968 745.556 Q27.4968 744.951 27.5923 744.219 Q27.656 743.487 27.8151 742.596 L33.8307 742.564 Z\" fill=\"#000000\" fill-rule=\"evenodd\" fill-opacity=\"1\" /><path clip-path=\"url(#clip700)\" d=\"M46.0847 720.221 Q46.0847 727.318 47.7079 730.056 Q49.3312 732.793 53.2461 732.793 Q56.3653 732.793 58.2114 730.756 Q60.0256 728.687 60.0256 725.154 Q60.0256 720.284 56.5881 717.356 Q53.1188 714.396 47.3897 714.396 L46.0847 714.396 L46.0847 720.221 M43.6657 708.54 L64.0042 708.54 L64.0042 714.396 L58.5933 714.396 Q61.8398 716.401 63.3994 719.393 Q64.9272 722.385 64.9272 726.714 Q64.9272 732.188 61.8716 735.435 Q58.7843 738.649 53.6281 738.649 Q47.6125 738.649 44.5569 734.639 Q41.5014 730.597 41.5014 722.608 L41.5014 714.396 L40.9285 714.396 Q36.8862 714.396 34.6901 717.07 Q32.4621 719.711 32.4621 724.518 Q32.4621 727.573 33.1941 730.47 Q33.9262 733.366 35.3903 736.04 L29.9795 736.04 Q28.7381 732.825 28.1334 729.801 Q27.4968 726.777 27.4968 723.913 Q27.4968 716.179 31.5072 712.359 Q35.5176 708.54 43.6657 708.54 Z\" fill=\"#000000\" fill-rule=\"evenodd\" fill-opacity=\"1\" /><path clip-path=\"url(#clip700)\" d=\"M18.2347 690.684 L28.3562 690.684 L28.3562 678.621 L32.9077 678.621 L32.9077 690.684 L52.2594 690.684 Q56.6199 690.684 57.8613 689.506 Q59.1026 688.297 59.1026 684.636 L59.1026 678.621 L64.0042 678.621 L64.0042 684.636 Q64.0042 691.416 61.4897 693.994 Q58.9434 696.572 52.2594 696.572 L32.9077 696.572 L32.9077 700.869 L28.3562 700.869 L28.3562 696.572 L18.2347 696.572 L18.2347 690.684 Z\" fill=\"#000000\" fill-rule=\"evenodd\" fill-opacity=\"1\" /><path clip-path=\"url(#clip700)\" d=\"M28.3562 670.918 L28.3562 665.062 L64.0042 665.062 L64.0042 670.918 L28.3562 670.918 M14.479 670.918 L14.479 665.062 L21.895 665.062 L21.895 670.918 L14.479 670.918 Z\" fill=\"#000000\" fill-rule=\"evenodd\" fill-opacity=\"1\" /><path clip-path=\"url(#clip700)\" d=\"M32.4621 638.994 Q32.4621 643.705 36.1542 646.442 Q39.8145 649.179 46.212 649.179 Q52.6095 649.179 56.3017 646.474 Q59.9619 643.737 59.9619 638.994 Q59.9619 634.316 56.2698 631.578 Q52.5777 628.841 46.212 628.841 Q39.8781 628.841 36.186 631.578 Q32.4621 634.316 32.4621 638.994 M27.4968 638.994 Q27.4968 631.355 32.4621 626.995 Q37.4273 622.634 46.212 622.634 Q54.9649 622.634 59.9619 626.995 Q64.9272 631.355 64.9272 638.994 Q64.9272 646.665 59.9619 651.025 Q54.9649 655.354 46.212 655.354 Q37.4273 655.354 32.4621 651.025 Q27.4968 646.665 27.4968 638.994 Z\" fill=\"#000000\" fill-rule=\"evenodd\" fill-opacity=\"1\" /><path clip-path=\"url(#clip700)\" d=\"M42.4881 583.294 L64.0042 583.294 L64.0042 589.151 L42.679 589.151 Q37.6183 589.151 35.1038 591.124 Q32.5894 593.098 32.5894 597.044 Q32.5894 601.787 35.6131 604.524 Q38.6368 607.261 43.8567 607.261 L64.0042 607.261 L64.0042 613.15 L28.3562 613.15 L28.3562 607.261 L33.8944 607.261 Q30.6797 605.161 29.0883 602.328 Q27.4968 599.463 27.4968 595.739 Q27.4968 589.596 31.3163 586.445 Q35.1038 583.294 42.4881 583.294 Z\" fill=\"#000000\" fill-rule=\"evenodd\" fill-opacity=\"1\" /><path clip-path=\"url(#clip700)\" d=\"M29.4065 548.888 L34.9447 548.888 Q33.6716 551.37 33.035 554.044 Q32.3984 556.718 32.3984 559.582 Q32.3984 563.943 33.7352 566.139 Q35.072 568.303 37.7456 568.303 Q39.7826 568.303 40.9603 566.744 Q42.1061 565.184 43.1565 560.473 L43.6021 558.468 Q44.9389 552.23 47.3897 549.62 Q49.8086 546.978 54.1691 546.978 Q59.1344 546.978 62.0308 550.925 Q64.9272 554.84 64.9272 561.715 Q64.9272 564.579 64.3543 567.698 Q63.8132 570.786 62.6992 574.223 L56.6518 574.223 Q58.3387 570.977 59.198 567.826 Q60.0256 564.675 60.0256 561.587 Q60.0256 557.45 58.6251 555.222 Q57.1929 552.994 54.6147 552.994 Q52.2276 552.994 50.9545 554.617 Q49.6813 556.208 48.5037 561.651 L48.0262 563.688 Q46.8804 569.131 44.5251 571.55 Q42.138 573.969 38.0002 573.969 Q32.9713 573.969 30.2341 570.404 Q27.4968 566.839 27.4968 560.282 Q27.4968 557.036 27.9743 554.171 Q28.4517 551.307 29.4065 548.888 Z\" fill=\"#000000\" fill-rule=\"evenodd\" fill-opacity=\"1\" /><polyline clip-path=\"url(#clip702)\" style=\"stroke:#009af9; stroke-linecap:round; stroke-linejoin:round; stroke-width:4; stroke-opacity:1; fill:none\" points=\"265.251,1384.24 335.137,1384.24 405.023,558.205 474.91,1148.23 544.796,440.2 614.683,912.219 684.569,676.21 754.455,1030.22 824.342,558.205 894.228,912.219 964.114,794.214 1034,676.21 1103.89,676.21 1173.77,558.205 1243.66,676.21 1313.55,558.205 1383.43,204.19 1453.32,322.195 1523.2,794.214 1593.09,1030.22 1662.98,794.214 1732.86,86.1857 1802.75,558.205 1872.64,912.219 1942.52,794.214 2012.41,558.205 2082.3,794.214 2152.18,558.205 2222.07,322.195 2291.95,86.1857 \"/>\n",
       "<path clip-path=\"url(#clip702)\" d=\"M249.251 1368.24 L249.251 1400.24 L281.251 1400.24 L281.251 1368.24 L249.251 1368.24 Z\" fill=\"#ff0000\" fill-rule=\"evenodd\" fill-opacity=\"1\" stroke=\"#000000\" stroke-opacity=\"1\" stroke-width=\"3.2\"/>\n",
       "<path clip-path=\"url(#clip702)\" d=\"M319.137 1368.24 L319.137 1400.24 L351.137 1400.24 L351.137 1368.24 L319.137 1368.24 Z\" fill=\"#ff0000\" fill-rule=\"evenodd\" fill-opacity=\"1\" stroke=\"#000000\" stroke-opacity=\"1\" stroke-width=\"3.2\"/>\n",
       "<path clip-path=\"url(#clip702)\" d=\"M389.023 542.205 L389.023 574.205 L421.023 574.205 L421.023 542.205 L389.023 542.205 Z\" fill=\"#ff0000\" fill-rule=\"evenodd\" fill-opacity=\"1\" stroke=\"#000000\" stroke-opacity=\"1\" stroke-width=\"3.2\"/>\n",
       "<path clip-path=\"url(#clip702)\" d=\"M458.91 1132.23 L458.91 1164.23 L490.91 1164.23 L490.91 1132.23 L458.91 1132.23 Z\" fill=\"#ff0000\" fill-rule=\"evenodd\" fill-opacity=\"1\" stroke=\"#000000\" stroke-opacity=\"1\" stroke-width=\"3.2\"/>\n",
       "<path clip-path=\"url(#clip702)\" d=\"M528.796 424.2 L528.796 456.2 L560.796 456.2 L560.796 424.2 L528.796 424.2 Z\" fill=\"#ff0000\" fill-rule=\"evenodd\" fill-opacity=\"1\" stroke=\"#000000\" stroke-opacity=\"1\" stroke-width=\"3.2\"/>\n",
       "<path clip-path=\"url(#clip702)\" d=\"M598.683 896.219 L598.683 928.219 L630.683 928.219 L630.683 896.219 L598.683 896.219 Z\" fill=\"#ff0000\" fill-rule=\"evenodd\" fill-opacity=\"1\" stroke=\"#000000\" stroke-opacity=\"1\" stroke-width=\"3.2\"/>\n",
       "<path clip-path=\"url(#clip702)\" d=\"M668.569 660.21 L668.569 692.21 L700.569 692.21 L700.569 660.21 L668.569 660.21 Z\" fill=\"#ff0000\" fill-rule=\"evenodd\" fill-opacity=\"1\" stroke=\"#000000\" stroke-opacity=\"1\" stroke-width=\"3.2\"/>\n",
       "<path clip-path=\"url(#clip702)\" d=\"M738.455 1014.22 L738.455 1046.22 L770.455 1046.22 L770.455 1014.22 L738.455 1014.22 Z\" fill=\"#ff0000\" fill-rule=\"evenodd\" fill-opacity=\"1\" stroke=\"#000000\" stroke-opacity=\"1\" stroke-width=\"3.2\"/>\n",
       "<path clip-path=\"url(#clip702)\" d=\"M808.342 542.205 L808.342 574.205 L840.342 574.205 L840.342 542.205 L808.342 542.205 Z\" fill=\"#ff0000\" fill-rule=\"evenodd\" fill-opacity=\"1\" stroke=\"#000000\" stroke-opacity=\"1\" stroke-width=\"3.2\"/>\n",
       "<path clip-path=\"url(#clip702)\" d=\"M878.228 896.219 L878.228 928.219 L910.228 928.219 L910.228 896.219 L878.228 896.219 Z\" fill=\"#ff0000\" fill-rule=\"evenodd\" fill-opacity=\"1\" stroke=\"#000000\" stroke-opacity=\"1\" stroke-width=\"3.2\"/>\n",
       "<path clip-path=\"url(#clip702)\" d=\"M948.114 778.214 L948.114 810.214 L980.114 810.214 L980.114 778.214 L948.114 778.214 Z\" fill=\"#ff0000\" fill-rule=\"evenodd\" fill-opacity=\"1\" stroke=\"#000000\" stroke-opacity=\"1\" stroke-width=\"3.2\"/>\n",
       "<path clip-path=\"url(#clip702)\" d=\"M1018 660.21 L1018 692.21 L1050 692.21 L1050 660.21 L1018 660.21 Z\" fill=\"#ff0000\" fill-rule=\"evenodd\" fill-opacity=\"1\" stroke=\"#000000\" stroke-opacity=\"1\" stroke-width=\"3.2\"/>\n",
       "<path clip-path=\"url(#clip702)\" d=\"M1087.89 660.21 L1087.89 692.21 L1119.89 692.21 L1119.89 660.21 L1087.89 660.21 Z\" fill=\"#ff0000\" fill-rule=\"evenodd\" fill-opacity=\"1\" stroke=\"#000000\" stroke-opacity=\"1\" stroke-width=\"3.2\"/>\n",
       "<path clip-path=\"url(#clip702)\" d=\"M1157.77 542.205 L1157.77 574.205 L1189.77 574.205 L1189.77 542.205 L1157.77 542.205 Z\" fill=\"#ff0000\" fill-rule=\"evenodd\" fill-opacity=\"1\" stroke=\"#000000\" stroke-opacity=\"1\" stroke-width=\"3.2\"/>\n",
       "<path clip-path=\"url(#clip702)\" d=\"M1227.66 660.21 L1227.66 692.21 L1259.66 692.21 L1259.66 660.21 L1227.66 660.21 Z\" fill=\"#ff0000\" fill-rule=\"evenodd\" fill-opacity=\"1\" stroke=\"#000000\" stroke-opacity=\"1\" stroke-width=\"3.2\"/>\n",
       "<path clip-path=\"url(#clip702)\" d=\"M1297.55 542.205 L1297.55 574.205 L1329.55 574.205 L1329.55 542.205 L1297.55 542.205 Z\" fill=\"#ff0000\" fill-rule=\"evenodd\" fill-opacity=\"1\" stroke=\"#000000\" stroke-opacity=\"1\" stroke-width=\"3.2\"/>\n",
       "<path clip-path=\"url(#clip702)\" d=\"M1367.43 188.19 L1367.43 220.19 L1399.43 220.19 L1399.43 188.19 L1367.43 188.19 Z\" fill=\"#ff0000\" fill-rule=\"evenodd\" fill-opacity=\"1\" stroke=\"#000000\" stroke-opacity=\"1\" stroke-width=\"3.2\"/>\n",
       "<path clip-path=\"url(#clip702)\" d=\"M1437.32 306.195 L1437.32 338.195 L1469.32 338.195 L1469.32 306.195 L1437.32 306.195 Z\" fill=\"#ff0000\" fill-rule=\"evenodd\" fill-opacity=\"1\" stroke=\"#000000\" stroke-opacity=\"1\" stroke-width=\"3.2\"/>\n",
       "<path clip-path=\"url(#clip702)\" d=\"M1507.2 778.214 L1507.2 810.214 L1539.2 810.214 L1539.2 778.214 L1507.2 778.214 Z\" fill=\"#ff0000\" fill-rule=\"evenodd\" fill-opacity=\"1\" stroke=\"#000000\" stroke-opacity=\"1\" stroke-width=\"3.2\"/>\n",
       "<path clip-path=\"url(#clip702)\" d=\"M1577.09 1014.22 L1577.09 1046.22 L1609.09 1046.22 L1609.09 1014.22 L1577.09 1014.22 Z\" fill=\"#ff0000\" fill-rule=\"evenodd\" fill-opacity=\"1\" stroke=\"#000000\" stroke-opacity=\"1\" stroke-width=\"3.2\"/>\n",
       "<path clip-path=\"url(#clip702)\" d=\"M1646.98 778.214 L1646.98 810.214 L1678.98 810.214 L1678.98 778.214 L1646.98 778.214 Z\" fill=\"#ff0000\" fill-rule=\"evenodd\" fill-opacity=\"1\" stroke=\"#000000\" stroke-opacity=\"1\" stroke-width=\"3.2\"/>\n",
       "<path clip-path=\"url(#clip702)\" d=\"M1716.86 70.1857 L1716.86 102.186 L1748.86 102.186 L1748.86 70.1857 L1716.86 70.1857 Z\" fill=\"#ff0000\" fill-rule=\"evenodd\" fill-opacity=\"1\" stroke=\"#000000\" stroke-opacity=\"1\" stroke-width=\"3.2\"/>\n",
       "<path clip-path=\"url(#clip702)\" d=\"M1786.75 542.205 L1786.75 574.205 L1818.75 574.205 L1818.75 542.205 L1786.75 542.205 Z\" fill=\"#ff0000\" fill-rule=\"evenodd\" fill-opacity=\"1\" stroke=\"#000000\" stroke-opacity=\"1\" stroke-width=\"3.2\"/>\n",
       "<path clip-path=\"url(#clip702)\" d=\"M1856.64 896.219 L1856.64 928.219 L1888.64 928.219 L1888.64 896.219 L1856.64 896.219 Z\" fill=\"#ff0000\" fill-rule=\"evenodd\" fill-opacity=\"1\" stroke=\"#000000\" stroke-opacity=\"1\" stroke-width=\"3.2\"/>\n",
       "<path clip-path=\"url(#clip702)\" d=\"M1926.52 778.214 L1926.52 810.214 L1958.52 810.214 L1958.52 778.214 L1926.52 778.214 Z\" fill=\"#ff0000\" fill-rule=\"evenodd\" fill-opacity=\"1\" stroke=\"#000000\" stroke-opacity=\"1\" stroke-width=\"3.2\"/>\n",
       "<path clip-path=\"url(#clip702)\" d=\"M1996.41 542.205 L1996.41 574.205 L2028.41 574.205 L2028.41 542.205 L1996.41 542.205 Z\" fill=\"#ff0000\" fill-rule=\"evenodd\" fill-opacity=\"1\" stroke=\"#000000\" stroke-opacity=\"1\" stroke-width=\"3.2\"/>\n",
       "<path clip-path=\"url(#clip702)\" d=\"M2066.3 778.214 L2066.3 810.214 L2098.3 810.214 L2098.3 778.214 L2066.3 778.214 Z\" fill=\"#ff0000\" fill-rule=\"evenodd\" fill-opacity=\"1\" stroke=\"#000000\" stroke-opacity=\"1\" stroke-width=\"3.2\"/>\n",
       "<path clip-path=\"url(#clip702)\" d=\"M2136.18 542.205 L2136.18 574.205 L2168.18 574.205 L2168.18 542.205 L2136.18 542.205 Z\" fill=\"#ff0000\" fill-rule=\"evenodd\" fill-opacity=\"1\" stroke=\"#000000\" stroke-opacity=\"1\" stroke-width=\"3.2\"/>\n",
       "<path clip-path=\"url(#clip702)\" d=\"M2206.07 306.195 L2206.07 338.195 L2238.07 338.195 L2238.07 306.195 L2206.07 306.195 Z\" fill=\"#ff0000\" fill-rule=\"evenodd\" fill-opacity=\"1\" stroke=\"#000000\" stroke-opacity=\"1\" stroke-width=\"3.2\"/>\n",
       "<path clip-path=\"url(#clip702)\" d=\"M2275.95 70.1857 L2275.95 102.186 L2307.95 102.186 L2307.95 70.1857 L2275.95 70.1857 Z\" fill=\"#ff0000\" fill-rule=\"evenodd\" fill-opacity=\"1\" stroke=\"#000000\" stroke-opacity=\"1\" stroke-width=\"3.2\"/>\n",
       "<path clip-path=\"url(#clip700)\" d=\"M276.06 196.789 L787.532 196.789 L787.532 93.1086 L276.06 93.1086  Z\" fill=\"#ffffff\" fill-rule=\"evenodd\" fill-opacity=\"1\"/>\n",
       "<polyline clip-path=\"url(#clip700)\" style=\"stroke:#000000; stroke-linecap:round; stroke-linejoin:round; stroke-width:4; stroke-opacity:1; fill:none\" points=\"276.06,196.789 787.532,196.789 787.532,93.1086 276.06,93.1086 276.06,196.789 \"/>\n",
       "<polyline clip-path=\"url(#clip700)\" style=\"stroke:#009af9; stroke-linecap:round; stroke-linejoin:round; stroke-width:4; stroke-opacity:1; fill:none\" points=\"299.93,144.949 443.15,144.949 \"/>\n",
       "<path clip-path=\"url(#clip700)\" d=\"M349.438 122.847 L349.438 167.051 L393.642 167.051 L393.642 122.847 L349.438 122.847 Z\" fill=\"#ff0000\" fill-rule=\"evenodd\" fill-opacity=\"1\" stroke=\"#000000\" stroke-opacity=\"1\" stroke-width=\"5.12\"/>\n",
       "<path clip-path=\"url(#clip700)\" d=\"M485.932 140.238 L485.932 126.21 L490.192 126.21 L490.192 162.229 L485.932 162.229 L485.932 158.34 Q484.59 160.655 482.53 161.789 Q480.493 162.9 477.622 162.9 Q472.923 162.9 469.96 159.15 Q467.02 155.4 467.02 149.289 Q467.02 143.178 469.96 139.428 Q472.923 135.678 477.622 135.678 Q480.493 135.678 482.53 136.812 Q484.59 137.923 485.932 140.238 M471.419 149.289 Q471.419 153.988 473.34 156.673 Q475.284 159.335 478.664 159.335 Q482.044 159.335 483.988 156.673 Q485.932 153.988 485.932 149.289 Q485.932 144.59 483.988 141.928 Q482.044 139.243 478.664 139.243 Q475.284 139.243 473.34 141.928 Q471.419 144.59 471.419 149.289 Z\" fill=\"#000000\" fill-rule=\"evenodd\" fill-opacity=\"1\" /><path clip-path=\"url(#clip700)\" d=\"M521.141 148.201 L521.141 150.284 L501.557 150.284 Q501.835 154.682 504.196 156.997 Q506.58 159.289 510.817 159.289 Q513.27 159.289 515.562 158.687 Q517.877 158.085 520.145 156.881 L520.145 160.909 Q517.854 161.881 515.446 162.391 Q513.039 162.9 510.562 162.9 Q504.358 162.9 500.724 159.289 Q497.113 155.678 497.113 149.52 Q497.113 143.155 500.539 139.428 Q503.988 135.678 509.821 135.678 Q515.053 135.678 518.085 139.057 Q521.141 142.414 521.141 148.201 M516.881 146.951 Q516.835 143.456 514.914 141.372 Q513.016 139.289 509.867 139.289 Q506.303 139.289 504.15 141.303 Q502.02 143.317 501.696 146.974 L516.881 146.951 Z\" fill=\"#000000\" fill-rule=\"evenodd\" fill-opacity=\"1\" /><path clip-path=\"url(#clip700)\" d=\"M546.789 137.298 L546.789 141.28 Q544.983 140.284 543.154 139.798 Q541.349 139.289 539.497 139.289 Q535.353 139.289 533.062 141.928 Q530.77 144.544 530.77 149.289 Q530.77 154.034 533.062 156.673 Q535.353 159.289 539.497 159.289 Q541.349 159.289 543.154 158.803 Q544.983 158.293 546.789 157.298 L546.789 161.233 Q545.006 162.067 543.085 162.483 Q541.187 162.9 539.034 162.9 Q533.177 162.9 529.728 159.219 Q526.279 155.539 526.279 149.289 Q526.279 142.946 529.752 139.312 Q533.247 135.678 539.312 135.678 Q541.279 135.678 543.154 136.095 Q545.029 136.488 546.789 137.298 Z\" fill=\"#000000\" fill-rule=\"evenodd\" fill-opacity=\"1\" /><path clip-path=\"url(#clip700)\" d=\"M564.242 139.289 Q560.816 139.289 558.826 141.974 Q556.835 144.636 556.835 149.289 Q556.835 153.942 558.802 156.627 Q560.793 159.289 564.242 159.289 Q567.645 159.289 569.636 156.604 Q571.626 153.918 571.626 149.289 Q571.626 144.682 569.636 141.997 Q567.645 139.289 564.242 139.289 M564.242 135.678 Q569.798 135.678 572.969 139.289 Q576.14 142.9 576.14 149.289 Q576.14 155.655 572.969 159.289 Q569.798 162.9 564.242 162.9 Q558.663 162.9 555.492 159.289 Q552.344 155.655 552.344 149.289 Q552.344 142.9 555.492 139.289 Q558.663 135.678 564.242 135.678 Z\" fill=\"#000000\" fill-rule=\"evenodd\" fill-opacity=\"1\" /><path clip-path=\"url(#clip700)\" d=\"M603.385 141.28 Q604.983 138.409 607.205 137.044 Q609.427 135.678 612.436 135.678 Q616.487 135.678 618.686 138.525 Q620.885 141.349 620.885 146.581 L620.885 162.229 L616.603 162.229 L616.603 146.719 Q616.603 142.993 615.284 141.187 Q613.964 139.382 611.256 139.382 Q607.946 139.382 606.024 141.581 Q604.103 143.78 604.103 147.576 L604.103 162.229 L599.821 162.229 L599.821 146.719 Q599.821 142.969 598.501 141.187 Q597.182 139.382 594.427 139.382 Q591.163 139.382 589.242 141.604 Q587.321 143.803 587.321 147.576 L587.321 162.229 L583.038 162.229 L583.038 136.303 L587.321 136.303 L587.321 140.331 Q588.779 137.946 590.816 136.812 Q592.853 135.678 595.654 135.678 Q598.478 135.678 600.446 137.113 Q602.436 138.548 603.385 141.28 Z\" fill=\"#000000\" fill-rule=\"evenodd\" fill-opacity=\"1\" /><path clip-path=\"url(#clip700)\" d=\"M633.501 158.34 L633.501 172.09 L629.219 172.09 L629.219 136.303 L633.501 136.303 L633.501 140.238 Q634.844 137.923 636.881 136.812 Q638.941 135.678 641.788 135.678 Q646.51 135.678 649.45 139.428 Q652.413 143.178 652.413 149.289 Q652.413 155.4 649.45 159.15 Q646.51 162.9 641.788 162.9 Q638.941 162.9 636.881 161.789 Q634.844 160.655 633.501 158.34 M647.992 149.289 Q647.992 144.59 646.047 141.928 Q644.126 139.243 640.746 139.243 Q637.367 139.243 635.422 141.928 Q633.501 144.59 633.501 149.289 Q633.501 153.988 635.422 156.673 Q637.367 159.335 640.746 159.335 Q644.126 159.335 646.047 156.673 Q647.992 153.988 647.992 149.289 Z\" fill=\"#000000\" fill-rule=\"evenodd\" fill-opacity=\"1\" /><path clip-path=\"url(#clip700)\" d=\"M669.519 139.289 Q666.093 139.289 664.103 141.974 Q662.112 144.636 662.112 149.289 Q662.112 153.942 664.08 156.627 Q666.07 159.289 669.519 159.289 Q672.922 159.289 674.913 156.604 Q676.904 153.918 676.904 149.289 Q676.904 144.682 674.913 141.997 Q672.922 139.289 669.519 139.289 M669.519 135.678 Q675.075 135.678 678.246 139.289 Q681.417 142.9 681.417 149.289 Q681.417 155.655 678.246 159.289 Q675.075 162.9 669.519 162.9 Q663.941 162.9 660.769 159.289 Q657.621 155.655 657.621 149.289 Q657.621 142.9 660.769 139.289 Q663.941 135.678 669.519 135.678 Z\" fill=\"#000000\" fill-rule=\"evenodd\" fill-opacity=\"1\" /><path clip-path=\"url(#clip700)\" d=\"M705.005 137.067 L705.005 141.094 Q703.2 140.169 701.255 139.706 Q699.311 139.243 697.228 139.243 Q694.056 139.243 692.459 140.215 Q690.885 141.187 690.885 143.131 Q690.885 144.613 692.019 145.469 Q693.153 146.303 696.579 147.067 L698.038 147.391 Q702.575 148.363 704.473 150.145 Q706.394 151.905 706.394 155.076 Q706.394 158.687 703.524 160.793 Q700.677 162.9 695.677 162.9 Q693.593 162.9 691.325 162.483 Q689.079 162.09 686.579 161.28 L686.579 156.881 Q688.941 158.108 691.232 158.733 Q693.524 159.335 695.769 159.335 Q698.778 159.335 700.399 158.317 Q702.019 157.275 702.019 155.4 Q702.019 153.664 700.839 152.738 Q699.681 151.812 695.723 150.956 L694.241 150.608 Q690.283 149.775 688.524 148.062 Q686.765 146.326 686.765 143.317 Q686.765 139.659 689.357 137.669 Q691.95 135.678 696.718 135.678 Q699.079 135.678 701.163 136.025 Q703.246 136.372 705.005 137.067 Z\" fill=\"#000000\" fill-rule=\"evenodd\" fill-opacity=\"1\" /><path clip-path=\"url(#clip700)\" d=\"M735.352 148.201 L735.352 150.284 L715.769 150.284 Q716.047 154.682 718.408 156.997 Q720.792 159.289 725.028 159.289 Q727.482 159.289 729.774 158.687 Q732.088 158.085 734.357 156.881 L734.357 160.909 Q732.065 161.881 729.658 162.391 Q727.251 162.9 724.774 162.9 Q718.57 162.9 714.936 159.289 Q711.325 155.678 711.325 149.52 Q711.325 143.155 714.751 139.428 Q718.2 135.678 724.033 135.678 Q729.264 135.678 732.297 139.057 Q735.352 142.414 735.352 148.201 M731.093 146.951 Q731.047 143.456 729.126 141.372 Q727.227 139.289 724.079 139.289 Q720.514 139.289 718.362 141.303 Q716.232 143.317 715.908 146.974 L731.093 146.951 Z\" fill=\"#000000\" fill-rule=\"evenodd\" fill-opacity=\"1\" /><path clip-path=\"url(#clip700)\" d=\"M759.403 140.238 L759.403 126.21 L763.662 126.21 L763.662 162.229 L759.403 162.229 L759.403 158.34 Q758.061 160.655 756 161.789 Q753.963 162.9 751.093 162.9 Q746.394 162.9 743.431 159.15 Q740.491 155.4 740.491 149.289 Q740.491 143.178 743.431 139.428 Q746.394 135.678 751.093 135.678 Q753.963 135.678 756 136.812 Q758.061 137.923 759.403 140.238 M744.889 149.289 Q744.889 153.988 746.811 156.673 Q748.755 159.335 752.135 159.335 Q755.514 159.335 757.459 156.673 Q759.403 153.988 759.403 149.289 Q759.403 144.59 757.459 141.928 Q755.514 139.243 752.135 139.243 Q748.755 139.243 746.811 141.928 Q744.889 144.59 744.889 149.289 Z\" fill=\"#000000\" fill-rule=\"evenodd\" fill-opacity=\"1\" /></svg>\n"
      ]
     },
     "metadata": {},
     "output_type": "display_data"
    }
   ],
   "source": [
    "# number of iterations\n",
    "function int_ticks(x; step=1) \n",
    "    imin = floor(Int, minimum(x))\n",
    "    imax = ceil(Int, maximum(x))\n",
    "    return range(imin, imax, step=step)\n",
    "end\n",
    "\n",
    "p3 = plot(1:nScenMax,iterTraj_s,xlabel=\"# scenarios\", ylabel=\"# iterations\",marker=:square, markercolor = :red,label=\"decomposed\",yticks=int_ticks(iterTraj_s; step=1),gridlinewidth=2)\n",
    "display(p3)"
   ]
  },
  {
   "cell_type": "code",
   "execution_count": 18,
   "id": "6eec491f",
   "metadata": {},
   "outputs": [
    {
     "data": {
      "image/svg+xml": [
       "<?xml version=\"1.0\" encoding=\"utf-8\"?>\n",
       "<svg xmlns=\"http://www.w3.org/2000/svg\" xmlns:xlink=\"http://www.w3.org/1999/xlink\" width=\"600\" height=\"400\" viewBox=\"0 0 2400 1600\">\n",
       "<defs>\n",
       "  <clipPath id=\"clip740\">\n",
       "    <rect x=\"0\" y=\"0\" width=\"2400\" height=\"1600\"/>\n",
       "  </clipPath>\n",
       "</defs>\n",
       "<path clip-path=\"url(#clip740)\" d=\"M0 1600 L2400 1600 L2400 0 L0 0  Z\" fill=\"#ffffff\" fill-rule=\"evenodd\" fill-opacity=\"1\"/>\n",
       "<defs>\n",
       "  <clipPath id=\"clip741\">\n",
       "    <rect x=\"480\" y=\"0\" width=\"1681\" height=\"1600\"/>\n",
       "  </clipPath>\n",
       "</defs>\n",
       "<path clip-path=\"url(#clip740)\" d=\"M252.764 1423.18 L2352.76 1423.18 L2352.76 47.2441 L252.764 47.2441  Z\" fill=\"#ffffff\" fill-rule=\"evenodd\" fill-opacity=\"1\"/>\n",
       "<defs>\n",
       "  <clipPath id=\"clip742\">\n",
       "    <rect x=\"252\" y=\"47\" width=\"2101\" height=\"1377\"/>\n",
       "  </clipPath>\n",
       "</defs>\n",
       "<polyline clip-path=\"url(#clip742)\" style=\"stroke:#000000; stroke-linecap:round; stroke-linejoin:round; stroke-width:8; stroke-opacity:0.1; fill:none\" points=\"585.456,1423.18 585.456,47.2441 \"/>\n",
       "<polyline clip-path=\"url(#clip742)\" style=\"stroke:#000000; stroke-linecap:round; stroke-linejoin:round; stroke-width:8; stroke-opacity:0.1; fill:none\" points=\"927.029,1423.18 927.029,47.2441 \"/>\n",
       "<polyline clip-path=\"url(#clip742)\" style=\"stroke:#000000; stroke-linecap:round; stroke-linejoin:round; stroke-width:8; stroke-opacity:0.1; fill:none\" points=\"1268.6,1423.18 1268.6,47.2441 \"/>\n",
       "<polyline clip-path=\"url(#clip742)\" style=\"stroke:#000000; stroke-linecap:round; stroke-linejoin:round; stroke-width:8; stroke-opacity:0.1; fill:none\" points=\"1610.18,1423.18 1610.18,47.2441 \"/>\n",
       "<polyline clip-path=\"url(#clip742)\" style=\"stroke:#000000; stroke-linecap:round; stroke-linejoin:round; stroke-width:8; stroke-opacity:0.1; fill:none\" points=\"1951.75,1423.18 1951.75,47.2441 \"/>\n",
       "<polyline clip-path=\"url(#clip742)\" style=\"stroke:#000000; stroke-linecap:round; stroke-linejoin:round; stroke-width:8; stroke-opacity:0.1; fill:none\" points=\"2293.32,1423.18 2293.32,47.2441 \"/>\n",
       "<polyline clip-path=\"url(#clip740)\" style=\"stroke:#000000; stroke-linecap:round; stroke-linejoin:round; stroke-width:4; stroke-opacity:1; fill:none\" points=\"252.764,1423.18 2352.76,1423.18 \"/>\n",
       "<polyline clip-path=\"url(#clip740)\" style=\"stroke:#000000; stroke-linecap:round; stroke-linejoin:round; stroke-width:4; stroke-opacity:1; fill:none\" points=\"585.456,1423.18 585.456,1404.28 \"/>\n",
       "<polyline clip-path=\"url(#clip740)\" style=\"stroke:#000000; stroke-linecap:round; stroke-linejoin:round; stroke-width:4; stroke-opacity:1; fill:none\" points=\"927.029,1423.18 927.029,1404.28 \"/>\n",
       "<polyline clip-path=\"url(#clip740)\" style=\"stroke:#000000; stroke-linecap:round; stroke-linejoin:round; stroke-width:4; stroke-opacity:1; fill:none\" points=\"1268.6,1423.18 1268.6,1404.28 \"/>\n",
       "<polyline clip-path=\"url(#clip740)\" style=\"stroke:#000000; stroke-linecap:round; stroke-linejoin:round; stroke-width:4; stroke-opacity:1; fill:none\" points=\"1610.18,1423.18 1610.18,1404.28 \"/>\n",
       "<polyline clip-path=\"url(#clip740)\" style=\"stroke:#000000; stroke-linecap:round; stroke-linejoin:round; stroke-width:4; stroke-opacity:1; fill:none\" points=\"1951.75,1423.18 1951.75,1404.28 \"/>\n",
       "<polyline clip-path=\"url(#clip740)\" style=\"stroke:#000000; stroke-linecap:round; stroke-linejoin:round; stroke-width:4; stroke-opacity:1; fill:none\" points=\"2293.32,1423.18 2293.32,1404.28 \"/>\n",
       "<path clip-path=\"url(#clip740)\" d=\"M575.734 1451.02 L594.09 1451.02 L594.09 1454.96 L580.016 1454.96 L580.016 1463.43 Q581.035 1463.08 582.053 1462.92 Q583.072 1462.73 584.09 1462.73 Q589.878 1462.73 593.257 1465.9 Q596.637 1469.08 596.637 1474.49 Q596.637 1480.07 593.165 1483.17 Q589.692 1486.25 583.373 1486.25 Q581.197 1486.25 578.928 1485.88 Q576.683 1485.51 574.276 1484.77 L574.276 1480.07 Q576.359 1481.2 578.581 1481.76 Q580.803 1482.32 583.28 1482.32 Q587.285 1482.32 589.623 1480.21 Q591.961 1478.1 591.961 1474.49 Q591.961 1470.88 589.623 1468.77 Q587.285 1466.67 583.28 1466.67 Q581.405 1466.67 579.53 1467.08 Q577.678 1467.5 575.734 1468.38 L575.734 1451.02 Z\" fill=\"#000000\" fill-rule=\"evenodd\" fill-opacity=\"1\" /><path clip-path=\"url(#clip740)\" d=\"M901.717 1481.64 L909.356 1481.64 L909.356 1455.28 L901.046 1456.95 L901.046 1452.69 L909.31 1451.02 L913.986 1451.02 L913.986 1481.64 L921.624 1481.64 L921.624 1485.58 L901.717 1485.58 L901.717 1481.64 Z\" fill=\"#000000\" fill-rule=\"evenodd\" fill-opacity=\"1\" /><path clip-path=\"url(#clip740)\" d=\"M941.069 1454.1 Q937.458 1454.1 935.629 1457.66 Q933.823 1461.2 933.823 1468.33 Q933.823 1475.44 935.629 1479.01 Q937.458 1482.55 941.069 1482.55 Q944.703 1482.55 946.508 1479.01 Q948.337 1475.44 948.337 1468.33 Q948.337 1461.2 946.508 1457.66 Q944.703 1454.1 941.069 1454.1 M941.069 1450.39 Q946.879 1450.39 949.934 1455 Q953.013 1459.58 953.013 1468.33 Q953.013 1477.06 949.934 1481.67 Q946.879 1486.25 941.069 1486.25 Q935.259 1486.25 932.18 1481.67 Q929.124 1477.06 929.124 1468.33 Q929.124 1459.58 932.18 1455 Q935.259 1450.39 941.069 1450.39 Z\" fill=\"#000000\" fill-rule=\"evenodd\" fill-opacity=\"1\" /><path clip-path=\"url(#clip740)\" d=\"M1243.79 1481.64 L1251.43 1481.64 L1251.43 1455.28 L1243.12 1456.95 L1243.12 1452.69 L1251.38 1451.02 L1256.06 1451.02 L1256.06 1481.64 L1263.7 1481.64 L1263.7 1485.58 L1243.79 1485.58 L1243.79 1481.64 Z\" fill=\"#000000\" fill-rule=\"evenodd\" fill-opacity=\"1\" /><path clip-path=\"url(#clip740)\" d=\"M1273.19 1451.02 L1291.54 1451.02 L1291.54 1454.96 L1277.47 1454.96 L1277.47 1463.43 Q1278.49 1463.08 1279.51 1462.92 Q1280.52 1462.73 1281.54 1462.73 Q1287.33 1462.73 1290.71 1465.9 Q1294.09 1469.08 1294.09 1474.49 Q1294.09 1480.07 1290.62 1483.17 Q1287.14 1486.25 1280.82 1486.25 Q1278.65 1486.25 1276.38 1485.88 Q1274.13 1485.51 1271.73 1484.77 L1271.73 1480.07 Q1273.81 1481.2 1276.03 1481.76 Q1278.26 1482.32 1280.73 1482.32 Q1284.74 1482.32 1287.07 1480.21 Q1289.41 1478.1 1289.41 1474.49 Q1289.41 1470.88 1287.07 1468.77 Q1284.74 1466.67 1280.73 1466.67 Q1278.86 1466.67 1276.98 1467.08 Q1275.13 1467.5 1273.19 1468.38 L1273.19 1451.02 Z\" fill=\"#000000\" fill-rule=\"evenodd\" fill-opacity=\"1\" /><path clip-path=\"url(#clip740)\" d=\"M1588.95 1481.64 L1605.27 1481.64 L1605.27 1485.58 L1583.32 1485.58 L1583.32 1481.64 Q1585.99 1478.89 1590.57 1474.26 Q1595.18 1469.61 1596.36 1468.27 Q1598.6 1465.74 1599.48 1464.01 Q1600.38 1462.25 1600.38 1460.56 Q1600.38 1457.8 1598.44 1456.07 Q1596.52 1454.33 1593.42 1454.33 Q1591.22 1454.33 1588.76 1455.09 Q1586.33 1455.86 1583.56 1457.41 L1583.56 1452.69 Q1586.38 1451.55 1588.83 1450.97 Q1591.29 1450.39 1593.32 1450.39 Q1598.69 1450.39 1601.89 1453.08 Q1605.08 1455.77 1605.08 1460.26 Q1605.08 1462.39 1604.27 1464.31 Q1603.49 1466.2 1601.38 1468.8 Q1600.8 1469.47 1597.7 1472.69 Q1594.6 1475.88 1588.95 1481.64 Z\" fill=\"#000000\" fill-rule=\"evenodd\" fill-opacity=\"1\" /><path clip-path=\"url(#clip740)\" d=\"M1625.08 1454.1 Q1621.47 1454.1 1619.64 1457.66 Q1617.84 1461.2 1617.84 1468.33 Q1617.84 1475.44 1619.64 1479.01 Q1621.47 1482.55 1625.08 1482.55 Q1628.72 1482.55 1630.52 1479.01 Q1632.35 1475.44 1632.35 1468.33 Q1632.35 1461.2 1630.52 1457.66 Q1628.72 1454.1 1625.08 1454.1 M1625.08 1450.39 Q1630.89 1450.39 1633.95 1455 Q1637.03 1459.58 1637.03 1468.33 Q1637.03 1477.06 1633.95 1481.67 Q1630.89 1486.25 1625.08 1486.25 Q1619.27 1486.25 1616.19 1481.67 Q1613.14 1477.06 1613.14 1468.33 Q1613.14 1459.58 1616.19 1455 Q1619.27 1450.39 1625.08 1450.39 Z\" fill=\"#000000\" fill-rule=\"evenodd\" fill-opacity=\"1\" /><path clip-path=\"url(#clip740)\" d=\"M1931.02 1481.64 L1947.34 1481.64 L1947.34 1485.58 L1925.39 1485.58 L1925.39 1481.64 Q1928.06 1478.89 1932.64 1474.26 Q1937.25 1469.61 1938.43 1468.27 Q1940.67 1465.74 1941.55 1464.01 Q1942.46 1462.25 1942.46 1460.56 Q1942.46 1457.8 1940.51 1456.07 Q1938.59 1454.33 1935.49 1454.33 Q1933.29 1454.33 1930.83 1455.09 Q1928.4 1455.86 1925.63 1457.41 L1925.63 1452.69 Q1928.45 1451.55 1930.9 1450.97 Q1933.36 1450.39 1935.39 1450.39 Q1940.77 1450.39 1943.96 1453.08 Q1947.15 1455.77 1947.15 1460.26 Q1947.15 1462.39 1946.34 1464.31 Q1945.56 1466.2 1943.45 1468.8 Q1942.87 1469.47 1939.77 1472.69 Q1936.67 1475.88 1931.02 1481.64 Z\" fill=\"#000000\" fill-rule=\"evenodd\" fill-opacity=\"1\" /><path clip-path=\"url(#clip740)\" d=\"M1957.2 1451.02 L1975.56 1451.02 L1975.56 1454.96 L1961.48 1454.96 L1961.48 1463.43 Q1962.5 1463.08 1963.52 1462.92 Q1964.54 1462.73 1965.56 1462.73 Q1971.34 1462.73 1974.72 1465.9 Q1978.1 1469.08 1978.1 1474.49 Q1978.1 1480.07 1974.63 1483.17 Q1971.16 1486.25 1964.84 1486.25 Q1962.66 1486.25 1960.39 1485.88 Q1958.15 1485.51 1955.74 1484.77 L1955.74 1480.07 Q1957.83 1481.2 1960.05 1481.76 Q1962.27 1482.32 1964.75 1482.32 Q1968.75 1482.32 1971.09 1480.21 Q1973.43 1478.1 1973.43 1474.49 Q1973.43 1470.88 1971.09 1468.77 Q1968.75 1466.67 1964.75 1466.67 Q1962.87 1466.67 1961 1467.08 Q1959.14 1467.5 1957.2 1468.38 L1957.2 1451.02 Z\" fill=\"#000000\" fill-rule=\"evenodd\" fill-opacity=\"1\" /><path clip-path=\"url(#clip740)\" d=\"M2282.16 1466.95 Q2285.52 1467.66 2287.4 1469.93 Q2289.29 1472.2 2289.29 1475.53 Q2289.29 1480.65 2285.78 1483.45 Q2282.26 1486.25 2275.78 1486.25 Q2273.6 1486.25 2271.29 1485.81 Q2268.99 1485.39 2266.54 1484.54 L2266.54 1480.02 Q2268.48 1481.16 2270.8 1481.74 Q2273.11 1482.32 2275.64 1482.32 Q2280.04 1482.32 2282.33 1480.58 Q2284.64 1478.84 2284.64 1475.53 Q2284.64 1472.48 2282.49 1470.77 Q2280.36 1469.03 2276.54 1469.03 L2272.51 1469.03 L2272.51 1465.19 L2276.73 1465.19 Q2280.17 1465.19 2282 1463.82 Q2283.83 1462.43 2283.83 1459.84 Q2283.83 1457.18 2281.93 1455.77 Q2280.06 1454.33 2276.54 1454.33 Q2274.62 1454.33 2272.42 1454.75 Q2270.22 1455.16 2267.58 1456.04 L2267.58 1451.88 Q2270.24 1451.14 2272.56 1450.77 Q2274.9 1450.39 2276.96 1450.39 Q2282.28 1450.39 2285.38 1452.83 Q2288.48 1455.23 2288.48 1459.35 Q2288.48 1462.22 2286.84 1464.21 Q2285.2 1466.18 2282.16 1466.95 Z\" fill=\"#000000\" fill-rule=\"evenodd\" fill-opacity=\"1\" /><path clip-path=\"url(#clip740)\" d=\"M2308.16 1454.1 Q2304.55 1454.1 2302.72 1457.66 Q2300.91 1461.2 2300.91 1468.33 Q2300.91 1475.44 2302.72 1479.01 Q2304.55 1482.55 2308.16 1482.55 Q2311.79 1482.55 2313.6 1479.01 Q2315.43 1475.44 2315.43 1468.33 Q2315.43 1461.2 2313.6 1457.66 Q2311.79 1454.1 2308.16 1454.1 M2308.16 1450.39 Q2313.97 1450.39 2317.03 1455 Q2320.1 1459.58 2320.1 1468.33 Q2320.1 1477.06 2317.03 1481.67 Q2313.97 1486.25 2308.16 1486.25 Q2302.35 1486.25 2299.27 1481.67 Q2296.22 1477.06 2296.22 1468.33 Q2296.22 1459.58 2299.27 1455 Q2302.35 1450.39 2308.16 1450.39 Z\" fill=\"#000000\" fill-rule=\"evenodd\" fill-opacity=\"1\" /><path clip-path=\"url(#clip740)\" d=\"M1142.54 1539.37 L1133.27 1539.37 L1130.6 1550 L1139.93 1550 L1142.54 1539.37 M1137.76 1521.26 L1134.45 1534.46 L1143.74 1534.46 L1147.09 1521.26 L1152.18 1521.26 L1148.9 1534.46 L1158.83 1534.46 L1158.83 1539.37 L1147.66 1539.37 L1145.05 1550 L1155.17 1550 L1155.17 1554.87 L1143.81 1554.87 L1140.5 1568.04 L1135.41 1568.04 L1138.68 1554.87 L1129.36 1554.87 L1126.08 1568.04 L1120.96 1568.04 L1124.27 1554.87 L1114.24 1554.87 L1114.24 1550 L1125.44 1550 L1128.12 1539.37 L1117.87 1539.37 L1117.87 1534.46 L1129.36 1534.46 L1132.6 1521.26 L1137.76 1521.26 Z\" fill=\"#000000\" fill-rule=\"evenodd\" fill-opacity=\"1\" /><path clip-path=\"url(#clip740)\" d=\"M1213.42 1533.45 L1213.42 1538.98 Q1210.93 1537.71 1208.26 1537.07 Q1205.59 1536.44 1202.72 1536.44 Q1198.36 1536.44 1196.17 1537.77 Q1194 1539.11 1194 1541.79 Q1194 1543.82 1195.56 1545 Q1197.12 1546.15 1201.83 1547.2 L1203.84 1547.64 Q1210.08 1548.98 1212.69 1551.43 Q1215.33 1553.85 1215.33 1558.21 Q1215.33 1563.17 1211.38 1566.07 Q1207.47 1568.97 1200.59 1568.97 Q1197.73 1568.97 1194.61 1568.39 Q1191.52 1567.85 1188.08 1566.74 L1188.08 1560.69 Q1191.33 1562.38 1194.48 1563.24 Q1197.63 1564.07 1200.72 1564.07 Q1204.86 1564.07 1207.08 1562.66 Q1209.31 1561.23 1209.31 1558.65 Q1209.31 1556.27 1207.69 1554.99 Q1206.1 1553.72 1200.65 1552.54 L1198.62 1552.07 Q1193.17 1550.92 1190.76 1548.56 Q1188.34 1546.18 1188.34 1542.04 Q1188.34 1537.01 1191.9 1534.27 Q1195.47 1531.54 1202.02 1531.54 Q1205.27 1531.54 1208.13 1532.01 Q1211 1532.49 1213.42 1533.45 Z\" fill=\"#000000\" fill-rule=\"evenodd\" fill-opacity=\"1\" /><path clip-path=\"url(#clip740)\" d=\"M1250.31 1533.76 L1250.31 1539.24 Q1247.82 1537.87 1245.31 1537.2 Q1242.83 1536.5 1240.28 1536.5 Q1234.58 1536.5 1231.43 1540.13 Q1228.28 1543.73 1228.28 1550.25 Q1228.28 1556.78 1231.43 1560.4 Q1234.58 1564 1240.28 1564 Q1242.83 1564 1245.31 1563.33 Q1247.82 1562.63 1250.31 1561.26 L1250.31 1566.68 Q1247.86 1567.82 1245.21 1568.39 Q1242.6 1568.97 1239.64 1568.97 Q1231.59 1568.97 1226.85 1563.91 Q1222.11 1558.85 1222.11 1550.25 Q1222.11 1541.53 1226.88 1536.53 Q1231.69 1531.54 1240.03 1531.54 Q1242.73 1531.54 1245.31 1532.11 Q1247.89 1532.65 1250.31 1533.76 Z\" fill=\"#000000\" fill-rule=\"evenodd\" fill-opacity=\"1\" /><path clip-path=\"url(#clip740)\" d=\"M1290.98 1548.76 L1290.98 1551.62 L1264.06 1551.62 Q1264.44 1557.67 1267.68 1560.85 Q1270.96 1564 1276.79 1564 Q1280.16 1564 1283.31 1563.17 Q1286.5 1562.35 1289.61 1560.69 L1289.61 1566.23 Q1286.46 1567.57 1283.15 1568.27 Q1279.84 1568.97 1276.44 1568.97 Q1267.91 1568.97 1262.91 1564 Q1257.95 1559.04 1257.95 1550.57 Q1257.95 1541.82 1262.66 1536.69 Q1267.4 1531.54 1275.42 1531.54 Q1282.61 1531.54 1286.78 1536.18 Q1290.98 1540.8 1290.98 1548.76 M1285.13 1547.04 Q1285.06 1542.23 1282.42 1539.37 Q1279.81 1536.5 1275.48 1536.5 Q1270.58 1536.5 1267.62 1539.27 Q1264.69 1542.04 1264.25 1547.07 L1285.13 1547.04 Z\" fill=\"#000000\" fill-rule=\"evenodd\" fill-opacity=\"1\" /><path clip-path=\"url(#clip740)\" d=\"M1330.23 1546.53 L1330.23 1568.04 L1324.37 1568.04 L1324.37 1546.72 Q1324.37 1541.66 1322.4 1539.14 Q1320.42 1536.63 1316.48 1536.63 Q1311.74 1536.63 1309 1539.65 Q1306.26 1542.68 1306.26 1547.9 L1306.26 1568.04 L1300.37 1568.04 L1300.37 1532.4 L1306.26 1532.4 L1306.26 1537.93 Q1308.36 1534.72 1311.19 1533.13 Q1314.06 1531.54 1317.78 1531.54 Q1323.93 1531.54 1327.08 1535.36 Q1330.23 1539.14 1330.23 1546.53 Z\" fill=\"#000000\" fill-rule=\"evenodd\" fill-opacity=\"1\" /><path clip-path=\"url(#clip740)\" d=\"M1358.11 1550.12 Q1351.01 1550.12 1348.27 1551.75 Q1345.54 1553.37 1345.54 1557.29 Q1345.54 1560.4 1347.57 1562.25 Q1349.64 1564.07 1353.18 1564.07 Q1358.05 1564.07 1360.97 1560.63 Q1363.93 1557.16 1363.93 1551.43 L1363.93 1550.12 L1358.11 1550.12 M1369.79 1547.71 L1369.79 1568.04 L1363.93 1568.04 L1363.93 1562.63 Q1361.93 1565.88 1358.94 1567.44 Q1355.95 1568.97 1351.62 1568.97 Q1346.14 1568.97 1342.9 1565.91 Q1339.68 1562.82 1339.68 1557.67 Q1339.68 1551.65 1343.69 1548.6 Q1347.73 1545.54 1355.72 1545.54 L1363.93 1545.54 L1363.93 1544.97 Q1363.93 1540.93 1361.26 1538.73 Q1358.62 1536.5 1353.81 1536.5 Q1350.76 1536.5 1347.86 1537.23 Q1344.96 1537.97 1342.29 1539.43 L1342.29 1534.02 Q1345.51 1532.78 1348.53 1532.17 Q1351.55 1531.54 1354.42 1531.54 Q1362.15 1531.54 1365.97 1535.55 Q1369.79 1539.56 1369.79 1547.71 Z\" fill=\"#000000\" fill-rule=\"evenodd\" fill-opacity=\"1\" /><path clip-path=\"url(#clip740)\" d=\"M1402.51 1537.87 Q1401.52 1537.3 1400.35 1537.04 Q1399.2 1536.76 1397.8 1536.76 Q1392.83 1536.76 1390.16 1540 Q1387.52 1543.22 1387.52 1549.27 L1387.52 1568.04 L1381.63 1568.04 L1381.63 1532.4 L1387.52 1532.4 L1387.52 1537.93 Q1389.37 1534.69 1392.33 1533.13 Q1395.29 1531.54 1399.52 1531.54 Q1400.12 1531.54 1400.86 1531.63 Q1401.59 1531.7 1402.48 1531.85 L1402.51 1537.87 Z\" fill=\"#000000\" fill-rule=\"evenodd\" fill-opacity=\"1\" /><path clip-path=\"url(#clip740)\" d=\"M1408.65 1532.4 L1414.51 1532.4 L1414.51 1568.04 L1408.65 1568.04 L1408.65 1532.4 M1408.65 1518.52 L1414.51 1518.52 L1414.51 1525.93 L1408.65 1525.93 L1408.65 1518.52 Z\" fill=\"#000000\" fill-rule=\"evenodd\" fill-opacity=\"1\" /><path clip-path=\"url(#clip740)\" d=\"M1440.58 1536.5 Q1435.87 1536.5 1433.13 1540.19 Q1430.39 1543.85 1430.39 1550.25 Q1430.39 1556.65 1433.1 1560.34 Q1435.84 1564 1440.58 1564 Q1445.26 1564 1447.99 1560.31 Q1450.73 1556.62 1450.73 1550.25 Q1450.73 1543.92 1447.99 1540.23 Q1445.26 1536.5 1440.58 1536.5 M1440.58 1531.54 Q1448.22 1531.54 1452.58 1536.5 Q1456.94 1541.47 1456.94 1550.25 Q1456.94 1559 1452.58 1564 Q1448.22 1568.97 1440.58 1568.97 Q1432.91 1568.97 1428.55 1564 Q1424.22 1559 1424.22 1550.25 Q1424.22 1541.47 1428.55 1536.5 Q1432.91 1531.54 1440.58 1531.54 Z\" fill=\"#000000\" fill-rule=\"evenodd\" fill-opacity=\"1\" /><path clip-path=\"url(#clip740)\" d=\"M1489.37 1533.45 L1489.37 1538.98 Q1486.89 1537.71 1484.21 1537.07 Q1481.54 1536.44 1478.68 1536.44 Q1474.32 1536.44 1472.12 1537.77 Q1469.96 1539.11 1469.96 1541.79 Q1469.96 1543.82 1471.51 1545 Q1473.07 1546.15 1477.79 1547.2 L1479.79 1547.64 Q1486.03 1548.98 1488.64 1551.43 Q1491.28 1553.85 1491.28 1558.21 Q1491.28 1563.17 1487.33 1566.07 Q1483.42 1568.97 1476.54 1568.97 Q1473.68 1568.97 1470.56 1568.39 Q1467.47 1567.85 1464.04 1566.74 L1464.04 1560.69 Q1467.28 1562.38 1470.43 1563.24 Q1473.58 1564.07 1476.67 1564.07 Q1480.81 1564.07 1483.04 1562.66 Q1485.26 1561.23 1485.26 1558.65 Q1485.26 1556.27 1483.64 1554.99 Q1482.05 1553.72 1476.61 1552.54 L1474.57 1552.07 Q1469.13 1550.92 1466.71 1548.56 Q1464.29 1546.18 1464.29 1542.04 Q1464.29 1537.01 1467.85 1534.27 Q1471.42 1531.54 1477.98 1531.54 Q1481.22 1531.54 1484.09 1532.01 Q1486.95 1532.49 1489.37 1533.45 Z\" fill=\"#000000\" fill-rule=\"evenodd\" fill-opacity=\"1\" /><polyline clip-path=\"url(#clip742)\" style=\"stroke:#000000; stroke-linecap:round; stroke-linejoin:round; stroke-width:8; stroke-opacity:0.1; fill:none\" points=\"252.764,942.559 2352.76,942.559 \"/>\n",
       "<polyline clip-path=\"url(#clip742)\" style=\"stroke:#000000; stroke-linecap:round; stroke-linejoin:round; stroke-width:8; stroke-opacity:0.1; fill:none\" points=\"252.764,343.744 2352.76,343.744 \"/>\n",
       "<polyline clip-path=\"url(#clip740)\" style=\"stroke:#000000; stroke-linecap:round; stroke-linejoin:round; stroke-width:4; stroke-opacity:1; fill:none\" points=\"252.764,1423.18 252.764,47.2441 \"/>\n",
       "<polyline clip-path=\"url(#clip740)\" style=\"stroke:#000000; stroke-linecap:round; stroke-linejoin:round; stroke-width:4; stroke-opacity:1; fill:none\" points=\"252.764,942.559 271.662,942.559 \"/>\n",
       "<polyline clip-path=\"url(#clip740)\" style=\"stroke:#000000; stroke-linecap:round; stroke-linejoin:round; stroke-width:4; stroke-opacity:1; fill:none\" points=\"252.764,343.744 271.662,343.744 \"/>\n",
       "<path clip-path=\"url(#clip740)\" d=\"M115.195 962.351 L122.834 962.351 L122.834 935.986 L114.523 937.652 L114.523 933.393 L122.787 931.726 L127.463 931.726 L127.463 962.351 L135.102 962.351 L135.102 966.286 L115.195 966.286 L115.195 962.351 Z\" fill=\"#000000\" fill-rule=\"evenodd\" fill-opacity=\"1\" /><path clip-path=\"url(#clip740)\" d=\"M154.546 934.805 Q150.935 934.805 149.107 938.37 Q147.301 941.911 147.301 949.041 Q147.301 956.148 149.107 959.712 Q150.935 963.254 154.546 963.254 Q158.181 963.254 159.986 959.712 Q161.815 956.148 161.815 949.041 Q161.815 941.911 159.986 938.37 Q158.181 934.805 154.546 934.805 M154.546 931.101 Q160.357 931.101 163.412 935.708 Q166.491 940.291 166.491 949.041 Q166.491 957.768 163.412 962.374 Q160.357 966.958 154.546 966.958 Q148.736 966.958 145.658 962.374 Q142.602 957.768 142.602 949.041 Q142.602 940.291 145.658 935.708 Q148.736 931.101 154.546 931.101 Z\" fill=\"#000000\" fill-rule=\"evenodd\" fill-opacity=\"1\" /><path clip-path=\"url(#clip740)\" d=\"M166.491 925.203 L190.602 925.203 L190.602 928.4 L166.491 928.4 L166.491 925.203 Z\" fill=\"#000000\" fill-rule=\"evenodd\" fill-opacity=\"1\" /><path clip-path=\"url(#clip740)\" d=\"M207.398 923.322 Q204.84 923.322 203.335 925.071 Q201.849 926.82 201.849 929.867 Q201.849 932.895 203.335 934.663 Q204.84 936.412 207.398 936.412 Q209.956 936.412 211.441 934.663 Q212.946 932.895 212.946 929.867 Q212.946 926.82 211.441 925.071 Q209.956 923.322 207.398 923.322 M214.94 911.417 L214.94 914.877 Q213.51 914.2 212.043 913.843 Q210.595 913.485 209.166 913.485 Q205.404 913.485 203.41 916.024 Q201.436 918.564 201.153 923.698 Q202.263 922.062 203.937 921.197 Q205.611 920.313 207.623 920.313 Q211.855 920.313 214.3 922.889 Q216.764 925.447 216.764 929.867 Q216.764 934.193 214.206 936.807 Q211.648 939.421 207.398 939.421 Q202.526 939.421 199.95 935.697 Q197.373 931.955 197.373 924.864 Q197.373 918.206 200.533 914.257 Q203.693 910.288 209.015 910.288 Q210.445 910.288 211.893 910.57 Q213.36 910.852 214.94 911.417 Z\" fill=\"#000000\" fill-rule=\"evenodd\" fill-opacity=\"1\" /><path clip-path=\"url(#clip740)\" d=\"M114.931 363.536 L122.57 363.536 L122.57 337.171 L114.26 338.837 L114.26 334.578 L122.524 332.911 L127.2 332.911 L127.2 363.536 L134.839 363.536 L134.839 367.471 L114.931 367.471 L114.931 363.536 Z\" fill=\"#000000\" fill-rule=\"evenodd\" fill-opacity=\"1\" /><path clip-path=\"url(#clip740)\" d=\"M154.283 335.99 Q150.672 335.99 148.843 339.555 Q147.038 343.096 147.038 350.226 Q147.038 357.332 148.843 360.897 Q150.672 364.439 154.283 364.439 Q157.917 364.439 159.723 360.897 Q161.552 357.332 161.552 350.226 Q161.552 343.096 159.723 339.555 Q157.917 335.99 154.283 335.99 M154.283 332.286 Q160.093 332.286 163.149 336.893 Q166.227 341.476 166.227 350.226 Q166.227 358.953 163.149 363.559 Q160.093 368.143 154.283 368.143 Q148.473 368.143 145.394 363.559 Q142.339 358.953 142.339 350.226 Q142.339 341.476 145.394 336.893 Q148.473 332.286 154.283 332.286 Z\" fill=\"#000000\" fill-rule=\"evenodd\" fill-opacity=\"1\" /><path clip-path=\"url(#clip740)\" d=\"M166.227 326.388 L190.339 326.388 L190.339 329.585 L166.227 329.585 L166.227 326.388 Z\" fill=\"#000000\" fill-rule=\"evenodd\" fill-opacity=\"1\" /><path clip-path=\"url(#clip740)\" d=\"M208.978 315.291 L199.386 330.281 L208.978 330.281 L208.978 315.291 M207.981 311.981 L212.758 311.981 L212.758 330.281 L216.764 330.281 L216.764 333.441 L212.758 333.441 L212.758 340.061 L208.978 340.061 L208.978 333.441 L196.301 333.441 L196.301 329.773 L207.981 311.981 Z\" fill=\"#000000\" fill-rule=\"evenodd\" fill-opacity=\"1\" /><path clip-path=\"url(#clip740)\" d=\"M32.4621 849.015 Q32.4621 853.726 36.1542 856.463 Q39.8145 859.2 46.212 859.2 Q52.6095 859.2 56.3017 856.495 Q59.9619 853.757 59.9619 849.015 Q59.9619 844.336 56.2698 841.599 Q52.5777 838.862 46.212 838.862 Q39.8781 838.862 36.186 841.599 Q32.4621 844.336 32.4621 849.015 M27.4968 849.015 Q27.4968 841.376 32.4621 837.016 Q37.4273 832.655 46.212 832.655 Q54.9649 832.655 59.9619 837.016 Q64.9272 841.376 64.9272 849.015 Q64.9272 856.686 59.9619 861.046 Q54.9649 865.375 46.212 865.375 Q37.4273 865.375 32.4621 861.046 Q27.4968 856.686 27.4968 849.015 Z\" fill=\"#000000\" fill-rule=\"evenodd\" fill-opacity=\"1\" /><path clip-path=\"url(#clip740)\" d=\"M58.657 817.282 L77.5631 817.282 L77.5631 823.17 L28.3562 823.17 L28.3562 817.282 L33.7671 817.282 Q30.5842 815.436 29.0564 812.635 Q27.4968 809.802 27.4968 805.887 Q27.4968 799.394 32.6531 795.352 Q37.8093 791.278 46.212 791.278 Q54.6147 791.278 59.771 795.352 Q64.9272 799.394 64.9272 805.887 Q64.9272 809.802 63.3994 812.635 Q61.8398 815.436 58.657 817.282 M46.212 797.357 Q39.7508 797.357 36.0905 800.031 Q32.3984 802.673 32.3984 807.32 Q32.3984 811.966 36.0905 814.64 Q39.7508 817.282 46.212 817.282 Q52.6732 817.282 56.3653 814.64 Q60.0256 811.966 60.0256 807.32 Q60.0256 802.673 56.3653 800.031 Q52.6732 797.357 46.212 797.357 Z\" fill=\"#000000\" fill-rule=\"evenodd\" fill-opacity=\"1\" /><path clip-path=\"url(#clip740)\" d=\"M18.2347 775.777 L28.3562 775.777 L28.3562 763.714 L32.9077 763.714 L32.9077 775.777 L52.2594 775.777 Q56.6199 775.777 57.8613 774.6 Q59.1026 773.39 59.1026 769.73 L59.1026 763.714 L64.0042 763.714 L64.0042 769.73 Q64.0042 776.509 61.4897 779.088 Q58.9434 781.666 52.2594 781.666 L32.9077 781.666 L32.9077 785.963 L28.3562 785.963 L28.3562 781.666 L18.2347 781.666 L18.2347 775.777 Z\" fill=\"#000000\" fill-rule=\"evenodd\" fill-opacity=\"1\" /><path clip-path=\"url(#clip740)\" d=\"M45.7664 711.834 Q39.4007 711.834 35.8996 714.476 Q32.3984 717.086 32.3984 721.828 Q32.3984 726.539 35.8996 729.18 Q39.4007 731.79 45.7664 731.79 Q52.1003 731.79 55.6014 729.18 Q59.1026 726.539 59.1026 721.828 Q59.1026 717.086 55.6014 714.476 Q52.1003 711.834 45.7664 711.834 M59.58 705.977 Q68.683 705.977 73.1071 710.02 Q77.5631 714.062 77.5631 722.401 Q77.5631 725.488 77.0857 728.226 Q76.6401 730.963 75.6852 733.541 L69.9879 733.541 Q71.3884 730.963 72.0568 728.448 Q72.7252 725.934 72.7252 723.324 Q72.7252 717.563 69.7015 714.698 Q66.7096 711.834 60.6303 711.834 L57.7339 711.834 Q60.885 713.648 62.4446 716.481 Q64.0042 719.314 64.0042 723.26 Q64.0042 729.817 59.0071 733.827 Q54.01 737.838 45.7664 737.838 Q37.491 737.838 32.4939 733.827 Q27.4968 729.817 27.4968 723.26 Q27.4968 719.314 29.0564 716.481 Q30.616 713.648 33.7671 711.834 L28.3562 711.834 L28.3562 705.977 L59.58 705.977 Z\" fill=\"#000000\" fill-rule=\"evenodd\" fill-opacity=\"1\" /><path clip-path=\"url(#clip740)\" d=\"M46.0847 677.714 Q46.0847 684.811 47.7079 687.549 Q49.3312 690.286 53.2461 690.286 Q56.3653 690.286 58.2114 688.249 Q60.0256 686.18 60.0256 682.647 Q60.0256 677.777 56.5881 674.849 Q53.1188 671.889 47.3897 671.889 L46.0847 671.889 L46.0847 677.714 M43.6657 666.033 L64.0042 666.033 L64.0042 671.889 L58.5933 671.889 Q61.8398 673.894 63.3994 676.886 Q64.9272 679.878 64.9272 684.207 Q64.9272 689.681 61.8716 692.928 Q58.7843 696.142 53.6281 696.142 Q47.6125 696.142 44.5569 692.132 Q41.5014 688.09 41.5014 680.101 L41.5014 671.889 L40.9285 671.889 Q36.8862 671.889 34.6901 674.563 Q32.4621 677.204 32.4621 682.011 Q32.4621 685.066 33.1941 687.963 Q33.9262 690.859 35.3903 693.533 L29.9795 693.533 Q28.7381 690.318 28.1334 687.294 Q27.4968 684.27 27.4968 681.406 Q27.4968 673.671 31.5072 669.852 Q35.5176 666.033 43.6657 666.033 Z\" fill=\"#000000\" fill-rule=\"evenodd\" fill-opacity=\"1\" /><path clip-path=\"url(#clip740)\" d=\"M58.657 648.304 L77.5631 648.304 L77.5631 654.192 L28.3562 654.192 L28.3562 648.304 L33.7671 648.304 Q30.5842 646.458 29.0564 643.657 Q27.4968 640.824 27.4968 636.91 Q27.4968 630.417 32.6531 626.374 Q37.8093 622.3 46.212 622.3 Q54.6147 622.3 59.771 626.374 Q64.9272 630.417 64.9272 636.91 Q64.9272 640.824 63.3994 643.657 Q61.8398 646.458 58.657 648.304 M46.212 628.379 Q39.7508 628.379 36.0905 631.053 Q32.3984 633.695 32.3984 638.342 Q32.3984 642.989 36.0905 645.662 Q39.7508 648.304 46.212 648.304 Q52.6732 648.304 56.3653 645.662 Q60.0256 642.989 60.0256 638.342 Q60.0256 633.695 56.3653 631.053 Q52.6732 628.379 46.212 628.379 Z\" fill=\"#000000\" fill-rule=\"evenodd\" fill-opacity=\"1\" /><path clip-path=\"url(#clip740)\" d=\"M55.9197 611.765 L55.9197 605.049 L64.0042 605.049 L64.0042 611.765 L55.9197 611.765 Z\" fill=\"#000000\" fill-rule=\"evenodd\" fill-opacity=\"1\" /><polyline clip-path=\"url(#clip742)\" style=\"stroke:#009af9; stroke-linecap:round; stroke-linejoin:round; stroke-width:4; stroke-opacity:1; fill:none\" points=\"312.198,736.079 380.512,118.296 448.827,1384.24 517.142,86.1857 585.456,1073.63 653.771,1280.74 722.086,836.404 790.4,1127.98 858.715,792.382 927.029,161.829 995.344,1188.71 1063.66,1190.94 1131.97,1035.15 1200.29,873.306 1268.6,91.0204 1336.92,932.643 1405.23,1013.28 1473.55,1100.15 1541.86,887.424 1610.18,799.534 1678.49,838.248 1746.81,1061.05 1815.12,760.549 1883.43,1068.88 1951.75,960.258 2020.06,1248.18 2088.38,1111.87 2156.69,1094.91 2225.01,1005.49 2293.32,96.8365 \"/>\n",
       "<path clip-path=\"url(#clip742)\" d=\"M296.198 720.079 L296.198 752.079 L328.198 752.079 L328.198 720.079 L296.198 720.079 Z\" fill=\"#ff0000\" fill-rule=\"evenodd\" fill-opacity=\"1\" stroke=\"#000000\" stroke-opacity=\"1\" stroke-width=\"3.2\"/>\n",
       "<path clip-path=\"url(#clip742)\" d=\"M364.512 102.296 L364.512 134.296 L396.512 134.296 L396.512 102.296 L364.512 102.296 Z\" fill=\"#ff0000\" fill-rule=\"evenodd\" fill-opacity=\"1\" stroke=\"#000000\" stroke-opacity=\"1\" stroke-width=\"3.2\"/>\n",
       "<path clip-path=\"url(#clip742)\" d=\"M432.827 1368.24 L432.827 1400.24 L464.827 1400.24 L464.827 1368.24 L432.827 1368.24 Z\" fill=\"#ff0000\" fill-rule=\"evenodd\" fill-opacity=\"1\" stroke=\"#000000\" stroke-opacity=\"1\" stroke-width=\"3.2\"/>\n",
       "<path clip-path=\"url(#clip742)\" d=\"M501.142 70.1857 L501.142 102.186 L533.142 102.186 L533.142 70.1857 L501.142 70.1857 Z\" fill=\"#ff0000\" fill-rule=\"evenodd\" fill-opacity=\"1\" stroke=\"#000000\" stroke-opacity=\"1\" stroke-width=\"3.2\"/>\n",
       "<path clip-path=\"url(#clip742)\" d=\"M569.456 1057.63 L569.456 1089.63 L601.456 1089.63 L601.456 1057.63 L569.456 1057.63 Z\" fill=\"#ff0000\" fill-rule=\"evenodd\" fill-opacity=\"1\" stroke=\"#000000\" stroke-opacity=\"1\" stroke-width=\"3.2\"/>\n",
       "<path clip-path=\"url(#clip742)\" d=\"M637.771 1264.74 L637.771 1296.74 L669.771 1296.74 L669.771 1264.74 L637.771 1264.74 Z\" fill=\"#ff0000\" fill-rule=\"evenodd\" fill-opacity=\"1\" stroke=\"#000000\" stroke-opacity=\"1\" stroke-width=\"3.2\"/>\n",
       "<path clip-path=\"url(#clip742)\" d=\"M706.086 820.404 L706.086 852.404 L738.086 852.404 L738.086 820.404 L706.086 820.404 Z\" fill=\"#ff0000\" fill-rule=\"evenodd\" fill-opacity=\"1\" stroke=\"#000000\" stroke-opacity=\"1\" stroke-width=\"3.2\"/>\n",
       "<path clip-path=\"url(#clip742)\" d=\"M774.4 1111.98 L774.4 1143.98 L806.4 1143.98 L806.4 1111.98 L774.4 1111.98 Z\" fill=\"#ff0000\" fill-rule=\"evenodd\" fill-opacity=\"1\" stroke=\"#000000\" stroke-opacity=\"1\" stroke-width=\"3.2\"/>\n",
       "<path clip-path=\"url(#clip742)\" d=\"M842.715 776.382 L842.715 808.382 L874.715 808.382 L874.715 776.382 L842.715 776.382 Z\" fill=\"#ff0000\" fill-rule=\"evenodd\" fill-opacity=\"1\" stroke=\"#000000\" stroke-opacity=\"1\" stroke-width=\"3.2\"/>\n",
       "<path clip-path=\"url(#clip742)\" d=\"M911.029 145.829 L911.029 177.829 L943.029 177.829 L943.029 145.829 L911.029 145.829 Z\" fill=\"#ff0000\" fill-rule=\"evenodd\" fill-opacity=\"1\" stroke=\"#000000\" stroke-opacity=\"1\" stroke-width=\"3.2\"/>\n",
       "<path clip-path=\"url(#clip742)\" d=\"M979.344 1172.71 L979.344 1204.71 L1011.34 1204.71 L1011.34 1172.71 L979.344 1172.71 Z\" fill=\"#ff0000\" fill-rule=\"evenodd\" fill-opacity=\"1\" stroke=\"#000000\" stroke-opacity=\"1\" stroke-width=\"3.2\"/>\n",
       "<path clip-path=\"url(#clip742)\" d=\"M1047.66 1174.94 L1047.66 1206.94 L1079.66 1206.94 L1079.66 1174.94 L1047.66 1174.94 Z\" fill=\"#ff0000\" fill-rule=\"evenodd\" fill-opacity=\"1\" stroke=\"#000000\" stroke-opacity=\"1\" stroke-width=\"3.2\"/>\n",
       "<path clip-path=\"url(#clip742)\" d=\"M1115.97 1019.15 L1115.97 1051.15 L1147.97 1051.15 L1147.97 1019.15 L1115.97 1019.15 Z\" fill=\"#ff0000\" fill-rule=\"evenodd\" fill-opacity=\"1\" stroke=\"#000000\" stroke-opacity=\"1\" stroke-width=\"3.2\"/>\n",
       "<path clip-path=\"url(#clip742)\" d=\"M1184.29 857.306 L1184.29 889.306 L1216.29 889.306 L1216.29 857.306 L1184.29 857.306 Z\" fill=\"#ff0000\" fill-rule=\"evenodd\" fill-opacity=\"1\" stroke=\"#000000\" stroke-opacity=\"1\" stroke-width=\"3.2\"/>\n",
       "<path clip-path=\"url(#clip742)\" d=\"M1252.6 75.0204 L1252.6 107.02 L1284.6 107.02 L1284.6 75.0204 L1252.6 75.0204 Z\" fill=\"#ff0000\" fill-rule=\"evenodd\" fill-opacity=\"1\" stroke=\"#000000\" stroke-opacity=\"1\" stroke-width=\"3.2\"/>\n",
       "<path clip-path=\"url(#clip742)\" d=\"M1320.92 916.643 L1320.92 948.643 L1352.92 948.643 L1352.92 916.643 L1320.92 916.643 Z\" fill=\"#ff0000\" fill-rule=\"evenodd\" fill-opacity=\"1\" stroke=\"#000000\" stroke-opacity=\"1\" stroke-width=\"3.2\"/>\n",
       "<path clip-path=\"url(#clip742)\" d=\"M1389.23 997.279 L1389.23 1029.28 L1421.23 1029.28 L1421.23 997.279 L1389.23 997.279 Z\" fill=\"#ff0000\" fill-rule=\"evenodd\" fill-opacity=\"1\" stroke=\"#000000\" stroke-opacity=\"1\" stroke-width=\"3.2\"/>\n",
       "<path clip-path=\"url(#clip742)\" d=\"M1457.55 1084.15 L1457.55 1116.15 L1489.55 1116.15 L1489.55 1084.15 L1457.55 1084.15 Z\" fill=\"#ff0000\" fill-rule=\"evenodd\" fill-opacity=\"1\" stroke=\"#000000\" stroke-opacity=\"1\" stroke-width=\"3.2\"/>\n",
       "<path clip-path=\"url(#clip742)\" d=\"M1525.86 871.424 L1525.86 903.424 L1557.86 903.424 L1557.86 871.424 L1525.86 871.424 Z\" fill=\"#ff0000\" fill-rule=\"evenodd\" fill-opacity=\"1\" stroke=\"#000000\" stroke-opacity=\"1\" stroke-width=\"3.2\"/>\n",
       "<path clip-path=\"url(#clip742)\" d=\"M1594.18 783.534 L1594.18 815.534 L1626.18 815.534 L1626.18 783.534 L1594.18 783.534 Z\" fill=\"#ff0000\" fill-rule=\"evenodd\" fill-opacity=\"1\" stroke=\"#000000\" stroke-opacity=\"1\" stroke-width=\"3.2\"/>\n",
       "<path clip-path=\"url(#clip742)\" d=\"M1662.49 822.248 L1662.49 854.248 L1694.49 854.248 L1694.49 822.248 L1662.49 822.248 Z\" fill=\"#ff0000\" fill-rule=\"evenodd\" fill-opacity=\"1\" stroke=\"#000000\" stroke-opacity=\"1\" stroke-width=\"3.2\"/>\n",
       "<path clip-path=\"url(#clip742)\" d=\"M1730.81 1045.05 L1730.81 1077.05 L1762.81 1077.05 L1762.81 1045.05 L1730.81 1045.05 Z\" fill=\"#ff0000\" fill-rule=\"evenodd\" fill-opacity=\"1\" stroke=\"#000000\" stroke-opacity=\"1\" stroke-width=\"3.2\"/>\n",
       "<path clip-path=\"url(#clip742)\" d=\"M1799.12 744.549 L1799.12 776.549 L1831.12 776.549 L1831.12 744.549 L1799.12 744.549 Z\" fill=\"#ff0000\" fill-rule=\"evenodd\" fill-opacity=\"1\" stroke=\"#000000\" stroke-opacity=\"1\" stroke-width=\"3.2\"/>\n",
       "<path clip-path=\"url(#clip742)\" d=\"M1867.43 1052.88 L1867.43 1084.88 L1899.43 1084.88 L1899.43 1052.88 L1867.43 1052.88 Z\" fill=\"#ff0000\" fill-rule=\"evenodd\" fill-opacity=\"1\" stroke=\"#000000\" stroke-opacity=\"1\" stroke-width=\"3.2\"/>\n",
       "<path clip-path=\"url(#clip742)\" d=\"M1935.75 944.258 L1935.75 976.258 L1967.75 976.258 L1967.75 944.258 L1935.75 944.258 Z\" fill=\"#ff0000\" fill-rule=\"evenodd\" fill-opacity=\"1\" stroke=\"#000000\" stroke-opacity=\"1\" stroke-width=\"3.2\"/>\n",
       "<path clip-path=\"url(#clip742)\" d=\"M2004.06 1232.18 L2004.06 1264.18 L2036.06 1264.18 L2036.06 1232.18 L2004.06 1232.18 Z\" fill=\"#ff0000\" fill-rule=\"evenodd\" fill-opacity=\"1\" stroke=\"#000000\" stroke-opacity=\"1\" stroke-width=\"3.2\"/>\n",
       "<path clip-path=\"url(#clip742)\" d=\"M2072.38 1095.87 L2072.38 1127.87 L2104.38 1127.87 L2104.38 1095.87 L2072.38 1095.87 Z\" fill=\"#ff0000\" fill-rule=\"evenodd\" fill-opacity=\"1\" stroke=\"#000000\" stroke-opacity=\"1\" stroke-width=\"3.2\"/>\n",
       "<path clip-path=\"url(#clip742)\" d=\"M2140.69 1078.91 L2140.69 1110.91 L2172.69 1110.91 L2172.69 1078.91 L2140.69 1078.91 Z\" fill=\"#ff0000\" fill-rule=\"evenodd\" fill-opacity=\"1\" stroke=\"#000000\" stroke-opacity=\"1\" stroke-width=\"3.2\"/>\n",
       "<path clip-path=\"url(#clip742)\" d=\"M2209.01 989.49 L2209.01 1021.49 L2241.01 1021.49 L2241.01 989.49 L2209.01 989.49 Z\" fill=\"#ff0000\" fill-rule=\"evenodd\" fill-opacity=\"1\" stroke=\"#000000\" stroke-opacity=\"1\" stroke-width=\"3.2\"/>\n",
       "<path clip-path=\"url(#clip742)\" d=\"M2277.32 80.8365 L2277.32 112.837 L2309.32 112.837 L2309.32 80.8365 L2277.32 80.8365 Z\" fill=\"#ff0000\" fill-rule=\"evenodd\" fill-opacity=\"1\" stroke=\"#000000\" stroke-opacity=\"1\" stroke-width=\"3.2\"/>\n",
       "<path clip-path=\"url(#clip740)\" d=\"M1776.12 196.789 L2282.76 196.789 L2282.76 93.1086 L1776.12 93.1086  Z\" fill=\"#ffffff\" fill-rule=\"evenodd\" fill-opacity=\"1\"/>\n",
       "<polyline clip-path=\"url(#clip740)\" style=\"stroke:#000000; stroke-linecap:round; stroke-linejoin:round; stroke-width:4; stroke-opacity:1; fill:none\" points=\"1776.12,196.789 2282.76,196.789 2282.76,93.1086 1776.12,93.1086 1776.12,196.789 \"/>\n",
       "<polyline clip-path=\"url(#clip740)\" style=\"stroke:#009af9; stroke-linecap:round; stroke-linejoin:round; stroke-width:4; stroke-opacity:1; fill:none\" points=\"1799.45,144.949 1939.45,144.949 \"/>\n",
       "<path clip-path=\"url(#clip740)\" d=\"M1847.84 123.344 L1847.84 166.553 L1891.05 166.553 L1891.05 123.344 L1847.84 123.344 Z\" fill=\"#ff0000\" fill-rule=\"evenodd\" fill-opacity=\"1\" stroke=\"#000000\" stroke-opacity=\"1\" stroke-width=\"5.12\"/>\n",
       "<path clip-path=\"url(#clip740)\" d=\"M1981.69 140.238 L1981.69 126.21 L1985.95 126.21 L1985.95 162.229 L1981.69 162.229 L1981.69 158.34 Q1980.35 160.655 1978.29 161.789 Q1976.25 162.9 1973.38 162.9 Q1968.68 162.9 1965.72 159.15 Q1962.78 155.4 1962.78 149.289 Q1962.78 143.178 1965.72 139.428 Q1968.68 135.678 1973.38 135.678 Q1976.25 135.678 1978.29 136.812 Q1980.35 137.923 1981.69 140.238 M1967.18 149.289 Q1967.18 153.988 1969.1 156.673 Q1971.04 159.335 1974.42 159.335 Q1977.8 159.335 1979.75 156.673 Q1981.69 153.988 1981.69 149.289 Q1981.69 144.59 1979.75 141.928 Q1977.8 139.243 1974.42 139.243 Q1971.04 139.243 1969.1 141.928 Q1967.18 144.59 1967.18 149.289 Z\" fill=\"#000000\" fill-rule=\"evenodd\" fill-opacity=\"1\" /><path clip-path=\"url(#clip740)\" d=\"M2016.9 148.201 L2016.9 150.284 L1997.32 150.284 Q1997.6 154.682 1999.96 156.997 Q2002.34 159.289 2006.58 159.289 Q2009.03 159.289 2011.32 158.687 Q2013.64 158.085 2015.91 156.881 L2015.91 160.909 Q2013.61 161.881 2011.21 162.391 Q2008.8 162.9 2006.32 162.9 Q2000.12 162.9 1996.48 159.289 Q1992.87 155.678 1992.87 149.52 Q1992.87 143.155 1996.3 139.428 Q1999.75 135.678 2005.58 135.678 Q2010.81 135.678 2013.85 139.057 Q2016.9 142.414 2016.9 148.201 M2012.64 146.951 Q2012.6 143.456 2010.67 141.372 Q2008.78 139.289 2005.63 139.289 Q2002.06 139.289 1999.91 141.303 Q1997.78 143.317 1997.46 146.974 L2012.64 146.951 Z\" fill=\"#000000\" fill-rule=\"evenodd\" fill-opacity=\"1\" /><path clip-path=\"url(#clip740)\" d=\"M2042.55 137.298 L2042.55 141.28 Q2040.74 140.284 2038.91 139.798 Q2037.11 139.289 2035.26 139.289 Q2031.11 139.289 2028.82 141.928 Q2026.53 144.544 2026.53 149.289 Q2026.53 154.034 2028.82 156.673 Q2031.11 159.289 2035.26 159.289 Q2037.11 159.289 2038.91 158.803 Q2040.74 158.293 2042.55 157.298 L2042.55 161.233 Q2040.77 162.067 2038.85 162.483 Q2036.95 162.9 2034.79 162.9 Q2028.94 162.9 2025.49 159.219 Q2022.04 155.539 2022.04 149.289 Q2022.04 142.946 2025.51 139.312 Q2029.01 135.678 2035.07 135.678 Q2037.04 135.678 2038.91 136.095 Q2040.79 136.488 2042.55 137.298 Z\" fill=\"#000000\" fill-rule=\"evenodd\" fill-opacity=\"1\" /><path clip-path=\"url(#clip740)\" d=\"M2060 139.289 Q2056.58 139.289 2054.59 141.974 Q2052.6 144.636 2052.6 149.289 Q2052.6 153.942 2054.56 156.627 Q2056.55 159.289 2060 159.289 Q2063.41 159.289 2065.4 156.604 Q2067.39 153.918 2067.39 149.289 Q2067.39 144.682 2065.4 141.997 Q2063.41 139.289 2060 139.289 M2060 135.678 Q2065.56 135.678 2068.73 139.289 Q2071.9 142.9 2071.9 149.289 Q2071.9 155.655 2068.73 159.289 Q2065.56 162.9 2060 162.9 Q2054.42 162.9 2051.25 159.289 Q2048.1 155.655 2048.1 149.289 Q2048.1 142.9 2051.25 139.289 Q2054.42 135.678 2060 135.678 Z\" fill=\"#000000\" fill-rule=\"evenodd\" fill-opacity=\"1\" /><path clip-path=\"url(#clip740)\" d=\"M2099.15 141.28 Q2100.74 138.409 2102.97 137.044 Q2105.19 135.678 2108.2 135.678 Q2112.25 135.678 2114.45 138.525 Q2116.65 141.349 2116.65 146.581 L2116.65 162.229 L2112.36 162.229 L2112.36 146.719 Q2112.36 142.993 2111.04 141.187 Q2109.72 139.382 2107.02 139.382 Q2103.71 139.382 2101.78 141.581 Q2099.86 143.78 2099.86 147.576 L2099.86 162.229 L2095.58 162.229 L2095.58 146.719 Q2095.58 142.969 2094.26 141.187 Q2092.94 139.382 2090.19 139.382 Q2086.92 139.382 2085 141.604 Q2083.08 143.803 2083.08 147.576 L2083.08 162.229 L2078.8 162.229 L2078.8 136.303 L2083.08 136.303 L2083.08 140.331 Q2084.54 137.946 2086.58 136.812 Q2088.61 135.678 2091.41 135.678 Q2094.24 135.678 2096.21 137.113 Q2098.2 138.548 2099.15 141.28 Z\" fill=\"#000000\" fill-rule=\"evenodd\" fill-opacity=\"1\" /><path clip-path=\"url(#clip740)\" d=\"M2129.26 158.34 L2129.26 172.09 L2124.98 172.09 L2124.98 136.303 L2129.26 136.303 L2129.26 140.238 Q2130.6 137.923 2132.64 136.812 Q2134.7 135.678 2137.55 135.678 Q2142.27 135.678 2145.21 139.428 Q2148.17 143.178 2148.17 149.289 Q2148.17 155.4 2145.21 159.15 Q2142.27 162.9 2137.55 162.9 Q2134.7 162.9 2132.64 161.789 Q2130.6 160.655 2129.26 158.34 M2143.75 149.289 Q2143.75 144.59 2141.81 141.928 Q2139.89 139.243 2136.51 139.243 Q2133.13 139.243 2131.18 141.928 Q2129.26 144.59 2129.26 149.289 Q2129.26 153.988 2131.18 156.673 Q2133.13 159.335 2136.51 159.335 Q2139.89 159.335 2141.81 156.673 Q2143.75 153.988 2143.75 149.289 Z\" fill=\"#000000\" fill-rule=\"evenodd\" fill-opacity=\"1\" /><path clip-path=\"url(#clip740)\" d=\"M2165.28 139.289 Q2161.85 139.289 2159.86 141.974 Q2157.87 144.636 2157.87 149.289 Q2157.87 153.942 2159.84 156.627 Q2161.83 159.289 2165.28 159.289 Q2168.68 159.289 2170.67 156.604 Q2172.66 153.918 2172.66 149.289 Q2172.66 144.682 2170.67 141.997 Q2168.68 139.289 2165.28 139.289 M2165.28 135.678 Q2170.84 135.678 2174.01 139.289 Q2177.18 142.9 2177.18 149.289 Q2177.18 155.655 2174.01 159.289 Q2170.84 162.9 2165.28 162.9 Q2159.7 162.9 2156.53 159.289 Q2153.38 155.655 2153.38 149.289 Q2153.38 142.9 2156.53 139.289 Q2159.7 135.678 2165.28 135.678 Z\" fill=\"#000000\" fill-rule=\"evenodd\" fill-opacity=\"1\" /><path clip-path=\"url(#clip740)\" d=\"M2200.77 137.067 L2200.77 141.094 Q2198.96 140.169 2197.02 139.706 Q2195.07 139.243 2192.99 139.243 Q2189.82 139.243 2188.22 140.215 Q2186.65 141.187 2186.65 143.131 Q2186.65 144.613 2187.78 145.469 Q2188.91 146.303 2192.34 147.067 L2193.8 147.391 Q2198.34 148.363 2200.23 150.145 Q2202.15 151.905 2202.15 155.076 Q2202.15 158.687 2199.28 160.793 Q2196.44 162.9 2191.44 162.9 Q2189.35 162.9 2187.09 162.483 Q2184.84 162.09 2182.34 161.28 L2182.34 156.881 Q2184.7 158.108 2186.99 158.733 Q2189.28 159.335 2191.53 159.335 Q2194.54 159.335 2196.16 158.317 Q2197.78 157.275 2197.78 155.4 Q2197.78 153.664 2196.6 152.738 Q2195.44 151.812 2191.48 150.956 L2190 150.608 Q2186.04 149.775 2184.28 148.062 Q2182.53 146.326 2182.53 143.317 Q2182.53 139.659 2185.12 137.669 Q2187.71 135.678 2192.48 135.678 Q2194.84 135.678 2196.92 136.025 Q2199.01 136.372 2200.77 137.067 Z\" fill=\"#000000\" fill-rule=\"evenodd\" fill-opacity=\"1\" /><path clip-path=\"url(#clip740)\" d=\"M2231.11 148.201 L2231.11 150.284 L2211.53 150.284 Q2211.81 154.682 2214.17 156.997 Q2216.55 159.289 2220.79 159.289 Q2223.24 159.289 2225.53 158.687 Q2227.85 158.085 2230.12 156.881 L2230.12 160.909 Q2227.83 161.881 2225.42 162.391 Q2223.01 162.9 2220.53 162.9 Q2214.33 162.9 2210.7 159.289 Q2207.09 155.678 2207.09 149.52 Q2207.09 143.155 2210.51 139.428 Q2213.96 135.678 2219.79 135.678 Q2225.02 135.678 2228.06 139.057 Q2231.11 142.414 2231.11 148.201 M2226.85 146.951 Q2226.81 143.456 2224.89 141.372 Q2222.99 139.289 2219.84 139.289 Q2216.28 139.289 2214.12 141.303 Q2211.99 143.317 2211.67 146.974 L2226.85 146.951 Z\" fill=\"#000000\" fill-rule=\"evenodd\" fill-opacity=\"1\" /><path clip-path=\"url(#clip740)\" d=\"M2255.16 140.238 L2255.16 126.21 L2259.42 126.21 L2259.42 162.229 L2255.16 162.229 L2255.16 158.34 Q2253.82 160.655 2251.76 161.789 Q2249.72 162.9 2246.85 162.9 Q2242.15 162.9 2239.19 159.15 Q2236.25 155.4 2236.25 149.289 Q2236.25 143.178 2239.19 139.428 Q2242.15 135.678 2246.85 135.678 Q2249.72 135.678 2251.76 136.812 Q2253.82 137.923 2255.16 140.238 M2240.65 149.289 Q2240.65 153.988 2242.57 156.673 Q2244.52 159.335 2247.9 159.335 Q2251.27 159.335 2253.22 156.673 Q2255.16 153.988 2255.16 149.289 Q2255.16 144.59 2253.22 141.928 Q2251.27 139.243 2247.9 139.243 Q2244.52 139.243 2242.57 141.928 Q2240.65 144.59 2240.65 149.289 Z\" fill=\"#000000\" fill-rule=\"evenodd\" fill-opacity=\"1\" /></svg>\n"
      ]
     },
     "metadata": {},
     "output_type": "display_data"
    }
   ],
   "source": [
    "# number of iterations\n",
    "p4 = plot(1:nScenMax,optGapTraj_s,yscale=:log10,xlabel=\"# scenarios\", ylabel=\"opt gap.\",marker=:square, markercolor = :red,label=\"decomposed\",gridlinewidth=2)\n",
    "display(p4)"
   ]
  },
  {
   "cell_type": "markdown",
   "id": "b10e389c",
   "metadata": {},
   "source": [
    "# Checking the performance of the methods in terms of time vs. nReac"
   ]
  },
  {
   "cell_type": "code",
   "execution_count": null,
   "id": "9a96c8bd",
   "metadata": {},
   "outputs": [
    {
     "data": {
      "text/plain": [
       "\"evaluating 1 reactors in parallel | option 3\""
      ]
     },
     "metadata": {},
     "output_type": "display_data"
    },
    {
     "data": {
      "text/plain": [
       "\">>>>>> iteration 1:O\""
      ]
     },
     "metadata": {},
     "output_type": "display_data"
    },
    {
     "data": {
      "text/plain": [
       "\">>>>>> iteration 2:O\""
      ]
     },
     "metadata": {},
     "output_type": "display_data"
    },
    {
     "data": {
      "text/plain": [
       "\">>>>>> iteration 3:O\""
      ]
     },
     "metadata": {},
     "output_type": "display_data"
    },
    {
     "data": {
      "text/plain": [
       "\">>>>>> iteration 4:O\""
      ]
     },
     "metadata": {},
     "output_type": "display_data"
    },
    {
     "data": {
      "text/plain": [
       "\">>>>>> iteration 5:O\""
      ]
     },
     "metadata": {},
     "output_type": "display_data"
    },
    {
     "data": {
      "text/plain": [
       "\">>>>>> iteration 6:O\""
      ]
     },
     "metadata": {},
     "output_type": "display_data"
    },
    {
     "data": {
      "text/plain": [
       "\">>>>>> iteration 7:O\""
      ]
     },
     "metadata": {},
     "output_type": "display_data"
    },
    {
     "data": {
      "text/plain": [
       "\">>>>>> iteration 8:O\""
      ]
     },
     "metadata": {},
     "output_type": "display_data"
    },
    {
     "data": {
      "text/plain": [
       "\">>>>>> iteration 9:O\""
      ]
     },
     "metadata": {},
     "output_type": "display_data"
    },
    {
     "data": {
      "text/plain": [
       "\">>>>>> iteration 10:O\""
      ]
     },
     "metadata": {},
     "output_type": "display_data"
    },
    {
     "data": {
      "text/plain": [
       "\">>>>>> iteration 11:O\""
      ]
     },
     "metadata": {},
     "output_type": "display_data"
    },
    {
     "data": {
      "text/plain": [
       "\">>>>>> iteration 12:O\""
      ]
     },
     "metadata": {},
     "output_type": "display_data"
    },
    {
     "data": {
      "text/plain": [
       "\">>>>>> iteration 13:O\""
      ]
     },
     "metadata": {},
     "output_type": "display_data"
    },
    {
     "data": {
      "text/plain": [
       "\"evaluating 2 reactors in parallel | option 3\""
      ]
     },
     "metadata": {},
     "output_type": "display_data"
    },
    {
     "data": {
      "text/plain": [
       "\">>>>>> iteration 1:O\""
      ]
     },
     "metadata": {},
     "output_type": "display_data"
    },
    {
     "data": {
      "text/plain": [
       "\">>>>>> iteration 2:O\""
      ]
     },
     "metadata": {},
     "output_type": "display_data"
    },
    {
     "data": {
      "text/plain": [
       "\">>>>>> iteration 3:O\""
      ]
     },
     "metadata": {},
     "output_type": "display_data"
    },
    {
     "data": {
      "text/plain": [
       "\">>>>>> iteration 4:O\""
      ]
     },
     "metadata": {},
     "output_type": "display_data"
    },
    {
     "data": {
      "text/plain": [
       "\">>>>>> iteration 5:O\""
      ]
     },
     "metadata": {},
     "output_type": "display_data"
    },
    {
     "data": {
      "text/plain": [
       "\">>>>>> iteration 6:O\""
      ]
     },
     "metadata": {},
     "output_type": "display_data"
    },
    {
     "data": {
      "text/plain": [
       "\">>>>>> iteration 7:O\""
      ]
     },
     "metadata": {},
     "output_type": "display_data"
    },
    {
     "data": {
      "text/plain": [
       "\">>>>>> iteration 8:O\""
      ]
     },
     "metadata": {},
     "output_type": "display_data"
    },
    {
     "data": {
      "text/plain": [
       "\">>>>>> iteration 9:O\""
      ]
     },
     "metadata": {},
     "output_type": "display_data"
    },
    {
     "data": {
      "text/plain": [
       "\">>>>>> iteration 10:O\""
      ]
     },
     "metadata": {},
     "output_type": "display_data"
    },
    {
     "data": {
      "text/plain": [
       "\">>>>>> iteration 11:O\""
      ]
     },
     "metadata": {},
     "output_type": "display_data"
    },
    {
     "data": {
      "text/plain": [
       "\">>>>>> iteration 12:O\""
      ]
     },
     "metadata": {},
     "output_type": "display_data"
    },
    {
     "data": {
      "text/plain": [
       "\">>>>>> iteration 13:O\""
      ]
     },
     "metadata": {},
     "output_type": "display_data"
    },
    {
     "data": {
      "text/plain": [
       "\">>>>>> iteration 14:O\""
      ]
     },
     "metadata": {},
     "output_type": "display_data"
    },
    {
     "data": {
      "text/plain": [
       "\">>>>>> iteration 15:O\""
      ]
     },
     "metadata": {},
     "output_type": "display_data"
    },
    {
     "data": {
      "text/plain": [
       "\"evaluating 3 reactors in parallel | option 3\""
      ]
     },
     "metadata": {},
     "output_type": "display_data"
    },
    {
     "data": {
      "text/plain": [
       "\">>>>>> iteration 1:O\""
      ]
     },
     "metadata": {},
     "output_type": "display_data"
    },
    {
     "data": {
      "text/plain": [
       "\">>>>>> iteration 2:O\""
      ]
     },
     "metadata": {},
     "output_type": "display_data"
    },
    {
     "data": {
      "text/plain": [
       "\">>>>>> iteration 3:O\""
      ]
     },
     "metadata": {},
     "output_type": "display_data"
    },
    {
     "data": {
      "text/plain": [
       "\">>>>>> iteration 4:O\""
      ]
     },
     "metadata": {},
     "output_type": "display_data"
    },
    {
     "data": {
      "text/plain": [
       "\">>>>>> iteration 5:O\""
      ]
     },
     "metadata": {},
     "output_type": "display_data"
    },
    {
     "data": {
      "text/plain": [
       "\">>>>>> iteration 6:O\""
      ]
     },
     "metadata": {},
     "output_type": "display_data"
    },
    {
     "data": {
      "text/plain": [
       "\">>>>>> iteration 7:O\""
      ]
     },
     "metadata": {},
     "output_type": "display_data"
    },
    {
     "data": {
      "text/plain": [
       "\">>>>>> iteration 8:O\""
      ]
     },
     "metadata": {},
     "output_type": "display_data"
    },
    {
     "data": {
      "text/plain": [
       "\">>>>>> iteration 9:O\""
      ]
     },
     "metadata": {},
     "output_type": "display_data"
    },
    {
     "data": {
      "text/plain": [
       "\">>>>>> iteration 10:O\""
      ]
     },
     "metadata": {},
     "output_type": "display_data"
    },
    {
     "data": {
      "text/plain": [
       "\">>>>>> iteration 11:O\""
      ]
     },
     "metadata": {},
     "output_type": "display_data"
    },
    {
     "data": {
      "text/plain": [
       "\">>>>>> iteration 12:O\""
      ]
     },
     "metadata": {},
     "output_type": "display_data"
    },
    {
     "data": {
      "text/plain": [
       "\">>>>>> iteration 13:O\""
      ]
     },
     "metadata": {},
     "output_type": "display_data"
    },
    {
     "data": {
      "text/plain": [
       "\">>>>>> iteration 14:O\""
      ]
     },
     "metadata": {},
     "output_type": "display_data"
    },
    {
     "data": {
      "text/plain": [
       "\">>>>>> iteration 15:O\""
      ]
     },
     "metadata": {},
     "output_type": "display_data"
    },
    {
     "data": {
      "text/plain": [
       "\"evaluating 4 reactors in parallel | option 3\""
      ]
     },
     "metadata": {},
     "output_type": "display_data"
    },
    {
     "data": {
      "text/plain": [
       "\">>>>>> iteration 1:O\""
      ]
     },
     "metadata": {},
     "output_type": "display_data"
    },
    {
     "data": {
      "text/plain": [
       "\">>>>>> iteration 2:O\""
      ]
     },
     "metadata": {},
     "output_type": "display_data"
    },
    {
     "data": {
      "text/plain": [
       "\">>>>>> iteration 3:O\""
      ]
     },
     "metadata": {},
     "output_type": "display_data"
    },
    {
     "data": {
      "text/plain": [
       "\">>>>>> iteration 4:O\""
      ]
     },
     "metadata": {},
     "output_type": "display_data"
    },
    {
     "data": {
      "text/plain": [
       "\">>>>>> iteration 5:O\""
      ]
     },
     "metadata": {},
     "output_type": "display_data"
    },
    {
     "data": {
      "text/plain": [
       "\">>>>>> iteration 6:O\""
      ]
     },
     "metadata": {},
     "output_type": "display_data"
    },
    {
     "data": {
      "text/plain": [
       "\">>>>>> iteration 7:O\""
      ]
     },
     "metadata": {},
     "output_type": "display_data"
    },
    {
     "data": {
      "text/plain": [
       "\">>>>>> iteration 8:O\""
      ]
     },
     "metadata": {},
     "output_type": "display_data"
    },
    {
     "data": {
      "text/plain": [
       "\">>>>>> iteration 9:O\""
      ]
     },
     "metadata": {},
     "output_type": "display_data"
    },
    {
     "data": {
      "text/plain": [
       "\">>>>>> iteration 10:O\""
      ]
     },
     "metadata": {},
     "output_type": "display_data"
    },
    {
     "data": {
      "text/plain": [
       "\">>>>>> iteration 11:O\""
      ]
     },
     "metadata": {},
     "output_type": "display_data"
    },
    {
     "data": {
      "text/plain": [
       "\">>>>>> iteration 12:O\""
      ]
     },
     "metadata": {},
     "output_type": "display_data"
    },
    {
     "data": {
      "text/plain": [
       "\">>>>>> iteration 13:O\""
      ]
     },
     "metadata": {},
     "output_type": "display_data"
    },
    {
     "data": {
      "text/plain": [
       "\"evaluating 5 reactors in parallel | option 3\""
      ]
     },
     "metadata": {},
     "output_type": "display_data"
    },
    {
     "data": {
      "text/plain": [
       "\">>>>>> iteration 1:O\""
      ]
     },
     "metadata": {},
     "output_type": "display_data"
    },
    {
     "data": {
      "text/plain": [
       "\">>>>>> iteration 2:O\""
      ]
     },
     "metadata": {},
     "output_type": "display_data"
    },
    {
     "data": {
      "text/plain": [
       "\">>>>>> iteration 3:O\""
      ]
     },
     "metadata": {},
     "output_type": "display_data"
    },
    {
     "data": {
      "text/plain": [
       "\">>>>>> iteration 4:O\""
      ]
     },
     "metadata": {},
     "output_type": "display_data"
    },
    {
     "data": {
      "text/plain": [
       "\">>>>>> iteration 5:O\""
      ]
     },
     "metadata": {},
     "output_type": "display_data"
    },
    {
     "data": {
      "text/plain": [
       "\">>>>>> iteration 6:O\""
      ]
     },
     "metadata": {},
     "output_type": "display_data"
    },
    {
     "data": {
      "text/plain": [
       "\">>>>>> iteration 7:O\""
      ]
     },
     "metadata": {},
     "output_type": "display_data"
    },
    {
     "data": {
      "text/plain": [
       "\">>>>>> iteration 8:O\""
      ]
     },
     "metadata": {},
     "output_type": "display_data"
    },
    {
     "data": {
      "text/plain": [
       "\">>>>>> iteration 9:O\""
      ]
     },
     "metadata": {},
     "output_type": "display_data"
    },
    {
     "data": {
      "text/plain": [
       "\"evaluating 6 reactors in parallel | option 3\""
      ]
     },
     "metadata": {},
     "output_type": "display_data"
    },
    {
     "data": {
      "text/plain": [
       "\">>>>>> iteration 1:O\""
      ]
     },
     "metadata": {},
     "output_type": "display_data"
    },
    {
     "data": {
      "text/plain": [
       "\">>>>>> iteration 2:O\""
      ]
     },
     "metadata": {},
     "output_type": "display_data"
    },
    {
     "data": {
      "text/plain": [
       "\">>>>>> iteration 3:O\""
      ]
     },
     "metadata": {},
     "output_type": "display_data"
    },
    {
     "data": {
      "text/plain": [
       "\">>>>>> iteration 4:O\""
      ]
     },
     "metadata": {},
     "output_type": "display_data"
    },
    {
     "data": {
      "text/plain": [
       "\">>>>>> iteration 5:O\""
      ]
     },
     "metadata": {},
     "output_type": "display_data"
    },
    {
     "data": {
      "text/plain": [
       "\">>>>>> iteration 6:O\""
      ]
     },
     "metadata": {},
     "output_type": "display_data"
    },
    {
     "data": {
      "text/plain": [
       "\">>>>>> iteration 7:O\""
      ]
     },
     "metadata": {},
     "output_type": "display_data"
    },
    {
     "data": {
      "text/plain": [
       "\">>>>>> iteration 8:O\""
      ]
     },
     "metadata": {},
     "output_type": "display_data"
    },
    {
     "data": {
      "text/plain": [
       "\">>>>>> iteration 9:O\""
      ]
     },
     "metadata": {},
     "output_type": "display_data"
    },
    {
     "data": {
      "text/plain": [
       "\">>>>>> iteration 10:O\""
      ]
     },
     "metadata": {},
     "output_type": "display_data"
    },
    {
     "data": {
      "text/plain": [
       "\">>>>>> iteration 11:O\""
      ]
     },
     "metadata": {},
     "output_type": "display_data"
    },
    {
     "data": {
      "text/plain": [
       "\">>>>>> iteration 12:O\""
      ]
     },
     "metadata": {},
     "output_type": "display_data"
    },
    {
     "data": {
      "text/plain": [
       "\">>>>>> iteration 13:O\""
      ]
     },
     "metadata": {},
     "output_type": "display_data"
    },
    {
     "data": {
      "text/plain": [
       "\"evaluating 7 reactors in parallel | option 3\""
      ]
     },
     "metadata": {},
     "output_type": "display_data"
    },
    {
     "data": {
      "text/plain": [
       "\">>>>>> iteration 1:O\""
      ]
     },
     "metadata": {},
     "output_type": "display_data"
    },
    {
     "data": {
      "text/plain": [
       "\">>>>>> iteration 2:O\""
      ]
     },
     "metadata": {},
     "output_type": "display_data"
    },
    {
     "data": {
      "text/plain": [
       "\">>>>>> iteration 3:O\""
      ]
     },
     "metadata": {},
     "output_type": "display_data"
    },
    {
     "data": {
      "text/plain": [
       "\">>>>>> iteration 4:O\""
      ]
     },
     "metadata": {},
     "output_type": "display_data"
    },
    {
     "data": {
      "text/plain": [
       "\">>>>>> iteration 5:O\""
      ]
     },
     "metadata": {},
     "output_type": "display_data"
    },
    {
     "data": {
      "text/plain": [
       "\">>>>>> iteration 6:O\""
      ]
     },
     "metadata": {},
     "output_type": "display_data"
    },
    {
     "data": {
      "text/plain": [
       "\">>>>>> iteration 7:O\""
      ]
     },
     "metadata": {},
     "output_type": "display_data"
    },
    {
     "data": {
      "text/plain": [
       "\">>>>>> iteration 8:O\""
      ]
     },
     "metadata": {},
     "output_type": "display_data"
    },
    {
     "data": {
      "text/plain": [
       "\">>>>>> iteration 9:O\""
      ]
     },
     "metadata": {},
     "output_type": "display_data"
    },
    {
     "data": {
      "text/plain": [
       "\">>>>>> iteration 10:O\""
      ]
     },
     "metadata": {},
     "output_type": "display_data"
    },
    {
     "data": {
      "text/plain": [
       "\">>>>>> iteration 11:O\""
      ]
     },
     "metadata": {},
     "output_type": "display_data"
    },
    {
     "data": {
      "text/plain": [
       "\">>>>>> iteration 12:O\""
      ]
     },
     "metadata": {},
     "output_type": "display_data"
    },
    {
     "data": {
      "text/plain": [
       "\">>>>>> iteration 13:O\""
      ]
     },
     "metadata": {},
     "output_type": "display_data"
    },
    {
     "data": {
      "text/plain": [
       "\">>>>>> iteration 14:O\""
      ]
     },
     "metadata": {},
     "output_type": "display_data"
    },
    {
     "data": {
      "text/plain": [
       "\"evaluating 8 reactors in parallel | option 3\""
      ]
     },
     "metadata": {},
     "output_type": "display_data"
    },
    {
     "data": {
      "text/plain": [
       "\">>>>>> iteration 1:O\""
      ]
     },
     "metadata": {},
     "output_type": "display_data"
    },
    {
     "data": {
      "text/plain": [
       "\">>>>>> iteration 2:O\""
      ]
     },
     "metadata": {},
     "output_type": "display_data"
    },
    {
     "data": {
      "text/plain": [
       "\">>>>>> iteration 3:O\""
      ]
     },
     "metadata": {},
     "output_type": "display_data"
    },
    {
     "data": {
      "text/plain": [
       "\">>>>>> iteration 4:O\""
      ]
     },
     "metadata": {},
     "output_type": "display_data"
    },
    {
     "data": {
      "text/plain": [
       "\">>>>>> iteration 5:O\""
      ]
     },
     "metadata": {},
     "output_type": "display_data"
    },
    {
     "data": {
      "text/plain": [
       "\">>>>>> iteration 6:O\""
      ]
     },
     "metadata": {},
     "output_type": "display_data"
    },
    {
     "data": {
      "text/plain": [
       "\">>>>>> iteration 7:O\""
      ]
     },
     "metadata": {},
     "output_type": "display_data"
    },
    {
     "data": {
      "text/plain": [
       "\">>>>>> iteration 8:O\""
      ]
     },
     "metadata": {},
     "output_type": "display_data"
    },
    {
     "data": {
      "text/plain": [
       "\">>>>>> iteration 9:O\""
      ]
     },
     "metadata": {},
     "output_type": "display_data"
    },
    {
     "data": {
      "text/plain": [
       "\">>>>>> iteration 10:O\""
      ]
     },
     "metadata": {},
     "output_type": "display_data"
    },
    {
     "data": {
      "text/plain": [
       "\">>>>>> iteration 11:O\""
      ]
     },
     "metadata": {},
     "output_type": "display_data"
    },
    {
     "data": {
      "text/plain": [
       "\">>>>>> iteration 12:O\""
      ]
     },
     "metadata": {},
     "output_type": "display_data"
    },
    {
     "data": {
      "text/plain": [
       "\">>>>>> iteration 13:O\""
      ]
     },
     "metadata": {},
     "output_type": "display_data"
    },
    {
     "data": {
      "text/plain": [
       "\">>>>>> iteration 14:O\""
      ]
     },
     "metadata": {},
     "output_type": "display_data"
    },
    {
     "data": {
      "text/plain": [
       "\">>>>>> iteration 15:O\""
      ]
     },
     "metadata": {},
     "output_type": "display_data"
    },
    {
     "data": {
      "text/plain": [
       "\">>>>>> iteration 16:O\""
      ]
     },
     "metadata": {},
     "output_type": "display_data"
    },
    {
     "data": {
      "text/plain": [
       "\">>>>>> iteration 17:O\""
      ]
     },
     "metadata": {},
     "output_type": "display_data"
    },
    {
     "data": {
      "text/plain": [
       "\">>>>>> iteration 18:O\""
      ]
     },
     "metadata": {},
     "output_type": "display_data"
    },
    {
     "data": {
      "text/plain": [
       "\">>>>>> iteration 19:O\""
      ]
     },
     "metadata": {},
     "output_type": "display_data"
    },
    {
     "data": {
      "text/plain": [
       "\">>>>>> iteration 20:O\""
      ]
     },
     "metadata": {},
     "output_type": "display_data"
    },
    {
     "data": {
      "text/plain": [
       "\">>>>>> iteration 21:O\""
      ]
     },
     "metadata": {},
     "output_type": "display_data"
    },
    {
     "data": {
      "text/plain": [
       "\"evaluating 9 reactors in parallel | option 3\""
      ]
     },
     "metadata": {},
     "output_type": "display_data"
    },
    {
     "data": {
      "text/plain": [
       "\">>>>>> iteration 1:O\""
      ]
     },
     "metadata": {},
     "output_type": "display_data"
    },
    {
     "data": {
      "text/plain": [
       "\">>>>>> iteration 2:O\""
      ]
     },
     "metadata": {},
     "output_type": "display_data"
    },
    {
     "data": {
      "text/plain": [
       "\">>>>>> iteration 3:O\""
      ]
     },
     "metadata": {},
     "output_type": "display_data"
    },
    {
     "data": {
      "text/plain": [
       "\">>>>>> iteration 4:O\""
      ]
     },
     "metadata": {},
     "output_type": "display_data"
    },
    {
     "data": {
      "text/plain": [
       "\">>>>>> iteration 5:O\""
      ]
     },
     "metadata": {},
     "output_type": "display_data"
    },
    {
     "data": {
      "text/plain": [
       "\">>>>>> iteration 6:O\""
      ]
     },
     "metadata": {},
     "output_type": "display_data"
    },
    {
     "data": {
      "text/plain": [
       "\">>>>>> iteration 7:O\""
      ]
     },
     "metadata": {},
     "output_type": "display_data"
    },
    {
     "data": {
      "text/plain": [
       "\">>>>>> iteration 8:O\""
      ]
     },
     "metadata": {},
     "output_type": "display_data"
    },
    {
     "data": {
      "text/plain": [
       "\">>>>>> iteration 9:O\""
      ]
     },
     "metadata": {},
     "output_type": "display_data"
    },
    {
     "data": {
      "text/plain": [
       "\">>>>>> iteration 10:O\""
      ]
     },
     "metadata": {},
     "output_type": "display_data"
    },
    {
     "data": {
      "text/plain": [
       "\">>>>>> iteration 11:O\""
      ]
     },
     "metadata": {},
     "output_type": "display_data"
    },
    {
     "data": {
      "text/plain": [
       "\">>>>>> iteration 12:O\""
      ]
     },
     "metadata": {},
     "output_type": "display_data"
    },
    {
     "data": {
      "text/plain": [
       "\">>>>>> iteration 13:O\""
      ]
     },
     "metadata": {},
     "output_type": "display_data"
    },
    {
     "data": {
      "text/plain": [
       "\">>>>>> iteration 14:O\""
      ]
     },
     "metadata": {},
     "output_type": "display_data"
    },
    {
     "data": {
      "text/plain": [
       "\"evaluating 10 reactors in parallel | option 3\""
      ]
     },
     "metadata": {},
     "output_type": "display_data"
    },
    {
     "data": {
      "text/plain": [
       "\">>>>>> iteration 1:O\""
      ]
     },
     "metadata": {},
     "output_type": "display_data"
    },
    {
     "data": {
      "text/plain": [
       "\">>>>>> iteration 2:O\""
      ]
     },
     "metadata": {},
     "output_type": "display_data"
    },
    {
     "data": {
      "text/plain": [
       "\">>>>>> iteration 3:O\""
      ]
     },
     "metadata": {},
     "output_type": "display_data"
    },
    {
     "data": {
      "text/plain": [
       "\">>>>>> iteration 4:O\""
      ]
     },
     "metadata": {},
     "output_type": "display_data"
    },
    {
     "data": {
      "text/plain": [
       "\">>>>>> iteration 5:O\""
      ]
     },
     "metadata": {},
     "output_type": "display_data"
    },
    {
     "data": {
      "text/plain": [
       "\">>>>>> iteration 6:O\""
      ]
     },
     "metadata": {},
     "output_type": "display_data"
    },
    {
     "data": {
      "text/plain": [
       "\">>>>>> iteration 7:O\""
      ]
     },
     "metadata": {},
     "output_type": "display_data"
    },
    {
     "data": {
      "text/plain": [
       "\">>>>>> iteration 8:O\""
      ]
     },
     "metadata": {},
     "output_type": "display_data"
    },
    {
     "data": {
      "text/plain": [
       "\">>>>>> iteration 9:O\""
      ]
     },
     "metadata": {},
     "output_type": "display_data"
    },
    {
     "data": {
      "text/plain": [
       "\">>>>>> iteration 10:O\""
      ]
     },
     "metadata": {},
     "output_type": "display_data"
    },
    {
     "data": {
      "text/plain": [
       "\">>>>>> iteration 11:O\""
      ]
     },
     "metadata": {},
     "output_type": "display_data"
    },
    {
     "data": {
      "text/plain": [
       "\">>>>>> iteration 12:O\""
      ]
     },
     "metadata": {},
     "output_type": "display_data"
    },
    {
     "data": {
      "text/plain": [
       "\">>>>>> iteration 13:O\""
      ]
     },
     "metadata": {},
     "output_type": "display_data"
    },
    {
     "data": {
      "text/plain": [
       "\"evaluating 11 reactors in parallel | option 3\""
      ]
     },
     "metadata": {},
     "output_type": "display_data"
    },
    {
     "data": {
      "text/plain": [
       "\">>>>>> iteration 1:O\""
      ]
     },
     "metadata": {},
     "output_type": "display_data"
    },
    {
     "data": {
      "text/plain": [
       "\">>>>>> iteration 2:O\""
      ]
     },
     "metadata": {},
     "output_type": "display_data"
    },
    {
     "data": {
      "text/plain": [
       "\">>>>>> iteration 3:O\""
      ]
     },
     "metadata": {},
     "output_type": "display_data"
    },
    {
     "data": {
      "text/plain": [
       "\">>>>>> iteration 4:O\""
      ]
     },
     "metadata": {},
     "output_type": "display_data"
    },
    {
     "data": {
      "text/plain": [
       "\">>>>>> iteration 5:O\""
      ]
     },
     "metadata": {},
     "output_type": "display_data"
    },
    {
     "data": {
      "text/plain": [
       "\">>>>>> iteration 6:O\""
      ]
     },
     "metadata": {},
     "output_type": "display_data"
    },
    {
     "data": {
      "text/plain": [
       "\">>>>>> iteration 7:O\""
      ]
     },
     "metadata": {},
     "output_type": "display_data"
    },
    {
     "data": {
      "text/plain": [
       "\">>>>>> iteration 8:O\""
      ]
     },
     "metadata": {},
     "output_type": "display_data"
    },
    {
     "data": {
      "text/plain": [
       "\">>>>>> iteration 9:O\""
      ]
     },
     "metadata": {},
     "output_type": "display_data"
    },
    {
     "data": {
      "text/plain": [
       "\">>>>>> iteration 10:O\""
      ]
     },
     "metadata": {},
     "output_type": "display_data"
    },
    {
     "data": {
      "text/plain": [
       "\">>>>>> iteration 11:O\""
      ]
     },
     "metadata": {},
     "output_type": "display_data"
    },
    {
     "data": {
      "text/plain": [
       "\">>>>>> iteration 12:O\""
      ]
     },
     "metadata": {},
     "output_type": "display_data"
    },
    {
     "data": {
      "text/plain": [
       "\">>>>>> iteration 13:O\""
      ]
     },
     "metadata": {},
     "output_type": "display_data"
    },
    {
     "data": {
      "text/plain": [
       "\"evaluating 12 reactors in parallel | option 3\""
      ]
     },
     "metadata": {},
     "output_type": "display_data"
    },
    {
     "data": {
      "text/plain": [
       "\">>>>>> iteration 1:O\""
      ]
     },
     "metadata": {},
     "output_type": "display_data"
    },
    {
     "data": {
      "text/plain": [
       "\">>>>>> iteration 2:O\""
      ]
     },
     "metadata": {},
     "output_type": "display_data"
    },
    {
     "data": {
      "text/plain": [
       "\">>>>>> iteration 3:O\""
      ]
     },
     "metadata": {},
     "output_type": "display_data"
    },
    {
     "data": {
      "text/plain": [
       "\">>>>>> iteration 4:O\""
      ]
     },
     "metadata": {},
     "output_type": "display_data"
    },
    {
     "data": {
      "text/plain": [
       "\">>>>>> iteration 5:O\""
      ]
     },
     "metadata": {},
     "output_type": "display_data"
    },
    {
     "data": {
      "text/plain": [
       "\">>>>>> iteration 6:O\""
      ]
     },
     "metadata": {},
     "output_type": "display_data"
    },
    {
     "data": {
      "text/plain": [
       "\">>>>>> iteration 7:O\""
      ]
     },
     "metadata": {},
     "output_type": "display_data"
    },
    {
     "data": {
      "text/plain": [
       "\">>>>>> iteration 8:O\""
      ]
     },
     "metadata": {},
     "output_type": "display_data"
    },
    {
     "data": {
      "text/plain": [
       "\">>>>>> iteration 9:O\""
      ]
     },
     "metadata": {},
     "output_type": "display_data"
    },
    {
     "data": {
      "text/plain": [
       "\">>>>>> iteration 10:O\""
      ]
     },
     "metadata": {},
     "output_type": "display_data"
    },
    {
     "data": {
      "text/plain": [
       "\">>>>>> iteration 11:O\""
      ]
     },
     "metadata": {},
     "output_type": "display_data"
    },
    {
     "data": {
      "text/plain": [
       "\">>>>>> iteration 12:O\""
      ]
     },
     "metadata": {},
     "output_type": "display_data"
    },
    {
     "data": {
      "text/plain": [
       "\">>>>>> iteration 13:O\""
      ]
     },
     "metadata": {},
     "output_type": "display_data"
    },
    {
     "data": {
      "text/plain": [
       "\">>>>>> iteration 14:O\""
      ]
     },
     "metadata": {},
     "output_type": "display_data"
    },
    {
     "data": {
      "text/plain": [
       "\">>>>>> iteration 15:O\""
      ]
     },
     "metadata": {},
     "output_type": "display_data"
    },
    {
     "data": {
      "text/plain": [
       "\">>>>>> iteration 16:O\""
      ]
     },
     "metadata": {},
     "output_type": "display_data"
    },
    {
     "data": {
      "text/plain": [
       "\">>>>>> iteration 17:O\""
      ]
     },
     "metadata": {},
     "output_type": "display_data"
    },
    {
     "data": {
      "text/plain": [
       "\">>>>>> iteration 18:O\""
      ]
     },
     "metadata": {},
     "output_type": "display_data"
    },
    {
     "data": {
      "text/plain": [
       "\"evaluating 13 reactors in parallel | option 3\""
      ]
     },
     "metadata": {},
     "output_type": "display_data"
    },
    {
     "data": {
      "text/plain": [
       "\">>>>>> iteration 1:O\""
      ]
     },
     "metadata": {},
     "output_type": "display_data"
    },
    {
     "data": {
      "text/plain": [
       "\">>>>>> iteration 2:O\""
      ]
     },
     "metadata": {},
     "output_type": "display_data"
    },
    {
     "data": {
      "text/plain": [
       "\">>>>>> iteration 3:O\""
      ]
     },
     "metadata": {},
     "output_type": "display_data"
    },
    {
     "data": {
      "text/plain": [
       "\">>>>>> iteration 4:O\""
      ]
     },
     "metadata": {},
     "output_type": "display_data"
    },
    {
     "data": {
      "text/plain": [
       "\">>>>>> iteration 5:O\""
      ]
     },
     "metadata": {},
     "output_type": "display_data"
    },
    {
     "data": {
      "text/plain": [
       "\">>>>>> iteration 6:O\""
      ]
     },
     "metadata": {},
     "output_type": "display_data"
    },
    {
     "data": {
      "text/plain": [
       "\">>>>>> iteration 7:O\""
      ]
     },
     "metadata": {},
     "output_type": "display_data"
    },
    {
     "data": {
      "text/plain": [
       "\">>>>>> iteration 8:O\""
      ]
     },
     "metadata": {},
     "output_type": "display_data"
    },
    {
     "data": {
      "text/plain": [
       "\">>>>>> iteration 9:O\""
      ]
     },
     "metadata": {},
     "output_type": "display_data"
    },
    {
     "data": {
      "text/plain": [
       "\">>>>>> iteration 10:O\""
      ]
     },
     "metadata": {},
     "output_type": "display_data"
    },
    {
     "data": {
      "text/plain": [
       "\">>>>>> iteration 11:O\""
      ]
     },
     "metadata": {},
     "output_type": "display_data"
    },
    {
     "data": {
      "text/plain": [
       "\">>>>>> iteration 12:O\""
      ]
     },
     "metadata": {},
     "output_type": "display_data"
    },
    {
     "data": {
      "text/plain": [
       "\">>>>>> iteration 13:O\""
      ]
     },
     "metadata": {},
     "output_type": "display_data"
    },
    {
     "data": {
      "text/plain": [
       "\">>>>>> iteration 14:O\""
      ]
     },
     "metadata": {},
     "output_type": "display_data"
    },
    {
     "data": {
      "text/plain": [
       "\">>>>>> iteration 15:O\""
      ]
     },
     "metadata": {},
     "output_type": "display_data"
    },
    {
     "data": {
      "text/plain": [
       "\"evaluating 14 reactors in parallel | option 3\""
      ]
     },
     "metadata": {},
     "output_type": "display_data"
    },
    {
     "data": {
      "text/plain": [
       "\">>>>>> iteration 1:O\""
      ]
     },
     "metadata": {},
     "output_type": "display_data"
    },
    {
     "data": {
      "text/plain": [
       "\">>>>>> iteration 2:O\""
      ]
     },
     "metadata": {},
     "output_type": "display_data"
    },
    {
     "data": {
      "text/plain": [
       "\">>>>>> iteration 3:O\""
      ]
     },
     "metadata": {},
     "output_type": "display_data"
    },
    {
     "data": {
      "text/plain": [
       "\">>>>>> iteration 4:O\""
      ]
     },
     "metadata": {},
     "output_type": "display_data"
    },
    {
     "data": {
      "text/plain": [
       "\">>>>>> iteration 5:O\""
      ]
     },
     "metadata": {},
     "output_type": "display_data"
    },
    {
     "data": {
      "text/plain": [
       "\">>>>>> iteration 6:O\""
      ]
     },
     "metadata": {},
     "output_type": "display_data"
    },
    {
     "data": {
      "text/plain": [
       "\">>>>>> iteration 7:O\""
      ]
     },
     "metadata": {},
     "output_type": "display_data"
    },
    {
     "data": {
      "text/plain": [
       "\">>>>>> iteration 8:O\""
      ]
     },
     "metadata": {},
     "output_type": "display_data"
    },
    {
     "data": {
      "text/plain": [
       "\">>>>>> iteration 9:O\""
      ]
     },
     "metadata": {},
     "output_type": "display_data"
    },
    {
     "data": {
      "text/plain": [
       "\">>>>>> iteration 10:O\""
      ]
     },
     "metadata": {},
     "output_type": "display_data"
    },
    {
     "data": {
      "text/plain": [
       "\">>>>>> iteration 11:O\""
      ]
     },
     "metadata": {},
     "output_type": "display_data"
    },
    {
     "data": {
      "text/plain": [
       "\">>>>>> iteration 12:O\""
      ]
     },
     "metadata": {},
     "output_type": "display_data"
    },
    {
     "data": {
      "text/plain": [
       "\">>>>>> iteration 13:O\""
      ]
     },
     "metadata": {},
     "output_type": "display_data"
    },
    {
     "data": {
      "text/plain": [
       "\">>>>>> iteration 14:O\""
      ]
     },
     "metadata": {},
     "output_type": "display_data"
    },
    {
     "data": {
      "text/plain": [
       "\">>>>>> iteration 15:O\""
      ]
     },
     "metadata": {},
     "output_type": "display_data"
    },
    {
     "data": {
      "text/plain": [
       "\">>>>>> iteration 16:O\""
      ]
     },
     "metadata": {},
     "output_type": "display_data"
    },
    {
     "data": {
      "text/plain": [
       "\">>>>>> iteration 17:O\""
      ]
     },
     "metadata": {},
     "output_type": "display_data"
    },
    {
     "data": {
      "text/plain": [
       "\"evaluating 15 reactors in parallel | option 3\""
      ]
     },
     "metadata": {},
     "output_type": "display_data"
    },
    {
     "data": {
      "text/plain": [
       "\">>>>>> iteration 1:O\""
      ]
     },
     "metadata": {},
     "output_type": "display_data"
    },
    {
     "data": {
      "text/plain": [
       "\">>>>>> iteration 2:O\""
      ]
     },
     "metadata": {},
     "output_type": "display_data"
    },
    {
     "data": {
      "text/plain": [
       "\">>>>>> iteration 3:O\""
      ]
     },
     "metadata": {},
     "output_type": "display_data"
    },
    {
     "data": {
      "text/plain": [
       "\">>>>>> iteration 4:O\""
      ]
     },
     "metadata": {},
     "output_type": "display_data"
    },
    {
     "data": {
      "text/plain": [
       "\">>>>>> iteration 5:O\""
      ]
     },
     "metadata": {},
     "output_type": "display_data"
    },
    {
     "data": {
      "text/plain": [
       "\">>>>>> iteration 6:O\""
      ]
     },
     "metadata": {},
     "output_type": "display_data"
    },
    {
     "data": {
      "text/plain": [
       "\">>>>>> iteration 7:O\""
      ]
     },
     "metadata": {},
     "output_type": "display_data"
    },
    {
     "data": {
      "text/plain": [
       "\">>>>>> iteration 8:O\""
      ]
     },
     "metadata": {},
     "output_type": "display_data"
    },
    {
     "data": {
      "text/plain": [
       "\">>>>>> iteration 9:O\""
      ]
     },
     "metadata": {},
     "output_type": "display_data"
    },
    {
     "data": {
      "text/plain": [
       "\">>>>>> iteration 10:O\""
      ]
     },
     "metadata": {},
     "output_type": "display_data"
    },
    {
     "data": {
      "text/plain": [
       "\">>>>>> iteration 11:O\""
      ]
     },
     "metadata": {},
     "output_type": "display_data"
    },
    {
     "data": {
      "text/plain": [
       "\">>>>>> iteration 12:O\""
      ]
     },
     "metadata": {},
     "output_type": "display_data"
    },
    {
     "data": {
      "text/plain": [
       "\">>>>>> iteration 13:O\""
      ]
     },
     "metadata": {},
     "output_type": "display_data"
    },
    {
     "data": {
      "text/plain": [
       "\">>>>>> iteration 14:O\""
      ]
     },
     "metadata": {},
     "output_type": "display_data"
    },
    {
     "data": {
      "text/plain": [
       "\">>>>>> iteration 15:O\""
      ]
     },
     "metadata": {},
     "output_type": "display_data"
    },
    {
     "data": {
      "text/plain": [
       "\"evaluating 16 reactors in parallel | option 3\""
      ]
     },
     "metadata": {},
     "output_type": "display_data"
    },
    {
     "data": {
      "text/plain": [
       "\">>>>>> iteration 1:O\""
      ]
     },
     "metadata": {},
     "output_type": "display_data"
    },
    {
     "data": {
      "text/plain": [
       "\">>>>>> iteration 2:O\""
      ]
     },
     "metadata": {},
     "output_type": "display_data"
    },
    {
     "data": {
      "text/plain": [
       "\">>>>>> iteration 3:O\""
      ]
     },
     "metadata": {},
     "output_type": "display_data"
    },
    {
     "data": {
      "text/plain": [
       "\">>>>>> iteration 4:O\""
      ]
     },
     "metadata": {},
     "output_type": "display_data"
    },
    {
     "data": {
      "text/plain": [
       "\">>>>>> iteration 5:O\""
      ]
     },
     "metadata": {},
     "output_type": "display_data"
    },
    {
     "data": {
      "text/plain": [
       "\">>>>>> iteration 6:O\""
      ]
     },
     "metadata": {},
     "output_type": "display_data"
    },
    {
     "data": {
      "text/plain": [
       "\">>>>>> iteration 7:O\""
      ]
     },
     "metadata": {},
     "output_type": "display_data"
    },
    {
     "data": {
      "text/plain": [
       "\">>>>>> iteration 8:O\""
      ]
     },
     "metadata": {},
     "output_type": "display_data"
    },
    {
     "data": {
      "text/plain": [
       "\">>>>>> iteration 9:O\""
      ]
     },
     "metadata": {},
     "output_type": "display_data"
    },
    {
     "data": {
      "text/plain": [
       "\">>>>>> iteration 10:O\""
      ]
     },
     "metadata": {},
     "output_type": "display_data"
    },
    {
     "data": {
      "text/plain": [
       "\">>>>>> iteration 11:O\""
      ]
     },
     "metadata": {},
     "output_type": "display_data"
    },
    {
     "data": {
      "text/plain": [
       "\">>>>>> iteration 12:O\""
      ]
     },
     "metadata": {},
     "output_type": "display_data"
    },
    {
     "data": {
      "text/plain": [
       "\"evaluating 17 reactors in parallel | option 3\""
      ]
     },
     "metadata": {},
     "output_type": "display_data"
    },
    {
     "data": {
      "text/plain": [
       "\">>>>>> iteration 1:O\""
      ]
     },
     "metadata": {},
     "output_type": "display_data"
    },
    {
     "data": {
      "text/plain": [
       "\">>>>>> iteration 2:O\""
      ]
     },
     "metadata": {},
     "output_type": "display_data"
    },
    {
     "data": {
      "text/plain": [
       "\">>>>>> iteration 3:O\""
      ]
     },
     "metadata": {},
     "output_type": "display_data"
    },
    {
     "data": {
      "text/plain": [
       "\">>>>>> iteration 4:O\""
      ]
     },
     "metadata": {},
     "output_type": "display_data"
    },
    {
     "data": {
      "text/plain": [
       "\">>>>>> iteration 5:O\""
      ]
     },
     "metadata": {},
     "output_type": "display_data"
    },
    {
     "data": {
      "text/plain": [
       "\">>>>>> iteration 6:O\""
      ]
     },
     "metadata": {},
     "output_type": "display_data"
    },
    {
     "data": {
      "text/plain": [
       "\">>>>>> iteration 7:O\""
      ]
     },
     "metadata": {},
     "output_type": "display_data"
    },
    {
     "data": {
      "text/plain": [
       "\">>>>>> iteration 8:O\""
      ]
     },
     "metadata": {},
     "output_type": "display_data"
    },
    {
     "data": {
      "text/plain": [
       "\">>>>>> iteration 9:O\""
      ]
     },
     "metadata": {},
     "output_type": "display_data"
    },
    {
     "data": {
      "text/plain": [
       "\">>>>>> iteration 10:O\""
      ]
     },
     "metadata": {},
     "output_type": "display_data"
    },
    {
     "data": {
      "text/plain": [
       "\">>>>>> iteration 11:O\""
      ]
     },
     "metadata": {},
     "output_type": "display_data"
    },
    {
     "data": {
      "text/plain": [
       "\">>>>>> iteration 12:O\""
      ]
     },
     "metadata": {},
     "output_type": "display_data"
    },
    {
     "data": {
      "text/plain": [
       "\">>>>>> iteration 13:O\""
      ]
     },
     "metadata": {},
     "output_type": "display_data"
    },
    {
     "data": {
      "text/plain": [
       "\"evaluating 18 reactors in parallel | option 3\""
      ]
     },
     "metadata": {},
     "output_type": "display_data"
    },
    {
     "data": {
      "text/plain": [
       "\">>>>>> iteration 1:O\""
      ]
     },
     "metadata": {},
     "output_type": "display_data"
    },
    {
     "data": {
      "text/plain": [
       "\">>>>>> iteration 2:O\""
      ]
     },
     "metadata": {},
     "output_type": "display_data"
    },
    {
     "data": {
      "text/plain": [
       "\">>>>>> iteration 3:O\""
      ]
     },
     "metadata": {},
     "output_type": "display_data"
    },
    {
     "data": {
      "text/plain": [
       "\">>>>>> iteration 4:O\""
      ]
     },
     "metadata": {},
     "output_type": "display_data"
    },
    {
     "data": {
      "text/plain": [
       "\">>>>>> iteration 5:O\""
      ]
     },
     "metadata": {},
     "output_type": "display_data"
    },
    {
     "data": {
      "text/plain": [
       "\">>>>>> iteration 6:O\""
      ]
     },
     "metadata": {},
     "output_type": "display_data"
    },
    {
     "data": {
      "text/plain": [
       "\">>>>>> iteration 7:O\""
      ]
     },
     "metadata": {},
     "output_type": "display_data"
    },
    {
     "data": {
      "text/plain": [
       "\">>>>>> iteration 8:O\""
      ]
     },
     "metadata": {},
     "output_type": "display_data"
    },
    {
     "data": {
      "text/plain": [
       "\">>>>>> iteration 9:O\""
      ]
     },
     "metadata": {},
     "output_type": "display_data"
    },
    {
     "data": {
      "text/plain": [
       "\">>>>>> iteration 10:O\""
      ]
     },
     "metadata": {},
     "output_type": "display_data"
    },
    {
     "data": {
      "text/plain": [
       "\">>>>>> iteration 11:O\""
      ]
     },
     "metadata": {},
     "output_type": "display_data"
    },
    {
     "data": {
      "text/plain": [
       "\">>>>>> iteration 12:O\""
      ]
     },
     "metadata": {},
     "output_type": "display_data"
    },
    {
     "data": {
      "text/plain": [
       "\">>>>>> iteration 13:F\""
      ]
     },
     "metadata": {},
     "output_type": "display_data"
    },
    {
     "data": {
      "text/plain": [
       "\">>>>>> iteration 14:O\""
      ]
     },
     "metadata": {},
     "output_type": "display_data"
    },
    {
     "data": {
      "text/plain": [
       "\"evaluating 19 reactors in parallel | option 3\""
      ]
     },
     "metadata": {},
     "output_type": "display_data"
    },
    {
     "data": {
      "text/plain": [
       "\">>>>>> iteration 1:O\""
      ]
     },
     "metadata": {},
     "output_type": "display_data"
    },
    {
     "data": {
      "text/plain": [
       "\">>>>>> iteration 2:O\""
      ]
     },
     "metadata": {},
     "output_type": "display_data"
    },
    {
     "data": {
      "text/plain": [
       "\">>>>>> iteration 3:O\""
      ]
     },
     "metadata": {},
     "output_type": "display_data"
    },
    {
     "data": {
      "text/plain": [
       "\">>>>>> iteration 4:O\""
      ]
     },
     "metadata": {},
     "output_type": "display_data"
    },
    {
     "data": {
      "text/plain": [
       "\">>>>>> iteration 5:O\""
      ]
     },
     "metadata": {},
     "output_type": "display_data"
    },
    {
     "data": {
      "text/plain": [
       "\">>>>>> iteration 6:O\""
      ]
     },
     "metadata": {},
     "output_type": "display_data"
    },
    {
     "data": {
      "text/plain": [
       "\">>>>>> iteration 7:O\""
      ]
     },
     "metadata": {},
     "output_type": "display_data"
    },
    {
     "data": {
      "text/plain": [
       "\">>>>>> iteration 8:O\""
      ]
     },
     "metadata": {},
     "output_type": "display_data"
    },
    {
     "data": {
      "text/plain": [
       "\">>>>>> iteration 9:O\""
      ]
     },
     "metadata": {},
     "output_type": "display_data"
    },
    {
     "data": {
      "text/plain": [
       "\">>>>>> iteration 10:O\""
      ]
     },
     "metadata": {},
     "output_type": "display_data"
    },
    {
     "data": {
      "text/plain": [
       "\">>>>>> iteration 11:O\""
      ]
     },
     "metadata": {},
     "output_type": "display_data"
    },
    {
     "data": {
      "text/plain": [
       "\">>>>>> iteration 12:O\""
      ]
     },
     "metadata": {},
     "output_type": "display_data"
    },
    {
     "data": {
      "text/plain": [
       "\">>>>>> iteration 13:O\""
      ]
     },
     "metadata": {},
     "output_type": "display_data"
    },
    {
     "data": {
      "text/plain": [
       "\">>>>>> iteration 14:F\""
      ]
     },
     "metadata": {},
     "output_type": "display_data"
    },
    {
     "data": {
      "text/plain": [
       "\">>>>>> iteration 15:O\""
      ]
     },
     "metadata": {},
     "output_type": "display_data"
    },
    {
     "data": {
      "text/plain": [
       "\"evaluating 20 reactors in parallel | option 3\""
      ]
     },
     "metadata": {},
     "output_type": "display_data"
    },
    {
     "data": {
      "text/plain": [
       "\">>>>>> iteration 1:O\""
      ]
     },
     "metadata": {},
     "output_type": "display_data"
    },
    {
     "data": {
      "text/plain": [
       "\">>>>>> iteration 2:O\""
      ]
     },
     "metadata": {},
     "output_type": "display_data"
    },
    {
     "data": {
      "text/plain": [
       "\">>>>>> iteration 3:O\""
      ]
     },
     "metadata": {},
     "output_type": "display_data"
    },
    {
     "data": {
      "text/plain": [
       "\">>>>>> iteration 4:O\""
      ]
     },
     "metadata": {},
     "output_type": "display_data"
    },
    {
     "data": {
      "text/plain": [
       "\">>>>>> iteration 5:O\""
      ]
     },
     "metadata": {},
     "output_type": "display_data"
    }
   ],
   "source": [
    "# testing the number of reactors in series (chosen arbitrarily as the same number of scenarios)\n",
    "nReactMax = nScenMax\n",
    "\n",
    "#preparing plot \n",
    "# --> monolithic vs. decomposed \n",
    "# solution time\n",
    "solTimeTraj_r = Matrix{Float64}(undef,2,nScenMax) \n",
    "# computed objective function\n",
    "solObjTraj_r = Matrix{Float64}(undef,2,nScenMax) \n",
    "# --> only decomposed\n",
    "# number of iterations\n",
    "iterTraj_r = Vector{Float64}(undef,nScenMax) \n",
    "# optimality gap\n",
    "optGapTraj_r = Vector{Float64}(undef,nScenMax) \n",
    "\n",
    "# number of reactors in parallel\n",
    "nScenarios = 2\n",
    "#equiprobable scenarios\n",
    "pScenarios = 1.0/nScenarios\n",
    "\n",
    "for rr = 1:nReactMax\n",
    "    display(\"evaluating $(rr) reactors in parallel | option $(opti)\")\n",
    "        \n",
    "    #number os reactors\n",
    "    nReac = rr\n",
    "    # Number of states\n",
    "    nx = 2*nReac\n",
    "        \n",
    "    # Possible initial conditions (deviation form)\n",
    "    xInit_0 = repeat([0.3583;0.6418] .- x0, outer = [nReac,1])\n",
    "    uInit_0 = 1.0 - u0\n",
    "       \n",
    "    # solving monolithical problem \n",
    "    sol_m_Dict = MS_CLDRTO(xInit_0,uInit_0,nReac,nScenarios,pScenarios,solNominal,opti)\n",
    "\n",
    "    # solving decomposed problem    \n",
    "    sol_d_Dict = BENS_CLDRTO(xInit_0,uInit_0,nReac,nScenarios,pScenarios,solNominal,opti)\n",
    "        \n",
    "    # for plotting\n",
    "    solTimeTraj_r[1,rr] = sol_m_Dict['t']\n",
    "    solTimeTraj_r[2,rr] = sol_d_Dict['t']\n",
    "    \n",
    "    solObjTraj_r[1,rr] = sol_m_Dict['ϕ']\n",
    "    solObjTraj_r[2,rr] = sol_d_Dict['ϕ']\n",
    "\n",
    "    iterTraj_r[rr] = sol_d_Dict['i'] \n",
    "    optGapTraj_r[rr] = sol_d_Dict['g']\n",
    "\n",
    "end\n"
   ]
  },
  {
   "cell_type": "code",
   "execution_count": null,
   "id": "31be0294",
   "metadata": {},
   "outputs": [],
   "source": [
    "# solution time\n",
    "p5 = plot(1:nReactMax,solTimeTraj_r[1,:],xlabel=\"# reactors\", ylabel=\"sol. time [s]\",marker=:circle, markercolor = :green,label=\"monolithic\")\n",
    "p5 = plot!(1:nReactMax,solTimeTraj_r[2,:],marker=:square, markercolor = :red,label=\"decomposed\",gridlinewidth=2)\n",
    "display(p5)"
   ]
  },
  {
   "cell_type": "code",
   "execution_count": null,
   "id": "731f9dd8",
   "metadata": {},
   "outputs": [],
   "source": [
    "# number of iterations\n",
    "p6 = plot(1:nReactMax,iterTraj_r,xlabel=\"# reactors\", ylabel=\"# iterations\",yticks=int_ticks(iterTraj_r; step=1),marker=:square, markercolor = :red,label=\"decomposed\",gridlinewidth=2)\n",
    "display(p6)"
   ]
  },
  {
   "cell_type": "code",
   "execution_count": null,
   "id": "3c8c1018",
   "metadata": {},
   "outputs": [],
   "source": [
    "# number of iterations\n",
    "p8 = plot(1:nReactMax,optGapTraj_r,yscale=:log10,xlabel=\"# scenarios\", ylabel=\"opt gap.\",marker=:square, markercolor = :red,label=\"decomposed\",gridlinewidth=2)\n",
    "display(p8)"
   ]
  },
  {
   "cell_type": "markdown",
   "id": "0ffe348c",
   "metadata": {},
   "source": [
    "# Checking if trajectories match for more scenarios and reactors\n",
    "- arbitrarily chosen number of scenarios and reactors"
   ]
  },
  {
   "cell_type": "code",
   "execution_count": null,
   "id": "cf6ecc0d",
   "metadata": {},
   "outputs": [],
   "source": [
    "nSCheck = 3 # number of scenarios\n",
    "nRCheck = 5 # number of reactors in parallel\n",
    "optiCheck = opti\n",
    "\n",
    "# Extracting solution for plotting --> monolithic vs. decomposed \n",
    "yTraj = Array{Float64}(undef,2,pD,nSCheck)\n",
    "uTraj = Array{Float64}(undef,2,pD,nSCheck) \n",
    "yspTraj = Array{Float64}(undef,2,pD,nSCheck) \n",
    "\n",
    "#equiprobable scenarios\n",
    "pScheck = 1.0/nSCheck;\n",
    "\n",
    "# Number of states\n",
    "nx = 2*nRCheck;\n",
    "\n",
    "# Initial conditions (deviation form)\n",
    "xInit_0 = repeat([0.3583;0.6418] .- x0, outer = [nRCheck,1]);\n",
    "uInit_0 = 1.0 - u0;\n",
    "\n",
    "sol_mon = MS_CLDRTO(xInit_0,uInit_0,nRCheck,nSCheck,pScheck,solNominal,optiCheck)\n",
    "sol_dec = BENS_CLDRTO(xInit_0,uInit_0,nRCheck,nSCheck,pScheck,solNominal,optiCheck)\n",
    "\n",
    "for ii in 1:pD\n",
    "    for ss in 1:nSCheck\n",
    "    # transforming from deviation form\n",
    "    yTraj[1,ii,ss] = sol_mon['y'][ii,ss] + y0\n",
    "    yspTraj[1,ii,ss] = sol_mon['s'][ii,ss] + y0\n",
    "    uTraj[1,ii,ss] = sol_mon['u'][ii,1,ss] + u0\n",
    "        \n",
    "    yTraj[2,ii,ss] = sol_dec['y'][ss][ii] + y0\n",
    "    yspTraj[2,ii,ss] = sol_dec['s'][ss][ii] + y0\n",
    "    uTraj[2,ii,ss] = sol_dec['u'][ss][1,ii] + u0    \n",
    "    end\n",
    "end;"
   ]
  },
  {
   "cell_type": "code",
   "execution_count": null,
   "id": "3d9ec8ea",
   "metadata": {},
   "outputs": [],
   "source": [
    "# time series for plotting\n",
    "ts = Vector{Float64}(undef,pD) \n",
    "for i in 1:pD\n",
    "    ts[i] = 1*i\n",
    "end\n",
    "\n",
    "# Creating color array\n",
    "CList = reshape( range(colorant\"red\", stop=colorant\"blue\",length=nSCheck), 1, nSCheck);\n",
    "MList =[:cross, :circle];"
   ]
  },
  {
   "cell_type": "code",
   "execution_count": null,
   "id": "6d52718c",
   "metadata": {},
   "outputs": [],
   "source": [
    "gr()\n",
    "###########\n",
    "# OUTPUTS #\n",
    "###########\n",
    "# limits\n",
    "p9 = plot(ts,(pUB + y0)*ones(length(ts)),linestyle = :dot,linecolor = :black,xaxis=\"time[h]\",yaxis=\"y_s1\",gridlinewidth=2)\n",
    "p9 = plot!(ts,(pTrack + y0)*ones(length(ts)),linestyle = :dot,linecolor = :black)\n",
    "\n",
    "for opti in 1:2\n",
    "    p9 = plot!(ts,yTraj[opti,:,1],linewidth=5,linealpha = 0.3,markershape=MList[opti],linecolor = CList[opti])\n",
    "end\n",
    "p9.series_list[1][:label] = \"\"\n",
    "p9.series_list[2][:label] = \"\"\n",
    "p9.series_list[3][:label] = \"Mono\"\n",
    "p9.series_list[4][:label] = \"Decom\"\n",
    "\n",
    "p10 = plot(ts,(pUB + y0)*ones(length(ts)),linestyle = :dot,linecolor = :black,xaxis=\"time[h]\",yaxis=\"y_s2\",legend=false,gridlinewidth=2)\n",
    "p10 = plot!(ts,(pTrack + y0)*ones(length(ts)),linestyle = :dot,linecolor = :black,legend=false)\n",
    "\n",
    "for opti in 1:2\n",
    "    p10 = plot!(ts,yTraj[opti,:,2],linewidth=5,linealpha = 0.3,markershape=MList[opti],linecolor = CList[opti],legend=false)\n",
    "end\n",
    "\n",
    "p11 = plot(ts,(pUB + y0)*ones(length(ts)),linestyle = :dot,linecolor = :black,xaxis=\"time[h]\",yaxis=\"y_s3\",legend=false,gridlinewidth=2)\n",
    "p11 = plot!(ts,(pTrack + y0)*ones(length(ts)),linestyle = :dot,linecolor = :black,legend=false)\n",
    "\n",
    "for opti in 1:2\n",
    "    p11 = plot!(ts,yTraj[opti,:,3],linewidth=5,linealpha = 0.3,markershape=MList[opti],linecolor = CList[opti],legend=false)\n",
    "end\n",
    "\n",
    "g1 = plot(p9,p10,p11,layout=(3,1))\n",
    "display(g1)"
   ]
  },
  {
   "cell_type": "code",
   "execution_count": null,
   "id": "9fad43e9",
   "metadata": {},
   "outputs": [],
   "source": [
    "#############\n",
    "# SETPOINTS #\n",
    "#############\n",
    "# limits\n",
    "p12 = plot(ts,yspMax*ones(length(ts)),linestyle = :dot,linecolor = :black,xaxis=\"time[h]\",yaxis=\"ysp1\",legend=false,gridlinewidth=2)\n",
    "for opti in 1:2\n",
    "    p12 = plot!(ts,yspTraj[opti,:,1],linewidth=5,linetype=:steppre,linealpha = 0.3,markershape=MList[opti],linecolor = CList[opti],legend=false)\n",
    "end\n",
    "\n",
    "p13 = plot(ts,yspMax*ones(length(ts)),linestyle = :dot,linecolor = :black,xaxis=\"time[h]\",yaxis=\"ysp2\",legend=false,gridlinewidth=2)\n",
    "for opti in 1:2\n",
    "    p13 = plot!(ts,yspTraj[opti,:,2],linewidth=5,linetype=:steppre,linealpha = 0.3,markershape=MList[opti],linecolor = CList[opti],legend=false)\n",
    "end\n",
    "\n",
    "p14 = plot(ts,yspMax*ones(length(ts)),linestyle = :dot,linecolor = :black,xaxis=\"time[h]\",yaxis=\"ysp3\",legend=false,gridlinewidth=2)\n",
    "for opti in 1:2\n",
    "    p14 = plot!(ts,yspTraj[opti,:,3],linewidth=5,linetype=:steppre,linealpha = 0.3,markershape=MList[opti],linecolor = CList[opti],legend=false)\n",
    "end\n",
    "\n",
    "g2 = plot(p12,p13,p14,layout=(3,1))\n",
    "display(g2)"
   ]
  },
  {
   "cell_type": "code",
   "execution_count": null,
   "id": "eda4f821",
   "metadata": {},
   "outputs": [],
   "source": [
    "##########\n",
    "# INPUTS #\n",
    "##########\n",
    "# limits\n",
    "#p13 = plot(ts,uMax*ones(length(ts)),linestyle = :dot,linecolor = :black,xaxis=\"time[h]\",yaxis=\"u1\",legend=false,gridlinewidth=2,ylims = (1.5,2.0),yticks = 1.5:0.1:2.0)\n",
    "p15 = plot(xaxis=\"time[h]\",yaxis=\"u_s1\",gridlinewidth=2,ylims = (1.4,2.0),yticks = 1.4:0.1:2.0)\n",
    "for opti in 1:2\n",
    "    p15 = plot!(ts,uTraj[opti,:,1],linewidth=5,linetype=:steppre,linealpha = 0.3,markershape=MList[opti],linecolor = CList[opti],legend=false)\n",
    "end\n",
    "\n",
    "#p14 = plot(ts,uMax*ones(length(ts)),linestyle = :dot,linecolor = :black,xaxis=\"time[h]\",yaxis=\"u2\",legend=false,gridlinewidth=2,ylims = (1.5,2.0),yticks = 1.5:0.1:2.0)\n",
    "p16 = plot(xaxis=\"time[h]\",yaxis=\"u_s2\",gridlinewidth=2,ylims = (1.4,2.0),yticks = 1.4:0.1:2.0)\n",
    "for opti in 1:2\n",
    "    p16 = plot!(ts,uTraj[opti,:,2],linewidth=5,linetype=:steppre,linealpha = 0.3,markershape=MList[opti],linecolor = CList[opti],legend=false)\n",
    "end\n",
    "\n",
    "#p15 = plot(ts,uMax*ones(length(ts)),linestyle = :dot,linecolor = :black,xaxis=\"time[h]\",yaxis=\"u3\",legend=false,gridlinewidth=2,ylims = (1.5,2.0),yticks = 1.5:0.1:2.0)\n",
    "p17 = plot(xaxis=\"time[h]\",yaxis=\"u_s3\",gridlinewidth=2,ylims = (1.4,2.0),yticks = 1.4:0.1:2.0)\n",
    "for opti in 1:2\n",
    "    p17 = plot!(ts,uTraj[opti,:,3],linewidth=5,linetype=:steppre,linealpha = 0.3,markershape=MList[opti],linecolor = CList[opti],legend=false)\n",
    "end\n",
    "\n",
    "g3 = plot(p15,p16,p17,layout=(3,1))\n",
    "display(g3)"
   ]
  },
  {
   "cell_type": "markdown",
   "id": "41cb96ae",
   "metadata": {},
   "source": [
    "Creating table to show the results"
   ]
  },
  {
   "cell_type": "code",
   "execution_count": null,
   "id": "3ce63e67",
   "metadata": {},
   "outputs": [],
   "source": [
    "# Scenarios\n",
    "table_iter = Any[]\n",
    "table_solTime_M = Any[]\n",
    "table_solTime_D = Any[]\n",
    "table_solMax = Any[]\n",
    "table_of_M = Any[]\n",
    "table_of_D = Any[]\n",
    "table_perChange = Any[]\n",
    "\n",
    "for tt in [5 10 15 20 25 30] \n",
    "    push!(table_iter, tt)\n",
    "    push!(table_solTime_M, solTimeTraj_s[1,tt])\n",
    "    push!(table_solTime_D, solTimeTraj_s[2,tt])\n",
    "    push!(table_solMax, solTimeMaxTraj_s[tt])\n",
    "    push!(table_of_M, solObjTraj_s[1,tt])\n",
    "    push!(table_of_D, solObjTraj_s[2,tt])\n",
    "    push!(table_perChange, (solObjTraj_s[2,tt] - solObjTraj_s[1,tt])/solObjTraj_s[1,tt])\n",
    "end\n",
    "\n",
    "df_scen = DataFrame(; iter = table_iter, \n",
    "                sol_time_M = table_solTime_M, \n",
    "                 sol_time_D = table_solTime_D,\n",
    "                 sol_time_D_max = table_solMax,\n",
    "                 comp_of_M = table_of_M,\n",
    "                 comp_of_D = table_of_D,\n",
    "                 per_change = table_perChange)\n",
    "\n",
    "table_iter = Any[]\n",
    "table_solTime_M = Any[]\n",
    "table_solTime_D = Any[]\n",
    "table_of_M = Any[]\n",
    "table_of_D = Any[]\n",
    "table_perChange = Any[]\n",
    "\n",
    "for tt in [5 10 15 20 25 30] \n",
    "    push!(table_iter, tt)\n",
    "    push!(table_solTime_M, solTimeTraj_r[1,tt])\n",
    "    push!(table_solTime_D, solTimeTraj_r[2,tt])\n",
    "    push!(table_of_M, solObjTraj_r[1,tt])\n",
    "    push!(table_of_D, solObjTraj_r[2,tt])\n",
    "    push!(table_perChange, (solObjTraj_r[2,tt] - solObjTraj_r[1,tt])/solObjTraj_r[1,tt])\n",
    "end\n",
    "\n",
    "df_reac = DataFrame(; iter = table_iter, \n",
    "                sol_time_M = table_solTime_M, \n",
    "                 sol_time_D = table_solTime_D,\n",
    "                 comp_of_M = table_of_M,\n",
    "                 comp_of_D = table_of_D,\n",
    "                 per_change = table_perChange);"
   ]
  },
  {
   "cell_type": "code",
   "execution_count": null,
   "id": "44fda462",
   "metadata": {},
   "outputs": [],
   "source": [
    "display(\"Analysis: # of Scenarios\")\n",
    "display(df_scen)\n",
    "\n",
    "display(\"Analysis: # of Reactors\")\n",
    "display(df_reac)"
   ]
  },
  {
   "cell_type": "markdown",
   "id": "5e551fe0",
   "metadata": {},
   "source": [
    "# Implementing MS-CL-DRTO in closed loop with the plant\n",
    "\n",
    "Here we run a Monte Carlo Analysis of the CL-DRTO results. The plant gain is drawn at each MC iteration and the DRTO has access to the lower and upper bound of that distribution to create the scenarios. \n",
    "\n",
    "We use the same formulation as above with 3 scenarios and 5 reactors for comparing the monolithic and decomposed implementations"
   ]
  },
  {
   "cell_type": "code",
   "execution_count": null,
   "id": "4135986c",
   "metadata": {},
   "outputs": [],
   "source": [
    "# Monte Carlo iterations\n",
    "n_MC = 1\n",
    "\n",
    "# Simulation time in sampling periods\n",
    "nsim = 20\n",
    "\n",
    "# plant information\n",
    "nS_MC 3 # number of scenarios\n",
    "nR_MC = 5 # number of reactors in parallel\n",
    "opti_MC = opti # MPC solution method (only MPCC is working)\n",
    "\n",
    "#equiprobable scenarios\n",
    "pS_MC = 1.0/nS_MC\n",
    "\n",
    "# Number of states\n",
    "nx = 2*nR_MC"
   ]
  },
  {
   "cell_type": "markdown",
   "id": "ed5a8bfe",
   "metadata": {},
   "source": [
    "Building function for computing MPC solution (solving QP)"
   ]
  },
  {
   "cell_type": "code",
   "execution_count": null,
   "id": "8db2fc72",
   "metadata": {},
   "outputs": [],
   "source": [
    "function ConstMPC(xkk,dekk,uk_1,yspk,nReac)\n",
    "    ###########\n",
    "    # inputs: #\n",
    "    ###########\n",
    "    # xkk - current states (MPC model) \n",
    "    # dekk - disturbance estimate \n",
    "    # uk_1 - inputs at the current iteration, already implemented on the plant\n",
    "    # yspk - setpoint trajectory computed by CL-DRTO\n",
    "    # nReac - number of parallel reactors\n",
    "\n",
    "    # Creating MPC matrices\n",
    "    mpc = MPC_matrices(nReac)\n",
    "    \n",
    "    MPC_con = Model(Ipopt.Optimizer)\n",
    "    set_silent(MPC_con)\n",
    "    \n",
    "    ####################\n",
    "    # Set up variables #\n",
    "    ####################\n",
    "    # inputs computed by MPCs\n",
    "    @variable(MPC_con, u[1:p,1:m])\n",
    "    \n",
    "    ######################################\n",
    "    # Set up constraints and expressions #\n",
    "    ######################################\n",
    "    # bounds\n",
    "    @constraint(MPC_con, MPC_u_upper[kk = 1:p,uu = 1:m], u[kk,uu] - (uMax - u0) ≤ 0)\n",
    "    @constraint(MPC_con, MPC_u_lower[kk = 1:p,uu = 1:m], (uMin - u0) - u[kk,uu] ≤ 0)\n",
    "    \n",
    "    # for OF computation\n",
    "    @expression(MPC_con, cfT, (mpc['Ψ']*[xkk;dekk] - yspk)'*mpc['Q']*mpc['Θ'] - uk_1'*mpc['I']'*mpc['R']*mpc['M'])\n",
    "        \n",
    "    #############################\n",
    "    # Set up objective function #\n",
    "    #############################\n",
    "    @objective(MPC_con, Min, sum(u[kk,:]'*mpc['H']*u[kk,:] + 2*sum(cfT[kk,jj]*u[kk,jj] for jj = 1:m) for kk = 1:p))\n",
    "    # @show MPC_con\n",
    "\n",
    "    #################\n",
    "    # Solve Problem #\n",
    "    #################\n",
    "    optimize!(MPC_con)\n",
    "    \n",
    "    status = termination_status(MPC_con)\n",
    "    #display(status)\n",
    "    \n",
    "    if status == MOI.OPTIMAL || status == MOI.ALMOST_OPTIMAL || status == MOI.LOCALLY_SOLVED\n",
    "        # Proved optimality or Optimal within relaxed tolerances\n",
    "        \n",
    "        #calling values of the solved problem\n",
    "        ϕ = objective_value(MPC_con)\n",
    "        uArray = value.(u)\n",
    "\n",
    "        outputFun = Dict('ϕ' => ϕ,\n",
    "                        'u' => uArray)\n",
    "        \n",
    "        \n",
    "        return outputFun\n",
    "    else\n",
    "        # Handle other cases. Keep previous input\n",
    "        uArray = repeat(uk_1, outer = [1, p]) #CHECK: are dimensions correct? [p,1]\n",
    "        \n",
    "        outputFun = Dict('ϕ' => NaN,\n",
    "                        'u' => uArray)\n",
    "                        \n",
    "        \n",
    "        return outputFun\n",
    "    end\n",
    "end;"
   ]
  },
  {
   "cell_type": "markdown",
   "id": "b783955c",
   "metadata": {},
   "source": [
    "## Monolithic solution (ms)"
   ]
  },
  {
   "cell_type": "code",
   "execution_count": null,
   "id": "87143f73",
   "metadata": {},
   "outputs": [],
   "source": [
    "# time series for plotting\n",
    "xPlant = Array{Float64}(undef,nx,nsim,nMC_imp,2) \n",
    "yPlant = Matrix{Float64}(undef,nsim,nMC_imp,2) \n",
    "uPlant = Matrix{Float64}(undef,nsim,nMC_imp,2) \n",
    "\n",
    "xMPCmodel = Array{Float64}(undef,nx,nsim,nMC_imp,2)\n",
    "yMPCmodel = Matrix{Float64}(undef,nsim,nMC_imp,2) \n",
    "dev_plant_MPCmodel = Matrix{Float64}(undef,nsim,nMC_imp,2) \n",
    "\n",
    "for jj = 1:n_MC\n",
    "    # ramdonly drawing the plant from the previously computed models\n",
    "    plantModelInd = round(Int64, rand(Uniform(1,100)))\n",
    "    \n",
    "    # Plant model\n",
    "    pl = DRTO_matrix(nReac,plantModelInd,100) # all possible plant models can be drawn\n",
    "    \n",
    "    # Initial conditions (deviation form)\n",
    "    x0_MC = repeat([0.3583;0.6418] .- x0, outer = [nR_MC,1])\n",
    "    u0_MC = 1.0 - u0;\n",
    "\n",
    "    # initializing simulation\n",
    "    xpk = x0_MC # plant\n",
    "    ypk = dot(pl['C'],xpk)\n",
    "    uk_1 = u0_MC\n",
    "    \n",
    "    # initial state is known \n",
    "    xmk = x0_MC # model \n",
    "    ymk = dot(mpc['C'],xmk)\n",
    "    dek = ypk - ymk\n",
    "\n",
    "    # RUNNING SIMULATION\n",
    "    for mm = 1:2\n",
    "        for ii = 1:nsim\n",
    "\n",
    "            print(\"MC: \", jj)\n",
    "            println(\">> Time: \",ii)\n",
    "\n",
    "            # updating arrays\n",
    "            xPlant_ms[:,ii,jj,mm] = xpk\n",
    "            yPlant_ms[ii,jj] = ypk\n",
    "            uPlant_ms[ii,jj] = uk_1\n",
    "\n",
    "            xMPCmodel_ms[:,ii,jj] = xmk\n",
    "            yMPCmodel_ms[ii,jj] = ymk\n",
    "            dev_ms[ii,jj] = dek\n",
    "\n",
    "            # executing DRTO\n",
    "            if ii%nDRTO == 0 || ii == 1\n",
    "\n",
    "                global sol_k = MS_CLDRTO(xpk,uk_1,nR_MC,nS_MC,pS_MC,solNominal,opti_MC)\n",
    "\n",
    "                # counter for DRTO executions\n",
    "                global countDRTO = 1;\n",
    "                # N.B. need to declare as global due to loop scope\n",
    "            end\n",
    "\n",
    "            # Preparing controller \n",
    "            # building terms of the OF that depend on current information\n",
    "            yspk = sol_k['s'][countDRTO:(countDRTO + (p - 1)),1] \n",
    "            countDRTO += 1 \n",
    "            # N.B.:\n",
    "            # using first scenario, but any scenario could be used\n",
    "\n",
    "            # solving MPC problem\n",
    "            ukk = ConstMPC(xmk,dek,uk_1,yspk,nR_MC)\n",
    "\n",
    "            # extracting the first input\n",
    "            uk = ukk[1]\n",
    "\n",
    "            # applying input to the plant\n",
    "            xpk = pl['A']*xpk + pl['B']*uk\n",
    "            ypk = dot(pl['C'],xpk)\n",
    "\n",
    "            # applying input to the controller model\n",
    "            xmk = mpc['A']*xmk + mpc['A']*uk\n",
    "            ymk = dot(mpc['C'],xmk)\n",
    "\n",
    "            # computing disturbance model\n",
    "            dek = ypk - ymk\n",
    "\n",
    "                # loop\n",
    "                uk_1 = uk\n",
    "\n",
    "        end # simulation\n",
    "    end # monolithic || decomposed\n",
    "end # MC"
   ]
  },
  {
   "cell_type": "code",
   "execution_count": null,
   "id": "6f41eb7c",
   "metadata": {},
   "outputs": [],
   "source": []
  },
  {
   "cell_type": "code",
   "execution_count": null,
   "id": "b0b4f0de",
   "metadata": {},
   "outputs": [],
   "source": []
  }
 ],
 "metadata": {
  "kernelspec": {
   "display_name": "Julia 1.8.5",
   "language": "julia",
   "name": "julia-1.8"
  },
  "language_info": {
   "file_extension": ".jl",
   "mimetype": "application/julia",
   "name": "julia",
   "version": "1.8.5"
  }
 },
 "nbformat": 4,
 "nbformat_minor": 5
}
