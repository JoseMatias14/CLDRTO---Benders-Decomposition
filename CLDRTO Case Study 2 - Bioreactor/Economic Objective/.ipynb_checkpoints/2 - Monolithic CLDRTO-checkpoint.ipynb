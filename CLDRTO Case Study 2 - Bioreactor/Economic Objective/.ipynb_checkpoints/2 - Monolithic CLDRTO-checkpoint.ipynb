{
 "cells": [
  {
   "cell_type": "markdown",
   "id": "01e02a45",
   "metadata": {},
   "source": [
    "- **This code computes the CLDRTO solution using a scenario-based stochastic programming approach**\n",
    "- using economic objevtive function\n",
    "- The underlying control structure (modeled in the CLDRTO model) is an MPC, which can is solved using three different strategies: 1. unconstrained, 2. constrained using binaries, and 3. constrained using MPCC\n",
    "- The problem is posed as a scenario-based stochastic programming problem\n",
    "- The problem is solved using a monolithic structure, i.e. independently of the number of scenarios or reactors in parallel, everything is solved at once.\n",
    "- The case study is an affine multiple parallel bioreactor system from:*Gao, Ling. \"Modeling and dynamics analyses of immobilized CSTR bioreactor using transfer function model.\" 2012 International Symposium on Information Technologies in Medicine and Education. Vol. 2. IEEE, 2012.*\n",
    "- The uncertainty represented by the scenarios comes from the maximum specific growth rate (V_m) --> see matlab file\n",
    "\n",
    "AUTHOR: Jose Matias <assumpcj@mcmaster.ca>\n",
    "DATE: May 2023"
   ]
  },
  {
   "cell_type": "code",
   "execution_count": 1,
   "id": "2af54dc3",
   "metadata": {},
   "outputs": [],
   "source": [
    "using LinearAlgebra, JuMP, CPLEX, Ipopt, Plots, CSV, DataFrames"
   ]
  },
  {
   "cell_type": "markdown",
   "id": "b2933767",
   "metadata": {},
   "source": [
    "# Bioreactor Model\n",
    "\n",
    "$\\dfrac{d C}{d t} = D (C_{in} - C) - \\dfrac{V_m C}{(K_s + C)} $ <br>\n",
    "$ \\dfrac{d P}{d t} = \\dfrac{V_m C}{(K_s + C)} - DP $ <br>\n",
    "\n",
    "where, <br>\n",
    "$t$: time in hours \\[h\\] <br>\n",
    "$C$: concentration of reactant (substrate) \\[g/L\\] <br>\n",
    "$P$: concentration of product (biomass) \\[g/L\\] <br>\n",
    "$C_{in}$: inlet concentration of substrate \\[g/L\\] <br>\n",
    "$D$: ratio of flowrate to reactor volume \\[1/h\\] <br>\n",
    "$V_m$: maximum reaction rate \\[g/(h L)\\] <br> \n",
    "$K_s$: reaction constant \\[g/L\\] <br>\n",
    "\n",
    "- System measurement ($y$) - product concentration $P$ <br>\n",
    "- System inputs ($u$) - inlet reactant concentration $C_{in}$ <br>\n",
    "- Uncertain parameters ($\\theta$) - maximum reaction rate $V_m$"
   ]
  },
  {
   "cell_type": "code",
   "execution_count": 2,
   "id": "22a74482",
   "metadata": {},
   "outputs": [],
   "source": [
    "# Sampling time\n",
    "T = 1 #[h]\n",
    "# Simulation time in sampling periods\n",
    "nsim = 20\n",
    "\n",
    "# Number of manipulated inputs\n",
    "nu = 1\n",
    "# Number of controlled outputs\n",
    "ny = 1\n",
    "\n",
    "# setting bounds (all arbitrary - not in deviation form!!) \n",
    "uMax = 5.0 # for tight constraints: 1.9 | for loose constraints: 5.0\n",
    "uMin = 0.0;\n",
    "\n",
    "yspMax = 1.2 \n",
    "yspMin = 0.0;"
   ]
  },
  {
   "cell_type": "markdown",
   "id": "4d69be02",
   "metadata": {},
   "source": [
    "# Building CL-DRTO model"
   ]
  },
  {
   "cell_type": "markdown",
   "id": "b763f418",
   "metadata": {},
   "source": [
    "## Model linearization\n",
    "- linearization is done using Matlab's functions ss and c2d (see BioReactorLinearization.m)\n",
    "- sample time $\\Delta t$ is consider as 1h\n",
    "- linearization around point: $V_m = 0.5$ \\[g/(h L)\\], $K_s = 0.2$ \\[g/L\\], $D = 0.5$ \\[1/h\\], $C_{in,0} = 1$ \\[g/L\\], $C_{0} = 0.358$ \\[g/L\\], and $P_{0} = 0.642$ \\[g/L\\]\n",
    "\n",
    "which leads to: <br>\n",
    "$\\bar{x}_{k+1} = A \\bar{x}_k + B \\bar{u}_k$ <br>\n",
    "$\\bar{y}_k = C \\bar{u}_k$\n",
    "\n",
    "where, <br>\n",
    "$\\bar{x} = \\begin{bmatrix}\n",
    "\\bar{C}\\\\\n",
    "\\bar{P}\n",
    "\\end{bmatrix} =\n",
    "\\begin{bmatrix}\n",
    "C - C_0\\\\\n",
    "P - P_0\n",
    "\\end{bmatrix}$<br>\n",
    "$\\bar{u} = \\bar{C}_{in} = C_{in} - C_{in,0}$<br>\n",
    "$\\bar{y} = \\bar{P} = P - P_0$"
   ]
  },
  {
   "cell_type": "code",
   "execution_count": 3,
   "id": "453c740b",
   "metadata": {},
   "outputs": [],
   "source": [
    "# Linearization point\n",
    "u0 = 1.5\n",
    "x0 = [0.7179;0.7821]\n",
    "y0 = 0.7821;"
   ]
  },
  {
   "cell_type": "code",
   "execution_count": 4,
   "id": "73e98a67",
   "metadata": {},
   "outputs": [],
   "source": [
    "# 100 pre-computed models based on parametric uncertainty Vm (computed using matlab: BioReactorLinearization.m)\n",
    "bioModels = CSV.read(\"C:\\\\Users\\\\MACC-Jose\\\\Documents\\\\GitHub\\\\BD\\\\CLDRTO Case Study 2 - Bioreactor\\\\BioreactorModel\", DataFrame; header=false);\n",
    "#print(bioModels)"
   ]
  },
  {
   "cell_type": "markdown",
   "id": "ce86a399",
   "metadata": {},
   "source": [
    "CL-DRTO configuration"
   ]
  },
  {
   "cell_type": "code",
   "execution_count": 5,
   "id": "41fb2ff0",
   "metadata": {},
   "outputs": [],
   "source": [
    "# DRTO sampling time\n",
    "nDRTO = 4 # [h]\n",
    "# Prediction horizon\n",
    "pD = 20 + (8 - 1) # p = 8 *controller horizon\n",
    "# Input control horizon \n",
    "mD = 20\n",
    "# Objective function: target tracking (deviation form)\n",
    "pTrack = 1 - y0 # [g/L]\n",
    "# Soft upper bounds on P weight (deviation form)\n",
    "pUB = 1.05 - y0 # [g/L]\n",
    "# objective function weight for P penalization term \n",
    "wP = 100;"
   ]
  },
  {
   "cell_type": "markdown",
   "id": "1c92041f",
   "metadata": {},
   "source": [
    "DRTO model changes with the number of scenarios and parallel reactors"
   ]
  },
  {
   "cell_type": "code",
   "execution_count": 6,
   "id": "d08bed8d",
   "metadata": {},
   "outputs": [],
   "source": [
    "function DRTO_matrices(nReactors,nScenarios)\n",
    "    ###########\n",
    "    # inputs: #\n",
    "    ###########\n",
    "    # nReactors - number of reactors in parallel\n",
    "    # nScenarios - number of scenarios used in the stochastic optimization\n",
    "    \n",
    "    # picking up indexes equally spaced between 1 and 100 (including initial and end point) \n",
    "    # based on the desired number of scenarios\n",
    "    if nScenarios == 1\n",
    "        indexScen = 50 # nominal model --> index = 50\n",
    "    else\n",
    "        indexScen = [floor(Int, 1 + (ii - 1)*(100-1)/(nScenarios-1)) for ii in 1:nScenarios]\n",
    "    end\n",
    "    \n",
    "    # building DRTO model\n",
    "    A_drto = Array{Float64}(undef,nx,nx,nScenarios) \n",
    "    B_drto = Array{Float64}(undef,nx,nu,nScenarios) \n",
    "\n",
    "    for kk in 1:nScenarios\n",
    "\n",
    "        index_temp = indexScen[kk]\n",
    "\n",
    "        A_drto[:,:,kk] = kron(I(nReactors),Matrix(bioModels[2*(index_temp - 1) + 1:2*(index_temp - 1) + 2,1:2]))\n",
    "        B_drto[:,:,kk] = repeat(bioModels[2*(index_temp - 1) + 1:2*(index_temp - 1) + 2,3], outer = [nReactors, 1, 1])\n",
    "\n",
    "    end\n",
    "\n",
    "    # mapping states to measurements is the same for all models\n",
    "    C_drto = repeat([0 1], outer = [1, nReactors]);\n",
    "    \n",
    "    return Dict('A' => A_drto, 'B' => B_drto, 'C' => C_drto)\n",
    "end;"
   ]
  },
  {
   "cell_type": "markdown",
   "id": "54887087",
   "metadata": {},
   "source": [
    "# Building MPC model"
   ]
  },
  {
   "cell_type": "markdown",
   "id": "a0104237",
   "metadata": {},
   "source": [
    "Controller configuration"
   ]
  },
  {
   "cell_type": "code",
   "execution_count": 7,
   "id": "101fa750",
   "metadata": {},
   "outputs": [],
   "source": [
    "# MPC sampling time\n",
    "nMPC = 1 # [h]\n",
    "\n",
    "# Controller configuration\n",
    "# Output prediction horizon\n",
    "p = 8\n",
    "# Input control horizon \n",
    "m = 2\n",
    "# Output weights\n",
    "q = 1\n",
    "# Input weights \n",
    "r = 1;"
   ]
  },
  {
   "cell_type": "markdown",
   "id": "7278c04e",
   "metadata": {},
   "source": [
    "Notes:\n",
    "- Using nominal model(indexScen = 50)\n",
    "- For the description of how the MPC matrices (with disturbance model) are built, check script: *CLDRTO with unconstrained MPC - uncertain plant test*"
   ]
  },
  {
   "cell_type": "code",
   "execution_count": 8,
   "id": "c6ffaf85",
   "metadata": {},
   "outputs": [],
   "source": [
    "function MPC_matrices(nReactors)\n",
    "    ###########\n",
    "    # inputs: #\n",
    "    ###########\n",
    "    # nReactors - number of reactors in parallel\n",
    "    \n",
    "    # extracting the matrices from the model array computed previously\n",
    "    nNom = 50 # nominal model --> index = 50\n",
    "    \n",
    "    A = kron(I(nReactors),Matrix(bioModels[2*(nNom - 1) + 1:2*(nNom - 1) + 2,1:2])) \n",
    "    B = repeat(bioModels[2*(nNom - 1) + 1:2*(nNom - 1) + 2,3], outer = [nReactors, 1])\n",
    "    C = repeat([0 1], outer = [1, nReactors])\n",
    "    \n",
    "    # adding disturbance model\n",
    "    Ad = [A zeros(nx,ny); zeros(ny,nx) I(ny)]\n",
    "    Bd = [B; zeros(ny,nu)]\n",
    "    Cd = [C ones(ny,ny)]\n",
    "    \n",
    "    # building matrices for MPC\n",
    "    Psi = Cd*Ad\n",
    "    for ii in 2:p\n",
    "        Psi = [Psi;  Cd*Ad^ii]\n",
    "    end\n",
    "\n",
    "    # Computing Dynamic Matrix\n",
    "    a = Cd*Bd\n",
    "    for ii in 2:p\n",
    "        a = [a; Cd*Ad^(ii - 1)*Bd]\n",
    "    end\n",
    "    DynM = a\n",
    "\n",
    "    for ii in 1:(m - 2)\n",
    "        a = [zeros(ny,nu);a[1:(p-1)*ny,:]]\n",
    "        DynM = [DynM  a]\n",
    "    end\n",
    "\n",
    "    # adjusting dynamic matrix for since p > m (last column)\n",
    "    b = Cd*Bd\n",
    "\n",
    "    Ai = I(nx+1) # adding disturbance to the states\n",
    "    for ii = 1:(p - m)\n",
    "        Ai = Ai + Ad^ii\n",
    "        b = [b;Cd*Ai*Bd]\n",
    "    end\n",
    "\n",
    "    Theta=[DynM [zeros(ny*(m-1),nu);b]]\n",
    "    \n",
    "    # Creating Qbar and Rbar matrices\n",
    "    Qbar = Diagonal([q for ii in 1:p])\n",
    "    Rbar = Diagonal([r for ii in 1:m])\n",
    "\n",
    "    # Creating input movement OF penalty matrix \n",
    "    M=[zeros((m-1)*nu,nu) I(nu*(m-1)); zeros(nu) zeros(nu,nu*(m-1))]\n",
    "    Ibar=[I(nu); zeros(nu*(m-1),nu)]\n",
    "    IM = I(nu*m) - M';\n",
    "    \n",
    "    # Matrix H\n",
    "    H = Theta'*Qbar*Theta + IM'*Rbar*IM;\n",
    "    \n",
    "    return Dict('A' => A, 'B' => B, 'C' => C, 'H' => H, 'Θ' => Theta, 'Ψ' => Psi, 'Q' => Qbar, 'I' => Ibar, 'R' => Rbar, 'M' => IM)\n",
    "end;"
   ]
  },
  {
   "cell_type": "markdown",
   "id": "bd717c7a",
   "metadata": {},
   "source": [
    "# CLDRTO Problem"
   ]
  },
  {
   "cell_type": "markdown",
   "id": "9acea8a2",
   "metadata": {},
   "source": [
    "$ \\min_{\\boldsymbol{y}^{SP}} \\quad \\Phi^{ECO}(\\boldsymbol{x},\\boldsymbol{y},\\boldsymbol{u}) $ <br>\n",
    "\n",
    "subjected to: ($k$ represents time and $s$ scenarios) <br>\n",
    "\n",
    "For each scenario ($s = 1,\\ldots,n^{scen}$) <br>\n",
    ">    System dynamics <br>\n",
    ">    $\\boldsymbol{x}_{k + 1,s} = A\\boldsymbol{x}_{k,s} + B_s\\boldsymbol{u}_{k,s} $ <br>\n",
    ">    $\\boldsymbol{y}_{k,s} = C\\boldsymbol{x}_{k,s}$\n",
    "\n",
    ">    CL-DRTO control horizon: constraints fixing inputs after horizon ends <br>\n",
    ">    $\\boldsymbol{u}_{k,s} - \\boldsymbol{u}_{k - 1,s} = 0, \\quad k = m^{DRTO} + 1,\\ldots,p^{DRTO}$\n",
    "\n",
    ">    Product quality target band <br>\n",
    ">    $\\boldsymbol{y}_{k,s} + \\boldsymbol{\\delta}^p_{k,s} \\geq \\boldsymbol{y}_{target,lb}$ <br>\n",
    ">    $\\boldsymbol{y}_{k,s} - \\boldsymbol{\\delta}^m_{k,s} \\leq \\boldsymbol{y}_{target,ub}$\n",
    "\n",
    ">    MPC Problem <br>\n",
    ">    $\\boldsymbol{u}_{k,s} = f_{MPC}(\\boldsymbol{x}_{k,s},\\boldsymbol{y}_{k,s},\\boldsymbol{u}_{k-1,s})$       \n",
    "\n",
    "Non-antecipativity constraints <br>\n",
    "$\\boldsymbol{y}^{SP}_{k,s} = \\boldsymbol{y}^{SP}_{k,S}, \\quad k = 1,\\ldots,\\Delta t_{DRTO} \\ \\quad s = 1,\\ldots,S - 1,S + 1,\\ldots,n^{scen}$\n",
    "\n",
    "Variable bounds <br>\n",
    "$\\forall k, \\forall s \\quad \\boldsymbol{x}_{k,s} \\in \\mathcal{X}, \\ \\boldsymbol{u}_{k,s} \\in \\mathcal{U}, \\ \\boldsymbol{y}_{k,s} \\in \\mathcal{Y}, \\ \\boldsymbol{y}^{SP}_{k,s} \\in \\mathcal{Y}^{SP}$\n",
    "\n"
   ]
  },
  {
   "cell_type": "markdown",
   "id": "1c93737e",
   "metadata": {},
   "source": [
    "## Connection between DRTO and MPC layers (inside CLDRTO formulation)"
   ]
  },
  {
   "cell_type": "markdown",
   "id": "92e7dd6c",
   "metadata": {},
   "source": [
    "for one scenario:"
   ]
  },
  {
   "attachments": {
    "image-3.png": {
     "image/png": "[encoded data removed]"
    }
   },
   "cell_type": "markdown",
   "id": "20155ad9",
   "metadata": {},
   "source": [
    "![image-3.png](attachment:image-3.png)"
   ]
  },
  {
   "cell_type": "markdown",
   "id": "d842630b",
   "metadata": {},
   "source": [
    "## Nonantecipativity constraints"
   ]
  },
  {
   "attachments": {
    "image-2.png": {
     "image/png": "[encoded data removed]"
    }
   },
   "cell_type": "markdown",
   "id": "990b09eb",
   "metadata": {},
   "source": [
    "![image-2.png](attachment:image-2.png)"
   ]
  },
  {
   "cell_type": "markdown",
   "id": "ce5afc6a",
   "metadata": {},
   "source": [
    "## Soft constraint on y / P"
   ]
  },
  {
   "attachments": {
    "image-2.png": {
     "image/png": "[encoded data removed]"
    }
   },
   "cell_type": "markdown",
   "id": "db5cf11a",
   "metadata": {},
   "source": [
    "![image-2.png](attachment:image-2.png)"
   ]
  },
  {
   "cell_type": "markdown",
   "id": "6869d373",
   "metadata": {},
   "source": [
    "# Solving CL-DRTO Multiscenario Problem (monolithic)"
   ]
  },
  {
   "cell_type": "code",
   "execution_count": 9,
   "id": "cc4aadd4",
   "metadata": {},
   "outputs": [],
   "source": [
    "# Parameters for MPC solution\n",
    "# matrix to compute the gradients of the input bound constraints\n",
    "conMatrix = [I(m); -I(m)]; \n",
    "\n",
    "# big-M implementation\n",
    "bigM_mu = 1000\n",
    "bigM_u = 100\n",
    "\n",
    "# weight complementarity relaxation OF term\n",
    "pi_bar = 10^3;"
   ]
  },
  {
   "cell_type": "code",
   "execution_count": 10,
   "id": "757ad6e4",
   "metadata": {},
   "outputs": [],
   "source": [
    "## Modeling the sub problem (scenario) -- modeling inside a function\n",
    "function MS_CLDRTO(xInit,uInit,nReac,nScen,pScen,solNom,option)\n",
    "    ###########\n",
    "    # inputs: #\n",
    "    ###########\n",
    "    # xInit - states at the current iteration (beginning of DRTO horizon)\n",
    "    # uInit - inputs at the current iteration, already implemented on the plant\n",
    "    # nReac - number of parallel reactors\n",
    "    # nScen - number of scenarios used in the problem (only one branching)\n",
    "    # pScen - probability of the scenarios\n",
    "    # solNom - nominal solution\n",
    "    # option - strategy for solving MPC\n",
    "\n",
    "    # Creating MPC matrices\n",
    "    mpc = MPC_matrices(nReac)\n",
    "    \n",
    "    # Creating DRTO matrices\n",
    "    drto = DRTO_matrices(nReac,nScen)\n",
    "    \n",
    "    # Define model\n",
    "    if option == 3 || option == 1\n",
    "        model_ms = Model(Ipopt.Optimizer)\n",
    "        set_optimizer_attribute(model_ms, \"max_cpu_time\", 300.0) # 5 min\n",
    "    else \n",
    "        model_ms = Model(CPLEX.Optimizer)\n",
    "        set_optimizer_attribute(model_ms, \"CPX_PARAM_TILIM\", 300.0) # 5 min\n",
    "    end\n",
    "    set_silent(model_ms)\n",
    "    \n",
    "    ####################\n",
    "    # Set up variables #\n",
    "    ####################\n",
    "    # DRTO model variables\n",
    "    @variable(model_ms, xDRTO[1:pD,1:nx,1:nScen])\n",
    "    @variable(model_ms, yDRTO[1:pD,1:nScen])\n",
    "    \n",
    "    # MPC model variables\n",
    "    @variable(model_ms, xMPC[1:pD,1:nx,1:nScen])\n",
    "    @variable(model_ms, yMPC[1:pD,1:nScen])\n",
    "    \n",
    "    # MPC <-> DRTO model deviation\n",
    "    @variable(model_ms, de[1:pD,1:nScen])\n",
    "    \n",
    "    # inputs computed by MPCs\n",
    "    @variable(model_ms, u[1:pD,1:m,1:nScen])\n",
    "    if option == 1\n",
    "        @variable(model_ms, u_w_c[1:pD,1:m,1:nScen]) # inputs w/o clipping\n",
    "    \n",
    "        # input clipping \n",
    "        @variable(model_ms, mu_lb[1:pD,1:m,1:nScen] ≥ 0)\n",
    "        @variable(model_ms, eta_lb[1:pD,1:m,1:nScen] ≥ 0)\n",
    "        @variable(model_ms, mu_ub[1:pD,1:m,1:nScen] ≥ 0)\n",
    "        @variable(model_ms, eta_ub[1:pD,1:m,1:nScen] ≥ 0)       \n",
    "    end\n",
    "    \n",
    "    # setpoints for the controllers sent to the plant (CL-DRTO degrees of freedom)\n",
    "    @variable(model_ms, (yspMin - y0) ≤ ysp[1:pD,1:nScen] ≤ (yspMax - y0))\n",
    "    \n",
    "    # slacks for P soft constraint\n",
    "    @variable(model_ms, delta_p[1:pD,1:nScen] ≥ 0)\n",
    "    \n",
    "    if option == 2 || option == 3\n",
    "        @variable(model_ms, mu_g[1:mD,1:(2*m),1:nScen] ≥ 0) # upper and lower bounds for each input\n",
    "    end\n",
    "    if option == 2\n",
    "        @variable(model_ms, Y_lb[1:mD,1:m,1:nScen], Bin, start = 0) # Binaries for big-M implementation\n",
    "        @variable(model_ms, Y_ub[1:mD,1:m,1:nScen], Bin, start = 0) \n",
    "    end\n",
    "    \n",
    "    ########################\n",
    "    # Set up initial guess #\n",
    "    ########################\n",
    "    if solNom isa Dict\n",
    "        for ss in 1:nScen\n",
    "            for ii in 1:pD\n",
    "                set_start_value(yDRTO[ii,ss], solNom['y'][ii,1]) \n",
    "                set_start_value(yMPC[ii,ss], solNom['c'][ii,1])\n",
    "                set_start_value(ysp[ii,ss], solNom['s'][ii,1])\n",
    "\n",
    "                for rr in 1:nReac # when nReac increases, the number of states change!\n",
    "                    for xx in 1:2 # N.B. nx/reactor is hardcoded here... (maybe use nx/reactor as a function input) \n",
    "                        set_start_value(xDRTO[ii,xx + (rr - 1)*2,ss], solNom['x'][ii,xx,1])    \n",
    "                        set_start_value(xMPC[ii,xx + (rr - 1)*2,ss], solNom['m'][ii,xx,1])           \n",
    "                    end # end xx\n",
    "                end # number \n",
    "                \n",
    "                for uu in 1:m\n",
    "                    set_start_value(u[ii,uu,ss], solNom['u'][ii,uu,1])\n",
    "                end # end of uu\n",
    "            end # eend of ii\n",
    "        end # end of ss\n",
    "    end # end of if\n",
    "    \n",
    "    ######################################\n",
    "    # Set up constraints and expressions #\n",
    "    ######################################\n",
    "    # Model Dynamic for Dynamic RTO\n",
    "    @constraint(model_ms, CLDRTO_dyn_model_1[ss=1:nScen], xDRTO[1,:,ss] .== drto['A'][:,:,ss]*xInit + drto['B'][:,:,ss]*uInit)\n",
    "    @constraint(model_ms, CLDRTO_dyn_model[kk=1:(pD - 1),ss=1:nScen], xDRTO[kk + 1,:,ss] .== drto['A'][:,:,ss]*xDRTO[kk,:,ss] + drto['B'][:,:,ss]*u[kk,1,ss])\n",
    "    @constraint(model_ms, CLDRTO_model_out[kk=1:pD,ss=1:nScen], yDRTO[kk,ss] == dot(drto['C'],xDRTO[kk,:,ss]))\n",
    "    \n",
    "    # fixing setpoint changes after mD\n",
    "    @constraint(model_ms, control_horizon[kk=(mD+1):pD,ss=1:nScen], u[kk,1,ss] .== u[mD,1,ss])\n",
    "    \n",
    "    # P soft constraints\n",
    "    @constraint(model_ms, soft_P[kk=1:pD,ss=1:nScen], yDRTO[kk,ss] - delta_p[kk,ss] ≤ pUB)\n",
    "    \n",
    "    # nonanticipativity constraints\n",
    "    @constraint(model_ms, nonAnt[kk=1:nDRTO,ss=2:nScen], ysp[kk,1] - ysp[kk,ss] == 0.0);\n",
    "    \n",
    "    ################\n",
    "    # MPC solution #\n",
    "    ################\n",
    "\n",
    "    if option == 1\n",
    "        # Model Dynamic for Controller\n",
    "        @constraint(model_ms, MPC_dyn_model_1[ss=1:nScen], xMPC[1,:,ss] .== mpc['A']*xInit + mpc['B']*uInit)\n",
    "        @constraint(model_ms, MPC_dyn_model[kk=1:(pD - 1),ss=1:nScen], xMPC[kk + 1,:,ss] .== mpc['A']*xMPC[kk,:,ss] + mpc['B']*u_w_c[kk,1,ss])\n",
    "        @constraint(model_ms, MPC_model_out[kk=1:pD,ss=1:nScen], yMPC[kk,ss] == dot(mpc['C'],xMPC[kk,:,ss]))\n",
    "\n",
    "        #  Model deviation\n",
    "        @constraint(model_ms, MPC_model_dev[kk=1:pD,ss=1:nScen], de[kk,ss] == yDRTO[kk,ss] - yMPC[kk,ss])\n",
    "        \n",
    "        @expression(model_ms, cfT_1[ss=1:nScen], (mpc['Ψ']*[xMPC[1,:,ss];de[1,ss]] - ysp[1:p,ss])'*mpc['Q']*mpc['Θ'] - uInit'*mpc['I']'*mpc['R']*mpc['M'])\n",
    "        @expression(model_ms, cfT[kk=2:mD,ss=1:nScen], (mpc['Ψ']*[xMPC[kk,:,ss];de[kk,ss]] - ysp[kk:(kk + p - 1),ss])'*mpc['Q']*mpc['Θ'] - u_w_c[kk-1,1,ss]'*mpc['I']'*mpc['R']*mpc['M'])\n",
    "        \n",
    "        # Unconstrained MPC solution  \n",
    "        @constraint(model_ms, MPC_sol_1[ss=1:nScen], mpc['H']*u_w_c[1,:,ss] + cfT_1[ss]' .== 0)\n",
    "        @constraint(model_ms, MPC_sol[kk=2:mD,ss=1:nScen], mpc['H']*u_w_c[kk,:,ss] + cfT[kk,ss]' .== 0)\n",
    "        \n",
    "        # input clipping\n",
    "        @constraint(model_ms, ic_1[kk = 1:mD,uu = 1:m,ss = 1:nScen], u[kk,uu,ss] == u_w_c[kk,uu,ss] - mu_ub[kk,uu,ss] + mu_lb[kk,uu,ss])\n",
    "        @constraint(model_ms, ic_2[kk = 1:mD,uu = 1:m,ss = 1:nScen], (uMax - u0) - u[kk,uu,ss] == eta_ub[kk,uu,ss])\n",
    "        @constraint(model_ms, ic_3[kk = 1:mD,uu = 1:m,ss = 1:nScen], eta_ub[kk,uu,ss]*mu_ub[kk,uu,ss] ≤ 1e-6)\n",
    "        @constraint(model_ms, ic_4[kk = 1:mD,uu = 1:m,ss = 1:nScen], u[kk,uu,ss] - (uMin - u0) == eta_lb[kk,uu,ss])\n",
    "        @constraint(model_ms, ic_5[kk = 1:mD,uu = 1:m,ss = 1:nScen], eta_lb[kk,uu,ss]*mu_lb[kk,uu,ss] ≤ 1e-6)\n",
    "        \n",
    "    elseif option == 2\n",
    "        # Model Dynamic for Controller\n",
    "        @constraint(model_ms, MPC_dyn_model_1[ss=1:nScen], xMPC[1,:,ss] .== mpc['A']*xInit + mpc['B']*uInit)\n",
    "        @constraint(model_ms, MPC_dyn_model[kk=1:(pD - 1),ss=1:nScen], xMPC[kk + 1,:,ss] .== mpc['A']*xMPC[kk,:,ss] + mpc['B']*u[kk,1,ss])\n",
    "        @constraint(model_ms, MPC_model_out[kk=1:pD,ss=1:nScen], yMPC[kk,ss] == dot(mpc['C'],xMPC[kk,:,ss]))\n",
    "\n",
    "        #  Model deviation\n",
    "        @constraint(model_ms, MPC_model_dev[kk=1:pD,ss=1:nScen], de[kk,ss] == yDRTO[kk,ss] - yMPC[kk,ss])\n",
    "        \n",
    "        @expression(model_ms, cfT_1[ss=1:nScen], (mpc['Ψ']*[xMPC[1,:,ss];de[1,ss]] - ysp[1:p,ss])'*mpc['Q']*mpc['Θ'] - uInit'*mpc['I']'*mpc['R']*mpc['M'])\n",
    "        @expression(model_ms, cfT[kk=2:mD,ss=1:nScen], (mpc['Ψ']*[xMPC[kk,:,ss];de[kk,ss]] - ysp[kk:(kk + p - 1),ss])'*mpc['Q']*mpc['Θ'] - u[kk-1,1,ss]'*mpc['I']'*mpc['R']*mpc['M'])\n",
    "\n",
    "        # Constrained with binaries\n",
    "        # 1. stationarity\n",
    "        @constraint(model_ms, MPC_sol_1[ss=1:nScen], u[1,:,ss]'*mpc['H'] + cfT_1[ss] +  mu_g[1,:,ss]'*conMatrix .== 0)\n",
    "        @constraint(model_ms, MPC_sol[kk=2:mD,ss=1:nScen], u[kk,:,ss]'*mpc['H'] + cfT[kk,ss] + mu_g[kk,:,ss]'*conMatrix .== 0)\n",
    "\n",
    "        # 2. primal feasibility\n",
    "        @constraint(model_ms, g_u_u[kk=1:mD,uu=1:m,ss=1:nScen], u[kk,uu,ss] - (uMax - u0) ≤ 0)\n",
    "        @constraint(model_ms, g_u_l[kk=1:mD,uu=1:m,ss=1:nScen], (uMin - u0) - u[kk,uu,ss] ≤ 0)\n",
    "    \n",
    "        # 3. complementarity --> using big-M implementation\n",
    "        @constraint(model_ms, bigM_1[kk=1:mD,uu=1:m,ss=1:nScen], mu_g[kk,uu,ss] ≤ bigM_mu*Y_ub[kk,uu,ss])\n",
    "        @constraint(model_ms, bigM_2[kk=1:mD,uu=1:m,ss=1:nScen], mu_g[kk,uu + m,ss] ≤ bigM_mu*Y_lb[kk,uu,ss])\n",
    "        @constraint(model_ms, bigM_3[kk=1:mD,uu=1:m,ss=1:nScen], u[kk,uu,ss] - (uMax - u0) ≥ -bigM_u*(1 - Y_ub[kk,uu,ss]))\n",
    "        @constraint(model_ms, bigM_4[kk=1:mD,uu=1:m,ss=1:nScen], (uMin - u0) - u[kk,uu,ss] ≥ -bigM_u*(1 - Y_lb[kk,uu,ss]))\n",
    "        \n",
    "        @constraint(model_ms, compSlack[kk=1:mD,uu=1:m,ss=1:nScen], Y_ub[kk,uu,ss] + Y_lb[kk,uu,ss] ≤ 1)\n",
    "    \n",
    "    elseif option == 3\n",
    "        # Model Dynamic for Controller\n",
    "        @constraint(model_ms, MPC_dyn_model_1[ss=1:nScen], xMPC[1,:,ss] .== mpc['A']*xInit + mpc['B']*uInit)\n",
    "        @constraint(model_ms, MPC_dyn_model[kk=1:(pD - 1),ss=1:nScen], xMPC[kk + 1,:,ss] .== mpc['A']*xMPC[kk,:,ss] + mpc['B']*u[kk,1,ss])\n",
    "        @constraint(model_ms, MPC_model_out[kk=1:pD,ss=1:nScen], yMPC[kk,ss] == dot(mpc['C'],xMPC[kk,:,ss]))\n",
    "\n",
    "        #  Model deviation\n",
    "        @constraint(model_ms, MPC_model_dev[kk=1:pD,ss=1:nScen], de[kk,ss] == yDRTO[kk,ss] - yMPC[kk,ss])\n",
    "\n",
    "        @expression(model_ms, cfT_1[ss=1:nScen], (mpc['Ψ']*[xMPC[1,:,ss];de[1,ss]] - ysp[1:p,ss])'*mpc['Q']*mpc['Θ'] - uInit'*mpc['I']'*mpc['R']*mpc['M'])\n",
    "        @expression(model_ms, cfT[kk=2:mD,ss=1:nScen], (mpc['Ψ']*[xMPC[kk,:,ss];de[kk,ss]] - ysp[kk:(kk + p - 1),ss])'*mpc['Q']*mpc['Θ'] - u[kk-1,1,ss]'*mpc['I']'*mpc['R']*mpc['M'])\n",
    "\n",
    "        # Constrained with MPCC\n",
    "        # 1. stationarity\n",
    "        @constraint(model_ms, MPC_sol_1[ss=1:nScen], u[1,:,ss]'*mpc['H'] + cfT_1[ss] +  mu_g[1,:,ss]'*conMatrix .== 0)\n",
    "        @constraint(model_ms, MPC_sol[kk=2:mD,ss=1:nScen], u[kk,:,ss]'*mpc['H'] + cfT[kk,ss] + mu_g[kk,:,ss]'*conMatrix .== 0)\n",
    "\n",
    "        # 2. primal feasibility\n",
    "        @expression(model_ms, g_u_u[kk=1:mD,uu=1:m,ss=1:nScen], u[kk,uu,ss] - (uMax - u0))\n",
    "        @expression(model_ms, g_u_l[kk=1:mD,uu=1:m,ss=1:nScen], (uMin - u0) - u[kk,uu,ss])\n",
    "        \n",
    "        @constraint(model_ms, MPC_c_upper[kk=1:mD,uu=1:m,ss=1:nScen], g_u_u[kk,uu,ss] ≤ 0)\n",
    "        @constraint(model_ms, MPC_c_lower[kk=1:mD,uu=1:m,ss=1:nScen], g_u_l[kk,uu,ss] ≤ 0)\n",
    "        \n",
    "    end\n",
    "        \n",
    "    #############################\n",
    "    # Set up objective function #\n",
    "    #############################\n",
    "    if option == 1 || option == 2\n",
    "        @objective(model_ms, Min, \n",
    "            pScen*sum(-yDRTO[kk,ss] + wP*delta_p[kk,ss]^2 for kk in 1:pD, ss in 1:nScen)\n",
    "        )\n",
    "    else\n",
    "        @objective(model_ms, Min, pScen*sum(-yDRTO[kk,ss] + wP*delta_p[kk,ss]^2 for kk in 1:pD, ss in 1:nScen)\n",
    "                                - pScen*pi_bar*sum(\n",
    "                                                sum(mu_g[kk,jj,ss]*g_u_u[kk,jj,ss] for jj = 1:m) +\n",
    "                                                sum(mu_g[kk,jj + m,ss]*g_u_l[kk,jj,ss] for jj = 1:m)\n",
    "                                                for kk = 1:mD, ss in 1:nScen)\n",
    "        )\n",
    "    end\n",
    "    # @show model_ms\n",
    "\n",
    "    #################\n",
    "    # Solve Problem #\n",
    "    #################\n",
    "    optimize!(model_ms)\n",
    "    \n",
    "    status = termination_status(model_ms)\n",
    "    #display(status)\n",
    "    \n",
    "    if status == MOI.OPTIMAL || status == MOI.ALMOST_OPTIMAL || status == MOI.LOCALLY_SOLVED\n",
    "        # Proved optimality or Optimal within relaxed tolerances\n",
    "        # solution time\n",
    "        timeSol = solve_time(model_ms)\n",
    "\n",
    "        flag = 1\n",
    "        # #primal_status(m)\n",
    "\n",
    "        #calling values of the solved problem\n",
    "        ϕ = objective_value(model_ms)\n",
    "        uArray = value.(u)\n",
    "        yspArray = value.(ysp)\n",
    "        yDRTOArray = value.(yDRTO)\n",
    "        yMPCArray = value.(yMPC)\n",
    "        xDRTOArray = value.(xDRTO)\n",
    "        xMPCArray = value.(xMPC)\n",
    "\n",
    "        outputFun = Dict('ϕ' => ϕ,\n",
    "                        't' => timeSol,\n",
    "                        'f' => flag, \n",
    "                        'u' => uArray,\n",
    "                        's' => yspArray,\n",
    "                        'x' => xDRTOArray,\n",
    "                        'y' => yDRTOArray, \n",
    "                        'm' => xMPCArray,\n",
    "                        'c' => yMPCArray)\n",
    "        \n",
    "        if option == 2 || option == 3\n",
    "            muArray = value.(mu_g)\n",
    "            merge!(outputFun,Dict('μ'=> muArray))\n",
    "        end\n",
    "        \n",
    "        return outputFun\n",
    "    else\n",
    "        # Handle other cases.\n",
    "        flag = 0\n",
    "        \n",
    "        return flag\n",
    "    end\n",
    "end;"
   ]
  },
  {
   "cell_type": "markdown",
   "id": "bfd1e7ad",
   "metadata": {},
   "source": [
    "Computing nominal solution"
   ]
  },
  {
   "cell_type": "code",
   "execution_count": 11,
   "id": "58f128a3",
   "metadata": {},
   "outputs": [
    {
     "name": "stdout",
     "output_type": "stream",
     "text": [
      "\n",
      "******************************************************************************\n",
      "This program contains Ipopt, a library for large-scale nonlinear optimization.\n",
      " Ipopt is released as open source code under the Eclipse Public License (EPL).\n",
      "         For more information visit https://github.com/coin-or/Ipopt\n",
      "******************************************************************************\n",
      "\n"
     ]
    }
   ],
   "source": [
    "#number of scenarios \n",
    "scenNom = 1\n",
    "#equiprobable scenarios\n",
    "pNom = 1.0\n",
    "#number of reactors \n",
    "reacNom = 1\n",
    "# number of states of the nominal solution\n",
    "nx = 2*reacNom\n",
    "# MPC solution option\n",
    "optNom = 1 # unconstrained\n",
    "\n",
    "solNominal = MS_CLDRTO(x0,u0,reacNom,scenNom,pNom,0,optNom);"
   ]
  },
  {
   "cell_type": "markdown",
   "id": "9af85077",
   "metadata": {},
   "source": [
    "# Checking the performance of the methods in terms of time vs. nScen"
   ]
  },
  {
   "cell_type": "code",
   "execution_count": 12,
   "id": "d6559ac9",
   "metadata": {},
   "outputs": [
    {
     "data": {
      "text/plain": [
       "\"evaluation 1 scenarios | option 1\""
      ]
     },
     "metadata": {},
     "output_type": "display_data"
    },
    {
     "data": {
      "text/plain": [
       "\"evaluation 2 scenarios | option 1\""
      ]
     },
     "metadata": {},
     "output_type": "display_data"
    },
    {
     "data": {
      "text/plain": [
       "\"evaluation 3 scenarios | option 1\""
      ]
     },
     "metadata": {},
     "output_type": "display_data"
    },
    {
     "data": {
      "text/plain": [
       "\"evaluation 4 scenarios | option 1\""
      ]
     },
     "metadata": {},
     "output_type": "display_data"
    },
    {
     "data": {
      "text/plain": [
       "\"evaluation 5 scenarios | option 1\""
      ]
     },
     "metadata": {},
     "output_type": "display_data"
    },
    {
     "data": {
      "text/plain": [
       "\"evaluation 6 scenarios | option 1\""
      ]
     },
     "metadata": {},
     "output_type": "display_data"
    },
    {
     "data": {
      "text/plain": [
       "\"evaluation 7 scenarios | option 1\""
      ]
     },
     "metadata": {},
     "output_type": "display_data"
    },
    {
     "data": {
      "text/plain": [
       "\"evaluation 8 scenarios | option 1\""
      ]
     },
     "metadata": {},
     "output_type": "display_data"
    },
    {
     "data": {
      "text/plain": [
       "\"evaluation 9 scenarios | option 1\""
      ]
     },
     "metadata": {},
     "output_type": "display_data"
    },
    {
     "data": {
      "text/plain": [
       "\"evaluation 10 scenarios | option 1\""
      ]
     },
     "metadata": {},
     "output_type": "display_data"
    },
    {
     "data": {
      "text/plain": [
       "\"evaluation 11 scenarios | option 1\""
      ]
     },
     "metadata": {},
     "output_type": "display_data"
    },
    {
     "data": {
      "text/plain": [
       "\"evaluation 12 scenarios | option 1\""
      ]
     },
     "metadata": {},
     "output_type": "display_data"
    },
    {
     "data": {
      "text/plain": [
       "\"evaluation 13 scenarios | option 1\""
      ]
     },
     "metadata": {},
     "output_type": "display_data"
    },
    {
     "data": {
      "text/plain": [
       "\"evaluation 14 scenarios | option 1\""
      ]
     },
     "metadata": {},
     "output_type": "display_data"
    },
    {
     "data": {
      "text/plain": [
       "\"evaluation 15 scenarios | option 1\""
      ]
     },
     "metadata": {},
     "output_type": "display_data"
    },
    {
     "data": {
      "text/plain": [
       "\"evaluation 16 scenarios | option 1\""
      ]
     },
     "metadata": {},
     "output_type": "display_data"
    },
    {
     "data": {
      "text/plain": [
       "\"evaluation 17 scenarios | option 1\""
      ]
     },
     "metadata": {},
     "output_type": "display_data"
    },
    {
     "data": {
      "text/plain": [
       "\"evaluation 18 scenarios | option 1\""
      ]
     },
     "metadata": {},
     "output_type": "display_data"
    },
    {
     "data": {
      "text/plain": [
       "\"evaluation 19 scenarios | option 1\""
      ]
     },
     "metadata": {},
     "output_type": "display_data"
    },
    {
     "data": {
      "text/plain": [
       "\"evaluation 20 scenarios | option 1\""
      ]
     },
     "metadata": {},
     "output_type": "display_data"
    },
    {
     "data": {
      "text/plain": [
       "\"evaluation 21 scenarios | option 1\""
      ]
     },
     "metadata": {},
     "output_type": "display_data"
    },
    {
     "data": {
      "text/plain": [
       "\"evaluation 22 scenarios | option 1\""
      ]
     },
     "metadata": {},
     "output_type": "display_data"
    },
    {
     "data": {
      "text/plain": [
       "\"evaluation 23 scenarios | option 1\""
      ]
     },
     "metadata": {},
     "output_type": "display_data"
    },
    {
     "data": {
      "text/plain": [
       "\"evaluation 24 scenarios | option 1\""
      ]
     },
     "metadata": {},
     "output_type": "display_data"
    },
    {
     "data": {
      "text/plain": [
       "\"evaluation 25 scenarios | option 1\""
      ]
     },
     "metadata": {},
     "output_type": "display_data"
    },
    {
     "data": {
      "text/plain": [
       "\"evaluation 26 scenarios | option 1\""
      ]
     },
     "metadata": {},
     "output_type": "display_data"
    },
    {
     "data": {
      "text/plain": [
       "\"evaluation 27 scenarios | option 1\""
      ]
     },
     "metadata": {},
     "output_type": "display_data"
    },
    {
     "data": {
      "text/plain": [
       "\"evaluation 28 scenarios | option 1\""
      ]
     },
     "metadata": {},
     "output_type": "display_data"
    },
    {
     "data": {
      "text/plain": [
       "\"evaluation 29 scenarios | option 1\""
      ]
     },
     "metadata": {},
     "output_type": "display_data"
    },
    {
     "data": {
      "text/plain": [
       "\"evaluation 30 scenarios | option 1\""
      ]
     },
     "metadata": {},
     "output_type": "display_data"
    },
    {
     "data": {
      "text/plain": [
       "\"evaluation 31 scenarios | option 1\""
      ]
     },
     "metadata": {},
     "output_type": "display_data"
    },
    {
     "data": {
      "text/plain": [
       "\"evaluation 32 scenarios | option 1\""
      ]
     },
     "metadata": {},
     "output_type": "display_data"
    },
    {
     "data": {
      "text/plain": [
       "\"evaluation 33 scenarios | option 1\""
      ]
     },
     "metadata": {},
     "output_type": "display_data"
    },
    {
     "data": {
      "text/plain": [
       "\"evaluation 34 scenarios | option 1\""
      ]
     },
     "metadata": {},
     "output_type": "display_data"
    },
    {
     "data": {
      "text/plain": [
       "\"evaluation 35 scenarios | option 1\""
      ]
     },
     "metadata": {},
     "output_type": "display_data"
    },
    {
     "data": {
      "text/plain": [
       "\"evaluation 36 scenarios | option 1\""
      ]
     },
     "metadata": {},
     "output_type": "display_data"
    },
    {
     "data": {
      "text/plain": [
       "\"evaluation 37 scenarios | option 1\""
      ]
     },
     "metadata": {},
     "output_type": "display_data"
    },
    {
     "data": {
      "text/plain": [
       "\"evaluation 38 scenarios | option 1\""
      ]
     },
     "metadata": {},
     "output_type": "display_data"
    },
    {
     "data": {
      "text/plain": [
       "\"evaluation 39 scenarios | option 1\""
      ]
     },
     "metadata": {},
     "output_type": "display_data"
    },
    {
     "data": {
      "text/plain": [
       "\"evaluation 40 scenarios | option 1\""
      ]
     },
     "metadata": {},
     "output_type": "display_data"
    },
    {
     "data": {
      "text/plain": [
       "\"evaluation 41 scenarios | option 1\""
      ]
     },
     "metadata": {},
     "output_type": "display_data"
    },
    {
     "data": {
      "text/plain": [
       "\"evaluation 42 scenarios | option 1\""
      ]
     },
     "metadata": {},
     "output_type": "display_data"
    },
    {
     "data": {
      "text/plain": [
       "\"evaluation 43 scenarios | option 1\""
      ]
     },
     "metadata": {},
     "output_type": "display_data"
    },
    {
     "data": {
      "text/plain": [
       "\"evaluation 44 scenarios | option 1\""
      ]
     },
     "metadata": {},
     "output_type": "display_data"
    },
    {
     "data": {
      "text/plain": [
       "\"evaluation 45 scenarios | option 1\""
      ]
     },
     "metadata": {},
     "output_type": "display_data"
    },
    {
     "data": {
      "text/plain": [
       "\"evaluation 46 scenarios | option 1\""
      ]
     },
     "metadata": {},
     "output_type": "display_data"
    },
    {
     "data": {
      "text/plain": [
       "\"evaluation 47 scenarios | option 1\""
      ]
     },
     "metadata": {},
     "output_type": "display_data"
    },
    {
     "data": {
      "text/plain": [
       "\"evaluation 48 scenarios | option 1\""
      ]
     },
     "metadata": {},
     "output_type": "display_data"
    },
    {
     "data": {
      "text/plain": [
       "\"evaluation 49 scenarios | option 1\""
      ]
     },
     "metadata": {},
     "output_type": "display_data"
    },
    {
     "data": {
      "text/plain": [
       "\"evaluation 50 scenarios | option 1\""
      ]
     },
     "metadata": {},
     "output_type": "display_data"
    },
    {
     "data": {
      "text/plain": [
       "\"evaluation 1 scenarios | option 2\""
      ]
     },
     "metadata": {},
     "output_type": "display_data"
    },
    {
     "data": {
      "text/plain": [
       "\"evaluation 2 scenarios | option 2\""
      ]
     },
     "metadata": {},
     "output_type": "display_data"
    },
    {
     "data": {
      "text/plain": [
       "\"evaluation 3 scenarios | option 2\""
      ]
     },
     "metadata": {},
     "output_type": "display_data"
    },
    {
     "data": {
      "text/plain": [
       "\"evaluation 4 scenarios | option 2\""
      ]
     },
     "metadata": {},
     "output_type": "display_data"
    },
    {
     "data": {
      "text/plain": [
       "\"evaluation 5 scenarios | option 2\""
      ]
     },
     "metadata": {},
     "output_type": "display_data"
    },
    {
     "data": {
      "text/plain": [
       "\"evaluation 6 scenarios | option 2\""
      ]
     },
     "metadata": {},
     "output_type": "display_data"
    },
    {
     "data": {
      "text/plain": [
       "\"evaluation 7 scenarios | option 2\""
      ]
     },
     "metadata": {},
     "output_type": "display_data"
    },
    {
     "data": {
      "text/plain": [
       "\"evaluation 8 scenarios | option 2\""
      ]
     },
     "metadata": {},
     "output_type": "display_data"
    },
    {
     "data": {
      "text/plain": [
       "\"evaluation 9 scenarios | option 2\""
      ]
     },
     "metadata": {},
     "output_type": "display_data"
    },
    {
     "data": {
      "text/plain": [
       "\"evaluation 10 scenarios | option 2\""
      ]
     },
     "metadata": {},
     "output_type": "display_data"
    },
    {
     "data": {
      "text/plain": [
       "\"evaluation 11 scenarios | option 2\""
      ]
     },
     "metadata": {},
     "output_type": "display_data"
    },
    {
     "data": {
      "text/plain": [
       "\"evaluation 12 scenarios | option 2\""
      ]
     },
     "metadata": {},
     "output_type": "display_data"
    },
    {
     "data": {
      "text/plain": [
       "\"evaluation 13 scenarios | option 2\""
      ]
     },
     "metadata": {},
     "output_type": "display_data"
    },
    {
     "data": {
      "text/plain": [
       "\"evaluation 14 scenarios | option 2\""
      ]
     },
     "metadata": {},
     "output_type": "display_data"
    },
    {
     "data": {
      "text/plain": [
       "\"evaluation 15 scenarios | option 2\""
      ]
     },
     "metadata": {},
     "output_type": "display_data"
    },
    {
     "data": {
      "text/plain": [
       "\"evaluation 16 scenarios | option 2\""
      ]
     },
     "metadata": {},
     "output_type": "display_data"
    },
    {
     "data": {
      "text/plain": [
       "\"evaluation 17 scenarios | option 2\""
      ]
     },
     "metadata": {},
     "output_type": "display_data"
    },
    {
     "data": {
      "text/plain": [
       "\"evaluation 18 scenarios | option 2\""
      ]
     },
     "metadata": {},
     "output_type": "display_data"
    },
    {
     "data": {
      "text/plain": [
       "\"evaluation 19 scenarios | option 2\""
      ]
     },
     "metadata": {},
     "output_type": "display_data"
    },
    {
     "data": {
      "text/plain": [
       "\"evaluation 20 scenarios | option 2\""
      ]
     },
     "metadata": {},
     "output_type": "display_data"
    },
    {
     "data": {
      "text/plain": [
       "\"evaluation 21 scenarios | option 2\""
      ]
     },
     "metadata": {},
     "output_type": "display_data"
    },
    {
     "data": {
      "text/plain": [
       "\"evaluation 22 scenarios | option 2\""
      ]
     },
     "metadata": {},
     "output_type": "display_data"
    },
    {
     "data": {
      "text/plain": [
       "\"evaluation 23 scenarios | option 2\""
      ]
     },
     "metadata": {},
     "output_type": "display_data"
    },
    {
     "data": {
      "text/plain": [
       "\"evaluation 24 scenarios | option 2\""
      ]
     },
     "metadata": {},
     "output_type": "display_data"
    },
    {
     "data": {
      "text/plain": [
       "\"evaluation 25 scenarios | option 2\""
      ]
     },
     "metadata": {},
     "output_type": "display_data"
    },
    {
     "data": {
      "text/plain": [
       "\"evaluation 26 scenarios | option 2\""
      ]
     },
     "metadata": {},
     "output_type": "display_data"
    },
    {
     "data": {
      "text/plain": [
       "\"evaluation 27 scenarios | option 2\""
      ]
     },
     "metadata": {},
     "output_type": "display_data"
    },
    {
     "data": {
      "text/plain": [
       "\"evaluation 28 scenarios | option 2\""
      ]
     },
     "metadata": {},
     "output_type": "display_data"
    },
    {
     "data": {
      "text/plain": [
       "\"evaluation 29 scenarios | option 2\""
      ]
     },
     "metadata": {},
     "output_type": "display_data"
    },
    {
     "data": {
      "text/plain": [
       "\"evaluation 30 scenarios | option 2\""
      ]
     },
     "metadata": {},
     "output_type": "display_data"
    },
    {
     "data": {
      "text/plain": [
       "\"evaluation 31 scenarios | option 2\""
      ]
     },
     "metadata": {},
     "output_type": "display_data"
    },
    {
     "data": {
      "text/plain": [
       "\"evaluation 32 scenarios | option 2\""
      ]
     },
     "metadata": {},
     "output_type": "display_data"
    },
    {
     "data": {
      "text/plain": [
       "\"evaluation 33 scenarios | option 2\""
      ]
     },
     "metadata": {},
     "output_type": "display_data"
    },
    {
     "data": {
      "text/plain": [
       "\"evaluation 34 scenarios | option 2\""
      ]
     },
     "metadata": {},
     "output_type": "display_data"
    },
    {
     "data": {
      "text/plain": [
       "\"evaluation 35 scenarios | option 2\""
      ]
     },
     "metadata": {},
     "output_type": "display_data"
    },
    {
     "data": {
      "text/plain": [
       "\"evaluation 36 scenarios | option 2\""
      ]
     },
     "metadata": {},
     "output_type": "display_data"
    },
    {
     "data": {
      "text/plain": [
       "\"evaluation 37 scenarios | option 2\""
      ]
     },
     "metadata": {},
     "output_type": "display_data"
    },
    {
     "data": {
      "text/plain": [
       "\"evaluation 38 scenarios | option 2\""
      ]
     },
     "metadata": {},
     "output_type": "display_data"
    },
    {
     "data": {
      "text/plain": [
       "\"evaluation 39 scenarios | option 2\""
      ]
     },
     "metadata": {},
     "output_type": "display_data"
    },
    {
     "data": {
      "text/plain": [
       "\"evaluation 40 scenarios | option 2\""
      ]
     },
     "metadata": {},
     "output_type": "display_data"
    },
    {
     "data": {
      "text/plain": [
       "\"evaluation 41 scenarios | option 2\""
      ]
     },
     "metadata": {},
     "output_type": "display_data"
    },
    {
     "data": {
      "text/plain": [
       "\"evaluation 42 scenarios | option 2\""
      ]
     },
     "metadata": {},
     "output_type": "display_data"
    },
    {
     "data": {
      "text/plain": [
       "\"evaluation 43 scenarios | option 2\""
      ]
     },
     "metadata": {},
     "output_type": "display_data"
    },
    {
     "data": {
      "text/plain": [
       "\"evaluation 44 scenarios | option 2\""
      ]
     },
     "metadata": {},
     "output_type": "display_data"
    },
    {
     "data": {
      "text/plain": [
       "\"evaluation 45 scenarios | option 2\""
      ]
     },
     "metadata": {},
     "output_type": "display_data"
    },
    {
     "data": {
      "text/plain": [
       "\"evaluation 46 scenarios | option 2\""
      ]
     },
     "metadata": {},
     "output_type": "display_data"
    },
    {
     "data": {
      "text/plain": [
       "\"evaluation 47 scenarios | option 2\""
      ]
     },
     "metadata": {},
     "output_type": "display_data"
    },
    {
     "data": {
      "text/plain": [
       "\"evaluation 48 scenarios | option 2\""
      ]
     },
     "metadata": {},
     "output_type": "display_data"
    },
    {
     "data": {
      "text/plain": [
       "\"evaluation 49 scenarios | option 2\""
      ]
     },
     "metadata": {},
     "output_type": "display_data"
    },
    {
     "data": {
      "text/plain": [
       "\"evaluation 50 scenarios | option 2\""
      ]
     },
     "metadata": {},
     "output_type": "display_data"
    },
    {
     "data": {
      "text/plain": [
       "\"evaluation 1 scenarios | option 3\""
      ]
     },
     "metadata": {},
     "output_type": "display_data"
    },
    {
     "data": {
      "text/plain": [
       "\"evaluation 2 scenarios | option 3\""
      ]
     },
     "metadata": {},
     "output_type": "display_data"
    },
    {
     "data": {
      "text/plain": [
       "\"evaluation 3 scenarios | option 3\""
      ]
     },
     "metadata": {},
     "output_type": "display_data"
    },
    {
     "data": {
      "text/plain": [
       "\"evaluation 4 scenarios | option 3\""
      ]
     },
     "metadata": {},
     "output_type": "display_data"
    },
    {
     "data": {
      "text/plain": [
       "\"evaluation 5 scenarios | option 3\""
      ]
     },
     "metadata": {},
     "output_type": "display_data"
    },
    {
     "data": {
      "text/plain": [
       "\"evaluation 6 scenarios | option 3\""
      ]
     },
     "metadata": {},
     "output_type": "display_data"
    },
    {
     "data": {
      "text/plain": [
       "\"evaluation 7 scenarios | option 3\""
      ]
     },
     "metadata": {},
     "output_type": "display_data"
    },
    {
     "data": {
      "text/plain": [
       "\"evaluation 8 scenarios | option 3\""
      ]
     },
     "metadata": {},
     "output_type": "display_data"
    },
    {
     "data": {
      "text/plain": [
       "\"evaluation 9 scenarios | option 3\""
      ]
     },
     "metadata": {},
     "output_type": "display_data"
    },
    {
     "data": {
      "text/plain": [
       "\"evaluation 10 scenarios | option 3\""
      ]
     },
     "metadata": {},
     "output_type": "display_data"
    },
    {
     "data": {
      "text/plain": [
       "\"evaluation 11 scenarios | option 3\""
      ]
     },
     "metadata": {},
     "output_type": "display_data"
    },
    {
     "data": {
      "text/plain": [
       "\"evaluation 12 scenarios | option 3\""
      ]
     },
     "metadata": {},
     "output_type": "display_data"
    },
    {
     "data": {
      "text/plain": [
       "\"evaluation 13 scenarios | option 3\""
      ]
     },
     "metadata": {},
     "output_type": "display_data"
    },
    {
     "data": {
      "text/plain": [
       "\"evaluation 14 scenarios | option 3\""
      ]
     },
     "metadata": {},
     "output_type": "display_data"
    },
    {
     "data": {
      "text/plain": [
       "\"evaluation 15 scenarios | option 3\""
      ]
     },
     "metadata": {},
     "output_type": "display_data"
    },
    {
     "data": {
      "text/plain": [
       "\"evaluation 16 scenarios | option 3\""
      ]
     },
     "metadata": {},
     "output_type": "display_data"
    },
    {
     "data": {
      "text/plain": [
       "\"evaluation 17 scenarios | option 3\""
      ]
     },
     "metadata": {},
     "output_type": "display_data"
    },
    {
     "data": {
      "text/plain": [
       "\"evaluation 18 scenarios | option 3\""
      ]
     },
     "metadata": {},
     "output_type": "display_data"
    },
    {
     "data": {
      "text/plain": [
       "\"evaluation 19 scenarios | option 3\""
      ]
     },
     "metadata": {},
     "output_type": "display_data"
    },
    {
     "data": {
      "text/plain": [
       "\"evaluation 20 scenarios | option 3\""
      ]
     },
     "metadata": {},
     "output_type": "display_data"
    },
    {
     "data": {
      "text/plain": [
       "\"evaluation 21 scenarios | option 3\""
      ]
     },
     "metadata": {},
     "output_type": "display_data"
    },
    {
     "data": {
      "text/plain": [
       "\"evaluation 22 scenarios | option 3\""
      ]
     },
     "metadata": {},
     "output_type": "display_data"
    },
    {
     "data": {
      "text/plain": [
       "\"evaluation 23 scenarios | option 3\""
      ]
     },
     "metadata": {},
     "output_type": "display_data"
    },
    {
     "data": {
      "text/plain": [
       "\"evaluation 24 scenarios | option 3\""
      ]
     },
     "metadata": {},
     "output_type": "display_data"
    },
    {
     "data": {
      "text/plain": [
       "\"evaluation 25 scenarios | option 3\""
      ]
     },
     "metadata": {},
     "output_type": "display_data"
    },
    {
     "data": {
      "text/plain": [
       "\"evaluation 26 scenarios | option 3\""
      ]
     },
     "metadata": {},
     "output_type": "display_data"
    },
    {
     "data": {
      "text/plain": [
       "\"evaluation 27 scenarios | option 3\""
      ]
     },
     "metadata": {},
     "output_type": "display_data"
    },
    {
     "data": {
      "text/plain": [
       "\"evaluation 28 scenarios | option 3\""
      ]
     },
     "metadata": {},
     "output_type": "display_data"
    },
    {
     "data": {
      "text/plain": [
       "\"evaluation 29 scenarios | option 3\""
      ]
     },
     "metadata": {},
     "output_type": "display_data"
    },
    {
     "data": {
      "text/plain": [
       "\"evaluation 30 scenarios | option 3\""
      ]
     },
     "metadata": {},
     "output_type": "display_data"
    },
    {
     "data": {
      "text/plain": [
       "\"evaluation 31 scenarios | option 3\""
      ]
     },
     "metadata": {},
     "output_type": "display_data"
    },
    {
     "data": {
      "text/plain": [
       "\"evaluation 32 scenarios | option 3\""
      ]
     },
     "metadata": {},
     "output_type": "display_data"
    },
    {
     "data": {
      "text/plain": [
       "\"evaluation 33 scenarios | option 3\""
      ]
     },
     "metadata": {},
     "output_type": "display_data"
    },
    {
     "data": {
      "text/plain": [
       "\"evaluation 34 scenarios | option 3\""
      ]
     },
     "metadata": {},
     "output_type": "display_data"
    },
    {
     "data": {
      "text/plain": [
       "\"evaluation 35 scenarios | option 3\""
      ]
     },
     "metadata": {},
     "output_type": "display_data"
    },
    {
     "data": {
      "text/plain": [
       "\"evaluation 36 scenarios | option 3\""
      ]
     },
     "metadata": {},
     "output_type": "display_data"
    },
    {
     "data": {
      "text/plain": [
       "\"evaluation 37 scenarios | option 3\""
      ]
     },
     "metadata": {},
     "output_type": "display_data"
    },
    {
     "data": {
      "text/plain": [
       "\"evaluation 38 scenarios | option 3\""
      ]
     },
     "metadata": {},
     "output_type": "display_data"
    },
    {
     "data": {
      "text/plain": [
       "\"evaluation 39 scenarios | option 3\""
      ]
     },
     "metadata": {},
     "output_type": "display_data"
    },
    {
     "data": {
      "text/plain": [
       "\"evaluation 40 scenarios | option 3\""
      ]
     },
     "metadata": {},
     "output_type": "display_data"
    },
    {
     "data": {
      "text/plain": [
       "\"evaluation 41 scenarios | option 3\""
      ]
     },
     "metadata": {},
     "output_type": "display_data"
    },
    {
     "data": {
      "text/plain": [
       "\"evaluation 42 scenarios | option 3\""
      ]
     },
     "metadata": {},
     "output_type": "display_data"
    },
    {
     "data": {
      "text/plain": [
       "\"evaluation 43 scenarios | option 3\""
      ]
     },
     "metadata": {},
     "output_type": "display_data"
    },
    {
     "data": {
      "text/plain": [
       "\"evaluation 44 scenarios | option 3\""
      ]
     },
     "metadata": {},
     "output_type": "display_data"
    },
    {
     "data": {
      "text/plain": [
       "\"evaluation 45 scenarios | option 3\""
      ]
     },
     "metadata": {},
     "output_type": "display_data"
    },
    {
     "data": {
      "text/plain": [
       "\"evaluation 46 scenarios | option 3\""
      ]
     },
     "metadata": {},
     "output_type": "display_data"
    },
    {
     "data": {
      "text/plain": [
       "\"evaluation 47 scenarios | option 3\""
      ]
     },
     "metadata": {},
     "output_type": "display_data"
    },
    {
     "data": {
      "text/plain": [
       "\"evaluation 48 scenarios | option 3\""
      ]
     },
     "metadata": {},
     "output_type": "display_data"
    },
    {
     "data": {
      "text/plain": [
       "\"evaluation 49 scenarios | option 3\""
      ]
     },
     "metadata": {},
     "output_type": "display_data"
    },
    {
     "data": {
      "text/plain": [
       "\"evaluation 50 scenarios | option 3\""
      ]
     },
     "metadata": {},
     "output_type": "display_data"
    }
   ],
   "source": [
    "nScenTotal = 50 # 15 | 50\n",
    "\n",
    "# preparing plot --> strategy for solving MPC\n",
    "solTimeTraj_s = Matrix{Float64}(undef,3,nScenTotal) \n",
    "\n",
    "# number of reactors in parallel\n",
    "nReactors = 1\n",
    "# Number of states\n",
    "nx = 2*nReactors\n",
    "\n",
    "# Initial conditions (deviation form)\n",
    "xInit_0 = repeat([0.3583;0.6418] .- x0, outer = [nReactors,1]);\n",
    "uInit_0 = 1.0 - u0;\n",
    "\n",
    "for opti in 1:3\n",
    "    #option = 1 # : Unconstrained MPC\n",
    "    #option = 2 # : Constrained MPC with binaries\n",
    "    #option = 3 # : Constrained MPC with MPCC\n",
    "\n",
    "    for ss in 1:nScenTotal\n",
    "        display(\"evaluation $(ss) scenarios | option $(opti)\")\n",
    "        \n",
    "        #number os scenarios\n",
    "        nScen = ss\n",
    "        #equiprobable scenarios\n",
    "        pScen = 1.0/nScen;\n",
    "        \n",
    "        # solving monolithical problem \n",
    "        sol_m_Dict = MS_CLDRTO(xInit_0,uInit_0,nReactors,nScen,pScen,solNominal,opti)\n",
    "        \n",
    "        # saving values for plotting if problem was solved\n",
    "        # output being a dictionary controls if the solver has converged or not \n",
    "        if sol_m_Dict isa Dict\n",
    "            solTimeTraj_s[opti,ss] = sol_m_Dict['t']\n",
    "        else\n",
    "            solTimeTraj_s[opti,ss] = NaN\n",
    "        end\n",
    "        \n",
    "    end\n",
    "end\n"
   ]
  },
  {
   "cell_type": "code",
   "execution_count": 13,
   "id": "349d5d60",
   "metadata": {},
   "outputs": [
    {
     "data": {
      "image/svg+xml": [
       "<?xml version=\"1.0\" encoding=\"utf-8\"?>\n",
       "<svg xmlns=\"http://www.w3.org/2000/svg\" xmlns:xlink=\"http://www.w3.org/1999/xlink\" width=\"600\" height=\"400\" viewBox=\"0 0 2400 1600\">\n",
       "<defs>\n",
       "  <clipPath id=\"clip500\">\n",
       "    <rect x=\"0\" y=\"0\" width=\"2400\" height=\"1600\"/>\n",
       "  </clipPath>\n",
       "</defs>\n",
       "<path clip-path=\"url(#clip500)\" d=\"M0 1600 L2400 1600 L2400 0 L0 0  Z\" fill=\"#ffffff\" fill-rule=\"evenodd\" fill-opacity=\"1\"/>\n",
       "<defs>\n",
       "  <clipPath id=\"clip501\">\n",
       "    <rect x=\"480\" y=\"0\" width=\"1681\" height=\"1600\"/>\n",
       "  </clipPath>\n",
       "</defs>\n",
       "<path clip-path=\"url(#clip500)\" d=\"M203.964 1423.18 L2352.76 1423.18 L2352.76 47.2441 L203.964 47.2441  Z\" fill=\"#ffffff\" fill-rule=\"evenodd\" fill-opacity=\"1\"/>\n",
       "<defs>\n",
       "  <clipPath id=\"clip502\">\n",
       "    <rect x=\"203\" y=\"47\" width=\"2150\" height=\"1377\"/>\n",
       "  </clipPath>\n",
       "</defs>\n",
       "<polyline clip-path=\"url(#clip502)\" style=\"stroke:#000000; stroke-linecap:round; stroke-linejoin:round; stroke-width:8; stroke-opacity:0.1; fill:none\" points=\"223.408,1423.18 223.408,47.2441 \"/>\n",
       "<polyline clip-path=\"url(#clip502)\" style=\"stroke:#000000; stroke-linecap:round; stroke-linejoin:round; stroke-width:8; stroke-opacity:0.1; fill:none\" points=\"637.114,1423.18 637.114,47.2441 \"/>\n",
       "<polyline clip-path=\"url(#clip502)\" style=\"stroke:#000000; stroke-linecap:round; stroke-linejoin:round; stroke-width:8; stroke-opacity:0.1; fill:none\" points=\"1050.82,1423.18 1050.82,47.2441 \"/>\n",
       "<polyline clip-path=\"url(#clip502)\" style=\"stroke:#000000; stroke-linecap:round; stroke-linejoin:round; stroke-width:8; stroke-opacity:0.1; fill:none\" points=\"1464.53,1423.18 1464.53,47.2441 \"/>\n",
       "<polyline clip-path=\"url(#clip502)\" style=\"stroke:#000000; stroke-linecap:round; stroke-linejoin:round; stroke-width:8; stroke-opacity:0.1; fill:none\" points=\"1878.23,1423.18 1878.23,47.2441 \"/>\n",
       "<polyline clip-path=\"url(#clip502)\" style=\"stroke:#000000; stroke-linecap:round; stroke-linejoin:round; stroke-width:8; stroke-opacity:0.1; fill:none\" points=\"2291.94,1423.18 2291.94,47.2441 \"/>\n",
       "<polyline clip-path=\"url(#clip500)\" style=\"stroke:#000000; stroke-linecap:round; stroke-linejoin:round; stroke-width:4; stroke-opacity:1; fill:none\" points=\"203.964,1423.18 2352.76,1423.18 \"/>\n",
       "<polyline clip-path=\"url(#clip500)\" style=\"stroke:#000000; stroke-linecap:round; stroke-linejoin:round; stroke-width:4; stroke-opacity:1; fill:none\" points=\"223.408,1423.18 223.408,1404.28 \"/>\n",
       "<polyline clip-path=\"url(#clip500)\" style=\"stroke:#000000; stroke-linecap:round; stroke-linejoin:round; stroke-width:4; stroke-opacity:1; fill:none\" points=\"637.114,1423.18 637.114,1404.28 \"/>\n",
       "<polyline clip-path=\"url(#clip500)\" style=\"stroke:#000000; stroke-linecap:round; stroke-linejoin:round; stroke-width:4; stroke-opacity:1; fill:none\" points=\"1050.82,1423.18 1050.82,1404.28 \"/>\n",
       "<polyline clip-path=\"url(#clip500)\" style=\"stroke:#000000; stroke-linecap:round; stroke-linejoin:round; stroke-width:4; stroke-opacity:1; fill:none\" points=\"1464.53,1423.18 1464.53,1404.28 \"/>\n",
       "<polyline clip-path=\"url(#clip500)\" style=\"stroke:#000000; stroke-linecap:round; stroke-linejoin:round; stroke-width:4; stroke-opacity:1; fill:none\" points=\"1878.23,1423.18 1878.23,1404.28 \"/>\n",
       "<polyline clip-path=\"url(#clip500)\" style=\"stroke:#000000; stroke-linecap:round; stroke-linejoin:round; stroke-width:4; stroke-opacity:1; fill:none\" points=\"2291.94,1423.18 2291.94,1404.28 \"/>\n",
       "<path clip-path=\"url(#clip500)\" d=\"M223.408 1454.1 Q219.797 1454.1 217.968 1457.66 Q216.162 1461.2 216.162 1468.33 Q216.162 1475.44 217.968 1479.01 Q219.797 1482.55 223.408 1482.55 Q227.042 1482.55 228.848 1479.01 Q230.676 1475.44 230.676 1468.33 Q230.676 1461.2 228.848 1457.66 Q227.042 1454.1 223.408 1454.1 M223.408 1450.39 Q229.218 1450.39 232.273 1455 Q235.352 1459.58 235.352 1468.33 Q235.352 1477.06 232.273 1481.67 Q229.218 1486.25 223.408 1486.25 Q217.598 1486.25 214.519 1481.67 Q211.463 1477.06 211.463 1468.33 Q211.463 1459.58 214.519 1455 Q217.598 1450.39 223.408 1450.39 Z\" fill=\"#000000\" fill-rule=\"evenodd\" fill-opacity=\"1\" /><path clip-path=\"url(#clip500)\" d=\"M611.802 1481.64 L619.441 1481.64 L619.441 1455.28 L611.131 1456.95 L611.131 1452.69 L619.395 1451.02 L624.071 1451.02 L624.071 1481.64 L631.709 1481.64 L631.709 1485.58 L611.802 1485.58 L611.802 1481.64 Z\" fill=\"#000000\" fill-rule=\"evenodd\" fill-opacity=\"1\" /><path clip-path=\"url(#clip500)\" d=\"M651.154 1454.1 Q647.543 1454.1 645.714 1457.66 Q643.908 1461.2 643.908 1468.33 Q643.908 1475.44 645.714 1479.01 Q647.543 1482.55 651.154 1482.55 Q654.788 1482.55 656.593 1479.01 Q658.422 1475.44 658.422 1468.33 Q658.422 1461.2 656.593 1457.66 Q654.788 1454.1 651.154 1454.1 M651.154 1450.39 Q656.964 1450.39 660.019 1455 Q663.098 1459.58 663.098 1468.33 Q663.098 1477.06 660.019 1481.67 Q656.964 1486.25 651.154 1486.25 Q645.344 1486.25 642.265 1481.67 Q639.209 1477.06 639.209 1468.33 Q639.209 1459.58 642.265 1455 Q645.344 1450.39 651.154 1450.39 Z\" fill=\"#000000\" fill-rule=\"evenodd\" fill-opacity=\"1\" /><path clip-path=\"url(#clip500)\" d=\"M1029.59 1481.64 L1045.91 1481.64 L1045.91 1485.58 L1023.97 1485.58 L1023.97 1481.64 Q1026.63 1478.89 1031.21 1474.26 Q1035.82 1469.61 1037 1468.27 Q1039.25 1465.74 1040.13 1464.01 Q1041.03 1462.25 1041.03 1460.56 Q1041.03 1457.8 1039.09 1456.07 Q1037.16 1454.33 1034.06 1454.33 Q1031.86 1454.33 1029.41 1455.09 Q1026.98 1455.86 1024.2 1457.41 L1024.2 1452.69 Q1027.02 1451.55 1029.48 1450.97 Q1031.93 1450.39 1033.97 1450.39 Q1039.34 1450.39 1042.53 1453.08 Q1045.73 1455.77 1045.73 1460.26 Q1045.73 1462.39 1044.92 1464.31 Q1044.13 1466.2 1042.02 1468.8 Q1041.45 1469.47 1038.34 1472.69 Q1035.24 1475.88 1029.59 1481.64 Z\" fill=\"#000000\" fill-rule=\"evenodd\" fill-opacity=\"1\" /><path clip-path=\"url(#clip500)\" d=\"M1065.73 1454.1 Q1062.12 1454.1 1060.29 1457.66 Q1058.48 1461.2 1058.48 1468.33 Q1058.48 1475.44 1060.29 1479.01 Q1062.12 1482.55 1065.73 1482.55 Q1069.36 1482.55 1071.17 1479.01 Q1073 1475.44 1073 1468.33 Q1073 1461.2 1071.17 1457.66 Q1069.36 1454.1 1065.73 1454.1 M1065.73 1450.39 Q1071.54 1450.39 1074.59 1455 Q1077.67 1459.58 1077.67 1468.33 Q1077.67 1477.06 1074.59 1481.67 Q1071.54 1486.25 1065.73 1486.25 Q1059.92 1486.25 1056.84 1481.67 Q1053.78 1477.06 1053.78 1468.33 Q1053.78 1459.58 1056.84 1455 Q1059.92 1450.39 1065.73 1450.39 Z\" fill=\"#000000\" fill-rule=\"evenodd\" fill-opacity=\"1\" /><path clip-path=\"url(#clip500)\" d=\"M1453.37 1466.95 Q1456.73 1467.66 1458.6 1469.93 Q1460.5 1472.2 1460.5 1475.53 Q1460.5 1480.65 1456.98 1483.45 Q1453.46 1486.25 1446.98 1486.25 Q1444.81 1486.25 1442.49 1485.81 Q1440.2 1485.39 1437.75 1484.54 L1437.75 1480.02 Q1439.69 1481.16 1442 1481.74 Q1444.32 1482.32 1446.84 1482.32 Q1451.24 1482.32 1453.53 1480.58 Q1455.85 1478.84 1455.85 1475.53 Q1455.85 1472.48 1453.69 1470.77 Q1451.56 1469.03 1447.75 1469.03 L1443.72 1469.03 L1443.72 1465.19 L1447.93 1465.19 Q1451.38 1465.19 1453.21 1463.82 Q1455.04 1462.43 1455.04 1459.84 Q1455.04 1457.18 1453.14 1455.77 Q1451.26 1454.33 1447.75 1454.33 Q1445.82 1454.33 1443.63 1454.75 Q1441.43 1455.16 1438.79 1456.04 L1438.79 1451.88 Q1441.45 1451.14 1443.76 1450.77 Q1446.1 1450.39 1448.16 1450.39 Q1453.49 1450.39 1456.59 1452.83 Q1459.69 1455.23 1459.69 1459.35 Q1459.69 1462.22 1458.05 1464.21 Q1456.4 1466.18 1453.37 1466.95 Z\" fill=\"#000000\" fill-rule=\"evenodd\" fill-opacity=\"1\" /><path clip-path=\"url(#clip500)\" d=\"M1479.37 1454.1 Q1475.75 1454.1 1473.93 1457.66 Q1472.12 1461.2 1472.12 1468.33 Q1472.12 1475.44 1473.93 1479.01 Q1475.75 1482.55 1479.37 1482.55 Q1483 1482.55 1484.81 1479.01 Q1486.63 1475.44 1486.63 1468.33 Q1486.63 1461.2 1484.81 1457.66 Q1483 1454.1 1479.37 1454.1 M1479.37 1450.39 Q1485.18 1450.39 1488.23 1455 Q1491.31 1459.58 1491.31 1468.33 Q1491.31 1477.06 1488.23 1481.67 Q1485.18 1486.25 1479.37 1486.25 Q1473.56 1486.25 1470.48 1481.67 Q1467.42 1477.06 1467.42 1468.33 Q1467.42 1459.58 1470.48 1455 Q1473.56 1450.39 1479.37 1450.39 Z\" fill=\"#000000\" fill-rule=\"evenodd\" fill-opacity=\"1\" /><path clip-path=\"url(#clip500)\" d=\"M1866.41 1455.09 L1854.6 1473.54 L1866.41 1473.54 L1866.41 1455.09 M1865.18 1451.02 L1871.06 1451.02 L1871.06 1473.54 L1875.99 1473.54 L1875.99 1477.43 L1871.06 1477.43 L1871.06 1485.58 L1866.41 1485.58 L1866.41 1477.43 L1850.8 1477.43 L1850.8 1472.92 L1865.18 1451.02 Z\" fill=\"#000000\" fill-rule=\"evenodd\" fill-opacity=\"1\" /><path clip-path=\"url(#clip500)\" d=\"M1893.72 1454.1 Q1890.11 1454.1 1888.28 1457.66 Q1886.48 1461.2 1886.48 1468.33 Q1886.48 1475.44 1888.28 1479.01 Q1890.11 1482.55 1893.72 1482.55 Q1897.35 1482.55 1899.16 1479.01 Q1900.99 1475.44 1900.99 1468.33 Q1900.99 1461.2 1899.16 1457.66 Q1897.35 1454.1 1893.72 1454.1 M1893.72 1450.39 Q1899.53 1450.39 1902.59 1455 Q1905.66 1459.58 1905.66 1468.33 Q1905.66 1477.06 1902.59 1481.67 Q1899.53 1486.25 1893.72 1486.25 Q1887.91 1486.25 1884.83 1481.67 Q1881.78 1477.06 1881.78 1468.33 Q1881.78 1459.58 1884.83 1455 Q1887.91 1450.39 1893.72 1450.39 Z\" fill=\"#000000\" fill-rule=\"evenodd\" fill-opacity=\"1\" /><path clip-path=\"url(#clip500)\" d=\"M2266.64 1451.02 L2285 1451.02 L2285 1454.96 L2270.92 1454.96 L2270.92 1463.43 Q2271.94 1463.08 2272.96 1462.92 Q2273.98 1462.73 2275 1462.73 Q2280.78 1462.73 2284.16 1465.9 Q2287.54 1469.08 2287.54 1474.49 Q2287.54 1480.07 2284.07 1483.17 Q2280.6 1486.25 2274.28 1486.25 Q2272.1 1486.25 2269.83 1485.88 Q2267.59 1485.51 2265.18 1484.77 L2265.18 1480.07 Q2267.27 1481.2 2269.49 1481.76 Q2271.71 1482.32 2274.19 1482.32 Q2278.19 1482.32 2280.53 1480.21 Q2282.87 1478.1 2282.87 1474.49 Q2282.87 1470.88 2280.53 1468.77 Q2278.19 1466.67 2274.19 1466.67 Q2272.31 1466.67 2270.44 1467.08 Q2268.58 1467.5 2266.64 1468.38 L2266.64 1451.02 Z\" fill=\"#000000\" fill-rule=\"evenodd\" fill-opacity=\"1\" /><path clip-path=\"url(#clip500)\" d=\"M2306.76 1454.1 Q2303.14 1454.1 2301.32 1457.66 Q2299.51 1461.2 2299.51 1468.33 Q2299.51 1475.44 2301.32 1479.01 Q2303.14 1482.55 2306.76 1482.55 Q2310.39 1482.55 2312.2 1479.01 Q2314.02 1475.44 2314.02 1468.33 Q2314.02 1461.2 2312.2 1457.66 Q2310.39 1454.1 2306.76 1454.1 M2306.76 1450.39 Q2312.57 1450.39 2315.62 1455 Q2318.7 1459.58 2318.7 1468.33 Q2318.7 1477.06 2315.62 1481.67 Q2312.57 1486.25 2306.76 1486.25 Q2300.95 1486.25 2297.87 1481.67 Q2294.81 1477.06 2294.81 1468.33 Q2294.81 1459.58 2297.87 1455 Q2300.95 1450.39 2306.76 1450.39 Z\" fill=\"#000000\" fill-rule=\"evenodd\" fill-opacity=\"1\" /><path clip-path=\"url(#clip500)\" d=\"M1118.13 1539.37 L1108.87 1539.37 L1106.2 1550 L1115.52 1550 L1118.13 1539.37 M1113.36 1521.26 L1110.05 1534.46 L1119.34 1534.46 L1122.69 1521.26 L1127.78 1521.26 L1124.5 1534.46 L1134.43 1534.46 L1134.43 1539.37 L1123.26 1539.37 L1120.65 1550 L1130.77 1550 L1130.77 1554.87 L1119.41 1554.87 L1116.1 1568.04 L1111.01 1568.04 L1114.28 1554.87 L1104.96 1554.87 L1101.68 1568.04 L1096.56 1568.04 L1099.87 1554.87 L1089.84 1554.87 L1089.84 1550 L1101.04 1550 L1103.72 1539.37 L1093.47 1539.37 L1093.47 1534.46 L1104.96 1534.46 L1108.2 1521.26 L1113.36 1521.26 Z\" fill=\"#000000\" fill-rule=\"evenodd\" fill-opacity=\"1\" /><path clip-path=\"url(#clip500)\" d=\"M1189.02 1533.45 L1189.02 1538.98 Q1186.53 1537.71 1183.86 1537.07 Q1181.19 1536.44 1178.32 1536.44 Q1173.96 1536.44 1171.77 1537.77 Q1169.6 1539.11 1169.6 1541.79 Q1169.6 1543.82 1171.16 1545 Q1172.72 1546.15 1177.43 1547.2 L1179.44 1547.64 Q1185.68 1548.98 1188.28 1551.43 Q1190.93 1553.85 1190.93 1558.21 Q1190.93 1563.17 1186.98 1566.07 Q1183.07 1568.97 1176.19 1568.97 Q1173.33 1568.97 1170.21 1568.39 Q1167.12 1567.85 1163.68 1566.74 L1163.68 1560.69 Q1166.93 1562.38 1170.08 1563.24 Q1173.23 1564.07 1176.32 1564.07 Q1180.46 1564.07 1182.68 1562.66 Q1184.91 1561.23 1184.91 1558.65 Q1184.91 1556.27 1183.29 1554.99 Q1181.7 1553.72 1176.25 1552.54 L1174.22 1552.07 Q1168.77 1550.92 1166.36 1548.56 Q1163.94 1546.18 1163.94 1542.04 Q1163.94 1537.01 1167.5 1534.27 Q1171.07 1531.54 1177.62 1531.54 Q1180.87 1531.54 1183.73 1532.01 Q1186.6 1532.49 1189.02 1533.45 Z\" fill=\"#000000\" fill-rule=\"evenodd\" fill-opacity=\"1\" /><path clip-path=\"url(#clip500)\" d=\"M1225.91 1533.76 L1225.91 1539.24 Q1223.42 1537.87 1220.91 1537.2 Q1218.43 1536.5 1215.88 1536.5 Q1210.18 1536.5 1207.03 1540.13 Q1203.88 1543.73 1203.88 1550.25 Q1203.88 1556.78 1207.03 1560.4 Q1210.18 1564 1215.88 1564 Q1218.43 1564 1220.91 1563.33 Q1223.42 1562.63 1225.91 1561.26 L1225.91 1566.68 Q1223.46 1567.82 1220.81 1568.39 Q1218.2 1568.97 1215.24 1568.97 Q1207.19 1568.97 1202.45 1563.91 Q1197.71 1558.85 1197.71 1550.25 Q1197.71 1541.53 1202.48 1536.53 Q1207.29 1531.54 1215.63 1531.54 Q1218.33 1531.54 1220.91 1532.11 Q1223.49 1532.65 1225.91 1533.76 Z\" fill=\"#000000\" fill-rule=\"evenodd\" fill-opacity=\"1\" /><path clip-path=\"url(#clip500)\" d=\"M1266.58 1548.76 L1266.58 1551.62 L1239.66 1551.62 Q1240.04 1557.67 1243.28 1560.85 Q1246.56 1564 1252.39 1564 Q1255.76 1564 1258.91 1563.17 Q1262.1 1562.35 1265.21 1560.69 L1265.21 1566.23 Q1262.06 1567.57 1258.75 1568.27 Q1255.44 1568.97 1252.04 1568.97 Q1243.51 1568.97 1238.51 1564 Q1233.55 1559.04 1233.55 1550.57 Q1233.55 1541.82 1238.26 1536.69 Q1243 1531.54 1251.02 1531.54 Q1258.21 1531.54 1262.38 1536.18 Q1266.58 1540.8 1266.58 1548.76 M1260.73 1547.04 Q1260.66 1542.23 1258.02 1539.37 Q1255.41 1536.5 1251.08 1536.5 Q1246.18 1536.5 1243.22 1539.27 Q1240.29 1542.04 1239.85 1547.07 L1260.73 1547.04 Z\" fill=\"#000000\" fill-rule=\"evenodd\" fill-opacity=\"1\" /><path clip-path=\"url(#clip500)\" d=\"M1305.83 1546.53 L1305.83 1568.04 L1299.97 1568.04 L1299.97 1546.72 Q1299.97 1541.66 1298 1539.14 Q1296.02 1536.63 1292.08 1536.63 Q1287.34 1536.63 1284.6 1539.65 Q1281.86 1542.68 1281.86 1547.9 L1281.86 1568.04 L1275.97 1568.04 L1275.97 1532.4 L1281.86 1532.4 L1281.86 1537.93 Q1283.96 1534.72 1286.79 1533.13 Q1289.66 1531.54 1293.38 1531.54 Q1299.53 1531.54 1302.68 1535.36 Q1305.83 1539.14 1305.83 1546.53 Z\" fill=\"#000000\" fill-rule=\"evenodd\" fill-opacity=\"1\" /><path clip-path=\"url(#clip500)\" d=\"M1333.71 1550.12 Q1326.61 1550.12 1323.87 1551.75 Q1321.14 1553.37 1321.14 1557.29 Q1321.14 1560.4 1323.17 1562.25 Q1325.24 1564.07 1328.78 1564.07 Q1333.65 1564.07 1336.57 1560.63 Q1339.53 1557.16 1339.53 1551.43 L1339.53 1550.12 L1333.71 1550.12 M1345.39 1547.71 L1345.39 1568.04 L1339.53 1568.04 L1339.53 1562.63 Q1337.53 1565.88 1334.54 1567.44 Q1331.55 1568.97 1327.22 1568.97 Q1321.74 1568.97 1318.5 1565.91 Q1315.28 1562.82 1315.28 1557.67 Q1315.28 1551.65 1319.29 1548.6 Q1323.33 1545.54 1331.32 1545.54 L1339.53 1545.54 L1339.53 1544.97 Q1339.53 1540.93 1336.86 1538.73 Q1334.22 1536.5 1329.41 1536.5 Q1326.36 1536.5 1323.46 1537.23 Q1320.56 1537.97 1317.89 1539.43 L1317.89 1534.02 Q1321.11 1532.78 1324.13 1532.17 Q1327.15 1531.54 1330.02 1531.54 Q1337.75 1531.54 1341.57 1535.55 Q1345.39 1539.56 1345.39 1547.71 Z\" fill=\"#000000\" fill-rule=\"evenodd\" fill-opacity=\"1\" /><path clip-path=\"url(#clip500)\" d=\"M1378.11 1537.87 Q1377.12 1537.3 1375.95 1537.04 Q1374.8 1536.76 1373.4 1536.76 Q1368.43 1536.76 1365.76 1540 Q1363.12 1543.22 1363.12 1549.27 L1363.12 1568.04 L1357.23 1568.04 L1357.23 1532.4 L1363.12 1532.4 L1363.12 1537.93 Q1364.97 1534.69 1367.93 1533.13 Q1370.89 1531.54 1375.12 1531.54 Q1375.72 1531.54 1376.46 1531.63 Q1377.19 1531.7 1378.08 1531.85 L1378.11 1537.87 Z\" fill=\"#000000\" fill-rule=\"evenodd\" fill-opacity=\"1\" /><path clip-path=\"url(#clip500)\" d=\"M1384.25 1532.4 L1390.11 1532.4 L1390.11 1568.04 L1384.25 1568.04 L1384.25 1532.4 M1384.25 1518.52 L1390.11 1518.52 L1390.11 1525.93 L1384.25 1525.93 L1384.25 1518.52 Z\" fill=\"#000000\" fill-rule=\"evenodd\" fill-opacity=\"1\" /><path clip-path=\"url(#clip500)\" d=\"M1416.18 1536.5 Q1411.47 1536.5 1408.73 1540.19 Q1405.99 1543.85 1405.99 1550.25 Q1405.99 1556.65 1408.7 1560.34 Q1411.43 1564 1416.18 1564 Q1420.86 1564 1423.59 1560.31 Q1426.33 1556.62 1426.33 1550.25 Q1426.33 1543.92 1423.59 1540.23 Q1420.86 1536.5 1416.18 1536.5 M1416.18 1531.54 Q1423.82 1531.54 1428.18 1536.5 Q1432.54 1541.47 1432.54 1550.25 Q1432.54 1559 1428.18 1564 Q1423.82 1568.97 1416.18 1568.97 Q1408.51 1568.97 1404.15 1564 Q1399.82 1559 1399.82 1550.25 Q1399.82 1541.47 1404.15 1536.5 Q1408.51 1531.54 1416.18 1531.54 Z\" fill=\"#000000\" fill-rule=\"evenodd\" fill-opacity=\"1\" /><path clip-path=\"url(#clip500)\" d=\"M1464.97 1533.45 L1464.97 1538.98 Q1462.49 1537.71 1459.81 1537.07 Q1457.14 1536.44 1454.28 1536.44 Q1449.92 1536.44 1447.72 1537.77 Q1445.56 1539.11 1445.56 1541.79 Q1445.56 1543.82 1447.11 1545 Q1448.67 1546.15 1453.38 1547.2 L1455.39 1547.64 Q1461.63 1548.98 1464.24 1551.43 Q1466.88 1553.85 1466.88 1558.21 Q1466.88 1563.17 1462.93 1566.07 Q1459.02 1568.97 1452.14 1568.97 Q1449.28 1568.97 1446.16 1568.39 Q1443.07 1567.85 1439.63 1566.74 L1439.63 1560.69 Q1442.88 1562.38 1446.03 1563.24 Q1449.18 1564.07 1452.27 1564.07 Q1456.41 1564.07 1458.64 1562.66 Q1460.86 1561.23 1460.86 1558.65 Q1460.86 1556.27 1459.24 1554.99 Q1457.65 1553.72 1452.21 1552.54 L1450.17 1552.07 Q1444.73 1550.92 1442.31 1548.56 Q1439.89 1546.18 1439.89 1542.04 Q1439.89 1537.01 1443.45 1534.27 Q1447.02 1531.54 1453.58 1531.54 Q1456.82 1531.54 1459.69 1532.01 Q1462.55 1532.49 1464.97 1533.45 Z\" fill=\"#000000\" fill-rule=\"evenodd\" fill-opacity=\"1\" /><polyline clip-path=\"url(#clip502)\" style=\"stroke:#000000; stroke-linecap:round; stroke-linejoin:round; stroke-width:8; stroke-opacity:0.1; fill:none\" points=\"203.964,1386.32 2352.76,1386.32 \"/>\n",
       "<polyline clip-path=\"url(#clip502)\" style=\"stroke:#000000; stroke-linecap:round; stroke-linejoin:round; stroke-width:8; stroke-opacity:0.1; fill:none\" points=\"203.964,943.088 2352.76,943.088 \"/>\n",
       "<polyline clip-path=\"url(#clip502)\" style=\"stroke:#000000; stroke-linecap:round; stroke-linejoin:round; stroke-width:8; stroke-opacity:0.1; fill:none\" points=\"203.964,499.855 2352.76,499.855 \"/>\n",
       "<polyline clip-path=\"url(#clip502)\" style=\"stroke:#000000; stroke-linecap:round; stroke-linejoin:round; stroke-width:8; stroke-opacity:0.1; fill:none\" points=\"203.964,56.622 2352.76,56.622 \"/>\n",
       "<polyline clip-path=\"url(#clip500)\" style=\"stroke:#000000; stroke-linecap:round; stroke-linejoin:round; stroke-width:4; stroke-opacity:1; fill:none\" points=\"203.964,1423.18 203.964,47.2441 \"/>\n",
       "<polyline clip-path=\"url(#clip500)\" style=\"stroke:#000000; stroke-linecap:round; stroke-linejoin:round; stroke-width:4; stroke-opacity:1; fill:none\" points=\"203.964,1386.32 222.861,1386.32 \"/>\n",
       "<polyline clip-path=\"url(#clip500)\" style=\"stroke:#000000; stroke-linecap:round; stroke-linejoin:round; stroke-width:4; stroke-opacity:1; fill:none\" points=\"203.964,943.088 222.861,943.088 \"/>\n",
       "<polyline clip-path=\"url(#clip500)\" style=\"stroke:#000000; stroke-linecap:round; stroke-linejoin:round; stroke-width:4; stroke-opacity:1; fill:none\" points=\"203.964,499.855 222.861,499.855 \"/>\n",
       "<polyline clip-path=\"url(#clip500)\" style=\"stroke:#000000; stroke-linecap:round; stroke-linejoin:round; stroke-width:4; stroke-opacity:1; fill:none\" points=\"203.964,56.622 222.861,56.622 \"/>\n",
       "<path clip-path=\"url(#clip500)\" d=\"M156.019 1372.12 Q152.408 1372.12 150.579 1375.68 Q148.774 1379.23 148.774 1386.36 Q148.774 1393.46 150.579 1397.03 Q152.408 1400.57 156.019 1400.57 Q159.653 1400.57 161.459 1397.03 Q163.288 1393.46 163.288 1386.36 Q163.288 1379.23 161.459 1375.68 Q159.653 1372.12 156.019 1372.12 M156.019 1368.42 Q161.829 1368.42 164.885 1373.02 Q167.964 1377.61 167.964 1386.36 Q167.964 1395.08 164.885 1399.69 Q161.829 1404.27 156.019 1404.27 Q150.209 1404.27 147.13 1399.69 Q144.075 1395.08 144.075 1386.36 Q144.075 1377.61 147.13 1373.02 Q150.209 1368.42 156.019 1368.42 Z\" fill=\"#000000\" fill-rule=\"evenodd\" fill-opacity=\"1\" /><path clip-path=\"url(#clip500)\" d=\"M116.668 956.433 L124.306 956.433 L124.306 930.068 L115.996 931.734 L115.996 927.475 L124.26 925.808 L128.936 925.808 L128.936 956.433 L136.575 956.433 L136.575 960.368 L116.668 960.368 L116.668 956.433 Z\" fill=\"#000000\" fill-rule=\"evenodd\" fill-opacity=\"1\" /><path clip-path=\"url(#clip500)\" d=\"M156.019 928.887 Q152.408 928.887 150.579 932.452 Q148.774 935.993 148.774 943.123 Q148.774 950.229 150.579 953.794 Q152.408 957.336 156.019 957.336 Q159.653 957.336 161.459 953.794 Q163.288 950.229 163.288 943.123 Q163.288 935.993 161.459 932.452 Q159.653 928.887 156.019 928.887 M156.019 925.183 Q161.829 925.183 164.885 929.79 Q167.964 934.373 167.964 943.123 Q167.964 951.85 164.885 956.456 Q161.829 961.04 156.019 961.04 Q150.209 961.04 147.13 956.456 Q144.075 951.85 144.075 943.123 Q144.075 934.373 147.13 929.79 Q150.209 925.183 156.019 925.183 Z\" fill=\"#000000\" fill-rule=\"evenodd\" fill-opacity=\"1\" /><path clip-path=\"url(#clip500)\" d=\"M119.885 513.2 L136.204 513.2 L136.204 517.135 L114.26 517.135 L114.26 513.2 Q116.922 510.445 121.505 505.816 Q126.112 501.163 127.292 499.82 Q129.538 497.297 130.417 495.561 Q131.32 493.802 131.32 492.112 Q131.32 489.358 129.376 487.621 Q127.455 485.885 124.353 485.885 Q122.154 485.885 119.7 486.649 Q117.269 487.413 114.492 488.964 L114.492 484.242 Q117.316 483.108 119.769 482.529 Q122.223 481.95 124.26 481.95 Q129.63 481.95 132.825 484.635 Q136.019 487.321 136.019 491.811 Q136.019 493.941 135.209 495.862 Q134.422 497.76 132.316 500.353 Q131.737 501.024 128.635 504.242 Q125.533 507.436 119.885 513.2 Z\" fill=\"#000000\" fill-rule=\"evenodd\" fill-opacity=\"1\" /><path clip-path=\"url(#clip500)\" d=\"M156.019 485.654 Q152.408 485.654 150.579 489.219 Q148.774 492.76 148.774 499.89 Q148.774 506.996 150.579 510.561 Q152.408 514.103 156.019 514.103 Q159.653 514.103 161.459 510.561 Q163.288 506.996 163.288 499.89 Q163.288 492.76 161.459 489.219 Q159.653 485.654 156.019 485.654 M156.019 481.95 Q161.829 481.95 164.885 486.557 Q167.964 491.14 167.964 499.89 Q167.964 508.617 164.885 513.223 Q161.829 517.806 156.019 517.806 Q150.209 517.806 147.13 513.223 Q144.075 508.617 144.075 499.89 Q144.075 491.14 147.13 486.557 Q150.209 481.95 156.019 481.95 Z\" fill=\"#000000\" fill-rule=\"evenodd\" fill-opacity=\"1\" /><path clip-path=\"url(#clip500)\" d=\"M130.024 55.2679 Q133.38 55.9854 135.255 58.254 Q137.154 60.5225 137.154 63.8558 Q137.154 68.9715 133.635 71.7724 Q130.117 74.5733 123.635 74.5733 Q121.459 74.5733 119.144 74.1335 Q116.853 73.7168 114.399 72.8604 L114.399 68.3465 Q116.343 69.4807 118.658 70.0594 Q120.973 70.6381 123.496 70.6381 Q127.894 70.6381 130.186 68.902 Q132.501 67.1659 132.501 63.8558 Q132.501 60.8002 130.348 59.0873 Q128.218 57.3512 124.399 57.3512 L120.371 57.3512 L120.371 53.5086 L124.584 53.5086 Q128.033 53.5086 129.862 52.1429 Q131.691 50.754 131.691 48.1614 Q131.691 45.4994 129.792 44.0874 Q127.917 42.6522 124.399 42.6522 Q122.478 42.6522 120.279 43.0689 Q118.08 43.4855 115.441 44.3651 L115.441 40.1985 Q118.103 39.4578 120.418 39.0874 Q122.755 38.717 124.816 38.717 Q130.14 38.717 133.242 41.1476 Q136.343 43.555 136.343 47.6753 Q136.343 50.5457 134.7 52.5364 Q133.056 54.504 130.024 55.2679 Z\" fill=\"#000000\" fill-rule=\"evenodd\" fill-opacity=\"1\" /><path clip-path=\"url(#clip500)\" d=\"M156.019 42.4207 Q152.408 42.4207 150.579 45.9855 Q148.774 49.5271 148.774 56.6567 Q148.774 63.7632 150.579 67.328 Q152.408 70.8696 156.019 70.8696 Q159.653 70.8696 161.459 67.328 Q163.288 63.7632 163.288 56.6567 Q163.288 49.5271 161.459 45.9855 Q159.653 42.4207 156.019 42.4207 M156.019 38.717 Q161.829 38.717 164.885 43.3235 Q167.964 47.9068 167.964 56.6567 Q167.964 65.3835 164.885 69.99 Q161.829 74.5733 156.019 74.5733 Q150.209 74.5733 147.13 69.99 Q144.075 65.3835 144.075 56.6567 Q144.075 47.9068 147.13 43.3235 Q150.209 38.717 156.019 38.717 Z\" fill=\"#000000\" fill-rule=\"evenodd\" fill-opacity=\"1\" /><path clip-path=\"url(#clip500)\" d=\"M29.4065 898.413 L34.9447 898.413 Q33.6716 900.895 33.035 903.569 Q32.3984 906.243 32.3984 909.107 Q32.3984 913.468 33.7352 915.664 Q35.072 917.828 37.7456 917.828 Q39.7826 917.828 40.9603 916.269 Q42.1061 914.709 43.1565 909.998 L43.6021 907.993 Q44.9389 901.755 47.3897 899.145 Q49.8086 896.503 54.1691 896.503 Q59.1344 896.503 62.0308 900.45 Q64.9272 904.365 64.9272 911.24 Q64.9272 914.104 64.3543 917.223 Q63.8132 920.311 62.6992 923.748 L56.6518 923.748 Q58.3387 920.502 59.198 917.351 Q60.0256 914.2 60.0256 911.112 Q60.0256 906.975 58.6251 904.747 Q57.1929 902.519 54.6147 902.519 Q52.2276 902.519 50.9545 904.142 Q49.6813 905.733 48.5037 911.176 L48.0262 913.213 Q46.8804 918.656 44.5251 921.075 Q42.138 923.494 38.0002 923.494 Q32.9713 923.494 30.2341 919.929 Q27.4968 916.364 27.4968 909.807 Q27.4968 906.561 27.9743 903.696 Q28.4517 900.832 29.4065 898.413 Z\" fill=\"#000000\" fill-rule=\"evenodd\" fill-opacity=\"1\" /><path clip-path=\"url(#clip500)\" d=\"M32.4621 873.364 Q32.4621 878.074 36.1542 880.812 Q39.8145 883.549 46.212 883.549 Q52.6095 883.549 56.3017 880.843 Q59.9619 878.106 59.9619 873.364 Q59.9619 868.685 56.2698 865.948 Q52.5777 863.21 46.212 863.21 Q39.8781 863.21 36.186 865.948 Q32.4621 868.685 32.4621 873.364 M27.4968 873.364 Q27.4968 865.725 32.4621 861.364 Q37.4273 857.004 46.212 857.004 Q54.9649 857.004 59.9619 861.364 Q64.9272 865.725 64.9272 873.364 Q64.9272 881.034 59.9619 885.395 Q54.9649 889.724 46.212 889.724 Q37.4273 889.724 32.4621 885.395 Q27.4968 881.034 27.4968 873.364 Z\" fill=\"#000000\" fill-rule=\"evenodd\" fill-opacity=\"1\" /><path clip-path=\"url(#clip500)\" d=\"M14.479 847.296 L14.479 841.44 L64.0042 841.44 L64.0042 847.296 L14.479 847.296 Z\" fill=\"#000000\" fill-rule=\"evenodd\" fill-opacity=\"1\" /><path clip-path=\"url(#clip500)\" d=\"M55.9197 828.358 L55.9197 821.642 L64.0042 821.642 L64.0042 828.358 L55.9197 828.358 Z\" fill=\"#000000\" fill-rule=\"evenodd\" fill-opacity=\"1\" /><path clip-path=\"url(#clip500)\" d=\"M18.2347 781.952 L28.3562 781.952 L28.3562 769.889 L32.9077 769.889 L32.9077 781.952 L52.2594 781.952 Q56.6199 781.952 57.8613 780.775 Q59.1026 779.565 59.1026 775.905 L59.1026 769.889 L64.0042 769.889 L64.0042 775.905 Q64.0042 782.684 61.4897 785.262 Q58.9434 787.84 52.2594 787.84 L32.9077 787.84 L32.9077 792.137 L28.3562 792.137 L28.3562 787.84 L18.2347 787.84 L18.2347 781.952 Z\" fill=\"#000000\" fill-rule=\"evenodd\" fill-opacity=\"1\" /><path clip-path=\"url(#clip500)\" d=\"M28.3562 762.187 L28.3562 756.33 L64.0042 756.33 L64.0042 762.187 L28.3562 762.187 M14.479 762.187 L14.479 756.33 L21.895 756.33 L21.895 762.187 L14.479 762.187 Z\" fill=\"#000000\" fill-rule=\"evenodd\" fill-opacity=\"1\" /><path clip-path=\"url(#clip500)\" d=\"M35.1993 716.322 Q31.2526 714.126 29.3747 711.07 Q27.4968 708.014 27.4968 703.877 Q27.4968 698.307 31.4117 695.283 Q35.2948 692.259 42.4881 692.259 L64.0042 692.259 L64.0042 698.148 L42.679 698.148 Q37.5546 698.148 35.072 699.962 Q32.5894 701.776 32.5894 705.5 Q32.5894 710.052 35.6131 712.693 Q38.6368 715.335 43.8567 715.335 L64.0042 715.335 L64.0042 721.223 L42.679 721.223 Q37.5228 721.223 35.072 723.038 Q32.5894 724.852 32.5894 728.639 Q32.5894 733.127 35.6449 735.769 Q38.6686 738.411 43.8567 738.411 L64.0042 738.411 L64.0042 744.299 L28.3562 744.299 L28.3562 738.411 L33.8944 738.411 Q30.616 736.406 29.0564 733.605 Q27.4968 730.804 27.4968 726.952 Q27.4968 723.069 29.4702 720.364 Q31.4436 717.627 35.1993 716.322 Z\" fill=\"#000000\" fill-rule=\"evenodd\" fill-opacity=\"1\" /><path clip-path=\"url(#clip500)\" d=\"M44.7161 650.087 L47.5806 650.087 L47.5806 677.013 Q53.6281 676.632 56.8109 673.385 Q59.9619 670.107 59.9619 664.282 Q59.9619 660.908 59.1344 657.757 Q58.3069 654.574 56.6518 651.455 L62.1899 651.455 Q63.5267 654.606 64.227 657.916 Q64.9272 661.227 64.9272 664.632 Q64.9272 673.162 59.9619 678.159 Q54.9967 683.125 46.5303 683.125 Q37.7774 683.125 32.6531 678.414 Q27.4968 673.671 27.4968 665.651 Q27.4968 658.457 32.1438 654.288 Q36.7589 650.087 44.7161 650.087 M42.9973 655.943 Q38.1912 656.007 35.3266 658.648 Q32.4621 661.258 32.4621 665.587 Q32.4621 670.489 35.2312 673.449 Q38.0002 676.377 43.0292 676.823 L42.9973 655.943 Z\" fill=\"#000000\" fill-rule=\"evenodd\" fill-opacity=\"1\" /><path clip-path=\"url(#clip500)\" d=\"M14.479 620.295 L14.479 606.8 L19.0304 606.8 L19.0304 614.439 L68.0464 614.439 L68.0464 606.8 L72.5979 606.8 L72.5979 620.295 L14.479 620.295 Z\" fill=\"#000000\" fill-rule=\"evenodd\" fill-opacity=\"1\" /><path clip-path=\"url(#clip500)\" d=\"M29.4065 571.597 L34.9447 571.597 Q33.6716 574.08 33.035 576.754 Q32.3984 579.427 32.3984 582.292 Q32.3984 586.652 33.7352 588.848 Q35.072 591.013 37.7456 591.013 Q39.7826 591.013 40.9603 589.453 Q42.1061 587.894 43.1565 583.183 L43.6021 581.178 Q44.9389 574.939 47.3897 572.329 Q49.8086 569.688 54.1691 569.688 Q59.1344 569.688 62.0308 573.634 Q64.9272 577.549 64.9272 584.424 Q64.9272 587.289 64.3543 590.408 Q63.8132 593.495 62.6992 596.933 L56.6518 596.933 Q58.3387 593.686 59.198 590.535 Q60.0256 587.384 60.0256 584.297 Q60.0256 580.159 58.6251 577.931 Q57.1929 575.703 54.6147 575.703 Q52.2276 575.703 50.9545 577.327 Q49.6813 578.918 48.5037 584.361 L48.0262 586.398 Q46.8804 591.84 44.5251 594.259 Q42.138 596.678 38.0002 596.678 Q32.9713 596.678 30.2341 593.113 Q27.4968 589.549 27.4968 582.992 Q27.4968 579.745 27.9743 576.881 Q28.4517 574.016 29.4065 571.597 Z\" fill=\"#000000\" fill-rule=\"evenodd\" fill-opacity=\"1\" /><path clip-path=\"url(#clip500)\" d=\"M14.479 546.676 L72.5979 546.676 L72.5979 560.171 L68.0464 560.171 L68.0464 552.564 L19.0304 552.564 L19.0304 560.171 L14.479 560.171 L14.479 546.676 Z\" fill=\"#000000\" fill-rule=\"evenodd\" fill-opacity=\"1\" /><polyline clip-path=\"url(#clip502)\" style=\"stroke:#008000; stroke-linecap:round; stroke-linejoin:round; stroke-width:4; stroke-opacity:1; fill:none\" points=\"264.778,1382.16 306.149,1378.65 347.52,1375.46 388.89,1370.9 430.261,1363.54 471.632,1359.15 513.002,1354.19 554.373,1350.42 595.744,1345.54 637.114,1336.06 678.485,1335.66 719.856,1331.18 761.226,1321.7 802.597,1313.72 843.968,1311.9 885.338,1308.84 926.709,1303.7 968.08,1298.52 1009.45,1293.2 1050.82,1291.78 1092.19,1283.45 1133.56,1277.73 1174.93,1274.05 1216.3,1268.16 1257.67,1265.54 1299.05,1259.47 1340.42,1256.23 1381.79,1248.43 1423.16,1245.2 1464.53,1238.06 1505.9,1232.56 1547.27,1229.2 1588.64,1224.1 1630.01,1211.78 1671.38,1210.31 1712.75,1202.47 1754.12,1203.75 1795.49,1191.3 1836.86,1191.3 1878.23,1178.49 1919.61,1176.49 1960.98,1156.59 2002.35,1168.16 2043.72,1146.09 2085.09,1101.63 2126.46,1127.61 2167.83,1074.15 2209.2,1132.7 2250.57,1092.77 2291.94,1071.45 \"/>\n",
       "<circle clip-path=\"url(#clip502)\" cx=\"264.778\" cy=\"1382.16\" r=\"14.4\" fill=\"#008000\" fill-rule=\"evenodd\" fill-opacity=\"1\" stroke=\"#000000\" stroke-opacity=\"1\" stroke-width=\"3.2\"/>\n",
       "<circle clip-path=\"url(#clip502)\" cx=\"306.149\" cy=\"1378.65\" r=\"14.4\" fill=\"#008000\" fill-rule=\"evenodd\" fill-opacity=\"1\" stroke=\"#000000\" stroke-opacity=\"1\" stroke-width=\"3.2\"/>\n",
       "<circle clip-path=\"url(#clip502)\" cx=\"347.52\" cy=\"1375.46\" r=\"14.4\" fill=\"#008000\" fill-rule=\"evenodd\" fill-opacity=\"1\" stroke=\"#000000\" stroke-opacity=\"1\" stroke-width=\"3.2\"/>\n",
       "<circle clip-path=\"url(#clip502)\" cx=\"388.89\" cy=\"1370.9\" r=\"14.4\" fill=\"#008000\" fill-rule=\"evenodd\" fill-opacity=\"1\" stroke=\"#000000\" stroke-opacity=\"1\" stroke-width=\"3.2\"/>\n",
       "<circle clip-path=\"url(#clip502)\" cx=\"430.261\" cy=\"1363.54\" r=\"14.4\" fill=\"#008000\" fill-rule=\"evenodd\" fill-opacity=\"1\" stroke=\"#000000\" stroke-opacity=\"1\" stroke-width=\"3.2\"/>\n",
       "<circle clip-path=\"url(#clip502)\" cx=\"471.632\" cy=\"1359.15\" r=\"14.4\" fill=\"#008000\" fill-rule=\"evenodd\" fill-opacity=\"1\" stroke=\"#000000\" stroke-opacity=\"1\" stroke-width=\"3.2\"/>\n",
       "<circle clip-path=\"url(#clip502)\" cx=\"513.002\" cy=\"1354.19\" r=\"14.4\" fill=\"#008000\" fill-rule=\"evenodd\" fill-opacity=\"1\" stroke=\"#000000\" stroke-opacity=\"1\" stroke-width=\"3.2\"/>\n",
       "<circle clip-path=\"url(#clip502)\" cx=\"554.373\" cy=\"1350.42\" r=\"14.4\" fill=\"#008000\" fill-rule=\"evenodd\" fill-opacity=\"1\" stroke=\"#000000\" stroke-opacity=\"1\" stroke-width=\"3.2\"/>\n",
       "<circle clip-path=\"url(#clip502)\" cx=\"595.744\" cy=\"1345.54\" r=\"14.4\" fill=\"#008000\" fill-rule=\"evenodd\" fill-opacity=\"1\" stroke=\"#000000\" stroke-opacity=\"1\" stroke-width=\"3.2\"/>\n",
       "<circle clip-path=\"url(#clip502)\" cx=\"637.114\" cy=\"1336.06\" r=\"14.4\" fill=\"#008000\" fill-rule=\"evenodd\" fill-opacity=\"1\" stroke=\"#000000\" stroke-opacity=\"1\" stroke-width=\"3.2\"/>\n",
       "<circle clip-path=\"url(#clip502)\" cx=\"678.485\" cy=\"1335.66\" r=\"14.4\" fill=\"#008000\" fill-rule=\"evenodd\" fill-opacity=\"1\" stroke=\"#000000\" stroke-opacity=\"1\" stroke-width=\"3.2\"/>\n",
       "<circle clip-path=\"url(#clip502)\" cx=\"719.856\" cy=\"1331.18\" r=\"14.4\" fill=\"#008000\" fill-rule=\"evenodd\" fill-opacity=\"1\" stroke=\"#000000\" stroke-opacity=\"1\" stroke-width=\"3.2\"/>\n",
       "<circle clip-path=\"url(#clip502)\" cx=\"761.226\" cy=\"1321.7\" r=\"14.4\" fill=\"#008000\" fill-rule=\"evenodd\" fill-opacity=\"1\" stroke=\"#000000\" stroke-opacity=\"1\" stroke-width=\"3.2\"/>\n",
       "<circle clip-path=\"url(#clip502)\" cx=\"802.597\" cy=\"1313.72\" r=\"14.4\" fill=\"#008000\" fill-rule=\"evenodd\" fill-opacity=\"1\" stroke=\"#000000\" stroke-opacity=\"1\" stroke-width=\"3.2\"/>\n",
       "<circle clip-path=\"url(#clip502)\" cx=\"843.968\" cy=\"1311.9\" r=\"14.4\" fill=\"#008000\" fill-rule=\"evenodd\" fill-opacity=\"1\" stroke=\"#000000\" stroke-opacity=\"1\" stroke-width=\"3.2\"/>\n",
       "<circle clip-path=\"url(#clip502)\" cx=\"885.338\" cy=\"1308.84\" r=\"14.4\" fill=\"#008000\" fill-rule=\"evenodd\" fill-opacity=\"1\" stroke=\"#000000\" stroke-opacity=\"1\" stroke-width=\"3.2\"/>\n",
       "<circle clip-path=\"url(#clip502)\" cx=\"926.709\" cy=\"1303.7\" r=\"14.4\" fill=\"#008000\" fill-rule=\"evenodd\" fill-opacity=\"1\" stroke=\"#000000\" stroke-opacity=\"1\" stroke-width=\"3.2\"/>\n",
       "<circle clip-path=\"url(#clip502)\" cx=\"968.08\" cy=\"1298.52\" r=\"14.4\" fill=\"#008000\" fill-rule=\"evenodd\" fill-opacity=\"1\" stroke=\"#000000\" stroke-opacity=\"1\" stroke-width=\"3.2\"/>\n",
       "<circle clip-path=\"url(#clip502)\" cx=\"1009.45\" cy=\"1293.2\" r=\"14.4\" fill=\"#008000\" fill-rule=\"evenodd\" fill-opacity=\"1\" stroke=\"#000000\" stroke-opacity=\"1\" stroke-width=\"3.2\"/>\n",
       "<circle clip-path=\"url(#clip502)\" cx=\"1050.82\" cy=\"1291.78\" r=\"14.4\" fill=\"#008000\" fill-rule=\"evenodd\" fill-opacity=\"1\" stroke=\"#000000\" stroke-opacity=\"1\" stroke-width=\"3.2\"/>\n",
       "<circle clip-path=\"url(#clip502)\" cx=\"1092.19\" cy=\"1283.45\" r=\"14.4\" fill=\"#008000\" fill-rule=\"evenodd\" fill-opacity=\"1\" stroke=\"#000000\" stroke-opacity=\"1\" stroke-width=\"3.2\"/>\n",
       "<circle clip-path=\"url(#clip502)\" cx=\"1133.56\" cy=\"1277.73\" r=\"14.4\" fill=\"#008000\" fill-rule=\"evenodd\" fill-opacity=\"1\" stroke=\"#000000\" stroke-opacity=\"1\" stroke-width=\"3.2\"/>\n",
       "<circle clip-path=\"url(#clip502)\" cx=\"1174.93\" cy=\"1274.05\" r=\"14.4\" fill=\"#008000\" fill-rule=\"evenodd\" fill-opacity=\"1\" stroke=\"#000000\" stroke-opacity=\"1\" stroke-width=\"3.2\"/>\n",
       "<circle clip-path=\"url(#clip502)\" cx=\"1216.3\" cy=\"1268.16\" r=\"14.4\" fill=\"#008000\" fill-rule=\"evenodd\" fill-opacity=\"1\" stroke=\"#000000\" stroke-opacity=\"1\" stroke-width=\"3.2\"/>\n",
       "<circle clip-path=\"url(#clip502)\" cx=\"1257.67\" cy=\"1265.54\" r=\"14.4\" fill=\"#008000\" fill-rule=\"evenodd\" fill-opacity=\"1\" stroke=\"#000000\" stroke-opacity=\"1\" stroke-width=\"3.2\"/>\n",
       "<circle clip-path=\"url(#clip502)\" cx=\"1299.05\" cy=\"1259.47\" r=\"14.4\" fill=\"#008000\" fill-rule=\"evenodd\" fill-opacity=\"1\" stroke=\"#000000\" stroke-opacity=\"1\" stroke-width=\"3.2\"/>\n",
       "<circle clip-path=\"url(#clip502)\" cx=\"1340.42\" cy=\"1256.23\" r=\"14.4\" fill=\"#008000\" fill-rule=\"evenodd\" fill-opacity=\"1\" stroke=\"#000000\" stroke-opacity=\"1\" stroke-width=\"3.2\"/>\n",
       "<circle clip-path=\"url(#clip502)\" cx=\"1381.79\" cy=\"1248.43\" r=\"14.4\" fill=\"#008000\" fill-rule=\"evenodd\" fill-opacity=\"1\" stroke=\"#000000\" stroke-opacity=\"1\" stroke-width=\"3.2\"/>\n",
       "<circle clip-path=\"url(#clip502)\" cx=\"1423.16\" cy=\"1245.2\" r=\"14.4\" fill=\"#008000\" fill-rule=\"evenodd\" fill-opacity=\"1\" stroke=\"#000000\" stroke-opacity=\"1\" stroke-width=\"3.2\"/>\n",
       "<circle clip-path=\"url(#clip502)\" cx=\"1464.53\" cy=\"1238.06\" r=\"14.4\" fill=\"#008000\" fill-rule=\"evenodd\" fill-opacity=\"1\" stroke=\"#000000\" stroke-opacity=\"1\" stroke-width=\"3.2\"/>\n",
       "<circle clip-path=\"url(#clip502)\" cx=\"1505.9\" cy=\"1232.56\" r=\"14.4\" fill=\"#008000\" fill-rule=\"evenodd\" fill-opacity=\"1\" stroke=\"#000000\" stroke-opacity=\"1\" stroke-width=\"3.2\"/>\n",
       "<circle clip-path=\"url(#clip502)\" cx=\"1547.27\" cy=\"1229.2\" r=\"14.4\" fill=\"#008000\" fill-rule=\"evenodd\" fill-opacity=\"1\" stroke=\"#000000\" stroke-opacity=\"1\" stroke-width=\"3.2\"/>\n",
       "<circle clip-path=\"url(#clip502)\" cx=\"1588.64\" cy=\"1224.1\" r=\"14.4\" fill=\"#008000\" fill-rule=\"evenodd\" fill-opacity=\"1\" stroke=\"#000000\" stroke-opacity=\"1\" stroke-width=\"3.2\"/>\n",
       "<circle clip-path=\"url(#clip502)\" cx=\"1630.01\" cy=\"1211.78\" r=\"14.4\" fill=\"#008000\" fill-rule=\"evenodd\" fill-opacity=\"1\" stroke=\"#000000\" stroke-opacity=\"1\" stroke-width=\"3.2\"/>\n",
       "<circle clip-path=\"url(#clip502)\" cx=\"1671.38\" cy=\"1210.31\" r=\"14.4\" fill=\"#008000\" fill-rule=\"evenodd\" fill-opacity=\"1\" stroke=\"#000000\" stroke-opacity=\"1\" stroke-width=\"3.2\"/>\n",
       "<circle clip-path=\"url(#clip502)\" cx=\"1712.75\" cy=\"1202.47\" r=\"14.4\" fill=\"#008000\" fill-rule=\"evenodd\" fill-opacity=\"1\" stroke=\"#000000\" stroke-opacity=\"1\" stroke-width=\"3.2\"/>\n",
       "<circle clip-path=\"url(#clip502)\" cx=\"1754.12\" cy=\"1203.75\" r=\"14.4\" fill=\"#008000\" fill-rule=\"evenodd\" fill-opacity=\"1\" stroke=\"#000000\" stroke-opacity=\"1\" stroke-width=\"3.2\"/>\n",
       "<circle clip-path=\"url(#clip502)\" cx=\"1795.49\" cy=\"1191.3\" r=\"14.4\" fill=\"#008000\" fill-rule=\"evenodd\" fill-opacity=\"1\" stroke=\"#000000\" stroke-opacity=\"1\" stroke-width=\"3.2\"/>\n",
       "<circle clip-path=\"url(#clip502)\" cx=\"1836.86\" cy=\"1191.3\" r=\"14.4\" fill=\"#008000\" fill-rule=\"evenodd\" fill-opacity=\"1\" stroke=\"#000000\" stroke-opacity=\"1\" stroke-width=\"3.2\"/>\n",
       "<circle clip-path=\"url(#clip502)\" cx=\"1878.23\" cy=\"1178.49\" r=\"14.4\" fill=\"#008000\" fill-rule=\"evenodd\" fill-opacity=\"1\" stroke=\"#000000\" stroke-opacity=\"1\" stroke-width=\"3.2\"/>\n",
       "<circle clip-path=\"url(#clip502)\" cx=\"1919.61\" cy=\"1176.49\" r=\"14.4\" fill=\"#008000\" fill-rule=\"evenodd\" fill-opacity=\"1\" stroke=\"#000000\" stroke-opacity=\"1\" stroke-width=\"3.2\"/>\n",
       "<circle clip-path=\"url(#clip502)\" cx=\"1960.98\" cy=\"1156.59\" r=\"14.4\" fill=\"#008000\" fill-rule=\"evenodd\" fill-opacity=\"1\" stroke=\"#000000\" stroke-opacity=\"1\" stroke-width=\"3.2\"/>\n",
       "<circle clip-path=\"url(#clip502)\" cx=\"2002.35\" cy=\"1168.16\" r=\"14.4\" fill=\"#008000\" fill-rule=\"evenodd\" fill-opacity=\"1\" stroke=\"#000000\" stroke-opacity=\"1\" stroke-width=\"3.2\"/>\n",
       "<circle clip-path=\"url(#clip502)\" cx=\"2043.72\" cy=\"1146.09\" r=\"14.4\" fill=\"#008000\" fill-rule=\"evenodd\" fill-opacity=\"1\" stroke=\"#000000\" stroke-opacity=\"1\" stroke-width=\"3.2\"/>\n",
       "<circle clip-path=\"url(#clip502)\" cx=\"2085.09\" cy=\"1101.63\" r=\"14.4\" fill=\"#008000\" fill-rule=\"evenodd\" fill-opacity=\"1\" stroke=\"#000000\" stroke-opacity=\"1\" stroke-width=\"3.2\"/>\n",
       "<circle clip-path=\"url(#clip502)\" cx=\"2126.46\" cy=\"1127.61\" r=\"14.4\" fill=\"#008000\" fill-rule=\"evenodd\" fill-opacity=\"1\" stroke=\"#000000\" stroke-opacity=\"1\" stroke-width=\"3.2\"/>\n",
       "<circle clip-path=\"url(#clip502)\" cx=\"2167.83\" cy=\"1074.15\" r=\"14.4\" fill=\"#008000\" fill-rule=\"evenodd\" fill-opacity=\"1\" stroke=\"#000000\" stroke-opacity=\"1\" stroke-width=\"3.2\"/>\n",
       "<circle clip-path=\"url(#clip502)\" cx=\"2209.2\" cy=\"1132.7\" r=\"14.4\" fill=\"#008000\" fill-rule=\"evenodd\" fill-opacity=\"1\" stroke=\"#000000\" stroke-opacity=\"1\" stroke-width=\"3.2\"/>\n",
       "<circle clip-path=\"url(#clip502)\" cx=\"2250.57\" cy=\"1092.77\" r=\"14.4\" fill=\"#008000\" fill-rule=\"evenodd\" fill-opacity=\"1\" stroke=\"#000000\" stroke-opacity=\"1\" stroke-width=\"3.2\"/>\n",
       "<circle clip-path=\"url(#clip502)\" cx=\"2291.94\" cy=\"1071.45\" r=\"14.4\" fill=\"#008000\" fill-rule=\"evenodd\" fill-opacity=\"1\" stroke=\"#000000\" stroke-opacity=\"1\" stroke-width=\"3.2\"/>\n",
       "<polyline clip-path=\"url(#clip502)\" style=\"stroke:#0000ff; stroke-linecap:round; stroke-linejoin:round; stroke-width:4; stroke-opacity:1; fill:none\" points=\"264.778,1383.31 306.149,1381.71 347.52,1379.01 388.89,1374.53 430.261,1364.43 471.632,1328.3 513.002,1298.25 554.373,1306.5 595.744,1323.29 637.114,1315.8 678.485,1314.3 719.856,1304.72 761.226,1290.67 802.597,1278.93 843.968,1263.63 885.338,1260.8 926.709,1234.78 968.08,1224.36 1009.45,1193.56 1050.82,1183.19 1092.19,1190.86 1133.56,1107.79 1174.93,1134.7 1216.3,1098.53 1257.67,1069.99 1299.05,1054.07 1340.42,1036.92 1381.79,1020.48 1423.16,969.993 1464.53,965.605 1505.9,943.443 1547.27,878.598 1588.64,812.379 1630.01,811.448 1671.38,760.255 1712.75,744.476 1754.12,650.998 1795.49,620.415 1836.86,550.428 1878.23,606.763 1919.61,483.456 1960.98,429.027 2002.35,431.819 2043.72,359.793 2085.09,297.298 2126.46,221.46 2167.83,263.08 2209.2,142.033 2250.57,86.1857 2291.94,112.913 \"/>\n",
       "<line clip-path=\"url(#clip502)\" x1=\"264.778\" y1=\"1383.31\" x2=\"264.778\" y2=\"1367.31\" style=\"stroke:#0000ff; stroke-width:3.2; stroke-opacity:1\"/>\n",
       "<line clip-path=\"url(#clip502)\" x1=\"264.778\" y1=\"1383.31\" x2=\"248.778\" y2=\"1383.31\" style=\"stroke:#0000ff; stroke-width:3.2; stroke-opacity:1\"/>\n",
       "<line clip-path=\"url(#clip502)\" x1=\"264.778\" y1=\"1383.31\" x2=\"264.778\" y2=\"1399.31\" style=\"stroke:#0000ff; stroke-width:3.2; stroke-opacity:1\"/>\n",
       "<line clip-path=\"url(#clip502)\" x1=\"264.778\" y1=\"1383.31\" x2=\"280.778\" y2=\"1383.31\" style=\"stroke:#0000ff; stroke-width:3.2; stroke-opacity:1\"/>\n",
       "<line clip-path=\"url(#clip502)\" x1=\"306.149\" y1=\"1381.71\" x2=\"306.149\" y2=\"1365.71\" style=\"stroke:#0000ff; stroke-width:3.2; stroke-opacity:1\"/>\n",
       "<line clip-path=\"url(#clip502)\" x1=\"306.149\" y1=\"1381.71\" x2=\"290.149\" y2=\"1381.71\" style=\"stroke:#0000ff; stroke-width:3.2; stroke-opacity:1\"/>\n",
       "<line clip-path=\"url(#clip502)\" x1=\"306.149\" y1=\"1381.71\" x2=\"306.149\" y2=\"1397.71\" style=\"stroke:#0000ff; stroke-width:3.2; stroke-opacity:1\"/>\n",
       "<line clip-path=\"url(#clip502)\" x1=\"306.149\" y1=\"1381.71\" x2=\"322.149\" y2=\"1381.71\" style=\"stroke:#0000ff; stroke-width:3.2; stroke-opacity:1\"/>\n",
       "<line clip-path=\"url(#clip502)\" x1=\"347.52\" y1=\"1379.01\" x2=\"347.52\" y2=\"1363.01\" style=\"stroke:#0000ff; stroke-width:3.2; stroke-opacity:1\"/>\n",
       "<line clip-path=\"url(#clip502)\" x1=\"347.52\" y1=\"1379.01\" x2=\"331.52\" y2=\"1379.01\" style=\"stroke:#0000ff; stroke-width:3.2; stroke-opacity:1\"/>\n",
       "<line clip-path=\"url(#clip502)\" x1=\"347.52\" y1=\"1379.01\" x2=\"347.52\" y2=\"1395.01\" style=\"stroke:#0000ff; stroke-width:3.2; stroke-opacity:1\"/>\n",
       "<line clip-path=\"url(#clip502)\" x1=\"347.52\" y1=\"1379.01\" x2=\"363.52\" y2=\"1379.01\" style=\"stroke:#0000ff; stroke-width:3.2; stroke-opacity:1\"/>\n",
       "<line clip-path=\"url(#clip502)\" x1=\"388.89\" y1=\"1374.53\" x2=\"388.89\" y2=\"1358.53\" style=\"stroke:#0000ff; stroke-width:3.2; stroke-opacity:1\"/>\n",
       "<line clip-path=\"url(#clip502)\" x1=\"388.89\" y1=\"1374.53\" x2=\"372.89\" y2=\"1374.53\" style=\"stroke:#0000ff; stroke-width:3.2; stroke-opacity:1\"/>\n",
       "<line clip-path=\"url(#clip502)\" x1=\"388.89\" y1=\"1374.53\" x2=\"388.89\" y2=\"1390.53\" style=\"stroke:#0000ff; stroke-width:3.2; stroke-opacity:1\"/>\n",
       "<line clip-path=\"url(#clip502)\" x1=\"388.89\" y1=\"1374.53\" x2=\"404.89\" y2=\"1374.53\" style=\"stroke:#0000ff; stroke-width:3.2; stroke-opacity:1\"/>\n",
       "<line clip-path=\"url(#clip502)\" x1=\"430.261\" y1=\"1364.43\" x2=\"430.261\" y2=\"1348.43\" style=\"stroke:#0000ff; stroke-width:3.2; stroke-opacity:1\"/>\n",
       "<line clip-path=\"url(#clip502)\" x1=\"430.261\" y1=\"1364.43\" x2=\"414.261\" y2=\"1364.43\" style=\"stroke:#0000ff; stroke-width:3.2; stroke-opacity:1\"/>\n",
       "<line clip-path=\"url(#clip502)\" x1=\"430.261\" y1=\"1364.43\" x2=\"430.261\" y2=\"1380.43\" style=\"stroke:#0000ff; stroke-width:3.2; stroke-opacity:1\"/>\n",
       "<line clip-path=\"url(#clip502)\" x1=\"430.261\" y1=\"1364.43\" x2=\"446.261\" y2=\"1364.43\" style=\"stroke:#0000ff; stroke-width:3.2; stroke-opacity:1\"/>\n",
       "<line clip-path=\"url(#clip502)\" x1=\"471.632\" y1=\"1328.3\" x2=\"471.632\" y2=\"1312.3\" style=\"stroke:#0000ff; stroke-width:3.2; stroke-opacity:1\"/>\n",
       "<line clip-path=\"url(#clip502)\" x1=\"471.632\" y1=\"1328.3\" x2=\"455.632\" y2=\"1328.3\" style=\"stroke:#0000ff; stroke-width:3.2; stroke-opacity:1\"/>\n",
       "<line clip-path=\"url(#clip502)\" x1=\"471.632\" y1=\"1328.3\" x2=\"471.632\" y2=\"1344.3\" style=\"stroke:#0000ff; stroke-width:3.2; stroke-opacity:1\"/>\n",
       "<line clip-path=\"url(#clip502)\" x1=\"471.632\" y1=\"1328.3\" x2=\"487.632\" y2=\"1328.3\" style=\"stroke:#0000ff; stroke-width:3.2; stroke-opacity:1\"/>\n",
       "<line clip-path=\"url(#clip502)\" x1=\"513.002\" y1=\"1298.25\" x2=\"513.002\" y2=\"1282.25\" style=\"stroke:#0000ff; stroke-width:3.2; stroke-opacity:1\"/>\n",
       "<line clip-path=\"url(#clip502)\" x1=\"513.002\" y1=\"1298.25\" x2=\"497.002\" y2=\"1298.25\" style=\"stroke:#0000ff; stroke-width:3.2; stroke-opacity:1\"/>\n",
       "<line clip-path=\"url(#clip502)\" x1=\"513.002\" y1=\"1298.25\" x2=\"513.002\" y2=\"1314.25\" style=\"stroke:#0000ff; stroke-width:3.2; stroke-opacity:1\"/>\n",
       "<line clip-path=\"url(#clip502)\" x1=\"513.002\" y1=\"1298.25\" x2=\"529.002\" y2=\"1298.25\" style=\"stroke:#0000ff; stroke-width:3.2; stroke-opacity:1\"/>\n",
       "<line clip-path=\"url(#clip502)\" x1=\"554.373\" y1=\"1306.5\" x2=\"554.373\" y2=\"1290.5\" style=\"stroke:#0000ff; stroke-width:3.2; stroke-opacity:1\"/>\n",
       "<line clip-path=\"url(#clip502)\" x1=\"554.373\" y1=\"1306.5\" x2=\"538.373\" y2=\"1306.5\" style=\"stroke:#0000ff; stroke-width:3.2; stroke-opacity:1\"/>\n",
       "<line clip-path=\"url(#clip502)\" x1=\"554.373\" y1=\"1306.5\" x2=\"554.373\" y2=\"1322.5\" style=\"stroke:#0000ff; stroke-width:3.2; stroke-opacity:1\"/>\n",
       "<line clip-path=\"url(#clip502)\" x1=\"554.373\" y1=\"1306.5\" x2=\"570.373\" y2=\"1306.5\" style=\"stroke:#0000ff; stroke-width:3.2; stroke-opacity:1\"/>\n",
       "<line clip-path=\"url(#clip502)\" x1=\"595.744\" y1=\"1323.29\" x2=\"595.744\" y2=\"1307.29\" style=\"stroke:#0000ff; stroke-width:3.2; stroke-opacity:1\"/>\n",
       "<line clip-path=\"url(#clip502)\" x1=\"595.744\" y1=\"1323.29\" x2=\"579.744\" y2=\"1323.29\" style=\"stroke:#0000ff; stroke-width:3.2; stroke-opacity:1\"/>\n",
       "<line clip-path=\"url(#clip502)\" x1=\"595.744\" y1=\"1323.29\" x2=\"595.744\" y2=\"1339.29\" style=\"stroke:#0000ff; stroke-width:3.2; stroke-opacity:1\"/>\n",
       "<line clip-path=\"url(#clip502)\" x1=\"595.744\" y1=\"1323.29\" x2=\"611.744\" y2=\"1323.29\" style=\"stroke:#0000ff; stroke-width:3.2; stroke-opacity:1\"/>\n",
       "<line clip-path=\"url(#clip502)\" x1=\"637.114\" y1=\"1315.8\" x2=\"637.114\" y2=\"1299.8\" style=\"stroke:#0000ff; stroke-width:3.2; stroke-opacity:1\"/>\n",
       "<line clip-path=\"url(#clip502)\" x1=\"637.114\" y1=\"1315.8\" x2=\"621.114\" y2=\"1315.8\" style=\"stroke:#0000ff; stroke-width:3.2; stroke-opacity:1\"/>\n",
       "<line clip-path=\"url(#clip502)\" x1=\"637.114\" y1=\"1315.8\" x2=\"637.114\" y2=\"1331.8\" style=\"stroke:#0000ff; stroke-width:3.2; stroke-opacity:1\"/>\n",
       "<line clip-path=\"url(#clip502)\" x1=\"637.114\" y1=\"1315.8\" x2=\"653.114\" y2=\"1315.8\" style=\"stroke:#0000ff; stroke-width:3.2; stroke-opacity:1\"/>\n",
       "<line clip-path=\"url(#clip502)\" x1=\"678.485\" y1=\"1314.3\" x2=\"678.485\" y2=\"1298.3\" style=\"stroke:#0000ff; stroke-width:3.2; stroke-opacity:1\"/>\n",
       "<line clip-path=\"url(#clip502)\" x1=\"678.485\" y1=\"1314.3\" x2=\"662.485\" y2=\"1314.3\" style=\"stroke:#0000ff; stroke-width:3.2; stroke-opacity:1\"/>\n",
       "<line clip-path=\"url(#clip502)\" x1=\"678.485\" y1=\"1314.3\" x2=\"678.485\" y2=\"1330.3\" style=\"stroke:#0000ff; stroke-width:3.2; stroke-opacity:1\"/>\n",
       "<line clip-path=\"url(#clip502)\" x1=\"678.485\" y1=\"1314.3\" x2=\"694.485\" y2=\"1314.3\" style=\"stroke:#0000ff; stroke-width:3.2; stroke-opacity:1\"/>\n",
       "<line clip-path=\"url(#clip502)\" x1=\"719.856\" y1=\"1304.72\" x2=\"719.856\" y2=\"1288.72\" style=\"stroke:#0000ff; stroke-width:3.2; stroke-opacity:1\"/>\n",
       "<line clip-path=\"url(#clip502)\" x1=\"719.856\" y1=\"1304.72\" x2=\"703.856\" y2=\"1304.72\" style=\"stroke:#0000ff; stroke-width:3.2; stroke-opacity:1\"/>\n",
       "<line clip-path=\"url(#clip502)\" x1=\"719.856\" y1=\"1304.72\" x2=\"719.856\" y2=\"1320.72\" style=\"stroke:#0000ff; stroke-width:3.2; stroke-opacity:1\"/>\n",
       "<line clip-path=\"url(#clip502)\" x1=\"719.856\" y1=\"1304.72\" x2=\"735.856\" y2=\"1304.72\" style=\"stroke:#0000ff; stroke-width:3.2; stroke-opacity:1\"/>\n",
       "<line clip-path=\"url(#clip502)\" x1=\"761.226\" y1=\"1290.67\" x2=\"761.226\" y2=\"1274.67\" style=\"stroke:#0000ff; stroke-width:3.2; stroke-opacity:1\"/>\n",
       "<line clip-path=\"url(#clip502)\" x1=\"761.226\" y1=\"1290.67\" x2=\"745.226\" y2=\"1290.67\" style=\"stroke:#0000ff; stroke-width:3.2; stroke-opacity:1\"/>\n",
       "<line clip-path=\"url(#clip502)\" x1=\"761.226\" y1=\"1290.67\" x2=\"761.226\" y2=\"1306.67\" style=\"stroke:#0000ff; stroke-width:3.2; stroke-opacity:1\"/>\n",
       "<line clip-path=\"url(#clip502)\" x1=\"761.226\" y1=\"1290.67\" x2=\"777.226\" y2=\"1290.67\" style=\"stroke:#0000ff; stroke-width:3.2; stroke-opacity:1\"/>\n",
       "<line clip-path=\"url(#clip502)\" x1=\"802.597\" y1=\"1278.93\" x2=\"802.597\" y2=\"1262.93\" style=\"stroke:#0000ff; stroke-width:3.2; stroke-opacity:1\"/>\n",
       "<line clip-path=\"url(#clip502)\" x1=\"802.597\" y1=\"1278.93\" x2=\"786.597\" y2=\"1278.93\" style=\"stroke:#0000ff; stroke-width:3.2; stroke-opacity:1\"/>\n",
       "<line clip-path=\"url(#clip502)\" x1=\"802.597\" y1=\"1278.93\" x2=\"802.597\" y2=\"1294.93\" style=\"stroke:#0000ff; stroke-width:3.2; stroke-opacity:1\"/>\n",
       "<line clip-path=\"url(#clip502)\" x1=\"802.597\" y1=\"1278.93\" x2=\"818.597\" y2=\"1278.93\" style=\"stroke:#0000ff; stroke-width:3.2; stroke-opacity:1\"/>\n",
       "<line clip-path=\"url(#clip502)\" x1=\"843.968\" y1=\"1263.63\" x2=\"843.968\" y2=\"1247.63\" style=\"stroke:#0000ff; stroke-width:3.2; stroke-opacity:1\"/>\n",
       "<line clip-path=\"url(#clip502)\" x1=\"843.968\" y1=\"1263.63\" x2=\"827.968\" y2=\"1263.63\" style=\"stroke:#0000ff; stroke-width:3.2; stroke-opacity:1\"/>\n",
       "<line clip-path=\"url(#clip502)\" x1=\"843.968\" y1=\"1263.63\" x2=\"843.968\" y2=\"1279.63\" style=\"stroke:#0000ff; stroke-width:3.2; stroke-opacity:1\"/>\n",
       "<line clip-path=\"url(#clip502)\" x1=\"843.968\" y1=\"1263.63\" x2=\"859.968\" y2=\"1263.63\" style=\"stroke:#0000ff; stroke-width:3.2; stroke-opacity:1\"/>\n",
       "<line clip-path=\"url(#clip502)\" x1=\"885.338\" y1=\"1260.8\" x2=\"885.338\" y2=\"1244.8\" style=\"stroke:#0000ff; stroke-width:3.2; stroke-opacity:1\"/>\n",
       "<line clip-path=\"url(#clip502)\" x1=\"885.338\" y1=\"1260.8\" x2=\"869.338\" y2=\"1260.8\" style=\"stroke:#0000ff; stroke-width:3.2; stroke-opacity:1\"/>\n",
       "<line clip-path=\"url(#clip502)\" x1=\"885.338\" y1=\"1260.8\" x2=\"885.338\" y2=\"1276.8\" style=\"stroke:#0000ff; stroke-width:3.2; stroke-opacity:1\"/>\n",
       "<line clip-path=\"url(#clip502)\" x1=\"885.338\" y1=\"1260.8\" x2=\"901.338\" y2=\"1260.8\" style=\"stroke:#0000ff; stroke-width:3.2; stroke-opacity:1\"/>\n",
       "<line clip-path=\"url(#clip502)\" x1=\"926.709\" y1=\"1234.78\" x2=\"926.709\" y2=\"1218.78\" style=\"stroke:#0000ff; stroke-width:3.2; stroke-opacity:1\"/>\n",
       "<line clip-path=\"url(#clip502)\" x1=\"926.709\" y1=\"1234.78\" x2=\"910.709\" y2=\"1234.78\" style=\"stroke:#0000ff; stroke-width:3.2; stroke-opacity:1\"/>\n",
       "<line clip-path=\"url(#clip502)\" x1=\"926.709\" y1=\"1234.78\" x2=\"926.709\" y2=\"1250.78\" style=\"stroke:#0000ff; stroke-width:3.2; stroke-opacity:1\"/>\n",
       "<line clip-path=\"url(#clip502)\" x1=\"926.709\" y1=\"1234.78\" x2=\"942.709\" y2=\"1234.78\" style=\"stroke:#0000ff; stroke-width:3.2; stroke-opacity:1\"/>\n",
       "<line clip-path=\"url(#clip502)\" x1=\"968.08\" y1=\"1224.36\" x2=\"968.08\" y2=\"1208.36\" style=\"stroke:#0000ff; stroke-width:3.2; stroke-opacity:1\"/>\n",
       "<line clip-path=\"url(#clip502)\" x1=\"968.08\" y1=\"1224.36\" x2=\"952.08\" y2=\"1224.36\" style=\"stroke:#0000ff; stroke-width:3.2; stroke-opacity:1\"/>\n",
       "<line clip-path=\"url(#clip502)\" x1=\"968.08\" y1=\"1224.36\" x2=\"968.08\" y2=\"1240.36\" style=\"stroke:#0000ff; stroke-width:3.2; stroke-opacity:1\"/>\n",
       "<line clip-path=\"url(#clip502)\" x1=\"968.08\" y1=\"1224.36\" x2=\"984.08\" y2=\"1224.36\" style=\"stroke:#0000ff; stroke-width:3.2; stroke-opacity:1\"/>\n",
       "<line clip-path=\"url(#clip502)\" x1=\"1009.45\" y1=\"1193.56\" x2=\"1009.45\" y2=\"1177.56\" style=\"stroke:#0000ff; stroke-width:3.2; stroke-opacity:1\"/>\n",
       "<line clip-path=\"url(#clip502)\" x1=\"1009.45\" y1=\"1193.56\" x2=\"993.45\" y2=\"1193.56\" style=\"stroke:#0000ff; stroke-width:3.2; stroke-opacity:1\"/>\n",
       "<line clip-path=\"url(#clip502)\" x1=\"1009.45\" y1=\"1193.56\" x2=\"1009.45\" y2=\"1209.56\" style=\"stroke:#0000ff; stroke-width:3.2; stroke-opacity:1\"/>\n",
       "<line clip-path=\"url(#clip502)\" x1=\"1009.45\" y1=\"1193.56\" x2=\"1025.45\" y2=\"1193.56\" style=\"stroke:#0000ff; stroke-width:3.2; stroke-opacity:1\"/>\n",
       "<line clip-path=\"url(#clip502)\" x1=\"1050.82\" y1=\"1183.19\" x2=\"1050.82\" y2=\"1167.19\" style=\"stroke:#0000ff; stroke-width:3.2; stroke-opacity:1\"/>\n",
       "<line clip-path=\"url(#clip502)\" x1=\"1050.82\" y1=\"1183.19\" x2=\"1034.82\" y2=\"1183.19\" style=\"stroke:#0000ff; stroke-width:3.2; stroke-opacity:1\"/>\n",
       "<line clip-path=\"url(#clip502)\" x1=\"1050.82\" y1=\"1183.19\" x2=\"1050.82\" y2=\"1199.19\" style=\"stroke:#0000ff; stroke-width:3.2; stroke-opacity:1\"/>\n",
       "<line clip-path=\"url(#clip502)\" x1=\"1050.82\" y1=\"1183.19\" x2=\"1066.82\" y2=\"1183.19\" style=\"stroke:#0000ff; stroke-width:3.2; stroke-opacity:1\"/>\n",
       "<line clip-path=\"url(#clip502)\" x1=\"1092.19\" y1=\"1190.86\" x2=\"1092.19\" y2=\"1174.86\" style=\"stroke:#0000ff; stroke-width:3.2; stroke-opacity:1\"/>\n",
       "<line clip-path=\"url(#clip502)\" x1=\"1092.19\" y1=\"1190.86\" x2=\"1076.19\" y2=\"1190.86\" style=\"stroke:#0000ff; stroke-width:3.2; stroke-opacity:1\"/>\n",
       "<line clip-path=\"url(#clip502)\" x1=\"1092.19\" y1=\"1190.86\" x2=\"1092.19\" y2=\"1206.86\" style=\"stroke:#0000ff; stroke-width:3.2; stroke-opacity:1\"/>\n",
       "<line clip-path=\"url(#clip502)\" x1=\"1092.19\" y1=\"1190.86\" x2=\"1108.19\" y2=\"1190.86\" style=\"stroke:#0000ff; stroke-width:3.2; stroke-opacity:1\"/>\n",
       "<line clip-path=\"url(#clip502)\" x1=\"1133.56\" y1=\"1107.79\" x2=\"1133.56\" y2=\"1091.79\" style=\"stroke:#0000ff; stroke-width:3.2; stroke-opacity:1\"/>\n",
       "<line clip-path=\"url(#clip502)\" x1=\"1133.56\" y1=\"1107.79\" x2=\"1117.56\" y2=\"1107.79\" style=\"stroke:#0000ff; stroke-width:3.2; stroke-opacity:1\"/>\n",
       "<line clip-path=\"url(#clip502)\" x1=\"1133.56\" y1=\"1107.79\" x2=\"1133.56\" y2=\"1123.79\" style=\"stroke:#0000ff; stroke-width:3.2; stroke-opacity:1\"/>\n",
       "<line clip-path=\"url(#clip502)\" x1=\"1133.56\" y1=\"1107.79\" x2=\"1149.56\" y2=\"1107.79\" style=\"stroke:#0000ff; stroke-width:3.2; stroke-opacity:1\"/>\n",
       "<line clip-path=\"url(#clip502)\" x1=\"1174.93\" y1=\"1134.7\" x2=\"1174.93\" y2=\"1118.7\" style=\"stroke:#0000ff; stroke-width:3.2; stroke-opacity:1\"/>\n",
       "<line clip-path=\"url(#clip502)\" x1=\"1174.93\" y1=\"1134.7\" x2=\"1158.93\" y2=\"1134.7\" style=\"stroke:#0000ff; stroke-width:3.2; stroke-opacity:1\"/>\n",
       "<line clip-path=\"url(#clip502)\" x1=\"1174.93\" y1=\"1134.7\" x2=\"1174.93\" y2=\"1150.7\" style=\"stroke:#0000ff; stroke-width:3.2; stroke-opacity:1\"/>\n",
       "<line clip-path=\"url(#clip502)\" x1=\"1174.93\" y1=\"1134.7\" x2=\"1190.93\" y2=\"1134.7\" style=\"stroke:#0000ff; stroke-width:3.2; stroke-opacity:1\"/>\n",
       "<line clip-path=\"url(#clip502)\" x1=\"1216.3\" y1=\"1098.53\" x2=\"1216.3\" y2=\"1082.53\" style=\"stroke:#0000ff; stroke-width:3.2; stroke-opacity:1\"/>\n",
       "<line clip-path=\"url(#clip502)\" x1=\"1216.3\" y1=\"1098.53\" x2=\"1200.3\" y2=\"1098.53\" style=\"stroke:#0000ff; stroke-width:3.2; stroke-opacity:1\"/>\n",
       "<line clip-path=\"url(#clip502)\" x1=\"1216.3\" y1=\"1098.53\" x2=\"1216.3\" y2=\"1114.53\" style=\"stroke:#0000ff; stroke-width:3.2; stroke-opacity:1\"/>\n",
       "<line clip-path=\"url(#clip502)\" x1=\"1216.3\" y1=\"1098.53\" x2=\"1232.3\" y2=\"1098.53\" style=\"stroke:#0000ff; stroke-width:3.2; stroke-opacity:1\"/>\n",
       "<line clip-path=\"url(#clip502)\" x1=\"1257.67\" y1=\"1069.99\" x2=\"1257.67\" y2=\"1053.99\" style=\"stroke:#0000ff; stroke-width:3.2; stroke-opacity:1\"/>\n",
       "<line clip-path=\"url(#clip502)\" x1=\"1257.67\" y1=\"1069.99\" x2=\"1241.67\" y2=\"1069.99\" style=\"stroke:#0000ff; stroke-width:3.2; stroke-opacity:1\"/>\n",
       "<line clip-path=\"url(#clip502)\" x1=\"1257.67\" y1=\"1069.99\" x2=\"1257.67\" y2=\"1085.99\" style=\"stroke:#0000ff; stroke-width:3.2; stroke-opacity:1\"/>\n",
       "<line clip-path=\"url(#clip502)\" x1=\"1257.67\" y1=\"1069.99\" x2=\"1273.67\" y2=\"1069.99\" style=\"stroke:#0000ff; stroke-width:3.2; stroke-opacity:1\"/>\n",
       "<line clip-path=\"url(#clip502)\" x1=\"1299.05\" y1=\"1054.07\" x2=\"1299.05\" y2=\"1038.07\" style=\"stroke:#0000ff; stroke-width:3.2; stroke-opacity:1\"/>\n",
       "<line clip-path=\"url(#clip502)\" x1=\"1299.05\" y1=\"1054.07\" x2=\"1283.05\" y2=\"1054.07\" style=\"stroke:#0000ff; stroke-width:3.2; stroke-opacity:1\"/>\n",
       "<line clip-path=\"url(#clip502)\" x1=\"1299.05\" y1=\"1054.07\" x2=\"1299.05\" y2=\"1070.07\" style=\"stroke:#0000ff; stroke-width:3.2; stroke-opacity:1\"/>\n",
       "<line clip-path=\"url(#clip502)\" x1=\"1299.05\" y1=\"1054.07\" x2=\"1315.05\" y2=\"1054.07\" style=\"stroke:#0000ff; stroke-width:3.2; stroke-opacity:1\"/>\n",
       "<line clip-path=\"url(#clip502)\" x1=\"1340.42\" y1=\"1036.92\" x2=\"1340.42\" y2=\"1020.92\" style=\"stroke:#0000ff; stroke-width:3.2; stroke-opacity:1\"/>\n",
       "<line clip-path=\"url(#clip502)\" x1=\"1340.42\" y1=\"1036.92\" x2=\"1324.42\" y2=\"1036.92\" style=\"stroke:#0000ff; stroke-width:3.2; stroke-opacity:1\"/>\n",
       "<line clip-path=\"url(#clip502)\" x1=\"1340.42\" y1=\"1036.92\" x2=\"1340.42\" y2=\"1052.92\" style=\"stroke:#0000ff; stroke-width:3.2; stroke-opacity:1\"/>\n",
       "<line clip-path=\"url(#clip502)\" x1=\"1340.42\" y1=\"1036.92\" x2=\"1356.42\" y2=\"1036.92\" style=\"stroke:#0000ff; stroke-width:3.2; stroke-opacity:1\"/>\n",
       "<line clip-path=\"url(#clip502)\" x1=\"1381.79\" y1=\"1020.48\" x2=\"1381.79\" y2=\"1004.48\" style=\"stroke:#0000ff; stroke-width:3.2; stroke-opacity:1\"/>\n",
       "<line clip-path=\"url(#clip502)\" x1=\"1381.79\" y1=\"1020.48\" x2=\"1365.79\" y2=\"1020.48\" style=\"stroke:#0000ff; stroke-width:3.2; stroke-opacity:1\"/>\n",
       "<line clip-path=\"url(#clip502)\" x1=\"1381.79\" y1=\"1020.48\" x2=\"1381.79\" y2=\"1036.48\" style=\"stroke:#0000ff; stroke-width:3.2; stroke-opacity:1\"/>\n",
       "<line clip-path=\"url(#clip502)\" x1=\"1381.79\" y1=\"1020.48\" x2=\"1397.79\" y2=\"1020.48\" style=\"stroke:#0000ff; stroke-width:3.2; stroke-opacity:1\"/>\n",
       "<line clip-path=\"url(#clip502)\" x1=\"1423.16\" y1=\"969.993\" x2=\"1423.16\" y2=\"953.993\" style=\"stroke:#0000ff; stroke-width:3.2; stroke-opacity:1\"/>\n",
       "<line clip-path=\"url(#clip502)\" x1=\"1423.16\" y1=\"969.993\" x2=\"1407.16\" y2=\"969.993\" style=\"stroke:#0000ff; stroke-width:3.2; stroke-opacity:1\"/>\n",
       "<line clip-path=\"url(#clip502)\" x1=\"1423.16\" y1=\"969.993\" x2=\"1423.16\" y2=\"985.993\" style=\"stroke:#0000ff; stroke-width:3.2; stroke-opacity:1\"/>\n",
       "<line clip-path=\"url(#clip502)\" x1=\"1423.16\" y1=\"969.993\" x2=\"1439.16\" y2=\"969.993\" style=\"stroke:#0000ff; stroke-width:3.2; stroke-opacity:1\"/>\n",
       "<line clip-path=\"url(#clip502)\" x1=\"1464.53\" y1=\"965.605\" x2=\"1464.53\" y2=\"949.605\" style=\"stroke:#0000ff; stroke-width:3.2; stroke-opacity:1\"/>\n",
       "<line clip-path=\"url(#clip502)\" x1=\"1464.53\" y1=\"965.605\" x2=\"1448.53\" y2=\"965.605\" style=\"stroke:#0000ff; stroke-width:3.2; stroke-opacity:1\"/>\n",
       "<line clip-path=\"url(#clip502)\" x1=\"1464.53\" y1=\"965.605\" x2=\"1464.53\" y2=\"981.605\" style=\"stroke:#0000ff; stroke-width:3.2; stroke-opacity:1\"/>\n",
       "<line clip-path=\"url(#clip502)\" x1=\"1464.53\" y1=\"965.605\" x2=\"1480.53\" y2=\"965.605\" style=\"stroke:#0000ff; stroke-width:3.2; stroke-opacity:1\"/>\n",
       "<line clip-path=\"url(#clip502)\" x1=\"1505.9\" y1=\"943.443\" x2=\"1505.9\" y2=\"927.443\" style=\"stroke:#0000ff; stroke-width:3.2; stroke-opacity:1\"/>\n",
       "<line clip-path=\"url(#clip502)\" x1=\"1505.9\" y1=\"943.443\" x2=\"1489.9\" y2=\"943.443\" style=\"stroke:#0000ff; stroke-width:3.2; stroke-opacity:1\"/>\n",
       "<line clip-path=\"url(#clip502)\" x1=\"1505.9\" y1=\"943.443\" x2=\"1505.9\" y2=\"959.443\" style=\"stroke:#0000ff; stroke-width:3.2; stroke-opacity:1\"/>\n",
       "<line clip-path=\"url(#clip502)\" x1=\"1505.9\" y1=\"943.443\" x2=\"1521.9\" y2=\"943.443\" style=\"stroke:#0000ff; stroke-width:3.2; stroke-opacity:1\"/>\n",
       "<line clip-path=\"url(#clip502)\" x1=\"1547.27\" y1=\"878.598\" x2=\"1547.27\" y2=\"862.598\" style=\"stroke:#0000ff; stroke-width:3.2; stroke-opacity:1\"/>\n",
       "<line clip-path=\"url(#clip502)\" x1=\"1547.27\" y1=\"878.598\" x2=\"1531.27\" y2=\"878.598\" style=\"stroke:#0000ff; stroke-width:3.2; stroke-opacity:1\"/>\n",
       "<line clip-path=\"url(#clip502)\" x1=\"1547.27\" y1=\"878.598\" x2=\"1547.27\" y2=\"894.598\" style=\"stroke:#0000ff; stroke-width:3.2; stroke-opacity:1\"/>\n",
       "<line clip-path=\"url(#clip502)\" x1=\"1547.27\" y1=\"878.598\" x2=\"1563.27\" y2=\"878.598\" style=\"stroke:#0000ff; stroke-width:3.2; stroke-opacity:1\"/>\n",
       "<line clip-path=\"url(#clip502)\" x1=\"1588.64\" y1=\"812.379\" x2=\"1588.64\" y2=\"796.379\" style=\"stroke:#0000ff; stroke-width:3.2; stroke-opacity:1\"/>\n",
       "<line clip-path=\"url(#clip502)\" x1=\"1588.64\" y1=\"812.379\" x2=\"1572.64\" y2=\"812.379\" style=\"stroke:#0000ff; stroke-width:3.2; stroke-opacity:1\"/>\n",
       "<line clip-path=\"url(#clip502)\" x1=\"1588.64\" y1=\"812.379\" x2=\"1588.64\" y2=\"828.379\" style=\"stroke:#0000ff; stroke-width:3.2; stroke-opacity:1\"/>\n",
       "<line clip-path=\"url(#clip502)\" x1=\"1588.64\" y1=\"812.379\" x2=\"1604.64\" y2=\"812.379\" style=\"stroke:#0000ff; stroke-width:3.2; stroke-opacity:1\"/>\n",
       "<line clip-path=\"url(#clip502)\" x1=\"1630.01\" y1=\"811.448\" x2=\"1630.01\" y2=\"795.448\" style=\"stroke:#0000ff; stroke-width:3.2; stroke-opacity:1\"/>\n",
       "<line clip-path=\"url(#clip502)\" x1=\"1630.01\" y1=\"811.448\" x2=\"1614.01\" y2=\"811.448\" style=\"stroke:#0000ff; stroke-width:3.2; stroke-opacity:1\"/>\n",
       "<line clip-path=\"url(#clip502)\" x1=\"1630.01\" y1=\"811.448\" x2=\"1630.01\" y2=\"827.448\" style=\"stroke:#0000ff; stroke-width:3.2; stroke-opacity:1\"/>\n",
       "<line clip-path=\"url(#clip502)\" x1=\"1630.01\" y1=\"811.448\" x2=\"1646.01\" y2=\"811.448\" style=\"stroke:#0000ff; stroke-width:3.2; stroke-opacity:1\"/>\n",
       "<line clip-path=\"url(#clip502)\" x1=\"1671.38\" y1=\"760.255\" x2=\"1671.38\" y2=\"744.255\" style=\"stroke:#0000ff; stroke-width:3.2; stroke-opacity:1\"/>\n",
       "<line clip-path=\"url(#clip502)\" x1=\"1671.38\" y1=\"760.255\" x2=\"1655.38\" y2=\"760.255\" style=\"stroke:#0000ff; stroke-width:3.2; stroke-opacity:1\"/>\n",
       "<line clip-path=\"url(#clip502)\" x1=\"1671.38\" y1=\"760.255\" x2=\"1671.38\" y2=\"776.255\" style=\"stroke:#0000ff; stroke-width:3.2; stroke-opacity:1\"/>\n",
       "<line clip-path=\"url(#clip502)\" x1=\"1671.38\" y1=\"760.255\" x2=\"1687.38\" y2=\"760.255\" style=\"stroke:#0000ff; stroke-width:3.2; stroke-opacity:1\"/>\n",
       "<line clip-path=\"url(#clip502)\" x1=\"1712.75\" y1=\"744.476\" x2=\"1712.75\" y2=\"728.476\" style=\"stroke:#0000ff; stroke-width:3.2; stroke-opacity:1\"/>\n",
       "<line clip-path=\"url(#clip502)\" x1=\"1712.75\" y1=\"744.476\" x2=\"1696.75\" y2=\"744.476\" style=\"stroke:#0000ff; stroke-width:3.2; stroke-opacity:1\"/>\n",
       "<line clip-path=\"url(#clip502)\" x1=\"1712.75\" y1=\"744.476\" x2=\"1712.75\" y2=\"760.476\" style=\"stroke:#0000ff; stroke-width:3.2; stroke-opacity:1\"/>\n",
       "<line clip-path=\"url(#clip502)\" x1=\"1712.75\" y1=\"744.476\" x2=\"1728.75\" y2=\"744.476\" style=\"stroke:#0000ff; stroke-width:3.2; stroke-opacity:1\"/>\n",
       "<line clip-path=\"url(#clip502)\" x1=\"1754.12\" y1=\"650.998\" x2=\"1754.12\" y2=\"634.998\" style=\"stroke:#0000ff; stroke-width:3.2; stroke-opacity:1\"/>\n",
       "<line clip-path=\"url(#clip502)\" x1=\"1754.12\" y1=\"650.998\" x2=\"1738.12\" y2=\"650.998\" style=\"stroke:#0000ff; stroke-width:3.2; stroke-opacity:1\"/>\n",
       "<line clip-path=\"url(#clip502)\" x1=\"1754.12\" y1=\"650.998\" x2=\"1754.12\" y2=\"666.998\" style=\"stroke:#0000ff; stroke-width:3.2; stroke-opacity:1\"/>\n",
       "<line clip-path=\"url(#clip502)\" x1=\"1754.12\" y1=\"650.998\" x2=\"1770.12\" y2=\"650.998\" style=\"stroke:#0000ff; stroke-width:3.2; stroke-opacity:1\"/>\n",
       "<line clip-path=\"url(#clip502)\" x1=\"1795.49\" y1=\"620.415\" x2=\"1795.49\" y2=\"604.415\" style=\"stroke:#0000ff; stroke-width:3.2; stroke-opacity:1\"/>\n",
       "<line clip-path=\"url(#clip502)\" x1=\"1795.49\" y1=\"620.415\" x2=\"1779.49\" y2=\"620.415\" style=\"stroke:#0000ff; stroke-width:3.2; stroke-opacity:1\"/>\n",
       "<line clip-path=\"url(#clip502)\" x1=\"1795.49\" y1=\"620.415\" x2=\"1795.49\" y2=\"636.415\" style=\"stroke:#0000ff; stroke-width:3.2; stroke-opacity:1\"/>\n",
       "<line clip-path=\"url(#clip502)\" x1=\"1795.49\" y1=\"620.415\" x2=\"1811.49\" y2=\"620.415\" style=\"stroke:#0000ff; stroke-width:3.2; stroke-opacity:1\"/>\n",
       "<line clip-path=\"url(#clip502)\" x1=\"1836.86\" y1=\"550.428\" x2=\"1836.86\" y2=\"534.428\" style=\"stroke:#0000ff; stroke-width:3.2; stroke-opacity:1\"/>\n",
       "<line clip-path=\"url(#clip502)\" x1=\"1836.86\" y1=\"550.428\" x2=\"1820.86\" y2=\"550.428\" style=\"stroke:#0000ff; stroke-width:3.2; stroke-opacity:1\"/>\n",
       "<line clip-path=\"url(#clip502)\" x1=\"1836.86\" y1=\"550.428\" x2=\"1836.86\" y2=\"566.428\" style=\"stroke:#0000ff; stroke-width:3.2; stroke-opacity:1\"/>\n",
       "<line clip-path=\"url(#clip502)\" x1=\"1836.86\" y1=\"550.428\" x2=\"1852.86\" y2=\"550.428\" style=\"stroke:#0000ff; stroke-width:3.2; stroke-opacity:1\"/>\n",
       "<line clip-path=\"url(#clip502)\" x1=\"1878.23\" y1=\"606.763\" x2=\"1878.23\" y2=\"590.763\" style=\"stroke:#0000ff; stroke-width:3.2; stroke-opacity:1\"/>\n",
       "<line clip-path=\"url(#clip502)\" x1=\"1878.23\" y1=\"606.763\" x2=\"1862.23\" y2=\"606.763\" style=\"stroke:#0000ff; stroke-width:3.2; stroke-opacity:1\"/>\n",
       "<line clip-path=\"url(#clip502)\" x1=\"1878.23\" y1=\"606.763\" x2=\"1878.23\" y2=\"622.763\" style=\"stroke:#0000ff; stroke-width:3.2; stroke-opacity:1\"/>\n",
       "<line clip-path=\"url(#clip502)\" x1=\"1878.23\" y1=\"606.763\" x2=\"1894.23\" y2=\"606.763\" style=\"stroke:#0000ff; stroke-width:3.2; stroke-opacity:1\"/>\n",
       "<line clip-path=\"url(#clip502)\" x1=\"1919.61\" y1=\"483.456\" x2=\"1919.61\" y2=\"467.456\" style=\"stroke:#0000ff; stroke-width:3.2; stroke-opacity:1\"/>\n",
       "<line clip-path=\"url(#clip502)\" x1=\"1919.61\" y1=\"483.456\" x2=\"1903.61\" y2=\"483.456\" style=\"stroke:#0000ff; stroke-width:3.2; stroke-opacity:1\"/>\n",
       "<line clip-path=\"url(#clip502)\" x1=\"1919.61\" y1=\"483.456\" x2=\"1919.61\" y2=\"499.456\" style=\"stroke:#0000ff; stroke-width:3.2; stroke-opacity:1\"/>\n",
       "<line clip-path=\"url(#clip502)\" x1=\"1919.61\" y1=\"483.456\" x2=\"1935.61\" y2=\"483.456\" style=\"stroke:#0000ff; stroke-width:3.2; stroke-opacity:1\"/>\n",
       "<line clip-path=\"url(#clip502)\" x1=\"1960.98\" y1=\"429.027\" x2=\"1960.98\" y2=\"413.027\" style=\"stroke:#0000ff; stroke-width:3.2; stroke-opacity:1\"/>\n",
       "<line clip-path=\"url(#clip502)\" x1=\"1960.98\" y1=\"429.027\" x2=\"1944.98\" y2=\"429.027\" style=\"stroke:#0000ff; stroke-width:3.2; stroke-opacity:1\"/>\n",
       "<line clip-path=\"url(#clip502)\" x1=\"1960.98\" y1=\"429.027\" x2=\"1960.98\" y2=\"445.027\" style=\"stroke:#0000ff; stroke-width:3.2; stroke-opacity:1\"/>\n",
       "<line clip-path=\"url(#clip502)\" x1=\"1960.98\" y1=\"429.027\" x2=\"1976.98\" y2=\"429.027\" style=\"stroke:#0000ff; stroke-width:3.2; stroke-opacity:1\"/>\n",
       "<line clip-path=\"url(#clip502)\" x1=\"2002.35\" y1=\"431.819\" x2=\"2002.35\" y2=\"415.819\" style=\"stroke:#0000ff; stroke-width:3.2; stroke-opacity:1\"/>\n",
       "<line clip-path=\"url(#clip502)\" x1=\"2002.35\" y1=\"431.819\" x2=\"1986.35\" y2=\"431.819\" style=\"stroke:#0000ff; stroke-width:3.2; stroke-opacity:1\"/>\n",
       "<line clip-path=\"url(#clip502)\" x1=\"2002.35\" y1=\"431.819\" x2=\"2002.35\" y2=\"447.819\" style=\"stroke:#0000ff; stroke-width:3.2; stroke-opacity:1\"/>\n",
       "<line clip-path=\"url(#clip502)\" x1=\"2002.35\" y1=\"431.819\" x2=\"2018.35\" y2=\"431.819\" style=\"stroke:#0000ff; stroke-width:3.2; stroke-opacity:1\"/>\n",
       "<line clip-path=\"url(#clip502)\" x1=\"2043.72\" y1=\"359.793\" x2=\"2043.72\" y2=\"343.793\" style=\"stroke:#0000ff; stroke-width:3.2; stroke-opacity:1\"/>\n",
       "<line clip-path=\"url(#clip502)\" x1=\"2043.72\" y1=\"359.793\" x2=\"2027.72\" y2=\"359.793\" style=\"stroke:#0000ff; stroke-width:3.2; stroke-opacity:1\"/>\n",
       "<line clip-path=\"url(#clip502)\" x1=\"2043.72\" y1=\"359.793\" x2=\"2043.72\" y2=\"375.793\" style=\"stroke:#0000ff; stroke-width:3.2; stroke-opacity:1\"/>\n",
       "<line clip-path=\"url(#clip502)\" x1=\"2043.72\" y1=\"359.793\" x2=\"2059.72\" y2=\"359.793\" style=\"stroke:#0000ff; stroke-width:3.2; stroke-opacity:1\"/>\n",
       "<line clip-path=\"url(#clip502)\" x1=\"2085.09\" y1=\"297.298\" x2=\"2085.09\" y2=\"281.298\" style=\"stroke:#0000ff; stroke-width:3.2; stroke-opacity:1\"/>\n",
       "<line clip-path=\"url(#clip502)\" x1=\"2085.09\" y1=\"297.298\" x2=\"2069.09\" y2=\"297.298\" style=\"stroke:#0000ff; stroke-width:3.2; stroke-opacity:1\"/>\n",
       "<line clip-path=\"url(#clip502)\" x1=\"2085.09\" y1=\"297.298\" x2=\"2085.09\" y2=\"313.298\" style=\"stroke:#0000ff; stroke-width:3.2; stroke-opacity:1\"/>\n",
       "<line clip-path=\"url(#clip502)\" x1=\"2085.09\" y1=\"297.298\" x2=\"2101.09\" y2=\"297.298\" style=\"stroke:#0000ff; stroke-width:3.2; stroke-opacity:1\"/>\n",
       "<line clip-path=\"url(#clip502)\" x1=\"2126.46\" y1=\"221.46\" x2=\"2126.46\" y2=\"205.46\" style=\"stroke:#0000ff; stroke-width:3.2; stroke-opacity:1\"/>\n",
       "<line clip-path=\"url(#clip502)\" x1=\"2126.46\" y1=\"221.46\" x2=\"2110.46\" y2=\"221.46\" style=\"stroke:#0000ff; stroke-width:3.2; stroke-opacity:1\"/>\n",
       "<line clip-path=\"url(#clip502)\" x1=\"2126.46\" y1=\"221.46\" x2=\"2126.46\" y2=\"237.46\" style=\"stroke:#0000ff; stroke-width:3.2; stroke-opacity:1\"/>\n",
       "<line clip-path=\"url(#clip502)\" x1=\"2126.46\" y1=\"221.46\" x2=\"2142.46\" y2=\"221.46\" style=\"stroke:#0000ff; stroke-width:3.2; stroke-opacity:1\"/>\n",
       "<line clip-path=\"url(#clip502)\" x1=\"2167.83\" y1=\"263.08\" x2=\"2167.83\" y2=\"247.08\" style=\"stroke:#0000ff; stroke-width:3.2; stroke-opacity:1\"/>\n",
       "<line clip-path=\"url(#clip502)\" x1=\"2167.83\" y1=\"263.08\" x2=\"2151.83\" y2=\"263.08\" style=\"stroke:#0000ff; stroke-width:3.2; stroke-opacity:1\"/>\n",
       "<line clip-path=\"url(#clip502)\" x1=\"2167.83\" y1=\"263.08\" x2=\"2167.83\" y2=\"279.08\" style=\"stroke:#0000ff; stroke-width:3.2; stroke-opacity:1\"/>\n",
       "<line clip-path=\"url(#clip502)\" x1=\"2167.83\" y1=\"263.08\" x2=\"2183.83\" y2=\"263.08\" style=\"stroke:#0000ff; stroke-width:3.2; stroke-opacity:1\"/>\n",
       "<line clip-path=\"url(#clip502)\" x1=\"2209.2\" y1=\"142.033\" x2=\"2209.2\" y2=\"126.033\" style=\"stroke:#0000ff; stroke-width:3.2; stroke-opacity:1\"/>\n",
       "<line clip-path=\"url(#clip502)\" x1=\"2209.2\" y1=\"142.033\" x2=\"2193.2\" y2=\"142.033\" style=\"stroke:#0000ff; stroke-width:3.2; stroke-opacity:1\"/>\n",
       "<line clip-path=\"url(#clip502)\" x1=\"2209.2\" y1=\"142.033\" x2=\"2209.2\" y2=\"158.033\" style=\"stroke:#0000ff; stroke-width:3.2; stroke-opacity:1\"/>\n",
       "<line clip-path=\"url(#clip502)\" x1=\"2209.2\" y1=\"142.033\" x2=\"2225.2\" y2=\"142.033\" style=\"stroke:#0000ff; stroke-width:3.2; stroke-opacity:1\"/>\n",
       "<line clip-path=\"url(#clip502)\" x1=\"2250.57\" y1=\"86.1857\" x2=\"2250.57\" y2=\"70.1857\" style=\"stroke:#0000ff; stroke-width:3.2; stroke-opacity:1\"/>\n",
       "<line clip-path=\"url(#clip502)\" x1=\"2250.57\" y1=\"86.1857\" x2=\"2234.57\" y2=\"86.1857\" style=\"stroke:#0000ff; stroke-width:3.2; stroke-opacity:1\"/>\n",
       "<line clip-path=\"url(#clip502)\" x1=\"2250.57\" y1=\"86.1857\" x2=\"2250.57\" y2=\"102.186\" style=\"stroke:#0000ff; stroke-width:3.2; stroke-opacity:1\"/>\n",
       "<line clip-path=\"url(#clip502)\" x1=\"2250.57\" y1=\"86.1857\" x2=\"2266.57\" y2=\"86.1857\" style=\"stroke:#0000ff; stroke-width:3.2; stroke-opacity:1\"/>\n",
       "<line clip-path=\"url(#clip502)\" x1=\"2291.94\" y1=\"112.913\" x2=\"2291.94\" y2=\"96.9126\" style=\"stroke:#0000ff; stroke-width:3.2; stroke-opacity:1\"/>\n",
       "<line clip-path=\"url(#clip502)\" x1=\"2291.94\" y1=\"112.913\" x2=\"2275.94\" y2=\"112.913\" style=\"stroke:#0000ff; stroke-width:3.2; stroke-opacity:1\"/>\n",
       "<line clip-path=\"url(#clip502)\" x1=\"2291.94\" y1=\"112.913\" x2=\"2291.94\" y2=\"128.913\" style=\"stroke:#0000ff; stroke-width:3.2; stroke-opacity:1\"/>\n",
       "<line clip-path=\"url(#clip502)\" x1=\"2291.94\" y1=\"112.913\" x2=\"2307.94\" y2=\"112.913\" style=\"stroke:#0000ff; stroke-width:3.2; stroke-opacity:1\"/>\n",
       "<polyline clip-path=\"url(#clip502)\" style=\"stroke:#ff0000; stroke-linecap:round; stroke-linejoin:round; stroke-width:4; stroke-opacity:1; fill:none\" points=\"264.778,1384.24 306.149,1382.73 347.52,1380.87 388.89,1379.32 430.261,1377.9 471.632,1376.04 513.002,1374.31 554.373,1372.67 595.744,1371.25 637.114,1369.43 678.485,1367.48 719.856,1366.2 761.226,1364.43 802.597,1362.79 843.968,1360.08 885.338,1358.35 926.709,1357.56 968.08,1356.05 1009.45,1354.36 1050.82,1352.02 1092.19,1351.44 1133.56,1348.91 1174.93,1347.49 1216.3,1345.85 1257.67,1343.95 1299.05,1342.09 1340.42,1339.65 1381.79,1337.52 1423.16,1335.93 1464.53,1334.46 1505.9,1330.25 1547.27,1330.65 1588.64,1327.46 1630.01,1327.46 1671.38,1325.47 1712.75,1324.14 1754.12,1322.32 1795.49,1320.37 1836.86,1318.86 1878.23,1317.18 1919.61,1315.76 1960.98,1312.52 2002.35,1309.78 2043.72,1309.82 2085.09,1306.1 2126.46,1306.27 2167.83,1306.18 2209.2,1306.14 2250.57,1300.73 2291.94,1299.18 \"/>\n",
       "<path clip-path=\"url(#clip502)\" d=\"M264.778 1368.24 L248.778 1384.24 L264.778 1400.24 L280.778 1384.24 L264.778 1368.24 Z\" fill=\"#ff0000\" fill-rule=\"evenodd\" fill-opacity=\"1\" stroke=\"#000000\" stroke-opacity=\"1\" stroke-width=\"3.2\"/>\n",
       "<path clip-path=\"url(#clip502)\" d=\"M306.149 1366.73 L290.149 1382.73 L306.149 1398.73 L322.149 1382.73 L306.149 1366.73 Z\" fill=\"#ff0000\" fill-rule=\"evenodd\" fill-opacity=\"1\" stroke=\"#000000\" stroke-opacity=\"1\" stroke-width=\"3.2\"/>\n",
       "<path clip-path=\"url(#clip502)\" d=\"M347.52 1364.87 L331.52 1380.87 L347.52 1396.87 L363.52 1380.87 L347.52 1364.87 Z\" fill=\"#ff0000\" fill-rule=\"evenodd\" fill-opacity=\"1\" stroke=\"#000000\" stroke-opacity=\"1\" stroke-width=\"3.2\"/>\n",
       "<path clip-path=\"url(#clip502)\" d=\"M388.89 1363.32 L372.89 1379.32 L388.89 1395.32 L404.89 1379.32 L388.89 1363.32 Z\" fill=\"#ff0000\" fill-rule=\"evenodd\" fill-opacity=\"1\" stroke=\"#000000\" stroke-opacity=\"1\" stroke-width=\"3.2\"/>\n",
       "<path clip-path=\"url(#clip502)\" d=\"M430.261 1361.9 L414.261 1377.9 L430.261 1393.9 L446.261 1377.9 L430.261 1361.9 Z\" fill=\"#ff0000\" fill-rule=\"evenodd\" fill-opacity=\"1\" stroke=\"#000000\" stroke-opacity=\"1\" stroke-width=\"3.2\"/>\n",
       "<path clip-path=\"url(#clip502)\" d=\"M471.632 1360.04 L455.632 1376.04 L471.632 1392.04 L487.632 1376.04 L471.632 1360.04 Z\" fill=\"#ff0000\" fill-rule=\"evenodd\" fill-opacity=\"1\" stroke=\"#000000\" stroke-opacity=\"1\" stroke-width=\"3.2\"/>\n",
       "<path clip-path=\"url(#clip502)\" d=\"M513.002 1358.31 L497.002 1374.31 L513.002 1390.31 L529.002 1374.31 L513.002 1358.31 Z\" fill=\"#ff0000\" fill-rule=\"evenodd\" fill-opacity=\"1\" stroke=\"#000000\" stroke-opacity=\"1\" stroke-width=\"3.2\"/>\n",
       "<path clip-path=\"url(#clip502)\" d=\"M554.373 1356.67 L538.373 1372.67 L554.373 1388.67 L570.373 1372.67 L554.373 1356.67 Z\" fill=\"#ff0000\" fill-rule=\"evenodd\" fill-opacity=\"1\" stroke=\"#000000\" stroke-opacity=\"1\" stroke-width=\"3.2\"/>\n",
       "<path clip-path=\"url(#clip502)\" d=\"M595.744 1355.25 L579.744 1371.25 L595.744 1387.25 L611.744 1371.25 L595.744 1355.25 Z\" fill=\"#ff0000\" fill-rule=\"evenodd\" fill-opacity=\"1\" stroke=\"#000000\" stroke-opacity=\"1\" stroke-width=\"3.2\"/>\n",
       "<path clip-path=\"url(#clip502)\" d=\"M637.114 1353.43 L621.114 1369.43 L637.114 1385.43 L653.114 1369.43 L637.114 1353.43 Z\" fill=\"#ff0000\" fill-rule=\"evenodd\" fill-opacity=\"1\" stroke=\"#000000\" stroke-opacity=\"1\" stroke-width=\"3.2\"/>\n",
       "<path clip-path=\"url(#clip502)\" d=\"M678.485 1351.48 L662.485 1367.48 L678.485 1383.48 L694.485 1367.48 L678.485 1351.48 Z\" fill=\"#ff0000\" fill-rule=\"evenodd\" fill-opacity=\"1\" stroke=\"#000000\" stroke-opacity=\"1\" stroke-width=\"3.2\"/>\n",
       "<path clip-path=\"url(#clip502)\" d=\"M719.856 1350.2 L703.856 1366.2 L719.856 1382.2 L735.856 1366.2 L719.856 1350.2 Z\" fill=\"#ff0000\" fill-rule=\"evenodd\" fill-opacity=\"1\" stroke=\"#000000\" stroke-opacity=\"1\" stroke-width=\"3.2\"/>\n",
       "<path clip-path=\"url(#clip502)\" d=\"M761.226 1348.43 L745.226 1364.43 L761.226 1380.43 L777.226 1364.43 L761.226 1348.43 Z\" fill=\"#ff0000\" fill-rule=\"evenodd\" fill-opacity=\"1\" stroke=\"#000000\" stroke-opacity=\"1\" stroke-width=\"3.2\"/>\n",
       "<path clip-path=\"url(#clip502)\" d=\"M802.597 1346.79 L786.597 1362.79 L802.597 1378.79 L818.597 1362.79 L802.597 1346.79 Z\" fill=\"#ff0000\" fill-rule=\"evenodd\" fill-opacity=\"1\" stroke=\"#000000\" stroke-opacity=\"1\" stroke-width=\"3.2\"/>\n",
       "<path clip-path=\"url(#clip502)\" d=\"M843.968 1344.08 L827.968 1360.08 L843.968 1376.08 L859.968 1360.08 L843.968 1344.08 Z\" fill=\"#ff0000\" fill-rule=\"evenodd\" fill-opacity=\"1\" stroke=\"#000000\" stroke-opacity=\"1\" stroke-width=\"3.2\"/>\n",
       "<path clip-path=\"url(#clip502)\" d=\"M885.338 1342.35 L869.338 1358.35 L885.338 1374.35 L901.338 1358.35 L885.338 1342.35 Z\" fill=\"#ff0000\" fill-rule=\"evenodd\" fill-opacity=\"1\" stroke=\"#000000\" stroke-opacity=\"1\" stroke-width=\"3.2\"/>\n",
       "<path clip-path=\"url(#clip502)\" d=\"M926.709 1341.56 L910.709 1357.56 L926.709 1373.56 L942.709 1357.56 L926.709 1341.56 Z\" fill=\"#ff0000\" fill-rule=\"evenodd\" fill-opacity=\"1\" stroke=\"#000000\" stroke-opacity=\"1\" stroke-width=\"3.2\"/>\n",
       "<path clip-path=\"url(#clip502)\" d=\"M968.08 1340.05 L952.08 1356.05 L968.08 1372.05 L984.08 1356.05 L968.08 1340.05 Z\" fill=\"#ff0000\" fill-rule=\"evenodd\" fill-opacity=\"1\" stroke=\"#000000\" stroke-opacity=\"1\" stroke-width=\"3.2\"/>\n",
       "<path clip-path=\"url(#clip502)\" d=\"M1009.45 1338.36 L993.45 1354.36 L1009.45 1370.36 L1025.45 1354.36 L1009.45 1338.36 Z\" fill=\"#ff0000\" fill-rule=\"evenodd\" fill-opacity=\"1\" stroke=\"#000000\" stroke-opacity=\"1\" stroke-width=\"3.2\"/>\n",
       "<path clip-path=\"url(#clip502)\" d=\"M1050.82 1336.02 L1034.82 1352.02 L1050.82 1368.02 L1066.82 1352.02 L1050.82 1336.02 Z\" fill=\"#ff0000\" fill-rule=\"evenodd\" fill-opacity=\"1\" stroke=\"#000000\" stroke-opacity=\"1\" stroke-width=\"3.2\"/>\n",
       "<path clip-path=\"url(#clip502)\" d=\"M1092.19 1335.44 L1076.19 1351.44 L1092.19 1367.44 L1108.19 1351.44 L1092.19 1335.44 Z\" fill=\"#ff0000\" fill-rule=\"evenodd\" fill-opacity=\"1\" stroke=\"#000000\" stroke-opacity=\"1\" stroke-width=\"3.2\"/>\n",
       "<path clip-path=\"url(#clip502)\" d=\"M1133.56 1332.91 L1117.56 1348.91 L1133.56 1364.91 L1149.56 1348.91 L1133.56 1332.91 Z\" fill=\"#ff0000\" fill-rule=\"evenodd\" fill-opacity=\"1\" stroke=\"#000000\" stroke-opacity=\"1\" stroke-width=\"3.2\"/>\n",
       "<path clip-path=\"url(#clip502)\" d=\"M1174.93 1331.49 L1158.93 1347.49 L1174.93 1363.49 L1190.93 1347.49 L1174.93 1331.49 Z\" fill=\"#ff0000\" fill-rule=\"evenodd\" fill-opacity=\"1\" stroke=\"#000000\" stroke-opacity=\"1\" stroke-width=\"3.2\"/>\n",
       "<path clip-path=\"url(#clip502)\" d=\"M1216.3 1329.85 L1200.3 1345.85 L1216.3 1361.85 L1232.3 1345.85 L1216.3 1329.85 Z\" fill=\"#ff0000\" fill-rule=\"evenodd\" fill-opacity=\"1\" stroke=\"#000000\" stroke-opacity=\"1\" stroke-width=\"3.2\"/>\n",
       "<path clip-path=\"url(#clip502)\" d=\"M1257.67 1327.95 L1241.67 1343.95 L1257.67 1359.95 L1273.67 1343.95 L1257.67 1327.95 Z\" fill=\"#ff0000\" fill-rule=\"evenodd\" fill-opacity=\"1\" stroke=\"#000000\" stroke-opacity=\"1\" stroke-width=\"3.2\"/>\n",
       "<path clip-path=\"url(#clip502)\" d=\"M1299.05 1326.09 L1283.05 1342.09 L1299.05 1358.09 L1315.05 1342.09 L1299.05 1326.09 Z\" fill=\"#ff0000\" fill-rule=\"evenodd\" fill-opacity=\"1\" stroke=\"#000000\" stroke-opacity=\"1\" stroke-width=\"3.2\"/>\n",
       "<path clip-path=\"url(#clip502)\" d=\"M1340.42 1323.65 L1324.42 1339.65 L1340.42 1355.65 L1356.42 1339.65 L1340.42 1323.65 Z\" fill=\"#ff0000\" fill-rule=\"evenodd\" fill-opacity=\"1\" stroke=\"#000000\" stroke-opacity=\"1\" stroke-width=\"3.2\"/>\n",
       "<path clip-path=\"url(#clip502)\" d=\"M1381.79 1321.52 L1365.79 1337.52 L1381.79 1353.52 L1397.79 1337.52 L1381.79 1321.52 Z\" fill=\"#ff0000\" fill-rule=\"evenodd\" fill-opacity=\"1\" stroke=\"#000000\" stroke-opacity=\"1\" stroke-width=\"3.2\"/>\n",
       "<path clip-path=\"url(#clip502)\" d=\"M1423.16 1319.93 L1407.16 1335.93 L1423.16 1351.93 L1439.16 1335.93 L1423.16 1319.93 Z\" fill=\"#ff0000\" fill-rule=\"evenodd\" fill-opacity=\"1\" stroke=\"#000000\" stroke-opacity=\"1\" stroke-width=\"3.2\"/>\n",
       "<path clip-path=\"url(#clip502)\" d=\"M1464.53 1318.46 L1448.53 1334.46 L1464.53 1350.46 L1480.53 1334.46 L1464.53 1318.46 Z\" fill=\"#ff0000\" fill-rule=\"evenodd\" fill-opacity=\"1\" stroke=\"#000000\" stroke-opacity=\"1\" stroke-width=\"3.2\"/>\n",
       "<path clip-path=\"url(#clip502)\" d=\"M1505.9 1314.25 L1489.9 1330.25 L1505.9 1346.25 L1521.9 1330.25 L1505.9 1314.25 Z\" fill=\"#ff0000\" fill-rule=\"evenodd\" fill-opacity=\"1\" stroke=\"#000000\" stroke-opacity=\"1\" stroke-width=\"3.2\"/>\n",
       "<path clip-path=\"url(#clip502)\" d=\"M1547.27 1314.65 L1531.27 1330.65 L1547.27 1346.65 L1563.27 1330.65 L1547.27 1314.65 Z\" fill=\"#ff0000\" fill-rule=\"evenodd\" fill-opacity=\"1\" stroke=\"#000000\" stroke-opacity=\"1\" stroke-width=\"3.2\"/>\n",
       "<path clip-path=\"url(#clip502)\" d=\"M1588.64 1311.46 L1572.64 1327.46 L1588.64 1343.46 L1604.64 1327.46 L1588.64 1311.46 Z\" fill=\"#ff0000\" fill-rule=\"evenodd\" fill-opacity=\"1\" stroke=\"#000000\" stroke-opacity=\"1\" stroke-width=\"3.2\"/>\n",
       "<path clip-path=\"url(#clip502)\" d=\"M1630.01 1311.46 L1614.01 1327.46 L1630.01 1343.46 L1646.01 1327.46 L1630.01 1311.46 Z\" fill=\"#ff0000\" fill-rule=\"evenodd\" fill-opacity=\"1\" stroke=\"#000000\" stroke-opacity=\"1\" stroke-width=\"3.2\"/>\n",
       "<path clip-path=\"url(#clip502)\" d=\"M1671.38 1309.47 L1655.38 1325.47 L1671.38 1341.47 L1687.38 1325.47 L1671.38 1309.47 Z\" fill=\"#ff0000\" fill-rule=\"evenodd\" fill-opacity=\"1\" stroke=\"#000000\" stroke-opacity=\"1\" stroke-width=\"3.2\"/>\n",
       "<path clip-path=\"url(#clip502)\" d=\"M1712.75 1308.14 L1696.75 1324.14 L1712.75 1340.14 L1728.75 1324.14 L1712.75 1308.14 Z\" fill=\"#ff0000\" fill-rule=\"evenodd\" fill-opacity=\"1\" stroke=\"#000000\" stroke-opacity=\"1\" stroke-width=\"3.2\"/>\n",
       "<path clip-path=\"url(#clip502)\" d=\"M1754.12 1306.32 L1738.12 1322.32 L1754.12 1338.32 L1770.12 1322.32 L1754.12 1306.32 Z\" fill=\"#ff0000\" fill-rule=\"evenodd\" fill-opacity=\"1\" stroke=\"#000000\" stroke-opacity=\"1\" stroke-width=\"3.2\"/>\n",
       "<path clip-path=\"url(#clip502)\" d=\"M1795.49 1304.37 L1779.49 1320.37 L1795.49 1336.37 L1811.49 1320.37 L1795.49 1304.37 Z\" fill=\"#ff0000\" fill-rule=\"evenodd\" fill-opacity=\"1\" stroke=\"#000000\" stroke-opacity=\"1\" stroke-width=\"3.2\"/>\n",
       "<path clip-path=\"url(#clip502)\" d=\"M1836.86 1302.86 L1820.86 1318.86 L1836.86 1334.86 L1852.86 1318.86 L1836.86 1302.86 Z\" fill=\"#ff0000\" fill-rule=\"evenodd\" fill-opacity=\"1\" stroke=\"#000000\" stroke-opacity=\"1\" stroke-width=\"3.2\"/>\n",
       "<path clip-path=\"url(#clip502)\" d=\"M1878.23 1301.18 L1862.23 1317.18 L1878.23 1333.18 L1894.23 1317.18 L1878.23 1301.18 Z\" fill=\"#ff0000\" fill-rule=\"evenodd\" fill-opacity=\"1\" stroke=\"#000000\" stroke-opacity=\"1\" stroke-width=\"3.2\"/>\n",
       "<path clip-path=\"url(#clip502)\" d=\"M1919.61 1299.76 L1903.61 1315.76 L1919.61 1331.76 L1935.61 1315.76 L1919.61 1299.76 Z\" fill=\"#ff0000\" fill-rule=\"evenodd\" fill-opacity=\"1\" stroke=\"#000000\" stroke-opacity=\"1\" stroke-width=\"3.2\"/>\n",
       "<path clip-path=\"url(#clip502)\" d=\"M1960.98 1296.52 L1944.98 1312.52 L1960.98 1328.52 L1976.98 1312.52 L1960.98 1296.52 Z\" fill=\"#ff0000\" fill-rule=\"evenodd\" fill-opacity=\"1\" stroke=\"#000000\" stroke-opacity=\"1\" stroke-width=\"3.2\"/>\n",
       "<path clip-path=\"url(#clip502)\" d=\"M2002.35 1293.78 L1986.35 1309.78 L2002.35 1325.78 L2018.35 1309.78 L2002.35 1293.78 Z\" fill=\"#ff0000\" fill-rule=\"evenodd\" fill-opacity=\"1\" stroke=\"#000000\" stroke-opacity=\"1\" stroke-width=\"3.2\"/>\n",
       "<path clip-path=\"url(#clip502)\" d=\"M2043.72 1293.82 L2027.72 1309.82 L2043.72 1325.82 L2059.72 1309.82 L2043.72 1293.82 Z\" fill=\"#ff0000\" fill-rule=\"evenodd\" fill-opacity=\"1\" stroke=\"#000000\" stroke-opacity=\"1\" stroke-width=\"3.2\"/>\n",
       "<path clip-path=\"url(#clip502)\" d=\"M2085.09 1290.1 L2069.09 1306.1 L2085.09 1322.1 L2101.09 1306.1 L2085.09 1290.1 Z\" fill=\"#ff0000\" fill-rule=\"evenodd\" fill-opacity=\"1\" stroke=\"#000000\" stroke-opacity=\"1\" stroke-width=\"3.2\"/>\n",
       "<path clip-path=\"url(#clip502)\" d=\"M2126.46 1290.27 L2110.46 1306.27 L2126.46 1322.27 L2142.46 1306.27 L2126.46 1290.27 Z\" fill=\"#ff0000\" fill-rule=\"evenodd\" fill-opacity=\"1\" stroke=\"#000000\" stroke-opacity=\"1\" stroke-width=\"3.2\"/>\n",
       "<path clip-path=\"url(#clip502)\" d=\"M2167.83 1290.18 L2151.83 1306.18 L2167.83 1322.18 L2183.83 1306.18 L2167.83 1290.18 Z\" fill=\"#ff0000\" fill-rule=\"evenodd\" fill-opacity=\"1\" stroke=\"#000000\" stroke-opacity=\"1\" stroke-width=\"3.2\"/>\n",
       "<path clip-path=\"url(#clip502)\" d=\"M2209.2 1290.14 L2193.2 1306.14 L2209.2 1322.14 L2225.2 1306.14 L2209.2 1290.14 Z\" fill=\"#ff0000\" fill-rule=\"evenodd\" fill-opacity=\"1\" stroke=\"#000000\" stroke-opacity=\"1\" stroke-width=\"3.2\"/>\n",
       "<path clip-path=\"url(#clip502)\" d=\"M2250.57 1284.73 L2234.57 1300.73 L2250.57 1316.73 L2266.57 1300.73 L2250.57 1284.73 Z\" fill=\"#ff0000\" fill-rule=\"evenodd\" fill-opacity=\"1\" stroke=\"#000000\" stroke-opacity=\"1\" stroke-width=\"3.2\"/>\n",
       "<path clip-path=\"url(#clip502)\" d=\"M2291.94 1283.18 L2275.94 1299.18 L2291.94 1315.18 L2307.94 1299.18 L2291.94 1283.18 Z\" fill=\"#ff0000\" fill-rule=\"evenodd\" fill-opacity=\"1\" stroke=\"#000000\" stroke-opacity=\"1\" stroke-width=\"3.2\"/>\n",
       "<path clip-path=\"url(#clip500)\" d=\"M275.59 300.469 L612.899 300.469 L612.899 93.1086 L275.59 93.1086  Z\" fill=\"#ffffff\" fill-rule=\"evenodd\" fill-opacity=\"1\"/>\n",
       "<polyline clip-path=\"url(#clip500)\" style=\"stroke:#000000; stroke-linecap:round; stroke-linejoin:round; stroke-width:4; stroke-opacity:1; fill:none\" points=\"275.59,300.469 612.899,300.469 612.899,93.1086 275.59,93.1086 275.59,300.469 \"/>\n",
       "<polyline clip-path=\"url(#clip500)\" style=\"stroke:#008000; stroke-linecap:round; stroke-linejoin:round; stroke-width:4; stroke-opacity:1; fill:none\" points=\"299.465,144.949 442.718,144.949 \"/>\n",
       "<circle clip-path=\"url(#clip500)\" cx=\"371.092\" cy=\"144.949\" r=\"19.8962\" fill=\"#008000\" fill-rule=\"evenodd\" fill-opacity=\"1\" stroke=\"#000000\" stroke-opacity=\"1\" stroke-width=\"5.12\"/>\n",
       "<path clip-path=\"url(#clip500)\" d=\"M466.594 151.997 L466.594 136.303 L470.853 136.303 L470.853 151.835 Q470.853 155.516 472.288 157.368 Q473.723 159.196 476.594 159.196 Q480.043 159.196 482.033 156.997 Q484.047 154.798 484.047 151.002 L484.047 136.303 L488.307 136.303 L488.307 162.229 L484.047 162.229 L484.047 158.247 Q482.496 160.608 480.436 161.766 Q478.399 162.9 475.691 162.9 Q471.223 162.9 468.909 160.122 Q466.594 157.344 466.594 151.997 M477.311 135.678 L477.311 135.678 Z\" fill=\"#000000\" fill-rule=\"evenodd\" fill-opacity=\"1\" /><path clip-path=\"url(#clip500)\" d=\"M518.631 146.581 L518.631 162.229 L514.371 162.229 L514.371 146.719 Q514.371 143.039 512.936 141.21 Q511.501 139.382 508.631 139.382 Q505.182 139.382 503.191 141.581 Q501.2 143.78 501.2 147.576 L501.2 162.229 L496.918 162.229 L496.918 136.303 L501.2 136.303 L501.2 140.331 Q502.728 137.993 504.788 136.835 Q506.871 135.678 509.58 135.678 Q514.047 135.678 516.339 138.456 Q518.631 141.21 518.631 146.581 Z\" fill=\"#000000\" fill-rule=\"evenodd\" fill-opacity=\"1\" /><path clip-path=\"url(#clip500)\" d=\"M545.783 137.298 L545.783 141.28 Q543.978 140.284 542.149 139.798 Q540.343 139.289 538.492 139.289 Q534.348 139.289 532.056 141.928 Q529.765 144.544 529.765 149.289 Q529.765 154.034 532.056 156.673 Q534.348 159.289 538.492 159.289 Q540.343 159.289 542.149 158.803 Q543.978 158.293 545.783 157.298 L545.783 161.233 Q544.001 162.067 542.079 162.483 Q540.181 162.9 538.029 162.9 Q532.172 162.9 528.723 159.219 Q525.274 155.539 525.274 149.289 Q525.274 142.946 528.746 139.312 Q532.242 135.678 538.306 135.678 Q540.274 135.678 542.149 136.095 Q544.024 136.488 545.783 137.298 Z\" fill=\"#000000\" fill-rule=\"evenodd\" fill-opacity=\"1\" /><path clip-path=\"url(#clip500)\" d=\"M553.792 156.349 L558.677 156.349 L558.677 162.229 L553.792 162.229 L553.792 156.349 Z\" fill=\"#000000\" fill-rule=\"evenodd\" fill-opacity=\"1\" /><polyline clip-path=\"url(#clip500)\" style=\"stroke:#0000ff; stroke-linecap:round; stroke-linejoin:round; stroke-width:4; stroke-opacity:1; fill:none\" points=\"299.465,196.789 442.718,196.789 \"/>\n",
       "<line clip-path=\"url(#clip500)\" x1=\"371.092\" y1=\"196.789\" x2=\"371.092\" y2=\"174.682\" style=\"stroke:#0000ff; stroke-width:5.12; stroke-opacity:1\"/>\n",
       "<line clip-path=\"url(#clip500)\" x1=\"371.092\" y1=\"196.789\" x2=\"348.985\" y2=\"196.789\" style=\"stroke:#0000ff; stroke-width:5.12; stroke-opacity:1\"/>\n",
       "<line clip-path=\"url(#clip500)\" x1=\"371.092\" y1=\"196.789\" x2=\"371.092\" y2=\"218.896\" style=\"stroke:#0000ff; stroke-width:5.12; stroke-opacity:1\"/>\n",
       "<line clip-path=\"url(#clip500)\" x1=\"371.092\" y1=\"196.789\" x2=\"393.199\" y2=\"196.789\" style=\"stroke:#0000ff; stroke-width:5.12; stroke-opacity:1\"/>\n",
       "<path clip-path=\"url(#clip500)\" d=\"M485.367 201.129 Q485.367 196.43 483.422 193.768 Q481.501 191.083 478.121 191.083 Q474.742 191.083 472.797 193.768 Q470.876 196.43 470.876 201.129 Q470.876 205.828 472.797 208.513 Q474.742 211.175 478.121 211.175 Q481.501 211.175 483.422 208.513 Q485.367 205.828 485.367 201.129 M470.876 192.078 Q472.219 189.763 474.256 188.652 Q476.316 187.518 479.163 187.518 Q483.885 187.518 486.825 191.268 Q489.788 195.018 489.788 201.129 Q489.788 207.24 486.825 210.99 Q483.885 214.74 479.163 214.74 Q476.316 214.74 474.256 213.629 Q472.219 212.495 470.876 210.18 L470.876 214.069 L466.594 214.069 L466.594 178.05 L470.876 178.05 L470.876 192.078 Z\" fill=\"#000000\" fill-rule=\"evenodd\" fill-opacity=\"1\" /><path clip-path=\"url(#clip500)\" d=\"M496.848 188.143 L501.107 188.143 L501.107 214.069 L496.848 214.069 L496.848 188.143 M496.848 178.05 L501.107 178.05 L501.107 183.444 L496.848 183.444 L496.848 178.05 Z\" fill=\"#000000\" fill-rule=\"evenodd\" fill-opacity=\"1\" /><path clip-path=\"url(#clip500)\" d=\"M527.08 200.805 Q527.08 196.175 525.158 193.629 Q523.26 191.083 519.811 191.083 Q516.385 191.083 514.464 193.629 Q512.566 196.175 512.566 200.805 Q512.566 205.411 514.464 207.958 Q516.385 210.504 519.811 210.504 Q523.26 210.504 525.158 207.958 Q527.08 205.411 527.08 200.805 M531.339 210.851 Q531.339 217.471 528.399 220.689 Q525.459 223.93 519.394 223.93 Q517.149 223.93 515.158 223.582 Q513.168 223.258 511.293 222.564 L511.293 218.42 Q513.168 219.439 514.996 219.925 Q516.825 220.411 518.723 220.411 Q522.913 220.411 524.996 218.212 Q527.08 216.036 527.08 211.615 L527.08 209.508 Q525.76 211.8 523.7 212.934 Q521.64 214.069 518.769 214.069 Q514.001 214.069 511.084 210.434 Q508.168 206.8 508.168 200.805 Q508.168 194.786 511.084 191.152 Q514.001 187.518 518.769 187.518 Q521.64 187.518 523.7 188.652 Q525.76 189.786 527.08 192.078 L527.08 188.143 L531.339 188.143 L531.339 210.851 Z\" fill=\"#000000\" fill-rule=\"evenodd\" fill-opacity=\"1\" /><path clip-path=\"url(#clip500)\" d=\"M537.959 199.184 L550.436 199.184 L550.436 202.981 L537.959 202.981 L537.959 199.184 Z\" fill=\"#000000\" fill-rule=\"evenodd\" fill-opacity=\"1\" /><path clip-path=\"url(#clip500)\" d=\"M557.403 179.509 L564.371 179.509 L573.19 203.027 L582.056 179.509 L589.024 179.509 L589.024 214.069 L584.463 214.069 L584.463 183.722 L575.551 207.425 L570.852 207.425 L561.94 183.722 L561.94 214.069 L557.403 214.069 L557.403 179.509 Z\" fill=\"#000000\" fill-rule=\"evenodd\" fill-opacity=\"1\" /><polyline clip-path=\"url(#clip500)\" style=\"stroke:#ff0000; stroke-linecap:round; stroke-linejoin:round; stroke-width:4; stroke-opacity:1; fill:none\" points=\"299.465,248.629 442.718,248.629 \"/>\n",
       "<path clip-path=\"url(#clip500)\" d=\"M371.092 226.522 L348.985 248.629 L371.092 270.736 L393.199 248.629 L371.092 226.522 Z\" fill=\"#ff0000\" fill-rule=\"evenodd\" fill-opacity=\"1\" stroke=\"#000000\" stroke-opacity=\"1\" stroke-width=\"5.12\"/>\n",
       "<path clip-path=\"url(#clip500)\" d=\"M486.941 244.96 Q488.538 242.089 490.76 240.724 Q492.982 239.358 495.992 239.358 Q500.043 239.358 502.242 242.205 Q504.441 245.029 504.441 250.261 L504.441 265.909 L500.158 265.909 L500.158 250.399 Q500.158 246.673 498.839 244.867 Q497.52 243.062 494.811 243.062 Q491.501 243.062 489.58 245.261 Q487.658 247.46 487.658 251.256 L487.658 265.909 L483.376 265.909 L483.376 250.399 Q483.376 246.649 482.057 244.867 Q480.737 243.062 477.983 243.062 Q474.719 243.062 472.797 245.284 Q470.876 247.483 470.876 251.256 L470.876 265.909 L466.594 265.909 L466.594 239.983 L470.876 239.983 L470.876 244.011 Q472.334 241.626 474.371 240.492 Q476.409 239.358 479.209 239.358 Q482.033 239.358 484.001 240.793 Q485.992 242.228 486.941 244.96 Z\" fill=\"#000000\" fill-rule=\"evenodd\" fill-opacity=\"1\" /><path clip-path=\"url(#clip500)\" d=\"M517.056 262.02 L517.056 275.77 L512.774 275.77 L512.774 239.983 L517.056 239.983 L517.056 243.918 Q518.399 241.603 520.436 240.492 Q522.496 239.358 525.343 239.358 Q530.066 239.358 533.005 243.108 Q535.968 246.858 535.968 252.969 Q535.968 259.08 533.005 262.83 Q530.066 266.58 525.343 266.58 Q522.496 266.58 520.436 265.469 Q518.399 264.335 517.056 262.02 M531.547 252.969 Q531.547 248.27 529.603 245.608 Q527.681 242.923 524.302 242.923 Q520.922 242.923 518.978 245.608 Q517.056 248.27 517.056 252.969 Q517.056 257.668 518.978 260.353 Q520.922 263.015 524.302 263.015 Q527.681 263.015 529.603 260.353 Q531.547 257.668 531.547 252.969 Z\" fill=\"#000000\" fill-rule=\"evenodd\" fill-opacity=\"1\" /><path clip-path=\"url(#clip500)\" d=\"M561.686 240.978 L561.686 244.96 Q559.88 243.964 558.052 243.478 Q556.246 242.969 554.394 242.969 Q550.251 242.969 547.959 245.608 Q545.667 248.224 545.667 252.969 Q545.667 257.714 547.959 260.353 Q550.251 262.969 554.394 262.969 Q556.246 262.969 558.052 262.483 Q559.88 261.973 561.686 260.978 L561.686 264.913 Q559.903 265.747 557.982 266.163 Q556.084 266.58 553.931 266.58 Q548.075 266.58 544.626 262.899 Q541.177 259.219 541.177 252.969 Q541.177 246.626 544.649 242.992 Q548.144 239.358 554.209 239.358 Q556.177 239.358 558.052 239.775 Q559.927 240.168 561.686 240.978 Z\" fill=\"#000000\" fill-rule=\"evenodd\" fill-opacity=\"1\" /><path clip-path=\"url(#clip500)\" d=\"M587.751 240.978 L587.751 244.96 Q585.945 243.964 584.116 243.478 Q582.311 242.969 580.459 242.969 Q576.315 242.969 574.024 245.608 Q571.732 248.224 571.732 252.969 Q571.732 257.714 574.024 260.353 Q576.315 262.969 580.459 262.969 Q582.311 262.969 584.116 262.483 Q585.945 261.973 587.751 260.978 L587.751 264.913 Q585.968 265.747 584.047 266.163 Q582.149 266.58 579.996 266.58 Q574.139 266.58 570.69 262.899 Q567.241 259.219 567.241 252.969 Q567.241 246.626 570.714 242.992 Q574.209 239.358 580.274 239.358 Q582.241 239.358 584.116 239.775 Q585.991 240.168 587.751 240.978 Z\" fill=\"#000000\" fill-rule=\"evenodd\" fill-opacity=\"1\" /></svg>\n"
      ]
     },
     "metadata": {},
     "output_type": "display_data"
    }
   ],
   "source": [
    "gr()\n",
    "\n",
    "p1 = plot(xlabel=\"# scenarios\", ylabel=\"sol. time [s]\",gridlinewidth=2)\n",
    "p1 = plot!(1:nScenTotal,solTimeTraj_s[1,:], linecolor=:green, marker=:circle, markercolor = :green)\n",
    "p1 = plot!(1:nScenTotal,solTimeTraj_s[2,:], linecolor=:blue, marker=:cross, markercolor = :blue)\n",
    "p1 = plot!(1:nScenTotal,solTimeTraj_s[3,:], linecolor=:red, marker=:diamond, markercolor = :red)\n",
    "p1.series_list[1][:label] = \"unc.\"\n",
    "p1.series_list[2][:label] = \"big-M\"\n",
    "p1.series_list[3][:label] = \"mpcc\"\n",
    "\n",
    "display(p1)"
   ]
  },
  {
   "cell_type": "markdown",
   "id": "766f6bbd",
   "metadata": {},
   "source": [
    "# Checking the performance of the methods in terms of time vs. nReac"
   ]
  },
  {
   "cell_type": "code",
   "execution_count": 14,
   "id": "a4235b15",
   "metadata": {},
   "outputs": [
    {
     "data": {
      "text/plain": [
       "\"simulation iteration: 1 | option 1\""
      ]
     },
     "metadata": {},
     "output_type": "display_data"
    },
    {
     "data": {
      "text/plain": [
       "\"simulation iteration: 2 | option 1\""
      ]
     },
     "metadata": {},
     "output_type": "display_data"
    },
    {
     "data": {
      "text/plain": [
       "\"simulation iteration: 3 | option 1\""
      ]
     },
     "metadata": {},
     "output_type": "display_data"
    },
    {
     "data": {
      "text/plain": [
       "\"simulation iteration: 4 | option 1\""
      ]
     },
     "metadata": {},
     "output_type": "display_data"
    },
    {
     "data": {
      "text/plain": [
       "\"simulation iteration: 5 | option 1\""
      ]
     },
     "metadata": {},
     "output_type": "display_data"
    },
    {
     "data": {
      "text/plain": [
       "\"simulation iteration: 6 | option 1\""
      ]
     },
     "metadata": {},
     "output_type": "display_data"
    },
    {
     "data": {
      "text/plain": [
       "\"simulation iteration: 7 | option 1\""
      ]
     },
     "metadata": {},
     "output_type": "display_data"
    },
    {
     "data": {
      "text/plain": [
       "\"simulation iteration: 8 | option 1\""
      ]
     },
     "metadata": {},
     "output_type": "display_data"
    },
    {
     "data": {
      "text/plain": [
       "\"simulation iteration: 9 | option 1\""
      ]
     },
     "metadata": {},
     "output_type": "display_data"
    },
    {
     "data": {
      "text/plain": [
       "\"simulation iteration: 10 | option 1\""
      ]
     },
     "metadata": {},
     "output_type": "display_data"
    },
    {
     "data": {
      "text/plain": [
       "\"simulation iteration: 11 | option 1\""
      ]
     },
     "metadata": {},
     "output_type": "display_data"
    },
    {
     "data": {
      "text/plain": [
       "\"simulation iteration: 12 | option 1\""
      ]
     },
     "metadata": {},
     "output_type": "display_data"
    },
    {
     "data": {
      "text/plain": [
       "\"simulation iteration: 13 | option 1\""
      ]
     },
     "metadata": {},
     "output_type": "display_data"
    },
    {
     "data": {
      "text/plain": [
       "\"simulation iteration: 14 | option 1\""
      ]
     },
     "metadata": {},
     "output_type": "display_data"
    },
    {
     "data": {
      "text/plain": [
       "\"simulation iteration: 15 | option 1\""
      ]
     },
     "metadata": {},
     "output_type": "display_data"
    },
    {
     "data": {
      "text/plain": [
       "\"simulation iteration: 16 | option 1\""
      ]
     },
     "metadata": {},
     "output_type": "display_data"
    },
    {
     "data": {
      "text/plain": [
       "\"simulation iteration: 17 | option 1\""
      ]
     },
     "metadata": {},
     "output_type": "display_data"
    },
    {
     "data": {
      "text/plain": [
       "\"simulation iteration: 18 | option 1\""
      ]
     },
     "metadata": {},
     "output_type": "display_data"
    },
    {
     "data": {
      "text/plain": [
       "\"simulation iteration: 19 | option 1\""
      ]
     },
     "metadata": {},
     "output_type": "display_data"
    },
    {
     "data": {
      "text/plain": [
       "\"simulation iteration: 20 | option 1\""
      ]
     },
     "metadata": {},
     "output_type": "display_data"
    },
    {
     "data": {
      "text/plain": [
       "\"simulation iteration: 21 | option 1\""
      ]
     },
     "metadata": {},
     "output_type": "display_data"
    },
    {
     "data": {
      "text/plain": [
       "\"simulation iteration: 22 | option 1\""
      ]
     },
     "metadata": {},
     "output_type": "display_data"
    },
    {
     "data": {
      "text/plain": [
       "\"simulation iteration: 23 | option 1\""
      ]
     },
     "metadata": {},
     "output_type": "display_data"
    },
    {
     "data": {
      "text/plain": [
       "\"simulation iteration: 24 | option 1\""
      ]
     },
     "metadata": {},
     "output_type": "display_data"
    },
    {
     "data": {
      "text/plain": [
       "\"simulation iteration: 25 | option 1\""
      ]
     },
     "metadata": {},
     "output_type": "display_data"
    },
    {
     "data": {
      "text/plain": [
       "\"simulation iteration: 26 | option 1\""
      ]
     },
     "metadata": {},
     "output_type": "display_data"
    },
    {
     "data": {
      "text/plain": [
       "\"simulation iteration: 27 | option 1\""
      ]
     },
     "metadata": {},
     "output_type": "display_data"
    },
    {
     "data": {
      "text/plain": [
       "\"simulation iteration: 28 | option 1\""
      ]
     },
     "metadata": {},
     "output_type": "display_data"
    },
    {
     "data": {
      "text/plain": [
       "\"simulation iteration: 29 | option 1\""
      ]
     },
     "metadata": {},
     "output_type": "display_data"
    },
    {
     "data": {
      "text/plain": [
       "\"simulation iteration: 30 | option 1\""
      ]
     },
     "metadata": {},
     "output_type": "display_data"
    },
    {
     "data": {
      "text/plain": [
       "\"simulation iteration: 31 | option 1\""
      ]
     },
     "metadata": {},
     "output_type": "display_data"
    },
    {
     "data": {
      "text/plain": [
       "\"simulation iteration: 32 | option 1\""
      ]
     },
     "metadata": {},
     "output_type": "display_data"
    },
    {
     "data": {
      "text/plain": [
       "\"simulation iteration: 33 | option 1\""
      ]
     },
     "metadata": {},
     "output_type": "display_data"
    },
    {
     "data": {
      "text/plain": [
       "\"simulation iteration: 34 | option 1\""
      ]
     },
     "metadata": {},
     "output_type": "display_data"
    },
    {
     "data": {
      "text/plain": [
       "\"simulation iteration: 35 | option 1\""
      ]
     },
     "metadata": {},
     "output_type": "display_data"
    },
    {
     "data": {
      "text/plain": [
       "\"simulation iteration: 36 | option 1\""
      ]
     },
     "metadata": {},
     "output_type": "display_data"
    },
    {
     "data": {
      "text/plain": [
       "\"simulation iteration: 37 | option 1\""
      ]
     },
     "metadata": {},
     "output_type": "display_data"
    },
    {
     "data": {
      "text/plain": [
       "\"simulation iteration: 38 | option 1\""
      ]
     },
     "metadata": {},
     "output_type": "display_data"
    },
    {
     "data": {
      "text/plain": [
       "\"simulation iteration: 39 | option 1\""
      ]
     },
     "metadata": {},
     "output_type": "display_data"
    },
    {
     "data": {
      "text/plain": [
       "\"simulation iteration: 40 | option 1\""
      ]
     },
     "metadata": {},
     "output_type": "display_data"
    },
    {
     "data": {
      "text/plain": [
       "\"simulation iteration: 41 | option 1\""
      ]
     },
     "metadata": {},
     "output_type": "display_data"
    },
    {
     "data": {
      "text/plain": [
       "\"simulation iteration: 42 | option 1\""
      ]
     },
     "metadata": {},
     "output_type": "display_data"
    },
    {
     "data": {
      "text/plain": [
       "\"simulation iteration: 43 | option 1\""
      ]
     },
     "metadata": {},
     "output_type": "display_data"
    },
    {
     "data": {
      "text/plain": [
       "\"simulation iteration: 44 | option 1\""
      ]
     },
     "metadata": {},
     "output_type": "display_data"
    },
    {
     "data": {
      "text/plain": [
       "\"simulation iteration: 45 | option 1\""
      ]
     },
     "metadata": {},
     "output_type": "display_data"
    },
    {
     "data": {
      "text/plain": [
       "\"simulation iteration: 46 | option 1\""
      ]
     },
     "metadata": {},
     "output_type": "display_data"
    },
    {
     "data": {
      "text/plain": [
       "\"simulation iteration: 47 | option 1\""
      ]
     },
     "metadata": {},
     "output_type": "display_data"
    },
    {
     "data": {
      "text/plain": [
       "\"simulation iteration: 48 | option 1\""
      ]
     },
     "metadata": {},
     "output_type": "display_data"
    },
    {
     "data": {
      "text/plain": [
       "\"simulation iteration: 49 | option 1\""
      ]
     },
     "metadata": {},
     "output_type": "display_data"
    },
    {
     "data": {
      "text/plain": [
       "\"simulation iteration: 50 | option 1\""
      ]
     },
     "metadata": {},
     "output_type": "display_data"
    },
    {
     "data": {
      "text/plain": [
       "\"simulation iteration: 1 | option 2\""
      ]
     },
     "metadata": {},
     "output_type": "display_data"
    },
    {
     "data": {
      "text/plain": [
       "\"simulation iteration: 2 | option 2\""
      ]
     },
     "metadata": {},
     "output_type": "display_data"
    },
    {
     "data": {
      "text/plain": [
       "\"simulation iteration: 3 | option 2\""
      ]
     },
     "metadata": {},
     "output_type": "display_data"
    },
    {
     "data": {
      "text/plain": [
       "\"simulation iteration: 4 | option 2\""
      ]
     },
     "metadata": {},
     "output_type": "display_data"
    },
    {
     "data": {
      "text/plain": [
       "\"simulation iteration: 5 | option 2\""
      ]
     },
     "metadata": {},
     "output_type": "display_data"
    },
    {
     "data": {
      "text/plain": [
       "\"simulation iteration: 6 | option 2\""
      ]
     },
     "metadata": {},
     "output_type": "display_data"
    },
    {
     "data": {
      "text/plain": [
       "\"simulation iteration: 7 | option 2\""
      ]
     },
     "metadata": {},
     "output_type": "display_data"
    },
    {
     "data": {
      "text/plain": [
       "\"simulation iteration: 8 | option 2\""
      ]
     },
     "metadata": {},
     "output_type": "display_data"
    },
    {
     "data": {
      "text/plain": [
       "\"simulation iteration: 9 | option 2\""
      ]
     },
     "metadata": {},
     "output_type": "display_data"
    },
    {
     "data": {
      "text/plain": [
       "\"simulation iteration: 10 | option 2\""
      ]
     },
     "metadata": {},
     "output_type": "display_data"
    },
    {
     "data": {
      "text/plain": [
       "\"simulation iteration: 11 | option 2\""
      ]
     },
     "metadata": {},
     "output_type": "display_data"
    },
    {
     "data": {
      "text/plain": [
       "\"simulation iteration: 12 | option 2\""
      ]
     },
     "metadata": {},
     "output_type": "display_data"
    },
    {
     "data": {
      "text/plain": [
       "\"simulation iteration: 13 | option 2\""
      ]
     },
     "metadata": {},
     "output_type": "display_data"
    },
    {
     "data": {
      "text/plain": [
       "\"simulation iteration: 14 | option 2\""
      ]
     },
     "metadata": {},
     "output_type": "display_data"
    },
    {
     "data": {
      "text/plain": [
       "\"simulation iteration: 15 | option 2\""
      ]
     },
     "metadata": {},
     "output_type": "display_data"
    },
    {
     "data": {
      "text/plain": [
       "\"simulation iteration: 16 | option 2\""
      ]
     },
     "metadata": {},
     "output_type": "display_data"
    },
    {
     "data": {
      "text/plain": [
       "\"simulation iteration: 17 | option 2\""
      ]
     },
     "metadata": {},
     "output_type": "display_data"
    },
    {
     "data": {
      "text/plain": [
       "\"simulation iteration: 18 | option 2\""
      ]
     },
     "metadata": {},
     "output_type": "display_data"
    },
    {
     "data": {
      "text/plain": [
       "\"simulation iteration: 19 | option 2\""
      ]
     },
     "metadata": {},
     "output_type": "display_data"
    },
    {
     "data": {
      "text/plain": [
       "\"simulation iteration: 20 | option 2\""
      ]
     },
     "metadata": {},
     "output_type": "display_data"
    },
    {
     "data": {
      "text/plain": [
       "\"simulation iteration: 21 | option 2\""
      ]
     },
     "metadata": {},
     "output_type": "display_data"
    },
    {
     "data": {
      "text/plain": [
       "\"simulation iteration: 22 | option 2\""
      ]
     },
     "metadata": {},
     "output_type": "display_data"
    },
    {
     "data": {
      "text/plain": [
       "\"simulation iteration: 23 | option 2\""
      ]
     },
     "metadata": {},
     "output_type": "display_data"
    },
    {
     "data": {
      "text/plain": [
       "\"simulation iteration: 24 | option 2\""
      ]
     },
     "metadata": {},
     "output_type": "display_data"
    },
    {
     "data": {
      "text/plain": [
       "\"simulation iteration: 25 | option 2\""
      ]
     },
     "metadata": {},
     "output_type": "display_data"
    },
    {
     "data": {
      "text/plain": [
       "\"simulation iteration: 26 | option 2\""
      ]
     },
     "metadata": {},
     "output_type": "display_data"
    },
    {
     "data": {
      "text/plain": [
       "\"simulation iteration: 27 | option 2\""
      ]
     },
     "metadata": {},
     "output_type": "display_data"
    },
    {
     "data": {
      "text/plain": [
       "\"simulation iteration: 28 | option 2\""
      ]
     },
     "metadata": {},
     "output_type": "display_data"
    },
    {
     "data": {
      "text/plain": [
       "\"simulation iteration: 29 | option 2\""
      ]
     },
     "metadata": {},
     "output_type": "display_data"
    },
    {
     "data": {
      "text/plain": [
       "\"simulation iteration: 30 | option 2\""
      ]
     },
     "metadata": {},
     "output_type": "display_data"
    },
    {
     "data": {
      "text/plain": [
       "\"simulation iteration: 31 | option 2\""
      ]
     },
     "metadata": {},
     "output_type": "display_data"
    },
    {
     "data": {
      "text/plain": [
       "\"simulation iteration: 32 | option 2\""
      ]
     },
     "metadata": {},
     "output_type": "display_data"
    },
    {
     "data": {
      "text/plain": [
       "\"simulation iteration: 33 | option 2\""
      ]
     },
     "metadata": {},
     "output_type": "display_data"
    },
    {
     "data": {
      "text/plain": [
       "\"simulation iteration: 34 | option 2\""
      ]
     },
     "metadata": {},
     "output_type": "display_data"
    },
    {
     "data": {
      "text/plain": [
       "\"simulation iteration: 35 | option 2\""
      ]
     },
     "metadata": {},
     "output_type": "display_data"
    },
    {
     "data": {
      "text/plain": [
       "\"simulation iteration: 36 | option 2\""
      ]
     },
     "metadata": {},
     "output_type": "display_data"
    },
    {
     "data": {
      "text/plain": [
       "\"simulation iteration: 37 | option 2\""
      ]
     },
     "metadata": {},
     "output_type": "display_data"
    },
    {
     "data": {
      "text/plain": [
       "\"simulation iteration: 38 | option 2\""
      ]
     },
     "metadata": {},
     "output_type": "display_data"
    },
    {
     "data": {
      "text/plain": [
       "\"simulation iteration: 39 | option 2\""
      ]
     },
     "metadata": {},
     "output_type": "display_data"
    },
    {
     "data": {
      "text/plain": [
       "\"simulation iteration: 40 | option 2\""
      ]
     },
     "metadata": {},
     "output_type": "display_data"
    },
    {
     "data": {
      "text/plain": [
       "\"simulation iteration: 41 | option 2\""
      ]
     },
     "metadata": {},
     "output_type": "display_data"
    },
    {
     "data": {
      "text/plain": [
       "\"simulation iteration: 42 | option 2\""
      ]
     },
     "metadata": {},
     "output_type": "display_data"
    },
    {
     "data": {
      "text/plain": [
       "\"simulation iteration: 43 | option 2\""
      ]
     },
     "metadata": {},
     "output_type": "display_data"
    },
    {
     "data": {
      "text/plain": [
       "\"simulation iteration: 44 | option 2\""
      ]
     },
     "metadata": {},
     "output_type": "display_data"
    },
    {
     "data": {
      "text/plain": [
       "\"simulation iteration: 45 | option 2\""
      ]
     },
     "metadata": {},
     "output_type": "display_data"
    },
    {
     "data": {
      "text/plain": [
       "\"simulation iteration: 46 | option 2\""
      ]
     },
     "metadata": {},
     "output_type": "display_data"
    },
    {
     "data": {
      "text/plain": [
       "\"simulation iteration: 47 | option 2\""
      ]
     },
     "metadata": {},
     "output_type": "display_data"
    },
    {
     "data": {
      "text/plain": [
       "\"simulation iteration: 48 | option 2\""
      ]
     },
     "metadata": {},
     "output_type": "display_data"
    },
    {
     "data": {
      "text/plain": [
       "\"simulation iteration: 49 | option 2\""
      ]
     },
     "metadata": {},
     "output_type": "display_data"
    },
    {
     "data": {
      "text/plain": [
       "\"simulation iteration: 50 | option 2\""
      ]
     },
     "metadata": {},
     "output_type": "display_data"
    },
    {
     "data": {
      "text/plain": [
       "\"simulation iteration: 1 | option 3\""
      ]
     },
     "metadata": {},
     "output_type": "display_data"
    },
    {
     "data": {
      "text/plain": [
       "\"simulation iteration: 2 | option 3\""
      ]
     },
     "metadata": {},
     "output_type": "display_data"
    },
    {
     "data": {
      "text/plain": [
       "\"simulation iteration: 3 | option 3\""
      ]
     },
     "metadata": {},
     "output_type": "display_data"
    },
    {
     "data": {
      "text/plain": [
       "\"simulation iteration: 4 | option 3\""
      ]
     },
     "metadata": {},
     "output_type": "display_data"
    },
    {
     "data": {
      "text/plain": [
       "\"simulation iteration: 5 | option 3\""
      ]
     },
     "metadata": {},
     "output_type": "display_data"
    },
    {
     "data": {
      "text/plain": [
       "\"simulation iteration: 6 | option 3\""
      ]
     },
     "metadata": {},
     "output_type": "display_data"
    },
    {
     "data": {
      "text/plain": [
       "\"simulation iteration: 7 | option 3\""
      ]
     },
     "metadata": {},
     "output_type": "display_data"
    },
    {
     "data": {
      "text/plain": [
       "\"simulation iteration: 8 | option 3\""
      ]
     },
     "metadata": {},
     "output_type": "display_data"
    },
    {
     "data": {
      "text/plain": [
       "\"simulation iteration: 9 | option 3\""
      ]
     },
     "metadata": {},
     "output_type": "display_data"
    },
    {
     "data": {
      "text/plain": [
       "\"simulation iteration: 10 | option 3\""
      ]
     },
     "metadata": {},
     "output_type": "display_data"
    },
    {
     "data": {
      "text/plain": [
       "\"simulation iteration: 11 | option 3\""
      ]
     },
     "metadata": {},
     "output_type": "display_data"
    },
    {
     "data": {
      "text/plain": [
       "\"simulation iteration: 12 | option 3\""
      ]
     },
     "metadata": {},
     "output_type": "display_data"
    },
    {
     "data": {
      "text/plain": [
       "\"simulation iteration: 13 | option 3\""
      ]
     },
     "metadata": {},
     "output_type": "display_data"
    },
    {
     "data": {
      "text/plain": [
       "\"simulation iteration: 14 | option 3\""
      ]
     },
     "metadata": {},
     "output_type": "display_data"
    },
    {
     "data": {
      "text/plain": [
       "\"simulation iteration: 15 | option 3\""
      ]
     },
     "metadata": {},
     "output_type": "display_data"
    },
    {
     "data": {
      "text/plain": [
       "\"simulation iteration: 16 | option 3\""
      ]
     },
     "metadata": {},
     "output_type": "display_data"
    },
    {
     "data": {
      "text/plain": [
       "\"simulation iteration: 17 | option 3\""
      ]
     },
     "metadata": {},
     "output_type": "display_data"
    },
    {
     "data": {
      "text/plain": [
       "\"simulation iteration: 18 | option 3\""
      ]
     },
     "metadata": {},
     "output_type": "display_data"
    },
    {
     "data": {
      "text/plain": [
       "\"simulation iteration: 19 | option 3\""
      ]
     },
     "metadata": {},
     "output_type": "display_data"
    },
    {
     "data": {
      "text/plain": [
       "\"simulation iteration: 20 | option 3\""
      ]
     },
     "metadata": {},
     "output_type": "display_data"
    },
    {
     "data": {
      "text/plain": [
       "\"simulation iteration: 21 | option 3\""
      ]
     },
     "metadata": {},
     "output_type": "display_data"
    },
    {
     "data": {
      "text/plain": [
       "\"simulation iteration: 22 | option 3\""
      ]
     },
     "metadata": {},
     "output_type": "display_data"
    },
    {
     "data": {
      "text/plain": [
       "\"simulation iteration: 23 | option 3\""
      ]
     },
     "metadata": {},
     "output_type": "display_data"
    },
    {
     "data": {
      "text/plain": [
       "\"simulation iteration: 24 | option 3\""
      ]
     },
     "metadata": {},
     "output_type": "display_data"
    },
    {
     "data": {
      "text/plain": [
       "\"simulation iteration: 25 | option 3\""
      ]
     },
     "metadata": {},
     "output_type": "display_data"
    },
    {
     "data": {
      "text/plain": [
       "\"simulation iteration: 26 | option 3\""
      ]
     },
     "metadata": {},
     "output_type": "display_data"
    },
    {
     "data": {
      "text/plain": [
       "\"simulation iteration: 27 | option 3\""
      ]
     },
     "metadata": {},
     "output_type": "display_data"
    },
    {
     "data": {
      "text/plain": [
       "\"simulation iteration: 28 | option 3\""
      ]
     },
     "metadata": {},
     "output_type": "display_data"
    },
    {
     "data": {
      "text/plain": [
       "\"simulation iteration: 29 | option 3\""
      ]
     },
     "metadata": {},
     "output_type": "display_data"
    },
    {
     "data": {
      "text/plain": [
       "\"simulation iteration: 30 | option 3\""
      ]
     },
     "metadata": {},
     "output_type": "display_data"
    },
    {
     "data": {
      "text/plain": [
       "\"simulation iteration: 31 | option 3\""
      ]
     },
     "metadata": {},
     "output_type": "display_data"
    },
    {
     "data": {
      "text/plain": [
       "\"simulation iteration: 32 | option 3\""
      ]
     },
     "metadata": {},
     "output_type": "display_data"
    },
    {
     "data": {
      "text/plain": [
       "\"simulation iteration: 33 | option 3\""
      ]
     },
     "metadata": {},
     "output_type": "display_data"
    },
    {
     "data": {
      "text/plain": [
       "\"simulation iteration: 34 | option 3\""
      ]
     },
     "metadata": {},
     "output_type": "display_data"
    },
    {
     "data": {
      "text/plain": [
       "\"simulation iteration: 35 | option 3\""
      ]
     },
     "metadata": {},
     "output_type": "display_data"
    },
    {
     "data": {
      "text/plain": [
       "\"simulation iteration: 36 | option 3\""
      ]
     },
     "metadata": {},
     "output_type": "display_data"
    },
    {
     "data": {
      "text/plain": [
       "\"simulation iteration: 37 | option 3\""
      ]
     },
     "metadata": {},
     "output_type": "display_data"
    },
    {
     "data": {
      "text/plain": [
       "\"simulation iteration: 38 | option 3\""
      ]
     },
     "metadata": {},
     "output_type": "display_data"
    },
    {
     "data": {
      "text/plain": [
       "\"simulation iteration: 39 | option 3\""
      ]
     },
     "metadata": {},
     "output_type": "display_data"
    },
    {
     "data": {
      "text/plain": [
       "\"simulation iteration: 40 | option 3\""
      ]
     },
     "metadata": {},
     "output_type": "display_data"
    },
    {
     "data": {
      "text/plain": [
       "\"simulation iteration: 41 | option 3\""
      ]
     },
     "metadata": {},
     "output_type": "display_data"
    },
    {
     "data": {
      "text/plain": [
       "\"simulation iteration: 42 | option 3\""
      ]
     },
     "metadata": {},
     "output_type": "display_data"
    },
    {
     "data": {
      "text/plain": [
       "\"simulation iteration: 43 | option 3\""
      ]
     },
     "metadata": {},
     "output_type": "display_data"
    },
    {
     "data": {
      "text/plain": [
       "\"simulation iteration: 44 | option 3\""
      ]
     },
     "metadata": {},
     "output_type": "display_data"
    },
    {
     "data": {
      "text/plain": [
       "\"simulation iteration: 45 | option 3\""
      ]
     },
     "metadata": {},
     "output_type": "display_data"
    },
    {
     "data": {
      "text/plain": [
       "\"simulation iteration: 46 | option 3\""
      ]
     },
     "metadata": {},
     "output_type": "display_data"
    },
    {
     "data": {
      "text/plain": [
       "\"simulation iteration: 47 | option 3\""
      ]
     },
     "metadata": {},
     "output_type": "display_data"
    },
    {
     "data": {
      "text/plain": [
       "\"simulation iteration: 48 | option 3\""
      ]
     },
     "metadata": {},
     "output_type": "display_data"
    },
    {
     "data": {
      "text/plain": [
       "\"simulation iteration: 49 | option 3\""
      ]
     },
     "metadata": {},
     "output_type": "display_data"
    },
    {
     "data": {
      "text/plain": [
       "\"simulation iteration: 50 | option 3\""
      ]
     },
     "metadata": {},
     "output_type": "display_data"
    }
   ],
   "source": [
    "nReactTotal = 50 # 15 | 50\n",
    "\n",
    "# preparing plot \n",
    "solTimeTraj_r = Matrix{Float64}(undef,3,nReactTotal) \n",
    "\n",
    "#option = 1 # : Unconstrained MPC\n",
    "#option = 2 # : Constrained MPC with binaries\n",
    "#option = 3 # : Constrained MPC with MPCC\n",
    "\n",
    "# number of reactors in parallel\n",
    "nScenarios = 1\n",
    "#equiprobable scenarios\n",
    "pScenarios = 1.0/nScenarios;\n",
    "\n",
    "for opti in 1:3\n",
    "    # dummy for initialization\n",
    "    sol_m_Dict = 0;\n",
    "    \n",
    "    for rr in 1:nScenTotal\n",
    "        display(\"simulation iteration: $(rr) | option $(opti)\")\n",
    "        \n",
    "        #number os reactors\n",
    "        nReac = rr\n",
    "        # Number of states\n",
    "        nx = 2*nReac;\n",
    "\n",
    "        # Initial conditions (deviation form)\n",
    "        xInit_0 = repeat([0.3583;0.6418] .- x0, outer = [nReac,1]);\n",
    "        uInit_0 = 1.0 - u0;\n",
    "        \n",
    "        # solving monolithical problem \n",
    "        sol_m_Dict = MS_CLDRTO(xInit_0,uInit_0,nReac,nScenarios,pScenarios,solNominal,opti)\n",
    "\n",
    "        # saving values for plotting if problem was solved\n",
    "        # output being a dictionary controls if the solver has converged or not \n",
    "        if sol_m_Dict isa Dict\n",
    "            solTimeTraj_r[opti,rr] = sol_m_Dict['t']\n",
    "        else\n",
    "            solTimeTraj_r[opti,rr] = NaN\n",
    "        end\n",
    "        \n",
    "    end\n",
    "end\n"
   ]
  },
  {
   "cell_type": "code",
   "execution_count": 15,
   "id": "3233be5f",
   "metadata": {},
   "outputs": [
    {
     "data": {
      "image/svg+xml": [
       "<?xml version=\"1.0\" encoding=\"utf-8\"?>\n",
       "<svg xmlns=\"http://www.w3.org/2000/svg\" xmlns:xlink=\"http://www.w3.org/1999/xlink\" width=\"600\" height=\"400\" viewBox=\"0 0 2400 1600\">\n",
       "<defs>\n",
       "  <clipPath id=\"clip540\">\n",
       "    <rect x=\"0\" y=\"0\" width=\"2400\" height=\"1600\"/>\n",
       "  </clipPath>\n",
       "</defs>\n",
       "<path clip-path=\"url(#clip540)\" d=\"M0 1600 L2400 1600 L2400 0 L0 0  Z\" fill=\"#ffffff\" fill-rule=\"evenodd\" fill-opacity=\"1\"/>\n",
       "<defs>\n",
       "  <clipPath id=\"clip541\">\n",
       "    <rect x=\"480\" y=\"0\" width=\"1681\" height=\"1600\"/>\n",
       "  </clipPath>\n",
       "</defs>\n",
       "<path clip-path=\"url(#clip540)\" d=\"M219.38 1423.18 L2352.76 1423.18 L2352.76 47.2441 L219.38 47.2441  Z\" fill=\"#ffffff\" fill-rule=\"evenodd\" fill-opacity=\"1\"/>\n",
       "<defs>\n",
       "  <clipPath id=\"clip542\">\n",
       "    <rect x=\"219\" y=\"47\" width=\"2134\" height=\"1377\"/>\n",
       "  </clipPath>\n",
       "</defs>\n",
       "<polyline clip-path=\"url(#clip542)\" style=\"stroke:#000000; stroke-linecap:round; stroke-linejoin:round; stroke-width:8; stroke-opacity:0.1; fill:none\" points=\"238.685,1423.18 238.685,47.2441 \"/>\n",
       "<polyline clip-path=\"url(#clip542)\" style=\"stroke:#000000; stroke-linecap:round; stroke-linejoin:round; stroke-width:8; stroke-opacity:0.1; fill:none\" points=\"649.423,1423.18 649.423,47.2441 \"/>\n",
       "<polyline clip-path=\"url(#clip542)\" style=\"stroke:#000000; stroke-linecap:round; stroke-linejoin:round; stroke-width:8; stroke-opacity:0.1; fill:none\" points=\"1060.16,1423.18 1060.16,47.2441 \"/>\n",
       "<polyline clip-path=\"url(#clip542)\" style=\"stroke:#000000; stroke-linecap:round; stroke-linejoin:round; stroke-width:8; stroke-opacity:0.1; fill:none\" points=\"1470.9,1423.18 1470.9,47.2441 \"/>\n",
       "<polyline clip-path=\"url(#clip542)\" style=\"stroke:#000000; stroke-linecap:round; stroke-linejoin:round; stroke-width:8; stroke-opacity:0.1; fill:none\" points=\"1881.64,1423.18 1881.64,47.2441 \"/>\n",
       "<polyline clip-path=\"url(#clip542)\" style=\"stroke:#000000; stroke-linecap:round; stroke-linejoin:round; stroke-width:8; stroke-opacity:0.1; fill:none\" points=\"2292.38,1423.18 2292.38,47.2441 \"/>\n",
       "<polyline clip-path=\"url(#clip540)\" style=\"stroke:#000000; stroke-linecap:round; stroke-linejoin:round; stroke-width:4; stroke-opacity:1; fill:none\" points=\"219.38,1423.18 2352.76,1423.18 \"/>\n",
       "<polyline clip-path=\"url(#clip540)\" style=\"stroke:#000000; stroke-linecap:round; stroke-linejoin:round; stroke-width:4; stroke-opacity:1; fill:none\" points=\"238.685,1423.18 238.685,1404.28 \"/>\n",
       "<polyline clip-path=\"url(#clip540)\" style=\"stroke:#000000; stroke-linecap:round; stroke-linejoin:round; stroke-width:4; stroke-opacity:1; fill:none\" points=\"649.423,1423.18 649.423,1404.28 \"/>\n",
       "<polyline clip-path=\"url(#clip540)\" style=\"stroke:#000000; stroke-linecap:round; stroke-linejoin:round; stroke-width:4; stroke-opacity:1; fill:none\" points=\"1060.16,1423.18 1060.16,1404.28 \"/>\n",
       "<polyline clip-path=\"url(#clip540)\" style=\"stroke:#000000; stroke-linecap:round; stroke-linejoin:round; stroke-width:4; stroke-opacity:1; fill:none\" points=\"1470.9,1423.18 1470.9,1404.28 \"/>\n",
       "<polyline clip-path=\"url(#clip540)\" style=\"stroke:#000000; stroke-linecap:round; stroke-linejoin:round; stroke-width:4; stroke-opacity:1; fill:none\" points=\"1881.64,1423.18 1881.64,1404.28 \"/>\n",
       "<polyline clip-path=\"url(#clip540)\" style=\"stroke:#000000; stroke-linecap:round; stroke-linejoin:round; stroke-width:4; stroke-opacity:1; fill:none\" points=\"2292.38,1423.18 2292.38,1404.28 \"/>\n",
       "<path clip-path=\"url(#clip540)\" d=\"M238.685 1454.1 Q235.074 1454.1 233.245 1457.66 Q231.44 1461.2 231.44 1468.33 Q231.44 1475.44 233.245 1479.01 Q235.074 1482.55 238.685 1482.55 Q242.319 1482.55 244.125 1479.01 Q245.953 1475.44 245.953 1468.33 Q245.953 1461.2 244.125 1457.66 Q242.319 1454.1 238.685 1454.1 M238.685 1450.39 Q244.495 1450.39 247.551 1455 Q250.629 1459.58 250.629 1468.33 Q250.629 1477.06 247.551 1481.67 Q244.495 1486.25 238.685 1486.25 Q232.875 1486.25 229.796 1481.67 Q226.74 1477.06 226.74 1468.33 Q226.74 1459.58 229.796 1455 Q232.875 1450.39 238.685 1450.39 Z\" fill=\"#000000\" fill-rule=\"evenodd\" fill-opacity=\"1\" /><path clip-path=\"url(#clip540)\" d=\"M624.111 1481.64 L631.75 1481.64 L631.75 1455.28 L623.44 1456.95 L623.44 1452.69 L631.704 1451.02 L636.379 1451.02 L636.379 1481.64 L644.018 1481.64 L644.018 1485.58 L624.111 1485.58 L624.111 1481.64 Z\" fill=\"#000000\" fill-rule=\"evenodd\" fill-opacity=\"1\" /><path clip-path=\"url(#clip540)\" d=\"M663.463 1454.1 Q659.852 1454.1 658.023 1457.66 Q656.217 1461.2 656.217 1468.33 Q656.217 1475.44 658.023 1479.01 Q659.852 1482.55 663.463 1482.55 Q667.097 1482.55 668.902 1479.01 Q670.731 1475.44 670.731 1468.33 Q670.731 1461.2 668.902 1457.66 Q667.097 1454.1 663.463 1454.1 M663.463 1450.39 Q669.273 1450.39 672.328 1455 Q675.407 1459.58 675.407 1468.33 Q675.407 1477.06 672.328 1481.67 Q669.273 1486.25 663.463 1486.25 Q657.652 1486.25 654.574 1481.67 Q651.518 1477.06 651.518 1468.33 Q651.518 1459.58 654.574 1455 Q657.652 1450.39 663.463 1450.39 Z\" fill=\"#000000\" fill-rule=\"evenodd\" fill-opacity=\"1\" /><path clip-path=\"url(#clip540)\" d=\"M1038.94 1481.64 L1055.25 1481.64 L1055.25 1485.58 L1033.31 1485.58 L1033.31 1481.64 Q1035.97 1478.89 1040.56 1474.26 Q1045.16 1469.61 1046.34 1468.27 Q1048.59 1465.74 1049.47 1464.01 Q1050.37 1462.25 1050.37 1460.56 Q1050.37 1457.8 1048.43 1456.07 Q1046.5 1454.33 1043.4 1454.33 Q1041.2 1454.33 1038.75 1455.09 Q1036.32 1455.86 1033.54 1457.41 L1033.54 1452.69 Q1036.37 1451.55 1038.82 1450.97 Q1041.27 1450.39 1043.31 1450.39 Q1048.68 1450.39 1051.87 1453.08 Q1055.07 1455.77 1055.07 1460.26 Q1055.07 1462.39 1054.26 1464.31 Q1053.47 1466.2 1051.37 1468.8 Q1050.79 1469.47 1047.69 1472.69 Q1044.58 1475.88 1038.94 1481.64 Z\" fill=\"#000000\" fill-rule=\"evenodd\" fill-opacity=\"1\" /><path clip-path=\"url(#clip540)\" d=\"M1075.07 1454.1 Q1071.46 1454.1 1069.63 1457.66 Q1067.82 1461.2 1067.82 1468.33 Q1067.82 1475.44 1069.63 1479.01 Q1071.46 1482.55 1075.07 1482.55 Q1078.7 1482.55 1080.51 1479.01 Q1082.34 1475.44 1082.34 1468.33 Q1082.34 1461.2 1080.51 1457.66 Q1078.7 1454.1 1075.07 1454.1 M1075.07 1450.39 Q1080.88 1450.39 1083.93 1455 Q1087.01 1459.58 1087.01 1468.33 Q1087.01 1477.06 1083.93 1481.67 Q1080.88 1486.25 1075.07 1486.25 Q1069.26 1486.25 1066.18 1481.67 Q1063.12 1477.06 1063.12 1468.33 Q1063.12 1459.58 1066.18 1455 Q1069.26 1450.39 1075.07 1450.39 Z\" fill=\"#000000\" fill-rule=\"evenodd\" fill-opacity=\"1\" /><path clip-path=\"url(#clip540)\" d=\"M1459.74 1466.95 Q1463.1 1467.66 1464.97 1469.93 Q1466.87 1472.2 1466.87 1475.53 Q1466.87 1480.65 1463.35 1483.45 Q1459.84 1486.25 1453.35 1486.25 Q1451.18 1486.25 1448.86 1485.81 Q1446.57 1485.39 1444.12 1484.54 L1444.12 1480.02 Q1446.06 1481.16 1448.38 1481.74 Q1450.69 1482.32 1453.22 1482.32 Q1457.61 1482.32 1459.91 1480.58 Q1462.22 1478.84 1462.22 1475.53 Q1462.22 1472.48 1460.07 1470.77 Q1457.94 1469.03 1454.12 1469.03 L1450.09 1469.03 L1450.09 1465.19 L1454.3 1465.19 Q1457.75 1465.19 1459.58 1463.82 Q1461.41 1462.43 1461.41 1459.84 Q1461.41 1457.18 1459.51 1455.77 Q1457.64 1454.33 1454.12 1454.33 Q1452.2 1454.33 1450 1454.75 Q1447.8 1455.16 1445.16 1456.04 L1445.16 1451.88 Q1447.82 1451.14 1450.14 1450.77 Q1452.47 1450.39 1454.53 1450.39 Q1459.86 1450.39 1462.96 1452.83 Q1466.06 1455.23 1466.06 1459.35 Q1466.06 1462.22 1464.42 1464.21 Q1462.78 1466.18 1459.74 1466.95 Z\" fill=\"#000000\" fill-rule=\"evenodd\" fill-opacity=\"1\" /><path clip-path=\"url(#clip540)\" d=\"M1485.74 1454.1 Q1482.13 1454.1 1480.3 1457.66 Q1478.49 1461.2 1478.49 1468.33 Q1478.49 1475.44 1480.3 1479.01 Q1482.13 1482.55 1485.74 1482.55 Q1489.37 1482.55 1491.18 1479.01 Q1493.01 1475.44 1493.01 1468.33 Q1493.01 1461.2 1491.18 1457.66 Q1489.37 1454.1 1485.74 1454.1 M1485.74 1450.39 Q1491.55 1450.39 1494.6 1455 Q1497.68 1459.58 1497.68 1468.33 Q1497.68 1477.06 1494.6 1481.67 Q1491.55 1486.25 1485.74 1486.25 Q1479.93 1486.25 1476.85 1481.67 Q1473.79 1477.06 1473.79 1468.33 Q1473.79 1459.58 1476.85 1455 Q1479.93 1450.39 1485.74 1450.39 Z\" fill=\"#000000\" fill-rule=\"evenodd\" fill-opacity=\"1\" /><path clip-path=\"url(#clip540)\" d=\"M1869.81 1455.09 L1858 1473.54 L1869.81 1473.54 L1869.81 1455.09 M1868.58 1451.02 L1874.46 1451.02 L1874.46 1473.54 L1879.39 1473.54 L1879.39 1477.43 L1874.46 1477.43 L1874.46 1485.58 L1869.81 1485.58 L1869.81 1477.43 L1854.21 1477.43 L1854.21 1472.92 L1868.58 1451.02 Z\" fill=\"#000000\" fill-rule=\"evenodd\" fill-opacity=\"1\" /><path clip-path=\"url(#clip540)\" d=\"M1897.12 1454.1 Q1893.51 1454.1 1891.69 1457.66 Q1889.88 1461.2 1889.88 1468.33 Q1889.88 1475.44 1891.69 1479.01 Q1893.51 1482.55 1897.12 1482.55 Q1900.76 1482.55 1902.56 1479.01 Q1904.39 1475.44 1904.39 1468.33 Q1904.39 1461.2 1902.56 1457.66 Q1900.76 1454.1 1897.12 1454.1 M1897.12 1450.39 Q1902.94 1450.39 1905.99 1455 Q1909.07 1459.58 1909.07 1468.33 Q1909.07 1477.06 1905.99 1481.67 Q1902.94 1486.25 1897.12 1486.25 Q1891.31 1486.25 1888.24 1481.67 Q1885.18 1477.06 1885.18 1468.33 Q1885.18 1459.58 1888.24 1455 Q1891.31 1450.39 1897.12 1450.39 Z\" fill=\"#000000\" fill-rule=\"evenodd\" fill-opacity=\"1\" /><path clip-path=\"url(#clip540)\" d=\"M2267.08 1451.02 L2285.43 1451.02 L2285.43 1454.96 L2271.36 1454.96 L2271.36 1463.43 Q2272.38 1463.08 2273.4 1462.92 Q2274.41 1462.73 2275.43 1462.73 Q2281.22 1462.73 2284.6 1465.9 Q2287.98 1469.08 2287.98 1474.49 Q2287.98 1480.07 2284.51 1483.17 Q2281.03 1486.25 2274.72 1486.25 Q2272.54 1486.25 2270.27 1485.88 Q2268.03 1485.51 2265.62 1484.77 L2265.62 1480.07 Q2267.7 1481.2 2269.92 1481.76 Q2272.15 1482.32 2274.62 1482.32 Q2278.63 1482.32 2280.97 1480.21 Q2283.3 1478.1 2283.3 1474.49 Q2283.3 1470.88 2280.97 1468.77 Q2278.63 1466.67 2274.62 1466.67 Q2272.75 1466.67 2270.87 1467.08 Q2269.02 1467.5 2267.08 1468.38 L2267.08 1451.02 Z\" fill=\"#000000\" fill-rule=\"evenodd\" fill-opacity=\"1\" /><path clip-path=\"url(#clip540)\" d=\"M2307.19 1454.1 Q2303.58 1454.1 2301.75 1457.66 Q2299.95 1461.2 2299.95 1468.33 Q2299.95 1475.44 2301.75 1479.01 Q2303.58 1482.55 2307.19 1482.55 Q2310.83 1482.55 2312.63 1479.01 Q2314.46 1475.44 2314.46 1468.33 Q2314.46 1461.2 2312.63 1457.66 Q2310.83 1454.1 2307.19 1454.1 M2307.19 1450.39 Q2313 1450.39 2316.06 1455 Q2319.14 1459.58 2319.14 1468.33 Q2319.14 1477.06 2316.06 1481.67 Q2313 1486.25 2307.19 1486.25 Q2301.38 1486.25 2298.3 1481.67 Q2295.25 1477.06 2295.25 1468.33 Q2295.25 1459.58 2298.3 1455 Q2301.38 1450.39 2307.19 1450.39 Z\" fill=\"#000000\" fill-rule=\"evenodd\" fill-opacity=\"1\" /><path clip-path=\"url(#clip540)\" d=\"M1147.07 1539.37 L1137.81 1539.37 L1135.14 1550 L1144.46 1550 L1147.07 1539.37 M1142.3 1521.26 L1138.99 1534.46 L1148.28 1534.46 L1151.62 1521.26 L1156.72 1521.26 L1153.44 1534.46 L1163.37 1534.46 L1163.37 1539.37 L1152.2 1539.37 L1149.59 1550 L1159.71 1550 L1159.71 1554.87 L1148.35 1554.87 L1145.04 1568.04 L1139.94 1568.04 L1143.22 1554.87 L1133.9 1554.87 L1130.62 1568.04 L1125.49 1568.04 L1128.8 1554.87 L1118.78 1554.87 L1118.78 1550 L1129.98 1550 L1132.65 1539.37 L1122.41 1539.37 L1122.41 1534.46 L1133.9 1534.46 L1137.14 1521.26 L1142.3 1521.26 Z\" fill=\"#000000\" fill-rule=\"evenodd\" fill-opacity=\"1\" /><path clip-path=\"url(#clip540)\" d=\"M1215.89 1537.87 Q1214.9 1537.3 1213.72 1537.04 Q1212.58 1536.76 1211.18 1536.76 Q1206.21 1536.76 1203.54 1540 Q1200.89 1543.22 1200.89 1549.27 L1200.89 1568.04 L1195.01 1568.04 L1195.01 1532.4 L1200.89 1532.4 L1200.89 1537.93 Q1202.74 1534.69 1205.7 1533.13 Q1208.66 1531.54 1212.89 1531.54 Q1213.5 1531.54 1214.23 1531.63 Q1214.96 1531.7 1215.85 1531.85 L1215.89 1537.87 Z\" fill=\"#000000\" fill-rule=\"evenodd\" fill-opacity=\"1\" /><path clip-path=\"url(#clip540)\" d=\"M1251.09 1548.76 L1251.09 1551.62 L1224.16 1551.62 Q1224.54 1557.67 1227.79 1560.85 Q1231.07 1564 1236.89 1564 Q1240.27 1564 1243.42 1563.17 Q1246.6 1562.35 1249.72 1560.69 L1249.72 1566.23 Q1246.57 1567.57 1243.26 1568.27 Q1239.95 1568.97 1236.54 1568.97 Q1228.01 1568.97 1223.02 1564 Q1218.05 1559.04 1218.05 1550.57 Q1218.05 1541.82 1222.76 1536.69 Q1227.5 1531.54 1235.52 1531.54 Q1242.72 1531.54 1246.89 1536.18 Q1251.09 1540.8 1251.09 1548.76 M1245.23 1547.04 Q1245.17 1542.23 1242.53 1539.37 Q1239.92 1536.5 1235.59 1536.5 Q1230.69 1536.5 1227.73 1539.27 Q1224.8 1542.04 1224.35 1547.07 L1245.23 1547.04 Z\" fill=\"#000000\" fill-rule=\"evenodd\" fill-opacity=\"1\" /><path clip-path=\"url(#clip540)\" d=\"M1276.9 1550.12 Q1269.8 1550.12 1267.07 1551.75 Q1264.33 1553.37 1264.33 1557.29 Q1264.33 1560.4 1266.37 1562.25 Q1268.44 1564.07 1271.97 1564.07 Q1276.84 1564.07 1279.77 1560.63 Q1282.73 1557.16 1282.73 1551.43 L1282.73 1550.12 L1276.9 1550.12 M1288.58 1547.71 L1288.58 1568.04 L1282.73 1568.04 L1282.73 1562.63 Q1280.72 1565.88 1277.73 1567.44 Q1274.74 1568.97 1270.41 1568.97 Q1264.93 1568.97 1261.69 1565.91 Q1258.47 1562.82 1258.47 1557.67 Q1258.47 1551.65 1262.48 1548.6 Q1266.53 1545.54 1274.51 1545.54 L1282.73 1545.54 L1282.73 1544.97 Q1282.73 1540.93 1280.05 1538.73 Q1277.41 1536.5 1272.6 1536.5 Q1269.55 1536.5 1266.65 1537.23 Q1263.76 1537.97 1261.08 1539.43 L1261.08 1534.02 Q1264.3 1532.78 1267.32 1532.17 Q1270.34 1531.54 1273.21 1531.54 Q1280.94 1531.54 1284.76 1535.55 Q1288.58 1539.56 1288.58 1547.71 Z\" fill=\"#000000\" fill-rule=\"evenodd\" fill-opacity=\"1\" /><path clip-path=\"url(#clip540)\" d=\"M1326.3 1533.76 L1326.3 1539.24 Q1323.82 1537.87 1321.3 1537.2 Q1318.82 1536.5 1316.27 1536.5 Q1310.58 1536.5 1307.42 1540.13 Q1304.27 1543.73 1304.27 1550.25 Q1304.27 1556.78 1307.42 1560.4 Q1310.58 1564 1316.27 1564 Q1318.82 1564 1321.3 1563.33 Q1323.82 1562.63 1326.3 1561.26 L1326.3 1566.68 Q1323.85 1567.82 1321.21 1568.39 Q1318.6 1568.97 1315.64 1568.97 Q1307.58 1568.97 1302.84 1563.91 Q1298.1 1558.85 1298.1 1550.25 Q1298.1 1541.53 1302.87 1536.53 Q1307.68 1531.54 1316.02 1531.54 Q1318.72 1531.54 1321.3 1532.11 Q1323.88 1532.65 1326.3 1533.76 Z\" fill=\"#000000\" fill-rule=\"evenodd\" fill-opacity=\"1\" /><path clip-path=\"url(#clip540)\" d=\"M1342.28 1522.27 L1342.28 1532.4 L1354.34 1532.4 L1354.34 1536.95 L1342.28 1536.95 L1342.28 1556.3 Q1342.28 1560.66 1343.45 1561.9 Q1344.66 1563.14 1348.32 1563.14 L1354.34 1563.14 L1354.34 1568.04 L1348.32 1568.04 Q1341.55 1568.04 1338.97 1565.53 Q1336.39 1562.98 1336.39 1556.3 L1336.39 1536.95 L1332.09 1536.95 L1332.09 1532.4 L1336.39 1532.4 L1336.39 1522.27 L1342.28 1522.27 Z\" fill=\"#000000\" fill-rule=\"evenodd\" fill-opacity=\"1\" /><path clip-path=\"url(#clip540)\" d=\"M1375.86 1536.5 Q1371.15 1536.5 1368.41 1540.19 Q1365.67 1543.85 1365.67 1550.25 Q1365.67 1556.65 1368.38 1560.34 Q1371.11 1564 1375.86 1564 Q1380.54 1564 1383.27 1560.31 Q1386.01 1556.62 1386.01 1550.25 Q1386.01 1543.92 1383.27 1540.23 Q1380.54 1536.5 1375.86 1536.5 M1375.86 1531.54 Q1383.5 1531.54 1387.86 1536.5 Q1392.22 1541.47 1392.22 1550.25 Q1392.22 1559 1387.86 1564 Q1383.5 1568.97 1375.86 1568.97 Q1368.19 1568.97 1363.83 1564 Q1359.5 1559 1359.5 1550.25 Q1359.5 1541.47 1363.83 1536.5 Q1368.19 1531.54 1375.86 1531.54 Z\" fill=\"#000000\" fill-rule=\"evenodd\" fill-opacity=\"1\" /><path clip-path=\"url(#clip540)\" d=\"M1422.58 1537.87 Q1421.59 1537.3 1420.42 1537.04 Q1419.27 1536.76 1417.87 1536.76 Q1412.9 1536.76 1410.23 1540 Q1407.59 1543.22 1407.59 1549.27 L1407.59 1568.04 L1401.7 1568.04 L1401.7 1532.4 L1407.59 1532.4 L1407.59 1537.93 Q1409.44 1534.69 1412.4 1533.13 Q1415.36 1531.54 1419.59 1531.54 Q1420.19 1531.54 1420.93 1531.63 Q1421.66 1531.7 1422.55 1531.85 L1422.58 1537.87 Z\" fill=\"#000000\" fill-rule=\"evenodd\" fill-opacity=\"1\" /><path clip-path=\"url(#clip540)\" d=\"M1451.45 1533.45 L1451.45 1538.98 Q1448.97 1537.71 1446.29 1537.07 Q1443.62 1536.44 1440.75 1536.44 Q1436.39 1536.44 1434.2 1537.77 Q1432.03 1539.11 1432.03 1541.79 Q1432.03 1543.82 1433.59 1545 Q1435.15 1546.15 1439.86 1547.2 L1441.87 1547.64 Q1448.11 1548.98 1450.72 1551.43 Q1453.36 1553.85 1453.36 1558.21 Q1453.36 1563.17 1449.41 1566.07 Q1445.5 1568.97 1438.62 1568.97 Q1435.76 1568.97 1432.64 1568.39 Q1429.55 1567.85 1426.11 1566.74 L1426.11 1560.69 Q1429.36 1562.38 1432.51 1563.24 Q1435.66 1564.07 1438.75 1564.07 Q1442.89 1564.07 1445.12 1562.66 Q1447.34 1561.23 1447.34 1558.65 Q1447.34 1556.27 1445.72 1554.99 Q1444.13 1553.72 1438.69 1552.54 L1436.65 1552.07 Q1431.21 1550.92 1428.79 1548.56 Q1426.37 1546.18 1426.37 1542.04 Q1426.37 1537.01 1429.93 1534.27 Q1433.5 1531.54 1440.05 1531.54 Q1443.3 1531.54 1446.17 1532.01 Q1449.03 1532.49 1451.45 1533.45 Z\" fill=\"#000000\" fill-rule=\"evenodd\" fill-opacity=\"1\" /><polyline clip-path=\"url(#clip542)\" style=\"stroke:#000000; stroke-linecap:round; stroke-linejoin:round; stroke-width:8; stroke-opacity:0.1; fill:none\" points=\"219.38,1407.6 2352.76,1407.6 \"/>\n",
       "<polyline clip-path=\"url(#clip542)\" style=\"stroke:#000000; stroke-linecap:round; stroke-linejoin:round; stroke-width:8; stroke-opacity:0.1; fill:none\" points=\"219.38,1153.68 2352.76,1153.68 \"/>\n",
       "<polyline clip-path=\"url(#clip542)\" style=\"stroke:#000000; stroke-linecap:round; stroke-linejoin:round; stroke-width:8; stroke-opacity:0.1; fill:none\" points=\"219.38,899.754 2352.76,899.754 \"/>\n",
       "<polyline clip-path=\"url(#clip542)\" style=\"stroke:#000000; stroke-linecap:round; stroke-linejoin:round; stroke-width:8; stroke-opacity:0.1; fill:none\" points=\"219.38,645.831 2352.76,645.831 \"/>\n",
       "<polyline clip-path=\"url(#clip542)\" style=\"stroke:#000000; stroke-linecap:round; stroke-linejoin:round; stroke-width:8; stroke-opacity:0.1; fill:none\" points=\"219.38,391.909 2352.76,391.909 \"/>\n",
       "<polyline clip-path=\"url(#clip542)\" style=\"stroke:#000000; stroke-linecap:round; stroke-linejoin:round; stroke-width:8; stroke-opacity:0.1; fill:none\" points=\"219.38,137.986 2352.76,137.986 \"/>\n",
       "<polyline clip-path=\"url(#clip540)\" style=\"stroke:#000000; stroke-linecap:round; stroke-linejoin:round; stroke-width:4; stroke-opacity:1; fill:none\" points=\"219.38,1423.18 219.38,47.2441 \"/>\n",
       "<polyline clip-path=\"url(#clip540)\" style=\"stroke:#000000; stroke-linecap:round; stroke-linejoin:round; stroke-width:4; stroke-opacity:1; fill:none\" points=\"219.38,1407.6 238.278,1407.6 \"/>\n",
       "<polyline clip-path=\"url(#clip540)\" style=\"stroke:#000000; stroke-linecap:round; stroke-linejoin:round; stroke-width:4; stroke-opacity:1; fill:none\" points=\"219.38,1153.68 238.278,1153.68 \"/>\n",
       "<polyline clip-path=\"url(#clip540)\" style=\"stroke:#000000; stroke-linecap:round; stroke-linejoin:round; stroke-width:4; stroke-opacity:1; fill:none\" points=\"219.38,899.754 238.278,899.754 \"/>\n",
       "<polyline clip-path=\"url(#clip540)\" style=\"stroke:#000000; stroke-linecap:round; stroke-linejoin:round; stroke-width:4; stroke-opacity:1; fill:none\" points=\"219.38,645.831 238.278,645.831 \"/>\n",
       "<polyline clip-path=\"url(#clip540)\" style=\"stroke:#000000; stroke-linecap:round; stroke-linejoin:round; stroke-width:4; stroke-opacity:1; fill:none\" points=\"219.38,391.909 238.278,391.909 \"/>\n",
       "<polyline clip-path=\"url(#clip540)\" style=\"stroke:#000000; stroke-linecap:round; stroke-linejoin:round; stroke-width:4; stroke-opacity:1; fill:none\" points=\"219.38,137.986 238.278,137.986 \"/>\n",
       "<path clip-path=\"url(#clip540)\" d=\"M126.205 1393.4 Q122.593 1393.4 120.765 1396.96 Q118.959 1400.5 118.959 1407.63 Q118.959 1414.74 120.765 1418.31 Q122.593 1421.85 126.205 1421.85 Q129.839 1421.85 131.644 1418.31 Q133.473 1414.74 133.473 1407.63 Q133.473 1400.5 131.644 1396.96 Q129.839 1393.4 126.205 1393.4 M126.205 1389.69 Q132.015 1389.69 135.07 1394.3 Q138.149 1398.88 138.149 1407.63 Q138.149 1416.36 135.07 1420.97 Q132.015 1425.55 126.205 1425.55 Q120.394 1425.55 117.316 1420.97 Q114.26 1416.36 114.26 1407.63 Q114.26 1398.88 117.316 1394.3 Q120.394 1389.69 126.205 1389.69 Z\" fill=\"#000000\" fill-rule=\"evenodd\" fill-opacity=\"1\" /><path clip-path=\"url(#clip540)\" d=\"M146.366 1419 L151.251 1419 L151.251 1424.88 L146.366 1424.88 L146.366 1419 Z\" fill=\"#000000\" fill-rule=\"evenodd\" fill-opacity=\"1\" /><path clip-path=\"url(#clip540)\" d=\"M171.436 1393.4 Q167.825 1393.4 165.996 1396.96 Q164.19 1400.5 164.19 1407.63 Q164.19 1414.74 165.996 1418.31 Q167.825 1421.85 171.436 1421.85 Q175.07 1421.85 176.876 1418.31 Q178.704 1414.74 178.704 1407.63 Q178.704 1400.5 176.876 1396.96 Q175.07 1393.4 171.436 1393.4 M171.436 1389.69 Q177.246 1389.69 180.301 1394.3 Q183.38 1398.88 183.38 1407.63 Q183.38 1416.36 180.301 1420.97 Q177.246 1425.55 171.436 1425.55 Q165.626 1425.55 162.547 1420.97 Q159.491 1416.36 159.491 1407.63 Q159.491 1398.88 162.547 1394.3 Q165.626 1389.69 171.436 1389.69 Z\" fill=\"#000000\" fill-rule=\"evenodd\" fill-opacity=\"1\" /><path clip-path=\"url(#clip540)\" d=\"M127.2 1139.48 Q123.589 1139.48 121.76 1143.04 Q119.955 1146.58 119.955 1153.71 Q119.955 1160.82 121.76 1164.38 Q123.589 1167.92 127.2 1167.92 Q130.834 1167.92 132.64 1164.38 Q134.468 1160.82 134.468 1153.71 Q134.468 1146.58 132.64 1143.04 Q130.834 1139.48 127.2 1139.48 M127.2 1135.77 Q133.01 1135.77 136.066 1140.38 Q139.144 1144.96 139.144 1153.71 Q139.144 1162.44 136.066 1167.04 Q133.01 1171.63 127.2 1171.63 Q121.39 1171.63 118.311 1167.04 Q115.256 1162.44 115.256 1153.71 Q115.256 1144.96 118.311 1140.38 Q121.39 1135.77 127.2 1135.77 Z\" fill=\"#000000\" fill-rule=\"evenodd\" fill-opacity=\"1\" /><path clip-path=\"url(#clip540)\" d=\"M147.362 1165.08 L152.246 1165.08 L152.246 1170.96 L147.362 1170.96 L147.362 1165.08 Z\" fill=\"#000000\" fill-rule=\"evenodd\" fill-opacity=\"1\" /><path clip-path=\"url(#clip540)\" d=\"M162.477 1136.4 L180.834 1136.4 L180.834 1140.33 L166.76 1140.33 L166.76 1148.8 Q167.778 1148.46 168.797 1148.29 Q169.815 1148.11 170.834 1148.11 Q176.621 1148.11 180.001 1151.28 Q183.38 1154.45 183.38 1159.87 Q183.38 1165.45 179.908 1168.55 Q176.436 1171.63 170.116 1171.63 Q167.94 1171.63 165.672 1171.26 Q163.427 1170.89 161.019 1170.15 L161.019 1165.45 Q163.102 1166.58 165.325 1167.14 Q167.547 1167.69 170.024 1167.69 Q174.028 1167.69 176.366 1165.59 Q178.704 1163.48 178.704 1159.87 Q178.704 1156.26 176.366 1154.15 Q174.028 1152.04 170.024 1152.04 Q168.149 1152.04 166.274 1152.46 Q164.422 1152.88 162.477 1153.76 L162.477 1136.4 Z\" fill=\"#000000\" fill-rule=\"evenodd\" fill-opacity=\"1\" /><path clip-path=\"url(#clip540)\" d=\"M117.015 913.099 L124.654 913.099 L124.654 886.733 L116.343 888.4 L116.343 884.141 L124.607 882.474 L129.283 882.474 L129.283 913.099 L136.922 913.099 L136.922 917.034 L117.015 917.034 L117.015 913.099 Z\" fill=\"#000000\" fill-rule=\"evenodd\" fill-opacity=\"1\" /><path clip-path=\"url(#clip540)\" d=\"M146.366 911.154 L151.251 911.154 L151.251 917.034 L146.366 917.034 L146.366 911.154 Z\" fill=\"#000000\" fill-rule=\"evenodd\" fill-opacity=\"1\" /><path clip-path=\"url(#clip540)\" d=\"M171.436 885.553 Q167.825 885.553 165.996 889.117 Q164.19 892.659 164.19 899.789 Q164.19 906.895 165.996 910.46 Q167.825 914.001 171.436 914.001 Q175.07 914.001 176.876 910.46 Q178.704 906.895 178.704 899.789 Q178.704 892.659 176.876 889.117 Q175.07 885.553 171.436 885.553 M171.436 881.849 Q177.246 881.849 180.301 886.455 Q183.38 891.039 183.38 899.789 Q183.38 908.515 180.301 913.122 Q177.246 917.705 171.436 917.705 Q165.626 917.705 162.547 913.122 Q159.491 908.515 159.491 899.789 Q159.491 891.039 162.547 886.455 Q165.626 881.849 171.436 881.849 Z\" fill=\"#000000\" fill-rule=\"evenodd\" fill-opacity=\"1\" /><path clip-path=\"url(#clip540)\" d=\"M118.01 659.176 L125.649 659.176 L125.649 632.81 L117.339 634.477 L117.339 630.218 L125.603 628.551 L130.279 628.551 L130.279 659.176 L137.917 659.176 L137.917 663.111 L118.01 663.111 L118.01 659.176 Z\" fill=\"#000000\" fill-rule=\"evenodd\" fill-opacity=\"1\" /><path clip-path=\"url(#clip540)\" d=\"M147.362 657.232 L152.246 657.232 L152.246 663.111 L147.362 663.111 L147.362 657.232 Z\" fill=\"#000000\" fill-rule=\"evenodd\" fill-opacity=\"1\" /><path clip-path=\"url(#clip540)\" d=\"M162.477 628.551 L180.834 628.551 L180.834 632.486 L166.76 632.486 L166.76 640.959 Q167.778 640.611 168.797 640.449 Q169.815 640.264 170.834 640.264 Q176.621 640.264 180.001 643.435 Q183.38 646.607 183.38 652.023 Q183.38 657.602 179.908 660.704 Q176.436 663.782 170.116 663.782 Q167.94 663.782 165.672 663.412 Q163.427 663.042 161.019 662.301 L161.019 657.602 Q163.102 658.736 165.325 659.292 Q167.547 659.847 170.024 659.847 Q174.028 659.847 176.366 657.741 Q178.704 655.634 178.704 652.023 Q178.704 648.412 176.366 646.306 Q174.028 644.199 170.024 644.199 Q168.149 644.199 166.274 644.616 Q164.422 645.033 162.477 645.912 L162.477 628.551 Z\" fill=\"#000000\" fill-rule=\"evenodd\" fill-opacity=\"1\" /><path clip-path=\"url(#clip540)\" d=\"M120.232 405.253 L136.552 405.253 L136.552 409.189 L114.607 409.189 L114.607 405.253 Q117.269 402.499 121.853 397.869 Q126.459 393.216 127.64 391.874 Q129.885 389.351 130.765 387.615 Q131.667 385.855 131.667 384.166 Q131.667 381.411 129.723 379.675 Q127.802 377.939 124.7 377.939 Q122.501 377.939 120.047 378.703 Q117.617 379.466 114.839 381.017 L114.839 376.295 Q117.663 375.161 120.117 374.582 Q122.57 374.004 124.607 374.004 Q129.978 374.004 133.172 376.689 Q136.367 379.374 136.367 383.865 Q136.367 385.994 135.556 387.916 Q134.769 389.814 132.663 392.406 Q132.084 393.078 128.982 396.295 Q125.88 399.49 120.232 405.253 Z\" fill=\"#000000\" fill-rule=\"evenodd\" fill-opacity=\"1\" /><path clip-path=\"url(#clip540)\" d=\"M146.366 403.309 L151.251 403.309 L151.251 409.189 L146.366 409.189 L146.366 403.309 Z\" fill=\"#000000\" fill-rule=\"evenodd\" fill-opacity=\"1\" /><path clip-path=\"url(#clip540)\" d=\"M171.436 377.707 Q167.825 377.707 165.996 381.272 Q164.19 384.814 164.19 391.943 Q164.19 399.05 165.996 402.615 Q167.825 406.156 171.436 406.156 Q175.07 406.156 176.876 402.615 Q178.704 399.05 178.704 391.943 Q178.704 384.814 176.876 381.272 Q175.07 377.707 171.436 377.707 M171.436 374.004 Q177.246 374.004 180.301 378.61 Q183.38 383.193 183.38 391.943 Q183.38 400.67 180.301 405.277 Q177.246 409.86 171.436 409.86 Q165.626 409.86 162.547 405.277 Q159.491 400.67 159.491 391.943 Q159.491 383.193 162.547 378.61 Q165.626 374.004 171.436 374.004 Z\" fill=\"#000000\" fill-rule=\"evenodd\" fill-opacity=\"1\" /><path clip-path=\"url(#clip540)\" d=\"M121.228 151.331 L137.547 151.331 L137.547 155.266 L115.603 155.266 L115.603 151.331 Q118.265 148.576 122.848 143.947 Q127.455 139.294 128.635 137.951 Q130.88 135.428 131.76 133.692 Q132.663 131.933 132.663 130.243 Q132.663 127.488 130.718 125.752 Q128.797 124.016 125.695 124.016 Q123.496 124.016 121.043 124.78 Q118.612 125.544 115.834 127.095 L115.834 122.373 Q118.658 121.238 121.112 120.66 Q123.566 120.081 125.603 120.081 Q130.973 120.081 134.167 122.766 Q137.362 125.451 137.362 129.942 Q137.362 132.072 136.552 133.993 Q135.765 135.891 133.658 138.484 Q133.08 139.155 129.978 142.372 Q126.876 145.567 121.228 151.331 Z\" fill=\"#000000\" fill-rule=\"evenodd\" fill-opacity=\"1\" /><path clip-path=\"url(#clip540)\" d=\"M147.362 149.386 L152.246 149.386 L152.246 155.266 L147.362 155.266 L147.362 149.386 Z\" fill=\"#000000\" fill-rule=\"evenodd\" fill-opacity=\"1\" /><path clip-path=\"url(#clip540)\" d=\"M162.477 120.706 L180.834 120.706 L180.834 124.641 L166.76 124.641 L166.76 133.113 Q167.778 132.766 168.797 132.604 Q169.815 132.419 170.834 132.419 Q176.621 132.419 180.001 135.59 Q183.38 138.761 183.38 144.178 Q183.38 149.757 179.908 152.858 Q176.436 155.937 170.116 155.937 Q167.94 155.937 165.672 155.567 Q163.427 155.196 161.019 154.456 L161.019 149.757 Q163.102 150.891 165.325 151.446 Q167.547 152.002 170.024 152.002 Q174.028 152.002 176.366 149.896 Q178.704 147.789 178.704 144.178 Q178.704 140.567 176.366 138.46 Q174.028 136.354 170.024 136.354 Q168.149 136.354 166.274 136.771 Q164.422 137.187 162.477 138.067 L162.477 120.706 Z\" fill=\"#000000\" fill-rule=\"evenodd\" fill-opacity=\"1\" /><path clip-path=\"url(#clip540)\" d=\"M29.4065 898.413 L34.9447 898.413 Q33.6716 900.895 33.035 903.569 Q32.3984 906.243 32.3984 909.107 Q32.3984 913.468 33.7352 915.664 Q35.072 917.828 37.7456 917.828 Q39.7826 917.828 40.9603 916.269 Q42.1061 914.709 43.1565 909.998 L43.6021 907.993 Q44.9389 901.755 47.3897 899.145 Q49.8086 896.503 54.1691 896.503 Q59.1344 896.503 62.0308 900.45 Q64.9272 904.365 64.9272 911.24 Q64.9272 914.104 64.3543 917.223 Q63.8132 920.311 62.6992 923.748 L56.6518 923.748 Q58.3387 920.502 59.198 917.351 Q60.0256 914.2 60.0256 911.112 Q60.0256 906.975 58.6251 904.747 Q57.1929 902.519 54.6147 902.519 Q52.2276 902.519 50.9545 904.142 Q49.6813 905.733 48.5037 911.176 L48.0262 913.213 Q46.8804 918.656 44.5251 921.075 Q42.138 923.494 38.0002 923.494 Q32.9713 923.494 30.2341 919.929 Q27.4968 916.364 27.4968 909.807 Q27.4968 906.561 27.9743 903.696 Q28.4517 900.832 29.4065 898.413 Z\" fill=\"#000000\" fill-rule=\"evenodd\" fill-opacity=\"1\" /><path clip-path=\"url(#clip540)\" d=\"M32.4621 873.364 Q32.4621 878.074 36.1542 880.812 Q39.8145 883.549 46.212 883.549 Q52.6095 883.549 56.3017 880.843 Q59.9619 878.106 59.9619 873.364 Q59.9619 868.685 56.2698 865.948 Q52.5777 863.21 46.212 863.21 Q39.8781 863.21 36.186 865.948 Q32.4621 868.685 32.4621 873.364 M27.4968 873.364 Q27.4968 865.725 32.4621 861.364 Q37.4273 857.004 46.212 857.004 Q54.9649 857.004 59.9619 861.364 Q64.9272 865.725 64.9272 873.364 Q64.9272 881.034 59.9619 885.395 Q54.9649 889.724 46.212 889.724 Q37.4273 889.724 32.4621 885.395 Q27.4968 881.034 27.4968 873.364 Z\" fill=\"#000000\" fill-rule=\"evenodd\" fill-opacity=\"1\" /><path clip-path=\"url(#clip540)\" d=\"M14.479 847.296 L14.479 841.44 L64.0042 841.44 L64.0042 847.296 L14.479 847.296 Z\" fill=\"#000000\" fill-rule=\"evenodd\" fill-opacity=\"1\" /><path clip-path=\"url(#clip540)\" d=\"M55.9197 828.358 L55.9197 821.642 L64.0042 821.642 L64.0042 828.358 L55.9197 828.358 Z\" fill=\"#000000\" fill-rule=\"evenodd\" fill-opacity=\"1\" /><path clip-path=\"url(#clip540)\" d=\"M18.2347 781.952 L28.3562 781.952 L28.3562 769.889 L32.9077 769.889 L32.9077 781.952 L52.2594 781.952 Q56.6199 781.952 57.8613 780.775 Q59.1026 779.565 59.1026 775.905 L59.1026 769.889 L64.0042 769.889 L64.0042 775.905 Q64.0042 782.684 61.4897 785.262 Q58.9434 787.84 52.2594 787.84 L32.9077 787.84 L32.9077 792.137 L28.3562 792.137 L28.3562 787.84 L18.2347 787.84 L18.2347 781.952 Z\" fill=\"#000000\" fill-rule=\"evenodd\" fill-opacity=\"1\" /><path clip-path=\"url(#clip540)\" d=\"M28.3562 762.187 L28.3562 756.33 L64.0042 756.33 L64.0042 762.187 L28.3562 762.187 M14.479 762.187 L14.479 756.33 L21.895 756.33 L21.895 762.187 L14.479 762.187 Z\" fill=\"#000000\" fill-rule=\"evenodd\" fill-opacity=\"1\" /><path clip-path=\"url(#clip540)\" d=\"M35.1993 716.322 Q31.2526 714.126 29.3747 711.07 Q27.4968 708.014 27.4968 703.877 Q27.4968 698.307 31.4117 695.283 Q35.2948 692.259 42.4881 692.259 L64.0042 692.259 L64.0042 698.148 L42.679 698.148 Q37.5546 698.148 35.072 699.962 Q32.5894 701.776 32.5894 705.5 Q32.5894 710.052 35.6131 712.693 Q38.6368 715.335 43.8567 715.335 L64.0042 715.335 L64.0042 721.223 L42.679 721.223 Q37.5228 721.223 35.072 723.038 Q32.5894 724.852 32.5894 728.639 Q32.5894 733.127 35.6449 735.769 Q38.6686 738.411 43.8567 738.411 L64.0042 738.411 L64.0042 744.299 L28.3562 744.299 L28.3562 738.411 L33.8944 738.411 Q30.616 736.406 29.0564 733.605 Q27.4968 730.804 27.4968 726.952 Q27.4968 723.069 29.4702 720.364 Q31.4436 717.627 35.1993 716.322 Z\" fill=\"#000000\" fill-rule=\"evenodd\" fill-opacity=\"1\" /><path clip-path=\"url(#clip540)\" d=\"M44.7161 650.087 L47.5806 650.087 L47.5806 677.013 Q53.6281 676.632 56.8109 673.385 Q59.9619 670.107 59.9619 664.282 Q59.9619 660.908 59.1344 657.757 Q58.3069 654.574 56.6518 651.455 L62.1899 651.455 Q63.5267 654.606 64.227 657.916 Q64.9272 661.227 64.9272 664.632 Q64.9272 673.162 59.9619 678.159 Q54.9967 683.125 46.5303 683.125 Q37.7774 683.125 32.6531 678.414 Q27.4968 673.671 27.4968 665.651 Q27.4968 658.457 32.1438 654.288 Q36.7589 650.087 44.7161 650.087 M42.9973 655.943 Q38.1912 656.007 35.3266 658.648 Q32.4621 661.258 32.4621 665.587 Q32.4621 670.489 35.2312 673.449 Q38.0002 676.377 43.0292 676.823 L42.9973 655.943 Z\" fill=\"#000000\" fill-rule=\"evenodd\" fill-opacity=\"1\" /><path clip-path=\"url(#clip540)\" d=\"M14.479 620.295 L14.479 606.8 L19.0304 606.8 L19.0304 614.439 L68.0464 614.439 L68.0464 606.8 L72.5979 606.8 L72.5979 620.295 L14.479 620.295 Z\" fill=\"#000000\" fill-rule=\"evenodd\" fill-opacity=\"1\" /><path clip-path=\"url(#clip540)\" d=\"M29.4065 571.597 L34.9447 571.597 Q33.6716 574.08 33.035 576.754 Q32.3984 579.427 32.3984 582.292 Q32.3984 586.652 33.7352 588.848 Q35.072 591.013 37.7456 591.013 Q39.7826 591.013 40.9603 589.453 Q42.1061 587.894 43.1565 583.183 L43.6021 581.178 Q44.9389 574.939 47.3897 572.329 Q49.8086 569.688 54.1691 569.688 Q59.1344 569.688 62.0308 573.634 Q64.9272 577.549 64.9272 584.424 Q64.9272 587.289 64.3543 590.408 Q63.8132 593.495 62.6992 596.933 L56.6518 596.933 Q58.3387 593.686 59.198 590.535 Q60.0256 587.384 60.0256 584.297 Q60.0256 580.159 58.6251 577.931 Q57.1929 575.703 54.6147 575.703 Q52.2276 575.703 50.9545 577.327 Q49.6813 578.918 48.5037 584.361 L48.0262 586.398 Q46.8804 591.84 44.5251 594.259 Q42.138 596.678 38.0002 596.678 Q32.9713 596.678 30.2341 593.113 Q27.4968 589.549 27.4968 582.992 Q27.4968 579.745 27.9743 576.881 Q28.4517 574.016 29.4065 571.597 Z\" fill=\"#000000\" fill-rule=\"evenodd\" fill-opacity=\"1\" /><path clip-path=\"url(#clip540)\" d=\"M14.479 546.676 L72.5979 546.676 L72.5979 560.171 L68.0464 560.171 L68.0464 552.564 L19.0304 552.564 L19.0304 560.171 L14.479 560.171 L14.479 546.676 Z\" fill=\"#000000\" fill-rule=\"evenodd\" fill-opacity=\"1\" /><polyline clip-path=\"url(#clip542)\" style=\"stroke:#008000; stroke-linecap:round; stroke-linejoin:round; stroke-width:4; stroke-opacity:1; fill:none\" points=\"279.759,1360.37 320.833,1357.32 361.906,1349.7 402.98,1344.12 444.054,1328.38 485.128,1325.33 526.202,1321.77 567.276,1311.11 608.35,1276.57 649.423,1241.53 690.497,1208.02 731.571,1225.28 772.645,1205.48 813.719,1186.18 854.793,1172.97 895.866,1152.15 936.94,1139.46 978.014,1131.33 1019.09,1080.04 1060.16,1027.22 1101.24,1010.46 1142.31,978.47 1183.38,962.727 1224.46,989.135 1265.53,1001.32 1306.6,961.203 1347.68,867.759 1388.75,870.807 1429.83,838.812 1470.9,792.599 1511.97,773.3 1553.05,754.51 1594.12,726.071 1635.2,671.731 1676.27,651.925 1717.34,616.884 1758.42,607.743 1799.49,578.288 1840.57,543.754 1881.64,497.54 1922.71,291.355 1963.79,418.824 2004.86,401.05 2045.93,385.307 2087.01,360.93 2128.08,329.444 2169.16,86.1857 2210.23,250.727 2251.3,170.996 2292.38,151.698 \"/>\n",
       "<circle clip-path=\"url(#clip542)\" cx=\"279.759\" cy=\"1360.37\" r=\"14.4\" fill=\"#008000\" fill-rule=\"evenodd\" fill-opacity=\"1\" stroke=\"#000000\" stroke-opacity=\"1\" stroke-width=\"3.2\"/>\n",
       "<circle clip-path=\"url(#clip542)\" cx=\"320.833\" cy=\"1357.32\" r=\"14.4\" fill=\"#008000\" fill-rule=\"evenodd\" fill-opacity=\"1\" stroke=\"#000000\" stroke-opacity=\"1\" stroke-width=\"3.2\"/>\n",
       "<circle clip-path=\"url(#clip542)\" cx=\"361.906\" cy=\"1349.7\" r=\"14.4\" fill=\"#008000\" fill-rule=\"evenodd\" fill-opacity=\"1\" stroke=\"#000000\" stroke-opacity=\"1\" stroke-width=\"3.2\"/>\n",
       "<circle clip-path=\"url(#clip542)\" cx=\"402.98\" cy=\"1344.12\" r=\"14.4\" fill=\"#008000\" fill-rule=\"evenodd\" fill-opacity=\"1\" stroke=\"#000000\" stroke-opacity=\"1\" stroke-width=\"3.2\"/>\n",
       "<circle clip-path=\"url(#clip542)\" cx=\"444.054\" cy=\"1328.38\" r=\"14.4\" fill=\"#008000\" fill-rule=\"evenodd\" fill-opacity=\"1\" stroke=\"#000000\" stroke-opacity=\"1\" stroke-width=\"3.2\"/>\n",
       "<circle clip-path=\"url(#clip542)\" cx=\"485.128\" cy=\"1325.33\" r=\"14.4\" fill=\"#008000\" fill-rule=\"evenodd\" fill-opacity=\"1\" stroke=\"#000000\" stroke-opacity=\"1\" stroke-width=\"3.2\"/>\n",
       "<circle clip-path=\"url(#clip542)\" cx=\"526.202\" cy=\"1321.77\" r=\"14.4\" fill=\"#008000\" fill-rule=\"evenodd\" fill-opacity=\"1\" stroke=\"#000000\" stroke-opacity=\"1\" stroke-width=\"3.2\"/>\n",
       "<circle clip-path=\"url(#clip542)\" cx=\"567.276\" cy=\"1311.11\" r=\"14.4\" fill=\"#008000\" fill-rule=\"evenodd\" fill-opacity=\"1\" stroke=\"#000000\" stroke-opacity=\"1\" stroke-width=\"3.2\"/>\n",
       "<circle clip-path=\"url(#clip542)\" cx=\"608.35\" cy=\"1276.57\" r=\"14.4\" fill=\"#008000\" fill-rule=\"evenodd\" fill-opacity=\"1\" stroke=\"#000000\" stroke-opacity=\"1\" stroke-width=\"3.2\"/>\n",
       "<circle clip-path=\"url(#clip542)\" cx=\"649.423\" cy=\"1241.53\" r=\"14.4\" fill=\"#008000\" fill-rule=\"evenodd\" fill-opacity=\"1\" stroke=\"#000000\" stroke-opacity=\"1\" stroke-width=\"3.2\"/>\n",
       "<circle clip-path=\"url(#clip542)\" cx=\"690.497\" cy=\"1208.02\" r=\"14.4\" fill=\"#008000\" fill-rule=\"evenodd\" fill-opacity=\"1\" stroke=\"#000000\" stroke-opacity=\"1\" stroke-width=\"3.2\"/>\n",
       "<circle clip-path=\"url(#clip542)\" cx=\"731.571\" cy=\"1225.28\" r=\"14.4\" fill=\"#008000\" fill-rule=\"evenodd\" fill-opacity=\"1\" stroke=\"#000000\" stroke-opacity=\"1\" stroke-width=\"3.2\"/>\n",
       "<circle clip-path=\"url(#clip542)\" cx=\"772.645\" cy=\"1205.48\" r=\"14.4\" fill=\"#008000\" fill-rule=\"evenodd\" fill-opacity=\"1\" stroke=\"#000000\" stroke-opacity=\"1\" stroke-width=\"3.2\"/>\n",
       "<circle clip-path=\"url(#clip542)\" cx=\"813.719\" cy=\"1186.18\" r=\"14.4\" fill=\"#008000\" fill-rule=\"evenodd\" fill-opacity=\"1\" stroke=\"#000000\" stroke-opacity=\"1\" stroke-width=\"3.2\"/>\n",
       "<circle clip-path=\"url(#clip542)\" cx=\"854.793\" cy=\"1172.97\" r=\"14.4\" fill=\"#008000\" fill-rule=\"evenodd\" fill-opacity=\"1\" stroke=\"#000000\" stroke-opacity=\"1\" stroke-width=\"3.2\"/>\n",
       "<circle clip-path=\"url(#clip542)\" cx=\"895.866\" cy=\"1152.15\" r=\"14.4\" fill=\"#008000\" fill-rule=\"evenodd\" fill-opacity=\"1\" stroke=\"#000000\" stroke-opacity=\"1\" stroke-width=\"3.2\"/>\n",
       "<circle clip-path=\"url(#clip542)\" cx=\"936.94\" cy=\"1139.46\" r=\"14.4\" fill=\"#008000\" fill-rule=\"evenodd\" fill-opacity=\"1\" stroke=\"#000000\" stroke-opacity=\"1\" stroke-width=\"3.2\"/>\n",
       "<circle clip-path=\"url(#clip542)\" cx=\"978.014\" cy=\"1131.33\" r=\"14.4\" fill=\"#008000\" fill-rule=\"evenodd\" fill-opacity=\"1\" stroke=\"#000000\" stroke-opacity=\"1\" stroke-width=\"3.2\"/>\n",
       "<circle clip-path=\"url(#clip542)\" cx=\"1019.09\" cy=\"1080.04\" r=\"14.4\" fill=\"#008000\" fill-rule=\"evenodd\" fill-opacity=\"1\" stroke=\"#000000\" stroke-opacity=\"1\" stroke-width=\"3.2\"/>\n",
       "<circle clip-path=\"url(#clip542)\" cx=\"1060.16\" cy=\"1027.22\" r=\"14.4\" fill=\"#008000\" fill-rule=\"evenodd\" fill-opacity=\"1\" stroke=\"#000000\" stroke-opacity=\"1\" stroke-width=\"3.2\"/>\n",
       "<circle clip-path=\"url(#clip542)\" cx=\"1101.24\" cy=\"1010.46\" r=\"14.4\" fill=\"#008000\" fill-rule=\"evenodd\" fill-opacity=\"1\" stroke=\"#000000\" stroke-opacity=\"1\" stroke-width=\"3.2\"/>\n",
       "<circle clip-path=\"url(#clip542)\" cx=\"1142.31\" cy=\"978.47\" r=\"14.4\" fill=\"#008000\" fill-rule=\"evenodd\" fill-opacity=\"1\" stroke=\"#000000\" stroke-opacity=\"1\" stroke-width=\"3.2\"/>\n",
       "<circle clip-path=\"url(#clip542)\" cx=\"1183.38\" cy=\"962.727\" r=\"14.4\" fill=\"#008000\" fill-rule=\"evenodd\" fill-opacity=\"1\" stroke=\"#000000\" stroke-opacity=\"1\" stroke-width=\"3.2\"/>\n",
       "<circle clip-path=\"url(#clip542)\" cx=\"1224.46\" cy=\"989.135\" r=\"14.4\" fill=\"#008000\" fill-rule=\"evenodd\" fill-opacity=\"1\" stroke=\"#000000\" stroke-opacity=\"1\" stroke-width=\"3.2\"/>\n",
       "<circle clip-path=\"url(#clip542)\" cx=\"1265.53\" cy=\"1001.32\" r=\"14.4\" fill=\"#008000\" fill-rule=\"evenodd\" fill-opacity=\"1\" stroke=\"#000000\" stroke-opacity=\"1\" stroke-width=\"3.2\"/>\n",
       "<circle clip-path=\"url(#clip542)\" cx=\"1306.6\" cy=\"961.203\" r=\"14.4\" fill=\"#008000\" fill-rule=\"evenodd\" fill-opacity=\"1\" stroke=\"#000000\" stroke-opacity=\"1\" stroke-width=\"3.2\"/>\n",
       "<circle clip-path=\"url(#clip542)\" cx=\"1347.68\" cy=\"867.759\" r=\"14.4\" fill=\"#008000\" fill-rule=\"evenodd\" fill-opacity=\"1\" stroke=\"#000000\" stroke-opacity=\"1\" stroke-width=\"3.2\"/>\n",
       "<circle clip-path=\"url(#clip542)\" cx=\"1388.75\" cy=\"870.807\" r=\"14.4\" fill=\"#008000\" fill-rule=\"evenodd\" fill-opacity=\"1\" stroke=\"#000000\" stroke-opacity=\"1\" stroke-width=\"3.2\"/>\n",
       "<circle clip-path=\"url(#clip542)\" cx=\"1429.83\" cy=\"838.812\" r=\"14.4\" fill=\"#008000\" fill-rule=\"evenodd\" fill-opacity=\"1\" stroke=\"#000000\" stroke-opacity=\"1\" stroke-width=\"3.2\"/>\n",
       "<circle clip-path=\"url(#clip542)\" cx=\"1470.9\" cy=\"792.599\" r=\"14.4\" fill=\"#008000\" fill-rule=\"evenodd\" fill-opacity=\"1\" stroke=\"#000000\" stroke-opacity=\"1\" stroke-width=\"3.2\"/>\n",
       "<circle clip-path=\"url(#clip542)\" cx=\"1511.97\" cy=\"773.3\" r=\"14.4\" fill=\"#008000\" fill-rule=\"evenodd\" fill-opacity=\"1\" stroke=\"#000000\" stroke-opacity=\"1\" stroke-width=\"3.2\"/>\n",
       "<circle clip-path=\"url(#clip542)\" cx=\"1553.05\" cy=\"754.51\" r=\"14.4\" fill=\"#008000\" fill-rule=\"evenodd\" fill-opacity=\"1\" stroke=\"#000000\" stroke-opacity=\"1\" stroke-width=\"3.2\"/>\n",
       "<circle clip-path=\"url(#clip542)\" cx=\"1594.12\" cy=\"726.071\" r=\"14.4\" fill=\"#008000\" fill-rule=\"evenodd\" fill-opacity=\"1\" stroke=\"#000000\" stroke-opacity=\"1\" stroke-width=\"3.2\"/>\n",
       "<circle clip-path=\"url(#clip542)\" cx=\"1635.2\" cy=\"671.731\" r=\"14.4\" fill=\"#008000\" fill-rule=\"evenodd\" fill-opacity=\"1\" stroke=\"#000000\" stroke-opacity=\"1\" stroke-width=\"3.2\"/>\n",
       "<circle clip-path=\"url(#clip542)\" cx=\"1676.27\" cy=\"651.925\" r=\"14.4\" fill=\"#008000\" fill-rule=\"evenodd\" fill-opacity=\"1\" stroke=\"#000000\" stroke-opacity=\"1\" stroke-width=\"3.2\"/>\n",
       "<circle clip-path=\"url(#clip542)\" cx=\"1717.34\" cy=\"616.884\" r=\"14.4\" fill=\"#008000\" fill-rule=\"evenodd\" fill-opacity=\"1\" stroke=\"#000000\" stroke-opacity=\"1\" stroke-width=\"3.2\"/>\n",
       "<circle clip-path=\"url(#clip542)\" cx=\"1758.42\" cy=\"607.743\" r=\"14.4\" fill=\"#008000\" fill-rule=\"evenodd\" fill-opacity=\"1\" stroke=\"#000000\" stroke-opacity=\"1\" stroke-width=\"3.2\"/>\n",
       "<circle clip-path=\"url(#clip542)\" cx=\"1799.49\" cy=\"578.288\" r=\"14.4\" fill=\"#008000\" fill-rule=\"evenodd\" fill-opacity=\"1\" stroke=\"#000000\" stroke-opacity=\"1\" stroke-width=\"3.2\"/>\n",
       "<circle clip-path=\"url(#clip542)\" cx=\"1840.57\" cy=\"543.754\" r=\"14.4\" fill=\"#008000\" fill-rule=\"evenodd\" fill-opacity=\"1\" stroke=\"#000000\" stroke-opacity=\"1\" stroke-width=\"3.2\"/>\n",
       "<circle clip-path=\"url(#clip542)\" cx=\"1881.64\" cy=\"497.54\" r=\"14.4\" fill=\"#008000\" fill-rule=\"evenodd\" fill-opacity=\"1\" stroke=\"#000000\" stroke-opacity=\"1\" stroke-width=\"3.2\"/>\n",
       "<circle clip-path=\"url(#clip542)\" cx=\"1922.71\" cy=\"291.355\" r=\"14.4\" fill=\"#008000\" fill-rule=\"evenodd\" fill-opacity=\"1\" stroke=\"#000000\" stroke-opacity=\"1\" stroke-width=\"3.2\"/>\n",
       "<circle clip-path=\"url(#clip542)\" cx=\"1963.79\" cy=\"418.824\" r=\"14.4\" fill=\"#008000\" fill-rule=\"evenodd\" fill-opacity=\"1\" stroke=\"#000000\" stroke-opacity=\"1\" stroke-width=\"3.2\"/>\n",
       "<circle clip-path=\"url(#clip542)\" cx=\"2004.86\" cy=\"401.05\" r=\"14.4\" fill=\"#008000\" fill-rule=\"evenodd\" fill-opacity=\"1\" stroke=\"#000000\" stroke-opacity=\"1\" stroke-width=\"3.2\"/>\n",
       "<circle clip-path=\"url(#clip542)\" cx=\"2045.93\" cy=\"385.307\" r=\"14.4\" fill=\"#008000\" fill-rule=\"evenodd\" fill-opacity=\"1\" stroke=\"#000000\" stroke-opacity=\"1\" stroke-width=\"3.2\"/>\n",
       "<circle clip-path=\"url(#clip542)\" cx=\"2087.01\" cy=\"360.93\" r=\"14.4\" fill=\"#008000\" fill-rule=\"evenodd\" fill-opacity=\"1\" stroke=\"#000000\" stroke-opacity=\"1\" stroke-width=\"3.2\"/>\n",
       "<circle clip-path=\"url(#clip542)\" cx=\"2128.08\" cy=\"329.444\" r=\"14.4\" fill=\"#008000\" fill-rule=\"evenodd\" fill-opacity=\"1\" stroke=\"#000000\" stroke-opacity=\"1\" stroke-width=\"3.2\"/>\n",
       "<circle clip-path=\"url(#clip542)\" cx=\"2169.16\" cy=\"86.1857\" r=\"14.4\" fill=\"#008000\" fill-rule=\"evenodd\" fill-opacity=\"1\" stroke=\"#000000\" stroke-opacity=\"1\" stroke-width=\"3.2\"/>\n",
       "<circle clip-path=\"url(#clip542)\" cx=\"2210.23\" cy=\"250.727\" r=\"14.4\" fill=\"#008000\" fill-rule=\"evenodd\" fill-opacity=\"1\" stroke=\"#000000\" stroke-opacity=\"1\" stroke-width=\"3.2\"/>\n",
       "<circle clip-path=\"url(#clip542)\" cx=\"2251.3\" cy=\"170.996\" r=\"14.4\" fill=\"#008000\" fill-rule=\"evenodd\" fill-opacity=\"1\" stroke=\"#000000\" stroke-opacity=\"1\" stroke-width=\"3.2\"/>\n",
       "<circle clip-path=\"url(#clip542)\" cx=\"2292.38\" cy=\"151.698\" r=\"14.4\" fill=\"#008000\" fill-rule=\"evenodd\" fill-opacity=\"1\" stroke=\"#000000\" stroke-opacity=\"1\" stroke-width=\"3.2\"/>\n",
       "<polyline clip-path=\"url(#clip542)\" style=\"stroke:#0000ff; stroke-linecap:round; stroke-linejoin:round; stroke-width:4; stroke-opacity:1; fill:none\" points=\"279.759,1375.1 320.833,1379.67 361.906,1383.22 402.98,1384.24 444.054,1374.59 485.128,1366.97 526.202,1374.08 567.276,1369.51 608.35,1366.46 649.423,1362.4 690.497,1353.26 731.571,1354.78 772.645,1335.99 813.719,1342.6 854.793,1337.01 895.866,1344.63 936.94,1340.56 978.014,1342.59 1019.09,1340.06 1060.16,1327.36 1101.24,1322.28 1142.31,1313.14 1183.38,1307.55 1224.46,1309.58 1265.53,1313.14 1306.6,1324.82 1347.68,1296.89 1388.75,1289.78 1429.83,1312.12 1470.9,1321.27 1511.97,1320.76 1553.05,1318.73 1594.12,1311.11 1635.2,1313.14 1676.27,1283.68 1717.34,1292.83 1758.42,1292.83 1799.49,1286.73 1840.57,1291.81 1881.64,1284.7 1922.71,1290.29 1963.79,1258.8 2004.86,1251.18 2045.93,1282.16 2087.01,1270.48 2128.08,1280.64 2169.16,1286.22 2210.23,1282.16 2251.3,1270.48 2292.38,1237.47 \"/>\n",
       "<line clip-path=\"url(#clip542)\" x1=\"279.759\" y1=\"1375.1\" x2=\"279.759\" y2=\"1359.1\" style=\"stroke:#0000ff; stroke-width:3.2; stroke-opacity:1\"/>\n",
       "<line clip-path=\"url(#clip542)\" x1=\"279.759\" y1=\"1375.1\" x2=\"263.759\" y2=\"1375.1\" style=\"stroke:#0000ff; stroke-width:3.2; stroke-opacity:1\"/>\n",
       "<line clip-path=\"url(#clip542)\" x1=\"279.759\" y1=\"1375.1\" x2=\"279.759\" y2=\"1391.1\" style=\"stroke:#0000ff; stroke-width:3.2; stroke-opacity:1\"/>\n",
       "<line clip-path=\"url(#clip542)\" x1=\"279.759\" y1=\"1375.1\" x2=\"295.759\" y2=\"1375.1\" style=\"stroke:#0000ff; stroke-width:3.2; stroke-opacity:1\"/>\n",
       "<line clip-path=\"url(#clip542)\" x1=\"320.833\" y1=\"1379.67\" x2=\"320.833\" y2=\"1363.67\" style=\"stroke:#0000ff; stroke-width:3.2; stroke-opacity:1\"/>\n",
       "<line clip-path=\"url(#clip542)\" x1=\"320.833\" y1=\"1379.67\" x2=\"304.833\" y2=\"1379.67\" style=\"stroke:#0000ff; stroke-width:3.2; stroke-opacity:1\"/>\n",
       "<line clip-path=\"url(#clip542)\" x1=\"320.833\" y1=\"1379.67\" x2=\"320.833\" y2=\"1395.67\" style=\"stroke:#0000ff; stroke-width:3.2; stroke-opacity:1\"/>\n",
       "<line clip-path=\"url(#clip542)\" x1=\"320.833\" y1=\"1379.67\" x2=\"336.833\" y2=\"1379.67\" style=\"stroke:#0000ff; stroke-width:3.2; stroke-opacity:1\"/>\n",
       "<line clip-path=\"url(#clip542)\" x1=\"361.906\" y1=\"1383.22\" x2=\"361.906\" y2=\"1367.22\" style=\"stroke:#0000ff; stroke-width:3.2; stroke-opacity:1\"/>\n",
       "<line clip-path=\"url(#clip542)\" x1=\"361.906\" y1=\"1383.22\" x2=\"345.906\" y2=\"1383.22\" style=\"stroke:#0000ff; stroke-width:3.2; stroke-opacity:1\"/>\n",
       "<line clip-path=\"url(#clip542)\" x1=\"361.906\" y1=\"1383.22\" x2=\"361.906\" y2=\"1399.22\" style=\"stroke:#0000ff; stroke-width:3.2; stroke-opacity:1\"/>\n",
       "<line clip-path=\"url(#clip542)\" x1=\"361.906\" y1=\"1383.22\" x2=\"377.906\" y2=\"1383.22\" style=\"stroke:#0000ff; stroke-width:3.2; stroke-opacity:1\"/>\n",
       "<line clip-path=\"url(#clip542)\" x1=\"402.98\" y1=\"1384.24\" x2=\"402.98\" y2=\"1368.24\" style=\"stroke:#0000ff; stroke-width:3.2; stroke-opacity:1\"/>\n",
       "<line clip-path=\"url(#clip542)\" x1=\"402.98\" y1=\"1384.24\" x2=\"386.98\" y2=\"1384.24\" style=\"stroke:#0000ff; stroke-width:3.2; stroke-opacity:1\"/>\n",
       "<line clip-path=\"url(#clip542)\" x1=\"402.98\" y1=\"1384.24\" x2=\"402.98\" y2=\"1400.24\" style=\"stroke:#0000ff; stroke-width:3.2; stroke-opacity:1\"/>\n",
       "<line clip-path=\"url(#clip542)\" x1=\"402.98\" y1=\"1384.24\" x2=\"418.98\" y2=\"1384.24\" style=\"stroke:#0000ff; stroke-width:3.2; stroke-opacity:1\"/>\n",
       "<line clip-path=\"url(#clip542)\" x1=\"444.054\" y1=\"1374.59\" x2=\"444.054\" y2=\"1358.59\" style=\"stroke:#0000ff; stroke-width:3.2; stroke-opacity:1\"/>\n",
       "<line clip-path=\"url(#clip542)\" x1=\"444.054\" y1=\"1374.59\" x2=\"428.054\" y2=\"1374.59\" style=\"stroke:#0000ff; stroke-width:3.2; stroke-opacity:1\"/>\n",
       "<line clip-path=\"url(#clip542)\" x1=\"444.054\" y1=\"1374.59\" x2=\"444.054\" y2=\"1390.59\" style=\"stroke:#0000ff; stroke-width:3.2; stroke-opacity:1\"/>\n",
       "<line clip-path=\"url(#clip542)\" x1=\"444.054\" y1=\"1374.59\" x2=\"460.054\" y2=\"1374.59\" style=\"stroke:#0000ff; stroke-width:3.2; stroke-opacity:1\"/>\n",
       "<line clip-path=\"url(#clip542)\" x1=\"485.128\" y1=\"1366.97\" x2=\"485.128\" y2=\"1350.97\" style=\"stroke:#0000ff; stroke-width:3.2; stroke-opacity:1\"/>\n",
       "<line clip-path=\"url(#clip542)\" x1=\"485.128\" y1=\"1366.97\" x2=\"469.128\" y2=\"1366.97\" style=\"stroke:#0000ff; stroke-width:3.2; stroke-opacity:1\"/>\n",
       "<line clip-path=\"url(#clip542)\" x1=\"485.128\" y1=\"1366.97\" x2=\"485.128\" y2=\"1382.97\" style=\"stroke:#0000ff; stroke-width:3.2; stroke-opacity:1\"/>\n",
       "<line clip-path=\"url(#clip542)\" x1=\"485.128\" y1=\"1366.97\" x2=\"501.128\" y2=\"1366.97\" style=\"stroke:#0000ff; stroke-width:3.2; stroke-opacity:1\"/>\n",
       "<line clip-path=\"url(#clip542)\" x1=\"526.202\" y1=\"1374.08\" x2=\"526.202\" y2=\"1358.08\" style=\"stroke:#0000ff; stroke-width:3.2; stroke-opacity:1\"/>\n",
       "<line clip-path=\"url(#clip542)\" x1=\"526.202\" y1=\"1374.08\" x2=\"510.202\" y2=\"1374.08\" style=\"stroke:#0000ff; stroke-width:3.2; stroke-opacity:1\"/>\n",
       "<line clip-path=\"url(#clip542)\" x1=\"526.202\" y1=\"1374.08\" x2=\"526.202\" y2=\"1390.08\" style=\"stroke:#0000ff; stroke-width:3.2; stroke-opacity:1\"/>\n",
       "<line clip-path=\"url(#clip542)\" x1=\"526.202\" y1=\"1374.08\" x2=\"542.202\" y2=\"1374.08\" style=\"stroke:#0000ff; stroke-width:3.2; stroke-opacity:1\"/>\n",
       "<line clip-path=\"url(#clip542)\" x1=\"567.276\" y1=\"1369.51\" x2=\"567.276\" y2=\"1353.51\" style=\"stroke:#0000ff; stroke-width:3.2; stroke-opacity:1\"/>\n",
       "<line clip-path=\"url(#clip542)\" x1=\"567.276\" y1=\"1369.51\" x2=\"551.276\" y2=\"1369.51\" style=\"stroke:#0000ff; stroke-width:3.2; stroke-opacity:1\"/>\n",
       "<line clip-path=\"url(#clip542)\" x1=\"567.276\" y1=\"1369.51\" x2=\"567.276\" y2=\"1385.51\" style=\"stroke:#0000ff; stroke-width:3.2; stroke-opacity:1\"/>\n",
       "<line clip-path=\"url(#clip542)\" x1=\"567.276\" y1=\"1369.51\" x2=\"583.276\" y2=\"1369.51\" style=\"stroke:#0000ff; stroke-width:3.2; stroke-opacity:1\"/>\n",
       "<line clip-path=\"url(#clip542)\" x1=\"608.35\" y1=\"1366.46\" x2=\"608.35\" y2=\"1350.46\" style=\"stroke:#0000ff; stroke-width:3.2; stroke-opacity:1\"/>\n",
       "<line clip-path=\"url(#clip542)\" x1=\"608.35\" y1=\"1366.46\" x2=\"592.35\" y2=\"1366.46\" style=\"stroke:#0000ff; stroke-width:3.2; stroke-opacity:1\"/>\n",
       "<line clip-path=\"url(#clip542)\" x1=\"608.35\" y1=\"1366.46\" x2=\"608.35\" y2=\"1382.46\" style=\"stroke:#0000ff; stroke-width:3.2; stroke-opacity:1\"/>\n",
       "<line clip-path=\"url(#clip542)\" x1=\"608.35\" y1=\"1366.46\" x2=\"624.35\" y2=\"1366.46\" style=\"stroke:#0000ff; stroke-width:3.2; stroke-opacity:1\"/>\n",
       "<line clip-path=\"url(#clip542)\" x1=\"649.423\" y1=\"1362.4\" x2=\"649.423\" y2=\"1346.4\" style=\"stroke:#0000ff; stroke-width:3.2; stroke-opacity:1\"/>\n",
       "<line clip-path=\"url(#clip542)\" x1=\"649.423\" y1=\"1362.4\" x2=\"633.423\" y2=\"1362.4\" style=\"stroke:#0000ff; stroke-width:3.2; stroke-opacity:1\"/>\n",
       "<line clip-path=\"url(#clip542)\" x1=\"649.423\" y1=\"1362.4\" x2=\"649.423\" y2=\"1378.4\" style=\"stroke:#0000ff; stroke-width:3.2; stroke-opacity:1\"/>\n",
       "<line clip-path=\"url(#clip542)\" x1=\"649.423\" y1=\"1362.4\" x2=\"665.423\" y2=\"1362.4\" style=\"stroke:#0000ff; stroke-width:3.2; stroke-opacity:1\"/>\n",
       "<line clip-path=\"url(#clip542)\" x1=\"690.497\" y1=\"1353.26\" x2=\"690.497\" y2=\"1337.26\" style=\"stroke:#0000ff; stroke-width:3.2; stroke-opacity:1\"/>\n",
       "<line clip-path=\"url(#clip542)\" x1=\"690.497\" y1=\"1353.26\" x2=\"674.497\" y2=\"1353.26\" style=\"stroke:#0000ff; stroke-width:3.2; stroke-opacity:1\"/>\n",
       "<line clip-path=\"url(#clip542)\" x1=\"690.497\" y1=\"1353.26\" x2=\"690.497\" y2=\"1369.26\" style=\"stroke:#0000ff; stroke-width:3.2; stroke-opacity:1\"/>\n",
       "<line clip-path=\"url(#clip542)\" x1=\"690.497\" y1=\"1353.26\" x2=\"706.497\" y2=\"1353.26\" style=\"stroke:#0000ff; stroke-width:3.2; stroke-opacity:1\"/>\n",
       "<line clip-path=\"url(#clip542)\" x1=\"731.571\" y1=\"1354.78\" x2=\"731.571\" y2=\"1338.78\" style=\"stroke:#0000ff; stroke-width:3.2; stroke-opacity:1\"/>\n",
       "<line clip-path=\"url(#clip542)\" x1=\"731.571\" y1=\"1354.78\" x2=\"715.571\" y2=\"1354.78\" style=\"stroke:#0000ff; stroke-width:3.2; stroke-opacity:1\"/>\n",
       "<line clip-path=\"url(#clip542)\" x1=\"731.571\" y1=\"1354.78\" x2=\"731.571\" y2=\"1370.78\" style=\"stroke:#0000ff; stroke-width:3.2; stroke-opacity:1\"/>\n",
       "<line clip-path=\"url(#clip542)\" x1=\"731.571\" y1=\"1354.78\" x2=\"747.571\" y2=\"1354.78\" style=\"stroke:#0000ff; stroke-width:3.2; stroke-opacity:1\"/>\n",
       "<line clip-path=\"url(#clip542)\" x1=\"772.645\" y1=\"1335.99\" x2=\"772.645\" y2=\"1319.99\" style=\"stroke:#0000ff; stroke-width:3.2; stroke-opacity:1\"/>\n",
       "<line clip-path=\"url(#clip542)\" x1=\"772.645\" y1=\"1335.99\" x2=\"756.645\" y2=\"1335.99\" style=\"stroke:#0000ff; stroke-width:3.2; stroke-opacity:1\"/>\n",
       "<line clip-path=\"url(#clip542)\" x1=\"772.645\" y1=\"1335.99\" x2=\"772.645\" y2=\"1351.99\" style=\"stroke:#0000ff; stroke-width:3.2; stroke-opacity:1\"/>\n",
       "<line clip-path=\"url(#clip542)\" x1=\"772.645\" y1=\"1335.99\" x2=\"788.645\" y2=\"1335.99\" style=\"stroke:#0000ff; stroke-width:3.2; stroke-opacity:1\"/>\n",
       "<line clip-path=\"url(#clip542)\" x1=\"813.719\" y1=\"1342.6\" x2=\"813.719\" y2=\"1326.6\" style=\"stroke:#0000ff; stroke-width:3.2; stroke-opacity:1\"/>\n",
       "<line clip-path=\"url(#clip542)\" x1=\"813.719\" y1=\"1342.6\" x2=\"797.719\" y2=\"1342.6\" style=\"stroke:#0000ff; stroke-width:3.2; stroke-opacity:1\"/>\n",
       "<line clip-path=\"url(#clip542)\" x1=\"813.719\" y1=\"1342.6\" x2=\"813.719\" y2=\"1358.6\" style=\"stroke:#0000ff; stroke-width:3.2; stroke-opacity:1\"/>\n",
       "<line clip-path=\"url(#clip542)\" x1=\"813.719\" y1=\"1342.6\" x2=\"829.719\" y2=\"1342.6\" style=\"stroke:#0000ff; stroke-width:3.2; stroke-opacity:1\"/>\n",
       "<line clip-path=\"url(#clip542)\" x1=\"854.793\" y1=\"1337.01\" x2=\"854.793\" y2=\"1321.01\" style=\"stroke:#0000ff; stroke-width:3.2; stroke-opacity:1\"/>\n",
       "<line clip-path=\"url(#clip542)\" x1=\"854.793\" y1=\"1337.01\" x2=\"838.793\" y2=\"1337.01\" style=\"stroke:#0000ff; stroke-width:3.2; stroke-opacity:1\"/>\n",
       "<line clip-path=\"url(#clip542)\" x1=\"854.793\" y1=\"1337.01\" x2=\"854.793\" y2=\"1353.01\" style=\"stroke:#0000ff; stroke-width:3.2; stroke-opacity:1\"/>\n",
       "<line clip-path=\"url(#clip542)\" x1=\"854.793\" y1=\"1337.01\" x2=\"870.793\" y2=\"1337.01\" style=\"stroke:#0000ff; stroke-width:3.2; stroke-opacity:1\"/>\n",
       "<line clip-path=\"url(#clip542)\" x1=\"895.866\" y1=\"1344.63\" x2=\"895.866\" y2=\"1328.63\" style=\"stroke:#0000ff; stroke-width:3.2; stroke-opacity:1\"/>\n",
       "<line clip-path=\"url(#clip542)\" x1=\"895.866\" y1=\"1344.63\" x2=\"879.866\" y2=\"1344.63\" style=\"stroke:#0000ff; stroke-width:3.2; stroke-opacity:1\"/>\n",
       "<line clip-path=\"url(#clip542)\" x1=\"895.866\" y1=\"1344.63\" x2=\"895.866\" y2=\"1360.63\" style=\"stroke:#0000ff; stroke-width:3.2; stroke-opacity:1\"/>\n",
       "<line clip-path=\"url(#clip542)\" x1=\"895.866\" y1=\"1344.63\" x2=\"911.866\" y2=\"1344.63\" style=\"stroke:#0000ff; stroke-width:3.2; stroke-opacity:1\"/>\n",
       "<line clip-path=\"url(#clip542)\" x1=\"936.94\" y1=\"1340.56\" x2=\"936.94\" y2=\"1324.56\" style=\"stroke:#0000ff; stroke-width:3.2; stroke-opacity:1\"/>\n",
       "<line clip-path=\"url(#clip542)\" x1=\"936.94\" y1=\"1340.56\" x2=\"920.94\" y2=\"1340.56\" style=\"stroke:#0000ff; stroke-width:3.2; stroke-opacity:1\"/>\n",
       "<line clip-path=\"url(#clip542)\" x1=\"936.94\" y1=\"1340.56\" x2=\"936.94\" y2=\"1356.56\" style=\"stroke:#0000ff; stroke-width:3.2; stroke-opacity:1\"/>\n",
       "<line clip-path=\"url(#clip542)\" x1=\"936.94\" y1=\"1340.56\" x2=\"952.94\" y2=\"1340.56\" style=\"stroke:#0000ff; stroke-width:3.2; stroke-opacity:1\"/>\n",
       "<line clip-path=\"url(#clip542)\" x1=\"978.014\" y1=\"1342.59\" x2=\"978.014\" y2=\"1326.59\" style=\"stroke:#0000ff; stroke-width:3.2; stroke-opacity:1\"/>\n",
       "<line clip-path=\"url(#clip542)\" x1=\"978.014\" y1=\"1342.59\" x2=\"962.014\" y2=\"1342.59\" style=\"stroke:#0000ff; stroke-width:3.2; stroke-opacity:1\"/>\n",
       "<line clip-path=\"url(#clip542)\" x1=\"978.014\" y1=\"1342.59\" x2=\"978.014\" y2=\"1358.59\" style=\"stroke:#0000ff; stroke-width:3.2; stroke-opacity:1\"/>\n",
       "<line clip-path=\"url(#clip542)\" x1=\"978.014\" y1=\"1342.59\" x2=\"994.014\" y2=\"1342.59\" style=\"stroke:#0000ff; stroke-width:3.2; stroke-opacity:1\"/>\n",
       "<line clip-path=\"url(#clip542)\" x1=\"1019.09\" y1=\"1340.06\" x2=\"1019.09\" y2=\"1324.06\" style=\"stroke:#0000ff; stroke-width:3.2; stroke-opacity:1\"/>\n",
       "<line clip-path=\"url(#clip542)\" x1=\"1019.09\" y1=\"1340.06\" x2=\"1003.09\" y2=\"1340.06\" style=\"stroke:#0000ff; stroke-width:3.2; stroke-opacity:1\"/>\n",
       "<line clip-path=\"url(#clip542)\" x1=\"1019.09\" y1=\"1340.06\" x2=\"1019.09\" y2=\"1356.06\" style=\"stroke:#0000ff; stroke-width:3.2; stroke-opacity:1\"/>\n",
       "<line clip-path=\"url(#clip542)\" x1=\"1019.09\" y1=\"1340.06\" x2=\"1035.09\" y2=\"1340.06\" style=\"stroke:#0000ff; stroke-width:3.2; stroke-opacity:1\"/>\n",
       "<line clip-path=\"url(#clip542)\" x1=\"1060.16\" y1=\"1327.36\" x2=\"1060.16\" y2=\"1311.36\" style=\"stroke:#0000ff; stroke-width:3.2; stroke-opacity:1\"/>\n",
       "<line clip-path=\"url(#clip542)\" x1=\"1060.16\" y1=\"1327.36\" x2=\"1044.16\" y2=\"1327.36\" style=\"stroke:#0000ff; stroke-width:3.2; stroke-opacity:1\"/>\n",
       "<line clip-path=\"url(#clip542)\" x1=\"1060.16\" y1=\"1327.36\" x2=\"1060.16\" y2=\"1343.36\" style=\"stroke:#0000ff; stroke-width:3.2; stroke-opacity:1\"/>\n",
       "<line clip-path=\"url(#clip542)\" x1=\"1060.16\" y1=\"1327.36\" x2=\"1076.16\" y2=\"1327.36\" style=\"stroke:#0000ff; stroke-width:3.2; stroke-opacity:1\"/>\n",
       "<line clip-path=\"url(#clip542)\" x1=\"1101.24\" y1=\"1322.28\" x2=\"1101.24\" y2=\"1306.28\" style=\"stroke:#0000ff; stroke-width:3.2; stroke-opacity:1\"/>\n",
       "<line clip-path=\"url(#clip542)\" x1=\"1101.24\" y1=\"1322.28\" x2=\"1085.24\" y2=\"1322.28\" style=\"stroke:#0000ff; stroke-width:3.2; stroke-opacity:1\"/>\n",
       "<line clip-path=\"url(#clip542)\" x1=\"1101.24\" y1=\"1322.28\" x2=\"1101.24\" y2=\"1338.28\" style=\"stroke:#0000ff; stroke-width:3.2; stroke-opacity:1\"/>\n",
       "<line clip-path=\"url(#clip542)\" x1=\"1101.24\" y1=\"1322.28\" x2=\"1117.24\" y2=\"1322.28\" style=\"stroke:#0000ff; stroke-width:3.2; stroke-opacity:1\"/>\n",
       "<line clip-path=\"url(#clip542)\" x1=\"1142.31\" y1=\"1313.14\" x2=\"1142.31\" y2=\"1297.14\" style=\"stroke:#0000ff; stroke-width:3.2; stroke-opacity:1\"/>\n",
       "<line clip-path=\"url(#clip542)\" x1=\"1142.31\" y1=\"1313.14\" x2=\"1126.31\" y2=\"1313.14\" style=\"stroke:#0000ff; stroke-width:3.2; stroke-opacity:1\"/>\n",
       "<line clip-path=\"url(#clip542)\" x1=\"1142.31\" y1=\"1313.14\" x2=\"1142.31\" y2=\"1329.14\" style=\"stroke:#0000ff; stroke-width:3.2; stroke-opacity:1\"/>\n",
       "<line clip-path=\"url(#clip542)\" x1=\"1142.31\" y1=\"1313.14\" x2=\"1158.31\" y2=\"1313.14\" style=\"stroke:#0000ff; stroke-width:3.2; stroke-opacity:1\"/>\n",
       "<line clip-path=\"url(#clip542)\" x1=\"1183.38\" y1=\"1307.55\" x2=\"1183.38\" y2=\"1291.55\" style=\"stroke:#0000ff; stroke-width:3.2; stroke-opacity:1\"/>\n",
       "<line clip-path=\"url(#clip542)\" x1=\"1183.38\" y1=\"1307.55\" x2=\"1167.38\" y2=\"1307.55\" style=\"stroke:#0000ff; stroke-width:3.2; stroke-opacity:1\"/>\n",
       "<line clip-path=\"url(#clip542)\" x1=\"1183.38\" y1=\"1307.55\" x2=\"1183.38\" y2=\"1323.55\" style=\"stroke:#0000ff; stroke-width:3.2; stroke-opacity:1\"/>\n",
       "<line clip-path=\"url(#clip542)\" x1=\"1183.38\" y1=\"1307.55\" x2=\"1199.38\" y2=\"1307.55\" style=\"stroke:#0000ff; stroke-width:3.2; stroke-opacity:1\"/>\n",
       "<line clip-path=\"url(#clip542)\" x1=\"1224.46\" y1=\"1309.58\" x2=\"1224.46\" y2=\"1293.58\" style=\"stroke:#0000ff; stroke-width:3.2; stroke-opacity:1\"/>\n",
       "<line clip-path=\"url(#clip542)\" x1=\"1224.46\" y1=\"1309.58\" x2=\"1208.46\" y2=\"1309.58\" style=\"stroke:#0000ff; stroke-width:3.2; stroke-opacity:1\"/>\n",
       "<line clip-path=\"url(#clip542)\" x1=\"1224.46\" y1=\"1309.58\" x2=\"1224.46\" y2=\"1325.58\" style=\"stroke:#0000ff; stroke-width:3.2; stroke-opacity:1\"/>\n",
       "<line clip-path=\"url(#clip542)\" x1=\"1224.46\" y1=\"1309.58\" x2=\"1240.46\" y2=\"1309.58\" style=\"stroke:#0000ff; stroke-width:3.2; stroke-opacity:1\"/>\n",
       "<line clip-path=\"url(#clip542)\" x1=\"1265.53\" y1=\"1313.14\" x2=\"1265.53\" y2=\"1297.14\" style=\"stroke:#0000ff; stroke-width:3.2; stroke-opacity:1\"/>\n",
       "<line clip-path=\"url(#clip542)\" x1=\"1265.53\" y1=\"1313.14\" x2=\"1249.53\" y2=\"1313.14\" style=\"stroke:#0000ff; stroke-width:3.2; stroke-opacity:1\"/>\n",
       "<line clip-path=\"url(#clip542)\" x1=\"1265.53\" y1=\"1313.14\" x2=\"1265.53\" y2=\"1329.14\" style=\"stroke:#0000ff; stroke-width:3.2; stroke-opacity:1\"/>\n",
       "<line clip-path=\"url(#clip542)\" x1=\"1265.53\" y1=\"1313.14\" x2=\"1281.53\" y2=\"1313.14\" style=\"stroke:#0000ff; stroke-width:3.2; stroke-opacity:1\"/>\n",
       "<line clip-path=\"url(#clip542)\" x1=\"1306.6\" y1=\"1324.82\" x2=\"1306.6\" y2=\"1308.82\" style=\"stroke:#0000ff; stroke-width:3.2; stroke-opacity:1\"/>\n",
       "<line clip-path=\"url(#clip542)\" x1=\"1306.6\" y1=\"1324.82\" x2=\"1290.6\" y2=\"1324.82\" style=\"stroke:#0000ff; stroke-width:3.2; stroke-opacity:1\"/>\n",
       "<line clip-path=\"url(#clip542)\" x1=\"1306.6\" y1=\"1324.82\" x2=\"1306.6\" y2=\"1340.82\" style=\"stroke:#0000ff; stroke-width:3.2; stroke-opacity:1\"/>\n",
       "<line clip-path=\"url(#clip542)\" x1=\"1306.6\" y1=\"1324.82\" x2=\"1322.6\" y2=\"1324.82\" style=\"stroke:#0000ff; stroke-width:3.2; stroke-opacity:1\"/>\n",
       "<line clip-path=\"url(#clip542)\" x1=\"1347.68\" y1=\"1296.89\" x2=\"1347.68\" y2=\"1280.89\" style=\"stroke:#0000ff; stroke-width:3.2; stroke-opacity:1\"/>\n",
       "<line clip-path=\"url(#clip542)\" x1=\"1347.68\" y1=\"1296.89\" x2=\"1331.68\" y2=\"1296.89\" style=\"stroke:#0000ff; stroke-width:3.2; stroke-opacity:1\"/>\n",
       "<line clip-path=\"url(#clip542)\" x1=\"1347.68\" y1=\"1296.89\" x2=\"1347.68\" y2=\"1312.89\" style=\"stroke:#0000ff; stroke-width:3.2; stroke-opacity:1\"/>\n",
       "<line clip-path=\"url(#clip542)\" x1=\"1347.68\" y1=\"1296.89\" x2=\"1363.68\" y2=\"1296.89\" style=\"stroke:#0000ff; stroke-width:3.2; stroke-opacity:1\"/>\n",
       "<line clip-path=\"url(#clip542)\" x1=\"1388.75\" y1=\"1289.78\" x2=\"1388.75\" y2=\"1273.78\" style=\"stroke:#0000ff; stroke-width:3.2; stroke-opacity:1\"/>\n",
       "<line clip-path=\"url(#clip542)\" x1=\"1388.75\" y1=\"1289.78\" x2=\"1372.75\" y2=\"1289.78\" style=\"stroke:#0000ff; stroke-width:3.2; stroke-opacity:1\"/>\n",
       "<line clip-path=\"url(#clip542)\" x1=\"1388.75\" y1=\"1289.78\" x2=\"1388.75\" y2=\"1305.78\" style=\"stroke:#0000ff; stroke-width:3.2; stroke-opacity:1\"/>\n",
       "<line clip-path=\"url(#clip542)\" x1=\"1388.75\" y1=\"1289.78\" x2=\"1404.75\" y2=\"1289.78\" style=\"stroke:#0000ff; stroke-width:3.2; stroke-opacity:1\"/>\n",
       "<line clip-path=\"url(#clip542)\" x1=\"1429.83\" y1=\"1312.12\" x2=\"1429.83\" y2=\"1296.12\" style=\"stroke:#0000ff; stroke-width:3.2; stroke-opacity:1\"/>\n",
       "<line clip-path=\"url(#clip542)\" x1=\"1429.83\" y1=\"1312.12\" x2=\"1413.83\" y2=\"1312.12\" style=\"stroke:#0000ff; stroke-width:3.2; stroke-opacity:1\"/>\n",
       "<line clip-path=\"url(#clip542)\" x1=\"1429.83\" y1=\"1312.12\" x2=\"1429.83\" y2=\"1328.12\" style=\"stroke:#0000ff; stroke-width:3.2; stroke-opacity:1\"/>\n",
       "<line clip-path=\"url(#clip542)\" x1=\"1429.83\" y1=\"1312.12\" x2=\"1445.83\" y2=\"1312.12\" style=\"stroke:#0000ff; stroke-width:3.2; stroke-opacity:1\"/>\n",
       "<line clip-path=\"url(#clip542)\" x1=\"1470.9\" y1=\"1321.27\" x2=\"1470.9\" y2=\"1305.27\" style=\"stroke:#0000ff; stroke-width:3.2; stroke-opacity:1\"/>\n",
       "<line clip-path=\"url(#clip542)\" x1=\"1470.9\" y1=\"1321.27\" x2=\"1454.9\" y2=\"1321.27\" style=\"stroke:#0000ff; stroke-width:3.2; stroke-opacity:1\"/>\n",
       "<line clip-path=\"url(#clip542)\" x1=\"1470.9\" y1=\"1321.27\" x2=\"1470.9\" y2=\"1337.27\" style=\"stroke:#0000ff; stroke-width:3.2; stroke-opacity:1\"/>\n",
       "<line clip-path=\"url(#clip542)\" x1=\"1470.9\" y1=\"1321.27\" x2=\"1486.9\" y2=\"1321.27\" style=\"stroke:#0000ff; stroke-width:3.2; stroke-opacity:1\"/>\n",
       "<line clip-path=\"url(#clip542)\" x1=\"1511.97\" y1=\"1320.76\" x2=\"1511.97\" y2=\"1304.76\" style=\"stroke:#0000ff; stroke-width:3.2; stroke-opacity:1\"/>\n",
       "<line clip-path=\"url(#clip542)\" x1=\"1511.97\" y1=\"1320.76\" x2=\"1495.97\" y2=\"1320.76\" style=\"stroke:#0000ff; stroke-width:3.2; stroke-opacity:1\"/>\n",
       "<line clip-path=\"url(#clip542)\" x1=\"1511.97\" y1=\"1320.76\" x2=\"1511.97\" y2=\"1336.76\" style=\"stroke:#0000ff; stroke-width:3.2; stroke-opacity:1\"/>\n",
       "<line clip-path=\"url(#clip542)\" x1=\"1511.97\" y1=\"1320.76\" x2=\"1527.97\" y2=\"1320.76\" style=\"stroke:#0000ff; stroke-width:3.2; stroke-opacity:1\"/>\n",
       "<line clip-path=\"url(#clip542)\" x1=\"1553.05\" y1=\"1318.73\" x2=\"1553.05\" y2=\"1302.73\" style=\"stroke:#0000ff; stroke-width:3.2; stroke-opacity:1\"/>\n",
       "<line clip-path=\"url(#clip542)\" x1=\"1553.05\" y1=\"1318.73\" x2=\"1537.05\" y2=\"1318.73\" style=\"stroke:#0000ff; stroke-width:3.2; stroke-opacity:1\"/>\n",
       "<line clip-path=\"url(#clip542)\" x1=\"1553.05\" y1=\"1318.73\" x2=\"1553.05\" y2=\"1334.73\" style=\"stroke:#0000ff; stroke-width:3.2; stroke-opacity:1\"/>\n",
       "<line clip-path=\"url(#clip542)\" x1=\"1553.05\" y1=\"1318.73\" x2=\"1569.05\" y2=\"1318.73\" style=\"stroke:#0000ff; stroke-width:3.2; stroke-opacity:1\"/>\n",
       "<line clip-path=\"url(#clip542)\" x1=\"1594.12\" y1=\"1311.11\" x2=\"1594.12\" y2=\"1295.11\" style=\"stroke:#0000ff; stroke-width:3.2; stroke-opacity:1\"/>\n",
       "<line clip-path=\"url(#clip542)\" x1=\"1594.12\" y1=\"1311.11\" x2=\"1578.12\" y2=\"1311.11\" style=\"stroke:#0000ff; stroke-width:3.2; stroke-opacity:1\"/>\n",
       "<line clip-path=\"url(#clip542)\" x1=\"1594.12\" y1=\"1311.11\" x2=\"1594.12\" y2=\"1327.11\" style=\"stroke:#0000ff; stroke-width:3.2; stroke-opacity:1\"/>\n",
       "<line clip-path=\"url(#clip542)\" x1=\"1594.12\" y1=\"1311.11\" x2=\"1610.12\" y2=\"1311.11\" style=\"stroke:#0000ff; stroke-width:3.2; stroke-opacity:1\"/>\n",
       "<line clip-path=\"url(#clip542)\" x1=\"1635.2\" y1=\"1313.14\" x2=\"1635.2\" y2=\"1297.14\" style=\"stroke:#0000ff; stroke-width:3.2; stroke-opacity:1\"/>\n",
       "<line clip-path=\"url(#clip542)\" x1=\"1635.2\" y1=\"1313.14\" x2=\"1619.2\" y2=\"1313.14\" style=\"stroke:#0000ff; stroke-width:3.2; stroke-opacity:1\"/>\n",
       "<line clip-path=\"url(#clip542)\" x1=\"1635.2\" y1=\"1313.14\" x2=\"1635.2\" y2=\"1329.14\" style=\"stroke:#0000ff; stroke-width:3.2; stroke-opacity:1\"/>\n",
       "<line clip-path=\"url(#clip542)\" x1=\"1635.2\" y1=\"1313.14\" x2=\"1651.2\" y2=\"1313.14\" style=\"stroke:#0000ff; stroke-width:3.2; stroke-opacity:1\"/>\n",
       "<line clip-path=\"url(#clip542)\" x1=\"1676.27\" y1=\"1283.68\" x2=\"1676.27\" y2=\"1267.68\" style=\"stroke:#0000ff; stroke-width:3.2; stroke-opacity:1\"/>\n",
       "<line clip-path=\"url(#clip542)\" x1=\"1676.27\" y1=\"1283.68\" x2=\"1660.27\" y2=\"1283.68\" style=\"stroke:#0000ff; stroke-width:3.2; stroke-opacity:1\"/>\n",
       "<line clip-path=\"url(#clip542)\" x1=\"1676.27\" y1=\"1283.68\" x2=\"1676.27\" y2=\"1299.68\" style=\"stroke:#0000ff; stroke-width:3.2; stroke-opacity:1\"/>\n",
       "<line clip-path=\"url(#clip542)\" x1=\"1676.27\" y1=\"1283.68\" x2=\"1692.27\" y2=\"1283.68\" style=\"stroke:#0000ff; stroke-width:3.2; stroke-opacity:1\"/>\n",
       "<line clip-path=\"url(#clip542)\" x1=\"1717.34\" y1=\"1292.83\" x2=\"1717.34\" y2=\"1276.83\" style=\"stroke:#0000ff; stroke-width:3.2; stroke-opacity:1\"/>\n",
       "<line clip-path=\"url(#clip542)\" x1=\"1717.34\" y1=\"1292.83\" x2=\"1701.34\" y2=\"1292.83\" style=\"stroke:#0000ff; stroke-width:3.2; stroke-opacity:1\"/>\n",
       "<line clip-path=\"url(#clip542)\" x1=\"1717.34\" y1=\"1292.83\" x2=\"1717.34\" y2=\"1308.83\" style=\"stroke:#0000ff; stroke-width:3.2; stroke-opacity:1\"/>\n",
       "<line clip-path=\"url(#clip542)\" x1=\"1717.34\" y1=\"1292.83\" x2=\"1733.34\" y2=\"1292.83\" style=\"stroke:#0000ff; stroke-width:3.2; stroke-opacity:1\"/>\n",
       "<line clip-path=\"url(#clip542)\" x1=\"1758.42\" y1=\"1292.83\" x2=\"1758.42\" y2=\"1276.83\" style=\"stroke:#0000ff; stroke-width:3.2; stroke-opacity:1\"/>\n",
       "<line clip-path=\"url(#clip542)\" x1=\"1758.42\" y1=\"1292.83\" x2=\"1742.42\" y2=\"1292.83\" style=\"stroke:#0000ff; stroke-width:3.2; stroke-opacity:1\"/>\n",
       "<line clip-path=\"url(#clip542)\" x1=\"1758.42\" y1=\"1292.83\" x2=\"1758.42\" y2=\"1308.83\" style=\"stroke:#0000ff; stroke-width:3.2; stroke-opacity:1\"/>\n",
       "<line clip-path=\"url(#clip542)\" x1=\"1758.42\" y1=\"1292.83\" x2=\"1774.42\" y2=\"1292.83\" style=\"stroke:#0000ff; stroke-width:3.2; stroke-opacity:1\"/>\n",
       "<line clip-path=\"url(#clip542)\" x1=\"1799.49\" y1=\"1286.73\" x2=\"1799.49\" y2=\"1270.73\" style=\"stroke:#0000ff; stroke-width:3.2; stroke-opacity:1\"/>\n",
       "<line clip-path=\"url(#clip542)\" x1=\"1799.49\" y1=\"1286.73\" x2=\"1783.49\" y2=\"1286.73\" style=\"stroke:#0000ff; stroke-width:3.2; stroke-opacity:1\"/>\n",
       "<line clip-path=\"url(#clip542)\" x1=\"1799.49\" y1=\"1286.73\" x2=\"1799.49\" y2=\"1302.73\" style=\"stroke:#0000ff; stroke-width:3.2; stroke-opacity:1\"/>\n",
       "<line clip-path=\"url(#clip542)\" x1=\"1799.49\" y1=\"1286.73\" x2=\"1815.49\" y2=\"1286.73\" style=\"stroke:#0000ff; stroke-width:3.2; stroke-opacity:1\"/>\n",
       "<line clip-path=\"url(#clip542)\" x1=\"1840.57\" y1=\"1291.81\" x2=\"1840.57\" y2=\"1275.81\" style=\"stroke:#0000ff; stroke-width:3.2; stroke-opacity:1\"/>\n",
       "<line clip-path=\"url(#clip542)\" x1=\"1840.57\" y1=\"1291.81\" x2=\"1824.57\" y2=\"1291.81\" style=\"stroke:#0000ff; stroke-width:3.2; stroke-opacity:1\"/>\n",
       "<line clip-path=\"url(#clip542)\" x1=\"1840.57\" y1=\"1291.81\" x2=\"1840.57\" y2=\"1307.81\" style=\"stroke:#0000ff; stroke-width:3.2; stroke-opacity:1\"/>\n",
       "<line clip-path=\"url(#clip542)\" x1=\"1840.57\" y1=\"1291.81\" x2=\"1856.57\" y2=\"1291.81\" style=\"stroke:#0000ff; stroke-width:3.2; stroke-opacity:1\"/>\n",
       "<line clip-path=\"url(#clip542)\" x1=\"1881.64\" y1=\"1284.7\" x2=\"1881.64\" y2=\"1268.7\" style=\"stroke:#0000ff; stroke-width:3.2; stroke-opacity:1\"/>\n",
       "<line clip-path=\"url(#clip542)\" x1=\"1881.64\" y1=\"1284.7\" x2=\"1865.64\" y2=\"1284.7\" style=\"stroke:#0000ff; stroke-width:3.2; stroke-opacity:1\"/>\n",
       "<line clip-path=\"url(#clip542)\" x1=\"1881.64\" y1=\"1284.7\" x2=\"1881.64\" y2=\"1300.7\" style=\"stroke:#0000ff; stroke-width:3.2; stroke-opacity:1\"/>\n",
       "<line clip-path=\"url(#clip542)\" x1=\"1881.64\" y1=\"1284.7\" x2=\"1897.64\" y2=\"1284.7\" style=\"stroke:#0000ff; stroke-width:3.2; stroke-opacity:1\"/>\n",
       "<line clip-path=\"url(#clip542)\" x1=\"1922.71\" y1=\"1290.29\" x2=\"1922.71\" y2=\"1274.29\" style=\"stroke:#0000ff; stroke-width:3.2; stroke-opacity:1\"/>\n",
       "<line clip-path=\"url(#clip542)\" x1=\"1922.71\" y1=\"1290.29\" x2=\"1906.71\" y2=\"1290.29\" style=\"stroke:#0000ff; stroke-width:3.2; stroke-opacity:1\"/>\n",
       "<line clip-path=\"url(#clip542)\" x1=\"1922.71\" y1=\"1290.29\" x2=\"1922.71\" y2=\"1306.29\" style=\"stroke:#0000ff; stroke-width:3.2; stroke-opacity:1\"/>\n",
       "<line clip-path=\"url(#clip542)\" x1=\"1922.71\" y1=\"1290.29\" x2=\"1938.71\" y2=\"1290.29\" style=\"stroke:#0000ff; stroke-width:3.2; stroke-opacity:1\"/>\n",
       "<line clip-path=\"url(#clip542)\" x1=\"1963.79\" y1=\"1258.8\" x2=\"1963.79\" y2=\"1242.8\" style=\"stroke:#0000ff; stroke-width:3.2; stroke-opacity:1\"/>\n",
       "<line clip-path=\"url(#clip542)\" x1=\"1963.79\" y1=\"1258.8\" x2=\"1947.79\" y2=\"1258.8\" style=\"stroke:#0000ff; stroke-width:3.2; stroke-opacity:1\"/>\n",
       "<line clip-path=\"url(#clip542)\" x1=\"1963.79\" y1=\"1258.8\" x2=\"1963.79\" y2=\"1274.8\" style=\"stroke:#0000ff; stroke-width:3.2; stroke-opacity:1\"/>\n",
       "<line clip-path=\"url(#clip542)\" x1=\"1963.79\" y1=\"1258.8\" x2=\"1979.79\" y2=\"1258.8\" style=\"stroke:#0000ff; stroke-width:3.2; stroke-opacity:1\"/>\n",
       "<line clip-path=\"url(#clip542)\" x1=\"2004.86\" y1=\"1251.18\" x2=\"2004.86\" y2=\"1235.18\" style=\"stroke:#0000ff; stroke-width:3.2; stroke-opacity:1\"/>\n",
       "<line clip-path=\"url(#clip542)\" x1=\"2004.86\" y1=\"1251.18\" x2=\"1988.86\" y2=\"1251.18\" style=\"stroke:#0000ff; stroke-width:3.2; stroke-opacity:1\"/>\n",
       "<line clip-path=\"url(#clip542)\" x1=\"2004.86\" y1=\"1251.18\" x2=\"2004.86\" y2=\"1267.18\" style=\"stroke:#0000ff; stroke-width:3.2; stroke-opacity:1\"/>\n",
       "<line clip-path=\"url(#clip542)\" x1=\"2004.86\" y1=\"1251.18\" x2=\"2020.86\" y2=\"1251.18\" style=\"stroke:#0000ff; stroke-width:3.2; stroke-opacity:1\"/>\n",
       "<line clip-path=\"url(#clip542)\" x1=\"2045.93\" y1=\"1282.16\" x2=\"2045.93\" y2=\"1266.16\" style=\"stroke:#0000ff; stroke-width:3.2; stroke-opacity:1\"/>\n",
       "<line clip-path=\"url(#clip542)\" x1=\"2045.93\" y1=\"1282.16\" x2=\"2029.93\" y2=\"1282.16\" style=\"stroke:#0000ff; stroke-width:3.2; stroke-opacity:1\"/>\n",
       "<line clip-path=\"url(#clip542)\" x1=\"2045.93\" y1=\"1282.16\" x2=\"2045.93\" y2=\"1298.16\" style=\"stroke:#0000ff; stroke-width:3.2; stroke-opacity:1\"/>\n",
       "<line clip-path=\"url(#clip542)\" x1=\"2045.93\" y1=\"1282.16\" x2=\"2061.93\" y2=\"1282.16\" style=\"stroke:#0000ff; stroke-width:3.2; stroke-opacity:1\"/>\n",
       "<line clip-path=\"url(#clip542)\" x1=\"2087.01\" y1=\"1270.48\" x2=\"2087.01\" y2=\"1254.48\" style=\"stroke:#0000ff; stroke-width:3.2; stroke-opacity:1\"/>\n",
       "<line clip-path=\"url(#clip542)\" x1=\"2087.01\" y1=\"1270.48\" x2=\"2071.01\" y2=\"1270.48\" style=\"stroke:#0000ff; stroke-width:3.2; stroke-opacity:1\"/>\n",
       "<line clip-path=\"url(#clip542)\" x1=\"2087.01\" y1=\"1270.48\" x2=\"2087.01\" y2=\"1286.48\" style=\"stroke:#0000ff; stroke-width:3.2; stroke-opacity:1\"/>\n",
       "<line clip-path=\"url(#clip542)\" x1=\"2087.01\" y1=\"1270.48\" x2=\"2103.01\" y2=\"1270.48\" style=\"stroke:#0000ff; stroke-width:3.2; stroke-opacity:1\"/>\n",
       "<line clip-path=\"url(#clip542)\" x1=\"2128.08\" y1=\"1280.64\" x2=\"2128.08\" y2=\"1264.64\" style=\"stroke:#0000ff; stroke-width:3.2; stroke-opacity:1\"/>\n",
       "<line clip-path=\"url(#clip542)\" x1=\"2128.08\" y1=\"1280.64\" x2=\"2112.08\" y2=\"1280.64\" style=\"stroke:#0000ff; stroke-width:3.2; stroke-opacity:1\"/>\n",
       "<line clip-path=\"url(#clip542)\" x1=\"2128.08\" y1=\"1280.64\" x2=\"2128.08\" y2=\"1296.64\" style=\"stroke:#0000ff; stroke-width:3.2; stroke-opacity:1\"/>\n",
       "<line clip-path=\"url(#clip542)\" x1=\"2128.08\" y1=\"1280.64\" x2=\"2144.08\" y2=\"1280.64\" style=\"stroke:#0000ff; stroke-width:3.2; stroke-opacity:1\"/>\n",
       "<line clip-path=\"url(#clip542)\" x1=\"2169.16\" y1=\"1286.22\" x2=\"2169.16\" y2=\"1270.22\" style=\"stroke:#0000ff; stroke-width:3.2; stroke-opacity:1\"/>\n",
       "<line clip-path=\"url(#clip542)\" x1=\"2169.16\" y1=\"1286.22\" x2=\"2153.16\" y2=\"1286.22\" style=\"stroke:#0000ff; stroke-width:3.2; stroke-opacity:1\"/>\n",
       "<line clip-path=\"url(#clip542)\" x1=\"2169.16\" y1=\"1286.22\" x2=\"2169.16\" y2=\"1302.22\" style=\"stroke:#0000ff; stroke-width:3.2; stroke-opacity:1\"/>\n",
       "<line clip-path=\"url(#clip542)\" x1=\"2169.16\" y1=\"1286.22\" x2=\"2185.16\" y2=\"1286.22\" style=\"stroke:#0000ff; stroke-width:3.2; stroke-opacity:1\"/>\n",
       "<line clip-path=\"url(#clip542)\" x1=\"2210.23\" y1=\"1282.16\" x2=\"2210.23\" y2=\"1266.16\" style=\"stroke:#0000ff; stroke-width:3.2; stroke-opacity:1\"/>\n",
       "<line clip-path=\"url(#clip542)\" x1=\"2210.23\" y1=\"1282.16\" x2=\"2194.23\" y2=\"1282.16\" style=\"stroke:#0000ff; stroke-width:3.2; stroke-opacity:1\"/>\n",
       "<line clip-path=\"url(#clip542)\" x1=\"2210.23\" y1=\"1282.16\" x2=\"2210.23\" y2=\"1298.16\" style=\"stroke:#0000ff; stroke-width:3.2; stroke-opacity:1\"/>\n",
       "<line clip-path=\"url(#clip542)\" x1=\"2210.23\" y1=\"1282.16\" x2=\"2226.23\" y2=\"1282.16\" style=\"stroke:#0000ff; stroke-width:3.2; stroke-opacity:1\"/>\n",
       "<line clip-path=\"url(#clip542)\" x1=\"2251.3\" y1=\"1270.48\" x2=\"2251.3\" y2=\"1254.48\" style=\"stroke:#0000ff; stroke-width:3.2; stroke-opacity:1\"/>\n",
       "<line clip-path=\"url(#clip542)\" x1=\"2251.3\" y1=\"1270.48\" x2=\"2235.3\" y2=\"1270.48\" style=\"stroke:#0000ff; stroke-width:3.2; stroke-opacity:1\"/>\n",
       "<line clip-path=\"url(#clip542)\" x1=\"2251.3\" y1=\"1270.48\" x2=\"2251.3\" y2=\"1286.48\" style=\"stroke:#0000ff; stroke-width:3.2; stroke-opacity:1\"/>\n",
       "<line clip-path=\"url(#clip542)\" x1=\"2251.3\" y1=\"1270.48\" x2=\"2267.3\" y2=\"1270.48\" style=\"stroke:#0000ff; stroke-width:3.2; stroke-opacity:1\"/>\n",
       "<line clip-path=\"url(#clip542)\" x1=\"2292.38\" y1=\"1237.47\" x2=\"2292.38\" y2=\"1221.47\" style=\"stroke:#0000ff; stroke-width:3.2; stroke-opacity:1\"/>\n",
       "<line clip-path=\"url(#clip542)\" x1=\"2292.38\" y1=\"1237.47\" x2=\"2276.38\" y2=\"1237.47\" style=\"stroke:#0000ff; stroke-width:3.2; stroke-opacity:1\"/>\n",
       "<line clip-path=\"url(#clip542)\" x1=\"2292.38\" y1=\"1237.47\" x2=\"2292.38\" y2=\"1253.47\" style=\"stroke:#0000ff; stroke-width:3.2; stroke-opacity:1\"/>\n",
       "<line clip-path=\"url(#clip542)\" x1=\"2292.38\" y1=\"1237.47\" x2=\"2308.38\" y2=\"1237.47\" style=\"stroke:#0000ff; stroke-width:3.2; stroke-opacity:1\"/>\n",
       "<polyline clip-path=\"url(#clip542)\" style=\"stroke:#ff0000; stroke-linecap:round; stroke-linejoin:round; stroke-width:4; stroke-opacity:1; fill:none\" points=\"279.759,1381.7 320.833,1378.14 361.906,1376.11 402.98,1372.05 444.054,1364.43 485.128,1356.31 526.202,1351.74 567.276,1346.15 608.35,1340.56 649.423,1316.19 690.497,1304.51 731.571,1318.73 772.645,1296.38 813.719,1288.26 854.793,1244.07 895.866,1233.41 936.94,1203.95 978.014,1201.41 1019.09,1176.02 1060.16,1118.13 1101.24,1157.74 1142.31,1126.76 1183.38,1080.55 1224.46,1064.8 1265.53,1049.57 1306.6,1083.09 1347.68,1040.43 1388.75,1052.62 1429.83,1022.14 1470.9,977.962 1511.97,957.14 1553.05,944.444 1594.12,916.513 1635.2,908.895 1676.27,898.23 1717.34,870.299 1758.42,817.483 1799.49,770.761 1840.57,770.253 1881.64,751.971 1922.71,720.992 1963.79,688.998 2004.86,686.967 2045.93,665.637 2087.01,664.114 2128.08,658.527 2169.16,648.37 2210.23,613.329 2251.3,608.759 2292.38,573.209 \"/>\n",
       "<path clip-path=\"url(#clip542)\" d=\"M279.759 1365.7 L263.759 1381.7 L279.759 1397.7 L295.759 1381.7 L279.759 1365.7 Z\" fill=\"#ff0000\" fill-rule=\"evenodd\" fill-opacity=\"1\" stroke=\"#000000\" stroke-opacity=\"1\" stroke-width=\"3.2\"/>\n",
       "<path clip-path=\"url(#clip542)\" d=\"M320.833 1362.14 L304.833 1378.14 L320.833 1394.14 L336.833 1378.14 L320.833 1362.14 Z\" fill=\"#ff0000\" fill-rule=\"evenodd\" fill-opacity=\"1\" stroke=\"#000000\" stroke-opacity=\"1\" stroke-width=\"3.2\"/>\n",
       "<path clip-path=\"url(#clip542)\" d=\"M361.906 1360.11 L345.906 1376.11 L361.906 1392.11 L377.906 1376.11 L361.906 1360.11 Z\" fill=\"#ff0000\" fill-rule=\"evenodd\" fill-opacity=\"1\" stroke=\"#000000\" stroke-opacity=\"1\" stroke-width=\"3.2\"/>\n",
       "<path clip-path=\"url(#clip542)\" d=\"M402.98 1356.05 L386.98 1372.05 L402.98 1388.05 L418.98 1372.05 L402.98 1356.05 Z\" fill=\"#ff0000\" fill-rule=\"evenodd\" fill-opacity=\"1\" stroke=\"#000000\" stroke-opacity=\"1\" stroke-width=\"3.2\"/>\n",
       "<path clip-path=\"url(#clip542)\" d=\"M444.054 1348.43 L428.054 1364.43 L444.054 1380.43 L460.054 1364.43 L444.054 1348.43 Z\" fill=\"#ff0000\" fill-rule=\"evenodd\" fill-opacity=\"1\" stroke=\"#000000\" stroke-opacity=\"1\" stroke-width=\"3.2\"/>\n",
       "<path clip-path=\"url(#clip542)\" d=\"M485.128 1340.31 L469.128 1356.31 L485.128 1372.31 L501.128 1356.31 L485.128 1340.31 Z\" fill=\"#ff0000\" fill-rule=\"evenodd\" fill-opacity=\"1\" stroke=\"#000000\" stroke-opacity=\"1\" stroke-width=\"3.2\"/>\n",
       "<path clip-path=\"url(#clip542)\" d=\"M526.202 1335.74 L510.202 1351.74 L526.202 1367.74 L542.202 1351.74 L526.202 1335.74 Z\" fill=\"#ff0000\" fill-rule=\"evenodd\" fill-opacity=\"1\" stroke=\"#000000\" stroke-opacity=\"1\" stroke-width=\"3.2\"/>\n",
       "<path clip-path=\"url(#clip542)\" d=\"M567.276 1330.15 L551.276 1346.15 L567.276 1362.15 L583.276 1346.15 L567.276 1330.15 Z\" fill=\"#ff0000\" fill-rule=\"evenodd\" fill-opacity=\"1\" stroke=\"#000000\" stroke-opacity=\"1\" stroke-width=\"3.2\"/>\n",
       "<path clip-path=\"url(#clip542)\" d=\"M608.35 1324.56 L592.35 1340.56 L608.35 1356.56 L624.35 1340.56 L608.35 1324.56 Z\" fill=\"#ff0000\" fill-rule=\"evenodd\" fill-opacity=\"1\" stroke=\"#000000\" stroke-opacity=\"1\" stroke-width=\"3.2\"/>\n",
       "<path clip-path=\"url(#clip542)\" d=\"M649.423 1300.19 L633.423 1316.19 L649.423 1332.19 L665.423 1316.19 L649.423 1300.19 Z\" fill=\"#ff0000\" fill-rule=\"evenodd\" fill-opacity=\"1\" stroke=\"#000000\" stroke-opacity=\"1\" stroke-width=\"3.2\"/>\n",
       "<path clip-path=\"url(#clip542)\" d=\"M690.497 1288.51 L674.497 1304.51 L690.497 1320.51 L706.497 1304.51 L690.497 1288.51 Z\" fill=\"#ff0000\" fill-rule=\"evenodd\" fill-opacity=\"1\" stroke=\"#000000\" stroke-opacity=\"1\" stroke-width=\"3.2\"/>\n",
       "<path clip-path=\"url(#clip542)\" d=\"M731.571 1302.73 L715.571 1318.73 L731.571 1334.73 L747.571 1318.73 L731.571 1302.73 Z\" fill=\"#ff0000\" fill-rule=\"evenodd\" fill-opacity=\"1\" stroke=\"#000000\" stroke-opacity=\"1\" stroke-width=\"3.2\"/>\n",
       "<path clip-path=\"url(#clip542)\" d=\"M772.645 1280.38 L756.645 1296.38 L772.645 1312.38 L788.645 1296.38 L772.645 1280.38 Z\" fill=\"#ff0000\" fill-rule=\"evenodd\" fill-opacity=\"1\" stroke=\"#000000\" stroke-opacity=\"1\" stroke-width=\"3.2\"/>\n",
       "<path clip-path=\"url(#clip542)\" d=\"M813.719 1272.26 L797.719 1288.26 L813.719 1304.26 L829.719 1288.26 L813.719 1272.26 Z\" fill=\"#ff0000\" fill-rule=\"evenodd\" fill-opacity=\"1\" stroke=\"#000000\" stroke-opacity=\"1\" stroke-width=\"3.2\"/>\n",
       "<path clip-path=\"url(#clip542)\" d=\"M854.793 1228.07 L838.793 1244.07 L854.793 1260.07 L870.793 1244.07 L854.793 1228.07 Z\" fill=\"#ff0000\" fill-rule=\"evenodd\" fill-opacity=\"1\" stroke=\"#000000\" stroke-opacity=\"1\" stroke-width=\"3.2\"/>\n",
       "<path clip-path=\"url(#clip542)\" d=\"M895.866 1217.41 L879.866 1233.41 L895.866 1249.41 L911.866 1233.41 L895.866 1217.41 Z\" fill=\"#ff0000\" fill-rule=\"evenodd\" fill-opacity=\"1\" stroke=\"#000000\" stroke-opacity=\"1\" stroke-width=\"3.2\"/>\n",
       "<path clip-path=\"url(#clip542)\" d=\"M936.94 1187.95 L920.94 1203.95 L936.94 1219.95 L952.94 1203.95 L936.94 1187.95 Z\" fill=\"#ff0000\" fill-rule=\"evenodd\" fill-opacity=\"1\" stroke=\"#000000\" stroke-opacity=\"1\" stroke-width=\"3.2\"/>\n",
       "<path clip-path=\"url(#clip542)\" d=\"M978.014 1185.41 L962.014 1201.41 L978.014 1217.41 L994.014 1201.41 L978.014 1185.41 Z\" fill=\"#ff0000\" fill-rule=\"evenodd\" fill-opacity=\"1\" stroke=\"#000000\" stroke-opacity=\"1\" stroke-width=\"3.2\"/>\n",
       "<path clip-path=\"url(#clip542)\" d=\"M1019.09 1160.02 L1003.09 1176.02 L1019.09 1192.02 L1035.09 1176.02 L1019.09 1160.02 Z\" fill=\"#ff0000\" fill-rule=\"evenodd\" fill-opacity=\"1\" stroke=\"#000000\" stroke-opacity=\"1\" stroke-width=\"3.2\"/>\n",
       "<path clip-path=\"url(#clip542)\" d=\"M1060.16 1102.13 L1044.16 1118.13 L1060.16 1134.13 L1076.16 1118.13 L1060.16 1102.13 Z\" fill=\"#ff0000\" fill-rule=\"evenodd\" fill-opacity=\"1\" stroke=\"#000000\" stroke-opacity=\"1\" stroke-width=\"3.2\"/>\n",
       "<path clip-path=\"url(#clip542)\" d=\"M1101.24 1141.74 L1085.24 1157.74 L1101.24 1173.74 L1117.24 1157.74 L1101.24 1141.74 Z\" fill=\"#ff0000\" fill-rule=\"evenodd\" fill-opacity=\"1\" stroke=\"#000000\" stroke-opacity=\"1\" stroke-width=\"3.2\"/>\n",
       "<path clip-path=\"url(#clip542)\" d=\"M1142.31 1110.76 L1126.31 1126.76 L1142.31 1142.76 L1158.31 1126.76 L1142.31 1110.76 Z\" fill=\"#ff0000\" fill-rule=\"evenodd\" fill-opacity=\"1\" stroke=\"#000000\" stroke-opacity=\"1\" stroke-width=\"3.2\"/>\n",
       "<path clip-path=\"url(#clip542)\" d=\"M1183.38 1064.55 L1167.38 1080.55 L1183.38 1096.55 L1199.38 1080.55 L1183.38 1064.55 Z\" fill=\"#ff0000\" fill-rule=\"evenodd\" fill-opacity=\"1\" stroke=\"#000000\" stroke-opacity=\"1\" stroke-width=\"3.2\"/>\n",
       "<path clip-path=\"url(#clip542)\" d=\"M1224.46 1048.8 L1208.46 1064.8 L1224.46 1080.8 L1240.46 1064.8 L1224.46 1048.8 Z\" fill=\"#ff0000\" fill-rule=\"evenodd\" fill-opacity=\"1\" stroke=\"#000000\" stroke-opacity=\"1\" stroke-width=\"3.2\"/>\n",
       "<path clip-path=\"url(#clip542)\" d=\"M1265.53 1033.57 L1249.53 1049.57 L1265.53 1065.57 L1281.53 1049.57 L1265.53 1033.57 Z\" fill=\"#ff0000\" fill-rule=\"evenodd\" fill-opacity=\"1\" stroke=\"#000000\" stroke-opacity=\"1\" stroke-width=\"3.2\"/>\n",
       "<path clip-path=\"url(#clip542)\" d=\"M1306.6 1067.09 L1290.6 1083.09 L1306.6 1099.09 L1322.6 1083.09 L1306.6 1067.09 Z\" fill=\"#ff0000\" fill-rule=\"evenodd\" fill-opacity=\"1\" stroke=\"#000000\" stroke-opacity=\"1\" stroke-width=\"3.2\"/>\n",
       "<path clip-path=\"url(#clip542)\" d=\"M1347.68 1024.43 L1331.68 1040.43 L1347.68 1056.43 L1363.68 1040.43 L1347.68 1024.43 Z\" fill=\"#ff0000\" fill-rule=\"evenodd\" fill-opacity=\"1\" stroke=\"#000000\" stroke-opacity=\"1\" stroke-width=\"3.2\"/>\n",
       "<path clip-path=\"url(#clip542)\" d=\"M1388.75 1036.62 L1372.75 1052.62 L1388.75 1068.62 L1404.75 1052.62 L1388.75 1036.62 Z\" fill=\"#ff0000\" fill-rule=\"evenodd\" fill-opacity=\"1\" stroke=\"#000000\" stroke-opacity=\"1\" stroke-width=\"3.2\"/>\n",
       "<path clip-path=\"url(#clip542)\" d=\"M1429.83 1006.14 L1413.83 1022.14 L1429.83 1038.14 L1445.83 1022.14 L1429.83 1006.14 Z\" fill=\"#ff0000\" fill-rule=\"evenodd\" fill-opacity=\"1\" stroke=\"#000000\" stroke-opacity=\"1\" stroke-width=\"3.2\"/>\n",
       "<path clip-path=\"url(#clip542)\" d=\"M1470.9 961.962 L1454.9 977.962 L1470.9 993.962 L1486.9 977.962 L1470.9 961.962 Z\" fill=\"#ff0000\" fill-rule=\"evenodd\" fill-opacity=\"1\" stroke=\"#000000\" stroke-opacity=\"1\" stroke-width=\"3.2\"/>\n",
       "<path clip-path=\"url(#clip542)\" d=\"M1511.97 941.14 L1495.97 957.14 L1511.97 973.14 L1527.97 957.14 L1511.97 941.14 Z\" fill=\"#ff0000\" fill-rule=\"evenodd\" fill-opacity=\"1\" stroke=\"#000000\" stroke-opacity=\"1\" stroke-width=\"3.2\"/>\n",
       "<path clip-path=\"url(#clip542)\" d=\"M1553.05 928.444 L1537.05 944.444 L1553.05 960.444 L1569.05 944.444 L1553.05 928.444 Z\" fill=\"#ff0000\" fill-rule=\"evenodd\" fill-opacity=\"1\" stroke=\"#000000\" stroke-opacity=\"1\" stroke-width=\"3.2\"/>\n",
       "<path clip-path=\"url(#clip542)\" d=\"M1594.12 900.513 L1578.12 916.513 L1594.12 932.513 L1610.12 916.513 L1594.12 900.513 Z\" fill=\"#ff0000\" fill-rule=\"evenodd\" fill-opacity=\"1\" stroke=\"#000000\" stroke-opacity=\"1\" stroke-width=\"3.2\"/>\n",
       "<path clip-path=\"url(#clip542)\" d=\"M1635.2 892.895 L1619.2 908.895 L1635.2 924.895 L1651.2 908.895 L1635.2 892.895 Z\" fill=\"#ff0000\" fill-rule=\"evenodd\" fill-opacity=\"1\" stroke=\"#000000\" stroke-opacity=\"1\" stroke-width=\"3.2\"/>\n",
       "<path clip-path=\"url(#clip542)\" d=\"M1676.27 882.23 L1660.27 898.23 L1676.27 914.23 L1692.27 898.23 L1676.27 882.23 Z\" fill=\"#ff0000\" fill-rule=\"evenodd\" fill-opacity=\"1\" stroke=\"#000000\" stroke-opacity=\"1\" stroke-width=\"3.2\"/>\n",
       "<path clip-path=\"url(#clip542)\" d=\"M1717.34 854.299 L1701.34 870.299 L1717.34 886.299 L1733.34 870.299 L1717.34 854.299 Z\" fill=\"#ff0000\" fill-rule=\"evenodd\" fill-opacity=\"1\" stroke=\"#000000\" stroke-opacity=\"1\" stroke-width=\"3.2\"/>\n",
       "<path clip-path=\"url(#clip542)\" d=\"M1758.42 801.483 L1742.42 817.483 L1758.42 833.483 L1774.42 817.483 L1758.42 801.483 Z\" fill=\"#ff0000\" fill-rule=\"evenodd\" fill-opacity=\"1\" stroke=\"#000000\" stroke-opacity=\"1\" stroke-width=\"3.2\"/>\n",
       "<path clip-path=\"url(#clip542)\" d=\"M1799.49 754.761 L1783.49 770.761 L1799.49 786.761 L1815.49 770.761 L1799.49 754.761 Z\" fill=\"#ff0000\" fill-rule=\"evenodd\" fill-opacity=\"1\" stroke=\"#000000\" stroke-opacity=\"1\" stroke-width=\"3.2\"/>\n",
       "<path clip-path=\"url(#clip542)\" d=\"M1840.57 754.253 L1824.57 770.253 L1840.57 786.253 L1856.57 770.253 L1840.57 754.253 Z\" fill=\"#ff0000\" fill-rule=\"evenodd\" fill-opacity=\"1\" stroke=\"#000000\" stroke-opacity=\"1\" stroke-width=\"3.2\"/>\n",
       "<path clip-path=\"url(#clip542)\" d=\"M1881.64 735.971 L1865.64 751.971 L1881.64 767.971 L1897.64 751.971 L1881.64 735.971 Z\" fill=\"#ff0000\" fill-rule=\"evenodd\" fill-opacity=\"1\" stroke=\"#000000\" stroke-opacity=\"1\" stroke-width=\"3.2\"/>\n",
       "<path clip-path=\"url(#clip542)\" d=\"M1922.71 704.992 L1906.71 720.992 L1922.71 736.992 L1938.71 720.992 L1922.71 704.992 Z\" fill=\"#ff0000\" fill-rule=\"evenodd\" fill-opacity=\"1\" stroke=\"#000000\" stroke-opacity=\"1\" stroke-width=\"3.2\"/>\n",
       "<path clip-path=\"url(#clip542)\" d=\"M1963.79 672.998 L1947.79 688.998 L1963.79 704.998 L1979.79 688.998 L1963.79 672.998 Z\" fill=\"#ff0000\" fill-rule=\"evenodd\" fill-opacity=\"1\" stroke=\"#000000\" stroke-opacity=\"1\" stroke-width=\"3.2\"/>\n",
       "<path clip-path=\"url(#clip542)\" d=\"M2004.86 670.967 L1988.86 686.967 L2004.86 702.967 L2020.86 686.967 L2004.86 670.967 Z\" fill=\"#ff0000\" fill-rule=\"evenodd\" fill-opacity=\"1\" stroke=\"#000000\" stroke-opacity=\"1\" stroke-width=\"3.2\"/>\n",
       "<path clip-path=\"url(#clip542)\" d=\"M2045.93 649.637 L2029.93 665.637 L2045.93 681.637 L2061.93 665.637 L2045.93 649.637 Z\" fill=\"#ff0000\" fill-rule=\"evenodd\" fill-opacity=\"1\" stroke=\"#000000\" stroke-opacity=\"1\" stroke-width=\"3.2\"/>\n",
       "<path clip-path=\"url(#clip542)\" d=\"M2087.01 648.114 L2071.01 664.114 L2087.01 680.114 L2103.01 664.114 L2087.01 648.114 Z\" fill=\"#ff0000\" fill-rule=\"evenodd\" fill-opacity=\"1\" stroke=\"#000000\" stroke-opacity=\"1\" stroke-width=\"3.2\"/>\n",
       "<path clip-path=\"url(#clip542)\" d=\"M2128.08 642.527 L2112.08 658.527 L2128.08 674.527 L2144.08 658.527 L2128.08 642.527 Z\" fill=\"#ff0000\" fill-rule=\"evenodd\" fill-opacity=\"1\" stroke=\"#000000\" stroke-opacity=\"1\" stroke-width=\"3.2\"/>\n",
       "<path clip-path=\"url(#clip542)\" d=\"M2169.16 632.37 L2153.16 648.37 L2169.16 664.37 L2185.16 648.37 L2169.16 632.37 Z\" fill=\"#ff0000\" fill-rule=\"evenodd\" fill-opacity=\"1\" stroke=\"#000000\" stroke-opacity=\"1\" stroke-width=\"3.2\"/>\n",
       "<path clip-path=\"url(#clip542)\" d=\"M2210.23 597.329 L2194.23 613.329 L2210.23 629.329 L2226.23 613.329 L2210.23 597.329 Z\" fill=\"#ff0000\" fill-rule=\"evenodd\" fill-opacity=\"1\" stroke=\"#000000\" stroke-opacity=\"1\" stroke-width=\"3.2\"/>\n",
       "<path clip-path=\"url(#clip542)\" d=\"M2251.3 592.759 L2235.3 608.759 L2251.3 624.759 L2267.3 608.759 L2251.3 592.759 Z\" fill=\"#ff0000\" fill-rule=\"evenodd\" fill-opacity=\"1\" stroke=\"#000000\" stroke-opacity=\"1\" stroke-width=\"3.2\"/>\n",
       "<path clip-path=\"url(#clip542)\" d=\"M2292.38 557.209 L2276.38 573.209 L2292.38 589.209 L2308.38 573.209 L2292.38 557.209 Z\" fill=\"#ff0000\" fill-rule=\"evenodd\" fill-opacity=\"1\" stroke=\"#000000\" stroke-opacity=\"1\" stroke-width=\"3.2\"/>\n",
       "<path clip-path=\"url(#clip540)\" d=\"M290.493 300.469 L626.26 300.469 L626.26 93.1086 L290.493 93.1086  Z\" fill=\"#ffffff\" fill-rule=\"evenodd\" fill-opacity=\"1\"/>\n",
       "<polyline clip-path=\"url(#clip540)\" style=\"stroke:#000000; stroke-linecap:round; stroke-linejoin:round; stroke-width:4; stroke-opacity:1; fill:none\" points=\"290.493,300.469 626.26,300.469 626.26,93.1086 290.493,93.1086 290.493,300.469 \"/>\n",
       "<polyline clip-path=\"url(#clip540)\" style=\"stroke:#008000; stroke-linecap:round; stroke-linejoin:round; stroke-width:4; stroke-opacity:1; fill:none\" points=\"314.197,144.949 456.422,144.949 \"/>\n",
       "<circle clip-path=\"url(#clip540)\" cx=\"385.309\" cy=\"144.949\" r=\"19.7535\" fill=\"#008000\" fill-rule=\"evenodd\" fill-opacity=\"1\" stroke=\"#000000\" stroke-opacity=\"1\" stroke-width=\"5.12\"/>\n",
       "<path clip-path=\"url(#clip540)\" d=\"M480.126 151.997 L480.126 136.303 L484.385 136.303 L484.385 151.835 Q484.385 155.516 485.82 157.368 Q487.256 159.196 490.126 159.196 Q493.575 159.196 495.566 156.997 Q497.58 154.798 497.58 151.002 L497.58 136.303 L501.839 136.303 L501.839 162.229 L497.58 162.229 L497.58 158.247 Q496.029 160.608 493.969 161.766 Q491.932 162.9 489.223 162.9 Q484.756 162.9 482.441 160.122 Q480.126 157.344 480.126 151.997 M490.844 135.678 L490.844 135.678 Z\" fill=\"#000000\" fill-rule=\"evenodd\" fill-opacity=\"1\" /><path clip-path=\"url(#clip540)\" d=\"M532.163 146.581 L532.163 162.229 L527.904 162.229 L527.904 146.719 Q527.904 143.039 526.468 141.21 Q525.033 139.382 522.163 139.382 Q518.714 139.382 516.723 141.581 Q514.732 143.78 514.732 147.576 L514.732 162.229 L510.45 162.229 L510.45 136.303 L514.732 136.303 L514.732 140.331 Q516.26 137.993 518.32 136.835 Q520.404 135.678 523.112 135.678 Q527.58 135.678 529.871 138.456 Q532.163 141.21 532.163 146.581 Z\" fill=\"#000000\" fill-rule=\"evenodd\" fill-opacity=\"1\" /><path clip-path=\"url(#clip540)\" d=\"M559.315 137.298 L559.315 141.28 Q557.51 140.284 555.681 139.798 Q553.876 139.289 552.024 139.289 Q547.88 139.289 545.589 141.928 Q543.297 144.544 543.297 149.289 Q543.297 154.034 545.589 156.673 Q547.88 159.289 552.024 159.289 Q553.876 159.289 555.681 158.803 Q557.51 158.293 559.315 157.298 L559.315 161.233 Q557.533 162.067 555.612 162.483 Q553.714 162.9 551.561 162.9 Q545.704 162.9 542.255 159.219 Q538.806 155.539 538.806 149.289 Q538.806 142.946 542.279 139.312 Q545.774 135.678 551.839 135.678 Q553.806 135.678 555.681 136.095 Q557.556 136.488 559.315 137.298 Z\" fill=\"#000000\" fill-rule=\"evenodd\" fill-opacity=\"1\" /><path clip-path=\"url(#clip540)\" d=\"M567.325 156.349 L572.209 156.349 L572.209 162.229 L567.325 162.229 L567.325 156.349 Z\" fill=\"#000000\" fill-rule=\"evenodd\" fill-opacity=\"1\" /><polyline clip-path=\"url(#clip540)\" style=\"stroke:#0000ff; stroke-linecap:round; stroke-linejoin:round; stroke-width:4; stroke-opacity:1; fill:none\" points=\"314.197,196.789 456.422,196.789 \"/>\n",
       "<line clip-path=\"url(#clip540)\" x1=\"385.309\" y1=\"196.789\" x2=\"385.309\" y2=\"174.84\" style=\"stroke:#0000ff; stroke-width:5.12; stroke-opacity:1\"/>\n",
       "<line clip-path=\"url(#clip540)\" x1=\"385.309\" y1=\"196.789\" x2=\"363.361\" y2=\"196.789\" style=\"stroke:#0000ff; stroke-width:5.12; stroke-opacity:1\"/>\n",
       "<line clip-path=\"url(#clip540)\" x1=\"385.309\" y1=\"196.789\" x2=\"385.309\" y2=\"218.737\" style=\"stroke:#0000ff; stroke-width:5.12; stroke-opacity:1\"/>\n",
       "<line clip-path=\"url(#clip540)\" x1=\"385.309\" y1=\"196.789\" x2=\"407.258\" y2=\"196.789\" style=\"stroke:#0000ff; stroke-width:5.12; stroke-opacity:1\"/>\n",
       "<path clip-path=\"url(#clip540)\" d=\"M498.899 201.129 Q498.899 196.43 496.955 193.768 Q495.033 191.083 491.654 191.083 Q488.274 191.083 486.33 193.768 Q484.408 196.43 484.408 201.129 Q484.408 205.828 486.33 208.513 Q488.274 211.175 491.654 211.175 Q495.033 211.175 496.955 208.513 Q498.899 205.828 498.899 201.129 M484.408 192.078 Q485.751 189.763 487.788 188.652 Q489.848 187.518 492.695 187.518 Q497.418 187.518 500.357 191.268 Q503.32 195.018 503.32 201.129 Q503.32 207.24 500.357 210.99 Q497.418 214.74 492.695 214.74 Q489.848 214.74 487.788 213.629 Q485.751 212.495 484.408 210.18 L484.408 214.069 L480.126 214.069 L480.126 178.05 L484.408 178.05 L484.408 192.078 Z\" fill=\"#000000\" fill-rule=\"evenodd\" fill-opacity=\"1\" /><path clip-path=\"url(#clip540)\" d=\"M510.381 188.143 L514.64 188.143 L514.64 214.069 L510.381 214.069 L510.381 188.143 M510.381 178.05 L514.64 178.05 L514.64 183.444 L510.381 183.444 L510.381 178.05 Z\" fill=\"#000000\" fill-rule=\"evenodd\" fill-opacity=\"1\" /><path clip-path=\"url(#clip540)\" d=\"M540.612 200.805 Q540.612 196.175 538.691 193.629 Q536.792 191.083 533.343 191.083 Q529.917 191.083 527.996 193.629 Q526.098 196.175 526.098 200.805 Q526.098 205.411 527.996 207.958 Q529.917 210.504 533.343 210.504 Q536.792 210.504 538.691 207.958 Q540.612 205.411 540.612 200.805 M544.871 210.851 Q544.871 217.471 541.931 220.689 Q538.992 223.93 532.927 223.93 Q530.681 223.93 528.691 223.582 Q526.7 223.258 524.825 222.564 L524.825 218.42 Q526.7 219.439 528.529 219.925 Q530.357 220.411 532.255 220.411 Q536.445 220.411 538.529 218.212 Q540.612 216.036 540.612 211.615 L540.612 209.508 Q539.292 211.8 537.232 212.934 Q535.172 214.069 532.302 214.069 Q527.533 214.069 524.617 210.434 Q521.7 206.8 521.7 200.805 Q521.7 194.786 524.617 191.152 Q527.533 187.518 532.302 187.518 Q535.172 187.518 537.232 188.652 Q539.292 189.786 540.612 192.078 L540.612 188.143 L544.871 188.143 L544.871 210.851 Z\" fill=\"#000000\" fill-rule=\"evenodd\" fill-opacity=\"1\" /><path clip-path=\"url(#clip540)\" d=\"M551.491 199.184 L563.968 199.184 L563.968 202.981 L551.491 202.981 L551.491 199.184 Z\" fill=\"#000000\" fill-rule=\"evenodd\" fill-opacity=\"1\" /><path clip-path=\"url(#clip540)\" d=\"M570.936 179.509 L577.903 179.509 L586.723 203.027 L595.588 179.509 L602.556 179.509 L602.556 214.069 L597.996 214.069 L597.996 183.722 L589.084 207.425 L584.385 207.425 L575.473 183.722 L575.473 214.069 L570.936 214.069 L570.936 179.509 Z\" fill=\"#000000\" fill-rule=\"evenodd\" fill-opacity=\"1\" /><polyline clip-path=\"url(#clip540)\" style=\"stroke:#ff0000; stroke-linecap:round; stroke-linejoin:round; stroke-width:4; stroke-opacity:1; fill:none\" points=\"314.197,248.629 456.422,248.629 \"/>\n",
       "<path clip-path=\"url(#clip540)\" d=\"M385.309 226.68 L363.361 248.629 L385.309 270.577 L407.258 248.629 L385.309 226.68 Z\" fill=\"#ff0000\" fill-rule=\"evenodd\" fill-opacity=\"1\" stroke=\"#000000\" stroke-opacity=\"1\" stroke-width=\"5.12\"/>\n",
       "<path clip-path=\"url(#clip540)\" d=\"M500.473 244.96 Q502.07 242.089 504.293 240.724 Q506.515 239.358 509.524 239.358 Q513.575 239.358 515.774 242.205 Q517.973 245.029 517.973 250.261 L517.973 265.909 L513.691 265.909 L513.691 250.399 Q513.691 246.673 512.371 244.867 Q511.052 243.062 508.344 243.062 Q505.033 243.062 503.112 245.261 Q501.191 247.46 501.191 251.256 L501.191 265.909 L496.908 265.909 L496.908 250.399 Q496.908 246.649 495.589 244.867 Q494.27 243.062 491.515 243.062 Q488.251 243.062 486.33 245.284 Q484.408 247.483 484.408 251.256 L484.408 265.909 L480.126 265.909 L480.126 239.983 L484.408 239.983 L484.408 244.011 Q485.867 241.626 487.904 240.492 Q489.941 239.358 492.742 239.358 Q495.566 239.358 497.533 240.793 Q499.524 242.228 500.473 244.96 Z\" fill=\"#000000\" fill-rule=\"evenodd\" fill-opacity=\"1\" /><path clip-path=\"url(#clip540)\" d=\"M530.589 262.02 L530.589 275.77 L526.306 275.77 L526.306 239.983 L530.589 239.983 L530.589 243.918 Q531.931 241.603 533.968 240.492 Q536.029 239.358 538.876 239.358 Q543.598 239.358 546.538 243.108 Q549.501 246.858 549.501 252.969 Q549.501 259.08 546.538 262.83 Q543.598 266.58 538.876 266.58 Q536.029 266.58 533.968 265.469 Q531.931 264.335 530.589 262.02 M545.079 252.969 Q545.079 248.27 543.135 245.608 Q541.214 242.923 537.834 242.923 Q534.454 242.923 532.51 245.608 Q530.589 248.27 530.589 252.969 Q530.589 257.668 532.51 260.353 Q534.454 263.015 537.834 263.015 Q541.214 263.015 543.135 260.353 Q545.079 257.668 545.079 252.969 Z\" fill=\"#000000\" fill-rule=\"evenodd\" fill-opacity=\"1\" /><path clip-path=\"url(#clip540)\" d=\"M575.218 240.978 L575.218 244.96 Q573.413 243.964 571.584 243.478 Q569.778 242.969 567.927 242.969 Q563.783 242.969 561.491 245.608 Q559.2 248.224 559.2 252.969 Q559.2 257.714 561.491 260.353 Q563.783 262.969 567.927 262.969 Q569.778 262.969 571.584 262.483 Q573.413 261.973 575.218 260.978 L575.218 264.913 Q573.436 265.747 571.514 266.163 Q569.616 266.58 567.464 266.58 Q561.607 266.58 558.158 262.899 Q554.709 259.219 554.709 252.969 Q554.709 246.626 558.181 242.992 Q561.677 239.358 567.741 239.358 Q569.709 239.358 571.584 239.775 Q573.459 240.168 575.218 240.978 Z\" fill=\"#000000\" fill-rule=\"evenodd\" fill-opacity=\"1\" /><path clip-path=\"url(#clip540)\" d=\"M601.283 240.978 L601.283 244.96 Q599.477 243.964 597.649 243.478 Q595.843 242.969 593.991 242.969 Q589.848 242.969 587.556 245.608 Q585.264 248.224 585.264 252.969 Q585.264 257.714 587.556 260.353 Q589.848 262.969 593.991 262.969 Q595.843 262.969 597.649 262.483 Q599.477 261.973 601.283 260.978 L601.283 264.913 Q599.5 265.747 597.579 266.163 Q595.681 266.58 593.528 266.58 Q587.672 266.58 584.223 262.899 Q580.774 259.219 580.774 252.969 Q580.774 246.626 584.246 242.992 Q587.741 239.358 593.806 239.358 Q595.774 239.358 597.649 239.775 Q599.524 240.168 601.283 240.978 Z\" fill=\"#000000\" fill-rule=\"evenodd\" fill-opacity=\"1\" /></svg>\n"
      ]
     },
     "metadata": {},
     "output_type": "display_data"
    }
   ],
   "source": [
    "gr()\n",
    "\n",
    "p2 = plot(xlabel=\"# reactors\", ylabel=\"sol. time [s]\",gridlinewidth=2)\n",
    "p2 = plot!(1:nScenTotal,solTimeTraj_r[1,:], linecolor=:green, marker=:circle, markercolor = :green)\n",
    "p2 = plot!(1:nScenTotal,solTimeTraj_r[2,:], linecolor=:blue, marker=:cross, markercolor = :blue)\n",
    "p2 = plot!(1:nScenTotal,solTimeTraj_r[3,:], linecolor=:red, marker=:diamond, markercolor = :red)\n",
    "p2.series_list[1][:label] = \"unc.\"\n",
    "p2.series_list[2][:label] = \"big-M\"\n",
    "p2.series_list[3][:label] = \"mpcc\"\n",
    "\n",
    "display(p2)"
   ]
  },
  {
   "cell_type": "markdown",
   "id": "0ffe348c",
   "metadata": {},
   "source": [
    "# Checking if trajectories match for more scenarios and reactors\n",
    "- arbitrarily chosen number of scenarios and reactors"
   ]
  },
  {
   "cell_type": "code",
   "execution_count": 16,
   "id": "5916ca79",
   "metadata": {},
   "outputs": [
    {
     "data": {
      "text/plain": [
       "-4.828680350715992"
      ]
     },
     "metadata": {},
     "output_type": "display_data"
    },
    {
     "data": {
      "text/plain": [
       "-4.828678039424476"
      ]
     },
     "metadata": {},
     "output_type": "display_data"
    },
    {
     "data": {
      "text/plain": [
       "-4.830672703563495"
      ]
     },
     "metadata": {},
     "output_type": "display_data"
    }
   ],
   "source": [
    "nSCheck = 3 # number of scenarios\n",
    "nRCheck = 3 # number of reactors in parallel\n",
    "\n",
    "# Extracting solution for plotting\n",
    "yTraj = Array{Float64}(undef,3,pD,nSCheck)\n",
    "uTraj = Array{Float64}(undef,3,pD,nSCheck) \n",
    "yspTraj = Array{Float64}(undef,3,pD,nSCheck) \n",
    "\n",
    "#equiprobable scenarios\n",
    "pScheck = 1.0/nSCheck;\n",
    "\n",
    "# Number of states\n",
    "nx = 2*nRCheck;\n",
    "\n",
    "# Initial conditions (deviation form)\n",
    "xInit_0 = repeat([0.3583;0.6418] .- x0, outer = [nRCheck,1]);\n",
    "uInit_0 = 1.0 - u0;\n",
    "\n",
    "for opti in 1:3\n",
    "    sol_dict = MS_CLDRTO(xInit_0,uInit_0,nRCheck,nSCheck,pScheck,solNominal,opti)\n",
    "    #display(sol_dict['ϕ'])\n",
    "    for ii in 1:pD\n",
    "        for ss in 1:nSCheck\n",
    "            # transforming from deviation form\n",
    "            yTraj[opti,ii,ss] = sol_dict['y'][ii,ss] + y0\n",
    "            yspTraj[opti,ii,ss] = sol_dict['s'][ii,ss] + y0\n",
    "            uTraj[opti,ii,ss] = sol_dict['u'][ii,1,ss] + u0\n",
    "        end\n",
    "    end\n",
    "end;"
   ]
  },
  {
   "cell_type": "code",
   "execution_count": 17,
   "id": "3d9ec8ea",
   "metadata": {},
   "outputs": [],
   "source": [
    "# time series for plotting\n",
    "ts = Vector{Float64}(undef,pD) \n",
    "for i in 1:pD\n",
    "    ts[i] = 1*i\n",
    "end\n",
    "\n",
    "# Creating color array\n",
    "CList = reshape( range(colorant\"red\", stop=colorant\"blue\",length=nSCheck), 1, nSCheck);\n",
    "#display(CList)\n",
    "MList =[:cross, :circle, :diamond];"
   ]
  },
  {
   "cell_type": "code",
   "execution_count": 18,
   "id": "57083049",
   "metadata": {},
   "outputs": [
    {
     "data": {
      "image/svg+xml": [
       "<?xml version=\"1.0\" encoding=\"utf-8\"?>\n",
       "<svg xmlns=\"http://www.w3.org/2000/svg\" xmlns:xlink=\"http://www.w3.org/1999/xlink\" width=\"600\" height=\"400\" viewBox=\"0 0 2400 1600\">\n",
       "<defs>\n",
       "  <clipPath id=\"clip580\">\n",
       "    <rect x=\"0\" y=\"0\" width=\"2400\" height=\"1600\"/>\n",
       "  </clipPath>\n",
       "</defs>\n",
       "<path clip-path=\"url(#clip580)\" d=\"M0 1600 L2400 1600 L2400 0 L0 0  Z\" fill=\"#ffffff\" fill-rule=\"evenodd\" fill-opacity=\"1\"/>\n",
       "<defs>\n",
       "  <clipPath id=\"clip581\">\n",
       "    <rect x=\"480\" y=\"0\" width=\"1681\" height=\"1600\"/>\n",
       "  </clipPath>\n",
       "</defs>\n",
       "<path clip-path=\"url(#clip580)\" d=\"M219.866 356.513 L2352.76 356.513 L2352.76 47.2441 L219.866 47.2441  Z\" fill=\"#ffffff\" fill-rule=\"evenodd\" fill-opacity=\"1\"/>\n",
       "<defs>\n",
       "  <clipPath id=\"clip582\">\n",
       "    <rect x=\"219\" y=\"47\" width=\"2134\" height=\"310\"/>\n",
       "  </clipPath>\n",
       "</defs>\n",
       "<polyline clip-path=\"url(#clip582)\" style=\"stroke:#000000; stroke-linecap:round; stroke-linejoin:round; stroke-width:8; stroke-opacity:0.1; fill:none\" points=\"589.794,356.513 589.794,47.2441 \"/>\n",
       "<polyline clip-path=\"url(#clip582)\" style=\"stroke:#000000; stroke-linecap:round; stroke-linejoin:round; stroke-width:8; stroke-opacity:0.1; fill:none\" points=\"976.748,356.513 976.748,47.2441 \"/>\n",
       "<polyline clip-path=\"url(#clip582)\" style=\"stroke:#000000; stroke-linecap:round; stroke-linejoin:round; stroke-width:8; stroke-opacity:0.1; fill:none\" points=\"1363.7,356.513 1363.7,47.2441 \"/>\n",
       "<polyline clip-path=\"url(#clip582)\" style=\"stroke:#000000; stroke-linecap:round; stroke-linejoin:round; stroke-width:8; stroke-opacity:0.1; fill:none\" points=\"1750.66,356.513 1750.66,47.2441 \"/>\n",
       "<polyline clip-path=\"url(#clip582)\" style=\"stroke:#000000; stroke-linecap:round; stroke-linejoin:round; stroke-width:8; stroke-opacity:0.1; fill:none\" points=\"2137.61,356.513 2137.61,47.2441 \"/>\n",
       "<polyline clip-path=\"url(#clip580)\" style=\"stroke:#000000; stroke-linecap:round; stroke-linejoin:round; stroke-width:4; stroke-opacity:1; fill:none\" points=\"219.866,356.513 2352.76,356.513 \"/>\n",
       "<polyline clip-path=\"url(#clip580)\" style=\"stroke:#000000; stroke-linecap:round; stroke-linejoin:round; stroke-width:4; stroke-opacity:1; fill:none\" points=\"589.794,356.513 589.794,337.616 \"/>\n",
       "<polyline clip-path=\"url(#clip580)\" style=\"stroke:#000000; stroke-linecap:round; stroke-linejoin:round; stroke-width:4; stroke-opacity:1; fill:none\" points=\"976.748,356.513 976.748,337.616 \"/>\n",
       "<polyline clip-path=\"url(#clip580)\" style=\"stroke:#000000; stroke-linecap:round; stroke-linejoin:round; stroke-width:4; stroke-opacity:1; fill:none\" points=\"1363.7,356.513 1363.7,337.616 \"/>\n",
       "<polyline clip-path=\"url(#clip580)\" style=\"stroke:#000000; stroke-linecap:round; stroke-linejoin:round; stroke-width:4; stroke-opacity:1; fill:none\" points=\"1750.66,356.513 1750.66,337.616 \"/>\n",
       "<polyline clip-path=\"url(#clip580)\" style=\"stroke:#000000; stroke-linecap:round; stroke-linejoin:round; stroke-width:4; stroke-opacity:1; fill:none\" points=\"2137.61,356.513 2137.61,337.616 \"/>\n",
       "<path clip-path=\"url(#clip580)\" d=\"M580.072 384.353 L598.428 384.353 L598.428 388.288 L584.354 388.288 L584.354 396.761 Q585.373 396.413 586.391 396.251 Q587.41 396.066 588.428 396.066 Q594.215 396.066 597.595 399.237 Q600.975 402.409 600.975 407.825 Q600.975 413.404 597.502 416.506 Q594.03 419.584 587.711 419.584 Q585.535 419.584 583.266 419.214 Q581.021 418.844 578.614 418.103 L578.614 413.404 Q580.697 414.538 582.919 415.094 Q585.141 415.649 587.618 415.649 Q591.623 415.649 593.961 413.543 Q596.299 411.436 596.299 407.825 Q596.299 404.214 593.961 402.108 Q591.623 400.001 587.618 400.001 Q585.743 400.001 583.868 400.418 Q582.016 400.835 580.072 401.714 L580.072 384.353 Z\" fill=\"#000000\" fill-rule=\"evenodd\" fill-opacity=\"1\" /><path clip-path=\"url(#clip580)\" d=\"M951.436 414.978 L959.074 414.978 L959.074 388.612 L950.764 390.279 L950.764 386.02 L959.028 384.353 L963.704 384.353 L963.704 414.978 L971.343 414.978 L971.343 418.913 L951.436 418.913 L951.436 414.978 Z\" fill=\"#000000\" fill-rule=\"evenodd\" fill-opacity=\"1\" /><path clip-path=\"url(#clip580)\" d=\"M990.787 387.432 Q987.176 387.432 985.347 390.997 Q983.542 394.538 983.542 401.668 Q983.542 408.774 985.347 412.339 Q987.176 415.881 990.787 415.881 Q994.422 415.881 996.227 412.339 Q998.056 408.774 998.056 401.668 Q998.056 394.538 996.227 390.997 Q994.422 387.432 990.787 387.432 M990.787 383.728 Q996.597 383.728 999.653 388.335 Q1002.73 392.918 1002.73 401.668 Q1002.73 410.395 999.653 415.001 Q996.597 419.584 990.787 419.584 Q984.977 419.584 981.898 415.001 Q978.843 410.395 978.843 401.668 Q978.843 392.918 981.898 388.335 Q984.977 383.728 990.787 383.728 Z\" fill=\"#000000\" fill-rule=\"evenodd\" fill-opacity=\"1\" /><path clip-path=\"url(#clip580)\" d=\"M1338.89 414.978 L1346.53 414.978 L1346.53 388.612 L1338.22 390.279 L1338.22 386.02 L1346.48 384.353 L1351.16 384.353 L1351.16 414.978 L1358.79 414.978 L1358.79 418.913 L1338.89 418.913 L1338.89 414.978 Z\" fill=\"#000000\" fill-rule=\"evenodd\" fill-opacity=\"1\" /><path clip-path=\"url(#clip580)\" d=\"M1368.29 384.353 L1386.64 384.353 L1386.64 388.288 L1372.57 388.288 L1372.57 396.761 Q1373.59 396.413 1374.6 396.251 Q1375.62 396.066 1376.64 396.066 Q1382.43 396.066 1385.81 399.237 Q1389.19 402.409 1389.19 407.825 Q1389.19 413.404 1385.72 416.506 Q1382.24 419.584 1375.92 419.584 Q1373.75 419.584 1371.48 419.214 Q1369.23 418.844 1366.83 418.103 L1366.83 413.404 Q1368.91 414.538 1371.13 415.094 Q1373.35 415.649 1375.83 415.649 Q1379.84 415.649 1382.17 413.543 Q1384.51 411.436 1384.51 407.825 Q1384.51 404.214 1382.17 402.108 Q1379.84 400.001 1375.83 400.001 Q1373.96 400.001 1372.08 400.418 Q1370.23 400.835 1368.29 401.714 L1368.29 384.353 Z\" fill=\"#000000\" fill-rule=\"evenodd\" fill-opacity=\"1\" /><path clip-path=\"url(#clip580)\" d=\"M1729.43 414.978 L1745.75 414.978 L1745.75 418.913 L1723.8 418.913 L1723.8 414.978 Q1726.47 412.223 1731.05 407.594 Q1735.66 402.941 1736.84 401.598 Q1739.08 399.075 1739.96 397.339 Q1740.86 395.58 1740.86 393.89 Q1740.86 391.136 1738.92 389.399 Q1737 387.663 1733.9 387.663 Q1731.7 387.663 1729.24 388.427 Q1726.81 389.191 1724.04 390.742 L1724.04 386.02 Q1726.86 384.886 1729.31 384.307 Q1731.77 383.728 1733.8 383.728 Q1739.17 383.728 1742.37 386.413 Q1745.56 389.099 1745.56 393.589 Q1745.56 395.719 1744.75 397.64 Q1743.97 399.538 1741.86 402.131 Q1741.28 402.802 1738.18 406.02 Q1735.08 409.214 1729.43 414.978 Z\" fill=\"#000000\" fill-rule=\"evenodd\" fill-opacity=\"1\" /><path clip-path=\"url(#clip580)\" d=\"M1765.56 387.432 Q1761.95 387.432 1760.12 390.997 Q1758.32 394.538 1758.32 401.668 Q1758.32 408.774 1760.12 412.339 Q1761.95 415.881 1765.56 415.881 Q1769.2 415.881 1771 412.339 Q1772.83 408.774 1772.83 401.668 Q1772.83 394.538 1771 390.997 Q1769.2 387.432 1765.56 387.432 M1765.56 383.728 Q1771.37 383.728 1774.43 388.335 Q1777.51 392.918 1777.51 401.668 Q1777.51 410.395 1774.43 415.001 Q1771.37 419.584 1765.56 419.584 Q1759.75 419.584 1756.67 415.001 Q1753.62 410.395 1753.62 401.668 Q1753.62 392.918 1756.67 388.335 Q1759.75 383.728 1765.56 383.728 Z\" fill=\"#000000\" fill-rule=\"evenodd\" fill-opacity=\"1\" /><path clip-path=\"url(#clip580)\" d=\"M2116.88 414.978 L2133.2 414.978 L2133.2 418.913 L2111.26 418.913 L2111.26 414.978 Q2113.92 412.223 2118.5 407.594 Q2123.11 402.941 2124.29 401.598 Q2126.53 399.075 2127.41 397.339 Q2128.32 395.58 2128.32 393.89 Q2128.32 391.136 2126.37 389.399 Q2124.45 387.663 2121.35 387.663 Q2119.15 387.663 2116.7 388.427 Q2114.26 389.191 2111.49 390.742 L2111.49 386.02 Q2114.31 384.886 2116.76 384.307 Q2119.22 383.728 2121.26 383.728 Q2126.63 383.728 2129.82 386.413 Q2133.01 389.099 2133.01 393.589 Q2133.01 395.719 2132.2 397.64 Q2131.42 399.538 2129.31 402.131 Q2128.73 402.802 2125.63 406.02 Q2122.53 409.214 2116.88 414.978 Z\" fill=\"#000000\" fill-rule=\"evenodd\" fill-opacity=\"1\" /><path clip-path=\"url(#clip580)\" d=\"M2143.06 384.353 L2161.42 384.353 L2161.42 388.288 L2147.34 388.288 L2147.34 396.761 Q2148.36 396.413 2149.38 396.251 Q2150.4 396.066 2151.42 396.066 Q2157.2 396.066 2160.58 399.237 Q2163.96 402.409 2163.96 407.825 Q2163.96 413.404 2160.49 416.506 Q2157.02 419.584 2150.7 419.584 Q2148.52 419.584 2146.26 419.214 Q2144.01 418.844 2141.6 418.103 L2141.6 413.404 Q2143.69 414.538 2145.91 415.094 Q2148.13 415.649 2150.61 415.649 Q2154.61 415.649 2156.95 413.543 Q2159.29 411.436 2159.29 407.825 Q2159.29 404.214 2156.95 402.108 Q2154.61 400.001 2150.61 400.001 Q2148.73 400.001 2146.86 400.418 Q2145.01 400.835 2143.06 401.714 L2143.06 384.353 Z\" fill=\"#000000\" fill-rule=\"evenodd\" fill-opacity=\"1\" /><path clip-path=\"url(#clip580)\" d=\"M1180.45 455.608 L1180.45 465.729 L1192.51 465.729 L1192.51 470.281 L1180.45 470.281 L1180.45 489.632 Q1180.45 493.993 1181.63 495.234 Q1182.84 496.476 1186.5 496.476 L1192.51 496.476 L1192.51 501.377 L1186.5 501.377 Q1179.72 501.377 1177.14 498.863 Q1174.56 496.316 1174.56 489.632 L1174.56 470.281 L1170.26 470.281 L1170.26 465.729 L1174.56 465.729 L1174.56 455.608 L1180.45 455.608 Z\" fill=\"#000000\" fill-rule=\"evenodd\" fill-opacity=\"1\" /><path clip-path=\"url(#clip580)\" d=\"M1200.21 465.729 L1206.07 465.729 L1206.07 501.377 L1200.21 501.377 L1200.21 465.729 M1200.21 451.852 L1206.07 451.852 L1206.07 459.268 L1200.21 459.268 L1200.21 451.852 Z\" fill=\"#000000\" fill-rule=\"evenodd\" fill-opacity=\"1\" /><path clip-path=\"url(#clip580)\" d=\"M1246.08 472.572 Q1248.28 468.626 1251.33 466.748 Q1254.39 464.87 1258.52 464.87 Q1264.09 464.87 1267.12 468.785 Q1270.14 472.668 1270.14 479.861 L1270.14 501.377 L1264.25 501.377 L1264.25 480.052 Q1264.25 474.928 1262.44 472.445 Q1260.63 469.962 1256.9 469.962 Q1252.35 469.962 1249.71 472.986 Q1247.07 476.01 1247.07 481.23 L1247.07 501.377 L1241.18 501.377 L1241.18 480.052 Q1241.18 474.896 1239.36 472.445 Q1237.55 469.962 1233.76 469.962 Q1229.27 469.962 1226.63 473.018 Q1223.99 476.042 1223.99 481.23 L1223.99 501.377 L1218.1 501.377 L1218.1 465.729 L1223.99 465.729 L1223.99 471.267 Q1226 467.989 1228.8 466.429 Q1231.6 464.87 1235.45 464.87 Q1239.33 464.87 1242.04 466.843 Q1244.77 468.817 1246.08 472.572 Z\" fill=\"#000000\" fill-rule=\"evenodd\" fill-opacity=\"1\" /><path clip-path=\"url(#clip580)\" d=\"M1312.31 482.089 L1312.31 484.954 L1285.39 484.954 Q1285.77 491.001 1289.02 494.184 Q1292.29 497.335 1298.12 497.335 Q1301.49 497.335 1304.64 496.507 Q1307.83 495.68 1310.95 494.025 L1310.95 499.563 Q1307.8 500.9 1304.49 501.6 Q1301.18 502.3 1297.77 502.3 Q1289.24 502.3 1284.24 497.335 Q1279.28 492.37 1279.28 483.903 Q1279.28 475.15 1283.99 470.026 Q1288.73 464.87 1296.75 464.87 Q1303.94 464.87 1308.11 469.517 Q1312.31 474.132 1312.31 482.089 M1306.46 480.37 Q1306.39 475.564 1303.75 472.7 Q1301.14 469.835 1296.81 469.835 Q1291.91 469.835 1288.95 472.604 Q1286.02 475.373 1285.58 480.402 L1306.46 480.37 Z\" fill=\"#000000\" fill-rule=\"evenodd\" fill-opacity=\"1\" /><path clip-path=\"url(#clip580)\" d=\"M1321.39 451.852 L1334.88 451.852 L1334.88 456.403 L1327.24 456.403 L1327.24 505.419 L1334.88 505.419 L1334.88 509.971 L1321.39 509.971 L1321.39 451.852 Z\" fill=\"#000000\" fill-rule=\"evenodd\" fill-opacity=\"1\" /><path clip-path=\"url(#clip580)\" d=\"M1376.99 479.861 L1376.99 501.377 L1371.13 501.377 L1371.13 480.052 Q1371.13 474.991 1369.16 472.477 Q1367.19 469.962 1363.24 469.962 Q1358.5 469.962 1355.76 472.986 Q1353.02 476.01 1353.02 481.23 L1353.02 501.377 L1347.14 501.377 L1347.14 451.852 L1353.02 451.852 L1353.02 471.267 Q1355.12 468.053 1357.96 466.461 Q1360.82 464.87 1364.55 464.87 Q1370.69 464.87 1373.84 468.689 Q1376.99 472.477 1376.99 479.861 Z\" fill=\"#000000\" fill-rule=\"evenodd\" fill-opacity=\"1\" /><path clip-path=\"url(#clip580)\" d=\"M1402.36 451.852 L1402.36 509.971 L1388.86 509.971 L1388.86 505.419 L1396.47 505.419 L1396.47 456.403 L1388.86 456.403 L1388.86 451.852 L1402.36 451.852 Z\" fill=\"#000000\" fill-rule=\"evenodd\" fill-opacity=\"1\" /><polyline clip-path=\"url(#clip582)\" style=\"stroke:#000000; stroke-linecap:round; stroke-linejoin:round; stroke-width:8; stroke-opacity:0.1; fill:none\" points=\"219.866,314.524 2352.76,314.524 \"/>\n",
       "<polyline clip-path=\"url(#clip582)\" style=\"stroke:#000000; stroke-linecap:round; stroke-linejoin:round; stroke-width:8; stroke-opacity:0.1; fill:none\" points=\"219.866,236.886 2352.76,236.886 \"/>\n",
       "<polyline clip-path=\"url(#clip582)\" style=\"stroke:#000000; stroke-linecap:round; stroke-linejoin:round; stroke-width:8; stroke-opacity:0.1; fill:none\" points=\"219.866,159.248 2352.76,159.248 \"/>\n",
       "<polyline clip-path=\"url(#clip582)\" style=\"stroke:#000000; stroke-linecap:round; stroke-linejoin:round; stroke-width:8; stroke-opacity:0.1; fill:none\" points=\"219.866,81.6097 2352.76,81.6097 \"/>\n",
       "<polyline clip-path=\"url(#clip580)\" style=\"stroke:#000000; stroke-linecap:round; stroke-linejoin:round; stroke-width:4; stroke-opacity:1; fill:none\" points=\"219.866,356.513 219.866,47.2441 \"/>\n",
       "<polyline clip-path=\"url(#clip580)\" style=\"stroke:#000000; stroke-linecap:round; stroke-linejoin:round; stroke-width:4; stroke-opacity:1; fill:none\" points=\"219.866,314.524 238.764,314.524 \"/>\n",
       "<polyline clip-path=\"url(#clip580)\" style=\"stroke:#000000; stroke-linecap:round; stroke-linejoin:round; stroke-width:4; stroke-opacity:1; fill:none\" points=\"219.866,236.886 238.764,236.886 \"/>\n",
       "<polyline clip-path=\"url(#clip580)\" style=\"stroke:#000000; stroke-linecap:round; stroke-linejoin:round; stroke-width:4; stroke-opacity:1; fill:none\" points=\"219.866,159.248 238.764,159.248 \"/>\n",
       "<polyline clip-path=\"url(#clip580)\" style=\"stroke:#000000; stroke-linecap:round; stroke-linejoin:round; stroke-width:4; stroke-opacity:1; fill:none\" points=\"219.866,81.6097 238.764,81.6097 \"/>\n",
       "<path clip-path=\"url(#clip580)\" d=\"M126.205 300.323 Q122.593 300.323 120.765 303.888 Q118.959 307.429 118.959 314.559 Q118.959 321.665 120.765 325.23 Q122.593 328.772 126.205 328.772 Q129.839 328.772 131.644 325.23 Q133.473 321.665 133.473 314.559 Q133.473 307.429 131.644 303.888 Q129.839 300.323 126.205 300.323 M126.205 296.619 Q132.015 296.619 135.07 301.226 Q138.149 305.809 138.149 314.559 Q138.149 323.286 135.07 327.892 Q132.015 332.475 126.205 332.475 Q120.394 332.475 117.316 327.892 Q114.26 323.286 114.26 314.559 Q114.26 305.809 117.316 301.226 Q120.394 296.619 126.205 296.619 Z\" fill=\"#000000\" fill-rule=\"evenodd\" fill-opacity=\"1\" /><path clip-path=\"url(#clip580)\" d=\"M146.366 325.925 L151.251 325.925 L151.251 331.804 L146.366 331.804 L146.366 325.925 Z\" fill=\"#000000\" fill-rule=\"evenodd\" fill-opacity=\"1\" /><path clip-path=\"url(#clip580)\" d=\"M174.283 301.318 L162.477 319.767 L174.283 319.767 L174.283 301.318 M173.056 297.244 L178.936 297.244 L178.936 319.767 L183.866 319.767 L183.866 323.656 L178.936 323.656 L178.936 331.804 L174.283 331.804 L174.283 323.656 L158.681 323.656 L158.681 319.142 L173.056 297.244 Z\" fill=\"#000000\" fill-rule=\"evenodd\" fill-opacity=\"1\" /><path clip-path=\"url(#clip580)\" d=\"M126.529 222.685 Q122.918 222.685 121.089 226.249 Q119.283 229.791 119.283 236.921 Q119.283 244.027 121.089 247.592 Q122.918 251.134 126.529 251.134 Q130.163 251.134 131.968 247.592 Q133.797 244.027 133.797 236.921 Q133.797 229.791 131.968 226.249 Q130.163 222.685 126.529 222.685 M126.529 218.981 Q132.339 218.981 135.394 223.587 Q138.473 228.171 138.473 236.921 Q138.473 245.648 135.394 250.254 Q132.339 254.837 126.529 254.837 Q120.718 254.837 117.64 250.254 Q114.584 245.648 114.584 236.921 Q114.584 228.171 117.64 223.587 Q120.718 218.981 126.529 218.981 Z\" fill=\"#000000\" fill-rule=\"evenodd\" fill-opacity=\"1\" /><path clip-path=\"url(#clip580)\" d=\"M146.691 248.286 L151.575 248.286 L151.575 254.166 L146.691 254.166 L146.691 248.286 Z\" fill=\"#000000\" fill-rule=\"evenodd\" fill-opacity=\"1\" /><path clip-path=\"url(#clip580)\" d=\"M172.339 235.023 Q169.19 235.023 167.339 237.175 Q165.51 239.328 165.51 243.078 Q165.51 246.805 167.339 248.981 Q169.19 251.134 172.339 251.134 Q175.487 251.134 177.315 248.981 Q179.167 246.805 179.167 243.078 Q179.167 239.328 177.315 237.175 Q175.487 235.023 172.339 235.023 M181.621 220.37 L181.621 224.629 Q179.862 223.796 178.056 223.356 Q176.274 222.916 174.514 222.916 Q169.885 222.916 167.431 226.041 Q165.001 229.166 164.653 235.486 Q166.019 233.472 168.079 232.407 Q170.139 231.319 172.616 231.319 Q177.825 231.319 180.834 234.49 Q183.866 237.638 183.866 243.078 Q183.866 248.402 180.718 251.62 Q177.57 254.837 172.339 254.837 Q166.343 254.837 163.172 250.254 Q160.001 245.648 160.001 236.921 Q160.001 228.726 163.89 223.865 Q167.778 218.981 174.329 218.981 Q176.089 218.981 177.871 219.328 Q179.676 219.675 181.621 220.37 Z\" fill=\"#000000\" fill-rule=\"evenodd\" fill-opacity=\"1\" /><path clip-path=\"url(#clip580)\" d=\"M126.783 145.047 Q123.172 145.047 121.343 148.611 Q119.538 152.153 119.538 159.283 Q119.538 166.389 121.343 169.954 Q123.172 173.495 126.783 173.495 Q130.417 173.495 132.223 169.954 Q134.052 166.389 134.052 159.283 Q134.052 152.153 132.223 148.611 Q130.417 145.047 126.783 145.047 M126.783 141.343 Q132.593 141.343 135.649 145.949 Q138.728 150.533 138.728 159.283 Q138.728 168.009 135.649 172.616 Q132.593 177.199 126.783 177.199 Q120.973 177.199 117.894 172.616 Q114.839 168.009 114.839 159.283 Q114.839 150.533 117.894 145.949 Q120.973 141.343 126.783 141.343 Z\" fill=\"#000000\" fill-rule=\"evenodd\" fill-opacity=\"1\" /><path clip-path=\"url(#clip580)\" d=\"M146.945 170.648 L151.829 170.648 L151.829 176.528 L146.945 176.528 L146.945 170.648 Z\" fill=\"#000000\" fill-rule=\"evenodd\" fill-opacity=\"1\" /><path clip-path=\"url(#clip580)\" d=\"M172.014 160.116 Q168.681 160.116 166.76 161.898 Q164.862 163.681 164.862 166.806 Q164.862 169.931 166.76 171.713 Q168.681 173.495 172.014 173.495 Q175.348 173.495 177.269 171.713 Q179.19 169.908 179.19 166.806 Q179.19 163.681 177.269 161.898 Q175.371 160.116 172.014 160.116 M167.339 158.125 Q164.329 157.384 162.64 155.324 Q160.973 153.264 160.973 150.301 Q160.973 146.158 163.913 143.75 Q166.876 141.343 172.014 141.343 Q177.176 141.343 180.116 143.75 Q183.056 146.158 183.056 150.301 Q183.056 153.264 181.366 155.324 Q179.7 157.384 176.714 158.125 Q180.093 158.912 181.968 161.204 Q183.866 163.496 183.866 166.806 Q183.866 171.829 180.788 174.514 Q177.732 177.199 172.014 177.199 Q166.297 177.199 163.218 174.514 Q160.163 171.829 160.163 166.806 Q160.163 163.496 162.061 161.204 Q163.959 158.912 167.339 158.125 M165.626 150.741 Q165.626 153.426 167.292 154.931 Q168.982 156.435 172.014 156.435 Q175.024 156.435 176.714 154.931 Q178.426 153.426 178.426 150.741 Q178.426 148.056 176.714 146.551 Q175.024 145.047 172.014 145.047 Q168.982 145.047 167.292 146.551 Q165.626 148.056 165.626 150.741 Z\" fill=\"#000000\" fill-rule=\"evenodd\" fill-opacity=\"1\" /><path clip-path=\"url(#clip580)\" d=\"M117.501 94.9545 L125.14 94.9545 L125.14 68.5889 L116.83 70.2556 L116.83 65.9964 L125.093 64.3297 L129.769 64.3297 L129.769 94.9545 L137.408 94.9545 L137.408 98.8897 L117.501 98.8897 L117.501 94.9545 Z\" fill=\"#000000\" fill-rule=\"evenodd\" fill-opacity=\"1\" /><path clip-path=\"url(#clip580)\" d=\"M146.853 93.0101 L151.737 93.0101 L151.737 98.8897 L146.853 98.8897 L146.853 93.0101 Z\" fill=\"#000000\" fill-rule=\"evenodd\" fill-opacity=\"1\" /><path clip-path=\"url(#clip580)\" d=\"M171.922 67.4084 Q168.311 67.4084 166.482 70.9732 Q164.677 74.5148 164.677 81.6444 Q164.677 88.7509 166.482 92.3157 Q168.311 95.8573 171.922 95.8573 Q175.556 95.8573 177.362 92.3157 Q179.19 88.7509 179.19 81.6444 Q179.19 74.5148 177.362 70.9732 Q175.556 67.4084 171.922 67.4084 M171.922 63.7047 Q177.732 63.7047 180.788 68.3112 Q183.866 72.8945 183.866 81.6444 Q183.866 90.3712 180.788 94.9777 Q177.732 99.561 171.922 99.561 Q166.112 99.561 163.033 94.9777 Q159.978 90.3712 159.978 81.6444 Q159.978 72.8945 163.033 68.3112 Q166.112 63.7047 171.922 63.7047 Z\" fill=\"#000000\" fill-rule=\"evenodd\" fill-opacity=\"1\" /><path clip-path=\"url(#clip580)\" d=\"M67.3143 252.168 Q73.68 254.65 75.6216 257.006 Q77.5631 259.361 77.5631 263.308 L77.5631 267.986 L72.6615 267.986 L72.6615 264.549 Q72.6615 262.13 71.5157 260.793 Q70.3699 259.456 66.1048 257.833 L63.4312 256.783 L28.3562 271.201 L28.3562 264.995 L56.238 253.855 L28.3562 242.715 L28.3562 236.508 L67.3143 252.168 Z\" fill=\"#000000\" fill-rule=\"evenodd\" fill-opacity=\"1\" /><path clip-path=\"url(#clip580)\" d=\"M74.8259 201.338 L79.3773 201.338 L79.3773 235.203 L74.8259 235.203 L74.8259 201.338 Z\" fill=\"#000000\" fill-rule=\"evenodd\" fill-opacity=\"1\" /><path clip-path=\"url(#clip580)\" d=\"M29.4065 173.106 L34.9447 173.106 Q33.6716 175.588 33.035 178.262 Q32.3984 180.935 32.3984 183.8 Q32.3984 188.161 33.7352 190.357 Q35.072 192.521 37.7456 192.521 Q39.7826 192.521 40.9603 190.961 Q42.1061 189.402 43.1565 184.691 L43.6021 182.686 Q44.9389 176.448 47.3897 173.838 Q49.8086 171.196 54.1691 171.196 Q59.1344 171.196 62.0308 175.143 Q64.9272 179.058 64.9272 185.933 Q64.9272 188.797 64.3543 191.916 Q63.8132 195.004 62.6992 198.441 L56.6518 198.441 Q58.3387 195.195 59.198 192.044 Q60.0256 188.893 60.0256 185.805 Q60.0256 181.668 58.6251 179.44 Q57.1929 177.212 54.6147 177.212 Q52.2276 177.212 50.9545 178.835 Q49.6813 180.426 48.5037 185.869 L48.0262 187.906 Q46.8804 193.349 44.5251 195.768 Q42.138 198.187 38.0002 198.187 Q32.9713 198.187 30.2341 194.622 Q27.4968 191.057 27.4968 184.5 Q27.4968 181.254 27.9743 178.389 Q28.4517 175.525 29.4065 173.106 Z\" fill=\"#000000\" fill-rule=\"evenodd\" fill-opacity=\"1\" /><path clip-path=\"url(#clip580)\" d=\"M58.5933 159.929 L58.5933 149.425 L22.3406 149.425 L24.6323 160.852 L18.7758 160.852 L16.4842 149.489 L16.4842 143.06 L58.5933 143.06 L58.5933 132.556 L64.0042 132.556 L64.0042 159.929 L58.5933 159.929 Z\" fill=\"#000000\" fill-rule=\"evenodd\" fill-opacity=\"1\" /><polyline clip-path=\"url(#clip582)\" style=\"stroke:#000000; stroke-linecap:round; stroke-linejoin:round; stroke-width:4; stroke-opacity:1; fill:none\" stroke-dasharray=\"2, 4\" points=\"280.231,62.2002 357.622,62.2002 435.013,62.2002 512.403,62.2002 589.794,62.2002 667.185,62.2002 744.576,62.2002 821.966,62.2002 899.357,62.2002 976.748,62.2002 1054.14,62.2002 1131.53,62.2002 1208.92,62.2002 1286.31,62.2002 1363.7,62.2002 1441.09,62.2002 1518.48,62.2002 1595.87,62.2002 1673.26,62.2002 1750.66,62.2002 1828.05,62.2002 1905.44,62.2002 1982.83,62.2002 2060.22,62.2002 2137.61,62.2002 2215,62.2002 2292.39,62.2002 \"/>\n",
       "<polyline clip-path=\"url(#clip582)\" style=\"stroke:#ff0000; stroke-linecap:round; stroke-linejoin:round; stroke-width:20; stroke-opacity:0.3; fill:none\" points=\"280.231,347.76 357.622,322.036 435.013,256.288 512.403,183.969 589.794,124.483 667.185,84.3371 744.576,62.9944 821.966,55.997 899.357,57.5914 976.748,61.0352 1054.14,61.7004 1131.53,60.6952 1208.92,60.6994 1286.31,60.8654 1363.7,59.9164 1441.09,59.0559 1518.48,59.7149 1595.87,61.0011 1673.26,60.7063 1750.66,60.2045 1828.05,60.2192 1905.44,60.235 1982.83,60.2478 2060.22,60.2571 2137.61,60.2635 2215,60.2676 2292.39,60.2703 \"/>\n",
       "<line clip-path=\"url(#clip582)\" x1=\"280.231\" y1=\"347.76\" x2=\"280.231\" y2=\"331.76\" style=\"stroke:#e26f46; stroke-width:3.2; stroke-opacity:1\"/>\n",
       "<line clip-path=\"url(#clip582)\" x1=\"280.231\" y1=\"347.76\" x2=\"264.231\" y2=\"347.76\" style=\"stroke:#e26f46; stroke-width:3.2; stroke-opacity:1\"/>\n",
       "<line clip-path=\"url(#clip582)\" x1=\"280.231\" y1=\"347.76\" x2=\"280.231\" y2=\"363.76\" style=\"stroke:#e26f46; stroke-width:3.2; stroke-opacity:1\"/>\n",
       "<line clip-path=\"url(#clip582)\" x1=\"280.231\" y1=\"347.76\" x2=\"296.231\" y2=\"347.76\" style=\"stroke:#e26f46; stroke-width:3.2; stroke-opacity:1\"/>\n",
       "<line clip-path=\"url(#clip582)\" x1=\"357.622\" y1=\"322.036\" x2=\"357.622\" y2=\"306.036\" style=\"stroke:#e26f46; stroke-width:3.2; stroke-opacity:1\"/>\n",
       "<line clip-path=\"url(#clip582)\" x1=\"357.622\" y1=\"322.036\" x2=\"341.622\" y2=\"322.036\" style=\"stroke:#e26f46; stroke-width:3.2; stroke-opacity:1\"/>\n",
       "<line clip-path=\"url(#clip582)\" x1=\"357.622\" y1=\"322.036\" x2=\"357.622\" y2=\"338.036\" style=\"stroke:#e26f46; stroke-width:3.2; stroke-opacity:1\"/>\n",
       "<line clip-path=\"url(#clip582)\" x1=\"357.622\" y1=\"322.036\" x2=\"373.622\" y2=\"322.036\" style=\"stroke:#e26f46; stroke-width:3.2; stroke-opacity:1\"/>\n",
       "<line clip-path=\"url(#clip582)\" x1=\"435.013\" y1=\"256.288\" x2=\"435.013\" y2=\"240.288\" style=\"stroke:#e26f46; stroke-width:3.2; stroke-opacity:1\"/>\n",
       "<line clip-path=\"url(#clip582)\" x1=\"435.013\" y1=\"256.288\" x2=\"419.013\" y2=\"256.288\" style=\"stroke:#e26f46; stroke-width:3.2; stroke-opacity:1\"/>\n",
       "<line clip-path=\"url(#clip582)\" x1=\"435.013\" y1=\"256.288\" x2=\"435.013\" y2=\"272.288\" style=\"stroke:#e26f46; stroke-width:3.2; stroke-opacity:1\"/>\n",
       "<line clip-path=\"url(#clip582)\" x1=\"435.013\" y1=\"256.288\" x2=\"451.013\" y2=\"256.288\" style=\"stroke:#e26f46; stroke-width:3.2; stroke-opacity:1\"/>\n",
       "<line clip-path=\"url(#clip582)\" x1=\"512.403\" y1=\"183.969\" x2=\"512.403\" y2=\"167.969\" style=\"stroke:#e26f46; stroke-width:3.2; stroke-opacity:1\"/>\n",
       "<line clip-path=\"url(#clip582)\" x1=\"512.403\" y1=\"183.969\" x2=\"496.403\" y2=\"183.969\" style=\"stroke:#e26f46; stroke-width:3.2; stroke-opacity:1\"/>\n",
       "<line clip-path=\"url(#clip582)\" x1=\"512.403\" y1=\"183.969\" x2=\"512.403\" y2=\"199.969\" style=\"stroke:#e26f46; stroke-width:3.2; stroke-opacity:1\"/>\n",
       "<line clip-path=\"url(#clip582)\" x1=\"512.403\" y1=\"183.969\" x2=\"528.403\" y2=\"183.969\" style=\"stroke:#e26f46; stroke-width:3.2; stroke-opacity:1\"/>\n",
       "<line clip-path=\"url(#clip582)\" x1=\"589.794\" y1=\"124.483\" x2=\"589.794\" y2=\"108.483\" style=\"stroke:#e26f46; stroke-width:3.2; stroke-opacity:1\"/>\n",
       "<line clip-path=\"url(#clip582)\" x1=\"589.794\" y1=\"124.483\" x2=\"573.794\" y2=\"124.483\" style=\"stroke:#e26f46; stroke-width:3.2; stroke-opacity:1\"/>\n",
       "<line clip-path=\"url(#clip582)\" x1=\"589.794\" y1=\"124.483\" x2=\"589.794\" y2=\"140.483\" style=\"stroke:#e26f46; stroke-width:3.2; stroke-opacity:1\"/>\n",
       "<line clip-path=\"url(#clip582)\" x1=\"589.794\" y1=\"124.483\" x2=\"605.794\" y2=\"124.483\" style=\"stroke:#e26f46; stroke-width:3.2; stroke-opacity:1\"/>\n",
       "<line clip-path=\"url(#clip582)\" x1=\"667.185\" y1=\"84.3371\" x2=\"667.185\" y2=\"68.3371\" style=\"stroke:#e26f46; stroke-width:3.2; stroke-opacity:1\"/>\n",
       "<line clip-path=\"url(#clip582)\" x1=\"667.185\" y1=\"84.3371\" x2=\"651.185\" y2=\"84.3371\" style=\"stroke:#e26f46; stroke-width:3.2; stroke-opacity:1\"/>\n",
       "<line clip-path=\"url(#clip582)\" x1=\"667.185\" y1=\"84.3371\" x2=\"667.185\" y2=\"100.337\" style=\"stroke:#e26f46; stroke-width:3.2; stroke-opacity:1\"/>\n",
       "<line clip-path=\"url(#clip582)\" x1=\"667.185\" y1=\"84.3371\" x2=\"683.185\" y2=\"84.3371\" style=\"stroke:#e26f46; stroke-width:3.2; stroke-opacity:1\"/>\n",
       "<line clip-path=\"url(#clip582)\" x1=\"744.576\" y1=\"62.9944\" x2=\"744.576\" y2=\"46.9944\" style=\"stroke:#e26f46; stroke-width:3.2; stroke-opacity:1\"/>\n",
       "<line clip-path=\"url(#clip582)\" x1=\"744.576\" y1=\"62.9944\" x2=\"728.576\" y2=\"62.9944\" style=\"stroke:#e26f46; stroke-width:3.2; stroke-opacity:1\"/>\n",
       "<line clip-path=\"url(#clip582)\" x1=\"744.576\" y1=\"62.9944\" x2=\"744.576\" y2=\"78.9944\" style=\"stroke:#e26f46; stroke-width:3.2; stroke-opacity:1\"/>\n",
       "<line clip-path=\"url(#clip582)\" x1=\"744.576\" y1=\"62.9944\" x2=\"760.576\" y2=\"62.9944\" style=\"stroke:#e26f46; stroke-width:3.2; stroke-opacity:1\"/>\n",
       "<line clip-path=\"url(#clip582)\" x1=\"821.966\" y1=\"55.997\" x2=\"821.966\" y2=\"39.997\" style=\"stroke:#e26f46; stroke-width:3.2; stroke-opacity:1\"/>\n",
       "<line clip-path=\"url(#clip582)\" x1=\"821.966\" y1=\"55.997\" x2=\"805.966\" y2=\"55.997\" style=\"stroke:#e26f46; stroke-width:3.2; stroke-opacity:1\"/>\n",
       "<line clip-path=\"url(#clip582)\" x1=\"821.966\" y1=\"55.997\" x2=\"821.966\" y2=\"71.997\" style=\"stroke:#e26f46; stroke-width:3.2; stroke-opacity:1\"/>\n",
       "<line clip-path=\"url(#clip582)\" x1=\"821.966\" y1=\"55.997\" x2=\"837.966\" y2=\"55.997\" style=\"stroke:#e26f46; stroke-width:3.2; stroke-opacity:1\"/>\n",
       "<line clip-path=\"url(#clip582)\" x1=\"899.357\" y1=\"57.5914\" x2=\"899.357\" y2=\"41.5914\" style=\"stroke:#e26f46; stroke-width:3.2; stroke-opacity:1\"/>\n",
       "<line clip-path=\"url(#clip582)\" x1=\"899.357\" y1=\"57.5914\" x2=\"883.357\" y2=\"57.5914\" style=\"stroke:#e26f46; stroke-width:3.2; stroke-opacity:1\"/>\n",
       "<line clip-path=\"url(#clip582)\" x1=\"899.357\" y1=\"57.5914\" x2=\"899.357\" y2=\"73.5914\" style=\"stroke:#e26f46; stroke-width:3.2; stroke-opacity:1\"/>\n",
       "<line clip-path=\"url(#clip582)\" x1=\"899.357\" y1=\"57.5914\" x2=\"915.357\" y2=\"57.5914\" style=\"stroke:#e26f46; stroke-width:3.2; stroke-opacity:1\"/>\n",
       "<line clip-path=\"url(#clip582)\" x1=\"976.748\" y1=\"61.0352\" x2=\"976.748\" y2=\"45.0352\" style=\"stroke:#e26f46; stroke-width:3.2; stroke-opacity:1\"/>\n",
       "<line clip-path=\"url(#clip582)\" x1=\"976.748\" y1=\"61.0352\" x2=\"960.748\" y2=\"61.0352\" style=\"stroke:#e26f46; stroke-width:3.2; stroke-opacity:1\"/>\n",
       "<line clip-path=\"url(#clip582)\" x1=\"976.748\" y1=\"61.0352\" x2=\"976.748\" y2=\"77.0352\" style=\"stroke:#e26f46; stroke-width:3.2; stroke-opacity:1\"/>\n",
       "<line clip-path=\"url(#clip582)\" x1=\"976.748\" y1=\"61.0352\" x2=\"992.748\" y2=\"61.0352\" style=\"stroke:#e26f46; stroke-width:3.2; stroke-opacity:1\"/>\n",
       "<line clip-path=\"url(#clip582)\" x1=\"1054.14\" y1=\"61.7004\" x2=\"1054.14\" y2=\"45.7004\" style=\"stroke:#e26f46; stroke-width:3.2; stroke-opacity:1\"/>\n",
       "<line clip-path=\"url(#clip582)\" x1=\"1054.14\" y1=\"61.7004\" x2=\"1038.14\" y2=\"61.7004\" style=\"stroke:#e26f46; stroke-width:3.2; stroke-opacity:1\"/>\n",
       "<line clip-path=\"url(#clip582)\" x1=\"1054.14\" y1=\"61.7004\" x2=\"1054.14\" y2=\"77.7004\" style=\"stroke:#e26f46; stroke-width:3.2; stroke-opacity:1\"/>\n",
       "<line clip-path=\"url(#clip582)\" x1=\"1054.14\" y1=\"61.7004\" x2=\"1070.14\" y2=\"61.7004\" style=\"stroke:#e26f46; stroke-width:3.2; stroke-opacity:1\"/>\n",
       "<line clip-path=\"url(#clip582)\" x1=\"1131.53\" y1=\"60.6952\" x2=\"1131.53\" y2=\"44.6952\" style=\"stroke:#e26f46; stroke-width:3.2; stroke-opacity:1\"/>\n",
       "<line clip-path=\"url(#clip582)\" x1=\"1131.53\" y1=\"60.6952\" x2=\"1115.53\" y2=\"60.6952\" style=\"stroke:#e26f46; stroke-width:3.2; stroke-opacity:1\"/>\n",
       "<line clip-path=\"url(#clip582)\" x1=\"1131.53\" y1=\"60.6952\" x2=\"1131.53\" y2=\"76.6952\" style=\"stroke:#e26f46; stroke-width:3.2; stroke-opacity:1\"/>\n",
       "<line clip-path=\"url(#clip582)\" x1=\"1131.53\" y1=\"60.6952\" x2=\"1147.53\" y2=\"60.6952\" style=\"stroke:#e26f46; stroke-width:3.2; stroke-opacity:1\"/>\n",
       "<line clip-path=\"url(#clip582)\" x1=\"1208.92\" y1=\"60.6994\" x2=\"1208.92\" y2=\"44.6994\" style=\"stroke:#e26f46; stroke-width:3.2; stroke-opacity:1\"/>\n",
       "<line clip-path=\"url(#clip582)\" x1=\"1208.92\" y1=\"60.6994\" x2=\"1192.92\" y2=\"60.6994\" style=\"stroke:#e26f46; stroke-width:3.2; stroke-opacity:1\"/>\n",
       "<line clip-path=\"url(#clip582)\" x1=\"1208.92\" y1=\"60.6994\" x2=\"1208.92\" y2=\"76.6994\" style=\"stroke:#e26f46; stroke-width:3.2; stroke-opacity:1\"/>\n",
       "<line clip-path=\"url(#clip582)\" x1=\"1208.92\" y1=\"60.6994\" x2=\"1224.92\" y2=\"60.6994\" style=\"stroke:#e26f46; stroke-width:3.2; stroke-opacity:1\"/>\n",
       "<line clip-path=\"url(#clip582)\" x1=\"1286.31\" y1=\"60.8654\" x2=\"1286.31\" y2=\"44.8654\" style=\"stroke:#e26f46; stroke-width:3.2; stroke-opacity:1\"/>\n",
       "<line clip-path=\"url(#clip582)\" x1=\"1286.31\" y1=\"60.8654\" x2=\"1270.31\" y2=\"60.8654\" style=\"stroke:#e26f46; stroke-width:3.2; stroke-opacity:1\"/>\n",
       "<line clip-path=\"url(#clip582)\" x1=\"1286.31\" y1=\"60.8654\" x2=\"1286.31\" y2=\"76.8654\" style=\"stroke:#e26f46; stroke-width:3.2; stroke-opacity:1\"/>\n",
       "<line clip-path=\"url(#clip582)\" x1=\"1286.31\" y1=\"60.8654\" x2=\"1302.31\" y2=\"60.8654\" style=\"stroke:#e26f46; stroke-width:3.2; stroke-opacity:1\"/>\n",
       "<line clip-path=\"url(#clip582)\" x1=\"1363.7\" y1=\"59.9164\" x2=\"1363.7\" y2=\"43.9164\" style=\"stroke:#e26f46; stroke-width:3.2; stroke-opacity:1\"/>\n",
       "<line clip-path=\"url(#clip582)\" x1=\"1363.7\" y1=\"59.9164\" x2=\"1347.7\" y2=\"59.9164\" style=\"stroke:#e26f46; stroke-width:3.2; stroke-opacity:1\"/>\n",
       "<line clip-path=\"url(#clip582)\" x1=\"1363.7\" y1=\"59.9164\" x2=\"1363.7\" y2=\"75.9164\" style=\"stroke:#e26f46; stroke-width:3.2; stroke-opacity:1\"/>\n",
       "<line clip-path=\"url(#clip582)\" x1=\"1363.7\" y1=\"59.9164\" x2=\"1379.7\" y2=\"59.9164\" style=\"stroke:#e26f46; stroke-width:3.2; stroke-opacity:1\"/>\n",
       "<line clip-path=\"url(#clip582)\" x1=\"1441.09\" y1=\"59.0559\" x2=\"1441.09\" y2=\"43.0559\" style=\"stroke:#e26f46; stroke-width:3.2; stroke-opacity:1\"/>\n",
       "<line clip-path=\"url(#clip582)\" x1=\"1441.09\" y1=\"59.0559\" x2=\"1425.09\" y2=\"59.0559\" style=\"stroke:#e26f46; stroke-width:3.2; stroke-opacity:1\"/>\n",
       "<line clip-path=\"url(#clip582)\" x1=\"1441.09\" y1=\"59.0559\" x2=\"1441.09\" y2=\"75.0559\" style=\"stroke:#e26f46; stroke-width:3.2; stroke-opacity:1\"/>\n",
       "<line clip-path=\"url(#clip582)\" x1=\"1441.09\" y1=\"59.0559\" x2=\"1457.09\" y2=\"59.0559\" style=\"stroke:#e26f46; stroke-width:3.2; stroke-opacity:1\"/>\n",
       "<line clip-path=\"url(#clip582)\" x1=\"1518.48\" y1=\"59.7149\" x2=\"1518.48\" y2=\"43.7149\" style=\"stroke:#e26f46; stroke-width:3.2; stroke-opacity:1\"/>\n",
       "<line clip-path=\"url(#clip582)\" x1=\"1518.48\" y1=\"59.7149\" x2=\"1502.48\" y2=\"59.7149\" style=\"stroke:#e26f46; stroke-width:3.2; stroke-opacity:1\"/>\n",
       "<line clip-path=\"url(#clip582)\" x1=\"1518.48\" y1=\"59.7149\" x2=\"1518.48\" y2=\"75.7149\" style=\"stroke:#e26f46; stroke-width:3.2; stroke-opacity:1\"/>\n",
       "<line clip-path=\"url(#clip582)\" x1=\"1518.48\" y1=\"59.7149\" x2=\"1534.48\" y2=\"59.7149\" style=\"stroke:#e26f46; stroke-width:3.2; stroke-opacity:1\"/>\n",
       "<line clip-path=\"url(#clip582)\" x1=\"1595.87\" y1=\"61.0011\" x2=\"1595.87\" y2=\"45.0011\" style=\"stroke:#e26f46; stroke-width:3.2; stroke-opacity:1\"/>\n",
       "<line clip-path=\"url(#clip582)\" x1=\"1595.87\" y1=\"61.0011\" x2=\"1579.87\" y2=\"61.0011\" style=\"stroke:#e26f46; stroke-width:3.2; stroke-opacity:1\"/>\n",
       "<line clip-path=\"url(#clip582)\" x1=\"1595.87\" y1=\"61.0011\" x2=\"1595.87\" y2=\"77.0011\" style=\"stroke:#e26f46; stroke-width:3.2; stroke-opacity:1\"/>\n",
       "<line clip-path=\"url(#clip582)\" x1=\"1595.87\" y1=\"61.0011\" x2=\"1611.87\" y2=\"61.0011\" style=\"stroke:#e26f46; stroke-width:3.2; stroke-opacity:1\"/>\n",
       "<line clip-path=\"url(#clip582)\" x1=\"1673.26\" y1=\"60.7063\" x2=\"1673.26\" y2=\"44.7063\" style=\"stroke:#e26f46; stroke-width:3.2; stroke-opacity:1\"/>\n",
       "<line clip-path=\"url(#clip582)\" x1=\"1673.26\" y1=\"60.7063\" x2=\"1657.26\" y2=\"60.7063\" style=\"stroke:#e26f46; stroke-width:3.2; stroke-opacity:1\"/>\n",
       "<line clip-path=\"url(#clip582)\" x1=\"1673.26\" y1=\"60.7063\" x2=\"1673.26\" y2=\"76.7063\" style=\"stroke:#e26f46; stroke-width:3.2; stroke-opacity:1\"/>\n",
       "<line clip-path=\"url(#clip582)\" x1=\"1673.26\" y1=\"60.7063\" x2=\"1689.26\" y2=\"60.7063\" style=\"stroke:#e26f46; stroke-width:3.2; stroke-opacity:1\"/>\n",
       "<line clip-path=\"url(#clip582)\" x1=\"1750.66\" y1=\"60.2045\" x2=\"1750.66\" y2=\"44.2045\" style=\"stroke:#e26f46; stroke-width:3.2; stroke-opacity:1\"/>\n",
       "<line clip-path=\"url(#clip582)\" x1=\"1750.66\" y1=\"60.2045\" x2=\"1734.66\" y2=\"60.2045\" style=\"stroke:#e26f46; stroke-width:3.2; stroke-opacity:1\"/>\n",
       "<line clip-path=\"url(#clip582)\" x1=\"1750.66\" y1=\"60.2045\" x2=\"1750.66\" y2=\"76.2045\" style=\"stroke:#e26f46; stroke-width:3.2; stroke-opacity:1\"/>\n",
       "<line clip-path=\"url(#clip582)\" x1=\"1750.66\" y1=\"60.2045\" x2=\"1766.66\" y2=\"60.2045\" style=\"stroke:#e26f46; stroke-width:3.2; stroke-opacity:1\"/>\n",
       "<line clip-path=\"url(#clip582)\" x1=\"1828.05\" y1=\"60.2192\" x2=\"1828.05\" y2=\"44.2192\" style=\"stroke:#e26f46; stroke-width:3.2; stroke-opacity:1\"/>\n",
       "<line clip-path=\"url(#clip582)\" x1=\"1828.05\" y1=\"60.2192\" x2=\"1812.05\" y2=\"60.2192\" style=\"stroke:#e26f46; stroke-width:3.2; stroke-opacity:1\"/>\n",
       "<line clip-path=\"url(#clip582)\" x1=\"1828.05\" y1=\"60.2192\" x2=\"1828.05\" y2=\"76.2192\" style=\"stroke:#e26f46; stroke-width:3.2; stroke-opacity:1\"/>\n",
       "<line clip-path=\"url(#clip582)\" x1=\"1828.05\" y1=\"60.2192\" x2=\"1844.05\" y2=\"60.2192\" style=\"stroke:#e26f46; stroke-width:3.2; stroke-opacity:1\"/>\n",
       "<line clip-path=\"url(#clip582)\" x1=\"1905.44\" y1=\"60.235\" x2=\"1905.44\" y2=\"44.235\" style=\"stroke:#e26f46; stroke-width:3.2; stroke-opacity:1\"/>\n",
       "<line clip-path=\"url(#clip582)\" x1=\"1905.44\" y1=\"60.235\" x2=\"1889.44\" y2=\"60.235\" style=\"stroke:#e26f46; stroke-width:3.2; stroke-opacity:1\"/>\n",
       "<line clip-path=\"url(#clip582)\" x1=\"1905.44\" y1=\"60.235\" x2=\"1905.44\" y2=\"76.235\" style=\"stroke:#e26f46; stroke-width:3.2; stroke-opacity:1\"/>\n",
       "<line clip-path=\"url(#clip582)\" x1=\"1905.44\" y1=\"60.235\" x2=\"1921.44\" y2=\"60.235\" style=\"stroke:#e26f46; stroke-width:3.2; stroke-opacity:1\"/>\n",
       "<line clip-path=\"url(#clip582)\" x1=\"1982.83\" y1=\"60.2478\" x2=\"1982.83\" y2=\"44.2478\" style=\"stroke:#e26f46; stroke-width:3.2; stroke-opacity:1\"/>\n",
       "<line clip-path=\"url(#clip582)\" x1=\"1982.83\" y1=\"60.2478\" x2=\"1966.83\" y2=\"60.2478\" style=\"stroke:#e26f46; stroke-width:3.2; stroke-opacity:1\"/>\n",
       "<line clip-path=\"url(#clip582)\" x1=\"1982.83\" y1=\"60.2478\" x2=\"1982.83\" y2=\"76.2478\" style=\"stroke:#e26f46; stroke-width:3.2; stroke-opacity:1\"/>\n",
       "<line clip-path=\"url(#clip582)\" x1=\"1982.83\" y1=\"60.2478\" x2=\"1998.83\" y2=\"60.2478\" style=\"stroke:#e26f46; stroke-width:3.2; stroke-opacity:1\"/>\n",
       "<line clip-path=\"url(#clip582)\" x1=\"2060.22\" y1=\"60.2571\" x2=\"2060.22\" y2=\"44.2571\" style=\"stroke:#e26f46; stroke-width:3.2; stroke-opacity:1\"/>\n",
       "<line clip-path=\"url(#clip582)\" x1=\"2060.22\" y1=\"60.2571\" x2=\"2044.22\" y2=\"60.2571\" style=\"stroke:#e26f46; stroke-width:3.2; stroke-opacity:1\"/>\n",
       "<line clip-path=\"url(#clip582)\" x1=\"2060.22\" y1=\"60.2571\" x2=\"2060.22\" y2=\"76.2571\" style=\"stroke:#e26f46; stroke-width:3.2; stroke-opacity:1\"/>\n",
       "<line clip-path=\"url(#clip582)\" x1=\"2060.22\" y1=\"60.2571\" x2=\"2076.22\" y2=\"60.2571\" style=\"stroke:#e26f46; stroke-width:3.2; stroke-opacity:1\"/>\n",
       "<line clip-path=\"url(#clip582)\" x1=\"2137.61\" y1=\"60.2635\" x2=\"2137.61\" y2=\"44.2635\" style=\"stroke:#e26f46; stroke-width:3.2; stroke-opacity:1\"/>\n",
       "<line clip-path=\"url(#clip582)\" x1=\"2137.61\" y1=\"60.2635\" x2=\"2121.61\" y2=\"60.2635\" style=\"stroke:#e26f46; stroke-width:3.2; stroke-opacity:1\"/>\n",
       "<line clip-path=\"url(#clip582)\" x1=\"2137.61\" y1=\"60.2635\" x2=\"2137.61\" y2=\"76.2635\" style=\"stroke:#e26f46; stroke-width:3.2; stroke-opacity:1\"/>\n",
       "<line clip-path=\"url(#clip582)\" x1=\"2137.61\" y1=\"60.2635\" x2=\"2153.61\" y2=\"60.2635\" style=\"stroke:#e26f46; stroke-width:3.2; stroke-opacity:1\"/>\n",
       "<line clip-path=\"url(#clip582)\" x1=\"2215\" y1=\"60.2676\" x2=\"2215\" y2=\"44.2676\" style=\"stroke:#e26f46; stroke-width:3.2; stroke-opacity:1\"/>\n",
       "<line clip-path=\"url(#clip582)\" x1=\"2215\" y1=\"60.2676\" x2=\"2199\" y2=\"60.2676\" style=\"stroke:#e26f46; stroke-width:3.2; stroke-opacity:1\"/>\n",
       "<line clip-path=\"url(#clip582)\" x1=\"2215\" y1=\"60.2676\" x2=\"2215\" y2=\"76.2676\" style=\"stroke:#e26f46; stroke-width:3.2; stroke-opacity:1\"/>\n",
       "<line clip-path=\"url(#clip582)\" x1=\"2215\" y1=\"60.2676\" x2=\"2231\" y2=\"60.2676\" style=\"stroke:#e26f46; stroke-width:3.2; stroke-opacity:1\"/>\n",
       "<line clip-path=\"url(#clip582)\" x1=\"2292.39\" y1=\"60.2703\" x2=\"2292.39\" y2=\"44.2703\" style=\"stroke:#e26f46; stroke-width:3.2; stroke-opacity:1\"/>\n",
       "<line clip-path=\"url(#clip582)\" x1=\"2292.39\" y1=\"60.2703\" x2=\"2276.39\" y2=\"60.2703\" style=\"stroke:#e26f46; stroke-width:3.2; stroke-opacity:1\"/>\n",
       "<line clip-path=\"url(#clip582)\" x1=\"2292.39\" y1=\"60.2703\" x2=\"2292.39\" y2=\"76.2703\" style=\"stroke:#e26f46; stroke-width:3.2; stroke-opacity:1\"/>\n",
       "<line clip-path=\"url(#clip582)\" x1=\"2292.39\" y1=\"60.2703\" x2=\"2308.39\" y2=\"60.2703\" style=\"stroke:#e26f46; stroke-width:3.2; stroke-opacity:1\"/>\n",
       "<polyline clip-path=\"url(#clip582)\" style=\"stroke:#80007f; stroke-linecap:round; stroke-linejoin:round; stroke-width:20; stroke-opacity:0.3; fill:none\" points=\"280.231,347.76 357.622,322.036 435.013,256.288 512.403,183.969 589.794,124.484 667.185,84.3373 744.576,62.9945 821.966,55.997 899.357,57.5914 976.748,61.0352 1054.14,61.7004 1131.53,60.6952 1208.92,60.6994 1286.31,60.8655 1363.7,59.9164 1441.09,59.0559 1518.48,59.7149 1595.87,61.0011 1673.26,60.7063 1750.66,60.2045 1828.05,60.2192 1905.44,60.235 1982.83,60.2478 2060.22,60.2571 2137.61,60.2635 2215,60.2676 2292.39,60.2703 \"/>\n",
       "<circle clip-path=\"url(#clip582)\" cx=\"280.231\" cy=\"347.76\" r=\"14.4\" fill=\"#3da44d\" fill-rule=\"evenodd\" fill-opacity=\"1\" stroke=\"#000000\" stroke-opacity=\"1\" stroke-width=\"3.2\"/>\n",
       "<circle clip-path=\"url(#clip582)\" cx=\"357.622\" cy=\"322.036\" r=\"14.4\" fill=\"#3da44d\" fill-rule=\"evenodd\" fill-opacity=\"1\" stroke=\"#000000\" stroke-opacity=\"1\" stroke-width=\"3.2\"/>\n",
       "<circle clip-path=\"url(#clip582)\" cx=\"435.013\" cy=\"256.288\" r=\"14.4\" fill=\"#3da44d\" fill-rule=\"evenodd\" fill-opacity=\"1\" stroke=\"#000000\" stroke-opacity=\"1\" stroke-width=\"3.2\"/>\n",
       "<circle clip-path=\"url(#clip582)\" cx=\"512.403\" cy=\"183.969\" r=\"14.4\" fill=\"#3da44d\" fill-rule=\"evenodd\" fill-opacity=\"1\" stroke=\"#000000\" stroke-opacity=\"1\" stroke-width=\"3.2\"/>\n",
       "<circle clip-path=\"url(#clip582)\" cx=\"589.794\" cy=\"124.484\" r=\"14.4\" fill=\"#3da44d\" fill-rule=\"evenodd\" fill-opacity=\"1\" stroke=\"#000000\" stroke-opacity=\"1\" stroke-width=\"3.2\"/>\n",
       "<circle clip-path=\"url(#clip582)\" cx=\"667.185\" cy=\"84.3373\" r=\"14.4\" fill=\"#3da44d\" fill-rule=\"evenodd\" fill-opacity=\"1\" stroke=\"#000000\" stroke-opacity=\"1\" stroke-width=\"3.2\"/>\n",
       "<circle clip-path=\"url(#clip582)\" cx=\"744.576\" cy=\"62.9945\" r=\"14.4\" fill=\"#3da44d\" fill-rule=\"evenodd\" fill-opacity=\"1\" stroke=\"#000000\" stroke-opacity=\"1\" stroke-width=\"3.2\"/>\n",
       "<circle clip-path=\"url(#clip582)\" cx=\"821.966\" cy=\"55.997\" r=\"14.4\" fill=\"#3da44d\" fill-rule=\"evenodd\" fill-opacity=\"1\" stroke=\"#000000\" stroke-opacity=\"1\" stroke-width=\"3.2\"/>\n",
       "<circle clip-path=\"url(#clip582)\" cx=\"899.357\" cy=\"57.5914\" r=\"14.4\" fill=\"#3da44d\" fill-rule=\"evenodd\" fill-opacity=\"1\" stroke=\"#000000\" stroke-opacity=\"1\" stroke-width=\"3.2\"/>\n",
       "<circle clip-path=\"url(#clip582)\" cx=\"976.748\" cy=\"61.0352\" r=\"14.4\" fill=\"#3da44d\" fill-rule=\"evenodd\" fill-opacity=\"1\" stroke=\"#000000\" stroke-opacity=\"1\" stroke-width=\"3.2\"/>\n",
       "<circle clip-path=\"url(#clip582)\" cx=\"1054.14\" cy=\"61.7004\" r=\"14.4\" fill=\"#3da44d\" fill-rule=\"evenodd\" fill-opacity=\"1\" stroke=\"#000000\" stroke-opacity=\"1\" stroke-width=\"3.2\"/>\n",
       "<circle clip-path=\"url(#clip582)\" cx=\"1131.53\" cy=\"60.6952\" r=\"14.4\" fill=\"#3da44d\" fill-rule=\"evenodd\" fill-opacity=\"1\" stroke=\"#000000\" stroke-opacity=\"1\" stroke-width=\"3.2\"/>\n",
       "<circle clip-path=\"url(#clip582)\" cx=\"1208.92\" cy=\"60.6994\" r=\"14.4\" fill=\"#3da44d\" fill-rule=\"evenodd\" fill-opacity=\"1\" stroke=\"#000000\" stroke-opacity=\"1\" stroke-width=\"3.2\"/>\n",
       "<circle clip-path=\"url(#clip582)\" cx=\"1286.31\" cy=\"60.8655\" r=\"14.4\" fill=\"#3da44d\" fill-rule=\"evenodd\" fill-opacity=\"1\" stroke=\"#000000\" stroke-opacity=\"1\" stroke-width=\"3.2\"/>\n",
       "<circle clip-path=\"url(#clip582)\" cx=\"1363.7\" cy=\"59.9164\" r=\"14.4\" fill=\"#3da44d\" fill-rule=\"evenodd\" fill-opacity=\"1\" stroke=\"#000000\" stroke-opacity=\"1\" stroke-width=\"3.2\"/>\n",
       "<circle clip-path=\"url(#clip582)\" cx=\"1441.09\" cy=\"59.0559\" r=\"14.4\" fill=\"#3da44d\" fill-rule=\"evenodd\" fill-opacity=\"1\" stroke=\"#000000\" stroke-opacity=\"1\" stroke-width=\"3.2\"/>\n",
       "<circle clip-path=\"url(#clip582)\" cx=\"1518.48\" cy=\"59.7149\" r=\"14.4\" fill=\"#3da44d\" fill-rule=\"evenodd\" fill-opacity=\"1\" stroke=\"#000000\" stroke-opacity=\"1\" stroke-width=\"3.2\"/>\n",
       "<circle clip-path=\"url(#clip582)\" cx=\"1595.87\" cy=\"61.0011\" r=\"14.4\" fill=\"#3da44d\" fill-rule=\"evenodd\" fill-opacity=\"1\" stroke=\"#000000\" stroke-opacity=\"1\" stroke-width=\"3.2\"/>\n",
       "<circle clip-path=\"url(#clip582)\" cx=\"1673.26\" cy=\"60.7063\" r=\"14.4\" fill=\"#3da44d\" fill-rule=\"evenodd\" fill-opacity=\"1\" stroke=\"#000000\" stroke-opacity=\"1\" stroke-width=\"3.2\"/>\n",
       "<circle clip-path=\"url(#clip582)\" cx=\"1750.66\" cy=\"60.2045\" r=\"14.4\" fill=\"#3da44d\" fill-rule=\"evenodd\" fill-opacity=\"1\" stroke=\"#000000\" stroke-opacity=\"1\" stroke-width=\"3.2\"/>\n",
       "<circle clip-path=\"url(#clip582)\" cx=\"1828.05\" cy=\"60.2192\" r=\"14.4\" fill=\"#3da44d\" fill-rule=\"evenodd\" fill-opacity=\"1\" stroke=\"#000000\" stroke-opacity=\"1\" stroke-width=\"3.2\"/>\n",
       "<circle clip-path=\"url(#clip582)\" cx=\"1905.44\" cy=\"60.235\" r=\"14.4\" fill=\"#3da44d\" fill-rule=\"evenodd\" fill-opacity=\"1\" stroke=\"#000000\" stroke-opacity=\"1\" stroke-width=\"3.2\"/>\n",
       "<circle clip-path=\"url(#clip582)\" cx=\"1982.83\" cy=\"60.2478\" r=\"14.4\" fill=\"#3da44d\" fill-rule=\"evenodd\" fill-opacity=\"1\" stroke=\"#000000\" stroke-opacity=\"1\" stroke-width=\"3.2\"/>\n",
       "<circle clip-path=\"url(#clip582)\" cx=\"2060.22\" cy=\"60.2571\" r=\"14.4\" fill=\"#3da44d\" fill-rule=\"evenodd\" fill-opacity=\"1\" stroke=\"#000000\" stroke-opacity=\"1\" stroke-width=\"3.2\"/>\n",
       "<circle clip-path=\"url(#clip582)\" cx=\"2137.61\" cy=\"60.2635\" r=\"14.4\" fill=\"#3da44d\" fill-rule=\"evenodd\" fill-opacity=\"1\" stroke=\"#000000\" stroke-opacity=\"1\" stroke-width=\"3.2\"/>\n",
       "<circle clip-path=\"url(#clip582)\" cx=\"2215\" cy=\"60.2676\" r=\"14.4\" fill=\"#3da44d\" fill-rule=\"evenodd\" fill-opacity=\"1\" stroke=\"#000000\" stroke-opacity=\"1\" stroke-width=\"3.2\"/>\n",
       "<circle clip-path=\"url(#clip582)\" cx=\"2292.39\" cy=\"60.2703\" r=\"14.4\" fill=\"#3da44d\" fill-rule=\"evenodd\" fill-opacity=\"1\" stroke=\"#000000\" stroke-opacity=\"1\" stroke-width=\"3.2\"/>\n",
       "<polyline clip-path=\"url(#clip582)\" style=\"stroke:#0000ff; stroke-linecap:round; stroke-linejoin:round; stroke-width:20; stroke-opacity:0.3; fill:none\" points=\"280.231,347.76 357.622,322.036 435.013,256.288 512.403,183.969 589.794,124.484 667.185,84.3373 744.576,62.9945 821.966,55.997 899.357,57.5914 976.748,61.0352 1054.14,61.7005 1131.53,60.6952 1208.92,60.6993 1286.31,60.8654 1363.7,59.9164 1441.09,59.056 1518.48,59.7149 1595.87,61.0011 1673.26,60.7064 1750.66,60.2045 1828.05,60.2191 1905.44,60.2349 1982.83,60.2478 2060.22,60.2571 2137.61,60.2635 2215,60.2677 2292.39,60.2704 \"/>\n",
       "<path clip-path=\"url(#clip582)\" d=\"M280.231 331.76 L264.231 347.76 L280.231 363.76 L296.231 347.76 L280.231 331.76 Z\" fill=\"#c271d2\" fill-rule=\"evenodd\" fill-opacity=\"1\" stroke=\"#000000\" stroke-opacity=\"1\" stroke-width=\"3.2\"/>\n",
       "<path clip-path=\"url(#clip582)\" d=\"M357.622 306.036 L341.622 322.036 L357.622 338.036 L373.622 322.036 L357.622 306.036 Z\" fill=\"#c271d2\" fill-rule=\"evenodd\" fill-opacity=\"1\" stroke=\"#000000\" stroke-opacity=\"1\" stroke-width=\"3.2\"/>\n",
       "<path clip-path=\"url(#clip582)\" d=\"M435.013 240.288 L419.013 256.288 L435.013 272.288 L451.013 256.288 L435.013 240.288 Z\" fill=\"#c271d2\" fill-rule=\"evenodd\" fill-opacity=\"1\" stroke=\"#000000\" stroke-opacity=\"1\" stroke-width=\"3.2\"/>\n",
       "<path clip-path=\"url(#clip582)\" d=\"M512.403 167.969 L496.403 183.969 L512.403 199.969 L528.403 183.969 L512.403 167.969 Z\" fill=\"#c271d2\" fill-rule=\"evenodd\" fill-opacity=\"1\" stroke=\"#000000\" stroke-opacity=\"1\" stroke-width=\"3.2\"/>\n",
       "<path clip-path=\"url(#clip582)\" d=\"M589.794 108.484 L573.794 124.484 L589.794 140.484 L605.794 124.484 L589.794 108.484 Z\" fill=\"#c271d2\" fill-rule=\"evenodd\" fill-opacity=\"1\" stroke=\"#000000\" stroke-opacity=\"1\" stroke-width=\"3.2\"/>\n",
       "<path clip-path=\"url(#clip582)\" d=\"M667.185 68.3373 L651.185 84.3373 L667.185 100.337 L683.185 84.3373 L667.185 68.3373 Z\" fill=\"#c271d2\" fill-rule=\"evenodd\" fill-opacity=\"1\" stroke=\"#000000\" stroke-opacity=\"1\" stroke-width=\"3.2\"/>\n",
       "<path clip-path=\"url(#clip582)\" d=\"M744.576 46.9945 L728.576 62.9945 L744.576 78.9945 L760.576 62.9945 L744.576 46.9945 Z\" fill=\"#c271d2\" fill-rule=\"evenodd\" fill-opacity=\"1\" stroke=\"#000000\" stroke-opacity=\"1\" stroke-width=\"3.2\"/>\n",
       "<path clip-path=\"url(#clip582)\" d=\"M821.966 39.997 L805.966 55.997 L821.966 71.997 L837.966 55.997 L821.966 39.997 Z\" fill=\"#c271d2\" fill-rule=\"evenodd\" fill-opacity=\"1\" stroke=\"#000000\" stroke-opacity=\"1\" stroke-width=\"3.2\"/>\n",
       "<path clip-path=\"url(#clip582)\" d=\"M899.357 41.5914 L883.357 57.5914 L899.357 73.5914 L915.357 57.5914 L899.357 41.5914 Z\" fill=\"#c271d2\" fill-rule=\"evenodd\" fill-opacity=\"1\" stroke=\"#000000\" stroke-opacity=\"1\" stroke-width=\"3.2\"/>\n",
       "<path clip-path=\"url(#clip582)\" d=\"M976.748 45.0352 L960.748 61.0352 L976.748 77.0352 L992.748 61.0352 L976.748 45.0352 Z\" fill=\"#c271d2\" fill-rule=\"evenodd\" fill-opacity=\"1\" stroke=\"#000000\" stroke-opacity=\"1\" stroke-width=\"3.2\"/>\n",
       "<path clip-path=\"url(#clip582)\" d=\"M1054.14 45.7005 L1038.14 61.7005 L1054.14 77.7005 L1070.14 61.7005 L1054.14 45.7005 Z\" fill=\"#c271d2\" fill-rule=\"evenodd\" fill-opacity=\"1\" stroke=\"#000000\" stroke-opacity=\"1\" stroke-width=\"3.2\"/>\n",
       "<path clip-path=\"url(#clip582)\" d=\"M1131.53 44.6952 L1115.53 60.6952 L1131.53 76.6952 L1147.53 60.6952 L1131.53 44.6952 Z\" fill=\"#c271d2\" fill-rule=\"evenodd\" fill-opacity=\"1\" stroke=\"#000000\" stroke-opacity=\"1\" stroke-width=\"3.2\"/>\n",
       "<path clip-path=\"url(#clip582)\" d=\"M1208.92 44.6993 L1192.92 60.6993 L1208.92 76.6993 L1224.92 60.6993 L1208.92 44.6993 Z\" fill=\"#c271d2\" fill-rule=\"evenodd\" fill-opacity=\"1\" stroke=\"#000000\" stroke-opacity=\"1\" stroke-width=\"3.2\"/>\n",
       "<path clip-path=\"url(#clip582)\" d=\"M1286.31 44.8654 L1270.31 60.8654 L1286.31 76.8654 L1302.31 60.8654 L1286.31 44.8654 Z\" fill=\"#c271d2\" fill-rule=\"evenodd\" fill-opacity=\"1\" stroke=\"#000000\" stroke-opacity=\"1\" stroke-width=\"3.2\"/>\n",
       "<path clip-path=\"url(#clip582)\" d=\"M1363.7 43.9164 L1347.7 59.9164 L1363.7 75.9164 L1379.7 59.9164 L1363.7 43.9164 Z\" fill=\"#c271d2\" fill-rule=\"evenodd\" fill-opacity=\"1\" stroke=\"#000000\" stroke-opacity=\"1\" stroke-width=\"3.2\"/>\n",
       "<path clip-path=\"url(#clip582)\" d=\"M1441.09 43.056 L1425.09 59.056 L1441.09 75.056 L1457.09 59.056 L1441.09 43.056 Z\" fill=\"#c271d2\" fill-rule=\"evenodd\" fill-opacity=\"1\" stroke=\"#000000\" stroke-opacity=\"1\" stroke-width=\"3.2\"/>\n",
       "<path clip-path=\"url(#clip582)\" d=\"M1518.48 43.7149 L1502.48 59.7149 L1518.48 75.7149 L1534.48 59.7149 L1518.48 43.7149 Z\" fill=\"#c271d2\" fill-rule=\"evenodd\" fill-opacity=\"1\" stroke=\"#000000\" stroke-opacity=\"1\" stroke-width=\"3.2\"/>\n",
       "<path clip-path=\"url(#clip582)\" d=\"M1595.87 45.0011 L1579.87 61.0011 L1595.87 77.0011 L1611.87 61.0011 L1595.87 45.0011 Z\" fill=\"#c271d2\" fill-rule=\"evenodd\" fill-opacity=\"1\" stroke=\"#000000\" stroke-opacity=\"1\" stroke-width=\"3.2\"/>\n",
       "<path clip-path=\"url(#clip582)\" d=\"M1673.26 44.7064 L1657.26 60.7064 L1673.26 76.7064 L1689.26 60.7064 L1673.26 44.7064 Z\" fill=\"#c271d2\" fill-rule=\"evenodd\" fill-opacity=\"1\" stroke=\"#000000\" stroke-opacity=\"1\" stroke-width=\"3.2\"/>\n",
       "<path clip-path=\"url(#clip582)\" d=\"M1750.66 44.2045 L1734.66 60.2045 L1750.66 76.2045 L1766.66 60.2045 L1750.66 44.2045 Z\" fill=\"#c271d2\" fill-rule=\"evenodd\" fill-opacity=\"1\" stroke=\"#000000\" stroke-opacity=\"1\" stroke-width=\"3.2\"/>\n",
       "<path clip-path=\"url(#clip582)\" d=\"M1828.05 44.2191 L1812.05 60.2191 L1828.05 76.2191 L1844.05 60.2191 L1828.05 44.2191 Z\" fill=\"#c271d2\" fill-rule=\"evenodd\" fill-opacity=\"1\" stroke=\"#000000\" stroke-opacity=\"1\" stroke-width=\"3.2\"/>\n",
       "<path clip-path=\"url(#clip582)\" d=\"M1905.44 44.2349 L1889.44 60.2349 L1905.44 76.2349 L1921.44 60.2349 L1905.44 44.2349 Z\" fill=\"#c271d2\" fill-rule=\"evenodd\" fill-opacity=\"1\" stroke=\"#000000\" stroke-opacity=\"1\" stroke-width=\"3.2\"/>\n",
       "<path clip-path=\"url(#clip582)\" d=\"M1982.83 44.2478 L1966.83 60.2478 L1982.83 76.2478 L1998.83 60.2478 L1982.83 44.2478 Z\" fill=\"#c271d2\" fill-rule=\"evenodd\" fill-opacity=\"1\" stroke=\"#000000\" stroke-opacity=\"1\" stroke-width=\"3.2\"/>\n",
       "<path clip-path=\"url(#clip582)\" d=\"M2060.22 44.2571 L2044.22 60.2571 L2060.22 76.2571 L2076.22 60.2571 L2060.22 44.2571 Z\" fill=\"#c271d2\" fill-rule=\"evenodd\" fill-opacity=\"1\" stroke=\"#000000\" stroke-opacity=\"1\" stroke-width=\"3.2\"/>\n",
       "<path clip-path=\"url(#clip582)\" d=\"M2137.61 44.2635 L2121.61 60.2635 L2137.61 76.2635 L2153.61 60.2635 L2137.61 44.2635 Z\" fill=\"#c271d2\" fill-rule=\"evenodd\" fill-opacity=\"1\" stroke=\"#000000\" stroke-opacity=\"1\" stroke-width=\"3.2\"/>\n",
       "<path clip-path=\"url(#clip582)\" d=\"M2215 44.2677 L2199 60.2677 L2215 76.2677 L2231 60.2677 L2215 44.2677 Z\" fill=\"#c271d2\" fill-rule=\"evenodd\" fill-opacity=\"1\" stroke=\"#000000\" stroke-opacity=\"1\" stroke-width=\"3.2\"/>\n",
       "<path clip-path=\"url(#clip582)\" d=\"M2292.39 44.2704 L2276.39 60.2704 L2292.39 76.2704 L2308.39 60.2704 L2292.39 44.2704 Z\" fill=\"#c271d2\" fill-rule=\"evenodd\" fill-opacity=\"1\" stroke=\"#000000\" stroke-opacity=\"1\" stroke-width=\"3.2\"/>\n",
       "<path clip-path=\"url(#clip580)\" d=\"M219.866 889.847 L2352.76 889.847 L2352.76 580.577 L219.866 580.577  Z\" fill=\"#ffffff\" fill-rule=\"evenodd\" fill-opacity=\"1\"/>\n",
       "<defs>\n",
       "  <clipPath id=\"clip583\">\n",
       "    <rect x=\"219\" y=\"580\" width=\"2134\" height=\"310\"/>\n",
       "  </clipPath>\n",
       "</defs>\n",
       "<polyline clip-path=\"url(#clip583)\" style=\"stroke:#000000; stroke-linecap:round; stroke-linejoin:round; stroke-width:8; stroke-opacity:0.1; fill:none\" points=\"589.794,889.847 589.794,580.577 \"/>\n",
       "<polyline clip-path=\"url(#clip583)\" style=\"stroke:#000000; stroke-linecap:round; stroke-linejoin:round; stroke-width:8; stroke-opacity:0.1; fill:none\" points=\"976.748,889.847 976.748,580.577 \"/>\n",
       "<polyline clip-path=\"url(#clip583)\" style=\"stroke:#000000; stroke-linecap:round; stroke-linejoin:round; stroke-width:8; stroke-opacity:0.1; fill:none\" points=\"1363.7,889.847 1363.7,580.577 \"/>\n",
       "<polyline clip-path=\"url(#clip583)\" style=\"stroke:#000000; stroke-linecap:round; stroke-linejoin:round; stroke-width:8; stroke-opacity:0.1; fill:none\" points=\"1750.66,889.847 1750.66,580.577 \"/>\n",
       "<polyline clip-path=\"url(#clip583)\" style=\"stroke:#000000; stroke-linecap:round; stroke-linejoin:round; stroke-width:8; stroke-opacity:0.1; fill:none\" points=\"2137.61,889.847 2137.61,580.577 \"/>\n",
       "<polyline clip-path=\"url(#clip580)\" style=\"stroke:#000000; stroke-linecap:round; stroke-linejoin:round; stroke-width:4; stroke-opacity:1; fill:none\" points=\"219.866,889.847 2352.76,889.847 \"/>\n",
       "<polyline clip-path=\"url(#clip580)\" style=\"stroke:#000000; stroke-linecap:round; stroke-linejoin:round; stroke-width:4; stroke-opacity:1; fill:none\" points=\"589.794,889.847 589.794,870.949 \"/>\n",
       "<polyline clip-path=\"url(#clip580)\" style=\"stroke:#000000; stroke-linecap:round; stroke-linejoin:round; stroke-width:4; stroke-opacity:1; fill:none\" points=\"976.748,889.847 976.748,870.949 \"/>\n",
       "<polyline clip-path=\"url(#clip580)\" style=\"stroke:#000000; stroke-linecap:round; stroke-linejoin:round; stroke-width:4; stroke-opacity:1; fill:none\" points=\"1363.7,889.847 1363.7,870.949 \"/>\n",
       "<polyline clip-path=\"url(#clip580)\" style=\"stroke:#000000; stroke-linecap:round; stroke-linejoin:round; stroke-width:4; stroke-opacity:1; fill:none\" points=\"1750.66,889.847 1750.66,870.949 \"/>\n",
       "<polyline clip-path=\"url(#clip580)\" style=\"stroke:#000000; stroke-linecap:round; stroke-linejoin:round; stroke-width:4; stroke-opacity:1; fill:none\" points=\"2137.61,889.847 2137.61,870.949 \"/>\n",
       "<path clip-path=\"url(#clip580)\" d=\"M580.072 917.687 L598.428 917.687 L598.428 921.622 L584.354 921.622 L584.354 930.094 Q585.373 929.747 586.391 929.585 Q587.41 929.399 588.428 929.399 Q594.215 929.399 597.595 932.571 Q600.975 935.742 600.975 941.159 Q600.975 946.737 597.502 949.839 Q594.03 952.918 587.711 952.918 Q585.535 952.918 583.266 952.547 Q581.021 952.177 578.614 951.436 L578.614 946.737 Q580.697 947.872 582.919 948.427 Q585.141 948.983 587.618 948.983 Q591.623 948.983 593.961 946.876 Q596.299 944.77 596.299 941.159 Q596.299 937.548 593.961 935.441 Q591.623 933.335 587.618 933.335 Q585.743 933.335 583.868 933.751 Q582.016 934.168 580.072 935.048 L580.072 917.687 Z\" fill=\"#000000\" fill-rule=\"evenodd\" fill-opacity=\"1\" /><path clip-path=\"url(#clip580)\" d=\"M951.436 948.311 L959.074 948.311 L959.074 921.946 L950.764 923.612 L950.764 919.353 L959.028 917.687 L963.704 917.687 L963.704 948.311 L971.343 948.311 L971.343 952.247 L951.436 952.247 L951.436 948.311 Z\" fill=\"#000000\" fill-rule=\"evenodd\" fill-opacity=\"1\" /><path clip-path=\"url(#clip580)\" d=\"M990.787 920.765 Q987.176 920.765 985.347 924.33 Q983.542 927.872 983.542 935.001 Q983.542 942.108 985.347 945.672 Q987.176 949.214 990.787 949.214 Q994.422 949.214 996.227 945.672 Q998.056 942.108 998.056 935.001 Q998.056 927.872 996.227 924.33 Q994.422 920.765 990.787 920.765 M990.787 917.062 Q996.597 917.062 999.653 921.668 Q1002.73 926.251 1002.73 935.001 Q1002.73 943.728 999.653 948.334 Q996.597 952.918 990.787 952.918 Q984.977 952.918 981.898 948.334 Q978.843 943.728 978.843 935.001 Q978.843 926.251 981.898 921.668 Q984.977 917.062 990.787 917.062 Z\" fill=\"#000000\" fill-rule=\"evenodd\" fill-opacity=\"1\" /><path clip-path=\"url(#clip580)\" d=\"M1338.89 948.311 L1346.53 948.311 L1346.53 921.946 L1338.22 923.612 L1338.22 919.353 L1346.48 917.687 L1351.16 917.687 L1351.16 948.311 L1358.79 948.311 L1358.79 952.247 L1338.89 952.247 L1338.89 948.311 Z\" fill=\"#000000\" fill-rule=\"evenodd\" fill-opacity=\"1\" /><path clip-path=\"url(#clip580)\" d=\"M1368.29 917.687 L1386.64 917.687 L1386.64 921.622 L1372.57 921.622 L1372.57 930.094 Q1373.59 929.747 1374.6 929.585 Q1375.62 929.399 1376.64 929.399 Q1382.43 929.399 1385.81 932.571 Q1389.19 935.742 1389.19 941.159 Q1389.19 946.737 1385.72 949.839 Q1382.24 952.918 1375.92 952.918 Q1373.75 952.918 1371.48 952.547 Q1369.23 952.177 1366.83 951.436 L1366.83 946.737 Q1368.91 947.872 1371.13 948.427 Q1373.35 948.983 1375.83 948.983 Q1379.84 948.983 1382.17 946.876 Q1384.51 944.77 1384.51 941.159 Q1384.51 937.548 1382.17 935.441 Q1379.84 933.335 1375.83 933.335 Q1373.96 933.335 1372.08 933.751 Q1370.23 934.168 1368.29 935.048 L1368.29 917.687 Z\" fill=\"#000000\" fill-rule=\"evenodd\" fill-opacity=\"1\" /><path clip-path=\"url(#clip580)\" d=\"M1729.43 948.311 L1745.75 948.311 L1745.75 952.247 L1723.8 952.247 L1723.8 948.311 Q1726.47 945.557 1731.05 940.927 Q1735.66 936.274 1736.84 934.932 Q1739.08 932.409 1739.96 930.673 Q1740.86 928.913 1740.86 927.223 Q1740.86 924.469 1738.92 922.733 Q1737 920.997 1733.9 920.997 Q1731.7 920.997 1729.24 921.761 Q1726.81 922.524 1724.04 924.075 L1724.04 919.353 Q1726.86 918.219 1729.31 917.64 Q1731.77 917.062 1733.8 917.062 Q1739.17 917.062 1742.37 919.747 Q1745.56 922.432 1745.56 926.923 Q1745.56 929.052 1744.75 930.973 Q1743.97 932.872 1741.86 935.464 Q1741.28 936.135 1738.18 939.353 Q1735.08 942.547 1729.43 948.311 Z\" fill=\"#000000\" fill-rule=\"evenodd\" fill-opacity=\"1\" /><path clip-path=\"url(#clip580)\" d=\"M1765.56 920.765 Q1761.95 920.765 1760.12 924.33 Q1758.32 927.872 1758.32 935.001 Q1758.32 942.108 1760.12 945.672 Q1761.95 949.214 1765.56 949.214 Q1769.2 949.214 1771 945.672 Q1772.83 942.108 1772.83 935.001 Q1772.83 927.872 1771 924.33 Q1769.2 920.765 1765.56 920.765 M1765.56 917.062 Q1771.37 917.062 1774.43 921.668 Q1777.51 926.251 1777.51 935.001 Q1777.51 943.728 1774.43 948.334 Q1771.37 952.918 1765.56 952.918 Q1759.75 952.918 1756.67 948.334 Q1753.62 943.728 1753.62 935.001 Q1753.62 926.251 1756.67 921.668 Q1759.75 917.062 1765.56 917.062 Z\" fill=\"#000000\" fill-rule=\"evenodd\" fill-opacity=\"1\" /><path clip-path=\"url(#clip580)\" d=\"M2116.88 948.311 L2133.2 948.311 L2133.2 952.247 L2111.26 952.247 L2111.26 948.311 Q2113.92 945.557 2118.5 940.927 Q2123.11 936.274 2124.29 934.932 Q2126.53 932.409 2127.41 930.673 Q2128.32 928.913 2128.32 927.223 Q2128.32 924.469 2126.37 922.733 Q2124.45 920.997 2121.35 920.997 Q2119.15 920.997 2116.7 921.761 Q2114.26 922.524 2111.49 924.075 L2111.49 919.353 Q2114.31 918.219 2116.76 917.64 Q2119.22 917.062 2121.26 917.062 Q2126.63 917.062 2129.82 919.747 Q2133.01 922.432 2133.01 926.923 Q2133.01 929.052 2132.2 930.973 Q2131.42 932.872 2129.31 935.464 Q2128.73 936.135 2125.63 939.353 Q2122.53 942.547 2116.88 948.311 Z\" fill=\"#000000\" fill-rule=\"evenodd\" fill-opacity=\"1\" /><path clip-path=\"url(#clip580)\" d=\"M2143.06 917.687 L2161.42 917.687 L2161.42 921.622 L2147.34 921.622 L2147.34 930.094 Q2148.36 929.747 2149.38 929.585 Q2150.4 929.399 2151.42 929.399 Q2157.2 929.399 2160.58 932.571 Q2163.96 935.742 2163.96 941.159 Q2163.96 946.737 2160.49 949.839 Q2157.02 952.918 2150.7 952.918 Q2148.52 952.918 2146.26 952.547 Q2144.01 952.177 2141.6 951.436 L2141.6 946.737 Q2143.69 947.872 2145.91 948.427 Q2148.13 948.983 2150.61 948.983 Q2154.61 948.983 2156.95 946.876 Q2159.29 944.77 2159.29 941.159 Q2159.29 937.548 2156.95 935.441 Q2154.61 933.335 2150.61 933.335 Q2148.73 933.335 2146.86 933.751 Q2145.01 934.168 2143.06 935.048 L2143.06 917.687 Z\" fill=\"#000000\" fill-rule=\"evenodd\" fill-opacity=\"1\" /><path clip-path=\"url(#clip580)\" d=\"M1180.45 988.941 L1180.45 999.063 L1192.51 999.063 L1192.51 1003.61 L1180.45 1003.61 L1180.45 1022.97 Q1180.45 1027.33 1181.63 1028.57 Q1182.84 1029.81 1186.5 1029.81 L1192.51 1029.81 L1192.51 1034.71 L1186.5 1034.71 Q1179.72 1034.71 1177.14 1032.2 Q1174.56 1029.65 1174.56 1022.97 L1174.56 1003.61 L1170.26 1003.61 L1170.26 999.063 L1174.56 999.063 L1174.56 988.941 L1180.45 988.941 Z\" fill=\"#000000\" fill-rule=\"evenodd\" fill-opacity=\"1\" /><path clip-path=\"url(#clip580)\" d=\"M1200.21 999.063 L1206.07 999.063 L1206.07 1034.71 L1200.21 1034.71 L1200.21 999.063 M1200.21 985.185 L1206.07 985.185 L1206.07 992.601 L1200.21 992.601 L1200.21 985.185 Z\" fill=\"#000000\" fill-rule=\"evenodd\" fill-opacity=\"1\" /><path clip-path=\"url(#clip580)\" d=\"M1246.08 1005.91 Q1248.28 1001.96 1251.33 1000.08 Q1254.39 998.203 1258.52 998.203 Q1264.09 998.203 1267.12 1002.12 Q1270.14 1006 1270.14 1013.19 L1270.14 1034.71 L1264.25 1034.71 L1264.25 1013.39 Q1264.25 1008.26 1262.44 1005.78 Q1260.63 1003.3 1256.9 1003.3 Q1252.35 1003.3 1249.71 1006.32 Q1247.07 1009.34 1247.07 1014.56 L1247.07 1034.71 L1241.18 1034.71 L1241.18 1013.39 Q1241.18 1008.23 1239.36 1005.78 Q1237.55 1003.3 1233.76 1003.3 Q1229.27 1003.3 1226.63 1006.35 Q1223.99 1009.37 1223.99 1014.56 L1223.99 1034.71 L1218.1 1034.71 L1218.1 999.063 L1223.99 999.063 L1223.99 1004.6 Q1226 1001.32 1228.8 999.763 Q1231.6 998.203 1235.45 998.203 Q1239.33 998.203 1242.04 1000.18 Q1244.77 1002.15 1246.08 1005.91 Z\" fill=\"#000000\" fill-rule=\"evenodd\" fill-opacity=\"1\" /><path clip-path=\"url(#clip580)\" d=\"M1312.31 1015.42 L1312.31 1018.29 L1285.39 1018.29 Q1285.77 1024.33 1289.02 1027.52 Q1292.29 1030.67 1298.12 1030.67 Q1301.49 1030.67 1304.64 1029.84 Q1307.83 1029.01 1310.95 1027.36 L1310.95 1032.9 Q1307.8 1034.23 1304.49 1034.93 Q1301.18 1035.63 1297.77 1035.63 Q1289.24 1035.63 1284.24 1030.67 Q1279.28 1025.7 1279.28 1017.24 Q1279.28 1008.48 1283.99 1003.36 Q1288.73 998.203 1296.75 998.203 Q1303.94 998.203 1308.11 1002.85 Q1312.31 1007.47 1312.31 1015.42 M1306.46 1013.7 Q1306.39 1008.9 1303.75 1006.03 Q1301.14 1003.17 1296.81 1003.17 Q1291.91 1003.17 1288.95 1005.94 Q1286.02 1008.71 1285.58 1013.74 L1306.46 1013.7 Z\" fill=\"#000000\" fill-rule=\"evenodd\" fill-opacity=\"1\" /><path clip-path=\"url(#clip580)\" d=\"M1321.39 985.185 L1334.88 985.185 L1334.88 989.737 L1327.24 989.737 L1327.24 1038.75 L1334.88 1038.75 L1334.88 1043.3 L1321.39 1043.3 L1321.39 985.185 Z\" fill=\"#000000\" fill-rule=\"evenodd\" fill-opacity=\"1\" /><path clip-path=\"url(#clip580)\" d=\"M1376.99 1013.19 L1376.99 1034.71 L1371.13 1034.71 L1371.13 1013.39 Q1371.13 1008.32 1369.16 1005.81 Q1367.19 1003.3 1363.24 1003.3 Q1358.5 1003.3 1355.76 1006.32 Q1353.02 1009.34 1353.02 1014.56 L1353.02 1034.71 L1347.14 1034.71 L1347.14 985.185 L1353.02 985.185 L1353.02 1004.6 Q1355.12 1001.39 1357.96 999.795 Q1360.82 998.203 1364.55 998.203 Q1370.69 998.203 1373.84 1002.02 Q1376.99 1005.81 1376.99 1013.19 Z\" fill=\"#000000\" fill-rule=\"evenodd\" fill-opacity=\"1\" /><path clip-path=\"url(#clip580)\" d=\"M1402.36 985.185 L1402.36 1043.3 L1388.86 1043.3 L1388.86 1038.75 L1396.47 1038.75 L1396.47 989.737 L1388.86 989.737 L1388.86 985.185 L1402.36 985.185 Z\" fill=\"#000000\" fill-rule=\"evenodd\" fill-opacity=\"1\" /><polyline clip-path=\"url(#clip583)\" style=\"stroke:#000000; stroke-linecap:round; stroke-linejoin:round; stroke-width:8; stroke-opacity:0.1; fill:none\" points=\"219.866,832.847 2352.76,832.847 \"/>\n",
       "<polyline clip-path=\"url(#clip583)\" style=\"stroke:#000000; stroke-linecap:round; stroke-linejoin:round; stroke-width:8; stroke-opacity:0.1; fill:none\" points=\"219.866,759.27 2352.76,759.27 \"/>\n",
       "<polyline clip-path=\"url(#clip583)\" style=\"stroke:#000000; stroke-linecap:round; stroke-linejoin:round; stroke-width:8; stroke-opacity:0.1; fill:none\" points=\"219.866,685.692 2352.76,685.692 \"/>\n",
       "<polyline clip-path=\"url(#clip583)\" style=\"stroke:#000000; stroke-linecap:round; stroke-linejoin:round; stroke-width:8; stroke-opacity:0.1; fill:none\" points=\"219.866,612.114 2352.76,612.114 \"/>\n",
       "<polyline clip-path=\"url(#clip580)\" style=\"stroke:#000000; stroke-linecap:round; stroke-linejoin:round; stroke-width:4; stroke-opacity:1; fill:none\" points=\"219.866,889.847 219.866,580.577 \"/>\n",
       "<polyline clip-path=\"url(#clip580)\" style=\"stroke:#000000; stroke-linecap:round; stroke-linejoin:round; stroke-width:4; stroke-opacity:1; fill:none\" points=\"219.866,832.847 238.764,832.847 \"/>\n",
       "<polyline clip-path=\"url(#clip580)\" style=\"stroke:#000000; stroke-linecap:round; stroke-linejoin:round; stroke-width:4; stroke-opacity:1; fill:none\" points=\"219.866,759.27 238.764,759.27 \"/>\n",
       "<polyline clip-path=\"url(#clip580)\" style=\"stroke:#000000; stroke-linecap:round; stroke-linejoin:round; stroke-width:4; stroke-opacity:1; fill:none\" points=\"219.866,685.692 238.764,685.692 \"/>\n",
       "<polyline clip-path=\"url(#clip580)\" style=\"stroke:#000000; stroke-linecap:round; stroke-linejoin:round; stroke-width:4; stroke-opacity:1; fill:none\" points=\"219.866,612.114 238.764,612.114 \"/>\n",
       "<path clip-path=\"url(#clip580)\" d=\"M126.205 818.646 Q122.593 818.646 120.765 822.211 Q118.959 825.752 118.959 832.882 Q118.959 839.988 120.765 843.553 Q122.593 847.095 126.205 847.095 Q129.839 847.095 131.644 843.553 Q133.473 839.988 133.473 832.882 Q133.473 825.752 131.644 822.211 Q129.839 818.646 126.205 818.646 M126.205 814.942 Q132.015 814.942 135.07 819.549 Q138.149 824.132 138.149 832.882 Q138.149 841.609 135.07 846.215 Q132.015 850.798 126.205 850.798 Q120.394 850.798 117.316 846.215 Q114.26 841.609 114.26 832.882 Q114.26 824.132 117.316 819.549 Q120.394 814.942 126.205 814.942 Z\" fill=\"#000000\" fill-rule=\"evenodd\" fill-opacity=\"1\" /><path clip-path=\"url(#clip580)\" d=\"M146.366 844.248 L151.251 844.248 L151.251 850.127 L146.366 850.127 L146.366 844.248 Z\" fill=\"#000000\" fill-rule=\"evenodd\" fill-opacity=\"1\" /><path clip-path=\"url(#clip580)\" d=\"M174.283 819.641 L162.477 838.09 L174.283 838.09 L174.283 819.641 M173.056 815.567 L178.936 815.567 L178.936 838.09 L183.866 838.09 L183.866 841.979 L178.936 841.979 L178.936 850.127 L174.283 850.127 L174.283 841.979 L158.681 841.979 L158.681 837.465 L173.056 815.567 Z\" fill=\"#000000\" fill-rule=\"evenodd\" fill-opacity=\"1\" /><path clip-path=\"url(#clip580)\" d=\"M126.529 745.068 Q122.918 745.068 121.089 748.633 Q119.283 752.175 119.283 759.304 Q119.283 766.411 121.089 769.976 Q122.918 773.517 126.529 773.517 Q130.163 773.517 131.968 769.976 Q133.797 766.411 133.797 759.304 Q133.797 752.175 131.968 748.633 Q130.163 745.068 126.529 745.068 M126.529 741.365 Q132.339 741.365 135.394 745.971 Q138.473 750.554 138.473 759.304 Q138.473 768.031 135.394 772.638 Q132.339 777.221 126.529 777.221 Q120.718 777.221 117.64 772.638 Q114.584 768.031 114.584 759.304 Q114.584 750.554 117.64 745.971 Q120.718 741.365 126.529 741.365 Z\" fill=\"#000000\" fill-rule=\"evenodd\" fill-opacity=\"1\" /><path clip-path=\"url(#clip580)\" d=\"M146.691 770.67 L151.575 770.67 L151.575 776.55 L146.691 776.55 L146.691 770.67 Z\" fill=\"#000000\" fill-rule=\"evenodd\" fill-opacity=\"1\" /><path clip-path=\"url(#clip580)\" d=\"M172.339 757.406 Q169.19 757.406 167.339 759.559 Q165.51 761.712 165.51 765.462 Q165.51 769.188 167.339 771.364 Q169.19 773.517 172.339 773.517 Q175.487 773.517 177.315 771.364 Q179.167 769.188 179.167 765.462 Q179.167 761.712 177.315 759.559 Q175.487 757.406 172.339 757.406 M181.621 742.753 L181.621 747.013 Q179.862 746.179 178.056 745.74 Q176.274 745.3 174.514 745.3 Q169.885 745.3 167.431 748.425 Q165.001 751.55 164.653 757.869 Q166.019 755.855 168.079 754.79 Q170.139 753.702 172.616 753.702 Q177.825 753.702 180.834 756.874 Q183.866 760.022 183.866 765.462 Q183.866 770.786 180.718 774.003 Q177.57 777.221 172.339 777.221 Q166.343 777.221 163.172 772.638 Q160.001 768.031 160.001 759.304 Q160.001 751.11 163.89 746.249 Q167.778 741.365 174.329 741.365 Q176.089 741.365 177.871 741.712 Q179.676 742.059 181.621 742.753 Z\" fill=\"#000000\" fill-rule=\"evenodd\" fill-opacity=\"1\" /><path clip-path=\"url(#clip580)\" d=\"M126.783 671.491 Q123.172 671.491 121.343 675.055 Q119.538 678.597 119.538 685.727 Q119.538 692.833 121.343 696.398 Q123.172 699.94 126.783 699.94 Q130.417 699.94 132.223 696.398 Q134.052 692.833 134.052 685.727 Q134.052 678.597 132.223 675.055 Q130.417 671.491 126.783 671.491 M126.783 667.787 Q132.593 667.787 135.649 672.393 Q138.728 676.977 138.728 685.727 Q138.728 694.453 135.649 699.06 Q132.593 703.643 126.783 703.643 Q120.973 703.643 117.894 699.06 Q114.839 694.453 114.839 685.727 Q114.839 676.977 117.894 672.393 Q120.973 667.787 126.783 667.787 Z\" fill=\"#000000\" fill-rule=\"evenodd\" fill-opacity=\"1\" /><path clip-path=\"url(#clip580)\" d=\"M146.945 697.092 L151.829 697.092 L151.829 702.972 L146.945 702.972 L146.945 697.092 Z\" fill=\"#000000\" fill-rule=\"evenodd\" fill-opacity=\"1\" /><path clip-path=\"url(#clip580)\" d=\"M172.014 686.56 Q168.681 686.56 166.76 688.342 Q164.862 690.125 164.862 693.25 Q164.862 696.375 166.76 698.157 Q168.681 699.94 172.014 699.94 Q175.348 699.94 177.269 698.157 Q179.19 696.352 179.19 693.25 Q179.19 690.125 177.269 688.342 Q175.371 686.56 172.014 686.56 M167.339 684.569 Q164.329 683.829 162.64 681.768 Q160.973 679.708 160.973 676.745 Q160.973 672.602 163.913 670.194 Q166.876 667.787 172.014 667.787 Q177.176 667.787 180.116 670.194 Q183.056 672.602 183.056 676.745 Q183.056 679.708 181.366 681.768 Q179.7 683.829 176.714 684.569 Q180.093 685.356 181.968 687.648 Q183.866 689.94 183.866 693.25 Q183.866 698.273 180.788 700.958 Q177.732 703.643 172.014 703.643 Q166.297 703.643 163.218 700.958 Q160.163 698.273 160.163 693.25 Q160.163 689.94 162.061 687.648 Q163.959 685.356 167.339 684.569 M165.626 677.185 Q165.626 679.87 167.292 681.375 Q168.982 682.879 172.014 682.879 Q175.024 682.879 176.714 681.375 Q178.426 679.87 178.426 677.185 Q178.426 674.5 176.714 672.995 Q175.024 671.491 172.014 671.491 Q168.982 671.491 167.292 672.995 Q165.626 674.5 165.626 677.185 Z\" fill=\"#000000\" fill-rule=\"evenodd\" fill-opacity=\"1\" /><path clip-path=\"url(#clip580)\" d=\"M117.501 625.459 L125.14 625.459 L125.14 599.094 L116.83 600.76 L116.83 596.501 L125.093 594.834 L129.769 594.834 L129.769 625.459 L137.408 625.459 L137.408 629.394 L117.501 629.394 L117.501 625.459 Z\" fill=\"#000000\" fill-rule=\"evenodd\" fill-opacity=\"1\" /><path clip-path=\"url(#clip580)\" d=\"M146.853 623.515 L151.737 623.515 L151.737 629.394 L146.853 629.394 L146.853 623.515 Z\" fill=\"#000000\" fill-rule=\"evenodd\" fill-opacity=\"1\" /><path clip-path=\"url(#clip580)\" d=\"M171.922 597.913 Q168.311 597.913 166.482 601.478 Q164.677 605.019 164.677 612.149 Q164.677 619.255 166.482 622.82 Q168.311 626.362 171.922 626.362 Q175.556 626.362 177.362 622.82 Q179.19 619.255 179.19 612.149 Q179.19 605.019 177.362 601.478 Q175.556 597.913 171.922 597.913 M171.922 594.209 Q177.732 594.209 180.788 598.816 Q183.866 603.399 183.866 612.149 Q183.866 620.876 180.788 625.482 Q177.732 630.066 171.922 630.066 Q166.112 630.066 163.033 625.482 Q159.978 620.876 159.978 612.149 Q159.978 603.399 163.033 598.816 Q166.112 594.209 171.922 594.209 Z\" fill=\"#000000\" fill-rule=\"evenodd\" fill-opacity=\"1\" /><path clip-path=\"url(#clip580)\" d=\"M67.3143 785.246 Q73.68 787.729 75.6216 790.084 Q77.5631 792.44 77.5631 796.386 L77.5631 801.065 L72.6615 801.065 L72.6615 797.628 Q72.6615 795.209 71.5157 793.872 Q70.3699 792.535 66.1048 790.912 L63.4312 789.862 L28.3562 804.28 L28.3562 798.073 L56.238 786.933 L28.3562 775.793 L28.3562 769.587 L67.3143 785.246 Z\" fill=\"#000000\" fill-rule=\"evenodd\" fill-opacity=\"1\" /><path clip-path=\"url(#clip580)\" d=\"M74.8259 734.416 L79.3773 734.416 L79.3773 768.282 L74.8259 768.282 L74.8259 734.416 Z\" fill=\"#000000\" fill-rule=\"evenodd\" fill-opacity=\"1\" /><path clip-path=\"url(#clip580)\" d=\"M29.4065 706.184 L34.9447 706.184 Q33.6716 708.667 33.035 711.341 Q32.3984 714.014 32.3984 716.879 Q32.3984 721.239 33.7352 723.435 Q35.072 725.6 37.7456 725.6 Q39.7826 725.6 40.9603 724.04 Q42.1061 722.481 43.1565 717.77 L43.6021 715.765 Q44.9389 709.526 47.3897 706.916 Q49.8086 704.275 54.1691 704.275 Q59.1344 704.275 62.0308 708.221 Q64.9272 712.136 64.9272 719.011 Q64.9272 721.876 64.3543 724.995 Q63.8132 728.082 62.6992 731.52 L56.6518 731.52 Q58.3387 728.273 59.198 725.122 Q60.0256 721.971 60.0256 718.884 Q60.0256 714.746 58.6251 712.518 Q57.1929 710.29 54.6147 710.29 Q52.2276 710.29 50.9545 711.913 Q49.6813 713.505 48.5037 718.948 L48.0262 720.985 Q46.8804 726.427 44.5251 728.846 Q42.138 731.265 38.0002 731.265 Q32.9713 731.265 30.2341 727.7 Q27.4968 724.136 27.4968 717.579 Q27.4968 714.332 27.9743 711.468 Q28.4517 708.603 29.4065 706.184 Z\" fill=\"#000000\" fill-rule=\"evenodd\" fill-opacity=\"1\" /><path clip-path=\"url(#clip580)\" d=\"M58.5933 688.583 L58.5933 666.144 L64.0042 666.144 L64.0042 696.318 L58.5933 696.318 Q54.8057 692.657 48.44 686.355 Q42.0425 680.021 40.1964 678.398 Q36.7271 675.311 34.34 674.101 Q31.921 672.86 29.5975 672.86 Q25.8099 672.86 23.4228 675.533 Q21.0356 678.175 21.0356 682.44 Q21.0356 685.464 22.086 688.838 Q23.1363 692.18 25.2688 695.999 L18.7758 695.999 Q17.2162 692.116 16.4205 688.742 Q15.6248 685.368 15.6248 682.568 Q15.6248 675.183 19.3169 670.791 Q23.009 666.399 29.1837 666.399 Q32.112 666.399 34.7537 667.513 Q37.3637 668.595 40.9285 671.491 Q41.8515 672.287 46.2757 676.552 Q50.668 680.817 58.5933 688.583 Z\" fill=\"#000000\" fill-rule=\"evenodd\" fill-opacity=\"1\" /><polyline clip-path=\"url(#clip583)\" style=\"stroke:#000000; stroke-linecap:round; stroke-linejoin:round; stroke-width:4; stroke-opacity:1; fill:none\" stroke-dasharray=\"2, 4\" points=\"280.231,593.72 357.622,593.72 435.013,593.72 512.403,593.72 589.794,593.72 667.185,593.72 744.576,593.72 821.966,593.72 899.357,593.72 976.748,593.72 1054.14,593.72 1131.53,593.72 1208.92,593.72 1286.31,593.72 1363.7,593.72 1441.09,593.72 1518.48,593.72 1595.87,593.72 1673.26,593.72 1750.66,593.72 1828.05,593.72 1905.44,593.72 1982.83,593.72 2060.22,593.72 2137.61,593.72 2215,593.72 2292.39,593.72 \"/>\n",
       "<polyline clip-path=\"url(#clip583)\" style=\"stroke:#ff0000; stroke-linecap:round; stroke-linejoin:round; stroke-width:20; stroke-opacity:0.3; fill:none\" points=\"280.231,881.094 357.622,856.255 435.013,782.294 512.403,701.491 589.794,639.177 667.185,603.511 744.576,590.349 821.966,589.331 899.357,591.169 976.748,592.511 1054.14,592.585 1131.53,592.252 1208.92,592.583 1286.31,592.093 1363.7,591.048 1441.09,591.039 1518.48,591.902 1595.87,592.55 1673.26,592.044 1750.66,591.762 1828.05,591.891 1905.44,591.915 1982.83,591.906 2060.22,591.891 2137.61,591.877 2215,591.866 2292.39,591.859 \"/>\n",
       "<line clip-path=\"url(#clip583)\" x1=\"280.231\" y1=\"881.094\" x2=\"280.231\" y2=\"865.094\" style=\"stroke:#e26f46; stroke-width:3.2; stroke-opacity:1\"/>\n",
       "<line clip-path=\"url(#clip583)\" x1=\"280.231\" y1=\"881.094\" x2=\"264.231\" y2=\"881.094\" style=\"stroke:#e26f46; stroke-width:3.2; stroke-opacity:1\"/>\n",
       "<line clip-path=\"url(#clip583)\" x1=\"280.231\" y1=\"881.094\" x2=\"280.231\" y2=\"897.094\" style=\"stroke:#e26f46; stroke-width:3.2; stroke-opacity:1\"/>\n",
       "<line clip-path=\"url(#clip583)\" x1=\"280.231\" y1=\"881.094\" x2=\"296.231\" y2=\"881.094\" style=\"stroke:#e26f46; stroke-width:3.2; stroke-opacity:1\"/>\n",
       "<line clip-path=\"url(#clip583)\" x1=\"357.622\" y1=\"856.255\" x2=\"357.622\" y2=\"840.255\" style=\"stroke:#e26f46; stroke-width:3.2; stroke-opacity:1\"/>\n",
       "<line clip-path=\"url(#clip583)\" x1=\"357.622\" y1=\"856.255\" x2=\"341.622\" y2=\"856.255\" style=\"stroke:#e26f46; stroke-width:3.2; stroke-opacity:1\"/>\n",
       "<line clip-path=\"url(#clip583)\" x1=\"357.622\" y1=\"856.255\" x2=\"357.622\" y2=\"872.255\" style=\"stroke:#e26f46; stroke-width:3.2; stroke-opacity:1\"/>\n",
       "<line clip-path=\"url(#clip583)\" x1=\"357.622\" y1=\"856.255\" x2=\"373.622\" y2=\"856.255\" style=\"stroke:#e26f46; stroke-width:3.2; stroke-opacity:1\"/>\n",
       "<line clip-path=\"url(#clip583)\" x1=\"435.013\" y1=\"782.294\" x2=\"435.013\" y2=\"766.294\" style=\"stroke:#e26f46; stroke-width:3.2; stroke-opacity:1\"/>\n",
       "<line clip-path=\"url(#clip583)\" x1=\"435.013\" y1=\"782.294\" x2=\"419.013\" y2=\"782.294\" style=\"stroke:#e26f46; stroke-width:3.2; stroke-opacity:1\"/>\n",
       "<line clip-path=\"url(#clip583)\" x1=\"435.013\" y1=\"782.294\" x2=\"435.013\" y2=\"798.294\" style=\"stroke:#e26f46; stroke-width:3.2; stroke-opacity:1\"/>\n",
       "<line clip-path=\"url(#clip583)\" x1=\"435.013\" y1=\"782.294\" x2=\"451.013\" y2=\"782.294\" style=\"stroke:#e26f46; stroke-width:3.2; stroke-opacity:1\"/>\n",
       "<line clip-path=\"url(#clip583)\" x1=\"512.403\" y1=\"701.491\" x2=\"512.403\" y2=\"685.491\" style=\"stroke:#e26f46; stroke-width:3.2; stroke-opacity:1\"/>\n",
       "<line clip-path=\"url(#clip583)\" x1=\"512.403\" y1=\"701.491\" x2=\"496.403\" y2=\"701.491\" style=\"stroke:#e26f46; stroke-width:3.2; stroke-opacity:1\"/>\n",
       "<line clip-path=\"url(#clip583)\" x1=\"512.403\" y1=\"701.491\" x2=\"512.403\" y2=\"717.491\" style=\"stroke:#e26f46; stroke-width:3.2; stroke-opacity:1\"/>\n",
       "<line clip-path=\"url(#clip583)\" x1=\"512.403\" y1=\"701.491\" x2=\"528.403\" y2=\"701.491\" style=\"stroke:#e26f46; stroke-width:3.2; stroke-opacity:1\"/>\n",
       "<line clip-path=\"url(#clip583)\" x1=\"589.794\" y1=\"639.177\" x2=\"589.794\" y2=\"623.177\" style=\"stroke:#e26f46; stroke-width:3.2; stroke-opacity:1\"/>\n",
       "<line clip-path=\"url(#clip583)\" x1=\"589.794\" y1=\"639.177\" x2=\"573.794\" y2=\"639.177\" style=\"stroke:#e26f46; stroke-width:3.2; stroke-opacity:1\"/>\n",
       "<line clip-path=\"url(#clip583)\" x1=\"589.794\" y1=\"639.177\" x2=\"589.794\" y2=\"655.177\" style=\"stroke:#e26f46; stroke-width:3.2; stroke-opacity:1\"/>\n",
       "<line clip-path=\"url(#clip583)\" x1=\"589.794\" y1=\"639.177\" x2=\"605.794\" y2=\"639.177\" style=\"stroke:#e26f46; stroke-width:3.2; stroke-opacity:1\"/>\n",
       "<line clip-path=\"url(#clip583)\" x1=\"667.185\" y1=\"603.511\" x2=\"667.185\" y2=\"587.511\" style=\"stroke:#e26f46; stroke-width:3.2; stroke-opacity:1\"/>\n",
       "<line clip-path=\"url(#clip583)\" x1=\"667.185\" y1=\"603.511\" x2=\"651.185\" y2=\"603.511\" style=\"stroke:#e26f46; stroke-width:3.2; stroke-opacity:1\"/>\n",
       "<line clip-path=\"url(#clip583)\" x1=\"667.185\" y1=\"603.511\" x2=\"667.185\" y2=\"619.511\" style=\"stroke:#e26f46; stroke-width:3.2; stroke-opacity:1\"/>\n",
       "<line clip-path=\"url(#clip583)\" x1=\"667.185\" y1=\"603.511\" x2=\"683.185\" y2=\"603.511\" style=\"stroke:#e26f46; stroke-width:3.2; stroke-opacity:1\"/>\n",
       "<line clip-path=\"url(#clip583)\" x1=\"744.576\" y1=\"590.349\" x2=\"744.576\" y2=\"574.349\" style=\"stroke:#e26f46; stroke-width:3.2; stroke-opacity:1\"/>\n",
       "<line clip-path=\"url(#clip583)\" x1=\"744.576\" y1=\"590.349\" x2=\"728.576\" y2=\"590.349\" style=\"stroke:#e26f46; stroke-width:3.2; stroke-opacity:1\"/>\n",
       "<line clip-path=\"url(#clip583)\" x1=\"744.576\" y1=\"590.349\" x2=\"744.576\" y2=\"606.349\" style=\"stroke:#e26f46; stroke-width:3.2; stroke-opacity:1\"/>\n",
       "<line clip-path=\"url(#clip583)\" x1=\"744.576\" y1=\"590.349\" x2=\"760.576\" y2=\"590.349\" style=\"stroke:#e26f46; stroke-width:3.2; stroke-opacity:1\"/>\n",
       "<line clip-path=\"url(#clip583)\" x1=\"821.966\" y1=\"589.331\" x2=\"821.966\" y2=\"573.331\" style=\"stroke:#e26f46; stroke-width:3.2; stroke-opacity:1\"/>\n",
       "<line clip-path=\"url(#clip583)\" x1=\"821.966\" y1=\"589.331\" x2=\"805.966\" y2=\"589.331\" style=\"stroke:#e26f46; stroke-width:3.2; stroke-opacity:1\"/>\n",
       "<line clip-path=\"url(#clip583)\" x1=\"821.966\" y1=\"589.331\" x2=\"821.966\" y2=\"605.331\" style=\"stroke:#e26f46; stroke-width:3.2; stroke-opacity:1\"/>\n",
       "<line clip-path=\"url(#clip583)\" x1=\"821.966\" y1=\"589.331\" x2=\"837.966\" y2=\"589.331\" style=\"stroke:#e26f46; stroke-width:3.2; stroke-opacity:1\"/>\n",
       "<line clip-path=\"url(#clip583)\" x1=\"899.357\" y1=\"591.169\" x2=\"899.357\" y2=\"575.169\" style=\"stroke:#e26f46; stroke-width:3.2; stroke-opacity:1\"/>\n",
       "<line clip-path=\"url(#clip583)\" x1=\"899.357\" y1=\"591.169\" x2=\"883.357\" y2=\"591.169\" style=\"stroke:#e26f46; stroke-width:3.2; stroke-opacity:1\"/>\n",
       "<line clip-path=\"url(#clip583)\" x1=\"899.357\" y1=\"591.169\" x2=\"899.357\" y2=\"607.169\" style=\"stroke:#e26f46; stroke-width:3.2; stroke-opacity:1\"/>\n",
       "<line clip-path=\"url(#clip583)\" x1=\"899.357\" y1=\"591.169\" x2=\"915.357\" y2=\"591.169\" style=\"stroke:#e26f46; stroke-width:3.2; stroke-opacity:1\"/>\n",
       "<line clip-path=\"url(#clip583)\" x1=\"976.748\" y1=\"592.511\" x2=\"976.748\" y2=\"576.511\" style=\"stroke:#e26f46; stroke-width:3.2; stroke-opacity:1\"/>\n",
       "<line clip-path=\"url(#clip583)\" x1=\"976.748\" y1=\"592.511\" x2=\"960.748\" y2=\"592.511\" style=\"stroke:#e26f46; stroke-width:3.2; stroke-opacity:1\"/>\n",
       "<line clip-path=\"url(#clip583)\" x1=\"976.748\" y1=\"592.511\" x2=\"976.748\" y2=\"608.511\" style=\"stroke:#e26f46; stroke-width:3.2; stroke-opacity:1\"/>\n",
       "<line clip-path=\"url(#clip583)\" x1=\"976.748\" y1=\"592.511\" x2=\"992.748\" y2=\"592.511\" style=\"stroke:#e26f46; stroke-width:3.2; stroke-opacity:1\"/>\n",
       "<line clip-path=\"url(#clip583)\" x1=\"1054.14\" y1=\"592.585\" x2=\"1054.14\" y2=\"576.585\" style=\"stroke:#e26f46; stroke-width:3.2; stroke-opacity:1\"/>\n",
       "<line clip-path=\"url(#clip583)\" x1=\"1054.14\" y1=\"592.585\" x2=\"1038.14\" y2=\"592.585\" style=\"stroke:#e26f46; stroke-width:3.2; stroke-opacity:1\"/>\n",
       "<line clip-path=\"url(#clip583)\" x1=\"1054.14\" y1=\"592.585\" x2=\"1054.14\" y2=\"608.585\" style=\"stroke:#e26f46; stroke-width:3.2; stroke-opacity:1\"/>\n",
       "<line clip-path=\"url(#clip583)\" x1=\"1054.14\" y1=\"592.585\" x2=\"1070.14\" y2=\"592.585\" style=\"stroke:#e26f46; stroke-width:3.2; stroke-opacity:1\"/>\n",
       "<line clip-path=\"url(#clip583)\" x1=\"1131.53\" y1=\"592.252\" x2=\"1131.53\" y2=\"576.252\" style=\"stroke:#e26f46; stroke-width:3.2; stroke-opacity:1\"/>\n",
       "<line clip-path=\"url(#clip583)\" x1=\"1131.53\" y1=\"592.252\" x2=\"1115.53\" y2=\"592.252\" style=\"stroke:#e26f46; stroke-width:3.2; stroke-opacity:1\"/>\n",
       "<line clip-path=\"url(#clip583)\" x1=\"1131.53\" y1=\"592.252\" x2=\"1131.53\" y2=\"608.252\" style=\"stroke:#e26f46; stroke-width:3.2; stroke-opacity:1\"/>\n",
       "<line clip-path=\"url(#clip583)\" x1=\"1131.53\" y1=\"592.252\" x2=\"1147.53\" y2=\"592.252\" style=\"stroke:#e26f46; stroke-width:3.2; stroke-opacity:1\"/>\n",
       "<line clip-path=\"url(#clip583)\" x1=\"1208.92\" y1=\"592.583\" x2=\"1208.92\" y2=\"576.583\" style=\"stroke:#e26f46; stroke-width:3.2; stroke-opacity:1\"/>\n",
       "<line clip-path=\"url(#clip583)\" x1=\"1208.92\" y1=\"592.583\" x2=\"1192.92\" y2=\"592.583\" style=\"stroke:#e26f46; stroke-width:3.2; stroke-opacity:1\"/>\n",
       "<line clip-path=\"url(#clip583)\" x1=\"1208.92\" y1=\"592.583\" x2=\"1208.92\" y2=\"608.583\" style=\"stroke:#e26f46; stroke-width:3.2; stroke-opacity:1\"/>\n",
       "<line clip-path=\"url(#clip583)\" x1=\"1208.92\" y1=\"592.583\" x2=\"1224.92\" y2=\"592.583\" style=\"stroke:#e26f46; stroke-width:3.2; stroke-opacity:1\"/>\n",
       "<line clip-path=\"url(#clip583)\" x1=\"1286.31\" y1=\"592.093\" x2=\"1286.31\" y2=\"576.093\" style=\"stroke:#e26f46; stroke-width:3.2; stroke-opacity:1\"/>\n",
       "<line clip-path=\"url(#clip583)\" x1=\"1286.31\" y1=\"592.093\" x2=\"1270.31\" y2=\"592.093\" style=\"stroke:#e26f46; stroke-width:3.2; stroke-opacity:1\"/>\n",
       "<line clip-path=\"url(#clip583)\" x1=\"1286.31\" y1=\"592.093\" x2=\"1286.31\" y2=\"608.093\" style=\"stroke:#e26f46; stroke-width:3.2; stroke-opacity:1\"/>\n",
       "<line clip-path=\"url(#clip583)\" x1=\"1286.31\" y1=\"592.093\" x2=\"1302.31\" y2=\"592.093\" style=\"stroke:#e26f46; stroke-width:3.2; stroke-opacity:1\"/>\n",
       "<line clip-path=\"url(#clip583)\" x1=\"1363.7\" y1=\"591.048\" x2=\"1363.7\" y2=\"575.048\" style=\"stroke:#e26f46; stroke-width:3.2; stroke-opacity:1\"/>\n",
       "<line clip-path=\"url(#clip583)\" x1=\"1363.7\" y1=\"591.048\" x2=\"1347.7\" y2=\"591.048\" style=\"stroke:#e26f46; stroke-width:3.2; stroke-opacity:1\"/>\n",
       "<line clip-path=\"url(#clip583)\" x1=\"1363.7\" y1=\"591.048\" x2=\"1363.7\" y2=\"607.048\" style=\"stroke:#e26f46; stroke-width:3.2; stroke-opacity:1\"/>\n",
       "<line clip-path=\"url(#clip583)\" x1=\"1363.7\" y1=\"591.048\" x2=\"1379.7\" y2=\"591.048\" style=\"stroke:#e26f46; stroke-width:3.2; stroke-opacity:1\"/>\n",
       "<line clip-path=\"url(#clip583)\" x1=\"1441.09\" y1=\"591.039\" x2=\"1441.09\" y2=\"575.039\" style=\"stroke:#e26f46; stroke-width:3.2; stroke-opacity:1\"/>\n",
       "<line clip-path=\"url(#clip583)\" x1=\"1441.09\" y1=\"591.039\" x2=\"1425.09\" y2=\"591.039\" style=\"stroke:#e26f46; stroke-width:3.2; stroke-opacity:1\"/>\n",
       "<line clip-path=\"url(#clip583)\" x1=\"1441.09\" y1=\"591.039\" x2=\"1441.09\" y2=\"607.039\" style=\"stroke:#e26f46; stroke-width:3.2; stroke-opacity:1\"/>\n",
       "<line clip-path=\"url(#clip583)\" x1=\"1441.09\" y1=\"591.039\" x2=\"1457.09\" y2=\"591.039\" style=\"stroke:#e26f46; stroke-width:3.2; stroke-opacity:1\"/>\n",
       "<line clip-path=\"url(#clip583)\" x1=\"1518.48\" y1=\"591.902\" x2=\"1518.48\" y2=\"575.902\" style=\"stroke:#e26f46; stroke-width:3.2; stroke-opacity:1\"/>\n",
       "<line clip-path=\"url(#clip583)\" x1=\"1518.48\" y1=\"591.902\" x2=\"1502.48\" y2=\"591.902\" style=\"stroke:#e26f46; stroke-width:3.2; stroke-opacity:1\"/>\n",
       "<line clip-path=\"url(#clip583)\" x1=\"1518.48\" y1=\"591.902\" x2=\"1518.48\" y2=\"607.902\" style=\"stroke:#e26f46; stroke-width:3.2; stroke-opacity:1\"/>\n",
       "<line clip-path=\"url(#clip583)\" x1=\"1518.48\" y1=\"591.902\" x2=\"1534.48\" y2=\"591.902\" style=\"stroke:#e26f46; stroke-width:3.2; stroke-opacity:1\"/>\n",
       "<line clip-path=\"url(#clip583)\" x1=\"1595.87\" y1=\"592.55\" x2=\"1595.87\" y2=\"576.55\" style=\"stroke:#e26f46; stroke-width:3.2; stroke-opacity:1\"/>\n",
       "<line clip-path=\"url(#clip583)\" x1=\"1595.87\" y1=\"592.55\" x2=\"1579.87\" y2=\"592.55\" style=\"stroke:#e26f46; stroke-width:3.2; stroke-opacity:1\"/>\n",
       "<line clip-path=\"url(#clip583)\" x1=\"1595.87\" y1=\"592.55\" x2=\"1595.87\" y2=\"608.55\" style=\"stroke:#e26f46; stroke-width:3.2; stroke-opacity:1\"/>\n",
       "<line clip-path=\"url(#clip583)\" x1=\"1595.87\" y1=\"592.55\" x2=\"1611.87\" y2=\"592.55\" style=\"stroke:#e26f46; stroke-width:3.2; stroke-opacity:1\"/>\n",
       "<line clip-path=\"url(#clip583)\" x1=\"1673.26\" y1=\"592.044\" x2=\"1673.26\" y2=\"576.044\" style=\"stroke:#e26f46; stroke-width:3.2; stroke-opacity:1\"/>\n",
       "<line clip-path=\"url(#clip583)\" x1=\"1673.26\" y1=\"592.044\" x2=\"1657.26\" y2=\"592.044\" style=\"stroke:#e26f46; stroke-width:3.2; stroke-opacity:1\"/>\n",
       "<line clip-path=\"url(#clip583)\" x1=\"1673.26\" y1=\"592.044\" x2=\"1673.26\" y2=\"608.044\" style=\"stroke:#e26f46; stroke-width:3.2; stroke-opacity:1\"/>\n",
       "<line clip-path=\"url(#clip583)\" x1=\"1673.26\" y1=\"592.044\" x2=\"1689.26\" y2=\"592.044\" style=\"stroke:#e26f46; stroke-width:3.2; stroke-opacity:1\"/>\n",
       "<line clip-path=\"url(#clip583)\" x1=\"1750.66\" y1=\"591.762\" x2=\"1750.66\" y2=\"575.762\" style=\"stroke:#e26f46; stroke-width:3.2; stroke-opacity:1\"/>\n",
       "<line clip-path=\"url(#clip583)\" x1=\"1750.66\" y1=\"591.762\" x2=\"1734.66\" y2=\"591.762\" style=\"stroke:#e26f46; stroke-width:3.2; stroke-opacity:1\"/>\n",
       "<line clip-path=\"url(#clip583)\" x1=\"1750.66\" y1=\"591.762\" x2=\"1750.66\" y2=\"607.762\" style=\"stroke:#e26f46; stroke-width:3.2; stroke-opacity:1\"/>\n",
       "<line clip-path=\"url(#clip583)\" x1=\"1750.66\" y1=\"591.762\" x2=\"1766.66\" y2=\"591.762\" style=\"stroke:#e26f46; stroke-width:3.2; stroke-opacity:1\"/>\n",
       "<line clip-path=\"url(#clip583)\" x1=\"1828.05\" y1=\"591.891\" x2=\"1828.05\" y2=\"575.891\" style=\"stroke:#e26f46; stroke-width:3.2; stroke-opacity:1\"/>\n",
       "<line clip-path=\"url(#clip583)\" x1=\"1828.05\" y1=\"591.891\" x2=\"1812.05\" y2=\"591.891\" style=\"stroke:#e26f46; stroke-width:3.2; stroke-opacity:1\"/>\n",
       "<line clip-path=\"url(#clip583)\" x1=\"1828.05\" y1=\"591.891\" x2=\"1828.05\" y2=\"607.891\" style=\"stroke:#e26f46; stroke-width:3.2; stroke-opacity:1\"/>\n",
       "<line clip-path=\"url(#clip583)\" x1=\"1828.05\" y1=\"591.891\" x2=\"1844.05\" y2=\"591.891\" style=\"stroke:#e26f46; stroke-width:3.2; stroke-opacity:1\"/>\n",
       "<line clip-path=\"url(#clip583)\" x1=\"1905.44\" y1=\"591.915\" x2=\"1905.44\" y2=\"575.915\" style=\"stroke:#e26f46; stroke-width:3.2; stroke-opacity:1\"/>\n",
       "<line clip-path=\"url(#clip583)\" x1=\"1905.44\" y1=\"591.915\" x2=\"1889.44\" y2=\"591.915\" style=\"stroke:#e26f46; stroke-width:3.2; stroke-opacity:1\"/>\n",
       "<line clip-path=\"url(#clip583)\" x1=\"1905.44\" y1=\"591.915\" x2=\"1905.44\" y2=\"607.915\" style=\"stroke:#e26f46; stroke-width:3.2; stroke-opacity:1\"/>\n",
       "<line clip-path=\"url(#clip583)\" x1=\"1905.44\" y1=\"591.915\" x2=\"1921.44\" y2=\"591.915\" style=\"stroke:#e26f46; stroke-width:3.2; stroke-opacity:1\"/>\n",
       "<line clip-path=\"url(#clip583)\" x1=\"1982.83\" y1=\"591.906\" x2=\"1982.83\" y2=\"575.906\" style=\"stroke:#e26f46; stroke-width:3.2; stroke-opacity:1\"/>\n",
       "<line clip-path=\"url(#clip583)\" x1=\"1982.83\" y1=\"591.906\" x2=\"1966.83\" y2=\"591.906\" style=\"stroke:#e26f46; stroke-width:3.2; stroke-opacity:1\"/>\n",
       "<line clip-path=\"url(#clip583)\" x1=\"1982.83\" y1=\"591.906\" x2=\"1982.83\" y2=\"607.906\" style=\"stroke:#e26f46; stroke-width:3.2; stroke-opacity:1\"/>\n",
       "<line clip-path=\"url(#clip583)\" x1=\"1982.83\" y1=\"591.906\" x2=\"1998.83\" y2=\"591.906\" style=\"stroke:#e26f46; stroke-width:3.2; stroke-opacity:1\"/>\n",
       "<line clip-path=\"url(#clip583)\" x1=\"2060.22\" y1=\"591.891\" x2=\"2060.22\" y2=\"575.891\" style=\"stroke:#e26f46; stroke-width:3.2; stroke-opacity:1\"/>\n",
       "<line clip-path=\"url(#clip583)\" x1=\"2060.22\" y1=\"591.891\" x2=\"2044.22\" y2=\"591.891\" style=\"stroke:#e26f46; stroke-width:3.2; stroke-opacity:1\"/>\n",
       "<line clip-path=\"url(#clip583)\" x1=\"2060.22\" y1=\"591.891\" x2=\"2060.22\" y2=\"607.891\" style=\"stroke:#e26f46; stroke-width:3.2; stroke-opacity:1\"/>\n",
       "<line clip-path=\"url(#clip583)\" x1=\"2060.22\" y1=\"591.891\" x2=\"2076.22\" y2=\"591.891\" style=\"stroke:#e26f46; stroke-width:3.2; stroke-opacity:1\"/>\n",
       "<line clip-path=\"url(#clip583)\" x1=\"2137.61\" y1=\"591.877\" x2=\"2137.61\" y2=\"575.877\" style=\"stroke:#e26f46; stroke-width:3.2; stroke-opacity:1\"/>\n",
       "<line clip-path=\"url(#clip583)\" x1=\"2137.61\" y1=\"591.877\" x2=\"2121.61\" y2=\"591.877\" style=\"stroke:#e26f46; stroke-width:3.2; stroke-opacity:1\"/>\n",
       "<line clip-path=\"url(#clip583)\" x1=\"2137.61\" y1=\"591.877\" x2=\"2137.61\" y2=\"607.877\" style=\"stroke:#e26f46; stroke-width:3.2; stroke-opacity:1\"/>\n",
       "<line clip-path=\"url(#clip583)\" x1=\"2137.61\" y1=\"591.877\" x2=\"2153.61\" y2=\"591.877\" style=\"stroke:#e26f46; stroke-width:3.2; stroke-opacity:1\"/>\n",
       "<line clip-path=\"url(#clip583)\" x1=\"2215\" y1=\"591.866\" x2=\"2215\" y2=\"575.866\" style=\"stroke:#e26f46; stroke-width:3.2; stroke-opacity:1\"/>\n",
       "<line clip-path=\"url(#clip583)\" x1=\"2215\" y1=\"591.866\" x2=\"2199\" y2=\"591.866\" style=\"stroke:#e26f46; stroke-width:3.2; stroke-opacity:1\"/>\n",
       "<line clip-path=\"url(#clip583)\" x1=\"2215\" y1=\"591.866\" x2=\"2215\" y2=\"607.866\" style=\"stroke:#e26f46; stroke-width:3.2; stroke-opacity:1\"/>\n",
       "<line clip-path=\"url(#clip583)\" x1=\"2215\" y1=\"591.866\" x2=\"2231\" y2=\"591.866\" style=\"stroke:#e26f46; stroke-width:3.2; stroke-opacity:1\"/>\n",
       "<line clip-path=\"url(#clip583)\" x1=\"2292.39\" y1=\"591.859\" x2=\"2292.39\" y2=\"575.859\" style=\"stroke:#e26f46; stroke-width:3.2; stroke-opacity:1\"/>\n",
       "<line clip-path=\"url(#clip583)\" x1=\"2292.39\" y1=\"591.859\" x2=\"2276.39\" y2=\"591.859\" style=\"stroke:#e26f46; stroke-width:3.2; stroke-opacity:1\"/>\n",
       "<line clip-path=\"url(#clip583)\" x1=\"2292.39\" y1=\"591.859\" x2=\"2292.39\" y2=\"607.859\" style=\"stroke:#e26f46; stroke-width:3.2; stroke-opacity:1\"/>\n",
       "<line clip-path=\"url(#clip583)\" x1=\"2292.39\" y1=\"591.859\" x2=\"2308.39\" y2=\"591.859\" style=\"stroke:#e26f46; stroke-width:3.2; stroke-opacity:1\"/>\n",
       "<polyline clip-path=\"url(#clip583)\" style=\"stroke:#80007f; stroke-linecap:round; stroke-linejoin:round; stroke-width:20; stroke-opacity:0.3; fill:none\" points=\"280.231,881.094 357.622,856.255 435.013,782.294 512.403,701.491 589.794,639.178 667.185,603.511 744.576,590.349 821.966,589.331 899.357,591.169 976.748,592.511 1054.14,592.585 1131.53,592.252 1208.92,592.583 1286.31,592.093 1363.7,591.048 1441.09,591.039 1518.48,591.902 1595.87,592.55 1673.26,592.044 1750.66,591.762 1828.05,591.891 1905.44,591.915 1982.83,591.906 2060.22,591.891 2137.61,591.877 2215,591.866 2292.39,591.859 \"/>\n",
       "<circle clip-path=\"url(#clip583)\" cx=\"280.231\" cy=\"881.094\" r=\"14.4\" fill=\"#3da44d\" fill-rule=\"evenodd\" fill-opacity=\"1\" stroke=\"#000000\" stroke-opacity=\"1\" stroke-width=\"3.2\"/>\n",
       "<circle clip-path=\"url(#clip583)\" cx=\"357.622\" cy=\"856.255\" r=\"14.4\" fill=\"#3da44d\" fill-rule=\"evenodd\" fill-opacity=\"1\" stroke=\"#000000\" stroke-opacity=\"1\" stroke-width=\"3.2\"/>\n",
       "<circle clip-path=\"url(#clip583)\" cx=\"435.013\" cy=\"782.294\" r=\"14.4\" fill=\"#3da44d\" fill-rule=\"evenodd\" fill-opacity=\"1\" stroke=\"#000000\" stroke-opacity=\"1\" stroke-width=\"3.2\"/>\n",
       "<circle clip-path=\"url(#clip583)\" cx=\"512.403\" cy=\"701.491\" r=\"14.4\" fill=\"#3da44d\" fill-rule=\"evenodd\" fill-opacity=\"1\" stroke=\"#000000\" stroke-opacity=\"1\" stroke-width=\"3.2\"/>\n",
       "<circle clip-path=\"url(#clip583)\" cx=\"589.794\" cy=\"639.178\" r=\"14.4\" fill=\"#3da44d\" fill-rule=\"evenodd\" fill-opacity=\"1\" stroke=\"#000000\" stroke-opacity=\"1\" stroke-width=\"3.2\"/>\n",
       "<circle clip-path=\"url(#clip583)\" cx=\"667.185\" cy=\"603.511\" r=\"14.4\" fill=\"#3da44d\" fill-rule=\"evenodd\" fill-opacity=\"1\" stroke=\"#000000\" stroke-opacity=\"1\" stroke-width=\"3.2\"/>\n",
       "<circle clip-path=\"url(#clip583)\" cx=\"744.576\" cy=\"590.349\" r=\"14.4\" fill=\"#3da44d\" fill-rule=\"evenodd\" fill-opacity=\"1\" stroke=\"#000000\" stroke-opacity=\"1\" stroke-width=\"3.2\"/>\n",
       "<circle clip-path=\"url(#clip583)\" cx=\"821.966\" cy=\"589.331\" r=\"14.4\" fill=\"#3da44d\" fill-rule=\"evenodd\" fill-opacity=\"1\" stroke=\"#000000\" stroke-opacity=\"1\" stroke-width=\"3.2\"/>\n",
       "<circle clip-path=\"url(#clip583)\" cx=\"899.357\" cy=\"591.169\" r=\"14.4\" fill=\"#3da44d\" fill-rule=\"evenodd\" fill-opacity=\"1\" stroke=\"#000000\" stroke-opacity=\"1\" stroke-width=\"3.2\"/>\n",
       "<circle clip-path=\"url(#clip583)\" cx=\"976.748\" cy=\"592.511\" r=\"14.4\" fill=\"#3da44d\" fill-rule=\"evenodd\" fill-opacity=\"1\" stroke=\"#000000\" stroke-opacity=\"1\" stroke-width=\"3.2\"/>\n",
       "<circle clip-path=\"url(#clip583)\" cx=\"1054.14\" cy=\"592.585\" r=\"14.4\" fill=\"#3da44d\" fill-rule=\"evenodd\" fill-opacity=\"1\" stroke=\"#000000\" stroke-opacity=\"1\" stroke-width=\"3.2\"/>\n",
       "<circle clip-path=\"url(#clip583)\" cx=\"1131.53\" cy=\"592.252\" r=\"14.4\" fill=\"#3da44d\" fill-rule=\"evenodd\" fill-opacity=\"1\" stroke=\"#000000\" stroke-opacity=\"1\" stroke-width=\"3.2\"/>\n",
       "<circle clip-path=\"url(#clip583)\" cx=\"1208.92\" cy=\"592.583\" r=\"14.4\" fill=\"#3da44d\" fill-rule=\"evenodd\" fill-opacity=\"1\" stroke=\"#000000\" stroke-opacity=\"1\" stroke-width=\"3.2\"/>\n",
       "<circle clip-path=\"url(#clip583)\" cx=\"1286.31\" cy=\"592.093\" r=\"14.4\" fill=\"#3da44d\" fill-rule=\"evenodd\" fill-opacity=\"1\" stroke=\"#000000\" stroke-opacity=\"1\" stroke-width=\"3.2\"/>\n",
       "<circle clip-path=\"url(#clip583)\" cx=\"1363.7\" cy=\"591.048\" r=\"14.4\" fill=\"#3da44d\" fill-rule=\"evenodd\" fill-opacity=\"1\" stroke=\"#000000\" stroke-opacity=\"1\" stroke-width=\"3.2\"/>\n",
       "<circle clip-path=\"url(#clip583)\" cx=\"1441.09\" cy=\"591.039\" r=\"14.4\" fill=\"#3da44d\" fill-rule=\"evenodd\" fill-opacity=\"1\" stroke=\"#000000\" stroke-opacity=\"1\" stroke-width=\"3.2\"/>\n",
       "<circle clip-path=\"url(#clip583)\" cx=\"1518.48\" cy=\"591.902\" r=\"14.4\" fill=\"#3da44d\" fill-rule=\"evenodd\" fill-opacity=\"1\" stroke=\"#000000\" stroke-opacity=\"1\" stroke-width=\"3.2\"/>\n",
       "<circle clip-path=\"url(#clip583)\" cx=\"1595.87\" cy=\"592.55\" r=\"14.4\" fill=\"#3da44d\" fill-rule=\"evenodd\" fill-opacity=\"1\" stroke=\"#000000\" stroke-opacity=\"1\" stroke-width=\"3.2\"/>\n",
       "<circle clip-path=\"url(#clip583)\" cx=\"1673.26\" cy=\"592.044\" r=\"14.4\" fill=\"#3da44d\" fill-rule=\"evenodd\" fill-opacity=\"1\" stroke=\"#000000\" stroke-opacity=\"1\" stroke-width=\"3.2\"/>\n",
       "<circle clip-path=\"url(#clip583)\" cx=\"1750.66\" cy=\"591.762\" r=\"14.4\" fill=\"#3da44d\" fill-rule=\"evenodd\" fill-opacity=\"1\" stroke=\"#000000\" stroke-opacity=\"1\" stroke-width=\"3.2\"/>\n",
       "<circle clip-path=\"url(#clip583)\" cx=\"1828.05\" cy=\"591.891\" r=\"14.4\" fill=\"#3da44d\" fill-rule=\"evenodd\" fill-opacity=\"1\" stroke=\"#000000\" stroke-opacity=\"1\" stroke-width=\"3.2\"/>\n",
       "<circle clip-path=\"url(#clip583)\" cx=\"1905.44\" cy=\"591.915\" r=\"14.4\" fill=\"#3da44d\" fill-rule=\"evenodd\" fill-opacity=\"1\" stroke=\"#000000\" stroke-opacity=\"1\" stroke-width=\"3.2\"/>\n",
       "<circle clip-path=\"url(#clip583)\" cx=\"1982.83\" cy=\"591.906\" r=\"14.4\" fill=\"#3da44d\" fill-rule=\"evenodd\" fill-opacity=\"1\" stroke=\"#000000\" stroke-opacity=\"1\" stroke-width=\"3.2\"/>\n",
       "<circle clip-path=\"url(#clip583)\" cx=\"2060.22\" cy=\"591.891\" r=\"14.4\" fill=\"#3da44d\" fill-rule=\"evenodd\" fill-opacity=\"1\" stroke=\"#000000\" stroke-opacity=\"1\" stroke-width=\"3.2\"/>\n",
       "<circle clip-path=\"url(#clip583)\" cx=\"2137.61\" cy=\"591.877\" r=\"14.4\" fill=\"#3da44d\" fill-rule=\"evenodd\" fill-opacity=\"1\" stroke=\"#000000\" stroke-opacity=\"1\" stroke-width=\"3.2\"/>\n",
       "<circle clip-path=\"url(#clip583)\" cx=\"2215\" cy=\"591.866\" r=\"14.4\" fill=\"#3da44d\" fill-rule=\"evenodd\" fill-opacity=\"1\" stroke=\"#000000\" stroke-opacity=\"1\" stroke-width=\"3.2\"/>\n",
       "<circle clip-path=\"url(#clip583)\" cx=\"2292.39\" cy=\"591.859\" r=\"14.4\" fill=\"#3da44d\" fill-rule=\"evenodd\" fill-opacity=\"1\" stroke=\"#000000\" stroke-opacity=\"1\" stroke-width=\"3.2\"/>\n",
       "<polyline clip-path=\"url(#clip583)\" style=\"stroke:#0000ff; stroke-linecap:round; stroke-linejoin:round; stroke-width:20; stroke-opacity:0.3; fill:none\" points=\"280.231,881.094 357.622,856.255 435.013,782.293 512.403,701.49 589.794,639.178 667.185,603.512 744.576,590.35 821.966,589.33 899.357,591.169 976.748,592.512 1054.14,592.584 1131.53,592.252 1208.92,592.584 1286.31,592.093 1363.7,591.048 1441.09,591.039 1518.48,591.903 1595.87,592.55 1673.26,592.044 1750.66,591.762 1828.05,591.891 1905.44,591.915 1982.83,591.906 2060.22,591.891 2137.61,591.877 2215,591.866 2292.39,591.859 \"/>\n",
       "<path clip-path=\"url(#clip583)\" d=\"M280.231 865.094 L264.231 881.094 L280.231 897.094 L296.231 881.094 L280.231 865.094 Z\" fill=\"#c271d2\" fill-rule=\"evenodd\" fill-opacity=\"1\" stroke=\"#000000\" stroke-opacity=\"1\" stroke-width=\"3.2\"/>\n",
       "<path clip-path=\"url(#clip583)\" d=\"M357.622 840.255 L341.622 856.255 L357.622 872.255 L373.622 856.255 L357.622 840.255 Z\" fill=\"#c271d2\" fill-rule=\"evenodd\" fill-opacity=\"1\" stroke=\"#000000\" stroke-opacity=\"1\" stroke-width=\"3.2\"/>\n",
       "<path clip-path=\"url(#clip583)\" d=\"M435.013 766.293 L419.013 782.293 L435.013 798.293 L451.013 782.293 L435.013 766.293 Z\" fill=\"#c271d2\" fill-rule=\"evenodd\" fill-opacity=\"1\" stroke=\"#000000\" stroke-opacity=\"1\" stroke-width=\"3.2\"/>\n",
       "<path clip-path=\"url(#clip583)\" d=\"M512.403 685.49 L496.403 701.49 L512.403 717.49 L528.403 701.49 L512.403 685.49 Z\" fill=\"#c271d2\" fill-rule=\"evenodd\" fill-opacity=\"1\" stroke=\"#000000\" stroke-opacity=\"1\" stroke-width=\"3.2\"/>\n",
       "<path clip-path=\"url(#clip583)\" d=\"M589.794 623.178 L573.794 639.178 L589.794 655.178 L605.794 639.178 L589.794 623.178 Z\" fill=\"#c271d2\" fill-rule=\"evenodd\" fill-opacity=\"1\" stroke=\"#000000\" stroke-opacity=\"1\" stroke-width=\"3.2\"/>\n",
       "<path clip-path=\"url(#clip583)\" d=\"M667.185 587.512 L651.185 603.512 L667.185 619.512 L683.185 603.512 L667.185 587.512 Z\" fill=\"#c271d2\" fill-rule=\"evenodd\" fill-opacity=\"1\" stroke=\"#000000\" stroke-opacity=\"1\" stroke-width=\"3.2\"/>\n",
       "<path clip-path=\"url(#clip583)\" d=\"M744.576 574.35 L728.576 590.35 L744.576 606.35 L760.576 590.35 L744.576 574.35 Z\" fill=\"#c271d2\" fill-rule=\"evenodd\" fill-opacity=\"1\" stroke=\"#000000\" stroke-opacity=\"1\" stroke-width=\"3.2\"/>\n",
       "<path clip-path=\"url(#clip583)\" d=\"M821.966 573.33 L805.966 589.33 L821.966 605.33 L837.966 589.33 L821.966 573.33 Z\" fill=\"#c271d2\" fill-rule=\"evenodd\" fill-opacity=\"1\" stroke=\"#000000\" stroke-opacity=\"1\" stroke-width=\"3.2\"/>\n",
       "<path clip-path=\"url(#clip583)\" d=\"M899.357 575.169 L883.357 591.169 L899.357 607.169 L915.357 591.169 L899.357 575.169 Z\" fill=\"#c271d2\" fill-rule=\"evenodd\" fill-opacity=\"1\" stroke=\"#000000\" stroke-opacity=\"1\" stroke-width=\"3.2\"/>\n",
       "<path clip-path=\"url(#clip583)\" d=\"M976.748 576.512 L960.748 592.512 L976.748 608.512 L992.748 592.512 L976.748 576.512 Z\" fill=\"#c271d2\" fill-rule=\"evenodd\" fill-opacity=\"1\" stroke=\"#000000\" stroke-opacity=\"1\" stroke-width=\"3.2\"/>\n",
       "<path clip-path=\"url(#clip583)\" d=\"M1054.14 576.584 L1038.14 592.584 L1054.14 608.584 L1070.14 592.584 L1054.14 576.584 Z\" fill=\"#c271d2\" fill-rule=\"evenodd\" fill-opacity=\"1\" stroke=\"#000000\" stroke-opacity=\"1\" stroke-width=\"3.2\"/>\n",
       "<path clip-path=\"url(#clip583)\" d=\"M1131.53 576.252 L1115.53 592.252 L1131.53 608.252 L1147.53 592.252 L1131.53 576.252 Z\" fill=\"#c271d2\" fill-rule=\"evenodd\" fill-opacity=\"1\" stroke=\"#000000\" stroke-opacity=\"1\" stroke-width=\"3.2\"/>\n",
       "<path clip-path=\"url(#clip583)\" d=\"M1208.92 576.584 L1192.92 592.584 L1208.92 608.584 L1224.92 592.584 L1208.92 576.584 Z\" fill=\"#c271d2\" fill-rule=\"evenodd\" fill-opacity=\"1\" stroke=\"#000000\" stroke-opacity=\"1\" stroke-width=\"3.2\"/>\n",
       "<path clip-path=\"url(#clip583)\" d=\"M1286.31 576.093 L1270.31 592.093 L1286.31 608.093 L1302.31 592.093 L1286.31 576.093 Z\" fill=\"#c271d2\" fill-rule=\"evenodd\" fill-opacity=\"1\" stroke=\"#000000\" stroke-opacity=\"1\" stroke-width=\"3.2\"/>\n",
       "<path clip-path=\"url(#clip583)\" d=\"M1363.7 575.048 L1347.7 591.048 L1363.7 607.048 L1379.7 591.048 L1363.7 575.048 Z\" fill=\"#c271d2\" fill-rule=\"evenodd\" fill-opacity=\"1\" stroke=\"#000000\" stroke-opacity=\"1\" stroke-width=\"3.2\"/>\n",
       "<path clip-path=\"url(#clip583)\" d=\"M1441.09 575.039 L1425.09 591.039 L1441.09 607.039 L1457.09 591.039 L1441.09 575.039 Z\" fill=\"#c271d2\" fill-rule=\"evenodd\" fill-opacity=\"1\" stroke=\"#000000\" stroke-opacity=\"1\" stroke-width=\"3.2\"/>\n",
       "<path clip-path=\"url(#clip583)\" d=\"M1518.48 575.903 L1502.48 591.903 L1518.48 607.903 L1534.48 591.903 L1518.48 575.903 Z\" fill=\"#c271d2\" fill-rule=\"evenodd\" fill-opacity=\"1\" stroke=\"#000000\" stroke-opacity=\"1\" stroke-width=\"3.2\"/>\n",
       "<path clip-path=\"url(#clip583)\" d=\"M1595.87 576.55 L1579.87 592.55 L1595.87 608.55 L1611.87 592.55 L1595.87 576.55 Z\" fill=\"#c271d2\" fill-rule=\"evenodd\" fill-opacity=\"1\" stroke=\"#000000\" stroke-opacity=\"1\" stroke-width=\"3.2\"/>\n",
       "<path clip-path=\"url(#clip583)\" d=\"M1673.26 576.044 L1657.26 592.044 L1673.26 608.044 L1689.26 592.044 L1673.26 576.044 Z\" fill=\"#c271d2\" fill-rule=\"evenodd\" fill-opacity=\"1\" stroke=\"#000000\" stroke-opacity=\"1\" stroke-width=\"3.2\"/>\n",
       "<path clip-path=\"url(#clip583)\" d=\"M1750.66 575.762 L1734.66 591.762 L1750.66 607.762 L1766.66 591.762 L1750.66 575.762 Z\" fill=\"#c271d2\" fill-rule=\"evenodd\" fill-opacity=\"1\" stroke=\"#000000\" stroke-opacity=\"1\" stroke-width=\"3.2\"/>\n",
       "<path clip-path=\"url(#clip583)\" d=\"M1828.05 575.891 L1812.05 591.891 L1828.05 607.891 L1844.05 591.891 L1828.05 575.891 Z\" fill=\"#c271d2\" fill-rule=\"evenodd\" fill-opacity=\"1\" stroke=\"#000000\" stroke-opacity=\"1\" stroke-width=\"3.2\"/>\n",
       "<path clip-path=\"url(#clip583)\" d=\"M1905.44 575.915 L1889.44 591.915 L1905.44 607.915 L1921.44 591.915 L1905.44 575.915 Z\" fill=\"#c271d2\" fill-rule=\"evenodd\" fill-opacity=\"1\" stroke=\"#000000\" stroke-opacity=\"1\" stroke-width=\"3.2\"/>\n",
       "<path clip-path=\"url(#clip583)\" d=\"M1982.83 575.906 L1966.83 591.906 L1982.83 607.906 L1998.83 591.906 L1982.83 575.906 Z\" fill=\"#c271d2\" fill-rule=\"evenodd\" fill-opacity=\"1\" stroke=\"#000000\" stroke-opacity=\"1\" stroke-width=\"3.2\"/>\n",
       "<path clip-path=\"url(#clip583)\" d=\"M2060.22 575.891 L2044.22 591.891 L2060.22 607.891 L2076.22 591.891 L2060.22 575.891 Z\" fill=\"#c271d2\" fill-rule=\"evenodd\" fill-opacity=\"1\" stroke=\"#000000\" stroke-opacity=\"1\" stroke-width=\"3.2\"/>\n",
       "<path clip-path=\"url(#clip583)\" d=\"M2137.61 575.877 L2121.61 591.877 L2137.61 607.877 L2153.61 591.877 L2137.61 575.877 Z\" fill=\"#c271d2\" fill-rule=\"evenodd\" fill-opacity=\"1\" stroke=\"#000000\" stroke-opacity=\"1\" stroke-width=\"3.2\"/>\n",
       "<path clip-path=\"url(#clip583)\" d=\"M2215 575.866 L2199 591.866 L2215 607.866 L2231 591.866 L2215 575.866 Z\" fill=\"#c271d2\" fill-rule=\"evenodd\" fill-opacity=\"1\" stroke=\"#000000\" stroke-opacity=\"1\" stroke-width=\"3.2\"/>\n",
       "<path clip-path=\"url(#clip583)\" d=\"M2292.39 575.859 L2276.39 591.859 L2292.39 607.859 L2308.39 591.859 L2292.39 575.859 Z\" fill=\"#c271d2\" fill-rule=\"evenodd\" fill-opacity=\"1\" stroke=\"#000000\" stroke-opacity=\"1\" stroke-width=\"3.2\"/>\n",
       "<path clip-path=\"url(#clip580)\" d=\"M219.866 1423.18 L2352.76 1423.18 L2352.76 1113.91 L219.866 1113.91  Z\" fill=\"#ffffff\" fill-rule=\"evenodd\" fill-opacity=\"1\"/>\n",
       "<defs>\n",
       "  <clipPath id=\"clip584\">\n",
       "    <rect x=\"219\" y=\"1113\" width=\"2134\" height=\"310\"/>\n",
       "  </clipPath>\n",
       "</defs>\n",
       "<polyline clip-path=\"url(#clip584)\" style=\"stroke:#000000; stroke-linecap:round; stroke-linejoin:round; stroke-width:8; stroke-opacity:0.1; fill:none\" points=\"589.794,1423.18 589.794,1113.91 \"/>\n",
       "<polyline clip-path=\"url(#clip584)\" style=\"stroke:#000000; stroke-linecap:round; stroke-linejoin:round; stroke-width:8; stroke-opacity:0.1; fill:none\" points=\"976.748,1423.18 976.748,1113.91 \"/>\n",
       "<polyline clip-path=\"url(#clip584)\" style=\"stroke:#000000; stroke-linecap:round; stroke-linejoin:round; stroke-width:8; stroke-opacity:0.1; fill:none\" points=\"1363.7,1423.18 1363.7,1113.91 \"/>\n",
       "<polyline clip-path=\"url(#clip584)\" style=\"stroke:#000000; stroke-linecap:round; stroke-linejoin:round; stroke-width:8; stroke-opacity:0.1; fill:none\" points=\"1750.66,1423.18 1750.66,1113.91 \"/>\n",
       "<polyline clip-path=\"url(#clip584)\" style=\"stroke:#000000; stroke-linecap:round; stroke-linejoin:round; stroke-width:8; stroke-opacity:0.1; fill:none\" points=\"2137.61,1423.18 2137.61,1113.91 \"/>\n",
       "<polyline clip-path=\"url(#clip580)\" style=\"stroke:#000000; stroke-linecap:round; stroke-linejoin:round; stroke-width:4; stroke-opacity:1; fill:none\" points=\"219.866,1423.18 2352.76,1423.18 \"/>\n",
       "<polyline clip-path=\"url(#clip580)\" style=\"stroke:#000000; stroke-linecap:round; stroke-linejoin:round; stroke-width:4; stroke-opacity:1; fill:none\" points=\"589.794,1423.18 589.794,1404.28 \"/>\n",
       "<polyline clip-path=\"url(#clip580)\" style=\"stroke:#000000; stroke-linecap:round; stroke-linejoin:round; stroke-width:4; stroke-opacity:1; fill:none\" points=\"976.748,1423.18 976.748,1404.28 \"/>\n",
       "<polyline clip-path=\"url(#clip580)\" style=\"stroke:#000000; stroke-linecap:round; stroke-linejoin:round; stroke-width:4; stroke-opacity:1; fill:none\" points=\"1363.7,1423.18 1363.7,1404.28 \"/>\n",
       "<polyline clip-path=\"url(#clip580)\" style=\"stroke:#000000; stroke-linecap:round; stroke-linejoin:round; stroke-width:4; stroke-opacity:1; fill:none\" points=\"1750.66,1423.18 1750.66,1404.28 \"/>\n",
       "<polyline clip-path=\"url(#clip580)\" style=\"stroke:#000000; stroke-linecap:round; stroke-linejoin:round; stroke-width:4; stroke-opacity:1; fill:none\" points=\"2137.61,1423.18 2137.61,1404.28 \"/>\n",
       "<path clip-path=\"url(#clip580)\" d=\"M580.072 1451.02 L598.428 1451.02 L598.428 1454.96 L584.354 1454.96 L584.354 1463.43 Q585.373 1463.08 586.391 1462.92 Q587.41 1462.73 588.428 1462.73 Q594.215 1462.73 597.595 1465.9 Q600.975 1469.08 600.975 1474.49 Q600.975 1480.07 597.502 1483.17 Q594.03 1486.25 587.711 1486.25 Q585.535 1486.25 583.266 1485.88 Q581.021 1485.51 578.614 1484.77 L578.614 1480.07 Q580.697 1481.2 582.919 1481.76 Q585.141 1482.32 587.618 1482.32 Q591.623 1482.32 593.961 1480.21 Q596.299 1478.1 596.299 1474.49 Q596.299 1470.88 593.961 1468.77 Q591.623 1466.67 587.618 1466.67 Q585.743 1466.67 583.868 1467.08 Q582.016 1467.5 580.072 1468.38 L580.072 1451.02 Z\" fill=\"#000000\" fill-rule=\"evenodd\" fill-opacity=\"1\" /><path clip-path=\"url(#clip580)\" d=\"M951.436 1481.64 L959.074 1481.64 L959.074 1455.28 L950.764 1456.95 L950.764 1452.69 L959.028 1451.02 L963.704 1451.02 L963.704 1481.64 L971.343 1481.64 L971.343 1485.58 L951.436 1485.58 L951.436 1481.64 Z\" fill=\"#000000\" fill-rule=\"evenodd\" fill-opacity=\"1\" /><path clip-path=\"url(#clip580)\" d=\"M990.787 1454.1 Q987.176 1454.1 985.347 1457.66 Q983.542 1461.2 983.542 1468.33 Q983.542 1475.44 985.347 1479.01 Q987.176 1482.55 990.787 1482.55 Q994.422 1482.55 996.227 1479.01 Q998.056 1475.44 998.056 1468.33 Q998.056 1461.2 996.227 1457.66 Q994.422 1454.1 990.787 1454.1 M990.787 1450.39 Q996.597 1450.39 999.653 1455 Q1002.73 1459.58 1002.73 1468.33 Q1002.73 1477.06 999.653 1481.67 Q996.597 1486.25 990.787 1486.25 Q984.977 1486.25 981.898 1481.67 Q978.843 1477.06 978.843 1468.33 Q978.843 1459.58 981.898 1455 Q984.977 1450.39 990.787 1450.39 Z\" fill=\"#000000\" fill-rule=\"evenodd\" fill-opacity=\"1\" /><path clip-path=\"url(#clip580)\" d=\"M1338.89 1481.64 L1346.53 1481.64 L1346.53 1455.28 L1338.22 1456.95 L1338.22 1452.69 L1346.48 1451.02 L1351.16 1451.02 L1351.16 1481.64 L1358.79 1481.64 L1358.79 1485.58 L1338.89 1485.58 L1338.89 1481.64 Z\" fill=\"#000000\" fill-rule=\"evenodd\" fill-opacity=\"1\" /><path clip-path=\"url(#clip580)\" d=\"M1368.29 1451.02 L1386.64 1451.02 L1386.64 1454.96 L1372.57 1454.96 L1372.57 1463.43 Q1373.59 1463.08 1374.6 1462.92 Q1375.62 1462.73 1376.64 1462.73 Q1382.43 1462.73 1385.81 1465.9 Q1389.19 1469.08 1389.19 1474.49 Q1389.19 1480.07 1385.72 1483.17 Q1382.24 1486.25 1375.92 1486.25 Q1373.75 1486.25 1371.48 1485.88 Q1369.23 1485.51 1366.83 1484.77 L1366.83 1480.07 Q1368.91 1481.2 1371.13 1481.76 Q1373.35 1482.32 1375.83 1482.32 Q1379.84 1482.32 1382.17 1480.21 Q1384.51 1478.1 1384.51 1474.49 Q1384.51 1470.88 1382.17 1468.77 Q1379.84 1466.67 1375.83 1466.67 Q1373.96 1466.67 1372.08 1467.08 Q1370.23 1467.5 1368.29 1468.38 L1368.29 1451.02 Z\" fill=\"#000000\" fill-rule=\"evenodd\" fill-opacity=\"1\" /><path clip-path=\"url(#clip580)\" d=\"M1729.43 1481.64 L1745.75 1481.64 L1745.75 1485.58 L1723.8 1485.58 L1723.8 1481.64 Q1726.47 1478.89 1731.05 1474.26 Q1735.66 1469.61 1736.84 1468.27 Q1739.08 1465.74 1739.96 1464.01 Q1740.86 1462.25 1740.86 1460.56 Q1740.86 1457.8 1738.92 1456.07 Q1737 1454.33 1733.9 1454.33 Q1731.7 1454.33 1729.24 1455.09 Q1726.81 1455.86 1724.04 1457.41 L1724.04 1452.69 Q1726.86 1451.55 1729.31 1450.97 Q1731.77 1450.39 1733.8 1450.39 Q1739.17 1450.39 1742.37 1453.08 Q1745.56 1455.77 1745.56 1460.26 Q1745.56 1462.39 1744.75 1464.31 Q1743.97 1466.2 1741.86 1468.8 Q1741.28 1469.47 1738.18 1472.69 Q1735.08 1475.88 1729.43 1481.64 Z\" fill=\"#000000\" fill-rule=\"evenodd\" fill-opacity=\"1\" /><path clip-path=\"url(#clip580)\" d=\"M1765.56 1454.1 Q1761.95 1454.1 1760.12 1457.66 Q1758.32 1461.2 1758.32 1468.33 Q1758.32 1475.44 1760.12 1479.01 Q1761.95 1482.55 1765.56 1482.55 Q1769.2 1482.55 1771 1479.01 Q1772.83 1475.44 1772.83 1468.33 Q1772.83 1461.2 1771 1457.66 Q1769.2 1454.1 1765.56 1454.1 M1765.56 1450.39 Q1771.37 1450.39 1774.43 1455 Q1777.51 1459.58 1777.51 1468.33 Q1777.51 1477.06 1774.43 1481.67 Q1771.37 1486.25 1765.56 1486.25 Q1759.75 1486.25 1756.67 1481.67 Q1753.62 1477.06 1753.62 1468.33 Q1753.62 1459.58 1756.67 1455 Q1759.75 1450.39 1765.56 1450.39 Z\" fill=\"#000000\" fill-rule=\"evenodd\" fill-opacity=\"1\" /><path clip-path=\"url(#clip580)\" d=\"M2116.88 1481.64 L2133.2 1481.64 L2133.2 1485.58 L2111.26 1485.58 L2111.26 1481.64 Q2113.92 1478.89 2118.5 1474.26 Q2123.11 1469.61 2124.29 1468.27 Q2126.53 1465.74 2127.41 1464.01 Q2128.32 1462.25 2128.32 1460.56 Q2128.32 1457.8 2126.37 1456.07 Q2124.45 1454.33 2121.35 1454.33 Q2119.15 1454.33 2116.7 1455.09 Q2114.26 1455.86 2111.49 1457.41 L2111.49 1452.69 Q2114.31 1451.55 2116.76 1450.97 Q2119.22 1450.39 2121.26 1450.39 Q2126.63 1450.39 2129.82 1453.08 Q2133.01 1455.77 2133.01 1460.26 Q2133.01 1462.39 2132.2 1464.31 Q2131.42 1466.2 2129.31 1468.8 Q2128.73 1469.47 2125.63 1472.69 Q2122.53 1475.88 2116.88 1481.64 Z\" fill=\"#000000\" fill-rule=\"evenodd\" fill-opacity=\"1\" /><path clip-path=\"url(#clip580)\" d=\"M2143.06 1451.02 L2161.42 1451.02 L2161.42 1454.96 L2147.34 1454.96 L2147.34 1463.43 Q2148.36 1463.08 2149.38 1462.92 Q2150.4 1462.73 2151.42 1462.73 Q2157.2 1462.73 2160.58 1465.9 Q2163.96 1469.08 2163.96 1474.49 Q2163.96 1480.07 2160.49 1483.17 Q2157.02 1486.25 2150.7 1486.25 Q2148.52 1486.25 2146.26 1485.88 Q2144.01 1485.51 2141.6 1484.77 L2141.6 1480.07 Q2143.69 1481.2 2145.91 1481.76 Q2148.13 1482.32 2150.61 1482.32 Q2154.61 1482.32 2156.95 1480.21 Q2159.29 1478.1 2159.29 1474.49 Q2159.29 1470.88 2156.95 1468.77 Q2154.61 1466.67 2150.61 1466.67 Q2148.73 1466.67 2146.86 1467.08 Q2145.01 1467.5 2143.06 1468.38 L2143.06 1451.02 Z\" fill=\"#000000\" fill-rule=\"evenodd\" fill-opacity=\"1\" /><path clip-path=\"url(#clip580)\" d=\"M1180.45 1522.27 L1180.45 1532.4 L1192.51 1532.4 L1192.51 1536.95 L1180.45 1536.95 L1180.45 1556.3 Q1180.45 1560.66 1181.63 1561.9 Q1182.84 1563.14 1186.5 1563.14 L1192.51 1563.14 L1192.51 1568.04 L1186.5 1568.04 Q1179.72 1568.04 1177.14 1565.53 Q1174.56 1562.98 1174.56 1556.3 L1174.56 1536.95 L1170.26 1536.95 L1170.26 1532.4 L1174.56 1532.4 L1174.56 1522.27 L1180.45 1522.27 Z\" fill=\"#000000\" fill-rule=\"evenodd\" fill-opacity=\"1\" /><path clip-path=\"url(#clip580)\" d=\"M1200.21 1532.4 L1206.07 1532.4 L1206.07 1568.04 L1200.21 1568.04 L1200.21 1532.4 M1200.21 1518.52 L1206.07 1518.52 L1206.07 1525.93 L1200.21 1525.93 L1200.21 1518.52 Z\" fill=\"#000000\" fill-rule=\"evenodd\" fill-opacity=\"1\" /><path clip-path=\"url(#clip580)\" d=\"M1246.08 1539.24 Q1248.28 1535.29 1251.33 1533.41 Q1254.39 1531.54 1258.52 1531.54 Q1264.09 1531.54 1267.12 1535.45 Q1270.14 1539.33 1270.14 1546.53 L1270.14 1568.04 L1264.25 1568.04 L1264.25 1546.72 Q1264.25 1541.59 1262.44 1539.11 Q1260.63 1536.63 1256.9 1536.63 Q1252.35 1536.63 1249.71 1539.65 Q1247.07 1542.68 1247.07 1547.9 L1247.07 1568.04 L1241.18 1568.04 L1241.18 1546.72 Q1241.18 1541.56 1239.36 1539.11 Q1237.55 1536.63 1233.76 1536.63 Q1229.27 1536.63 1226.63 1539.68 Q1223.99 1542.71 1223.99 1547.9 L1223.99 1568.04 L1218.1 1568.04 L1218.1 1532.4 L1223.99 1532.4 L1223.99 1537.93 Q1226 1534.66 1228.8 1533.1 Q1231.6 1531.54 1235.45 1531.54 Q1239.33 1531.54 1242.04 1533.51 Q1244.77 1535.48 1246.08 1539.24 Z\" fill=\"#000000\" fill-rule=\"evenodd\" fill-opacity=\"1\" /><path clip-path=\"url(#clip580)\" d=\"M1312.31 1548.76 L1312.31 1551.62 L1285.39 1551.62 Q1285.77 1557.67 1289.02 1560.85 Q1292.29 1564 1298.12 1564 Q1301.49 1564 1304.64 1563.17 Q1307.83 1562.35 1310.95 1560.69 L1310.95 1566.23 Q1307.8 1567.57 1304.49 1568.27 Q1301.18 1568.97 1297.77 1568.97 Q1289.24 1568.97 1284.24 1564 Q1279.28 1559.04 1279.28 1550.57 Q1279.28 1541.82 1283.99 1536.69 Q1288.73 1531.54 1296.75 1531.54 Q1303.94 1531.54 1308.11 1536.18 Q1312.31 1540.8 1312.31 1548.76 M1306.46 1547.04 Q1306.39 1542.23 1303.75 1539.37 Q1301.14 1536.5 1296.81 1536.5 Q1291.91 1536.5 1288.95 1539.27 Q1286.02 1542.04 1285.58 1547.07 L1306.46 1547.04 Z\" fill=\"#000000\" fill-rule=\"evenodd\" fill-opacity=\"1\" /><path clip-path=\"url(#clip580)\" d=\"M1321.39 1518.52 L1334.88 1518.52 L1334.88 1523.07 L1327.24 1523.07 L1327.24 1572.09 L1334.88 1572.09 L1334.88 1576.64 L1321.39 1576.64 L1321.39 1518.52 Z\" fill=\"#000000\" fill-rule=\"evenodd\" fill-opacity=\"1\" /><path clip-path=\"url(#clip580)\" d=\"M1376.99 1546.53 L1376.99 1568.04 L1371.13 1568.04 L1371.13 1546.72 Q1371.13 1541.66 1369.16 1539.14 Q1367.19 1536.63 1363.24 1536.63 Q1358.5 1536.63 1355.76 1539.65 Q1353.02 1542.68 1353.02 1547.9 L1353.02 1568.04 L1347.14 1568.04 L1347.14 1518.52 L1353.02 1518.52 L1353.02 1537.93 Q1355.12 1534.72 1357.96 1533.13 Q1360.82 1531.54 1364.55 1531.54 Q1370.69 1531.54 1373.84 1535.36 Q1376.99 1539.14 1376.99 1546.53 Z\" fill=\"#000000\" fill-rule=\"evenodd\" fill-opacity=\"1\" /><path clip-path=\"url(#clip580)\" d=\"M1402.36 1518.52 L1402.36 1576.64 L1388.86 1576.64 L1388.86 1572.09 L1396.47 1572.09 L1396.47 1523.07 L1388.86 1523.07 L1388.86 1518.52 L1402.36 1518.52 Z\" fill=\"#000000\" fill-rule=\"evenodd\" fill-opacity=\"1\" /><polyline clip-path=\"url(#clip584)\" style=\"stroke:#000000; stroke-linecap:round; stroke-linejoin:round; stroke-width:8; stroke-opacity:0.1; fill:none\" points=\"219.866,1423.07 2352.76,1423.07 \"/>\n",
       "<polyline clip-path=\"url(#clip584)\" style=\"stroke:#000000; stroke-linecap:round; stroke-linejoin:round; stroke-width:8; stroke-opacity:0.1; fill:none\" points=\"219.866,1353.79 2352.76,1353.79 \"/>\n",
       "<polyline clip-path=\"url(#clip584)\" style=\"stroke:#000000; stroke-linecap:round; stroke-linejoin:round; stroke-width:8; stroke-opacity:0.1; fill:none\" points=\"219.866,1284.5 2352.76,1284.5 \"/>\n",
       "<polyline clip-path=\"url(#clip584)\" style=\"stroke:#000000; stroke-linecap:round; stroke-linejoin:round; stroke-width:8; stroke-opacity:0.1; fill:none\" points=\"219.866,1215.21 2352.76,1215.21 \"/>\n",
       "<polyline clip-path=\"url(#clip584)\" style=\"stroke:#000000; stroke-linecap:round; stroke-linejoin:round; stroke-width:8; stroke-opacity:0.1; fill:none\" points=\"219.866,1145.93 2352.76,1145.93 \"/>\n",
       "<polyline clip-path=\"url(#clip580)\" style=\"stroke:#000000; stroke-linecap:round; stroke-linejoin:round; stroke-width:4; stroke-opacity:1; fill:none\" points=\"219.866,1423.18 219.866,1113.91 \"/>\n",
       "<polyline clip-path=\"url(#clip580)\" style=\"stroke:#000000; stroke-linecap:round; stroke-linejoin:round; stroke-width:4; stroke-opacity:1; fill:none\" points=\"219.866,1423.07 238.764,1423.07 \"/>\n",
       "<polyline clip-path=\"url(#clip580)\" style=\"stroke:#000000; stroke-linecap:round; stroke-linejoin:round; stroke-width:4; stroke-opacity:1; fill:none\" points=\"219.866,1353.79 238.764,1353.79 \"/>\n",
       "<polyline clip-path=\"url(#clip580)\" style=\"stroke:#000000; stroke-linecap:round; stroke-linejoin:round; stroke-width:4; stroke-opacity:1; fill:none\" points=\"219.866,1284.5 238.764,1284.5 \"/>\n",
       "<polyline clip-path=\"url(#clip580)\" style=\"stroke:#000000; stroke-linecap:round; stroke-linejoin:round; stroke-width:4; stroke-opacity:1; fill:none\" points=\"219.866,1215.21 238.764,1215.21 \"/>\n",
       "<polyline clip-path=\"url(#clip580)\" style=\"stroke:#000000; stroke-linecap:round; stroke-linejoin:round; stroke-width:4; stroke-opacity:1; fill:none\" points=\"219.866,1145.93 238.764,1145.93 \"/>\n",
       "<path clip-path=\"url(#clip580)\" d=\"M128.288 1408.87 Q124.677 1408.87 122.848 1412.44 Q121.043 1415.98 121.043 1423.11 Q121.043 1430.21 122.848 1433.78 Q124.677 1437.32 128.288 1437.32 Q131.922 1437.32 133.728 1433.78 Q135.556 1430.21 135.556 1423.11 Q135.556 1415.98 133.728 1412.44 Q131.922 1408.87 128.288 1408.87 M128.288 1405.17 Q134.098 1405.17 137.154 1409.77 Q140.232 1414.36 140.232 1423.11 Q140.232 1431.83 137.154 1436.44 Q134.098 1441.02 128.288 1441.02 Q122.478 1441.02 119.399 1436.44 Q116.343 1431.83 116.343 1423.11 Q116.343 1414.36 119.399 1409.77 Q122.478 1405.17 128.288 1405.17 Z\" fill=\"#000000\" fill-rule=\"evenodd\" fill-opacity=\"1\" /><path clip-path=\"url(#clip580)\" d=\"M148.45 1434.47 L153.334 1434.47 L153.334 1440.35 L148.45 1440.35 L148.45 1434.47 Z\" fill=\"#000000\" fill-rule=\"evenodd\" fill-opacity=\"1\" /><path clip-path=\"url(#clip580)\" d=\"M167.547 1436.42 L183.866 1436.42 L183.866 1440.35 L161.922 1440.35 L161.922 1436.42 Q164.584 1433.66 169.167 1429.03 Q173.774 1424.38 174.954 1423.04 Q177.2 1420.51 178.079 1418.78 Q178.982 1417.02 178.982 1415.33 Q178.982 1412.58 177.038 1410.84 Q175.116 1409.1 172.014 1409.1 Q169.815 1409.1 167.362 1409.87 Q164.931 1410.63 162.153 1412.18 L162.153 1407.46 Q164.977 1406.33 167.431 1405.75 Q169.885 1405.17 171.922 1405.17 Q177.292 1405.17 180.487 1407.85 Q183.681 1410.54 183.681 1415.03 Q183.681 1417.16 182.871 1419.08 Q182.084 1420.98 179.977 1423.57 Q179.399 1424.24 176.297 1427.46 Q173.195 1430.65 167.547 1436.42 Z\" fill=\"#000000\" fill-rule=\"evenodd\" fill-opacity=\"1\" /><path clip-path=\"url(#clip580)\" d=\"M126.205 1339.59 Q122.593 1339.59 120.765 1343.15 Q118.959 1346.69 118.959 1353.82 Q118.959 1360.93 120.765 1364.49 Q122.593 1368.03 126.205 1368.03 Q129.839 1368.03 131.644 1364.49 Q133.473 1360.93 133.473 1353.82 Q133.473 1346.69 131.644 1343.15 Q129.839 1339.59 126.205 1339.59 M126.205 1335.88 Q132.015 1335.88 135.07 1340.49 Q138.149 1345.07 138.149 1353.82 Q138.149 1362.55 135.07 1367.15 Q132.015 1371.74 126.205 1371.74 Q120.394 1371.74 117.316 1367.15 Q114.26 1362.55 114.26 1353.82 Q114.26 1345.07 117.316 1340.49 Q120.394 1335.88 126.205 1335.88 Z\" fill=\"#000000\" fill-rule=\"evenodd\" fill-opacity=\"1\" /><path clip-path=\"url(#clip580)\" d=\"M146.366 1365.19 L151.251 1365.19 L151.251 1371.07 L146.366 1371.07 L146.366 1365.19 Z\" fill=\"#000000\" fill-rule=\"evenodd\" fill-opacity=\"1\" /><path clip-path=\"url(#clip580)\" d=\"M174.283 1340.58 L162.477 1359.03 L174.283 1359.03 L174.283 1340.58 M173.056 1336.51 L178.936 1336.51 L178.936 1359.03 L183.866 1359.03 L183.866 1362.92 L178.936 1362.92 L178.936 1371.07 L174.283 1371.07 L174.283 1362.92 L158.681 1362.92 L158.681 1358.4 L173.056 1336.51 Z\" fill=\"#000000\" fill-rule=\"evenodd\" fill-opacity=\"1\" /><path clip-path=\"url(#clip580)\" d=\"M126.529 1270.3 Q122.918 1270.3 121.089 1273.86 Q119.283 1277.41 119.283 1284.54 Q119.283 1291.64 121.089 1295.21 Q122.918 1298.75 126.529 1298.75 Q130.163 1298.75 131.968 1295.21 Q133.797 1291.64 133.797 1284.54 Q133.797 1277.41 131.968 1273.86 Q130.163 1270.3 126.529 1270.3 M126.529 1266.6 Q132.339 1266.6 135.394 1271.2 Q138.473 1275.79 138.473 1284.54 Q138.473 1293.26 135.394 1297.87 Q132.339 1302.45 126.529 1302.45 Q120.718 1302.45 117.64 1297.87 Q114.584 1293.26 114.584 1284.54 Q114.584 1275.79 117.64 1271.2 Q120.718 1266.6 126.529 1266.6 Z\" fill=\"#000000\" fill-rule=\"evenodd\" fill-opacity=\"1\" /><path clip-path=\"url(#clip580)\" d=\"M146.691 1295.9 L151.575 1295.9 L151.575 1301.78 L146.691 1301.78 L146.691 1295.9 Z\" fill=\"#000000\" fill-rule=\"evenodd\" fill-opacity=\"1\" /><path clip-path=\"url(#clip580)\" d=\"M172.339 1282.64 Q169.19 1282.64 167.339 1284.79 Q165.51 1286.94 165.51 1290.69 Q165.51 1294.42 167.339 1296.6 Q169.19 1298.75 172.339 1298.75 Q175.487 1298.75 177.315 1296.6 Q179.167 1294.42 179.167 1290.69 Q179.167 1286.94 177.315 1284.79 Q175.487 1282.64 172.339 1282.64 M181.621 1267.98 L181.621 1272.24 Q179.862 1271.41 178.056 1270.97 Q176.274 1270.53 174.514 1270.53 Q169.885 1270.53 167.431 1273.66 Q165.001 1276.78 164.653 1283.1 Q166.019 1281.09 168.079 1280.02 Q170.139 1278.93 172.616 1278.93 Q177.825 1278.93 180.834 1282.1 Q183.866 1285.25 183.866 1290.69 Q183.866 1296.02 180.718 1299.23 Q177.57 1302.45 172.339 1302.45 Q166.343 1302.45 163.172 1297.87 Q160.001 1293.26 160.001 1284.54 Q160.001 1276.34 163.89 1271.48 Q167.778 1266.6 174.329 1266.6 Q176.089 1266.6 177.871 1266.94 Q179.676 1267.29 181.621 1267.98 Z\" fill=\"#000000\" fill-rule=\"evenodd\" fill-opacity=\"1\" /><path clip-path=\"url(#clip580)\" d=\"M126.783 1201.01 Q123.172 1201.01 121.343 1204.58 Q119.538 1208.12 119.538 1215.25 Q119.538 1222.36 121.343 1225.92 Q123.172 1229.46 126.783 1229.46 Q130.417 1229.46 132.223 1225.92 Q134.052 1222.36 134.052 1215.25 Q134.052 1208.12 132.223 1204.58 Q130.417 1201.01 126.783 1201.01 M126.783 1197.31 Q132.593 1197.31 135.649 1201.92 Q138.728 1206.5 138.728 1215.25 Q138.728 1223.98 135.649 1228.58 Q132.593 1233.17 126.783 1233.17 Q120.973 1233.17 117.894 1228.58 Q114.839 1223.98 114.839 1215.25 Q114.839 1206.5 117.894 1201.92 Q120.973 1197.31 126.783 1197.31 Z\" fill=\"#000000\" fill-rule=\"evenodd\" fill-opacity=\"1\" /><path clip-path=\"url(#clip580)\" d=\"M146.945 1226.61 L151.829 1226.61 L151.829 1232.49 L146.945 1232.49 L146.945 1226.61 Z\" fill=\"#000000\" fill-rule=\"evenodd\" fill-opacity=\"1\" /><path clip-path=\"url(#clip580)\" d=\"M172.014 1216.08 Q168.681 1216.08 166.76 1217.86 Q164.862 1219.65 164.862 1222.77 Q164.862 1225.9 166.76 1227.68 Q168.681 1229.46 172.014 1229.46 Q175.348 1229.46 177.269 1227.68 Q179.19 1225.87 179.19 1222.77 Q179.19 1219.65 177.269 1217.86 Q175.371 1216.08 172.014 1216.08 M167.339 1214.09 Q164.329 1213.35 162.64 1211.29 Q160.973 1209.23 160.973 1206.27 Q160.973 1202.12 163.913 1199.72 Q166.876 1197.31 172.014 1197.31 Q177.176 1197.31 180.116 1199.72 Q183.056 1202.12 183.056 1206.27 Q183.056 1209.23 181.366 1211.29 Q179.7 1213.35 176.714 1214.09 Q180.093 1214.88 181.968 1217.17 Q183.866 1219.46 183.866 1222.77 Q183.866 1227.8 180.788 1230.48 Q177.732 1233.17 172.014 1233.17 Q166.297 1233.17 163.218 1230.48 Q160.163 1227.8 160.163 1222.77 Q160.163 1219.46 162.061 1217.17 Q163.959 1214.88 167.339 1214.09 M165.626 1206.71 Q165.626 1209.39 167.292 1210.9 Q168.982 1212.4 172.014 1212.4 Q175.024 1212.4 176.714 1210.9 Q178.426 1209.39 178.426 1206.71 Q178.426 1204.02 176.714 1202.52 Q175.024 1201.01 172.014 1201.01 Q168.982 1201.01 167.292 1202.52 Q165.626 1204.02 165.626 1206.71 Z\" fill=\"#000000\" fill-rule=\"evenodd\" fill-opacity=\"1\" /><path clip-path=\"url(#clip580)\" d=\"M117.501 1159.27 L125.14 1159.27 L125.14 1132.91 L116.83 1134.57 L116.83 1130.31 L125.093 1128.65 L129.769 1128.65 L129.769 1159.27 L137.408 1159.27 L137.408 1163.21 L117.501 1163.21 L117.501 1159.27 Z\" fill=\"#000000\" fill-rule=\"evenodd\" fill-opacity=\"1\" /><path clip-path=\"url(#clip580)\" d=\"M146.853 1157.33 L151.737 1157.33 L151.737 1163.21 L146.853 1163.21 L146.853 1157.33 Z\" fill=\"#000000\" fill-rule=\"evenodd\" fill-opacity=\"1\" /><path clip-path=\"url(#clip580)\" d=\"M171.922 1131.73 Q168.311 1131.73 166.482 1135.29 Q164.677 1138.83 164.677 1145.96 Q164.677 1153.07 166.482 1156.63 Q168.311 1160.18 171.922 1160.18 Q175.556 1160.18 177.362 1156.63 Q179.19 1153.07 179.19 1145.96 Q179.19 1138.83 177.362 1135.29 Q175.556 1131.73 171.922 1131.73 M171.922 1128.02 Q177.732 1128.02 180.788 1132.63 Q183.866 1137.21 183.866 1145.96 Q183.866 1154.69 180.788 1159.3 Q177.732 1163.88 171.922 1163.88 Q166.112 1163.88 163.033 1159.3 Q159.978 1154.69 159.978 1145.96 Q159.978 1137.21 163.033 1132.63 Q166.112 1128.02 171.922 1128.02 Z\" fill=\"#000000\" fill-rule=\"evenodd\" fill-opacity=\"1\" /><path clip-path=\"url(#clip580)\" d=\"M67.3143 1319.23 Q73.68 1321.71 75.6216 1324.07 Q77.5631 1326.43 77.5631 1330.37 L77.5631 1335.05 L72.6615 1335.05 L72.6615 1331.61 Q72.6615 1329.19 71.5157 1327.86 Q70.3699 1326.52 66.1048 1324.9 L63.4312 1323.85 L28.3562 1338.27 L28.3562 1332.06 L56.238 1320.92 L28.3562 1309.78 L28.3562 1303.57 L67.3143 1319.23 Z\" fill=\"#000000\" fill-rule=\"evenodd\" fill-opacity=\"1\" /><path clip-path=\"url(#clip580)\" d=\"M74.8259 1268.4 L79.3773 1268.4 L79.3773 1302.27 L74.8259 1302.27 L74.8259 1268.4 Z\" fill=\"#000000\" fill-rule=\"evenodd\" fill-opacity=\"1\" /><path clip-path=\"url(#clip580)\" d=\"M29.4065 1240.17 L34.9447 1240.17 Q33.6716 1242.65 33.035 1245.33 Q32.3984 1248 32.3984 1250.86 Q32.3984 1255.23 33.7352 1257.42 Q35.072 1259.59 37.7456 1259.59 Q39.7826 1259.59 40.9603 1258.03 Q42.1061 1256.47 43.1565 1251.76 L43.6021 1249.75 Q44.9389 1243.51 47.3897 1240.9 Q49.8086 1238.26 54.1691 1238.26 Q59.1344 1238.26 62.0308 1242.21 Q64.9272 1246.12 64.9272 1253 Q64.9272 1255.86 64.3543 1258.98 Q63.8132 1262.07 62.6992 1265.51 L56.6518 1265.51 Q58.3387 1262.26 59.198 1259.11 Q60.0256 1255.96 60.0256 1252.87 Q60.0256 1248.73 58.6251 1246.5 Q57.1929 1244.28 54.6147 1244.28 Q52.2276 1244.28 50.9545 1245.9 Q49.6813 1247.49 48.5037 1252.93 L48.0262 1254.97 Q46.8804 1260.41 44.5251 1262.83 Q42.138 1265.25 38.0002 1265.25 Q32.9713 1265.25 30.2341 1261.69 Q27.4968 1258.12 27.4968 1251.56 Q27.4968 1248.32 27.9743 1245.45 Q28.4517 1242.59 29.4065 1240.17 Z\" fill=\"#000000\" fill-rule=\"evenodd\" fill-opacity=\"1\" /><path clip-path=\"url(#clip580)\" d=\"M38.3822 1208.63 Q39.3689 1204.01 42.4881 1201.43 Q45.6073 1198.82 50.1906 1198.82 Q57.2247 1198.82 61.0759 1203.66 Q64.9272 1208.5 64.9272 1217.41 Q64.9272 1220.4 64.3224 1223.59 Q63.7495 1226.74 62.5719 1230.11 L56.3653 1230.11 Q57.9249 1227.44 58.7206 1224.26 Q59.5163 1221.07 59.5163 1217.6 Q59.5163 1211.56 57.1292 1208.41 Q54.7421 1205.22 50.1906 1205.22 Q45.9892 1205.22 43.6339 1208.18 Q41.2468 1211.11 41.2468 1216.36 L41.2468 1221.9 L35.9632 1221.9 L35.9632 1216.11 Q35.9632 1211.37 34.0853 1208.85 Q32.1756 1206.34 28.6108 1206.34 Q24.9505 1206.34 23.009 1208.95 Q21.0356 1211.52 21.0356 1216.36 Q21.0356 1219 21.6086 1222.03 Q22.1815 1225.05 23.3909 1228.68 L17.6618 1228.68 Q16.6433 1225.02 16.134 1221.84 Q15.6248 1218.62 15.6248 1215.79 Q15.6248 1208.47 18.9668 1204.2 Q22.277 1199.94 27.9424 1199.94 Q31.8892 1199.94 34.6264 1202.2 Q37.3318 1204.46 38.3822 1208.63 Z\" fill=\"#000000\" fill-rule=\"evenodd\" fill-opacity=\"1\" /><polyline clip-path=\"url(#clip584)\" style=\"stroke:#000000; stroke-linecap:round; stroke-linejoin:round; stroke-width:4; stroke-opacity:1; fill:none\" stroke-dasharray=\"2, 4\" points=\"280.231,1128.61 357.622,1128.61 435.013,1128.61 512.403,1128.61 589.794,1128.61 667.185,1128.61 744.576,1128.61 821.966,1128.61 899.357,1128.61 976.748,1128.61 1054.14,1128.61 1131.53,1128.61 1208.92,1128.61 1286.31,1128.61 1363.7,1128.61 1441.09,1128.61 1518.48,1128.61 1595.87,1128.61 1673.26,1128.61 1750.66,1128.61 1828.05,1128.61 1905.44,1128.61 1982.83,1128.61 2060.22,1128.61 2137.61,1128.61 2215,1128.61 2292.39,1128.61 \"/>\n",
       "<polyline clip-path=\"url(#clip584)\" style=\"stroke:#ff0000; stroke-linecap:round; stroke-linejoin:round; stroke-width:20; stroke-opacity:0.3; fill:none\" points=\"280.231,1414.43 357.622,1388.8 435.013,1306.59 512.403,1218.74 589.794,1157.15 667.185,1128.2 744.576,1122.66 821.966,1126.11 899.357,1128.01 976.748,1127.44 1054.14,1126.72 1131.53,1127.51 1208.92,1127.47 1286.31,1126.22 1363.7,1125.99 1441.09,1126.91 1518.48,1127.41 1595.87,1126.82 1673.26,1127.02 1750.66,1127.04 1828.05,1126.76 1905.44,1126.75 1982.83,1126.8 2060.22,1126.86 2137.61,1126.9 2215,1126.93 2292.39,1126.95 \"/>\n",
       "<line clip-path=\"url(#clip584)\" x1=\"280.231\" y1=\"1414.43\" x2=\"280.231\" y2=\"1398.43\" style=\"stroke:#e26f46; stroke-width:3.2; stroke-opacity:1\"/>\n",
       "<line clip-path=\"url(#clip584)\" x1=\"280.231\" y1=\"1414.43\" x2=\"264.231\" y2=\"1414.43\" style=\"stroke:#e26f46; stroke-width:3.2; stroke-opacity:1\"/>\n",
       "<line clip-path=\"url(#clip584)\" x1=\"280.231\" y1=\"1414.43\" x2=\"280.231\" y2=\"1430.43\" style=\"stroke:#e26f46; stroke-width:3.2; stroke-opacity:1\"/>\n",
       "<line clip-path=\"url(#clip584)\" x1=\"280.231\" y1=\"1414.43\" x2=\"296.231\" y2=\"1414.43\" style=\"stroke:#e26f46; stroke-width:3.2; stroke-opacity:1\"/>\n",
       "<line clip-path=\"url(#clip584)\" x1=\"357.622\" y1=\"1388.8\" x2=\"357.622\" y2=\"1372.8\" style=\"stroke:#e26f46; stroke-width:3.2; stroke-opacity:1\"/>\n",
       "<line clip-path=\"url(#clip584)\" x1=\"357.622\" y1=\"1388.8\" x2=\"341.622\" y2=\"1388.8\" style=\"stroke:#e26f46; stroke-width:3.2; stroke-opacity:1\"/>\n",
       "<line clip-path=\"url(#clip584)\" x1=\"357.622\" y1=\"1388.8\" x2=\"357.622\" y2=\"1404.8\" style=\"stroke:#e26f46; stroke-width:3.2; stroke-opacity:1\"/>\n",
       "<line clip-path=\"url(#clip584)\" x1=\"357.622\" y1=\"1388.8\" x2=\"373.622\" y2=\"1388.8\" style=\"stroke:#e26f46; stroke-width:3.2; stroke-opacity:1\"/>\n",
       "<line clip-path=\"url(#clip584)\" x1=\"435.013\" y1=\"1306.59\" x2=\"435.013\" y2=\"1290.59\" style=\"stroke:#e26f46; stroke-width:3.2; stroke-opacity:1\"/>\n",
       "<line clip-path=\"url(#clip584)\" x1=\"435.013\" y1=\"1306.59\" x2=\"419.013\" y2=\"1306.59\" style=\"stroke:#e26f46; stroke-width:3.2; stroke-opacity:1\"/>\n",
       "<line clip-path=\"url(#clip584)\" x1=\"435.013\" y1=\"1306.59\" x2=\"435.013\" y2=\"1322.59\" style=\"stroke:#e26f46; stroke-width:3.2; stroke-opacity:1\"/>\n",
       "<line clip-path=\"url(#clip584)\" x1=\"435.013\" y1=\"1306.59\" x2=\"451.013\" y2=\"1306.59\" style=\"stroke:#e26f46; stroke-width:3.2; stroke-opacity:1\"/>\n",
       "<line clip-path=\"url(#clip584)\" x1=\"512.403\" y1=\"1218.74\" x2=\"512.403\" y2=\"1202.74\" style=\"stroke:#e26f46; stroke-width:3.2; stroke-opacity:1\"/>\n",
       "<line clip-path=\"url(#clip584)\" x1=\"512.403\" y1=\"1218.74\" x2=\"496.403\" y2=\"1218.74\" style=\"stroke:#e26f46; stroke-width:3.2; stroke-opacity:1\"/>\n",
       "<line clip-path=\"url(#clip584)\" x1=\"512.403\" y1=\"1218.74\" x2=\"512.403\" y2=\"1234.74\" style=\"stroke:#e26f46; stroke-width:3.2; stroke-opacity:1\"/>\n",
       "<line clip-path=\"url(#clip584)\" x1=\"512.403\" y1=\"1218.74\" x2=\"528.403\" y2=\"1218.74\" style=\"stroke:#e26f46; stroke-width:3.2; stroke-opacity:1\"/>\n",
       "<line clip-path=\"url(#clip584)\" x1=\"589.794\" y1=\"1157.15\" x2=\"589.794\" y2=\"1141.15\" style=\"stroke:#e26f46; stroke-width:3.2; stroke-opacity:1\"/>\n",
       "<line clip-path=\"url(#clip584)\" x1=\"589.794\" y1=\"1157.15\" x2=\"573.794\" y2=\"1157.15\" style=\"stroke:#e26f46; stroke-width:3.2; stroke-opacity:1\"/>\n",
       "<line clip-path=\"url(#clip584)\" x1=\"589.794\" y1=\"1157.15\" x2=\"589.794\" y2=\"1173.15\" style=\"stroke:#e26f46; stroke-width:3.2; stroke-opacity:1\"/>\n",
       "<line clip-path=\"url(#clip584)\" x1=\"589.794\" y1=\"1157.15\" x2=\"605.794\" y2=\"1157.15\" style=\"stroke:#e26f46; stroke-width:3.2; stroke-opacity:1\"/>\n",
       "<line clip-path=\"url(#clip584)\" x1=\"667.185\" y1=\"1128.2\" x2=\"667.185\" y2=\"1112.2\" style=\"stroke:#e26f46; stroke-width:3.2; stroke-opacity:1\"/>\n",
       "<line clip-path=\"url(#clip584)\" x1=\"667.185\" y1=\"1128.2\" x2=\"651.185\" y2=\"1128.2\" style=\"stroke:#e26f46; stroke-width:3.2; stroke-opacity:1\"/>\n",
       "<line clip-path=\"url(#clip584)\" x1=\"667.185\" y1=\"1128.2\" x2=\"667.185\" y2=\"1144.2\" style=\"stroke:#e26f46; stroke-width:3.2; stroke-opacity:1\"/>\n",
       "<line clip-path=\"url(#clip584)\" x1=\"667.185\" y1=\"1128.2\" x2=\"683.185\" y2=\"1128.2\" style=\"stroke:#e26f46; stroke-width:3.2; stroke-opacity:1\"/>\n",
       "<line clip-path=\"url(#clip584)\" x1=\"744.576\" y1=\"1122.66\" x2=\"744.576\" y2=\"1106.66\" style=\"stroke:#e26f46; stroke-width:3.2; stroke-opacity:1\"/>\n",
       "<line clip-path=\"url(#clip584)\" x1=\"744.576\" y1=\"1122.66\" x2=\"728.576\" y2=\"1122.66\" style=\"stroke:#e26f46; stroke-width:3.2; stroke-opacity:1\"/>\n",
       "<line clip-path=\"url(#clip584)\" x1=\"744.576\" y1=\"1122.66\" x2=\"744.576\" y2=\"1138.66\" style=\"stroke:#e26f46; stroke-width:3.2; stroke-opacity:1\"/>\n",
       "<line clip-path=\"url(#clip584)\" x1=\"744.576\" y1=\"1122.66\" x2=\"760.576\" y2=\"1122.66\" style=\"stroke:#e26f46; stroke-width:3.2; stroke-opacity:1\"/>\n",
       "<line clip-path=\"url(#clip584)\" x1=\"821.966\" y1=\"1126.11\" x2=\"821.966\" y2=\"1110.11\" style=\"stroke:#e26f46; stroke-width:3.2; stroke-opacity:1\"/>\n",
       "<line clip-path=\"url(#clip584)\" x1=\"821.966\" y1=\"1126.11\" x2=\"805.966\" y2=\"1126.11\" style=\"stroke:#e26f46; stroke-width:3.2; stroke-opacity:1\"/>\n",
       "<line clip-path=\"url(#clip584)\" x1=\"821.966\" y1=\"1126.11\" x2=\"821.966\" y2=\"1142.11\" style=\"stroke:#e26f46; stroke-width:3.2; stroke-opacity:1\"/>\n",
       "<line clip-path=\"url(#clip584)\" x1=\"821.966\" y1=\"1126.11\" x2=\"837.966\" y2=\"1126.11\" style=\"stroke:#e26f46; stroke-width:3.2; stroke-opacity:1\"/>\n",
       "<line clip-path=\"url(#clip584)\" x1=\"899.357\" y1=\"1128.01\" x2=\"899.357\" y2=\"1112.01\" style=\"stroke:#e26f46; stroke-width:3.2; stroke-opacity:1\"/>\n",
       "<line clip-path=\"url(#clip584)\" x1=\"899.357\" y1=\"1128.01\" x2=\"883.357\" y2=\"1128.01\" style=\"stroke:#e26f46; stroke-width:3.2; stroke-opacity:1\"/>\n",
       "<line clip-path=\"url(#clip584)\" x1=\"899.357\" y1=\"1128.01\" x2=\"899.357\" y2=\"1144.01\" style=\"stroke:#e26f46; stroke-width:3.2; stroke-opacity:1\"/>\n",
       "<line clip-path=\"url(#clip584)\" x1=\"899.357\" y1=\"1128.01\" x2=\"915.357\" y2=\"1128.01\" style=\"stroke:#e26f46; stroke-width:3.2; stroke-opacity:1\"/>\n",
       "<line clip-path=\"url(#clip584)\" x1=\"976.748\" y1=\"1127.44\" x2=\"976.748\" y2=\"1111.44\" style=\"stroke:#e26f46; stroke-width:3.2; stroke-opacity:1\"/>\n",
       "<line clip-path=\"url(#clip584)\" x1=\"976.748\" y1=\"1127.44\" x2=\"960.748\" y2=\"1127.44\" style=\"stroke:#e26f46; stroke-width:3.2; stroke-opacity:1\"/>\n",
       "<line clip-path=\"url(#clip584)\" x1=\"976.748\" y1=\"1127.44\" x2=\"976.748\" y2=\"1143.44\" style=\"stroke:#e26f46; stroke-width:3.2; stroke-opacity:1\"/>\n",
       "<line clip-path=\"url(#clip584)\" x1=\"976.748\" y1=\"1127.44\" x2=\"992.748\" y2=\"1127.44\" style=\"stroke:#e26f46; stroke-width:3.2; stroke-opacity:1\"/>\n",
       "<line clip-path=\"url(#clip584)\" x1=\"1054.14\" y1=\"1126.72\" x2=\"1054.14\" y2=\"1110.72\" style=\"stroke:#e26f46; stroke-width:3.2; stroke-opacity:1\"/>\n",
       "<line clip-path=\"url(#clip584)\" x1=\"1054.14\" y1=\"1126.72\" x2=\"1038.14\" y2=\"1126.72\" style=\"stroke:#e26f46; stroke-width:3.2; stroke-opacity:1\"/>\n",
       "<line clip-path=\"url(#clip584)\" x1=\"1054.14\" y1=\"1126.72\" x2=\"1054.14\" y2=\"1142.72\" style=\"stroke:#e26f46; stroke-width:3.2; stroke-opacity:1\"/>\n",
       "<line clip-path=\"url(#clip584)\" x1=\"1054.14\" y1=\"1126.72\" x2=\"1070.14\" y2=\"1126.72\" style=\"stroke:#e26f46; stroke-width:3.2; stroke-opacity:1\"/>\n",
       "<line clip-path=\"url(#clip584)\" x1=\"1131.53\" y1=\"1127.51\" x2=\"1131.53\" y2=\"1111.51\" style=\"stroke:#e26f46; stroke-width:3.2; stroke-opacity:1\"/>\n",
       "<line clip-path=\"url(#clip584)\" x1=\"1131.53\" y1=\"1127.51\" x2=\"1115.53\" y2=\"1127.51\" style=\"stroke:#e26f46; stroke-width:3.2; stroke-opacity:1\"/>\n",
       "<line clip-path=\"url(#clip584)\" x1=\"1131.53\" y1=\"1127.51\" x2=\"1131.53\" y2=\"1143.51\" style=\"stroke:#e26f46; stroke-width:3.2; stroke-opacity:1\"/>\n",
       "<line clip-path=\"url(#clip584)\" x1=\"1131.53\" y1=\"1127.51\" x2=\"1147.53\" y2=\"1127.51\" style=\"stroke:#e26f46; stroke-width:3.2; stroke-opacity:1\"/>\n",
       "<line clip-path=\"url(#clip584)\" x1=\"1208.92\" y1=\"1127.47\" x2=\"1208.92\" y2=\"1111.47\" style=\"stroke:#e26f46; stroke-width:3.2; stroke-opacity:1\"/>\n",
       "<line clip-path=\"url(#clip584)\" x1=\"1208.92\" y1=\"1127.47\" x2=\"1192.92\" y2=\"1127.47\" style=\"stroke:#e26f46; stroke-width:3.2; stroke-opacity:1\"/>\n",
       "<line clip-path=\"url(#clip584)\" x1=\"1208.92\" y1=\"1127.47\" x2=\"1208.92\" y2=\"1143.47\" style=\"stroke:#e26f46; stroke-width:3.2; stroke-opacity:1\"/>\n",
       "<line clip-path=\"url(#clip584)\" x1=\"1208.92\" y1=\"1127.47\" x2=\"1224.92\" y2=\"1127.47\" style=\"stroke:#e26f46; stroke-width:3.2; stroke-opacity:1\"/>\n",
       "<line clip-path=\"url(#clip584)\" x1=\"1286.31\" y1=\"1126.22\" x2=\"1286.31\" y2=\"1110.22\" style=\"stroke:#e26f46; stroke-width:3.2; stroke-opacity:1\"/>\n",
       "<line clip-path=\"url(#clip584)\" x1=\"1286.31\" y1=\"1126.22\" x2=\"1270.31\" y2=\"1126.22\" style=\"stroke:#e26f46; stroke-width:3.2; stroke-opacity:1\"/>\n",
       "<line clip-path=\"url(#clip584)\" x1=\"1286.31\" y1=\"1126.22\" x2=\"1286.31\" y2=\"1142.22\" style=\"stroke:#e26f46; stroke-width:3.2; stroke-opacity:1\"/>\n",
       "<line clip-path=\"url(#clip584)\" x1=\"1286.31\" y1=\"1126.22\" x2=\"1302.31\" y2=\"1126.22\" style=\"stroke:#e26f46; stroke-width:3.2; stroke-opacity:1\"/>\n",
       "<line clip-path=\"url(#clip584)\" x1=\"1363.7\" y1=\"1125.99\" x2=\"1363.7\" y2=\"1109.99\" style=\"stroke:#e26f46; stroke-width:3.2; stroke-opacity:1\"/>\n",
       "<line clip-path=\"url(#clip584)\" x1=\"1363.7\" y1=\"1125.99\" x2=\"1347.7\" y2=\"1125.99\" style=\"stroke:#e26f46; stroke-width:3.2; stroke-opacity:1\"/>\n",
       "<line clip-path=\"url(#clip584)\" x1=\"1363.7\" y1=\"1125.99\" x2=\"1363.7\" y2=\"1141.99\" style=\"stroke:#e26f46; stroke-width:3.2; stroke-opacity:1\"/>\n",
       "<line clip-path=\"url(#clip584)\" x1=\"1363.7\" y1=\"1125.99\" x2=\"1379.7\" y2=\"1125.99\" style=\"stroke:#e26f46; stroke-width:3.2; stroke-opacity:1\"/>\n",
       "<line clip-path=\"url(#clip584)\" x1=\"1441.09\" y1=\"1126.91\" x2=\"1441.09\" y2=\"1110.91\" style=\"stroke:#e26f46; stroke-width:3.2; stroke-opacity:1\"/>\n",
       "<line clip-path=\"url(#clip584)\" x1=\"1441.09\" y1=\"1126.91\" x2=\"1425.09\" y2=\"1126.91\" style=\"stroke:#e26f46; stroke-width:3.2; stroke-opacity:1\"/>\n",
       "<line clip-path=\"url(#clip584)\" x1=\"1441.09\" y1=\"1126.91\" x2=\"1441.09\" y2=\"1142.91\" style=\"stroke:#e26f46; stroke-width:3.2; stroke-opacity:1\"/>\n",
       "<line clip-path=\"url(#clip584)\" x1=\"1441.09\" y1=\"1126.91\" x2=\"1457.09\" y2=\"1126.91\" style=\"stroke:#e26f46; stroke-width:3.2; stroke-opacity:1\"/>\n",
       "<line clip-path=\"url(#clip584)\" x1=\"1518.48\" y1=\"1127.41\" x2=\"1518.48\" y2=\"1111.41\" style=\"stroke:#e26f46; stroke-width:3.2; stroke-opacity:1\"/>\n",
       "<line clip-path=\"url(#clip584)\" x1=\"1518.48\" y1=\"1127.41\" x2=\"1502.48\" y2=\"1127.41\" style=\"stroke:#e26f46; stroke-width:3.2; stroke-opacity:1\"/>\n",
       "<line clip-path=\"url(#clip584)\" x1=\"1518.48\" y1=\"1127.41\" x2=\"1518.48\" y2=\"1143.41\" style=\"stroke:#e26f46; stroke-width:3.2; stroke-opacity:1\"/>\n",
       "<line clip-path=\"url(#clip584)\" x1=\"1518.48\" y1=\"1127.41\" x2=\"1534.48\" y2=\"1127.41\" style=\"stroke:#e26f46; stroke-width:3.2; stroke-opacity:1\"/>\n",
       "<line clip-path=\"url(#clip584)\" x1=\"1595.87\" y1=\"1126.82\" x2=\"1595.87\" y2=\"1110.82\" style=\"stroke:#e26f46; stroke-width:3.2; stroke-opacity:1\"/>\n",
       "<line clip-path=\"url(#clip584)\" x1=\"1595.87\" y1=\"1126.82\" x2=\"1579.87\" y2=\"1126.82\" style=\"stroke:#e26f46; stroke-width:3.2; stroke-opacity:1\"/>\n",
       "<line clip-path=\"url(#clip584)\" x1=\"1595.87\" y1=\"1126.82\" x2=\"1595.87\" y2=\"1142.82\" style=\"stroke:#e26f46; stroke-width:3.2; stroke-opacity:1\"/>\n",
       "<line clip-path=\"url(#clip584)\" x1=\"1595.87\" y1=\"1126.82\" x2=\"1611.87\" y2=\"1126.82\" style=\"stroke:#e26f46; stroke-width:3.2; stroke-opacity:1\"/>\n",
       "<line clip-path=\"url(#clip584)\" x1=\"1673.26\" y1=\"1127.02\" x2=\"1673.26\" y2=\"1111.02\" style=\"stroke:#e26f46; stroke-width:3.2; stroke-opacity:1\"/>\n",
       "<line clip-path=\"url(#clip584)\" x1=\"1673.26\" y1=\"1127.02\" x2=\"1657.26\" y2=\"1127.02\" style=\"stroke:#e26f46; stroke-width:3.2; stroke-opacity:1\"/>\n",
       "<line clip-path=\"url(#clip584)\" x1=\"1673.26\" y1=\"1127.02\" x2=\"1673.26\" y2=\"1143.02\" style=\"stroke:#e26f46; stroke-width:3.2; stroke-opacity:1\"/>\n",
       "<line clip-path=\"url(#clip584)\" x1=\"1673.26\" y1=\"1127.02\" x2=\"1689.26\" y2=\"1127.02\" style=\"stroke:#e26f46; stroke-width:3.2; stroke-opacity:1\"/>\n",
       "<line clip-path=\"url(#clip584)\" x1=\"1750.66\" y1=\"1127.04\" x2=\"1750.66\" y2=\"1111.04\" style=\"stroke:#e26f46; stroke-width:3.2; stroke-opacity:1\"/>\n",
       "<line clip-path=\"url(#clip584)\" x1=\"1750.66\" y1=\"1127.04\" x2=\"1734.66\" y2=\"1127.04\" style=\"stroke:#e26f46; stroke-width:3.2; stroke-opacity:1\"/>\n",
       "<line clip-path=\"url(#clip584)\" x1=\"1750.66\" y1=\"1127.04\" x2=\"1750.66\" y2=\"1143.04\" style=\"stroke:#e26f46; stroke-width:3.2; stroke-opacity:1\"/>\n",
       "<line clip-path=\"url(#clip584)\" x1=\"1750.66\" y1=\"1127.04\" x2=\"1766.66\" y2=\"1127.04\" style=\"stroke:#e26f46; stroke-width:3.2; stroke-opacity:1\"/>\n",
       "<line clip-path=\"url(#clip584)\" x1=\"1828.05\" y1=\"1126.76\" x2=\"1828.05\" y2=\"1110.76\" style=\"stroke:#e26f46; stroke-width:3.2; stroke-opacity:1\"/>\n",
       "<line clip-path=\"url(#clip584)\" x1=\"1828.05\" y1=\"1126.76\" x2=\"1812.05\" y2=\"1126.76\" style=\"stroke:#e26f46; stroke-width:3.2; stroke-opacity:1\"/>\n",
       "<line clip-path=\"url(#clip584)\" x1=\"1828.05\" y1=\"1126.76\" x2=\"1828.05\" y2=\"1142.76\" style=\"stroke:#e26f46; stroke-width:3.2; stroke-opacity:1\"/>\n",
       "<line clip-path=\"url(#clip584)\" x1=\"1828.05\" y1=\"1126.76\" x2=\"1844.05\" y2=\"1126.76\" style=\"stroke:#e26f46; stroke-width:3.2; stroke-opacity:1\"/>\n",
       "<line clip-path=\"url(#clip584)\" x1=\"1905.44\" y1=\"1126.75\" x2=\"1905.44\" y2=\"1110.75\" style=\"stroke:#e26f46; stroke-width:3.2; stroke-opacity:1\"/>\n",
       "<line clip-path=\"url(#clip584)\" x1=\"1905.44\" y1=\"1126.75\" x2=\"1889.44\" y2=\"1126.75\" style=\"stroke:#e26f46; stroke-width:3.2; stroke-opacity:1\"/>\n",
       "<line clip-path=\"url(#clip584)\" x1=\"1905.44\" y1=\"1126.75\" x2=\"1905.44\" y2=\"1142.75\" style=\"stroke:#e26f46; stroke-width:3.2; stroke-opacity:1\"/>\n",
       "<line clip-path=\"url(#clip584)\" x1=\"1905.44\" y1=\"1126.75\" x2=\"1921.44\" y2=\"1126.75\" style=\"stroke:#e26f46; stroke-width:3.2; stroke-opacity:1\"/>\n",
       "<line clip-path=\"url(#clip584)\" x1=\"1982.83\" y1=\"1126.8\" x2=\"1982.83\" y2=\"1110.8\" style=\"stroke:#e26f46; stroke-width:3.2; stroke-opacity:1\"/>\n",
       "<line clip-path=\"url(#clip584)\" x1=\"1982.83\" y1=\"1126.8\" x2=\"1966.83\" y2=\"1126.8\" style=\"stroke:#e26f46; stroke-width:3.2; stroke-opacity:1\"/>\n",
       "<line clip-path=\"url(#clip584)\" x1=\"1982.83\" y1=\"1126.8\" x2=\"1982.83\" y2=\"1142.8\" style=\"stroke:#e26f46; stroke-width:3.2; stroke-opacity:1\"/>\n",
       "<line clip-path=\"url(#clip584)\" x1=\"1982.83\" y1=\"1126.8\" x2=\"1998.83\" y2=\"1126.8\" style=\"stroke:#e26f46; stroke-width:3.2; stroke-opacity:1\"/>\n",
       "<line clip-path=\"url(#clip584)\" x1=\"2060.22\" y1=\"1126.86\" x2=\"2060.22\" y2=\"1110.86\" style=\"stroke:#e26f46; stroke-width:3.2; stroke-opacity:1\"/>\n",
       "<line clip-path=\"url(#clip584)\" x1=\"2060.22\" y1=\"1126.86\" x2=\"2044.22\" y2=\"1126.86\" style=\"stroke:#e26f46; stroke-width:3.2; stroke-opacity:1\"/>\n",
       "<line clip-path=\"url(#clip584)\" x1=\"2060.22\" y1=\"1126.86\" x2=\"2060.22\" y2=\"1142.86\" style=\"stroke:#e26f46; stroke-width:3.2; stroke-opacity:1\"/>\n",
       "<line clip-path=\"url(#clip584)\" x1=\"2060.22\" y1=\"1126.86\" x2=\"2076.22\" y2=\"1126.86\" style=\"stroke:#e26f46; stroke-width:3.2; stroke-opacity:1\"/>\n",
       "<line clip-path=\"url(#clip584)\" x1=\"2137.61\" y1=\"1126.9\" x2=\"2137.61\" y2=\"1110.9\" style=\"stroke:#e26f46; stroke-width:3.2; stroke-opacity:1\"/>\n",
       "<line clip-path=\"url(#clip584)\" x1=\"2137.61\" y1=\"1126.9\" x2=\"2121.61\" y2=\"1126.9\" style=\"stroke:#e26f46; stroke-width:3.2; stroke-opacity:1\"/>\n",
       "<line clip-path=\"url(#clip584)\" x1=\"2137.61\" y1=\"1126.9\" x2=\"2137.61\" y2=\"1142.9\" style=\"stroke:#e26f46; stroke-width:3.2; stroke-opacity:1\"/>\n",
       "<line clip-path=\"url(#clip584)\" x1=\"2137.61\" y1=\"1126.9\" x2=\"2153.61\" y2=\"1126.9\" style=\"stroke:#e26f46; stroke-width:3.2; stroke-opacity:1\"/>\n",
       "<line clip-path=\"url(#clip584)\" x1=\"2215\" y1=\"1126.93\" x2=\"2215\" y2=\"1110.93\" style=\"stroke:#e26f46; stroke-width:3.2; stroke-opacity:1\"/>\n",
       "<line clip-path=\"url(#clip584)\" x1=\"2215\" y1=\"1126.93\" x2=\"2199\" y2=\"1126.93\" style=\"stroke:#e26f46; stroke-width:3.2; stroke-opacity:1\"/>\n",
       "<line clip-path=\"url(#clip584)\" x1=\"2215\" y1=\"1126.93\" x2=\"2215\" y2=\"1142.93\" style=\"stroke:#e26f46; stroke-width:3.2; stroke-opacity:1\"/>\n",
       "<line clip-path=\"url(#clip584)\" x1=\"2215\" y1=\"1126.93\" x2=\"2231\" y2=\"1126.93\" style=\"stroke:#e26f46; stroke-width:3.2; stroke-opacity:1\"/>\n",
       "<line clip-path=\"url(#clip584)\" x1=\"2292.39\" y1=\"1126.95\" x2=\"2292.39\" y2=\"1110.95\" style=\"stroke:#e26f46; stroke-width:3.2; stroke-opacity:1\"/>\n",
       "<line clip-path=\"url(#clip584)\" x1=\"2292.39\" y1=\"1126.95\" x2=\"2276.39\" y2=\"1126.95\" style=\"stroke:#e26f46; stroke-width:3.2; stroke-opacity:1\"/>\n",
       "<line clip-path=\"url(#clip584)\" x1=\"2292.39\" y1=\"1126.95\" x2=\"2292.39\" y2=\"1142.95\" style=\"stroke:#e26f46; stroke-width:3.2; stroke-opacity:1\"/>\n",
       "<line clip-path=\"url(#clip584)\" x1=\"2292.39\" y1=\"1126.95\" x2=\"2308.39\" y2=\"1126.95\" style=\"stroke:#e26f46; stroke-width:3.2; stroke-opacity:1\"/>\n",
       "<polyline clip-path=\"url(#clip584)\" style=\"stroke:#80007f; stroke-linecap:round; stroke-linejoin:round; stroke-width:20; stroke-opacity:0.3; fill:none\" points=\"280.231,1414.43 357.622,1388.8 435.013,1306.59 512.403,1218.74 589.794,1157.15 667.185,1128.2 744.576,1122.66 821.966,1126.11 899.357,1128.01 976.748,1127.44 1054.14,1126.72 1131.53,1127.51 1208.92,1127.47 1286.31,1126.22 1363.7,1125.99 1441.09,1126.91 1518.48,1127.41 1595.87,1126.82 1673.26,1127.02 1750.66,1127.04 1828.05,1126.76 1905.44,1126.75 1982.83,1126.8 2060.22,1126.86 2137.61,1126.9 2215,1126.93 2292.39,1126.95 \"/>\n",
       "<circle clip-path=\"url(#clip584)\" cx=\"280.231\" cy=\"1414.43\" r=\"14.4\" fill=\"#3da44d\" fill-rule=\"evenodd\" fill-opacity=\"1\" stroke=\"#000000\" stroke-opacity=\"1\" stroke-width=\"3.2\"/>\n",
       "<circle clip-path=\"url(#clip584)\" cx=\"357.622\" cy=\"1388.8\" r=\"14.4\" fill=\"#3da44d\" fill-rule=\"evenodd\" fill-opacity=\"1\" stroke=\"#000000\" stroke-opacity=\"1\" stroke-width=\"3.2\"/>\n",
       "<circle clip-path=\"url(#clip584)\" cx=\"435.013\" cy=\"1306.59\" r=\"14.4\" fill=\"#3da44d\" fill-rule=\"evenodd\" fill-opacity=\"1\" stroke=\"#000000\" stroke-opacity=\"1\" stroke-width=\"3.2\"/>\n",
       "<circle clip-path=\"url(#clip584)\" cx=\"512.403\" cy=\"1218.74\" r=\"14.4\" fill=\"#3da44d\" fill-rule=\"evenodd\" fill-opacity=\"1\" stroke=\"#000000\" stroke-opacity=\"1\" stroke-width=\"3.2\"/>\n",
       "<circle clip-path=\"url(#clip584)\" cx=\"589.794\" cy=\"1157.15\" r=\"14.4\" fill=\"#3da44d\" fill-rule=\"evenodd\" fill-opacity=\"1\" stroke=\"#000000\" stroke-opacity=\"1\" stroke-width=\"3.2\"/>\n",
       "<circle clip-path=\"url(#clip584)\" cx=\"667.185\" cy=\"1128.2\" r=\"14.4\" fill=\"#3da44d\" fill-rule=\"evenodd\" fill-opacity=\"1\" stroke=\"#000000\" stroke-opacity=\"1\" stroke-width=\"3.2\"/>\n",
       "<circle clip-path=\"url(#clip584)\" cx=\"744.576\" cy=\"1122.66\" r=\"14.4\" fill=\"#3da44d\" fill-rule=\"evenodd\" fill-opacity=\"1\" stroke=\"#000000\" stroke-opacity=\"1\" stroke-width=\"3.2\"/>\n",
       "<circle clip-path=\"url(#clip584)\" cx=\"821.966\" cy=\"1126.11\" r=\"14.4\" fill=\"#3da44d\" fill-rule=\"evenodd\" fill-opacity=\"1\" stroke=\"#000000\" stroke-opacity=\"1\" stroke-width=\"3.2\"/>\n",
       "<circle clip-path=\"url(#clip584)\" cx=\"899.357\" cy=\"1128.01\" r=\"14.4\" fill=\"#3da44d\" fill-rule=\"evenodd\" fill-opacity=\"1\" stroke=\"#000000\" stroke-opacity=\"1\" stroke-width=\"3.2\"/>\n",
       "<circle clip-path=\"url(#clip584)\" cx=\"976.748\" cy=\"1127.44\" r=\"14.4\" fill=\"#3da44d\" fill-rule=\"evenodd\" fill-opacity=\"1\" stroke=\"#000000\" stroke-opacity=\"1\" stroke-width=\"3.2\"/>\n",
       "<circle clip-path=\"url(#clip584)\" cx=\"1054.14\" cy=\"1126.72\" r=\"14.4\" fill=\"#3da44d\" fill-rule=\"evenodd\" fill-opacity=\"1\" stroke=\"#000000\" stroke-opacity=\"1\" stroke-width=\"3.2\"/>\n",
       "<circle clip-path=\"url(#clip584)\" cx=\"1131.53\" cy=\"1127.51\" r=\"14.4\" fill=\"#3da44d\" fill-rule=\"evenodd\" fill-opacity=\"1\" stroke=\"#000000\" stroke-opacity=\"1\" stroke-width=\"3.2\"/>\n",
       "<circle clip-path=\"url(#clip584)\" cx=\"1208.92\" cy=\"1127.47\" r=\"14.4\" fill=\"#3da44d\" fill-rule=\"evenodd\" fill-opacity=\"1\" stroke=\"#000000\" stroke-opacity=\"1\" stroke-width=\"3.2\"/>\n",
       "<circle clip-path=\"url(#clip584)\" cx=\"1286.31\" cy=\"1126.22\" r=\"14.4\" fill=\"#3da44d\" fill-rule=\"evenodd\" fill-opacity=\"1\" stroke=\"#000000\" stroke-opacity=\"1\" stroke-width=\"3.2\"/>\n",
       "<circle clip-path=\"url(#clip584)\" cx=\"1363.7\" cy=\"1125.99\" r=\"14.4\" fill=\"#3da44d\" fill-rule=\"evenodd\" fill-opacity=\"1\" stroke=\"#000000\" stroke-opacity=\"1\" stroke-width=\"3.2\"/>\n",
       "<circle clip-path=\"url(#clip584)\" cx=\"1441.09\" cy=\"1126.91\" r=\"14.4\" fill=\"#3da44d\" fill-rule=\"evenodd\" fill-opacity=\"1\" stroke=\"#000000\" stroke-opacity=\"1\" stroke-width=\"3.2\"/>\n",
       "<circle clip-path=\"url(#clip584)\" cx=\"1518.48\" cy=\"1127.41\" r=\"14.4\" fill=\"#3da44d\" fill-rule=\"evenodd\" fill-opacity=\"1\" stroke=\"#000000\" stroke-opacity=\"1\" stroke-width=\"3.2\"/>\n",
       "<circle clip-path=\"url(#clip584)\" cx=\"1595.87\" cy=\"1126.82\" r=\"14.4\" fill=\"#3da44d\" fill-rule=\"evenodd\" fill-opacity=\"1\" stroke=\"#000000\" stroke-opacity=\"1\" stroke-width=\"3.2\"/>\n",
       "<circle clip-path=\"url(#clip584)\" cx=\"1673.26\" cy=\"1127.02\" r=\"14.4\" fill=\"#3da44d\" fill-rule=\"evenodd\" fill-opacity=\"1\" stroke=\"#000000\" stroke-opacity=\"1\" stroke-width=\"3.2\"/>\n",
       "<circle clip-path=\"url(#clip584)\" cx=\"1750.66\" cy=\"1127.04\" r=\"14.4\" fill=\"#3da44d\" fill-rule=\"evenodd\" fill-opacity=\"1\" stroke=\"#000000\" stroke-opacity=\"1\" stroke-width=\"3.2\"/>\n",
       "<circle clip-path=\"url(#clip584)\" cx=\"1828.05\" cy=\"1126.76\" r=\"14.4\" fill=\"#3da44d\" fill-rule=\"evenodd\" fill-opacity=\"1\" stroke=\"#000000\" stroke-opacity=\"1\" stroke-width=\"3.2\"/>\n",
       "<circle clip-path=\"url(#clip584)\" cx=\"1905.44\" cy=\"1126.75\" r=\"14.4\" fill=\"#3da44d\" fill-rule=\"evenodd\" fill-opacity=\"1\" stroke=\"#000000\" stroke-opacity=\"1\" stroke-width=\"3.2\"/>\n",
       "<circle clip-path=\"url(#clip584)\" cx=\"1982.83\" cy=\"1126.8\" r=\"14.4\" fill=\"#3da44d\" fill-rule=\"evenodd\" fill-opacity=\"1\" stroke=\"#000000\" stroke-opacity=\"1\" stroke-width=\"3.2\"/>\n",
       "<circle clip-path=\"url(#clip584)\" cx=\"2060.22\" cy=\"1126.86\" r=\"14.4\" fill=\"#3da44d\" fill-rule=\"evenodd\" fill-opacity=\"1\" stroke=\"#000000\" stroke-opacity=\"1\" stroke-width=\"3.2\"/>\n",
       "<circle clip-path=\"url(#clip584)\" cx=\"2137.61\" cy=\"1126.9\" r=\"14.4\" fill=\"#3da44d\" fill-rule=\"evenodd\" fill-opacity=\"1\" stroke=\"#000000\" stroke-opacity=\"1\" stroke-width=\"3.2\"/>\n",
       "<circle clip-path=\"url(#clip584)\" cx=\"2215\" cy=\"1126.93\" r=\"14.4\" fill=\"#3da44d\" fill-rule=\"evenodd\" fill-opacity=\"1\" stroke=\"#000000\" stroke-opacity=\"1\" stroke-width=\"3.2\"/>\n",
       "<circle clip-path=\"url(#clip584)\" cx=\"2292.39\" cy=\"1126.95\" r=\"14.4\" fill=\"#3da44d\" fill-rule=\"evenodd\" fill-opacity=\"1\" stroke=\"#000000\" stroke-opacity=\"1\" stroke-width=\"3.2\"/>\n",
       "<polyline clip-path=\"url(#clip584)\" style=\"stroke:#0000ff; stroke-linecap:round; stroke-linejoin:round; stroke-width:20; stroke-opacity:0.3; fill:none\" points=\"280.231,1414.43 357.622,1388.8 435.013,1306.59 512.403,1218.74 589.794,1157.15 667.185,1128.2 744.576,1122.66 821.966,1126.11 899.357,1128.01 976.748,1127.44 1054.14,1126.72 1131.53,1127.51 1208.92,1127.47 1286.31,1126.22 1363.7,1125.99 1441.09,1126.91 1518.48,1127.41 1595.87,1126.82 1673.26,1127.02 1750.66,1127.04 1828.05,1126.76 1905.44,1126.75 1982.83,1126.8 2060.22,1126.86 2137.61,1126.9 2215,1126.93 2292.39,1126.95 \"/>\n",
       "<path clip-path=\"url(#clip584)\" d=\"M280.231 1398.43 L264.231 1414.43 L280.231 1430.43 L296.231 1414.43 L280.231 1398.43 Z\" fill=\"#c271d2\" fill-rule=\"evenodd\" fill-opacity=\"1\" stroke=\"#000000\" stroke-opacity=\"1\" stroke-width=\"3.2\"/>\n",
       "<path clip-path=\"url(#clip584)\" d=\"M357.622 1372.8 L341.622 1388.8 L357.622 1404.8 L373.622 1388.8 L357.622 1372.8 Z\" fill=\"#c271d2\" fill-rule=\"evenodd\" fill-opacity=\"1\" stroke=\"#000000\" stroke-opacity=\"1\" stroke-width=\"3.2\"/>\n",
       "<path clip-path=\"url(#clip584)\" d=\"M435.013 1290.59 L419.013 1306.59 L435.013 1322.59 L451.013 1306.59 L435.013 1290.59 Z\" fill=\"#c271d2\" fill-rule=\"evenodd\" fill-opacity=\"1\" stroke=\"#000000\" stroke-opacity=\"1\" stroke-width=\"3.2\"/>\n",
       "<path clip-path=\"url(#clip584)\" d=\"M512.403 1202.74 L496.403 1218.74 L512.403 1234.74 L528.403 1218.74 L512.403 1202.74 Z\" fill=\"#c271d2\" fill-rule=\"evenodd\" fill-opacity=\"1\" stroke=\"#000000\" stroke-opacity=\"1\" stroke-width=\"3.2\"/>\n",
       "<path clip-path=\"url(#clip584)\" d=\"M589.794 1141.15 L573.794 1157.15 L589.794 1173.15 L605.794 1157.15 L589.794 1141.15 Z\" fill=\"#c271d2\" fill-rule=\"evenodd\" fill-opacity=\"1\" stroke=\"#000000\" stroke-opacity=\"1\" stroke-width=\"3.2\"/>\n",
       "<path clip-path=\"url(#clip584)\" d=\"M667.185 1112.2 L651.185 1128.2 L667.185 1144.2 L683.185 1128.2 L667.185 1112.2 Z\" fill=\"#c271d2\" fill-rule=\"evenodd\" fill-opacity=\"1\" stroke=\"#000000\" stroke-opacity=\"1\" stroke-width=\"3.2\"/>\n",
       "<path clip-path=\"url(#clip584)\" d=\"M744.576 1106.66 L728.576 1122.66 L744.576 1138.66 L760.576 1122.66 L744.576 1106.66 Z\" fill=\"#c271d2\" fill-rule=\"evenodd\" fill-opacity=\"1\" stroke=\"#000000\" stroke-opacity=\"1\" stroke-width=\"3.2\"/>\n",
       "<path clip-path=\"url(#clip584)\" d=\"M821.966 1110.11 L805.966 1126.11 L821.966 1142.11 L837.966 1126.11 L821.966 1110.11 Z\" fill=\"#c271d2\" fill-rule=\"evenodd\" fill-opacity=\"1\" stroke=\"#000000\" stroke-opacity=\"1\" stroke-width=\"3.2\"/>\n",
       "<path clip-path=\"url(#clip584)\" d=\"M899.357 1112.01 L883.357 1128.01 L899.357 1144.01 L915.357 1128.01 L899.357 1112.01 Z\" fill=\"#c271d2\" fill-rule=\"evenodd\" fill-opacity=\"1\" stroke=\"#000000\" stroke-opacity=\"1\" stroke-width=\"3.2\"/>\n",
       "<path clip-path=\"url(#clip584)\" d=\"M976.748 1111.44 L960.748 1127.44 L976.748 1143.44 L992.748 1127.44 L976.748 1111.44 Z\" fill=\"#c271d2\" fill-rule=\"evenodd\" fill-opacity=\"1\" stroke=\"#000000\" stroke-opacity=\"1\" stroke-width=\"3.2\"/>\n",
       "<path clip-path=\"url(#clip584)\" d=\"M1054.14 1110.72 L1038.14 1126.72 L1054.14 1142.72 L1070.14 1126.72 L1054.14 1110.72 Z\" fill=\"#c271d2\" fill-rule=\"evenodd\" fill-opacity=\"1\" stroke=\"#000000\" stroke-opacity=\"1\" stroke-width=\"3.2\"/>\n",
       "<path clip-path=\"url(#clip584)\" d=\"M1131.53 1111.51 L1115.53 1127.51 L1131.53 1143.51 L1147.53 1127.51 L1131.53 1111.51 Z\" fill=\"#c271d2\" fill-rule=\"evenodd\" fill-opacity=\"1\" stroke=\"#000000\" stroke-opacity=\"1\" stroke-width=\"3.2\"/>\n",
       "<path clip-path=\"url(#clip584)\" d=\"M1208.92 1111.47 L1192.92 1127.47 L1208.92 1143.47 L1224.92 1127.47 L1208.92 1111.47 Z\" fill=\"#c271d2\" fill-rule=\"evenodd\" fill-opacity=\"1\" stroke=\"#000000\" stroke-opacity=\"1\" stroke-width=\"3.2\"/>\n",
       "<path clip-path=\"url(#clip584)\" d=\"M1286.31 1110.22 L1270.31 1126.22 L1286.31 1142.22 L1302.31 1126.22 L1286.31 1110.22 Z\" fill=\"#c271d2\" fill-rule=\"evenodd\" fill-opacity=\"1\" stroke=\"#000000\" stroke-opacity=\"1\" stroke-width=\"3.2\"/>\n",
       "<path clip-path=\"url(#clip584)\" d=\"M1363.7 1109.99 L1347.7 1125.99 L1363.7 1141.99 L1379.7 1125.99 L1363.7 1109.99 Z\" fill=\"#c271d2\" fill-rule=\"evenodd\" fill-opacity=\"1\" stroke=\"#000000\" stroke-opacity=\"1\" stroke-width=\"3.2\"/>\n",
       "<path clip-path=\"url(#clip584)\" d=\"M1441.09 1110.91 L1425.09 1126.91 L1441.09 1142.91 L1457.09 1126.91 L1441.09 1110.91 Z\" fill=\"#c271d2\" fill-rule=\"evenodd\" fill-opacity=\"1\" stroke=\"#000000\" stroke-opacity=\"1\" stroke-width=\"3.2\"/>\n",
       "<path clip-path=\"url(#clip584)\" d=\"M1518.48 1111.41 L1502.48 1127.41 L1518.48 1143.41 L1534.48 1127.41 L1518.48 1111.41 Z\" fill=\"#c271d2\" fill-rule=\"evenodd\" fill-opacity=\"1\" stroke=\"#000000\" stroke-opacity=\"1\" stroke-width=\"3.2\"/>\n",
       "<path clip-path=\"url(#clip584)\" d=\"M1595.87 1110.82 L1579.87 1126.82 L1595.87 1142.82 L1611.87 1126.82 L1595.87 1110.82 Z\" fill=\"#c271d2\" fill-rule=\"evenodd\" fill-opacity=\"1\" stroke=\"#000000\" stroke-opacity=\"1\" stroke-width=\"3.2\"/>\n",
       "<path clip-path=\"url(#clip584)\" d=\"M1673.26 1111.02 L1657.26 1127.02 L1673.26 1143.02 L1689.26 1127.02 L1673.26 1111.02 Z\" fill=\"#c271d2\" fill-rule=\"evenodd\" fill-opacity=\"1\" stroke=\"#000000\" stroke-opacity=\"1\" stroke-width=\"3.2\"/>\n",
       "<path clip-path=\"url(#clip584)\" d=\"M1750.66 1111.04 L1734.66 1127.04 L1750.66 1143.04 L1766.66 1127.04 L1750.66 1111.04 Z\" fill=\"#c271d2\" fill-rule=\"evenodd\" fill-opacity=\"1\" stroke=\"#000000\" stroke-opacity=\"1\" stroke-width=\"3.2\"/>\n",
       "<path clip-path=\"url(#clip584)\" d=\"M1828.05 1110.76 L1812.05 1126.76 L1828.05 1142.76 L1844.05 1126.76 L1828.05 1110.76 Z\" fill=\"#c271d2\" fill-rule=\"evenodd\" fill-opacity=\"1\" stroke=\"#000000\" stroke-opacity=\"1\" stroke-width=\"3.2\"/>\n",
       "<path clip-path=\"url(#clip584)\" d=\"M1905.44 1110.75 L1889.44 1126.75 L1905.44 1142.75 L1921.44 1126.75 L1905.44 1110.75 Z\" fill=\"#c271d2\" fill-rule=\"evenodd\" fill-opacity=\"1\" stroke=\"#000000\" stroke-opacity=\"1\" stroke-width=\"3.2\"/>\n",
       "<path clip-path=\"url(#clip584)\" d=\"M1982.83 1110.8 L1966.83 1126.8 L1982.83 1142.8 L1998.83 1126.8 L1982.83 1110.8 Z\" fill=\"#c271d2\" fill-rule=\"evenodd\" fill-opacity=\"1\" stroke=\"#000000\" stroke-opacity=\"1\" stroke-width=\"3.2\"/>\n",
       "<path clip-path=\"url(#clip584)\" d=\"M2060.22 1110.86 L2044.22 1126.86 L2060.22 1142.86 L2076.22 1126.86 L2060.22 1110.86 Z\" fill=\"#c271d2\" fill-rule=\"evenodd\" fill-opacity=\"1\" stroke=\"#000000\" stroke-opacity=\"1\" stroke-width=\"3.2\"/>\n",
       "<path clip-path=\"url(#clip584)\" d=\"M2137.61 1110.9 L2121.61 1126.9 L2137.61 1142.9 L2153.61 1126.9 L2137.61 1110.9 Z\" fill=\"#c271d2\" fill-rule=\"evenodd\" fill-opacity=\"1\" stroke=\"#000000\" stroke-opacity=\"1\" stroke-width=\"3.2\"/>\n",
       "<path clip-path=\"url(#clip584)\" d=\"M2215 1110.93 L2199 1126.93 L2215 1142.93 L2231 1126.93 L2215 1110.93 Z\" fill=\"#c271d2\" fill-rule=\"evenodd\" fill-opacity=\"1\" stroke=\"#000000\" stroke-opacity=\"1\" stroke-width=\"3.2\"/>\n",
       "<path clip-path=\"url(#clip584)\" d=\"M2292.39 1110.95 L2276.39 1126.95 L2292.39 1142.95 L2308.39 1126.95 L2292.39 1110.95 Z\" fill=\"#c271d2\" fill-rule=\"evenodd\" fill-opacity=\"1\" stroke=\"#000000\" stroke-opacity=\"1\" stroke-width=\"3.2\"/>\n",
       "</svg>\n"
      ]
     },
     "metadata": {},
     "output_type": "display_data"
    }
   ],
   "source": [
    "gr()\n",
    "###########\n",
    "# OUTPUTS #\n",
    "###########\n",
    "# limits\n",
    "p3 = plot(ts,(pUB + y0)*ones(length(ts)),linestyle = :dot,linecolor = :black,xaxis=\"time[h]\",yaxis=\"y_s1\",legend=false,gridlinewidth=2)\n",
    "\n",
    "for opti in 1:3\n",
    "    p3 = plot!(ts,yTraj[opti,:,1],linewidth=5,linealpha = 0.3,markershape=MList[opti],linecolor = CList[opti],legend=false)\n",
    "end\n",
    "\n",
    "p4 = plot(ts,(pUB + y0)*ones(length(ts)),linestyle = :dot,linecolor = :black,xaxis=\"time[h]\",yaxis=\"y_s2\",legend=false,gridlinewidth=2)\n",
    "\n",
    "for opti in 1:3\n",
    "    p4 = plot!(ts,yTraj[opti,:,2],linewidth=5,linealpha = 0.3,markershape=MList[opti],linecolor = CList[opti],legend=false)\n",
    "end\n",
    "\n",
    "p5 = plot(ts,(pUB + y0)*ones(length(ts)),linestyle = :dot,linecolor = :black,xaxis=\"time[h]\",yaxis=\"y_s3\",legend=false,gridlinewidth=2)\n",
    "\n",
    "for opti in 1:3\n",
    "    p5 = plot!(ts,yTraj[opti,:,3],linewidth=5,linealpha = 0.3,markershape=MList[opti],linecolor = CList[opti],legend=false)\n",
    "end\n",
    "\n",
    "g1 = plot(p3,p4,p5,layout=(3,1))\n",
    "display(g1)"
   ]
  },
  {
   "cell_type": "code",
   "execution_count": 19,
   "id": "042bad03",
   "metadata": {},
   "outputs": [
    {
     "data": {
      "image/svg+xml": [
       "<?xml version=\"1.0\" encoding=\"utf-8\"?>\n",
       "<svg xmlns=\"http://www.w3.org/2000/svg\" xmlns:xlink=\"http://www.w3.org/1999/xlink\" width=\"600\" height=\"400\" viewBox=\"0 0 2400 1600\">\n",
       "<defs>\n",
       "  <clipPath id=\"clip620\">\n",
       "    <rect x=\"0\" y=\"0\" width=\"2400\" height=\"1600\"/>\n",
       "  </clipPath>\n",
       "</defs>\n",
       "<path clip-path=\"url(#clip620)\" d=\"M0 1600 L2400 1600 L2400 0 L0 0  Z\" fill=\"#ffffff\" fill-rule=\"evenodd\" fill-opacity=\"1\"/>\n",
       "<defs>\n",
       "  <clipPath id=\"clip621\">\n",
       "    <rect x=\"480\" y=\"0\" width=\"1681\" height=\"1600\"/>\n",
       "  </clipPath>\n",
       "</defs>\n",
       "<path clip-path=\"url(#clip620)\" d=\"M249.542 356.513 L2352.76 356.513 L2352.76 47.2441 L249.542 47.2441  Z\" fill=\"#ffffff\" fill-rule=\"evenodd\" fill-opacity=\"1\"/>\n",
       "<defs>\n",
       "  <clipPath id=\"clip622\">\n",
       "    <rect x=\"249\" y=\"47\" width=\"2104\" height=\"310\"/>\n",
       "  </clipPath>\n",
       "</defs>\n",
       "<polyline clip-path=\"url(#clip622)\" style=\"stroke:#000000; stroke-linecap:round; stroke-linejoin:round; stroke-width:8; stroke-opacity:0.1; fill:none\" points=\"614.323,356.513 614.323,47.2441 \"/>\n",
       "<polyline clip-path=\"url(#clip622)\" style=\"stroke:#000000; stroke-linecap:round; stroke-linejoin:round; stroke-width:8; stroke-opacity:0.1; fill:none\" points=\"995.893,356.513 995.893,47.2441 \"/>\n",
       "<polyline clip-path=\"url(#clip622)\" style=\"stroke:#000000; stroke-linecap:round; stroke-linejoin:round; stroke-width:8; stroke-opacity:0.1; fill:none\" points=\"1377.46,356.513 1377.46,47.2441 \"/>\n",
       "<polyline clip-path=\"url(#clip622)\" style=\"stroke:#000000; stroke-linecap:round; stroke-linejoin:round; stroke-width:8; stroke-opacity:0.1; fill:none\" points=\"1759.03,356.513 1759.03,47.2441 \"/>\n",
       "<polyline clip-path=\"url(#clip622)\" style=\"stroke:#000000; stroke-linecap:round; stroke-linejoin:round; stroke-width:8; stroke-opacity:0.1; fill:none\" points=\"2140.6,356.513 2140.6,47.2441 \"/>\n",
       "<polyline clip-path=\"url(#clip620)\" style=\"stroke:#000000; stroke-linecap:round; stroke-linejoin:round; stroke-width:4; stroke-opacity:1; fill:none\" points=\"249.542,356.513 2352.76,356.513 \"/>\n",
       "<polyline clip-path=\"url(#clip620)\" style=\"stroke:#000000; stroke-linecap:round; stroke-linejoin:round; stroke-width:4; stroke-opacity:1; fill:none\" points=\"614.323,356.513 614.323,337.616 \"/>\n",
       "<polyline clip-path=\"url(#clip620)\" style=\"stroke:#000000; stroke-linecap:round; stroke-linejoin:round; stroke-width:4; stroke-opacity:1; fill:none\" points=\"995.893,356.513 995.893,337.616 \"/>\n",
       "<polyline clip-path=\"url(#clip620)\" style=\"stroke:#000000; stroke-linecap:round; stroke-linejoin:round; stroke-width:4; stroke-opacity:1; fill:none\" points=\"1377.46,356.513 1377.46,337.616 \"/>\n",
       "<polyline clip-path=\"url(#clip620)\" style=\"stroke:#000000; stroke-linecap:round; stroke-linejoin:round; stroke-width:4; stroke-opacity:1; fill:none\" points=\"1759.03,356.513 1759.03,337.616 \"/>\n",
       "<polyline clip-path=\"url(#clip620)\" style=\"stroke:#000000; stroke-linecap:round; stroke-linejoin:round; stroke-width:4; stroke-opacity:1; fill:none\" points=\"2140.6,356.513 2140.6,337.616 \"/>\n",
       "<path clip-path=\"url(#clip620)\" d=\"M604.601 384.353 L622.957 384.353 L622.957 388.288 L608.883 388.288 L608.883 396.761 Q609.902 396.413 610.92 396.251 Q611.939 396.066 612.957 396.066 Q618.744 396.066 622.124 399.237 Q625.503 402.409 625.503 407.825 Q625.503 413.404 622.031 416.506 Q618.559 419.584 612.24 419.584 Q610.064 419.584 607.795 419.214 Q605.55 418.844 603.142 418.103 L603.142 413.404 Q605.226 414.538 607.448 415.094 Q609.67 415.649 612.147 415.649 Q616.152 415.649 618.49 413.543 Q620.828 411.436 620.828 407.825 Q620.828 404.214 618.49 402.108 Q616.152 400.001 612.147 400.001 Q610.272 400.001 608.397 400.418 Q606.545 400.835 604.601 401.714 L604.601 384.353 Z\" fill=\"#000000\" fill-rule=\"evenodd\" fill-opacity=\"1\" /><path clip-path=\"url(#clip620)\" d=\"M970.581 414.978 L978.219 414.978 L978.219 388.612 L969.909 390.279 L969.909 386.02 L978.173 384.353 L982.849 384.353 L982.849 414.978 L990.488 414.978 L990.488 418.913 L970.581 418.913 L970.581 414.978 Z\" fill=\"#000000\" fill-rule=\"evenodd\" fill-opacity=\"1\" /><path clip-path=\"url(#clip620)\" d=\"M1009.93 387.432 Q1006.32 387.432 1004.49 390.997 Q1002.69 394.538 1002.69 401.668 Q1002.69 408.774 1004.49 412.339 Q1006.32 415.881 1009.93 415.881 Q1013.57 415.881 1015.37 412.339 Q1017.2 408.774 1017.2 401.668 Q1017.2 394.538 1015.37 390.997 Q1013.57 387.432 1009.93 387.432 M1009.93 383.728 Q1015.74 383.728 1018.8 388.335 Q1021.88 392.918 1021.88 401.668 Q1021.88 410.395 1018.8 415.001 Q1015.74 419.584 1009.93 419.584 Q1004.12 419.584 1001.04 415.001 Q997.988 410.395 997.988 401.668 Q997.988 392.918 1001.04 388.335 Q1004.12 383.728 1009.93 383.728 Z\" fill=\"#000000\" fill-rule=\"evenodd\" fill-opacity=\"1\" /><path clip-path=\"url(#clip620)\" d=\"M1352.65 414.978 L1360.29 414.978 L1360.29 388.612 L1351.98 390.279 L1351.98 386.02 L1360.24 384.353 L1364.92 384.353 L1364.92 414.978 L1372.56 414.978 L1372.56 418.913 L1352.65 418.913 L1352.65 414.978 Z\" fill=\"#000000\" fill-rule=\"evenodd\" fill-opacity=\"1\" /><path clip-path=\"url(#clip620)\" d=\"M1382.05 384.353 L1400.4 384.353 L1400.4 388.288 L1386.33 388.288 L1386.33 396.761 Q1387.35 396.413 1388.37 396.251 Q1389.38 396.066 1390.4 396.066 Q1396.19 396.066 1399.57 399.237 Q1402.95 402.409 1402.95 407.825 Q1402.95 413.404 1399.48 416.506 Q1396 419.584 1389.69 419.584 Q1387.51 419.584 1385.24 419.214 Q1383 418.844 1380.59 418.103 L1380.59 413.404 Q1382.67 414.538 1384.89 415.094 Q1387.12 415.649 1389.59 415.649 Q1393.6 415.649 1395.94 413.543 Q1398.27 411.436 1398.27 407.825 Q1398.27 404.214 1395.94 402.108 Q1393.6 400.001 1389.59 400.001 Q1387.72 400.001 1385.84 400.418 Q1383.99 400.835 1382.05 401.714 L1382.05 384.353 Z\" fill=\"#000000\" fill-rule=\"evenodd\" fill-opacity=\"1\" /><path clip-path=\"url(#clip620)\" d=\"M1737.81 414.978 L1754.13 414.978 L1754.13 418.913 L1732.18 418.913 L1732.18 414.978 Q1734.84 412.223 1739.43 407.594 Q1744.03 402.941 1745.21 401.598 Q1747.46 399.075 1748.34 397.339 Q1749.24 395.58 1749.24 393.89 Q1749.24 391.136 1747.3 389.399 Q1745.38 387.663 1742.27 387.663 Q1740.07 387.663 1737.62 388.427 Q1735.19 389.191 1732.41 390.742 L1732.41 386.02 Q1735.24 384.886 1737.69 384.307 Q1740.14 383.728 1742.18 383.728 Q1747.55 383.728 1750.75 386.413 Q1753.94 389.099 1753.94 393.589 Q1753.94 395.719 1753.13 397.64 Q1752.34 399.538 1750.24 402.131 Q1749.66 402.802 1746.56 406.02 Q1743.45 409.214 1737.81 414.978 Z\" fill=\"#000000\" fill-rule=\"evenodd\" fill-opacity=\"1\" /><path clip-path=\"url(#clip620)\" d=\"M1773.94 387.432 Q1770.33 387.432 1768.5 390.997 Q1766.69 394.538 1766.69 401.668 Q1766.69 408.774 1768.5 412.339 Q1770.33 415.881 1773.94 415.881 Q1777.57 415.881 1779.38 412.339 Q1781.21 408.774 1781.21 401.668 Q1781.21 394.538 1779.38 390.997 Q1777.57 387.432 1773.94 387.432 M1773.94 383.728 Q1779.75 383.728 1782.81 388.335 Q1785.88 392.918 1785.88 401.668 Q1785.88 410.395 1782.81 415.001 Q1779.75 419.584 1773.94 419.584 Q1768.13 419.584 1765.05 415.001 Q1762 410.395 1762 401.668 Q1762 392.918 1765.05 388.335 Q1768.13 383.728 1773.94 383.728 Z\" fill=\"#000000\" fill-rule=\"evenodd\" fill-opacity=\"1\" /><path clip-path=\"url(#clip620)\" d=\"M2119.87 414.978 L2136.19 414.978 L2136.19 418.913 L2114.25 418.913 L2114.25 414.978 Q2116.91 412.223 2121.49 407.594 Q2126.1 402.941 2127.28 401.598 Q2129.53 399.075 2130.41 397.339 Q2131.31 395.58 2131.31 393.89 Q2131.31 391.136 2129.36 389.399 Q2127.44 387.663 2124.34 387.663 Q2122.14 387.663 2119.69 388.427 Q2117.26 389.191 2114.48 390.742 L2114.48 386.02 Q2117.3 384.886 2119.76 384.307 Q2122.21 383.728 2124.25 383.728 Q2129.62 383.728 2132.81 386.413 Q2136.01 389.099 2136.01 393.589 Q2136.01 395.719 2135.2 397.64 Q2134.41 399.538 2132.3 402.131 Q2131.73 402.802 2128.62 406.02 Q2125.52 409.214 2119.87 414.978 Z\" fill=\"#000000\" fill-rule=\"evenodd\" fill-opacity=\"1\" /><path clip-path=\"url(#clip620)\" d=\"M2146.05 384.353 L2164.41 384.353 L2164.41 388.288 L2150.34 388.288 L2150.34 396.761 Q2151.36 396.413 2152.37 396.251 Q2153.39 396.066 2154.41 396.066 Q2160.2 396.066 2163.58 399.237 Q2166.96 402.409 2166.96 407.825 Q2166.96 413.404 2163.48 416.506 Q2160.01 419.584 2153.69 419.584 Q2151.52 419.584 2149.25 419.214 Q2147 418.844 2144.6 418.103 L2144.6 413.404 Q2146.68 414.538 2148.9 415.094 Q2151.12 415.649 2153.6 415.649 Q2157.61 415.649 2159.94 413.543 Q2162.28 411.436 2162.28 407.825 Q2162.28 404.214 2159.94 402.108 Q2157.61 400.001 2153.6 400.001 Q2151.73 400.001 2149.85 400.418 Q2148 400.835 2146.05 401.714 L2146.05 384.353 Z\" fill=\"#000000\" fill-rule=\"evenodd\" fill-opacity=\"1\" /><path clip-path=\"url(#clip620)\" d=\"M1195.29 455.608 L1195.29 465.729 L1207.35 465.729 L1207.35 470.281 L1195.29 470.281 L1195.29 489.632 Q1195.29 493.993 1196.46 495.234 Q1197.67 496.476 1201.33 496.476 L1207.35 496.476 L1207.35 501.377 L1201.33 501.377 Q1194.56 501.377 1191.98 498.863 Q1189.4 496.316 1189.4 489.632 L1189.4 470.281 L1185.1 470.281 L1185.1 465.729 L1189.4 465.729 L1189.4 455.608 L1195.29 455.608 Z\" fill=\"#000000\" fill-rule=\"evenodd\" fill-opacity=\"1\" /><path clip-path=\"url(#clip620)\" d=\"M1215.05 465.729 L1220.91 465.729 L1220.91 501.377 L1215.05 501.377 L1215.05 465.729 M1215.05 451.852 L1220.91 451.852 L1220.91 459.268 L1215.05 459.268 L1215.05 451.852 Z\" fill=\"#000000\" fill-rule=\"evenodd\" fill-opacity=\"1\" /><path clip-path=\"url(#clip620)\" d=\"M1260.92 472.572 Q1263.11 468.626 1266.17 466.748 Q1269.22 464.87 1273.36 464.87 Q1278.93 464.87 1281.96 468.785 Q1284.98 472.668 1284.98 479.861 L1284.98 501.377 L1279.09 501.377 L1279.09 480.052 Q1279.09 474.928 1277.28 472.445 Q1275.46 469.962 1271.74 469.962 Q1267.19 469.962 1264.55 472.986 Q1261.9 476.01 1261.9 481.23 L1261.9 501.377 L1256.02 501.377 L1256.02 480.052 Q1256.02 474.896 1254.2 472.445 Q1252.39 469.962 1248.6 469.962 Q1244.11 469.962 1241.47 473.018 Q1238.83 476.042 1238.83 481.23 L1238.83 501.377 L1232.94 501.377 L1232.94 465.729 L1238.83 465.729 L1238.83 471.267 Q1240.83 467.989 1243.63 466.429 Q1246.44 464.87 1250.29 464.87 Q1254.17 464.87 1256.88 466.843 Q1259.61 468.817 1260.92 472.572 Z\" fill=\"#000000\" fill-rule=\"evenodd\" fill-opacity=\"1\" /><path clip-path=\"url(#clip620)\" d=\"M1327.15 482.089 L1327.15 484.954 L1300.23 484.954 Q1300.61 491.001 1303.85 494.184 Q1307.13 497.335 1312.96 497.335 Q1316.33 497.335 1319.48 496.507 Q1322.67 495.68 1325.78 494.025 L1325.78 499.563 Q1322.63 500.9 1319.32 501.6 Q1316.01 502.3 1312.61 502.3 Q1304.08 502.3 1299.08 497.335 Q1294.11 492.37 1294.11 483.903 Q1294.11 475.15 1298.83 470.026 Q1303.57 464.87 1311.59 464.87 Q1318.78 464.87 1322.95 469.517 Q1327.15 474.132 1327.15 482.089 M1321.3 480.37 Q1321.23 475.564 1318.59 472.7 Q1315.98 469.835 1311.65 469.835 Q1306.75 469.835 1303.79 472.604 Q1300.86 475.373 1300.42 480.402 L1321.3 480.37 Z\" fill=\"#000000\" fill-rule=\"evenodd\" fill-opacity=\"1\" /><path clip-path=\"url(#clip620)\" d=\"M1336.22 451.852 L1349.72 451.852 L1349.72 456.403 L1342.08 456.403 L1342.08 505.419 L1349.72 505.419 L1349.72 509.971 L1336.22 509.971 L1336.22 451.852 Z\" fill=\"#000000\" fill-rule=\"evenodd\" fill-opacity=\"1\" /><path clip-path=\"url(#clip620)\" d=\"M1391.83 479.861 L1391.83 501.377 L1385.97 501.377 L1385.97 480.052 Q1385.97 474.991 1384 472.477 Q1382.03 469.962 1378.08 469.962 Q1373.34 469.962 1370.6 472.986 Q1367.86 476.01 1367.86 481.23 L1367.86 501.377 L1361.97 501.377 L1361.97 451.852 L1367.86 451.852 L1367.86 471.267 Q1369.96 468.053 1372.79 466.461 Q1375.66 464.87 1379.38 464.87 Q1385.53 464.87 1388.68 468.689 Q1391.83 472.477 1391.83 479.861 Z\" fill=\"#000000\" fill-rule=\"evenodd\" fill-opacity=\"1\" /><path clip-path=\"url(#clip620)\" d=\"M1417.2 451.852 L1417.2 509.971 L1403.7 509.971 L1403.7 505.419 L1411.31 505.419 L1411.31 456.403 L1403.7 456.403 L1403.7 451.852 L1417.2 451.852 Z\" fill=\"#000000\" fill-rule=\"evenodd\" fill-opacity=\"1\" /><polyline clip-path=\"url(#clip622)\" style=\"stroke:#000000; stroke-linecap:round; stroke-linejoin:round; stroke-width:8; stroke-opacity:0.1; fill:none\" points=\"249.542,347.76 2352.76,347.76 \"/>\n",
       "<polyline clip-path=\"url(#clip622)\" style=\"stroke:#000000; stroke-linecap:round; stroke-linejoin:round; stroke-width:8; stroke-opacity:0.1; fill:none\" points=\"249.542,286.976 2352.76,286.976 \"/>\n",
       "<polyline clip-path=\"url(#clip622)\" style=\"stroke:#000000; stroke-linecap:round; stroke-linejoin:round; stroke-width:8; stroke-opacity:0.1; fill:none\" points=\"249.542,226.192 2352.76,226.192 \"/>\n",
       "<polyline clip-path=\"url(#clip622)\" style=\"stroke:#000000; stroke-linecap:round; stroke-linejoin:round; stroke-width:8; stroke-opacity:0.1; fill:none\" points=\"249.542,165.408 2352.76,165.408 \"/>\n",
       "<polyline clip-path=\"url(#clip622)\" style=\"stroke:#000000; stroke-linecap:round; stroke-linejoin:round; stroke-width:8; stroke-opacity:0.1; fill:none\" points=\"249.542,104.624 2352.76,104.624 \"/>\n",
       "<polyline clip-path=\"url(#clip620)\" style=\"stroke:#000000; stroke-linecap:round; stroke-linejoin:round; stroke-width:4; stroke-opacity:1; fill:none\" points=\"249.542,356.513 249.542,47.2441 \"/>\n",
       "<polyline clip-path=\"url(#clip620)\" style=\"stroke:#000000; stroke-linecap:round; stroke-linejoin:round; stroke-width:4; stroke-opacity:1; fill:none\" points=\"249.542,347.76 268.44,347.76 \"/>\n",
       "<polyline clip-path=\"url(#clip620)\" style=\"stroke:#000000; stroke-linecap:round; stroke-linejoin:round; stroke-width:4; stroke-opacity:1; fill:none\" points=\"249.542,286.976 268.44,286.976 \"/>\n",
       "<polyline clip-path=\"url(#clip620)\" style=\"stroke:#000000; stroke-linecap:round; stroke-linejoin:round; stroke-width:4; stroke-opacity:1; fill:none\" points=\"249.542,226.192 268.44,226.192 \"/>\n",
       "<polyline clip-path=\"url(#clip620)\" style=\"stroke:#000000; stroke-linecap:round; stroke-linejoin:round; stroke-width:4; stroke-opacity:1; fill:none\" points=\"249.542,165.408 268.44,165.408 \"/>\n",
       "<polyline clip-path=\"url(#clip620)\" style=\"stroke:#000000; stroke-linecap:round; stroke-linejoin:round; stroke-width:4; stroke-opacity:1; fill:none\" points=\"249.542,104.624 268.44,104.624 \"/>\n",
       "<path clip-path=\"url(#clip620)\" d=\"M126.205 333.559 Q122.593 333.559 120.765 337.124 Q118.959 340.665 118.959 347.795 Q118.959 354.901 120.765 358.466 Q122.593 362.008 126.205 362.008 Q129.839 362.008 131.644 358.466 Q133.473 354.901 133.473 347.795 Q133.473 340.665 131.644 337.124 Q129.839 333.559 126.205 333.559 M126.205 329.855 Q132.015 329.855 135.07 334.462 Q138.149 339.045 138.149 347.795 Q138.149 356.522 135.07 361.128 Q132.015 365.712 126.205 365.712 Q120.394 365.712 117.316 361.128 Q114.26 356.522 114.26 347.795 Q114.26 339.045 117.316 334.462 Q120.394 329.855 126.205 329.855 Z\" fill=\"#000000\" fill-rule=\"evenodd\" fill-opacity=\"1\" /><path clip-path=\"url(#clip620)\" d=\"M146.366 359.161 L151.251 359.161 L151.251 365.04 L146.366 365.04 L146.366 359.161 Z\" fill=\"#000000\" fill-rule=\"evenodd\" fill-opacity=\"1\" /><path clip-path=\"url(#clip620)\" d=\"M171.436 333.559 Q167.825 333.559 165.996 337.124 Q164.19 340.665 164.19 347.795 Q164.19 354.901 165.996 358.466 Q167.825 362.008 171.436 362.008 Q175.07 362.008 176.876 358.466 Q178.704 354.901 178.704 347.795 Q178.704 340.665 176.876 337.124 Q175.07 333.559 171.436 333.559 M171.436 329.855 Q177.246 329.855 180.301 334.462 Q183.38 339.045 183.38 347.795 Q183.38 356.522 180.301 361.128 Q177.246 365.712 171.436 365.712 Q165.626 365.712 162.547 361.128 Q159.491 356.522 159.491 347.795 Q159.491 339.045 162.547 334.462 Q165.626 329.855 171.436 329.855 Z\" fill=\"#000000\" fill-rule=\"evenodd\" fill-opacity=\"1\" /><path clip-path=\"url(#clip620)\" d=\"M201.598 333.559 Q197.987 333.559 196.158 337.124 Q194.352 340.665 194.352 347.795 Q194.352 354.901 196.158 358.466 Q197.987 362.008 201.598 362.008 Q205.232 362.008 207.037 358.466 Q208.866 354.901 208.866 347.795 Q208.866 340.665 207.037 337.124 Q205.232 333.559 201.598 333.559 M201.598 329.855 Q207.408 329.855 210.463 334.462 Q213.542 339.045 213.542 347.795 Q213.542 356.522 210.463 361.128 Q207.408 365.712 201.598 365.712 Q195.787 365.712 192.709 361.128 Q189.653 356.522 189.653 347.795 Q189.653 339.045 192.709 334.462 Q195.787 329.855 201.598 329.855 Z\" fill=\"#000000\" fill-rule=\"evenodd\" fill-opacity=\"1\" /><path clip-path=\"url(#clip620)\" d=\"M127.2 272.775 Q123.589 272.775 121.76 276.34 Q119.955 279.881 119.955 287.011 Q119.955 294.117 121.76 297.682 Q123.589 301.224 127.2 301.224 Q130.834 301.224 132.64 297.682 Q134.468 294.117 134.468 287.011 Q134.468 279.881 132.64 276.34 Q130.834 272.775 127.2 272.775 M127.2 269.071 Q133.01 269.071 136.066 273.678 Q139.144 278.261 139.144 287.011 Q139.144 295.738 136.066 300.344 Q133.01 304.928 127.2 304.928 Q121.39 304.928 118.311 300.344 Q115.256 295.738 115.256 287.011 Q115.256 278.261 118.311 273.678 Q121.39 269.071 127.2 269.071 Z\" fill=\"#000000\" fill-rule=\"evenodd\" fill-opacity=\"1\" /><path clip-path=\"url(#clip620)\" d=\"M147.362 298.377 L152.246 298.377 L152.246 304.256 L147.362 304.256 L147.362 298.377 Z\" fill=\"#000000\" fill-rule=\"evenodd\" fill-opacity=\"1\" /><path clip-path=\"url(#clip620)\" d=\"M166.459 300.321 L182.778 300.321 L182.778 304.256 L160.834 304.256 L160.834 300.321 Q163.496 297.566 168.079 292.937 Q172.686 288.284 173.866 286.942 Q176.112 284.418 176.991 282.682 Q177.894 280.923 177.894 279.233 Q177.894 276.479 175.95 274.743 Q174.028 273.006 170.927 273.006 Q168.727 273.006 166.274 273.77 Q163.843 274.534 161.065 276.085 L161.065 271.363 Q163.89 270.229 166.343 269.65 Q168.797 269.071 170.834 269.071 Q176.204 269.071 179.399 271.756 Q182.593 274.442 182.593 278.932 Q182.593 281.062 181.783 282.983 Q180.996 284.881 178.889 287.474 Q178.311 288.145 175.209 291.363 Q172.107 294.557 166.459 300.321 Z\" fill=\"#000000\" fill-rule=\"evenodd\" fill-opacity=\"1\" /><path clip-path=\"url(#clip620)\" d=\"M192.639 269.696 L210.996 269.696 L210.996 273.631 L196.922 273.631 L196.922 282.104 Q197.94 281.756 198.959 281.594 Q199.977 281.409 200.996 281.409 Q206.783 281.409 210.162 284.58 Q213.542 287.752 213.542 293.168 Q213.542 298.747 210.07 301.849 Q206.598 304.928 200.278 304.928 Q198.102 304.928 195.834 304.557 Q193.588 304.187 191.181 303.446 L191.181 298.747 Q193.264 299.881 195.487 300.437 Q197.709 300.992 200.186 300.992 Q204.19 300.992 206.528 298.886 Q208.866 296.779 208.866 293.168 Q208.866 289.557 206.528 287.451 Q204.19 285.344 200.186 285.344 Q198.311 285.344 196.436 285.761 Q194.584 286.178 192.639 287.057 L192.639 269.696 Z\" fill=\"#000000\" fill-rule=\"evenodd\" fill-opacity=\"1\" /><path clip-path=\"url(#clip620)\" d=\"M126.205 211.991 Q122.593 211.991 120.765 215.556 Q118.959 219.097 118.959 226.227 Q118.959 233.333 120.765 236.898 Q122.593 240.44 126.205 240.44 Q129.839 240.44 131.644 236.898 Q133.473 233.333 133.473 226.227 Q133.473 219.097 131.644 215.556 Q129.839 211.991 126.205 211.991 M126.205 208.287 Q132.015 208.287 135.07 212.894 Q138.149 217.477 138.149 226.227 Q138.149 234.954 135.07 239.56 Q132.015 244.144 126.205 244.144 Q120.394 244.144 117.316 239.56 Q114.26 234.954 114.26 226.227 Q114.26 217.477 117.316 212.894 Q120.394 208.287 126.205 208.287 Z\" fill=\"#000000\" fill-rule=\"evenodd\" fill-opacity=\"1\" /><path clip-path=\"url(#clip620)\" d=\"M146.366 237.593 L151.251 237.593 L151.251 243.472 L146.366 243.472 L146.366 237.593 Z\" fill=\"#000000\" fill-rule=\"evenodd\" fill-opacity=\"1\" /><path clip-path=\"url(#clip620)\" d=\"M161.482 208.912 L179.839 208.912 L179.839 212.847 L165.765 212.847 L165.765 221.32 Q166.783 220.972 167.802 220.81 Q168.82 220.625 169.839 220.625 Q175.626 220.625 179.005 223.796 Q182.385 226.968 182.385 232.384 Q182.385 237.963 178.913 241.065 Q175.44 244.144 169.121 244.144 Q166.945 244.144 164.677 243.773 Q162.431 243.403 160.024 242.662 L160.024 237.963 Q162.107 239.097 164.329 239.653 Q166.552 240.208 169.028 240.208 Q173.033 240.208 175.371 238.102 Q177.709 235.995 177.709 232.384 Q177.709 228.773 175.371 226.667 Q173.033 224.56 169.028 224.56 Q167.153 224.56 165.278 224.977 Q163.427 225.394 161.482 226.273 L161.482 208.912 Z\" fill=\"#000000\" fill-rule=\"evenodd\" fill-opacity=\"1\" /><path clip-path=\"url(#clip620)\" d=\"M201.598 211.991 Q197.987 211.991 196.158 215.556 Q194.352 219.097 194.352 226.227 Q194.352 233.333 196.158 236.898 Q197.987 240.44 201.598 240.44 Q205.232 240.44 207.037 236.898 Q208.866 233.333 208.866 226.227 Q208.866 219.097 207.037 215.556 Q205.232 211.991 201.598 211.991 M201.598 208.287 Q207.408 208.287 210.463 212.894 Q213.542 217.477 213.542 226.227 Q213.542 234.954 210.463 239.56 Q207.408 244.144 201.598 244.144 Q195.787 244.144 192.709 239.56 Q189.653 234.954 189.653 226.227 Q189.653 217.477 192.709 212.894 Q195.787 208.287 201.598 208.287 Z\" fill=\"#000000\" fill-rule=\"evenodd\" fill-opacity=\"1\" /><path clip-path=\"url(#clip620)\" d=\"M127.2 151.207 Q123.589 151.207 121.76 154.772 Q119.955 158.313 119.955 165.443 Q119.955 172.549 121.76 176.114 Q123.589 179.656 127.2 179.656 Q130.834 179.656 132.64 176.114 Q134.468 172.549 134.468 165.443 Q134.468 158.313 132.64 154.772 Q130.834 151.207 127.2 151.207 M127.2 147.503 Q133.01 147.503 136.066 152.11 Q139.144 156.693 139.144 165.443 Q139.144 174.17 136.066 178.776 Q133.01 183.36 127.2 183.36 Q121.39 183.36 118.311 178.776 Q115.256 174.17 115.256 165.443 Q115.256 156.693 118.311 152.11 Q121.39 147.503 127.2 147.503 Z\" fill=\"#000000\" fill-rule=\"evenodd\" fill-opacity=\"1\" /><path clip-path=\"url(#clip620)\" d=\"M147.362 176.809 L152.246 176.809 L152.246 182.688 L147.362 182.688 L147.362 176.809 Z\" fill=\"#000000\" fill-rule=\"evenodd\" fill-opacity=\"1\" /><path clip-path=\"url(#clip620)\" d=\"M161.251 148.128 L183.473 148.128 L183.473 150.119 L170.927 182.688 L166.042 182.688 L177.848 152.063 L161.251 152.063 L161.251 148.128 Z\" fill=\"#000000\" fill-rule=\"evenodd\" fill-opacity=\"1\" /><path clip-path=\"url(#clip620)\" d=\"M192.639 148.128 L210.996 148.128 L210.996 152.063 L196.922 152.063 L196.922 160.536 Q197.94 160.188 198.959 160.026 Q199.977 159.841 200.996 159.841 Q206.783 159.841 210.162 163.012 Q213.542 166.184 213.542 171.6 Q213.542 177.179 210.07 180.281 Q206.598 183.36 200.278 183.36 Q198.102 183.36 195.834 182.989 Q193.588 182.619 191.181 181.878 L191.181 177.179 Q193.264 178.313 195.487 178.869 Q197.709 179.424 200.186 179.424 Q204.19 179.424 206.528 177.318 Q208.866 175.211 208.866 171.6 Q208.866 167.989 206.528 165.883 Q204.19 163.776 200.186 163.776 Q198.311 163.776 196.436 164.193 Q194.584 164.61 192.639 165.489 L192.639 148.128 Z\" fill=\"#000000\" fill-rule=\"evenodd\" fill-opacity=\"1\" /><path clip-path=\"url(#clip620)\" d=\"M117.015 117.969 L124.654 117.969 L124.654 91.6034 L116.343 93.2701 L116.343 89.0109 L124.607 87.3442 L129.283 87.3442 L129.283 117.969 L136.922 117.969 L136.922 121.904 L117.015 121.904 L117.015 117.969 Z\" fill=\"#000000\" fill-rule=\"evenodd\" fill-opacity=\"1\" /><path clip-path=\"url(#clip620)\" d=\"M146.366 116.025 L151.251 116.025 L151.251 121.904 L146.366 121.904 L146.366 116.025 Z\" fill=\"#000000\" fill-rule=\"evenodd\" fill-opacity=\"1\" /><path clip-path=\"url(#clip620)\" d=\"M171.436 90.4229 Q167.825 90.4229 165.996 93.9877 Q164.19 97.5293 164.19 104.659 Q164.19 111.765 165.996 115.33 Q167.825 118.872 171.436 118.872 Q175.07 118.872 176.876 115.33 Q178.704 111.765 178.704 104.659 Q178.704 97.5293 176.876 93.9877 Q175.07 90.4229 171.436 90.4229 M171.436 86.7192 Q177.246 86.7192 180.301 91.3257 Q183.38 95.909 183.38 104.659 Q183.38 113.386 180.301 117.992 Q177.246 122.575 171.436 122.575 Q165.626 122.575 162.547 117.992 Q159.491 113.386 159.491 104.659 Q159.491 95.909 162.547 91.3257 Q165.626 86.7192 171.436 86.7192 Z\" fill=\"#000000\" fill-rule=\"evenodd\" fill-opacity=\"1\" /><path clip-path=\"url(#clip620)\" d=\"M201.598 90.4229 Q197.987 90.4229 196.158 93.9877 Q194.352 97.5293 194.352 104.659 Q194.352 111.765 196.158 115.33 Q197.987 118.872 201.598 118.872 Q205.232 118.872 207.037 115.33 Q208.866 111.765 208.866 104.659 Q208.866 97.5293 207.037 93.9877 Q205.232 90.4229 201.598 90.4229 M201.598 86.7192 Q207.408 86.7192 210.463 91.3257 Q213.542 95.909 213.542 104.659 Q213.542 113.386 210.463 117.992 Q207.408 122.575 201.598 122.575 Q195.787 122.575 192.709 117.992 Q189.653 113.386 189.653 104.659 Q189.653 95.909 192.709 91.3257 Q195.787 86.7192 201.598 86.7192 Z\" fill=\"#000000\" fill-rule=\"evenodd\" fill-opacity=\"1\" /><path clip-path=\"url(#clip620)\" d=\"M67.3143 256.56 Q73.68 259.043 75.6216 261.398 Q77.5631 263.753 77.5631 267.7 L77.5631 272.379 L72.6615 272.379 L72.6615 268.941 Q72.6615 266.522 71.5157 265.186 Q70.3699 263.849 66.1048 262.226 L63.4312 261.175 L28.3562 275.594 L28.3562 269.387 L56.238 258.247 L28.3562 247.107 L28.3562 240.9 L67.3143 256.56 Z\" fill=\"#000000\" fill-rule=\"evenodd\" fill-opacity=\"1\" /><path clip-path=\"url(#clip620)\" d=\"M29.4065 210.09 L34.9447 210.09 Q33.6716 212.573 33.035 215.247 Q32.3984 217.92 32.3984 220.785 Q32.3984 225.145 33.7352 227.341 Q35.072 229.506 37.7456 229.506 Q39.7826 229.506 40.9603 227.946 Q42.1061 226.387 43.1565 221.676 L43.6021 219.671 Q44.9389 213.432 47.3897 210.822 Q49.8086 208.181 54.1691 208.181 Q59.1344 208.181 62.0308 212.127 Q64.9272 216.042 64.9272 222.917 Q64.9272 225.782 64.3543 228.901 Q63.8132 231.988 62.6992 235.426 L56.6518 235.426 Q58.3387 232.179 59.198 229.028 Q60.0256 225.877 60.0256 222.79 Q60.0256 218.652 58.6251 216.424 Q57.1929 214.196 54.6147 214.196 Q52.2276 214.196 50.9545 215.82 Q49.6813 217.411 48.5037 222.854 L48.0262 224.891 Q46.8804 230.333 44.5251 232.752 Q42.138 235.171 38.0002 235.171 Q32.9713 235.171 30.2341 231.606 Q27.4968 228.042 27.4968 221.485 Q27.4968 218.239 27.9743 215.374 Q28.4517 212.509 29.4065 210.09 Z\" fill=\"#000000\" fill-rule=\"evenodd\" fill-opacity=\"1\" /><path clip-path=\"url(#clip620)\" d=\"M58.657 193.189 L77.5631 193.189 L77.5631 199.078 L28.3562 199.078 L28.3562 193.189 L33.7671 193.189 Q30.5842 191.343 29.0564 188.542 Q27.4968 185.71 27.4968 181.795 Q27.4968 175.302 32.6531 171.26 Q37.8093 167.186 46.212 167.186 Q54.6147 167.186 59.771 171.26 Q64.9272 175.302 64.9272 181.795 Q64.9272 185.71 63.3994 188.542 Q61.8398 191.343 58.657 193.189 M46.212 173.265 Q39.7508 173.265 36.0905 175.938 Q32.3984 178.58 32.3984 183.227 Q32.3984 187.874 36.0905 190.548 Q39.7508 193.189 46.212 193.189 Q52.6732 193.189 56.3653 190.548 Q60.0256 187.874 60.0256 183.227 Q60.0256 178.58 56.3653 175.938 Q52.6732 173.265 46.212 173.265 Z\" fill=\"#000000\" fill-rule=\"evenodd\" fill-opacity=\"1\" /><path clip-path=\"url(#clip620)\" d=\"M58.5933 155.536 L58.5933 145.033 L22.3406 145.033 L24.6323 156.459 L18.7758 156.459 L16.4842 145.097 L16.4842 138.667 L58.5933 138.667 L58.5933 128.164 L64.0042 128.164 L64.0042 155.536 L58.5933 155.536 Z\" fill=\"#000000\" fill-rule=\"evenodd\" fill-opacity=\"1\" /><polyline clip-path=\"url(#clip622)\" style=\"stroke:#000000; stroke-linecap:round; stroke-linejoin:round; stroke-width:4; stroke-opacity:1; fill:none\" stroke-dasharray=\"2, 4\" points=\"309.067,55.997 385.381,55.997 461.695,55.997 538.009,55.997 614.323,55.997 690.637,55.997 766.951,55.997 843.265,55.997 919.579,55.997 995.893,55.997 1072.21,55.997 1148.52,55.997 1224.83,55.997 1301.15,55.997 1377.46,55.997 1453.78,55.997 1530.09,55.997 1606.4,55.997 1682.72,55.997 1759.03,55.997 1835.35,55.997 1911.66,55.997 1987.97,55.997 2064.29,55.997 2140.6,55.997 2216.92,55.997 2293.23,55.997 \"/>\n",
       "<line clip-path=\"url(#clip622)\" x1=\"309.067\" y1=\"55.997\" x2=\"309.067\" y2=\"39.997\" style=\"stroke:#009af9; stroke-width:3.2; stroke-opacity:1\"/>\n",
       "<line clip-path=\"url(#clip622)\" x1=\"309.067\" y1=\"55.997\" x2=\"293.067\" y2=\"55.997\" style=\"stroke:#009af9; stroke-width:3.2; stroke-opacity:1\"/>\n",
       "<line clip-path=\"url(#clip622)\" x1=\"309.067\" y1=\"55.997\" x2=\"309.067\" y2=\"71.997\" style=\"stroke:#009af9; stroke-width:3.2; stroke-opacity:1\"/>\n",
       "<line clip-path=\"url(#clip622)\" x1=\"309.067\" y1=\"55.997\" x2=\"325.067\" y2=\"55.997\" style=\"stroke:#009af9; stroke-width:3.2; stroke-opacity:1\"/>\n",
       "<line clip-path=\"url(#clip622)\" x1=\"385.381\" y1=\"55.997\" x2=\"385.381\" y2=\"39.997\" style=\"stroke:#009af9; stroke-width:3.2; stroke-opacity:1\"/>\n",
       "<line clip-path=\"url(#clip622)\" x1=\"385.381\" y1=\"55.997\" x2=\"369.381\" y2=\"55.997\" style=\"stroke:#009af9; stroke-width:3.2; stroke-opacity:1\"/>\n",
       "<line clip-path=\"url(#clip622)\" x1=\"385.381\" y1=\"55.997\" x2=\"385.381\" y2=\"71.997\" style=\"stroke:#009af9; stroke-width:3.2; stroke-opacity:1\"/>\n",
       "<line clip-path=\"url(#clip622)\" x1=\"385.381\" y1=\"55.997\" x2=\"401.381\" y2=\"55.997\" style=\"stroke:#009af9; stroke-width:3.2; stroke-opacity:1\"/>\n",
       "<line clip-path=\"url(#clip622)\" x1=\"461.695\" y1=\"55.997\" x2=\"461.695\" y2=\"39.997\" style=\"stroke:#009af9; stroke-width:3.2; stroke-opacity:1\"/>\n",
       "<line clip-path=\"url(#clip622)\" x1=\"461.695\" y1=\"55.997\" x2=\"445.695\" y2=\"55.997\" style=\"stroke:#009af9; stroke-width:3.2; stroke-opacity:1\"/>\n",
       "<line clip-path=\"url(#clip622)\" x1=\"461.695\" y1=\"55.997\" x2=\"461.695\" y2=\"71.997\" style=\"stroke:#009af9; stroke-width:3.2; stroke-opacity:1\"/>\n",
       "<line clip-path=\"url(#clip622)\" x1=\"461.695\" y1=\"55.997\" x2=\"477.695\" y2=\"55.997\" style=\"stroke:#009af9; stroke-width:3.2; stroke-opacity:1\"/>\n",
       "<line clip-path=\"url(#clip622)\" x1=\"538.009\" y1=\"55.997\" x2=\"538.009\" y2=\"39.997\" style=\"stroke:#009af9; stroke-width:3.2; stroke-opacity:1\"/>\n",
       "<line clip-path=\"url(#clip622)\" x1=\"538.009\" y1=\"55.997\" x2=\"522.009\" y2=\"55.997\" style=\"stroke:#009af9; stroke-width:3.2; stroke-opacity:1\"/>\n",
       "<line clip-path=\"url(#clip622)\" x1=\"538.009\" y1=\"55.997\" x2=\"538.009\" y2=\"71.997\" style=\"stroke:#009af9; stroke-width:3.2; stroke-opacity:1\"/>\n",
       "<line clip-path=\"url(#clip622)\" x1=\"538.009\" y1=\"55.997\" x2=\"554.009\" y2=\"55.997\" style=\"stroke:#009af9; stroke-width:3.2; stroke-opacity:1\"/>\n",
       "<line clip-path=\"url(#clip622)\" x1=\"614.323\" y1=\"55.997\" x2=\"614.323\" y2=\"39.997\" style=\"stroke:#009af9; stroke-width:3.2; stroke-opacity:1\"/>\n",
       "<line clip-path=\"url(#clip622)\" x1=\"614.323\" y1=\"55.997\" x2=\"598.323\" y2=\"55.997\" style=\"stroke:#009af9; stroke-width:3.2; stroke-opacity:1\"/>\n",
       "<line clip-path=\"url(#clip622)\" x1=\"614.323\" y1=\"55.997\" x2=\"614.323\" y2=\"71.997\" style=\"stroke:#009af9; stroke-width:3.2; stroke-opacity:1\"/>\n",
       "<line clip-path=\"url(#clip622)\" x1=\"614.323\" y1=\"55.997\" x2=\"630.323\" y2=\"55.997\" style=\"stroke:#009af9; stroke-width:3.2; stroke-opacity:1\"/>\n",
       "<line clip-path=\"url(#clip622)\" x1=\"690.637\" y1=\"55.997\" x2=\"690.637\" y2=\"39.997\" style=\"stroke:#009af9; stroke-width:3.2; stroke-opacity:1\"/>\n",
       "<line clip-path=\"url(#clip622)\" x1=\"690.637\" y1=\"55.997\" x2=\"674.637\" y2=\"55.997\" style=\"stroke:#009af9; stroke-width:3.2; stroke-opacity:1\"/>\n",
       "<line clip-path=\"url(#clip622)\" x1=\"690.637\" y1=\"55.997\" x2=\"690.637\" y2=\"71.997\" style=\"stroke:#009af9; stroke-width:3.2; stroke-opacity:1\"/>\n",
       "<line clip-path=\"url(#clip622)\" x1=\"690.637\" y1=\"55.997\" x2=\"706.637\" y2=\"55.997\" style=\"stroke:#009af9; stroke-width:3.2; stroke-opacity:1\"/>\n",
       "<line clip-path=\"url(#clip622)\" x1=\"766.951\" y1=\"55.997\" x2=\"766.951\" y2=\"39.997\" style=\"stroke:#009af9; stroke-width:3.2; stroke-opacity:1\"/>\n",
       "<line clip-path=\"url(#clip622)\" x1=\"766.951\" y1=\"55.997\" x2=\"750.951\" y2=\"55.997\" style=\"stroke:#009af9; stroke-width:3.2; stroke-opacity:1\"/>\n",
       "<line clip-path=\"url(#clip622)\" x1=\"766.951\" y1=\"55.997\" x2=\"766.951\" y2=\"71.997\" style=\"stroke:#009af9; stroke-width:3.2; stroke-opacity:1\"/>\n",
       "<line clip-path=\"url(#clip622)\" x1=\"766.951\" y1=\"55.997\" x2=\"782.951\" y2=\"55.997\" style=\"stroke:#009af9; stroke-width:3.2; stroke-opacity:1\"/>\n",
       "<line clip-path=\"url(#clip622)\" x1=\"843.265\" y1=\"55.997\" x2=\"843.265\" y2=\"39.997\" style=\"stroke:#009af9; stroke-width:3.2; stroke-opacity:1\"/>\n",
       "<line clip-path=\"url(#clip622)\" x1=\"843.265\" y1=\"55.997\" x2=\"827.265\" y2=\"55.997\" style=\"stroke:#009af9; stroke-width:3.2; stroke-opacity:1\"/>\n",
       "<line clip-path=\"url(#clip622)\" x1=\"843.265\" y1=\"55.997\" x2=\"843.265\" y2=\"71.997\" style=\"stroke:#009af9; stroke-width:3.2; stroke-opacity:1\"/>\n",
       "<line clip-path=\"url(#clip622)\" x1=\"843.265\" y1=\"55.997\" x2=\"859.265\" y2=\"55.997\" style=\"stroke:#009af9; stroke-width:3.2; stroke-opacity:1\"/>\n",
       "<line clip-path=\"url(#clip622)\" x1=\"919.579\" y1=\"241.995\" x2=\"919.579\" y2=\"225.995\" style=\"stroke:#009af9; stroke-width:3.2; stroke-opacity:1\"/>\n",
       "<line clip-path=\"url(#clip622)\" x1=\"919.579\" y1=\"241.995\" x2=\"903.579\" y2=\"241.995\" style=\"stroke:#009af9; stroke-width:3.2; stroke-opacity:1\"/>\n",
       "<line clip-path=\"url(#clip622)\" x1=\"919.579\" y1=\"241.995\" x2=\"919.579\" y2=\"257.995\" style=\"stroke:#009af9; stroke-width:3.2; stroke-opacity:1\"/>\n",
       "<line clip-path=\"url(#clip622)\" x1=\"919.579\" y1=\"241.995\" x2=\"935.579\" y2=\"241.995\" style=\"stroke:#009af9; stroke-width:3.2; stroke-opacity:1\"/>\n",
       "<line clip-path=\"url(#clip622)\" x1=\"995.893\" y1=\"55.9971\" x2=\"995.893\" y2=\"39.9971\" style=\"stroke:#009af9; stroke-width:3.2; stroke-opacity:1\"/>\n",
       "<line clip-path=\"url(#clip622)\" x1=\"995.893\" y1=\"55.9971\" x2=\"979.893\" y2=\"55.9971\" style=\"stroke:#009af9; stroke-width:3.2; stroke-opacity:1\"/>\n",
       "<line clip-path=\"url(#clip622)\" x1=\"995.893\" y1=\"55.9971\" x2=\"995.893\" y2=\"71.9971\" style=\"stroke:#009af9; stroke-width:3.2; stroke-opacity:1\"/>\n",
       "<line clip-path=\"url(#clip622)\" x1=\"995.893\" y1=\"55.9971\" x2=\"1011.89\" y2=\"55.9971\" style=\"stroke:#009af9; stroke-width:3.2; stroke-opacity:1\"/>\n",
       "<line clip-path=\"url(#clip622)\" x1=\"1072.21\" y1=\"55.9971\" x2=\"1072.21\" y2=\"39.9971\" style=\"stroke:#009af9; stroke-width:3.2; stroke-opacity:1\"/>\n",
       "<line clip-path=\"url(#clip622)\" x1=\"1072.21\" y1=\"55.9971\" x2=\"1056.21\" y2=\"55.9971\" style=\"stroke:#009af9; stroke-width:3.2; stroke-opacity:1\"/>\n",
       "<line clip-path=\"url(#clip622)\" x1=\"1072.21\" y1=\"55.9971\" x2=\"1072.21\" y2=\"71.9971\" style=\"stroke:#009af9; stroke-width:3.2; stroke-opacity:1\"/>\n",
       "<line clip-path=\"url(#clip622)\" x1=\"1072.21\" y1=\"55.9971\" x2=\"1088.21\" y2=\"55.9971\" style=\"stroke:#009af9; stroke-width:3.2; stroke-opacity:1\"/>\n",
       "<line clip-path=\"url(#clip622)\" x1=\"1148.52\" y1=\"117.345\" x2=\"1148.52\" y2=\"101.345\" style=\"stroke:#009af9; stroke-width:3.2; stroke-opacity:1\"/>\n",
       "<line clip-path=\"url(#clip622)\" x1=\"1148.52\" y1=\"117.345\" x2=\"1132.52\" y2=\"117.345\" style=\"stroke:#009af9; stroke-width:3.2; stroke-opacity:1\"/>\n",
       "<line clip-path=\"url(#clip622)\" x1=\"1148.52\" y1=\"117.345\" x2=\"1148.52\" y2=\"133.345\" style=\"stroke:#009af9; stroke-width:3.2; stroke-opacity:1\"/>\n",
       "<line clip-path=\"url(#clip622)\" x1=\"1148.52\" y1=\"117.345\" x2=\"1164.52\" y2=\"117.345\" style=\"stroke:#009af9; stroke-width:3.2; stroke-opacity:1\"/>\n",
       "<line clip-path=\"url(#clip622)\" x1=\"1224.83\" y1=\"122.833\" x2=\"1224.83\" y2=\"106.833\" style=\"stroke:#009af9; stroke-width:3.2; stroke-opacity:1\"/>\n",
       "<line clip-path=\"url(#clip622)\" x1=\"1224.83\" y1=\"122.833\" x2=\"1208.83\" y2=\"122.833\" style=\"stroke:#009af9; stroke-width:3.2; stroke-opacity:1\"/>\n",
       "<line clip-path=\"url(#clip622)\" x1=\"1224.83\" y1=\"122.833\" x2=\"1224.83\" y2=\"138.833\" style=\"stroke:#009af9; stroke-width:3.2; stroke-opacity:1\"/>\n",
       "<line clip-path=\"url(#clip622)\" x1=\"1224.83\" y1=\"122.833\" x2=\"1240.83\" y2=\"122.833\" style=\"stroke:#009af9; stroke-width:3.2; stroke-opacity:1\"/>\n",
       "<line clip-path=\"url(#clip622)\" x1=\"1301.15\" y1=\"55.9971\" x2=\"1301.15\" y2=\"39.9971\" style=\"stroke:#009af9; stroke-width:3.2; stroke-opacity:1\"/>\n",
       "<line clip-path=\"url(#clip622)\" x1=\"1301.15\" y1=\"55.9971\" x2=\"1285.15\" y2=\"55.9971\" style=\"stroke:#009af9; stroke-width:3.2; stroke-opacity:1\"/>\n",
       "<line clip-path=\"url(#clip622)\" x1=\"1301.15\" y1=\"55.9971\" x2=\"1301.15\" y2=\"71.9971\" style=\"stroke:#009af9; stroke-width:3.2; stroke-opacity:1\"/>\n",
       "<line clip-path=\"url(#clip622)\" x1=\"1301.15\" y1=\"55.9971\" x2=\"1317.15\" y2=\"55.9971\" style=\"stroke:#009af9; stroke-width:3.2; stroke-opacity:1\"/>\n",
       "<line clip-path=\"url(#clip622)\" x1=\"1377.46\" y1=\"55.9971\" x2=\"1377.46\" y2=\"39.9971\" style=\"stroke:#009af9; stroke-width:3.2; stroke-opacity:1\"/>\n",
       "<line clip-path=\"url(#clip622)\" x1=\"1377.46\" y1=\"55.9971\" x2=\"1361.46\" y2=\"55.9971\" style=\"stroke:#009af9; stroke-width:3.2; stroke-opacity:1\"/>\n",
       "<line clip-path=\"url(#clip622)\" x1=\"1377.46\" y1=\"55.9971\" x2=\"1377.46\" y2=\"71.9971\" style=\"stroke:#009af9; stroke-width:3.2; stroke-opacity:1\"/>\n",
       "<line clip-path=\"url(#clip622)\" x1=\"1377.46\" y1=\"55.9971\" x2=\"1393.46\" y2=\"55.9971\" style=\"stroke:#009af9; stroke-width:3.2; stroke-opacity:1\"/>\n",
       "<line clip-path=\"url(#clip622)\" x1=\"1453.78\" y1=\"55.9973\" x2=\"1453.78\" y2=\"39.9973\" style=\"stroke:#009af9; stroke-width:3.2; stroke-opacity:1\"/>\n",
       "<line clip-path=\"url(#clip622)\" x1=\"1453.78\" y1=\"55.9973\" x2=\"1437.78\" y2=\"55.9973\" style=\"stroke:#009af9; stroke-width:3.2; stroke-opacity:1\"/>\n",
       "<line clip-path=\"url(#clip622)\" x1=\"1453.78\" y1=\"55.9973\" x2=\"1453.78\" y2=\"71.9973\" style=\"stroke:#009af9; stroke-width:3.2; stroke-opacity:1\"/>\n",
       "<line clip-path=\"url(#clip622)\" x1=\"1453.78\" y1=\"55.9973\" x2=\"1469.78\" y2=\"55.9973\" style=\"stroke:#009af9; stroke-width:3.2; stroke-opacity:1\"/>\n",
       "<line clip-path=\"url(#clip622)\" x1=\"1530.09\" y1=\"143.554\" x2=\"1530.09\" y2=\"127.554\" style=\"stroke:#009af9; stroke-width:3.2; stroke-opacity:1\"/>\n",
       "<line clip-path=\"url(#clip622)\" x1=\"1530.09\" y1=\"143.554\" x2=\"1514.09\" y2=\"143.554\" style=\"stroke:#009af9; stroke-width:3.2; stroke-opacity:1\"/>\n",
       "<line clip-path=\"url(#clip622)\" x1=\"1530.09\" y1=\"143.554\" x2=\"1530.09\" y2=\"159.554\" style=\"stroke:#009af9; stroke-width:3.2; stroke-opacity:1\"/>\n",
       "<line clip-path=\"url(#clip622)\" x1=\"1530.09\" y1=\"143.554\" x2=\"1546.09\" y2=\"143.554\" style=\"stroke:#009af9; stroke-width:3.2; stroke-opacity:1\"/>\n",
       "<line clip-path=\"url(#clip622)\" x1=\"1606.4\" y1=\"116.241\" x2=\"1606.4\" y2=\"100.241\" style=\"stroke:#009af9; stroke-width:3.2; stroke-opacity:1\"/>\n",
       "<line clip-path=\"url(#clip622)\" x1=\"1606.4\" y1=\"116.241\" x2=\"1590.4\" y2=\"116.241\" style=\"stroke:#009af9; stroke-width:3.2; stroke-opacity:1\"/>\n",
       "<line clip-path=\"url(#clip622)\" x1=\"1606.4\" y1=\"116.241\" x2=\"1606.4\" y2=\"132.241\" style=\"stroke:#009af9; stroke-width:3.2; stroke-opacity:1\"/>\n",
       "<line clip-path=\"url(#clip622)\" x1=\"1606.4\" y1=\"116.241\" x2=\"1622.4\" y2=\"116.241\" style=\"stroke:#009af9; stroke-width:3.2; stroke-opacity:1\"/>\n",
       "<line clip-path=\"url(#clip622)\" x1=\"1682.72\" y1=\"153.212\" x2=\"1682.72\" y2=\"137.212\" style=\"stroke:#009af9; stroke-width:3.2; stroke-opacity:1\"/>\n",
       "<line clip-path=\"url(#clip622)\" x1=\"1682.72\" y1=\"153.212\" x2=\"1666.72\" y2=\"153.212\" style=\"stroke:#009af9; stroke-width:3.2; stroke-opacity:1\"/>\n",
       "<line clip-path=\"url(#clip622)\" x1=\"1682.72\" y1=\"153.212\" x2=\"1682.72\" y2=\"169.212\" style=\"stroke:#009af9; stroke-width:3.2; stroke-opacity:1\"/>\n",
       "<line clip-path=\"url(#clip622)\" x1=\"1682.72\" y1=\"153.212\" x2=\"1698.72\" y2=\"153.212\" style=\"stroke:#009af9; stroke-width:3.2; stroke-opacity:1\"/>\n",
       "<line clip-path=\"url(#clip622)\" x1=\"1759.03\" y1=\"55.9972\" x2=\"1759.03\" y2=\"39.9972\" style=\"stroke:#009af9; stroke-width:3.2; stroke-opacity:1\"/>\n",
       "<line clip-path=\"url(#clip622)\" x1=\"1759.03\" y1=\"55.9972\" x2=\"1743.03\" y2=\"55.9972\" style=\"stroke:#009af9; stroke-width:3.2; stroke-opacity:1\"/>\n",
       "<line clip-path=\"url(#clip622)\" x1=\"1759.03\" y1=\"55.9972\" x2=\"1759.03\" y2=\"71.9972\" style=\"stroke:#009af9; stroke-width:3.2; stroke-opacity:1\"/>\n",
       "<line clip-path=\"url(#clip622)\" x1=\"1759.03\" y1=\"55.9972\" x2=\"1775.03\" y2=\"55.9972\" style=\"stroke:#009af9; stroke-width:3.2; stroke-opacity:1\"/>\n",
       "<line clip-path=\"url(#clip622)\" x1=\"1835.35\" y1=\"55.9971\" x2=\"1835.35\" y2=\"39.9971\" style=\"stroke:#009af9; stroke-width:3.2; stroke-opacity:1\"/>\n",
       "<line clip-path=\"url(#clip622)\" x1=\"1835.35\" y1=\"55.9971\" x2=\"1819.35\" y2=\"55.9971\" style=\"stroke:#009af9; stroke-width:3.2; stroke-opacity:1\"/>\n",
       "<line clip-path=\"url(#clip622)\" x1=\"1835.35\" y1=\"55.9971\" x2=\"1835.35\" y2=\"71.9971\" style=\"stroke:#009af9; stroke-width:3.2; stroke-opacity:1\"/>\n",
       "<line clip-path=\"url(#clip622)\" x1=\"1835.35\" y1=\"55.9971\" x2=\"1851.35\" y2=\"55.9971\" style=\"stroke:#009af9; stroke-width:3.2; stroke-opacity:1\"/>\n",
       "<line clip-path=\"url(#clip622)\" x1=\"1911.66\" y1=\"55.997\" x2=\"1911.66\" y2=\"39.997\" style=\"stroke:#009af9; stroke-width:3.2; stroke-opacity:1\"/>\n",
       "<line clip-path=\"url(#clip622)\" x1=\"1911.66\" y1=\"55.997\" x2=\"1895.66\" y2=\"55.997\" style=\"stroke:#009af9; stroke-width:3.2; stroke-opacity:1\"/>\n",
       "<line clip-path=\"url(#clip622)\" x1=\"1911.66\" y1=\"55.997\" x2=\"1911.66\" y2=\"71.997\" style=\"stroke:#009af9; stroke-width:3.2; stroke-opacity:1\"/>\n",
       "<line clip-path=\"url(#clip622)\" x1=\"1911.66\" y1=\"55.997\" x2=\"1927.66\" y2=\"55.997\" style=\"stroke:#009af9; stroke-width:3.2; stroke-opacity:1\"/>\n",
       "<line clip-path=\"url(#clip622)\" x1=\"1987.97\" y1=\"55.997\" x2=\"1987.97\" y2=\"39.997\" style=\"stroke:#009af9; stroke-width:3.2; stroke-opacity:1\"/>\n",
       "<line clip-path=\"url(#clip622)\" x1=\"1987.97\" y1=\"55.997\" x2=\"1971.97\" y2=\"55.997\" style=\"stroke:#009af9; stroke-width:3.2; stroke-opacity:1\"/>\n",
       "<line clip-path=\"url(#clip622)\" x1=\"1987.97\" y1=\"55.997\" x2=\"1987.97\" y2=\"71.997\" style=\"stroke:#009af9; stroke-width:3.2; stroke-opacity:1\"/>\n",
       "<line clip-path=\"url(#clip622)\" x1=\"1987.97\" y1=\"55.997\" x2=\"2003.97\" y2=\"55.997\" style=\"stroke:#009af9; stroke-width:3.2; stroke-opacity:1\"/>\n",
       "<line clip-path=\"url(#clip622)\" x1=\"2064.29\" y1=\"55.9971\" x2=\"2064.29\" y2=\"39.9971\" style=\"stroke:#009af9; stroke-width:3.2; stroke-opacity:1\"/>\n",
       "<line clip-path=\"url(#clip622)\" x1=\"2064.29\" y1=\"55.9971\" x2=\"2048.29\" y2=\"55.9971\" style=\"stroke:#009af9; stroke-width:3.2; stroke-opacity:1\"/>\n",
       "<line clip-path=\"url(#clip622)\" x1=\"2064.29\" y1=\"55.9971\" x2=\"2064.29\" y2=\"71.9971\" style=\"stroke:#009af9; stroke-width:3.2; stroke-opacity:1\"/>\n",
       "<line clip-path=\"url(#clip622)\" x1=\"2064.29\" y1=\"55.9971\" x2=\"2080.29\" y2=\"55.9971\" style=\"stroke:#009af9; stroke-width:3.2; stroke-opacity:1\"/>\n",
       "<line clip-path=\"url(#clip622)\" x1=\"2140.6\" y1=\"119.705\" x2=\"2140.6\" y2=\"103.705\" style=\"stroke:#009af9; stroke-width:3.2; stroke-opacity:1\"/>\n",
       "<line clip-path=\"url(#clip622)\" x1=\"2140.6\" y1=\"119.705\" x2=\"2124.6\" y2=\"119.705\" style=\"stroke:#009af9; stroke-width:3.2; stroke-opacity:1\"/>\n",
       "<line clip-path=\"url(#clip622)\" x1=\"2140.6\" y1=\"119.705\" x2=\"2140.6\" y2=\"135.705\" style=\"stroke:#009af9; stroke-width:3.2; stroke-opacity:1\"/>\n",
       "<line clip-path=\"url(#clip622)\" x1=\"2140.6\" y1=\"119.705\" x2=\"2156.6\" y2=\"119.705\" style=\"stroke:#009af9; stroke-width:3.2; stroke-opacity:1\"/>\n",
       "<line clip-path=\"url(#clip622)\" x1=\"2216.92\" y1=\"347.759\" x2=\"2216.92\" y2=\"331.759\" style=\"stroke:#009af9; stroke-width:3.2; stroke-opacity:1\"/>\n",
       "<line clip-path=\"url(#clip622)\" x1=\"2216.92\" y1=\"347.759\" x2=\"2200.92\" y2=\"347.759\" style=\"stroke:#009af9; stroke-width:3.2; stroke-opacity:1\"/>\n",
       "<line clip-path=\"url(#clip622)\" x1=\"2216.92\" y1=\"347.759\" x2=\"2216.92\" y2=\"363.759\" style=\"stroke:#009af9; stroke-width:3.2; stroke-opacity:1\"/>\n",
       "<line clip-path=\"url(#clip622)\" x1=\"2216.92\" y1=\"347.759\" x2=\"2232.92\" y2=\"347.759\" style=\"stroke:#009af9; stroke-width:3.2; stroke-opacity:1\"/>\n",
       "<line clip-path=\"url(#clip622)\" x1=\"2293.23\" y1=\"76.828\" x2=\"2293.23\" y2=\"60.828\" style=\"stroke:#009af9; stroke-width:3.2; stroke-opacity:1\"/>\n",
       "<line clip-path=\"url(#clip622)\" x1=\"2293.23\" y1=\"76.828\" x2=\"2277.23\" y2=\"76.828\" style=\"stroke:#009af9; stroke-width:3.2; stroke-opacity:1\"/>\n",
       "<line clip-path=\"url(#clip622)\" x1=\"2293.23\" y1=\"76.828\" x2=\"2293.23\" y2=\"92.828\" style=\"stroke:#009af9; stroke-width:3.2; stroke-opacity:1\"/>\n",
       "<line clip-path=\"url(#clip622)\" x1=\"2293.23\" y1=\"76.828\" x2=\"2309.23\" y2=\"76.828\" style=\"stroke:#009af9; stroke-width:3.2; stroke-opacity:1\"/>\n",
       "<polyline clip-path=\"url(#clip622)\" style=\"stroke:#ff0000; stroke-linecap:round; stroke-linejoin:round; stroke-width:20; stroke-opacity:0.3; fill:none\" points=\"309.067,55.997 309.067,55.997 385.381,55.997 385.381,55.997 461.695,55.997 461.695,55.997 538.009,55.997 538.009,55.997 614.323,55.997 614.323,55.997 690.637,55.997 690.637,55.997 766.951,55.997 766.951,55.997 843.265,55.997 843.265,241.995 919.579,241.995 919.579,55.9971 995.893,55.9971 995.893,55.9971 1072.21,55.9971 1072.21,117.345 1148.52,117.345 1148.52,122.833 1224.83,122.833 1224.83,55.9971 1301.15,55.9971 1301.15,55.9971 1377.46,55.9971 1377.46,55.9973 1453.78,55.9973 1453.78,143.554 1530.09,143.554 1530.09,116.241 1606.4,116.241 1606.4,153.212 1682.72,153.212 1682.72,55.9972 1759.03,55.9972 1759.03,55.9971 1835.35,55.9971 1835.35,55.997 1911.66,55.997 1911.66,55.997 1987.97,55.997 1987.97,55.9971 2064.29,55.9971 2064.29,119.705 2140.6,119.705 2140.6,347.759 2216.92,347.759 2216.92,76.828 2293.23,76.828 \"/>\n",
       "<circle clip-path=\"url(#clip622)\" cx=\"309.067\" cy=\"55.997\" r=\"14.4\" fill=\"#e26f46\" fill-rule=\"evenodd\" fill-opacity=\"1\" stroke=\"#000000\" stroke-opacity=\"1\" stroke-width=\"3.2\"/>\n",
       "<circle clip-path=\"url(#clip622)\" cx=\"385.381\" cy=\"55.997\" r=\"14.4\" fill=\"#e26f46\" fill-rule=\"evenodd\" fill-opacity=\"1\" stroke=\"#000000\" stroke-opacity=\"1\" stroke-width=\"3.2\"/>\n",
       "<circle clip-path=\"url(#clip622)\" cx=\"461.695\" cy=\"55.997\" r=\"14.4\" fill=\"#e26f46\" fill-rule=\"evenodd\" fill-opacity=\"1\" stroke=\"#000000\" stroke-opacity=\"1\" stroke-width=\"3.2\"/>\n",
       "<circle clip-path=\"url(#clip622)\" cx=\"538.009\" cy=\"55.997\" r=\"14.4\" fill=\"#e26f46\" fill-rule=\"evenodd\" fill-opacity=\"1\" stroke=\"#000000\" stroke-opacity=\"1\" stroke-width=\"3.2\"/>\n",
       "<circle clip-path=\"url(#clip622)\" cx=\"614.323\" cy=\"55.997\" r=\"14.4\" fill=\"#e26f46\" fill-rule=\"evenodd\" fill-opacity=\"1\" stroke=\"#000000\" stroke-opacity=\"1\" stroke-width=\"3.2\"/>\n",
       "<circle clip-path=\"url(#clip622)\" cx=\"690.637\" cy=\"55.997\" r=\"14.4\" fill=\"#e26f46\" fill-rule=\"evenodd\" fill-opacity=\"1\" stroke=\"#000000\" stroke-opacity=\"1\" stroke-width=\"3.2\"/>\n",
       "<circle clip-path=\"url(#clip622)\" cx=\"766.951\" cy=\"55.997\" r=\"14.4\" fill=\"#e26f46\" fill-rule=\"evenodd\" fill-opacity=\"1\" stroke=\"#000000\" stroke-opacity=\"1\" stroke-width=\"3.2\"/>\n",
       "<circle clip-path=\"url(#clip622)\" cx=\"843.265\" cy=\"55.997\" r=\"14.4\" fill=\"#e26f46\" fill-rule=\"evenodd\" fill-opacity=\"1\" stroke=\"#000000\" stroke-opacity=\"1\" stroke-width=\"3.2\"/>\n",
       "<circle clip-path=\"url(#clip622)\" cx=\"919.579\" cy=\"241.997\" r=\"14.4\" fill=\"#e26f46\" fill-rule=\"evenodd\" fill-opacity=\"1\" stroke=\"#000000\" stroke-opacity=\"1\" stroke-width=\"3.2\"/>\n",
       "<circle clip-path=\"url(#clip622)\" cx=\"995.893\" cy=\"55.997\" r=\"14.4\" fill=\"#e26f46\" fill-rule=\"evenodd\" fill-opacity=\"1\" stroke=\"#000000\" stroke-opacity=\"1\" stroke-width=\"3.2\"/>\n",
       "<circle clip-path=\"url(#clip622)\" cx=\"1072.21\" cy=\"55.997\" r=\"14.4\" fill=\"#e26f46\" fill-rule=\"evenodd\" fill-opacity=\"1\" stroke=\"#000000\" stroke-opacity=\"1\" stroke-width=\"3.2\"/>\n",
       "<circle clip-path=\"url(#clip622)\" cx=\"1148.52\" cy=\"117.341\" r=\"14.4\" fill=\"#e26f46\" fill-rule=\"evenodd\" fill-opacity=\"1\" stroke=\"#000000\" stroke-opacity=\"1\" stroke-width=\"3.2\"/>\n",
       "<circle clip-path=\"url(#clip622)\" cx=\"1224.83\" cy=\"122.836\" r=\"14.4\" fill=\"#e26f46\" fill-rule=\"evenodd\" fill-opacity=\"1\" stroke=\"#000000\" stroke-opacity=\"1\" stroke-width=\"3.2\"/>\n",
       "<circle clip-path=\"url(#clip622)\" cx=\"1301.15\" cy=\"55.997\" r=\"14.4\" fill=\"#e26f46\" fill-rule=\"evenodd\" fill-opacity=\"1\" stroke=\"#000000\" stroke-opacity=\"1\" stroke-width=\"3.2\"/>\n",
       "<circle clip-path=\"url(#clip622)\" cx=\"1377.46\" cy=\"55.997\" r=\"14.4\" fill=\"#e26f46\" fill-rule=\"evenodd\" fill-opacity=\"1\" stroke=\"#000000\" stroke-opacity=\"1\" stroke-width=\"3.2\"/>\n",
       "<circle clip-path=\"url(#clip622)\" cx=\"1453.78\" cy=\"55.997\" r=\"14.4\" fill=\"#e26f46\" fill-rule=\"evenodd\" fill-opacity=\"1\" stroke=\"#000000\" stroke-opacity=\"1\" stroke-width=\"3.2\"/>\n",
       "<circle clip-path=\"url(#clip622)\" cx=\"1530.09\" cy=\"143.556\" r=\"14.4\" fill=\"#e26f46\" fill-rule=\"evenodd\" fill-opacity=\"1\" stroke=\"#000000\" stroke-opacity=\"1\" stroke-width=\"3.2\"/>\n",
       "<circle clip-path=\"url(#clip622)\" cx=\"1606.4\" cy=\"116.246\" r=\"14.4\" fill=\"#e26f46\" fill-rule=\"evenodd\" fill-opacity=\"1\" stroke=\"#000000\" stroke-opacity=\"1\" stroke-width=\"3.2\"/>\n",
       "<circle clip-path=\"url(#clip622)\" cx=\"1682.72\" cy=\"153.205\" r=\"14.4\" fill=\"#e26f46\" fill-rule=\"evenodd\" fill-opacity=\"1\" stroke=\"#000000\" stroke-opacity=\"1\" stroke-width=\"3.2\"/>\n",
       "<circle clip-path=\"url(#clip622)\" cx=\"1759.03\" cy=\"55.997\" r=\"14.4\" fill=\"#e26f46\" fill-rule=\"evenodd\" fill-opacity=\"1\" stroke=\"#000000\" stroke-opacity=\"1\" stroke-width=\"3.2\"/>\n",
       "<circle clip-path=\"url(#clip622)\" cx=\"1835.35\" cy=\"55.997\" r=\"14.4\" fill=\"#e26f46\" fill-rule=\"evenodd\" fill-opacity=\"1\" stroke=\"#000000\" stroke-opacity=\"1\" stroke-width=\"3.2\"/>\n",
       "<circle clip-path=\"url(#clip622)\" cx=\"1911.66\" cy=\"55.997\" r=\"14.4\" fill=\"#e26f46\" fill-rule=\"evenodd\" fill-opacity=\"1\" stroke=\"#000000\" stroke-opacity=\"1\" stroke-width=\"3.2\"/>\n",
       "<circle clip-path=\"url(#clip622)\" cx=\"1987.97\" cy=\"55.997\" r=\"14.4\" fill=\"#e26f46\" fill-rule=\"evenodd\" fill-opacity=\"1\" stroke=\"#000000\" stroke-opacity=\"1\" stroke-width=\"3.2\"/>\n",
       "<circle clip-path=\"url(#clip622)\" cx=\"2064.29\" cy=\"55.997\" r=\"14.4\" fill=\"#e26f46\" fill-rule=\"evenodd\" fill-opacity=\"1\" stroke=\"#000000\" stroke-opacity=\"1\" stroke-width=\"3.2\"/>\n",
       "<circle clip-path=\"url(#clip622)\" cx=\"2140.6\" cy=\"119.716\" r=\"14.4\" fill=\"#e26f46\" fill-rule=\"evenodd\" fill-opacity=\"1\" stroke=\"#000000\" stroke-opacity=\"1\" stroke-width=\"3.2\"/>\n",
       "<circle clip-path=\"url(#clip622)\" cx=\"2216.92\" cy=\"347.76\" r=\"14.4\" fill=\"#e26f46\" fill-rule=\"evenodd\" fill-opacity=\"1\" stroke=\"#000000\" stroke-opacity=\"1\" stroke-width=\"3.2\"/>\n",
       "<circle clip-path=\"url(#clip622)\" cx=\"2293.23\" cy=\"76.8134\" r=\"14.4\" fill=\"#e26f46\" fill-rule=\"evenodd\" fill-opacity=\"1\" stroke=\"#000000\" stroke-opacity=\"1\" stroke-width=\"3.2\"/>\n",
       "<polyline clip-path=\"url(#clip622)\" style=\"stroke:#80007f; stroke-linecap:round; stroke-linejoin:round; stroke-width:20; stroke-opacity:0.3; fill:none\" points=\"309.067,55.997 309.067,55.997 385.381,55.997 461.695,55.997 538.009,55.997 614.323,55.997 690.637,55.997 766.951,55.997 843.265,55.997 843.265,241.997 919.579,241.997 919.579,55.997 995.893,55.997 1072.21,55.997 1072.21,117.341 1148.52,117.341 1148.52,122.836 1224.83,122.836 1224.83,55.997 1301.15,55.997 1377.46,55.997 1453.78,55.997 1453.78,143.556 1530.09,143.556 1530.09,116.246 1606.4,116.246 1606.4,153.205 1682.72,153.205 1682.72,55.997 1759.03,55.997 1835.35,55.997 1911.66,55.997 1987.97,55.997 2064.29,55.997 2064.29,119.716 2140.6,119.716 2140.6,347.76 2216.92,347.76 2216.92,76.8134 2293.23,76.8134 \"/>\n",
       "<path clip-path=\"url(#clip622)\" d=\"M309.067 39.9971 L293.067 55.9971 L309.067 71.9971 L325.067 55.9971 L309.067 39.9971 Z\" fill=\"#3da44d\" fill-rule=\"evenodd\" fill-opacity=\"1\" stroke=\"#000000\" stroke-opacity=\"1\" stroke-width=\"3.2\"/>\n",
       "<path clip-path=\"url(#clip622)\" d=\"M385.381 39.997 L369.381 55.997 L385.381 71.997 L401.381 55.997 L385.381 39.997 Z\" fill=\"#3da44d\" fill-rule=\"evenodd\" fill-opacity=\"1\" stroke=\"#000000\" stroke-opacity=\"1\" stroke-width=\"3.2\"/>\n",
       "<path clip-path=\"url(#clip622)\" d=\"M461.695 39.997 L445.695 55.997 L461.695 71.997 L477.695 55.997 L461.695 39.997 Z\" fill=\"#3da44d\" fill-rule=\"evenodd\" fill-opacity=\"1\" stroke=\"#000000\" stroke-opacity=\"1\" stroke-width=\"3.2\"/>\n",
       "<path clip-path=\"url(#clip622)\" d=\"M538.009 39.997 L522.009 55.997 L538.009 71.997 L554.009 55.997 L538.009 39.997 Z\" fill=\"#3da44d\" fill-rule=\"evenodd\" fill-opacity=\"1\" stroke=\"#000000\" stroke-opacity=\"1\" stroke-width=\"3.2\"/>\n",
       "<path clip-path=\"url(#clip622)\" d=\"M614.323 39.997 L598.323 55.997 L614.323 71.997 L630.323 55.997 L614.323 39.997 Z\" fill=\"#3da44d\" fill-rule=\"evenodd\" fill-opacity=\"1\" stroke=\"#000000\" stroke-opacity=\"1\" stroke-width=\"3.2\"/>\n",
       "<path clip-path=\"url(#clip622)\" d=\"M690.637 39.9971 L674.637 55.9971 L690.637 71.9971 L706.637 55.9971 L690.637 39.9971 Z\" fill=\"#3da44d\" fill-rule=\"evenodd\" fill-opacity=\"1\" stroke=\"#000000\" stroke-opacity=\"1\" stroke-width=\"3.2\"/>\n",
       "<path clip-path=\"url(#clip622)\" d=\"M766.951 39.9975 L750.951 55.9975 L766.951 71.9975 L782.951 55.9975 L766.951 39.9975 Z\" fill=\"#3da44d\" fill-rule=\"evenodd\" fill-opacity=\"1\" stroke=\"#000000\" stroke-opacity=\"1\" stroke-width=\"3.2\"/>\n",
       "<path clip-path=\"url(#clip622)\" d=\"M843.265 39.9978 L827.265 55.9978 L843.265 71.9978 L859.265 55.9978 L843.265 39.9978 Z\" fill=\"#3da44d\" fill-rule=\"evenodd\" fill-opacity=\"1\" stroke=\"#000000\" stroke-opacity=\"1\" stroke-width=\"3.2\"/>\n",
       "<path clip-path=\"url(#clip622)\" d=\"M919.579 225.994 L903.579 241.994 L919.579 257.994 L935.579 241.994 L919.579 225.994 Z\" fill=\"#3da44d\" fill-rule=\"evenodd\" fill-opacity=\"1\" stroke=\"#000000\" stroke-opacity=\"1\" stroke-width=\"3.2\"/>\n",
       "<path clip-path=\"url(#clip622)\" d=\"M995.893 39.9988 L979.893 55.9988 L995.893 71.9988 L1011.89 55.9988 L995.893 39.9988 Z\" fill=\"#3da44d\" fill-rule=\"evenodd\" fill-opacity=\"1\" stroke=\"#000000\" stroke-opacity=\"1\" stroke-width=\"3.2\"/>\n",
       "<path clip-path=\"url(#clip622)\" d=\"M1072.21 39.9993 L1056.21 55.9993 L1072.21 71.9993 L1088.21 55.9993 L1072.21 39.9993 Z\" fill=\"#3da44d\" fill-rule=\"evenodd\" fill-opacity=\"1\" stroke=\"#000000\" stroke-opacity=\"1\" stroke-width=\"3.2\"/>\n",
       "<path clip-path=\"url(#clip622)\" d=\"M1148.52 101.338 L1132.52 117.338 L1148.52 133.338 L1164.52 117.338 L1148.52 101.338 Z\" fill=\"#3da44d\" fill-rule=\"evenodd\" fill-opacity=\"1\" stroke=\"#000000\" stroke-opacity=\"1\" stroke-width=\"3.2\"/>\n",
       "<path clip-path=\"url(#clip622)\" d=\"M1224.83 106.835 L1208.83 122.835 L1224.83 138.835 L1240.83 122.835 L1224.83 106.835 Z\" fill=\"#3da44d\" fill-rule=\"evenodd\" fill-opacity=\"1\" stroke=\"#000000\" stroke-opacity=\"1\" stroke-width=\"3.2\"/>\n",
       "<path clip-path=\"url(#clip622)\" d=\"M1301.15 39.9989 L1285.15 55.9989 L1301.15 71.9989 L1317.15 55.9989 L1301.15 39.9989 Z\" fill=\"#3da44d\" fill-rule=\"evenodd\" fill-opacity=\"1\" stroke=\"#000000\" stroke-opacity=\"1\" stroke-width=\"3.2\"/>\n",
       "<path clip-path=\"url(#clip622)\" d=\"M1377.46 39.9984 L1361.46 55.9984 L1377.46 71.9984 L1393.46 55.9984 L1377.46 39.9984 Z\" fill=\"#3da44d\" fill-rule=\"evenodd\" fill-opacity=\"1\" stroke=\"#000000\" stroke-opacity=\"1\" stroke-width=\"3.2\"/>\n",
       "<path clip-path=\"url(#clip622)\" d=\"M1453.78 40.0013 L1437.78 56.0013 L1453.78 72.0013 L1469.78 56.0013 L1453.78 40.0013 Z\" fill=\"#3da44d\" fill-rule=\"evenodd\" fill-opacity=\"1\" stroke=\"#000000\" stroke-opacity=\"1\" stroke-width=\"3.2\"/>\n",
       "<path clip-path=\"url(#clip622)\" d=\"M1530.09 127.544 L1514.09 143.544 L1530.09 159.544 L1546.09 143.544 L1530.09 127.544 Z\" fill=\"#3da44d\" fill-rule=\"evenodd\" fill-opacity=\"1\" stroke=\"#000000\" stroke-opacity=\"1\" stroke-width=\"3.2\"/>\n",
       "<path clip-path=\"url(#clip622)\" d=\"M1606.4 100.251 L1590.4 116.251 L1606.4 132.251 L1622.4 116.251 L1606.4 100.251 Z\" fill=\"#3da44d\" fill-rule=\"evenodd\" fill-opacity=\"1\" stroke=\"#000000\" stroke-opacity=\"1\" stroke-width=\"3.2\"/>\n",
       "<path clip-path=\"url(#clip622)\" d=\"M1682.72 137.204 L1666.72 153.204 L1682.72 169.204 L1698.72 153.204 L1682.72 137.204 Z\" fill=\"#3da44d\" fill-rule=\"evenodd\" fill-opacity=\"1\" stroke=\"#000000\" stroke-opacity=\"1\" stroke-width=\"3.2\"/>\n",
       "<path clip-path=\"url(#clip622)\" d=\"M1759.03 40.0004 L1743.03 56.0004 L1759.03 72.0004 L1775.03 56.0004 L1759.03 40.0004 Z\" fill=\"#3da44d\" fill-rule=\"evenodd\" fill-opacity=\"1\" stroke=\"#000000\" stroke-opacity=\"1\" stroke-width=\"3.2\"/>\n",
       "<path clip-path=\"url(#clip622)\" d=\"M1835.35 39.998 L1819.35 55.998 L1835.35 71.998 L1851.35 55.998 L1835.35 39.998 Z\" fill=\"#3da44d\" fill-rule=\"evenodd\" fill-opacity=\"1\" stroke=\"#000000\" stroke-opacity=\"1\" stroke-width=\"3.2\"/>\n",
       "<path clip-path=\"url(#clip622)\" d=\"M1911.66 39.9976 L1895.66 55.9976 L1911.66 71.9976 L1927.66 55.9976 L1911.66 39.9976 Z\" fill=\"#3da44d\" fill-rule=\"evenodd\" fill-opacity=\"1\" stroke=\"#000000\" stroke-opacity=\"1\" stroke-width=\"3.2\"/>\n",
       "<path clip-path=\"url(#clip622)\" d=\"M1987.97 39.9977 L1971.97 55.9977 L1987.97 71.9977 L2003.97 55.9977 L1987.97 39.9977 Z\" fill=\"#3da44d\" fill-rule=\"evenodd\" fill-opacity=\"1\" stroke=\"#000000\" stroke-opacity=\"1\" stroke-width=\"3.2\"/>\n",
       "<path clip-path=\"url(#clip622)\" d=\"M2064.29 39.9988 L2048.29 55.9988 L2064.29 71.9988 L2080.29 55.9988 L2064.29 39.9988 Z\" fill=\"#3da44d\" fill-rule=\"evenodd\" fill-opacity=\"1\" stroke=\"#000000\" stroke-opacity=\"1\" stroke-width=\"3.2\"/>\n",
       "<path clip-path=\"url(#clip622)\" d=\"M2140.6 103.705 L2124.6 119.705 L2140.6 135.705 L2156.6 119.705 L2140.6 103.705 Z\" fill=\"#3da44d\" fill-rule=\"evenodd\" fill-opacity=\"1\" stroke=\"#000000\" stroke-opacity=\"1\" stroke-width=\"3.2\"/>\n",
       "<path clip-path=\"url(#clip622)\" d=\"M2216.92 331.745 L2200.92 347.745 L2216.92 363.745 L2232.92 347.745 L2216.92 331.745 Z\" fill=\"#3da44d\" fill-rule=\"evenodd\" fill-opacity=\"1\" stroke=\"#000000\" stroke-opacity=\"1\" stroke-width=\"3.2\"/>\n",
       "<path clip-path=\"url(#clip622)\" d=\"M2293.23 60.8373 L2277.23 76.8373 L2293.23 92.8373 L2309.23 76.8373 L2293.23 60.8373 Z\" fill=\"#3da44d\" fill-rule=\"evenodd\" fill-opacity=\"1\" stroke=\"#000000\" stroke-opacity=\"1\" stroke-width=\"3.2\"/>\n",
       "<polyline clip-path=\"url(#clip622)\" style=\"stroke:#0000ff; stroke-linecap:round; stroke-linejoin:round; stroke-width:20; stroke-opacity:0.3; fill:none\" points=\"309.067,55.9971 309.067,55.997 385.381,55.997 385.381,55.997 461.695,55.997 461.695,55.997 538.009,55.997 538.009,55.997 614.323,55.997 614.323,55.9971 690.637,55.9971 690.637,55.9975 766.951,55.9975 766.951,55.9978 843.265,55.9978 843.265,241.994 919.579,241.994 919.579,55.9988 995.893,55.9988 995.893,55.9993 1072.21,55.9993 1072.21,117.338 1148.52,117.338 1148.52,122.835 1224.83,122.835 1224.83,55.9989 1301.15,55.9989 1301.15,55.9984 1377.46,55.9984 1377.46,56.0013 1453.78,56.0013 1453.78,143.544 1530.09,143.544 1530.09,116.251 1606.4,116.251 1606.4,153.204 1682.72,153.204 1682.72,56.0004 1759.03,56.0004 1759.03,55.998 1835.35,55.998 1835.35,55.9976 1911.66,55.9976 1911.66,55.9977 1987.97,55.9977 1987.97,55.9988 2064.29,55.9988 2064.29,119.705 2140.6,119.705 2140.6,347.745 2216.92,347.745 2216.92,76.8373 2293.23,76.8373 \"/>\n",
       "<path clip-path=\"url(#clip620)\" d=\"M249.542 889.847 L2352.76 889.847 L2352.76 580.577 L249.542 580.577  Z\" fill=\"#ffffff\" fill-rule=\"evenodd\" fill-opacity=\"1\"/>\n",
       "<defs>\n",
       "  <clipPath id=\"clip623\">\n",
       "    <rect x=\"249\" y=\"580\" width=\"2104\" height=\"310\"/>\n",
       "  </clipPath>\n",
       "</defs>\n",
       "<polyline clip-path=\"url(#clip623)\" style=\"stroke:#000000; stroke-linecap:round; stroke-linejoin:round; stroke-width:8; stroke-opacity:0.1; fill:none\" points=\"614.323,889.847 614.323,580.577 \"/>\n",
       "<polyline clip-path=\"url(#clip623)\" style=\"stroke:#000000; stroke-linecap:round; stroke-linejoin:round; stroke-width:8; stroke-opacity:0.1; fill:none\" points=\"995.893,889.847 995.893,580.577 \"/>\n",
       "<polyline clip-path=\"url(#clip623)\" style=\"stroke:#000000; stroke-linecap:round; stroke-linejoin:round; stroke-width:8; stroke-opacity:0.1; fill:none\" points=\"1377.46,889.847 1377.46,580.577 \"/>\n",
       "<polyline clip-path=\"url(#clip623)\" style=\"stroke:#000000; stroke-linecap:round; stroke-linejoin:round; stroke-width:8; stroke-opacity:0.1; fill:none\" points=\"1759.03,889.847 1759.03,580.577 \"/>\n",
       "<polyline clip-path=\"url(#clip623)\" style=\"stroke:#000000; stroke-linecap:round; stroke-linejoin:round; stroke-width:8; stroke-opacity:0.1; fill:none\" points=\"2140.6,889.847 2140.6,580.577 \"/>\n",
       "<polyline clip-path=\"url(#clip620)\" style=\"stroke:#000000; stroke-linecap:round; stroke-linejoin:round; stroke-width:4; stroke-opacity:1; fill:none\" points=\"249.542,889.847 2352.76,889.847 \"/>\n",
       "<polyline clip-path=\"url(#clip620)\" style=\"stroke:#000000; stroke-linecap:round; stroke-linejoin:round; stroke-width:4; stroke-opacity:1; fill:none\" points=\"614.323,889.847 614.323,870.949 \"/>\n",
       "<polyline clip-path=\"url(#clip620)\" style=\"stroke:#000000; stroke-linecap:round; stroke-linejoin:round; stroke-width:4; stroke-opacity:1; fill:none\" points=\"995.893,889.847 995.893,870.949 \"/>\n",
       "<polyline clip-path=\"url(#clip620)\" style=\"stroke:#000000; stroke-linecap:round; stroke-linejoin:round; stroke-width:4; stroke-opacity:1; fill:none\" points=\"1377.46,889.847 1377.46,870.949 \"/>\n",
       "<polyline clip-path=\"url(#clip620)\" style=\"stroke:#000000; stroke-linecap:round; stroke-linejoin:round; stroke-width:4; stroke-opacity:1; fill:none\" points=\"1759.03,889.847 1759.03,870.949 \"/>\n",
       "<polyline clip-path=\"url(#clip620)\" style=\"stroke:#000000; stroke-linecap:round; stroke-linejoin:round; stroke-width:4; stroke-opacity:1; fill:none\" points=\"2140.6,889.847 2140.6,870.949 \"/>\n",
       "<path clip-path=\"url(#clip620)\" d=\"M604.601 917.687 L622.957 917.687 L622.957 921.622 L608.883 921.622 L608.883 930.094 Q609.902 929.747 610.92 929.585 Q611.939 929.399 612.957 929.399 Q618.744 929.399 622.124 932.571 Q625.503 935.742 625.503 941.159 Q625.503 946.737 622.031 949.839 Q618.559 952.918 612.24 952.918 Q610.064 952.918 607.795 952.547 Q605.55 952.177 603.142 951.436 L603.142 946.737 Q605.226 947.872 607.448 948.427 Q609.67 948.983 612.147 948.983 Q616.152 948.983 618.49 946.876 Q620.828 944.77 620.828 941.159 Q620.828 937.548 618.49 935.441 Q616.152 933.335 612.147 933.335 Q610.272 933.335 608.397 933.751 Q606.545 934.168 604.601 935.048 L604.601 917.687 Z\" fill=\"#000000\" fill-rule=\"evenodd\" fill-opacity=\"1\" /><path clip-path=\"url(#clip620)\" d=\"M970.581 948.311 L978.219 948.311 L978.219 921.946 L969.909 923.612 L969.909 919.353 L978.173 917.687 L982.849 917.687 L982.849 948.311 L990.488 948.311 L990.488 952.247 L970.581 952.247 L970.581 948.311 Z\" fill=\"#000000\" fill-rule=\"evenodd\" fill-opacity=\"1\" /><path clip-path=\"url(#clip620)\" d=\"M1009.93 920.765 Q1006.32 920.765 1004.49 924.33 Q1002.69 927.872 1002.69 935.001 Q1002.69 942.108 1004.49 945.672 Q1006.32 949.214 1009.93 949.214 Q1013.57 949.214 1015.37 945.672 Q1017.2 942.108 1017.2 935.001 Q1017.2 927.872 1015.37 924.33 Q1013.57 920.765 1009.93 920.765 M1009.93 917.062 Q1015.74 917.062 1018.8 921.668 Q1021.88 926.251 1021.88 935.001 Q1021.88 943.728 1018.8 948.334 Q1015.74 952.918 1009.93 952.918 Q1004.12 952.918 1001.04 948.334 Q997.988 943.728 997.988 935.001 Q997.988 926.251 1001.04 921.668 Q1004.12 917.062 1009.93 917.062 Z\" fill=\"#000000\" fill-rule=\"evenodd\" fill-opacity=\"1\" /><path clip-path=\"url(#clip620)\" d=\"M1352.65 948.311 L1360.29 948.311 L1360.29 921.946 L1351.98 923.612 L1351.98 919.353 L1360.24 917.687 L1364.92 917.687 L1364.92 948.311 L1372.56 948.311 L1372.56 952.247 L1352.65 952.247 L1352.65 948.311 Z\" fill=\"#000000\" fill-rule=\"evenodd\" fill-opacity=\"1\" /><path clip-path=\"url(#clip620)\" d=\"M1382.05 917.687 L1400.4 917.687 L1400.4 921.622 L1386.33 921.622 L1386.33 930.094 Q1387.35 929.747 1388.37 929.585 Q1389.38 929.399 1390.4 929.399 Q1396.19 929.399 1399.57 932.571 Q1402.95 935.742 1402.95 941.159 Q1402.95 946.737 1399.48 949.839 Q1396 952.918 1389.69 952.918 Q1387.51 952.918 1385.24 952.547 Q1383 952.177 1380.59 951.436 L1380.59 946.737 Q1382.67 947.872 1384.89 948.427 Q1387.12 948.983 1389.59 948.983 Q1393.6 948.983 1395.94 946.876 Q1398.27 944.77 1398.27 941.159 Q1398.27 937.548 1395.94 935.441 Q1393.6 933.335 1389.59 933.335 Q1387.72 933.335 1385.84 933.751 Q1383.99 934.168 1382.05 935.048 L1382.05 917.687 Z\" fill=\"#000000\" fill-rule=\"evenodd\" fill-opacity=\"1\" /><path clip-path=\"url(#clip620)\" d=\"M1737.81 948.311 L1754.13 948.311 L1754.13 952.247 L1732.18 952.247 L1732.18 948.311 Q1734.84 945.557 1739.43 940.927 Q1744.03 936.274 1745.21 934.932 Q1747.46 932.409 1748.34 930.673 Q1749.24 928.913 1749.24 927.223 Q1749.24 924.469 1747.3 922.733 Q1745.38 920.997 1742.27 920.997 Q1740.07 920.997 1737.62 921.761 Q1735.19 922.524 1732.41 924.075 L1732.41 919.353 Q1735.24 918.219 1737.69 917.64 Q1740.14 917.062 1742.18 917.062 Q1747.55 917.062 1750.75 919.747 Q1753.94 922.432 1753.94 926.923 Q1753.94 929.052 1753.13 930.973 Q1752.34 932.872 1750.24 935.464 Q1749.66 936.135 1746.56 939.353 Q1743.45 942.547 1737.81 948.311 Z\" fill=\"#000000\" fill-rule=\"evenodd\" fill-opacity=\"1\" /><path clip-path=\"url(#clip620)\" d=\"M1773.94 920.765 Q1770.33 920.765 1768.5 924.33 Q1766.69 927.872 1766.69 935.001 Q1766.69 942.108 1768.5 945.672 Q1770.33 949.214 1773.94 949.214 Q1777.57 949.214 1779.38 945.672 Q1781.21 942.108 1781.21 935.001 Q1781.21 927.872 1779.38 924.33 Q1777.57 920.765 1773.94 920.765 M1773.94 917.062 Q1779.75 917.062 1782.81 921.668 Q1785.88 926.251 1785.88 935.001 Q1785.88 943.728 1782.81 948.334 Q1779.75 952.918 1773.94 952.918 Q1768.13 952.918 1765.05 948.334 Q1762 943.728 1762 935.001 Q1762 926.251 1765.05 921.668 Q1768.13 917.062 1773.94 917.062 Z\" fill=\"#000000\" fill-rule=\"evenodd\" fill-opacity=\"1\" /><path clip-path=\"url(#clip620)\" d=\"M2119.87 948.311 L2136.19 948.311 L2136.19 952.247 L2114.25 952.247 L2114.25 948.311 Q2116.91 945.557 2121.49 940.927 Q2126.1 936.274 2127.28 934.932 Q2129.53 932.409 2130.41 930.673 Q2131.31 928.913 2131.31 927.223 Q2131.31 924.469 2129.36 922.733 Q2127.44 920.997 2124.34 920.997 Q2122.14 920.997 2119.69 921.761 Q2117.26 922.524 2114.48 924.075 L2114.48 919.353 Q2117.3 918.219 2119.76 917.64 Q2122.21 917.062 2124.25 917.062 Q2129.62 917.062 2132.81 919.747 Q2136.01 922.432 2136.01 926.923 Q2136.01 929.052 2135.2 930.973 Q2134.41 932.872 2132.3 935.464 Q2131.73 936.135 2128.62 939.353 Q2125.52 942.547 2119.87 948.311 Z\" fill=\"#000000\" fill-rule=\"evenodd\" fill-opacity=\"1\" /><path clip-path=\"url(#clip620)\" d=\"M2146.05 917.687 L2164.41 917.687 L2164.41 921.622 L2150.34 921.622 L2150.34 930.094 Q2151.36 929.747 2152.37 929.585 Q2153.39 929.399 2154.41 929.399 Q2160.2 929.399 2163.58 932.571 Q2166.96 935.742 2166.96 941.159 Q2166.96 946.737 2163.48 949.839 Q2160.01 952.918 2153.69 952.918 Q2151.52 952.918 2149.25 952.547 Q2147 952.177 2144.6 951.436 L2144.6 946.737 Q2146.68 947.872 2148.9 948.427 Q2151.12 948.983 2153.6 948.983 Q2157.61 948.983 2159.94 946.876 Q2162.28 944.77 2162.28 941.159 Q2162.28 937.548 2159.94 935.441 Q2157.61 933.335 2153.6 933.335 Q2151.73 933.335 2149.85 933.751 Q2148 934.168 2146.05 935.048 L2146.05 917.687 Z\" fill=\"#000000\" fill-rule=\"evenodd\" fill-opacity=\"1\" /><path clip-path=\"url(#clip620)\" d=\"M1195.29 988.941 L1195.29 999.063 L1207.35 999.063 L1207.35 1003.61 L1195.29 1003.61 L1195.29 1022.97 Q1195.29 1027.33 1196.46 1028.57 Q1197.67 1029.81 1201.33 1029.81 L1207.35 1029.81 L1207.35 1034.71 L1201.33 1034.71 Q1194.56 1034.71 1191.98 1032.2 Q1189.4 1029.65 1189.4 1022.97 L1189.4 1003.61 L1185.1 1003.61 L1185.1 999.063 L1189.4 999.063 L1189.4 988.941 L1195.29 988.941 Z\" fill=\"#000000\" fill-rule=\"evenodd\" fill-opacity=\"1\" /><path clip-path=\"url(#clip620)\" d=\"M1215.05 999.063 L1220.91 999.063 L1220.91 1034.71 L1215.05 1034.71 L1215.05 999.063 M1215.05 985.185 L1220.91 985.185 L1220.91 992.601 L1215.05 992.601 L1215.05 985.185 Z\" fill=\"#000000\" fill-rule=\"evenodd\" fill-opacity=\"1\" /><path clip-path=\"url(#clip620)\" d=\"M1260.92 1005.91 Q1263.11 1001.96 1266.17 1000.08 Q1269.22 998.203 1273.36 998.203 Q1278.93 998.203 1281.96 1002.12 Q1284.98 1006 1284.98 1013.19 L1284.98 1034.71 L1279.09 1034.71 L1279.09 1013.39 Q1279.09 1008.26 1277.28 1005.78 Q1275.46 1003.3 1271.74 1003.3 Q1267.19 1003.3 1264.55 1006.32 Q1261.9 1009.34 1261.9 1014.56 L1261.9 1034.71 L1256.02 1034.71 L1256.02 1013.39 Q1256.02 1008.23 1254.2 1005.78 Q1252.39 1003.3 1248.6 1003.3 Q1244.11 1003.3 1241.47 1006.35 Q1238.83 1009.37 1238.83 1014.56 L1238.83 1034.71 L1232.94 1034.71 L1232.94 999.063 L1238.83 999.063 L1238.83 1004.6 Q1240.83 1001.32 1243.63 999.763 Q1246.44 998.203 1250.29 998.203 Q1254.17 998.203 1256.88 1000.18 Q1259.61 1002.15 1260.92 1005.91 Z\" fill=\"#000000\" fill-rule=\"evenodd\" fill-opacity=\"1\" /><path clip-path=\"url(#clip620)\" d=\"M1327.15 1015.42 L1327.15 1018.29 L1300.23 1018.29 Q1300.61 1024.33 1303.85 1027.52 Q1307.13 1030.67 1312.96 1030.67 Q1316.33 1030.67 1319.48 1029.84 Q1322.67 1029.01 1325.78 1027.36 L1325.78 1032.9 Q1322.63 1034.23 1319.32 1034.93 Q1316.01 1035.63 1312.61 1035.63 Q1304.08 1035.63 1299.08 1030.67 Q1294.11 1025.7 1294.11 1017.24 Q1294.11 1008.48 1298.83 1003.36 Q1303.57 998.203 1311.59 998.203 Q1318.78 998.203 1322.95 1002.85 Q1327.15 1007.47 1327.15 1015.42 M1321.3 1013.7 Q1321.23 1008.9 1318.59 1006.03 Q1315.98 1003.17 1311.65 1003.17 Q1306.75 1003.17 1303.79 1005.94 Q1300.86 1008.71 1300.42 1013.74 L1321.3 1013.7 Z\" fill=\"#000000\" fill-rule=\"evenodd\" fill-opacity=\"1\" /><path clip-path=\"url(#clip620)\" d=\"M1336.22 985.185 L1349.72 985.185 L1349.72 989.737 L1342.08 989.737 L1342.08 1038.75 L1349.72 1038.75 L1349.72 1043.3 L1336.22 1043.3 L1336.22 985.185 Z\" fill=\"#000000\" fill-rule=\"evenodd\" fill-opacity=\"1\" /><path clip-path=\"url(#clip620)\" d=\"M1391.83 1013.19 L1391.83 1034.71 L1385.97 1034.71 L1385.97 1013.39 Q1385.97 1008.32 1384 1005.81 Q1382.03 1003.3 1378.08 1003.3 Q1373.34 1003.3 1370.6 1006.32 Q1367.86 1009.34 1367.86 1014.56 L1367.86 1034.71 L1361.97 1034.71 L1361.97 985.185 L1367.86 985.185 L1367.86 1004.6 Q1369.96 1001.39 1372.79 999.795 Q1375.66 998.203 1379.38 998.203 Q1385.53 998.203 1388.68 1002.02 Q1391.83 1005.81 1391.83 1013.19 Z\" fill=\"#000000\" fill-rule=\"evenodd\" fill-opacity=\"1\" /><path clip-path=\"url(#clip620)\" d=\"M1417.2 985.185 L1417.2 1043.3 L1403.7 1043.3 L1403.7 1038.75 L1411.31 1038.75 L1411.31 989.737 L1403.7 989.737 L1403.7 985.185 L1417.2 985.185 Z\" fill=\"#000000\" fill-rule=\"evenodd\" fill-opacity=\"1\" /><polyline clip-path=\"url(#clip623)\" style=\"stroke:#000000; stroke-linecap:round; stroke-linejoin:round; stroke-width:8; stroke-opacity:0.1; fill:none\" points=\"249.542,881.094 2352.76,881.094 \"/>\n",
       "<polyline clip-path=\"url(#clip623)\" style=\"stroke:#000000; stroke-linecap:round; stroke-linejoin:round; stroke-width:8; stroke-opacity:0.1; fill:none\" points=\"249.542,820.31 2352.76,820.31 \"/>\n",
       "<polyline clip-path=\"url(#clip623)\" style=\"stroke:#000000; stroke-linecap:round; stroke-linejoin:round; stroke-width:8; stroke-opacity:0.1; fill:none\" points=\"249.542,759.526 2352.76,759.526 \"/>\n",
       "<polyline clip-path=\"url(#clip623)\" style=\"stroke:#000000; stroke-linecap:round; stroke-linejoin:round; stroke-width:8; stroke-opacity:0.1; fill:none\" points=\"249.542,698.742 2352.76,698.742 \"/>\n",
       "<polyline clip-path=\"url(#clip623)\" style=\"stroke:#000000; stroke-linecap:round; stroke-linejoin:round; stroke-width:8; stroke-opacity:0.1; fill:none\" points=\"249.542,637.958 2352.76,637.958 \"/>\n",
       "<polyline clip-path=\"url(#clip620)\" style=\"stroke:#000000; stroke-linecap:round; stroke-linejoin:round; stroke-width:4; stroke-opacity:1; fill:none\" points=\"249.542,889.847 249.542,580.577 \"/>\n",
       "<polyline clip-path=\"url(#clip620)\" style=\"stroke:#000000; stroke-linecap:round; stroke-linejoin:round; stroke-width:4; stroke-opacity:1; fill:none\" points=\"249.542,881.094 268.44,881.094 \"/>\n",
       "<polyline clip-path=\"url(#clip620)\" style=\"stroke:#000000; stroke-linecap:round; stroke-linejoin:round; stroke-width:4; stroke-opacity:1; fill:none\" points=\"249.542,820.31 268.44,820.31 \"/>\n",
       "<polyline clip-path=\"url(#clip620)\" style=\"stroke:#000000; stroke-linecap:round; stroke-linejoin:round; stroke-width:4; stroke-opacity:1; fill:none\" points=\"249.542,759.526 268.44,759.526 \"/>\n",
       "<polyline clip-path=\"url(#clip620)\" style=\"stroke:#000000; stroke-linecap:round; stroke-linejoin:round; stroke-width:4; stroke-opacity:1; fill:none\" points=\"249.542,698.742 268.44,698.742 \"/>\n",
       "<polyline clip-path=\"url(#clip620)\" style=\"stroke:#000000; stroke-linecap:round; stroke-linejoin:round; stroke-width:4; stroke-opacity:1; fill:none\" points=\"249.542,637.958 268.44,637.958 \"/>\n",
       "<path clip-path=\"url(#clip620)\" d=\"M126.205 866.892 Q122.593 866.892 120.765 870.457 Q118.959 873.999 118.959 881.128 Q118.959 888.235 120.765 891.8 Q122.593 895.341 126.205 895.341 Q129.839 895.341 131.644 891.8 Q133.473 888.235 133.473 881.128 Q133.473 873.999 131.644 870.457 Q129.839 866.892 126.205 866.892 M126.205 863.189 Q132.015 863.189 135.07 867.795 Q138.149 872.378 138.149 881.128 Q138.149 889.855 135.07 894.462 Q132.015 899.045 126.205 899.045 Q120.394 899.045 117.316 894.462 Q114.26 889.855 114.26 881.128 Q114.26 872.378 117.316 867.795 Q120.394 863.189 126.205 863.189 Z\" fill=\"#000000\" fill-rule=\"evenodd\" fill-opacity=\"1\" /><path clip-path=\"url(#clip620)\" d=\"M146.366 892.494 L151.251 892.494 L151.251 898.374 L146.366 898.374 L146.366 892.494 Z\" fill=\"#000000\" fill-rule=\"evenodd\" fill-opacity=\"1\" /><path clip-path=\"url(#clip620)\" d=\"M171.436 866.892 Q167.825 866.892 165.996 870.457 Q164.19 873.999 164.19 881.128 Q164.19 888.235 165.996 891.8 Q167.825 895.341 171.436 895.341 Q175.07 895.341 176.876 891.8 Q178.704 888.235 178.704 881.128 Q178.704 873.999 176.876 870.457 Q175.07 866.892 171.436 866.892 M171.436 863.189 Q177.246 863.189 180.301 867.795 Q183.38 872.378 183.38 881.128 Q183.38 889.855 180.301 894.462 Q177.246 899.045 171.436 899.045 Q165.626 899.045 162.547 894.462 Q159.491 889.855 159.491 881.128 Q159.491 872.378 162.547 867.795 Q165.626 863.189 171.436 863.189 Z\" fill=\"#000000\" fill-rule=\"evenodd\" fill-opacity=\"1\" /><path clip-path=\"url(#clip620)\" d=\"M201.598 866.892 Q197.987 866.892 196.158 870.457 Q194.352 873.999 194.352 881.128 Q194.352 888.235 196.158 891.8 Q197.987 895.341 201.598 895.341 Q205.232 895.341 207.037 891.8 Q208.866 888.235 208.866 881.128 Q208.866 873.999 207.037 870.457 Q205.232 866.892 201.598 866.892 M201.598 863.189 Q207.408 863.189 210.463 867.795 Q213.542 872.378 213.542 881.128 Q213.542 889.855 210.463 894.462 Q207.408 899.045 201.598 899.045 Q195.787 899.045 192.709 894.462 Q189.653 889.855 189.653 881.128 Q189.653 872.378 192.709 867.795 Q195.787 863.189 201.598 863.189 Z\" fill=\"#000000\" fill-rule=\"evenodd\" fill-opacity=\"1\" /><path clip-path=\"url(#clip620)\" d=\"M127.2 806.108 Q123.589 806.108 121.76 809.673 Q119.955 813.215 119.955 820.344 Q119.955 827.451 121.76 831.016 Q123.589 834.557 127.2 834.557 Q130.834 834.557 132.64 831.016 Q134.468 827.451 134.468 820.344 Q134.468 813.215 132.64 809.673 Q130.834 806.108 127.2 806.108 M127.2 802.405 Q133.01 802.405 136.066 807.011 Q139.144 811.594 139.144 820.344 Q139.144 829.071 136.066 833.678 Q133.01 838.261 127.2 838.261 Q121.39 838.261 118.311 833.678 Q115.256 829.071 115.256 820.344 Q115.256 811.594 118.311 807.011 Q121.39 802.405 127.2 802.405 Z\" fill=\"#000000\" fill-rule=\"evenodd\" fill-opacity=\"1\" /><path clip-path=\"url(#clip620)\" d=\"M147.362 831.71 L152.246 831.71 L152.246 837.59 L147.362 837.59 L147.362 831.71 Z\" fill=\"#000000\" fill-rule=\"evenodd\" fill-opacity=\"1\" /><path clip-path=\"url(#clip620)\" d=\"M166.459 833.654 L182.778 833.654 L182.778 837.59 L160.834 837.59 L160.834 833.654 Q163.496 830.9 168.079 826.27 Q172.686 821.617 173.866 820.275 Q176.112 817.752 176.991 816.016 Q177.894 814.256 177.894 812.567 Q177.894 809.812 175.95 808.076 Q174.028 806.34 170.927 806.34 Q168.727 806.34 166.274 807.104 Q163.843 807.868 161.065 809.418 L161.065 804.696 Q163.89 803.562 166.343 802.983 Q168.797 802.405 170.834 802.405 Q176.204 802.405 179.399 805.09 Q182.593 807.775 182.593 812.266 Q182.593 814.395 181.783 816.317 Q180.996 818.215 178.889 820.807 Q178.311 821.479 175.209 824.696 Q172.107 827.891 166.459 833.654 Z\" fill=\"#000000\" fill-rule=\"evenodd\" fill-opacity=\"1\" /><path clip-path=\"url(#clip620)\" d=\"M192.639 803.03 L210.996 803.03 L210.996 806.965 L196.922 806.965 L196.922 815.437 Q197.94 815.09 198.959 814.928 Q199.977 814.742 200.996 814.742 Q206.783 814.742 210.162 817.914 Q213.542 821.085 213.542 826.502 Q213.542 832.08 210.07 835.182 Q206.598 838.261 200.278 838.261 Q198.102 838.261 195.834 837.891 Q193.588 837.52 191.181 836.779 L191.181 832.08 Q193.264 833.215 195.487 833.77 Q197.709 834.326 200.186 834.326 Q204.19 834.326 206.528 832.219 Q208.866 830.113 208.866 826.502 Q208.866 822.891 206.528 820.784 Q204.19 818.678 200.186 818.678 Q198.311 818.678 196.436 819.094 Q194.584 819.511 192.639 820.391 L192.639 803.03 Z\" fill=\"#000000\" fill-rule=\"evenodd\" fill-opacity=\"1\" /><path clip-path=\"url(#clip620)\" d=\"M126.205 745.324 Q122.593 745.324 120.765 748.889 Q118.959 752.431 118.959 759.56 Q118.959 766.667 120.765 770.232 Q122.593 773.773 126.205 773.773 Q129.839 773.773 131.644 770.232 Q133.473 766.667 133.473 759.56 Q133.473 752.431 131.644 748.889 Q129.839 745.324 126.205 745.324 M126.205 741.621 Q132.015 741.621 135.07 746.227 Q138.149 750.81 138.149 759.56 Q138.149 768.287 135.07 772.894 Q132.015 777.477 126.205 777.477 Q120.394 777.477 117.316 772.894 Q114.26 768.287 114.26 759.56 Q114.26 750.81 117.316 746.227 Q120.394 741.621 126.205 741.621 Z\" fill=\"#000000\" fill-rule=\"evenodd\" fill-opacity=\"1\" /><path clip-path=\"url(#clip620)\" d=\"M146.366 770.926 L151.251 770.926 L151.251 776.806 L146.366 776.806 L146.366 770.926 Z\" fill=\"#000000\" fill-rule=\"evenodd\" fill-opacity=\"1\" /><path clip-path=\"url(#clip620)\" d=\"M161.482 742.246 L179.839 742.246 L179.839 746.181 L165.765 746.181 L165.765 754.653 Q166.783 754.306 167.802 754.144 Q168.82 753.958 169.839 753.958 Q175.626 753.958 179.005 757.13 Q182.385 760.301 182.385 765.718 Q182.385 771.296 178.913 774.398 Q175.44 777.477 169.121 777.477 Q166.945 777.477 164.677 777.106 Q162.431 776.736 160.024 775.995 L160.024 771.296 Q162.107 772.431 164.329 772.986 Q166.552 773.542 169.028 773.542 Q173.033 773.542 175.371 771.435 Q177.709 769.329 177.709 765.718 Q177.709 762.107 175.371 760 Q173.033 757.894 169.028 757.894 Q167.153 757.894 165.278 758.31 Q163.427 758.727 161.482 759.607 L161.482 742.246 Z\" fill=\"#000000\" fill-rule=\"evenodd\" fill-opacity=\"1\" /><path clip-path=\"url(#clip620)\" d=\"M201.598 745.324 Q197.987 745.324 196.158 748.889 Q194.352 752.431 194.352 759.56 Q194.352 766.667 196.158 770.232 Q197.987 773.773 201.598 773.773 Q205.232 773.773 207.037 770.232 Q208.866 766.667 208.866 759.56 Q208.866 752.431 207.037 748.889 Q205.232 745.324 201.598 745.324 M201.598 741.621 Q207.408 741.621 210.463 746.227 Q213.542 750.81 213.542 759.56 Q213.542 768.287 210.463 772.894 Q207.408 777.477 201.598 777.477 Q195.787 777.477 192.709 772.894 Q189.653 768.287 189.653 759.56 Q189.653 750.81 192.709 746.227 Q195.787 741.621 201.598 741.621 Z\" fill=\"#000000\" fill-rule=\"evenodd\" fill-opacity=\"1\" /><path clip-path=\"url(#clip620)\" d=\"M127.2 684.54 Q123.589 684.54 121.76 688.105 Q119.955 691.647 119.955 698.776 Q119.955 705.883 121.76 709.448 Q123.589 712.989 127.2 712.989 Q130.834 712.989 132.64 709.448 Q134.468 705.883 134.468 698.776 Q134.468 691.647 132.64 688.105 Q130.834 684.54 127.2 684.54 M127.2 680.837 Q133.01 680.837 136.066 685.443 Q139.144 690.026 139.144 698.776 Q139.144 707.503 136.066 712.11 Q133.01 716.693 127.2 716.693 Q121.39 716.693 118.311 712.11 Q115.256 707.503 115.256 698.776 Q115.256 690.026 118.311 685.443 Q121.39 680.837 127.2 680.837 Z\" fill=\"#000000\" fill-rule=\"evenodd\" fill-opacity=\"1\" /><path clip-path=\"url(#clip620)\" d=\"M147.362 710.142 L152.246 710.142 L152.246 716.022 L147.362 716.022 L147.362 710.142 Z\" fill=\"#000000\" fill-rule=\"evenodd\" fill-opacity=\"1\" /><path clip-path=\"url(#clip620)\" d=\"M161.251 681.462 L183.473 681.462 L183.473 683.452 L170.927 716.022 L166.042 716.022 L177.848 685.397 L161.251 685.397 L161.251 681.462 Z\" fill=\"#000000\" fill-rule=\"evenodd\" fill-opacity=\"1\" /><path clip-path=\"url(#clip620)\" d=\"M192.639 681.462 L210.996 681.462 L210.996 685.397 L196.922 685.397 L196.922 693.869 Q197.94 693.522 198.959 693.36 Q199.977 693.174 200.996 693.174 Q206.783 693.174 210.162 696.346 Q213.542 699.517 213.542 704.934 Q213.542 710.512 210.07 713.614 Q206.598 716.693 200.278 716.693 Q198.102 716.693 195.834 716.322 Q193.588 715.952 191.181 715.211 L191.181 710.512 Q193.264 711.647 195.487 712.202 Q197.709 712.758 200.186 712.758 Q204.19 712.758 206.528 710.651 Q208.866 708.545 208.866 704.934 Q208.866 701.323 206.528 699.216 Q204.19 697.11 200.186 697.11 Q198.311 697.11 196.436 697.526 Q194.584 697.943 192.639 698.823 L192.639 681.462 Z\" fill=\"#000000\" fill-rule=\"evenodd\" fill-opacity=\"1\" /><path clip-path=\"url(#clip620)\" d=\"M117.015 651.302 L124.654 651.302 L124.654 624.937 L116.343 626.603 L116.343 622.344 L124.607 620.678 L129.283 620.678 L129.283 651.302 L136.922 651.302 L136.922 655.238 L117.015 655.238 L117.015 651.302 Z\" fill=\"#000000\" fill-rule=\"evenodd\" fill-opacity=\"1\" /><path clip-path=\"url(#clip620)\" d=\"M146.366 649.358 L151.251 649.358 L151.251 655.238 L146.366 655.238 L146.366 649.358 Z\" fill=\"#000000\" fill-rule=\"evenodd\" fill-opacity=\"1\" /><path clip-path=\"url(#clip620)\" d=\"M171.436 623.756 Q167.825 623.756 165.996 627.321 Q164.19 630.863 164.19 637.992 Q164.19 645.099 165.996 648.664 Q167.825 652.205 171.436 652.205 Q175.07 652.205 176.876 648.664 Q178.704 645.099 178.704 637.992 Q178.704 630.863 176.876 627.321 Q175.07 623.756 171.436 623.756 M171.436 620.053 Q177.246 620.053 180.301 624.659 Q183.38 629.242 183.38 637.992 Q183.38 646.719 180.301 651.326 Q177.246 655.909 171.436 655.909 Q165.626 655.909 162.547 651.326 Q159.491 646.719 159.491 637.992 Q159.491 629.242 162.547 624.659 Q165.626 620.053 171.436 620.053 Z\" fill=\"#000000\" fill-rule=\"evenodd\" fill-opacity=\"1\" /><path clip-path=\"url(#clip620)\" d=\"M201.598 623.756 Q197.987 623.756 196.158 627.321 Q194.352 630.863 194.352 637.992 Q194.352 645.099 196.158 648.664 Q197.987 652.205 201.598 652.205 Q205.232 652.205 207.037 648.664 Q208.866 645.099 208.866 637.992 Q208.866 630.863 207.037 627.321 Q205.232 623.756 201.598 623.756 M201.598 620.053 Q207.408 620.053 210.463 624.659 Q213.542 629.242 213.542 637.992 Q213.542 646.719 210.463 651.326 Q207.408 655.909 201.598 655.909 Q195.787 655.909 192.709 651.326 Q189.653 646.719 189.653 637.992 Q189.653 629.242 192.709 624.659 Q195.787 620.053 201.598 620.053 Z\" fill=\"#000000\" fill-rule=\"evenodd\" fill-opacity=\"1\" /><path clip-path=\"url(#clip620)\" d=\"M67.3143 789.639 Q73.68 792.121 75.6216 794.477 Q77.5631 796.832 77.5631 800.779 L77.5631 805.458 L72.6615 805.458 L72.6615 802.02 Q72.6615 799.601 71.5157 798.264 Q70.3699 796.927 66.1048 795.304 L63.4312 794.254 L28.3562 808.672 L28.3562 802.466 L56.238 791.326 L28.3562 780.186 L28.3562 773.979 L67.3143 789.639 Z\" fill=\"#000000\" fill-rule=\"evenodd\" fill-opacity=\"1\" /><path clip-path=\"url(#clip620)\" d=\"M29.4065 743.169 L34.9447 743.169 Q33.6716 745.652 33.035 748.325 Q32.3984 750.999 32.3984 753.863 Q32.3984 758.224 33.7352 760.42 Q35.072 762.585 37.7456 762.585 Q39.7826 762.585 40.9603 761.025 Q42.1061 759.465 43.1565 754.755 L43.6021 752.749 Q44.9389 746.511 47.3897 743.901 Q49.8086 741.259 54.1691 741.259 Q59.1344 741.259 62.0308 745.206 Q64.9272 749.121 64.9272 755.996 Q64.9272 758.861 64.3543 761.98 Q63.8132 765.067 62.6992 768.505 L56.6518 768.505 Q58.3387 765.258 59.198 762.107 Q60.0256 758.956 60.0256 755.869 Q60.0256 751.731 58.6251 749.503 Q57.1929 747.275 54.6147 747.275 Q52.2276 747.275 50.9545 748.898 Q49.6813 750.49 48.5037 755.932 L48.0262 757.969 Q46.8804 763.412 44.5251 765.831 Q42.138 768.25 38.0002 768.25 Q32.9713 768.25 30.2341 764.685 Q27.4968 761.12 27.4968 754.564 Q27.4968 751.317 27.9743 748.453 Q28.4517 745.588 29.4065 743.169 Z\" fill=\"#000000\" fill-rule=\"evenodd\" fill-opacity=\"1\" /><path clip-path=\"url(#clip620)\" d=\"M58.657 726.268 L77.5631 726.268 L77.5631 732.156 L28.3562 732.156 L28.3562 726.268 L33.7671 726.268 Q30.5842 724.422 29.0564 721.621 Q27.4968 718.788 27.4968 714.874 Q27.4968 708.381 32.6531 704.338 Q37.8093 700.264 46.212 700.264 Q54.6147 700.264 59.771 704.338 Q64.9272 708.381 64.9272 714.874 Q64.9272 718.788 63.3994 721.621 Q61.8398 724.422 58.657 726.268 M46.212 706.343 Q39.7508 706.343 36.0905 709.017 Q32.3984 711.659 32.3984 716.306 Q32.3984 720.953 36.0905 723.626 Q39.7508 726.268 46.212 726.268 Q52.6732 726.268 56.3653 723.626 Q60.0256 720.953 60.0256 716.306 Q60.0256 711.659 56.3653 709.017 Q52.6732 706.343 46.212 706.343 Z\" fill=\"#000000\" fill-rule=\"evenodd\" fill-opacity=\"1\" /><path clip-path=\"url(#clip620)\" d=\"M58.5933 684.191 L58.5933 661.752 L64.0042 661.752 L64.0042 691.925 L58.5933 691.925 Q54.8057 688.265 48.44 681.963 Q42.0425 675.629 40.1964 674.006 Q36.7271 670.918 34.34 669.709 Q31.921 668.468 29.5975 668.468 Q25.8099 668.468 23.4228 671.141 Q21.0356 673.783 21.0356 678.048 Q21.0356 681.072 22.086 684.445 Q23.1363 687.787 25.2688 691.607 L18.7758 691.607 Q17.2162 687.724 16.4205 684.35 Q15.6248 680.976 15.6248 678.175 Q15.6248 670.791 19.3169 666.399 Q23.009 662.006 29.1837 662.006 Q32.112 662.006 34.7537 663.12 Q37.3637 664.203 40.9285 667.099 Q41.8515 667.895 46.2757 672.16 Q50.668 676.425 58.5933 684.191 Z\" fill=\"#000000\" fill-rule=\"evenodd\" fill-opacity=\"1\" /><polyline clip-path=\"url(#clip623)\" style=\"stroke:#000000; stroke-linecap:round; stroke-linejoin:round; stroke-width:4; stroke-opacity:1; fill:none\" stroke-dasharray=\"2, 4\" points=\"309.067,589.33 385.381,589.33 461.695,589.33 538.009,589.33 614.323,589.33 690.637,589.33 766.951,589.33 843.265,589.33 919.579,589.33 995.893,589.33 1072.21,589.33 1148.52,589.33 1224.83,589.33 1301.15,589.33 1377.46,589.33 1453.78,589.33 1530.09,589.33 1606.4,589.33 1682.72,589.33 1759.03,589.33 1835.35,589.33 1911.66,589.33 1987.97,589.33 2064.29,589.33 2140.6,589.33 2216.92,589.33 2293.23,589.33 \"/>\n",
       "<line clip-path=\"url(#clip623)\" x1=\"309.067\" y1=\"589.33\" x2=\"309.067\" y2=\"573.33\" style=\"stroke:#009af9; stroke-width:3.2; stroke-opacity:1\"/>\n",
       "<line clip-path=\"url(#clip623)\" x1=\"309.067\" y1=\"589.33\" x2=\"293.067\" y2=\"589.33\" style=\"stroke:#009af9; stroke-width:3.2; stroke-opacity:1\"/>\n",
       "<line clip-path=\"url(#clip623)\" x1=\"309.067\" y1=\"589.33\" x2=\"309.067\" y2=\"605.33\" style=\"stroke:#009af9; stroke-width:3.2; stroke-opacity:1\"/>\n",
       "<line clip-path=\"url(#clip623)\" x1=\"309.067\" y1=\"589.33\" x2=\"325.067\" y2=\"589.33\" style=\"stroke:#009af9; stroke-width:3.2; stroke-opacity:1\"/>\n",
       "<line clip-path=\"url(#clip623)\" x1=\"385.381\" y1=\"589.33\" x2=\"385.381\" y2=\"573.33\" style=\"stroke:#009af9; stroke-width:3.2; stroke-opacity:1\"/>\n",
       "<line clip-path=\"url(#clip623)\" x1=\"385.381\" y1=\"589.33\" x2=\"369.381\" y2=\"589.33\" style=\"stroke:#009af9; stroke-width:3.2; stroke-opacity:1\"/>\n",
       "<line clip-path=\"url(#clip623)\" x1=\"385.381\" y1=\"589.33\" x2=\"385.381\" y2=\"605.33\" style=\"stroke:#009af9; stroke-width:3.2; stroke-opacity:1\"/>\n",
       "<line clip-path=\"url(#clip623)\" x1=\"385.381\" y1=\"589.33\" x2=\"401.381\" y2=\"589.33\" style=\"stroke:#009af9; stroke-width:3.2; stroke-opacity:1\"/>\n",
       "<line clip-path=\"url(#clip623)\" x1=\"461.695\" y1=\"589.33\" x2=\"461.695\" y2=\"573.33\" style=\"stroke:#009af9; stroke-width:3.2; stroke-opacity:1\"/>\n",
       "<line clip-path=\"url(#clip623)\" x1=\"461.695\" y1=\"589.33\" x2=\"445.695\" y2=\"589.33\" style=\"stroke:#009af9; stroke-width:3.2; stroke-opacity:1\"/>\n",
       "<line clip-path=\"url(#clip623)\" x1=\"461.695\" y1=\"589.33\" x2=\"461.695\" y2=\"605.33\" style=\"stroke:#009af9; stroke-width:3.2; stroke-opacity:1\"/>\n",
       "<line clip-path=\"url(#clip623)\" x1=\"461.695\" y1=\"589.33\" x2=\"477.695\" y2=\"589.33\" style=\"stroke:#009af9; stroke-width:3.2; stroke-opacity:1\"/>\n",
       "<line clip-path=\"url(#clip623)\" x1=\"538.009\" y1=\"589.33\" x2=\"538.009\" y2=\"573.33\" style=\"stroke:#009af9; stroke-width:3.2; stroke-opacity:1\"/>\n",
       "<line clip-path=\"url(#clip623)\" x1=\"538.009\" y1=\"589.33\" x2=\"522.009\" y2=\"589.33\" style=\"stroke:#009af9; stroke-width:3.2; stroke-opacity:1\"/>\n",
       "<line clip-path=\"url(#clip623)\" x1=\"538.009\" y1=\"589.33\" x2=\"538.009\" y2=\"605.33\" style=\"stroke:#009af9; stroke-width:3.2; stroke-opacity:1\"/>\n",
       "<line clip-path=\"url(#clip623)\" x1=\"538.009\" y1=\"589.33\" x2=\"554.009\" y2=\"589.33\" style=\"stroke:#009af9; stroke-width:3.2; stroke-opacity:1\"/>\n",
       "<line clip-path=\"url(#clip623)\" x1=\"614.323\" y1=\"589.33\" x2=\"614.323\" y2=\"573.33\" style=\"stroke:#009af9; stroke-width:3.2; stroke-opacity:1\"/>\n",
       "<line clip-path=\"url(#clip623)\" x1=\"614.323\" y1=\"589.33\" x2=\"598.323\" y2=\"589.33\" style=\"stroke:#009af9; stroke-width:3.2; stroke-opacity:1\"/>\n",
       "<line clip-path=\"url(#clip623)\" x1=\"614.323\" y1=\"589.33\" x2=\"614.323\" y2=\"605.33\" style=\"stroke:#009af9; stroke-width:3.2; stroke-opacity:1\"/>\n",
       "<line clip-path=\"url(#clip623)\" x1=\"614.323\" y1=\"589.33\" x2=\"630.323\" y2=\"589.33\" style=\"stroke:#009af9; stroke-width:3.2; stroke-opacity:1\"/>\n",
       "<line clip-path=\"url(#clip623)\" x1=\"690.637\" y1=\"589.33\" x2=\"690.637\" y2=\"573.33\" style=\"stroke:#009af9; stroke-width:3.2; stroke-opacity:1\"/>\n",
       "<line clip-path=\"url(#clip623)\" x1=\"690.637\" y1=\"589.33\" x2=\"674.637\" y2=\"589.33\" style=\"stroke:#009af9; stroke-width:3.2; stroke-opacity:1\"/>\n",
       "<line clip-path=\"url(#clip623)\" x1=\"690.637\" y1=\"589.33\" x2=\"690.637\" y2=\"605.33\" style=\"stroke:#009af9; stroke-width:3.2; stroke-opacity:1\"/>\n",
       "<line clip-path=\"url(#clip623)\" x1=\"690.637\" y1=\"589.33\" x2=\"706.637\" y2=\"589.33\" style=\"stroke:#009af9; stroke-width:3.2; stroke-opacity:1\"/>\n",
       "<line clip-path=\"url(#clip623)\" x1=\"766.951\" y1=\"707.306\" x2=\"766.951\" y2=\"691.306\" style=\"stroke:#009af9; stroke-width:3.2; stroke-opacity:1\"/>\n",
       "<line clip-path=\"url(#clip623)\" x1=\"766.951\" y1=\"707.306\" x2=\"750.951\" y2=\"707.306\" style=\"stroke:#009af9; stroke-width:3.2; stroke-opacity:1\"/>\n",
       "<line clip-path=\"url(#clip623)\" x1=\"766.951\" y1=\"707.306\" x2=\"766.951\" y2=\"723.306\" style=\"stroke:#009af9; stroke-width:3.2; stroke-opacity:1\"/>\n",
       "<line clip-path=\"url(#clip623)\" x1=\"766.951\" y1=\"707.306\" x2=\"782.951\" y2=\"707.306\" style=\"stroke:#009af9; stroke-width:3.2; stroke-opacity:1\"/>\n",
       "<line clip-path=\"url(#clip623)\" x1=\"843.265\" y1=\"589.33\" x2=\"843.265\" y2=\"573.33\" style=\"stroke:#009af9; stroke-width:3.2; stroke-opacity:1\"/>\n",
       "<line clip-path=\"url(#clip623)\" x1=\"843.265\" y1=\"589.33\" x2=\"827.265\" y2=\"589.33\" style=\"stroke:#009af9; stroke-width:3.2; stroke-opacity:1\"/>\n",
       "<line clip-path=\"url(#clip623)\" x1=\"843.265\" y1=\"589.33\" x2=\"843.265\" y2=\"605.33\" style=\"stroke:#009af9; stroke-width:3.2; stroke-opacity:1\"/>\n",
       "<line clip-path=\"url(#clip623)\" x1=\"843.265\" y1=\"589.33\" x2=\"859.265\" y2=\"589.33\" style=\"stroke:#009af9; stroke-width:3.2; stroke-opacity:1\"/>\n",
       "<line clip-path=\"url(#clip623)\" x1=\"919.579\" y1=\"665.253\" x2=\"919.579\" y2=\"649.253\" style=\"stroke:#009af9; stroke-width:3.2; stroke-opacity:1\"/>\n",
       "<line clip-path=\"url(#clip623)\" x1=\"919.579\" y1=\"665.253\" x2=\"903.579\" y2=\"665.253\" style=\"stroke:#009af9; stroke-width:3.2; stroke-opacity:1\"/>\n",
       "<line clip-path=\"url(#clip623)\" x1=\"919.579\" y1=\"665.253\" x2=\"919.579\" y2=\"681.253\" style=\"stroke:#009af9; stroke-width:3.2; stroke-opacity:1\"/>\n",
       "<line clip-path=\"url(#clip623)\" x1=\"919.579\" y1=\"665.253\" x2=\"935.579\" y2=\"665.253\" style=\"stroke:#009af9; stroke-width:3.2; stroke-opacity:1\"/>\n",
       "<line clip-path=\"url(#clip623)\" x1=\"995.893\" y1=\"589.334\" x2=\"995.893\" y2=\"573.334\" style=\"stroke:#009af9; stroke-width:3.2; stroke-opacity:1\"/>\n",
       "<line clip-path=\"url(#clip623)\" x1=\"995.893\" y1=\"589.334\" x2=\"979.893\" y2=\"589.334\" style=\"stroke:#009af9; stroke-width:3.2; stroke-opacity:1\"/>\n",
       "<line clip-path=\"url(#clip623)\" x1=\"995.893\" y1=\"589.334\" x2=\"995.893\" y2=\"605.334\" style=\"stroke:#009af9; stroke-width:3.2; stroke-opacity:1\"/>\n",
       "<line clip-path=\"url(#clip623)\" x1=\"995.893\" y1=\"589.334\" x2=\"1011.89\" y2=\"589.334\" style=\"stroke:#009af9; stroke-width:3.2; stroke-opacity:1\"/>\n",
       "<line clip-path=\"url(#clip623)\" x1=\"1072.21\" y1=\"618.125\" x2=\"1072.21\" y2=\"602.125\" style=\"stroke:#009af9; stroke-width:3.2; stroke-opacity:1\"/>\n",
       "<line clip-path=\"url(#clip623)\" x1=\"1072.21\" y1=\"618.125\" x2=\"1056.21\" y2=\"618.125\" style=\"stroke:#009af9; stroke-width:3.2; stroke-opacity:1\"/>\n",
       "<line clip-path=\"url(#clip623)\" x1=\"1072.21\" y1=\"618.125\" x2=\"1072.21\" y2=\"634.125\" style=\"stroke:#009af9; stroke-width:3.2; stroke-opacity:1\"/>\n",
       "<line clip-path=\"url(#clip623)\" x1=\"1072.21\" y1=\"618.125\" x2=\"1088.21\" y2=\"618.125\" style=\"stroke:#009af9; stroke-width:3.2; stroke-opacity:1\"/>\n",
       "<line clip-path=\"url(#clip623)\" x1=\"1148.52\" y1=\"707.078\" x2=\"1148.52\" y2=\"691.078\" style=\"stroke:#009af9; stroke-width:3.2; stroke-opacity:1\"/>\n",
       "<line clip-path=\"url(#clip623)\" x1=\"1148.52\" y1=\"707.078\" x2=\"1132.52\" y2=\"707.078\" style=\"stroke:#009af9; stroke-width:3.2; stroke-opacity:1\"/>\n",
       "<line clip-path=\"url(#clip623)\" x1=\"1148.52\" y1=\"707.078\" x2=\"1148.52\" y2=\"723.078\" style=\"stroke:#009af9; stroke-width:3.2; stroke-opacity:1\"/>\n",
       "<line clip-path=\"url(#clip623)\" x1=\"1148.52\" y1=\"707.078\" x2=\"1164.52\" y2=\"707.078\" style=\"stroke:#009af9; stroke-width:3.2; stroke-opacity:1\"/>\n",
       "<line clip-path=\"url(#clip623)\" x1=\"1224.83\" y1=\"589.331\" x2=\"1224.83\" y2=\"573.331\" style=\"stroke:#009af9; stroke-width:3.2; stroke-opacity:1\"/>\n",
       "<line clip-path=\"url(#clip623)\" x1=\"1224.83\" y1=\"589.331\" x2=\"1208.83\" y2=\"589.331\" style=\"stroke:#009af9; stroke-width:3.2; stroke-opacity:1\"/>\n",
       "<line clip-path=\"url(#clip623)\" x1=\"1224.83\" y1=\"589.331\" x2=\"1224.83\" y2=\"605.331\" style=\"stroke:#009af9; stroke-width:3.2; stroke-opacity:1\"/>\n",
       "<line clip-path=\"url(#clip623)\" x1=\"1224.83\" y1=\"589.331\" x2=\"1240.83\" y2=\"589.331\" style=\"stroke:#009af9; stroke-width:3.2; stroke-opacity:1\"/>\n",
       "<line clip-path=\"url(#clip623)\" x1=\"1301.15\" y1=\"589.331\" x2=\"1301.15\" y2=\"573.331\" style=\"stroke:#009af9; stroke-width:3.2; stroke-opacity:1\"/>\n",
       "<line clip-path=\"url(#clip623)\" x1=\"1301.15\" y1=\"589.331\" x2=\"1285.15\" y2=\"589.331\" style=\"stroke:#009af9; stroke-width:3.2; stroke-opacity:1\"/>\n",
       "<line clip-path=\"url(#clip623)\" x1=\"1301.15\" y1=\"589.331\" x2=\"1301.15\" y2=\"605.331\" style=\"stroke:#009af9; stroke-width:3.2; stroke-opacity:1\"/>\n",
       "<line clip-path=\"url(#clip623)\" x1=\"1301.15\" y1=\"589.331\" x2=\"1317.15\" y2=\"589.331\" style=\"stroke:#009af9; stroke-width:3.2; stroke-opacity:1\"/>\n",
       "<line clip-path=\"url(#clip623)\" x1=\"1377.46\" y1=\"605.318\" x2=\"1377.46\" y2=\"589.318\" style=\"stroke:#009af9; stroke-width:3.2; stroke-opacity:1\"/>\n",
       "<line clip-path=\"url(#clip623)\" x1=\"1377.46\" y1=\"605.318\" x2=\"1361.46\" y2=\"605.318\" style=\"stroke:#009af9; stroke-width:3.2; stroke-opacity:1\"/>\n",
       "<line clip-path=\"url(#clip623)\" x1=\"1377.46\" y1=\"605.318\" x2=\"1377.46\" y2=\"621.318\" style=\"stroke:#009af9; stroke-width:3.2; stroke-opacity:1\"/>\n",
       "<line clip-path=\"url(#clip623)\" x1=\"1377.46\" y1=\"605.318\" x2=\"1393.46\" y2=\"605.318\" style=\"stroke:#009af9; stroke-width:3.2; stroke-opacity:1\"/>\n",
       "<line clip-path=\"url(#clip623)\" x1=\"1453.78\" y1=\"646.292\" x2=\"1453.78\" y2=\"630.292\" style=\"stroke:#009af9; stroke-width:3.2; stroke-opacity:1\"/>\n",
       "<line clip-path=\"url(#clip623)\" x1=\"1453.78\" y1=\"646.292\" x2=\"1437.78\" y2=\"646.292\" style=\"stroke:#009af9; stroke-width:3.2; stroke-opacity:1\"/>\n",
       "<line clip-path=\"url(#clip623)\" x1=\"1453.78\" y1=\"646.292\" x2=\"1453.78\" y2=\"662.292\" style=\"stroke:#009af9; stroke-width:3.2; stroke-opacity:1\"/>\n",
       "<line clip-path=\"url(#clip623)\" x1=\"1453.78\" y1=\"646.292\" x2=\"1469.78\" y2=\"646.292\" style=\"stroke:#009af9; stroke-width:3.2; stroke-opacity:1\"/>\n",
       "<line clip-path=\"url(#clip623)\" x1=\"1530.09\" y1=\"589.331\" x2=\"1530.09\" y2=\"573.331\" style=\"stroke:#009af9; stroke-width:3.2; stroke-opacity:1\"/>\n",
       "<line clip-path=\"url(#clip623)\" x1=\"1530.09\" y1=\"589.331\" x2=\"1514.09\" y2=\"589.331\" style=\"stroke:#009af9; stroke-width:3.2; stroke-opacity:1\"/>\n",
       "<line clip-path=\"url(#clip623)\" x1=\"1530.09\" y1=\"589.331\" x2=\"1530.09\" y2=\"605.331\" style=\"stroke:#009af9; stroke-width:3.2; stroke-opacity:1\"/>\n",
       "<line clip-path=\"url(#clip623)\" x1=\"1530.09\" y1=\"589.331\" x2=\"1546.09\" y2=\"589.331\" style=\"stroke:#009af9; stroke-width:3.2; stroke-opacity:1\"/>\n",
       "<line clip-path=\"url(#clip623)\" x1=\"1606.4\" y1=\"649.289\" x2=\"1606.4\" y2=\"633.289\" style=\"stroke:#009af9; stroke-width:3.2; stroke-opacity:1\"/>\n",
       "<line clip-path=\"url(#clip623)\" x1=\"1606.4\" y1=\"649.289\" x2=\"1590.4\" y2=\"649.289\" style=\"stroke:#009af9; stroke-width:3.2; stroke-opacity:1\"/>\n",
       "<line clip-path=\"url(#clip623)\" x1=\"1606.4\" y1=\"649.289\" x2=\"1606.4\" y2=\"665.289\" style=\"stroke:#009af9; stroke-width:3.2; stroke-opacity:1\"/>\n",
       "<line clip-path=\"url(#clip623)\" x1=\"1606.4\" y1=\"649.289\" x2=\"1622.4\" y2=\"649.289\" style=\"stroke:#009af9; stroke-width:3.2; stroke-opacity:1\"/>\n",
       "<line clip-path=\"url(#clip623)\" x1=\"1682.72\" y1=\"728.853\" x2=\"1682.72\" y2=\"712.853\" style=\"stroke:#009af9; stroke-width:3.2; stroke-opacity:1\"/>\n",
       "<line clip-path=\"url(#clip623)\" x1=\"1682.72\" y1=\"728.853\" x2=\"1666.72\" y2=\"728.853\" style=\"stroke:#009af9; stroke-width:3.2; stroke-opacity:1\"/>\n",
       "<line clip-path=\"url(#clip623)\" x1=\"1682.72\" y1=\"728.853\" x2=\"1682.72\" y2=\"744.853\" style=\"stroke:#009af9; stroke-width:3.2; stroke-opacity:1\"/>\n",
       "<line clip-path=\"url(#clip623)\" x1=\"1682.72\" y1=\"728.853\" x2=\"1698.72\" y2=\"728.853\" style=\"stroke:#009af9; stroke-width:3.2; stroke-opacity:1\"/>\n",
       "<line clip-path=\"url(#clip623)\" x1=\"1759.03\" y1=\"589.33\" x2=\"1759.03\" y2=\"573.33\" style=\"stroke:#009af9; stroke-width:3.2; stroke-opacity:1\"/>\n",
       "<line clip-path=\"url(#clip623)\" x1=\"1759.03\" y1=\"589.33\" x2=\"1743.03\" y2=\"589.33\" style=\"stroke:#009af9; stroke-width:3.2; stroke-opacity:1\"/>\n",
       "<line clip-path=\"url(#clip623)\" x1=\"1759.03\" y1=\"589.33\" x2=\"1759.03\" y2=\"605.33\" style=\"stroke:#009af9; stroke-width:3.2; stroke-opacity:1\"/>\n",
       "<line clip-path=\"url(#clip623)\" x1=\"1759.03\" y1=\"589.33\" x2=\"1775.03\" y2=\"589.33\" style=\"stroke:#009af9; stroke-width:3.2; stroke-opacity:1\"/>\n",
       "<line clip-path=\"url(#clip623)\" x1=\"1835.35\" y1=\"589.33\" x2=\"1835.35\" y2=\"573.33\" style=\"stroke:#009af9; stroke-width:3.2; stroke-opacity:1\"/>\n",
       "<line clip-path=\"url(#clip623)\" x1=\"1835.35\" y1=\"589.33\" x2=\"1819.35\" y2=\"589.33\" style=\"stroke:#009af9; stroke-width:3.2; stroke-opacity:1\"/>\n",
       "<line clip-path=\"url(#clip623)\" x1=\"1835.35\" y1=\"589.33\" x2=\"1835.35\" y2=\"605.33\" style=\"stroke:#009af9; stroke-width:3.2; stroke-opacity:1\"/>\n",
       "<line clip-path=\"url(#clip623)\" x1=\"1835.35\" y1=\"589.33\" x2=\"1851.35\" y2=\"589.33\" style=\"stroke:#009af9; stroke-width:3.2; stroke-opacity:1\"/>\n",
       "<line clip-path=\"url(#clip623)\" x1=\"1911.66\" y1=\"589.33\" x2=\"1911.66\" y2=\"573.33\" style=\"stroke:#009af9; stroke-width:3.2; stroke-opacity:1\"/>\n",
       "<line clip-path=\"url(#clip623)\" x1=\"1911.66\" y1=\"589.33\" x2=\"1895.66\" y2=\"589.33\" style=\"stroke:#009af9; stroke-width:3.2; stroke-opacity:1\"/>\n",
       "<line clip-path=\"url(#clip623)\" x1=\"1911.66\" y1=\"589.33\" x2=\"1911.66\" y2=\"605.33\" style=\"stroke:#009af9; stroke-width:3.2; stroke-opacity:1\"/>\n",
       "<line clip-path=\"url(#clip623)\" x1=\"1911.66\" y1=\"589.33\" x2=\"1927.66\" y2=\"589.33\" style=\"stroke:#009af9; stroke-width:3.2; stroke-opacity:1\"/>\n",
       "<line clip-path=\"url(#clip623)\" x1=\"1987.97\" y1=\"589.33\" x2=\"1987.97\" y2=\"573.33\" style=\"stroke:#009af9; stroke-width:3.2; stroke-opacity:1\"/>\n",
       "<line clip-path=\"url(#clip623)\" x1=\"1987.97\" y1=\"589.33\" x2=\"1971.97\" y2=\"589.33\" style=\"stroke:#009af9; stroke-width:3.2; stroke-opacity:1\"/>\n",
       "<line clip-path=\"url(#clip623)\" x1=\"1987.97\" y1=\"589.33\" x2=\"1987.97\" y2=\"605.33\" style=\"stroke:#009af9; stroke-width:3.2; stroke-opacity:1\"/>\n",
       "<line clip-path=\"url(#clip623)\" x1=\"1987.97\" y1=\"589.33\" x2=\"2003.97\" y2=\"589.33\" style=\"stroke:#009af9; stroke-width:3.2; stroke-opacity:1\"/>\n",
       "<line clip-path=\"url(#clip623)\" x1=\"2064.29\" y1=\"589.33\" x2=\"2064.29\" y2=\"573.33\" style=\"stroke:#009af9; stroke-width:3.2; stroke-opacity:1\"/>\n",
       "<line clip-path=\"url(#clip623)\" x1=\"2064.29\" y1=\"589.33\" x2=\"2048.29\" y2=\"589.33\" style=\"stroke:#009af9; stroke-width:3.2; stroke-opacity:1\"/>\n",
       "<line clip-path=\"url(#clip623)\" x1=\"2064.29\" y1=\"589.33\" x2=\"2064.29\" y2=\"605.33\" style=\"stroke:#009af9; stroke-width:3.2; stroke-opacity:1\"/>\n",
       "<line clip-path=\"url(#clip623)\" x1=\"2064.29\" y1=\"589.33\" x2=\"2080.29\" y2=\"589.33\" style=\"stroke:#009af9; stroke-width:3.2; stroke-opacity:1\"/>\n",
       "<line clip-path=\"url(#clip623)\" x1=\"2140.6\" y1=\"598.15\" x2=\"2140.6\" y2=\"582.15\" style=\"stroke:#009af9; stroke-width:3.2; stroke-opacity:1\"/>\n",
       "<line clip-path=\"url(#clip623)\" x1=\"2140.6\" y1=\"598.15\" x2=\"2124.6\" y2=\"598.15\" style=\"stroke:#009af9; stroke-width:3.2; stroke-opacity:1\"/>\n",
       "<line clip-path=\"url(#clip623)\" x1=\"2140.6\" y1=\"598.15\" x2=\"2140.6\" y2=\"614.15\" style=\"stroke:#009af9; stroke-width:3.2; stroke-opacity:1\"/>\n",
       "<line clip-path=\"url(#clip623)\" x1=\"2140.6\" y1=\"598.15\" x2=\"2156.6\" y2=\"598.15\" style=\"stroke:#009af9; stroke-width:3.2; stroke-opacity:1\"/>\n",
       "<line clip-path=\"url(#clip623)\" x1=\"2216.92\" y1=\"881.088\" x2=\"2216.92\" y2=\"865.088\" style=\"stroke:#009af9; stroke-width:3.2; stroke-opacity:1\"/>\n",
       "<line clip-path=\"url(#clip623)\" x1=\"2216.92\" y1=\"881.088\" x2=\"2200.92\" y2=\"881.088\" style=\"stroke:#009af9; stroke-width:3.2; stroke-opacity:1\"/>\n",
       "<line clip-path=\"url(#clip623)\" x1=\"2216.92\" y1=\"881.088\" x2=\"2216.92\" y2=\"897.088\" style=\"stroke:#009af9; stroke-width:3.2; stroke-opacity:1\"/>\n",
       "<line clip-path=\"url(#clip623)\" x1=\"2216.92\" y1=\"881.088\" x2=\"2232.92\" y2=\"881.088\" style=\"stroke:#009af9; stroke-width:3.2; stroke-opacity:1\"/>\n",
       "<line clip-path=\"url(#clip623)\" x1=\"2293.23\" y1=\"679.456\" x2=\"2293.23\" y2=\"663.456\" style=\"stroke:#009af9; stroke-width:3.2; stroke-opacity:1\"/>\n",
       "<line clip-path=\"url(#clip623)\" x1=\"2293.23\" y1=\"679.456\" x2=\"2277.23\" y2=\"679.456\" style=\"stroke:#009af9; stroke-width:3.2; stroke-opacity:1\"/>\n",
       "<line clip-path=\"url(#clip623)\" x1=\"2293.23\" y1=\"679.456\" x2=\"2293.23\" y2=\"695.456\" style=\"stroke:#009af9; stroke-width:3.2; stroke-opacity:1\"/>\n",
       "<line clip-path=\"url(#clip623)\" x1=\"2293.23\" y1=\"679.456\" x2=\"2309.23\" y2=\"679.456\" style=\"stroke:#009af9; stroke-width:3.2; stroke-opacity:1\"/>\n",
       "<polyline clip-path=\"url(#clip623)\" style=\"stroke:#ff0000; stroke-linecap:round; stroke-linejoin:round; stroke-width:20; stroke-opacity:0.3; fill:none\" points=\"309.067,589.33 309.067,589.33 385.381,589.33 385.381,589.33 461.695,589.33 461.695,589.33 538.009,589.33 538.009,589.33 614.323,589.33 614.323,589.33 690.637,589.33 690.637,707.306 766.951,707.306 766.951,589.33 843.265,589.33 843.265,665.253 919.579,665.253 919.579,589.334 995.893,589.334 995.893,618.125 1072.21,618.125 1072.21,707.078 1148.52,707.078 1148.52,589.331 1224.83,589.331 1224.83,589.331 1301.15,589.331 1301.15,605.318 1377.46,605.318 1377.46,646.292 1453.78,646.292 1453.78,589.331 1530.09,589.331 1530.09,649.289 1606.4,649.289 1606.4,728.853 1682.72,728.853 1682.72,589.33 1759.03,589.33 1759.03,589.33 1835.35,589.33 1835.35,589.33 1911.66,589.33 1911.66,589.33 1987.97,589.33 1987.97,589.33 2064.29,589.33 2064.29,598.15 2140.6,598.15 2140.6,881.088 2216.92,881.088 2216.92,679.456 2293.23,679.456 \"/>\n",
       "<circle clip-path=\"url(#clip623)\" cx=\"309.067\" cy=\"589.33\" r=\"14.4\" fill=\"#e26f46\" fill-rule=\"evenodd\" fill-opacity=\"1\" stroke=\"#000000\" stroke-opacity=\"1\" stroke-width=\"3.2\"/>\n",
       "<circle clip-path=\"url(#clip623)\" cx=\"385.381\" cy=\"589.33\" r=\"14.4\" fill=\"#e26f46\" fill-rule=\"evenodd\" fill-opacity=\"1\" stroke=\"#000000\" stroke-opacity=\"1\" stroke-width=\"3.2\"/>\n",
       "<circle clip-path=\"url(#clip623)\" cx=\"461.695\" cy=\"589.33\" r=\"14.4\" fill=\"#e26f46\" fill-rule=\"evenodd\" fill-opacity=\"1\" stroke=\"#000000\" stroke-opacity=\"1\" stroke-width=\"3.2\"/>\n",
       "<circle clip-path=\"url(#clip623)\" cx=\"538.009\" cy=\"589.33\" r=\"14.4\" fill=\"#e26f46\" fill-rule=\"evenodd\" fill-opacity=\"1\" stroke=\"#000000\" stroke-opacity=\"1\" stroke-width=\"3.2\"/>\n",
       "<circle clip-path=\"url(#clip623)\" cx=\"614.323\" cy=\"589.33\" r=\"14.4\" fill=\"#e26f46\" fill-rule=\"evenodd\" fill-opacity=\"1\" stroke=\"#000000\" stroke-opacity=\"1\" stroke-width=\"3.2\"/>\n",
       "<circle clip-path=\"url(#clip623)\" cx=\"690.637\" cy=\"589.33\" r=\"14.4\" fill=\"#e26f46\" fill-rule=\"evenodd\" fill-opacity=\"1\" stroke=\"#000000\" stroke-opacity=\"1\" stroke-width=\"3.2\"/>\n",
       "<circle clip-path=\"url(#clip623)\" cx=\"766.951\" cy=\"707.308\" r=\"14.4\" fill=\"#e26f46\" fill-rule=\"evenodd\" fill-opacity=\"1\" stroke=\"#000000\" stroke-opacity=\"1\" stroke-width=\"3.2\"/>\n",
       "<circle clip-path=\"url(#clip623)\" cx=\"843.265\" cy=\"589.33\" r=\"14.4\" fill=\"#e26f46\" fill-rule=\"evenodd\" fill-opacity=\"1\" stroke=\"#000000\" stroke-opacity=\"1\" stroke-width=\"3.2\"/>\n",
       "<circle clip-path=\"url(#clip623)\" cx=\"919.579\" cy=\"665.255\" r=\"14.4\" fill=\"#e26f46\" fill-rule=\"evenodd\" fill-opacity=\"1\" stroke=\"#000000\" stroke-opacity=\"1\" stroke-width=\"3.2\"/>\n",
       "<circle clip-path=\"url(#clip623)\" cx=\"995.893\" cy=\"589.33\" r=\"14.4\" fill=\"#e26f46\" fill-rule=\"evenodd\" fill-opacity=\"1\" stroke=\"#000000\" stroke-opacity=\"1\" stroke-width=\"3.2\"/>\n",
       "<circle clip-path=\"url(#clip623)\" cx=\"1072.21\" cy=\"618.117\" r=\"14.4\" fill=\"#e26f46\" fill-rule=\"evenodd\" fill-opacity=\"1\" stroke=\"#000000\" stroke-opacity=\"1\" stroke-width=\"3.2\"/>\n",
       "<circle clip-path=\"url(#clip623)\" cx=\"1148.52\" cy=\"707.089\" r=\"14.4\" fill=\"#e26f46\" fill-rule=\"evenodd\" fill-opacity=\"1\" stroke=\"#000000\" stroke-opacity=\"1\" stroke-width=\"3.2\"/>\n",
       "<circle clip-path=\"url(#clip623)\" cx=\"1224.83\" cy=\"589.33\" r=\"14.4\" fill=\"#e26f46\" fill-rule=\"evenodd\" fill-opacity=\"1\" stroke=\"#000000\" stroke-opacity=\"1\" stroke-width=\"3.2\"/>\n",
       "<circle clip-path=\"url(#clip623)\" cx=\"1301.15\" cy=\"589.33\" r=\"14.4\" fill=\"#e26f46\" fill-rule=\"evenodd\" fill-opacity=\"1\" stroke=\"#000000\" stroke-opacity=\"1\" stroke-width=\"3.2\"/>\n",
       "<circle clip-path=\"url(#clip623)\" cx=\"1377.46\" cy=\"605.316\" r=\"14.4\" fill=\"#e26f46\" fill-rule=\"evenodd\" fill-opacity=\"1\" stroke=\"#000000\" stroke-opacity=\"1\" stroke-width=\"3.2\"/>\n",
       "<circle clip-path=\"url(#clip623)\" cx=\"1453.78\" cy=\"646.297\" r=\"14.4\" fill=\"#e26f46\" fill-rule=\"evenodd\" fill-opacity=\"1\" stroke=\"#000000\" stroke-opacity=\"1\" stroke-width=\"3.2\"/>\n",
       "<circle clip-path=\"url(#clip623)\" cx=\"1530.09\" cy=\"589.33\" r=\"14.4\" fill=\"#e26f46\" fill-rule=\"evenodd\" fill-opacity=\"1\" stroke=\"#000000\" stroke-opacity=\"1\" stroke-width=\"3.2\"/>\n",
       "<circle clip-path=\"url(#clip623)\" cx=\"1606.4\" cy=\"649.262\" r=\"14.4\" fill=\"#e26f46\" fill-rule=\"evenodd\" fill-opacity=\"1\" stroke=\"#000000\" stroke-opacity=\"1\" stroke-width=\"3.2\"/>\n",
       "<circle clip-path=\"url(#clip623)\" cx=\"1682.72\" cy=\"728.881\" r=\"14.4\" fill=\"#e26f46\" fill-rule=\"evenodd\" fill-opacity=\"1\" stroke=\"#000000\" stroke-opacity=\"1\" stroke-width=\"3.2\"/>\n",
       "<circle clip-path=\"url(#clip623)\" cx=\"1759.03\" cy=\"589.33\" r=\"14.4\" fill=\"#e26f46\" fill-rule=\"evenodd\" fill-opacity=\"1\" stroke=\"#000000\" stroke-opacity=\"1\" stroke-width=\"3.2\"/>\n",
       "<circle clip-path=\"url(#clip623)\" cx=\"1835.35\" cy=\"589.33\" r=\"14.4\" fill=\"#e26f46\" fill-rule=\"evenodd\" fill-opacity=\"1\" stroke=\"#000000\" stroke-opacity=\"1\" stroke-width=\"3.2\"/>\n",
       "<circle clip-path=\"url(#clip623)\" cx=\"1911.66\" cy=\"589.33\" r=\"14.4\" fill=\"#e26f46\" fill-rule=\"evenodd\" fill-opacity=\"1\" stroke=\"#000000\" stroke-opacity=\"1\" stroke-width=\"3.2\"/>\n",
       "<circle clip-path=\"url(#clip623)\" cx=\"1987.97\" cy=\"589.33\" r=\"14.4\" fill=\"#e26f46\" fill-rule=\"evenodd\" fill-opacity=\"1\" stroke=\"#000000\" stroke-opacity=\"1\" stroke-width=\"3.2\"/>\n",
       "<circle clip-path=\"url(#clip623)\" cx=\"2064.29\" cy=\"589.33\" r=\"14.4\" fill=\"#e26f46\" fill-rule=\"evenodd\" fill-opacity=\"1\" stroke=\"#000000\" stroke-opacity=\"1\" stroke-width=\"3.2\"/>\n",
       "<circle clip-path=\"url(#clip623)\" cx=\"2140.6\" cy=\"598.119\" r=\"14.4\" fill=\"#e26f46\" fill-rule=\"evenodd\" fill-opacity=\"1\" stroke=\"#000000\" stroke-opacity=\"1\" stroke-width=\"3.2\"/>\n",
       "<circle clip-path=\"url(#clip623)\" cx=\"2216.92\" cy=\"881.094\" r=\"14.4\" fill=\"#e26f46\" fill-rule=\"evenodd\" fill-opacity=\"1\" stroke=\"#000000\" stroke-opacity=\"1\" stroke-width=\"3.2\"/>\n",
       "<circle clip-path=\"url(#clip623)\" cx=\"2293.23\" cy=\"679.49\" r=\"14.4\" fill=\"#e26f46\" fill-rule=\"evenodd\" fill-opacity=\"1\" stroke=\"#000000\" stroke-opacity=\"1\" stroke-width=\"3.2\"/>\n",
       "<polyline clip-path=\"url(#clip623)\" style=\"stroke:#80007f; stroke-linecap:round; stroke-linejoin:round; stroke-width:20; stroke-opacity:0.3; fill:none\" points=\"309.067,589.33 309.067,589.33 385.381,589.33 461.695,589.33 538.009,589.33 614.323,589.33 690.637,589.33 690.637,707.308 766.951,707.308 766.951,589.33 843.265,589.33 843.265,665.255 919.579,665.255 919.579,589.33 995.893,589.33 995.893,618.117 1072.21,618.117 1072.21,707.089 1148.52,707.089 1148.52,589.33 1224.83,589.33 1301.15,589.33 1301.15,605.316 1377.46,605.316 1377.46,646.297 1453.78,646.297 1453.78,589.33 1530.09,589.33 1530.09,649.262 1606.4,649.262 1606.4,728.881 1682.72,728.881 1682.72,589.33 1759.03,589.33 1835.35,589.33 1911.66,589.33 1987.97,589.33 2064.29,589.33 2064.29,598.119 2140.6,598.119 2140.6,881.094 2216.92,881.094 2216.92,679.49 2293.23,679.49 \"/>\n",
       "<path clip-path=\"url(#clip623)\" d=\"M309.067 573.33 L293.067 589.33 L309.067 605.33 L325.067 589.33 L309.067 573.33 Z\" fill=\"#3da44d\" fill-rule=\"evenodd\" fill-opacity=\"1\" stroke=\"#000000\" stroke-opacity=\"1\" stroke-width=\"3.2\"/>\n",
       "<path clip-path=\"url(#clip623)\" d=\"M385.381 573.33 L369.381 589.33 L385.381 605.33 L401.381 589.33 L385.381 573.33 Z\" fill=\"#3da44d\" fill-rule=\"evenodd\" fill-opacity=\"1\" stroke=\"#000000\" stroke-opacity=\"1\" stroke-width=\"3.2\"/>\n",
       "<path clip-path=\"url(#clip623)\" d=\"M461.695 573.33 L445.695 589.33 L461.695 605.33 L477.695 589.33 L461.695 573.33 Z\" fill=\"#3da44d\" fill-rule=\"evenodd\" fill-opacity=\"1\" stroke=\"#000000\" stroke-opacity=\"1\" stroke-width=\"3.2\"/>\n",
       "<path clip-path=\"url(#clip623)\" d=\"M538.009 573.33 L522.009 589.33 L538.009 605.33 L554.009 589.33 L538.009 573.33 Z\" fill=\"#3da44d\" fill-rule=\"evenodd\" fill-opacity=\"1\" stroke=\"#000000\" stroke-opacity=\"1\" stroke-width=\"3.2\"/>\n",
       "<path clip-path=\"url(#clip623)\" d=\"M614.323 573.33 L598.323 589.33 L614.323 605.33 L630.323 589.33 L614.323 573.33 Z\" fill=\"#3da44d\" fill-rule=\"evenodd\" fill-opacity=\"1\" stroke=\"#000000\" stroke-opacity=\"1\" stroke-width=\"3.2\"/>\n",
       "<path clip-path=\"url(#clip623)\" d=\"M690.637 573.331 L674.637 589.331 L690.637 605.331 L706.637 589.331 L690.637 573.331 Z\" fill=\"#3da44d\" fill-rule=\"evenodd\" fill-opacity=\"1\" stroke=\"#000000\" stroke-opacity=\"1\" stroke-width=\"3.2\"/>\n",
       "<path clip-path=\"url(#clip623)\" d=\"M766.951 691.287 L750.951 707.287 L766.951 723.287 L782.951 707.287 L766.951 691.287 Z\" fill=\"#3da44d\" fill-rule=\"evenodd\" fill-opacity=\"1\" stroke=\"#000000\" stroke-opacity=\"1\" stroke-width=\"3.2\"/>\n",
       "<path clip-path=\"url(#clip623)\" d=\"M843.265 573.331 L827.265 589.331 L843.265 605.331 L859.265 589.331 L843.265 573.331 Z\" fill=\"#3da44d\" fill-rule=\"evenodd\" fill-opacity=\"1\" stroke=\"#000000\" stroke-opacity=\"1\" stroke-width=\"3.2\"/>\n",
       "<path clip-path=\"url(#clip623)\" d=\"M919.579 649.262 L903.579 665.262 L919.579 681.262 L935.579 665.262 L919.579 649.262 Z\" fill=\"#3da44d\" fill-rule=\"evenodd\" fill-opacity=\"1\" stroke=\"#000000\" stroke-opacity=\"1\" stroke-width=\"3.2\"/>\n",
       "<path clip-path=\"url(#clip623)\" d=\"M995.893 573.378 L979.893 589.378 L995.893 605.378 L1011.89 589.378 L995.893 573.378 Z\" fill=\"#3da44d\" fill-rule=\"evenodd\" fill-opacity=\"1\" stroke=\"#000000\" stroke-opacity=\"1\" stroke-width=\"3.2\"/>\n",
       "<path clip-path=\"url(#clip623)\" d=\"M1072.21 602.159 L1056.21 618.159 L1072.21 634.159 L1088.21 618.159 L1072.21 602.159 Z\" fill=\"#3da44d\" fill-rule=\"evenodd\" fill-opacity=\"1\" stroke=\"#000000\" stroke-opacity=\"1\" stroke-width=\"3.2\"/>\n",
       "<path clip-path=\"url(#clip623)\" d=\"M1148.52 690.968 L1132.52 706.968 L1148.52 722.968 L1164.52 706.968 L1148.52 690.968 Z\" fill=\"#3da44d\" fill-rule=\"evenodd\" fill-opacity=\"1\" stroke=\"#000000\" stroke-opacity=\"1\" stroke-width=\"3.2\"/>\n",
       "<path clip-path=\"url(#clip623)\" d=\"M1224.83 573.337 L1208.83 589.337 L1224.83 605.337 L1240.83 589.337 L1224.83 573.337 Z\" fill=\"#3da44d\" fill-rule=\"evenodd\" fill-opacity=\"1\" stroke=\"#000000\" stroke-opacity=\"1\" stroke-width=\"3.2\"/>\n",
       "<path clip-path=\"url(#clip623)\" d=\"M1301.15 573.335 L1285.15 589.335 L1301.15 605.335 L1317.15 589.335 L1301.15 573.335 Z\" fill=\"#3da44d\" fill-rule=\"evenodd\" fill-opacity=\"1\" stroke=\"#000000\" stroke-opacity=\"1\" stroke-width=\"3.2\"/>\n",
       "<path clip-path=\"url(#clip623)\" d=\"M1377.46 589.351 L1361.46 605.351 L1377.46 621.351 L1393.46 605.351 L1377.46 589.351 Z\" fill=\"#3da44d\" fill-rule=\"evenodd\" fill-opacity=\"1\" stroke=\"#000000\" stroke-opacity=\"1\" stroke-width=\"3.2\"/>\n",
       "<path clip-path=\"url(#clip623)\" d=\"M1453.78 630.238 L1437.78 646.238 L1453.78 662.238 L1469.78 646.238 L1453.78 630.238 Z\" fill=\"#3da44d\" fill-rule=\"evenodd\" fill-opacity=\"1\" stroke=\"#000000\" stroke-opacity=\"1\" stroke-width=\"3.2\"/>\n",
       "<path clip-path=\"url(#clip623)\" d=\"M1530.09 573.339 L1514.09 589.339 L1530.09 605.339 L1546.09 589.339 L1530.09 573.339 Z\" fill=\"#3da44d\" fill-rule=\"evenodd\" fill-opacity=\"1\" stroke=\"#000000\" stroke-opacity=\"1\" stroke-width=\"3.2\"/>\n",
       "<path clip-path=\"url(#clip623)\" d=\"M1606.4 633.647 L1590.4 649.647 L1606.4 665.647 L1622.4 649.647 L1606.4 633.647 Z\" fill=\"#3da44d\" fill-rule=\"evenodd\" fill-opacity=\"1\" stroke=\"#000000\" stroke-opacity=\"1\" stroke-width=\"3.2\"/>\n",
       "<path clip-path=\"url(#clip623)\" d=\"M1682.72 712.459 L1666.72 728.459 L1682.72 744.459 L1698.72 728.459 L1682.72 712.459 Z\" fill=\"#3da44d\" fill-rule=\"evenodd\" fill-opacity=\"1\" stroke=\"#000000\" stroke-opacity=\"1\" stroke-width=\"3.2\"/>\n",
       "<path clip-path=\"url(#clip623)\" d=\"M1759.03 573.332 L1743.03 589.332 L1759.03 605.332 L1775.03 589.332 L1759.03 573.332 Z\" fill=\"#3da44d\" fill-rule=\"evenodd\" fill-opacity=\"1\" stroke=\"#000000\" stroke-opacity=\"1\" stroke-width=\"3.2\"/>\n",
       "<path clip-path=\"url(#clip623)\" d=\"M1835.35 573.331 L1819.35 589.331 L1835.35 605.331 L1851.35 589.331 L1835.35 573.331 Z\" fill=\"#3da44d\" fill-rule=\"evenodd\" fill-opacity=\"1\" stroke=\"#000000\" stroke-opacity=\"1\" stroke-width=\"3.2\"/>\n",
       "<path clip-path=\"url(#clip623)\" d=\"M1911.66 573.331 L1895.66 589.331 L1911.66 605.331 L1927.66 589.331 L1911.66 573.331 Z\" fill=\"#3da44d\" fill-rule=\"evenodd\" fill-opacity=\"1\" stroke=\"#000000\" stroke-opacity=\"1\" stroke-width=\"3.2\"/>\n",
       "<path clip-path=\"url(#clip623)\" d=\"M1987.97 573.331 L1971.97 589.331 L1987.97 605.331 L2003.97 589.331 L1987.97 573.331 Z\" fill=\"#3da44d\" fill-rule=\"evenodd\" fill-opacity=\"1\" stroke=\"#000000\" stroke-opacity=\"1\" stroke-width=\"3.2\"/>\n",
       "<path clip-path=\"url(#clip623)\" d=\"M2064.29 573.333 L2048.29 589.333 L2064.29 605.333 L2080.29 589.333 L2064.29 573.333 Z\" fill=\"#3da44d\" fill-rule=\"evenodd\" fill-opacity=\"1\" stroke=\"#000000\" stroke-opacity=\"1\" stroke-width=\"3.2\"/>\n",
       "<path clip-path=\"url(#clip623)\" d=\"M2140.6 582.621 L2124.6 598.621 L2140.6 614.621 L2156.6 598.621 L2140.6 582.621 Z\" fill=\"#3da44d\" fill-rule=\"evenodd\" fill-opacity=\"1\" stroke=\"#000000\" stroke-opacity=\"1\" stroke-width=\"3.2\"/>\n",
       "<path clip-path=\"url(#clip623)\" d=\"M2216.92 865.01 L2200.92 881.01 L2216.92 897.01 L2232.92 881.01 L2216.92 865.01 Z\" fill=\"#3da44d\" fill-rule=\"evenodd\" fill-opacity=\"1\" stroke=\"#000000\" stroke-opacity=\"1\" stroke-width=\"3.2\"/>\n",
       "<path clip-path=\"url(#clip623)\" d=\"M2293.23 662.936 L2277.23 678.936 L2293.23 694.936 L2309.23 678.936 L2293.23 662.936 Z\" fill=\"#3da44d\" fill-rule=\"evenodd\" fill-opacity=\"1\" stroke=\"#000000\" stroke-opacity=\"1\" stroke-width=\"3.2\"/>\n",
       "<polyline clip-path=\"url(#clip623)\" style=\"stroke:#0000ff; stroke-linecap:round; stroke-linejoin:round; stroke-width:20; stroke-opacity:0.3; fill:none\" points=\"309.067,589.33 309.067,589.33 385.381,589.33 385.381,589.33 461.695,589.33 461.695,589.33 538.009,589.33 538.009,589.33 614.323,589.33 614.323,589.331 690.637,589.331 690.637,707.287 766.951,707.287 766.951,589.331 843.265,589.331 843.265,665.262 919.579,665.262 919.579,589.378 995.893,589.378 995.893,618.159 1072.21,618.159 1072.21,706.968 1148.52,706.968 1148.52,589.337 1224.83,589.337 1224.83,589.335 1301.15,589.335 1301.15,605.351 1377.46,605.351 1377.46,646.238 1453.78,646.238 1453.78,589.339 1530.09,589.339 1530.09,649.647 1606.4,649.647 1606.4,728.459 1682.72,728.459 1682.72,589.332 1759.03,589.332 1759.03,589.331 1835.35,589.331 1835.35,589.331 1911.66,589.331 1911.66,589.331 1987.97,589.331 1987.97,589.333 2064.29,589.333 2064.29,598.621 2140.6,598.621 2140.6,881.01 2216.92,881.01 2216.92,678.936 2293.23,678.936 \"/>\n",
       "<path clip-path=\"url(#clip620)\" d=\"M249.542 1423.18 L2352.76 1423.18 L2352.76 1113.91 L249.542 1113.91  Z\" fill=\"#ffffff\" fill-rule=\"evenodd\" fill-opacity=\"1\"/>\n",
       "<defs>\n",
       "  <clipPath id=\"clip624\">\n",
       "    <rect x=\"249\" y=\"1113\" width=\"2104\" height=\"310\"/>\n",
       "  </clipPath>\n",
       "</defs>\n",
       "<polyline clip-path=\"url(#clip624)\" style=\"stroke:#000000; stroke-linecap:round; stroke-linejoin:round; stroke-width:8; stroke-opacity:0.1; fill:none\" points=\"614.323,1423.18 614.323,1113.91 \"/>\n",
       "<polyline clip-path=\"url(#clip624)\" style=\"stroke:#000000; stroke-linecap:round; stroke-linejoin:round; stroke-width:8; stroke-opacity:0.1; fill:none\" points=\"995.893,1423.18 995.893,1113.91 \"/>\n",
       "<polyline clip-path=\"url(#clip624)\" style=\"stroke:#000000; stroke-linecap:round; stroke-linejoin:round; stroke-width:8; stroke-opacity:0.1; fill:none\" points=\"1377.46,1423.18 1377.46,1113.91 \"/>\n",
       "<polyline clip-path=\"url(#clip624)\" style=\"stroke:#000000; stroke-linecap:round; stroke-linejoin:round; stroke-width:8; stroke-opacity:0.1; fill:none\" points=\"1759.03,1423.18 1759.03,1113.91 \"/>\n",
       "<polyline clip-path=\"url(#clip624)\" style=\"stroke:#000000; stroke-linecap:round; stroke-linejoin:round; stroke-width:8; stroke-opacity:0.1; fill:none\" points=\"2140.6,1423.18 2140.6,1113.91 \"/>\n",
       "<polyline clip-path=\"url(#clip620)\" style=\"stroke:#000000; stroke-linecap:round; stroke-linejoin:round; stroke-width:4; stroke-opacity:1; fill:none\" points=\"249.542,1423.18 2352.76,1423.18 \"/>\n",
       "<polyline clip-path=\"url(#clip620)\" style=\"stroke:#000000; stroke-linecap:round; stroke-linejoin:round; stroke-width:4; stroke-opacity:1; fill:none\" points=\"614.323,1423.18 614.323,1404.28 \"/>\n",
       "<polyline clip-path=\"url(#clip620)\" style=\"stroke:#000000; stroke-linecap:round; stroke-linejoin:round; stroke-width:4; stroke-opacity:1; fill:none\" points=\"995.893,1423.18 995.893,1404.28 \"/>\n",
       "<polyline clip-path=\"url(#clip620)\" style=\"stroke:#000000; stroke-linecap:round; stroke-linejoin:round; stroke-width:4; stroke-opacity:1; fill:none\" points=\"1377.46,1423.18 1377.46,1404.28 \"/>\n",
       "<polyline clip-path=\"url(#clip620)\" style=\"stroke:#000000; stroke-linecap:round; stroke-linejoin:round; stroke-width:4; stroke-opacity:1; fill:none\" points=\"1759.03,1423.18 1759.03,1404.28 \"/>\n",
       "<polyline clip-path=\"url(#clip620)\" style=\"stroke:#000000; stroke-linecap:round; stroke-linejoin:round; stroke-width:4; stroke-opacity:1; fill:none\" points=\"2140.6,1423.18 2140.6,1404.28 \"/>\n",
       "<path clip-path=\"url(#clip620)\" d=\"M604.601 1451.02 L622.957 1451.02 L622.957 1454.96 L608.883 1454.96 L608.883 1463.43 Q609.902 1463.08 610.92 1462.92 Q611.939 1462.73 612.957 1462.73 Q618.744 1462.73 622.124 1465.9 Q625.503 1469.08 625.503 1474.49 Q625.503 1480.07 622.031 1483.17 Q618.559 1486.25 612.24 1486.25 Q610.064 1486.25 607.795 1485.88 Q605.55 1485.51 603.142 1484.77 L603.142 1480.07 Q605.226 1481.2 607.448 1481.76 Q609.67 1482.32 612.147 1482.32 Q616.152 1482.32 618.49 1480.21 Q620.828 1478.1 620.828 1474.49 Q620.828 1470.88 618.49 1468.77 Q616.152 1466.67 612.147 1466.67 Q610.272 1466.67 608.397 1467.08 Q606.545 1467.5 604.601 1468.38 L604.601 1451.02 Z\" fill=\"#000000\" fill-rule=\"evenodd\" fill-opacity=\"1\" /><path clip-path=\"url(#clip620)\" d=\"M970.581 1481.64 L978.219 1481.64 L978.219 1455.28 L969.909 1456.95 L969.909 1452.69 L978.173 1451.02 L982.849 1451.02 L982.849 1481.64 L990.488 1481.64 L990.488 1485.58 L970.581 1485.58 L970.581 1481.64 Z\" fill=\"#000000\" fill-rule=\"evenodd\" fill-opacity=\"1\" /><path clip-path=\"url(#clip620)\" d=\"M1009.93 1454.1 Q1006.32 1454.1 1004.49 1457.66 Q1002.69 1461.2 1002.69 1468.33 Q1002.69 1475.44 1004.49 1479.01 Q1006.32 1482.55 1009.93 1482.55 Q1013.57 1482.55 1015.37 1479.01 Q1017.2 1475.44 1017.2 1468.33 Q1017.2 1461.2 1015.37 1457.66 Q1013.57 1454.1 1009.93 1454.1 M1009.93 1450.39 Q1015.74 1450.39 1018.8 1455 Q1021.88 1459.58 1021.88 1468.33 Q1021.88 1477.06 1018.8 1481.67 Q1015.74 1486.25 1009.93 1486.25 Q1004.12 1486.25 1001.04 1481.67 Q997.988 1477.06 997.988 1468.33 Q997.988 1459.58 1001.04 1455 Q1004.12 1450.39 1009.93 1450.39 Z\" fill=\"#000000\" fill-rule=\"evenodd\" fill-opacity=\"1\" /><path clip-path=\"url(#clip620)\" d=\"M1352.65 1481.64 L1360.29 1481.64 L1360.29 1455.28 L1351.98 1456.95 L1351.98 1452.69 L1360.24 1451.02 L1364.92 1451.02 L1364.92 1481.64 L1372.56 1481.64 L1372.56 1485.58 L1352.65 1485.58 L1352.65 1481.64 Z\" fill=\"#000000\" fill-rule=\"evenodd\" fill-opacity=\"1\" /><path clip-path=\"url(#clip620)\" d=\"M1382.05 1451.02 L1400.4 1451.02 L1400.4 1454.96 L1386.33 1454.96 L1386.33 1463.43 Q1387.35 1463.08 1388.37 1462.92 Q1389.38 1462.73 1390.4 1462.73 Q1396.19 1462.73 1399.57 1465.9 Q1402.95 1469.08 1402.95 1474.49 Q1402.95 1480.07 1399.48 1483.17 Q1396 1486.25 1389.69 1486.25 Q1387.51 1486.25 1385.24 1485.88 Q1383 1485.51 1380.59 1484.77 L1380.59 1480.07 Q1382.67 1481.2 1384.89 1481.76 Q1387.12 1482.32 1389.59 1482.32 Q1393.6 1482.32 1395.94 1480.21 Q1398.27 1478.1 1398.27 1474.49 Q1398.27 1470.88 1395.94 1468.77 Q1393.6 1466.67 1389.59 1466.67 Q1387.72 1466.67 1385.84 1467.08 Q1383.99 1467.5 1382.05 1468.38 L1382.05 1451.02 Z\" fill=\"#000000\" fill-rule=\"evenodd\" fill-opacity=\"1\" /><path clip-path=\"url(#clip620)\" d=\"M1737.81 1481.64 L1754.13 1481.64 L1754.13 1485.58 L1732.18 1485.58 L1732.18 1481.64 Q1734.84 1478.89 1739.43 1474.26 Q1744.03 1469.61 1745.21 1468.27 Q1747.46 1465.74 1748.34 1464.01 Q1749.24 1462.25 1749.24 1460.56 Q1749.24 1457.8 1747.3 1456.07 Q1745.38 1454.33 1742.27 1454.33 Q1740.07 1454.33 1737.62 1455.09 Q1735.19 1455.86 1732.41 1457.41 L1732.41 1452.69 Q1735.24 1451.55 1737.69 1450.97 Q1740.14 1450.39 1742.18 1450.39 Q1747.55 1450.39 1750.75 1453.08 Q1753.94 1455.77 1753.94 1460.26 Q1753.94 1462.39 1753.13 1464.31 Q1752.34 1466.2 1750.24 1468.8 Q1749.66 1469.47 1746.56 1472.69 Q1743.45 1475.88 1737.81 1481.64 Z\" fill=\"#000000\" fill-rule=\"evenodd\" fill-opacity=\"1\" /><path clip-path=\"url(#clip620)\" d=\"M1773.94 1454.1 Q1770.33 1454.1 1768.5 1457.66 Q1766.69 1461.2 1766.69 1468.33 Q1766.69 1475.44 1768.5 1479.01 Q1770.33 1482.55 1773.94 1482.55 Q1777.57 1482.55 1779.38 1479.01 Q1781.21 1475.44 1781.21 1468.33 Q1781.21 1461.2 1779.38 1457.66 Q1777.57 1454.1 1773.94 1454.1 M1773.94 1450.39 Q1779.75 1450.39 1782.81 1455 Q1785.88 1459.58 1785.88 1468.33 Q1785.88 1477.06 1782.81 1481.67 Q1779.75 1486.25 1773.94 1486.25 Q1768.13 1486.25 1765.05 1481.67 Q1762 1477.06 1762 1468.33 Q1762 1459.58 1765.05 1455 Q1768.13 1450.39 1773.94 1450.39 Z\" fill=\"#000000\" fill-rule=\"evenodd\" fill-opacity=\"1\" /><path clip-path=\"url(#clip620)\" d=\"M2119.87 1481.64 L2136.19 1481.64 L2136.19 1485.58 L2114.25 1485.58 L2114.25 1481.64 Q2116.91 1478.89 2121.49 1474.26 Q2126.1 1469.61 2127.28 1468.27 Q2129.53 1465.74 2130.41 1464.01 Q2131.31 1462.25 2131.31 1460.56 Q2131.31 1457.8 2129.36 1456.07 Q2127.44 1454.33 2124.34 1454.33 Q2122.14 1454.33 2119.69 1455.09 Q2117.26 1455.86 2114.48 1457.41 L2114.48 1452.69 Q2117.3 1451.55 2119.76 1450.97 Q2122.21 1450.39 2124.25 1450.39 Q2129.62 1450.39 2132.81 1453.08 Q2136.01 1455.77 2136.01 1460.26 Q2136.01 1462.39 2135.2 1464.31 Q2134.41 1466.2 2132.3 1468.8 Q2131.73 1469.47 2128.62 1472.69 Q2125.52 1475.88 2119.87 1481.64 Z\" fill=\"#000000\" fill-rule=\"evenodd\" fill-opacity=\"1\" /><path clip-path=\"url(#clip620)\" d=\"M2146.05 1451.02 L2164.41 1451.02 L2164.41 1454.96 L2150.34 1454.96 L2150.34 1463.43 Q2151.36 1463.08 2152.37 1462.92 Q2153.39 1462.73 2154.41 1462.73 Q2160.2 1462.73 2163.58 1465.9 Q2166.96 1469.08 2166.96 1474.49 Q2166.96 1480.07 2163.48 1483.17 Q2160.01 1486.25 2153.69 1486.25 Q2151.52 1486.25 2149.25 1485.88 Q2147 1485.51 2144.6 1484.77 L2144.6 1480.07 Q2146.68 1481.2 2148.9 1481.76 Q2151.12 1482.32 2153.6 1482.32 Q2157.61 1482.32 2159.94 1480.21 Q2162.28 1478.1 2162.28 1474.49 Q2162.28 1470.88 2159.94 1468.77 Q2157.61 1466.67 2153.6 1466.67 Q2151.73 1466.67 2149.85 1467.08 Q2148 1467.5 2146.05 1468.38 L2146.05 1451.02 Z\" fill=\"#000000\" fill-rule=\"evenodd\" fill-opacity=\"1\" /><path clip-path=\"url(#clip620)\" d=\"M1195.29 1522.27 L1195.29 1532.4 L1207.35 1532.4 L1207.35 1536.95 L1195.29 1536.95 L1195.29 1556.3 Q1195.29 1560.66 1196.46 1561.9 Q1197.67 1563.14 1201.33 1563.14 L1207.35 1563.14 L1207.35 1568.04 L1201.33 1568.04 Q1194.56 1568.04 1191.98 1565.53 Q1189.4 1562.98 1189.4 1556.3 L1189.4 1536.95 L1185.1 1536.95 L1185.1 1532.4 L1189.4 1532.4 L1189.4 1522.27 L1195.29 1522.27 Z\" fill=\"#000000\" fill-rule=\"evenodd\" fill-opacity=\"1\" /><path clip-path=\"url(#clip620)\" d=\"M1215.05 1532.4 L1220.91 1532.4 L1220.91 1568.04 L1215.05 1568.04 L1215.05 1532.4 M1215.05 1518.52 L1220.91 1518.52 L1220.91 1525.93 L1215.05 1525.93 L1215.05 1518.52 Z\" fill=\"#000000\" fill-rule=\"evenodd\" fill-opacity=\"1\" /><path clip-path=\"url(#clip620)\" d=\"M1260.92 1539.24 Q1263.11 1535.29 1266.17 1533.41 Q1269.22 1531.54 1273.36 1531.54 Q1278.93 1531.54 1281.96 1535.45 Q1284.98 1539.33 1284.98 1546.53 L1284.98 1568.04 L1279.09 1568.04 L1279.09 1546.72 Q1279.09 1541.59 1277.28 1539.11 Q1275.46 1536.63 1271.74 1536.63 Q1267.19 1536.63 1264.55 1539.65 Q1261.9 1542.68 1261.9 1547.9 L1261.9 1568.04 L1256.02 1568.04 L1256.02 1546.72 Q1256.02 1541.56 1254.2 1539.11 Q1252.39 1536.63 1248.6 1536.63 Q1244.11 1536.63 1241.47 1539.68 Q1238.83 1542.71 1238.83 1547.9 L1238.83 1568.04 L1232.94 1568.04 L1232.94 1532.4 L1238.83 1532.4 L1238.83 1537.93 Q1240.83 1534.66 1243.63 1533.1 Q1246.44 1531.54 1250.29 1531.54 Q1254.17 1531.54 1256.88 1533.51 Q1259.61 1535.48 1260.92 1539.24 Z\" fill=\"#000000\" fill-rule=\"evenodd\" fill-opacity=\"1\" /><path clip-path=\"url(#clip620)\" d=\"M1327.15 1548.76 L1327.15 1551.62 L1300.23 1551.62 Q1300.61 1557.67 1303.85 1560.85 Q1307.13 1564 1312.96 1564 Q1316.33 1564 1319.48 1563.17 Q1322.67 1562.35 1325.78 1560.69 L1325.78 1566.23 Q1322.63 1567.57 1319.32 1568.27 Q1316.01 1568.97 1312.61 1568.97 Q1304.08 1568.97 1299.08 1564 Q1294.11 1559.04 1294.11 1550.57 Q1294.11 1541.82 1298.83 1536.69 Q1303.57 1531.54 1311.59 1531.54 Q1318.78 1531.54 1322.95 1536.18 Q1327.15 1540.8 1327.15 1548.76 M1321.3 1547.04 Q1321.23 1542.23 1318.59 1539.37 Q1315.98 1536.5 1311.65 1536.5 Q1306.75 1536.5 1303.79 1539.27 Q1300.86 1542.04 1300.42 1547.07 L1321.3 1547.04 Z\" fill=\"#000000\" fill-rule=\"evenodd\" fill-opacity=\"1\" /><path clip-path=\"url(#clip620)\" d=\"M1336.22 1518.52 L1349.72 1518.52 L1349.72 1523.07 L1342.08 1523.07 L1342.08 1572.09 L1349.72 1572.09 L1349.72 1576.64 L1336.22 1576.64 L1336.22 1518.52 Z\" fill=\"#000000\" fill-rule=\"evenodd\" fill-opacity=\"1\" /><path clip-path=\"url(#clip620)\" d=\"M1391.83 1546.53 L1391.83 1568.04 L1385.97 1568.04 L1385.97 1546.72 Q1385.97 1541.66 1384 1539.14 Q1382.03 1536.63 1378.08 1536.63 Q1373.34 1536.63 1370.6 1539.65 Q1367.86 1542.68 1367.86 1547.9 L1367.86 1568.04 L1361.97 1568.04 L1361.97 1518.52 L1367.86 1518.52 L1367.86 1537.93 Q1369.96 1534.72 1372.79 1533.13 Q1375.66 1531.54 1379.38 1531.54 Q1385.53 1531.54 1388.68 1535.36 Q1391.83 1539.14 1391.83 1546.53 Z\" fill=\"#000000\" fill-rule=\"evenodd\" fill-opacity=\"1\" /><path clip-path=\"url(#clip620)\" d=\"M1417.2 1518.52 L1417.2 1576.64 L1403.7 1576.64 L1403.7 1572.09 L1411.31 1572.09 L1411.31 1523.07 L1403.7 1523.07 L1403.7 1518.52 L1417.2 1518.52 Z\" fill=\"#000000\" fill-rule=\"evenodd\" fill-opacity=\"1\" /><polyline clip-path=\"url(#clip624)\" style=\"stroke:#000000; stroke-linecap:round; stroke-linejoin:round; stroke-width:8; stroke-opacity:0.1; fill:none\" points=\"249.542,1378.8 2352.76,1378.8 \"/>\n",
       "<polyline clip-path=\"url(#clip624)\" style=\"stroke:#000000; stroke-linecap:round; stroke-linejoin:round; stroke-width:8; stroke-opacity:0.1; fill:none\" points=\"249.542,1311.39 2352.76,1311.39 \"/>\n",
       "<polyline clip-path=\"url(#clip624)\" style=\"stroke:#000000; stroke-linecap:round; stroke-linejoin:round; stroke-width:8; stroke-opacity:0.1; fill:none\" points=\"249.542,1243.99 2352.76,1243.99 \"/>\n",
       "<polyline clip-path=\"url(#clip624)\" style=\"stroke:#000000; stroke-linecap:round; stroke-linejoin:round; stroke-width:8; stroke-opacity:0.1; fill:none\" points=\"249.542,1176.59 2352.76,1176.59 \"/>\n",
       "<polyline clip-path=\"url(#clip620)\" style=\"stroke:#000000; stroke-linecap:round; stroke-linejoin:round; stroke-width:4; stroke-opacity:1; fill:none\" points=\"249.542,1423.18 249.542,1113.91 \"/>\n",
       "<polyline clip-path=\"url(#clip620)\" style=\"stroke:#000000; stroke-linecap:round; stroke-linejoin:round; stroke-width:4; stroke-opacity:1; fill:none\" points=\"249.542,1378.8 268.44,1378.8 \"/>\n",
       "<polyline clip-path=\"url(#clip620)\" style=\"stroke:#000000; stroke-linecap:round; stroke-linejoin:round; stroke-width:4; stroke-opacity:1; fill:none\" points=\"249.542,1311.39 268.44,1311.39 \"/>\n",
       "<polyline clip-path=\"url(#clip620)\" style=\"stroke:#000000; stroke-linecap:round; stroke-linejoin:round; stroke-width:4; stroke-opacity:1; fill:none\" points=\"249.542,1243.99 268.44,1243.99 \"/>\n",
       "<polyline clip-path=\"url(#clip620)\" style=\"stroke:#000000; stroke-linecap:round; stroke-linejoin:round; stroke-width:4; stroke-opacity:1; fill:none\" points=\"249.542,1176.59 268.44,1176.59 \"/>\n",
       "<path clip-path=\"url(#clip620)\" d=\"M127.2 1364.59 Q123.589 1364.59 121.76 1368.16 Q119.955 1371.7 119.955 1378.83 Q119.955 1385.94 121.76 1389.5 Q123.589 1393.04 127.2 1393.04 Q130.834 1393.04 132.64 1389.5 Q134.468 1385.94 134.468 1378.83 Q134.468 1371.7 132.64 1368.16 Q130.834 1364.59 127.2 1364.59 M127.2 1360.89 Q133.01 1360.89 136.066 1365.5 Q139.144 1370.08 139.144 1378.83 Q139.144 1387.56 136.066 1392.16 Q133.01 1396.75 127.2 1396.75 Q121.39 1396.75 118.311 1392.16 Q115.256 1387.56 115.256 1378.83 Q115.256 1370.08 118.311 1365.5 Q121.39 1360.89 127.2 1360.89 Z\" fill=\"#000000\" fill-rule=\"evenodd\" fill-opacity=\"1\" /><path clip-path=\"url(#clip620)\" d=\"M147.362 1390.2 L152.246 1390.2 L152.246 1396.08 L147.362 1396.08 L147.362 1390.2 Z\" fill=\"#000000\" fill-rule=\"evenodd\" fill-opacity=\"1\" /><path clip-path=\"url(#clip620)\" d=\"M166.459 1392.14 L182.778 1392.14 L182.778 1396.08 L160.834 1396.08 L160.834 1392.14 Q163.496 1389.39 168.079 1384.76 Q172.686 1380.1 173.866 1378.76 Q176.112 1376.24 176.991 1374.5 Q177.894 1372.74 177.894 1371.05 Q177.894 1368.3 175.95 1366.56 Q174.028 1364.83 170.927 1364.83 Q168.727 1364.83 166.274 1365.59 Q163.843 1366.35 161.065 1367.9 L161.065 1363.18 Q163.89 1362.05 166.343 1361.47 Q168.797 1360.89 170.834 1360.89 Q176.204 1360.89 179.399 1363.58 Q182.593 1366.26 182.593 1370.75 Q182.593 1372.88 181.783 1374.8 Q180.996 1376.7 178.889 1379.29 Q178.311 1379.97 175.209 1383.18 Q172.107 1386.38 166.459 1392.14 Z\" fill=\"#000000\" fill-rule=\"evenodd\" fill-opacity=\"1\" /><path clip-path=\"url(#clip620)\" d=\"M192.639 1361.52 L210.996 1361.52 L210.996 1365.45 L196.922 1365.45 L196.922 1373.92 Q197.94 1373.58 198.959 1373.41 Q199.977 1373.23 200.996 1373.23 Q206.783 1373.23 210.162 1376.4 Q213.542 1379.57 213.542 1384.99 Q213.542 1390.57 210.07 1393.67 Q206.598 1396.75 200.278 1396.75 Q198.102 1396.75 195.834 1396.38 Q193.588 1396.01 191.181 1395.27 L191.181 1390.57 Q193.264 1391.7 195.487 1392.26 Q197.709 1392.81 200.186 1392.81 Q204.19 1392.81 206.528 1390.71 Q208.866 1388.6 208.866 1384.99 Q208.866 1381.38 206.528 1379.27 Q204.19 1377.16 200.186 1377.16 Q198.311 1377.16 196.436 1377.58 Q194.584 1378 192.639 1378.88 L192.639 1361.52 Z\" fill=\"#000000\" fill-rule=\"evenodd\" fill-opacity=\"1\" /><path clip-path=\"url(#clip620)\" d=\"M126.205 1297.19 Q122.593 1297.19 120.765 1300.76 Q118.959 1304.3 118.959 1311.43 Q118.959 1318.53 120.765 1322.1 Q122.593 1325.64 126.205 1325.64 Q129.839 1325.64 131.644 1322.1 Q133.473 1318.53 133.473 1311.43 Q133.473 1304.3 131.644 1300.76 Q129.839 1297.19 126.205 1297.19 M126.205 1293.49 Q132.015 1293.49 135.07 1298.09 Q138.149 1302.68 138.149 1311.43 Q138.149 1320.15 135.07 1324.76 Q132.015 1329.34 126.205 1329.34 Q120.394 1329.34 117.316 1324.76 Q114.26 1320.15 114.26 1311.43 Q114.26 1302.68 117.316 1298.09 Q120.394 1293.49 126.205 1293.49 Z\" fill=\"#000000\" fill-rule=\"evenodd\" fill-opacity=\"1\" /><path clip-path=\"url(#clip620)\" d=\"M146.366 1322.79 L151.251 1322.79 L151.251 1328.67 L146.366 1328.67 L146.366 1322.79 Z\" fill=\"#000000\" fill-rule=\"evenodd\" fill-opacity=\"1\" /><path clip-path=\"url(#clip620)\" d=\"M161.482 1294.11 L179.839 1294.11 L179.839 1298.05 L165.765 1298.05 L165.765 1306.52 Q166.783 1306.17 167.802 1306.01 Q168.82 1305.83 169.839 1305.83 Q175.626 1305.83 179.005 1309 Q182.385 1312.17 182.385 1317.58 Q182.385 1323.16 178.913 1326.27 Q175.44 1329.34 169.121 1329.34 Q166.945 1329.34 164.677 1328.97 Q162.431 1328.6 160.024 1327.86 L160.024 1323.16 Q162.107 1324.3 164.329 1324.85 Q166.552 1325.41 169.028 1325.41 Q173.033 1325.41 175.371 1323.3 Q177.709 1321.2 177.709 1317.58 Q177.709 1313.97 175.371 1311.87 Q173.033 1309.76 169.028 1309.76 Q167.153 1309.76 165.278 1310.18 Q163.427 1310.59 161.482 1311.47 L161.482 1294.11 Z\" fill=\"#000000\" fill-rule=\"evenodd\" fill-opacity=\"1\" /><path clip-path=\"url(#clip620)\" d=\"M201.598 1297.19 Q197.987 1297.19 196.158 1300.76 Q194.352 1304.3 194.352 1311.43 Q194.352 1318.53 196.158 1322.1 Q197.987 1325.64 201.598 1325.64 Q205.232 1325.64 207.037 1322.1 Q208.866 1318.53 208.866 1311.43 Q208.866 1304.3 207.037 1300.76 Q205.232 1297.19 201.598 1297.19 M201.598 1293.49 Q207.408 1293.49 210.463 1298.09 Q213.542 1302.68 213.542 1311.43 Q213.542 1320.15 210.463 1324.76 Q207.408 1329.34 201.598 1329.34 Q195.787 1329.34 192.709 1324.76 Q189.653 1320.15 189.653 1311.43 Q189.653 1302.68 192.709 1298.09 Q195.787 1293.49 201.598 1293.49 Z\" fill=\"#000000\" fill-rule=\"evenodd\" fill-opacity=\"1\" /><path clip-path=\"url(#clip620)\" d=\"M127.2 1229.79 Q123.589 1229.79 121.76 1233.35 Q119.955 1236.89 119.955 1244.02 Q119.955 1251.13 121.76 1254.7 Q123.589 1258.24 127.2 1258.24 Q130.834 1258.24 132.64 1254.7 Q134.468 1251.13 134.468 1244.02 Q134.468 1236.89 132.64 1233.35 Q130.834 1229.79 127.2 1229.79 M127.2 1226.08 Q133.01 1226.08 136.066 1230.69 Q139.144 1235.27 139.144 1244.02 Q139.144 1252.75 136.066 1257.36 Q133.01 1261.94 127.2 1261.94 Q121.39 1261.94 118.311 1257.36 Q115.256 1252.75 115.256 1244.02 Q115.256 1235.27 118.311 1230.69 Q121.39 1226.08 127.2 1226.08 Z\" fill=\"#000000\" fill-rule=\"evenodd\" fill-opacity=\"1\" /><path clip-path=\"url(#clip620)\" d=\"M147.362 1255.39 L152.246 1255.39 L152.246 1261.27 L147.362 1261.27 L147.362 1255.39 Z\" fill=\"#000000\" fill-rule=\"evenodd\" fill-opacity=\"1\" /><path clip-path=\"url(#clip620)\" d=\"M161.251 1226.71 L183.473 1226.71 L183.473 1228.7 L170.927 1261.27 L166.042 1261.27 L177.848 1230.64 L161.251 1230.64 L161.251 1226.71 Z\" fill=\"#000000\" fill-rule=\"evenodd\" fill-opacity=\"1\" /><path clip-path=\"url(#clip620)\" d=\"M192.639 1226.71 L210.996 1226.71 L210.996 1230.64 L196.922 1230.64 L196.922 1239.12 Q197.94 1238.77 198.959 1238.61 Q199.977 1238.42 200.996 1238.42 Q206.783 1238.42 210.162 1241.59 Q213.542 1244.77 213.542 1250.18 Q213.542 1255.76 210.07 1258.86 Q206.598 1261.94 200.278 1261.94 Q198.102 1261.94 195.834 1261.57 Q193.588 1261.2 191.181 1260.46 L191.181 1255.76 Q193.264 1256.89 195.487 1257.45 Q197.709 1258.01 200.186 1258.01 Q204.19 1258.01 206.528 1255.9 Q208.866 1253.79 208.866 1250.18 Q208.866 1246.57 206.528 1244.46 Q204.19 1242.36 200.186 1242.36 Q198.311 1242.36 196.436 1242.77 Q194.584 1243.19 192.639 1244.07 L192.639 1226.71 Z\" fill=\"#000000\" fill-rule=\"evenodd\" fill-opacity=\"1\" /><path clip-path=\"url(#clip620)\" d=\"M117.015 1189.93 L124.654 1189.93 L124.654 1163.57 L116.343 1165.23 L116.343 1160.97 L124.607 1159.31 L129.283 1159.31 L129.283 1189.93 L136.922 1189.93 L136.922 1193.87 L117.015 1193.87 L117.015 1189.93 Z\" fill=\"#000000\" fill-rule=\"evenodd\" fill-opacity=\"1\" /><path clip-path=\"url(#clip620)\" d=\"M146.366 1187.99 L151.251 1187.99 L151.251 1193.87 L146.366 1193.87 L146.366 1187.99 Z\" fill=\"#000000\" fill-rule=\"evenodd\" fill-opacity=\"1\" /><path clip-path=\"url(#clip620)\" d=\"M171.436 1162.38 Q167.825 1162.38 165.996 1165.95 Q164.19 1169.49 164.19 1176.62 Q164.19 1183.73 165.996 1187.29 Q167.825 1190.83 171.436 1190.83 Q175.07 1190.83 176.876 1187.29 Q178.704 1183.73 178.704 1176.62 Q178.704 1169.49 176.876 1165.95 Q175.07 1162.38 171.436 1162.38 M171.436 1158.68 Q177.246 1158.68 180.301 1163.29 Q183.38 1167.87 183.38 1176.62 Q183.38 1185.35 180.301 1189.95 Q177.246 1194.54 171.436 1194.54 Q165.626 1194.54 162.547 1189.95 Q159.491 1185.35 159.491 1176.62 Q159.491 1167.87 162.547 1163.29 Q165.626 1158.68 171.436 1158.68 Z\" fill=\"#000000\" fill-rule=\"evenodd\" fill-opacity=\"1\" /><path clip-path=\"url(#clip620)\" d=\"M201.598 1162.38 Q197.987 1162.38 196.158 1165.95 Q194.352 1169.49 194.352 1176.62 Q194.352 1183.73 196.158 1187.29 Q197.987 1190.83 201.598 1190.83 Q205.232 1190.83 207.037 1187.29 Q208.866 1183.73 208.866 1176.62 Q208.866 1169.49 207.037 1165.95 Q205.232 1162.38 201.598 1162.38 M201.598 1158.68 Q207.408 1158.68 210.463 1163.29 Q213.542 1167.87 213.542 1176.62 Q213.542 1185.35 210.463 1189.95 Q207.408 1194.54 201.598 1194.54 Q195.787 1194.54 192.709 1189.95 Q189.653 1185.35 189.653 1176.62 Q189.653 1167.87 192.709 1163.29 Q195.787 1158.68 201.598 1158.68 Z\" fill=\"#000000\" fill-rule=\"evenodd\" fill-opacity=\"1\" /><path clip-path=\"url(#clip620)\" d=\"M67.3143 1323.62 Q73.68 1326.11 75.6216 1328.46 Q77.5631 1330.82 77.5631 1334.76 L77.5631 1339.44 L72.6615 1339.44 L72.6615 1336.01 Q72.6615 1333.59 71.5157 1332.25 Q70.3699 1330.91 66.1048 1329.29 L63.4312 1328.24 L28.3562 1342.66 L28.3562 1336.45 L56.238 1325.31 L28.3562 1314.17 L28.3562 1307.96 L67.3143 1323.62 Z\" fill=\"#000000\" fill-rule=\"evenodd\" fill-opacity=\"1\" /><path clip-path=\"url(#clip620)\" d=\"M29.4065 1277.15 L34.9447 1277.15 Q33.6716 1279.64 33.035 1282.31 Q32.3984 1284.98 32.3984 1287.85 Q32.3984 1292.21 33.7352 1294.41 Q35.072 1296.57 37.7456 1296.57 Q39.7826 1296.57 40.9603 1295.01 Q42.1061 1293.45 43.1565 1288.74 L43.6021 1286.74 Q44.9389 1280.5 47.3897 1277.89 Q49.8086 1275.25 54.1691 1275.25 Q59.1344 1275.25 62.0308 1279.19 Q64.9272 1283.11 64.9272 1289.98 Q64.9272 1292.85 64.3543 1295.97 Q63.8132 1299.05 62.6992 1302.49 L56.6518 1302.49 Q58.3387 1299.24 59.198 1296.09 Q60.0256 1292.94 60.0256 1289.85 Q60.0256 1285.72 58.6251 1283.49 Q57.1929 1281.26 54.6147 1281.26 Q52.2276 1281.26 50.9545 1282.88 Q49.6813 1284.48 48.5037 1289.92 L48.0262 1291.96 Q46.8804 1297.4 44.5251 1299.82 Q42.138 1302.24 38.0002 1302.24 Q32.9713 1302.24 30.2341 1298.67 Q27.4968 1295.11 27.4968 1288.55 Q27.4968 1285.3 27.9743 1282.44 Q28.4517 1279.57 29.4065 1277.15 Z\" fill=\"#000000\" fill-rule=\"evenodd\" fill-opacity=\"1\" /><path clip-path=\"url(#clip620)\" d=\"M58.657 1260.25 L77.5631 1260.25 L77.5631 1266.14 L28.3562 1266.14 L28.3562 1260.25 L33.7671 1260.25 Q30.5842 1258.41 29.0564 1255.61 Q27.4968 1252.77 27.4968 1248.86 Q27.4968 1242.37 32.6531 1238.32 Q37.8093 1234.25 46.212 1234.25 Q54.6147 1234.25 59.771 1238.32 Q64.9272 1242.37 64.9272 1248.86 Q64.9272 1252.77 63.3994 1255.61 Q61.8398 1258.41 58.657 1260.25 M46.212 1240.33 Q39.7508 1240.33 36.0905 1243 Q32.3984 1245.64 32.3984 1250.29 Q32.3984 1254.94 36.0905 1257.61 Q39.7508 1260.25 46.212 1260.25 Q52.6732 1260.25 56.3653 1257.61 Q60.0256 1254.94 60.0256 1250.29 Q60.0256 1245.64 56.3653 1243 Q52.6732 1240.33 46.212 1240.33 Z\" fill=\"#000000\" fill-rule=\"evenodd\" fill-opacity=\"1\" /><path clip-path=\"url(#clip620)\" d=\"M38.3822 1204.24 Q39.3689 1199.62 42.4881 1197.04 Q45.6073 1194.43 50.1906 1194.43 Q57.2247 1194.43 61.0759 1199.27 Q64.9272 1204.11 64.9272 1213.02 Q64.9272 1216.01 64.3224 1219.2 Q63.7495 1222.35 62.5719 1225.72 L56.3653 1225.72 Q57.9249 1223.05 58.7206 1219.86 Q59.5163 1216.68 59.5163 1213.21 Q59.5163 1207.16 57.1292 1204.01 Q54.7421 1200.83 50.1906 1200.83 Q45.9892 1200.83 43.6339 1203.79 Q41.2468 1206.72 41.2468 1211.97 L41.2468 1217.51 L35.9632 1217.51 L35.9632 1211.72 Q35.9632 1206.97 34.0853 1204.46 Q32.1756 1201.94 28.6108 1201.94 Q24.9505 1201.94 23.009 1204.55 Q21.0356 1207.13 21.0356 1211.97 Q21.0356 1214.61 21.6086 1217.64 Q22.1815 1220.66 23.3909 1224.29 L17.6618 1224.29 Q16.6433 1220.63 16.134 1217.44 Q15.6248 1214.23 15.6248 1211.4 Q15.6248 1204.08 18.9668 1199.81 Q22.277 1195.55 27.9424 1195.55 Q31.8892 1195.55 34.6264 1197.81 Q37.3318 1200.07 38.3822 1204.24 Z\" fill=\"#000000\" fill-rule=\"evenodd\" fill-opacity=\"1\" /><polyline clip-path=\"url(#clip624)\" style=\"stroke:#000000; stroke-linecap:round; stroke-linejoin:round; stroke-width:4; stroke-opacity:1; fill:none\" stroke-dasharray=\"2, 4\" points=\"309.067,1122.66 385.381,1122.66 461.695,1122.66 538.009,1122.66 614.323,1122.66 690.637,1122.66 766.951,1122.66 843.265,1122.66 919.579,1122.66 995.893,1122.66 1072.21,1122.66 1148.52,1122.66 1224.83,1122.66 1301.15,1122.66 1377.46,1122.66 1453.78,1122.66 1530.09,1122.66 1606.4,1122.66 1682.72,1122.66 1759.03,1122.66 1835.35,1122.66 1911.66,1122.66 1987.97,1122.66 2064.29,1122.66 2140.6,1122.66 2216.92,1122.66 2293.23,1122.66 \"/>\n",
       "<line clip-path=\"url(#clip624)\" x1=\"309.067\" y1=\"1122.66\" x2=\"309.067\" y2=\"1106.66\" style=\"stroke:#009af9; stroke-width:3.2; stroke-opacity:1\"/>\n",
       "<line clip-path=\"url(#clip624)\" x1=\"309.067\" y1=\"1122.66\" x2=\"293.067\" y2=\"1122.66\" style=\"stroke:#009af9; stroke-width:3.2; stroke-opacity:1\"/>\n",
       "<line clip-path=\"url(#clip624)\" x1=\"309.067\" y1=\"1122.66\" x2=\"309.067\" y2=\"1138.66\" style=\"stroke:#009af9; stroke-width:3.2; stroke-opacity:1\"/>\n",
       "<line clip-path=\"url(#clip624)\" x1=\"309.067\" y1=\"1122.66\" x2=\"325.067\" y2=\"1122.66\" style=\"stroke:#009af9; stroke-width:3.2; stroke-opacity:1\"/>\n",
       "<line clip-path=\"url(#clip624)\" x1=\"385.381\" y1=\"1122.66\" x2=\"385.381\" y2=\"1106.66\" style=\"stroke:#009af9; stroke-width:3.2; stroke-opacity:1\"/>\n",
       "<line clip-path=\"url(#clip624)\" x1=\"385.381\" y1=\"1122.66\" x2=\"369.381\" y2=\"1122.66\" style=\"stroke:#009af9; stroke-width:3.2; stroke-opacity:1\"/>\n",
       "<line clip-path=\"url(#clip624)\" x1=\"385.381\" y1=\"1122.66\" x2=\"385.381\" y2=\"1138.66\" style=\"stroke:#009af9; stroke-width:3.2; stroke-opacity:1\"/>\n",
       "<line clip-path=\"url(#clip624)\" x1=\"385.381\" y1=\"1122.66\" x2=\"401.381\" y2=\"1122.66\" style=\"stroke:#009af9; stroke-width:3.2; stroke-opacity:1\"/>\n",
       "<line clip-path=\"url(#clip624)\" x1=\"461.695\" y1=\"1122.66\" x2=\"461.695\" y2=\"1106.66\" style=\"stroke:#009af9; stroke-width:3.2; stroke-opacity:1\"/>\n",
       "<line clip-path=\"url(#clip624)\" x1=\"461.695\" y1=\"1122.66\" x2=\"445.695\" y2=\"1122.66\" style=\"stroke:#009af9; stroke-width:3.2; stroke-opacity:1\"/>\n",
       "<line clip-path=\"url(#clip624)\" x1=\"461.695\" y1=\"1122.66\" x2=\"461.695\" y2=\"1138.66\" style=\"stroke:#009af9; stroke-width:3.2; stroke-opacity:1\"/>\n",
       "<line clip-path=\"url(#clip624)\" x1=\"461.695\" y1=\"1122.66\" x2=\"477.695\" y2=\"1122.66\" style=\"stroke:#009af9; stroke-width:3.2; stroke-opacity:1\"/>\n",
       "<line clip-path=\"url(#clip624)\" x1=\"538.009\" y1=\"1122.66\" x2=\"538.009\" y2=\"1106.66\" style=\"stroke:#009af9; stroke-width:3.2; stroke-opacity:1\"/>\n",
       "<line clip-path=\"url(#clip624)\" x1=\"538.009\" y1=\"1122.66\" x2=\"522.009\" y2=\"1122.66\" style=\"stroke:#009af9; stroke-width:3.2; stroke-opacity:1\"/>\n",
       "<line clip-path=\"url(#clip624)\" x1=\"538.009\" y1=\"1122.66\" x2=\"538.009\" y2=\"1138.66\" style=\"stroke:#009af9; stroke-width:3.2; stroke-opacity:1\"/>\n",
       "<line clip-path=\"url(#clip624)\" x1=\"538.009\" y1=\"1122.66\" x2=\"554.009\" y2=\"1122.66\" style=\"stroke:#009af9; stroke-width:3.2; stroke-opacity:1\"/>\n",
       "<line clip-path=\"url(#clip624)\" x1=\"614.323\" y1=\"1122.66\" x2=\"614.323\" y2=\"1106.66\" style=\"stroke:#009af9; stroke-width:3.2; stroke-opacity:1\"/>\n",
       "<line clip-path=\"url(#clip624)\" x1=\"614.323\" y1=\"1122.66\" x2=\"598.323\" y2=\"1122.66\" style=\"stroke:#009af9; stroke-width:3.2; stroke-opacity:1\"/>\n",
       "<line clip-path=\"url(#clip624)\" x1=\"614.323\" y1=\"1122.66\" x2=\"614.323\" y2=\"1138.66\" style=\"stroke:#009af9; stroke-width:3.2; stroke-opacity:1\"/>\n",
       "<line clip-path=\"url(#clip624)\" x1=\"614.323\" y1=\"1122.66\" x2=\"630.323\" y2=\"1122.66\" style=\"stroke:#009af9; stroke-width:3.2; stroke-opacity:1\"/>\n",
       "<line clip-path=\"url(#clip624)\" x1=\"690.637\" y1=\"1122.66\" x2=\"690.637\" y2=\"1106.66\" style=\"stroke:#009af9; stroke-width:3.2; stroke-opacity:1\"/>\n",
       "<line clip-path=\"url(#clip624)\" x1=\"690.637\" y1=\"1122.66\" x2=\"674.637\" y2=\"1122.66\" style=\"stroke:#009af9; stroke-width:3.2; stroke-opacity:1\"/>\n",
       "<line clip-path=\"url(#clip624)\" x1=\"690.637\" y1=\"1122.66\" x2=\"690.637\" y2=\"1138.66\" style=\"stroke:#009af9; stroke-width:3.2; stroke-opacity:1\"/>\n",
       "<line clip-path=\"url(#clip624)\" x1=\"690.637\" y1=\"1122.66\" x2=\"706.637\" y2=\"1122.66\" style=\"stroke:#009af9; stroke-width:3.2; stroke-opacity:1\"/>\n",
       "<line clip-path=\"url(#clip624)\" x1=\"766.951\" y1=\"1326.08\" x2=\"766.951\" y2=\"1310.08\" style=\"stroke:#009af9; stroke-width:3.2; stroke-opacity:1\"/>\n",
       "<line clip-path=\"url(#clip624)\" x1=\"766.951\" y1=\"1326.08\" x2=\"750.951\" y2=\"1326.08\" style=\"stroke:#009af9; stroke-width:3.2; stroke-opacity:1\"/>\n",
       "<line clip-path=\"url(#clip624)\" x1=\"766.951\" y1=\"1326.08\" x2=\"766.951\" y2=\"1342.08\" style=\"stroke:#009af9; stroke-width:3.2; stroke-opacity:1\"/>\n",
       "<line clip-path=\"url(#clip624)\" x1=\"766.951\" y1=\"1326.08\" x2=\"782.951\" y2=\"1326.08\" style=\"stroke:#009af9; stroke-width:3.2; stroke-opacity:1\"/>\n",
       "<line clip-path=\"url(#clip624)\" x1=\"843.265\" y1=\"1122.66\" x2=\"843.265\" y2=\"1106.66\" style=\"stroke:#009af9; stroke-width:3.2; stroke-opacity:1\"/>\n",
       "<line clip-path=\"url(#clip624)\" x1=\"843.265\" y1=\"1122.66\" x2=\"827.265\" y2=\"1122.66\" style=\"stroke:#009af9; stroke-width:3.2; stroke-opacity:1\"/>\n",
       "<line clip-path=\"url(#clip624)\" x1=\"843.265\" y1=\"1122.66\" x2=\"843.265\" y2=\"1138.66\" style=\"stroke:#009af9; stroke-width:3.2; stroke-opacity:1\"/>\n",
       "<line clip-path=\"url(#clip624)\" x1=\"843.265\" y1=\"1122.66\" x2=\"859.265\" y2=\"1122.66\" style=\"stroke:#009af9; stroke-width:3.2; stroke-opacity:1\"/>\n",
       "<line clip-path=\"url(#clip624)\" x1=\"919.579\" y1=\"1122.66\" x2=\"919.579\" y2=\"1106.66\" style=\"stroke:#009af9; stroke-width:3.2; stroke-opacity:1\"/>\n",
       "<line clip-path=\"url(#clip624)\" x1=\"919.579\" y1=\"1122.66\" x2=\"903.579\" y2=\"1122.66\" style=\"stroke:#009af9; stroke-width:3.2; stroke-opacity:1\"/>\n",
       "<line clip-path=\"url(#clip624)\" x1=\"919.579\" y1=\"1122.66\" x2=\"919.579\" y2=\"1138.66\" style=\"stroke:#009af9; stroke-width:3.2; stroke-opacity:1\"/>\n",
       "<line clip-path=\"url(#clip624)\" x1=\"919.579\" y1=\"1122.66\" x2=\"935.579\" y2=\"1122.66\" style=\"stroke:#009af9; stroke-width:3.2; stroke-opacity:1\"/>\n",
       "<line clip-path=\"url(#clip624)\" x1=\"995.893\" y1=\"1122.66\" x2=\"995.893\" y2=\"1106.66\" style=\"stroke:#009af9; stroke-width:3.2; stroke-opacity:1\"/>\n",
       "<line clip-path=\"url(#clip624)\" x1=\"995.893\" y1=\"1122.66\" x2=\"979.893\" y2=\"1122.66\" style=\"stroke:#009af9; stroke-width:3.2; stroke-opacity:1\"/>\n",
       "<line clip-path=\"url(#clip624)\" x1=\"995.893\" y1=\"1122.66\" x2=\"995.893\" y2=\"1138.66\" style=\"stroke:#009af9; stroke-width:3.2; stroke-opacity:1\"/>\n",
       "<line clip-path=\"url(#clip624)\" x1=\"995.893\" y1=\"1122.66\" x2=\"1011.89\" y2=\"1122.66\" style=\"stroke:#009af9; stroke-width:3.2; stroke-opacity:1\"/>\n",
       "<line clip-path=\"url(#clip624)\" x1=\"1072.21\" y1=\"1286.7\" x2=\"1072.21\" y2=\"1270.7\" style=\"stroke:#009af9; stroke-width:3.2; stroke-opacity:1\"/>\n",
       "<line clip-path=\"url(#clip624)\" x1=\"1072.21\" y1=\"1286.7\" x2=\"1056.21\" y2=\"1286.7\" style=\"stroke:#009af9; stroke-width:3.2; stroke-opacity:1\"/>\n",
       "<line clip-path=\"url(#clip624)\" x1=\"1072.21\" y1=\"1286.7\" x2=\"1072.21\" y2=\"1302.7\" style=\"stroke:#009af9; stroke-width:3.2; stroke-opacity:1\"/>\n",
       "<line clip-path=\"url(#clip624)\" x1=\"1072.21\" y1=\"1286.7\" x2=\"1088.21\" y2=\"1286.7\" style=\"stroke:#009af9; stroke-width:3.2; stroke-opacity:1\"/>\n",
       "<line clip-path=\"url(#clip624)\" x1=\"1148.52\" y1=\"1126.9\" x2=\"1148.52\" y2=\"1110.9\" style=\"stroke:#009af9; stroke-width:3.2; stroke-opacity:1\"/>\n",
       "<line clip-path=\"url(#clip624)\" x1=\"1148.52\" y1=\"1126.9\" x2=\"1132.52\" y2=\"1126.9\" style=\"stroke:#009af9; stroke-width:3.2; stroke-opacity:1\"/>\n",
       "<line clip-path=\"url(#clip624)\" x1=\"1148.52\" y1=\"1126.9\" x2=\"1148.52\" y2=\"1142.9\" style=\"stroke:#009af9; stroke-width:3.2; stroke-opacity:1\"/>\n",
       "<line clip-path=\"url(#clip624)\" x1=\"1148.52\" y1=\"1126.9\" x2=\"1164.52\" y2=\"1126.9\" style=\"stroke:#009af9; stroke-width:3.2; stroke-opacity:1\"/>\n",
       "<line clip-path=\"url(#clip624)\" x1=\"1224.83\" y1=\"1122.66\" x2=\"1224.83\" y2=\"1106.66\" style=\"stroke:#009af9; stroke-width:3.2; stroke-opacity:1\"/>\n",
       "<line clip-path=\"url(#clip624)\" x1=\"1224.83\" y1=\"1122.66\" x2=\"1208.83\" y2=\"1122.66\" style=\"stroke:#009af9; stroke-width:3.2; stroke-opacity:1\"/>\n",
       "<line clip-path=\"url(#clip624)\" x1=\"1224.83\" y1=\"1122.66\" x2=\"1224.83\" y2=\"1138.66\" style=\"stroke:#009af9; stroke-width:3.2; stroke-opacity:1\"/>\n",
       "<line clip-path=\"url(#clip624)\" x1=\"1224.83\" y1=\"1122.66\" x2=\"1240.83\" y2=\"1122.66\" style=\"stroke:#009af9; stroke-width:3.2; stroke-opacity:1\"/>\n",
       "<line clip-path=\"url(#clip624)\" x1=\"1301.15\" y1=\"1122.66\" x2=\"1301.15\" y2=\"1106.66\" style=\"stroke:#009af9; stroke-width:3.2; stroke-opacity:1\"/>\n",
       "<line clip-path=\"url(#clip624)\" x1=\"1301.15\" y1=\"1122.66\" x2=\"1285.15\" y2=\"1122.66\" style=\"stroke:#009af9; stroke-width:3.2; stroke-opacity:1\"/>\n",
       "<line clip-path=\"url(#clip624)\" x1=\"1301.15\" y1=\"1122.66\" x2=\"1301.15\" y2=\"1138.66\" style=\"stroke:#009af9; stroke-width:3.2; stroke-opacity:1\"/>\n",
       "<line clip-path=\"url(#clip624)\" x1=\"1301.15\" y1=\"1122.66\" x2=\"1317.15\" y2=\"1122.66\" style=\"stroke:#009af9; stroke-width:3.2; stroke-opacity:1\"/>\n",
       "<line clip-path=\"url(#clip624)\" x1=\"1377.46\" y1=\"1200.85\" x2=\"1377.46\" y2=\"1184.85\" style=\"stroke:#009af9; stroke-width:3.2; stroke-opacity:1\"/>\n",
       "<line clip-path=\"url(#clip624)\" x1=\"1377.46\" y1=\"1200.85\" x2=\"1361.46\" y2=\"1200.85\" style=\"stroke:#009af9; stroke-width:3.2; stroke-opacity:1\"/>\n",
       "<line clip-path=\"url(#clip624)\" x1=\"1377.46\" y1=\"1200.85\" x2=\"1377.46\" y2=\"1216.85\" style=\"stroke:#009af9; stroke-width:3.2; stroke-opacity:1\"/>\n",
       "<line clip-path=\"url(#clip624)\" x1=\"1377.46\" y1=\"1200.85\" x2=\"1393.46\" y2=\"1200.85\" style=\"stroke:#009af9; stroke-width:3.2; stroke-opacity:1\"/>\n",
       "<line clip-path=\"url(#clip624)\" x1=\"1453.78\" y1=\"1139.41\" x2=\"1453.78\" y2=\"1123.41\" style=\"stroke:#009af9; stroke-width:3.2; stroke-opacity:1\"/>\n",
       "<line clip-path=\"url(#clip624)\" x1=\"1453.78\" y1=\"1139.41\" x2=\"1437.78\" y2=\"1139.41\" style=\"stroke:#009af9; stroke-width:3.2; stroke-opacity:1\"/>\n",
       "<line clip-path=\"url(#clip624)\" x1=\"1453.78\" y1=\"1139.41\" x2=\"1453.78\" y2=\"1155.41\" style=\"stroke:#009af9; stroke-width:3.2; stroke-opacity:1\"/>\n",
       "<line clip-path=\"url(#clip624)\" x1=\"1453.78\" y1=\"1139.41\" x2=\"1469.78\" y2=\"1139.41\" style=\"stroke:#009af9; stroke-width:3.2; stroke-opacity:1\"/>\n",
       "<line clip-path=\"url(#clip624)\" x1=\"1530.09\" y1=\"1122.66\" x2=\"1530.09\" y2=\"1106.66\" style=\"stroke:#009af9; stroke-width:3.2; stroke-opacity:1\"/>\n",
       "<line clip-path=\"url(#clip624)\" x1=\"1530.09\" y1=\"1122.66\" x2=\"1514.09\" y2=\"1122.66\" style=\"stroke:#009af9; stroke-width:3.2; stroke-opacity:1\"/>\n",
       "<line clip-path=\"url(#clip624)\" x1=\"1530.09\" y1=\"1122.66\" x2=\"1530.09\" y2=\"1138.66\" style=\"stroke:#009af9; stroke-width:3.2; stroke-opacity:1\"/>\n",
       "<line clip-path=\"url(#clip624)\" x1=\"1530.09\" y1=\"1122.66\" x2=\"1546.09\" y2=\"1122.66\" style=\"stroke:#009af9; stroke-width:3.2; stroke-opacity:1\"/>\n",
       "<line clip-path=\"url(#clip624)\" x1=\"1606.4\" y1=\"1327.39\" x2=\"1606.4\" y2=\"1311.39\" style=\"stroke:#009af9; stroke-width:3.2; stroke-opacity:1\"/>\n",
       "<line clip-path=\"url(#clip624)\" x1=\"1606.4\" y1=\"1327.39\" x2=\"1590.4\" y2=\"1327.39\" style=\"stroke:#009af9; stroke-width:3.2; stroke-opacity:1\"/>\n",
       "<line clip-path=\"url(#clip624)\" x1=\"1606.4\" y1=\"1327.39\" x2=\"1606.4\" y2=\"1343.39\" style=\"stroke:#009af9; stroke-width:3.2; stroke-opacity:1\"/>\n",
       "<line clip-path=\"url(#clip624)\" x1=\"1606.4\" y1=\"1327.39\" x2=\"1622.4\" y2=\"1327.39\" style=\"stroke:#009af9; stroke-width:3.2; stroke-opacity:1\"/>\n",
       "<line clip-path=\"url(#clip624)\" x1=\"1682.72\" y1=\"1122.66\" x2=\"1682.72\" y2=\"1106.66\" style=\"stroke:#009af9; stroke-width:3.2; stroke-opacity:1\"/>\n",
       "<line clip-path=\"url(#clip624)\" x1=\"1682.72\" y1=\"1122.66\" x2=\"1666.72\" y2=\"1122.66\" style=\"stroke:#009af9; stroke-width:3.2; stroke-opacity:1\"/>\n",
       "<line clip-path=\"url(#clip624)\" x1=\"1682.72\" y1=\"1122.66\" x2=\"1682.72\" y2=\"1138.66\" style=\"stroke:#009af9; stroke-width:3.2; stroke-opacity:1\"/>\n",
       "<line clip-path=\"url(#clip624)\" x1=\"1682.72\" y1=\"1122.66\" x2=\"1698.72\" y2=\"1122.66\" style=\"stroke:#009af9; stroke-width:3.2; stroke-opacity:1\"/>\n",
       "<line clip-path=\"url(#clip624)\" x1=\"1759.03\" y1=\"1122.66\" x2=\"1759.03\" y2=\"1106.66\" style=\"stroke:#009af9; stroke-width:3.2; stroke-opacity:1\"/>\n",
       "<line clip-path=\"url(#clip624)\" x1=\"1759.03\" y1=\"1122.66\" x2=\"1743.03\" y2=\"1122.66\" style=\"stroke:#009af9; stroke-width:3.2; stroke-opacity:1\"/>\n",
       "<line clip-path=\"url(#clip624)\" x1=\"1759.03\" y1=\"1122.66\" x2=\"1759.03\" y2=\"1138.66\" style=\"stroke:#009af9; stroke-width:3.2; stroke-opacity:1\"/>\n",
       "<line clip-path=\"url(#clip624)\" x1=\"1759.03\" y1=\"1122.66\" x2=\"1775.03\" y2=\"1122.66\" style=\"stroke:#009af9; stroke-width:3.2; stroke-opacity:1\"/>\n",
       "<line clip-path=\"url(#clip624)\" x1=\"1835.35\" y1=\"1122.66\" x2=\"1835.35\" y2=\"1106.66\" style=\"stroke:#009af9; stroke-width:3.2; stroke-opacity:1\"/>\n",
       "<line clip-path=\"url(#clip624)\" x1=\"1835.35\" y1=\"1122.66\" x2=\"1819.35\" y2=\"1122.66\" style=\"stroke:#009af9; stroke-width:3.2; stroke-opacity:1\"/>\n",
       "<line clip-path=\"url(#clip624)\" x1=\"1835.35\" y1=\"1122.66\" x2=\"1835.35\" y2=\"1138.66\" style=\"stroke:#009af9; stroke-width:3.2; stroke-opacity:1\"/>\n",
       "<line clip-path=\"url(#clip624)\" x1=\"1835.35\" y1=\"1122.66\" x2=\"1851.35\" y2=\"1122.66\" style=\"stroke:#009af9; stroke-width:3.2; stroke-opacity:1\"/>\n",
       "<line clip-path=\"url(#clip624)\" x1=\"1911.66\" y1=\"1122.66\" x2=\"1911.66\" y2=\"1106.66\" style=\"stroke:#009af9; stroke-width:3.2; stroke-opacity:1\"/>\n",
       "<line clip-path=\"url(#clip624)\" x1=\"1911.66\" y1=\"1122.66\" x2=\"1895.66\" y2=\"1122.66\" style=\"stroke:#009af9; stroke-width:3.2; stroke-opacity:1\"/>\n",
       "<line clip-path=\"url(#clip624)\" x1=\"1911.66\" y1=\"1122.66\" x2=\"1911.66\" y2=\"1138.66\" style=\"stroke:#009af9; stroke-width:3.2; stroke-opacity:1\"/>\n",
       "<line clip-path=\"url(#clip624)\" x1=\"1911.66\" y1=\"1122.66\" x2=\"1927.66\" y2=\"1122.66\" style=\"stroke:#009af9; stroke-width:3.2; stroke-opacity:1\"/>\n",
       "<line clip-path=\"url(#clip624)\" x1=\"1987.97\" y1=\"1122.66\" x2=\"1987.97\" y2=\"1106.66\" style=\"stroke:#009af9; stroke-width:3.2; stroke-opacity:1\"/>\n",
       "<line clip-path=\"url(#clip624)\" x1=\"1987.97\" y1=\"1122.66\" x2=\"1971.97\" y2=\"1122.66\" style=\"stroke:#009af9; stroke-width:3.2; stroke-opacity:1\"/>\n",
       "<line clip-path=\"url(#clip624)\" x1=\"1987.97\" y1=\"1122.66\" x2=\"1987.97\" y2=\"1138.66\" style=\"stroke:#009af9; stroke-width:3.2; stroke-opacity:1\"/>\n",
       "<line clip-path=\"url(#clip624)\" x1=\"1987.97\" y1=\"1122.66\" x2=\"2003.97\" y2=\"1122.66\" style=\"stroke:#009af9; stroke-width:3.2; stroke-opacity:1\"/>\n",
       "<line clip-path=\"url(#clip624)\" x1=\"2064.29\" y1=\"1122.66\" x2=\"2064.29\" y2=\"1106.66\" style=\"stroke:#009af9; stroke-width:3.2; stroke-opacity:1\"/>\n",
       "<line clip-path=\"url(#clip624)\" x1=\"2064.29\" y1=\"1122.66\" x2=\"2048.29\" y2=\"1122.66\" style=\"stroke:#009af9; stroke-width:3.2; stroke-opacity:1\"/>\n",
       "<line clip-path=\"url(#clip624)\" x1=\"2064.29\" y1=\"1122.66\" x2=\"2064.29\" y2=\"1138.66\" style=\"stroke:#009af9; stroke-width:3.2; stroke-opacity:1\"/>\n",
       "<line clip-path=\"url(#clip624)\" x1=\"2064.29\" y1=\"1122.66\" x2=\"2080.29\" y2=\"1122.66\" style=\"stroke:#009af9; stroke-width:3.2; stroke-opacity:1\"/>\n",
       "<line clip-path=\"url(#clip624)\" x1=\"2140.6\" y1=\"1414.42\" x2=\"2140.6\" y2=\"1398.42\" style=\"stroke:#009af9; stroke-width:3.2; stroke-opacity:1\"/>\n",
       "<line clip-path=\"url(#clip624)\" x1=\"2140.6\" y1=\"1414.42\" x2=\"2124.6\" y2=\"1414.42\" style=\"stroke:#009af9; stroke-width:3.2; stroke-opacity:1\"/>\n",
       "<line clip-path=\"url(#clip624)\" x1=\"2140.6\" y1=\"1414.42\" x2=\"2140.6\" y2=\"1430.42\" style=\"stroke:#009af9; stroke-width:3.2; stroke-opacity:1\"/>\n",
       "<line clip-path=\"url(#clip624)\" x1=\"2140.6\" y1=\"1414.42\" x2=\"2156.6\" y2=\"1414.42\" style=\"stroke:#009af9; stroke-width:3.2; stroke-opacity:1\"/>\n",
       "<line clip-path=\"url(#clip624)\" x1=\"2216.92\" y1=\"1232.62\" x2=\"2216.92\" y2=\"1216.62\" style=\"stroke:#009af9; stroke-width:3.2; stroke-opacity:1\"/>\n",
       "<line clip-path=\"url(#clip624)\" x1=\"2216.92\" y1=\"1232.62\" x2=\"2200.92\" y2=\"1232.62\" style=\"stroke:#009af9; stroke-width:3.2; stroke-opacity:1\"/>\n",
       "<line clip-path=\"url(#clip624)\" x1=\"2216.92\" y1=\"1232.62\" x2=\"2216.92\" y2=\"1248.62\" style=\"stroke:#009af9; stroke-width:3.2; stroke-opacity:1\"/>\n",
       "<line clip-path=\"url(#clip624)\" x1=\"2216.92\" y1=\"1232.62\" x2=\"2232.92\" y2=\"1232.62\" style=\"stroke:#009af9; stroke-width:3.2; stroke-opacity:1\"/>\n",
       "<line clip-path=\"url(#clip624)\" x1=\"2293.23\" y1=\"1122.66\" x2=\"2293.23\" y2=\"1106.66\" style=\"stroke:#009af9; stroke-width:3.2; stroke-opacity:1\"/>\n",
       "<line clip-path=\"url(#clip624)\" x1=\"2293.23\" y1=\"1122.66\" x2=\"2277.23\" y2=\"1122.66\" style=\"stroke:#009af9; stroke-width:3.2; stroke-opacity:1\"/>\n",
       "<line clip-path=\"url(#clip624)\" x1=\"2293.23\" y1=\"1122.66\" x2=\"2293.23\" y2=\"1138.66\" style=\"stroke:#009af9; stroke-width:3.2; stroke-opacity:1\"/>\n",
       "<line clip-path=\"url(#clip624)\" x1=\"2293.23\" y1=\"1122.66\" x2=\"2309.23\" y2=\"1122.66\" style=\"stroke:#009af9; stroke-width:3.2; stroke-opacity:1\"/>\n",
       "<polyline clip-path=\"url(#clip624)\" style=\"stroke:#ff0000; stroke-linecap:round; stroke-linejoin:round; stroke-width:20; stroke-opacity:0.3; fill:none\" points=\"309.067,1122.66 309.067,1122.66 385.381,1122.66 385.381,1122.66 461.695,1122.66 461.695,1122.66 538.009,1122.66 538.009,1122.66 614.323,1122.66 614.323,1122.66 690.637,1122.66 690.637,1326.08 766.951,1326.08 766.951,1122.66 843.265,1122.66 843.265,1122.66 919.579,1122.66 919.579,1122.66 995.893,1122.66 995.893,1286.7 1072.21,1286.7 1072.21,1126.9 1148.52,1126.9 1148.52,1122.66 1224.83,1122.66 1224.83,1122.66 1301.15,1122.66 1301.15,1200.85 1377.46,1200.85 1377.46,1139.41 1453.78,1139.41 1453.78,1122.66 1530.09,1122.66 1530.09,1327.39 1606.4,1327.39 1606.4,1122.66 1682.72,1122.66 1682.72,1122.66 1759.03,1122.66 1759.03,1122.66 1835.35,1122.66 1835.35,1122.66 1911.66,1122.66 1911.66,1122.66 1987.97,1122.66 1987.97,1122.66 2064.29,1122.66 2064.29,1414.42 2140.6,1414.42 2140.6,1232.62 2216.92,1232.62 2216.92,1122.66 2293.23,1122.66 \"/>\n",
       "<circle clip-path=\"url(#clip624)\" cx=\"309.067\" cy=\"1122.66\" r=\"14.4\" fill=\"#e26f46\" fill-rule=\"evenodd\" fill-opacity=\"1\" stroke=\"#000000\" stroke-opacity=\"1\" stroke-width=\"3.2\"/>\n",
       "<circle clip-path=\"url(#clip624)\" cx=\"385.381\" cy=\"1122.66\" r=\"14.4\" fill=\"#e26f46\" fill-rule=\"evenodd\" fill-opacity=\"1\" stroke=\"#000000\" stroke-opacity=\"1\" stroke-width=\"3.2\"/>\n",
       "<circle clip-path=\"url(#clip624)\" cx=\"461.695\" cy=\"1122.66\" r=\"14.4\" fill=\"#e26f46\" fill-rule=\"evenodd\" fill-opacity=\"1\" stroke=\"#000000\" stroke-opacity=\"1\" stroke-width=\"3.2\"/>\n",
       "<circle clip-path=\"url(#clip624)\" cx=\"538.009\" cy=\"1122.66\" r=\"14.4\" fill=\"#e26f46\" fill-rule=\"evenodd\" fill-opacity=\"1\" stroke=\"#000000\" stroke-opacity=\"1\" stroke-width=\"3.2\"/>\n",
       "<circle clip-path=\"url(#clip624)\" cx=\"614.323\" cy=\"1122.66\" r=\"14.4\" fill=\"#e26f46\" fill-rule=\"evenodd\" fill-opacity=\"1\" stroke=\"#000000\" stroke-opacity=\"1\" stroke-width=\"3.2\"/>\n",
       "<circle clip-path=\"url(#clip624)\" cx=\"690.637\" cy=\"1122.66\" r=\"14.4\" fill=\"#e26f46\" fill-rule=\"evenodd\" fill-opacity=\"1\" stroke=\"#000000\" stroke-opacity=\"1\" stroke-width=\"3.2\"/>\n",
       "<circle clip-path=\"url(#clip624)\" cx=\"766.951\" cy=\"1326.08\" r=\"14.4\" fill=\"#e26f46\" fill-rule=\"evenodd\" fill-opacity=\"1\" stroke=\"#000000\" stroke-opacity=\"1\" stroke-width=\"3.2\"/>\n",
       "<circle clip-path=\"url(#clip624)\" cx=\"843.265\" cy=\"1122.66\" r=\"14.4\" fill=\"#e26f46\" fill-rule=\"evenodd\" fill-opacity=\"1\" stroke=\"#000000\" stroke-opacity=\"1\" stroke-width=\"3.2\"/>\n",
       "<circle clip-path=\"url(#clip624)\" cx=\"919.579\" cy=\"1122.66\" r=\"14.4\" fill=\"#e26f46\" fill-rule=\"evenodd\" fill-opacity=\"1\" stroke=\"#000000\" stroke-opacity=\"1\" stroke-width=\"3.2\"/>\n",
       "<circle clip-path=\"url(#clip624)\" cx=\"995.893\" cy=\"1122.66\" r=\"14.4\" fill=\"#e26f46\" fill-rule=\"evenodd\" fill-opacity=\"1\" stroke=\"#000000\" stroke-opacity=\"1\" stroke-width=\"3.2\"/>\n",
       "<circle clip-path=\"url(#clip624)\" cx=\"1072.21\" cy=\"1286.7\" r=\"14.4\" fill=\"#e26f46\" fill-rule=\"evenodd\" fill-opacity=\"1\" stroke=\"#000000\" stroke-opacity=\"1\" stroke-width=\"3.2\"/>\n",
       "<circle clip-path=\"url(#clip624)\" cx=\"1148.52\" cy=\"1126.9\" r=\"14.4\" fill=\"#e26f46\" fill-rule=\"evenodd\" fill-opacity=\"1\" stroke=\"#000000\" stroke-opacity=\"1\" stroke-width=\"3.2\"/>\n",
       "<circle clip-path=\"url(#clip624)\" cx=\"1224.83\" cy=\"1122.66\" r=\"14.4\" fill=\"#e26f46\" fill-rule=\"evenodd\" fill-opacity=\"1\" stroke=\"#000000\" stroke-opacity=\"1\" stroke-width=\"3.2\"/>\n",
       "<circle clip-path=\"url(#clip624)\" cx=\"1301.15\" cy=\"1122.66\" r=\"14.4\" fill=\"#e26f46\" fill-rule=\"evenodd\" fill-opacity=\"1\" stroke=\"#000000\" stroke-opacity=\"1\" stroke-width=\"3.2\"/>\n",
       "<circle clip-path=\"url(#clip624)\" cx=\"1377.46\" cy=\"1200.85\" r=\"14.4\" fill=\"#e26f46\" fill-rule=\"evenodd\" fill-opacity=\"1\" stroke=\"#000000\" stroke-opacity=\"1\" stroke-width=\"3.2\"/>\n",
       "<circle clip-path=\"url(#clip624)\" cx=\"1453.78\" cy=\"1139.41\" r=\"14.4\" fill=\"#e26f46\" fill-rule=\"evenodd\" fill-opacity=\"1\" stroke=\"#000000\" stroke-opacity=\"1\" stroke-width=\"3.2\"/>\n",
       "<circle clip-path=\"url(#clip624)\" cx=\"1530.09\" cy=\"1122.66\" r=\"14.4\" fill=\"#e26f46\" fill-rule=\"evenodd\" fill-opacity=\"1\" stroke=\"#000000\" stroke-opacity=\"1\" stroke-width=\"3.2\"/>\n",
       "<circle clip-path=\"url(#clip624)\" cx=\"1606.4\" cy=\"1327.39\" r=\"14.4\" fill=\"#e26f46\" fill-rule=\"evenodd\" fill-opacity=\"1\" stroke=\"#000000\" stroke-opacity=\"1\" stroke-width=\"3.2\"/>\n",
       "<circle clip-path=\"url(#clip624)\" cx=\"1682.72\" cy=\"1122.66\" r=\"14.4\" fill=\"#e26f46\" fill-rule=\"evenodd\" fill-opacity=\"1\" stroke=\"#000000\" stroke-opacity=\"1\" stroke-width=\"3.2\"/>\n",
       "<circle clip-path=\"url(#clip624)\" cx=\"1759.03\" cy=\"1122.66\" r=\"14.4\" fill=\"#e26f46\" fill-rule=\"evenodd\" fill-opacity=\"1\" stroke=\"#000000\" stroke-opacity=\"1\" stroke-width=\"3.2\"/>\n",
       "<circle clip-path=\"url(#clip624)\" cx=\"1835.35\" cy=\"1122.66\" r=\"14.4\" fill=\"#e26f46\" fill-rule=\"evenodd\" fill-opacity=\"1\" stroke=\"#000000\" stroke-opacity=\"1\" stroke-width=\"3.2\"/>\n",
       "<circle clip-path=\"url(#clip624)\" cx=\"1911.66\" cy=\"1122.66\" r=\"14.4\" fill=\"#e26f46\" fill-rule=\"evenodd\" fill-opacity=\"1\" stroke=\"#000000\" stroke-opacity=\"1\" stroke-width=\"3.2\"/>\n",
       "<circle clip-path=\"url(#clip624)\" cx=\"1987.97\" cy=\"1122.66\" r=\"14.4\" fill=\"#e26f46\" fill-rule=\"evenodd\" fill-opacity=\"1\" stroke=\"#000000\" stroke-opacity=\"1\" stroke-width=\"3.2\"/>\n",
       "<circle clip-path=\"url(#clip624)\" cx=\"2064.29\" cy=\"1122.66\" r=\"14.4\" fill=\"#e26f46\" fill-rule=\"evenodd\" fill-opacity=\"1\" stroke=\"#000000\" stroke-opacity=\"1\" stroke-width=\"3.2\"/>\n",
       "<circle clip-path=\"url(#clip624)\" cx=\"2140.6\" cy=\"1414.43\" r=\"14.4\" fill=\"#e26f46\" fill-rule=\"evenodd\" fill-opacity=\"1\" stroke=\"#000000\" stroke-opacity=\"1\" stroke-width=\"3.2\"/>\n",
       "<circle clip-path=\"url(#clip624)\" cx=\"2216.92\" cy=\"1232.61\" r=\"14.4\" fill=\"#e26f46\" fill-rule=\"evenodd\" fill-opacity=\"1\" stroke=\"#000000\" stroke-opacity=\"1\" stroke-width=\"3.2\"/>\n",
       "<circle clip-path=\"url(#clip624)\" cx=\"2293.23\" cy=\"1122.66\" r=\"14.4\" fill=\"#e26f46\" fill-rule=\"evenodd\" fill-opacity=\"1\" stroke=\"#000000\" stroke-opacity=\"1\" stroke-width=\"3.2\"/>\n",
       "<polyline clip-path=\"url(#clip624)\" style=\"stroke:#80007f; stroke-linecap:round; stroke-linejoin:round; stroke-width:20; stroke-opacity:0.3; fill:none\" points=\"309.067,1122.66 309.067,1122.66 385.381,1122.66 461.695,1122.66 538.009,1122.66 614.323,1122.66 690.637,1122.66 690.637,1326.08 766.951,1326.08 766.951,1122.66 843.265,1122.66 919.579,1122.66 995.893,1122.66 995.893,1286.7 1072.21,1286.7 1072.21,1126.9 1148.52,1126.9 1148.52,1122.66 1224.83,1122.66 1301.15,1122.66 1301.15,1200.85 1377.46,1200.85 1377.46,1139.41 1453.78,1139.41 1453.78,1122.66 1530.09,1122.66 1530.09,1327.39 1606.4,1327.39 1606.4,1122.66 1682.72,1122.66 1759.03,1122.66 1835.35,1122.66 1911.66,1122.66 1987.97,1122.66 2064.29,1122.66 2064.29,1414.43 2140.6,1414.43 2140.6,1232.61 2216.92,1232.61 2216.92,1122.66 2293.23,1122.66 \"/>\n",
       "<path clip-path=\"url(#clip624)\" d=\"M309.067 1106.66 L293.067 1122.66 L309.067 1138.66 L325.067 1122.66 L309.067 1106.66 Z\" fill=\"#3da44d\" fill-rule=\"evenodd\" fill-opacity=\"1\" stroke=\"#000000\" stroke-opacity=\"1\" stroke-width=\"3.2\"/>\n",
       "<path clip-path=\"url(#clip624)\" d=\"M385.381 1106.66 L369.381 1122.66 L385.381 1138.66 L401.381 1122.66 L385.381 1106.66 Z\" fill=\"#3da44d\" fill-rule=\"evenodd\" fill-opacity=\"1\" stroke=\"#000000\" stroke-opacity=\"1\" stroke-width=\"3.2\"/>\n",
       "<path clip-path=\"url(#clip624)\" d=\"M461.695 1106.66 L445.695 1122.66 L461.695 1138.66 L477.695 1122.66 L461.695 1106.66 Z\" fill=\"#3da44d\" fill-rule=\"evenodd\" fill-opacity=\"1\" stroke=\"#000000\" stroke-opacity=\"1\" stroke-width=\"3.2\"/>\n",
       "<path clip-path=\"url(#clip624)\" d=\"M538.009 1106.66 L522.009 1122.66 L538.009 1138.66 L554.009 1122.66 L538.009 1106.66 Z\" fill=\"#3da44d\" fill-rule=\"evenodd\" fill-opacity=\"1\" stroke=\"#000000\" stroke-opacity=\"1\" stroke-width=\"3.2\"/>\n",
       "<path clip-path=\"url(#clip624)\" d=\"M614.323 1106.66 L598.323 1122.66 L614.323 1138.66 L630.323 1122.66 L614.323 1106.66 Z\" fill=\"#3da44d\" fill-rule=\"evenodd\" fill-opacity=\"1\" stroke=\"#000000\" stroke-opacity=\"1\" stroke-width=\"3.2\"/>\n",
       "<path clip-path=\"url(#clip624)\" d=\"M690.637 1106.67 L674.637 1122.67 L690.637 1138.67 L706.637 1122.67 L690.637 1106.67 Z\" fill=\"#3da44d\" fill-rule=\"evenodd\" fill-opacity=\"1\" stroke=\"#000000\" stroke-opacity=\"1\" stroke-width=\"3.2\"/>\n",
       "<path clip-path=\"url(#clip624)\" d=\"M766.951 1310.08 L750.951 1326.08 L766.951 1342.08 L782.951 1326.08 L766.951 1310.08 Z\" fill=\"#3da44d\" fill-rule=\"evenodd\" fill-opacity=\"1\" stroke=\"#000000\" stroke-opacity=\"1\" stroke-width=\"3.2\"/>\n",
       "<path clip-path=\"url(#clip624)\" d=\"M843.265 1106.66 L827.265 1122.66 L843.265 1138.66 L859.265 1122.66 L843.265 1106.66 Z\" fill=\"#3da44d\" fill-rule=\"evenodd\" fill-opacity=\"1\" stroke=\"#000000\" stroke-opacity=\"1\" stroke-width=\"3.2\"/>\n",
       "<path clip-path=\"url(#clip624)\" d=\"M919.579 1106.66 L903.579 1122.66 L919.579 1138.66 L935.579 1122.66 L919.579 1106.66 Z\" fill=\"#3da44d\" fill-rule=\"evenodd\" fill-opacity=\"1\" stroke=\"#000000\" stroke-opacity=\"1\" stroke-width=\"3.2\"/>\n",
       "<path clip-path=\"url(#clip624)\" d=\"M995.893 1106.66 L979.893 1122.66 L995.893 1138.66 L1011.89 1122.66 L995.893 1106.66 Z\" fill=\"#3da44d\" fill-rule=\"evenodd\" fill-opacity=\"1\" stroke=\"#000000\" stroke-opacity=\"1\" stroke-width=\"3.2\"/>\n",
       "<path clip-path=\"url(#clip624)\" d=\"M1072.21 1270.69 L1056.21 1286.69 L1072.21 1302.69 L1088.21 1286.69 L1072.21 1270.69 Z\" fill=\"#3da44d\" fill-rule=\"evenodd\" fill-opacity=\"1\" stroke=\"#000000\" stroke-opacity=\"1\" stroke-width=\"3.2\"/>\n",
       "<path clip-path=\"url(#clip624)\" d=\"M1148.52 1110.91 L1132.52 1126.91 L1148.52 1142.91 L1164.52 1126.91 L1148.52 1110.91 Z\" fill=\"#3da44d\" fill-rule=\"evenodd\" fill-opacity=\"1\" stroke=\"#000000\" stroke-opacity=\"1\" stroke-width=\"3.2\"/>\n",
       "<path clip-path=\"url(#clip624)\" d=\"M1224.83 1106.67 L1208.83 1122.67 L1224.83 1138.67 L1240.83 1122.67 L1224.83 1106.67 Z\" fill=\"#3da44d\" fill-rule=\"evenodd\" fill-opacity=\"1\" stroke=\"#000000\" stroke-opacity=\"1\" stroke-width=\"3.2\"/>\n",
       "<path clip-path=\"url(#clip624)\" d=\"M1301.15 1106.67 L1285.15 1122.67 L1301.15 1138.67 L1317.15 1122.67 L1301.15 1106.67 Z\" fill=\"#3da44d\" fill-rule=\"evenodd\" fill-opacity=\"1\" stroke=\"#000000\" stroke-opacity=\"1\" stroke-width=\"3.2\"/>\n",
       "<path clip-path=\"url(#clip624)\" d=\"M1377.46 1184.84 L1361.46 1200.84 L1377.46 1216.84 L1393.46 1200.84 L1377.46 1184.84 Z\" fill=\"#3da44d\" fill-rule=\"evenodd\" fill-opacity=\"1\" stroke=\"#000000\" stroke-opacity=\"1\" stroke-width=\"3.2\"/>\n",
       "<path clip-path=\"url(#clip624)\" d=\"M1453.78 1123.42 L1437.78 1139.42 L1453.78 1155.42 L1469.78 1139.42 L1453.78 1123.42 Z\" fill=\"#3da44d\" fill-rule=\"evenodd\" fill-opacity=\"1\" stroke=\"#000000\" stroke-opacity=\"1\" stroke-width=\"3.2\"/>\n",
       "<path clip-path=\"url(#clip624)\" d=\"M1530.09 1106.67 L1514.09 1122.67 L1530.09 1138.67 L1546.09 1122.67 L1530.09 1106.67 Z\" fill=\"#3da44d\" fill-rule=\"evenodd\" fill-opacity=\"1\" stroke=\"#000000\" stroke-opacity=\"1\" stroke-width=\"3.2\"/>\n",
       "<path clip-path=\"url(#clip624)\" d=\"M1606.4 1311.37 L1590.4 1327.37 L1606.4 1343.37 L1622.4 1327.37 L1606.4 1311.37 Z\" fill=\"#3da44d\" fill-rule=\"evenodd\" fill-opacity=\"1\" stroke=\"#000000\" stroke-opacity=\"1\" stroke-width=\"3.2\"/>\n",
       "<path clip-path=\"url(#clip624)\" d=\"M1682.72 1106.68 L1666.72 1122.68 L1682.72 1138.68 L1698.72 1122.68 L1682.72 1106.68 Z\" fill=\"#3da44d\" fill-rule=\"evenodd\" fill-opacity=\"1\" stroke=\"#000000\" stroke-opacity=\"1\" stroke-width=\"3.2\"/>\n",
       "<path clip-path=\"url(#clip624)\" d=\"M1759.03 1106.66 L1743.03 1122.66 L1759.03 1138.66 L1775.03 1122.66 L1759.03 1106.66 Z\" fill=\"#3da44d\" fill-rule=\"evenodd\" fill-opacity=\"1\" stroke=\"#000000\" stroke-opacity=\"1\" stroke-width=\"3.2\"/>\n",
       "<path clip-path=\"url(#clip624)\" d=\"M1835.35 1106.66 L1819.35 1122.66 L1835.35 1138.66 L1851.35 1122.66 L1835.35 1106.66 Z\" fill=\"#3da44d\" fill-rule=\"evenodd\" fill-opacity=\"1\" stroke=\"#000000\" stroke-opacity=\"1\" stroke-width=\"3.2\"/>\n",
       "<path clip-path=\"url(#clip624)\" d=\"M1911.66 1106.66 L1895.66 1122.66 L1911.66 1138.66 L1927.66 1122.66 L1911.66 1106.66 Z\" fill=\"#3da44d\" fill-rule=\"evenodd\" fill-opacity=\"1\" stroke=\"#000000\" stroke-opacity=\"1\" stroke-width=\"3.2\"/>\n",
       "<path clip-path=\"url(#clip624)\" d=\"M1987.97 1106.67 L1971.97 1122.67 L1987.97 1138.67 L2003.97 1122.67 L1987.97 1106.67 Z\" fill=\"#3da44d\" fill-rule=\"evenodd\" fill-opacity=\"1\" stroke=\"#000000\" stroke-opacity=\"1\" stroke-width=\"3.2\"/>\n",
       "<path clip-path=\"url(#clip624)\" d=\"M2064.29 1106.67 L2048.29 1122.67 L2064.29 1138.67 L2080.29 1122.67 L2064.29 1106.67 Z\" fill=\"#3da44d\" fill-rule=\"evenodd\" fill-opacity=\"1\" stroke=\"#000000\" stroke-opacity=\"1\" stroke-width=\"3.2\"/>\n",
       "<path clip-path=\"url(#clip624)\" d=\"M2140.6 1398.39 L2124.6 1414.39 L2140.6 1430.39 L2156.6 1414.39 L2140.6 1398.39 Z\" fill=\"#3da44d\" fill-rule=\"evenodd\" fill-opacity=\"1\" stroke=\"#000000\" stroke-opacity=\"1\" stroke-width=\"3.2\"/>\n",
       "<path clip-path=\"url(#clip624)\" d=\"M2216.92 1216.62 L2200.92 1232.62 L2216.92 1248.62 L2232.92 1232.62 L2216.92 1216.62 Z\" fill=\"#3da44d\" fill-rule=\"evenodd\" fill-opacity=\"1\" stroke=\"#000000\" stroke-opacity=\"1\" stroke-width=\"3.2\"/>\n",
       "<path clip-path=\"url(#clip624)\" d=\"M2293.23 1106.67 L2277.23 1122.67 L2293.23 1138.67 L2309.23 1122.67 L2293.23 1106.67 Z\" fill=\"#3da44d\" fill-rule=\"evenodd\" fill-opacity=\"1\" stroke=\"#000000\" stroke-opacity=\"1\" stroke-width=\"3.2\"/>\n",
       "<polyline clip-path=\"url(#clip624)\" style=\"stroke:#0000ff; stroke-linecap:round; stroke-linejoin:round; stroke-width:20; stroke-opacity:0.3; fill:none\" points=\"309.067,1122.66 309.067,1122.66 385.381,1122.66 385.381,1122.66 461.695,1122.66 461.695,1122.66 538.009,1122.66 538.009,1122.66 614.323,1122.66 614.323,1122.67 690.637,1122.67 690.637,1326.08 766.951,1326.08 766.951,1122.66 843.265,1122.66 843.265,1122.66 919.579,1122.66 919.579,1122.66 995.893,1122.66 995.893,1286.69 1072.21,1286.69 1072.21,1126.91 1148.52,1126.91 1148.52,1122.67 1224.83,1122.67 1224.83,1122.67 1301.15,1122.67 1301.15,1200.84 1377.46,1200.84 1377.46,1139.42 1453.78,1139.42 1453.78,1122.67 1530.09,1122.67 1530.09,1327.37 1606.4,1327.37 1606.4,1122.68 1682.72,1122.68 1682.72,1122.66 1759.03,1122.66 1759.03,1122.66 1835.35,1122.66 1835.35,1122.66 1911.66,1122.66 1911.66,1122.67 1987.97,1122.67 1987.97,1122.67 2064.29,1122.67 2064.29,1414.39 2140.6,1414.39 2140.6,1232.62 2216.92,1232.62 2216.92,1122.67 2293.23,1122.67 \"/>\n",
       "</svg>\n"
      ]
     },
     "metadata": {},
     "output_type": "display_data"
    }
   ],
   "source": [
    "#############\n",
    "# SETPOINTS #\n",
    "#############\n",
    "# limits\n",
    "p6 = plot(ts,yspMax*ones(length(ts)),linestyle = :dot,linecolor = :black,xaxis=\"time[h]\",yaxis=\"ysp1\",legend=false,gridlinewidth=2)\n",
    "for opti in 1:3\n",
    "    p6 = plot!(ts,yspTraj[opti,:,1],linewidth=5,linetype=:steppre,linealpha = 0.3,markershape=MList[opti],linecolor = CList[opti],legend=false)\n",
    "end\n",
    "\n",
    "p7 = plot(ts,yspMax*ones(length(ts)),linestyle = :dot,linecolor = :black,xaxis=\"time[h]\",yaxis=\"ysp2\",legend=false,gridlinewidth=2)\n",
    "for opti in 1:3\n",
    "    p7 = plot!(ts,yspTraj[opti,:,2],linewidth=5,linetype=:steppre,linealpha = 0.3,markershape=MList[opti],linecolor = CList[opti],legend=false)\n",
    "end\n",
    "\n",
    "p8 = plot(ts,yspMax*ones(length(ts)),linestyle = :dot,linecolor = :black,xaxis=\"time[h]\",yaxis=\"ysp3\",legend=false,gridlinewidth=2)\n",
    "for opti in 1:3\n",
    "    p8 = plot!(ts,yspTraj[opti,:,3],linewidth=5,linetype=:steppre,linealpha = 0.3,markershape=MList[opti],linecolor = CList[opti],legend=false)\n",
    "end\n",
    "\n",
    "g2 = plot(p6,p7,p8,layout=(3,1))\n",
    "display(g2)"
   ]
  },
  {
   "cell_type": "code",
   "execution_count": 20,
   "id": "49d7be69",
   "metadata": {},
   "outputs": [
    {
     "data": {
      "image/svg+xml": [
       "<?xml version=\"1.0\" encoding=\"utf-8\"?>\n",
       "<svg xmlns=\"http://www.w3.org/2000/svg\" xmlns:xlink=\"http://www.w3.org/1999/xlink\" width=\"600\" height=\"400\" viewBox=\"0 0 2400 1600\">\n",
       "<defs>\n",
       "  <clipPath id=\"clip660\">\n",
       "    <rect x=\"0\" y=\"0\" width=\"2400\" height=\"1600\"/>\n",
       "  </clipPath>\n",
       "</defs>\n",
       "<path clip-path=\"url(#clip660)\" d=\"M0 1600 L2400 1600 L2400 0 L0 0  Z\" fill=\"#ffffff\" fill-rule=\"evenodd\" fill-opacity=\"1\"/>\n",
       "<defs>\n",
       "  <clipPath id=\"clip661\">\n",
       "    <rect x=\"480\" y=\"0\" width=\"1681\" height=\"1600\"/>\n",
       "  </clipPath>\n",
       "</defs>\n",
       "<path clip-path=\"url(#clip660)\" d=\"M219.033 356.513 L2352.76 356.513 L2352.76 47.2441 L219.033 47.2441  Z\" fill=\"#ffffff\" fill-rule=\"evenodd\" fill-opacity=\"1\"/>\n",
       "<defs>\n",
       "  <clipPath id=\"clip662\">\n",
       "    <rect x=\"219\" y=\"47\" width=\"2135\" height=\"310\"/>\n",
       "  </clipPath>\n",
       "</defs>\n",
       "<polyline clip-path=\"url(#clip662)\" style=\"stroke:#000000; stroke-linecap:round; stroke-linejoin:round; stroke-width:8; stroke-opacity:0.1; fill:none\" points=\"589.105,356.513 589.105,47.2441 \"/>\n",
       "<polyline clip-path=\"url(#clip662)\" style=\"stroke:#000000; stroke-linecap:round; stroke-linejoin:round; stroke-width:8; stroke-opacity:0.1; fill:none\" points=\"976.21,356.513 976.21,47.2441 \"/>\n",
       "<polyline clip-path=\"url(#clip662)\" style=\"stroke:#000000; stroke-linecap:round; stroke-linejoin:round; stroke-width:8; stroke-opacity:0.1; fill:none\" points=\"1363.32,356.513 1363.32,47.2441 \"/>\n",
       "<polyline clip-path=\"url(#clip662)\" style=\"stroke:#000000; stroke-linecap:round; stroke-linejoin:round; stroke-width:8; stroke-opacity:0.1; fill:none\" points=\"1750.42,356.513 1750.42,47.2441 \"/>\n",
       "<polyline clip-path=\"url(#clip662)\" style=\"stroke:#000000; stroke-linecap:round; stroke-linejoin:round; stroke-width:8; stroke-opacity:0.1; fill:none\" points=\"2137.53,356.513 2137.53,47.2441 \"/>\n",
       "<polyline clip-path=\"url(#clip660)\" style=\"stroke:#000000; stroke-linecap:round; stroke-linejoin:round; stroke-width:4; stroke-opacity:1; fill:none\" points=\"219.033,356.513 2352.76,356.513 \"/>\n",
       "<polyline clip-path=\"url(#clip660)\" style=\"stroke:#000000; stroke-linecap:round; stroke-linejoin:round; stroke-width:4; stroke-opacity:1; fill:none\" points=\"589.105,356.513 589.105,337.616 \"/>\n",
       "<polyline clip-path=\"url(#clip660)\" style=\"stroke:#000000; stroke-linecap:round; stroke-linejoin:round; stroke-width:4; stroke-opacity:1; fill:none\" points=\"976.21,356.513 976.21,337.616 \"/>\n",
       "<polyline clip-path=\"url(#clip660)\" style=\"stroke:#000000; stroke-linecap:round; stroke-linejoin:round; stroke-width:4; stroke-opacity:1; fill:none\" points=\"1363.32,356.513 1363.32,337.616 \"/>\n",
       "<polyline clip-path=\"url(#clip660)\" style=\"stroke:#000000; stroke-linecap:round; stroke-linejoin:round; stroke-width:4; stroke-opacity:1; fill:none\" points=\"1750.42,356.513 1750.42,337.616 \"/>\n",
       "<polyline clip-path=\"url(#clip660)\" style=\"stroke:#000000; stroke-linecap:round; stroke-linejoin:round; stroke-width:4; stroke-opacity:1; fill:none\" points=\"2137.53,356.513 2137.53,337.616 \"/>\n",
       "<path clip-path=\"url(#clip660)\" d=\"M579.383 384.353 L597.74 384.353 L597.74 388.288 L583.666 388.288 L583.666 396.761 Q584.684 396.413 585.703 396.251 Q586.721 396.066 587.74 396.066 Q593.527 396.066 596.906 399.237 Q600.286 402.409 600.286 407.825 Q600.286 413.404 596.814 416.506 Q593.341 419.584 587.022 419.584 Q584.846 419.584 582.578 419.214 Q580.332 418.844 577.925 418.103 L577.925 413.404 Q580.008 414.538 582.23 415.094 Q584.453 415.649 586.929 415.649 Q590.934 415.649 593.272 413.543 Q595.61 411.436 595.61 407.825 Q595.61 404.214 593.272 402.108 Q590.934 400.001 586.929 400.001 Q585.054 400.001 583.179 400.418 Q581.328 400.835 579.383 401.714 L579.383 384.353 Z\" fill=\"#000000\" fill-rule=\"evenodd\" fill-opacity=\"1\" /><path clip-path=\"url(#clip660)\" d=\"M950.898 414.978 L958.537 414.978 L958.537 388.612 L950.227 390.279 L950.227 386.02 L958.491 384.353 L963.166 384.353 L963.166 414.978 L970.805 414.978 L970.805 418.913 L950.898 418.913 L950.898 414.978 Z\" fill=\"#000000\" fill-rule=\"evenodd\" fill-opacity=\"1\" /><path clip-path=\"url(#clip660)\" d=\"M990.25 387.432 Q986.639 387.432 984.81 390.997 Q983.004 394.538 983.004 401.668 Q983.004 408.774 984.81 412.339 Q986.639 415.881 990.25 415.881 Q993.884 415.881 995.689 412.339 Q997.518 408.774 997.518 401.668 Q997.518 394.538 995.689 390.997 Q993.884 387.432 990.25 387.432 M990.25 383.728 Q996.06 383.728 999.115 388.335 Q1002.19 392.918 1002.19 401.668 Q1002.19 410.395 999.115 415.001 Q996.06 419.584 990.25 419.584 Q984.44 419.584 981.361 415.001 Q978.305 410.395 978.305 401.668 Q978.305 392.918 981.361 388.335 Q984.44 383.728 990.25 383.728 Z\" fill=\"#000000\" fill-rule=\"evenodd\" fill-opacity=\"1\" /><path clip-path=\"url(#clip660)\" d=\"M1338.5 414.978 L1346.14 414.978 L1346.14 388.612 L1337.83 390.279 L1337.83 386.02 L1346.09 384.353 L1350.77 384.353 L1350.77 414.978 L1358.41 414.978 L1358.41 418.913 L1338.5 418.913 L1338.5 414.978 Z\" fill=\"#000000\" fill-rule=\"evenodd\" fill-opacity=\"1\" /><path clip-path=\"url(#clip660)\" d=\"M1367.9 384.353 L1386.26 384.353 L1386.26 388.288 L1372.18 388.288 L1372.18 396.761 Q1373.2 396.413 1374.22 396.251 Q1375.24 396.066 1376.26 396.066 Q1382.04 396.066 1385.42 399.237 Q1388.8 402.409 1388.8 407.825 Q1388.8 413.404 1385.33 416.506 Q1381.86 419.584 1375.54 419.584 Q1373.36 419.584 1371.09 419.214 Q1368.85 418.844 1366.44 418.103 L1366.44 413.404 Q1368.52 414.538 1370.75 415.094 Q1372.97 415.649 1375.44 415.649 Q1379.45 415.649 1381.79 413.543 Q1384.13 411.436 1384.13 407.825 Q1384.13 404.214 1381.79 402.108 Q1379.45 400.001 1375.44 400.001 Q1373.57 400.001 1371.7 400.418 Q1369.84 400.835 1367.9 401.714 L1367.9 384.353 Z\" fill=\"#000000\" fill-rule=\"evenodd\" fill-opacity=\"1\" /><path clip-path=\"url(#clip660)\" d=\"M1729.19 414.978 L1745.51 414.978 L1745.51 418.913 L1723.57 418.913 L1723.57 414.978 Q1726.23 412.223 1730.81 407.594 Q1735.42 402.941 1736.6 401.598 Q1738.85 399.075 1739.73 397.339 Q1740.63 395.58 1740.63 393.89 Q1740.63 391.136 1738.68 389.399 Q1736.76 387.663 1733.66 387.663 Q1731.46 387.663 1729.01 388.427 Q1726.58 389.191 1723.8 390.742 L1723.8 386.02 Q1726.62 384.886 1729.08 384.307 Q1731.53 383.728 1733.57 383.728 Q1738.94 383.728 1742.13 386.413 Q1745.33 389.099 1745.33 393.589 Q1745.33 395.719 1744.52 397.64 Q1743.73 399.538 1741.62 402.131 Q1741.05 402.802 1737.94 406.02 Q1734.84 409.214 1729.19 414.978 Z\" fill=\"#000000\" fill-rule=\"evenodd\" fill-opacity=\"1\" /><path clip-path=\"url(#clip660)\" d=\"M1765.33 387.432 Q1761.72 387.432 1759.89 390.997 Q1758.08 394.538 1758.08 401.668 Q1758.08 408.774 1759.89 412.339 Q1761.72 415.881 1765.33 415.881 Q1768.96 415.881 1770.77 412.339 Q1772.6 408.774 1772.6 401.668 Q1772.6 394.538 1770.77 390.997 Q1768.96 387.432 1765.33 387.432 M1765.33 383.728 Q1771.14 383.728 1774.19 388.335 Q1777.27 392.918 1777.27 401.668 Q1777.27 410.395 1774.19 415.001 Q1771.14 419.584 1765.33 419.584 Q1759.52 419.584 1756.44 415.001 Q1753.38 410.395 1753.38 401.668 Q1753.38 392.918 1756.44 388.335 Q1759.52 383.728 1765.33 383.728 Z\" fill=\"#000000\" fill-rule=\"evenodd\" fill-opacity=\"1\" /><path clip-path=\"url(#clip660)\" d=\"M2116.8 414.978 L2133.12 414.978 L2133.12 418.913 L2111.17 418.913 L2111.17 414.978 Q2113.83 412.223 2118.42 407.594 Q2123.02 402.941 2124.2 401.598 Q2126.45 399.075 2127.33 397.339 Q2128.23 395.58 2128.23 393.89 Q2128.23 391.136 2126.29 389.399 Q2124.37 387.663 2121.26 387.663 Q2119.06 387.663 2116.61 388.427 Q2114.18 389.191 2111.4 390.742 L2111.4 386.02 Q2114.23 384.886 2116.68 384.307 Q2119.13 383.728 2121.17 383.728 Q2126.54 383.728 2129.74 386.413 Q2132.93 389.099 2132.93 393.589 Q2132.93 395.719 2132.12 397.64 Q2131.33 399.538 2129.23 402.131 Q2128.65 402.802 2125.55 406.02 Q2122.44 409.214 2116.8 414.978 Z\" fill=\"#000000\" fill-rule=\"evenodd\" fill-opacity=\"1\" /><path clip-path=\"url(#clip660)\" d=\"M2142.98 384.353 L2161.33 384.353 L2161.33 388.288 L2147.26 388.288 L2147.26 396.761 Q2148.28 396.413 2149.3 396.251 Q2150.31 396.066 2151.33 396.066 Q2157.12 396.066 2160.5 399.237 Q2163.88 402.409 2163.88 407.825 Q2163.88 413.404 2160.41 416.506 Q2156.94 419.584 2150.62 419.584 Q2148.44 419.584 2146.17 419.214 Q2143.93 418.844 2141.52 418.103 L2141.52 413.404 Q2143.6 414.538 2145.82 415.094 Q2148.05 415.649 2150.52 415.649 Q2154.53 415.649 2156.87 413.543 Q2159.2 411.436 2159.2 407.825 Q2159.2 404.214 2156.87 402.108 Q2154.53 400.001 2150.52 400.001 Q2148.65 400.001 2146.77 400.418 Q2144.92 400.835 2142.98 401.714 L2142.98 384.353 Z\" fill=\"#000000\" fill-rule=\"evenodd\" fill-opacity=\"1\" /><path clip-path=\"url(#clip660)\" d=\"M1180.03 455.608 L1180.03 465.729 L1192.1 465.729 L1192.1 470.281 L1180.03 470.281 L1180.03 489.632 Q1180.03 493.993 1181.21 495.234 Q1182.42 496.476 1186.08 496.476 L1192.1 496.476 L1192.1 501.377 L1186.08 501.377 Q1179.3 501.377 1176.72 498.863 Q1174.14 496.316 1174.14 489.632 L1174.14 470.281 L1169.85 470.281 L1169.85 465.729 L1174.14 465.729 L1174.14 455.608 L1180.03 455.608 Z\" fill=\"#000000\" fill-rule=\"evenodd\" fill-opacity=\"1\" /><path clip-path=\"url(#clip660)\" d=\"M1199.8 465.729 L1205.65 465.729 L1205.65 501.377 L1199.8 501.377 L1199.8 465.729 M1199.8 451.852 L1205.65 451.852 L1205.65 459.268 L1199.8 459.268 L1199.8 451.852 Z\" fill=\"#000000\" fill-rule=\"evenodd\" fill-opacity=\"1\" /><path clip-path=\"url(#clip660)\" d=\"M1245.66 472.572 Q1247.86 468.626 1250.91 466.748 Q1253.97 464.87 1258.11 464.87 Q1263.68 464.87 1266.7 468.785 Q1269.73 472.668 1269.73 479.861 L1269.73 501.377 L1263.84 501.377 L1263.84 480.052 Q1263.84 474.928 1262.02 472.445 Q1260.21 469.962 1256.48 469.962 Q1251.93 469.962 1249.29 472.986 Q1246.65 476.01 1246.65 481.23 L1246.65 501.377 L1240.76 501.377 L1240.76 480.052 Q1240.76 474.896 1238.95 472.445 Q1237.13 469.962 1233.35 469.962 Q1228.86 469.962 1226.22 473.018 Q1223.57 476.042 1223.57 481.23 L1223.57 501.377 L1217.69 501.377 L1217.69 465.729 L1223.57 465.729 L1223.57 471.267 Q1225.58 467.989 1228.38 466.429 Q1231.18 464.87 1235.03 464.87 Q1238.92 464.87 1241.62 466.843 Q1244.36 468.817 1245.66 472.572 Z\" fill=\"#000000\" fill-rule=\"evenodd\" fill-opacity=\"1\" /><path clip-path=\"url(#clip660)\" d=\"M1311.9 482.089 L1311.9 484.954 L1284.97 484.954 Q1285.35 491.001 1288.6 494.184 Q1291.88 497.335 1297.7 497.335 Q1301.08 497.335 1304.23 496.507 Q1307.41 495.68 1310.53 494.025 L1310.53 499.563 Q1307.38 500.9 1304.07 501.6 Q1300.76 502.3 1297.35 502.3 Q1288.82 502.3 1283.83 497.335 Q1278.86 492.37 1278.86 483.903 Q1278.86 475.15 1283.57 470.026 Q1288.31 464.87 1296.33 464.87 Q1303.53 464.87 1307.7 469.517 Q1311.9 474.132 1311.9 482.089 M1306.04 480.37 Q1305.98 475.564 1303.34 472.7 Q1300.73 469.835 1296.4 469.835 Q1291.5 469.835 1288.54 472.604 Q1285.61 475.373 1285.16 480.402 L1306.04 480.37 Z\" fill=\"#000000\" fill-rule=\"evenodd\" fill-opacity=\"1\" /><path clip-path=\"url(#clip660)\" d=\"M1320.97 451.852 L1334.46 451.852 L1334.46 456.403 L1326.83 456.403 L1326.83 505.419 L1334.46 505.419 L1334.46 509.971 L1320.97 509.971 L1320.97 451.852 Z\" fill=\"#000000\" fill-rule=\"evenodd\" fill-opacity=\"1\" /><path clip-path=\"url(#clip660)\" d=\"M1376.57 479.861 L1376.57 501.377 L1370.72 501.377 L1370.72 480.052 Q1370.72 474.991 1368.74 472.477 Q1366.77 469.962 1362.82 469.962 Q1358.08 469.962 1355.34 472.986 Q1352.61 476.01 1352.61 481.23 L1352.61 501.377 L1346.72 501.377 L1346.72 451.852 L1352.61 451.852 L1352.61 471.267 Q1354.71 468.053 1357.54 466.461 Q1360.41 464.87 1364.13 464.87 Q1370.27 464.87 1373.42 468.689 Q1376.57 472.477 1376.57 479.861 Z\" fill=\"#000000\" fill-rule=\"evenodd\" fill-opacity=\"1\" /><path clip-path=\"url(#clip660)\" d=\"M1401.94 451.852 L1401.94 509.971 L1388.45 509.971 L1388.45 505.419 L1396.05 505.419 L1396.05 456.403 L1388.45 456.403 L1388.45 451.852 L1401.94 451.852 Z\" fill=\"#000000\" fill-rule=\"evenodd\" fill-opacity=\"1\" /><polyline clip-path=\"url(#clip662)\" style=\"stroke:#000000; stroke-linecap:round; stroke-linejoin:round; stroke-width:8; stroke-opacity:0.1; fill:none\" points=\"219.033,356.513 2352.76,356.513 \"/>\n",
       "<polyline clip-path=\"url(#clip662)\" style=\"stroke:#000000; stroke-linecap:round; stroke-linejoin:round; stroke-width:8; stroke-opacity:0.1; fill:none\" points=\"219.033,294.659 2352.76,294.659 \"/>\n",
       "<polyline clip-path=\"url(#clip662)\" style=\"stroke:#000000; stroke-linecap:round; stroke-linejoin:round; stroke-width:8; stroke-opacity:0.1; fill:none\" points=\"219.033,232.806 2352.76,232.806 \"/>\n",
       "<polyline clip-path=\"url(#clip662)\" style=\"stroke:#000000; stroke-linecap:round; stroke-linejoin:round; stroke-width:8; stroke-opacity:0.1; fill:none\" points=\"219.033,170.952 2352.76,170.952 \"/>\n",
       "<polyline clip-path=\"url(#clip662)\" style=\"stroke:#000000; stroke-linecap:round; stroke-linejoin:round; stroke-width:8; stroke-opacity:0.1; fill:none\" points=\"219.033,109.098 2352.76,109.098 \"/>\n",
       "<polyline clip-path=\"url(#clip662)\" style=\"stroke:#000000; stroke-linecap:round; stroke-linejoin:round; stroke-width:8; stroke-opacity:0.1; fill:none\" points=\"219.033,47.2441 2352.76,47.2441 \"/>\n",
       "<polyline clip-path=\"url(#clip660)\" style=\"stroke:#000000; stroke-linecap:round; stroke-linejoin:round; stroke-width:4; stroke-opacity:1; fill:none\" points=\"219.033,356.513 219.033,47.2441 \"/>\n",
       "<polyline clip-path=\"url(#clip660)\" style=\"stroke:#000000; stroke-linecap:round; stroke-linejoin:round; stroke-width:4; stroke-opacity:1; fill:none\" points=\"219.033,356.513 237.931,356.513 \"/>\n",
       "<polyline clip-path=\"url(#clip660)\" style=\"stroke:#000000; stroke-linecap:round; stroke-linejoin:round; stroke-width:4; stroke-opacity:1; fill:none\" points=\"219.033,294.659 237.931,294.659 \"/>\n",
       "<polyline clip-path=\"url(#clip660)\" style=\"stroke:#000000; stroke-linecap:round; stroke-linejoin:round; stroke-width:4; stroke-opacity:1; fill:none\" points=\"219.033,232.806 237.931,232.806 \"/>\n",
       "<polyline clip-path=\"url(#clip660)\" style=\"stroke:#000000; stroke-linecap:round; stroke-linejoin:round; stroke-width:4; stroke-opacity:1; fill:none\" points=\"219.033,170.952 237.931,170.952 \"/>\n",
       "<polyline clip-path=\"url(#clip660)\" style=\"stroke:#000000; stroke-linecap:round; stroke-linejoin:round; stroke-width:4; stroke-opacity:1; fill:none\" points=\"219.033,109.098 237.931,109.098 \"/>\n",
       "<polyline clip-path=\"url(#clip660)\" style=\"stroke:#000000; stroke-linecap:round; stroke-linejoin:round; stroke-width:4; stroke-opacity:1; fill:none\" points=\"219.033,47.2441 237.931,47.2441 \"/>\n",
       "<path clip-path=\"url(#clip660)\" d=\"M117.663 369.858 L125.302 369.858 L125.302 343.492 L116.992 345.159 L116.992 340.9 L125.255 339.233 L129.931 339.233 L129.931 369.858 L137.57 369.858 L137.57 373.793 L117.663 373.793 L117.663 369.858 Z\" fill=\"#000000\" fill-rule=\"evenodd\" fill-opacity=\"1\" /><path clip-path=\"url(#clip660)\" d=\"M147.015 367.914 L151.899 367.914 L151.899 373.793 L147.015 373.793 L147.015 367.914 Z\" fill=\"#000000\" fill-rule=\"evenodd\" fill-opacity=\"1\" /><path clip-path=\"url(#clip660)\" d=\"M162.13 339.233 L180.487 339.233 L180.487 343.168 L166.413 343.168 L166.413 351.641 Q167.431 351.293 168.45 351.131 Q169.468 350.946 170.487 350.946 Q176.274 350.946 179.653 354.117 Q183.033 357.289 183.033 362.705 Q183.033 368.284 179.561 371.386 Q176.089 374.464 169.769 374.464 Q167.593 374.464 165.325 374.094 Q163.079 373.724 160.672 372.983 L160.672 368.284 Q162.755 369.418 164.977 369.974 Q167.2 370.529 169.677 370.529 Q173.681 370.529 176.019 368.423 Q178.357 366.316 178.357 362.705 Q178.357 359.094 176.019 356.988 Q173.681 354.881 169.677 354.881 Q167.802 354.881 165.927 355.298 Q164.075 355.715 162.13 356.594 L162.13 339.233 Z\" fill=\"#000000\" fill-rule=\"evenodd\" fill-opacity=\"1\" /><path clip-path=\"url(#clip660)\" d=\"M116.506 308.004 L124.144 308.004 L124.144 281.639 L115.834 283.305 L115.834 279.046 L124.098 277.379 L128.774 277.379 L128.774 308.004 L136.413 308.004 L136.413 311.939 L116.506 311.939 L116.506 308.004 Z\" fill=\"#000000\" fill-rule=\"evenodd\" fill-opacity=\"1\" /><path clip-path=\"url(#clip660)\" d=\"M145.857 306.06 L150.741 306.06 L150.741 311.939 L145.857 311.939 L145.857 306.06 Z\" fill=\"#000000\" fill-rule=\"evenodd\" fill-opacity=\"1\" /><path clip-path=\"url(#clip660)\" d=\"M171.505 292.796 Q168.357 292.796 166.505 294.949 Q164.677 297.101 164.677 300.851 Q164.677 304.578 166.505 306.754 Q168.357 308.907 171.505 308.907 Q174.653 308.907 176.482 306.754 Q178.334 304.578 178.334 300.851 Q178.334 297.101 176.482 294.949 Q174.653 292.796 171.505 292.796 M180.788 278.143 L180.788 282.402 Q179.028 281.569 177.223 281.129 Q175.44 280.69 173.681 280.69 Q169.052 280.69 166.598 283.815 Q164.167 286.939 163.82 293.259 Q165.186 291.245 167.246 290.18 Q169.306 289.092 171.783 289.092 Q176.991 289.092 180.001 292.264 Q183.033 295.412 183.033 300.851 Q183.033 306.176 179.885 309.393 Q176.737 312.611 171.505 312.611 Q165.51 312.611 162.339 308.027 Q159.167 303.421 159.167 294.694 Q159.167 286.5 163.056 281.639 Q166.945 276.754 173.496 276.754 Q175.255 276.754 177.038 277.102 Q178.843 277.449 180.788 278.143 Z\" fill=\"#000000\" fill-rule=\"evenodd\" fill-opacity=\"1\" /><path clip-path=\"url(#clip660)\" d=\"M117.57 246.15 L125.209 246.15 L125.209 219.785 L116.899 221.451 L116.899 217.192 L125.163 215.526 L129.839 215.526 L129.839 246.15 L137.478 246.15 L137.478 250.086 L117.57 250.086 L117.57 246.15 Z\" fill=\"#000000\" fill-rule=\"evenodd\" fill-opacity=\"1\" /><path clip-path=\"url(#clip660)\" d=\"M146.922 244.206 L151.806 244.206 L151.806 250.086 L146.922 250.086 L146.922 244.206 Z\" fill=\"#000000\" fill-rule=\"evenodd\" fill-opacity=\"1\" /><path clip-path=\"url(#clip660)\" d=\"M160.811 215.526 L183.033 215.526 L183.033 217.516 L170.487 250.086 L165.602 250.086 L177.408 219.461 L160.811 219.461 L160.811 215.526 Z\" fill=\"#000000\" fill-rule=\"evenodd\" fill-opacity=\"1\" /><path clip-path=\"url(#clip660)\" d=\"M116.76 184.297 L124.399 184.297 L124.399 157.931 L116.089 159.598 L116.089 155.338 L124.353 153.672 L129.029 153.672 L129.029 184.297 L136.667 184.297 L136.667 188.232 L116.76 188.232 L116.76 184.297 Z\" fill=\"#000000\" fill-rule=\"evenodd\" fill-opacity=\"1\" /><path clip-path=\"url(#clip660)\" d=\"M146.112 182.352 L150.996 182.352 L150.996 188.232 L146.112 188.232 L146.112 182.352 Z\" fill=\"#000000\" fill-rule=\"evenodd\" fill-opacity=\"1\" /><path clip-path=\"url(#clip660)\" d=\"M171.181 171.82 Q167.848 171.82 165.927 173.602 Q164.028 175.385 164.028 178.51 Q164.028 181.635 165.927 183.417 Q167.848 185.199 171.181 185.199 Q174.514 185.199 176.436 183.417 Q178.357 181.611 178.357 178.51 Q178.357 175.385 176.436 173.602 Q174.538 171.82 171.181 171.82 M166.505 169.829 Q163.496 169.088 161.806 167.028 Q160.14 164.968 160.14 162.005 Q160.14 157.862 163.079 155.454 Q166.042 153.047 171.181 153.047 Q176.343 153.047 179.283 155.454 Q182.223 157.862 182.223 162.005 Q182.223 164.968 180.533 167.028 Q178.866 169.088 175.88 169.829 Q179.26 170.616 181.135 172.908 Q183.033 175.199 183.033 178.51 Q183.033 183.533 179.954 186.218 Q176.899 188.903 171.181 188.903 Q165.464 188.903 162.385 186.218 Q159.329 183.533 159.329 178.51 Q159.329 175.199 161.227 172.908 Q163.126 170.616 166.505 169.829 M164.792 162.445 Q164.792 165.13 166.459 166.635 Q168.149 168.139 171.181 168.139 Q174.19 168.139 175.88 166.635 Q177.593 165.13 177.593 162.445 Q177.593 159.76 175.88 158.255 Q174.19 156.75 171.181 156.75 Q168.149 156.75 166.459 158.255 Q164.792 159.76 164.792 162.445 Z\" fill=\"#000000\" fill-rule=\"evenodd\" fill-opacity=\"1\" /><path clip-path=\"url(#clip660)\" d=\"M116.853 122.443 L124.492 122.443 L124.492 96.0771 L116.181 97.7438 L116.181 93.4846 L124.445 91.8179 L129.121 91.8179 L129.121 122.443 L136.76 122.443 L136.76 126.378 L116.853 126.378 L116.853 122.443 Z\" fill=\"#000000\" fill-rule=\"evenodd\" fill-opacity=\"1\" /><path clip-path=\"url(#clip660)\" d=\"M146.204 120.498 L151.089 120.498 L151.089 126.378 L146.204 126.378 L146.204 120.498 Z\" fill=\"#000000\" fill-rule=\"evenodd\" fill-opacity=\"1\" /><path clip-path=\"url(#clip660)\" d=\"M161.413 125.66 L161.413 121.401 Q163.172 122.234 164.977 122.674 Q166.783 123.114 168.519 123.114 Q173.149 123.114 175.579 120.012 Q178.033 116.887 178.38 110.545 Q177.038 112.535 174.977 113.6 Q172.917 114.665 170.417 114.665 Q165.232 114.665 162.2 111.54 Q159.19 108.392 159.19 102.952 Q159.19 97.6281 162.339 94.4105 Q165.487 91.1929 170.718 91.1929 Q176.714 91.1929 179.862 95.7994 Q183.033 100.383 183.033 109.133 Q183.033 117.304 179.144 122.188 Q175.278 127.049 168.727 127.049 Q166.968 127.049 165.163 126.702 Q163.357 126.355 161.413 125.66 M170.718 111.008 Q173.866 111.008 175.695 108.855 Q177.547 106.702 177.547 102.952 Q177.547 99.2253 175.695 97.0725 Q173.866 94.8966 170.718 94.8966 Q167.57 94.8966 165.718 97.0725 Q163.89 99.2253 163.89 102.952 Q163.89 106.702 165.718 108.855 Q167.57 111.008 170.718 111.008 Z\" fill=\"#000000\" fill-rule=\"evenodd\" fill-opacity=\"1\" /><path clip-path=\"url(#clip660)\" d=\"M119.885 60.5889 L136.204 60.5889 L136.204 64.5241 L114.26 64.5241 L114.26 60.5889 Q116.922 57.8343 121.505 53.2047 Q126.112 48.552 127.292 47.2094 Q129.538 44.6862 130.417 42.9501 Q131.32 41.1909 131.32 39.5011 Q131.32 36.7465 129.376 35.0104 Q127.455 33.2743 124.353 33.2743 Q122.154 33.2743 119.7 34.0381 Q117.269 34.802 114.492 36.3529 L114.492 31.6308 Q117.316 30.4965 119.769 29.9178 Q122.223 29.3391 124.26 29.3391 Q129.63 29.3391 132.825 32.0243 Q136.019 34.7094 136.019 39.2002 Q136.019 41.3298 135.209 43.2511 Q134.422 45.1492 132.316 47.7418 Q131.737 48.4131 128.635 51.6306 Q125.533 54.8251 119.885 60.5889 Z\" fill=\"#000000\" fill-rule=\"evenodd\" fill-opacity=\"1\" /><path clip-path=\"url(#clip660)\" d=\"M146.019 58.6445 L150.903 58.6445 L150.903 64.5241 L146.019 64.5241 L146.019 58.6445 Z\" fill=\"#000000\" fill-rule=\"evenodd\" fill-opacity=\"1\" /><path clip-path=\"url(#clip660)\" d=\"M171.089 33.0428 Q167.477 33.0428 165.649 36.6076 Q163.843 40.1492 163.843 47.2788 Q163.843 54.3853 165.649 57.9501 Q167.477 61.4917 171.089 61.4917 Q174.723 61.4917 176.528 57.9501 Q178.357 54.3853 178.357 47.2788 Q178.357 40.1492 176.528 36.6076 Q174.723 33.0428 171.089 33.0428 M171.089 29.3391 Q176.899 29.3391 179.954 33.9456 Q183.033 38.5289 183.033 47.2788 Q183.033 56.0056 179.954 60.6121 Q176.899 65.1954 171.089 65.1954 Q165.278 65.1954 162.2 60.6121 Q159.144 56.0056 159.144 47.2788 Q159.144 38.5289 162.2 33.9456 Q165.278 29.3391 171.089 29.3391 Z\" fill=\"#000000\" fill-rule=\"evenodd\" fill-opacity=\"1\" /><path clip-path=\"url(#clip660)\" d=\"M49.9359 237.495 L28.3562 237.495 L28.3562 231.638 L49.7131 231.638 Q54.7739 231.638 57.3202 229.665 Q59.8346 227.692 59.8346 223.745 Q59.8346 219.002 56.8109 216.265 Q53.7872 213.496 48.5673 213.496 L28.3562 213.496 L28.3562 207.64 L64.0042 207.64 L64.0042 213.496 L58.5296 213.496 Q61.7762 215.629 63.3676 218.461 Q64.9272 221.262 64.9272 224.986 Q64.9272 231.129 61.1078 234.312 Q57.2883 237.495 49.9359 237.495 M27.4968 222.758 L27.4968 222.758 Z\" fill=\"#000000\" fill-rule=\"evenodd\" fill-opacity=\"1\" /><path clip-path=\"url(#clip660)\" d=\"M58.5933 193.635 L58.5933 183.132 L22.3406 183.132 L24.6323 194.558 L18.7758 194.558 L16.4842 183.195 L16.4842 176.766 L58.5933 176.766 L58.5933 166.263 L64.0042 166.263 L64.0042 193.635 L58.5933 193.635 Z\" fill=\"#000000\" fill-rule=\"evenodd\" fill-opacity=\"1\" /><line clip-path=\"url(#clip662)\" x1=\"279.421\" y1=\"240.475\" x2=\"279.421\" y2=\"224.475\" style=\"stroke:#6b9e32; stroke-width:3.2; stroke-opacity:1\"/>\n",
       "<line clip-path=\"url(#clip662)\" x1=\"279.421\" y1=\"240.475\" x2=\"263.421\" y2=\"240.475\" style=\"stroke:#6b9e32; stroke-width:3.2; stroke-opacity:1\"/>\n",
       "<line clip-path=\"url(#clip662)\" x1=\"279.421\" y1=\"240.475\" x2=\"279.421\" y2=\"256.475\" style=\"stroke:#6b9e32; stroke-width:3.2; stroke-opacity:1\"/>\n",
       "<line clip-path=\"url(#clip662)\" x1=\"279.421\" y1=\"240.475\" x2=\"295.421\" y2=\"240.475\" style=\"stroke:#6b9e32; stroke-width:3.2; stroke-opacity:1\"/>\n",
       "<line clip-path=\"url(#clip662)\" x1=\"356.842\" y1=\"111.565\" x2=\"356.842\" y2=\"95.5651\" style=\"stroke:#6b9e32; stroke-width:3.2; stroke-opacity:1\"/>\n",
       "<line clip-path=\"url(#clip662)\" x1=\"356.842\" y1=\"111.565\" x2=\"340.842\" y2=\"111.565\" style=\"stroke:#6b9e32; stroke-width:3.2; stroke-opacity:1\"/>\n",
       "<line clip-path=\"url(#clip662)\" x1=\"356.842\" y1=\"111.565\" x2=\"356.842\" y2=\"127.565\" style=\"stroke:#6b9e32; stroke-width:3.2; stroke-opacity:1\"/>\n",
       "<line clip-path=\"url(#clip662)\" x1=\"356.842\" y1=\"111.565\" x2=\"372.842\" y2=\"111.565\" style=\"stroke:#6b9e32; stroke-width:3.2; stroke-opacity:1\"/>\n",
       "<line clip-path=\"url(#clip662)\" x1=\"434.263\" y1=\"85.5942\" x2=\"434.263\" y2=\"69.5942\" style=\"stroke:#6b9e32; stroke-width:3.2; stroke-opacity:1\"/>\n",
       "<line clip-path=\"url(#clip662)\" x1=\"434.263\" y1=\"85.5942\" x2=\"418.263\" y2=\"85.5942\" style=\"stroke:#6b9e32; stroke-width:3.2; stroke-opacity:1\"/>\n",
       "<line clip-path=\"url(#clip662)\" x1=\"434.263\" y1=\"85.5942\" x2=\"434.263\" y2=\"101.594\" style=\"stroke:#6b9e32; stroke-width:3.2; stroke-opacity:1\"/>\n",
       "<line clip-path=\"url(#clip662)\" x1=\"434.263\" y1=\"85.5942\" x2=\"450.263\" y2=\"85.5942\" style=\"stroke:#6b9e32; stroke-width:3.2; stroke-opacity:1\"/>\n",
       "<line clip-path=\"url(#clip662)\" x1=\"511.684\" y1=\"97.6648\" x2=\"511.684\" y2=\"81.6648\" style=\"stroke:#6b9e32; stroke-width:3.2; stroke-opacity:1\"/>\n",
       "<line clip-path=\"url(#clip662)\" x1=\"511.684\" y1=\"97.6648\" x2=\"495.684\" y2=\"97.6648\" style=\"stroke:#6b9e32; stroke-width:3.2; stroke-opacity:1\"/>\n",
       "<line clip-path=\"url(#clip662)\" x1=\"511.684\" y1=\"97.6648\" x2=\"511.684\" y2=\"113.665\" style=\"stroke:#6b9e32; stroke-width:3.2; stroke-opacity:1\"/>\n",
       "<line clip-path=\"url(#clip662)\" x1=\"511.684\" y1=\"97.6648\" x2=\"527.684\" y2=\"97.6648\" style=\"stroke:#6b9e32; stroke-width:3.2; stroke-opacity:1\"/>\n",
       "<line clip-path=\"url(#clip662)\" x1=\"589.105\" y1=\"130.218\" x2=\"589.105\" y2=\"114.218\" style=\"stroke:#6b9e32; stroke-width:3.2; stroke-opacity:1\"/>\n",
       "<line clip-path=\"url(#clip662)\" x1=\"589.105\" y1=\"130.218\" x2=\"573.105\" y2=\"130.218\" style=\"stroke:#6b9e32; stroke-width:3.2; stroke-opacity:1\"/>\n",
       "<line clip-path=\"url(#clip662)\" x1=\"589.105\" y1=\"130.218\" x2=\"589.105\" y2=\"146.218\" style=\"stroke:#6b9e32; stroke-width:3.2; stroke-opacity:1\"/>\n",
       "<line clip-path=\"url(#clip662)\" x1=\"589.105\" y1=\"130.218\" x2=\"605.105\" y2=\"130.218\" style=\"stroke:#6b9e32; stroke-width:3.2; stroke-opacity:1\"/>\n",
       "<line clip-path=\"url(#clip662)\" x1=\"666.526\" y1=\"169.836\" x2=\"666.526\" y2=\"153.836\" style=\"stroke:#6b9e32; stroke-width:3.2; stroke-opacity:1\"/>\n",
       "<line clip-path=\"url(#clip662)\" x1=\"666.526\" y1=\"169.836\" x2=\"650.526\" y2=\"169.836\" style=\"stroke:#6b9e32; stroke-width:3.2; stroke-opacity:1\"/>\n",
       "<line clip-path=\"url(#clip662)\" x1=\"666.526\" y1=\"169.836\" x2=\"666.526\" y2=\"185.836\" style=\"stroke:#6b9e32; stroke-width:3.2; stroke-opacity:1\"/>\n",
       "<line clip-path=\"url(#clip662)\" x1=\"666.526\" y1=\"169.836\" x2=\"682.526\" y2=\"169.836\" style=\"stroke:#6b9e32; stroke-width:3.2; stroke-opacity:1\"/>\n",
       "<line clip-path=\"url(#clip662)\" x1=\"743.947\" y1=\"200.115\" x2=\"743.947\" y2=\"184.115\" style=\"stroke:#6b9e32; stroke-width:3.2; stroke-opacity:1\"/>\n",
       "<line clip-path=\"url(#clip662)\" x1=\"743.947\" y1=\"200.115\" x2=\"727.947\" y2=\"200.115\" style=\"stroke:#6b9e32; stroke-width:3.2; stroke-opacity:1\"/>\n",
       "<line clip-path=\"url(#clip662)\" x1=\"743.947\" y1=\"200.115\" x2=\"743.947\" y2=\"216.115\" style=\"stroke:#6b9e32; stroke-width:3.2; stroke-opacity:1\"/>\n",
       "<line clip-path=\"url(#clip662)\" x1=\"743.947\" y1=\"200.115\" x2=\"759.947\" y2=\"200.115\" style=\"stroke:#6b9e32; stroke-width:3.2; stroke-opacity:1\"/>\n",
       "<line clip-path=\"url(#clip662)\" x1=\"821.368\" y1=\"218.055\" x2=\"821.368\" y2=\"202.055\" style=\"stroke:#6b9e32; stroke-width:3.2; stroke-opacity:1\"/>\n",
       "<line clip-path=\"url(#clip662)\" x1=\"821.368\" y1=\"218.055\" x2=\"805.368\" y2=\"218.055\" style=\"stroke:#6b9e32; stroke-width:3.2; stroke-opacity:1\"/>\n",
       "<line clip-path=\"url(#clip662)\" x1=\"821.368\" y1=\"218.055\" x2=\"821.368\" y2=\"234.055\" style=\"stroke:#6b9e32; stroke-width:3.2; stroke-opacity:1\"/>\n",
       "<line clip-path=\"url(#clip662)\" x1=\"821.368\" y1=\"218.055\" x2=\"837.368\" y2=\"218.055\" style=\"stroke:#6b9e32; stroke-width:3.2; stroke-opacity:1\"/>\n",
       "<line clip-path=\"url(#clip662)\" x1=\"898.789\" y1=\"203.005\" x2=\"898.789\" y2=\"187.005\" style=\"stroke:#6b9e32; stroke-width:3.2; stroke-opacity:1\"/>\n",
       "<line clip-path=\"url(#clip662)\" x1=\"898.789\" y1=\"203.005\" x2=\"882.789\" y2=\"203.005\" style=\"stroke:#6b9e32; stroke-width:3.2; stroke-opacity:1\"/>\n",
       "<line clip-path=\"url(#clip662)\" x1=\"898.789\" y1=\"203.005\" x2=\"898.789\" y2=\"219.005\" style=\"stroke:#6b9e32; stroke-width:3.2; stroke-opacity:1\"/>\n",
       "<line clip-path=\"url(#clip662)\" x1=\"898.789\" y1=\"203.005\" x2=\"914.789\" y2=\"203.005\" style=\"stroke:#6b9e32; stroke-width:3.2; stroke-opacity:1\"/>\n",
       "<line clip-path=\"url(#clip662)\" x1=\"976.21\" y1=\"180.803\" x2=\"976.21\" y2=\"164.803\" style=\"stroke:#6b9e32; stroke-width:3.2; stroke-opacity:1\"/>\n",
       "<line clip-path=\"url(#clip662)\" x1=\"976.21\" y1=\"180.803\" x2=\"960.21\" y2=\"180.803\" style=\"stroke:#6b9e32; stroke-width:3.2; stroke-opacity:1\"/>\n",
       "<line clip-path=\"url(#clip662)\" x1=\"976.21\" y1=\"180.803\" x2=\"976.21\" y2=\"196.803\" style=\"stroke:#6b9e32; stroke-width:3.2; stroke-opacity:1\"/>\n",
       "<line clip-path=\"url(#clip662)\" x1=\"976.21\" y1=\"180.803\" x2=\"992.21\" y2=\"180.803\" style=\"stroke:#6b9e32; stroke-width:3.2; stroke-opacity:1\"/>\n",
       "<line clip-path=\"url(#clip662)\" x1=\"1053.63\" y1=\"186.201\" x2=\"1053.63\" y2=\"170.201\" style=\"stroke:#6b9e32; stroke-width:3.2; stroke-opacity:1\"/>\n",
       "<line clip-path=\"url(#clip662)\" x1=\"1053.63\" y1=\"186.201\" x2=\"1037.63\" y2=\"186.201\" style=\"stroke:#6b9e32; stroke-width:3.2; stroke-opacity:1\"/>\n",
       "<line clip-path=\"url(#clip662)\" x1=\"1053.63\" y1=\"186.201\" x2=\"1053.63\" y2=\"202.201\" style=\"stroke:#6b9e32; stroke-width:3.2; stroke-opacity:1\"/>\n",
       "<line clip-path=\"url(#clip662)\" x1=\"1053.63\" y1=\"186.201\" x2=\"1069.63\" y2=\"186.201\" style=\"stroke:#6b9e32; stroke-width:3.2; stroke-opacity:1\"/>\n",
       "<line clip-path=\"url(#clip662)\" x1=\"1131.05\" y1=\"198.478\" x2=\"1131.05\" y2=\"182.478\" style=\"stroke:#6b9e32; stroke-width:3.2; stroke-opacity:1\"/>\n",
       "<line clip-path=\"url(#clip662)\" x1=\"1131.05\" y1=\"198.478\" x2=\"1115.05\" y2=\"198.478\" style=\"stroke:#6b9e32; stroke-width:3.2; stroke-opacity:1\"/>\n",
       "<line clip-path=\"url(#clip662)\" x1=\"1131.05\" y1=\"198.478\" x2=\"1131.05\" y2=\"214.478\" style=\"stroke:#6b9e32; stroke-width:3.2; stroke-opacity:1\"/>\n",
       "<line clip-path=\"url(#clip662)\" x1=\"1131.05\" y1=\"198.478\" x2=\"1147.05\" y2=\"198.478\" style=\"stroke:#6b9e32; stroke-width:3.2; stroke-opacity:1\"/>\n",
       "<line clip-path=\"url(#clip662)\" x1=\"1208.47\" y1=\"188.861\" x2=\"1208.47\" y2=\"172.861\" style=\"stroke:#6b9e32; stroke-width:3.2; stroke-opacity:1\"/>\n",
       "<line clip-path=\"url(#clip662)\" x1=\"1208.47\" y1=\"188.861\" x2=\"1192.47\" y2=\"188.861\" style=\"stroke:#6b9e32; stroke-width:3.2; stroke-opacity:1\"/>\n",
       "<line clip-path=\"url(#clip662)\" x1=\"1208.47\" y1=\"188.861\" x2=\"1208.47\" y2=\"204.861\" style=\"stroke:#6b9e32; stroke-width:3.2; stroke-opacity:1\"/>\n",
       "<line clip-path=\"url(#clip662)\" x1=\"1208.47\" y1=\"188.861\" x2=\"1224.47\" y2=\"188.861\" style=\"stroke:#6b9e32; stroke-width:3.2; stroke-opacity:1\"/>\n",
       "<line clip-path=\"url(#clip662)\" x1=\"1285.89\" y1=\"181.198\" x2=\"1285.89\" y2=\"165.198\" style=\"stroke:#6b9e32; stroke-width:3.2; stroke-opacity:1\"/>\n",
       "<line clip-path=\"url(#clip662)\" x1=\"1285.89\" y1=\"181.198\" x2=\"1269.89\" y2=\"181.198\" style=\"stroke:#6b9e32; stroke-width:3.2; stroke-opacity:1\"/>\n",
       "<line clip-path=\"url(#clip662)\" x1=\"1285.89\" y1=\"181.198\" x2=\"1285.89\" y2=\"197.198\" style=\"stroke:#6b9e32; stroke-width:3.2; stroke-opacity:1\"/>\n",
       "<line clip-path=\"url(#clip662)\" x1=\"1285.89\" y1=\"181.198\" x2=\"1301.89\" y2=\"181.198\" style=\"stroke:#6b9e32; stroke-width:3.2; stroke-opacity:1\"/>\n",
       "<line clip-path=\"url(#clip662)\" x1=\"1363.32\" y1=\"188.814\" x2=\"1363.32\" y2=\"172.814\" style=\"stroke:#6b9e32; stroke-width:3.2; stroke-opacity:1\"/>\n",
       "<line clip-path=\"url(#clip662)\" x1=\"1363.32\" y1=\"188.814\" x2=\"1347.32\" y2=\"188.814\" style=\"stroke:#6b9e32; stroke-width:3.2; stroke-opacity:1\"/>\n",
       "<line clip-path=\"url(#clip662)\" x1=\"1363.32\" y1=\"188.814\" x2=\"1363.32\" y2=\"204.814\" style=\"stroke:#6b9e32; stroke-width:3.2; stroke-opacity:1\"/>\n",
       "<line clip-path=\"url(#clip662)\" x1=\"1363.32\" y1=\"188.814\" x2=\"1379.32\" y2=\"188.814\" style=\"stroke:#6b9e32; stroke-width:3.2; stroke-opacity:1\"/>\n",
       "<line clip-path=\"url(#clip662)\" x1=\"1440.74\" y1=\"200.127\" x2=\"1440.74\" y2=\"184.127\" style=\"stroke:#6b9e32; stroke-width:3.2; stroke-opacity:1\"/>\n",
       "<line clip-path=\"url(#clip662)\" x1=\"1440.74\" y1=\"200.127\" x2=\"1424.74\" y2=\"200.127\" style=\"stroke:#6b9e32; stroke-width:3.2; stroke-opacity:1\"/>\n",
       "<line clip-path=\"url(#clip662)\" x1=\"1440.74\" y1=\"200.127\" x2=\"1440.74\" y2=\"216.127\" style=\"stroke:#6b9e32; stroke-width:3.2; stroke-opacity:1\"/>\n",
       "<line clip-path=\"url(#clip662)\" x1=\"1440.74\" y1=\"200.127\" x2=\"1456.74\" y2=\"200.127\" style=\"stroke:#6b9e32; stroke-width:3.2; stroke-opacity:1\"/>\n",
       "<line clip-path=\"url(#clip662)\" x1=\"1518.16\" y1=\"196.818\" x2=\"1518.16\" y2=\"180.818\" style=\"stroke:#6b9e32; stroke-width:3.2; stroke-opacity:1\"/>\n",
       "<line clip-path=\"url(#clip662)\" x1=\"1518.16\" y1=\"196.818\" x2=\"1502.16\" y2=\"196.818\" style=\"stroke:#6b9e32; stroke-width:3.2; stroke-opacity:1\"/>\n",
       "<line clip-path=\"url(#clip662)\" x1=\"1518.16\" y1=\"196.818\" x2=\"1518.16\" y2=\"212.818\" style=\"stroke:#6b9e32; stroke-width:3.2; stroke-opacity:1\"/>\n",
       "<line clip-path=\"url(#clip662)\" x1=\"1518.16\" y1=\"196.818\" x2=\"1534.16\" y2=\"196.818\" style=\"stroke:#6b9e32; stroke-width:3.2; stroke-opacity:1\"/>\n",
       "<line clip-path=\"url(#clip662)\" x1=\"1595.58\" y1=\"180.484\" x2=\"1595.58\" y2=\"164.484\" style=\"stroke:#6b9e32; stroke-width:3.2; stroke-opacity:1\"/>\n",
       "<line clip-path=\"url(#clip662)\" x1=\"1595.58\" y1=\"180.484\" x2=\"1579.58\" y2=\"180.484\" style=\"stroke:#6b9e32; stroke-width:3.2; stroke-opacity:1\"/>\n",
       "<line clip-path=\"url(#clip662)\" x1=\"1595.58\" y1=\"180.484\" x2=\"1595.58\" y2=\"196.484\" style=\"stroke:#6b9e32; stroke-width:3.2; stroke-opacity:1\"/>\n",
       "<line clip-path=\"url(#clip662)\" x1=\"1595.58\" y1=\"180.484\" x2=\"1611.58\" y2=\"180.484\" style=\"stroke:#6b9e32; stroke-width:3.2; stroke-opacity:1\"/>\n",
       "<line clip-path=\"url(#clip662)\" x1=\"1673\" y1=\"193.473\" x2=\"1673\" y2=\"177.473\" style=\"stroke:#6b9e32; stroke-width:3.2; stroke-opacity:1\"/>\n",
       "<line clip-path=\"url(#clip662)\" x1=\"1673\" y1=\"193.473\" x2=\"1657\" y2=\"193.473\" style=\"stroke:#6b9e32; stroke-width:3.2; stroke-opacity:1\"/>\n",
       "<line clip-path=\"url(#clip662)\" x1=\"1673\" y1=\"193.473\" x2=\"1673\" y2=\"209.473\" style=\"stroke:#6b9e32; stroke-width:3.2; stroke-opacity:1\"/>\n",
       "<line clip-path=\"url(#clip662)\" x1=\"1673\" y1=\"193.473\" x2=\"1689\" y2=\"193.473\" style=\"stroke:#6b9e32; stroke-width:3.2; stroke-opacity:1\"/>\n",
       "<line clip-path=\"url(#clip662)\" x1=\"1750.42\" y1=\"190.777\" x2=\"1750.42\" y2=\"174.777\" style=\"stroke:#6b9e32; stroke-width:3.2; stroke-opacity:1\"/>\n",
       "<line clip-path=\"url(#clip662)\" x1=\"1750.42\" y1=\"190.777\" x2=\"1734.42\" y2=\"190.777\" style=\"stroke:#6b9e32; stroke-width:3.2; stroke-opacity:1\"/>\n",
       "<line clip-path=\"url(#clip662)\" x1=\"1750.42\" y1=\"190.777\" x2=\"1750.42\" y2=\"206.777\" style=\"stroke:#6b9e32; stroke-width:3.2; stroke-opacity:1\"/>\n",
       "<line clip-path=\"url(#clip662)\" x1=\"1750.42\" y1=\"190.777\" x2=\"1766.42\" y2=\"190.777\" style=\"stroke:#6b9e32; stroke-width:3.2; stroke-opacity:1\"/>\n",
       "<line clip-path=\"url(#clip662)\" x1=\"1827.84\" y1=\"190.777\" x2=\"1827.84\" y2=\"174.777\" style=\"stroke:#6b9e32; stroke-width:3.2; stroke-opacity:1\"/>\n",
       "<line clip-path=\"url(#clip662)\" x1=\"1827.84\" y1=\"190.777\" x2=\"1811.84\" y2=\"190.777\" style=\"stroke:#6b9e32; stroke-width:3.2; stroke-opacity:1\"/>\n",
       "<line clip-path=\"url(#clip662)\" x1=\"1827.84\" y1=\"190.777\" x2=\"1827.84\" y2=\"206.777\" style=\"stroke:#6b9e32; stroke-width:3.2; stroke-opacity:1\"/>\n",
       "<line clip-path=\"url(#clip662)\" x1=\"1827.84\" y1=\"190.777\" x2=\"1843.84\" y2=\"190.777\" style=\"stroke:#6b9e32; stroke-width:3.2; stroke-opacity:1\"/>\n",
       "<line clip-path=\"url(#clip662)\" x1=\"1905.26\" y1=\"190.777\" x2=\"1905.26\" y2=\"174.777\" style=\"stroke:#6b9e32; stroke-width:3.2; stroke-opacity:1\"/>\n",
       "<line clip-path=\"url(#clip662)\" x1=\"1905.26\" y1=\"190.777\" x2=\"1889.26\" y2=\"190.777\" style=\"stroke:#6b9e32; stroke-width:3.2; stroke-opacity:1\"/>\n",
       "<line clip-path=\"url(#clip662)\" x1=\"1905.26\" y1=\"190.777\" x2=\"1905.26\" y2=\"206.777\" style=\"stroke:#6b9e32; stroke-width:3.2; stroke-opacity:1\"/>\n",
       "<line clip-path=\"url(#clip662)\" x1=\"1905.26\" y1=\"190.777\" x2=\"1921.26\" y2=\"190.777\" style=\"stroke:#6b9e32; stroke-width:3.2; stroke-opacity:1\"/>\n",
       "<line clip-path=\"url(#clip662)\" x1=\"1982.68\" y1=\"190.777\" x2=\"1982.68\" y2=\"174.777\" style=\"stroke:#6b9e32; stroke-width:3.2; stroke-opacity:1\"/>\n",
       "<line clip-path=\"url(#clip662)\" x1=\"1982.68\" y1=\"190.777\" x2=\"1966.68\" y2=\"190.777\" style=\"stroke:#6b9e32; stroke-width:3.2; stroke-opacity:1\"/>\n",
       "<line clip-path=\"url(#clip662)\" x1=\"1982.68\" y1=\"190.777\" x2=\"1982.68\" y2=\"206.777\" style=\"stroke:#6b9e32; stroke-width:3.2; stroke-opacity:1\"/>\n",
       "<line clip-path=\"url(#clip662)\" x1=\"1982.68\" y1=\"190.777\" x2=\"1998.68\" y2=\"190.777\" style=\"stroke:#6b9e32; stroke-width:3.2; stroke-opacity:1\"/>\n",
       "<line clip-path=\"url(#clip662)\" x1=\"2060.1\" y1=\"190.777\" x2=\"2060.1\" y2=\"174.777\" style=\"stroke:#6b9e32; stroke-width:3.2; stroke-opacity:1\"/>\n",
       "<line clip-path=\"url(#clip662)\" x1=\"2060.1\" y1=\"190.777\" x2=\"2044.1\" y2=\"190.777\" style=\"stroke:#6b9e32; stroke-width:3.2; stroke-opacity:1\"/>\n",
       "<line clip-path=\"url(#clip662)\" x1=\"2060.1\" y1=\"190.777\" x2=\"2060.1\" y2=\"206.777\" style=\"stroke:#6b9e32; stroke-width:3.2; stroke-opacity:1\"/>\n",
       "<line clip-path=\"url(#clip662)\" x1=\"2060.1\" y1=\"190.777\" x2=\"2076.1\" y2=\"190.777\" style=\"stroke:#6b9e32; stroke-width:3.2; stroke-opacity:1\"/>\n",
       "<line clip-path=\"url(#clip662)\" x1=\"2137.53\" y1=\"190.777\" x2=\"2137.53\" y2=\"174.777\" style=\"stroke:#6b9e32; stroke-width:3.2; stroke-opacity:1\"/>\n",
       "<line clip-path=\"url(#clip662)\" x1=\"2137.53\" y1=\"190.777\" x2=\"2121.53\" y2=\"190.777\" style=\"stroke:#6b9e32; stroke-width:3.2; stroke-opacity:1\"/>\n",
       "<line clip-path=\"url(#clip662)\" x1=\"2137.53\" y1=\"190.777\" x2=\"2137.53\" y2=\"206.777\" style=\"stroke:#6b9e32; stroke-width:3.2; stroke-opacity:1\"/>\n",
       "<line clip-path=\"url(#clip662)\" x1=\"2137.53\" y1=\"190.777\" x2=\"2153.53\" y2=\"190.777\" style=\"stroke:#6b9e32; stroke-width:3.2; stroke-opacity:1\"/>\n",
       "<line clip-path=\"url(#clip662)\" x1=\"2214.95\" y1=\"190.777\" x2=\"2214.95\" y2=\"174.777\" style=\"stroke:#6b9e32; stroke-width:3.2; stroke-opacity:1\"/>\n",
       "<line clip-path=\"url(#clip662)\" x1=\"2214.95\" y1=\"190.777\" x2=\"2198.95\" y2=\"190.777\" style=\"stroke:#6b9e32; stroke-width:3.2; stroke-opacity:1\"/>\n",
       "<line clip-path=\"url(#clip662)\" x1=\"2214.95\" y1=\"190.777\" x2=\"2214.95\" y2=\"206.777\" style=\"stroke:#6b9e32; stroke-width:3.2; stroke-opacity:1\"/>\n",
       "<line clip-path=\"url(#clip662)\" x1=\"2214.95\" y1=\"190.777\" x2=\"2230.95\" y2=\"190.777\" style=\"stroke:#6b9e32; stroke-width:3.2; stroke-opacity:1\"/>\n",
       "<line clip-path=\"url(#clip662)\" x1=\"2292.37\" y1=\"190.777\" x2=\"2292.37\" y2=\"174.777\" style=\"stroke:#6b9e32; stroke-width:3.2; stroke-opacity:1\"/>\n",
       "<line clip-path=\"url(#clip662)\" x1=\"2292.37\" y1=\"190.777\" x2=\"2276.37\" y2=\"190.777\" style=\"stroke:#6b9e32; stroke-width:3.2; stroke-opacity:1\"/>\n",
       "<line clip-path=\"url(#clip662)\" x1=\"2292.37\" y1=\"190.777\" x2=\"2292.37\" y2=\"206.777\" style=\"stroke:#6b9e32; stroke-width:3.2; stroke-opacity:1\"/>\n",
       "<line clip-path=\"url(#clip662)\" x1=\"2292.37\" y1=\"190.777\" x2=\"2308.37\" y2=\"190.777\" style=\"stroke:#6b9e32; stroke-width:3.2; stroke-opacity:1\"/>\n",
       "<polyline clip-path=\"url(#clip662)\" style=\"stroke:#ff0000; stroke-linecap:round; stroke-linejoin:round; stroke-width:20; stroke-opacity:0.3; fill:none\" points=\"279.421,240.475 279.421,111.565 356.842,111.565 356.842,85.5942 434.263,85.5942 434.263,97.6648 511.684,97.6648 511.684,130.218 589.105,130.218 589.105,169.836 666.526,169.836 666.526,200.115 743.947,200.115 743.947,218.055 821.368,218.055 821.368,203.005 898.789,203.005 898.789,180.803 976.21,180.803 976.21,186.201 1053.63,186.201 1053.63,198.478 1131.05,198.478 1131.05,188.861 1208.47,188.861 1208.47,181.198 1285.89,181.198 1285.89,188.814 1363.32,188.814 1363.32,200.127 1440.74,200.127 1440.74,196.818 1518.16,196.818 1518.16,180.484 1595.58,180.484 1595.58,193.473 1673,193.473 1673,190.777 1750.42,190.777 1827.84,190.777 1905.26,190.777 1982.68,190.777 2060.1,190.777 2137.53,190.777 2214.95,190.777 2292.37,190.777 \"/>\n",
       "<circle clip-path=\"url(#clip662)\" cx=\"279.421\" cy=\"240.475\" r=\"14.4\" fill=\"#009af9\" fill-rule=\"evenodd\" fill-opacity=\"1\" stroke=\"#000000\" stroke-opacity=\"1\" stroke-width=\"3.2\"/>\n",
       "<circle clip-path=\"url(#clip662)\" cx=\"356.842\" cy=\"111.566\" r=\"14.4\" fill=\"#009af9\" fill-rule=\"evenodd\" fill-opacity=\"1\" stroke=\"#000000\" stroke-opacity=\"1\" stroke-width=\"3.2\"/>\n",
       "<circle clip-path=\"url(#clip662)\" cx=\"434.263\" cy=\"85.5948\" r=\"14.4\" fill=\"#009af9\" fill-rule=\"evenodd\" fill-opacity=\"1\" stroke=\"#000000\" stroke-opacity=\"1\" stroke-width=\"3.2\"/>\n",
       "<circle clip-path=\"url(#clip662)\" cx=\"511.684\" cy=\"97.6654\" r=\"14.4\" fill=\"#009af9\" fill-rule=\"evenodd\" fill-opacity=\"1\" stroke=\"#000000\" stroke-opacity=\"1\" stroke-width=\"3.2\"/>\n",
       "<circle clip-path=\"url(#clip662)\" cx=\"589.105\" cy=\"130.217\" r=\"14.4\" fill=\"#009af9\" fill-rule=\"evenodd\" fill-opacity=\"1\" stroke=\"#000000\" stroke-opacity=\"1\" stroke-width=\"3.2\"/>\n",
       "<circle clip-path=\"url(#clip662)\" cx=\"666.526\" cy=\"169.836\" r=\"14.4\" fill=\"#009af9\" fill-rule=\"evenodd\" fill-opacity=\"1\" stroke=\"#000000\" stroke-opacity=\"1\" stroke-width=\"3.2\"/>\n",
       "<circle clip-path=\"url(#clip662)\" cx=\"743.947\" cy=\"200.115\" r=\"14.4\" fill=\"#009af9\" fill-rule=\"evenodd\" fill-opacity=\"1\" stroke=\"#000000\" stroke-opacity=\"1\" stroke-width=\"3.2\"/>\n",
       "<circle clip-path=\"url(#clip662)\" cx=\"821.368\" cy=\"218.056\" r=\"14.4\" fill=\"#009af9\" fill-rule=\"evenodd\" fill-opacity=\"1\" stroke=\"#000000\" stroke-opacity=\"1\" stroke-width=\"3.2\"/>\n",
       "<circle clip-path=\"url(#clip662)\" cx=\"898.789\" cy=\"203.005\" r=\"14.4\" fill=\"#009af9\" fill-rule=\"evenodd\" fill-opacity=\"1\" stroke=\"#000000\" stroke-opacity=\"1\" stroke-width=\"3.2\"/>\n",
       "<circle clip-path=\"url(#clip662)\" cx=\"976.21\" cy=\"180.803\" r=\"14.4\" fill=\"#009af9\" fill-rule=\"evenodd\" fill-opacity=\"1\" stroke=\"#000000\" stroke-opacity=\"1\" stroke-width=\"3.2\"/>\n",
       "<circle clip-path=\"url(#clip662)\" cx=\"1053.63\" cy=\"186.201\" r=\"14.4\" fill=\"#009af9\" fill-rule=\"evenodd\" fill-opacity=\"1\" stroke=\"#000000\" stroke-opacity=\"1\" stroke-width=\"3.2\"/>\n",
       "<circle clip-path=\"url(#clip662)\" cx=\"1131.05\" cy=\"198.478\" r=\"14.4\" fill=\"#009af9\" fill-rule=\"evenodd\" fill-opacity=\"1\" stroke=\"#000000\" stroke-opacity=\"1\" stroke-width=\"3.2\"/>\n",
       "<circle clip-path=\"url(#clip662)\" cx=\"1208.47\" cy=\"188.861\" r=\"14.4\" fill=\"#009af9\" fill-rule=\"evenodd\" fill-opacity=\"1\" stroke=\"#000000\" stroke-opacity=\"1\" stroke-width=\"3.2\"/>\n",
       "<circle clip-path=\"url(#clip662)\" cx=\"1285.89\" cy=\"181.198\" r=\"14.4\" fill=\"#009af9\" fill-rule=\"evenodd\" fill-opacity=\"1\" stroke=\"#000000\" stroke-opacity=\"1\" stroke-width=\"3.2\"/>\n",
       "<circle clip-path=\"url(#clip662)\" cx=\"1363.32\" cy=\"188.814\" r=\"14.4\" fill=\"#009af9\" fill-rule=\"evenodd\" fill-opacity=\"1\" stroke=\"#000000\" stroke-opacity=\"1\" stroke-width=\"3.2\"/>\n",
       "<circle clip-path=\"url(#clip662)\" cx=\"1440.74\" cy=\"200.127\" r=\"14.4\" fill=\"#009af9\" fill-rule=\"evenodd\" fill-opacity=\"1\" stroke=\"#000000\" stroke-opacity=\"1\" stroke-width=\"3.2\"/>\n",
       "<circle clip-path=\"url(#clip662)\" cx=\"1518.16\" cy=\"196.818\" r=\"14.4\" fill=\"#009af9\" fill-rule=\"evenodd\" fill-opacity=\"1\" stroke=\"#000000\" stroke-opacity=\"1\" stroke-width=\"3.2\"/>\n",
       "<circle clip-path=\"url(#clip662)\" cx=\"1595.58\" cy=\"180.484\" r=\"14.4\" fill=\"#009af9\" fill-rule=\"evenodd\" fill-opacity=\"1\" stroke=\"#000000\" stroke-opacity=\"1\" stroke-width=\"3.2\"/>\n",
       "<circle clip-path=\"url(#clip662)\" cx=\"1673\" cy=\"193.473\" r=\"14.4\" fill=\"#009af9\" fill-rule=\"evenodd\" fill-opacity=\"1\" stroke=\"#000000\" stroke-opacity=\"1\" stroke-width=\"3.2\"/>\n",
       "<circle clip-path=\"url(#clip662)\" cx=\"1750.42\" cy=\"190.777\" r=\"14.4\" fill=\"#009af9\" fill-rule=\"evenodd\" fill-opacity=\"1\" stroke=\"#000000\" stroke-opacity=\"1\" stroke-width=\"3.2\"/>\n",
       "<circle clip-path=\"url(#clip662)\" cx=\"1827.84\" cy=\"190.777\" r=\"14.4\" fill=\"#009af9\" fill-rule=\"evenodd\" fill-opacity=\"1\" stroke=\"#000000\" stroke-opacity=\"1\" stroke-width=\"3.2\"/>\n",
       "<circle clip-path=\"url(#clip662)\" cx=\"1905.26\" cy=\"190.777\" r=\"14.4\" fill=\"#009af9\" fill-rule=\"evenodd\" fill-opacity=\"1\" stroke=\"#000000\" stroke-opacity=\"1\" stroke-width=\"3.2\"/>\n",
       "<circle clip-path=\"url(#clip662)\" cx=\"1982.68\" cy=\"190.777\" r=\"14.4\" fill=\"#009af9\" fill-rule=\"evenodd\" fill-opacity=\"1\" stroke=\"#000000\" stroke-opacity=\"1\" stroke-width=\"3.2\"/>\n",
       "<circle clip-path=\"url(#clip662)\" cx=\"2060.1\" cy=\"190.777\" r=\"14.4\" fill=\"#009af9\" fill-rule=\"evenodd\" fill-opacity=\"1\" stroke=\"#000000\" stroke-opacity=\"1\" stroke-width=\"3.2\"/>\n",
       "<circle clip-path=\"url(#clip662)\" cx=\"2137.53\" cy=\"190.777\" r=\"14.4\" fill=\"#009af9\" fill-rule=\"evenodd\" fill-opacity=\"1\" stroke=\"#000000\" stroke-opacity=\"1\" stroke-width=\"3.2\"/>\n",
       "<circle clip-path=\"url(#clip662)\" cx=\"2214.95\" cy=\"190.777\" r=\"14.4\" fill=\"#009af9\" fill-rule=\"evenodd\" fill-opacity=\"1\" stroke=\"#000000\" stroke-opacity=\"1\" stroke-width=\"3.2\"/>\n",
       "<circle clip-path=\"url(#clip662)\" cx=\"2292.37\" cy=\"190.777\" r=\"14.4\" fill=\"#009af9\" fill-rule=\"evenodd\" fill-opacity=\"1\" stroke=\"#000000\" stroke-opacity=\"1\" stroke-width=\"3.2\"/>\n",
       "<polyline clip-path=\"url(#clip662)\" style=\"stroke:#80007f; stroke-linecap:round; stroke-linejoin:round; stroke-width:20; stroke-opacity:0.3; fill:none\" points=\"279.421,240.475 279.421,111.566 356.842,111.566 356.842,85.5948 434.263,85.5948 434.263,97.6654 511.684,97.6654 511.684,130.217 589.105,130.217 589.105,169.836 666.526,169.836 666.526,200.115 743.947,200.115 743.947,218.056 821.368,218.056 821.368,203.005 898.789,203.005 898.789,180.803 976.21,180.803 976.21,186.201 1053.63,186.201 1053.63,198.478 1131.05,198.478 1131.05,188.861 1208.47,188.861 1208.47,181.198 1285.89,181.198 1285.89,188.814 1363.32,188.814 1363.32,200.127 1440.74,200.127 1440.74,196.818 1518.16,196.818 1518.16,180.484 1595.58,180.484 1595.58,193.473 1673,193.473 1673,190.777 1750.42,190.777 1827.84,190.777 1905.26,190.777 1982.68,190.777 2060.1,190.777 2137.53,190.777 2214.95,190.777 2292.37,190.777 \"/>\n",
       "<path clip-path=\"url(#clip662)\" d=\"M279.421 224.476 L263.421 240.476 L279.421 256.476 L295.421 240.476 L279.421 224.476 Z\" fill=\"#e26f46\" fill-rule=\"evenodd\" fill-opacity=\"1\" stroke=\"#000000\" stroke-opacity=\"1\" stroke-width=\"3.2\"/>\n",
       "<path clip-path=\"url(#clip662)\" d=\"M356.842 95.5656 L340.842 111.566 L356.842 127.566 L372.842 111.566 L356.842 95.5656 Z\" fill=\"#e26f46\" fill-rule=\"evenodd\" fill-opacity=\"1\" stroke=\"#000000\" stroke-opacity=\"1\" stroke-width=\"3.2\"/>\n",
       "<path clip-path=\"url(#clip662)\" d=\"M434.263 69.5947 L418.263 85.5947 L434.263 101.595 L450.263 85.5947 L434.263 69.5947 Z\" fill=\"#e26f46\" fill-rule=\"evenodd\" fill-opacity=\"1\" stroke=\"#000000\" stroke-opacity=\"1\" stroke-width=\"3.2\"/>\n",
       "<path clip-path=\"url(#clip662)\" d=\"M511.684 81.6657 L495.684 97.6657 L511.684 113.666 L527.684 97.6657 L511.684 81.6657 Z\" fill=\"#e26f46\" fill-rule=\"evenodd\" fill-opacity=\"1\" stroke=\"#000000\" stroke-opacity=\"1\" stroke-width=\"3.2\"/>\n",
       "<path clip-path=\"url(#clip662)\" d=\"M589.105 114.217 L573.105 130.217 L589.105 146.217 L605.105 130.217 L589.105 114.217 Z\" fill=\"#e26f46\" fill-rule=\"evenodd\" fill-opacity=\"1\" stroke=\"#000000\" stroke-opacity=\"1\" stroke-width=\"3.2\"/>\n",
       "<path clip-path=\"url(#clip662)\" d=\"M666.526 153.836 L650.526 169.836 L666.526 185.836 L682.526 169.836 L666.526 153.836 Z\" fill=\"#e26f46\" fill-rule=\"evenodd\" fill-opacity=\"1\" stroke=\"#000000\" stroke-opacity=\"1\" stroke-width=\"3.2\"/>\n",
       "<path clip-path=\"url(#clip662)\" d=\"M743.947 184.115 L727.947 200.115 L743.947 216.115 L759.947 200.115 L743.947 184.115 Z\" fill=\"#e26f46\" fill-rule=\"evenodd\" fill-opacity=\"1\" stroke=\"#000000\" stroke-opacity=\"1\" stroke-width=\"3.2\"/>\n",
       "<path clip-path=\"url(#clip662)\" d=\"M821.368 202.056 L805.368 218.056 L821.368 234.056 L837.368 218.056 L821.368 202.056 Z\" fill=\"#e26f46\" fill-rule=\"evenodd\" fill-opacity=\"1\" stroke=\"#000000\" stroke-opacity=\"1\" stroke-width=\"3.2\"/>\n",
       "<path clip-path=\"url(#clip662)\" d=\"M898.789 187.006 L882.789 203.006 L898.789 219.006 L914.789 203.006 L898.789 187.006 Z\" fill=\"#e26f46\" fill-rule=\"evenodd\" fill-opacity=\"1\" stroke=\"#000000\" stroke-opacity=\"1\" stroke-width=\"3.2\"/>\n",
       "<path clip-path=\"url(#clip662)\" d=\"M976.21 164.803 L960.21 180.803 L976.21 196.803 L992.21 180.803 L976.21 164.803 Z\" fill=\"#e26f46\" fill-rule=\"evenodd\" fill-opacity=\"1\" stroke=\"#000000\" stroke-opacity=\"1\" stroke-width=\"3.2\"/>\n",
       "<path clip-path=\"url(#clip662)\" d=\"M1053.63 170.201 L1037.63 186.201 L1053.63 202.201 L1069.63 186.201 L1053.63 170.201 Z\" fill=\"#e26f46\" fill-rule=\"evenodd\" fill-opacity=\"1\" stroke=\"#000000\" stroke-opacity=\"1\" stroke-width=\"3.2\"/>\n",
       "<path clip-path=\"url(#clip662)\" d=\"M1131.05 182.477 L1115.05 198.477 L1131.05 214.477 L1147.05 198.477 L1131.05 182.477 Z\" fill=\"#e26f46\" fill-rule=\"evenodd\" fill-opacity=\"1\" stroke=\"#000000\" stroke-opacity=\"1\" stroke-width=\"3.2\"/>\n",
       "<path clip-path=\"url(#clip662)\" d=\"M1208.47 172.861 L1192.47 188.861 L1208.47 204.861 L1224.47 188.861 L1208.47 172.861 Z\" fill=\"#e26f46\" fill-rule=\"evenodd\" fill-opacity=\"1\" stroke=\"#000000\" stroke-opacity=\"1\" stroke-width=\"3.2\"/>\n",
       "<path clip-path=\"url(#clip662)\" d=\"M1285.89 165.199 L1269.89 181.199 L1285.89 197.199 L1301.89 181.199 L1285.89 165.199 Z\" fill=\"#e26f46\" fill-rule=\"evenodd\" fill-opacity=\"1\" stroke=\"#000000\" stroke-opacity=\"1\" stroke-width=\"3.2\"/>\n",
       "<path clip-path=\"url(#clip662)\" d=\"M1363.32 172.814 L1347.32 188.814 L1363.32 204.814 L1379.32 188.814 L1363.32 172.814 Z\" fill=\"#e26f46\" fill-rule=\"evenodd\" fill-opacity=\"1\" stroke=\"#000000\" stroke-opacity=\"1\" stroke-width=\"3.2\"/>\n",
       "<path clip-path=\"url(#clip662)\" d=\"M1440.74 184.126 L1424.74 200.126 L1440.74 216.126 L1456.74 200.126 L1440.74 184.126 Z\" fill=\"#e26f46\" fill-rule=\"evenodd\" fill-opacity=\"1\" stroke=\"#000000\" stroke-opacity=\"1\" stroke-width=\"3.2\"/>\n",
       "<path clip-path=\"url(#clip662)\" d=\"M1518.16 180.818 L1502.16 196.818 L1518.16 212.818 L1534.16 196.818 L1518.16 180.818 Z\" fill=\"#e26f46\" fill-rule=\"evenodd\" fill-opacity=\"1\" stroke=\"#000000\" stroke-opacity=\"1\" stroke-width=\"3.2\"/>\n",
       "<path clip-path=\"url(#clip662)\" d=\"M1595.58 164.486 L1579.58 180.486 L1595.58 196.486 L1611.58 180.486 L1595.58 164.486 Z\" fill=\"#e26f46\" fill-rule=\"evenodd\" fill-opacity=\"1\" stroke=\"#000000\" stroke-opacity=\"1\" stroke-width=\"3.2\"/>\n",
       "<path clip-path=\"url(#clip662)\" d=\"M1673 177.472 L1657 193.472 L1673 209.472 L1689 193.472 L1673 177.472 Z\" fill=\"#e26f46\" fill-rule=\"evenodd\" fill-opacity=\"1\" stroke=\"#000000\" stroke-opacity=\"1\" stroke-width=\"3.2\"/>\n",
       "<path clip-path=\"url(#clip662)\" d=\"M1750.42 174.777 L1734.42 190.777 L1750.42 206.777 L1766.42 190.777 L1750.42 174.777 Z\" fill=\"#e26f46\" fill-rule=\"evenodd\" fill-opacity=\"1\" stroke=\"#000000\" stroke-opacity=\"1\" stroke-width=\"3.2\"/>\n",
       "<path clip-path=\"url(#clip662)\" d=\"M1827.84 174.777 L1811.84 190.777 L1827.84 206.777 L1843.84 190.777 L1827.84 174.777 Z\" fill=\"#e26f46\" fill-rule=\"evenodd\" fill-opacity=\"1\" stroke=\"#000000\" stroke-opacity=\"1\" stroke-width=\"3.2\"/>\n",
       "<path clip-path=\"url(#clip662)\" d=\"M1905.26 174.777 L1889.26 190.777 L1905.26 206.777 L1921.26 190.777 L1905.26 174.777 Z\" fill=\"#e26f46\" fill-rule=\"evenodd\" fill-opacity=\"1\" stroke=\"#000000\" stroke-opacity=\"1\" stroke-width=\"3.2\"/>\n",
       "<path clip-path=\"url(#clip662)\" d=\"M1982.68 174.777 L1966.68 190.777 L1982.68 206.777 L1998.68 190.777 L1982.68 174.777 Z\" fill=\"#e26f46\" fill-rule=\"evenodd\" fill-opacity=\"1\" stroke=\"#000000\" stroke-opacity=\"1\" stroke-width=\"3.2\"/>\n",
       "<path clip-path=\"url(#clip662)\" d=\"M2060.1 174.777 L2044.1 190.777 L2060.1 206.777 L2076.1 190.777 L2060.1 174.777 Z\" fill=\"#e26f46\" fill-rule=\"evenodd\" fill-opacity=\"1\" stroke=\"#000000\" stroke-opacity=\"1\" stroke-width=\"3.2\"/>\n",
       "<path clip-path=\"url(#clip662)\" d=\"M2137.53 174.777 L2121.53 190.777 L2137.53 206.777 L2153.53 190.777 L2137.53 174.777 Z\" fill=\"#e26f46\" fill-rule=\"evenodd\" fill-opacity=\"1\" stroke=\"#000000\" stroke-opacity=\"1\" stroke-width=\"3.2\"/>\n",
       "<path clip-path=\"url(#clip662)\" d=\"M2214.95 174.777 L2198.95 190.777 L2214.95 206.777 L2230.95 190.777 L2214.95 174.777 Z\" fill=\"#e26f46\" fill-rule=\"evenodd\" fill-opacity=\"1\" stroke=\"#000000\" stroke-opacity=\"1\" stroke-width=\"3.2\"/>\n",
       "<path clip-path=\"url(#clip662)\" d=\"M2292.37 174.777 L2276.37 190.777 L2292.37 206.777 L2308.37 190.777 L2292.37 174.777 Z\" fill=\"#e26f46\" fill-rule=\"evenodd\" fill-opacity=\"1\" stroke=\"#000000\" stroke-opacity=\"1\" stroke-width=\"3.2\"/>\n",
       "<polyline clip-path=\"url(#clip662)\" style=\"stroke:#0000ff; stroke-linecap:round; stroke-linejoin:round; stroke-width:20; stroke-opacity:0.3; fill:none\" points=\"279.421,240.476 279.421,111.566 356.842,111.566 356.842,85.5947 434.263,85.5947 434.263,97.6657 511.684,97.6657 511.684,130.217 589.105,130.217 589.105,169.836 666.526,169.836 666.526,200.115 743.947,200.115 743.947,218.056 821.368,218.056 821.368,203.006 898.789,203.006 898.789,180.803 976.21,180.803 976.21,186.201 1053.63,186.201 1053.63,198.477 1131.05,198.477 1131.05,188.861 1208.47,188.861 1208.47,181.199 1285.89,181.199 1285.89,188.814 1363.32,188.814 1363.32,200.126 1440.74,200.126 1440.74,196.818 1518.16,196.818 1518.16,180.486 1595.58,180.486 1595.58,193.472 1673,193.472 1673,190.777 1750.42,190.777 1827.84,190.777 1905.26,190.777 1982.68,190.777 2060.1,190.777 2137.53,190.777 2214.95,190.777 2292.37,190.777 \"/>\n",
       "<path clip-path=\"url(#clip660)\" d=\"M219.033 889.847 L2352.76 889.847 L2352.76 580.577 L219.033 580.577  Z\" fill=\"#ffffff\" fill-rule=\"evenodd\" fill-opacity=\"1\"/>\n",
       "<defs>\n",
       "  <clipPath id=\"clip663\">\n",
       "    <rect x=\"219\" y=\"580\" width=\"2135\" height=\"310\"/>\n",
       "  </clipPath>\n",
       "</defs>\n",
       "<polyline clip-path=\"url(#clip663)\" style=\"stroke:#000000; stroke-linecap:round; stroke-linejoin:round; stroke-width:8; stroke-opacity:0.1; fill:none\" points=\"589.105,889.847 589.105,580.577 \"/>\n",
       "<polyline clip-path=\"url(#clip663)\" style=\"stroke:#000000; stroke-linecap:round; stroke-linejoin:round; stroke-width:8; stroke-opacity:0.1; fill:none\" points=\"976.21,889.847 976.21,580.577 \"/>\n",
       "<polyline clip-path=\"url(#clip663)\" style=\"stroke:#000000; stroke-linecap:round; stroke-linejoin:round; stroke-width:8; stroke-opacity:0.1; fill:none\" points=\"1363.32,889.847 1363.32,580.577 \"/>\n",
       "<polyline clip-path=\"url(#clip663)\" style=\"stroke:#000000; stroke-linecap:round; stroke-linejoin:round; stroke-width:8; stroke-opacity:0.1; fill:none\" points=\"1750.42,889.847 1750.42,580.577 \"/>\n",
       "<polyline clip-path=\"url(#clip663)\" style=\"stroke:#000000; stroke-linecap:round; stroke-linejoin:round; stroke-width:8; stroke-opacity:0.1; fill:none\" points=\"2137.53,889.847 2137.53,580.577 \"/>\n",
       "<polyline clip-path=\"url(#clip660)\" style=\"stroke:#000000; stroke-linecap:round; stroke-linejoin:round; stroke-width:4; stroke-opacity:1; fill:none\" points=\"219.033,889.847 2352.76,889.847 \"/>\n",
       "<polyline clip-path=\"url(#clip660)\" style=\"stroke:#000000; stroke-linecap:round; stroke-linejoin:round; stroke-width:4; stroke-opacity:1; fill:none\" points=\"589.105,889.847 589.105,870.949 \"/>\n",
       "<polyline clip-path=\"url(#clip660)\" style=\"stroke:#000000; stroke-linecap:round; stroke-linejoin:round; stroke-width:4; stroke-opacity:1; fill:none\" points=\"976.21,889.847 976.21,870.949 \"/>\n",
       "<polyline clip-path=\"url(#clip660)\" style=\"stroke:#000000; stroke-linecap:round; stroke-linejoin:round; stroke-width:4; stroke-opacity:1; fill:none\" points=\"1363.32,889.847 1363.32,870.949 \"/>\n",
       "<polyline clip-path=\"url(#clip660)\" style=\"stroke:#000000; stroke-linecap:round; stroke-linejoin:round; stroke-width:4; stroke-opacity:1; fill:none\" points=\"1750.42,889.847 1750.42,870.949 \"/>\n",
       "<polyline clip-path=\"url(#clip660)\" style=\"stroke:#000000; stroke-linecap:round; stroke-linejoin:round; stroke-width:4; stroke-opacity:1; fill:none\" points=\"2137.53,889.847 2137.53,870.949 \"/>\n",
       "<path clip-path=\"url(#clip660)\" d=\"M579.383 917.687 L597.74 917.687 L597.74 921.622 L583.666 921.622 L583.666 930.094 Q584.684 929.747 585.703 929.585 Q586.721 929.399 587.74 929.399 Q593.527 929.399 596.906 932.571 Q600.286 935.742 600.286 941.159 Q600.286 946.737 596.814 949.839 Q593.341 952.918 587.022 952.918 Q584.846 952.918 582.578 952.547 Q580.332 952.177 577.925 951.436 L577.925 946.737 Q580.008 947.872 582.23 948.427 Q584.453 948.983 586.929 948.983 Q590.934 948.983 593.272 946.876 Q595.61 944.77 595.61 941.159 Q595.61 937.548 593.272 935.441 Q590.934 933.335 586.929 933.335 Q585.054 933.335 583.179 933.751 Q581.328 934.168 579.383 935.048 L579.383 917.687 Z\" fill=\"#000000\" fill-rule=\"evenodd\" fill-opacity=\"1\" /><path clip-path=\"url(#clip660)\" d=\"M950.898 948.311 L958.537 948.311 L958.537 921.946 L950.227 923.612 L950.227 919.353 L958.491 917.687 L963.166 917.687 L963.166 948.311 L970.805 948.311 L970.805 952.247 L950.898 952.247 L950.898 948.311 Z\" fill=\"#000000\" fill-rule=\"evenodd\" fill-opacity=\"1\" /><path clip-path=\"url(#clip660)\" d=\"M990.25 920.765 Q986.639 920.765 984.81 924.33 Q983.004 927.872 983.004 935.001 Q983.004 942.108 984.81 945.672 Q986.639 949.214 990.25 949.214 Q993.884 949.214 995.689 945.672 Q997.518 942.108 997.518 935.001 Q997.518 927.872 995.689 924.33 Q993.884 920.765 990.25 920.765 M990.25 917.062 Q996.06 917.062 999.115 921.668 Q1002.19 926.251 1002.19 935.001 Q1002.19 943.728 999.115 948.334 Q996.06 952.918 990.25 952.918 Q984.44 952.918 981.361 948.334 Q978.305 943.728 978.305 935.001 Q978.305 926.251 981.361 921.668 Q984.44 917.062 990.25 917.062 Z\" fill=\"#000000\" fill-rule=\"evenodd\" fill-opacity=\"1\" /><path clip-path=\"url(#clip660)\" d=\"M1338.5 948.311 L1346.14 948.311 L1346.14 921.946 L1337.83 923.612 L1337.83 919.353 L1346.09 917.687 L1350.77 917.687 L1350.77 948.311 L1358.41 948.311 L1358.41 952.247 L1338.5 952.247 L1338.5 948.311 Z\" fill=\"#000000\" fill-rule=\"evenodd\" fill-opacity=\"1\" /><path clip-path=\"url(#clip660)\" d=\"M1367.9 917.687 L1386.26 917.687 L1386.26 921.622 L1372.18 921.622 L1372.18 930.094 Q1373.2 929.747 1374.22 929.585 Q1375.24 929.399 1376.26 929.399 Q1382.04 929.399 1385.42 932.571 Q1388.8 935.742 1388.8 941.159 Q1388.8 946.737 1385.33 949.839 Q1381.86 952.918 1375.54 952.918 Q1373.36 952.918 1371.09 952.547 Q1368.85 952.177 1366.44 951.436 L1366.44 946.737 Q1368.52 947.872 1370.75 948.427 Q1372.97 948.983 1375.44 948.983 Q1379.45 948.983 1381.79 946.876 Q1384.13 944.77 1384.13 941.159 Q1384.13 937.548 1381.79 935.441 Q1379.45 933.335 1375.44 933.335 Q1373.57 933.335 1371.7 933.751 Q1369.84 934.168 1367.9 935.048 L1367.9 917.687 Z\" fill=\"#000000\" fill-rule=\"evenodd\" fill-opacity=\"1\" /><path clip-path=\"url(#clip660)\" d=\"M1729.19 948.311 L1745.51 948.311 L1745.51 952.247 L1723.57 952.247 L1723.57 948.311 Q1726.23 945.557 1730.81 940.927 Q1735.42 936.274 1736.6 934.932 Q1738.85 932.409 1739.73 930.673 Q1740.63 928.913 1740.63 927.223 Q1740.63 924.469 1738.68 922.733 Q1736.76 920.997 1733.66 920.997 Q1731.46 920.997 1729.01 921.761 Q1726.58 922.524 1723.8 924.075 L1723.8 919.353 Q1726.62 918.219 1729.08 917.64 Q1731.53 917.062 1733.57 917.062 Q1738.94 917.062 1742.13 919.747 Q1745.33 922.432 1745.33 926.923 Q1745.33 929.052 1744.52 930.973 Q1743.73 932.872 1741.62 935.464 Q1741.05 936.135 1737.94 939.353 Q1734.84 942.547 1729.19 948.311 Z\" fill=\"#000000\" fill-rule=\"evenodd\" fill-opacity=\"1\" /><path clip-path=\"url(#clip660)\" d=\"M1765.33 920.765 Q1761.72 920.765 1759.89 924.33 Q1758.08 927.872 1758.08 935.001 Q1758.08 942.108 1759.89 945.672 Q1761.72 949.214 1765.33 949.214 Q1768.96 949.214 1770.77 945.672 Q1772.6 942.108 1772.6 935.001 Q1772.6 927.872 1770.77 924.33 Q1768.96 920.765 1765.33 920.765 M1765.33 917.062 Q1771.14 917.062 1774.19 921.668 Q1777.27 926.251 1777.27 935.001 Q1777.27 943.728 1774.19 948.334 Q1771.14 952.918 1765.33 952.918 Q1759.52 952.918 1756.44 948.334 Q1753.38 943.728 1753.38 935.001 Q1753.38 926.251 1756.44 921.668 Q1759.52 917.062 1765.33 917.062 Z\" fill=\"#000000\" fill-rule=\"evenodd\" fill-opacity=\"1\" /><path clip-path=\"url(#clip660)\" d=\"M2116.8 948.311 L2133.12 948.311 L2133.12 952.247 L2111.17 952.247 L2111.17 948.311 Q2113.83 945.557 2118.42 940.927 Q2123.02 936.274 2124.2 934.932 Q2126.45 932.409 2127.33 930.673 Q2128.23 928.913 2128.23 927.223 Q2128.23 924.469 2126.29 922.733 Q2124.37 920.997 2121.26 920.997 Q2119.06 920.997 2116.61 921.761 Q2114.18 922.524 2111.4 924.075 L2111.4 919.353 Q2114.23 918.219 2116.68 917.64 Q2119.13 917.062 2121.17 917.062 Q2126.54 917.062 2129.74 919.747 Q2132.93 922.432 2132.93 926.923 Q2132.93 929.052 2132.12 930.973 Q2131.33 932.872 2129.23 935.464 Q2128.65 936.135 2125.55 939.353 Q2122.44 942.547 2116.8 948.311 Z\" fill=\"#000000\" fill-rule=\"evenodd\" fill-opacity=\"1\" /><path clip-path=\"url(#clip660)\" d=\"M2142.98 917.687 L2161.33 917.687 L2161.33 921.622 L2147.26 921.622 L2147.26 930.094 Q2148.28 929.747 2149.3 929.585 Q2150.31 929.399 2151.33 929.399 Q2157.12 929.399 2160.5 932.571 Q2163.88 935.742 2163.88 941.159 Q2163.88 946.737 2160.41 949.839 Q2156.94 952.918 2150.62 952.918 Q2148.44 952.918 2146.17 952.547 Q2143.93 952.177 2141.52 951.436 L2141.52 946.737 Q2143.6 947.872 2145.82 948.427 Q2148.05 948.983 2150.52 948.983 Q2154.53 948.983 2156.87 946.876 Q2159.2 944.77 2159.2 941.159 Q2159.2 937.548 2156.87 935.441 Q2154.53 933.335 2150.52 933.335 Q2148.65 933.335 2146.77 933.751 Q2144.92 934.168 2142.98 935.048 L2142.98 917.687 Z\" fill=\"#000000\" fill-rule=\"evenodd\" fill-opacity=\"1\" /><path clip-path=\"url(#clip660)\" d=\"M1180.03 988.941 L1180.03 999.063 L1192.1 999.063 L1192.1 1003.61 L1180.03 1003.61 L1180.03 1022.97 Q1180.03 1027.33 1181.21 1028.57 Q1182.42 1029.81 1186.08 1029.81 L1192.1 1029.81 L1192.1 1034.71 L1186.08 1034.71 Q1179.3 1034.71 1176.72 1032.2 Q1174.14 1029.65 1174.14 1022.97 L1174.14 1003.61 L1169.85 1003.61 L1169.85 999.063 L1174.14 999.063 L1174.14 988.941 L1180.03 988.941 Z\" fill=\"#000000\" fill-rule=\"evenodd\" fill-opacity=\"1\" /><path clip-path=\"url(#clip660)\" d=\"M1199.8 999.063 L1205.65 999.063 L1205.65 1034.71 L1199.8 1034.71 L1199.8 999.063 M1199.8 985.185 L1205.65 985.185 L1205.65 992.601 L1199.8 992.601 L1199.8 985.185 Z\" fill=\"#000000\" fill-rule=\"evenodd\" fill-opacity=\"1\" /><path clip-path=\"url(#clip660)\" d=\"M1245.66 1005.91 Q1247.86 1001.96 1250.91 1000.08 Q1253.97 998.203 1258.11 998.203 Q1263.68 998.203 1266.7 1002.12 Q1269.73 1006 1269.73 1013.19 L1269.73 1034.71 L1263.84 1034.71 L1263.84 1013.39 Q1263.84 1008.26 1262.02 1005.78 Q1260.21 1003.3 1256.48 1003.3 Q1251.93 1003.3 1249.29 1006.32 Q1246.65 1009.34 1246.65 1014.56 L1246.65 1034.71 L1240.76 1034.71 L1240.76 1013.39 Q1240.76 1008.23 1238.95 1005.78 Q1237.13 1003.3 1233.35 1003.3 Q1228.86 1003.3 1226.22 1006.35 Q1223.57 1009.37 1223.57 1014.56 L1223.57 1034.71 L1217.69 1034.71 L1217.69 999.063 L1223.57 999.063 L1223.57 1004.6 Q1225.58 1001.32 1228.38 999.763 Q1231.18 998.203 1235.03 998.203 Q1238.92 998.203 1241.62 1000.18 Q1244.36 1002.15 1245.66 1005.91 Z\" fill=\"#000000\" fill-rule=\"evenodd\" fill-opacity=\"1\" /><path clip-path=\"url(#clip660)\" d=\"M1311.9 1015.42 L1311.9 1018.29 L1284.97 1018.29 Q1285.35 1024.33 1288.6 1027.52 Q1291.88 1030.67 1297.7 1030.67 Q1301.08 1030.67 1304.23 1029.84 Q1307.41 1029.01 1310.53 1027.36 L1310.53 1032.9 Q1307.38 1034.23 1304.07 1034.93 Q1300.76 1035.63 1297.35 1035.63 Q1288.82 1035.63 1283.83 1030.67 Q1278.86 1025.7 1278.86 1017.24 Q1278.86 1008.48 1283.57 1003.36 Q1288.31 998.203 1296.33 998.203 Q1303.53 998.203 1307.7 1002.85 Q1311.9 1007.47 1311.9 1015.42 M1306.04 1013.7 Q1305.98 1008.9 1303.34 1006.03 Q1300.73 1003.17 1296.4 1003.17 Q1291.5 1003.17 1288.54 1005.94 Q1285.61 1008.71 1285.16 1013.74 L1306.04 1013.7 Z\" fill=\"#000000\" fill-rule=\"evenodd\" fill-opacity=\"1\" /><path clip-path=\"url(#clip660)\" d=\"M1320.97 985.185 L1334.46 985.185 L1334.46 989.737 L1326.83 989.737 L1326.83 1038.75 L1334.46 1038.75 L1334.46 1043.3 L1320.97 1043.3 L1320.97 985.185 Z\" fill=\"#000000\" fill-rule=\"evenodd\" fill-opacity=\"1\" /><path clip-path=\"url(#clip660)\" d=\"M1376.57 1013.19 L1376.57 1034.71 L1370.72 1034.71 L1370.72 1013.39 Q1370.72 1008.32 1368.74 1005.81 Q1366.77 1003.3 1362.82 1003.3 Q1358.08 1003.3 1355.34 1006.32 Q1352.61 1009.34 1352.61 1014.56 L1352.61 1034.71 L1346.72 1034.71 L1346.72 985.185 L1352.61 985.185 L1352.61 1004.6 Q1354.71 1001.39 1357.54 999.795 Q1360.41 998.203 1364.13 998.203 Q1370.27 998.203 1373.42 1002.02 Q1376.57 1005.81 1376.57 1013.19 Z\" fill=\"#000000\" fill-rule=\"evenodd\" fill-opacity=\"1\" /><path clip-path=\"url(#clip660)\" d=\"M1401.94 985.185 L1401.94 1043.3 L1388.45 1043.3 L1388.45 1038.75 L1396.05 1038.75 L1396.05 989.737 L1388.45 989.737 L1388.45 985.185 L1401.94 985.185 Z\" fill=\"#000000\" fill-rule=\"evenodd\" fill-opacity=\"1\" /><polyline clip-path=\"url(#clip663)\" style=\"stroke:#000000; stroke-linecap:round; stroke-linejoin:round; stroke-width:8; stroke-opacity:0.1; fill:none\" points=\"219.033,889.847 2352.76,889.847 \"/>\n",
       "<polyline clip-path=\"url(#clip663)\" style=\"stroke:#000000; stroke-linecap:round; stroke-linejoin:round; stroke-width:8; stroke-opacity:0.1; fill:none\" points=\"219.033,827.993 2352.76,827.993 \"/>\n",
       "<polyline clip-path=\"url(#clip663)\" style=\"stroke:#000000; stroke-linecap:round; stroke-linejoin:round; stroke-width:8; stroke-opacity:0.1; fill:none\" points=\"219.033,766.139 2352.76,766.139 \"/>\n",
       "<polyline clip-path=\"url(#clip663)\" style=\"stroke:#000000; stroke-linecap:round; stroke-linejoin:round; stroke-width:8; stroke-opacity:0.1; fill:none\" points=\"219.033,704.285 2352.76,704.285 \"/>\n",
       "<polyline clip-path=\"url(#clip663)\" style=\"stroke:#000000; stroke-linecap:round; stroke-linejoin:round; stroke-width:8; stroke-opacity:0.1; fill:none\" points=\"219.033,642.431 2352.76,642.431 \"/>\n",
       "<polyline clip-path=\"url(#clip663)\" style=\"stroke:#000000; stroke-linecap:round; stroke-linejoin:round; stroke-width:8; stroke-opacity:0.1; fill:none\" points=\"219.033,580.577 2352.76,580.577 \"/>\n",
       "<polyline clip-path=\"url(#clip660)\" style=\"stroke:#000000; stroke-linecap:round; stroke-linejoin:round; stroke-width:4; stroke-opacity:1; fill:none\" points=\"219.033,889.847 219.033,580.577 \"/>\n",
       "<polyline clip-path=\"url(#clip660)\" style=\"stroke:#000000; stroke-linecap:round; stroke-linejoin:round; stroke-width:4; stroke-opacity:1; fill:none\" points=\"219.033,889.847 237.931,889.847 \"/>\n",
       "<polyline clip-path=\"url(#clip660)\" style=\"stroke:#000000; stroke-linecap:round; stroke-linejoin:round; stroke-width:4; stroke-opacity:1; fill:none\" points=\"219.033,827.993 237.931,827.993 \"/>\n",
       "<polyline clip-path=\"url(#clip660)\" style=\"stroke:#000000; stroke-linecap:round; stroke-linejoin:round; stroke-width:4; stroke-opacity:1; fill:none\" points=\"219.033,766.139 237.931,766.139 \"/>\n",
       "<polyline clip-path=\"url(#clip660)\" style=\"stroke:#000000; stroke-linecap:round; stroke-linejoin:round; stroke-width:4; stroke-opacity:1; fill:none\" points=\"219.033,704.285 237.931,704.285 \"/>\n",
       "<polyline clip-path=\"url(#clip660)\" style=\"stroke:#000000; stroke-linecap:round; stroke-linejoin:round; stroke-width:4; stroke-opacity:1; fill:none\" points=\"219.033,642.431 237.931,642.431 \"/>\n",
       "<polyline clip-path=\"url(#clip660)\" style=\"stroke:#000000; stroke-linecap:round; stroke-linejoin:round; stroke-width:4; stroke-opacity:1; fill:none\" points=\"219.033,580.577 237.931,580.577 \"/>\n",
       "<path clip-path=\"url(#clip660)\" d=\"M117.663 903.191 L125.302 903.191 L125.302 876.826 L116.992 878.492 L116.992 874.233 L125.255 872.567 L129.931 872.567 L129.931 903.191 L137.57 903.191 L137.57 907.127 L117.663 907.127 L117.663 903.191 Z\" fill=\"#000000\" fill-rule=\"evenodd\" fill-opacity=\"1\" /><path clip-path=\"url(#clip660)\" d=\"M147.015 901.247 L151.899 901.247 L151.899 907.127 L147.015 907.127 L147.015 901.247 Z\" fill=\"#000000\" fill-rule=\"evenodd\" fill-opacity=\"1\" /><path clip-path=\"url(#clip660)\" d=\"M162.13 872.567 L180.487 872.567 L180.487 876.502 L166.413 876.502 L166.413 884.974 Q167.431 884.627 168.45 884.465 Q169.468 884.279 170.487 884.279 Q176.274 884.279 179.653 887.451 Q183.033 890.622 183.033 896.039 Q183.033 901.617 179.561 904.719 Q176.089 907.798 169.769 907.798 Q167.593 907.798 165.325 907.427 Q163.079 907.057 160.672 906.316 L160.672 901.617 Q162.755 902.752 164.977 903.307 Q167.2 903.863 169.677 903.863 Q173.681 903.863 176.019 901.756 Q178.357 899.65 178.357 896.039 Q178.357 892.428 176.019 890.321 Q173.681 888.215 169.677 888.215 Q167.802 888.215 165.927 888.631 Q164.075 889.048 162.13 889.928 L162.13 872.567 Z\" fill=\"#000000\" fill-rule=\"evenodd\" fill-opacity=\"1\" /><path clip-path=\"url(#clip660)\" d=\"M116.506 841.338 L124.144 841.338 L124.144 814.972 L115.834 816.639 L115.834 812.379 L124.098 810.713 L128.774 810.713 L128.774 841.338 L136.413 841.338 L136.413 845.273 L116.506 845.273 L116.506 841.338 Z\" fill=\"#000000\" fill-rule=\"evenodd\" fill-opacity=\"1\" /><path clip-path=\"url(#clip660)\" d=\"M145.857 839.393 L150.741 839.393 L150.741 845.273 L145.857 845.273 L145.857 839.393 Z\" fill=\"#000000\" fill-rule=\"evenodd\" fill-opacity=\"1\" /><path clip-path=\"url(#clip660)\" d=\"M171.505 826.129 Q168.357 826.129 166.505 828.282 Q164.677 830.435 164.677 834.185 Q164.677 837.912 166.505 840.088 Q168.357 842.24 171.505 842.24 Q174.653 842.24 176.482 840.088 Q178.334 837.912 178.334 834.185 Q178.334 830.435 176.482 828.282 Q174.653 826.129 171.505 826.129 M180.788 811.477 L180.788 815.736 Q179.028 814.902 177.223 814.463 Q175.44 814.023 173.681 814.023 Q169.052 814.023 166.598 817.148 Q164.167 820.273 163.82 826.592 Q165.186 824.578 167.246 823.514 Q169.306 822.426 171.783 822.426 Q176.991 822.426 180.001 825.597 Q183.033 828.745 183.033 834.185 Q183.033 839.509 179.885 842.726 Q176.737 845.944 171.505 845.944 Q165.51 845.944 162.339 841.361 Q159.167 836.754 159.167 828.027 Q159.167 819.833 163.056 814.972 Q166.945 810.088 173.496 810.088 Q175.255 810.088 177.038 810.435 Q178.843 810.782 180.788 811.477 Z\" fill=\"#000000\" fill-rule=\"evenodd\" fill-opacity=\"1\" /><path clip-path=\"url(#clip660)\" d=\"M117.57 779.484 L125.209 779.484 L125.209 753.118 L116.899 754.785 L116.899 750.526 L125.163 748.859 L129.839 748.859 L129.839 779.484 L137.478 779.484 L137.478 783.419 L117.57 783.419 L117.57 779.484 Z\" fill=\"#000000\" fill-rule=\"evenodd\" fill-opacity=\"1\" /><path clip-path=\"url(#clip660)\" d=\"M146.922 777.539 L151.806 777.539 L151.806 783.419 L146.922 783.419 L146.922 777.539 Z\" fill=\"#000000\" fill-rule=\"evenodd\" fill-opacity=\"1\" /><path clip-path=\"url(#clip660)\" d=\"M160.811 748.859 L183.033 748.859 L183.033 750.85 L170.487 783.419 L165.602 783.419 L177.408 752.794 L160.811 752.794 L160.811 748.859 Z\" fill=\"#000000\" fill-rule=\"evenodd\" fill-opacity=\"1\" /><path clip-path=\"url(#clip660)\" d=\"M116.76 717.63 L124.399 717.63 L124.399 691.264 L116.089 692.931 L116.089 688.672 L124.353 687.005 L129.029 687.005 L129.029 717.63 L136.667 717.63 L136.667 721.565 L116.76 721.565 L116.76 717.63 Z\" fill=\"#000000\" fill-rule=\"evenodd\" fill-opacity=\"1\" /><path clip-path=\"url(#clip660)\" d=\"M146.112 715.685 L150.996 715.685 L150.996 721.565 L146.112 721.565 L146.112 715.685 Z\" fill=\"#000000\" fill-rule=\"evenodd\" fill-opacity=\"1\" /><path clip-path=\"url(#clip660)\" d=\"M171.181 705.153 Q167.848 705.153 165.927 706.936 Q164.028 708.718 164.028 711.843 Q164.028 714.968 165.927 716.75 Q167.848 718.533 171.181 718.533 Q174.514 718.533 176.436 716.75 Q178.357 714.945 178.357 711.843 Q178.357 708.718 176.436 706.936 Q174.538 705.153 171.181 705.153 M166.505 703.162 Q163.496 702.422 161.806 700.361 Q160.14 698.301 160.14 695.338 Q160.14 691.195 163.079 688.787 Q166.042 686.38 171.181 686.38 Q176.343 686.38 179.283 688.787 Q182.223 691.195 182.223 695.338 Q182.223 698.301 180.533 700.361 Q178.866 702.422 175.88 703.162 Q179.26 703.949 181.135 706.241 Q183.033 708.533 183.033 711.843 Q183.033 716.866 179.954 719.551 Q176.899 722.236 171.181 722.236 Q165.464 722.236 162.385 719.551 Q159.329 716.866 159.329 711.843 Q159.329 708.533 161.227 706.241 Q163.126 703.949 166.505 703.162 M164.792 695.778 Q164.792 698.463 166.459 699.968 Q168.149 701.473 171.181 701.473 Q174.19 701.473 175.88 699.968 Q177.593 698.463 177.593 695.778 Q177.593 693.093 175.88 691.588 Q174.19 690.084 171.181 690.084 Q168.149 690.084 166.459 691.588 Q164.792 693.093 164.792 695.778 Z\" fill=\"#000000\" fill-rule=\"evenodd\" fill-opacity=\"1\" /><path clip-path=\"url(#clip660)\" d=\"M116.853 655.776 L124.492 655.776 L124.492 629.41 L116.181 631.077 L116.181 626.818 L124.445 625.151 L129.121 625.151 L129.121 655.776 L136.76 655.776 L136.76 659.711 L116.853 659.711 L116.853 655.776 Z\" fill=\"#000000\" fill-rule=\"evenodd\" fill-opacity=\"1\" /><path clip-path=\"url(#clip660)\" d=\"M146.204 653.832 L151.089 653.832 L151.089 659.711 L146.204 659.711 L146.204 653.832 Z\" fill=\"#000000\" fill-rule=\"evenodd\" fill-opacity=\"1\" /><path clip-path=\"url(#clip660)\" d=\"M161.413 658.994 L161.413 654.734 Q163.172 655.568 164.977 656.008 Q166.783 656.447 168.519 656.447 Q173.149 656.447 175.579 653.346 Q178.033 650.221 178.38 643.878 Q177.038 645.869 174.977 646.934 Q172.917 647.998 170.417 647.998 Q165.232 647.998 162.2 644.873 Q159.19 641.725 159.19 636.285 Q159.19 630.961 162.339 627.744 Q165.487 624.526 170.718 624.526 Q176.714 624.526 179.862 629.133 Q183.033 633.716 183.033 642.466 Q183.033 650.637 179.144 655.521 Q175.278 660.383 168.727 660.383 Q166.968 660.383 165.163 660.035 Q163.357 659.688 161.413 658.994 M170.718 644.341 Q173.866 644.341 175.695 642.188 Q177.547 640.035 177.547 636.285 Q177.547 632.559 175.695 630.406 Q173.866 628.23 170.718 628.23 Q167.57 628.23 165.718 630.406 Q163.89 632.559 163.89 636.285 Q163.89 640.035 165.718 642.188 Q167.57 644.341 170.718 644.341 Z\" fill=\"#000000\" fill-rule=\"evenodd\" fill-opacity=\"1\" /><path clip-path=\"url(#clip660)\" d=\"M119.885 593.922 L136.204 593.922 L136.204 597.857 L114.26 597.857 L114.26 593.922 Q116.922 591.168 121.505 586.538 Q126.112 581.885 127.292 580.543 Q129.538 578.02 130.417 576.283 Q131.32 574.524 131.32 572.834 Q131.32 570.08 129.376 568.344 Q127.455 566.608 124.353 566.608 Q122.154 566.608 119.7 567.371 Q117.269 568.135 114.492 569.686 L114.492 564.964 Q117.316 563.83 119.769 563.251 Q122.223 562.672 124.26 562.672 Q129.63 562.672 132.825 565.358 Q136.019 568.043 136.019 572.533 Q136.019 574.663 135.209 576.584 Q134.422 578.483 132.316 581.075 Q131.737 581.746 128.635 584.964 Q125.533 588.158 119.885 593.922 Z\" fill=\"#000000\" fill-rule=\"evenodd\" fill-opacity=\"1\" /><path clip-path=\"url(#clip660)\" d=\"M146.019 591.978 L150.903 591.978 L150.903 597.857 L146.019 597.857 L146.019 591.978 Z\" fill=\"#000000\" fill-rule=\"evenodd\" fill-opacity=\"1\" /><path clip-path=\"url(#clip660)\" d=\"M171.089 566.376 Q167.477 566.376 165.649 569.941 Q163.843 573.483 163.843 580.612 Q163.843 587.719 165.649 591.283 Q167.477 594.825 171.089 594.825 Q174.723 594.825 176.528 591.283 Q178.357 587.719 178.357 580.612 Q178.357 573.483 176.528 569.941 Q174.723 566.376 171.089 566.376 M171.089 562.672 Q176.899 562.672 179.954 567.279 Q183.033 571.862 183.033 580.612 Q183.033 589.339 179.954 593.945 Q176.899 598.529 171.089 598.529 Q165.278 598.529 162.2 593.945 Q159.144 589.339 159.144 580.612 Q159.144 571.862 162.2 567.279 Q165.278 562.672 171.089 562.672 Z\" fill=\"#000000\" fill-rule=\"evenodd\" fill-opacity=\"1\" /><path clip-path=\"url(#clip660)\" d=\"M49.9359 770.573 L28.3562 770.573 L28.3562 764.717 L49.7131 764.717 Q54.7739 764.717 57.3202 762.744 Q59.8346 760.77 59.8346 756.824 Q59.8346 752.081 56.8109 749.344 Q53.7872 746.575 48.5673 746.575 L28.3562 746.575 L28.3562 740.718 L64.0042 740.718 L64.0042 746.575 L58.5296 746.575 Q61.7762 748.707 63.3676 751.54 Q64.9272 754.341 64.9272 758.065 Q64.9272 764.208 61.1078 767.391 Q57.2883 770.573 49.9359 770.573 M27.4968 755.837 L27.4968 755.837 Z\" fill=\"#000000\" fill-rule=\"evenodd\" fill-opacity=\"1\" /><path clip-path=\"url(#clip660)\" d=\"M58.5933 722.29 L58.5933 699.85 L64.0042 699.85 L64.0042 730.024 L58.5933 730.024 Q54.8057 726.364 48.44 720.062 Q42.0425 713.728 40.1964 712.104 Q36.7271 709.017 34.34 707.808 Q31.921 706.566 29.5975 706.566 Q25.8099 706.566 23.4228 709.24 Q21.0356 711.882 21.0356 716.147 Q21.0356 719.17 22.086 722.544 Q23.1363 725.886 25.2688 729.706 L18.7758 729.706 Q17.2162 725.823 16.4205 722.449 Q15.6248 719.075 15.6248 716.274 Q15.6248 708.89 19.3169 704.497 Q23.009 700.105 29.1837 700.105 Q32.112 700.105 34.7537 701.219 Q37.3637 702.301 40.9285 705.198 Q41.8515 705.993 46.2757 710.258 Q50.668 714.523 58.5933 722.29 Z\" fill=\"#000000\" fill-rule=\"evenodd\" fill-opacity=\"1\" /><line clip-path=\"url(#clip663)\" x1=\"279.421\" y1=\"772.997\" x2=\"279.421\" y2=\"756.997\" style=\"stroke:#6b9e32; stroke-width:3.2; stroke-opacity:1\"/>\n",
       "<line clip-path=\"url(#clip663)\" x1=\"279.421\" y1=\"772.997\" x2=\"263.421\" y2=\"772.997\" style=\"stroke:#6b9e32; stroke-width:3.2; stroke-opacity:1\"/>\n",
       "<line clip-path=\"url(#clip663)\" x1=\"279.421\" y1=\"772.997\" x2=\"279.421\" y2=\"788.997\" style=\"stroke:#6b9e32; stroke-width:3.2; stroke-opacity:1\"/>\n",
       "<line clip-path=\"url(#clip663)\" x1=\"279.421\" y1=\"772.997\" x2=\"295.421\" y2=\"772.997\" style=\"stroke:#6b9e32; stroke-width:3.2; stroke-opacity:1\"/>\n",
       "<line clip-path=\"url(#clip663)\" x1=\"356.842\" y1=\"630.905\" x2=\"356.842\" y2=\"614.905\" style=\"stroke:#6b9e32; stroke-width:3.2; stroke-opacity:1\"/>\n",
       "<line clip-path=\"url(#clip663)\" x1=\"356.842\" y1=\"630.905\" x2=\"340.842\" y2=\"630.905\" style=\"stroke:#6b9e32; stroke-width:3.2; stroke-opacity:1\"/>\n",
       "<line clip-path=\"url(#clip663)\" x1=\"356.842\" y1=\"630.905\" x2=\"356.842\" y2=\"646.905\" style=\"stroke:#6b9e32; stroke-width:3.2; stroke-opacity:1\"/>\n",
       "<line clip-path=\"url(#clip663)\" x1=\"356.842\" y1=\"630.905\" x2=\"372.842\" y2=\"630.905\" style=\"stroke:#6b9e32; stroke-width:3.2; stroke-opacity:1\"/>\n",
       "<line clip-path=\"url(#clip663)\" x1=\"434.263\" y1=\"615.125\" x2=\"434.263\" y2=\"599.125\" style=\"stroke:#6b9e32; stroke-width:3.2; stroke-opacity:1\"/>\n",
       "<line clip-path=\"url(#clip663)\" x1=\"434.263\" y1=\"615.125\" x2=\"418.263\" y2=\"615.125\" style=\"stroke:#6b9e32; stroke-width:3.2; stroke-opacity:1\"/>\n",
       "<line clip-path=\"url(#clip663)\" x1=\"434.263\" y1=\"615.125\" x2=\"434.263\" y2=\"631.125\" style=\"stroke:#6b9e32; stroke-width:3.2; stroke-opacity:1\"/>\n",
       "<line clip-path=\"url(#clip663)\" x1=\"434.263\" y1=\"615.125\" x2=\"450.263\" y2=\"615.125\" style=\"stroke:#6b9e32; stroke-width:3.2; stroke-opacity:1\"/>\n",
       "<line clip-path=\"url(#clip663)\" x1=\"511.684\" y1=\"652.239\" x2=\"511.684\" y2=\"636.239\" style=\"stroke:#6b9e32; stroke-width:3.2; stroke-opacity:1\"/>\n",
       "<line clip-path=\"url(#clip663)\" x1=\"511.684\" y1=\"652.239\" x2=\"495.684\" y2=\"652.239\" style=\"stroke:#6b9e32; stroke-width:3.2; stroke-opacity:1\"/>\n",
       "<line clip-path=\"url(#clip663)\" x1=\"511.684\" y1=\"652.239\" x2=\"511.684\" y2=\"668.239\" style=\"stroke:#6b9e32; stroke-width:3.2; stroke-opacity:1\"/>\n",
       "<line clip-path=\"url(#clip663)\" x1=\"511.684\" y1=\"652.239\" x2=\"527.684\" y2=\"652.239\" style=\"stroke:#6b9e32; stroke-width:3.2; stroke-opacity:1\"/>\n",
       "<line clip-path=\"url(#clip663)\" x1=\"589.105\" y1=\"713.835\" x2=\"589.105\" y2=\"697.835\" style=\"stroke:#6b9e32; stroke-width:3.2; stroke-opacity:1\"/>\n",
       "<line clip-path=\"url(#clip663)\" x1=\"589.105\" y1=\"713.835\" x2=\"573.105\" y2=\"713.835\" style=\"stroke:#6b9e32; stroke-width:3.2; stroke-opacity:1\"/>\n",
       "<line clip-path=\"url(#clip663)\" x1=\"589.105\" y1=\"713.835\" x2=\"589.105\" y2=\"729.835\" style=\"stroke:#6b9e32; stroke-width:3.2; stroke-opacity:1\"/>\n",
       "<line clip-path=\"url(#clip663)\" x1=\"589.105\" y1=\"713.835\" x2=\"605.105\" y2=\"713.835\" style=\"stroke:#6b9e32; stroke-width:3.2; stroke-opacity:1\"/>\n",
       "<line clip-path=\"url(#clip663)\" x1=\"666.526\" y1=\"754.859\" x2=\"666.526\" y2=\"738.859\" style=\"stroke:#6b9e32; stroke-width:3.2; stroke-opacity:1\"/>\n",
       "<line clip-path=\"url(#clip663)\" x1=\"666.526\" y1=\"754.859\" x2=\"650.526\" y2=\"754.859\" style=\"stroke:#6b9e32; stroke-width:3.2; stroke-opacity:1\"/>\n",
       "<line clip-path=\"url(#clip663)\" x1=\"666.526\" y1=\"754.859\" x2=\"666.526\" y2=\"770.859\" style=\"stroke:#6b9e32; stroke-width:3.2; stroke-opacity:1\"/>\n",
       "<line clip-path=\"url(#clip663)\" x1=\"666.526\" y1=\"754.859\" x2=\"682.526\" y2=\"754.859\" style=\"stroke:#6b9e32; stroke-width:3.2; stroke-opacity:1\"/>\n",
       "<line clip-path=\"url(#clip663)\" x1=\"743.947\" y1=\"763.087\" x2=\"743.947\" y2=\"747.087\" style=\"stroke:#6b9e32; stroke-width:3.2; stroke-opacity:1\"/>\n",
       "<line clip-path=\"url(#clip663)\" x1=\"743.947\" y1=\"763.087\" x2=\"727.947\" y2=\"763.087\" style=\"stroke:#6b9e32; stroke-width:3.2; stroke-opacity:1\"/>\n",
       "<line clip-path=\"url(#clip663)\" x1=\"743.947\" y1=\"763.087\" x2=\"743.947\" y2=\"779.087\" style=\"stroke:#6b9e32; stroke-width:3.2; stroke-opacity:1\"/>\n",
       "<line clip-path=\"url(#clip663)\" x1=\"743.947\" y1=\"763.087\" x2=\"759.947\" y2=\"763.087\" style=\"stroke:#6b9e32; stroke-width:3.2; stroke-opacity:1\"/>\n",
       "<line clip-path=\"url(#clip663)\" x1=\"821.368\" y1=\"751.266\" x2=\"821.368\" y2=\"735.266\" style=\"stroke:#6b9e32; stroke-width:3.2; stroke-opacity:1\"/>\n",
       "<line clip-path=\"url(#clip663)\" x1=\"821.368\" y1=\"751.266\" x2=\"805.368\" y2=\"751.266\" style=\"stroke:#6b9e32; stroke-width:3.2; stroke-opacity:1\"/>\n",
       "<line clip-path=\"url(#clip663)\" x1=\"821.368\" y1=\"751.266\" x2=\"821.368\" y2=\"767.266\" style=\"stroke:#6b9e32; stroke-width:3.2; stroke-opacity:1\"/>\n",
       "<line clip-path=\"url(#clip663)\" x1=\"821.368\" y1=\"751.266\" x2=\"837.368\" y2=\"751.266\" style=\"stroke:#6b9e32; stroke-width:3.2; stroke-opacity:1\"/>\n",
       "<line clip-path=\"url(#clip663)\" x1=\"898.789\" y1=\"749.726\" x2=\"898.789\" y2=\"733.726\" style=\"stroke:#6b9e32; stroke-width:3.2; stroke-opacity:1\"/>\n",
       "<line clip-path=\"url(#clip663)\" x1=\"898.789\" y1=\"749.726\" x2=\"882.789\" y2=\"749.726\" style=\"stroke:#6b9e32; stroke-width:3.2; stroke-opacity:1\"/>\n",
       "<line clip-path=\"url(#clip663)\" x1=\"898.789\" y1=\"749.726\" x2=\"898.789\" y2=\"765.726\" style=\"stroke:#6b9e32; stroke-width:3.2; stroke-opacity:1\"/>\n",
       "<line clip-path=\"url(#clip663)\" x1=\"898.789\" y1=\"749.726\" x2=\"914.789\" y2=\"749.726\" style=\"stroke:#6b9e32; stroke-width:3.2; stroke-opacity:1\"/>\n",
       "<line clip-path=\"url(#clip663)\" x1=\"976.21\" y1=\"741.719\" x2=\"976.21\" y2=\"725.719\" style=\"stroke:#6b9e32; stroke-width:3.2; stroke-opacity:1\"/>\n",
       "<line clip-path=\"url(#clip663)\" x1=\"976.21\" y1=\"741.719\" x2=\"960.21\" y2=\"741.719\" style=\"stroke:#6b9e32; stroke-width:3.2; stroke-opacity:1\"/>\n",
       "<line clip-path=\"url(#clip663)\" x1=\"976.21\" y1=\"741.719\" x2=\"976.21\" y2=\"757.719\" style=\"stroke:#6b9e32; stroke-width:3.2; stroke-opacity:1\"/>\n",
       "<line clip-path=\"url(#clip663)\" x1=\"976.21\" y1=\"741.719\" x2=\"992.21\" y2=\"741.719\" style=\"stroke:#6b9e32; stroke-width:3.2; stroke-opacity:1\"/>\n",
       "<line clip-path=\"url(#clip663)\" x1=\"1053.63\" y1=\"746.331\" x2=\"1053.63\" y2=\"730.331\" style=\"stroke:#6b9e32; stroke-width:3.2; stroke-opacity:1\"/>\n",
       "<line clip-path=\"url(#clip663)\" x1=\"1053.63\" y1=\"746.331\" x2=\"1037.63\" y2=\"746.331\" style=\"stroke:#6b9e32; stroke-width:3.2; stroke-opacity:1\"/>\n",
       "<line clip-path=\"url(#clip663)\" x1=\"1053.63\" y1=\"746.331\" x2=\"1053.63\" y2=\"762.331\" style=\"stroke:#6b9e32; stroke-width:3.2; stroke-opacity:1\"/>\n",
       "<line clip-path=\"url(#clip663)\" x1=\"1053.63\" y1=\"746.331\" x2=\"1069.63\" y2=\"746.331\" style=\"stroke:#6b9e32; stroke-width:3.2; stroke-opacity:1\"/>\n",
       "<line clip-path=\"url(#clip663)\" x1=\"1131.05\" y1=\"750.838\" x2=\"1131.05\" y2=\"734.838\" style=\"stroke:#6b9e32; stroke-width:3.2; stroke-opacity:1\"/>\n",
       "<line clip-path=\"url(#clip663)\" x1=\"1131.05\" y1=\"750.838\" x2=\"1115.05\" y2=\"750.838\" style=\"stroke:#6b9e32; stroke-width:3.2; stroke-opacity:1\"/>\n",
       "<line clip-path=\"url(#clip663)\" x1=\"1131.05\" y1=\"750.838\" x2=\"1131.05\" y2=\"766.838\" style=\"stroke:#6b9e32; stroke-width:3.2; stroke-opacity:1\"/>\n",
       "<line clip-path=\"url(#clip663)\" x1=\"1131.05\" y1=\"750.838\" x2=\"1147.05\" y2=\"750.838\" style=\"stroke:#6b9e32; stroke-width:3.2; stroke-opacity:1\"/>\n",
       "<line clip-path=\"url(#clip663)\" x1=\"1208.47\" y1=\"738.027\" x2=\"1208.47\" y2=\"722.027\" style=\"stroke:#6b9e32; stroke-width:3.2; stroke-opacity:1\"/>\n",
       "<line clip-path=\"url(#clip663)\" x1=\"1208.47\" y1=\"738.027\" x2=\"1192.47\" y2=\"738.027\" style=\"stroke:#6b9e32; stroke-width:3.2; stroke-opacity:1\"/>\n",
       "<line clip-path=\"url(#clip663)\" x1=\"1208.47\" y1=\"738.027\" x2=\"1208.47\" y2=\"754.027\" style=\"stroke:#6b9e32; stroke-width:3.2; stroke-opacity:1\"/>\n",
       "<line clip-path=\"url(#clip663)\" x1=\"1208.47\" y1=\"738.027\" x2=\"1224.47\" y2=\"738.027\" style=\"stroke:#6b9e32; stroke-width:3.2; stroke-opacity:1\"/>\n",
       "<line clip-path=\"url(#clip663)\" x1=\"1285.89\" y1=\"741.532\" x2=\"1285.89\" y2=\"725.532\" style=\"stroke:#6b9e32; stroke-width:3.2; stroke-opacity:1\"/>\n",
       "<line clip-path=\"url(#clip663)\" x1=\"1285.89\" y1=\"741.532\" x2=\"1269.89\" y2=\"741.532\" style=\"stroke:#6b9e32; stroke-width:3.2; stroke-opacity:1\"/>\n",
       "<line clip-path=\"url(#clip663)\" x1=\"1285.89\" y1=\"741.532\" x2=\"1285.89\" y2=\"757.532\" style=\"stroke:#6b9e32; stroke-width:3.2; stroke-opacity:1\"/>\n",
       "<line clip-path=\"url(#clip663)\" x1=\"1285.89\" y1=\"741.532\" x2=\"1301.89\" y2=\"741.532\" style=\"stroke:#6b9e32; stroke-width:3.2; stroke-opacity:1\"/>\n",
       "<line clip-path=\"url(#clip663)\" x1=\"1363.32\" y1=\"749.482\" x2=\"1363.32\" y2=\"733.482\" style=\"stroke:#6b9e32; stroke-width:3.2; stroke-opacity:1\"/>\n",
       "<line clip-path=\"url(#clip663)\" x1=\"1363.32\" y1=\"749.482\" x2=\"1347.32\" y2=\"749.482\" style=\"stroke:#6b9e32; stroke-width:3.2; stroke-opacity:1\"/>\n",
       "<line clip-path=\"url(#clip663)\" x1=\"1363.32\" y1=\"749.482\" x2=\"1363.32\" y2=\"765.482\" style=\"stroke:#6b9e32; stroke-width:3.2; stroke-opacity:1\"/>\n",
       "<line clip-path=\"url(#clip663)\" x1=\"1363.32\" y1=\"749.482\" x2=\"1379.32\" y2=\"749.482\" style=\"stroke:#6b9e32; stroke-width:3.2; stroke-opacity:1\"/>\n",
       "<line clip-path=\"url(#clip663)\" x1=\"1440.74\" y1=\"750.727\" x2=\"1440.74\" y2=\"734.727\" style=\"stroke:#6b9e32; stroke-width:3.2; stroke-opacity:1\"/>\n",
       "<line clip-path=\"url(#clip663)\" x1=\"1440.74\" y1=\"750.727\" x2=\"1424.74\" y2=\"750.727\" style=\"stroke:#6b9e32; stroke-width:3.2; stroke-opacity:1\"/>\n",
       "<line clip-path=\"url(#clip663)\" x1=\"1440.74\" y1=\"750.727\" x2=\"1440.74\" y2=\"766.727\" style=\"stroke:#6b9e32; stroke-width:3.2; stroke-opacity:1\"/>\n",
       "<line clip-path=\"url(#clip663)\" x1=\"1440.74\" y1=\"750.727\" x2=\"1456.74\" y2=\"750.727\" style=\"stroke:#6b9e32; stroke-width:3.2; stroke-opacity:1\"/>\n",
       "<line clip-path=\"url(#clip663)\" x1=\"1518.16\" y1=\"747.155\" x2=\"1518.16\" y2=\"731.155\" style=\"stroke:#6b9e32; stroke-width:3.2; stroke-opacity:1\"/>\n",
       "<line clip-path=\"url(#clip663)\" x1=\"1518.16\" y1=\"747.155\" x2=\"1502.16\" y2=\"747.155\" style=\"stroke:#6b9e32; stroke-width:3.2; stroke-opacity:1\"/>\n",
       "<line clip-path=\"url(#clip663)\" x1=\"1518.16\" y1=\"747.155\" x2=\"1518.16\" y2=\"763.155\" style=\"stroke:#6b9e32; stroke-width:3.2; stroke-opacity:1\"/>\n",
       "<line clip-path=\"url(#clip663)\" x1=\"1518.16\" y1=\"747.155\" x2=\"1534.16\" y2=\"747.155\" style=\"stroke:#6b9e32; stroke-width:3.2; stroke-opacity:1\"/>\n",
       "<line clip-path=\"url(#clip663)\" x1=\"1595.58\" y1=\"739.248\" x2=\"1595.58\" y2=\"723.248\" style=\"stroke:#6b9e32; stroke-width:3.2; stroke-opacity:1\"/>\n",
       "<line clip-path=\"url(#clip663)\" x1=\"1595.58\" y1=\"739.248\" x2=\"1579.58\" y2=\"739.248\" style=\"stroke:#6b9e32; stroke-width:3.2; stroke-opacity:1\"/>\n",
       "<line clip-path=\"url(#clip663)\" x1=\"1595.58\" y1=\"739.248\" x2=\"1595.58\" y2=\"755.248\" style=\"stroke:#6b9e32; stroke-width:3.2; stroke-opacity:1\"/>\n",
       "<line clip-path=\"url(#clip663)\" x1=\"1595.58\" y1=\"739.248\" x2=\"1611.58\" y2=\"739.248\" style=\"stroke:#6b9e32; stroke-width:3.2; stroke-opacity:1\"/>\n",
       "<line clip-path=\"url(#clip663)\" x1=\"1673\" y1=\"748.841\" x2=\"1673\" y2=\"732.841\" style=\"stroke:#6b9e32; stroke-width:3.2; stroke-opacity:1\"/>\n",
       "<line clip-path=\"url(#clip663)\" x1=\"1673\" y1=\"748.841\" x2=\"1657\" y2=\"748.841\" style=\"stroke:#6b9e32; stroke-width:3.2; stroke-opacity:1\"/>\n",
       "<line clip-path=\"url(#clip663)\" x1=\"1673\" y1=\"748.841\" x2=\"1673\" y2=\"764.841\" style=\"stroke:#6b9e32; stroke-width:3.2; stroke-opacity:1\"/>\n",
       "<line clip-path=\"url(#clip663)\" x1=\"1673\" y1=\"748.841\" x2=\"1689\" y2=\"748.841\" style=\"stroke:#6b9e32; stroke-width:3.2; stroke-opacity:1\"/>\n",
       "<line clip-path=\"url(#clip663)\" x1=\"1750.42\" y1=\"745.757\" x2=\"1750.42\" y2=\"729.757\" style=\"stroke:#6b9e32; stroke-width:3.2; stroke-opacity:1\"/>\n",
       "<line clip-path=\"url(#clip663)\" x1=\"1750.42\" y1=\"745.757\" x2=\"1734.42\" y2=\"745.757\" style=\"stroke:#6b9e32; stroke-width:3.2; stroke-opacity:1\"/>\n",
       "<line clip-path=\"url(#clip663)\" x1=\"1750.42\" y1=\"745.757\" x2=\"1750.42\" y2=\"761.757\" style=\"stroke:#6b9e32; stroke-width:3.2; stroke-opacity:1\"/>\n",
       "<line clip-path=\"url(#clip663)\" x1=\"1750.42\" y1=\"745.757\" x2=\"1766.42\" y2=\"745.757\" style=\"stroke:#6b9e32; stroke-width:3.2; stroke-opacity:1\"/>\n",
       "<line clip-path=\"url(#clip663)\" x1=\"1827.84\" y1=\"745.757\" x2=\"1827.84\" y2=\"729.757\" style=\"stroke:#6b9e32; stroke-width:3.2; stroke-opacity:1\"/>\n",
       "<line clip-path=\"url(#clip663)\" x1=\"1827.84\" y1=\"745.757\" x2=\"1811.84\" y2=\"745.757\" style=\"stroke:#6b9e32; stroke-width:3.2; stroke-opacity:1\"/>\n",
       "<line clip-path=\"url(#clip663)\" x1=\"1827.84\" y1=\"745.757\" x2=\"1827.84\" y2=\"761.757\" style=\"stroke:#6b9e32; stroke-width:3.2; stroke-opacity:1\"/>\n",
       "<line clip-path=\"url(#clip663)\" x1=\"1827.84\" y1=\"745.757\" x2=\"1843.84\" y2=\"745.757\" style=\"stroke:#6b9e32; stroke-width:3.2; stroke-opacity:1\"/>\n",
       "<line clip-path=\"url(#clip663)\" x1=\"1905.26\" y1=\"745.757\" x2=\"1905.26\" y2=\"729.757\" style=\"stroke:#6b9e32; stroke-width:3.2; stroke-opacity:1\"/>\n",
       "<line clip-path=\"url(#clip663)\" x1=\"1905.26\" y1=\"745.757\" x2=\"1889.26\" y2=\"745.757\" style=\"stroke:#6b9e32; stroke-width:3.2; stroke-opacity:1\"/>\n",
       "<line clip-path=\"url(#clip663)\" x1=\"1905.26\" y1=\"745.757\" x2=\"1905.26\" y2=\"761.757\" style=\"stroke:#6b9e32; stroke-width:3.2; stroke-opacity:1\"/>\n",
       "<line clip-path=\"url(#clip663)\" x1=\"1905.26\" y1=\"745.757\" x2=\"1921.26\" y2=\"745.757\" style=\"stroke:#6b9e32; stroke-width:3.2; stroke-opacity:1\"/>\n",
       "<line clip-path=\"url(#clip663)\" x1=\"1982.68\" y1=\"745.757\" x2=\"1982.68\" y2=\"729.757\" style=\"stroke:#6b9e32; stroke-width:3.2; stroke-opacity:1\"/>\n",
       "<line clip-path=\"url(#clip663)\" x1=\"1982.68\" y1=\"745.757\" x2=\"1966.68\" y2=\"745.757\" style=\"stroke:#6b9e32; stroke-width:3.2; stroke-opacity:1\"/>\n",
       "<line clip-path=\"url(#clip663)\" x1=\"1982.68\" y1=\"745.757\" x2=\"1982.68\" y2=\"761.757\" style=\"stroke:#6b9e32; stroke-width:3.2; stroke-opacity:1\"/>\n",
       "<line clip-path=\"url(#clip663)\" x1=\"1982.68\" y1=\"745.757\" x2=\"1998.68\" y2=\"745.757\" style=\"stroke:#6b9e32; stroke-width:3.2; stroke-opacity:1\"/>\n",
       "<line clip-path=\"url(#clip663)\" x1=\"2060.1\" y1=\"745.757\" x2=\"2060.1\" y2=\"729.757\" style=\"stroke:#6b9e32; stroke-width:3.2; stroke-opacity:1\"/>\n",
       "<line clip-path=\"url(#clip663)\" x1=\"2060.1\" y1=\"745.757\" x2=\"2044.1\" y2=\"745.757\" style=\"stroke:#6b9e32; stroke-width:3.2; stroke-opacity:1\"/>\n",
       "<line clip-path=\"url(#clip663)\" x1=\"2060.1\" y1=\"745.757\" x2=\"2060.1\" y2=\"761.757\" style=\"stroke:#6b9e32; stroke-width:3.2; stroke-opacity:1\"/>\n",
       "<line clip-path=\"url(#clip663)\" x1=\"2060.1\" y1=\"745.757\" x2=\"2076.1\" y2=\"745.757\" style=\"stroke:#6b9e32; stroke-width:3.2; stroke-opacity:1\"/>\n",
       "<line clip-path=\"url(#clip663)\" x1=\"2137.53\" y1=\"745.757\" x2=\"2137.53\" y2=\"729.757\" style=\"stroke:#6b9e32; stroke-width:3.2; stroke-opacity:1\"/>\n",
       "<line clip-path=\"url(#clip663)\" x1=\"2137.53\" y1=\"745.757\" x2=\"2121.53\" y2=\"745.757\" style=\"stroke:#6b9e32; stroke-width:3.2; stroke-opacity:1\"/>\n",
       "<line clip-path=\"url(#clip663)\" x1=\"2137.53\" y1=\"745.757\" x2=\"2137.53\" y2=\"761.757\" style=\"stroke:#6b9e32; stroke-width:3.2; stroke-opacity:1\"/>\n",
       "<line clip-path=\"url(#clip663)\" x1=\"2137.53\" y1=\"745.757\" x2=\"2153.53\" y2=\"745.757\" style=\"stroke:#6b9e32; stroke-width:3.2; stroke-opacity:1\"/>\n",
       "<line clip-path=\"url(#clip663)\" x1=\"2214.95\" y1=\"745.757\" x2=\"2214.95\" y2=\"729.757\" style=\"stroke:#6b9e32; stroke-width:3.2; stroke-opacity:1\"/>\n",
       "<line clip-path=\"url(#clip663)\" x1=\"2214.95\" y1=\"745.757\" x2=\"2198.95\" y2=\"745.757\" style=\"stroke:#6b9e32; stroke-width:3.2; stroke-opacity:1\"/>\n",
       "<line clip-path=\"url(#clip663)\" x1=\"2214.95\" y1=\"745.757\" x2=\"2214.95\" y2=\"761.757\" style=\"stroke:#6b9e32; stroke-width:3.2; stroke-opacity:1\"/>\n",
       "<line clip-path=\"url(#clip663)\" x1=\"2214.95\" y1=\"745.757\" x2=\"2230.95\" y2=\"745.757\" style=\"stroke:#6b9e32; stroke-width:3.2; stroke-opacity:1\"/>\n",
       "<line clip-path=\"url(#clip663)\" x1=\"2292.37\" y1=\"745.757\" x2=\"2292.37\" y2=\"729.757\" style=\"stroke:#6b9e32; stroke-width:3.2; stroke-opacity:1\"/>\n",
       "<line clip-path=\"url(#clip663)\" x1=\"2292.37\" y1=\"745.757\" x2=\"2276.37\" y2=\"745.757\" style=\"stroke:#6b9e32; stroke-width:3.2; stroke-opacity:1\"/>\n",
       "<line clip-path=\"url(#clip663)\" x1=\"2292.37\" y1=\"745.757\" x2=\"2292.37\" y2=\"761.757\" style=\"stroke:#6b9e32; stroke-width:3.2; stroke-opacity:1\"/>\n",
       "<line clip-path=\"url(#clip663)\" x1=\"2292.37\" y1=\"745.757\" x2=\"2308.37\" y2=\"745.757\" style=\"stroke:#6b9e32; stroke-width:3.2; stroke-opacity:1\"/>\n",
       "<polyline clip-path=\"url(#clip663)\" style=\"stroke:#ff0000; stroke-linecap:round; stroke-linejoin:round; stroke-width:20; stroke-opacity:0.3; fill:none\" points=\"279.421,772.997 279.421,630.905 356.842,630.905 356.842,615.125 434.263,615.125 434.263,652.239 511.684,652.239 511.684,713.835 589.105,713.835 589.105,754.859 666.526,754.859 666.526,763.087 743.947,763.087 743.947,751.266 821.368,751.266 821.368,749.726 898.789,749.726 898.789,741.719 976.21,741.719 976.21,746.331 1053.63,746.331 1053.63,750.838 1131.05,750.838 1131.05,738.027 1208.47,738.027 1208.47,741.532 1285.89,741.532 1285.89,749.482 1363.32,749.482 1363.32,750.727 1440.74,750.727 1440.74,747.155 1518.16,747.155 1518.16,739.248 1595.58,739.248 1595.58,748.841 1673,748.841 1673,745.757 1750.42,745.757 1827.84,745.757 1905.26,745.757 1982.68,745.757 2060.1,745.757 2137.53,745.757 2214.95,745.757 2292.37,745.757 \"/>\n",
       "<circle clip-path=\"url(#clip663)\" cx=\"279.421\" cy=\"772.998\" r=\"14.4\" fill=\"#009af9\" fill-rule=\"evenodd\" fill-opacity=\"1\" stroke=\"#000000\" stroke-opacity=\"1\" stroke-width=\"3.2\"/>\n",
       "<circle clip-path=\"url(#clip663)\" cx=\"356.842\" cy=\"630.906\" r=\"14.4\" fill=\"#009af9\" fill-rule=\"evenodd\" fill-opacity=\"1\" stroke=\"#000000\" stroke-opacity=\"1\" stroke-width=\"3.2\"/>\n",
       "<circle clip-path=\"url(#clip663)\" cx=\"434.263\" cy=\"615.125\" r=\"14.4\" fill=\"#009af9\" fill-rule=\"evenodd\" fill-opacity=\"1\" stroke=\"#000000\" stroke-opacity=\"1\" stroke-width=\"3.2\"/>\n",
       "<circle clip-path=\"url(#clip663)\" cx=\"511.684\" cy=\"652.239\" r=\"14.4\" fill=\"#009af9\" fill-rule=\"evenodd\" fill-opacity=\"1\" stroke=\"#000000\" stroke-opacity=\"1\" stroke-width=\"3.2\"/>\n",
       "<circle clip-path=\"url(#clip663)\" cx=\"589.105\" cy=\"713.835\" r=\"14.4\" fill=\"#009af9\" fill-rule=\"evenodd\" fill-opacity=\"1\" stroke=\"#000000\" stroke-opacity=\"1\" stroke-width=\"3.2\"/>\n",
       "<circle clip-path=\"url(#clip663)\" cx=\"666.526\" cy=\"754.859\" r=\"14.4\" fill=\"#009af9\" fill-rule=\"evenodd\" fill-opacity=\"1\" stroke=\"#000000\" stroke-opacity=\"1\" stroke-width=\"3.2\"/>\n",
       "<circle clip-path=\"url(#clip663)\" cx=\"743.947\" cy=\"763.087\" r=\"14.4\" fill=\"#009af9\" fill-rule=\"evenodd\" fill-opacity=\"1\" stroke=\"#000000\" stroke-opacity=\"1\" stroke-width=\"3.2\"/>\n",
       "<circle clip-path=\"url(#clip663)\" cx=\"821.368\" cy=\"751.265\" r=\"14.4\" fill=\"#009af9\" fill-rule=\"evenodd\" fill-opacity=\"1\" stroke=\"#000000\" stroke-opacity=\"1\" stroke-width=\"3.2\"/>\n",
       "<circle clip-path=\"url(#clip663)\" cx=\"898.789\" cy=\"749.726\" r=\"14.4\" fill=\"#009af9\" fill-rule=\"evenodd\" fill-opacity=\"1\" stroke=\"#000000\" stroke-opacity=\"1\" stroke-width=\"3.2\"/>\n",
       "<circle clip-path=\"url(#clip663)\" cx=\"976.21\" cy=\"741.72\" r=\"14.4\" fill=\"#009af9\" fill-rule=\"evenodd\" fill-opacity=\"1\" stroke=\"#000000\" stroke-opacity=\"1\" stroke-width=\"3.2\"/>\n",
       "<circle clip-path=\"url(#clip663)\" cx=\"1053.63\" cy=\"746.329\" r=\"14.4\" fill=\"#009af9\" fill-rule=\"evenodd\" fill-opacity=\"1\" stroke=\"#000000\" stroke-opacity=\"1\" stroke-width=\"3.2\"/>\n",
       "<circle clip-path=\"url(#clip663)\" cx=\"1131.05\" cy=\"750.839\" r=\"14.4\" fill=\"#009af9\" fill-rule=\"evenodd\" fill-opacity=\"1\" stroke=\"#000000\" stroke-opacity=\"1\" stroke-width=\"3.2\"/>\n",
       "<circle clip-path=\"url(#clip663)\" cx=\"1208.47\" cy=\"738.027\" r=\"14.4\" fill=\"#009af9\" fill-rule=\"evenodd\" fill-opacity=\"1\" stroke=\"#000000\" stroke-opacity=\"1\" stroke-width=\"3.2\"/>\n",
       "<circle clip-path=\"url(#clip663)\" cx=\"1285.89\" cy=\"741.532\" r=\"14.4\" fill=\"#009af9\" fill-rule=\"evenodd\" fill-opacity=\"1\" stroke=\"#000000\" stroke-opacity=\"1\" stroke-width=\"3.2\"/>\n",
       "<circle clip-path=\"url(#clip663)\" cx=\"1363.32\" cy=\"749.482\" r=\"14.4\" fill=\"#009af9\" fill-rule=\"evenodd\" fill-opacity=\"1\" stroke=\"#000000\" stroke-opacity=\"1\" stroke-width=\"3.2\"/>\n",
       "<circle clip-path=\"url(#clip663)\" cx=\"1440.74\" cy=\"750.727\" r=\"14.4\" fill=\"#009af9\" fill-rule=\"evenodd\" fill-opacity=\"1\" stroke=\"#000000\" stroke-opacity=\"1\" stroke-width=\"3.2\"/>\n",
       "<circle clip-path=\"url(#clip663)\" cx=\"1518.16\" cy=\"747.155\" r=\"14.4\" fill=\"#009af9\" fill-rule=\"evenodd\" fill-opacity=\"1\" stroke=\"#000000\" stroke-opacity=\"1\" stroke-width=\"3.2\"/>\n",
       "<circle clip-path=\"url(#clip663)\" cx=\"1595.58\" cy=\"739.248\" r=\"14.4\" fill=\"#009af9\" fill-rule=\"evenodd\" fill-opacity=\"1\" stroke=\"#000000\" stroke-opacity=\"1\" stroke-width=\"3.2\"/>\n",
       "<circle clip-path=\"url(#clip663)\" cx=\"1673\" cy=\"748.841\" r=\"14.4\" fill=\"#009af9\" fill-rule=\"evenodd\" fill-opacity=\"1\" stroke=\"#000000\" stroke-opacity=\"1\" stroke-width=\"3.2\"/>\n",
       "<circle clip-path=\"url(#clip663)\" cx=\"1750.42\" cy=\"745.757\" r=\"14.4\" fill=\"#009af9\" fill-rule=\"evenodd\" fill-opacity=\"1\" stroke=\"#000000\" stroke-opacity=\"1\" stroke-width=\"3.2\"/>\n",
       "<circle clip-path=\"url(#clip663)\" cx=\"1827.84\" cy=\"745.757\" r=\"14.4\" fill=\"#009af9\" fill-rule=\"evenodd\" fill-opacity=\"1\" stroke=\"#000000\" stroke-opacity=\"1\" stroke-width=\"3.2\"/>\n",
       "<circle clip-path=\"url(#clip663)\" cx=\"1905.26\" cy=\"745.757\" r=\"14.4\" fill=\"#009af9\" fill-rule=\"evenodd\" fill-opacity=\"1\" stroke=\"#000000\" stroke-opacity=\"1\" stroke-width=\"3.2\"/>\n",
       "<circle clip-path=\"url(#clip663)\" cx=\"1982.68\" cy=\"745.757\" r=\"14.4\" fill=\"#009af9\" fill-rule=\"evenodd\" fill-opacity=\"1\" stroke=\"#000000\" stroke-opacity=\"1\" stroke-width=\"3.2\"/>\n",
       "<circle clip-path=\"url(#clip663)\" cx=\"2060.1\" cy=\"745.757\" r=\"14.4\" fill=\"#009af9\" fill-rule=\"evenodd\" fill-opacity=\"1\" stroke=\"#000000\" stroke-opacity=\"1\" stroke-width=\"3.2\"/>\n",
       "<circle clip-path=\"url(#clip663)\" cx=\"2137.53\" cy=\"745.757\" r=\"14.4\" fill=\"#009af9\" fill-rule=\"evenodd\" fill-opacity=\"1\" stroke=\"#000000\" stroke-opacity=\"1\" stroke-width=\"3.2\"/>\n",
       "<circle clip-path=\"url(#clip663)\" cx=\"2214.95\" cy=\"745.757\" r=\"14.4\" fill=\"#009af9\" fill-rule=\"evenodd\" fill-opacity=\"1\" stroke=\"#000000\" stroke-opacity=\"1\" stroke-width=\"3.2\"/>\n",
       "<circle clip-path=\"url(#clip663)\" cx=\"2292.37\" cy=\"745.757\" r=\"14.4\" fill=\"#009af9\" fill-rule=\"evenodd\" fill-opacity=\"1\" stroke=\"#000000\" stroke-opacity=\"1\" stroke-width=\"3.2\"/>\n",
       "<polyline clip-path=\"url(#clip663)\" style=\"stroke:#80007f; stroke-linecap:round; stroke-linejoin:round; stroke-width:20; stroke-opacity:0.3; fill:none\" points=\"279.421,772.998 279.421,630.906 356.842,630.906 356.842,615.125 434.263,615.125 434.263,652.239 511.684,652.239 511.684,713.835 589.105,713.835 589.105,754.859 666.526,754.859 666.526,763.087 743.947,763.087 743.947,751.265 821.368,751.265 821.368,749.726 898.789,749.726 898.789,741.72 976.21,741.72 976.21,746.329 1053.63,746.329 1053.63,750.839 1131.05,750.839 1131.05,738.027 1208.47,738.027 1208.47,741.532 1285.89,741.532 1285.89,749.482 1363.32,749.482 1363.32,750.727 1440.74,750.727 1440.74,747.155 1518.16,747.155 1518.16,739.248 1595.58,739.248 1595.58,748.841 1673,748.841 1673,745.757 1750.42,745.757 1827.84,745.757 1905.26,745.757 1982.68,745.757 2060.1,745.757 2137.53,745.757 2214.95,745.757 2292.37,745.757 \"/>\n",
       "<path clip-path=\"url(#clip663)\" d=\"M279.421 756.995 L263.421 772.995 L279.421 788.995 L295.421 772.995 L279.421 756.995 Z\" fill=\"#e26f46\" fill-rule=\"evenodd\" fill-opacity=\"1\" stroke=\"#000000\" stroke-opacity=\"1\" stroke-width=\"3.2\"/>\n",
       "<path clip-path=\"url(#clip663)\" d=\"M356.842 614.902 L340.842 630.902 L356.842 646.902 L372.842 630.902 L356.842 614.902 Z\" fill=\"#e26f46\" fill-rule=\"evenodd\" fill-opacity=\"1\" stroke=\"#000000\" stroke-opacity=\"1\" stroke-width=\"3.2\"/>\n",
       "<path clip-path=\"url(#clip663)\" d=\"M434.263 599.128 L418.263 615.128 L434.263 631.128 L450.263 615.128 L434.263 599.128 Z\" fill=\"#e26f46\" fill-rule=\"evenodd\" fill-opacity=\"1\" stroke=\"#000000\" stroke-opacity=\"1\" stroke-width=\"3.2\"/>\n",
       "<path clip-path=\"url(#clip663)\" d=\"M511.684 636.25 L495.684 652.25 L511.684 668.25 L527.684 652.25 L511.684 636.25 Z\" fill=\"#e26f46\" fill-rule=\"evenodd\" fill-opacity=\"1\" stroke=\"#000000\" stroke-opacity=\"1\" stroke-width=\"3.2\"/>\n",
       "<path clip-path=\"url(#clip663)\" d=\"M589.105 697.832 L573.105 713.832 L589.105 729.832 L605.105 713.832 L589.105 697.832 Z\" fill=\"#e26f46\" fill-rule=\"evenodd\" fill-opacity=\"1\" stroke=\"#000000\" stroke-opacity=\"1\" stroke-width=\"3.2\"/>\n",
       "<path clip-path=\"url(#clip663)\" d=\"M666.526 738.852 L650.526 754.852 L666.526 770.852 L682.526 754.852 L666.526 738.852 Z\" fill=\"#e26f46\" fill-rule=\"evenodd\" fill-opacity=\"1\" stroke=\"#000000\" stroke-opacity=\"1\" stroke-width=\"3.2\"/>\n",
       "<path clip-path=\"url(#clip663)\" d=\"M743.947 747.085 L727.947 763.085 L743.947 779.085 L759.947 763.085 L743.947 747.085 Z\" fill=\"#e26f46\" fill-rule=\"evenodd\" fill-opacity=\"1\" stroke=\"#000000\" stroke-opacity=\"1\" stroke-width=\"3.2\"/>\n",
       "<path clip-path=\"url(#clip663)\" d=\"M821.368 735.274 L805.368 751.274 L821.368 767.274 L837.368 751.274 L821.368 735.274 Z\" fill=\"#e26f46\" fill-rule=\"evenodd\" fill-opacity=\"1\" stroke=\"#000000\" stroke-opacity=\"1\" stroke-width=\"3.2\"/>\n",
       "<path clip-path=\"url(#clip663)\" d=\"M898.789 733.727 L882.789 749.727 L898.789 765.727 L914.789 749.727 L898.789 733.727 Z\" fill=\"#e26f46\" fill-rule=\"evenodd\" fill-opacity=\"1\" stroke=\"#000000\" stroke-opacity=\"1\" stroke-width=\"3.2\"/>\n",
       "<path clip-path=\"url(#clip663)\" d=\"M976.21 725.705 L960.21 741.705 L976.21 757.705 L992.21 741.705 L976.21 725.705 Z\" fill=\"#e26f46\" fill-rule=\"evenodd\" fill-opacity=\"1\" stroke=\"#000000\" stroke-opacity=\"1\" stroke-width=\"3.2\"/>\n",
       "<path clip-path=\"url(#clip663)\" d=\"M1053.63 730.35 L1037.63 746.35 L1053.63 762.35 L1069.63 746.35 L1053.63 730.35 Z\" fill=\"#e26f46\" fill-rule=\"evenodd\" fill-opacity=\"1\" stroke=\"#000000\" stroke-opacity=\"1\" stroke-width=\"3.2\"/>\n",
       "<path clip-path=\"url(#clip663)\" d=\"M1131.05 734.828 L1115.05 750.828 L1131.05 766.828 L1147.05 750.828 L1131.05 734.828 Z\" fill=\"#e26f46\" fill-rule=\"evenodd\" fill-opacity=\"1\" stroke=\"#000000\" stroke-opacity=\"1\" stroke-width=\"3.2\"/>\n",
       "<path clip-path=\"url(#clip663)\" d=\"M1208.47 722.026 L1192.47 738.026 L1208.47 754.026 L1224.47 738.026 L1208.47 722.026 Z\" fill=\"#e26f46\" fill-rule=\"evenodd\" fill-opacity=\"1\" stroke=\"#000000\" stroke-opacity=\"1\" stroke-width=\"3.2\"/>\n",
       "<path clip-path=\"url(#clip663)\" d=\"M1285.89 725.535 L1269.89 741.535 L1285.89 757.535 L1301.89 741.535 L1285.89 725.535 Z\" fill=\"#e26f46\" fill-rule=\"evenodd\" fill-opacity=\"1\" stroke=\"#000000\" stroke-opacity=\"1\" stroke-width=\"3.2\"/>\n",
       "<path clip-path=\"url(#clip663)\" d=\"M1363.32 733.483 L1347.32 749.483 L1363.32 765.483 L1379.32 749.483 L1363.32 733.483 Z\" fill=\"#e26f46\" fill-rule=\"evenodd\" fill-opacity=\"1\" stroke=\"#000000\" stroke-opacity=\"1\" stroke-width=\"3.2\"/>\n",
       "<path clip-path=\"url(#clip663)\" d=\"M1440.74 734.728 L1424.74 750.728 L1440.74 766.728 L1456.74 750.728 L1440.74 734.728 Z\" fill=\"#e26f46\" fill-rule=\"evenodd\" fill-opacity=\"1\" stroke=\"#000000\" stroke-opacity=\"1\" stroke-width=\"3.2\"/>\n",
       "<path clip-path=\"url(#clip663)\" d=\"M1518.16 731.149 L1502.16 747.149 L1518.16 763.149 L1534.16 747.149 L1518.16 731.149 Z\" fill=\"#e26f46\" fill-rule=\"evenodd\" fill-opacity=\"1\" stroke=\"#000000\" stroke-opacity=\"1\" stroke-width=\"3.2\"/>\n",
       "<path clip-path=\"url(#clip663)\" d=\"M1595.58 723.254 L1579.58 739.254 L1595.58 755.254 L1611.58 739.254 L1595.58 723.254 Z\" fill=\"#e26f46\" fill-rule=\"evenodd\" fill-opacity=\"1\" stroke=\"#000000\" stroke-opacity=\"1\" stroke-width=\"3.2\"/>\n",
       "<path clip-path=\"url(#clip663)\" d=\"M1673 732.838 L1657 748.838 L1673 764.838 L1689 748.838 L1673 732.838 Z\" fill=\"#e26f46\" fill-rule=\"evenodd\" fill-opacity=\"1\" stroke=\"#000000\" stroke-opacity=\"1\" stroke-width=\"3.2\"/>\n",
       "<path clip-path=\"url(#clip663)\" d=\"M1750.42 729.757 L1734.42 745.757 L1750.42 761.757 L1766.42 745.757 L1750.42 729.757 Z\" fill=\"#e26f46\" fill-rule=\"evenodd\" fill-opacity=\"1\" stroke=\"#000000\" stroke-opacity=\"1\" stroke-width=\"3.2\"/>\n",
       "<path clip-path=\"url(#clip663)\" d=\"M1827.84 729.757 L1811.84 745.757 L1827.84 761.757 L1843.84 745.757 L1827.84 729.757 Z\" fill=\"#e26f46\" fill-rule=\"evenodd\" fill-opacity=\"1\" stroke=\"#000000\" stroke-opacity=\"1\" stroke-width=\"3.2\"/>\n",
       "<path clip-path=\"url(#clip663)\" d=\"M1905.26 729.757 L1889.26 745.757 L1905.26 761.757 L1921.26 745.757 L1905.26 729.757 Z\" fill=\"#e26f46\" fill-rule=\"evenodd\" fill-opacity=\"1\" stroke=\"#000000\" stroke-opacity=\"1\" stroke-width=\"3.2\"/>\n",
       "<path clip-path=\"url(#clip663)\" d=\"M1982.68 729.757 L1966.68 745.757 L1982.68 761.757 L1998.68 745.757 L1982.68 729.757 Z\" fill=\"#e26f46\" fill-rule=\"evenodd\" fill-opacity=\"1\" stroke=\"#000000\" stroke-opacity=\"1\" stroke-width=\"3.2\"/>\n",
       "<path clip-path=\"url(#clip663)\" d=\"M2060.1 729.757 L2044.1 745.757 L2060.1 761.757 L2076.1 745.757 L2060.1 729.757 Z\" fill=\"#e26f46\" fill-rule=\"evenodd\" fill-opacity=\"1\" stroke=\"#000000\" stroke-opacity=\"1\" stroke-width=\"3.2\"/>\n",
       "<path clip-path=\"url(#clip663)\" d=\"M2137.53 729.757 L2121.53 745.757 L2137.53 761.757 L2153.53 745.757 L2137.53 729.757 Z\" fill=\"#e26f46\" fill-rule=\"evenodd\" fill-opacity=\"1\" stroke=\"#000000\" stroke-opacity=\"1\" stroke-width=\"3.2\"/>\n",
       "<path clip-path=\"url(#clip663)\" d=\"M2214.95 729.757 L2198.95 745.757 L2214.95 761.757 L2230.95 745.757 L2214.95 729.757 Z\" fill=\"#e26f46\" fill-rule=\"evenodd\" fill-opacity=\"1\" stroke=\"#000000\" stroke-opacity=\"1\" stroke-width=\"3.2\"/>\n",
       "<path clip-path=\"url(#clip663)\" d=\"M2292.37 729.757 L2276.37 745.757 L2292.37 761.757 L2308.37 745.757 L2292.37 729.757 Z\" fill=\"#e26f46\" fill-rule=\"evenodd\" fill-opacity=\"1\" stroke=\"#000000\" stroke-opacity=\"1\" stroke-width=\"3.2\"/>\n",
       "<polyline clip-path=\"url(#clip663)\" style=\"stroke:#0000ff; stroke-linecap:round; stroke-linejoin:round; stroke-width:20; stroke-opacity:0.3; fill:none\" points=\"279.421,772.995 279.421,630.902 356.842,630.902 356.842,615.128 434.263,615.128 434.263,652.25 511.684,652.25 511.684,713.832 589.105,713.832 589.105,754.852 666.526,754.852 666.526,763.085 743.947,763.085 743.947,751.274 821.368,751.274 821.368,749.727 898.789,749.727 898.789,741.705 976.21,741.705 976.21,746.35 1053.63,746.35 1053.63,750.828 1131.05,750.828 1131.05,738.026 1208.47,738.026 1208.47,741.535 1285.89,741.535 1285.89,749.483 1363.32,749.483 1363.32,750.728 1440.74,750.728 1440.74,747.149 1518.16,747.149 1518.16,739.254 1595.58,739.254 1595.58,748.838 1673,748.838 1673,745.757 1750.42,745.757 1827.84,745.757 1905.26,745.757 1982.68,745.757 2060.1,745.757 2137.53,745.757 2214.95,745.757 2292.37,745.757 \"/>\n",
       "<path clip-path=\"url(#clip660)\" d=\"M219.033 1423.18 L2352.76 1423.18 L2352.76 1113.91 L219.033 1113.91  Z\" fill=\"#ffffff\" fill-rule=\"evenodd\" fill-opacity=\"1\"/>\n",
       "<defs>\n",
       "  <clipPath id=\"clip664\">\n",
       "    <rect x=\"219\" y=\"1113\" width=\"2135\" height=\"310\"/>\n",
       "  </clipPath>\n",
       "</defs>\n",
       "<polyline clip-path=\"url(#clip664)\" style=\"stroke:#000000; stroke-linecap:round; stroke-linejoin:round; stroke-width:8; stroke-opacity:0.1; fill:none\" points=\"589.105,1423.18 589.105,1113.91 \"/>\n",
       "<polyline clip-path=\"url(#clip664)\" style=\"stroke:#000000; stroke-linecap:round; stroke-linejoin:round; stroke-width:8; stroke-opacity:0.1; fill:none\" points=\"976.21,1423.18 976.21,1113.91 \"/>\n",
       "<polyline clip-path=\"url(#clip664)\" style=\"stroke:#000000; stroke-linecap:round; stroke-linejoin:round; stroke-width:8; stroke-opacity:0.1; fill:none\" points=\"1363.32,1423.18 1363.32,1113.91 \"/>\n",
       "<polyline clip-path=\"url(#clip664)\" style=\"stroke:#000000; stroke-linecap:round; stroke-linejoin:round; stroke-width:8; stroke-opacity:0.1; fill:none\" points=\"1750.42,1423.18 1750.42,1113.91 \"/>\n",
       "<polyline clip-path=\"url(#clip664)\" style=\"stroke:#000000; stroke-linecap:round; stroke-linejoin:round; stroke-width:8; stroke-opacity:0.1; fill:none\" points=\"2137.53,1423.18 2137.53,1113.91 \"/>\n",
       "<polyline clip-path=\"url(#clip660)\" style=\"stroke:#000000; stroke-linecap:round; stroke-linejoin:round; stroke-width:4; stroke-opacity:1; fill:none\" points=\"219.033,1423.18 2352.76,1423.18 \"/>\n",
       "<polyline clip-path=\"url(#clip660)\" style=\"stroke:#000000; stroke-linecap:round; stroke-linejoin:round; stroke-width:4; stroke-opacity:1; fill:none\" points=\"589.105,1423.18 589.105,1404.28 \"/>\n",
       "<polyline clip-path=\"url(#clip660)\" style=\"stroke:#000000; stroke-linecap:round; stroke-linejoin:round; stroke-width:4; stroke-opacity:1; fill:none\" points=\"976.21,1423.18 976.21,1404.28 \"/>\n",
       "<polyline clip-path=\"url(#clip660)\" style=\"stroke:#000000; stroke-linecap:round; stroke-linejoin:round; stroke-width:4; stroke-opacity:1; fill:none\" points=\"1363.32,1423.18 1363.32,1404.28 \"/>\n",
       "<polyline clip-path=\"url(#clip660)\" style=\"stroke:#000000; stroke-linecap:round; stroke-linejoin:round; stroke-width:4; stroke-opacity:1; fill:none\" points=\"1750.42,1423.18 1750.42,1404.28 \"/>\n",
       "<polyline clip-path=\"url(#clip660)\" style=\"stroke:#000000; stroke-linecap:round; stroke-linejoin:round; stroke-width:4; stroke-opacity:1; fill:none\" points=\"2137.53,1423.18 2137.53,1404.28 \"/>\n",
       "<path clip-path=\"url(#clip660)\" d=\"M579.383 1451.02 L597.74 1451.02 L597.74 1454.96 L583.666 1454.96 L583.666 1463.43 Q584.684 1463.08 585.703 1462.92 Q586.721 1462.73 587.74 1462.73 Q593.527 1462.73 596.906 1465.9 Q600.286 1469.08 600.286 1474.49 Q600.286 1480.07 596.814 1483.17 Q593.341 1486.25 587.022 1486.25 Q584.846 1486.25 582.578 1485.88 Q580.332 1485.51 577.925 1484.77 L577.925 1480.07 Q580.008 1481.2 582.23 1481.76 Q584.453 1482.32 586.929 1482.32 Q590.934 1482.32 593.272 1480.21 Q595.61 1478.1 595.61 1474.49 Q595.61 1470.88 593.272 1468.77 Q590.934 1466.67 586.929 1466.67 Q585.054 1466.67 583.179 1467.08 Q581.328 1467.5 579.383 1468.38 L579.383 1451.02 Z\" fill=\"#000000\" fill-rule=\"evenodd\" fill-opacity=\"1\" /><path clip-path=\"url(#clip660)\" d=\"M950.898 1481.64 L958.537 1481.64 L958.537 1455.28 L950.227 1456.95 L950.227 1452.69 L958.491 1451.02 L963.166 1451.02 L963.166 1481.64 L970.805 1481.64 L970.805 1485.58 L950.898 1485.58 L950.898 1481.64 Z\" fill=\"#000000\" fill-rule=\"evenodd\" fill-opacity=\"1\" /><path clip-path=\"url(#clip660)\" d=\"M990.25 1454.1 Q986.639 1454.1 984.81 1457.66 Q983.004 1461.2 983.004 1468.33 Q983.004 1475.44 984.81 1479.01 Q986.639 1482.55 990.25 1482.55 Q993.884 1482.55 995.689 1479.01 Q997.518 1475.44 997.518 1468.33 Q997.518 1461.2 995.689 1457.66 Q993.884 1454.1 990.25 1454.1 M990.25 1450.39 Q996.06 1450.39 999.115 1455 Q1002.19 1459.58 1002.19 1468.33 Q1002.19 1477.06 999.115 1481.67 Q996.06 1486.25 990.25 1486.25 Q984.44 1486.25 981.361 1481.67 Q978.305 1477.06 978.305 1468.33 Q978.305 1459.58 981.361 1455 Q984.44 1450.39 990.25 1450.39 Z\" fill=\"#000000\" fill-rule=\"evenodd\" fill-opacity=\"1\" /><path clip-path=\"url(#clip660)\" d=\"M1338.5 1481.64 L1346.14 1481.64 L1346.14 1455.28 L1337.83 1456.95 L1337.83 1452.69 L1346.09 1451.02 L1350.77 1451.02 L1350.77 1481.64 L1358.41 1481.64 L1358.41 1485.58 L1338.5 1485.58 L1338.5 1481.64 Z\" fill=\"#000000\" fill-rule=\"evenodd\" fill-opacity=\"1\" /><path clip-path=\"url(#clip660)\" d=\"M1367.9 1451.02 L1386.26 1451.02 L1386.26 1454.96 L1372.18 1454.96 L1372.18 1463.43 Q1373.2 1463.08 1374.22 1462.92 Q1375.24 1462.73 1376.26 1462.73 Q1382.04 1462.73 1385.42 1465.9 Q1388.8 1469.08 1388.8 1474.49 Q1388.8 1480.07 1385.33 1483.17 Q1381.86 1486.25 1375.54 1486.25 Q1373.36 1486.25 1371.09 1485.88 Q1368.85 1485.51 1366.44 1484.77 L1366.44 1480.07 Q1368.52 1481.2 1370.75 1481.76 Q1372.97 1482.32 1375.44 1482.32 Q1379.45 1482.32 1381.79 1480.21 Q1384.13 1478.1 1384.13 1474.49 Q1384.13 1470.88 1381.79 1468.77 Q1379.45 1466.67 1375.44 1466.67 Q1373.57 1466.67 1371.7 1467.08 Q1369.84 1467.5 1367.9 1468.38 L1367.9 1451.02 Z\" fill=\"#000000\" fill-rule=\"evenodd\" fill-opacity=\"1\" /><path clip-path=\"url(#clip660)\" d=\"M1729.19 1481.64 L1745.51 1481.64 L1745.51 1485.58 L1723.57 1485.58 L1723.57 1481.64 Q1726.23 1478.89 1730.81 1474.26 Q1735.42 1469.61 1736.6 1468.27 Q1738.85 1465.74 1739.73 1464.01 Q1740.63 1462.25 1740.63 1460.56 Q1740.63 1457.8 1738.68 1456.07 Q1736.76 1454.33 1733.66 1454.33 Q1731.46 1454.33 1729.01 1455.09 Q1726.58 1455.86 1723.8 1457.41 L1723.8 1452.69 Q1726.62 1451.55 1729.08 1450.97 Q1731.53 1450.39 1733.57 1450.39 Q1738.94 1450.39 1742.13 1453.08 Q1745.33 1455.77 1745.33 1460.26 Q1745.33 1462.39 1744.52 1464.31 Q1743.73 1466.2 1741.62 1468.8 Q1741.05 1469.47 1737.94 1472.69 Q1734.84 1475.88 1729.19 1481.64 Z\" fill=\"#000000\" fill-rule=\"evenodd\" fill-opacity=\"1\" /><path clip-path=\"url(#clip660)\" d=\"M1765.33 1454.1 Q1761.72 1454.1 1759.89 1457.66 Q1758.08 1461.2 1758.08 1468.33 Q1758.08 1475.44 1759.89 1479.01 Q1761.72 1482.55 1765.33 1482.55 Q1768.96 1482.55 1770.77 1479.01 Q1772.6 1475.44 1772.6 1468.33 Q1772.6 1461.2 1770.77 1457.66 Q1768.96 1454.1 1765.33 1454.1 M1765.33 1450.39 Q1771.14 1450.39 1774.19 1455 Q1777.27 1459.58 1777.27 1468.33 Q1777.27 1477.06 1774.19 1481.67 Q1771.14 1486.25 1765.33 1486.25 Q1759.52 1486.25 1756.44 1481.67 Q1753.38 1477.06 1753.38 1468.33 Q1753.38 1459.58 1756.44 1455 Q1759.52 1450.39 1765.33 1450.39 Z\" fill=\"#000000\" fill-rule=\"evenodd\" fill-opacity=\"1\" /><path clip-path=\"url(#clip660)\" d=\"M2116.8 1481.64 L2133.12 1481.64 L2133.12 1485.58 L2111.17 1485.58 L2111.17 1481.64 Q2113.83 1478.89 2118.42 1474.26 Q2123.02 1469.61 2124.2 1468.27 Q2126.45 1465.74 2127.33 1464.01 Q2128.23 1462.25 2128.23 1460.56 Q2128.23 1457.8 2126.29 1456.07 Q2124.37 1454.33 2121.26 1454.33 Q2119.06 1454.33 2116.61 1455.09 Q2114.18 1455.86 2111.4 1457.41 L2111.4 1452.69 Q2114.23 1451.55 2116.68 1450.97 Q2119.13 1450.39 2121.17 1450.39 Q2126.54 1450.39 2129.74 1453.08 Q2132.93 1455.77 2132.93 1460.26 Q2132.93 1462.39 2132.12 1464.31 Q2131.33 1466.2 2129.23 1468.8 Q2128.65 1469.47 2125.55 1472.69 Q2122.44 1475.88 2116.8 1481.64 Z\" fill=\"#000000\" fill-rule=\"evenodd\" fill-opacity=\"1\" /><path clip-path=\"url(#clip660)\" d=\"M2142.98 1451.02 L2161.33 1451.02 L2161.33 1454.96 L2147.26 1454.96 L2147.26 1463.43 Q2148.28 1463.08 2149.3 1462.92 Q2150.31 1462.73 2151.33 1462.73 Q2157.12 1462.73 2160.5 1465.9 Q2163.88 1469.08 2163.88 1474.49 Q2163.88 1480.07 2160.41 1483.17 Q2156.94 1486.25 2150.62 1486.25 Q2148.44 1486.25 2146.17 1485.88 Q2143.93 1485.51 2141.52 1484.77 L2141.52 1480.07 Q2143.6 1481.2 2145.82 1481.76 Q2148.05 1482.32 2150.52 1482.32 Q2154.53 1482.32 2156.87 1480.21 Q2159.2 1478.1 2159.2 1474.49 Q2159.2 1470.88 2156.87 1468.77 Q2154.53 1466.67 2150.52 1466.67 Q2148.65 1466.67 2146.77 1467.08 Q2144.92 1467.5 2142.98 1468.38 L2142.98 1451.02 Z\" fill=\"#000000\" fill-rule=\"evenodd\" fill-opacity=\"1\" /><path clip-path=\"url(#clip660)\" d=\"M1180.03 1522.27 L1180.03 1532.4 L1192.1 1532.4 L1192.1 1536.95 L1180.03 1536.95 L1180.03 1556.3 Q1180.03 1560.66 1181.21 1561.9 Q1182.42 1563.14 1186.08 1563.14 L1192.1 1563.14 L1192.1 1568.04 L1186.08 1568.04 Q1179.3 1568.04 1176.72 1565.53 Q1174.14 1562.98 1174.14 1556.3 L1174.14 1536.95 L1169.85 1536.95 L1169.85 1532.4 L1174.14 1532.4 L1174.14 1522.27 L1180.03 1522.27 Z\" fill=\"#000000\" fill-rule=\"evenodd\" fill-opacity=\"1\" /><path clip-path=\"url(#clip660)\" d=\"M1199.8 1532.4 L1205.65 1532.4 L1205.65 1568.04 L1199.8 1568.04 L1199.8 1532.4 M1199.8 1518.52 L1205.65 1518.52 L1205.65 1525.93 L1199.8 1525.93 L1199.8 1518.52 Z\" fill=\"#000000\" fill-rule=\"evenodd\" fill-opacity=\"1\" /><path clip-path=\"url(#clip660)\" d=\"M1245.66 1539.24 Q1247.86 1535.29 1250.91 1533.41 Q1253.97 1531.54 1258.11 1531.54 Q1263.68 1531.54 1266.7 1535.45 Q1269.73 1539.33 1269.73 1546.53 L1269.73 1568.04 L1263.84 1568.04 L1263.84 1546.72 Q1263.84 1541.59 1262.02 1539.11 Q1260.21 1536.63 1256.48 1536.63 Q1251.93 1536.63 1249.29 1539.65 Q1246.65 1542.68 1246.65 1547.9 L1246.65 1568.04 L1240.76 1568.04 L1240.76 1546.72 Q1240.76 1541.56 1238.95 1539.11 Q1237.13 1536.63 1233.35 1536.63 Q1228.86 1536.63 1226.22 1539.68 Q1223.57 1542.71 1223.57 1547.9 L1223.57 1568.04 L1217.69 1568.04 L1217.69 1532.4 L1223.57 1532.4 L1223.57 1537.93 Q1225.58 1534.66 1228.38 1533.1 Q1231.18 1531.54 1235.03 1531.54 Q1238.92 1531.54 1241.62 1533.51 Q1244.36 1535.48 1245.66 1539.24 Z\" fill=\"#000000\" fill-rule=\"evenodd\" fill-opacity=\"1\" /><path clip-path=\"url(#clip660)\" d=\"M1311.9 1548.76 L1311.9 1551.62 L1284.97 1551.62 Q1285.35 1557.67 1288.6 1560.85 Q1291.88 1564 1297.7 1564 Q1301.08 1564 1304.23 1563.17 Q1307.41 1562.35 1310.53 1560.69 L1310.53 1566.23 Q1307.38 1567.57 1304.07 1568.27 Q1300.76 1568.97 1297.35 1568.97 Q1288.82 1568.97 1283.83 1564 Q1278.86 1559.04 1278.86 1550.57 Q1278.86 1541.82 1283.57 1536.69 Q1288.31 1531.54 1296.33 1531.54 Q1303.53 1531.54 1307.7 1536.18 Q1311.9 1540.8 1311.9 1548.76 M1306.04 1547.04 Q1305.98 1542.23 1303.34 1539.37 Q1300.73 1536.5 1296.4 1536.5 Q1291.5 1536.5 1288.54 1539.27 Q1285.61 1542.04 1285.16 1547.07 L1306.04 1547.04 Z\" fill=\"#000000\" fill-rule=\"evenodd\" fill-opacity=\"1\" /><path clip-path=\"url(#clip660)\" d=\"M1320.97 1518.52 L1334.46 1518.52 L1334.46 1523.07 L1326.83 1523.07 L1326.83 1572.09 L1334.46 1572.09 L1334.46 1576.64 L1320.97 1576.64 L1320.97 1518.52 Z\" fill=\"#000000\" fill-rule=\"evenodd\" fill-opacity=\"1\" /><path clip-path=\"url(#clip660)\" d=\"M1376.57 1546.53 L1376.57 1568.04 L1370.72 1568.04 L1370.72 1546.72 Q1370.72 1541.66 1368.74 1539.14 Q1366.77 1536.63 1362.82 1536.63 Q1358.08 1536.63 1355.34 1539.65 Q1352.61 1542.68 1352.61 1547.9 L1352.61 1568.04 L1346.72 1568.04 L1346.72 1518.52 L1352.61 1518.52 L1352.61 1537.93 Q1354.71 1534.72 1357.54 1533.13 Q1360.41 1531.54 1364.13 1531.54 Q1370.27 1531.54 1373.42 1535.36 Q1376.57 1539.14 1376.57 1546.53 Z\" fill=\"#000000\" fill-rule=\"evenodd\" fill-opacity=\"1\" /><path clip-path=\"url(#clip660)\" d=\"M1401.94 1518.52 L1401.94 1576.64 L1388.45 1576.64 L1388.45 1572.09 L1396.05 1572.09 L1396.05 1523.07 L1388.45 1523.07 L1388.45 1518.52 L1401.94 1518.52 Z\" fill=\"#000000\" fill-rule=\"evenodd\" fill-opacity=\"1\" /><polyline clip-path=\"url(#clip664)\" style=\"stroke:#000000; stroke-linecap:round; stroke-linejoin:round; stroke-width:8; stroke-opacity:0.1; fill:none\" points=\"219.033,1423.18 2352.76,1423.18 \"/>\n",
       "<polyline clip-path=\"url(#clip664)\" style=\"stroke:#000000; stroke-linecap:round; stroke-linejoin:round; stroke-width:8; stroke-opacity:0.1; fill:none\" points=\"219.033,1361.33 2352.76,1361.33 \"/>\n",
       "<polyline clip-path=\"url(#clip664)\" style=\"stroke:#000000; stroke-linecap:round; stroke-linejoin:round; stroke-width:8; stroke-opacity:0.1; fill:none\" points=\"219.033,1299.47 2352.76,1299.47 \"/>\n",
       "<polyline clip-path=\"url(#clip664)\" style=\"stroke:#000000; stroke-linecap:round; stroke-linejoin:round; stroke-width:8; stroke-opacity:0.1; fill:none\" points=\"219.033,1237.62 2352.76,1237.62 \"/>\n",
       "<polyline clip-path=\"url(#clip664)\" style=\"stroke:#000000; stroke-linecap:round; stroke-linejoin:round; stroke-width:8; stroke-opacity:0.1; fill:none\" points=\"219.033,1175.76 2352.76,1175.76 \"/>\n",
       "<polyline clip-path=\"url(#clip664)\" style=\"stroke:#000000; stroke-linecap:round; stroke-linejoin:round; stroke-width:8; stroke-opacity:0.1; fill:none\" points=\"219.033,1113.91 2352.76,1113.91 \"/>\n",
       "<polyline clip-path=\"url(#clip660)\" style=\"stroke:#000000; stroke-linecap:round; stroke-linejoin:round; stroke-width:4; stroke-opacity:1; fill:none\" points=\"219.033,1423.18 219.033,1113.91 \"/>\n",
       "<polyline clip-path=\"url(#clip660)\" style=\"stroke:#000000; stroke-linecap:round; stroke-linejoin:round; stroke-width:4; stroke-opacity:1; fill:none\" points=\"219.033,1423.18 237.931,1423.18 \"/>\n",
       "<polyline clip-path=\"url(#clip660)\" style=\"stroke:#000000; stroke-linecap:round; stroke-linejoin:round; stroke-width:4; stroke-opacity:1; fill:none\" points=\"219.033,1361.33 237.931,1361.33 \"/>\n",
       "<polyline clip-path=\"url(#clip660)\" style=\"stroke:#000000; stroke-linecap:round; stroke-linejoin:round; stroke-width:4; stroke-opacity:1; fill:none\" points=\"219.033,1299.47 237.931,1299.47 \"/>\n",
       "<polyline clip-path=\"url(#clip660)\" style=\"stroke:#000000; stroke-linecap:round; stroke-linejoin:round; stroke-width:4; stroke-opacity:1; fill:none\" points=\"219.033,1237.62 237.931,1237.62 \"/>\n",
       "<polyline clip-path=\"url(#clip660)\" style=\"stroke:#000000; stroke-linecap:round; stroke-linejoin:round; stroke-width:4; stroke-opacity:1; fill:none\" points=\"219.033,1175.76 237.931,1175.76 \"/>\n",
       "<polyline clip-path=\"url(#clip660)\" style=\"stroke:#000000; stroke-linecap:round; stroke-linejoin:round; stroke-width:4; stroke-opacity:1; fill:none\" points=\"219.033,1113.91 237.931,1113.91 \"/>\n",
       "<path clip-path=\"url(#clip660)\" d=\"M117.663 1436.52 L125.302 1436.52 L125.302 1410.16 L116.992 1411.83 L116.992 1407.57 L125.255 1405.9 L129.931 1405.9 L129.931 1436.52 L137.57 1436.52 L137.57 1440.46 L117.663 1440.46 L117.663 1436.52 Z\" fill=\"#000000\" fill-rule=\"evenodd\" fill-opacity=\"1\" /><path clip-path=\"url(#clip660)\" d=\"M147.015 1434.58 L151.899 1434.58 L151.899 1440.46 L147.015 1440.46 L147.015 1434.58 Z\" fill=\"#000000\" fill-rule=\"evenodd\" fill-opacity=\"1\" /><path clip-path=\"url(#clip660)\" d=\"M162.13 1405.9 L180.487 1405.9 L180.487 1409.84 L166.413 1409.84 L166.413 1418.31 Q167.431 1417.96 168.45 1417.8 Q169.468 1417.61 170.487 1417.61 Q176.274 1417.61 179.653 1420.78 Q183.033 1423.96 183.033 1429.37 Q183.033 1434.95 179.561 1438.05 Q176.089 1441.13 169.769 1441.13 Q167.593 1441.13 165.325 1440.76 Q163.079 1440.39 160.672 1439.65 L160.672 1434.95 Q162.755 1436.08 164.977 1436.64 Q167.2 1437.2 169.677 1437.2 Q173.681 1437.2 176.019 1435.09 Q178.357 1432.98 178.357 1429.37 Q178.357 1425.76 176.019 1423.65 Q173.681 1421.55 169.677 1421.55 Q167.802 1421.55 165.927 1421.96 Q164.075 1422.38 162.13 1423.26 L162.13 1405.9 Z\" fill=\"#000000\" fill-rule=\"evenodd\" fill-opacity=\"1\" /><path clip-path=\"url(#clip660)\" d=\"M116.506 1374.67 L124.144 1374.67 L124.144 1348.31 L115.834 1349.97 L115.834 1345.71 L124.098 1344.05 L128.774 1344.05 L128.774 1374.67 L136.413 1374.67 L136.413 1378.61 L116.506 1378.61 L116.506 1374.67 Z\" fill=\"#000000\" fill-rule=\"evenodd\" fill-opacity=\"1\" /><path clip-path=\"url(#clip660)\" d=\"M145.857 1372.73 L150.741 1372.73 L150.741 1378.61 L145.857 1378.61 L145.857 1372.73 Z\" fill=\"#000000\" fill-rule=\"evenodd\" fill-opacity=\"1\" /><path clip-path=\"url(#clip660)\" d=\"M171.505 1359.46 Q168.357 1359.46 166.505 1361.62 Q164.677 1363.77 164.677 1367.52 Q164.677 1371.24 166.505 1373.42 Q168.357 1375.57 171.505 1375.57 Q174.653 1375.57 176.482 1373.42 Q178.334 1371.24 178.334 1367.52 Q178.334 1363.77 176.482 1361.62 Q174.653 1359.46 171.505 1359.46 M180.788 1344.81 L180.788 1349.07 Q179.028 1348.24 177.223 1347.8 Q175.44 1347.36 173.681 1347.36 Q169.052 1347.36 166.598 1350.48 Q164.167 1353.61 163.82 1359.93 Q165.186 1357.91 167.246 1356.85 Q169.306 1355.76 171.783 1355.76 Q176.991 1355.76 180.001 1358.93 Q183.033 1362.08 183.033 1367.52 Q183.033 1372.84 179.885 1376.06 Q176.737 1379.28 171.505 1379.28 Q165.51 1379.28 162.339 1374.69 Q159.167 1370.09 159.167 1361.36 Q159.167 1353.17 163.056 1348.31 Q166.945 1343.42 173.496 1343.42 Q175.255 1343.42 177.038 1343.77 Q178.843 1344.12 180.788 1344.81 Z\" fill=\"#000000\" fill-rule=\"evenodd\" fill-opacity=\"1\" /><path clip-path=\"url(#clip660)\" d=\"M117.57 1312.82 L125.209 1312.82 L125.209 1286.45 L116.899 1288.12 L116.899 1283.86 L125.163 1282.19 L129.839 1282.19 L129.839 1312.82 L137.478 1312.82 L137.478 1316.75 L117.57 1316.75 L117.57 1312.82 Z\" fill=\"#000000\" fill-rule=\"evenodd\" fill-opacity=\"1\" /><path clip-path=\"url(#clip660)\" d=\"M146.922 1310.87 L151.806 1310.87 L151.806 1316.75 L146.922 1316.75 L146.922 1310.87 Z\" fill=\"#000000\" fill-rule=\"evenodd\" fill-opacity=\"1\" /><path clip-path=\"url(#clip660)\" d=\"M160.811 1282.19 L183.033 1282.19 L183.033 1284.18 L170.487 1316.75 L165.602 1316.75 L177.408 1286.13 L160.811 1286.13 L160.811 1282.19 Z\" fill=\"#000000\" fill-rule=\"evenodd\" fill-opacity=\"1\" /><path clip-path=\"url(#clip660)\" d=\"M116.76 1250.96 L124.399 1250.96 L124.399 1224.6 L116.089 1226.26 L116.089 1222.01 L124.353 1220.34 L129.029 1220.34 L129.029 1250.96 L136.667 1250.96 L136.667 1254.9 L116.76 1254.9 L116.76 1250.96 Z\" fill=\"#000000\" fill-rule=\"evenodd\" fill-opacity=\"1\" /><path clip-path=\"url(#clip660)\" d=\"M146.112 1249.02 L150.996 1249.02 L150.996 1254.9 L146.112 1254.9 L146.112 1249.02 Z\" fill=\"#000000\" fill-rule=\"evenodd\" fill-opacity=\"1\" /><path clip-path=\"url(#clip660)\" d=\"M171.181 1238.49 Q167.848 1238.49 165.927 1240.27 Q164.028 1242.05 164.028 1245.18 Q164.028 1248.3 165.927 1250.08 Q167.848 1251.87 171.181 1251.87 Q174.514 1251.87 176.436 1250.08 Q178.357 1248.28 178.357 1245.18 Q178.357 1242.05 176.436 1240.27 Q174.538 1238.49 171.181 1238.49 M166.505 1236.5 Q163.496 1235.75 161.806 1233.69 Q160.14 1231.63 160.14 1228.67 Q160.14 1224.53 163.079 1222.12 Q166.042 1219.71 171.181 1219.71 Q176.343 1219.71 179.283 1222.12 Q182.223 1224.53 182.223 1228.67 Q182.223 1231.63 180.533 1233.69 Q178.866 1235.75 175.88 1236.5 Q179.26 1237.28 181.135 1239.57 Q183.033 1241.87 183.033 1245.18 Q183.033 1250.2 179.954 1252.88 Q176.899 1255.57 171.181 1255.57 Q165.464 1255.57 162.385 1252.88 Q159.329 1250.2 159.329 1245.18 Q159.329 1241.87 161.227 1239.57 Q163.126 1237.28 166.505 1236.5 M164.792 1229.11 Q164.792 1231.8 166.459 1233.3 Q168.149 1234.81 171.181 1234.81 Q174.19 1234.81 175.88 1233.3 Q177.593 1231.8 177.593 1229.11 Q177.593 1226.43 175.88 1224.92 Q174.19 1223.42 171.181 1223.42 Q168.149 1223.42 166.459 1224.92 Q164.792 1226.43 164.792 1229.11 Z\" fill=\"#000000\" fill-rule=\"evenodd\" fill-opacity=\"1\" /><path clip-path=\"url(#clip660)\" d=\"M116.853 1189.11 L124.492 1189.11 L124.492 1162.74 L116.181 1164.41 L116.181 1160.15 L124.445 1158.48 L129.121 1158.48 L129.121 1189.11 L136.76 1189.11 L136.76 1193.04 L116.853 1193.04 L116.853 1189.11 Z\" fill=\"#000000\" fill-rule=\"evenodd\" fill-opacity=\"1\" /><path clip-path=\"url(#clip660)\" d=\"M146.204 1187.16 L151.089 1187.16 L151.089 1193.04 L146.204 1193.04 L146.204 1187.16 Z\" fill=\"#000000\" fill-rule=\"evenodd\" fill-opacity=\"1\" /><path clip-path=\"url(#clip660)\" d=\"M161.413 1192.33 L161.413 1188.07 Q163.172 1188.9 164.977 1189.34 Q166.783 1189.78 168.519 1189.78 Q173.149 1189.78 175.579 1186.68 Q178.033 1183.55 178.38 1177.21 Q177.038 1179.2 174.977 1180.27 Q172.917 1181.33 170.417 1181.33 Q165.232 1181.33 162.2 1178.21 Q159.19 1175.06 159.19 1169.62 Q159.19 1164.29 162.339 1161.08 Q165.487 1157.86 170.718 1157.86 Q176.714 1157.86 179.862 1162.47 Q183.033 1167.05 183.033 1175.8 Q183.033 1183.97 179.144 1188.85 Q175.278 1193.72 168.727 1193.72 Q166.968 1193.72 165.163 1193.37 Q163.357 1193.02 161.413 1192.33 M170.718 1177.67 Q173.866 1177.67 175.695 1175.52 Q177.547 1173.37 177.547 1169.62 Q177.547 1165.89 175.695 1163.74 Q173.866 1161.56 170.718 1161.56 Q167.57 1161.56 165.718 1163.74 Q163.89 1165.89 163.89 1169.62 Q163.89 1173.37 165.718 1175.52 Q167.57 1177.67 170.718 1177.67 Z\" fill=\"#000000\" fill-rule=\"evenodd\" fill-opacity=\"1\" /><path clip-path=\"url(#clip660)\" d=\"M119.885 1127.26 L136.204 1127.26 L136.204 1131.19 L114.26 1131.19 L114.26 1127.26 Q116.922 1124.5 121.505 1119.87 Q126.112 1115.22 127.292 1113.88 Q129.538 1111.35 130.417 1109.62 Q131.32 1107.86 131.32 1106.17 Q131.32 1103.41 129.376 1101.68 Q127.455 1099.94 124.353 1099.94 Q122.154 1099.94 119.7 1100.7 Q117.269 1101.47 114.492 1103.02 L114.492 1098.3 Q117.316 1097.16 119.769 1096.58 Q122.223 1096.01 124.26 1096.01 Q129.63 1096.01 132.825 1098.69 Q136.019 1101.38 136.019 1105.87 Q136.019 1108 135.209 1109.92 Q134.422 1111.82 132.316 1114.41 Q131.737 1115.08 128.635 1118.3 Q125.533 1121.49 119.885 1127.26 Z\" fill=\"#000000\" fill-rule=\"evenodd\" fill-opacity=\"1\" /><path clip-path=\"url(#clip660)\" d=\"M146.019 1125.31 L150.903 1125.31 L150.903 1131.19 L146.019 1131.19 L146.019 1125.31 Z\" fill=\"#000000\" fill-rule=\"evenodd\" fill-opacity=\"1\" /><path clip-path=\"url(#clip660)\" d=\"M171.089 1099.71 Q167.477 1099.71 165.649 1103.27 Q163.843 1106.82 163.843 1113.95 Q163.843 1121.05 165.649 1124.62 Q167.477 1128.16 171.089 1128.16 Q174.723 1128.16 176.528 1124.62 Q178.357 1121.05 178.357 1113.95 Q178.357 1106.82 176.528 1103.27 Q174.723 1099.71 171.089 1099.71 M171.089 1096.01 Q176.899 1096.01 179.954 1100.61 Q183.033 1105.2 183.033 1113.95 Q183.033 1122.67 179.954 1127.28 Q176.899 1131.86 171.089 1131.86 Q165.278 1131.86 162.2 1127.28 Q159.144 1122.67 159.144 1113.95 Q159.144 1105.2 162.2 1100.61 Q165.278 1096.01 171.089 1096.01 Z\" fill=\"#000000\" fill-rule=\"evenodd\" fill-opacity=\"1\" /><path clip-path=\"url(#clip660)\" d=\"M49.9359 1304.56 L28.3562 1304.56 L28.3562 1298.7 L49.7131 1298.7 Q54.7739 1298.7 57.3202 1296.73 Q59.8346 1294.76 59.8346 1290.81 Q59.8346 1286.07 56.8109 1283.33 Q53.7872 1280.56 48.5673 1280.56 L28.3562 1280.56 L28.3562 1274.7 L64.0042 1274.7 L64.0042 1280.56 L58.5296 1280.56 Q61.7762 1282.69 63.3676 1285.53 Q64.9272 1288.33 64.9272 1292.05 Q64.9272 1298.19 61.1078 1301.38 Q57.2883 1304.56 49.9359 1304.56 M27.4968 1289.82 L27.4968 1289.82 Z\" fill=\"#000000\" fill-rule=\"evenodd\" fill-opacity=\"1\" /><path clip-path=\"url(#clip660)\" d=\"M38.3822 1242.33 Q39.3689 1237.72 42.4881 1235.14 Q45.6073 1232.53 50.1906 1232.53 Q57.2247 1232.53 61.0759 1237.37 Q64.9272 1242.21 64.9272 1251.12 Q64.9272 1254.11 64.3224 1257.29 Q63.7495 1260.44 62.5719 1263.82 L56.3653 1263.82 Q57.9249 1261.15 58.7206 1257.96 Q59.5163 1254.78 59.5163 1251.31 Q59.5163 1245.26 57.1292 1242.11 Q54.7421 1238.93 50.1906 1238.93 Q45.9892 1238.93 43.6339 1241.89 Q41.2468 1244.82 41.2468 1250.07 L41.2468 1255.61 L35.9632 1255.61 L35.9632 1249.81 Q35.9632 1245.07 34.0853 1242.56 Q32.1756 1240.04 28.6108 1240.04 Q24.9505 1240.04 23.009 1242.65 Q21.0356 1245.23 21.0356 1250.07 Q21.0356 1252.71 21.6086 1255.73 Q22.1815 1258.76 23.3909 1262.39 L17.6618 1262.39 Q16.6433 1258.73 16.134 1255.54 Q15.6248 1252.33 15.6248 1249.5 Q15.6248 1242.18 18.9668 1237.91 Q22.277 1233.65 27.9424 1233.65 Q31.8892 1233.65 34.6264 1235.91 Q37.3318 1238.16 38.3822 1242.33 Z\" fill=\"#000000\" fill-rule=\"evenodd\" fill-opacity=\"1\" /><line clip-path=\"url(#clip664)\" x1=\"279.421\" y1=\"1297.55\" x2=\"279.421\" y2=\"1281.55\" style=\"stroke:#6b9e32; stroke-width:3.2; stroke-opacity:1\"/>\n",
       "<line clip-path=\"url(#clip664)\" x1=\"279.421\" y1=\"1297.55\" x2=\"263.421\" y2=\"1297.55\" style=\"stroke:#6b9e32; stroke-width:3.2; stroke-opacity:1\"/>\n",
       "<line clip-path=\"url(#clip664)\" x1=\"279.421\" y1=\"1297.55\" x2=\"279.421\" y2=\"1313.55\" style=\"stroke:#6b9e32; stroke-width:3.2; stroke-opacity:1\"/>\n",
       "<line clip-path=\"url(#clip664)\" x1=\"279.421\" y1=\"1297.55\" x2=\"295.421\" y2=\"1297.55\" style=\"stroke:#6b9e32; stroke-width:3.2; stroke-opacity:1\"/>\n",
       "<line clip-path=\"url(#clip664)\" x1=\"356.842\" y1=\"1144.54\" x2=\"356.842\" y2=\"1128.54\" style=\"stroke:#6b9e32; stroke-width:3.2; stroke-opacity:1\"/>\n",
       "<line clip-path=\"url(#clip664)\" x1=\"356.842\" y1=\"1144.54\" x2=\"340.842\" y2=\"1144.54\" style=\"stroke:#6b9e32; stroke-width:3.2; stroke-opacity:1\"/>\n",
       "<line clip-path=\"url(#clip664)\" x1=\"356.842\" y1=\"1144.54\" x2=\"356.842\" y2=\"1160.54\" style=\"stroke:#6b9e32; stroke-width:3.2; stroke-opacity:1\"/>\n",
       "<line clip-path=\"url(#clip664)\" x1=\"356.842\" y1=\"1144.54\" x2=\"372.842\" y2=\"1144.54\" style=\"stroke:#6b9e32; stroke-width:3.2; stroke-opacity:1\"/>\n",
       "<line clip-path=\"url(#clip664)\" x1=\"434.263\" y1=\"1139.81\" x2=\"434.263\" y2=\"1123.81\" style=\"stroke:#6b9e32; stroke-width:3.2; stroke-opacity:1\"/>\n",
       "<line clip-path=\"url(#clip664)\" x1=\"434.263\" y1=\"1139.81\" x2=\"418.263\" y2=\"1139.81\" style=\"stroke:#6b9e32; stroke-width:3.2; stroke-opacity:1\"/>\n",
       "<line clip-path=\"url(#clip664)\" x1=\"434.263\" y1=\"1139.81\" x2=\"434.263\" y2=\"1155.81\" style=\"stroke:#6b9e32; stroke-width:3.2; stroke-opacity:1\"/>\n",
       "<line clip-path=\"url(#clip664)\" x1=\"434.263\" y1=\"1139.81\" x2=\"450.263\" y2=\"1139.81\" style=\"stroke:#6b9e32; stroke-width:3.2; stroke-opacity:1\"/>\n",
       "<line clip-path=\"url(#clip664)\" x1=\"511.684\" y1=\"1213.83\" x2=\"511.684\" y2=\"1197.83\" style=\"stroke:#6b9e32; stroke-width:3.2; stroke-opacity:1\"/>\n",
       "<line clip-path=\"url(#clip664)\" x1=\"511.684\" y1=\"1213.83\" x2=\"495.684\" y2=\"1213.83\" style=\"stroke:#6b9e32; stroke-width:3.2; stroke-opacity:1\"/>\n",
       "<line clip-path=\"url(#clip664)\" x1=\"511.684\" y1=\"1213.83\" x2=\"511.684\" y2=\"1229.83\" style=\"stroke:#6b9e32; stroke-width:3.2; stroke-opacity:1\"/>\n",
       "<line clip-path=\"url(#clip664)\" x1=\"511.684\" y1=\"1213.83\" x2=\"527.684\" y2=\"1213.83\" style=\"stroke:#6b9e32; stroke-width:3.2; stroke-opacity:1\"/>\n",
       "<line clip-path=\"url(#clip664)\" x1=\"589.105\" y1=\"1281.29\" x2=\"589.105\" y2=\"1265.29\" style=\"stroke:#6b9e32; stroke-width:3.2; stroke-opacity:1\"/>\n",
       "<line clip-path=\"url(#clip664)\" x1=\"589.105\" y1=\"1281.29\" x2=\"573.105\" y2=\"1281.29\" style=\"stroke:#6b9e32; stroke-width:3.2; stroke-opacity:1\"/>\n",
       "<line clip-path=\"url(#clip664)\" x1=\"589.105\" y1=\"1281.29\" x2=\"589.105\" y2=\"1297.29\" style=\"stroke:#6b9e32; stroke-width:3.2; stroke-opacity:1\"/>\n",
       "<line clip-path=\"url(#clip664)\" x1=\"589.105\" y1=\"1281.29\" x2=\"605.105\" y2=\"1281.29\" style=\"stroke:#6b9e32; stroke-width:3.2; stroke-opacity:1\"/>\n",
       "<line clip-path=\"url(#clip664)\" x1=\"666.526\" y1=\"1321.32\" x2=\"666.526\" y2=\"1305.32\" style=\"stroke:#6b9e32; stroke-width:3.2; stroke-opacity:1\"/>\n",
       "<line clip-path=\"url(#clip664)\" x1=\"666.526\" y1=\"1321.32\" x2=\"650.526\" y2=\"1321.32\" style=\"stroke:#6b9e32; stroke-width:3.2; stroke-opacity:1\"/>\n",
       "<line clip-path=\"url(#clip664)\" x1=\"666.526\" y1=\"1321.32\" x2=\"666.526\" y2=\"1337.32\" style=\"stroke:#6b9e32; stroke-width:3.2; stroke-opacity:1\"/>\n",
       "<line clip-path=\"url(#clip664)\" x1=\"666.526\" y1=\"1321.32\" x2=\"682.526\" y2=\"1321.32\" style=\"stroke:#6b9e32; stroke-width:3.2; stroke-opacity:1\"/>\n",
       "<line clip-path=\"url(#clip664)\" x1=\"743.947\" y1=\"1313.8\" x2=\"743.947\" y2=\"1297.8\" style=\"stroke:#6b9e32; stroke-width:3.2; stroke-opacity:1\"/>\n",
       "<line clip-path=\"url(#clip664)\" x1=\"743.947\" y1=\"1313.8\" x2=\"727.947\" y2=\"1313.8\" style=\"stroke:#6b9e32; stroke-width:3.2; stroke-opacity:1\"/>\n",
       "<line clip-path=\"url(#clip664)\" x1=\"743.947\" y1=\"1313.8\" x2=\"743.947\" y2=\"1329.8\" style=\"stroke:#6b9e32; stroke-width:3.2; stroke-opacity:1\"/>\n",
       "<line clip-path=\"url(#clip664)\" x1=\"743.947\" y1=\"1313.8\" x2=\"759.947\" y2=\"1313.8\" style=\"stroke:#6b9e32; stroke-width:3.2; stroke-opacity:1\"/>\n",
       "<line clip-path=\"url(#clip664)\" x1=\"821.368\" y1=\"1289.73\" x2=\"821.368\" y2=\"1273.73\" style=\"stroke:#6b9e32; stroke-width:3.2; stroke-opacity:1\"/>\n",
       "<line clip-path=\"url(#clip664)\" x1=\"821.368\" y1=\"1289.73\" x2=\"805.368\" y2=\"1289.73\" style=\"stroke:#6b9e32; stroke-width:3.2; stroke-opacity:1\"/>\n",
       "<line clip-path=\"url(#clip664)\" x1=\"821.368\" y1=\"1289.73\" x2=\"821.368\" y2=\"1305.73\" style=\"stroke:#6b9e32; stroke-width:3.2; stroke-opacity:1\"/>\n",
       "<line clip-path=\"url(#clip664)\" x1=\"821.368\" y1=\"1289.73\" x2=\"837.368\" y2=\"1289.73\" style=\"stroke:#6b9e32; stroke-width:3.2; stroke-opacity:1\"/>\n",
       "<line clip-path=\"url(#clip664)\" x1=\"898.789\" y1=\"1289\" x2=\"898.789\" y2=\"1273\" style=\"stroke:#6b9e32; stroke-width:3.2; stroke-opacity:1\"/>\n",
       "<line clip-path=\"url(#clip664)\" x1=\"898.789\" y1=\"1289\" x2=\"882.789\" y2=\"1289\" style=\"stroke:#6b9e32; stroke-width:3.2; stroke-opacity:1\"/>\n",
       "<line clip-path=\"url(#clip664)\" x1=\"898.789\" y1=\"1289\" x2=\"898.789\" y2=\"1305\" style=\"stroke:#6b9e32; stroke-width:3.2; stroke-opacity:1\"/>\n",
       "<line clip-path=\"url(#clip664)\" x1=\"898.789\" y1=\"1289\" x2=\"914.789\" y2=\"1289\" style=\"stroke:#6b9e32; stroke-width:3.2; stroke-opacity:1\"/>\n",
       "<line clip-path=\"url(#clip664)\" x1=\"976.21\" y1=\"1292.67\" x2=\"976.21\" y2=\"1276.67\" style=\"stroke:#6b9e32; stroke-width:3.2; stroke-opacity:1\"/>\n",
       "<line clip-path=\"url(#clip664)\" x1=\"976.21\" y1=\"1292.67\" x2=\"960.21\" y2=\"1292.67\" style=\"stroke:#6b9e32; stroke-width:3.2; stroke-opacity:1\"/>\n",
       "<line clip-path=\"url(#clip664)\" x1=\"976.21\" y1=\"1292.67\" x2=\"976.21\" y2=\"1308.67\" style=\"stroke:#6b9e32; stroke-width:3.2; stroke-opacity:1\"/>\n",
       "<line clip-path=\"url(#clip664)\" x1=\"976.21\" y1=\"1292.67\" x2=\"992.21\" y2=\"1292.67\" style=\"stroke:#6b9e32; stroke-width:3.2; stroke-opacity:1\"/>\n",
       "<line clip-path=\"url(#clip664)\" x1=\"1053.63\" y1=\"1303.76\" x2=\"1053.63\" y2=\"1287.76\" style=\"stroke:#6b9e32; stroke-width:3.2; stroke-opacity:1\"/>\n",
       "<line clip-path=\"url(#clip664)\" x1=\"1053.63\" y1=\"1303.76\" x2=\"1037.63\" y2=\"1303.76\" style=\"stroke:#6b9e32; stroke-width:3.2; stroke-opacity:1\"/>\n",
       "<line clip-path=\"url(#clip664)\" x1=\"1053.63\" y1=\"1303.76\" x2=\"1053.63\" y2=\"1319.76\" style=\"stroke:#6b9e32; stroke-width:3.2; stroke-opacity:1\"/>\n",
       "<line clip-path=\"url(#clip664)\" x1=\"1053.63\" y1=\"1303.76\" x2=\"1069.63\" y2=\"1303.76\" style=\"stroke:#6b9e32; stroke-width:3.2; stroke-opacity:1\"/>\n",
       "<line clip-path=\"url(#clip664)\" x1=\"1131.05\" y1=\"1286.76\" x2=\"1131.05\" y2=\"1270.76\" style=\"stroke:#6b9e32; stroke-width:3.2; stroke-opacity:1\"/>\n",
       "<line clip-path=\"url(#clip664)\" x1=\"1131.05\" y1=\"1286.76\" x2=\"1115.05\" y2=\"1286.76\" style=\"stroke:#6b9e32; stroke-width:3.2; stroke-opacity:1\"/>\n",
       "<line clip-path=\"url(#clip664)\" x1=\"1131.05\" y1=\"1286.76\" x2=\"1131.05\" y2=\"1302.76\" style=\"stroke:#6b9e32; stroke-width:3.2; stroke-opacity:1\"/>\n",
       "<line clip-path=\"url(#clip664)\" x1=\"1131.05\" y1=\"1286.76\" x2=\"1147.05\" y2=\"1286.76\" style=\"stroke:#6b9e32; stroke-width:3.2; stroke-opacity:1\"/>\n",
       "<line clip-path=\"url(#clip664)\" x1=\"1208.47\" y1=\"1287.82\" x2=\"1208.47\" y2=\"1271.82\" style=\"stroke:#6b9e32; stroke-width:3.2; stroke-opacity:1\"/>\n",
       "<line clip-path=\"url(#clip664)\" x1=\"1208.47\" y1=\"1287.82\" x2=\"1192.47\" y2=\"1287.82\" style=\"stroke:#6b9e32; stroke-width:3.2; stroke-opacity:1\"/>\n",
       "<line clip-path=\"url(#clip664)\" x1=\"1208.47\" y1=\"1287.82\" x2=\"1208.47\" y2=\"1303.82\" style=\"stroke:#6b9e32; stroke-width:3.2; stroke-opacity:1\"/>\n",
       "<line clip-path=\"url(#clip664)\" x1=\"1208.47\" y1=\"1287.82\" x2=\"1224.47\" y2=\"1287.82\" style=\"stroke:#6b9e32; stroke-width:3.2; stroke-opacity:1\"/>\n",
       "<line clip-path=\"url(#clip664)\" x1=\"1285.89\" y1=\"1297.08\" x2=\"1285.89\" y2=\"1281.08\" style=\"stroke:#6b9e32; stroke-width:3.2; stroke-opacity:1\"/>\n",
       "<line clip-path=\"url(#clip664)\" x1=\"1285.89\" y1=\"1297.08\" x2=\"1269.89\" y2=\"1297.08\" style=\"stroke:#6b9e32; stroke-width:3.2; stroke-opacity:1\"/>\n",
       "<line clip-path=\"url(#clip664)\" x1=\"1285.89\" y1=\"1297.08\" x2=\"1285.89\" y2=\"1313.08\" style=\"stroke:#6b9e32; stroke-width:3.2; stroke-opacity:1\"/>\n",
       "<line clip-path=\"url(#clip664)\" x1=\"1285.89\" y1=\"1297.08\" x2=\"1301.89\" y2=\"1297.08\" style=\"stroke:#6b9e32; stroke-width:3.2; stroke-opacity:1\"/>\n",
       "<line clip-path=\"url(#clip664)\" x1=\"1363.32\" y1=\"1299.42\" x2=\"1363.32\" y2=\"1283.42\" style=\"stroke:#6b9e32; stroke-width:3.2; stroke-opacity:1\"/>\n",
       "<line clip-path=\"url(#clip664)\" x1=\"1363.32\" y1=\"1299.42\" x2=\"1347.32\" y2=\"1299.42\" style=\"stroke:#6b9e32; stroke-width:3.2; stroke-opacity:1\"/>\n",
       "<line clip-path=\"url(#clip664)\" x1=\"1363.32\" y1=\"1299.42\" x2=\"1363.32\" y2=\"1315.42\" style=\"stroke:#6b9e32; stroke-width:3.2; stroke-opacity:1\"/>\n",
       "<line clip-path=\"url(#clip664)\" x1=\"1363.32\" y1=\"1299.42\" x2=\"1379.32\" y2=\"1299.42\" style=\"stroke:#6b9e32; stroke-width:3.2; stroke-opacity:1\"/>\n",
       "<line clip-path=\"url(#clip664)\" x1=\"1440.74\" y1=\"1293.05\" x2=\"1440.74\" y2=\"1277.05\" style=\"stroke:#6b9e32; stroke-width:3.2; stroke-opacity:1\"/>\n",
       "<line clip-path=\"url(#clip664)\" x1=\"1440.74\" y1=\"1293.05\" x2=\"1424.74\" y2=\"1293.05\" style=\"stroke:#6b9e32; stroke-width:3.2; stroke-opacity:1\"/>\n",
       "<line clip-path=\"url(#clip664)\" x1=\"1440.74\" y1=\"1293.05\" x2=\"1440.74\" y2=\"1309.05\" style=\"stroke:#6b9e32; stroke-width:3.2; stroke-opacity:1\"/>\n",
       "<line clip-path=\"url(#clip664)\" x1=\"1440.74\" y1=\"1293.05\" x2=\"1456.74\" y2=\"1293.05\" style=\"stroke:#6b9e32; stroke-width:3.2; stroke-opacity:1\"/>\n",
       "<line clip-path=\"url(#clip664)\" x1=\"1518.16\" y1=\"1288.85\" x2=\"1518.16\" y2=\"1272.85\" style=\"stroke:#6b9e32; stroke-width:3.2; stroke-opacity:1\"/>\n",
       "<line clip-path=\"url(#clip664)\" x1=\"1518.16\" y1=\"1288.85\" x2=\"1502.16\" y2=\"1288.85\" style=\"stroke:#6b9e32; stroke-width:3.2; stroke-opacity:1\"/>\n",
       "<line clip-path=\"url(#clip664)\" x1=\"1518.16\" y1=\"1288.85\" x2=\"1518.16\" y2=\"1304.85\" style=\"stroke:#6b9e32; stroke-width:3.2; stroke-opacity:1\"/>\n",
       "<line clip-path=\"url(#clip664)\" x1=\"1518.16\" y1=\"1288.85\" x2=\"1534.16\" y2=\"1288.85\" style=\"stroke:#6b9e32; stroke-width:3.2; stroke-opacity:1\"/>\n",
       "<line clip-path=\"url(#clip664)\" x1=\"1595.58\" y1=\"1300.27\" x2=\"1595.58\" y2=\"1284.27\" style=\"stroke:#6b9e32; stroke-width:3.2; stroke-opacity:1\"/>\n",
       "<line clip-path=\"url(#clip664)\" x1=\"1595.58\" y1=\"1300.27\" x2=\"1579.58\" y2=\"1300.27\" style=\"stroke:#6b9e32; stroke-width:3.2; stroke-opacity:1\"/>\n",
       "<line clip-path=\"url(#clip664)\" x1=\"1595.58\" y1=\"1300.27\" x2=\"1595.58\" y2=\"1316.27\" style=\"stroke:#6b9e32; stroke-width:3.2; stroke-opacity:1\"/>\n",
       "<line clip-path=\"url(#clip664)\" x1=\"1595.58\" y1=\"1300.27\" x2=\"1611.58\" y2=\"1300.27\" style=\"stroke:#6b9e32; stroke-width:3.2; stroke-opacity:1\"/>\n",
       "<line clip-path=\"url(#clip664)\" x1=\"1673\" y1=\"1289.94\" x2=\"1673\" y2=\"1273.94\" style=\"stroke:#6b9e32; stroke-width:3.2; stroke-opacity:1\"/>\n",
       "<line clip-path=\"url(#clip664)\" x1=\"1673\" y1=\"1289.94\" x2=\"1657\" y2=\"1289.94\" style=\"stroke:#6b9e32; stroke-width:3.2; stroke-opacity:1\"/>\n",
       "<line clip-path=\"url(#clip664)\" x1=\"1673\" y1=\"1289.94\" x2=\"1673\" y2=\"1305.94\" style=\"stroke:#6b9e32; stroke-width:3.2; stroke-opacity:1\"/>\n",
       "<line clip-path=\"url(#clip664)\" x1=\"1673\" y1=\"1289.94\" x2=\"1689\" y2=\"1289.94\" style=\"stroke:#6b9e32; stroke-width:3.2; stroke-opacity:1\"/>\n",
       "<line clip-path=\"url(#clip664)\" x1=\"1750.42\" y1=\"1294.07\" x2=\"1750.42\" y2=\"1278.07\" style=\"stroke:#6b9e32; stroke-width:3.2; stroke-opacity:1\"/>\n",
       "<line clip-path=\"url(#clip664)\" x1=\"1750.42\" y1=\"1294.07\" x2=\"1734.42\" y2=\"1294.07\" style=\"stroke:#6b9e32; stroke-width:3.2; stroke-opacity:1\"/>\n",
       "<line clip-path=\"url(#clip664)\" x1=\"1750.42\" y1=\"1294.07\" x2=\"1750.42\" y2=\"1310.07\" style=\"stroke:#6b9e32; stroke-width:3.2; stroke-opacity:1\"/>\n",
       "<line clip-path=\"url(#clip664)\" x1=\"1750.42\" y1=\"1294.07\" x2=\"1766.42\" y2=\"1294.07\" style=\"stroke:#6b9e32; stroke-width:3.2; stroke-opacity:1\"/>\n",
       "<line clip-path=\"url(#clip664)\" x1=\"1827.84\" y1=\"1294.07\" x2=\"1827.84\" y2=\"1278.07\" style=\"stroke:#6b9e32; stroke-width:3.2; stroke-opacity:1\"/>\n",
       "<line clip-path=\"url(#clip664)\" x1=\"1827.84\" y1=\"1294.07\" x2=\"1811.84\" y2=\"1294.07\" style=\"stroke:#6b9e32; stroke-width:3.2; stroke-opacity:1\"/>\n",
       "<line clip-path=\"url(#clip664)\" x1=\"1827.84\" y1=\"1294.07\" x2=\"1827.84\" y2=\"1310.07\" style=\"stroke:#6b9e32; stroke-width:3.2; stroke-opacity:1\"/>\n",
       "<line clip-path=\"url(#clip664)\" x1=\"1827.84\" y1=\"1294.07\" x2=\"1843.84\" y2=\"1294.07\" style=\"stroke:#6b9e32; stroke-width:3.2; stroke-opacity:1\"/>\n",
       "<line clip-path=\"url(#clip664)\" x1=\"1905.26\" y1=\"1294.07\" x2=\"1905.26\" y2=\"1278.07\" style=\"stroke:#6b9e32; stroke-width:3.2; stroke-opacity:1\"/>\n",
       "<line clip-path=\"url(#clip664)\" x1=\"1905.26\" y1=\"1294.07\" x2=\"1889.26\" y2=\"1294.07\" style=\"stroke:#6b9e32; stroke-width:3.2; stroke-opacity:1\"/>\n",
       "<line clip-path=\"url(#clip664)\" x1=\"1905.26\" y1=\"1294.07\" x2=\"1905.26\" y2=\"1310.07\" style=\"stroke:#6b9e32; stroke-width:3.2; stroke-opacity:1\"/>\n",
       "<line clip-path=\"url(#clip664)\" x1=\"1905.26\" y1=\"1294.07\" x2=\"1921.26\" y2=\"1294.07\" style=\"stroke:#6b9e32; stroke-width:3.2; stroke-opacity:1\"/>\n",
       "<line clip-path=\"url(#clip664)\" x1=\"1982.68\" y1=\"1294.07\" x2=\"1982.68\" y2=\"1278.07\" style=\"stroke:#6b9e32; stroke-width:3.2; stroke-opacity:1\"/>\n",
       "<line clip-path=\"url(#clip664)\" x1=\"1982.68\" y1=\"1294.07\" x2=\"1966.68\" y2=\"1294.07\" style=\"stroke:#6b9e32; stroke-width:3.2; stroke-opacity:1\"/>\n",
       "<line clip-path=\"url(#clip664)\" x1=\"1982.68\" y1=\"1294.07\" x2=\"1982.68\" y2=\"1310.07\" style=\"stroke:#6b9e32; stroke-width:3.2; stroke-opacity:1\"/>\n",
       "<line clip-path=\"url(#clip664)\" x1=\"1982.68\" y1=\"1294.07\" x2=\"1998.68\" y2=\"1294.07\" style=\"stroke:#6b9e32; stroke-width:3.2; stroke-opacity:1\"/>\n",
       "<line clip-path=\"url(#clip664)\" x1=\"2060.1\" y1=\"1294.07\" x2=\"2060.1\" y2=\"1278.07\" style=\"stroke:#6b9e32; stroke-width:3.2; stroke-opacity:1\"/>\n",
       "<line clip-path=\"url(#clip664)\" x1=\"2060.1\" y1=\"1294.07\" x2=\"2044.1\" y2=\"1294.07\" style=\"stroke:#6b9e32; stroke-width:3.2; stroke-opacity:1\"/>\n",
       "<line clip-path=\"url(#clip664)\" x1=\"2060.1\" y1=\"1294.07\" x2=\"2060.1\" y2=\"1310.07\" style=\"stroke:#6b9e32; stroke-width:3.2; stroke-opacity:1\"/>\n",
       "<line clip-path=\"url(#clip664)\" x1=\"2060.1\" y1=\"1294.07\" x2=\"2076.1\" y2=\"1294.07\" style=\"stroke:#6b9e32; stroke-width:3.2; stroke-opacity:1\"/>\n",
       "<line clip-path=\"url(#clip664)\" x1=\"2137.53\" y1=\"1294.07\" x2=\"2137.53\" y2=\"1278.07\" style=\"stroke:#6b9e32; stroke-width:3.2; stroke-opacity:1\"/>\n",
       "<line clip-path=\"url(#clip664)\" x1=\"2137.53\" y1=\"1294.07\" x2=\"2121.53\" y2=\"1294.07\" style=\"stroke:#6b9e32; stroke-width:3.2; stroke-opacity:1\"/>\n",
       "<line clip-path=\"url(#clip664)\" x1=\"2137.53\" y1=\"1294.07\" x2=\"2137.53\" y2=\"1310.07\" style=\"stroke:#6b9e32; stroke-width:3.2; stroke-opacity:1\"/>\n",
       "<line clip-path=\"url(#clip664)\" x1=\"2137.53\" y1=\"1294.07\" x2=\"2153.53\" y2=\"1294.07\" style=\"stroke:#6b9e32; stroke-width:3.2; stroke-opacity:1\"/>\n",
       "<line clip-path=\"url(#clip664)\" x1=\"2214.95\" y1=\"1294.07\" x2=\"2214.95\" y2=\"1278.07\" style=\"stroke:#6b9e32; stroke-width:3.2; stroke-opacity:1\"/>\n",
       "<line clip-path=\"url(#clip664)\" x1=\"2214.95\" y1=\"1294.07\" x2=\"2198.95\" y2=\"1294.07\" style=\"stroke:#6b9e32; stroke-width:3.2; stroke-opacity:1\"/>\n",
       "<line clip-path=\"url(#clip664)\" x1=\"2214.95\" y1=\"1294.07\" x2=\"2214.95\" y2=\"1310.07\" style=\"stroke:#6b9e32; stroke-width:3.2; stroke-opacity:1\"/>\n",
       "<line clip-path=\"url(#clip664)\" x1=\"2214.95\" y1=\"1294.07\" x2=\"2230.95\" y2=\"1294.07\" style=\"stroke:#6b9e32; stroke-width:3.2; stroke-opacity:1\"/>\n",
       "<line clip-path=\"url(#clip664)\" x1=\"2292.37\" y1=\"1294.07\" x2=\"2292.37\" y2=\"1278.07\" style=\"stroke:#6b9e32; stroke-width:3.2; stroke-opacity:1\"/>\n",
       "<line clip-path=\"url(#clip664)\" x1=\"2292.37\" y1=\"1294.07\" x2=\"2276.37\" y2=\"1294.07\" style=\"stroke:#6b9e32; stroke-width:3.2; stroke-opacity:1\"/>\n",
       "<line clip-path=\"url(#clip664)\" x1=\"2292.37\" y1=\"1294.07\" x2=\"2292.37\" y2=\"1310.07\" style=\"stroke:#6b9e32; stroke-width:3.2; stroke-opacity:1\"/>\n",
       "<line clip-path=\"url(#clip664)\" x1=\"2292.37\" y1=\"1294.07\" x2=\"2308.37\" y2=\"1294.07\" style=\"stroke:#6b9e32; stroke-width:3.2; stroke-opacity:1\"/>\n",
       "<polyline clip-path=\"url(#clip664)\" style=\"stroke:#ff0000; stroke-linecap:round; stroke-linejoin:round; stroke-width:20; stroke-opacity:0.3; fill:none\" points=\"279.421,1297.55 279.421,1144.54 356.842,1144.54 356.842,1139.81 434.263,1139.81 434.263,1213.83 511.684,1213.83 511.684,1281.29 589.105,1281.29 589.105,1321.32 666.526,1321.32 666.526,1313.8 743.947,1313.8 743.947,1289.73 821.368,1289.73 821.368,1289 898.789,1289 898.789,1292.67 976.21,1292.67 976.21,1303.76 1053.63,1303.76 1053.63,1286.76 1131.05,1286.76 1131.05,1287.82 1208.47,1287.82 1208.47,1297.08 1285.89,1297.08 1285.89,1299.42 1363.32,1299.42 1363.32,1293.05 1440.74,1293.05 1440.74,1288.85 1518.16,1288.85 1518.16,1300.27 1595.58,1300.27 1595.58,1289.94 1673,1289.94 1673,1294.07 1750.42,1294.07 1827.84,1294.07 1905.26,1294.07 1982.68,1294.07 2060.1,1294.07 2137.53,1294.07 2214.95,1294.07 2292.37,1294.07 \"/>\n",
       "<circle clip-path=\"url(#clip664)\" cx=\"279.421\" cy=\"1297.55\" r=\"14.4\" fill=\"#009af9\" fill-rule=\"evenodd\" fill-opacity=\"1\" stroke=\"#000000\" stroke-opacity=\"1\" stroke-width=\"3.2\"/>\n",
       "<circle clip-path=\"url(#clip664)\" cx=\"356.842\" cy=\"1144.54\" r=\"14.4\" fill=\"#009af9\" fill-rule=\"evenodd\" fill-opacity=\"1\" stroke=\"#000000\" stroke-opacity=\"1\" stroke-width=\"3.2\"/>\n",
       "<circle clip-path=\"url(#clip664)\" cx=\"434.263\" cy=\"1139.81\" r=\"14.4\" fill=\"#009af9\" fill-rule=\"evenodd\" fill-opacity=\"1\" stroke=\"#000000\" stroke-opacity=\"1\" stroke-width=\"3.2\"/>\n",
       "<circle clip-path=\"url(#clip664)\" cx=\"511.684\" cy=\"1213.83\" r=\"14.4\" fill=\"#009af9\" fill-rule=\"evenodd\" fill-opacity=\"1\" stroke=\"#000000\" stroke-opacity=\"1\" stroke-width=\"3.2\"/>\n",
       "<circle clip-path=\"url(#clip664)\" cx=\"589.105\" cy=\"1281.29\" r=\"14.4\" fill=\"#009af9\" fill-rule=\"evenodd\" fill-opacity=\"1\" stroke=\"#000000\" stroke-opacity=\"1\" stroke-width=\"3.2\"/>\n",
       "<circle clip-path=\"url(#clip664)\" cx=\"666.526\" cy=\"1321.32\" r=\"14.4\" fill=\"#009af9\" fill-rule=\"evenodd\" fill-opacity=\"1\" stroke=\"#000000\" stroke-opacity=\"1\" stroke-width=\"3.2\"/>\n",
       "<circle clip-path=\"url(#clip664)\" cx=\"743.947\" cy=\"1313.8\" r=\"14.4\" fill=\"#009af9\" fill-rule=\"evenodd\" fill-opacity=\"1\" stroke=\"#000000\" stroke-opacity=\"1\" stroke-width=\"3.2\"/>\n",
       "<circle clip-path=\"url(#clip664)\" cx=\"821.368\" cy=\"1289.74\" r=\"14.4\" fill=\"#009af9\" fill-rule=\"evenodd\" fill-opacity=\"1\" stroke=\"#000000\" stroke-opacity=\"1\" stroke-width=\"3.2\"/>\n",
       "<circle clip-path=\"url(#clip664)\" cx=\"898.789\" cy=\"1289\" r=\"14.4\" fill=\"#009af9\" fill-rule=\"evenodd\" fill-opacity=\"1\" stroke=\"#000000\" stroke-opacity=\"1\" stroke-width=\"3.2\"/>\n",
       "<circle clip-path=\"url(#clip664)\" cx=\"976.21\" cy=\"1292.67\" r=\"14.4\" fill=\"#009af9\" fill-rule=\"evenodd\" fill-opacity=\"1\" stroke=\"#000000\" stroke-opacity=\"1\" stroke-width=\"3.2\"/>\n",
       "<circle clip-path=\"url(#clip664)\" cx=\"1053.63\" cy=\"1303.76\" r=\"14.4\" fill=\"#009af9\" fill-rule=\"evenodd\" fill-opacity=\"1\" stroke=\"#000000\" stroke-opacity=\"1\" stroke-width=\"3.2\"/>\n",
       "<circle clip-path=\"url(#clip664)\" cx=\"1131.05\" cy=\"1286.76\" r=\"14.4\" fill=\"#009af9\" fill-rule=\"evenodd\" fill-opacity=\"1\" stroke=\"#000000\" stroke-opacity=\"1\" stroke-width=\"3.2\"/>\n",
       "<circle clip-path=\"url(#clip664)\" cx=\"1208.47\" cy=\"1287.82\" r=\"14.4\" fill=\"#009af9\" fill-rule=\"evenodd\" fill-opacity=\"1\" stroke=\"#000000\" stroke-opacity=\"1\" stroke-width=\"3.2\"/>\n",
       "<circle clip-path=\"url(#clip664)\" cx=\"1285.89\" cy=\"1297.08\" r=\"14.4\" fill=\"#009af9\" fill-rule=\"evenodd\" fill-opacity=\"1\" stroke=\"#000000\" stroke-opacity=\"1\" stroke-width=\"3.2\"/>\n",
       "<circle clip-path=\"url(#clip664)\" cx=\"1363.32\" cy=\"1299.42\" r=\"14.4\" fill=\"#009af9\" fill-rule=\"evenodd\" fill-opacity=\"1\" stroke=\"#000000\" stroke-opacity=\"1\" stroke-width=\"3.2\"/>\n",
       "<circle clip-path=\"url(#clip664)\" cx=\"1440.74\" cy=\"1293.05\" r=\"14.4\" fill=\"#009af9\" fill-rule=\"evenodd\" fill-opacity=\"1\" stroke=\"#000000\" stroke-opacity=\"1\" stroke-width=\"3.2\"/>\n",
       "<circle clip-path=\"url(#clip664)\" cx=\"1518.16\" cy=\"1288.85\" r=\"14.4\" fill=\"#009af9\" fill-rule=\"evenodd\" fill-opacity=\"1\" stroke=\"#000000\" stroke-opacity=\"1\" stroke-width=\"3.2\"/>\n",
       "<circle clip-path=\"url(#clip664)\" cx=\"1595.58\" cy=\"1300.27\" r=\"14.4\" fill=\"#009af9\" fill-rule=\"evenodd\" fill-opacity=\"1\" stroke=\"#000000\" stroke-opacity=\"1\" stroke-width=\"3.2\"/>\n",
       "<circle clip-path=\"url(#clip664)\" cx=\"1673\" cy=\"1289.94\" r=\"14.4\" fill=\"#009af9\" fill-rule=\"evenodd\" fill-opacity=\"1\" stroke=\"#000000\" stroke-opacity=\"1\" stroke-width=\"3.2\"/>\n",
       "<circle clip-path=\"url(#clip664)\" cx=\"1750.42\" cy=\"1294.07\" r=\"14.4\" fill=\"#009af9\" fill-rule=\"evenodd\" fill-opacity=\"1\" stroke=\"#000000\" stroke-opacity=\"1\" stroke-width=\"3.2\"/>\n",
       "<circle clip-path=\"url(#clip664)\" cx=\"1827.84\" cy=\"1294.07\" r=\"14.4\" fill=\"#009af9\" fill-rule=\"evenodd\" fill-opacity=\"1\" stroke=\"#000000\" stroke-opacity=\"1\" stroke-width=\"3.2\"/>\n",
       "<circle clip-path=\"url(#clip664)\" cx=\"1905.26\" cy=\"1294.07\" r=\"14.4\" fill=\"#009af9\" fill-rule=\"evenodd\" fill-opacity=\"1\" stroke=\"#000000\" stroke-opacity=\"1\" stroke-width=\"3.2\"/>\n",
       "<circle clip-path=\"url(#clip664)\" cx=\"1982.68\" cy=\"1294.07\" r=\"14.4\" fill=\"#009af9\" fill-rule=\"evenodd\" fill-opacity=\"1\" stroke=\"#000000\" stroke-opacity=\"1\" stroke-width=\"3.2\"/>\n",
       "<circle clip-path=\"url(#clip664)\" cx=\"2060.1\" cy=\"1294.07\" r=\"14.4\" fill=\"#009af9\" fill-rule=\"evenodd\" fill-opacity=\"1\" stroke=\"#000000\" stroke-opacity=\"1\" stroke-width=\"3.2\"/>\n",
       "<circle clip-path=\"url(#clip664)\" cx=\"2137.53\" cy=\"1294.07\" r=\"14.4\" fill=\"#009af9\" fill-rule=\"evenodd\" fill-opacity=\"1\" stroke=\"#000000\" stroke-opacity=\"1\" stroke-width=\"3.2\"/>\n",
       "<circle clip-path=\"url(#clip664)\" cx=\"2214.95\" cy=\"1294.07\" r=\"14.4\" fill=\"#009af9\" fill-rule=\"evenodd\" fill-opacity=\"1\" stroke=\"#000000\" stroke-opacity=\"1\" stroke-width=\"3.2\"/>\n",
       "<circle clip-path=\"url(#clip664)\" cx=\"2292.37\" cy=\"1294.07\" r=\"14.4\" fill=\"#009af9\" fill-rule=\"evenodd\" fill-opacity=\"1\" stroke=\"#000000\" stroke-opacity=\"1\" stroke-width=\"3.2\"/>\n",
       "<polyline clip-path=\"url(#clip664)\" style=\"stroke:#80007f; stroke-linecap:round; stroke-linejoin:round; stroke-width:20; stroke-opacity:0.3; fill:none\" points=\"279.421,1297.55 279.421,1144.54 356.842,1144.54 356.842,1139.81 434.263,1139.81 434.263,1213.83 511.684,1213.83 511.684,1281.29 589.105,1281.29 589.105,1321.32 666.526,1321.32 666.526,1313.8 743.947,1313.8 743.947,1289.74 821.368,1289.74 821.368,1289 898.789,1289 898.789,1292.67 976.21,1292.67 976.21,1303.76 1053.63,1303.76 1053.63,1286.76 1131.05,1286.76 1131.05,1287.82 1208.47,1287.82 1208.47,1297.08 1285.89,1297.08 1285.89,1299.42 1363.32,1299.42 1363.32,1293.05 1440.74,1293.05 1440.74,1288.85 1518.16,1288.85 1518.16,1300.27 1595.58,1300.27 1595.58,1289.94 1673,1289.94 1673,1294.07 1750.42,1294.07 1827.84,1294.07 1905.26,1294.07 1982.68,1294.07 2060.1,1294.07 2137.53,1294.07 2214.95,1294.07 2292.37,1294.07 \"/>\n",
       "<path clip-path=\"url(#clip664)\" d=\"M279.421 1281.55 L263.421 1297.55 L279.421 1313.55 L295.421 1297.55 L279.421 1281.55 Z\" fill=\"#e26f46\" fill-rule=\"evenodd\" fill-opacity=\"1\" stroke=\"#000000\" stroke-opacity=\"1\" stroke-width=\"3.2\"/>\n",
       "<path clip-path=\"url(#clip664)\" d=\"M356.842 1128.54 L340.842 1144.54 L356.842 1160.54 L372.842 1144.54 L356.842 1128.54 Z\" fill=\"#e26f46\" fill-rule=\"evenodd\" fill-opacity=\"1\" stroke=\"#000000\" stroke-opacity=\"1\" stroke-width=\"3.2\"/>\n",
       "<path clip-path=\"url(#clip664)\" d=\"M434.263 1123.81 L418.263 1139.81 L434.263 1155.81 L450.263 1139.81 L434.263 1123.81 Z\" fill=\"#e26f46\" fill-rule=\"evenodd\" fill-opacity=\"1\" stroke=\"#000000\" stroke-opacity=\"1\" stroke-width=\"3.2\"/>\n",
       "<path clip-path=\"url(#clip664)\" d=\"M511.684 1197.83 L495.684 1213.83 L511.684 1229.83 L527.684 1213.83 L511.684 1197.83 Z\" fill=\"#e26f46\" fill-rule=\"evenodd\" fill-opacity=\"1\" stroke=\"#000000\" stroke-opacity=\"1\" stroke-width=\"3.2\"/>\n",
       "<path clip-path=\"url(#clip664)\" d=\"M589.105 1265.29 L573.105 1281.29 L589.105 1297.29 L605.105 1281.29 L589.105 1265.29 Z\" fill=\"#e26f46\" fill-rule=\"evenodd\" fill-opacity=\"1\" stroke=\"#000000\" stroke-opacity=\"1\" stroke-width=\"3.2\"/>\n",
       "<path clip-path=\"url(#clip664)\" d=\"M666.526 1305.32 L650.526 1321.32 L666.526 1337.32 L682.526 1321.32 L666.526 1305.32 Z\" fill=\"#e26f46\" fill-rule=\"evenodd\" fill-opacity=\"1\" stroke=\"#000000\" stroke-opacity=\"1\" stroke-width=\"3.2\"/>\n",
       "<path clip-path=\"url(#clip664)\" d=\"M743.947 1297.8 L727.947 1313.8 L743.947 1329.8 L759.947 1313.8 L743.947 1297.8 Z\" fill=\"#e26f46\" fill-rule=\"evenodd\" fill-opacity=\"1\" stroke=\"#000000\" stroke-opacity=\"1\" stroke-width=\"3.2\"/>\n",
       "<path clip-path=\"url(#clip664)\" d=\"M821.368 1273.73 L805.368 1289.73 L821.368 1305.73 L837.368 1289.73 L821.368 1273.73 Z\" fill=\"#e26f46\" fill-rule=\"evenodd\" fill-opacity=\"1\" stroke=\"#000000\" stroke-opacity=\"1\" stroke-width=\"3.2\"/>\n",
       "<path clip-path=\"url(#clip664)\" d=\"M898.789 1273 L882.789 1289 L898.789 1305 L914.789 1289 L898.789 1273 Z\" fill=\"#e26f46\" fill-rule=\"evenodd\" fill-opacity=\"1\" stroke=\"#000000\" stroke-opacity=\"1\" stroke-width=\"3.2\"/>\n",
       "<path clip-path=\"url(#clip664)\" d=\"M976.21 1276.67 L960.21 1292.67 L976.21 1308.67 L992.21 1292.67 L976.21 1276.67 Z\" fill=\"#e26f46\" fill-rule=\"evenodd\" fill-opacity=\"1\" stroke=\"#000000\" stroke-opacity=\"1\" stroke-width=\"3.2\"/>\n",
       "<path clip-path=\"url(#clip664)\" d=\"M1053.63 1287.76 L1037.63 1303.76 L1053.63 1319.76 L1069.63 1303.76 L1053.63 1287.76 Z\" fill=\"#e26f46\" fill-rule=\"evenodd\" fill-opacity=\"1\" stroke=\"#000000\" stroke-opacity=\"1\" stroke-width=\"3.2\"/>\n",
       "<path clip-path=\"url(#clip664)\" d=\"M1131.05 1270.76 L1115.05 1286.76 L1131.05 1302.76 L1147.05 1286.76 L1131.05 1270.76 Z\" fill=\"#e26f46\" fill-rule=\"evenodd\" fill-opacity=\"1\" stroke=\"#000000\" stroke-opacity=\"1\" stroke-width=\"3.2\"/>\n",
       "<path clip-path=\"url(#clip664)\" d=\"M1208.47 1271.82 L1192.47 1287.82 L1208.47 1303.82 L1224.47 1287.82 L1208.47 1271.82 Z\" fill=\"#e26f46\" fill-rule=\"evenodd\" fill-opacity=\"1\" stroke=\"#000000\" stroke-opacity=\"1\" stroke-width=\"3.2\"/>\n",
       "<path clip-path=\"url(#clip664)\" d=\"M1285.89 1281.08 L1269.89 1297.08 L1285.89 1313.08 L1301.89 1297.08 L1285.89 1281.08 Z\" fill=\"#e26f46\" fill-rule=\"evenodd\" fill-opacity=\"1\" stroke=\"#000000\" stroke-opacity=\"1\" stroke-width=\"3.2\"/>\n",
       "<path clip-path=\"url(#clip664)\" d=\"M1363.32 1283.42 L1347.32 1299.42 L1363.32 1315.42 L1379.32 1299.42 L1363.32 1283.42 Z\" fill=\"#e26f46\" fill-rule=\"evenodd\" fill-opacity=\"1\" stroke=\"#000000\" stroke-opacity=\"1\" stroke-width=\"3.2\"/>\n",
       "<path clip-path=\"url(#clip664)\" d=\"M1440.74 1277.05 L1424.74 1293.05 L1440.74 1309.05 L1456.74 1293.05 L1440.74 1277.05 Z\" fill=\"#e26f46\" fill-rule=\"evenodd\" fill-opacity=\"1\" stroke=\"#000000\" stroke-opacity=\"1\" stroke-width=\"3.2\"/>\n",
       "<path clip-path=\"url(#clip664)\" d=\"M1518.16 1272.85 L1502.16 1288.85 L1518.16 1304.85 L1534.16 1288.85 L1518.16 1272.85 Z\" fill=\"#e26f46\" fill-rule=\"evenodd\" fill-opacity=\"1\" stroke=\"#000000\" stroke-opacity=\"1\" stroke-width=\"3.2\"/>\n",
       "<path clip-path=\"url(#clip664)\" d=\"M1595.58 1284.27 L1579.58 1300.27 L1595.58 1316.27 L1611.58 1300.27 L1595.58 1284.27 Z\" fill=\"#e26f46\" fill-rule=\"evenodd\" fill-opacity=\"1\" stroke=\"#000000\" stroke-opacity=\"1\" stroke-width=\"3.2\"/>\n",
       "<path clip-path=\"url(#clip664)\" d=\"M1673 1273.95 L1657 1289.95 L1673 1305.95 L1689 1289.95 L1673 1273.95 Z\" fill=\"#e26f46\" fill-rule=\"evenodd\" fill-opacity=\"1\" stroke=\"#000000\" stroke-opacity=\"1\" stroke-width=\"3.2\"/>\n",
       "<path clip-path=\"url(#clip664)\" d=\"M1750.42 1278.07 L1734.42 1294.07 L1750.42 1310.07 L1766.42 1294.07 L1750.42 1278.07 Z\" fill=\"#e26f46\" fill-rule=\"evenodd\" fill-opacity=\"1\" stroke=\"#000000\" stroke-opacity=\"1\" stroke-width=\"3.2\"/>\n",
       "<path clip-path=\"url(#clip664)\" d=\"M1827.84 1278.07 L1811.84 1294.07 L1827.84 1310.07 L1843.84 1294.07 L1827.84 1278.07 Z\" fill=\"#e26f46\" fill-rule=\"evenodd\" fill-opacity=\"1\" stroke=\"#000000\" stroke-opacity=\"1\" stroke-width=\"3.2\"/>\n",
       "<path clip-path=\"url(#clip664)\" d=\"M1905.26 1278.07 L1889.26 1294.07 L1905.26 1310.07 L1921.26 1294.07 L1905.26 1278.07 Z\" fill=\"#e26f46\" fill-rule=\"evenodd\" fill-opacity=\"1\" stroke=\"#000000\" stroke-opacity=\"1\" stroke-width=\"3.2\"/>\n",
       "<path clip-path=\"url(#clip664)\" d=\"M1982.68 1278.07 L1966.68 1294.07 L1982.68 1310.07 L1998.68 1294.07 L1982.68 1278.07 Z\" fill=\"#e26f46\" fill-rule=\"evenodd\" fill-opacity=\"1\" stroke=\"#000000\" stroke-opacity=\"1\" stroke-width=\"3.2\"/>\n",
       "<path clip-path=\"url(#clip664)\" d=\"M2060.1 1278.07 L2044.1 1294.07 L2060.1 1310.07 L2076.1 1294.07 L2060.1 1278.07 Z\" fill=\"#e26f46\" fill-rule=\"evenodd\" fill-opacity=\"1\" stroke=\"#000000\" stroke-opacity=\"1\" stroke-width=\"3.2\"/>\n",
       "<path clip-path=\"url(#clip664)\" d=\"M2137.53 1278.07 L2121.53 1294.07 L2137.53 1310.07 L2153.53 1294.07 L2137.53 1278.07 Z\" fill=\"#e26f46\" fill-rule=\"evenodd\" fill-opacity=\"1\" stroke=\"#000000\" stroke-opacity=\"1\" stroke-width=\"3.2\"/>\n",
       "<path clip-path=\"url(#clip664)\" d=\"M2214.95 1278.07 L2198.95 1294.07 L2214.95 1310.07 L2230.95 1294.07 L2214.95 1278.07 Z\" fill=\"#e26f46\" fill-rule=\"evenodd\" fill-opacity=\"1\" stroke=\"#000000\" stroke-opacity=\"1\" stroke-width=\"3.2\"/>\n",
       "<path clip-path=\"url(#clip664)\" d=\"M2292.37 1278.07 L2276.37 1294.07 L2292.37 1310.07 L2308.37 1294.07 L2292.37 1278.07 Z\" fill=\"#e26f46\" fill-rule=\"evenodd\" fill-opacity=\"1\" stroke=\"#000000\" stroke-opacity=\"1\" stroke-width=\"3.2\"/>\n",
       "<polyline clip-path=\"url(#clip664)\" style=\"stroke:#0000ff; stroke-linecap:round; stroke-linejoin:round; stroke-width:20; stroke-opacity:0.3; fill:none\" points=\"279.421,1297.55 279.421,1144.54 356.842,1144.54 356.842,1139.81 434.263,1139.81 434.263,1213.83 511.684,1213.83 511.684,1281.29 589.105,1281.29 589.105,1321.32 666.526,1321.32 666.526,1313.8 743.947,1313.8 743.947,1289.73 821.368,1289.73 821.368,1289 898.789,1289 898.789,1292.67 976.21,1292.67 976.21,1303.76 1053.63,1303.76 1053.63,1286.76 1131.05,1286.76 1131.05,1287.82 1208.47,1287.82 1208.47,1297.08 1285.89,1297.08 1285.89,1299.42 1363.32,1299.42 1363.32,1293.05 1440.74,1293.05 1440.74,1288.85 1518.16,1288.85 1518.16,1300.27 1595.58,1300.27 1595.58,1289.95 1673,1289.95 1673,1294.07 1750.42,1294.07 1827.84,1294.07 1905.26,1294.07 1982.68,1294.07 2060.1,1294.07 2137.53,1294.07 2214.95,1294.07 2292.37,1294.07 \"/>\n",
       "</svg>\n"
      ]
     },
     "metadata": {},
     "output_type": "display_data"
    }
   ],
   "source": [
    "##########\n",
    "# INPUTS #\n",
    "##########\n",
    "# limits\n",
    "#p9 = plot(ts,uMax*ones(length(ts)),linestyle = :dot,linecolor = :black,xaxis=\"time[h]\",yaxis=\"u1\",legend=false,gridlinewidth=2,ylims = (1.5,2.0),yticks = 1.5:0.1:2.0)\n",
    "p9 = plot(xaxis=\"time[h]\",yaxis=\"u1\",gridlinewidth=2,ylims = (1.5,2.0),yticks = 1.5:0.1:2.0)\n",
    "\n",
    "for opti in 1:3\n",
    "    p9 = plot!(ts,uTraj[opti,:,1],linewidth=5,linetype=:steppre,linealpha = 0.3,markershape=MList[opti],linecolor = CList[opti],legend=false)\n",
    "end\n",
    "\n",
    "#p10 = plot(ts,uMax*ones(length(ts)),linestyle = :dot,linecolor = :black,xaxis=\"time[h]\",yaxis=\"u2\",legend=false,gridlinewidth=2,ylims = (1.5,2.0),yticks = 1.5:0.1:2.0)\n",
    "p10 = plot(xaxis=\"time[h]\",yaxis=\"u2\",gridlinewidth=2,ylims = (1.5,2.0),yticks = 1.5:0.1:2.0)\n",
    "for opti in 1:3\n",
    "    p10 = plot!(ts,uTraj[opti,:,2],linewidth=5,linetype=:steppre,linealpha = 0.3,markershape=MList[opti],linecolor = CList[opti],legend=false)\n",
    "end\n",
    "\n",
    "#p11 = plot(ts,uMax*ones(length(ts)),linestyle = :dot,linecolor = :black,xaxis=\"time[h]\",yaxis=\"u3\",legend=false,gridlinewidth=2,ylims = (1.5,2.0),yticks = 1.5:0.1:2.0)\n",
    "p11 = plot(xaxis=\"time[h]\",yaxis=\"u3\",gridlinewidth=2,ylims = (1.5,2.0),yticks = 1.5:0.1:2.0)\n",
    "for opti in 1:3\n",
    "    p11 = plot!(ts,uTraj[opti,:,3],linewidth=5,linetype=:steppre,linealpha = 0.3,markershape=MList[opti],linecolor = CList[opti],legend=false)\n",
    "end\n",
    "\n",
    "g3 = plot(p9,p10,p11,layout=(3,1))\n",
    "display(g3)"
   ]
  },
  {
   "cell_type": "code",
   "execution_count": null,
   "id": "b139f7f7",
   "metadata": {},
   "outputs": [],
   "source": []
  }
 ],
 "metadata": {
  "kernelspec": {
   "display_name": "Julia 1.8.5",
   "language": "julia",
   "name": "julia-1.8"
  },
  "language_info": {
   "file_extension": ".jl",
   "mimetype": "application/julia",
   "name": "julia",
   "version": "1.8.5"
  }
 },
 "nbformat": 4,
 "nbformat_minor": 5
}
