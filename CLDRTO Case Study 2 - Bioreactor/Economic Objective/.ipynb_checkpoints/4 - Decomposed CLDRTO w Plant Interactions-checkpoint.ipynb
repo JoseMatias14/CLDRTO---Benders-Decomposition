{
 "cells": [
  {
   "cell_type": "markdown",
   "id": "39bb43e3",
   "metadata": {},
   "source": [
    "- **This code computes the decomposed solution of a Closed-Loop DRTO problem and implement both decomposed and monolithic strategies in a plant**\n",
    "- Using economic objective function\n",
    "- The underlying control structure (modeled in the CLDRTO model) is a constrained MPC, which is solved using MPCC\n",
    "- The problem is posed as a scenario-based stochastic programming problem\n",
    "- The case study is an affine multiple parallel bioreactor system from:*Gao, Ling. \"Modeling and dynamics analyses of immobilized CSTR bioreactor using transfer function model.\" 2012 International Symposium on Information Technologies in Medicine and Education. Vol. 2. IEEE, 2012.*\n",
    "- The uncertainty represented by the scenarios comes from the maximum specific growth rate (V_m) --> see matlab file\n",
    "\n",
    "AUTHOR: Jose Matias <assumpcj@mcmaster.ca>\n",
    "DATE: May 2023"
   ]
  },
  {
   "cell_type": "code",
   "execution_count": 1,
   "id": "67ea638f",
   "metadata": {},
   "outputs": [],
   "source": [
    "using LinearAlgebra, JuMP, CPLEX, Ipopt, Plots, CSV, DataFrames, Random, Distributions, LaTeXStrings"
   ]
  },
  {
   "cell_type": "markdown",
   "id": "b2933767",
   "metadata": {},
   "source": [
    "# Simulation Configuration"
   ]
  },
  {
   "cell_type": "code",
   "execution_count": 2,
   "id": "cb37bc36",
   "metadata": {},
   "outputs": [],
   "source": [
    "# Sampling time\n",
    "T = 1 #[h]\n",
    "\n",
    "# Set seed value for choosing the plant parameter \n",
    "seed = 42\n",
    "Random.seed!(seed)\n",
    "\n",
    "# Number of manipulated inputs\n",
    "nu = 1\n",
    "# Number of controlled outputs\n",
    "ny = 1\n",
    "\n",
    "# setting bounds (all arbitrary - not in deviation form!!) \n",
    "uMax = 5.0 # for tight constraints: 1.9 | for loose constraints: 5.0 or 10.0\n",
    "uMin = 0.0\n",
    "\n",
    "yspMax = 1.2 \n",
    "yspMin = 0.0;"
   ]
  },
  {
   "cell_type": "markdown",
   "id": "06d023cd",
   "metadata": {},
   "source": [
    "# Building affine CL-DRTO models"
   ]
  },
  {
   "cell_type": "code",
   "execution_count": 3,
   "id": "06719deb",
   "metadata": {},
   "outputs": [],
   "source": [
    "# Linearization point\n",
    "u0 = 1.5\n",
    "x0 = [0.7179;0.7821]\n",
    "y0 = 0.7821\n",
    "\n",
    "# 100 pre-computed models based on parametric uncertainty Vm (computed using matlab: BioReactorLinearization.m)\n",
    "bioModels = CSV.read(\"C:\\\\Users\\\\MACC-Jose\\\\Documents\\\\GitHub\\\\BD\\\\CLDRTO Case Study 2 - Bioreactor\\\\BioreactorModel\", DataFrame; header=false);\n",
    "#print(bioModels)"
   ]
  },
  {
   "cell_type": "markdown",
   "id": "8c5197b2",
   "metadata": {},
   "source": [
    "# CL-DRTO configuration"
   ]
  },
  {
   "cell_type": "code",
   "execution_count": 4,
   "id": "ad40ad5c",
   "metadata": {},
   "outputs": [],
   "source": [
    "# DRTO sampling time\n",
    "nDRTO = 4 # [h]\n",
    "# Prediction horizon\n",
    "pD = 20 + (8 - 1)# p = 8 *controller horizon  \n",
    "# Input control horizon \n",
    "mD = 20\n",
    "# Objective function: target tracking (deviation form)\n",
    "pTrack = 1 - y0 # [g/L]\n",
    "# Soft upper bounds on P weight (deviation form)\n",
    "pUB = 1.05 - y0 # [g/L]\n",
    "# objective function weight for P penalization term \n",
    "wP = 100;"
   ]
  },
  {
   "cell_type": "markdown",
   "id": "ac4a4609",
   "metadata": {},
   "source": [
    "# MPC configuration"
   ]
  },
  {
   "cell_type": "code",
   "execution_count": 5,
   "id": "76a65401",
   "metadata": {},
   "outputs": [],
   "source": [
    "# MPC sampling time\n",
    "nMPC = 1 # [h]\n",
    "\n",
    "# Controller configuration\n",
    "# Output prediction horizon\n",
    "p = 8\n",
    "# Input control horizon \n",
    "m = 2\n",
    "# Output weights\n",
    "q = 1\n",
    "# Input weights \n",
    "r = 1;"
   ]
  },
  {
   "cell_type": "markdown",
   "id": "14811090",
   "metadata": {},
   "source": [
    "# Bender's configuration"
   ]
  },
  {
   "cell_type": "code",
   "execution_count": 6,
   "id": "34c26822",
   "metadata": {},
   "outputs": [],
   "source": [
    "# max number of iteration\n",
    "benIterMax = 200\n",
    "\n",
    "# optimality gap (relative) tolerance\n",
    "optGap = 1e-3; # MPCC: 0.5 / 1e-3"
   ]
  },
  {
   "cell_type": "markdown",
   "id": "27186ab9",
   "metadata": {},
   "source": [
    "# Auxiliary functions"
   ]
  },
  {
   "cell_type": "markdown",
   "id": "3bd66240",
   "metadata": {},
   "source": [
    "- DRTO model changes with the number of scenarios and parallel reactors.  \n",
    "\n",
    "Used for the monolithic solution. Generates an array of models. Several different models were already computed offline and saved in the \"bioModel\" array. This function extracts the models based on a fixed index grid that is generated based on the number of scenarios"
   ]
  },
  {
   "cell_type": "code",
   "execution_count": 7,
   "id": "57ec4745",
   "metadata": {},
   "outputs": [],
   "source": [
    "function DRTO_matrices(nReactors,nScenarios)\n",
    "    ###########\n",
    "    # inputs: #\n",
    "    ###########\n",
    "    # nReactors - number of reactors in parallel\n",
    "    # nScenarios - number of scenarios used in the stochastic optimization\n",
    "    \n",
    "    # set dimensions\n",
    "    nx = 2*nReactors\n",
    "    # SISO system\n",
    "    ny = 1\n",
    "    nu = 1\n",
    "    \n",
    "    # picking up indexes equally spaced between 1 and 100 (including initial and end point) \n",
    "    # based on the desired number of scenarios\n",
    "    if nScenarios == 1\n",
    "        indexScen = 50 # nominal model --> index = 50\n",
    "    else\n",
    "        indexScen = [floor(Int, 1 + (ii - 1)*(100-1)/(nScenarios-1)) for ii in 1:nScenarios]\n",
    "    end\n",
    "    \n",
    "    # building DRTO model\n",
    "    A_drto = Array{Float64}(undef,nx,nx,nScenarios) \n",
    "    B_drto = Array{Float64}(undef,nx,nu,nScenarios) \n",
    "\n",
    "    for kk in 1:nScenarios\n",
    "\n",
    "        index_temp = indexScen[kk]\n",
    "\n",
    "        A_drto[:,:,kk] = kron(I(nReactors),Matrix(bioModels[2*(index_temp - 1) + 1:2*(index_temp - 1) + 2,1:2]))\n",
    "        B_drto[:,:,kk] = repeat(bioModels[2*(index_temp - 1) + 1:2*(index_temp - 1) + 2,3], outer = [nReactors, 1, 1])\n",
    "\n",
    "    end\n",
    "\n",
    "    # mapping states to measurements is the same for all models\n",
    "    C_drto = repeat([0 1], outer = [1, nReactors])\n",
    "    \n",
    "    return Dict('A' => A_drto, 'B' => B_drto, 'C' => C_drto)\n",
    "end;"
   ]
  },
  {
   "cell_type": "markdown",
   "id": "d52a45b4",
   "metadata": {},
   "source": [
    "- DRTO model changes with the number of scenarios and parallel reactors.  \n",
    "\n",
    "Used for the decomposed solution. Generates a single model. Several different models were already computed offline and saved in the \"bioModel\" array. This function extracts the model of interest based on the index \"nScenario\""
   ]
  },
  {
   "cell_type": "code",
   "execution_count": 8,
   "id": "0968ca7b",
   "metadata": {},
   "outputs": [],
   "source": [
    "function DRTO_matrix(nReactors,nScenario,nScenTotal)  \n",
    "    ###########\n",
    "    # inputs: #\n",
    "    ###########\n",
    "    # nReactors - number of reactors in parallel\n",
    "    # nScenario - index the of scenario used in the stochastic optimization\n",
    "    # nScenTotal - total number of scenario used in the stochastic optimization\n",
    "    \n",
    "    # set dimensions\n",
    "    nx = 2*nReactors\n",
    "    # SISO system\n",
    "    ny = 1\n",
    "    nu = 1\n",
    "    \n",
    "    if nScenTotal == 1\n",
    "        index_temp = 50 # nominal model --> index = 50\n",
    "    else\n",
    "        indexScen = [floor(Int, 1 + (ii - 1)*(100-1)/(nScenTotal-1)) for ii in 1:nScenTotal]\n",
    "        index_temp = indexScen[nScenario]\n",
    "    end\n",
    "  \n",
    "    # building DRTO model\n",
    "    A_drto = kron(I(nReactors),Matrix(bioModels[2*(index_temp - 1) + 1:2*(index_temp - 1) + 2,1:2]))\n",
    "    B_drto = repeat(bioModels[2*(index_temp - 1) + 1:2*(index_temp - 1) + 2,3], outer = [nReactors, 1, 1])\n",
    "\n",
    "    # mapping states to measurements is the same for all models\n",
    "    C_drto = repeat([0 1], outer = [1, nReactors]);\n",
    "    \n",
    "    return Dict('A' => A_drto, 'B' => B_drto, 'C' => C_drto)\n",
    "end;"
   ]
  },
  {
   "cell_type": "markdown",
   "id": "dbffeddf",
   "metadata": {},
   "source": [
    "- Building MPC Model\n",
    "\n",
    "Using nominal model(indexScen = 50). For the description of how the MPC matrices (with disturbance model) are built, check script: *CLDRTO with unconstrained MPC - uncertain plant test*"
   ]
  },
  {
   "cell_type": "code",
   "execution_count": 9,
   "id": "1f3177a8",
   "metadata": {},
   "outputs": [],
   "source": [
    "function MPC_matrices(nReactors)\n",
    "    ###########\n",
    "    # inputs: #\n",
    "    ###########\n",
    "    # nReactors - number of reactors in parallel\n",
    "    \n",
    "    # set dimensions\n",
    "    nx = 2*nReactors\n",
    "    # SISO system\n",
    "    ny = 1\n",
    "    nu = 1\n",
    "    \n",
    "    # extracting the matrices from the model array computed previously\n",
    "    nNom = 50 # nominal model --> index = 50\n",
    "    \n",
    "    A = kron(I(nReactors),Matrix(bioModels[2*(nNom - 1) + 1:2*(nNom - 1) + 2,1:2])) \n",
    "    B = repeat(bioModels[2*(nNom - 1) + 1:2*(nNom - 1) + 2,3], outer = [nReactors, 1])\n",
    "    C = repeat([0 1], outer = [1, nReactors])\n",
    "    \n",
    "    # adding disturbance model\n",
    "    Ad = [A zeros(nx,ny); zeros(ny,nx) I(ny)]\n",
    "    Bd = [B; zeros(ny,nu)]\n",
    "    Cd = [C ones(ny,ny)]\n",
    "    \n",
    "    # building matrices for MPC\n",
    "    Psi = Cd*Ad\n",
    "    for ii in 2:p\n",
    "        Psi = [Psi;  Cd*Ad^ii]\n",
    "    end\n",
    "\n",
    "    # Computing Dynamic Matrix\n",
    "    a = Cd*Bd\n",
    "    for ii in 2:p\n",
    "        a = [a; Cd*Ad^(ii - 1)*Bd]\n",
    "    end\n",
    "    DynM = a\n",
    "\n",
    "    for ii in 1:(m - 2)\n",
    "        a = [zeros(ny,nu);a[1:(p-1)*ny,:]]\n",
    "        DynM = [DynM  a]\n",
    "    end\n",
    "\n",
    "    # adjusting dynamic matrix for since p > m (last column)\n",
    "    b = Cd*Bd\n",
    "\n",
    "    Ai = I(nx+1) # adding disturbance to the states\n",
    "    for ii = 1:(p - m)\n",
    "        Ai = Ai + Ad^ii\n",
    "        b = [b;Cd*Ai*Bd]\n",
    "    end\n",
    "\n",
    "    Theta=[DynM [zeros(ny*(m-1),nu);b]]\n",
    "    \n",
    "    # Creating Qbar and Rbar matrices\n",
    "    Qbar = Diagonal([q for ii in 1:p])\n",
    "    Rbar = Diagonal([r for ii in 1:m])\n",
    "\n",
    "    # Creating input movement OF penalty matrix \n",
    "    M=[zeros((m-1)*nu,nu) I(nu*(m-1)); zeros(nu) zeros(nu,nu*(m-1))]\n",
    "    Ibar=[I(nu); zeros(nu*(m-1),nu)]\n",
    "    IM = I(nu*m) - M';\n",
    "    \n",
    "    # Matrix H\n",
    "    H = Theta'*Qbar*Theta + IM'*Rbar*IM;\n",
    "    \n",
    "    return Dict('A' => A, 'B' => B, 'C' => C, 'H' => H, 'Θ' => Theta, 'Ψ' => Psi, 'Q' => Qbar, 'I' => Ibar, 'R' => Rbar, 'M' => IM)\n",
    "end;"
   ]
  },
  {
   "cell_type": "markdown",
   "id": "c83af00d",
   "metadata": {},
   "source": [
    "- Building function for computing MPC solution (solving QP)"
   ]
  },
  {
   "cell_type": "code",
   "execution_count": 10,
   "id": "78d89652",
   "metadata": {},
   "outputs": [],
   "source": [
    "function solveMPC(xkk,dekk,uk_1,yspk,uref,umin,umax,p,m,nReac)\n",
    "    ###########\n",
    "    # inputs: #\n",
    "    ###########\n",
    "    # xkk - current states (MPC model) \n",
    "    # dekk - disturbance estimate \n",
    "    # uk_1 - inputs at the current iteration, already implemented on the plant\n",
    "    # yspk - setpoint trajectory computed by CL-DRTO\n",
    "    # uref - input reference value\n",
    "    # umin, umax - input bounds\n",
    "    # p, m - prediction and control horizon\n",
    "    # nReac - number of parallel reactors\n",
    "    \n",
    "    # Creating MPC matrices\n",
    "    mpc = MPC_matrices(nReac)\n",
    "    \n",
    "    MPC_con = Model(Ipopt.Optimizer)\n",
    "    set_silent(MPC_con)\n",
    "    \n",
    "    ####################\n",
    "    # Set up variables #\n",
    "    ####################\n",
    "    # inputs computed by MPCs\n",
    "    @variable(MPC_con, (umin - uref) ≤ u[1:m] ≤ (umax - uref) )\n",
    "    \n",
    "    ######################################\n",
    "    # Set up constraints and expressions #\n",
    "    ######################################\n",
    "    # for OF computation\n",
    "    @expression(MPC_con, cfT, (mpc['Ψ']*[xkk;dekk] - yspk)'*mpc['Q']*mpc['Θ'] - uk_1'*mpc['I']'*mpc['R']*mpc['M'])\n",
    "        \n",
    "    #############################\n",
    "    # Set up objective function #\n",
    "    #############################\n",
    "    @objective(MPC_con, Min, sum(u[jj]*sum(mpc['H'][jj,ii]*u[ii] for ii in 1:m) for jj in 1:m) + 2*sum(cfT[jj]*u[jj] for jj = 1:m))\n",
    "    # @show MPC_con\n",
    "\n",
    "    #################\n",
    "    # Solve Problem #\n",
    "    #################\n",
    "    optimize!(MPC_con)\n",
    "\n",
    "    #calling values of the solved problem\n",
    "    ϕ = objective_value(MPC_con)\n",
    "    uArray = value.(u)\n",
    "\n",
    "    return Dict('ϕ' => ϕ,'u' => uArray)\n",
    "end;"
   ]
  },
  {
   "cell_type": "markdown",
   "id": "ab17a7c4",
   "metadata": {},
   "source": [
    "# Solving CL-DRTO Multiscenario Problem (monolithic)\n",
    " - Check details in script *Monolithic CLDRTO*\n",
    " - For the description of the different solution strategies, check *Different Strategies to solve constrained MPC within CLDRTO*"
   ]
  },
  {
   "cell_type": "code",
   "execution_count": 11,
   "id": "74dd560e",
   "metadata": {},
   "outputs": [],
   "source": [
    "# Parameters for MPC solution\n",
    "# matrix to compute the gradients of the input bound constraints\n",
    "conMatrix = [I(m); -I(m)]; \n",
    "\n",
    "# big-M implementation\n",
    "bigM_mu = 1000\n",
    "bigM_u = 100\n",
    "\n",
    "# weight complementarity relaxation OF term\n",
    "pi_bar = 10^3;"
   ]
  },
  {
   "cell_type": "code",
   "execution_count": 12,
   "id": "e5486fc7",
   "metadata": {},
   "outputs": [],
   "source": [
    "## Modeling the sub problem (scenario) -- modeling inside a function\n",
    "function MS_CLDRTO(xInit,uInit,nReac,nScen,pScen,solNom,option)\n",
    "    ###########\n",
    "    # inputs: #\n",
    "    ###########\n",
    "    # xInit - states at the current iteration (beginning of DRTO horizon)\n",
    "    # uInit - inputs at the current iteration, already implemented on the plant\n",
    "    # nReac - number of parallel reactors\n",
    "    # nScen - number of scenarios used in the problem (only one branching)\n",
    "    # pScen - probability of the scenarios\n",
    "    # solNom - nominal solution\n",
    "    # option - strategy for solving MPC\n",
    "\n",
    "    # Creating MPC matrices\n",
    "    mpc = MPC_matrices(nReac)\n",
    "    \n",
    "    # Creating DRTO matrices\n",
    "    drto = DRTO_matrices(nReac,nScen)\n",
    "\n",
    "    # Define model\n",
    "    if option == 3 || option == 1\n",
    "        model_ms = Model(Ipopt.Optimizer)\n",
    "        set_optimizer_attribute(model_ms, \"max_cpu_time\", 300.0) # 5 min\n",
    "    else \n",
    "        model_ms = Model(CPLEX.Optimizer)\n",
    "        set_optimizer_attribute(model_ms, \"CPX_PARAM_TILIM\", 300.0) # 5 min\n",
    "    end\n",
    "    set_silent(model_ms)\n",
    "    \n",
    "    ####################\n",
    "    # Set up variables #\n",
    "    ####################\n",
    "    # DRTO model variables\n",
    "    @variable(model_ms, xDRTO[1:pD,1:nx,1:nScen])\n",
    "    @variable(model_ms, yDRTO[1:pD,1:nScen])\n",
    "    \n",
    "    # MPC model variables\n",
    "    @variable(model_ms, xMPC[1:pD,1:nx,1:nScen])\n",
    "    @variable(model_ms, yMPC[1:pD,1:nScen])\n",
    "    \n",
    "    # MPC <-> DRTO model deviation\n",
    "    @variable(model_ms, de[1:pD,1:nScen])\n",
    "    \n",
    "    # inputs computed by MPCs\n",
    "    @variable(model_ms, u[1:pD,1:m,1:nScen])\n",
    "    if option == 1\n",
    "        @variable(model_ms, u_w_c[1:pD,1:m,1:nScen]) # inputs w/o clipping\n",
    "    \n",
    "        # input clipping \n",
    "        @variable(model_ms, mu_lb[1:pD,1:m,1:nScen] ≥ 0)\n",
    "        @variable(model_ms, eta_lb[1:pD,1:m,1:nScen] ≥ 0)\n",
    "        @variable(model_ms, mu_ub[1:pD,1:m,1:nScen] ≥ 0)\n",
    "        @variable(model_ms, eta_ub[1:pD,1:m,1:nScen] ≥ 0)       \n",
    "    end\n",
    "    \n",
    "    # setpoints for the controllers sent to the plant (CL-DRTO degrees of freedom)\n",
    "    @variable(model_ms, (yspMin - y0) ≤ ysp[1:pD,1:nScen] ≤ (yspMax - y0))\n",
    "    \n",
    "    # slacks for P soft constraint\n",
    "    @variable(model_ms, delta_p[1:pD,1:nScen] ≥ 0)\n",
    "    \n",
    "    if option == 2 || option == 3\n",
    "        @variable(model_ms, mu_g[1:mD,1:(2*m),1:nScen] ≥ 0) # upper and lower bounds for each input\n",
    "    end\n",
    "    if option == 2\n",
    "        @variable(model_ms, Y_lb[1:mD,1:m,1:nScen], Bin, start = 0) # Binaries for big-M implementation\n",
    "        @variable(model_ms, Y_ub[1:mD,1:m,1:nScen], Bin, start = 0) \n",
    "    end\n",
    "    \n",
    "    ########################\n",
    "    # Set up initial guess #\n",
    "    ########################\n",
    "    if solNom isa Dict\n",
    "        for ss in 1:nScen\n",
    "            for ii in 1:pD\n",
    "                set_start_value(yDRTO[ii,ss], solNom['y'][ii,1]) \n",
    "                set_start_value(yMPC[ii,ss], solNom['c'][ii,1])\n",
    "                set_start_value(ysp[ii,ss], solNom['s'][ii,1])\n",
    "\n",
    "                for rr in 1:nReac # when nReac increases, the number of states change!\n",
    "                    for xx in 1:2 # N.B. nx/reactor is hardcoded here... (maybe use nx/reactor as a function input) \n",
    "                        set_start_value(xDRTO[ii,xx + (rr - 1)*2,ss], solNom['x'][ii,xx,1])    \n",
    "                        set_start_value(xMPC[ii,xx + (rr - 1)*2,ss], solNom['m'][ii,xx,1])           \n",
    "                    end # end xx\n",
    "                end # number \n",
    "                \n",
    "                for uu in 1:m\n",
    "                    set_start_value(u[ii,uu,ss], solNom['u'][ii,uu,1])\n",
    "                end # end of uu\n",
    "            end # eend of ii\n",
    "        end # end of ss\n",
    "    end # end of if\n",
    "    \n",
    "    ######################################\n",
    "    # Set up constraints and expressions #\n",
    "    ######################################\n",
    "    # Model Dynamic for Dynamic RTO\n",
    "    @constraint(model_ms, CLDRTO_dyn_model_1[ss=1:nScen], xDRTO[1,:,ss] .== drto['A'][:,:,ss]*xInit + drto['B'][:,:,ss]*uInit)\n",
    "    @constraint(model_ms, CLDRTO_dyn_model[kk=1:(pD - 1),ss=1:nScen], xDRTO[kk + 1,:,ss] .== drto['A'][:,:,ss]*xDRTO[kk,:,ss] + drto['B'][:,:,ss]*u[kk,1,ss])\n",
    "    @constraint(model_ms, CLDRTO_model_out[kk=1:pD,ss=1:nScen], yDRTO[kk,ss] == dot(drto['C'],xDRTO[kk,:,ss]))\n",
    "    \n",
    "    # fixing setpoint changes after mD\n",
    "    @constraint(model_ms, control_horizon[kk=(mD+1):pD,ss=1:nScen], u[kk,1,ss] .== u[mD,1,ss])\n",
    "    \n",
    "    # P soft constraints\n",
    "    @constraint(model_ms, soft_P[kk=1:pD,ss=1:nScen], yDRTO[kk,ss] - delta_p[kk,ss] ≤ pUB)\n",
    "    \n",
    "    # nonanticipativity constraints\n",
    "    @constraint(model_ms, nonAnt[kk=1:nDRTO,ss=2:nScen], ysp[kk,1] - ysp[kk,ss] == 0.0);\n",
    "    \n",
    "    ################\n",
    "    # MPC solution #\n",
    "    ################    \n",
    "    if option == 1\n",
    "        # Model Dynamic for Controller\n",
    "        @constraint(model_ms, MPC_dyn_model_1[ss=1:nScen], xMPC[1,:,ss] .== mpc['A']*xInit + mpc['B']*uInit)\n",
    "        @constraint(model_ms, MPC_dyn_model[kk=1:(pD - 1),ss=1:nScen], xMPC[kk + 1,:,ss] .== mpc['A']*xMPC[kk,:,ss] + mpc['B']*u_w_c[kk,1,ss])\n",
    "        @constraint(model_ms, MPC_model_out[kk=1:pD,ss=1:nScen], yMPC[kk,ss] == dot(mpc['C'],xMPC[kk,:,ss]))\n",
    "\n",
    "        #  Model deviation\n",
    "        @constraint(model_ms, MPC_model_dev[kk=1:pD,ss=1:nScen], de[kk,ss] == yDRTO[kk,ss] - yMPC[kk,ss])\n",
    "        \n",
    "        @expression(model_ms, cfT_1[ss=1:nScen], (mpc['Ψ']*[xMPC[1,:,ss];de[1,ss]] - ysp[1:p,ss])'*mpc['Q']*mpc['Θ'] - uInit'*mpc['I']'*mpc['R']*mpc['M'])\n",
    "        @expression(model_ms, cfT[kk=2:mD,ss=1:nScen], (mpc['Ψ']*[xMPC[kk,:,ss];de[kk,ss]] - ysp[kk:(kk + p - 1),ss])'*mpc['Q']*mpc['Θ'] - u_w_c[kk-1,1,ss]'*mpc['I']'*mpc['R']*mpc['M'])\n",
    "        \n",
    "        # Unconstrained MPC solution  \n",
    "        @constraint(model_ms, MPC_sol_1[ss=1:nScen], mpc['H']*u_w_c[1,:,ss] + cfT_1[ss]' .== 0)\n",
    "        @constraint(model_ms, MPC_sol[kk=2:mD,ss=1:nScen], mpc['H']*u_w_c[kk,:,ss] + cfT[kk,ss]' .== 0)\n",
    "        \n",
    "        # input clipping\n",
    "        @constraint(model_ms, ic_1[kk = 1:mD,uu = 1:m,ss = 1:nScen], u[kk,uu,ss] == u_w_c[kk,uu,ss] - mu_ub[kk,uu,ss] + mu_lb[kk,uu,ss])\n",
    "        @constraint(model_ms, ic_2[kk = 1:mD,uu = 1:m,ss = 1:nScen], (uMax - u0) - u[kk,uu,ss] == eta_ub[kk,uu,ss])\n",
    "        @constraint(model_ms, ic_3[kk = 1:mD,uu = 1:m,ss = 1:nScen], eta_ub[kk,uu,ss]*mu_ub[kk,uu,ss] ≤ 1e-6)\n",
    "        @constraint(model_ms, ic_4[kk = 1:mD,uu = 1:m,ss = 1:nScen], u[kk,uu,ss] - (uMin - u0) == eta_lb[kk,uu,ss])\n",
    "        @constraint(model_ms, ic_5[kk = 1:mD,uu = 1:m,ss = 1:nScen], eta_lb[kk,uu,ss]*mu_lb[kk,uu,ss] ≤ 1e-6)\n",
    "        \n",
    "    elseif option == 2\n",
    "        # Model Dynamic for Controller\n",
    "        @constraint(model_ms, MPC_dyn_model_1[ss=1:nScen], xMPC[1,:,ss] .== mpc['A']*xInit + mpc['B']*uInit)\n",
    "        @constraint(model_ms, MPC_dyn_model[kk=1:(pD - 1),ss=1:nScen], xMPC[kk + 1,:,ss] .== mpc['A']*xMPC[kk,:,ss] + mpc['B']*u[kk,1,ss])\n",
    "        @constraint(model_ms, MPC_model_out[kk=1:pD,ss=1:nScen], yMPC[kk,ss] == dot(mpc['C'],xMPC[kk,:,ss]))\n",
    "\n",
    "        #  Model deviation\n",
    "        @constraint(model_ms, MPC_model_dev[kk=1:pD,ss=1:nScen], de[kk,ss] == yDRTO[kk,ss] - yMPC[kk,ss])\n",
    "\n",
    "        # sequence of Setpoints\n",
    "        @expression(model_ms, cfT_1[ss=1:nScen], (mpc['Ψ']*[xMPC[1,:,ss];de[1,ss]] - ysp[1:p,ss])'*mpc['Q']*mpc['Θ'] - uInit'*mpc['I']'*mpc['R']*mpc['M'])\n",
    "        @expression(model_ms, cfT[kk=2:mD,ss=1:nScen], (mpc['Ψ']*[xMPC[kk,:,ss];de[kk,ss]] - ysp[kk:(kk + p - 1),ss])'*mpc['Q']*mpc['Θ'] - u[kk-1,1,ss]'*mpc['I']'*mpc['R']*mpc['M'])\n",
    "\n",
    "        # Constrained with binaries\n",
    "        # 1. stationarity\n",
    "        @constraint(model_ms, MPC_sol_1[ss=1:nScen], u[1,:,ss]'*mpc['H'] + cfT_1[ss] +  mu_g[1,:,ss]'*conMatrix .== 0)\n",
    "        @constraint(model_ms, MPC_sol[kk=2:mD,ss=1:nScen], u[kk,:,ss]'*mpc['H'] + cfT[kk,ss] + mu_g[kk,:,ss]'*conMatrix .== 0)\n",
    "\n",
    "        # 2. primal feasibility\n",
    "        @constraint(model_ms, g_u_u[kk=1:mD,uu=1:m,ss=1:nScen], u[kk,uu,ss] - (uMax - u0) ≤ 0)\n",
    "        @constraint(model_ms, g_u_l[kk=1:mD,uu=1:m,ss=1:nScen], (uMin - u0) - u[kk,uu,ss] ≤ 0)\n",
    "    \n",
    "        # 3. complementarity --> using big-M implementation\n",
    "        @constraint(model_ms, bigM_1[kk=1:mD,uu=1:m,ss=1:nScen], mu_g[kk,uu,ss] ≤ bigM_mu*Y_ub[kk,uu,ss])\n",
    "        @constraint(model_ms, bigM_2[kk=1:mD,uu=1:m,ss=1:nScen], mu_g[kk,uu + m,ss] ≤ bigM_mu*Y_lb[kk,uu,ss])\n",
    "        @constraint(model_ms, bigM_3[kk=1:mD,uu=1:m,ss=1:nScen], u[kk,uu,ss] - (uMax - u0) ≥ -bigM_u*(1 - Y_ub[kk,uu,ss]))\n",
    "        @constraint(model_ms, bigM_4[kk=1:mD,uu=1:m,ss=1:nScen], (uMin - u0) - u[kk,uu,ss] ≥ -bigM_u*(1 - Y_lb[kk,uu,ss]))\n",
    "        \n",
    "        @constraint(model_ms, compSlack[kk=1:mD,uu=1:m,ss=1:nScen], Y_ub[kk,uu,ss] + Y_lb[kk,uu,ss] ≤ 1)\n",
    "    \n",
    "    elseif option == 3\n",
    "        # Model Dynamic for Controller\n",
    "        @constraint(model_ms, MPC_dyn_model_1[ss=1:nScen], xMPC[1,:,ss] .== mpc['A']*xInit + mpc['B']*uInit)\n",
    "        @constraint(model_ms, MPC_dyn_model[kk=1:(pD - 1),ss=1:nScen], xMPC[kk + 1,:,ss] .== mpc['A']*xMPC[kk,:,ss] + mpc['B']*u[kk,1,ss])\n",
    "        @constraint(model_ms, MPC_model_out[kk=1:pD,ss=1:nScen], yMPC[kk,ss] == dot(mpc['C'],xMPC[kk,:,ss]))\n",
    "\n",
    "        #  Model deviation\n",
    "        @constraint(model_ms, MPC_model_dev[kk=1:pD,ss=1:nScen], de[kk,ss] == yDRTO[kk,ss] - yMPC[kk,ss])\n",
    "\n",
    "        # sequence of Setpoints\n",
    "        @expression(model_ms, cfT_1[ss=1:nScen], (mpc['Ψ']*[xMPC[1,:,ss];de[1,ss]] - ysp[1:p,ss])'*mpc['Q']*mpc['Θ'] - uInit'*mpc['I']'*mpc['R']*mpc['M'])\n",
    "        @expression(model_ms, cfT[kk=2:mD,ss=1:nScen], (mpc['Ψ']*[xMPC[kk,:,ss];de[kk,ss]] - ysp[kk:(kk + p - 1),ss])'*mpc['Q']*mpc['Θ'] - u[kk-1,1,ss]'*mpc['I']'*mpc['R']*mpc['M'])\n",
    "\n",
    "        # Constrained with MPCC\n",
    "        # 1. stationarity\n",
    "        @constraint(model_ms, MPC_sol_1[ss=1:nScen], u[1,:,ss]'*mpc['H'] + cfT_1[ss] +  mu_g[1,:,ss]'*conMatrix .== 0)\n",
    "        @constraint(model_ms, MPC_sol[kk=2:mD,ss=1:nScen], u[kk,:,ss]'*mpc['H'] + cfT[kk,ss] + mu_g[kk,:,ss]'*conMatrix .== 0)\n",
    "\n",
    "        # 2. primal feasibility\n",
    "        @constraint(model_ms, MPC_c_upper[kk=1:mD,uu=1:m,ss=1:nScen], u[kk,uu,ss] - (uMax - u0) ≤ 0)\n",
    "        @constraint(model_ms, MPC_c_lower[kk=1:mD,uu=1:m,ss=1:nScen], (uMin - u0) - u[kk,uu,ss] ≤ 0)\n",
    "        \n",
    "        # Expressions for OF\n",
    "        @expression(model_ms, g_u_u[kk=1:mD,uu=1:m,ss=1:nScen], u[kk,uu,ss] - (uMax - u0))\n",
    "        @expression(model_ms, g_u_l[kk=1:mD,uu=1:m,ss=1:nScen], (uMin - u0) - u[kk,uu,ss])\n",
    "        \n",
    "    end\n",
    "        \n",
    "    #############################\n",
    "    # Set up objective function #\n",
    "    #############################\n",
    "    if option == 1 || option == 2\n",
    "        @objective(model_ms, Min, \n",
    "            pScen*sum(-yDRTO[kk,ss] + wP*delta_p[kk,ss]^2 for kk in 1:pD, ss in 1:nScen)\n",
    "        )\n",
    "    else\n",
    "        @objective(model_ms, Min, pScen*sum(-yDRTO[kk,ss] + wP*delta_p[kk,ss]^2 for kk in 1:pD, ss in 1:nScen)\n",
    "                                - pScen*pi_bar*sum(\n",
    "                                                sum(mu_g[kk,jj,ss]*g_u_u[kk,jj,ss] for jj = 1:m) +\n",
    "                                                sum(mu_g[kk,jj + m,ss]*g_u_l[kk,jj,ss] for jj = 1:m)\n",
    "                                                for kk = 1:mD, ss in 1:nScen)\n",
    "        )\n",
    "    end\n",
    "    # @show model_ms\n",
    "\n",
    "    #################\n",
    "    # Solve Problem #\n",
    "    #################\n",
    "    #set_optimizer_attribute(model_ms, \"CPX_PARAM_BARALG\", 1)\n",
    "    optimize!(model_ms)\n",
    "    \n",
    "    status = termination_status(model_ms)\n",
    "    #display(status)\n",
    "    \n",
    "    if status == MOI.OPTIMAL || status == MOI.ALMOST_OPTIMAL || status == MOI.LOCALLY_SOLVED\n",
    "        # Proved optimality or Optimal within relaxed tolerances\n",
    "        # solution time\n",
    "        timeSol = solve_time(model_ms)\n",
    "\n",
    "        flag = 1\n",
    "        # #primal_status(m)\n",
    "\n",
    "        #calling values of the solved problem\n",
    "        ϕ = objective_value(model_ms)\n",
    "        uArray = value.(u)\n",
    "        yspArray = value.(ysp)\n",
    "        yDRTOArray = value.(yDRTO)\n",
    "        yMPCArray = value.(yMPC)\n",
    "        xDRTOArray = value.(xDRTO)\n",
    "        xMPCArray = value.(xMPC)\n",
    "\n",
    "        outputFun = Dict('ϕ' => ϕ,\n",
    "                        't' => timeSol,\n",
    "                        'f' => flag, \n",
    "                        'u' => uArray,\n",
    "                        's' => yspArray,\n",
    "                        'x' => xDRTOArray,\n",
    "                        'y' => yDRTOArray, \n",
    "                        'm' => xDRTOArray,\n",
    "                        'c' => yDRTOArray)\n",
    "        \n",
    "        if option == 2 || option == 3\n",
    "            muArray = value.(mu_g)\n",
    "            merge!(outputFun,Dict('μ'=> muArray))\n",
    "        end\n",
    "        \n",
    "        return outputFun\n",
    "    else\n",
    "        # Handle other cases.\n",
    "        outputFun = Dict('f' => 0,\n",
    "                         't' => NaN,\n",
    "                         'ϕ' => NaN)\n",
    "                        \n",
    "        \n",
    "        return outputFun\n",
    "    end\n",
    "end;"
   ]
  },
  {
   "cell_type": "markdown",
   "id": "e2a35860",
   "metadata": {},
   "source": [
    "# Decomposition of CLDRTO Problem"
   ]
  },
  {
   "cell_type": "markdown",
   "id": "b2f632eb",
   "metadata": {},
   "source": [
    "- Modeling Subproblem"
   ]
  },
  {
   "cell_type": "code",
   "execution_count": 13,
   "id": "1c652a26",
   "metadata": {},
   "outputs": [],
   "source": [
    "## Modeling the sub problem (scenario) -- modeling inside a function\n",
    "function subp(xInit,uInit,ysp_fixed,nReac,nScen,pScen,solNom,option)\n",
    "    ###########\n",
    "    # inputs: #\n",
    "    ###########\n",
    "    # xInit - states at the current iteration (beginning of DRTO horizon)\n",
    "    # uInit - inputs at the current iteration, already implemented on the plant\n",
    "    # ysp_fixed - setpoints fixed by the Master Problem --> nonanticipativity constraints\n",
    "    # nReac - number of parallel reactors\n",
    "    # nScen - number of scenarios used in the problem (only one branching)\n",
    "    # pScen - probability of the scenarios\n",
    "    # solNom - nominal solution\n",
    "    # option - strategy for solving MPC \n",
    "        # for now, code only works for option = 3\n",
    "\n",
    "    # Creating MPC matrices\n",
    "    mpc = MPC_matrices(nReac)\n",
    "    \n",
    "    # Creating DRTO matrices\n",
    "    \n",
    "    # recomputing the number of total scenarios based on scenario probability and the fact that the scenarios have the same probability\n",
    "    nScenTotal = ceil(Int,1/pScen)    \n",
    "    drto = DRTO_matrix(nReac,nScen,nScenTotal)\n",
    "    \n",
    "    # Define subproblem model  #== 3\n",
    "    if option == 3 || option == 1\n",
    "        sub = Model(Ipopt.Optimizer)\n",
    "        set_optimizer_attribute(sub, \"max_cpu_time\", 300.0) # 5 min\n",
    "    else \n",
    "        sub = Model(CPLEX.Optimizer)\n",
    "        set_optimizer_attribute(sub, \"CPX_PARAM_TILIM\", 300.0) # 5 min\n",
    "    end\n",
    "    set_silent(sub) # avoid printing\n",
    "    \n",
    "    ####################\n",
    "    # Set up variables #\n",
    "    ####################\n",
    "    # DRTO model variables\n",
    "    @variable(sub, xDRTO[1:pD, 1:nx])\n",
    "    @variable(sub, yDRTO[1:pD])\n",
    "    \n",
    "    # MPC model variables\n",
    "    @variable(sub, xMPC[1:pD, 1:nx])\n",
    "    @variable(sub, yMPC[1:pD])\n",
    "\n",
    "    # MPC <-> DRTO model deviation\n",
    "    @variable(sub, de[1:pD])\n",
    "    \n",
    "    # inputs computed by MPCs\n",
    "    @variable(sub, u[1:pD,1:m])\n",
    "    if option == 1\n",
    "        @variable(sub, u_w_c[1:pD,1:m]) # inputs w/o clipping\n",
    "    \n",
    "        # input clipping \n",
    "        @variable(sub, mu_lb[1:pD,1:m] ≥ 0)\n",
    "        @variable(sub, eta_lb[1:pD,1:m] ≥ 0)\n",
    "        @variable(sub, mu_ub[1:pD,1:m] ≥ 0)\n",
    "        @variable(sub, eta_ub[1:pD,1:m] ≥ 0)       \n",
    "    end\n",
    "    \n",
    "    # setpoints for the controllers sent to the plant (CL-DRTO degrees of freedom)\n",
    "    @variable(sub, (yspMin - y0) ≤ ysp[1:pD] ≤ (yspMax - y0))\n",
    "        \n",
    "    # slacks for controlling setpoint into a zone\n",
    "    @variable(sub, delta_p[1:pD] ≥ 0)\n",
    "    \n",
    "    if option == 2 || option == 3\n",
    "        @variable(sub, mu_g[1:mD,1:(2*m)] ≥ 0) # upper and lower bounds for each input\n",
    "    end\n",
    "    if option == 2\n",
    "        @variable(sub, Y_lb[1:mD,1:m], start = 0) # Relaxing binaries for big-M implementation\n",
    "        @variable(sub, Y_ub[1:mD,1:m], start = 0) \n",
    "    end\n",
    "    \n",
    "    ########################\n",
    "    # Set up initial guess #\n",
    "    ########################\n",
    "    if solNom isa Dict\n",
    "        for ii in 1:pD\n",
    "            set_start_value(yDRTO[ii], solNom['y'][ii,1]) \n",
    "            set_start_value(yMPC[ii], solNom['c'][ii,1])\n",
    "            #set_start_value(ysp[ii], solNom['s'][ii,1])\n",
    "\n",
    "            for rr in 1:nReac # when nReac increases, the number of states change!\n",
    "                for xx in 1:2 # N.B. nx/reactor is hardcoded here... (maybe use nx/reactor as a function input) \n",
    "                    set_start_value(xDRTO[ii,xx + (rr - 1)*2], solNom['x'][ii,xx,1])    \n",
    "                    set_start_value(xMPC[ii,xx + (rr - 1)*2], solNom['m'][ii,xx,1])           \n",
    "                end # end xx\n",
    "            end # number \n",
    "                \n",
    "            for uu in 1:m\n",
    "                set_start_value(u[ii,uu], solNom['u'][ii,uu,1])\n",
    "            end # end of uu\n",
    "        end # eend of ii\n",
    "    end # end of if\n",
    "\n",
    "    ######################################\n",
    "    # Set up constraints and expressions #\n",
    "    ######################################\n",
    "    # Dynamic RTO model (linear)\n",
    "    @constraint(sub, CLDRTO_dyn_model_1, xDRTO[1,:] .== drto['A']*xInit + drto['B']*uInit)\n",
    "    @constraint(sub, CLDRTO_dyn_model[kk=1:(pD - 1)], xDRTO[kk + 1,:] .== drto['A']*xDRTO[kk,:] + drto['B']*u[kk,1])\n",
    "    @constraint(sub, CLDRTO_model_out[kk=1:pD], yDRTO[kk] == dot(drto['C'],xDRTO[kk,:]))\n",
    "\n",
    "    # fixing input after mD\n",
    "    @constraint(sub, control_horizon[kk=(mD+1):pD], u[kk,1] == u[mD,1]);\n",
    "    \n",
    "    # P soft constraints\n",
    "    @constraint(sub, soft_P[kk=1:pD], yDRTO[kk] - delta_p[kk] ≤ pUB)\n",
    "    \n",
    "    # nonanticipativity constraints\n",
    "    @constraint(sub, nonAnt[kk=1:nDRTO], ysp[kk] - ysp_fixed[kk] == 0.0);\n",
    "    \n",
    "    ################\n",
    "    # MPC solution #\n",
    "    ################ \n",
    "    if option == 1\n",
    "        # MPC model (linear)\n",
    "        @constraint(sub, MPC_dyn_model_1, xMPC[1,:] .== mpc['A']*xInit + mpc['B']*uInit)\n",
    "        @constraint(sub, MPC_dyn_model[kk=1:(pD - 1)], xMPC[kk + 1,:] .== mpc['A']*xMPC[kk,:] + mpc['B']*u_w_c[kk,1])\n",
    "        @constraint(sub, MPC_model_out[kk=1:pD], yMPC[kk] == dot(mpc['C'],xMPC[kk,:]))\n",
    "\n",
    "        #  MPC model deviation (disturance)\n",
    "        @constraint(sub, MPC_model_dev[kk=1:pD], de[kk] == yDRTO[kk] - yMPC[kk])\n",
    "\n",
    "        # sequence of Setpoints\n",
    "        @expression(sub, cfT_1, (mpc['Ψ']*[xMPC[1,:];de[1]] - ysp[1:p])'*mpc['Q']*mpc['Θ'] - uInit'*mpc['I']'*mpc['R']*mpc['M'])\n",
    "        @expression(sub, cfT[kk=2:mD], (mpc['Ψ']*[xMPC[kk,:];de[kk]] - ysp[kk:(kk + p - 1)])'*mpc['Q']*mpc['Θ'] - u_w_c[kk-1,1]'*mpc['I']'*mpc['R']*mpc['M'])\n",
    "\n",
    "        # Unconstrained MPC solution  \n",
    "        @constraint(sub, MPC_sol_1, mpc['H']*u_w_c[1,:] + cfT_1' .== 0)\n",
    "        @constraint(sub, MPC_sol[kk=2:mD],mpc['H']*u_w_c[kk,:] + cfT[kk]' .== 0)\n",
    "\n",
    "        # input clipping\n",
    "        @constraint(sub, ic_1[kk = 1:mD,uu = 1:m], u[kk,uu] == u_w_c[kk,uu] - mu_ub[kk,uu] + mu_lb[kk,uu])\n",
    "        @constraint(sub, ic_2[kk = 1:mD,uu = 1:m], (uMax - u0) - u[kk,uu] == eta_ub[kk,uu])\n",
    "        @constraint(sub, ic_3[kk = 1:mD,uu = 1:m], eta_ub[kk,uu]*mu_ub[kk,uu] ≤ 1e-6)\n",
    "        @constraint(sub, ic_4[kk = 1:mD,uu = 1:m], u[kk,uu] - (uMin - u0) == eta_lb[kk,uu])\n",
    "        @constraint(sub, ic_5[kk = 1:mD,uu = 1:m], eta_lb[kk,uu]*mu_lb[kk,uu] ≤ 1e-6)\n",
    "\n",
    "    \n",
    "    elseif option == 2\n",
    "        # MPC model (linear)\n",
    "        @constraint(sub, MPC_dyn_model_1, xMPC[1,:] .== mpc['A']*xInit + mpc['B']*uInit)\n",
    "        @constraint(sub, MPC_dyn_model[kk=1:(pD - 1)], xMPC[kk + 1,:] .== mpc['A']*xMPC[kk,:] + mpc['B']*u[kk,1])\n",
    "        @constraint(sub, MPC_model_out[kk=1:pD], yMPC[kk] == dot(mpc['C'],xMPC[kk,:]))\n",
    "\n",
    "        #  MPC model deviation (disturance)\n",
    "        @constraint(sub, MPC_model_dev[kk=1:pD], de[kk] == yDRTO[kk] - yMPC[kk])\n",
    "\n",
    "        # sequence of Setpoints\n",
    "        @expression(sub, cfT_1, (mpc['Ψ']*[xMPC[1,:];de[1]] - ysp[1:p])'*mpc['Q']*mpc['Θ'] - uInit'*mpc['I']'*mpc['R']*mpc['M'])\n",
    "        @expression(sub, cfT[kk=2:mD], (mpc['Ψ']*[xMPC[kk,:];de[kk]] - ysp[kk:(kk + p - 1)])'*mpc['Q']*mpc['Θ'] - u[kk-1,1]'*mpc['I']'*mpc['R']*mpc['M'])\n",
    "\n",
    "        # Constrained with binaries\n",
    "        # 1. stationarity\n",
    "        @constraint(sub, MPC_sol_1, u[1,:]'*mpc['H'] + cfT_1 +  mu_g[1,:]'*conMatrix .== 0)\n",
    "        @constraint(sub, MPC_sol[kk=2:mD], u[kk,:]'*mpc['H'] + cfT[kk] + mu_g[kk,:]'*conMatrix .== 0)\n",
    "\n",
    "        # 2. primal feasibility\n",
    "        @constraint(sub, MPC_c_upper[kk=1:mD,uu=1:m], u[kk,uu] - (uMax - u0) ≤ 0)\n",
    "        @constraint(sub, MPC_c_lower[kk=1:mD,uu=1:m], (uMin - u0) - u[kk,uu] ≤ 0)\n",
    "    \n",
    "        # 3. complementarity --> using big-M implementation\n",
    "        @constraint(sub, bigM_1[kk=1:mD,uu=1:m], mu_g[kk,uu] ≤ bigM_mu*Y_ub[kk,uu])\n",
    "        @constraint(sub, bigM_2[kk=1:mD,uu=1:m], mu_g[kk,uu + m] ≤ bigM_mu*Y_lb[kk,uu])\n",
    "        @constraint(sub, bigM_3[kk=1:mD,uu=1:m], u[kk,uu] - (uMax - u0) ≥ -bigM_u*(1 - Y_ub[kk,uu]))\n",
    "        @constraint(sub, bigM_4[kk=1:mD,uu=1:m], (uMin - u0) - u[kk,uu] ≥ -bigM_u*(1 - Y_lb[kk,uu]))\n",
    "        \n",
    "        @constraint(sub, compSlack[kk=1:mD,uu=1:m], Y_ub[kk,uu] + Y_lb[kk,uu] ≤ 1)\n",
    "    \n",
    "    elseif option == 3\n",
    "        # MPC model (linear)\n",
    "        @constraint(sub, MPC_dyn_model_1, xMPC[1,:] .== mpc['A']*xInit + mpc['B']*uInit)\n",
    "        @constraint(sub, MPC_dyn_model[kk=1:(pD - 1)], xMPC[kk + 1,:] .== mpc['A']*xMPC[kk,:] + mpc['B']*u[kk,1])\n",
    "        @constraint(sub, MPC_model_out[kk=1:pD], yMPC[kk] == dot(mpc['C'],xMPC[kk,:]))\n",
    "\n",
    "        #  MPC model deviation (disturance)\n",
    "        @constraint(sub, MPC_model_dev[kk=1:pD], de[kk] == yDRTO[kk] - yMPC[kk])\n",
    "\n",
    "        # sequence of Setpoints\n",
    "        @expression(sub, cfT_1, (mpc['Ψ']*[xMPC[1,:];de[1]] - ysp[1:p])'*mpc['Q']*mpc['Θ'] - uInit'*mpc['I']'*mpc['R']*mpc['M'])\n",
    "        @expression(sub, cfT[kk=2:mD], (mpc['Ψ']*[xMPC[kk,:];de[kk]] - ysp[kk:(kk + p - 1)])'*mpc['Q']*mpc['Θ'] - u[kk-1,1]'*mpc['I']'*mpc['R']*mpc['M'])\n",
    "\n",
    "        # Constrained with MPCC\n",
    "        # 1. stationarity\n",
    "        @constraint(sub, MPC_sol_1, u[1,:]'*mpc['H'] + cfT_1 +  mu_g[1,:]'*conMatrix .== 0)\n",
    "        @constraint(sub, MPC_sol[kk=2:mD], u[kk,:]'*mpc['H'] + cfT[kk] + mu_g[kk,:]'*conMatrix .== 0)\n",
    "\n",
    "        # 2. primal feasibility       \n",
    "        @constraint(sub, MPC_c_upper[kk=1:mD,uu=1:m], u[kk,uu] - (uMax - u0) ≤ 0)\n",
    "        @constraint(sub, MPC_c_lower[kk=1:mD,uu=1:m], (uMin - u0) - u[kk,uu] ≤ 0)\n",
    "        \n",
    "        # expression to be used in OF        \n",
    "        @expression(sub, g_u_u[kk=1:mD,uu=1:m], u[kk,uu] - (uMax - u0))\n",
    "        @expression(sub, g_u_l[kk=1:mD,uu=1:m], (uMin - u0) - u[kk,uu])\n",
    "        \n",
    "    end\n",
    "  \n",
    "    #############################\n",
    "    # Set up objective function #\n",
    "    #############################\n",
    "     if option == 1 || option == 2\n",
    "        @objective(sub, Min, \n",
    "            pScen*sum(-yDRTO[kk] + wP*delta_p[kk]^2 for kk in 1:pD)\n",
    "        )\n",
    "    else\n",
    "        @objective(sub, Min, \n",
    "            pScen*sum(-yDRTO[kk] + wP*delta_p[kk]^2 for kk in 1:pD)\n",
    "                    - pScen*pi_bar*sum(\n",
    "                                    sum(mu_g[kk,jj]*g_u_u[kk,jj] for jj = 1:m) +\n",
    "                                    sum(mu_g[kk,jj + m]*g_u_l[kk,jj] for jj = 1:m)\n",
    "                                for kk = 1:mD)\n",
    "        )\n",
    "    end\n",
    "    \n",
    "    # @show sub\n",
    "    #set_optimizer_attribute(sub, \"CPX_PARAM_BARALG\", 1)\n",
    "    \n",
    "    optimize!(sub)\n",
    "    \n",
    "    # solution time\n",
    "    timeSol = solve_time(sub)\n",
    "    \n",
    "    status = termination_status(sub)\n",
    "    #display(status)\n",
    "    \n",
    "    # checking if there is a solution to the problem\n",
    "    if status == MOI.OPTIMAL || status == MOI.ALMOST_OPTIMAL || status == MOI.LOCALLY_SOLVED\n",
    "        # Proved optimality or Optimal within relaxed tolerances\n",
    "        # we add an optimality cut\n",
    "        flag = 1\n",
    "        # #primal_status(m)\n",
    "\n",
    "        #calling values of the solved problem\n",
    "        ϕ = objective_value(sub)\n",
    "        uArray = value.(u)\n",
    "        yspArray = value.(ysp)\n",
    "        yDRTOArray = value.(yDRTO)\n",
    "        yMPCArray = value.(yMPC)\n",
    "        xDRTOArray = value.(xDRTO)\n",
    "        xMPCArray = value.(xMPC)\n",
    "        \n",
    "        # lagrange multipliers associated with the nonantecipativity constraints\n",
    "        λ = dual.(nonAnt)\n",
    "\n",
    "        outputDict = Dict('ϕ' => ϕ,\n",
    "                        't' => timeSol,\n",
    "                        'f' => flag, \n",
    "                        'a' => status,\n",
    "                        'u' => uArray,\n",
    "                        's' => yspArray,\n",
    "                        'x' => xDRTOArray,\n",
    "                        'y' => yDRTOArray, \n",
    "                        'm' => xMPCArray,\n",
    "                        'c' => yMPCArray,\n",
    "                        'λ' => λ)\n",
    "        \n",
    "        # if binaries are used for solving const. MPC\n",
    "        if option == 2\n",
    "            muArray = value.(mu_g)\n",
    "                   \n",
    "            uubBinArray = value.(Y_ub)\n",
    "            ulbBinArray = value.(Y_lb)\n",
    "            \n",
    "            merge!(outputDict,Dict('μ'=> muArray))\n",
    "            merge!(outputDict,Dict('o' => ulbBinArray))\n",
    "            merge!(outputDict,Dict('p' => uubBinArray))\n",
    "            \n",
    "        end\n",
    "        \n",
    "        # if MPCC is used for solving const. MPC\n",
    "        if option == 3\n",
    "            muArray = value.(mu_g)\n",
    "            \n",
    "            merge!(outputDict,Dict('μ'=> muArray))\n",
    "        end\n",
    "        \n",
    "        return outputDict\n",
    "    else\n",
    "        #i.e. no feasible solution --> Add feasibility cut\n",
    "        #display(\"Feasibility cut: scenario $(scen)\")        \n",
    "\n",
    "        # ! soft bounds on ysp\n",
    "        delete_lower_bound.(ysp[1:pD])\n",
    "        delete_upper_bound.(ysp[1:pD])\n",
    "        \n",
    "        if option != 1\n",
    "            # ! soft bounds on mu\n",
    "            delete_lower_bound.(mu_g[1:mD,1:m])\n",
    "            \n",
    "            # ! soft bounds on u\n",
    "            for kk in 1:mD\n",
    "                for uu in 1:m\n",
    "                    delete(sub, MPC_c_upper[kk,uu])\n",
    "                    delete(sub, MPC_c_lower[kk,uu])\n",
    "                end\n",
    "            end\n",
    "        end\n",
    "        \n",
    "        ####################\n",
    "        # Set up variables #\n",
    "        #################### \n",
    "        @variable(sub, delta_ysp_u[1:pD] ≥ 0.0)\n",
    "        @variable(sub, delta_ysp_l[1:pD] ≥ 0.0)\n",
    "        \n",
    "        if option == 2 || option == 3\n",
    "            @variable(sub, delta_mu[1:mD,1:m] ≥ 0.0)\n",
    "            \n",
    "            # slacks\n",
    "            @variable(sub, delta_u_u[1:mD,1:m] ≥ 0.0)\n",
    "            @variable(sub, delta_u_l[1:mD,1:m] ≥ 0.0)\n",
    "        end\n",
    "        \n",
    "        ###########################\n",
    "        # Always-feasible problem #\n",
    "        ###########################                \n",
    "        @constraint(sub, soft_ysp_upper[kk=1:pD], ysp[kk] - (yspMax - y0) ≤ delta_ysp_u[kk])\n",
    "        @constraint(sub, soft_ysp_lower[kk=1:pD], (yspMin - y0) - ysp[kk] ≤ delta_ysp_l[kk])\n",
    "\n",
    "        # adding a constraint to guarantee that mu is always feasible        \n",
    "        if option == 2 || option == 3\n",
    "            @constraint(sub, soft_MPC_mu_upper[kk=1:mD,uu=1:m], -mu_g[kk,uu] ≤ delta_mu[kk,uu])\n",
    "            \n",
    "            # adding a constraint to guarantee feasibility\n",
    "            @constraint(sub, soft_u_upper[kk=1:mD,uu=1:m], u[kk,uu] - (uMax - u0) ≤ delta_u_u[kk,uu])\n",
    "            @constraint(sub, soft_u_lower[kk=1:mD,uu=1:m], (uMin - u0) - u[kk,uu] ≤ delta_u_l[kk,uu])\n",
    "        end\n",
    "        \n",
    "       #############################\n",
    "        # Set up objective function #\n",
    "        #############################\n",
    "        # Modifying the objective --> call @objective with the new objective function.\n",
    "        # minimizing constraint violation - l1 penalty!\n",
    "        if option == 2 || option == 3\n",
    "            @objective(sub, Min, sum(delta_p[kk] + delta_ysp_u[kk] + delta_ysp_l[kk] for kk in 1:pD)\n",
    "                    + sum(sum(delta_mu[kk,uu] + delta_u_u[kk,uu] + delta_u_l[kk,uu] for uu in 1:m) for kk in 1:mD))\n",
    "        else\n",
    "            @objective(sub, Min, sum(delta_p[kk] + delta_ysp_u[kk] + delta_ysp_l[kk] for kk in 1:pD))\n",
    "        end\n",
    "        \n",
    "        #@show sub\n",
    "        #set_optimizer_attribute(sub, \"CPX_PARAM_BARALG\", 1)\n",
    "\n",
    "        # re-optimizing (now using the always feasible problem)\n",
    "        optimize!(sub)\n",
    "        \n",
    "        # solution time (adding time to solve the always feasible subproblem)\n",
    "        timeSol = timeSol + solve_time(sub)\n",
    "        \n",
    "        # checking status of the solution\n",
    "        status_sub = termination_status(sub)\n",
    "        \n",
    "        # flag for calling feasibility cuts (not optimality cuts)\n",
    "        flag = 0\n",
    "        \n",
    "        #calling values of the solved problem\n",
    "        uArray = value.(u)\n",
    "        yspArray = value.(ysp)\n",
    "        yDRTOArray = value.(yDRTO)\n",
    "        yMPCArray = value.(yMPC)\n",
    "        xDRTOArray = value.(xDRTO)\n",
    "        xMPCArray = value.(xMPC)\n",
    "    \n",
    "        # objective function of the feasibility problem\n",
    "        o = objective_value(sub)\n",
    "        \n",
    "        # lagrange multipliers associated with the nonantecipativity constraints and binaries from master problem\n",
    "        λ = dual.(nonAnt)\n",
    "        \n",
    "        outputDict = Dict('ϕ' => o,\n",
    "                        't' => timeSol,\n",
    "                        'f' => flag, \n",
    "                        'a' => status_sub,\n",
    "                        'u' => uArray,\n",
    "                        's' => yspArray,\n",
    "                        'x' => xDRTOArray,\n",
    "                        'y' => yDRTOArray, \n",
    "                        'm' => xMPCArray,\n",
    "                        'c' => yMPCArray,\n",
    "                        'λ' => λ)\n",
    "        \n",
    "         if option == 2 || option == 3     \n",
    "            #delta_muArray = value.(delta_mu)\n",
    "            #delta_ulArray = value.(delta_u_l)\n",
    "            #delta_uuArray = value.(delta_u_u)\n",
    "            \n",
    "            muArray = value.(mu_g)\n",
    "            merge!(outputDict,Dict('μ'=> muArray))\n",
    "        end\n",
    "        \n",
    "        return outputDict\n",
    "    end\n",
    "end;"
   ]
  },
  {
   "cell_type": "markdown",
   "id": "1690f637",
   "metadata": {},
   "source": [
    "- Modeling Bender's Master Problem"
   ]
  },
  {
   "cell_type": "code",
   "execution_count": 14,
   "id": "6550488c",
   "metadata": {},
   "outputs": [],
   "source": [
    "## Modeling Benders Decompostion\n",
    "function BENS_CLDRTO(xInit,uInit,nReac,nScen,pScen,solNom,option)\n",
    "    \n",
    "    \n",
    "    # flag for checking if last cut was opt. (1) or feas. (0)\n",
    "    flagO = 1\n",
    "    \n",
    "    # timing solution via Benders\n",
    "    timeSolBen = 0 \n",
    "    # timing solution via parallel Benders\n",
    "    timeSolParBen = 0 \n",
    "    \n",
    "    # Define master problem model\n",
    "    master = Model(CPLEX.Optimizer)\n",
    "    set_silent(master)\n",
    "    \n",
    "    #lower bound on scenario objective function approximation \n",
    "    alpha_down = -10.0;\n",
    "    \n",
    "    ####################\n",
    "    # Set up variables #\n",
    "    ####################\n",
    "    @variable(master,  (yspMin - y0) <= ysp[1:nDRTO] <=  (yspMax - y0))     \n",
    "    @variable(master, α ≥ alpha_down)\n",
    "    \n",
    "    ########################\n",
    "    # Set up initial guess #\n",
    "    ########################\n",
    "    if solNom isa Dict\n",
    "        for ii in 1:nDRTO\n",
    "            set_start_value(ysp[ii], solNom['s'][ii,1])\n",
    "        end \n",
    "    end \n",
    " \n",
    "    ################################################\n",
    "    # Solving problem with benders' decomposition  #\n",
    "    ################################################\n",
    "    for ii in 1:benIterMax\n",
    "           \n",
    "        #############################\n",
    "        # Set up objective function #\n",
    "        #############################\n",
    "        if flagO == 1 \n",
    "            # last cut was an optimality cut\n",
    "            # standard OF\n",
    "            @objective(master, Min, α)\n",
    "        else\n",
    "            # last cut was a feasibility cut\n",
    "            # \"nudge\" next solution towards nominal solution \n",
    "            @objective(master, Min, α + 0.0*sum((ysp[kk] - solNom['s'][kk,1])^2 for kk in 1:nDRTO))\n",
    "        end\n",
    "        \n",
    "            # solve master problem (with Benders' cut)\n",
    "            optimize!(master)\n",
    "\n",
    "            # solution time\n",
    "            timeSolMaster = solve_time(master)\n",
    "            # Master problem solution: lower bound of the original problem\n",
    "            lb = objective_value(master)\n",
    "            #display(lb)\n",
    "\n",
    "            # extracting solution for the non-anticipativity constraints\n",
    "            ysp_nonⁱ = value.(ysp)\n",
    "            #display(ysp_nonⁱ)\n",
    "\n",
    "        timeSolBen = timeSolBen + timeSolMaster\n",
    "        timeSolParBen = timeSolParBen + timeSolMaster # master cannot be paralellized \n",
    "\n",
    "        #######################\n",
    "        # Solving subproblems #\n",
    "        #######################\n",
    "        # objective function\n",
    "        o_temp = Vector{Float64}(undef,nScen)\n",
    "        # flag optimality / feasibility\n",
    "        flag_temp = Vector{Float64}(undef,nScen)\n",
    "        # solution time\n",
    "        solTime_temp = Vector{Float64}(undef,nScen)\n",
    "        # multipliers\n",
    "        lambdaN_temp = Matrix{Float64}(undef,nDRTO,nScen) \n",
    "        \n",
    "        for ss in 1:nScen\n",
    "            dicTemp = subp(xInit,uInit,ysp_nonⁱ,nReac,ss,pScen,solNom,option)\n",
    "           \n",
    "            # saving files\n",
    "            # objective function\n",
    "            o_temp[ss] = dicTemp['ϕ']\n",
    "            # solution time\n",
    "            solTime_temp[ss] = dicTemp['t']\n",
    "            # optimality / feasibility flag\n",
    "            flag_temp[ss] = dicTemp['f']\n",
    "            # multiplier\n",
    "            for kk in 1:nDRTO\n",
    "                lambdaN_temp[kk,ss] = dicTemp['λ'][kk]\n",
    "            end\n",
    "            \n",
    "        end\n",
    "        \n",
    "        ##########################################################\n",
    "        # If all subproblems were feasible, check optimality gap #\n",
    "        ##########################################################\n",
    "        if sum(flag_temp) == nScen \n",
    "            # Subproblem solution: upper bound of the original problem\n",
    "            ub = sum(o_temp)\n",
    "\n",
    "            # solve subproblems to find the upper bound of the original problem solution \n",
    "            timeSolBen = timeSolBen + sum(solTime_temp)\n",
    "\n",
    "            # assuming that subproblem solution is parallelized\n",
    "            timeSolParBen = timeSolParBen + maximum(solTime_temp)   \n",
    "            \n",
    "            # compute optimality gap\n",
    "            gap = abs(ub - lb)/abs(ub)\n",
    "            #display(gap)\n",
    "\n",
    "            # check if optimality gap is small enough\n",
    "            # also, make sure last cut was an optimality cut due to change in OF \n",
    "            if gap < optGap && flagO == 1\n",
    "                global yspSol_dec = ysp_nonⁱ\n",
    "                global objFun_dec = ub\n",
    "                global optGap_dec = gap\n",
    "                global iter_dec = ii\n",
    "                global time_dec = timeSolBen\n",
    "                global time_max_dec = timeSolParBen\n",
    "                break\n",
    "            else # gap ≥ optGap \n",
    "                ##############################\n",
    "                # --> adding optimality cuts #\n",
    "                ##############################\n",
    "                display(\">>>>>> iteration $(ii):O\")\n",
    "                benderscutO = @constraint(master, α ≥ ub + \n",
    "                    sum(sum(lambdaN_temp[jj,ss] for ss in 1:nScen)*(ysp[jj] - ysp_nonⁱ[jj]) for jj in 1:nDRTO))\n",
    "                #@info \"we are adding this bender optimality cut $(benderscutO)\"\n",
    "                \n",
    "                # optimality cut was add\n",
    "                flagO = 1\n",
    "            \n",
    "            end # if gap\n",
    "        else # sum(flag_temp) != nScen\n",
    "            ###############################\n",
    "            # --> adding feasibility cuts #\n",
    "            ###############################\n",
    "            display(\">>>>>> iteration $(ii):F\")\n",
    "\n",
    "            benderscutF = @constraint(master, 0 ≥\n",
    "                sum(sum(lambdaN_temp[jj,ss] for ss in 1:nScen)*(ysp[jj] - ysp_nonⁱ[jj]) for jj in 1:nDRTO))\n",
    "            #@info \"we are adding this bender feasibility cut $(benderscutF)\"\n",
    "            \n",
    "            # feasibility cut was add\n",
    "            flagO = 0\n",
    "            \n",
    "        end # if nScen\n",
    "        \n",
    "        # checking if number of iterations reached max \n",
    "        if ii < benIterMax\n",
    "            global yspSol_dec = [NaN for kk=1:nDRTO]\n",
    "            global objFun_dec = NaN\n",
    "            global optGap_dec = NaN\n",
    "            global iter_dec = benIterMax\n",
    "            global time_dec = timeSolBen\n",
    "            global time_max_dec = timeSolParBen\n",
    "        end # if < benIterMax\n",
    "    end # if for benders iterations\n",
    "    \n",
    "    #####################\n",
    "    # Extracting values #\n",
    "    #####################\n",
    "    if isnan(objFun_dec)\n",
    "        \n",
    "        outputFun = Dict('t' => time_dec,\n",
    "                         'ϕ' => objFun_dec,\n",
    "                         'τ' => time_max_dec, \n",
    "                         'i' => iter_dec,\n",
    "                         'd' => yspSol_dec,\n",
    "                         'g' => optGap_dec)\n",
    "                        \n",
    "        \n",
    "        return outputFun\n",
    "        \n",
    "    else\n",
    "        # recomputing values\n",
    "        uArray = [subp(xInit,uInit,yspSol_dec,nReac,ss,pScen,solNom,option)['u']' for ss in 1:nScen]\n",
    "        yArray = [subp(xInit,uInit,yspSol_dec,nReac,ss,pScen,solNom,option)['y']' for ss in 1:nScen] \n",
    "        yspArray = [subp(xInit,uInit,yspSol_dec,nReac,ss,pScen,solNom,option)['s']' for ss in 1:nScen]\n",
    "\n",
    "        #calling values of the solved problem\n",
    "        return Dict('ϕ' => objFun_dec, \n",
    "                    'd' => yspSol_dec, \n",
    "                    't' => time_dec,\n",
    "                    'm' => time_max_dec, \n",
    "                    'i' => iter_dec,\n",
    "                    'g' => optGap_dec,\n",
    "                    'u' => uArray, \n",
    "                    'y' => yArray, \n",
    "                    's' => yspArray)\n",
    "    end\n",
    "end;"
   ]
  },
  {
   "cell_type": "markdown",
   "id": "5e551fe0",
   "metadata": {},
   "source": [
    "# Implementing CL-DRTO in closed loop with the plant\n",
    "\n",
    "Here we run a Monte Carlo Analysis of the CL-DRTO results. The plant gain is drawn at each MC iteration and the DRTO has access to the lower and upper bound of that distribution to create the scenarios. \n",
    "\n",
    "We use the same formulation as above with 3 scenarios and 5 reactors for comparing the monolithic and decomposed implementations"
   ]
  },
  {
   "cell_type": "code",
   "execution_count": 15,
   "id": "a73f73c0",
   "metadata": {},
   "outputs": [
    {
     "name": "stdout",
     "output_type": "stream",
     "text": [
      "\n",
      "******************************************************************************\n",
      "This program contains Ipopt, a library for large-scale nonlinear optimization.\n",
      " Ipopt is released as open source code under the Eclipse Public License (EPL).\n",
      "         For more information visit https://github.com/coin-or/Ipopt\n",
      "******************************************************************************\n",
      "\n"
     ]
    }
   ],
   "source": [
    "# Computing nominal solution #\n",
    "#number of scenarios \n",
    "scenNom = 1\n",
    "#equiprobable scenarios\n",
    "pNom = 1.0\n",
    "#number of reactors \n",
    "reacNom = 1\n",
    "# number of states of the nominal solution\n",
    "nx = 2*reacNom\n",
    "\n",
    "solNominal = MS_CLDRTO(x0,u0,reacNom,scenNom,pNom,0,3);"
   ]
  },
  {
   "cell_type": "code",
   "execution_count": 16,
   "id": "4135986c",
   "metadata": {},
   "outputs": [],
   "source": [
    "# Monte Carlo iterations\n",
    "n_MC = 10\n",
    "\n",
    "# Simulation time in sampling periods\n",
    "nsim = 20\n",
    "\n",
    "# plant information\n",
    "nS_MC = 3 # number of scenarios 3 \n",
    "nR_MC = 5 # number of reactors in parallel \n",
    "opti_MC = 3 # MPC solution method \n",
    "\n",
    "#equiprobable scenarios\n",
    "pS_MC = 1.0/nS_MC\n",
    "\n",
    "# Number of states\n",
    "nx = 2*nR_MC\n",
    "\n",
    "# Creating MPC matrices\n",
    "mpc = MPC_matrices(nR_MC)\n",
    "\n",
    "# time series for plotting\n",
    "xPlant = Array{Float64}(undef,nx,nsim,n_MC,2) \n",
    "yPlant = Array{Float64}(undef,nsim,n_MC,2) \n",
    "uPlant = Array{Float64}(undef,nsim,n_MC,2) \n",
    "\n",
    "xMPCmodel = Array{Float64}(undef,nx,nsim,n_MC,2)\n",
    "yMPCmodel = Array{Float64}(undef,nsim,n_MC,2) \n",
    "dev_plant_MPCmodel = Array{Float64}(undef,nsim,n_MC,2);"
   ]
  },
  {
   "cell_type": "markdown",
   "id": "b783955c",
   "metadata": {},
   "source": [
    "## Plant simulation"
   ]
  },
  {
   "cell_type": "code",
   "execution_count": 17,
   "id": "87143f73",
   "metadata": {},
   "outputs": [
    {
     "name": "stdout",
     "output_type": "stream",
     "text": [
      "MC: 1>> Time: 1\n",
      "MC: 1>> Time: 2\n",
      "MC: 1>> Time: 3\n",
      "MC: 1>> Time: 4\n",
      "MC: 1>> Time: 5\n",
      "MC: 1>> Time: 6\n",
      "MC: 1>> Time: 7\n",
      "MC: 1>> Time: 8\n",
      "MC: 1>> Time: 9\n",
      "MC: 1>> Time: 10\n",
      "MC: 1>> Time: 11\n",
      "MC: 1>> Time: 12\n",
      "MC: 1>> Time: 13\n",
      "MC: 1>> Time: 14\n",
      "MC: 1>> Time: 15\n",
      "MC: 1>> Time: 16\n",
      "MC: 1>> Time: 17\n",
      "MC: 1>> Time: 18\n",
      "MC: 1>> Time: 19\n",
      "MC: 1>> Time: 20\n",
      "MC: 1>> Time: 1\n"
     ]
    },
    {
     "data": {
      "text/plain": [
       "\">>>>>> iteration 1:O\""
      ]
     },
     "metadata": {},
     "output_type": "display_data"
    },
    {
     "data": {
      "text/plain": [
       "\">>>>>> iteration 2:O\""
      ]
     },
     "metadata": {},
     "output_type": "display_data"
    },
    {
     "data": {
      "text/plain": [
       "\">>>>>> iteration 3:O\""
      ]
     },
     "metadata": {},
     "output_type": "display_data"
    },
    {
     "data": {
      "text/plain": [
       "\">>>>>> iteration 4:O\""
      ]
     },
     "metadata": {},
     "output_type": "display_data"
    },
    {
     "data": {
      "text/plain": [
       "\">>>>>> iteration 5:O\""
      ]
     },
     "metadata": {},
     "output_type": "display_data"
    },
    {
     "data": {
      "text/plain": [
       "\">>>>>> iteration 6:O\""
      ]
     },
     "metadata": {},
     "output_type": "display_data"
    },
    {
     "data": {
      "text/plain": [
       "\">>>>>> iteration 7:O\""
      ]
     },
     "metadata": {},
     "output_type": "display_data"
    },
    {
     "data": {
      "text/plain": [
       "\">>>>>> iteration 8:O\""
      ]
     },
     "metadata": {},
     "output_type": "display_data"
    },
    {
     "data": {
      "text/plain": [
       "\">>>>>> iteration 9:O\""
      ]
     },
     "metadata": {},
     "output_type": "display_data"
    },
    {
     "data": {
      "text/plain": [
       "\">>>>>> iteration 10:O\""
      ]
     },
     "metadata": {},
     "output_type": "display_data"
    },
    {
     "data": {
      "text/plain": [
       "\">>>>>> iteration 11:O\""
      ]
     },
     "metadata": {},
     "output_type": "display_data"
    },
    {
     "data": {
      "text/plain": [
       "\">>>>>> iteration 12:O\""
      ]
     },
     "metadata": {},
     "output_type": "display_data"
    },
    {
     "data": {
      "text/plain": [
       "\">>>>>> iteration 13:F\""
      ]
     },
     "metadata": {},
     "output_type": "display_data"
    },
    {
     "data": {
      "text/plain": [
       "\">>>>>> iteration 14:O\""
      ]
     },
     "metadata": {},
     "output_type": "display_data"
    },
    {
     "data": {
      "text/plain": [
       "\">>>>>> iteration 15:O\""
      ]
     },
     "metadata": {},
     "output_type": "display_data"
    },
    {
     "data": {
      "text/plain": [
       "\">>>>>> iteration 16:O\""
      ]
     },
     "metadata": {},
     "output_type": "display_data"
    },
    {
     "data": {
      "text/plain": [
       "\">>>>>> iteration 17:O\""
      ]
     },
     "metadata": {},
     "output_type": "display_data"
    },
    {
     "name": "stdout",
     "output_type": "stream",
     "text": [
      "MC: 1>> Time: 2\n",
      "MC: 1>> Time: 3\n",
      "MC: 1>> Time: 4\n"
     ]
    },
    {
     "data": {
      "text/plain": [
       "\">>>>>> iteration 1:O\""
      ]
     },
     "metadata": {},
     "output_type": "display_data"
    },
    {
     "data": {
      "text/plain": [
       "\">>>>>> iteration 2:O\""
      ]
     },
     "metadata": {},
     "output_type": "display_data"
    },
    {
     "data": {
      "text/plain": [
       "\">>>>>> iteration 3:O\""
      ]
     },
     "metadata": {},
     "output_type": "display_data"
    },
    {
     "data": {
      "text/plain": [
       "\">>>>>> iteration 4:O\""
      ]
     },
     "metadata": {},
     "output_type": "display_data"
    },
    {
     "data": {
      "text/plain": [
       "\">>>>>> iteration 5:O\""
      ]
     },
     "metadata": {},
     "output_type": "display_data"
    },
    {
     "data": {
      "text/plain": [
       "\">>>>>> iteration 6:O\""
      ]
     },
     "metadata": {},
     "output_type": "display_data"
    },
    {
     "data": {
      "text/plain": [
       "\">>>>>> iteration 7:O\""
      ]
     },
     "metadata": {},
     "output_type": "display_data"
    },
    {
     "data": {
      "text/plain": [
       "\">>>>>> iteration 8:O\""
      ]
     },
     "metadata": {},
     "output_type": "display_data"
    },
    {
     "data": {
      "text/plain": [
       "\">>>>>> iteration 9:O\""
      ]
     },
     "metadata": {},
     "output_type": "display_data"
    },
    {
     "data": {
      "text/plain": [
       "\">>>>>> iteration 10:O\""
      ]
     },
     "metadata": {},
     "output_type": "display_data"
    },
    {
     "data": {
      "text/plain": [
       "\">>>>>> iteration 11:O\""
      ]
     },
     "metadata": {},
     "output_type": "display_data"
    },
    {
     "data": {
      "text/plain": [
       "\">>>>>> iteration 12:O\""
      ]
     },
     "metadata": {},
     "output_type": "display_data"
    },
    {
     "data": {
      "text/plain": [
       "\">>>>>> iteration 13:O\""
      ]
     },
     "metadata": {},
     "output_type": "display_data"
    },
    {
     "data": {
      "text/plain": [
       "\">>>>>> iteration 14:O\""
      ]
     },
     "metadata": {},
     "output_type": "display_data"
    },
    {
     "data": {
      "text/plain": [
       "\">>>>>> iteration 15:O\""
      ]
     },
     "metadata": {},
     "output_type": "display_data"
    },
    {
     "data": {
      "text/plain": [
       "\">>>>>> iteration 16:O\""
      ]
     },
     "metadata": {},
     "output_type": "display_data"
    },
    {
     "data": {
      "text/plain": [
       "\">>>>>> iteration 17:O\""
      ]
     },
     "metadata": {},
     "output_type": "display_data"
    },
    {
     "name": "stdout",
     "output_type": "stream",
     "text": [
      "MC: 1>> Time: 5\n",
      "MC: 1>> Time: 6\n",
      "MC: 1>> Time: 7\n",
      "MC: 1>> Time: 8\n"
     ]
    },
    {
     "data": {
      "text/plain": [
       "\">>>>>> iteration 1:O\""
      ]
     },
     "metadata": {},
     "output_type": "display_data"
    },
    {
     "data": {
      "text/plain": [
       "\">>>>>> iteration 2:O\""
      ]
     },
     "metadata": {},
     "output_type": "display_data"
    },
    {
     "data": {
      "text/plain": [
       "\">>>>>> iteration 3:O\""
      ]
     },
     "metadata": {},
     "output_type": "display_data"
    },
    {
     "data": {
      "text/plain": [
       "\">>>>>> iteration 4:O\""
      ]
     },
     "metadata": {},
     "output_type": "display_data"
    },
    {
     "data": {
      "text/plain": [
       "\">>>>>> iteration 5:O\""
      ]
     },
     "metadata": {},
     "output_type": "display_data"
    },
    {
     "data": {
      "text/plain": [
       "\">>>>>> iteration 6:O\""
      ]
     },
     "metadata": {},
     "output_type": "display_data"
    },
    {
     "data": {
      "text/plain": [
       "\">>>>>> iteration 7:O\""
      ]
     },
     "metadata": {},
     "output_type": "display_data"
    },
    {
     "data": {
      "text/plain": [
       "\">>>>>> iteration 8:O\""
      ]
     },
     "metadata": {},
     "output_type": "display_data"
    },
    {
     "data": {
      "text/plain": [
       "\">>>>>> iteration 9:O\""
      ]
     },
     "metadata": {},
     "output_type": "display_data"
    },
    {
     "data": {
      "text/plain": [
       "\">>>>>> iteration 10:O\""
      ]
     },
     "metadata": {},
     "output_type": "display_data"
    },
    {
     "data": {
      "text/plain": [
       "\">>>>>> iteration 11:O\""
      ]
     },
     "metadata": {},
     "output_type": "display_data"
    },
    {
     "data": {
      "text/plain": [
       "\">>>>>> iteration 12:O\""
      ]
     },
     "metadata": {},
     "output_type": "display_data"
    },
    {
     "data": {
      "text/plain": [
       "\">>>>>> iteration 13:O\""
      ]
     },
     "metadata": {},
     "output_type": "display_data"
    },
    {
     "data": {
      "text/plain": [
       "\">>>>>> iteration 14:O\""
      ]
     },
     "metadata": {},
     "output_type": "display_data"
    },
    {
     "data": {
      "text/plain": [
       "\">>>>>> iteration 15:O\""
      ]
     },
     "metadata": {},
     "output_type": "display_data"
    },
    {
     "data": {
      "text/plain": [
       "\">>>>>> iteration 16:O\""
      ]
     },
     "metadata": {},
     "output_type": "display_data"
    },
    {
     "data": {
      "text/plain": [
       "\">>>>>> iteration 17:O\""
      ]
     },
     "metadata": {},
     "output_type": "display_data"
    },
    {
     "data": {
      "text/plain": [
       "\">>>>>> iteration 18:O\""
      ]
     },
     "metadata": {},
     "output_type": "display_data"
    },
    {
     "data": {
      "text/plain": [
       "\">>>>>> iteration 19:O\""
      ]
     },
     "metadata": {},
     "output_type": "display_data"
    },
    {
     "data": {
      "text/plain": [
       "\">>>>>> iteration 20:O\""
      ]
     },
     "metadata": {},
     "output_type": "display_data"
    },
    {
     "data": {
      "text/plain": [
       "\">>>>>> iteration 21:O\""
      ]
     },
     "metadata": {},
     "output_type": "display_data"
    },
    {
     "data": {
      "text/plain": [
       "\">>>>>> iteration 22:O\""
      ]
     },
     "metadata": {},
     "output_type": "display_data"
    },
    {
     "data": {
      "text/plain": [
       "\">>>>>> iteration 23:O\""
      ]
     },
     "metadata": {},
     "output_type": "display_data"
    },
    {
     "data": {
      "text/plain": [
       "\">>>>>> iteration 24:O\""
      ]
     },
     "metadata": {},
     "output_type": "display_data"
    },
    {
     "data": {
      "text/plain": [
       "\">>>>>> iteration 25:O\""
      ]
     },
     "metadata": {},
     "output_type": "display_data"
    },
    {
     "data": {
      "text/plain": [
       "\">>>>>> iteration 26:O\""
      ]
     },
     "metadata": {},
     "output_type": "display_data"
    },
    {
     "data": {
      "text/plain": [
       "\">>>>>> iteration 27:O\""
      ]
     },
     "metadata": {},
     "output_type": "display_data"
    },
    {
     "data": {
      "text/plain": [
       "\">>>>>> iteration 28:O\""
      ]
     },
     "metadata": {},
     "output_type": "display_data"
    },
    {
     "data": {
      "text/plain": [
       "\">>>>>> iteration 29:O\""
      ]
     },
     "metadata": {},
     "output_type": "display_data"
    },
    {
     "data": {
      "text/plain": [
       "\">>>>>> iteration 30:O\""
      ]
     },
     "metadata": {},
     "output_type": "display_data"
    },
    {
     "data": {
      "text/plain": [
       "\">>>>>> iteration 31:O\""
      ]
     },
     "metadata": {},
     "output_type": "display_data"
    },
    {
     "name": "stdout",
     "output_type": "stream",
     "text": [
      "MC: 1>> Time: 9\n",
      "MC: 1>> Time: 10\n",
      "MC: 1>> Time: 11\n",
      "MC: 1>> Time: 12\n"
     ]
    },
    {
     "data": {
      "text/plain": [
       "\">>>>>> iteration 1:O\""
      ]
     },
     "metadata": {},
     "output_type": "display_data"
    },
    {
     "data": {
      "text/plain": [
       "\">>>>>> iteration 2:O\""
      ]
     },
     "metadata": {},
     "output_type": "display_data"
    },
    {
     "data": {
      "text/plain": [
       "\">>>>>> iteration 3:O\""
      ]
     },
     "metadata": {},
     "output_type": "display_data"
    },
    {
     "data": {
      "text/plain": [
       "\">>>>>> iteration 4:O\""
      ]
     },
     "metadata": {},
     "output_type": "display_data"
    },
    {
     "data": {
      "text/plain": [
       "\">>>>>> iteration 5:O\""
      ]
     },
     "metadata": {},
     "output_type": "display_data"
    },
    {
     "data": {
      "text/plain": [
       "\">>>>>> iteration 6:O\""
      ]
     },
     "metadata": {},
     "output_type": "display_data"
    },
    {
     "data": {
      "text/plain": [
       "\">>>>>> iteration 7:O\""
      ]
     },
     "metadata": {},
     "output_type": "display_data"
    },
    {
     "data": {
      "text/plain": [
       "\">>>>>> iteration 8:O\""
      ]
     },
     "metadata": {},
     "output_type": "display_data"
    },
    {
     "data": {
      "text/plain": [
       "\">>>>>> iteration 9:O\""
      ]
     },
     "metadata": {},
     "output_type": "display_data"
    },
    {
     "data": {
      "text/plain": [
       "\">>>>>> iteration 10:O\""
      ]
     },
     "metadata": {},
     "output_type": "display_data"
    },
    {
     "data": {
      "text/plain": [
       "\">>>>>> iteration 11:O\""
      ]
     },
     "metadata": {},
     "output_type": "display_data"
    },
    {
     "data": {
      "text/plain": [
       "\">>>>>> iteration 12:O\""
      ]
     },
     "metadata": {},
     "output_type": "display_data"
    },
    {
     "data": {
      "text/plain": [
       "\">>>>>> iteration 13:O\""
      ]
     },
     "metadata": {},
     "output_type": "display_data"
    },
    {
     "data": {
      "text/plain": [
       "\">>>>>> iteration 14:O\""
      ]
     },
     "metadata": {},
     "output_type": "display_data"
    },
    {
     "data": {
      "text/plain": [
       "\">>>>>> iteration 15:O\""
      ]
     },
     "metadata": {},
     "output_type": "display_data"
    },
    {
     "data": {
      "text/plain": [
       "\">>>>>> iteration 16:O\""
      ]
     },
     "metadata": {},
     "output_type": "display_data"
    },
    {
     "data": {
      "text/plain": [
       "\">>>>>> iteration 17:O\""
      ]
     },
     "metadata": {},
     "output_type": "display_data"
    },
    {
     "data": {
      "text/plain": [
       "\">>>>>> iteration 18:O\""
      ]
     },
     "metadata": {},
     "output_type": "display_data"
    },
    {
     "data": {
      "text/plain": [
       "\">>>>>> iteration 19:O\""
      ]
     },
     "metadata": {},
     "output_type": "display_data"
    },
    {
     "data": {
      "text/plain": [
       "\">>>>>> iteration 20:O\""
      ]
     },
     "metadata": {},
     "output_type": "display_data"
    },
    {
     "data": {
      "text/plain": [
       "\">>>>>> iteration 21:O\""
      ]
     },
     "metadata": {},
     "output_type": "display_data"
    },
    {
     "data": {
      "text/plain": [
       "\">>>>>> iteration 22:O\""
      ]
     },
     "metadata": {},
     "output_type": "display_data"
    },
    {
     "data": {
      "text/plain": [
       "\">>>>>> iteration 23:O\""
      ]
     },
     "metadata": {},
     "output_type": "display_data"
    },
    {
     "data": {
      "text/plain": [
       "\">>>>>> iteration 24:O\""
      ]
     },
     "metadata": {},
     "output_type": "display_data"
    },
    {
     "data": {
      "text/plain": [
       "\">>>>>> iteration 25:O\""
      ]
     },
     "metadata": {},
     "output_type": "display_data"
    },
    {
     "data": {
      "text/plain": [
       "\">>>>>> iteration 26:O\""
      ]
     },
     "metadata": {},
     "output_type": "display_data"
    },
    {
     "data": {
      "text/plain": [
       "\">>>>>> iteration 27:O\""
      ]
     },
     "metadata": {},
     "output_type": "display_data"
    },
    {
     "data": {
      "text/plain": [
       "\">>>>>> iteration 28:O\""
      ]
     },
     "metadata": {},
     "output_type": "display_data"
    },
    {
     "data": {
      "text/plain": [
       "\">>>>>> iteration 29:O\""
      ]
     },
     "metadata": {},
     "output_type": "display_data"
    },
    {
     "data": {
      "text/plain": [
       "\">>>>>> iteration 30:O\""
      ]
     },
     "metadata": {},
     "output_type": "display_data"
    },
    {
     "data": {
      "text/plain": [
       "\">>>>>> iteration 31:O\""
      ]
     },
     "metadata": {},
     "output_type": "display_data"
    },
    {
     "data": {
      "text/plain": [
       "\">>>>>> iteration 32:O\""
      ]
     },
     "metadata": {},
     "output_type": "display_data"
    },
    {
     "data": {
      "text/plain": [
       "\">>>>>> iteration 33:F\""
      ]
     },
     "metadata": {},
     "output_type": "display_data"
    },
    {
     "data": {
      "text/plain": [
       "\">>>>>> iteration 34:O\""
      ]
     },
     "metadata": {},
     "output_type": "display_data"
    },
    {
     "data": {
      "text/plain": [
       "\">>>>>> iteration 35:O\""
      ]
     },
     "metadata": {},
     "output_type": "display_data"
    },
    {
     "data": {
      "text/plain": [
       "\">>>>>> iteration 36:O\""
      ]
     },
     "metadata": {},
     "output_type": "display_data"
    },
    {
     "name": "stdout",
     "output_type": "stream",
     "text": [
      "MC: 1>> Time: 13\n",
      "MC: 1>> Time: 14\n",
      "MC: 1>> Time: 15\n",
      "MC: 1>> Time: 16\n"
     ]
    },
    {
     "data": {
      "text/plain": [
       "\">>>>>> iteration 1:O\""
      ]
     },
     "metadata": {},
     "output_type": "display_data"
    },
    {
     "data": {
      "text/plain": [
       "\">>>>>> iteration 2:O\""
      ]
     },
     "metadata": {},
     "output_type": "display_data"
    },
    {
     "data": {
      "text/plain": [
       "\">>>>>> iteration 3:O\""
      ]
     },
     "metadata": {},
     "output_type": "display_data"
    },
    {
     "data": {
      "text/plain": [
       "\">>>>>> iteration 4:O\""
      ]
     },
     "metadata": {},
     "output_type": "display_data"
    },
    {
     "data": {
      "text/plain": [
       "\">>>>>> iteration 5:O\""
      ]
     },
     "metadata": {},
     "output_type": "display_data"
    },
    {
     "data": {
      "text/plain": [
       "\">>>>>> iteration 6:O\""
      ]
     },
     "metadata": {},
     "output_type": "display_data"
    },
    {
     "data": {
      "text/plain": [
       "\">>>>>> iteration 7:O\""
      ]
     },
     "metadata": {},
     "output_type": "display_data"
    },
    {
     "data": {
      "text/plain": [
       "\">>>>>> iteration 8:O\""
      ]
     },
     "metadata": {},
     "output_type": "display_data"
    },
    {
     "data": {
      "text/plain": [
       "\">>>>>> iteration 9:O\""
      ]
     },
     "metadata": {},
     "output_type": "display_data"
    },
    {
     "data": {
      "text/plain": [
       "\">>>>>> iteration 10:O\""
      ]
     },
     "metadata": {},
     "output_type": "display_data"
    },
    {
     "data": {
      "text/plain": [
       "\">>>>>> iteration 11:O\""
      ]
     },
     "metadata": {},
     "output_type": "display_data"
    },
    {
     "data": {
      "text/plain": [
       "\">>>>>> iteration 12:O\""
      ]
     },
     "metadata": {},
     "output_type": "display_data"
    },
    {
     "data": {
      "text/plain": [
       "\">>>>>> iteration 13:O\""
      ]
     },
     "metadata": {},
     "output_type": "display_data"
    },
    {
     "data": {
      "text/plain": [
       "\">>>>>> iteration 14:O\""
      ]
     },
     "metadata": {},
     "output_type": "display_data"
    },
    {
     "data": {
      "text/plain": [
       "\">>>>>> iteration 15:O\""
      ]
     },
     "metadata": {},
     "output_type": "display_data"
    },
    {
     "data": {
      "text/plain": [
       "\">>>>>> iteration 16:O\""
      ]
     },
     "metadata": {},
     "output_type": "display_data"
    },
    {
     "data": {
      "text/plain": [
       "\">>>>>> iteration 17:O\""
      ]
     },
     "metadata": {},
     "output_type": "display_data"
    },
    {
     "data": {
      "text/plain": [
       "\">>>>>> iteration 18:O\""
      ]
     },
     "metadata": {},
     "output_type": "display_data"
    },
    {
     "data": {
      "text/plain": [
       "\">>>>>> iteration 19:O\""
      ]
     },
     "metadata": {},
     "output_type": "display_data"
    },
    {
     "data": {
      "text/plain": [
       "\">>>>>> iteration 20:O\""
      ]
     },
     "metadata": {},
     "output_type": "display_data"
    },
    {
     "data": {
      "text/plain": [
       "\">>>>>> iteration 21:O\""
      ]
     },
     "metadata": {},
     "output_type": "display_data"
    },
    {
     "data": {
      "text/plain": [
       "\">>>>>> iteration 22:O\""
      ]
     },
     "metadata": {},
     "output_type": "display_data"
    },
    {
     "data": {
      "text/plain": [
       "\">>>>>> iteration 23:O\""
      ]
     },
     "metadata": {},
     "output_type": "display_data"
    },
    {
     "data": {
      "text/plain": [
       "\">>>>>> iteration 24:O\""
      ]
     },
     "metadata": {},
     "output_type": "display_data"
    },
    {
     "data": {
      "text/plain": [
       "\">>>>>> iteration 25:O\""
      ]
     },
     "metadata": {},
     "output_type": "display_data"
    },
    {
     "data": {
      "text/plain": [
       "\">>>>>> iteration 26:O\""
      ]
     },
     "metadata": {},
     "output_type": "display_data"
    },
    {
     "data": {
      "text/plain": [
       "\">>>>>> iteration 27:O\""
      ]
     },
     "metadata": {},
     "output_type": "display_data"
    },
    {
     "data": {
      "text/plain": [
       "\">>>>>> iteration 28:O\""
      ]
     },
     "metadata": {},
     "output_type": "display_data"
    },
    {
     "data": {
      "text/plain": [
       "\">>>>>> iteration 29:O\""
      ]
     },
     "metadata": {},
     "output_type": "display_data"
    },
    {
     "data": {
      "text/plain": [
       "\">>>>>> iteration 30:O\""
      ]
     },
     "metadata": {},
     "output_type": "display_data"
    },
    {
     "data": {
      "text/plain": [
       "\">>>>>> iteration 31:O\""
      ]
     },
     "metadata": {},
     "output_type": "display_data"
    },
    {
     "data": {
      "text/plain": [
       "\">>>>>> iteration 32:O\""
      ]
     },
     "metadata": {},
     "output_type": "display_data"
    },
    {
     "data": {
      "text/plain": [
       "\">>>>>> iteration 33:O\""
      ]
     },
     "metadata": {},
     "output_type": "display_data"
    },
    {
     "data": {
      "text/plain": [
       "\">>>>>> iteration 34:O\""
      ]
     },
     "metadata": {},
     "output_type": "display_data"
    },
    {
     "data": {
      "text/plain": [
       "\">>>>>> iteration 35:O\""
      ]
     },
     "metadata": {},
     "output_type": "display_data"
    },
    {
     "data": {
      "text/plain": [
       "\">>>>>> iteration 36:O\""
      ]
     },
     "metadata": {},
     "output_type": "display_data"
    },
    {
     "data": {
      "text/plain": [
       "\">>>>>> iteration 37:O\""
      ]
     },
     "metadata": {},
     "output_type": "display_data"
    },
    {
     "data": {
      "text/plain": [
       "\">>>>>> iteration 38:O\""
      ]
     },
     "metadata": {},
     "output_type": "display_data"
    },
    {
     "data": {
      "text/plain": [
       "\">>>>>> iteration 39:O\""
      ]
     },
     "metadata": {},
     "output_type": "display_data"
    },
    {
     "data": {
      "text/plain": [
       "\">>>>>> iteration 40:O\""
      ]
     },
     "metadata": {},
     "output_type": "display_data"
    },
    {
     "name": "stdout",
     "output_type": "stream",
     "text": [
      "MC: 1>> Time: 17\n",
      "MC: 1>> Time: 18\n",
      "MC: 1>> Time: 19\n",
      "MC: 1>> Time: 20\n"
     ]
    },
    {
     "data": {
      "text/plain": [
       "\">>>>>> iteration 1:O\""
      ]
     },
     "metadata": {},
     "output_type": "display_data"
    },
    {
     "data": {
      "text/plain": [
       "\">>>>>> iteration 2:O\""
      ]
     },
     "metadata": {},
     "output_type": "display_data"
    },
    {
     "data": {
      "text/plain": [
       "\">>>>>> iteration 3:O\""
      ]
     },
     "metadata": {},
     "output_type": "display_data"
    },
    {
     "data": {
      "text/plain": [
       "\">>>>>> iteration 4:O\""
      ]
     },
     "metadata": {},
     "output_type": "display_data"
    },
    {
     "data": {
      "text/plain": [
       "\">>>>>> iteration 5:O\""
      ]
     },
     "metadata": {},
     "output_type": "display_data"
    },
    {
     "data": {
      "text/plain": [
       "\">>>>>> iteration 6:O\""
      ]
     },
     "metadata": {},
     "output_type": "display_data"
    },
    {
     "data": {
      "text/plain": [
       "\">>>>>> iteration 7:O\""
      ]
     },
     "metadata": {},
     "output_type": "display_data"
    },
    {
     "data": {
      "text/plain": [
       "\">>>>>> iteration 8:O\""
      ]
     },
     "metadata": {},
     "output_type": "display_data"
    },
    {
     "data": {
      "text/plain": [
       "\">>>>>> iteration 9:O\""
      ]
     },
     "metadata": {},
     "output_type": "display_data"
    },
    {
     "data": {
      "text/plain": [
       "\">>>>>> iteration 10:O\""
      ]
     },
     "metadata": {},
     "output_type": "display_data"
    },
    {
     "data": {
      "text/plain": [
       "\">>>>>> iteration 11:O\""
      ]
     },
     "metadata": {},
     "output_type": "display_data"
    },
    {
     "data": {
      "text/plain": [
       "\">>>>>> iteration 12:O\""
      ]
     },
     "metadata": {},
     "output_type": "display_data"
    },
    {
     "data": {
      "text/plain": [
       "\">>>>>> iteration 13:O\""
      ]
     },
     "metadata": {},
     "output_type": "display_data"
    },
    {
     "data": {
      "text/plain": [
       "\">>>>>> iteration 14:O\""
      ]
     },
     "metadata": {},
     "output_type": "display_data"
    },
    {
     "data": {
      "text/plain": [
       "\">>>>>> iteration 15:O\""
      ]
     },
     "metadata": {},
     "output_type": "display_data"
    },
    {
     "data": {
      "text/plain": [
       "\">>>>>> iteration 16:O\""
      ]
     },
     "metadata": {},
     "output_type": "display_data"
    },
    {
     "data": {
      "text/plain": [
       "\">>>>>> iteration 17:O\""
      ]
     },
     "metadata": {},
     "output_type": "display_data"
    },
    {
     "data": {
      "text/plain": [
       "\">>>>>> iteration 18:O\""
      ]
     },
     "metadata": {},
     "output_type": "display_data"
    },
    {
     "data": {
      "text/plain": [
       "\">>>>>> iteration 19:O\""
      ]
     },
     "metadata": {},
     "output_type": "display_data"
    },
    {
     "data": {
      "text/plain": [
       "\">>>>>> iteration 20:O\""
      ]
     },
     "metadata": {},
     "output_type": "display_data"
    },
    {
     "data": {
      "text/plain": [
       "\">>>>>> iteration 21:O\""
      ]
     },
     "metadata": {},
     "output_type": "display_data"
    },
    {
     "data": {
      "text/plain": [
       "\">>>>>> iteration 22:O\""
      ]
     },
     "metadata": {},
     "output_type": "display_data"
    },
    {
     "data": {
      "text/plain": [
       "\">>>>>> iteration 23:O\""
      ]
     },
     "metadata": {},
     "output_type": "display_data"
    },
    {
     "data": {
      "text/plain": [
       "\">>>>>> iteration 24:O\""
      ]
     },
     "metadata": {},
     "output_type": "display_data"
    },
    {
     "data": {
      "text/plain": [
       "\">>>>>> iteration 25:O\""
      ]
     },
     "metadata": {},
     "output_type": "display_data"
    },
    {
     "data": {
      "text/plain": [
       "\">>>>>> iteration 26:O\""
      ]
     },
     "metadata": {},
     "output_type": "display_data"
    },
    {
     "data": {
      "text/plain": [
       "\">>>>>> iteration 27:O\""
      ]
     },
     "metadata": {},
     "output_type": "display_data"
    },
    {
     "data": {
      "text/plain": [
       "\">>>>>> iteration 28:O\""
      ]
     },
     "metadata": {},
     "output_type": "display_data"
    },
    {
     "data": {
      "text/plain": [
       "\">>>>>> iteration 29:O\""
      ]
     },
     "metadata": {},
     "output_type": "display_data"
    },
    {
     "data": {
      "text/plain": [
       "\">>>>>> iteration 30:O\""
      ]
     },
     "metadata": {},
     "output_type": "display_data"
    },
    {
     "data": {
      "text/plain": [
       "\">>>>>> iteration 31:O\""
      ]
     },
     "metadata": {},
     "output_type": "display_data"
    },
    {
     "data": {
      "text/plain": [
       "\">>>>>> iteration 32:O\""
      ]
     },
     "metadata": {},
     "output_type": "display_data"
    },
    {
     "data": {
      "text/plain": [
       "\">>>>>> iteration 33:O\""
      ]
     },
     "metadata": {},
     "output_type": "display_data"
    },
    {
     "data": {
      "text/plain": [
       "\">>>>>> iteration 34:O\""
      ]
     },
     "metadata": {},
     "output_type": "display_data"
    },
    {
     "data": {
      "text/plain": [
       "\">>>>>> iteration 35:O\""
      ]
     },
     "metadata": {},
     "output_type": "display_data"
    },
    {
     "data": {
      "text/plain": [
       "\">>>>>> iteration 36:O\""
      ]
     },
     "metadata": {},
     "output_type": "display_data"
    },
    {
     "data": {
      "text/plain": [
       "\">>>>>> iteration 37:O\""
      ]
     },
     "metadata": {},
     "output_type": "display_data"
    },
    {
     "name": "stdout",
     "output_type": "stream",
     "text": [
      "MC: 2>> Time: 1\n",
      "MC: 2>> Time: 2\n",
      "MC: 2>> Time: 3\n",
      "MC: 2>> Time: 4\n",
      "MC: 2>> Time: 5\n",
      "MC: 2>> Time: 6\n",
      "MC: 2>> Time: 7\n",
      "MC: 2>> Time: 8\n",
      "MC: 2>> Time: 9\n",
      "MC: 2>> Time: 10\n",
      "MC: 2>> Time: 11\n",
      "MC: 2>> Time: 12\n",
      "MC: 2>> Time: 13\n",
      "MC: 2>> Time: 14\n",
      "MC: 2>> Time: 15\n",
      "MC: 2>> Time: 16\n",
      "MC: 2>> Time: 17\n",
      "MC: 2>> Time: 18\n",
      "MC: 2>> Time: 19\n",
      "MC: 2>> Time: 20\n",
      "MC: 2>> Time: 1\n"
     ]
    },
    {
     "data": {
      "text/plain": [
       "\">>>>>> iteration 1:O\""
      ]
     },
     "metadata": {},
     "output_type": "display_data"
    },
    {
     "data": {
      "text/plain": [
       "\">>>>>> iteration 2:O\""
      ]
     },
     "metadata": {},
     "output_type": "display_data"
    },
    {
     "data": {
      "text/plain": [
       "\">>>>>> iteration 3:O\""
      ]
     },
     "metadata": {},
     "output_type": "display_data"
    },
    {
     "data": {
      "text/plain": [
       "\">>>>>> iteration 4:O\""
      ]
     },
     "metadata": {},
     "output_type": "display_data"
    },
    {
     "data": {
      "text/plain": [
       "\">>>>>> iteration 5:O\""
      ]
     },
     "metadata": {},
     "output_type": "display_data"
    },
    {
     "data": {
      "text/plain": [
       "\">>>>>> iteration 6:O\""
      ]
     },
     "metadata": {},
     "output_type": "display_data"
    },
    {
     "data": {
      "text/plain": [
       "\">>>>>> iteration 7:O\""
      ]
     },
     "metadata": {},
     "output_type": "display_data"
    },
    {
     "data": {
      "text/plain": [
       "\">>>>>> iteration 8:O\""
      ]
     },
     "metadata": {},
     "output_type": "display_data"
    },
    {
     "data": {
      "text/plain": [
       "\">>>>>> iteration 9:O\""
      ]
     },
     "metadata": {},
     "output_type": "display_data"
    },
    {
     "data": {
      "text/plain": [
       "\">>>>>> iteration 10:O\""
      ]
     },
     "metadata": {},
     "output_type": "display_data"
    },
    {
     "data": {
      "text/plain": [
       "\">>>>>> iteration 11:O\""
      ]
     },
     "metadata": {},
     "output_type": "display_data"
    },
    {
     "data": {
      "text/plain": [
       "\">>>>>> iteration 12:O\""
      ]
     },
     "metadata": {},
     "output_type": "display_data"
    },
    {
     "data": {
      "text/plain": [
       "\">>>>>> iteration 13:F\""
      ]
     },
     "metadata": {},
     "output_type": "display_data"
    },
    {
     "data": {
      "text/plain": [
       "\">>>>>> iteration 14:O\""
      ]
     },
     "metadata": {},
     "output_type": "display_data"
    },
    {
     "data": {
      "text/plain": [
       "\">>>>>> iteration 15:O\""
      ]
     },
     "metadata": {},
     "output_type": "display_data"
    },
    {
     "data": {
      "text/plain": [
       "\">>>>>> iteration 16:O\""
      ]
     },
     "metadata": {},
     "output_type": "display_data"
    },
    {
     "data": {
      "text/plain": [
       "\">>>>>> iteration 17:O\""
      ]
     },
     "metadata": {},
     "output_type": "display_data"
    },
    {
     "name": "stdout",
     "output_type": "stream",
     "text": [
      "MC: 2>> Time: 2\n",
      "MC: 2>> Time: 3\n",
      "MC: 2>> Time: 4\n"
     ]
    },
    {
     "data": {
      "text/plain": [
       "\">>>>>> iteration 1:O\""
      ]
     },
     "metadata": {},
     "output_type": "display_data"
    },
    {
     "data": {
      "text/plain": [
       "\">>>>>> iteration 2:O\""
      ]
     },
     "metadata": {},
     "output_type": "display_data"
    },
    {
     "data": {
      "text/plain": [
       "\">>>>>> iteration 3:O\""
      ]
     },
     "metadata": {},
     "output_type": "display_data"
    },
    {
     "data": {
      "text/plain": [
       "\">>>>>> iteration 4:O\""
      ]
     },
     "metadata": {},
     "output_type": "display_data"
    },
    {
     "data": {
      "text/plain": [
       "\">>>>>> iteration 5:O\""
      ]
     },
     "metadata": {},
     "output_type": "display_data"
    },
    {
     "data": {
      "text/plain": [
       "\">>>>>> iteration 6:O\""
      ]
     },
     "metadata": {},
     "output_type": "display_data"
    },
    {
     "data": {
      "text/plain": [
       "\">>>>>> iteration 7:O\""
      ]
     },
     "metadata": {},
     "output_type": "display_data"
    },
    {
     "data": {
      "text/plain": [
       "\">>>>>> iteration 8:O\""
      ]
     },
     "metadata": {},
     "output_type": "display_data"
    },
    {
     "data": {
      "text/plain": [
       "\">>>>>> iteration 9:O\""
      ]
     },
     "metadata": {},
     "output_type": "display_data"
    },
    {
     "data": {
      "text/plain": [
       "\">>>>>> iteration 10:O\""
      ]
     },
     "metadata": {},
     "output_type": "display_data"
    },
    {
     "data": {
      "text/plain": [
       "\">>>>>> iteration 11:O\""
      ]
     },
     "metadata": {},
     "output_type": "display_data"
    },
    {
     "data": {
      "text/plain": [
       "\">>>>>> iteration 12:O\""
      ]
     },
     "metadata": {},
     "output_type": "display_data"
    },
    {
     "data": {
      "text/plain": [
       "\">>>>>> iteration 13:O\""
      ]
     },
     "metadata": {},
     "output_type": "display_data"
    },
    {
     "data": {
      "text/plain": [
       "\">>>>>> iteration 14:O\""
      ]
     },
     "metadata": {},
     "output_type": "display_data"
    },
    {
     "data": {
      "text/plain": [
       "\">>>>>> iteration 15:O\""
      ]
     },
     "metadata": {},
     "output_type": "display_data"
    },
    {
     "data": {
      "text/plain": [
       "\">>>>>> iteration 16:O\""
      ]
     },
     "metadata": {},
     "output_type": "display_data"
    },
    {
     "data": {
      "text/plain": [
       "\">>>>>> iteration 17:O\""
      ]
     },
     "metadata": {},
     "output_type": "display_data"
    },
    {
     "data": {
      "text/plain": [
       "\">>>>>> iteration 18:O\""
      ]
     },
     "metadata": {},
     "output_type": "display_data"
    },
    {
     "data": {
      "text/plain": [
       "\">>>>>> iteration 19:F\""
      ]
     },
     "metadata": {},
     "output_type": "display_data"
    },
    {
     "data": {
      "text/plain": [
       "\">>>>>> iteration 20:O\""
      ]
     },
     "metadata": {},
     "output_type": "display_data"
    },
    {
     "data": {
      "text/plain": [
       "\">>>>>> iteration 21:O\""
      ]
     },
     "metadata": {},
     "output_type": "display_data"
    },
    {
     "name": "stdout",
     "output_type": "stream",
     "text": [
      "MC: 2>> Time: 5\n",
      "MC: 2>> Time: 6\n",
      "MC: 2>> Time: 7\n",
      "MC: 2>> Time: 8\n"
     ]
    },
    {
     "data": {
      "text/plain": [
       "\">>>>>> iteration 1:O\""
      ]
     },
     "metadata": {},
     "output_type": "display_data"
    },
    {
     "data": {
      "text/plain": [
       "\">>>>>> iteration 2:O\""
      ]
     },
     "metadata": {},
     "output_type": "display_data"
    },
    {
     "data": {
      "text/plain": [
       "\">>>>>> iteration 3:O\""
      ]
     },
     "metadata": {},
     "output_type": "display_data"
    },
    {
     "data": {
      "text/plain": [
       "\">>>>>> iteration 4:O\""
      ]
     },
     "metadata": {},
     "output_type": "display_data"
    },
    {
     "data": {
      "text/plain": [
       "\">>>>>> iteration 5:O\""
      ]
     },
     "metadata": {},
     "output_type": "display_data"
    },
    {
     "data": {
      "text/plain": [
       "\">>>>>> iteration 6:O\""
      ]
     },
     "metadata": {},
     "output_type": "display_data"
    },
    {
     "data": {
      "text/plain": [
       "\">>>>>> iteration 7:O\""
      ]
     },
     "metadata": {},
     "output_type": "display_data"
    },
    {
     "data": {
      "text/plain": [
       "\">>>>>> iteration 8:O\""
      ]
     },
     "metadata": {},
     "output_type": "display_data"
    },
    {
     "data": {
      "text/plain": [
       "\">>>>>> iteration 9:O\""
      ]
     },
     "metadata": {},
     "output_type": "display_data"
    },
    {
     "data": {
      "text/plain": [
       "\">>>>>> iteration 10:O\""
      ]
     },
     "metadata": {},
     "output_type": "display_data"
    },
    {
     "data": {
      "text/plain": [
       "\">>>>>> iteration 11:O\""
      ]
     },
     "metadata": {},
     "output_type": "display_data"
    },
    {
     "data": {
      "text/plain": [
       "\">>>>>> iteration 12:O\""
      ]
     },
     "metadata": {},
     "output_type": "display_data"
    },
    {
     "data": {
      "text/plain": [
       "\">>>>>> iteration 13:O\""
      ]
     },
     "metadata": {},
     "output_type": "display_data"
    },
    {
     "data": {
      "text/plain": [
       "\">>>>>> iteration 14:O\""
      ]
     },
     "metadata": {},
     "output_type": "display_data"
    },
    {
     "data": {
      "text/plain": [
       "\">>>>>> iteration 15:O\""
      ]
     },
     "metadata": {},
     "output_type": "display_data"
    },
    {
     "data": {
      "text/plain": [
       "\">>>>>> iteration 16:O\""
      ]
     },
     "metadata": {},
     "output_type": "display_data"
    },
    {
     "data": {
      "text/plain": [
       "\">>>>>> iteration 17:O\""
      ]
     },
     "metadata": {},
     "output_type": "display_data"
    },
    {
     "data": {
      "text/plain": [
       "\">>>>>> iteration 18:O\""
      ]
     },
     "metadata": {},
     "output_type": "display_data"
    },
    {
     "data": {
      "text/plain": [
       "\">>>>>> iteration 19:O\""
      ]
     },
     "metadata": {},
     "output_type": "display_data"
    },
    {
     "data": {
      "text/plain": [
       "\">>>>>> iteration 20:O\""
      ]
     },
     "metadata": {},
     "output_type": "display_data"
    },
    {
     "data": {
      "text/plain": [
       "\">>>>>> iteration 21:O\""
      ]
     },
     "metadata": {},
     "output_type": "display_data"
    },
    {
     "data": {
      "text/plain": [
       "\">>>>>> iteration 22:O\""
      ]
     },
     "metadata": {},
     "output_type": "display_data"
    },
    {
     "data": {
      "text/plain": [
       "\">>>>>> iteration 23:O\""
      ]
     },
     "metadata": {},
     "output_type": "display_data"
    },
    {
     "data": {
      "text/plain": [
       "\">>>>>> iteration 24:O\""
      ]
     },
     "metadata": {},
     "output_type": "display_data"
    },
    {
     "data": {
      "text/plain": [
       "\">>>>>> iteration 25:O\""
      ]
     },
     "metadata": {},
     "output_type": "display_data"
    },
    {
     "data": {
      "text/plain": [
       "\">>>>>> iteration 26:O\""
      ]
     },
     "metadata": {},
     "output_type": "display_data"
    },
    {
     "data": {
      "text/plain": [
       "\">>>>>> iteration 27:O\""
      ]
     },
     "metadata": {},
     "output_type": "display_data"
    },
    {
     "data": {
      "text/plain": [
       "\">>>>>> iteration 28:O\""
      ]
     },
     "metadata": {},
     "output_type": "display_data"
    },
    {
     "data": {
      "text/plain": [
       "\">>>>>> iteration 29:O\""
      ]
     },
     "metadata": {},
     "output_type": "display_data"
    },
    {
     "data": {
      "text/plain": [
       "\">>>>>> iteration 30:O\""
      ]
     },
     "metadata": {},
     "output_type": "display_data"
    },
    {
     "data": {
      "text/plain": [
       "\">>>>>> iteration 31:O\""
      ]
     },
     "metadata": {},
     "output_type": "display_data"
    },
    {
     "data": {
      "text/plain": [
       "\">>>>>> iteration 32:O\""
      ]
     },
     "metadata": {},
     "output_type": "display_data"
    },
    {
     "data": {
      "text/plain": [
       "\">>>>>> iteration 33:O\""
      ]
     },
     "metadata": {},
     "output_type": "display_data"
    },
    {
     "data": {
      "text/plain": [
       "\">>>>>> iteration 34:F\""
      ]
     },
     "metadata": {},
     "output_type": "display_data"
    },
    {
     "data": {
      "text/plain": [
       "\">>>>>> iteration 35:O\""
      ]
     },
     "metadata": {},
     "output_type": "display_data"
    },
    {
     "name": "stdout",
     "output_type": "stream",
     "text": [
      "MC: 2>> Time: 9\n",
      "MC: 2>> Time: 10\n",
      "MC: 2>> Time: 11\n",
      "MC: 2>> Time: 12\n"
     ]
    },
    {
     "data": {
      "text/plain": [
       "\">>>>>> iteration 1:O\""
      ]
     },
     "metadata": {},
     "output_type": "display_data"
    },
    {
     "data": {
      "text/plain": [
       "\">>>>>> iteration 2:O\""
      ]
     },
     "metadata": {},
     "output_type": "display_data"
    },
    {
     "data": {
      "text/plain": [
       "\">>>>>> iteration 3:O\""
      ]
     },
     "metadata": {},
     "output_type": "display_data"
    },
    {
     "data": {
      "text/plain": [
       "\">>>>>> iteration 4:O\""
      ]
     },
     "metadata": {},
     "output_type": "display_data"
    },
    {
     "data": {
      "text/plain": [
       "\">>>>>> iteration 5:O\""
      ]
     },
     "metadata": {},
     "output_type": "display_data"
    },
    {
     "data": {
      "text/plain": [
       "\">>>>>> iteration 6:O\""
      ]
     },
     "metadata": {},
     "output_type": "display_data"
    },
    {
     "data": {
      "text/plain": [
       "\">>>>>> iteration 7:O\""
      ]
     },
     "metadata": {},
     "output_type": "display_data"
    },
    {
     "data": {
      "text/plain": [
       "\">>>>>> iteration 8:O\""
      ]
     },
     "metadata": {},
     "output_type": "display_data"
    },
    {
     "data": {
      "text/plain": [
       "\">>>>>> iteration 9:O\""
      ]
     },
     "metadata": {},
     "output_type": "display_data"
    },
    {
     "data": {
      "text/plain": [
       "\">>>>>> iteration 10:O\""
      ]
     },
     "metadata": {},
     "output_type": "display_data"
    },
    {
     "data": {
      "text/plain": [
       "\">>>>>> iteration 11:O\""
      ]
     },
     "metadata": {},
     "output_type": "display_data"
    },
    {
     "data": {
      "text/plain": [
       "\">>>>>> iteration 12:O\""
      ]
     },
     "metadata": {},
     "output_type": "display_data"
    },
    {
     "data": {
      "text/plain": [
       "\">>>>>> iteration 13:O\""
      ]
     },
     "metadata": {},
     "output_type": "display_data"
    },
    {
     "data": {
      "text/plain": [
       "\">>>>>> iteration 14:O\""
      ]
     },
     "metadata": {},
     "output_type": "display_data"
    },
    {
     "data": {
      "text/plain": [
       "\">>>>>> iteration 15:O\""
      ]
     },
     "metadata": {},
     "output_type": "display_data"
    },
    {
     "data": {
      "text/plain": [
       "\">>>>>> iteration 16:O\""
      ]
     },
     "metadata": {},
     "output_type": "display_data"
    },
    {
     "data": {
      "text/plain": [
       "\">>>>>> iteration 17:O\""
      ]
     },
     "metadata": {},
     "output_type": "display_data"
    },
    {
     "data": {
      "text/plain": [
       "\">>>>>> iteration 18:O\""
      ]
     },
     "metadata": {},
     "output_type": "display_data"
    },
    {
     "data": {
      "text/plain": [
       "\">>>>>> iteration 19:O\""
      ]
     },
     "metadata": {},
     "output_type": "display_data"
    },
    {
     "data": {
      "text/plain": [
       "\">>>>>> iteration 20:O\""
      ]
     },
     "metadata": {},
     "output_type": "display_data"
    },
    {
     "data": {
      "text/plain": [
       "\">>>>>> iteration 21:O\""
      ]
     },
     "metadata": {},
     "output_type": "display_data"
    },
    {
     "data": {
      "text/plain": [
       "\">>>>>> iteration 22:O\""
      ]
     },
     "metadata": {},
     "output_type": "display_data"
    },
    {
     "data": {
      "text/plain": [
       "\">>>>>> iteration 23:O\""
      ]
     },
     "metadata": {},
     "output_type": "display_data"
    },
    {
     "data": {
      "text/plain": [
       "\">>>>>> iteration 24:O\""
      ]
     },
     "metadata": {},
     "output_type": "display_data"
    },
    {
     "data": {
      "text/plain": [
       "\">>>>>> iteration 25:O\""
      ]
     },
     "metadata": {},
     "output_type": "display_data"
    },
    {
     "data": {
      "text/plain": [
       "\">>>>>> iteration 26:O\""
      ]
     },
     "metadata": {},
     "output_type": "display_data"
    },
    {
     "data": {
      "text/plain": [
       "\">>>>>> iteration 27:O\""
      ]
     },
     "metadata": {},
     "output_type": "display_data"
    },
    {
     "name": "stdout",
     "output_type": "stream",
     "text": [
      "MC: 2>> Time: 13\n",
      "MC: 2>> Time: 14\n",
      "MC: 2>> Time: 15\n",
      "MC: 2>> Time: 16\n"
     ]
    },
    {
     "data": {
      "text/plain": [
       "\">>>>>> iteration 1:O\""
      ]
     },
     "metadata": {},
     "output_type": "display_data"
    },
    {
     "data": {
      "text/plain": [
       "\">>>>>> iteration 2:O\""
      ]
     },
     "metadata": {},
     "output_type": "display_data"
    },
    {
     "data": {
      "text/plain": [
       "\">>>>>> iteration 3:O\""
      ]
     },
     "metadata": {},
     "output_type": "display_data"
    },
    {
     "data": {
      "text/plain": [
       "\">>>>>> iteration 4:O\""
      ]
     },
     "metadata": {},
     "output_type": "display_data"
    },
    {
     "data": {
      "text/plain": [
       "\">>>>>> iteration 5:O\""
      ]
     },
     "metadata": {},
     "output_type": "display_data"
    },
    {
     "data": {
      "text/plain": [
       "\">>>>>> iteration 6:O\""
      ]
     },
     "metadata": {},
     "output_type": "display_data"
    },
    {
     "data": {
      "text/plain": [
       "\">>>>>> iteration 7:O\""
      ]
     },
     "metadata": {},
     "output_type": "display_data"
    },
    {
     "data": {
      "text/plain": [
       "\">>>>>> iteration 8:O\""
      ]
     },
     "metadata": {},
     "output_type": "display_data"
    },
    {
     "data": {
      "text/plain": [
       "\">>>>>> iteration 9:O\""
      ]
     },
     "metadata": {},
     "output_type": "display_data"
    },
    {
     "data": {
      "text/plain": [
       "\">>>>>> iteration 10:O\""
      ]
     },
     "metadata": {},
     "output_type": "display_data"
    },
    {
     "data": {
      "text/plain": [
       "\">>>>>> iteration 11:O\""
      ]
     },
     "metadata": {},
     "output_type": "display_data"
    },
    {
     "data": {
      "text/plain": [
       "\">>>>>> iteration 12:O\""
      ]
     },
     "metadata": {},
     "output_type": "display_data"
    },
    {
     "data": {
      "text/plain": [
       "\">>>>>> iteration 13:O\""
      ]
     },
     "metadata": {},
     "output_type": "display_data"
    },
    {
     "data": {
      "text/plain": [
       "\">>>>>> iteration 14:O\""
      ]
     },
     "metadata": {},
     "output_type": "display_data"
    },
    {
     "data": {
      "text/plain": [
       "\">>>>>> iteration 15:O\""
      ]
     },
     "metadata": {},
     "output_type": "display_data"
    },
    {
     "data": {
      "text/plain": [
       "\">>>>>> iteration 16:O\""
      ]
     },
     "metadata": {},
     "output_type": "display_data"
    },
    {
     "data": {
      "text/plain": [
       "\">>>>>> iteration 17:O\""
      ]
     },
     "metadata": {},
     "output_type": "display_data"
    },
    {
     "data": {
      "text/plain": [
       "\">>>>>> iteration 18:O\""
      ]
     },
     "metadata": {},
     "output_type": "display_data"
    },
    {
     "data": {
      "text/plain": [
       "\">>>>>> iteration 19:O\""
      ]
     },
     "metadata": {},
     "output_type": "display_data"
    },
    {
     "data": {
      "text/plain": [
       "\">>>>>> iteration 20:O\""
      ]
     },
     "metadata": {},
     "output_type": "display_data"
    },
    {
     "data": {
      "text/plain": [
       "\">>>>>> iteration 21:O\""
      ]
     },
     "metadata": {},
     "output_type": "display_data"
    },
    {
     "data": {
      "text/plain": [
       "\">>>>>> iteration 22:O\""
      ]
     },
     "metadata": {},
     "output_type": "display_data"
    },
    {
     "data": {
      "text/plain": [
       "\">>>>>> iteration 23:O\""
      ]
     },
     "metadata": {},
     "output_type": "display_data"
    },
    {
     "data": {
      "text/plain": [
       "\">>>>>> iteration 24:O\""
      ]
     },
     "metadata": {},
     "output_type": "display_data"
    },
    {
     "data": {
      "text/plain": [
       "\">>>>>> iteration 25:O\""
      ]
     },
     "metadata": {},
     "output_type": "display_data"
    },
    {
     "data": {
      "text/plain": [
       "\">>>>>> iteration 26:O\""
      ]
     },
     "metadata": {},
     "output_type": "display_data"
    },
    {
     "data": {
      "text/plain": [
       "\">>>>>> iteration 27:O\""
      ]
     },
     "metadata": {},
     "output_type": "display_data"
    },
    {
     "name": "stdout",
     "output_type": "stream",
     "text": [
      "MC: 2>> Time: 17\n",
      "MC: 2>> Time: 18\n",
      "MC: 2>> Time: 19\n",
      "MC: 2>> Time: 20\n"
     ]
    },
    {
     "data": {
      "text/plain": [
       "\">>>>>> iteration 1:O\""
      ]
     },
     "metadata": {},
     "output_type": "display_data"
    },
    {
     "data": {
      "text/plain": [
       "\">>>>>> iteration 2:O\""
      ]
     },
     "metadata": {},
     "output_type": "display_data"
    },
    {
     "data": {
      "text/plain": [
       "\">>>>>> iteration 3:O\""
      ]
     },
     "metadata": {},
     "output_type": "display_data"
    },
    {
     "data": {
      "text/plain": [
       "\">>>>>> iteration 4:O\""
      ]
     },
     "metadata": {},
     "output_type": "display_data"
    },
    {
     "data": {
      "text/plain": [
       "\">>>>>> iteration 5:O\""
      ]
     },
     "metadata": {},
     "output_type": "display_data"
    },
    {
     "data": {
      "text/plain": [
       "\">>>>>> iteration 6:O\""
      ]
     },
     "metadata": {},
     "output_type": "display_data"
    },
    {
     "data": {
      "text/plain": [
       "\">>>>>> iteration 7:O\""
      ]
     },
     "metadata": {},
     "output_type": "display_data"
    },
    {
     "data": {
      "text/plain": [
       "\">>>>>> iteration 8:O\""
      ]
     },
     "metadata": {},
     "output_type": "display_data"
    },
    {
     "data": {
      "text/plain": [
       "\">>>>>> iteration 9:O\""
      ]
     },
     "metadata": {},
     "output_type": "display_data"
    },
    {
     "data": {
      "text/plain": [
       "\">>>>>> iteration 10:O\""
      ]
     },
     "metadata": {},
     "output_type": "display_data"
    },
    {
     "data": {
      "text/plain": [
       "\">>>>>> iteration 11:O\""
      ]
     },
     "metadata": {},
     "output_type": "display_data"
    },
    {
     "data": {
      "text/plain": [
       "\">>>>>> iteration 12:O\""
      ]
     },
     "metadata": {},
     "output_type": "display_data"
    },
    {
     "data": {
      "text/plain": [
       "\">>>>>> iteration 13:O\""
      ]
     },
     "metadata": {},
     "output_type": "display_data"
    },
    {
     "data": {
      "text/plain": [
       "\">>>>>> iteration 14:O\""
      ]
     },
     "metadata": {},
     "output_type": "display_data"
    },
    {
     "data": {
      "text/plain": [
       "\">>>>>> iteration 15:O\""
      ]
     },
     "metadata": {},
     "output_type": "display_data"
    },
    {
     "data": {
      "text/plain": [
       "\">>>>>> iteration 16:O\""
      ]
     },
     "metadata": {},
     "output_type": "display_data"
    },
    {
     "data": {
      "text/plain": [
       "\">>>>>> iteration 17:O\""
      ]
     },
     "metadata": {},
     "output_type": "display_data"
    },
    {
     "data": {
      "text/plain": [
       "\">>>>>> iteration 18:O\""
      ]
     },
     "metadata": {},
     "output_type": "display_data"
    },
    {
     "data": {
      "text/plain": [
       "\">>>>>> iteration 19:O\""
      ]
     },
     "metadata": {},
     "output_type": "display_data"
    },
    {
     "data": {
      "text/plain": [
       "\">>>>>> iteration 20:O\""
      ]
     },
     "metadata": {},
     "output_type": "display_data"
    },
    {
     "data": {
      "text/plain": [
       "\">>>>>> iteration 21:O\""
      ]
     },
     "metadata": {},
     "output_type": "display_data"
    },
    {
     "data": {
      "text/plain": [
       "\">>>>>> iteration 22:O\""
      ]
     },
     "metadata": {},
     "output_type": "display_data"
    },
    {
     "data": {
      "text/plain": [
       "\">>>>>> iteration 23:O\""
      ]
     },
     "metadata": {},
     "output_type": "display_data"
    },
    {
     "data": {
      "text/plain": [
       "\">>>>>> iteration 24:O\""
      ]
     },
     "metadata": {},
     "output_type": "display_data"
    },
    {
     "data": {
      "text/plain": [
       "\">>>>>> iteration 25:O\""
      ]
     },
     "metadata": {},
     "output_type": "display_data"
    },
    {
     "data": {
      "text/plain": [
       "\">>>>>> iteration 26:O\""
      ]
     },
     "metadata": {},
     "output_type": "display_data"
    },
    {
     "data": {
      "text/plain": [
       "\">>>>>> iteration 27:O\""
      ]
     },
     "metadata": {},
     "output_type": "display_data"
    },
    {
     "name": "stdout",
     "output_type": "stream",
     "text": [
      "MC: 3>> Time: 1\n",
      "MC: 3>> Time: 2\n",
      "MC: 3>> Time: 3\n",
      "MC: 3>> Time: 4\n",
      "MC: 3>> Time: 5\n",
      "MC: 3>> Time: 6\n",
      "MC: 3>> Time: 7\n",
      "MC: 3>> Time: 8\n",
      "MC: 3>> Time: 9\n",
      "MC: 3>> Time: 10\n",
      "MC: 3>> Time: 11\n",
      "MC: 3>> Time: 12\n",
      "MC: 3>> Time: 13\n",
      "MC: 3>> Time: 14\n",
      "MC: 3>> Time: 15\n",
      "MC: 3>> Time: 16\n",
      "MC: 3>> Time: 17\n",
      "MC: 3>> Time: 18\n",
      "MC: 3>> Time: 19\n",
      "MC: 3>> Time: 20\n",
      "MC: 3>> Time: 1\n"
     ]
    },
    {
     "data": {
      "text/plain": [
       "\">>>>>> iteration 1:O\""
      ]
     },
     "metadata": {},
     "output_type": "display_data"
    },
    {
     "data": {
      "text/plain": [
       "\">>>>>> iteration 2:O\""
      ]
     },
     "metadata": {},
     "output_type": "display_data"
    },
    {
     "data": {
      "text/plain": [
       "\">>>>>> iteration 3:O\""
      ]
     },
     "metadata": {},
     "output_type": "display_data"
    },
    {
     "data": {
      "text/plain": [
       "\">>>>>> iteration 4:O\""
      ]
     },
     "metadata": {},
     "output_type": "display_data"
    },
    {
     "data": {
      "text/plain": [
       "\">>>>>> iteration 5:O\""
      ]
     },
     "metadata": {},
     "output_type": "display_data"
    },
    {
     "data": {
      "text/plain": [
       "\">>>>>> iteration 6:O\""
      ]
     },
     "metadata": {},
     "output_type": "display_data"
    },
    {
     "data": {
      "text/plain": [
       "\">>>>>> iteration 7:O\""
      ]
     },
     "metadata": {},
     "output_type": "display_data"
    },
    {
     "data": {
      "text/plain": [
       "\">>>>>> iteration 8:O\""
      ]
     },
     "metadata": {},
     "output_type": "display_data"
    },
    {
     "data": {
      "text/plain": [
       "\">>>>>> iteration 9:O\""
      ]
     },
     "metadata": {},
     "output_type": "display_data"
    },
    {
     "data": {
      "text/plain": [
       "\">>>>>> iteration 10:O\""
      ]
     },
     "metadata": {},
     "output_type": "display_data"
    },
    {
     "data": {
      "text/plain": [
       "\">>>>>> iteration 11:O\""
      ]
     },
     "metadata": {},
     "output_type": "display_data"
    },
    {
     "data": {
      "text/plain": [
       "\">>>>>> iteration 12:O\""
      ]
     },
     "metadata": {},
     "output_type": "display_data"
    },
    {
     "data": {
      "text/plain": [
       "\">>>>>> iteration 13:F\""
      ]
     },
     "metadata": {},
     "output_type": "display_data"
    },
    {
     "data": {
      "text/plain": [
       "\">>>>>> iteration 14:O\""
      ]
     },
     "metadata": {},
     "output_type": "display_data"
    },
    {
     "data": {
      "text/plain": [
       "\">>>>>> iteration 15:O\""
      ]
     },
     "metadata": {},
     "output_type": "display_data"
    },
    {
     "data": {
      "text/plain": [
       "\">>>>>> iteration 16:O\""
      ]
     },
     "metadata": {},
     "output_type": "display_data"
    },
    {
     "data": {
      "text/plain": [
       "\">>>>>> iteration 17:O\""
      ]
     },
     "metadata": {},
     "output_type": "display_data"
    },
    {
     "name": "stdout",
     "output_type": "stream",
     "text": [
      "MC: 3>> Time: 2\n",
      "MC: 3>> Time: 3\n",
      "MC: 3>> Time: 4\n"
     ]
    },
    {
     "data": {
      "text/plain": [
       "\">>>>>> iteration 1:O\""
      ]
     },
     "metadata": {},
     "output_type": "display_data"
    },
    {
     "data": {
      "text/plain": [
       "\">>>>>> iteration 2:O\""
      ]
     },
     "metadata": {},
     "output_type": "display_data"
    },
    {
     "data": {
      "text/plain": [
       "\">>>>>> iteration 3:O\""
      ]
     },
     "metadata": {},
     "output_type": "display_data"
    },
    {
     "data": {
      "text/plain": [
       "\">>>>>> iteration 4:O\""
      ]
     },
     "metadata": {},
     "output_type": "display_data"
    },
    {
     "data": {
      "text/plain": [
       "\">>>>>> iteration 5:O\""
      ]
     },
     "metadata": {},
     "output_type": "display_data"
    },
    {
     "data": {
      "text/plain": [
       "\">>>>>> iteration 6:O\""
      ]
     },
     "metadata": {},
     "output_type": "display_data"
    },
    {
     "data": {
      "text/plain": [
       "\">>>>>> iteration 7:O\""
      ]
     },
     "metadata": {},
     "output_type": "display_data"
    },
    {
     "data": {
      "text/plain": [
       "\">>>>>> iteration 8:O\""
      ]
     },
     "metadata": {},
     "output_type": "display_data"
    },
    {
     "data": {
      "text/plain": [
       "\">>>>>> iteration 9:O\""
      ]
     },
     "metadata": {},
     "output_type": "display_data"
    },
    {
     "data": {
      "text/plain": [
       "\">>>>>> iteration 10:O\""
      ]
     },
     "metadata": {},
     "output_type": "display_data"
    },
    {
     "data": {
      "text/plain": [
       "\">>>>>> iteration 11:O\""
      ]
     },
     "metadata": {},
     "output_type": "display_data"
    },
    {
     "data": {
      "text/plain": [
       "\">>>>>> iteration 12:O\""
      ]
     },
     "metadata": {},
     "output_type": "display_data"
    },
    {
     "data": {
      "text/plain": [
       "\">>>>>> iteration 13:O\""
      ]
     },
     "metadata": {},
     "output_type": "display_data"
    },
    {
     "data": {
      "text/plain": [
       "\">>>>>> iteration 14:O\""
      ]
     },
     "metadata": {},
     "output_type": "display_data"
    },
    {
     "data": {
      "text/plain": [
       "\">>>>>> iteration 15:O\""
      ]
     },
     "metadata": {},
     "output_type": "display_data"
    },
    {
     "data": {
      "text/plain": [
       "\">>>>>> iteration 16:O\""
      ]
     },
     "metadata": {},
     "output_type": "display_data"
    },
    {
     "data": {
      "text/plain": [
       "\">>>>>> iteration 17:O\""
      ]
     },
     "metadata": {},
     "output_type": "display_data"
    },
    {
     "data": {
      "text/plain": [
       "\">>>>>> iteration 18:O\""
      ]
     },
     "metadata": {},
     "output_type": "display_data"
    },
    {
     "data": {
      "text/plain": [
       "\">>>>>> iteration 19:O\""
      ]
     },
     "metadata": {},
     "output_type": "display_data"
    },
    {
     "data": {
      "text/plain": [
       "\">>>>>> iteration 20:O\""
      ]
     },
     "metadata": {},
     "output_type": "display_data"
    },
    {
     "name": "stdout",
     "output_type": "stream",
     "text": [
      "MC: 3>> Time: 5\n",
      "MC: 3>> Time: 6\n",
      "MC: 3>> Time: 7\n",
      "MC: 3>> Time: 8\n"
     ]
    },
    {
     "data": {
      "text/plain": [
       "\">>>>>> iteration 1:O\""
      ]
     },
     "metadata": {},
     "output_type": "display_data"
    },
    {
     "data": {
      "text/plain": [
       "\">>>>>> iteration 2:O\""
      ]
     },
     "metadata": {},
     "output_type": "display_data"
    },
    {
     "data": {
      "text/plain": [
       "\">>>>>> iteration 3:O\""
      ]
     },
     "metadata": {},
     "output_type": "display_data"
    },
    {
     "data": {
      "text/plain": [
       "\">>>>>> iteration 4:O\""
      ]
     },
     "metadata": {},
     "output_type": "display_data"
    },
    {
     "data": {
      "text/plain": [
       "\">>>>>> iteration 5:O\""
      ]
     },
     "metadata": {},
     "output_type": "display_data"
    },
    {
     "data": {
      "text/plain": [
       "\">>>>>> iteration 6:O\""
      ]
     },
     "metadata": {},
     "output_type": "display_data"
    },
    {
     "data": {
      "text/plain": [
       "\">>>>>> iteration 7:O\""
      ]
     },
     "metadata": {},
     "output_type": "display_data"
    },
    {
     "data": {
      "text/plain": [
       "\">>>>>> iteration 8:O\""
      ]
     },
     "metadata": {},
     "output_type": "display_data"
    },
    {
     "data": {
      "text/plain": [
       "\">>>>>> iteration 9:O\""
      ]
     },
     "metadata": {},
     "output_type": "display_data"
    },
    {
     "data": {
      "text/plain": [
       "\">>>>>> iteration 10:O\""
      ]
     },
     "metadata": {},
     "output_type": "display_data"
    },
    {
     "data": {
      "text/plain": [
       "\">>>>>> iteration 11:O\""
      ]
     },
     "metadata": {},
     "output_type": "display_data"
    },
    {
     "data": {
      "text/plain": [
       "\">>>>>> iteration 12:O\""
      ]
     },
     "metadata": {},
     "output_type": "display_data"
    },
    {
     "data": {
      "text/plain": [
       "\">>>>>> iteration 13:O\""
      ]
     },
     "metadata": {},
     "output_type": "display_data"
    },
    {
     "data": {
      "text/plain": [
       "\">>>>>> iteration 14:O\""
      ]
     },
     "metadata": {},
     "output_type": "display_data"
    },
    {
     "data": {
      "text/plain": [
       "\">>>>>> iteration 15:O\""
      ]
     },
     "metadata": {},
     "output_type": "display_data"
    },
    {
     "data": {
      "text/plain": [
       "\">>>>>> iteration 16:O\""
      ]
     },
     "metadata": {},
     "output_type": "display_data"
    },
    {
     "data": {
      "text/plain": [
       "\">>>>>> iteration 17:O\""
      ]
     },
     "metadata": {},
     "output_type": "display_data"
    },
    {
     "data": {
      "text/plain": [
       "\">>>>>> iteration 18:O\""
      ]
     },
     "metadata": {},
     "output_type": "display_data"
    },
    {
     "data": {
      "text/plain": [
       "\">>>>>> iteration 19:O\""
      ]
     },
     "metadata": {},
     "output_type": "display_data"
    },
    {
     "data": {
      "text/plain": [
       "\">>>>>> iteration 20:O\""
      ]
     },
     "metadata": {},
     "output_type": "display_data"
    },
    {
     "data": {
      "text/plain": [
       "\">>>>>> iteration 21:O\""
      ]
     },
     "metadata": {},
     "output_type": "display_data"
    },
    {
     "data": {
      "text/plain": [
       "\">>>>>> iteration 22:O\""
      ]
     },
     "metadata": {},
     "output_type": "display_data"
    },
    {
     "data": {
      "text/plain": [
       "\">>>>>> iteration 23:O\""
      ]
     },
     "metadata": {},
     "output_type": "display_data"
    },
    {
     "data": {
      "text/plain": [
       "\">>>>>> iteration 24:O\""
      ]
     },
     "metadata": {},
     "output_type": "display_data"
    },
    {
     "data": {
      "text/plain": [
       "\">>>>>> iteration 25:O\""
      ]
     },
     "metadata": {},
     "output_type": "display_data"
    },
    {
     "data": {
      "text/plain": [
       "\">>>>>> iteration 26:O\""
      ]
     },
     "metadata": {},
     "output_type": "display_data"
    },
    {
     "data": {
      "text/plain": [
       "\">>>>>> iteration 27:O\""
      ]
     },
     "metadata": {},
     "output_type": "display_data"
    },
    {
     "data": {
      "text/plain": [
       "\">>>>>> iteration 28:O\""
      ]
     },
     "metadata": {},
     "output_type": "display_data"
    },
    {
     "data": {
      "text/plain": [
       "\">>>>>> iteration 29:F\""
      ]
     },
     "metadata": {},
     "output_type": "display_data"
    },
    {
     "data": {
      "text/plain": [
       "\">>>>>> iteration 30:O\""
      ]
     },
     "metadata": {},
     "output_type": "display_data"
    },
    {
     "data": {
      "text/plain": [
       "\">>>>>> iteration 31:O\""
      ]
     },
     "metadata": {},
     "output_type": "display_data"
    },
    {
     "data": {
      "text/plain": [
       "\">>>>>> iteration 32:O\""
      ]
     },
     "metadata": {},
     "output_type": "display_data"
    },
    {
     "data": {
      "text/plain": [
       "\">>>>>> iteration 33:O\""
      ]
     },
     "metadata": {},
     "output_type": "display_data"
    },
    {
     "data": {
      "text/plain": [
       "\">>>>>> iteration 34:O\""
      ]
     },
     "metadata": {},
     "output_type": "display_data"
    },
    {
     "data": {
      "text/plain": [
       "\">>>>>> iteration 35:O\""
      ]
     },
     "metadata": {},
     "output_type": "display_data"
    },
    {
     "name": "stdout",
     "output_type": "stream",
     "text": [
      "MC: 3>> Time: 9\n",
      "MC: 3>> Time: 10\n",
      "MC: 3>> Time: 11\n",
      "MC: 3>> Time: 12\n"
     ]
    },
    {
     "data": {
      "text/plain": [
       "\">>>>>> iteration 1:O\""
      ]
     },
     "metadata": {},
     "output_type": "display_data"
    },
    {
     "data": {
      "text/plain": [
       "\">>>>>> iteration 2:O\""
      ]
     },
     "metadata": {},
     "output_type": "display_data"
    },
    {
     "data": {
      "text/plain": [
       "\">>>>>> iteration 3:O\""
      ]
     },
     "metadata": {},
     "output_type": "display_data"
    },
    {
     "data": {
      "text/plain": [
       "\">>>>>> iteration 4:O\""
      ]
     },
     "metadata": {},
     "output_type": "display_data"
    },
    {
     "data": {
      "text/plain": [
       "\">>>>>> iteration 5:O\""
      ]
     },
     "metadata": {},
     "output_type": "display_data"
    },
    {
     "data": {
      "text/plain": [
       "\">>>>>> iteration 6:O\""
      ]
     },
     "metadata": {},
     "output_type": "display_data"
    },
    {
     "data": {
      "text/plain": [
       "\">>>>>> iteration 7:O\""
      ]
     },
     "metadata": {},
     "output_type": "display_data"
    },
    {
     "data": {
      "text/plain": [
       "\">>>>>> iteration 8:O\""
      ]
     },
     "metadata": {},
     "output_type": "display_data"
    },
    {
     "data": {
      "text/plain": [
       "\">>>>>> iteration 9:O\""
      ]
     },
     "metadata": {},
     "output_type": "display_data"
    },
    {
     "data": {
      "text/plain": [
       "\">>>>>> iteration 10:O\""
      ]
     },
     "metadata": {},
     "output_type": "display_data"
    },
    {
     "data": {
      "text/plain": [
       "\">>>>>> iteration 11:O\""
      ]
     },
     "metadata": {},
     "output_type": "display_data"
    },
    {
     "data": {
      "text/plain": [
       "\">>>>>> iteration 12:O\""
      ]
     },
     "metadata": {},
     "output_type": "display_data"
    },
    {
     "data": {
      "text/plain": [
       "\">>>>>> iteration 13:O\""
      ]
     },
     "metadata": {},
     "output_type": "display_data"
    },
    {
     "data": {
      "text/plain": [
       "\">>>>>> iteration 14:O\""
      ]
     },
     "metadata": {},
     "output_type": "display_data"
    },
    {
     "data": {
      "text/plain": [
       "\">>>>>> iteration 15:O\""
      ]
     },
     "metadata": {},
     "output_type": "display_data"
    },
    {
     "data": {
      "text/plain": [
       "\">>>>>> iteration 16:O\""
      ]
     },
     "metadata": {},
     "output_type": "display_data"
    },
    {
     "data": {
      "text/plain": [
       "\">>>>>> iteration 17:O\""
      ]
     },
     "metadata": {},
     "output_type": "display_data"
    },
    {
     "data": {
      "text/plain": [
       "\">>>>>> iteration 18:O\""
      ]
     },
     "metadata": {},
     "output_type": "display_data"
    },
    {
     "data": {
      "text/plain": [
       "\">>>>>> iteration 19:O\""
      ]
     },
     "metadata": {},
     "output_type": "display_data"
    },
    {
     "data": {
      "text/plain": [
       "\">>>>>> iteration 20:O\""
      ]
     },
     "metadata": {},
     "output_type": "display_data"
    },
    {
     "data": {
      "text/plain": [
       "\">>>>>> iteration 21:O\""
      ]
     },
     "metadata": {},
     "output_type": "display_data"
    },
    {
     "data": {
      "text/plain": [
       "\">>>>>> iteration 22:O\""
      ]
     },
     "metadata": {},
     "output_type": "display_data"
    },
    {
     "data": {
      "text/plain": [
       "\">>>>>> iteration 23:O\""
      ]
     },
     "metadata": {},
     "output_type": "display_data"
    },
    {
     "data": {
      "text/plain": [
       "\">>>>>> iteration 24:O\""
      ]
     },
     "metadata": {},
     "output_type": "display_data"
    },
    {
     "data": {
      "text/plain": [
       "\">>>>>> iteration 25:O\""
      ]
     },
     "metadata": {},
     "output_type": "display_data"
    },
    {
     "data": {
      "text/plain": [
       "\">>>>>> iteration 26:O\""
      ]
     },
     "metadata": {},
     "output_type": "display_data"
    },
    {
     "name": "stdout",
     "output_type": "stream",
     "text": [
      "MC: 3>> Time: 13\n",
      "MC: 3>> Time: 14\n",
      "MC: 3>> Time: 15\n",
      "MC: 3>> Time: 16\n"
     ]
    },
    {
     "data": {
      "text/plain": [
       "\">>>>>> iteration 1:O\""
      ]
     },
     "metadata": {},
     "output_type": "display_data"
    },
    {
     "data": {
      "text/plain": [
       "\">>>>>> iteration 2:O\""
      ]
     },
     "metadata": {},
     "output_type": "display_data"
    },
    {
     "data": {
      "text/plain": [
       "\">>>>>> iteration 3:O\""
      ]
     },
     "metadata": {},
     "output_type": "display_data"
    },
    {
     "data": {
      "text/plain": [
       "\">>>>>> iteration 4:O\""
      ]
     },
     "metadata": {},
     "output_type": "display_data"
    },
    {
     "data": {
      "text/plain": [
       "\">>>>>> iteration 5:O\""
      ]
     },
     "metadata": {},
     "output_type": "display_data"
    },
    {
     "data": {
      "text/plain": [
       "\">>>>>> iteration 6:O\""
      ]
     },
     "metadata": {},
     "output_type": "display_data"
    },
    {
     "data": {
      "text/plain": [
       "\">>>>>> iteration 7:O\""
      ]
     },
     "metadata": {},
     "output_type": "display_data"
    },
    {
     "data": {
      "text/plain": [
       "\">>>>>> iteration 8:O\""
      ]
     },
     "metadata": {},
     "output_type": "display_data"
    },
    {
     "data": {
      "text/plain": [
       "\">>>>>> iteration 9:O\""
      ]
     },
     "metadata": {},
     "output_type": "display_data"
    },
    {
     "data": {
      "text/plain": [
       "\">>>>>> iteration 10:O\""
      ]
     },
     "metadata": {},
     "output_type": "display_data"
    },
    {
     "data": {
      "text/plain": [
       "\">>>>>> iteration 11:O\""
      ]
     },
     "metadata": {},
     "output_type": "display_data"
    },
    {
     "data": {
      "text/plain": [
       "\">>>>>> iteration 12:O\""
      ]
     },
     "metadata": {},
     "output_type": "display_data"
    },
    {
     "data": {
      "text/plain": [
       "\">>>>>> iteration 13:O\""
      ]
     },
     "metadata": {},
     "output_type": "display_data"
    },
    {
     "data": {
      "text/plain": [
       "\">>>>>> iteration 14:O\""
      ]
     },
     "metadata": {},
     "output_type": "display_data"
    },
    {
     "data": {
      "text/plain": [
       "\">>>>>> iteration 15:O\""
      ]
     },
     "metadata": {},
     "output_type": "display_data"
    },
    {
     "data": {
      "text/plain": [
       "\">>>>>> iteration 16:O\""
      ]
     },
     "metadata": {},
     "output_type": "display_data"
    },
    {
     "data": {
      "text/plain": [
       "\">>>>>> iteration 17:O\""
      ]
     },
     "metadata": {},
     "output_type": "display_data"
    },
    {
     "data": {
      "text/plain": [
       "\">>>>>> iteration 18:O\""
      ]
     },
     "metadata": {},
     "output_type": "display_data"
    },
    {
     "data": {
      "text/plain": [
       "\">>>>>> iteration 19:O\""
      ]
     },
     "metadata": {},
     "output_type": "display_data"
    },
    {
     "data": {
      "text/plain": [
       "\">>>>>> iteration 20:O\""
      ]
     },
     "metadata": {},
     "output_type": "display_data"
    },
    {
     "data": {
      "text/plain": [
       "\">>>>>> iteration 21:O\""
      ]
     },
     "metadata": {},
     "output_type": "display_data"
    },
    {
     "data": {
      "text/plain": [
       "\">>>>>> iteration 22:O\""
      ]
     },
     "metadata": {},
     "output_type": "display_data"
    },
    {
     "data": {
      "text/plain": [
       "\">>>>>> iteration 23:O\""
      ]
     },
     "metadata": {},
     "output_type": "display_data"
    },
    {
     "data": {
      "text/plain": [
       "\">>>>>> iteration 24:O\""
      ]
     },
     "metadata": {},
     "output_type": "display_data"
    },
    {
     "data": {
      "text/plain": [
       "\">>>>>> iteration 25:O\""
      ]
     },
     "metadata": {},
     "output_type": "display_data"
    },
    {
     "data": {
      "text/plain": [
       "\">>>>>> iteration 26:O\""
      ]
     },
     "metadata": {},
     "output_type": "display_data"
    },
    {
     "data": {
      "text/plain": [
       "\">>>>>> iteration 27:O\""
      ]
     },
     "metadata": {},
     "output_type": "display_data"
    },
    {
     "name": "stdout",
     "output_type": "stream",
     "text": [
      "MC: 3>> Time: 17\n",
      "MC: 3>> Time: 18\n",
      "MC: 3>> Time: 19\n",
      "MC: 3>> Time: 20\n"
     ]
    },
    {
     "data": {
      "text/plain": [
       "\">>>>>> iteration 1:O\""
      ]
     },
     "metadata": {},
     "output_type": "display_data"
    },
    {
     "data": {
      "text/plain": [
       "\">>>>>> iteration 2:O\""
      ]
     },
     "metadata": {},
     "output_type": "display_data"
    },
    {
     "data": {
      "text/plain": [
       "\">>>>>> iteration 3:O\""
      ]
     },
     "metadata": {},
     "output_type": "display_data"
    },
    {
     "data": {
      "text/plain": [
       "\">>>>>> iteration 4:O\""
      ]
     },
     "metadata": {},
     "output_type": "display_data"
    },
    {
     "data": {
      "text/plain": [
       "\">>>>>> iteration 5:O\""
      ]
     },
     "metadata": {},
     "output_type": "display_data"
    },
    {
     "data": {
      "text/plain": [
       "\">>>>>> iteration 6:O\""
      ]
     },
     "metadata": {},
     "output_type": "display_data"
    },
    {
     "data": {
      "text/plain": [
       "\">>>>>> iteration 7:O\""
      ]
     },
     "metadata": {},
     "output_type": "display_data"
    },
    {
     "data": {
      "text/plain": [
       "\">>>>>> iteration 8:O\""
      ]
     },
     "metadata": {},
     "output_type": "display_data"
    },
    {
     "data": {
      "text/plain": [
       "\">>>>>> iteration 9:O\""
      ]
     },
     "metadata": {},
     "output_type": "display_data"
    },
    {
     "data": {
      "text/plain": [
       "\">>>>>> iteration 10:O\""
      ]
     },
     "metadata": {},
     "output_type": "display_data"
    },
    {
     "data": {
      "text/plain": [
       "\">>>>>> iteration 11:O\""
      ]
     },
     "metadata": {},
     "output_type": "display_data"
    },
    {
     "data": {
      "text/plain": [
       "\">>>>>> iteration 12:O\""
      ]
     },
     "metadata": {},
     "output_type": "display_data"
    },
    {
     "data": {
      "text/plain": [
       "\">>>>>> iteration 13:O\""
      ]
     },
     "metadata": {},
     "output_type": "display_data"
    },
    {
     "data": {
      "text/plain": [
       "\">>>>>> iteration 14:O\""
      ]
     },
     "metadata": {},
     "output_type": "display_data"
    },
    {
     "data": {
      "text/plain": [
       "\">>>>>> iteration 15:O\""
      ]
     },
     "metadata": {},
     "output_type": "display_data"
    },
    {
     "data": {
      "text/plain": [
       "\">>>>>> iteration 16:O\""
      ]
     },
     "metadata": {},
     "output_type": "display_data"
    },
    {
     "data": {
      "text/plain": [
       "\">>>>>> iteration 17:O\""
      ]
     },
     "metadata": {},
     "output_type": "display_data"
    },
    {
     "data": {
      "text/plain": [
       "\">>>>>> iteration 18:O\""
      ]
     },
     "metadata": {},
     "output_type": "display_data"
    },
    {
     "data": {
      "text/plain": [
       "\">>>>>> iteration 19:O\""
      ]
     },
     "metadata": {},
     "output_type": "display_data"
    },
    {
     "data": {
      "text/plain": [
       "\">>>>>> iteration 20:O\""
      ]
     },
     "metadata": {},
     "output_type": "display_data"
    },
    {
     "data": {
      "text/plain": [
       "\">>>>>> iteration 21:O\""
      ]
     },
     "metadata": {},
     "output_type": "display_data"
    },
    {
     "data": {
      "text/plain": [
       "\">>>>>> iteration 22:O\""
      ]
     },
     "metadata": {},
     "output_type": "display_data"
    },
    {
     "data": {
      "text/plain": [
       "\">>>>>> iteration 23:O\""
      ]
     },
     "metadata": {},
     "output_type": "display_data"
    },
    {
     "data": {
      "text/plain": [
       "\">>>>>> iteration 24:O\""
      ]
     },
     "metadata": {},
     "output_type": "display_data"
    },
    {
     "data": {
      "text/plain": [
       "\">>>>>> iteration 25:O\""
      ]
     },
     "metadata": {},
     "output_type": "display_data"
    },
    {
     "data": {
      "text/plain": [
       "\">>>>>> iteration 26:O\""
      ]
     },
     "metadata": {},
     "output_type": "display_data"
    },
    {
     "name": "stdout",
     "output_type": "stream",
     "text": [
      "MC: 4>> Time: 1\n",
      "MC: 4>> Time: 2\n",
      "MC: 4>> Time: 3\n",
      "MC: 4>> Time: 4\n",
      "MC: 4>> Time: 5\n",
      "MC: 4>> Time: 6\n",
      "MC: 4>> Time: 7\n",
      "MC: 4>> Time: 8\n",
      "MC: 4>> Time: 9\n",
      "MC: 4>> Time: 10\n",
      "MC: 4>> Time: 11\n",
      "MC: 4>> Time: 12\n",
      "MC: 4>> Time: 13\n",
      "MC: 4>> Time: 14\n",
      "MC: 4>> Time: 15\n",
      "MC: 4>> Time: 16\n",
      "MC: 4>> Time: 17\n",
      "MC: 4>> Time: 18\n",
      "MC: 4>> Time: 19\n",
      "MC: 4>> Time: 20\n",
      "MC: 4>> Time: 1\n"
     ]
    },
    {
     "data": {
      "text/plain": [
       "\">>>>>> iteration 1:O\""
      ]
     },
     "metadata": {},
     "output_type": "display_data"
    },
    {
     "data": {
      "text/plain": [
       "\">>>>>> iteration 2:O\""
      ]
     },
     "metadata": {},
     "output_type": "display_data"
    },
    {
     "data": {
      "text/plain": [
       "\">>>>>> iteration 3:O\""
      ]
     },
     "metadata": {},
     "output_type": "display_data"
    },
    {
     "data": {
      "text/plain": [
       "\">>>>>> iteration 4:O\""
      ]
     },
     "metadata": {},
     "output_type": "display_data"
    },
    {
     "data": {
      "text/plain": [
       "\">>>>>> iteration 5:O\""
      ]
     },
     "metadata": {},
     "output_type": "display_data"
    },
    {
     "data": {
      "text/plain": [
       "\">>>>>> iteration 6:O\""
      ]
     },
     "metadata": {},
     "output_type": "display_data"
    },
    {
     "data": {
      "text/plain": [
       "\">>>>>> iteration 7:O\""
      ]
     },
     "metadata": {},
     "output_type": "display_data"
    },
    {
     "data": {
      "text/plain": [
       "\">>>>>> iteration 8:O\""
      ]
     },
     "metadata": {},
     "output_type": "display_data"
    },
    {
     "data": {
      "text/plain": [
       "\">>>>>> iteration 9:O\""
      ]
     },
     "metadata": {},
     "output_type": "display_data"
    },
    {
     "data": {
      "text/plain": [
       "\">>>>>> iteration 10:O\""
      ]
     },
     "metadata": {},
     "output_type": "display_data"
    },
    {
     "data": {
      "text/plain": [
       "\">>>>>> iteration 11:O\""
      ]
     },
     "metadata": {},
     "output_type": "display_data"
    },
    {
     "data": {
      "text/plain": [
       "\">>>>>> iteration 12:O\""
      ]
     },
     "metadata": {},
     "output_type": "display_data"
    },
    {
     "data": {
      "text/plain": [
       "\">>>>>> iteration 13:F\""
      ]
     },
     "metadata": {},
     "output_type": "display_data"
    },
    {
     "data": {
      "text/plain": [
       "\">>>>>> iteration 14:O\""
      ]
     },
     "metadata": {},
     "output_type": "display_data"
    },
    {
     "data": {
      "text/plain": [
       "\">>>>>> iteration 15:O\""
      ]
     },
     "metadata": {},
     "output_type": "display_data"
    },
    {
     "data": {
      "text/plain": [
       "\">>>>>> iteration 16:O\""
      ]
     },
     "metadata": {},
     "output_type": "display_data"
    },
    {
     "data": {
      "text/plain": [
       "\">>>>>> iteration 17:O\""
      ]
     },
     "metadata": {},
     "output_type": "display_data"
    },
    {
     "name": "stdout",
     "output_type": "stream",
     "text": [
      "MC: 4>> Time: 2\n",
      "MC: 4>> Time: 3\n",
      "MC: 4>> Time: 4\n"
     ]
    },
    {
     "data": {
      "text/plain": [
       "\">>>>>> iteration 1:O\""
      ]
     },
     "metadata": {},
     "output_type": "display_data"
    },
    {
     "data": {
      "text/plain": [
       "\">>>>>> iteration 2:O\""
      ]
     },
     "metadata": {},
     "output_type": "display_data"
    },
    {
     "data": {
      "text/plain": [
       "\">>>>>> iteration 3:O\""
      ]
     },
     "metadata": {},
     "output_type": "display_data"
    },
    {
     "data": {
      "text/plain": [
       "\">>>>>> iteration 4:O\""
      ]
     },
     "metadata": {},
     "output_type": "display_data"
    },
    {
     "data": {
      "text/plain": [
       "\">>>>>> iteration 5:O\""
      ]
     },
     "metadata": {},
     "output_type": "display_data"
    },
    {
     "data": {
      "text/plain": [
       "\">>>>>> iteration 6:O\""
      ]
     },
     "metadata": {},
     "output_type": "display_data"
    },
    {
     "data": {
      "text/plain": [
       "\">>>>>> iteration 7:O\""
      ]
     },
     "metadata": {},
     "output_type": "display_data"
    },
    {
     "data": {
      "text/plain": [
       "\">>>>>> iteration 8:O\""
      ]
     },
     "metadata": {},
     "output_type": "display_data"
    },
    {
     "data": {
      "text/plain": [
       "\">>>>>> iteration 9:O\""
      ]
     },
     "metadata": {},
     "output_type": "display_data"
    },
    {
     "data": {
      "text/plain": [
       "\">>>>>> iteration 10:O\""
      ]
     },
     "metadata": {},
     "output_type": "display_data"
    },
    {
     "data": {
      "text/plain": [
       "\">>>>>> iteration 11:O\""
      ]
     },
     "metadata": {},
     "output_type": "display_data"
    },
    {
     "data": {
      "text/plain": [
       "\">>>>>> iteration 12:O\""
      ]
     },
     "metadata": {},
     "output_type": "display_data"
    },
    {
     "data": {
      "text/plain": [
       "\">>>>>> iteration 13:O\""
      ]
     },
     "metadata": {},
     "output_type": "display_data"
    },
    {
     "data": {
      "text/plain": [
       "\">>>>>> iteration 14:O\""
      ]
     },
     "metadata": {},
     "output_type": "display_data"
    },
    {
     "data": {
      "text/plain": [
       "\">>>>>> iteration 15:O\""
      ]
     },
     "metadata": {},
     "output_type": "display_data"
    },
    {
     "data": {
      "text/plain": [
       "\">>>>>> iteration 16:O\""
      ]
     },
     "metadata": {},
     "output_type": "display_data"
    },
    {
     "data": {
      "text/plain": [
       "\">>>>>> iteration 17:O\""
      ]
     },
     "metadata": {},
     "output_type": "display_data"
    },
    {
     "data": {
      "text/plain": [
       "\">>>>>> iteration 18:O\""
      ]
     },
     "metadata": {},
     "output_type": "display_data"
    },
    {
     "data": {
      "text/plain": [
       "\">>>>>> iteration 19:O\""
      ]
     },
     "metadata": {},
     "output_type": "display_data"
    },
    {
     "name": "stdout",
     "output_type": "stream",
     "text": [
      "MC: 4>> Time: 5\n",
      "MC: 4>> Time: 6\n",
      "MC: 4>> Time: 7\n",
      "MC: 4>> Time: 8\n"
     ]
    },
    {
     "data": {
      "text/plain": [
       "\">>>>>> iteration 1:O\""
      ]
     },
     "metadata": {},
     "output_type": "display_data"
    },
    {
     "data": {
      "text/plain": [
       "\">>>>>> iteration 2:O\""
      ]
     },
     "metadata": {},
     "output_type": "display_data"
    },
    {
     "data": {
      "text/plain": [
       "\">>>>>> iteration 3:O\""
      ]
     },
     "metadata": {},
     "output_type": "display_data"
    },
    {
     "data": {
      "text/plain": [
       "\">>>>>> iteration 4:O\""
      ]
     },
     "metadata": {},
     "output_type": "display_data"
    },
    {
     "data": {
      "text/plain": [
       "\">>>>>> iteration 5:O\""
      ]
     },
     "metadata": {},
     "output_type": "display_data"
    },
    {
     "data": {
      "text/plain": [
       "\">>>>>> iteration 6:O\""
      ]
     },
     "metadata": {},
     "output_type": "display_data"
    },
    {
     "data": {
      "text/plain": [
       "\">>>>>> iteration 7:O\""
      ]
     },
     "metadata": {},
     "output_type": "display_data"
    },
    {
     "data": {
      "text/plain": [
       "\">>>>>> iteration 8:O\""
      ]
     },
     "metadata": {},
     "output_type": "display_data"
    },
    {
     "data": {
      "text/plain": [
       "\">>>>>> iteration 9:O\""
      ]
     },
     "metadata": {},
     "output_type": "display_data"
    },
    {
     "data": {
      "text/plain": [
       "\">>>>>> iteration 10:O\""
      ]
     },
     "metadata": {},
     "output_type": "display_data"
    },
    {
     "data": {
      "text/plain": [
       "\">>>>>> iteration 11:O\""
      ]
     },
     "metadata": {},
     "output_type": "display_data"
    },
    {
     "data": {
      "text/plain": [
       "\">>>>>> iteration 12:O\""
      ]
     },
     "metadata": {},
     "output_type": "display_data"
    },
    {
     "data": {
      "text/plain": [
       "\">>>>>> iteration 13:O\""
      ]
     },
     "metadata": {},
     "output_type": "display_data"
    },
    {
     "data": {
      "text/plain": [
       "\">>>>>> iteration 14:O\""
      ]
     },
     "metadata": {},
     "output_type": "display_data"
    },
    {
     "data": {
      "text/plain": [
       "\">>>>>> iteration 15:O\""
      ]
     },
     "metadata": {},
     "output_type": "display_data"
    },
    {
     "data": {
      "text/plain": [
       "\">>>>>> iteration 16:O\""
      ]
     },
     "metadata": {},
     "output_type": "display_data"
    },
    {
     "data": {
      "text/plain": [
       "\">>>>>> iteration 17:O\""
      ]
     },
     "metadata": {},
     "output_type": "display_data"
    },
    {
     "data": {
      "text/plain": [
       "\">>>>>> iteration 18:O\""
      ]
     },
     "metadata": {},
     "output_type": "display_data"
    },
    {
     "data": {
      "text/plain": [
       "\">>>>>> iteration 19:O\""
      ]
     },
     "metadata": {},
     "output_type": "display_data"
    },
    {
     "data": {
      "text/plain": [
       "\">>>>>> iteration 20:O\""
      ]
     },
     "metadata": {},
     "output_type": "display_data"
    },
    {
     "data": {
      "text/plain": [
       "\">>>>>> iteration 21:O\""
      ]
     },
     "metadata": {},
     "output_type": "display_data"
    },
    {
     "data": {
      "text/plain": [
       "\">>>>>> iteration 22:O\""
      ]
     },
     "metadata": {},
     "output_type": "display_data"
    },
    {
     "data": {
      "text/plain": [
       "\">>>>>> iteration 23:O\""
      ]
     },
     "metadata": {},
     "output_type": "display_data"
    },
    {
     "data": {
      "text/plain": [
       "\">>>>>> iteration 24:O\""
      ]
     },
     "metadata": {},
     "output_type": "display_data"
    },
    {
     "data": {
      "text/plain": [
       "\">>>>>> iteration 25:O\""
      ]
     },
     "metadata": {},
     "output_type": "display_data"
    },
    {
     "data": {
      "text/plain": [
       "\">>>>>> iteration 26:O\""
      ]
     },
     "metadata": {},
     "output_type": "display_data"
    },
    {
     "data": {
      "text/plain": [
       "\">>>>>> iteration 27:O\""
      ]
     },
     "metadata": {},
     "output_type": "display_data"
    },
    {
     "data": {
      "text/plain": [
       "\">>>>>> iteration 28:O\""
      ]
     },
     "metadata": {},
     "output_type": "display_data"
    },
    {
     "data": {
      "text/plain": [
       "\">>>>>> iteration 29:O\""
      ]
     },
     "metadata": {},
     "output_type": "display_data"
    },
    {
     "data": {
      "text/plain": [
       "\">>>>>> iteration 30:O\""
      ]
     },
     "metadata": {},
     "output_type": "display_data"
    },
    {
     "data": {
      "text/plain": [
       "\">>>>>> iteration 31:O\""
      ]
     },
     "metadata": {},
     "output_type": "display_data"
    },
    {
     "data": {
      "text/plain": [
       "\">>>>>> iteration 32:O\""
      ]
     },
     "metadata": {},
     "output_type": "display_data"
    },
    {
     "data": {
      "text/plain": [
       "\">>>>>> iteration 33:O\""
      ]
     },
     "metadata": {},
     "output_type": "display_data"
    },
    {
     "data": {
      "text/plain": [
       "\">>>>>> iteration 34:O\""
      ]
     },
     "metadata": {},
     "output_type": "display_data"
    },
    {
     "data": {
      "text/plain": [
       "\">>>>>> iteration 35:O\""
      ]
     },
     "metadata": {},
     "output_type": "display_data"
    },
    {
     "data": {
      "text/plain": [
       "\">>>>>> iteration 36:O\""
      ]
     },
     "metadata": {},
     "output_type": "display_data"
    },
    {
     "data": {
      "text/plain": [
       "\">>>>>> iteration 37:O\""
      ]
     },
     "metadata": {},
     "output_type": "display_data"
    },
    {
     "data": {
      "text/plain": [
       "\">>>>>> iteration 38:F\""
      ]
     },
     "metadata": {},
     "output_type": "display_data"
    },
    {
     "data": {
      "text/plain": [
       "\">>>>>> iteration 39:O\""
      ]
     },
     "metadata": {},
     "output_type": "display_data"
    },
    {
     "data": {
      "text/plain": [
       "\">>>>>> iteration 40:O\""
      ]
     },
     "metadata": {},
     "output_type": "display_data"
    },
    {
     "name": "stdout",
     "output_type": "stream",
     "text": [
      "MC: 4>> Time: 9\n",
      "MC: 4>> Time: 10\n",
      "MC: 4>> Time: 11\n",
      "MC: 4>> Time: 12\n"
     ]
    },
    {
     "data": {
      "text/plain": [
       "\">>>>>> iteration 1:O\""
      ]
     },
     "metadata": {},
     "output_type": "display_data"
    },
    {
     "data": {
      "text/plain": [
       "\">>>>>> iteration 2:O\""
      ]
     },
     "metadata": {},
     "output_type": "display_data"
    },
    {
     "data": {
      "text/plain": [
       "\">>>>>> iteration 3:O\""
      ]
     },
     "metadata": {},
     "output_type": "display_data"
    },
    {
     "data": {
      "text/plain": [
       "\">>>>>> iteration 4:O\""
      ]
     },
     "metadata": {},
     "output_type": "display_data"
    },
    {
     "data": {
      "text/plain": [
       "\">>>>>> iteration 5:O\""
      ]
     },
     "metadata": {},
     "output_type": "display_data"
    },
    {
     "data": {
      "text/plain": [
       "\">>>>>> iteration 6:O\""
      ]
     },
     "metadata": {},
     "output_type": "display_data"
    },
    {
     "data": {
      "text/plain": [
       "\">>>>>> iteration 7:O\""
      ]
     },
     "metadata": {},
     "output_type": "display_data"
    },
    {
     "data": {
      "text/plain": [
       "\">>>>>> iteration 8:O\""
      ]
     },
     "metadata": {},
     "output_type": "display_data"
    },
    {
     "data": {
      "text/plain": [
       "\">>>>>> iteration 9:O\""
      ]
     },
     "metadata": {},
     "output_type": "display_data"
    },
    {
     "data": {
      "text/plain": [
       "\">>>>>> iteration 10:O\""
      ]
     },
     "metadata": {},
     "output_type": "display_data"
    },
    {
     "data": {
      "text/plain": [
       "\">>>>>> iteration 11:O\""
      ]
     },
     "metadata": {},
     "output_type": "display_data"
    },
    {
     "data": {
      "text/plain": [
       "\">>>>>> iteration 12:O\""
      ]
     },
     "metadata": {},
     "output_type": "display_data"
    },
    {
     "data": {
      "text/plain": [
       "\">>>>>> iteration 13:O\""
      ]
     },
     "metadata": {},
     "output_type": "display_data"
    },
    {
     "data": {
      "text/plain": [
       "\">>>>>> iteration 14:O\""
      ]
     },
     "metadata": {},
     "output_type": "display_data"
    },
    {
     "data": {
      "text/plain": [
       "\">>>>>> iteration 15:O\""
      ]
     },
     "metadata": {},
     "output_type": "display_data"
    },
    {
     "data": {
      "text/plain": [
       "\">>>>>> iteration 16:O\""
      ]
     },
     "metadata": {},
     "output_type": "display_data"
    },
    {
     "data": {
      "text/plain": [
       "\">>>>>> iteration 17:O\""
      ]
     },
     "metadata": {},
     "output_type": "display_data"
    },
    {
     "data": {
      "text/plain": [
       "\">>>>>> iteration 18:O\""
      ]
     },
     "metadata": {},
     "output_type": "display_data"
    },
    {
     "data": {
      "text/plain": [
       "\">>>>>> iteration 19:O\""
      ]
     },
     "metadata": {},
     "output_type": "display_data"
    },
    {
     "data": {
      "text/plain": [
       "\">>>>>> iteration 20:O\""
      ]
     },
     "metadata": {},
     "output_type": "display_data"
    },
    {
     "data": {
      "text/plain": [
       "\">>>>>> iteration 21:O\""
      ]
     },
     "metadata": {},
     "output_type": "display_data"
    },
    {
     "data": {
      "text/plain": [
       "\">>>>>> iteration 22:O\""
      ]
     },
     "metadata": {},
     "output_type": "display_data"
    },
    {
     "data": {
      "text/plain": [
       "\">>>>>> iteration 23:O\""
      ]
     },
     "metadata": {},
     "output_type": "display_data"
    },
    {
     "data": {
      "text/plain": [
       "\">>>>>> iteration 24:O\""
      ]
     },
     "metadata": {},
     "output_type": "display_data"
    },
    {
     "data": {
      "text/plain": [
       "\">>>>>> iteration 25:O\""
      ]
     },
     "metadata": {},
     "output_type": "display_data"
    },
    {
     "data": {
      "text/plain": [
       "\">>>>>> iteration 26:O\""
      ]
     },
     "metadata": {},
     "output_type": "display_data"
    },
    {
     "data": {
      "text/plain": [
       "\">>>>>> iteration 27:O\""
      ]
     },
     "metadata": {},
     "output_type": "display_data"
    },
    {
     "data": {
      "text/plain": [
       "\">>>>>> iteration 28:F\""
      ]
     },
     "metadata": {},
     "output_type": "display_data"
    },
    {
     "data": {
      "text/plain": [
       "\">>>>>> iteration 29:O\""
      ]
     },
     "metadata": {},
     "output_type": "display_data"
    },
    {
     "data": {
      "text/plain": [
       "\">>>>>> iteration 30:O\""
      ]
     },
     "metadata": {},
     "output_type": "display_data"
    },
    {
     "data": {
      "text/plain": [
       "\">>>>>> iteration 31:O\""
      ]
     },
     "metadata": {},
     "output_type": "display_data"
    },
    {
     "data": {
      "text/plain": [
       "\">>>>>> iteration 32:O\""
      ]
     },
     "metadata": {},
     "output_type": "display_data"
    },
    {
     "data": {
      "text/plain": [
       "\">>>>>> iteration 33:O\""
      ]
     },
     "metadata": {},
     "output_type": "display_data"
    },
    {
     "data": {
      "text/plain": [
       "\">>>>>> iteration 34:O\""
      ]
     },
     "metadata": {},
     "output_type": "display_data"
    },
    {
     "data": {
      "text/plain": [
       "\">>>>>> iteration 35:O\""
      ]
     },
     "metadata": {},
     "output_type": "display_data"
    },
    {
     "data": {
      "text/plain": [
       "\">>>>>> iteration 36:O\""
      ]
     },
     "metadata": {},
     "output_type": "display_data"
    },
    {
     "name": "stdout",
     "output_type": "stream",
     "text": [
      "MC: 4>> Time: 13\n",
      "MC: 4>> Time: 14\n",
      "MC: 4>> Time: 15\n",
      "MC: 4>> Time: 16\n"
     ]
    },
    {
     "data": {
      "text/plain": [
       "\">>>>>> iteration 1:O\""
      ]
     },
     "metadata": {},
     "output_type": "display_data"
    },
    {
     "data": {
      "text/plain": [
       "\">>>>>> iteration 2:O\""
      ]
     },
     "metadata": {},
     "output_type": "display_data"
    },
    {
     "data": {
      "text/plain": [
       "\">>>>>> iteration 3:O\""
      ]
     },
     "metadata": {},
     "output_type": "display_data"
    },
    {
     "data": {
      "text/plain": [
       "\">>>>>> iteration 4:O\""
      ]
     },
     "metadata": {},
     "output_type": "display_data"
    },
    {
     "data": {
      "text/plain": [
       "\">>>>>> iteration 5:O\""
      ]
     },
     "metadata": {},
     "output_type": "display_data"
    },
    {
     "data": {
      "text/plain": [
       "\">>>>>> iteration 6:O\""
      ]
     },
     "metadata": {},
     "output_type": "display_data"
    },
    {
     "data": {
      "text/plain": [
       "\">>>>>> iteration 7:O\""
      ]
     },
     "metadata": {},
     "output_type": "display_data"
    },
    {
     "data": {
      "text/plain": [
       "\">>>>>> iteration 8:O\""
      ]
     },
     "metadata": {},
     "output_type": "display_data"
    },
    {
     "data": {
      "text/plain": [
       "\">>>>>> iteration 9:O\""
      ]
     },
     "metadata": {},
     "output_type": "display_data"
    },
    {
     "data": {
      "text/plain": [
       "\">>>>>> iteration 10:O\""
      ]
     },
     "metadata": {},
     "output_type": "display_data"
    },
    {
     "data": {
      "text/plain": [
       "\">>>>>> iteration 11:O\""
      ]
     },
     "metadata": {},
     "output_type": "display_data"
    },
    {
     "data": {
      "text/plain": [
       "\">>>>>> iteration 12:O\""
      ]
     },
     "metadata": {},
     "output_type": "display_data"
    },
    {
     "data": {
      "text/plain": [
       "\">>>>>> iteration 13:O\""
      ]
     },
     "metadata": {},
     "output_type": "display_data"
    },
    {
     "data": {
      "text/plain": [
       "\">>>>>> iteration 14:O\""
      ]
     },
     "metadata": {},
     "output_type": "display_data"
    },
    {
     "data": {
      "text/plain": [
       "\">>>>>> iteration 15:O\""
      ]
     },
     "metadata": {},
     "output_type": "display_data"
    },
    {
     "data": {
      "text/plain": [
       "\">>>>>> iteration 16:O\""
      ]
     },
     "metadata": {},
     "output_type": "display_data"
    },
    {
     "data": {
      "text/plain": [
       "\">>>>>> iteration 17:O\""
      ]
     },
     "metadata": {},
     "output_type": "display_data"
    },
    {
     "data": {
      "text/plain": [
       "\">>>>>> iteration 18:O\""
      ]
     },
     "metadata": {},
     "output_type": "display_data"
    },
    {
     "data": {
      "text/plain": [
       "\">>>>>> iteration 19:O\""
      ]
     },
     "metadata": {},
     "output_type": "display_data"
    },
    {
     "data": {
      "text/plain": [
       "\">>>>>> iteration 20:O\""
      ]
     },
     "metadata": {},
     "output_type": "display_data"
    },
    {
     "data": {
      "text/plain": [
       "\">>>>>> iteration 21:O\""
      ]
     },
     "metadata": {},
     "output_type": "display_data"
    },
    {
     "data": {
      "text/plain": [
       "\">>>>>> iteration 22:O\""
      ]
     },
     "metadata": {},
     "output_type": "display_data"
    },
    {
     "data": {
      "text/plain": [
       "\">>>>>> iteration 23:O\""
      ]
     },
     "metadata": {},
     "output_type": "display_data"
    },
    {
     "data": {
      "text/plain": [
       "\">>>>>> iteration 24:O\""
      ]
     },
     "metadata": {},
     "output_type": "display_data"
    },
    {
     "data": {
      "text/plain": [
       "\">>>>>> iteration 25:O\""
      ]
     },
     "metadata": {},
     "output_type": "display_data"
    },
    {
     "data": {
      "text/plain": [
       "\">>>>>> iteration 26:O\""
      ]
     },
     "metadata": {},
     "output_type": "display_data"
    },
    {
     "data": {
      "text/plain": [
       "\">>>>>> iteration 27:O\""
      ]
     },
     "metadata": {},
     "output_type": "display_data"
    },
    {
     "data": {
      "text/plain": [
       "\">>>>>> iteration 28:O\""
      ]
     },
     "metadata": {},
     "output_type": "display_data"
    },
    {
     "data": {
      "text/plain": [
       "\">>>>>> iteration 29:F\""
      ]
     },
     "metadata": {},
     "output_type": "display_data"
    },
    {
     "data": {
      "text/plain": [
       "\">>>>>> iteration 30:O\""
      ]
     },
     "metadata": {},
     "output_type": "display_data"
    },
    {
     "data": {
      "text/plain": [
       "\">>>>>> iteration 31:O\""
      ]
     },
     "metadata": {},
     "output_type": "display_data"
    },
    {
     "data": {
      "text/plain": [
       "\">>>>>> iteration 32:O\""
      ]
     },
     "metadata": {},
     "output_type": "display_data"
    },
    {
     "data": {
      "text/plain": [
       "\">>>>>> iteration 33:O\""
      ]
     },
     "metadata": {},
     "output_type": "display_data"
    },
    {
     "data": {
      "text/plain": [
       "\">>>>>> iteration 34:O\""
      ]
     },
     "metadata": {},
     "output_type": "display_data"
    },
    {
     "data": {
      "text/plain": [
       "\">>>>>> iteration 35:O\""
      ]
     },
     "metadata": {},
     "output_type": "display_data"
    },
    {
     "data": {
      "text/plain": [
       "\">>>>>> iteration 36:O\""
      ]
     },
     "metadata": {},
     "output_type": "display_data"
    },
    {
     "data": {
      "text/plain": [
       "\">>>>>> iteration 37:O\""
      ]
     },
     "metadata": {},
     "output_type": "display_data"
    },
    {
     "data": {
      "text/plain": [
       "\">>>>>> iteration 38:O\""
      ]
     },
     "metadata": {},
     "output_type": "display_data"
    },
    {
     "data": {
      "text/plain": [
       "\">>>>>> iteration 39:O\""
      ]
     },
     "metadata": {},
     "output_type": "display_data"
    },
    {
     "name": "stdout",
     "output_type": "stream",
     "text": [
      "MC: 4>> Time: 17\n",
      "MC: 4>> Time: 18\n",
      "MC: 4>> Time: 19\n",
      "MC: 4>> Time: 20\n"
     ]
    },
    {
     "data": {
      "text/plain": [
       "\">>>>>> iteration 1:O\""
      ]
     },
     "metadata": {},
     "output_type": "display_data"
    },
    {
     "data": {
      "text/plain": [
       "\">>>>>> iteration 2:O\""
      ]
     },
     "metadata": {},
     "output_type": "display_data"
    },
    {
     "data": {
      "text/plain": [
       "\">>>>>> iteration 3:O\""
      ]
     },
     "metadata": {},
     "output_type": "display_data"
    },
    {
     "data": {
      "text/plain": [
       "\">>>>>> iteration 4:O\""
      ]
     },
     "metadata": {},
     "output_type": "display_data"
    },
    {
     "data": {
      "text/plain": [
       "\">>>>>> iteration 5:O\""
      ]
     },
     "metadata": {},
     "output_type": "display_data"
    },
    {
     "data": {
      "text/plain": [
       "\">>>>>> iteration 6:O\""
      ]
     },
     "metadata": {},
     "output_type": "display_data"
    },
    {
     "data": {
      "text/plain": [
       "\">>>>>> iteration 7:O\""
      ]
     },
     "metadata": {},
     "output_type": "display_data"
    },
    {
     "data": {
      "text/plain": [
       "\">>>>>> iteration 8:O\""
      ]
     },
     "metadata": {},
     "output_type": "display_data"
    },
    {
     "data": {
      "text/plain": [
       "\">>>>>> iteration 9:O\""
      ]
     },
     "metadata": {},
     "output_type": "display_data"
    },
    {
     "data": {
      "text/plain": [
       "\">>>>>> iteration 10:O\""
      ]
     },
     "metadata": {},
     "output_type": "display_data"
    },
    {
     "data": {
      "text/plain": [
       "\">>>>>> iteration 11:O\""
      ]
     },
     "metadata": {},
     "output_type": "display_data"
    },
    {
     "data": {
      "text/plain": [
       "\">>>>>> iteration 12:O\""
      ]
     },
     "metadata": {},
     "output_type": "display_data"
    },
    {
     "data": {
      "text/plain": [
       "\">>>>>> iteration 13:O\""
      ]
     },
     "metadata": {},
     "output_type": "display_data"
    },
    {
     "data": {
      "text/plain": [
       "\">>>>>> iteration 14:O\""
      ]
     },
     "metadata": {},
     "output_type": "display_data"
    },
    {
     "data": {
      "text/plain": [
       "\">>>>>> iteration 15:O\""
      ]
     },
     "metadata": {},
     "output_type": "display_data"
    },
    {
     "data": {
      "text/plain": [
       "\">>>>>> iteration 16:O\""
      ]
     },
     "metadata": {},
     "output_type": "display_data"
    },
    {
     "data": {
      "text/plain": [
       "\">>>>>> iteration 17:O\""
      ]
     },
     "metadata": {},
     "output_type": "display_data"
    },
    {
     "data": {
      "text/plain": [
       "\">>>>>> iteration 18:O\""
      ]
     },
     "metadata": {},
     "output_type": "display_data"
    },
    {
     "data": {
      "text/plain": [
       "\">>>>>> iteration 19:O\""
      ]
     },
     "metadata": {},
     "output_type": "display_data"
    },
    {
     "data": {
      "text/plain": [
       "\">>>>>> iteration 20:O\""
      ]
     },
     "metadata": {},
     "output_type": "display_data"
    },
    {
     "data": {
      "text/plain": [
       "\">>>>>> iteration 21:O\""
      ]
     },
     "metadata": {},
     "output_type": "display_data"
    },
    {
     "data": {
      "text/plain": [
       "\">>>>>> iteration 22:O\""
      ]
     },
     "metadata": {},
     "output_type": "display_data"
    },
    {
     "data": {
      "text/plain": [
       "\">>>>>> iteration 23:O\""
      ]
     },
     "metadata": {},
     "output_type": "display_data"
    },
    {
     "data": {
      "text/plain": [
       "\">>>>>> iteration 24:O\""
      ]
     },
     "metadata": {},
     "output_type": "display_data"
    },
    {
     "data": {
      "text/plain": [
       "\">>>>>> iteration 25:O\""
      ]
     },
     "metadata": {},
     "output_type": "display_data"
    },
    {
     "data": {
      "text/plain": [
       "\">>>>>> iteration 26:O\""
      ]
     },
     "metadata": {},
     "output_type": "display_data"
    },
    {
     "data": {
      "text/plain": [
       "\">>>>>> iteration 27:O\""
      ]
     },
     "metadata": {},
     "output_type": "display_data"
    },
    {
     "data": {
      "text/plain": [
       "\">>>>>> iteration 28:O\""
      ]
     },
     "metadata": {},
     "output_type": "display_data"
    },
    {
     "data": {
      "text/plain": [
       "\">>>>>> iteration 29:O\""
      ]
     },
     "metadata": {},
     "output_type": "display_data"
    },
    {
     "data": {
      "text/plain": [
       "\">>>>>> iteration 30:O\""
      ]
     },
     "metadata": {},
     "output_type": "display_data"
    },
    {
     "data": {
      "text/plain": [
       "\">>>>>> iteration 31:O\""
      ]
     },
     "metadata": {},
     "output_type": "display_data"
    },
    {
     "data": {
      "text/plain": [
       "\">>>>>> iteration 32:O\""
      ]
     },
     "metadata": {},
     "output_type": "display_data"
    },
    {
     "data": {
      "text/plain": [
       "\">>>>>> iteration 33:O\""
      ]
     },
     "metadata": {},
     "output_type": "display_data"
    },
    {
     "data": {
      "text/plain": [
       "\">>>>>> iteration 34:O\""
      ]
     },
     "metadata": {},
     "output_type": "display_data"
    },
    {
     "data": {
      "text/plain": [
       "\">>>>>> iteration 35:O\""
      ]
     },
     "metadata": {},
     "output_type": "display_data"
    },
    {
     "name": "stdout",
     "output_type": "stream",
     "text": [
      "MC: 5>> Time: 1\n",
      "MC: 5>> Time: 2\n",
      "MC: 5>> Time: 3\n",
      "MC: 5>> Time: 4\n",
      "MC: 5>> Time: 5\n",
      "MC: 5>> Time: 6\n",
      "MC: 5>> Time: 7\n",
      "MC: 5>> Time: 8\n",
      "MC: 5>> Time: 9\n",
      "MC: 5>> Time: 10\n",
      "MC: 5>> Time: 11\n",
      "MC: 5>> Time: 12\n",
      "MC: 5>> Time: 13\n",
      "MC: 5>> Time: 14\n",
      "MC: 5>> Time: 15\n",
      "MC: 5>> Time: 16\n",
      "MC: 5>> Time: 17\n",
      "MC: 5>> Time: 18\n",
      "MC: 5>> Time: 19\n",
      "MC: 5>> Time: 20\n",
      "MC: 5>> Time: 1\n"
     ]
    },
    {
     "data": {
      "text/plain": [
       "\">>>>>> iteration 1:O\""
      ]
     },
     "metadata": {},
     "output_type": "display_data"
    },
    {
     "data": {
      "text/plain": [
       "\">>>>>> iteration 2:O\""
      ]
     },
     "metadata": {},
     "output_type": "display_data"
    },
    {
     "data": {
      "text/plain": [
       "\">>>>>> iteration 3:O\""
      ]
     },
     "metadata": {},
     "output_type": "display_data"
    },
    {
     "data": {
      "text/plain": [
       "\">>>>>> iteration 4:O\""
      ]
     },
     "metadata": {},
     "output_type": "display_data"
    },
    {
     "data": {
      "text/plain": [
       "\">>>>>> iteration 5:O\""
      ]
     },
     "metadata": {},
     "output_type": "display_data"
    },
    {
     "data": {
      "text/plain": [
       "\">>>>>> iteration 6:O\""
      ]
     },
     "metadata": {},
     "output_type": "display_data"
    },
    {
     "data": {
      "text/plain": [
       "\">>>>>> iteration 7:O\""
      ]
     },
     "metadata": {},
     "output_type": "display_data"
    },
    {
     "data": {
      "text/plain": [
       "\">>>>>> iteration 8:O\""
      ]
     },
     "metadata": {},
     "output_type": "display_data"
    },
    {
     "data": {
      "text/plain": [
       "\">>>>>> iteration 9:O\""
      ]
     },
     "metadata": {},
     "output_type": "display_data"
    },
    {
     "data": {
      "text/plain": [
       "\">>>>>> iteration 10:O\""
      ]
     },
     "metadata": {},
     "output_type": "display_data"
    },
    {
     "data": {
      "text/plain": [
       "\">>>>>> iteration 11:O\""
      ]
     },
     "metadata": {},
     "output_type": "display_data"
    },
    {
     "data": {
      "text/plain": [
       "\">>>>>> iteration 12:O\""
      ]
     },
     "metadata": {},
     "output_type": "display_data"
    },
    {
     "data": {
      "text/plain": [
       "\">>>>>> iteration 13:F\""
      ]
     },
     "metadata": {},
     "output_type": "display_data"
    },
    {
     "data": {
      "text/plain": [
       "\">>>>>> iteration 14:O\""
      ]
     },
     "metadata": {},
     "output_type": "display_data"
    },
    {
     "data": {
      "text/plain": [
       "\">>>>>> iteration 15:O\""
      ]
     },
     "metadata": {},
     "output_type": "display_data"
    },
    {
     "data": {
      "text/plain": [
       "\">>>>>> iteration 16:O\""
      ]
     },
     "metadata": {},
     "output_type": "display_data"
    },
    {
     "data": {
      "text/plain": [
       "\">>>>>> iteration 17:O\""
      ]
     },
     "metadata": {},
     "output_type": "display_data"
    },
    {
     "name": "stdout",
     "output_type": "stream",
     "text": [
      "MC: 5>> Time: 2\n",
      "MC: 5>> Time: 3\n",
      "MC: 5>> Time: 4\n"
     ]
    },
    {
     "data": {
      "text/plain": [
       "\">>>>>> iteration 1:O\""
      ]
     },
     "metadata": {},
     "output_type": "display_data"
    },
    {
     "data": {
      "text/plain": [
       "\">>>>>> iteration 2:O\""
      ]
     },
     "metadata": {},
     "output_type": "display_data"
    },
    {
     "data": {
      "text/plain": [
       "\">>>>>> iteration 3:O\""
      ]
     },
     "metadata": {},
     "output_type": "display_data"
    },
    {
     "data": {
      "text/plain": [
       "\">>>>>> iteration 4:O\""
      ]
     },
     "metadata": {},
     "output_type": "display_data"
    },
    {
     "data": {
      "text/plain": [
       "\">>>>>> iteration 5:O\""
      ]
     },
     "metadata": {},
     "output_type": "display_data"
    },
    {
     "data": {
      "text/plain": [
       "\">>>>>> iteration 6:O\""
      ]
     },
     "metadata": {},
     "output_type": "display_data"
    },
    {
     "data": {
      "text/plain": [
       "\">>>>>> iteration 7:O\""
      ]
     },
     "metadata": {},
     "output_type": "display_data"
    },
    {
     "data": {
      "text/plain": [
       "\">>>>>> iteration 8:O\""
      ]
     },
     "metadata": {},
     "output_type": "display_data"
    },
    {
     "data": {
      "text/plain": [
       "\">>>>>> iteration 9:O\""
      ]
     },
     "metadata": {},
     "output_type": "display_data"
    },
    {
     "data": {
      "text/plain": [
       "\">>>>>> iteration 10:O\""
      ]
     },
     "metadata": {},
     "output_type": "display_data"
    },
    {
     "data": {
      "text/plain": [
       "\">>>>>> iteration 11:O\""
      ]
     },
     "metadata": {},
     "output_type": "display_data"
    },
    {
     "data": {
      "text/plain": [
       "\">>>>>> iteration 12:O\""
      ]
     },
     "metadata": {},
     "output_type": "display_data"
    },
    {
     "data": {
      "text/plain": [
       "\">>>>>> iteration 13:O\""
      ]
     },
     "metadata": {},
     "output_type": "display_data"
    },
    {
     "data": {
      "text/plain": [
       "\">>>>>> iteration 14:O\""
      ]
     },
     "metadata": {},
     "output_type": "display_data"
    },
    {
     "data": {
      "text/plain": [
       "\">>>>>> iteration 15:O\""
      ]
     },
     "metadata": {},
     "output_type": "display_data"
    },
    {
     "data": {
      "text/plain": [
       "\">>>>>> iteration 16:O\""
      ]
     },
     "metadata": {},
     "output_type": "display_data"
    },
    {
     "data": {
      "text/plain": [
       "\">>>>>> iteration 17:O\""
      ]
     },
     "metadata": {},
     "output_type": "display_data"
    },
    {
     "data": {
      "text/plain": [
       "\">>>>>> iteration 18:F\""
      ]
     },
     "metadata": {},
     "output_type": "display_data"
    },
    {
     "data": {
      "text/plain": [
       "\">>>>>> iteration 19:O\""
      ]
     },
     "metadata": {},
     "output_type": "display_data"
    },
    {
     "data": {
      "text/plain": [
       "\">>>>>> iteration 20:O\""
      ]
     },
     "metadata": {},
     "output_type": "display_data"
    },
    {
     "data": {
      "text/plain": [
       "\">>>>>> iteration 21:O\""
      ]
     },
     "metadata": {},
     "output_type": "display_data"
    },
    {
     "name": "stdout",
     "output_type": "stream",
     "text": [
      "MC: 5>> Time: 5\n",
      "MC: 5>> Time: 6\n",
      "MC: 5>> Time: 7\n",
      "MC: 5>> Time: 8\n"
     ]
    },
    {
     "data": {
      "text/plain": [
       "\">>>>>> iteration 1:O\""
      ]
     },
     "metadata": {},
     "output_type": "display_data"
    },
    {
     "data": {
      "text/plain": [
       "\">>>>>> iteration 2:O\""
      ]
     },
     "metadata": {},
     "output_type": "display_data"
    },
    {
     "data": {
      "text/plain": [
       "\">>>>>> iteration 3:O\""
      ]
     },
     "metadata": {},
     "output_type": "display_data"
    },
    {
     "data": {
      "text/plain": [
       "\">>>>>> iteration 4:O\""
      ]
     },
     "metadata": {},
     "output_type": "display_data"
    },
    {
     "data": {
      "text/plain": [
       "\">>>>>> iteration 5:O\""
      ]
     },
     "metadata": {},
     "output_type": "display_data"
    },
    {
     "data": {
      "text/plain": [
       "\">>>>>> iteration 6:O\""
      ]
     },
     "metadata": {},
     "output_type": "display_data"
    },
    {
     "data": {
      "text/plain": [
       "\">>>>>> iteration 7:O\""
      ]
     },
     "metadata": {},
     "output_type": "display_data"
    },
    {
     "data": {
      "text/plain": [
       "\">>>>>> iteration 8:O\""
      ]
     },
     "metadata": {},
     "output_type": "display_data"
    },
    {
     "data": {
      "text/plain": [
       "\">>>>>> iteration 9:O\""
      ]
     },
     "metadata": {},
     "output_type": "display_data"
    },
    {
     "data": {
      "text/plain": [
       "\">>>>>> iteration 10:O\""
      ]
     },
     "metadata": {},
     "output_type": "display_data"
    },
    {
     "data": {
      "text/plain": [
       "\">>>>>> iteration 11:O\""
      ]
     },
     "metadata": {},
     "output_type": "display_data"
    },
    {
     "data": {
      "text/plain": [
       "\">>>>>> iteration 12:O\""
      ]
     },
     "metadata": {},
     "output_type": "display_data"
    },
    {
     "data": {
      "text/plain": [
       "\">>>>>> iteration 13:O\""
      ]
     },
     "metadata": {},
     "output_type": "display_data"
    },
    {
     "data": {
      "text/plain": [
       "\">>>>>> iteration 14:O\""
      ]
     },
     "metadata": {},
     "output_type": "display_data"
    },
    {
     "data": {
      "text/plain": [
       "\">>>>>> iteration 15:O\""
      ]
     },
     "metadata": {},
     "output_type": "display_data"
    },
    {
     "data": {
      "text/plain": [
       "\">>>>>> iteration 16:O\""
      ]
     },
     "metadata": {},
     "output_type": "display_data"
    },
    {
     "data": {
      "text/plain": [
       "\">>>>>> iteration 17:O\""
      ]
     },
     "metadata": {},
     "output_type": "display_data"
    },
    {
     "data": {
      "text/plain": [
       "\">>>>>> iteration 18:O\""
      ]
     },
     "metadata": {},
     "output_type": "display_data"
    },
    {
     "data": {
      "text/plain": [
       "\">>>>>> iteration 19:O\""
      ]
     },
     "metadata": {},
     "output_type": "display_data"
    },
    {
     "data": {
      "text/plain": [
       "\">>>>>> iteration 20:O\""
      ]
     },
     "metadata": {},
     "output_type": "display_data"
    },
    {
     "data": {
      "text/plain": [
       "\">>>>>> iteration 21:O\""
      ]
     },
     "metadata": {},
     "output_type": "display_data"
    },
    {
     "data": {
      "text/plain": [
       "\">>>>>> iteration 22:O\""
      ]
     },
     "metadata": {},
     "output_type": "display_data"
    },
    {
     "data": {
      "text/plain": [
       "\">>>>>> iteration 23:O\""
      ]
     },
     "metadata": {},
     "output_type": "display_data"
    },
    {
     "data": {
      "text/plain": [
       "\">>>>>> iteration 24:O\""
      ]
     },
     "metadata": {},
     "output_type": "display_data"
    },
    {
     "data": {
      "text/plain": [
       "\">>>>>> iteration 25:O\""
      ]
     },
     "metadata": {},
     "output_type": "display_data"
    },
    {
     "data": {
      "text/plain": [
       "\">>>>>> iteration 26:O\""
      ]
     },
     "metadata": {},
     "output_type": "display_data"
    },
    {
     "data": {
      "text/plain": [
       "\">>>>>> iteration 27:O\""
      ]
     },
     "metadata": {},
     "output_type": "display_data"
    },
    {
     "data": {
      "text/plain": [
       "\">>>>>> iteration 28:O\""
      ]
     },
     "metadata": {},
     "output_type": "display_data"
    },
    {
     "data": {
      "text/plain": [
       "\">>>>>> iteration 29:O\""
      ]
     },
     "metadata": {},
     "output_type": "display_data"
    },
    {
     "data": {
      "text/plain": [
       "\">>>>>> iteration 30:O\""
      ]
     },
     "metadata": {},
     "output_type": "display_data"
    },
    {
     "data": {
      "text/plain": [
       "\">>>>>> iteration 31:F\""
      ]
     },
     "metadata": {},
     "output_type": "display_data"
    },
    {
     "data": {
      "text/plain": [
       "\">>>>>> iteration 32:O\""
      ]
     },
     "metadata": {},
     "output_type": "display_data"
    },
    {
     "data": {
      "text/plain": [
       "\">>>>>> iteration 33:O\""
      ]
     },
     "metadata": {},
     "output_type": "display_data"
    },
    {
     "data": {
      "text/plain": [
       "\">>>>>> iteration 34:O\""
      ]
     },
     "metadata": {},
     "output_type": "display_data"
    },
    {
     "data": {
      "text/plain": [
       "\">>>>>> iteration 35:O\""
      ]
     },
     "metadata": {},
     "output_type": "display_data"
    },
    {
     "data": {
      "text/plain": [
       "\">>>>>> iteration 36:O\""
      ]
     },
     "metadata": {},
     "output_type": "display_data"
    },
    {
     "name": "stdout",
     "output_type": "stream",
     "text": [
      "MC: 5>> Time: 9\n",
      "MC: 5>> Time: 10\n",
      "MC: 5>> Time: 11\n",
      "MC: 5>> Time: 12\n"
     ]
    },
    {
     "data": {
      "text/plain": [
       "\">>>>>> iteration 1:O\""
      ]
     },
     "metadata": {},
     "output_type": "display_data"
    },
    {
     "data": {
      "text/plain": [
       "\">>>>>> iteration 2:O\""
      ]
     },
     "metadata": {},
     "output_type": "display_data"
    },
    {
     "data": {
      "text/plain": [
       "\">>>>>> iteration 3:O\""
      ]
     },
     "metadata": {},
     "output_type": "display_data"
    },
    {
     "data": {
      "text/plain": [
       "\">>>>>> iteration 4:O\""
      ]
     },
     "metadata": {},
     "output_type": "display_data"
    },
    {
     "data": {
      "text/plain": [
       "\">>>>>> iteration 5:O\""
      ]
     },
     "metadata": {},
     "output_type": "display_data"
    },
    {
     "data": {
      "text/plain": [
       "\">>>>>> iteration 6:O\""
      ]
     },
     "metadata": {},
     "output_type": "display_data"
    },
    {
     "data": {
      "text/plain": [
       "\">>>>>> iteration 7:O\""
      ]
     },
     "metadata": {},
     "output_type": "display_data"
    },
    {
     "data": {
      "text/plain": [
       "\">>>>>> iteration 8:O\""
      ]
     },
     "metadata": {},
     "output_type": "display_data"
    },
    {
     "data": {
      "text/plain": [
       "\">>>>>> iteration 9:O\""
      ]
     },
     "metadata": {},
     "output_type": "display_data"
    },
    {
     "data": {
      "text/plain": [
       "\">>>>>> iteration 10:O\""
      ]
     },
     "metadata": {},
     "output_type": "display_data"
    },
    {
     "data": {
      "text/plain": [
       "\">>>>>> iteration 11:O\""
      ]
     },
     "metadata": {},
     "output_type": "display_data"
    },
    {
     "data": {
      "text/plain": [
       "\">>>>>> iteration 12:O\""
      ]
     },
     "metadata": {},
     "output_type": "display_data"
    },
    {
     "data": {
      "text/plain": [
       "\">>>>>> iteration 13:O\""
      ]
     },
     "metadata": {},
     "output_type": "display_data"
    },
    {
     "data": {
      "text/plain": [
       "\">>>>>> iteration 14:O\""
      ]
     },
     "metadata": {},
     "output_type": "display_data"
    },
    {
     "data": {
      "text/plain": [
       "\">>>>>> iteration 15:O\""
      ]
     },
     "metadata": {},
     "output_type": "display_data"
    },
    {
     "data": {
      "text/plain": [
       "\">>>>>> iteration 16:O\""
      ]
     },
     "metadata": {},
     "output_type": "display_data"
    },
    {
     "data": {
      "text/plain": [
       "\">>>>>> iteration 17:O\""
      ]
     },
     "metadata": {},
     "output_type": "display_data"
    },
    {
     "data": {
      "text/plain": [
       "\">>>>>> iteration 18:O\""
      ]
     },
     "metadata": {},
     "output_type": "display_data"
    },
    {
     "data": {
      "text/plain": [
       "\">>>>>> iteration 19:O\""
      ]
     },
     "metadata": {},
     "output_type": "display_data"
    },
    {
     "data": {
      "text/plain": [
       "\">>>>>> iteration 20:O\""
      ]
     },
     "metadata": {},
     "output_type": "display_data"
    },
    {
     "data": {
      "text/plain": [
       "\">>>>>> iteration 21:O\""
      ]
     },
     "metadata": {},
     "output_type": "display_data"
    },
    {
     "data": {
      "text/plain": [
       "\">>>>>> iteration 22:O\""
      ]
     },
     "metadata": {},
     "output_type": "display_data"
    },
    {
     "data": {
      "text/plain": [
       "\">>>>>> iteration 23:O\""
      ]
     },
     "metadata": {},
     "output_type": "display_data"
    },
    {
     "data": {
      "text/plain": [
       "\">>>>>> iteration 24:O\""
      ]
     },
     "metadata": {},
     "output_type": "display_data"
    },
    {
     "data": {
      "text/plain": [
       "\">>>>>> iteration 25:O\""
      ]
     },
     "metadata": {},
     "output_type": "display_data"
    },
    {
     "data": {
      "text/plain": [
       "\">>>>>> iteration 26:O\""
      ]
     },
     "metadata": {},
     "output_type": "display_data"
    },
    {
     "data": {
      "text/plain": [
       "\">>>>>> iteration 27:O\""
      ]
     },
     "metadata": {},
     "output_type": "display_data"
    },
    {
     "data": {
      "text/plain": [
       "\">>>>>> iteration 28:O\""
      ]
     },
     "metadata": {},
     "output_type": "display_data"
    },
    {
     "data": {
      "text/plain": [
       "\">>>>>> iteration 29:O\""
      ]
     },
     "metadata": {},
     "output_type": "display_data"
    },
    {
     "data": {
      "text/plain": [
       "\">>>>>> iteration 30:O\""
      ]
     },
     "metadata": {},
     "output_type": "display_data"
    },
    {
     "data": {
      "text/plain": [
       "\">>>>>> iteration 31:O\""
      ]
     },
     "metadata": {},
     "output_type": "display_data"
    },
    {
     "data": {
      "text/plain": [
       "\">>>>>> iteration 32:O\""
      ]
     },
     "metadata": {},
     "output_type": "display_data"
    },
    {
     "data": {
      "text/plain": [
       "\">>>>>> iteration 33:O\""
      ]
     },
     "metadata": {},
     "output_type": "display_data"
    },
    {
     "data": {
      "text/plain": [
       "\">>>>>> iteration 34:O\""
      ]
     },
     "metadata": {},
     "output_type": "display_data"
    },
    {
     "data": {
      "text/plain": [
       "\">>>>>> iteration 35:O\""
      ]
     },
     "metadata": {},
     "output_type": "display_data"
    },
    {
     "data": {
      "text/plain": [
       "\">>>>>> iteration 36:F\""
      ]
     },
     "metadata": {},
     "output_type": "display_data"
    },
    {
     "data": {
      "text/plain": [
       "\">>>>>> iteration 37:O\""
      ]
     },
     "metadata": {},
     "output_type": "display_data"
    },
    {
     "name": "stdout",
     "output_type": "stream",
     "text": [
      "MC: 5>> Time: 13\n",
      "MC: 5>> Time: 14\n",
      "MC: 5>> Time: 15\n",
      "MC: 5>> Time: 16\n"
     ]
    },
    {
     "data": {
      "text/plain": [
       "\">>>>>> iteration 1:O\""
      ]
     },
     "metadata": {},
     "output_type": "display_data"
    },
    {
     "data": {
      "text/plain": [
       "\">>>>>> iteration 2:O\""
      ]
     },
     "metadata": {},
     "output_type": "display_data"
    },
    {
     "data": {
      "text/plain": [
       "\">>>>>> iteration 3:O\""
      ]
     },
     "metadata": {},
     "output_type": "display_data"
    },
    {
     "data": {
      "text/plain": [
       "\">>>>>> iteration 4:O\""
      ]
     },
     "metadata": {},
     "output_type": "display_data"
    },
    {
     "data": {
      "text/plain": [
       "\">>>>>> iteration 5:O\""
      ]
     },
     "metadata": {},
     "output_type": "display_data"
    },
    {
     "data": {
      "text/plain": [
       "\">>>>>> iteration 6:O\""
      ]
     },
     "metadata": {},
     "output_type": "display_data"
    },
    {
     "data": {
      "text/plain": [
       "\">>>>>> iteration 7:O\""
      ]
     },
     "metadata": {},
     "output_type": "display_data"
    },
    {
     "data": {
      "text/plain": [
       "\">>>>>> iteration 8:O\""
      ]
     },
     "metadata": {},
     "output_type": "display_data"
    },
    {
     "data": {
      "text/plain": [
       "\">>>>>> iteration 9:O\""
      ]
     },
     "metadata": {},
     "output_type": "display_data"
    },
    {
     "data": {
      "text/plain": [
       "\">>>>>> iteration 10:O\""
      ]
     },
     "metadata": {},
     "output_type": "display_data"
    },
    {
     "data": {
      "text/plain": [
       "\">>>>>> iteration 11:O\""
      ]
     },
     "metadata": {},
     "output_type": "display_data"
    },
    {
     "data": {
      "text/plain": [
       "\">>>>>> iteration 12:O\""
      ]
     },
     "metadata": {},
     "output_type": "display_data"
    },
    {
     "data": {
      "text/plain": [
       "\">>>>>> iteration 13:O\""
      ]
     },
     "metadata": {},
     "output_type": "display_data"
    },
    {
     "data": {
      "text/plain": [
       "\">>>>>> iteration 14:O\""
      ]
     },
     "metadata": {},
     "output_type": "display_data"
    },
    {
     "data": {
      "text/plain": [
       "\">>>>>> iteration 15:O\""
      ]
     },
     "metadata": {},
     "output_type": "display_data"
    },
    {
     "data": {
      "text/plain": [
       "\">>>>>> iteration 16:O\""
      ]
     },
     "metadata": {},
     "output_type": "display_data"
    },
    {
     "data": {
      "text/plain": [
       "\">>>>>> iteration 17:O\""
      ]
     },
     "metadata": {},
     "output_type": "display_data"
    },
    {
     "data": {
      "text/plain": [
       "\">>>>>> iteration 18:O\""
      ]
     },
     "metadata": {},
     "output_type": "display_data"
    },
    {
     "data": {
      "text/plain": [
       "\">>>>>> iteration 19:O\""
      ]
     },
     "metadata": {},
     "output_type": "display_data"
    },
    {
     "data": {
      "text/plain": [
       "\">>>>>> iteration 20:O\""
      ]
     },
     "metadata": {},
     "output_type": "display_data"
    },
    {
     "data": {
      "text/plain": [
       "\">>>>>> iteration 21:O\""
      ]
     },
     "metadata": {},
     "output_type": "display_data"
    },
    {
     "data": {
      "text/plain": [
       "\">>>>>> iteration 22:O\""
      ]
     },
     "metadata": {},
     "output_type": "display_data"
    },
    {
     "data": {
      "text/plain": [
       "\">>>>>> iteration 23:O\""
      ]
     },
     "metadata": {},
     "output_type": "display_data"
    },
    {
     "data": {
      "text/plain": [
       "\">>>>>> iteration 24:F\""
      ]
     },
     "metadata": {},
     "output_type": "display_data"
    },
    {
     "data": {
      "text/plain": [
       "\">>>>>> iteration 25:O\""
      ]
     },
     "metadata": {},
     "output_type": "display_data"
    },
    {
     "data": {
      "text/plain": [
       "\">>>>>> iteration 26:O\""
      ]
     },
     "metadata": {},
     "output_type": "display_data"
    },
    {
     "data": {
      "text/plain": [
       "\">>>>>> iteration 27:O\""
      ]
     },
     "metadata": {},
     "output_type": "display_data"
    },
    {
     "data": {
      "text/plain": [
       "\">>>>>> iteration 28:O\""
      ]
     },
     "metadata": {},
     "output_type": "display_data"
    },
    {
     "data": {
      "text/plain": [
       "\">>>>>> iteration 29:O\""
      ]
     },
     "metadata": {},
     "output_type": "display_data"
    },
    {
     "data": {
      "text/plain": [
       "\">>>>>> iteration 30:O\""
      ]
     },
     "metadata": {},
     "output_type": "display_data"
    },
    {
     "data": {
      "text/plain": [
       "\">>>>>> iteration 31:O\""
      ]
     },
     "metadata": {},
     "output_type": "display_data"
    },
    {
     "data": {
      "text/plain": [
       "\">>>>>> iteration 32:O\""
      ]
     },
     "metadata": {},
     "output_type": "display_data"
    },
    {
     "data": {
      "text/plain": [
       "\">>>>>> iteration 33:O\""
      ]
     },
     "metadata": {},
     "output_type": "display_data"
    },
    {
     "data": {
      "text/plain": [
       "\">>>>>> iteration 34:O\""
      ]
     },
     "metadata": {},
     "output_type": "display_data"
    },
    {
     "name": "stdout",
     "output_type": "stream",
     "text": [
      "MC: 5>> Time: 17\n",
      "MC: 5>> Time: 18\n",
      "MC: 5>> Time: 19\n",
      "MC: 5>> Time: 20\n"
     ]
    },
    {
     "data": {
      "text/plain": [
       "\">>>>>> iteration 1:O\""
      ]
     },
     "metadata": {},
     "output_type": "display_data"
    },
    {
     "data": {
      "text/plain": [
       "\">>>>>> iteration 2:O\""
      ]
     },
     "metadata": {},
     "output_type": "display_data"
    },
    {
     "data": {
      "text/plain": [
       "\">>>>>> iteration 3:O\""
      ]
     },
     "metadata": {},
     "output_type": "display_data"
    },
    {
     "data": {
      "text/plain": [
       "\">>>>>> iteration 4:O\""
      ]
     },
     "metadata": {},
     "output_type": "display_data"
    },
    {
     "data": {
      "text/plain": [
       "\">>>>>> iteration 5:O\""
      ]
     },
     "metadata": {},
     "output_type": "display_data"
    },
    {
     "data": {
      "text/plain": [
       "\">>>>>> iteration 6:O\""
      ]
     },
     "metadata": {},
     "output_type": "display_data"
    },
    {
     "data": {
      "text/plain": [
       "\">>>>>> iteration 7:O\""
      ]
     },
     "metadata": {},
     "output_type": "display_data"
    },
    {
     "data": {
      "text/plain": [
       "\">>>>>> iteration 8:O\""
      ]
     },
     "metadata": {},
     "output_type": "display_data"
    },
    {
     "data": {
      "text/plain": [
       "\">>>>>> iteration 9:O\""
      ]
     },
     "metadata": {},
     "output_type": "display_data"
    },
    {
     "data": {
      "text/plain": [
       "\">>>>>> iteration 10:O\""
      ]
     },
     "metadata": {},
     "output_type": "display_data"
    },
    {
     "data": {
      "text/plain": [
       "\">>>>>> iteration 11:O\""
      ]
     },
     "metadata": {},
     "output_type": "display_data"
    },
    {
     "data": {
      "text/plain": [
       "\">>>>>> iteration 12:O\""
      ]
     },
     "metadata": {},
     "output_type": "display_data"
    },
    {
     "data": {
      "text/plain": [
       "\">>>>>> iteration 13:O\""
      ]
     },
     "metadata": {},
     "output_type": "display_data"
    },
    {
     "data": {
      "text/plain": [
       "\">>>>>> iteration 14:O\""
      ]
     },
     "metadata": {},
     "output_type": "display_data"
    },
    {
     "data": {
      "text/plain": [
       "\">>>>>> iteration 15:O\""
      ]
     },
     "metadata": {},
     "output_type": "display_data"
    },
    {
     "data": {
      "text/plain": [
       "\">>>>>> iteration 16:O\""
      ]
     },
     "metadata": {},
     "output_type": "display_data"
    },
    {
     "data": {
      "text/plain": [
       "\">>>>>> iteration 17:O\""
      ]
     },
     "metadata": {},
     "output_type": "display_data"
    },
    {
     "data": {
      "text/plain": [
       "\">>>>>> iteration 18:O\""
      ]
     },
     "metadata": {},
     "output_type": "display_data"
    },
    {
     "data": {
      "text/plain": [
       "\">>>>>> iteration 19:O\""
      ]
     },
     "metadata": {},
     "output_type": "display_data"
    },
    {
     "data": {
      "text/plain": [
       "\">>>>>> iteration 20:O\""
      ]
     },
     "metadata": {},
     "output_type": "display_data"
    },
    {
     "data": {
      "text/plain": [
       "\">>>>>> iteration 21:O\""
      ]
     },
     "metadata": {},
     "output_type": "display_data"
    },
    {
     "data": {
      "text/plain": [
       "\">>>>>> iteration 22:O\""
      ]
     },
     "metadata": {},
     "output_type": "display_data"
    },
    {
     "data": {
      "text/plain": [
       "\">>>>>> iteration 23:O\""
      ]
     },
     "metadata": {},
     "output_type": "display_data"
    },
    {
     "data": {
      "text/plain": [
       "\">>>>>> iteration 24:O\""
      ]
     },
     "metadata": {},
     "output_type": "display_data"
    },
    {
     "data": {
      "text/plain": [
       "\">>>>>> iteration 25:O\""
      ]
     },
     "metadata": {},
     "output_type": "display_data"
    },
    {
     "data": {
      "text/plain": [
       "\">>>>>> iteration 26:O\""
      ]
     },
     "metadata": {},
     "output_type": "display_data"
    },
    {
     "data": {
      "text/plain": [
       "\">>>>>> iteration 27:O\""
      ]
     },
     "metadata": {},
     "output_type": "display_data"
    },
    {
     "data": {
      "text/plain": [
       "\">>>>>> iteration 28:O\""
      ]
     },
     "metadata": {},
     "output_type": "display_data"
    },
    {
     "data": {
      "text/plain": [
       "\">>>>>> iteration 29:O\""
      ]
     },
     "metadata": {},
     "output_type": "display_data"
    },
    {
     "data": {
      "text/plain": [
       "\">>>>>> iteration 30:O\""
      ]
     },
     "metadata": {},
     "output_type": "display_data"
    },
    {
     "data": {
      "text/plain": [
       "\">>>>>> iteration 31:O\""
      ]
     },
     "metadata": {},
     "output_type": "display_data"
    },
    {
     "data": {
      "text/plain": [
       "\">>>>>> iteration 32:O\""
      ]
     },
     "metadata": {},
     "output_type": "display_data"
    },
    {
     "name": "stdout",
     "output_type": "stream",
     "text": [
      "MC: 6>> Time: 1\n",
      "MC: 6>> Time: 2\n",
      "MC: 6>> Time: 3\n",
      "MC: 6>> Time: 4\n",
      "MC: 6>> Time: 5\n",
      "MC: 6>> Time: 6\n",
      "MC: 6>> Time: 7\n",
      "MC: 6>> Time: 8\n",
      "MC: 6>> Time: 9\n",
      "MC: 6>> Time: 10\n",
      "MC: 6>> Time: 11\n",
      "MC: 6>> Time: 12\n",
      "MC: 6>> Time: 13\n",
      "MC: 6>> Time: 14\n",
      "MC: 6>> Time: 15\n",
      "MC: 6>> Time: 16\n",
      "MC: 6>> Time: 17\n",
      "MC: 6>> Time: 18\n",
      "MC: 6>> Time: 19\n",
      "MC: 6>> Time: 20\n",
      "MC: 6>> Time: 1\n"
     ]
    },
    {
     "data": {
      "text/plain": [
       "\">>>>>> iteration 1:O\""
      ]
     },
     "metadata": {},
     "output_type": "display_data"
    },
    {
     "data": {
      "text/plain": [
       "\">>>>>> iteration 2:O\""
      ]
     },
     "metadata": {},
     "output_type": "display_data"
    },
    {
     "data": {
      "text/plain": [
       "\">>>>>> iteration 3:O\""
      ]
     },
     "metadata": {},
     "output_type": "display_data"
    },
    {
     "data": {
      "text/plain": [
       "\">>>>>> iteration 4:O\""
      ]
     },
     "metadata": {},
     "output_type": "display_data"
    },
    {
     "data": {
      "text/plain": [
       "\">>>>>> iteration 5:O\""
      ]
     },
     "metadata": {},
     "output_type": "display_data"
    },
    {
     "data": {
      "text/plain": [
       "\">>>>>> iteration 6:O\""
      ]
     },
     "metadata": {},
     "output_type": "display_data"
    },
    {
     "data": {
      "text/plain": [
       "\">>>>>> iteration 7:O\""
      ]
     },
     "metadata": {},
     "output_type": "display_data"
    },
    {
     "data": {
      "text/plain": [
       "\">>>>>> iteration 8:O\""
      ]
     },
     "metadata": {},
     "output_type": "display_data"
    },
    {
     "data": {
      "text/plain": [
       "\">>>>>> iteration 9:O\""
      ]
     },
     "metadata": {},
     "output_type": "display_data"
    },
    {
     "data": {
      "text/plain": [
       "\">>>>>> iteration 10:O\""
      ]
     },
     "metadata": {},
     "output_type": "display_data"
    },
    {
     "data": {
      "text/plain": [
       "\">>>>>> iteration 11:O\""
      ]
     },
     "metadata": {},
     "output_type": "display_data"
    },
    {
     "data": {
      "text/plain": [
       "\">>>>>> iteration 12:O\""
      ]
     },
     "metadata": {},
     "output_type": "display_data"
    },
    {
     "data": {
      "text/plain": [
       "\">>>>>> iteration 13:F\""
      ]
     },
     "metadata": {},
     "output_type": "display_data"
    },
    {
     "data": {
      "text/plain": [
       "\">>>>>> iteration 14:O\""
      ]
     },
     "metadata": {},
     "output_type": "display_data"
    },
    {
     "data": {
      "text/plain": [
       "\">>>>>> iteration 15:O\""
      ]
     },
     "metadata": {},
     "output_type": "display_data"
    },
    {
     "data": {
      "text/plain": [
       "\">>>>>> iteration 16:O\""
      ]
     },
     "metadata": {},
     "output_type": "display_data"
    },
    {
     "data": {
      "text/plain": [
       "\">>>>>> iteration 17:O\""
      ]
     },
     "metadata": {},
     "output_type": "display_data"
    },
    {
     "name": "stdout",
     "output_type": "stream",
     "text": [
      "MC: 6>> Time: 2\n",
      "MC: 6>> Time: 3\n",
      "MC: 6>> Time: 4\n"
     ]
    },
    {
     "data": {
      "text/plain": [
       "\">>>>>> iteration 1:O\""
      ]
     },
     "metadata": {},
     "output_type": "display_data"
    },
    {
     "data": {
      "text/plain": [
       "\">>>>>> iteration 2:O\""
      ]
     },
     "metadata": {},
     "output_type": "display_data"
    },
    {
     "data": {
      "text/plain": [
       "\">>>>>> iteration 3:O\""
      ]
     },
     "metadata": {},
     "output_type": "display_data"
    },
    {
     "data": {
      "text/plain": [
       "\">>>>>> iteration 4:O\""
      ]
     },
     "metadata": {},
     "output_type": "display_data"
    },
    {
     "data": {
      "text/plain": [
       "\">>>>>> iteration 5:O\""
      ]
     },
     "metadata": {},
     "output_type": "display_data"
    },
    {
     "data": {
      "text/plain": [
       "\">>>>>> iteration 6:O\""
      ]
     },
     "metadata": {},
     "output_type": "display_data"
    },
    {
     "data": {
      "text/plain": [
       "\">>>>>> iteration 7:O\""
      ]
     },
     "metadata": {},
     "output_type": "display_data"
    },
    {
     "data": {
      "text/plain": [
       "\">>>>>> iteration 8:O\""
      ]
     },
     "metadata": {},
     "output_type": "display_data"
    },
    {
     "data": {
      "text/plain": [
       "\">>>>>> iteration 9:O\""
      ]
     },
     "metadata": {},
     "output_type": "display_data"
    },
    {
     "data": {
      "text/plain": [
       "\">>>>>> iteration 10:O\""
      ]
     },
     "metadata": {},
     "output_type": "display_data"
    },
    {
     "data": {
      "text/plain": [
       "\">>>>>> iteration 11:O\""
      ]
     },
     "metadata": {},
     "output_type": "display_data"
    },
    {
     "data": {
      "text/plain": [
       "\">>>>>> iteration 12:O\""
      ]
     },
     "metadata": {},
     "output_type": "display_data"
    },
    {
     "data": {
      "text/plain": [
       "\">>>>>> iteration 13:O\""
      ]
     },
     "metadata": {},
     "output_type": "display_data"
    },
    {
     "data": {
      "text/plain": [
       "\">>>>>> iteration 14:O\""
      ]
     },
     "metadata": {},
     "output_type": "display_data"
    },
    {
     "data": {
      "text/plain": [
       "\">>>>>> iteration 15:O\""
      ]
     },
     "metadata": {},
     "output_type": "display_data"
    },
    {
     "data": {
      "text/plain": [
       "\">>>>>> iteration 16:O\""
      ]
     },
     "metadata": {},
     "output_type": "display_data"
    },
    {
     "data": {
      "text/plain": [
       "\">>>>>> iteration 17:O\""
      ]
     },
     "metadata": {},
     "output_type": "display_data"
    },
    {
     "data": {
      "text/plain": [
       "\">>>>>> iteration 18:O\""
      ]
     },
     "metadata": {},
     "output_type": "display_data"
    },
    {
     "data": {
      "text/plain": [
       "\">>>>>> iteration 19:O\""
      ]
     },
     "metadata": {},
     "output_type": "display_data"
    },
    {
     "data": {
      "text/plain": [
       "\">>>>>> iteration 20:O\""
      ]
     },
     "metadata": {},
     "output_type": "display_data"
    },
    {
     "data": {
      "text/plain": [
       "\">>>>>> iteration 21:O\""
      ]
     },
     "metadata": {},
     "output_type": "display_data"
    },
    {
     "data": {
      "text/plain": [
       "\">>>>>> iteration 22:O\""
      ]
     },
     "metadata": {},
     "output_type": "display_data"
    },
    {
     "data": {
      "text/plain": [
       "\">>>>>> iteration 23:O\""
      ]
     },
     "metadata": {},
     "output_type": "display_data"
    },
    {
     "data": {
      "text/plain": [
       "\">>>>>> iteration 24:O\""
      ]
     },
     "metadata": {},
     "output_type": "display_data"
    },
    {
     "data": {
      "text/plain": [
       "\">>>>>> iteration 25:O\""
      ]
     },
     "metadata": {},
     "output_type": "display_data"
    },
    {
     "data": {
      "text/plain": [
       "\">>>>>> iteration 26:F\""
      ]
     },
     "metadata": {},
     "output_type": "display_data"
    },
    {
     "data": {
      "text/plain": [
       "\">>>>>> iteration 27:O\""
      ]
     },
     "metadata": {},
     "output_type": "display_data"
    },
    {
     "name": "stdout",
     "output_type": "stream",
     "text": [
      "MC: 6>> Time: 5\n",
      "MC: 6>> Time: 6\n",
      "MC: 6>> Time: 7\n",
      "MC: 6>> Time: 8\n"
     ]
    },
    {
     "data": {
      "text/plain": [
       "\">>>>>> iteration 1:O\""
      ]
     },
     "metadata": {},
     "output_type": "display_data"
    },
    {
     "data": {
      "text/plain": [
       "\">>>>>> iteration 2:O\""
      ]
     },
     "metadata": {},
     "output_type": "display_data"
    },
    {
     "data": {
      "text/plain": [
       "\">>>>>> iteration 3:O\""
      ]
     },
     "metadata": {},
     "output_type": "display_data"
    },
    {
     "data": {
      "text/plain": [
       "\">>>>>> iteration 4:O\""
      ]
     },
     "metadata": {},
     "output_type": "display_data"
    },
    {
     "data": {
      "text/plain": [
       "\">>>>>> iteration 5:O\""
      ]
     },
     "metadata": {},
     "output_type": "display_data"
    },
    {
     "data": {
      "text/plain": [
       "\">>>>>> iteration 6:O\""
      ]
     },
     "metadata": {},
     "output_type": "display_data"
    },
    {
     "data": {
      "text/plain": [
       "\">>>>>> iteration 7:O\""
      ]
     },
     "metadata": {},
     "output_type": "display_data"
    },
    {
     "data": {
      "text/plain": [
       "\">>>>>> iteration 8:O\""
      ]
     },
     "metadata": {},
     "output_type": "display_data"
    },
    {
     "data": {
      "text/plain": [
       "\">>>>>> iteration 9:O\""
      ]
     },
     "metadata": {},
     "output_type": "display_data"
    },
    {
     "data": {
      "text/plain": [
       "\">>>>>> iteration 10:O\""
      ]
     },
     "metadata": {},
     "output_type": "display_data"
    },
    {
     "data": {
      "text/plain": [
       "\">>>>>> iteration 11:O\""
      ]
     },
     "metadata": {},
     "output_type": "display_data"
    },
    {
     "data": {
      "text/plain": [
       "\">>>>>> iteration 12:O\""
      ]
     },
     "metadata": {},
     "output_type": "display_data"
    },
    {
     "data": {
      "text/plain": [
       "\">>>>>> iteration 13:O\""
      ]
     },
     "metadata": {},
     "output_type": "display_data"
    },
    {
     "data": {
      "text/plain": [
       "\">>>>>> iteration 14:O\""
      ]
     },
     "metadata": {},
     "output_type": "display_data"
    },
    {
     "data": {
      "text/plain": [
       "\">>>>>> iteration 15:O\""
      ]
     },
     "metadata": {},
     "output_type": "display_data"
    },
    {
     "data": {
      "text/plain": [
       "\">>>>>> iteration 16:O\""
      ]
     },
     "metadata": {},
     "output_type": "display_data"
    },
    {
     "data": {
      "text/plain": [
       "\">>>>>> iteration 17:O\""
      ]
     },
     "metadata": {},
     "output_type": "display_data"
    },
    {
     "data": {
      "text/plain": [
       "\">>>>>> iteration 18:O\""
      ]
     },
     "metadata": {},
     "output_type": "display_data"
    },
    {
     "data": {
      "text/plain": [
       "\">>>>>> iteration 19:O\""
      ]
     },
     "metadata": {},
     "output_type": "display_data"
    },
    {
     "data": {
      "text/plain": [
       "\">>>>>> iteration 20:O\""
      ]
     },
     "metadata": {},
     "output_type": "display_data"
    },
    {
     "data": {
      "text/plain": [
       "\">>>>>> iteration 21:O\""
      ]
     },
     "metadata": {},
     "output_type": "display_data"
    },
    {
     "data": {
      "text/plain": [
       "\">>>>>> iteration 22:O\""
      ]
     },
     "metadata": {},
     "output_type": "display_data"
    },
    {
     "data": {
      "text/plain": [
       "\">>>>>> iteration 23:O\""
      ]
     },
     "metadata": {},
     "output_type": "display_data"
    },
    {
     "data": {
      "text/plain": [
       "\">>>>>> iteration 24:O\""
      ]
     },
     "metadata": {},
     "output_type": "display_data"
    },
    {
     "data": {
      "text/plain": [
       "\">>>>>> iteration 25:O\""
      ]
     },
     "metadata": {},
     "output_type": "display_data"
    },
    {
     "data": {
      "text/plain": [
       "\">>>>>> iteration 26:O\""
      ]
     },
     "metadata": {},
     "output_type": "display_data"
    },
    {
     "data": {
      "text/plain": [
       "\">>>>>> iteration 27:O\""
      ]
     },
     "metadata": {},
     "output_type": "display_data"
    },
    {
     "name": "stdout",
     "output_type": "stream",
     "text": [
      "MC: 6>> Time: 9\n",
      "MC: 6>> Time: 10\n",
      "MC: 6>> Time: 11\n",
      "MC: 6>> Time: 12\n"
     ]
    },
    {
     "data": {
      "text/plain": [
       "\">>>>>> iteration 1:O\""
      ]
     },
     "metadata": {},
     "output_type": "display_data"
    },
    {
     "data": {
      "text/plain": [
       "\">>>>>> iteration 2:O\""
      ]
     },
     "metadata": {},
     "output_type": "display_data"
    },
    {
     "data": {
      "text/plain": [
       "\">>>>>> iteration 3:O\""
      ]
     },
     "metadata": {},
     "output_type": "display_data"
    },
    {
     "data": {
      "text/plain": [
       "\">>>>>> iteration 4:O\""
      ]
     },
     "metadata": {},
     "output_type": "display_data"
    },
    {
     "data": {
      "text/plain": [
       "\">>>>>> iteration 5:O\""
      ]
     },
     "metadata": {},
     "output_type": "display_data"
    },
    {
     "data": {
      "text/plain": [
       "\">>>>>> iteration 6:O\""
      ]
     },
     "metadata": {},
     "output_type": "display_data"
    },
    {
     "data": {
      "text/plain": [
       "\">>>>>> iteration 7:O\""
      ]
     },
     "metadata": {},
     "output_type": "display_data"
    },
    {
     "data": {
      "text/plain": [
       "\">>>>>> iteration 8:O\""
      ]
     },
     "metadata": {},
     "output_type": "display_data"
    },
    {
     "data": {
      "text/plain": [
       "\">>>>>> iteration 9:O\""
      ]
     },
     "metadata": {},
     "output_type": "display_data"
    },
    {
     "data": {
      "text/plain": [
       "\">>>>>> iteration 10:O\""
      ]
     },
     "metadata": {},
     "output_type": "display_data"
    },
    {
     "data": {
      "text/plain": [
       "\">>>>>> iteration 11:O\""
      ]
     },
     "metadata": {},
     "output_type": "display_data"
    },
    {
     "data": {
      "text/plain": [
       "\">>>>>> iteration 12:O\""
      ]
     },
     "metadata": {},
     "output_type": "display_data"
    },
    {
     "data": {
      "text/plain": [
       "\">>>>>> iteration 13:O\""
      ]
     },
     "metadata": {},
     "output_type": "display_data"
    },
    {
     "data": {
      "text/plain": [
       "\">>>>>> iteration 14:O\""
      ]
     },
     "metadata": {},
     "output_type": "display_data"
    },
    {
     "data": {
      "text/plain": [
       "\">>>>>> iteration 15:O\""
      ]
     },
     "metadata": {},
     "output_type": "display_data"
    },
    {
     "data": {
      "text/plain": [
       "\">>>>>> iteration 16:O\""
      ]
     },
     "metadata": {},
     "output_type": "display_data"
    },
    {
     "data": {
      "text/plain": [
       "\">>>>>> iteration 17:O\""
      ]
     },
     "metadata": {},
     "output_type": "display_data"
    },
    {
     "data": {
      "text/plain": [
       "\">>>>>> iteration 18:O\""
      ]
     },
     "metadata": {},
     "output_type": "display_data"
    },
    {
     "data": {
      "text/plain": [
       "\">>>>>> iteration 19:O\""
      ]
     },
     "metadata": {},
     "output_type": "display_data"
    },
    {
     "data": {
      "text/plain": [
       "\">>>>>> iteration 20:O\""
      ]
     },
     "metadata": {},
     "output_type": "display_data"
    },
    {
     "data": {
      "text/plain": [
       "\">>>>>> iteration 21:O\""
      ]
     },
     "metadata": {},
     "output_type": "display_data"
    },
    {
     "data": {
      "text/plain": [
       "\">>>>>> iteration 22:O\""
      ]
     },
     "metadata": {},
     "output_type": "display_data"
    },
    {
     "data": {
      "text/plain": [
       "\">>>>>> iteration 23:O\""
      ]
     },
     "metadata": {},
     "output_type": "display_data"
    },
    {
     "data": {
      "text/plain": [
       "\">>>>>> iteration 24:O\""
      ]
     },
     "metadata": {},
     "output_type": "display_data"
    },
    {
     "data": {
      "text/plain": [
       "\">>>>>> iteration 25:O\""
      ]
     },
     "metadata": {},
     "output_type": "display_data"
    },
    {
     "data": {
      "text/plain": [
       "\">>>>>> iteration 26:O\""
      ]
     },
     "metadata": {},
     "output_type": "display_data"
    },
    {
     "data": {
      "text/plain": [
       "\">>>>>> iteration 27:F\""
      ]
     },
     "metadata": {},
     "output_type": "display_data"
    },
    {
     "data": {
      "text/plain": [
       "\">>>>>> iteration 28:O\""
      ]
     },
     "metadata": {},
     "output_type": "display_data"
    },
    {
     "name": "stdout",
     "output_type": "stream",
     "text": [
      "MC: 6>> Time: 13\n",
      "MC: 6>> Time: 14\n",
      "MC: 6>> Time: 15\n",
      "MC: 6>> Time: 16\n"
     ]
    },
    {
     "data": {
      "text/plain": [
       "\">>>>>> iteration 1:O\""
      ]
     },
     "metadata": {},
     "output_type": "display_data"
    },
    {
     "data": {
      "text/plain": [
       "\">>>>>> iteration 2:O\""
      ]
     },
     "metadata": {},
     "output_type": "display_data"
    },
    {
     "data": {
      "text/plain": [
       "\">>>>>> iteration 3:O\""
      ]
     },
     "metadata": {},
     "output_type": "display_data"
    },
    {
     "data": {
      "text/plain": [
       "\">>>>>> iteration 4:O\""
      ]
     },
     "metadata": {},
     "output_type": "display_data"
    },
    {
     "data": {
      "text/plain": [
       "\">>>>>> iteration 5:O\""
      ]
     },
     "metadata": {},
     "output_type": "display_data"
    },
    {
     "data": {
      "text/plain": [
       "\">>>>>> iteration 6:O\""
      ]
     },
     "metadata": {},
     "output_type": "display_data"
    },
    {
     "data": {
      "text/plain": [
       "\">>>>>> iteration 7:O\""
      ]
     },
     "metadata": {},
     "output_type": "display_data"
    },
    {
     "data": {
      "text/plain": [
       "\">>>>>> iteration 8:O\""
      ]
     },
     "metadata": {},
     "output_type": "display_data"
    },
    {
     "data": {
      "text/plain": [
       "\">>>>>> iteration 9:O\""
      ]
     },
     "metadata": {},
     "output_type": "display_data"
    },
    {
     "data": {
      "text/plain": [
       "\">>>>>> iteration 10:O\""
      ]
     },
     "metadata": {},
     "output_type": "display_data"
    },
    {
     "data": {
      "text/plain": [
       "\">>>>>> iteration 11:O\""
      ]
     },
     "metadata": {},
     "output_type": "display_data"
    },
    {
     "data": {
      "text/plain": [
       "\">>>>>> iteration 12:O\""
      ]
     },
     "metadata": {},
     "output_type": "display_data"
    },
    {
     "data": {
      "text/plain": [
       "\">>>>>> iteration 13:O\""
      ]
     },
     "metadata": {},
     "output_type": "display_data"
    },
    {
     "data": {
      "text/plain": [
       "\">>>>>> iteration 14:O\""
      ]
     },
     "metadata": {},
     "output_type": "display_data"
    },
    {
     "data": {
      "text/plain": [
       "\">>>>>> iteration 15:O\""
      ]
     },
     "metadata": {},
     "output_type": "display_data"
    },
    {
     "data": {
      "text/plain": [
       "\">>>>>> iteration 16:O\""
      ]
     },
     "metadata": {},
     "output_type": "display_data"
    },
    {
     "data": {
      "text/plain": [
       "\">>>>>> iteration 17:O\""
      ]
     },
     "metadata": {},
     "output_type": "display_data"
    },
    {
     "data": {
      "text/plain": [
       "\">>>>>> iteration 18:O\""
      ]
     },
     "metadata": {},
     "output_type": "display_data"
    },
    {
     "data": {
      "text/plain": [
       "\">>>>>> iteration 19:O\""
      ]
     },
     "metadata": {},
     "output_type": "display_data"
    },
    {
     "data": {
      "text/plain": [
       "\">>>>>> iteration 20:O\""
      ]
     },
     "metadata": {},
     "output_type": "display_data"
    },
    {
     "data": {
      "text/plain": [
       "\">>>>>> iteration 21:O\""
      ]
     },
     "metadata": {},
     "output_type": "display_data"
    },
    {
     "data": {
      "text/plain": [
       "\">>>>>> iteration 22:O\""
      ]
     },
     "metadata": {},
     "output_type": "display_data"
    },
    {
     "data": {
      "text/plain": [
       "\">>>>>> iteration 23:O\""
      ]
     },
     "metadata": {},
     "output_type": "display_data"
    },
    {
     "data": {
      "text/plain": [
       "\">>>>>> iteration 24:O\""
      ]
     },
     "metadata": {},
     "output_type": "display_data"
    },
    {
     "data": {
      "text/plain": [
       "\">>>>>> iteration 25:O\""
      ]
     },
     "metadata": {},
     "output_type": "display_data"
    },
    {
     "data": {
      "text/plain": [
       "\">>>>>> iteration 26:O\""
      ]
     },
     "metadata": {},
     "output_type": "display_data"
    },
    {
     "data": {
      "text/plain": [
       "\">>>>>> iteration 27:O\""
      ]
     },
     "metadata": {},
     "output_type": "display_data"
    },
    {
     "data": {
      "text/plain": [
       "\">>>>>> iteration 28:O\""
      ]
     },
     "metadata": {},
     "output_type": "display_data"
    },
    {
     "name": "stdout",
     "output_type": "stream",
     "text": [
      "MC: 6>> Time: 17\n",
      "MC: 6>> Time: 18\n",
      "MC: 6>> Time: 19\n",
      "MC: 6>> Time: 20\n"
     ]
    },
    {
     "data": {
      "text/plain": [
       "\">>>>>> iteration 1:O\""
      ]
     },
     "metadata": {},
     "output_type": "display_data"
    },
    {
     "data": {
      "text/plain": [
       "\">>>>>> iteration 2:O\""
      ]
     },
     "metadata": {},
     "output_type": "display_data"
    },
    {
     "data": {
      "text/plain": [
       "\">>>>>> iteration 3:O\""
      ]
     },
     "metadata": {},
     "output_type": "display_data"
    },
    {
     "data": {
      "text/plain": [
       "\">>>>>> iteration 4:O\""
      ]
     },
     "metadata": {},
     "output_type": "display_data"
    },
    {
     "data": {
      "text/plain": [
       "\">>>>>> iteration 5:O\""
      ]
     },
     "metadata": {},
     "output_type": "display_data"
    },
    {
     "data": {
      "text/plain": [
       "\">>>>>> iteration 6:O\""
      ]
     },
     "metadata": {},
     "output_type": "display_data"
    },
    {
     "data": {
      "text/plain": [
       "\">>>>>> iteration 7:O\""
      ]
     },
     "metadata": {},
     "output_type": "display_data"
    },
    {
     "data": {
      "text/plain": [
       "\">>>>>> iteration 8:O\""
      ]
     },
     "metadata": {},
     "output_type": "display_data"
    },
    {
     "data": {
      "text/plain": [
       "\">>>>>> iteration 9:O\""
      ]
     },
     "metadata": {},
     "output_type": "display_data"
    },
    {
     "data": {
      "text/plain": [
       "\">>>>>> iteration 10:O\""
      ]
     },
     "metadata": {},
     "output_type": "display_data"
    },
    {
     "data": {
      "text/plain": [
       "\">>>>>> iteration 11:O\""
      ]
     },
     "metadata": {},
     "output_type": "display_data"
    },
    {
     "data": {
      "text/plain": [
       "\">>>>>> iteration 12:O\""
      ]
     },
     "metadata": {},
     "output_type": "display_data"
    },
    {
     "data": {
      "text/plain": [
       "\">>>>>> iteration 13:O\""
      ]
     },
     "metadata": {},
     "output_type": "display_data"
    },
    {
     "data": {
      "text/plain": [
       "\">>>>>> iteration 14:O\""
      ]
     },
     "metadata": {},
     "output_type": "display_data"
    },
    {
     "data": {
      "text/plain": [
       "\">>>>>> iteration 15:O\""
      ]
     },
     "metadata": {},
     "output_type": "display_data"
    },
    {
     "data": {
      "text/plain": [
       "\">>>>>> iteration 16:O\""
      ]
     },
     "metadata": {},
     "output_type": "display_data"
    },
    {
     "data": {
      "text/plain": [
       "\">>>>>> iteration 17:O\""
      ]
     },
     "metadata": {},
     "output_type": "display_data"
    },
    {
     "data": {
      "text/plain": [
       "\">>>>>> iteration 18:O\""
      ]
     },
     "metadata": {},
     "output_type": "display_data"
    },
    {
     "data": {
      "text/plain": [
       "\">>>>>> iteration 19:O\""
      ]
     },
     "metadata": {},
     "output_type": "display_data"
    },
    {
     "data": {
      "text/plain": [
       "\">>>>>> iteration 20:O\""
      ]
     },
     "metadata": {},
     "output_type": "display_data"
    },
    {
     "data": {
      "text/plain": [
       "\">>>>>> iteration 21:O\""
      ]
     },
     "metadata": {},
     "output_type": "display_data"
    },
    {
     "data": {
      "text/plain": [
       "\">>>>>> iteration 22:O\""
      ]
     },
     "metadata": {},
     "output_type": "display_data"
    },
    {
     "data": {
      "text/plain": [
       "\">>>>>> iteration 23:O\""
      ]
     },
     "metadata": {},
     "output_type": "display_data"
    },
    {
     "data": {
      "text/plain": [
       "\">>>>>> iteration 24:O\""
      ]
     },
     "metadata": {},
     "output_type": "display_data"
    },
    {
     "data": {
      "text/plain": [
       "\">>>>>> iteration 25:O\""
      ]
     },
     "metadata": {},
     "output_type": "display_data"
    },
    {
     "data": {
      "text/plain": [
       "\">>>>>> iteration 26:O\""
      ]
     },
     "metadata": {},
     "output_type": "display_data"
    },
    {
     "data": {
      "text/plain": [
       "\">>>>>> iteration 27:O\""
      ]
     },
     "metadata": {},
     "output_type": "display_data"
    },
    {
     "data": {
      "text/plain": [
       "\">>>>>> iteration 28:O\""
      ]
     },
     "metadata": {},
     "output_type": "display_data"
    },
    {
     "data": {
      "text/plain": [
       "\">>>>>> iteration 29:O\""
      ]
     },
     "metadata": {},
     "output_type": "display_data"
    },
    {
     "data": {
      "text/plain": [
       "\">>>>>> iteration 30:O\""
      ]
     },
     "metadata": {},
     "output_type": "display_data"
    },
    {
     "data": {
      "text/plain": [
       "\">>>>>> iteration 31:O\""
      ]
     },
     "metadata": {},
     "output_type": "display_data"
    },
    {
     "data": {
      "text/plain": [
       "\">>>>>> iteration 32:O\""
      ]
     },
     "metadata": {},
     "output_type": "display_data"
    },
    {
     "name": "stdout",
     "output_type": "stream",
     "text": [
      "MC: 7>> Time: 1\n",
      "MC: 7>> Time: 2\n",
      "MC: 7>> Time: 3\n",
      "MC: 7>> Time: 4\n",
      "MC: 7>> Time: 5\n",
      "MC: 7>> Time: 6\n",
      "MC: 7>> Time: 7\n",
      "MC: 7>> Time: 8\n",
      "MC: 7>> Time: 9\n",
      "MC: 7>> Time: 10\n",
      "MC: 7>> Time: 11\n",
      "MC: 7>> Time: 12\n",
      "MC: 7>> Time: 13\n",
      "MC: 7>> Time: 14\n",
      "MC: 7>> Time: 15\n",
      "MC: 7>> Time: 16\n",
      "MC: 7>> Time: 17\n",
      "MC: 7>> Time: 18\n",
      "MC: 7>> Time: 19\n",
      "MC: 7>> Time: 20\n",
      "MC: 7>> Time: 1\n"
     ]
    },
    {
     "data": {
      "text/plain": [
       "\">>>>>> iteration 1:O\""
      ]
     },
     "metadata": {},
     "output_type": "display_data"
    },
    {
     "data": {
      "text/plain": [
       "\">>>>>> iteration 2:O\""
      ]
     },
     "metadata": {},
     "output_type": "display_data"
    },
    {
     "data": {
      "text/plain": [
       "\">>>>>> iteration 3:O\""
      ]
     },
     "metadata": {},
     "output_type": "display_data"
    },
    {
     "data": {
      "text/plain": [
       "\">>>>>> iteration 4:O\""
      ]
     },
     "metadata": {},
     "output_type": "display_data"
    },
    {
     "data": {
      "text/plain": [
       "\">>>>>> iteration 5:O\""
      ]
     },
     "metadata": {},
     "output_type": "display_data"
    },
    {
     "data": {
      "text/plain": [
       "\">>>>>> iteration 6:O\""
      ]
     },
     "metadata": {},
     "output_type": "display_data"
    },
    {
     "data": {
      "text/plain": [
       "\">>>>>> iteration 7:O\""
      ]
     },
     "metadata": {},
     "output_type": "display_data"
    },
    {
     "data": {
      "text/plain": [
       "\">>>>>> iteration 8:O\""
      ]
     },
     "metadata": {},
     "output_type": "display_data"
    },
    {
     "data": {
      "text/plain": [
       "\">>>>>> iteration 9:O\""
      ]
     },
     "metadata": {},
     "output_type": "display_data"
    },
    {
     "data": {
      "text/plain": [
       "\">>>>>> iteration 10:O\""
      ]
     },
     "metadata": {},
     "output_type": "display_data"
    },
    {
     "data": {
      "text/plain": [
       "\">>>>>> iteration 11:O\""
      ]
     },
     "metadata": {},
     "output_type": "display_data"
    },
    {
     "data": {
      "text/plain": [
       "\">>>>>> iteration 12:O\""
      ]
     },
     "metadata": {},
     "output_type": "display_data"
    },
    {
     "data": {
      "text/plain": [
       "\">>>>>> iteration 13:F\""
      ]
     },
     "metadata": {},
     "output_type": "display_data"
    },
    {
     "data": {
      "text/plain": [
       "\">>>>>> iteration 14:O\""
      ]
     },
     "metadata": {},
     "output_type": "display_data"
    },
    {
     "data": {
      "text/plain": [
       "\">>>>>> iteration 15:O\""
      ]
     },
     "metadata": {},
     "output_type": "display_data"
    },
    {
     "data": {
      "text/plain": [
       "\">>>>>> iteration 16:O\""
      ]
     },
     "metadata": {},
     "output_type": "display_data"
    },
    {
     "data": {
      "text/plain": [
       "\">>>>>> iteration 17:O\""
      ]
     },
     "metadata": {},
     "output_type": "display_data"
    },
    {
     "name": "stdout",
     "output_type": "stream",
     "text": [
      "MC: 7>> Time: 2\n",
      "MC: 7>> Time: 3\n",
      "MC: 7>> Time: 4\n"
     ]
    },
    {
     "data": {
      "text/plain": [
       "\">>>>>> iteration 1:O\""
      ]
     },
     "metadata": {},
     "output_type": "display_data"
    },
    {
     "data": {
      "text/plain": [
       "\">>>>>> iteration 2:O\""
      ]
     },
     "metadata": {},
     "output_type": "display_data"
    },
    {
     "data": {
      "text/plain": [
       "\">>>>>> iteration 3:O\""
      ]
     },
     "metadata": {},
     "output_type": "display_data"
    },
    {
     "data": {
      "text/plain": [
       "\">>>>>> iteration 4:O\""
      ]
     },
     "metadata": {},
     "output_type": "display_data"
    },
    {
     "data": {
      "text/plain": [
       "\">>>>>> iteration 5:O\""
      ]
     },
     "metadata": {},
     "output_type": "display_data"
    },
    {
     "data": {
      "text/plain": [
       "\">>>>>> iteration 6:O\""
      ]
     },
     "metadata": {},
     "output_type": "display_data"
    },
    {
     "data": {
      "text/plain": [
       "\">>>>>> iteration 7:O\""
      ]
     },
     "metadata": {},
     "output_type": "display_data"
    },
    {
     "data": {
      "text/plain": [
       "\">>>>>> iteration 8:O\""
      ]
     },
     "metadata": {},
     "output_type": "display_data"
    },
    {
     "data": {
      "text/plain": [
       "\">>>>>> iteration 9:O\""
      ]
     },
     "metadata": {},
     "output_type": "display_data"
    },
    {
     "data": {
      "text/plain": [
       "\">>>>>> iteration 10:O\""
      ]
     },
     "metadata": {},
     "output_type": "display_data"
    },
    {
     "data": {
      "text/plain": [
       "\">>>>>> iteration 11:O\""
      ]
     },
     "metadata": {},
     "output_type": "display_data"
    },
    {
     "data": {
      "text/plain": [
       "\">>>>>> iteration 12:O\""
      ]
     },
     "metadata": {},
     "output_type": "display_data"
    },
    {
     "data": {
      "text/plain": [
       "\">>>>>> iteration 13:O\""
      ]
     },
     "metadata": {},
     "output_type": "display_data"
    },
    {
     "data": {
      "text/plain": [
       "\">>>>>> iteration 14:O\""
      ]
     },
     "metadata": {},
     "output_type": "display_data"
    },
    {
     "data": {
      "text/plain": [
       "\">>>>>> iteration 15:O\""
      ]
     },
     "metadata": {},
     "output_type": "display_data"
    },
    {
     "data": {
      "text/plain": [
       "\">>>>>> iteration 16:O\""
      ]
     },
     "metadata": {},
     "output_type": "display_data"
    },
    {
     "data": {
      "text/plain": [
       "\">>>>>> iteration 17:O\""
      ]
     },
     "metadata": {},
     "output_type": "display_data"
    },
    {
     "name": "stdout",
     "output_type": "stream",
     "text": [
      "MC: 7>> Time: 5\n",
      "MC: 7>> Time: 6\n",
      "MC: 7>> Time: 7\n",
      "MC: 7>> Time: 8\n"
     ]
    },
    {
     "data": {
      "text/plain": [
       "\">>>>>> iteration 1:O\""
      ]
     },
     "metadata": {},
     "output_type": "display_data"
    },
    {
     "data": {
      "text/plain": [
       "\">>>>>> iteration 2:O\""
      ]
     },
     "metadata": {},
     "output_type": "display_data"
    },
    {
     "data": {
      "text/plain": [
       "\">>>>>> iteration 3:O\""
      ]
     },
     "metadata": {},
     "output_type": "display_data"
    },
    {
     "data": {
      "text/plain": [
       "\">>>>>> iteration 4:O\""
      ]
     },
     "metadata": {},
     "output_type": "display_data"
    },
    {
     "data": {
      "text/plain": [
       "\">>>>>> iteration 5:O\""
      ]
     },
     "metadata": {},
     "output_type": "display_data"
    },
    {
     "data": {
      "text/plain": [
       "\">>>>>> iteration 6:O\""
      ]
     },
     "metadata": {},
     "output_type": "display_data"
    },
    {
     "data": {
      "text/plain": [
       "\">>>>>> iteration 7:O\""
      ]
     },
     "metadata": {},
     "output_type": "display_data"
    },
    {
     "data": {
      "text/plain": [
       "\">>>>>> iteration 8:O\""
      ]
     },
     "metadata": {},
     "output_type": "display_data"
    },
    {
     "data": {
      "text/plain": [
       "\">>>>>> iteration 9:O\""
      ]
     },
     "metadata": {},
     "output_type": "display_data"
    },
    {
     "data": {
      "text/plain": [
       "\">>>>>> iteration 10:O\""
      ]
     },
     "metadata": {},
     "output_type": "display_data"
    },
    {
     "data": {
      "text/plain": [
       "\">>>>>> iteration 11:O\""
      ]
     },
     "metadata": {},
     "output_type": "display_data"
    },
    {
     "data": {
      "text/plain": [
       "\">>>>>> iteration 12:O\""
      ]
     },
     "metadata": {},
     "output_type": "display_data"
    },
    {
     "data": {
      "text/plain": [
       "\">>>>>> iteration 13:O\""
      ]
     },
     "metadata": {},
     "output_type": "display_data"
    },
    {
     "data": {
      "text/plain": [
       "\">>>>>> iteration 14:O\""
      ]
     },
     "metadata": {},
     "output_type": "display_data"
    },
    {
     "data": {
      "text/plain": [
       "\">>>>>> iteration 15:O\""
      ]
     },
     "metadata": {},
     "output_type": "display_data"
    },
    {
     "data": {
      "text/plain": [
       "\">>>>>> iteration 16:O\""
      ]
     },
     "metadata": {},
     "output_type": "display_data"
    },
    {
     "data": {
      "text/plain": [
       "\">>>>>> iteration 17:O\""
      ]
     },
     "metadata": {},
     "output_type": "display_data"
    },
    {
     "data": {
      "text/plain": [
       "\">>>>>> iteration 18:O\""
      ]
     },
     "metadata": {},
     "output_type": "display_data"
    },
    {
     "data": {
      "text/plain": [
       "\">>>>>> iteration 19:O\""
      ]
     },
     "metadata": {},
     "output_type": "display_data"
    },
    {
     "data": {
      "text/plain": [
       "\">>>>>> iteration 20:O\""
      ]
     },
     "metadata": {},
     "output_type": "display_data"
    },
    {
     "data": {
      "text/plain": [
       "\">>>>>> iteration 21:O\""
      ]
     },
     "metadata": {},
     "output_type": "display_data"
    },
    {
     "data": {
      "text/plain": [
       "\">>>>>> iteration 22:O\""
      ]
     },
     "metadata": {},
     "output_type": "display_data"
    },
    {
     "data": {
      "text/plain": [
       "\">>>>>> iteration 23:O\""
      ]
     },
     "metadata": {},
     "output_type": "display_data"
    },
    {
     "data": {
      "text/plain": [
       "\">>>>>> iteration 24:O\""
      ]
     },
     "metadata": {},
     "output_type": "display_data"
    },
    {
     "data": {
      "text/plain": [
       "\">>>>>> iteration 25:O\""
      ]
     },
     "metadata": {},
     "output_type": "display_data"
    },
    {
     "data": {
      "text/plain": [
       "\">>>>>> iteration 26:O\""
      ]
     },
     "metadata": {},
     "output_type": "display_data"
    },
    {
     "data": {
      "text/plain": [
       "\">>>>>> iteration 27:O\""
      ]
     },
     "metadata": {},
     "output_type": "display_data"
    },
    {
     "data": {
      "text/plain": [
       "\">>>>>> iteration 28:O\""
      ]
     },
     "metadata": {},
     "output_type": "display_data"
    },
    {
     "data": {
      "text/plain": [
       "\">>>>>> iteration 29:O\""
      ]
     },
     "metadata": {},
     "output_type": "display_data"
    },
    {
     "data": {
      "text/plain": [
       "\">>>>>> iteration 30:O\""
      ]
     },
     "metadata": {},
     "output_type": "display_data"
    },
    {
     "data": {
      "text/plain": [
       "\">>>>>> iteration 31:O\""
      ]
     },
     "metadata": {},
     "output_type": "display_data"
    },
    {
     "name": "stdout",
     "output_type": "stream",
     "text": [
      "MC: 7>> Time: 9\n",
      "MC: 7>> Time: 10\n",
      "MC: 7>> Time: 11\n",
      "MC: 7>> Time: 12\n"
     ]
    },
    {
     "data": {
      "text/plain": [
       "\">>>>>> iteration 1:O\""
      ]
     },
     "metadata": {},
     "output_type": "display_data"
    },
    {
     "data": {
      "text/plain": [
       "\">>>>>> iteration 2:O\""
      ]
     },
     "metadata": {},
     "output_type": "display_data"
    },
    {
     "data": {
      "text/plain": [
       "\">>>>>> iteration 3:O\""
      ]
     },
     "metadata": {},
     "output_type": "display_data"
    },
    {
     "data": {
      "text/plain": [
       "\">>>>>> iteration 4:O\""
      ]
     },
     "metadata": {},
     "output_type": "display_data"
    },
    {
     "data": {
      "text/plain": [
       "\">>>>>> iteration 5:O\""
      ]
     },
     "metadata": {},
     "output_type": "display_data"
    },
    {
     "data": {
      "text/plain": [
       "\">>>>>> iteration 6:O\""
      ]
     },
     "metadata": {},
     "output_type": "display_data"
    },
    {
     "data": {
      "text/plain": [
       "\">>>>>> iteration 7:O\""
      ]
     },
     "metadata": {},
     "output_type": "display_data"
    },
    {
     "data": {
      "text/plain": [
       "\">>>>>> iteration 8:O\""
      ]
     },
     "metadata": {},
     "output_type": "display_data"
    },
    {
     "data": {
      "text/plain": [
       "\">>>>>> iteration 9:O\""
      ]
     },
     "metadata": {},
     "output_type": "display_data"
    },
    {
     "data": {
      "text/plain": [
       "\">>>>>> iteration 10:O\""
      ]
     },
     "metadata": {},
     "output_type": "display_data"
    },
    {
     "data": {
      "text/plain": [
       "\">>>>>> iteration 11:O\""
      ]
     },
     "metadata": {},
     "output_type": "display_data"
    },
    {
     "data": {
      "text/plain": [
       "\">>>>>> iteration 12:O\""
      ]
     },
     "metadata": {},
     "output_type": "display_data"
    },
    {
     "data": {
      "text/plain": [
       "\">>>>>> iteration 13:O\""
      ]
     },
     "metadata": {},
     "output_type": "display_data"
    },
    {
     "data": {
      "text/plain": [
       "\">>>>>> iteration 14:O\""
      ]
     },
     "metadata": {},
     "output_type": "display_data"
    },
    {
     "data": {
      "text/plain": [
       "\">>>>>> iteration 15:O\""
      ]
     },
     "metadata": {},
     "output_type": "display_data"
    },
    {
     "data": {
      "text/plain": [
       "\">>>>>> iteration 16:O\""
      ]
     },
     "metadata": {},
     "output_type": "display_data"
    },
    {
     "data": {
      "text/plain": [
       "\">>>>>> iteration 17:O\""
      ]
     },
     "metadata": {},
     "output_type": "display_data"
    },
    {
     "data": {
      "text/plain": [
       "\">>>>>> iteration 18:O\""
      ]
     },
     "metadata": {},
     "output_type": "display_data"
    },
    {
     "data": {
      "text/plain": [
       "\">>>>>> iteration 19:O\""
      ]
     },
     "metadata": {},
     "output_type": "display_data"
    },
    {
     "data": {
      "text/plain": [
       "\">>>>>> iteration 20:O\""
      ]
     },
     "metadata": {},
     "output_type": "display_data"
    },
    {
     "data": {
      "text/plain": [
       "\">>>>>> iteration 21:O\""
      ]
     },
     "metadata": {},
     "output_type": "display_data"
    },
    {
     "data": {
      "text/plain": [
       "\">>>>>> iteration 22:O\""
      ]
     },
     "metadata": {},
     "output_type": "display_data"
    },
    {
     "data": {
      "text/plain": [
       "\">>>>>> iteration 23:O\""
      ]
     },
     "metadata": {},
     "output_type": "display_data"
    },
    {
     "data": {
      "text/plain": [
       "\">>>>>> iteration 24:O\""
      ]
     },
     "metadata": {},
     "output_type": "display_data"
    },
    {
     "data": {
      "text/plain": [
       "\">>>>>> iteration 25:O\""
      ]
     },
     "metadata": {},
     "output_type": "display_data"
    },
    {
     "data": {
      "text/plain": [
       "\">>>>>> iteration 26:O\""
      ]
     },
     "metadata": {},
     "output_type": "display_data"
    },
    {
     "data": {
      "text/plain": [
       "\">>>>>> iteration 27:O\""
      ]
     },
     "metadata": {},
     "output_type": "display_data"
    },
    {
     "data": {
      "text/plain": [
       "\">>>>>> iteration 28:O\""
      ]
     },
     "metadata": {},
     "output_type": "display_data"
    },
    {
     "data": {
      "text/plain": [
       "\">>>>>> iteration 29:O\""
      ]
     },
     "metadata": {},
     "output_type": "display_data"
    },
    {
     "data": {
      "text/plain": [
       "\">>>>>> iteration 30:O\""
      ]
     },
     "metadata": {},
     "output_type": "display_data"
    },
    {
     "data": {
      "text/plain": [
       "\">>>>>> iteration 31:O\""
      ]
     },
     "metadata": {},
     "output_type": "display_data"
    },
    {
     "data": {
      "text/plain": [
       "\">>>>>> iteration 32:O\""
      ]
     },
     "metadata": {},
     "output_type": "display_data"
    },
    {
     "data": {
      "text/plain": [
       "\">>>>>> iteration 33:O\""
      ]
     },
     "metadata": {},
     "output_type": "display_data"
    },
    {
     "data": {
      "text/plain": [
       "\">>>>>> iteration 34:O\""
      ]
     },
     "metadata": {},
     "output_type": "display_data"
    },
    {
     "data": {
      "text/plain": [
       "\">>>>>> iteration 35:O\""
      ]
     },
     "metadata": {},
     "output_type": "display_data"
    },
    {
     "data": {
      "text/plain": [
       "\">>>>>> iteration 36:O\""
      ]
     },
     "metadata": {},
     "output_type": "display_data"
    },
    {
     "data": {
      "text/plain": [
       "\">>>>>> iteration 37:O\""
      ]
     },
     "metadata": {},
     "output_type": "display_data"
    },
    {
     "data": {
      "text/plain": [
       "\">>>>>> iteration 38:O\""
      ]
     },
     "metadata": {},
     "output_type": "display_data"
    },
    {
     "name": "stdout",
     "output_type": "stream",
     "text": [
      "MC: 7>> Time: 13\n",
      "MC: 7>> Time: 14\n",
      "MC: 7>> Time: 15\n",
      "MC: 7>> Time: 16\n"
     ]
    },
    {
     "data": {
      "text/plain": [
       "\">>>>>> iteration 1:O\""
      ]
     },
     "metadata": {},
     "output_type": "display_data"
    },
    {
     "data": {
      "text/plain": [
       "\">>>>>> iteration 2:O\""
      ]
     },
     "metadata": {},
     "output_type": "display_data"
    },
    {
     "data": {
      "text/plain": [
       "\">>>>>> iteration 3:O\""
      ]
     },
     "metadata": {},
     "output_type": "display_data"
    },
    {
     "data": {
      "text/plain": [
       "\">>>>>> iteration 4:O\""
      ]
     },
     "metadata": {},
     "output_type": "display_data"
    },
    {
     "data": {
      "text/plain": [
       "\">>>>>> iteration 5:O\""
      ]
     },
     "metadata": {},
     "output_type": "display_data"
    },
    {
     "data": {
      "text/plain": [
       "\">>>>>> iteration 6:O\""
      ]
     },
     "metadata": {},
     "output_type": "display_data"
    },
    {
     "data": {
      "text/plain": [
       "\">>>>>> iteration 7:O\""
      ]
     },
     "metadata": {},
     "output_type": "display_data"
    },
    {
     "data": {
      "text/plain": [
       "\">>>>>> iteration 8:O\""
      ]
     },
     "metadata": {},
     "output_type": "display_data"
    },
    {
     "data": {
      "text/plain": [
       "\">>>>>> iteration 9:O\""
      ]
     },
     "metadata": {},
     "output_type": "display_data"
    },
    {
     "data": {
      "text/plain": [
       "\">>>>>> iteration 10:O\""
      ]
     },
     "metadata": {},
     "output_type": "display_data"
    },
    {
     "data": {
      "text/plain": [
       "\">>>>>> iteration 11:O\""
      ]
     },
     "metadata": {},
     "output_type": "display_data"
    },
    {
     "data": {
      "text/plain": [
       "\">>>>>> iteration 12:O\""
      ]
     },
     "metadata": {},
     "output_type": "display_data"
    },
    {
     "data": {
      "text/plain": [
       "\">>>>>> iteration 13:O\""
      ]
     },
     "metadata": {},
     "output_type": "display_data"
    },
    {
     "data": {
      "text/plain": [
       "\">>>>>> iteration 14:O\""
      ]
     },
     "metadata": {},
     "output_type": "display_data"
    },
    {
     "data": {
      "text/plain": [
       "\">>>>>> iteration 15:O\""
      ]
     },
     "metadata": {},
     "output_type": "display_data"
    },
    {
     "data": {
      "text/plain": [
       "\">>>>>> iteration 16:O\""
      ]
     },
     "metadata": {},
     "output_type": "display_data"
    },
    {
     "data": {
      "text/plain": [
       "\">>>>>> iteration 17:O\""
      ]
     },
     "metadata": {},
     "output_type": "display_data"
    },
    {
     "data": {
      "text/plain": [
       "\">>>>>> iteration 18:O\""
      ]
     },
     "metadata": {},
     "output_type": "display_data"
    },
    {
     "data": {
      "text/plain": [
       "\">>>>>> iteration 19:O\""
      ]
     },
     "metadata": {},
     "output_type": "display_data"
    },
    {
     "data": {
      "text/plain": [
       "\">>>>>> iteration 20:O\""
      ]
     },
     "metadata": {},
     "output_type": "display_data"
    },
    {
     "data": {
      "text/plain": [
       "\">>>>>> iteration 21:O\""
      ]
     },
     "metadata": {},
     "output_type": "display_data"
    },
    {
     "data": {
      "text/plain": [
       "\">>>>>> iteration 22:O\""
      ]
     },
     "metadata": {},
     "output_type": "display_data"
    },
    {
     "data": {
      "text/plain": [
       "\">>>>>> iteration 23:O\""
      ]
     },
     "metadata": {},
     "output_type": "display_data"
    },
    {
     "data": {
      "text/plain": [
       "\">>>>>> iteration 24:O\""
      ]
     },
     "metadata": {},
     "output_type": "display_data"
    },
    {
     "data": {
      "text/plain": [
       "\">>>>>> iteration 25:O\""
      ]
     },
     "metadata": {},
     "output_type": "display_data"
    },
    {
     "data": {
      "text/plain": [
       "\">>>>>> iteration 26:O\""
      ]
     },
     "metadata": {},
     "output_type": "display_data"
    },
    {
     "data": {
      "text/plain": [
       "\">>>>>> iteration 27:O\""
      ]
     },
     "metadata": {},
     "output_type": "display_data"
    },
    {
     "data": {
      "text/plain": [
       "\">>>>>> iteration 28:O\""
      ]
     },
     "metadata": {},
     "output_type": "display_data"
    },
    {
     "data": {
      "text/plain": [
       "\">>>>>> iteration 29:O\""
      ]
     },
     "metadata": {},
     "output_type": "display_data"
    },
    {
     "data": {
      "text/plain": [
       "\">>>>>> iteration 30:O\""
      ]
     },
     "metadata": {},
     "output_type": "display_data"
    },
    {
     "data": {
      "text/plain": [
       "\">>>>>> iteration 31:O\""
      ]
     },
     "metadata": {},
     "output_type": "display_data"
    },
    {
     "data": {
      "text/plain": [
       "\">>>>>> iteration 32:O\""
      ]
     },
     "metadata": {},
     "output_type": "display_data"
    },
    {
     "data": {
      "text/plain": [
       "\">>>>>> iteration 33:O\""
      ]
     },
     "metadata": {},
     "output_type": "display_data"
    },
    {
     "data": {
      "text/plain": [
       "\">>>>>> iteration 34:O\""
      ]
     },
     "metadata": {},
     "output_type": "display_data"
    },
    {
     "data": {
      "text/plain": [
       "\">>>>>> iteration 35:O\""
      ]
     },
     "metadata": {},
     "output_type": "display_data"
    },
    {
     "data": {
      "text/plain": [
       "\">>>>>> iteration 36:O\""
      ]
     },
     "metadata": {},
     "output_type": "display_data"
    },
    {
     "data": {
      "text/plain": [
       "\">>>>>> iteration 37:O\""
      ]
     },
     "metadata": {},
     "output_type": "display_data"
    },
    {
     "data": {
      "text/plain": [
       "\">>>>>> iteration 38:O\""
      ]
     },
     "metadata": {},
     "output_type": "display_data"
    },
    {
     "data": {
      "text/plain": [
       "\">>>>>> iteration 39:O\""
      ]
     },
     "metadata": {},
     "output_type": "display_data"
    },
    {
     "data": {
      "text/plain": [
       "\">>>>>> iteration 40:O\""
      ]
     },
     "metadata": {},
     "output_type": "display_data"
    },
    {
     "name": "stdout",
     "output_type": "stream",
     "text": [
      "MC: 7>> Time: 17\n",
      "MC: 7>> Time: 18\n",
      "MC: 7>> Time: 19\n",
      "MC: 7>> Time: 20\n"
     ]
    },
    {
     "data": {
      "text/plain": [
       "\">>>>>> iteration 1:O\""
      ]
     },
     "metadata": {},
     "output_type": "display_data"
    },
    {
     "data": {
      "text/plain": [
       "\">>>>>> iteration 2:O\""
      ]
     },
     "metadata": {},
     "output_type": "display_data"
    },
    {
     "data": {
      "text/plain": [
       "\">>>>>> iteration 3:O\""
      ]
     },
     "metadata": {},
     "output_type": "display_data"
    },
    {
     "data": {
      "text/plain": [
       "\">>>>>> iteration 4:O\""
      ]
     },
     "metadata": {},
     "output_type": "display_data"
    },
    {
     "data": {
      "text/plain": [
       "\">>>>>> iteration 5:O\""
      ]
     },
     "metadata": {},
     "output_type": "display_data"
    },
    {
     "data": {
      "text/plain": [
       "\">>>>>> iteration 6:O\""
      ]
     },
     "metadata": {},
     "output_type": "display_data"
    },
    {
     "data": {
      "text/plain": [
       "\">>>>>> iteration 7:O\""
      ]
     },
     "metadata": {},
     "output_type": "display_data"
    },
    {
     "data": {
      "text/plain": [
       "\">>>>>> iteration 8:O\""
      ]
     },
     "metadata": {},
     "output_type": "display_data"
    },
    {
     "data": {
      "text/plain": [
       "\">>>>>> iteration 9:O\""
      ]
     },
     "metadata": {},
     "output_type": "display_data"
    },
    {
     "data": {
      "text/plain": [
       "\">>>>>> iteration 10:O\""
      ]
     },
     "metadata": {},
     "output_type": "display_data"
    },
    {
     "data": {
      "text/plain": [
       "\">>>>>> iteration 11:O\""
      ]
     },
     "metadata": {},
     "output_type": "display_data"
    },
    {
     "data": {
      "text/plain": [
       "\">>>>>> iteration 12:O\""
      ]
     },
     "metadata": {},
     "output_type": "display_data"
    },
    {
     "data": {
      "text/plain": [
       "\">>>>>> iteration 13:O\""
      ]
     },
     "metadata": {},
     "output_type": "display_data"
    },
    {
     "data": {
      "text/plain": [
       "\">>>>>> iteration 14:O\""
      ]
     },
     "metadata": {},
     "output_type": "display_data"
    },
    {
     "data": {
      "text/plain": [
       "\">>>>>> iteration 15:O\""
      ]
     },
     "metadata": {},
     "output_type": "display_data"
    },
    {
     "data": {
      "text/plain": [
       "\">>>>>> iteration 16:O\""
      ]
     },
     "metadata": {},
     "output_type": "display_data"
    },
    {
     "data": {
      "text/plain": [
       "\">>>>>> iteration 17:O\""
      ]
     },
     "metadata": {},
     "output_type": "display_data"
    },
    {
     "data": {
      "text/plain": [
       "\">>>>>> iteration 18:O\""
      ]
     },
     "metadata": {},
     "output_type": "display_data"
    },
    {
     "data": {
      "text/plain": [
       "\">>>>>> iteration 19:O\""
      ]
     },
     "metadata": {},
     "output_type": "display_data"
    },
    {
     "data": {
      "text/plain": [
       "\">>>>>> iteration 20:O\""
      ]
     },
     "metadata": {},
     "output_type": "display_data"
    },
    {
     "data": {
      "text/plain": [
       "\">>>>>> iteration 21:O\""
      ]
     },
     "metadata": {},
     "output_type": "display_data"
    },
    {
     "data": {
      "text/plain": [
       "\">>>>>> iteration 22:O\""
      ]
     },
     "metadata": {},
     "output_type": "display_data"
    },
    {
     "data": {
      "text/plain": [
       "\">>>>>> iteration 23:O\""
      ]
     },
     "metadata": {},
     "output_type": "display_data"
    },
    {
     "data": {
      "text/plain": [
       "\">>>>>> iteration 24:O\""
      ]
     },
     "metadata": {},
     "output_type": "display_data"
    },
    {
     "data": {
      "text/plain": [
       "\">>>>>> iteration 25:O\""
      ]
     },
     "metadata": {},
     "output_type": "display_data"
    },
    {
     "data": {
      "text/plain": [
       "\">>>>>> iteration 26:O\""
      ]
     },
     "metadata": {},
     "output_type": "display_data"
    },
    {
     "data": {
      "text/plain": [
       "\">>>>>> iteration 27:O\""
      ]
     },
     "metadata": {},
     "output_type": "display_data"
    },
    {
     "data": {
      "text/plain": [
       "\">>>>>> iteration 28:O\""
      ]
     },
     "metadata": {},
     "output_type": "display_data"
    },
    {
     "data": {
      "text/plain": [
       "\">>>>>> iteration 29:O\""
      ]
     },
     "metadata": {},
     "output_type": "display_data"
    },
    {
     "data": {
      "text/plain": [
       "\">>>>>> iteration 30:O\""
      ]
     },
     "metadata": {},
     "output_type": "display_data"
    },
    {
     "data": {
      "text/plain": [
       "\">>>>>> iteration 31:O\""
      ]
     },
     "metadata": {},
     "output_type": "display_data"
    },
    {
     "data": {
      "text/plain": [
       "\">>>>>> iteration 32:O\""
      ]
     },
     "metadata": {},
     "output_type": "display_data"
    },
    {
     "data": {
      "text/plain": [
       "\">>>>>> iteration 33:O\""
      ]
     },
     "metadata": {},
     "output_type": "display_data"
    },
    {
     "data": {
      "text/plain": [
       "\">>>>>> iteration 34:O\""
      ]
     },
     "metadata": {},
     "output_type": "display_data"
    },
    {
     "data": {
      "text/plain": [
       "\">>>>>> iteration 35:O\""
      ]
     },
     "metadata": {},
     "output_type": "display_data"
    },
    {
     "data": {
      "text/plain": [
       "\">>>>>> iteration 36:O\""
      ]
     },
     "metadata": {},
     "output_type": "display_data"
    },
    {
     "data": {
      "text/plain": [
       "\">>>>>> iteration 37:O\""
      ]
     },
     "metadata": {},
     "output_type": "display_data"
    },
    {
     "data": {
      "text/plain": [
       "\">>>>>> iteration 38:O\""
      ]
     },
     "metadata": {},
     "output_type": "display_data"
    },
    {
     "data": {
      "text/plain": [
       "\">>>>>> iteration 39:O\""
      ]
     },
     "metadata": {},
     "output_type": "display_data"
    },
    {
     "data": {
      "text/plain": [
       "\">>>>>> iteration 40:O\""
      ]
     },
     "metadata": {},
     "output_type": "display_data"
    },
    {
     "name": "stdout",
     "output_type": "stream",
     "text": [
      "MC: 8>> Time: 1\n",
      "MC: 8>> Time: 2\n",
      "MC: 8>> Time: 3\n",
      "MC: 8>> Time: 4\n",
      "MC: 8>> Time: 5\n",
      "MC: 8>> Time: 6\n",
      "MC: 8>> Time: 7\n",
      "MC: 8>> Time: 8\n",
      "MC: 8>> Time: 9\n",
      "MC: 8>> Time: 10\n",
      "MC: 8>> Time: 11\n",
      "MC: 8>> Time: 12\n",
      "MC: 8>> Time: 13\n",
      "MC: 8>> Time: 14\n",
      "MC: 8>> Time: 15\n",
      "MC: 8>> Time: 16\n",
      "MC: 8>> Time: 17\n",
      "MC: 8>> Time: 18\n",
      "MC: 8>> Time: 19\n",
      "MC: 8>> Time: 20\n",
      "MC: 8>> Time: 1\n"
     ]
    },
    {
     "data": {
      "text/plain": [
       "\">>>>>> iteration 1:O\""
      ]
     },
     "metadata": {},
     "output_type": "display_data"
    },
    {
     "data": {
      "text/plain": [
       "\">>>>>> iteration 2:O\""
      ]
     },
     "metadata": {},
     "output_type": "display_data"
    },
    {
     "data": {
      "text/plain": [
       "\">>>>>> iteration 3:O\""
      ]
     },
     "metadata": {},
     "output_type": "display_data"
    },
    {
     "data": {
      "text/plain": [
       "\">>>>>> iteration 4:O\""
      ]
     },
     "metadata": {},
     "output_type": "display_data"
    },
    {
     "data": {
      "text/plain": [
       "\">>>>>> iteration 5:O\""
      ]
     },
     "metadata": {},
     "output_type": "display_data"
    },
    {
     "data": {
      "text/plain": [
       "\">>>>>> iteration 6:O\""
      ]
     },
     "metadata": {},
     "output_type": "display_data"
    },
    {
     "data": {
      "text/plain": [
       "\">>>>>> iteration 7:O\""
      ]
     },
     "metadata": {},
     "output_type": "display_data"
    },
    {
     "data": {
      "text/plain": [
       "\">>>>>> iteration 8:O\""
      ]
     },
     "metadata": {},
     "output_type": "display_data"
    },
    {
     "data": {
      "text/plain": [
       "\">>>>>> iteration 9:O\""
      ]
     },
     "metadata": {},
     "output_type": "display_data"
    },
    {
     "data": {
      "text/plain": [
       "\">>>>>> iteration 10:O\""
      ]
     },
     "metadata": {},
     "output_type": "display_data"
    },
    {
     "data": {
      "text/plain": [
       "\">>>>>> iteration 11:O\""
      ]
     },
     "metadata": {},
     "output_type": "display_data"
    },
    {
     "data": {
      "text/plain": [
       "\">>>>>> iteration 12:O\""
      ]
     },
     "metadata": {},
     "output_type": "display_data"
    },
    {
     "data": {
      "text/plain": [
       "\">>>>>> iteration 13:F\""
      ]
     },
     "metadata": {},
     "output_type": "display_data"
    },
    {
     "data": {
      "text/plain": [
       "\">>>>>> iteration 14:O\""
      ]
     },
     "metadata": {},
     "output_type": "display_data"
    },
    {
     "data": {
      "text/plain": [
       "\">>>>>> iteration 15:O\""
      ]
     },
     "metadata": {},
     "output_type": "display_data"
    },
    {
     "data": {
      "text/plain": [
       "\">>>>>> iteration 16:O\""
      ]
     },
     "metadata": {},
     "output_type": "display_data"
    },
    {
     "data": {
      "text/plain": [
       "\">>>>>> iteration 17:O\""
      ]
     },
     "metadata": {},
     "output_type": "display_data"
    },
    {
     "name": "stdout",
     "output_type": "stream",
     "text": [
      "MC: 8>> Time: 2\n",
      "MC: 8>> Time: 3\n",
      "MC: 8>> Time: 4\n"
     ]
    },
    {
     "data": {
      "text/plain": [
       "\">>>>>> iteration 1:O\""
      ]
     },
     "metadata": {},
     "output_type": "display_data"
    },
    {
     "data": {
      "text/plain": [
       "\">>>>>> iteration 2:O\""
      ]
     },
     "metadata": {},
     "output_type": "display_data"
    },
    {
     "data": {
      "text/plain": [
       "\">>>>>> iteration 3:O\""
      ]
     },
     "metadata": {},
     "output_type": "display_data"
    },
    {
     "data": {
      "text/plain": [
       "\">>>>>> iteration 4:O\""
      ]
     },
     "metadata": {},
     "output_type": "display_data"
    },
    {
     "data": {
      "text/plain": [
       "\">>>>>> iteration 5:O\""
      ]
     },
     "metadata": {},
     "output_type": "display_data"
    },
    {
     "data": {
      "text/plain": [
       "\">>>>>> iteration 6:O\""
      ]
     },
     "metadata": {},
     "output_type": "display_data"
    },
    {
     "data": {
      "text/plain": [
       "\">>>>>> iteration 7:O\""
      ]
     },
     "metadata": {},
     "output_type": "display_data"
    },
    {
     "data": {
      "text/plain": [
       "\">>>>>> iteration 8:O\""
      ]
     },
     "metadata": {},
     "output_type": "display_data"
    },
    {
     "data": {
      "text/plain": [
       "\">>>>>> iteration 9:O\""
      ]
     },
     "metadata": {},
     "output_type": "display_data"
    },
    {
     "data": {
      "text/plain": [
       "\">>>>>> iteration 10:O\""
      ]
     },
     "metadata": {},
     "output_type": "display_data"
    },
    {
     "data": {
      "text/plain": [
       "\">>>>>> iteration 11:O\""
      ]
     },
     "metadata": {},
     "output_type": "display_data"
    },
    {
     "data": {
      "text/plain": [
       "\">>>>>> iteration 12:O\""
      ]
     },
     "metadata": {},
     "output_type": "display_data"
    },
    {
     "data": {
      "text/plain": [
       "\">>>>>> iteration 13:O\""
      ]
     },
     "metadata": {},
     "output_type": "display_data"
    },
    {
     "data": {
      "text/plain": [
       "\">>>>>> iteration 14:O\""
      ]
     },
     "metadata": {},
     "output_type": "display_data"
    },
    {
     "data": {
      "text/plain": [
       "\">>>>>> iteration 15:O\""
      ]
     },
     "metadata": {},
     "output_type": "display_data"
    },
    {
     "data": {
      "text/plain": [
       "\">>>>>> iteration 16:O\""
      ]
     },
     "metadata": {},
     "output_type": "display_data"
    },
    {
     "data": {
      "text/plain": [
       "\">>>>>> iteration 17:O\""
      ]
     },
     "metadata": {},
     "output_type": "display_data"
    },
    {
     "data": {
      "text/plain": [
       "\">>>>>> iteration 18:F\""
      ]
     },
     "metadata": {},
     "output_type": "display_data"
    },
    {
     "data": {
      "text/plain": [
       "\">>>>>> iteration 19:F\""
      ]
     },
     "metadata": {},
     "output_type": "display_data"
    },
    {
     "data": {
      "text/plain": [
       "\">>>>>> iteration 20:F\""
      ]
     },
     "metadata": {},
     "output_type": "display_data"
    },
    {
     "data": {
      "text/plain": [
       "\">>>>>> iteration 21:F\""
      ]
     },
     "metadata": {},
     "output_type": "display_data"
    },
    {
     "data": {
      "text/plain": [
       "\">>>>>> iteration 22:F\""
      ]
     },
     "metadata": {},
     "output_type": "display_data"
    },
    {
     "data": {
      "text/plain": [
       "\">>>>>> iteration 23:F\""
      ]
     },
     "metadata": {},
     "output_type": "display_data"
    },
    {
     "data": {
      "text/plain": [
       "\">>>>>> iteration 24:F\""
      ]
     },
     "metadata": {},
     "output_type": "display_data"
    },
    {
     "data": {
      "text/plain": [
       "\">>>>>> iteration 25:F\""
      ]
     },
     "metadata": {},
     "output_type": "display_data"
    },
    {
     "data": {
      "text/plain": [
       "\">>>>>> iteration 26:F\""
      ]
     },
     "metadata": {},
     "output_type": "display_data"
    },
    {
     "data": {
      "text/plain": [
       "\">>>>>> iteration 27:F\""
      ]
     },
     "metadata": {},
     "output_type": "display_data"
    },
    {
     "data": {
      "text/plain": [
       "\">>>>>> iteration 28:F\""
      ]
     },
     "metadata": {},
     "output_type": "display_data"
    },
    {
     "data": {
      "text/plain": [
       "\">>>>>> iteration 29:F\""
      ]
     },
     "metadata": {},
     "output_type": "display_data"
    },
    {
     "data": {
      "text/plain": [
       "\">>>>>> iteration 30:F\""
      ]
     },
     "metadata": {},
     "output_type": "display_data"
    },
    {
     "data": {
      "text/plain": [
       "\">>>>>> iteration 31:F\""
      ]
     },
     "metadata": {},
     "output_type": "display_data"
    },
    {
     "data": {
      "text/plain": [
       "\">>>>>> iteration 32:F\""
      ]
     },
     "metadata": {},
     "output_type": "display_data"
    },
    {
     "data": {
      "text/plain": [
       "\">>>>>> iteration 33:F\""
      ]
     },
     "metadata": {},
     "output_type": "display_data"
    },
    {
     "data": {
      "text/plain": [
       "\">>>>>> iteration 34:F\""
      ]
     },
     "metadata": {},
     "output_type": "display_data"
    },
    {
     "data": {
      "text/plain": [
       "\">>>>>> iteration 35:F\""
      ]
     },
     "metadata": {},
     "output_type": "display_data"
    },
    {
     "data": {
      "text/plain": [
       "\">>>>>> iteration 36:F\""
      ]
     },
     "metadata": {},
     "output_type": "display_data"
    },
    {
     "data": {
      "text/plain": [
       "\">>>>>> iteration 37:F\""
      ]
     },
     "metadata": {},
     "output_type": "display_data"
    },
    {
     "data": {
      "text/plain": [
       "\">>>>>> iteration 38:F\""
      ]
     },
     "metadata": {},
     "output_type": "display_data"
    },
    {
     "data": {
      "text/plain": [
       "\">>>>>> iteration 39:F\""
      ]
     },
     "metadata": {},
     "output_type": "display_data"
    },
    {
     "data": {
      "text/plain": [
       "\">>>>>> iteration 40:F\""
      ]
     },
     "metadata": {},
     "output_type": "display_data"
    },
    {
     "data": {
      "text/plain": [
       "\">>>>>> iteration 41:F\""
      ]
     },
     "metadata": {},
     "output_type": "display_data"
    },
    {
     "data": {
      "text/plain": [
       "\">>>>>> iteration 42:F\""
      ]
     },
     "metadata": {},
     "output_type": "display_data"
    },
    {
     "data": {
      "text/plain": [
       "\">>>>>> iteration 43:F\""
      ]
     },
     "metadata": {},
     "output_type": "display_data"
    },
    {
     "data": {
      "text/plain": [
       "\">>>>>> iteration 44:F\""
      ]
     },
     "metadata": {},
     "output_type": "display_data"
    },
    {
     "data": {
      "text/plain": [
       "\">>>>>> iteration 45:F\""
      ]
     },
     "metadata": {},
     "output_type": "display_data"
    },
    {
     "data": {
      "text/plain": [
       "\">>>>>> iteration 46:F\""
      ]
     },
     "metadata": {},
     "output_type": "display_data"
    },
    {
     "data": {
      "text/plain": [
       "\">>>>>> iteration 47:F\""
      ]
     },
     "metadata": {},
     "output_type": "display_data"
    },
    {
     "data": {
      "text/plain": [
       "\">>>>>> iteration 48:F\""
      ]
     },
     "metadata": {},
     "output_type": "display_data"
    },
    {
     "data": {
      "text/plain": [
       "\">>>>>> iteration 49:F\""
      ]
     },
     "metadata": {},
     "output_type": "display_data"
    },
    {
     "data": {
      "text/plain": [
       "\">>>>>> iteration 50:F\""
      ]
     },
     "metadata": {},
     "output_type": "display_data"
    },
    {
     "data": {
      "text/plain": [
       "\">>>>>> iteration 51:F\""
      ]
     },
     "metadata": {},
     "output_type": "display_data"
    },
    {
     "data": {
      "text/plain": [
       "\">>>>>> iteration 52:F\""
      ]
     },
     "metadata": {},
     "output_type": "display_data"
    },
    {
     "data": {
      "text/plain": [
       "\">>>>>> iteration 53:F\""
      ]
     },
     "metadata": {},
     "output_type": "display_data"
    },
    {
     "data": {
      "text/plain": [
       "\">>>>>> iteration 54:F\""
      ]
     },
     "metadata": {},
     "output_type": "display_data"
    },
    {
     "data": {
      "text/plain": [
       "\">>>>>> iteration 55:F\""
      ]
     },
     "metadata": {},
     "output_type": "display_data"
    },
    {
     "data": {
      "text/plain": [
       "\">>>>>> iteration 56:F\""
      ]
     },
     "metadata": {},
     "output_type": "display_data"
    },
    {
     "data": {
      "text/plain": [
       "\">>>>>> iteration 57:F\""
      ]
     },
     "metadata": {},
     "output_type": "display_data"
    },
    {
     "data": {
      "text/plain": [
       "\">>>>>> iteration 58:F\""
      ]
     },
     "metadata": {},
     "output_type": "display_data"
    },
    {
     "data": {
      "text/plain": [
       "\">>>>>> iteration 59:F\""
      ]
     },
     "metadata": {},
     "output_type": "display_data"
    },
    {
     "data": {
      "text/plain": [
       "\">>>>>> iteration 60:F\""
      ]
     },
     "metadata": {},
     "output_type": "display_data"
    },
    {
     "data": {
      "text/plain": [
       "\">>>>>> iteration 61:F\""
      ]
     },
     "metadata": {},
     "output_type": "display_data"
    },
    {
     "data": {
      "text/plain": [
       "\">>>>>> iteration 62:F\""
      ]
     },
     "metadata": {},
     "output_type": "display_data"
    },
    {
     "data": {
      "text/plain": [
       "\">>>>>> iteration 63:F\""
      ]
     },
     "metadata": {},
     "output_type": "display_data"
    },
    {
     "data": {
      "text/plain": [
       "\">>>>>> iteration 64:F\""
      ]
     },
     "metadata": {},
     "output_type": "display_data"
    },
    {
     "data": {
      "text/plain": [
       "\">>>>>> iteration 65:F\""
      ]
     },
     "metadata": {},
     "output_type": "display_data"
    },
    {
     "data": {
      "text/plain": [
       "\">>>>>> iteration 66:F\""
      ]
     },
     "metadata": {},
     "output_type": "display_data"
    },
    {
     "data": {
      "text/plain": [
       "\">>>>>> iteration 67:F\""
      ]
     },
     "metadata": {},
     "output_type": "display_data"
    },
    {
     "data": {
      "text/plain": [
       "\">>>>>> iteration 68:F\""
      ]
     },
     "metadata": {},
     "output_type": "display_data"
    },
    {
     "data": {
      "text/plain": [
       "\">>>>>> iteration 69:F\""
      ]
     },
     "metadata": {},
     "output_type": "display_data"
    },
    {
     "data": {
      "text/plain": [
       "\">>>>>> iteration 70:F\""
      ]
     },
     "metadata": {},
     "output_type": "display_data"
    },
    {
     "data": {
      "text/plain": [
       "\">>>>>> iteration 71:F\""
      ]
     },
     "metadata": {},
     "output_type": "display_data"
    },
    {
     "data": {
      "text/plain": [
       "\">>>>>> iteration 72:F\""
      ]
     },
     "metadata": {},
     "output_type": "display_data"
    },
    {
     "data": {
      "text/plain": [
       "\">>>>>> iteration 73:F\""
      ]
     },
     "metadata": {},
     "output_type": "display_data"
    },
    {
     "data": {
      "text/plain": [
       "\">>>>>> iteration 74:F\""
      ]
     },
     "metadata": {},
     "output_type": "display_data"
    },
    {
     "data": {
      "text/plain": [
       "\">>>>>> iteration 75:F\""
      ]
     },
     "metadata": {},
     "output_type": "display_data"
    },
    {
     "data": {
      "text/plain": [
       "\">>>>>> iteration 76:F\""
      ]
     },
     "metadata": {},
     "output_type": "display_data"
    },
    {
     "data": {
      "text/plain": [
       "\">>>>>> iteration 77:F\""
      ]
     },
     "metadata": {},
     "output_type": "display_data"
    },
    {
     "data": {
      "text/plain": [
       "\">>>>>> iteration 78:F\""
      ]
     },
     "metadata": {},
     "output_type": "display_data"
    },
    {
     "data": {
      "text/plain": [
       "\">>>>>> iteration 79:F\""
      ]
     },
     "metadata": {},
     "output_type": "display_data"
    },
    {
     "data": {
      "text/plain": [
       "\">>>>>> iteration 80:F\""
      ]
     },
     "metadata": {},
     "output_type": "display_data"
    },
    {
     "data": {
      "text/plain": [
       "\">>>>>> iteration 81:F\""
      ]
     },
     "metadata": {},
     "output_type": "display_data"
    },
    {
     "data": {
      "text/plain": [
       "\">>>>>> iteration 82:F\""
      ]
     },
     "metadata": {},
     "output_type": "display_data"
    },
    {
     "data": {
      "text/plain": [
       "\">>>>>> iteration 83:F\""
      ]
     },
     "metadata": {},
     "output_type": "display_data"
    },
    {
     "data": {
      "text/plain": [
       "\">>>>>> iteration 84:F\""
      ]
     },
     "metadata": {},
     "output_type": "display_data"
    },
    {
     "data": {
      "text/plain": [
       "\">>>>>> iteration 85:F\""
      ]
     },
     "metadata": {},
     "output_type": "display_data"
    },
    {
     "data": {
      "text/plain": [
       "\">>>>>> iteration 86:F\""
      ]
     },
     "metadata": {},
     "output_type": "display_data"
    },
    {
     "data": {
      "text/plain": [
       "\">>>>>> iteration 87:F\""
      ]
     },
     "metadata": {},
     "output_type": "display_data"
    },
    {
     "data": {
      "text/plain": [
       "\">>>>>> iteration 88:F\""
      ]
     },
     "metadata": {},
     "output_type": "display_data"
    },
    {
     "data": {
      "text/plain": [
       "\">>>>>> iteration 89:F\""
      ]
     },
     "metadata": {},
     "output_type": "display_data"
    },
    {
     "data": {
      "text/plain": [
       "\">>>>>> iteration 90:F\""
      ]
     },
     "metadata": {},
     "output_type": "display_data"
    },
    {
     "data": {
      "text/plain": [
       "\">>>>>> iteration 91:F\""
      ]
     },
     "metadata": {},
     "output_type": "display_data"
    },
    {
     "data": {
      "text/plain": [
       "\">>>>>> iteration 92:F\""
      ]
     },
     "metadata": {},
     "output_type": "display_data"
    },
    {
     "data": {
      "text/plain": [
       "\">>>>>> iteration 93:F\""
      ]
     },
     "metadata": {},
     "output_type": "display_data"
    },
    {
     "data": {
      "text/plain": [
       "\">>>>>> iteration 94:F\""
      ]
     },
     "metadata": {},
     "output_type": "display_data"
    },
    {
     "data": {
      "text/plain": [
       "\">>>>>> iteration 95:F\""
      ]
     },
     "metadata": {},
     "output_type": "display_data"
    },
    {
     "data": {
      "text/plain": [
       "\">>>>>> iteration 96:F\""
      ]
     },
     "metadata": {},
     "output_type": "display_data"
    },
    {
     "data": {
      "text/plain": [
       "\">>>>>> iteration 97:F\""
      ]
     },
     "metadata": {},
     "output_type": "display_data"
    },
    {
     "data": {
      "text/plain": [
       "\">>>>>> iteration 98:F\""
      ]
     },
     "metadata": {},
     "output_type": "display_data"
    },
    {
     "data": {
      "text/plain": [
       "\">>>>>> iteration 99:F\""
      ]
     },
     "metadata": {},
     "output_type": "display_data"
    },
    {
     "data": {
      "text/plain": [
       "\">>>>>> iteration 100:F\""
      ]
     },
     "metadata": {},
     "output_type": "display_data"
    },
    {
     "data": {
      "text/plain": [
       "\">>>>>> iteration 101:F\""
      ]
     },
     "metadata": {},
     "output_type": "display_data"
    },
    {
     "data": {
      "text/plain": [
       "\">>>>>> iteration 102:F\""
      ]
     },
     "metadata": {},
     "output_type": "display_data"
    },
    {
     "data": {
      "text/plain": [
       "\">>>>>> iteration 103:F\""
      ]
     },
     "metadata": {},
     "output_type": "display_data"
    },
    {
     "data": {
      "text/plain": [
       "\">>>>>> iteration 104:F\""
      ]
     },
     "metadata": {},
     "output_type": "display_data"
    },
    {
     "data": {
      "text/plain": [
       "\">>>>>> iteration 105:F\""
      ]
     },
     "metadata": {},
     "output_type": "display_data"
    },
    {
     "data": {
      "text/plain": [
       "\">>>>>> iteration 106:F\""
      ]
     },
     "metadata": {},
     "output_type": "display_data"
    },
    {
     "data": {
      "text/plain": [
       "\">>>>>> iteration 107:F\""
      ]
     },
     "metadata": {},
     "output_type": "display_data"
    },
    {
     "data": {
      "text/plain": [
       "\">>>>>> iteration 108:F\""
      ]
     },
     "metadata": {},
     "output_type": "display_data"
    },
    {
     "data": {
      "text/plain": [
       "\">>>>>> iteration 109:F\""
      ]
     },
     "metadata": {},
     "output_type": "display_data"
    },
    {
     "data": {
      "text/plain": [
       "\">>>>>> iteration 110:F\""
      ]
     },
     "metadata": {},
     "output_type": "display_data"
    },
    {
     "data": {
      "text/plain": [
       "\">>>>>> iteration 111:F\""
      ]
     },
     "metadata": {},
     "output_type": "display_data"
    },
    {
     "data": {
      "text/plain": [
       "\">>>>>> iteration 112:F\""
      ]
     },
     "metadata": {},
     "output_type": "display_data"
    },
    {
     "data": {
      "text/plain": [
       "\">>>>>> iteration 113:F\""
      ]
     },
     "metadata": {},
     "output_type": "display_data"
    },
    {
     "data": {
      "text/plain": [
       "\">>>>>> iteration 114:F\""
      ]
     },
     "metadata": {},
     "output_type": "display_data"
    },
    {
     "data": {
      "text/plain": [
       "\">>>>>> iteration 115:F\""
      ]
     },
     "metadata": {},
     "output_type": "display_data"
    },
    {
     "data": {
      "text/plain": [
       "\">>>>>> iteration 116:F\""
      ]
     },
     "metadata": {},
     "output_type": "display_data"
    },
    {
     "data": {
      "text/plain": [
       "\">>>>>> iteration 117:F\""
      ]
     },
     "metadata": {},
     "output_type": "display_data"
    },
    {
     "data": {
      "text/plain": [
       "\">>>>>> iteration 118:F\""
      ]
     },
     "metadata": {},
     "output_type": "display_data"
    },
    {
     "data": {
      "text/plain": [
       "\">>>>>> iteration 119:F\""
      ]
     },
     "metadata": {},
     "output_type": "display_data"
    },
    {
     "data": {
      "text/plain": [
       "\">>>>>> iteration 120:F\""
      ]
     },
     "metadata": {},
     "output_type": "display_data"
    },
    {
     "data": {
      "text/plain": [
       "\">>>>>> iteration 121:F\""
      ]
     },
     "metadata": {},
     "output_type": "display_data"
    },
    {
     "data": {
      "text/plain": [
       "\">>>>>> iteration 122:F\""
      ]
     },
     "metadata": {},
     "output_type": "display_data"
    },
    {
     "data": {
      "text/plain": [
       "\">>>>>> iteration 123:F\""
      ]
     },
     "metadata": {},
     "output_type": "display_data"
    },
    {
     "data": {
      "text/plain": [
       "\">>>>>> iteration 124:F\""
      ]
     },
     "metadata": {},
     "output_type": "display_data"
    },
    {
     "data": {
      "text/plain": [
       "\">>>>>> iteration 125:F\""
      ]
     },
     "metadata": {},
     "output_type": "display_data"
    },
    {
     "data": {
      "text/plain": [
       "\">>>>>> iteration 126:F\""
      ]
     },
     "metadata": {},
     "output_type": "display_data"
    },
    {
     "data": {
      "text/plain": [
       "\">>>>>> iteration 127:F\""
      ]
     },
     "metadata": {},
     "output_type": "display_data"
    },
    {
     "data": {
      "text/plain": [
       "\">>>>>> iteration 128:F\""
      ]
     },
     "metadata": {},
     "output_type": "display_data"
    },
    {
     "data": {
      "text/plain": [
       "\">>>>>> iteration 129:F\""
      ]
     },
     "metadata": {},
     "output_type": "display_data"
    },
    {
     "data": {
      "text/plain": [
       "\">>>>>> iteration 130:F\""
      ]
     },
     "metadata": {},
     "output_type": "display_data"
    },
    {
     "data": {
      "text/plain": [
       "\">>>>>> iteration 131:F\""
      ]
     },
     "metadata": {},
     "output_type": "display_data"
    },
    {
     "data": {
      "text/plain": [
       "\">>>>>> iteration 132:F\""
      ]
     },
     "metadata": {},
     "output_type": "display_data"
    },
    {
     "data": {
      "text/plain": [
       "\">>>>>> iteration 133:F\""
      ]
     },
     "metadata": {},
     "output_type": "display_data"
    },
    {
     "data": {
      "text/plain": [
       "\">>>>>> iteration 134:F\""
      ]
     },
     "metadata": {},
     "output_type": "display_data"
    },
    {
     "data": {
      "text/plain": [
       "\">>>>>> iteration 135:F\""
      ]
     },
     "metadata": {},
     "output_type": "display_data"
    },
    {
     "data": {
      "text/plain": [
       "\">>>>>> iteration 136:F\""
      ]
     },
     "metadata": {},
     "output_type": "display_data"
    },
    {
     "data": {
      "text/plain": [
       "\">>>>>> iteration 137:F\""
      ]
     },
     "metadata": {},
     "output_type": "display_data"
    },
    {
     "data": {
      "text/plain": [
       "\">>>>>> iteration 138:F\""
      ]
     },
     "metadata": {},
     "output_type": "display_data"
    },
    {
     "data": {
      "text/plain": [
       "\">>>>>> iteration 139:F\""
      ]
     },
     "metadata": {},
     "output_type": "display_data"
    },
    {
     "data": {
      "text/plain": [
       "\">>>>>> iteration 140:F\""
      ]
     },
     "metadata": {},
     "output_type": "display_data"
    },
    {
     "data": {
      "text/plain": [
       "\">>>>>> iteration 141:F\""
      ]
     },
     "metadata": {},
     "output_type": "display_data"
    },
    {
     "data": {
      "text/plain": [
       "\">>>>>> iteration 142:F\""
      ]
     },
     "metadata": {},
     "output_type": "display_data"
    },
    {
     "data": {
      "text/plain": [
       "\">>>>>> iteration 143:F\""
      ]
     },
     "metadata": {},
     "output_type": "display_data"
    },
    {
     "data": {
      "text/plain": [
       "\">>>>>> iteration 144:F\""
      ]
     },
     "metadata": {},
     "output_type": "display_data"
    },
    {
     "data": {
      "text/plain": [
       "\">>>>>> iteration 145:F\""
      ]
     },
     "metadata": {},
     "output_type": "display_data"
    },
    {
     "data": {
      "text/plain": [
       "\">>>>>> iteration 146:F\""
      ]
     },
     "metadata": {},
     "output_type": "display_data"
    },
    {
     "data": {
      "text/plain": [
       "\">>>>>> iteration 147:F\""
      ]
     },
     "metadata": {},
     "output_type": "display_data"
    },
    {
     "data": {
      "text/plain": [
       "\">>>>>> iteration 148:F\""
      ]
     },
     "metadata": {},
     "output_type": "display_data"
    },
    {
     "data": {
      "text/plain": [
       "\">>>>>> iteration 149:F\""
      ]
     },
     "metadata": {},
     "output_type": "display_data"
    },
    {
     "data": {
      "text/plain": [
       "\">>>>>> iteration 150:F\""
      ]
     },
     "metadata": {},
     "output_type": "display_data"
    },
    {
     "data": {
      "text/plain": [
       "\">>>>>> iteration 151:F\""
      ]
     },
     "metadata": {},
     "output_type": "display_data"
    },
    {
     "data": {
      "text/plain": [
       "\">>>>>> iteration 152:F\""
      ]
     },
     "metadata": {},
     "output_type": "display_data"
    },
    {
     "data": {
      "text/plain": [
       "\">>>>>> iteration 153:F\""
      ]
     },
     "metadata": {},
     "output_type": "display_data"
    },
    {
     "data": {
      "text/plain": [
       "\">>>>>> iteration 154:F\""
      ]
     },
     "metadata": {},
     "output_type": "display_data"
    },
    {
     "data": {
      "text/plain": [
       "\">>>>>> iteration 155:F\""
      ]
     },
     "metadata": {},
     "output_type": "display_data"
    },
    {
     "data": {
      "text/plain": [
       "\">>>>>> iteration 156:F\""
      ]
     },
     "metadata": {},
     "output_type": "display_data"
    },
    {
     "data": {
      "text/plain": [
       "\">>>>>> iteration 157:F\""
      ]
     },
     "metadata": {},
     "output_type": "display_data"
    },
    {
     "data": {
      "text/plain": [
       "\">>>>>> iteration 158:F\""
      ]
     },
     "metadata": {},
     "output_type": "display_data"
    },
    {
     "data": {
      "text/plain": [
       "\">>>>>> iteration 159:F\""
      ]
     },
     "metadata": {},
     "output_type": "display_data"
    },
    {
     "data": {
      "text/plain": [
       "\">>>>>> iteration 160:F\""
      ]
     },
     "metadata": {},
     "output_type": "display_data"
    },
    {
     "data": {
      "text/plain": [
       "\">>>>>> iteration 161:F\""
      ]
     },
     "metadata": {},
     "output_type": "display_data"
    },
    {
     "data": {
      "text/plain": [
       "\">>>>>> iteration 162:F\""
      ]
     },
     "metadata": {},
     "output_type": "display_data"
    },
    {
     "data": {
      "text/plain": [
       "\">>>>>> iteration 163:F\""
      ]
     },
     "metadata": {},
     "output_type": "display_data"
    },
    {
     "data": {
      "text/plain": [
       "\">>>>>> iteration 164:F\""
      ]
     },
     "metadata": {},
     "output_type": "display_data"
    },
    {
     "data": {
      "text/plain": [
       "\">>>>>> iteration 165:F\""
      ]
     },
     "metadata": {},
     "output_type": "display_data"
    },
    {
     "data": {
      "text/plain": [
       "\">>>>>> iteration 166:F\""
      ]
     },
     "metadata": {},
     "output_type": "display_data"
    },
    {
     "data": {
      "text/plain": [
       "\">>>>>> iteration 167:F\""
      ]
     },
     "metadata": {},
     "output_type": "display_data"
    },
    {
     "data": {
      "text/plain": [
       "\">>>>>> iteration 168:F\""
      ]
     },
     "metadata": {},
     "output_type": "display_data"
    },
    {
     "data": {
      "text/plain": [
       "\">>>>>> iteration 169:F\""
      ]
     },
     "metadata": {},
     "output_type": "display_data"
    },
    {
     "data": {
      "text/plain": [
       "\">>>>>> iteration 170:F\""
      ]
     },
     "metadata": {},
     "output_type": "display_data"
    },
    {
     "data": {
      "text/plain": [
       "\">>>>>> iteration 171:F\""
      ]
     },
     "metadata": {},
     "output_type": "display_data"
    },
    {
     "data": {
      "text/plain": [
       "\">>>>>> iteration 172:F\""
      ]
     },
     "metadata": {},
     "output_type": "display_data"
    },
    {
     "data": {
      "text/plain": [
       "\">>>>>> iteration 173:F\""
      ]
     },
     "metadata": {},
     "output_type": "display_data"
    },
    {
     "data": {
      "text/plain": [
       "\">>>>>> iteration 174:F\""
      ]
     },
     "metadata": {},
     "output_type": "display_data"
    },
    {
     "data": {
      "text/plain": [
       "\">>>>>> iteration 175:F\""
      ]
     },
     "metadata": {},
     "output_type": "display_data"
    },
    {
     "data": {
      "text/plain": [
       "\">>>>>> iteration 176:F\""
      ]
     },
     "metadata": {},
     "output_type": "display_data"
    },
    {
     "data": {
      "text/plain": [
       "\">>>>>> iteration 177:F\""
      ]
     },
     "metadata": {},
     "output_type": "display_data"
    },
    {
     "data": {
      "text/plain": [
       "\">>>>>> iteration 178:F\""
      ]
     },
     "metadata": {},
     "output_type": "display_data"
    },
    {
     "data": {
      "text/plain": [
       "\">>>>>> iteration 179:F\""
      ]
     },
     "metadata": {},
     "output_type": "display_data"
    },
    {
     "data": {
      "text/plain": [
       "\">>>>>> iteration 180:F\""
      ]
     },
     "metadata": {},
     "output_type": "display_data"
    },
    {
     "data": {
      "text/plain": [
       "\">>>>>> iteration 181:F\""
      ]
     },
     "metadata": {},
     "output_type": "display_data"
    },
    {
     "data": {
      "text/plain": [
       "\">>>>>> iteration 182:F\""
      ]
     },
     "metadata": {},
     "output_type": "display_data"
    },
    {
     "data": {
      "text/plain": [
       "\">>>>>> iteration 183:F\""
      ]
     },
     "metadata": {},
     "output_type": "display_data"
    },
    {
     "data": {
      "text/plain": [
       "\">>>>>> iteration 184:F\""
      ]
     },
     "metadata": {},
     "output_type": "display_data"
    },
    {
     "data": {
      "text/plain": [
       "\">>>>>> iteration 185:F\""
      ]
     },
     "metadata": {},
     "output_type": "display_data"
    },
    {
     "data": {
      "text/plain": [
       "\">>>>>> iteration 186:F\""
      ]
     },
     "metadata": {},
     "output_type": "display_data"
    },
    {
     "data": {
      "text/plain": [
       "\">>>>>> iteration 187:F\""
      ]
     },
     "metadata": {},
     "output_type": "display_data"
    },
    {
     "data": {
      "text/plain": [
       "\">>>>>> iteration 188:F\""
      ]
     },
     "metadata": {},
     "output_type": "display_data"
    },
    {
     "data": {
      "text/plain": [
       "\">>>>>> iteration 189:F\""
      ]
     },
     "metadata": {},
     "output_type": "display_data"
    },
    {
     "data": {
      "text/plain": [
       "\">>>>>> iteration 190:F\""
      ]
     },
     "metadata": {},
     "output_type": "display_data"
    },
    {
     "data": {
      "text/plain": [
       "\">>>>>> iteration 191:F\""
      ]
     },
     "metadata": {},
     "output_type": "display_data"
    },
    {
     "data": {
      "text/plain": [
       "\">>>>>> iteration 192:F\""
      ]
     },
     "metadata": {},
     "output_type": "display_data"
    },
    {
     "data": {
      "text/plain": [
       "\">>>>>> iteration 193:F\""
      ]
     },
     "metadata": {},
     "output_type": "display_data"
    },
    {
     "data": {
      "text/plain": [
       "\">>>>>> iteration 194:F\""
      ]
     },
     "metadata": {},
     "output_type": "display_data"
    },
    {
     "data": {
      "text/plain": [
       "\">>>>>> iteration 195:F\""
      ]
     },
     "metadata": {},
     "output_type": "display_data"
    },
    {
     "data": {
      "text/plain": [
       "\">>>>>> iteration 196:F\""
      ]
     },
     "metadata": {},
     "output_type": "display_data"
    },
    {
     "data": {
      "text/plain": [
       "\">>>>>> iteration 197:F\""
      ]
     },
     "metadata": {},
     "output_type": "display_data"
    },
    {
     "data": {
      "text/plain": [
       "\">>>>>> iteration 198:F\""
      ]
     },
     "metadata": {},
     "output_type": "display_data"
    },
    {
     "data": {
      "text/plain": [
       "\">>>>>> iteration 199:F\""
      ]
     },
     "metadata": {},
     "output_type": "display_data"
    },
    {
     "data": {
      "text/plain": [
       "\">>>>>> iteration 200:F\""
      ]
     },
     "metadata": {},
     "output_type": "display_data"
    },
    {
     "ename": "LoadError",
     "evalue": "Expression contains an invalid NaN constant. This could be produced by `Inf - Inf`.",
     "output_type": "error",
     "traceback": [
      "Expression contains an invalid NaN constant. This could be produced by `Inf - Inf`.",
      "",
      "Stacktrace:",
      "  [1] error(s::String)",
      "    @ Base .\\error.jl:35",
      "  [2] _assert_isfinite(a::AffExpr)",
      "    @ JuMP C:\\Users\\MACC-Jose\\.julia\\packages\\JuMP\\yYfHy\\src\\aff_expr.jl:577",
      "  [3] MathOptInterface.ScalarAffineFunction(a::AffExpr)",
      "    @ JuMP C:\\Users\\MACC-Jose\\.julia\\packages\\JuMP\\yYfHy\\src\\aff_expr.jl:610",
      "  [4] moi_function",
      "    @ C:\\Users\\MACC-Jose\\.julia\\packages\\JuMP\\yYfHy\\src\\aff_expr.jl:653 [inlined]",
      "  [5] moi_function",
      "    @ C:\\Users\\MACC-Jose\\.julia\\packages\\JuMP\\yYfHy\\src\\constraints.jl:523 [inlined]",
      "  [6] add_constraint(model::Model, con::ScalarConstraint{AffExpr, MathOptInterface.EqualTo{Float64}}, name::String)",
      "    @ JuMP C:\\Users\\MACC-Jose\\.julia\\packages\\JuMP\\yYfHy\\src\\constraints.jl:670",
      "  [7] macro expansion",
      "    @ C:\\Users\\MACC-Jose\\.julia\\packages\\JuMP\\yYfHy\\src\\macros.jl:833 [inlined]",
      "  [8] (::var\"#155#217\"{Vector{Float64}, Vector{VariableRef}})(kk::Int64)",
      "    @ Main C:\\Users\\MACC-Jose\\.julia\\packages\\JuMP\\yYfHy\\src\\Containers\\macro.jl:302",
      "  [9] #44",
      "    @ C:\\Users\\MACC-Jose\\.julia\\packages\\JuMP\\yYfHy\\src\\Containers\\container.jl:81 [inlined]",
      " [10] iterate",
      "    @ .\\generator.jl:47 [inlined]",
      " [11] collect(itr::Base.Generator{JuMP.Containers.VectorizedProductIterator{Tuple{Base.OneTo{Int64}}}, JuMP.Containers.var\"#44#45\"{var\"#155#217\"{Vector{Float64}, Vector{VariableRef}}}})",
      "    @ Base .\\array.jl:787",
      " [12] map(f::Function, A::JuMP.Containers.VectorizedProductIterator{Tuple{Base.OneTo{Int64}}})",
      "    @ Base .\\abstractarray.jl:2961",
      " [13] container",
      "    @ C:\\Users\\MACC-Jose\\.julia\\packages\\JuMP\\yYfHy\\src\\Containers\\container.jl:81 [inlined]",
      " [14] container(f::Function, indices::JuMP.Containers.VectorizedProductIterator{Tuple{Base.OneTo{Int64}}})",
      "    @ JuMP.Containers C:\\Users\\MACC-Jose\\.julia\\packages\\JuMP\\yYfHy\\src\\Containers\\container.jl:75",
      " [15] macro expansion",
      "    @ C:\\Users\\MACC-Jose\\.julia\\packages\\JuMP\\yYfHy\\src\\macros.jl:136 [inlined]",
      " [16] subp(xInit::Matrix{Float64}, uInit::Float64, ysp_fixed::Vector{Float64}, nReac::Int64, nScen::Int64, pScen::Float64, solNom::Dict{Char, Any}, option::Int64)",
      "    @ Main .\\In[13]:112",
      " [17] (::var\"#261#266\"{Matrix{Float64}, Float64, Int64, Float64, Dict{Char, Any}, Int64})(ss::Int64)",
      "    @ Main .\\none:0",
      " [18] iterate",
      "    @ .\\generator.jl:47 [inlined]",
      " [19] collect(itr::Base.Generator{UnitRange{Int64}, var\"#261#266\"{Matrix{Float64}, Float64, Int64, Float64, Dict{Char, Any}, Int64}})",
      "    @ Base .\\array.jl:787",
      " [20] BENS_CLDRTO(xInit::Matrix{Float64}, uInit::Float64, nReac::Int64, nScen::Int64, pScen::Float64, solNom::Dict{Char, Any}, option::Int64)",
      "    @ Main .\\In[14]:165",
      " [21] top-level scope",
      "    @ .\\In[17]:46"
     ]
    }
   ],
   "source": [
    "for jj = 1:n_MC\n",
    "    # ramdonly drawing the plant from the previously computed models\n",
    "    plantModelInd = round(Int64, rand(Uniform(1,100)))\n",
    "    \n",
    "    # Plant model\n",
    "    pl = DRTO_matrix(nR_MC,plantModelInd,100) # all possible plant models can be drawn\n",
    "    collapsed_B = pl['B'][:,1]\n",
    "    \n",
    "    # RUNNING SIMULATION\n",
    "    for mm = 1:2\n",
    "        \n",
    "        # Initial conditions (deviation form)\n",
    "        x0_MC = repeat([0.3583;0.6418] .- x0, outer = [nR_MC,1])\n",
    "        u0_MC = 1.0 - u0;\n",
    "\n",
    "        # initializing simulation\n",
    "        xpk = x0_MC # plant\n",
    "        ypk = dot(pl['C'],xpk)\n",
    "        uk_1 = u0_MC\n",
    "\n",
    "        # initial state is known \n",
    "        xmk = x0_MC # model \n",
    "        ymk = dot(mpc['C'],xmk)\n",
    "        dek = ypk - ymk\n",
    "\n",
    "        for ii = 1:nsim\n",
    "\n",
    "            print(\"MC: \", jj)\n",
    "            println(\">> Time: \",ii)\n",
    "\n",
    "            # updating arrays\n",
    "            xPlant[:,ii,jj,mm] = xpk\n",
    "            yPlant[ii,jj,mm] = ypk + y0\n",
    "            uPlant[ii,jj,mm] = uk_1 + u0\n",
    "\n",
    "            xMPCmodel[:,ii,jj,mm] = xmk\n",
    "            yMPCmodel[ii,jj,mm] = ymk\n",
    "            dev_plant_MPCmodel[ii,jj,mm] = dek\n",
    "\n",
    "            # executing DRTO\n",
    "            if ii%nDRTO == 0 || ii == 1\n",
    "\n",
    "                if mm == 1\n",
    "                    global sol_k = MS_CLDRTO(xpk,uk_1,nR_MC,nS_MC,pS_MC,solNominal,opti_MC)\n",
    "                else\n",
    "                    global sol_k = BENS_CLDRTO(xpk,uk_1,nR_MC,nS_MC,pS_MC,solNominal,opti_MC)\n",
    "                end\n",
    "                # counter for DRTO executions\n",
    "                global countDRTO = 1;\n",
    "                # N.B. need to declare as global due to loop scope\n",
    "            end\n",
    "\n",
    "            # Preparing controller \n",
    "            # building terms of the OF that depend on current information\n",
    "            if mm == 1\n",
    "                yspk = sol_k['s'][countDRTO:(countDRTO + (p - 1)),1] \n",
    "            else\n",
    "                yspk = sol_k['s'][1][countDRTO:(countDRTO + (p - 1))]\n",
    "            end\n",
    "            \n",
    "            countDRTO += 1 \n",
    "            # N.B.:\n",
    "            # using first scenario, but any scenario could be used\n",
    "\n",
    "            # solving MPC problem\n",
    "            solkk = solveMPC(xmk,dek,uk_1,yspk,u0,uMin,uMax,p,m,nR_MC)\n",
    "\n",
    "            # extracting the first input\n",
    "            uk = solkk['u'][1]\n",
    "\n",
    "            # applying input to the plant\n",
    "            xpk = pl['A']*xpk + collapsed_B*uk\n",
    "            ypk = dot(pl['C'],xpk)\n",
    "\n",
    "            # applying input to the controller model\n",
    "            xmk = mpc['A']*xmk + mpc['B']*uk\n",
    "            ymk = dot(mpc['C'],xmk)\n",
    "\n",
    "            # computing disturbance model\n",
    "            dek = ypk - ymk\n",
    "\n",
    "                # loop\n",
    "                uk_1 = uk\n",
    "\n",
    "        end # simulation\n",
    "    end # monolithic || decomposed\n",
    "end # MC"
   ]
  },
  {
   "cell_type": "code",
   "execution_count": 18,
   "id": "689a860e",
   "metadata": {},
   "outputs": [],
   "source": [
    "# time series for plotting\n",
    "ts = Vector{Float64}(undef,nsim) \n",
    "for i in 1:nsim\n",
    "    ts[i] = 1*i\n",
    "end\n",
    "\n",
    "# Creating color array\n",
    "CList = reshape( range(colorant\"red\", stop=colorant\"blue\",length=n_MC), 1, n_MC);\n",
    "MList =[:square, :circle];"
   ]
  },
  {
   "cell_type": "markdown",
   "id": "96b310fc",
   "metadata": {},
   "source": [
    "Computing Statistics"
   ]
  },
  {
   "cell_type": "code",
   "execution_count": 27,
   "id": "a29823a3",
   "metadata": {},
   "outputs": [],
   "source": [
    "# Extracting solution for plotting --> monolithic vs. decomposed \n",
    "yMean = mean(yPlant,dims=2)\n",
    "uMean = mean(uPlant,dims=2);"
   ]
  },
  {
   "cell_type": "markdown",
   "id": "82f18400",
   "metadata": {},
   "source": [
    "Plot recipes"
   ]
  },
  {
   "cell_type": "code",
   "execution_count": 20,
   "id": "01fc150b",
   "metadata": {},
   "outputs": [],
   "source": [
    "@userplot MC_Plot\n",
    "@recipe function f(h::MC_Plot)\n",
    "        \n",
    "    if length(h.args) < 6 \n",
    "        ylab, x, y_bar, y, lim_u = h.args\n",
    "    else\n",
    "        ylab, x, y_bar, y, lim_u, lim_l = h.args\n",
    "    end\n",
    "    \n",
    "    # set up the subplots\n",
    "    # these are common to both marginal histograms\n",
    "    legend := false\n",
    "    layout :=  (2,1)\n",
    "    grid := true\n",
    "    gridlinewidth --> 2\n",
    "    latex := true\n",
    "    linecolor := :black\n",
    "    \n",
    "    for mm in 1:2\n",
    "        # labels \n",
    "        ylabel := ylab\n",
    "        if mm == 2\n",
    "            xlabel := \"time [min]\"\n",
    "        end\n",
    "        \n",
    "        # DATA PLOTTING\n",
    "        # upper bound\n",
    "        @series begin\n",
    "            seriestype := :path\n",
    "            linestyle := :dot\n",
    "            subplot := mm\n",
    "            x, lim_u*ones(length(x))\n",
    "        end\n",
    "\n",
    "        if length(h.args) > 5 \n",
    "            # lower bound\n",
    "            @series begin\n",
    "                seriestype := :path\n",
    "                linestyle := :dot\n",
    "                subplot := mm\n",
    "                x, lim_u*ones(length(x))\n",
    "            end\n",
    "        end\n",
    "\n",
    "        # average MC value\n",
    "        @series begin\n",
    "            seriestype := :path\n",
    "            linewidth := 3\n",
    "            markercolor := :black\n",
    "            markerstrokecolor := :black\n",
    "            markersize := 3\n",
    "            \n",
    "            if mm == 1\n",
    "                linestyle := :solid\n",
    "                markershape := :circle\n",
    "            else\n",
    "                linestyle := :dashdot\n",
    "                markershape := :rect\n",
    "            end\n",
    "            \n",
    "            subplot := mm\n",
    "            x, y_bar[:,mm]\n",
    "            \n",
    "        end\n",
    "        \n",
    "        for nn in 1:n_MC\n",
    "            @series begin\n",
    "                seriestype := :path\n",
    "                linewidth := 2\n",
    "                linealpha := 0.1\n",
    "                subplot := mm\n",
    "                x, y[:,nn,mm]\n",
    "            end\n",
    "        end # MC loop\n",
    "    end # mono/dec loop \n",
    "end"
   ]
  },
  {
   "cell_type": "code",
   "execution_count": 21,
   "id": "ab962af0",
   "metadata": {},
   "outputs": [],
   "source": [
    "@userplot MC_Comp\n",
    "@recipe function f(h::MC_Comp)\n",
    "        \n",
    "    if length(h.args) < 5 \n",
    "        ylab, x, y_bar, lim_u = h.args\n",
    "    else\n",
    "        ylab, x, y_bar, lim_u, lim_l = h.args\n",
    "    end\n",
    "    \n",
    "    # set up the subplots\n",
    "    # these are common to both marginal histograms    \n",
    "    grid := true\n",
    "    gridlinewidth --> 2\n",
    "    \n",
    "    linecolor := :black\n",
    "    markercolor := :black\n",
    "    markerstrokecolor := :black\n",
    "    markersize := 3\n",
    "    \n",
    "    # axis labels \n",
    "    ylabel := ylab\n",
    "    xlabel := \"time [min]\"\n",
    "\n",
    "    # legend\n",
    "    legend := true\n",
    "    latex := true\n",
    "    labels = [\"Mono.\",\"Decom.\"] \n",
    "    \n",
    "    # DATA PLOTTING\n",
    "    # upper bound\n",
    "    @series begin\n",
    "        seriestype := :path\n",
    "        linestyle := :dot\n",
    "        label --> \"Limit\"\n",
    "        x, lim_u*ones(length(x))\n",
    "    end\n",
    "    \n",
    "    if length(h.args) > 4\n",
    "        # lower bound\n",
    "        @series begin\n",
    "            seriestype := :path\n",
    "            linestyle := :dot\n",
    "            label --> \"\"\n",
    "            x, lim_u*ones(length(x))\n",
    "        end\n",
    "    end\n",
    "\n",
    "    # monolithic\n",
    "    @series begin\n",
    "        seriestype := :path\n",
    "        linewidth := 3\n",
    "        linestyle := :solid\n",
    "        markershape := :circle\n",
    "        label --> \"Mono.\"\n",
    "        x, y_bar[:,1]\n",
    "    end \n",
    "    \n",
    "    # decomposed\n",
    "    @series begin\n",
    "        seriestype := :path\n",
    "        linewidth := 3\n",
    "        linestyle := :dashdot\n",
    "        markershape := :rect\n",
    "        label --> \"Deco.\"\n",
    "        x, y_bar[:,2]\n",
    "    end \n",
    "end"
   ]
  },
  {
   "cell_type": "markdown",
   "id": "10cfa7bb",
   "metadata": {},
   "source": [
    "Output"
   ]
  },
  {
   "cell_type": "code",
   "execution_count": 28,
   "id": "3bbf8a52",
   "metadata": {},
   "outputs": [
    {
     "ename": "LoadError",
     "evalue": "BoundsError: attempt to access 20×7×2 Array{Float64, 3} at index [1:20, 8, 1]",
     "output_type": "error",
     "traceback": [
      "BoundsError: attempt to access 20×7×2 Array{Float64, 3} at index [1:20, 8, 1]",
      "",
      "Stacktrace:",
      "  [1] throw_boundserror(A::Array{Float64, 3}, I::Tuple{Base.Slice{Base.OneTo{Int64}}, Int64, Int64})",
      "    @ Base .\\abstractarray.jl:703",
      "  [2] checkbounds",
      "    @ .\\abstractarray.jl:668 [inlined]",
      "  [3] _getindex",
      "    @ .\\multidimensional.jl:874 [inlined]",
      "  [4] getindex(::Array{Float64, 3}, ::Function, ::Int64, ::Int64)",
      "    @ Base .\\abstractarray.jl:1241",
      "  [5] macro expansion",
      "    @ .\\In[20]:72 [inlined]",
      "  [6] macro expansion",
      "    @ C:\\Users\\MACC-Jose\\.julia\\packages\\RecipesBase\\z10lo\\src\\RecipesBase.jl:340 [inlined]",
      "  [7] macro expansion",
      "    @ .\\In[20]:67 [inlined]",
      "  [8] apply_recipe(plotattributes::AbstractDict{Symbol, Any}, h::MC_Plot)",
      "    @ Main C:\\Users\\MACC-Jose\\.julia\\packages\\RecipesBase\\z10lo\\src\\RecipesBase.jl:300",
      "  [9] _process_userrecipes!(plt::Any, plotattributes::Any, args::Any)",
      "    @ RecipesPipeline C:\\Users\\MACC-Jose\\.julia\\packages\\RecipesPipeline\\XxUHt\\src\\user_recipe.jl:38",
      " [10] recipe_pipeline!(plt::Any, plotattributes::Any, args::Any)",
      "    @ RecipesPipeline C:\\Users\\MACC-Jose\\.julia\\packages\\RecipesPipeline\\XxUHt\\src\\RecipesPipeline.jl:72",
      " [11] _plot!(plt::Plots.Plot, plotattributes::Any, args::Any)",
      "    @ Plots C:\\Users\\MACC-Jose\\.julia\\packages\\Plots\\QZRtR\\src\\plot.jl:223",
      " [12] plot(args::Any; kw::Base.Pairs{Symbol, V, Tuple{Vararg{Symbol, N}}, NamedTuple{names, T}} where {V, N, names, T<:Tuple{Vararg{Any, N}}})",
      "    @ Plots C:\\Users\\MACC-Jose\\.julia\\packages\\Plots\\QZRtR\\src\\plot.jl:102",
      " [13] plot",
      "    @ C:\\Users\\MACC-Jose\\.julia\\packages\\Plots\\QZRtR\\src\\plot.jl:93 [inlined]",
      " [14] mc_plot(::LaTeXString, ::Vararg{Any}; kw::Base.Pairs{Symbol, Union{}, Tuple{}, NamedTuple{(), Tuple{}}})",
      "    @ Main C:\\Users\\MACC-Jose\\.julia\\packages\\RecipesBase\\z10lo\\src\\RecipesBase.jl:380",
      " [15] mc_plot(::LaTeXString, ::Vararg{Any})",
      "    @ Main C:\\Users\\MACC-Jose\\.julia\\packages\\RecipesBase\\z10lo\\src\\RecipesBase.jl:380",
      " [16] top-level scope",
      "    @ In[28]:1"
     ]
    }
   ],
   "source": [
    "mc_plot(L\"y \\quad [-]\",ts,yMean[:,1,:],yPlant,(pUB + y0),(pTrack + y0))"
   ]
  },
  {
   "cell_type": "code",
   "execution_count": 29,
   "id": "e8fa0dec",
   "metadata": {},
   "outputs": [
    {
     "data": {
      "image/svg+xml": [
       "<?xml version=\"1.0\" encoding=\"utf-8\"?>\n",
       "<svg xmlns=\"http://www.w3.org/2000/svg\" xmlns:xlink=\"http://www.w3.org/1999/xlink\" width=\"600\" height=\"400\" viewBox=\"0 0 2400 1600\">\n",
       "<defs>\n",
       "  <clipPath id=\"clip650\">\n",
       "    <rect x=\"0\" y=\"0\" width=\"2400\" height=\"1600\"/>\n",
       "  </clipPath>\n",
       "</defs>\n",
       "<path clip-path=\"url(#clip650)\" d=\"M0 1600 L2400 1600 L2400 0 L0 0  Z\" fill=\"#ffffff\" fill-rule=\"evenodd\" fill-opacity=\"1\"/>\n",
       "<defs>\n",
       "  <clipPath id=\"clip651\">\n",
       "    <rect x=\"480\" y=\"0\" width=\"1681\" height=\"1600\"/>\n",
       "  </clipPath>\n",
       "</defs>\n",
       "<defs>\n",
       "  <clipPath id=\"clip652\">\n",
       "    <rect x=\"219\" y=\"847\" width=\"2135\" height=\"577\"/>\n",
       "  </clipPath>\n",
       "</defs>\n",
       "<path clip-path=\"url(#clip650)\" d=\"M219.866 1423.18 L2352.76 1423.18 L2352.76 47.2441 L219.866 47.2441  Z\" fill=\"#ffffff\" fill-rule=\"evenodd\" fill-opacity=\"1\"/>\n",
       "<defs>\n",
       "  <clipPath id=\"clip653\">\n",
       "    <rect x=\"219\" y=\"47\" width=\"2134\" height=\"1377\"/>\n",
       "  </clipPath>\n",
       "</defs>\n",
       "<polyline clip-path=\"url(#clip653)\" style=\"stroke:#000000; stroke-linecap:round; stroke-linejoin:round; stroke-width:8; stroke-opacity:0.1; fill:none\" points=\"703.844,1423.18 703.844,47.2441 \"/>\n",
       "<polyline clip-path=\"url(#clip653)\" style=\"stroke:#000000; stroke-linecap:round; stroke-linejoin:round; stroke-width:8; stroke-opacity:0.1; fill:none\" points=\"1233.36,1423.18 1233.36,47.2441 \"/>\n",
       "<polyline clip-path=\"url(#clip653)\" style=\"stroke:#000000; stroke-linecap:round; stroke-linejoin:round; stroke-width:8; stroke-opacity:0.1; fill:none\" points=\"1762.88,1423.18 1762.88,47.2441 \"/>\n",
       "<polyline clip-path=\"url(#clip653)\" style=\"stroke:#000000; stroke-linecap:round; stroke-linejoin:round; stroke-width:8; stroke-opacity:0.1; fill:none\" points=\"2292.39,1423.18 2292.39,47.2441 \"/>\n",
       "<polyline clip-path=\"url(#clip650)\" style=\"stroke:#000000; stroke-linecap:round; stroke-linejoin:round; stroke-width:4; stroke-opacity:1; fill:none\" points=\"219.866,1423.18 2352.76,1423.18 \"/>\n",
       "<polyline clip-path=\"url(#clip650)\" style=\"stroke:#000000; stroke-linecap:round; stroke-linejoin:round; stroke-width:4; stroke-opacity:1; fill:none\" points=\"703.844,1423.18 703.844,1404.28 \"/>\n",
       "<polyline clip-path=\"url(#clip650)\" style=\"stroke:#000000; stroke-linecap:round; stroke-linejoin:round; stroke-width:4; stroke-opacity:1; fill:none\" points=\"1233.36,1423.18 1233.36,1404.28 \"/>\n",
       "<polyline clip-path=\"url(#clip650)\" style=\"stroke:#000000; stroke-linecap:round; stroke-linejoin:round; stroke-width:4; stroke-opacity:1; fill:none\" points=\"1762.88,1423.18 1762.88,1404.28 \"/>\n",
       "<polyline clip-path=\"url(#clip650)\" style=\"stroke:#000000; stroke-linecap:round; stroke-linejoin:round; stroke-width:4; stroke-opacity:1; fill:none\" points=\"2292.39,1423.18 2292.39,1404.28 \"/>\n",
       "<path clip-path=\"url(#clip650)\" d=\"M694.122 1451.02 L712.478 1451.02 L712.478 1454.96 L698.404 1454.96 L698.404 1463.43 Q699.422 1463.08 700.441 1462.92 Q701.459 1462.73 702.478 1462.73 Q708.265 1462.73 711.645 1465.9 Q715.024 1469.08 715.024 1474.49 Q715.024 1480.07 711.552 1483.17 Q708.08 1486.25 701.76 1486.25 Q699.584 1486.25 697.316 1485.88 Q695.071 1485.51 692.663 1484.77 L692.663 1480.07 Q694.747 1481.2 696.969 1481.76 Q699.191 1482.32 701.668 1482.32 Q705.672 1482.32 708.01 1480.21 Q710.348 1478.1 710.348 1474.49 Q710.348 1470.88 708.01 1468.77 Q705.672 1466.67 701.668 1466.67 Q699.793 1466.67 697.918 1467.08 Q696.066 1467.5 694.122 1468.38 L694.122 1451.02 Z\" fill=\"#000000\" fill-rule=\"evenodd\" fill-opacity=\"1\" /><path clip-path=\"url(#clip650)\" d=\"M1208.05 1481.64 L1215.69 1481.64 L1215.69 1455.28 L1207.38 1456.95 L1207.38 1452.69 L1215.64 1451.02 L1220.32 1451.02 L1220.32 1481.64 L1227.95 1481.64 L1227.95 1485.58 L1208.05 1485.58 L1208.05 1481.64 Z\" fill=\"#000000\" fill-rule=\"evenodd\" fill-opacity=\"1\" /><path clip-path=\"url(#clip650)\" d=\"M1247.4 1454.1 Q1243.79 1454.1 1241.96 1457.66 Q1240.15 1461.2 1240.15 1468.33 Q1240.15 1475.44 1241.96 1479.01 Q1243.79 1482.55 1247.4 1482.55 Q1251.03 1482.55 1252.84 1479.01 Q1254.67 1475.44 1254.67 1468.33 Q1254.67 1461.2 1252.84 1457.66 Q1251.03 1454.1 1247.4 1454.1 M1247.4 1450.39 Q1253.21 1450.39 1256.26 1455 Q1259.34 1459.58 1259.34 1468.33 Q1259.34 1477.06 1256.26 1481.67 Q1253.21 1486.25 1247.4 1486.25 Q1241.59 1486.25 1238.51 1481.67 Q1235.45 1477.06 1235.45 1468.33 Q1235.45 1459.58 1238.51 1455 Q1241.59 1450.39 1247.4 1450.39 Z\" fill=\"#000000\" fill-rule=\"evenodd\" fill-opacity=\"1\" /><path clip-path=\"url(#clip650)\" d=\"M1738.06 1481.64 L1745.7 1481.64 L1745.7 1455.28 L1737.39 1456.95 L1737.39 1452.69 L1745.65 1451.02 L1750.33 1451.02 L1750.33 1481.64 L1757.97 1481.64 L1757.97 1485.58 L1738.06 1485.58 L1738.06 1481.64 Z\" fill=\"#000000\" fill-rule=\"evenodd\" fill-opacity=\"1\" /><path clip-path=\"url(#clip650)\" d=\"M1767.46 1451.02 L1785.81 1451.02 L1785.81 1454.96 L1771.74 1454.96 L1771.74 1463.43 Q1772.76 1463.08 1773.78 1462.92 Q1774.8 1462.73 1775.82 1462.73 Q1781.6 1462.73 1784.98 1465.9 Q1788.36 1469.08 1788.36 1474.49 Q1788.36 1480.07 1784.89 1483.17 Q1781.42 1486.25 1775.1 1486.25 Q1772.92 1486.25 1770.65 1485.88 Q1768.41 1485.51 1766 1484.77 L1766 1480.07 Q1768.08 1481.2 1770.31 1481.76 Q1772.53 1482.32 1775 1482.32 Q1779.01 1482.32 1781.35 1480.21 Q1783.69 1478.1 1783.69 1474.49 Q1783.69 1470.88 1781.35 1468.77 Q1779.01 1466.67 1775 1466.67 Q1773.13 1466.67 1771.25 1467.08 Q1769.4 1467.5 1767.46 1468.38 L1767.46 1451.02 Z\" fill=\"#000000\" fill-rule=\"evenodd\" fill-opacity=\"1\" /><path clip-path=\"url(#clip650)\" d=\"M2271.16 1481.64 L2287.48 1481.64 L2287.48 1485.58 L2265.54 1485.58 L2265.54 1481.64 Q2268.2 1478.89 2272.78 1474.26 Q2277.39 1469.61 2278.57 1468.27 Q2280.82 1465.74 2281.7 1464.01 Q2282.6 1462.25 2282.6 1460.56 Q2282.6 1457.8 2280.66 1456.07 Q2278.73 1454.33 2275.63 1454.33 Q2273.43 1454.33 2270.98 1455.09 Q2268.55 1455.86 2265.77 1457.41 L2265.77 1452.69 Q2268.59 1451.55 2271.05 1450.97 Q2273.5 1450.39 2275.54 1450.39 Q2280.91 1450.39 2284.1 1453.08 Q2287.3 1455.77 2287.3 1460.26 Q2287.3 1462.39 2286.49 1464.31 Q2285.7 1466.2 2283.59 1468.8 Q2283.02 1469.47 2279.91 1472.69 Q2276.81 1475.88 2271.16 1481.64 Z\" fill=\"#000000\" fill-rule=\"evenodd\" fill-opacity=\"1\" /><path clip-path=\"url(#clip650)\" d=\"M2307.3 1454.1 Q2303.69 1454.1 2301.86 1457.66 Q2300.05 1461.2 2300.05 1468.33 Q2300.05 1475.44 2301.86 1479.01 Q2303.69 1482.55 2307.3 1482.55 Q2310.93 1482.55 2312.74 1479.01 Q2314.57 1475.44 2314.57 1468.33 Q2314.57 1461.2 2312.74 1457.66 Q2310.93 1454.1 2307.3 1454.1 M2307.3 1450.39 Q2313.11 1450.39 2316.16 1455 Q2319.24 1459.58 2319.24 1468.33 Q2319.24 1477.06 2316.16 1481.67 Q2313.11 1486.25 2307.3 1486.25 Q2301.49 1486.25 2298.41 1481.67 Q2295.35 1477.06 2295.35 1468.33 Q2295.35 1459.58 2298.41 1455 Q2301.49 1450.39 2307.3 1450.39 Z\" fill=\"#000000\" fill-rule=\"evenodd\" fill-opacity=\"1\" /><path clip-path=\"url(#clip650)\" d=\"M1129.29 1522.27 L1129.29 1532.4 L1141.35 1532.4 L1141.35 1536.95 L1129.29 1536.95 L1129.29 1556.3 Q1129.29 1560.66 1130.46 1561.9 Q1131.67 1563.14 1135.33 1563.14 L1141.35 1563.14 L1141.35 1568.04 L1135.33 1568.04 Q1128.55 1568.04 1125.97 1565.53 Q1123.4 1562.98 1123.4 1556.3 L1123.4 1536.95 L1119.1 1536.95 L1119.1 1532.4 L1123.4 1532.4 L1123.4 1522.27 L1129.29 1522.27 Z\" fill=\"#000000\" fill-rule=\"evenodd\" fill-opacity=\"1\" /><path clip-path=\"url(#clip650)\" d=\"M1149.05 1532.4 L1154.91 1532.4 L1154.91 1568.04 L1149.05 1568.04 L1149.05 1532.4 M1149.05 1518.52 L1154.91 1518.52 L1154.91 1525.93 L1149.05 1525.93 L1149.05 1518.52 Z\" fill=\"#000000\" fill-rule=\"evenodd\" fill-opacity=\"1\" /><path clip-path=\"url(#clip650)\" d=\"M1194.92 1539.24 Q1197.11 1535.29 1200.17 1533.41 Q1203.22 1531.54 1207.36 1531.54 Q1212.93 1531.54 1215.95 1535.45 Q1218.98 1539.33 1218.98 1546.53 L1218.98 1568.04 L1213.09 1568.04 L1213.09 1546.72 Q1213.09 1541.59 1211.28 1539.11 Q1209.46 1536.63 1205.74 1536.63 Q1201.19 1536.63 1198.54 1539.65 Q1195.9 1542.68 1195.9 1547.9 L1195.9 1568.04 L1190.01 1568.04 L1190.01 1546.72 Q1190.01 1541.56 1188.2 1539.11 Q1186.39 1536.63 1182.6 1536.63 Q1178.11 1536.63 1175.47 1539.68 Q1172.83 1542.71 1172.83 1547.9 L1172.83 1568.04 L1166.94 1568.04 L1166.94 1532.4 L1172.83 1532.4 L1172.83 1537.93 Q1174.83 1534.66 1177.63 1533.1 Q1180.43 1531.54 1184.28 1531.54 Q1188.17 1531.54 1190.87 1533.51 Q1193.61 1535.48 1194.92 1539.24 Z\" fill=\"#000000\" fill-rule=\"evenodd\" fill-opacity=\"1\" /><path clip-path=\"url(#clip650)\" d=\"M1261.15 1548.76 L1261.15 1551.62 L1234.22 1551.62 Q1234.61 1557.67 1237.85 1560.85 Q1241.13 1564 1246.96 1564 Q1250.33 1564 1253.48 1563.17 Q1256.66 1562.35 1259.78 1560.69 L1259.78 1566.23 Q1256.63 1567.57 1253.32 1568.27 Q1250.01 1568.97 1246.6 1568.97 Q1238.07 1568.97 1233.08 1564 Q1228.11 1559.04 1228.11 1550.57 Q1228.11 1541.82 1232.82 1536.69 Q1237.57 1531.54 1245.59 1531.54 Q1252.78 1531.54 1256.95 1536.18 Q1261.15 1540.8 1261.15 1548.76 M1255.29 1547.04 Q1255.23 1542.23 1252.59 1539.37 Q1249.98 1536.5 1245.65 1536.5 Q1240.75 1536.5 1237.79 1539.27 Q1234.86 1542.04 1234.41 1547.07 L1255.29 1547.04 Z\" fill=\"#000000\" fill-rule=\"evenodd\" fill-opacity=\"1\" /><path clip-path=\"url(#clip650)\" d=\"M1290.94 1518.52 L1304.44 1518.52 L1304.44 1523.07 L1296.8 1523.07 L1296.8 1572.09 L1304.44 1572.09 L1304.44 1576.64 L1290.94 1576.64 L1290.94 1518.52 Z\" fill=\"#000000\" fill-rule=\"evenodd\" fill-opacity=\"1\" /><path clip-path=\"url(#clip650)\" d=\"M1344.67 1539.24 Q1346.86 1535.29 1349.92 1533.41 Q1352.98 1531.54 1357.11 1531.54 Q1362.68 1531.54 1365.71 1535.45 Q1368.73 1539.33 1368.73 1546.53 L1368.73 1568.04 L1362.84 1568.04 L1362.84 1546.72 Q1362.84 1541.59 1361.03 1539.11 Q1359.21 1536.63 1355.49 1536.63 Q1350.94 1536.63 1348.3 1539.65 Q1345.66 1542.68 1345.66 1547.9 L1345.66 1568.04 L1339.77 1568.04 L1339.77 1546.72 Q1339.77 1541.56 1337.95 1539.11 Q1336.14 1536.63 1332.35 1536.63 Q1327.86 1536.63 1325.22 1539.68 Q1322.58 1542.71 1322.58 1547.9 L1322.58 1568.04 L1316.69 1568.04 L1316.69 1532.4 L1322.58 1532.4 L1322.58 1537.93 Q1324.58 1534.66 1327.39 1533.1 Q1330.19 1531.54 1334.04 1531.54 Q1337.92 1531.54 1340.63 1533.51 Q1343.36 1535.48 1344.67 1539.24 Z\" fill=\"#000000\" fill-rule=\"evenodd\" fill-opacity=\"1\" /><path clip-path=\"url(#clip650)\" d=\"M1380.41 1532.4 L1386.27 1532.4 L1386.27 1568.04 L1380.41 1568.04 L1380.41 1532.4 M1380.41 1518.52 L1386.27 1518.52 L1386.27 1525.93 L1380.41 1525.93 L1380.41 1518.52 Z\" fill=\"#000000\" fill-rule=\"evenodd\" fill-opacity=\"1\" /><path clip-path=\"url(#clip650)\" d=\"M1428.15 1546.53 L1428.15 1568.04 L1422.3 1568.04 L1422.3 1546.72 Q1422.3 1541.66 1420.33 1539.14 Q1418.35 1536.63 1414.41 1536.63 Q1409.66 1536.63 1406.93 1539.65 Q1404.19 1542.68 1404.19 1547.9 L1404.19 1568.04 L1398.3 1568.04 L1398.3 1532.4 L1404.19 1532.4 L1404.19 1537.93 Q1406.29 1534.72 1409.12 1533.13 Q1411.99 1531.54 1415.71 1531.54 Q1421.85 1531.54 1425 1535.36 Q1428.15 1539.14 1428.15 1546.53 Z\" fill=\"#000000\" fill-rule=\"evenodd\" fill-opacity=\"1\" /><path clip-path=\"url(#clip650)\" d=\"M1453.52 1518.52 L1453.52 1576.64 L1440.03 1576.64 L1440.03 1572.09 L1447.63 1572.09 L1447.63 1523.07 L1440.03 1523.07 L1440.03 1518.52 L1453.52 1518.52 Z\" fill=\"#000000\" fill-rule=\"evenodd\" fill-opacity=\"1\" /><polyline clip-path=\"url(#clip653)\" style=\"stroke:#000000; stroke-linecap:round; stroke-linejoin:round; stroke-width:8; stroke-opacity:0.1; fill:none\" points=\"219.866,1227.83 2352.76,1227.83 \"/>\n",
       "<polyline clip-path=\"url(#clip653)\" style=\"stroke:#000000; stroke-linecap:round; stroke-linejoin:round; stroke-width:8; stroke-opacity:0.1; fill:none\" points=\"219.866,965.851 2352.76,965.851 \"/>\n",
       "<polyline clip-path=\"url(#clip653)\" style=\"stroke:#000000; stroke-linecap:round; stroke-linejoin:round; stroke-width:8; stroke-opacity:0.1; fill:none\" points=\"219.866,703.868 2352.76,703.868 \"/>\n",
       "<polyline clip-path=\"url(#clip653)\" style=\"stroke:#000000; stroke-linecap:round; stroke-linejoin:round; stroke-width:8; stroke-opacity:0.1; fill:none\" points=\"219.866,441.885 2352.76,441.885 \"/>\n",
       "<polyline clip-path=\"url(#clip653)\" style=\"stroke:#000000; stroke-linecap:round; stroke-linejoin:round; stroke-width:8; stroke-opacity:0.1; fill:none\" points=\"219.866,179.901 2352.76,179.901 \"/>\n",
       "<polyline clip-path=\"url(#clip650)\" style=\"stroke:#000000; stroke-linecap:round; stroke-linejoin:round; stroke-width:4; stroke-opacity:1; fill:none\" points=\"219.866,1423.18 219.866,47.2441 \"/>\n",
       "<polyline clip-path=\"url(#clip650)\" style=\"stroke:#000000; stroke-linecap:round; stroke-linejoin:round; stroke-width:4; stroke-opacity:1; fill:none\" points=\"219.866,1227.83 238.764,1227.83 \"/>\n",
       "<polyline clip-path=\"url(#clip650)\" style=\"stroke:#000000; stroke-linecap:round; stroke-linejoin:round; stroke-width:4; stroke-opacity:1; fill:none\" points=\"219.866,965.851 238.764,965.851 \"/>\n",
       "<polyline clip-path=\"url(#clip650)\" style=\"stroke:#000000; stroke-linecap:round; stroke-linejoin:round; stroke-width:4; stroke-opacity:1; fill:none\" points=\"219.866,703.868 238.764,703.868 \"/>\n",
       "<polyline clip-path=\"url(#clip650)\" style=\"stroke:#000000; stroke-linecap:round; stroke-linejoin:round; stroke-width:4; stroke-opacity:1; fill:none\" points=\"219.866,441.885 238.764,441.885 \"/>\n",
       "<polyline clip-path=\"url(#clip650)\" style=\"stroke:#000000; stroke-linecap:round; stroke-linejoin:round; stroke-width:4; stroke-opacity:1; fill:none\" points=\"219.866,179.901 238.764,179.901 \"/>\n",
       "<path clip-path=\"url(#clip650)\" d=\"M128.288 1213.63 Q124.677 1213.63 122.848 1217.2 Q121.043 1220.74 121.043 1227.87 Q121.043 1234.98 122.848 1238.54 Q124.677 1242.08 128.288 1242.08 Q131.922 1242.08 133.728 1238.54 Q135.556 1234.98 135.556 1227.87 Q135.556 1220.74 133.728 1217.2 Q131.922 1213.63 128.288 1213.63 M128.288 1209.93 Q134.098 1209.93 137.154 1214.54 Q140.232 1219.12 140.232 1227.87 Q140.232 1236.6 137.154 1241.2 Q134.098 1245.79 128.288 1245.79 Q122.478 1245.79 119.399 1241.2 Q116.343 1236.6 116.343 1227.87 Q116.343 1219.12 119.399 1214.54 Q122.478 1209.93 128.288 1209.93 Z\" fill=\"#000000\" fill-rule=\"evenodd\" fill-opacity=\"1\" /><path clip-path=\"url(#clip650)\" d=\"M148.45 1239.23 L153.334 1239.23 L153.334 1245.11 L148.45 1245.11 L148.45 1239.23 Z\" fill=\"#000000\" fill-rule=\"evenodd\" fill-opacity=\"1\" /><path clip-path=\"url(#clip650)\" d=\"M167.547 1241.18 L183.866 1241.18 L183.866 1245.11 L161.922 1245.11 L161.922 1241.18 Q164.584 1238.42 169.167 1233.79 Q173.774 1229.14 174.954 1227.8 Q177.2 1225.28 178.079 1223.54 Q178.982 1221.78 178.982 1220.09 Q178.982 1217.34 177.038 1215.6 Q175.116 1213.86 172.014 1213.86 Q169.815 1213.86 167.362 1214.63 Q164.931 1215.39 162.153 1216.94 L162.153 1212.22 Q164.977 1211.09 167.431 1210.51 Q169.885 1209.93 171.922 1209.93 Q177.292 1209.93 180.487 1212.61 Q183.681 1215.3 183.681 1219.79 Q183.681 1221.92 182.871 1223.84 Q182.084 1225.74 179.977 1228.33 Q179.399 1229 176.297 1232.22 Q173.195 1235.42 167.547 1241.18 Z\" fill=\"#000000\" fill-rule=\"evenodd\" fill-opacity=\"1\" /><path clip-path=\"url(#clip650)\" d=\"M126.205 951.65 Q122.593 951.65 120.765 955.215 Q118.959 958.756 118.959 965.886 Q118.959 972.992 120.765 976.557 Q122.593 980.099 126.205 980.099 Q129.839 980.099 131.644 976.557 Q133.473 972.992 133.473 965.886 Q133.473 958.756 131.644 955.215 Q129.839 951.65 126.205 951.65 M126.205 947.946 Q132.015 947.946 135.07 952.553 Q138.149 957.136 138.149 965.886 Q138.149 974.613 135.07 979.219 Q132.015 983.802 126.205 983.802 Q120.394 983.802 117.316 979.219 Q114.26 974.613 114.26 965.886 Q114.26 957.136 117.316 952.553 Q120.394 947.946 126.205 947.946 Z\" fill=\"#000000\" fill-rule=\"evenodd\" fill-opacity=\"1\" /><path clip-path=\"url(#clip650)\" d=\"M146.366 977.251 L151.251 977.251 L151.251 983.131 L146.366 983.131 L146.366 977.251 Z\" fill=\"#000000\" fill-rule=\"evenodd\" fill-opacity=\"1\" /><path clip-path=\"url(#clip650)\" d=\"M174.283 952.645 L162.477 971.094 L174.283 971.094 L174.283 952.645 M173.056 948.571 L178.936 948.571 L178.936 971.094 L183.866 971.094 L183.866 974.983 L178.936 974.983 L178.936 983.131 L174.283 983.131 L174.283 974.983 L158.681 974.983 L158.681 970.469 L173.056 948.571 Z\" fill=\"#000000\" fill-rule=\"evenodd\" fill-opacity=\"1\" /><path clip-path=\"url(#clip650)\" d=\"M126.529 689.667 Q122.918 689.667 121.089 693.231 Q119.283 696.773 119.283 703.903 Q119.283 711.009 121.089 714.574 Q122.918 718.115 126.529 718.115 Q130.163 718.115 131.968 714.574 Q133.797 711.009 133.797 703.903 Q133.797 696.773 131.968 693.231 Q130.163 689.667 126.529 689.667 M126.529 685.963 Q132.339 685.963 135.394 690.569 Q138.473 695.153 138.473 703.903 Q138.473 712.629 135.394 717.236 Q132.339 721.819 126.529 721.819 Q120.718 721.819 117.64 717.236 Q114.584 712.629 114.584 703.903 Q114.584 695.153 117.64 690.569 Q120.718 685.963 126.529 685.963 Z\" fill=\"#000000\" fill-rule=\"evenodd\" fill-opacity=\"1\" /><path clip-path=\"url(#clip650)\" d=\"M146.691 715.268 L151.575 715.268 L151.575 721.148 L146.691 721.148 L146.691 715.268 Z\" fill=\"#000000\" fill-rule=\"evenodd\" fill-opacity=\"1\" /><path clip-path=\"url(#clip650)\" d=\"M172.339 702.004 Q169.19 702.004 167.339 704.157 Q165.51 706.31 165.51 710.06 Q165.51 713.787 167.339 715.963 Q169.19 718.115 172.339 718.115 Q175.487 718.115 177.315 715.963 Q179.167 713.787 179.167 710.06 Q179.167 706.31 177.315 704.157 Q175.487 702.004 172.339 702.004 M181.621 687.352 L181.621 691.611 Q179.862 690.778 178.056 690.338 Q176.274 689.898 174.514 689.898 Q169.885 689.898 167.431 693.023 Q165.001 696.148 164.653 702.467 Q166.019 700.453 168.079 699.389 Q170.139 698.301 172.616 698.301 Q177.825 698.301 180.834 701.472 Q183.866 704.62 183.866 710.06 Q183.866 715.384 180.718 718.602 Q177.57 721.819 172.339 721.819 Q166.343 721.819 163.172 717.236 Q160.001 712.629 160.001 703.903 Q160.001 695.708 163.89 690.847 Q167.778 685.963 174.329 685.963 Q176.089 685.963 177.871 686.31 Q179.676 686.657 181.621 687.352 Z\" fill=\"#000000\" fill-rule=\"evenodd\" fill-opacity=\"1\" /><path clip-path=\"url(#clip650)\" d=\"M126.783 427.683 Q123.172 427.683 121.343 431.248 Q119.538 434.79 119.538 441.919 Q119.538 449.026 121.343 452.591 Q123.172 456.132 126.783 456.132 Q130.417 456.132 132.223 452.591 Q134.052 449.026 134.052 441.919 Q134.052 434.79 132.223 431.248 Q130.417 427.683 126.783 427.683 M126.783 423.98 Q132.593 423.98 135.649 428.586 Q138.728 433.169 138.728 441.919 Q138.728 450.646 135.649 455.253 Q132.593 459.836 126.783 459.836 Q120.973 459.836 117.894 455.253 Q114.839 450.646 114.839 441.919 Q114.839 433.169 117.894 428.586 Q120.973 423.98 126.783 423.98 Z\" fill=\"#000000\" fill-rule=\"evenodd\" fill-opacity=\"1\" /><path clip-path=\"url(#clip650)\" d=\"M146.945 453.285 L151.829 453.285 L151.829 459.165 L146.945 459.165 L146.945 453.285 Z\" fill=\"#000000\" fill-rule=\"evenodd\" fill-opacity=\"1\" /><path clip-path=\"url(#clip650)\" d=\"M172.014 442.753 Q168.681 442.753 166.76 444.535 Q164.862 446.317 164.862 449.442 Q164.862 452.567 166.76 454.35 Q168.681 456.132 172.014 456.132 Q175.348 456.132 177.269 454.35 Q179.19 452.544 179.19 449.442 Q179.19 446.317 177.269 444.535 Q175.371 442.753 172.014 442.753 M167.339 440.762 Q164.329 440.021 162.64 437.961 Q160.973 435.901 160.973 432.938 Q160.973 428.794 163.913 426.387 Q166.876 423.98 172.014 423.98 Q177.176 423.98 180.116 426.387 Q183.056 428.794 183.056 432.938 Q183.056 435.901 181.366 437.961 Q179.7 440.021 176.714 440.762 Q180.093 441.549 181.968 443.841 Q183.866 446.132 183.866 449.442 Q183.866 454.466 180.788 457.151 Q177.732 459.836 172.014 459.836 Q166.297 459.836 163.218 457.151 Q160.163 454.466 160.163 449.442 Q160.163 446.132 162.061 443.841 Q163.959 441.549 167.339 440.762 M165.626 433.378 Q165.626 436.063 167.292 437.567 Q168.982 439.072 172.014 439.072 Q175.024 439.072 176.714 437.567 Q178.426 436.063 178.426 433.378 Q178.426 430.693 176.714 429.188 Q175.024 427.683 172.014 427.683 Q168.982 427.683 167.292 429.188 Q165.626 430.693 165.626 433.378 Z\" fill=\"#000000\" fill-rule=\"evenodd\" fill-opacity=\"1\" /><path clip-path=\"url(#clip650)\" d=\"M117.501 193.246 L125.14 193.246 L125.14 166.881 L116.83 168.547 L116.83 164.288 L125.093 162.621 L129.769 162.621 L129.769 193.246 L137.408 193.246 L137.408 197.181 L117.501 197.181 L117.501 193.246 Z\" fill=\"#000000\" fill-rule=\"evenodd\" fill-opacity=\"1\" /><path clip-path=\"url(#clip650)\" d=\"M146.853 191.302 L151.737 191.302 L151.737 197.181 L146.853 197.181 L146.853 191.302 Z\" fill=\"#000000\" fill-rule=\"evenodd\" fill-opacity=\"1\" /><path clip-path=\"url(#clip650)\" d=\"M171.922 165.7 Q168.311 165.7 166.482 169.265 Q164.677 172.806 164.677 179.936 Q164.677 187.043 166.482 190.607 Q168.311 194.149 171.922 194.149 Q175.556 194.149 177.362 190.607 Q179.19 187.043 179.19 179.936 Q179.19 172.806 177.362 169.265 Q175.556 165.7 171.922 165.7 M171.922 161.996 Q177.732 161.996 180.788 166.603 Q183.866 171.186 183.866 179.936 Q183.866 188.663 180.788 193.269 Q177.732 197.853 171.922 197.853 Q166.112 197.853 163.033 193.269 Q159.978 188.663 159.978 179.936 Q159.978 171.186 163.033 166.603 Q166.112 161.996 171.922 161.996 Z\" fill=\"#000000\" fill-rule=\"evenodd\" fill-opacity=\"1\" /><path clip-path=\"url(#clip650)\" d=\"M39.4498 790.479 Q39.9007 790.479 40.9635 790.768 L66.1485 797.081 Q71.7523 798.466 75.6814 802.974 Q79.6106 807.451 79.6106 812.54 Q79.6106 815.599 77.9681 817.564 Q76.3578 819.528 73.8779 819.528 Q71.6879 819.528 70.6251 818.369 Q69.5945 817.209 69.5945 815.825 Q69.5945 815.374 69.7234 814.891 Q69.8522 814.407 70.3997 813.892 Q70.9472 813.377 71.8812 813.377 Q73.3948 813.377 74.5864 814.697 Q75.1339 815.341 75.2628 815.953 Q75.3916 816.533 75.3916 817.531 Q76.2934 817.145 76.9053 816.436 Q77.5172 815.728 77.7426 814.923 Q78.0003 814.118 78.0647 813.602 Q78.1613 813.055 78.1613 812.54 Q78.1613 808.417 74.0067 805.261 Q72.7507 804.327 71.4947 803.651 Q70.2709 802.942 68.7572 802.427 Q67.2757 801.912 66.4706 801.686 Q65.6654 801.428 63.8297 800.978 Q66.8248 803.973 66.8248 807.644 Q66.8248 809.19 66.4062 810.575 Q65.9875 811.928 65.1179 813.119 Q64.2162 814.311 62.6381 815.019 Q61.06 815.696 58.9666 815.696 Q56.7444 815.696 53.717 814.826 Q50.6897 813.957 45.1181 811.863 Q41.9941 810.736 40.4804 810.736 Q39.7397 810.736 39.2888 810.897 Q38.8057 811.058 38.6447 811.38 Q38.4515 811.702 38.4193 811.895 Q38.3871 812.056 38.3871 812.378 Q38.3871 814.279 40.3194 816.05 Q42.2518 817.821 46.5673 819.045 Q47.3725 819.303 47.5657 819.464 Q47.759 819.625 47.759 820.108 Q47.7268 820.913 47.0826 820.913 Q46.825 820.913 45.8266 820.623 Q44.796 820.333 43.2823 819.657 Q41.7365 818.948 40.3516 817.982 Q38.9346 817.016 37.9362 815.502 Q36.9378 813.957 36.9378 812.185 Q36.9378 809.77 38.5159 808.288 Q40.0618 806.775 42.3484 806.775 Q43.2823 806.775 44.1197 807.032 Q44.9248 807.258 47.0826 808.095 Q55.7782 811.477 60.0294 811.477 Q61.06 811.477 61.9295 811.316 Q62.7669 811.122 63.6042 810.704 Q64.4094 810.285 64.8925 809.448 Q65.3434 808.578 65.3434 807.387 Q65.3434 805.873 64.6348 804.456 Q63.8941 803.007 62.8957 802.105 Q61.8973 801.171 61.06 800.623 Q60.1904 800.044 59.7395 799.915 L47.8878 796.952 L42.606 795.631 Q39.7397 795.02 39.0312 794.73 Q38.3548 794.343 38.0006 793.667 Q37.6463 792.991 37.6463 792.411 Q37.6463 791.606 38.1294 791.058 Q38.6125 790.479 39.4498 790.479 Z\" fill=\"#000000\" fill-rule=\"evenodd\" fill-opacity=\"1\" /><path clip-path=\"url(#clip650)\" d=\"M82.5735 736.626 L16.6159 736.626 L16.6159 726.674 L18.1296 726.674 L18.1296 732.213 L81.0598 732.213 L81.0598 726.674 L82.5735 726.674 L82.5735 736.626 Z\" fill=\"#000000\" fill-rule=\"evenodd\" fill-opacity=\"1\" /><path clip-path=\"url(#clip650)\" d=\"M48.6607 674.933 Q49.0472 674.547 49.5947 674.547 Q50.1422 674.547 50.5287 674.933 Q50.9151 675.32 50.9151 675.867 L50.9151 717.155 Q50.9151 717.702 50.5287 718.089 Q50.1422 718.475 49.5947 718.475 Q49.0472 718.475 48.6607 718.089 Q48.2743 717.702 48.2743 717.155 L48.2743 675.867 Q48.2743 675.32 48.6607 674.933 Z\" fill=\"#000000\" fill-rule=\"evenodd\" fill-opacity=\"1\" /><path clip-path=\"url(#clip650)\" d=\"M81.0598 667.661 L81.0598 662.122 L18.1296 662.122 L18.1296 667.661 L16.6159 667.661 L16.6159 657.71 L82.5735 657.71 L82.5735 667.661 L81.0598 667.661 Z\" fill=\"#000000\" fill-rule=\"evenodd\" fill-opacity=\"1\" /><polyline clip-path=\"url(#clip653)\" style=\"stroke:#000000; stroke-linecap:round; stroke-linejoin:round; stroke-width:4; stroke-opacity:1; fill:none\" stroke-dasharray=\"2, 4\" points=\"280.231,114.406 386.134,114.406 492.037,114.406 597.941,114.406 703.844,114.406 809.747,114.406 915.65,114.406 1021.55,114.406 1127.46,114.406 1233.36,114.406 1339.26,114.406 1445.17,114.406 1551.07,114.406 1656.97,114.406 1762.88,114.406 1868.78,114.406 1974.68,114.406 2080.58,114.406 2186.49,114.406 2292.39,114.406 \"/>\n",
       "<polyline clip-path=\"url(#clip653)\" style=\"stroke:#000000; stroke-linecap:round; stroke-linejoin:round; stroke-width:4; stroke-opacity:1; fill:none\" stroke-dasharray=\"2, 4\" points=\"280.231,114.406 386.134,114.406 492.037,114.406 597.941,114.406 703.844,114.406 809.747,114.406 915.65,114.406 1021.55,114.406 1127.46,114.406 1233.36,114.406 1339.26,114.406 1445.17,114.406 1551.07,114.406 1656.97,114.406 1762.88,114.406 1868.78,114.406 1974.68,114.406 2080.58,114.406 2186.49,114.406 2292.39,114.406 \"/>\n",
       "<polyline clip-path=\"url(#clip653)\" style=\"stroke:#000000; stroke-linecap:round; stroke-linejoin:round; stroke-width:12; stroke-opacity:1; fill:none\" points=\"280.231,1384.24 386.134,1306.09 492.037,854.916 597.941,400.913 703.844,225.123 809.747,248.634 915.65,251.798 1021.55,187.454 1127.46,156.358 1233.36,146.911 1339.26,116.989 1445.17,91.1935 1551.07,106.554 1656.97,116.655 1762.88,99.7892 1868.78,86.563 1974.68,104.304 2080.58,112.401 2186.49,97.2217 2292.39,86.8459 \"/>\n",
       "<circle clip-path=\"url(#clip653)\" cx=\"280.231\" cy=\"1384.24\" r=\"10.8\" fill=\"#000000\" fill-rule=\"evenodd\" fill-opacity=\"1\" stroke=\"none\"/>\n",
       "<circle clip-path=\"url(#clip653)\" cx=\"386.134\" cy=\"1306.09\" r=\"10.8\" fill=\"#000000\" fill-rule=\"evenodd\" fill-opacity=\"1\" stroke=\"none\"/>\n",
       "<circle clip-path=\"url(#clip653)\" cx=\"492.037\" cy=\"854.916\" r=\"10.8\" fill=\"#000000\" fill-rule=\"evenodd\" fill-opacity=\"1\" stroke=\"none\"/>\n",
       "<circle clip-path=\"url(#clip653)\" cx=\"597.941\" cy=\"400.913\" r=\"10.8\" fill=\"#000000\" fill-rule=\"evenodd\" fill-opacity=\"1\" stroke=\"none\"/>\n",
       "<circle clip-path=\"url(#clip653)\" cx=\"703.844\" cy=\"225.123\" r=\"10.8\" fill=\"#000000\" fill-rule=\"evenodd\" fill-opacity=\"1\" stroke=\"none\"/>\n",
       "<circle clip-path=\"url(#clip653)\" cx=\"809.747\" cy=\"248.634\" r=\"10.8\" fill=\"#000000\" fill-rule=\"evenodd\" fill-opacity=\"1\" stroke=\"none\"/>\n",
       "<circle clip-path=\"url(#clip653)\" cx=\"915.65\" cy=\"251.798\" r=\"10.8\" fill=\"#000000\" fill-rule=\"evenodd\" fill-opacity=\"1\" stroke=\"none\"/>\n",
       "<circle clip-path=\"url(#clip653)\" cx=\"1021.55\" cy=\"187.454\" r=\"10.8\" fill=\"#000000\" fill-rule=\"evenodd\" fill-opacity=\"1\" stroke=\"none\"/>\n",
       "<circle clip-path=\"url(#clip653)\" cx=\"1127.46\" cy=\"156.358\" r=\"10.8\" fill=\"#000000\" fill-rule=\"evenodd\" fill-opacity=\"1\" stroke=\"none\"/>\n",
       "<circle clip-path=\"url(#clip653)\" cx=\"1233.36\" cy=\"146.911\" r=\"10.8\" fill=\"#000000\" fill-rule=\"evenodd\" fill-opacity=\"1\" stroke=\"none\"/>\n",
       "<circle clip-path=\"url(#clip653)\" cx=\"1339.26\" cy=\"116.989\" r=\"10.8\" fill=\"#000000\" fill-rule=\"evenodd\" fill-opacity=\"1\" stroke=\"none\"/>\n",
       "<circle clip-path=\"url(#clip653)\" cx=\"1445.17\" cy=\"91.1935\" r=\"10.8\" fill=\"#000000\" fill-rule=\"evenodd\" fill-opacity=\"1\" stroke=\"none\"/>\n",
       "<circle clip-path=\"url(#clip653)\" cx=\"1551.07\" cy=\"106.554\" r=\"10.8\" fill=\"#000000\" fill-rule=\"evenodd\" fill-opacity=\"1\" stroke=\"none\"/>\n",
       "<circle clip-path=\"url(#clip653)\" cx=\"1656.97\" cy=\"116.655\" r=\"10.8\" fill=\"#000000\" fill-rule=\"evenodd\" fill-opacity=\"1\" stroke=\"none\"/>\n",
       "<circle clip-path=\"url(#clip653)\" cx=\"1762.88\" cy=\"99.7892\" r=\"10.8\" fill=\"#000000\" fill-rule=\"evenodd\" fill-opacity=\"1\" stroke=\"none\"/>\n",
       "<circle clip-path=\"url(#clip653)\" cx=\"1868.78\" cy=\"86.563\" r=\"10.8\" fill=\"#000000\" fill-rule=\"evenodd\" fill-opacity=\"1\" stroke=\"none\"/>\n",
       "<circle clip-path=\"url(#clip653)\" cx=\"1974.68\" cy=\"104.304\" r=\"10.8\" fill=\"#000000\" fill-rule=\"evenodd\" fill-opacity=\"1\" stroke=\"none\"/>\n",
       "<circle clip-path=\"url(#clip653)\" cx=\"2080.58\" cy=\"112.401\" r=\"10.8\" fill=\"#000000\" fill-rule=\"evenodd\" fill-opacity=\"1\" stroke=\"none\"/>\n",
       "<circle clip-path=\"url(#clip653)\" cx=\"2186.49\" cy=\"97.2217\" r=\"10.8\" fill=\"#000000\" fill-rule=\"evenodd\" fill-opacity=\"1\" stroke=\"none\"/>\n",
       "<circle clip-path=\"url(#clip653)\" cx=\"2292.39\" cy=\"86.8459\" r=\"10.8\" fill=\"#000000\" fill-rule=\"evenodd\" fill-opacity=\"1\" stroke=\"none\"/>\n",
       "<polyline clip-path=\"url(#clip653)\" style=\"stroke:#000000; stroke-linecap:round; stroke-linejoin:round; stroke-width:12; stroke-opacity:1; fill:none\" stroke-dasharray=\"48, 24, 6, 24\" points=\"280.231,1384.24 386.134,1306.11 492.037,854.969 597.941,400.979 703.844,223.366 809.747,243.193 915.65,243.876 1021.55,180.804 1127.46,150.87 1233.36,141.291 1339.26,112.956 1445.17,90.3291 1551.07,105.132 1656.97,114.234 1762.88,98.6299 1868.78,86.7103 1974.68,105.584 2080.58,114.535 2186.49,98.1254 2292.39,86.1857 \"/>\n",
       "<path clip-path=\"url(#clip653)\" d=\"M268.231 1372.24 L268.231 1396.24 L292.231 1396.24 L292.231 1372.24 L268.231 1372.24 Z\" fill=\"#000000\" fill-rule=\"evenodd\" fill-opacity=\"1\" stroke=\"none\"/>\n",
       "<path clip-path=\"url(#clip653)\" d=\"M374.134 1294.11 L374.134 1318.11 L398.134 1318.11 L398.134 1294.11 L374.134 1294.11 Z\" fill=\"#000000\" fill-rule=\"evenodd\" fill-opacity=\"1\" stroke=\"none\"/>\n",
       "<path clip-path=\"url(#clip653)\" d=\"M480.037 842.969 L480.037 866.969 L504.037 866.969 L504.037 842.969 L480.037 842.969 Z\" fill=\"#000000\" fill-rule=\"evenodd\" fill-opacity=\"1\" stroke=\"none\"/>\n",
       "<path clip-path=\"url(#clip653)\" d=\"M585.941 388.979 L585.941 412.979 L609.941 412.979 L609.941 388.979 L585.941 388.979 Z\" fill=\"#000000\" fill-rule=\"evenodd\" fill-opacity=\"1\" stroke=\"none\"/>\n",
       "<path clip-path=\"url(#clip653)\" d=\"M691.844 211.366 L691.844 235.366 L715.844 235.366 L715.844 211.366 L691.844 211.366 Z\" fill=\"#000000\" fill-rule=\"evenodd\" fill-opacity=\"1\" stroke=\"none\"/>\n",
       "<path clip-path=\"url(#clip653)\" d=\"M797.747 231.193 L797.747 255.193 L821.747 255.193 L821.747 231.193 L797.747 231.193 Z\" fill=\"#000000\" fill-rule=\"evenodd\" fill-opacity=\"1\" stroke=\"none\"/>\n",
       "<path clip-path=\"url(#clip653)\" d=\"M903.65 231.876 L903.65 255.876 L927.65 255.876 L927.65 231.876 L903.65 231.876 Z\" fill=\"#000000\" fill-rule=\"evenodd\" fill-opacity=\"1\" stroke=\"none\"/>\n",
       "<path clip-path=\"url(#clip653)\" d=\"M1009.55 168.804 L1009.55 192.804 L1033.55 192.804 L1033.55 168.804 L1009.55 168.804 Z\" fill=\"#000000\" fill-rule=\"evenodd\" fill-opacity=\"1\" stroke=\"none\"/>\n",
       "<path clip-path=\"url(#clip653)\" d=\"M1115.46 138.87 L1115.46 162.87 L1139.46 162.87 L1139.46 138.87 L1115.46 138.87 Z\" fill=\"#000000\" fill-rule=\"evenodd\" fill-opacity=\"1\" stroke=\"none\"/>\n",
       "<path clip-path=\"url(#clip653)\" d=\"M1221.36 129.291 L1221.36 153.291 L1245.36 153.291 L1245.36 129.291 L1221.36 129.291 Z\" fill=\"#000000\" fill-rule=\"evenodd\" fill-opacity=\"1\" stroke=\"none\"/>\n",
       "<path clip-path=\"url(#clip653)\" d=\"M1327.26 100.956 L1327.26 124.956 L1351.26 124.956 L1351.26 100.956 L1327.26 100.956 Z\" fill=\"#000000\" fill-rule=\"evenodd\" fill-opacity=\"1\" stroke=\"none\"/>\n",
       "<path clip-path=\"url(#clip653)\" d=\"M1433.17 78.3291 L1433.17 102.329 L1457.17 102.329 L1457.17 78.3291 L1433.17 78.3291 Z\" fill=\"#000000\" fill-rule=\"evenodd\" fill-opacity=\"1\" stroke=\"none\"/>\n",
       "<path clip-path=\"url(#clip653)\" d=\"M1539.07 93.1316 L1539.07 117.132 L1563.07 117.132 L1563.07 93.1316 L1539.07 93.1316 Z\" fill=\"#000000\" fill-rule=\"evenodd\" fill-opacity=\"1\" stroke=\"none\"/>\n",
       "<path clip-path=\"url(#clip653)\" d=\"M1644.97 102.234 L1644.97 126.234 L1668.97 126.234 L1668.97 102.234 L1644.97 102.234 Z\" fill=\"#000000\" fill-rule=\"evenodd\" fill-opacity=\"1\" stroke=\"none\"/>\n",
       "<path clip-path=\"url(#clip653)\" d=\"M1750.88 86.6299 L1750.88 110.63 L1774.88 110.63 L1774.88 86.6299 L1750.88 86.6299 Z\" fill=\"#000000\" fill-rule=\"evenodd\" fill-opacity=\"1\" stroke=\"none\"/>\n",
       "<path clip-path=\"url(#clip653)\" d=\"M1856.78 74.7103 L1856.78 98.7103 L1880.78 98.7103 L1880.78 74.7103 L1856.78 74.7103 Z\" fill=\"#000000\" fill-rule=\"evenodd\" fill-opacity=\"1\" stroke=\"none\"/>\n",
       "<path clip-path=\"url(#clip653)\" d=\"M1962.68 93.5843 L1962.68 117.584 L1986.68 117.584 L1986.68 93.5843 L1962.68 93.5843 Z\" fill=\"#000000\" fill-rule=\"evenodd\" fill-opacity=\"1\" stroke=\"none\"/>\n",
       "<path clip-path=\"url(#clip653)\" d=\"M2068.58 102.535 L2068.58 126.535 L2092.58 126.535 L2092.58 102.535 L2068.58 102.535 Z\" fill=\"#000000\" fill-rule=\"evenodd\" fill-opacity=\"1\" stroke=\"none\"/>\n",
       "<path clip-path=\"url(#clip653)\" d=\"M2174.49 86.1254 L2174.49 110.125 L2198.49 110.125 L2198.49 86.1254 L2174.49 86.1254 Z\" fill=\"#000000\" fill-rule=\"evenodd\" fill-opacity=\"1\" stroke=\"none\"/>\n",
       "<path clip-path=\"url(#clip653)\" d=\"M2280.39 74.1857 L2280.39 98.1857 L2304.39 98.1857 L2304.39 74.1857 L2280.39 74.1857 Z\" fill=\"#000000\" fill-rule=\"evenodd\" fill-opacity=\"1\" stroke=\"none\"/>\n",
       "<path clip-path=\"url(#clip650)\" d=\"M1934.95 1377.32 L2281.66 1377.32 L2281.66 1169.96 L1934.95 1169.96  Z\" fill=\"#ffffff\" fill-rule=\"evenodd\" fill-opacity=\"1\"/>\n",
       "<polyline clip-path=\"url(#clip650)\" style=\"stroke:#000000; stroke-linecap:round; stroke-linejoin:round; stroke-width:4; stroke-opacity:1; fill:none\" points=\"1934.95,1377.32 2281.66,1377.32 2281.66,1169.96 1934.95,1169.96 1934.95,1377.32 \"/>\n",
       "<polyline clip-path=\"url(#clip650)\" style=\"stroke:#000000; stroke-linecap:round; stroke-linejoin:round; stroke-width:4; stroke-opacity:1; fill:none\" stroke-dasharray=\"2, 4\" points=\"1958.64,1221.8 2100.84,1221.8 \"/>\n",
       "<path clip-path=\"url(#clip650)\" d=\"M2124.54 1204.52 L2129.21 1204.52 L2129.21 1235.14 L2146.04 1235.14 L2146.04 1239.08 L2124.54 1239.08 L2124.54 1204.52 Z\" fill=\"#000000\" fill-rule=\"evenodd\" fill-opacity=\"1\" /><path clip-path=\"url(#clip650)\" d=\"M2150.76 1213.15 L2155.02 1213.15 L2155.02 1239.08 L2150.76 1239.08 L2150.76 1213.15 M2150.76 1203.06 L2155.02 1203.06 L2155.02 1208.45 L2150.76 1208.45 L2150.76 1203.06 Z\" fill=\"#000000\" fill-rule=\"evenodd\" fill-opacity=\"1\" /><path clip-path=\"url(#clip650)\" d=\"M2184.12 1218.13 Q2185.72 1215.26 2187.94 1213.89 Q2190.16 1212.52 2193.17 1212.52 Q2197.22 1212.52 2199.42 1215.37 Q2201.62 1218.2 2201.62 1223.43 L2201.62 1239.08 L2197.34 1239.08 L2197.34 1223.57 Q2197.34 1219.84 2196.02 1218.03 Q2194.7 1216.23 2191.99 1216.23 Q2188.68 1216.23 2186.76 1218.43 Q2184.84 1220.63 2184.84 1224.42 L2184.84 1239.08 L2180.55 1239.08 L2180.55 1223.57 Q2180.55 1219.82 2179.23 1218.03 Q2177.91 1216.23 2175.16 1216.23 Q2171.9 1216.23 2169.98 1218.45 Q2168.05 1220.65 2168.05 1224.42 L2168.05 1239.08 L2163.77 1239.08 L2163.77 1213.15 L2168.05 1213.15 L2168.05 1217.18 Q2169.51 1214.79 2171.55 1213.66 Q2173.59 1212.52 2176.39 1212.52 Q2179.21 1212.52 2181.18 1213.96 Q2183.17 1215.39 2184.12 1218.13 Z\" fill=\"#000000\" fill-rule=\"evenodd\" fill-opacity=\"1\" /><path clip-path=\"url(#clip650)\" d=\"M2210.11 1213.15 L2214.37 1213.15 L2214.37 1239.08 L2210.11 1239.08 L2210.11 1213.15 M2210.11 1203.06 L2214.37 1203.06 L2214.37 1208.45 L2210.11 1208.45 L2210.11 1203.06 Z\" fill=\"#000000\" fill-rule=\"evenodd\" fill-opacity=\"1\" /><path clip-path=\"url(#clip650)\" d=\"M2227.5 1205.79 L2227.5 1213.15 L2236.27 1213.15 L2236.27 1216.46 L2227.5 1216.46 L2227.5 1230.53 Q2227.5 1233.7 2228.35 1234.61 Q2229.23 1235.51 2231.9 1235.51 L2236.27 1235.51 L2236.27 1239.08 L2231.9 1239.08 Q2226.97 1239.08 2225.09 1237.25 Q2223.22 1235.39 2223.22 1230.53 L2223.22 1216.46 L2220.09 1216.46 L2220.09 1213.15 L2223.22 1213.15 L2223.22 1205.79 L2227.5 1205.79 Z\" fill=\"#000000\" fill-rule=\"evenodd\" fill-opacity=\"1\" /><polyline clip-path=\"url(#clip650)\" style=\"stroke:#000000; stroke-linecap:round; stroke-linejoin:round; stroke-width:12; stroke-opacity:1; fill:none\" points=\"1958.64,1273.64 2100.84,1273.64 \"/>\n",
       "<circle clip-path=\"url(#clip650)\" cx=\"2029.74\" cy=\"1273.64\" r=\"19.749\" fill=\"#000000\" fill-rule=\"evenodd\" fill-opacity=\"1\" stroke=\"none\"/>\n",
       "<path clip-path=\"url(#clip650)\" d=\"M2124.54 1256.36 L2131.5 1256.36 L2140.32 1279.87 L2149.19 1256.36 L2156.16 1256.36 L2156.16 1290.92 L2151.6 1290.92 L2151.6 1260.57 L2142.68 1284.27 L2137.98 1284.27 L2129.07 1260.57 L2129.07 1290.92 L2124.54 1290.92 L2124.54 1256.36 Z\" fill=\"#000000\" fill-rule=\"evenodd\" fill-opacity=\"1\" /><path clip-path=\"url(#clip650)\" d=\"M2175.3 1267.98 Q2171.87 1267.98 2169.88 1270.66 Q2167.89 1273.32 2167.89 1277.98 Q2167.89 1282.63 2169.86 1285.31 Q2171.85 1287.98 2175.3 1287.98 Q2178.7 1287.98 2180.69 1285.29 Q2182.68 1282.61 2182.68 1277.98 Q2182.68 1273.37 2180.69 1270.68 Q2178.7 1267.98 2175.3 1267.98 M2175.3 1264.36 Q2180.85 1264.36 2184.03 1267.98 Q2187.2 1271.59 2187.2 1277.98 Q2187.2 1284.34 2184.03 1287.98 Q2180.85 1291.59 2175.3 1291.59 Q2169.72 1291.59 2166.55 1287.98 Q2163.4 1284.34 2163.4 1277.98 Q2163.4 1271.59 2166.55 1267.98 Q2169.72 1264.36 2175.3 1264.36 Z\" fill=\"#000000\" fill-rule=\"evenodd\" fill-opacity=\"1\" /><path clip-path=\"url(#clip650)\" d=\"M2215.81 1275.27 L2215.81 1290.92 L2211.55 1290.92 L2211.55 1275.41 Q2211.55 1271.73 2210.11 1269.9 Q2208.68 1268.07 2205.81 1268.07 Q2202.36 1268.07 2200.37 1270.27 Q2198.38 1272.47 2198.38 1276.26 L2198.38 1290.92 L2194.1 1290.92 L2194.1 1264.99 L2198.38 1264.99 L2198.38 1269.02 Q2199.91 1266.68 2201.97 1265.52 Q2204.05 1264.36 2206.76 1264.36 Q2211.22 1264.36 2213.52 1267.14 Q2215.81 1269.9 2215.81 1275.27 Z\" fill=\"#000000\" fill-rule=\"evenodd\" fill-opacity=\"1\" /><path clip-path=\"url(#clip650)\" d=\"M2234.35 1267.98 Q2230.92 1267.98 2228.93 1270.66 Q2226.94 1273.32 2226.94 1277.98 Q2226.94 1282.63 2228.91 1285.31 Q2230.9 1287.98 2234.35 1287.98 Q2237.75 1287.98 2239.74 1285.29 Q2241.73 1282.61 2241.73 1277.98 Q2241.73 1273.37 2239.74 1270.68 Q2237.75 1267.98 2234.35 1267.98 M2234.35 1264.36 Q2239.91 1264.36 2243.08 1267.98 Q2246.25 1271.59 2246.25 1277.98 Q2246.25 1284.34 2243.08 1287.98 Q2239.91 1291.59 2234.35 1291.59 Q2228.77 1291.59 2225.6 1287.98 Q2222.45 1284.34 2222.45 1277.98 Q2222.45 1271.59 2225.6 1267.98 Q2228.77 1264.36 2234.35 1264.36 Z\" fill=\"#000000\" fill-rule=\"evenodd\" fill-opacity=\"1\" /><path clip-path=\"url(#clip650)\" d=\"M2253.08 1285.04 L2257.96 1285.04 L2257.96 1290.92 L2253.08 1290.92 L2253.08 1285.04 Z\" fill=\"#000000\" fill-rule=\"evenodd\" fill-opacity=\"1\" /><polyline clip-path=\"url(#clip650)\" style=\"stroke:#000000; stroke-linecap:round; stroke-linejoin:round; stroke-width:12; stroke-opacity:1; fill:none\" stroke-dasharray=\"48, 24, 6, 24\" points=\"1958.64,1325.48 2100.84,1325.48 \"/>\n",
       "<path clip-path=\"url(#clip650)\" d=\"M2007.8 1303.53 L2007.8 1347.42 L2051.68 1347.42 L2051.68 1303.53 L2007.8 1303.53 Z\" fill=\"#000000\" fill-rule=\"evenodd\" fill-opacity=\"1\" stroke=\"none\"/>\n",
       "<path clip-path=\"url(#clip650)\" d=\"M2129.21 1312.04 L2129.21 1338.91 L2134.86 1338.91 Q2142.01 1338.91 2145.32 1335.67 Q2148.66 1332.43 2148.66 1325.44 Q2148.66 1318.5 2145.32 1315.28 Q2142.01 1312.04 2134.86 1312.04 L2129.21 1312.04 M2124.54 1308.2 L2134.14 1308.2 Q2144.19 1308.2 2148.89 1312.39 Q2153.59 1316.55 2153.59 1325.44 Q2153.59 1334.38 2148.86 1338.57 Q2144.14 1342.76 2134.14 1342.76 L2124.54 1342.76 L2124.54 1308.2 Z\" fill=\"#000000\" fill-rule=\"evenodd\" fill-opacity=\"1\" /><path clip-path=\"url(#clip650)\" d=\"M2183.03 1328.73 L2183.03 1330.81 L2163.45 1330.81 Q2163.73 1335.21 2166.09 1337.52 Q2168.47 1339.82 2172.71 1339.82 Q2175.16 1339.82 2177.45 1339.21 Q2179.77 1338.61 2182.04 1337.41 L2182.04 1341.44 Q2179.74 1342.41 2177.34 1342.92 Q2174.93 1343.43 2172.45 1343.43 Q2166.25 1343.43 2162.61 1339.82 Q2159 1336.2 2159 1330.05 Q2159 1323.68 2162.43 1319.95 Q2165.88 1316.2 2171.71 1316.2 Q2176.94 1316.2 2179.98 1319.58 Q2183.03 1322.94 2183.03 1328.73 M2178.77 1327.48 Q2178.73 1323.98 2176.8 1321.9 Q2174.91 1319.82 2171.76 1319.82 Q2168.19 1319.82 2166.04 1321.83 Q2163.91 1323.84 2163.59 1327.5 L2178.77 1327.48 Z\" fill=\"#000000\" fill-rule=\"evenodd\" fill-opacity=\"1\" /><path clip-path=\"url(#clip650)\" d=\"M2208.68 1317.82 L2208.68 1321.81 Q2206.87 1320.81 2205.04 1320.32 Q2203.24 1319.82 2201.39 1319.82 Q2197.24 1319.82 2194.95 1322.45 Q2192.66 1325.07 2192.66 1329.82 Q2192.66 1334.56 2194.95 1337.2 Q2197.24 1339.82 2201.39 1339.82 Q2203.24 1339.82 2205.04 1339.33 Q2206.87 1338.82 2208.68 1337.82 L2208.68 1341.76 Q2206.9 1342.59 2204.97 1343.01 Q2203.08 1343.43 2200.92 1343.43 Q2195.07 1343.43 2191.62 1339.75 Q2188.17 1336.07 2188.17 1329.82 Q2188.17 1323.47 2191.64 1319.84 Q2195.14 1316.2 2201.2 1316.2 Q2203.17 1316.2 2205.04 1316.62 Q2206.92 1317.01 2208.68 1317.82 Z\" fill=\"#000000\" fill-rule=\"evenodd\" fill-opacity=\"1\" /><path clip-path=\"url(#clip650)\" d=\"M2226.13 1319.82 Q2222.71 1319.82 2220.72 1322.5 Q2218.72 1325.16 2218.72 1329.82 Q2218.72 1334.47 2220.69 1337.15 Q2222.68 1339.82 2226.13 1339.82 Q2229.54 1339.82 2231.53 1337.13 Q2233.52 1334.45 2233.52 1329.82 Q2233.52 1325.21 2231.53 1322.52 Q2229.54 1319.82 2226.13 1319.82 M2226.13 1316.2 Q2231.69 1316.2 2234.86 1319.82 Q2238.03 1323.43 2238.03 1329.82 Q2238.03 1336.18 2234.86 1339.82 Q2231.69 1343.43 2226.13 1343.43 Q2220.55 1343.43 2217.38 1339.82 Q2214.23 1336.18 2214.23 1329.82 Q2214.23 1323.43 2217.38 1319.82 Q2220.55 1316.2 2226.13 1316.2 Z\" fill=\"#000000\" fill-rule=\"evenodd\" fill-opacity=\"1\" /><path clip-path=\"url(#clip650)\" d=\"M2244.86 1336.88 L2249.74 1336.88 L2249.74 1342.76 L2244.86 1342.76 L2244.86 1336.88 Z\" fill=\"#000000\" fill-rule=\"evenodd\" fill-opacity=\"1\" /></svg>\n"
      ]
     },
     "execution_count": 29,
     "metadata": {},
     "output_type": "execute_result"
    }
   ],
   "source": [
    "mc_comp(L\"y \\quad [-]\",ts,yMean[:,1,:],(pUB + y0),(pTrack + y0))"
   ]
  },
  {
   "cell_type": "markdown",
   "id": "45433edb",
   "metadata": {},
   "source": [
    "Input"
   ]
  },
  {
   "cell_type": "code",
   "execution_count": 24,
   "id": "70daa149",
   "metadata": {},
   "outputs": [
    {
     "data": {
      "image/svg+xml": [
       "<?xml version=\"1.0\" encoding=\"utf-8\"?>\n",
       "<svg xmlns=\"http://www.w3.org/2000/svg\" xmlns:xlink=\"http://www.w3.org/1999/xlink\" width=\"600\" height=\"400\" viewBox=\"0 0 2400 1600\">\n",
       "<defs>\n",
       "  <clipPath id=\"clip530\">\n",
       "    <rect x=\"0\" y=\"0\" width=\"2400\" height=\"1600\"/>\n",
       "  </clipPath>\n",
       "</defs>\n",
       "<path clip-path=\"url(#clip530)\" d=\"M0 1600 L2400 1600 L2400 0 L0 0  Z\" fill=\"#ffffff\" fill-rule=\"evenodd\" fill-opacity=\"1\"/>\n",
       "<defs>\n",
       "  <clipPath id=\"clip531\">\n",
       "    <rect x=\"480\" y=\"0\" width=\"1681\" height=\"1600\"/>\n",
       "  </clipPath>\n",
       "</defs>\n",
       "<defs>\n",
       "  <clipPath id=\"clip532\">\n",
       "    <rect x=\"219\" y=\"47\" width=\"2134\" height=\"1377\"/>\n",
       "  </clipPath>\n",
       "</defs>\n",
       "<path clip-path=\"url(#clip530)\" d=\"M175.445 654.814 L2352.76 654.814 L2352.76 47.2441 L175.445 47.2441  Z\" fill=\"#ffffff\" fill-rule=\"evenodd\" fill-opacity=\"1\"/>\n",
       "<defs>\n",
       "  <clipPath id=\"clip533\">\n",
       "    <rect x=\"175\" y=\"47\" width=\"2178\" height=\"609\"/>\n",
       "  </clipPath>\n",
       "</defs>\n",
       "<polyline clip-path=\"url(#clip533)\" style=\"stroke:#000000; stroke-linecap:round; stroke-linejoin:round; stroke-width:8; stroke-opacity:0.1; fill:none\" points=\"669.502,654.814 669.502,47.2441 \"/>\n",
       "<polyline clip-path=\"url(#clip533)\" style=\"stroke:#000000; stroke-linecap:round; stroke-linejoin:round; stroke-width:8; stroke-opacity:0.1; fill:none\" points=\"1210.05,654.814 1210.05,47.2441 \"/>\n",
       "<polyline clip-path=\"url(#clip533)\" style=\"stroke:#000000; stroke-linecap:round; stroke-linejoin:round; stroke-width:8; stroke-opacity:0.1; fill:none\" points=\"1750.59,654.814 1750.59,47.2441 \"/>\n",
       "<polyline clip-path=\"url(#clip533)\" style=\"stroke:#000000; stroke-linecap:round; stroke-linejoin:round; stroke-width:8; stroke-opacity:0.1; fill:none\" points=\"2291.13,654.814 2291.13,47.2441 \"/>\n",
       "<polyline clip-path=\"url(#clip530)\" style=\"stroke:#000000; stroke-linecap:round; stroke-linejoin:round; stroke-width:4; stroke-opacity:1; fill:none\" points=\"175.445,654.814 2352.76,654.814 \"/>\n",
       "<polyline clip-path=\"url(#clip530)\" style=\"stroke:#000000; stroke-linecap:round; stroke-linejoin:round; stroke-width:4; stroke-opacity:1; fill:none\" points=\"669.502,654.814 669.502,635.916 \"/>\n",
       "<polyline clip-path=\"url(#clip530)\" style=\"stroke:#000000; stroke-linecap:round; stroke-linejoin:round; stroke-width:4; stroke-opacity:1; fill:none\" points=\"1210.05,654.814 1210.05,635.916 \"/>\n",
       "<polyline clip-path=\"url(#clip530)\" style=\"stroke:#000000; stroke-linecap:round; stroke-linejoin:round; stroke-width:4; stroke-opacity:1; fill:none\" points=\"1750.59,654.814 1750.59,635.916 \"/>\n",
       "<polyline clip-path=\"url(#clip530)\" style=\"stroke:#000000; stroke-linecap:round; stroke-linejoin:round; stroke-width:4; stroke-opacity:1; fill:none\" points=\"2291.13,654.814 2291.13,635.916 \"/>\n",
       "<path clip-path=\"url(#clip530)\" d=\"M659.78 682.654 L678.137 682.654 L678.137 686.589 L664.063 686.589 L664.063 695.061 Q665.081 694.714 666.1 694.552 Q667.118 694.367 668.137 694.367 Q673.924 694.367 677.303 697.538 Q680.683 700.709 680.683 706.126 Q680.683 711.705 677.211 714.806 Q673.738 717.885 667.419 717.885 Q665.243 717.885 662.975 717.515 Q660.729 717.144 658.322 716.404 L658.322 711.705 Q660.405 712.839 662.627 713.394 Q664.85 713.95 667.326 713.95 Q671.331 713.95 673.669 711.844 Q676.007 709.737 676.007 706.126 Q676.007 702.515 673.669 700.408 Q671.331 698.302 667.326 698.302 Q665.451 698.302 663.576 698.719 Q661.725 699.135 659.78 700.015 L659.78 682.654 Z\" fill=\"#000000\" fill-rule=\"evenodd\" fill-opacity=\"1\" /><path clip-path=\"url(#clip530)\" d=\"M1184.73 713.279 L1192.37 713.279 L1192.37 686.913 L1184.06 688.58 L1184.06 684.321 L1192.33 682.654 L1197 682.654 L1197 713.279 L1204.64 713.279 L1204.64 717.214 L1184.73 717.214 L1184.73 713.279 Z\" fill=\"#000000\" fill-rule=\"evenodd\" fill-opacity=\"1\" /><path clip-path=\"url(#clip530)\" d=\"M1224.09 685.733 Q1220.47 685.733 1218.65 689.297 Q1216.84 692.839 1216.84 699.969 Q1216.84 707.075 1218.65 710.64 Q1220.47 714.181 1224.09 714.181 Q1227.72 714.181 1229.53 710.64 Q1231.35 707.075 1231.35 699.969 Q1231.35 692.839 1229.53 689.297 Q1227.72 685.733 1224.09 685.733 M1224.09 682.029 Q1229.9 682.029 1232.95 686.635 Q1236.03 691.219 1236.03 699.969 Q1236.03 708.695 1232.95 713.302 Q1229.9 717.885 1224.09 717.885 Q1218.28 717.885 1215.2 713.302 Q1212.14 708.695 1212.14 699.969 Q1212.14 691.219 1215.2 686.635 Q1218.28 682.029 1224.09 682.029 Z\" fill=\"#000000\" fill-rule=\"evenodd\" fill-opacity=\"1\" /><path clip-path=\"url(#clip530)\" d=\"M1725.78 713.279 L1733.41 713.279 L1733.41 686.913 L1725.1 688.58 L1725.1 684.321 L1733.37 682.654 L1738.04 682.654 L1738.04 713.279 L1745.68 713.279 L1745.68 717.214 L1725.78 717.214 L1725.78 713.279 Z\" fill=\"#000000\" fill-rule=\"evenodd\" fill-opacity=\"1\" /><path clip-path=\"url(#clip530)\" d=\"M1755.17 682.654 L1773.53 682.654 L1773.53 686.589 L1759.46 686.589 L1759.46 695.061 Q1760.47 694.714 1761.49 694.552 Q1762.51 694.367 1763.53 694.367 Q1769.32 694.367 1772.7 697.538 Q1776.08 700.709 1776.08 706.126 Q1776.08 711.705 1772.6 714.806 Q1769.13 717.885 1762.81 717.885 Q1760.64 717.885 1758.37 717.515 Q1756.12 717.144 1753.72 716.404 L1753.72 711.705 Q1755.8 712.839 1758.02 713.394 Q1760.24 713.95 1762.72 713.95 Q1766.72 713.95 1769.06 711.844 Q1771.4 709.737 1771.4 706.126 Q1771.4 702.515 1769.06 700.408 Q1766.72 698.302 1762.72 698.302 Q1760.84 698.302 1758.97 698.719 Q1757.12 699.135 1755.17 700.015 L1755.17 682.654 Z\" fill=\"#000000\" fill-rule=\"evenodd\" fill-opacity=\"1\" /><path clip-path=\"url(#clip530)\" d=\"M2269.91 713.279 L2286.23 713.279 L2286.23 717.214 L2264.28 717.214 L2264.28 713.279 Q2266.94 710.524 2271.53 705.894 Q2276.13 701.242 2277.31 699.899 Q2279.56 697.376 2280.44 695.64 Q2281.34 693.881 2281.34 692.191 Q2281.34 689.436 2279.4 687.7 Q2277.48 685.964 2274.37 685.964 Q2272.18 685.964 2269.72 686.728 Q2267.29 687.492 2264.51 689.043 L2264.51 684.321 Q2267.34 683.186 2269.79 682.608 Q2272.25 682.029 2274.28 682.029 Q2279.65 682.029 2282.85 684.714 Q2286.04 687.399 2286.04 691.89 Q2286.04 694.02 2285.23 695.941 Q2284.44 697.839 2282.34 700.432 Q2281.76 701.103 2278.66 704.32 Q2275.56 707.515 2269.91 713.279 Z\" fill=\"#000000\" fill-rule=\"evenodd\" fill-opacity=\"1\" /><path clip-path=\"url(#clip530)\" d=\"M2306.04 685.733 Q2302.43 685.733 2300.6 689.297 Q2298.8 692.839 2298.8 699.969 Q2298.8 707.075 2300.6 710.64 Q2302.43 714.181 2306.04 714.181 Q2309.68 714.181 2311.48 710.64 Q2313.31 707.075 2313.31 699.969 Q2313.31 692.839 2311.48 689.297 Q2309.68 685.733 2306.04 685.733 M2306.04 682.029 Q2311.85 682.029 2314.91 686.635 Q2317.99 691.219 2317.99 699.969 Q2317.99 708.695 2314.91 713.302 Q2311.85 717.885 2306.04 717.885 Q2300.23 717.885 2297.15 713.302 Q2294.1 708.695 2294.1 699.969 Q2294.1 691.219 2297.15 686.635 Q2300.23 682.029 2306.04 682.029 Z\" fill=\"#000000\" fill-rule=\"evenodd\" fill-opacity=\"1\" /><polyline clip-path=\"url(#clip533)\" style=\"stroke:#000000; stroke-linecap:round; stroke-linejoin:round; stroke-width:8; stroke-opacity:0.1; fill:none\" points=\"175.445,637.618 2352.76,637.618 \"/>\n",
       "<polyline clip-path=\"url(#clip533)\" style=\"stroke:#000000; stroke-linecap:round; stroke-linejoin:round; stroke-width:8; stroke-opacity:0.1; fill:none\" points=\"175.445,522.983 2352.76,522.983 \"/>\n",
       "<polyline clip-path=\"url(#clip533)\" style=\"stroke:#000000; stroke-linecap:round; stroke-linejoin:round; stroke-width:8; stroke-opacity:0.1; fill:none\" points=\"175.445,408.347 2352.76,408.347 \"/>\n",
       "<polyline clip-path=\"url(#clip533)\" style=\"stroke:#000000; stroke-linecap:round; stroke-linejoin:round; stroke-width:8; stroke-opacity:0.1; fill:none\" points=\"175.445,293.711 2352.76,293.711 \"/>\n",
       "<polyline clip-path=\"url(#clip533)\" style=\"stroke:#000000; stroke-linecap:round; stroke-linejoin:round; stroke-width:8; stroke-opacity:0.1; fill:none\" points=\"175.445,179.075 2352.76,179.075 \"/>\n",
       "<polyline clip-path=\"url(#clip533)\" style=\"stroke:#000000; stroke-linecap:round; stroke-linejoin:round; stroke-width:8; stroke-opacity:0.1; fill:none\" points=\"175.445,64.4395 2352.76,64.4395 \"/>\n",
       "<polyline clip-path=\"url(#clip530)\" style=\"stroke:#000000; stroke-linecap:round; stroke-linejoin:round; stroke-width:4; stroke-opacity:1; fill:none\" points=\"175.445,654.814 175.445,47.2441 \"/>\n",
       "<polyline clip-path=\"url(#clip530)\" style=\"stroke:#000000; stroke-linecap:round; stroke-linejoin:round; stroke-width:4; stroke-opacity:1; fill:none\" points=\"175.445,637.618 194.343,637.618 \"/>\n",
       "<polyline clip-path=\"url(#clip530)\" style=\"stroke:#000000; stroke-linecap:round; stroke-linejoin:round; stroke-width:4; stroke-opacity:1; fill:none\" points=\"175.445,522.983 194.343,522.983 \"/>\n",
       "<polyline clip-path=\"url(#clip530)\" style=\"stroke:#000000; stroke-linecap:round; stroke-linejoin:round; stroke-width:4; stroke-opacity:1; fill:none\" points=\"175.445,408.347 194.343,408.347 \"/>\n",
       "<polyline clip-path=\"url(#clip530)\" style=\"stroke:#000000; stroke-linecap:round; stroke-linejoin:round; stroke-width:4; stroke-opacity:1; fill:none\" points=\"175.445,293.711 194.343,293.711 \"/>\n",
       "<polyline clip-path=\"url(#clip530)\" style=\"stroke:#000000; stroke-linecap:round; stroke-linejoin:round; stroke-width:4; stroke-opacity:1; fill:none\" points=\"175.445,179.075 194.343,179.075 \"/>\n",
       "<polyline clip-path=\"url(#clip530)\" style=\"stroke:#000000; stroke-linecap:round; stroke-linejoin:round; stroke-width:4; stroke-opacity:1; fill:none\" points=\"175.445,64.4395 194.343,64.4395 \"/>\n",
       "<path clip-path=\"url(#clip530)\" d=\"M127.501 623.417 Q123.89 623.417 122.061 626.982 Q120.255 630.524 120.255 637.653 Q120.255 644.76 122.061 648.324 Q123.89 651.866 127.501 651.866 Q131.135 651.866 132.941 648.324 Q134.769 644.76 134.769 637.653 Q134.769 630.524 132.941 626.982 Q131.135 623.417 127.501 623.417 M127.501 619.713 Q133.311 619.713 136.367 624.32 Q139.445 628.903 139.445 637.653 Q139.445 646.38 136.367 650.986 Q133.311 655.57 127.501 655.57 Q121.691 655.57 118.612 650.986 Q115.556 646.38 115.556 637.653 Q115.556 628.903 118.612 624.32 Q121.691 619.713 127.501 619.713 Z\" fill=\"#000000\" fill-rule=\"evenodd\" fill-opacity=\"1\" /><path clip-path=\"url(#clip530)\" d=\"M119.538 536.328 L127.177 536.328 L127.177 509.962 L118.867 511.629 L118.867 507.369 L127.13 505.703 L131.806 505.703 L131.806 536.328 L139.445 536.328 L139.445 540.263 L119.538 540.263 L119.538 536.328 Z\" fill=\"#000000\" fill-rule=\"evenodd\" fill-opacity=\"1\" /><path clip-path=\"url(#clip530)\" d=\"M123.126 421.692 L139.445 421.692 L139.445 425.627 L117.501 425.627 L117.501 421.692 Q120.163 418.937 124.746 414.307 Q129.353 409.655 130.533 408.312 Q132.779 405.789 133.658 404.053 Q134.561 402.294 134.561 400.604 Q134.561 397.849 132.617 396.113 Q130.695 394.377 127.593 394.377 Q125.394 394.377 122.941 395.141 Q120.51 395.905 117.732 397.456 L117.732 392.734 Q120.556 391.599 123.01 391.021 Q125.464 390.442 127.501 390.442 Q132.871 390.442 136.066 393.127 Q139.26 395.812 139.26 400.303 Q139.26 402.433 138.45 404.354 Q137.663 406.252 135.556 408.845 Q134.978 409.516 131.876 412.733 Q128.774 415.928 123.126 421.692 Z\" fill=\"#000000\" fill-rule=\"evenodd\" fill-opacity=\"1\" /><path clip-path=\"url(#clip530)\" d=\"M132.316 292.357 Q135.672 293.075 137.547 295.343 Q139.445 297.612 139.445 300.945 Q139.445 306.061 135.927 308.861 Q132.408 311.662 125.927 311.662 Q123.751 311.662 121.436 311.223 Q119.144 310.806 116.691 309.949 L116.691 305.436 Q118.635 306.57 120.95 307.149 Q123.265 307.727 125.788 307.727 Q130.186 307.727 132.478 305.991 Q134.792 304.255 134.792 300.945 Q134.792 297.889 132.64 296.176 Q130.51 294.44 126.691 294.44 L122.663 294.44 L122.663 290.598 L126.876 290.598 Q130.325 290.598 132.154 289.232 Q133.982 287.843 133.982 285.25 Q133.982 282.588 132.084 281.176 Q130.209 279.741 126.691 279.741 Q124.769 279.741 122.57 280.158 Q120.371 280.575 117.732 281.454 L117.732 277.288 Q120.394 276.547 122.709 276.176 Q125.047 275.806 127.107 275.806 Q132.431 275.806 135.533 278.237 Q138.635 280.644 138.635 284.764 Q138.635 287.635 136.992 289.625 Q135.348 291.593 132.316 292.357 Z\" fill=\"#000000\" fill-rule=\"evenodd\" fill-opacity=\"1\" /><path clip-path=\"url(#clip530)\" d=\"M129.862 165.869 L118.056 184.318 L129.862 184.318 L129.862 165.869 M128.635 161.795 L134.515 161.795 L134.515 184.318 L139.445 184.318 L139.445 188.207 L134.515 188.207 L134.515 196.355 L129.862 196.355 L129.862 188.207 L114.26 188.207 L114.26 183.693 L128.635 161.795 Z\" fill=\"#000000\" fill-rule=\"evenodd\" fill-opacity=\"1\" /><path clip-path=\"url(#clip530)\" d=\"M118.543 47.1595 L136.899 47.1595 L136.899 51.0946 L122.825 51.0946 L122.825 59.5668 Q123.843 59.2196 124.862 59.0575 Q125.88 58.8724 126.899 58.8724 Q132.686 58.8724 136.066 62.0436 Q139.445 65.2149 139.445 70.6316 Q139.445 76.2102 135.973 79.3121 Q132.501 82.3908 126.181 82.3908 Q124.005 82.3908 121.737 82.0204 Q119.492 81.65 117.084 80.9093 L117.084 76.2102 Q119.168 77.3445 121.39 77.9 Q123.612 78.4556 126.089 78.4556 Q130.093 78.4556 132.431 76.3491 Q134.769 74.2427 134.769 70.6316 Q134.769 67.0205 132.431 64.914 Q130.093 62.8075 126.089 62.8075 Q124.214 62.8075 122.339 63.2242 Q120.487 63.6409 118.543 64.5205 L118.543 47.1595 Z\" fill=\"#000000\" fill-rule=\"evenodd\" fill-opacity=\"1\" /><path clip-path=\"url(#clip530)\" d=\"M56.6478 405.497 Q60.8023 406.334 63.1856 407.461 Q66.8248 409.297 66.8248 412.357 Q66.8248 414.482 65.6332 416.092 Q64.4094 417.671 62.3804 418.218 Q63.1856 418.83 63.7331 419.377 Q64.2806 419.893 65.1179 420.891 Q65.9231 421.89 66.3739 423.242 Q66.8248 424.563 66.8248 426.076 Q66.8248 427.236 66.5994 428.299 Q66.4062 429.361 65.8587 430.488 Q65.2789 431.583 64.4094 432.389 Q63.5398 433.162 62.1228 433.677 Q60.7057 434.192 58.9022 434.192 Q56.6478 434.192 53.5882 433.323 Q50.5287 432.421 45.0537 430.36 Q42.1551 429.232 40.5448 429.232 Q39.8041 429.232 39.321 429.394 Q38.8379 429.555 38.6769 429.877 Q38.4837 430.166 38.4515 430.36 Q38.3871 430.553 38.3871 430.875 Q38.3871 432.872 40.416 434.611 Q42.445 436.35 46.5673 437.542 Q47.3725 437.799 47.5657 437.96 Q47.759 438.121 47.759 438.604 Q47.7268 439.41 47.0826 439.41 Q46.825 439.41 45.8266 439.12 Q44.796 438.83 43.2823 438.153 Q41.7365 437.445 40.3516 436.479 Q38.9346 435.513 37.9362 433.999 Q36.9378 432.453 36.9378 430.682 Q36.9378 428.266 38.5159 426.785 Q40.0618 425.271 42.3484 425.271 Q43.7654 425.271 46.5029 426.398 Q56.0037 429.973 59.965 429.973 Q65.3434 429.973 65.3434 425.883 Q65.3434 424.53 64.7959 423.274 Q64.2484 421.986 63.4754 421.149 Q62.7025 420.311 61.8651 419.667 Q61.0278 418.991 60.4803 418.701 Q59.9328 418.379 59.804 418.347 L39.9651 413.419 Q39.1922 413.226 38.6769 412.872 Q38.1294 412.485 37.9362 412.035 Q37.7429 411.584 37.7107 411.326 Q37.6463 411.068 37.6463 410.843 Q37.6463 410.038 38.1294 409.49 Q38.6125 408.911 39.4498 408.911 Q39.6109 408.911 40.3838 409.104 Q41.1246 409.265 42.2196 409.522 Q43.2823 409.78 43.8621 409.909 Q47.92 410.94 48.3387 411.036 L55.4562 412.872 Q55.8748 412.969 57.2275 413.291 Q58.5801 413.58 59.2887 413.741 Q59.965 413.902 60.899 414.064 Q61.8007 414.192 62.316 414.192 Q63.9263 414.192 64.6348 413.709 Q65.3434 413.226 65.3434 412.163 Q65.3434 411.165 64.667 410.392 Q63.9585 409.587 62.6059 408.975 Q61.221 408.363 60.0938 408.009 Q58.9666 407.655 57.1953 407.204 Q56.4223 407.043 56.2291 406.914 Q56.0037 406.753 56.0037 406.302 Q56.0037 405.497 56.6478 405.497 Z\" fill=\"#000000\" fill-rule=\"evenodd\" fill-opacity=\"1\" /><path clip-path=\"url(#clip530)\" d=\"M82.5735 349.763 L16.6159 349.763 L16.6159 339.812 L18.1296 339.812 L18.1296 345.351 L81.0598 345.351 L81.0598 339.812 L82.5735 339.812 L82.5735 349.763 Z\" fill=\"#000000\" fill-rule=\"evenodd\" fill-opacity=\"1\" /><path clip-path=\"url(#clip530)\" d=\"M48.6607 288.071 Q49.0472 287.684 49.5947 287.684 Q50.1422 287.684 50.5287 288.071 Q50.9151 288.457 50.9151 289.005 L50.9151 330.293 Q50.9151 330.84 50.5287 331.226 Q50.1422 331.613 49.5947 331.613 Q49.0472 331.613 48.6607 331.226 Q48.2743 330.84 48.2743 330.293 L48.2743 289.005 Q48.2743 288.457 48.6607 288.071 Z\" fill=\"#000000\" fill-rule=\"evenodd\" fill-opacity=\"1\" /><path clip-path=\"url(#clip530)\" d=\"M81.0598 280.799 L81.0598 275.259 L18.1296 275.259 L18.1296 280.799 L16.6159 280.799 L16.6159 270.847 L82.5735 270.847 L82.5735 280.799 L81.0598 280.799 Z\" fill=\"#000000\" fill-rule=\"evenodd\" fill-opacity=\"1\" /><polyline clip-path=\"url(#clip533)\" style=\"stroke:#000000; stroke-linecap:round; stroke-linejoin:round; stroke-width:4; stroke-opacity:1; fill:none\" stroke-dasharray=\"2, 4\" points=\"237.067,64.4395 345.176,64.4395 453.285,64.4395 561.394,64.4395 669.502,64.4395 777.611,64.4395 885.72,64.4395 993.829,64.4395 1101.94,64.4395 1210.05,64.4395 1318.15,64.4395 1426.26,64.4395 1534.37,64.4395 1642.48,64.4395 1750.59,64.4395 1858.7,64.4395 1966.81,64.4395 2074.92,64.4395 2183.03,64.4395 2291.13,64.4395 \"/>\n",
       "<polyline clip-path=\"url(#clip533)\" style=\"stroke:#000000; stroke-linecap:round; stroke-linejoin:round; stroke-width:12; stroke-opacity:1; fill:none\" points=\"237.067,545.91 345.176,470.242 453.285,454.62 561.394,463.686 669.502,505.118 777.611,501.478 885.72,485.844 993.829,479.577 1101.94,493.274 1210.05,486.023 1318.15,483.234 1426.26,485.848 1534.37,493.206 1642.48,485.079 1750.59,484.186 1858.7,486.652 1966.81,492.151 2074.92,484.932 2183.03,484.623 2291.13,486.857 \"/>\n",
       "<circle clip-path=\"url(#clip533)\" cx=\"237.067\" cy=\"545.91\" r=\"10.8\" fill=\"#000000\" fill-rule=\"evenodd\" fill-opacity=\"1\" stroke=\"none\"/>\n",
       "<circle clip-path=\"url(#clip533)\" cx=\"345.176\" cy=\"470.242\" r=\"10.8\" fill=\"#000000\" fill-rule=\"evenodd\" fill-opacity=\"1\" stroke=\"none\"/>\n",
       "<circle clip-path=\"url(#clip533)\" cx=\"453.285\" cy=\"454.62\" r=\"10.8\" fill=\"#000000\" fill-rule=\"evenodd\" fill-opacity=\"1\" stroke=\"none\"/>\n",
       "<circle clip-path=\"url(#clip533)\" cx=\"561.394\" cy=\"463.686\" r=\"10.8\" fill=\"#000000\" fill-rule=\"evenodd\" fill-opacity=\"1\" stroke=\"none\"/>\n",
       "<circle clip-path=\"url(#clip533)\" cx=\"669.502\" cy=\"505.118\" r=\"10.8\" fill=\"#000000\" fill-rule=\"evenodd\" fill-opacity=\"1\" stroke=\"none\"/>\n",
       "<circle clip-path=\"url(#clip533)\" cx=\"777.611\" cy=\"501.478\" r=\"10.8\" fill=\"#000000\" fill-rule=\"evenodd\" fill-opacity=\"1\" stroke=\"none\"/>\n",
       "<circle clip-path=\"url(#clip533)\" cx=\"885.72\" cy=\"485.844\" r=\"10.8\" fill=\"#000000\" fill-rule=\"evenodd\" fill-opacity=\"1\" stroke=\"none\"/>\n",
       "<circle clip-path=\"url(#clip533)\" cx=\"993.829\" cy=\"479.577\" r=\"10.8\" fill=\"#000000\" fill-rule=\"evenodd\" fill-opacity=\"1\" stroke=\"none\"/>\n",
       "<circle clip-path=\"url(#clip533)\" cx=\"1101.94\" cy=\"493.274\" r=\"10.8\" fill=\"#000000\" fill-rule=\"evenodd\" fill-opacity=\"1\" stroke=\"none\"/>\n",
       "<circle clip-path=\"url(#clip533)\" cx=\"1210.05\" cy=\"486.023\" r=\"10.8\" fill=\"#000000\" fill-rule=\"evenodd\" fill-opacity=\"1\" stroke=\"none\"/>\n",
       "<circle clip-path=\"url(#clip533)\" cx=\"1318.15\" cy=\"483.234\" r=\"10.8\" fill=\"#000000\" fill-rule=\"evenodd\" fill-opacity=\"1\" stroke=\"none\"/>\n",
       "<circle clip-path=\"url(#clip533)\" cx=\"1426.26\" cy=\"485.848\" r=\"10.8\" fill=\"#000000\" fill-rule=\"evenodd\" fill-opacity=\"1\" stroke=\"none\"/>\n",
       "<circle clip-path=\"url(#clip533)\" cx=\"1534.37\" cy=\"493.206\" r=\"10.8\" fill=\"#000000\" fill-rule=\"evenodd\" fill-opacity=\"1\" stroke=\"none\"/>\n",
       "<circle clip-path=\"url(#clip533)\" cx=\"1642.48\" cy=\"485.079\" r=\"10.8\" fill=\"#000000\" fill-rule=\"evenodd\" fill-opacity=\"1\" stroke=\"none\"/>\n",
       "<circle clip-path=\"url(#clip533)\" cx=\"1750.59\" cy=\"484.186\" r=\"10.8\" fill=\"#000000\" fill-rule=\"evenodd\" fill-opacity=\"1\" stroke=\"none\"/>\n",
       "<circle clip-path=\"url(#clip533)\" cx=\"1858.7\" cy=\"486.652\" r=\"10.8\" fill=\"#000000\" fill-rule=\"evenodd\" fill-opacity=\"1\" stroke=\"none\"/>\n",
       "<circle clip-path=\"url(#clip533)\" cx=\"1966.81\" cy=\"492.151\" r=\"10.8\" fill=\"#000000\" fill-rule=\"evenodd\" fill-opacity=\"1\" stroke=\"none\"/>\n",
       "<circle clip-path=\"url(#clip533)\" cx=\"2074.92\" cy=\"484.932\" r=\"10.8\" fill=\"#000000\" fill-rule=\"evenodd\" fill-opacity=\"1\" stroke=\"none\"/>\n",
       "<circle clip-path=\"url(#clip533)\" cx=\"2183.03\" cy=\"484.623\" r=\"10.8\" fill=\"#000000\" fill-rule=\"evenodd\" fill-opacity=\"1\" stroke=\"none\"/>\n",
       "<circle clip-path=\"url(#clip533)\" cx=\"2291.13\" cy=\"486.857\" r=\"10.8\" fill=\"#000000\" fill-rule=\"evenodd\" fill-opacity=\"1\" stroke=\"none\"/>\n",
       "<polyline clip-path=\"url(#clip533)\" style=\"stroke:#000000; stroke-linecap:round; stroke-linejoin:round; stroke-width:8; stroke-opacity:0.1; fill:none\" points=\"237.067,522.983 345.176,428.398 453.285,408.473 561.394,420.123 669.502,473.15 777.611,469.004 885.72,448.841 993.829,440.049 1101.94,456.666 1210.05,447.873 1318.15,445.086 1426.26,448.614 1534.37,456.871 1642.48,446.681 1750.59,446.459 1858.7,449.591 1966.81,455.319 2074.92,446.771 2183.03,447.015 2291.13,449.799 \"/>\n",
       "<polyline clip-path=\"url(#clip533)\" style=\"stroke:#000000; stroke-linecap:round; stroke-linejoin:round; stroke-width:8; stroke-opacity:0.1; fill:none\" points=\"237.067,522.983 345.176,428.398 453.285,409.327 561.394,420.262 669.502,470.524 777.611,465.554 885.72,446.909 993.829,440.253 1101.94,457.639 1210.05,448.209 1318.15,444.224 1426.26,447.249 1534.37,457.615 1642.48,446.756 1750.59,444.865 1858.7,448.433 1966.81,456.668 2074.92,446.16 2183.03,445.634 2291.13,448.686 \"/>\n",
       "<polyline clip-path=\"url(#clip533)\" style=\"stroke:#000000; stroke-linecap:round; stroke-linejoin:round; stroke-width:8; stroke-opacity:0.1; fill:none\" points=\"237.067,522.983 345.176,428.398 453.285,409.226 561.394,420.244 669.502,470.835 777.611,465.968 885.72,447.148 993.829,440.24 1101.94,457.48 1210.05,448.121 1318.15,444.329 1426.26,447.451 1534.37,457.456 1642.48,446.713 1750.59,445.142 1858.7,448.567 1966.81,456.55 2074.92,446.144 2183.03,445.851 2291.13,448.843 \"/>\n",
       "<polyline clip-path=\"url(#clip533)\" style=\"stroke:#000000; stroke-linecap:round; stroke-linejoin:round; stroke-width:8; stroke-opacity:0.1; fill:none\" points=\"237.067,522.983 345.176,428.398 453.285,408.079 561.394,420.072 669.502,474.424 777.611,470.643 885.72,449.703 993.829,439.849 1101.94,456.27 1210.05,447.811 1318.15,445.489 1426.26,449.178 1534.37,456.119 1642.48,447.1 1750.59,447.212 1858.7,450.052 1966.81,454.411 2074.92,447.26 2183.03,447.734 2291.13,450.25 \"/>\n",
       "<polyline clip-path=\"url(#clip533)\" style=\"stroke:#000000; stroke-linecap:round; stroke-linejoin:round; stroke-width:8; stroke-opacity:0.1; fill:none\" points=\"237.067,522.983 345.176,428.398 453.285,408.226 561.394,420.09 669.502,473.948 777.611,470.033 885.72,449.386 993.829,439.93 1101.94,456.416 1210.05,447.83 1318.15,445.338 1426.26,448.973 1534.37,456.398 1642.48,446.938 1750.59,446.941 1858.7,449.875 1966.81,454.767 2074.92,447.059 2183.03,447.463 2291.13,450.129 \"/>\n",
       "<polyline clip-path=\"url(#clip533)\" style=\"stroke:#000000; stroke-linecap:round; stroke-linejoin:round; stroke-width:8; stroke-opacity:0.1; fill:none\" points=\"237.067,522.983 345.176,428.398 453.285,410.836 561.394,420.604 669.502,466.28 777.611,459.715 885.72,443.205 993.829,440.187 1101.94,459.855 1210.05,449.426 1318.15,442.318 1426.26,444.339 1534.37,458.919 1642.48,447.845 1750.59,442.785 1858.7,445.416 1966.81,458.259 2074.92,446.974 2183.03,443.003 2291.13,445.824 \"/>\n",
       "<polyline clip-path=\"url(#clip533)\" style=\"stroke:#000000; stroke-linecap:round; stroke-linejoin:round; stroke-width:8; stroke-opacity:0.1; fill:none\" points=\"237.067,522.983 345.176,428.398 453.285,408.522 561.394,420.13 669.502,472.994 777.611,468.802 885.72,448.732 993.829,440.069 1101.94,456.715 1210.05,447.882 1318.15,445.035 1426.26,448.541 1534.37,456.957 1642.48,446.635 1750.59,446.37 1858.7,449.533 1966.81,455.426 2074.92,446.712 2183.03,446.926 2291.13,449.732 \"/>\n",
       "<polyline clip-path=\"url(#clip533)\" style=\"stroke:#000000; stroke-linecap:round; stroke-linejoin:round; stroke-width:8; stroke-opacity:0.1; fill:none\" points=\"237.067,522.983 345.176,428.398 453.285,408.275 561.394,420.097 669.502,473.788 777.611,469.828 885.72,449.278 993.829,439.955 1101.94,456.466 1210.05,447.837 1318.15,445.288 1426.26,448.902 1534.37,456.491 1642.48,446.887 1750.59,446.845 1858.7,449.818 1966.81,454.876 2074.92,447.004 2183.03,447.372 2291.13,450.066 \"/>\n",
       "<polyline clip-path=\"url(#clip533)\" style=\"stroke:#000000; stroke-linecap:round; stroke-linejoin:round; stroke-width:8; stroke-opacity:0.1; fill:none\" points=\"237.067,637.618 345.176,637.618 453.285,637.618 561.394,637.618 669.502,637.618 777.611,637.618 885.72,637.618 993.829,637.618 1101.94,637.618 1210.05,637.618 1318.15,637.618 1426.26,637.618 1534.37,637.618 1642.48,637.618 1750.59,637.618 1858.7,637.618 1966.81,637.618 2074.92,637.618 2183.03,637.618 2291.13,637.618 \"/>\n",
       "<polyline clip-path=\"url(#clip533)\" style=\"stroke:#000000; stroke-linecap:round; stroke-linejoin:round; stroke-width:8; stroke-opacity:0.1; fill:none\" points=\"237.067,637.618 345.176,637.618 453.285,637.618 561.394,637.618 669.502,637.618 777.611,637.618 885.72,637.618 993.829,637.618 1101.94,637.618 1210.05,637.618 1318.15,637.618 1426.26,637.618 1534.37,637.618 1642.48,637.618 1750.59,637.618 1858.7,637.618 1966.81,637.618 2074.92,637.618 2183.03,637.618 2291.13,637.618 \"/>\n",
       "<path clip-path=\"url(#clip530)\" d=\"M175.445 1423.18 L2352.76 1423.18 L2352.76 815.61 L175.445 815.61  Z\" fill=\"#ffffff\" fill-rule=\"evenodd\" fill-opacity=\"1\"/>\n",
       "<defs>\n",
       "  <clipPath id=\"clip534\">\n",
       "    <rect x=\"175\" y=\"815\" width=\"2178\" height=\"609\"/>\n",
       "  </clipPath>\n",
       "</defs>\n",
       "<polyline clip-path=\"url(#clip534)\" style=\"stroke:#000000; stroke-linecap:round; stroke-linejoin:round; stroke-width:8; stroke-opacity:0.1; fill:none\" points=\"669.502,1423.18 669.502,815.61 \"/>\n",
       "<polyline clip-path=\"url(#clip534)\" style=\"stroke:#000000; stroke-linecap:round; stroke-linejoin:round; stroke-width:8; stroke-opacity:0.1; fill:none\" points=\"1210.05,1423.18 1210.05,815.61 \"/>\n",
       "<polyline clip-path=\"url(#clip534)\" style=\"stroke:#000000; stroke-linecap:round; stroke-linejoin:round; stroke-width:8; stroke-opacity:0.1; fill:none\" points=\"1750.59,1423.18 1750.59,815.61 \"/>\n",
       "<polyline clip-path=\"url(#clip534)\" style=\"stroke:#000000; stroke-linecap:round; stroke-linejoin:round; stroke-width:8; stroke-opacity:0.1; fill:none\" points=\"2291.13,1423.18 2291.13,815.61 \"/>\n",
       "<polyline clip-path=\"url(#clip530)\" style=\"stroke:#000000; stroke-linecap:round; stroke-linejoin:round; stroke-width:4; stroke-opacity:1; fill:none\" points=\"175.445,1423.18 2352.76,1423.18 \"/>\n",
       "<polyline clip-path=\"url(#clip530)\" style=\"stroke:#000000; stroke-linecap:round; stroke-linejoin:round; stroke-width:4; stroke-opacity:1; fill:none\" points=\"669.502,1423.18 669.502,1404.28 \"/>\n",
       "<polyline clip-path=\"url(#clip530)\" style=\"stroke:#000000; stroke-linecap:round; stroke-linejoin:round; stroke-width:4; stroke-opacity:1; fill:none\" points=\"1210.05,1423.18 1210.05,1404.28 \"/>\n",
       "<polyline clip-path=\"url(#clip530)\" style=\"stroke:#000000; stroke-linecap:round; stroke-linejoin:round; stroke-width:4; stroke-opacity:1; fill:none\" points=\"1750.59,1423.18 1750.59,1404.28 \"/>\n",
       "<polyline clip-path=\"url(#clip530)\" style=\"stroke:#000000; stroke-linecap:round; stroke-linejoin:round; stroke-width:4; stroke-opacity:1; fill:none\" points=\"2291.13,1423.18 2291.13,1404.28 \"/>\n",
       "<path clip-path=\"url(#clip530)\" d=\"M659.78 1451.02 L678.137 1451.02 L678.137 1454.96 L664.063 1454.96 L664.063 1463.43 Q665.081 1463.08 666.1 1462.92 Q667.118 1462.73 668.137 1462.73 Q673.924 1462.73 677.303 1465.9 Q680.683 1469.08 680.683 1474.49 Q680.683 1480.07 677.211 1483.17 Q673.738 1486.25 667.419 1486.25 Q665.243 1486.25 662.975 1485.88 Q660.729 1485.51 658.322 1484.77 L658.322 1480.07 Q660.405 1481.2 662.627 1481.76 Q664.85 1482.32 667.326 1482.32 Q671.331 1482.32 673.669 1480.21 Q676.007 1478.1 676.007 1474.49 Q676.007 1470.88 673.669 1468.77 Q671.331 1466.67 667.326 1466.67 Q665.451 1466.67 663.576 1467.08 Q661.725 1467.5 659.78 1468.38 L659.78 1451.02 Z\" fill=\"#000000\" fill-rule=\"evenodd\" fill-opacity=\"1\" /><path clip-path=\"url(#clip530)\" d=\"M1184.73 1481.64 L1192.37 1481.64 L1192.37 1455.28 L1184.06 1456.95 L1184.06 1452.69 L1192.33 1451.02 L1197 1451.02 L1197 1481.64 L1204.64 1481.64 L1204.64 1485.58 L1184.73 1485.58 L1184.73 1481.64 Z\" fill=\"#000000\" fill-rule=\"evenodd\" fill-opacity=\"1\" /><path clip-path=\"url(#clip530)\" d=\"M1224.09 1454.1 Q1220.47 1454.1 1218.65 1457.66 Q1216.84 1461.2 1216.84 1468.33 Q1216.84 1475.44 1218.65 1479.01 Q1220.47 1482.55 1224.09 1482.55 Q1227.72 1482.55 1229.53 1479.01 Q1231.35 1475.44 1231.35 1468.33 Q1231.35 1461.2 1229.53 1457.66 Q1227.72 1454.1 1224.09 1454.1 M1224.09 1450.39 Q1229.9 1450.39 1232.95 1455 Q1236.03 1459.58 1236.03 1468.33 Q1236.03 1477.06 1232.95 1481.67 Q1229.9 1486.25 1224.09 1486.25 Q1218.28 1486.25 1215.2 1481.67 Q1212.14 1477.06 1212.14 1468.33 Q1212.14 1459.58 1215.2 1455 Q1218.28 1450.39 1224.09 1450.39 Z\" fill=\"#000000\" fill-rule=\"evenodd\" fill-opacity=\"1\" /><path clip-path=\"url(#clip530)\" d=\"M1725.78 1481.64 L1733.41 1481.64 L1733.41 1455.28 L1725.1 1456.95 L1725.1 1452.69 L1733.37 1451.02 L1738.04 1451.02 L1738.04 1481.64 L1745.68 1481.64 L1745.68 1485.58 L1725.78 1485.58 L1725.78 1481.64 Z\" fill=\"#000000\" fill-rule=\"evenodd\" fill-opacity=\"1\" /><path clip-path=\"url(#clip530)\" d=\"M1755.17 1451.02 L1773.53 1451.02 L1773.53 1454.96 L1759.46 1454.96 L1759.46 1463.43 Q1760.47 1463.08 1761.49 1462.92 Q1762.51 1462.73 1763.53 1462.73 Q1769.32 1462.73 1772.7 1465.9 Q1776.08 1469.08 1776.08 1474.49 Q1776.08 1480.07 1772.6 1483.17 Q1769.13 1486.25 1762.81 1486.25 Q1760.64 1486.25 1758.37 1485.88 Q1756.12 1485.51 1753.72 1484.77 L1753.72 1480.07 Q1755.8 1481.2 1758.02 1481.76 Q1760.24 1482.32 1762.72 1482.32 Q1766.72 1482.32 1769.06 1480.21 Q1771.4 1478.1 1771.4 1474.49 Q1771.4 1470.88 1769.06 1468.77 Q1766.72 1466.67 1762.72 1466.67 Q1760.84 1466.67 1758.97 1467.08 Q1757.12 1467.5 1755.17 1468.38 L1755.17 1451.02 Z\" fill=\"#000000\" fill-rule=\"evenodd\" fill-opacity=\"1\" /><path clip-path=\"url(#clip530)\" d=\"M2269.91 1481.64 L2286.23 1481.64 L2286.23 1485.58 L2264.28 1485.58 L2264.28 1481.64 Q2266.94 1478.89 2271.53 1474.26 Q2276.13 1469.61 2277.31 1468.27 Q2279.56 1465.74 2280.44 1464.01 Q2281.34 1462.25 2281.34 1460.56 Q2281.34 1457.8 2279.4 1456.07 Q2277.48 1454.33 2274.37 1454.33 Q2272.18 1454.33 2269.72 1455.09 Q2267.29 1455.86 2264.51 1457.41 L2264.51 1452.69 Q2267.34 1451.55 2269.79 1450.97 Q2272.25 1450.39 2274.28 1450.39 Q2279.65 1450.39 2282.85 1453.08 Q2286.04 1455.77 2286.04 1460.26 Q2286.04 1462.39 2285.23 1464.31 Q2284.44 1466.2 2282.34 1468.8 Q2281.76 1469.47 2278.66 1472.69 Q2275.56 1475.88 2269.91 1481.64 Z\" fill=\"#000000\" fill-rule=\"evenodd\" fill-opacity=\"1\" /><path clip-path=\"url(#clip530)\" d=\"M2306.04 1454.1 Q2302.43 1454.1 2300.6 1457.66 Q2298.8 1461.2 2298.8 1468.33 Q2298.8 1475.44 2300.6 1479.01 Q2302.43 1482.55 2306.04 1482.55 Q2309.68 1482.55 2311.48 1479.01 Q2313.31 1475.44 2313.31 1468.33 Q2313.31 1461.2 2311.48 1457.66 Q2309.68 1454.1 2306.04 1454.1 M2306.04 1450.39 Q2311.85 1450.39 2314.91 1455 Q2317.99 1459.58 2317.99 1468.33 Q2317.99 1477.06 2314.91 1481.67 Q2311.85 1486.25 2306.04 1486.25 Q2300.23 1486.25 2297.15 1481.67 Q2294.1 1477.06 2294.1 1468.33 Q2294.1 1459.58 2297.15 1455 Q2300.23 1450.39 2306.04 1450.39 Z\" fill=\"#000000\" fill-rule=\"evenodd\" fill-opacity=\"1\" /><path clip-path=\"url(#clip530)\" d=\"M1107.07 1522.27 L1107.07 1532.4 L1119.14 1532.4 L1119.14 1536.95 L1107.07 1536.95 L1107.07 1556.3 Q1107.07 1560.66 1108.25 1561.9 Q1109.46 1563.14 1113.12 1563.14 L1119.14 1563.14 L1119.14 1568.04 L1113.12 1568.04 Q1106.34 1568.04 1103.76 1565.53 Q1101.19 1562.98 1101.19 1556.3 L1101.19 1536.95 L1096.89 1536.95 L1096.89 1532.4 L1101.19 1532.4 L1101.19 1522.27 L1107.07 1522.27 Z\" fill=\"#000000\" fill-rule=\"evenodd\" fill-opacity=\"1\" /><path clip-path=\"url(#clip530)\" d=\"M1126.84 1532.4 L1132.7 1532.4 L1132.7 1568.04 L1126.84 1568.04 L1126.84 1532.4 M1126.84 1518.52 L1132.7 1518.52 L1132.7 1525.93 L1126.84 1525.93 L1126.84 1518.52 Z\" fill=\"#000000\" fill-rule=\"evenodd\" fill-opacity=\"1\" /><path clip-path=\"url(#clip530)\" d=\"M1172.7 1539.24 Q1174.9 1535.29 1177.96 1533.41 Q1181.01 1531.54 1185.15 1531.54 Q1190.72 1531.54 1193.74 1535.45 Q1196.77 1539.33 1196.77 1546.53 L1196.77 1568.04 L1190.88 1568.04 L1190.88 1546.72 Q1190.88 1541.59 1189.06 1539.11 Q1187.25 1536.63 1183.53 1536.63 Q1178.98 1536.63 1176.33 1539.65 Q1173.69 1542.68 1173.69 1547.9 L1173.69 1568.04 L1167.8 1568.04 L1167.8 1546.72 Q1167.8 1541.56 1165.99 1539.11 Q1164.17 1536.63 1160.39 1536.63 Q1155.9 1536.63 1153.26 1539.68 Q1150.62 1542.71 1150.62 1547.9 L1150.62 1568.04 L1144.73 1568.04 L1144.73 1532.4 L1150.62 1532.4 L1150.62 1537.93 Q1152.62 1534.66 1155.42 1533.1 Q1158.22 1531.54 1162.07 1531.54 Q1165.96 1531.54 1168.66 1533.51 Q1171.4 1535.48 1172.7 1539.24 Z\" fill=\"#000000\" fill-rule=\"evenodd\" fill-opacity=\"1\" /><path clip-path=\"url(#clip530)\" d=\"M1238.94 1548.76 L1238.94 1551.62 L1212.01 1551.62 Q1212.4 1557.67 1215.64 1560.85 Q1218.92 1564 1224.74 1564 Q1228.12 1564 1231.27 1563.17 Q1234.45 1562.35 1237.57 1560.69 L1237.57 1566.23 Q1234.42 1567.57 1231.11 1568.27 Q1227.8 1568.97 1224.39 1568.97 Q1215.86 1568.97 1210.87 1564 Q1205.9 1559.04 1205.9 1550.57 Q1205.9 1541.82 1210.61 1536.69 Q1215.36 1531.54 1223.38 1531.54 Q1230.57 1531.54 1234.74 1536.18 Q1238.94 1540.8 1238.94 1548.76 M1233.08 1547.04 Q1233.02 1542.23 1230.38 1539.37 Q1227.77 1536.5 1223.44 1536.5 Q1218.54 1536.5 1215.58 1539.27 Q1212.65 1542.04 1212.2 1547.07 L1233.08 1547.04 Z\" fill=\"#000000\" fill-rule=\"evenodd\" fill-opacity=\"1\" /><path clip-path=\"url(#clip530)\" d=\"M1268.73 1518.52 L1282.23 1518.52 L1282.23 1523.07 L1274.59 1523.07 L1274.59 1572.09 L1282.23 1572.09 L1282.23 1576.64 L1268.73 1576.64 L1268.73 1518.52 Z\" fill=\"#000000\" fill-rule=\"evenodd\" fill-opacity=\"1\" /><path clip-path=\"url(#clip530)\" d=\"M1322.46 1539.24 Q1324.65 1535.29 1327.71 1533.41 Q1330.77 1531.54 1334.9 1531.54 Q1340.47 1531.54 1343.5 1535.45 Q1346.52 1539.33 1346.52 1546.53 L1346.52 1568.04 L1340.63 1568.04 L1340.63 1546.72 Q1340.63 1541.59 1338.82 1539.11 Q1337 1536.63 1333.28 1536.63 Q1328.73 1536.63 1326.09 1539.65 Q1323.44 1542.68 1323.44 1547.9 L1323.44 1568.04 L1317.56 1568.04 L1317.56 1546.72 Q1317.56 1541.56 1315.74 1539.11 Q1313.93 1536.63 1310.14 1536.63 Q1305.65 1536.63 1303.01 1539.68 Q1300.37 1542.71 1300.37 1547.9 L1300.37 1568.04 L1294.48 1568.04 L1294.48 1532.4 L1300.37 1532.4 L1300.37 1537.93 Q1302.37 1534.66 1305.18 1533.1 Q1307.98 1531.54 1311.83 1531.54 Q1315.71 1531.54 1318.42 1533.51 Q1321.15 1535.48 1322.46 1539.24 Z\" fill=\"#000000\" fill-rule=\"evenodd\" fill-opacity=\"1\" /><path clip-path=\"url(#clip530)\" d=\"M1358.2 1532.4 L1364.06 1532.4 L1364.06 1568.04 L1358.2 1568.04 L1358.2 1532.4 M1358.2 1518.52 L1364.06 1518.52 L1364.06 1525.93 L1358.2 1525.93 L1358.2 1518.52 Z\" fill=\"#000000\" fill-rule=\"evenodd\" fill-opacity=\"1\" /><path clip-path=\"url(#clip530)\" d=\"M1405.94 1546.53 L1405.94 1568.04 L1400.09 1568.04 L1400.09 1546.72 Q1400.09 1541.66 1398.11 1539.14 Q1396.14 1536.63 1392.19 1536.63 Q1387.45 1536.63 1384.71 1539.65 Q1381.98 1542.68 1381.98 1547.9 L1381.98 1568.04 L1376.09 1568.04 L1376.09 1532.4 L1381.98 1532.4 L1381.98 1537.93 Q1384.08 1534.72 1386.91 1533.13 Q1389.78 1531.54 1393.5 1531.54 Q1399.64 1531.54 1402.79 1535.36 Q1405.94 1539.14 1405.94 1546.53 Z\" fill=\"#000000\" fill-rule=\"evenodd\" fill-opacity=\"1\" /><path clip-path=\"url(#clip530)\" d=\"M1431.31 1518.52 L1431.31 1576.64 L1417.82 1576.64 L1417.82 1572.09 L1425.42 1572.09 L1425.42 1523.07 L1417.82 1523.07 L1417.82 1518.52 L1431.31 1518.52 Z\" fill=\"#000000\" fill-rule=\"evenodd\" fill-opacity=\"1\" /><polyline clip-path=\"url(#clip534)\" style=\"stroke:#000000; stroke-linecap:round; stroke-linejoin:round; stroke-width:8; stroke-opacity:0.1; fill:none\" points=\"175.445,1405.98 2352.76,1405.98 \"/>\n",
       "<polyline clip-path=\"url(#clip534)\" style=\"stroke:#000000; stroke-linecap:round; stroke-linejoin:round; stroke-width:8; stroke-opacity:0.1; fill:none\" points=\"175.445,1291.35 2352.76,1291.35 \"/>\n",
       "<polyline clip-path=\"url(#clip534)\" style=\"stroke:#000000; stroke-linecap:round; stroke-linejoin:round; stroke-width:8; stroke-opacity:0.1; fill:none\" points=\"175.445,1176.71 2352.76,1176.71 \"/>\n",
       "<polyline clip-path=\"url(#clip534)\" style=\"stroke:#000000; stroke-linecap:round; stroke-linejoin:round; stroke-width:8; stroke-opacity:0.1; fill:none\" points=\"175.445,1062.08 2352.76,1062.08 \"/>\n",
       "<polyline clip-path=\"url(#clip534)\" style=\"stroke:#000000; stroke-linecap:round; stroke-linejoin:round; stroke-width:8; stroke-opacity:0.1; fill:none\" points=\"175.445,947.441 2352.76,947.441 \"/>\n",
       "<polyline clip-path=\"url(#clip534)\" style=\"stroke:#000000; stroke-linecap:round; stroke-linejoin:round; stroke-width:8; stroke-opacity:0.1; fill:none\" points=\"175.445,832.805 2352.76,832.805 \"/>\n",
       "<polyline clip-path=\"url(#clip530)\" style=\"stroke:#000000; stroke-linecap:round; stroke-linejoin:round; stroke-width:4; stroke-opacity:1; fill:none\" points=\"175.445,1423.18 175.445,815.61 \"/>\n",
       "<polyline clip-path=\"url(#clip530)\" style=\"stroke:#000000; stroke-linecap:round; stroke-linejoin:round; stroke-width:4; stroke-opacity:1; fill:none\" points=\"175.445,1405.98 194.343,1405.98 \"/>\n",
       "<polyline clip-path=\"url(#clip530)\" style=\"stroke:#000000; stroke-linecap:round; stroke-linejoin:round; stroke-width:4; stroke-opacity:1; fill:none\" points=\"175.445,1291.35 194.343,1291.35 \"/>\n",
       "<polyline clip-path=\"url(#clip530)\" style=\"stroke:#000000; stroke-linecap:round; stroke-linejoin:round; stroke-width:4; stroke-opacity:1; fill:none\" points=\"175.445,1176.71 194.343,1176.71 \"/>\n",
       "<polyline clip-path=\"url(#clip530)\" style=\"stroke:#000000; stroke-linecap:round; stroke-linejoin:round; stroke-width:4; stroke-opacity:1; fill:none\" points=\"175.445,1062.08 194.343,1062.08 \"/>\n",
       "<polyline clip-path=\"url(#clip530)\" style=\"stroke:#000000; stroke-linecap:round; stroke-linejoin:round; stroke-width:4; stroke-opacity:1; fill:none\" points=\"175.445,947.441 194.343,947.441 \"/>\n",
       "<polyline clip-path=\"url(#clip530)\" style=\"stroke:#000000; stroke-linecap:round; stroke-linejoin:round; stroke-width:4; stroke-opacity:1; fill:none\" points=\"175.445,832.805 194.343,832.805 \"/>\n",
       "<path clip-path=\"url(#clip530)\" d=\"M127.501 1391.78 Q123.89 1391.78 122.061 1395.35 Q120.255 1398.89 120.255 1406.02 Q120.255 1413.13 122.061 1416.69 Q123.89 1420.23 127.501 1420.23 Q131.135 1420.23 132.941 1416.69 Q134.769 1413.13 134.769 1406.02 Q134.769 1398.89 132.941 1395.35 Q131.135 1391.78 127.501 1391.78 M127.501 1388.08 Q133.311 1388.08 136.367 1392.69 Q139.445 1397.27 139.445 1406.02 Q139.445 1414.75 136.367 1419.35 Q133.311 1423.94 127.501 1423.94 Q121.691 1423.94 118.612 1419.35 Q115.556 1414.75 115.556 1406.02 Q115.556 1397.27 118.612 1392.69 Q121.691 1388.08 127.501 1388.08 Z\" fill=\"#000000\" fill-rule=\"evenodd\" fill-opacity=\"1\" /><path clip-path=\"url(#clip530)\" d=\"M119.538 1304.69 L127.177 1304.69 L127.177 1278.33 L118.867 1279.99 L118.867 1275.74 L127.13 1274.07 L131.806 1274.07 L131.806 1304.69 L139.445 1304.69 L139.445 1308.63 L119.538 1308.63 L119.538 1304.69 Z\" fill=\"#000000\" fill-rule=\"evenodd\" fill-opacity=\"1\" /><path clip-path=\"url(#clip530)\" d=\"M123.126 1190.06 L139.445 1190.06 L139.445 1193.99 L117.501 1193.99 L117.501 1190.06 Q120.163 1187.3 124.746 1182.67 Q129.353 1178.02 130.533 1176.68 Q132.779 1174.16 133.658 1172.42 Q134.561 1170.66 134.561 1168.97 Q134.561 1166.22 132.617 1164.48 Q130.695 1162.74 127.593 1162.74 Q125.394 1162.74 122.941 1163.51 Q120.51 1164.27 117.732 1165.82 L117.732 1161.1 Q120.556 1159.97 123.01 1159.39 Q125.464 1158.81 127.501 1158.81 Q132.871 1158.81 136.066 1161.49 Q139.26 1164.18 139.26 1168.67 Q139.26 1170.8 138.45 1172.72 Q137.663 1174.62 135.556 1177.21 Q134.978 1177.88 131.876 1181.1 Q128.774 1184.29 123.126 1190.06 Z\" fill=\"#000000\" fill-rule=\"evenodd\" fill-opacity=\"1\" /><path clip-path=\"url(#clip530)\" d=\"M132.316 1060.72 Q135.672 1061.44 137.547 1063.71 Q139.445 1065.98 139.445 1069.31 Q139.445 1074.43 135.927 1077.23 Q132.408 1080.03 125.927 1080.03 Q123.751 1080.03 121.436 1079.59 Q119.144 1079.17 116.691 1078.32 L116.691 1073.8 Q118.635 1074.94 120.95 1075.51 Q123.265 1076.09 125.788 1076.09 Q130.186 1076.09 132.478 1074.36 Q134.792 1072.62 134.792 1069.31 Q134.792 1066.26 132.64 1064.54 Q130.51 1062.81 126.691 1062.81 L122.663 1062.81 L122.663 1058.96 L126.876 1058.96 Q130.325 1058.96 132.154 1057.6 Q133.982 1056.21 133.982 1053.62 Q133.982 1050.95 132.084 1049.54 Q130.209 1048.11 126.691 1048.11 Q124.769 1048.11 122.57 1048.52 Q120.371 1048.94 117.732 1049.82 L117.732 1045.65 Q120.394 1044.91 122.709 1044.54 Q125.047 1044.17 127.107 1044.17 Q132.431 1044.17 135.533 1046.6 Q138.635 1049.01 138.635 1053.13 Q138.635 1056 136.992 1057.99 Q135.348 1059.96 132.316 1060.72 Z\" fill=\"#000000\" fill-rule=\"evenodd\" fill-opacity=\"1\" /><path clip-path=\"url(#clip530)\" d=\"M129.862 934.235 L118.056 952.684 L129.862 952.684 L129.862 934.235 M128.635 930.161 L134.515 930.161 L134.515 952.684 L139.445 952.684 L139.445 956.573 L134.515 956.573 L134.515 964.721 L129.862 964.721 L129.862 956.573 L114.26 956.573 L114.26 952.059 L128.635 930.161 Z\" fill=\"#000000\" fill-rule=\"evenodd\" fill-opacity=\"1\" /><path clip-path=\"url(#clip530)\" d=\"M118.543 815.525 L136.899 815.525 L136.899 819.461 L122.825 819.461 L122.825 827.933 Q123.843 827.586 124.862 827.424 Q125.88 827.238 126.899 827.238 Q132.686 827.238 136.066 830.41 Q139.445 833.581 139.445 838.998 Q139.445 844.576 135.973 847.678 Q132.501 850.757 126.181 850.757 Q124.005 850.757 121.737 850.386 Q119.492 850.016 117.084 849.275 L117.084 844.576 Q119.168 845.71 121.39 846.266 Q123.612 846.822 126.089 846.822 Q130.093 846.822 132.431 844.715 Q134.769 842.609 134.769 838.998 Q134.769 835.386 132.431 833.28 Q130.093 831.174 126.089 831.174 Q124.214 831.174 122.339 831.59 Q120.487 832.007 118.543 832.886 L118.543 815.525 Z\" fill=\"#000000\" fill-rule=\"evenodd\" fill-opacity=\"1\" /><path clip-path=\"url(#clip530)\" d=\"M56.6478 1173.86 Q60.8023 1174.7 63.1856 1175.83 Q66.8248 1177.66 66.8248 1180.72 Q66.8248 1182.85 65.6332 1184.46 Q64.4094 1186.04 62.3804 1186.58 Q63.1856 1187.2 63.7331 1187.74 Q64.2806 1188.26 65.1179 1189.26 Q65.9231 1190.26 66.3739 1191.61 Q66.8248 1192.93 66.8248 1194.44 Q66.8248 1195.6 66.5994 1196.66 Q66.4062 1197.73 65.8587 1198.85 Q65.2789 1199.95 64.4094 1200.75 Q63.5398 1201.53 62.1228 1202.04 Q60.7057 1202.56 58.9022 1202.56 Q56.6478 1202.56 53.5882 1201.69 Q50.5287 1200.79 45.0537 1198.73 Q42.1551 1197.6 40.5448 1197.6 Q39.8041 1197.6 39.321 1197.76 Q38.8379 1197.92 38.6769 1198.24 Q38.4837 1198.53 38.4515 1198.73 Q38.3871 1198.92 38.3871 1199.24 Q38.3871 1201.24 40.416 1202.98 Q42.445 1204.72 46.5673 1205.91 Q47.3725 1206.17 47.5657 1206.33 Q47.759 1206.49 47.759 1206.97 Q47.7268 1207.78 47.0826 1207.78 Q46.825 1207.78 45.8266 1207.49 Q44.796 1207.2 43.2823 1206.52 Q41.7365 1205.81 40.3516 1204.84 Q38.9346 1203.88 37.9362 1202.36 Q36.9378 1200.82 36.9378 1199.05 Q36.9378 1196.63 38.5159 1195.15 Q40.0618 1193.64 42.3484 1193.64 Q43.7654 1193.64 46.5029 1194.76 Q56.0037 1198.34 59.965 1198.34 Q65.3434 1198.34 65.3434 1194.25 Q65.3434 1192.9 64.7959 1191.64 Q64.2484 1190.35 63.4754 1189.51 Q62.7025 1188.68 61.8651 1188.03 Q61.0278 1187.36 60.4803 1187.07 Q59.9328 1186.75 59.804 1186.71 L39.9651 1181.79 Q39.1922 1181.59 38.6769 1181.24 Q38.1294 1180.85 37.9362 1180.4 Q37.7429 1179.95 37.7107 1179.69 Q37.6463 1179.43 37.6463 1179.21 Q37.6463 1178.4 38.1294 1177.86 Q38.6125 1177.28 39.4498 1177.28 Q39.6109 1177.28 40.3838 1177.47 Q41.1246 1177.63 42.2196 1177.89 Q43.2823 1178.15 43.8621 1178.27 Q47.92 1179.31 48.3387 1179.4 L55.4562 1181.24 Q55.8748 1181.33 57.2275 1181.66 Q58.5801 1181.95 59.2887 1182.11 Q59.965 1182.27 60.899 1182.43 Q61.8007 1182.56 62.316 1182.56 Q63.9263 1182.56 64.6348 1182.08 Q65.3434 1181.59 65.3434 1180.53 Q65.3434 1179.53 64.667 1178.76 Q63.9585 1177.95 62.6059 1177.34 Q61.221 1176.73 60.0938 1176.37 Q58.9666 1176.02 57.1953 1175.57 Q56.4223 1175.41 56.2291 1175.28 Q56.0037 1175.12 56.0037 1174.67 Q56.0037 1173.86 56.6478 1173.86 Z\" fill=\"#000000\" fill-rule=\"evenodd\" fill-opacity=\"1\" /><path clip-path=\"url(#clip530)\" d=\"M82.5735 1118.13 L16.6159 1118.13 L16.6159 1108.18 L18.1296 1108.18 L18.1296 1113.72 L81.0598 1113.72 L81.0598 1108.18 L82.5735 1108.18 L82.5735 1118.13 Z\" fill=\"#000000\" fill-rule=\"evenodd\" fill-opacity=\"1\" /><path clip-path=\"url(#clip530)\" d=\"M48.6607 1056.44 Q49.0472 1056.05 49.5947 1056.05 Q50.1422 1056.05 50.5287 1056.44 Q50.9151 1056.82 50.9151 1057.37 L50.9151 1098.66 Q50.9151 1099.21 50.5287 1099.59 Q50.1422 1099.98 49.5947 1099.98 Q49.0472 1099.98 48.6607 1099.59 Q48.2743 1099.21 48.2743 1098.66 L48.2743 1057.37 Q48.2743 1056.82 48.6607 1056.44 Z\" fill=\"#000000\" fill-rule=\"evenodd\" fill-opacity=\"1\" /><path clip-path=\"url(#clip530)\" d=\"M81.0598 1049.16 L81.0598 1043.63 L18.1296 1043.63 L18.1296 1049.16 L16.6159 1049.16 L16.6159 1039.21 L82.5735 1039.21 L82.5735 1049.16 L81.0598 1049.16 Z\" fill=\"#000000\" fill-rule=\"evenodd\" fill-opacity=\"1\" /><polyline clip-path=\"url(#clip534)\" style=\"stroke:#000000; stroke-linecap:round; stroke-linejoin:round; stroke-width:4; stroke-opacity:1; fill:none\" stroke-dasharray=\"2, 4\" points=\"237.067,832.805 345.176,832.805 453.285,832.805 561.394,832.805 669.502,832.805 777.611,832.805 885.72,832.805 993.829,832.805 1101.94,832.805 1210.05,832.805 1318.15,832.805 1426.26,832.805 1534.37,832.805 1642.48,832.805 1750.59,832.805 1858.7,832.805 1966.81,832.805 2074.92,832.805 2183.03,832.805 2291.13,832.805 \"/>\n",
       "<polyline clip-path=\"url(#clip534)\" style=\"stroke:#000000; stroke-linecap:round; stroke-linejoin:round; stroke-width:12; stroke-opacity:1; fill:none\" stroke-dasharray=\"48, 24, 6, 24\" points=\"237.067,1314.28 345.176,1238.61 453.285,1222.99 561.394,1232.05 669.502,1289.47 777.611,1286.09 885.72,1272.79 993.829,1267.91 1101.94,1279.45 1210.05,1273.16 1318.15,1271.05 1426.26,1273.38 1534.37,1279.15 1642.48,1272.58 1750.59,1271.8 1858.7,1273.86 1966.81,1278.98 2074.92,1272.47 2183.03,1271.71 2291.13,1273.9 \"/>\n",
       "<path clip-path=\"url(#clip534)\" d=\"M225.067 1302.28 L225.067 1326.28 L249.067 1326.28 L249.067 1302.28 L225.067 1302.28 Z\" fill=\"#000000\" fill-rule=\"evenodd\" fill-opacity=\"1\" stroke=\"none\"/>\n",
       "<path clip-path=\"url(#clip534)\" d=\"M333.176 1226.61 L333.176 1250.61 L357.176 1250.61 L357.176 1226.61 L333.176 1226.61 Z\" fill=\"#000000\" fill-rule=\"evenodd\" fill-opacity=\"1\" stroke=\"none\"/>\n",
       "<path clip-path=\"url(#clip534)\" d=\"M441.285 1210.99 L441.285 1234.99 L465.285 1234.99 L465.285 1210.99 L441.285 1210.99 Z\" fill=\"#000000\" fill-rule=\"evenodd\" fill-opacity=\"1\" stroke=\"none\"/>\n",
       "<path clip-path=\"url(#clip534)\" d=\"M549.394 1220.05 L549.394 1244.05 L573.394 1244.05 L573.394 1220.05 L549.394 1220.05 Z\" fill=\"#000000\" fill-rule=\"evenodd\" fill-opacity=\"1\" stroke=\"none\"/>\n",
       "<path clip-path=\"url(#clip534)\" d=\"M657.502 1277.47 L657.502 1301.47 L681.502 1301.47 L681.502 1277.47 L657.502 1277.47 Z\" fill=\"#000000\" fill-rule=\"evenodd\" fill-opacity=\"1\" stroke=\"none\"/>\n",
       "<path clip-path=\"url(#clip534)\" d=\"M765.611 1274.09 L765.611 1298.09 L789.611 1298.09 L789.611 1274.09 L765.611 1274.09 Z\" fill=\"#000000\" fill-rule=\"evenodd\" fill-opacity=\"1\" stroke=\"none\"/>\n",
       "<path clip-path=\"url(#clip534)\" d=\"M873.72 1260.79 L873.72 1284.79 L897.72 1284.79 L897.72 1260.79 L873.72 1260.79 Z\" fill=\"#000000\" fill-rule=\"evenodd\" fill-opacity=\"1\" stroke=\"none\"/>\n",
       "<path clip-path=\"url(#clip534)\" d=\"M981.829 1255.91 L981.829 1279.91 L1005.83 1279.91 L1005.83 1255.91 L981.829 1255.91 Z\" fill=\"#000000\" fill-rule=\"evenodd\" fill-opacity=\"1\" stroke=\"none\"/>\n",
       "<path clip-path=\"url(#clip534)\" d=\"M1089.94 1267.45 L1089.94 1291.45 L1113.94 1291.45 L1113.94 1267.45 L1089.94 1267.45 Z\" fill=\"#000000\" fill-rule=\"evenodd\" fill-opacity=\"1\" stroke=\"none\"/>\n",
       "<path clip-path=\"url(#clip534)\" d=\"M1198.05 1261.16 L1198.05 1285.16 L1222.05 1285.16 L1222.05 1261.16 L1198.05 1261.16 Z\" fill=\"#000000\" fill-rule=\"evenodd\" fill-opacity=\"1\" stroke=\"none\"/>\n",
       "<path clip-path=\"url(#clip534)\" d=\"M1306.15 1259.05 L1306.15 1283.05 L1330.15 1283.05 L1330.15 1259.05 L1306.15 1259.05 Z\" fill=\"#000000\" fill-rule=\"evenodd\" fill-opacity=\"1\" stroke=\"none\"/>\n",
       "<path clip-path=\"url(#clip534)\" d=\"M1414.26 1261.38 L1414.26 1285.38 L1438.26 1285.38 L1438.26 1261.38 L1414.26 1261.38 Z\" fill=\"#000000\" fill-rule=\"evenodd\" fill-opacity=\"1\" stroke=\"none\"/>\n",
       "<path clip-path=\"url(#clip534)\" d=\"M1522.37 1267.15 L1522.37 1291.15 L1546.37 1291.15 L1546.37 1267.15 L1522.37 1267.15 Z\" fill=\"#000000\" fill-rule=\"evenodd\" fill-opacity=\"1\" stroke=\"none\"/>\n",
       "<path clip-path=\"url(#clip534)\" d=\"M1630.48 1260.58 L1630.48 1284.58 L1654.48 1284.58 L1654.48 1260.58 L1630.48 1260.58 Z\" fill=\"#000000\" fill-rule=\"evenodd\" fill-opacity=\"1\" stroke=\"none\"/>\n",
       "<path clip-path=\"url(#clip534)\" d=\"M1738.59 1259.8 L1738.59 1283.8 L1762.59 1283.8 L1762.59 1259.8 L1738.59 1259.8 Z\" fill=\"#000000\" fill-rule=\"evenodd\" fill-opacity=\"1\" stroke=\"none\"/>\n",
       "<path clip-path=\"url(#clip534)\" d=\"M1846.7 1261.86 L1846.7 1285.86 L1870.7 1285.86 L1870.7 1261.86 L1846.7 1261.86 Z\" fill=\"#000000\" fill-rule=\"evenodd\" fill-opacity=\"1\" stroke=\"none\"/>\n",
       "<path clip-path=\"url(#clip534)\" d=\"M1954.81 1266.98 L1954.81 1290.98 L1978.81 1290.98 L1978.81 1266.98 L1954.81 1266.98 Z\" fill=\"#000000\" fill-rule=\"evenodd\" fill-opacity=\"1\" stroke=\"none\"/>\n",
       "<path clip-path=\"url(#clip534)\" d=\"M2062.92 1260.47 L2062.92 1284.47 L2086.92 1284.47 L2086.92 1260.47 L2062.92 1260.47 Z\" fill=\"#000000\" fill-rule=\"evenodd\" fill-opacity=\"1\" stroke=\"none\"/>\n",
       "<path clip-path=\"url(#clip534)\" d=\"M2171.03 1259.71 L2171.03 1283.71 L2195.03 1283.71 L2195.03 1259.71 L2171.03 1259.71 Z\" fill=\"#000000\" fill-rule=\"evenodd\" fill-opacity=\"1\" stroke=\"none\"/>\n",
       "<path clip-path=\"url(#clip534)\" d=\"M2279.13 1261.9 L2279.13 1285.9 L2303.13 1285.9 L2303.13 1261.9 L2279.13 1261.9 Z\" fill=\"#000000\" fill-rule=\"evenodd\" fill-opacity=\"1\" stroke=\"none\"/>\n",
       "<polyline clip-path=\"url(#clip534)\" style=\"stroke:#000000; stroke-linecap:round; stroke-linejoin:round; stroke-width:8; stroke-opacity:0.1; fill:none\" points=\"237.067,1291.35 345.176,1196.77 453.285,1176.85 561.394,1188.49 669.502,1240.9 777.611,1236.55 885.72,1216.79 993.829,1208.69 1101.94,1224.37 1210.05,1215.9 1318.15,1214 1426.26,1217.62 1534.37,1224.42 1642.48,1214.76 1750.59,1214.86 1858.7,1218.38 1966.81,1222.86 2074.92,1215.23 2183.03,1215.7 2291.13,1218.35 \"/>\n",
       "<polyline clip-path=\"url(#clip534)\" style=\"stroke:#000000; stroke-linecap:round; stroke-linejoin:round; stroke-width:8; stroke-opacity:0.1; fill:none\" points=\"237.067,1291.35 345.176,1196.77 453.285,1177.7 561.394,1188.63 669.502,1239.42 777.611,1234.63 885.72,1215.64 993.829,1208.4 1101.94,1225.33 1210.05,1216.13 1318.15,1212.73 1426.26,1215.99 1534.37,1226.69 1642.48,1215.42 1750.59,1212.78 1858.7,1216.23 1966.81,1226.99 2074.92,1215.55 2183.03,1212.67 2291.13,1216.06 \"/>\n",
       "<polyline clip-path=\"url(#clip534)\" style=\"stroke:#000000; stroke-linecap:round; stroke-linejoin:round; stroke-width:8; stroke-opacity:0.1; fill:none\" points=\"237.067,1291.35 345.176,1196.77 453.285,1177.6 561.394,1188.61 669.502,1239.79 777.611,1235.13 885.72,1215.93 993.829,1208.36 1101.94,1225.24 1210.05,1216.11 1318.15,1212.83 1426.26,1216.13 1534.37,1226.86 1642.48,1215.52 1750.59,1212.79 1858.7,1216.23 1966.81,1227.06 2074.92,1215.63 2183.03,1212.76 2291.13,1216.15 \"/>\n",
       "<polyline clip-path=\"url(#clip534)\" style=\"stroke:#000000; stroke-linecap:round; stroke-linejoin:round; stroke-width:8; stroke-opacity:0.1; fill:none\" points=\"237.067,1291.35 345.176,1196.77 453.285,1176.45 561.394,1188.44 669.502,1240.84 777.611,1236.41 885.72,1216.79 993.829,1209.14 1101.94,1224.89 1210.05,1216.26 1318.15,1214.14 1426.26,1217.77 1534.37,1222.41 1642.48,1216.1 1750.59,1216.82 1858.7,1218.72 1966.81,1223.14 2074.92,1214.46 2183.03,1215.17 2291.13,1219.34 \"/>\n",
       "<polyline clip-path=\"url(#clip534)\" style=\"stroke:#000000; stroke-linecap:round; stroke-linejoin:round; stroke-width:8; stroke-opacity:0.1; fill:none\" points=\"237.067,1291.35 345.176,1196.77 453.285,1176.6 561.394,1188.46 669.502,1240.57 777.611,1236.08 885.72,1216.6 993.829,1209.11 1101.94,1225.31 1210.05,1216.41 1318.15,1213.78 1426.26,1217.32 1534.37,1223.61 1642.48,1215.75 1750.59,1215.95 1858.7,1218.45 1966.81,1221.82 2074.92,1214.98 2183.03,1216.1 2291.13,1218.98 \"/>\n",
       "<polyline clip-path=\"url(#clip534)\" style=\"stroke:#000000; stroke-linecap:round; stroke-linejoin:round; stroke-width:8; stroke-opacity:0.1; fill:none\" points=\"237.067,1291.35 345.176,1196.77 453.285,1179.21 561.394,1188.97 669.502,1234.39 777.611,1227.63 885.72,1211.39 993.829,1208.75 1101.94,1227.07 1210.05,1216.94 1318.15,1211.13 1426.26,1213.49 1534.37,1226.15 1642.48,1215.04 1750.59,1211.5 1858.7,1214.5 1966.81,1227.23 2074.92,1215.74 2183.03,1211.06 2291.13,1213.84 \"/>\n",
       "<polyline clip-path=\"url(#clip534)\" style=\"stroke:#000000; stroke-linecap:round; stroke-linejoin:round; stroke-width:8; stroke-opacity:0.1; fill:none\" points=\"237.067,1291.35 345.176,1196.77 453.285,1176.89 561.394,1188.5 669.502,1240.87 777.611,1236.51 885.72,1216.77 993.829,1208.65 1101.94,1224.36 1210.05,1215.87 1318.15,1213.96 1426.26,1217.57 1534.37,1223.39 1642.48,1215.27 1750.59,1215.29 1858.7,1218.09 1966.81,1222.71 2074.92,1215.12 2183.03,1215.71 2291.13,1218.37 \"/>\n",
       "<polyline clip-path=\"url(#clip534)\" style=\"stroke:#000000; stroke-linecap:round; stroke-linejoin:round; stroke-width:8; stroke-opacity:0.1; fill:none\" points=\"237.067,1291.35 345.176,1196.77 453.285,1176.65 561.394,1188.46 669.502,1405.98 777.611,1405.98 885.72,1405.98 993.829,1405.98 1101.94,1405.98 1210.05,1405.98 1318.15,1405.98 1426.26,1405.98 1534.37,1405.98 1642.48,1405.98 1750.59,1405.98 1858.7,1405.98 1966.81,1405.98 2074.92,1405.98 2183.03,1405.98 2291.13,1405.98 \"/>\n",
       "<polyline clip-path=\"url(#clip534)\" style=\"stroke:#000000; stroke-linecap:round; stroke-linejoin:round; stroke-width:8; stroke-opacity:0.1; fill:none\" points=\"237.067,1405.98 345.176,1405.98 453.285,1405.98 561.394,1405.98 669.502,1405.98 777.611,1405.98 885.72,1405.98 993.829,1405.98 1101.94,1405.98 1210.05,1405.98 1318.15,1405.98 1426.26,1405.98 1534.37,1405.98 1642.48,1405.98 1750.59,1405.98 1858.7,1405.98 1966.81,1405.98 2074.92,1405.98 2183.03,1405.98 2291.13,1405.98 \"/>\n",
       "<polyline clip-path=\"url(#clip534)\" style=\"stroke:#000000; stroke-linecap:round; stroke-linejoin:round; stroke-width:8; stroke-opacity:0.1; fill:none\" points=\"237.067,1405.98 345.176,1405.98 453.285,1405.98 561.394,1405.98 669.502,1405.98 777.611,1405.98 885.72,1405.98 993.829,1405.98 1101.94,1405.98 1210.05,1405.98 1318.15,1405.98 1426.26,1405.98 1534.37,1405.98 1642.48,1405.98 1750.59,1405.98 1858.7,1405.98 1966.81,1405.98 2074.92,1405.98 2183.03,1405.98 2291.13,1405.98 \"/>\n",
       "</svg>\n"
      ]
     },
     "execution_count": 24,
     "metadata": {},
     "output_type": "execute_result"
    }
   ],
   "source": [
    "mc_plot(L\"u \\quad [-]\",ts,uMean[:,1,:],uPlant,uMax)"
   ]
  },
  {
   "cell_type": "code",
   "execution_count": 31,
   "id": "141b81c4",
   "metadata": {},
   "outputs": [
    {
     "data": {
      "image/svg+xml": [
       "<?xml version=\"1.0\" encoding=\"utf-8\"?>\n",
       "<svg xmlns=\"http://www.w3.org/2000/svg\" xmlns:xlink=\"http://www.w3.org/1999/xlink\" width=\"600\" height=\"400\" viewBox=\"0 0 2400 1600\">\n",
       "<defs>\n",
       "  <clipPath id=\"clip730\">\n",
       "    <rect x=\"0\" y=\"0\" width=\"2400\" height=\"1600\"/>\n",
       "  </clipPath>\n",
       "</defs>\n",
       "<path clip-path=\"url(#clip730)\" d=\"M0 1600 L2400 1600 L2400 0 L0 0  Z\" fill=\"#ffffff\" fill-rule=\"evenodd\" fill-opacity=\"1\"/>\n",
       "<defs>\n",
       "  <clipPath id=\"clip731\">\n",
       "    <rect x=\"480\" y=\"0\" width=\"1681\" height=\"1600\"/>\n",
       "  </clipPath>\n",
       "</defs>\n",
       "<defs>\n",
       "  <clipPath id=\"clip732\">\n",
       "    <rect x=\"175\" y=\"47\" width=\"2178\" height=\"1377\"/>\n",
       "  </clipPath>\n",
       "</defs>\n",
       "<path clip-path=\"url(#clip730)\" d=\"M219.033 1423.18 L2352.76 1423.18 L2352.76 47.2441 L219.033 47.2441  Z\" fill=\"#ffffff\" fill-rule=\"evenodd\" fill-opacity=\"1\"/>\n",
       "<defs>\n",
       "  <clipPath id=\"clip733\">\n",
       "    <rect x=\"219\" y=\"47\" width=\"2135\" height=\"1377\"/>\n",
       "  </clipPath>\n",
       "</defs>\n",
       "<polyline clip-path=\"url(#clip733)\" style=\"stroke:#000000; stroke-linecap:round; stroke-linejoin:round; stroke-width:8; stroke-opacity:0.1; fill:none\" points=\"703.199,1423.18 703.199,47.2441 \"/>\n",
       "<polyline clip-path=\"url(#clip733)\" style=\"stroke:#000000; stroke-linecap:round; stroke-linejoin:round; stroke-width:8; stroke-opacity:0.1; fill:none\" points=\"1232.92,1423.18 1232.92,47.2441 \"/>\n",
       "<polyline clip-path=\"url(#clip733)\" style=\"stroke:#000000; stroke-linecap:round; stroke-linejoin:round; stroke-width:8; stroke-opacity:0.1; fill:none\" points=\"1762.64,1423.18 1762.64,47.2441 \"/>\n",
       "<polyline clip-path=\"url(#clip733)\" style=\"stroke:#000000; stroke-linecap:round; stroke-linejoin:round; stroke-width:8; stroke-opacity:0.1; fill:none\" points=\"2292.37,1423.18 2292.37,47.2441 \"/>\n",
       "<polyline clip-path=\"url(#clip730)\" style=\"stroke:#000000; stroke-linecap:round; stroke-linejoin:round; stroke-width:4; stroke-opacity:1; fill:none\" points=\"219.033,1423.18 2352.76,1423.18 \"/>\n",
       "<polyline clip-path=\"url(#clip730)\" style=\"stroke:#000000; stroke-linecap:round; stroke-linejoin:round; stroke-width:4; stroke-opacity:1; fill:none\" points=\"703.199,1423.18 703.199,1404.28 \"/>\n",
       "<polyline clip-path=\"url(#clip730)\" style=\"stroke:#000000; stroke-linecap:round; stroke-linejoin:round; stroke-width:4; stroke-opacity:1; fill:none\" points=\"1232.92,1423.18 1232.92,1404.28 \"/>\n",
       "<polyline clip-path=\"url(#clip730)\" style=\"stroke:#000000; stroke-linecap:round; stroke-linejoin:round; stroke-width:4; stroke-opacity:1; fill:none\" points=\"1762.64,1423.18 1762.64,1404.28 \"/>\n",
       "<polyline clip-path=\"url(#clip730)\" style=\"stroke:#000000; stroke-linecap:round; stroke-linejoin:round; stroke-width:4; stroke-opacity:1; fill:none\" points=\"2292.37,1423.18 2292.37,1404.28 \"/>\n",
       "<path clip-path=\"url(#clip730)\" d=\"M693.477 1451.02 L711.834 1451.02 L711.834 1454.96 L697.76 1454.96 L697.76 1463.43 Q698.778 1463.08 699.797 1462.92 Q700.815 1462.73 701.834 1462.73 Q707.621 1462.73 711 1465.9 Q714.38 1469.08 714.38 1474.49 Q714.38 1480.07 710.908 1483.17 Q707.436 1486.25 701.116 1486.25 Q698.94 1486.25 696.672 1485.88 Q694.426 1485.51 692.019 1484.77 L692.019 1480.07 Q694.102 1481.2 696.325 1481.76 Q698.547 1482.32 701.024 1482.32 Q705.028 1482.32 707.366 1480.21 Q709.704 1478.1 709.704 1474.49 Q709.704 1470.88 707.366 1468.77 Q705.028 1466.67 701.024 1466.67 Q699.149 1466.67 697.274 1467.08 Q695.422 1467.5 693.477 1468.38 L693.477 1451.02 Z\" fill=\"#000000\" fill-rule=\"evenodd\" fill-opacity=\"1\" /><path clip-path=\"url(#clip730)\" d=\"M1207.61 1481.64 L1215.25 1481.64 L1215.25 1455.28 L1206.94 1456.95 L1206.94 1452.69 L1215.2 1451.02 L1219.88 1451.02 L1219.88 1481.64 L1227.52 1481.64 L1227.52 1485.58 L1207.61 1485.58 L1207.61 1481.64 Z\" fill=\"#000000\" fill-rule=\"evenodd\" fill-opacity=\"1\" /><path clip-path=\"url(#clip730)\" d=\"M1246.96 1454.1 Q1243.35 1454.1 1241.52 1457.66 Q1239.72 1461.2 1239.72 1468.33 Q1239.72 1475.44 1241.52 1479.01 Q1243.35 1482.55 1246.96 1482.55 Q1250.6 1482.55 1252.4 1479.01 Q1254.23 1475.44 1254.23 1468.33 Q1254.23 1461.2 1252.4 1457.66 Q1250.6 1454.1 1246.96 1454.1 M1246.96 1450.39 Q1252.77 1450.39 1255.83 1455 Q1258.91 1459.58 1258.91 1468.33 Q1258.91 1477.06 1255.83 1481.67 Q1252.77 1486.25 1246.96 1486.25 Q1241.15 1486.25 1238.07 1481.67 Q1235.02 1477.06 1235.02 1468.33 Q1235.02 1459.58 1238.07 1455 Q1241.15 1450.39 1246.96 1450.39 Z\" fill=\"#000000\" fill-rule=\"evenodd\" fill-opacity=\"1\" /><path clip-path=\"url(#clip730)\" d=\"M1737.83 1481.64 L1745.47 1481.64 L1745.47 1455.28 L1737.16 1456.95 L1737.16 1452.69 L1745.42 1451.02 L1750.1 1451.02 L1750.1 1481.64 L1757.74 1481.64 L1757.74 1485.58 L1737.83 1485.58 L1737.83 1481.64 Z\" fill=\"#000000\" fill-rule=\"evenodd\" fill-opacity=\"1\" /><path clip-path=\"url(#clip730)\" d=\"M1767.23 1451.02 L1785.58 1451.02 L1785.58 1454.96 L1771.51 1454.96 L1771.51 1463.43 Q1772.53 1463.08 1773.55 1462.92 Q1774.57 1462.73 1775.58 1462.73 Q1781.37 1462.73 1784.75 1465.9 Q1788.13 1469.08 1788.13 1474.49 Q1788.13 1480.07 1784.66 1483.17 Q1781.19 1486.25 1774.87 1486.25 Q1772.69 1486.25 1770.42 1485.88 Q1768.18 1485.51 1765.77 1484.77 L1765.77 1480.07 Q1767.85 1481.2 1770.08 1481.76 Q1772.3 1482.32 1774.77 1482.32 Q1778.78 1482.32 1781.12 1480.21 Q1783.45 1478.1 1783.45 1474.49 Q1783.45 1470.88 1781.12 1468.77 Q1778.78 1466.67 1774.77 1466.67 Q1772.9 1466.67 1771.02 1467.08 Q1769.17 1467.5 1767.23 1468.38 L1767.23 1451.02 Z\" fill=\"#000000\" fill-rule=\"evenodd\" fill-opacity=\"1\" /><path clip-path=\"url(#clip730)\" d=\"M2271.14 1481.64 L2287.46 1481.64 L2287.46 1485.58 L2265.52 1485.58 L2265.52 1481.64 Q2268.18 1478.89 2272.76 1474.26 Q2277.37 1469.61 2278.55 1468.27 Q2280.79 1465.74 2281.67 1464.01 Q2282.58 1462.25 2282.58 1460.56 Q2282.58 1457.8 2280.63 1456.07 Q2278.71 1454.33 2275.61 1454.33 Q2273.41 1454.33 2270.96 1455.09 Q2268.53 1455.86 2265.75 1457.41 L2265.75 1452.69 Q2268.57 1451.55 2271.03 1450.97 Q2273.48 1450.39 2275.52 1450.39 Q2280.89 1450.39 2284.08 1453.08 Q2287.27 1455.77 2287.27 1460.26 Q2287.27 1462.39 2286.46 1464.31 Q2285.68 1466.2 2283.57 1468.8 Q2282.99 1469.47 2279.89 1472.69 Q2276.79 1475.88 2271.14 1481.64 Z\" fill=\"#000000\" fill-rule=\"evenodd\" fill-opacity=\"1\" /><path clip-path=\"url(#clip730)\" d=\"M2307.27 1454.1 Q2303.66 1454.1 2301.84 1457.66 Q2300.03 1461.2 2300.03 1468.33 Q2300.03 1475.44 2301.84 1479.01 Q2303.66 1482.55 2307.27 1482.55 Q2310.91 1482.55 2312.71 1479.01 Q2314.54 1475.44 2314.54 1468.33 Q2314.54 1461.2 2312.71 1457.66 Q2310.91 1454.1 2307.27 1454.1 M2307.27 1450.39 Q2313.09 1450.39 2316.14 1455 Q2319.22 1459.58 2319.22 1468.33 Q2319.22 1477.06 2316.14 1481.67 Q2313.09 1486.25 2307.27 1486.25 Q2301.46 1486.25 2298.39 1481.67 Q2295.33 1477.06 2295.33 1468.33 Q2295.33 1459.58 2298.39 1455 Q2301.46 1450.39 2307.27 1450.39 Z\" fill=\"#000000\" fill-rule=\"evenodd\" fill-opacity=\"1\" /><path clip-path=\"url(#clip730)\" d=\"M1128.87 1522.27 L1128.87 1532.4 L1140.93 1532.4 L1140.93 1536.95 L1128.87 1536.95 L1128.87 1556.3 Q1128.87 1560.66 1130.05 1561.9 Q1131.26 1563.14 1134.92 1563.14 L1140.93 1563.14 L1140.93 1568.04 L1134.92 1568.04 Q1128.14 1568.04 1125.56 1565.53 Q1122.98 1562.98 1122.98 1556.3 L1122.98 1536.95 L1118.68 1536.95 L1118.68 1532.4 L1122.98 1532.4 L1122.98 1522.27 L1128.87 1522.27 Z\" fill=\"#000000\" fill-rule=\"evenodd\" fill-opacity=\"1\" /><path clip-path=\"url(#clip730)\" d=\"M1148.63 1532.4 L1154.49 1532.4 L1154.49 1568.04 L1148.63 1568.04 L1148.63 1532.4 M1148.63 1518.52 L1154.49 1518.52 L1154.49 1525.93 L1148.63 1525.93 L1148.63 1518.52 Z\" fill=\"#000000\" fill-rule=\"evenodd\" fill-opacity=\"1\" /><path clip-path=\"url(#clip730)\" d=\"M1194.5 1539.24 Q1196.69 1535.29 1199.75 1533.41 Q1202.81 1531.54 1206.94 1531.54 Q1212.51 1531.54 1215.54 1535.45 Q1218.56 1539.33 1218.56 1546.53 L1218.56 1568.04 L1212.67 1568.04 L1212.67 1546.72 Q1212.67 1541.59 1210.86 1539.11 Q1209.04 1536.63 1205.32 1536.63 Q1200.77 1536.63 1198.13 1539.65 Q1195.49 1542.68 1195.49 1547.9 L1195.49 1568.04 L1189.6 1568.04 L1189.6 1546.72 Q1189.6 1541.56 1187.78 1539.11 Q1185.97 1536.63 1182.18 1536.63 Q1177.69 1536.63 1175.05 1539.68 Q1172.41 1542.71 1172.41 1547.9 L1172.41 1568.04 L1166.52 1568.04 L1166.52 1532.4 L1172.41 1532.4 L1172.41 1537.93 Q1174.41 1534.66 1177.22 1533.1 Q1180.02 1531.54 1183.87 1531.54 Q1187.75 1531.54 1190.46 1533.51 Q1193.19 1535.48 1194.5 1539.24 Z\" fill=\"#000000\" fill-rule=\"evenodd\" fill-opacity=\"1\" /><path clip-path=\"url(#clip730)\" d=\"M1260.73 1548.76 L1260.73 1551.62 L1233.81 1551.62 Q1234.19 1557.67 1237.44 1560.85 Q1240.71 1564 1246.54 1564 Q1249.91 1564 1253.06 1563.17 Q1256.25 1562.35 1259.37 1560.69 L1259.37 1566.23 Q1256.21 1567.57 1252.9 1568.27 Q1249.59 1568.97 1246.19 1568.97 Q1237.66 1568.97 1232.66 1564 Q1227.7 1559.04 1227.7 1550.57 Q1227.7 1541.82 1232.41 1536.69 Q1237.15 1531.54 1245.17 1531.54 Q1252.36 1531.54 1256.53 1536.18 Q1260.73 1540.8 1260.73 1548.76 M1254.88 1547.04 Q1254.81 1542.23 1252.17 1539.37 Q1249.56 1536.5 1245.23 1536.5 Q1240.33 1536.5 1237.37 1539.27 Q1234.44 1542.04 1234 1547.07 L1254.88 1547.04 Z\" fill=\"#000000\" fill-rule=\"evenodd\" fill-opacity=\"1\" /><path clip-path=\"url(#clip730)\" d=\"M1290.53 1518.52 L1304.02 1518.52 L1304.02 1523.07 L1296.38 1523.07 L1296.38 1572.09 L1304.02 1572.09 L1304.02 1576.64 L1290.53 1576.64 L1290.53 1518.52 Z\" fill=\"#000000\" fill-rule=\"evenodd\" fill-opacity=\"1\" /><path clip-path=\"url(#clip730)\" d=\"M1344.25 1539.24 Q1346.45 1535.29 1349.5 1533.41 Q1352.56 1531.54 1356.7 1531.54 Q1362.27 1531.54 1365.29 1535.45 Q1368.31 1539.33 1368.31 1546.53 L1368.31 1568.04 L1362.43 1568.04 L1362.43 1546.72 Q1362.43 1541.59 1360.61 1539.11 Q1358.8 1536.63 1355.07 1536.63 Q1350.52 1536.63 1347.88 1539.65 Q1345.24 1542.68 1345.24 1547.9 L1345.24 1568.04 L1339.35 1568.04 L1339.35 1546.72 Q1339.35 1541.56 1337.54 1539.11 Q1335.72 1536.63 1331.93 1536.63 Q1327.45 1536.63 1324.8 1539.68 Q1322.16 1542.71 1322.16 1547.9 L1322.16 1568.04 L1316.27 1568.04 L1316.27 1532.4 L1322.16 1532.4 L1322.16 1537.93 Q1324.17 1534.66 1326.97 1533.1 Q1329.77 1531.54 1333.62 1531.54 Q1337.5 1531.54 1340.21 1533.51 Q1342.95 1535.48 1344.25 1539.24 Z\" fill=\"#000000\" fill-rule=\"evenodd\" fill-opacity=\"1\" /><path clip-path=\"url(#clip730)\" d=\"M1380 1532.4 L1385.85 1532.4 L1385.85 1568.04 L1380 1568.04 L1380 1532.4 M1380 1518.52 L1385.85 1518.52 L1385.85 1525.93 L1380 1525.93 L1380 1518.52 Z\" fill=\"#000000\" fill-rule=\"evenodd\" fill-opacity=\"1\" /><path clip-path=\"url(#clip730)\" d=\"M1427.74 1546.53 L1427.74 1568.04 L1421.88 1568.04 L1421.88 1546.72 Q1421.88 1541.66 1419.91 1539.14 Q1417.94 1536.63 1413.99 1536.63 Q1409.25 1536.63 1406.51 1539.65 Q1403.77 1542.68 1403.77 1547.9 L1403.77 1568.04 L1397.88 1568.04 L1397.88 1532.4 L1403.77 1532.4 L1403.77 1537.93 Q1405.87 1534.72 1408.7 1533.13 Q1411.57 1531.54 1415.29 1531.54 Q1421.44 1531.54 1424.59 1535.36 Q1427.74 1539.14 1427.74 1546.53 Z\" fill=\"#000000\" fill-rule=\"evenodd\" fill-opacity=\"1\" /><path clip-path=\"url(#clip730)\" d=\"M1453.11 1518.52 L1453.11 1576.64 L1439.61 1576.64 L1439.61 1572.09 L1447.22 1572.09 L1447.22 1523.07 L1439.61 1523.07 L1439.61 1518.52 L1453.11 1518.52 Z\" fill=\"#000000\" fill-rule=\"evenodd\" fill-opacity=\"1\" /><polyline clip-path=\"url(#clip733)\" style=\"stroke:#000000; stroke-linecap:round; stroke-linejoin:round; stroke-width:8; stroke-opacity:0.1; fill:none\" points=\"219.033,1384.24 2352.76,1384.24 \"/>\n",
       "<polyline clip-path=\"url(#clip733)\" style=\"stroke:#000000; stroke-linecap:round; stroke-linejoin:round; stroke-width:8; stroke-opacity:0.1; fill:none\" points=\"219.033,1059.73 2352.76,1059.73 \"/>\n",
       "<polyline clip-path=\"url(#clip733)\" style=\"stroke:#000000; stroke-linecap:round; stroke-linejoin:round; stroke-width:8; stroke-opacity:0.1; fill:none\" points=\"219.033,735.212 2352.76,735.212 \"/>\n",
       "<polyline clip-path=\"url(#clip733)\" style=\"stroke:#000000; stroke-linecap:round; stroke-linejoin:round; stroke-width:8; stroke-opacity:0.1; fill:none\" points=\"219.033,410.699 2352.76,410.699 \"/>\n",
       "<polyline clip-path=\"url(#clip733)\" style=\"stroke:#000000; stroke-linecap:round; stroke-linejoin:round; stroke-width:8; stroke-opacity:0.1; fill:none\" points=\"219.033,86.1857 2352.76,86.1857 \"/>\n",
       "<polyline clip-path=\"url(#clip730)\" style=\"stroke:#000000; stroke-linecap:round; stroke-linejoin:round; stroke-width:4; stroke-opacity:1; fill:none\" points=\"219.033,1423.18 219.033,47.2441 \"/>\n",
       "<polyline clip-path=\"url(#clip730)\" style=\"stroke:#000000; stroke-linecap:round; stroke-linejoin:round; stroke-width:4; stroke-opacity:1; fill:none\" points=\"219.033,1384.24 237.931,1384.24 \"/>\n",
       "<polyline clip-path=\"url(#clip730)\" style=\"stroke:#000000; stroke-linecap:round; stroke-linejoin:round; stroke-width:4; stroke-opacity:1; fill:none\" points=\"219.033,1059.73 237.931,1059.73 \"/>\n",
       "<polyline clip-path=\"url(#clip730)\" style=\"stroke:#000000; stroke-linecap:round; stroke-linejoin:round; stroke-width:4; stroke-opacity:1; fill:none\" points=\"219.033,735.212 237.931,735.212 \"/>\n",
       "<polyline clip-path=\"url(#clip730)\" style=\"stroke:#000000; stroke-linecap:round; stroke-linejoin:round; stroke-width:4; stroke-opacity:1; fill:none\" points=\"219.033,410.699 237.931,410.699 \"/>\n",
       "<polyline clip-path=\"url(#clip730)\" style=\"stroke:#000000; stroke-linecap:round; stroke-linejoin:round; stroke-width:4; stroke-opacity:1; fill:none\" points=\"219.033,86.1857 237.931,86.1857 \"/>\n",
       "<path clip-path=\"url(#clip730)\" d=\"M116.668 1397.58 L124.306 1397.58 L124.306 1371.22 L115.996 1372.88 L115.996 1368.62 L124.26 1366.96 L128.936 1366.96 L128.936 1397.58 L136.575 1397.58 L136.575 1401.52 L116.668 1401.52 L116.668 1397.58 Z\" fill=\"#000000\" fill-rule=\"evenodd\" fill-opacity=\"1\" /><path clip-path=\"url(#clip730)\" d=\"M146.019 1395.64 L150.903 1395.64 L150.903 1401.52 L146.019 1401.52 L146.019 1395.64 Z\" fill=\"#000000\" fill-rule=\"evenodd\" fill-opacity=\"1\" /><path clip-path=\"url(#clip730)\" d=\"M171.089 1370.04 Q167.477 1370.04 165.649 1373.6 Q163.843 1377.14 163.843 1384.27 Q163.843 1391.38 165.649 1394.94 Q167.477 1398.49 171.089 1398.49 Q174.723 1398.49 176.528 1394.94 Q178.357 1391.38 178.357 1384.27 Q178.357 1377.14 176.528 1373.6 Q174.723 1370.04 171.089 1370.04 M171.089 1366.33 Q176.899 1366.33 179.954 1370.94 Q183.033 1375.52 183.033 1384.27 Q183.033 1393 179.954 1397.61 Q176.899 1402.19 171.089 1402.19 Q165.278 1402.19 162.2 1397.61 Q159.144 1393 159.144 1384.27 Q159.144 1375.52 162.2 1370.94 Q165.278 1366.33 171.089 1366.33 Z\" fill=\"#000000\" fill-rule=\"evenodd\" fill-opacity=\"1\" /><path clip-path=\"url(#clip730)\" d=\"M117.663 1073.07 L125.302 1073.07 L125.302 1046.7 L116.992 1048.37 L116.992 1044.11 L125.255 1042.45 L129.931 1042.45 L129.931 1073.07 L137.57 1073.07 L137.57 1077.01 L117.663 1077.01 L117.663 1073.07 Z\" fill=\"#000000\" fill-rule=\"evenodd\" fill-opacity=\"1\" /><path clip-path=\"url(#clip730)\" d=\"M147.015 1071.13 L151.899 1071.13 L151.899 1077.01 L147.015 1077.01 L147.015 1071.13 Z\" fill=\"#000000\" fill-rule=\"evenodd\" fill-opacity=\"1\" /><path clip-path=\"url(#clip730)\" d=\"M162.13 1042.45 L180.487 1042.45 L180.487 1046.38 L166.413 1046.38 L166.413 1054.85 Q167.431 1054.51 168.45 1054.34 Q169.468 1054.16 170.487 1054.16 Q176.274 1054.16 179.653 1057.33 Q183.033 1060.5 183.033 1065.92 Q183.033 1071.5 179.561 1074.6 Q176.089 1077.68 169.769 1077.68 Q167.593 1077.68 165.325 1077.31 Q163.079 1076.94 160.672 1076.19 L160.672 1071.5 Q162.755 1072.63 164.977 1073.19 Q167.2 1073.74 169.677 1073.74 Q173.681 1073.74 176.019 1071.63 Q178.357 1069.53 178.357 1065.92 Q178.357 1062.31 176.019 1060.2 Q173.681 1058.09 169.677 1058.09 Q167.802 1058.09 165.927 1058.51 Q164.075 1058.93 162.13 1059.81 L162.13 1042.45 Z\" fill=\"#000000\" fill-rule=\"evenodd\" fill-opacity=\"1\" /><path clip-path=\"url(#clip730)\" d=\"M119.885 748.557 L136.204 748.557 L136.204 752.492 L114.26 752.492 L114.26 748.557 Q116.922 745.802 121.505 741.173 Q126.112 736.52 127.292 735.177 Q129.538 732.654 130.417 730.918 Q131.32 729.159 131.32 727.469 Q131.32 724.714 129.376 722.978 Q127.455 721.242 124.353 721.242 Q122.154 721.242 119.7 722.006 Q117.269 722.77 114.492 724.321 L114.492 719.599 Q117.316 718.464 119.769 717.886 Q122.223 717.307 124.26 717.307 Q129.63 717.307 132.825 719.992 Q136.019 722.677 136.019 727.168 Q136.019 729.298 135.209 731.219 Q134.422 733.117 132.316 735.71 Q131.737 736.381 128.635 739.599 Q125.533 742.793 119.885 748.557 Z\" fill=\"#000000\" fill-rule=\"evenodd\" fill-opacity=\"1\" /><path clip-path=\"url(#clip730)\" d=\"M146.019 746.612 L150.903 746.612 L150.903 752.492 L146.019 752.492 L146.019 746.612 Z\" fill=\"#000000\" fill-rule=\"evenodd\" fill-opacity=\"1\" /><path clip-path=\"url(#clip730)\" d=\"M171.089 721.011 Q167.477 721.011 165.649 724.575 Q163.843 728.117 163.843 735.247 Q163.843 742.353 165.649 745.918 Q167.477 749.46 171.089 749.46 Q174.723 749.46 176.528 745.918 Q178.357 742.353 178.357 735.247 Q178.357 728.117 176.528 724.575 Q174.723 721.011 171.089 721.011 M171.089 717.307 Q176.899 717.307 179.954 721.913 Q183.033 726.497 183.033 735.247 Q183.033 743.973 179.954 748.58 Q176.899 753.163 171.089 753.163 Q165.278 753.163 162.2 748.58 Q159.144 743.973 159.144 735.247 Q159.144 726.497 162.2 721.913 Q165.278 717.307 171.089 717.307 Z\" fill=\"#000000\" fill-rule=\"evenodd\" fill-opacity=\"1\" /><path clip-path=\"url(#clip730)\" d=\"M120.88 424.044 L137.2 424.044 L137.2 427.979 L115.256 427.979 L115.256 424.044 Q117.918 421.289 122.501 416.659 Q127.107 412.007 128.288 410.664 Q130.533 408.141 131.413 406.405 Q132.316 404.646 132.316 402.956 Q132.316 400.201 130.371 398.465 Q128.45 396.729 125.348 396.729 Q123.149 396.729 120.695 397.493 Q118.265 398.257 115.487 399.808 L115.487 395.085 Q118.311 393.951 120.765 393.373 Q123.218 392.794 125.255 392.794 Q130.626 392.794 133.82 395.479 Q137.015 398.164 137.015 402.655 Q137.015 404.785 136.204 406.706 Q135.417 408.604 133.311 411.197 Q132.732 411.868 129.63 415.085 Q126.529 418.28 120.88 424.044 Z\" fill=\"#000000\" fill-rule=\"evenodd\" fill-opacity=\"1\" /><path clip-path=\"url(#clip730)\" d=\"M147.015 422.099 L151.899 422.099 L151.899 427.979 L147.015 427.979 L147.015 422.099 Z\" fill=\"#000000\" fill-rule=\"evenodd\" fill-opacity=\"1\" /><path clip-path=\"url(#clip730)\" d=\"M162.13 393.419 L180.487 393.419 L180.487 397.354 L166.413 397.354 L166.413 405.826 Q167.431 405.479 168.45 405.317 Q169.468 405.132 170.487 405.132 Q176.274 405.132 179.653 408.303 Q183.033 411.474 183.033 416.891 Q183.033 422.47 179.561 425.571 Q176.089 428.65 169.769 428.65 Q167.593 428.65 165.325 428.28 Q163.079 427.909 160.672 427.169 L160.672 422.47 Q162.755 423.604 164.977 424.159 Q167.2 424.715 169.677 424.715 Q173.681 424.715 176.019 422.608 Q178.357 420.502 178.357 416.891 Q178.357 413.28 176.019 411.173 Q173.681 409.067 169.677 409.067 Q167.802 409.067 165.927 409.484 Q164.075 409.9 162.13 410.78 L162.13 393.419 Z\" fill=\"#000000\" fill-rule=\"evenodd\" fill-opacity=\"1\" /><path clip-path=\"url(#clip730)\" d=\"M130.024 84.8315 Q133.38 85.5491 135.255 87.8176 Q137.154 90.0861 137.154 93.4194 Q137.154 98.5351 133.635 101.336 Q130.117 104.137 123.635 104.137 Q121.459 104.137 119.144 103.697 Q116.853 103.28 114.399 102.424 L114.399 97.9101 Q116.343 99.0444 118.658 99.6231 Q120.973 100.202 123.496 100.202 Q127.894 100.202 130.186 98.4657 Q132.501 96.7296 132.501 93.4194 Q132.501 90.3639 130.348 88.6509 Q128.218 86.9148 124.399 86.9148 L120.371 86.9148 L120.371 83.0723 L124.584 83.0723 Q128.033 83.0723 129.862 81.7065 Q131.691 80.3176 131.691 77.7251 Q131.691 75.063 129.792 73.651 Q127.917 72.2158 124.399 72.2158 Q122.478 72.2158 120.279 72.6325 Q118.08 73.0492 115.441 73.9288 L115.441 69.7621 Q118.103 69.0214 120.418 68.651 Q122.755 68.2807 124.816 68.2807 Q130.14 68.2807 133.242 70.7112 Q136.343 73.1186 136.343 77.239 Q136.343 80.1093 134.7 82.1 Q133.056 84.0676 130.024 84.8315 Z\" fill=\"#000000\" fill-rule=\"evenodd\" fill-opacity=\"1\" /><path clip-path=\"url(#clip730)\" d=\"M146.019 97.5861 L150.903 97.5861 L150.903 103.466 L146.019 103.466 L146.019 97.5861 Z\" fill=\"#000000\" fill-rule=\"evenodd\" fill-opacity=\"1\" /><path clip-path=\"url(#clip730)\" d=\"M171.089 71.9844 Q167.477 71.9844 165.649 75.5492 Q163.843 79.0908 163.843 86.2204 Q163.843 93.3268 165.649 96.8916 Q167.477 100.433 171.089 100.433 Q174.723 100.433 176.528 96.8916 Q178.357 93.3268 178.357 86.2204 Q178.357 79.0908 176.528 75.5492 Q174.723 71.9844 171.089 71.9844 M171.089 68.2807 Q176.899 68.2807 179.954 72.8871 Q183.033 77.4704 183.033 86.2204 Q183.033 94.9472 179.954 99.5537 Q176.899 104.137 171.089 104.137 Q165.278 104.137 162.2 99.5537 Q159.144 94.9472 159.144 86.2204 Q159.144 77.4704 162.2 72.8871 Q165.278 68.2807 171.089 68.2807 Z\" fill=\"#000000\" fill-rule=\"evenodd\" fill-opacity=\"1\" /><path clip-path=\"url(#clip730)\" d=\"M56.6478 789.68 Q60.8023 790.517 63.1856 791.644 Q66.8248 793.48 66.8248 796.54 Q66.8248 798.665 65.6332 800.275 Q64.4094 801.854 62.3804 802.401 Q63.1856 803.013 63.7331 803.56 Q64.2806 804.076 65.1179 805.074 Q65.9231 806.073 66.3739 807.425 Q66.8248 808.746 66.8248 810.259 Q66.8248 811.419 66.5994 812.481 Q66.4062 813.544 65.8587 814.671 Q65.2789 815.766 64.4094 816.572 Q63.5398 817.345 62.1228 817.86 Q60.7057 818.375 58.9022 818.375 Q56.6478 818.375 53.5882 817.506 Q50.5287 816.604 45.0537 814.543 Q42.1551 813.415 40.5448 813.415 Q39.8041 813.415 39.321 813.576 Q38.8379 813.738 38.6769 814.06 Q38.4837 814.349 38.4515 814.543 Q38.3871 814.736 38.3871 815.058 Q38.3871 817.055 40.416 818.794 Q42.445 820.533 46.5673 821.725 Q47.3725 821.982 47.5657 822.143 Q47.759 822.304 47.759 822.787 Q47.7268 823.593 47.0826 823.593 Q46.825 823.593 45.8266 823.303 Q44.796 823.013 43.2823 822.336 Q41.7365 821.628 40.3516 820.662 Q38.9346 819.696 37.9362 818.182 Q36.9378 816.636 36.9378 814.865 Q36.9378 812.449 38.5159 810.968 Q40.0618 809.454 42.3484 809.454 Q43.7654 809.454 46.5029 810.581 Q56.0037 814.156 59.965 814.156 Q65.3434 814.156 65.3434 810.066 Q65.3434 808.713 64.7959 807.457 Q64.2484 806.169 63.4754 805.332 Q62.7025 804.494 61.8651 803.85 Q61.0278 803.174 60.4803 802.884 Q59.9328 802.562 59.804 802.53 L39.9651 797.602 Q39.1922 797.409 38.6769 797.055 Q38.1294 796.668 37.9362 796.218 Q37.7429 795.767 37.7107 795.509 Q37.6463 795.251 37.6463 795.026 Q37.6463 794.221 38.1294 793.673 Q38.6125 793.094 39.4498 793.094 Q39.6109 793.094 40.3838 793.287 Q41.1246 793.448 42.2196 793.705 Q43.2823 793.963 43.8621 794.092 Q47.92 795.123 48.3387 795.219 L55.4562 797.055 Q55.8748 797.152 57.2275 797.474 Q58.5801 797.763 59.2887 797.924 Q59.965 798.085 60.899 798.247 Q61.8007 798.375 62.316 798.375 Q63.9263 798.375 64.6348 797.892 Q65.3434 797.409 65.3434 796.346 Q65.3434 795.348 64.667 794.575 Q63.9585 793.77 62.6059 793.158 Q61.221 792.546 60.0938 792.192 Q58.9666 791.838 57.1953 791.387 Q56.4223 791.226 56.2291 791.097 Q56.0037 790.936 56.0037 790.485 Q56.0037 789.68 56.6478 789.68 Z\" fill=\"#000000\" fill-rule=\"evenodd\" fill-opacity=\"1\" /><path clip-path=\"url(#clip730)\" d=\"M82.5735 733.946 L16.6159 733.946 L16.6159 723.995 L18.1296 723.995 L18.1296 729.534 L81.0598 729.534 L81.0598 723.995 L82.5735 723.995 L82.5735 733.946 Z\" fill=\"#000000\" fill-rule=\"evenodd\" fill-opacity=\"1\" /><path clip-path=\"url(#clip730)\" d=\"M48.6607 672.254 Q49.0472 671.867 49.5947 671.867 Q50.1422 671.867 50.5287 672.254 Q50.9151 672.64 50.9151 673.188 L50.9151 714.476 Q50.9151 715.023 50.5287 715.409 Q50.1422 715.796 49.5947 715.796 Q49.0472 715.796 48.6607 715.409 Q48.2743 715.023 48.2743 714.476 L48.2743 673.188 Q48.2743 672.64 48.6607 672.254 Z\" fill=\"#000000\" fill-rule=\"evenodd\" fill-opacity=\"1\" /><path clip-path=\"url(#clip730)\" d=\"M81.0598 664.982 L81.0598 659.442 L18.1296 659.442 L18.1296 664.982 L16.6159 664.982 L16.6159 655.03 L82.5735 655.03 L82.5735 664.982 L81.0598 664.982 Z\" fill=\"#000000\" fill-rule=\"evenodd\" fill-opacity=\"1\" /><polyline clip-path=\"url(#clip733)\" style=\"stroke:#000000; stroke-linecap:round; stroke-linejoin:round; stroke-width:4; stroke-opacity:1; fill:none\" stroke-dasharray=\"2, 4\" points=\"279.421,86.1857 385.366,86.1857 491.31,86.1857 597.255,86.1857 703.199,86.1857 809.144,86.1857 915.089,86.1857 1021.03,86.1857 1126.98,86.1857 1232.92,86.1857 1338.87,86.1857 1444.81,86.1857 1550.76,86.1857 1656.7,86.1857 1762.64,86.1857 1868.59,86.1857 1974.53,86.1857 2080.48,86.1857 2186.42,86.1857 2292.37,86.1857 \"/>\n",
       "<polyline clip-path=\"url(#clip733)\" style=\"stroke:#000000; stroke-linecap:round; stroke-linejoin:round; stroke-width:12; stroke-opacity:1; fill:none\" points=\"279.421,1384.24 385.366,848.734 491.31,738.658 597.255,802.421 703.199,1094.1 809.144,1067.87 915.089,958.033 1021.03,914.887 1126.98,1012.32 1232.92,960.645 1338.87,940.156 1444.81,958.375 1550.76,1011.75 1656.7,953.784 1762.64,946.59 1868.59,964.134 1974.53,1004.52 2080.48,952.499 2186.42,949.705 2292.37,965.588 \"/>\n",
       "<circle clip-path=\"url(#clip733)\" cx=\"279.421\" cy=\"1384.24\" r=\"10.8\" fill=\"#000000\" fill-rule=\"evenodd\" fill-opacity=\"1\" stroke=\"none\"/>\n",
       "<circle clip-path=\"url(#clip733)\" cx=\"385.366\" cy=\"848.734\" r=\"10.8\" fill=\"#000000\" fill-rule=\"evenodd\" fill-opacity=\"1\" stroke=\"none\"/>\n",
       "<circle clip-path=\"url(#clip733)\" cx=\"491.31\" cy=\"738.658\" r=\"10.8\" fill=\"#000000\" fill-rule=\"evenodd\" fill-opacity=\"1\" stroke=\"none\"/>\n",
       "<circle clip-path=\"url(#clip733)\" cx=\"597.255\" cy=\"802.421\" r=\"10.8\" fill=\"#000000\" fill-rule=\"evenodd\" fill-opacity=\"1\" stroke=\"none\"/>\n",
       "<circle clip-path=\"url(#clip733)\" cx=\"703.199\" cy=\"1094.1\" r=\"10.8\" fill=\"#000000\" fill-rule=\"evenodd\" fill-opacity=\"1\" stroke=\"none\"/>\n",
       "<circle clip-path=\"url(#clip733)\" cx=\"809.144\" cy=\"1067.87\" r=\"10.8\" fill=\"#000000\" fill-rule=\"evenodd\" fill-opacity=\"1\" stroke=\"none\"/>\n",
       "<circle clip-path=\"url(#clip733)\" cx=\"915.089\" cy=\"958.033\" r=\"10.8\" fill=\"#000000\" fill-rule=\"evenodd\" fill-opacity=\"1\" stroke=\"none\"/>\n",
       "<circle clip-path=\"url(#clip733)\" cx=\"1021.03\" cy=\"914.887\" r=\"10.8\" fill=\"#000000\" fill-rule=\"evenodd\" fill-opacity=\"1\" stroke=\"none\"/>\n",
       "<circle clip-path=\"url(#clip733)\" cx=\"1126.98\" cy=\"1012.32\" r=\"10.8\" fill=\"#000000\" fill-rule=\"evenodd\" fill-opacity=\"1\" stroke=\"none\"/>\n",
       "<circle clip-path=\"url(#clip733)\" cx=\"1232.92\" cy=\"960.645\" r=\"10.8\" fill=\"#000000\" fill-rule=\"evenodd\" fill-opacity=\"1\" stroke=\"none\"/>\n",
       "<circle clip-path=\"url(#clip733)\" cx=\"1338.87\" cy=\"940.156\" r=\"10.8\" fill=\"#000000\" fill-rule=\"evenodd\" fill-opacity=\"1\" stroke=\"none\"/>\n",
       "<circle clip-path=\"url(#clip733)\" cx=\"1444.81\" cy=\"958.375\" r=\"10.8\" fill=\"#000000\" fill-rule=\"evenodd\" fill-opacity=\"1\" stroke=\"none\"/>\n",
       "<circle clip-path=\"url(#clip733)\" cx=\"1550.76\" cy=\"1011.75\" r=\"10.8\" fill=\"#000000\" fill-rule=\"evenodd\" fill-opacity=\"1\" stroke=\"none\"/>\n",
       "<circle clip-path=\"url(#clip733)\" cx=\"1656.7\" cy=\"953.784\" r=\"10.8\" fill=\"#000000\" fill-rule=\"evenodd\" fill-opacity=\"1\" stroke=\"none\"/>\n",
       "<circle clip-path=\"url(#clip733)\" cx=\"1762.64\" cy=\"946.59\" r=\"10.8\" fill=\"#000000\" fill-rule=\"evenodd\" fill-opacity=\"1\" stroke=\"none\"/>\n",
       "<circle clip-path=\"url(#clip733)\" cx=\"1868.59\" cy=\"964.134\" r=\"10.8\" fill=\"#000000\" fill-rule=\"evenodd\" fill-opacity=\"1\" stroke=\"none\"/>\n",
       "<circle clip-path=\"url(#clip733)\" cx=\"1974.53\" cy=\"1004.52\" r=\"10.8\" fill=\"#000000\" fill-rule=\"evenodd\" fill-opacity=\"1\" stroke=\"none\"/>\n",
       "<circle clip-path=\"url(#clip733)\" cx=\"2080.48\" cy=\"952.499\" r=\"10.8\" fill=\"#000000\" fill-rule=\"evenodd\" fill-opacity=\"1\" stroke=\"none\"/>\n",
       "<circle clip-path=\"url(#clip733)\" cx=\"2186.42\" cy=\"949.705\" r=\"10.8\" fill=\"#000000\" fill-rule=\"evenodd\" fill-opacity=\"1\" stroke=\"none\"/>\n",
       "<circle clip-path=\"url(#clip733)\" cx=\"2292.37\" cy=\"965.588\" r=\"10.8\" fill=\"#000000\" fill-rule=\"evenodd\" fill-opacity=\"1\" stroke=\"none\"/>\n",
       "<polyline clip-path=\"url(#clip733)\" style=\"stroke:#000000; stroke-linecap:round; stroke-linejoin:round; stroke-width:12; stroke-opacity:1; fill:none\" stroke-dasharray=\"48, 24, 6, 24\" points=\"279.421,1384.24 385.366,848.772 491.31,738.693 597.255,802.428 703.199,1090.9 809.144,1063.54 915.089,955.95 1021.03,916.472 1126.98,1009.87 1232.92,958.956 1338.87,941.933 1444.81,960.785 1550.76,1007.4 1656.7,954.287 1762.64,947.935 1868.59,964.599 1974.53,1006.01 2080.48,953.364 2186.42,947.27 2292.37,964.998 \"/>\n",
       "<path clip-path=\"url(#clip733)\" d=\"M267.421 1372.24 L267.421 1396.24 L291.421 1396.24 L291.421 1372.24 L267.421 1372.24 Z\" fill=\"#000000\" fill-rule=\"evenodd\" fill-opacity=\"1\" stroke=\"none\"/>\n",
       "<path clip-path=\"url(#clip733)\" d=\"M373.366 836.772 L373.366 860.772 L397.366 860.772 L397.366 836.772 L373.366 836.772 Z\" fill=\"#000000\" fill-rule=\"evenodd\" fill-opacity=\"1\" stroke=\"none\"/>\n",
       "<path clip-path=\"url(#clip733)\" d=\"M479.31 726.693 L479.31 750.693 L503.31 750.693 L503.31 726.693 L479.31 726.693 Z\" fill=\"#000000\" fill-rule=\"evenodd\" fill-opacity=\"1\" stroke=\"none\"/>\n",
       "<path clip-path=\"url(#clip733)\" d=\"M585.255 790.428 L585.255 814.428 L609.255 814.428 L609.255 790.428 L585.255 790.428 Z\" fill=\"#000000\" fill-rule=\"evenodd\" fill-opacity=\"1\" stroke=\"none\"/>\n",
       "<path clip-path=\"url(#clip733)\" d=\"M691.199 1078.9 L691.199 1102.9 L715.199 1102.9 L715.199 1078.9 L691.199 1078.9 Z\" fill=\"#000000\" fill-rule=\"evenodd\" fill-opacity=\"1\" stroke=\"none\"/>\n",
       "<path clip-path=\"url(#clip733)\" d=\"M797.144 1051.54 L797.144 1075.54 L821.144 1075.54 L821.144 1051.54 L797.144 1051.54 Z\" fill=\"#000000\" fill-rule=\"evenodd\" fill-opacity=\"1\" stroke=\"none\"/>\n",
       "<path clip-path=\"url(#clip733)\" d=\"M903.089 943.95 L903.089 967.95 L927.089 967.95 L927.089 943.95 L903.089 943.95 Z\" fill=\"#000000\" fill-rule=\"evenodd\" fill-opacity=\"1\" stroke=\"none\"/>\n",
       "<path clip-path=\"url(#clip733)\" d=\"M1009.03 904.472 L1009.03 928.472 L1033.03 928.472 L1033.03 904.472 L1009.03 904.472 Z\" fill=\"#000000\" fill-rule=\"evenodd\" fill-opacity=\"1\" stroke=\"none\"/>\n",
       "<path clip-path=\"url(#clip733)\" d=\"M1114.98 997.867 L1114.98 1021.87 L1138.98 1021.87 L1138.98 997.867 L1114.98 997.867 Z\" fill=\"#000000\" fill-rule=\"evenodd\" fill-opacity=\"1\" stroke=\"none\"/>\n",
       "<path clip-path=\"url(#clip733)\" d=\"M1220.92 946.956 L1220.92 970.956 L1244.92 970.956 L1244.92 946.956 L1220.92 946.956 Z\" fill=\"#000000\" fill-rule=\"evenodd\" fill-opacity=\"1\" stroke=\"none\"/>\n",
       "<path clip-path=\"url(#clip733)\" d=\"M1326.87 929.933 L1326.87 953.933 L1350.87 953.933 L1350.87 929.933 L1326.87 929.933 Z\" fill=\"#000000\" fill-rule=\"evenodd\" fill-opacity=\"1\" stroke=\"none\"/>\n",
       "<path clip-path=\"url(#clip733)\" d=\"M1432.81 948.785 L1432.81 972.785 L1456.81 972.785 L1456.81 948.785 L1432.81 948.785 Z\" fill=\"#000000\" fill-rule=\"evenodd\" fill-opacity=\"1\" stroke=\"none\"/>\n",
       "<path clip-path=\"url(#clip733)\" d=\"M1538.76 995.396 L1538.76 1019.4 L1562.76 1019.4 L1562.76 995.396 L1538.76 995.396 Z\" fill=\"#000000\" fill-rule=\"evenodd\" fill-opacity=\"1\" stroke=\"none\"/>\n",
       "<path clip-path=\"url(#clip733)\" d=\"M1644.7 942.287 L1644.7 966.287 L1668.7 966.287 L1668.7 942.287 L1644.7 942.287 Z\" fill=\"#000000\" fill-rule=\"evenodd\" fill-opacity=\"1\" stroke=\"none\"/>\n",
       "<path clip-path=\"url(#clip733)\" d=\"M1750.64 935.935 L1750.64 959.935 L1774.64 959.935 L1774.64 935.935 L1750.64 935.935 Z\" fill=\"#000000\" fill-rule=\"evenodd\" fill-opacity=\"1\" stroke=\"none\"/>\n",
       "<path clip-path=\"url(#clip733)\" d=\"M1856.59 952.599 L1856.59 976.599 L1880.59 976.599 L1880.59 952.599 L1856.59 952.599 Z\" fill=\"#000000\" fill-rule=\"evenodd\" fill-opacity=\"1\" stroke=\"none\"/>\n",
       "<path clip-path=\"url(#clip733)\" d=\"M1962.53 994.012 L1962.53 1018.01 L1986.53 1018.01 L1986.53 994.012 L1962.53 994.012 Z\" fill=\"#000000\" fill-rule=\"evenodd\" fill-opacity=\"1\" stroke=\"none\"/>\n",
       "<path clip-path=\"url(#clip733)\" d=\"M2068.48 941.364 L2068.48 965.364 L2092.48 965.364 L2092.48 941.364 L2068.48 941.364 Z\" fill=\"#000000\" fill-rule=\"evenodd\" fill-opacity=\"1\" stroke=\"none\"/>\n",
       "<path clip-path=\"url(#clip733)\" d=\"M2174.42 935.27 L2174.42 959.27 L2198.42 959.27 L2198.42 935.27 L2174.42 935.27 Z\" fill=\"#000000\" fill-rule=\"evenodd\" fill-opacity=\"1\" stroke=\"none\"/>\n",
       "<path clip-path=\"url(#clip733)\" d=\"M2280.37 952.998 L2280.37 976.998 L2304.37 976.998 L2304.37 952.998 L2280.37 952.998 Z\" fill=\"#000000\" fill-rule=\"evenodd\" fill-opacity=\"1\" stroke=\"none\"/>\n",
       "<path clip-path=\"url(#clip730)\" d=\"M1934.83 1377.32 L2281.63 1377.32 L2281.63 1169.96 L1934.83 1169.96  Z\" fill=\"#ffffff\" fill-rule=\"evenodd\" fill-opacity=\"1\"/>\n",
       "<polyline clip-path=\"url(#clip730)\" style=\"stroke:#000000; stroke-linecap:round; stroke-linejoin:round; stroke-width:4; stroke-opacity:1; fill:none\" points=\"1934.83,1377.32 2281.63,1377.32 2281.63,1169.96 1934.83,1169.96 1934.83,1377.32 \"/>\n",
       "<polyline clip-path=\"url(#clip730)\" style=\"stroke:#000000; stroke-linecap:round; stroke-linejoin:round; stroke-width:4; stroke-opacity:1; fill:none\" stroke-dasharray=\"2, 4\" points=\"1958.54,1221.8 2100.79,1221.8 \"/>\n",
       "<path clip-path=\"url(#clip730)\" d=\"M2124.5 1204.52 L2129.17 1204.52 L2129.17 1235.14 L2146 1235.14 L2146 1239.08 L2124.5 1239.08 L2124.5 1204.52 Z\" fill=\"#000000\" fill-rule=\"evenodd\" fill-opacity=\"1\" /><path clip-path=\"url(#clip730)\" d=\"M2150.73 1213.15 L2154.98 1213.15 L2154.98 1239.08 L2150.73 1239.08 L2150.73 1213.15 M2150.73 1203.06 L2154.98 1203.06 L2154.98 1208.45 L2150.73 1208.45 L2150.73 1203.06 Z\" fill=\"#000000\" fill-rule=\"evenodd\" fill-opacity=\"1\" /><path clip-path=\"url(#clip730)\" d=\"M2184.08 1218.13 Q2185.68 1215.26 2187.9 1213.89 Q2190.12 1212.52 2193.13 1212.52 Q2197.18 1212.52 2199.38 1215.37 Q2201.58 1218.2 2201.58 1223.43 L2201.58 1239.08 L2197.3 1239.08 L2197.3 1223.57 Q2197.3 1219.84 2195.98 1218.03 Q2194.66 1216.23 2191.95 1216.23 Q2188.64 1216.23 2186.72 1218.43 Q2184.8 1220.63 2184.8 1224.42 L2184.8 1239.08 L2180.52 1239.08 L2180.52 1223.57 Q2180.52 1219.82 2179.2 1218.03 Q2177.88 1216.23 2175.12 1216.23 Q2171.86 1216.23 2169.94 1218.45 Q2168.02 1220.65 2168.02 1224.42 L2168.02 1239.08 L2163.73 1239.08 L2163.73 1213.15 L2168.02 1213.15 L2168.02 1217.18 Q2169.48 1214.79 2171.51 1213.66 Q2173.55 1212.52 2176.35 1212.52 Q2179.17 1212.52 2181.14 1213.96 Q2183.13 1215.39 2184.08 1218.13 Z\" fill=\"#000000\" fill-rule=\"evenodd\" fill-opacity=\"1\" /><path clip-path=\"url(#clip730)\" d=\"M2210.08 1213.15 L2214.34 1213.15 L2214.34 1239.08 L2210.08 1239.08 L2210.08 1213.15 M2210.08 1203.06 L2214.34 1203.06 L2214.34 1208.45 L2210.08 1208.45 L2210.08 1203.06 Z\" fill=\"#000000\" fill-rule=\"evenodd\" fill-opacity=\"1\" /><path clip-path=\"url(#clip730)\" d=\"M2227.46 1205.79 L2227.46 1213.15 L2236.23 1213.15 L2236.23 1216.46 L2227.46 1216.46 L2227.46 1230.53 Q2227.46 1233.7 2228.32 1234.61 Q2229.2 1235.51 2231.86 1235.51 L2236.23 1235.51 L2236.23 1239.08 L2231.86 1239.08 Q2226.93 1239.08 2225.05 1237.25 Q2223.18 1235.39 2223.18 1230.53 L2223.18 1216.46 L2220.05 1216.46 L2220.05 1213.15 L2223.18 1213.15 L2223.18 1205.79 L2227.46 1205.79 Z\" fill=\"#000000\" fill-rule=\"evenodd\" fill-opacity=\"1\" /><polyline clip-path=\"url(#clip730)\" style=\"stroke:#000000; stroke-linecap:round; stroke-linejoin:round; stroke-width:12; stroke-opacity:1; fill:none\" points=\"1958.54,1273.64 2100.79,1273.64 \"/>\n",
       "<circle clip-path=\"url(#clip730)\" cx=\"2029.67\" cy=\"1273.64\" r=\"19.7567\" fill=\"#000000\" fill-rule=\"evenodd\" fill-opacity=\"1\" stroke=\"none\"/>\n",
       "<path clip-path=\"url(#clip730)\" d=\"M2124.5 1256.36 L2131.47 1256.36 L2140.29 1279.87 L2149.15 1256.36 L2156.12 1256.36 L2156.12 1290.92 L2151.56 1290.92 L2151.56 1260.57 L2142.65 1284.27 L2137.95 1284.27 L2129.04 1260.57 L2129.04 1290.92 L2124.5 1290.92 L2124.5 1256.36 Z\" fill=\"#000000\" fill-rule=\"evenodd\" fill-opacity=\"1\" /><path clip-path=\"url(#clip730)\" d=\"M2175.26 1267.98 Q2171.84 1267.98 2169.85 1270.66 Q2167.85 1273.32 2167.85 1277.98 Q2167.85 1282.63 2169.82 1285.31 Q2171.81 1287.98 2175.26 1287.98 Q2178.66 1287.98 2180.66 1285.29 Q2182.65 1282.61 2182.65 1277.98 Q2182.65 1273.37 2180.66 1270.68 Q2178.66 1267.98 2175.26 1267.98 M2175.26 1264.36 Q2180.82 1264.36 2183.99 1267.98 Q2187.16 1271.59 2187.16 1277.98 Q2187.16 1284.34 2183.99 1287.98 Q2180.82 1291.59 2175.26 1291.59 Q2169.68 1291.59 2166.51 1287.98 Q2163.36 1284.34 2163.36 1277.98 Q2163.36 1271.59 2166.51 1267.98 Q2169.68 1264.36 2175.26 1264.36 Z\" fill=\"#000000\" fill-rule=\"evenodd\" fill-opacity=\"1\" /><path clip-path=\"url(#clip730)\" d=\"M2215.77 1275.27 L2215.77 1290.92 L2211.51 1290.92 L2211.51 1275.41 Q2211.51 1271.73 2210.08 1269.9 Q2208.64 1268.07 2205.77 1268.07 Q2202.32 1268.07 2200.33 1270.27 Q2198.34 1272.47 2198.34 1276.26 L2198.34 1290.92 L2194.06 1290.92 L2194.06 1264.99 L2198.34 1264.99 L2198.34 1269.02 Q2199.87 1266.68 2201.93 1265.52 Q2204.01 1264.36 2206.72 1264.36 Q2211.19 1264.36 2213.48 1267.14 Q2215.77 1269.9 2215.77 1275.27 Z\" fill=\"#000000\" fill-rule=\"evenodd\" fill-opacity=\"1\" /><path clip-path=\"url(#clip730)\" d=\"M2234.31 1267.98 Q2230.89 1267.98 2228.9 1270.66 Q2226.91 1273.32 2226.91 1277.98 Q2226.91 1282.63 2228.87 1285.31 Q2230.86 1287.98 2234.31 1287.98 Q2237.72 1287.98 2239.71 1285.29 Q2241.7 1282.61 2241.7 1277.98 Q2241.7 1273.37 2239.71 1270.68 Q2237.72 1267.98 2234.31 1267.98 M2234.31 1264.36 Q2239.87 1264.36 2243.04 1267.98 Q2246.21 1271.59 2246.21 1277.98 Q2246.21 1284.34 2243.04 1287.98 Q2239.87 1291.59 2234.31 1291.59 Q2228.73 1291.59 2225.56 1287.98 Q2222.41 1284.34 2222.41 1277.98 Q2222.41 1271.59 2225.56 1267.98 Q2228.73 1264.36 2234.31 1264.36 Z\" fill=\"#000000\" fill-rule=\"evenodd\" fill-opacity=\"1\" /><path clip-path=\"url(#clip730)\" d=\"M2253.04 1285.04 L2257.92 1285.04 L2257.92 1290.92 L2253.04 1290.92 L2253.04 1285.04 Z\" fill=\"#000000\" fill-rule=\"evenodd\" fill-opacity=\"1\" /><polyline clip-path=\"url(#clip730)\" style=\"stroke:#000000; stroke-linecap:round; stroke-linejoin:round; stroke-width:12; stroke-opacity:1; fill:none\" stroke-dasharray=\"48, 24, 6, 24\" points=\"1958.54,1325.48 2100.79,1325.48 \"/>\n",
       "<path clip-path=\"url(#clip730)\" d=\"M2007.71 1303.52 L2007.71 1347.43 L2051.62 1347.43 L2051.62 1303.52 L2007.71 1303.52 Z\" fill=\"#000000\" fill-rule=\"evenodd\" fill-opacity=\"1\" stroke=\"none\"/>\n",
       "<path clip-path=\"url(#clip730)\" d=\"M2129.17 1312.04 L2129.17 1338.91 L2134.82 1338.91 Q2141.98 1338.91 2145.29 1335.67 Q2148.62 1332.43 2148.62 1325.44 Q2148.62 1318.5 2145.29 1315.28 Q2141.98 1312.04 2134.82 1312.04 L2129.17 1312.04 M2124.5 1308.2 L2134.1 1308.2 Q2144.15 1308.2 2148.85 1312.39 Q2153.55 1316.55 2153.55 1325.44 Q2153.55 1334.38 2148.83 1338.57 Q2144.1 1342.76 2134.1 1342.76 L2124.5 1342.76 L2124.5 1308.2 Z\" fill=\"#000000\" fill-rule=\"evenodd\" fill-opacity=\"1\" /><path clip-path=\"url(#clip730)\" d=\"M2182.99 1328.73 L2182.99 1330.81 L2163.41 1330.81 Q2163.69 1335.21 2166.05 1337.52 Q2168.43 1339.82 2172.67 1339.82 Q2175.12 1339.82 2177.41 1339.21 Q2179.73 1338.61 2182 1337.41 L2182 1341.44 Q2179.71 1342.41 2177.3 1342.92 Q2174.89 1343.43 2172.41 1343.43 Q2166.21 1343.43 2162.58 1339.82 Q2158.97 1336.2 2158.97 1330.05 Q2158.97 1323.68 2162.39 1319.95 Q2165.84 1316.2 2171.67 1316.2 Q2176.91 1316.2 2179.94 1319.58 Q2182.99 1322.94 2182.99 1328.73 M2178.73 1327.48 Q2178.69 1323.98 2176.77 1321.9 Q2174.87 1319.82 2171.72 1319.82 Q2168.16 1319.82 2166 1321.83 Q2163.87 1323.84 2163.55 1327.5 L2178.73 1327.48 Z\" fill=\"#000000\" fill-rule=\"evenodd\" fill-opacity=\"1\" /><path clip-path=\"url(#clip730)\" d=\"M2208.64 1317.82 L2208.64 1321.81 Q2206.84 1320.81 2205.01 1320.32 Q2203.2 1319.82 2201.35 1319.82 Q2197.21 1319.82 2194.91 1322.45 Q2192.62 1325.07 2192.62 1329.82 Q2192.62 1334.56 2194.91 1337.2 Q2197.21 1339.82 2201.35 1339.82 Q2203.2 1339.82 2205.01 1339.33 Q2206.84 1338.82 2208.64 1337.82 L2208.64 1341.76 Q2206.86 1342.59 2204.94 1343.01 Q2203.04 1343.43 2200.89 1343.43 Q2195.03 1343.43 2191.58 1339.75 Q2188.13 1336.07 2188.13 1329.82 Q2188.13 1323.47 2191.6 1319.84 Q2195.1 1316.2 2201.16 1316.2 Q2203.13 1316.2 2205.01 1316.62 Q2206.88 1317.01 2208.64 1317.82 Z\" fill=\"#000000\" fill-rule=\"evenodd\" fill-opacity=\"1\" /><path clip-path=\"url(#clip730)\" d=\"M2226.1 1319.82 Q2222.67 1319.82 2220.68 1322.5 Q2218.69 1325.16 2218.69 1329.82 Q2218.69 1334.47 2220.66 1337.15 Q2222.65 1339.82 2226.1 1339.82 Q2229.5 1339.82 2231.49 1337.13 Q2233.48 1334.45 2233.48 1329.82 Q2233.48 1325.21 2231.49 1322.52 Q2229.5 1319.82 2226.1 1319.82 M2226.1 1316.2 Q2231.65 1316.2 2234.82 1319.82 Q2237.99 1323.43 2237.99 1329.82 Q2237.99 1336.18 2234.82 1339.82 Q2231.65 1343.43 2226.1 1343.43 Q2220.52 1343.43 2217.35 1339.82 Q2214.2 1336.18 2214.2 1329.82 Q2214.2 1323.43 2217.35 1319.82 Q2220.52 1316.2 2226.1 1316.2 Z\" fill=\"#000000\" fill-rule=\"evenodd\" fill-opacity=\"1\" /><path clip-path=\"url(#clip730)\" d=\"M2244.82 1336.88 L2249.71 1336.88 L2249.71 1342.76 L2244.82 1342.76 L2244.82 1336.88 Z\" fill=\"#000000\" fill-rule=\"evenodd\" fill-opacity=\"1\" /></svg>\n"
      ]
     },
     "execution_count": 31,
     "metadata": {},
     "output_type": "execute_result"
    }
   ],
   "source": [
    "mc_comp(L\"u \\quad [-]\",ts,uMean[:,1,:],3.0)"
   ]
  },
  {
   "cell_type": "code",
   "execution_count": 26,
   "id": "a91eb110",
   "metadata": {},
   "outputs": [
    {
     "data": {
      "image/svg+xml": [
       "<?xml version=\"1.0\" encoding=\"utf-8\"?>\n",
       "<svg xmlns=\"http://www.w3.org/2000/svg\" xmlns:xlink=\"http://www.w3.org/1999/xlink\" width=\"600\" height=\"400\" viewBox=\"0 0 2400 1600\">\n",
       "<defs>\n",
       "  <clipPath id=\"clip610\">\n",
       "    <rect x=\"0\" y=\"0\" width=\"2400\" height=\"1600\"/>\n",
       "  </clipPath>\n",
       "</defs>\n",
       "<path clip-path=\"url(#clip610)\" d=\"M0 1600 L2400 1600 L2400 0 L0 0  Z\" fill=\"#ffffff\" fill-rule=\"evenodd\" fill-opacity=\"1\"/>\n",
       "<defs>\n",
       "  <clipPath id=\"clip611\">\n",
       "    <rect x=\"480\" y=\"0\" width=\"1681\" height=\"1600\"/>\n",
       "  </clipPath>\n",
       "</defs>\n",
       "<path clip-path=\"url(#clip610)\" d=\"M219.033 623.18 L2352.76 623.18 L2352.76 47.2441 L219.033 47.2441  Z\" fill=\"#ffffff\" fill-rule=\"evenodd\" fill-opacity=\"1\"/>\n",
       "<defs>\n",
       "  <clipPath id=\"clip612\">\n",
       "    <rect x=\"219\" y=\"47\" width=\"2135\" height=\"577\"/>\n",
       "  </clipPath>\n",
       "</defs>\n",
       "<polyline clip-path=\"url(#clip612)\" style=\"stroke:#000000; stroke-linecap:round; stroke-linejoin:round; stroke-width:8; stroke-opacity:0.1; fill:none\" points=\"703.199,623.18 703.199,47.2441 \"/>\n",
       "<polyline clip-path=\"url(#clip612)\" style=\"stroke:#000000; stroke-linecap:round; stroke-linejoin:round; stroke-width:8; stroke-opacity:0.1; fill:none\" points=\"1232.92,623.18 1232.92,47.2441 \"/>\n",
       "<polyline clip-path=\"url(#clip612)\" style=\"stroke:#000000; stroke-linecap:round; stroke-linejoin:round; stroke-width:8; stroke-opacity:0.1; fill:none\" points=\"1762.64,623.18 1762.64,47.2441 \"/>\n",
       "<polyline clip-path=\"url(#clip612)\" style=\"stroke:#000000; stroke-linecap:round; stroke-linejoin:round; stroke-width:8; stroke-opacity:0.1; fill:none\" points=\"2292.37,623.18 2292.37,47.2441 \"/>\n",
       "<polyline clip-path=\"url(#clip610)\" style=\"stroke:#000000; stroke-linecap:round; stroke-linejoin:round; stroke-width:4; stroke-opacity:1; fill:none\" points=\"219.033,623.18 2352.76,623.18 \"/>\n",
       "<polyline clip-path=\"url(#clip610)\" style=\"stroke:#000000; stroke-linecap:round; stroke-linejoin:round; stroke-width:4; stroke-opacity:1; fill:none\" points=\"703.199,623.18 703.199,604.282 \"/>\n",
       "<polyline clip-path=\"url(#clip610)\" style=\"stroke:#000000; stroke-linecap:round; stroke-linejoin:round; stroke-width:4; stroke-opacity:1; fill:none\" points=\"1232.92,623.18 1232.92,604.282 \"/>\n",
       "<polyline clip-path=\"url(#clip610)\" style=\"stroke:#000000; stroke-linecap:round; stroke-linejoin:round; stroke-width:4; stroke-opacity:1; fill:none\" points=\"1762.64,623.18 1762.64,604.282 \"/>\n",
       "<polyline clip-path=\"url(#clip610)\" style=\"stroke:#000000; stroke-linecap:round; stroke-linejoin:round; stroke-width:4; stroke-opacity:1; fill:none\" points=\"2292.37,623.18 2292.37,604.282 \"/>\n",
       "<path clip-path=\"url(#clip610)\" d=\"M693.477 651.02 L711.834 651.02 L711.834 654.955 L697.76 654.955 L697.76 663.427 Q698.778 663.08 699.797 662.918 Q700.815 662.733 701.834 662.733 Q707.621 662.733 711 665.904 Q714.38 669.075 714.38 674.492 Q714.38 680.071 710.908 683.172 Q707.436 686.251 701.116 686.251 Q698.94 686.251 696.672 685.881 Q694.426 685.51 692.019 684.77 L692.019 680.071 Q694.102 681.205 696.325 681.76 Q698.547 682.316 701.024 682.316 Q705.028 682.316 707.366 680.21 Q709.704 678.103 709.704 674.492 Q709.704 670.881 707.366 668.774 Q705.028 666.668 701.024 666.668 Q699.149 666.668 697.274 667.085 Q695.422 667.501 693.477 668.381 L693.477 651.02 Z\" fill=\"#000000\" fill-rule=\"evenodd\" fill-opacity=\"1\" /><path clip-path=\"url(#clip610)\" d=\"M1207.61 681.645 L1215.25 681.645 L1215.25 655.279 L1206.94 656.946 L1206.94 652.687 L1215.2 651.02 L1219.88 651.02 L1219.88 681.645 L1227.52 681.645 L1227.52 685.58 L1207.61 685.58 L1207.61 681.645 Z\" fill=\"#000000\" fill-rule=\"evenodd\" fill-opacity=\"1\" /><path clip-path=\"url(#clip610)\" d=\"M1246.96 654.099 Q1243.35 654.099 1241.52 657.663 Q1239.72 661.205 1239.72 668.335 Q1239.72 675.441 1241.52 679.006 Q1243.35 682.547 1246.96 682.547 Q1250.6 682.547 1252.4 679.006 Q1254.23 675.441 1254.23 668.335 Q1254.23 661.205 1252.4 657.663 Q1250.6 654.099 1246.96 654.099 M1246.96 650.395 Q1252.77 650.395 1255.83 655.001 Q1258.91 659.585 1258.91 668.335 Q1258.91 677.061 1255.83 681.668 Q1252.77 686.251 1246.96 686.251 Q1241.15 686.251 1238.07 681.668 Q1235.02 677.061 1235.02 668.335 Q1235.02 659.585 1238.07 655.001 Q1241.15 650.395 1246.96 650.395 Z\" fill=\"#000000\" fill-rule=\"evenodd\" fill-opacity=\"1\" /><path clip-path=\"url(#clip610)\" d=\"M1737.83 681.645 L1745.47 681.645 L1745.47 655.279 L1737.16 656.946 L1737.16 652.687 L1745.42 651.02 L1750.1 651.02 L1750.1 681.645 L1757.74 681.645 L1757.74 685.58 L1737.83 685.58 L1737.83 681.645 Z\" fill=\"#000000\" fill-rule=\"evenodd\" fill-opacity=\"1\" /><path clip-path=\"url(#clip610)\" d=\"M1767.23 651.02 L1785.58 651.02 L1785.58 654.955 L1771.51 654.955 L1771.51 663.427 Q1772.53 663.08 1773.55 662.918 Q1774.57 662.733 1775.58 662.733 Q1781.37 662.733 1784.75 665.904 Q1788.13 669.075 1788.13 674.492 Q1788.13 680.071 1784.66 683.172 Q1781.19 686.251 1774.87 686.251 Q1772.69 686.251 1770.42 685.881 Q1768.18 685.51 1765.77 684.77 L1765.77 680.071 Q1767.85 681.205 1770.08 681.76 Q1772.3 682.316 1774.77 682.316 Q1778.78 682.316 1781.12 680.21 Q1783.45 678.103 1783.45 674.492 Q1783.45 670.881 1781.12 668.774 Q1778.78 666.668 1774.77 666.668 Q1772.9 666.668 1771.02 667.085 Q1769.17 667.501 1767.23 668.381 L1767.23 651.02 Z\" fill=\"#000000\" fill-rule=\"evenodd\" fill-opacity=\"1\" /><path clip-path=\"url(#clip610)\" d=\"M2271.14 681.645 L2287.46 681.645 L2287.46 685.58 L2265.52 685.58 L2265.52 681.645 Q2268.18 678.89 2272.76 674.26 Q2277.37 669.608 2278.55 668.265 Q2280.79 665.742 2281.67 664.006 Q2282.58 662.247 2282.58 660.557 Q2282.58 657.802 2280.63 656.066 Q2278.71 654.33 2275.61 654.33 Q2273.41 654.33 2270.96 655.094 Q2268.53 655.858 2265.75 657.409 L2265.75 652.687 Q2268.57 651.552 2271.03 650.974 Q2273.48 650.395 2275.52 650.395 Q2280.89 650.395 2284.08 653.08 Q2287.27 655.765 2287.27 660.256 Q2287.27 662.386 2286.46 664.307 Q2285.68 666.205 2283.57 668.798 Q2282.99 669.469 2279.89 672.686 Q2276.79 675.881 2271.14 681.645 Z\" fill=\"#000000\" fill-rule=\"evenodd\" fill-opacity=\"1\" /><path clip-path=\"url(#clip610)\" d=\"M2307.27 654.099 Q2303.66 654.099 2301.84 657.663 Q2300.03 661.205 2300.03 668.335 Q2300.03 675.441 2301.84 679.006 Q2303.66 682.547 2307.27 682.547 Q2310.91 682.547 2312.71 679.006 Q2314.54 675.441 2314.54 668.335 Q2314.54 661.205 2312.71 657.663 Q2310.91 654.099 2307.27 654.099 M2307.27 650.395 Q2313.09 650.395 2316.14 655.001 Q2319.22 659.585 2319.22 668.335 Q2319.22 677.061 2316.14 681.668 Q2313.09 686.251 2307.27 686.251 Q2301.46 686.251 2298.39 681.668 Q2295.33 677.061 2295.33 668.335 Q2295.33 659.585 2298.39 655.001 Q2301.46 650.395 2307.27 650.395 Z\" fill=\"#000000\" fill-rule=\"evenodd\" fill-opacity=\"1\" /><path clip-path=\"url(#clip610)\" d=\"M1180.03 722.274 L1180.03 732.396 L1192.1 732.396 L1192.1 736.947 L1180.03 736.947 L1180.03 756.299 Q1180.03 760.66 1181.21 761.901 Q1182.42 763.142 1186.08 763.142 L1192.1 763.142 L1192.1 768.044 L1186.08 768.044 Q1179.3 768.044 1176.72 765.529 Q1174.14 762.983 1174.14 756.299 L1174.14 736.947 L1169.85 736.947 L1169.85 732.396 L1174.14 732.396 L1174.14 722.274 L1180.03 722.274 Z\" fill=\"#000000\" fill-rule=\"evenodd\" fill-opacity=\"1\" /><path clip-path=\"url(#clip610)\" d=\"M1199.8 732.396 L1205.65 732.396 L1205.65 768.044 L1199.8 768.044 L1199.8 732.396 M1199.8 718.519 L1205.65 718.519 L1205.65 725.935 L1199.8 725.935 L1199.8 718.519 Z\" fill=\"#000000\" fill-rule=\"evenodd\" fill-opacity=\"1\" /><path clip-path=\"url(#clip610)\" d=\"M1245.66 739.239 Q1247.86 735.292 1250.91 733.414 Q1253.97 731.537 1258.11 731.537 Q1263.68 731.537 1266.7 735.451 Q1269.73 739.335 1269.73 746.528 L1269.73 768.044 L1263.84 768.044 L1263.84 746.719 Q1263.84 741.594 1262.02 739.112 Q1260.21 736.629 1256.48 736.629 Q1251.93 736.629 1249.29 739.653 Q1246.65 742.677 1246.65 747.896 L1246.65 768.044 L1240.76 768.044 L1240.76 746.719 Q1240.76 741.563 1238.95 739.112 Q1237.13 736.629 1233.35 736.629 Q1228.86 736.629 1226.22 739.685 Q1223.57 742.708 1223.57 747.896 L1223.57 768.044 L1217.69 768.044 L1217.69 732.396 L1223.57 732.396 L1223.57 737.934 Q1225.58 734.656 1228.38 733.096 Q1231.18 731.537 1235.03 731.537 Q1238.92 731.537 1241.62 733.51 Q1244.36 735.483 1245.66 739.239 Z\" fill=\"#000000\" fill-rule=\"evenodd\" fill-opacity=\"1\" /><path clip-path=\"url(#clip610)\" d=\"M1311.9 748.756 L1311.9 751.62 L1284.97 751.62 Q1285.35 757.668 1288.6 760.851 Q1291.88 764.002 1297.7 764.002 Q1301.08 764.002 1304.23 763.174 Q1307.41 762.347 1310.53 760.691 L1310.53 766.23 Q1307.38 767.566 1304.07 768.267 Q1300.76 768.967 1297.35 768.967 Q1288.82 768.967 1283.83 764.002 Q1278.86 759.036 1278.86 750.57 Q1278.86 741.817 1283.57 736.693 Q1288.31 731.537 1296.33 731.537 Q1303.53 731.537 1307.7 736.183 Q1311.9 740.799 1311.9 748.756 M1306.04 747.037 Q1305.98 742.231 1303.34 739.366 Q1300.73 736.502 1296.4 736.502 Q1291.5 736.502 1288.54 739.271 Q1285.61 742.04 1285.16 747.069 L1306.04 747.037 Z\" fill=\"#000000\" fill-rule=\"evenodd\" fill-opacity=\"1\" /><path clip-path=\"url(#clip610)\" d=\"M1320.97 718.519 L1334.46 718.519 L1334.46 723.07 L1326.83 723.07 L1326.83 772.086 L1334.46 772.086 L1334.46 776.638 L1320.97 776.638 L1320.97 718.519 Z\" fill=\"#000000\" fill-rule=\"evenodd\" fill-opacity=\"1\" /><path clip-path=\"url(#clip610)\" d=\"M1376.57 746.528 L1376.57 768.044 L1370.72 768.044 L1370.72 746.719 Q1370.72 741.658 1368.74 739.144 Q1366.77 736.629 1362.82 736.629 Q1358.08 736.629 1355.34 739.653 Q1352.61 742.677 1352.61 747.896 L1352.61 768.044 L1346.72 768.044 L1346.72 718.519 L1352.61 718.519 L1352.61 737.934 Q1354.71 734.719 1357.54 733.128 Q1360.41 731.537 1364.13 731.537 Q1370.27 731.537 1373.42 735.356 Q1376.57 739.144 1376.57 746.528 Z\" fill=\"#000000\" fill-rule=\"evenodd\" fill-opacity=\"1\" /><path clip-path=\"url(#clip610)\" d=\"M1401.94 718.519 L1401.94 776.638 L1388.45 776.638 L1388.45 772.086 L1396.05 772.086 L1396.05 723.07 L1388.45 723.07 L1388.45 718.519 L1401.94 718.519 Z\" fill=\"#000000\" fill-rule=\"evenodd\" fill-opacity=\"1\" /><polyline clip-path=\"url(#clip612)\" style=\"stroke:#000000; stroke-linecap:round; stroke-linejoin:round; stroke-width:8; stroke-opacity:0.1; fill:none\" points=\"219.033,623.18 2352.76,623.18 \"/>\n",
       "<polyline clip-path=\"url(#clip612)\" style=\"stroke:#000000; stroke-linecap:round; stroke-linejoin:round; stroke-width:8; stroke-opacity:0.1; fill:none\" points=\"219.033,507.993 2352.76,507.993 \"/>\n",
       "<polyline clip-path=\"url(#clip612)\" style=\"stroke:#000000; stroke-linecap:round; stroke-linejoin:round; stroke-width:8; stroke-opacity:0.1; fill:none\" points=\"219.033,392.806 2352.76,392.806 \"/>\n",
       "<polyline clip-path=\"url(#clip612)\" style=\"stroke:#000000; stroke-linecap:round; stroke-linejoin:round; stroke-width:8; stroke-opacity:0.1; fill:none\" points=\"219.033,277.618 2352.76,277.618 \"/>\n",
       "<polyline clip-path=\"url(#clip612)\" style=\"stroke:#000000; stroke-linecap:round; stroke-linejoin:round; stroke-width:8; stroke-opacity:0.1; fill:none\" points=\"219.033,162.431 2352.76,162.431 \"/>\n",
       "<polyline clip-path=\"url(#clip612)\" style=\"stroke:#000000; stroke-linecap:round; stroke-linejoin:round; stroke-width:8; stroke-opacity:0.1; fill:none\" points=\"219.033,47.2441 2352.76,47.2441 \"/>\n",
       "<polyline clip-path=\"url(#clip610)\" style=\"stroke:#000000; stroke-linecap:round; stroke-linejoin:round; stroke-width:4; stroke-opacity:1; fill:none\" points=\"219.033,623.18 219.033,47.2441 \"/>\n",
       "<polyline clip-path=\"url(#clip610)\" style=\"stroke:#000000; stroke-linecap:round; stroke-linejoin:round; stroke-width:4; stroke-opacity:1; fill:none\" points=\"219.033,623.18 237.931,623.18 \"/>\n",
       "<polyline clip-path=\"url(#clip610)\" style=\"stroke:#000000; stroke-linecap:round; stroke-linejoin:round; stroke-width:4; stroke-opacity:1; fill:none\" points=\"219.033,507.993 237.931,507.993 \"/>\n",
       "<polyline clip-path=\"url(#clip610)\" style=\"stroke:#000000; stroke-linecap:round; stroke-linejoin:round; stroke-width:4; stroke-opacity:1; fill:none\" points=\"219.033,392.806 237.931,392.806 \"/>\n",
       "<polyline clip-path=\"url(#clip610)\" style=\"stroke:#000000; stroke-linecap:round; stroke-linejoin:round; stroke-width:4; stroke-opacity:1; fill:none\" points=\"219.033,277.618 237.931,277.618 \"/>\n",
       "<polyline clip-path=\"url(#clip610)\" style=\"stroke:#000000; stroke-linecap:round; stroke-linejoin:round; stroke-width:4; stroke-opacity:1; fill:none\" points=\"219.033,162.431 237.931,162.431 \"/>\n",
       "<polyline clip-path=\"url(#clip610)\" style=\"stroke:#000000; stroke-linecap:round; stroke-linejoin:round; stroke-width:4; stroke-opacity:1; fill:none\" points=\"219.033,47.2441 237.931,47.2441 \"/>\n",
       "<path clip-path=\"url(#clip610)\" d=\"M116.668 636.525 L124.306 636.525 L124.306 610.159 L115.996 611.826 L115.996 607.567 L124.26 605.9 L128.936 605.9 L128.936 636.525 L136.575 636.525 L136.575 640.46 L116.668 640.46 L116.668 636.525 Z\" fill=\"#000000\" fill-rule=\"evenodd\" fill-opacity=\"1\" /><path clip-path=\"url(#clip610)\" d=\"M146.019 634.58 L150.903 634.58 L150.903 640.46 L146.019 640.46 L146.019 634.58 Z\" fill=\"#000000\" fill-rule=\"evenodd\" fill-opacity=\"1\" /><path clip-path=\"url(#clip610)\" d=\"M171.089 608.979 Q167.477 608.979 165.649 612.543 Q163.843 616.085 163.843 623.215 Q163.843 630.321 165.649 633.886 Q167.477 637.427 171.089 637.427 Q174.723 637.427 176.528 633.886 Q178.357 630.321 178.357 623.215 Q178.357 616.085 176.528 612.543 Q174.723 608.979 171.089 608.979 M171.089 605.275 Q176.899 605.275 179.954 609.881 Q183.033 614.465 183.033 623.215 Q183.033 631.941 179.954 636.548 Q176.899 641.131 171.089 641.131 Q165.278 641.131 162.2 636.548 Q159.144 631.941 159.144 623.215 Q159.144 614.465 162.2 609.881 Q165.278 605.275 171.089 605.275 Z\" fill=\"#000000\" fill-rule=\"evenodd\" fill-opacity=\"1\" /><path clip-path=\"url(#clip610)\" d=\"M118.265 521.338 L125.904 521.338 L125.904 494.972 L117.593 496.639 L117.593 492.379 L125.857 490.713 L130.533 490.713 L130.533 521.338 L138.172 521.338 L138.172 525.273 L118.265 525.273 L118.265 521.338 Z\" fill=\"#000000\" fill-rule=\"evenodd\" fill-opacity=\"1\" /><path clip-path=\"url(#clip610)\" d=\"M147.616 519.393 L152.501 519.393 L152.501 525.273 L147.616 525.273 L147.616 519.393 Z\" fill=\"#000000\" fill-rule=\"evenodd\" fill-opacity=\"1\" /><path clip-path=\"url(#clip610)\" d=\"M166.714 521.338 L183.033 521.338 L183.033 525.273 L161.089 525.273 L161.089 521.338 Q163.751 518.583 168.334 513.953 Q172.94 509.301 174.121 507.958 Q176.366 505.435 177.246 503.699 Q178.149 501.939 178.149 500.25 Q178.149 497.495 176.204 495.759 Q174.283 494.023 171.181 494.023 Q168.982 494.023 166.528 494.787 Q164.098 495.551 161.32 497.102 L161.32 492.379 Q164.144 491.245 166.598 490.666 Q169.052 490.088 171.089 490.088 Q176.459 490.088 179.653 492.773 Q182.848 495.458 182.848 499.949 Q182.848 502.078 182.038 504 Q181.251 505.898 179.144 508.49 Q178.565 509.162 175.464 512.379 Q172.362 515.574 166.714 521.338 Z\" fill=\"#000000\" fill-rule=\"evenodd\" fill-opacity=\"1\" /><path clip-path=\"url(#clip610)\" d=\"M116.181 406.15 L123.82 406.15 L123.82 379.785 L115.51 381.451 L115.51 377.192 L123.774 375.526 L128.45 375.526 L128.45 406.15 L136.089 406.15 L136.089 410.086 L116.181 410.086 L116.181 406.15 Z\" fill=\"#000000\" fill-rule=\"evenodd\" fill-opacity=\"1\" /><path clip-path=\"url(#clip610)\" d=\"M145.533 404.206 L150.417 404.206 L150.417 410.086 L145.533 410.086 L145.533 404.206 Z\" fill=\"#000000\" fill-rule=\"evenodd\" fill-opacity=\"1\" /><path clip-path=\"url(#clip610)\" d=\"M173.45 379.6 L161.644 398.049 L173.45 398.049 L173.45 379.6 M172.223 375.526 L178.102 375.526 L178.102 398.049 L183.033 398.049 L183.033 401.937 L178.102 401.937 L178.102 410.086 L173.45 410.086 L173.45 401.937 L157.848 401.937 L157.848 397.424 L172.223 375.526 Z\" fill=\"#000000\" fill-rule=\"evenodd\" fill-opacity=\"1\" /><path clip-path=\"url(#clip610)\" d=\"M116.506 290.963 L124.144 290.963 L124.144 264.598 L115.834 266.264 L115.834 262.005 L124.098 260.338 L128.774 260.338 L128.774 290.963 L136.413 290.963 L136.413 294.898 L116.506 294.898 L116.506 290.963 Z\" fill=\"#000000\" fill-rule=\"evenodd\" fill-opacity=\"1\" /><path clip-path=\"url(#clip610)\" d=\"M145.857 289.019 L150.741 289.019 L150.741 294.898 L145.857 294.898 L145.857 289.019 Z\" fill=\"#000000\" fill-rule=\"evenodd\" fill-opacity=\"1\" /><path clip-path=\"url(#clip610)\" d=\"M171.505 275.755 Q168.357 275.755 166.505 277.908 Q164.677 280.061 164.677 283.81 Q164.677 287.537 166.505 289.713 Q168.357 291.866 171.505 291.866 Q174.653 291.866 176.482 289.713 Q178.334 287.537 178.334 283.81 Q178.334 280.061 176.482 277.908 Q174.653 275.755 171.505 275.755 M180.788 261.102 L180.788 265.362 Q179.028 264.528 177.223 264.088 Q175.44 263.649 173.681 263.649 Q169.052 263.649 166.598 266.774 Q164.167 269.899 163.82 276.218 Q165.186 274.204 167.246 273.139 Q169.306 272.051 171.783 272.051 Q176.991 272.051 180.001 275.223 Q183.033 278.371 183.033 283.81 Q183.033 289.135 179.885 292.352 Q176.737 295.57 171.505 295.57 Q165.51 295.57 162.339 290.986 Q159.167 286.38 159.167 277.653 Q159.167 269.459 163.056 264.598 Q166.945 259.713 173.496 259.713 Q175.255 259.713 177.038 260.061 Q178.843 260.408 180.788 261.102 Z\" fill=\"#000000\" fill-rule=\"evenodd\" fill-opacity=\"1\" /><path clip-path=\"url(#clip610)\" d=\"M116.76 175.776 L124.399 175.776 L124.399 149.41 L116.089 151.077 L116.089 146.818 L124.353 145.151 L129.029 145.151 L129.029 175.776 L136.667 175.776 L136.667 179.711 L116.76 179.711 L116.76 175.776 Z\" fill=\"#000000\" fill-rule=\"evenodd\" fill-opacity=\"1\" /><path clip-path=\"url(#clip610)\" d=\"M146.112 173.832 L150.996 173.832 L150.996 179.711 L146.112 179.711 L146.112 173.832 Z\" fill=\"#000000\" fill-rule=\"evenodd\" fill-opacity=\"1\" /><path clip-path=\"url(#clip610)\" d=\"M171.181 163.299 Q167.848 163.299 165.927 165.082 Q164.028 166.864 164.028 169.989 Q164.028 173.114 165.927 174.896 Q167.848 176.679 171.181 176.679 Q174.514 176.679 176.436 174.896 Q178.357 173.091 178.357 169.989 Q178.357 166.864 176.436 165.082 Q174.538 163.299 171.181 163.299 M166.505 161.309 Q163.496 160.568 161.806 158.508 Q160.14 156.447 160.14 153.485 Q160.14 149.341 163.079 146.934 Q166.042 144.526 171.181 144.526 Q176.343 144.526 179.283 146.934 Q182.223 149.341 182.223 153.485 Q182.223 156.447 180.533 158.508 Q178.866 160.568 175.88 161.309 Q179.26 162.096 181.135 164.387 Q183.033 166.679 183.033 169.989 Q183.033 175.012 179.954 177.697 Q176.899 180.383 171.181 180.383 Q165.464 180.383 162.385 177.697 Q159.329 175.012 159.329 169.989 Q159.329 166.679 161.227 164.387 Q163.126 162.096 166.505 161.309 M164.792 153.924 Q164.792 156.61 166.459 158.114 Q168.149 159.619 171.181 159.619 Q174.19 159.619 175.88 158.114 Q177.593 156.61 177.593 153.924 Q177.593 151.239 175.88 149.735 Q174.19 148.23 171.181 148.23 Q168.149 148.23 166.459 149.735 Q164.792 151.239 164.792 153.924 Z\" fill=\"#000000\" fill-rule=\"evenodd\" fill-opacity=\"1\" /><path clip-path=\"url(#clip610)\" d=\"M119.885 60.5889 L136.204 60.5889 L136.204 64.5241 L114.26 64.5241 L114.26 60.5889 Q116.922 57.8343 121.505 53.2047 Q126.112 48.552 127.292 47.2094 Q129.538 44.6862 130.417 42.9501 Q131.32 41.1909 131.32 39.5011 Q131.32 36.7465 129.376 35.0104 Q127.455 33.2743 124.353 33.2743 Q122.154 33.2743 119.7 34.0381 Q117.269 34.802 114.492 36.3529 L114.492 31.6308 Q117.316 30.4965 119.769 29.9178 Q122.223 29.3391 124.26 29.3391 Q129.63 29.3391 132.825 32.0243 Q136.019 34.7094 136.019 39.2002 Q136.019 41.3298 135.209 43.2511 Q134.422 45.1492 132.316 47.7418 Q131.737 48.4131 128.635 51.6306 Q125.533 54.8251 119.885 60.5889 Z\" fill=\"#000000\" fill-rule=\"evenodd\" fill-opacity=\"1\" /><path clip-path=\"url(#clip610)\" d=\"M146.019 58.6445 L150.903 58.6445 L150.903 64.5241 L146.019 64.5241 L146.019 58.6445 Z\" fill=\"#000000\" fill-rule=\"evenodd\" fill-opacity=\"1\" /><path clip-path=\"url(#clip610)\" d=\"M171.089 33.0428 Q167.477 33.0428 165.649 36.6076 Q163.843 40.1492 163.843 47.2788 Q163.843 54.3853 165.649 57.9501 Q167.477 61.4917 171.089 61.4917 Q174.723 61.4917 176.528 57.9501 Q178.357 54.3853 178.357 47.2788 Q178.357 40.1492 176.528 36.6076 Q174.723 33.0428 171.089 33.0428 M171.089 29.3391 Q176.899 29.3391 179.954 33.9456 Q183.033 38.5289 183.033 47.2788 Q183.033 56.0056 179.954 60.6121 Q176.899 65.1954 171.089 65.1954 Q165.278 65.1954 162.2 60.6121 Q159.144 56.0056 159.144 47.2788 Q159.144 38.5289 162.2 33.9456 Q165.278 29.3391 171.089 29.3391 Z\" fill=\"#000000\" fill-rule=\"evenodd\" fill-opacity=\"1\" /><path clip-path=\"url(#clip610)\" d=\"M49.9359 453.964 L28.3562 453.964 L28.3562 448.108 L49.7131 448.108 Q54.7739 448.108 57.3202 446.134 Q59.8346 444.161 59.8346 440.214 Q59.8346 435.472 56.8109 432.735 Q53.7872 429.966 48.5673 429.966 L28.3562 429.966 L28.3562 424.109 L64.0042 424.109 L64.0042 429.966 L58.5296 429.966 Q61.7762 432.098 63.3676 434.931 Q64.9272 437.732 64.9272 441.456 Q64.9272 447.599 61.1078 450.781 Q57.2883 453.964 49.9359 453.964 M27.4968 439.228 L27.4968 439.228 Z\" fill=\"#000000\" fill-rule=\"evenodd\" fill-opacity=\"1\" /><path clip-path=\"url(#clip610)\" d=\"M35.1993 363.571 Q31.2526 361.375 29.3747 358.319 Q27.4968 355.264 27.4968 351.126 Q27.4968 345.556 31.4117 342.533 Q35.2948 339.509 42.4881 339.509 L64.0042 339.509 L64.0042 345.397 L42.679 345.397 Q37.5546 345.397 35.072 347.211 Q32.5894 349.026 32.5894 352.749 Q32.5894 357.301 35.6131 359.943 Q38.6368 362.585 43.8567 362.585 L64.0042 362.585 L64.0042 368.473 L42.679 368.473 Q37.5228 368.473 35.072 370.287 Q32.5894 372.101 32.5894 375.889 Q32.5894 380.377 35.6449 383.018 Q38.6686 385.66 43.8567 385.66 L64.0042 385.66 L64.0042 391.548 L28.3562 391.548 L28.3562 385.66 L33.8944 385.66 Q30.616 383.655 29.0564 380.854 Q27.4968 378.053 27.4968 374.202 Q27.4968 370.319 29.4702 367.613 Q31.4436 364.876 35.1993 363.571 Z\" fill=\"#000000\" fill-rule=\"evenodd\" fill-opacity=\"1\" /><path clip-path=\"url(#clip610)\" d=\"M32.4621 314.014 Q32.4621 318.725 36.1542 321.462 Q39.8145 324.199 46.212 324.199 Q52.6095 324.199 56.3017 321.494 Q59.9619 318.757 59.9619 314.014 Q59.9619 309.335 56.2698 306.598 Q52.5777 303.861 46.212 303.861 Q39.8781 303.861 36.186 306.598 Q32.4621 309.335 32.4621 314.014 M27.4968 314.014 Q27.4968 306.375 32.4621 302.015 Q37.4273 297.654 46.212 297.654 Q54.9649 297.654 59.9619 302.015 Q64.9272 306.375 64.9272 314.014 Q64.9272 321.685 59.9619 326.045 Q54.9649 330.374 46.212 330.374 Q37.4273 330.374 32.4621 326.045 Q27.4968 321.685 27.4968 314.014 Z\" fill=\"#000000\" fill-rule=\"evenodd\" fill-opacity=\"1\" /><path clip-path=\"url(#clip610)\" d=\"M42.4881 258.314 L64.0042 258.314 L64.0042 264.171 L42.679 264.171 Q37.6183 264.171 35.1038 266.144 Q32.5894 268.117 32.5894 272.064 Q32.5894 276.807 35.6131 279.544 Q38.6368 282.281 43.8567 282.281 L64.0042 282.281 L64.0042 288.169 L28.3562 288.169 L28.3562 282.281 L33.8944 282.281 Q30.6797 280.18 29.0883 277.348 Q27.4968 274.483 27.4968 270.759 Q27.4968 264.616 31.3163 261.465 Q35.1038 258.314 42.4881 258.314 Z\" fill=\"#000000\" fill-rule=\"evenodd\" fill-opacity=\"1\" /><path clip-path=\"url(#clip610)\" d=\"M32.4621 232.82 Q32.4621 237.53 36.1542 240.267 Q39.8145 243.005 46.212 243.005 Q52.6095 243.005 56.3017 240.299 Q59.9619 237.562 59.9619 232.82 Q59.9619 228.141 56.2698 225.404 Q52.5777 222.666 46.212 222.666 Q39.8781 222.666 36.186 225.404 Q32.4621 228.141 32.4621 232.82 M27.4968 232.82 Q27.4968 225.181 32.4621 220.82 Q37.4273 216.46 46.212 216.46 Q54.9649 216.46 59.9619 220.82 Q64.9272 225.181 64.9272 232.82 Q64.9272 240.49 59.9619 244.851 Q54.9649 249.179 46.212 249.179 Q37.4273 249.179 32.4621 244.851 Q27.4968 240.49 27.4968 232.82 Z\" fill=\"#000000\" fill-rule=\"evenodd\" fill-opacity=\"1\" /><polyline clip-path=\"url(#clip612)\" style=\"stroke:#ff0000; stroke-linecap:round; stroke-linejoin:round; stroke-width:12; stroke-opacity:0.3; fill:none\" points=\"279.421,623.18 279.421,147.982 385.366,147.982 385.366,47.8785 491.31,47.8785 491.31,106.409 597.255,106.409 597.255,372.819 703.199,372.819 703.199,351.989 809.144,351.989 809.144,250.687 915.089,250.687 915.089,206.517 1021.03,206.517 1021.03,290 1126.98,290 1126.98,245.825 1232.92,245.825 1232.92,231.823 1338.87,231.823 1338.87,249.55 1444.81,249.55 1444.81,291.034 1550.76,291.034 1550.76,239.838 1656.7,239.838 1656.7,238.72 1762.64,238.72 1762.64,254.454 1868.59,254.454 1868.59,283.235 1974.53,283.235 1974.53,240.289 2080.48,240.289 2080.48,241.512 2186.42,241.512 2186.42,255.502 2292.37,255.502 \"/>\n",
       "<polyline clip-path=\"url(#clip612)\" style=\"stroke:#e3001c; stroke-linecap:round; stroke-linejoin:round; stroke-width:12; stroke-opacity:0.3; fill:none\" points=\"279.421,623.18 279.421,147.982 385.366,147.982 385.366,52.1679 491.31,52.1679 491.31,107.105 597.255,107.105 597.255,359.625 703.199,359.625 703.199,334.657 809.144,334.657 809.144,240.98 915.089,240.98 915.089,207.543 1021.03,207.543 1021.03,294.89 1126.98,294.89 1126.98,247.513 1232.92,247.513 1232.92,227.491 1338.87,227.491 1338.87,242.689 1444.81,242.689 1444.81,294.771 1550.76,294.771 1550.76,240.214 1656.7,240.214 1656.7,230.714 1762.64,230.714 1762.64,248.636 1868.59,248.636 1868.59,290.014 1974.53,290.014 1974.53,237.217 2080.48,237.217 2080.48,234.576 2186.42,234.576 2186.42,249.911 2292.37,249.911 \"/>\n",
       "<polyline clip-path=\"url(#clip612)\" style=\"stroke:#c60039; stroke-linecap:round; stroke-linejoin:round; stroke-width:12; stroke-opacity:0.3; fill:none\" points=\"279.421,623.18 279.421,147.982 385.366,147.982 385.366,51.6617 491.31,51.6617 491.31,107.016 597.255,107.016 597.255,361.188 703.199,361.188 703.199,336.733 809.144,336.733 809.144,242.182 915.089,242.182 915.089,207.476 1021.03,207.476 1021.03,294.089 1126.98,294.089 1126.98,247.071 1232.92,247.071 1232.92,228.02 1338.87,228.02 1338.87,243.705 1444.81,243.705 1444.81,293.972 1550.76,293.972 1550.76,239.999 1656.7,239.999 1656.7,232.106 1762.64,232.106 1762.64,249.314 1868.59,249.314 1868.59,289.419 1974.53,289.419 1974.53,237.137 2080.48,237.137 2080.48,235.668 2186.42,235.668 2186.42,250.697 2292.37,250.697 \"/>\n",
       "<polyline clip-path=\"url(#clip612)\" style=\"stroke:#aa0055; stroke-linecap:round; stroke-linejoin:round; stroke-width:12; stroke-opacity:0.3; fill:none\" points=\"279.421,623.18 279.421,147.982 385.366,147.982 385.366,45.8963 491.31,45.8963 491.31,106.154 597.255,106.154 597.255,379.219 703.199,379.219 703.199,360.221 809.144,360.221 809.144,255.017 915.089,255.017 915.089,205.514 1021.03,205.514 1021.03,288.014 1126.98,288.014 1126.98,245.516 1232.92,245.516 1232.92,233.849 1338.87,233.849 1338.87,252.38 1444.81,252.38 1444.81,287.255 1550.76,287.255 1550.76,241.941 1656.7,241.941 1656.7,242.504 1762.64,242.504 1762.64,256.772 1868.59,256.772 1868.59,278.672 1974.53,278.672 1974.53,242.747 2080.48,242.747 2080.48,245.127 2186.42,245.127 2186.42,257.767 2292.37,257.767 \"/>\n",
       "<polyline clip-path=\"url(#clip612)\" style=\"stroke:#8e0071; stroke-linecap:round; stroke-linejoin:round; stroke-width:12; stroke-opacity:0.3; fill:none\" points=\"279.421,623.18 279.421,147.982 385.366,147.982 385.366,46.6363 491.31,46.6363 491.31,106.243 597.255,106.243 597.255,376.826 703.199,376.826 703.199,357.156 809.144,357.156 809.144,253.425 915.089,253.425 915.089,205.918 1021.03,205.918 1021.03,288.748 1126.98,288.748 1126.98,245.607 1232.92,245.607 1232.92,233.092 1338.87,233.092 1338.87,251.349 1444.81,251.349 1444.81,288.653 1550.76,288.653 1550.76,241.128 1656.7,241.128 1656.7,241.141 1762.64,241.141 1762.64,255.881 1868.59,255.881 1868.59,280.463 1974.53,280.463 1974.53,241.737 2080.48,241.737 2080.48,243.766 2186.42,243.766 2186.42,257.159 2292.37,257.159 \"/>\n",
       "<polyline clip-path=\"url(#clip612)\" style=\"stroke:#71008e; stroke-linecap:round; stroke-linejoin:round; stroke-width:12; stroke-opacity:0.3; fill:none\" points=\"279.421,623.18 279.421,147.982 385.366,147.982 385.366,59.7499 491.31,59.7499 491.31,108.822 597.255,108.822 597.255,338.301 703.199,338.301 703.199,305.319 809.144,305.319 809.144,222.372 915.089,222.372 915.089,207.213 1021.03,207.213 1021.03,306.022 1126.98,306.022 1126.98,253.627 1232.92,253.627 1232.92,217.917 1338.87,217.917 1338.87,228.069 1444.81,228.069 1444.81,301.321 1550.76,301.321 1550.76,245.685 1656.7,245.685 1656.7,220.263 1762.64,220.263 1762.64,233.479 1868.59,233.479 1868.59,298.007 1974.53,298.007 1974.53,241.309 2080.48,241.309 2080.48,221.356 2186.42,221.356 2186.42,235.533 2292.37,235.533 \"/>\n",
       "<polyline clip-path=\"url(#clip612)\" style=\"stroke:#5500aa; stroke-linecap:round; stroke-linejoin:round; stroke-width:12; stroke-opacity:0.3; fill:none\" points=\"279.421,623.18 279.421,147.982 385.366,147.982 385.366,48.1263 491.31,48.1263 491.31,106.442 597.255,106.442 597.255,372.033 703.199,372.033 703.199,350.972 809.144,350.972 809.144,250.14 915.089,250.14 915.089,206.616 1021.03,206.616 1021.03,290.248 1126.98,290.248 1126.98,245.873 1232.92,245.873 1232.92,231.565 1338.87,231.565 1338.87,249.182 1444.81,249.182 1444.81,291.463 1550.76,291.463 1550.76,239.606 1656.7,239.606 1656.7,238.277 1762.64,238.277 1762.64,254.163 1868.59,254.163 1868.59,283.77 1974.53,283.77 1974.53,239.991 2080.48,239.991 2080.48,241.069 2186.42,241.069 2186.42,255.163 2292.37,255.163 \"/>\n",
       "<polyline clip-path=\"url(#clip612)\" style=\"stroke:#3900c6; stroke-linecap:round; stroke-linejoin:round; stroke-width:12; stroke-opacity:0.3; fill:none\" points=\"279.421,623.18 279.421,147.982 385.366,147.982 385.366,46.8848 491.31,46.8848 491.31,106.275 597.255,106.275 597.255,376.025 703.199,376.025 703.199,356.127 809.144,356.127 809.144,252.885 915.089,252.885 915.089,206.046 1021.03,206.046 1021.03,288.996 1126.98,288.996 1126.98,245.644 1232.92,245.644 1232.92,232.838 1338.87,232.838 1338.87,250.997 1444.81,250.997 1444.81,289.121 1550.76,289.121 1550.76,240.871 1656.7,240.871 1656.7,240.663 1762.64,240.663 1762.64,255.598 1868.59,255.598 1868.59,281.011 1974.53,281.011 1974.53,241.459 2080.48,241.459 2080.48,243.306 2186.42,243.306 2186.42,256.844 2292.37,256.844 \"/>\n",
       "<polyline clip-path=\"url(#clip612)\" style=\"stroke:#1c00e3; stroke-linecap:round; stroke-linejoin:round; stroke-width:12; stroke-opacity:0.3; fill:none\" points=\"279.421,1199.12 279.421,1199.12 385.366,1199.12 491.31,1199.12 597.255,1199.12 703.199,1199.12 809.144,1199.12 915.089,1199.12 1021.03,1199.12 1126.98,1199.12 1232.92,1199.12 1338.87,1199.12 1444.81,1199.12 1550.76,1199.12 1656.7,1199.12 1762.64,1199.12 1868.59,1199.12 1974.53,1199.12 2080.48,1199.12 2186.42,1199.12 2292.37,1199.12 \"/>\n",
       "<polyline clip-path=\"url(#clip612)\" style=\"stroke:#0000ff; stroke-linecap:round; stroke-linejoin:round; stroke-width:12; stroke-opacity:0.3; fill:none\" points=\"279.421,1199.12 279.421,1199.12 385.366,1199.12 491.31,1199.12 597.255,1199.12 703.199,1199.12 809.144,1199.12 915.089,1199.12 1021.03,1199.12 1126.98,1199.12 1232.92,1199.12 1338.87,1199.12 1444.81,1199.12 1550.76,1199.12 1656.7,1199.12 1762.64,1199.12 1868.59,1199.12 1974.53,1199.12 2080.48,1199.12 2186.42,1199.12 2292.37,1199.12 \"/>\n",
       "<path clip-path=\"url(#clip610)\" d=\"M219.033 1423.18 L2352.76 1423.18 L2352.76 847.244 L219.033 847.244  Z\" fill=\"#ffffff\" fill-rule=\"evenodd\" fill-opacity=\"1\"/>\n",
       "<defs>\n",
       "  <clipPath id=\"clip613\">\n",
       "    <rect x=\"219\" y=\"847\" width=\"2135\" height=\"577\"/>\n",
       "  </clipPath>\n",
       "</defs>\n",
       "<polyline clip-path=\"url(#clip613)\" style=\"stroke:#000000; stroke-linecap:round; stroke-linejoin:round; stroke-width:8; stroke-opacity:0.1; fill:none\" points=\"703.199,1423.18 703.199,847.244 \"/>\n",
       "<polyline clip-path=\"url(#clip613)\" style=\"stroke:#000000; stroke-linecap:round; stroke-linejoin:round; stroke-width:8; stroke-opacity:0.1; fill:none\" points=\"1232.92,1423.18 1232.92,847.244 \"/>\n",
       "<polyline clip-path=\"url(#clip613)\" style=\"stroke:#000000; stroke-linecap:round; stroke-linejoin:round; stroke-width:8; stroke-opacity:0.1; fill:none\" points=\"1762.64,1423.18 1762.64,847.244 \"/>\n",
       "<polyline clip-path=\"url(#clip613)\" style=\"stroke:#000000; stroke-linecap:round; stroke-linejoin:round; stroke-width:8; stroke-opacity:0.1; fill:none\" points=\"2292.37,1423.18 2292.37,847.244 \"/>\n",
       "<polyline clip-path=\"url(#clip610)\" style=\"stroke:#000000; stroke-linecap:round; stroke-linejoin:round; stroke-width:4; stroke-opacity:1; fill:none\" points=\"219.033,1423.18 2352.76,1423.18 \"/>\n",
       "<polyline clip-path=\"url(#clip610)\" style=\"stroke:#000000; stroke-linecap:round; stroke-linejoin:round; stroke-width:4; stroke-opacity:1; fill:none\" points=\"703.199,1423.18 703.199,1404.28 \"/>\n",
       "<polyline clip-path=\"url(#clip610)\" style=\"stroke:#000000; stroke-linecap:round; stroke-linejoin:round; stroke-width:4; stroke-opacity:1; fill:none\" points=\"1232.92,1423.18 1232.92,1404.28 \"/>\n",
       "<polyline clip-path=\"url(#clip610)\" style=\"stroke:#000000; stroke-linecap:round; stroke-linejoin:round; stroke-width:4; stroke-opacity:1; fill:none\" points=\"1762.64,1423.18 1762.64,1404.28 \"/>\n",
       "<polyline clip-path=\"url(#clip610)\" style=\"stroke:#000000; stroke-linecap:round; stroke-linejoin:round; stroke-width:4; stroke-opacity:1; fill:none\" points=\"2292.37,1423.18 2292.37,1404.28 \"/>\n",
       "<path clip-path=\"url(#clip610)\" d=\"M693.477 1451.02 L711.834 1451.02 L711.834 1454.96 L697.76 1454.96 L697.76 1463.43 Q698.778 1463.08 699.797 1462.92 Q700.815 1462.73 701.834 1462.73 Q707.621 1462.73 711 1465.9 Q714.38 1469.08 714.38 1474.49 Q714.38 1480.07 710.908 1483.17 Q707.436 1486.25 701.116 1486.25 Q698.94 1486.25 696.672 1485.88 Q694.426 1485.51 692.019 1484.77 L692.019 1480.07 Q694.102 1481.2 696.325 1481.76 Q698.547 1482.32 701.024 1482.32 Q705.028 1482.32 707.366 1480.21 Q709.704 1478.1 709.704 1474.49 Q709.704 1470.88 707.366 1468.77 Q705.028 1466.67 701.024 1466.67 Q699.149 1466.67 697.274 1467.08 Q695.422 1467.5 693.477 1468.38 L693.477 1451.02 Z\" fill=\"#000000\" fill-rule=\"evenodd\" fill-opacity=\"1\" /><path clip-path=\"url(#clip610)\" d=\"M1207.61 1481.64 L1215.25 1481.64 L1215.25 1455.28 L1206.94 1456.95 L1206.94 1452.69 L1215.2 1451.02 L1219.88 1451.02 L1219.88 1481.64 L1227.52 1481.64 L1227.52 1485.58 L1207.61 1485.58 L1207.61 1481.64 Z\" fill=\"#000000\" fill-rule=\"evenodd\" fill-opacity=\"1\" /><path clip-path=\"url(#clip610)\" d=\"M1246.96 1454.1 Q1243.35 1454.1 1241.52 1457.66 Q1239.72 1461.2 1239.72 1468.33 Q1239.72 1475.44 1241.52 1479.01 Q1243.35 1482.55 1246.96 1482.55 Q1250.6 1482.55 1252.4 1479.01 Q1254.23 1475.44 1254.23 1468.33 Q1254.23 1461.2 1252.4 1457.66 Q1250.6 1454.1 1246.96 1454.1 M1246.96 1450.39 Q1252.77 1450.39 1255.83 1455 Q1258.91 1459.58 1258.91 1468.33 Q1258.91 1477.06 1255.83 1481.67 Q1252.77 1486.25 1246.96 1486.25 Q1241.15 1486.25 1238.07 1481.67 Q1235.02 1477.06 1235.02 1468.33 Q1235.02 1459.58 1238.07 1455 Q1241.15 1450.39 1246.96 1450.39 Z\" fill=\"#000000\" fill-rule=\"evenodd\" fill-opacity=\"1\" /><path clip-path=\"url(#clip610)\" d=\"M1737.83 1481.64 L1745.47 1481.64 L1745.47 1455.28 L1737.16 1456.95 L1737.16 1452.69 L1745.42 1451.02 L1750.1 1451.02 L1750.1 1481.64 L1757.74 1481.64 L1757.74 1485.58 L1737.83 1485.58 L1737.83 1481.64 Z\" fill=\"#000000\" fill-rule=\"evenodd\" fill-opacity=\"1\" /><path clip-path=\"url(#clip610)\" d=\"M1767.23 1451.02 L1785.58 1451.02 L1785.58 1454.96 L1771.51 1454.96 L1771.51 1463.43 Q1772.53 1463.08 1773.55 1462.92 Q1774.57 1462.73 1775.58 1462.73 Q1781.37 1462.73 1784.75 1465.9 Q1788.13 1469.08 1788.13 1474.49 Q1788.13 1480.07 1784.66 1483.17 Q1781.19 1486.25 1774.87 1486.25 Q1772.69 1486.25 1770.42 1485.88 Q1768.18 1485.51 1765.77 1484.77 L1765.77 1480.07 Q1767.85 1481.2 1770.08 1481.76 Q1772.3 1482.32 1774.77 1482.32 Q1778.78 1482.32 1781.12 1480.21 Q1783.45 1478.1 1783.45 1474.49 Q1783.45 1470.88 1781.12 1468.77 Q1778.78 1466.67 1774.77 1466.67 Q1772.9 1466.67 1771.02 1467.08 Q1769.17 1467.5 1767.23 1468.38 L1767.23 1451.02 Z\" fill=\"#000000\" fill-rule=\"evenodd\" fill-opacity=\"1\" /><path clip-path=\"url(#clip610)\" d=\"M2271.14 1481.64 L2287.46 1481.64 L2287.46 1485.58 L2265.52 1485.58 L2265.52 1481.64 Q2268.18 1478.89 2272.76 1474.26 Q2277.37 1469.61 2278.55 1468.27 Q2280.79 1465.74 2281.67 1464.01 Q2282.58 1462.25 2282.58 1460.56 Q2282.58 1457.8 2280.63 1456.07 Q2278.71 1454.33 2275.61 1454.33 Q2273.41 1454.33 2270.96 1455.09 Q2268.53 1455.86 2265.75 1457.41 L2265.75 1452.69 Q2268.57 1451.55 2271.03 1450.97 Q2273.48 1450.39 2275.52 1450.39 Q2280.89 1450.39 2284.08 1453.08 Q2287.27 1455.77 2287.27 1460.26 Q2287.27 1462.39 2286.46 1464.31 Q2285.68 1466.2 2283.57 1468.8 Q2282.99 1469.47 2279.89 1472.69 Q2276.79 1475.88 2271.14 1481.64 Z\" fill=\"#000000\" fill-rule=\"evenodd\" fill-opacity=\"1\" /><path clip-path=\"url(#clip610)\" d=\"M2307.27 1454.1 Q2303.66 1454.1 2301.84 1457.66 Q2300.03 1461.2 2300.03 1468.33 Q2300.03 1475.44 2301.84 1479.01 Q2303.66 1482.55 2307.27 1482.55 Q2310.91 1482.55 2312.71 1479.01 Q2314.54 1475.44 2314.54 1468.33 Q2314.54 1461.2 2312.71 1457.66 Q2310.91 1454.1 2307.27 1454.1 M2307.27 1450.39 Q2313.09 1450.39 2316.14 1455 Q2319.22 1459.58 2319.22 1468.33 Q2319.22 1477.06 2316.14 1481.67 Q2313.09 1486.25 2307.27 1486.25 Q2301.46 1486.25 2298.39 1481.67 Q2295.33 1477.06 2295.33 1468.33 Q2295.33 1459.58 2298.39 1455 Q2301.46 1450.39 2307.27 1450.39 Z\" fill=\"#000000\" fill-rule=\"evenodd\" fill-opacity=\"1\" /><path clip-path=\"url(#clip610)\" d=\"M1180.03 1522.27 L1180.03 1532.4 L1192.1 1532.4 L1192.1 1536.95 L1180.03 1536.95 L1180.03 1556.3 Q1180.03 1560.66 1181.21 1561.9 Q1182.42 1563.14 1186.08 1563.14 L1192.1 1563.14 L1192.1 1568.04 L1186.08 1568.04 Q1179.3 1568.04 1176.72 1565.53 Q1174.14 1562.98 1174.14 1556.3 L1174.14 1536.95 L1169.85 1536.95 L1169.85 1532.4 L1174.14 1532.4 L1174.14 1522.27 L1180.03 1522.27 Z\" fill=\"#000000\" fill-rule=\"evenodd\" fill-opacity=\"1\" /><path clip-path=\"url(#clip610)\" d=\"M1199.8 1532.4 L1205.65 1532.4 L1205.65 1568.04 L1199.8 1568.04 L1199.8 1532.4 M1199.8 1518.52 L1205.65 1518.52 L1205.65 1525.93 L1199.8 1525.93 L1199.8 1518.52 Z\" fill=\"#000000\" fill-rule=\"evenodd\" fill-opacity=\"1\" /><path clip-path=\"url(#clip610)\" d=\"M1245.66 1539.24 Q1247.86 1535.29 1250.91 1533.41 Q1253.97 1531.54 1258.11 1531.54 Q1263.68 1531.54 1266.7 1535.45 Q1269.73 1539.33 1269.73 1546.53 L1269.73 1568.04 L1263.84 1568.04 L1263.84 1546.72 Q1263.84 1541.59 1262.02 1539.11 Q1260.21 1536.63 1256.48 1536.63 Q1251.93 1536.63 1249.29 1539.65 Q1246.65 1542.68 1246.65 1547.9 L1246.65 1568.04 L1240.76 1568.04 L1240.76 1546.72 Q1240.76 1541.56 1238.95 1539.11 Q1237.13 1536.63 1233.35 1536.63 Q1228.86 1536.63 1226.22 1539.68 Q1223.57 1542.71 1223.57 1547.9 L1223.57 1568.04 L1217.69 1568.04 L1217.69 1532.4 L1223.57 1532.4 L1223.57 1537.93 Q1225.58 1534.66 1228.38 1533.1 Q1231.18 1531.54 1235.03 1531.54 Q1238.92 1531.54 1241.62 1533.51 Q1244.36 1535.48 1245.66 1539.24 Z\" fill=\"#000000\" fill-rule=\"evenodd\" fill-opacity=\"1\" /><path clip-path=\"url(#clip610)\" d=\"M1311.9 1548.76 L1311.9 1551.62 L1284.97 1551.62 Q1285.35 1557.67 1288.6 1560.85 Q1291.88 1564 1297.7 1564 Q1301.08 1564 1304.23 1563.17 Q1307.41 1562.35 1310.53 1560.69 L1310.53 1566.23 Q1307.38 1567.57 1304.07 1568.27 Q1300.76 1568.97 1297.35 1568.97 Q1288.82 1568.97 1283.83 1564 Q1278.86 1559.04 1278.86 1550.57 Q1278.86 1541.82 1283.57 1536.69 Q1288.31 1531.54 1296.33 1531.54 Q1303.53 1531.54 1307.7 1536.18 Q1311.9 1540.8 1311.9 1548.76 M1306.04 1547.04 Q1305.98 1542.23 1303.34 1539.37 Q1300.73 1536.5 1296.4 1536.5 Q1291.5 1536.5 1288.54 1539.27 Q1285.61 1542.04 1285.16 1547.07 L1306.04 1547.04 Z\" fill=\"#000000\" fill-rule=\"evenodd\" fill-opacity=\"1\" /><path clip-path=\"url(#clip610)\" d=\"M1320.97 1518.52 L1334.46 1518.52 L1334.46 1523.07 L1326.83 1523.07 L1326.83 1572.09 L1334.46 1572.09 L1334.46 1576.64 L1320.97 1576.64 L1320.97 1518.52 Z\" fill=\"#000000\" fill-rule=\"evenodd\" fill-opacity=\"1\" /><path clip-path=\"url(#clip610)\" d=\"M1376.57 1546.53 L1376.57 1568.04 L1370.72 1568.04 L1370.72 1546.72 Q1370.72 1541.66 1368.74 1539.14 Q1366.77 1536.63 1362.82 1536.63 Q1358.08 1536.63 1355.34 1539.65 Q1352.61 1542.68 1352.61 1547.9 L1352.61 1568.04 L1346.72 1568.04 L1346.72 1518.52 L1352.61 1518.52 L1352.61 1537.93 Q1354.71 1534.72 1357.54 1533.13 Q1360.41 1531.54 1364.13 1531.54 Q1370.27 1531.54 1373.42 1535.36 Q1376.57 1539.14 1376.57 1546.53 Z\" fill=\"#000000\" fill-rule=\"evenodd\" fill-opacity=\"1\" /><path clip-path=\"url(#clip610)\" d=\"M1401.94 1518.52 L1401.94 1576.64 L1388.45 1576.64 L1388.45 1572.09 L1396.05 1572.09 L1396.05 1523.07 L1388.45 1523.07 L1388.45 1518.52 L1401.94 1518.52 Z\" fill=\"#000000\" fill-rule=\"evenodd\" fill-opacity=\"1\" /><polyline clip-path=\"url(#clip613)\" style=\"stroke:#000000; stroke-linecap:round; stroke-linejoin:round; stroke-width:8; stroke-opacity:0.1; fill:none\" points=\"219.033,1423.18 2352.76,1423.18 \"/>\n",
       "<polyline clip-path=\"url(#clip613)\" style=\"stroke:#000000; stroke-linecap:round; stroke-linejoin:round; stroke-width:8; stroke-opacity:0.1; fill:none\" points=\"219.033,1307.99 2352.76,1307.99 \"/>\n",
       "<polyline clip-path=\"url(#clip613)\" style=\"stroke:#000000; stroke-linecap:round; stroke-linejoin:round; stroke-width:8; stroke-opacity:0.1; fill:none\" points=\"219.033,1192.81 2352.76,1192.81 \"/>\n",
       "<polyline clip-path=\"url(#clip613)\" style=\"stroke:#000000; stroke-linecap:round; stroke-linejoin:round; stroke-width:8; stroke-opacity:0.1; fill:none\" points=\"219.033,1077.62 2352.76,1077.62 \"/>\n",
       "<polyline clip-path=\"url(#clip613)\" style=\"stroke:#000000; stroke-linecap:round; stroke-linejoin:round; stroke-width:8; stroke-opacity:0.1; fill:none\" points=\"219.033,962.431 2352.76,962.431 \"/>\n",
       "<polyline clip-path=\"url(#clip613)\" style=\"stroke:#000000; stroke-linecap:round; stroke-linejoin:round; stroke-width:8; stroke-opacity:0.1; fill:none\" points=\"219.033,847.244 2352.76,847.244 \"/>\n",
       "<polyline clip-path=\"url(#clip610)\" style=\"stroke:#000000; stroke-linecap:round; stroke-linejoin:round; stroke-width:4; stroke-opacity:1; fill:none\" points=\"219.033,1423.18 219.033,847.244 \"/>\n",
       "<polyline clip-path=\"url(#clip610)\" style=\"stroke:#000000; stroke-linecap:round; stroke-linejoin:round; stroke-width:4; stroke-opacity:1; fill:none\" points=\"219.033,1423.18 237.931,1423.18 \"/>\n",
       "<polyline clip-path=\"url(#clip610)\" style=\"stroke:#000000; stroke-linecap:round; stroke-linejoin:round; stroke-width:4; stroke-opacity:1; fill:none\" points=\"219.033,1307.99 237.931,1307.99 \"/>\n",
       "<polyline clip-path=\"url(#clip610)\" style=\"stroke:#000000; stroke-linecap:round; stroke-linejoin:round; stroke-width:4; stroke-opacity:1; fill:none\" points=\"219.033,1192.81 237.931,1192.81 \"/>\n",
       "<polyline clip-path=\"url(#clip610)\" style=\"stroke:#000000; stroke-linecap:round; stroke-linejoin:round; stroke-width:4; stroke-opacity:1; fill:none\" points=\"219.033,1077.62 237.931,1077.62 \"/>\n",
       "<polyline clip-path=\"url(#clip610)\" style=\"stroke:#000000; stroke-linecap:round; stroke-linejoin:round; stroke-width:4; stroke-opacity:1; fill:none\" points=\"219.033,962.431 237.931,962.431 \"/>\n",
       "<polyline clip-path=\"url(#clip610)\" style=\"stroke:#000000; stroke-linecap:round; stroke-linejoin:round; stroke-width:4; stroke-opacity:1; fill:none\" points=\"219.033,847.244 237.931,847.244 \"/>\n",
       "<path clip-path=\"url(#clip610)\" d=\"M116.668 1436.52 L124.306 1436.52 L124.306 1410.16 L115.996 1411.83 L115.996 1407.57 L124.26 1405.9 L128.936 1405.9 L128.936 1436.52 L136.575 1436.52 L136.575 1440.46 L116.668 1440.46 L116.668 1436.52 Z\" fill=\"#000000\" fill-rule=\"evenodd\" fill-opacity=\"1\" /><path clip-path=\"url(#clip610)\" d=\"M146.019 1434.58 L150.903 1434.58 L150.903 1440.46 L146.019 1440.46 L146.019 1434.58 Z\" fill=\"#000000\" fill-rule=\"evenodd\" fill-opacity=\"1\" /><path clip-path=\"url(#clip610)\" d=\"M171.089 1408.98 Q167.477 1408.98 165.649 1412.54 Q163.843 1416.08 163.843 1423.21 Q163.843 1430.32 165.649 1433.89 Q167.477 1437.43 171.089 1437.43 Q174.723 1437.43 176.528 1433.89 Q178.357 1430.32 178.357 1423.21 Q178.357 1416.08 176.528 1412.54 Q174.723 1408.98 171.089 1408.98 M171.089 1405.27 Q176.899 1405.27 179.954 1409.88 Q183.033 1414.46 183.033 1423.21 Q183.033 1431.94 179.954 1436.55 Q176.899 1441.13 171.089 1441.13 Q165.278 1441.13 162.2 1436.55 Q159.144 1431.94 159.144 1423.21 Q159.144 1414.46 162.2 1409.88 Q165.278 1405.27 171.089 1405.27 Z\" fill=\"#000000\" fill-rule=\"evenodd\" fill-opacity=\"1\" /><path clip-path=\"url(#clip610)\" d=\"M118.265 1321.34 L125.904 1321.34 L125.904 1294.97 L117.593 1296.64 L117.593 1292.38 L125.857 1290.71 L130.533 1290.71 L130.533 1321.34 L138.172 1321.34 L138.172 1325.27 L118.265 1325.27 L118.265 1321.34 Z\" fill=\"#000000\" fill-rule=\"evenodd\" fill-opacity=\"1\" /><path clip-path=\"url(#clip610)\" d=\"M147.616 1319.39 L152.501 1319.39 L152.501 1325.27 L147.616 1325.27 L147.616 1319.39 Z\" fill=\"#000000\" fill-rule=\"evenodd\" fill-opacity=\"1\" /><path clip-path=\"url(#clip610)\" d=\"M166.714 1321.34 L183.033 1321.34 L183.033 1325.27 L161.089 1325.27 L161.089 1321.34 Q163.751 1318.58 168.334 1313.95 Q172.94 1309.3 174.121 1307.96 Q176.366 1305.43 177.246 1303.7 Q178.149 1301.94 178.149 1300.25 Q178.149 1297.5 176.204 1295.76 Q174.283 1294.02 171.181 1294.02 Q168.982 1294.02 166.528 1294.79 Q164.098 1295.55 161.32 1297.1 L161.32 1292.38 Q164.144 1291.25 166.598 1290.67 Q169.052 1290.09 171.089 1290.09 Q176.459 1290.09 179.653 1292.77 Q182.848 1295.46 182.848 1299.95 Q182.848 1302.08 182.038 1304 Q181.251 1305.9 179.144 1308.49 Q178.565 1309.16 175.464 1312.38 Q172.362 1315.57 166.714 1321.34 Z\" fill=\"#000000\" fill-rule=\"evenodd\" fill-opacity=\"1\" /><path clip-path=\"url(#clip610)\" d=\"M116.181 1206.15 L123.82 1206.15 L123.82 1179.78 L115.51 1181.45 L115.51 1177.19 L123.774 1175.53 L128.45 1175.53 L128.45 1206.15 L136.089 1206.15 L136.089 1210.09 L116.181 1210.09 L116.181 1206.15 Z\" fill=\"#000000\" fill-rule=\"evenodd\" fill-opacity=\"1\" /><path clip-path=\"url(#clip610)\" d=\"M145.533 1204.21 L150.417 1204.21 L150.417 1210.09 L145.533 1210.09 L145.533 1204.21 Z\" fill=\"#000000\" fill-rule=\"evenodd\" fill-opacity=\"1\" /><path clip-path=\"url(#clip610)\" d=\"M173.45 1179.6 L161.644 1198.05 L173.45 1198.05 L173.45 1179.6 M172.223 1175.53 L178.102 1175.53 L178.102 1198.05 L183.033 1198.05 L183.033 1201.94 L178.102 1201.94 L178.102 1210.09 L173.45 1210.09 L173.45 1201.94 L157.848 1201.94 L157.848 1197.42 L172.223 1175.53 Z\" fill=\"#000000\" fill-rule=\"evenodd\" fill-opacity=\"1\" /><path clip-path=\"url(#clip610)\" d=\"M116.506 1090.96 L124.144 1090.96 L124.144 1064.6 L115.834 1066.26 L115.834 1062.01 L124.098 1060.34 L128.774 1060.34 L128.774 1090.96 L136.413 1090.96 L136.413 1094.9 L116.506 1094.9 L116.506 1090.96 Z\" fill=\"#000000\" fill-rule=\"evenodd\" fill-opacity=\"1\" /><path clip-path=\"url(#clip610)\" d=\"M145.857 1089.02 L150.741 1089.02 L150.741 1094.9 L145.857 1094.9 L145.857 1089.02 Z\" fill=\"#000000\" fill-rule=\"evenodd\" fill-opacity=\"1\" /><path clip-path=\"url(#clip610)\" d=\"M171.505 1075.75 Q168.357 1075.75 166.505 1077.91 Q164.677 1080.06 164.677 1083.81 Q164.677 1087.54 166.505 1089.71 Q168.357 1091.87 171.505 1091.87 Q174.653 1091.87 176.482 1089.71 Q178.334 1087.54 178.334 1083.81 Q178.334 1080.06 176.482 1077.91 Q174.653 1075.75 171.505 1075.75 M180.788 1061.1 L180.788 1065.36 Q179.028 1064.53 177.223 1064.09 Q175.44 1063.65 173.681 1063.65 Q169.052 1063.65 166.598 1066.77 Q164.167 1069.9 163.82 1076.22 Q165.186 1074.2 167.246 1073.14 Q169.306 1072.05 171.783 1072.05 Q176.991 1072.05 180.001 1075.22 Q183.033 1078.37 183.033 1083.81 Q183.033 1089.13 179.885 1092.35 Q176.737 1095.57 171.505 1095.57 Q165.51 1095.57 162.339 1090.99 Q159.167 1086.38 159.167 1077.65 Q159.167 1069.46 163.056 1064.6 Q166.945 1059.71 173.496 1059.71 Q175.255 1059.71 177.038 1060.06 Q178.843 1060.41 180.788 1061.1 Z\" fill=\"#000000\" fill-rule=\"evenodd\" fill-opacity=\"1\" /><path clip-path=\"url(#clip610)\" d=\"M116.76 975.776 L124.399 975.776 L124.399 949.41 L116.089 951.077 L116.089 946.818 L124.353 945.151 L129.029 945.151 L129.029 975.776 L136.667 975.776 L136.667 979.711 L116.76 979.711 L116.76 975.776 Z\" fill=\"#000000\" fill-rule=\"evenodd\" fill-opacity=\"1\" /><path clip-path=\"url(#clip610)\" d=\"M146.112 973.832 L150.996 973.832 L150.996 979.711 L146.112 979.711 L146.112 973.832 Z\" fill=\"#000000\" fill-rule=\"evenodd\" fill-opacity=\"1\" /><path clip-path=\"url(#clip610)\" d=\"M171.181 963.299 Q167.848 963.299 165.927 965.082 Q164.028 966.864 164.028 969.989 Q164.028 973.114 165.927 974.896 Q167.848 976.679 171.181 976.679 Q174.514 976.679 176.436 974.896 Q178.357 973.091 178.357 969.989 Q178.357 966.864 176.436 965.082 Q174.538 963.299 171.181 963.299 M166.505 961.309 Q163.496 960.568 161.806 958.508 Q160.14 956.447 160.14 953.485 Q160.14 949.341 163.079 946.934 Q166.042 944.526 171.181 944.526 Q176.343 944.526 179.283 946.934 Q182.223 949.341 182.223 953.485 Q182.223 956.447 180.533 958.508 Q178.866 960.568 175.88 961.309 Q179.26 962.096 181.135 964.387 Q183.033 966.679 183.033 969.989 Q183.033 975.012 179.954 977.697 Q176.899 980.383 171.181 980.383 Q165.464 980.383 162.385 977.697 Q159.329 975.012 159.329 969.989 Q159.329 966.679 161.227 964.387 Q163.126 962.096 166.505 961.309 M164.792 953.924 Q164.792 956.61 166.459 958.114 Q168.149 959.619 171.181 959.619 Q174.19 959.619 175.88 958.114 Q177.593 956.61 177.593 953.924 Q177.593 951.239 175.88 949.735 Q174.19 948.23 171.181 948.23 Q168.149 948.23 166.459 949.735 Q164.792 951.239 164.792 953.924 Z\" fill=\"#000000\" fill-rule=\"evenodd\" fill-opacity=\"1\" /><path clip-path=\"url(#clip610)\" d=\"M119.885 860.589 L136.204 860.589 L136.204 864.524 L114.26 864.524 L114.26 860.589 Q116.922 857.834 121.505 853.205 Q126.112 848.552 127.292 847.209 Q129.538 844.686 130.417 842.95 Q131.32 841.191 131.32 839.501 Q131.32 836.746 129.376 835.01 Q127.455 833.274 124.353 833.274 Q122.154 833.274 119.7 834.038 Q117.269 834.802 114.492 836.353 L114.492 831.631 Q117.316 830.496 119.769 829.918 Q122.223 829.339 124.26 829.339 Q129.63 829.339 132.825 832.024 Q136.019 834.709 136.019 839.2 Q136.019 841.33 135.209 843.251 Q134.422 845.149 132.316 847.742 Q131.737 848.413 128.635 851.631 Q125.533 854.825 119.885 860.589 Z\" fill=\"#000000\" fill-rule=\"evenodd\" fill-opacity=\"1\" /><path clip-path=\"url(#clip610)\" d=\"M146.019 858.644 L150.903 858.644 L150.903 864.524 L146.019 864.524 L146.019 858.644 Z\" fill=\"#000000\" fill-rule=\"evenodd\" fill-opacity=\"1\" /><path clip-path=\"url(#clip610)\" d=\"M171.089 833.043 Q167.477 833.043 165.649 836.608 Q163.843 840.149 163.843 847.279 Q163.843 854.385 165.649 857.95 Q167.477 861.492 171.089 861.492 Q174.723 861.492 176.528 857.95 Q178.357 854.385 178.357 847.279 Q178.357 840.149 176.528 836.608 Q174.723 833.043 171.089 833.043 M171.089 829.339 Q176.899 829.339 179.954 833.946 Q183.033 838.529 183.033 847.279 Q183.033 856.006 179.954 860.612 Q176.899 865.195 171.089 865.195 Q165.278 865.195 162.2 860.612 Q159.144 856.006 159.144 847.279 Q159.144 838.529 162.2 833.946 Q165.278 829.339 171.089 829.339 Z\" fill=\"#000000\" fill-rule=\"evenodd\" fill-opacity=\"1\" /><path clip-path=\"url(#clip610)\" d=\"M49.9359 1220.1 L28.3562 1220.1 L28.3562 1214.24 L49.7131 1214.24 Q54.7739 1214.24 57.3202 1212.27 Q59.8346 1210.3 59.8346 1206.35 Q59.8346 1201.61 56.8109 1198.87 Q53.7872 1196.1 48.5673 1196.1 L28.3562 1196.1 L28.3562 1190.24 L64.0042 1190.24 L64.0042 1196.1 L58.5296 1196.1 Q61.7762 1198.23 63.3676 1201.07 Q64.9272 1203.87 64.9272 1207.59 Q64.9272 1213.73 61.1078 1216.92 Q57.2883 1220.1 49.9359 1220.1 M27.4968 1205.36 L27.4968 1205.36 Z\" fill=\"#000000\" fill-rule=\"evenodd\" fill-opacity=\"1\" /><path clip-path=\"url(#clip610)\" d=\"M33.7671 1134 L14.479 1134 L14.479 1128.15 L64.0042 1128.15 L64.0042 1134 L58.657 1134 Q61.8398 1135.85 63.3994 1138.68 Q64.9272 1141.48 64.9272 1145.43 Q64.9272 1151.89 59.771 1155.96 Q54.6147 1160.01 46.212 1160.01 Q37.8093 1160.01 32.6531 1155.96 Q27.4968 1151.89 27.4968 1145.43 Q27.4968 1141.48 29.0564 1138.68 Q30.5842 1135.85 33.7671 1134 M46.212 1153.96 Q52.6732 1153.96 56.3653 1151.32 Q60.0256 1148.64 60.0256 1144 Q60.0256 1139.35 56.3653 1136.68 Q52.6732 1134 46.212 1134 Q39.7508 1134 36.0905 1136.68 Q32.3984 1139.35 32.3984 1144 Q32.3984 1148.64 36.0905 1151.32 Q39.7508 1153.96 46.212 1153.96 Z\" fill=\"#000000\" fill-rule=\"evenodd\" fill-opacity=\"1\" /><path clip-path=\"url(#clip610)\" d=\"M44.7161 1085.59 L47.5806 1085.59 L47.5806 1112.52 Q53.6281 1112.14 56.8109 1108.89 Q59.9619 1105.61 59.9619 1099.79 Q59.9619 1096.41 59.1344 1093.26 Q58.3069 1090.08 56.6518 1086.96 L62.1899 1086.96 Q63.5267 1090.11 64.227 1093.42 Q64.9272 1096.73 64.9272 1100.14 Q64.9272 1108.67 59.9619 1113.66 Q54.9967 1118.63 46.5303 1118.63 Q37.7774 1118.63 32.6531 1113.92 Q27.4968 1109.18 27.4968 1101.16 Q27.4968 1093.96 32.1438 1089.79 Q36.7589 1085.59 44.7161 1085.59 M42.9973 1091.45 Q38.1912 1091.51 35.3266 1094.15 Q32.4621 1096.76 32.4621 1101.09 Q32.4621 1105.99 35.2312 1108.95 Q38.0002 1111.88 43.0292 1112.33 L42.9973 1091.45 Z\" fill=\"#000000\" fill-rule=\"evenodd\" fill-opacity=\"1\" /><path clip-path=\"url(#clip610)\" d=\"M29.7248 1050.33 L35.1993 1050.33 Q33.8307 1052.81 33.1623 1055.32 Q32.4621 1057.8 32.4621 1060.35 Q32.4621 1066.05 36.0905 1069.2 Q39.6872 1072.35 46.212 1072.35 Q52.7369 1072.35 56.3653 1069.2 Q59.9619 1066.05 59.9619 1060.35 Q59.9619 1057.8 59.2935 1055.32 Q58.5933 1052.81 57.2247 1050.33 L62.6355 1050.33 Q63.7814 1052.78 64.3543 1055.42 Q64.9272 1058.03 64.9272 1060.99 Q64.9272 1069.04 59.8664 1073.78 Q54.8057 1078.53 46.212 1078.53 Q37.491 1078.53 32.4939 1073.75 Q27.4968 1068.94 27.4968 1060.61 Q27.4968 1057.9 28.0697 1055.32 Q28.6108 1052.74 29.7248 1050.33 Z\" fill=\"#000000\" fill-rule=\"evenodd\" fill-opacity=\"1\" /><polyline clip-path=\"url(#clip613)\" style=\"stroke:#ff0000; stroke-linecap:round; stroke-linejoin:round; stroke-width:12; stroke-opacity:0.3; fill:none\" points=\"279.421,1423.18 279.421,948.015 385.366,948.015 385.366,847.909 491.31,847.909 491.31,906.415 597.255,906.415 597.255,1169.72 703.199,1169.72 703.199,1147.85 809.144,1147.85 809.144,1048.61 915.089,1048.61 915.089,1007.91 1021.03,1007.91 1021.03,1086.69 1126.98,1086.69 1126.98,1044.11 1232.92,1044.11 1232.92,1034.6 1338.87,1034.6 1338.87,1052.76 1444.81,1052.76 1444.81,1086.9 1550.76,1086.9 1550.76,1038.39 1656.7,1038.39 1656.7,1038.89 1762.64,1038.89 1762.64,1056.56 1868.59,1056.56 1868.59,1079.09 1974.53,1079.09 1974.53,1040.77 2080.48,1040.77 2080.48,1043.14 2186.42,1043.14 2186.42,1056.45 2292.37,1056.45 \"/>\n",
       "<polyline clip-path=\"url(#clip613)\" style=\"stroke:#e3001c; stroke-linecap:round; stroke-linejoin:round; stroke-width:12; stroke-opacity:0.3; fill:none\" points=\"279.421,1423.18 279.421,948.015 385.366,948.015 385.366,852.199 491.31,852.199 491.31,907.112 597.255,907.112 597.255,1162.27 703.199,1162.27 703.199,1138.22 809.144,1138.22 809.144,1042.84 915.089,1042.84 915.089,1006.44 1021.03,1006.44 1021.03,1091.5 1126.98,1091.5 1126.98,1045.3 1232.92,1045.3 1232.92,1028.21 1338.87,1028.21 1338.87,1044.57 1444.81,1044.57 1444.81,1098.33 1550.76,1098.33 1550.76,1041.7 1656.7,1041.7 1656.7,1028.47 1762.64,1028.47 1762.64,1045.78 1868.59,1045.78 1868.59,1099.85 1974.53,1099.85 1974.53,1042.36 2080.48,1042.36 2080.48,1027.91 2186.42,1027.91 2186.42,1044.94 2292.37,1044.94 \"/>\n",
       "<polyline clip-path=\"url(#clip613)\" style=\"stroke:#c60039; stroke-linecap:round; stroke-linejoin:round; stroke-width:12; stroke-opacity:0.3; fill:none\" points=\"279.421,1423.18 279.421,948.015 385.366,948.015 385.366,851.693 491.31,851.693 491.31,907.022 597.255,907.022 597.255,1164.16 703.199,1164.16 703.199,1140.72 809.144,1140.72 809.144,1044.25 915.089,1044.25 915.089,1006.24 1021.03,1006.24 1021.03,1091.04 1126.98,1091.04 1126.98,1045.18 1232.92,1045.18 1232.92,1028.69 1338.87,1028.69 1338.87,1045.29 1444.81,1045.29 1444.81,1099.19 1550.76,1099.19 1550.76,1042.22 1656.7,1042.22 1656.7,1028.49 1762.64,1028.49 1762.64,1045.77 1868.59,1045.77 1868.59,1100.18 1974.53,1100.18 1974.53,1042.78 2080.48,1042.78 2080.48,1028.34 2186.42,1028.34 2186.42,1045.4 2292.37,1045.4 \"/>\n",
       "<polyline clip-path=\"url(#clip613)\" style=\"stroke:#aa0055; stroke-linecap:round; stroke-linejoin:round; stroke-width:12; stroke-opacity:0.3; fill:none\" points=\"279.421,1423.18 279.421,948.015 385.366,948.015 385.366,845.927 491.31,845.927 491.31,906.159 597.255,906.159 597.255,1169.41 703.199,1169.41 703.199,1147.18 809.144,1147.18 809.144,1048.58 915.089,1048.58 915.089,1010.14 1021.03,1010.14 1021.03,1089.31 1126.98,1089.31 1126.98,1045.92 1232.92,1045.92 1232.92,1035.3 1338.87,1035.3 1338.87,1053.5 1444.81,1053.5 1444.81,1076.82 1550.76,1076.82 1550.76,1045.12 1656.7,1045.12 1656.7,1048.77 1762.64,1048.77 1762.64,1058.32 1868.59,1058.32 1868.59,1080.49 1974.53,1080.49 1974.53,1036.89 2080.48,1036.89 2080.48,1040.43 2186.42,1040.43 2186.42,1061.4 2292.37,1061.4 \"/>\n",
       "<polyline clip-path=\"url(#clip613)\" style=\"stroke:#8e0071; stroke-linecap:round; stroke-linejoin:round; stroke-width:12; stroke-opacity:0.3; fill:none\" points=\"279.421,1423.18 279.421,948.015 385.366,948.015 385.366,846.667 491.31,846.667 491.31,906.249 597.255,906.249 597.255,1168.05 703.199,1168.05 703.199,1145.48 809.144,1145.48 809.144,1047.63 915.089,1047.63 915.089,1009.99 1021.03,1009.99 1021.03,1091.4 1126.98,1091.4 1126.98,1046.69 1232.92,1046.69 1232.92,1033.45 1338.87,1033.45 1338.87,1051.23 1444.81,1051.23 1444.81,1082.85 1550.76,1082.85 1550.76,1043.37 1656.7,1043.37 1656.7,1044.38 1762.64,1044.38 1762.64,1056.94 1868.59,1056.94 1868.59,1073.85 1974.53,1073.85 1974.53,1039.49 2080.48,1039.49 2080.48,1045.13 2186.42,1045.13 2186.42,1059.59 2292.37,1059.59 \"/>\n",
       "<polyline clip-path=\"url(#clip613)\" style=\"stroke:#71008e; stroke-linecap:round; stroke-linejoin:round; stroke-width:12; stroke-opacity:0.3; fill:none\" points=\"279.421,1423.18 279.421,948.015 385.366,948.015 385.366,859.782 491.31,859.782 491.31,908.831 597.255,908.831 597.255,1137 703.199,1137 703.199,1103.04 809.144,1103.04 809.144,1021.49 915.089,1021.49 915.089,1008.19 1021.03,1008.19 1021.03,1100.24 1126.98,1100.24 1126.98,1049.35 1232.92,1049.35 1232.92,1020.15 1338.87,1020.15 1338.87,1032.03 1444.81,1032.03 1444.81,1095.6 1550.76,1095.6 1550.76,1039.78 1656.7,1039.78 1656.7,1022 1762.64,1022 1762.64,1037.09 1868.59,1037.09 1868.59,1101.02 1974.53,1101.02 1974.53,1043.33 2080.48,1043.33 2080.48,1019.82 2186.42,1019.82 2186.42,1033.78 2292.37,1033.78 \"/>\n",
       "<polyline clip-path=\"url(#clip613)\" style=\"stroke:#5500aa; stroke-linecap:round; stroke-linejoin:round; stroke-width:12; stroke-opacity:0.3; fill:none\" points=\"279.421,1423.18 279.421,948.015 385.366,948.015 385.366,848.157 491.31,848.157 491.31,906.448 597.255,906.448 597.255,1169.55 703.199,1169.55 703.199,1147.66 809.144,1147.66 809.144,1048.48 915.089,1048.48 915.089,1007.72 1021.03,1007.72 1021.03,1086.61 1126.98,1086.61 1126.98,1043.99 1232.92,1043.99 1232.92,1034.39 1338.87,1034.39 1338.87,1052.51 1444.81,1052.51 1444.81,1081.74 1550.76,1081.74 1550.76,1040.96 1656.7,1040.96 1656.7,1041.07 1762.64,1041.07 1762.64,1055.14 1868.59,1055.14 1868.59,1078.35 1974.53,1078.35 1974.53,1040.19 2080.48,1040.19 2080.48,1043.17 2186.42,1043.17 2186.42,1056.52 2292.37,1056.52 \"/>\n",
       "<polyline clip-path=\"url(#clip613)\" style=\"stroke:#3900c6; stroke-linecap:round; stroke-linejoin:round; stroke-width:12; stroke-opacity:0.3; fill:none\" points=\"279.421,1423.18 279.421,948.015 385.366,948.015 385.366,846.915 491.31,846.915 491.31,906.281 597.255,906.281 597.255,1999.12 703.199,1999.12 809.144,1999.12 915.089,1999.12 1021.03,1999.12 1126.98,1999.12 1232.92,1999.12 1338.87,1999.12 1444.81,1999.12 1550.76,1999.12 1656.7,1999.12 1762.64,1999.12 1868.59,1999.12 1974.53,1999.12 2080.48,1999.12 2186.42,1999.12 2292.37,1999.12 \"/>\n",
       "<polyline clip-path=\"url(#clip613)\" style=\"stroke:#1c00e3; stroke-linecap:round; stroke-linejoin:round; stroke-width:12; stroke-opacity:0.3; fill:none\" points=\"279.421,1999.12 279.421,1999.12 385.366,1999.12 491.31,1999.12 597.255,1999.12 703.199,1999.12 809.144,1999.12 915.089,1999.12 1021.03,1999.12 1126.98,1999.12 1232.92,1999.12 1338.87,1999.12 1444.81,1999.12 1550.76,1999.12 1656.7,1999.12 1762.64,1999.12 1868.59,1999.12 1974.53,1999.12 2080.48,1999.12 2186.42,1999.12 2292.37,1999.12 \"/>\n",
       "<polyline clip-path=\"url(#clip613)\" style=\"stroke:#0000ff; stroke-linecap:round; stroke-linejoin:round; stroke-width:12; stroke-opacity:0.3; fill:none\" points=\"279.421,1999.12 279.421,1999.12 385.366,1999.12 491.31,1999.12 597.255,1999.12 703.199,1999.12 809.144,1999.12 915.089,1999.12 1021.03,1999.12 1126.98,1999.12 1232.92,1999.12 1338.87,1999.12 1444.81,1999.12 1550.76,1999.12 1656.7,1999.12 1762.64,1999.12 1868.59,1999.12 1974.53,1999.12 2080.48,1999.12 2186.42,1999.12 2292.37,1999.12 \"/>\n",
       "</svg>\n"
      ]
     },
     "metadata": {},
     "output_type": "display_data"
    }
   ],
   "source": [
    "gr()\n",
    "# limits\n",
    "p3 = plot(gridlinewidth=2,ylims = (1.0,2.0),yticks = 1.0:0.2:2.0,xaxis=\"time[h]\",yaxis=\"u mono\")\n",
    "\n",
    "for nn in 1:n_MC\n",
    "    p3 = plot!(ts,uPlant[:,nn,1],linewidth=3,linetype=:steppre,linealpha = 0.3,linecolor = CList[nn],legend=false)\n",
    "end\n",
    "\n",
    "p4 = plot(gridlinewidth=2,ylims = (1.0,2.0),yticks = 1.0:0.2:2.0,xaxis=\"time[h]\",yaxis=\"u dec\")\n",
    "\n",
    "for nn in 1:n_MC\n",
    "    p4 = plot!(ts,uPlant[:,nn,2],linewidth=3,linetype=:steppre,linealpha = 0.3,linecolor = CList[nn],legend=false)\n",
    "end\n",
    "\n",
    "g2 = plot(p3,p4,layout=(2,1))\n",
    "display(g2)"
   ]
  },
  {
   "cell_type": "code",
   "execution_count": null,
   "id": "5d2b0466",
   "metadata": {},
   "outputs": [],
   "source": []
  }
 ],
 "metadata": {
  "kernelspec": {
   "display_name": "Julia 1.8.5",
   "language": "julia",
   "name": "julia-1.8"
  },
  "language_info": {
   "file_extension": ".jl",
   "mimetype": "application/julia",
   "name": "julia",
   "version": "1.8.5"
  }
 },
 "nbformat": 4,
 "nbformat_minor": 5
}
