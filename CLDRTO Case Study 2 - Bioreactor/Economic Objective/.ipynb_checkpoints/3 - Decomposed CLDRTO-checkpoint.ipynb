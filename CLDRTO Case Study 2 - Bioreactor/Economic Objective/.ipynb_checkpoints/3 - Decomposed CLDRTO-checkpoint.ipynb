{
 "cells": [
  {
   "cell_type": "markdown",
   "id": "39bb43e3",
   "metadata": {},
   "source": [
    "- **This code computes the decomposed solution of a Closed-Loop DRTO problem.**\n",
    "- Using economic objective function\n",
    "- The underlying control structure (modeled in the CLDRTO model) is an MPC, which can is solved using three different strategies: 1. unconstrained, 2. constrained using binaries, and 3. constrained using MPCC N.B.:strategy 2 not working\n",
    "- The problem is posed as a scenario-based stochastic programming problem\n",
    "- The case study is an affine multiple parallel bioreactor system from:*Gao, Ling. \"Modeling and dynamics analyses of immobilized CSTR bioreactor using transfer function model.\" 2012 International Symposium on Information Technologies in Medicine and Education. Vol. 2. IEEE, 2012.*\n",
    "- The uncertainty represented by the scenarios comes from the maximum specific growth rate (V_m) --> see matlab file\n",
    "\n",
    "AUTHOR: Jose Matias <assumpcj@mcmaster.ca>\n",
    "DATE: May 2023"
   ]
  },
  {
   "cell_type": "code",
   "execution_count": 1,
   "id": "67ea638f",
   "metadata": {},
   "outputs": [],
   "source": [
    "using LinearAlgebra, JuMP, CPLEX, Ipopt, Plots, CSV, DataFrames, Distributions, LaTeXStrings"
   ]
  },
  {
   "cell_type": "markdown",
   "id": "b2933767",
   "metadata": {},
   "source": [
    "# Bioreactor Model\n",
    "\n",
    "$\\dfrac{d C}{d t} = D (C_{in} - C) - \\dfrac{V_m C}{(K_s + C)} $ <br>\n",
    "$ \\dfrac{d P}{d t} = \\dfrac{V_m C}{(K_s + C)} - DP $ <br>\n",
    "\n",
    "where, <br>\n",
    "$t$: time in hours \\[h\\] <br>\n",
    "$C$: concentration of reactant (substrate) \\[g/L\\] <br>\n",
    "$P$: concentration of product (biomass) \\[g/L\\] <br>\n",
    "$C_{in}$: inlet concentration of substrate \\[g/L\\] <br>\n",
    "$D$: ratio of flowrate to reactor volume \\[1/h\\] <br>\n",
    "$V_m$: maximum reaction rate \\[g/(h L)\\] <br> \n",
    "$K_s$: reaction constant \\[g/L\\] <br>\n",
    "\n",
    "- System measurement ($y$) - product concentration $P$ <br>\n",
    "- System inputs ($u$) - inlet reactant concentration $C_{in}$ <br>\n",
    "- Uncertain parameters ($\\theta$) - maximum reaction rate $V_m$"
   ]
  },
  {
   "cell_type": "code",
   "execution_count": 2,
   "id": "cb37bc36",
   "metadata": {},
   "outputs": [],
   "source": [
    "# Sampling time\n",
    "T = 1 #[h]\n",
    "\n",
    "# Number of manipulated inputs\n",
    "nu = 1\n",
    "# Number of controlled outputs\n",
    "ny = 1\n",
    "\n",
    "# setting bounds (all arbitrary - not in deviation form!!) \n",
    "uMax = 5.0 # for tight constraints: 1.9 | for loose constraints: 5.0 or 10.0\n",
    "uMin = 0.0;\n",
    "\n",
    "yspMax = 1.2 \n",
    "yspMin = 0.0;"
   ]
  },
  {
   "cell_type": "markdown",
   "id": "06d023cd",
   "metadata": {},
   "source": [
    "# Building affine CL-DRTO models\n",
    "\n",
    "## Model linearization\n",
    "- linearization is done using Matlab's functions ss and c2d (see BioReactorLinearization.m)\n",
    "- sample time $\\Delta t$ is consider as 1h\n",
    "- linearization around point: $V_m = 0.5$ \\[g/(h L)\\], $K_s = 0.2$ \\[g/L\\], $D = 0.5$ \\[1/h\\], $C_{in,0} = 1$ \\[g/L\\], $C_{0} = 0.358$ \\[g/L\\], and $P_{0} = 0.642$ \\[g/L\\]\n",
    "\n",
    "which leads to: <br>\n",
    "$\\bar{x}_{k+1} = A \\bar{x}_k + B \\bar{u}_k$ <br>\n",
    "$\\bar{y}_k = C \\bar{u}_k$\n",
    "\n",
    "where, <br>\n",
    "$\\bar{x} = \\begin{bmatrix}\n",
    "\\bar{C}\\\\\n",
    "\\bar{P}\n",
    "\\end{bmatrix} =\n",
    "\\begin{bmatrix}\n",
    "C - C_0\\\\\n",
    "P - P_0\n",
    "\\end{bmatrix}$<br>\n",
    "$\\bar{u} = \\bar{C}_{in} = C_{in} - C_{in,0}$<br>\n",
    "$\\bar{y} = \\bar{P} = P - P_0$"
   ]
  },
  {
   "cell_type": "code",
   "execution_count": 3,
   "id": "06719deb",
   "metadata": {},
   "outputs": [],
   "source": [
    "# Linearization point\n",
    "u0 = 1.5\n",
    "x0 = [0.7179;0.7821]\n",
    "y0 = 0.7821\n",
    "\n",
    "# 100 pre-computed models based on parametric uncertainty Vm (computed using matlab: BioReactorLinearization.m)\n",
    "bioModels = CSV.read(\"C:\\\\Users\\\\MACC-Jose\\\\Documents\\\\GitHub\\\\BD\\\\CLDRTO Case Study 2 - Bioreactor\\\\BioreactorModel\", DataFrame; header=false);\n",
    "#print(bioModels)"
   ]
  },
  {
   "cell_type": "markdown",
   "id": "8c5197b2",
   "metadata": {},
   "source": [
    "CL-DRTO configuration"
   ]
  },
  {
   "cell_type": "code",
   "execution_count": 4,
   "id": "ad40ad5c",
   "metadata": {},
   "outputs": [],
   "source": [
    "# DRTO sampling time\n",
    "nDRTO = 4 # [h]\n",
    "# Prediction horizon\n",
    "pD = 20 + (8 - 1)# p = 8 *controller horizon  \n",
    "# Input control horizon \n",
    "mD = 20\n",
    "# Objective function: target tracking (deviation form)\n",
    "pTrack = 1 - y0 # [g/L]\n",
    "# Soft upper bounds on P weight (deviation form)\n",
    "pUB = 1.05 - y0 # [g/L]\n",
    "# objective function weight for P penalization term \n",
    "wP = 100;"
   ]
  },
  {
   "cell_type": "markdown",
   "id": "27186ab9",
   "metadata": {},
   "source": [
    "DRTO model changes with the number of scenarios and parallel reactors"
   ]
  },
  {
   "cell_type": "code",
   "execution_count": 5,
   "id": "57ec4745",
   "metadata": {},
   "outputs": [],
   "source": [
    "function DRTO_matrices(nReactors,nScenarios)\n",
    "    # ATTENTION: Used for the monolithic solution. Generates an array of models\n",
    "    # Several different models were already computed offline and saved in the \"bioModel\" array\n",
    "    # This function extracts the models based on a fixed index grid that is generated based on the number of scenarios\n",
    "    \n",
    "    ###########\n",
    "    # inputs: #\n",
    "    ###########\n",
    "    # nReactors - number of reactors in parallel\n",
    "    # nScenarios - number of scenarios used in the stochastic optimization\n",
    "    \n",
    "    # picking up indexes equally spaced between 1 and 100 (including initial and end point) \n",
    "    # based on the desired number of scenarios\n",
    "    if nScenarios == 1\n",
    "        indexScen = 50 # nominal model --> index = 50\n",
    "    else\n",
    "        indexScen = [floor(Int, 1 + (ii - 1)*(100-1)/(nScenarios-1)) for ii in 1:nScenarios]\n",
    "    end\n",
    "    \n",
    "    # building DRTO model\n",
    "    A_drto = Array{Float64}(undef,nx,nx,nScenarios) \n",
    "    B_drto = Array{Float64}(undef,nx,nu,nScenarios) \n",
    "\n",
    "    for kk in 1:nScenarios\n",
    "\n",
    "        index_temp = indexScen[kk]\n",
    "\n",
    "        A_drto[:,:,kk] = kron(I(nReactors),Matrix(bioModels[2*(index_temp - 1) + 1:2*(index_temp - 1) + 2,1:2]))\n",
    "        B_drto[:,:,kk] = repeat(bioModels[2*(index_temp - 1) + 1:2*(index_temp - 1) + 2,3], outer = [nReactors, 1, 1])\n",
    "\n",
    "    end\n",
    "\n",
    "    # mapping states to measurements is the same for all models\n",
    "    C_drto = repeat([0 1], outer = [1, nReactors])\n",
    "    \n",
    "    return Dict('A' => A_drto, 'B' => B_drto, 'C' => C_drto)\n",
    "end;"
   ]
  },
  {
   "cell_type": "code",
   "execution_count": 6,
   "id": "0968ca7b",
   "metadata": {},
   "outputs": [],
   "source": [
    "function DRTO_matrix(nReactors,nScenario,nScenTotal)\n",
    "    # ATTENTION: Used for the decomposed solution. Generates a single model\n",
    "    # Several different models were already computed offline and saved in the \"bioModel\" array\n",
    "    # This function extracts the model of interest based on the index \"nScenario\"\n",
    "  \n",
    "    ###########\n",
    "    # inputs: #\n",
    "    ###########\n",
    "    # nReactors - number of reactors in parallel\n",
    "    # nScenario - index the of scenario used in the stochastic optimization\n",
    "    # nScenTotal - total number of scenario used in the stochastic optimization\n",
    "    \n",
    "    if nScenTotal == 1\n",
    "        index_temp = 50 # nominal model --> index = 50\n",
    "    else\n",
    "        indexScen = [floor(Int, 1 + (ii - 1)*(100-1)/(nScenTotal-1)) for ii in 1:nScenTotal]\n",
    "        index_temp = indexScen[nScenario]\n",
    "    end\n",
    "  \n",
    "    # building DRTO model\n",
    "    A_drto = kron(I(nReactors),Matrix(bioModels[2*(index_temp - 1) + 1:2*(index_temp - 1) + 2,1:2]))\n",
    "    B_drto = repeat(bioModels[2*(index_temp - 1) + 1:2*(index_temp - 1) + 2,3], outer = [nReactors, 1, 1])\n",
    "\n",
    "    # mapping states to measurements is the same for all models\n",
    "    C_drto = repeat([0 1], outer = [1, nReactors]);\n",
    "    \n",
    "    return Dict('A' => A_drto, 'B' => B_drto, 'C' => C_drto)\n",
    "end;"
   ]
  },
  {
   "cell_type": "markdown",
   "id": "66f4ef3c",
   "metadata": {},
   "source": [
    "# Building MPC model\n",
    "\n",
    "Controller configuration"
   ]
  },
  {
   "cell_type": "code",
   "execution_count": 7,
   "id": "54509748",
   "metadata": {},
   "outputs": [],
   "source": [
    "# MPC sampling time\n",
    "nMPC = 1 # [h]\n",
    "\n",
    "# Controller configuration\n",
    "# Output prediction horizon\n",
    "p = 8\n",
    "# Input control horizon \n",
    "m = 2\n",
    "# Output weights\n",
    "q = 1\n",
    "# Input weights \n",
    "r = 1;"
   ]
  },
  {
   "cell_type": "markdown",
   "id": "dbffeddf",
   "metadata": {},
   "source": [
    "Notes:\n",
    "- Using nominal model(indexScen = 50)\n",
    "- For the description of how the MPC matrices (with disturbance model) are built, check script: *CLDRTO with unconstrained MPC - uncertain plant test*"
   ]
  },
  {
   "cell_type": "code",
   "execution_count": 8,
   "id": "1f3177a8",
   "metadata": {},
   "outputs": [],
   "source": [
    "function MPC_matrices(nReactors)\n",
    "    ###########\n",
    "    # inputs: #\n",
    "    ###########\n",
    "    # nReactors - number of reactors in parallel\n",
    "    \n",
    "    # extracting the matrices from the model array computed previously\n",
    "    nNom = 50 # nominal model --> index = 50\n",
    "    \n",
    "    A = kron(I(nReactors),Matrix(bioModels[2*(nNom - 1) + 1:2*(nNom - 1) + 2,1:2])) \n",
    "    B = repeat(bioModels[2*(nNom - 1) + 1:2*(nNom - 1) + 2,3], outer = [nReactors, 1])\n",
    "    C = repeat([0 1], outer = [1, nReactors])\n",
    "    \n",
    "    # adding disturbance model\n",
    "    Ad = [A zeros(nx,ny); zeros(ny,nx) I(ny)]\n",
    "    Bd = [B; zeros(ny,nu)]\n",
    "    Cd = [C ones(ny,ny)]\n",
    "    \n",
    "    # building matrices for MPC\n",
    "    Psi = Cd*Ad\n",
    "    for ii in 2:p\n",
    "        Psi = [Psi;  Cd*Ad^ii]\n",
    "    end\n",
    "\n",
    "    # Computing Dynamic Matrix\n",
    "    a = Cd*Bd\n",
    "    for ii in 2:p\n",
    "        a = [a; Cd*Ad^(ii - 1)*Bd]\n",
    "    end\n",
    "    DynM = a\n",
    "\n",
    "    for ii in 1:(m - 2)\n",
    "        a = [zeros(ny,nu);a[1:(p-1)*ny,:]]\n",
    "        DynM = [DynM  a]\n",
    "    end\n",
    "\n",
    "    # adjusting dynamic matrix for since p > m (last column)\n",
    "    b = Cd*Bd\n",
    "\n",
    "    Ai = I(nx+1) # adding disturbance to the states\n",
    "    for ii = 1:(p - m)\n",
    "        Ai = Ai + Ad^ii\n",
    "        b = [b;Cd*Ai*Bd]\n",
    "    end\n",
    "\n",
    "    Theta=[DynM [zeros(ny*(m-1),nu);b]]\n",
    "    \n",
    "    # Creating Qbar and Rbar matrices\n",
    "    Qbar = Diagonal([q for ii in 1:p])\n",
    "    Rbar = Diagonal([r for ii in 1:m])\n",
    "\n",
    "    # Creating input movement OF penalty matrix \n",
    "    M=[zeros((m-1)*nu,nu) I(nu*(m-1)); zeros(nu) zeros(nu,nu*(m-1))]\n",
    "    Ibar=[I(nu); zeros(nu*(m-1),nu)]\n",
    "    IM = I(nu*m) - M';\n",
    "    \n",
    "    # Matrix H\n",
    "    H = Theta'*Qbar*Theta + IM'*Rbar*IM;\n",
    "    \n",
    "    return Dict('A' => A, 'B' => B, 'C' => C, 'H' => H, 'Θ' => Theta, 'Ψ' => Psi, 'Q' => Qbar, 'I' => Ibar, 'R' => Rbar, 'M' => IM)\n",
    "end;"
   ]
  },
  {
   "cell_type": "markdown",
   "id": "ab17a7c4",
   "metadata": {},
   "source": [
    "# Solving CL-DRTO Multiscenario Problem (monolithic)\n",
    " - Check details in script *Monolithic CLDRTO*\n",
    " - For the description of the different solution strategies, check *Different Strategies to solve constrained MPC within CLDRTO*"
   ]
  },
  {
   "cell_type": "code",
   "execution_count": 9,
   "id": "74dd560e",
   "metadata": {},
   "outputs": [],
   "source": [
    "# Parameters for MPC solution\n",
    "# matrix to compute the gradients of the input bound constraints\n",
    "conMatrix = [I(m); -I(m)]; \n",
    "\n",
    "# big-M implementation\n",
    "bigM_mu = 1000\n",
    "bigM_u = 100\n",
    "\n",
    "# weight complementarity relaxation OF term\n",
    "pi_bar = 10^3;"
   ]
  },
  {
   "cell_type": "code",
   "execution_count": 10,
   "id": "e5486fc7",
   "metadata": {},
   "outputs": [],
   "source": [
    "## Modeling the sub problem (scenario) -- modeling inside a function\n",
    "function MS_CLDRTO(xInit,uInit,nReac,nScen,pScen,solNom,option)\n",
    "    ###########\n",
    "    # inputs: #\n",
    "    ###########\n",
    "    # xInit - states at the current iteration (beginning of DRTO horizon)\n",
    "    # uInit - inputs at the current iteration, already implemented on the plant\n",
    "    # nReac - number of parallel reactors\n",
    "    # nScen - number of scenarios used in the problem (only one branching)\n",
    "    # pScen - probability of the scenarios\n",
    "    # solNom - nominal solution\n",
    "    # option - strategy for solving MPC\n",
    "\n",
    "    # Creating MPC matrices\n",
    "    mpc = MPC_matrices(nReac)\n",
    "    \n",
    "    # Creating DRTO matrices\n",
    "    drto = DRTO_matrices(nReac,nScen)\n",
    "\n",
    "    # Define model\n",
    "    if option == 3 || option == 1\n",
    "        model_ms = Model(Ipopt.Optimizer)\n",
    "        set_optimizer_attribute(model_ms, \"max_cpu_time\", 300.0) # 5 min\n",
    "    else \n",
    "        model_ms = Model(CPLEX.Optimizer)\n",
    "        set_optimizer_attribute(model_ms, \"CPX_PARAM_TILIM\", 300.0) # 5 min\n",
    "    end\n",
    "    set_silent(model_ms)\n",
    "    \n",
    "    ####################\n",
    "    # Set up variables #\n",
    "    ####################\n",
    "    # DRTO model variables\n",
    "    @variable(model_ms, xDRTO[1:pD,1:nx,1:nScen])\n",
    "    @variable(model_ms, yDRTO[1:pD,1:nScen])\n",
    "    \n",
    "    # MPC model variables\n",
    "    @variable(model_ms, xMPC[1:pD,1:nx,1:nScen])\n",
    "    @variable(model_ms, yMPC[1:pD,1:nScen])\n",
    "    \n",
    "    # MPC <-> DRTO model deviation\n",
    "    @variable(model_ms, de[1:pD,1:nScen])\n",
    "    \n",
    "    # inputs computed by MPCs\n",
    "    @variable(model_ms, u[1:pD,1:m,1:nScen])\n",
    "    if option == 1\n",
    "        @variable(model_ms, u_w_c[1:pD,1:m,1:nScen]) # inputs w/o clipping\n",
    "    \n",
    "        # input clipping \n",
    "        @variable(model_ms, mu_lb[1:pD,1:m,1:nScen] ≥ 0)\n",
    "        @variable(model_ms, eta_lb[1:pD,1:m,1:nScen] ≥ 0)\n",
    "        @variable(model_ms, mu_ub[1:pD,1:m,1:nScen] ≥ 0)\n",
    "        @variable(model_ms, eta_ub[1:pD,1:m,1:nScen] ≥ 0)       \n",
    "    end\n",
    "    \n",
    "    # setpoints for the controllers sent to the plant (CL-DRTO degrees of freedom)\n",
    "    @variable(model_ms, (yspMin - y0) ≤ ysp[1:pD,1:nScen] ≤ (yspMax - y0))\n",
    "    \n",
    "    # slacks for P soft constraint\n",
    "    @variable(model_ms, delta_p[1:pD,1:nScen] ≥ 0)\n",
    "    \n",
    "    if option == 2 || option == 3\n",
    "        @variable(model_ms, mu_g[1:mD,1:(2*m),1:nScen] ≥ 0) # upper and lower bounds for each input\n",
    "    end\n",
    "    if option == 2\n",
    "        @variable(model_ms, Y_lb[1:mD,1:m,1:nScen], Bin, start = 0) # Binaries for big-M implementation\n",
    "        @variable(model_ms, Y_ub[1:mD,1:m,1:nScen], Bin, start = 0) \n",
    "    end\n",
    "    \n",
    "    ########################\n",
    "    # Set up initial guess #\n",
    "    ########################\n",
    "    if solNom isa Dict\n",
    "        for ss in 1:nScen\n",
    "            for ii in 1:pD\n",
    "                set_start_value(yDRTO[ii,ss], solNom['y'][ii,1]) \n",
    "                set_start_value(yMPC[ii,ss], solNom['c'][ii,1])\n",
    "                set_start_value(ysp[ii,ss], solNom['s'][ii,1])\n",
    "\n",
    "                for rr in 1:nReac # when nReac increases, the number of states change!\n",
    "                    for xx in 1:2 # N.B. nx/reactor is hardcoded here... (maybe use nx/reactor as a function input) \n",
    "                        set_start_value(xDRTO[ii,xx + (rr - 1)*2,ss], solNom['x'][ii,xx,1])    \n",
    "                        set_start_value(xMPC[ii,xx + (rr - 1)*2,ss], solNom['m'][ii,xx,1])           \n",
    "                    end # end xx\n",
    "                end # number \n",
    "                \n",
    "                for uu in 1:m\n",
    "                    set_start_value(u[ii,uu,ss], solNom['u'][ii,uu,1])\n",
    "                end # end of uu\n",
    "            end # eend of ii\n",
    "        end # end of ss\n",
    "    end # end of if\n",
    "    \n",
    "    ######################################\n",
    "    # Set up constraints and expressions #\n",
    "    ######################################\n",
    "    # Model Dynamic for Dynamic RTO\n",
    "    @constraint(model_ms, CLDRTO_dyn_model_1[ss=1:nScen], xDRTO[1,:,ss] .== drto['A'][:,:,ss]*xInit + drto['B'][:,:,ss]*uInit)\n",
    "    @constraint(model_ms, CLDRTO_dyn_model[kk=1:(pD - 1),ss=1:nScen], xDRTO[kk + 1,:,ss] .== drto['A'][:,:,ss]*xDRTO[kk,:,ss] + drto['B'][:,:,ss]*u[kk,1,ss])\n",
    "    @constraint(model_ms, CLDRTO_model_out[kk=1:pD,ss=1:nScen], yDRTO[kk,ss] == dot(drto['C'],xDRTO[kk,:,ss]))\n",
    "    \n",
    "    # fixing setpoint changes after mD\n",
    "    @constraint(model_ms, control_horizon[kk=(mD+1):pD,ss=1:nScen], u[kk,1,ss] .== u[mD,1,ss])\n",
    "    \n",
    "    # P soft constraints\n",
    "    @constraint(model_ms, soft_P[kk=1:pD,ss=1:nScen], yDRTO[kk,ss] - delta_p[kk,ss] ≤ pUB)\n",
    "    \n",
    "    # nonanticipativity constraints\n",
    "    @constraint(model_ms, nonAnt[kk=1:nDRTO,ss=2:nScen], ysp[kk,1] - ysp[kk,ss] == 0.0);\n",
    "    \n",
    "    ################\n",
    "    # MPC solution #\n",
    "    ################    \n",
    "    if option == 1\n",
    "        # Model Dynamic for Controller\n",
    "        @constraint(model_ms, MPC_dyn_model_1[ss=1:nScen], xMPC[1,:,ss] .== mpc['A']*xInit + mpc['B']*uInit)\n",
    "        @constraint(model_ms, MPC_dyn_model[kk=1:(pD - 1),ss=1:nScen], xMPC[kk + 1,:,ss] .== mpc['A']*xMPC[kk,:,ss] + mpc['B']*u_w_c[kk,1,ss])\n",
    "        @constraint(model_ms, MPC_model_out[kk=1:pD,ss=1:nScen], yMPC[kk,ss] == dot(mpc['C'],xMPC[kk,:,ss]))\n",
    "\n",
    "        #  Model deviation\n",
    "        @constraint(model_ms, MPC_model_dev[kk=1:pD,ss=1:nScen], de[kk,ss] == yDRTO[kk,ss] - yMPC[kk,ss])\n",
    "        \n",
    "        @expression(model_ms, cfT_1[ss=1:nScen], (mpc['Ψ']*[xMPC[1,:,ss];de[1,ss]] - ysp[1:p,ss])'*mpc['Q']*mpc['Θ'] - uInit'*mpc['I']'*mpc['R']*mpc['M'])\n",
    "        @expression(model_ms, cfT[kk=2:mD,ss=1:nScen], (mpc['Ψ']*[xMPC[kk,:,ss];de[kk,ss]] - ysp[kk:(kk + p - 1),ss])'*mpc['Q']*mpc['Θ'] - u_w_c[kk-1,1,ss]'*mpc['I']'*mpc['R']*mpc['M'])\n",
    "        \n",
    "        # Unconstrained MPC solution  \n",
    "        @constraint(model_ms, MPC_sol_1[ss=1:nScen], mpc['H']*u_w_c[1,:,ss] + cfT_1[ss]' .== 0)\n",
    "        @constraint(model_ms, MPC_sol[kk=2:mD,ss=1:nScen], mpc['H']*u_w_c[kk,:,ss] + cfT[kk,ss]' .== 0)\n",
    "        \n",
    "        # input clipping\n",
    "        @constraint(model_ms, ic_1[kk = 1:mD,uu = 1:m,ss = 1:nScen], u[kk,uu,ss] == u_w_c[kk,uu,ss] - mu_ub[kk,uu,ss] + mu_lb[kk,uu,ss])\n",
    "        @constraint(model_ms, ic_2[kk = 1:mD,uu = 1:m,ss = 1:nScen], (uMax - u0) - u[kk,uu,ss] == eta_ub[kk,uu,ss])\n",
    "        @constraint(model_ms, ic_3[kk = 1:mD,uu = 1:m,ss = 1:nScen], eta_ub[kk,uu,ss]*mu_ub[kk,uu,ss] ≤ 1e-6)\n",
    "        @constraint(model_ms, ic_4[kk = 1:mD,uu = 1:m,ss = 1:nScen], u[kk,uu,ss] - (uMin - u0) == eta_lb[kk,uu,ss])\n",
    "        @constraint(model_ms, ic_5[kk = 1:mD,uu = 1:m,ss = 1:nScen], eta_lb[kk,uu,ss]*mu_lb[kk,uu,ss] ≤ 1e-6)\n",
    "        \n",
    "    elseif option == 2\n",
    "        # Model Dynamic for Controller\n",
    "        @constraint(model_ms, MPC_dyn_model_1[ss=1:nScen], xMPC[1,:,ss] .== mpc['A']*xInit + mpc['B']*uInit)\n",
    "        @constraint(model_ms, MPC_dyn_model[kk=1:(pD - 1),ss=1:nScen], xMPC[kk + 1,:,ss] .== mpc['A']*xMPC[kk,:,ss] + mpc['B']*u[kk,1,ss])\n",
    "        @constraint(model_ms, MPC_model_out[kk=1:pD,ss=1:nScen], yMPC[kk,ss] == dot(mpc['C'],xMPC[kk,:,ss]))\n",
    "\n",
    "        #  Model deviation\n",
    "        @constraint(model_ms, MPC_model_dev[kk=1:pD,ss=1:nScen], de[kk,ss] == yDRTO[kk,ss] - yMPC[kk,ss])\n",
    "\n",
    "        # sequence of Setpoints\n",
    "        @expression(model_ms, cfT_1[ss=1:nScen], (mpc['Ψ']*[xMPC[1,:,ss];de[1,ss]] - ysp[1:p,ss])'*mpc['Q']*mpc['Θ'] - uInit'*mpc['I']'*mpc['R']*mpc['M'])\n",
    "        @expression(model_ms, cfT[kk=2:mD,ss=1:nScen], (mpc['Ψ']*[xMPC[kk,:,ss];de[kk,ss]] - ysp[kk:(kk + p - 1),ss])'*mpc['Q']*mpc['Θ'] - u[kk-1,1,ss]'*mpc['I']'*mpc['R']*mpc['M'])\n",
    "\n",
    "        # Constrained with binaries\n",
    "        # 1. stationarity\n",
    "        @constraint(model_ms, MPC_sol_1[ss=1:nScen], u[1,:,ss]'*mpc['H'] + cfT_1[ss] +  mu_g[1,:,ss]'*conMatrix .== 0)\n",
    "        @constraint(model_ms, MPC_sol[kk=2:mD,ss=1:nScen], u[kk,:,ss]'*mpc['H'] + cfT[kk,ss] + mu_g[kk,:,ss]'*conMatrix .== 0)\n",
    "\n",
    "        # 2. primal feasibility\n",
    "        @constraint(model_ms, g_u_u[kk=1:mD,uu=1:m,ss=1:nScen], u[kk,uu,ss] - (uMax - u0) ≤ 0)\n",
    "        @constraint(model_ms, g_u_l[kk=1:mD,uu=1:m,ss=1:nScen], (uMin - u0) - u[kk,uu,ss] ≤ 0)\n",
    "    \n",
    "        # 3. complementarity --> using big-M implementation\n",
    "        @constraint(model_ms, bigM_1[kk=1:mD,uu=1:m,ss=1:nScen], mu_g[kk,uu,ss] ≤ bigM_mu*Y_ub[kk,uu,ss])\n",
    "        @constraint(model_ms, bigM_2[kk=1:mD,uu=1:m,ss=1:nScen], mu_g[kk,uu + m,ss] ≤ bigM_mu*Y_lb[kk,uu,ss])\n",
    "        @constraint(model_ms, bigM_3[kk=1:mD,uu=1:m,ss=1:nScen], u[kk,uu,ss] - (uMax - u0) ≥ -bigM_u*(1 - Y_ub[kk,uu,ss]))\n",
    "        @constraint(model_ms, bigM_4[kk=1:mD,uu=1:m,ss=1:nScen], (uMin - u0) - u[kk,uu,ss] ≥ -bigM_u*(1 - Y_lb[kk,uu,ss]))\n",
    "        \n",
    "        @constraint(model_ms, compSlack[kk=1:mD,uu=1:m,ss=1:nScen], Y_ub[kk,uu,ss] + Y_lb[kk,uu,ss] ≤ 1)\n",
    "    \n",
    "    elseif option == 3\n",
    "        # Model Dynamic for Controller\n",
    "        @constraint(model_ms, MPC_dyn_model_1[ss=1:nScen], xMPC[1,:,ss] .== mpc['A']*xInit + mpc['B']*uInit)\n",
    "        @constraint(model_ms, MPC_dyn_model[kk=1:(pD - 1),ss=1:nScen], xMPC[kk + 1,:,ss] .== mpc['A']*xMPC[kk,:,ss] + mpc['B']*u[kk,1,ss])\n",
    "        @constraint(model_ms, MPC_model_out[kk=1:pD,ss=1:nScen], yMPC[kk,ss] == dot(mpc['C'],xMPC[kk,:,ss]))\n",
    "\n",
    "        #  Model deviation\n",
    "        @constraint(model_ms, MPC_model_dev[kk=1:pD,ss=1:nScen], de[kk,ss] == yDRTO[kk,ss] - yMPC[kk,ss])\n",
    "\n",
    "        # sequence of Setpoints\n",
    "        @expression(model_ms, cfT_1[ss=1:nScen], (mpc['Ψ']*[xMPC[1,:,ss];de[1,ss]] - ysp[1:p,ss])'*mpc['Q']*mpc['Θ'] - uInit'*mpc['I']'*mpc['R']*mpc['M'])\n",
    "        @expression(model_ms, cfT[kk=2:mD,ss=1:nScen], (mpc['Ψ']*[xMPC[kk,:,ss];de[kk,ss]] - ysp[kk:(kk + p - 1),ss])'*mpc['Q']*mpc['Θ'] - u[kk-1,1,ss]'*mpc['I']'*mpc['R']*mpc['M'])\n",
    "\n",
    "        # Constrained with MPCC\n",
    "        # 1. stationarity\n",
    "        @constraint(model_ms, MPC_sol_1[ss=1:nScen], u[1,:,ss]'*mpc['H'] + cfT_1[ss] +  mu_g[1,:,ss]'*conMatrix .== 0)\n",
    "        @constraint(model_ms, MPC_sol[kk=2:mD,ss=1:nScen], u[kk,:,ss]'*mpc['H'] + cfT[kk,ss] + mu_g[kk,:,ss]'*conMatrix .== 0)\n",
    "\n",
    "        # 2. primal feasibility\n",
    "        @constraint(model_ms, MPC_c_upper[kk=1:mD,uu=1:m,ss=1:nScen], u[kk,uu,ss] - (uMax - u0) ≤ 0)\n",
    "        @constraint(model_ms, MPC_c_lower[kk=1:mD,uu=1:m,ss=1:nScen], (uMin - u0) - u[kk,uu,ss] ≤ 0)\n",
    "        \n",
    "        # Expressions for OF\n",
    "        @expression(model_ms, g_u_u[kk=1:mD,uu=1:m,ss=1:nScen], u[kk,uu,ss] - (uMax - u0))\n",
    "        @expression(model_ms, g_u_l[kk=1:mD,uu=1:m,ss=1:nScen], (uMin - u0) - u[kk,uu,ss])\n",
    "        \n",
    "    end\n",
    "        \n",
    "    #############################\n",
    "    # Set up objective function #\n",
    "    #############################\n",
    "    if option == 1 || option == 2\n",
    "        @objective(model_ms, Min, \n",
    "            pScen*sum(-yDRTO[kk,ss] + wP*delta_p[kk,ss]^2 for kk in 1:pD, ss in 1:nScen)\n",
    "        )\n",
    "    else\n",
    "        @objective(model_ms, Min, pScen*sum(-yDRTO[kk,ss] + wP*delta_p[kk,ss]^2 for kk in 1:pD, ss in 1:nScen)\n",
    "                                - pScen*pi_bar*sum(\n",
    "                                                sum(mu_g[kk,jj,ss]*g_u_u[kk,jj,ss] for jj = 1:m) +\n",
    "                                                sum(mu_g[kk,jj + m,ss]*g_u_l[kk,jj,ss] for jj = 1:m)\n",
    "                                                for kk = 1:mD, ss in 1:nScen)\n",
    "        )\n",
    "    end\n",
    "    # @show model_ms\n",
    "\n",
    "    #################\n",
    "    # Solve Problem #\n",
    "    #################\n",
    "    #set_optimizer_attribute(model_ms, \"CPX_PARAM_BARALG\", 1)\n",
    "    optimize!(model_ms)\n",
    "    \n",
    "    status = termination_status(model_ms)\n",
    "    #display(status)\n",
    "    \n",
    "    if status == MOI.OPTIMAL || status == MOI.ALMOST_OPTIMAL || status == MOI.LOCALLY_SOLVED\n",
    "        # Proved optimality or Optimal within relaxed tolerances\n",
    "        # solution time\n",
    "        timeSol = solve_time(model_ms)\n",
    "\n",
    "        flag = 1\n",
    "        # #primal_status(m)\n",
    "\n",
    "        #calling values of the solved problem\n",
    "        ϕ = objective_value(model_ms)\n",
    "        uArray = value.(u)\n",
    "        yspArray = value.(ysp)\n",
    "        yDRTOArray = value.(yDRTO)\n",
    "        yMPCArray = value.(yMPC)\n",
    "        xDRTOArray = value.(xDRTO)\n",
    "        xMPCArray = value.(xMPC)\n",
    "\n",
    "        outputFun = Dict('ϕ' => ϕ,\n",
    "                        't' => timeSol,\n",
    "                        'f' => flag, \n",
    "                        'u' => uArray,\n",
    "                        's' => yspArray,\n",
    "                        'x' => xDRTOArray,\n",
    "                        'y' => yDRTOArray, \n",
    "                        'm' => xDRTOArray,\n",
    "                        'c' => yDRTOArray)\n",
    "        \n",
    "        if option == 2 || option == 3\n",
    "            muArray = value.(mu_g)\n",
    "            merge!(outputFun,Dict('μ'=> muArray))\n",
    "        end\n",
    "        \n",
    "        return outputFun\n",
    "    else\n",
    "        # Handle other cases.\n",
    "        outputFun = Dict('f' => 0,\n",
    "                         't' => NaN,\n",
    "                         'ϕ' => NaN)\n",
    "                        \n",
    "        \n",
    "        return outputFun\n",
    "    end\n",
    "end;"
   ]
  },
  {
   "cell_type": "markdown",
   "id": "e2a35860",
   "metadata": {},
   "source": [
    "# Decomposition of CLDRTO Problem"
   ]
  },
  {
   "attachments": {
    "image-2.png": {
     "image/png": "[encoded data removed]"
    }
   },
   "cell_type": "markdown",
   "id": "eccb0edd",
   "metadata": {},
   "source": [
    "<div>\n",
    "<img src=\"attachment:image-2.png\" width=\"900\"/>\n",
    "</div>"
   ]
  },
  {
   "cell_type": "markdown",
   "id": "b2f632eb",
   "metadata": {},
   "source": [
    "## Modeling Subproblem"
   ]
  },
  {
   "cell_type": "code",
   "execution_count": 11,
   "id": "1c652a26",
   "metadata": {},
   "outputs": [],
   "source": [
    "## Modeling the sub problem (scenario) -- modeling inside a function\n",
    "function subp(xInit,uInit,ysp_fixed,nReac,nScen,pScen,solNom,option)\n",
    "    ###########\n",
    "    # inputs: #\n",
    "    ###########\n",
    "    # xInit - states at the current iteration (beginning of DRTO horizon)\n",
    "    # uInit - inputs at the current iteration, already implemented on the plant\n",
    "    # ysp_fixed - setpoints fixed by the Master Problem --> nonanticipativity constraints\n",
    "    # nReac - number of parallel reactors\n",
    "    # nScen - number of scenarios used in the problem (only one branching)\n",
    "    # pScen - probability of the scenarios\n",
    "    # solNom - nominal solution\n",
    "    # option - strategy for solving MPC \n",
    "        # for now, code only works for option = 3\n",
    "\n",
    "    # Creating MPC matrices\n",
    "    mpc = MPC_matrices(nReac)\n",
    "    \n",
    "    # Creating DRTO matrices\n",
    "    \n",
    "    # recomputing the number of total scenarios based on scenario probability and the fact that the scenarios have the same probability\n",
    "    nScenTotal = ceil(Int,1/pScen)    \n",
    "    drto = DRTO_matrix(nReac,nScen,nScenTotal)\n",
    "    \n",
    "    # Define subproblem model  #== 3\n",
    "    if option == 3 || option == 1\n",
    "        sub = Model(Ipopt.Optimizer)\n",
    "        set_optimizer_attribute(sub, \"max_cpu_time\", 300.0) # 5 min\n",
    "    else \n",
    "        sub = Model(CPLEX.Optimizer)\n",
    "        set_optimizer_attribute(sub, \"CPX_PARAM_TILIM\", 300.0) # 5 min\n",
    "    end\n",
    "    set_silent(sub) # avoid printing\n",
    "    \n",
    "    ####################\n",
    "    # Set up variables #\n",
    "    ####################\n",
    "    # DRTO model variables\n",
    "    @variable(sub, xDRTO[1:pD, 1:nx])\n",
    "    @variable(sub, yDRTO[1:pD])\n",
    "    \n",
    "    # MPC model variables\n",
    "    @variable(sub, xMPC[1:pD, 1:nx])\n",
    "    @variable(sub, yMPC[1:pD])\n",
    "\n",
    "    # MPC <-> DRTO model deviation\n",
    "    @variable(sub, de[1:pD])\n",
    "    \n",
    "    # inputs computed by MPCs\n",
    "    @variable(sub, u[1:pD,1:m])\n",
    "    if option == 1\n",
    "        @variable(sub, u_w_c[1:pD,1:m]) # inputs w/o clipping\n",
    "    \n",
    "        # input clipping \n",
    "        @variable(sub, mu_lb[1:pD,1:m] ≥ 0)\n",
    "        @variable(sub, eta_lb[1:pD,1:m] ≥ 0)\n",
    "        @variable(sub, mu_ub[1:pD,1:m] ≥ 0)\n",
    "        @variable(sub, eta_ub[1:pD,1:m] ≥ 0)       \n",
    "    end\n",
    "    \n",
    "    # setpoints for the controllers sent to the plant (CL-DRTO degrees of freedom)\n",
    "    @variable(sub, (yspMin - y0) ≤ ysp[1:pD] ≤ (yspMax - y0))\n",
    "        \n",
    "    # slacks for controlling setpoint into a zone\n",
    "    @variable(sub, delta_p[1:pD] ≥ 0)\n",
    "    \n",
    "    if option == 2 || option == 3\n",
    "        @variable(sub, mu_g[1:mD,1:(2*m)] ≥ 0) # upper and lower bounds for each input\n",
    "    end\n",
    "    if option == 2\n",
    "        @variable(sub, Y_lb[1:mD,1:m], start = 0) # Relaxing binaries for big-M implementation\n",
    "        @variable(sub, Y_ub[1:mD,1:m], start = 0) \n",
    "    end\n",
    "    \n",
    "    ########################\n",
    "    # Set up initial guess #\n",
    "    ########################\n",
    "    if solNom isa Dict\n",
    "        for ii in 1:pD\n",
    "            set_start_value(yDRTO[ii], solNom['y'][ii,1]) \n",
    "            set_start_value(yMPC[ii], solNom['c'][ii,1])\n",
    "            #set_start_value(ysp[ii], solNom['s'][ii,1])\n",
    "\n",
    "            for rr in 1:nReac # when nReac increases, the number of states change!\n",
    "                for xx in 1:2 # N.B. nx/reactor is hardcoded here... (maybe use nx/reactor as a function input) \n",
    "                    set_start_value(xDRTO[ii,xx + (rr - 1)*2], solNom['x'][ii,xx,1])    \n",
    "                    set_start_value(xMPC[ii,xx + (rr - 1)*2], solNom['m'][ii,xx,1])           \n",
    "                end # end xx\n",
    "            end # number \n",
    "                \n",
    "            for uu in 1:m\n",
    "                set_start_value(u[ii,uu], solNom['u'][ii,uu,1])\n",
    "            end # end of uu\n",
    "        end # eend of ii\n",
    "    end # end of if\n",
    "\n",
    "    ######################################\n",
    "    # Set up constraints and expressions #\n",
    "    ######################################\n",
    "    # Dynamic RTO model (linear)\n",
    "    @constraint(sub, CLDRTO_dyn_model_1, xDRTO[1,:] .== drto['A']*xInit + drto['B']*uInit)\n",
    "    @constraint(sub, CLDRTO_dyn_model[kk=1:(pD - 1)], xDRTO[kk + 1,:] .== drto['A']*xDRTO[kk,:] + drto['B']*u[kk,1])\n",
    "    @constraint(sub, CLDRTO_model_out[kk=1:pD], yDRTO[kk] == dot(drto['C'],xDRTO[kk,:]))\n",
    "\n",
    "    # fixing input after mD\n",
    "    @constraint(sub, control_horizon[kk=(mD+1):pD], u[kk,1] == u[mD,1]);\n",
    "    \n",
    "    # P soft constraints\n",
    "    @constraint(sub, soft_P[kk=1:pD], yDRTO[kk] - delta_p[kk] ≤ pUB)\n",
    "    \n",
    "    # nonanticipativity constraints\n",
    "    @constraint(sub, nonAnt[kk=1:nDRTO], ysp[kk] - ysp_fixed[kk] == 0.0);\n",
    "    \n",
    "    ################\n",
    "    # MPC solution #\n",
    "    ################ \n",
    "    if option == 1\n",
    "        # MPC model (linear)\n",
    "        @constraint(sub, MPC_dyn_model_1, xMPC[1,:] .== mpc['A']*xInit + mpc['B']*uInit)\n",
    "        @constraint(sub, MPC_dyn_model[kk=1:(pD - 1)], xMPC[kk + 1,:] .== mpc['A']*xMPC[kk,:] + mpc['B']*u_w_c[kk,1])\n",
    "        @constraint(sub, MPC_model_out[kk=1:pD], yMPC[kk] == dot(mpc['C'],xMPC[kk,:]))\n",
    "\n",
    "        #  MPC model deviation (disturance)\n",
    "        @constraint(sub, MPC_model_dev[kk=1:pD], de[kk] == yDRTO[kk] - yMPC[kk])\n",
    "\n",
    "        # sequence of Setpoints\n",
    "        @expression(sub, cfT_1, (mpc['Ψ']*[xMPC[1,:];de[1]] - ysp[1:p])'*mpc['Q']*mpc['Θ'] - uInit'*mpc['I']'*mpc['R']*mpc['M'])\n",
    "        @expression(sub, cfT[kk=2:mD], (mpc['Ψ']*[xMPC[kk,:];de[kk]] - ysp[kk:(kk + p - 1)])'*mpc['Q']*mpc['Θ'] - u_w_c[kk-1,1]'*mpc['I']'*mpc['R']*mpc['M'])\n",
    "\n",
    "        # Unconstrained MPC solution  \n",
    "        @constraint(sub, MPC_sol_1, mpc['H']*u_w_c[1,:] + cfT_1' .== 0)\n",
    "        @constraint(sub, MPC_sol[kk=2:mD],mpc['H']*u_w_c[kk,:] + cfT[kk]' .== 0)\n",
    "\n",
    "        # input clipping\n",
    "        @constraint(sub, ic_1[kk = 1:mD,uu = 1:m], u[kk,uu] == u_w_c[kk,uu] - mu_ub[kk,uu] + mu_lb[kk,uu])\n",
    "        @constraint(sub, ic_2[kk = 1:mD,uu = 1:m], (uMax - u0) - u[kk,uu] == eta_ub[kk,uu])\n",
    "        @constraint(sub, ic_3[kk = 1:mD,uu = 1:m], eta_ub[kk,uu]*mu_ub[kk,uu] ≤ 1e-6)\n",
    "        @constraint(sub, ic_4[kk = 1:mD,uu = 1:m], u[kk,uu] - (uMin - u0) == eta_lb[kk,uu])\n",
    "        @constraint(sub, ic_5[kk = 1:mD,uu = 1:m], eta_lb[kk,uu]*mu_lb[kk,uu] ≤ 1e-6)\n",
    "\n",
    "    \n",
    "    elseif option == 2\n",
    "        # MPC model (linear)\n",
    "        @constraint(sub, MPC_dyn_model_1, xMPC[1,:] .== mpc['A']*xInit + mpc['B']*uInit)\n",
    "        @constraint(sub, MPC_dyn_model[kk=1:(pD - 1)], xMPC[kk + 1,:] .== mpc['A']*xMPC[kk,:] + mpc['B']*u[kk,1])\n",
    "        @constraint(sub, MPC_model_out[kk=1:pD], yMPC[kk] == dot(mpc['C'],xMPC[kk,:]))\n",
    "\n",
    "        #  MPC model deviation (disturance)\n",
    "        @constraint(sub, MPC_model_dev[kk=1:pD], de[kk] == yDRTO[kk] - yMPC[kk])\n",
    "\n",
    "        # sequence of Setpoints\n",
    "        @expression(sub, cfT_1, (mpc['Ψ']*[xMPC[1,:];de[1]] - ysp[1:p])'*mpc['Q']*mpc['Θ'] - uInit'*mpc['I']'*mpc['R']*mpc['M'])\n",
    "        @expression(sub, cfT[kk=2:mD], (mpc['Ψ']*[xMPC[kk,:];de[kk]] - ysp[kk:(kk + p - 1)])'*mpc['Q']*mpc['Θ'] - u[kk-1,1]'*mpc['I']'*mpc['R']*mpc['M'])\n",
    "\n",
    "        # Constrained with binaries\n",
    "        # 1. stationarity\n",
    "        @constraint(sub, MPC_sol_1, u[1,:]'*mpc['H'] + cfT_1 +  mu_g[1,:]'*conMatrix .== 0)\n",
    "        @constraint(sub, MPC_sol[kk=2:mD], u[kk,:]'*mpc['H'] + cfT[kk] + mu_g[kk,:]'*conMatrix .== 0)\n",
    "\n",
    "        # 2. primal feasibility\n",
    "        @constraint(sub, MPC_c_upper[kk=1:mD,uu=1:m], u[kk,uu] - (uMax - u0) ≤ 0)\n",
    "        @constraint(sub, MPC_c_lower[kk=1:mD,uu=1:m], (uMin - u0) - u[kk,uu] ≤ 0)\n",
    "    \n",
    "        # 3. complementarity --> using big-M implementation\n",
    "        @constraint(sub, bigM_1[kk=1:mD,uu=1:m], mu_g[kk,uu] ≤ bigM_mu*Y_ub[kk,uu])\n",
    "        @constraint(sub, bigM_2[kk=1:mD,uu=1:m], mu_g[kk,uu + m] ≤ bigM_mu*Y_lb[kk,uu])\n",
    "        @constraint(sub, bigM_3[kk=1:mD,uu=1:m], u[kk,uu] - (uMax - u0) ≥ -bigM_u*(1 - Y_ub[kk,uu]))\n",
    "        @constraint(sub, bigM_4[kk=1:mD,uu=1:m], (uMin - u0) - u[kk,uu] ≥ -bigM_u*(1 - Y_lb[kk,uu]))\n",
    "        \n",
    "        @constraint(sub, compSlack[kk=1:mD,uu=1:m], Y_ub[kk,uu] + Y_lb[kk,uu] ≤ 1)\n",
    "    \n",
    "    elseif option == 3\n",
    "        # MPC model (linear)\n",
    "        @constraint(sub, MPC_dyn_model_1, xMPC[1,:] .== mpc['A']*xInit + mpc['B']*uInit)\n",
    "        @constraint(sub, MPC_dyn_model[kk=1:(pD - 1)], xMPC[kk + 1,:] .== mpc['A']*xMPC[kk,:] + mpc['B']*u[kk,1])\n",
    "        @constraint(sub, MPC_model_out[kk=1:pD], yMPC[kk] == dot(mpc['C'],xMPC[kk,:]))\n",
    "\n",
    "        #  MPC model deviation (disturance)\n",
    "        @constraint(sub, MPC_model_dev[kk=1:pD], de[kk] == yDRTO[kk] - yMPC[kk])\n",
    "\n",
    "        # sequence of Setpoints\n",
    "        @expression(sub, cfT_1, (mpc['Ψ']*[xMPC[1,:];de[1]] - ysp[1:p])'*mpc['Q']*mpc['Θ'] - uInit'*mpc['I']'*mpc['R']*mpc['M'])\n",
    "        @expression(sub, cfT[kk=2:mD], (mpc['Ψ']*[xMPC[kk,:];de[kk]] - ysp[kk:(kk + p - 1)])'*mpc['Q']*mpc['Θ'] - u[kk-1,1]'*mpc['I']'*mpc['R']*mpc['M'])\n",
    "\n",
    "        # Constrained with MPCC\n",
    "        # 1. stationarity\n",
    "        @constraint(sub, MPC_sol_1, u[1,:]'*mpc['H'] + cfT_1 +  mu_g[1,:]'*conMatrix .== 0)\n",
    "        @constraint(sub, MPC_sol[kk=2:mD], u[kk,:]'*mpc['H'] + cfT[kk] + mu_g[kk,:]'*conMatrix .== 0)\n",
    "\n",
    "        # 2. primal feasibility       \n",
    "        @constraint(sub, MPC_c_upper[kk=1:mD,uu=1:m], u[kk,uu] - (uMax - u0) ≤ 0)\n",
    "        @constraint(sub, MPC_c_lower[kk=1:mD,uu=1:m], (uMin - u0) - u[kk,uu] ≤ 0)\n",
    "        \n",
    "        # expression to be used in OF        \n",
    "        @expression(sub, g_u_u[kk=1:mD,uu=1:m], u[kk,uu] - (uMax - u0))\n",
    "        @expression(sub, g_u_l[kk=1:mD,uu=1:m], (uMin - u0) - u[kk,uu])\n",
    "        \n",
    "    end\n",
    "  \n",
    "    #############################\n",
    "    # Set up objective function #\n",
    "    #############################\n",
    "     if option == 1 || option == 2\n",
    "        @objective(sub, Min, \n",
    "            pScen*sum(-yDRTO[kk] + wP*delta_p[kk]^2 for kk in 1:pD)\n",
    "        )\n",
    "    else\n",
    "        @objective(sub, Min, \n",
    "            pScen*sum(-yDRTO[kk] + wP*delta_p[kk]^2 for kk in 1:pD)\n",
    "                    - pScen*pi_bar*sum(\n",
    "                                    sum(mu_g[kk,jj]*g_u_u[kk,jj] for jj = 1:m) +\n",
    "                                    sum(mu_g[kk,jj + m]*g_u_l[kk,jj] for jj = 1:m)\n",
    "                                for kk = 1:mD)\n",
    "        )\n",
    "    end\n",
    "    \n",
    "    # @show sub\n",
    "    #set_optimizer_attribute(sub, \"CPX_PARAM_BARALG\", 1)\n",
    "    \n",
    "    optimize!(sub)\n",
    "    \n",
    "    # solution time\n",
    "    timeSol = solve_time(sub)\n",
    "    \n",
    "    status = termination_status(sub)\n",
    "    #display(status)\n",
    "    \n",
    "    # checking if there is a solution to the problem\n",
    "    if status == MOI.OPTIMAL || status == MOI.ALMOST_OPTIMAL || status == MOI.LOCALLY_SOLVED\n",
    "        # Proved optimality or Optimal within relaxed tolerances\n",
    "        # we add an optimality cut\n",
    "        flag = 1\n",
    "        # #primal_status(m)\n",
    "\n",
    "        #calling values of the solved problem\n",
    "        ϕ = objective_value(sub)\n",
    "        uArray = value.(u)\n",
    "        yspArray = value.(ysp)\n",
    "        yDRTOArray = value.(yDRTO)\n",
    "        yMPCArray = value.(yMPC)\n",
    "        xDRTOArray = value.(xDRTO)\n",
    "        xMPCArray = value.(xMPC)\n",
    "        \n",
    "        # lagrange multipliers associated with the nonantecipativity constraints\n",
    "        λ = dual.(nonAnt)\n",
    "\n",
    "        outputDict = Dict('ϕ' => ϕ,\n",
    "                        't' => timeSol,\n",
    "                        'f' => flag, \n",
    "                        'a' => status,\n",
    "                        'u' => uArray,\n",
    "                        's' => yspArray,\n",
    "                        'x' => xDRTOArray,\n",
    "                        'y' => yDRTOArray, \n",
    "                        'm' => xMPCArray,\n",
    "                        'c' => yMPCArray,\n",
    "                        'λ' => λ)\n",
    "        \n",
    "        # if binaries are used for solving const. MPC\n",
    "        if option == 2\n",
    "            muArray = value.(mu_g)\n",
    "                   \n",
    "            uubBinArray = value.(Y_ub)\n",
    "            ulbBinArray = value.(Y_lb)\n",
    "            \n",
    "            merge!(outputDict,Dict('μ'=> muArray))\n",
    "            merge!(outputDict,Dict('o' => ulbBinArray))\n",
    "            merge!(outputDict,Dict('p' => uubBinArray))\n",
    "            \n",
    "        end\n",
    "        \n",
    "        # if MPCC is used for solving const. MPC\n",
    "        if option == 3\n",
    "            muArray = value.(mu_g)\n",
    "            \n",
    "            merge!(outputDict,Dict('μ'=> muArray))\n",
    "        end\n",
    "        \n",
    "        return outputDict\n",
    "    else\n",
    "        #i.e. no feasible solution --> Add feasibility cut\n",
    "        #display(\"Feasibility cut: scenario $(scen)\")        \n",
    "\n",
    "        # ! soft bounds on ysp\n",
    "        delete_lower_bound.(ysp[1:pD])\n",
    "        delete_upper_bound.(ysp[1:pD])\n",
    "        \n",
    "        if option != 1\n",
    "            # ! soft bounds on mu\n",
    "            delete_lower_bound.(mu_g[1:mD,1:m])\n",
    "            \n",
    "            # ! soft bounds on u\n",
    "            for kk in 1:mD\n",
    "                for uu in 1:m\n",
    "                    delete(sub, MPC_c_upper[kk,uu])\n",
    "                    delete(sub, MPC_c_lower[kk,uu])\n",
    "                end\n",
    "            end\n",
    "        end\n",
    "        \n",
    "        ####################\n",
    "        # Set up variables #\n",
    "        #################### \n",
    "        @variable(sub, delta_ysp_u[1:pD] ≥ 0.0)\n",
    "        @variable(sub, delta_ysp_l[1:pD] ≥ 0.0)\n",
    "        \n",
    "        if option == 2 || option == 3\n",
    "            @variable(sub, delta_mu[1:mD,1:m] ≥ 0.0)\n",
    "            \n",
    "            # slacks\n",
    "            @variable(sub, delta_u_u[1:mD,1:m] ≥ 0.0)\n",
    "            @variable(sub, delta_u_l[1:mD,1:m] ≥ 0.0)\n",
    "        end\n",
    "        \n",
    "        ###########################\n",
    "        # Always-feasible problem #\n",
    "        ###########################                \n",
    "        @constraint(sub, soft_ysp_upper[kk=1:pD], ysp[kk] - (yspMax - y0) ≤ delta_ysp_u[kk])\n",
    "        @constraint(sub, soft_ysp_lower[kk=1:pD], (yspMin - y0) - ysp[kk] ≤ delta_ysp_l[kk])\n",
    "\n",
    "        # adding a constraint to guarantee that mu is always feasible        \n",
    "        if option == 2 || option == 3\n",
    "            @constraint(sub, soft_MPC_mu_upper[kk=1:mD,uu=1:m], -mu_g[kk,uu] ≤ delta_mu[kk,uu])\n",
    "            \n",
    "            # adding a constraint to guarantee feasibility\n",
    "            @constraint(sub, soft_u_upper[kk=1:mD,uu=1:m], u[kk,uu] - (uMax - u0) ≤ delta_u_u[kk,uu])\n",
    "            @constraint(sub, soft_u_lower[kk=1:mD,uu=1:m], (uMin - u0) - u[kk,uu] ≤ delta_u_l[kk,uu])\n",
    "        end\n",
    "        \n",
    "       #############################\n",
    "        # Set up objective function #\n",
    "        #############################\n",
    "        # Modifying the objective --> call @objective with the new objective function.\n",
    "        # minimizing constraint violation - l1 penalty!\n",
    "        if option == 2 || option == 3\n",
    "            @objective(sub, Min, sum(delta_p[kk] + delta_ysp_u[kk] + delta_ysp_l[kk] for kk in 1:pD)\n",
    "                    + sum(sum(delta_mu[kk,uu] + delta_u_u[kk,uu] + delta_u_l[kk,uu] for uu in 1:m) for kk in 1:mD))\n",
    "        else\n",
    "            @objective(sub, Min, sum(delta_p[kk] + delta_ysp_u[kk] + delta_ysp_l[kk] for kk in 1:pD))\n",
    "        end\n",
    "        \n",
    "        #@show sub\n",
    "        #set_optimizer_attribute(sub, \"CPX_PARAM_BARALG\", 1)\n",
    "\n",
    "        # re-optimizing (now using the always feasible problem)\n",
    "        optimize!(sub)\n",
    "        \n",
    "        # solution time (adding time to solve the always feasible subproblem)\n",
    "        timeSol = timeSol + solve_time(sub)\n",
    "        \n",
    "        # checking status of the solution\n",
    "        status_sub = termination_status(sub)\n",
    "        \n",
    "        # flag for calling feasibility cuts (not optimality cuts)\n",
    "        flag = 0\n",
    "        \n",
    "        #calling values of the solved problem\n",
    "        uArray = value.(u)\n",
    "        yspArray = value.(ysp)\n",
    "        yDRTOArray = value.(yDRTO)\n",
    "        yMPCArray = value.(yMPC)\n",
    "        xDRTOArray = value.(xDRTO)\n",
    "        xMPCArray = value.(xMPC)\n",
    "    \n",
    "        # objective function of the feasibility problem\n",
    "        o = objective_value(sub)\n",
    "        \n",
    "        # lagrange multipliers associated with the nonantecipativity constraints and binaries from master problem\n",
    "        λ = dual.(nonAnt)\n",
    "        \n",
    "        outputDict = Dict('ϕ' => o,\n",
    "                        't' => timeSol,\n",
    "                        'f' => flag, \n",
    "                        'a' => status_sub,\n",
    "                        'u' => uArray,\n",
    "                        's' => yspArray,\n",
    "                        'x' => xDRTOArray,\n",
    "                        'y' => yDRTOArray, \n",
    "                        'm' => xMPCArray,\n",
    "                        'c' => yMPCArray,\n",
    "                        'λ' => λ)\n",
    "        \n",
    "         if option == 2 || option == 3     \n",
    "            #delta_muArray = value.(delta_mu)\n",
    "            #delta_ulArray = value.(delta_u_l)\n",
    "            #delta_uuArray = value.(delta_u_u)\n",
    "            \n",
    "            muArray = value.(mu_g)\n",
    "            merge!(outputDict,Dict('μ'=> muArray))\n",
    "        end\n",
    "        \n",
    "        return outputDict\n",
    "    end\n",
    "end;"
   ]
  },
  {
   "cell_type": "markdown",
   "id": "1690f637",
   "metadata": {},
   "source": [
    "Modeling Bender's Decomposition"
   ]
  },
  {
   "cell_type": "code",
   "execution_count": 12,
   "id": "418c3ed4",
   "metadata": {},
   "outputs": [],
   "source": [
    "# max number of iteration\n",
    "benIterMax = 50\n",
    "\n",
    "# optimality gap (relative) tolerance\n",
    "optGap = 2e-3; # UNC/BIN: 0.001 | MPCC: 0.5"
   ]
  },
  {
   "cell_type": "code",
   "execution_count": 13,
   "id": "6550488c",
   "metadata": {},
   "outputs": [],
   "source": [
    "## Modeling Benders Decompostion\n",
    "function BENS_CLDRTO(xInit,uInit,nReac,nScen,pScen,solNom,option)\n",
    "    \n",
    "    \n",
    "    # flag for checking if last cut was opt. (1) or feas. (0)\n",
    "    flagO = 1\n",
    "    \n",
    "    # timing solution via Benders\n",
    "    timeSolBen = 0 \n",
    "    # timing solution via parallel Benders\n",
    "    timeSolParBen = 0 \n",
    "    \n",
    "    # Define master problem model\n",
    "    master = Model(CPLEX.Optimizer)\n",
    "    set_silent(master)\n",
    "    \n",
    "    #lower bound on scenario objective function approximation \n",
    "    alpha_down =-10.0;\n",
    "    \n",
    "    ####################\n",
    "    # Set up variables #\n",
    "    ####################\n",
    "    @variable(master,  (yspMin - y0) <= ysp[1:nDRTO] <=  (yspMax - y0))     \n",
    "    @variable(master, α ≥ alpha_down)\n",
    "    \n",
    "    ########################\n",
    "    # Set up initial guess #\n",
    "    ########################\n",
    "    if solNom isa Dict\n",
    "        for ii in 1:nDRTO\n",
    "            set_start_value(ysp[ii], solNom['s'][ii,1])\n",
    "        end \n",
    "    end \n",
    " \n",
    "    ################################################\n",
    "    # Solving problem with benders' decomposition  #\n",
    "    ################################################\n",
    "    for ii in 1:benIterMax\n",
    "           \n",
    "        #############################\n",
    "        # Set up objective function #\n",
    "        #############################\n",
    "        if flagO == 1 \n",
    "            # last cut was an optimality cut\n",
    "            # standard OF\n",
    "            @objective(master, Min, α)\n",
    "        else\n",
    "            # last cut was a feasibility cut\n",
    "            # \"nudge\" next solution towards nominal solution \n",
    "            @objective(master, Min, α + 0.0*sum((ysp[kk] - solNom['s'][kk,1])^2 for kk in 1:nDRTO))\n",
    "        end\n",
    "        \n",
    "            # solve master problem (with Benders' cut)\n",
    "            optimize!(master)\n",
    "\n",
    "            # solution time\n",
    "            timeSolMaster = solve_time(master)\n",
    "            # Master problem solution: lower bound of the original problem\n",
    "            lb = objective_value(master)\n",
    "            #display(lb)\n",
    "\n",
    "            # extracting solution for the non-anticipativity constraints\n",
    "            ysp_nonⁱ = value.(ysp)\n",
    "            #display(ysp_nonⁱ)\n",
    "\n",
    "        timeSolBen = timeSolBen + timeSolMaster\n",
    "        timeSolParBen = timeSolParBen + timeSolMaster # master cannot be paralellized \n",
    "\n",
    "        #######################\n",
    "        # Solving subproblems #\n",
    "        #######################\n",
    "        # objective function\n",
    "        o_temp = Vector{Float64}(undef,nScen)\n",
    "        # flag optimality / feasibility\n",
    "        flag_temp = Vector{Float64}(undef,nScen)\n",
    "        # solution time\n",
    "        solTime_temp = Vector{Float64}(undef,nScen)\n",
    "        # multipliers\n",
    "        lambdaN_temp = Matrix{Float64}(undef,nDRTO,nScen) \n",
    "        \n",
    "        for ss in 1:nScen\n",
    "            dicTemp = subp(xInit,uInit,ysp_nonⁱ,nReac,ss,pScen,solNom,option)\n",
    "           \n",
    "            # saving files\n",
    "            # objective function\n",
    "            o_temp[ss] = dicTemp['ϕ']\n",
    "            # solution time\n",
    "            solTime_temp[ss] = dicTemp['t']\n",
    "            # optimality / feasibility flag\n",
    "            flag_temp[ss] = dicTemp['f']\n",
    "            # multiplier\n",
    "            for kk in 1:nDRTO\n",
    "                lambdaN_temp[kk,ss] = dicTemp['λ'][kk]\n",
    "            end\n",
    "            \n",
    "        end\n",
    "        \n",
    "        ##########################################################\n",
    "        # If all subproblems were feasible, check optimality gap #\n",
    "        ##########################################################\n",
    "        if sum(flag_temp) == nScen \n",
    "            # Subproblem solution: upper bound of the original problem\n",
    "            ub = sum(o_temp)\n",
    "\n",
    "            # solve subproblems to find the upper bound of the original problem solution \n",
    "            timeSolBen = timeSolBen + sum(solTime_temp)\n",
    "\n",
    "            # assuming that subproblem solution is parallelized\n",
    "            timeSolParBen = timeSolParBen + maximum(solTime_temp)   \n",
    "            \n",
    "            # compute optimality gap\n",
    "            gap = abs(ub - lb)/abs(ub)\n",
    "            display(\" DB: opt gap = $(gap)\")\n",
    "\n",
    "            # check if optimality gap is small enough\n",
    "            # also, make sure last cut was an optimality cut due to change in OF \n",
    "            if gap < optGap && flagO == 1\n",
    "                global yspSol_dec = ysp_nonⁱ\n",
    "                global objFun_dec = ub\n",
    "                global optGap_dec = gap\n",
    "                global iter_dec = ii\n",
    "                global time_dec = timeSolBen\n",
    "                global time_max_dec = timeSolParBen\n",
    "                break\n",
    "            else # gap ≥ optGap \n",
    "                ##############################\n",
    "                # --> adding optimality cuts #\n",
    "                ##############################\n",
    "                display(\">>>>>> iteration $(ii):O\")\n",
    "                benderscutO = @constraint(master, α ≥ ub + \n",
    "                    sum(sum(lambdaN_temp[jj,ss] for ss in 1:nScen)*(ysp[jj] - ysp_nonⁱ[jj]) for jj in 1:nDRTO))\n",
    "                #@info \"we are adding this bender optimality cut $(benderscutO)\"\n",
    "                \n",
    "                # optimality cut was add\n",
    "                flagO = 1\n",
    "            \n",
    "            end # if gap\n",
    "        else # sum(flag_temp) != nScen\n",
    "            ###############################\n",
    "            # --> adding feasibility cuts #\n",
    "            ###############################\n",
    "            display(\">>>>>> iteration $(ii):F\")\n",
    "\n",
    "            benderscutF = @constraint(master, 0 ≥\n",
    "                sum(sum(lambdaN_temp[jj,ss] for ss in 1:nScen)*(ysp[jj] - ysp_nonⁱ[jj]) for jj in 1:nDRTO))\n",
    "            #@info \"we are adding this bender feasibility cut $(benderscutF)\"\n",
    "            \n",
    "            # feasibility cut was add\n",
    "            flagO = 0\n",
    "            \n",
    "        end # if nScen\n",
    "        \n",
    "        # checking if number of iterations reached max \n",
    "        if ii < benIterMax\n",
    "            global yspSol_dec = [NaN for kk=1:nDRTO]\n",
    "            global objFun_dec = NaN\n",
    "            global optGap_dec = NaN\n",
    "            global iter_dec = benIterMax\n",
    "            global time_dec = timeSolBen\n",
    "            global time_max_dec = timeSolParBen\n",
    "        end # if < benIterMax\n",
    "    end # if for benders iterations\n",
    "\n",
    "    # recomputing values\n",
    "    uArray = [subp(xInit,uInit,yspSol_dec,nReac,ss,pScen,solNom,option)['u']' for ss in 1:nScen]\n",
    "    yArray = [subp(xInit,uInit,yspSol_dec,nReac,ss,pScen,solNom,option)['y']' for ss in 1:nScen] \n",
    "    yspArray = [subp(xInit,uInit,yspSol_dec,nReac,ss,pScen,solNom,option)['s']' for ss in 1:nScen]\n",
    "    \n",
    "    #calling values of the solved problem\n",
    "    return Dict('ϕ' => objFun_dec, \n",
    "                'd' => yspSol_dec, \n",
    "                't' => time_dec,\n",
    "                'm' => time_max_dec, \n",
    "                'i' => iter_dec,\n",
    "                'g' => optGap_dec,\n",
    "                'u' => uArray, \n",
    "                'y' => yArray, \n",
    "                's' => yspArray)\n",
    "     \n",
    "end;"
   ]
  },
  {
   "cell_type": "markdown",
   "id": "7dbb9c4b",
   "metadata": {},
   "source": [
    "# Checking the performance of the methods in terms of time vs. nScen"
   ]
  },
  {
   "cell_type": "code",
   "execution_count": 14,
   "id": "a5cd27ad",
   "metadata": {},
   "outputs": [
    {
     "name": "stdout",
     "output_type": "stream",
     "text": [
      "\n",
      "******************************************************************************\n",
      "This program contains Ipopt, a library for large-scale nonlinear optimization.\n",
      " Ipopt is released as open source code under the Eclipse Public License (EPL).\n",
      "         For more information visit https://github.com/coin-or/Ipopt\n",
      "******************************************************************************\n",
      "\n"
     ]
    },
    {
     "data": {
      "text/plain": [
       "\"evaluating 1 scenarios| option 3\""
      ]
     },
     "metadata": {},
     "output_type": "display_data"
    },
    {
     "data": {
      "text/plain": [
       "\" DB: opt gap = 1.0273410443634239\""
      ]
     },
     "metadata": {},
     "output_type": "display_data"
    },
    {
     "data": {
      "text/plain": [
       "\">>>>>> iteration 1:O\""
      ]
     },
     "metadata": {},
     "output_type": "display_data"
    },
    {
     "data": {
      "text/plain": [
       "\" DB: opt gap = 0.9101421749852159\""
      ]
     },
     "metadata": {},
     "output_type": "display_data"
    },
    {
     "data": {
      "text/plain": [
       "\">>>>>> iteration 2:O\""
      ]
     },
     "metadata": {},
     "output_type": "display_data"
    },
    {
     "data": {
      "text/plain": [
       "\" DB: opt gap = 0.9424084407439236\""
      ]
     },
     "metadata": {},
     "output_type": "display_data"
    },
    {
     "data": {
      "text/plain": [
       "\">>>>>> iteration 3:O\""
      ]
     },
     "metadata": {},
     "output_type": "display_data"
    },
    {
     "data": {
      "text/plain": [
       "\" DB: opt gap = 0.848592370297985\""
      ]
     },
     "metadata": {},
     "output_type": "display_data"
    },
    {
     "data": {
      "text/plain": [
       "\">>>>>> iteration 4:O\""
      ]
     },
     "metadata": {},
     "output_type": "display_data"
    },
    {
     "data": {
      "text/plain": [
       "\" DB: opt gap = 0.977460353562083\""
      ]
     },
     "metadata": {},
     "output_type": "display_data"
    },
    {
     "data": {
      "text/plain": [
       "\">>>>>> iteration 5:O\""
      ]
     },
     "metadata": {},
     "output_type": "display_data"
    },
    {
     "data": {
      "text/plain": [
       "\" DB: opt gap = 0.9935519271435206\""
      ]
     },
     "metadata": {},
     "output_type": "display_data"
    },
    {
     "data": {
      "text/plain": [
       "\">>>>>> iteration 6:O\""
      ]
     },
     "metadata": {},
     "output_type": "display_data"
    },
    {
     "data": {
      "text/plain": [
       "\" DB: opt gap = 0.831874224476162\""
      ]
     },
     "metadata": {},
     "output_type": "display_data"
    },
    {
     "data": {
      "text/plain": [
       "\">>>>>> iteration 7:O\""
      ]
     },
     "metadata": {},
     "output_type": "display_data"
    },
    {
     "data": {
      "text/plain": [
       "\" DB: opt gap = 0.8405543864412731\""
      ]
     },
     "metadata": {},
     "output_type": "display_data"
    },
    {
     "data": {
      "text/plain": [
       "\">>>>>> iteration 8:O\""
      ]
     },
     "metadata": {},
     "output_type": "display_data"
    },
    {
     "data": {
      "text/plain": [
       "\" DB: opt gap = 0.9243804972812494\""
      ]
     },
     "metadata": {},
     "output_type": "display_data"
    },
    {
     "data": {
      "text/plain": [
       "\">>>>>> iteration 9:O\""
      ]
     },
     "metadata": {},
     "output_type": "display_data"
    },
    {
     "data": {
      "text/plain": [
       "\" DB: opt gap = 0.9619331007272519\""
      ]
     },
     "metadata": {},
     "output_type": "display_data"
    },
    {
     "data": {
      "text/plain": [
       "\">>>>>> iteration 10:O\""
      ]
     },
     "metadata": {},
     "output_type": "display_data"
    },
    {
     "data": {
      "text/plain": [
       "\" DB: opt gap = 0.8863164103858114\""
      ]
     },
     "metadata": {},
     "output_type": "display_data"
    },
    {
     "data": {
      "text/plain": [
       "\">>>>>> iteration 11:O\""
      ]
     },
     "metadata": {},
     "output_type": "display_data"
    },
    {
     "data": {
      "text/plain": [
       "\" DB: opt gap = 0.456766519437953\""
      ]
     },
     "metadata": {},
     "output_type": "display_data"
    },
    {
     "data": {
      "text/plain": [
       "\">>>>>> iteration 12:O\""
      ]
     },
     "metadata": {},
     "output_type": "display_data"
    },
    {
     "data": {
      "text/plain": [
       "\" DB: opt gap = 0.45909481067698044\""
      ]
     },
     "metadata": {},
     "output_type": "display_data"
    },
    {
     "data": {
      "text/plain": [
       "\">>>>>> iteration 13:O\""
      ]
     },
     "metadata": {},
     "output_type": "display_data"
    },
    {
     "data": {
      "text/plain": [
       "\" DB: opt gap = 0.00010556664565385472\""
      ]
     },
     "metadata": {},
     "output_type": "display_data"
    },
    {
     "data": {
      "text/plain": [
       "\"time M 0.04799985885620117 | time D 0.8430004119873047\""
      ]
     },
     "metadata": {},
     "output_type": "display_data"
    },
    {
     "data": {
      "text/plain": [
       "\"evaluating 2 scenarios| option 3\""
      ]
     },
     "metadata": {},
     "output_type": "display_data"
    },
    {
     "data": {
      "text/plain": [
       "\" DB: opt gap = 1.0320443389947607\""
      ]
     },
     "metadata": {},
     "output_type": "display_data"
    },
    {
     "data": {
      "text/plain": [
       "\">>>>>> iteration 1:O\""
      ]
     },
     "metadata": {},
     "output_type": "display_data"
    },
    {
     "data": {
      "text/plain": [
       "\" DB: opt gap = 0.9637009287584378\""
      ]
     },
     "metadata": {},
     "output_type": "display_data"
    },
    {
     "data": {
      "text/plain": [
       "\">>>>>> iteration 2:O\""
      ]
     },
     "metadata": {},
     "output_type": "display_data"
    },
    {
     "data": {
      "text/plain": [
       "\" DB: opt gap = 0.984397641723173\""
      ]
     },
     "metadata": {},
     "output_type": "display_data"
    },
    {
     "data": {
      "text/plain": [
       "\">>>>>> iteration 3:O\""
      ]
     },
     "metadata": {},
     "output_type": "display_data"
    },
    {
     "data": {
      "text/plain": [
       "\" DB: opt gap = 0.923749486287672\""
      ]
     },
     "metadata": {},
     "output_type": "display_data"
    },
    {
     "data": {
      "text/plain": [
       "\">>>>>> iteration 4:O\""
      ]
     },
     "metadata": {},
     "output_type": "display_data"
    },
    {
     "data": {
      "text/plain": [
       "\" DB: opt gap = 0.984300405005905\""
      ]
     },
     "metadata": {},
     "output_type": "display_data"
    },
    {
     "data": {
      "text/plain": [
       "\">>>>>> iteration 5:O\""
      ]
     },
     "metadata": {},
     "output_type": "display_data"
    },
    {
     "data": {
      "text/plain": [
       "\" DB: opt gap = 0.8789015520512516\""
      ]
     },
     "metadata": {},
     "output_type": "display_data"
    },
    {
     "data": {
      "text/plain": [
       "\">>>>>> iteration 6:O\""
      ]
     },
     "metadata": {},
     "output_type": "display_data"
    },
    {
     "data": {
      "text/plain": [
       "\" DB: opt gap = 0.9078742625165804\""
      ]
     },
     "metadata": {},
     "output_type": "display_data"
    },
    {
     "data": {
      "text/plain": [
       "\">>>>>> iteration 7:O\""
      ]
     },
     "metadata": {},
     "output_type": "display_data"
    },
    {
     "data": {
      "text/plain": [
       "\" DB: opt gap = 0.8245933138847746\""
      ]
     },
     "metadata": {},
     "output_type": "display_data"
    },
    {
     "data": {
      "text/plain": [
       "\">>>>>> iteration 8:O\""
      ]
     },
     "metadata": {},
     "output_type": "display_data"
    },
    {
     "data": {
      "text/plain": [
       "\" DB: opt gap = 1.0143380784832878\""
      ]
     },
     "metadata": {},
     "output_type": "display_data"
    },
    {
     "data": {
      "text/plain": [
       "\">>>>>> iteration 9:O\""
      ]
     },
     "metadata": {},
     "output_type": "display_data"
    },
    {
     "data": {
      "text/plain": [
       "\" DB: opt gap = 0.014099970376185347\""
      ]
     },
     "metadata": {},
     "output_type": "display_data"
    },
    {
     "data": {
      "text/plain": [
       "\">>>>>> iteration 10:O\""
      ]
     },
     "metadata": {},
     "output_type": "display_data"
    },
    {
     "data": {
      "text/plain": [
       "\" DB: opt gap = 0.01409231800369356\""
      ]
     },
     "metadata": {},
     "output_type": "display_data"
    },
    {
     "data": {
      "text/plain": [
       "\">>>>>> iteration 11:O\""
      ]
     },
     "metadata": {},
     "output_type": "display_data"
    },
    {
     "data": {
      "text/plain": [
       "\" DB: opt gap = 0.014061646557025518\""
      ]
     },
     "metadata": {},
     "output_type": "display_data"
    },
    {
     "data": {
      "text/plain": [
       "\">>>>>> iteration 12:O\""
      ]
     },
     "metadata": {},
     "output_type": "display_data"
    },
    {
     "data": {
      "text/plain": [
       "\" DB: opt gap = 0.014051676345474067\""
      ]
     },
     "metadata": {},
     "output_type": "display_data"
    },
    {
     "data": {
      "text/plain": [
       "\">>>>>> iteration 13:O\""
      ]
     },
     "metadata": {},
     "output_type": "display_data"
    },
    {
     "data": {
      "text/plain": [
       "\">>>>>> iteration 14:F\""
      ]
     },
     "metadata": {},
     "output_type": "display_data"
    },
    {
     "data": {
      "text/plain": [
       "\" DB: opt gap = 0.014015763222294305\""
      ]
     },
     "metadata": {},
     "output_type": "display_data"
    },
    {
     "data": {
      "text/plain": [
       "\">>>>>> iteration 15:O\""
      ]
     },
     "metadata": {},
     "output_type": "display_data"
    },
    {
     "data": {
      "text/plain": [
       "\" DB: opt gap = 0.013945847665216584\""
      ]
     },
     "metadata": {},
     "output_type": "display_data"
    },
    {
     "data": {
      "text/plain": [
       "\">>>>>> iteration 16:O\""
      ]
     },
     "metadata": {},
     "output_type": "display_data"
    },
    {
     "data": {
      "text/plain": [
       "\" DB: opt gap = 0.013939115064442587\""
      ]
     },
     "metadata": {},
     "output_type": "display_data"
    },
    {
     "data": {
      "text/plain": [
       "\">>>>>> iteration 17:O\""
      ]
     },
     "metadata": {},
     "output_type": "display_data"
    },
    {
     "data": {
      "text/plain": [
       "\" DB: opt gap = 0.01317547354239571\""
      ]
     },
     "metadata": {},
     "output_type": "display_data"
    },
    {
     "data": {
      "text/plain": [
       "\">>>>>> iteration 18:O\""
      ]
     },
     "metadata": {},
     "output_type": "display_data"
    },
    {
     "data": {
      "text/plain": [
       "\" DB: opt gap = 0.01315903060472259\""
      ]
     },
     "metadata": {},
     "output_type": "display_data"
    },
    {
     "data": {
      "text/plain": [
       "\">>>>>> iteration 19:O\""
      ]
     },
     "metadata": {},
     "output_type": "display_data"
    },
    {
     "data": {
      "text/plain": [
       "\" DB: opt gap = 0.012967984833289118\""
      ]
     },
     "metadata": {},
     "output_type": "display_data"
    },
    {
     "data": {
      "text/plain": [
       "\">>>>>> iteration 20:O\""
      ]
     },
     "metadata": {},
     "output_type": "display_data"
    },
    {
     "data": {
      "text/plain": [
       "\" DB: opt gap = 0.012963791718237501\""
      ]
     },
     "metadata": {},
     "output_type": "display_data"
    },
    {
     "data": {
      "text/plain": [
       "\">>>>>> iteration 21:O\""
      ]
     },
     "metadata": {},
     "output_type": "display_data"
    },
    {
     "data": {
      "text/plain": [
       "\" DB: opt gap = 0.012921269879093839\""
      ]
     },
     "metadata": {},
     "output_type": "display_data"
    },
    {
     "data": {
      "text/plain": [
       "\">>>>>> iteration 22:O\""
      ]
     },
     "metadata": {},
     "output_type": "display_data"
    },
    {
     "data": {
      "text/plain": [
       "\" DB: opt gap = 0.01291708575175371\""
      ]
     },
     "metadata": {},
     "output_type": "display_data"
    },
    {
     "data": {
      "text/plain": [
       "\">>>>>> iteration 23:O\""
      ]
     },
     "metadata": {},
     "output_type": "display_data"
    },
    {
     "data": {
      "text/plain": [
       "\" DB: opt gap = 1.0904642044408822e-5\""
      ]
     },
     "metadata": {},
     "output_type": "display_data"
    },
    {
     "data": {
      "text/plain": [
       "\"time M 0.08500003814697266 | time D 2.69599986076355\""
      ]
     },
     "metadata": {},
     "output_type": "display_data"
    },
    {
     "data": {
      "text/plain": [
       "\"evaluating 3 scenarios| option 3\""
      ]
     },
     "metadata": {},
     "output_type": "display_data"
    },
    {
     "data": {
      "text/plain": [
       "\" DB: opt gap = 1.0304741512520177\""
      ]
     },
     "metadata": {},
     "output_type": "display_data"
    },
    {
     "data": {
      "text/plain": [
       "\">>>>>> iteration 1:O\""
      ]
     },
     "metadata": {},
     "output_type": "display_data"
    },
    {
     "data": {
      "text/plain": [
       "\" DB: opt gap = 0.9509866997662959\""
      ]
     },
     "metadata": {},
     "output_type": "display_data"
    },
    {
     "data": {
      "text/plain": [
       "\">>>>>> iteration 2:O\""
      ]
     },
     "metadata": {},
     "output_type": "display_data"
    },
    {
     "data": {
      "text/plain": [
       "\" DB: opt gap = 0.9453859989115283\""
      ]
     },
     "metadata": {},
     "output_type": "display_data"
    },
    {
     "data": {
      "text/plain": [
       "\">>>>>> iteration 3:O\""
      ]
     },
     "metadata": {},
     "output_type": "display_data"
    },
    {
     "data": {
      "text/plain": [
       "\" DB: opt gap = 0.8517361911363758\""
      ]
     },
     "metadata": {},
     "output_type": "display_data"
    },
    {
     "data": {
      "text/plain": [
       "\">>>>>> iteration 4:O\""
      ]
     },
     "metadata": {},
     "output_type": "display_data"
    },
    {
     "data": {
      "text/plain": [
       "\" DB: opt gap = 0.9264701586886825\""
      ]
     },
     "metadata": {},
     "output_type": "display_data"
    },
    {
     "data": {
      "text/plain": [
       "\">>>>>> iteration 5:O\""
      ]
     },
     "metadata": {},
     "output_type": "display_data"
    },
    {
     "data": {
      "text/plain": [
       "\" DB: opt gap = 0.9439677316368538\""
      ]
     },
     "metadata": {},
     "output_type": "display_data"
    },
    {
     "data": {
      "text/plain": [
       "\">>>>>> iteration 6:O\""
      ]
     },
     "metadata": {},
     "output_type": "display_data"
    },
    {
     "data": {
      "text/plain": [
       "\" DB: opt gap = 0.9903598720816391\""
      ]
     },
     "metadata": {},
     "output_type": "display_data"
    },
    {
     "data": {
      "text/plain": [
       "\">>>>>> iteration 7:O\""
      ]
     },
     "metadata": {},
     "output_type": "display_data"
    },
    {
     "data": {
      "text/plain": [
       "\" DB: opt gap = 0.9184660217229971\""
      ]
     },
     "metadata": {},
     "output_type": "display_data"
    },
    {
     "data": {
      "text/plain": [
       "\">>>>>> iteration 8:O\""
      ]
     },
     "metadata": {},
     "output_type": "display_data"
    },
    {
     "data": {
      "text/plain": [
       "\" DB: opt gap = 0.9129966570003195\""
      ]
     },
     "metadata": {},
     "output_type": "display_data"
    },
    {
     "data": {
      "text/plain": [
       "\">>>>>> iteration 9:O\""
      ]
     },
     "metadata": {},
     "output_type": "display_data"
    },
    {
     "data": {
      "text/plain": [
       "\" DB: opt gap = 0.8555421962801244\""
      ]
     },
     "metadata": {},
     "output_type": "display_data"
    },
    {
     "data": {
      "text/plain": [
       "\">>>>>> iteration 10:O\""
      ]
     },
     "metadata": {},
     "output_type": "display_data"
    },
    {
     "data": {
      "text/plain": [
       "\" DB: opt gap = 0.0024978264553687686\""
      ]
     },
     "metadata": {},
     "output_type": "display_data"
    },
    {
     "data": {
      "text/plain": [
       "\">>>>>> iteration 11:O\""
      ]
     },
     "metadata": {},
     "output_type": "display_data"
    },
    {
     "data": {
      "text/plain": [
       "\" DB: opt gap = 0.00249659621195884\""
      ]
     },
     "metadata": {},
     "output_type": "display_data"
    },
    {
     "data": {
      "text/plain": [
       "\">>>>>> iteration 12:O\""
      ]
     },
     "metadata": {},
     "output_type": "display_data"
    },
    {
     "data": {
      "text/plain": [
       "\" DB: opt gap = 0.0024937351333077866\""
      ]
     },
     "metadata": {},
     "output_type": "display_data"
    },
    {
     "data": {
      "text/plain": [
       "\">>>>>> iteration 13:O\""
      ]
     },
     "metadata": {},
     "output_type": "display_data"
    },
    {
     "data": {
      "text/plain": [
       "\" DB: opt gap = 0.002492766928061649\""
      ]
     },
     "metadata": {},
     "output_type": "display_data"
    },
    {
     "data": {
      "text/plain": [
       "\">>>>>> iteration 14:O\""
      ]
     },
     "metadata": {},
     "output_type": "display_data"
    },
    {
     "data": {
      "text/plain": [
       "\">>>>>> iteration 15:F\""
      ]
     },
     "metadata": {},
     "output_type": "display_data"
    },
    {
     "data": {
      "text/plain": [
       "\" DB: opt gap = 0.0024895225897166883\""
      ]
     },
     "metadata": {},
     "output_type": "display_data"
    },
    {
     "data": {
      "text/plain": [
       "\">>>>>> iteration 16:O\""
      ]
     },
     "metadata": {},
     "output_type": "display_data"
    },
    {
     "data": {
      "text/plain": [
       "\" DB: opt gap = 0.0024866264255601705\""
      ]
     },
     "metadata": {},
     "output_type": "display_data"
    },
    {
     "data": {
      "text/plain": [
       "\">>>>>> iteration 17:O\""
      ]
     },
     "metadata": {},
     "output_type": "display_data"
    },
    {
     "data": {
      "text/plain": [
       "\" DB: opt gap = 0.0024676800443617043\""
      ]
     },
     "metadata": {},
     "output_type": "display_data"
    },
    {
     "data": {
      "text/plain": [
       "\">>>>>> iteration 18:O\""
      ]
     },
     "metadata": {},
     "output_type": "display_data"
    },
    {
     "data": {
      "text/plain": [
       "\" DB: opt gap = 0.0024667437445361146\""
      ]
     },
     "metadata": {},
     "output_type": "display_data"
    },
    {
     "data": {
      "text/plain": [
       "\">>>>>> iteration 19:O\""
      ]
     },
     "metadata": {},
     "output_type": "display_data"
    },
    {
     "data": {
      "text/plain": [
       "\" DB: opt gap = 0.0024640390995170586\""
      ]
     },
     "metadata": {},
     "output_type": "display_data"
    },
    {
     "data": {
      "text/plain": [
       "\">>>>>> iteration 20:O\""
      ]
     },
     "metadata": {},
     "output_type": "display_data"
    },
    {
     "data": {
      "text/plain": [
       "\" DB: opt gap = 0.002447122713815197\""
      ]
     },
     "metadata": {},
     "output_type": "display_data"
    },
    {
     "data": {
      "text/plain": [
       "\">>>>>> iteration 21:O\""
      ]
     },
     "metadata": {},
     "output_type": "display_data"
    },
    {
     "data": {
      "text/plain": [
       "\" DB: opt gap = 0.0024442544412955946\""
      ]
     },
     "metadata": {},
     "output_type": "display_data"
    },
    {
     "data": {
      "text/plain": [
       "\">>>>>> iteration 22:O\""
      ]
     },
     "metadata": {},
     "output_type": "display_data"
    },
    {
     "data": {
      "text/plain": [
       "\" DB: opt gap = 0.002437082383379292\""
      ]
     },
     "metadata": {},
     "output_type": "display_data"
    },
    {
     "data": {
      "text/plain": [
       "\">>>>>> iteration 23:O\""
      ]
     },
     "metadata": {},
     "output_type": "display_data"
    },
    {
     "data": {
      "text/plain": [
       "\" DB: opt gap = 1.8159782408467214e-6\""
      ]
     },
     "metadata": {},
     "output_type": "display_data"
    },
    {
     "data": {
      "text/plain": [
       "\"time M 0.1380000114440918 | time D 3.8319995403289795\""
      ]
     },
     "metadata": {},
     "output_type": "display_data"
    },
    {
     "data": {
      "text/plain": [
       "\"evaluating 4 scenarios| option 3\""
      ]
     },
     "metadata": {},
     "output_type": "display_data"
    },
    {
     "data": {
      "text/plain": [
       "\" DB: opt gap = 1.0298098588526279\""
      ]
     },
     "metadata": {},
     "output_type": "display_data"
    },
    {
     "data": {
      "text/plain": [
       "\">>>>>> iteration 1:O\""
      ]
     },
     "metadata": {},
     "output_type": "display_data"
    },
    {
     "data": {
      "text/plain": [
       "\" DB: opt gap = 0.9615146991742004\""
      ]
     },
     "metadata": {},
     "output_type": "display_data"
    },
    {
     "data": {
      "text/plain": [
       "\">>>>>> iteration 2:O\""
      ]
     },
     "metadata": {},
     "output_type": "display_data"
    },
    {
     "data": {
      "text/plain": [
       "\" DB: opt gap = 0.9688246962895667\""
      ]
     },
     "metadata": {},
     "output_type": "display_data"
    },
    {
     "data": {
      "text/plain": [
       "\">>>>>> iteration 3:O\""
      ]
     },
     "metadata": {},
     "output_type": "display_data"
    },
    {
     "data": {
      "text/plain": [
       "\" DB: opt gap = 0.8684139197872455\""
      ]
     },
     "metadata": {},
     "output_type": "display_data"
    },
    {
     "data": {
      "text/plain": [
       "\">>>>>> iteration 4:O\""
      ]
     },
     "metadata": {},
     "output_type": "display_data"
    },
    {
     "data": {
      "text/plain": [
       "\" DB: opt gap = 0.9581061684089454\""
      ]
     },
     "metadata": {},
     "output_type": "display_data"
    },
    {
     "data": {
      "text/plain": [
       "\">>>>>> iteration 5:O\""
      ]
     },
     "metadata": {},
     "output_type": "display_data"
    },
    {
     "data": {
      "text/plain": [
       "\" DB: opt gap = 0.9937645979366582\""
      ]
     },
     "metadata": {},
     "output_type": "display_data"
    },
    {
     "data": {
      "text/plain": [
       "\">>>>>> iteration 6:O\""
      ]
     },
     "metadata": {},
     "output_type": "display_data"
    },
    {
     "data": {
      "text/plain": [
       "\" DB: opt gap = 0.8508571360238055\""
      ]
     },
     "metadata": {},
     "output_type": "display_data"
    },
    {
     "data": {
      "text/plain": [
       "\">>>>>> iteration 7:O\""
      ]
     },
     "metadata": {},
     "output_type": "display_data"
    },
    {
     "data": {
      "text/plain": [
       "\" DB: opt gap = 0.8695138386258892\""
      ]
     },
     "metadata": {},
     "output_type": "display_data"
    },
    {
     "data": {
      "text/plain": [
       "\">>>>>> iteration 8:O\""
      ]
     },
     "metadata": {},
     "output_type": "display_data"
    },
    {
     "data": {
      "text/plain": [
       "\" DB: opt gap = 0.8135967599864296\""
      ]
     },
     "metadata": {},
     "output_type": "display_data"
    },
    {
     "data": {
      "text/plain": [
       "\">>>>>> iteration 9:O\""
      ]
     },
     "metadata": {},
     "output_type": "display_data"
    },
    {
     "data": {
      "text/plain": [
       "\" DB: opt gap = 0.9157984299881649\""
      ]
     },
     "metadata": {},
     "output_type": "display_data"
    },
    {
     "data": {
      "text/plain": [
       "\">>>>>> iteration 10:O\""
      ]
     },
     "metadata": {},
     "output_type": "display_data"
    },
    {
     "data": {
      "text/plain": [
       "\" DB: opt gap = 0.005724899326619969\""
      ]
     },
     "metadata": {},
     "output_type": "display_data"
    },
    {
     "data": {
      "text/plain": [
       "\">>>>>> iteration 11:O\""
      ]
     },
     "metadata": {},
     "output_type": "display_data"
    },
    {
     "data": {
      "text/plain": [
       "\" DB: opt gap = 0.005714565194768434\""
      ]
     },
     "metadata": {},
     "output_type": "display_data"
    },
    {
     "data": {
      "text/plain": [
       "\">>>>>> iteration 12:O\""
      ]
     },
     "metadata": {},
     "output_type": "display_data"
    },
    {
     "data": {
      "text/plain": [
       "\">>>>>> iteration 13:F\""
      ]
     },
     "metadata": {},
     "output_type": "display_data"
    },
    {
     "data": {
      "text/plain": [
       "\" DB: opt gap = 0.005702475641081268\""
      ]
     },
     "metadata": {},
     "output_type": "display_data"
    },
    {
     "data": {
      "text/plain": [
       "\">>>>>> iteration 14:O\""
      ]
     },
     "metadata": {},
     "output_type": "display_data"
    },
    {
     "data": {
      "text/plain": [
       "\" DB: opt gap = 0.005692175511860507\""
      ]
     },
     "metadata": {},
     "output_type": "display_data"
    },
    {
     "data": {
      "text/plain": [
       "\">>>>>> iteration 15:O\""
      ]
     },
     "metadata": {},
     "output_type": "display_data"
    },
    {
     "data": {
      "text/plain": [
       "\" DB: opt gap = 0.005664545158279542\""
      ]
     },
     "metadata": {},
     "output_type": "display_data"
    },
    {
     "data": {
      "text/plain": [
       "\">>>>>> iteration 16:O\""
      ]
     },
     "metadata": {},
     "output_type": "display_data"
    },
    {
     "data": {
      "text/plain": [
       "\" DB: opt gap = 0.0056608451417929015\""
      ]
     },
     "metadata": {},
     "output_type": "display_data"
    },
    {
     "data": {
      "text/plain": [
       "\">>>>>> iteration 17:O\""
      ]
     },
     "metadata": {},
     "output_type": "display_data"
    },
    {
     "data": {
      "text/plain": [
       "\" DB: opt gap = 0.005630313537179626\""
      ]
     },
     "metadata": {},
     "output_type": "display_data"
    },
    {
     "data": {
      "text/plain": [
       "\">>>>>> iteration 18:O\""
      ]
     },
     "metadata": {},
     "output_type": "display_data"
    },
    {
     "data": {
      "text/plain": [
       "\" DB: opt gap = 0.005626697777464023\""
      ]
     },
     "metadata": {},
     "output_type": "display_data"
    },
    {
     "data": {
      "text/plain": [
       "\">>>>>> iteration 19:O\""
      ]
     },
     "metadata": {},
     "output_type": "display_data"
    },
    {
     "data": {
      "text/plain": [
       "\" DB: opt gap = 1.35899741849498e-6\""
      ]
     },
     "metadata": {},
     "output_type": "display_data"
    },
    {
     "data": {
      "text/plain": [
       "\"time M 0.16299986839294434 | time D 4.319002151489258\""
      ]
     },
     "metadata": {},
     "output_type": "display_data"
    },
    {
     "data": {
      "text/plain": [
       "\"evaluating 5 scenarios| option 3\""
      ]
     },
     "metadata": {},
     "output_type": "display_data"
    },
    {
     "data": {
      "text/plain": [
       "\" DB: opt gap = 1.0297542483202677\""
      ]
     },
     "metadata": {},
     "output_type": "display_data"
    },
    {
     "data": {
      "text/plain": [
       "\">>>>>> iteration 1:O\""
      ]
     },
     "metadata": {},
     "output_type": "display_data"
    },
    {
     "data": {
      "text/plain": [
       "\" DB: opt gap = 0.9381775974437403\""
      ]
     },
     "metadata": {},
     "output_type": "display_data"
    },
    {
     "data": {
      "text/plain": [
       "\">>>>>> iteration 2:O\""
      ]
     },
     "metadata": {},
     "output_type": "display_data"
    },
    {
     "data": {
      "text/plain": [
       "\" DB: opt gap = 0.9556319900806334\""
      ]
     },
     "metadata": {},
     "output_type": "display_data"
    },
    {
     "data": {
      "text/plain": [
       "\">>>>>> iteration 3:O\""
      ]
     },
     "metadata": {},
     "output_type": "display_data"
    },
    {
     "data": {
      "text/plain": [
       "\" DB: opt gap = 0.9938192387114239\""
      ]
     },
     "metadata": {},
     "output_type": "display_data"
    },
    {
     "data": {
      "text/plain": [
       "\">>>>>> iteration 4:O\""
      ]
     },
     "metadata": {},
     "output_type": "display_data"
    },
    {
     "data": {
      "text/plain": [
       "\" DB: opt gap = 1.0182410163453164\""
      ]
     },
     "metadata": {},
     "output_type": "display_data"
    },
    {
     "data": {
      "text/plain": [
       "\">>>>>> iteration 5:O\""
      ]
     },
     "metadata": {},
     "output_type": "display_data"
    },
    {
     "data": {
      "text/plain": [
       "\" DB: opt gap = 0.9597052697789237\""
      ]
     },
     "metadata": {},
     "output_type": "display_data"
    },
    {
     "data": {
      "text/plain": [
       "\">>>>>> iteration 6:O\""
      ]
     },
     "metadata": {},
     "output_type": "display_data"
    },
    {
     "data": {
      "text/plain": [
       "\" DB: opt gap = 0.8615932638737589\""
      ]
     },
     "metadata": {},
     "output_type": "display_data"
    },
    {
     "data": {
      "text/plain": [
       "\">>>>>> iteration 7:O\""
      ]
     },
     "metadata": {},
     "output_type": "display_data"
    },
    {
     "data": {
      "text/plain": [
       "\" DB: opt gap = 0.0019192601548010256\""
      ]
     },
     "metadata": {},
     "output_type": "display_data"
    },
    {
     "data": {
      "text/plain": [
       "\">>>>>> iteration 8:O\""
      ]
     },
     "metadata": {},
     "output_type": "display_data"
    },
    {
     "data": {
      "text/plain": [
       "\" DB: opt gap = 0.0019185108690282257\""
      ]
     },
     "metadata": {},
     "output_type": "display_data"
    },
    {
     "data": {
      "text/plain": [
       "\">>>>>> iteration 9:O\""
      ]
     },
     "metadata": {},
     "output_type": "display_data"
    },
    {
     "data": {
      "text/plain": [
       "\" DB: opt gap = 0.0019170782361818586\""
      ]
     },
     "metadata": {},
     "output_type": "display_data"
    },
    {
     "data": {
      "text/plain": [
       "\">>>>>> iteration 10:O\""
      ]
     },
     "metadata": {},
     "output_type": "display_data"
    },
    {
     "data": {
      "text/plain": [
       "\" DB: opt gap = 0.0019165675907168867\""
      ]
     },
     "metadata": {},
     "output_type": "display_data"
    },
    {
     "data": {
      "text/plain": [
       "\">>>>>> iteration 11:O\""
      ]
     },
     "metadata": {},
     "output_type": "display_data"
    },
    {
     "data": {
      "text/plain": [
       "\">>>>>> iteration 12:F\""
      ]
     },
     "metadata": {},
     "output_type": "display_data"
    },
    {
     "data": {
      "text/plain": [
       "\" DB: opt gap = 0.001914913092465191\""
      ]
     },
     "metadata": {},
     "output_type": "display_data"
    },
    {
     "data": {
      "text/plain": [
       "\">>>>>> iteration 13:O\""
      ]
     },
     "metadata": {},
     "output_type": "display_data"
    },
    {
     "data": {
      "text/plain": [
       "\" DB: opt gap = 0.0019129103417227413\""
      ]
     },
     "metadata": {},
     "output_type": "display_data"
    },
    {
     "data": {
      "text/plain": [
       "\">>>>>> iteration 14:O\""
      ]
     },
     "metadata": {},
     "output_type": "display_data"
    },
    {
     "data": {
      "text/plain": [
       "\">>>>>> iteration 15:F\""
      ]
     },
     "metadata": {},
     "output_type": "display_data"
    },
    {
     "data": {
      "text/plain": [
       "\">>>>>> iteration 16:F\""
      ]
     },
     "metadata": {},
     "output_type": "display_data"
    },
    {
     "data": {
      "text/plain": [
       "\">>>>>> iteration 17:F\""
      ]
     },
     "metadata": {},
     "output_type": "display_data"
    },
    {
     "data": {
      "text/plain": [
       "\">>>>>> iteration 18:F\""
      ]
     },
     "metadata": {},
     "output_type": "display_data"
    },
    {
     "data": {
      "text/plain": [
       "\">>>>>> iteration 19:F\""
      ]
     },
     "metadata": {},
     "output_type": "display_data"
    },
    {
     "data": {
      "text/plain": [
       "\">>>>>> iteration 20:F\""
      ]
     },
     "metadata": {},
     "output_type": "display_data"
    },
    {
     "data": {
      "text/plain": [
       "\">>>>>> iteration 21:F\""
      ]
     },
     "metadata": {},
     "output_type": "display_data"
    },
    {
     "data": {
      "text/plain": [
       "\">>>>>> iteration 22:F\""
      ]
     },
     "metadata": {},
     "output_type": "display_data"
    },
    {
     "data": {
      "text/plain": [
       "\">>>>>> iteration 23:F\""
      ]
     },
     "metadata": {},
     "output_type": "display_data"
    },
    {
     "data": {
      "text/plain": [
       "\">>>>>> iteration 24:F\""
      ]
     },
     "metadata": {},
     "output_type": "display_data"
    },
    {
     "data": {
      "text/plain": [
       "\">>>>>> iteration 25:F\""
      ]
     },
     "metadata": {},
     "output_type": "display_data"
    },
    {
     "data": {
      "text/plain": [
       "\">>>>>> iteration 26:F\""
      ]
     },
     "metadata": {},
     "output_type": "display_data"
    },
    {
     "data": {
      "text/plain": [
       "\">>>>>> iteration 27:F\""
      ]
     },
     "metadata": {},
     "output_type": "display_data"
    },
    {
     "data": {
      "text/plain": [
       "\">>>>>> iteration 28:F\""
      ]
     },
     "metadata": {},
     "output_type": "display_data"
    },
    {
     "data": {
      "text/plain": [
       "\">>>>>> iteration 29:F\""
      ]
     },
     "metadata": {},
     "output_type": "display_data"
    },
    {
     "data": {
      "text/plain": [
       "\">>>>>> iteration 30:F\""
      ]
     },
     "metadata": {},
     "output_type": "display_data"
    },
    {
     "data": {
      "text/plain": [
       "\">>>>>> iteration 31:F\""
      ]
     },
     "metadata": {},
     "output_type": "display_data"
    },
    {
     "data": {
      "text/plain": [
       "\">>>>>> iteration 32:F\""
      ]
     },
     "metadata": {},
     "output_type": "display_data"
    },
    {
     "data": {
      "text/plain": [
       "\">>>>>> iteration 33:F\""
      ]
     },
     "metadata": {},
     "output_type": "display_data"
    },
    {
     "data": {
      "text/plain": [
       "\">>>>>> iteration 34:F\""
      ]
     },
     "metadata": {},
     "output_type": "display_data"
    },
    {
     "data": {
      "text/plain": [
       "\">>>>>> iteration 35:F\""
      ]
     },
     "metadata": {},
     "output_type": "display_data"
    },
    {
     "data": {
      "text/plain": [
       "\">>>>>> iteration 36:F\""
      ]
     },
     "metadata": {},
     "output_type": "display_data"
    },
    {
     "data": {
      "text/plain": [
       "\">>>>>> iteration 37:F\""
      ]
     },
     "metadata": {},
     "output_type": "display_data"
    },
    {
     "data": {
      "text/plain": [
       "\">>>>>> iteration 38:F\""
      ]
     },
     "metadata": {},
     "output_type": "display_data"
    },
    {
     "data": {
      "text/plain": [
       "\">>>>>> iteration 39:F\""
      ]
     },
     "metadata": {},
     "output_type": "display_data"
    },
    {
     "data": {
      "text/plain": [
       "\">>>>>> iteration 40:F\""
      ]
     },
     "metadata": {},
     "output_type": "display_data"
    },
    {
     "data": {
      "text/plain": [
       "\">>>>>> iteration 41:F\""
      ]
     },
     "metadata": {},
     "output_type": "display_data"
    },
    {
     "data": {
      "text/plain": [
       "\">>>>>> iteration 42:F\""
      ]
     },
     "metadata": {},
     "output_type": "display_data"
    },
    {
     "data": {
      "text/plain": [
       "\">>>>>> iteration 43:F\""
      ]
     },
     "metadata": {},
     "output_type": "display_data"
    },
    {
     "data": {
      "text/plain": [
       "\">>>>>> iteration 44:F\""
      ]
     },
     "metadata": {},
     "output_type": "display_data"
    },
    {
     "data": {
      "text/plain": [
       "\">>>>>> iteration 45:F\""
      ]
     },
     "metadata": {},
     "output_type": "display_data"
    },
    {
     "data": {
      "text/plain": [
       "\">>>>>> iteration 46:F\""
      ]
     },
     "metadata": {},
     "output_type": "display_data"
    },
    {
     "data": {
      "text/plain": [
       "\">>>>>> iteration 47:F\""
      ]
     },
     "metadata": {},
     "output_type": "display_data"
    },
    {
     "data": {
      "text/plain": [
       "\">>>>>> iteration 48:F\""
      ]
     },
     "metadata": {},
     "output_type": "display_data"
    },
    {
     "data": {
      "text/plain": [
       "\">>>>>> iteration 49:F\""
      ]
     },
     "metadata": {},
     "output_type": "display_data"
    },
    {
     "data": {
      "text/plain": [
       "\">>>>>> iteration 50:F\""
      ]
     },
     "metadata": {},
     "output_type": "display_data"
    },
    {
     "ename": "LoadError",
     "evalue": "Expression contains an invalid NaN constant. This could be produced by `Inf - Inf`.",
     "output_type": "error",
     "traceback": [
      "Expression contains an invalid NaN constant. This could be produced by `Inf - Inf`.",
      "",
      "Stacktrace:",
      "  [1] error(s::String)",
      "    @ Base .\\error.jl:35",
      "  [2] _assert_isfinite(a::AffExpr)",
      "    @ JuMP C:\\Users\\MACC-Jose\\.julia\\packages\\JuMP\\yYfHy\\src\\aff_expr.jl:577",
      "  [3] MathOptInterface.ScalarAffineFunction(a::AffExpr)",
      "    @ JuMP C:\\Users\\MACC-Jose\\.julia\\packages\\JuMP\\yYfHy\\src\\aff_expr.jl:610",
      "  [4] moi_function",
      "    @ C:\\Users\\MACC-Jose\\.julia\\packages\\JuMP\\yYfHy\\src\\aff_expr.jl:653 [inlined]",
      "  [5] moi_function",
      "    @ C:\\Users\\MACC-Jose\\.julia\\packages\\JuMP\\yYfHy\\src\\constraints.jl:523 [inlined]",
      "  [6] add_constraint(model::Model, con::ScalarConstraint{AffExpr, MathOptInterface.EqualTo{Float64}}, name::String)",
      "    @ JuMP C:\\Users\\MACC-Jose\\.julia\\packages\\JuMP\\yYfHy\\src\\constraints.jl:670",
      "  [7] macro expansion",
      "    @ C:\\Users\\MACC-Jose\\.julia\\packages\\JuMP\\yYfHy\\src\\macros.jl:833 [inlined]",
      "  [8] (::var\"#153#215\"{Vector{Float64}, Vector{VariableRef}})(kk::Int64)",
      "    @ Main C:\\Users\\MACC-Jose\\.julia\\packages\\JuMP\\yYfHy\\src\\Containers\\macro.jl:302",
      "  [9] #44",
      "    @ C:\\Users\\MACC-Jose\\.julia\\packages\\JuMP\\yYfHy\\src\\Containers\\container.jl:81 [inlined]",
      " [10] iterate",
      "    @ .\\generator.jl:47 [inlined]",
      " [11] collect(itr::Base.Generator{JuMP.Containers.VectorizedProductIterator{Tuple{Base.OneTo{Int64}}}, JuMP.Containers.var\"#44#45\"{var\"#153#215\"{Vector{Float64}, Vector{VariableRef}}}})",
      "    @ Base .\\array.jl:787",
      " [12] map(f::Function, A::JuMP.Containers.VectorizedProductIterator{Tuple{Base.OneTo{Int64}}})",
      "    @ Base .\\abstractarray.jl:2961",
      " [13] container",
      "    @ C:\\Users\\MACC-Jose\\.julia\\packages\\JuMP\\yYfHy\\src\\Containers\\container.jl:81 [inlined]",
      " [14] container(f::Function, indices::JuMP.Containers.VectorizedProductIterator{Tuple{Base.OneTo{Int64}}})",
      "    @ JuMP.Containers C:\\Users\\MACC-Jose\\.julia\\packages\\JuMP\\yYfHy\\src\\Containers\\container.jl:75",
      " [15] macro expansion",
      "    @ C:\\Users\\MACC-Jose\\.julia\\packages\\JuMP\\yYfHy\\src\\macros.jl:136 [inlined]",
      " [16] subp(xInit::Matrix{Float64}, uInit::Float64, ysp_fixed::Vector{Float64}, nReac::Int64, nScen::Int64, pScen::Float64, solNom::Dict{Char, Any}, option::Int64)",
      "    @ Main .\\In[11]:112",
      " [17] (::var\"#259#264\"{Matrix{Float64}, Float64, Int64, Float64, Dict{Char, Any}, Int64})(ss::Int64)",
      "    @ Main .\\none:0",
      " [18] iterate",
      "    @ .\\generator.jl:47 [inlined]",
      " [19] collect(itr::Base.Generator{UnitRange{Int64}, var\"#259#264\"{Matrix{Float64}, Float64, Int64, Float64, Dict{Char, Any}, Int64}})",
      "    @ Base .\\array.jl:787",
      " [20] BENS_CLDRTO(xInit::Matrix{Float64}, uInit::Float64, nReac::Int64, nScen::Int64, pScen::Float64, solNom::Dict{Char, Any}, option::Int64)",
      "    @ Main .\\In[13]:165",
      " [21] top-level scope",
      "    @ .\\In[14]:56"
     ]
    }
   ],
   "source": [
    "# testing the number of scenarios\n",
    "nScenMax = 30 # 30\n",
    "\n",
    "#preparing plot \n",
    "# --> monolithic vs. decomposed \n",
    "# solution time\n",
    "solTimeTraj_s = Matrix{Float64}(undef,2,nScenMax) \n",
    "# computed objective function\n",
    "solObjTraj_s = Matrix{Float64}(undef,2,nScenMax) \n",
    "# --> only decomposed\n",
    "# max solution time over all scenarios \n",
    "solTimeMaxTraj_s = Vector{Float64}(undef,nScenMax) \n",
    "# number of iterations\n",
    "iterTraj_s = Vector{Float64}(undef,nScenMax) \n",
    "# optimality gap\n",
    "optGapTraj_s = Vector{Float64}(undef,nScenMax) \n",
    "\n",
    "# number of reactors in parallel\n",
    "nReactors = 1\n",
    "# Number of states\n",
    "nx = 2*nReactors\n",
    "\n",
    "# Initial conditions (deviation form)\n",
    "xInit_0 = repeat([0.3583;0.6418] .- x0, outer = [nReactors,1])\n",
    "uInit_0 = 1.0 - u0;\n",
    "\n",
    "#option = 1 --> Unconstrained MPC\n",
    "#option = 2 --> Constrained MPC with binaries --> DOES NOT WORK YET!\n",
    "#option = 3 --> Constrained MPC with MPCC\n",
    "opti = 3\n",
    "    \n",
    "# Computing nominal solution #\n",
    "#number of scenarios \n",
    "scenNom = 1\n",
    "#equiprobable scenarios\n",
    "pNom = 1.0\n",
    "#number of reactors \n",
    "reacNom = 1\n",
    "# number of states of the nominal solution\n",
    "nx = 2*reacNom\n",
    "\n",
    "solNominal = MS_CLDRTO(x0,u0,reacNom,scenNom,pNom,0,opti); \n",
    "\n",
    "for ss = 1:nScenMax\n",
    "    display(\"evaluating $(ss) scenarios| option $(opti)\")\n",
    "\n",
    "    #number os scenarios\n",
    "    nScen = ss\n",
    "    #equiprobable scenarios\n",
    "    pScen = 1.0/nScen\n",
    "       \n",
    "    # solving monolithical problem \n",
    "    sol_m_Dict = MS_CLDRTO(xInit_0,uInit_0,nReactors,nScen,pScen,solNominal,opti)\n",
    "\n",
    "    # solving decomposed problem\n",
    "    sol_d_Dict = BENS_CLDRTO(xInit_0,uInit_0,nReactors,nScen,pScen,solNominal,opti)\n",
    "    \n",
    "    # for plotting\n",
    "    display(\"time M $(sol_m_Dict['t']) | time D $(sol_d_Dict['t'])\")\n",
    "    solTimeTraj_s[1,ss] = sol_m_Dict['t']\n",
    "    solTimeTraj_s[2,ss] = sol_d_Dict['t']\n",
    "    solObjTraj_s[1,ss] = sol_m_Dict['ϕ']\n",
    "    solObjTraj_s[2,ss] = sol_d_Dict['ϕ']\n",
    "    \n",
    "    solTimeMaxTraj_s[ss] = sol_d_Dict['m']\n",
    "    iterTraj_s[ss] = sol_d_Dict['i'] \n",
    "    optGapTraj_s[ss] = sol_d_Dict['g']\n",
    "end\n"
   ]
  },
  {
   "cell_type": "code",
   "execution_count": 15,
   "id": "06275755",
   "metadata": {},
   "outputs": [
    {
     "data": {
      "image/svg+xml": [
       "<?xml version=\"1.0\" encoding=\"utf-8\"?>\n",
       "<svg xmlns=\"http://www.w3.org/2000/svg\" xmlns:xlink=\"http://www.w3.org/1999/xlink\" width=\"600\" height=\"400\" viewBox=\"0 0 2400 1600\">\n",
       "<defs>\n",
       "  <clipPath id=\"clip680\">\n",
       "    <rect x=\"0\" y=\"0\" width=\"2400\" height=\"1600\"/>\n",
       "  </clipPath>\n",
       "</defs>\n",
       "<path clip-path=\"url(#clip680)\" d=\"M0 1600 L2400 1600 L2400 0 L0 0  Z\" fill=\"#ffffff\" fill-rule=\"evenodd\" fill-opacity=\"1\"/>\n",
       "<defs>\n",
       "  <clipPath id=\"clip681\">\n",
       "    <rect x=\"480\" y=\"0\" width=\"1681\" height=\"1600\"/>\n",
       "  </clipPath>\n",
       "</defs>\n",
       "<path clip-path=\"url(#clip680)\" d=\"M175.445 1423.18 L2352.76 1423.18 L2352.76 47.2441 L175.445 47.2441  Z\" fill=\"#ffffff\" fill-rule=\"evenodd\" fill-opacity=\"1\"/>\n",
       "<defs>\n",
       "  <clipPath id=\"clip682\">\n",
       "    <rect x=\"175\" y=\"47\" width=\"2178\" height=\"1377\"/>\n",
       "  </clipPath>\n",
       "</defs>\n",
       "<polyline clip-path=\"url(#clip682)\" style=\"stroke:#000000; stroke-linecap:round; stroke-linejoin:round; stroke-width:8; stroke-opacity:0.1; fill:none\" points=\"520.387,1423.18 520.387,47.2441 \"/>\n",
       "<polyline clip-path=\"url(#clip682)\" style=\"stroke:#000000; stroke-linecap:round; stroke-linejoin:round; stroke-width:8; stroke-opacity:0.1; fill:none\" points=\"874.536,1423.18 874.536,47.2441 \"/>\n",
       "<polyline clip-path=\"url(#clip682)\" style=\"stroke:#000000; stroke-linecap:round; stroke-linejoin:round; stroke-width:8; stroke-opacity:0.1; fill:none\" points=\"1228.69,1423.18 1228.69,47.2441 \"/>\n",
       "<polyline clip-path=\"url(#clip682)\" style=\"stroke:#000000; stroke-linecap:round; stroke-linejoin:round; stroke-width:8; stroke-opacity:0.1; fill:none\" points=\"1582.84,1423.18 1582.84,47.2441 \"/>\n",
       "<polyline clip-path=\"url(#clip682)\" style=\"stroke:#000000; stroke-linecap:round; stroke-linejoin:round; stroke-width:8; stroke-opacity:0.1; fill:none\" points=\"1936.98,1423.18 1936.98,47.2441 \"/>\n",
       "<polyline clip-path=\"url(#clip682)\" style=\"stroke:#000000; stroke-linecap:round; stroke-linejoin:round; stroke-width:8; stroke-opacity:0.1; fill:none\" points=\"2291.13,1423.18 2291.13,47.2441 \"/>\n",
       "<polyline clip-path=\"url(#clip680)\" style=\"stroke:#000000; stroke-linecap:round; stroke-linejoin:round; stroke-width:4; stroke-opacity:1; fill:none\" points=\"175.445,1423.18 2352.76,1423.18 \"/>\n",
       "<polyline clip-path=\"url(#clip680)\" style=\"stroke:#000000; stroke-linecap:round; stroke-linejoin:round; stroke-width:4; stroke-opacity:1; fill:none\" points=\"520.387,1423.18 520.387,1404.28 \"/>\n",
       "<polyline clip-path=\"url(#clip680)\" style=\"stroke:#000000; stroke-linecap:round; stroke-linejoin:round; stroke-width:4; stroke-opacity:1; fill:none\" points=\"874.536,1423.18 874.536,1404.28 \"/>\n",
       "<polyline clip-path=\"url(#clip680)\" style=\"stroke:#000000; stroke-linecap:round; stroke-linejoin:round; stroke-width:4; stroke-opacity:1; fill:none\" points=\"1228.69,1423.18 1228.69,1404.28 \"/>\n",
       "<polyline clip-path=\"url(#clip680)\" style=\"stroke:#000000; stroke-linecap:round; stroke-linejoin:round; stroke-width:4; stroke-opacity:1; fill:none\" points=\"1582.84,1423.18 1582.84,1404.28 \"/>\n",
       "<polyline clip-path=\"url(#clip680)\" style=\"stroke:#000000; stroke-linecap:round; stroke-linejoin:round; stroke-width:4; stroke-opacity:1; fill:none\" points=\"1936.98,1423.18 1936.98,1404.28 \"/>\n",
       "<polyline clip-path=\"url(#clip680)\" style=\"stroke:#000000; stroke-linecap:round; stroke-linejoin:round; stroke-width:4; stroke-opacity:1; fill:none\" points=\"2291.13,1423.18 2291.13,1404.28 \"/>\n",
       "<path clip-path=\"url(#clip680)\" d=\"M510.665 1451.02 L529.021 1451.02 L529.021 1454.96 L514.947 1454.96 L514.947 1463.43 Q515.965 1463.08 516.984 1462.92 Q518.003 1462.73 519.021 1462.73 Q524.808 1462.73 528.188 1465.9 Q531.567 1469.08 531.567 1474.49 Q531.567 1480.07 528.095 1483.17 Q524.623 1486.25 518.303 1486.25 Q516.128 1486.25 513.859 1485.88 Q511.614 1485.51 509.206 1484.77 L509.206 1480.07 Q511.29 1481.2 513.512 1481.76 Q515.734 1482.32 518.211 1482.32 Q522.215 1482.32 524.553 1480.21 Q526.891 1478.1 526.891 1474.49 Q526.891 1470.88 524.553 1468.77 Q522.215 1466.67 518.211 1466.67 Q516.336 1466.67 514.461 1467.08 Q512.609 1467.5 510.665 1468.38 L510.665 1451.02 Z\" fill=\"#000000\" fill-rule=\"evenodd\" fill-opacity=\"1\" /><path clip-path=\"url(#clip680)\" d=\"M849.224 1481.64 L856.863 1481.64 L856.863 1455.28 L848.553 1456.95 L848.553 1452.69 L856.816 1451.02 L861.492 1451.02 L861.492 1481.64 L869.131 1481.64 L869.131 1485.58 L849.224 1485.58 L849.224 1481.64 Z\" fill=\"#000000\" fill-rule=\"evenodd\" fill-opacity=\"1\" /><path clip-path=\"url(#clip680)\" d=\"M888.575 1454.1 Q884.964 1454.1 883.136 1457.66 Q881.33 1461.2 881.33 1468.33 Q881.33 1475.44 883.136 1479.01 Q884.964 1482.55 888.575 1482.55 Q892.21 1482.55 894.015 1479.01 Q895.844 1475.44 895.844 1468.33 Q895.844 1461.2 894.015 1457.66 Q892.21 1454.1 888.575 1454.1 M888.575 1450.39 Q894.386 1450.39 897.441 1455 Q900.52 1459.58 900.52 1468.33 Q900.52 1477.06 897.441 1481.67 Q894.386 1486.25 888.575 1486.25 Q882.765 1486.25 879.687 1481.67 Q876.631 1477.06 876.631 1468.33 Q876.631 1459.58 879.687 1455 Q882.765 1450.39 888.575 1450.39 Z\" fill=\"#000000\" fill-rule=\"evenodd\" fill-opacity=\"1\" /><path clip-path=\"url(#clip680)\" d=\"M1203.87 1481.64 L1211.51 1481.64 L1211.51 1455.28 L1203.2 1456.95 L1203.2 1452.69 L1211.46 1451.02 L1216.14 1451.02 L1216.14 1481.64 L1223.78 1481.64 L1223.78 1485.58 L1203.87 1485.58 L1203.87 1481.64 Z\" fill=\"#000000\" fill-rule=\"evenodd\" fill-opacity=\"1\" /><path clip-path=\"url(#clip680)\" d=\"M1233.27 1451.02 L1251.63 1451.02 L1251.63 1454.96 L1237.55 1454.96 L1237.55 1463.43 Q1238.57 1463.08 1239.59 1462.92 Q1240.61 1462.73 1241.63 1462.73 Q1247.41 1462.73 1250.79 1465.9 Q1254.17 1469.08 1254.17 1474.49 Q1254.17 1480.07 1250.7 1483.17 Q1247.23 1486.25 1240.91 1486.25 Q1238.73 1486.25 1236.46 1485.88 Q1234.22 1485.51 1231.81 1484.77 L1231.81 1480.07 Q1233.89 1481.2 1236.12 1481.76 Q1238.34 1482.32 1240.82 1482.32 Q1244.82 1482.32 1247.16 1480.21 Q1249.5 1478.1 1249.5 1474.49 Q1249.5 1470.88 1247.16 1468.77 Q1244.82 1466.67 1240.82 1466.67 Q1238.94 1466.67 1237.07 1467.08 Q1235.21 1467.5 1233.27 1468.38 L1233.27 1451.02 Z\" fill=\"#000000\" fill-rule=\"evenodd\" fill-opacity=\"1\" /><path clip-path=\"url(#clip680)\" d=\"M1561.61 1481.64 L1577.93 1481.64 L1577.93 1485.58 L1555.98 1485.58 L1555.98 1481.64 Q1558.65 1478.89 1563.23 1474.26 Q1567.84 1469.61 1569.02 1468.27 Q1571.26 1465.74 1572.14 1464.01 Q1573.04 1462.25 1573.04 1460.56 Q1573.04 1457.8 1571.1 1456.07 Q1569.18 1454.33 1566.08 1454.33 Q1563.88 1454.33 1561.42 1455.09 Q1558.99 1455.86 1556.21 1457.41 L1556.21 1452.69 Q1559.04 1451.55 1561.49 1450.97 Q1563.95 1450.39 1565.98 1450.39 Q1571.35 1450.39 1574.55 1453.08 Q1577.74 1455.77 1577.74 1460.26 Q1577.74 1462.39 1576.93 1464.31 Q1576.15 1466.2 1574.04 1468.8 Q1573.46 1469.47 1570.36 1472.69 Q1567.26 1475.88 1561.61 1481.64 Z\" fill=\"#000000\" fill-rule=\"evenodd\" fill-opacity=\"1\" /><path clip-path=\"url(#clip680)\" d=\"M1597.74 1454.1 Q1594.13 1454.1 1592.3 1457.66 Q1590.5 1461.2 1590.5 1468.33 Q1590.5 1475.44 1592.3 1479.01 Q1594.13 1482.55 1597.74 1482.55 Q1601.38 1482.55 1603.18 1479.01 Q1605.01 1475.44 1605.01 1468.33 Q1605.01 1461.2 1603.18 1457.66 Q1601.38 1454.1 1597.74 1454.1 M1597.74 1450.39 Q1603.55 1450.39 1606.61 1455 Q1609.69 1459.58 1609.69 1468.33 Q1609.69 1477.06 1606.61 1481.67 Q1603.55 1486.25 1597.74 1486.25 Q1591.93 1486.25 1588.85 1481.67 Q1585.8 1477.06 1585.8 1468.33 Q1585.8 1459.58 1588.85 1455 Q1591.93 1450.39 1597.74 1450.39 Z\" fill=\"#000000\" fill-rule=\"evenodd\" fill-opacity=\"1\" /><path clip-path=\"url(#clip680)\" d=\"M1916.26 1481.64 L1932.57 1481.64 L1932.57 1485.58 L1910.63 1485.58 L1910.63 1481.64 Q1913.29 1478.89 1917.88 1474.26 Q1922.48 1469.61 1923.66 1468.27 Q1925.91 1465.74 1926.79 1464.01 Q1927.69 1462.25 1927.69 1460.56 Q1927.69 1457.8 1925.75 1456.07 Q1923.82 1454.33 1920.72 1454.33 Q1918.52 1454.33 1916.07 1455.09 Q1913.64 1455.86 1910.86 1457.41 L1910.86 1452.69 Q1913.69 1451.55 1916.14 1450.97 Q1918.59 1450.39 1920.63 1450.39 Q1926 1450.39 1929.2 1453.08 Q1932.39 1455.77 1932.39 1460.26 Q1932.39 1462.39 1931.58 1464.31 Q1930.79 1466.2 1928.69 1468.8 Q1928.11 1469.47 1925.01 1472.69 Q1921.9 1475.88 1916.26 1481.64 Z\" fill=\"#000000\" fill-rule=\"evenodd\" fill-opacity=\"1\" /><path clip-path=\"url(#clip680)\" d=\"M1942.44 1451.02 L1960.79 1451.02 L1960.79 1454.96 L1946.72 1454.96 L1946.72 1463.43 Q1947.74 1463.08 1948.76 1462.92 Q1949.77 1462.73 1950.79 1462.73 Q1956.58 1462.73 1959.96 1465.9 Q1963.34 1469.08 1963.34 1474.49 Q1963.34 1480.07 1959.87 1483.17 Q1956.39 1486.25 1950.07 1486.25 Q1947.9 1486.25 1945.63 1485.88 Q1943.38 1485.51 1940.98 1484.77 L1940.98 1480.07 Q1943.06 1481.2 1945.28 1481.76 Q1947.51 1482.32 1949.98 1482.32 Q1953.99 1482.32 1956.32 1480.21 Q1958.66 1478.1 1958.66 1474.49 Q1958.66 1470.88 1956.32 1468.77 Q1953.99 1466.67 1949.98 1466.67 Q1948.11 1466.67 1946.23 1467.08 Q1944.38 1467.5 1942.44 1468.38 L1942.44 1451.02 Z\" fill=\"#000000\" fill-rule=\"evenodd\" fill-opacity=\"1\" /><path clip-path=\"url(#clip680)\" d=\"M2279.98 1466.95 Q2283.33 1467.66 2285.21 1469.93 Q2287.11 1472.2 2287.11 1475.53 Q2287.11 1480.65 2283.59 1483.45 Q2280.07 1486.25 2273.59 1486.25 Q2271.41 1486.25 2269.1 1485.81 Q2266.81 1485.39 2264.35 1484.54 L2264.35 1480.02 Q2266.3 1481.16 2268.61 1481.74 Q2270.93 1482.32 2273.45 1482.32 Q2277.85 1482.32 2280.14 1480.58 Q2282.45 1478.84 2282.45 1475.53 Q2282.45 1472.48 2280.3 1470.77 Q2278.17 1469.03 2274.35 1469.03 L2270.32 1469.03 L2270.32 1465.19 L2274.54 1465.19 Q2277.99 1465.19 2279.81 1463.82 Q2281.64 1462.43 2281.64 1459.84 Q2281.64 1457.18 2279.75 1455.77 Q2277.87 1454.33 2274.35 1454.33 Q2272.43 1454.33 2270.23 1454.75 Q2268.03 1455.16 2265.39 1456.04 L2265.39 1451.88 Q2268.06 1451.14 2270.37 1450.77 Q2272.71 1450.39 2274.77 1450.39 Q2280.09 1450.39 2283.19 1452.83 Q2286.3 1455.23 2286.3 1459.35 Q2286.3 1462.22 2284.65 1464.21 Q2283.01 1466.18 2279.98 1466.95 Z\" fill=\"#000000\" fill-rule=\"evenodd\" fill-opacity=\"1\" /><path clip-path=\"url(#clip680)\" d=\"M2305.97 1454.1 Q2302.36 1454.1 2300.53 1457.66 Q2298.73 1461.2 2298.73 1468.33 Q2298.73 1475.44 2300.53 1479.01 Q2302.36 1482.55 2305.97 1482.55 Q2309.61 1482.55 2311.41 1479.01 Q2313.24 1475.44 2313.24 1468.33 Q2313.24 1461.2 2311.41 1457.66 Q2309.61 1454.1 2305.97 1454.1 M2305.97 1450.39 Q2311.78 1450.39 2314.84 1455 Q2317.92 1459.58 2317.92 1468.33 Q2317.92 1477.06 2314.84 1481.67 Q2311.78 1486.25 2305.97 1486.25 Q2300.16 1486.25 2297.08 1481.67 Q2294.03 1477.06 2294.03 1468.33 Q2294.03 1459.58 2297.08 1455 Q2300.16 1450.39 2305.97 1450.39 Z\" fill=\"#000000\" fill-rule=\"evenodd\" fill-opacity=\"1\" /><path clip-path=\"url(#clip680)\" d=\"M1103.88 1539.37 L1094.61 1539.37 L1091.94 1550 L1101.27 1550 L1103.88 1539.37 M1099.1 1521.26 L1095.79 1534.46 L1105.09 1534.46 L1108.43 1521.26 L1113.52 1521.26 L1110.24 1534.46 L1120.17 1534.46 L1120.17 1539.37 L1109 1539.37 L1106.39 1550 L1116.51 1550 L1116.51 1554.87 L1105.15 1554.87 L1101.84 1568.04 L1096.75 1568.04 L1100.02 1554.87 L1090.7 1554.87 L1087.42 1568.04 L1082.3 1568.04 L1085.61 1554.87 L1075.58 1554.87 L1075.58 1550 L1086.78 1550 L1089.46 1539.37 L1079.21 1539.37 L1079.21 1534.46 L1090.7 1534.46 L1093.95 1521.26 L1099.1 1521.26 Z\" fill=\"#000000\" fill-rule=\"evenodd\" fill-opacity=\"1\" /><path clip-path=\"url(#clip680)\" d=\"M1174.76 1533.45 L1174.76 1538.98 Q1172.28 1537.71 1169.6 1537.07 Q1166.93 1536.44 1164.06 1536.44 Q1159.7 1536.44 1157.51 1537.77 Q1155.34 1539.11 1155.34 1541.79 Q1155.34 1543.82 1156.9 1545 Q1158.46 1546.15 1163.17 1547.2 L1165.18 1547.64 Q1171.42 1548.98 1174.03 1551.43 Q1176.67 1553.85 1176.67 1558.21 Q1176.67 1563.17 1172.72 1566.07 Q1168.81 1568.97 1161.93 1568.97 Q1159.07 1568.97 1155.95 1568.39 Q1152.86 1567.85 1149.42 1566.74 L1149.42 1560.69 Q1152.67 1562.38 1155.82 1563.24 Q1158.97 1564.07 1162.06 1564.07 Q1166.2 1564.07 1168.42 1562.66 Q1170.65 1561.23 1170.65 1558.65 Q1170.65 1556.27 1169.03 1554.99 Q1167.44 1553.72 1161.99 1552.54 L1159.96 1552.07 Q1154.51 1550.92 1152.1 1548.56 Q1149.68 1546.18 1149.68 1542.04 Q1149.68 1537.01 1153.24 1534.27 Q1156.81 1531.54 1163.36 1531.54 Q1166.61 1531.54 1169.47 1532.01 Q1172.34 1532.49 1174.76 1533.45 Z\" fill=\"#000000\" fill-rule=\"evenodd\" fill-opacity=\"1\" /><path clip-path=\"url(#clip680)\" d=\"M1211.65 1533.76 L1211.65 1539.24 Q1209.16 1537.87 1206.65 1537.2 Q1204.17 1536.5 1201.62 1536.5 Q1195.92 1536.5 1192.77 1540.13 Q1189.62 1543.73 1189.62 1550.25 Q1189.62 1556.78 1192.77 1560.4 Q1195.92 1564 1201.62 1564 Q1204.17 1564 1206.65 1563.33 Q1209.16 1562.63 1211.65 1561.26 L1211.65 1566.68 Q1209.2 1567.82 1206.55 1568.39 Q1203.94 1568.97 1200.98 1568.97 Q1192.93 1568.97 1188.19 1563.91 Q1183.45 1558.85 1183.45 1550.25 Q1183.45 1541.53 1188.22 1536.53 Q1193.03 1531.54 1201.37 1531.54 Q1204.07 1531.54 1206.65 1532.11 Q1209.23 1532.65 1211.65 1533.76 Z\" fill=\"#000000\" fill-rule=\"evenodd\" fill-opacity=\"1\" /><path clip-path=\"url(#clip680)\" d=\"M1252.32 1548.76 L1252.32 1551.62 L1225.4 1551.62 Q1225.78 1557.67 1229.03 1560.85 Q1232.3 1564 1238.13 1564 Q1241.5 1564 1244.65 1563.17 Q1247.84 1562.35 1250.96 1560.69 L1250.96 1566.23 Q1247.8 1567.57 1244.49 1568.27 Q1241.18 1568.97 1237.78 1568.97 Q1229.25 1568.97 1224.25 1564 Q1219.29 1559.04 1219.29 1550.57 Q1219.29 1541.82 1224 1536.69 Q1228.74 1531.54 1236.76 1531.54 Q1243.95 1531.54 1248.12 1536.18 Q1252.32 1540.8 1252.32 1548.76 M1246.47 1547.04 Q1246.4 1542.23 1243.76 1539.37 Q1241.15 1536.5 1236.82 1536.5 Q1231.92 1536.5 1228.96 1539.27 Q1226.03 1542.04 1225.59 1547.07 L1246.47 1547.04 Z\" fill=\"#000000\" fill-rule=\"evenodd\" fill-opacity=\"1\" /><path clip-path=\"url(#clip680)\" d=\"M1291.57 1546.53 L1291.57 1568.04 L1285.71 1568.04 L1285.71 1546.72 Q1285.71 1541.66 1283.74 1539.14 Q1281.77 1536.63 1277.82 1536.63 Q1273.08 1536.63 1270.34 1539.65 Q1267.6 1542.68 1267.6 1547.9 L1267.6 1568.04 L1261.71 1568.04 L1261.71 1532.4 L1267.6 1532.4 L1267.6 1537.93 Q1269.7 1534.72 1272.54 1533.13 Q1275.4 1531.54 1279.12 1531.54 Q1285.27 1531.54 1288.42 1535.36 Q1291.57 1539.14 1291.57 1546.53 Z\" fill=\"#000000\" fill-rule=\"evenodd\" fill-opacity=\"1\" /><path clip-path=\"url(#clip680)\" d=\"M1319.45 1550.12 Q1312.35 1550.12 1309.62 1551.75 Q1306.88 1553.37 1306.88 1557.29 Q1306.88 1560.4 1308.92 1562.25 Q1310.98 1564.07 1314.52 1564.07 Q1319.39 1564.07 1322.31 1560.63 Q1325.27 1557.16 1325.27 1551.43 L1325.27 1550.12 L1319.45 1550.12 M1331.13 1547.71 L1331.13 1568.04 L1325.27 1568.04 L1325.27 1562.63 Q1323.27 1565.88 1320.28 1567.44 Q1317.29 1568.97 1312.96 1568.97 Q1307.48 1568.97 1304.24 1565.91 Q1301.02 1562.82 1301.02 1557.67 Q1301.02 1551.65 1305.03 1548.6 Q1309.07 1545.54 1317.06 1545.54 L1325.27 1545.54 L1325.27 1544.97 Q1325.27 1540.93 1322.6 1538.73 Q1319.96 1536.5 1315.15 1536.5 Q1312.1 1536.5 1309.2 1537.23 Q1306.31 1537.97 1303.63 1539.43 L1303.63 1534.02 Q1306.85 1532.78 1309.87 1532.17 Q1312.89 1531.54 1315.76 1531.54 Q1323.49 1531.54 1327.31 1535.55 Q1331.13 1539.56 1331.13 1547.71 Z\" fill=\"#000000\" fill-rule=\"evenodd\" fill-opacity=\"1\" /><path clip-path=\"url(#clip680)\" d=\"M1363.85 1537.87 Q1362.86 1537.3 1361.69 1537.04 Q1360.54 1536.76 1359.14 1536.76 Q1354.18 1536.76 1351.5 1540 Q1348.86 1543.22 1348.86 1549.27 L1348.86 1568.04 L1342.97 1568.04 L1342.97 1532.4 L1348.86 1532.4 L1348.86 1537.93 Q1350.71 1534.69 1353.67 1533.13 Q1356.63 1531.54 1360.86 1531.54 Q1361.46 1531.54 1362.2 1531.63 Q1362.93 1531.7 1363.82 1531.85 L1363.85 1537.87 Z\" fill=\"#000000\" fill-rule=\"evenodd\" fill-opacity=\"1\" /><path clip-path=\"url(#clip680)\" d=\"M1369.99 1532.4 L1375.85 1532.4 L1375.85 1568.04 L1369.99 1568.04 L1369.99 1532.4 M1369.99 1518.52 L1375.85 1518.52 L1375.85 1525.93 L1369.99 1525.93 L1369.99 1518.52 Z\" fill=\"#000000\" fill-rule=\"evenodd\" fill-opacity=\"1\" /><path clip-path=\"url(#clip680)\" d=\"M1401.92 1536.5 Q1397.21 1536.5 1394.47 1540.19 Q1391.73 1543.85 1391.73 1550.25 Q1391.73 1556.65 1394.44 1560.34 Q1397.18 1564 1401.92 1564 Q1406.6 1564 1409.33 1560.31 Q1412.07 1556.62 1412.07 1550.25 Q1412.07 1543.92 1409.33 1540.23 Q1406.6 1536.5 1401.92 1536.5 M1401.92 1531.54 Q1409.56 1531.54 1413.92 1536.5 Q1418.28 1541.47 1418.28 1550.25 Q1418.28 1559 1413.92 1564 Q1409.56 1568.97 1401.92 1568.97 Q1394.25 1568.97 1389.89 1564 Q1385.56 1559 1385.56 1550.25 Q1385.56 1541.47 1389.89 1536.5 Q1394.25 1531.54 1401.92 1531.54 Z\" fill=\"#000000\" fill-rule=\"evenodd\" fill-opacity=\"1\" /><path clip-path=\"url(#clip680)\" d=\"M1450.71 1533.45 L1450.71 1538.98 Q1448.23 1537.71 1445.56 1537.07 Q1442.88 1536.44 1440.02 1536.44 Q1435.66 1536.44 1433.46 1537.77 Q1431.3 1539.11 1431.3 1541.79 Q1431.3 1543.82 1432.86 1545 Q1434.42 1546.15 1439.13 1547.2 L1441.13 1547.64 Q1447.37 1548.98 1449.98 1551.43 Q1452.62 1553.85 1452.62 1558.21 Q1452.62 1563.17 1448.67 1566.07 Q1444.76 1568.97 1437.88 1568.97 Q1435.02 1568.97 1431.9 1568.39 Q1428.81 1567.85 1425.38 1566.74 L1425.38 1560.69 Q1428.62 1562.38 1431.77 1563.24 Q1434.92 1564.07 1438.01 1564.07 Q1442.15 1564.07 1444.38 1562.66 Q1446.61 1561.23 1446.61 1558.65 Q1446.61 1556.27 1444.98 1554.99 Q1443.39 1553.72 1437.95 1552.54 L1435.91 1552.07 Q1430.47 1550.92 1428.05 1548.56 Q1425.63 1546.18 1425.63 1542.04 Q1425.63 1537.01 1429.2 1534.27 Q1432.76 1531.54 1439.32 1531.54 Q1442.56 1531.54 1445.43 1532.01 Q1448.29 1532.49 1450.71 1533.45 Z\" fill=\"#000000\" fill-rule=\"evenodd\" fill-opacity=\"1\" /><polyline clip-path=\"url(#clip682)\" style=\"stroke:#000000; stroke-linecap:round; stroke-linejoin:round; stroke-width:8; stroke-opacity:0.1; fill:none\" points=\"175.445,1384.24 2352.76,1384.24 \"/>\n",
       "<polyline clip-path=\"url(#clip682)\" style=\"stroke:#000000; stroke-linecap:round; stroke-linejoin:round; stroke-width:8; stroke-opacity:0.1; fill:none\" points=\"175.445,1083.69 2352.76,1083.69 \"/>\n",
       "<polyline clip-path=\"url(#clip682)\" style=\"stroke:#000000; stroke-linecap:round; stroke-linejoin:round; stroke-width:8; stroke-opacity:0.1; fill:none\" points=\"175.445,783.149 2352.76,783.149 \"/>\n",
       "<polyline clip-path=\"url(#clip682)\" style=\"stroke:#000000; stroke-linecap:round; stroke-linejoin:round; stroke-width:8; stroke-opacity:0.1; fill:none\" points=\"175.445,482.605 2352.76,482.605 \"/>\n",
       "<polyline clip-path=\"url(#clip682)\" style=\"stroke:#000000; stroke-linecap:round; stroke-linejoin:round; stroke-width:8; stroke-opacity:0.1; fill:none\" points=\"175.445,182.06 2352.76,182.06 \"/>\n",
       "<polyline clip-path=\"url(#clip680)\" style=\"stroke:#000000; stroke-linecap:round; stroke-linejoin:round; stroke-width:4; stroke-opacity:1; fill:none\" points=\"175.445,1423.18 175.445,47.2441 \"/>\n",
       "<polyline clip-path=\"url(#clip680)\" style=\"stroke:#000000; stroke-linecap:round; stroke-linejoin:round; stroke-width:4; stroke-opacity:1; fill:none\" points=\"175.445,1384.24 194.343,1384.24 \"/>\n",
       "<polyline clip-path=\"url(#clip680)\" style=\"stroke:#000000; stroke-linecap:round; stroke-linejoin:round; stroke-width:4; stroke-opacity:1; fill:none\" points=\"175.445,1083.69 194.343,1083.69 \"/>\n",
       "<polyline clip-path=\"url(#clip680)\" style=\"stroke:#000000; stroke-linecap:round; stroke-linejoin:round; stroke-width:4; stroke-opacity:1; fill:none\" points=\"175.445,783.149 194.343,783.149 \"/>\n",
       "<polyline clip-path=\"url(#clip680)\" style=\"stroke:#000000; stroke-linecap:round; stroke-linejoin:round; stroke-width:4; stroke-opacity:1; fill:none\" points=\"175.445,482.605 194.343,482.605 \"/>\n",
       "<polyline clip-path=\"url(#clip680)\" style=\"stroke:#000000; stroke-linecap:round; stroke-linejoin:round; stroke-width:4; stroke-opacity:1; fill:none\" points=\"175.445,182.06 194.343,182.06 \"/>\n",
       "<path clip-path=\"url(#clip680)\" d=\"M127.501 1370.04 Q123.89 1370.04 122.061 1373.6 Q120.255 1377.14 120.255 1384.27 Q120.255 1391.38 122.061 1394.94 Q123.89 1398.49 127.501 1398.49 Q131.135 1398.49 132.941 1394.94 Q134.769 1391.38 134.769 1384.27 Q134.769 1377.14 132.941 1373.6 Q131.135 1370.04 127.501 1370.04 M127.501 1366.33 Q133.311 1366.33 136.367 1370.94 Q139.445 1375.52 139.445 1384.27 Q139.445 1393 136.367 1397.61 Q133.311 1402.19 127.501 1402.19 Q121.691 1402.19 118.612 1397.61 Q115.556 1393 115.556 1384.27 Q115.556 1375.52 118.612 1370.94 Q121.691 1366.33 127.501 1366.33 Z\" fill=\"#000000\" fill-rule=\"evenodd\" fill-opacity=\"1\" /><path clip-path=\"url(#clip680)\" d=\"M119.538 1097.04 L127.177 1097.04 L127.177 1070.67 L118.867 1072.34 L118.867 1068.08 L127.13 1066.41 L131.806 1066.41 L131.806 1097.04 L139.445 1097.04 L139.445 1100.97 L119.538 1100.97 L119.538 1097.04 Z\" fill=\"#000000\" fill-rule=\"evenodd\" fill-opacity=\"1\" /><path clip-path=\"url(#clip680)\" d=\"M123.126 796.494 L139.445 796.494 L139.445 800.429 L117.501 800.429 L117.501 796.494 Q120.163 793.739 124.746 789.11 Q129.353 784.457 130.533 783.114 Q132.779 780.591 133.658 778.855 Q134.561 777.096 134.561 775.406 Q134.561 772.652 132.617 770.915 Q130.695 769.179 127.593 769.179 Q125.394 769.179 122.941 769.943 Q120.51 770.707 117.732 772.258 L117.732 767.536 Q120.556 766.402 123.01 765.823 Q125.464 765.244 127.501 765.244 Q132.871 765.244 136.066 767.929 Q139.26 770.614 139.26 775.105 Q139.26 777.235 138.45 779.156 Q137.663 781.054 135.556 783.647 Q134.978 784.318 131.876 787.536 Q128.774 790.73 123.126 796.494 Z\" fill=\"#000000\" fill-rule=\"evenodd\" fill-opacity=\"1\" /><path clip-path=\"url(#clip680)\" d=\"M132.316 481.25 Q135.672 481.968 137.547 484.237 Q139.445 486.505 139.445 489.838 Q139.445 494.954 135.927 497.755 Q132.408 500.556 125.927 500.556 Q123.751 500.556 121.436 500.116 Q119.144 499.699 116.691 498.843 L116.691 494.329 Q118.635 495.463 120.95 496.042 Q123.265 496.621 125.788 496.621 Q130.186 496.621 132.478 494.885 Q134.792 493.149 134.792 489.838 Q134.792 486.783 132.64 485.07 Q130.51 483.334 126.691 483.334 L122.663 483.334 L122.663 479.491 L126.876 479.491 Q130.325 479.491 132.154 478.125 Q133.982 476.737 133.982 474.144 Q133.982 471.482 132.084 470.07 Q130.209 468.635 126.691 468.635 Q124.769 468.635 122.57 469.051 Q120.371 469.468 117.732 470.348 L117.732 466.181 Q120.394 465.44 122.709 465.07 Q125.047 464.7 127.107 464.7 Q132.431 464.7 135.533 467.13 Q138.635 469.538 138.635 473.658 Q138.635 476.528 136.992 478.519 Q135.348 480.487 132.316 481.25 Z\" fill=\"#000000\" fill-rule=\"evenodd\" fill-opacity=\"1\" /><path clip-path=\"url(#clip680)\" d=\"M129.862 168.854 L118.056 187.303 L129.862 187.303 L129.862 168.854 M128.635 164.78 L134.515 164.78 L134.515 187.303 L139.445 187.303 L139.445 191.192 L134.515 191.192 L134.515 199.34 L129.862 199.34 L129.862 191.192 L114.26 191.192 L114.26 186.678 L128.635 164.78 Z\" fill=\"#000000\" fill-rule=\"evenodd\" fill-opacity=\"1\" /><path clip-path=\"url(#clip680)\" d=\"M29.4065 898.413 L34.9447 898.413 Q33.6716 900.895 33.035 903.569 Q32.3984 906.243 32.3984 909.107 Q32.3984 913.468 33.7352 915.664 Q35.072 917.828 37.7456 917.828 Q39.7826 917.828 40.9603 916.269 Q42.1061 914.709 43.1565 909.998 L43.6021 907.993 Q44.9389 901.755 47.3897 899.145 Q49.8086 896.503 54.1691 896.503 Q59.1344 896.503 62.0308 900.45 Q64.9272 904.365 64.9272 911.24 Q64.9272 914.104 64.3543 917.223 Q63.8132 920.311 62.6992 923.748 L56.6518 923.748 Q58.3387 920.502 59.198 917.351 Q60.0256 914.2 60.0256 911.112 Q60.0256 906.975 58.6251 904.747 Q57.1929 902.519 54.6147 902.519 Q52.2276 902.519 50.9545 904.142 Q49.6813 905.733 48.5037 911.176 L48.0262 913.213 Q46.8804 918.656 44.5251 921.075 Q42.138 923.494 38.0002 923.494 Q32.9713 923.494 30.2341 919.929 Q27.4968 916.364 27.4968 909.807 Q27.4968 906.561 27.9743 903.696 Q28.4517 900.832 29.4065 898.413 Z\" fill=\"#000000\" fill-rule=\"evenodd\" fill-opacity=\"1\" /><path clip-path=\"url(#clip680)\" d=\"M32.4621 873.364 Q32.4621 878.074 36.1542 880.812 Q39.8145 883.549 46.212 883.549 Q52.6095 883.549 56.3017 880.843 Q59.9619 878.106 59.9619 873.364 Q59.9619 868.685 56.2698 865.948 Q52.5777 863.21 46.212 863.21 Q39.8781 863.21 36.186 865.948 Q32.4621 868.685 32.4621 873.364 M27.4968 873.364 Q27.4968 865.725 32.4621 861.364 Q37.4273 857.004 46.212 857.004 Q54.9649 857.004 59.9619 861.364 Q64.9272 865.725 64.9272 873.364 Q64.9272 881.034 59.9619 885.395 Q54.9649 889.724 46.212 889.724 Q37.4273 889.724 32.4621 885.395 Q27.4968 881.034 27.4968 873.364 Z\" fill=\"#000000\" fill-rule=\"evenodd\" fill-opacity=\"1\" /><path clip-path=\"url(#clip680)\" d=\"M14.479 847.296 L14.479 841.44 L64.0042 841.44 L64.0042 847.296 L14.479 847.296 Z\" fill=\"#000000\" fill-rule=\"evenodd\" fill-opacity=\"1\" /><path clip-path=\"url(#clip680)\" d=\"M55.9197 828.358 L55.9197 821.642 L64.0042 821.642 L64.0042 828.358 L55.9197 828.358 Z\" fill=\"#000000\" fill-rule=\"evenodd\" fill-opacity=\"1\" /><path clip-path=\"url(#clip680)\" d=\"M18.2347 781.952 L28.3562 781.952 L28.3562 769.889 L32.9077 769.889 L32.9077 781.952 L52.2594 781.952 Q56.6199 781.952 57.8613 780.775 Q59.1026 779.565 59.1026 775.905 L59.1026 769.889 L64.0042 769.889 L64.0042 775.905 Q64.0042 782.684 61.4897 785.262 Q58.9434 787.84 52.2594 787.84 L32.9077 787.84 L32.9077 792.137 L28.3562 792.137 L28.3562 787.84 L18.2347 787.84 L18.2347 781.952 Z\" fill=\"#000000\" fill-rule=\"evenodd\" fill-opacity=\"1\" /><path clip-path=\"url(#clip680)\" d=\"M28.3562 762.187 L28.3562 756.33 L64.0042 756.33 L64.0042 762.187 L28.3562 762.187 M14.479 762.187 L14.479 756.33 L21.895 756.33 L21.895 762.187 L14.479 762.187 Z\" fill=\"#000000\" fill-rule=\"evenodd\" fill-opacity=\"1\" /><path clip-path=\"url(#clip680)\" d=\"M35.1993 716.322 Q31.2526 714.126 29.3747 711.07 Q27.4968 708.014 27.4968 703.877 Q27.4968 698.307 31.4117 695.283 Q35.2948 692.259 42.4881 692.259 L64.0042 692.259 L64.0042 698.148 L42.679 698.148 Q37.5546 698.148 35.072 699.962 Q32.5894 701.776 32.5894 705.5 Q32.5894 710.052 35.6131 712.693 Q38.6368 715.335 43.8567 715.335 L64.0042 715.335 L64.0042 721.223 L42.679 721.223 Q37.5228 721.223 35.072 723.038 Q32.5894 724.852 32.5894 728.639 Q32.5894 733.127 35.6449 735.769 Q38.6686 738.411 43.8567 738.411 L64.0042 738.411 L64.0042 744.299 L28.3562 744.299 L28.3562 738.411 L33.8944 738.411 Q30.616 736.406 29.0564 733.605 Q27.4968 730.804 27.4968 726.952 Q27.4968 723.069 29.4702 720.364 Q31.4436 717.627 35.1993 716.322 Z\" fill=\"#000000\" fill-rule=\"evenodd\" fill-opacity=\"1\" /><path clip-path=\"url(#clip680)\" d=\"M44.7161 650.087 L47.5806 650.087 L47.5806 677.013 Q53.6281 676.632 56.8109 673.385 Q59.9619 670.107 59.9619 664.282 Q59.9619 660.908 59.1344 657.757 Q58.3069 654.574 56.6518 651.455 L62.1899 651.455 Q63.5267 654.606 64.227 657.916 Q64.9272 661.227 64.9272 664.632 Q64.9272 673.162 59.9619 678.159 Q54.9967 683.125 46.5303 683.125 Q37.7774 683.125 32.6531 678.414 Q27.4968 673.671 27.4968 665.651 Q27.4968 658.457 32.1438 654.288 Q36.7589 650.087 44.7161 650.087 M42.9973 655.943 Q38.1912 656.007 35.3266 658.648 Q32.4621 661.258 32.4621 665.587 Q32.4621 670.489 35.2312 673.449 Q38.0002 676.377 43.0292 676.823 L42.9973 655.943 Z\" fill=\"#000000\" fill-rule=\"evenodd\" fill-opacity=\"1\" /><path clip-path=\"url(#clip680)\" d=\"M14.479 620.295 L14.479 606.8 L19.0304 606.8 L19.0304 614.439 L68.0464 614.439 L68.0464 606.8 L72.5979 606.8 L72.5979 620.295 L14.479 620.295 Z\" fill=\"#000000\" fill-rule=\"evenodd\" fill-opacity=\"1\" /><path clip-path=\"url(#clip680)\" d=\"M29.4065 571.597 L34.9447 571.597 Q33.6716 574.08 33.035 576.754 Q32.3984 579.427 32.3984 582.292 Q32.3984 586.652 33.7352 588.848 Q35.072 591.013 37.7456 591.013 Q39.7826 591.013 40.9603 589.453 Q42.1061 587.894 43.1565 583.183 L43.6021 581.178 Q44.9389 574.939 47.3897 572.329 Q49.8086 569.688 54.1691 569.688 Q59.1344 569.688 62.0308 573.634 Q64.9272 577.549 64.9272 584.424 Q64.9272 587.289 64.3543 590.408 Q63.8132 593.495 62.6992 596.933 L56.6518 596.933 Q58.3387 593.686 59.198 590.535 Q60.0256 587.384 60.0256 584.297 Q60.0256 580.159 58.6251 577.931 Q57.1929 575.703 54.6147 575.703 Q52.2276 575.703 50.9545 577.327 Q49.6813 578.918 48.5037 584.361 L48.0262 586.398 Q46.8804 591.84 44.5251 594.259 Q42.138 596.678 38.0002 596.678 Q32.9713 596.678 30.2341 593.113 Q27.4968 589.549 27.4968 582.992 Q27.4968 579.745 27.9743 576.881 Q28.4517 574.016 29.4065 571.597 Z\" fill=\"#000000\" fill-rule=\"evenodd\" fill-opacity=\"1\" /><path clip-path=\"url(#clip680)\" d=\"M14.479 546.676 L72.5979 546.676 L72.5979 560.171 L68.0464 560.171 L68.0464 552.564 L19.0304 552.564 L19.0304 560.171 L14.479 560.171 L14.479 546.676 Z\" fill=\"#000000\" fill-rule=\"evenodd\" fill-opacity=\"1\" /><polyline clip-path=\"url(#clip682)\" style=\"stroke:#009af9; stroke-linecap:round; stroke-linejoin:round; stroke-width:4; stroke-opacity:1; fill:none\" points=\"237.067,1369.81 307.897,1358.69 378.727,1342.76 449.557,1335.25 520.387,1384.24 591.217,1384.24 662.047,1384.24 732.876,1384.24 803.706,1384.24 874.536,1384.24 945.366,1384.24 1016.2,1384.24 1087.03,1384.24 1157.86,1384.24 1228.69,1384.24 1299.52,1384.24 1370.35,1384.24 1441.18,1384.24 1512.01,1384.24 1582.84,1384.24 1653.66,1384.24 1724.49,1384.24 1795.32,1384.24 1866.15,1384.24 1936.98,1384.24 2007.81,1384.24 2078.64,1384.24 2149.47,1384.24 2220.3,1384.24 2291.13,1384.24 \"/>\n",
       "<circle clip-path=\"url(#clip682)\" cx=\"237.067\" cy=\"1369.81\" r=\"14.4\" fill=\"#008000\" fill-rule=\"evenodd\" fill-opacity=\"1\" stroke=\"#000000\" stroke-opacity=\"1\" stroke-width=\"3.2\"/>\n",
       "<circle clip-path=\"url(#clip682)\" cx=\"307.897\" cy=\"1358.69\" r=\"14.4\" fill=\"#008000\" fill-rule=\"evenodd\" fill-opacity=\"1\" stroke=\"#000000\" stroke-opacity=\"1\" stroke-width=\"3.2\"/>\n",
       "<circle clip-path=\"url(#clip682)\" cx=\"378.727\" cy=\"1342.76\" r=\"14.4\" fill=\"#008000\" fill-rule=\"evenodd\" fill-opacity=\"1\" stroke=\"#000000\" stroke-opacity=\"1\" stroke-width=\"3.2\"/>\n",
       "<circle clip-path=\"url(#clip682)\" cx=\"449.557\" cy=\"1335.25\" r=\"14.4\" fill=\"#008000\" fill-rule=\"evenodd\" fill-opacity=\"1\" stroke=\"#000000\" stroke-opacity=\"1\" stroke-width=\"3.2\"/>\n",
       "<circle clip-path=\"url(#clip682)\" cx=\"520.387\" cy=\"1384.24\" r=\"14.4\" fill=\"#008000\" fill-rule=\"evenodd\" fill-opacity=\"1\" stroke=\"#000000\" stroke-opacity=\"1\" stroke-width=\"3.2\"/>\n",
       "<circle clip-path=\"url(#clip682)\" cx=\"591.217\" cy=\"1384.24\" r=\"14.4\" fill=\"#008000\" fill-rule=\"evenodd\" fill-opacity=\"1\" stroke=\"#000000\" stroke-opacity=\"1\" stroke-width=\"3.2\"/>\n",
       "<circle clip-path=\"url(#clip682)\" cx=\"662.047\" cy=\"1384.24\" r=\"14.4\" fill=\"#008000\" fill-rule=\"evenodd\" fill-opacity=\"1\" stroke=\"#000000\" stroke-opacity=\"1\" stroke-width=\"3.2\"/>\n",
       "<circle clip-path=\"url(#clip682)\" cx=\"732.876\" cy=\"1384.24\" r=\"14.4\" fill=\"#008000\" fill-rule=\"evenodd\" fill-opacity=\"1\" stroke=\"#000000\" stroke-opacity=\"1\" stroke-width=\"3.2\"/>\n",
       "<circle clip-path=\"url(#clip682)\" cx=\"803.706\" cy=\"1384.24\" r=\"14.4\" fill=\"#008000\" fill-rule=\"evenodd\" fill-opacity=\"1\" stroke=\"#000000\" stroke-opacity=\"1\" stroke-width=\"3.2\"/>\n",
       "<circle clip-path=\"url(#clip682)\" cx=\"874.536\" cy=\"1384.24\" r=\"14.4\" fill=\"#008000\" fill-rule=\"evenodd\" fill-opacity=\"1\" stroke=\"#000000\" stroke-opacity=\"1\" stroke-width=\"3.2\"/>\n",
       "<circle clip-path=\"url(#clip682)\" cx=\"945.366\" cy=\"1384.24\" r=\"14.4\" fill=\"#008000\" fill-rule=\"evenodd\" fill-opacity=\"1\" stroke=\"#000000\" stroke-opacity=\"1\" stroke-width=\"3.2\"/>\n",
       "<circle clip-path=\"url(#clip682)\" cx=\"1016.2\" cy=\"1384.24\" r=\"14.4\" fill=\"#008000\" fill-rule=\"evenodd\" fill-opacity=\"1\" stroke=\"#000000\" stroke-opacity=\"1\" stroke-width=\"3.2\"/>\n",
       "<circle clip-path=\"url(#clip682)\" cx=\"1087.03\" cy=\"1384.24\" r=\"14.4\" fill=\"#008000\" fill-rule=\"evenodd\" fill-opacity=\"1\" stroke=\"#000000\" stroke-opacity=\"1\" stroke-width=\"3.2\"/>\n",
       "<circle clip-path=\"url(#clip682)\" cx=\"1157.86\" cy=\"1384.24\" r=\"14.4\" fill=\"#008000\" fill-rule=\"evenodd\" fill-opacity=\"1\" stroke=\"#000000\" stroke-opacity=\"1\" stroke-width=\"3.2\"/>\n",
       "<circle clip-path=\"url(#clip682)\" cx=\"1228.69\" cy=\"1384.24\" r=\"14.4\" fill=\"#008000\" fill-rule=\"evenodd\" fill-opacity=\"1\" stroke=\"#000000\" stroke-opacity=\"1\" stroke-width=\"3.2\"/>\n",
       "<circle clip-path=\"url(#clip682)\" cx=\"1299.52\" cy=\"1384.24\" r=\"14.4\" fill=\"#008000\" fill-rule=\"evenodd\" fill-opacity=\"1\" stroke=\"#000000\" stroke-opacity=\"1\" stroke-width=\"3.2\"/>\n",
       "<circle clip-path=\"url(#clip682)\" cx=\"1370.35\" cy=\"1384.24\" r=\"14.4\" fill=\"#008000\" fill-rule=\"evenodd\" fill-opacity=\"1\" stroke=\"#000000\" stroke-opacity=\"1\" stroke-width=\"3.2\"/>\n",
       "<circle clip-path=\"url(#clip682)\" cx=\"1441.18\" cy=\"1384.24\" r=\"14.4\" fill=\"#008000\" fill-rule=\"evenodd\" fill-opacity=\"1\" stroke=\"#000000\" stroke-opacity=\"1\" stroke-width=\"3.2\"/>\n",
       "<circle clip-path=\"url(#clip682)\" cx=\"1512.01\" cy=\"1384.24\" r=\"14.4\" fill=\"#008000\" fill-rule=\"evenodd\" fill-opacity=\"1\" stroke=\"#000000\" stroke-opacity=\"1\" stroke-width=\"3.2\"/>\n",
       "<circle clip-path=\"url(#clip682)\" cx=\"1582.84\" cy=\"1384.24\" r=\"14.4\" fill=\"#008000\" fill-rule=\"evenodd\" fill-opacity=\"1\" stroke=\"#000000\" stroke-opacity=\"1\" stroke-width=\"3.2\"/>\n",
       "<circle clip-path=\"url(#clip682)\" cx=\"1653.66\" cy=\"1384.24\" r=\"14.4\" fill=\"#008000\" fill-rule=\"evenodd\" fill-opacity=\"1\" stroke=\"#000000\" stroke-opacity=\"1\" stroke-width=\"3.2\"/>\n",
       "<circle clip-path=\"url(#clip682)\" cx=\"1724.49\" cy=\"1384.24\" r=\"14.4\" fill=\"#008000\" fill-rule=\"evenodd\" fill-opacity=\"1\" stroke=\"#000000\" stroke-opacity=\"1\" stroke-width=\"3.2\"/>\n",
       "<circle clip-path=\"url(#clip682)\" cx=\"1795.32\" cy=\"1384.24\" r=\"14.4\" fill=\"#008000\" fill-rule=\"evenodd\" fill-opacity=\"1\" stroke=\"#000000\" stroke-opacity=\"1\" stroke-width=\"3.2\"/>\n",
       "<circle clip-path=\"url(#clip682)\" cx=\"1866.15\" cy=\"1384.24\" r=\"14.4\" fill=\"#008000\" fill-rule=\"evenodd\" fill-opacity=\"1\" stroke=\"#000000\" stroke-opacity=\"1\" stroke-width=\"3.2\"/>\n",
       "<circle clip-path=\"url(#clip682)\" cx=\"1936.98\" cy=\"1384.24\" r=\"14.4\" fill=\"#008000\" fill-rule=\"evenodd\" fill-opacity=\"1\" stroke=\"#000000\" stroke-opacity=\"1\" stroke-width=\"3.2\"/>\n",
       "<circle clip-path=\"url(#clip682)\" cx=\"2007.81\" cy=\"1384.24\" r=\"14.4\" fill=\"#008000\" fill-rule=\"evenodd\" fill-opacity=\"1\" stroke=\"#000000\" stroke-opacity=\"1\" stroke-width=\"3.2\"/>\n",
       "<circle clip-path=\"url(#clip682)\" cx=\"2078.64\" cy=\"1384.24\" r=\"14.4\" fill=\"#008000\" fill-rule=\"evenodd\" fill-opacity=\"1\" stroke=\"#000000\" stroke-opacity=\"1\" stroke-width=\"3.2\"/>\n",
       "<circle clip-path=\"url(#clip682)\" cx=\"2149.47\" cy=\"1384.24\" r=\"14.4\" fill=\"#008000\" fill-rule=\"evenodd\" fill-opacity=\"1\" stroke=\"#000000\" stroke-opacity=\"1\" stroke-width=\"3.2\"/>\n",
       "<circle clip-path=\"url(#clip682)\" cx=\"2220.3\" cy=\"1384.24\" r=\"14.4\" fill=\"#008000\" fill-rule=\"evenodd\" fill-opacity=\"1\" stroke=\"#000000\" stroke-opacity=\"1\" stroke-width=\"3.2\"/>\n",
       "<circle clip-path=\"url(#clip682)\" cx=\"2291.13\" cy=\"1384.24\" r=\"14.4\" fill=\"#008000\" fill-rule=\"evenodd\" fill-opacity=\"1\" stroke=\"#000000\" stroke-opacity=\"1\" stroke-width=\"3.2\"/>\n",
       "<polyline clip-path=\"url(#clip682)\" style=\"stroke:#e26f46; stroke-linecap:round; stroke-linejoin:round; stroke-width:4; stroke-opacity:1; fill:none\" points=\"237.067,1130.88 307.897,573.97 378.727,232.552 449.557,86.1857 520.387,1384.24 591.217,1384.24 662.047,1384.24 732.876,1384.24 803.706,1384.24 874.536,1384.24 945.366,1384.24 1016.2,1384.24 1087.03,1384.24 1157.86,1384.24 1228.69,1384.24 1299.52,1384.24 1370.35,1384.24 1441.18,1384.24 1512.01,1384.24 1582.84,1384.24 1653.66,1384.24 1724.49,1384.24 1795.32,1384.24 1866.15,1384.24 1936.98,1384.24 2007.81,1384.24 2078.64,1384.24 2149.47,1384.24 2220.3,1384.24 2291.13,1384.24 \"/>\n",
       "<path clip-path=\"url(#clip682)\" d=\"M221.067 1114.88 L221.067 1146.88 L253.067 1146.88 L253.067 1114.88 L221.067 1114.88 Z\" fill=\"#ff0000\" fill-rule=\"evenodd\" fill-opacity=\"1\" stroke=\"#000000\" stroke-opacity=\"1\" stroke-width=\"3.2\"/>\n",
       "<path clip-path=\"url(#clip682)\" d=\"M291.897 557.97 L291.897 589.97 L323.897 589.97 L323.897 557.97 L291.897 557.97 Z\" fill=\"#ff0000\" fill-rule=\"evenodd\" fill-opacity=\"1\" stroke=\"#000000\" stroke-opacity=\"1\" stroke-width=\"3.2\"/>\n",
       "<path clip-path=\"url(#clip682)\" d=\"M362.727 216.552 L362.727 248.552 L394.727 248.552 L394.727 216.552 L362.727 216.552 Z\" fill=\"#ff0000\" fill-rule=\"evenodd\" fill-opacity=\"1\" stroke=\"#000000\" stroke-opacity=\"1\" stroke-width=\"3.2\"/>\n",
       "<path clip-path=\"url(#clip682)\" d=\"M433.557 70.1857 L433.557 102.186 L465.557 102.186 L465.557 70.1857 L433.557 70.1857 Z\" fill=\"#ff0000\" fill-rule=\"evenodd\" fill-opacity=\"1\" stroke=\"#000000\" stroke-opacity=\"1\" stroke-width=\"3.2\"/>\n",
       "<path clip-path=\"url(#clip682)\" d=\"M504.387 1368.24 L504.387 1400.24 L536.387 1400.24 L536.387 1368.24 L504.387 1368.24 Z\" fill=\"#ff0000\" fill-rule=\"evenodd\" fill-opacity=\"1\" stroke=\"#000000\" stroke-opacity=\"1\" stroke-width=\"3.2\"/>\n",
       "<path clip-path=\"url(#clip682)\" d=\"M575.217 1368.24 L575.217 1400.24 L607.217 1400.24 L607.217 1368.24 L575.217 1368.24 Z\" fill=\"#ff0000\" fill-rule=\"evenodd\" fill-opacity=\"1\" stroke=\"#000000\" stroke-opacity=\"1\" stroke-width=\"3.2\"/>\n",
       "<path clip-path=\"url(#clip682)\" d=\"M646.047 1368.24 L646.047 1400.24 L678.047 1400.24 L678.047 1368.24 L646.047 1368.24 Z\" fill=\"#ff0000\" fill-rule=\"evenodd\" fill-opacity=\"1\" stroke=\"#000000\" stroke-opacity=\"1\" stroke-width=\"3.2\"/>\n",
       "<path clip-path=\"url(#clip682)\" d=\"M716.876 1368.24 L716.876 1400.24 L748.876 1400.24 L748.876 1368.24 L716.876 1368.24 Z\" fill=\"#ff0000\" fill-rule=\"evenodd\" fill-opacity=\"1\" stroke=\"#000000\" stroke-opacity=\"1\" stroke-width=\"3.2\"/>\n",
       "<path clip-path=\"url(#clip682)\" d=\"M787.706 1368.24 L787.706 1400.24 L819.706 1400.24 L819.706 1368.24 L787.706 1368.24 Z\" fill=\"#ff0000\" fill-rule=\"evenodd\" fill-opacity=\"1\" stroke=\"#000000\" stroke-opacity=\"1\" stroke-width=\"3.2\"/>\n",
       "<path clip-path=\"url(#clip682)\" d=\"M858.536 1368.24 L858.536 1400.24 L890.536 1400.24 L890.536 1368.24 L858.536 1368.24 Z\" fill=\"#ff0000\" fill-rule=\"evenodd\" fill-opacity=\"1\" stroke=\"#000000\" stroke-opacity=\"1\" stroke-width=\"3.2\"/>\n",
       "<path clip-path=\"url(#clip682)\" d=\"M929.366 1368.24 L929.366 1400.24 L961.366 1400.24 L961.366 1368.24 L929.366 1368.24 Z\" fill=\"#ff0000\" fill-rule=\"evenodd\" fill-opacity=\"1\" stroke=\"#000000\" stroke-opacity=\"1\" stroke-width=\"3.2\"/>\n",
       "<path clip-path=\"url(#clip682)\" d=\"M1000.2 1368.24 L1000.2 1400.24 L1032.2 1400.24 L1032.2 1368.24 L1000.2 1368.24 Z\" fill=\"#ff0000\" fill-rule=\"evenodd\" fill-opacity=\"1\" stroke=\"#000000\" stroke-opacity=\"1\" stroke-width=\"3.2\"/>\n",
       "<path clip-path=\"url(#clip682)\" d=\"M1071.03 1368.24 L1071.03 1400.24 L1103.03 1400.24 L1103.03 1368.24 L1071.03 1368.24 Z\" fill=\"#ff0000\" fill-rule=\"evenodd\" fill-opacity=\"1\" stroke=\"#000000\" stroke-opacity=\"1\" stroke-width=\"3.2\"/>\n",
       "<path clip-path=\"url(#clip682)\" d=\"M1141.86 1368.24 L1141.86 1400.24 L1173.86 1400.24 L1173.86 1368.24 L1141.86 1368.24 Z\" fill=\"#ff0000\" fill-rule=\"evenodd\" fill-opacity=\"1\" stroke=\"#000000\" stroke-opacity=\"1\" stroke-width=\"3.2\"/>\n",
       "<path clip-path=\"url(#clip682)\" d=\"M1212.69 1368.24 L1212.69 1400.24 L1244.69 1400.24 L1244.69 1368.24 L1212.69 1368.24 Z\" fill=\"#ff0000\" fill-rule=\"evenodd\" fill-opacity=\"1\" stroke=\"#000000\" stroke-opacity=\"1\" stroke-width=\"3.2\"/>\n",
       "<path clip-path=\"url(#clip682)\" d=\"M1283.52 1368.24 L1283.52 1400.24 L1315.52 1400.24 L1315.52 1368.24 L1283.52 1368.24 Z\" fill=\"#ff0000\" fill-rule=\"evenodd\" fill-opacity=\"1\" stroke=\"#000000\" stroke-opacity=\"1\" stroke-width=\"3.2\"/>\n",
       "<path clip-path=\"url(#clip682)\" d=\"M1354.35 1368.24 L1354.35 1400.24 L1386.35 1400.24 L1386.35 1368.24 L1354.35 1368.24 Z\" fill=\"#ff0000\" fill-rule=\"evenodd\" fill-opacity=\"1\" stroke=\"#000000\" stroke-opacity=\"1\" stroke-width=\"3.2\"/>\n",
       "<path clip-path=\"url(#clip682)\" d=\"M1425.18 1368.24 L1425.18 1400.24 L1457.18 1400.24 L1457.18 1368.24 L1425.18 1368.24 Z\" fill=\"#ff0000\" fill-rule=\"evenodd\" fill-opacity=\"1\" stroke=\"#000000\" stroke-opacity=\"1\" stroke-width=\"3.2\"/>\n",
       "<path clip-path=\"url(#clip682)\" d=\"M1496.01 1368.24 L1496.01 1400.24 L1528.01 1400.24 L1528.01 1368.24 L1496.01 1368.24 Z\" fill=\"#ff0000\" fill-rule=\"evenodd\" fill-opacity=\"1\" stroke=\"#000000\" stroke-opacity=\"1\" stroke-width=\"3.2\"/>\n",
       "<path clip-path=\"url(#clip682)\" d=\"M1566.84 1368.24 L1566.84 1400.24 L1598.84 1400.24 L1598.84 1368.24 L1566.84 1368.24 Z\" fill=\"#ff0000\" fill-rule=\"evenodd\" fill-opacity=\"1\" stroke=\"#000000\" stroke-opacity=\"1\" stroke-width=\"3.2\"/>\n",
       "<path clip-path=\"url(#clip682)\" d=\"M1637.66 1368.24 L1637.66 1400.24 L1669.66 1400.24 L1669.66 1368.24 L1637.66 1368.24 Z\" fill=\"#ff0000\" fill-rule=\"evenodd\" fill-opacity=\"1\" stroke=\"#000000\" stroke-opacity=\"1\" stroke-width=\"3.2\"/>\n",
       "<path clip-path=\"url(#clip682)\" d=\"M1708.49 1368.24 L1708.49 1400.24 L1740.49 1400.24 L1740.49 1368.24 L1708.49 1368.24 Z\" fill=\"#ff0000\" fill-rule=\"evenodd\" fill-opacity=\"1\" stroke=\"#000000\" stroke-opacity=\"1\" stroke-width=\"3.2\"/>\n",
       "<path clip-path=\"url(#clip682)\" d=\"M1779.32 1368.24 L1779.32 1400.24 L1811.32 1400.24 L1811.32 1368.24 L1779.32 1368.24 Z\" fill=\"#ff0000\" fill-rule=\"evenodd\" fill-opacity=\"1\" stroke=\"#000000\" stroke-opacity=\"1\" stroke-width=\"3.2\"/>\n",
       "<path clip-path=\"url(#clip682)\" d=\"M1850.15 1368.24 L1850.15 1400.24 L1882.15 1400.24 L1882.15 1368.24 L1850.15 1368.24 Z\" fill=\"#ff0000\" fill-rule=\"evenodd\" fill-opacity=\"1\" stroke=\"#000000\" stroke-opacity=\"1\" stroke-width=\"3.2\"/>\n",
       "<path clip-path=\"url(#clip682)\" d=\"M1920.98 1368.24 L1920.98 1400.24 L1952.98 1400.24 L1952.98 1368.24 L1920.98 1368.24 Z\" fill=\"#ff0000\" fill-rule=\"evenodd\" fill-opacity=\"1\" stroke=\"#000000\" stroke-opacity=\"1\" stroke-width=\"3.2\"/>\n",
       "<path clip-path=\"url(#clip682)\" d=\"M1991.81 1368.24 L1991.81 1400.24 L2023.81 1400.24 L2023.81 1368.24 L1991.81 1368.24 Z\" fill=\"#ff0000\" fill-rule=\"evenodd\" fill-opacity=\"1\" stroke=\"#000000\" stroke-opacity=\"1\" stroke-width=\"3.2\"/>\n",
       "<path clip-path=\"url(#clip682)\" d=\"M2062.64 1368.24 L2062.64 1400.24 L2094.64 1400.24 L2094.64 1368.24 L2062.64 1368.24 Z\" fill=\"#ff0000\" fill-rule=\"evenodd\" fill-opacity=\"1\" stroke=\"#000000\" stroke-opacity=\"1\" stroke-width=\"3.2\"/>\n",
       "<path clip-path=\"url(#clip682)\" d=\"M2133.47 1368.24 L2133.47 1400.24 L2165.47 1400.24 L2165.47 1368.24 L2133.47 1368.24 Z\" fill=\"#ff0000\" fill-rule=\"evenodd\" fill-opacity=\"1\" stroke=\"#000000\" stroke-opacity=\"1\" stroke-width=\"3.2\"/>\n",
       "<path clip-path=\"url(#clip682)\" d=\"M2204.3 1368.24 L2204.3 1400.24 L2236.3 1400.24 L2236.3 1368.24 L2204.3 1368.24 Z\" fill=\"#ff0000\" fill-rule=\"evenodd\" fill-opacity=\"1\" stroke=\"#000000\" stroke-opacity=\"1\" stroke-width=\"3.2\"/>\n",
       "<path clip-path=\"url(#clip682)\" d=\"M2275.13 1368.24 L2275.13 1400.24 L2307.13 1400.24 L2307.13 1368.24 L2275.13 1368.24 Z\" fill=\"#ff0000\" fill-rule=\"evenodd\" fill-opacity=\"1\" stroke=\"#000000\" stroke-opacity=\"1\" stroke-width=\"3.2\"/>\n",
       "<path clip-path=\"url(#clip680)\" d=\"M1765.81 248.629 L2280.18 248.629 L2280.18 93.1086 L1765.81 93.1086  Z\" fill=\"#ffffff\" fill-rule=\"evenodd\" fill-opacity=\"1\"/>\n",
       "<polyline clip-path=\"url(#clip680)\" style=\"stroke:#000000; stroke-linecap:round; stroke-linejoin:round; stroke-width:4; stroke-opacity:1; fill:none\" points=\"1765.81,248.629 2280.18,248.629 2280.18,93.1086 1765.81,93.1086 1765.81,248.629 \"/>\n",
       "<polyline clip-path=\"url(#clip680)\" style=\"stroke:#009af9; stroke-linecap:round; stroke-linejoin:round; stroke-width:4; stroke-opacity:1; fill:none\" points=\"1790,144.949 1935.15,144.949 \"/>\n",
       "<circle clip-path=\"url(#clip680)\" cx=\"1862.58\" cy=\"144.949\" r=\"20.1603\" fill=\"#008000\" fill-rule=\"evenodd\" fill-opacity=\"1\" stroke=\"#000000\" stroke-opacity=\"1\" stroke-width=\"5.12\"/>\n",
       "<path clip-path=\"url(#clip680)\" d=\"M1979.69 141.28 Q1981.29 138.409 1983.51 137.044 Q1985.73 135.678 1988.74 135.678 Q1992.79 135.678 1994.99 138.525 Q1997.19 141.349 1997.19 146.581 L1997.19 162.229 L1992.91 162.229 L1992.91 146.719 Q1992.91 142.993 1991.59 141.187 Q1990.27 139.382 1987.56 139.382 Q1984.25 139.382 1982.33 141.581 Q1980.41 143.78 1980.41 147.576 L1980.41 162.229 L1976.13 162.229 L1976.13 146.719 Q1976.13 142.969 1974.81 141.187 Q1973.49 139.382 1970.73 139.382 Q1967.47 139.382 1965.55 141.604 Q1963.63 143.803 1963.63 147.576 L1963.63 162.229 L1959.34 162.229 L1959.34 136.303 L1963.63 136.303 L1963.63 140.331 Q1965.09 137.946 1967.12 136.812 Q1969.16 135.678 1971.96 135.678 Q1974.78 135.678 1976.75 137.113 Q1978.74 138.548 1979.69 141.28 Z\" fill=\"#000000\" fill-rule=\"evenodd\" fill-opacity=\"1\" /><path clip-path=\"url(#clip680)\" d=\"M2015.73 139.289 Q2012.31 139.289 2010.32 141.974 Q2008.33 144.636 2008.33 149.289 Q2008.33 153.942 2010.29 156.627 Q2012.28 159.289 2015.73 159.289 Q2019.14 159.289 2021.13 156.604 Q2023.12 153.918 2023.12 149.289 Q2023.12 144.682 2021.13 141.997 Q2019.14 139.289 2015.73 139.289 M2015.73 135.678 Q2021.29 135.678 2024.46 139.289 Q2027.63 142.9 2027.63 149.289 Q2027.63 155.655 2024.46 159.289 Q2021.29 162.9 2015.73 162.9 Q2010.15 162.9 2006.98 159.289 Q2003.84 155.655 2003.84 149.289 Q2003.84 142.9 2006.98 139.289 Q2010.15 135.678 2015.73 135.678 Z\" fill=\"#000000\" fill-rule=\"evenodd\" fill-opacity=\"1\" /><path clip-path=\"url(#clip680)\" d=\"M2056.24 146.581 L2056.24 162.229 L2051.98 162.229 L2051.98 146.719 Q2051.98 143.039 2050.55 141.21 Q2049.11 139.382 2046.24 139.382 Q2042.79 139.382 2040.8 141.581 Q2038.81 143.78 2038.81 147.576 L2038.81 162.229 L2034.53 162.229 L2034.53 136.303 L2038.81 136.303 L2038.81 140.331 Q2040.34 137.993 2042.4 136.835 Q2044.48 135.678 2047.19 135.678 Q2051.66 135.678 2053.95 138.456 Q2056.24 141.21 2056.24 146.581 Z\" fill=\"#000000\" fill-rule=\"evenodd\" fill-opacity=\"1\" /><path clip-path=\"url(#clip680)\" d=\"M2074.78 139.289 Q2071.36 139.289 2069.37 141.974 Q2067.38 144.636 2067.38 149.289 Q2067.38 153.942 2069.34 156.627 Q2071.33 159.289 2074.78 159.289 Q2078.19 159.289 2080.18 156.604 Q2082.17 153.918 2082.17 149.289 Q2082.17 144.682 2080.18 141.997 Q2078.19 139.289 2074.78 139.289 M2074.78 135.678 Q2080.34 135.678 2083.51 139.289 Q2086.68 142.9 2086.68 149.289 Q2086.68 155.655 2083.51 159.289 Q2080.34 162.9 2074.78 162.9 Q2069.21 162.9 2066.03 159.289 Q2062.89 155.655 2062.89 149.289 Q2062.89 142.9 2066.03 139.289 Q2069.21 135.678 2074.78 135.678 Z\" fill=\"#000000\" fill-rule=\"evenodd\" fill-opacity=\"1\" /><path clip-path=\"url(#clip680)\" d=\"M2093.74 126.21 L2098 126.21 L2098 162.229 L2093.74 162.229 L2093.74 126.21 Z\" fill=\"#000000\" fill-rule=\"evenodd\" fill-opacity=\"1\" /><path clip-path=\"url(#clip680)\" d=\"M2106.91 136.303 L2111.17 136.303 L2111.17 162.229 L2106.91 162.229 L2106.91 136.303 M2106.91 126.21 L2111.17 126.21 L2111.17 131.604 L2106.91 131.604 L2106.91 126.21 Z\" fill=\"#000000\" fill-rule=\"evenodd\" fill-opacity=\"1\" /><path clip-path=\"url(#clip680)\" d=\"M2124.3 128.942 L2124.3 136.303 L2133.07 136.303 L2133.07 139.613 L2124.3 139.613 L2124.3 153.687 Q2124.3 156.858 2125.15 157.761 Q2126.03 158.664 2128.7 158.664 L2133.07 158.664 L2133.07 162.229 L2128.7 162.229 Q2123.77 162.229 2121.89 160.4 Q2120.02 158.548 2120.02 153.687 L2120.02 139.613 L2116.89 139.613 L2116.89 136.303 L2120.02 136.303 L2120.02 128.942 L2124.3 128.942 Z\" fill=\"#000000\" fill-rule=\"evenodd\" fill-opacity=\"1\" /><path clip-path=\"url(#clip680)\" d=\"M2160.22 146.581 L2160.22 162.229 L2155.96 162.229 L2155.96 146.719 Q2155.96 143.039 2154.53 141.21 Q2153.09 139.382 2150.22 139.382 Q2146.77 139.382 2144.78 141.581 Q2142.79 143.78 2142.79 147.576 L2142.79 162.229 L2138.51 162.229 L2138.51 126.21 L2142.79 126.21 L2142.79 140.331 Q2144.32 137.993 2146.38 136.835 Q2148.46 135.678 2151.17 135.678 Q2155.64 135.678 2157.93 138.456 Q2160.22 141.21 2160.22 146.581 Z\" fill=\"#000000\" fill-rule=\"evenodd\" fill-opacity=\"1\" /><path clip-path=\"url(#clip680)\" d=\"M2168.72 136.303 L2172.98 136.303 L2172.98 162.229 L2168.72 162.229 L2168.72 136.303 M2168.72 126.21 L2172.98 126.21 L2172.98 131.604 L2168.72 131.604 L2168.72 126.21 Z\" fill=\"#000000\" fill-rule=\"evenodd\" fill-opacity=\"1\" /><path clip-path=\"url(#clip680)\" d=\"M2200.55 137.298 L2200.55 141.28 Q2198.74 140.284 2196.91 139.798 Q2195.11 139.289 2193.26 139.289 Q2189.11 139.289 2186.82 141.928 Q2184.53 144.544 2184.53 149.289 Q2184.53 154.034 2186.82 156.673 Q2189.11 159.289 2193.26 159.289 Q2195.11 159.289 2196.91 158.803 Q2198.74 158.293 2200.55 157.298 L2200.55 161.233 Q2198.76 162.067 2196.84 162.483 Q2194.95 162.9 2192.79 162.9 Q2186.94 162.9 2183.49 159.219 Q2180.04 155.539 2180.04 149.289 Q2180.04 142.946 2183.51 139.312 Q2187.01 135.678 2193.07 135.678 Q2195.04 135.678 2196.91 136.095 Q2198.79 136.488 2200.55 137.298 Z\" fill=\"#000000\" fill-rule=\"evenodd\" fill-opacity=\"1\" /><polyline clip-path=\"url(#clip680)\" style=\"stroke:#e26f46; stroke-linecap:round; stroke-linejoin:round; stroke-width:4; stroke-opacity:1; fill:none\" points=\"1790,196.789 1935.15,196.789 \"/>\n",
       "<path clip-path=\"url(#clip680)\" d=\"M1840.17 174.388 L1840.17 219.189 L1884.98 219.189 L1884.98 174.388 L1840.17 174.388 Z\" fill=\"#ff0000\" fill-rule=\"evenodd\" fill-opacity=\"1\" stroke=\"#000000\" stroke-opacity=\"1\" stroke-width=\"5.12\"/>\n",
       "<path clip-path=\"url(#clip680)\" d=\"M1978.26 192.078 L1978.26 178.05 L1982.52 178.05 L1982.52 214.069 L1978.26 214.069 L1978.26 210.18 Q1976.91 212.495 1974.85 213.629 Q1972.82 214.74 1969.95 214.74 Q1965.25 214.74 1962.28 210.99 Q1959.34 207.24 1959.34 201.129 Q1959.34 195.018 1962.28 191.268 Q1965.25 187.518 1969.95 187.518 Q1972.82 187.518 1974.85 188.652 Q1976.91 189.763 1978.26 192.078 M1963.74 201.129 Q1963.74 205.828 1965.66 208.513 Q1967.61 211.175 1970.99 211.175 Q1974.37 211.175 1976.31 208.513 Q1978.26 205.828 1978.26 201.129 Q1978.26 196.43 1976.31 193.768 Q1974.37 191.083 1970.99 191.083 Q1967.61 191.083 1965.66 193.768 Q1963.74 196.43 1963.74 201.129 Z\" fill=\"#000000\" fill-rule=\"evenodd\" fill-opacity=\"1\" /><path clip-path=\"url(#clip680)\" d=\"M2013.46 200.041 L2013.46 202.124 L1993.88 202.124 Q1994.16 206.522 1996.52 208.837 Q1998.9 211.129 2003.14 211.129 Q2005.59 211.129 2007.89 210.527 Q2010.2 209.925 2012.47 208.721 L2012.47 212.749 Q2010.18 213.721 2007.77 214.231 Q2005.36 214.74 2002.89 214.74 Q1996.68 214.74 1993.05 211.129 Q1989.44 207.518 1989.44 201.36 Q1989.44 194.995 1992.86 191.268 Q1996.31 187.518 2002.15 187.518 Q2007.38 187.518 2010.41 190.897 Q2013.46 194.254 2013.46 200.041 M2009.21 198.791 Q2009.16 195.296 2007.24 193.212 Q2005.34 191.129 2002.19 191.129 Q1998.63 191.129 1996.47 193.143 Q1994.34 195.157 1994.02 198.814 L2009.21 198.791 Z\" fill=\"#000000\" fill-rule=\"evenodd\" fill-opacity=\"1\" /><path clip-path=\"url(#clip680)\" d=\"M2039.11 189.138 L2039.11 193.12 Q2037.31 192.124 2035.48 191.638 Q2033.67 191.129 2031.82 191.129 Q2027.68 191.129 2025.39 193.768 Q2023.09 196.384 2023.09 201.129 Q2023.09 205.874 2025.39 208.513 Q2027.68 211.129 2031.82 211.129 Q2033.67 211.129 2035.48 210.643 Q2037.31 210.133 2039.11 209.138 L2039.11 213.073 Q2037.33 213.907 2035.41 214.323 Q2033.51 214.74 2031.36 214.74 Q2025.5 214.74 2022.05 211.059 Q2018.6 207.379 2018.6 201.129 Q2018.6 194.786 2022.08 191.152 Q2025.57 187.518 2031.64 187.518 Q2033.6 187.518 2035.48 187.935 Q2037.35 188.328 2039.11 189.138 Z\" fill=\"#000000\" fill-rule=\"evenodd\" fill-opacity=\"1\" /><path clip-path=\"url(#clip680)\" d=\"M2056.57 191.129 Q2053.14 191.129 2051.15 193.814 Q2049.16 196.476 2049.16 201.129 Q2049.16 205.782 2051.13 208.467 Q2053.12 211.129 2056.57 211.129 Q2059.97 211.129 2061.96 208.444 Q2063.95 205.758 2063.95 201.129 Q2063.95 196.522 2061.96 193.837 Q2059.97 191.129 2056.57 191.129 M2056.57 187.518 Q2062.12 187.518 2065.29 191.129 Q2068.46 194.74 2068.46 201.129 Q2068.46 207.495 2065.29 211.129 Q2062.12 214.74 2056.57 214.74 Q2050.99 214.74 2047.82 211.129 Q2044.67 207.495 2044.67 201.129 Q2044.67 194.74 2047.82 191.129 Q2050.99 187.518 2056.57 187.518 Z\" fill=\"#000000\" fill-rule=\"evenodd\" fill-opacity=\"1\" /><path clip-path=\"url(#clip680)\" d=\"M2095.71 193.12 Q2097.31 190.249 2099.53 188.884 Q2101.75 187.518 2104.76 187.518 Q2108.81 187.518 2111.01 190.365 Q2113.21 193.189 2113.21 198.421 L2113.21 214.069 L2108.93 214.069 L2108.93 198.559 Q2108.93 194.833 2107.61 193.027 Q2106.29 191.222 2103.58 191.222 Q2100.27 191.222 2098.35 193.421 Q2096.43 195.62 2096.43 199.416 L2096.43 214.069 L2092.14 214.069 L2092.14 198.559 Q2092.14 194.809 2090.83 193.027 Q2089.51 191.222 2086.75 191.222 Q2083.49 191.222 2081.57 193.444 Q2079.64 195.643 2079.64 199.416 L2079.64 214.069 L2075.36 214.069 L2075.36 188.143 L2079.64 188.143 L2079.64 192.171 Q2081.1 189.786 2083.14 188.652 Q2085.18 187.518 2087.98 187.518 Q2090.8 187.518 2092.77 188.953 Q2094.76 190.388 2095.71 193.12 Z\" fill=\"#000000\" fill-rule=\"evenodd\" fill-opacity=\"1\" /><path clip-path=\"url(#clip680)\" d=\"M2125.83 210.18 L2125.83 223.93 L2121.54 223.93 L2121.54 188.143 L2125.83 188.143 L2125.83 192.078 Q2127.17 189.763 2129.2 188.652 Q2131.26 187.518 2134.11 187.518 Q2138.83 187.518 2141.77 191.268 Q2144.74 195.018 2144.74 201.129 Q2144.74 207.24 2141.77 210.99 Q2138.83 214.74 2134.11 214.74 Q2131.26 214.74 2129.2 213.629 Q2127.17 212.495 2125.83 210.18 M2140.32 201.129 Q2140.32 196.43 2138.37 193.768 Q2136.45 191.083 2133.07 191.083 Q2129.69 191.083 2127.75 193.768 Q2125.83 196.43 2125.83 201.129 Q2125.83 205.828 2127.75 208.513 Q2129.69 211.175 2133.07 211.175 Q2136.45 211.175 2138.37 208.513 Q2140.32 205.828 2140.32 201.129 Z\" fill=\"#000000\" fill-rule=\"evenodd\" fill-opacity=\"1\" /><path clip-path=\"url(#clip680)\" d=\"M2161.84 191.129 Q2158.42 191.129 2156.43 193.814 Q2154.44 196.476 2154.44 201.129 Q2154.44 205.782 2156.4 208.467 Q2158.39 211.129 2161.84 211.129 Q2165.25 211.129 2167.24 208.444 Q2169.23 205.758 2169.23 201.129 Q2169.23 196.522 2167.24 193.837 Q2165.25 191.129 2161.84 191.129 M2161.84 187.518 Q2167.4 187.518 2170.57 191.129 Q2173.74 194.74 2173.74 201.129 Q2173.74 207.495 2170.57 211.129 Q2167.4 214.74 2161.84 214.74 Q2156.26 214.74 2153.09 211.129 Q2149.95 207.495 2149.95 201.129 Q2149.95 194.74 2153.09 191.129 Q2156.26 187.518 2161.84 187.518 Z\" fill=\"#000000\" fill-rule=\"evenodd\" fill-opacity=\"1\" /><path clip-path=\"url(#clip680)\" d=\"M2197.33 188.907 L2197.33 192.934 Q2195.52 192.009 2193.58 191.546 Q2191.64 191.083 2189.55 191.083 Q2186.38 191.083 2184.78 192.055 Q2183.21 193.027 2183.21 194.971 Q2183.21 196.453 2184.34 197.309 Q2185.48 198.143 2188.9 198.907 L2190.36 199.231 Q2194.9 200.203 2196.8 201.985 Q2198.72 203.745 2198.72 206.916 Q2198.72 210.527 2195.85 212.633 Q2193 214.74 2188 214.74 Q2185.92 214.74 2183.65 214.323 Q2181.4 213.93 2178.9 213.12 L2178.9 208.721 Q2181.26 209.948 2183.56 210.573 Q2185.85 211.175 2188.09 211.175 Q2191.1 211.175 2192.72 210.157 Q2194.34 209.115 2194.34 207.24 Q2194.34 205.504 2193.16 204.578 Q2192.01 203.652 2188.05 202.796 L2186.57 202.448 Q2182.61 201.615 2180.85 199.902 Q2179.09 198.166 2179.09 195.157 Q2179.09 191.499 2181.68 189.509 Q2184.27 187.518 2189.04 187.518 Q2191.4 187.518 2193.49 187.865 Q2195.57 188.212 2197.33 188.907 Z\" fill=\"#000000\" fill-rule=\"evenodd\" fill-opacity=\"1\" /><path clip-path=\"url(#clip680)\" d=\"M2227.68 200.041 L2227.68 202.124 L2208.09 202.124 Q2208.37 206.522 2210.73 208.837 Q2213.12 211.129 2217.35 211.129 Q2219.81 211.129 2222.1 210.527 Q2224.41 209.925 2226.68 208.721 L2226.68 212.749 Q2224.39 213.721 2221.98 214.231 Q2219.57 214.74 2217.1 214.74 Q2210.89 214.74 2207.26 211.129 Q2203.65 207.518 2203.65 201.36 Q2203.65 194.995 2207.07 191.268 Q2210.52 187.518 2216.36 187.518 Q2221.59 187.518 2224.62 190.897 Q2227.68 194.254 2227.68 200.041 M2223.42 198.791 Q2223.37 195.296 2221.45 193.212 Q2219.55 191.129 2216.4 191.129 Q2212.84 191.129 2210.69 193.143 Q2208.56 195.157 2208.23 198.814 L2223.42 198.791 Z\" fill=\"#000000\" fill-rule=\"evenodd\" fill-opacity=\"1\" /><path clip-path=\"url(#clip680)\" d=\"M2251.73 192.078 L2251.73 178.05 L2255.99 178.05 L2255.99 214.069 L2251.73 214.069 L2251.73 210.18 Q2250.38 212.495 2248.32 213.629 Q2246.29 214.74 2243.42 214.74 Q2238.72 214.74 2235.76 210.99 Q2232.82 207.24 2232.82 201.129 Q2232.82 195.018 2235.76 191.268 Q2238.72 187.518 2243.42 187.518 Q2246.29 187.518 2248.32 188.652 Q2250.38 189.763 2251.73 192.078 M2237.21 201.129 Q2237.21 205.828 2239.13 208.513 Q2241.08 211.175 2244.46 211.175 Q2247.84 211.175 2249.78 208.513 Q2251.73 205.828 2251.73 201.129 Q2251.73 196.43 2249.78 193.768 Q2247.84 191.083 2244.46 191.083 Q2241.08 191.083 2239.13 193.768 Q2237.21 196.43 2237.21 201.129 Z\" fill=\"#000000\" fill-rule=\"evenodd\" fill-opacity=\"1\" /></svg>\n"
      ]
     },
     "metadata": {},
     "output_type": "display_data"
    }
   ],
   "source": [
    "# solution time\n",
    "p1 = plot(1:nScenMax,solTimeTraj_s[1,:],xlabel=\"# scenarios\", ylabel=\"sol. time [s]\",marker=:circle, markercolor = :green,label=\"monolithic\")\n",
    "p1 = plot!(1:nScenMax,solTimeTraj_s[2,:],marker=:square, markercolor = :red,label=\"decomposed\",gridlinewidth=2)\n",
    "display(p1)"
   ]
  },
  {
   "cell_type": "code",
   "execution_count": 16,
   "id": "f9e5bfc5",
   "metadata": {},
   "outputs": [
    {
     "data": {
      "image/svg+xml": [
       "<?xml version=\"1.0\" encoding=\"utf-8\"?>\n",
       "<svg xmlns=\"http://www.w3.org/2000/svg\" xmlns:xlink=\"http://www.w3.org/1999/xlink\" width=\"600\" height=\"400\" viewBox=\"0 0 2400 1600\">\n",
       "<defs>\n",
       "  <clipPath id=\"clip720\">\n",
       "    <rect x=\"0\" y=\"0\" width=\"2400\" height=\"1600\"/>\n",
       "  </clipPath>\n",
       "</defs>\n",
       "<path clip-path=\"url(#clip720)\" d=\"M0 1600 L2400 1600 L2400 0 L0 0  Z\" fill=\"#ffffff\" fill-rule=\"evenodd\" fill-opacity=\"1\"/>\n",
       "<defs>\n",
       "  <clipPath id=\"clip721\">\n",
       "    <rect x=\"480\" y=\"0\" width=\"1681\" height=\"1600\"/>\n",
       "  </clipPath>\n",
       "</defs>\n",
       "<path clip-path=\"url(#clip720)\" d=\"M219.38 1423.18 L2352.76 1423.18 L2352.76 47.2441 L219.38 47.2441  Z\" fill=\"#ffffff\" fill-rule=\"evenodd\" fill-opacity=\"1\"/>\n",
       "<defs>\n",
       "  <clipPath id=\"clip722\">\n",
       "    <rect x=\"219\" y=\"47\" width=\"2134\" height=\"1377\"/>\n",
       "  </clipPath>\n",
       "</defs>\n",
       "<polyline clip-path=\"url(#clip722)\" style=\"stroke:#000000; stroke-linecap:round; stroke-linejoin:round; stroke-width:8; stroke-opacity:0.1; fill:none\" points=\"557.361,1423.18 557.361,47.2441 \"/>\n",
       "<polyline clip-path=\"url(#clip722)\" style=\"stroke:#000000; stroke-linecap:round; stroke-linejoin:round; stroke-width:8; stroke-opacity:0.1; fill:none\" points=\"904.364,1423.18 904.364,47.2441 \"/>\n",
       "<polyline clip-path=\"url(#clip722)\" style=\"stroke:#000000; stroke-linecap:round; stroke-linejoin:round; stroke-width:8; stroke-opacity:0.1; fill:none\" points=\"1251.37,1423.18 1251.37,47.2441 \"/>\n",
       "<polyline clip-path=\"url(#clip722)\" style=\"stroke:#000000; stroke-linecap:round; stroke-linejoin:round; stroke-width:8; stroke-opacity:0.1; fill:none\" points=\"1598.37,1423.18 1598.37,47.2441 \"/>\n",
       "<polyline clip-path=\"url(#clip722)\" style=\"stroke:#000000; stroke-linecap:round; stroke-linejoin:round; stroke-width:8; stroke-opacity:0.1; fill:none\" points=\"1945.37,1423.18 1945.37,47.2441 \"/>\n",
       "<polyline clip-path=\"url(#clip722)\" style=\"stroke:#000000; stroke-linecap:round; stroke-linejoin:round; stroke-width:8; stroke-opacity:0.1; fill:none\" points=\"2292.38,1423.18 2292.38,47.2441 \"/>\n",
       "<polyline clip-path=\"url(#clip720)\" style=\"stroke:#000000; stroke-linecap:round; stroke-linejoin:round; stroke-width:4; stroke-opacity:1; fill:none\" points=\"219.38,1423.18 2352.76,1423.18 \"/>\n",
       "<polyline clip-path=\"url(#clip720)\" style=\"stroke:#000000; stroke-linecap:round; stroke-linejoin:round; stroke-width:4; stroke-opacity:1; fill:none\" points=\"557.361,1423.18 557.361,1404.28 \"/>\n",
       "<polyline clip-path=\"url(#clip720)\" style=\"stroke:#000000; stroke-linecap:round; stroke-linejoin:round; stroke-width:4; stroke-opacity:1; fill:none\" points=\"904.364,1423.18 904.364,1404.28 \"/>\n",
       "<polyline clip-path=\"url(#clip720)\" style=\"stroke:#000000; stroke-linecap:round; stroke-linejoin:round; stroke-width:4; stroke-opacity:1; fill:none\" points=\"1251.37,1423.18 1251.37,1404.28 \"/>\n",
       "<polyline clip-path=\"url(#clip720)\" style=\"stroke:#000000; stroke-linecap:round; stroke-linejoin:round; stroke-width:4; stroke-opacity:1; fill:none\" points=\"1598.37,1423.18 1598.37,1404.28 \"/>\n",
       "<polyline clip-path=\"url(#clip720)\" style=\"stroke:#000000; stroke-linecap:round; stroke-linejoin:round; stroke-width:4; stroke-opacity:1; fill:none\" points=\"1945.37,1423.18 1945.37,1404.28 \"/>\n",
       "<polyline clip-path=\"url(#clip720)\" style=\"stroke:#000000; stroke-linecap:round; stroke-linejoin:round; stroke-width:4; stroke-opacity:1; fill:none\" points=\"2292.38,1423.18 2292.38,1404.28 \"/>\n",
       "<path clip-path=\"url(#clip720)\" d=\"M547.639 1451.02 L565.995 1451.02 L565.995 1454.96 L551.922 1454.96 L551.922 1463.43 Q552.94 1463.08 553.959 1462.92 Q554.977 1462.73 555.996 1462.73 Q561.783 1462.73 565.162 1465.9 Q568.542 1469.08 568.542 1474.49 Q568.542 1480.07 565.07 1483.17 Q561.597 1486.25 555.278 1486.25 Q553.102 1486.25 550.834 1485.88 Q548.588 1485.51 546.181 1484.77 L546.181 1480.07 Q548.264 1481.2 550.486 1481.76 Q552.709 1482.32 555.185 1482.32 Q559.19 1482.32 561.528 1480.21 Q563.866 1478.1 563.866 1474.49 Q563.866 1470.88 561.528 1468.77 Q559.19 1466.67 555.185 1466.67 Q553.31 1466.67 551.435 1467.08 Q549.584 1467.5 547.639 1468.38 L547.639 1451.02 Z\" fill=\"#000000\" fill-rule=\"evenodd\" fill-opacity=\"1\" /><path clip-path=\"url(#clip720)\" d=\"M879.052 1481.64 L886.691 1481.64 L886.691 1455.28 L878.381 1456.95 L878.381 1452.69 L886.645 1451.02 L891.321 1451.02 L891.321 1481.64 L898.959 1481.64 L898.959 1485.58 L879.052 1485.58 L879.052 1481.64 Z\" fill=\"#000000\" fill-rule=\"evenodd\" fill-opacity=\"1\" /><path clip-path=\"url(#clip720)\" d=\"M918.404 1454.1 Q914.793 1454.1 912.964 1457.66 Q911.158 1461.2 911.158 1468.33 Q911.158 1475.44 912.964 1479.01 Q914.793 1482.55 918.404 1482.55 Q922.038 1482.55 923.844 1479.01 Q925.672 1475.44 925.672 1468.33 Q925.672 1461.2 923.844 1457.66 Q922.038 1454.1 918.404 1454.1 M918.404 1450.39 Q924.214 1450.39 927.269 1455 Q930.348 1459.58 930.348 1468.33 Q930.348 1477.06 927.269 1481.67 Q924.214 1486.25 918.404 1486.25 Q912.594 1486.25 909.515 1481.67 Q906.459 1477.06 906.459 1468.33 Q906.459 1459.58 909.515 1455 Q912.594 1450.39 918.404 1450.39 Z\" fill=\"#000000\" fill-rule=\"evenodd\" fill-opacity=\"1\" /><path clip-path=\"url(#clip720)\" d=\"M1226.55 1481.64 L1234.19 1481.64 L1234.19 1455.28 L1225.88 1456.95 L1225.88 1452.69 L1234.15 1451.02 L1238.82 1451.02 L1238.82 1481.64 L1246.46 1481.64 L1246.46 1485.58 L1226.55 1485.58 L1226.55 1481.64 Z\" fill=\"#000000\" fill-rule=\"evenodd\" fill-opacity=\"1\" /><path clip-path=\"url(#clip720)\" d=\"M1255.95 1451.02 L1274.31 1451.02 L1274.31 1454.96 L1260.23 1454.96 L1260.23 1463.43 Q1261.25 1463.08 1262.27 1462.92 Q1263.29 1462.73 1264.31 1462.73 Q1270.09 1462.73 1273.47 1465.9 Q1276.85 1469.08 1276.85 1474.49 Q1276.85 1480.07 1273.38 1483.17 Q1269.91 1486.25 1263.59 1486.25 Q1261.41 1486.25 1259.15 1485.88 Q1256.9 1485.51 1254.49 1484.77 L1254.49 1480.07 Q1256.58 1481.2 1258.8 1481.76 Q1261.02 1482.32 1263.5 1482.32 Q1267.5 1482.32 1269.84 1480.21 Q1272.18 1478.1 1272.18 1474.49 Q1272.18 1470.88 1269.84 1468.77 Q1267.5 1466.67 1263.5 1466.67 Q1261.62 1466.67 1259.75 1467.08 Q1257.9 1467.5 1255.95 1468.38 L1255.95 1451.02 Z\" fill=\"#000000\" fill-rule=\"evenodd\" fill-opacity=\"1\" /><path clip-path=\"url(#clip720)\" d=\"M1577.14 1481.64 L1593.46 1481.64 L1593.46 1485.58 L1571.52 1485.58 L1571.52 1481.64 Q1574.18 1478.89 1578.76 1474.26 Q1583.37 1469.61 1584.55 1468.27 Q1586.8 1465.74 1587.68 1464.01 Q1588.58 1462.25 1588.58 1460.56 Q1588.58 1457.8 1586.63 1456.07 Q1584.71 1454.33 1581.61 1454.33 Q1579.41 1454.33 1576.96 1455.09 Q1574.53 1455.86 1571.75 1457.41 L1571.75 1452.69 Q1574.57 1451.55 1577.03 1450.97 Q1579.48 1450.39 1581.52 1450.39 Q1586.89 1450.39 1590.08 1453.08 Q1593.28 1455.77 1593.28 1460.26 Q1593.28 1462.39 1592.47 1464.31 Q1591.68 1466.2 1589.57 1468.8 Q1589 1469.47 1585.89 1472.69 Q1582.79 1475.88 1577.14 1481.64 Z\" fill=\"#000000\" fill-rule=\"evenodd\" fill-opacity=\"1\" /><path clip-path=\"url(#clip720)\" d=\"M1613.28 1454.1 Q1609.67 1454.1 1607.84 1457.66 Q1606.03 1461.2 1606.03 1468.33 Q1606.03 1475.44 1607.84 1479.01 Q1609.67 1482.55 1613.28 1482.55 Q1616.91 1482.55 1618.72 1479.01 Q1620.55 1475.44 1620.55 1468.33 Q1620.55 1461.2 1618.72 1457.66 Q1616.91 1454.1 1613.28 1454.1 M1613.28 1450.39 Q1619.09 1450.39 1622.14 1455 Q1625.22 1459.58 1625.22 1468.33 Q1625.22 1477.06 1622.14 1481.67 Q1619.09 1486.25 1613.28 1486.25 Q1607.47 1486.25 1604.39 1481.67 Q1601.33 1477.06 1601.33 1468.33 Q1601.33 1459.58 1604.39 1455 Q1607.47 1450.39 1613.28 1450.39 Z\" fill=\"#000000\" fill-rule=\"evenodd\" fill-opacity=\"1\" /><path clip-path=\"url(#clip720)\" d=\"M1924.65 1481.64 L1940.96 1481.64 L1940.96 1485.58 L1919.02 1485.58 L1919.02 1481.64 Q1921.68 1478.89 1926.27 1474.26 Q1930.87 1469.61 1932.05 1468.27 Q1934.3 1465.74 1935.18 1464.01 Q1936.08 1462.25 1936.08 1460.56 Q1936.08 1457.8 1934.14 1456.07 Q1932.21 1454.33 1929.11 1454.33 Q1926.91 1454.33 1924.46 1455.09 Q1922.03 1455.86 1919.25 1457.41 L1919.25 1452.69 Q1922.08 1451.55 1924.53 1450.97 Q1926.98 1450.39 1929.02 1450.39 Q1934.39 1450.39 1937.58 1453.08 Q1940.78 1455.77 1940.78 1460.26 Q1940.78 1462.39 1939.97 1464.31 Q1939.18 1466.2 1937.08 1468.8 Q1936.5 1469.47 1933.4 1472.69 Q1930.29 1475.88 1924.65 1481.64 Z\" fill=\"#000000\" fill-rule=\"evenodd\" fill-opacity=\"1\" /><path clip-path=\"url(#clip720)\" d=\"M1950.83 1451.02 L1969.18 1451.02 L1969.18 1454.96 L1955.11 1454.96 L1955.11 1463.43 Q1956.13 1463.08 1957.14 1462.92 Q1958.16 1462.73 1959.18 1462.73 Q1964.97 1462.73 1968.35 1465.9 Q1971.73 1469.08 1971.73 1474.49 Q1971.73 1480.07 1968.26 1483.17 Q1964.78 1486.25 1958.46 1486.25 Q1956.29 1486.25 1954.02 1485.88 Q1951.77 1485.51 1949.37 1484.77 L1949.37 1480.07 Q1951.45 1481.2 1953.67 1481.76 Q1955.89 1482.32 1958.37 1482.32 Q1962.38 1482.32 1964.71 1480.21 Q1967.05 1478.1 1967.05 1474.49 Q1967.05 1470.88 1964.71 1468.77 Q1962.38 1466.67 1958.37 1466.67 Q1956.5 1466.67 1954.62 1467.08 Q1952.77 1467.5 1950.83 1468.38 L1950.83 1451.02 Z\" fill=\"#000000\" fill-rule=\"evenodd\" fill-opacity=\"1\" /><path clip-path=\"url(#clip720)\" d=\"M2281.22 1466.95 Q2284.58 1467.66 2286.45 1469.93 Q2288.35 1472.2 2288.35 1475.53 Q2288.35 1480.65 2284.83 1483.45 Q2281.31 1486.25 2274.83 1486.25 Q2272.66 1486.25 2270.34 1485.81 Q2268.05 1485.39 2265.6 1484.54 L2265.6 1480.02 Q2267.54 1481.16 2269.85 1481.74 Q2272.17 1482.32 2274.69 1482.32 Q2279.09 1482.32 2281.38 1480.58 Q2283.7 1478.84 2283.7 1475.53 Q2283.7 1472.48 2281.54 1470.77 Q2279.41 1469.03 2275.6 1469.03 L2271.57 1469.03 L2271.57 1465.19 L2275.78 1465.19 Q2279.23 1465.19 2281.06 1463.82 Q2282.89 1462.43 2282.89 1459.84 Q2282.89 1457.18 2280.99 1455.77 Q2279.11 1454.33 2275.6 1454.33 Q2273.67 1454.33 2271.47 1454.75 Q2269.28 1455.16 2266.64 1456.04 L2266.64 1451.88 Q2269.3 1451.14 2271.61 1450.77 Q2273.95 1450.39 2276.01 1450.39 Q2281.34 1450.39 2284.44 1452.83 Q2287.54 1455.23 2287.54 1459.35 Q2287.54 1462.22 2285.9 1464.21 Q2284.25 1466.18 2281.22 1466.95 Z\" fill=\"#000000\" fill-rule=\"evenodd\" fill-opacity=\"1\" /><path clip-path=\"url(#clip720)\" d=\"M2307.22 1454.1 Q2303.6 1454.1 2301.78 1457.66 Q2299.97 1461.2 2299.97 1468.33 Q2299.97 1475.44 2301.78 1479.01 Q2303.6 1482.55 2307.22 1482.55 Q2310.85 1482.55 2312.66 1479.01 Q2314.48 1475.44 2314.48 1468.33 Q2314.48 1461.2 2312.66 1457.66 Q2310.85 1454.1 2307.22 1454.1 M2307.22 1450.39 Q2313.03 1450.39 2316.08 1455 Q2319.16 1459.58 2319.16 1468.33 Q2319.16 1477.06 2316.08 1481.67 Q2313.03 1486.25 2307.22 1486.25 Q2301.41 1486.25 2298.33 1481.67 Q2295.27 1477.06 2295.27 1468.33 Q2295.27 1459.58 2298.33 1455 Q2301.41 1450.39 2307.22 1450.39 Z\" fill=\"#000000\" fill-rule=\"evenodd\" fill-opacity=\"1\" /><path clip-path=\"url(#clip720)\" d=\"M1125.84 1539.37 L1116.58 1539.37 L1113.91 1550 L1123.23 1550 L1125.84 1539.37 M1121.07 1521.26 L1117.76 1534.46 L1127.05 1534.46 L1130.39 1521.26 L1135.49 1521.26 L1132.21 1534.46 L1142.14 1534.46 L1142.14 1539.37 L1130.97 1539.37 L1128.36 1550 L1138.48 1550 L1138.48 1554.87 L1127.12 1554.87 L1123.81 1568.04 L1118.71 1568.04 L1121.99 1554.87 L1112.67 1554.87 L1109.39 1568.04 L1104.26 1568.04 L1107.57 1554.87 L1097.55 1554.87 L1097.55 1550 L1108.75 1550 L1111.42 1539.37 L1101.18 1539.37 L1101.18 1534.46 L1112.67 1534.46 L1115.91 1521.26 L1121.07 1521.26 Z\" fill=\"#000000\" fill-rule=\"evenodd\" fill-opacity=\"1\" /><path clip-path=\"url(#clip720)\" d=\"M1196.73 1533.45 L1196.73 1538.98 Q1194.24 1537.71 1191.57 1537.07 Q1188.9 1536.44 1186.03 1536.44 Q1181.67 1536.44 1179.47 1537.77 Q1177.31 1539.11 1177.31 1541.79 Q1177.31 1543.82 1178.87 1545 Q1180.43 1546.15 1185.14 1547.2 L1187.14 1547.64 Q1193.38 1548.98 1195.99 1551.43 Q1198.64 1553.85 1198.64 1558.21 Q1198.64 1563.17 1194.69 1566.07 Q1190.77 1568.97 1183.9 1568.97 Q1181.03 1568.97 1177.91 1568.39 Q1174.83 1567.85 1171.39 1566.74 L1171.39 1560.69 Q1174.64 1562.38 1177.79 1563.24 Q1180.94 1564.07 1184.03 1564.07 Q1188.16 1564.07 1190.39 1562.66 Q1192.62 1561.23 1192.62 1558.65 Q1192.62 1556.27 1191 1554.99 Q1189.4 1553.72 1183.96 1552.54 L1181.93 1552.07 Q1176.48 1550.92 1174.06 1548.56 Q1171.64 1546.18 1171.64 1542.04 Q1171.64 1537.01 1175.21 1534.27 Q1178.77 1531.54 1185.33 1531.54 Q1188.58 1531.54 1191.44 1532.01 Q1194.31 1532.49 1196.73 1533.45 Z\" fill=\"#000000\" fill-rule=\"evenodd\" fill-opacity=\"1\" /><path clip-path=\"url(#clip720)\" d=\"M1233.61 1533.76 L1233.61 1539.24 Q1231.13 1537.87 1228.62 1537.2 Q1226.13 1536.5 1223.59 1536.5 Q1217.89 1536.5 1214.74 1540.13 Q1211.59 1543.73 1211.59 1550.25 Q1211.59 1556.78 1214.74 1560.4 Q1217.89 1564 1223.59 1564 Q1226.13 1564 1228.62 1563.33 Q1231.13 1562.63 1233.61 1561.26 L1233.61 1566.68 Q1231.16 1567.82 1228.52 1568.39 Q1225.91 1568.97 1222.95 1568.97 Q1214.9 1568.97 1210.16 1563.91 Q1205.41 1558.85 1205.41 1550.25 Q1205.41 1541.53 1210.19 1536.53 Q1214.99 1531.54 1223.33 1531.54 Q1226.04 1531.54 1228.62 1532.11 Q1231.2 1532.65 1233.61 1533.76 Z\" fill=\"#000000\" fill-rule=\"evenodd\" fill-opacity=\"1\" /><path clip-path=\"url(#clip720)\" d=\"M1274.29 1548.76 L1274.29 1551.62 L1247.36 1551.62 Q1247.75 1557.67 1250.99 1560.85 Q1254.27 1564 1260.1 1564 Q1263.47 1564 1266.62 1563.17 Q1269.8 1562.35 1272.92 1560.69 L1272.92 1566.23 Q1269.77 1567.57 1266.46 1568.27 Q1263.15 1568.97 1259.75 1568.97 Q1251.22 1568.97 1246.22 1564 Q1241.25 1559.04 1241.25 1550.57 Q1241.25 1541.82 1245.96 1536.69 Q1250.71 1531.54 1258.73 1531.54 Q1265.92 1531.54 1270.09 1536.18 Q1274.29 1540.8 1274.29 1548.76 M1268.44 1547.04 Q1268.37 1542.23 1265.73 1539.37 Q1263.12 1536.5 1258.79 1536.5 Q1253.89 1536.5 1250.93 1539.27 Q1248 1542.04 1247.56 1547.07 L1268.44 1547.04 Z\" fill=\"#000000\" fill-rule=\"evenodd\" fill-opacity=\"1\" /><path clip-path=\"url(#clip720)\" d=\"M1313.54 1546.53 L1313.54 1568.04 L1307.68 1568.04 L1307.68 1546.72 Q1307.68 1541.66 1305.71 1539.14 Q1303.73 1536.63 1299.79 1536.63 Q1295.04 1536.63 1292.31 1539.65 Q1289.57 1542.68 1289.57 1547.9 L1289.57 1568.04 L1283.68 1568.04 L1283.68 1532.4 L1289.57 1532.4 L1289.57 1537.93 Q1291.67 1534.72 1294.5 1533.13 Q1297.37 1531.54 1301.09 1531.54 Q1307.23 1531.54 1310.39 1535.36 Q1313.54 1539.14 1313.54 1546.53 Z\" fill=\"#000000\" fill-rule=\"evenodd\" fill-opacity=\"1\" /><path clip-path=\"url(#clip720)\" d=\"M1341.42 1550.12 Q1334.32 1550.12 1331.58 1551.75 Q1328.85 1553.37 1328.85 1557.29 Q1328.85 1560.4 1330.88 1562.25 Q1332.95 1564.07 1336.48 1564.07 Q1341.35 1564.07 1344.28 1560.63 Q1347.24 1557.16 1347.24 1551.43 L1347.24 1550.12 L1341.42 1550.12 M1353.1 1547.71 L1353.1 1568.04 L1347.24 1568.04 L1347.24 1562.63 Q1345.24 1565.88 1342.25 1567.44 Q1339.25 1568.97 1334.92 1568.97 Q1329.45 1568.97 1326.2 1565.91 Q1322.99 1562.82 1322.99 1557.67 Q1322.99 1551.65 1327 1548.6 Q1331.04 1545.54 1339.03 1545.54 L1347.24 1545.54 L1347.24 1544.97 Q1347.24 1540.93 1344.57 1538.73 Q1341.93 1536.5 1337.12 1536.5 Q1334.07 1536.5 1331.17 1537.23 Q1328.27 1537.97 1325.6 1539.43 L1325.6 1534.02 Q1328.81 1532.78 1331.84 1532.17 Q1334.86 1531.54 1337.73 1531.54 Q1345.46 1531.54 1349.28 1535.55 Q1353.1 1539.56 1353.1 1547.71 Z\" fill=\"#000000\" fill-rule=\"evenodd\" fill-opacity=\"1\" /><path clip-path=\"url(#clip720)\" d=\"M1385.82 1537.87 Q1384.83 1537.3 1383.65 1537.04 Q1382.51 1536.76 1381.11 1536.76 Q1376.14 1536.76 1373.47 1540 Q1370.83 1543.22 1370.83 1549.27 L1370.83 1568.04 L1364.94 1568.04 L1364.94 1532.4 L1370.83 1532.4 L1370.83 1537.93 Q1372.67 1534.69 1375.63 1533.13 Q1378.59 1531.54 1382.83 1531.54 Q1383.43 1531.54 1384.16 1531.63 Q1384.9 1531.7 1385.79 1531.85 L1385.82 1537.87 Z\" fill=\"#000000\" fill-rule=\"evenodd\" fill-opacity=\"1\" /><path clip-path=\"url(#clip720)\" d=\"M1391.96 1532.4 L1397.82 1532.4 L1397.82 1568.04 L1391.96 1568.04 L1391.96 1532.4 M1391.96 1518.52 L1397.82 1518.52 L1397.82 1525.93 L1391.96 1525.93 L1391.96 1518.52 Z\" fill=\"#000000\" fill-rule=\"evenodd\" fill-opacity=\"1\" /><path clip-path=\"url(#clip720)\" d=\"M1423.89 1536.5 Q1419.17 1536.5 1416.44 1540.19 Q1413.7 1543.85 1413.7 1550.25 Q1413.7 1556.65 1416.41 1560.34 Q1419.14 1564 1423.89 1564 Q1428.56 1564 1431.3 1560.31 Q1434.04 1556.62 1434.04 1550.25 Q1434.04 1543.92 1431.3 1540.23 Q1428.56 1536.5 1423.89 1536.5 M1423.89 1531.54 Q1431.52 1531.54 1435.88 1536.5 Q1440.25 1541.47 1440.25 1550.25 Q1440.25 1559 1435.88 1564 Q1431.52 1568.97 1423.89 1568.97 Q1416.21 1568.97 1411.85 1564 Q1407.53 1559 1407.53 1550.25 Q1407.53 1541.47 1411.85 1536.5 Q1416.21 1531.54 1423.89 1531.54 Z\" fill=\"#000000\" fill-rule=\"evenodd\" fill-opacity=\"1\" /><path clip-path=\"url(#clip720)\" d=\"M1472.68 1533.45 L1472.68 1538.98 Q1470.2 1537.71 1467.52 1537.07 Q1464.85 1536.44 1461.98 1536.44 Q1457.62 1536.44 1455.43 1537.77 Q1453.26 1539.11 1453.26 1541.79 Q1453.26 1543.82 1454.82 1545 Q1456.38 1546.15 1461.09 1547.2 L1463.1 1547.64 Q1469.34 1548.98 1471.95 1551.43 Q1474.59 1553.85 1474.59 1558.21 Q1474.59 1563.17 1470.64 1566.07 Q1466.73 1568.97 1459.85 1568.97 Q1456.99 1568.97 1453.87 1568.39 Q1450.78 1567.85 1447.34 1566.74 L1447.34 1560.69 Q1450.59 1562.38 1453.74 1563.24 Q1456.89 1564.07 1459.98 1564.07 Q1464.12 1564.07 1466.34 1562.66 Q1468.57 1561.23 1468.57 1558.65 Q1468.57 1556.27 1466.95 1554.99 Q1465.36 1553.72 1459.92 1552.54 L1457.88 1552.07 Q1452.44 1550.92 1450.02 1548.56 Q1447.6 1546.18 1447.6 1542.04 Q1447.6 1537.01 1451.16 1534.27 Q1454.73 1531.54 1461.28 1531.54 Q1464.53 1531.54 1467.4 1532.01 Q1470.26 1532.49 1472.68 1533.45 Z\" fill=\"#000000\" fill-rule=\"evenodd\" fill-opacity=\"1\" /><polyline clip-path=\"url(#clip722)\" style=\"stroke:#000000; stroke-linecap:round; stroke-linejoin:round; stroke-width:8; stroke-opacity:0.1; fill:none\" points=\"219.38,1384.24 2352.76,1384.24 \"/>\n",
       "<polyline clip-path=\"url(#clip722)\" style=\"stroke:#000000; stroke-linecap:round; stroke-linejoin:round; stroke-width:8; stroke-opacity:0.1; fill:none\" points=\"219.38,961.97 2352.76,961.97 \"/>\n",
       "<polyline clip-path=\"url(#clip722)\" style=\"stroke:#000000; stroke-linecap:round; stroke-linejoin:round; stroke-width:8; stroke-opacity:0.1; fill:none\" points=\"219.38,539.702 2352.76,539.702 \"/>\n",
       "<polyline clip-path=\"url(#clip722)\" style=\"stroke:#000000; stroke-linecap:round; stroke-linejoin:round; stroke-width:8; stroke-opacity:0.1; fill:none\" points=\"219.38,117.433 2352.76,117.433 \"/>\n",
       "<polyline clip-path=\"url(#clip720)\" style=\"stroke:#000000; stroke-linecap:round; stroke-linejoin:round; stroke-width:4; stroke-opacity:1; fill:none\" points=\"219.38,1423.18 219.38,47.2441 \"/>\n",
       "<polyline clip-path=\"url(#clip720)\" style=\"stroke:#000000; stroke-linecap:round; stroke-linejoin:round; stroke-width:4; stroke-opacity:1; fill:none\" points=\"219.38,1384.24 238.278,1384.24 \"/>\n",
       "<polyline clip-path=\"url(#clip720)\" style=\"stroke:#000000; stroke-linecap:round; stroke-linejoin:round; stroke-width:4; stroke-opacity:1; fill:none\" points=\"219.38,961.97 238.278,961.97 \"/>\n",
       "<polyline clip-path=\"url(#clip720)\" style=\"stroke:#000000; stroke-linecap:round; stroke-linejoin:round; stroke-width:4; stroke-opacity:1; fill:none\" points=\"219.38,539.702 238.278,539.702 \"/>\n",
       "<polyline clip-path=\"url(#clip720)\" style=\"stroke:#000000; stroke-linecap:round; stroke-linejoin:round; stroke-width:4; stroke-opacity:1; fill:none\" points=\"219.38,117.433 238.278,117.433 \"/>\n",
       "<path clip-path=\"url(#clip720)\" d=\"M126.205 1370.04 Q122.593 1370.04 120.765 1373.6 Q118.959 1377.14 118.959 1384.27 Q118.959 1391.38 120.765 1394.94 Q122.593 1398.49 126.205 1398.49 Q129.839 1398.49 131.644 1394.94 Q133.473 1391.38 133.473 1384.27 Q133.473 1377.14 131.644 1373.6 Q129.839 1370.04 126.205 1370.04 M126.205 1366.33 Q132.015 1366.33 135.07 1370.94 Q138.149 1375.52 138.149 1384.27 Q138.149 1393 135.07 1397.61 Q132.015 1402.19 126.205 1402.19 Q120.394 1402.19 117.316 1397.61 Q114.26 1393 114.26 1384.27 Q114.26 1375.52 117.316 1370.94 Q120.394 1366.33 126.205 1366.33 Z\" fill=\"#000000\" fill-rule=\"evenodd\" fill-opacity=\"1\" /><path clip-path=\"url(#clip720)\" d=\"M146.366 1395.64 L151.251 1395.64 L151.251 1401.52 L146.366 1401.52 L146.366 1395.64 Z\" fill=\"#000000\" fill-rule=\"evenodd\" fill-opacity=\"1\" /><path clip-path=\"url(#clip720)\" d=\"M171.436 1370.04 Q167.825 1370.04 165.996 1373.6 Q164.19 1377.14 164.19 1384.27 Q164.19 1391.38 165.996 1394.94 Q167.825 1398.49 171.436 1398.49 Q175.07 1398.49 176.876 1394.94 Q178.704 1391.38 178.704 1384.27 Q178.704 1377.14 176.876 1373.6 Q175.07 1370.04 171.436 1370.04 M171.436 1366.33 Q177.246 1366.33 180.301 1370.94 Q183.38 1375.52 183.38 1384.27 Q183.38 1393 180.301 1397.61 Q177.246 1402.19 171.436 1402.19 Q165.626 1402.19 162.547 1397.61 Q159.491 1393 159.491 1384.27 Q159.491 1375.52 162.547 1370.94 Q165.626 1366.33 171.436 1366.33 Z\" fill=\"#000000\" fill-rule=\"evenodd\" fill-opacity=\"1\" /><path clip-path=\"url(#clip720)\" d=\"M127.2 947.769 Q123.589 947.769 121.76 951.333 Q119.955 954.875 119.955 962.005 Q119.955 969.111 121.76 972.676 Q123.589 976.218 127.2 976.218 Q130.834 976.218 132.64 972.676 Q134.468 969.111 134.468 962.005 Q134.468 954.875 132.64 951.333 Q130.834 947.769 127.2 947.769 M127.2 944.065 Q133.01 944.065 136.066 948.671 Q139.144 953.255 139.144 962.005 Q139.144 970.732 136.066 975.338 Q133.01 979.921 127.2 979.921 Q121.39 979.921 118.311 975.338 Q115.256 970.732 115.256 962.005 Q115.256 953.255 118.311 948.671 Q121.39 944.065 127.2 944.065 Z\" fill=\"#000000\" fill-rule=\"evenodd\" fill-opacity=\"1\" /><path clip-path=\"url(#clip720)\" d=\"M147.362 973.37 L152.246 973.37 L152.246 979.25 L147.362 979.25 L147.362 973.37 Z\" fill=\"#000000\" fill-rule=\"evenodd\" fill-opacity=\"1\" /><path clip-path=\"url(#clip720)\" d=\"M162.477 944.69 L180.834 944.69 L180.834 948.625 L166.76 948.625 L166.76 957.097 Q167.778 956.75 168.797 956.588 Q169.815 956.403 170.834 956.403 Q176.621 956.403 180.001 959.574 Q183.38 962.745 183.38 968.162 Q183.38 973.741 179.908 976.843 Q176.436 979.921 170.116 979.921 Q167.94 979.921 165.672 979.551 Q163.427 979.181 161.019 978.44 L161.019 973.741 Q163.102 974.875 165.325 975.431 Q167.547 975.986 170.024 975.986 Q174.028 975.986 176.366 973.88 Q178.704 971.773 178.704 968.162 Q178.704 964.551 176.366 962.445 Q174.028 960.338 170.024 960.338 Q168.149 960.338 166.274 960.755 Q164.422 961.171 162.477 962.051 L162.477 944.69 Z\" fill=\"#000000\" fill-rule=\"evenodd\" fill-opacity=\"1\" /><path clip-path=\"url(#clip720)\" d=\"M117.015 553.047 L124.654 553.047 L124.654 526.681 L116.343 528.348 L116.343 524.088 L124.607 522.422 L129.283 522.422 L129.283 553.047 L136.922 553.047 L136.922 556.982 L117.015 556.982 L117.015 553.047 Z\" fill=\"#000000\" fill-rule=\"evenodd\" fill-opacity=\"1\" /><path clip-path=\"url(#clip720)\" d=\"M146.366 551.102 L151.251 551.102 L151.251 556.982 L146.366 556.982 L146.366 551.102 Z\" fill=\"#000000\" fill-rule=\"evenodd\" fill-opacity=\"1\" /><path clip-path=\"url(#clip720)\" d=\"M171.436 525.5 Q167.825 525.5 165.996 529.065 Q164.19 532.607 164.19 539.736 Q164.19 546.843 165.996 550.408 Q167.825 553.949 171.436 553.949 Q175.07 553.949 176.876 550.408 Q178.704 546.843 178.704 539.736 Q178.704 532.607 176.876 529.065 Q175.07 525.5 171.436 525.5 M171.436 521.797 Q177.246 521.797 180.301 526.403 Q183.38 530.987 183.38 539.736 Q183.38 548.463 180.301 553.07 Q177.246 557.653 171.436 557.653 Q165.626 557.653 162.547 553.07 Q159.491 548.463 159.491 539.736 Q159.491 530.987 162.547 526.403 Q165.626 521.797 171.436 521.797 Z\" fill=\"#000000\" fill-rule=\"evenodd\" fill-opacity=\"1\" /><path clip-path=\"url(#clip720)\" d=\"M118.01 130.778 L125.649 130.778 L125.649 104.413 L117.339 106.079 L117.339 101.82 L125.603 100.153 L130.279 100.153 L130.279 130.778 L137.917 130.778 L137.917 134.713 L118.01 134.713 L118.01 130.778 Z\" fill=\"#000000\" fill-rule=\"evenodd\" fill-opacity=\"1\" /><path clip-path=\"url(#clip720)\" d=\"M147.362 128.834 L152.246 128.834 L152.246 134.713 L147.362 134.713 L147.362 128.834 Z\" fill=\"#000000\" fill-rule=\"evenodd\" fill-opacity=\"1\" /><path clip-path=\"url(#clip720)\" d=\"M162.477 100.153 L180.834 100.153 L180.834 104.089 L166.76 104.089 L166.76 112.561 Q167.778 112.214 168.797 112.052 Q169.815 111.866 170.834 111.866 Q176.621 111.866 180.001 115.038 Q183.38 118.209 183.38 123.626 Q183.38 129.204 179.908 132.306 Q176.436 135.385 170.116 135.385 Q167.94 135.385 165.672 135.014 Q163.427 134.644 161.019 133.903 L161.019 129.204 Q163.102 130.338 165.325 130.894 Q167.547 131.45 170.024 131.45 Q174.028 131.45 176.366 129.343 Q178.704 127.237 178.704 123.626 Q178.704 120.014 176.366 117.908 Q174.028 115.802 170.024 115.802 Q168.149 115.802 166.274 116.218 Q164.422 116.635 162.477 117.514 L162.477 100.153 Z\" fill=\"#000000\" fill-rule=\"evenodd\" fill-opacity=\"1\" /><path clip-path=\"url(#clip720)\" d=\"M29.4065 1005.21 L34.9447 1005.21 Q33.6716 1007.7 33.035 1010.37 Q32.3984 1013.04 32.3984 1015.91 Q32.3984 1020.27 33.7352 1022.46 Q35.072 1024.63 37.7456 1024.63 Q39.7826 1024.63 40.9603 1023.07 Q42.1061 1021.51 43.1565 1016.8 L43.6021 1014.79 Q44.9389 1008.56 47.3897 1005.95 Q49.8086 1003.3 54.1691 1003.3 Q59.1344 1003.3 62.0308 1007.25 Q64.9272 1011.17 64.9272 1018.04 Q64.9272 1020.9 64.3543 1024.02 Q63.8132 1027.11 62.6992 1030.55 L56.6518 1030.55 Q58.3387 1027.3 59.198 1024.15 Q60.0256 1021 60.0256 1017.91 Q60.0256 1013.78 58.6251 1011.55 Q57.1929 1009.32 54.6147 1009.32 Q52.2276 1009.32 50.9545 1010.94 Q49.6813 1012.53 48.5037 1017.98 L48.0262 1020.01 Q46.8804 1025.46 44.5251 1027.88 Q42.138 1030.29 38.0002 1030.29 Q32.9713 1030.29 30.2341 1026.73 Q27.4968 1023.16 27.4968 1016.61 Q27.4968 1013.36 27.9743 1010.5 Q28.4517 1007.63 29.4065 1005.21 Z\" fill=\"#000000\" fill-rule=\"evenodd\" fill-opacity=\"1\" /><path clip-path=\"url(#clip720)\" d=\"M32.4621 980.164 Q32.4621 984.875 36.1542 987.612 Q39.8145 990.349 46.212 990.349 Q52.6095 990.349 56.3017 987.644 Q59.9619 984.907 59.9619 980.164 Q59.9619 975.486 56.2698 972.748 Q52.5777 970.011 46.212 970.011 Q39.8781 970.011 36.186 972.748 Q32.4621 975.486 32.4621 980.164 M27.4968 980.164 Q27.4968 972.526 32.4621 968.165 Q37.4273 963.804 46.212 963.804 Q54.9649 963.804 59.9619 968.165 Q64.9272 972.526 64.9272 980.164 Q64.9272 987.835 59.9619 992.196 Q54.9649 996.524 46.212 996.524 Q37.4273 996.524 32.4621 992.196 Q27.4968 987.835 27.4968 980.164 Z\" fill=\"#000000\" fill-rule=\"evenodd\" fill-opacity=\"1\" /><path clip-path=\"url(#clip720)\" d=\"M14.479 954.097 L14.479 948.24 L64.0042 948.24 L64.0042 954.097 L14.479 954.097 Z\" fill=\"#000000\" fill-rule=\"evenodd\" fill-opacity=\"1\" /><path clip-path=\"url(#clip720)\" d=\"M55.9197 935.159 L55.9197 928.443 L64.0042 928.443 L64.0042 935.159 L55.9197 935.159 Z\" fill=\"#000000\" fill-rule=\"evenodd\" fill-opacity=\"1\" /><path clip-path=\"url(#clip720)\" d=\"M18.2347 888.753 L28.3562 888.753 L28.3562 876.69 L32.9077 876.69 L32.9077 888.753 L52.2594 888.753 Q56.6199 888.753 57.8613 887.575 Q59.1026 886.366 59.1026 882.705 L59.1026 876.69 L64.0042 876.69 L64.0042 882.705 Q64.0042 889.485 61.4897 892.063 Q58.9434 894.641 52.2594 894.641 L32.9077 894.641 L32.9077 898.938 L28.3562 898.938 L28.3562 894.641 L18.2347 894.641 L18.2347 888.753 Z\" fill=\"#000000\" fill-rule=\"evenodd\" fill-opacity=\"1\" /><path clip-path=\"url(#clip720)\" d=\"M28.3562 868.987 L28.3562 863.131 L64.0042 863.131 L64.0042 868.987 L28.3562 868.987 M14.479 868.987 L14.479 863.131 L21.895 863.131 L21.895 868.987 L14.479 868.987 Z\" fill=\"#000000\" fill-rule=\"evenodd\" fill-opacity=\"1\" /><path clip-path=\"url(#clip720)\" d=\"M35.1993 823.122 Q31.2526 820.926 29.3747 817.871 Q27.4968 814.815 27.4968 810.677 Q27.4968 805.107 31.4117 802.084 Q35.2948 799.06 42.4881 799.06 L64.0042 799.06 L64.0042 804.948 L42.679 804.948 Q37.5546 804.948 35.072 806.763 Q32.5894 808.577 32.5894 812.301 Q32.5894 816.852 35.6131 819.494 Q38.6368 822.136 43.8567 822.136 L64.0042 822.136 L64.0042 828.024 L42.679 828.024 Q37.5228 828.024 35.072 829.838 Q32.5894 831.652 32.5894 835.44 Q32.5894 839.928 35.6449 842.57 Q38.6686 845.211 43.8567 845.211 L64.0042 845.211 L64.0042 851.1 L28.3562 851.1 L28.3562 845.211 L33.8944 845.211 Q30.616 843.206 29.0564 840.405 Q27.4968 837.604 27.4968 833.753 Q27.4968 829.87 29.4702 827.165 Q31.4436 824.427 35.1993 823.122 Z\" fill=\"#000000\" fill-rule=\"evenodd\" fill-opacity=\"1\" /><path clip-path=\"url(#clip720)\" d=\"M44.7161 756.887 L47.5806 756.887 L47.5806 783.814 Q53.6281 783.432 56.8109 780.186 Q59.9619 776.907 59.9619 771.083 Q59.9619 767.709 59.1344 764.558 Q58.3069 761.375 56.6518 758.256 L62.1899 758.256 Q63.5267 761.407 64.227 764.717 Q64.9272 768.027 64.9272 771.433 Q64.9272 779.963 59.9619 784.96 Q54.9967 789.925 46.5303 789.925 Q37.7774 789.925 32.6531 785.215 Q27.4968 780.472 27.4968 772.451 Q27.4968 765.258 32.1438 761.089 Q36.7589 756.887 44.7161 756.887 M42.9973 762.744 Q38.1912 762.807 35.3266 765.449 Q32.4621 768.059 32.4621 772.388 Q32.4621 777.289 35.2312 780.249 Q38.0002 783.178 43.0292 783.623 L42.9973 762.744 Z\" fill=\"#000000\" fill-rule=\"evenodd\" fill-opacity=\"1\" /><path clip-path=\"url(#clip720)\" d=\"M14.5426 712.486 Q21.8632 716.751 29.0246 718.82 Q36.186 720.889 43.5384 720.889 Q50.8908 720.889 58.1159 718.82 Q65.3091 716.72 72.5979 712.486 L72.5979 717.579 Q65.1182 722.353 57.8931 724.74 Q50.668 727.096 43.5384 727.096 Q36.4406 727.096 29.2474 724.74 Q22.0542 722.385 14.5426 717.579 L14.5426 712.486 Z\" fill=\"#000000\" fill-rule=\"evenodd\" fill-opacity=\"1\" /><path clip-path=\"url(#clip720)\" d=\"M35.1993 673.369 Q31.2526 671.173 29.3747 668.117 Q27.4968 665.062 27.4968 660.924 Q27.4968 655.354 31.4117 652.33 Q35.2948 649.307 42.4881 649.307 L64.0042 649.307 L64.0042 655.195 L42.679 655.195 Q37.5546 655.195 35.072 657.009 Q32.5894 658.823 32.5894 662.547 Q32.5894 667.099 35.6131 669.741 Q38.6368 672.382 43.8567 672.382 L64.0042 672.382 L64.0042 678.271 L42.679 678.271 Q37.5228 678.271 35.072 680.085 Q32.5894 681.899 32.5894 685.687 Q32.5894 690.175 35.6449 692.816 Q38.6686 695.458 43.8567 695.458 L64.0042 695.458 L64.0042 701.346 L28.3562 701.346 L28.3562 695.458 L33.8944 695.458 Q30.616 693.453 29.0564 690.652 Q27.4968 687.851 27.4968 684 Q27.4968 680.117 29.4702 677.411 Q31.4436 674.674 35.1993 673.369 Z\" fill=\"#000000\" fill-rule=\"evenodd\" fill-opacity=\"1\" /><path clip-path=\"url(#clip720)\" d=\"M46.0847 621.425 Q46.0847 628.523 47.7079 631.26 Q49.3312 633.997 53.2461 633.997 Q56.3653 633.997 58.2114 631.96 Q60.0256 629.891 60.0256 626.358 Q60.0256 621.489 56.5881 618.56 Q53.1188 615.6 47.3897 615.6 L46.0847 615.6 L46.0847 621.425 M43.6657 609.744 L64.0042 609.744 L64.0042 615.6 L58.5933 615.6 Q61.8398 617.606 63.3994 620.597 Q64.9272 623.589 64.9272 627.918 Q64.9272 633.392 61.8716 636.639 Q58.7843 639.854 53.6281 639.854 Q47.6125 639.854 44.5569 635.843 Q41.5014 631.801 41.5014 623.812 L41.5014 615.6 L40.9285 615.6 Q36.8862 615.6 34.6901 618.274 Q32.4621 620.916 32.4621 625.722 Q32.4621 628.777 33.1941 631.674 Q33.9262 634.57 35.3903 637.244 L29.9795 637.244 Q28.7381 634.029 28.1334 631.005 Q27.4968 627.982 27.4968 625.117 Q27.4968 617.383 31.5072 613.563 Q35.5176 609.744 43.6657 609.744 Z\" fill=\"#000000\" fill-rule=\"evenodd\" fill-opacity=\"1\" /><path clip-path=\"url(#clip720)\" d=\"M28.3562 568.049 L45.7028 580.939 L64.0042 567.38 L64.0042 574.287 L49.9996 584.663 L64.0042 595.039 L64.0042 601.946 L45.3526 588.1 L28.3562 600.768 L28.3562 593.861 L41.0558 584.408 L28.3562 574.955 L28.3562 568.049 Z\" fill=\"#000000\" fill-rule=\"evenodd\" fill-opacity=\"1\" /><path clip-path=\"url(#clip720)\" d=\"M14.5426 560.028 L14.5426 554.935 Q22.0542 550.161 29.2474 547.806 Q36.4406 545.418 43.5384 545.418 Q50.668 545.418 57.8931 547.806 Q65.1182 550.161 72.5979 554.935 L72.5979 560.028 Q65.3091 555.795 58.1159 553.726 Q50.8908 551.625 43.5384 551.625 Q36.186 551.625 29.0246 553.726 Q21.8632 555.795 14.5426 560.028 Z\" fill=\"#000000\" fill-rule=\"evenodd\" fill-opacity=\"1\" /><path clip-path=\"url(#clip720)\" d=\"M14.479 513.494 L14.479 499.999 L19.0304 499.999 L19.0304 507.638 L68.0464 507.638 L68.0464 499.999 L72.5979 499.999 L72.5979 513.494 L14.479 513.494 Z\" fill=\"#000000\" fill-rule=\"evenodd\" fill-opacity=\"1\" /><path clip-path=\"url(#clip720)\" d=\"M29.4065 464.797 L34.9447 464.797 Q33.6716 467.279 33.035 469.953 Q32.3984 472.627 32.3984 475.491 Q32.3984 479.852 33.7352 482.048 Q35.072 484.212 37.7456 484.212 Q39.7826 484.212 40.9603 482.653 Q42.1061 481.093 43.1565 476.382 L43.6021 474.377 Q44.9389 468.139 47.3897 465.529 Q49.8086 462.887 54.1691 462.887 Q59.1344 462.887 62.0308 466.834 Q64.9272 470.749 64.9272 477.624 Q64.9272 480.488 64.3543 483.607 Q63.8132 486.695 62.6992 490.132 L56.6518 490.132 Q58.3387 486.886 59.198 483.735 Q60.0256 480.584 60.0256 477.496 Q60.0256 473.359 58.6251 471.131 Q57.1929 468.903 54.6147 468.903 Q52.2276 468.903 50.9545 470.526 Q49.6813 472.117 48.5037 477.56 L48.0262 479.597 Q46.8804 485.04 44.5251 487.459 Q42.138 489.878 38.0002 489.878 Q32.9713 489.878 30.2341 486.313 Q27.4968 482.748 27.4968 476.191 Q27.4968 472.945 27.9743 470.08 Q28.4517 467.216 29.4065 464.797 Z\" fill=\"#000000\" fill-rule=\"evenodd\" fill-opacity=\"1\" /><path clip-path=\"url(#clip720)\" d=\"M14.479 439.875 L72.5979 439.875 L72.5979 453.37 L68.0464 453.37 L68.0464 445.763 L19.0304 445.763 L19.0304 453.37 L14.479 453.37 L14.479 439.875 Z\" fill=\"#000000\" fill-rule=\"evenodd\" fill-opacity=\"1\" /><polyline clip-path=\"url(#clip722)\" style=\"stroke:#009af9; stroke-linecap:round; stroke-linejoin:round; stroke-width:4; stroke-opacity:1; fill:none\" points=\"279.759,1343.7 349.159,1312.45 418.56,1267.69 487.961,1246.58 557.361,1384.24 626.762,1384.24 696.163,1384.24 765.563,1384.24 834.964,1384.24 904.364,1384.24 973.765,1384.24 1043.17,1384.24 1112.57,1384.24 1181.97,1384.24 1251.37,1384.24 1320.77,1384.24 1390.17,1384.24 1459.57,1384.24 1528.97,1384.24 1598.37,1384.24 1667.77,1384.24 1737.17,1384.24 1806.57,1384.24 1875.97,1384.24 1945.37,1384.24 2014.77,1384.24 2084.18,1384.24 2153.58,1384.24 2222.98,1384.24 2292.38,1384.24 \"/>\n",
       "<circle clip-path=\"url(#clip722)\" cx=\"279.759\" cy=\"1343.7\" r=\"14.4\" fill=\"#008000\" fill-rule=\"evenodd\" fill-opacity=\"1\" stroke=\"#000000\" stroke-opacity=\"1\" stroke-width=\"3.2\"/>\n",
       "<circle clip-path=\"url(#clip722)\" cx=\"349.159\" cy=\"1312.45\" r=\"14.4\" fill=\"#008000\" fill-rule=\"evenodd\" fill-opacity=\"1\" stroke=\"#000000\" stroke-opacity=\"1\" stroke-width=\"3.2\"/>\n",
       "<circle clip-path=\"url(#clip722)\" cx=\"418.56\" cy=\"1267.69\" r=\"14.4\" fill=\"#008000\" fill-rule=\"evenodd\" fill-opacity=\"1\" stroke=\"#000000\" stroke-opacity=\"1\" stroke-width=\"3.2\"/>\n",
       "<circle clip-path=\"url(#clip722)\" cx=\"487.961\" cy=\"1246.58\" r=\"14.4\" fill=\"#008000\" fill-rule=\"evenodd\" fill-opacity=\"1\" stroke=\"#000000\" stroke-opacity=\"1\" stroke-width=\"3.2\"/>\n",
       "<circle clip-path=\"url(#clip722)\" cx=\"557.361\" cy=\"1384.24\" r=\"14.4\" fill=\"#008000\" fill-rule=\"evenodd\" fill-opacity=\"1\" stroke=\"#000000\" stroke-opacity=\"1\" stroke-width=\"3.2\"/>\n",
       "<circle clip-path=\"url(#clip722)\" cx=\"626.762\" cy=\"1384.24\" r=\"14.4\" fill=\"#008000\" fill-rule=\"evenodd\" fill-opacity=\"1\" stroke=\"#000000\" stroke-opacity=\"1\" stroke-width=\"3.2\"/>\n",
       "<circle clip-path=\"url(#clip722)\" cx=\"696.163\" cy=\"1384.24\" r=\"14.4\" fill=\"#008000\" fill-rule=\"evenodd\" fill-opacity=\"1\" stroke=\"#000000\" stroke-opacity=\"1\" stroke-width=\"3.2\"/>\n",
       "<circle clip-path=\"url(#clip722)\" cx=\"765.563\" cy=\"1384.24\" r=\"14.4\" fill=\"#008000\" fill-rule=\"evenodd\" fill-opacity=\"1\" stroke=\"#000000\" stroke-opacity=\"1\" stroke-width=\"3.2\"/>\n",
       "<circle clip-path=\"url(#clip722)\" cx=\"834.964\" cy=\"1384.24\" r=\"14.4\" fill=\"#008000\" fill-rule=\"evenodd\" fill-opacity=\"1\" stroke=\"#000000\" stroke-opacity=\"1\" stroke-width=\"3.2\"/>\n",
       "<circle clip-path=\"url(#clip722)\" cx=\"904.364\" cy=\"1384.24\" r=\"14.4\" fill=\"#008000\" fill-rule=\"evenodd\" fill-opacity=\"1\" stroke=\"#000000\" stroke-opacity=\"1\" stroke-width=\"3.2\"/>\n",
       "<circle clip-path=\"url(#clip722)\" cx=\"973.765\" cy=\"1384.24\" r=\"14.4\" fill=\"#008000\" fill-rule=\"evenodd\" fill-opacity=\"1\" stroke=\"#000000\" stroke-opacity=\"1\" stroke-width=\"3.2\"/>\n",
       "<circle clip-path=\"url(#clip722)\" cx=\"1043.17\" cy=\"1384.24\" r=\"14.4\" fill=\"#008000\" fill-rule=\"evenodd\" fill-opacity=\"1\" stroke=\"#000000\" stroke-opacity=\"1\" stroke-width=\"3.2\"/>\n",
       "<circle clip-path=\"url(#clip722)\" cx=\"1112.57\" cy=\"1384.24\" r=\"14.4\" fill=\"#008000\" fill-rule=\"evenodd\" fill-opacity=\"1\" stroke=\"#000000\" stroke-opacity=\"1\" stroke-width=\"3.2\"/>\n",
       "<circle clip-path=\"url(#clip722)\" cx=\"1181.97\" cy=\"1384.24\" r=\"14.4\" fill=\"#008000\" fill-rule=\"evenodd\" fill-opacity=\"1\" stroke=\"#000000\" stroke-opacity=\"1\" stroke-width=\"3.2\"/>\n",
       "<circle clip-path=\"url(#clip722)\" cx=\"1251.37\" cy=\"1384.24\" r=\"14.4\" fill=\"#008000\" fill-rule=\"evenodd\" fill-opacity=\"1\" stroke=\"#000000\" stroke-opacity=\"1\" stroke-width=\"3.2\"/>\n",
       "<circle clip-path=\"url(#clip722)\" cx=\"1320.77\" cy=\"1384.24\" r=\"14.4\" fill=\"#008000\" fill-rule=\"evenodd\" fill-opacity=\"1\" stroke=\"#000000\" stroke-opacity=\"1\" stroke-width=\"3.2\"/>\n",
       "<circle clip-path=\"url(#clip722)\" cx=\"1390.17\" cy=\"1384.24\" r=\"14.4\" fill=\"#008000\" fill-rule=\"evenodd\" fill-opacity=\"1\" stroke=\"#000000\" stroke-opacity=\"1\" stroke-width=\"3.2\"/>\n",
       "<circle clip-path=\"url(#clip722)\" cx=\"1459.57\" cy=\"1384.24\" r=\"14.4\" fill=\"#008000\" fill-rule=\"evenodd\" fill-opacity=\"1\" stroke=\"#000000\" stroke-opacity=\"1\" stroke-width=\"3.2\"/>\n",
       "<circle clip-path=\"url(#clip722)\" cx=\"1528.97\" cy=\"1384.24\" r=\"14.4\" fill=\"#008000\" fill-rule=\"evenodd\" fill-opacity=\"1\" stroke=\"#000000\" stroke-opacity=\"1\" stroke-width=\"3.2\"/>\n",
       "<circle clip-path=\"url(#clip722)\" cx=\"1598.37\" cy=\"1384.24\" r=\"14.4\" fill=\"#008000\" fill-rule=\"evenodd\" fill-opacity=\"1\" stroke=\"#000000\" stroke-opacity=\"1\" stroke-width=\"3.2\"/>\n",
       "<circle clip-path=\"url(#clip722)\" cx=\"1667.77\" cy=\"1384.24\" r=\"14.4\" fill=\"#008000\" fill-rule=\"evenodd\" fill-opacity=\"1\" stroke=\"#000000\" stroke-opacity=\"1\" stroke-width=\"3.2\"/>\n",
       "<circle clip-path=\"url(#clip722)\" cx=\"1737.17\" cy=\"1384.24\" r=\"14.4\" fill=\"#008000\" fill-rule=\"evenodd\" fill-opacity=\"1\" stroke=\"#000000\" stroke-opacity=\"1\" stroke-width=\"3.2\"/>\n",
       "<circle clip-path=\"url(#clip722)\" cx=\"1806.57\" cy=\"1384.24\" r=\"14.4\" fill=\"#008000\" fill-rule=\"evenodd\" fill-opacity=\"1\" stroke=\"#000000\" stroke-opacity=\"1\" stroke-width=\"3.2\"/>\n",
       "<circle clip-path=\"url(#clip722)\" cx=\"1875.97\" cy=\"1384.24\" r=\"14.4\" fill=\"#008000\" fill-rule=\"evenodd\" fill-opacity=\"1\" stroke=\"#000000\" stroke-opacity=\"1\" stroke-width=\"3.2\"/>\n",
       "<circle clip-path=\"url(#clip722)\" cx=\"1945.37\" cy=\"1384.24\" r=\"14.4\" fill=\"#008000\" fill-rule=\"evenodd\" fill-opacity=\"1\" stroke=\"#000000\" stroke-opacity=\"1\" stroke-width=\"3.2\"/>\n",
       "<circle clip-path=\"url(#clip722)\" cx=\"2014.77\" cy=\"1384.24\" r=\"14.4\" fill=\"#008000\" fill-rule=\"evenodd\" fill-opacity=\"1\" stroke=\"#000000\" stroke-opacity=\"1\" stroke-width=\"3.2\"/>\n",
       "<circle clip-path=\"url(#clip722)\" cx=\"2084.18\" cy=\"1384.24\" r=\"14.4\" fill=\"#008000\" fill-rule=\"evenodd\" fill-opacity=\"1\" stroke=\"#000000\" stroke-opacity=\"1\" stroke-width=\"3.2\"/>\n",
       "<circle clip-path=\"url(#clip722)\" cx=\"2153.58\" cy=\"1384.24\" r=\"14.4\" fill=\"#008000\" fill-rule=\"evenodd\" fill-opacity=\"1\" stroke=\"#000000\" stroke-opacity=\"1\" stroke-width=\"3.2\"/>\n",
       "<circle clip-path=\"url(#clip722)\" cx=\"2222.98\" cy=\"1384.24\" r=\"14.4\" fill=\"#008000\" fill-rule=\"evenodd\" fill-opacity=\"1\" stroke=\"#000000\" stroke-opacity=\"1\" stroke-width=\"3.2\"/>\n",
       "<circle clip-path=\"url(#clip722)\" cx=\"2292.38\" cy=\"1384.24\" r=\"14.4\" fill=\"#008000\" fill-rule=\"evenodd\" fill-opacity=\"1\" stroke=\"#000000\" stroke-opacity=\"1\" stroke-width=\"3.2\"/>\n",
       "<polyline clip-path=\"url(#clip722)\" style=\"stroke:#e26f46; stroke-linecap:round; stroke-linejoin:round; stroke-width:4; stroke-opacity:1; fill:none\" points=\"279.759,672.294 349.159,86.1857 418.56,162.194 487.961,280.429 557.361,1384.24 626.762,1384.24 696.163,1384.24 765.563,1384.24 834.964,1384.24 904.364,1384.24 973.765,1384.24 1043.17,1384.24 1112.57,1384.24 1181.97,1384.24 1251.37,1384.24 1320.77,1384.24 1390.17,1384.24 1459.57,1384.24 1528.97,1384.24 1598.37,1384.24 1667.77,1384.24 1737.17,1384.24 1806.57,1384.24 1875.97,1384.24 1945.37,1384.24 2014.77,1384.24 2084.18,1384.24 2153.58,1384.24 2222.98,1384.24 2292.38,1384.24 \"/>\n",
       "<path clip-path=\"url(#clip722)\" d=\"M263.759 656.294 L263.759 688.294 L295.759 688.294 L295.759 656.294 L263.759 656.294 Z\" fill=\"#ff0000\" fill-rule=\"evenodd\" fill-opacity=\"1\" stroke=\"#000000\" stroke-opacity=\"1\" stroke-width=\"3.2\"/>\n",
       "<path clip-path=\"url(#clip722)\" d=\"M333.159 70.1857 L333.159 102.186 L365.159 102.186 L365.159 70.1857 L333.159 70.1857 Z\" fill=\"#ff0000\" fill-rule=\"evenodd\" fill-opacity=\"1\" stroke=\"#000000\" stroke-opacity=\"1\" stroke-width=\"3.2\"/>\n",
       "<path clip-path=\"url(#clip722)\" d=\"M402.56 146.194 L402.56 178.194 L434.56 178.194 L434.56 146.194 L402.56 146.194 Z\" fill=\"#ff0000\" fill-rule=\"evenodd\" fill-opacity=\"1\" stroke=\"#000000\" stroke-opacity=\"1\" stroke-width=\"3.2\"/>\n",
       "<path clip-path=\"url(#clip722)\" d=\"M471.961 264.429 L471.961 296.429 L503.961 296.429 L503.961 264.429 L471.961 264.429 Z\" fill=\"#ff0000\" fill-rule=\"evenodd\" fill-opacity=\"1\" stroke=\"#000000\" stroke-opacity=\"1\" stroke-width=\"3.2\"/>\n",
       "<path clip-path=\"url(#clip722)\" d=\"M541.361 1368.24 L541.361 1400.24 L573.361 1400.24 L573.361 1368.24 L541.361 1368.24 Z\" fill=\"#ff0000\" fill-rule=\"evenodd\" fill-opacity=\"1\" stroke=\"#000000\" stroke-opacity=\"1\" stroke-width=\"3.2\"/>\n",
       "<path clip-path=\"url(#clip722)\" d=\"M610.762 1368.24 L610.762 1400.24 L642.762 1400.24 L642.762 1368.24 L610.762 1368.24 Z\" fill=\"#ff0000\" fill-rule=\"evenodd\" fill-opacity=\"1\" stroke=\"#000000\" stroke-opacity=\"1\" stroke-width=\"3.2\"/>\n",
       "<path clip-path=\"url(#clip722)\" d=\"M680.163 1368.24 L680.163 1400.24 L712.163 1400.24 L712.163 1368.24 L680.163 1368.24 Z\" fill=\"#ff0000\" fill-rule=\"evenodd\" fill-opacity=\"1\" stroke=\"#000000\" stroke-opacity=\"1\" stroke-width=\"3.2\"/>\n",
       "<path clip-path=\"url(#clip722)\" d=\"M749.563 1368.24 L749.563 1400.24 L781.563 1400.24 L781.563 1368.24 L749.563 1368.24 Z\" fill=\"#ff0000\" fill-rule=\"evenodd\" fill-opacity=\"1\" stroke=\"#000000\" stroke-opacity=\"1\" stroke-width=\"3.2\"/>\n",
       "<path clip-path=\"url(#clip722)\" d=\"M818.964 1368.24 L818.964 1400.24 L850.964 1400.24 L850.964 1368.24 L818.964 1368.24 Z\" fill=\"#ff0000\" fill-rule=\"evenodd\" fill-opacity=\"1\" stroke=\"#000000\" stroke-opacity=\"1\" stroke-width=\"3.2\"/>\n",
       "<path clip-path=\"url(#clip722)\" d=\"M888.364 1368.24 L888.364 1400.24 L920.364 1400.24 L920.364 1368.24 L888.364 1368.24 Z\" fill=\"#ff0000\" fill-rule=\"evenodd\" fill-opacity=\"1\" stroke=\"#000000\" stroke-opacity=\"1\" stroke-width=\"3.2\"/>\n",
       "<path clip-path=\"url(#clip722)\" d=\"M957.765 1368.24 L957.765 1400.24 L989.765 1400.24 L989.765 1368.24 L957.765 1368.24 Z\" fill=\"#ff0000\" fill-rule=\"evenodd\" fill-opacity=\"1\" stroke=\"#000000\" stroke-opacity=\"1\" stroke-width=\"3.2\"/>\n",
       "<path clip-path=\"url(#clip722)\" d=\"M1027.17 1368.24 L1027.17 1400.24 L1059.17 1400.24 L1059.17 1368.24 L1027.17 1368.24 Z\" fill=\"#ff0000\" fill-rule=\"evenodd\" fill-opacity=\"1\" stroke=\"#000000\" stroke-opacity=\"1\" stroke-width=\"3.2\"/>\n",
       "<path clip-path=\"url(#clip722)\" d=\"M1096.57 1368.24 L1096.57 1400.24 L1128.57 1400.24 L1128.57 1368.24 L1096.57 1368.24 Z\" fill=\"#ff0000\" fill-rule=\"evenodd\" fill-opacity=\"1\" stroke=\"#000000\" stroke-opacity=\"1\" stroke-width=\"3.2\"/>\n",
       "<path clip-path=\"url(#clip722)\" d=\"M1165.97 1368.24 L1165.97 1400.24 L1197.97 1400.24 L1197.97 1368.24 L1165.97 1368.24 Z\" fill=\"#ff0000\" fill-rule=\"evenodd\" fill-opacity=\"1\" stroke=\"#000000\" stroke-opacity=\"1\" stroke-width=\"3.2\"/>\n",
       "<path clip-path=\"url(#clip722)\" d=\"M1235.37 1368.24 L1235.37 1400.24 L1267.37 1400.24 L1267.37 1368.24 L1235.37 1368.24 Z\" fill=\"#ff0000\" fill-rule=\"evenodd\" fill-opacity=\"1\" stroke=\"#000000\" stroke-opacity=\"1\" stroke-width=\"3.2\"/>\n",
       "<path clip-path=\"url(#clip722)\" d=\"M1304.77 1368.24 L1304.77 1400.24 L1336.77 1400.24 L1336.77 1368.24 L1304.77 1368.24 Z\" fill=\"#ff0000\" fill-rule=\"evenodd\" fill-opacity=\"1\" stroke=\"#000000\" stroke-opacity=\"1\" stroke-width=\"3.2\"/>\n",
       "<path clip-path=\"url(#clip722)\" d=\"M1374.17 1368.24 L1374.17 1400.24 L1406.17 1400.24 L1406.17 1368.24 L1374.17 1368.24 Z\" fill=\"#ff0000\" fill-rule=\"evenodd\" fill-opacity=\"1\" stroke=\"#000000\" stroke-opacity=\"1\" stroke-width=\"3.2\"/>\n",
       "<path clip-path=\"url(#clip722)\" d=\"M1443.57 1368.24 L1443.57 1400.24 L1475.57 1400.24 L1475.57 1368.24 L1443.57 1368.24 Z\" fill=\"#ff0000\" fill-rule=\"evenodd\" fill-opacity=\"1\" stroke=\"#000000\" stroke-opacity=\"1\" stroke-width=\"3.2\"/>\n",
       "<path clip-path=\"url(#clip722)\" d=\"M1512.97 1368.24 L1512.97 1400.24 L1544.97 1400.24 L1544.97 1368.24 L1512.97 1368.24 Z\" fill=\"#ff0000\" fill-rule=\"evenodd\" fill-opacity=\"1\" stroke=\"#000000\" stroke-opacity=\"1\" stroke-width=\"3.2\"/>\n",
       "<path clip-path=\"url(#clip722)\" d=\"M1582.37 1368.24 L1582.37 1400.24 L1614.37 1400.24 L1614.37 1368.24 L1582.37 1368.24 Z\" fill=\"#ff0000\" fill-rule=\"evenodd\" fill-opacity=\"1\" stroke=\"#000000\" stroke-opacity=\"1\" stroke-width=\"3.2\"/>\n",
       "<path clip-path=\"url(#clip722)\" d=\"M1651.77 1368.24 L1651.77 1400.24 L1683.77 1400.24 L1683.77 1368.24 L1651.77 1368.24 Z\" fill=\"#ff0000\" fill-rule=\"evenodd\" fill-opacity=\"1\" stroke=\"#000000\" stroke-opacity=\"1\" stroke-width=\"3.2\"/>\n",
       "<path clip-path=\"url(#clip722)\" d=\"M1721.17 1368.24 L1721.17 1400.24 L1753.17 1400.24 L1753.17 1368.24 L1721.17 1368.24 Z\" fill=\"#ff0000\" fill-rule=\"evenodd\" fill-opacity=\"1\" stroke=\"#000000\" stroke-opacity=\"1\" stroke-width=\"3.2\"/>\n",
       "<path clip-path=\"url(#clip722)\" d=\"M1790.57 1368.24 L1790.57 1400.24 L1822.57 1400.24 L1822.57 1368.24 L1790.57 1368.24 Z\" fill=\"#ff0000\" fill-rule=\"evenodd\" fill-opacity=\"1\" stroke=\"#000000\" stroke-opacity=\"1\" stroke-width=\"3.2\"/>\n",
       "<path clip-path=\"url(#clip722)\" d=\"M1859.97 1368.24 L1859.97 1400.24 L1891.97 1400.24 L1891.97 1368.24 L1859.97 1368.24 Z\" fill=\"#ff0000\" fill-rule=\"evenodd\" fill-opacity=\"1\" stroke=\"#000000\" stroke-opacity=\"1\" stroke-width=\"3.2\"/>\n",
       "<path clip-path=\"url(#clip722)\" d=\"M1929.37 1368.24 L1929.37 1400.24 L1961.37 1400.24 L1961.37 1368.24 L1929.37 1368.24 Z\" fill=\"#ff0000\" fill-rule=\"evenodd\" fill-opacity=\"1\" stroke=\"#000000\" stroke-opacity=\"1\" stroke-width=\"3.2\"/>\n",
       "<path clip-path=\"url(#clip722)\" d=\"M1998.77 1368.24 L1998.77 1400.24 L2030.77 1400.24 L2030.77 1368.24 L1998.77 1368.24 Z\" fill=\"#ff0000\" fill-rule=\"evenodd\" fill-opacity=\"1\" stroke=\"#000000\" stroke-opacity=\"1\" stroke-width=\"3.2\"/>\n",
       "<path clip-path=\"url(#clip722)\" d=\"M2068.18 1368.24 L2068.18 1400.24 L2100.18 1400.24 L2100.18 1368.24 L2068.18 1368.24 Z\" fill=\"#ff0000\" fill-rule=\"evenodd\" fill-opacity=\"1\" stroke=\"#000000\" stroke-opacity=\"1\" stroke-width=\"3.2\"/>\n",
       "<path clip-path=\"url(#clip722)\" d=\"M2137.58 1368.24 L2137.58 1400.24 L2169.58 1400.24 L2169.58 1368.24 L2137.58 1368.24 Z\" fill=\"#ff0000\" fill-rule=\"evenodd\" fill-opacity=\"1\" stroke=\"#000000\" stroke-opacity=\"1\" stroke-width=\"3.2\"/>\n",
       "<path clip-path=\"url(#clip722)\" d=\"M2206.98 1368.24 L2206.98 1400.24 L2238.98 1400.24 L2238.98 1368.24 L2206.98 1368.24 Z\" fill=\"#ff0000\" fill-rule=\"evenodd\" fill-opacity=\"1\" stroke=\"#000000\" stroke-opacity=\"1\" stroke-width=\"3.2\"/>\n",
       "<path clip-path=\"url(#clip722)\" d=\"M2276.38 1368.24 L2276.38 1400.24 L2308.38 1400.24 L2308.38 1368.24 L2276.38 1368.24 Z\" fill=\"#ff0000\" fill-rule=\"evenodd\" fill-opacity=\"1\" stroke=\"#000000\" stroke-opacity=\"1\" stroke-width=\"3.2\"/>\n",
       "<path clip-path=\"url(#clip720)\" d=\"M1771.66 248.629 L2281.64 248.629 L2281.64 93.1086 L1771.66 93.1086  Z\" fill=\"#ffffff\" fill-rule=\"evenodd\" fill-opacity=\"1\"/>\n",
       "<polyline clip-path=\"url(#clip720)\" style=\"stroke:#000000; stroke-linecap:round; stroke-linejoin:round; stroke-width:4; stroke-opacity:1; fill:none\" points=\"1771.66,248.629 2281.64,248.629 2281.64,93.1086 1771.66,93.1086 1771.66,248.629 \"/>\n",
       "<polyline clip-path=\"url(#clip720)\" style=\"stroke:#009af9; stroke-linecap:round; stroke-linejoin:round; stroke-width:4; stroke-opacity:1; fill:none\" points=\"1795.37,144.949 1937.59,144.949 \"/>\n",
       "<circle clip-path=\"url(#clip720)\" cx=\"1866.48\" cy=\"144.949\" r=\"19.7535\" fill=\"#008000\" fill-rule=\"evenodd\" fill-opacity=\"1\" stroke=\"#000000\" stroke-opacity=\"1\" stroke-width=\"5.12\"/>\n",
       "<path clip-path=\"url(#clip720)\" d=\"M1981.64 141.28 Q1983.24 138.409 1985.46 137.044 Q1987.69 135.678 1990.7 135.678 Q1994.75 135.678 1996.95 138.525 Q1999.14 141.349 1999.14 146.581 L1999.14 162.229 L1994.86 162.229 L1994.86 146.719 Q1994.86 142.993 1993.54 141.187 Q1992.22 139.382 1989.51 139.382 Q1986.2 139.382 1984.28 141.581 Q1982.36 143.78 1982.36 147.576 L1982.36 162.229 L1978.08 162.229 L1978.08 146.719 Q1978.08 142.969 1976.76 141.187 Q1975.44 139.382 1972.69 139.382 Q1969.42 139.382 1967.5 141.604 Q1965.58 143.803 1965.58 147.576 L1965.58 162.229 L1961.3 162.229 L1961.3 136.303 L1965.58 136.303 L1965.58 140.331 Q1967.04 137.946 1969.08 136.812 Q1971.11 135.678 1973.91 135.678 Q1976.74 135.678 1978.7 137.113 Q1980.7 138.548 1981.64 141.28 Z\" fill=\"#000000\" fill-rule=\"evenodd\" fill-opacity=\"1\" /><path clip-path=\"url(#clip720)\" d=\"M2017.69 139.289 Q2014.26 139.289 2012.27 141.974 Q2010.28 144.636 2010.28 149.289 Q2010.28 153.942 2012.25 156.627 Q2014.24 159.289 2017.69 159.289 Q2021.09 159.289 2023.08 156.604 Q2025.07 153.918 2025.07 149.289 Q2025.07 144.682 2023.08 141.997 Q2021.09 139.289 2017.69 139.289 M2017.69 135.678 Q2023.24 135.678 2026.41 139.289 Q2029.58 142.9 2029.58 149.289 Q2029.58 155.655 2026.41 159.289 Q2023.24 162.9 2017.69 162.9 Q2012.11 162.9 2008.94 159.289 Q2005.79 155.655 2005.79 149.289 Q2005.79 142.9 2008.94 139.289 Q2012.11 135.678 2017.69 135.678 Z\" fill=\"#000000\" fill-rule=\"evenodd\" fill-opacity=\"1\" /><path clip-path=\"url(#clip720)\" d=\"M2058.19 146.581 L2058.19 162.229 L2053.94 162.229 L2053.94 146.719 Q2053.94 143.039 2052.5 141.21 Q2051.07 139.382 2048.19 139.382 Q2044.75 139.382 2042.76 141.581 Q2040.76 143.78 2040.76 147.576 L2040.76 162.229 L2036.48 162.229 L2036.48 136.303 L2040.76 136.303 L2040.76 140.331 Q2042.29 137.993 2044.35 136.835 Q2046.44 135.678 2049.14 135.678 Q2053.61 135.678 2055.9 138.456 Q2058.19 141.21 2058.19 146.581 Z\" fill=\"#000000\" fill-rule=\"evenodd\" fill-opacity=\"1\" /><path clip-path=\"url(#clip720)\" d=\"M2076.74 139.289 Q2073.31 139.289 2071.32 141.974 Q2069.33 144.636 2069.33 149.289 Q2069.33 153.942 2071.3 156.627 Q2073.29 159.289 2076.74 159.289 Q2080.14 159.289 2082.13 156.604 Q2084.12 153.918 2084.12 149.289 Q2084.12 144.682 2082.13 141.997 Q2080.14 139.289 2076.74 139.289 M2076.74 135.678 Q2082.29 135.678 2085.46 139.289 Q2088.63 142.9 2088.63 149.289 Q2088.63 155.655 2085.46 159.289 Q2082.29 162.9 2076.74 162.9 Q2071.16 162.9 2067.99 159.289 Q2064.84 155.655 2064.84 149.289 Q2064.84 142.9 2067.99 139.289 Q2071.16 135.678 2076.74 135.678 Z\" fill=\"#000000\" fill-rule=\"evenodd\" fill-opacity=\"1\" /><path clip-path=\"url(#clip720)\" d=\"M2095.69 126.21 L2099.95 126.21 L2099.95 162.229 L2095.69 162.229 L2095.69 126.21 Z\" fill=\"#000000\" fill-rule=\"evenodd\" fill-opacity=\"1\" /><path clip-path=\"url(#clip720)\" d=\"M2108.87 136.303 L2113.13 136.303 L2113.13 162.229 L2108.87 162.229 L2108.87 136.303 M2108.87 126.21 L2113.13 126.21 L2113.13 131.604 L2108.87 131.604 L2108.87 126.21 Z\" fill=\"#000000\" fill-rule=\"evenodd\" fill-opacity=\"1\" /><path clip-path=\"url(#clip720)\" d=\"M2126.25 128.942 L2126.25 136.303 L2135.02 136.303 L2135.02 139.613 L2126.25 139.613 L2126.25 153.687 Q2126.25 156.858 2127.11 157.761 Q2127.99 158.664 2130.65 158.664 L2135.02 158.664 L2135.02 162.229 L2130.65 162.229 Q2125.72 162.229 2123.84 160.4 Q2121.97 158.548 2121.97 153.687 L2121.97 139.613 L2118.84 139.613 L2118.84 136.303 L2121.97 136.303 L2121.97 128.942 L2126.25 128.942 Z\" fill=\"#000000\" fill-rule=\"evenodd\" fill-opacity=\"1\" /><path clip-path=\"url(#clip720)\" d=\"M2162.18 146.581 L2162.18 162.229 L2157.92 162.229 L2157.92 146.719 Q2157.92 143.039 2156.48 141.21 Q2155.05 139.382 2152.18 139.382 Q2148.73 139.382 2146.74 141.581 Q2144.75 143.78 2144.75 147.576 L2144.75 162.229 L2140.46 162.229 L2140.46 126.21 L2144.75 126.21 L2144.75 140.331 Q2146.27 137.993 2148.33 136.835 Q2150.42 135.678 2153.12 135.678 Q2157.59 135.678 2159.88 138.456 Q2162.18 141.21 2162.18 146.581 Z\" fill=\"#000000\" fill-rule=\"evenodd\" fill-opacity=\"1\" /><path clip-path=\"url(#clip720)\" d=\"M2170.67 136.303 L2174.93 136.303 L2174.93 162.229 L2170.67 162.229 L2170.67 136.303 M2170.67 126.21 L2174.93 126.21 L2174.93 131.604 L2170.67 131.604 L2170.67 126.21 Z\" fill=\"#000000\" fill-rule=\"evenodd\" fill-opacity=\"1\" /><path clip-path=\"url(#clip720)\" d=\"M2202.5 137.298 L2202.5 141.28 Q2200.69 140.284 2198.87 139.798 Q2197.06 139.289 2195.21 139.289 Q2191.06 139.289 2188.77 141.928 Q2186.48 144.544 2186.48 149.289 Q2186.48 154.034 2188.77 156.673 Q2191.06 159.289 2195.21 159.289 Q2197.06 159.289 2198.87 158.803 Q2200.69 158.293 2202.5 157.298 L2202.5 161.233 Q2200.72 162.067 2198.8 162.483 Q2196.9 162.9 2194.75 162.9 Q2188.89 162.9 2185.44 159.219 Q2181.99 155.539 2181.99 149.289 Q2181.99 142.946 2185.46 139.312 Q2188.96 135.678 2195.02 135.678 Q2196.99 135.678 2198.87 136.095 Q2200.74 136.488 2202.5 137.298 Z\" fill=\"#000000\" fill-rule=\"evenodd\" fill-opacity=\"1\" /><polyline clip-path=\"url(#clip720)\" style=\"stroke:#e26f46; stroke-linecap:round; stroke-linejoin:round; stroke-width:4; stroke-opacity:1; fill:none\" points=\"1795.37,196.789 1937.59,196.789 \"/>\n",
       "<path clip-path=\"url(#clip720)\" d=\"M1844.53 174.84 L1844.53 218.737 L1888.43 218.737 L1888.43 174.84 L1844.53 174.84 Z\" fill=\"#ff0000\" fill-rule=\"evenodd\" fill-opacity=\"1\" stroke=\"#000000\" stroke-opacity=\"1\" stroke-width=\"5.12\"/>\n",
       "<path clip-path=\"url(#clip720)\" d=\"M1980.21 192.078 L1980.21 178.05 L1984.47 178.05 L1984.47 214.069 L1980.21 214.069 L1980.21 210.18 Q1978.87 212.495 1976.81 213.629 Q1974.77 214.74 1971.9 214.74 Q1967.2 214.74 1964.24 210.99 Q1961.3 207.24 1961.3 201.129 Q1961.3 195.018 1964.24 191.268 Q1967.2 187.518 1971.9 187.518 Q1974.77 187.518 1976.81 188.652 Q1978.87 189.763 1980.21 192.078 M1965.7 201.129 Q1965.7 205.828 1967.62 208.513 Q1969.56 211.175 1972.94 211.175 Q1976.32 211.175 1978.26 208.513 Q1980.21 205.828 1980.21 201.129 Q1980.21 196.43 1978.26 193.768 Q1976.32 191.083 1972.94 191.083 Q1969.56 191.083 1967.62 193.768 Q1965.7 196.43 1965.7 201.129 Z\" fill=\"#000000\" fill-rule=\"evenodd\" fill-opacity=\"1\" /><path clip-path=\"url(#clip720)\" d=\"M2015.42 200.041 L2015.42 202.124 L1995.83 202.124 Q1996.11 206.522 1998.47 208.837 Q2000.86 211.129 2005.09 211.129 Q2007.55 211.129 2009.84 210.527 Q2012.15 209.925 2014.42 208.721 L2014.42 212.749 Q2012.13 213.721 2009.72 214.231 Q2007.32 214.74 2004.84 214.74 Q1998.64 214.74 1995 211.129 Q1991.39 207.518 1991.39 201.36 Q1991.39 194.995 1994.82 191.268 Q1998.26 187.518 2004.1 187.518 Q2009.33 187.518 2012.36 190.897 Q2015.42 194.254 2015.42 200.041 M2011.16 198.791 Q2011.11 195.296 2009.19 193.212 Q2007.29 191.129 2004.14 191.129 Q2000.58 191.129 1998.43 193.143 Q1996.3 195.157 1995.97 198.814 L2011.16 198.791 Z\" fill=\"#000000\" fill-rule=\"evenodd\" fill-opacity=\"1\" /><path clip-path=\"url(#clip720)\" d=\"M2041.07 189.138 L2041.07 193.12 Q2039.26 192.124 2037.43 191.638 Q2035.63 191.129 2033.77 191.129 Q2029.63 191.129 2027.34 193.768 Q2025.05 196.384 2025.05 201.129 Q2025.05 205.874 2027.34 208.513 Q2029.63 211.129 2033.77 211.129 Q2035.63 211.129 2037.43 210.643 Q2039.26 210.133 2041.07 209.138 L2041.07 213.073 Q2039.28 213.907 2037.36 214.323 Q2035.46 214.74 2033.31 214.74 Q2027.45 214.74 2024.01 211.059 Q2020.56 207.379 2020.56 201.129 Q2020.56 194.786 2024.03 191.152 Q2027.52 187.518 2033.59 187.518 Q2035.56 187.518 2037.43 187.935 Q2039.31 188.328 2041.07 189.138 Z\" fill=\"#000000\" fill-rule=\"evenodd\" fill-opacity=\"1\" /><path clip-path=\"url(#clip720)\" d=\"M2058.52 191.129 Q2055.09 191.129 2053.1 193.814 Q2051.11 196.476 2051.11 201.129 Q2051.11 205.782 2053.08 208.467 Q2055.07 211.129 2058.52 211.129 Q2061.92 211.129 2063.91 208.444 Q2065.9 205.758 2065.9 201.129 Q2065.9 196.522 2063.91 193.837 Q2061.92 191.129 2058.52 191.129 M2058.52 187.518 Q2064.07 187.518 2067.25 191.129 Q2070.42 194.74 2070.42 201.129 Q2070.42 207.495 2067.25 211.129 Q2064.07 214.74 2058.52 214.74 Q2052.94 214.74 2049.77 211.129 Q2046.62 207.495 2046.62 201.129 Q2046.62 194.74 2049.77 191.129 Q2052.94 187.518 2058.52 187.518 Z\" fill=\"#000000\" fill-rule=\"evenodd\" fill-opacity=\"1\" /><path clip-path=\"url(#clip720)\" d=\"M2097.66 193.12 Q2099.26 190.249 2101.48 188.884 Q2103.7 187.518 2106.71 187.518 Q2110.76 187.518 2112.96 190.365 Q2115.16 193.189 2115.16 198.421 L2115.16 214.069 L2110.88 214.069 L2110.88 198.559 Q2110.88 194.833 2109.56 193.027 Q2108.24 191.222 2105.53 191.222 Q2102.22 191.222 2100.3 193.421 Q2098.38 195.62 2098.38 199.416 L2098.38 214.069 L2094.1 214.069 L2094.1 198.559 Q2094.1 194.809 2092.78 193.027 Q2091.46 191.222 2088.7 191.222 Q2085.44 191.222 2083.52 193.444 Q2081.6 195.643 2081.6 199.416 L2081.6 214.069 L2077.32 214.069 L2077.32 188.143 L2081.6 188.143 L2081.6 192.171 Q2083.06 189.786 2085.09 188.652 Q2087.13 187.518 2089.93 187.518 Q2092.75 187.518 2094.72 188.953 Q2096.71 190.388 2097.66 193.12 Z\" fill=\"#000000\" fill-rule=\"evenodd\" fill-opacity=\"1\" /><path clip-path=\"url(#clip720)\" d=\"M2127.78 210.18 L2127.78 223.93 L2123.5 223.93 L2123.5 188.143 L2127.78 188.143 L2127.78 192.078 Q2129.12 189.763 2131.16 188.652 Q2133.22 187.518 2136.06 187.518 Q2140.79 187.518 2143.73 191.268 Q2146.69 195.018 2146.69 201.129 Q2146.69 207.24 2143.73 210.99 Q2140.79 214.74 2136.06 214.74 Q2133.22 214.74 2131.16 213.629 Q2129.12 212.495 2127.78 210.18 M2142.27 201.129 Q2142.27 196.43 2140.32 193.768 Q2138.4 191.083 2135.02 191.083 Q2131.64 191.083 2129.7 193.768 Q2127.78 196.43 2127.78 201.129 Q2127.78 205.828 2129.7 208.513 Q2131.64 211.175 2135.02 211.175 Q2138.4 211.175 2140.32 208.513 Q2142.27 205.828 2142.27 201.129 Z\" fill=\"#000000\" fill-rule=\"evenodd\" fill-opacity=\"1\" /><path clip-path=\"url(#clip720)\" d=\"M2163.8 191.129 Q2160.37 191.129 2158.38 193.814 Q2156.39 196.476 2156.39 201.129 Q2156.39 205.782 2158.36 208.467 Q2160.35 211.129 2163.8 211.129 Q2167.2 211.129 2169.19 208.444 Q2171.18 205.758 2171.18 201.129 Q2171.18 196.522 2169.19 193.837 Q2167.2 191.129 2163.8 191.129 M2163.8 187.518 Q2169.35 187.518 2172.52 191.129 Q2175.69 194.74 2175.69 201.129 Q2175.69 207.495 2172.52 211.129 Q2169.35 214.74 2163.8 214.74 Q2158.22 214.74 2155.05 211.129 Q2151.9 207.495 2151.9 201.129 Q2151.9 194.74 2155.05 191.129 Q2158.22 187.518 2163.8 187.518 Z\" fill=\"#000000\" fill-rule=\"evenodd\" fill-opacity=\"1\" /><path clip-path=\"url(#clip720)\" d=\"M2199.28 188.907 L2199.28 192.934 Q2197.48 192.009 2195.53 191.546 Q2193.59 191.083 2191.5 191.083 Q2188.33 191.083 2186.74 192.055 Q2185.16 193.027 2185.16 194.971 Q2185.16 196.453 2186.3 197.309 Q2187.43 198.143 2190.86 198.907 L2192.31 199.231 Q2196.85 200.203 2198.75 201.985 Q2200.67 203.745 2200.67 206.916 Q2200.67 210.527 2197.8 212.633 Q2194.95 214.74 2189.95 214.74 Q2187.87 214.74 2185.6 214.323 Q2183.36 213.93 2180.86 213.12 L2180.86 208.721 Q2183.22 209.948 2185.51 210.573 Q2187.8 211.175 2190.05 211.175 Q2193.06 211.175 2194.68 210.157 Q2196.3 209.115 2196.3 207.24 Q2196.3 205.504 2195.12 204.578 Q2193.96 203.652 2190 202.796 L2188.52 202.448 Q2184.56 201.615 2182.8 199.902 Q2181.04 198.166 2181.04 195.157 Q2181.04 191.499 2183.63 189.509 Q2186.23 187.518 2191 187.518 Q2193.36 187.518 2195.44 187.865 Q2197.52 188.212 2199.28 188.907 Z\" fill=\"#000000\" fill-rule=\"evenodd\" fill-opacity=\"1\" /><path clip-path=\"url(#clip720)\" d=\"M2229.63 200.041 L2229.63 202.124 L2210.05 202.124 Q2210.32 206.522 2212.68 208.837 Q2215.07 211.129 2219.31 211.129 Q2221.76 211.129 2224.05 210.527 Q2226.37 209.925 2228.63 208.721 L2228.63 212.749 Q2226.34 213.721 2223.93 214.231 Q2221.53 214.74 2219.05 214.74 Q2212.85 214.74 2209.21 211.129 Q2205.6 207.518 2205.6 201.36 Q2205.6 194.995 2209.03 191.268 Q2212.48 187.518 2218.31 187.518 Q2223.54 187.518 2226.57 190.897 Q2229.63 194.254 2229.63 200.041 M2225.37 198.791 Q2225.32 195.296 2223.4 193.212 Q2221.5 191.129 2218.36 191.129 Q2214.79 191.129 2212.64 193.143 Q2210.51 195.157 2210.18 198.814 L2225.37 198.791 Z\" fill=\"#000000\" fill-rule=\"evenodd\" fill-opacity=\"1\" /><path clip-path=\"url(#clip720)\" d=\"M2253.68 192.078 L2253.68 178.05 L2257.94 178.05 L2257.94 214.069 L2253.68 214.069 L2253.68 210.18 Q2252.34 212.495 2250.28 213.629 Q2248.24 214.74 2245.37 214.74 Q2240.67 214.74 2237.71 210.99 Q2234.77 207.24 2234.77 201.129 Q2234.77 195.018 2237.71 191.268 Q2240.67 187.518 2245.37 187.518 Q2248.24 187.518 2250.28 188.652 Q2252.34 189.763 2253.68 192.078 M2239.17 201.129 Q2239.17 205.828 2241.09 208.513 Q2243.03 211.175 2246.41 211.175 Q2249.79 211.175 2251.74 208.513 Q2253.68 205.828 2253.68 201.129 Q2253.68 196.43 2251.74 193.768 Q2249.79 191.083 2246.41 191.083 Q2243.03 191.083 2241.09 193.768 Q2239.17 196.43 2239.17 201.129 Z\" fill=\"#000000\" fill-rule=\"evenodd\" fill-opacity=\"1\" /></svg>\n"
      ]
     },
     "metadata": {},
     "output_type": "display_data"
    }
   ],
   "source": [
    "# solution time (parallel)\n",
    "p2 = plot(1:nScenMax,solTimeTraj_s[1,:],xlabel=\"# scenarios\", ylabel=\"sol. time (max) [s]\",marker=:circle, markercolor = :green,label=\"monolithic\")\n",
    "p2 = plot!(1:nScenMax,solTimeMaxTraj_s,marker=:square, markercolor = :red,label=\"decomposed\",gridlinewidth=2)\n",
    "display(p2)"
   ]
  },
  {
   "cell_type": "code",
   "execution_count": 17,
   "id": "e2222e80",
   "metadata": {},
   "outputs": [
    {
     "data": {
      "image/svg+xml": [
       "<?xml version=\"1.0\" encoding=\"utf-8\"?>\n",
       "<svg xmlns=\"http://www.w3.org/2000/svg\" xmlns:xlink=\"http://www.w3.org/1999/xlink\" width=\"600\" height=\"400\" viewBox=\"0 0 2400 1600\">\n",
       "<defs>\n",
       "  <clipPath id=\"clip760\">\n",
       "    <rect x=\"0\" y=\"0\" width=\"2400\" height=\"1600\"/>\n",
       "  </clipPath>\n",
       "</defs>\n",
       "<path clip-path=\"url(#clip760)\" d=\"M0 1600 L2400 1600 L2400 0 L0 0  Z\" fill=\"#ffffff\" fill-rule=\"evenodd\" fill-opacity=\"1\"/>\n",
       "<defs>\n",
       "  <clipPath id=\"clip761\">\n",
       "    <rect x=\"480\" y=\"0\" width=\"1681\" height=\"1600\"/>\n",
       "  </clipPath>\n",
       "</defs>\n",
       "<path clip-path=\"url(#clip760)\" d=\"M204.45 1423.18 L2352.76 1423.18 L2352.76 47.2441 L204.45 47.2441  Z\" fill=\"#ffffff\" fill-rule=\"evenodd\" fill-opacity=\"1\"/>\n",
       "<defs>\n",
       "  <clipPath id=\"clip762\">\n",
       "    <rect x=\"204\" y=\"47\" width=\"2149\" height=\"1377\"/>\n",
       "  </clipPath>\n",
       "</defs>\n",
       "<polyline clip-path=\"url(#clip762)\" style=\"stroke:#000000; stroke-linecap:round; stroke-linejoin:round; stroke-width:8; stroke-opacity:0.1; fill:none\" points=\"544.796,1423.18 544.796,47.2441 \"/>\n",
       "<polyline clip-path=\"url(#clip762)\" style=\"stroke:#000000; stroke-linecap:round; stroke-linejoin:round; stroke-width:8; stroke-opacity:0.1; fill:none\" points=\"894.228,1423.18 894.228,47.2441 \"/>\n",
       "<polyline clip-path=\"url(#clip762)\" style=\"stroke:#000000; stroke-linecap:round; stroke-linejoin:round; stroke-width:8; stroke-opacity:0.1; fill:none\" points=\"1243.66,1423.18 1243.66,47.2441 \"/>\n",
       "<polyline clip-path=\"url(#clip762)\" style=\"stroke:#000000; stroke-linecap:round; stroke-linejoin:round; stroke-width:8; stroke-opacity:0.1; fill:none\" points=\"1593.09,1423.18 1593.09,47.2441 \"/>\n",
       "<polyline clip-path=\"url(#clip762)\" style=\"stroke:#000000; stroke-linecap:round; stroke-linejoin:round; stroke-width:8; stroke-opacity:0.1; fill:none\" points=\"1942.52,1423.18 1942.52,47.2441 \"/>\n",
       "<polyline clip-path=\"url(#clip762)\" style=\"stroke:#000000; stroke-linecap:round; stroke-linejoin:round; stroke-width:8; stroke-opacity:0.1; fill:none\" points=\"2291.95,1423.18 2291.95,47.2441 \"/>\n",
       "<polyline clip-path=\"url(#clip760)\" style=\"stroke:#000000; stroke-linecap:round; stroke-linejoin:round; stroke-width:4; stroke-opacity:1; fill:none\" points=\"204.45,1423.18 2352.76,1423.18 \"/>\n",
       "<polyline clip-path=\"url(#clip760)\" style=\"stroke:#000000; stroke-linecap:round; stroke-linejoin:round; stroke-width:4; stroke-opacity:1; fill:none\" points=\"544.796,1423.18 544.796,1404.28 \"/>\n",
       "<polyline clip-path=\"url(#clip760)\" style=\"stroke:#000000; stroke-linecap:round; stroke-linejoin:round; stroke-width:4; stroke-opacity:1; fill:none\" points=\"894.228,1423.18 894.228,1404.28 \"/>\n",
       "<polyline clip-path=\"url(#clip760)\" style=\"stroke:#000000; stroke-linecap:round; stroke-linejoin:round; stroke-width:4; stroke-opacity:1; fill:none\" points=\"1243.66,1423.18 1243.66,1404.28 \"/>\n",
       "<polyline clip-path=\"url(#clip760)\" style=\"stroke:#000000; stroke-linecap:round; stroke-linejoin:round; stroke-width:4; stroke-opacity:1; fill:none\" points=\"1593.09,1423.18 1593.09,1404.28 \"/>\n",
       "<polyline clip-path=\"url(#clip760)\" style=\"stroke:#000000; stroke-linecap:round; stroke-linejoin:round; stroke-width:4; stroke-opacity:1; fill:none\" points=\"1942.52,1423.18 1942.52,1404.28 \"/>\n",
       "<polyline clip-path=\"url(#clip760)\" style=\"stroke:#000000; stroke-linecap:round; stroke-linejoin:round; stroke-width:4; stroke-opacity:1; fill:none\" points=\"2291.95,1423.18 2291.95,1404.28 \"/>\n",
       "<path clip-path=\"url(#clip760)\" d=\"M535.074 1451.02 L553.43 1451.02 L553.43 1454.96 L539.356 1454.96 L539.356 1463.43 Q540.375 1463.08 541.393 1462.92 Q542.412 1462.73 543.43 1462.73 Q549.217 1462.73 552.597 1465.9 Q555.977 1469.08 555.977 1474.49 Q555.977 1480.07 552.504 1483.17 Q549.032 1486.25 542.713 1486.25 Q540.537 1486.25 538.268 1485.88 Q536.023 1485.51 533.616 1484.77 L533.616 1480.07 Q535.699 1481.2 537.921 1481.76 Q540.143 1482.32 542.62 1482.32 Q546.625 1482.32 548.963 1480.21 Q551.301 1478.1 551.301 1474.49 Q551.301 1470.88 548.963 1468.77 Q546.625 1466.67 542.62 1466.67 Q540.745 1466.67 538.87 1467.08 Q537.018 1467.5 535.074 1468.38 L535.074 1451.02 Z\" fill=\"#000000\" fill-rule=\"evenodd\" fill-opacity=\"1\" /><path clip-path=\"url(#clip760)\" d=\"M868.916 1481.64 L876.554 1481.64 L876.554 1455.28 L868.244 1456.95 L868.244 1452.69 L876.508 1451.02 L881.184 1451.02 L881.184 1481.64 L888.823 1481.64 L888.823 1485.58 L868.916 1485.58 L868.916 1481.64 Z\" fill=\"#000000\" fill-rule=\"evenodd\" fill-opacity=\"1\" /><path clip-path=\"url(#clip760)\" d=\"M908.267 1454.1 Q904.656 1454.1 902.827 1457.66 Q901.022 1461.2 901.022 1468.33 Q901.022 1475.44 902.827 1479.01 Q904.656 1482.55 908.267 1482.55 Q911.901 1482.55 913.707 1479.01 Q915.536 1475.44 915.536 1468.33 Q915.536 1461.2 913.707 1457.66 Q911.901 1454.1 908.267 1454.1 M908.267 1450.39 Q914.077 1450.39 917.133 1455 Q920.212 1459.58 920.212 1468.33 Q920.212 1477.06 917.133 1481.67 Q914.077 1486.25 908.267 1486.25 Q902.457 1486.25 899.378 1481.67 Q896.323 1477.06 896.323 1468.33 Q896.323 1459.58 899.378 1455 Q902.457 1450.39 908.267 1450.39 Z\" fill=\"#000000\" fill-rule=\"evenodd\" fill-opacity=\"1\" /><path clip-path=\"url(#clip760)\" d=\"M1218.84 1481.64 L1226.48 1481.64 L1226.48 1455.28 L1218.17 1456.95 L1218.17 1452.69 L1226.44 1451.02 L1231.11 1451.02 L1231.11 1481.64 L1238.75 1481.64 L1238.75 1485.58 L1218.84 1485.58 L1218.84 1481.64 Z\" fill=\"#000000\" fill-rule=\"evenodd\" fill-opacity=\"1\" /><path clip-path=\"url(#clip760)\" d=\"M1248.24 1451.02 L1266.6 1451.02 L1266.6 1454.96 L1252.53 1454.96 L1252.53 1463.43 Q1253.54 1463.08 1254.56 1462.92 Q1255.58 1462.73 1256.6 1462.73 Q1262.39 1462.73 1265.77 1465.9 Q1269.15 1469.08 1269.15 1474.49 Q1269.15 1480.07 1265.67 1483.17 Q1262.2 1486.25 1255.88 1486.25 Q1253.71 1486.25 1251.44 1485.88 Q1249.19 1485.51 1246.78 1484.77 L1246.78 1480.07 Q1248.87 1481.2 1251.09 1481.76 Q1253.31 1482.32 1255.79 1482.32 Q1259.79 1482.32 1262.13 1480.21 Q1264.47 1478.1 1264.47 1474.49 Q1264.47 1470.88 1262.13 1468.77 Q1259.79 1466.67 1255.79 1466.67 Q1253.91 1466.67 1252.04 1467.08 Q1250.19 1467.5 1248.24 1468.38 L1248.24 1451.02 Z\" fill=\"#000000\" fill-rule=\"evenodd\" fill-opacity=\"1\" /><path clip-path=\"url(#clip760)\" d=\"M1571.86 1481.64 L1588.18 1481.64 L1588.18 1485.58 L1566.24 1485.58 L1566.24 1481.64 Q1568.9 1478.89 1573.48 1474.26 Q1578.09 1469.61 1579.27 1468.27 Q1581.52 1465.74 1582.4 1464.01 Q1583.3 1462.25 1583.3 1460.56 Q1583.3 1457.8 1581.36 1456.07 Q1579.43 1454.33 1576.33 1454.33 Q1574.13 1454.33 1571.68 1455.09 Q1569.25 1455.86 1566.47 1457.41 L1566.47 1452.69 Q1569.3 1451.55 1571.75 1450.97 Q1574.2 1450.39 1576.24 1450.39 Q1581.61 1450.39 1584.8 1453.08 Q1588 1455.77 1588 1460.26 Q1588 1462.39 1587.19 1464.31 Q1586.4 1466.2 1584.3 1468.8 Q1583.72 1469.47 1580.61 1472.69 Q1577.51 1475.88 1571.86 1481.64 Z\" fill=\"#000000\" fill-rule=\"evenodd\" fill-opacity=\"1\" /><path clip-path=\"url(#clip760)\" d=\"M1608 1454.1 Q1604.39 1454.1 1602.56 1457.66 Q1600.75 1461.2 1600.75 1468.33 Q1600.75 1475.44 1602.56 1479.01 Q1604.39 1482.55 1608 1482.55 Q1611.63 1482.55 1613.44 1479.01 Q1615.27 1475.44 1615.27 1468.33 Q1615.27 1461.2 1613.44 1457.66 Q1611.63 1454.1 1608 1454.1 M1608 1450.39 Q1613.81 1450.39 1616.86 1455 Q1619.94 1459.58 1619.94 1468.33 Q1619.94 1477.06 1616.86 1481.67 Q1613.81 1486.25 1608 1486.25 Q1602.19 1486.25 1599.11 1481.67 Q1596.05 1477.06 1596.05 1468.33 Q1596.05 1459.58 1599.11 1455 Q1602.19 1450.39 1608 1450.39 Z\" fill=\"#000000\" fill-rule=\"evenodd\" fill-opacity=\"1\" /><path clip-path=\"url(#clip760)\" d=\"M1921.79 1481.64 L1938.11 1481.64 L1938.11 1485.58 L1916.17 1485.58 L1916.17 1481.64 Q1918.83 1478.89 1923.41 1474.26 Q1928.02 1469.61 1929.2 1468.27 Q1931.45 1465.74 1932.33 1464.01 Q1933.23 1462.25 1933.23 1460.56 Q1933.23 1457.8 1931.28 1456.07 Q1929.36 1454.33 1926.26 1454.33 Q1924.06 1454.33 1921.61 1455.09 Q1919.18 1455.86 1916.4 1457.41 L1916.4 1452.69 Q1919.22 1451.55 1921.68 1450.97 Q1924.13 1450.39 1926.17 1450.39 Q1931.54 1450.39 1934.73 1453.08 Q1937.93 1455.77 1937.93 1460.26 Q1937.93 1462.39 1937.12 1464.31 Q1936.33 1466.2 1934.22 1468.8 Q1933.65 1469.47 1930.54 1472.69 Q1927.44 1475.88 1921.79 1481.64 Z\" fill=\"#000000\" fill-rule=\"evenodd\" fill-opacity=\"1\" /><path clip-path=\"url(#clip760)\" d=\"M1947.97 1451.02 L1966.33 1451.02 L1966.33 1454.96 L1952.26 1454.96 L1952.26 1463.43 Q1953.28 1463.08 1954.29 1462.92 Q1955.31 1462.73 1956.33 1462.73 Q1962.12 1462.73 1965.5 1465.9 Q1968.88 1469.08 1968.88 1474.49 Q1968.88 1480.07 1965.4 1483.17 Q1961.93 1486.25 1955.61 1486.25 Q1953.44 1486.25 1951.17 1485.88 Q1948.92 1485.51 1946.52 1484.77 L1946.52 1480.07 Q1948.6 1481.2 1950.82 1481.76 Q1953.04 1482.32 1955.52 1482.32 Q1959.53 1482.32 1961.86 1480.21 Q1964.2 1478.1 1964.2 1474.49 Q1964.2 1470.88 1961.86 1468.77 Q1959.53 1466.67 1955.52 1466.67 Q1953.65 1466.67 1951.77 1467.08 Q1949.92 1467.5 1947.97 1468.38 L1947.97 1451.02 Z\" fill=\"#000000\" fill-rule=\"evenodd\" fill-opacity=\"1\" /><path clip-path=\"url(#clip760)\" d=\"M2280.8 1466.95 Q2284.15 1467.66 2286.03 1469.93 Q2287.93 1472.2 2287.93 1475.53 Q2287.93 1480.65 2284.41 1483.45 Q2280.89 1486.25 2274.41 1486.25 Q2272.23 1486.25 2269.92 1485.81 Q2267.63 1485.39 2265.17 1484.54 L2265.17 1480.02 Q2267.12 1481.16 2269.43 1481.74 Q2271.75 1482.32 2274.27 1482.32 Q2278.67 1482.32 2280.96 1480.58 Q2283.27 1478.84 2283.27 1475.53 Q2283.27 1472.48 2281.12 1470.77 Q2278.99 1469.03 2275.17 1469.03 L2271.14 1469.03 L2271.14 1465.19 L2275.36 1465.19 Q2278.81 1465.19 2280.64 1463.82 Q2282.46 1462.43 2282.46 1459.84 Q2282.46 1457.18 2280.57 1455.77 Q2278.69 1454.33 2275.17 1454.33 Q2273.25 1454.33 2271.05 1454.75 Q2268.85 1455.16 2266.21 1456.04 L2266.21 1451.88 Q2268.88 1451.14 2271.19 1450.77 Q2273.53 1450.39 2275.59 1450.39 Q2280.91 1450.39 2284.02 1452.83 Q2287.12 1455.23 2287.12 1459.35 Q2287.12 1462.22 2285.47 1464.21 Q2283.83 1466.18 2280.8 1466.95 Z\" fill=\"#000000\" fill-rule=\"evenodd\" fill-opacity=\"1\" /><path clip-path=\"url(#clip760)\" d=\"M2306.79 1454.1 Q2303.18 1454.1 2301.35 1457.66 Q2299.55 1461.2 2299.55 1468.33 Q2299.55 1475.44 2301.35 1479.01 Q2303.18 1482.55 2306.79 1482.55 Q2310.43 1482.55 2312.23 1479.01 Q2314.06 1475.44 2314.06 1468.33 Q2314.06 1461.2 2312.23 1457.66 Q2310.43 1454.1 2306.79 1454.1 M2306.79 1450.39 Q2312.6 1450.39 2315.66 1455 Q2318.74 1459.58 2318.74 1468.33 Q2318.74 1477.06 2315.66 1481.67 Q2312.6 1486.25 2306.79 1486.25 Q2300.98 1486.25 2297.9 1481.67 Q2294.85 1477.06 2294.85 1468.33 Q2294.85 1459.58 2297.9 1455 Q2300.98 1450.39 2306.79 1450.39 Z\" fill=\"#000000\" fill-rule=\"evenodd\" fill-opacity=\"1\" /><path clip-path=\"url(#clip760)\" d=\"M1118.38 1539.37 L1109.12 1539.37 L1106.44 1550 L1115.77 1550 L1118.38 1539.37 M1113.6 1521.26 L1110.29 1534.46 L1119.59 1534.46 L1122.93 1521.26 L1128.02 1521.26 L1124.74 1534.46 L1134.67 1534.46 L1134.67 1539.37 L1123.5 1539.37 L1120.89 1550 L1131.01 1550 L1131.01 1554.87 L1119.65 1554.87 L1116.34 1568.04 L1111.25 1568.04 L1114.53 1554.87 L1105.2 1554.87 L1101.92 1568.04 L1096.8 1568.04 L1100.11 1554.87 L1090.08 1554.87 L1090.08 1550 L1101.29 1550 L1103.96 1539.37 L1093.71 1539.37 L1093.71 1534.46 L1105.2 1534.46 L1108.45 1521.26 L1113.6 1521.26 Z\" fill=\"#000000\" fill-rule=\"evenodd\" fill-opacity=\"1\" /><path clip-path=\"url(#clip760)\" d=\"M1189.26 1533.45 L1189.26 1538.98 Q1186.78 1537.71 1184.1 1537.07 Q1181.43 1536.44 1178.57 1536.44 Q1174.21 1536.44 1172.01 1537.77 Q1169.84 1539.11 1169.84 1541.79 Q1169.84 1543.82 1171.4 1545 Q1172.96 1546.15 1177.67 1547.2 L1179.68 1547.64 Q1185.92 1548.98 1188.53 1551.43 Q1191.17 1553.85 1191.17 1558.21 Q1191.17 1563.17 1187.22 1566.07 Q1183.31 1568.97 1176.43 1568.97 Q1173.57 1568.97 1170.45 1568.39 Q1167.36 1567.85 1163.92 1566.74 L1163.92 1560.69 Q1167.17 1562.38 1170.32 1563.24 Q1173.47 1564.07 1176.56 1564.07 Q1180.7 1564.07 1182.93 1562.66 Q1185.15 1561.23 1185.15 1558.65 Q1185.15 1556.27 1183.53 1554.99 Q1181.94 1553.72 1176.5 1552.54 L1174.46 1552.07 Q1169.02 1550.92 1166.6 1548.56 Q1164.18 1546.18 1164.18 1542.04 Q1164.18 1537.01 1167.74 1534.27 Q1171.31 1531.54 1177.87 1531.54 Q1181.11 1531.54 1183.98 1532.01 Q1186.84 1532.49 1189.26 1533.45 Z\" fill=\"#000000\" fill-rule=\"evenodd\" fill-opacity=\"1\" /><path clip-path=\"url(#clip760)\" d=\"M1226.15 1533.76 L1226.15 1539.24 Q1223.67 1537.87 1221.15 1537.2 Q1218.67 1536.5 1216.12 1536.5 Q1210.43 1536.5 1207.28 1540.13 Q1204.12 1543.73 1204.12 1550.25 Q1204.12 1556.78 1207.28 1560.4 Q1210.43 1564 1216.12 1564 Q1218.67 1564 1221.15 1563.33 Q1223.67 1562.63 1226.15 1561.26 L1226.15 1566.68 Q1223.7 1567.82 1221.06 1568.39 Q1218.45 1568.97 1215.49 1568.97 Q1207.43 1568.97 1202.69 1563.91 Q1197.95 1558.85 1197.95 1550.25 Q1197.95 1541.53 1202.72 1536.53 Q1207.53 1531.54 1215.87 1531.54 Q1218.57 1531.54 1221.15 1532.11 Q1223.73 1532.65 1226.15 1533.76 Z\" fill=\"#000000\" fill-rule=\"evenodd\" fill-opacity=\"1\" /><path clip-path=\"url(#clip760)\" d=\"M1266.83 1548.76 L1266.83 1551.62 L1239.9 1551.62 Q1240.28 1557.67 1243.53 1560.85 Q1246.81 1564 1252.63 1564 Q1256 1564 1259.16 1563.17 Q1262.34 1562.35 1265.46 1560.69 L1265.46 1566.23 Q1262.31 1567.57 1259 1568.27 Q1255.69 1568.97 1252.28 1568.97 Q1243.75 1568.97 1238.75 1564 Q1233.79 1559.04 1233.79 1550.57 Q1233.79 1541.82 1238.5 1536.69 Q1243.24 1531.54 1251.26 1531.54 Q1258.46 1531.54 1262.62 1536.18 Q1266.83 1540.8 1266.83 1548.76 M1260.97 1547.04 Q1260.91 1542.23 1258.26 1539.37 Q1255.65 1536.5 1251.33 1536.5 Q1246.42 1536.5 1243.46 1539.27 Q1240.54 1542.04 1240.09 1547.07 L1260.97 1547.04 Z\" fill=\"#000000\" fill-rule=\"evenodd\" fill-opacity=\"1\" /><path clip-path=\"url(#clip760)\" d=\"M1306.07 1546.53 L1306.07 1568.04 L1300.21 1568.04 L1300.21 1546.72 Q1300.21 1541.66 1298.24 1539.14 Q1296.27 1536.63 1292.32 1536.63 Q1287.58 1536.63 1284.84 1539.65 Q1282.1 1542.68 1282.1 1547.9 L1282.1 1568.04 L1276.22 1568.04 L1276.22 1532.4 L1282.1 1532.4 L1282.1 1537.93 Q1284.2 1534.72 1287.04 1533.13 Q1289.9 1531.54 1293.63 1531.54 Q1299.77 1531.54 1302.92 1535.36 Q1306.07 1539.14 1306.07 1546.53 Z\" fill=\"#000000\" fill-rule=\"evenodd\" fill-opacity=\"1\" /><path clip-path=\"url(#clip760)\" d=\"M1333.95 1550.12 Q1326.85 1550.12 1324.12 1551.75 Q1321.38 1553.37 1321.38 1557.29 Q1321.38 1560.4 1323.42 1562.25 Q1325.49 1564.07 1329.02 1564.07 Q1333.89 1564.07 1336.82 1560.63 Q1339.78 1557.16 1339.78 1551.43 L1339.78 1550.12 L1333.95 1550.12 M1345.63 1547.71 L1345.63 1568.04 L1339.78 1568.04 L1339.78 1562.63 Q1337.77 1565.88 1334.78 1567.44 Q1331.79 1568.97 1327.46 1568.97 Q1321.99 1568.97 1318.74 1565.91 Q1315.52 1562.82 1315.52 1557.67 Q1315.52 1551.65 1319.53 1548.6 Q1323.58 1545.54 1331.57 1545.54 L1339.78 1545.54 L1339.78 1544.97 Q1339.78 1540.93 1337.1 1538.73 Q1334.46 1536.5 1329.66 1536.5 Q1326.6 1536.5 1323.7 1537.23 Q1320.81 1537.97 1318.13 1539.43 L1318.13 1534.02 Q1321.35 1532.78 1324.37 1532.17 Q1327.4 1531.54 1330.26 1531.54 Q1337.99 1531.54 1341.81 1535.55 Q1345.63 1539.56 1345.63 1547.71 Z\" fill=\"#000000\" fill-rule=\"evenodd\" fill-opacity=\"1\" /><path clip-path=\"url(#clip760)\" d=\"M1378.35 1537.87 Q1377.37 1537.3 1376.19 1537.04 Q1375.04 1536.76 1373.64 1536.76 Q1368.68 1536.76 1366 1540 Q1363.36 1543.22 1363.36 1549.27 L1363.36 1568.04 L1357.47 1568.04 L1357.47 1532.4 L1363.36 1532.4 L1363.36 1537.93 Q1365.21 1534.69 1368.17 1533.13 Q1371.13 1531.54 1375.36 1531.54 Q1375.97 1531.54 1376.7 1531.63 Q1377.43 1531.7 1378.32 1531.85 L1378.35 1537.87 Z\" fill=\"#000000\" fill-rule=\"evenodd\" fill-opacity=\"1\" /><path clip-path=\"url(#clip760)\" d=\"M1384.5 1532.4 L1390.35 1532.4 L1390.35 1568.04 L1384.5 1568.04 L1384.5 1532.4 M1384.5 1518.52 L1390.35 1518.52 L1390.35 1525.93 L1384.5 1525.93 L1384.5 1518.52 Z\" fill=\"#000000\" fill-rule=\"evenodd\" fill-opacity=\"1\" /><path clip-path=\"url(#clip760)\" d=\"M1416.42 1536.5 Q1411.71 1536.5 1408.97 1540.19 Q1406.24 1543.85 1406.24 1550.25 Q1406.24 1556.65 1408.94 1560.34 Q1411.68 1564 1416.42 1564 Q1421.1 1564 1423.84 1560.31 Q1426.57 1556.62 1426.57 1550.25 Q1426.57 1543.92 1423.84 1540.23 Q1421.1 1536.5 1416.42 1536.5 M1416.42 1531.54 Q1424.06 1531.54 1428.42 1536.5 Q1432.78 1541.47 1432.78 1550.25 Q1432.78 1559 1428.42 1564 Q1424.06 1568.97 1416.42 1568.97 Q1408.75 1568.97 1404.39 1564 Q1400.06 1559 1400.06 1550.25 Q1400.06 1541.47 1404.39 1536.5 Q1408.75 1531.54 1416.42 1531.54 Z\" fill=\"#000000\" fill-rule=\"evenodd\" fill-opacity=\"1\" /><path clip-path=\"url(#clip760)\" d=\"M1465.21 1533.45 L1465.21 1538.98 Q1462.73 1537.71 1460.06 1537.07 Q1457.38 1536.44 1454.52 1536.44 Q1450.16 1536.44 1447.96 1537.77 Q1445.8 1539.11 1445.8 1541.79 Q1445.8 1543.82 1447.36 1545 Q1448.92 1546.15 1453.63 1547.2 L1455.63 1547.64 Q1461.87 1548.98 1464.48 1551.43 Q1467.12 1553.85 1467.12 1558.21 Q1467.12 1563.17 1463.18 1566.07 Q1459.26 1568.97 1452.39 1568.97 Q1449.52 1568.97 1446.4 1568.39 Q1443.32 1567.85 1439.88 1566.74 L1439.88 1560.69 Q1443.12 1562.38 1446.28 1563.24 Q1449.43 1564.07 1452.51 1564.07 Q1456.65 1564.07 1458.88 1562.66 Q1461.11 1561.23 1461.11 1558.65 Q1461.11 1556.27 1459.48 1554.99 Q1457.89 1553.72 1452.45 1552.54 L1450.41 1552.07 Q1444.97 1550.92 1442.55 1548.56 Q1440.13 1546.18 1440.13 1542.04 Q1440.13 1537.01 1443.7 1534.27 Q1447.26 1531.54 1453.82 1531.54 Q1457.07 1531.54 1459.93 1532.01 Q1462.79 1532.49 1465.21 1533.45 Z\" fill=\"#000000\" fill-rule=\"evenodd\" fill-opacity=\"1\" /><polyline clip-path=\"url(#clip762)\" style=\"stroke:#000000; stroke-linecap:round; stroke-linejoin:round; stroke-width:8; stroke-opacity:0.1; fill:none\" points=\"204.45,1384.24 2352.76,1384.24 \"/>\n",
       "<polyline clip-path=\"url(#clip762)\" style=\"stroke:#000000; stroke-linecap:round; stroke-linejoin:round; stroke-width:8; stroke-opacity:0.1; fill:none\" points=\"204.45,1330.15 2352.76,1330.15 \"/>\n",
       "<polyline clip-path=\"url(#clip762)\" style=\"stroke:#000000; stroke-linecap:round; stroke-linejoin:round; stroke-width:8; stroke-opacity:0.1; fill:none\" points=\"204.45,1276.07 2352.76,1276.07 \"/>\n",
       "<polyline clip-path=\"url(#clip762)\" style=\"stroke:#000000; stroke-linecap:round; stroke-linejoin:round; stroke-width:8; stroke-opacity:0.1; fill:none\" points=\"204.45,1221.98 2352.76,1221.98 \"/>\n",
       "<polyline clip-path=\"url(#clip762)\" style=\"stroke:#000000; stroke-linecap:round; stroke-linejoin:round; stroke-width:8; stroke-opacity:0.1; fill:none\" points=\"204.45,1167.9 2352.76,1167.9 \"/>\n",
       "<polyline clip-path=\"url(#clip762)\" style=\"stroke:#000000; stroke-linecap:round; stroke-linejoin:round; stroke-width:8; stroke-opacity:0.1; fill:none\" points=\"204.45,1113.81 2352.76,1113.81 \"/>\n",
       "<polyline clip-path=\"url(#clip762)\" style=\"stroke:#000000; stroke-linecap:round; stroke-linejoin:round; stroke-width:8; stroke-opacity:0.1; fill:none\" points=\"204.45,1059.73 2352.76,1059.73 \"/>\n",
       "<polyline clip-path=\"url(#clip762)\" style=\"stroke:#000000; stroke-linecap:round; stroke-linejoin:round; stroke-width:8; stroke-opacity:0.1; fill:none\" points=\"204.45,1005.64 2352.76,1005.64 \"/>\n",
       "<polyline clip-path=\"url(#clip762)\" style=\"stroke:#000000; stroke-linecap:round; stroke-linejoin:round; stroke-width:8; stroke-opacity:0.1; fill:none\" points=\"204.45,951.554 2352.76,951.554 \"/>\n",
       "<polyline clip-path=\"url(#clip762)\" style=\"stroke:#000000; stroke-linecap:round; stroke-linejoin:round; stroke-width:8; stroke-opacity:0.1; fill:none\" points=\"204.45,897.469 2352.76,897.469 \"/>\n",
       "<polyline clip-path=\"url(#clip762)\" style=\"stroke:#000000; stroke-linecap:round; stroke-linejoin:round; stroke-width:8; stroke-opacity:0.1; fill:none\" points=\"204.45,843.383 2352.76,843.383 \"/>\n",
       "<polyline clip-path=\"url(#clip762)\" style=\"stroke:#000000; stroke-linecap:round; stroke-linejoin:round; stroke-width:8; stroke-opacity:0.1; fill:none\" points=\"204.45,789.297 2352.76,789.297 \"/>\n",
       "<polyline clip-path=\"url(#clip762)\" style=\"stroke:#000000; stroke-linecap:round; stroke-linejoin:round; stroke-width:8; stroke-opacity:0.1; fill:none\" points=\"204.45,735.212 2352.76,735.212 \"/>\n",
       "<polyline clip-path=\"url(#clip762)\" style=\"stroke:#000000; stroke-linecap:round; stroke-linejoin:round; stroke-width:8; stroke-opacity:0.1; fill:none\" points=\"204.45,681.126 2352.76,681.126 \"/>\n",
       "<polyline clip-path=\"url(#clip762)\" style=\"stroke:#000000; stroke-linecap:round; stroke-linejoin:round; stroke-width:8; stroke-opacity:0.1; fill:none\" points=\"204.45,627.041 2352.76,627.041 \"/>\n",
       "<polyline clip-path=\"url(#clip762)\" style=\"stroke:#000000; stroke-linecap:round; stroke-linejoin:round; stroke-width:8; stroke-opacity:0.1; fill:none\" points=\"204.45,572.955 2352.76,572.955 \"/>\n",
       "<polyline clip-path=\"url(#clip762)\" style=\"stroke:#000000; stroke-linecap:round; stroke-linejoin:round; stroke-width:8; stroke-opacity:0.1; fill:none\" points=\"204.45,518.87 2352.76,518.87 \"/>\n",
       "<polyline clip-path=\"url(#clip762)\" style=\"stroke:#000000; stroke-linecap:round; stroke-linejoin:round; stroke-width:8; stroke-opacity:0.1; fill:none\" points=\"204.45,464.784 2352.76,464.784 \"/>\n",
       "<polyline clip-path=\"url(#clip762)\" style=\"stroke:#000000; stroke-linecap:round; stroke-linejoin:round; stroke-width:8; stroke-opacity:0.1; fill:none\" points=\"204.45,410.699 2352.76,410.699 \"/>\n",
       "<polyline clip-path=\"url(#clip762)\" style=\"stroke:#000000; stroke-linecap:round; stroke-linejoin:round; stroke-width:8; stroke-opacity:0.1; fill:none\" points=\"204.45,356.613 2352.76,356.613 \"/>\n",
       "<polyline clip-path=\"url(#clip762)\" style=\"stroke:#000000; stroke-linecap:round; stroke-linejoin:round; stroke-width:8; stroke-opacity:0.1; fill:none\" points=\"204.45,302.528 2352.76,302.528 \"/>\n",
       "<polyline clip-path=\"url(#clip762)\" style=\"stroke:#000000; stroke-linecap:round; stroke-linejoin:round; stroke-width:8; stroke-opacity:0.1; fill:none\" points=\"204.45,248.442 2352.76,248.442 \"/>\n",
       "<polyline clip-path=\"url(#clip762)\" style=\"stroke:#000000; stroke-linecap:round; stroke-linejoin:round; stroke-width:8; stroke-opacity:0.1; fill:none\" points=\"204.45,194.357 2352.76,194.357 \"/>\n",
       "<polyline clip-path=\"url(#clip762)\" style=\"stroke:#000000; stroke-linecap:round; stroke-linejoin:round; stroke-width:8; stroke-opacity:0.1; fill:none\" points=\"204.45,140.271 2352.76,140.271 \"/>\n",
       "<polyline clip-path=\"url(#clip762)\" style=\"stroke:#000000; stroke-linecap:round; stroke-linejoin:round; stroke-width:8; stroke-opacity:0.1; fill:none\" points=\"204.45,86.1857 2352.76,86.1857 \"/>\n",
       "<polyline clip-path=\"url(#clip760)\" style=\"stroke:#000000; stroke-linecap:round; stroke-linejoin:round; stroke-width:4; stroke-opacity:1; fill:none\" points=\"204.45,1423.18 204.45,47.2441 \"/>\n",
       "<polyline clip-path=\"url(#clip760)\" style=\"stroke:#000000; stroke-linecap:round; stroke-linejoin:round; stroke-width:4; stroke-opacity:1; fill:none\" points=\"204.45,1384.24 223.347,1384.24 \"/>\n",
       "<polyline clip-path=\"url(#clip760)\" style=\"stroke:#000000; stroke-linecap:round; stroke-linejoin:round; stroke-width:4; stroke-opacity:1; fill:none\" points=\"204.45,1330.15 223.347,1330.15 \"/>\n",
       "<polyline clip-path=\"url(#clip760)\" style=\"stroke:#000000; stroke-linecap:round; stroke-linejoin:round; stroke-width:4; stroke-opacity:1; fill:none\" points=\"204.45,1276.07 223.347,1276.07 \"/>\n",
       "<polyline clip-path=\"url(#clip760)\" style=\"stroke:#000000; stroke-linecap:round; stroke-linejoin:round; stroke-width:4; stroke-opacity:1; fill:none\" points=\"204.45,1221.98 223.347,1221.98 \"/>\n",
       "<polyline clip-path=\"url(#clip760)\" style=\"stroke:#000000; stroke-linecap:round; stroke-linejoin:round; stroke-width:4; stroke-opacity:1; fill:none\" points=\"204.45,1167.9 223.347,1167.9 \"/>\n",
       "<polyline clip-path=\"url(#clip760)\" style=\"stroke:#000000; stroke-linecap:round; stroke-linejoin:round; stroke-width:4; stroke-opacity:1; fill:none\" points=\"204.45,1113.81 223.347,1113.81 \"/>\n",
       "<polyline clip-path=\"url(#clip760)\" style=\"stroke:#000000; stroke-linecap:round; stroke-linejoin:round; stroke-width:4; stroke-opacity:1; fill:none\" points=\"204.45,1059.73 223.347,1059.73 \"/>\n",
       "<polyline clip-path=\"url(#clip760)\" style=\"stroke:#000000; stroke-linecap:round; stroke-linejoin:round; stroke-width:4; stroke-opacity:1; fill:none\" points=\"204.45,1005.64 223.347,1005.64 \"/>\n",
       "<polyline clip-path=\"url(#clip760)\" style=\"stroke:#000000; stroke-linecap:round; stroke-linejoin:round; stroke-width:4; stroke-opacity:1; fill:none\" points=\"204.45,951.554 223.347,951.554 \"/>\n",
       "<polyline clip-path=\"url(#clip760)\" style=\"stroke:#000000; stroke-linecap:round; stroke-linejoin:round; stroke-width:4; stroke-opacity:1; fill:none\" points=\"204.45,897.469 223.347,897.469 \"/>\n",
       "<polyline clip-path=\"url(#clip760)\" style=\"stroke:#000000; stroke-linecap:round; stroke-linejoin:round; stroke-width:4; stroke-opacity:1; fill:none\" points=\"204.45,843.383 223.347,843.383 \"/>\n",
       "<polyline clip-path=\"url(#clip760)\" style=\"stroke:#000000; stroke-linecap:round; stroke-linejoin:round; stroke-width:4; stroke-opacity:1; fill:none\" points=\"204.45,789.297 223.347,789.297 \"/>\n",
       "<polyline clip-path=\"url(#clip760)\" style=\"stroke:#000000; stroke-linecap:round; stroke-linejoin:round; stroke-width:4; stroke-opacity:1; fill:none\" points=\"204.45,735.212 223.347,735.212 \"/>\n",
       "<polyline clip-path=\"url(#clip760)\" style=\"stroke:#000000; stroke-linecap:round; stroke-linejoin:round; stroke-width:4; stroke-opacity:1; fill:none\" points=\"204.45,681.126 223.347,681.126 \"/>\n",
       "<polyline clip-path=\"url(#clip760)\" style=\"stroke:#000000; stroke-linecap:round; stroke-linejoin:round; stroke-width:4; stroke-opacity:1; fill:none\" points=\"204.45,627.041 223.347,627.041 \"/>\n",
       "<polyline clip-path=\"url(#clip760)\" style=\"stroke:#000000; stroke-linecap:round; stroke-linejoin:round; stroke-width:4; stroke-opacity:1; fill:none\" points=\"204.45,572.955 223.347,572.955 \"/>\n",
       "<polyline clip-path=\"url(#clip760)\" style=\"stroke:#000000; stroke-linecap:round; stroke-linejoin:round; stroke-width:4; stroke-opacity:1; fill:none\" points=\"204.45,518.87 223.347,518.87 \"/>\n",
       "<polyline clip-path=\"url(#clip760)\" style=\"stroke:#000000; stroke-linecap:round; stroke-linejoin:round; stroke-width:4; stroke-opacity:1; fill:none\" points=\"204.45,464.784 223.347,464.784 \"/>\n",
       "<polyline clip-path=\"url(#clip760)\" style=\"stroke:#000000; stroke-linecap:round; stroke-linejoin:round; stroke-width:4; stroke-opacity:1; fill:none\" points=\"204.45,410.699 223.347,410.699 \"/>\n",
       "<polyline clip-path=\"url(#clip760)\" style=\"stroke:#000000; stroke-linecap:round; stroke-linejoin:round; stroke-width:4; stroke-opacity:1; fill:none\" points=\"204.45,356.613 223.347,356.613 \"/>\n",
       "<polyline clip-path=\"url(#clip760)\" style=\"stroke:#000000; stroke-linecap:round; stroke-linejoin:round; stroke-width:4; stroke-opacity:1; fill:none\" points=\"204.45,302.528 223.347,302.528 \"/>\n",
       "<polyline clip-path=\"url(#clip760)\" style=\"stroke:#000000; stroke-linecap:round; stroke-linejoin:round; stroke-width:4; stroke-opacity:1; fill:none\" points=\"204.45,248.442 223.347,248.442 \"/>\n",
       "<polyline clip-path=\"url(#clip760)\" style=\"stroke:#000000; stroke-linecap:round; stroke-linejoin:round; stroke-width:4; stroke-opacity:1; fill:none\" points=\"204.45,194.357 223.347,194.357 \"/>\n",
       "<polyline clip-path=\"url(#clip760)\" style=\"stroke:#000000; stroke-linecap:round; stroke-linejoin:round; stroke-width:4; stroke-opacity:1; fill:none\" points=\"204.45,140.271 223.347,140.271 \"/>\n",
       "<polyline clip-path=\"url(#clip760)\" style=\"stroke:#000000; stroke-linecap:round; stroke-linejoin:round; stroke-width:4; stroke-opacity:1; fill:none\" points=\"204.45,86.1857 223.347,86.1857 \"/>\n",
       "<path clip-path=\"url(#clip760)\" d=\"M156.505 1370.04 Q152.894 1370.04 151.066 1373.6 Q149.26 1377.14 149.26 1384.27 Q149.26 1391.38 151.066 1394.94 Q152.894 1398.49 156.505 1398.49 Q160.14 1398.49 161.945 1394.94 Q163.774 1391.38 163.774 1384.27 Q163.774 1377.14 161.945 1373.6 Q160.14 1370.04 156.505 1370.04 M156.505 1366.33 Q162.315 1366.33 165.371 1370.94 Q168.45 1375.52 168.45 1384.27 Q168.45 1393 165.371 1397.61 Q162.315 1402.19 156.505 1402.19 Q150.695 1402.19 147.616 1397.61 Q144.561 1393 144.561 1384.27 Q144.561 1375.52 147.616 1370.94 Q150.695 1366.33 156.505 1366.33 Z\" fill=\"#000000\" fill-rule=\"evenodd\" fill-opacity=\"1\" /><path clip-path=\"url(#clip760)\" d=\"M148.542 1343.5 L156.181 1343.5 L156.181 1317.13 L147.871 1318.8 L147.871 1314.54 L156.135 1312.87 L160.811 1312.87 L160.811 1343.5 L168.45 1343.5 L168.45 1347.43 L148.542 1347.43 L148.542 1343.5 Z\" fill=\"#000000\" fill-rule=\"evenodd\" fill-opacity=\"1\" /><path clip-path=\"url(#clip760)\" d=\"M152.13 1289.41 L168.45 1289.41 L168.45 1293.35 L146.505 1293.35 L146.505 1289.41 Q149.167 1286.66 153.751 1282.03 Q158.357 1277.38 159.538 1276.03 Q161.783 1273.51 162.663 1271.77 Q163.565 1270.01 163.565 1268.32 Q163.565 1265.57 161.621 1263.83 Q159.7 1262.1 156.598 1262.1 Q154.399 1262.1 151.945 1262.86 Q149.515 1263.63 146.737 1265.18 L146.737 1260.45 Q149.561 1259.32 152.015 1258.74 Q154.468 1258.16 156.505 1258.16 Q161.876 1258.16 165.07 1260.85 Q168.264 1263.53 168.264 1268.02 Q168.264 1270.15 167.454 1272.07 Q166.667 1273.97 164.561 1276.56 Q163.982 1277.24 160.88 1280.45 Q157.778 1283.65 152.13 1289.41 Z\" fill=\"#000000\" fill-rule=\"evenodd\" fill-opacity=\"1\" /><path clip-path=\"url(#clip760)\" d=\"M161.32 1220.63 Q164.677 1221.35 166.552 1223.61 Q168.45 1225.88 168.45 1229.22 Q168.45 1234.33 164.931 1237.13 Q161.413 1239.93 154.931 1239.93 Q152.755 1239.93 150.441 1239.49 Q148.149 1239.08 145.695 1238.22 L145.695 1233.71 Q147.64 1234.84 149.954 1235.42 Q152.269 1236 154.792 1236 Q159.19 1236 161.482 1234.26 Q163.797 1232.53 163.797 1229.22 Q163.797 1226.16 161.644 1224.45 Q159.515 1222.71 155.695 1222.71 L151.667 1222.71 L151.667 1218.87 L155.88 1218.87 Q159.329 1218.87 161.158 1217.5 Q162.987 1216.11 162.987 1213.52 Q162.987 1210.86 161.089 1209.45 Q159.214 1208.01 155.695 1208.01 Q153.774 1208.01 151.575 1208.43 Q149.376 1208.85 146.737 1209.72 L146.737 1205.56 Q149.399 1204.82 151.714 1204.45 Q154.052 1204.08 156.112 1204.08 Q161.436 1204.08 164.538 1206.51 Q167.64 1208.91 167.64 1213.03 Q167.64 1215.91 165.996 1217.9 Q164.352 1219.86 161.32 1220.63 Z\" fill=\"#000000\" fill-rule=\"evenodd\" fill-opacity=\"1\" /><path clip-path=\"url(#clip760)\" d=\"M158.866 1154.69 L147.061 1173.14 L158.866 1173.14 L158.866 1154.69 M157.64 1150.62 L163.519 1150.62 L163.519 1173.14 L168.45 1173.14 L168.45 1177.03 L163.519 1177.03 L163.519 1185.18 L158.866 1185.18 L158.866 1177.03 L143.265 1177.03 L143.265 1172.51 L157.64 1150.62 Z\" fill=\"#000000\" fill-rule=\"evenodd\" fill-opacity=\"1\" /><path clip-path=\"url(#clip760)\" d=\"M147.547 1096.53 L165.903 1096.53 L165.903 1100.47 L151.829 1100.47 L151.829 1108.94 Q152.848 1108.59 153.866 1108.43 Q154.885 1108.24 155.903 1108.24 Q161.69 1108.24 165.07 1111.41 Q168.45 1114.59 168.45 1120 Q168.45 1125.58 164.977 1128.68 Q161.505 1131.76 155.186 1131.76 Q153.01 1131.76 150.741 1131.39 Q148.496 1131.02 146.089 1130.28 L146.089 1125.58 Q148.172 1126.72 150.394 1127.27 Q152.616 1127.83 155.093 1127.83 Q159.098 1127.83 161.436 1125.72 Q163.774 1123.61 163.774 1120 Q163.774 1116.39 161.436 1114.29 Q159.098 1112.18 155.093 1112.18 Q153.218 1112.18 151.343 1112.6 Q149.491 1113.01 147.547 1113.89 L147.547 1096.53 Z\" fill=\"#000000\" fill-rule=\"evenodd\" fill-opacity=\"1\" /><path clip-path=\"url(#clip760)\" d=\"M156.922 1057.86 Q153.774 1057.86 151.922 1060.01 Q150.093 1062.17 150.093 1065.92 Q150.093 1069.64 151.922 1071.82 Q153.774 1073.97 156.922 1073.97 Q160.07 1073.97 161.899 1071.82 Q163.751 1069.64 163.751 1065.92 Q163.751 1062.17 161.899 1060.01 Q160.07 1057.86 156.922 1057.86 M166.204 1043.21 L166.204 1047.47 Q164.445 1046.63 162.64 1046.2 Q160.857 1045.76 159.098 1045.76 Q154.468 1045.76 152.015 1048.88 Q149.584 1052.01 149.237 1058.32 Q150.603 1056.31 152.663 1055.25 Q154.723 1054.16 157.2 1054.16 Q162.408 1054.16 165.417 1057.33 Q168.45 1060.48 168.45 1065.92 Q168.45 1071.24 165.302 1074.46 Q162.153 1077.68 156.922 1077.68 Q150.927 1077.68 147.755 1073.09 Q144.584 1068.49 144.584 1059.76 Q144.584 1051.57 148.473 1046.7 Q152.362 1041.82 158.913 1041.82 Q160.672 1041.82 162.454 1042.17 Q164.26 1042.51 166.204 1043.21 Z\" fill=\"#000000\" fill-rule=\"evenodd\" fill-opacity=\"1\" /><path clip-path=\"url(#clip760)\" d=\"M146.228 988.36 L168.45 988.36 L168.45 990.35 L155.903 1022.92 L151.019 1022.92 L162.825 992.295 L146.228 992.295 L146.228 988.36 Z\" fill=\"#000000\" fill-rule=\"evenodd\" fill-opacity=\"1\" /><path clip-path=\"url(#clip760)\" d=\"M156.598 952.422 Q153.265 952.422 151.343 954.205 Q149.445 955.987 149.445 959.112 Q149.445 962.237 151.343 964.019 Q153.265 965.802 156.598 965.802 Q159.931 965.802 161.852 964.019 Q163.774 962.214 163.774 959.112 Q163.774 955.987 161.852 954.205 Q159.954 952.422 156.598 952.422 M151.922 950.431 Q148.913 949.691 147.223 947.63 Q145.556 945.57 145.556 942.607 Q145.556 938.464 148.496 936.056 Q151.459 933.649 156.598 933.649 Q161.76 933.649 164.7 936.056 Q167.64 938.464 167.64 942.607 Q167.64 945.57 165.95 947.63 Q164.283 949.691 161.297 950.431 Q164.677 951.218 166.552 953.51 Q168.45 955.802 168.45 959.112 Q168.45 964.135 165.371 966.82 Q162.315 969.505 156.598 969.505 Q150.88 969.505 147.802 966.82 Q144.746 964.135 144.746 959.112 Q144.746 955.802 146.644 953.51 Q148.542 951.218 151.922 950.431 M150.209 943.047 Q150.209 945.732 151.876 947.237 Q153.566 948.742 156.598 948.742 Q159.607 948.742 161.297 947.237 Q163.01 945.732 163.01 943.047 Q163.01 940.362 161.297 938.857 Q159.607 937.353 156.598 937.353 Q153.566 937.353 151.876 938.857 Q150.209 940.362 150.209 943.047 Z\" fill=\"#000000\" fill-rule=\"evenodd\" fill-opacity=\"1\" /><path clip-path=\"url(#clip760)\" d=\"M146.829 914.031 L146.829 909.772 Q148.589 910.605 150.394 911.045 Q152.2 911.485 153.936 911.485 Q158.565 911.485 160.996 908.383 Q163.45 905.258 163.797 898.915 Q162.454 900.906 160.394 901.971 Q158.334 903.036 155.834 903.036 Q150.649 903.036 147.616 899.911 Q144.607 896.763 144.607 891.323 Q144.607 885.999 147.755 882.781 Q150.903 879.564 156.135 879.564 Q162.13 879.564 165.278 884.17 Q168.45 888.753 168.45 897.503 Q168.45 905.675 164.561 910.559 Q160.695 915.42 154.144 915.42 Q152.385 915.42 150.579 915.073 Q148.774 914.725 146.829 914.031 M156.135 899.378 Q159.283 899.378 161.112 897.225 Q162.964 895.073 162.964 891.323 Q162.964 887.596 161.112 885.443 Q159.283 883.267 156.135 883.267 Q152.987 883.267 151.135 885.443 Q149.306 887.596 149.306 891.323 Q149.306 895.073 151.135 897.225 Q152.987 899.378 156.135 899.378 Z\" fill=\"#000000\" fill-rule=\"evenodd\" fill-opacity=\"1\" /><path clip-path=\"url(#clip760)\" d=\"M117.154 856.728 L124.793 856.728 L124.793 830.362 L116.482 832.029 L116.482 827.77 L124.746 826.103 L129.422 826.103 L129.422 856.728 L137.061 856.728 L137.061 860.663 L117.154 860.663 L117.154 856.728 Z\" fill=\"#000000\" fill-rule=\"evenodd\" fill-opacity=\"1\" /><path clip-path=\"url(#clip760)\" d=\"M156.505 829.182 Q152.894 829.182 151.066 832.747 Q149.26 836.288 149.26 843.418 Q149.26 850.524 151.066 854.089 Q152.894 857.631 156.505 857.631 Q160.14 857.631 161.945 854.089 Q163.774 850.524 163.774 843.418 Q163.774 836.288 161.945 832.747 Q160.14 829.182 156.505 829.182 M156.505 825.478 Q162.315 825.478 165.371 830.084 Q168.45 834.668 168.45 843.418 Q168.45 852.145 165.371 856.751 Q162.315 861.334 156.505 861.334 Q150.695 861.334 147.616 856.751 Q144.561 852.145 144.561 843.418 Q144.561 834.668 147.616 830.084 Q150.695 825.478 156.505 825.478 Z\" fill=\"#000000\" fill-rule=\"evenodd\" fill-opacity=\"1\" /><path clip-path=\"url(#clip760)\" d=\"M118.381 802.642 L126.019 802.642 L126.019 776.277 L117.709 777.943 L117.709 773.684 L125.973 772.017 L130.649 772.017 L130.649 802.642 L138.288 802.642 L138.288 806.577 L118.381 806.577 L118.381 802.642 Z\" fill=\"#000000\" fill-rule=\"evenodd\" fill-opacity=\"1\" /><path clip-path=\"url(#clip760)\" d=\"M148.542 802.642 L156.181 802.642 L156.181 776.277 L147.871 777.943 L147.871 773.684 L156.135 772.017 L160.811 772.017 L160.811 802.642 L168.45 802.642 L168.45 806.577 L148.542 806.577 L148.542 802.642 Z\" fill=\"#000000\" fill-rule=\"evenodd\" fill-opacity=\"1\" /><path clip-path=\"url(#clip760)\" d=\"M118.751 748.557 L126.39 748.557 L126.39 722.191 L118.08 723.858 L118.08 719.599 L126.343 717.932 L131.019 717.932 L131.019 748.557 L138.658 748.557 L138.658 752.492 L118.751 752.492 L118.751 748.557 Z\" fill=\"#000000\" fill-rule=\"evenodd\" fill-opacity=\"1\" /><path clip-path=\"url(#clip760)\" d=\"M152.13 748.557 L168.45 748.557 L168.45 752.492 L146.505 752.492 L146.505 748.557 Q149.167 745.802 153.751 741.173 Q158.357 736.52 159.538 735.177 Q161.783 732.654 162.663 730.918 Q163.565 729.159 163.565 727.469 Q163.565 724.714 161.621 722.978 Q159.7 721.242 156.598 721.242 Q154.399 721.242 151.945 722.006 Q149.515 722.77 146.737 724.321 L146.737 719.599 Q149.561 718.464 152.015 717.886 Q154.468 717.307 156.505 717.307 Q161.876 717.307 165.07 719.992 Q168.264 722.677 168.264 727.168 Q168.264 729.298 167.454 731.219 Q166.667 733.117 164.561 735.71 Q163.982 736.381 160.88 739.599 Q157.778 742.793 152.13 748.557 Z\" fill=\"#000000\" fill-rule=\"evenodd\" fill-opacity=\"1\" /><path clip-path=\"url(#clip760)\" d=\"M117.802 694.471 L125.441 694.471 L125.441 668.106 L117.131 669.772 L117.131 665.513 L125.394 663.846 L130.07 663.846 L130.07 694.471 L137.709 694.471 L137.709 698.406 L117.802 698.406 L117.802 694.471 Z\" fill=\"#000000\" fill-rule=\"evenodd\" fill-opacity=\"1\" /><path clip-path=\"url(#clip760)\" d=\"M161.32 679.772 Q164.677 680.49 166.552 682.758 Q168.45 685.027 168.45 688.36 Q168.45 693.476 164.931 696.277 Q161.413 699.078 154.931 699.078 Q152.755 699.078 150.441 698.638 Q148.149 698.221 145.695 697.365 L145.695 692.851 Q147.64 693.985 149.954 694.564 Q152.269 695.143 154.792 695.143 Q159.19 695.143 161.482 693.406 Q163.797 691.67 163.797 688.36 Q163.797 685.305 161.644 683.592 Q159.515 681.856 155.695 681.856 L151.667 681.856 L151.667 678.013 L155.88 678.013 Q159.329 678.013 161.158 676.647 Q162.987 675.258 162.987 672.666 Q162.987 670.004 161.089 668.592 Q159.214 667.157 155.695 667.157 Q153.774 667.157 151.575 667.573 Q149.376 667.99 146.737 668.87 L146.737 664.703 Q149.399 663.962 151.714 663.592 Q154.052 663.221 156.112 663.221 Q161.436 663.221 164.538 665.652 Q167.64 668.059 167.64 672.18 Q167.64 675.05 165.996 677.041 Q164.352 679.008 161.32 679.772 Z\" fill=\"#000000\" fill-rule=\"evenodd\" fill-opacity=\"1\" /><path clip-path=\"url(#clip760)\" d=\"M116.668 640.386 L124.306 640.386 L124.306 614.02 L115.996 615.687 L115.996 611.428 L124.26 609.761 L128.936 609.761 L128.936 640.386 L136.575 640.386 L136.575 644.321 L116.668 644.321 L116.668 640.386 Z\" fill=\"#000000\" fill-rule=\"evenodd\" fill-opacity=\"1\" /><path clip-path=\"url(#clip760)\" d=\"M158.866 613.835 L147.061 632.284 L158.866 632.284 L158.866 613.835 M157.64 609.761 L163.519 609.761 L163.519 632.284 L168.45 632.284 L168.45 636.173 L163.519 636.173 L163.519 644.321 L158.866 644.321 L158.866 636.173 L143.265 636.173 L143.265 631.659 L157.64 609.761 Z\" fill=\"#000000\" fill-rule=\"evenodd\" fill-opacity=\"1\" /><path clip-path=\"url(#clip760)\" d=\"M118.149 586.3 L125.788 586.3 L125.788 559.935 L117.478 561.601 L117.478 557.342 L125.742 555.675 L130.417 555.675 L130.417 586.3 L138.056 586.3 L138.056 590.235 L118.149 590.235 L118.149 586.3 Z\" fill=\"#000000\" fill-rule=\"evenodd\" fill-opacity=\"1\" /><path clip-path=\"url(#clip760)\" d=\"M147.547 555.675 L165.903 555.675 L165.903 559.611 L151.829 559.611 L151.829 568.083 Q152.848 567.736 153.866 567.573 Q154.885 567.388 155.903 567.388 Q161.69 567.388 165.07 570.56 Q168.45 573.731 168.45 579.147 Q168.45 584.726 164.977 587.828 Q161.505 590.907 155.186 590.907 Q153.01 590.907 150.741 590.536 Q148.496 590.166 146.089 589.425 L146.089 584.726 Q148.172 585.86 150.394 586.416 Q152.616 586.972 155.093 586.972 Q159.098 586.972 161.436 584.865 Q163.774 582.759 163.774 579.147 Q163.774 575.536 161.436 573.43 Q159.098 571.323 155.093 571.323 Q153.218 571.323 151.343 571.74 Q149.491 572.157 147.547 573.036 L147.547 555.675 Z\" fill=\"#000000\" fill-rule=\"evenodd\" fill-opacity=\"1\" /><path clip-path=\"url(#clip760)\" d=\"M116.992 532.215 L124.63 532.215 L124.63 505.849 L116.32 507.516 L116.32 503.257 L124.584 501.59 L129.26 501.59 L129.26 532.215 L136.899 532.215 L136.899 536.15 L116.992 536.15 L116.992 532.215 Z\" fill=\"#000000\" fill-rule=\"evenodd\" fill-opacity=\"1\" /><path clip-path=\"url(#clip760)\" d=\"M156.922 517.006 Q153.774 517.006 151.922 519.159 Q150.093 521.312 150.093 525.062 Q150.093 528.789 151.922 530.965 Q153.774 533.117 156.922 533.117 Q160.07 533.117 161.899 530.965 Q163.751 528.789 163.751 525.062 Q163.751 521.312 161.899 519.159 Q160.07 517.006 156.922 517.006 M166.204 502.354 L166.204 506.613 Q164.445 505.78 162.64 505.34 Q160.857 504.9 159.098 504.9 Q154.468 504.9 152.015 508.025 Q149.584 511.15 149.237 517.469 Q150.603 515.456 152.663 514.391 Q154.723 513.303 157.2 513.303 Q162.408 513.303 165.417 516.474 Q168.45 519.622 168.45 525.062 Q168.45 530.386 165.302 533.604 Q162.153 536.821 156.922 536.821 Q150.927 536.821 147.755 532.238 Q144.584 527.631 144.584 518.905 Q144.584 510.71 148.473 505.849 Q152.362 500.965 158.913 500.965 Q160.672 500.965 162.454 501.312 Q164.26 501.659 166.204 502.354 Z\" fill=\"#000000\" fill-rule=\"evenodd\" fill-opacity=\"1\" /><path clip-path=\"url(#clip760)\" d=\"M118.056 478.129 L125.695 478.129 L125.695 451.764 L117.385 453.43 L117.385 449.171 L125.649 447.504 L130.325 447.504 L130.325 478.129 L137.964 478.129 L137.964 482.064 L118.056 482.064 L118.056 478.129 Z\" fill=\"#000000\" fill-rule=\"evenodd\" fill-opacity=\"1\" /><path clip-path=\"url(#clip760)\" d=\"M146.228 447.504 L168.45 447.504 L168.45 449.495 L155.903 482.064 L151.019 482.064 L162.825 451.44 L146.228 451.44 L146.228 447.504 Z\" fill=\"#000000\" fill-rule=\"evenodd\" fill-opacity=\"1\" /><path clip-path=\"url(#clip760)\" d=\"M117.246 424.044 L124.885 424.044 L124.885 397.678 L116.575 399.345 L116.575 395.085 L124.839 393.419 L129.515 393.419 L129.515 424.044 L137.154 424.044 L137.154 427.979 L117.246 427.979 L117.246 424.044 Z\" fill=\"#000000\" fill-rule=\"evenodd\" fill-opacity=\"1\" /><path clip-path=\"url(#clip760)\" d=\"M156.598 411.567 Q153.265 411.567 151.343 413.349 Q149.445 415.132 149.445 418.257 Q149.445 421.382 151.343 423.164 Q153.265 424.946 156.598 424.946 Q159.931 424.946 161.852 423.164 Q163.774 421.358 163.774 418.257 Q163.774 415.132 161.852 413.349 Q159.954 411.567 156.598 411.567 M151.922 409.576 Q148.913 408.835 147.223 406.775 Q145.556 404.715 145.556 401.752 Q145.556 397.609 148.496 395.201 Q151.459 392.794 156.598 392.794 Q161.76 392.794 164.7 395.201 Q167.64 397.609 167.64 401.752 Q167.64 404.715 165.95 406.775 Q164.283 408.835 161.297 409.576 Q164.677 410.363 166.552 412.655 Q168.45 414.946 168.45 418.257 Q168.45 423.28 165.371 425.965 Q162.315 428.65 156.598 428.65 Q150.88 428.65 147.802 425.965 Q144.746 423.28 144.746 418.257 Q144.746 414.946 146.644 412.655 Q148.542 410.363 151.922 409.576 M150.209 402.192 Q150.209 404.877 151.876 406.382 Q153.566 407.886 156.598 407.886 Q159.607 407.886 161.297 406.382 Q163.01 404.877 163.01 402.192 Q163.01 399.507 161.297 398.002 Q159.607 396.498 156.598 396.498 Q153.566 396.498 151.876 398.002 Q150.209 399.507 150.209 402.192 Z\" fill=\"#000000\" fill-rule=\"evenodd\" fill-opacity=\"1\" /><path clip-path=\"url(#clip760)\" d=\"M117.339 369.958 L124.978 369.958 L124.978 343.593 L116.668 345.259 L116.668 341 L124.931 339.333 L129.607 339.333 L129.607 369.958 L137.246 369.958 L137.246 373.893 L117.339 373.893 L117.339 369.958 Z\" fill=\"#000000\" fill-rule=\"evenodd\" fill-opacity=\"1\" /><path clip-path=\"url(#clip760)\" d=\"M146.829 373.176 L146.829 368.916 Q148.589 369.75 150.394 370.19 Q152.2 370.629 153.936 370.629 Q158.565 370.629 160.996 367.528 Q163.45 364.403 163.797 358.06 Q162.454 360.051 160.394 361.116 Q158.334 362.18 155.834 362.18 Q150.649 362.18 147.616 359.055 Q144.607 355.907 144.607 350.467 Q144.607 345.143 147.755 341.926 Q150.903 338.708 156.135 338.708 Q162.13 338.708 165.278 343.315 Q168.45 347.898 168.45 356.648 Q168.45 364.819 164.561 369.704 Q160.695 374.565 154.144 374.565 Q152.385 374.565 150.579 374.217 Q148.774 373.87 146.829 373.176 M156.135 358.523 Q159.283 358.523 161.112 356.37 Q162.964 354.217 162.964 350.467 Q162.964 346.741 161.112 344.588 Q159.283 342.412 156.135 342.412 Q152.987 342.412 151.135 344.588 Q149.306 346.741 149.306 350.467 Q149.306 354.217 151.135 356.37 Q152.987 358.523 156.135 358.523 Z\" fill=\"#000000\" fill-rule=\"evenodd\" fill-opacity=\"1\" /><path clip-path=\"url(#clip760)\" d=\"M120.371 315.873 L136.691 315.873 L136.691 319.808 L114.746 319.808 L114.746 315.873 Q117.408 313.118 121.992 308.488 Q126.598 303.836 127.779 302.493 Q130.024 299.97 130.904 298.234 Q131.806 296.475 131.806 294.785 Q131.806 292.03 129.862 290.294 Q127.941 288.558 124.839 288.558 Q122.64 288.558 120.186 289.322 Q117.756 290.086 114.978 291.637 L114.978 286.914 Q117.802 285.78 120.255 285.201 Q122.709 284.623 124.746 284.623 Q130.117 284.623 133.311 287.308 Q136.505 289.993 136.505 294.484 Q136.505 296.613 135.695 298.535 Q134.908 300.433 132.802 303.025 Q132.223 303.697 129.121 306.914 Q126.019 310.109 120.371 315.873 Z\" fill=\"#000000\" fill-rule=\"evenodd\" fill-opacity=\"1\" /><path clip-path=\"url(#clip760)\" d=\"M156.505 288.326 Q152.894 288.326 151.066 291.891 Q149.26 295.433 149.26 302.562 Q149.26 309.669 151.066 313.234 Q152.894 316.775 156.505 316.775 Q160.14 316.775 161.945 313.234 Q163.774 309.669 163.774 302.562 Q163.774 295.433 161.945 291.891 Q160.14 288.326 156.505 288.326 M156.505 284.623 Q162.315 284.623 165.371 289.229 Q168.45 293.813 168.45 302.562 Q168.45 311.289 165.371 315.896 Q162.315 320.479 156.505 320.479 Q150.695 320.479 147.616 315.896 Q144.561 311.289 144.561 302.562 Q144.561 293.813 147.616 289.229 Q150.695 284.623 156.505 284.623 Z\" fill=\"#000000\" fill-rule=\"evenodd\" fill-opacity=\"1\" /><path clip-path=\"url(#clip760)\" d=\"M121.598 261.787 L137.917 261.787 L137.917 265.722 L115.973 265.722 L115.973 261.787 Q118.635 259.032 123.218 254.403 Q127.825 249.75 129.005 248.408 Q131.251 245.884 132.13 244.148 Q133.033 242.389 133.033 240.699 Q133.033 237.945 131.089 236.209 Q129.167 234.472 126.066 234.472 Q123.867 234.472 121.413 235.236 Q118.982 236 116.205 237.551 L116.205 232.829 Q119.029 231.695 121.482 231.116 Q123.936 230.537 125.973 230.537 Q131.343 230.537 134.538 233.222 Q137.732 235.908 137.732 240.398 Q137.732 242.528 136.922 244.449 Q136.135 246.347 134.029 248.94 Q133.45 249.611 130.348 252.829 Q127.246 256.023 121.598 261.787 Z\" fill=\"#000000\" fill-rule=\"evenodd\" fill-opacity=\"1\" /><path clip-path=\"url(#clip760)\" d=\"M148.542 261.787 L156.181 261.787 L156.181 235.421 L147.871 237.088 L147.871 232.829 L156.135 231.162 L160.811 231.162 L160.811 261.787 L168.45 261.787 L168.45 265.722 L148.542 265.722 L148.542 261.787 Z\" fill=\"#000000\" fill-rule=\"evenodd\" fill-opacity=\"1\" /><path clip-path=\"url(#clip760)\" d=\"M121.968 207.702 L138.288 207.702 L138.288 211.637 L116.343 211.637 L116.343 207.702 Q119.006 204.947 123.589 200.317 Q128.195 195.665 129.376 194.322 Q131.621 191.799 132.501 190.063 Q133.404 188.304 133.404 186.614 Q133.404 183.859 131.459 182.123 Q129.538 180.387 126.436 180.387 Q124.237 180.387 121.783 181.151 Q119.353 181.915 116.575 183.466 L116.575 178.743 Q119.399 177.609 121.853 177.03 Q124.306 176.452 126.343 176.452 Q131.714 176.452 134.908 179.137 Q138.103 181.822 138.103 186.313 Q138.103 188.442 137.292 190.364 Q136.505 192.262 134.399 194.854 Q133.82 195.526 130.718 198.743 Q127.617 201.938 121.968 207.702 Z\" fill=\"#000000\" fill-rule=\"evenodd\" fill-opacity=\"1\" /><path clip-path=\"url(#clip760)\" d=\"M152.13 207.702 L168.45 207.702 L168.45 211.637 L146.505 211.637 L146.505 207.702 Q149.167 204.947 153.751 200.317 Q158.357 195.665 159.538 194.322 Q161.783 191.799 162.663 190.063 Q163.565 188.304 163.565 186.614 Q163.565 183.859 161.621 182.123 Q159.7 180.387 156.598 180.387 Q154.399 180.387 151.945 181.151 Q149.515 181.915 146.737 183.466 L146.737 178.743 Q149.561 177.609 152.015 177.03 Q154.468 176.452 156.505 176.452 Q161.876 176.452 165.07 179.137 Q168.264 181.822 168.264 186.313 Q168.264 188.442 167.454 190.364 Q166.667 192.262 164.561 194.854 Q163.982 195.526 160.88 198.743 Q157.778 201.938 152.13 207.702 Z\" fill=\"#000000\" fill-rule=\"evenodd\" fill-opacity=\"1\" /><path clip-path=\"url(#clip760)\" d=\"M121.019 153.616 L137.339 153.616 L137.339 157.551 L115.394 157.551 L115.394 153.616 Q118.056 150.861 122.64 146.232 Q127.246 141.579 128.427 140.236 Q130.672 137.713 131.552 135.977 Q132.455 134.218 132.455 132.528 Q132.455 129.774 130.51 128.037 Q128.589 126.301 125.487 126.301 Q123.288 126.301 120.834 127.065 Q118.404 127.829 115.626 129.38 L115.626 124.658 Q118.45 123.524 120.904 122.945 Q123.357 122.366 125.394 122.366 Q130.765 122.366 133.959 125.051 Q137.154 127.737 137.154 132.227 Q137.154 134.357 136.343 136.278 Q135.556 138.176 133.45 140.769 Q132.871 141.44 129.769 144.658 Q126.667 147.852 121.019 153.616 Z\" fill=\"#000000\" fill-rule=\"evenodd\" fill-opacity=\"1\" /><path clip-path=\"url(#clip760)\" d=\"M161.32 138.917 Q164.677 139.635 166.552 141.903 Q168.45 144.172 168.45 147.505 Q168.45 152.621 164.931 155.422 Q161.413 158.222 154.931 158.222 Q152.755 158.222 150.441 157.783 Q148.149 157.366 145.695 156.51 L145.695 151.996 Q147.64 153.13 149.954 153.709 Q152.269 154.287 154.792 154.287 Q159.19 154.287 161.482 152.551 Q163.797 150.815 163.797 147.505 Q163.797 144.449 161.644 142.736 Q159.515 141 155.695 141 L151.667 141 L151.667 137.158 L155.88 137.158 Q159.329 137.158 161.158 135.792 Q162.987 134.403 162.987 131.811 Q162.987 129.149 161.089 127.737 Q159.214 126.301 155.695 126.301 Q153.774 126.301 151.575 126.718 Q149.376 127.135 146.737 128.014 L146.737 123.848 Q149.399 123.107 151.714 122.737 Q154.052 122.366 156.112 122.366 Q161.436 122.366 164.538 124.797 Q167.64 127.204 167.64 131.324 Q167.64 134.195 165.996 136.186 Q164.352 138.153 161.32 138.917 Z\" fill=\"#000000\" fill-rule=\"evenodd\" fill-opacity=\"1\" /><path clip-path=\"url(#clip760)\" d=\"M119.885 99.5305 L136.204 99.5305 L136.204 103.466 L114.26 103.466 L114.26 99.5305 Q116.922 96.7759 121.505 92.1463 Q126.112 87.4935 127.292 86.151 Q129.538 83.6278 130.417 81.8917 Q131.32 80.1325 131.32 78.4427 Q131.32 75.688 129.376 73.9519 Q127.455 72.2158 124.353 72.2158 Q122.154 72.2158 119.7 72.9797 Q117.269 73.7436 114.492 75.2945 L114.492 70.5723 Q117.316 69.4381 119.769 68.8594 Q122.223 68.2807 124.26 68.2807 Q129.63 68.2807 132.825 70.9658 Q136.019 73.651 136.019 78.1417 Q136.019 80.2714 135.209 82.1926 Q134.422 84.0908 132.316 86.6834 Q131.737 87.3546 128.635 90.5722 Q125.533 93.7667 119.885 99.5305 Z\" fill=\"#000000\" fill-rule=\"evenodd\" fill-opacity=\"1\" /><path clip-path=\"url(#clip760)\" d=\"M158.866 72.9797 L147.061 91.4287 L158.866 91.4287 L158.866 72.9797 M157.64 68.9057 L163.519 68.9057 L163.519 91.4287 L168.45 91.4287 L168.45 95.3176 L163.519 95.3176 L163.519 103.466 L158.866 103.466 L158.866 95.3176 L143.265 95.3176 L143.265 90.8037 L157.64 68.9057 Z\" fill=\"#000000\" fill-rule=\"evenodd\" fill-opacity=\"1\" /><path clip-path=\"url(#clip760)\" d=\"M35.3266 895.15 L35.3266 904.412 L45.9574 907.086 L45.9574 897.76 L35.3266 895.15 M17.2162 899.925 L30.4251 903.235 L30.4251 893.941 L17.2162 890.599 L17.2162 885.506 L30.4251 888.785 L30.4251 878.854 L35.3266 878.854 L35.3266 890.026 L45.9574 892.636 L45.9574 882.514 L50.8271 882.514 L50.8271 893.877 L64.0042 897.187 L64.0042 902.28 L50.8271 899.002 L50.8271 908.327 L64.0042 911.606 L64.0042 916.73 L50.8271 913.42 L50.8271 923.446 L45.9574 923.446 L45.9574 912.242 L35.3266 909.569 L35.3266 919.817 L30.4251 919.817 L30.4251 908.327 L17.2162 905.081 L17.2162 899.925 Z\" fill=\"#000000\" fill-rule=\"evenodd\" fill-opacity=\"1\" /><path clip-path=\"url(#clip760)\" d=\"M28.3562 846.994 L28.3562 841.137 L64.0042 841.137 L64.0042 846.994 L28.3562 846.994 M14.479 846.994 L14.479 841.137 L21.895 841.137 L21.895 846.994 L14.479 846.994 Z\" fill=\"#000000\" fill-rule=\"evenodd\" fill-opacity=\"1\" /><path clip-path=\"url(#clip760)\" d=\"M18.2347 823.091 L28.3562 823.091 L28.3562 811.028 L32.9077 811.028 L32.9077 823.091 L52.2594 823.091 Q56.6199 823.091 57.8613 821.913 Q59.1026 820.703 59.1026 817.043 L59.1026 811.028 L64.0042 811.028 L64.0042 817.043 Q64.0042 823.823 61.4897 826.401 Q58.9434 828.979 52.2594 828.979 L32.9077 828.979 L32.9077 833.276 L28.3562 833.276 L28.3562 828.979 L18.2347 828.979 L18.2347 823.091 Z\" fill=\"#000000\" fill-rule=\"evenodd\" fill-opacity=\"1\" /><path clip-path=\"url(#clip760)\" d=\"M44.7161 772.833 L47.5806 772.833 L47.5806 799.76 Q53.6281 799.378 56.8109 796.132 Q59.9619 792.853 59.9619 787.029 Q59.9619 783.655 59.1344 780.504 Q58.3069 777.321 56.6518 774.202 L62.1899 774.202 Q63.5267 777.353 64.227 780.663 Q64.9272 783.973 64.9272 787.379 Q64.9272 795.909 59.9619 800.906 Q54.9967 805.871 46.5303 805.871 Q37.7774 805.871 32.6531 801.161 Q27.4968 796.418 27.4968 788.397 Q27.4968 781.204 32.1438 777.035 Q36.7589 772.833 44.7161 772.833 M42.9973 778.69 Q38.1912 778.753 35.3266 781.395 Q32.4621 784.005 32.4621 788.334 Q32.4621 793.235 35.2312 796.195 Q38.0002 799.124 43.0292 799.569 L42.9973 778.69 Z\" fill=\"#000000\" fill-rule=\"evenodd\" fill-opacity=\"1\" /><path clip-path=\"url(#clip760)\" d=\"M33.8307 742.564 Q33.2578 743.551 33.0032 744.729 Q32.7167 745.875 32.7167 747.275 Q32.7167 752.24 35.9632 754.914 Q39.1779 757.556 45.2253 757.556 L64.0042 757.556 L64.0042 763.444 L28.3562 763.444 L28.3562 757.556 L33.8944 757.556 Q30.6479 755.71 29.0883 752.749 Q27.4968 749.789 27.4968 745.556 Q27.4968 744.951 27.5923 744.219 Q27.656 743.487 27.8151 742.596 L33.8307 742.564 Z\" fill=\"#000000\" fill-rule=\"evenodd\" fill-opacity=\"1\" /><path clip-path=\"url(#clip760)\" d=\"M46.0847 720.221 Q46.0847 727.318 47.7079 730.056 Q49.3312 732.793 53.2461 732.793 Q56.3653 732.793 58.2114 730.756 Q60.0256 728.687 60.0256 725.154 Q60.0256 720.284 56.5881 717.356 Q53.1188 714.396 47.3897 714.396 L46.0847 714.396 L46.0847 720.221 M43.6657 708.54 L64.0042 708.54 L64.0042 714.396 L58.5933 714.396 Q61.8398 716.401 63.3994 719.393 Q64.9272 722.385 64.9272 726.714 Q64.9272 732.188 61.8716 735.435 Q58.7843 738.649 53.6281 738.649 Q47.6125 738.649 44.5569 734.639 Q41.5014 730.597 41.5014 722.608 L41.5014 714.396 L40.9285 714.396 Q36.8862 714.396 34.6901 717.07 Q32.4621 719.711 32.4621 724.518 Q32.4621 727.573 33.1941 730.47 Q33.9262 733.366 35.3903 736.04 L29.9795 736.04 Q28.7381 732.825 28.1334 729.801 Q27.4968 726.777 27.4968 723.913 Q27.4968 716.179 31.5072 712.359 Q35.5176 708.54 43.6657 708.54 Z\" fill=\"#000000\" fill-rule=\"evenodd\" fill-opacity=\"1\" /><path clip-path=\"url(#clip760)\" d=\"M18.2347 690.684 L28.3562 690.684 L28.3562 678.621 L32.9077 678.621 L32.9077 690.684 L52.2594 690.684 Q56.6199 690.684 57.8613 689.506 Q59.1026 688.297 59.1026 684.636 L59.1026 678.621 L64.0042 678.621 L64.0042 684.636 Q64.0042 691.416 61.4897 693.994 Q58.9434 696.572 52.2594 696.572 L32.9077 696.572 L32.9077 700.869 L28.3562 700.869 L28.3562 696.572 L18.2347 696.572 L18.2347 690.684 Z\" fill=\"#000000\" fill-rule=\"evenodd\" fill-opacity=\"1\" /><path clip-path=\"url(#clip760)\" d=\"M28.3562 670.918 L28.3562 665.062 L64.0042 665.062 L64.0042 670.918 L28.3562 670.918 M14.479 670.918 L14.479 665.062 L21.895 665.062 L21.895 670.918 L14.479 670.918 Z\" fill=\"#000000\" fill-rule=\"evenodd\" fill-opacity=\"1\" /><path clip-path=\"url(#clip760)\" d=\"M32.4621 638.994 Q32.4621 643.705 36.1542 646.442 Q39.8145 649.179 46.212 649.179 Q52.6095 649.179 56.3017 646.474 Q59.9619 643.737 59.9619 638.994 Q59.9619 634.316 56.2698 631.578 Q52.5777 628.841 46.212 628.841 Q39.8781 628.841 36.186 631.578 Q32.4621 634.316 32.4621 638.994 M27.4968 638.994 Q27.4968 631.355 32.4621 626.995 Q37.4273 622.634 46.212 622.634 Q54.9649 622.634 59.9619 626.995 Q64.9272 631.355 64.9272 638.994 Q64.9272 646.665 59.9619 651.025 Q54.9649 655.354 46.212 655.354 Q37.4273 655.354 32.4621 651.025 Q27.4968 646.665 27.4968 638.994 Z\" fill=\"#000000\" fill-rule=\"evenodd\" fill-opacity=\"1\" /><path clip-path=\"url(#clip760)\" d=\"M42.4881 583.294 L64.0042 583.294 L64.0042 589.151 L42.679 589.151 Q37.6183 589.151 35.1038 591.124 Q32.5894 593.098 32.5894 597.044 Q32.5894 601.787 35.6131 604.524 Q38.6368 607.261 43.8567 607.261 L64.0042 607.261 L64.0042 613.15 L28.3562 613.15 L28.3562 607.261 L33.8944 607.261 Q30.6797 605.161 29.0883 602.328 Q27.4968 599.463 27.4968 595.739 Q27.4968 589.596 31.3163 586.445 Q35.1038 583.294 42.4881 583.294 Z\" fill=\"#000000\" fill-rule=\"evenodd\" fill-opacity=\"1\" /><path clip-path=\"url(#clip760)\" d=\"M29.4065 548.888 L34.9447 548.888 Q33.6716 551.37 33.035 554.044 Q32.3984 556.718 32.3984 559.582 Q32.3984 563.943 33.7352 566.139 Q35.072 568.303 37.7456 568.303 Q39.7826 568.303 40.9603 566.744 Q42.1061 565.184 43.1565 560.473 L43.6021 558.468 Q44.9389 552.23 47.3897 549.62 Q49.8086 546.978 54.1691 546.978 Q59.1344 546.978 62.0308 550.925 Q64.9272 554.84 64.9272 561.715 Q64.9272 564.579 64.3543 567.698 Q63.8132 570.786 62.6992 574.223 L56.6518 574.223 Q58.3387 570.977 59.198 567.826 Q60.0256 564.675 60.0256 561.587 Q60.0256 557.45 58.6251 555.222 Q57.1929 552.994 54.6147 552.994 Q52.2276 552.994 50.9545 554.617 Q49.6813 556.208 48.5037 561.651 L48.0262 563.688 Q46.8804 569.131 44.5251 571.55 Q42.138 573.969 38.0002 573.969 Q32.9713 573.969 30.2341 570.404 Q27.4968 566.839 27.4968 560.282 Q27.4968 557.036 27.9743 554.171 Q28.4517 551.307 29.4065 548.888 Z\" fill=\"#000000\" fill-rule=\"evenodd\" fill-opacity=\"1\" /><polyline clip-path=\"url(#clip762)\" style=\"stroke:#009af9; stroke-linecap:round; stroke-linejoin:round; stroke-width:4; stroke-opacity:1; fill:none\" points=\"265.251,627.041 335.137,86.1857 405.023,86.1857 474.91,302.528 544.796,1384.24 614.683,1384.24 684.569,1384.24 754.455,1384.24 824.342,1384.24 894.228,1384.24 964.114,1384.24 1034,1384.24 1103.89,1384.24 1173.77,1384.24 1243.66,1384.24 1313.55,1384.24 1383.43,1384.24 1453.32,1384.24 1523.2,1384.24 1593.09,1384.24 1662.98,1384.24 1732.86,1384.24 1802.75,1384.24 1872.64,1384.24 1942.52,1384.24 2012.41,1384.24 2082.3,1384.24 2152.18,1384.24 2222.07,1384.24 2291.95,1384.24 \"/>\n",
       "<path clip-path=\"url(#clip762)\" d=\"M249.251 611.041 L249.251 643.041 L281.251 643.041 L281.251 611.041 L249.251 611.041 Z\" fill=\"#ff0000\" fill-rule=\"evenodd\" fill-opacity=\"1\" stroke=\"#000000\" stroke-opacity=\"1\" stroke-width=\"3.2\"/>\n",
       "<path clip-path=\"url(#clip762)\" d=\"M319.137 70.1857 L319.137 102.186 L351.137 102.186 L351.137 70.1857 L319.137 70.1857 Z\" fill=\"#ff0000\" fill-rule=\"evenodd\" fill-opacity=\"1\" stroke=\"#000000\" stroke-opacity=\"1\" stroke-width=\"3.2\"/>\n",
       "<path clip-path=\"url(#clip762)\" d=\"M389.023 70.1857 L389.023 102.186 L421.023 102.186 L421.023 70.1857 L389.023 70.1857 Z\" fill=\"#ff0000\" fill-rule=\"evenodd\" fill-opacity=\"1\" stroke=\"#000000\" stroke-opacity=\"1\" stroke-width=\"3.2\"/>\n",
       "<path clip-path=\"url(#clip762)\" d=\"M458.91 286.528 L458.91 318.528 L490.91 318.528 L490.91 286.528 L458.91 286.528 Z\" fill=\"#ff0000\" fill-rule=\"evenodd\" fill-opacity=\"1\" stroke=\"#000000\" stroke-opacity=\"1\" stroke-width=\"3.2\"/>\n",
       "<path clip-path=\"url(#clip762)\" d=\"M528.796 1368.24 L528.796 1400.24 L560.796 1400.24 L560.796 1368.24 L528.796 1368.24 Z\" fill=\"#ff0000\" fill-rule=\"evenodd\" fill-opacity=\"1\" stroke=\"#000000\" stroke-opacity=\"1\" stroke-width=\"3.2\"/>\n",
       "<path clip-path=\"url(#clip762)\" d=\"M598.683 1368.24 L598.683 1400.24 L630.683 1400.24 L630.683 1368.24 L598.683 1368.24 Z\" fill=\"#ff0000\" fill-rule=\"evenodd\" fill-opacity=\"1\" stroke=\"#000000\" stroke-opacity=\"1\" stroke-width=\"3.2\"/>\n",
       "<path clip-path=\"url(#clip762)\" d=\"M668.569 1368.24 L668.569 1400.24 L700.569 1400.24 L700.569 1368.24 L668.569 1368.24 Z\" fill=\"#ff0000\" fill-rule=\"evenodd\" fill-opacity=\"1\" stroke=\"#000000\" stroke-opacity=\"1\" stroke-width=\"3.2\"/>\n",
       "<path clip-path=\"url(#clip762)\" d=\"M738.455 1368.24 L738.455 1400.24 L770.455 1400.24 L770.455 1368.24 L738.455 1368.24 Z\" fill=\"#ff0000\" fill-rule=\"evenodd\" fill-opacity=\"1\" stroke=\"#000000\" stroke-opacity=\"1\" stroke-width=\"3.2\"/>\n",
       "<path clip-path=\"url(#clip762)\" d=\"M808.342 1368.24 L808.342 1400.24 L840.342 1400.24 L840.342 1368.24 L808.342 1368.24 Z\" fill=\"#ff0000\" fill-rule=\"evenodd\" fill-opacity=\"1\" stroke=\"#000000\" stroke-opacity=\"1\" stroke-width=\"3.2\"/>\n",
       "<path clip-path=\"url(#clip762)\" d=\"M878.228 1368.24 L878.228 1400.24 L910.228 1400.24 L910.228 1368.24 L878.228 1368.24 Z\" fill=\"#ff0000\" fill-rule=\"evenodd\" fill-opacity=\"1\" stroke=\"#000000\" stroke-opacity=\"1\" stroke-width=\"3.2\"/>\n",
       "<path clip-path=\"url(#clip762)\" d=\"M948.114 1368.24 L948.114 1400.24 L980.114 1400.24 L980.114 1368.24 L948.114 1368.24 Z\" fill=\"#ff0000\" fill-rule=\"evenodd\" fill-opacity=\"1\" stroke=\"#000000\" stroke-opacity=\"1\" stroke-width=\"3.2\"/>\n",
       "<path clip-path=\"url(#clip762)\" d=\"M1018 1368.24 L1018 1400.24 L1050 1400.24 L1050 1368.24 L1018 1368.24 Z\" fill=\"#ff0000\" fill-rule=\"evenodd\" fill-opacity=\"1\" stroke=\"#000000\" stroke-opacity=\"1\" stroke-width=\"3.2\"/>\n",
       "<path clip-path=\"url(#clip762)\" d=\"M1087.89 1368.24 L1087.89 1400.24 L1119.89 1400.24 L1119.89 1368.24 L1087.89 1368.24 Z\" fill=\"#ff0000\" fill-rule=\"evenodd\" fill-opacity=\"1\" stroke=\"#000000\" stroke-opacity=\"1\" stroke-width=\"3.2\"/>\n",
       "<path clip-path=\"url(#clip762)\" d=\"M1157.77 1368.24 L1157.77 1400.24 L1189.77 1400.24 L1189.77 1368.24 L1157.77 1368.24 Z\" fill=\"#ff0000\" fill-rule=\"evenodd\" fill-opacity=\"1\" stroke=\"#000000\" stroke-opacity=\"1\" stroke-width=\"3.2\"/>\n",
       "<path clip-path=\"url(#clip762)\" d=\"M1227.66 1368.24 L1227.66 1400.24 L1259.66 1400.24 L1259.66 1368.24 L1227.66 1368.24 Z\" fill=\"#ff0000\" fill-rule=\"evenodd\" fill-opacity=\"1\" stroke=\"#000000\" stroke-opacity=\"1\" stroke-width=\"3.2\"/>\n",
       "<path clip-path=\"url(#clip762)\" d=\"M1297.55 1368.24 L1297.55 1400.24 L1329.55 1400.24 L1329.55 1368.24 L1297.55 1368.24 Z\" fill=\"#ff0000\" fill-rule=\"evenodd\" fill-opacity=\"1\" stroke=\"#000000\" stroke-opacity=\"1\" stroke-width=\"3.2\"/>\n",
       "<path clip-path=\"url(#clip762)\" d=\"M1367.43 1368.24 L1367.43 1400.24 L1399.43 1400.24 L1399.43 1368.24 L1367.43 1368.24 Z\" fill=\"#ff0000\" fill-rule=\"evenodd\" fill-opacity=\"1\" stroke=\"#000000\" stroke-opacity=\"1\" stroke-width=\"3.2\"/>\n",
       "<path clip-path=\"url(#clip762)\" d=\"M1437.32 1368.24 L1437.32 1400.24 L1469.32 1400.24 L1469.32 1368.24 L1437.32 1368.24 Z\" fill=\"#ff0000\" fill-rule=\"evenodd\" fill-opacity=\"1\" stroke=\"#000000\" stroke-opacity=\"1\" stroke-width=\"3.2\"/>\n",
       "<path clip-path=\"url(#clip762)\" d=\"M1507.2 1368.24 L1507.2 1400.24 L1539.2 1400.24 L1539.2 1368.24 L1507.2 1368.24 Z\" fill=\"#ff0000\" fill-rule=\"evenodd\" fill-opacity=\"1\" stroke=\"#000000\" stroke-opacity=\"1\" stroke-width=\"3.2\"/>\n",
       "<path clip-path=\"url(#clip762)\" d=\"M1577.09 1368.24 L1577.09 1400.24 L1609.09 1400.24 L1609.09 1368.24 L1577.09 1368.24 Z\" fill=\"#ff0000\" fill-rule=\"evenodd\" fill-opacity=\"1\" stroke=\"#000000\" stroke-opacity=\"1\" stroke-width=\"3.2\"/>\n",
       "<path clip-path=\"url(#clip762)\" d=\"M1646.98 1368.24 L1646.98 1400.24 L1678.98 1400.24 L1678.98 1368.24 L1646.98 1368.24 Z\" fill=\"#ff0000\" fill-rule=\"evenodd\" fill-opacity=\"1\" stroke=\"#000000\" stroke-opacity=\"1\" stroke-width=\"3.2\"/>\n",
       "<path clip-path=\"url(#clip762)\" d=\"M1716.86 1368.24 L1716.86 1400.24 L1748.86 1400.24 L1748.86 1368.24 L1716.86 1368.24 Z\" fill=\"#ff0000\" fill-rule=\"evenodd\" fill-opacity=\"1\" stroke=\"#000000\" stroke-opacity=\"1\" stroke-width=\"3.2\"/>\n",
       "<path clip-path=\"url(#clip762)\" d=\"M1786.75 1368.24 L1786.75 1400.24 L1818.75 1400.24 L1818.75 1368.24 L1786.75 1368.24 Z\" fill=\"#ff0000\" fill-rule=\"evenodd\" fill-opacity=\"1\" stroke=\"#000000\" stroke-opacity=\"1\" stroke-width=\"3.2\"/>\n",
       "<path clip-path=\"url(#clip762)\" d=\"M1856.64 1368.24 L1856.64 1400.24 L1888.64 1400.24 L1888.64 1368.24 L1856.64 1368.24 Z\" fill=\"#ff0000\" fill-rule=\"evenodd\" fill-opacity=\"1\" stroke=\"#000000\" stroke-opacity=\"1\" stroke-width=\"3.2\"/>\n",
       "<path clip-path=\"url(#clip762)\" d=\"M1926.52 1368.24 L1926.52 1400.24 L1958.52 1400.24 L1958.52 1368.24 L1926.52 1368.24 Z\" fill=\"#ff0000\" fill-rule=\"evenodd\" fill-opacity=\"1\" stroke=\"#000000\" stroke-opacity=\"1\" stroke-width=\"3.2\"/>\n",
       "<path clip-path=\"url(#clip762)\" d=\"M1996.41 1368.24 L1996.41 1400.24 L2028.41 1400.24 L2028.41 1368.24 L1996.41 1368.24 Z\" fill=\"#ff0000\" fill-rule=\"evenodd\" fill-opacity=\"1\" stroke=\"#000000\" stroke-opacity=\"1\" stroke-width=\"3.2\"/>\n",
       "<path clip-path=\"url(#clip762)\" d=\"M2066.3 1368.24 L2066.3 1400.24 L2098.3 1400.24 L2098.3 1368.24 L2066.3 1368.24 Z\" fill=\"#ff0000\" fill-rule=\"evenodd\" fill-opacity=\"1\" stroke=\"#000000\" stroke-opacity=\"1\" stroke-width=\"3.2\"/>\n",
       "<path clip-path=\"url(#clip762)\" d=\"M2136.18 1368.24 L2136.18 1400.24 L2168.18 1400.24 L2168.18 1368.24 L2136.18 1368.24 Z\" fill=\"#ff0000\" fill-rule=\"evenodd\" fill-opacity=\"1\" stroke=\"#000000\" stroke-opacity=\"1\" stroke-width=\"3.2\"/>\n",
       "<path clip-path=\"url(#clip762)\" d=\"M2206.07 1368.24 L2206.07 1400.24 L2238.07 1400.24 L2238.07 1368.24 L2206.07 1368.24 Z\" fill=\"#ff0000\" fill-rule=\"evenodd\" fill-opacity=\"1\" stroke=\"#000000\" stroke-opacity=\"1\" stroke-width=\"3.2\"/>\n",
       "<path clip-path=\"url(#clip762)\" d=\"M2275.95 1368.24 L2275.95 1400.24 L2307.95 1400.24 L2307.95 1368.24 L2275.95 1368.24 Z\" fill=\"#ff0000\" fill-rule=\"evenodd\" fill-opacity=\"1\" stroke=\"#000000\" stroke-opacity=\"1\" stroke-width=\"3.2\"/>\n",
       "<path clip-path=\"url(#clip760)\" d=\"M1769.67 196.789 L2281.15 196.789 L2281.15 93.1086 L1769.67 93.1086  Z\" fill=\"#ffffff\" fill-rule=\"evenodd\" fill-opacity=\"1\"/>\n",
       "<polyline clip-path=\"url(#clip760)\" style=\"stroke:#000000; stroke-linecap:round; stroke-linejoin:round; stroke-width:4; stroke-opacity:1; fill:none\" points=\"1769.67,196.789 2281.15,196.789 2281.15,93.1086 1769.67,93.1086 1769.67,196.789 \"/>\n",
       "<polyline clip-path=\"url(#clip760)\" style=\"stroke:#009af9; stroke-linecap:round; stroke-linejoin:round; stroke-width:4; stroke-opacity:1; fill:none\" points=\"1793.54,144.949 1936.76,144.949 \"/>\n",
       "<path clip-path=\"url(#clip760)\" d=\"M1843.05 122.847 L1843.05 167.051 L1887.26 167.051 L1887.26 122.847 L1843.05 122.847 Z\" fill=\"#ff0000\" fill-rule=\"evenodd\" fill-opacity=\"1\" stroke=\"#000000\" stroke-opacity=\"1\" stroke-width=\"5.12\"/>\n",
       "<path clip-path=\"url(#clip760)\" d=\"M1979.55 140.238 L1979.55 126.21 L1983.8 126.21 L1983.8 162.229 L1979.55 162.229 L1979.55 158.34 Q1978.2 160.655 1976.14 161.789 Q1974.11 162.9 1971.24 162.9 Q1966.54 162.9 1963.57 159.15 Q1960.63 155.4 1960.63 149.289 Q1960.63 143.178 1963.57 139.428 Q1966.54 135.678 1971.24 135.678 Q1974.11 135.678 1976.14 136.812 Q1978.2 137.923 1979.55 140.238 M1965.03 149.289 Q1965.03 153.988 1966.95 156.673 Q1968.9 159.335 1972.28 159.335 Q1975.66 159.335 1977.6 156.673 Q1979.55 153.988 1979.55 149.289 Q1979.55 144.59 1977.6 141.928 Q1975.66 139.243 1972.28 139.243 Q1968.9 139.243 1966.95 141.928 Q1965.03 144.59 1965.03 149.289 Z\" fill=\"#000000\" fill-rule=\"evenodd\" fill-opacity=\"1\" /><path clip-path=\"url(#clip760)\" d=\"M2014.75 148.201 L2014.75 150.284 L1995.17 150.284 Q1995.45 154.682 1997.81 156.997 Q2000.19 159.289 2004.43 159.289 Q2006.88 159.289 2009.18 158.687 Q2011.49 158.085 2013.76 156.881 L2013.76 160.909 Q2011.47 161.881 2009.06 162.391 Q2006.65 162.9 2004.18 162.9 Q1997.97 162.9 1994.34 159.289 Q1990.73 155.678 1990.73 149.52 Q1990.73 143.155 1994.15 139.428 Q1997.6 135.678 2003.43 135.678 Q2008.67 135.678 2011.7 139.057 Q2014.75 142.414 2014.75 148.201 M2010.49 146.951 Q2010.45 143.456 2008.53 141.372 Q2006.63 139.289 2003.48 139.289 Q1999.92 139.289 1997.76 141.303 Q1995.63 143.317 1995.31 146.974 L2010.49 146.951 Z\" fill=\"#000000\" fill-rule=\"evenodd\" fill-opacity=\"1\" /><path clip-path=\"url(#clip760)\" d=\"M2040.4 137.298 L2040.4 141.28 Q2038.6 140.284 2036.77 139.798 Q2034.96 139.289 2033.11 139.289 Q2028.97 139.289 2026.68 141.928 Q2024.38 144.544 2024.38 149.289 Q2024.38 154.034 2026.68 156.673 Q2028.97 159.289 2033.11 159.289 Q2034.96 159.289 2036.77 158.803 Q2038.6 158.293 2040.4 157.298 L2040.4 161.233 Q2038.62 162.067 2036.7 162.483 Q2034.8 162.9 2032.65 162.9 Q2026.79 162.9 2023.34 159.219 Q2019.89 155.539 2019.89 149.289 Q2019.89 142.946 2023.36 139.312 Q2026.86 135.678 2032.92 135.678 Q2034.89 135.678 2036.77 136.095 Q2038.64 136.488 2040.4 137.298 Z\" fill=\"#000000\" fill-rule=\"evenodd\" fill-opacity=\"1\" /><path clip-path=\"url(#clip760)\" d=\"M2057.86 139.289 Q2054.43 139.289 2052.44 141.974 Q2050.45 144.636 2050.45 149.289 Q2050.45 153.942 2052.42 156.627 Q2054.41 159.289 2057.86 159.289 Q2061.26 159.289 2063.25 156.604 Q2065.24 153.918 2065.24 149.289 Q2065.24 144.682 2063.25 141.997 Q2061.26 139.289 2057.86 139.289 M2057.86 135.678 Q2063.41 135.678 2066.58 139.289 Q2069.75 142.9 2069.75 149.289 Q2069.75 155.655 2066.58 159.289 Q2063.41 162.9 2057.86 162.9 Q2052.28 162.9 2049.11 159.289 Q2045.96 155.655 2045.96 149.289 Q2045.96 142.9 2049.11 139.289 Q2052.28 135.678 2057.86 135.678 Z\" fill=\"#000000\" fill-rule=\"evenodd\" fill-opacity=\"1\" /><path clip-path=\"url(#clip760)\" d=\"M2097 141.28 Q2098.6 138.409 2100.82 137.044 Q2103.04 135.678 2106.05 135.678 Q2110.1 135.678 2112.3 138.525 Q2114.5 141.349 2114.5 146.581 L2114.5 162.229 L2110.22 162.229 L2110.22 146.719 Q2110.22 142.993 2108.9 141.187 Q2107.58 139.382 2104.87 139.382 Q2101.56 139.382 2099.64 141.581 Q2097.72 143.78 2097.72 147.576 L2097.72 162.229 L2093.43 162.229 L2093.43 146.719 Q2093.43 142.969 2092.11 141.187 Q2090.8 139.382 2088.04 139.382 Q2084.78 139.382 2082.86 141.604 Q2080.93 143.803 2080.93 147.576 L2080.93 162.229 L2076.65 162.229 L2076.65 136.303 L2080.93 136.303 L2080.93 140.331 Q2082.39 137.946 2084.43 136.812 Q2086.47 135.678 2089.27 135.678 Q2092.09 135.678 2094.06 137.113 Q2096.05 138.548 2097 141.28 Z\" fill=\"#000000\" fill-rule=\"evenodd\" fill-opacity=\"1\" /><path clip-path=\"url(#clip760)\" d=\"M2127.11 158.34 L2127.11 172.09 L2122.83 172.09 L2122.83 136.303 L2127.11 136.303 L2127.11 140.238 Q2128.46 137.923 2130.49 136.812 Q2132.55 135.678 2135.4 135.678 Q2140.12 135.678 2143.06 139.428 Q2146.03 143.178 2146.03 149.289 Q2146.03 155.4 2143.06 159.15 Q2140.12 162.9 2135.4 162.9 Q2132.55 162.9 2130.49 161.789 Q2128.46 160.655 2127.11 158.34 M2141.6 149.289 Q2141.6 144.59 2139.66 141.928 Q2137.74 139.243 2134.36 139.243 Q2130.98 139.243 2129.04 141.928 Q2127.11 144.59 2127.11 149.289 Q2127.11 153.988 2129.04 156.673 Q2130.98 159.335 2134.36 159.335 Q2137.74 159.335 2139.66 156.673 Q2141.6 153.988 2141.6 149.289 Z\" fill=\"#000000\" fill-rule=\"evenodd\" fill-opacity=\"1\" /><path clip-path=\"url(#clip760)\" d=\"M2163.13 139.289 Q2159.71 139.289 2157.72 141.974 Q2155.73 144.636 2155.73 149.289 Q2155.73 153.942 2157.69 156.627 Q2159.68 159.289 2163.13 159.289 Q2166.54 159.289 2168.53 156.604 Q2170.52 153.918 2170.52 149.289 Q2170.52 144.682 2168.53 141.997 Q2166.54 139.289 2163.13 139.289 M2163.13 135.678 Q2168.69 135.678 2171.86 139.289 Q2175.03 142.9 2175.03 149.289 Q2175.03 155.655 2171.86 159.289 Q2168.69 162.9 2163.13 162.9 Q2157.55 162.9 2154.38 159.289 Q2151.23 155.655 2151.23 149.289 Q2151.23 142.9 2154.38 139.289 Q2157.55 135.678 2163.13 135.678 Z\" fill=\"#000000\" fill-rule=\"evenodd\" fill-opacity=\"1\" /><path clip-path=\"url(#clip760)\" d=\"M2198.62 137.067 L2198.62 141.094 Q2196.81 140.169 2194.87 139.706 Q2192.92 139.243 2190.84 139.243 Q2187.67 139.243 2186.07 140.215 Q2184.5 141.187 2184.5 143.131 Q2184.5 144.613 2185.63 145.469 Q2186.77 146.303 2190.19 147.067 L2191.65 147.391 Q2196.19 148.363 2198.09 150.145 Q2200.01 151.905 2200.01 155.076 Q2200.01 158.687 2197.14 160.793 Q2194.29 162.9 2189.29 162.9 Q2187.21 162.9 2184.94 162.483 Q2182.69 162.09 2180.19 161.28 L2180.19 156.881 Q2182.55 158.108 2184.85 158.733 Q2187.14 159.335 2189.38 159.335 Q2192.39 159.335 2194.01 158.317 Q2195.63 157.275 2195.63 155.4 Q2195.63 153.664 2194.45 152.738 Q2193.29 151.812 2189.34 150.956 L2187.85 150.608 Q2183.9 149.775 2182.14 148.062 Q2180.38 146.326 2180.38 143.317 Q2180.38 139.659 2182.97 137.669 Q2185.56 135.678 2190.33 135.678 Q2192.69 135.678 2194.78 136.025 Q2196.86 136.372 2198.62 137.067 Z\" fill=\"#000000\" fill-rule=\"evenodd\" fill-opacity=\"1\" /><path clip-path=\"url(#clip760)\" d=\"M2228.97 148.201 L2228.97 150.284 L2209.38 150.284 Q2209.66 154.682 2212.02 156.997 Q2214.41 159.289 2218.64 159.289 Q2221.1 159.289 2223.39 158.687 Q2225.7 158.085 2227.97 156.881 L2227.97 160.909 Q2225.68 161.881 2223.27 162.391 Q2220.86 162.9 2218.39 162.9 Q2212.18 162.9 2208.55 159.289 Q2204.94 155.678 2204.94 149.52 Q2204.94 143.155 2208.36 139.428 Q2211.81 135.678 2217.65 135.678 Q2222.88 135.678 2225.91 139.057 Q2228.97 142.414 2228.97 148.201 M2224.71 146.951 Q2224.66 143.456 2222.74 141.372 Q2220.84 139.289 2217.69 139.289 Q2214.13 139.289 2211.97 141.303 Q2209.85 143.317 2209.52 146.974 L2224.71 146.951 Z\" fill=\"#000000\" fill-rule=\"evenodd\" fill-opacity=\"1\" /><path clip-path=\"url(#clip760)\" d=\"M2253.02 140.238 L2253.02 126.21 L2257.28 126.21 L2257.28 162.229 L2253.02 162.229 L2253.02 158.34 Q2251.67 160.655 2249.61 161.789 Q2247.58 162.9 2244.71 162.9 Q2240.01 162.9 2237.04 159.15 Q2234.1 155.4 2234.1 149.289 Q2234.1 143.178 2237.04 139.428 Q2240.01 135.678 2244.71 135.678 Q2247.58 135.678 2249.61 136.812 Q2251.67 137.923 2253.02 140.238 M2238.5 149.289 Q2238.5 153.988 2240.42 156.673 Q2242.37 159.335 2245.75 159.335 Q2249.13 159.335 2251.07 156.673 Q2253.02 153.988 2253.02 149.289 Q2253.02 144.59 2251.07 141.928 Q2249.13 139.243 2245.75 139.243 Q2242.37 139.243 2240.42 141.928 Q2238.5 144.59 2238.5 149.289 Z\" fill=\"#000000\" fill-rule=\"evenodd\" fill-opacity=\"1\" /></svg>\n"
      ]
     },
     "metadata": {},
     "output_type": "display_data"
    }
   ],
   "source": [
    "# number of iterations\n",
    "function int_ticks(x; step=1) \n",
    "    imin = floor(Int, minimum(x))\n",
    "    imax = ceil(Int, maximum(x))\n",
    "    return range(imin, imax, step=step)\n",
    "end\n",
    "\n",
    "p3 = plot(1:nScenMax,iterTraj_s,xlabel=\"# scenarios\", ylabel=\"# iterations\",marker=:square, markercolor = :red,label=\"decomposed\",yticks=int_ticks(iterTraj_s; step=1),gridlinewidth=2)\n",
    "display(p3)"
   ]
  },
  {
   "cell_type": "code",
   "execution_count": 18,
   "id": "6eec491f",
   "metadata": {},
   "outputs": [
    {
     "data": {
      "image/svg+xml": [
       "<?xml version=\"1.0\" encoding=\"utf-8\"?>\n",
       "<svg xmlns=\"http://www.w3.org/2000/svg\" xmlns:xlink=\"http://www.w3.org/1999/xlink\" width=\"600\" height=\"400\" viewBox=\"0 0 2400 1600\">\n",
       "<defs>\n",
       "  <clipPath id=\"clip800\">\n",
       "    <rect x=\"0\" y=\"0\" width=\"2400\" height=\"1600\"/>\n",
       "  </clipPath>\n",
       "</defs>\n",
       "<path clip-path=\"url(#clip800)\" d=\"M0 1600 L2400 1600 L2400 0 L0 0  Z\" fill=\"#ffffff\" fill-rule=\"evenodd\" fill-opacity=\"1\"/>\n",
       "<defs>\n",
       "  <clipPath id=\"clip801\">\n",
       "    <rect x=\"480\" y=\"0\" width=\"1681\" height=\"1600\"/>\n",
       "  </clipPath>\n",
       "</defs>\n",
       "<path clip-path=\"url(#clip800)\" d=\"M280.487 1423.18 L2352.76 1423.18 L2352.76 47.2441 L280.487 47.2441  Z\" fill=\"#ffffff\" fill-rule=\"evenodd\" fill-opacity=\"1\"/>\n",
       "<defs>\n",
       "  <clipPath id=\"clip802\">\n",
       "    <rect x=\"280\" y=\"47\" width=\"2073\" height=\"1377\"/>\n",
       "  </clipPath>\n",
       "</defs>\n",
       "<polyline clip-path=\"url(#clip800)\" style=\"stroke:#000000; stroke-linecap:round; stroke-linejoin:round; stroke-width:4; stroke-opacity:1; fill:none\" points=\"549.882,1423.18 64251.4,1423.18 \"/>\n",
       "<path clip-path=\"url(#clip800)\" d=\"M10632.1 1451.02 L10650.5 1451.02 L10650.5 1454.96 L10636.4 1454.96 L10636.4 1463.43 Q10637.4 1463.08 10638.4 1462.92 Q10639.4 1462.73 10640.5 1462.73 Q10646.3 1462.73 10649.6 1465.9 Q10653 1469.08 10653 1474.49 Q10653 1480.07 10649.5 1483.17 Q10646.1 1486.25 10639.7 1486.25 Q10637.6 1486.25 10635.3 1485.88 Q10633.1 1485.51 10630.7 1484.77 L10630.7 1480.07 Q10632.7 1481.2 10635 1481.76 Q10637.2 1482.32 10639.7 1482.32 Q10643.7 1482.32 10646 1480.21 Q10648.3 1478.1 10648.3 1474.49 Q10648.3 1470.88 10646 1468.77 Q10643.7 1466.67 10639.7 1466.67 Q10637.8 1466.67 10635.9 1467.08 Q10634.1 1467.5 10632.1 1468.38 L10632.1 1451.02 Z\" fill=\"#000000\" fill-rule=\"evenodd\" fill-opacity=\"1\" /><path clip-path=\"url(#clip800)\" d=\"M20977.9 1481.64 L20985.5 1481.64 L20985.5 1455.28 L20977.2 1456.95 L20977.2 1452.69 L20985.5 1451.02 L20990.1 1451.02 L20990.1 1481.64 L20997.8 1481.64 L20997.8 1485.58 L20977.9 1485.58 L20977.9 1481.64 Z\" fill=\"#000000\" fill-rule=\"evenodd\" fill-opacity=\"1\" /><path clip-path=\"url(#clip800)\" d=\"M21017.2 1454.1 Q21013.6 1454.1 21011.8 1457.66 Q21010 1461.2 21010 1468.33 Q21010 1475.44 21011.8 1479.01 Q21013.6 1482.55 21017.2 1482.55 Q21020.9 1482.55 21022.7 1479.01 Q21024.5 1475.44 21024.5 1468.33 Q21024.5 1461.2 21022.7 1457.66 Q21020.9 1454.1 21017.2 1454.1 M21017.2 1450.39 Q21023 1450.39 21026.1 1455 Q21029.2 1459.58 21029.2 1468.33 Q21029.2 1477.06 21026.1 1481.67 Q21023 1486.25 21017.2 1486.25 Q21011.4 1486.25 21008.3 1481.67 Q21005.3 1477.06 21005.3 1468.33 Q21005.3 1459.58 21008.3 1455 Q21011.4 1450.39 21017.2 1450.39 Z\" fill=\"#000000\" fill-rule=\"evenodd\" fill-opacity=\"1\" /><path clip-path=\"url(#clip800)\" d=\"M31339.7 1481.64 L31347.4 1481.64 L31347.4 1455.28 L31339 1456.95 L31339 1452.69 L31347.3 1451.02 L31352 1451.02 L31352 1481.64 L31359.6 1481.64 L31359.6 1485.58 L31339.7 1485.58 L31339.7 1481.64 Z\" fill=\"#000000\" fill-rule=\"evenodd\" fill-opacity=\"1\" /><path clip-path=\"url(#clip800)\" d=\"M31369.1 1451.02 L31387.5 1451.02 L31387.5 1454.96 L31373.4 1454.96 L31373.4 1463.43 Q31374.4 1463.08 31375.4 1462.92 Q31376.4 1462.73 31377.5 1462.73 Q31383.3 1462.73 31386.6 1465.9 Q31390 1469.08 31390 1474.49 Q31390 1480.07 31386.5 1483.17 Q31383.1 1486.25 31376.7 1486.25 Q31374.6 1486.25 31372.3 1485.88 Q31370.1 1485.51 31367.7 1484.77 L31367.7 1480.07 Q31369.7 1481.2 31372 1481.76 Q31374.2 1482.32 31376.7 1482.32 Q31380.7 1482.32 31383 1480.21 Q31385.3 1478.1 31385.3 1474.49 Q31385.3 1470.88 31383 1468.77 Q31380.7 1466.67 31376.7 1466.67 Q31374.8 1466.67 31372.9 1467.08 Q31371.1 1467.5 31369.1 1468.38 L31369.1 1451.02 Z\" fill=\"#000000\" fill-rule=\"evenodd\" fill-opacity=\"1\" /><path clip-path=\"url(#clip800)\" d=\"M41704.6 1481.64 L41721 1481.64 L41721 1485.58 L41699 1485.58 L41699 1481.64 Q41701.7 1478.89 41706.3 1474.26 Q41710.9 1469.61 41712.1 1468.27 Q41714.3 1465.74 41715.2 1464.01 Q41716.1 1462.25 41716.1 1460.56 Q41716.1 1457.8 41714.1 1456.07 Q41712.2 1454.33 41709.1 1454.33 Q41706.9 1454.33 41704.5 1455.09 Q41702 1455.86 41699.3 1457.41 L41699.3 1452.69 Q41702.1 1451.55 41704.5 1450.97 Q41707 1450.39 41709 1450.39 Q41714.4 1450.39 41717.6 1453.08 Q41720.8 1455.77 41720.8 1460.26 Q41720.8 1462.39 41720 1464.31 Q41719.2 1466.2 41717.1 1468.8 Q41716.5 1469.47 41713.4 1472.69 Q41710.3 1475.88 41704.6 1481.64 Z\" fill=\"#000000\" fill-rule=\"evenodd\" fill-opacity=\"1\" /><path clip-path=\"url(#clip800)\" d=\"M41740.8 1454.1 Q41737.2 1454.1 41735.3 1457.66 Q41733.5 1461.2 41733.5 1468.33 Q41733.5 1475.44 41735.3 1479.01 Q41737.2 1482.55 41740.8 1482.55 Q41744.4 1482.55 41746.2 1479.01 Q41748 1475.44 41748 1468.33 Q41748 1461.2 41746.2 1457.66 Q41744.4 1454.1 41740.8 1454.1 M41740.8 1450.39 Q41746.6 1450.39 41749.6 1455 Q41752.7 1459.58 41752.7 1468.33 Q41752.7 1477.06 41749.6 1481.67 Q41746.6 1486.25 41740.8 1486.25 Q41735 1486.25 41731.9 1481.67 Q41728.8 1477.06 41728.8 1468.33 Q41728.8 1459.58 41731.9 1455 Q41735 1450.39 41740.8 1450.39 Z\" fill=\"#000000\" fill-rule=\"evenodd\" fill-opacity=\"1\" /><path clip-path=\"url(#clip800)\" d=\"M52066.5 1481.64 L52082.8 1481.64 L52082.8 1485.58 L52060.9 1485.58 L52060.9 1481.64 Q52063.5 1478.89 52068.1 1474.26 Q52072.7 1469.61 52073.9 1468.27 Q52076.1 1465.74 52077 1464.01 Q52077.9 1462.25 52077.9 1460.56 Q52077.9 1457.8 52076 1456.07 Q52074.1 1454.33 52071 1454.33 Q52068.8 1454.33 52066.3 1455.09 Q52063.9 1455.86 52061.1 1457.41 L52061.1 1452.69 Q52063.9 1451.55 52066.4 1450.97 Q52068.8 1450.39 52070.9 1450.39 Q52076.2 1450.39 52079.4 1453.08 Q52082.6 1455.77 52082.6 1460.26 Q52082.6 1462.39 52081.8 1464.31 Q52081 1466.2 52078.9 1468.8 Q52078.3 1469.47 52075.2 1472.69 Q52072.1 1475.88 52066.5 1481.64 Z\" fill=\"#000000\" fill-rule=\"evenodd\" fill-opacity=\"1\" /><path clip-path=\"url(#clip800)\" d=\"M52092.7 1451.02 L52111 1451.02 L52111 1454.96 L52097 1454.96 L52097 1463.43 Q52098 1463.08 52099 1462.92 Q52100 1462.73 52101 1462.73 Q52106.8 1462.73 52110.2 1465.9 Q52113.6 1469.08 52113.6 1474.49 Q52113.6 1480.07 52110.1 1483.17 Q52106.6 1486.25 52100.3 1486.25 Q52098.1 1486.25 52095.9 1485.88 Q52093.6 1485.51 52091.2 1484.77 L52091.2 1480.07 Q52093.3 1481.2 52095.5 1481.76 Q52097.7 1482.32 52100.2 1482.32 Q52104.2 1482.32 52106.6 1480.21 Q52108.9 1478.1 52108.9 1474.49 Q52108.9 1470.88 52106.6 1468.77 Q52104.2 1466.67 52100.2 1466.67 Q52098.3 1466.67 52096.5 1467.08 Q52094.6 1467.5 52092.7 1468.38 L52092.7 1451.02 Z\" fill=\"#000000\" fill-rule=\"evenodd\" fill-opacity=\"1\" /><path clip-path=\"url(#clip800)\" d=\"M62437.4 1466.95 Q62440.8 1467.66 62442.6 1469.93 Q62444.5 1472.2 62444.5 1475.53 Q62444.5 1480.65 62441 1483.45 Q62437.5 1486.25 62431 1486.25 Q62428.8 1486.25 62426.5 1485.81 Q62424.2 1485.39 62421.8 1484.54 L62421.8 1480.02 Q62423.7 1481.16 62426 1481.74 Q62428.4 1482.32 62430.9 1482.32 Q62435.3 1482.32 62437.6 1480.58 Q62439.9 1478.84 62439.9 1475.53 Q62439.9 1472.48 62437.7 1470.77 Q62435.6 1469.03 62431.8 1469.03 L62427.8 1469.03 L62427.8 1465.19 L62432 1465.19 Q62435.4 1465.19 62437.2 1463.82 Q62439.1 1462.43 62439.1 1459.84 Q62439.1 1457.18 62437.2 1455.77 Q62435.3 1454.33 62431.8 1454.33 Q62429.9 1454.33 62427.7 1454.75 Q62425.5 1455.16 62422.8 1456.04 L62422.8 1451.88 Q62425.5 1451.14 62427.8 1450.77 Q62430.1 1450.39 62432.2 1450.39 Q62437.5 1450.39 62440.6 1452.83 Q62443.7 1455.23 62443.7 1459.35 Q62443.7 1462.22 62442.1 1464.21 Q62440.4 1466.18 62437.4 1466.95 Z\" fill=\"#000000\" fill-rule=\"evenodd\" fill-opacity=\"1\" /><path clip-path=\"url(#clip800)\" d=\"M62463.4 1454.1 Q62459.8 1454.1 62458 1457.66 Q62456.2 1461.2 62456.2 1468.33 Q62456.2 1475.44 62458 1479.01 Q62459.8 1482.55 62463.4 1482.55 Q62467 1482.55 62468.8 1479.01 Q62470.7 1475.44 62470.7 1468.33 Q62470.7 1461.2 62468.8 1457.66 Q62467 1454.1 62463.4 1454.1 M62463.4 1450.39 Q62469.2 1450.39 62472.3 1455 Q62475.3 1459.58 62475.3 1468.33 Q62475.3 1477.06 62472.3 1481.67 Q62469.2 1486.25 62463.4 1486.25 Q62457.6 1486.25 62454.5 1481.67 Q62451.5 1477.06 62451.5 1468.33 Q62451.5 1459.58 62454.5 1455 Q62457.6 1450.39 62463.4 1450.39 Z\" fill=\"#000000\" fill-rule=\"evenodd\" fill-opacity=\"1\" /><path clip-path=\"url(#clip800)\" d=\"M1156.4 1539.37 L1147.13 1539.37 L1144.46 1550 L1153.79 1550 L1156.4 1539.37 M1151.62 1521.26 L1148.31 1534.46 L1157.61 1534.46 L1160.95 1521.26 L1166.04 1521.26 L1162.76 1534.46 L1172.69 1534.46 L1172.69 1539.37 L1161.52 1539.37 L1158.91 1550 L1169.03 1550 L1169.03 1554.87 L1157.67 1554.87 L1154.36 1568.04 L1149.27 1568.04 L1152.55 1554.87 L1143.22 1554.87 L1139.94 1568.04 L1134.82 1568.04 L1138.13 1554.87 L1128.1 1554.87 L1128.1 1550 L1139.3 1550 L1141.98 1539.37 L1131.73 1539.37 L1131.73 1534.46 L1143.22 1534.46 L1146.47 1521.26 L1151.62 1521.26 Z\" fill=\"#000000\" fill-rule=\"evenodd\" fill-opacity=\"1\" /><path clip-path=\"url(#clip800)\" d=\"M1227.28 1533.45 L1227.28 1538.98 Q1224.8 1537.71 1222.12 1537.07 Q1219.45 1536.44 1216.58 1536.44 Q1212.22 1536.44 1210.03 1537.77 Q1207.86 1539.11 1207.86 1541.79 Q1207.86 1543.82 1209.42 1545 Q1210.98 1546.15 1215.69 1547.2 L1217.7 1547.64 Q1223.94 1548.98 1226.55 1551.43 Q1229.19 1553.85 1229.19 1558.21 Q1229.19 1563.17 1225.24 1566.07 Q1221.33 1568.97 1214.45 1568.97 Q1211.59 1568.97 1208.47 1568.39 Q1205.38 1567.85 1201.94 1566.74 L1201.94 1560.69 Q1205.19 1562.38 1208.34 1563.24 Q1211.49 1564.07 1214.58 1564.07 Q1218.72 1564.07 1220.94 1562.66 Q1223.17 1561.23 1223.17 1558.65 Q1223.17 1556.27 1221.55 1554.99 Q1219.96 1553.72 1214.52 1552.54 L1212.48 1552.07 Q1207.04 1550.92 1204.62 1548.56 Q1202.2 1546.18 1202.2 1542.04 Q1202.2 1537.01 1205.76 1534.27 Q1209.33 1531.54 1215.88 1531.54 Q1219.13 1531.54 1222 1532.01 Q1224.86 1532.49 1227.28 1533.45 Z\" fill=\"#000000\" fill-rule=\"evenodd\" fill-opacity=\"1\" /><path clip-path=\"url(#clip800)\" d=\"M1264.17 1533.76 L1264.17 1539.24 Q1261.69 1537.87 1259.17 1537.2 Q1256.69 1536.5 1254.14 1536.5 Q1248.44 1536.5 1245.29 1540.13 Q1242.14 1543.73 1242.14 1550.25 Q1242.14 1556.78 1245.29 1560.4 Q1248.44 1564 1254.14 1564 Q1256.69 1564 1259.17 1563.33 Q1261.69 1562.63 1264.17 1561.26 L1264.17 1566.68 Q1261.72 1567.82 1259.08 1568.39 Q1256.47 1568.97 1253.51 1568.97 Q1245.45 1568.97 1240.71 1563.91 Q1235.97 1558.85 1235.97 1550.25 Q1235.97 1541.53 1240.74 1536.53 Q1245.55 1531.54 1253.89 1531.54 Q1256.59 1531.54 1259.17 1532.11 Q1261.75 1532.65 1264.17 1533.76 Z\" fill=\"#000000\" fill-rule=\"evenodd\" fill-opacity=\"1\" /><path clip-path=\"url(#clip800)\" d=\"M1304.84 1548.76 L1304.84 1551.62 L1277.92 1551.62 Q1278.3 1557.67 1281.55 1560.85 Q1284.82 1564 1290.65 1564 Q1294.02 1564 1297.17 1563.17 Q1300.36 1562.35 1303.48 1560.69 L1303.48 1566.23 Q1300.33 1567.57 1297.01 1568.27 Q1293.7 1568.97 1290.3 1568.97 Q1281.77 1568.97 1276.77 1564 Q1271.81 1559.04 1271.81 1550.57 Q1271.81 1541.82 1276.52 1536.69 Q1281.26 1531.54 1289.28 1531.54 Q1296.47 1531.54 1300.64 1536.18 Q1304.84 1540.8 1304.84 1548.76 M1298.99 1547.04 Q1298.92 1542.23 1296.28 1539.37 Q1293.67 1536.5 1289.34 1536.5 Q1284.44 1536.5 1281.48 1539.27 Q1278.55 1542.04 1278.11 1547.07 L1298.99 1547.04 Z\" fill=\"#000000\" fill-rule=\"evenodd\" fill-opacity=\"1\" /><path clip-path=\"url(#clip800)\" d=\"M1344.09 1546.53 L1344.09 1568.04 L1338.23 1568.04 L1338.23 1546.72 Q1338.23 1541.66 1336.26 1539.14 Q1334.29 1536.63 1330.34 1536.63 Q1325.6 1536.63 1322.86 1539.65 Q1320.12 1542.68 1320.12 1547.9 L1320.12 1568.04 L1314.23 1568.04 L1314.23 1532.4 L1320.12 1532.4 L1320.12 1537.93 Q1322.22 1534.72 1325.06 1533.13 Q1327.92 1531.54 1331.64 1531.54 Q1337.79 1531.54 1340.94 1535.36 Q1344.09 1539.14 1344.09 1546.53 Z\" fill=\"#000000\" fill-rule=\"evenodd\" fill-opacity=\"1\" /><path clip-path=\"url(#clip800)\" d=\"M1371.97 1550.12 Q1364.87 1550.12 1362.14 1551.75 Q1359.4 1553.37 1359.4 1557.29 Q1359.4 1560.4 1361.44 1562.25 Q1363.5 1564.07 1367.04 1564.07 Q1371.91 1564.07 1374.84 1560.63 Q1377.8 1557.16 1377.8 1551.43 L1377.8 1550.12 L1371.97 1550.12 M1383.65 1547.71 L1383.65 1568.04 L1377.8 1568.04 L1377.8 1562.63 Q1375.79 1565.88 1372.8 1567.44 Q1369.81 1568.97 1365.48 1568.97 Q1360 1568.97 1356.76 1565.91 Q1353.54 1562.82 1353.54 1557.67 Q1353.54 1551.65 1357.55 1548.6 Q1361.59 1545.54 1369.58 1545.54 L1377.8 1545.54 L1377.8 1544.97 Q1377.8 1540.93 1375.12 1538.73 Q1372.48 1536.5 1367.67 1536.5 Q1364.62 1536.5 1361.72 1537.23 Q1358.83 1537.97 1356.15 1539.43 L1356.15 1534.02 Q1359.37 1532.78 1362.39 1532.17 Q1365.41 1531.54 1368.28 1531.54 Q1376.01 1531.54 1379.83 1535.55 Q1383.65 1539.56 1383.65 1547.71 Z\" fill=\"#000000\" fill-rule=\"evenodd\" fill-opacity=\"1\" /><path clip-path=\"url(#clip800)\" d=\"M1416.37 1537.87 Q1415.39 1537.3 1414.21 1537.04 Q1413.06 1536.76 1411.66 1536.76 Q1406.7 1536.76 1404.02 1540 Q1401.38 1543.22 1401.38 1549.27 L1401.38 1568.04 L1395.49 1568.04 L1395.49 1532.4 L1401.38 1532.4 L1401.38 1537.93 Q1403.23 1534.69 1406.19 1533.13 Q1409.15 1531.54 1413.38 1531.54 Q1413.98 1531.54 1414.72 1531.63 Q1415.45 1531.7 1416.34 1531.85 L1416.37 1537.87 Z\" fill=\"#000000\" fill-rule=\"evenodd\" fill-opacity=\"1\" /><path clip-path=\"url(#clip800)\" d=\"M1422.51 1532.4 L1428.37 1532.4 L1428.37 1568.04 L1422.51 1568.04 L1422.51 1532.4 M1422.51 1518.52 L1428.37 1518.52 L1428.37 1525.93 L1422.51 1525.93 L1422.51 1518.52 Z\" fill=\"#000000\" fill-rule=\"evenodd\" fill-opacity=\"1\" /><path clip-path=\"url(#clip800)\" d=\"M1454.44 1536.5 Q1449.73 1536.5 1446.99 1540.19 Q1444.25 1543.85 1444.25 1550.25 Q1444.25 1556.65 1446.96 1560.34 Q1449.7 1564 1454.44 1564 Q1459.12 1564 1461.85 1560.31 Q1464.59 1556.62 1464.59 1550.25 Q1464.59 1543.92 1461.85 1540.23 Q1459.12 1536.5 1454.44 1536.5 M1454.44 1531.54 Q1462.08 1531.54 1466.44 1536.5 Q1470.8 1541.47 1470.8 1550.25 Q1470.8 1559 1466.44 1564 Q1462.08 1568.97 1454.44 1568.97 Q1446.77 1568.97 1442.41 1564 Q1438.08 1559 1438.08 1550.25 Q1438.08 1541.47 1442.41 1536.5 Q1446.77 1531.54 1454.44 1531.54 Z\" fill=\"#000000\" fill-rule=\"evenodd\" fill-opacity=\"1\" /><path clip-path=\"url(#clip800)\" d=\"M1503.23 1533.45 L1503.23 1538.98 Q1500.75 1537.71 1498.08 1537.07 Q1495.4 1536.44 1492.54 1536.44 Q1488.18 1536.44 1485.98 1537.77 Q1483.82 1539.11 1483.82 1541.79 Q1483.82 1543.82 1485.38 1545 Q1486.94 1546.15 1491.65 1547.2 L1493.65 1547.64 Q1499.89 1548.98 1502.5 1551.43 Q1505.14 1553.85 1505.14 1558.21 Q1505.14 1563.17 1501.19 1566.07 Q1497.28 1568.97 1490.41 1568.97 Q1487.54 1568.97 1484.42 1568.39 Q1481.33 1567.85 1477.9 1566.74 L1477.9 1560.69 Q1481.14 1562.38 1484.29 1563.24 Q1487.44 1564.07 1490.53 1564.07 Q1494.67 1564.07 1496.9 1562.66 Q1499.13 1561.23 1499.13 1558.65 Q1499.13 1556.27 1497.5 1554.99 Q1495.91 1553.72 1490.47 1552.54 L1488.43 1552.07 Q1482.99 1550.92 1480.57 1548.56 Q1478.15 1546.18 1478.15 1542.04 Q1478.15 1537.01 1481.72 1534.27 Q1485.28 1531.54 1491.84 1531.54 Q1495.08 1531.54 1497.95 1532.01 Q1500.81 1532.49 1503.23 1533.45 Z\" fill=\"#000000\" fill-rule=\"evenodd\" fill-opacity=\"1\" /><polyline clip-path=\"url(#clip802)\" style=\"stroke:#000000; stroke-linecap:round; stroke-linejoin:round; stroke-width:8; stroke-opacity:0.1; fill:none\" points=\"549.882,1423.18 64251.4,1423.18 \"/>\n",
       "<polyline clip-path=\"url(#clip800)\" style=\"stroke:#000000; stroke-linecap:round; stroke-linejoin:round; stroke-width:4; stroke-opacity:1; fill:none\" points=\"549.882,1423.18 1130.79,1423.18 \"/>\n",
       "<path clip-path=\"url(#clip800)\" d=\"M384.326 1442.97 L391.965 1442.97 L391.965 1416.61 L383.655 1418.27 L383.655 1414.01 L391.919 1412.35 L396.595 1412.35 L396.595 1442.97 L404.234 1442.97 L404.234 1446.91 L384.326 1446.91 L384.326 1442.97 Z\" fill=\"#000000\" fill-rule=\"evenodd\" fill-opacity=\"1\" /><path clip-path=\"url(#clip800)\" d=\"M423.678 1415.43 Q420.067 1415.43 418.238 1418.99 Q416.433 1422.53 416.433 1429.66 Q416.433 1436.77 418.238 1440.33 Q420.067 1443.88 423.678 1443.88 Q427.312 1443.88 429.118 1440.33 Q430.947 1436.77 430.947 1429.66 Q430.947 1422.53 429.118 1418.99 Q427.312 1415.43 423.678 1415.43 M423.678 1411.72 Q429.488 1411.72 432.544 1416.33 Q435.622 1420.91 435.622 1429.66 Q435.622 1438.39 432.544 1443 Q429.488 1447.58 423.678 1447.58 Q417.868 1447.58 414.789 1443 Q411.734 1438.39 411.734 1429.66 Q411.734 1420.91 414.789 1416.33 Q417.868 1411.72 423.678 1411.72 Z\" fill=\"#000000\" fill-rule=\"evenodd\" fill-opacity=\"1\" /><path clip-path=\"url(#clip800)\" d=\"M435.622 1405.82 L459.734 1405.82 L459.734 1409.02 L435.622 1409.02 L435.622 1405.82 Z\" fill=\"#000000\" fill-rule=\"evenodd\" fill-opacity=\"1\" /><path clip-path=\"url(#clip800)\" d=\"M467.596 1391.42 L471.395 1391.42 L471.395 1419.5 L467.596 1419.5 L467.596 1391.42 Z\" fill=\"#000000\" fill-rule=\"evenodd\" fill-opacity=\"1\" /><path clip-path=\"url(#clip800)\" d=\"M496.315 1406.78 L496.315 1419.5 L492.855 1419.5 L492.855 1406.9 Q492.855 1403.91 491.688 1402.42 Q490.522 1400.93 488.19 1400.93 Q485.388 1400.93 483.77 1402.72 Q482.153 1404.51 482.153 1407.59 L482.153 1419.5 L478.673 1419.5 L478.673 1398.43 L482.153 1398.43 L482.153 1401.7 Q483.394 1399.81 485.068 1398.86 Q486.761 1397.92 488.961 1397.92 Q492.591 1397.92 494.453 1400.18 Q496.315 1402.42 496.315 1406.78 Z\" fill=\"#000000\" fill-rule=\"evenodd\" fill-opacity=\"1\" /><path clip-path=\"url(#clip800)\" d=\"M513.882 1390.23 L513.882 1393.11 L510.571 1393.11 Q508.709 1393.11 507.976 1393.86 Q507.261 1394.61 507.261 1396.57 L507.261 1398.43 L512.96 1398.43 L512.96 1401.12 L507.261 1401.12 L507.261 1419.5 L503.782 1419.5 L503.782 1401.12 L500.472 1401.12 L500.472 1398.43 L503.782 1398.43 L503.782 1396.97 Q503.782 1393.45 505.418 1391.85 Q507.054 1390.23 510.609 1390.23 L513.882 1390.23 Z\" fill=\"#000000\" fill-rule=\"evenodd\" fill-opacity=\"1\" /><path clip-path=\"url(#clip800)\" d=\"Mnan nan Lnan nan Lnan nan Lnan nan Lnan nan Lnan nan Lnan nan Lnan nan Lnan nan Lnan nan Lnan nan Lnan nan Z\" fill=\"#000000\" fill-rule=\"evenodd\" fill-opacity=\"1\" /><path clip-path=\"url(#clip800)\" d=\"Mnan nan Qnan nan nan nan Qnan nan nan nan Qnan nan nan nan Qnan nan nan nan Qnan nan nan nan Qnan nan nan nan Qnan nan nan nan Qnan nan nan nan Mnan nan Qnan nan nan nan Qnan nan nan nan Qnan nan nan nan Qnan nan nan nan Qnan nan nan nan Qnan nan nan nan Qnan nan nan nan Qnan nan nan nan Z\" fill=\"#000000\" fill-rule=\"evenodd\" fill-opacity=\"1\" /><path clip-path=\"url(#clip800)\" d=\"Mnan nan Lnan nan Lnan nan Lnan nan Lnan nan Lnan nan Lnan nan Lnan nan Lnan nan Lnan nan Lnan nan Z\" fill=\"#000000\" fill-rule=\"evenodd\" fill-opacity=\"1\" /><path clip-path=\"url(#clip800)\" d=\"Mnan nan Qnan nan nan nan Qnan nan nan nan Qnan nan nan nan Qnan nan nan nan Qnan nan nan nan Qnan nan nan nan Lnan nan Lnan nan Mnan nan Lnan nan Lnan nan Lnan nan Qnan nan nan nan Qnan nan nan nan Qnan nan nan nan Qnan nan nan nan Qnan nan nan nan Qnan nan nan nan Lnan nan Lnan nan Qnan nan nan nan Qnan nan nan nan Qnan nan nan nan Qnan nan nan nan Lnan nan Qnan nan nan nan Qnan nan nan nan Qnan nan nan nan Qnan nan nan nan Z\" fill=\"#000000\" fill-rule=\"evenodd\" fill-opacity=\"1\" /><path clip-path=\"url(#clip800)\" d=\"Mnan nan Lnan nan Lnan nan Lnan nan Lnan nan Lnan nan Lnan nan Lnan nan Lnan nan Lnan nan Lnan nan Z\" fill=\"#000000\" fill-rule=\"evenodd\" fill-opacity=\"1\" /><path clip-path=\"url(#clip800)\" d=\"M32.4621 849.015 Q32.4621 853.726 36.1542 856.463 Q39.8145 859.2 46.212 859.2 Q52.6095 859.2 56.3017 856.495 Q59.9619 853.757 59.9619 849.015 Q59.9619 844.336 56.2698 841.599 Q52.5777 838.862 46.212 838.862 Q39.8781 838.862 36.186 841.599 Q32.4621 844.336 32.4621 849.015 M27.4968 849.015 Q27.4968 841.376 32.4621 837.016 Q37.4273 832.655 46.212 832.655 Q54.9649 832.655 59.9619 837.016 Q64.9272 841.376 64.9272 849.015 Q64.9272 856.686 59.9619 861.046 Q54.9649 865.375 46.212 865.375 Q37.4273 865.375 32.4621 861.046 Q27.4968 856.686 27.4968 849.015 Z\" fill=\"#000000\" fill-rule=\"evenodd\" fill-opacity=\"1\" /><path clip-path=\"url(#clip800)\" d=\"M58.657 817.282 L77.5631 817.282 L77.5631 823.17 L28.3562 823.17 L28.3562 817.282 L33.7671 817.282 Q30.5842 815.436 29.0564 812.635 Q27.4968 809.802 27.4968 805.887 Q27.4968 799.394 32.6531 795.352 Q37.8093 791.278 46.212 791.278 Q54.6147 791.278 59.771 795.352 Q64.9272 799.394 64.9272 805.887 Q64.9272 809.802 63.3994 812.635 Q61.8398 815.436 58.657 817.282 M46.212 797.357 Q39.7508 797.357 36.0905 800.031 Q32.3984 802.673 32.3984 807.32 Q32.3984 811.966 36.0905 814.64 Q39.7508 817.282 46.212 817.282 Q52.6732 817.282 56.3653 814.64 Q60.0256 811.966 60.0256 807.32 Q60.0256 802.673 56.3653 800.031 Q52.6732 797.357 46.212 797.357 Z\" fill=\"#000000\" fill-rule=\"evenodd\" fill-opacity=\"1\" /><path clip-path=\"url(#clip800)\" d=\"M18.2347 775.777 L28.3562 775.777 L28.3562 763.714 L32.9077 763.714 L32.9077 775.777 L52.2594 775.777 Q56.6199 775.777 57.8613 774.6 Q59.1026 773.39 59.1026 769.73 L59.1026 763.714 L64.0042 763.714 L64.0042 769.73 Q64.0042 776.509 61.4897 779.088 Q58.9434 781.666 52.2594 781.666 L32.9077 781.666 L32.9077 785.963 L28.3562 785.963 L28.3562 781.666 L18.2347 781.666 L18.2347 775.777 Z\" fill=\"#000000\" fill-rule=\"evenodd\" fill-opacity=\"1\" /><path clip-path=\"url(#clip800)\" d=\"M45.7664 711.834 Q39.4007 711.834 35.8996 714.476 Q32.3984 717.086 32.3984 721.828 Q32.3984 726.539 35.8996 729.18 Q39.4007 731.79 45.7664 731.79 Q52.1003 731.79 55.6014 729.18 Q59.1026 726.539 59.1026 721.828 Q59.1026 717.086 55.6014 714.476 Q52.1003 711.834 45.7664 711.834 M59.58 705.977 Q68.683 705.977 73.1071 710.02 Q77.5631 714.062 77.5631 722.401 Q77.5631 725.488 77.0857 728.226 Q76.6401 730.963 75.6852 733.541 L69.9879 733.541 Q71.3884 730.963 72.0568 728.448 Q72.7252 725.934 72.7252 723.324 Q72.7252 717.563 69.7015 714.698 Q66.7096 711.834 60.6303 711.834 L57.7339 711.834 Q60.885 713.648 62.4446 716.481 Q64.0042 719.314 64.0042 723.26 Q64.0042 729.817 59.0071 733.827 Q54.01 737.838 45.7664 737.838 Q37.491 737.838 32.4939 733.827 Q27.4968 729.817 27.4968 723.26 Q27.4968 719.314 29.0564 716.481 Q30.616 713.648 33.7671 711.834 L28.3562 711.834 L28.3562 705.977 L59.58 705.977 Z\" fill=\"#000000\" fill-rule=\"evenodd\" fill-opacity=\"1\" /><path clip-path=\"url(#clip800)\" d=\"M46.0847 677.714 Q46.0847 684.811 47.7079 687.549 Q49.3312 690.286 53.2461 690.286 Q56.3653 690.286 58.2114 688.249 Q60.0256 686.18 60.0256 682.647 Q60.0256 677.777 56.5881 674.849 Q53.1188 671.889 47.3897 671.889 L46.0847 671.889 L46.0847 677.714 M43.6657 666.033 L64.0042 666.033 L64.0042 671.889 L58.5933 671.889 Q61.8398 673.894 63.3994 676.886 Q64.9272 679.878 64.9272 684.207 Q64.9272 689.681 61.8716 692.928 Q58.7843 696.142 53.6281 696.142 Q47.6125 696.142 44.5569 692.132 Q41.5014 688.09 41.5014 680.101 L41.5014 671.889 L40.9285 671.889 Q36.8862 671.889 34.6901 674.563 Q32.4621 677.204 32.4621 682.011 Q32.4621 685.066 33.1941 687.963 Q33.9262 690.859 35.3903 693.533 L29.9795 693.533 Q28.7381 690.318 28.1334 687.294 Q27.4968 684.27 27.4968 681.406 Q27.4968 673.671 31.5072 669.852 Q35.5176 666.033 43.6657 666.033 Z\" fill=\"#000000\" fill-rule=\"evenodd\" fill-opacity=\"1\" /><path clip-path=\"url(#clip800)\" d=\"M58.657 648.304 L77.5631 648.304 L77.5631 654.192 L28.3562 654.192 L28.3562 648.304 L33.7671 648.304 Q30.5842 646.458 29.0564 643.657 Q27.4968 640.824 27.4968 636.91 Q27.4968 630.417 32.6531 626.374 Q37.8093 622.3 46.212 622.3 Q54.6147 622.3 59.771 626.374 Q64.9272 630.417 64.9272 636.91 Q64.9272 640.824 63.3994 643.657 Q61.8398 646.458 58.657 648.304 M46.212 628.379 Q39.7508 628.379 36.0905 631.053 Q32.3984 633.695 32.3984 638.342 Q32.3984 642.989 36.0905 645.662 Q39.7508 648.304 46.212 648.304 Q52.6732 648.304 56.3653 645.662 Q60.0256 642.989 60.0256 638.342 Q60.0256 633.695 56.3653 631.053 Q52.6732 628.379 46.212 628.379 Z\" fill=\"#000000\" fill-rule=\"evenodd\" fill-opacity=\"1\" /><path clip-path=\"url(#clip800)\" d=\"M55.9197 611.765 L55.9197 605.049 L64.0042 605.049 L64.0042 611.765 L55.9197 611.765 Z\" fill=\"#000000\" fill-rule=\"evenodd\" fill-opacity=\"1\" /><polyline clip-path=\"url(#clip802)\" style=\"stroke:#009af9; stroke-linecap:round; stroke-linejoin:round; stroke-width:4; stroke-opacity:1; fill:none\" points=\"2352.76,1423.03 4425.03,1423.16 6497.29,1423.18 8569.56,1423.18 10641.8,1423.18 12714.1,1423.18 14786.4,1423.18 16858.6,1423.18 18930.9,1423.18 21003.2,1423.18 23075.4,1423.18 25147.7,1423.18 27220,1423.18 29292.3,1423.18 31364.5,1423.18 33436.8,1423.18 35509.1,1423.18 37581.3,1423.18 39653.6,1423.18 41725.9,1423.18 43798.1,1423.18 45870.4,1423.18 47942.7,1423.18 50014.9,1423.18 52087.2,1423.18 54159.5,1423.18 56231.8,1423.18 58304,1423.18 60376.3,1423.18 62448.6,1423.18 \"/>\n",
       "<path clip-path=\"url(#clip802)\" d=\"M2336.76 1407.03 L2336.76 1439.03 L2368.76 1439.03 L2368.76 1407.03 L2336.76 1407.03 Z\" fill=\"#ff0000\" fill-rule=\"evenodd\" fill-opacity=\"1\" stroke=\"#000000\" stroke-opacity=\"1\" stroke-width=\"3.2\"/>\n",
       "<path clip-path=\"url(#clip800)\" d=\"M1779.81 196.789 L2283.68 196.789 L2283.68 93.1086 L1779.81 93.1086  Z\" fill=\"#ffffff\" fill-rule=\"evenodd\" fill-opacity=\"1\"/>\n",
       "<polyline clip-path=\"url(#clip800)\" style=\"stroke:#000000; stroke-linecap:round; stroke-linejoin:round; stroke-width:4; stroke-opacity:1; fill:none\" points=\"1779.81,196.789 2283.68,196.789 2283.68,93.1086 1779.81,93.1086 1779.81,196.789 \"/>\n",
       "<polyline clip-path=\"url(#clip800)\" style=\"stroke:#009af9; stroke-linecap:round; stroke-linejoin:round; stroke-width:4; stroke-opacity:1; fill:none\" points=\"1802.84,144.949 1940.99,144.949 \"/>\n",
       "<path clip-path=\"url(#clip800)\" d=\"M1850.59 123.629 L1850.59 166.268 L1893.23 166.268 L1893.23 123.629 L1850.59 123.629 Z\" fill=\"#ff0000\" fill-rule=\"evenodd\" fill-opacity=\"1\" stroke=\"#000000\" stroke-opacity=\"1\" stroke-width=\"5.12\"/>\n",
       "<path clip-path=\"url(#clip800)\" d=\"M1982.93 140.238 L1982.93 126.21 L1987.18 126.21 L1987.18 162.229 L1982.93 162.229 L1982.93 158.34 Q1981.58 160.655 1979.52 161.789 Q1977.49 162.9 1974.61 162.9 Q1969.92 162.9 1966.95 159.15 Q1964.01 155.4 1964.01 149.289 Q1964.01 143.178 1966.95 139.428 Q1969.92 135.678 1974.61 135.678 Q1977.49 135.678 1979.52 136.812 Q1981.58 137.923 1982.93 140.238 M1968.41 149.289 Q1968.41 153.988 1970.33 156.673 Q1972.28 159.335 1975.66 159.335 Q1979.04 159.335 1980.98 156.673 Q1982.93 153.988 1982.93 149.289 Q1982.93 144.59 1980.98 141.928 Q1979.04 139.243 1975.66 139.243 Q1972.28 139.243 1970.33 141.928 Q1968.41 144.59 1968.41 149.289 Z\" fill=\"#000000\" fill-rule=\"evenodd\" fill-opacity=\"1\" /><path clip-path=\"url(#clip800)\" d=\"M2018.13 148.201 L2018.13 150.284 L1998.55 150.284 Q1998.83 154.682 2001.19 156.997 Q2003.57 159.289 2007.81 159.289 Q2010.26 159.289 2012.55 158.687 Q2014.87 158.085 2017.14 156.881 L2017.14 160.909 Q2014.85 161.881 2012.44 162.391 Q2010.03 162.9 2007.55 162.9 Q2001.35 162.9 1997.72 159.289 Q1994.11 155.678 1994.11 149.52 Q1994.11 143.155 1997.53 139.428 Q2000.98 135.678 2006.81 135.678 Q2012.05 135.678 2015.08 139.057 Q2018.13 142.414 2018.13 148.201 M2013.87 146.951 Q2013.83 143.456 2011.91 141.372 Q2010.01 139.289 2006.86 139.289 Q2003.3 139.289 2001.14 141.303 Q1999.01 143.317 1998.69 146.974 L2013.87 146.951 Z\" fill=\"#000000\" fill-rule=\"evenodd\" fill-opacity=\"1\" /><path clip-path=\"url(#clip800)\" d=\"M2043.78 137.298 L2043.78 141.28 Q2041.98 140.284 2040.15 139.798 Q2038.34 139.289 2036.49 139.289 Q2032.35 139.289 2030.05 141.928 Q2027.76 144.544 2027.76 149.289 Q2027.76 154.034 2030.05 156.673 Q2032.35 159.289 2036.49 159.289 Q2038.34 159.289 2040.15 158.803 Q2041.98 158.293 2043.78 157.298 L2043.78 161.233 Q2042 162.067 2040.08 162.483 Q2038.18 162.9 2036.03 162.9 Q2030.17 162.9 2026.72 159.219 Q2023.27 155.539 2023.27 149.289 Q2023.27 142.946 2026.74 139.312 Q2030.24 135.678 2036.3 135.678 Q2038.27 135.678 2040.15 136.095 Q2042.02 136.488 2043.78 137.298 Z\" fill=\"#000000\" fill-rule=\"evenodd\" fill-opacity=\"1\" /><path clip-path=\"url(#clip800)\" d=\"M2061.23 139.289 Q2057.81 139.289 2055.82 141.974 Q2053.83 144.636 2053.83 149.289 Q2053.83 153.942 2055.8 156.627 Q2057.79 159.289 2061.23 159.289 Q2064.64 159.289 2066.63 156.604 Q2068.62 153.918 2068.62 149.289 Q2068.62 144.682 2066.63 141.997 Q2064.64 139.289 2061.23 139.289 M2061.23 135.678 Q2066.79 135.678 2069.96 139.289 Q2073.13 142.9 2073.13 149.289 Q2073.13 155.655 2069.96 159.289 Q2066.79 162.9 2061.23 162.9 Q2055.66 162.9 2052.48 159.289 Q2049.34 155.655 2049.34 149.289 Q2049.34 142.9 2052.48 139.289 Q2055.66 135.678 2061.23 135.678 Z\" fill=\"#000000\" fill-rule=\"evenodd\" fill-opacity=\"1\" /><path clip-path=\"url(#clip800)\" d=\"M2100.38 141.28 Q2101.98 138.409 2104.2 137.044 Q2106.42 135.678 2109.43 135.678 Q2113.48 135.678 2115.68 138.525 Q2117.88 141.349 2117.88 146.581 L2117.88 162.229 L2113.6 162.229 L2113.6 146.719 Q2113.6 142.993 2112.28 141.187 Q2110.96 139.382 2108.25 139.382 Q2104.94 139.382 2103.02 141.581 Q2101.1 143.78 2101.1 147.576 L2101.1 162.229 L2096.81 162.229 L2096.81 146.719 Q2096.81 142.969 2095.49 141.187 Q2094.17 139.382 2091.42 139.382 Q2088.16 139.382 2086.23 141.604 Q2084.31 143.803 2084.31 147.576 L2084.31 162.229 L2080.03 162.229 L2080.03 136.303 L2084.31 136.303 L2084.31 140.331 Q2085.77 137.946 2087.81 136.812 Q2089.85 135.678 2092.65 135.678 Q2095.47 135.678 2097.44 137.113 Q2099.43 138.548 2100.38 141.28 Z\" fill=\"#000000\" fill-rule=\"evenodd\" fill-opacity=\"1\" /><path clip-path=\"url(#clip800)\" d=\"M2130.49 158.34 L2130.49 172.09 L2126.21 172.09 L2126.21 136.303 L2130.49 136.303 L2130.49 140.238 Q2131.84 137.923 2133.87 136.812 Q2135.93 135.678 2138.78 135.678 Q2143.5 135.678 2146.44 139.428 Q2149.41 143.178 2149.41 149.289 Q2149.41 155.4 2146.44 159.15 Q2143.5 162.9 2138.78 162.9 Q2135.93 162.9 2133.87 161.789 Q2131.84 160.655 2130.49 158.34 M2144.98 149.289 Q2144.98 144.59 2143.04 141.928 Q2141.12 139.243 2137.74 139.243 Q2134.36 139.243 2132.41 141.928 Q2130.49 144.59 2130.49 149.289 Q2130.49 153.988 2132.41 156.673 Q2134.36 159.335 2137.74 159.335 Q2141.12 159.335 2143.04 156.673 Q2144.98 153.988 2144.98 149.289 Z\" fill=\"#000000\" fill-rule=\"evenodd\" fill-opacity=\"1\" /><path clip-path=\"url(#clip800)\" d=\"M2166.51 139.289 Q2163.09 139.289 2161.1 141.974 Q2159.1 144.636 2159.1 149.289 Q2159.1 153.942 2161.07 156.627 Q2163.06 159.289 2166.51 159.289 Q2169.91 159.289 2171.91 156.604 Q2173.9 153.918 2173.9 149.289 Q2173.9 144.682 2171.91 141.997 Q2169.91 139.289 2166.51 139.289 M2166.51 135.678 Q2172.07 135.678 2175.24 139.289 Q2178.41 142.9 2178.41 149.289 Q2178.41 155.655 2175.24 159.289 Q2172.07 162.9 2166.51 162.9 Q2160.93 162.9 2157.76 159.289 Q2154.61 155.655 2154.61 149.289 Q2154.61 142.9 2157.76 139.289 Q2160.93 135.678 2166.51 135.678 Z\" fill=\"#000000\" fill-rule=\"evenodd\" fill-opacity=\"1\" /><path clip-path=\"url(#clip800)\" d=\"M2202 137.067 L2202 141.094 Q2200.19 140.169 2198.25 139.706 Q2196.3 139.243 2194.22 139.243 Q2191.05 139.243 2189.45 140.215 Q2187.88 141.187 2187.88 143.131 Q2187.88 144.613 2189.01 145.469 Q2190.15 146.303 2193.57 147.067 L2195.03 147.391 Q2199.57 148.363 2201.47 150.145 Q2203.39 151.905 2203.39 155.076 Q2203.39 158.687 2200.52 160.793 Q2197.67 162.9 2192.67 162.9 Q2190.59 162.9 2188.32 162.483 Q2186.07 162.09 2183.57 161.28 L2183.57 156.881 Q2185.93 158.108 2188.22 158.733 Q2190.52 159.335 2192.76 159.335 Q2195.77 159.335 2197.39 158.317 Q2199.01 157.275 2199.01 155.4 Q2199.01 153.664 2197.83 152.738 Q2196.67 151.812 2192.72 150.956 L2191.23 150.608 Q2187.28 149.775 2185.52 148.062 Q2183.76 146.326 2183.76 143.317 Q2183.76 139.659 2186.35 137.669 Q2188.94 135.678 2193.71 135.678 Q2196.07 135.678 2198.16 136.025 Q2200.24 136.372 2202 137.067 Z\" fill=\"#000000\" fill-rule=\"evenodd\" fill-opacity=\"1\" /><path clip-path=\"url(#clip800)\" d=\"M2232.35 148.201 L2232.35 150.284 L2212.76 150.284 Q2213.04 154.682 2215.4 156.997 Q2217.78 159.289 2222.02 159.289 Q2224.47 159.289 2226.77 158.687 Q2229.08 158.085 2231.35 156.881 L2231.35 160.909 Q2229.06 161.881 2226.65 162.391 Q2224.24 162.9 2221.77 162.9 Q2215.56 162.9 2211.93 159.289 Q2208.32 155.678 2208.32 149.52 Q2208.32 143.155 2211.74 139.428 Q2215.19 135.678 2221.03 135.678 Q2226.26 135.678 2229.29 139.057 Q2232.35 142.414 2232.35 148.201 M2228.09 146.951 Q2228.04 143.456 2226.12 141.372 Q2224.22 139.289 2221.07 139.289 Q2217.51 139.289 2215.35 141.303 Q2213.22 143.317 2212.9 146.974 L2228.09 146.951 Z\" fill=\"#000000\" fill-rule=\"evenodd\" fill-opacity=\"1\" /><path clip-path=\"url(#clip800)\" d=\"M2256.4 140.238 L2256.4 126.21 L2260.66 126.21 L2260.66 162.229 L2256.4 162.229 L2256.4 158.34 Q2255.05 160.655 2252.99 161.789 Q2250.96 162.9 2248.09 162.9 Q2243.39 162.9 2240.42 159.15 Q2237.48 155.4 2237.48 149.289 Q2237.48 143.178 2240.42 139.428 Q2243.39 135.678 2248.09 135.678 Q2250.96 135.678 2252.99 136.812 Q2255.05 137.923 2256.4 140.238 M2241.88 149.289 Q2241.88 153.988 2243.8 156.673 Q2245.75 159.335 2249.13 159.335 Q2252.51 159.335 2254.45 156.673 Q2256.4 153.988 2256.4 149.289 Q2256.4 144.59 2254.45 141.928 Q2252.51 139.243 2249.13 139.243 Q2245.75 139.243 2243.8 141.928 Q2241.88 144.59 2241.88 149.289 Z\" fill=\"#000000\" fill-rule=\"evenodd\" fill-opacity=\"1\" /></svg>\n"
      ]
     },
     "metadata": {},
     "output_type": "display_data"
    },
    {
     "name": "stderr",
     "output_type": "stream",
     "text": [
      "\u001b[33m\u001b[1m┌ \u001b[22m\u001b[39m\u001b[33m\u001b[1mWarning: \u001b[22m\u001b[39mNo strict ticks found\n",
      "\u001b[33m\u001b[1m└ \u001b[22m\u001b[39m\u001b[90m@ PlotUtils C:\\Users\\MACC-Jose\\.julia\\packages\\PlotUtils\\bZEEj\\src\\ticks.jl:191\u001b[39m\n",
      "\u001b[33m\u001b[1m┌ \u001b[22m\u001b[39m\u001b[33m\u001b[1mWarning: \u001b[22m\u001b[39mNo strict ticks found\n",
      "\u001b[33m\u001b[1m└ \u001b[22m\u001b[39m\u001b[90m@ PlotUtils C:\\Users\\MACC-Jose\\.julia\\packages\\PlotUtils\\bZEEj\\src\\ticks.jl:191\u001b[39m\n",
      "\u001b[33m\u001b[1m┌ \u001b[22m\u001b[39m\u001b[33m\u001b[1mWarning: \u001b[22m\u001b[39mInvalid negative or zero value 0.0 found at series index 5 for log10 based yscale\n",
      "\u001b[33m\u001b[1m└ \u001b[22m\u001b[39m\u001b[90m@ Plots C:\\Users\\MACC-Jose\\.julia\\packages\\Plots\\QZRtR\\src\\utils.jl:106\u001b[39m\n"
     ]
    }
   ],
   "source": [
    "# number of iterations\n",
    "p4 = plot(1:nScenMax,optGapTraj_s,yscale=:log10,xlabel=\"# scenarios\", ylabel=\"opt gap.\",marker=:square, markercolor = :red,label=\"decomposed\",gridlinewidth=2)\n",
    "display(p4)"
   ]
  },
  {
   "cell_type": "markdown",
   "id": "b10e389c",
   "metadata": {},
   "source": [
    "# Checking the performance of the methods in terms of time vs. nReac"
   ]
  },
  {
   "cell_type": "code",
   "execution_count": 19,
   "id": "9a96c8bd",
   "metadata": {},
   "outputs": [
    {
     "data": {
      "text/plain": [
       "\"evaluating 1 reactors in parallel | option 3\""
      ]
     },
     "metadata": {},
     "output_type": "display_data"
    },
    {
     "data": {
      "text/plain": [
       "\" DB: opt gap = 1.0320443389947607\""
      ]
     },
     "metadata": {},
     "output_type": "display_data"
    },
    {
     "data": {
      "text/plain": [
       "\">>>>>> iteration 1:O\""
      ]
     },
     "metadata": {},
     "output_type": "display_data"
    },
    {
     "data": {
      "text/plain": [
       "\" DB: opt gap = 0.9637009287584378\""
      ]
     },
     "metadata": {},
     "output_type": "display_data"
    },
    {
     "data": {
      "text/plain": [
       "\">>>>>> iteration 2:O\""
      ]
     },
     "metadata": {},
     "output_type": "display_data"
    },
    {
     "data": {
      "text/plain": [
       "\" DB: opt gap = 0.984397641723173\""
      ]
     },
     "metadata": {},
     "output_type": "display_data"
    },
    {
     "data": {
      "text/plain": [
       "\">>>>>> iteration 3:O\""
      ]
     },
     "metadata": {},
     "output_type": "display_data"
    },
    {
     "data": {
      "text/plain": [
       "\" DB: opt gap = 0.923749486287672\""
      ]
     },
     "metadata": {},
     "output_type": "display_data"
    },
    {
     "data": {
      "text/plain": [
       "\">>>>>> iteration 4:O\""
      ]
     },
     "metadata": {},
     "output_type": "display_data"
    },
    {
     "data": {
      "text/plain": [
       "\" DB: opt gap = 0.984300405005905\""
      ]
     },
     "metadata": {},
     "output_type": "display_data"
    },
    {
     "data": {
      "text/plain": [
       "\">>>>>> iteration 5:O\""
      ]
     },
     "metadata": {},
     "output_type": "display_data"
    },
    {
     "data": {
      "text/plain": [
       "\" DB: opt gap = 0.8789015520512516\""
      ]
     },
     "metadata": {},
     "output_type": "display_data"
    },
    {
     "data": {
      "text/plain": [
       "\">>>>>> iteration 6:O\""
      ]
     },
     "metadata": {},
     "output_type": "display_data"
    },
    {
     "data": {
      "text/plain": [
       "\" DB: opt gap = 0.9078742625165804\""
      ]
     },
     "metadata": {},
     "output_type": "display_data"
    },
    {
     "data": {
      "text/plain": [
       "\">>>>>> iteration 7:O\""
      ]
     },
     "metadata": {},
     "output_type": "display_data"
    },
    {
     "data": {
      "text/plain": [
       "\" DB: opt gap = 0.8245933138847746\""
      ]
     },
     "metadata": {},
     "output_type": "display_data"
    },
    {
     "data": {
      "text/plain": [
       "\">>>>>> iteration 8:O\""
      ]
     },
     "metadata": {},
     "output_type": "display_data"
    },
    {
     "data": {
      "text/plain": [
       "\" DB: opt gap = 1.0143380784832878\""
      ]
     },
     "metadata": {},
     "output_type": "display_data"
    },
    {
     "data": {
      "text/plain": [
       "\">>>>>> iteration 9:O\""
      ]
     },
     "metadata": {},
     "output_type": "display_data"
    },
    {
     "data": {
      "text/plain": [
       "\" DB: opt gap = 0.014099970376185347\""
      ]
     },
     "metadata": {},
     "output_type": "display_data"
    },
    {
     "data": {
      "text/plain": [
       "\">>>>>> iteration 10:O\""
      ]
     },
     "metadata": {},
     "output_type": "display_data"
    },
    {
     "data": {
      "text/plain": [
       "\" DB: opt gap = 0.01409231800369356\""
      ]
     },
     "metadata": {},
     "output_type": "display_data"
    },
    {
     "data": {
      "text/plain": [
       "\">>>>>> iteration 11:O\""
      ]
     },
     "metadata": {},
     "output_type": "display_data"
    },
    {
     "data": {
      "text/plain": [
       "\" DB: opt gap = 0.014061646557025518\""
      ]
     },
     "metadata": {},
     "output_type": "display_data"
    },
    {
     "data": {
      "text/plain": [
       "\">>>>>> iteration 12:O\""
      ]
     },
     "metadata": {},
     "output_type": "display_data"
    },
    {
     "data": {
      "text/plain": [
       "\" DB: opt gap = 0.014051676345474067\""
      ]
     },
     "metadata": {},
     "output_type": "display_data"
    },
    {
     "data": {
      "text/plain": [
       "\">>>>>> iteration 13:O\""
      ]
     },
     "metadata": {},
     "output_type": "display_data"
    },
    {
     "data": {
      "text/plain": [
       "\">>>>>> iteration 14:F\""
      ]
     },
     "metadata": {},
     "output_type": "display_data"
    },
    {
     "data": {
      "text/plain": [
       "\" DB: opt gap = 0.014015763222294305\""
      ]
     },
     "metadata": {},
     "output_type": "display_data"
    },
    {
     "data": {
      "text/plain": [
       "\">>>>>> iteration 15:O\""
      ]
     },
     "metadata": {},
     "output_type": "display_data"
    },
    {
     "data": {
      "text/plain": [
       "\" DB: opt gap = 0.013945847665216584\""
      ]
     },
     "metadata": {},
     "output_type": "display_data"
    },
    {
     "data": {
      "text/plain": [
       "\">>>>>> iteration 16:O\""
      ]
     },
     "metadata": {},
     "output_type": "display_data"
    },
    {
     "data": {
      "text/plain": [
       "\" DB: opt gap = 0.013939115064442587\""
      ]
     },
     "metadata": {},
     "output_type": "display_data"
    },
    {
     "data": {
      "text/plain": [
       "\">>>>>> iteration 17:O\""
      ]
     },
     "metadata": {},
     "output_type": "display_data"
    },
    {
     "data": {
      "text/plain": [
       "\" DB: opt gap = 0.01317547354239571\""
      ]
     },
     "metadata": {},
     "output_type": "display_data"
    },
    {
     "data": {
      "text/plain": [
       "\">>>>>> iteration 18:O\""
      ]
     },
     "metadata": {},
     "output_type": "display_data"
    },
    {
     "data": {
      "text/plain": [
       "\" DB: opt gap = 0.01315903060472259\""
      ]
     },
     "metadata": {},
     "output_type": "display_data"
    },
    {
     "data": {
      "text/plain": [
       "\">>>>>> iteration 19:O\""
      ]
     },
     "metadata": {},
     "output_type": "display_data"
    },
    {
     "data": {
      "text/plain": [
       "\" DB: opt gap = 0.012967984833289118\""
      ]
     },
     "metadata": {},
     "output_type": "display_data"
    },
    {
     "data": {
      "text/plain": [
       "\">>>>>> iteration 20:O\""
      ]
     },
     "metadata": {},
     "output_type": "display_data"
    },
    {
     "data": {
      "text/plain": [
       "\" DB: opt gap = 0.012963791718237501\""
      ]
     },
     "metadata": {},
     "output_type": "display_data"
    },
    {
     "data": {
      "text/plain": [
       "\">>>>>> iteration 21:O\""
      ]
     },
     "metadata": {},
     "output_type": "display_data"
    },
    {
     "data": {
      "text/plain": [
       "\" DB: opt gap = 0.012921269879093839\""
      ]
     },
     "metadata": {},
     "output_type": "display_data"
    },
    {
     "data": {
      "text/plain": [
       "\">>>>>> iteration 22:O\""
      ]
     },
     "metadata": {},
     "output_type": "display_data"
    },
    {
     "data": {
      "text/plain": [
       "\" DB: opt gap = 0.01291708575175371\""
      ]
     },
     "metadata": {},
     "output_type": "display_data"
    },
    {
     "data": {
      "text/plain": [
       "\">>>>>> iteration 23:O\""
      ]
     },
     "metadata": {},
     "output_type": "display_data"
    },
    {
     "data": {
      "text/plain": [
       "\" DB: opt gap = 1.0904642044408822e-5\""
      ]
     },
     "metadata": {},
     "output_type": "display_data"
    },
    {
     "data": {
      "text/plain": [
       "\"evaluating 2 reactors in parallel | option 3\""
      ]
     },
     "metadata": {},
     "output_type": "display_data"
    },
    {
     "data": {
      "text/plain": [
       "\" DB: opt gap = 1.3143479588859137\""
      ]
     },
     "metadata": {},
     "output_type": "display_data"
    },
    {
     "data": {
      "text/plain": [
       "\">>>>>> iteration 1:O\""
      ]
     },
     "metadata": {},
     "output_type": "display_data"
    },
    {
     "data": {
      "text/plain": [
       "\" DB: opt gap = 1.0999127435470382\""
      ]
     },
     "metadata": {},
     "output_type": "display_data"
    },
    {
     "data": {
      "text/plain": [
       "\">>>>>> iteration 2:O\""
      ]
     },
     "metadata": {},
     "output_type": "display_data"
    },
    {
     "data": {
      "text/plain": [
       "\" DB: opt gap = 1.137441556028289\""
      ]
     },
     "metadata": {},
     "output_type": "display_data"
    },
    {
     "data": {
      "text/plain": [
       "\">>>>>> iteration 3:O\""
      ]
     },
     "metadata": {},
     "output_type": "display_data"
    },
    {
     "data": {
      "text/plain": [
       "\" DB: opt gap = 1.1496045650786093\""
      ]
     },
     "metadata": {},
     "output_type": "display_data"
    },
    {
     "data": {
      "text/plain": [
       "\">>>>>> iteration 4:O\""
      ]
     },
     "metadata": {},
     "output_type": "display_data"
    },
    {
     "data": {
      "text/plain": [
       "\" DB: opt gap = 0.9681934611682144\""
      ]
     },
     "metadata": {},
     "output_type": "display_data"
    },
    {
     "data": {
      "text/plain": [
       "\">>>>>> iteration 5:O\""
      ]
     },
     "metadata": {},
     "output_type": "display_data"
    },
    {
     "data": {
      "text/plain": [
       "\" DB: opt gap = 0.9356985006672854\""
      ]
     },
     "metadata": {},
     "output_type": "display_data"
    },
    {
     "data": {
      "text/plain": [
       "\">>>>>> iteration 6:O\""
      ]
     },
     "metadata": {},
     "output_type": "display_data"
    },
    {
     "data": {
      "text/plain": [
       "\" DB: opt gap = 1.0098463909751967\""
      ]
     },
     "metadata": {},
     "output_type": "display_data"
    },
    {
     "data": {
      "text/plain": [
       "\">>>>>> iteration 7:O\""
      ]
     },
     "metadata": {},
     "output_type": "display_data"
    },
    {
     "data": {
      "text/plain": [
       "\" DB: opt gap = 0.9120722617827896\""
      ]
     },
     "metadata": {},
     "output_type": "display_data"
    },
    {
     "data": {
      "text/plain": [
       "\">>>>>> iteration 8:O\""
      ]
     },
     "metadata": {},
     "output_type": "display_data"
    },
    {
     "data": {
      "text/plain": [
       "\" DB: opt gap = 0.015387456519240186\""
      ]
     },
     "metadata": {},
     "output_type": "display_data"
    },
    {
     "data": {
      "text/plain": [
       "\">>>>>> iteration 9:O\""
      ]
     },
     "metadata": {},
     "output_type": "display_data"
    },
    {
     "data": {
      "text/plain": [
       "\" DB: opt gap = 0.01525537094966655\""
      ]
     },
     "metadata": {},
     "output_type": "display_data"
    },
    {
     "data": {
      "text/plain": [
       "\">>>>>> iteration 10:O\""
      ]
     },
     "metadata": {},
     "output_type": "display_data"
    },
    {
     "data": {
      "text/plain": [
       "\" DB: opt gap = 0.015216939962064583\""
      ]
     },
     "metadata": {},
     "output_type": "display_data"
    },
    {
     "data": {
      "text/plain": [
       "\">>>>>> iteration 11:O\""
      ]
     },
     "metadata": {},
     "output_type": "display_data"
    },
    {
     "data": {
      "text/plain": [
       "\">>>>>> iteration 12:F\""
      ]
     },
     "metadata": {},
     "output_type": "display_data"
    },
    {
     "data": {
      "text/plain": [
       "\" DB: opt gap = 0.015098241932976514\""
      ]
     },
     "metadata": {},
     "output_type": "display_data"
    },
    {
     "data": {
      "text/plain": [
       "\">>>>>> iteration 13:O\""
      ]
     },
     "metadata": {},
     "output_type": "display_data"
    },
    {
     "data": {
      "text/plain": [
       "\" DB: opt gap = 0.015059795442698256\""
      ]
     },
     "metadata": {},
     "output_type": "display_data"
    },
    {
     "data": {
      "text/plain": [
       "\">>>>>> iteration 14:O\""
      ]
     },
     "metadata": {},
     "output_type": "display_data"
    },
    {
     "data": {
      "text/plain": [
       "\" DB: opt gap = 0.01471204799500166\""
      ]
     },
     "metadata": {},
     "output_type": "display_data"
    },
    {
     "data": {
      "text/plain": [
       "\">>>>>> iteration 15:O\""
      ]
     },
     "metadata": {},
     "output_type": "display_data"
    },
    {
     "data": {
      "text/plain": [
       "\" DB: opt gap = 0.014683354498008535\""
      ]
     },
     "metadata": {},
     "output_type": "display_data"
    },
    {
     "data": {
      "text/plain": [
       "\">>>>>> iteration 16:O\""
      ]
     },
     "metadata": {},
     "output_type": "display_data"
    },
    {
     "data": {
      "text/plain": [
       "\" DB: opt gap = 3.041749180068331e-5\""
      ]
     },
     "metadata": {},
     "output_type": "display_data"
    },
    {
     "data": {
      "text/plain": [
       "\"evaluating 3 reactors in parallel | option 3\""
      ]
     },
     "metadata": {},
     "output_type": "display_data"
    },
    {
     "data": {
      "text/plain": [
       "\" DB: opt gap = 1.8762103660025657\""
      ]
     },
     "metadata": {},
     "output_type": "display_data"
    },
    {
     "data": {
      "text/plain": [
       "\">>>>>> iteration 1:O\""
      ]
     },
     "metadata": {},
     "output_type": "display_data"
    },
    {
     "data": {
      "text/plain": [
       "\" DB: opt gap = 1.5858167028057724\""
      ]
     },
     "metadata": {},
     "output_type": "display_data"
    },
    {
     "data": {
      "text/plain": [
       "\">>>>>> iteration 2:O\""
      ]
     },
     "metadata": {},
     "output_type": "display_data"
    },
    {
     "data": {
      "text/plain": [
       "\" DB: opt gap = 1.622345463173167\""
      ]
     },
     "metadata": {},
     "output_type": "display_data"
    },
    {
     "data": {
      "text/plain": [
       "\">>>>>> iteration 3:O\""
      ]
     },
     "metadata": {},
     "output_type": "display_data"
    },
    {
     "data": {
      "text/plain": [
       "\" DB: opt gap = 1.6072444660175758\""
      ]
     },
     "metadata": {},
     "output_type": "display_data"
    },
    {
     "data": {
      "text/plain": [
       "\">>>>>> iteration 4:O\""
      ]
     },
     "metadata": {},
     "output_type": "display_data"
    },
    {
     "data": {
      "text/plain": [
       "\" DB: opt gap = 1.27033375540968\""
      ]
     },
     "metadata": {},
     "output_type": "display_data"
    },
    {
     "data": {
      "text/plain": [
       "\">>>>>> iteration 5:O\""
      ]
     },
     "metadata": {},
     "output_type": "display_data"
    },
    {
     "data": {
      "text/plain": [
       "\" DB: opt gap = 1.2799248700690213\""
      ]
     },
     "metadata": {},
     "output_type": "display_data"
    },
    {
     "data": {
      "text/plain": [
       "\">>>>>> iteration 6:O\""
      ]
     },
     "metadata": {},
     "output_type": "display_data"
    },
    {
     "data": {
      "text/plain": [
       "\" DB: opt gap = 1.0957156670711994\""
      ]
     },
     "metadata": {},
     "output_type": "display_data"
    },
    {
     "data": {
      "text/plain": [
       "\">>>>>> iteration 7:O\""
      ]
     },
     "metadata": {},
     "output_type": "display_data"
    },
    {
     "data": {
      "text/plain": [
       "\" DB: opt gap = 1.195740336917117\""
      ]
     },
     "metadata": {},
     "output_type": "display_data"
    },
    {
     "data": {
      "text/plain": [
       "\">>>>>> iteration 8:O\""
      ]
     },
     "metadata": {},
     "output_type": "display_data"
    },
    {
     "data": {
      "text/plain": [
       "\" DB: opt gap = 1.2042639080267232\""
      ]
     },
     "metadata": {},
     "output_type": "display_data"
    },
    {
     "data": {
      "text/plain": [
       "\">>>>>> iteration 9:O\""
      ]
     },
     "metadata": {},
     "output_type": "display_data"
    },
    {
     "data": {
      "text/plain": [
       "\" DB: opt gap = 0.5425062200803026\""
      ]
     },
     "metadata": {},
     "output_type": "display_data"
    },
    {
     "data": {
      "text/plain": [
       "\">>>>>> iteration 10:O\""
      ]
     },
     "metadata": {},
     "output_type": "display_data"
    },
    {
     "data": {
      "text/plain": [
       "\" DB: opt gap = 0.555993432816635\""
      ]
     },
     "metadata": {},
     "output_type": "display_data"
    },
    {
     "data": {
      "text/plain": [
       "\">>>>>> iteration 11:O\""
      ]
     },
     "metadata": {},
     "output_type": "display_data"
    },
    {
     "data": {
      "text/plain": [
       "\" DB: opt gap = 0.5542543802736103\""
      ]
     },
     "metadata": {},
     "output_type": "display_data"
    },
    {
     "data": {
      "text/plain": [
       "\">>>>>> iteration 12:O\""
      ]
     },
     "metadata": {},
     "output_type": "display_data"
    },
    {
     "data": {
      "text/plain": [
       "\" DB: opt gap = 0.5619999694664872\""
      ]
     },
     "metadata": {},
     "output_type": "display_data"
    },
    {
     "data": {
      "text/plain": [
       "\">>>>>> iteration 13:O\""
      ]
     },
     "metadata": {},
     "output_type": "display_data"
    },
    {
     "data": {
      "text/plain": [
       "\" DB: opt gap = 0.5704500261623524\""
      ]
     },
     "metadata": {},
     "output_type": "display_data"
    },
    {
     "data": {
      "text/plain": [
       "\">>>>>> iteration 14:O\""
      ]
     },
     "metadata": {},
     "output_type": "display_data"
    },
    {
     "data": {
      "text/plain": [
       "\" DB: opt gap = 0.012651957374133046\""
      ]
     },
     "metadata": {},
     "output_type": "display_data"
    },
    {
     "data": {
      "text/plain": [
       "\">>>>>> iteration 15:O\""
      ]
     },
     "metadata": {},
     "output_type": "display_data"
    },
    {
     "data": {
      "text/plain": [
       "\" DB: opt gap = 0.01266959784595369\""
      ]
     },
     "metadata": {},
     "output_type": "display_data"
    },
    {
     "data": {
      "text/plain": [
       "\">>>>>> iteration 16:O\""
      ]
     },
     "metadata": {},
     "output_type": "display_data"
    },
    {
     "data": {
      "text/plain": [
       "\">>>>>> iteration 17:F\""
      ]
     },
     "metadata": {},
     "output_type": "display_data"
    },
    {
     "data": {
      "text/plain": [
       "\" DB: opt gap = 0.012523889918195875\""
      ]
     },
     "metadata": {},
     "output_type": "display_data"
    },
    {
     "data": {
      "text/plain": [
       "\">>>>>> iteration 18:O\""
      ]
     },
     "metadata": {},
     "output_type": "display_data"
    },
    {
     "data": {
      "text/plain": [
       "\" DB: opt gap = 0.012504053157795807\""
      ]
     },
     "metadata": {},
     "output_type": "display_data"
    },
    {
     "data": {
      "text/plain": [
       "\">>>>>> iteration 19:O\""
      ]
     },
     "metadata": {},
     "output_type": "display_data"
    },
    {
     "data": {
      "text/plain": [
       "\">>>>>> iteration 20:F\""
      ]
     },
     "metadata": {},
     "output_type": "display_data"
    },
    {
     "data": {
      "text/plain": [
       "\">>>>>> iteration 21:F\""
      ]
     },
     "metadata": {},
     "output_type": "display_data"
    },
    {
     "data": {
      "text/plain": [
       "\">>>>>> iteration 22:F\""
      ]
     },
     "metadata": {},
     "output_type": "display_data"
    },
    {
     "data": {
      "text/plain": [
       "\">>>>>> iteration 23:F\""
      ]
     },
     "metadata": {},
     "output_type": "display_data"
    },
    {
     "data": {
      "text/plain": [
       "\">>>>>> iteration 24:F\""
      ]
     },
     "metadata": {},
     "output_type": "display_data"
    },
    {
     "data": {
      "text/plain": [
       "\">>>>>> iteration 25:F\""
      ]
     },
     "metadata": {},
     "output_type": "display_data"
    },
    {
     "data": {
      "text/plain": [
       "\">>>>>> iteration 26:F\""
      ]
     },
     "metadata": {},
     "output_type": "display_data"
    },
    {
     "data": {
      "text/plain": [
       "\">>>>>> iteration 27:F\""
      ]
     },
     "metadata": {},
     "output_type": "display_data"
    },
    {
     "data": {
      "text/plain": [
       "\">>>>>> iteration 28:F\""
      ]
     },
     "metadata": {},
     "output_type": "display_data"
    },
    {
     "data": {
      "text/plain": [
       "\">>>>>> iteration 29:F\""
      ]
     },
     "metadata": {},
     "output_type": "display_data"
    },
    {
     "data": {
      "text/plain": [
       "\">>>>>> iteration 30:F\""
      ]
     },
     "metadata": {},
     "output_type": "display_data"
    },
    {
     "data": {
      "text/plain": [
       "\">>>>>> iteration 31:F\""
      ]
     },
     "metadata": {},
     "output_type": "display_data"
    },
    {
     "data": {
      "text/plain": [
       "\">>>>>> iteration 32:F\""
      ]
     },
     "metadata": {},
     "output_type": "display_data"
    },
    {
     "data": {
      "text/plain": [
       "\">>>>>> iteration 33:F\""
      ]
     },
     "metadata": {},
     "output_type": "display_data"
    },
    {
     "data": {
      "text/plain": [
       "\">>>>>> iteration 34:F\""
      ]
     },
     "metadata": {},
     "output_type": "display_data"
    },
    {
     "data": {
      "text/plain": [
       "\">>>>>> iteration 35:F\""
      ]
     },
     "metadata": {},
     "output_type": "display_data"
    },
    {
     "data": {
      "text/plain": [
       "\">>>>>> iteration 36:F\""
      ]
     },
     "metadata": {},
     "output_type": "display_data"
    },
    {
     "data": {
      "text/plain": [
       "\">>>>>> iteration 37:F\""
      ]
     },
     "metadata": {},
     "output_type": "display_data"
    },
    {
     "data": {
      "text/plain": [
       "\">>>>>> iteration 38:F\""
      ]
     },
     "metadata": {},
     "output_type": "display_data"
    },
    {
     "data": {
      "text/plain": [
       "\">>>>>> iteration 39:F\""
      ]
     },
     "metadata": {},
     "output_type": "display_data"
    },
    {
     "data": {
      "text/plain": [
       "\">>>>>> iteration 40:F\""
      ]
     },
     "metadata": {},
     "output_type": "display_data"
    },
    {
     "data": {
      "text/plain": [
       "\">>>>>> iteration 41:F\""
      ]
     },
     "metadata": {},
     "output_type": "display_data"
    },
    {
     "data": {
      "text/plain": [
       "\">>>>>> iteration 42:F\""
      ]
     },
     "metadata": {},
     "output_type": "display_data"
    },
    {
     "data": {
      "text/plain": [
       "\">>>>>> iteration 43:F\""
      ]
     },
     "metadata": {},
     "output_type": "display_data"
    },
    {
     "data": {
      "text/plain": [
       "\">>>>>> iteration 44:F\""
      ]
     },
     "metadata": {},
     "output_type": "display_data"
    },
    {
     "data": {
      "text/plain": [
       "\">>>>>> iteration 45:F\""
      ]
     },
     "metadata": {},
     "output_type": "display_data"
    },
    {
     "data": {
      "text/plain": [
       "\">>>>>> iteration 46:F\""
      ]
     },
     "metadata": {},
     "output_type": "display_data"
    },
    {
     "data": {
      "text/plain": [
       "\">>>>>> iteration 47:F\""
      ]
     },
     "metadata": {},
     "output_type": "display_data"
    },
    {
     "data": {
      "text/plain": [
       "\">>>>>> iteration 48:F\""
      ]
     },
     "metadata": {},
     "output_type": "display_data"
    },
    {
     "data": {
      "text/plain": [
       "\">>>>>> iteration 49:F\""
      ]
     },
     "metadata": {},
     "output_type": "display_data"
    },
    {
     "data": {
      "text/plain": [
       "\">>>>>> iteration 50:F\""
      ]
     },
     "metadata": {},
     "output_type": "display_data"
    },
    {
     "ename": "LoadError",
     "evalue": "Expression contains an invalid NaN constant. This could be produced by `Inf - Inf`.",
     "output_type": "error",
     "traceback": [
      "Expression contains an invalid NaN constant. This could be produced by `Inf - Inf`.",
      "",
      "Stacktrace:",
      "  [1] error(s::String)",
      "    @ Base .\\error.jl:35",
      "  [2] _assert_isfinite(a::AffExpr)",
      "    @ JuMP C:\\Users\\MACC-Jose\\.julia\\packages\\JuMP\\yYfHy\\src\\aff_expr.jl:577",
      "  [3] MathOptInterface.ScalarAffineFunction(a::AffExpr)",
      "    @ JuMP C:\\Users\\MACC-Jose\\.julia\\packages\\JuMP\\yYfHy\\src\\aff_expr.jl:610",
      "  [4] moi_function",
      "    @ C:\\Users\\MACC-Jose\\.julia\\packages\\JuMP\\yYfHy\\src\\aff_expr.jl:653 [inlined]",
      "  [5] moi_function",
      "    @ C:\\Users\\MACC-Jose\\.julia\\packages\\JuMP\\yYfHy\\src\\constraints.jl:523 [inlined]",
      "  [6] add_constraint(model::Model, con::ScalarConstraint{AffExpr, MathOptInterface.EqualTo{Float64}}, name::String)",
      "    @ JuMP C:\\Users\\MACC-Jose\\.julia\\packages\\JuMP\\yYfHy\\src\\constraints.jl:670",
      "  [7] macro expansion",
      "    @ C:\\Users\\MACC-Jose\\.julia\\packages\\JuMP\\yYfHy\\src\\macros.jl:833 [inlined]",
      "  [8] (::var\"#153#215\"{Vector{Float64}, Vector{VariableRef}})(kk::Int64)",
      "    @ Main C:\\Users\\MACC-Jose\\.julia\\packages\\JuMP\\yYfHy\\src\\Containers\\macro.jl:302",
      "  [9] #44",
      "    @ C:\\Users\\MACC-Jose\\.julia\\packages\\JuMP\\yYfHy\\src\\Containers\\container.jl:81 [inlined]",
      " [10] iterate",
      "    @ .\\generator.jl:47 [inlined]",
      " [11] collect(itr::Base.Generator{JuMP.Containers.VectorizedProductIterator{Tuple{Base.OneTo{Int64}}}, JuMP.Containers.var\"#44#45\"{var\"#153#215\"{Vector{Float64}, Vector{VariableRef}}}})",
      "    @ Base .\\array.jl:787",
      " [12] map(f::Function, A::JuMP.Containers.VectorizedProductIterator{Tuple{Base.OneTo{Int64}}})",
      "    @ Base .\\abstractarray.jl:2961",
      " [13] container",
      "    @ C:\\Users\\MACC-Jose\\.julia\\packages\\JuMP\\yYfHy\\src\\Containers\\container.jl:81 [inlined]",
      " [14] container(f::Function, indices::JuMP.Containers.VectorizedProductIterator{Tuple{Base.OneTo{Int64}}})",
      "    @ JuMP.Containers C:\\Users\\MACC-Jose\\.julia\\packages\\JuMP\\yYfHy\\src\\Containers\\container.jl:75",
      " [15] macro expansion",
      "    @ C:\\Users\\MACC-Jose\\.julia\\packages\\JuMP\\yYfHy\\src\\macros.jl:136 [inlined]",
      " [16] subp(xInit::Matrix{Float64}, uInit::Float64, ysp_fixed::Vector{Float64}, nReac::Int64, nScen::Int64, pScen::Float64, solNom::Dict{Char, Any}, option::Int64)",
      "    @ Main .\\In[11]:112",
      " [17] (::var\"#259#264\"{Matrix{Float64}, Float64, Int64, Float64, Dict{Char, Any}, Int64})(ss::Int64)",
      "    @ Main .\\none:0",
      " [18] iterate",
      "    @ .\\generator.jl:47 [inlined]",
      " [19] collect(itr::Base.Generator{UnitRange{Int64}, var\"#259#264\"{Matrix{Float64}, Float64, Int64, Float64, Dict{Char, Any}, Int64}})",
      "    @ Base .\\array.jl:787",
      " [20] BENS_CLDRTO(xInit::Matrix{Float64}, uInit::Float64, nReac::Int64, nScen::Int64, pScen::Float64, solNom::Dict{Char, Any}, option::Int64)",
      "    @ Main .\\In[13]:165",
      " [21] top-level scope",
      "    @ .\\In[19]:37"
     ]
    }
   ],
   "source": [
    "# testing the number of reactors in series (chosen arbitrarily as the same number of scenarios)\n",
    "nReactMax = nScenMax\n",
    "\n",
    "#preparing plot \n",
    "# --> monolithic vs. decomposed \n",
    "# solution time\n",
    "solTimeTraj_r = Matrix{Float64}(undef,2,nScenMax) \n",
    "# computed objective function\n",
    "solObjTraj_r = Matrix{Float64}(undef,2,nScenMax) \n",
    "# --> only decomposed\n",
    "# number of iterations\n",
    "iterTraj_r = Vector{Float64}(undef,nScenMax) \n",
    "# optimality gap\n",
    "optGapTraj_r = Vector{Float64}(undef,nScenMax) \n",
    "\n",
    "# number of reactors in parallel\n",
    "nScenarios = 2\n",
    "#equiprobable scenarios\n",
    "pScenarios = 1.0/nScenarios\n",
    "\n",
    "for rr = 1:nReactMax\n",
    "    display(\"evaluating $(rr) reactors in parallel | option $(opti)\")\n",
    "        \n",
    "    #number os reactors\n",
    "    nReac = rr\n",
    "    # Number of states\n",
    "    nx = 2*nReac\n",
    "        \n",
    "    # Possible initial conditions (deviation form)\n",
    "    xInit_0 = repeat([0.3583;0.6418] .- x0, outer = [nReac,1])\n",
    "    uInit_0 = 1.0 - u0\n",
    "       \n",
    "    # solving monolithical problem \n",
    "    sol_m_Dict = MS_CLDRTO(xInit_0,uInit_0,nReac,nScenarios,pScenarios,solNominal,opti)\n",
    "\n",
    "    # solving decomposed problem    \n",
    "    sol_d_Dict = BENS_CLDRTO(xInit_0,uInit_0,nReac,nScenarios,pScenarios,solNominal,opti)\n",
    "        \n",
    "    # for plotting\n",
    "    solTimeTraj_r[1,rr] = sol_m_Dict['t']\n",
    "    solTimeTraj_r[2,rr] = sol_d_Dict['t']\n",
    "    \n",
    "    solObjTraj_r[1,rr] = sol_m_Dict['ϕ']\n",
    "    solObjTraj_r[2,rr] = sol_d_Dict['ϕ']\n",
    "\n",
    "    iterTraj_r[rr] = sol_d_Dict['i'] \n",
    "    optGapTraj_r[rr] = sol_d_Dict['g']\n",
    "\n",
    "end\n"
   ]
  },
  {
   "cell_type": "code",
   "execution_count": 20,
   "id": "31be0294",
   "metadata": {},
   "outputs": [
    {
     "data": {
      "image/svg+xml": [
       "<?xml version=\"1.0\" encoding=\"utf-8\"?>\n",
       "<svg xmlns=\"http://www.w3.org/2000/svg\" xmlns:xlink=\"http://www.w3.org/1999/xlink\" width=\"600\" height=\"400\" viewBox=\"0 0 2400 1600\">\n",
       "<defs>\n",
       "  <clipPath id=\"clip840\">\n",
       "    <rect x=\"0\" y=\"0\" width=\"2400\" height=\"1600\"/>\n",
       "  </clipPath>\n",
       "</defs>\n",
       "<path clip-path=\"url(#clip840)\" d=\"M0 1600 L2400 1600 L2400 0 L0 0  Z\" fill=\"#ffffff\" fill-rule=\"evenodd\" fill-opacity=\"1\"/>\n",
       "<defs>\n",
       "  <clipPath id=\"clip841\">\n",
       "    <rect x=\"480\" y=\"0\" width=\"1681\" height=\"1600\"/>\n",
       "  </clipPath>\n",
       "</defs>\n",
       "<path clip-path=\"url(#clip840)\" d=\"M219.38 1423.18 L2352.76 1423.18 L2352.76 47.2441 L219.38 47.2441  Z\" fill=\"#ffffff\" fill-rule=\"evenodd\" fill-opacity=\"1\"/>\n",
       "<defs>\n",
       "  <clipPath id=\"clip842\">\n",
       "    <rect x=\"219\" y=\"47\" width=\"2134\" height=\"1377\"/>\n",
       "  </clipPath>\n",
       "</defs>\n",
       "<polyline clip-path=\"url(#clip842)\" style=\"stroke:#000000; stroke-linecap:round; stroke-linejoin:round; stroke-width:8; stroke-opacity:0.1; fill:none\" points=\"557.361,1423.18 557.361,47.2441 \"/>\n",
       "<polyline clip-path=\"url(#clip842)\" style=\"stroke:#000000; stroke-linecap:round; stroke-linejoin:round; stroke-width:8; stroke-opacity:0.1; fill:none\" points=\"904.364,1423.18 904.364,47.2441 \"/>\n",
       "<polyline clip-path=\"url(#clip842)\" style=\"stroke:#000000; stroke-linecap:round; stroke-linejoin:round; stroke-width:8; stroke-opacity:0.1; fill:none\" points=\"1251.37,1423.18 1251.37,47.2441 \"/>\n",
       "<polyline clip-path=\"url(#clip842)\" style=\"stroke:#000000; stroke-linecap:round; stroke-linejoin:round; stroke-width:8; stroke-opacity:0.1; fill:none\" points=\"1598.37,1423.18 1598.37,47.2441 \"/>\n",
       "<polyline clip-path=\"url(#clip842)\" style=\"stroke:#000000; stroke-linecap:round; stroke-linejoin:round; stroke-width:8; stroke-opacity:0.1; fill:none\" points=\"1945.37,1423.18 1945.37,47.2441 \"/>\n",
       "<polyline clip-path=\"url(#clip842)\" style=\"stroke:#000000; stroke-linecap:round; stroke-linejoin:round; stroke-width:8; stroke-opacity:0.1; fill:none\" points=\"2292.38,1423.18 2292.38,47.2441 \"/>\n",
       "<polyline clip-path=\"url(#clip840)\" style=\"stroke:#000000; stroke-linecap:round; stroke-linejoin:round; stroke-width:4; stroke-opacity:1; fill:none\" points=\"219.38,1423.18 2352.76,1423.18 \"/>\n",
       "<polyline clip-path=\"url(#clip840)\" style=\"stroke:#000000; stroke-linecap:round; stroke-linejoin:round; stroke-width:4; stroke-opacity:1; fill:none\" points=\"557.361,1423.18 557.361,1404.28 \"/>\n",
       "<polyline clip-path=\"url(#clip840)\" style=\"stroke:#000000; stroke-linecap:round; stroke-linejoin:round; stroke-width:4; stroke-opacity:1; fill:none\" points=\"904.364,1423.18 904.364,1404.28 \"/>\n",
       "<polyline clip-path=\"url(#clip840)\" style=\"stroke:#000000; stroke-linecap:round; stroke-linejoin:round; stroke-width:4; stroke-opacity:1; fill:none\" points=\"1251.37,1423.18 1251.37,1404.28 \"/>\n",
       "<polyline clip-path=\"url(#clip840)\" style=\"stroke:#000000; stroke-linecap:round; stroke-linejoin:round; stroke-width:4; stroke-opacity:1; fill:none\" points=\"1598.37,1423.18 1598.37,1404.28 \"/>\n",
       "<polyline clip-path=\"url(#clip840)\" style=\"stroke:#000000; stroke-linecap:round; stroke-linejoin:round; stroke-width:4; stroke-opacity:1; fill:none\" points=\"1945.37,1423.18 1945.37,1404.28 \"/>\n",
       "<polyline clip-path=\"url(#clip840)\" style=\"stroke:#000000; stroke-linecap:round; stroke-linejoin:round; stroke-width:4; stroke-opacity:1; fill:none\" points=\"2292.38,1423.18 2292.38,1404.28 \"/>\n",
       "<path clip-path=\"url(#clip840)\" d=\"M547.639 1451.02 L565.995 1451.02 L565.995 1454.96 L551.922 1454.96 L551.922 1463.43 Q552.94 1463.08 553.959 1462.92 Q554.977 1462.73 555.996 1462.73 Q561.783 1462.73 565.162 1465.9 Q568.542 1469.08 568.542 1474.49 Q568.542 1480.07 565.07 1483.17 Q561.597 1486.25 555.278 1486.25 Q553.102 1486.25 550.834 1485.88 Q548.588 1485.51 546.181 1484.77 L546.181 1480.07 Q548.264 1481.2 550.486 1481.76 Q552.709 1482.32 555.185 1482.32 Q559.19 1482.32 561.528 1480.21 Q563.866 1478.1 563.866 1474.49 Q563.866 1470.88 561.528 1468.77 Q559.19 1466.67 555.185 1466.67 Q553.31 1466.67 551.435 1467.08 Q549.584 1467.5 547.639 1468.38 L547.639 1451.02 Z\" fill=\"#000000\" fill-rule=\"evenodd\" fill-opacity=\"1\" /><path clip-path=\"url(#clip840)\" d=\"M879.052 1481.64 L886.691 1481.64 L886.691 1455.28 L878.381 1456.95 L878.381 1452.69 L886.645 1451.02 L891.321 1451.02 L891.321 1481.64 L898.959 1481.64 L898.959 1485.58 L879.052 1485.58 L879.052 1481.64 Z\" fill=\"#000000\" fill-rule=\"evenodd\" fill-opacity=\"1\" /><path clip-path=\"url(#clip840)\" d=\"M918.404 1454.1 Q914.793 1454.1 912.964 1457.66 Q911.158 1461.2 911.158 1468.33 Q911.158 1475.44 912.964 1479.01 Q914.793 1482.55 918.404 1482.55 Q922.038 1482.55 923.844 1479.01 Q925.672 1475.44 925.672 1468.33 Q925.672 1461.2 923.844 1457.66 Q922.038 1454.1 918.404 1454.1 M918.404 1450.39 Q924.214 1450.39 927.269 1455 Q930.348 1459.58 930.348 1468.33 Q930.348 1477.06 927.269 1481.67 Q924.214 1486.25 918.404 1486.25 Q912.594 1486.25 909.515 1481.67 Q906.459 1477.06 906.459 1468.33 Q906.459 1459.58 909.515 1455 Q912.594 1450.39 918.404 1450.39 Z\" fill=\"#000000\" fill-rule=\"evenodd\" fill-opacity=\"1\" /><path clip-path=\"url(#clip840)\" d=\"M1226.55 1481.64 L1234.19 1481.64 L1234.19 1455.28 L1225.88 1456.95 L1225.88 1452.69 L1234.15 1451.02 L1238.82 1451.02 L1238.82 1481.64 L1246.46 1481.64 L1246.46 1485.58 L1226.55 1485.58 L1226.55 1481.64 Z\" fill=\"#000000\" fill-rule=\"evenodd\" fill-opacity=\"1\" /><path clip-path=\"url(#clip840)\" d=\"M1255.95 1451.02 L1274.31 1451.02 L1274.31 1454.96 L1260.23 1454.96 L1260.23 1463.43 Q1261.25 1463.08 1262.27 1462.92 Q1263.29 1462.73 1264.31 1462.73 Q1270.09 1462.73 1273.47 1465.9 Q1276.85 1469.08 1276.85 1474.49 Q1276.85 1480.07 1273.38 1483.17 Q1269.91 1486.25 1263.59 1486.25 Q1261.41 1486.25 1259.15 1485.88 Q1256.9 1485.51 1254.49 1484.77 L1254.49 1480.07 Q1256.58 1481.2 1258.8 1481.76 Q1261.02 1482.32 1263.5 1482.32 Q1267.5 1482.32 1269.84 1480.21 Q1272.18 1478.1 1272.18 1474.49 Q1272.18 1470.88 1269.84 1468.77 Q1267.5 1466.67 1263.5 1466.67 Q1261.62 1466.67 1259.75 1467.08 Q1257.9 1467.5 1255.95 1468.38 L1255.95 1451.02 Z\" fill=\"#000000\" fill-rule=\"evenodd\" fill-opacity=\"1\" /><path clip-path=\"url(#clip840)\" d=\"M1577.14 1481.64 L1593.46 1481.64 L1593.46 1485.58 L1571.52 1485.58 L1571.52 1481.64 Q1574.18 1478.89 1578.76 1474.26 Q1583.37 1469.61 1584.55 1468.27 Q1586.8 1465.74 1587.68 1464.01 Q1588.58 1462.25 1588.58 1460.56 Q1588.58 1457.8 1586.63 1456.07 Q1584.71 1454.33 1581.61 1454.33 Q1579.41 1454.33 1576.96 1455.09 Q1574.53 1455.86 1571.75 1457.41 L1571.75 1452.69 Q1574.57 1451.55 1577.03 1450.97 Q1579.48 1450.39 1581.52 1450.39 Q1586.89 1450.39 1590.08 1453.08 Q1593.28 1455.77 1593.28 1460.26 Q1593.28 1462.39 1592.47 1464.31 Q1591.68 1466.2 1589.57 1468.8 Q1589 1469.47 1585.89 1472.69 Q1582.79 1475.88 1577.14 1481.64 Z\" fill=\"#000000\" fill-rule=\"evenodd\" fill-opacity=\"1\" /><path clip-path=\"url(#clip840)\" d=\"M1613.28 1454.1 Q1609.67 1454.1 1607.84 1457.66 Q1606.03 1461.2 1606.03 1468.33 Q1606.03 1475.44 1607.84 1479.01 Q1609.67 1482.55 1613.28 1482.55 Q1616.91 1482.55 1618.72 1479.01 Q1620.55 1475.44 1620.55 1468.33 Q1620.55 1461.2 1618.72 1457.66 Q1616.91 1454.1 1613.28 1454.1 M1613.28 1450.39 Q1619.09 1450.39 1622.14 1455 Q1625.22 1459.58 1625.22 1468.33 Q1625.22 1477.06 1622.14 1481.67 Q1619.09 1486.25 1613.28 1486.25 Q1607.47 1486.25 1604.39 1481.67 Q1601.33 1477.06 1601.33 1468.33 Q1601.33 1459.58 1604.39 1455 Q1607.47 1450.39 1613.28 1450.39 Z\" fill=\"#000000\" fill-rule=\"evenodd\" fill-opacity=\"1\" /><path clip-path=\"url(#clip840)\" d=\"M1924.65 1481.64 L1940.96 1481.64 L1940.96 1485.58 L1919.02 1485.58 L1919.02 1481.64 Q1921.68 1478.89 1926.27 1474.26 Q1930.87 1469.61 1932.05 1468.27 Q1934.3 1465.74 1935.18 1464.01 Q1936.08 1462.25 1936.08 1460.56 Q1936.08 1457.8 1934.14 1456.07 Q1932.21 1454.33 1929.11 1454.33 Q1926.91 1454.33 1924.46 1455.09 Q1922.03 1455.86 1919.25 1457.41 L1919.25 1452.69 Q1922.08 1451.55 1924.53 1450.97 Q1926.98 1450.39 1929.02 1450.39 Q1934.39 1450.39 1937.58 1453.08 Q1940.78 1455.77 1940.78 1460.26 Q1940.78 1462.39 1939.97 1464.31 Q1939.18 1466.2 1937.08 1468.8 Q1936.5 1469.47 1933.4 1472.69 Q1930.29 1475.88 1924.65 1481.64 Z\" fill=\"#000000\" fill-rule=\"evenodd\" fill-opacity=\"1\" /><path clip-path=\"url(#clip840)\" d=\"M1950.83 1451.02 L1969.18 1451.02 L1969.18 1454.96 L1955.11 1454.96 L1955.11 1463.43 Q1956.13 1463.08 1957.14 1462.92 Q1958.16 1462.73 1959.18 1462.73 Q1964.97 1462.73 1968.35 1465.9 Q1971.73 1469.08 1971.73 1474.49 Q1971.73 1480.07 1968.26 1483.17 Q1964.78 1486.25 1958.46 1486.25 Q1956.29 1486.25 1954.02 1485.88 Q1951.77 1485.51 1949.37 1484.77 L1949.37 1480.07 Q1951.45 1481.2 1953.67 1481.76 Q1955.89 1482.32 1958.37 1482.32 Q1962.38 1482.32 1964.71 1480.21 Q1967.05 1478.1 1967.05 1474.49 Q1967.05 1470.88 1964.71 1468.77 Q1962.38 1466.67 1958.37 1466.67 Q1956.5 1466.67 1954.62 1467.08 Q1952.77 1467.5 1950.83 1468.38 L1950.83 1451.02 Z\" fill=\"#000000\" fill-rule=\"evenodd\" fill-opacity=\"1\" /><path clip-path=\"url(#clip840)\" d=\"M2281.22 1466.95 Q2284.58 1467.66 2286.45 1469.93 Q2288.35 1472.2 2288.35 1475.53 Q2288.35 1480.65 2284.83 1483.45 Q2281.31 1486.25 2274.83 1486.25 Q2272.66 1486.25 2270.34 1485.81 Q2268.05 1485.39 2265.6 1484.54 L2265.6 1480.02 Q2267.54 1481.16 2269.85 1481.74 Q2272.17 1482.32 2274.69 1482.32 Q2279.09 1482.32 2281.38 1480.58 Q2283.7 1478.84 2283.7 1475.53 Q2283.7 1472.48 2281.54 1470.77 Q2279.41 1469.03 2275.6 1469.03 L2271.57 1469.03 L2271.57 1465.19 L2275.78 1465.19 Q2279.23 1465.19 2281.06 1463.82 Q2282.89 1462.43 2282.89 1459.84 Q2282.89 1457.18 2280.99 1455.77 Q2279.11 1454.33 2275.6 1454.33 Q2273.67 1454.33 2271.47 1454.75 Q2269.28 1455.16 2266.64 1456.04 L2266.64 1451.88 Q2269.3 1451.14 2271.61 1450.77 Q2273.95 1450.39 2276.01 1450.39 Q2281.34 1450.39 2284.44 1452.83 Q2287.54 1455.23 2287.54 1459.35 Q2287.54 1462.22 2285.9 1464.21 Q2284.25 1466.18 2281.22 1466.95 Z\" fill=\"#000000\" fill-rule=\"evenodd\" fill-opacity=\"1\" /><path clip-path=\"url(#clip840)\" d=\"M2307.22 1454.1 Q2303.6 1454.1 2301.78 1457.66 Q2299.97 1461.2 2299.97 1468.33 Q2299.97 1475.44 2301.78 1479.01 Q2303.6 1482.55 2307.22 1482.55 Q2310.85 1482.55 2312.66 1479.01 Q2314.48 1475.44 2314.48 1468.33 Q2314.48 1461.2 2312.66 1457.66 Q2310.85 1454.1 2307.22 1454.1 M2307.22 1450.39 Q2313.03 1450.39 2316.08 1455 Q2319.16 1459.58 2319.16 1468.33 Q2319.16 1477.06 2316.08 1481.67 Q2313.03 1486.25 2307.22 1486.25 Q2301.41 1486.25 2298.33 1481.67 Q2295.27 1477.06 2295.27 1468.33 Q2295.27 1459.58 2298.33 1455 Q2301.41 1450.39 2307.22 1450.39 Z\" fill=\"#000000\" fill-rule=\"evenodd\" fill-opacity=\"1\" /><path clip-path=\"url(#clip840)\" d=\"M1147.07 1539.37 L1137.81 1539.37 L1135.14 1550 L1144.46 1550 L1147.07 1539.37 M1142.3 1521.26 L1138.99 1534.46 L1148.28 1534.46 L1151.62 1521.26 L1156.72 1521.26 L1153.44 1534.46 L1163.37 1534.46 L1163.37 1539.37 L1152.2 1539.37 L1149.59 1550 L1159.71 1550 L1159.71 1554.87 L1148.35 1554.87 L1145.04 1568.04 L1139.94 1568.04 L1143.22 1554.87 L1133.9 1554.87 L1130.62 1568.04 L1125.49 1568.04 L1128.8 1554.87 L1118.78 1554.87 L1118.78 1550 L1129.98 1550 L1132.65 1539.37 L1122.41 1539.37 L1122.41 1534.46 L1133.9 1534.46 L1137.14 1521.26 L1142.3 1521.26 Z\" fill=\"#000000\" fill-rule=\"evenodd\" fill-opacity=\"1\" /><path clip-path=\"url(#clip840)\" d=\"M1215.89 1537.87 Q1214.9 1537.3 1213.72 1537.04 Q1212.58 1536.76 1211.18 1536.76 Q1206.21 1536.76 1203.54 1540 Q1200.89 1543.22 1200.89 1549.27 L1200.89 1568.04 L1195.01 1568.04 L1195.01 1532.4 L1200.89 1532.4 L1200.89 1537.93 Q1202.74 1534.69 1205.7 1533.13 Q1208.66 1531.54 1212.89 1531.54 Q1213.5 1531.54 1214.23 1531.63 Q1214.96 1531.7 1215.85 1531.85 L1215.89 1537.87 Z\" fill=\"#000000\" fill-rule=\"evenodd\" fill-opacity=\"1\" /><path clip-path=\"url(#clip840)\" d=\"M1251.09 1548.76 L1251.09 1551.62 L1224.16 1551.62 Q1224.54 1557.67 1227.79 1560.85 Q1231.07 1564 1236.89 1564 Q1240.27 1564 1243.42 1563.17 Q1246.6 1562.35 1249.72 1560.69 L1249.72 1566.23 Q1246.57 1567.57 1243.26 1568.27 Q1239.95 1568.97 1236.54 1568.97 Q1228.01 1568.97 1223.02 1564 Q1218.05 1559.04 1218.05 1550.57 Q1218.05 1541.82 1222.76 1536.69 Q1227.5 1531.54 1235.52 1531.54 Q1242.72 1531.54 1246.89 1536.18 Q1251.09 1540.8 1251.09 1548.76 M1245.23 1547.04 Q1245.17 1542.23 1242.53 1539.37 Q1239.92 1536.5 1235.59 1536.5 Q1230.69 1536.5 1227.73 1539.27 Q1224.8 1542.04 1224.35 1547.07 L1245.23 1547.04 Z\" fill=\"#000000\" fill-rule=\"evenodd\" fill-opacity=\"1\" /><path clip-path=\"url(#clip840)\" d=\"M1276.9 1550.12 Q1269.8 1550.12 1267.07 1551.75 Q1264.33 1553.37 1264.33 1557.29 Q1264.33 1560.4 1266.37 1562.25 Q1268.44 1564.07 1271.97 1564.07 Q1276.84 1564.07 1279.77 1560.63 Q1282.73 1557.16 1282.73 1551.43 L1282.73 1550.12 L1276.9 1550.12 M1288.58 1547.71 L1288.58 1568.04 L1282.73 1568.04 L1282.73 1562.63 Q1280.72 1565.88 1277.73 1567.44 Q1274.74 1568.97 1270.41 1568.97 Q1264.93 1568.97 1261.69 1565.91 Q1258.47 1562.82 1258.47 1557.67 Q1258.47 1551.65 1262.48 1548.6 Q1266.53 1545.54 1274.51 1545.54 L1282.73 1545.54 L1282.73 1544.97 Q1282.73 1540.93 1280.05 1538.73 Q1277.41 1536.5 1272.6 1536.5 Q1269.55 1536.5 1266.65 1537.23 Q1263.76 1537.97 1261.08 1539.43 L1261.08 1534.02 Q1264.3 1532.78 1267.32 1532.17 Q1270.34 1531.54 1273.21 1531.54 Q1280.94 1531.54 1284.76 1535.55 Q1288.58 1539.56 1288.58 1547.71 Z\" fill=\"#000000\" fill-rule=\"evenodd\" fill-opacity=\"1\" /><path clip-path=\"url(#clip840)\" d=\"M1326.3 1533.76 L1326.3 1539.24 Q1323.82 1537.87 1321.3 1537.2 Q1318.82 1536.5 1316.27 1536.5 Q1310.58 1536.5 1307.42 1540.13 Q1304.27 1543.73 1304.27 1550.25 Q1304.27 1556.78 1307.42 1560.4 Q1310.58 1564 1316.27 1564 Q1318.82 1564 1321.3 1563.33 Q1323.82 1562.63 1326.3 1561.26 L1326.3 1566.68 Q1323.85 1567.82 1321.21 1568.39 Q1318.6 1568.97 1315.64 1568.97 Q1307.58 1568.97 1302.84 1563.91 Q1298.1 1558.85 1298.1 1550.25 Q1298.1 1541.53 1302.87 1536.53 Q1307.68 1531.54 1316.02 1531.54 Q1318.72 1531.54 1321.3 1532.11 Q1323.88 1532.65 1326.3 1533.76 Z\" fill=\"#000000\" fill-rule=\"evenodd\" fill-opacity=\"1\" /><path clip-path=\"url(#clip840)\" d=\"M1342.28 1522.27 L1342.28 1532.4 L1354.34 1532.4 L1354.34 1536.95 L1342.28 1536.95 L1342.28 1556.3 Q1342.28 1560.66 1343.45 1561.9 Q1344.66 1563.14 1348.32 1563.14 L1354.34 1563.14 L1354.34 1568.04 L1348.32 1568.04 Q1341.55 1568.04 1338.97 1565.53 Q1336.39 1562.98 1336.39 1556.3 L1336.39 1536.95 L1332.09 1536.95 L1332.09 1532.4 L1336.39 1532.4 L1336.39 1522.27 L1342.28 1522.27 Z\" fill=\"#000000\" fill-rule=\"evenodd\" fill-opacity=\"1\" /><path clip-path=\"url(#clip840)\" d=\"M1375.86 1536.5 Q1371.15 1536.5 1368.41 1540.19 Q1365.67 1543.85 1365.67 1550.25 Q1365.67 1556.65 1368.38 1560.34 Q1371.11 1564 1375.86 1564 Q1380.54 1564 1383.27 1560.31 Q1386.01 1556.62 1386.01 1550.25 Q1386.01 1543.92 1383.27 1540.23 Q1380.54 1536.5 1375.86 1536.5 M1375.86 1531.54 Q1383.5 1531.54 1387.86 1536.5 Q1392.22 1541.47 1392.22 1550.25 Q1392.22 1559 1387.86 1564 Q1383.5 1568.97 1375.86 1568.97 Q1368.19 1568.97 1363.83 1564 Q1359.5 1559 1359.5 1550.25 Q1359.5 1541.47 1363.83 1536.5 Q1368.19 1531.54 1375.86 1531.54 Z\" fill=\"#000000\" fill-rule=\"evenodd\" fill-opacity=\"1\" /><path clip-path=\"url(#clip840)\" d=\"M1422.58 1537.87 Q1421.59 1537.3 1420.42 1537.04 Q1419.27 1536.76 1417.87 1536.76 Q1412.9 1536.76 1410.23 1540 Q1407.59 1543.22 1407.59 1549.27 L1407.59 1568.04 L1401.7 1568.04 L1401.7 1532.4 L1407.59 1532.4 L1407.59 1537.93 Q1409.44 1534.69 1412.4 1533.13 Q1415.36 1531.54 1419.59 1531.54 Q1420.19 1531.54 1420.93 1531.63 Q1421.66 1531.7 1422.55 1531.85 L1422.58 1537.87 Z\" fill=\"#000000\" fill-rule=\"evenodd\" fill-opacity=\"1\" /><path clip-path=\"url(#clip840)\" d=\"M1451.45 1533.45 L1451.45 1538.98 Q1448.97 1537.71 1446.29 1537.07 Q1443.62 1536.44 1440.75 1536.44 Q1436.39 1536.44 1434.2 1537.77 Q1432.03 1539.11 1432.03 1541.79 Q1432.03 1543.82 1433.59 1545 Q1435.15 1546.15 1439.86 1547.2 L1441.87 1547.64 Q1448.11 1548.98 1450.72 1551.43 Q1453.36 1553.85 1453.36 1558.21 Q1453.36 1563.17 1449.41 1566.07 Q1445.5 1568.97 1438.62 1568.97 Q1435.76 1568.97 1432.64 1568.39 Q1429.55 1567.85 1426.11 1566.74 L1426.11 1560.69 Q1429.36 1562.38 1432.51 1563.24 Q1435.66 1564.07 1438.75 1564.07 Q1442.89 1564.07 1445.12 1562.66 Q1447.34 1561.23 1447.34 1558.65 Q1447.34 1556.27 1445.72 1554.99 Q1444.13 1553.72 1438.69 1552.54 L1436.65 1552.07 Q1431.21 1550.92 1428.79 1548.56 Q1426.37 1546.18 1426.37 1542.04 Q1426.37 1537.01 1429.93 1534.27 Q1433.5 1531.54 1440.05 1531.54 Q1443.3 1531.54 1446.17 1532.01 Q1449.03 1532.49 1451.45 1533.45 Z\" fill=\"#000000\" fill-rule=\"evenodd\" fill-opacity=\"1\" /><polyline clip-path=\"url(#clip842)\" style=\"stroke:#000000; stroke-linecap:round; stroke-linejoin:round; stroke-width:8; stroke-opacity:0.1; fill:none\" points=\"219.38,1384.24 2352.76,1384.24 \"/>\n",
       "<polyline clip-path=\"url(#clip842)\" style=\"stroke:#000000; stroke-linecap:round; stroke-linejoin:round; stroke-width:8; stroke-opacity:0.1; fill:none\" points=\"219.38,1142.96 2352.76,1142.96 \"/>\n",
       "<polyline clip-path=\"url(#clip842)\" style=\"stroke:#000000; stroke-linecap:round; stroke-linejoin:round; stroke-width:8; stroke-opacity:0.1; fill:none\" points=\"219.38,901.691 2352.76,901.691 \"/>\n",
       "<polyline clip-path=\"url(#clip842)\" style=\"stroke:#000000; stroke-linecap:round; stroke-linejoin:round; stroke-width:8; stroke-opacity:0.1; fill:none\" points=\"219.38,660.417 2352.76,660.417 \"/>\n",
       "<polyline clip-path=\"url(#clip842)\" style=\"stroke:#000000; stroke-linecap:round; stroke-linejoin:round; stroke-width:8; stroke-opacity:0.1; fill:none\" points=\"219.38,419.144 2352.76,419.144 \"/>\n",
       "<polyline clip-path=\"url(#clip842)\" style=\"stroke:#000000; stroke-linecap:round; stroke-linejoin:round; stroke-width:8; stroke-opacity:0.1; fill:none\" points=\"219.38,177.87 2352.76,177.87 \"/>\n",
       "<polyline clip-path=\"url(#clip840)\" style=\"stroke:#000000; stroke-linecap:round; stroke-linejoin:round; stroke-width:4; stroke-opacity:1; fill:none\" points=\"219.38,1423.18 219.38,47.2441 \"/>\n",
       "<polyline clip-path=\"url(#clip840)\" style=\"stroke:#000000; stroke-linecap:round; stroke-linejoin:round; stroke-width:4; stroke-opacity:1; fill:none\" points=\"219.38,1384.24 238.278,1384.24 \"/>\n",
       "<polyline clip-path=\"url(#clip840)\" style=\"stroke:#000000; stroke-linecap:round; stroke-linejoin:round; stroke-width:4; stroke-opacity:1; fill:none\" points=\"219.38,1142.96 238.278,1142.96 \"/>\n",
       "<polyline clip-path=\"url(#clip840)\" style=\"stroke:#000000; stroke-linecap:round; stroke-linejoin:round; stroke-width:4; stroke-opacity:1; fill:none\" points=\"219.38,901.691 238.278,901.691 \"/>\n",
       "<polyline clip-path=\"url(#clip840)\" style=\"stroke:#000000; stroke-linecap:round; stroke-linejoin:round; stroke-width:4; stroke-opacity:1; fill:none\" points=\"219.38,660.417 238.278,660.417 \"/>\n",
       "<polyline clip-path=\"url(#clip840)\" style=\"stroke:#000000; stroke-linecap:round; stroke-linejoin:round; stroke-width:4; stroke-opacity:1; fill:none\" points=\"219.38,419.144 238.278,419.144 \"/>\n",
       "<polyline clip-path=\"url(#clip840)\" style=\"stroke:#000000; stroke-linecap:round; stroke-linejoin:round; stroke-width:4; stroke-opacity:1; fill:none\" points=\"219.38,177.87 238.278,177.87 \"/>\n",
       "<path clip-path=\"url(#clip840)\" d=\"M126.205 1370.04 Q122.593 1370.04 120.765 1373.6 Q118.959 1377.14 118.959 1384.27 Q118.959 1391.38 120.765 1394.94 Q122.593 1398.49 126.205 1398.49 Q129.839 1398.49 131.644 1394.94 Q133.473 1391.38 133.473 1384.27 Q133.473 1377.14 131.644 1373.6 Q129.839 1370.04 126.205 1370.04 M126.205 1366.33 Q132.015 1366.33 135.07 1370.94 Q138.149 1375.52 138.149 1384.27 Q138.149 1393 135.07 1397.61 Q132.015 1402.19 126.205 1402.19 Q120.394 1402.19 117.316 1397.61 Q114.26 1393 114.26 1384.27 Q114.26 1375.52 117.316 1370.94 Q120.394 1366.33 126.205 1366.33 Z\" fill=\"#000000\" fill-rule=\"evenodd\" fill-opacity=\"1\" /><path clip-path=\"url(#clip840)\" d=\"M146.366 1395.64 L151.251 1395.64 L151.251 1401.52 L146.366 1401.52 L146.366 1395.64 Z\" fill=\"#000000\" fill-rule=\"evenodd\" fill-opacity=\"1\" /><path clip-path=\"url(#clip840)\" d=\"M171.436 1370.04 Q167.825 1370.04 165.996 1373.6 Q164.19 1377.14 164.19 1384.27 Q164.19 1391.38 165.996 1394.94 Q167.825 1398.49 171.436 1398.49 Q175.07 1398.49 176.876 1394.94 Q178.704 1391.38 178.704 1384.27 Q178.704 1377.14 176.876 1373.6 Q175.07 1370.04 171.436 1370.04 M171.436 1366.33 Q177.246 1366.33 180.301 1370.94 Q183.38 1375.52 183.38 1384.27 Q183.38 1393 180.301 1397.61 Q177.246 1402.19 171.436 1402.19 Q165.626 1402.19 162.547 1397.61 Q159.491 1393 159.491 1384.27 Q159.491 1375.52 162.547 1370.94 Q165.626 1366.33 171.436 1366.33 Z\" fill=\"#000000\" fill-rule=\"evenodd\" fill-opacity=\"1\" /><path clip-path=\"url(#clip840)\" d=\"M127.2 1128.76 Q123.589 1128.76 121.76 1132.33 Q119.955 1135.87 119.955 1143 Q119.955 1150.11 121.76 1153.67 Q123.589 1157.21 127.2 1157.21 Q130.834 1157.21 132.64 1153.67 Q134.468 1150.11 134.468 1143 Q134.468 1135.87 132.64 1132.33 Q130.834 1128.76 127.2 1128.76 M127.2 1125.06 Q133.01 1125.06 136.066 1129.67 Q139.144 1134.25 139.144 1143 Q139.144 1151.73 136.066 1156.33 Q133.01 1160.92 127.2 1160.92 Q121.39 1160.92 118.311 1156.33 Q115.256 1151.73 115.256 1143 Q115.256 1134.25 118.311 1129.67 Q121.39 1125.06 127.2 1125.06 Z\" fill=\"#000000\" fill-rule=\"evenodd\" fill-opacity=\"1\" /><path clip-path=\"url(#clip840)\" d=\"M147.362 1154.36 L152.246 1154.36 L152.246 1160.24 L147.362 1160.24 L147.362 1154.36 Z\" fill=\"#000000\" fill-rule=\"evenodd\" fill-opacity=\"1\" /><path clip-path=\"url(#clip840)\" d=\"M162.477 1125.68 L180.834 1125.68 L180.834 1129.62 L166.76 1129.62 L166.76 1138.09 Q167.778 1137.74 168.797 1137.58 Q169.815 1137.4 170.834 1137.4 Q176.621 1137.4 180.001 1140.57 Q183.38 1143.74 183.38 1149.16 Q183.38 1154.74 179.908 1157.84 Q176.436 1160.92 170.116 1160.92 Q167.94 1160.92 165.672 1160.55 Q163.427 1160.18 161.019 1159.43 L161.019 1154.74 Q163.102 1155.87 165.325 1156.43 Q167.547 1156.98 170.024 1156.98 Q174.028 1156.98 176.366 1154.87 Q178.704 1152.77 178.704 1149.16 Q178.704 1145.55 176.366 1143.44 Q174.028 1141.33 170.024 1141.33 Q168.149 1141.33 166.274 1141.75 Q164.422 1142.17 162.477 1143.05 L162.477 1125.68 Z\" fill=\"#000000\" fill-rule=\"evenodd\" fill-opacity=\"1\" /><path clip-path=\"url(#clip840)\" d=\"M117.015 915.036 L124.654 915.036 L124.654 888.67 L116.343 890.337 L116.343 886.078 L124.607 884.411 L129.283 884.411 L129.283 915.036 L136.922 915.036 L136.922 918.971 L117.015 918.971 L117.015 915.036 Z\" fill=\"#000000\" fill-rule=\"evenodd\" fill-opacity=\"1\" /><path clip-path=\"url(#clip840)\" d=\"M146.366 913.091 L151.251 913.091 L151.251 918.971 L146.366 918.971 L146.366 913.091 Z\" fill=\"#000000\" fill-rule=\"evenodd\" fill-opacity=\"1\" /><path clip-path=\"url(#clip840)\" d=\"M171.436 887.49 Q167.825 887.49 165.996 891.054 Q164.19 894.596 164.19 901.726 Q164.19 908.832 165.996 912.397 Q167.825 915.938 171.436 915.938 Q175.07 915.938 176.876 912.397 Q178.704 908.832 178.704 901.726 Q178.704 894.596 176.876 891.054 Q175.07 887.49 171.436 887.49 M171.436 883.786 Q177.246 883.786 180.301 888.392 Q183.38 892.976 183.38 901.726 Q183.38 910.452 180.301 915.059 Q177.246 919.642 171.436 919.642 Q165.626 919.642 162.547 915.059 Q159.491 910.452 159.491 901.726 Q159.491 892.976 162.547 888.392 Q165.626 883.786 171.436 883.786 Z\" fill=\"#000000\" fill-rule=\"evenodd\" fill-opacity=\"1\" /><path clip-path=\"url(#clip840)\" d=\"M118.01 673.762 L125.649 673.762 L125.649 647.396 L117.339 649.063 L117.339 644.804 L125.603 643.137 L130.279 643.137 L130.279 673.762 L137.917 673.762 L137.917 677.697 L118.01 677.697 L118.01 673.762 Z\" fill=\"#000000\" fill-rule=\"evenodd\" fill-opacity=\"1\" /><path clip-path=\"url(#clip840)\" d=\"M147.362 671.818 L152.246 671.818 L152.246 677.697 L147.362 677.697 L147.362 671.818 Z\" fill=\"#000000\" fill-rule=\"evenodd\" fill-opacity=\"1\" /><path clip-path=\"url(#clip840)\" d=\"M162.477 643.137 L180.834 643.137 L180.834 647.072 L166.76 647.072 L166.76 655.545 Q167.778 655.197 168.797 655.035 Q169.815 654.85 170.834 654.85 Q176.621 654.85 180.001 658.021 Q183.38 661.193 183.38 666.609 Q183.38 672.188 179.908 675.29 Q176.436 678.368 170.116 678.368 Q167.94 678.368 165.672 677.998 Q163.427 677.628 161.019 676.887 L161.019 672.188 Q163.102 673.322 165.325 673.878 Q167.547 674.433 170.024 674.433 Q174.028 674.433 176.366 672.327 Q178.704 670.22 178.704 666.609 Q178.704 662.998 176.366 660.892 Q174.028 658.785 170.024 658.785 Q168.149 658.785 166.274 659.202 Q164.422 659.619 162.477 660.498 L162.477 643.137 Z\" fill=\"#000000\" fill-rule=\"evenodd\" fill-opacity=\"1\" /><path clip-path=\"url(#clip840)\" d=\"M120.232 432.488 L136.552 432.488 L136.552 436.424 L114.607 436.424 L114.607 432.488 Q117.269 429.734 121.853 425.104 Q126.459 420.451 127.64 419.109 Q129.885 416.586 130.765 414.85 Q131.667 413.09 131.667 411.4 Q131.667 408.646 129.723 406.91 Q127.802 405.174 124.7 405.174 Q122.501 405.174 120.047 405.938 Q117.617 406.701 114.839 408.252 L114.839 403.53 Q117.663 402.396 120.117 401.817 Q122.57 401.239 124.607 401.239 Q129.978 401.239 133.172 403.924 Q136.367 406.609 136.367 411.1 Q136.367 413.229 135.556 415.15 Q134.769 417.049 132.663 419.641 Q132.084 420.312 128.982 423.53 Q125.88 426.724 120.232 432.488 Z\" fill=\"#000000\" fill-rule=\"evenodd\" fill-opacity=\"1\" /><path clip-path=\"url(#clip840)\" d=\"M146.366 430.544 L151.251 430.544 L151.251 436.424 L146.366 436.424 L146.366 430.544 Z\" fill=\"#000000\" fill-rule=\"evenodd\" fill-opacity=\"1\" /><path clip-path=\"url(#clip840)\" d=\"M171.436 404.942 Q167.825 404.942 165.996 408.507 Q164.19 412.049 164.19 419.178 Q164.19 426.285 165.996 429.849 Q167.825 433.391 171.436 433.391 Q175.07 433.391 176.876 429.849 Q178.704 426.285 178.704 419.178 Q178.704 412.049 176.876 408.507 Q175.07 404.942 171.436 404.942 M171.436 401.239 Q177.246 401.239 180.301 405.845 Q183.38 410.428 183.38 419.178 Q183.38 427.905 180.301 432.511 Q177.246 437.095 171.436 437.095 Q165.626 437.095 162.547 432.511 Q159.491 427.905 159.491 419.178 Q159.491 410.428 162.547 405.845 Q165.626 401.239 171.436 401.239 Z\" fill=\"#000000\" fill-rule=\"evenodd\" fill-opacity=\"1\" /><path clip-path=\"url(#clip840)\" d=\"M121.228 191.215 L137.547 191.215 L137.547 195.15 L115.603 195.15 L115.603 191.215 Q118.265 188.46 122.848 183.83 Q127.455 179.178 128.635 177.835 Q130.88 175.312 131.76 173.576 Q132.663 171.817 132.663 170.127 Q132.663 167.372 130.718 165.636 Q128.797 163.9 125.695 163.9 Q123.496 163.9 121.043 164.664 Q118.612 165.428 115.834 166.979 L115.834 162.256 Q118.658 161.122 121.112 160.544 Q123.566 159.965 125.603 159.965 Q130.973 159.965 134.167 162.65 Q137.362 165.335 137.362 169.826 Q137.362 171.955 136.552 173.877 Q135.765 175.775 133.658 178.367 Q133.08 179.039 129.978 182.256 Q126.876 185.451 121.228 191.215 Z\" fill=\"#000000\" fill-rule=\"evenodd\" fill-opacity=\"1\" /><path clip-path=\"url(#clip840)\" d=\"M147.362 189.27 L152.246 189.27 L152.246 195.15 L147.362 195.15 L147.362 189.27 Z\" fill=\"#000000\" fill-rule=\"evenodd\" fill-opacity=\"1\" /><path clip-path=\"url(#clip840)\" d=\"M162.477 160.59 L180.834 160.59 L180.834 164.525 L166.76 164.525 L166.76 172.997 Q167.778 172.65 168.797 172.488 Q169.815 172.303 170.834 172.303 Q176.621 172.303 180.001 175.474 Q183.38 178.645 183.38 184.062 Q183.38 189.641 179.908 192.742 Q176.436 195.821 170.116 195.821 Q167.94 195.821 165.672 195.451 Q163.427 195.08 161.019 194.34 L161.019 189.641 Q163.102 190.775 165.325 191.33 Q167.547 191.886 170.024 191.886 Q174.028 191.886 176.366 189.779 Q178.704 187.673 178.704 184.062 Q178.704 180.451 176.366 178.344 Q174.028 176.238 170.024 176.238 Q168.149 176.238 166.274 176.655 Q164.422 177.071 162.477 177.951 L162.477 160.59 Z\" fill=\"#000000\" fill-rule=\"evenodd\" fill-opacity=\"1\" /><path clip-path=\"url(#clip840)\" d=\"M29.4065 898.413 L34.9447 898.413 Q33.6716 900.895 33.035 903.569 Q32.3984 906.243 32.3984 909.107 Q32.3984 913.468 33.7352 915.664 Q35.072 917.828 37.7456 917.828 Q39.7826 917.828 40.9603 916.269 Q42.1061 914.709 43.1565 909.998 L43.6021 907.993 Q44.9389 901.755 47.3897 899.145 Q49.8086 896.503 54.1691 896.503 Q59.1344 896.503 62.0308 900.45 Q64.9272 904.365 64.9272 911.24 Q64.9272 914.104 64.3543 917.223 Q63.8132 920.311 62.6992 923.748 L56.6518 923.748 Q58.3387 920.502 59.198 917.351 Q60.0256 914.2 60.0256 911.112 Q60.0256 906.975 58.6251 904.747 Q57.1929 902.519 54.6147 902.519 Q52.2276 902.519 50.9545 904.142 Q49.6813 905.733 48.5037 911.176 L48.0262 913.213 Q46.8804 918.656 44.5251 921.075 Q42.138 923.494 38.0002 923.494 Q32.9713 923.494 30.2341 919.929 Q27.4968 916.364 27.4968 909.807 Q27.4968 906.561 27.9743 903.696 Q28.4517 900.832 29.4065 898.413 Z\" fill=\"#000000\" fill-rule=\"evenodd\" fill-opacity=\"1\" /><path clip-path=\"url(#clip840)\" d=\"M32.4621 873.364 Q32.4621 878.074 36.1542 880.812 Q39.8145 883.549 46.212 883.549 Q52.6095 883.549 56.3017 880.843 Q59.9619 878.106 59.9619 873.364 Q59.9619 868.685 56.2698 865.948 Q52.5777 863.21 46.212 863.21 Q39.8781 863.21 36.186 865.948 Q32.4621 868.685 32.4621 873.364 M27.4968 873.364 Q27.4968 865.725 32.4621 861.364 Q37.4273 857.004 46.212 857.004 Q54.9649 857.004 59.9619 861.364 Q64.9272 865.725 64.9272 873.364 Q64.9272 881.034 59.9619 885.395 Q54.9649 889.724 46.212 889.724 Q37.4273 889.724 32.4621 885.395 Q27.4968 881.034 27.4968 873.364 Z\" fill=\"#000000\" fill-rule=\"evenodd\" fill-opacity=\"1\" /><path clip-path=\"url(#clip840)\" d=\"M14.479 847.296 L14.479 841.44 L64.0042 841.44 L64.0042 847.296 L14.479 847.296 Z\" fill=\"#000000\" fill-rule=\"evenodd\" fill-opacity=\"1\" /><path clip-path=\"url(#clip840)\" d=\"M55.9197 828.358 L55.9197 821.642 L64.0042 821.642 L64.0042 828.358 L55.9197 828.358 Z\" fill=\"#000000\" fill-rule=\"evenodd\" fill-opacity=\"1\" /><path clip-path=\"url(#clip840)\" d=\"M18.2347 781.952 L28.3562 781.952 L28.3562 769.889 L32.9077 769.889 L32.9077 781.952 L52.2594 781.952 Q56.6199 781.952 57.8613 780.775 Q59.1026 779.565 59.1026 775.905 L59.1026 769.889 L64.0042 769.889 L64.0042 775.905 Q64.0042 782.684 61.4897 785.262 Q58.9434 787.84 52.2594 787.84 L32.9077 787.84 L32.9077 792.137 L28.3562 792.137 L28.3562 787.84 L18.2347 787.84 L18.2347 781.952 Z\" fill=\"#000000\" fill-rule=\"evenodd\" fill-opacity=\"1\" /><path clip-path=\"url(#clip840)\" d=\"M28.3562 762.187 L28.3562 756.33 L64.0042 756.33 L64.0042 762.187 L28.3562 762.187 M14.479 762.187 L14.479 756.33 L21.895 756.33 L21.895 762.187 L14.479 762.187 Z\" fill=\"#000000\" fill-rule=\"evenodd\" fill-opacity=\"1\" /><path clip-path=\"url(#clip840)\" d=\"M35.1993 716.322 Q31.2526 714.126 29.3747 711.07 Q27.4968 708.014 27.4968 703.877 Q27.4968 698.307 31.4117 695.283 Q35.2948 692.259 42.4881 692.259 L64.0042 692.259 L64.0042 698.148 L42.679 698.148 Q37.5546 698.148 35.072 699.962 Q32.5894 701.776 32.5894 705.5 Q32.5894 710.052 35.6131 712.693 Q38.6368 715.335 43.8567 715.335 L64.0042 715.335 L64.0042 721.223 L42.679 721.223 Q37.5228 721.223 35.072 723.038 Q32.5894 724.852 32.5894 728.639 Q32.5894 733.127 35.6449 735.769 Q38.6686 738.411 43.8567 738.411 L64.0042 738.411 L64.0042 744.299 L28.3562 744.299 L28.3562 738.411 L33.8944 738.411 Q30.616 736.406 29.0564 733.605 Q27.4968 730.804 27.4968 726.952 Q27.4968 723.069 29.4702 720.364 Q31.4436 717.627 35.1993 716.322 Z\" fill=\"#000000\" fill-rule=\"evenodd\" fill-opacity=\"1\" /><path clip-path=\"url(#clip840)\" d=\"M44.7161 650.087 L47.5806 650.087 L47.5806 677.013 Q53.6281 676.632 56.8109 673.385 Q59.9619 670.107 59.9619 664.282 Q59.9619 660.908 59.1344 657.757 Q58.3069 654.574 56.6518 651.455 L62.1899 651.455 Q63.5267 654.606 64.227 657.916 Q64.9272 661.227 64.9272 664.632 Q64.9272 673.162 59.9619 678.159 Q54.9967 683.125 46.5303 683.125 Q37.7774 683.125 32.6531 678.414 Q27.4968 673.671 27.4968 665.651 Q27.4968 658.457 32.1438 654.288 Q36.7589 650.087 44.7161 650.087 M42.9973 655.943 Q38.1912 656.007 35.3266 658.648 Q32.4621 661.258 32.4621 665.587 Q32.4621 670.489 35.2312 673.449 Q38.0002 676.377 43.0292 676.823 L42.9973 655.943 Z\" fill=\"#000000\" fill-rule=\"evenodd\" fill-opacity=\"1\" /><path clip-path=\"url(#clip840)\" d=\"M14.479 620.295 L14.479 606.8 L19.0304 606.8 L19.0304 614.439 L68.0464 614.439 L68.0464 606.8 L72.5979 606.8 L72.5979 620.295 L14.479 620.295 Z\" fill=\"#000000\" fill-rule=\"evenodd\" fill-opacity=\"1\" /><path clip-path=\"url(#clip840)\" d=\"M29.4065 571.597 L34.9447 571.597 Q33.6716 574.08 33.035 576.754 Q32.3984 579.427 32.3984 582.292 Q32.3984 586.652 33.7352 588.848 Q35.072 591.013 37.7456 591.013 Q39.7826 591.013 40.9603 589.453 Q42.1061 587.894 43.1565 583.183 L43.6021 581.178 Q44.9389 574.939 47.3897 572.329 Q49.8086 569.688 54.1691 569.688 Q59.1344 569.688 62.0308 573.634 Q64.9272 577.549 64.9272 584.424 Q64.9272 587.289 64.3543 590.408 Q63.8132 593.495 62.6992 596.933 L56.6518 596.933 Q58.3387 593.686 59.198 590.535 Q60.0256 587.384 60.0256 584.297 Q60.0256 580.159 58.6251 577.931 Q57.1929 575.703 54.6147 575.703 Q52.2276 575.703 50.9545 577.327 Q49.6813 578.918 48.5037 584.361 L48.0262 586.398 Q46.8804 591.84 44.5251 594.259 Q42.138 596.678 38.0002 596.678 Q32.9713 596.678 30.2341 593.113 Q27.4968 589.549 27.4968 582.992 Q27.4968 579.745 27.9743 576.881 Q28.4517 574.016 29.4065 571.597 Z\" fill=\"#000000\" fill-rule=\"evenodd\" fill-opacity=\"1\" /><path clip-path=\"url(#clip840)\" d=\"M14.479 546.676 L72.5979 546.676 L72.5979 560.171 L68.0464 560.171 L68.0464 552.564 L19.0304 552.564 L19.0304 560.171 L14.479 560.171 L14.479 546.676 Z\" fill=\"#000000\" fill-rule=\"evenodd\" fill-opacity=\"1\" /><polyline clip-path=\"url(#clip842)\" style=\"stroke:#009af9; stroke-linecap:round; stroke-linejoin:round; stroke-width:4; stroke-opacity:1; fill:none\" points=\"279.759,1343.22 349.159,1326.33 418.56,1384.24 487.961,1384.24 557.361,1384.24 626.762,1384.24 696.163,1384.24 765.563,1384.24 834.964,1384.24 904.364,1384.24 973.765,1384.24 1043.17,1384.24 1112.57,1384.24 1181.97,1384.24 1251.37,1384.24 1320.77,1384.24 1390.17,1384.24 1459.57,1384.24 1528.97,1384.24 1598.37,1384.24 1667.77,1384.24 1737.17,1384.24 1806.57,1384.24 1875.97,1384.24 1945.37,1384.24 2014.77,1384.24 2084.18,1384.24 2153.58,1384.24 2222.98,1384.24 2292.38,1384.24 \"/>\n",
       "<circle clip-path=\"url(#clip842)\" cx=\"279.759\" cy=\"1343.22\" r=\"14.4\" fill=\"#008000\" fill-rule=\"evenodd\" fill-opacity=\"1\" stroke=\"#000000\" stroke-opacity=\"1\" stroke-width=\"3.2\"/>\n",
       "<circle clip-path=\"url(#clip842)\" cx=\"349.159\" cy=\"1326.33\" r=\"14.4\" fill=\"#008000\" fill-rule=\"evenodd\" fill-opacity=\"1\" stroke=\"#000000\" stroke-opacity=\"1\" stroke-width=\"3.2\"/>\n",
       "<circle clip-path=\"url(#clip842)\" cx=\"418.56\" cy=\"1384.24\" r=\"14.4\" fill=\"#008000\" fill-rule=\"evenodd\" fill-opacity=\"1\" stroke=\"#000000\" stroke-opacity=\"1\" stroke-width=\"3.2\"/>\n",
       "<circle clip-path=\"url(#clip842)\" cx=\"487.961\" cy=\"1384.24\" r=\"14.4\" fill=\"#008000\" fill-rule=\"evenodd\" fill-opacity=\"1\" stroke=\"#000000\" stroke-opacity=\"1\" stroke-width=\"3.2\"/>\n",
       "<circle clip-path=\"url(#clip842)\" cx=\"557.361\" cy=\"1384.24\" r=\"14.4\" fill=\"#008000\" fill-rule=\"evenodd\" fill-opacity=\"1\" stroke=\"#000000\" stroke-opacity=\"1\" stroke-width=\"3.2\"/>\n",
       "<circle clip-path=\"url(#clip842)\" cx=\"626.762\" cy=\"1384.24\" r=\"14.4\" fill=\"#008000\" fill-rule=\"evenodd\" fill-opacity=\"1\" stroke=\"#000000\" stroke-opacity=\"1\" stroke-width=\"3.2\"/>\n",
       "<circle clip-path=\"url(#clip842)\" cx=\"696.163\" cy=\"1384.24\" r=\"14.4\" fill=\"#008000\" fill-rule=\"evenodd\" fill-opacity=\"1\" stroke=\"#000000\" stroke-opacity=\"1\" stroke-width=\"3.2\"/>\n",
       "<circle clip-path=\"url(#clip842)\" cx=\"765.563\" cy=\"1384.24\" r=\"14.4\" fill=\"#008000\" fill-rule=\"evenodd\" fill-opacity=\"1\" stroke=\"#000000\" stroke-opacity=\"1\" stroke-width=\"3.2\"/>\n",
       "<circle clip-path=\"url(#clip842)\" cx=\"834.964\" cy=\"1384.24\" r=\"14.4\" fill=\"#008000\" fill-rule=\"evenodd\" fill-opacity=\"1\" stroke=\"#000000\" stroke-opacity=\"1\" stroke-width=\"3.2\"/>\n",
       "<circle clip-path=\"url(#clip842)\" cx=\"904.364\" cy=\"1384.24\" r=\"14.4\" fill=\"#008000\" fill-rule=\"evenodd\" fill-opacity=\"1\" stroke=\"#000000\" stroke-opacity=\"1\" stroke-width=\"3.2\"/>\n",
       "<circle clip-path=\"url(#clip842)\" cx=\"973.765\" cy=\"1384.24\" r=\"14.4\" fill=\"#008000\" fill-rule=\"evenodd\" fill-opacity=\"1\" stroke=\"#000000\" stroke-opacity=\"1\" stroke-width=\"3.2\"/>\n",
       "<circle clip-path=\"url(#clip842)\" cx=\"1043.17\" cy=\"1384.24\" r=\"14.4\" fill=\"#008000\" fill-rule=\"evenodd\" fill-opacity=\"1\" stroke=\"#000000\" stroke-opacity=\"1\" stroke-width=\"3.2\"/>\n",
       "<circle clip-path=\"url(#clip842)\" cx=\"1112.57\" cy=\"1384.24\" r=\"14.4\" fill=\"#008000\" fill-rule=\"evenodd\" fill-opacity=\"1\" stroke=\"#000000\" stroke-opacity=\"1\" stroke-width=\"3.2\"/>\n",
       "<circle clip-path=\"url(#clip842)\" cx=\"1181.97\" cy=\"1384.24\" r=\"14.4\" fill=\"#008000\" fill-rule=\"evenodd\" fill-opacity=\"1\" stroke=\"#000000\" stroke-opacity=\"1\" stroke-width=\"3.2\"/>\n",
       "<circle clip-path=\"url(#clip842)\" cx=\"1251.37\" cy=\"1384.24\" r=\"14.4\" fill=\"#008000\" fill-rule=\"evenodd\" fill-opacity=\"1\" stroke=\"#000000\" stroke-opacity=\"1\" stroke-width=\"3.2\"/>\n",
       "<circle clip-path=\"url(#clip842)\" cx=\"1320.77\" cy=\"1384.24\" r=\"14.4\" fill=\"#008000\" fill-rule=\"evenodd\" fill-opacity=\"1\" stroke=\"#000000\" stroke-opacity=\"1\" stroke-width=\"3.2\"/>\n",
       "<circle clip-path=\"url(#clip842)\" cx=\"1390.17\" cy=\"1384.24\" r=\"14.4\" fill=\"#008000\" fill-rule=\"evenodd\" fill-opacity=\"1\" stroke=\"#000000\" stroke-opacity=\"1\" stroke-width=\"3.2\"/>\n",
       "<circle clip-path=\"url(#clip842)\" cx=\"1459.57\" cy=\"1384.24\" r=\"14.4\" fill=\"#008000\" fill-rule=\"evenodd\" fill-opacity=\"1\" stroke=\"#000000\" stroke-opacity=\"1\" stroke-width=\"3.2\"/>\n",
       "<circle clip-path=\"url(#clip842)\" cx=\"1528.97\" cy=\"1384.24\" r=\"14.4\" fill=\"#008000\" fill-rule=\"evenodd\" fill-opacity=\"1\" stroke=\"#000000\" stroke-opacity=\"1\" stroke-width=\"3.2\"/>\n",
       "<circle clip-path=\"url(#clip842)\" cx=\"1598.37\" cy=\"1384.24\" r=\"14.4\" fill=\"#008000\" fill-rule=\"evenodd\" fill-opacity=\"1\" stroke=\"#000000\" stroke-opacity=\"1\" stroke-width=\"3.2\"/>\n",
       "<circle clip-path=\"url(#clip842)\" cx=\"1667.77\" cy=\"1384.24\" r=\"14.4\" fill=\"#008000\" fill-rule=\"evenodd\" fill-opacity=\"1\" stroke=\"#000000\" stroke-opacity=\"1\" stroke-width=\"3.2\"/>\n",
       "<circle clip-path=\"url(#clip842)\" cx=\"1737.17\" cy=\"1384.24\" r=\"14.4\" fill=\"#008000\" fill-rule=\"evenodd\" fill-opacity=\"1\" stroke=\"#000000\" stroke-opacity=\"1\" stroke-width=\"3.2\"/>\n",
       "<circle clip-path=\"url(#clip842)\" cx=\"1806.57\" cy=\"1384.24\" r=\"14.4\" fill=\"#008000\" fill-rule=\"evenodd\" fill-opacity=\"1\" stroke=\"#000000\" stroke-opacity=\"1\" stroke-width=\"3.2\"/>\n",
       "<circle clip-path=\"url(#clip842)\" cx=\"1875.97\" cy=\"1384.24\" r=\"14.4\" fill=\"#008000\" fill-rule=\"evenodd\" fill-opacity=\"1\" stroke=\"#000000\" stroke-opacity=\"1\" stroke-width=\"3.2\"/>\n",
       "<circle clip-path=\"url(#clip842)\" cx=\"1945.37\" cy=\"1384.24\" r=\"14.4\" fill=\"#008000\" fill-rule=\"evenodd\" fill-opacity=\"1\" stroke=\"#000000\" stroke-opacity=\"1\" stroke-width=\"3.2\"/>\n",
       "<circle clip-path=\"url(#clip842)\" cx=\"2014.77\" cy=\"1384.24\" r=\"14.4\" fill=\"#008000\" fill-rule=\"evenodd\" fill-opacity=\"1\" stroke=\"#000000\" stroke-opacity=\"1\" stroke-width=\"3.2\"/>\n",
       "<circle clip-path=\"url(#clip842)\" cx=\"2084.18\" cy=\"1384.24\" r=\"14.4\" fill=\"#008000\" fill-rule=\"evenodd\" fill-opacity=\"1\" stroke=\"#000000\" stroke-opacity=\"1\" stroke-width=\"3.2\"/>\n",
       "<circle clip-path=\"url(#clip842)\" cx=\"2153.58\" cy=\"1384.24\" r=\"14.4\" fill=\"#008000\" fill-rule=\"evenodd\" fill-opacity=\"1\" stroke=\"#000000\" stroke-opacity=\"1\" stroke-width=\"3.2\"/>\n",
       "<circle clip-path=\"url(#clip842)\" cx=\"2222.98\" cy=\"1384.24\" r=\"14.4\" fill=\"#008000\" fill-rule=\"evenodd\" fill-opacity=\"1\" stroke=\"#000000\" stroke-opacity=\"1\" stroke-width=\"3.2\"/>\n",
       "<circle clip-path=\"url(#clip842)\" cx=\"2292.38\" cy=\"1384.24\" r=\"14.4\" fill=\"#008000\" fill-rule=\"evenodd\" fill-opacity=\"1\" stroke=\"#000000\" stroke-opacity=\"1\" stroke-width=\"3.2\"/>\n",
       "<polyline clip-path=\"url(#clip842)\" style=\"stroke:#e26f46; stroke-linecap:round; stroke-linejoin:round; stroke-width:4; stroke-opacity:1; fill:none\" points=\"279.759,86.1857 349.159,397.911 418.56,1384.24 487.961,1384.24 557.361,1384.24 626.762,1384.24 696.163,1384.24 765.563,1384.24 834.964,1384.24 904.364,1384.24 973.765,1384.24 1043.17,1384.24 1112.57,1384.24 1181.97,1384.24 1251.37,1384.24 1320.77,1384.24 1390.17,1384.24 1459.57,1384.24 1528.97,1384.24 1598.37,1384.24 1667.77,1384.24 1737.17,1384.24 1806.57,1384.24 1875.97,1384.24 1945.37,1384.24 2014.77,1384.24 2084.18,1384.24 2153.58,1384.24 2222.98,1384.24 2292.38,1384.24 \"/>\n",
       "<path clip-path=\"url(#clip842)\" d=\"M263.759 70.1857 L263.759 102.186 L295.759 102.186 L295.759 70.1857 L263.759 70.1857 Z\" fill=\"#ff0000\" fill-rule=\"evenodd\" fill-opacity=\"1\" stroke=\"#000000\" stroke-opacity=\"1\" stroke-width=\"3.2\"/>\n",
       "<path clip-path=\"url(#clip842)\" d=\"M333.159 381.911 L333.159 413.911 L365.159 413.911 L365.159 381.911 L333.159 381.911 Z\" fill=\"#ff0000\" fill-rule=\"evenodd\" fill-opacity=\"1\" stroke=\"#000000\" stroke-opacity=\"1\" stroke-width=\"3.2\"/>\n",
       "<path clip-path=\"url(#clip842)\" d=\"M402.56 1368.24 L402.56 1400.24 L434.56 1400.24 L434.56 1368.24 L402.56 1368.24 Z\" fill=\"#ff0000\" fill-rule=\"evenodd\" fill-opacity=\"1\" stroke=\"#000000\" stroke-opacity=\"1\" stroke-width=\"3.2\"/>\n",
       "<path clip-path=\"url(#clip842)\" d=\"M471.961 1368.24 L471.961 1400.24 L503.961 1400.24 L503.961 1368.24 L471.961 1368.24 Z\" fill=\"#ff0000\" fill-rule=\"evenodd\" fill-opacity=\"1\" stroke=\"#000000\" stroke-opacity=\"1\" stroke-width=\"3.2\"/>\n",
       "<path clip-path=\"url(#clip842)\" d=\"M541.361 1368.24 L541.361 1400.24 L573.361 1400.24 L573.361 1368.24 L541.361 1368.24 Z\" fill=\"#ff0000\" fill-rule=\"evenodd\" fill-opacity=\"1\" stroke=\"#000000\" stroke-opacity=\"1\" stroke-width=\"3.2\"/>\n",
       "<path clip-path=\"url(#clip842)\" d=\"M610.762 1368.24 L610.762 1400.24 L642.762 1400.24 L642.762 1368.24 L610.762 1368.24 Z\" fill=\"#ff0000\" fill-rule=\"evenodd\" fill-opacity=\"1\" stroke=\"#000000\" stroke-opacity=\"1\" stroke-width=\"3.2\"/>\n",
       "<path clip-path=\"url(#clip842)\" d=\"M680.163 1368.24 L680.163 1400.24 L712.163 1400.24 L712.163 1368.24 L680.163 1368.24 Z\" fill=\"#ff0000\" fill-rule=\"evenodd\" fill-opacity=\"1\" stroke=\"#000000\" stroke-opacity=\"1\" stroke-width=\"3.2\"/>\n",
       "<path clip-path=\"url(#clip842)\" d=\"M749.563 1368.24 L749.563 1400.24 L781.563 1400.24 L781.563 1368.24 L749.563 1368.24 Z\" fill=\"#ff0000\" fill-rule=\"evenodd\" fill-opacity=\"1\" stroke=\"#000000\" stroke-opacity=\"1\" stroke-width=\"3.2\"/>\n",
       "<path clip-path=\"url(#clip842)\" d=\"M818.964 1368.24 L818.964 1400.24 L850.964 1400.24 L850.964 1368.24 L818.964 1368.24 Z\" fill=\"#ff0000\" fill-rule=\"evenodd\" fill-opacity=\"1\" stroke=\"#000000\" stroke-opacity=\"1\" stroke-width=\"3.2\"/>\n",
       "<path clip-path=\"url(#clip842)\" d=\"M888.364 1368.24 L888.364 1400.24 L920.364 1400.24 L920.364 1368.24 L888.364 1368.24 Z\" fill=\"#ff0000\" fill-rule=\"evenodd\" fill-opacity=\"1\" stroke=\"#000000\" stroke-opacity=\"1\" stroke-width=\"3.2\"/>\n",
       "<path clip-path=\"url(#clip842)\" d=\"M957.765 1368.24 L957.765 1400.24 L989.765 1400.24 L989.765 1368.24 L957.765 1368.24 Z\" fill=\"#ff0000\" fill-rule=\"evenodd\" fill-opacity=\"1\" stroke=\"#000000\" stroke-opacity=\"1\" stroke-width=\"3.2\"/>\n",
       "<path clip-path=\"url(#clip842)\" d=\"M1027.17 1368.24 L1027.17 1400.24 L1059.17 1400.24 L1059.17 1368.24 L1027.17 1368.24 Z\" fill=\"#ff0000\" fill-rule=\"evenodd\" fill-opacity=\"1\" stroke=\"#000000\" stroke-opacity=\"1\" stroke-width=\"3.2\"/>\n",
       "<path clip-path=\"url(#clip842)\" d=\"M1096.57 1368.24 L1096.57 1400.24 L1128.57 1400.24 L1128.57 1368.24 L1096.57 1368.24 Z\" fill=\"#ff0000\" fill-rule=\"evenodd\" fill-opacity=\"1\" stroke=\"#000000\" stroke-opacity=\"1\" stroke-width=\"3.2\"/>\n",
       "<path clip-path=\"url(#clip842)\" d=\"M1165.97 1368.24 L1165.97 1400.24 L1197.97 1400.24 L1197.97 1368.24 L1165.97 1368.24 Z\" fill=\"#ff0000\" fill-rule=\"evenodd\" fill-opacity=\"1\" stroke=\"#000000\" stroke-opacity=\"1\" stroke-width=\"3.2\"/>\n",
       "<path clip-path=\"url(#clip842)\" d=\"M1235.37 1368.24 L1235.37 1400.24 L1267.37 1400.24 L1267.37 1368.24 L1235.37 1368.24 Z\" fill=\"#ff0000\" fill-rule=\"evenodd\" fill-opacity=\"1\" stroke=\"#000000\" stroke-opacity=\"1\" stroke-width=\"3.2\"/>\n",
       "<path clip-path=\"url(#clip842)\" d=\"M1304.77 1368.24 L1304.77 1400.24 L1336.77 1400.24 L1336.77 1368.24 L1304.77 1368.24 Z\" fill=\"#ff0000\" fill-rule=\"evenodd\" fill-opacity=\"1\" stroke=\"#000000\" stroke-opacity=\"1\" stroke-width=\"3.2\"/>\n",
       "<path clip-path=\"url(#clip842)\" d=\"M1374.17 1368.24 L1374.17 1400.24 L1406.17 1400.24 L1406.17 1368.24 L1374.17 1368.24 Z\" fill=\"#ff0000\" fill-rule=\"evenodd\" fill-opacity=\"1\" stroke=\"#000000\" stroke-opacity=\"1\" stroke-width=\"3.2\"/>\n",
       "<path clip-path=\"url(#clip842)\" d=\"M1443.57 1368.24 L1443.57 1400.24 L1475.57 1400.24 L1475.57 1368.24 L1443.57 1368.24 Z\" fill=\"#ff0000\" fill-rule=\"evenodd\" fill-opacity=\"1\" stroke=\"#000000\" stroke-opacity=\"1\" stroke-width=\"3.2\"/>\n",
       "<path clip-path=\"url(#clip842)\" d=\"M1512.97 1368.24 L1512.97 1400.24 L1544.97 1400.24 L1544.97 1368.24 L1512.97 1368.24 Z\" fill=\"#ff0000\" fill-rule=\"evenodd\" fill-opacity=\"1\" stroke=\"#000000\" stroke-opacity=\"1\" stroke-width=\"3.2\"/>\n",
       "<path clip-path=\"url(#clip842)\" d=\"M1582.37 1368.24 L1582.37 1400.24 L1614.37 1400.24 L1614.37 1368.24 L1582.37 1368.24 Z\" fill=\"#ff0000\" fill-rule=\"evenodd\" fill-opacity=\"1\" stroke=\"#000000\" stroke-opacity=\"1\" stroke-width=\"3.2\"/>\n",
       "<path clip-path=\"url(#clip842)\" d=\"M1651.77 1368.24 L1651.77 1400.24 L1683.77 1400.24 L1683.77 1368.24 L1651.77 1368.24 Z\" fill=\"#ff0000\" fill-rule=\"evenodd\" fill-opacity=\"1\" stroke=\"#000000\" stroke-opacity=\"1\" stroke-width=\"3.2\"/>\n",
       "<path clip-path=\"url(#clip842)\" d=\"M1721.17 1368.24 L1721.17 1400.24 L1753.17 1400.24 L1753.17 1368.24 L1721.17 1368.24 Z\" fill=\"#ff0000\" fill-rule=\"evenodd\" fill-opacity=\"1\" stroke=\"#000000\" stroke-opacity=\"1\" stroke-width=\"3.2\"/>\n",
       "<path clip-path=\"url(#clip842)\" d=\"M1790.57 1368.24 L1790.57 1400.24 L1822.57 1400.24 L1822.57 1368.24 L1790.57 1368.24 Z\" fill=\"#ff0000\" fill-rule=\"evenodd\" fill-opacity=\"1\" stroke=\"#000000\" stroke-opacity=\"1\" stroke-width=\"3.2\"/>\n",
       "<path clip-path=\"url(#clip842)\" d=\"M1859.97 1368.24 L1859.97 1400.24 L1891.97 1400.24 L1891.97 1368.24 L1859.97 1368.24 Z\" fill=\"#ff0000\" fill-rule=\"evenodd\" fill-opacity=\"1\" stroke=\"#000000\" stroke-opacity=\"1\" stroke-width=\"3.2\"/>\n",
       "<path clip-path=\"url(#clip842)\" d=\"M1929.37 1368.24 L1929.37 1400.24 L1961.37 1400.24 L1961.37 1368.24 L1929.37 1368.24 Z\" fill=\"#ff0000\" fill-rule=\"evenodd\" fill-opacity=\"1\" stroke=\"#000000\" stroke-opacity=\"1\" stroke-width=\"3.2\"/>\n",
       "<path clip-path=\"url(#clip842)\" d=\"M1998.77 1368.24 L1998.77 1400.24 L2030.77 1400.24 L2030.77 1368.24 L1998.77 1368.24 Z\" fill=\"#ff0000\" fill-rule=\"evenodd\" fill-opacity=\"1\" stroke=\"#000000\" stroke-opacity=\"1\" stroke-width=\"3.2\"/>\n",
       "<path clip-path=\"url(#clip842)\" d=\"M2068.18 1368.24 L2068.18 1400.24 L2100.18 1400.24 L2100.18 1368.24 L2068.18 1368.24 Z\" fill=\"#ff0000\" fill-rule=\"evenodd\" fill-opacity=\"1\" stroke=\"#000000\" stroke-opacity=\"1\" stroke-width=\"3.2\"/>\n",
       "<path clip-path=\"url(#clip842)\" d=\"M2137.58 1368.24 L2137.58 1400.24 L2169.58 1400.24 L2169.58 1368.24 L2137.58 1368.24 Z\" fill=\"#ff0000\" fill-rule=\"evenodd\" fill-opacity=\"1\" stroke=\"#000000\" stroke-opacity=\"1\" stroke-width=\"3.2\"/>\n",
       "<path clip-path=\"url(#clip842)\" d=\"M2206.98 1368.24 L2206.98 1400.24 L2238.98 1400.24 L2238.98 1368.24 L2206.98 1368.24 Z\" fill=\"#ff0000\" fill-rule=\"evenodd\" fill-opacity=\"1\" stroke=\"#000000\" stroke-opacity=\"1\" stroke-width=\"3.2\"/>\n",
       "<path clip-path=\"url(#clip842)\" d=\"M2276.38 1368.24 L2276.38 1400.24 L2308.38 1400.24 L2308.38 1368.24 L2276.38 1368.24 Z\" fill=\"#ff0000\" fill-rule=\"evenodd\" fill-opacity=\"1\" stroke=\"#000000\" stroke-opacity=\"1\" stroke-width=\"3.2\"/>\n",
       "<path clip-path=\"url(#clip840)\" d=\"M1771.66 248.629 L2281.64 248.629 L2281.64 93.1086 L1771.66 93.1086  Z\" fill=\"#ffffff\" fill-rule=\"evenodd\" fill-opacity=\"1\"/>\n",
       "<polyline clip-path=\"url(#clip840)\" style=\"stroke:#000000; stroke-linecap:round; stroke-linejoin:round; stroke-width:4; stroke-opacity:1; fill:none\" points=\"1771.66,248.629 2281.64,248.629 2281.64,93.1086 1771.66,93.1086 1771.66,248.629 \"/>\n",
       "<polyline clip-path=\"url(#clip840)\" style=\"stroke:#009af9; stroke-linecap:round; stroke-linejoin:round; stroke-width:4; stroke-opacity:1; fill:none\" points=\"1795.37,144.949 1937.59,144.949 \"/>\n",
       "<circle clip-path=\"url(#clip840)\" cx=\"1866.48\" cy=\"144.949\" r=\"19.7535\" fill=\"#008000\" fill-rule=\"evenodd\" fill-opacity=\"1\" stroke=\"#000000\" stroke-opacity=\"1\" stroke-width=\"5.12\"/>\n",
       "<path clip-path=\"url(#clip840)\" d=\"M1981.64 141.28 Q1983.24 138.409 1985.46 137.044 Q1987.69 135.678 1990.7 135.678 Q1994.75 135.678 1996.95 138.525 Q1999.14 141.349 1999.14 146.581 L1999.14 162.229 L1994.86 162.229 L1994.86 146.719 Q1994.86 142.993 1993.54 141.187 Q1992.22 139.382 1989.51 139.382 Q1986.2 139.382 1984.28 141.581 Q1982.36 143.78 1982.36 147.576 L1982.36 162.229 L1978.08 162.229 L1978.08 146.719 Q1978.08 142.969 1976.76 141.187 Q1975.44 139.382 1972.69 139.382 Q1969.42 139.382 1967.5 141.604 Q1965.58 143.803 1965.58 147.576 L1965.58 162.229 L1961.3 162.229 L1961.3 136.303 L1965.58 136.303 L1965.58 140.331 Q1967.04 137.946 1969.08 136.812 Q1971.11 135.678 1973.91 135.678 Q1976.74 135.678 1978.7 137.113 Q1980.7 138.548 1981.64 141.28 Z\" fill=\"#000000\" fill-rule=\"evenodd\" fill-opacity=\"1\" /><path clip-path=\"url(#clip840)\" d=\"M2017.69 139.289 Q2014.26 139.289 2012.27 141.974 Q2010.28 144.636 2010.28 149.289 Q2010.28 153.942 2012.25 156.627 Q2014.24 159.289 2017.69 159.289 Q2021.09 159.289 2023.08 156.604 Q2025.07 153.918 2025.07 149.289 Q2025.07 144.682 2023.08 141.997 Q2021.09 139.289 2017.69 139.289 M2017.69 135.678 Q2023.24 135.678 2026.41 139.289 Q2029.58 142.9 2029.58 149.289 Q2029.58 155.655 2026.41 159.289 Q2023.24 162.9 2017.69 162.9 Q2012.11 162.9 2008.94 159.289 Q2005.79 155.655 2005.79 149.289 Q2005.79 142.9 2008.94 139.289 Q2012.11 135.678 2017.69 135.678 Z\" fill=\"#000000\" fill-rule=\"evenodd\" fill-opacity=\"1\" /><path clip-path=\"url(#clip840)\" d=\"M2058.19 146.581 L2058.19 162.229 L2053.94 162.229 L2053.94 146.719 Q2053.94 143.039 2052.5 141.21 Q2051.07 139.382 2048.19 139.382 Q2044.75 139.382 2042.76 141.581 Q2040.76 143.78 2040.76 147.576 L2040.76 162.229 L2036.48 162.229 L2036.48 136.303 L2040.76 136.303 L2040.76 140.331 Q2042.29 137.993 2044.35 136.835 Q2046.44 135.678 2049.14 135.678 Q2053.61 135.678 2055.9 138.456 Q2058.19 141.21 2058.19 146.581 Z\" fill=\"#000000\" fill-rule=\"evenodd\" fill-opacity=\"1\" /><path clip-path=\"url(#clip840)\" d=\"M2076.74 139.289 Q2073.31 139.289 2071.32 141.974 Q2069.33 144.636 2069.33 149.289 Q2069.33 153.942 2071.3 156.627 Q2073.29 159.289 2076.74 159.289 Q2080.14 159.289 2082.13 156.604 Q2084.12 153.918 2084.12 149.289 Q2084.12 144.682 2082.13 141.997 Q2080.14 139.289 2076.74 139.289 M2076.74 135.678 Q2082.29 135.678 2085.46 139.289 Q2088.63 142.9 2088.63 149.289 Q2088.63 155.655 2085.46 159.289 Q2082.29 162.9 2076.74 162.9 Q2071.16 162.9 2067.99 159.289 Q2064.84 155.655 2064.84 149.289 Q2064.84 142.9 2067.99 139.289 Q2071.16 135.678 2076.74 135.678 Z\" fill=\"#000000\" fill-rule=\"evenodd\" fill-opacity=\"1\" /><path clip-path=\"url(#clip840)\" d=\"M2095.69 126.21 L2099.95 126.21 L2099.95 162.229 L2095.69 162.229 L2095.69 126.21 Z\" fill=\"#000000\" fill-rule=\"evenodd\" fill-opacity=\"1\" /><path clip-path=\"url(#clip840)\" d=\"M2108.87 136.303 L2113.13 136.303 L2113.13 162.229 L2108.87 162.229 L2108.87 136.303 M2108.87 126.21 L2113.13 126.21 L2113.13 131.604 L2108.87 131.604 L2108.87 126.21 Z\" fill=\"#000000\" fill-rule=\"evenodd\" fill-opacity=\"1\" /><path clip-path=\"url(#clip840)\" d=\"M2126.25 128.942 L2126.25 136.303 L2135.02 136.303 L2135.02 139.613 L2126.25 139.613 L2126.25 153.687 Q2126.25 156.858 2127.11 157.761 Q2127.99 158.664 2130.65 158.664 L2135.02 158.664 L2135.02 162.229 L2130.65 162.229 Q2125.72 162.229 2123.84 160.4 Q2121.97 158.548 2121.97 153.687 L2121.97 139.613 L2118.84 139.613 L2118.84 136.303 L2121.97 136.303 L2121.97 128.942 L2126.25 128.942 Z\" fill=\"#000000\" fill-rule=\"evenodd\" fill-opacity=\"1\" /><path clip-path=\"url(#clip840)\" d=\"M2162.18 146.581 L2162.18 162.229 L2157.92 162.229 L2157.92 146.719 Q2157.92 143.039 2156.48 141.21 Q2155.05 139.382 2152.18 139.382 Q2148.73 139.382 2146.74 141.581 Q2144.75 143.78 2144.75 147.576 L2144.75 162.229 L2140.46 162.229 L2140.46 126.21 L2144.75 126.21 L2144.75 140.331 Q2146.27 137.993 2148.33 136.835 Q2150.42 135.678 2153.12 135.678 Q2157.59 135.678 2159.88 138.456 Q2162.18 141.21 2162.18 146.581 Z\" fill=\"#000000\" fill-rule=\"evenodd\" fill-opacity=\"1\" /><path clip-path=\"url(#clip840)\" d=\"M2170.67 136.303 L2174.93 136.303 L2174.93 162.229 L2170.67 162.229 L2170.67 136.303 M2170.67 126.21 L2174.93 126.21 L2174.93 131.604 L2170.67 131.604 L2170.67 126.21 Z\" fill=\"#000000\" fill-rule=\"evenodd\" fill-opacity=\"1\" /><path clip-path=\"url(#clip840)\" d=\"M2202.5 137.298 L2202.5 141.28 Q2200.69 140.284 2198.87 139.798 Q2197.06 139.289 2195.21 139.289 Q2191.06 139.289 2188.77 141.928 Q2186.48 144.544 2186.48 149.289 Q2186.48 154.034 2188.77 156.673 Q2191.06 159.289 2195.21 159.289 Q2197.06 159.289 2198.87 158.803 Q2200.69 158.293 2202.5 157.298 L2202.5 161.233 Q2200.72 162.067 2198.8 162.483 Q2196.9 162.9 2194.75 162.9 Q2188.89 162.9 2185.44 159.219 Q2181.99 155.539 2181.99 149.289 Q2181.99 142.946 2185.46 139.312 Q2188.96 135.678 2195.02 135.678 Q2196.99 135.678 2198.87 136.095 Q2200.74 136.488 2202.5 137.298 Z\" fill=\"#000000\" fill-rule=\"evenodd\" fill-opacity=\"1\" /><polyline clip-path=\"url(#clip840)\" style=\"stroke:#e26f46; stroke-linecap:round; stroke-linejoin:round; stroke-width:4; stroke-opacity:1; fill:none\" points=\"1795.37,196.789 1937.59,196.789 \"/>\n",
       "<path clip-path=\"url(#clip840)\" d=\"M1844.53 174.84 L1844.53 218.737 L1888.43 218.737 L1888.43 174.84 L1844.53 174.84 Z\" fill=\"#ff0000\" fill-rule=\"evenodd\" fill-opacity=\"1\" stroke=\"#000000\" stroke-opacity=\"1\" stroke-width=\"5.12\"/>\n",
       "<path clip-path=\"url(#clip840)\" d=\"M1980.21 192.078 L1980.21 178.05 L1984.47 178.05 L1984.47 214.069 L1980.21 214.069 L1980.21 210.18 Q1978.87 212.495 1976.81 213.629 Q1974.77 214.74 1971.9 214.74 Q1967.2 214.74 1964.24 210.99 Q1961.3 207.24 1961.3 201.129 Q1961.3 195.018 1964.24 191.268 Q1967.2 187.518 1971.9 187.518 Q1974.77 187.518 1976.81 188.652 Q1978.87 189.763 1980.21 192.078 M1965.7 201.129 Q1965.7 205.828 1967.62 208.513 Q1969.56 211.175 1972.94 211.175 Q1976.32 211.175 1978.26 208.513 Q1980.21 205.828 1980.21 201.129 Q1980.21 196.43 1978.26 193.768 Q1976.32 191.083 1972.94 191.083 Q1969.56 191.083 1967.62 193.768 Q1965.7 196.43 1965.7 201.129 Z\" fill=\"#000000\" fill-rule=\"evenodd\" fill-opacity=\"1\" /><path clip-path=\"url(#clip840)\" d=\"M2015.42 200.041 L2015.42 202.124 L1995.83 202.124 Q1996.11 206.522 1998.47 208.837 Q2000.86 211.129 2005.09 211.129 Q2007.55 211.129 2009.84 210.527 Q2012.15 209.925 2014.42 208.721 L2014.42 212.749 Q2012.13 213.721 2009.72 214.231 Q2007.32 214.74 2004.84 214.74 Q1998.64 214.74 1995 211.129 Q1991.39 207.518 1991.39 201.36 Q1991.39 194.995 1994.82 191.268 Q1998.26 187.518 2004.1 187.518 Q2009.33 187.518 2012.36 190.897 Q2015.42 194.254 2015.42 200.041 M2011.16 198.791 Q2011.11 195.296 2009.19 193.212 Q2007.29 191.129 2004.14 191.129 Q2000.58 191.129 1998.43 193.143 Q1996.3 195.157 1995.97 198.814 L2011.16 198.791 Z\" fill=\"#000000\" fill-rule=\"evenodd\" fill-opacity=\"1\" /><path clip-path=\"url(#clip840)\" d=\"M2041.07 189.138 L2041.07 193.12 Q2039.26 192.124 2037.43 191.638 Q2035.63 191.129 2033.77 191.129 Q2029.63 191.129 2027.34 193.768 Q2025.05 196.384 2025.05 201.129 Q2025.05 205.874 2027.34 208.513 Q2029.63 211.129 2033.77 211.129 Q2035.63 211.129 2037.43 210.643 Q2039.26 210.133 2041.07 209.138 L2041.07 213.073 Q2039.28 213.907 2037.36 214.323 Q2035.46 214.74 2033.31 214.74 Q2027.45 214.74 2024.01 211.059 Q2020.56 207.379 2020.56 201.129 Q2020.56 194.786 2024.03 191.152 Q2027.52 187.518 2033.59 187.518 Q2035.56 187.518 2037.43 187.935 Q2039.31 188.328 2041.07 189.138 Z\" fill=\"#000000\" fill-rule=\"evenodd\" fill-opacity=\"1\" /><path clip-path=\"url(#clip840)\" d=\"M2058.52 191.129 Q2055.09 191.129 2053.1 193.814 Q2051.11 196.476 2051.11 201.129 Q2051.11 205.782 2053.08 208.467 Q2055.07 211.129 2058.52 211.129 Q2061.92 211.129 2063.91 208.444 Q2065.9 205.758 2065.9 201.129 Q2065.9 196.522 2063.91 193.837 Q2061.92 191.129 2058.52 191.129 M2058.52 187.518 Q2064.07 187.518 2067.25 191.129 Q2070.42 194.74 2070.42 201.129 Q2070.42 207.495 2067.25 211.129 Q2064.07 214.74 2058.52 214.74 Q2052.94 214.74 2049.77 211.129 Q2046.62 207.495 2046.62 201.129 Q2046.62 194.74 2049.77 191.129 Q2052.94 187.518 2058.52 187.518 Z\" fill=\"#000000\" fill-rule=\"evenodd\" fill-opacity=\"1\" /><path clip-path=\"url(#clip840)\" d=\"M2097.66 193.12 Q2099.26 190.249 2101.48 188.884 Q2103.7 187.518 2106.71 187.518 Q2110.76 187.518 2112.96 190.365 Q2115.16 193.189 2115.16 198.421 L2115.16 214.069 L2110.88 214.069 L2110.88 198.559 Q2110.88 194.833 2109.56 193.027 Q2108.24 191.222 2105.53 191.222 Q2102.22 191.222 2100.3 193.421 Q2098.38 195.62 2098.38 199.416 L2098.38 214.069 L2094.1 214.069 L2094.1 198.559 Q2094.1 194.809 2092.78 193.027 Q2091.46 191.222 2088.7 191.222 Q2085.44 191.222 2083.52 193.444 Q2081.6 195.643 2081.6 199.416 L2081.6 214.069 L2077.32 214.069 L2077.32 188.143 L2081.6 188.143 L2081.6 192.171 Q2083.06 189.786 2085.09 188.652 Q2087.13 187.518 2089.93 187.518 Q2092.75 187.518 2094.72 188.953 Q2096.71 190.388 2097.66 193.12 Z\" fill=\"#000000\" fill-rule=\"evenodd\" fill-opacity=\"1\" /><path clip-path=\"url(#clip840)\" d=\"M2127.78 210.18 L2127.78 223.93 L2123.5 223.93 L2123.5 188.143 L2127.78 188.143 L2127.78 192.078 Q2129.12 189.763 2131.16 188.652 Q2133.22 187.518 2136.06 187.518 Q2140.79 187.518 2143.73 191.268 Q2146.69 195.018 2146.69 201.129 Q2146.69 207.24 2143.73 210.99 Q2140.79 214.74 2136.06 214.74 Q2133.22 214.74 2131.16 213.629 Q2129.12 212.495 2127.78 210.18 M2142.27 201.129 Q2142.27 196.43 2140.32 193.768 Q2138.4 191.083 2135.02 191.083 Q2131.64 191.083 2129.7 193.768 Q2127.78 196.43 2127.78 201.129 Q2127.78 205.828 2129.7 208.513 Q2131.64 211.175 2135.02 211.175 Q2138.4 211.175 2140.32 208.513 Q2142.27 205.828 2142.27 201.129 Z\" fill=\"#000000\" fill-rule=\"evenodd\" fill-opacity=\"1\" /><path clip-path=\"url(#clip840)\" d=\"M2163.8 191.129 Q2160.37 191.129 2158.38 193.814 Q2156.39 196.476 2156.39 201.129 Q2156.39 205.782 2158.36 208.467 Q2160.35 211.129 2163.8 211.129 Q2167.2 211.129 2169.19 208.444 Q2171.18 205.758 2171.18 201.129 Q2171.18 196.522 2169.19 193.837 Q2167.2 191.129 2163.8 191.129 M2163.8 187.518 Q2169.35 187.518 2172.52 191.129 Q2175.69 194.74 2175.69 201.129 Q2175.69 207.495 2172.52 211.129 Q2169.35 214.74 2163.8 214.74 Q2158.22 214.74 2155.05 211.129 Q2151.9 207.495 2151.9 201.129 Q2151.9 194.74 2155.05 191.129 Q2158.22 187.518 2163.8 187.518 Z\" fill=\"#000000\" fill-rule=\"evenodd\" fill-opacity=\"1\" /><path clip-path=\"url(#clip840)\" d=\"M2199.28 188.907 L2199.28 192.934 Q2197.48 192.009 2195.53 191.546 Q2193.59 191.083 2191.5 191.083 Q2188.33 191.083 2186.74 192.055 Q2185.16 193.027 2185.16 194.971 Q2185.16 196.453 2186.3 197.309 Q2187.43 198.143 2190.86 198.907 L2192.31 199.231 Q2196.85 200.203 2198.75 201.985 Q2200.67 203.745 2200.67 206.916 Q2200.67 210.527 2197.8 212.633 Q2194.95 214.74 2189.95 214.74 Q2187.87 214.74 2185.6 214.323 Q2183.36 213.93 2180.86 213.12 L2180.86 208.721 Q2183.22 209.948 2185.51 210.573 Q2187.8 211.175 2190.05 211.175 Q2193.06 211.175 2194.68 210.157 Q2196.3 209.115 2196.3 207.24 Q2196.3 205.504 2195.12 204.578 Q2193.96 203.652 2190 202.796 L2188.52 202.448 Q2184.56 201.615 2182.8 199.902 Q2181.04 198.166 2181.04 195.157 Q2181.04 191.499 2183.63 189.509 Q2186.23 187.518 2191 187.518 Q2193.36 187.518 2195.44 187.865 Q2197.52 188.212 2199.28 188.907 Z\" fill=\"#000000\" fill-rule=\"evenodd\" fill-opacity=\"1\" /><path clip-path=\"url(#clip840)\" d=\"M2229.63 200.041 L2229.63 202.124 L2210.05 202.124 Q2210.32 206.522 2212.68 208.837 Q2215.07 211.129 2219.31 211.129 Q2221.76 211.129 2224.05 210.527 Q2226.37 209.925 2228.63 208.721 L2228.63 212.749 Q2226.34 213.721 2223.93 214.231 Q2221.53 214.74 2219.05 214.74 Q2212.85 214.74 2209.21 211.129 Q2205.6 207.518 2205.6 201.36 Q2205.6 194.995 2209.03 191.268 Q2212.48 187.518 2218.31 187.518 Q2223.54 187.518 2226.57 190.897 Q2229.63 194.254 2229.63 200.041 M2225.37 198.791 Q2225.32 195.296 2223.4 193.212 Q2221.5 191.129 2218.36 191.129 Q2214.79 191.129 2212.64 193.143 Q2210.51 195.157 2210.18 198.814 L2225.37 198.791 Z\" fill=\"#000000\" fill-rule=\"evenodd\" fill-opacity=\"1\" /><path clip-path=\"url(#clip840)\" d=\"M2253.68 192.078 L2253.68 178.05 L2257.94 178.05 L2257.94 214.069 L2253.68 214.069 L2253.68 210.18 Q2252.34 212.495 2250.28 213.629 Q2248.24 214.74 2245.37 214.74 Q2240.67 214.74 2237.71 210.99 Q2234.77 207.24 2234.77 201.129 Q2234.77 195.018 2237.71 191.268 Q2240.67 187.518 2245.37 187.518 Q2248.24 187.518 2250.28 188.652 Q2252.34 189.763 2253.68 192.078 M2239.17 201.129 Q2239.17 205.828 2241.09 208.513 Q2243.03 211.175 2246.41 211.175 Q2249.79 211.175 2251.74 208.513 Q2253.68 205.828 2253.68 201.129 Q2253.68 196.43 2251.74 193.768 Q2249.79 191.083 2246.41 191.083 Q2243.03 191.083 2241.09 193.768 Q2239.17 196.43 2239.17 201.129 Z\" fill=\"#000000\" fill-rule=\"evenodd\" fill-opacity=\"1\" /></svg>\n"
      ]
     },
     "metadata": {},
     "output_type": "display_data"
    }
   ],
   "source": [
    "# solution time\n",
    "p5 = plot(1:nReactMax,solTimeTraj_r[1,:],xlabel=\"# reactors\", ylabel=\"sol. time [s]\",marker=:circle, markercolor = :green,label=\"monolithic\")\n",
    "p5 = plot!(1:nReactMax,solTimeTraj_r[2,:],marker=:square, markercolor = :red,label=\"decomposed\",gridlinewidth=2)\n",
    "display(p5)"
   ]
  },
  {
   "cell_type": "code",
   "execution_count": 21,
   "id": "731f9dd8",
   "metadata": {},
   "outputs": [
    {
     "data": {
      "image/svg+xml": [
       "<?xml version=\"1.0\" encoding=\"utf-8\"?>\n",
       "<svg xmlns=\"http://www.w3.org/2000/svg\" xmlns:xlink=\"http://www.w3.org/1999/xlink\" width=\"600\" height=\"400\" viewBox=\"0 0 2400 1600\">\n",
       "<defs>\n",
       "  <clipPath id=\"clip880\">\n",
       "    <rect x=\"0\" y=\"0\" width=\"2400\" height=\"1600\"/>\n",
       "  </clipPath>\n",
       "</defs>\n",
       "<path clip-path=\"url(#clip880)\" d=\"M0 1600 L2400 1600 L2400 0 L0 0  Z\" fill=\"#ffffff\" fill-rule=\"evenodd\" fill-opacity=\"1\"/>\n",
       "<defs>\n",
       "  <clipPath id=\"clip881\">\n",
       "    <rect x=\"480\" y=\"0\" width=\"1681\" height=\"1600\"/>\n",
       "  </clipPath>\n",
       "</defs>\n",
       "<path clip-path=\"url(#clip880)\" d=\"M204.45 1423.18 L2352.76 1423.18 L2352.76 47.2441 L204.45 47.2441  Z\" fill=\"#ffffff\" fill-rule=\"evenodd\" fill-opacity=\"1\"/>\n",
       "<defs>\n",
       "  <clipPath id=\"clip882\">\n",
       "    <rect x=\"204\" y=\"47\" width=\"2149\" height=\"1377\"/>\n",
       "  </clipPath>\n",
       "</defs>\n",
       "<polyline clip-path=\"url(#clip882)\" style=\"stroke:#000000; stroke-linecap:round; stroke-linejoin:round; stroke-width:8; stroke-opacity:0.1; fill:none\" points=\"544.796,1423.18 544.796,47.2441 \"/>\n",
       "<polyline clip-path=\"url(#clip882)\" style=\"stroke:#000000; stroke-linecap:round; stroke-linejoin:round; stroke-width:8; stroke-opacity:0.1; fill:none\" points=\"894.228,1423.18 894.228,47.2441 \"/>\n",
       "<polyline clip-path=\"url(#clip882)\" style=\"stroke:#000000; stroke-linecap:round; stroke-linejoin:round; stroke-width:8; stroke-opacity:0.1; fill:none\" points=\"1243.66,1423.18 1243.66,47.2441 \"/>\n",
       "<polyline clip-path=\"url(#clip882)\" style=\"stroke:#000000; stroke-linecap:round; stroke-linejoin:round; stroke-width:8; stroke-opacity:0.1; fill:none\" points=\"1593.09,1423.18 1593.09,47.2441 \"/>\n",
       "<polyline clip-path=\"url(#clip882)\" style=\"stroke:#000000; stroke-linecap:round; stroke-linejoin:round; stroke-width:8; stroke-opacity:0.1; fill:none\" points=\"1942.52,1423.18 1942.52,47.2441 \"/>\n",
       "<polyline clip-path=\"url(#clip882)\" style=\"stroke:#000000; stroke-linecap:round; stroke-linejoin:round; stroke-width:8; stroke-opacity:0.1; fill:none\" points=\"2291.95,1423.18 2291.95,47.2441 \"/>\n",
       "<polyline clip-path=\"url(#clip880)\" style=\"stroke:#000000; stroke-linecap:round; stroke-linejoin:round; stroke-width:4; stroke-opacity:1; fill:none\" points=\"204.45,1423.18 2352.76,1423.18 \"/>\n",
       "<polyline clip-path=\"url(#clip880)\" style=\"stroke:#000000; stroke-linecap:round; stroke-linejoin:round; stroke-width:4; stroke-opacity:1; fill:none\" points=\"544.796,1423.18 544.796,1404.28 \"/>\n",
       "<polyline clip-path=\"url(#clip880)\" style=\"stroke:#000000; stroke-linecap:round; stroke-linejoin:round; stroke-width:4; stroke-opacity:1; fill:none\" points=\"894.228,1423.18 894.228,1404.28 \"/>\n",
       "<polyline clip-path=\"url(#clip880)\" style=\"stroke:#000000; stroke-linecap:round; stroke-linejoin:round; stroke-width:4; stroke-opacity:1; fill:none\" points=\"1243.66,1423.18 1243.66,1404.28 \"/>\n",
       "<polyline clip-path=\"url(#clip880)\" style=\"stroke:#000000; stroke-linecap:round; stroke-linejoin:round; stroke-width:4; stroke-opacity:1; fill:none\" points=\"1593.09,1423.18 1593.09,1404.28 \"/>\n",
       "<polyline clip-path=\"url(#clip880)\" style=\"stroke:#000000; stroke-linecap:round; stroke-linejoin:round; stroke-width:4; stroke-opacity:1; fill:none\" points=\"1942.52,1423.18 1942.52,1404.28 \"/>\n",
       "<polyline clip-path=\"url(#clip880)\" style=\"stroke:#000000; stroke-linecap:round; stroke-linejoin:round; stroke-width:4; stroke-opacity:1; fill:none\" points=\"2291.95,1423.18 2291.95,1404.28 \"/>\n",
       "<path clip-path=\"url(#clip880)\" d=\"M535.074 1451.02 L553.43 1451.02 L553.43 1454.96 L539.356 1454.96 L539.356 1463.43 Q540.375 1463.08 541.393 1462.92 Q542.412 1462.73 543.43 1462.73 Q549.217 1462.73 552.597 1465.9 Q555.977 1469.08 555.977 1474.49 Q555.977 1480.07 552.504 1483.17 Q549.032 1486.25 542.713 1486.25 Q540.537 1486.25 538.268 1485.88 Q536.023 1485.51 533.616 1484.77 L533.616 1480.07 Q535.699 1481.2 537.921 1481.76 Q540.143 1482.32 542.62 1482.32 Q546.625 1482.32 548.963 1480.21 Q551.301 1478.1 551.301 1474.49 Q551.301 1470.88 548.963 1468.77 Q546.625 1466.67 542.62 1466.67 Q540.745 1466.67 538.87 1467.08 Q537.018 1467.5 535.074 1468.38 L535.074 1451.02 Z\" fill=\"#000000\" fill-rule=\"evenodd\" fill-opacity=\"1\" /><path clip-path=\"url(#clip880)\" d=\"M868.916 1481.64 L876.554 1481.64 L876.554 1455.28 L868.244 1456.95 L868.244 1452.69 L876.508 1451.02 L881.184 1451.02 L881.184 1481.64 L888.823 1481.64 L888.823 1485.58 L868.916 1485.58 L868.916 1481.64 Z\" fill=\"#000000\" fill-rule=\"evenodd\" fill-opacity=\"1\" /><path clip-path=\"url(#clip880)\" d=\"M908.267 1454.1 Q904.656 1454.1 902.827 1457.66 Q901.022 1461.2 901.022 1468.33 Q901.022 1475.44 902.827 1479.01 Q904.656 1482.55 908.267 1482.55 Q911.901 1482.55 913.707 1479.01 Q915.536 1475.44 915.536 1468.33 Q915.536 1461.2 913.707 1457.66 Q911.901 1454.1 908.267 1454.1 M908.267 1450.39 Q914.077 1450.39 917.133 1455 Q920.212 1459.58 920.212 1468.33 Q920.212 1477.06 917.133 1481.67 Q914.077 1486.25 908.267 1486.25 Q902.457 1486.25 899.378 1481.67 Q896.323 1477.06 896.323 1468.33 Q896.323 1459.58 899.378 1455 Q902.457 1450.39 908.267 1450.39 Z\" fill=\"#000000\" fill-rule=\"evenodd\" fill-opacity=\"1\" /><path clip-path=\"url(#clip880)\" d=\"M1218.84 1481.64 L1226.48 1481.64 L1226.48 1455.28 L1218.17 1456.95 L1218.17 1452.69 L1226.44 1451.02 L1231.11 1451.02 L1231.11 1481.64 L1238.75 1481.64 L1238.75 1485.58 L1218.84 1485.58 L1218.84 1481.64 Z\" fill=\"#000000\" fill-rule=\"evenodd\" fill-opacity=\"1\" /><path clip-path=\"url(#clip880)\" d=\"M1248.24 1451.02 L1266.6 1451.02 L1266.6 1454.96 L1252.53 1454.96 L1252.53 1463.43 Q1253.54 1463.08 1254.56 1462.92 Q1255.58 1462.73 1256.6 1462.73 Q1262.39 1462.73 1265.77 1465.9 Q1269.15 1469.08 1269.15 1474.49 Q1269.15 1480.07 1265.67 1483.17 Q1262.2 1486.25 1255.88 1486.25 Q1253.71 1486.25 1251.44 1485.88 Q1249.19 1485.51 1246.78 1484.77 L1246.78 1480.07 Q1248.87 1481.2 1251.09 1481.76 Q1253.31 1482.32 1255.79 1482.32 Q1259.79 1482.32 1262.13 1480.21 Q1264.47 1478.1 1264.47 1474.49 Q1264.47 1470.88 1262.13 1468.77 Q1259.79 1466.67 1255.79 1466.67 Q1253.91 1466.67 1252.04 1467.08 Q1250.19 1467.5 1248.24 1468.38 L1248.24 1451.02 Z\" fill=\"#000000\" fill-rule=\"evenodd\" fill-opacity=\"1\" /><path clip-path=\"url(#clip880)\" d=\"M1571.86 1481.64 L1588.18 1481.64 L1588.18 1485.58 L1566.24 1485.58 L1566.24 1481.64 Q1568.9 1478.89 1573.48 1474.26 Q1578.09 1469.61 1579.27 1468.27 Q1581.52 1465.74 1582.4 1464.01 Q1583.3 1462.25 1583.3 1460.56 Q1583.3 1457.8 1581.36 1456.07 Q1579.43 1454.33 1576.33 1454.33 Q1574.13 1454.33 1571.68 1455.09 Q1569.25 1455.86 1566.47 1457.41 L1566.47 1452.69 Q1569.3 1451.55 1571.75 1450.97 Q1574.2 1450.39 1576.24 1450.39 Q1581.61 1450.39 1584.8 1453.08 Q1588 1455.77 1588 1460.26 Q1588 1462.39 1587.19 1464.31 Q1586.4 1466.2 1584.3 1468.8 Q1583.72 1469.47 1580.61 1472.69 Q1577.51 1475.88 1571.86 1481.64 Z\" fill=\"#000000\" fill-rule=\"evenodd\" fill-opacity=\"1\" /><path clip-path=\"url(#clip880)\" d=\"M1608 1454.1 Q1604.39 1454.1 1602.56 1457.66 Q1600.75 1461.2 1600.75 1468.33 Q1600.75 1475.44 1602.56 1479.01 Q1604.39 1482.55 1608 1482.55 Q1611.63 1482.55 1613.44 1479.01 Q1615.27 1475.44 1615.27 1468.33 Q1615.27 1461.2 1613.44 1457.66 Q1611.63 1454.1 1608 1454.1 M1608 1450.39 Q1613.81 1450.39 1616.86 1455 Q1619.94 1459.58 1619.94 1468.33 Q1619.94 1477.06 1616.86 1481.67 Q1613.81 1486.25 1608 1486.25 Q1602.19 1486.25 1599.11 1481.67 Q1596.05 1477.06 1596.05 1468.33 Q1596.05 1459.58 1599.11 1455 Q1602.19 1450.39 1608 1450.39 Z\" fill=\"#000000\" fill-rule=\"evenodd\" fill-opacity=\"1\" /><path clip-path=\"url(#clip880)\" d=\"M1921.79 1481.64 L1938.11 1481.64 L1938.11 1485.58 L1916.17 1485.58 L1916.17 1481.64 Q1918.83 1478.89 1923.41 1474.26 Q1928.02 1469.61 1929.2 1468.27 Q1931.45 1465.74 1932.33 1464.01 Q1933.23 1462.25 1933.23 1460.56 Q1933.23 1457.8 1931.28 1456.07 Q1929.36 1454.33 1926.26 1454.33 Q1924.06 1454.33 1921.61 1455.09 Q1919.18 1455.86 1916.4 1457.41 L1916.4 1452.69 Q1919.22 1451.55 1921.68 1450.97 Q1924.13 1450.39 1926.17 1450.39 Q1931.54 1450.39 1934.73 1453.08 Q1937.93 1455.77 1937.93 1460.26 Q1937.93 1462.39 1937.12 1464.31 Q1936.33 1466.2 1934.22 1468.8 Q1933.65 1469.47 1930.54 1472.69 Q1927.44 1475.88 1921.79 1481.64 Z\" fill=\"#000000\" fill-rule=\"evenodd\" fill-opacity=\"1\" /><path clip-path=\"url(#clip880)\" d=\"M1947.97 1451.02 L1966.33 1451.02 L1966.33 1454.96 L1952.26 1454.96 L1952.26 1463.43 Q1953.28 1463.08 1954.29 1462.92 Q1955.31 1462.73 1956.33 1462.73 Q1962.12 1462.73 1965.5 1465.9 Q1968.88 1469.08 1968.88 1474.49 Q1968.88 1480.07 1965.4 1483.17 Q1961.93 1486.25 1955.61 1486.25 Q1953.44 1486.25 1951.17 1485.88 Q1948.92 1485.51 1946.52 1484.77 L1946.52 1480.07 Q1948.6 1481.2 1950.82 1481.76 Q1953.04 1482.32 1955.52 1482.32 Q1959.53 1482.32 1961.86 1480.21 Q1964.2 1478.1 1964.2 1474.49 Q1964.2 1470.88 1961.86 1468.77 Q1959.53 1466.67 1955.52 1466.67 Q1953.65 1466.67 1951.77 1467.08 Q1949.92 1467.5 1947.97 1468.38 L1947.97 1451.02 Z\" fill=\"#000000\" fill-rule=\"evenodd\" fill-opacity=\"1\" /><path clip-path=\"url(#clip880)\" d=\"M2280.8 1466.95 Q2284.15 1467.66 2286.03 1469.93 Q2287.93 1472.2 2287.93 1475.53 Q2287.93 1480.65 2284.41 1483.45 Q2280.89 1486.25 2274.41 1486.25 Q2272.23 1486.25 2269.92 1485.81 Q2267.63 1485.39 2265.17 1484.54 L2265.17 1480.02 Q2267.12 1481.16 2269.43 1481.74 Q2271.75 1482.32 2274.27 1482.32 Q2278.67 1482.32 2280.96 1480.58 Q2283.27 1478.84 2283.27 1475.53 Q2283.27 1472.48 2281.12 1470.77 Q2278.99 1469.03 2275.17 1469.03 L2271.14 1469.03 L2271.14 1465.19 L2275.36 1465.19 Q2278.81 1465.19 2280.64 1463.82 Q2282.46 1462.43 2282.46 1459.84 Q2282.46 1457.18 2280.57 1455.77 Q2278.69 1454.33 2275.17 1454.33 Q2273.25 1454.33 2271.05 1454.75 Q2268.85 1455.16 2266.21 1456.04 L2266.21 1451.88 Q2268.88 1451.14 2271.19 1450.77 Q2273.53 1450.39 2275.59 1450.39 Q2280.91 1450.39 2284.02 1452.83 Q2287.12 1455.23 2287.12 1459.35 Q2287.12 1462.22 2285.47 1464.21 Q2283.83 1466.18 2280.8 1466.95 Z\" fill=\"#000000\" fill-rule=\"evenodd\" fill-opacity=\"1\" /><path clip-path=\"url(#clip880)\" d=\"M2306.79 1454.1 Q2303.18 1454.1 2301.35 1457.66 Q2299.55 1461.2 2299.55 1468.33 Q2299.55 1475.44 2301.35 1479.01 Q2303.18 1482.55 2306.79 1482.55 Q2310.43 1482.55 2312.23 1479.01 Q2314.06 1475.44 2314.06 1468.33 Q2314.06 1461.2 2312.23 1457.66 Q2310.43 1454.1 2306.79 1454.1 M2306.79 1450.39 Q2312.6 1450.39 2315.66 1455 Q2318.74 1459.58 2318.74 1468.33 Q2318.74 1477.06 2315.66 1481.67 Q2312.6 1486.25 2306.79 1486.25 Q2300.98 1486.25 2297.9 1481.67 Q2294.85 1477.06 2294.85 1468.33 Q2294.85 1459.58 2297.9 1455 Q2300.98 1450.39 2306.79 1450.39 Z\" fill=\"#000000\" fill-rule=\"evenodd\" fill-opacity=\"1\" /><path clip-path=\"url(#clip880)\" d=\"M1139.61 1539.37 L1130.35 1539.37 L1127.67 1550 L1137 1550 L1139.61 1539.37 M1134.83 1521.26 L1131.52 1534.46 L1140.82 1534.46 L1144.16 1521.26 L1149.25 1521.26 L1145.97 1534.46 L1155.9 1534.46 L1155.9 1539.37 L1144.73 1539.37 L1142.12 1550 L1152.24 1550 L1152.24 1554.87 L1140.88 1554.87 L1137.57 1568.04 L1132.48 1568.04 L1135.76 1554.87 L1126.43 1554.87 L1123.15 1568.04 L1118.03 1568.04 L1121.34 1554.87 L1111.31 1554.87 L1111.31 1550 L1122.52 1550 L1125.19 1539.37 L1114.94 1539.37 L1114.94 1534.46 L1126.43 1534.46 L1129.68 1521.26 L1134.83 1521.26 Z\" fill=\"#000000\" fill-rule=\"evenodd\" fill-opacity=\"1\" /><path clip-path=\"url(#clip880)\" d=\"M1208.42 1537.87 Q1207.43 1537.3 1206.26 1537.04 Q1205.11 1536.76 1203.71 1536.76 Q1198.75 1536.76 1196.07 1540 Q1193.43 1543.22 1193.43 1549.27 L1193.43 1568.04 L1187.54 1568.04 L1187.54 1532.4 L1193.43 1532.4 L1193.43 1537.93 Q1195.28 1534.69 1198.24 1533.13 Q1201.2 1531.54 1205.43 1531.54 Q1206.03 1531.54 1206.77 1531.63 Q1207.5 1531.7 1208.39 1531.85 L1208.42 1537.87 Z\" fill=\"#000000\" fill-rule=\"evenodd\" fill-opacity=\"1\" /><path clip-path=\"url(#clip880)\" d=\"M1243.62 1548.76 L1243.62 1551.62 L1216.7 1551.62 Q1217.08 1557.67 1220.32 1560.85 Q1223.6 1564 1229.43 1564 Q1232.8 1564 1235.95 1563.17 Q1239.14 1562.35 1242.25 1560.69 L1242.25 1566.23 Q1239.1 1567.57 1235.79 1568.27 Q1232.48 1568.97 1229.08 1568.97 Q1220.55 1568.97 1215.55 1564 Q1210.59 1559.04 1210.59 1550.57 Q1210.59 1541.82 1215.3 1536.69 Q1220.04 1531.54 1228.06 1531.54 Q1235.25 1531.54 1239.42 1536.18 Q1243.62 1540.8 1243.62 1548.76 M1237.77 1547.04 Q1237.7 1542.23 1235.06 1539.37 Q1232.45 1536.5 1228.12 1536.5 Q1223.22 1536.5 1220.26 1539.27 Q1217.33 1542.04 1216.89 1547.07 L1237.77 1547.04 Z\" fill=\"#000000\" fill-rule=\"evenodd\" fill-opacity=\"1\" /><path clip-path=\"url(#clip880)\" d=\"M1269.44 1550.12 Q1262.34 1550.12 1259.6 1551.75 Q1256.86 1553.37 1256.86 1557.29 Q1256.86 1560.4 1258.9 1562.25 Q1260.97 1564.07 1264.5 1564.07 Q1269.37 1564.07 1272.3 1560.63 Q1275.26 1557.16 1275.26 1551.43 L1275.26 1550.12 L1269.44 1550.12 M1281.12 1547.71 L1281.12 1568.04 L1275.26 1568.04 L1275.26 1562.63 Q1273.26 1565.88 1270.26 1567.44 Q1267.27 1568.97 1262.94 1568.97 Q1257.47 1568.97 1254.22 1565.91 Q1251.01 1562.82 1251.01 1557.67 Q1251.01 1551.65 1255.02 1548.6 Q1259.06 1545.54 1267.05 1545.54 L1275.26 1545.54 L1275.26 1544.97 Q1275.26 1540.93 1272.59 1538.73 Q1269.95 1536.5 1265.14 1536.5 Q1262.08 1536.5 1259.19 1537.23 Q1256.29 1537.97 1253.62 1539.43 L1253.62 1534.02 Q1256.83 1532.78 1259.86 1532.17 Q1262.88 1531.54 1265.74 1531.54 Q1273.48 1531.54 1277.3 1535.55 Q1281.12 1539.56 1281.12 1547.71 Z\" fill=\"#000000\" fill-rule=\"evenodd\" fill-opacity=\"1\" /><path clip-path=\"url(#clip880)\" d=\"M1318.83 1533.76 L1318.83 1539.24 Q1316.35 1537.87 1313.84 1537.2 Q1311.35 1536.5 1308.81 1536.5 Q1303.11 1536.5 1299.96 1540.13 Q1296.81 1543.73 1296.81 1550.25 Q1296.81 1556.78 1299.96 1560.4 Q1303.11 1564 1308.81 1564 Q1311.35 1564 1313.84 1563.33 Q1316.35 1562.63 1318.83 1561.26 L1318.83 1566.68 Q1316.38 1567.82 1313.74 1568.39 Q1311.13 1568.97 1308.17 1568.97 Q1300.12 1568.97 1295.38 1563.91 Q1290.63 1558.85 1290.63 1550.25 Q1290.63 1541.53 1295.41 1536.53 Q1300.21 1531.54 1308.55 1531.54 Q1311.26 1531.54 1313.84 1532.11 Q1316.42 1532.65 1318.83 1533.76 Z\" fill=\"#000000\" fill-rule=\"evenodd\" fill-opacity=\"1\" /><path clip-path=\"url(#clip880)\" d=\"M1334.81 1522.27 L1334.81 1532.4 L1346.87 1532.4 L1346.87 1536.95 L1334.81 1536.95 L1334.81 1556.3 Q1334.81 1560.66 1335.99 1561.9 Q1337.2 1563.14 1340.86 1563.14 L1346.87 1563.14 L1346.87 1568.04 L1340.86 1568.04 Q1334.08 1568.04 1331.5 1565.53 Q1328.92 1562.98 1328.92 1556.3 L1328.92 1536.95 L1324.63 1536.95 L1324.63 1532.4 L1328.92 1532.4 L1328.92 1522.27 L1334.81 1522.27 Z\" fill=\"#000000\" fill-rule=\"evenodd\" fill-opacity=\"1\" /><path clip-path=\"url(#clip880)\" d=\"M1368.39 1536.5 Q1363.68 1536.5 1360.94 1540.19 Q1358.21 1543.85 1358.21 1550.25 Q1358.21 1556.65 1360.91 1560.34 Q1363.65 1564 1368.39 1564 Q1373.07 1564 1375.81 1560.31 Q1378.54 1556.62 1378.54 1550.25 Q1378.54 1543.92 1375.81 1540.23 Q1373.07 1536.5 1368.39 1536.5 M1368.39 1531.54 Q1376.03 1531.54 1380.39 1536.5 Q1384.75 1541.47 1384.75 1550.25 Q1384.75 1559 1380.39 1564 Q1376.03 1568.97 1368.39 1568.97 Q1360.72 1568.97 1356.36 1564 Q1352.03 1559 1352.03 1550.25 Q1352.03 1541.47 1356.36 1536.5 Q1360.72 1531.54 1368.39 1531.54 Z\" fill=\"#000000\" fill-rule=\"evenodd\" fill-opacity=\"1\" /><path clip-path=\"url(#clip880)\" d=\"M1415.12 1537.87 Q1414.13 1537.3 1412.95 1537.04 Q1411.81 1536.76 1410.4 1536.76 Q1405.44 1536.76 1402.77 1540 Q1400.12 1543.22 1400.12 1549.27 L1400.12 1568.04 L1394.24 1568.04 L1394.24 1532.4 L1400.12 1532.4 L1400.12 1537.93 Q1401.97 1534.69 1404.93 1533.13 Q1407.89 1531.54 1412.12 1531.54 Q1412.73 1531.54 1413.46 1531.63 Q1414.19 1531.7 1415.08 1531.85 L1415.12 1537.87 Z\" fill=\"#000000\" fill-rule=\"evenodd\" fill-opacity=\"1\" /><path clip-path=\"url(#clip880)\" d=\"M1443.98 1533.45 L1443.98 1538.98 Q1441.5 1537.71 1438.83 1537.07 Q1436.15 1536.44 1433.29 1536.44 Q1428.93 1536.44 1426.73 1537.77 Q1424.57 1539.11 1424.57 1541.79 Q1424.57 1543.82 1426.13 1545 Q1427.69 1546.15 1432.4 1547.2 L1434.4 1547.64 Q1440.64 1548.98 1443.25 1551.43 Q1445.89 1553.85 1445.89 1558.21 Q1445.89 1563.17 1441.95 1566.07 Q1438.03 1568.97 1431.16 1568.97 Q1428.29 1568.97 1425.17 1568.39 Q1422.09 1567.85 1418.65 1566.74 L1418.65 1560.69 Q1421.89 1562.38 1425.05 1563.24 Q1428.2 1564.07 1431.28 1564.07 Q1435.42 1564.07 1437.65 1562.66 Q1439.88 1561.23 1439.88 1558.65 Q1439.88 1556.27 1438.25 1554.99 Q1436.66 1553.72 1431.22 1552.54 L1429.18 1552.07 Q1423.74 1550.92 1421.32 1548.56 Q1418.9 1546.18 1418.9 1542.04 Q1418.9 1537.01 1422.47 1534.27 Q1426.03 1531.54 1432.59 1531.54 Q1435.84 1531.54 1438.7 1532.01 Q1441.56 1532.49 1443.98 1533.45 Z\" fill=\"#000000\" fill-rule=\"evenodd\" fill-opacity=\"1\" /><polyline clip-path=\"url(#clip882)\" style=\"stroke:#000000; stroke-linecap:round; stroke-linejoin:round; stroke-width:8; stroke-opacity:0.1; fill:none\" points=\"204.45,1384.24 2352.76,1384.24 \"/>\n",
       "<polyline clip-path=\"url(#clip882)\" style=\"stroke:#000000; stroke-linecap:round; stroke-linejoin:round; stroke-width:8; stroke-opacity:0.1; fill:none\" points=\"204.45,1330.15 2352.76,1330.15 \"/>\n",
       "<polyline clip-path=\"url(#clip882)\" style=\"stroke:#000000; stroke-linecap:round; stroke-linejoin:round; stroke-width:8; stroke-opacity:0.1; fill:none\" points=\"204.45,1276.07 2352.76,1276.07 \"/>\n",
       "<polyline clip-path=\"url(#clip882)\" style=\"stroke:#000000; stroke-linecap:round; stroke-linejoin:round; stroke-width:8; stroke-opacity:0.1; fill:none\" points=\"204.45,1221.98 2352.76,1221.98 \"/>\n",
       "<polyline clip-path=\"url(#clip882)\" style=\"stroke:#000000; stroke-linecap:round; stroke-linejoin:round; stroke-width:8; stroke-opacity:0.1; fill:none\" points=\"204.45,1167.9 2352.76,1167.9 \"/>\n",
       "<polyline clip-path=\"url(#clip882)\" style=\"stroke:#000000; stroke-linecap:round; stroke-linejoin:round; stroke-width:8; stroke-opacity:0.1; fill:none\" points=\"204.45,1113.81 2352.76,1113.81 \"/>\n",
       "<polyline clip-path=\"url(#clip882)\" style=\"stroke:#000000; stroke-linecap:round; stroke-linejoin:round; stroke-width:8; stroke-opacity:0.1; fill:none\" points=\"204.45,1059.73 2352.76,1059.73 \"/>\n",
       "<polyline clip-path=\"url(#clip882)\" style=\"stroke:#000000; stroke-linecap:round; stroke-linejoin:round; stroke-width:8; stroke-opacity:0.1; fill:none\" points=\"204.45,1005.64 2352.76,1005.64 \"/>\n",
       "<polyline clip-path=\"url(#clip882)\" style=\"stroke:#000000; stroke-linecap:round; stroke-linejoin:round; stroke-width:8; stroke-opacity:0.1; fill:none\" points=\"204.45,951.554 2352.76,951.554 \"/>\n",
       "<polyline clip-path=\"url(#clip882)\" style=\"stroke:#000000; stroke-linecap:round; stroke-linejoin:round; stroke-width:8; stroke-opacity:0.1; fill:none\" points=\"204.45,897.469 2352.76,897.469 \"/>\n",
       "<polyline clip-path=\"url(#clip882)\" style=\"stroke:#000000; stroke-linecap:round; stroke-linejoin:round; stroke-width:8; stroke-opacity:0.1; fill:none\" points=\"204.45,843.383 2352.76,843.383 \"/>\n",
       "<polyline clip-path=\"url(#clip882)\" style=\"stroke:#000000; stroke-linecap:round; stroke-linejoin:round; stroke-width:8; stroke-opacity:0.1; fill:none\" points=\"204.45,789.297 2352.76,789.297 \"/>\n",
       "<polyline clip-path=\"url(#clip882)\" style=\"stroke:#000000; stroke-linecap:round; stroke-linejoin:round; stroke-width:8; stroke-opacity:0.1; fill:none\" points=\"204.45,735.212 2352.76,735.212 \"/>\n",
       "<polyline clip-path=\"url(#clip882)\" style=\"stroke:#000000; stroke-linecap:round; stroke-linejoin:round; stroke-width:8; stroke-opacity:0.1; fill:none\" points=\"204.45,681.126 2352.76,681.126 \"/>\n",
       "<polyline clip-path=\"url(#clip882)\" style=\"stroke:#000000; stroke-linecap:round; stroke-linejoin:round; stroke-width:8; stroke-opacity:0.1; fill:none\" points=\"204.45,627.041 2352.76,627.041 \"/>\n",
       "<polyline clip-path=\"url(#clip882)\" style=\"stroke:#000000; stroke-linecap:round; stroke-linejoin:round; stroke-width:8; stroke-opacity:0.1; fill:none\" points=\"204.45,572.955 2352.76,572.955 \"/>\n",
       "<polyline clip-path=\"url(#clip882)\" style=\"stroke:#000000; stroke-linecap:round; stroke-linejoin:round; stroke-width:8; stroke-opacity:0.1; fill:none\" points=\"204.45,518.87 2352.76,518.87 \"/>\n",
       "<polyline clip-path=\"url(#clip882)\" style=\"stroke:#000000; stroke-linecap:round; stroke-linejoin:round; stroke-width:8; stroke-opacity:0.1; fill:none\" points=\"204.45,464.784 2352.76,464.784 \"/>\n",
       "<polyline clip-path=\"url(#clip882)\" style=\"stroke:#000000; stroke-linecap:round; stroke-linejoin:round; stroke-width:8; stroke-opacity:0.1; fill:none\" points=\"204.45,410.699 2352.76,410.699 \"/>\n",
       "<polyline clip-path=\"url(#clip882)\" style=\"stroke:#000000; stroke-linecap:round; stroke-linejoin:round; stroke-width:8; stroke-opacity:0.1; fill:none\" points=\"204.45,356.613 2352.76,356.613 \"/>\n",
       "<polyline clip-path=\"url(#clip882)\" style=\"stroke:#000000; stroke-linecap:round; stroke-linejoin:round; stroke-width:8; stroke-opacity:0.1; fill:none\" points=\"204.45,302.528 2352.76,302.528 \"/>\n",
       "<polyline clip-path=\"url(#clip882)\" style=\"stroke:#000000; stroke-linecap:round; stroke-linejoin:round; stroke-width:8; stroke-opacity:0.1; fill:none\" points=\"204.45,248.442 2352.76,248.442 \"/>\n",
       "<polyline clip-path=\"url(#clip882)\" style=\"stroke:#000000; stroke-linecap:round; stroke-linejoin:round; stroke-width:8; stroke-opacity:0.1; fill:none\" points=\"204.45,194.357 2352.76,194.357 \"/>\n",
       "<polyline clip-path=\"url(#clip882)\" style=\"stroke:#000000; stroke-linecap:round; stroke-linejoin:round; stroke-width:8; stroke-opacity:0.1; fill:none\" points=\"204.45,140.271 2352.76,140.271 \"/>\n",
       "<polyline clip-path=\"url(#clip882)\" style=\"stroke:#000000; stroke-linecap:round; stroke-linejoin:round; stroke-width:8; stroke-opacity:0.1; fill:none\" points=\"204.45,86.1857 2352.76,86.1857 \"/>\n",
       "<polyline clip-path=\"url(#clip880)\" style=\"stroke:#000000; stroke-linecap:round; stroke-linejoin:round; stroke-width:4; stroke-opacity:1; fill:none\" points=\"204.45,1423.18 204.45,47.2441 \"/>\n",
       "<polyline clip-path=\"url(#clip880)\" style=\"stroke:#000000; stroke-linecap:round; stroke-linejoin:round; stroke-width:4; stroke-opacity:1; fill:none\" points=\"204.45,1384.24 223.347,1384.24 \"/>\n",
       "<polyline clip-path=\"url(#clip880)\" style=\"stroke:#000000; stroke-linecap:round; stroke-linejoin:round; stroke-width:4; stroke-opacity:1; fill:none\" points=\"204.45,1330.15 223.347,1330.15 \"/>\n",
       "<polyline clip-path=\"url(#clip880)\" style=\"stroke:#000000; stroke-linecap:round; stroke-linejoin:round; stroke-width:4; stroke-opacity:1; fill:none\" points=\"204.45,1276.07 223.347,1276.07 \"/>\n",
       "<polyline clip-path=\"url(#clip880)\" style=\"stroke:#000000; stroke-linecap:round; stroke-linejoin:round; stroke-width:4; stroke-opacity:1; fill:none\" points=\"204.45,1221.98 223.347,1221.98 \"/>\n",
       "<polyline clip-path=\"url(#clip880)\" style=\"stroke:#000000; stroke-linecap:round; stroke-linejoin:round; stroke-width:4; stroke-opacity:1; fill:none\" points=\"204.45,1167.9 223.347,1167.9 \"/>\n",
       "<polyline clip-path=\"url(#clip880)\" style=\"stroke:#000000; stroke-linecap:round; stroke-linejoin:round; stroke-width:4; stroke-opacity:1; fill:none\" points=\"204.45,1113.81 223.347,1113.81 \"/>\n",
       "<polyline clip-path=\"url(#clip880)\" style=\"stroke:#000000; stroke-linecap:round; stroke-linejoin:round; stroke-width:4; stroke-opacity:1; fill:none\" points=\"204.45,1059.73 223.347,1059.73 \"/>\n",
       "<polyline clip-path=\"url(#clip880)\" style=\"stroke:#000000; stroke-linecap:round; stroke-linejoin:round; stroke-width:4; stroke-opacity:1; fill:none\" points=\"204.45,1005.64 223.347,1005.64 \"/>\n",
       "<polyline clip-path=\"url(#clip880)\" style=\"stroke:#000000; stroke-linecap:round; stroke-linejoin:round; stroke-width:4; stroke-opacity:1; fill:none\" points=\"204.45,951.554 223.347,951.554 \"/>\n",
       "<polyline clip-path=\"url(#clip880)\" style=\"stroke:#000000; stroke-linecap:round; stroke-linejoin:round; stroke-width:4; stroke-opacity:1; fill:none\" points=\"204.45,897.469 223.347,897.469 \"/>\n",
       "<polyline clip-path=\"url(#clip880)\" style=\"stroke:#000000; stroke-linecap:round; stroke-linejoin:round; stroke-width:4; stroke-opacity:1; fill:none\" points=\"204.45,843.383 223.347,843.383 \"/>\n",
       "<polyline clip-path=\"url(#clip880)\" style=\"stroke:#000000; stroke-linecap:round; stroke-linejoin:round; stroke-width:4; stroke-opacity:1; fill:none\" points=\"204.45,789.297 223.347,789.297 \"/>\n",
       "<polyline clip-path=\"url(#clip880)\" style=\"stroke:#000000; stroke-linecap:round; stroke-linejoin:round; stroke-width:4; stroke-opacity:1; fill:none\" points=\"204.45,735.212 223.347,735.212 \"/>\n",
       "<polyline clip-path=\"url(#clip880)\" style=\"stroke:#000000; stroke-linecap:round; stroke-linejoin:round; stroke-width:4; stroke-opacity:1; fill:none\" points=\"204.45,681.126 223.347,681.126 \"/>\n",
       "<polyline clip-path=\"url(#clip880)\" style=\"stroke:#000000; stroke-linecap:round; stroke-linejoin:round; stroke-width:4; stroke-opacity:1; fill:none\" points=\"204.45,627.041 223.347,627.041 \"/>\n",
       "<polyline clip-path=\"url(#clip880)\" style=\"stroke:#000000; stroke-linecap:round; stroke-linejoin:round; stroke-width:4; stroke-opacity:1; fill:none\" points=\"204.45,572.955 223.347,572.955 \"/>\n",
       "<polyline clip-path=\"url(#clip880)\" style=\"stroke:#000000; stroke-linecap:round; stroke-linejoin:round; stroke-width:4; stroke-opacity:1; fill:none\" points=\"204.45,518.87 223.347,518.87 \"/>\n",
       "<polyline clip-path=\"url(#clip880)\" style=\"stroke:#000000; stroke-linecap:round; stroke-linejoin:round; stroke-width:4; stroke-opacity:1; fill:none\" points=\"204.45,464.784 223.347,464.784 \"/>\n",
       "<polyline clip-path=\"url(#clip880)\" style=\"stroke:#000000; stroke-linecap:round; stroke-linejoin:round; stroke-width:4; stroke-opacity:1; fill:none\" points=\"204.45,410.699 223.347,410.699 \"/>\n",
       "<polyline clip-path=\"url(#clip880)\" style=\"stroke:#000000; stroke-linecap:round; stroke-linejoin:round; stroke-width:4; stroke-opacity:1; fill:none\" points=\"204.45,356.613 223.347,356.613 \"/>\n",
       "<polyline clip-path=\"url(#clip880)\" style=\"stroke:#000000; stroke-linecap:round; stroke-linejoin:round; stroke-width:4; stroke-opacity:1; fill:none\" points=\"204.45,302.528 223.347,302.528 \"/>\n",
       "<polyline clip-path=\"url(#clip880)\" style=\"stroke:#000000; stroke-linecap:round; stroke-linejoin:round; stroke-width:4; stroke-opacity:1; fill:none\" points=\"204.45,248.442 223.347,248.442 \"/>\n",
       "<polyline clip-path=\"url(#clip880)\" style=\"stroke:#000000; stroke-linecap:round; stroke-linejoin:round; stroke-width:4; stroke-opacity:1; fill:none\" points=\"204.45,194.357 223.347,194.357 \"/>\n",
       "<polyline clip-path=\"url(#clip880)\" style=\"stroke:#000000; stroke-linecap:round; stroke-linejoin:round; stroke-width:4; stroke-opacity:1; fill:none\" points=\"204.45,140.271 223.347,140.271 \"/>\n",
       "<polyline clip-path=\"url(#clip880)\" style=\"stroke:#000000; stroke-linecap:round; stroke-linejoin:round; stroke-width:4; stroke-opacity:1; fill:none\" points=\"204.45,86.1857 223.347,86.1857 \"/>\n",
       "<path clip-path=\"url(#clip880)\" d=\"M156.505 1370.04 Q152.894 1370.04 151.066 1373.6 Q149.26 1377.14 149.26 1384.27 Q149.26 1391.38 151.066 1394.94 Q152.894 1398.49 156.505 1398.49 Q160.14 1398.49 161.945 1394.94 Q163.774 1391.38 163.774 1384.27 Q163.774 1377.14 161.945 1373.6 Q160.14 1370.04 156.505 1370.04 M156.505 1366.33 Q162.315 1366.33 165.371 1370.94 Q168.45 1375.52 168.45 1384.27 Q168.45 1393 165.371 1397.61 Q162.315 1402.19 156.505 1402.19 Q150.695 1402.19 147.616 1397.61 Q144.561 1393 144.561 1384.27 Q144.561 1375.52 147.616 1370.94 Q150.695 1366.33 156.505 1366.33 Z\" fill=\"#000000\" fill-rule=\"evenodd\" fill-opacity=\"1\" /><path clip-path=\"url(#clip880)\" d=\"M148.542 1343.5 L156.181 1343.5 L156.181 1317.13 L147.871 1318.8 L147.871 1314.54 L156.135 1312.87 L160.811 1312.87 L160.811 1343.5 L168.45 1343.5 L168.45 1347.43 L148.542 1347.43 L148.542 1343.5 Z\" fill=\"#000000\" fill-rule=\"evenodd\" fill-opacity=\"1\" /><path clip-path=\"url(#clip880)\" d=\"M152.13 1289.41 L168.45 1289.41 L168.45 1293.35 L146.505 1293.35 L146.505 1289.41 Q149.167 1286.66 153.751 1282.03 Q158.357 1277.38 159.538 1276.03 Q161.783 1273.51 162.663 1271.77 Q163.565 1270.01 163.565 1268.32 Q163.565 1265.57 161.621 1263.83 Q159.7 1262.1 156.598 1262.1 Q154.399 1262.1 151.945 1262.86 Q149.515 1263.63 146.737 1265.18 L146.737 1260.45 Q149.561 1259.32 152.015 1258.74 Q154.468 1258.16 156.505 1258.16 Q161.876 1258.16 165.07 1260.85 Q168.264 1263.53 168.264 1268.02 Q168.264 1270.15 167.454 1272.07 Q166.667 1273.97 164.561 1276.56 Q163.982 1277.24 160.88 1280.45 Q157.778 1283.65 152.13 1289.41 Z\" fill=\"#000000\" fill-rule=\"evenodd\" fill-opacity=\"1\" /><path clip-path=\"url(#clip880)\" d=\"M161.32 1220.63 Q164.677 1221.35 166.552 1223.61 Q168.45 1225.88 168.45 1229.22 Q168.45 1234.33 164.931 1237.13 Q161.413 1239.93 154.931 1239.93 Q152.755 1239.93 150.441 1239.49 Q148.149 1239.08 145.695 1238.22 L145.695 1233.71 Q147.64 1234.84 149.954 1235.42 Q152.269 1236 154.792 1236 Q159.19 1236 161.482 1234.26 Q163.797 1232.53 163.797 1229.22 Q163.797 1226.16 161.644 1224.45 Q159.515 1222.71 155.695 1222.71 L151.667 1222.71 L151.667 1218.87 L155.88 1218.87 Q159.329 1218.87 161.158 1217.5 Q162.987 1216.11 162.987 1213.52 Q162.987 1210.86 161.089 1209.45 Q159.214 1208.01 155.695 1208.01 Q153.774 1208.01 151.575 1208.43 Q149.376 1208.85 146.737 1209.72 L146.737 1205.56 Q149.399 1204.82 151.714 1204.45 Q154.052 1204.08 156.112 1204.08 Q161.436 1204.08 164.538 1206.51 Q167.64 1208.91 167.64 1213.03 Q167.64 1215.91 165.996 1217.9 Q164.352 1219.86 161.32 1220.63 Z\" fill=\"#000000\" fill-rule=\"evenodd\" fill-opacity=\"1\" /><path clip-path=\"url(#clip880)\" d=\"M158.866 1154.69 L147.061 1173.14 L158.866 1173.14 L158.866 1154.69 M157.64 1150.62 L163.519 1150.62 L163.519 1173.14 L168.45 1173.14 L168.45 1177.03 L163.519 1177.03 L163.519 1185.18 L158.866 1185.18 L158.866 1177.03 L143.265 1177.03 L143.265 1172.51 L157.64 1150.62 Z\" fill=\"#000000\" fill-rule=\"evenodd\" fill-opacity=\"1\" /><path clip-path=\"url(#clip880)\" d=\"M147.547 1096.53 L165.903 1096.53 L165.903 1100.47 L151.829 1100.47 L151.829 1108.94 Q152.848 1108.59 153.866 1108.43 Q154.885 1108.24 155.903 1108.24 Q161.69 1108.24 165.07 1111.41 Q168.45 1114.59 168.45 1120 Q168.45 1125.58 164.977 1128.68 Q161.505 1131.76 155.186 1131.76 Q153.01 1131.76 150.741 1131.39 Q148.496 1131.02 146.089 1130.28 L146.089 1125.58 Q148.172 1126.72 150.394 1127.27 Q152.616 1127.83 155.093 1127.83 Q159.098 1127.83 161.436 1125.72 Q163.774 1123.61 163.774 1120 Q163.774 1116.39 161.436 1114.29 Q159.098 1112.18 155.093 1112.18 Q153.218 1112.18 151.343 1112.6 Q149.491 1113.01 147.547 1113.89 L147.547 1096.53 Z\" fill=\"#000000\" fill-rule=\"evenodd\" fill-opacity=\"1\" /><path clip-path=\"url(#clip880)\" d=\"M156.922 1057.86 Q153.774 1057.86 151.922 1060.01 Q150.093 1062.17 150.093 1065.92 Q150.093 1069.64 151.922 1071.82 Q153.774 1073.97 156.922 1073.97 Q160.07 1073.97 161.899 1071.82 Q163.751 1069.64 163.751 1065.92 Q163.751 1062.17 161.899 1060.01 Q160.07 1057.86 156.922 1057.86 M166.204 1043.21 L166.204 1047.47 Q164.445 1046.63 162.64 1046.2 Q160.857 1045.76 159.098 1045.76 Q154.468 1045.76 152.015 1048.88 Q149.584 1052.01 149.237 1058.32 Q150.603 1056.31 152.663 1055.25 Q154.723 1054.16 157.2 1054.16 Q162.408 1054.16 165.417 1057.33 Q168.45 1060.48 168.45 1065.92 Q168.45 1071.24 165.302 1074.46 Q162.153 1077.68 156.922 1077.68 Q150.927 1077.68 147.755 1073.09 Q144.584 1068.49 144.584 1059.76 Q144.584 1051.57 148.473 1046.7 Q152.362 1041.82 158.913 1041.82 Q160.672 1041.82 162.454 1042.17 Q164.26 1042.51 166.204 1043.21 Z\" fill=\"#000000\" fill-rule=\"evenodd\" fill-opacity=\"1\" /><path clip-path=\"url(#clip880)\" d=\"M146.228 988.36 L168.45 988.36 L168.45 990.35 L155.903 1022.92 L151.019 1022.92 L162.825 992.295 L146.228 992.295 L146.228 988.36 Z\" fill=\"#000000\" fill-rule=\"evenodd\" fill-opacity=\"1\" /><path clip-path=\"url(#clip880)\" d=\"M156.598 952.422 Q153.265 952.422 151.343 954.205 Q149.445 955.987 149.445 959.112 Q149.445 962.237 151.343 964.019 Q153.265 965.802 156.598 965.802 Q159.931 965.802 161.852 964.019 Q163.774 962.214 163.774 959.112 Q163.774 955.987 161.852 954.205 Q159.954 952.422 156.598 952.422 M151.922 950.431 Q148.913 949.691 147.223 947.63 Q145.556 945.57 145.556 942.607 Q145.556 938.464 148.496 936.056 Q151.459 933.649 156.598 933.649 Q161.76 933.649 164.7 936.056 Q167.64 938.464 167.64 942.607 Q167.64 945.57 165.95 947.63 Q164.283 949.691 161.297 950.431 Q164.677 951.218 166.552 953.51 Q168.45 955.802 168.45 959.112 Q168.45 964.135 165.371 966.82 Q162.315 969.505 156.598 969.505 Q150.88 969.505 147.802 966.82 Q144.746 964.135 144.746 959.112 Q144.746 955.802 146.644 953.51 Q148.542 951.218 151.922 950.431 M150.209 943.047 Q150.209 945.732 151.876 947.237 Q153.566 948.742 156.598 948.742 Q159.607 948.742 161.297 947.237 Q163.01 945.732 163.01 943.047 Q163.01 940.362 161.297 938.857 Q159.607 937.353 156.598 937.353 Q153.566 937.353 151.876 938.857 Q150.209 940.362 150.209 943.047 Z\" fill=\"#000000\" fill-rule=\"evenodd\" fill-opacity=\"1\" /><path clip-path=\"url(#clip880)\" d=\"M146.829 914.031 L146.829 909.772 Q148.589 910.605 150.394 911.045 Q152.2 911.485 153.936 911.485 Q158.565 911.485 160.996 908.383 Q163.45 905.258 163.797 898.915 Q162.454 900.906 160.394 901.971 Q158.334 903.036 155.834 903.036 Q150.649 903.036 147.616 899.911 Q144.607 896.763 144.607 891.323 Q144.607 885.999 147.755 882.781 Q150.903 879.564 156.135 879.564 Q162.13 879.564 165.278 884.17 Q168.45 888.753 168.45 897.503 Q168.45 905.675 164.561 910.559 Q160.695 915.42 154.144 915.42 Q152.385 915.42 150.579 915.073 Q148.774 914.725 146.829 914.031 M156.135 899.378 Q159.283 899.378 161.112 897.225 Q162.964 895.073 162.964 891.323 Q162.964 887.596 161.112 885.443 Q159.283 883.267 156.135 883.267 Q152.987 883.267 151.135 885.443 Q149.306 887.596 149.306 891.323 Q149.306 895.073 151.135 897.225 Q152.987 899.378 156.135 899.378 Z\" fill=\"#000000\" fill-rule=\"evenodd\" fill-opacity=\"1\" /><path clip-path=\"url(#clip880)\" d=\"M117.154 856.728 L124.793 856.728 L124.793 830.362 L116.482 832.029 L116.482 827.77 L124.746 826.103 L129.422 826.103 L129.422 856.728 L137.061 856.728 L137.061 860.663 L117.154 860.663 L117.154 856.728 Z\" fill=\"#000000\" fill-rule=\"evenodd\" fill-opacity=\"1\" /><path clip-path=\"url(#clip880)\" d=\"M156.505 829.182 Q152.894 829.182 151.066 832.747 Q149.26 836.288 149.26 843.418 Q149.26 850.524 151.066 854.089 Q152.894 857.631 156.505 857.631 Q160.14 857.631 161.945 854.089 Q163.774 850.524 163.774 843.418 Q163.774 836.288 161.945 832.747 Q160.14 829.182 156.505 829.182 M156.505 825.478 Q162.315 825.478 165.371 830.084 Q168.45 834.668 168.45 843.418 Q168.45 852.145 165.371 856.751 Q162.315 861.334 156.505 861.334 Q150.695 861.334 147.616 856.751 Q144.561 852.145 144.561 843.418 Q144.561 834.668 147.616 830.084 Q150.695 825.478 156.505 825.478 Z\" fill=\"#000000\" fill-rule=\"evenodd\" fill-opacity=\"1\" /><path clip-path=\"url(#clip880)\" d=\"M118.381 802.642 L126.019 802.642 L126.019 776.277 L117.709 777.943 L117.709 773.684 L125.973 772.017 L130.649 772.017 L130.649 802.642 L138.288 802.642 L138.288 806.577 L118.381 806.577 L118.381 802.642 Z\" fill=\"#000000\" fill-rule=\"evenodd\" fill-opacity=\"1\" /><path clip-path=\"url(#clip880)\" d=\"M148.542 802.642 L156.181 802.642 L156.181 776.277 L147.871 777.943 L147.871 773.684 L156.135 772.017 L160.811 772.017 L160.811 802.642 L168.45 802.642 L168.45 806.577 L148.542 806.577 L148.542 802.642 Z\" fill=\"#000000\" fill-rule=\"evenodd\" fill-opacity=\"1\" /><path clip-path=\"url(#clip880)\" d=\"M118.751 748.557 L126.39 748.557 L126.39 722.191 L118.08 723.858 L118.08 719.599 L126.343 717.932 L131.019 717.932 L131.019 748.557 L138.658 748.557 L138.658 752.492 L118.751 752.492 L118.751 748.557 Z\" fill=\"#000000\" fill-rule=\"evenodd\" fill-opacity=\"1\" /><path clip-path=\"url(#clip880)\" d=\"M152.13 748.557 L168.45 748.557 L168.45 752.492 L146.505 752.492 L146.505 748.557 Q149.167 745.802 153.751 741.173 Q158.357 736.52 159.538 735.177 Q161.783 732.654 162.663 730.918 Q163.565 729.159 163.565 727.469 Q163.565 724.714 161.621 722.978 Q159.7 721.242 156.598 721.242 Q154.399 721.242 151.945 722.006 Q149.515 722.77 146.737 724.321 L146.737 719.599 Q149.561 718.464 152.015 717.886 Q154.468 717.307 156.505 717.307 Q161.876 717.307 165.07 719.992 Q168.264 722.677 168.264 727.168 Q168.264 729.298 167.454 731.219 Q166.667 733.117 164.561 735.71 Q163.982 736.381 160.88 739.599 Q157.778 742.793 152.13 748.557 Z\" fill=\"#000000\" fill-rule=\"evenodd\" fill-opacity=\"1\" /><path clip-path=\"url(#clip880)\" d=\"M117.802 694.471 L125.441 694.471 L125.441 668.106 L117.131 669.772 L117.131 665.513 L125.394 663.846 L130.07 663.846 L130.07 694.471 L137.709 694.471 L137.709 698.406 L117.802 698.406 L117.802 694.471 Z\" fill=\"#000000\" fill-rule=\"evenodd\" fill-opacity=\"1\" /><path clip-path=\"url(#clip880)\" d=\"M161.32 679.772 Q164.677 680.49 166.552 682.758 Q168.45 685.027 168.45 688.36 Q168.45 693.476 164.931 696.277 Q161.413 699.078 154.931 699.078 Q152.755 699.078 150.441 698.638 Q148.149 698.221 145.695 697.365 L145.695 692.851 Q147.64 693.985 149.954 694.564 Q152.269 695.143 154.792 695.143 Q159.19 695.143 161.482 693.406 Q163.797 691.67 163.797 688.36 Q163.797 685.305 161.644 683.592 Q159.515 681.856 155.695 681.856 L151.667 681.856 L151.667 678.013 L155.88 678.013 Q159.329 678.013 161.158 676.647 Q162.987 675.258 162.987 672.666 Q162.987 670.004 161.089 668.592 Q159.214 667.157 155.695 667.157 Q153.774 667.157 151.575 667.573 Q149.376 667.99 146.737 668.87 L146.737 664.703 Q149.399 663.962 151.714 663.592 Q154.052 663.221 156.112 663.221 Q161.436 663.221 164.538 665.652 Q167.64 668.059 167.64 672.18 Q167.64 675.05 165.996 677.041 Q164.352 679.008 161.32 679.772 Z\" fill=\"#000000\" fill-rule=\"evenodd\" fill-opacity=\"1\" /><path clip-path=\"url(#clip880)\" d=\"M116.668 640.386 L124.306 640.386 L124.306 614.02 L115.996 615.687 L115.996 611.428 L124.26 609.761 L128.936 609.761 L128.936 640.386 L136.575 640.386 L136.575 644.321 L116.668 644.321 L116.668 640.386 Z\" fill=\"#000000\" fill-rule=\"evenodd\" fill-opacity=\"1\" /><path clip-path=\"url(#clip880)\" d=\"M158.866 613.835 L147.061 632.284 L158.866 632.284 L158.866 613.835 M157.64 609.761 L163.519 609.761 L163.519 632.284 L168.45 632.284 L168.45 636.173 L163.519 636.173 L163.519 644.321 L158.866 644.321 L158.866 636.173 L143.265 636.173 L143.265 631.659 L157.64 609.761 Z\" fill=\"#000000\" fill-rule=\"evenodd\" fill-opacity=\"1\" /><path clip-path=\"url(#clip880)\" d=\"M118.149 586.3 L125.788 586.3 L125.788 559.935 L117.478 561.601 L117.478 557.342 L125.742 555.675 L130.417 555.675 L130.417 586.3 L138.056 586.3 L138.056 590.235 L118.149 590.235 L118.149 586.3 Z\" fill=\"#000000\" fill-rule=\"evenodd\" fill-opacity=\"1\" /><path clip-path=\"url(#clip880)\" d=\"M147.547 555.675 L165.903 555.675 L165.903 559.611 L151.829 559.611 L151.829 568.083 Q152.848 567.736 153.866 567.573 Q154.885 567.388 155.903 567.388 Q161.69 567.388 165.07 570.56 Q168.45 573.731 168.45 579.147 Q168.45 584.726 164.977 587.828 Q161.505 590.907 155.186 590.907 Q153.01 590.907 150.741 590.536 Q148.496 590.166 146.089 589.425 L146.089 584.726 Q148.172 585.86 150.394 586.416 Q152.616 586.972 155.093 586.972 Q159.098 586.972 161.436 584.865 Q163.774 582.759 163.774 579.147 Q163.774 575.536 161.436 573.43 Q159.098 571.323 155.093 571.323 Q153.218 571.323 151.343 571.74 Q149.491 572.157 147.547 573.036 L147.547 555.675 Z\" fill=\"#000000\" fill-rule=\"evenodd\" fill-opacity=\"1\" /><path clip-path=\"url(#clip880)\" d=\"M116.992 532.215 L124.63 532.215 L124.63 505.849 L116.32 507.516 L116.32 503.257 L124.584 501.59 L129.26 501.59 L129.26 532.215 L136.899 532.215 L136.899 536.15 L116.992 536.15 L116.992 532.215 Z\" fill=\"#000000\" fill-rule=\"evenodd\" fill-opacity=\"1\" /><path clip-path=\"url(#clip880)\" d=\"M156.922 517.006 Q153.774 517.006 151.922 519.159 Q150.093 521.312 150.093 525.062 Q150.093 528.789 151.922 530.965 Q153.774 533.117 156.922 533.117 Q160.07 533.117 161.899 530.965 Q163.751 528.789 163.751 525.062 Q163.751 521.312 161.899 519.159 Q160.07 517.006 156.922 517.006 M166.204 502.354 L166.204 506.613 Q164.445 505.78 162.64 505.34 Q160.857 504.9 159.098 504.9 Q154.468 504.9 152.015 508.025 Q149.584 511.15 149.237 517.469 Q150.603 515.456 152.663 514.391 Q154.723 513.303 157.2 513.303 Q162.408 513.303 165.417 516.474 Q168.45 519.622 168.45 525.062 Q168.45 530.386 165.302 533.604 Q162.153 536.821 156.922 536.821 Q150.927 536.821 147.755 532.238 Q144.584 527.631 144.584 518.905 Q144.584 510.71 148.473 505.849 Q152.362 500.965 158.913 500.965 Q160.672 500.965 162.454 501.312 Q164.26 501.659 166.204 502.354 Z\" fill=\"#000000\" fill-rule=\"evenodd\" fill-opacity=\"1\" /><path clip-path=\"url(#clip880)\" d=\"M118.056 478.129 L125.695 478.129 L125.695 451.764 L117.385 453.43 L117.385 449.171 L125.649 447.504 L130.325 447.504 L130.325 478.129 L137.964 478.129 L137.964 482.064 L118.056 482.064 L118.056 478.129 Z\" fill=\"#000000\" fill-rule=\"evenodd\" fill-opacity=\"1\" /><path clip-path=\"url(#clip880)\" d=\"M146.228 447.504 L168.45 447.504 L168.45 449.495 L155.903 482.064 L151.019 482.064 L162.825 451.44 L146.228 451.44 L146.228 447.504 Z\" fill=\"#000000\" fill-rule=\"evenodd\" fill-opacity=\"1\" /><path clip-path=\"url(#clip880)\" d=\"M117.246 424.044 L124.885 424.044 L124.885 397.678 L116.575 399.345 L116.575 395.085 L124.839 393.419 L129.515 393.419 L129.515 424.044 L137.154 424.044 L137.154 427.979 L117.246 427.979 L117.246 424.044 Z\" fill=\"#000000\" fill-rule=\"evenodd\" fill-opacity=\"1\" /><path clip-path=\"url(#clip880)\" d=\"M156.598 411.567 Q153.265 411.567 151.343 413.349 Q149.445 415.132 149.445 418.257 Q149.445 421.382 151.343 423.164 Q153.265 424.946 156.598 424.946 Q159.931 424.946 161.852 423.164 Q163.774 421.358 163.774 418.257 Q163.774 415.132 161.852 413.349 Q159.954 411.567 156.598 411.567 M151.922 409.576 Q148.913 408.835 147.223 406.775 Q145.556 404.715 145.556 401.752 Q145.556 397.609 148.496 395.201 Q151.459 392.794 156.598 392.794 Q161.76 392.794 164.7 395.201 Q167.64 397.609 167.64 401.752 Q167.64 404.715 165.95 406.775 Q164.283 408.835 161.297 409.576 Q164.677 410.363 166.552 412.655 Q168.45 414.946 168.45 418.257 Q168.45 423.28 165.371 425.965 Q162.315 428.65 156.598 428.65 Q150.88 428.65 147.802 425.965 Q144.746 423.28 144.746 418.257 Q144.746 414.946 146.644 412.655 Q148.542 410.363 151.922 409.576 M150.209 402.192 Q150.209 404.877 151.876 406.382 Q153.566 407.886 156.598 407.886 Q159.607 407.886 161.297 406.382 Q163.01 404.877 163.01 402.192 Q163.01 399.507 161.297 398.002 Q159.607 396.498 156.598 396.498 Q153.566 396.498 151.876 398.002 Q150.209 399.507 150.209 402.192 Z\" fill=\"#000000\" fill-rule=\"evenodd\" fill-opacity=\"1\" /><path clip-path=\"url(#clip880)\" d=\"M117.339 369.958 L124.978 369.958 L124.978 343.593 L116.668 345.259 L116.668 341 L124.931 339.333 L129.607 339.333 L129.607 369.958 L137.246 369.958 L137.246 373.893 L117.339 373.893 L117.339 369.958 Z\" fill=\"#000000\" fill-rule=\"evenodd\" fill-opacity=\"1\" /><path clip-path=\"url(#clip880)\" d=\"M146.829 373.176 L146.829 368.916 Q148.589 369.75 150.394 370.19 Q152.2 370.629 153.936 370.629 Q158.565 370.629 160.996 367.528 Q163.45 364.403 163.797 358.06 Q162.454 360.051 160.394 361.116 Q158.334 362.18 155.834 362.18 Q150.649 362.18 147.616 359.055 Q144.607 355.907 144.607 350.467 Q144.607 345.143 147.755 341.926 Q150.903 338.708 156.135 338.708 Q162.13 338.708 165.278 343.315 Q168.45 347.898 168.45 356.648 Q168.45 364.819 164.561 369.704 Q160.695 374.565 154.144 374.565 Q152.385 374.565 150.579 374.217 Q148.774 373.87 146.829 373.176 M156.135 358.523 Q159.283 358.523 161.112 356.37 Q162.964 354.217 162.964 350.467 Q162.964 346.741 161.112 344.588 Q159.283 342.412 156.135 342.412 Q152.987 342.412 151.135 344.588 Q149.306 346.741 149.306 350.467 Q149.306 354.217 151.135 356.37 Q152.987 358.523 156.135 358.523 Z\" fill=\"#000000\" fill-rule=\"evenodd\" fill-opacity=\"1\" /><path clip-path=\"url(#clip880)\" d=\"M120.371 315.873 L136.691 315.873 L136.691 319.808 L114.746 319.808 L114.746 315.873 Q117.408 313.118 121.992 308.488 Q126.598 303.836 127.779 302.493 Q130.024 299.97 130.904 298.234 Q131.806 296.475 131.806 294.785 Q131.806 292.03 129.862 290.294 Q127.941 288.558 124.839 288.558 Q122.64 288.558 120.186 289.322 Q117.756 290.086 114.978 291.637 L114.978 286.914 Q117.802 285.78 120.255 285.201 Q122.709 284.623 124.746 284.623 Q130.117 284.623 133.311 287.308 Q136.505 289.993 136.505 294.484 Q136.505 296.613 135.695 298.535 Q134.908 300.433 132.802 303.025 Q132.223 303.697 129.121 306.914 Q126.019 310.109 120.371 315.873 Z\" fill=\"#000000\" fill-rule=\"evenodd\" fill-opacity=\"1\" /><path clip-path=\"url(#clip880)\" d=\"M156.505 288.326 Q152.894 288.326 151.066 291.891 Q149.26 295.433 149.26 302.562 Q149.26 309.669 151.066 313.234 Q152.894 316.775 156.505 316.775 Q160.14 316.775 161.945 313.234 Q163.774 309.669 163.774 302.562 Q163.774 295.433 161.945 291.891 Q160.14 288.326 156.505 288.326 M156.505 284.623 Q162.315 284.623 165.371 289.229 Q168.45 293.813 168.45 302.562 Q168.45 311.289 165.371 315.896 Q162.315 320.479 156.505 320.479 Q150.695 320.479 147.616 315.896 Q144.561 311.289 144.561 302.562 Q144.561 293.813 147.616 289.229 Q150.695 284.623 156.505 284.623 Z\" fill=\"#000000\" fill-rule=\"evenodd\" fill-opacity=\"1\" /><path clip-path=\"url(#clip880)\" d=\"M121.598 261.787 L137.917 261.787 L137.917 265.722 L115.973 265.722 L115.973 261.787 Q118.635 259.032 123.218 254.403 Q127.825 249.75 129.005 248.408 Q131.251 245.884 132.13 244.148 Q133.033 242.389 133.033 240.699 Q133.033 237.945 131.089 236.209 Q129.167 234.472 126.066 234.472 Q123.867 234.472 121.413 235.236 Q118.982 236 116.205 237.551 L116.205 232.829 Q119.029 231.695 121.482 231.116 Q123.936 230.537 125.973 230.537 Q131.343 230.537 134.538 233.222 Q137.732 235.908 137.732 240.398 Q137.732 242.528 136.922 244.449 Q136.135 246.347 134.029 248.94 Q133.45 249.611 130.348 252.829 Q127.246 256.023 121.598 261.787 Z\" fill=\"#000000\" fill-rule=\"evenodd\" fill-opacity=\"1\" /><path clip-path=\"url(#clip880)\" d=\"M148.542 261.787 L156.181 261.787 L156.181 235.421 L147.871 237.088 L147.871 232.829 L156.135 231.162 L160.811 231.162 L160.811 261.787 L168.45 261.787 L168.45 265.722 L148.542 265.722 L148.542 261.787 Z\" fill=\"#000000\" fill-rule=\"evenodd\" fill-opacity=\"1\" /><path clip-path=\"url(#clip880)\" d=\"M121.968 207.702 L138.288 207.702 L138.288 211.637 L116.343 211.637 L116.343 207.702 Q119.006 204.947 123.589 200.317 Q128.195 195.665 129.376 194.322 Q131.621 191.799 132.501 190.063 Q133.404 188.304 133.404 186.614 Q133.404 183.859 131.459 182.123 Q129.538 180.387 126.436 180.387 Q124.237 180.387 121.783 181.151 Q119.353 181.915 116.575 183.466 L116.575 178.743 Q119.399 177.609 121.853 177.03 Q124.306 176.452 126.343 176.452 Q131.714 176.452 134.908 179.137 Q138.103 181.822 138.103 186.313 Q138.103 188.442 137.292 190.364 Q136.505 192.262 134.399 194.854 Q133.82 195.526 130.718 198.743 Q127.617 201.938 121.968 207.702 Z\" fill=\"#000000\" fill-rule=\"evenodd\" fill-opacity=\"1\" /><path clip-path=\"url(#clip880)\" d=\"M152.13 207.702 L168.45 207.702 L168.45 211.637 L146.505 211.637 L146.505 207.702 Q149.167 204.947 153.751 200.317 Q158.357 195.665 159.538 194.322 Q161.783 191.799 162.663 190.063 Q163.565 188.304 163.565 186.614 Q163.565 183.859 161.621 182.123 Q159.7 180.387 156.598 180.387 Q154.399 180.387 151.945 181.151 Q149.515 181.915 146.737 183.466 L146.737 178.743 Q149.561 177.609 152.015 177.03 Q154.468 176.452 156.505 176.452 Q161.876 176.452 165.07 179.137 Q168.264 181.822 168.264 186.313 Q168.264 188.442 167.454 190.364 Q166.667 192.262 164.561 194.854 Q163.982 195.526 160.88 198.743 Q157.778 201.938 152.13 207.702 Z\" fill=\"#000000\" fill-rule=\"evenodd\" fill-opacity=\"1\" /><path clip-path=\"url(#clip880)\" d=\"M121.019 153.616 L137.339 153.616 L137.339 157.551 L115.394 157.551 L115.394 153.616 Q118.056 150.861 122.64 146.232 Q127.246 141.579 128.427 140.236 Q130.672 137.713 131.552 135.977 Q132.455 134.218 132.455 132.528 Q132.455 129.774 130.51 128.037 Q128.589 126.301 125.487 126.301 Q123.288 126.301 120.834 127.065 Q118.404 127.829 115.626 129.38 L115.626 124.658 Q118.45 123.524 120.904 122.945 Q123.357 122.366 125.394 122.366 Q130.765 122.366 133.959 125.051 Q137.154 127.737 137.154 132.227 Q137.154 134.357 136.343 136.278 Q135.556 138.176 133.45 140.769 Q132.871 141.44 129.769 144.658 Q126.667 147.852 121.019 153.616 Z\" fill=\"#000000\" fill-rule=\"evenodd\" fill-opacity=\"1\" /><path clip-path=\"url(#clip880)\" d=\"M161.32 138.917 Q164.677 139.635 166.552 141.903 Q168.45 144.172 168.45 147.505 Q168.45 152.621 164.931 155.422 Q161.413 158.222 154.931 158.222 Q152.755 158.222 150.441 157.783 Q148.149 157.366 145.695 156.51 L145.695 151.996 Q147.64 153.13 149.954 153.709 Q152.269 154.287 154.792 154.287 Q159.19 154.287 161.482 152.551 Q163.797 150.815 163.797 147.505 Q163.797 144.449 161.644 142.736 Q159.515 141 155.695 141 L151.667 141 L151.667 137.158 L155.88 137.158 Q159.329 137.158 161.158 135.792 Q162.987 134.403 162.987 131.811 Q162.987 129.149 161.089 127.737 Q159.214 126.301 155.695 126.301 Q153.774 126.301 151.575 126.718 Q149.376 127.135 146.737 128.014 L146.737 123.848 Q149.399 123.107 151.714 122.737 Q154.052 122.366 156.112 122.366 Q161.436 122.366 164.538 124.797 Q167.64 127.204 167.64 131.324 Q167.64 134.195 165.996 136.186 Q164.352 138.153 161.32 138.917 Z\" fill=\"#000000\" fill-rule=\"evenodd\" fill-opacity=\"1\" /><path clip-path=\"url(#clip880)\" d=\"M119.885 99.5305 L136.204 99.5305 L136.204 103.466 L114.26 103.466 L114.26 99.5305 Q116.922 96.7759 121.505 92.1463 Q126.112 87.4935 127.292 86.151 Q129.538 83.6278 130.417 81.8917 Q131.32 80.1325 131.32 78.4427 Q131.32 75.688 129.376 73.9519 Q127.455 72.2158 124.353 72.2158 Q122.154 72.2158 119.7 72.9797 Q117.269 73.7436 114.492 75.2945 L114.492 70.5723 Q117.316 69.4381 119.769 68.8594 Q122.223 68.2807 124.26 68.2807 Q129.63 68.2807 132.825 70.9658 Q136.019 73.651 136.019 78.1417 Q136.019 80.2714 135.209 82.1926 Q134.422 84.0908 132.316 86.6834 Q131.737 87.3546 128.635 90.5722 Q125.533 93.7667 119.885 99.5305 Z\" fill=\"#000000\" fill-rule=\"evenodd\" fill-opacity=\"1\" /><path clip-path=\"url(#clip880)\" d=\"M158.866 72.9797 L147.061 91.4287 L158.866 91.4287 L158.866 72.9797 M157.64 68.9057 L163.519 68.9057 L163.519 91.4287 L168.45 91.4287 L168.45 95.3176 L163.519 95.3176 L163.519 103.466 L158.866 103.466 L158.866 95.3176 L143.265 95.3176 L143.265 90.8037 L157.64 68.9057 Z\" fill=\"#000000\" fill-rule=\"evenodd\" fill-opacity=\"1\" /><path clip-path=\"url(#clip880)\" d=\"M35.3266 895.15 L35.3266 904.412 L45.9574 907.086 L45.9574 897.76 L35.3266 895.15 M17.2162 899.925 L30.4251 903.235 L30.4251 893.941 L17.2162 890.599 L17.2162 885.506 L30.4251 888.785 L30.4251 878.854 L35.3266 878.854 L35.3266 890.026 L45.9574 892.636 L45.9574 882.514 L50.8271 882.514 L50.8271 893.877 L64.0042 897.187 L64.0042 902.28 L50.8271 899.002 L50.8271 908.327 L64.0042 911.606 L64.0042 916.73 L50.8271 913.42 L50.8271 923.446 L45.9574 923.446 L45.9574 912.242 L35.3266 909.569 L35.3266 919.817 L30.4251 919.817 L30.4251 908.327 L17.2162 905.081 L17.2162 899.925 Z\" fill=\"#000000\" fill-rule=\"evenodd\" fill-opacity=\"1\" /><path clip-path=\"url(#clip880)\" d=\"M28.3562 846.994 L28.3562 841.137 L64.0042 841.137 L64.0042 846.994 L28.3562 846.994 M14.479 846.994 L14.479 841.137 L21.895 841.137 L21.895 846.994 L14.479 846.994 Z\" fill=\"#000000\" fill-rule=\"evenodd\" fill-opacity=\"1\" /><path clip-path=\"url(#clip880)\" d=\"M18.2347 823.091 L28.3562 823.091 L28.3562 811.028 L32.9077 811.028 L32.9077 823.091 L52.2594 823.091 Q56.6199 823.091 57.8613 821.913 Q59.1026 820.703 59.1026 817.043 L59.1026 811.028 L64.0042 811.028 L64.0042 817.043 Q64.0042 823.823 61.4897 826.401 Q58.9434 828.979 52.2594 828.979 L32.9077 828.979 L32.9077 833.276 L28.3562 833.276 L28.3562 828.979 L18.2347 828.979 L18.2347 823.091 Z\" fill=\"#000000\" fill-rule=\"evenodd\" fill-opacity=\"1\" /><path clip-path=\"url(#clip880)\" d=\"M44.7161 772.833 L47.5806 772.833 L47.5806 799.76 Q53.6281 799.378 56.8109 796.132 Q59.9619 792.853 59.9619 787.029 Q59.9619 783.655 59.1344 780.504 Q58.3069 777.321 56.6518 774.202 L62.1899 774.202 Q63.5267 777.353 64.227 780.663 Q64.9272 783.973 64.9272 787.379 Q64.9272 795.909 59.9619 800.906 Q54.9967 805.871 46.5303 805.871 Q37.7774 805.871 32.6531 801.161 Q27.4968 796.418 27.4968 788.397 Q27.4968 781.204 32.1438 777.035 Q36.7589 772.833 44.7161 772.833 M42.9973 778.69 Q38.1912 778.753 35.3266 781.395 Q32.4621 784.005 32.4621 788.334 Q32.4621 793.235 35.2312 796.195 Q38.0002 799.124 43.0292 799.569 L42.9973 778.69 Z\" fill=\"#000000\" fill-rule=\"evenodd\" fill-opacity=\"1\" /><path clip-path=\"url(#clip880)\" d=\"M33.8307 742.564 Q33.2578 743.551 33.0032 744.729 Q32.7167 745.875 32.7167 747.275 Q32.7167 752.24 35.9632 754.914 Q39.1779 757.556 45.2253 757.556 L64.0042 757.556 L64.0042 763.444 L28.3562 763.444 L28.3562 757.556 L33.8944 757.556 Q30.6479 755.71 29.0883 752.749 Q27.4968 749.789 27.4968 745.556 Q27.4968 744.951 27.5923 744.219 Q27.656 743.487 27.8151 742.596 L33.8307 742.564 Z\" fill=\"#000000\" fill-rule=\"evenodd\" fill-opacity=\"1\" /><path clip-path=\"url(#clip880)\" d=\"M46.0847 720.221 Q46.0847 727.318 47.7079 730.056 Q49.3312 732.793 53.2461 732.793 Q56.3653 732.793 58.2114 730.756 Q60.0256 728.687 60.0256 725.154 Q60.0256 720.284 56.5881 717.356 Q53.1188 714.396 47.3897 714.396 L46.0847 714.396 L46.0847 720.221 M43.6657 708.54 L64.0042 708.54 L64.0042 714.396 L58.5933 714.396 Q61.8398 716.401 63.3994 719.393 Q64.9272 722.385 64.9272 726.714 Q64.9272 732.188 61.8716 735.435 Q58.7843 738.649 53.6281 738.649 Q47.6125 738.649 44.5569 734.639 Q41.5014 730.597 41.5014 722.608 L41.5014 714.396 L40.9285 714.396 Q36.8862 714.396 34.6901 717.07 Q32.4621 719.711 32.4621 724.518 Q32.4621 727.573 33.1941 730.47 Q33.9262 733.366 35.3903 736.04 L29.9795 736.04 Q28.7381 732.825 28.1334 729.801 Q27.4968 726.777 27.4968 723.913 Q27.4968 716.179 31.5072 712.359 Q35.5176 708.54 43.6657 708.54 Z\" fill=\"#000000\" fill-rule=\"evenodd\" fill-opacity=\"1\" /><path clip-path=\"url(#clip880)\" d=\"M18.2347 690.684 L28.3562 690.684 L28.3562 678.621 L32.9077 678.621 L32.9077 690.684 L52.2594 690.684 Q56.6199 690.684 57.8613 689.506 Q59.1026 688.297 59.1026 684.636 L59.1026 678.621 L64.0042 678.621 L64.0042 684.636 Q64.0042 691.416 61.4897 693.994 Q58.9434 696.572 52.2594 696.572 L32.9077 696.572 L32.9077 700.869 L28.3562 700.869 L28.3562 696.572 L18.2347 696.572 L18.2347 690.684 Z\" fill=\"#000000\" fill-rule=\"evenodd\" fill-opacity=\"1\" /><path clip-path=\"url(#clip880)\" d=\"M28.3562 670.918 L28.3562 665.062 L64.0042 665.062 L64.0042 670.918 L28.3562 670.918 M14.479 670.918 L14.479 665.062 L21.895 665.062 L21.895 670.918 L14.479 670.918 Z\" fill=\"#000000\" fill-rule=\"evenodd\" fill-opacity=\"1\" /><path clip-path=\"url(#clip880)\" d=\"M32.4621 638.994 Q32.4621 643.705 36.1542 646.442 Q39.8145 649.179 46.212 649.179 Q52.6095 649.179 56.3017 646.474 Q59.9619 643.737 59.9619 638.994 Q59.9619 634.316 56.2698 631.578 Q52.5777 628.841 46.212 628.841 Q39.8781 628.841 36.186 631.578 Q32.4621 634.316 32.4621 638.994 M27.4968 638.994 Q27.4968 631.355 32.4621 626.995 Q37.4273 622.634 46.212 622.634 Q54.9649 622.634 59.9619 626.995 Q64.9272 631.355 64.9272 638.994 Q64.9272 646.665 59.9619 651.025 Q54.9649 655.354 46.212 655.354 Q37.4273 655.354 32.4621 651.025 Q27.4968 646.665 27.4968 638.994 Z\" fill=\"#000000\" fill-rule=\"evenodd\" fill-opacity=\"1\" /><path clip-path=\"url(#clip880)\" d=\"M42.4881 583.294 L64.0042 583.294 L64.0042 589.151 L42.679 589.151 Q37.6183 589.151 35.1038 591.124 Q32.5894 593.098 32.5894 597.044 Q32.5894 601.787 35.6131 604.524 Q38.6368 607.261 43.8567 607.261 L64.0042 607.261 L64.0042 613.15 L28.3562 613.15 L28.3562 607.261 L33.8944 607.261 Q30.6797 605.161 29.0883 602.328 Q27.4968 599.463 27.4968 595.739 Q27.4968 589.596 31.3163 586.445 Q35.1038 583.294 42.4881 583.294 Z\" fill=\"#000000\" fill-rule=\"evenodd\" fill-opacity=\"1\" /><path clip-path=\"url(#clip880)\" d=\"M29.4065 548.888 L34.9447 548.888 Q33.6716 551.37 33.035 554.044 Q32.3984 556.718 32.3984 559.582 Q32.3984 563.943 33.7352 566.139 Q35.072 568.303 37.7456 568.303 Q39.7826 568.303 40.9603 566.744 Q42.1061 565.184 43.1565 560.473 L43.6021 558.468 Q44.9389 552.23 47.3897 549.62 Q49.8086 546.978 54.1691 546.978 Q59.1344 546.978 62.0308 550.925 Q64.9272 554.84 64.9272 561.715 Q64.9272 564.579 64.3543 567.698 Q63.8132 570.786 62.6992 574.223 L56.6518 574.223 Q58.3387 570.977 59.198 567.826 Q60.0256 564.675 60.0256 561.587 Q60.0256 557.45 58.6251 555.222 Q57.1929 552.994 54.6147 552.994 Q52.2276 552.994 50.9545 554.617 Q49.6813 556.208 48.5037 561.651 L48.0262 563.688 Q46.8804 569.131 44.5251 571.55 Q42.138 573.969 38.0002 573.969 Q32.9713 573.969 30.2341 570.404 Q27.4968 566.839 27.4968 560.282 Q27.4968 557.036 27.9743 554.171 Q28.4517 551.307 29.4065 548.888 Z\" fill=\"#000000\" fill-rule=\"evenodd\" fill-opacity=\"1\" /><polyline clip-path=\"url(#clip882)\" style=\"stroke:#009af9; stroke-linecap:round; stroke-linejoin:round; stroke-width:4; stroke-opacity:1; fill:none\" points=\"265.251,86.1857 335.137,464.784 405.023,1384.24 474.91,1384.24 544.796,1384.24 614.683,1384.24 684.569,1384.24 754.455,1384.24 824.342,1384.24 894.228,1384.24 964.114,1384.24 1034,1384.24 1103.89,1384.24 1173.77,1384.24 1243.66,1384.24 1313.55,1384.24 1383.43,1384.24 1453.32,1384.24 1523.2,1384.24 1593.09,1384.24 1662.98,1384.24 1732.86,1384.24 1802.75,1384.24 1872.64,1384.24 1942.52,1384.24 2012.41,1384.24 2082.3,1384.24 2152.18,1384.24 2222.07,1384.24 2291.95,1384.24 \"/>\n",
       "<path clip-path=\"url(#clip882)\" d=\"M249.251 70.1857 L249.251 102.186 L281.251 102.186 L281.251 70.1857 L249.251 70.1857 Z\" fill=\"#ff0000\" fill-rule=\"evenodd\" fill-opacity=\"1\" stroke=\"#000000\" stroke-opacity=\"1\" stroke-width=\"3.2\"/>\n",
       "<path clip-path=\"url(#clip882)\" d=\"M319.137 448.784 L319.137 480.784 L351.137 480.784 L351.137 448.784 L319.137 448.784 Z\" fill=\"#ff0000\" fill-rule=\"evenodd\" fill-opacity=\"1\" stroke=\"#000000\" stroke-opacity=\"1\" stroke-width=\"3.2\"/>\n",
       "<path clip-path=\"url(#clip882)\" d=\"M389.023 1368.24 L389.023 1400.24 L421.023 1400.24 L421.023 1368.24 L389.023 1368.24 Z\" fill=\"#ff0000\" fill-rule=\"evenodd\" fill-opacity=\"1\" stroke=\"#000000\" stroke-opacity=\"1\" stroke-width=\"3.2\"/>\n",
       "<path clip-path=\"url(#clip882)\" d=\"M458.91 1368.24 L458.91 1400.24 L490.91 1400.24 L490.91 1368.24 L458.91 1368.24 Z\" fill=\"#ff0000\" fill-rule=\"evenodd\" fill-opacity=\"1\" stroke=\"#000000\" stroke-opacity=\"1\" stroke-width=\"3.2\"/>\n",
       "<path clip-path=\"url(#clip882)\" d=\"M528.796 1368.24 L528.796 1400.24 L560.796 1400.24 L560.796 1368.24 L528.796 1368.24 Z\" fill=\"#ff0000\" fill-rule=\"evenodd\" fill-opacity=\"1\" stroke=\"#000000\" stroke-opacity=\"1\" stroke-width=\"3.2\"/>\n",
       "<path clip-path=\"url(#clip882)\" d=\"M598.683 1368.24 L598.683 1400.24 L630.683 1400.24 L630.683 1368.24 L598.683 1368.24 Z\" fill=\"#ff0000\" fill-rule=\"evenodd\" fill-opacity=\"1\" stroke=\"#000000\" stroke-opacity=\"1\" stroke-width=\"3.2\"/>\n",
       "<path clip-path=\"url(#clip882)\" d=\"M668.569 1368.24 L668.569 1400.24 L700.569 1400.24 L700.569 1368.24 L668.569 1368.24 Z\" fill=\"#ff0000\" fill-rule=\"evenodd\" fill-opacity=\"1\" stroke=\"#000000\" stroke-opacity=\"1\" stroke-width=\"3.2\"/>\n",
       "<path clip-path=\"url(#clip882)\" d=\"M738.455 1368.24 L738.455 1400.24 L770.455 1400.24 L770.455 1368.24 L738.455 1368.24 Z\" fill=\"#ff0000\" fill-rule=\"evenodd\" fill-opacity=\"1\" stroke=\"#000000\" stroke-opacity=\"1\" stroke-width=\"3.2\"/>\n",
       "<path clip-path=\"url(#clip882)\" d=\"M808.342 1368.24 L808.342 1400.24 L840.342 1400.24 L840.342 1368.24 L808.342 1368.24 Z\" fill=\"#ff0000\" fill-rule=\"evenodd\" fill-opacity=\"1\" stroke=\"#000000\" stroke-opacity=\"1\" stroke-width=\"3.2\"/>\n",
       "<path clip-path=\"url(#clip882)\" d=\"M878.228 1368.24 L878.228 1400.24 L910.228 1400.24 L910.228 1368.24 L878.228 1368.24 Z\" fill=\"#ff0000\" fill-rule=\"evenodd\" fill-opacity=\"1\" stroke=\"#000000\" stroke-opacity=\"1\" stroke-width=\"3.2\"/>\n",
       "<path clip-path=\"url(#clip882)\" d=\"M948.114 1368.24 L948.114 1400.24 L980.114 1400.24 L980.114 1368.24 L948.114 1368.24 Z\" fill=\"#ff0000\" fill-rule=\"evenodd\" fill-opacity=\"1\" stroke=\"#000000\" stroke-opacity=\"1\" stroke-width=\"3.2\"/>\n",
       "<path clip-path=\"url(#clip882)\" d=\"M1018 1368.24 L1018 1400.24 L1050 1400.24 L1050 1368.24 L1018 1368.24 Z\" fill=\"#ff0000\" fill-rule=\"evenodd\" fill-opacity=\"1\" stroke=\"#000000\" stroke-opacity=\"1\" stroke-width=\"3.2\"/>\n",
       "<path clip-path=\"url(#clip882)\" d=\"M1087.89 1368.24 L1087.89 1400.24 L1119.89 1400.24 L1119.89 1368.24 L1087.89 1368.24 Z\" fill=\"#ff0000\" fill-rule=\"evenodd\" fill-opacity=\"1\" stroke=\"#000000\" stroke-opacity=\"1\" stroke-width=\"3.2\"/>\n",
       "<path clip-path=\"url(#clip882)\" d=\"M1157.77 1368.24 L1157.77 1400.24 L1189.77 1400.24 L1189.77 1368.24 L1157.77 1368.24 Z\" fill=\"#ff0000\" fill-rule=\"evenodd\" fill-opacity=\"1\" stroke=\"#000000\" stroke-opacity=\"1\" stroke-width=\"3.2\"/>\n",
       "<path clip-path=\"url(#clip882)\" d=\"M1227.66 1368.24 L1227.66 1400.24 L1259.66 1400.24 L1259.66 1368.24 L1227.66 1368.24 Z\" fill=\"#ff0000\" fill-rule=\"evenodd\" fill-opacity=\"1\" stroke=\"#000000\" stroke-opacity=\"1\" stroke-width=\"3.2\"/>\n",
       "<path clip-path=\"url(#clip882)\" d=\"M1297.55 1368.24 L1297.55 1400.24 L1329.55 1400.24 L1329.55 1368.24 L1297.55 1368.24 Z\" fill=\"#ff0000\" fill-rule=\"evenodd\" fill-opacity=\"1\" stroke=\"#000000\" stroke-opacity=\"1\" stroke-width=\"3.2\"/>\n",
       "<path clip-path=\"url(#clip882)\" d=\"M1367.43 1368.24 L1367.43 1400.24 L1399.43 1400.24 L1399.43 1368.24 L1367.43 1368.24 Z\" fill=\"#ff0000\" fill-rule=\"evenodd\" fill-opacity=\"1\" stroke=\"#000000\" stroke-opacity=\"1\" stroke-width=\"3.2\"/>\n",
       "<path clip-path=\"url(#clip882)\" d=\"M1437.32 1368.24 L1437.32 1400.24 L1469.32 1400.24 L1469.32 1368.24 L1437.32 1368.24 Z\" fill=\"#ff0000\" fill-rule=\"evenodd\" fill-opacity=\"1\" stroke=\"#000000\" stroke-opacity=\"1\" stroke-width=\"3.2\"/>\n",
       "<path clip-path=\"url(#clip882)\" d=\"M1507.2 1368.24 L1507.2 1400.24 L1539.2 1400.24 L1539.2 1368.24 L1507.2 1368.24 Z\" fill=\"#ff0000\" fill-rule=\"evenodd\" fill-opacity=\"1\" stroke=\"#000000\" stroke-opacity=\"1\" stroke-width=\"3.2\"/>\n",
       "<path clip-path=\"url(#clip882)\" d=\"M1577.09 1368.24 L1577.09 1400.24 L1609.09 1400.24 L1609.09 1368.24 L1577.09 1368.24 Z\" fill=\"#ff0000\" fill-rule=\"evenodd\" fill-opacity=\"1\" stroke=\"#000000\" stroke-opacity=\"1\" stroke-width=\"3.2\"/>\n",
       "<path clip-path=\"url(#clip882)\" d=\"M1646.98 1368.24 L1646.98 1400.24 L1678.98 1400.24 L1678.98 1368.24 L1646.98 1368.24 Z\" fill=\"#ff0000\" fill-rule=\"evenodd\" fill-opacity=\"1\" stroke=\"#000000\" stroke-opacity=\"1\" stroke-width=\"3.2\"/>\n",
       "<path clip-path=\"url(#clip882)\" d=\"M1716.86 1368.24 L1716.86 1400.24 L1748.86 1400.24 L1748.86 1368.24 L1716.86 1368.24 Z\" fill=\"#ff0000\" fill-rule=\"evenodd\" fill-opacity=\"1\" stroke=\"#000000\" stroke-opacity=\"1\" stroke-width=\"3.2\"/>\n",
       "<path clip-path=\"url(#clip882)\" d=\"M1786.75 1368.24 L1786.75 1400.24 L1818.75 1400.24 L1818.75 1368.24 L1786.75 1368.24 Z\" fill=\"#ff0000\" fill-rule=\"evenodd\" fill-opacity=\"1\" stroke=\"#000000\" stroke-opacity=\"1\" stroke-width=\"3.2\"/>\n",
       "<path clip-path=\"url(#clip882)\" d=\"M1856.64 1368.24 L1856.64 1400.24 L1888.64 1400.24 L1888.64 1368.24 L1856.64 1368.24 Z\" fill=\"#ff0000\" fill-rule=\"evenodd\" fill-opacity=\"1\" stroke=\"#000000\" stroke-opacity=\"1\" stroke-width=\"3.2\"/>\n",
       "<path clip-path=\"url(#clip882)\" d=\"M1926.52 1368.24 L1926.52 1400.24 L1958.52 1400.24 L1958.52 1368.24 L1926.52 1368.24 Z\" fill=\"#ff0000\" fill-rule=\"evenodd\" fill-opacity=\"1\" stroke=\"#000000\" stroke-opacity=\"1\" stroke-width=\"3.2\"/>\n",
       "<path clip-path=\"url(#clip882)\" d=\"M1996.41 1368.24 L1996.41 1400.24 L2028.41 1400.24 L2028.41 1368.24 L1996.41 1368.24 Z\" fill=\"#ff0000\" fill-rule=\"evenodd\" fill-opacity=\"1\" stroke=\"#000000\" stroke-opacity=\"1\" stroke-width=\"3.2\"/>\n",
       "<path clip-path=\"url(#clip882)\" d=\"M2066.3 1368.24 L2066.3 1400.24 L2098.3 1400.24 L2098.3 1368.24 L2066.3 1368.24 Z\" fill=\"#ff0000\" fill-rule=\"evenodd\" fill-opacity=\"1\" stroke=\"#000000\" stroke-opacity=\"1\" stroke-width=\"3.2\"/>\n",
       "<path clip-path=\"url(#clip882)\" d=\"M2136.18 1368.24 L2136.18 1400.24 L2168.18 1400.24 L2168.18 1368.24 L2136.18 1368.24 Z\" fill=\"#ff0000\" fill-rule=\"evenodd\" fill-opacity=\"1\" stroke=\"#000000\" stroke-opacity=\"1\" stroke-width=\"3.2\"/>\n",
       "<path clip-path=\"url(#clip882)\" d=\"M2206.07 1368.24 L2206.07 1400.24 L2238.07 1400.24 L2238.07 1368.24 L2206.07 1368.24 Z\" fill=\"#ff0000\" fill-rule=\"evenodd\" fill-opacity=\"1\" stroke=\"#000000\" stroke-opacity=\"1\" stroke-width=\"3.2\"/>\n",
       "<path clip-path=\"url(#clip882)\" d=\"M2275.95 1368.24 L2275.95 1400.24 L2307.95 1400.24 L2307.95 1368.24 L2275.95 1368.24 Z\" fill=\"#ff0000\" fill-rule=\"evenodd\" fill-opacity=\"1\" stroke=\"#000000\" stroke-opacity=\"1\" stroke-width=\"3.2\"/>\n",
       "<path clip-path=\"url(#clip880)\" d=\"M1769.67 196.789 L2281.15 196.789 L2281.15 93.1086 L1769.67 93.1086  Z\" fill=\"#ffffff\" fill-rule=\"evenodd\" fill-opacity=\"1\"/>\n",
       "<polyline clip-path=\"url(#clip880)\" style=\"stroke:#000000; stroke-linecap:round; stroke-linejoin:round; stroke-width:4; stroke-opacity:1; fill:none\" points=\"1769.67,196.789 2281.15,196.789 2281.15,93.1086 1769.67,93.1086 1769.67,196.789 \"/>\n",
       "<polyline clip-path=\"url(#clip880)\" style=\"stroke:#009af9; stroke-linecap:round; stroke-linejoin:round; stroke-width:4; stroke-opacity:1; fill:none\" points=\"1793.54,144.949 1936.76,144.949 \"/>\n",
       "<path clip-path=\"url(#clip880)\" d=\"M1843.05 122.847 L1843.05 167.051 L1887.26 167.051 L1887.26 122.847 L1843.05 122.847 Z\" fill=\"#ff0000\" fill-rule=\"evenodd\" fill-opacity=\"1\" stroke=\"#000000\" stroke-opacity=\"1\" stroke-width=\"5.12\"/>\n",
       "<path clip-path=\"url(#clip880)\" d=\"M1979.55 140.238 L1979.55 126.21 L1983.8 126.21 L1983.8 162.229 L1979.55 162.229 L1979.55 158.34 Q1978.2 160.655 1976.14 161.789 Q1974.11 162.9 1971.24 162.9 Q1966.54 162.9 1963.57 159.15 Q1960.63 155.4 1960.63 149.289 Q1960.63 143.178 1963.57 139.428 Q1966.54 135.678 1971.24 135.678 Q1974.11 135.678 1976.14 136.812 Q1978.2 137.923 1979.55 140.238 M1965.03 149.289 Q1965.03 153.988 1966.95 156.673 Q1968.9 159.335 1972.28 159.335 Q1975.66 159.335 1977.6 156.673 Q1979.55 153.988 1979.55 149.289 Q1979.55 144.59 1977.6 141.928 Q1975.66 139.243 1972.28 139.243 Q1968.9 139.243 1966.95 141.928 Q1965.03 144.59 1965.03 149.289 Z\" fill=\"#000000\" fill-rule=\"evenodd\" fill-opacity=\"1\" /><path clip-path=\"url(#clip880)\" d=\"M2014.75 148.201 L2014.75 150.284 L1995.17 150.284 Q1995.45 154.682 1997.81 156.997 Q2000.19 159.289 2004.43 159.289 Q2006.88 159.289 2009.18 158.687 Q2011.49 158.085 2013.76 156.881 L2013.76 160.909 Q2011.47 161.881 2009.06 162.391 Q2006.65 162.9 2004.18 162.9 Q1997.97 162.9 1994.34 159.289 Q1990.73 155.678 1990.73 149.52 Q1990.73 143.155 1994.15 139.428 Q1997.6 135.678 2003.43 135.678 Q2008.67 135.678 2011.7 139.057 Q2014.75 142.414 2014.75 148.201 M2010.49 146.951 Q2010.45 143.456 2008.53 141.372 Q2006.63 139.289 2003.48 139.289 Q1999.92 139.289 1997.76 141.303 Q1995.63 143.317 1995.31 146.974 L2010.49 146.951 Z\" fill=\"#000000\" fill-rule=\"evenodd\" fill-opacity=\"1\" /><path clip-path=\"url(#clip880)\" d=\"M2040.4 137.298 L2040.4 141.28 Q2038.6 140.284 2036.77 139.798 Q2034.96 139.289 2033.11 139.289 Q2028.97 139.289 2026.68 141.928 Q2024.38 144.544 2024.38 149.289 Q2024.38 154.034 2026.68 156.673 Q2028.97 159.289 2033.11 159.289 Q2034.96 159.289 2036.77 158.803 Q2038.6 158.293 2040.4 157.298 L2040.4 161.233 Q2038.62 162.067 2036.7 162.483 Q2034.8 162.9 2032.65 162.9 Q2026.79 162.9 2023.34 159.219 Q2019.89 155.539 2019.89 149.289 Q2019.89 142.946 2023.36 139.312 Q2026.86 135.678 2032.92 135.678 Q2034.89 135.678 2036.77 136.095 Q2038.64 136.488 2040.4 137.298 Z\" fill=\"#000000\" fill-rule=\"evenodd\" fill-opacity=\"1\" /><path clip-path=\"url(#clip880)\" d=\"M2057.86 139.289 Q2054.43 139.289 2052.44 141.974 Q2050.45 144.636 2050.45 149.289 Q2050.45 153.942 2052.42 156.627 Q2054.41 159.289 2057.86 159.289 Q2061.26 159.289 2063.25 156.604 Q2065.24 153.918 2065.24 149.289 Q2065.24 144.682 2063.25 141.997 Q2061.26 139.289 2057.86 139.289 M2057.86 135.678 Q2063.41 135.678 2066.58 139.289 Q2069.75 142.9 2069.75 149.289 Q2069.75 155.655 2066.58 159.289 Q2063.41 162.9 2057.86 162.9 Q2052.28 162.9 2049.11 159.289 Q2045.96 155.655 2045.96 149.289 Q2045.96 142.9 2049.11 139.289 Q2052.28 135.678 2057.86 135.678 Z\" fill=\"#000000\" fill-rule=\"evenodd\" fill-opacity=\"1\" /><path clip-path=\"url(#clip880)\" d=\"M2097 141.28 Q2098.6 138.409 2100.82 137.044 Q2103.04 135.678 2106.05 135.678 Q2110.1 135.678 2112.3 138.525 Q2114.5 141.349 2114.5 146.581 L2114.5 162.229 L2110.22 162.229 L2110.22 146.719 Q2110.22 142.993 2108.9 141.187 Q2107.58 139.382 2104.87 139.382 Q2101.56 139.382 2099.64 141.581 Q2097.72 143.78 2097.72 147.576 L2097.72 162.229 L2093.43 162.229 L2093.43 146.719 Q2093.43 142.969 2092.11 141.187 Q2090.8 139.382 2088.04 139.382 Q2084.78 139.382 2082.86 141.604 Q2080.93 143.803 2080.93 147.576 L2080.93 162.229 L2076.65 162.229 L2076.65 136.303 L2080.93 136.303 L2080.93 140.331 Q2082.39 137.946 2084.43 136.812 Q2086.47 135.678 2089.27 135.678 Q2092.09 135.678 2094.06 137.113 Q2096.05 138.548 2097 141.28 Z\" fill=\"#000000\" fill-rule=\"evenodd\" fill-opacity=\"1\" /><path clip-path=\"url(#clip880)\" d=\"M2127.11 158.34 L2127.11 172.09 L2122.83 172.09 L2122.83 136.303 L2127.11 136.303 L2127.11 140.238 Q2128.46 137.923 2130.49 136.812 Q2132.55 135.678 2135.4 135.678 Q2140.12 135.678 2143.06 139.428 Q2146.03 143.178 2146.03 149.289 Q2146.03 155.4 2143.06 159.15 Q2140.12 162.9 2135.4 162.9 Q2132.55 162.9 2130.49 161.789 Q2128.46 160.655 2127.11 158.34 M2141.6 149.289 Q2141.6 144.59 2139.66 141.928 Q2137.74 139.243 2134.36 139.243 Q2130.98 139.243 2129.04 141.928 Q2127.11 144.59 2127.11 149.289 Q2127.11 153.988 2129.04 156.673 Q2130.98 159.335 2134.36 159.335 Q2137.74 159.335 2139.66 156.673 Q2141.6 153.988 2141.6 149.289 Z\" fill=\"#000000\" fill-rule=\"evenodd\" fill-opacity=\"1\" /><path clip-path=\"url(#clip880)\" d=\"M2163.13 139.289 Q2159.71 139.289 2157.72 141.974 Q2155.73 144.636 2155.73 149.289 Q2155.73 153.942 2157.69 156.627 Q2159.68 159.289 2163.13 159.289 Q2166.54 159.289 2168.53 156.604 Q2170.52 153.918 2170.52 149.289 Q2170.52 144.682 2168.53 141.997 Q2166.54 139.289 2163.13 139.289 M2163.13 135.678 Q2168.69 135.678 2171.86 139.289 Q2175.03 142.9 2175.03 149.289 Q2175.03 155.655 2171.86 159.289 Q2168.69 162.9 2163.13 162.9 Q2157.55 162.9 2154.38 159.289 Q2151.23 155.655 2151.23 149.289 Q2151.23 142.9 2154.38 139.289 Q2157.55 135.678 2163.13 135.678 Z\" fill=\"#000000\" fill-rule=\"evenodd\" fill-opacity=\"1\" /><path clip-path=\"url(#clip880)\" d=\"M2198.62 137.067 L2198.62 141.094 Q2196.81 140.169 2194.87 139.706 Q2192.92 139.243 2190.84 139.243 Q2187.67 139.243 2186.07 140.215 Q2184.5 141.187 2184.5 143.131 Q2184.5 144.613 2185.63 145.469 Q2186.77 146.303 2190.19 147.067 L2191.65 147.391 Q2196.19 148.363 2198.09 150.145 Q2200.01 151.905 2200.01 155.076 Q2200.01 158.687 2197.14 160.793 Q2194.29 162.9 2189.29 162.9 Q2187.21 162.9 2184.94 162.483 Q2182.69 162.09 2180.19 161.28 L2180.19 156.881 Q2182.55 158.108 2184.85 158.733 Q2187.14 159.335 2189.38 159.335 Q2192.39 159.335 2194.01 158.317 Q2195.63 157.275 2195.63 155.4 Q2195.63 153.664 2194.45 152.738 Q2193.29 151.812 2189.34 150.956 L2187.85 150.608 Q2183.9 149.775 2182.14 148.062 Q2180.38 146.326 2180.38 143.317 Q2180.38 139.659 2182.97 137.669 Q2185.56 135.678 2190.33 135.678 Q2192.69 135.678 2194.78 136.025 Q2196.86 136.372 2198.62 137.067 Z\" fill=\"#000000\" fill-rule=\"evenodd\" fill-opacity=\"1\" /><path clip-path=\"url(#clip880)\" d=\"M2228.97 148.201 L2228.97 150.284 L2209.38 150.284 Q2209.66 154.682 2212.02 156.997 Q2214.41 159.289 2218.64 159.289 Q2221.1 159.289 2223.39 158.687 Q2225.7 158.085 2227.97 156.881 L2227.97 160.909 Q2225.68 161.881 2223.27 162.391 Q2220.86 162.9 2218.39 162.9 Q2212.18 162.9 2208.55 159.289 Q2204.94 155.678 2204.94 149.52 Q2204.94 143.155 2208.36 139.428 Q2211.81 135.678 2217.65 135.678 Q2222.88 135.678 2225.91 139.057 Q2228.97 142.414 2228.97 148.201 M2224.71 146.951 Q2224.66 143.456 2222.74 141.372 Q2220.84 139.289 2217.69 139.289 Q2214.13 139.289 2211.97 141.303 Q2209.85 143.317 2209.52 146.974 L2224.71 146.951 Z\" fill=\"#000000\" fill-rule=\"evenodd\" fill-opacity=\"1\" /><path clip-path=\"url(#clip880)\" d=\"M2253.02 140.238 L2253.02 126.21 L2257.28 126.21 L2257.28 162.229 L2253.02 162.229 L2253.02 158.34 Q2251.67 160.655 2249.61 161.789 Q2247.58 162.9 2244.71 162.9 Q2240.01 162.9 2237.04 159.15 Q2234.1 155.4 2234.1 149.289 Q2234.1 143.178 2237.04 139.428 Q2240.01 135.678 2244.71 135.678 Q2247.58 135.678 2249.61 136.812 Q2251.67 137.923 2253.02 140.238 M2238.5 149.289 Q2238.5 153.988 2240.42 156.673 Q2242.37 159.335 2245.75 159.335 Q2249.13 159.335 2251.07 156.673 Q2253.02 153.988 2253.02 149.289 Q2253.02 144.59 2251.07 141.928 Q2249.13 139.243 2245.75 139.243 Q2242.37 139.243 2240.42 141.928 Q2238.5 144.59 2238.5 149.289 Z\" fill=\"#000000\" fill-rule=\"evenodd\" fill-opacity=\"1\" /></svg>\n"
      ]
     },
     "metadata": {},
     "output_type": "display_data"
    }
   ],
   "source": [
    "# number of iterations\n",
    "p6 = plot(1:nReactMax,iterTraj_r,xlabel=\"# reactors\", ylabel=\"# iterations\",yticks=int_ticks(iterTraj_r; step=1),marker=:square, markercolor = :red,label=\"decomposed\",gridlinewidth=2)\n",
    "display(p6)"
   ]
  },
  {
   "cell_type": "code",
   "execution_count": 22,
   "id": "3c8c1018",
   "metadata": {},
   "outputs": [
    {
     "data": {
      "image/svg+xml": [
       "<?xml version=\"1.0\" encoding=\"utf-8\"?>\n",
       "<svg xmlns=\"http://www.w3.org/2000/svg\" xmlns:xlink=\"http://www.w3.org/1999/xlink\" width=\"600\" height=\"400\" viewBox=\"0 0 2400 1600\">\n",
       "<defs>\n",
       "  <clipPath id=\"clip920\">\n",
       "    <rect x=\"0\" y=\"0\" width=\"2400\" height=\"1600\"/>\n",
       "  </clipPath>\n",
       "</defs>\n",
       "<path clip-path=\"url(#clip920)\" d=\"M0 1600 L2400 1600 L2400 0 L0 0  Z\" fill=\"#ffffff\" fill-rule=\"evenodd\" fill-opacity=\"1\"/>\n",
       "<defs>\n",
       "  <clipPath id=\"clip921\">\n",
       "    <rect x=\"480\" y=\"0\" width=\"1681\" height=\"1600\"/>\n",
       "  </clipPath>\n",
       "</defs>\n",
       "<path clip-path=\"url(#clip920)\" d=\"M280.487 1423.18 L2352.76 1423.18 L2352.76 47.2441 L280.487 47.2441  Z\" fill=\"#ffffff\" fill-rule=\"evenodd\" fill-opacity=\"1\"/>\n",
       "<defs>\n",
       "  <clipPath id=\"clip922\">\n",
       "    <rect x=\"280\" y=\"47\" width=\"2073\" height=\"1377\"/>\n",
       "  </clipPath>\n",
       "</defs>\n",
       "<polyline clip-path=\"url(#clip920)\" style=\"stroke:#000000; stroke-linecap:round; stroke-linejoin:round; stroke-width:4; stroke-opacity:1; fill:none\" points=\"549.882,1423.18 64251.4,1423.18 \"/>\n",
       "<path clip-path=\"url(#clip920)\" d=\"M10632.1 1451.02 L10650.5 1451.02 L10650.5 1454.96 L10636.4 1454.96 L10636.4 1463.43 Q10637.4 1463.08 10638.4 1462.92 Q10639.4 1462.73 10640.5 1462.73 Q10646.3 1462.73 10649.6 1465.9 Q10653 1469.08 10653 1474.49 Q10653 1480.07 10649.5 1483.17 Q10646.1 1486.25 10639.7 1486.25 Q10637.6 1486.25 10635.3 1485.88 Q10633.1 1485.51 10630.7 1484.77 L10630.7 1480.07 Q10632.7 1481.2 10635 1481.76 Q10637.2 1482.32 10639.7 1482.32 Q10643.7 1482.32 10646 1480.21 Q10648.3 1478.1 10648.3 1474.49 Q10648.3 1470.88 10646 1468.77 Q10643.7 1466.67 10639.7 1466.67 Q10637.8 1466.67 10635.9 1467.08 Q10634.1 1467.5 10632.1 1468.38 L10632.1 1451.02 Z\" fill=\"#000000\" fill-rule=\"evenodd\" fill-opacity=\"1\" /><path clip-path=\"url(#clip920)\" d=\"M20977.9 1481.64 L20985.5 1481.64 L20985.5 1455.28 L20977.2 1456.95 L20977.2 1452.69 L20985.5 1451.02 L20990.1 1451.02 L20990.1 1481.64 L20997.8 1481.64 L20997.8 1485.58 L20977.9 1485.58 L20977.9 1481.64 Z\" fill=\"#000000\" fill-rule=\"evenodd\" fill-opacity=\"1\" /><path clip-path=\"url(#clip920)\" d=\"M21017.2 1454.1 Q21013.6 1454.1 21011.8 1457.66 Q21010 1461.2 21010 1468.33 Q21010 1475.44 21011.8 1479.01 Q21013.6 1482.55 21017.2 1482.55 Q21020.9 1482.55 21022.7 1479.01 Q21024.5 1475.44 21024.5 1468.33 Q21024.5 1461.2 21022.7 1457.66 Q21020.9 1454.1 21017.2 1454.1 M21017.2 1450.39 Q21023 1450.39 21026.1 1455 Q21029.2 1459.58 21029.2 1468.33 Q21029.2 1477.06 21026.1 1481.67 Q21023 1486.25 21017.2 1486.25 Q21011.4 1486.25 21008.3 1481.67 Q21005.3 1477.06 21005.3 1468.33 Q21005.3 1459.58 21008.3 1455 Q21011.4 1450.39 21017.2 1450.39 Z\" fill=\"#000000\" fill-rule=\"evenodd\" fill-opacity=\"1\" /><path clip-path=\"url(#clip920)\" d=\"M31339.7 1481.64 L31347.4 1481.64 L31347.4 1455.28 L31339 1456.95 L31339 1452.69 L31347.3 1451.02 L31352 1451.02 L31352 1481.64 L31359.6 1481.64 L31359.6 1485.58 L31339.7 1485.58 L31339.7 1481.64 Z\" fill=\"#000000\" fill-rule=\"evenodd\" fill-opacity=\"1\" /><path clip-path=\"url(#clip920)\" d=\"M31369.1 1451.02 L31387.5 1451.02 L31387.5 1454.96 L31373.4 1454.96 L31373.4 1463.43 Q31374.4 1463.08 31375.4 1462.92 Q31376.4 1462.73 31377.5 1462.73 Q31383.3 1462.73 31386.6 1465.9 Q31390 1469.08 31390 1474.49 Q31390 1480.07 31386.5 1483.17 Q31383.1 1486.25 31376.7 1486.25 Q31374.6 1486.25 31372.3 1485.88 Q31370.1 1485.51 31367.7 1484.77 L31367.7 1480.07 Q31369.7 1481.2 31372 1481.76 Q31374.2 1482.32 31376.7 1482.32 Q31380.7 1482.32 31383 1480.21 Q31385.3 1478.1 31385.3 1474.49 Q31385.3 1470.88 31383 1468.77 Q31380.7 1466.67 31376.7 1466.67 Q31374.8 1466.67 31372.9 1467.08 Q31371.1 1467.5 31369.1 1468.38 L31369.1 1451.02 Z\" fill=\"#000000\" fill-rule=\"evenodd\" fill-opacity=\"1\" /><path clip-path=\"url(#clip920)\" d=\"M41704.6 1481.64 L41721 1481.64 L41721 1485.58 L41699 1485.58 L41699 1481.64 Q41701.7 1478.89 41706.3 1474.26 Q41710.9 1469.61 41712.1 1468.27 Q41714.3 1465.74 41715.2 1464.01 Q41716.1 1462.25 41716.1 1460.56 Q41716.1 1457.8 41714.1 1456.07 Q41712.2 1454.33 41709.1 1454.33 Q41706.9 1454.33 41704.5 1455.09 Q41702 1455.86 41699.3 1457.41 L41699.3 1452.69 Q41702.1 1451.55 41704.5 1450.97 Q41707 1450.39 41709 1450.39 Q41714.4 1450.39 41717.6 1453.08 Q41720.8 1455.77 41720.8 1460.26 Q41720.8 1462.39 41720 1464.31 Q41719.2 1466.2 41717.1 1468.8 Q41716.5 1469.47 41713.4 1472.69 Q41710.3 1475.88 41704.6 1481.64 Z\" fill=\"#000000\" fill-rule=\"evenodd\" fill-opacity=\"1\" /><path clip-path=\"url(#clip920)\" d=\"M41740.8 1454.1 Q41737.2 1454.1 41735.3 1457.66 Q41733.5 1461.2 41733.5 1468.33 Q41733.5 1475.44 41735.3 1479.01 Q41737.2 1482.55 41740.8 1482.55 Q41744.4 1482.55 41746.2 1479.01 Q41748 1475.44 41748 1468.33 Q41748 1461.2 41746.2 1457.66 Q41744.4 1454.1 41740.8 1454.1 M41740.8 1450.39 Q41746.6 1450.39 41749.6 1455 Q41752.7 1459.58 41752.7 1468.33 Q41752.7 1477.06 41749.6 1481.67 Q41746.6 1486.25 41740.8 1486.25 Q41735 1486.25 41731.9 1481.67 Q41728.8 1477.06 41728.8 1468.33 Q41728.8 1459.58 41731.9 1455 Q41735 1450.39 41740.8 1450.39 Z\" fill=\"#000000\" fill-rule=\"evenodd\" fill-opacity=\"1\" /><path clip-path=\"url(#clip920)\" d=\"M52066.5 1481.64 L52082.8 1481.64 L52082.8 1485.58 L52060.9 1485.58 L52060.9 1481.64 Q52063.5 1478.89 52068.1 1474.26 Q52072.7 1469.61 52073.9 1468.27 Q52076.1 1465.74 52077 1464.01 Q52077.9 1462.25 52077.9 1460.56 Q52077.9 1457.8 52076 1456.07 Q52074.1 1454.33 52071 1454.33 Q52068.8 1454.33 52066.3 1455.09 Q52063.9 1455.86 52061.1 1457.41 L52061.1 1452.69 Q52063.9 1451.55 52066.4 1450.97 Q52068.8 1450.39 52070.9 1450.39 Q52076.2 1450.39 52079.4 1453.08 Q52082.6 1455.77 52082.6 1460.26 Q52082.6 1462.39 52081.8 1464.31 Q52081 1466.2 52078.9 1468.8 Q52078.3 1469.47 52075.2 1472.69 Q52072.1 1475.88 52066.5 1481.64 Z\" fill=\"#000000\" fill-rule=\"evenodd\" fill-opacity=\"1\" /><path clip-path=\"url(#clip920)\" d=\"M52092.7 1451.02 L52111 1451.02 L52111 1454.96 L52097 1454.96 L52097 1463.43 Q52098 1463.08 52099 1462.92 Q52100 1462.73 52101 1462.73 Q52106.8 1462.73 52110.2 1465.9 Q52113.6 1469.08 52113.6 1474.49 Q52113.6 1480.07 52110.1 1483.17 Q52106.6 1486.25 52100.3 1486.25 Q52098.1 1486.25 52095.9 1485.88 Q52093.6 1485.51 52091.2 1484.77 L52091.2 1480.07 Q52093.3 1481.2 52095.5 1481.76 Q52097.7 1482.32 52100.2 1482.32 Q52104.2 1482.32 52106.6 1480.21 Q52108.9 1478.1 52108.9 1474.49 Q52108.9 1470.88 52106.6 1468.77 Q52104.2 1466.67 52100.2 1466.67 Q52098.3 1466.67 52096.5 1467.08 Q52094.6 1467.5 52092.7 1468.38 L52092.7 1451.02 Z\" fill=\"#000000\" fill-rule=\"evenodd\" fill-opacity=\"1\" /><path clip-path=\"url(#clip920)\" d=\"M62437.4 1466.95 Q62440.8 1467.66 62442.6 1469.93 Q62444.5 1472.2 62444.5 1475.53 Q62444.5 1480.65 62441 1483.45 Q62437.5 1486.25 62431 1486.25 Q62428.8 1486.25 62426.5 1485.81 Q62424.2 1485.39 62421.8 1484.54 L62421.8 1480.02 Q62423.7 1481.16 62426 1481.74 Q62428.4 1482.32 62430.9 1482.32 Q62435.3 1482.32 62437.6 1480.58 Q62439.9 1478.84 62439.9 1475.53 Q62439.9 1472.48 62437.7 1470.77 Q62435.6 1469.03 62431.8 1469.03 L62427.8 1469.03 L62427.8 1465.19 L62432 1465.19 Q62435.4 1465.19 62437.2 1463.82 Q62439.1 1462.43 62439.1 1459.84 Q62439.1 1457.18 62437.2 1455.77 Q62435.3 1454.33 62431.8 1454.33 Q62429.9 1454.33 62427.7 1454.75 Q62425.5 1455.16 62422.8 1456.04 L62422.8 1451.88 Q62425.5 1451.14 62427.8 1450.77 Q62430.1 1450.39 62432.2 1450.39 Q62437.5 1450.39 62440.6 1452.83 Q62443.7 1455.23 62443.7 1459.35 Q62443.7 1462.22 62442.1 1464.21 Q62440.4 1466.18 62437.4 1466.95 Z\" fill=\"#000000\" fill-rule=\"evenodd\" fill-opacity=\"1\" /><path clip-path=\"url(#clip920)\" d=\"M62463.4 1454.1 Q62459.8 1454.1 62458 1457.66 Q62456.2 1461.2 62456.2 1468.33 Q62456.2 1475.44 62458 1479.01 Q62459.8 1482.55 62463.4 1482.55 Q62467 1482.55 62468.8 1479.01 Q62470.7 1475.44 62470.7 1468.33 Q62470.7 1461.2 62468.8 1457.66 Q62467 1454.1 62463.4 1454.1 M62463.4 1450.39 Q62469.2 1450.39 62472.3 1455 Q62475.3 1459.58 62475.3 1468.33 Q62475.3 1477.06 62472.3 1481.67 Q62469.2 1486.25 62463.4 1486.25 Q62457.6 1486.25 62454.5 1481.67 Q62451.5 1477.06 62451.5 1468.33 Q62451.5 1459.58 62454.5 1455 Q62457.6 1450.39 62463.4 1450.39 Z\" fill=\"#000000\" fill-rule=\"evenodd\" fill-opacity=\"1\" /><path clip-path=\"url(#clip920)\" d=\"M1156.4 1539.37 L1147.13 1539.37 L1144.46 1550 L1153.79 1550 L1156.4 1539.37 M1151.62 1521.26 L1148.31 1534.46 L1157.61 1534.46 L1160.95 1521.26 L1166.04 1521.26 L1162.76 1534.46 L1172.69 1534.46 L1172.69 1539.37 L1161.52 1539.37 L1158.91 1550 L1169.03 1550 L1169.03 1554.87 L1157.67 1554.87 L1154.36 1568.04 L1149.27 1568.04 L1152.55 1554.87 L1143.22 1554.87 L1139.94 1568.04 L1134.82 1568.04 L1138.13 1554.87 L1128.1 1554.87 L1128.1 1550 L1139.3 1550 L1141.98 1539.37 L1131.73 1539.37 L1131.73 1534.46 L1143.22 1534.46 L1146.47 1521.26 L1151.62 1521.26 Z\" fill=\"#000000\" fill-rule=\"evenodd\" fill-opacity=\"1\" /><path clip-path=\"url(#clip920)\" d=\"M1227.28 1533.45 L1227.28 1538.98 Q1224.8 1537.71 1222.12 1537.07 Q1219.45 1536.44 1216.58 1536.44 Q1212.22 1536.44 1210.03 1537.77 Q1207.86 1539.11 1207.86 1541.79 Q1207.86 1543.82 1209.42 1545 Q1210.98 1546.15 1215.69 1547.2 L1217.7 1547.64 Q1223.94 1548.98 1226.55 1551.43 Q1229.19 1553.85 1229.19 1558.21 Q1229.19 1563.17 1225.24 1566.07 Q1221.33 1568.97 1214.45 1568.97 Q1211.59 1568.97 1208.47 1568.39 Q1205.38 1567.85 1201.94 1566.74 L1201.94 1560.69 Q1205.19 1562.38 1208.34 1563.24 Q1211.49 1564.07 1214.58 1564.07 Q1218.72 1564.07 1220.94 1562.66 Q1223.17 1561.23 1223.17 1558.65 Q1223.17 1556.27 1221.55 1554.99 Q1219.96 1553.72 1214.52 1552.54 L1212.48 1552.07 Q1207.04 1550.92 1204.62 1548.56 Q1202.2 1546.18 1202.2 1542.04 Q1202.2 1537.01 1205.76 1534.27 Q1209.33 1531.54 1215.88 1531.54 Q1219.13 1531.54 1222 1532.01 Q1224.86 1532.49 1227.28 1533.45 Z\" fill=\"#000000\" fill-rule=\"evenodd\" fill-opacity=\"1\" /><path clip-path=\"url(#clip920)\" d=\"M1264.17 1533.76 L1264.17 1539.24 Q1261.69 1537.87 1259.17 1537.2 Q1256.69 1536.5 1254.14 1536.5 Q1248.44 1536.5 1245.29 1540.13 Q1242.14 1543.73 1242.14 1550.25 Q1242.14 1556.78 1245.29 1560.4 Q1248.44 1564 1254.14 1564 Q1256.69 1564 1259.17 1563.33 Q1261.69 1562.63 1264.17 1561.26 L1264.17 1566.68 Q1261.72 1567.82 1259.08 1568.39 Q1256.47 1568.97 1253.51 1568.97 Q1245.45 1568.97 1240.71 1563.91 Q1235.97 1558.85 1235.97 1550.25 Q1235.97 1541.53 1240.74 1536.53 Q1245.55 1531.54 1253.89 1531.54 Q1256.59 1531.54 1259.17 1532.11 Q1261.75 1532.65 1264.17 1533.76 Z\" fill=\"#000000\" fill-rule=\"evenodd\" fill-opacity=\"1\" /><path clip-path=\"url(#clip920)\" d=\"M1304.84 1548.76 L1304.84 1551.62 L1277.92 1551.62 Q1278.3 1557.67 1281.55 1560.85 Q1284.82 1564 1290.65 1564 Q1294.02 1564 1297.17 1563.17 Q1300.36 1562.35 1303.48 1560.69 L1303.48 1566.23 Q1300.33 1567.57 1297.01 1568.27 Q1293.7 1568.97 1290.3 1568.97 Q1281.77 1568.97 1276.77 1564 Q1271.81 1559.04 1271.81 1550.57 Q1271.81 1541.82 1276.52 1536.69 Q1281.26 1531.54 1289.28 1531.54 Q1296.47 1531.54 1300.64 1536.18 Q1304.84 1540.8 1304.84 1548.76 M1298.99 1547.04 Q1298.92 1542.23 1296.28 1539.37 Q1293.67 1536.5 1289.34 1536.5 Q1284.44 1536.5 1281.48 1539.27 Q1278.55 1542.04 1278.11 1547.07 L1298.99 1547.04 Z\" fill=\"#000000\" fill-rule=\"evenodd\" fill-opacity=\"1\" /><path clip-path=\"url(#clip920)\" d=\"M1344.09 1546.53 L1344.09 1568.04 L1338.23 1568.04 L1338.23 1546.72 Q1338.23 1541.66 1336.26 1539.14 Q1334.29 1536.63 1330.34 1536.63 Q1325.6 1536.63 1322.86 1539.65 Q1320.12 1542.68 1320.12 1547.9 L1320.12 1568.04 L1314.23 1568.04 L1314.23 1532.4 L1320.12 1532.4 L1320.12 1537.93 Q1322.22 1534.72 1325.06 1533.13 Q1327.92 1531.54 1331.64 1531.54 Q1337.79 1531.54 1340.94 1535.36 Q1344.09 1539.14 1344.09 1546.53 Z\" fill=\"#000000\" fill-rule=\"evenodd\" fill-opacity=\"1\" /><path clip-path=\"url(#clip920)\" d=\"M1371.97 1550.12 Q1364.87 1550.12 1362.14 1551.75 Q1359.4 1553.37 1359.4 1557.29 Q1359.4 1560.4 1361.44 1562.25 Q1363.5 1564.07 1367.04 1564.07 Q1371.91 1564.07 1374.84 1560.63 Q1377.8 1557.16 1377.8 1551.43 L1377.8 1550.12 L1371.97 1550.12 M1383.65 1547.71 L1383.65 1568.04 L1377.8 1568.04 L1377.8 1562.63 Q1375.79 1565.88 1372.8 1567.44 Q1369.81 1568.97 1365.48 1568.97 Q1360 1568.97 1356.76 1565.91 Q1353.54 1562.82 1353.54 1557.67 Q1353.54 1551.65 1357.55 1548.6 Q1361.59 1545.54 1369.58 1545.54 L1377.8 1545.54 L1377.8 1544.97 Q1377.8 1540.93 1375.12 1538.73 Q1372.48 1536.5 1367.67 1536.5 Q1364.62 1536.5 1361.72 1537.23 Q1358.83 1537.97 1356.15 1539.43 L1356.15 1534.02 Q1359.37 1532.78 1362.39 1532.17 Q1365.41 1531.54 1368.28 1531.54 Q1376.01 1531.54 1379.83 1535.55 Q1383.65 1539.56 1383.65 1547.71 Z\" fill=\"#000000\" fill-rule=\"evenodd\" fill-opacity=\"1\" /><path clip-path=\"url(#clip920)\" d=\"M1416.37 1537.87 Q1415.39 1537.3 1414.21 1537.04 Q1413.06 1536.76 1411.66 1536.76 Q1406.7 1536.76 1404.02 1540 Q1401.38 1543.22 1401.38 1549.27 L1401.38 1568.04 L1395.49 1568.04 L1395.49 1532.4 L1401.38 1532.4 L1401.38 1537.93 Q1403.23 1534.69 1406.19 1533.13 Q1409.15 1531.54 1413.38 1531.54 Q1413.98 1531.54 1414.72 1531.63 Q1415.45 1531.7 1416.34 1531.85 L1416.37 1537.87 Z\" fill=\"#000000\" fill-rule=\"evenodd\" fill-opacity=\"1\" /><path clip-path=\"url(#clip920)\" d=\"M1422.51 1532.4 L1428.37 1532.4 L1428.37 1568.04 L1422.51 1568.04 L1422.51 1532.4 M1422.51 1518.52 L1428.37 1518.52 L1428.37 1525.93 L1422.51 1525.93 L1422.51 1518.52 Z\" fill=\"#000000\" fill-rule=\"evenodd\" fill-opacity=\"1\" /><path clip-path=\"url(#clip920)\" d=\"M1454.44 1536.5 Q1449.73 1536.5 1446.99 1540.19 Q1444.25 1543.85 1444.25 1550.25 Q1444.25 1556.65 1446.96 1560.34 Q1449.7 1564 1454.44 1564 Q1459.12 1564 1461.85 1560.31 Q1464.59 1556.62 1464.59 1550.25 Q1464.59 1543.92 1461.85 1540.23 Q1459.12 1536.5 1454.44 1536.5 M1454.44 1531.54 Q1462.08 1531.54 1466.44 1536.5 Q1470.8 1541.47 1470.8 1550.25 Q1470.8 1559 1466.44 1564 Q1462.08 1568.97 1454.44 1568.97 Q1446.77 1568.97 1442.41 1564 Q1438.08 1559 1438.08 1550.25 Q1438.08 1541.47 1442.41 1536.5 Q1446.77 1531.54 1454.44 1531.54 Z\" fill=\"#000000\" fill-rule=\"evenodd\" fill-opacity=\"1\" /><path clip-path=\"url(#clip920)\" d=\"M1503.23 1533.45 L1503.23 1538.98 Q1500.75 1537.71 1498.08 1537.07 Q1495.4 1536.44 1492.54 1536.44 Q1488.18 1536.44 1485.98 1537.77 Q1483.82 1539.11 1483.82 1541.79 Q1483.82 1543.82 1485.38 1545 Q1486.94 1546.15 1491.65 1547.2 L1493.65 1547.64 Q1499.89 1548.98 1502.5 1551.43 Q1505.14 1553.85 1505.14 1558.21 Q1505.14 1563.17 1501.19 1566.07 Q1497.28 1568.97 1490.41 1568.97 Q1487.54 1568.97 1484.42 1568.39 Q1481.33 1567.85 1477.9 1566.74 L1477.9 1560.69 Q1481.14 1562.38 1484.29 1563.24 Q1487.44 1564.07 1490.53 1564.07 Q1494.67 1564.07 1496.9 1562.66 Q1499.13 1561.23 1499.13 1558.65 Q1499.13 1556.27 1497.5 1554.99 Q1495.91 1553.72 1490.47 1552.54 L1488.43 1552.07 Q1482.99 1550.92 1480.57 1548.56 Q1478.15 1546.18 1478.15 1542.04 Q1478.15 1537.01 1481.72 1534.27 Q1485.28 1531.54 1491.84 1531.54 Q1495.08 1531.54 1497.95 1532.01 Q1500.81 1532.49 1503.23 1533.45 Z\" fill=\"#000000\" fill-rule=\"evenodd\" fill-opacity=\"1\" /><polyline clip-path=\"url(#clip922)\" style=\"stroke:#000000; stroke-linecap:round; stroke-linejoin:round; stroke-width:8; stroke-opacity:0.1; fill:none\" points=\"549.882,1423.18 64251.4,1423.18 \"/>\n",
       "<polyline clip-path=\"url(#clip920)\" style=\"stroke:#000000; stroke-linecap:round; stroke-linejoin:round; stroke-width:4; stroke-opacity:1; fill:none\" points=\"549.882,1423.18 1130.79,1423.18 \"/>\n",
       "<path clip-path=\"url(#clip920)\" d=\"M384.326 1442.97 L391.965 1442.97 L391.965 1416.61 L383.655 1418.27 L383.655 1414.01 L391.919 1412.35 L396.595 1412.35 L396.595 1442.97 L404.234 1442.97 L404.234 1446.91 L384.326 1446.91 L384.326 1442.97 Z\" fill=\"#000000\" fill-rule=\"evenodd\" fill-opacity=\"1\" /><path clip-path=\"url(#clip920)\" d=\"M423.678 1415.43 Q420.067 1415.43 418.238 1418.99 Q416.433 1422.53 416.433 1429.66 Q416.433 1436.77 418.238 1440.33 Q420.067 1443.88 423.678 1443.88 Q427.312 1443.88 429.118 1440.33 Q430.947 1436.77 430.947 1429.66 Q430.947 1422.53 429.118 1418.99 Q427.312 1415.43 423.678 1415.43 M423.678 1411.72 Q429.488 1411.72 432.544 1416.33 Q435.622 1420.91 435.622 1429.66 Q435.622 1438.39 432.544 1443 Q429.488 1447.58 423.678 1447.58 Q417.868 1447.58 414.789 1443 Q411.734 1438.39 411.734 1429.66 Q411.734 1420.91 414.789 1416.33 Q417.868 1411.72 423.678 1411.72 Z\" fill=\"#000000\" fill-rule=\"evenodd\" fill-opacity=\"1\" /><path clip-path=\"url(#clip920)\" d=\"M435.622 1405.82 L459.734 1405.82 L459.734 1409.02 L435.622 1409.02 L435.622 1405.82 Z\" fill=\"#000000\" fill-rule=\"evenodd\" fill-opacity=\"1\" /><path clip-path=\"url(#clip920)\" d=\"M467.596 1391.42 L471.395 1391.42 L471.395 1419.5 L467.596 1419.5 L467.596 1391.42 Z\" fill=\"#000000\" fill-rule=\"evenodd\" fill-opacity=\"1\" /><path clip-path=\"url(#clip920)\" d=\"M496.315 1406.78 L496.315 1419.5 L492.855 1419.5 L492.855 1406.9 Q492.855 1403.91 491.688 1402.42 Q490.522 1400.93 488.19 1400.93 Q485.388 1400.93 483.77 1402.72 Q482.153 1404.51 482.153 1407.59 L482.153 1419.5 L478.673 1419.5 L478.673 1398.43 L482.153 1398.43 L482.153 1401.7 Q483.394 1399.81 485.068 1398.86 Q486.761 1397.92 488.961 1397.92 Q492.591 1397.92 494.453 1400.18 Q496.315 1402.42 496.315 1406.78 Z\" fill=\"#000000\" fill-rule=\"evenodd\" fill-opacity=\"1\" /><path clip-path=\"url(#clip920)\" d=\"M513.882 1390.23 L513.882 1393.11 L510.571 1393.11 Q508.709 1393.11 507.976 1393.86 Q507.261 1394.61 507.261 1396.57 L507.261 1398.43 L512.96 1398.43 L512.96 1401.12 L507.261 1401.12 L507.261 1419.5 L503.782 1419.5 L503.782 1401.12 L500.472 1401.12 L500.472 1398.43 L503.782 1398.43 L503.782 1396.97 Q503.782 1393.45 505.418 1391.85 Q507.054 1390.23 510.609 1390.23 L513.882 1390.23 Z\" fill=\"#000000\" fill-rule=\"evenodd\" fill-opacity=\"1\" /><path clip-path=\"url(#clip920)\" d=\"Mnan nan Lnan nan Lnan nan Lnan nan Lnan nan Lnan nan Lnan nan Lnan nan Lnan nan Lnan nan Lnan nan Lnan nan Z\" fill=\"#000000\" fill-rule=\"evenodd\" fill-opacity=\"1\" /><path clip-path=\"url(#clip920)\" d=\"Mnan nan Qnan nan nan nan Qnan nan nan nan Qnan nan nan nan Qnan nan nan nan Qnan nan nan nan Qnan nan nan nan Qnan nan nan nan Qnan nan nan nan Mnan nan Qnan nan nan nan Qnan nan nan nan Qnan nan nan nan Qnan nan nan nan Qnan nan nan nan Qnan nan nan nan Qnan nan nan nan Qnan nan nan nan Z\" fill=\"#000000\" fill-rule=\"evenodd\" fill-opacity=\"1\" /><path clip-path=\"url(#clip920)\" d=\"Mnan nan Lnan nan Lnan nan Lnan nan Lnan nan Lnan nan Lnan nan Lnan nan Lnan nan Lnan nan Lnan nan Z\" fill=\"#000000\" fill-rule=\"evenodd\" fill-opacity=\"1\" /><path clip-path=\"url(#clip920)\" d=\"Mnan nan Qnan nan nan nan Qnan nan nan nan Qnan nan nan nan Qnan nan nan nan Qnan nan nan nan Qnan nan nan nan Lnan nan Lnan nan Mnan nan Lnan nan Lnan nan Lnan nan Qnan nan nan nan Qnan nan nan nan Qnan nan nan nan Qnan nan nan nan Qnan nan nan nan Qnan nan nan nan Lnan nan Lnan nan Qnan nan nan nan Qnan nan nan nan Qnan nan nan nan Qnan nan nan nan Lnan nan Qnan nan nan nan Qnan nan nan nan Qnan nan nan nan Qnan nan nan nan Z\" fill=\"#000000\" fill-rule=\"evenodd\" fill-opacity=\"1\" /><path clip-path=\"url(#clip920)\" d=\"Mnan nan Lnan nan Lnan nan Lnan nan Lnan nan Lnan nan Lnan nan Lnan nan Lnan nan Lnan nan Lnan nan Z\" fill=\"#000000\" fill-rule=\"evenodd\" fill-opacity=\"1\" /><path clip-path=\"url(#clip920)\" d=\"M32.4621 849.015 Q32.4621 853.726 36.1542 856.463 Q39.8145 859.2 46.212 859.2 Q52.6095 859.2 56.3017 856.495 Q59.9619 853.757 59.9619 849.015 Q59.9619 844.336 56.2698 841.599 Q52.5777 838.862 46.212 838.862 Q39.8781 838.862 36.186 841.599 Q32.4621 844.336 32.4621 849.015 M27.4968 849.015 Q27.4968 841.376 32.4621 837.016 Q37.4273 832.655 46.212 832.655 Q54.9649 832.655 59.9619 837.016 Q64.9272 841.376 64.9272 849.015 Q64.9272 856.686 59.9619 861.046 Q54.9649 865.375 46.212 865.375 Q37.4273 865.375 32.4621 861.046 Q27.4968 856.686 27.4968 849.015 Z\" fill=\"#000000\" fill-rule=\"evenodd\" fill-opacity=\"1\" /><path clip-path=\"url(#clip920)\" d=\"M58.657 817.282 L77.5631 817.282 L77.5631 823.17 L28.3562 823.17 L28.3562 817.282 L33.7671 817.282 Q30.5842 815.436 29.0564 812.635 Q27.4968 809.802 27.4968 805.887 Q27.4968 799.394 32.6531 795.352 Q37.8093 791.278 46.212 791.278 Q54.6147 791.278 59.771 795.352 Q64.9272 799.394 64.9272 805.887 Q64.9272 809.802 63.3994 812.635 Q61.8398 815.436 58.657 817.282 M46.212 797.357 Q39.7508 797.357 36.0905 800.031 Q32.3984 802.673 32.3984 807.32 Q32.3984 811.966 36.0905 814.64 Q39.7508 817.282 46.212 817.282 Q52.6732 817.282 56.3653 814.64 Q60.0256 811.966 60.0256 807.32 Q60.0256 802.673 56.3653 800.031 Q52.6732 797.357 46.212 797.357 Z\" fill=\"#000000\" fill-rule=\"evenodd\" fill-opacity=\"1\" /><path clip-path=\"url(#clip920)\" d=\"M18.2347 775.777 L28.3562 775.777 L28.3562 763.714 L32.9077 763.714 L32.9077 775.777 L52.2594 775.777 Q56.6199 775.777 57.8613 774.6 Q59.1026 773.39 59.1026 769.73 L59.1026 763.714 L64.0042 763.714 L64.0042 769.73 Q64.0042 776.509 61.4897 779.088 Q58.9434 781.666 52.2594 781.666 L32.9077 781.666 L32.9077 785.963 L28.3562 785.963 L28.3562 781.666 L18.2347 781.666 L18.2347 775.777 Z\" fill=\"#000000\" fill-rule=\"evenodd\" fill-opacity=\"1\" /><path clip-path=\"url(#clip920)\" d=\"M45.7664 711.834 Q39.4007 711.834 35.8996 714.476 Q32.3984 717.086 32.3984 721.828 Q32.3984 726.539 35.8996 729.18 Q39.4007 731.79 45.7664 731.79 Q52.1003 731.79 55.6014 729.18 Q59.1026 726.539 59.1026 721.828 Q59.1026 717.086 55.6014 714.476 Q52.1003 711.834 45.7664 711.834 M59.58 705.977 Q68.683 705.977 73.1071 710.02 Q77.5631 714.062 77.5631 722.401 Q77.5631 725.488 77.0857 728.226 Q76.6401 730.963 75.6852 733.541 L69.9879 733.541 Q71.3884 730.963 72.0568 728.448 Q72.7252 725.934 72.7252 723.324 Q72.7252 717.563 69.7015 714.698 Q66.7096 711.834 60.6303 711.834 L57.7339 711.834 Q60.885 713.648 62.4446 716.481 Q64.0042 719.314 64.0042 723.26 Q64.0042 729.817 59.0071 733.827 Q54.01 737.838 45.7664 737.838 Q37.491 737.838 32.4939 733.827 Q27.4968 729.817 27.4968 723.26 Q27.4968 719.314 29.0564 716.481 Q30.616 713.648 33.7671 711.834 L28.3562 711.834 L28.3562 705.977 L59.58 705.977 Z\" fill=\"#000000\" fill-rule=\"evenodd\" fill-opacity=\"1\" /><path clip-path=\"url(#clip920)\" d=\"M46.0847 677.714 Q46.0847 684.811 47.7079 687.549 Q49.3312 690.286 53.2461 690.286 Q56.3653 690.286 58.2114 688.249 Q60.0256 686.18 60.0256 682.647 Q60.0256 677.777 56.5881 674.849 Q53.1188 671.889 47.3897 671.889 L46.0847 671.889 L46.0847 677.714 M43.6657 666.033 L64.0042 666.033 L64.0042 671.889 L58.5933 671.889 Q61.8398 673.894 63.3994 676.886 Q64.9272 679.878 64.9272 684.207 Q64.9272 689.681 61.8716 692.928 Q58.7843 696.142 53.6281 696.142 Q47.6125 696.142 44.5569 692.132 Q41.5014 688.09 41.5014 680.101 L41.5014 671.889 L40.9285 671.889 Q36.8862 671.889 34.6901 674.563 Q32.4621 677.204 32.4621 682.011 Q32.4621 685.066 33.1941 687.963 Q33.9262 690.859 35.3903 693.533 L29.9795 693.533 Q28.7381 690.318 28.1334 687.294 Q27.4968 684.27 27.4968 681.406 Q27.4968 673.671 31.5072 669.852 Q35.5176 666.033 43.6657 666.033 Z\" fill=\"#000000\" fill-rule=\"evenodd\" fill-opacity=\"1\" /><path clip-path=\"url(#clip920)\" d=\"M58.657 648.304 L77.5631 648.304 L77.5631 654.192 L28.3562 654.192 L28.3562 648.304 L33.7671 648.304 Q30.5842 646.458 29.0564 643.657 Q27.4968 640.824 27.4968 636.91 Q27.4968 630.417 32.6531 626.374 Q37.8093 622.3 46.212 622.3 Q54.6147 622.3 59.771 626.374 Q64.9272 630.417 64.9272 636.91 Q64.9272 640.824 63.3994 643.657 Q61.8398 646.458 58.657 648.304 M46.212 628.379 Q39.7508 628.379 36.0905 631.053 Q32.3984 633.695 32.3984 638.342 Q32.3984 642.989 36.0905 645.662 Q39.7508 648.304 46.212 648.304 Q52.6732 648.304 56.3653 645.662 Q60.0256 642.989 60.0256 638.342 Q60.0256 633.695 56.3653 631.053 Q52.6732 628.379 46.212 628.379 Z\" fill=\"#000000\" fill-rule=\"evenodd\" fill-opacity=\"1\" /><path clip-path=\"url(#clip920)\" d=\"M55.9197 611.765 L55.9197 605.049 L64.0042 605.049 L64.0042 611.765 L55.9197 611.765 Z\" fill=\"#000000\" fill-rule=\"evenodd\" fill-opacity=\"1\" /><polyline clip-path=\"url(#clip922)\" style=\"stroke:#009af9; stroke-linecap:round; stroke-linejoin:round; stroke-width:4; stroke-opacity:1; fill:none\" points=\"2352.76,1423.16 4425.03,1423.14 6497.29,1423.18 8569.56,1423.18 10641.8,1423.18 12714.1,1423.18 14786.4,1423.18 16858.6,1423.18 18930.9,1423.18 21003.2,1423.18 23075.4,1423.18 25147.7,1423.18 27220,1423.18 29292.3,1423.18 31364.5,1423.18 33436.8,1423.18 35509.1,1423.18 37581.3,1423.18 39653.6,1423.18 41725.9,1423.18 43798.1,1423.18 45870.4,1423.18 47942.7,1423.18 50014.9,1423.18 52087.2,1423.18 54159.5,1423.18 56231.8,1423.18 58304,1423.18 60376.3,1423.18 62448.6,1423.18 \"/>\n",
       "<path clip-path=\"url(#clip922)\" d=\"M2336.76 1407.16 L2336.76 1439.16 L2368.76 1439.16 L2368.76 1407.16 L2336.76 1407.16 Z\" fill=\"#ff0000\" fill-rule=\"evenodd\" fill-opacity=\"1\" stroke=\"#000000\" stroke-opacity=\"1\" stroke-width=\"3.2\"/>\n",
       "<path clip-path=\"url(#clip920)\" d=\"M1779.81 196.789 L2283.68 196.789 L2283.68 93.1086 L1779.81 93.1086  Z\" fill=\"#ffffff\" fill-rule=\"evenodd\" fill-opacity=\"1\"/>\n",
       "<polyline clip-path=\"url(#clip920)\" style=\"stroke:#000000; stroke-linecap:round; stroke-linejoin:round; stroke-width:4; stroke-opacity:1; fill:none\" points=\"1779.81,196.789 2283.68,196.789 2283.68,93.1086 1779.81,93.1086 1779.81,196.789 \"/>\n",
       "<polyline clip-path=\"url(#clip920)\" style=\"stroke:#009af9; stroke-linecap:round; stroke-linejoin:round; stroke-width:4; stroke-opacity:1; fill:none\" points=\"1802.84,144.949 1940.99,144.949 \"/>\n",
       "<path clip-path=\"url(#clip920)\" d=\"M1850.59 123.629 L1850.59 166.268 L1893.23 166.268 L1893.23 123.629 L1850.59 123.629 Z\" fill=\"#ff0000\" fill-rule=\"evenodd\" fill-opacity=\"1\" stroke=\"#000000\" stroke-opacity=\"1\" stroke-width=\"5.12\"/>\n",
       "<path clip-path=\"url(#clip920)\" d=\"M1982.93 140.238 L1982.93 126.21 L1987.18 126.21 L1987.18 162.229 L1982.93 162.229 L1982.93 158.34 Q1981.58 160.655 1979.52 161.789 Q1977.49 162.9 1974.61 162.9 Q1969.92 162.9 1966.95 159.15 Q1964.01 155.4 1964.01 149.289 Q1964.01 143.178 1966.95 139.428 Q1969.92 135.678 1974.61 135.678 Q1977.49 135.678 1979.52 136.812 Q1981.58 137.923 1982.93 140.238 M1968.41 149.289 Q1968.41 153.988 1970.33 156.673 Q1972.28 159.335 1975.66 159.335 Q1979.04 159.335 1980.98 156.673 Q1982.93 153.988 1982.93 149.289 Q1982.93 144.59 1980.98 141.928 Q1979.04 139.243 1975.66 139.243 Q1972.28 139.243 1970.33 141.928 Q1968.41 144.59 1968.41 149.289 Z\" fill=\"#000000\" fill-rule=\"evenodd\" fill-opacity=\"1\" /><path clip-path=\"url(#clip920)\" d=\"M2018.13 148.201 L2018.13 150.284 L1998.55 150.284 Q1998.83 154.682 2001.19 156.997 Q2003.57 159.289 2007.81 159.289 Q2010.26 159.289 2012.55 158.687 Q2014.87 158.085 2017.14 156.881 L2017.14 160.909 Q2014.85 161.881 2012.44 162.391 Q2010.03 162.9 2007.55 162.9 Q2001.35 162.9 1997.72 159.289 Q1994.11 155.678 1994.11 149.52 Q1994.11 143.155 1997.53 139.428 Q2000.98 135.678 2006.81 135.678 Q2012.05 135.678 2015.08 139.057 Q2018.13 142.414 2018.13 148.201 M2013.87 146.951 Q2013.83 143.456 2011.91 141.372 Q2010.01 139.289 2006.86 139.289 Q2003.3 139.289 2001.14 141.303 Q1999.01 143.317 1998.69 146.974 L2013.87 146.951 Z\" fill=\"#000000\" fill-rule=\"evenodd\" fill-opacity=\"1\" /><path clip-path=\"url(#clip920)\" d=\"M2043.78 137.298 L2043.78 141.28 Q2041.98 140.284 2040.15 139.798 Q2038.34 139.289 2036.49 139.289 Q2032.35 139.289 2030.05 141.928 Q2027.76 144.544 2027.76 149.289 Q2027.76 154.034 2030.05 156.673 Q2032.35 159.289 2036.49 159.289 Q2038.34 159.289 2040.15 158.803 Q2041.98 158.293 2043.78 157.298 L2043.78 161.233 Q2042 162.067 2040.08 162.483 Q2038.18 162.9 2036.03 162.9 Q2030.17 162.9 2026.72 159.219 Q2023.27 155.539 2023.27 149.289 Q2023.27 142.946 2026.74 139.312 Q2030.24 135.678 2036.3 135.678 Q2038.27 135.678 2040.15 136.095 Q2042.02 136.488 2043.78 137.298 Z\" fill=\"#000000\" fill-rule=\"evenodd\" fill-opacity=\"1\" /><path clip-path=\"url(#clip920)\" d=\"M2061.23 139.289 Q2057.81 139.289 2055.82 141.974 Q2053.83 144.636 2053.83 149.289 Q2053.83 153.942 2055.8 156.627 Q2057.79 159.289 2061.23 159.289 Q2064.64 159.289 2066.63 156.604 Q2068.62 153.918 2068.62 149.289 Q2068.62 144.682 2066.63 141.997 Q2064.64 139.289 2061.23 139.289 M2061.23 135.678 Q2066.79 135.678 2069.96 139.289 Q2073.13 142.9 2073.13 149.289 Q2073.13 155.655 2069.96 159.289 Q2066.79 162.9 2061.23 162.9 Q2055.66 162.9 2052.48 159.289 Q2049.34 155.655 2049.34 149.289 Q2049.34 142.9 2052.48 139.289 Q2055.66 135.678 2061.23 135.678 Z\" fill=\"#000000\" fill-rule=\"evenodd\" fill-opacity=\"1\" /><path clip-path=\"url(#clip920)\" d=\"M2100.38 141.28 Q2101.98 138.409 2104.2 137.044 Q2106.42 135.678 2109.43 135.678 Q2113.48 135.678 2115.68 138.525 Q2117.88 141.349 2117.88 146.581 L2117.88 162.229 L2113.6 162.229 L2113.6 146.719 Q2113.6 142.993 2112.28 141.187 Q2110.96 139.382 2108.25 139.382 Q2104.94 139.382 2103.02 141.581 Q2101.1 143.78 2101.1 147.576 L2101.1 162.229 L2096.81 162.229 L2096.81 146.719 Q2096.81 142.969 2095.49 141.187 Q2094.17 139.382 2091.42 139.382 Q2088.16 139.382 2086.23 141.604 Q2084.31 143.803 2084.31 147.576 L2084.31 162.229 L2080.03 162.229 L2080.03 136.303 L2084.31 136.303 L2084.31 140.331 Q2085.77 137.946 2087.81 136.812 Q2089.85 135.678 2092.65 135.678 Q2095.47 135.678 2097.44 137.113 Q2099.43 138.548 2100.38 141.28 Z\" fill=\"#000000\" fill-rule=\"evenodd\" fill-opacity=\"1\" /><path clip-path=\"url(#clip920)\" d=\"M2130.49 158.34 L2130.49 172.09 L2126.21 172.09 L2126.21 136.303 L2130.49 136.303 L2130.49 140.238 Q2131.84 137.923 2133.87 136.812 Q2135.93 135.678 2138.78 135.678 Q2143.5 135.678 2146.44 139.428 Q2149.41 143.178 2149.41 149.289 Q2149.41 155.4 2146.44 159.15 Q2143.5 162.9 2138.78 162.9 Q2135.93 162.9 2133.87 161.789 Q2131.84 160.655 2130.49 158.34 M2144.98 149.289 Q2144.98 144.59 2143.04 141.928 Q2141.12 139.243 2137.74 139.243 Q2134.36 139.243 2132.41 141.928 Q2130.49 144.59 2130.49 149.289 Q2130.49 153.988 2132.41 156.673 Q2134.36 159.335 2137.74 159.335 Q2141.12 159.335 2143.04 156.673 Q2144.98 153.988 2144.98 149.289 Z\" fill=\"#000000\" fill-rule=\"evenodd\" fill-opacity=\"1\" /><path clip-path=\"url(#clip920)\" d=\"M2166.51 139.289 Q2163.09 139.289 2161.1 141.974 Q2159.1 144.636 2159.1 149.289 Q2159.1 153.942 2161.07 156.627 Q2163.06 159.289 2166.51 159.289 Q2169.91 159.289 2171.91 156.604 Q2173.9 153.918 2173.9 149.289 Q2173.9 144.682 2171.91 141.997 Q2169.91 139.289 2166.51 139.289 M2166.51 135.678 Q2172.07 135.678 2175.24 139.289 Q2178.41 142.9 2178.41 149.289 Q2178.41 155.655 2175.24 159.289 Q2172.07 162.9 2166.51 162.9 Q2160.93 162.9 2157.76 159.289 Q2154.61 155.655 2154.61 149.289 Q2154.61 142.9 2157.76 139.289 Q2160.93 135.678 2166.51 135.678 Z\" fill=\"#000000\" fill-rule=\"evenodd\" fill-opacity=\"1\" /><path clip-path=\"url(#clip920)\" d=\"M2202 137.067 L2202 141.094 Q2200.19 140.169 2198.25 139.706 Q2196.3 139.243 2194.22 139.243 Q2191.05 139.243 2189.45 140.215 Q2187.88 141.187 2187.88 143.131 Q2187.88 144.613 2189.01 145.469 Q2190.15 146.303 2193.57 147.067 L2195.03 147.391 Q2199.57 148.363 2201.47 150.145 Q2203.39 151.905 2203.39 155.076 Q2203.39 158.687 2200.52 160.793 Q2197.67 162.9 2192.67 162.9 Q2190.59 162.9 2188.32 162.483 Q2186.07 162.09 2183.57 161.28 L2183.57 156.881 Q2185.93 158.108 2188.22 158.733 Q2190.52 159.335 2192.76 159.335 Q2195.77 159.335 2197.39 158.317 Q2199.01 157.275 2199.01 155.4 Q2199.01 153.664 2197.83 152.738 Q2196.67 151.812 2192.72 150.956 L2191.23 150.608 Q2187.28 149.775 2185.52 148.062 Q2183.76 146.326 2183.76 143.317 Q2183.76 139.659 2186.35 137.669 Q2188.94 135.678 2193.71 135.678 Q2196.07 135.678 2198.16 136.025 Q2200.24 136.372 2202 137.067 Z\" fill=\"#000000\" fill-rule=\"evenodd\" fill-opacity=\"1\" /><path clip-path=\"url(#clip920)\" d=\"M2232.35 148.201 L2232.35 150.284 L2212.76 150.284 Q2213.04 154.682 2215.4 156.997 Q2217.78 159.289 2222.02 159.289 Q2224.47 159.289 2226.77 158.687 Q2229.08 158.085 2231.35 156.881 L2231.35 160.909 Q2229.06 161.881 2226.65 162.391 Q2224.24 162.9 2221.77 162.9 Q2215.56 162.9 2211.93 159.289 Q2208.32 155.678 2208.32 149.52 Q2208.32 143.155 2211.74 139.428 Q2215.19 135.678 2221.03 135.678 Q2226.26 135.678 2229.29 139.057 Q2232.35 142.414 2232.35 148.201 M2228.09 146.951 Q2228.04 143.456 2226.12 141.372 Q2224.22 139.289 2221.07 139.289 Q2217.51 139.289 2215.35 141.303 Q2213.22 143.317 2212.9 146.974 L2228.09 146.951 Z\" fill=\"#000000\" fill-rule=\"evenodd\" fill-opacity=\"1\" /><path clip-path=\"url(#clip920)\" d=\"M2256.4 140.238 L2256.4 126.21 L2260.66 126.21 L2260.66 162.229 L2256.4 162.229 L2256.4 158.34 Q2255.05 160.655 2252.99 161.789 Q2250.96 162.9 2248.09 162.9 Q2243.39 162.9 2240.42 159.15 Q2237.48 155.4 2237.48 149.289 Q2237.48 143.178 2240.42 139.428 Q2243.39 135.678 2248.09 135.678 Q2250.96 135.678 2252.99 136.812 Q2255.05 137.923 2256.4 140.238 M2241.88 149.289 Q2241.88 153.988 2243.8 156.673 Q2245.75 159.335 2249.13 159.335 Q2252.51 159.335 2254.45 156.673 Q2256.4 153.988 2256.4 149.289 Q2256.4 144.59 2254.45 141.928 Q2252.51 139.243 2249.13 139.243 Q2245.75 139.243 2243.8 141.928 Q2241.88 144.59 2241.88 149.289 Z\" fill=\"#000000\" fill-rule=\"evenodd\" fill-opacity=\"1\" /></svg>\n"
      ]
     },
     "metadata": {},
     "output_type": "display_data"
    },
    {
     "name": "stderr",
     "output_type": "stream",
     "text": [
      "\u001b[33m\u001b[1m┌ \u001b[22m\u001b[39m\u001b[33m\u001b[1mWarning: \u001b[22m\u001b[39mNo strict ticks found\n",
      "\u001b[33m\u001b[1m└ \u001b[22m\u001b[39m\u001b[90m@ PlotUtils C:\\Users\\MACC-Jose\\.julia\\packages\\PlotUtils\\bZEEj\\src\\ticks.jl:191\u001b[39m\n",
      "\u001b[33m\u001b[1m┌ \u001b[22m\u001b[39m\u001b[33m\u001b[1mWarning: \u001b[22m\u001b[39mNo strict ticks found\n",
      "\u001b[33m\u001b[1m└ \u001b[22m\u001b[39m\u001b[90m@ PlotUtils C:\\Users\\MACC-Jose\\.julia\\packages\\PlotUtils\\bZEEj\\src\\ticks.jl:191\u001b[39m\n",
      "\u001b[33m\u001b[1m┌ \u001b[22m\u001b[39m\u001b[33m\u001b[1mWarning: \u001b[22m\u001b[39mInvalid negative or zero value 0.0 found at series index 3 for log10 based yscale\n",
      "\u001b[33m\u001b[1m└ \u001b[22m\u001b[39m\u001b[90m@ Plots C:\\Users\\MACC-Jose\\.julia\\packages\\Plots\\QZRtR\\src\\utils.jl:106\u001b[39m\n"
     ]
    }
   ],
   "source": [
    "# number of iterations\n",
    "p8 = plot(1:nReactMax,optGapTraj_r,yscale=:log10,xlabel=\"# scenarios\", ylabel=\"opt gap.\",marker=:square, markercolor = :red,label=\"decomposed\",gridlinewidth=2)\n",
    "display(p8)"
   ]
  },
  {
   "cell_type": "markdown",
   "id": "0ffe348c",
   "metadata": {},
   "source": [
    "# Checking if trajectories match for more scenarios and reactors\n",
    "- arbitrarily chosen number of scenarios and reactors"
   ]
  },
  {
   "cell_type": "code",
   "execution_count": 23,
   "id": "cf6ecc0d",
   "metadata": {},
   "outputs": [
    {
     "data": {
      "text/plain": [
       "\" DB: opt gap = 3.523038639157175\""
      ]
     },
     "metadata": {},
     "output_type": "display_data"
    },
    {
     "data": {
      "text/plain": [
       "\">>>>>> iteration 1:O\""
      ]
     },
     "metadata": {},
     "output_type": "display_data"
    },
    {
     "data": {
      "text/plain": [
       "\" DB: opt gap = 2.0550624140954157\""
      ]
     },
     "metadata": {},
     "output_type": "display_data"
    },
    {
     "data": {
      "text/plain": [
       "\">>>>>> iteration 2:O\""
      ]
     },
     "metadata": {},
     "output_type": "display_data"
    },
    {
     "data": {
      "text/plain": [
       "\" DB: opt gap = 2.0583584523840517\""
      ]
     },
     "metadata": {},
     "output_type": "display_data"
    },
    {
     "data": {
      "text/plain": [
       "\">>>>>> iteration 3:O\""
      ]
     },
     "metadata": {},
     "output_type": "display_data"
    },
    {
     "data": {
      "text/plain": [
       "\" DB: opt gap = 2.2566509412843385\""
      ]
     },
     "metadata": {},
     "output_type": "display_data"
    },
    {
     "data": {
      "text/plain": [
       "\">>>>>> iteration 4:O\""
      ]
     },
     "metadata": {},
     "output_type": "display_data"
    },
    {
     "data": {
      "text/plain": [
       "\" DB: opt gap = 1.2254369643519372\""
      ]
     },
     "metadata": {},
     "output_type": "display_data"
    },
    {
     "data": {
      "text/plain": [
       "\">>>>>> iteration 5:O\""
      ]
     },
     "metadata": {},
     "output_type": "display_data"
    },
    {
     "data": {
      "text/plain": [
       "\" DB: opt gap = 1.2622188089766397\""
      ]
     },
     "metadata": {},
     "output_type": "display_data"
    },
    {
     "data": {
      "text/plain": [
       "\">>>>>> iteration 6:O\""
      ]
     },
     "metadata": {},
     "output_type": "display_data"
    },
    {
     "data": {
      "text/plain": [
       "\" DB: opt gap = 1.3148908025875021\""
      ]
     },
     "metadata": {},
     "output_type": "display_data"
    },
    {
     "data": {
      "text/plain": [
       "\">>>>>> iteration 7:O\""
      ]
     },
     "metadata": {},
     "output_type": "display_data"
    },
    {
     "data": {
      "text/plain": [
       "\" DB: opt gap = 1.5237364037693455\""
      ]
     },
     "metadata": {},
     "output_type": "display_data"
    },
    {
     "data": {
      "text/plain": [
       "\">>>>>> iteration 8:O\""
      ]
     },
     "metadata": {},
     "output_type": "display_data"
    },
    {
     "data": {
      "text/plain": [
       "\" DB: opt gap = 1.011691781397135\""
      ]
     },
     "metadata": {},
     "output_type": "display_data"
    },
    {
     "data": {
      "text/plain": [
       "\">>>>>> iteration 9:O\""
      ]
     },
     "metadata": {},
     "output_type": "display_data"
    },
    {
     "data": {
      "text/plain": [
       "\" DB: opt gap = 0.03592036120179017\""
      ]
     },
     "metadata": {},
     "output_type": "display_data"
    },
    {
     "data": {
      "text/plain": [
       "\">>>>>> iteration 10:O\""
      ]
     },
     "metadata": {},
     "output_type": "display_data"
    },
    {
     "data": {
      "text/plain": [
       "\" DB: opt gap = 0.03673688137135788\""
      ]
     },
     "metadata": {},
     "output_type": "display_data"
    },
    {
     "data": {
      "text/plain": [
       "\">>>>>> iteration 11:O\""
      ]
     },
     "metadata": {},
     "output_type": "display_data"
    },
    {
     "data": {
      "text/plain": [
       "\" DB: opt gap = 0.03606794167180663\""
      ]
     },
     "metadata": {},
     "output_type": "display_data"
    },
    {
     "data": {
      "text/plain": [
       "\">>>>>> iteration 12:O\""
      ]
     },
     "metadata": {},
     "output_type": "display_data"
    },
    {
     "data": {
      "text/plain": [
       "\">>>>>> iteration 13:F\""
      ]
     },
     "metadata": {},
     "output_type": "display_data"
    },
    {
     "data": {
      "text/plain": [
       "\" DB: opt gap = 0.03513142501695429\""
      ]
     },
     "metadata": {},
     "output_type": "display_data"
    },
    {
     "data": {
      "text/plain": [
       "\">>>>>> iteration 14:O\""
      ]
     },
     "metadata": {},
     "output_type": "display_data"
    },
    {
     "data": {
      "text/plain": [
       "\" DB: opt gap = 0.03505280056542368\""
      ]
     },
     "metadata": {},
     "output_type": "display_data"
    },
    {
     "data": {
      "text/plain": [
       "\">>>>>> iteration 15:O\""
      ]
     },
     "metadata": {},
     "output_type": "display_data"
    },
    {
     "data": {
      "text/plain": [
       "\" DB: opt gap = 0.03570290745503999\""
      ]
     },
     "metadata": {},
     "output_type": "display_data"
    },
    {
     "data": {
      "text/plain": [
       "\">>>>>> iteration 16:O\""
      ]
     },
     "metadata": {},
     "output_type": "display_data"
    },
    {
     "data": {
      "text/plain": [
       "\" DB: opt gap = 0.03339847632460867\""
      ]
     },
     "metadata": {},
     "output_type": "display_data"
    },
    {
     "data": {
      "text/plain": [
       "\">>>>>> iteration 17:O\""
      ]
     },
     "metadata": {},
     "output_type": "display_data"
    },
    {
     "data": {
      "text/plain": [
       "\" DB: opt gap = 0.0002947895073213313\""
      ]
     },
     "metadata": {},
     "output_type": "display_data"
    }
   ],
   "source": [
    "nSCheck = 3 # number of scenarios\n",
    "nRCheck = 5 # number of reactors in parallel\n",
    "optiCheck = opti\n",
    "\n",
    "# Extracting solution for plotting --> monolithic vs. decomposed \n",
    "yTraj = Array{Float64}(undef,2,pD,nSCheck)\n",
    "uTraj = Array{Float64}(undef,2,pD,nSCheck) \n",
    "yspTraj = Array{Float64}(undef,2,pD,nSCheck) \n",
    "\n",
    "#equiprobable scenarios\n",
    "pScheck = 1.0/nSCheck;\n",
    "\n",
    "# Number of states\n",
    "nx = 2*nRCheck;\n",
    "\n",
    "# Initial conditions (deviation form)\n",
    "xInit_0 = repeat([0.3583;0.6418] .- x0, outer = [nRCheck,1]);\n",
    "uInit_0 = 1.0 - u0;\n",
    "\n",
    "sol_mon = MS_CLDRTO(xInit_0,uInit_0,nRCheck,nSCheck,pScheck,solNominal,optiCheck)\n",
    "sol_dec = BENS_CLDRTO(xInit_0,uInit_0,nRCheck,nSCheck,pScheck,solNominal,optiCheck)\n",
    "\n",
    "for ii in 1:pD\n",
    "    for ss in 1:nSCheck\n",
    "    # transforming from deviation form\n",
    "    yTraj[1,ii,ss] = sol_mon['y'][ii,ss] + y0\n",
    "    yspTraj[1,ii,ss] = sol_mon['s'][ii,ss] + y0\n",
    "    uTraj[1,ii,ss] = sol_mon['u'][ii,1,ss] + u0\n",
    "        \n",
    "    yTraj[2,ii,ss] = sol_dec['y'][ss][ii] + y0\n",
    "    yspTraj[2,ii,ss] = sol_dec['s'][ss][ii] + y0\n",
    "    uTraj[2,ii,ss] = sol_dec['u'][ss][1,ii] + u0    \n",
    "    end\n",
    "end;"
   ]
  },
  {
   "cell_type": "code",
   "execution_count": 24,
   "id": "3d9ec8ea",
   "metadata": {},
   "outputs": [],
   "source": [
    "# time series for plotting\n",
    "ts = Vector{Float64}(undef,pD) \n",
    "for i in 1:pD\n",
    "    ts[i] = 1*i\n",
    "end\n",
    "\n",
    "# Creating color array\n",
    "CList = reshape( range(colorant\"red\", stop=colorant\"blue\",length=nSCheck), 1, nSCheck);\n",
    "MList =[:cross, :circle];"
   ]
  },
  {
   "cell_type": "markdown",
   "id": "292fbc2d",
   "metadata": {},
   "source": [
    "Plot Recipe"
   ]
  },
  {
   "cell_type": "code",
   "execution_count": 25,
   "id": "c9d384cc",
   "metadata": {},
   "outputs": [],
   "source": [
    "@userplot Plot_Comp\n",
    "@recipe function f(h::Plot_Comp)\n",
    "        \n",
    "if length(h.args) < 7\n",
    "        y_lim, ylab, lineT, x, y, y_ub = h.args\n",
    "    else\n",
    "        y_lim, ylab, lineT, x, y, y_ub, y_lb = h.args\n",
    "    end\n",
    "    \n",
    "    # set up the subplots\n",
    "    # these are common to both marginal histograms\n",
    "    layout := (3,1)\n",
    "    grid := true\n",
    "    gridlinewidth --> 2\n",
    "    latex := true\n",
    "    linecolor := :black\n",
    "    \n",
    "    for ss = 1:3\n",
    "        # limits\n",
    "        ylimits := y_lim\n",
    "        \n",
    "        # labels \n",
    "        ylabel := ylab\n",
    "        if ss == 3\n",
    "            xlabel := \"time [min]\"\n",
    "        end\n",
    "        \n",
    "        # DATA PLOTTING\n",
    "        # upper bound\n",
    "        @series begin\n",
    "            seriestype := :path\n",
    "            linestyle := :dot\n",
    "            subplot := ss\n",
    "        \n",
    "            if ss == 1\n",
    "                label --> \"Limit\"\n",
    "            else\n",
    "                label --> \"\"\n",
    "            end\n",
    "            \n",
    "            x, y_ub*ones(length(x))\n",
    "        end\n",
    "\n",
    "        if length(h.args) > 6 \n",
    "            # lower bound\n",
    "            @series begin\n",
    "                seriestype := :path\n",
    "                linestyle := :dot\n",
    "                subplot := ss\n",
    "                label --> \"\"\n",
    "                \n",
    "                x, y_lb*ones(length(x))\n",
    "            end\n",
    "        end\n",
    "\n",
    "        labels = [\"Mono.\", \"Deco.\"]\n",
    "        for mm = 1:2\n",
    "            # average MC value\n",
    "            @series begin\n",
    "                if lineT == 2\n",
    "                    seriestype := :steppre\n",
    "                else\n",
    "                    seriestype := :path\n",
    "                end\n",
    "                linewidth := 3\n",
    "                subplot := ss\n",
    "\n",
    "                markercolor := :black\n",
    "                markerstrokecolor := :black\n",
    "                markersize := 3\n",
    "\n",
    "                if ss == 1\n",
    "                    label --> labels[mm]\n",
    "                else\n",
    "                    label --> \"\"\n",
    "                end\n",
    "\n",
    "                if mm == 1\n",
    "                    linestyle := :solid\n",
    "                    markershape := :circle\n",
    "                else\n",
    "                    linestyle := :dashdot\n",
    "                    markershape := :rect\n",
    "                end\n",
    "\n",
    "                x, y[mm,:,ss]\n",
    "            end\n",
    "        end\n",
    "    end # mono/dec loop\n",
    "end;"
   ]
  },
  {
   "cell_type": "code",
   "execution_count": 26,
   "id": "76f46faf",
   "metadata": {},
   "outputs": [
    {
     "data": {
      "image/svg+xml": [
       "<?xml version=\"1.0\" encoding=\"utf-8\"?>\n",
       "<svg xmlns=\"http://www.w3.org/2000/svg\" xmlns:xlink=\"http://www.w3.org/1999/xlink\" width=\"600\" height=\"400\" viewBox=\"0 0 2400 1600\">\n",
       "<defs>\n",
       "  <clipPath id=\"clip960\">\n",
       "    <rect x=\"0\" y=\"0\" width=\"2400\" height=\"1600\"/>\n",
       "  </clipPath>\n",
       "</defs>\n",
       "<path clip-path=\"url(#clip960)\" d=\"M0 1600 L2400 1600 L2400 0 L0 0  Z\" fill=\"#ffffff\" fill-rule=\"evenodd\" fill-opacity=\"1\"/>\n",
       "<defs>\n",
       "  <clipPath id=\"clip961\">\n",
       "    <rect x=\"480\" y=\"0\" width=\"1681\" height=\"1600\"/>\n",
       "  </clipPath>\n",
       "</defs>\n",
       "<defs>\n",
       "  <clipPath id=\"clip962\">\n",
       "    <rect x=\"280\" y=\"47\" width=\"2073\" height=\"1377\"/>\n",
       "  </clipPath>\n",
       "</defs>\n",
       "<path clip-path=\"url(#clip960)\" d=\"M249.542 398.692 L2352.76 398.692 L2352.76 47.2441 L249.542 47.2441  Z\" fill=\"#ffffff\" fill-rule=\"evenodd\" fill-opacity=\"1\"/>\n",
       "<defs>\n",
       "  <clipPath id=\"clip963\">\n",
       "    <rect x=\"249\" y=\"47\" width=\"2104\" height=\"352\"/>\n",
       "  </clipPath>\n",
       "</defs>\n",
       "<polyline clip-path=\"url(#clip963)\" style=\"stroke:#000000; stroke-linecap:round; stroke-linejoin:round; stroke-width:8; stroke-opacity:0.1; fill:none\" points=\"614.323,398.692 614.323,47.2441 \"/>\n",
       "<polyline clip-path=\"url(#clip963)\" style=\"stroke:#000000; stroke-linecap:round; stroke-linejoin:round; stroke-width:8; stroke-opacity:0.1; fill:none\" points=\"995.893,398.692 995.893,47.2441 \"/>\n",
       "<polyline clip-path=\"url(#clip963)\" style=\"stroke:#000000; stroke-linecap:round; stroke-linejoin:round; stroke-width:8; stroke-opacity:0.1; fill:none\" points=\"1377.46,398.692 1377.46,47.2441 \"/>\n",
       "<polyline clip-path=\"url(#clip963)\" style=\"stroke:#000000; stroke-linecap:round; stroke-linejoin:round; stroke-width:8; stroke-opacity:0.1; fill:none\" points=\"1759.03,398.692 1759.03,47.2441 \"/>\n",
       "<polyline clip-path=\"url(#clip963)\" style=\"stroke:#000000; stroke-linecap:round; stroke-linejoin:round; stroke-width:8; stroke-opacity:0.1; fill:none\" points=\"2140.6,398.692 2140.6,47.2441 \"/>\n",
       "<polyline clip-path=\"url(#clip960)\" style=\"stroke:#000000; stroke-linecap:round; stroke-linejoin:round; stroke-width:4; stroke-opacity:1; fill:none\" points=\"249.542,398.692 2352.76,398.692 \"/>\n",
       "<polyline clip-path=\"url(#clip960)\" style=\"stroke:#000000; stroke-linecap:round; stroke-linejoin:round; stroke-width:4; stroke-opacity:1; fill:none\" points=\"614.323,398.692 614.323,379.794 \"/>\n",
       "<polyline clip-path=\"url(#clip960)\" style=\"stroke:#000000; stroke-linecap:round; stroke-linejoin:round; stroke-width:4; stroke-opacity:1; fill:none\" points=\"995.893,398.692 995.893,379.794 \"/>\n",
       "<polyline clip-path=\"url(#clip960)\" style=\"stroke:#000000; stroke-linecap:round; stroke-linejoin:round; stroke-width:4; stroke-opacity:1; fill:none\" points=\"1377.46,398.692 1377.46,379.794 \"/>\n",
       "<polyline clip-path=\"url(#clip960)\" style=\"stroke:#000000; stroke-linecap:round; stroke-linejoin:round; stroke-width:4; stroke-opacity:1; fill:none\" points=\"1759.03,398.692 1759.03,379.794 \"/>\n",
       "<polyline clip-path=\"url(#clip960)\" style=\"stroke:#000000; stroke-linecap:round; stroke-linejoin:round; stroke-width:4; stroke-opacity:1; fill:none\" points=\"2140.6,398.692 2140.6,379.794 \"/>\n",
       "<path clip-path=\"url(#clip960)\" d=\"M604.601 426.532 L622.957 426.532 L622.957 430.467 L608.883 430.467 L608.883 438.939 Q609.902 438.592 610.92 438.43 Q611.939 438.245 612.957 438.245 Q618.744 438.245 622.124 441.416 Q625.503 444.587 625.503 450.004 Q625.503 455.583 622.031 458.684 Q618.559 461.763 612.24 461.763 Q610.064 461.763 607.795 461.393 Q605.55 461.022 603.142 460.282 L603.142 455.583 Q605.226 456.717 607.448 457.272 Q609.67 457.828 612.147 457.828 Q616.152 457.828 618.49 455.722 Q620.828 453.615 620.828 450.004 Q620.828 446.393 618.49 444.286 Q616.152 442.18 612.147 442.18 Q610.272 442.18 608.397 442.597 Q606.545 443.013 604.601 443.893 L604.601 426.532 Z\" fill=\"#000000\" fill-rule=\"evenodd\" fill-opacity=\"1\" /><path clip-path=\"url(#clip960)\" d=\"M970.581 457.157 L978.219 457.157 L978.219 430.791 L969.909 432.458 L969.909 428.199 L978.173 426.532 L982.849 426.532 L982.849 457.157 L990.488 457.157 L990.488 461.092 L970.581 461.092 L970.581 457.157 Z\" fill=\"#000000\" fill-rule=\"evenodd\" fill-opacity=\"1\" /><path clip-path=\"url(#clip960)\" d=\"M1009.93 429.611 Q1006.32 429.611 1004.49 433.175 Q1002.69 436.717 1002.69 443.847 Q1002.69 450.953 1004.49 454.518 Q1006.32 458.059 1009.93 458.059 Q1013.57 458.059 1015.37 454.518 Q1017.2 450.953 1017.2 443.847 Q1017.2 436.717 1015.37 433.175 Q1013.57 429.611 1009.93 429.611 M1009.93 425.907 Q1015.74 425.907 1018.8 430.513 Q1021.88 435.097 1021.88 443.847 Q1021.88 452.573 1018.8 457.18 Q1015.74 461.763 1009.93 461.763 Q1004.12 461.763 1001.04 457.18 Q997.988 452.573 997.988 443.847 Q997.988 435.097 1001.04 430.513 Q1004.12 425.907 1009.93 425.907 Z\" fill=\"#000000\" fill-rule=\"evenodd\" fill-opacity=\"1\" /><path clip-path=\"url(#clip960)\" d=\"M1352.65 457.157 L1360.29 457.157 L1360.29 430.791 L1351.98 432.458 L1351.98 428.199 L1360.24 426.532 L1364.92 426.532 L1364.92 457.157 L1372.56 457.157 L1372.56 461.092 L1352.65 461.092 L1352.65 457.157 Z\" fill=\"#000000\" fill-rule=\"evenodd\" fill-opacity=\"1\" /><path clip-path=\"url(#clip960)\" d=\"M1382.05 426.532 L1400.4 426.532 L1400.4 430.467 L1386.33 430.467 L1386.33 438.939 Q1387.35 438.592 1388.37 438.43 Q1389.38 438.245 1390.4 438.245 Q1396.19 438.245 1399.57 441.416 Q1402.95 444.587 1402.95 450.004 Q1402.95 455.583 1399.48 458.684 Q1396 461.763 1389.69 461.763 Q1387.51 461.763 1385.24 461.393 Q1383 461.022 1380.59 460.282 L1380.59 455.583 Q1382.67 456.717 1384.89 457.272 Q1387.12 457.828 1389.59 457.828 Q1393.6 457.828 1395.94 455.722 Q1398.27 453.615 1398.27 450.004 Q1398.27 446.393 1395.94 444.286 Q1393.6 442.18 1389.59 442.18 Q1387.72 442.18 1385.84 442.597 Q1383.99 443.013 1382.05 443.893 L1382.05 426.532 Z\" fill=\"#000000\" fill-rule=\"evenodd\" fill-opacity=\"1\" /><path clip-path=\"url(#clip960)\" d=\"M1737.81 457.157 L1754.13 457.157 L1754.13 461.092 L1732.18 461.092 L1732.18 457.157 Q1734.84 454.402 1739.43 449.772 Q1744.03 445.12 1745.21 443.777 Q1747.46 441.254 1748.34 439.518 Q1749.24 437.759 1749.24 436.069 Q1749.24 433.314 1747.3 431.578 Q1745.38 429.842 1742.27 429.842 Q1740.07 429.842 1737.62 430.606 Q1735.19 431.37 1732.41 432.921 L1732.41 428.199 Q1735.24 427.064 1737.69 426.486 Q1740.14 425.907 1742.18 425.907 Q1747.55 425.907 1750.75 428.592 Q1753.94 431.277 1753.94 435.768 Q1753.94 437.898 1753.13 439.819 Q1752.34 441.717 1750.24 444.31 Q1749.66 444.981 1746.56 448.198 Q1743.45 451.393 1737.81 457.157 Z\" fill=\"#000000\" fill-rule=\"evenodd\" fill-opacity=\"1\" /><path clip-path=\"url(#clip960)\" d=\"M1773.94 429.611 Q1770.33 429.611 1768.5 433.175 Q1766.69 436.717 1766.69 443.847 Q1766.69 450.953 1768.5 454.518 Q1770.33 458.059 1773.94 458.059 Q1777.57 458.059 1779.38 454.518 Q1781.21 450.953 1781.21 443.847 Q1781.21 436.717 1779.38 433.175 Q1777.57 429.611 1773.94 429.611 M1773.94 425.907 Q1779.75 425.907 1782.81 430.513 Q1785.88 435.097 1785.88 443.847 Q1785.88 452.573 1782.81 457.18 Q1779.75 461.763 1773.94 461.763 Q1768.13 461.763 1765.05 457.18 Q1762 452.573 1762 443.847 Q1762 435.097 1765.05 430.513 Q1768.13 425.907 1773.94 425.907 Z\" fill=\"#000000\" fill-rule=\"evenodd\" fill-opacity=\"1\" /><path clip-path=\"url(#clip960)\" d=\"M2119.87 457.157 L2136.19 457.157 L2136.19 461.092 L2114.25 461.092 L2114.25 457.157 Q2116.91 454.402 2121.49 449.772 Q2126.1 445.12 2127.28 443.777 Q2129.53 441.254 2130.41 439.518 Q2131.31 437.759 2131.31 436.069 Q2131.31 433.314 2129.36 431.578 Q2127.44 429.842 2124.34 429.842 Q2122.14 429.842 2119.69 430.606 Q2117.26 431.37 2114.48 432.921 L2114.48 428.199 Q2117.3 427.064 2119.76 426.486 Q2122.21 425.907 2124.25 425.907 Q2129.62 425.907 2132.81 428.592 Q2136.01 431.277 2136.01 435.768 Q2136.01 437.898 2135.2 439.819 Q2134.41 441.717 2132.3 444.31 Q2131.73 444.981 2128.62 448.198 Q2125.52 451.393 2119.87 457.157 Z\" fill=\"#000000\" fill-rule=\"evenodd\" fill-opacity=\"1\" /><path clip-path=\"url(#clip960)\" d=\"M2146.05 426.532 L2164.41 426.532 L2164.41 430.467 L2150.34 430.467 L2150.34 438.939 Q2151.36 438.592 2152.37 438.43 Q2153.39 438.245 2154.41 438.245 Q2160.2 438.245 2163.58 441.416 Q2166.96 444.587 2166.96 450.004 Q2166.96 455.583 2163.48 458.684 Q2160.01 461.763 2153.69 461.763 Q2151.52 461.763 2149.25 461.393 Q2147 461.022 2144.6 460.282 L2144.6 455.583 Q2146.68 456.717 2148.9 457.272 Q2151.12 457.828 2153.6 457.828 Q2157.61 457.828 2159.94 455.722 Q2162.28 453.615 2162.28 450.004 Q2162.28 446.393 2159.94 444.286 Q2157.61 442.18 2153.6 442.18 Q2151.73 442.18 2149.85 442.597 Q2148 443.013 2146.05 443.893 L2146.05 426.532 Z\" fill=\"#000000\" fill-rule=\"evenodd\" fill-opacity=\"1\" /><polyline clip-path=\"url(#clip963)\" style=\"stroke:#000000; stroke-linecap:round; stroke-linejoin:round; stroke-width:8; stroke-opacity:0.1; fill:none\" points=\"249.542,382.717 2352.76,382.717 \"/>\n",
       "<polyline clip-path=\"url(#clip963)\" style=\"stroke:#000000; stroke-linecap:round; stroke-linejoin:round; stroke-width:8; stroke-opacity:0.1; fill:none\" points=\"249.542,302.842 2352.76,302.842 \"/>\n",
       "<polyline clip-path=\"url(#clip963)\" style=\"stroke:#000000; stroke-linecap:round; stroke-linejoin:round; stroke-width:8; stroke-opacity:0.1; fill:none\" points=\"249.542,222.968 2352.76,222.968 \"/>\n",
       "<polyline clip-path=\"url(#clip963)\" style=\"stroke:#000000; stroke-linecap:round; stroke-linejoin:round; stroke-width:8; stroke-opacity:0.1; fill:none\" points=\"249.542,143.093 2352.76,143.093 \"/>\n",
       "<polyline clip-path=\"url(#clip963)\" style=\"stroke:#000000; stroke-linecap:round; stroke-linejoin:round; stroke-width:8; stroke-opacity:0.1; fill:none\" points=\"249.542,63.219 2352.76,63.219 \"/>\n",
       "<polyline clip-path=\"url(#clip960)\" style=\"stroke:#000000; stroke-linecap:round; stroke-linejoin:round; stroke-width:4; stroke-opacity:1; fill:none\" points=\"249.542,398.692 249.542,47.2441 \"/>\n",
       "<polyline clip-path=\"url(#clip960)\" style=\"stroke:#000000; stroke-linecap:round; stroke-linejoin:round; stroke-width:4; stroke-opacity:1; fill:none\" points=\"249.542,382.717 268.44,382.717 \"/>\n",
       "<polyline clip-path=\"url(#clip960)\" style=\"stroke:#000000; stroke-linecap:round; stroke-linejoin:round; stroke-width:4; stroke-opacity:1; fill:none\" points=\"249.542,302.842 268.44,302.842 \"/>\n",
       "<polyline clip-path=\"url(#clip960)\" style=\"stroke:#000000; stroke-linecap:round; stroke-linejoin:round; stroke-width:4; stroke-opacity:1; fill:none\" points=\"249.542,222.968 268.44,222.968 \"/>\n",
       "<polyline clip-path=\"url(#clip960)\" style=\"stroke:#000000; stroke-linecap:round; stroke-linejoin:round; stroke-width:4; stroke-opacity:1; fill:none\" points=\"249.542,143.093 268.44,143.093 \"/>\n",
       "<polyline clip-path=\"url(#clip960)\" style=\"stroke:#000000; stroke-linecap:round; stroke-linejoin:round; stroke-width:4; stroke-opacity:1; fill:none\" points=\"249.542,63.219 268.44,63.219 \"/>\n",
       "<path clip-path=\"url(#clip960)\" d=\"M126.205 368.516 Q122.593 368.516 120.765 372.08 Q118.959 375.622 118.959 382.752 Q118.959 389.858 120.765 393.423 Q122.593 396.965 126.205 396.965 Q129.839 396.965 131.644 393.423 Q133.473 389.858 133.473 382.752 Q133.473 375.622 131.644 372.08 Q129.839 368.516 126.205 368.516 M126.205 364.812 Q132.015 364.812 135.07 369.418 Q138.149 374.002 138.149 382.752 Q138.149 391.478 135.07 396.085 Q132.015 400.668 126.205 400.668 Q120.394 400.668 117.316 396.085 Q114.26 391.478 114.26 382.752 Q114.26 374.002 117.316 369.418 Q120.394 364.812 126.205 364.812 Z\" fill=\"#000000\" fill-rule=\"evenodd\" fill-opacity=\"1\" /><path clip-path=\"url(#clip960)\" d=\"M146.366 394.117 L151.251 394.117 L151.251 399.997 L146.366 399.997 L146.366 394.117 Z\" fill=\"#000000\" fill-rule=\"evenodd\" fill-opacity=\"1\" /><path clip-path=\"url(#clip960)\" d=\"M171.436 368.516 Q167.825 368.516 165.996 372.08 Q164.19 375.622 164.19 382.752 Q164.19 389.858 165.996 393.423 Q167.825 396.965 171.436 396.965 Q175.07 396.965 176.876 393.423 Q178.704 389.858 178.704 382.752 Q178.704 375.622 176.876 372.08 Q175.07 368.516 171.436 368.516 M171.436 364.812 Q177.246 364.812 180.301 369.418 Q183.38 374.002 183.38 382.752 Q183.38 391.478 180.301 396.085 Q177.246 400.668 171.436 400.668 Q165.626 400.668 162.547 396.085 Q159.491 391.478 159.491 382.752 Q159.491 374.002 162.547 369.418 Q165.626 364.812 171.436 364.812 Z\" fill=\"#000000\" fill-rule=\"evenodd\" fill-opacity=\"1\" /><path clip-path=\"url(#clip960)\" d=\"M201.598 368.516 Q197.987 368.516 196.158 372.08 Q194.352 375.622 194.352 382.752 Q194.352 389.858 196.158 393.423 Q197.987 396.965 201.598 396.965 Q205.232 396.965 207.037 393.423 Q208.866 389.858 208.866 382.752 Q208.866 375.622 207.037 372.08 Q205.232 368.516 201.598 368.516 M201.598 364.812 Q207.408 364.812 210.463 369.418 Q213.542 374.002 213.542 382.752 Q213.542 391.478 210.463 396.085 Q207.408 400.668 201.598 400.668 Q195.787 400.668 192.709 396.085 Q189.653 391.478 189.653 382.752 Q189.653 374.002 192.709 369.418 Q195.787 364.812 201.598 364.812 Z\" fill=\"#000000\" fill-rule=\"evenodd\" fill-opacity=\"1\" /><path clip-path=\"url(#clip960)\" d=\"M127.2 288.641 Q123.589 288.641 121.76 292.206 Q119.955 295.748 119.955 302.877 Q119.955 309.984 121.76 313.548 Q123.589 317.09 127.2 317.09 Q130.834 317.09 132.64 313.548 Q134.468 309.984 134.468 302.877 Q134.468 295.748 132.64 292.206 Q130.834 288.641 127.2 288.641 M127.2 284.937 Q133.01 284.937 136.066 289.544 Q139.144 294.127 139.144 302.877 Q139.144 311.604 136.066 316.21 Q133.01 320.794 127.2 320.794 Q121.39 320.794 118.311 316.21 Q115.256 311.604 115.256 302.877 Q115.256 294.127 118.311 289.544 Q121.39 284.937 127.2 284.937 Z\" fill=\"#000000\" fill-rule=\"evenodd\" fill-opacity=\"1\" /><path clip-path=\"url(#clip960)\" d=\"M147.362 314.243 L152.246 314.243 L152.246 320.122 L147.362 320.122 L147.362 314.243 Z\" fill=\"#000000\" fill-rule=\"evenodd\" fill-opacity=\"1\" /><path clip-path=\"url(#clip960)\" d=\"M166.459 316.187 L182.778 316.187 L182.778 320.122 L160.834 320.122 L160.834 316.187 Q163.496 313.433 168.079 308.803 Q172.686 304.15 173.866 302.808 Q176.112 300.285 176.991 298.549 Q177.894 296.789 177.894 295.099 Q177.894 292.345 175.95 290.609 Q174.028 288.873 170.927 288.873 Q168.727 288.873 166.274 289.637 Q163.843 290.4 161.065 291.951 L161.065 287.229 Q163.89 286.095 166.343 285.516 Q168.797 284.937 170.834 284.937 Q176.204 284.937 179.399 287.623 Q182.593 290.308 182.593 294.799 Q182.593 296.928 181.783 298.849 Q180.996 300.748 178.889 303.34 Q178.311 304.011 175.209 307.229 Q172.107 310.423 166.459 316.187 Z\" fill=\"#000000\" fill-rule=\"evenodd\" fill-opacity=\"1\" /><path clip-path=\"url(#clip960)\" d=\"M192.639 285.562 L210.996 285.562 L210.996 289.498 L196.922 289.498 L196.922 297.97 Q197.94 297.623 198.959 297.461 Q199.977 297.275 200.996 297.275 Q206.783 297.275 210.162 300.447 Q213.542 303.618 213.542 309.035 Q213.542 314.613 210.07 317.715 Q206.598 320.794 200.278 320.794 Q198.102 320.794 195.834 320.423 Q193.588 320.053 191.181 319.312 L191.181 314.613 Q193.264 315.747 195.487 316.303 Q197.709 316.859 200.186 316.859 Q204.19 316.859 206.528 314.752 Q208.866 312.646 208.866 309.035 Q208.866 305.423 206.528 303.317 Q204.19 301.211 200.186 301.211 Q198.311 301.211 196.436 301.627 Q194.584 302.044 192.639 302.923 L192.639 285.562 Z\" fill=\"#000000\" fill-rule=\"evenodd\" fill-opacity=\"1\" /><path clip-path=\"url(#clip960)\" d=\"M126.205 208.767 Q122.593 208.767 120.765 212.331 Q118.959 215.873 118.959 223.003 Q118.959 230.109 120.765 233.674 Q122.593 237.216 126.205 237.216 Q129.839 237.216 131.644 233.674 Q133.473 230.109 133.473 223.003 Q133.473 215.873 131.644 212.331 Q129.839 208.767 126.205 208.767 M126.205 205.063 Q132.015 205.063 135.07 209.669 Q138.149 214.253 138.149 223.003 Q138.149 231.73 135.07 236.336 Q132.015 240.919 126.205 240.919 Q120.394 240.919 117.316 236.336 Q114.26 231.73 114.26 223.003 Q114.26 214.253 117.316 209.669 Q120.394 205.063 126.205 205.063 Z\" fill=\"#000000\" fill-rule=\"evenodd\" fill-opacity=\"1\" /><path clip-path=\"url(#clip960)\" d=\"M146.366 234.368 L151.251 234.368 L151.251 240.248 L146.366 240.248 L146.366 234.368 Z\" fill=\"#000000\" fill-rule=\"evenodd\" fill-opacity=\"1\" /><path clip-path=\"url(#clip960)\" d=\"M161.482 205.688 L179.839 205.688 L179.839 209.623 L165.765 209.623 L165.765 218.095 Q166.783 217.748 167.802 217.586 Q168.82 217.401 169.839 217.401 Q175.626 217.401 179.005 220.572 Q182.385 223.743 182.385 229.16 Q182.385 234.739 178.913 237.841 Q175.44 240.919 169.121 240.919 Q166.945 240.919 164.677 240.549 Q162.431 240.179 160.024 239.438 L160.024 234.739 Q162.107 235.873 164.329 236.429 Q166.552 236.984 169.028 236.984 Q173.033 236.984 175.371 234.878 Q177.709 232.771 177.709 229.16 Q177.709 225.549 175.371 223.443 Q173.033 221.336 169.028 221.336 Q167.153 221.336 165.278 221.753 Q163.427 222.169 161.482 223.049 L161.482 205.688 Z\" fill=\"#000000\" fill-rule=\"evenodd\" fill-opacity=\"1\" /><path clip-path=\"url(#clip960)\" d=\"M201.598 208.767 Q197.987 208.767 196.158 212.331 Q194.352 215.873 194.352 223.003 Q194.352 230.109 196.158 233.674 Q197.987 237.216 201.598 237.216 Q205.232 237.216 207.037 233.674 Q208.866 230.109 208.866 223.003 Q208.866 215.873 207.037 212.331 Q205.232 208.767 201.598 208.767 M201.598 205.063 Q207.408 205.063 210.463 209.669 Q213.542 214.253 213.542 223.003 Q213.542 231.73 210.463 236.336 Q207.408 240.919 201.598 240.919 Q195.787 240.919 192.709 236.336 Q189.653 231.73 189.653 223.003 Q189.653 214.253 192.709 209.669 Q195.787 205.063 201.598 205.063 Z\" fill=\"#000000\" fill-rule=\"evenodd\" fill-opacity=\"1\" /><path clip-path=\"url(#clip960)\" d=\"M127.2 128.892 Q123.589 128.892 121.76 132.457 Q119.955 135.999 119.955 143.128 Q119.955 150.235 121.76 153.799 Q123.589 157.341 127.2 157.341 Q130.834 157.341 132.64 153.799 Q134.468 150.235 134.468 143.128 Q134.468 135.999 132.64 132.457 Q130.834 128.892 127.2 128.892 M127.2 125.188 Q133.01 125.188 136.066 129.795 Q139.144 134.378 139.144 143.128 Q139.144 151.855 136.066 156.461 Q133.01 161.045 127.2 161.045 Q121.39 161.045 118.311 156.461 Q115.256 151.855 115.256 143.128 Q115.256 134.378 118.311 129.795 Q121.39 125.188 127.2 125.188 Z\" fill=\"#000000\" fill-rule=\"evenodd\" fill-opacity=\"1\" /><path clip-path=\"url(#clip960)\" d=\"M147.362 154.494 L152.246 154.494 L152.246 160.373 L147.362 160.373 L147.362 154.494 Z\" fill=\"#000000\" fill-rule=\"evenodd\" fill-opacity=\"1\" /><path clip-path=\"url(#clip960)\" d=\"M161.251 125.813 L183.473 125.813 L183.473 127.804 L170.927 160.373 L166.042 160.373 L177.848 129.749 L161.251 129.749 L161.251 125.813 Z\" fill=\"#000000\" fill-rule=\"evenodd\" fill-opacity=\"1\" /><path clip-path=\"url(#clip960)\" d=\"M192.639 125.813 L210.996 125.813 L210.996 129.749 L196.922 129.749 L196.922 138.221 Q197.94 137.874 198.959 137.712 Q199.977 137.526 200.996 137.526 Q206.783 137.526 210.162 140.698 Q213.542 143.869 213.542 149.286 Q213.542 154.864 210.07 157.966 Q206.598 161.045 200.278 161.045 Q198.102 161.045 195.834 160.674 Q193.588 160.304 191.181 159.563 L191.181 154.864 Q193.264 155.999 195.487 156.554 Q197.709 157.11 200.186 157.11 Q204.19 157.11 206.528 155.003 Q208.866 152.897 208.866 149.286 Q208.866 145.674 206.528 143.568 Q204.19 141.462 200.186 141.462 Q198.311 141.462 196.436 141.878 Q194.584 142.295 192.639 143.175 L192.639 125.813 Z\" fill=\"#000000\" fill-rule=\"evenodd\" fill-opacity=\"1\" /><path clip-path=\"url(#clip960)\" d=\"M117.015 76.5638 L124.654 76.5638 L124.654 50.1982 L116.343 51.8649 L116.343 47.6057 L124.607 45.939 L129.283 45.939 L129.283 76.5638 L136.922 76.5638 L136.922 80.499 L117.015 80.499 L117.015 76.5638 Z\" fill=\"#000000\" fill-rule=\"evenodd\" fill-opacity=\"1\" /><path clip-path=\"url(#clip960)\" d=\"M146.366 74.6194 L151.251 74.6194 L151.251 80.499 L146.366 80.499 L146.366 74.6194 Z\" fill=\"#000000\" fill-rule=\"evenodd\" fill-opacity=\"1\" /><path clip-path=\"url(#clip960)\" d=\"M171.436 49.0177 Q167.825 49.0177 165.996 52.5825 Q164.19 56.1241 164.19 63.2537 Q164.19 70.3602 165.996 73.925 Q167.825 77.4666 171.436 77.4666 Q175.07 77.4666 176.876 73.925 Q178.704 70.3602 178.704 63.2537 Q178.704 56.1241 176.876 52.5825 Q175.07 49.0177 171.436 49.0177 M171.436 45.314 Q177.246 45.314 180.301 49.9205 Q183.38 54.5038 183.38 63.2537 Q183.38 71.9805 180.301 76.587 Q177.246 81.1703 171.436 81.1703 Q165.626 81.1703 162.547 76.587 Q159.491 71.9805 159.491 63.2537 Q159.491 54.5038 162.547 49.9205 Q165.626 45.314 171.436 45.314 Z\" fill=\"#000000\" fill-rule=\"evenodd\" fill-opacity=\"1\" /><path clip-path=\"url(#clip960)\" d=\"M201.598 49.0177 Q197.987 49.0177 196.158 52.5825 Q194.352 56.1241 194.352 63.2537 Q194.352 70.3602 196.158 73.925 Q197.987 77.4666 201.598 77.4666 Q205.232 77.4666 207.037 73.925 Q208.866 70.3602 208.866 63.2537 Q208.866 56.1241 207.037 52.5825 Q205.232 49.0177 201.598 49.0177 M201.598 45.314 Q207.408 45.314 210.463 49.9205 Q213.542 54.5038 213.542 63.2537 Q213.542 71.9805 210.463 76.587 Q207.408 81.1703 201.598 81.1703 Q195.787 81.1703 192.709 76.587 Q189.653 71.9805 189.653 63.2537 Q189.653 54.5038 192.709 49.9205 Q195.787 45.314 201.598 45.314 Z\" fill=\"#000000\" fill-rule=\"evenodd\" fill-opacity=\"1\" /><path clip-path=\"url(#clip960)\" d=\"M39.4498 278.235 Q39.9007 278.235 40.9635 278.524 L66.1485 284.837 Q71.7523 286.222 75.6814 290.73 Q79.6106 295.207 79.6106 300.296 Q79.6106 303.355 77.9681 305.32 Q76.3578 307.284 73.8779 307.284 Q71.6879 307.284 70.6251 306.125 Q69.5945 304.965 69.5945 303.581 Q69.5945 303.13 69.7234 302.647 Q69.8522 302.163 70.3997 301.648 Q70.9472 301.133 71.8812 301.133 Q73.3948 301.133 74.5864 302.453 Q75.1339 303.097 75.2628 303.709 Q75.3916 304.289 75.3916 305.287 Q76.2934 304.901 76.9053 304.192 Q77.5172 303.484 77.7426 302.679 Q78.0003 301.874 78.0647 301.358 Q78.1613 300.811 78.1613 300.296 Q78.1613 296.173 74.0067 293.017 Q72.7507 292.083 71.4947 291.407 Q70.2709 290.698 68.7572 290.183 Q67.2757 289.668 66.4706 289.442 Q65.6654 289.185 63.8297 288.734 Q66.8248 291.729 66.8248 295.4 Q66.8248 296.946 66.4062 298.331 Q65.9875 299.684 65.1179 300.875 Q64.2162 302.067 62.6381 302.775 Q61.06 303.452 58.9666 303.452 Q56.7444 303.452 53.717 302.582 Q50.6897 301.713 45.1181 299.619 Q41.9941 298.492 40.4804 298.492 Q39.7397 298.492 39.2888 298.653 Q38.8057 298.814 38.6447 299.136 Q38.4515 299.458 38.4193 299.651 Q38.3871 299.812 38.3871 300.134 Q38.3871 302.035 40.3194 303.806 Q42.2518 305.577 46.5673 306.801 Q47.3725 307.059 47.5657 307.22 Q47.759 307.381 47.759 307.864 Q47.7268 308.669 47.0826 308.669 Q46.825 308.669 45.8266 308.379 Q44.796 308.089 43.2823 307.413 Q41.7365 306.704 40.3516 305.738 Q38.9346 304.772 37.9362 303.258 Q36.9378 301.713 36.9378 299.941 Q36.9378 297.526 38.5159 296.044 Q40.0618 294.531 42.3484 294.531 Q43.2823 294.531 44.1197 294.788 Q44.9248 295.014 47.0826 295.851 Q55.7782 299.233 60.0294 299.233 Q61.06 299.233 61.9295 299.072 Q62.7669 298.878 63.6042 298.46 Q64.4094 298.041 64.8925 297.204 Q65.3434 296.334 65.3434 295.143 Q65.3434 293.629 64.6348 292.212 Q63.8941 290.763 62.8957 289.861 Q61.8973 288.927 61.06 288.379 Q60.1904 287.8 59.7395 287.671 L47.8878 284.708 L42.606 283.387 Q39.7397 282.776 39.0312 282.486 Q38.3548 282.099 38.0006 281.423 Q37.6463 280.747 37.6463 280.167 Q37.6463 279.362 38.1294 278.814 Q38.6125 278.235 39.4498 278.235 Z\" fill=\"#000000\" fill-rule=\"evenodd\" fill-opacity=\"1\" /><path clip-path=\"url(#clip960)\" d=\"M82.5735 224.382 L16.6159 224.382 L16.6159 214.43 L18.1296 214.43 L18.1296 219.969 L81.0598 219.969 L81.0598 214.43 L82.5735 214.43 L82.5735 224.382 Z\" fill=\"#000000\" fill-rule=\"evenodd\" fill-opacity=\"1\" /><path clip-path=\"url(#clip960)\" d=\"M48.6607 162.689 Q49.0472 162.303 49.5947 162.303 Q50.1422 162.303 50.5287 162.689 Q50.9151 163.076 50.9151 163.623 L50.9151 204.911 Q50.9151 205.459 50.5287 205.845 Q50.1422 206.231 49.5947 206.231 Q49.0472 206.231 48.6607 205.845 Q48.2743 205.459 48.2743 204.911 L48.2743 163.623 Q48.2743 163.076 48.6607 162.689 Z\" fill=\"#000000\" fill-rule=\"evenodd\" fill-opacity=\"1\" /><path clip-path=\"url(#clip960)\" d=\"M81.0598 155.417 L81.0598 149.878 L18.1296 149.878 L18.1296 155.417 L16.6159 155.417 L16.6159 145.466 L82.5735 145.466 L82.5735 155.417 L81.0598 155.417 Z\" fill=\"#000000\" fill-rule=\"evenodd\" fill-opacity=\"1\" /><polyline clip-path=\"url(#clip963)\" style=\"stroke:#000000; stroke-linecap:round; stroke-linejoin:round; stroke-width:4; stroke-opacity:1; fill:none\" stroke-dasharray=\"2, 4\" points=\"309.067,47.2441 385.381,47.2441 461.695,47.2441 538.009,47.2441 614.323,47.2441 690.637,47.2441 766.951,47.2441 843.265,47.2441 919.579,47.2441 995.893,47.2441 1072.21,47.2441 1148.52,47.2441 1224.83,47.2441 1301.15,47.2441 1377.46,47.2441 1453.78,47.2441 1530.09,47.2441 1606.4,47.2441 1682.72,47.2441 1759.03,47.2441 1835.35,47.2441 1911.66,47.2441 1987.97,47.2441 2064.29,47.2441 2140.6,47.2441 2216.92,47.2441 2293.23,47.2441 \"/>\n",
       "<polyline clip-path=\"url(#clip963)\" style=\"stroke:#000000; stroke-linecap:round; stroke-linejoin:round; stroke-width:4; stroke-opacity:1; fill:none\" stroke-dasharray=\"2, 4\" points=\"309.067,63.219 385.381,63.219 461.695,63.219 538.009,63.219 614.323,63.219 690.637,63.219 766.951,63.219 843.265,63.219 919.579,63.219 995.893,63.219 1072.21,63.219 1148.52,63.219 1224.83,63.219 1301.15,63.219 1377.46,63.219 1453.78,63.219 1530.09,63.219 1606.4,63.219 1682.72,63.219 1759.03,63.219 1835.35,63.219 1911.66,63.219 1987.97,63.219 2064.29,63.219 2140.6,63.219 2216.92,63.219 2293.23,63.219 \"/>\n",
       "<polyline clip-path=\"url(#clip963)\" style=\"stroke:#000000; stroke-linecap:round; stroke-linejoin:round; stroke-width:12; stroke-opacity:1; fill:none\" points=\"309.067,381.896 385.381,339.406 461.695,240.214 538.009,143.058 614.323,77.4324 690.637,46.6734 766.951,41.5738 843.265,46.4072 919.579,47.6913 995.893,45.5263 1072.21,45.0021 1148.52,45.8736 1224.83,45.6225 1301.15,45.4718 1377.46,45.9412 1453.78,45.584 1530.09,45.5185 1606.4,45.725 1682.72,45.6502 1759.03,45.6241 1835.35,45.6501 1911.66,45.655 1987.97,45.6529 2064.29,45.6492 2140.6,45.6458 2216.92,45.6432 2293.23,45.6414 \"/>\n",
       "<circle clip-path=\"url(#clip963)\" cx=\"309.067\" cy=\"381.896\" r=\"10.8\" fill=\"#000000\" fill-rule=\"evenodd\" fill-opacity=\"1\" stroke=\"none\"/>\n",
       "<circle clip-path=\"url(#clip963)\" cx=\"385.381\" cy=\"339.406\" r=\"10.8\" fill=\"#000000\" fill-rule=\"evenodd\" fill-opacity=\"1\" stroke=\"none\"/>\n",
       "<circle clip-path=\"url(#clip963)\" cx=\"461.695\" cy=\"240.214\" r=\"10.8\" fill=\"#000000\" fill-rule=\"evenodd\" fill-opacity=\"1\" stroke=\"none\"/>\n",
       "<circle clip-path=\"url(#clip963)\" cx=\"538.009\" cy=\"143.058\" r=\"10.8\" fill=\"#000000\" fill-rule=\"evenodd\" fill-opacity=\"1\" stroke=\"none\"/>\n",
       "<circle clip-path=\"url(#clip963)\" cx=\"614.323\" cy=\"77.4324\" r=\"10.8\" fill=\"#000000\" fill-rule=\"evenodd\" fill-opacity=\"1\" stroke=\"none\"/>\n",
       "<circle clip-path=\"url(#clip963)\" cx=\"919.579\" cy=\"47.6913\" r=\"10.8\" fill=\"#000000\" fill-rule=\"evenodd\" fill-opacity=\"1\" stroke=\"none\"/>\n",
       "<polyline clip-path=\"url(#clip963)\" style=\"stroke:#000000; stroke-linecap:round; stroke-linejoin:round; stroke-width:12; stroke-opacity:1; fill:none\" stroke-dasharray=\"48, 24, 6, 24\" points=\"309.067,381.896 385.381,339.41 461.695,240.225 538.009,143.072 614.323,77.4429 690.637,46.6755 766.951,41.5713 843.265,46.4078 919.579,47.6942 995.893,45.5273 1072.21,45.0011 1148.52,45.8738 1224.83,45.6229 1301.15,45.4713 1377.46,45.9415 1453.78,45.584 1530.09,45.5183 1606.4,45.7251 1682.72,45.6502 1759.03,45.6241 1835.35,45.6501 1911.66,45.655 1987.97,45.6529 2064.29,45.6492 2140.6,45.6458 2216.92,45.6432 2293.23,45.6414 \"/>\n",
       "<path clip-path=\"url(#clip963)\" d=\"M297.067 369.896 L297.067 393.896 L321.067 393.896 L321.067 369.896 L297.067 369.896 Z\" fill=\"#000000\" fill-rule=\"evenodd\" fill-opacity=\"1\" stroke=\"none\"/>\n",
       "<path clip-path=\"url(#clip963)\" d=\"M373.381 327.41 L373.381 351.41 L397.381 351.41 L397.381 327.41 L373.381 327.41 Z\" fill=\"#000000\" fill-rule=\"evenodd\" fill-opacity=\"1\" stroke=\"none\"/>\n",
       "<path clip-path=\"url(#clip963)\" d=\"M449.695 228.225 L449.695 252.225 L473.695 252.225 L473.695 228.225 L449.695 228.225 Z\" fill=\"#000000\" fill-rule=\"evenodd\" fill-opacity=\"1\" stroke=\"none\"/>\n",
       "<path clip-path=\"url(#clip963)\" d=\"M526.009 131.072 L526.009 155.072 L550.009 155.072 L550.009 131.072 L526.009 131.072 Z\" fill=\"#000000\" fill-rule=\"evenodd\" fill-opacity=\"1\" stroke=\"none\"/>\n",
       "<path clip-path=\"url(#clip963)\" d=\"M602.323 65.4429 L602.323 89.4429 L626.323 89.4429 L626.323 65.4429 L602.323 65.4429 Z\" fill=\"#000000\" fill-rule=\"evenodd\" fill-opacity=\"1\" stroke=\"none\"/>\n",
       "<path clip-path=\"url(#clip963)\" d=\"M907.579 35.6942 L907.579 59.6942 L931.579 59.6942 L931.579 35.6942 L907.579 35.6942 Z\" fill=\"#000000\" fill-rule=\"evenodd\" fill-opacity=\"1\" stroke=\"none\"/>\n",
       "<path clip-path=\"url(#clip960)\" d=\"M1938.9 386.977 L2282.65 386.977 L2282.65 179.617 L1938.9 179.617  Z\" fill=\"#ffffff\" fill-rule=\"evenodd\" fill-opacity=\"1\"/>\n",
       "<polyline clip-path=\"url(#clip960)\" style=\"stroke:#000000; stroke-linecap:round; stroke-linejoin:round; stroke-width:4; stroke-opacity:1; fill:none\" points=\"1938.9,386.977 2282.65,386.977 2282.65,179.617 1938.9,179.617 1938.9,386.977 \"/>\n",
       "<polyline clip-path=\"url(#clip960)\" style=\"stroke:#000000; stroke-linecap:round; stroke-linejoin:round; stroke-width:4; stroke-opacity:1; fill:none\" stroke-dasharray=\"2, 4\" points=\"1962.27,231.457 2102.49,231.457 \"/>\n",
       "<path clip-path=\"url(#clip960)\" d=\"M2125.85 214.177 L2130.53 214.177 L2130.53 244.802 L2147.36 244.802 L2147.36 248.737 L2125.85 248.737 L2125.85 214.177 Z\" fill=\"#000000\" fill-rule=\"evenodd\" fill-opacity=\"1\" /><path clip-path=\"url(#clip960)\" d=\"M2152.08 222.811 L2156.34 222.811 L2156.34 248.737 L2152.08 248.737 L2152.08 222.811 M2152.08 212.719 L2156.34 212.719 L2156.34 218.112 L2152.08 218.112 L2152.08 212.719 Z\" fill=\"#000000\" fill-rule=\"evenodd\" fill-opacity=\"1\" /><path clip-path=\"url(#clip960)\" d=\"M2185.44 227.788 Q2187.03 224.918 2189.26 223.552 Q2191.48 222.186 2194.49 222.186 Q2198.54 222.186 2200.74 225.033 Q2202.94 227.857 2202.94 233.089 L2202.94 248.737 L2198.66 248.737 L2198.66 233.228 Q2198.66 229.501 2197.34 227.695 Q2196.02 225.89 2193.31 225.89 Q2190 225.89 2188.08 228.089 Q2186.16 230.288 2186.16 234.084 L2186.16 248.737 L2181.87 248.737 L2181.87 233.228 Q2181.87 229.478 2180.55 227.695 Q2179.23 225.89 2176.48 225.89 Q2173.22 225.89 2171.29 228.112 Q2169.37 230.311 2169.37 234.084 L2169.37 248.737 L2165.09 248.737 L2165.09 222.811 L2169.37 222.811 L2169.37 226.839 Q2170.83 224.455 2172.87 223.32 Q2174.91 222.186 2177.71 222.186 Q2180.53 222.186 2182.5 223.621 Q2184.49 225.057 2185.44 227.788 Z\" fill=\"#000000\" fill-rule=\"evenodd\" fill-opacity=\"1\" /><path clip-path=\"url(#clip960)\" d=\"M2211.43 222.811 L2215.69 222.811 L2215.69 248.737 L2211.43 248.737 L2211.43 222.811 M2211.43 212.719 L2215.69 212.719 L2215.69 218.112 L2211.43 218.112 L2211.43 212.719 Z\" fill=\"#000000\" fill-rule=\"evenodd\" fill-opacity=\"1\" /><path clip-path=\"url(#clip960)\" d=\"M2228.82 215.45 L2228.82 222.811 L2237.59 222.811 L2237.59 226.121 L2228.82 226.121 L2228.82 240.195 Q2228.82 243.367 2229.67 244.269 Q2230.55 245.172 2233.22 245.172 L2237.59 245.172 L2237.59 248.737 L2233.22 248.737 Q2228.28 248.737 2226.41 246.908 Q2224.53 245.056 2224.53 240.195 L2224.53 226.121 L2221.41 226.121 L2221.41 222.811 L2224.53 222.811 L2224.53 215.45 L2228.82 215.45 Z\" fill=\"#000000\" fill-rule=\"evenodd\" fill-opacity=\"1\" /><polyline clip-path=\"url(#clip960)\" style=\"stroke:#000000; stroke-linecap:round; stroke-linejoin:round; stroke-width:12; stroke-opacity:1; fill:none\" points=\"1962.27,283.297 2102.49,283.297 \"/>\n",
       "<circle clip-path=\"url(#clip960)\" cx=\"2032.38\" cy=\"283.297\" r=\"19.4742\" fill=\"#000000\" fill-rule=\"evenodd\" fill-opacity=\"1\" stroke=\"none\"/>\n",
       "<path clip-path=\"url(#clip960)\" d=\"M2125.85 266.017 L2132.82 266.017 L2141.64 289.535 L2150.51 266.017 L2157.47 266.017 L2157.47 300.577 L2152.91 300.577 L2152.91 270.23 L2144 293.933 L2139.3 293.933 L2130.39 270.23 L2130.39 300.577 L2125.85 300.577 L2125.85 266.017 Z\" fill=\"#000000\" fill-rule=\"evenodd\" fill-opacity=\"1\" /><path clip-path=\"url(#clip960)\" d=\"M2176.62 277.637 Q2173.19 277.637 2171.2 280.322 Q2169.21 282.984 2169.21 287.637 Q2169.21 292.29 2171.18 294.975 Q2173.17 297.637 2176.62 297.637 Q2180.02 297.637 2182.01 294.952 Q2184 292.267 2184 287.637 Q2184 283.031 2182.01 280.346 Q2180.02 277.637 2176.62 277.637 M2176.62 274.026 Q2182.17 274.026 2185.34 277.637 Q2188.52 281.248 2188.52 287.637 Q2188.52 294.003 2185.34 297.637 Q2182.17 301.248 2176.62 301.248 Q2171.04 301.248 2167.87 297.637 Q2164.72 294.003 2164.72 287.637 Q2164.72 281.248 2167.87 277.637 Q2171.04 274.026 2176.62 274.026 Z\" fill=\"#000000\" fill-rule=\"evenodd\" fill-opacity=\"1\" /><path clip-path=\"url(#clip960)\" d=\"M2217.13 284.929 L2217.13 300.577 L2212.87 300.577 L2212.87 285.068 Q2212.87 281.387 2211.43 279.559 Q2210 277.73 2207.13 277.73 Q2203.68 277.73 2201.69 279.929 Q2199.7 282.128 2199.7 285.924 L2199.7 300.577 L2195.41 300.577 L2195.41 274.651 L2199.7 274.651 L2199.7 278.679 Q2201.22 276.341 2203.28 275.184 Q2205.37 274.026 2208.08 274.026 Q2212.54 274.026 2214.84 276.804 Q2217.13 279.559 2217.13 284.929 Z\" fill=\"#000000\" fill-rule=\"evenodd\" fill-opacity=\"1\" /><path clip-path=\"url(#clip960)\" d=\"M2235.67 277.637 Q2232.24 277.637 2230.25 280.322 Q2228.26 282.984 2228.26 287.637 Q2228.26 292.29 2230.23 294.975 Q2232.22 297.637 2235.67 297.637 Q2239.07 297.637 2241.06 294.952 Q2243.05 292.267 2243.05 287.637 Q2243.05 283.031 2241.06 280.346 Q2239.07 277.637 2235.67 277.637 M2235.67 274.026 Q2241.22 274.026 2244.4 277.637 Q2247.57 281.248 2247.57 287.637 Q2247.57 294.003 2244.4 297.637 Q2241.22 301.248 2235.67 301.248 Q2230.09 301.248 2226.92 297.637 Q2223.77 294.003 2223.77 287.637 Q2223.77 281.248 2226.92 277.637 Q2230.09 274.026 2235.67 274.026 Z\" fill=\"#000000\" fill-rule=\"evenodd\" fill-opacity=\"1\" /><path clip-path=\"url(#clip960)\" d=\"M2254.4 294.697 L2259.28 294.697 L2259.28 300.577 L2254.4 300.577 L2254.4 294.697 Z\" fill=\"#000000\" fill-rule=\"evenodd\" fill-opacity=\"1\" /><polyline clip-path=\"url(#clip960)\" style=\"stroke:#000000; stroke-linecap:round; stroke-linejoin:round; stroke-width:12; stroke-opacity:1; fill:none\" stroke-dasharray=\"48, 24, 6, 24\" points=\"1962.27,335.137 2102.49,335.137 \"/>\n",
       "<path clip-path=\"url(#clip960)\" d=\"M2010.74 313.499 L2010.74 356.775 L2054.02 356.775 L2054.02 313.499 L2010.74 313.499 Z\" fill=\"#000000\" fill-rule=\"evenodd\" fill-opacity=\"1\" stroke=\"none\"/>\n",
       "<path clip-path=\"url(#clip960)\" d=\"M2130.53 321.7 L2130.53 348.574 L2136.18 348.574 Q2143.33 348.574 2146.64 345.334 Q2149.97 342.093 2149.97 335.102 Q2149.97 328.158 2146.64 324.94 Q2143.33 321.7 2136.18 321.7 L2130.53 321.7 M2125.85 317.857 L2135.46 317.857 Q2145.51 317.857 2150.21 322.047 Q2154.91 326.213 2154.91 335.102 Q2154.91 344.037 2150.18 348.227 Q2145.46 352.417 2135.46 352.417 L2125.85 352.417 L2125.85 317.857 Z\" fill=\"#000000\" fill-rule=\"evenodd\" fill-opacity=\"1\" /><path clip-path=\"url(#clip960)\" d=\"M2184.35 338.389 L2184.35 340.473 L2164.77 340.473 Q2165.04 344.871 2167.41 347.185 Q2169.79 349.477 2174.03 349.477 Q2176.48 349.477 2178.77 348.875 Q2181.09 348.273 2183.35 347.07 L2183.35 351.098 Q2181.06 352.07 2178.66 352.579 Q2176.25 353.088 2173.77 353.088 Q2167.57 353.088 2163.93 349.477 Q2160.32 345.866 2160.32 339.709 Q2160.32 333.343 2163.75 329.616 Q2167.2 325.866 2173.03 325.866 Q2178.26 325.866 2181.29 329.246 Q2184.35 332.602 2184.35 338.389 M2180.09 337.139 Q2180.04 333.644 2178.12 331.561 Q2176.22 329.477 2173.08 329.477 Q2169.51 329.477 2167.36 331.491 Q2165.23 333.505 2164.91 337.162 L2180.09 337.139 Z\" fill=\"#000000\" fill-rule=\"evenodd\" fill-opacity=\"1\" /><path clip-path=\"url(#clip960)\" d=\"M2210 327.487 L2210 331.468 Q2208.19 330.473 2206.36 329.987 Q2204.56 329.477 2202.71 329.477 Q2198.56 329.477 2196.27 332.116 Q2193.98 334.732 2193.98 339.477 Q2193.98 344.223 2196.27 346.861 Q2198.56 349.477 2202.71 349.477 Q2204.56 349.477 2206.36 348.991 Q2208.19 348.482 2210 347.486 L2210 351.422 Q2208.22 352.255 2206.29 352.672 Q2204.4 353.088 2202.24 353.088 Q2196.39 353.088 2192.94 349.408 Q2189.49 345.727 2189.49 339.477 Q2189.49 333.135 2192.96 329.5 Q2196.46 325.866 2202.52 325.866 Q2204.49 325.866 2206.36 326.283 Q2208.24 326.676 2210 327.487 Z\" fill=\"#000000\" fill-rule=\"evenodd\" fill-opacity=\"1\" /><path clip-path=\"url(#clip960)\" d=\"M2227.45 329.477 Q2224.03 329.477 2222.03 332.162 Q2220.04 334.824 2220.04 339.477 Q2220.04 344.13 2222.01 346.815 Q2224 349.477 2227.45 349.477 Q2230.85 349.477 2232.84 346.792 Q2234.84 344.107 2234.84 339.477 Q2234.84 334.871 2232.84 332.186 Q2230.85 329.477 2227.45 329.477 M2227.45 325.866 Q2233.01 325.866 2236.18 329.477 Q2239.35 333.088 2239.35 339.477 Q2239.35 345.843 2236.18 349.477 Q2233.01 353.088 2227.45 353.088 Q2221.87 353.088 2218.7 349.477 Q2215.55 345.843 2215.55 339.477 Q2215.55 333.088 2218.7 329.477 Q2221.87 325.866 2227.45 325.866 Z\" fill=\"#000000\" fill-rule=\"evenodd\" fill-opacity=\"1\" /><path clip-path=\"url(#clip960)\" d=\"M2246.18 346.537 L2251.06 346.537 L2251.06 352.417 L2246.18 352.417 L2246.18 346.537 Z\" fill=\"#000000\" fill-rule=\"evenodd\" fill-opacity=\"1\" /><path clip-path=\"url(#clip960)\" d=\"M249.542 910.936 L2352.76 910.936 L2352.76 559.488 L249.542 559.488  Z\" fill=\"#ffffff\" fill-rule=\"evenodd\" fill-opacity=\"1\"/>\n",
       "<defs>\n",
       "  <clipPath id=\"clip964\">\n",
       "    <rect x=\"249\" y=\"559\" width=\"2104\" height=\"352\"/>\n",
       "  </clipPath>\n",
       "</defs>\n",
       "<polyline clip-path=\"url(#clip964)\" style=\"stroke:#000000; stroke-linecap:round; stroke-linejoin:round; stroke-width:8; stroke-opacity:0.1; fill:none\" points=\"614.323,910.936 614.323,559.488 \"/>\n",
       "<polyline clip-path=\"url(#clip964)\" style=\"stroke:#000000; stroke-linecap:round; stroke-linejoin:round; stroke-width:8; stroke-opacity:0.1; fill:none\" points=\"995.893,910.936 995.893,559.488 \"/>\n",
       "<polyline clip-path=\"url(#clip964)\" style=\"stroke:#000000; stroke-linecap:round; stroke-linejoin:round; stroke-width:8; stroke-opacity:0.1; fill:none\" points=\"1377.46,910.936 1377.46,559.488 \"/>\n",
       "<polyline clip-path=\"url(#clip964)\" style=\"stroke:#000000; stroke-linecap:round; stroke-linejoin:round; stroke-width:8; stroke-opacity:0.1; fill:none\" points=\"1759.03,910.936 1759.03,559.488 \"/>\n",
       "<polyline clip-path=\"url(#clip964)\" style=\"stroke:#000000; stroke-linecap:round; stroke-linejoin:round; stroke-width:8; stroke-opacity:0.1; fill:none\" points=\"2140.6,910.936 2140.6,559.488 \"/>\n",
       "<polyline clip-path=\"url(#clip960)\" style=\"stroke:#000000; stroke-linecap:round; stroke-linejoin:round; stroke-width:4; stroke-opacity:1; fill:none\" points=\"249.542,910.936 2352.76,910.936 \"/>\n",
       "<polyline clip-path=\"url(#clip960)\" style=\"stroke:#000000; stroke-linecap:round; stroke-linejoin:round; stroke-width:4; stroke-opacity:1; fill:none\" points=\"614.323,910.936 614.323,892.038 \"/>\n",
       "<polyline clip-path=\"url(#clip960)\" style=\"stroke:#000000; stroke-linecap:round; stroke-linejoin:round; stroke-width:4; stroke-opacity:1; fill:none\" points=\"995.893,910.936 995.893,892.038 \"/>\n",
       "<polyline clip-path=\"url(#clip960)\" style=\"stroke:#000000; stroke-linecap:round; stroke-linejoin:round; stroke-width:4; stroke-opacity:1; fill:none\" points=\"1377.46,910.936 1377.46,892.038 \"/>\n",
       "<polyline clip-path=\"url(#clip960)\" style=\"stroke:#000000; stroke-linecap:round; stroke-linejoin:round; stroke-width:4; stroke-opacity:1; fill:none\" points=\"1759.03,910.936 1759.03,892.038 \"/>\n",
       "<polyline clip-path=\"url(#clip960)\" style=\"stroke:#000000; stroke-linecap:round; stroke-linejoin:round; stroke-width:4; stroke-opacity:1; fill:none\" points=\"2140.6,910.936 2140.6,892.038 \"/>\n",
       "<path clip-path=\"url(#clip960)\" d=\"M604.601 938.776 L622.957 938.776 L622.957 942.711 L608.883 942.711 L608.883 951.183 Q609.902 950.836 610.92 950.674 Q611.939 950.489 612.957 950.489 Q618.744 950.489 622.124 953.66 Q625.503 956.831 625.503 962.248 Q625.503 967.827 622.031 970.928 Q618.559 974.007 612.24 974.007 Q610.064 974.007 607.795 973.637 Q605.55 973.266 603.142 972.526 L603.142 967.827 Q605.226 968.961 607.448 969.516 Q609.67 970.072 612.147 970.072 Q616.152 970.072 618.49 967.966 Q620.828 965.859 620.828 962.248 Q620.828 958.637 618.49 956.53 Q616.152 954.424 612.147 954.424 Q610.272 954.424 608.397 954.841 Q606.545 955.257 604.601 956.137 L604.601 938.776 Z\" fill=\"#000000\" fill-rule=\"evenodd\" fill-opacity=\"1\" /><path clip-path=\"url(#clip960)\" d=\"M970.581 969.401 L978.219 969.401 L978.219 943.035 L969.909 944.702 L969.909 940.443 L978.173 938.776 L982.849 938.776 L982.849 969.401 L990.488 969.401 L990.488 973.336 L970.581 973.336 L970.581 969.401 Z\" fill=\"#000000\" fill-rule=\"evenodd\" fill-opacity=\"1\" /><path clip-path=\"url(#clip960)\" d=\"M1009.93 941.855 Q1006.32 941.855 1004.49 945.419 Q1002.69 948.961 1002.69 956.091 Q1002.69 963.197 1004.49 966.762 Q1006.32 970.303 1009.93 970.303 Q1013.57 970.303 1015.37 966.762 Q1017.2 963.197 1017.2 956.091 Q1017.2 948.961 1015.37 945.419 Q1013.57 941.855 1009.93 941.855 M1009.93 938.151 Q1015.74 938.151 1018.8 942.757 Q1021.88 947.341 1021.88 956.091 Q1021.88 964.817 1018.8 969.424 Q1015.74 974.007 1009.93 974.007 Q1004.12 974.007 1001.04 969.424 Q997.988 964.817 997.988 956.091 Q997.988 947.341 1001.04 942.757 Q1004.12 938.151 1009.93 938.151 Z\" fill=\"#000000\" fill-rule=\"evenodd\" fill-opacity=\"1\" /><path clip-path=\"url(#clip960)\" d=\"M1352.65 969.401 L1360.29 969.401 L1360.29 943.035 L1351.98 944.702 L1351.98 940.443 L1360.24 938.776 L1364.92 938.776 L1364.92 969.401 L1372.56 969.401 L1372.56 973.336 L1352.65 973.336 L1352.65 969.401 Z\" fill=\"#000000\" fill-rule=\"evenodd\" fill-opacity=\"1\" /><path clip-path=\"url(#clip960)\" d=\"M1382.05 938.776 L1400.4 938.776 L1400.4 942.711 L1386.33 942.711 L1386.33 951.183 Q1387.35 950.836 1388.37 950.674 Q1389.38 950.489 1390.4 950.489 Q1396.19 950.489 1399.57 953.66 Q1402.95 956.831 1402.95 962.248 Q1402.95 967.827 1399.48 970.928 Q1396 974.007 1389.69 974.007 Q1387.51 974.007 1385.24 973.637 Q1383 973.266 1380.59 972.526 L1380.59 967.827 Q1382.67 968.961 1384.89 969.516 Q1387.12 970.072 1389.59 970.072 Q1393.6 970.072 1395.94 967.966 Q1398.27 965.859 1398.27 962.248 Q1398.27 958.637 1395.94 956.53 Q1393.6 954.424 1389.59 954.424 Q1387.72 954.424 1385.84 954.841 Q1383.99 955.257 1382.05 956.137 L1382.05 938.776 Z\" fill=\"#000000\" fill-rule=\"evenodd\" fill-opacity=\"1\" /><path clip-path=\"url(#clip960)\" d=\"M1737.81 969.401 L1754.13 969.401 L1754.13 973.336 L1732.18 973.336 L1732.18 969.401 Q1734.84 966.646 1739.43 962.016 Q1744.03 957.364 1745.21 956.021 Q1747.46 953.498 1748.34 951.762 Q1749.24 950.003 1749.24 948.313 Q1749.24 945.558 1747.3 943.822 Q1745.38 942.086 1742.27 942.086 Q1740.07 942.086 1737.62 942.85 Q1735.19 943.614 1732.41 945.165 L1732.41 940.443 Q1735.24 939.308 1737.69 938.73 Q1740.14 938.151 1742.18 938.151 Q1747.55 938.151 1750.75 940.836 Q1753.94 943.521 1753.94 948.012 Q1753.94 950.142 1753.13 952.063 Q1752.34 953.961 1750.24 956.554 Q1749.66 957.225 1746.56 960.442 Q1743.45 963.637 1737.81 969.401 Z\" fill=\"#000000\" fill-rule=\"evenodd\" fill-opacity=\"1\" /><path clip-path=\"url(#clip960)\" d=\"M1773.94 941.855 Q1770.33 941.855 1768.5 945.419 Q1766.69 948.961 1766.69 956.091 Q1766.69 963.197 1768.5 966.762 Q1770.33 970.303 1773.94 970.303 Q1777.57 970.303 1779.38 966.762 Q1781.21 963.197 1781.21 956.091 Q1781.21 948.961 1779.38 945.419 Q1777.57 941.855 1773.94 941.855 M1773.94 938.151 Q1779.75 938.151 1782.81 942.757 Q1785.88 947.341 1785.88 956.091 Q1785.88 964.817 1782.81 969.424 Q1779.75 974.007 1773.94 974.007 Q1768.13 974.007 1765.05 969.424 Q1762 964.817 1762 956.091 Q1762 947.341 1765.05 942.757 Q1768.13 938.151 1773.94 938.151 Z\" fill=\"#000000\" fill-rule=\"evenodd\" fill-opacity=\"1\" /><path clip-path=\"url(#clip960)\" d=\"M2119.87 969.401 L2136.19 969.401 L2136.19 973.336 L2114.25 973.336 L2114.25 969.401 Q2116.91 966.646 2121.49 962.016 Q2126.1 957.364 2127.28 956.021 Q2129.53 953.498 2130.41 951.762 Q2131.31 950.003 2131.31 948.313 Q2131.31 945.558 2129.36 943.822 Q2127.44 942.086 2124.34 942.086 Q2122.14 942.086 2119.69 942.85 Q2117.26 943.614 2114.48 945.165 L2114.48 940.443 Q2117.3 939.308 2119.76 938.73 Q2122.21 938.151 2124.25 938.151 Q2129.62 938.151 2132.81 940.836 Q2136.01 943.521 2136.01 948.012 Q2136.01 950.142 2135.2 952.063 Q2134.41 953.961 2132.3 956.554 Q2131.73 957.225 2128.62 960.442 Q2125.52 963.637 2119.87 969.401 Z\" fill=\"#000000\" fill-rule=\"evenodd\" fill-opacity=\"1\" /><path clip-path=\"url(#clip960)\" d=\"M2146.05 938.776 L2164.41 938.776 L2164.41 942.711 L2150.34 942.711 L2150.34 951.183 Q2151.36 950.836 2152.37 950.674 Q2153.39 950.489 2154.41 950.489 Q2160.2 950.489 2163.58 953.66 Q2166.96 956.831 2166.96 962.248 Q2166.96 967.827 2163.48 970.928 Q2160.01 974.007 2153.69 974.007 Q2151.52 974.007 2149.25 973.637 Q2147 973.266 2144.6 972.526 L2144.6 967.827 Q2146.68 968.961 2148.9 969.516 Q2151.12 970.072 2153.6 970.072 Q2157.61 970.072 2159.94 967.966 Q2162.28 965.859 2162.28 962.248 Q2162.28 958.637 2159.94 956.53 Q2157.61 954.424 2153.6 954.424 Q2151.73 954.424 2149.85 954.841 Q2148 955.257 2146.05 956.137 L2146.05 938.776 Z\" fill=\"#000000\" fill-rule=\"evenodd\" fill-opacity=\"1\" /><polyline clip-path=\"url(#clip964)\" style=\"stroke:#000000; stroke-linecap:round; stroke-linejoin:round; stroke-width:8; stroke-opacity:0.1; fill:none\" points=\"249.542,894.961 2352.76,894.961 \"/>\n",
       "<polyline clip-path=\"url(#clip964)\" style=\"stroke:#000000; stroke-linecap:round; stroke-linejoin:round; stroke-width:8; stroke-opacity:0.1; fill:none\" points=\"249.542,815.086 2352.76,815.086 \"/>\n",
       "<polyline clip-path=\"url(#clip964)\" style=\"stroke:#000000; stroke-linecap:round; stroke-linejoin:round; stroke-width:8; stroke-opacity:0.1; fill:none\" points=\"249.542,735.212 2352.76,735.212 \"/>\n",
       "<polyline clip-path=\"url(#clip964)\" style=\"stroke:#000000; stroke-linecap:round; stroke-linejoin:round; stroke-width:8; stroke-opacity:0.1; fill:none\" points=\"249.542,655.337 2352.76,655.337 \"/>\n",
       "<polyline clip-path=\"url(#clip964)\" style=\"stroke:#000000; stroke-linecap:round; stroke-linejoin:round; stroke-width:8; stroke-opacity:0.1; fill:none\" points=\"249.542,575.463 2352.76,575.463 \"/>\n",
       "<polyline clip-path=\"url(#clip960)\" style=\"stroke:#000000; stroke-linecap:round; stroke-linejoin:round; stroke-width:4; stroke-opacity:1; fill:none\" points=\"249.542,910.936 249.542,559.488 \"/>\n",
       "<polyline clip-path=\"url(#clip960)\" style=\"stroke:#000000; stroke-linecap:round; stroke-linejoin:round; stroke-width:4; stroke-opacity:1; fill:none\" points=\"249.542,894.961 268.44,894.961 \"/>\n",
       "<polyline clip-path=\"url(#clip960)\" style=\"stroke:#000000; stroke-linecap:round; stroke-linejoin:round; stroke-width:4; stroke-opacity:1; fill:none\" points=\"249.542,815.086 268.44,815.086 \"/>\n",
       "<polyline clip-path=\"url(#clip960)\" style=\"stroke:#000000; stroke-linecap:round; stroke-linejoin:round; stroke-width:4; stroke-opacity:1; fill:none\" points=\"249.542,735.212 268.44,735.212 \"/>\n",
       "<polyline clip-path=\"url(#clip960)\" style=\"stroke:#000000; stroke-linecap:round; stroke-linejoin:round; stroke-width:4; stroke-opacity:1; fill:none\" points=\"249.542,655.337 268.44,655.337 \"/>\n",
       "<polyline clip-path=\"url(#clip960)\" style=\"stroke:#000000; stroke-linecap:round; stroke-linejoin:round; stroke-width:4; stroke-opacity:1; fill:none\" points=\"249.542,575.463 268.44,575.463 \"/>\n",
       "<path clip-path=\"url(#clip960)\" d=\"M126.205 880.76 Q122.593 880.76 120.765 884.324 Q118.959 887.866 118.959 894.996 Q118.959 902.102 120.765 905.667 Q122.593 909.209 126.205 909.209 Q129.839 909.209 131.644 905.667 Q133.473 902.102 133.473 894.996 Q133.473 887.866 131.644 884.324 Q129.839 880.76 126.205 880.76 M126.205 877.056 Q132.015 877.056 135.07 881.662 Q138.149 886.246 138.149 894.996 Q138.149 903.722 135.07 908.329 Q132.015 912.912 126.205 912.912 Q120.394 912.912 117.316 908.329 Q114.26 903.722 114.26 894.996 Q114.26 886.246 117.316 881.662 Q120.394 877.056 126.205 877.056 Z\" fill=\"#000000\" fill-rule=\"evenodd\" fill-opacity=\"1\" /><path clip-path=\"url(#clip960)\" d=\"M146.366 906.361 L151.251 906.361 L151.251 912.241 L146.366 912.241 L146.366 906.361 Z\" fill=\"#000000\" fill-rule=\"evenodd\" fill-opacity=\"1\" /><path clip-path=\"url(#clip960)\" d=\"M171.436 880.76 Q167.825 880.76 165.996 884.324 Q164.19 887.866 164.19 894.996 Q164.19 902.102 165.996 905.667 Q167.825 909.209 171.436 909.209 Q175.07 909.209 176.876 905.667 Q178.704 902.102 178.704 894.996 Q178.704 887.866 176.876 884.324 Q175.07 880.76 171.436 880.76 M171.436 877.056 Q177.246 877.056 180.301 881.662 Q183.38 886.246 183.38 894.996 Q183.38 903.722 180.301 908.329 Q177.246 912.912 171.436 912.912 Q165.626 912.912 162.547 908.329 Q159.491 903.722 159.491 894.996 Q159.491 886.246 162.547 881.662 Q165.626 877.056 171.436 877.056 Z\" fill=\"#000000\" fill-rule=\"evenodd\" fill-opacity=\"1\" /><path clip-path=\"url(#clip960)\" d=\"M201.598 880.76 Q197.987 880.76 196.158 884.324 Q194.352 887.866 194.352 894.996 Q194.352 902.102 196.158 905.667 Q197.987 909.209 201.598 909.209 Q205.232 909.209 207.037 905.667 Q208.866 902.102 208.866 894.996 Q208.866 887.866 207.037 884.324 Q205.232 880.76 201.598 880.76 M201.598 877.056 Q207.408 877.056 210.463 881.662 Q213.542 886.246 213.542 894.996 Q213.542 903.722 210.463 908.329 Q207.408 912.912 201.598 912.912 Q195.787 912.912 192.709 908.329 Q189.653 903.722 189.653 894.996 Q189.653 886.246 192.709 881.662 Q195.787 877.056 201.598 877.056 Z\" fill=\"#000000\" fill-rule=\"evenodd\" fill-opacity=\"1\" /><path clip-path=\"url(#clip960)\" d=\"M127.2 800.885 Q123.589 800.885 121.76 804.45 Q119.955 807.992 119.955 815.121 Q119.955 822.228 121.76 825.792 Q123.589 829.334 127.2 829.334 Q130.834 829.334 132.64 825.792 Q134.468 822.228 134.468 815.121 Q134.468 807.992 132.64 804.45 Q130.834 800.885 127.2 800.885 M127.2 797.181 Q133.01 797.181 136.066 801.788 Q139.144 806.371 139.144 815.121 Q139.144 823.848 136.066 828.454 Q133.01 833.038 127.2 833.038 Q121.39 833.038 118.311 828.454 Q115.256 823.848 115.256 815.121 Q115.256 806.371 118.311 801.788 Q121.39 797.181 127.2 797.181 Z\" fill=\"#000000\" fill-rule=\"evenodd\" fill-opacity=\"1\" /><path clip-path=\"url(#clip960)\" d=\"M147.362 826.487 L152.246 826.487 L152.246 832.366 L147.362 832.366 L147.362 826.487 Z\" fill=\"#000000\" fill-rule=\"evenodd\" fill-opacity=\"1\" /><path clip-path=\"url(#clip960)\" d=\"M166.459 828.431 L182.778 828.431 L182.778 832.366 L160.834 832.366 L160.834 828.431 Q163.496 825.677 168.079 821.047 Q172.686 816.394 173.866 815.052 Q176.112 812.529 176.991 810.793 Q177.894 809.033 177.894 807.343 Q177.894 804.589 175.95 802.853 Q174.028 801.117 170.927 801.117 Q168.727 801.117 166.274 801.881 Q163.843 802.644 161.065 804.195 L161.065 799.473 Q163.89 798.339 166.343 797.76 Q168.797 797.181 170.834 797.181 Q176.204 797.181 179.399 799.867 Q182.593 802.552 182.593 807.043 Q182.593 809.172 181.783 811.093 Q180.996 812.992 178.889 815.584 Q178.311 816.255 175.209 819.473 Q172.107 822.667 166.459 828.431 Z\" fill=\"#000000\" fill-rule=\"evenodd\" fill-opacity=\"1\" /><path clip-path=\"url(#clip960)\" d=\"M192.639 797.806 L210.996 797.806 L210.996 801.742 L196.922 801.742 L196.922 810.214 Q197.94 809.867 198.959 809.705 Q199.977 809.519 200.996 809.519 Q206.783 809.519 210.162 812.691 Q213.542 815.862 213.542 821.279 Q213.542 826.857 210.07 829.959 Q206.598 833.038 200.278 833.038 Q198.102 833.038 195.834 832.667 Q193.588 832.297 191.181 831.556 L191.181 826.857 Q193.264 827.991 195.487 828.547 Q197.709 829.103 200.186 829.103 Q204.19 829.103 206.528 826.996 Q208.866 824.89 208.866 821.279 Q208.866 817.667 206.528 815.561 Q204.19 813.455 200.186 813.455 Q198.311 813.455 196.436 813.871 Q194.584 814.288 192.639 815.167 L192.639 797.806 Z\" fill=\"#000000\" fill-rule=\"evenodd\" fill-opacity=\"1\" /><path clip-path=\"url(#clip960)\" d=\"M126.205 721.011 Q122.593 721.011 120.765 724.575 Q118.959 728.117 118.959 735.247 Q118.959 742.353 120.765 745.918 Q122.593 749.46 126.205 749.46 Q129.839 749.46 131.644 745.918 Q133.473 742.353 133.473 735.247 Q133.473 728.117 131.644 724.575 Q129.839 721.011 126.205 721.011 M126.205 717.307 Q132.015 717.307 135.07 721.913 Q138.149 726.497 138.149 735.247 Q138.149 743.973 135.07 748.58 Q132.015 753.163 126.205 753.163 Q120.394 753.163 117.316 748.58 Q114.26 743.973 114.26 735.247 Q114.26 726.497 117.316 721.913 Q120.394 717.307 126.205 717.307 Z\" fill=\"#000000\" fill-rule=\"evenodd\" fill-opacity=\"1\" /><path clip-path=\"url(#clip960)\" d=\"M146.366 746.612 L151.251 746.612 L151.251 752.492 L146.366 752.492 L146.366 746.612 Z\" fill=\"#000000\" fill-rule=\"evenodd\" fill-opacity=\"1\" /><path clip-path=\"url(#clip960)\" d=\"M161.482 717.932 L179.839 717.932 L179.839 721.867 L165.765 721.867 L165.765 730.339 Q166.783 729.992 167.802 729.83 Q168.82 729.645 169.839 729.645 Q175.626 729.645 179.005 732.816 Q182.385 735.987 182.385 741.404 Q182.385 746.983 178.913 750.085 Q175.44 753.163 169.121 753.163 Q166.945 753.163 164.677 752.793 Q162.431 752.423 160.024 751.682 L160.024 746.983 Q162.107 748.117 164.329 748.673 Q166.552 749.228 169.028 749.228 Q173.033 749.228 175.371 747.122 Q177.709 745.015 177.709 741.404 Q177.709 737.793 175.371 735.687 Q173.033 733.58 169.028 733.58 Q167.153 733.58 165.278 733.997 Q163.427 734.413 161.482 735.293 L161.482 717.932 Z\" fill=\"#000000\" fill-rule=\"evenodd\" fill-opacity=\"1\" /><path clip-path=\"url(#clip960)\" d=\"M201.598 721.011 Q197.987 721.011 196.158 724.575 Q194.352 728.117 194.352 735.247 Q194.352 742.353 196.158 745.918 Q197.987 749.46 201.598 749.46 Q205.232 749.46 207.037 745.918 Q208.866 742.353 208.866 735.247 Q208.866 728.117 207.037 724.575 Q205.232 721.011 201.598 721.011 M201.598 717.307 Q207.408 717.307 210.463 721.913 Q213.542 726.497 213.542 735.247 Q213.542 743.973 210.463 748.58 Q207.408 753.163 201.598 753.163 Q195.787 753.163 192.709 748.58 Q189.653 743.973 189.653 735.247 Q189.653 726.497 192.709 721.913 Q195.787 717.307 201.598 717.307 Z\" fill=\"#000000\" fill-rule=\"evenodd\" fill-opacity=\"1\" /><path clip-path=\"url(#clip960)\" d=\"M127.2 641.136 Q123.589 641.136 121.76 644.701 Q119.955 648.243 119.955 655.372 Q119.955 662.479 121.76 666.043 Q123.589 669.585 127.2 669.585 Q130.834 669.585 132.64 666.043 Q134.468 662.479 134.468 655.372 Q134.468 648.243 132.64 644.701 Q130.834 641.136 127.2 641.136 M127.2 637.432 Q133.01 637.432 136.066 642.039 Q139.144 646.622 139.144 655.372 Q139.144 664.099 136.066 668.705 Q133.01 673.289 127.2 673.289 Q121.39 673.289 118.311 668.705 Q115.256 664.099 115.256 655.372 Q115.256 646.622 118.311 642.039 Q121.39 637.432 127.2 637.432 Z\" fill=\"#000000\" fill-rule=\"evenodd\" fill-opacity=\"1\" /><path clip-path=\"url(#clip960)\" d=\"M147.362 666.738 L152.246 666.738 L152.246 672.617 L147.362 672.617 L147.362 666.738 Z\" fill=\"#000000\" fill-rule=\"evenodd\" fill-opacity=\"1\" /><path clip-path=\"url(#clip960)\" d=\"M161.251 638.057 L183.473 638.057 L183.473 640.048 L170.927 672.617 L166.042 672.617 L177.848 641.993 L161.251 641.993 L161.251 638.057 Z\" fill=\"#000000\" fill-rule=\"evenodd\" fill-opacity=\"1\" /><path clip-path=\"url(#clip960)\" d=\"M192.639 638.057 L210.996 638.057 L210.996 641.993 L196.922 641.993 L196.922 650.465 Q197.94 650.118 198.959 649.956 Q199.977 649.77 200.996 649.77 Q206.783 649.77 210.162 652.942 Q213.542 656.113 213.542 661.53 Q213.542 667.108 210.07 670.21 Q206.598 673.289 200.278 673.289 Q198.102 673.289 195.834 672.918 Q193.588 672.548 191.181 671.807 L191.181 667.108 Q193.264 668.242 195.487 668.798 Q197.709 669.354 200.186 669.354 Q204.19 669.354 206.528 667.247 Q208.866 665.141 208.866 661.53 Q208.866 657.918 206.528 655.812 Q204.19 653.706 200.186 653.706 Q198.311 653.706 196.436 654.122 Q194.584 654.539 192.639 655.418 L192.639 638.057 Z\" fill=\"#000000\" fill-rule=\"evenodd\" fill-opacity=\"1\" /><path clip-path=\"url(#clip960)\" d=\"M117.015 588.808 L124.654 588.808 L124.654 562.442 L116.343 564.109 L116.343 559.85 L124.607 558.183 L129.283 558.183 L129.283 588.808 L136.922 588.808 L136.922 592.743 L117.015 592.743 L117.015 588.808 Z\" fill=\"#000000\" fill-rule=\"evenodd\" fill-opacity=\"1\" /><path clip-path=\"url(#clip960)\" d=\"M146.366 586.863 L151.251 586.863 L151.251 592.743 L146.366 592.743 L146.366 586.863 Z\" fill=\"#000000\" fill-rule=\"evenodd\" fill-opacity=\"1\" /><path clip-path=\"url(#clip960)\" d=\"M171.436 561.262 Q167.825 561.262 165.996 564.826 Q164.19 568.368 164.19 575.498 Q164.19 582.604 165.996 586.169 Q167.825 589.711 171.436 589.711 Q175.07 589.711 176.876 586.169 Q178.704 582.604 178.704 575.498 Q178.704 568.368 176.876 564.826 Q175.07 561.262 171.436 561.262 M171.436 557.558 Q177.246 557.558 180.301 562.164 Q183.38 566.748 183.38 575.498 Q183.38 584.225 180.301 588.831 Q177.246 593.414 171.436 593.414 Q165.626 593.414 162.547 588.831 Q159.491 584.225 159.491 575.498 Q159.491 566.748 162.547 562.164 Q165.626 557.558 171.436 557.558 Z\" fill=\"#000000\" fill-rule=\"evenodd\" fill-opacity=\"1\" /><path clip-path=\"url(#clip960)\" d=\"M201.598 561.262 Q197.987 561.262 196.158 564.826 Q194.352 568.368 194.352 575.498 Q194.352 582.604 196.158 586.169 Q197.987 589.711 201.598 589.711 Q205.232 589.711 207.037 586.169 Q208.866 582.604 208.866 575.498 Q208.866 568.368 207.037 564.826 Q205.232 561.262 201.598 561.262 M201.598 557.558 Q207.408 557.558 210.463 562.164 Q213.542 566.748 213.542 575.498 Q213.542 584.225 210.463 588.831 Q207.408 593.414 201.598 593.414 Q195.787 593.414 192.709 588.831 Q189.653 584.225 189.653 575.498 Q189.653 566.748 192.709 562.164 Q195.787 557.558 201.598 557.558 Z\" fill=\"#000000\" fill-rule=\"evenodd\" fill-opacity=\"1\" /><path clip-path=\"url(#clip960)\" d=\"M39.4498 790.479 Q39.9007 790.479 40.9635 790.768 L66.1485 797.081 Q71.7523 798.466 75.6814 802.974 Q79.6106 807.451 79.6106 812.54 Q79.6106 815.599 77.9681 817.564 Q76.3578 819.528 73.8779 819.528 Q71.6879 819.528 70.6251 818.369 Q69.5945 817.209 69.5945 815.825 Q69.5945 815.374 69.7234 814.891 Q69.8522 814.407 70.3997 813.892 Q70.9472 813.377 71.8812 813.377 Q73.3948 813.377 74.5864 814.697 Q75.1339 815.341 75.2628 815.953 Q75.3916 816.533 75.3916 817.531 Q76.2934 817.145 76.9053 816.436 Q77.5172 815.728 77.7426 814.923 Q78.0003 814.118 78.0647 813.602 Q78.1613 813.055 78.1613 812.54 Q78.1613 808.417 74.0067 805.261 Q72.7507 804.327 71.4947 803.651 Q70.2709 802.942 68.7572 802.427 Q67.2757 801.912 66.4706 801.686 Q65.6654 801.428 63.8297 800.978 Q66.8248 803.973 66.8248 807.644 Q66.8248 809.19 66.4062 810.575 Q65.9875 811.928 65.1179 813.119 Q64.2162 814.311 62.6381 815.019 Q61.06 815.696 58.9666 815.696 Q56.7444 815.696 53.717 814.826 Q50.6897 813.957 45.1181 811.863 Q41.9941 810.736 40.4804 810.736 Q39.7397 810.736 39.2888 810.897 Q38.8057 811.058 38.6447 811.38 Q38.4515 811.702 38.4193 811.895 Q38.3871 812.056 38.3871 812.378 Q38.3871 814.279 40.3194 816.05 Q42.2518 817.821 46.5673 819.045 Q47.3725 819.303 47.5657 819.464 Q47.759 819.625 47.759 820.108 Q47.7268 820.913 47.0826 820.913 Q46.825 820.913 45.8266 820.623 Q44.796 820.333 43.2823 819.657 Q41.7365 818.948 40.3516 817.982 Q38.9346 817.016 37.9362 815.502 Q36.9378 813.957 36.9378 812.185 Q36.9378 809.77 38.5159 808.288 Q40.0618 806.775 42.3484 806.775 Q43.2823 806.775 44.1197 807.032 Q44.9248 807.258 47.0826 808.095 Q55.7782 811.477 60.0294 811.477 Q61.06 811.477 61.9295 811.316 Q62.7669 811.122 63.6042 810.704 Q64.4094 810.285 64.8925 809.448 Q65.3434 808.578 65.3434 807.387 Q65.3434 805.873 64.6348 804.456 Q63.8941 803.007 62.8957 802.105 Q61.8973 801.171 61.06 800.623 Q60.1904 800.044 59.7395 799.915 L47.8878 796.952 L42.606 795.631 Q39.7397 795.02 39.0312 794.73 Q38.3548 794.343 38.0006 793.667 Q37.6463 792.991 37.6463 792.411 Q37.6463 791.606 38.1294 791.058 Q38.6125 790.479 39.4498 790.479 Z\" fill=\"#000000\" fill-rule=\"evenodd\" fill-opacity=\"1\" /><path clip-path=\"url(#clip960)\" d=\"M82.5735 736.626 L16.6159 736.626 L16.6159 726.674 L18.1296 726.674 L18.1296 732.213 L81.0598 732.213 L81.0598 726.674 L82.5735 726.674 L82.5735 736.626 Z\" fill=\"#000000\" fill-rule=\"evenodd\" fill-opacity=\"1\" /><path clip-path=\"url(#clip960)\" d=\"M48.6607 674.933 Q49.0472 674.547 49.5947 674.547 Q50.1422 674.547 50.5287 674.933 Q50.9151 675.32 50.9151 675.867 L50.9151 717.155 Q50.9151 717.702 50.5287 718.089 Q50.1422 718.475 49.5947 718.475 Q49.0472 718.475 48.6607 718.089 Q48.2743 717.702 48.2743 717.155 L48.2743 675.867 Q48.2743 675.32 48.6607 674.933 Z\" fill=\"#000000\" fill-rule=\"evenodd\" fill-opacity=\"1\" /><path clip-path=\"url(#clip960)\" d=\"M81.0598 667.661 L81.0598 662.122 L18.1296 662.122 L18.1296 667.661 L16.6159 667.661 L16.6159 657.71 L82.5735 657.71 L82.5735 667.661 L81.0598 667.661 Z\" fill=\"#000000\" fill-rule=\"evenodd\" fill-opacity=\"1\" /><polyline clip-path=\"url(#clip964)\" style=\"stroke:#000000; stroke-linecap:round; stroke-linejoin:round; stroke-width:4; stroke-opacity:1; fill:none\" stroke-dasharray=\"2, 4\" points=\"309.067,559.488 385.381,559.488 461.695,559.488 538.009,559.488 614.323,559.488 690.637,559.488 766.951,559.488 843.265,559.488 919.579,559.488 995.893,559.488 1072.21,559.488 1148.52,559.488 1224.83,559.488 1301.15,559.488 1377.46,559.488 1453.78,559.488 1530.09,559.488 1606.4,559.488 1682.72,559.488 1759.03,559.488 1835.35,559.488 1911.66,559.488 1987.97,559.488 2064.29,559.488 2140.6,559.488 2216.92,559.488 2293.23,559.488 \"/>\n",
       "<polyline clip-path=\"url(#clip964)\" style=\"stroke:#000000; stroke-linecap:round; stroke-linejoin:round; stroke-width:4; stroke-opacity:1; fill:none\" stroke-dasharray=\"2, 4\" points=\"309.067,575.463 385.381,575.463 461.695,575.463 538.009,575.463 614.323,575.463 690.637,575.463 766.951,575.463 843.265,575.463 919.579,575.463 995.893,575.463 1072.21,575.463 1148.52,575.463 1224.83,575.463 1301.15,575.463 1377.46,575.463 1453.78,575.463 1530.09,575.463 1606.4,575.463 1682.72,575.463 1759.03,575.463 1835.35,575.463 1911.66,575.463 1987.97,575.463 2064.29,575.463 2140.6,575.463 2216.92,575.463 2293.23,575.463 \"/>\n",
       "<polyline clip-path=\"url(#clip964)\" style=\"stroke:#000000; stroke-linecap:round; stroke-linejoin:round; stroke-width:12; stroke-opacity:1; fill:none\" points=\"309.067,918.382 385.381,871.136 461.695,751.423 538.009,639.902 614.323,574.894 690.637,555.008 766.951,557.394 843.265,559.453 919.579,557.808 995.893,557.481 1072.21,558.122 1148.52,557.764 1224.83,557.74 1301.15,558.161 1377.46,557.828 1453.78,557.802 1530.09,557.959 1606.4,557.865 1682.72,557.888 1759.03,557.911 1835.35,557.887 1911.66,557.883 1987.97,557.885 2064.29,557.889 2140.6,557.891 2216.92,557.894 2293.23,557.895 \"/>\n",
       "<circle clip-path=\"url(#clip964)\" cx=\"385.381\" cy=\"871.136\" r=\"10.8\" fill=\"#000000\" fill-rule=\"evenodd\" fill-opacity=\"1\" stroke=\"none\"/>\n",
       "<circle clip-path=\"url(#clip964)\" cx=\"461.695\" cy=\"751.423\" r=\"10.8\" fill=\"#000000\" fill-rule=\"evenodd\" fill-opacity=\"1\" stroke=\"none\"/>\n",
       "<circle clip-path=\"url(#clip964)\" cx=\"538.009\" cy=\"639.902\" r=\"10.8\" fill=\"#000000\" fill-rule=\"evenodd\" fill-opacity=\"1\" stroke=\"none\"/>\n",
       "<circle clip-path=\"url(#clip964)\" cx=\"614.323\" cy=\"574.894\" r=\"10.8\" fill=\"#000000\" fill-rule=\"evenodd\" fill-opacity=\"1\" stroke=\"none\"/>\n",
       "<polyline clip-path=\"url(#clip964)\" style=\"stroke:#000000; stroke-linecap:round; stroke-linejoin:round; stroke-width:12; stroke-opacity:1; fill:none\" stroke-dasharray=\"48, 24, 6, 24\" points=\"309.067,918.382 385.381,871.142 461.695,751.438 538.009,639.921 614.323,574.909 690.637,555.013 766.951,557.391 843.265,559.45 919.579,557.809 995.893,557.484 1072.21,558.122 1148.52,557.763 1224.83,557.741 1301.15,558.161 1377.46,557.827 1453.78,557.803 1530.09,557.959 1606.4,557.865 1682.72,557.889 1759.03,557.911 1835.35,557.887 1911.66,557.883 1987.97,557.885 2064.29,557.889 2140.6,557.891 2216.92,557.894 2293.23,557.895 \"/>\n",
       "<path clip-path=\"url(#clip964)\" d=\"M373.381 859.142 L373.381 883.142 L397.381 883.142 L397.381 859.142 L373.381 859.142 Z\" fill=\"#000000\" fill-rule=\"evenodd\" fill-opacity=\"1\" stroke=\"none\"/>\n",
       "<path clip-path=\"url(#clip964)\" d=\"M449.695 739.438 L449.695 763.438 L473.695 763.438 L473.695 739.438 L449.695 739.438 Z\" fill=\"#000000\" fill-rule=\"evenodd\" fill-opacity=\"1\" stroke=\"none\"/>\n",
       "<path clip-path=\"url(#clip964)\" d=\"M526.009 627.921 L526.009 651.921 L550.009 651.921 L550.009 627.921 L526.009 627.921 Z\" fill=\"#000000\" fill-rule=\"evenodd\" fill-opacity=\"1\" stroke=\"none\"/>\n",
       "<path clip-path=\"url(#clip964)\" d=\"M602.323 562.909 L602.323 586.909 L626.323 586.909 L626.323 562.909 L602.323 562.909 Z\" fill=\"#000000\" fill-rule=\"evenodd\" fill-opacity=\"1\" stroke=\"none\"/>\n",
       "<path clip-path=\"url(#clip960)\" d=\"M249.542 1423.18 L2352.76 1423.18 L2352.76 1071.73 L249.542 1071.73  Z\" fill=\"#ffffff\" fill-rule=\"evenodd\" fill-opacity=\"1\"/>\n",
       "<defs>\n",
       "  <clipPath id=\"clip965\">\n",
       "    <rect x=\"249\" y=\"1071\" width=\"2104\" height=\"352\"/>\n",
       "  </clipPath>\n",
       "</defs>\n",
       "<polyline clip-path=\"url(#clip965)\" style=\"stroke:#000000; stroke-linecap:round; stroke-linejoin:round; stroke-width:8; stroke-opacity:0.1; fill:none\" points=\"614.323,1423.18 614.323,1071.73 \"/>\n",
       "<polyline clip-path=\"url(#clip965)\" style=\"stroke:#000000; stroke-linecap:round; stroke-linejoin:round; stroke-width:8; stroke-opacity:0.1; fill:none\" points=\"995.893,1423.18 995.893,1071.73 \"/>\n",
       "<polyline clip-path=\"url(#clip965)\" style=\"stroke:#000000; stroke-linecap:round; stroke-linejoin:round; stroke-width:8; stroke-opacity:0.1; fill:none\" points=\"1377.46,1423.18 1377.46,1071.73 \"/>\n",
       "<polyline clip-path=\"url(#clip965)\" style=\"stroke:#000000; stroke-linecap:round; stroke-linejoin:round; stroke-width:8; stroke-opacity:0.1; fill:none\" points=\"1759.03,1423.18 1759.03,1071.73 \"/>\n",
       "<polyline clip-path=\"url(#clip965)\" style=\"stroke:#000000; stroke-linecap:round; stroke-linejoin:round; stroke-width:8; stroke-opacity:0.1; fill:none\" points=\"2140.6,1423.18 2140.6,1071.73 \"/>\n",
       "<polyline clip-path=\"url(#clip960)\" style=\"stroke:#000000; stroke-linecap:round; stroke-linejoin:round; stroke-width:4; stroke-opacity:1; fill:none\" points=\"249.542,1423.18 2352.76,1423.18 \"/>\n",
       "<polyline clip-path=\"url(#clip960)\" style=\"stroke:#000000; stroke-linecap:round; stroke-linejoin:round; stroke-width:4; stroke-opacity:1; fill:none\" points=\"614.323,1423.18 614.323,1404.28 \"/>\n",
       "<polyline clip-path=\"url(#clip960)\" style=\"stroke:#000000; stroke-linecap:round; stroke-linejoin:round; stroke-width:4; stroke-opacity:1; fill:none\" points=\"995.893,1423.18 995.893,1404.28 \"/>\n",
       "<polyline clip-path=\"url(#clip960)\" style=\"stroke:#000000; stroke-linecap:round; stroke-linejoin:round; stroke-width:4; stroke-opacity:1; fill:none\" points=\"1377.46,1423.18 1377.46,1404.28 \"/>\n",
       "<polyline clip-path=\"url(#clip960)\" style=\"stroke:#000000; stroke-linecap:round; stroke-linejoin:round; stroke-width:4; stroke-opacity:1; fill:none\" points=\"1759.03,1423.18 1759.03,1404.28 \"/>\n",
       "<polyline clip-path=\"url(#clip960)\" style=\"stroke:#000000; stroke-linecap:round; stroke-linejoin:round; stroke-width:4; stroke-opacity:1; fill:none\" points=\"2140.6,1423.18 2140.6,1404.28 \"/>\n",
       "<path clip-path=\"url(#clip960)\" d=\"M604.601 1451.02 L622.957 1451.02 L622.957 1454.96 L608.883 1454.96 L608.883 1463.43 Q609.902 1463.08 610.92 1462.92 Q611.939 1462.73 612.957 1462.73 Q618.744 1462.73 622.124 1465.9 Q625.503 1469.08 625.503 1474.49 Q625.503 1480.07 622.031 1483.17 Q618.559 1486.25 612.24 1486.25 Q610.064 1486.25 607.795 1485.88 Q605.55 1485.51 603.142 1484.77 L603.142 1480.07 Q605.226 1481.2 607.448 1481.76 Q609.67 1482.32 612.147 1482.32 Q616.152 1482.32 618.49 1480.21 Q620.828 1478.1 620.828 1474.49 Q620.828 1470.88 618.49 1468.77 Q616.152 1466.67 612.147 1466.67 Q610.272 1466.67 608.397 1467.08 Q606.545 1467.5 604.601 1468.38 L604.601 1451.02 Z\" fill=\"#000000\" fill-rule=\"evenodd\" fill-opacity=\"1\" /><path clip-path=\"url(#clip960)\" d=\"M970.581 1481.64 L978.219 1481.64 L978.219 1455.28 L969.909 1456.95 L969.909 1452.69 L978.173 1451.02 L982.849 1451.02 L982.849 1481.64 L990.488 1481.64 L990.488 1485.58 L970.581 1485.58 L970.581 1481.64 Z\" fill=\"#000000\" fill-rule=\"evenodd\" fill-opacity=\"1\" /><path clip-path=\"url(#clip960)\" d=\"M1009.93 1454.1 Q1006.32 1454.1 1004.49 1457.66 Q1002.69 1461.2 1002.69 1468.33 Q1002.69 1475.44 1004.49 1479.01 Q1006.32 1482.55 1009.93 1482.55 Q1013.57 1482.55 1015.37 1479.01 Q1017.2 1475.44 1017.2 1468.33 Q1017.2 1461.2 1015.37 1457.66 Q1013.57 1454.1 1009.93 1454.1 M1009.93 1450.39 Q1015.74 1450.39 1018.8 1455 Q1021.88 1459.58 1021.88 1468.33 Q1021.88 1477.06 1018.8 1481.67 Q1015.74 1486.25 1009.93 1486.25 Q1004.12 1486.25 1001.04 1481.67 Q997.988 1477.06 997.988 1468.33 Q997.988 1459.58 1001.04 1455 Q1004.12 1450.39 1009.93 1450.39 Z\" fill=\"#000000\" fill-rule=\"evenodd\" fill-opacity=\"1\" /><path clip-path=\"url(#clip960)\" d=\"M1352.65 1481.64 L1360.29 1481.64 L1360.29 1455.28 L1351.98 1456.95 L1351.98 1452.69 L1360.24 1451.02 L1364.92 1451.02 L1364.92 1481.64 L1372.56 1481.64 L1372.56 1485.58 L1352.65 1485.58 L1352.65 1481.64 Z\" fill=\"#000000\" fill-rule=\"evenodd\" fill-opacity=\"1\" /><path clip-path=\"url(#clip960)\" d=\"M1382.05 1451.02 L1400.4 1451.02 L1400.4 1454.96 L1386.33 1454.96 L1386.33 1463.43 Q1387.35 1463.08 1388.37 1462.92 Q1389.38 1462.73 1390.4 1462.73 Q1396.19 1462.73 1399.57 1465.9 Q1402.95 1469.08 1402.95 1474.49 Q1402.95 1480.07 1399.48 1483.17 Q1396 1486.25 1389.69 1486.25 Q1387.51 1486.25 1385.24 1485.88 Q1383 1485.51 1380.59 1484.77 L1380.59 1480.07 Q1382.67 1481.2 1384.89 1481.76 Q1387.12 1482.32 1389.59 1482.32 Q1393.6 1482.32 1395.94 1480.21 Q1398.27 1478.1 1398.27 1474.49 Q1398.27 1470.88 1395.94 1468.77 Q1393.6 1466.67 1389.59 1466.67 Q1387.72 1466.67 1385.84 1467.08 Q1383.99 1467.5 1382.05 1468.38 L1382.05 1451.02 Z\" fill=\"#000000\" fill-rule=\"evenodd\" fill-opacity=\"1\" /><path clip-path=\"url(#clip960)\" d=\"M1737.81 1481.64 L1754.13 1481.64 L1754.13 1485.58 L1732.18 1485.58 L1732.18 1481.64 Q1734.84 1478.89 1739.43 1474.26 Q1744.03 1469.61 1745.21 1468.27 Q1747.46 1465.74 1748.34 1464.01 Q1749.24 1462.25 1749.24 1460.56 Q1749.24 1457.8 1747.3 1456.07 Q1745.38 1454.33 1742.27 1454.33 Q1740.07 1454.33 1737.62 1455.09 Q1735.19 1455.86 1732.41 1457.41 L1732.41 1452.69 Q1735.24 1451.55 1737.69 1450.97 Q1740.14 1450.39 1742.18 1450.39 Q1747.55 1450.39 1750.75 1453.08 Q1753.94 1455.77 1753.94 1460.26 Q1753.94 1462.39 1753.13 1464.31 Q1752.34 1466.2 1750.24 1468.8 Q1749.66 1469.47 1746.56 1472.69 Q1743.45 1475.88 1737.81 1481.64 Z\" fill=\"#000000\" fill-rule=\"evenodd\" fill-opacity=\"1\" /><path clip-path=\"url(#clip960)\" d=\"M1773.94 1454.1 Q1770.33 1454.1 1768.5 1457.66 Q1766.69 1461.2 1766.69 1468.33 Q1766.69 1475.44 1768.5 1479.01 Q1770.33 1482.55 1773.94 1482.55 Q1777.57 1482.55 1779.38 1479.01 Q1781.21 1475.44 1781.21 1468.33 Q1781.21 1461.2 1779.38 1457.66 Q1777.57 1454.1 1773.94 1454.1 M1773.94 1450.39 Q1779.75 1450.39 1782.81 1455 Q1785.88 1459.58 1785.88 1468.33 Q1785.88 1477.06 1782.81 1481.67 Q1779.75 1486.25 1773.94 1486.25 Q1768.13 1486.25 1765.05 1481.67 Q1762 1477.06 1762 1468.33 Q1762 1459.58 1765.05 1455 Q1768.13 1450.39 1773.94 1450.39 Z\" fill=\"#000000\" fill-rule=\"evenodd\" fill-opacity=\"1\" /><path clip-path=\"url(#clip960)\" d=\"M2119.87 1481.64 L2136.19 1481.64 L2136.19 1485.58 L2114.25 1485.58 L2114.25 1481.64 Q2116.91 1478.89 2121.49 1474.26 Q2126.1 1469.61 2127.28 1468.27 Q2129.53 1465.74 2130.41 1464.01 Q2131.31 1462.25 2131.31 1460.56 Q2131.31 1457.8 2129.36 1456.07 Q2127.44 1454.33 2124.34 1454.33 Q2122.14 1454.33 2119.69 1455.09 Q2117.26 1455.86 2114.48 1457.41 L2114.48 1452.69 Q2117.3 1451.55 2119.76 1450.97 Q2122.21 1450.39 2124.25 1450.39 Q2129.62 1450.39 2132.81 1453.08 Q2136.01 1455.77 2136.01 1460.26 Q2136.01 1462.39 2135.2 1464.31 Q2134.41 1466.2 2132.3 1468.8 Q2131.73 1469.47 2128.62 1472.69 Q2125.52 1475.88 2119.87 1481.64 Z\" fill=\"#000000\" fill-rule=\"evenodd\" fill-opacity=\"1\" /><path clip-path=\"url(#clip960)\" d=\"M2146.05 1451.02 L2164.41 1451.02 L2164.41 1454.96 L2150.34 1454.96 L2150.34 1463.43 Q2151.36 1463.08 2152.37 1462.92 Q2153.39 1462.73 2154.41 1462.73 Q2160.2 1462.73 2163.58 1465.9 Q2166.96 1469.08 2166.96 1474.49 Q2166.96 1480.07 2163.48 1483.17 Q2160.01 1486.25 2153.69 1486.25 Q2151.52 1486.25 2149.25 1485.88 Q2147 1485.51 2144.6 1484.77 L2144.6 1480.07 Q2146.68 1481.2 2148.9 1481.76 Q2151.12 1482.32 2153.6 1482.32 Q2157.61 1482.32 2159.94 1480.21 Q2162.28 1478.1 2162.28 1474.49 Q2162.28 1470.88 2159.94 1468.77 Q2157.61 1466.67 2153.6 1466.67 Q2151.73 1466.67 2149.85 1467.08 Q2148 1467.5 2146.05 1468.38 L2146.05 1451.02 Z\" fill=\"#000000\" fill-rule=\"evenodd\" fill-opacity=\"1\" /><path clip-path=\"url(#clip960)\" d=\"M1144.12 1522.27 L1144.12 1532.4 L1156.19 1532.4 L1156.19 1536.95 L1144.12 1536.95 L1144.12 1556.3 Q1144.12 1560.66 1145.3 1561.9 Q1146.51 1563.14 1150.17 1563.14 L1156.19 1563.14 L1156.19 1568.04 L1150.17 1568.04 Q1143.39 1568.04 1140.81 1565.53 Q1138.23 1562.98 1138.23 1556.3 L1138.23 1536.95 L1133.94 1536.95 L1133.94 1532.4 L1138.23 1532.4 L1138.23 1522.27 L1144.12 1522.27 Z\" fill=\"#000000\" fill-rule=\"evenodd\" fill-opacity=\"1\" /><path clip-path=\"url(#clip960)\" d=\"M1163.89 1532.4 L1169.74 1532.4 L1169.74 1568.04 L1163.89 1568.04 L1163.89 1532.4 M1163.89 1518.52 L1169.74 1518.52 L1169.74 1525.93 L1163.89 1525.93 L1163.89 1518.52 Z\" fill=\"#000000\" fill-rule=\"evenodd\" fill-opacity=\"1\" /><path clip-path=\"url(#clip960)\" d=\"M1209.75 1539.24 Q1211.95 1535.29 1215.01 1533.41 Q1218.06 1531.54 1222.2 1531.54 Q1227.77 1531.54 1230.79 1535.45 Q1233.82 1539.33 1233.82 1546.53 L1233.82 1568.04 L1227.93 1568.04 L1227.93 1546.72 Q1227.93 1541.59 1226.11 1539.11 Q1224.3 1536.63 1220.58 1536.63 Q1216.02 1536.63 1213.38 1539.65 Q1210.74 1542.68 1210.74 1547.9 L1210.74 1568.04 L1204.85 1568.04 L1204.85 1546.72 Q1204.85 1541.56 1203.04 1539.11 Q1201.22 1536.63 1197.44 1536.63 Q1192.95 1536.63 1190.31 1539.68 Q1187.66 1542.71 1187.66 1547.9 L1187.66 1568.04 L1181.78 1568.04 L1181.78 1532.4 L1187.66 1532.4 L1187.66 1537.93 Q1189.67 1534.66 1192.47 1533.1 Q1195.27 1531.54 1199.12 1531.54 Q1203.01 1531.54 1205.71 1533.51 Q1208.45 1535.48 1209.75 1539.24 Z\" fill=\"#000000\" fill-rule=\"evenodd\" fill-opacity=\"1\" /><path clip-path=\"url(#clip960)\" d=\"M1275.99 1548.76 L1275.99 1551.62 L1249.06 1551.62 Q1249.44 1557.67 1252.69 1560.85 Q1255.97 1564 1261.79 1564 Q1265.17 1564 1268.32 1563.17 Q1271.5 1562.35 1274.62 1560.69 L1274.62 1566.23 Q1271.47 1567.57 1268.16 1568.27 Q1264.85 1568.97 1261.44 1568.97 Q1252.91 1568.97 1247.92 1564 Q1242.95 1559.04 1242.95 1550.57 Q1242.95 1541.82 1247.66 1536.69 Q1252.4 1531.54 1260.42 1531.54 Q1267.62 1531.54 1271.79 1536.18 Q1275.99 1540.8 1275.99 1548.76 M1270.13 1547.04 Q1270.07 1542.23 1267.43 1539.37 Q1264.82 1536.5 1260.49 1536.5 Q1255.59 1536.5 1252.63 1539.27 Q1249.7 1542.04 1249.25 1547.07 L1270.13 1547.04 Z\" fill=\"#000000\" fill-rule=\"evenodd\" fill-opacity=\"1\" /><path clip-path=\"url(#clip960)\" d=\"M1305.78 1518.52 L1319.28 1518.52 L1319.28 1523.07 L1311.64 1523.07 L1311.64 1572.09 L1319.28 1572.09 L1319.28 1576.64 L1305.78 1576.64 L1305.78 1518.52 Z\" fill=\"#000000\" fill-rule=\"evenodd\" fill-opacity=\"1\" /><path clip-path=\"url(#clip960)\" d=\"M1359.51 1539.24 Q1361.7 1535.29 1364.76 1533.41 Q1367.81 1531.54 1371.95 1531.54 Q1377.52 1531.54 1380.55 1535.45 Q1383.57 1539.33 1383.57 1546.53 L1383.57 1568.04 L1377.68 1568.04 L1377.68 1546.72 Q1377.68 1541.59 1375.87 1539.11 Q1374.05 1536.63 1370.33 1536.63 Q1365.78 1536.63 1363.14 1539.65 Q1360.49 1542.68 1360.49 1547.9 L1360.49 1568.04 L1354.6 1568.04 L1354.6 1546.72 Q1354.6 1541.56 1352.79 1539.11 Q1350.98 1536.63 1347.19 1536.63 Q1342.7 1536.63 1340.06 1539.68 Q1337.42 1542.71 1337.42 1547.9 L1337.42 1568.04 L1331.53 1568.04 L1331.53 1532.4 L1337.42 1532.4 L1337.42 1537.93 Q1339.42 1534.66 1342.22 1533.1 Q1345.02 1531.54 1348.88 1531.54 Q1352.76 1531.54 1355.46 1533.51 Q1358.2 1535.48 1359.51 1539.24 Z\" fill=\"#000000\" fill-rule=\"evenodd\" fill-opacity=\"1\" /><path clip-path=\"url(#clip960)\" d=\"M1395.25 1532.4 L1401.11 1532.4 L1401.11 1568.04 L1395.25 1568.04 L1395.25 1532.4 M1395.25 1518.52 L1401.11 1518.52 L1401.11 1525.93 L1395.25 1525.93 L1395.25 1518.52 Z\" fill=\"#000000\" fill-rule=\"evenodd\" fill-opacity=\"1\" /><path clip-path=\"url(#clip960)\" d=\"M1442.99 1546.53 L1442.99 1568.04 L1437.14 1568.04 L1437.14 1546.72 Q1437.14 1541.66 1435.16 1539.14 Q1433.19 1536.63 1429.24 1536.63 Q1424.5 1536.63 1421.76 1539.65 Q1419.03 1542.68 1419.03 1547.9 L1419.03 1568.04 L1413.14 1568.04 L1413.14 1532.4 L1419.03 1532.4 L1419.03 1537.93 Q1421.13 1534.72 1423.96 1533.13 Q1426.82 1531.54 1430.55 1531.54 Q1436.69 1531.54 1439.84 1535.36 Q1442.99 1539.14 1442.99 1546.53 Z\" fill=\"#000000\" fill-rule=\"evenodd\" fill-opacity=\"1\" /><path clip-path=\"url(#clip960)\" d=\"M1468.36 1518.52 L1468.36 1576.64 L1454.86 1576.64 L1454.86 1572.09 L1462.47 1572.09 L1462.47 1523.07 L1454.86 1523.07 L1454.86 1518.52 L1468.36 1518.52 Z\" fill=\"#000000\" fill-rule=\"evenodd\" fill-opacity=\"1\" /><polyline clip-path=\"url(#clip965)\" style=\"stroke:#000000; stroke-linecap:round; stroke-linejoin:round; stroke-width:8; stroke-opacity:0.1; fill:none\" points=\"249.542,1407.2 2352.76,1407.2 \"/>\n",
       "<polyline clip-path=\"url(#clip965)\" style=\"stroke:#000000; stroke-linecap:round; stroke-linejoin:round; stroke-width:8; stroke-opacity:0.1; fill:none\" points=\"249.542,1327.33 2352.76,1327.33 \"/>\n",
       "<polyline clip-path=\"url(#clip965)\" style=\"stroke:#000000; stroke-linecap:round; stroke-linejoin:round; stroke-width:8; stroke-opacity:0.1; fill:none\" points=\"249.542,1247.46 2352.76,1247.46 \"/>\n",
       "<polyline clip-path=\"url(#clip965)\" style=\"stroke:#000000; stroke-linecap:round; stroke-linejoin:round; stroke-width:8; stroke-opacity:0.1; fill:none\" points=\"249.542,1167.58 2352.76,1167.58 \"/>\n",
       "<polyline clip-path=\"url(#clip965)\" style=\"stroke:#000000; stroke-linecap:round; stroke-linejoin:round; stroke-width:8; stroke-opacity:0.1; fill:none\" points=\"249.542,1087.71 2352.76,1087.71 \"/>\n",
       "<polyline clip-path=\"url(#clip960)\" style=\"stroke:#000000; stroke-linecap:round; stroke-linejoin:round; stroke-width:4; stroke-opacity:1; fill:none\" points=\"249.542,1423.18 249.542,1071.73 \"/>\n",
       "<polyline clip-path=\"url(#clip960)\" style=\"stroke:#000000; stroke-linecap:round; stroke-linejoin:round; stroke-width:4; stroke-opacity:1; fill:none\" points=\"249.542,1407.2 268.44,1407.2 \"/>\n",
       "<polyline clip-path=\"url(#clip960)\" style=\"stroke:#000000; stroke-linecap:round; stroke-linejoin:round; stroke-width:4; stroke-opacity:1; fill:none\" points=\"249.542,1327.33 268.44,1327.33 \"/>\n",
       "<polyline clip-path=\"url(#clip960)\" style=\"stroke:#000000; stroke-linecap:round; stroke-linejoin:round; stroke-width:4; stroke-opacity:1; fill:none\" points=\"249.542,1247.46 268.44,1247.46 \"/>\n",
       "<polyline clip-path=\"url(#clip960)\" style=\"stroke:#000000; stroke-linecap:round; stroke-linejoin:round; stroke-width:4; stroke-opacity:1; fill:none\" points=\"249.542,1167.58 268.44,1167.58 \"/>\n",
       "<polyline clip-path=\"url(#clip960)\" style=\"stroke:#000000; stroke-linecap:round; stroke-linejoin:round; stroke-width:4; stroke-opacity:1; fill:none\" points=\"249.542,1087.71 268.44,1087.71 \"/>\n",
       "<path clip-path=\"url(#clip960)\" d=\"M126.205 1393 Q122.593 1393 120.765 1396.57 Q118.959 1400.11 118.959 1407.24 Q118.959 1414.35 120.765 1417.91 Q122.593 1421.45 126.205 1421.45 Q129.839 1421.45 131.644 1417.91 Q133.473 1414.35 133.473 1407.24 Q133.473 1400.11 131.644 1396.57 Q129.839 1393 126.205 1393 M126.205 1389.3 Q132.015 1389.3 135.07 1393.91 Q138.149 1398.49 138.149 1407.24 Q138.149 1415.97 135.07 1420.57 Q132.015 1425.16 126.205 1425.16 Q120.394 1425.16 117.316 1420.57 Q114.26 1415.97 114.26 1407.24 Q114.26 1398.49 117.316 1393.91 Q120.394 1389.3 126.205 1389.3 Z\" fill=\"#000000\" fill-rule=\"evenodd\" fill-opacity=\"1\" /><path clip-path=\"url(#clip960)\" d=\"M146.366 1418.61 L151.251 1418.61 L151.251 1424.48 L146.366 1424.48 L146.366 1418.61 Z\" fill=\"#000000\" fill-rule=\"evenodd\" fill-opacity=\"1\" /><path clip-path=\"url(#clip960)\" d=\"M171.436 1393 Q167.825 1393 165.996 1396.57 Q164.19 1400.11 164.19 1407.24 Q164.19 1414.35 165.996 1417.91 Q167.825 1421.45 171.436 1421.45 Q175.07 1421.45 176.876 1417.91 Q178.704 1414.35 178.704 1407.24 Q178.704 1400.11 176.876 1396.57 Q175.07 1393 171.436 1393 M171.436 1389.3 Q177.246 1389.3 180.301 1393.91 Q183.38 1398.49 183.38 1407.24 Q183.38 1415.97 180.301 1420.57 Q177.246 1425.16 171.436 1425.16 Q165.626 1425.16 162.547 1420.57 Q159.491 1415.97 159.491 1407.24 Q159.491 1398.49 162.547 1393.91 Q165.626 1389.3 171.436 1389.3 Z\" fill=\"#000000\" fill-rule=\"evenodd\" fill-opacity=\"1\" /><path clip-path=\"url(#clip960)\" d=\"M201.598 1393 Q197.987 1393 196.158 1396.57 Q194.352 1400.11 194.352 1407.24 Q194.352 1414.35 196.158 1417.91 Q197.987 1421.45 201.598 1421.45 Q205.232 1421.45 207.037 1417.91 Q208.866 1414.35 208.866 1407.24 Q208.866 1400.11 207.037 1396.57 Q205.232 1393 201.598 1393 M201.598 1389.3 Q207.408 1389.3 210.463 1393.91 Q213.542 1398.49 213.542 1407.24 Q213.542 1415.97 210.463 1420.57 Q207.408 1425.16 201.598 1425.16 Q195.787 1425.16 192.709 1420.57 Q189.653 1415.97 189.653 1407.24 Q189.653 1398.49 192.709 1393.91 Q195.787 1389.3 201.598 1389.3 Z\" fill=\"#000000\" fill-rule=\"evenodd\" fill-opacity=\"1\" /><path clip-path=\"url(#clip960)\" d=\"M127.2 1313.13 Q123.589 1313.13 121.76 1316.69 Q119.955 1320.24 119.955 1327.37 Q119.955 1334.47 121.76 1338.04 Q123.589 1341.58 127.2 1341.58 Q130.834 1341.58 132.64 1338.04 Q134.468 1334.47 134.468 1327.37 Q134.468 1320.24 132.64 1316.69 Q130.834 1313.13 127.2 1313.13 M127.2 1309.43 Q133.01 1309.43 136.066 1314.03 Q139.144 1318.62 139.144 1327.37 Q139.144 1336.09 136.066 1340.7 Q133.01 1345.28 127.2 1345.28 Q121.39 1345.28 118.311 1340.7 Q115.256 1336.09 115.256 1327.37 Q115.256 1318.62 118.311 1314.03 Q121.39 1309.43 127.2 1309.43 Z\" fill=\"#000000\" fill-rule=\"evenodd\" fill-opacity=\"1\" /><path clip-path=\"url(#clip960)\" d=\"M147.362 1338.73 L152.246 1338.73 L152.246 1344.61 L147.362 1344.61 L147.362 1338.73 Z\" fill=\"#000000\" fill-rule=\"evenodd\" fill-opacity=\"1\" /><path clip-path=\"url(#clip960)\" d=\"M166.459 1340.68 L182.778 1340.68 L182.778 1344.61 L160.834 1344.61 L160.834 1340.68 Q163.496 1337.92 168.079 1333.29 Q172.686 1328.64 173.866 1327.3 Q176.112 1324.77 176.991 1323.04 Q177.894 1321.28 177.894 1319.59 Q177.894 1316.83 175.95 1315.1 Q174.028 1313.36 170.927 1313.36 Q168.727 1313.36 166.274 1314.12 Q163.843 1314.89 161.065 1316.44 L161.065 1311.72 Q163.89 1310.58 166.343 1310 Q168.797 1309.43 170.834 1309.43 Q176.204 1309.43 179.399 1312.11 Q182.593 1314.8 182.593 1319.29 Q182.593 1321.42 181.783 1323.34 Q180.996 1325.24 178.889 1327.83 Q178.311 1328.5 175.209 1331.72 Q172.107 1334.91 166.459 1340.68 Z\" fill=\"#000000\" fill-rule=\"evenodd\" fill-opacity=\"1\" /><path clip-path=\"url(#clip960)\" d=\"M192.639 1310.05 L210.996 1310.05 L210.996 1313.99 L196.922 1313.99 L196.922 1322.46 Q197.94 1322.11 198.959 1321.95 Q199.977 1321.76 200.996 1321.76 Q206.783 1321.76 210.162 1324.93 Q213.542 1328.11 213.542 1333.52 Q213.542 1339.1 210.07 1342.2 Q206.598 1345.28 200.278 1345.28 Q198.102 1345.28 195.834 1344.91 Q193.588 1344.54 191.181 1343.8 L191.181 1339.1 Q193.264 1340.24 195.487 1340.79 Q197.709 1341.35 200.186 1341.35 Q204.19 1341.35 206.528 1339.24 Q208.866 1337.13 208.866 1333.52 Q208.866 1329.91 206.528 1327.8 Q204.19 1325.7 200.186 1325.7 Q198.311 1325.7 196.436 1326.12 Q194.584 1326.53 192.639 1327.41 L192.639 1310.05 Z\" fill=\"#000000\" fill-rule=\"evenodd\" fill-opacity=\"1\" /><path clip-path=\"url(#clip960)\" d=\"M126.205 1233.25 Q122.593 1233.25 120.765 1236.82 Q118.959 1240.36 118.959 1247.49 Q118.959 1254.6 120.765 1258.16 Q122.593 1261.7 126.205 1261.7 Q129.839 1261.7 131.644 1258.16 Q133.473 1254.6 133.473 1247.49 Q133.473 1240.36 131.644 1236.82 Q129.839 1233.25 126.205 1233.25 M126.205 1229.55 Q132.015 1229.55 135.07 1234.16 Q138.149 1238.74 138.149 1247.49 Q138.149 1256.22 135.07 1260.82 Q132.015 1265.41 126.205 1265.41 Q120.394 1265.41 117.316 1260.82 Q114.26 1256.22 114.26 1247.49 Q114.26 1238.74 117.316 1234.16 Q120.394 1229.55 126.205 1229.55 Z\" fill=\"#000000\" fill-rule=\"evenodd\" fill-opacity=\"1\" /><path clip-path=\"url(#clip960)\" d=\"M146.366 1258.86 L151.251 1258.86 L151.251 1264.74 L146.366 1264.74 L146.366 1258.86 Z\" fill=\"#000000\" fill-rule=\"evenodd\" fill-opacity=\"1\" /><path clip-path=\"url(#clip960)\" d=\"M161.482 1230.18 L179.839 1230.18 L179.839 1234.11 L165.765 1234.11 L165.765 1242.58 Q166.783 1242.24 167.802 1242.07 Q168.82 1241.89 169.839 1241.89 Q175.626 1241.89 179.005 1245.06 Q182.385 1248.23 182.385 1253.65 Q182.385 1259.23 178.913 1262.33 Q175.44 1265.41 169.121 1265.41 Q166.945 1265.41 164.677 1265.04 Q162.431 1264.67 160.024 1263.93 L160.024 1259.23 Q162.107 1260.36 164.329 1260.92 Q166.552 1261.47 169.028 1261.47 Q173.033 1261.47 175.371 1259.37 Q177.709 1257.26 177.709 1253.65 Q177.709 1250.04 175.371 1247.93 Q173.033 1245.82 169.028 1245.82 Q167.153 1245.82 165.278 1246.24 Q163.427 1246.66 161.482 1247.54 L161.482 1230.18 Z\" fill=\"#000000\" fill-rule=\"evenodd\" fill-opacity=\"1\" /><path clip-path=\"url(#clip960)\" d=\"M201.598 1233.25 Q197.987 1233.25 196.158 1236.82 Q194.352 1240.36 194.352 1247.49 Q194.352 1254.6 196.158 1258.16 Q197.987 1261.7 201.598 1261.7 Q205.232 1261.7 207.037 1258.16 Q208.866 1254.6 208.866 1247.49 Q208.866 1240.36 207.037 1236.82 Q205.232 1233.25 201.598 1233.25 M201.598 1229.55 Q207.408 1229.55 210.463 1234.16 Q213.542 1238.74 213.542 1247.49 Q213.542 1256.22 210.463 1260.82 Q207.408 1265.41 201.598 1265.41 Q195.787 1265.41 192.709 1260.82 Q189.653 1256.22 189.653 1247.49 Q189.653 1238.74 192.709 1234.16 Q195.787 1229.55 201.598 1229.55 Z\" fill=\"#000000\" fill-rule=\"evenodd\" fill-opacity=\"1\" /><path clip-path=\"url(#clip960)\" d=\"M127.2 1153.38 Q123.589 1153.38 121.76 1156.94 Q119.955 1160.49 119.955 1167.62 Q119.955 1174.72 121.76 1178.29 Q123.589 1181.83 127.2 1181.83 Q130.834 1181.83 132.64 1178.29 Q134.468 1174.72 134.468 1167.62 Q134.468 1160.49 132.64 1156.94 Q130.834 1153.38 127.2 1153.38 M127.2 1149.68 Q133.01 1149.68 136.066 1154.28 Q139.144 1158.87 139.144 1167.62 Q139.144 1176.34 136.066 1180.95 Q133.01 1185.53 127.2 1185.53 Q121.39 1185.53 118.311 1180.95 Q115.256 1176.34 115.256 1167.62 Q115.256 1158.87 118.311 1154.28 Q121.39 1149.68 127.2 1149.68 Z\" fill=\"#000000\" fill-rule=\"evenodd\" fill-opacity=\"1\" /><path clip-path=\"url(#clip960)\" d=\"M147.362 1178.98 L152.246 1178.98 L152.246 1184.86 L147.362 1184.86 L147.362 1178.98 Z\" fill=\"#000000\" fill-rule=\"evenodd\" fill-opacity=\"1\" /><path clip-path=\"url(#clip960)\" d=\"M161.251 1150.3 L183.473 1150.3 L183.473 1152.29 L170.927 1184.86 L166.042 1184.86 L177.848 1154.24 L161.251 1154.24 L161.251 1150.3 Z\" fill=\"#000000\" fill-rule=\"evenodd\" fill-opacity=\"1\" /><path clip-path=\"url(#clip960)\" d=\"M192.639 1150.3 L210.996 1150.3 L210.996 1154.24 L196.922 1154.24 L196.922 1162.71 Q197.94 1162.36 198.959 1162.2 Q199.977 1162.01 200.996 1162.01 Q206.783 1162.01 210.162 1165.19 Q213.542 1168.36 213.542 1173.77 Q213.542 1179.35 210.07 1182.45 Q206.598 1185.53 200.278 1185.53 Q198.102 1185.53 195.834 1185.16 Q193.588 1184.79 191.181 1184.05 L191.181 1179.35 Q193.264 1180.49 195.487 1181.04 Q197.709 1181.6 200.186 1181.6 Q204.19 1181.6 206.528 1179.49 Q208.866 1177.38 208.866 1173.77 Q208.866 1170.16 206.528 1168.06 Q204.19 1165.95 200.186 1165.95 Q198.311 1165.95 196.436 1166.37 Q194.584 1166.78 192.639 1167.66 L192.639 1150.3 Z\" fill=\"#000000\" fill-rule=\"evenodd\" fill-opacity=\"1\" /><path clip-path=\"url(#clip960)\" d=\"M117.015 1101.05 L124.654 1101.05 L124.654 1074.69 L116.343 1076.35 L116.343 1072.09 L124.607 1070.43 L129.283 1070.43 L129.283 1101.05 L136.922 1101.05 L136.922 1104.99 L117.015 1104.99 L117.015 1101.05 Z\" fill=\"#000000\" fill-rule=\"evenodd\" fill-opacity=\"1\" /><path clip-path=\"url(#clip960)\" d=\"M146.366 1099.11 L151.251 1099.11 L151.251 1104.99 L146.366 1104.99 L146.366 1099.11 Z\" fill=\"#000000\" fill-rule=\"evenodd\" fill-opacity=\"1\" /><path clip-path=\"url(#clip960)\" d=\"M171.436 1073.51 Q167.825 1073.51 165.996 1077.07 Q164.19 1080.61 164.19 1087.74 Q164.19 1094.85 165.996 1098.41 Q167.825 1101.95 171.436 1101.95 Q175.07 1101.95 176.876 1098.41 Q178.704 1094.85 178.704 1087.74 Q178.704 1080.61 176.876 1077.07 Q175.07 1073.51 171.436 1073.51 M171.436 1069.8 Q177.246 1069.8 180.301 1074.41 Q183.38 1078.99 183.38 1087.74 Q183.38 1096.47 180.301 1101.07 Q177.246 1105.66 171.436 1105.66 Q165.626 1105.66 162.547 1101.07 Q159.491 1096.47 159.491 1087.74 Q159.491 1078.99 162.547 1074.41 Q165.626 1069.8 171.436 1069.8 Z\" fill=\"#000000\" fill-rule=\"evenodd\" fill-opacity=\"1\" /><path clip-path=\"url(#clip960)\" d=\"M201.598 1073.51 Q197.987 1073.51 196.158 1077.07 Q194.352 1080.61 194.352 1087.74 Q194.352 1094.85 196.158 1098.41 Q197.987 1101.95 201.598 1101.95 Q205.232 1101.95 207.037 1098.41 Q208.866 1094.85 208.866 1087.74 Q208.866 1080.61 207.037 1077.07 Q205.232 1073.51 201.598 1073.51 M201.598 1069.8 Q207.408 1069.8 210.463 1074.41 Q213.542 1078.99 213.542 1087.74 Q213.542 1096.47 210.463 1101.07 Q207.408 1105.66 201.598 1105.66 Q195.787 1105.66 192.709 1101.07 Q189.653 1096.47 189.653 1087.74 Q189.653 1078.99 192.709 1074.41 Q195.787 1069.8 201.598 1069.8 Z\" fill=\"#000000\" fill-rule=\"evenodd\" fill-opacity=\"1\" /><path clip-path=\"url(#clip960)\" d=\"M39.4498 1302.72 Q39.9007 1302.72 40.9635 1303.01 L66.1485 1309.32 Q71.7523 1310.71 75.6814 1315.22 Q79.6106 1319.69 79.6106 1324.78 Q79.6106 1327.84 77.9681 1329.81 Q76.3578 1331.77 73.8779 1331.77 Q71.6879 1331.77 70.6251 1330.61 Q69.5945 1329.45 69.5945 1328.07 Q69.5945 1327.62 69.7234 1327.13 Q69.8522 1326.65 70.3997 1326.14 Q70.9472 1325.62 71.8812 1325.62 Q73.3948 1325.62 74.5864 1326.94 Q75.1339 1327.59 75.2628 1328.2 Q75.3916 1328.78 75.3916 1329.78 Q76.2934 1329.39 76.9053 1328.68 Q77.5172 1327.97 77.7426 1327.17 Q78.0003 1326.36 78.0647 1325.85 Q78.1613 1325.3 78.1613 1324.78 Q78.1613 1320.66 74.0067 1317.5 Q72.7507 1316.57 71.4947 1315.89 Q70.2709 1315.19 68.7572 1314.67 Q67.2757 1314.16 66.4706 1313.93 Q65.6654 1313.67 63.8297 1313.22 Q66.8248 1316.22 66.8248 1319.89 Q66.8248 1321.43 66.4062 1322.82 Q65.9875 1324.17 65.1179 1325.36 Q64.2162 1326.55 62.6381 1327.26 Q61.06 1327.94 58.9666 1327.94 Q56.7444 1327.94 53.717 1327.07 Q50.6897 1326.2 45.1181 1324.11 Q41.9941 1322.98 40.4804 1322.98 Q39.7397 1322.98 39.2888 1323.14 Q38.8057 1323.3 38.6447 1323.62 Q38.4515 1323.95 38.4193 1324.14 Q38.3871 1324.3 38.3871 1324.62 Q38.3871 1326.52 40.3194 1328.29 Q42.2518 1330.07 46.5673 1331.29 Q47.3725 1331.55 47.5657 1331.71 Q47.759 1331.87 47.759 1332.35 Q47.7268 1333.16 47.0826 1333.16 Q46.825 1333.16 45.8266 1332.87 Q44.796 1332.58 43.2823 1331.9 Q41.7365 1331.19 40.3516 1330.23 Q38.9346 1329.26 37.9362 1327.75 Q36.9378 1326.2 36.9378 1324.43 Q36.9378 1322.01 38.5159 1320.53 Q40.0618 1319.02 42.3484 1319.02 Q43.2823 1319.02 44.1197 1319.28 Q44.9248 1319.5 47.0826 1320.34 Q55.7782 1323.72 60.0294 1323.72 Q61.06 1323.72 61.9295 1323.56 Q62.7669 1323.37 63.6042 1322.95 Q64.4094 1322.53 64.8925 1321.69 Q65.3434 1320.82 65.3434 1319.63 Q65.3434 1318.12 64.6348 1316.7 Q63.8941 1315.25 62.8957 1314.35 Q61.8973 1313.41 61.06 1312.87 Q60.1904 1312.29 59.7395 1312.16 L47.8878 1309.2 L42.606 1307.88 Q39.7397 1307.26 39.0312 1306.97 Q38.3548 1306.59 38.0006 1305.91 Q37.6463 1305.23 37.6463 1304.65 Q37.6463 1303.85 38.1294 1303.3 Q38.6125 1302.72 39.4498 1302.72 Z\" fill=\"#000000\" fill-rule=\"evenodd\" fill-opacity=\"1\" /><path clip-path=\"url(#clip960)\" d=\"M82.5735 1248.87 L16.6159 1248.87 L16.6159 1238.92 L18.1296 1238.92 L18.1296 1244.46 L81.0598 1244.46 L81.0598 1238.92 L82.5735 1238.92 L82.5735 1248.87 Z\" fill=\"#000000\" fill-rule=\"evenodd\" fill-opacity=\"1\" /><path clip-path=\"url(#clip960)\" d=\"M48.6607 1187.18 Q49.0472 1186.79 49.5947 1186.79 Q50.1422 1186.79 50.5287 1187.18 Q50.9151 1187.56 50.9151 1188.11 L50.9151 1229.4 Q50.9151 1229.95 50.5287 1230.33 Q50.1422 1230.72 49.5947 1230.72 Q49.0472 1230.72 48.6607 1230.33 Q48.2743 1229.95 48.2743 1229.4 L48.2743 1188.11 Q48.2743 1187.56 48.6607 1187.18 Z\" fill=\"#000000\" fill-rule=\"evenodd\" fill-opacity=\"1\" /><path clip-path=\"url(#clip960)\" d=\"M81.0598 1179.91 L81.0598 1174.37 L18.1296 1174.37 L18.1296 1179.91 L16.6159 1179.91 L16.6159 1169.95 L82.5735 1169.95 L82.5735 1179.91 L81.0598 1179.91 Z\" fill=\"#000000\" fill-rule=\"evenodd\" fill-opacity=\"1\" /><polyline clip-path=\"url(#clip965)\" style=\"stroke:#000000; stroke-linecap:round; stroke-linejoin:round; stroke-width:4; stroke-opacity:1; fill:none\" stroke-dasharray=\"2, 4\" points=\"309.067,1071.73 385.381,1071.73 461.695,1071.73 538.009,1071.73 614.323,1071.73 690.637,1071.73 766.951,1071.73 843.265,1071.73 919.579,1071.73 995.893,1071.73 1072.21,1071.73 1148.52,1071.73 1224.83,1071.73 1301.15,1071.73 1377.46,1071.73 1453.78,1071.73 1530.09,1071.73 1606.4,1071.73 1682.72,1071.73 1759.03,1071.73 1835.35,1071.73 1911.66,1071.73 1987.97,1071.73 2064.29,1071.73 2140.6,1071.73 2216.92,1071.73 2293.23,1071.73 \"/>\n",
       "<polyline clip-path=\"url(#clip965)\" style=\"stroke:#000000; stroke-linecap:round; stroke-linejoin:round; stroke-width:4; stroke-opacity:1; fill:none\" stroke-dasharray=\"2, 4\" points=\"309.067,1087.71 385.381,1087.71 461.695,1087.71 538.009,1087.71 614.323,1087.71 690.637,1087.71 766.951,1087.71 843.265,1087.71 919.579,1087.71 995.893,1087.71 1072.21,1087.71 1148.52,1087.71 1224.83,1087.71 1301.15,1087.71 1377.46,1087.71 1453.78,1087.71 1530.09,1087.71 1606.4,1087.71 1682.72,1087.71 1759.03,1087.71 1835.35,1087.71 1911.66,1087.71 1987.97,1087.71 2064.29,1087.71 2140.6,1087.71 2216.92,1087.71 2293.23,1087.71 \"/>\n",
       "<polyline clip-path=\"url(#clip965)\" style=\"stroke:#000000; stroke-linecap:round; stroke-linejoin:round; stroke-width:12; stroke-opacity:1; fill:none\" points=\"309.067,1454 385.381,1399.92 461.695,1259.66 538.009,1137.15 614.323,1076.64 690.637,1065.96 766.951,1070.95 843.265,1071.67 919.579,1069.68 995.893,1069.83 1072.21,1070.4 1148.52,1069.91 1224.83,1070.09 1301.15,1070.43 1377.46,1069.99 1453.78,1070.08 1530.09,1070.2 1606.4,1070.1 1682.72,1070.14 1759.03,1070.15 1835.35,1070.13 1911.66,1070.13 1987.97,1070.13 2064.29,1070.13 2140.6,1070.14 2216.92,1070.14 2293.23,1070.14 \"/>\n",
       "<circle clip-path=\"url(#clip965)\" cx=\"385.381\" cy=\"1399.92\" r=\"10.8\" fill=\"#000000\" fill-rule=\"evenodd\" fill-opacity=\"1\" stroke=\"none\"/>\n",
       "<circle clip-path=\"url(#clip965)\" cx=\"461.695\" cy=\"1259.66\" r=\"10.8\" fill=\"#000000\" fill-rule=\"evenodd\" fill-opacity=\"1\" stroke=\"none\"/>\n",
       "<circle clip-path=\"url(#clip965)\" cx=\"538.009\" cy=\"1137.15\" r=\"10.8\" fill=\"#000000\" fill-rule=\"evenodd\" fill-opacity=\"1\" stroke=\"none\"/>\n",
       "<circle clip-path=\"url(#clip965)\" cx=\"614.323\" cy=\"1076.64\" r=\"10.8\" fill=\"#000000\" fill-rule=\"evenodd\" fill-opacity=\"1\" stroke=\"none\"/>\n",
       "<polyline clip-path=\"url(#clip965)\" style=\"stroke:#000000; stroke-linecap:round; stroke-linejoin:round; stroke-width:12; stroke-opacity:1; fill:none\" stroke-dasharray=\"48, 24, 6, 24\" points=\"309.067,1454 385.381,1399.92 461.695,1259.68 538.009,1137.17 614.323,1076.65 690.637,1065.96 766.951,1070.95 843.265,1071.67 919.579,1069.68 995.893,1069.83 1072.21,1070.4 1148.52,1069.91 1224.83,1070.09 1301.15,1070.43 1377.46,1069.99 1453.78,1070.08 1530.09,1070.2 1606.4,1070.1 1682.72,1070.14 1759.03,1070.15 1835.35,1070.13 1911.66,1070.13 1987.97,1070.13 2064.29,1070.13 2140.6,1070.14 2216.92,1070.14 2293.23,1070.14 \"/>\n",
       "<path clip-path=\"url(#clip965)\" d=\"M373.381 1387.92 L373.381 1411.92 L397.381 1411.92 L397.381 1387.92 L373.381 1387.92 Z\" fill=\"#000000\" fill-rule=\"evenodd\" fill-opacity=\"1\" stroke=\"none\"/>\n",
       "<path clip-path=\"url(#clip965)\" d=\"M449.695 1247.68 L449.695 1271.68 L473.695 1271.68 L473.695 1247.68 L449.695 1247.68 Z\" fill=\"#000000\" fill-rule=\"evenodd\" fill-opacity=\"1\" stroke=\"none\"/>\n",
       "<path clip-path=\"url(#clip965)\" d=\"M526.009 1125.17 L526.009 1149.17 L550.009 1149.17 L550.009 1125.17 L526.009 1125.17 Z\" fill=\"#000000\" fill-rule=\"evenodd\" fill-opacity=\"1\" stroke=\"none\"/>\n",
       "<path clip-path=\"url(#clip965)\" d=\"M602.323 1064.65 L602.323 1088.65 L626.323 1088.65 L626.323 1064.65 L602.323 1064.65 Z\" fill=\"#000000\" fill-rule=\"evenodd\" fill-opacity=\"1\" stroke=\"none\"/>\n",
       "</svg>\n"
      ]
     },
     "execution_count": 26,
     "metadata": {},
     "output_type": "execute_result"
    }
   ],
   "source": [
    "plot_comp((-0.05,1.05),L\"y \\quad [-]\",1,ts,yTraj,(pUB + y0),(pTrack + y0))"
   ]
  },
  {
   "cell_type": "code",
   "execution_count": 27,
   "id": "d21d4819",
   "metadata": {},
   "outputs": [
    {
     "data": {
      "image/svg+xml": [
       "<?xml version=\"1.0\" encoding=\"utf-8\"?>\n",
       "<svg xmlns=\"http://www.w3.org/2000/svg\" xmlns:xlink=\"http://www.w3.org/1999/xlink\" width=\"600\" height=\"400\" viewBox=\"0 0 2400 1600\">\n",
       "<defs>\n",
       "  <clipPath id=\"clip000\">\n",
       "    <rect x=\"0\" y=\"0\" width=\"2400\" height=\"1600\"/>\n",
       "  </clipPath>\n",
       "</defs>\n",
       "<path clip-path=\"url(#clip000)\" d=\"M0 1600 L2400 1600 L2400 0 L0 0  Z\" fill=\"#ffffff\" fill-rule=\"evenodd\" fill-opacity=\"1\"/>\n",
       "<defs>\n",
       "  <clipPath id=\"clip001\">\n",
       "    <rect x=\"480\" y=\"0\" width=\"1681\" height=\"1600\"/>\n",
       "  </clipPath>\n",
       "</defs>\n",
       "<defs>\n",
       "  <clipPath id=\"clip002\">\n",
       "    <rect x=\"249\" y=\"1071\" width=\"2104\" height=\"352\"/>\n",
       "  </clipPath>\n",
       "</defs>\n",
       "<path clip-path=\"url(#clip000)\" d=\"M249.542 398.692 L2352.76 398.692 L2352.76 47.2441 L249.542 47.2441  Z\" fill=\"#ffffff\" fill-rule=\"evenodd\" fill-opacity=\"1\"/>\n",
       "<defs>\n",
       "  <clipPath id=\"clip003\">\n",
       "    <rect x=\"249\" y=\"47\" width=\"2104\" height=\"352\"/>\n",
       "  </clipPath>\n",
       "</defs>\n",
       "<polyline clip-path=\"url(#clip003)\" style=\"stroke:#000000; stroke-linecap:round; stroke-linejoin:round; stroke-width:8; stroke-opacity:0.1; fill:none\" points=\"614.323,398.692 614.323,47.2441 \"/>\n",
       "<polyline clip-path=\"url(#clip003)\" style=\"stroke:#000000; stroke-linecap:round; stroke-linejoin:round; stroke-width:8; stroke-opacity:0.1; fill:none\" points=\"995.893,398.692 995.893,47.2441 \"/>\n",
       "<polyline clip-path=\"url(#clip003)\" style=\"stroke:#000000; stroke-linecap:round; stroke-linejoin:round; stroke-width:8; stroke-opacity:0.1; fill:none\" points=\"1377.46,398.692 1377.46,47.2441 \"/>\n",
       "<polyline clip-path=\"url(#clip003)\" style=\"stroke:#000000; stroke-linecap:round; stroke-linejoin:round; stroke-width:8; stroke-opacity:0.1; fill:none\" points=\"1759.03,398.692 1759.03,47.2441 \"/>\n",
       "<polyline clip-path=\"url(#clip003)\" style=\"stroke:#000000; stroke-linecap:round; stroke-linejoin:round; stroke-width:8; stroke-opacity:0.1; fill:none\" points=\"2140.6,398.692 2140.6,47.2441 \"/>\n",
       "<polyline clip-path=\"url(#clip000)\" style=\"stroke:#000000; stroke-linecap:round; stroke-linejoin:round; stroke-width:4; stroke-opacity:1; fill:none\" points=\"249.542,398.692 2352.76,398.692 \"/>\n",
       "<polyline clip-path=\"url(#clip000)\" style=\"stroke:#000000; stroke-linecap:round; stroke-linejoin:round; stroke-width:4; stroke-opacity:1; fill:none\" points=\"614.323,398.692 614.323,379.794 \"/>\n",
       "<polyline clip-path=\"url(#clip000)\" style=\"stroke:#000000; stroke-linecap:round; stroke-linejoin:round; stroke-width:4; stroke-opacity:1; fill:none\" points=\"995.893,398.692 995.893,379.794 \"/>\n",
       "<polyline clip-path=\"url(#clip000)\" style=\"stroke:#000000; stroke-linecap:round; stroke-linejoin:round; stroke-width:4; stroke-opacity:1; fill:none\" points=\"1377.46,398.692 1377.46,379.794 \"/>\n",
       "<polyline clip-path=\"url(#clip000)\" style=\"stroke:#000000; stroke-linecap:round; stroke-linejoin:round; stroke-width:4; stroke-opacity:1; fill:none\" points=\"1759.03,398.692 1759.03,379.794 \"/>\n",
       "<polyline clip-path=\"url(#clip000)\" style=\"stroke:#000000; stroke-linecap:round; stroke-linejoin:round; stroke-width:4; stroke-opacity:1; fill:none\" points=\"2140.6,398.692 2140.6,379.794 \"/>\n",
       "<path clip-path=\"url(#clip000)\" d=\"M604.601 426.532 L622.957 426.532 L622.957 430.467 L608.883 430.467 L608.883 438.939 Q609.902 438.592 610.92 438.43 Q611.939 438.245 612.957 438.245 Q618.744 438.245 622.124 441.416 Q625.503 444.587 625.503 450.004 Q625.503 455.583 622.031 458.684 Q618.559 461.763 612.24 461.763 Q610.064 461.763 607.795 461.393 Q605.55 461.022 603.142 460.282 L603.142 455.583 Q605.226 456.717 607.448 457.272 Q609.67 457.828 612.147 457.828 Q616.152 457.828 618.49 455.722 Q620.828 453.615 620.828 450.004 Q620.828 446.393 618.49 444.286 Q616.152 442.18 612.147 442.18 Q610.272 442.18 608.397 442.597 Q606.545 443.013 604.601 443.893 L604.601 426.532 Z\" fill=\"#000000\" fill-rule=\"evenodd\" fill-opacity=\"1\" /><path clip-path=\"url(#clip000)\" d=\"M970.581 457.157 L978.219 457.157 L978.219 430.791 L969.909 432.458 L969.909 428.199 L978.173 426.532 L982.849 426.532 L982.849 457.157 L990.488 457.157 L990.488 461.092 L970.581 461.092 L970.581 457.157 Z\" fill=\"#000000\" fill-rule=\"evenodd\" fill-opacity=\"1\" /><path clip-path=\"url(#clip000)\" d=\"M1009.93 429.611 Q1006.32 429.611 1004.49 433.175 Q1002.69 436.717 1002.69 443.847 Q1002.69 450.953 1004.49 454.518 Q1006.32 458.059 1009.93 458.059 Q1013.57 458.059 1015.37 454.518 Q1017.2 450.953 1017.2 443.847 Q1017.2 436.717 1015.37 433.175 Q1013.57 429.611 1009.93 429.611 M1009.93 425.907 Q1015.74 425.907 1018.8 430.513 Q1021.88 435.097 1021.88 443.847 Q1021.88 452.573 1018.8 457.18 Q1015.74 461.763 1009.93 461.763 Q1004.12 461.763 1001.04 457.18 Q997.988 452.573 997.988 443.847 Q997.988 435.097 1001.04 430.513 Q1004.12 425.907 1009.93 425.907 Z\" fill=\"#000000\" fill-rule=\"evenodd\" fill-opacity=\"1\" /><path clip-path=\"url(#clip000)\" d=\"M1352.65 457.157 L1360.29 457.157 L1360.29 430.791 L1351.98 432.458 L1351.98 428.199 L1360.24 426.532 L1364.92 426.532 L1364.92 457.157 L1372.56 457.157 L1372.56 461.092 L1352.65 461.092 L1352.65 457.157 Z\" fill=\"#000000\" fill-rule=\"evenodd\" fill-opacity=\"1\" /><path clip-path=\"url(#clip000)\" d=\"M1382.05 426.532 L1400.4 426.532 L1400.4 430.467 L1386.33 430.467 L1386.33 438.939 Q1387.35 438.592 1388.37 438.43 Q1389.38 438.245 1390.4 438.245 Q1396.19 438.245 1399.57 441.416 Q1402.95 444.587 1402.95 450.004 Q1402.95 455.583 1399.48 458.684 Q1396 461.763 1389.69 461.763 Q1387.51 461.763 1385.24 461.393 Q1383 461.022 1380.59 460.282 L1380.59 455.583 Q1382.67 456.717 1384.89 457.272 Q1387.12 457.828 1389.59 457.828 Q1393.6 457.828 1395.94 455.722 Q1398.27 453.615 1398.27 450.004 Q1398.27 446.393 1395.94 444.286 Q1393.6 442.18 1389.59 442.18 Q1387.72 442.18 1385.84 442.597 Q1383.99 443.013 1382.05 443.893 L1382.05 426.532 Z\" fill=\"#000000\" fill-rule=\"evenodd\" fill-opacity=\"1\" /><path clip-path=\"url(#clip000)\" d=\"M1737.81 457.157 L1754.13 457.157 L1754.13 461.092 L1732.18 461.092 L1732.18 457.157 Q1734.84 454.402 1739.43 449.772 Q1744.03 445.12 1745.21 443.777 Q1747.46 441.254 1748.34 439.518 Q1749.24 437.759 1749.24 436.069 Q1749.24 433.314 1747.3 431.578 Q1745.38 429.842 1742.27 429.842 Q1740.07 429.842 1737.62 430.606 Q1735.19 431.37 1732.41 432.921 L1732.41 428.199 Q1735.24 427.064 1737.69 426.486 Q1740.14 425.907 1742.18 425.907 Q1747.55 425.907 1750.75 428.592 Q1753.94 431.277 1753.94 435.768 Q1753.94 437.898 1753.13 439.819 Q1752.34 441.717 1750.24 444.31 Q1749.66 444.981 1746.56 448.198 Q1743.45 451.393 1737.81 457.157 Z\" fill=\"#000000\" fill-rule=\"evenodd\" fill-opacity=\"1\" /><path clip-path=\"url(#clip000)\" d=\"M1773.94 429.611 Q1770.33 429.611 1768.5 433.175 Q1766.69 436.717 1766.69 443.847 Q1766.69 450.953 1768.5 454.518 Q1770.33 458.059 1773.94 458.059 Q1777.57 458.059 1779.38 454.518 Q1781.21 450.953 1781.21 443.847 Q1781.21 436.717 1779.38 433.175 Q1777.57 429.611 1773.94 429.611 M1773.94 425.907 Q1779.75 425.907 1782.81 430.513 Q1785.88 435.097 1785.88 443.847 Q1785.88 452.573 1782.81 457.18 Q1779.75 461.763 1773.94 461.763 Q1768.13 461.763 1765.05 457.18 Q1762 452.573 1762 443.847 Q1762 435.097 1765.05 430.513 Q1768.13 425.907 1773.94 425.907 Z\" fill=\"#000000\" fill-rule=\"evenodd\" fill-opacity=\"1\" /><path clip-path=\"url(#clip000)\" d=\"M2119.87 457.157 L2136.19 457.157 L2136.19 461.092 L2114.25 461.092 L2114.25 457.157 Q2116.91 454.402 2121.49 449.772 Q2126.1 445.12 2127.28 443.777 Q2129.53 441.254 2130.41 439.518 Q2131.31 437.759 2131.31 436.069 Q2131.31 433.314 2129.36 431.578 Q2127.44 429.842 2124.34 429.842 Q2122.14 429.842 2119.69 430.606 Q2117.26 431.37 2114.48 432.921 L2114.48 428.199 Q2117.3 427.064 2119.76 426.486 Q2122.21 425.907 2124.25 425.907 Q2129.62 425.907 2132.81 428.592 Q2136.01 431.277 2136.01 435.768 Q2136.01 437.898 2135.2 439.819 Q2134.41 441.717 2132.3 444.31 Q2131.73 444.981 2128.62 448.198 Q2125.52 451.393 2119.87 457.157 Z\" fill=\"#000000\" fill-rule=\"evenodd\" fill-opacity=\"1\" /><path clip-path=\"url(#clip000)\" d=\"M2146.05 426.532 L2164.41 426.532 L2164.41 430.467 L2150.34 430.467 L2150.34 438.939 Q2151.36 438.592 2152.37 438.43 Q2153.39 438.245 2154.41 438.245 Q2160.2 438.245 2163.58 441.416 Q2166.96 444.587 2166.96 450.004 Q2166.96 455.583 2163.48 458.684 Q2160.01 461.763 2153.69 461.763 Q2151.52 461.763 2149.25 461.393 Q2147 461.022 2144.6 460.282 L2144.6 455.583 Q2146.68 456.717 2148.9 457.272 Q2151.12 457.828 2153.6 457.828 Q2157.61 457.828 2159.94 455.722 Q2162.28 453.615 2162.28 450.004 Q2162.28 446.393 2159.94 444.286 Q2157.61 442.18 2153.6 442.18 Q2151.73 442.18 2149.85 442.597 Q2148 443.013 2146.05 443.893 L2146.05 426.532 Z\" fill=\"#000000\" fill-rule=\"evenodd\" fill-opacity=\"1\" /><polyline clip-path=\"url(#clip003)\" style=\"stroke:#000000; stroke-linecap:round; stroke-linejoin:round; stroke-width:8; stroke-opacity:0.1; fill:none\" points=\"249.542,398.692 2352.76,398.692 \"/>\n",
       "<polyline clip-path=\"url(#clip003)\" style=\"stroke:#000000; stroke-linecap:round; stroke-linejoin:round; stroke-width:8; stroke-opacity:0.1; fill:none\" points=\"249.542,325.474 2352.76,325.474 \"/>\n",
       "<polyline clip-path=\"url(#clip003)\" style=\"stroke:#000000; stroke-linecap:round; stroke-linejoin:round; stroke-width:8; stroke-opacity:0.1; fill:none\" points=\"249.542,252.255 2352.76,252.255 \"/>\n",
       "<polyline clip-path=\"url(#clip003)\" style=\"stroke:#000000; stroke-linecap:round; stroke-linejoin:round; stroke-width:8; stroke-opacity:0.1; fill:none\" points=\"249.542,179.037 2352.76,179.037 \"/>\n",
       "<polyline clip-path=\"url(#clip003)\" style=\"stroke:#000000; stroke-linecap:round; stroke-linejoin:round; stroke-width:8; stroke-opacity:0.1; fill:none\" points=\"249.542,105.819 2352.76,105.819 \"/>\n",
       "<polyline clip-path=\"url(#clip000)\" style=\"stroke:#000000; stroke-linecap:round; stroke-linejoin:round; stroke-width:4; stroke-opacity:1; fill:none\" points=\"249.542,398.692 249.542,47.2441 \"/>\n",
       "<polyline clip-path=\"url(#clip000)\" style=\"stroke:#000000; stroke-linecap:round; stroke-linejoin:round; stroke-width:4; stroke-opacity:1; fill:none\" points=\"249.542,398.692 268.44,398.692 \"/>\n",
       "<polyline clip-path=\"url(#clip000)\" style=\"stroke:#000000; stroke-linecap:round; stroke-linejoin:round; stroke-width:4; stroke-opacity:1; fill:none\" points=\"249.542,325.474 268.44,325.474 \"/>\n",
       "<polyline clip-path=\"url(#clip000)\" style=\"stroke:#000000; stroke-linecap:round; stroke-linejoin:round; stroke-width:4; stroke-opacity:1; fill:none\" points=\"249.542,252.255 268.44,252.255 \"/>\n",
       "<polyline clip-path=\"url(#clip000)\" style=\"stroke:#000000; stroke-linecap:round; stroke-linejoin:round; stroke-width:4; stroke-opacity:1; fill:none\" points=\"249.542,179.037 268.44,179.037 \"/>\n",
       "<polyline clip-path=\"url(#clip000)\" style=\"stroke:#000000; stroke-linecap:round; stroke-linejoin:round; stroke-width:4; stroke-opacity:1; fill:none\" points=\"249.542,105.819 268.44,105.819 \"/>\n",
       "<path clip-path=\"url(#clip000)\" d=\"M126.205 384.491 Q122.593 384.491 120.765 388.055 Q118.959 391.597 118.959 398.727 Q118.959 405.833 120.765 409.398 Q122.593 412.939 126.205 412.939 Q129.839 412.939 131.644 409.398 Q133.473 405.833 133.473 398.727 Q133.473 391.597 131.644 388.055 Q129.839 384.491 126.205 384.491 M126.205 380.787 Q132.015 380.787 135.07 385.393 Q138.149 389.977 138.149 398.727 Q138.149 407.453 135.07 412.06 Q132.015 416.643 126.205 416.643 Q120.394 416.643 117.316 412.06 Q114.26 407.453 114.26 398.727 Q114.26 389.977 117.316 385.393 Q120.394 380.787 126.205 380.787 Z\" fill=\"#000000\" fill-rule=\"evenodd\" fill-opacity=\"1\" /><path clip-path=\"url(#clip000)\" d=\"M146.366 410.092 L151.251 410.092 L151.251 415.972 L146.366 415.972 L146.366 410.092 Z\" fill=\"#000000\" fill-rule=\"evenodd\" fill-opacity=\"1\" /><path clip-path=\"url(#clip000)\" d=\"M171.436 384.491 Q167.825 384.491 165.996 388.055 Q164.19 391.597 164.19 398.727 Q164.19 405.833 165.996 409.398 Q167.825 412.939 171.436 412.939 Q175.07 412.939 176.876 409.398 Q178.704 405.833 178.704 398.727 Q178.704 391.597 176.876 388.055 Q175.07 384.491 171.436 384.491 M171.436 380.787 Q177.246 380.787 180.301 385.393 Q183.38 389.977 183.38 398.727 Q183.38 407.453 180.301 412.06 Q177.246 416.643 171.436 416.643 Q165.626 416.643 162.547 412.06 Q159.491 407.453 159.491 398.727 Q159.491 389.977 162.547 385.393 Q165.626 380.787 171.436 380.787 Z\" fill=\"#000000\" fill-rule=\"evenodd\" fill-opacity=\"1\" /><path clip-path=\"url(#clip000)\" d=\"M201.598 384.491 Q197.987 384.491 196.158 388.055 Q194.352 391.597 194.352 398.727 Q194.352 405.833 196.158 409.398 Q197.987 412.939 201.598 412.939 Q205.232 412.939 207.037 409.398 Q208.866 405.833 208.866 398.727 Q208.866 391.597 207.037 388.055 Q205.232 384.491 201.598 384.491 M201.598 380.787 Q207.408 380.787 210.463 385.393 Q213.542 389.977 213.542 398.727 Q213.542 407.453 210.463 412.06 Q207.408 416.643 201.598 416.643 Q195.787 416.643 192.709 412.06 Q189.653 407.453 189.653 398.727 Q189.653 389.977 192.709 385.393 Q195.787 380.787 201.598 380.787 Z\" fill=\"#000000\" fill-rule=\"evenodd\" fill-opacity=\"1\" /><path clip-path=\"url(#clip000)\" d=\"M127.2 311.272 Q123.589 311.272 121.76 314.837 Q119.955 318.379 119.955 325.508 Q119.955 332.615 121.76 336.18 Q123.589 339.721 127.2 339.721 Q130.834 339.721 132.64 336.18 Q134.468 332.615 134.468 325.508 Q134.468 318.379 132.64 314.837 Q130.834 311.272 127.2 311.272 M127.2 307.569 Q133.01 307.569 136.066 312.175 Q139.144 316.758 139.144 325.508 Q139.144 334.235 136.066 338.842 Q133.01 343.425 127.2 343.425 Q121.39 343.425 118.311 338.842 Q115.256 334.235 115.256 325.508 Q115.256 316.758 118.311 312.175 Q121.39 307.569 127.2 307.569 Z\" fill=\"#000000\" fill-rule=\"evenodd\" fill-opacity=\"1\" /><path clip-path=\"url(#clip000)\" d=\"M147.362 336.874 L152.246 336.874 L152.246 342.754 L147.362 342.754 L147.362 336.874 Z\" fill=\"#000000\" fill-rule=\"evenodd\" fill-opacity=\"1\" /><path clip-path=\"url(#clip000)\" d=\"M166.459 338.818 L182.778 338.818 L182.778 342.754 L160.834 342.754 L160.834 338.818 Q163.496 336.064 168.079 331.434 Q172.686 326.781 173.866 325.439 Q176.112 322.916 176.991 321.18 Q177.894 319.42 177.894 317.731 Q177.894 314.976 175.95 313.24 Q174.028 311.504 170.927 311.504 Q168.727 311.504 166.274 312.268 Q163.843 313.032 161.065 314.582 L161.065 309.86 Q163.89 308.726 166.343 308.147 Q168.797 307.569 170.834 307.569 Q176.204 307.569 179.399 310.254 Q182.593 312.939 182.593 317.43 Q182.593 319.559 181.783 321.481 Q180.996 323.379 178.889 325.971 Q178.311 326.643 175.209 329.86 Q172.107 333.055 166.459 338.818 Z\" fill=\"#000000\" fill-rule=\"evenodd\" fill-opacity=\"1\" /><path clip-path=\"url(#clip000)\" d=\"M192.639 308.194 L210.996 308.194 L210.996 312.129 L196.922 312.129 L196.922 320.601 Q197.94 320.254 198.959 320.092 Q199.977 319.906 200.996 319.906 Q206.783 319.906 210.162 323.078 Q213.542 326.249 213.542 331.666 Q213.542 337.244 210.07 340.346 Q206.598 343.425 200.278 343.425 Q198.102 343.425 195.834 343.055 Q193.588 342.684 191.181 341.943 L191.181 337.244 Q193.264 338.379 195.487 338.934 Q197.709 339.49 200.186 339.49 Q204.19 339.49 206.528 337.383 Q208.866 335.277 208.866 331.666 Q208.866 328.055 206.528 325.948 Q204.19 323.842 200.186 323.842 Q198.311 323.842 196.436 324.258 Q194.584 324.675 192.639 325.555 L192.639 308.194 Z\" fill=\"#000000\" fill-rule=\"evenodd\" fill-opacity=\"1\" /><path clip-path=\"url(#clip000)\" d=\"M126.205 238.054 Q122.593 238.054 120.765 241.619 Q118.959 245.16 118.959 252.29 Q118.959 259.396 120.765 262.961 Q122.593 266.503 126.205 266.503 Q129.839 266.503 131.644 262.961 Q133.473 259.396 133.473 252.29 Q133.473 245.16 131.644 241.619 Q129.839 238.054 126.205 238.054 M126.205 234.35 Q132.015 234.35 135.07 238.957 Q138.149 243.54 138.149 252.29 Q138.149 261.017 135.07 265.623 Q132.015 270.207 126.205 270.207 Q120.394 270.207 117.316 265.623 Q114.26 261.017 114.26 252.29 Q114.26 243.54 117.316 238.957 Q120.394 234.35 126.205 234.35 Z\" fill=\"#000000\" fill-rule=\"evenodd\" fill-opacity=\"1\" /><path clip-path=\"url(#clip000)\" d=\"M146.366 263.656 L151.251 263.656 L151.251 269.535 L146.366 269.535 L146.366 263.656 Z\" fill=\"#000000\" fill-rule=\"evenodd\" fill-opacity=\"1\" /><path clip-path=\"url(#clip000)\" d=\"M161.482 234.975 L179.839 234.975 L179.839 238.91 L165.765 238.91 L165.765 247.383 Q166.783 247.035 167.802 246.873 Q168.82 246.688 169.839 246.688 Q175.626 246.688 179.005 249.859 Q182.385 253.031 182.385 258.447 Q182.385 264.026 178.913 267.128 Q175.44 270.207 169.121 270.207 Q166.945 270.207 164.677 269.836 Q162.431 269.466 160.024 268.725 L160.024 264.026 Q162.107 265.16 164.329 265.716 Q166.552 266.271 169.028 266.271 Q173.033 266.271 175.371 264.165 Q177.709 262.058 177.709 258.447 Q177.709 254.836 175.371 252.73 Q173.033 250.623 169.028 250.623 Q167.153 250.623 165.278 251.04 Q163.427 251.457 161.482 252.336 L161.482 234.975 Z\" fill=\"#000000\" fill-rule=\"evenodd\" fill-opacity=\"1\" /><path clip-path=\"url(#clip000)\" d=\"M201.598 238.054 Q197.987 238.054 196.158 241.619 Q194.352 245.16 194.352 252.29 Q194.352 259.396 196.158 262.961 Q197.987 266.503 201.598 266.503 Q205.232 266.503 207.037 262.961 Q208.866 259.396 208.866 252.29 Q208.866 245.16 207.037 241.619 Q205.232 238.054 201.598 238.054 M201.598 234.35 Q207.408 234.35 210.463 238.957 Q213.542 243.54 213.542 252.29 Q213.542 261.017 210.463 265.623 Q207.408 270.207 201.598 270.207 Q195.787 270.207 192.709 265.623 Q189.653 261.017 189.653 252.29 Q189.653 243.54 192.709 238.957 Q195.787 234.35 201.598 234.35 Z\" fill=\"#000000\" fill-rule=\"evenodd\" fill-opacity=\"1\" /><path clip-path=\"url(#clip000)\" d=\"M127.2 164.836 Q123.589 164.836 121.76 168.4 Q119.955 171.942 119.955 179.072 Q119.955 186.178 121.76 189.743 Q123.589 193.285 127.2 193.285 Q130.834 193.285 132.64 189.743 Q134.468 186.178 134.468 179.072 Q134.468 171.942 132.64 168.4 Q130.834 164.836 127.2 164.836 M127.2 161.132 Q133.01 161.132 136.066 165.738 Q139.144 170.322 139.144 179.072 Q139.144 187.799 136.066 192.405 Q133.01 196.988 127.2 196.988 Q121.39 196.988 118.311 192.405 Q115.256 187.799 115.256 179.072 Q115.256 170.322 118.311 165.738 Q121.39 161.132 127.2 161.132 Z\" fill=\"#000000\" fill-rule=\"evenodd\" fill-opacity=\"1\" /><path clip-path=\"url(#clip000)\" d=\"M147.362 190.437 L152.246 190.437 L152.246 196.317 L147.362 196.317 L147.362 190.437 Z\" fill=\"#000000\" fill-rule=\"evenodd\" fill-opacity=\"1\" /><path clip-path=\"url(#clip000)\" d=\"M161.251 161.757 L183.473 161.757 L183.473 163.748 L170.927 196.317 L166.042 196.317 L177.848 165.692 L161.251 165.692 L161.251 161.757 Z\" fill=\"#000000\" fill-rule=\"evenodd\" fill-opacity=\"1\" /><path clip-path=\"url(#clip000)\" d=\"M192.639 161.757 L210.996 161.757 L210.996 165.692 L196.922 165.692 L196.922 174.164 Q197.94 173.817 198.959 173.655 Q199.977 173.47 200.996 173.47 Q206.783 173.47 210.162 176.641 Q213.542 179.812 213.542 185.229 Q213.542 190.808 210.07 193.91 Q206.598 196.988 200.278 196.988 Q198.102 196.988 195.834 196.618 Q193.588 196.248 191.181 195.507 L191.181 190.808 Q193.264 191.942 195.487 192.498 Q197.709 193.053 200.186 193.053 Q204.19 193.053 206.528 190.947 Q208.866 188.84 208.866 185.229 Q208.866 181.618 206.528 179.512 Q204.19 177.405 200.186 177.405 Q198.311 177.405 196.436 177.822 Q194.584 178.238 192.639 179.118 L192.639 161.757 Z\" fill=\"#000000\" fill-rule=\"evenodd\" fill-opacity=\"1\" /><path clip-path=\"url(#clip000)\" d=\"M117.015 119.164 L124.654 119.164 L124.654 92.798 L116.343 94.4646 L116.343 90.2054 L124.607 88.5387 L129.283 88.5387 L129.283 119.164 L136.922 119.164 L136.922 123.099 L117.015 123.099 L117.015 119.164 Z\" fill=\"#000000\" fill-rule=\"evenodd\" fill-opacity=\"1\" /><path clip-path=\"url(#clip000)\" d=\"M146.366 117.219 L151.251 117.219 L151.251 123.099 L146.366 123.099 L146.366 117.219 Z\" fill=\"#000000\" fill-rule=\"evenodd\" fill-opacity=\"1\" /><path clip-path=\"url(#clip000)\" d=\"M171.436 91.6174 Q167.825 91.6174 165.996 95.1822 Q164.19 98.7239 164.19 105.853 Q164.19 112.96 165.996 116.525 Q167.825 120.066 171.436 120.066 Q175.07 120.066 176.876 116.525 Q178.704 112.96 178.704 105.853 Q178.704 98.7239 176.876 95.1822 Q175.07 91.6174 171.436 91.6174 M171.436 87.9137 Q177.246 87.9137 180.301 92.5202 Q183.38 97.1035 183.38 105.853 Q183.38 114.58 180.301 119.187 Q177.246 123.77 171.436 123.77 Q165.626 123.77 162.547 119.187 Q159.491 114.58 159.491 105.853 Q159.491 97.1035 162.547 92.5202 Q165.626 87.9137 171.436 87.9137 Z\" fill=\"#000000\" fill-rule=\"evenodd\" fill-opacity=\"1\" /><path clip-path=\"url(#clip000)\" d=\"M201.598 91.6174 Q197.987 91.6174 196.158 95.1822 Q194.352 98.7239 194.352 105.853 Q194.352 112.96 196.158 116.525 Q197.987 120.066 201.598 120.066 Q205.232 120.066 207.037 116.525 Q208.866 112.96 208.866 105.853 Q208.866 98.7239 207.037 95.1822 Q205.232 91.6174 201.598 91.6174 M201.598 87.9137 Q207.408 87.9137 210.463 92.5202 Q213.542 97.1035 213.542 105.853 Q213.542 114.58 210.463 119.187 Q207.408 123.77 201.598 123.77 Q195.787 123.77 192.709 119.187 Q189.653 114.58 189.653 105.853 Q189.653 97.1035 192.709 92.5202 Q195.787 87.9137 201.598 87.9137 Z\" fill=\"#000000\" fill-rule=\"evenodd\" fill-opacity=\"1\" /><path clip-path=\"url(#clip000)\" d=\"M41.1758 314.046 Q41.6267 314.046 42.6895 314.336 L67.8744 320.648 Q73.4783 322.033 77.4074 326.542 Q81.3365 331.018 81.3365 336.107 Q81.3365 339.166 79.694 341.131 Q78.0837 343.095 75.6039 343.095 Q73.4139 343.095 72.3511 341.936 Q71.3205 340.777 71.3205 339.392 Q71.3205 338.941 71.4493 338.458 Q71.5781 337.975 72.1256 337.459 Q72.6731 336.944 73.6071 336.944 Q75.1208 336.944 76.3124 338.264 Q76.8599 338.909 76.9887 339.521 Q77.1175 340.1 77.1175 341.099 Q78.0193 340.712 78.6312 340.004 Q79.2431 339.295 79.4686 338.49 Q79.7262 337.685 79.7906 337.169 Q79.8872 336.622 79.8872 336.107 Q79.8872 331.984 75.7327 328.828 Q74.4766 327.894 73.2206 327.218 Q71.9968 326.509 70.4831 325.994 Q69.0016 325.479 68.1965 325.253 Q67.3914 324.996 65.5556 324.545 Q68.5508 327.54 68.5508 331.211 Q68.5508 332.757 68.1321 334.142 Q67.7134 335.495 66.8439 336.686 Q65.9421 337.878 64.364 338.587 Q62.7859 339.263 60.6925 339.263 Q58.4703 339.263 55.443 338.393 Q52.4156 337.524 46.844 335.43 Q43.72 334.303 42.2064 334.303 Q41.4656 334.303 41.0148 334.464 Q40.5317 334.625 40.3706 334.947 Q40.1774 335.269 40.1452 335.463 Q40.113 335.624 40.113 335.946 Q40.113 337.846 42.0453 339.617 Q43.9777 341.388 48.2933 342.612 Q49.0984 342.87 49.2917 343.031 Q49.4849 343.192 49.4849 343.675 Q49.4527 344.48 48.8086 344.48 Q48.5509 344.48 47.5525 344.19 Q46.522 343.9 45.0083 343.224 Q43.4624 342.516 42.0775 341.549 Q40.6605 340.583 39.6621 339.07 Q38.6637 337.524 38.6637 335.752 Q38.6637 333.337 40.2418 331.856 Q41.7877 330.342 44.0743 330.342 Q45.0083 330.342 45.8456 330.599 Q46.6508 330.825 48.8086 331.662 Q57.5042 335.044 61.7553 335.044 Q62.7859 335.044 63.6555 334.883 Q64.4928 334.69 65.3302 334.271 Q66.1353 333.852 66.6184 333.015 Q67.0693 332.145 67.0693 330.954 Q67.0693 329.44 66.3608 328.023 Q65.62 326.574 64.6217 325.672 Q63.6233 324.738 62.7859 324.191 Q61.9164 323.611 61.4655 323.482 L49.6137 320.519 L44.332 319.199 Q41.4656 318.587 40.7571 318.297 Q40.0808 317.91 39.7265 317.234 Q39.3723 316.558 39.3723 315.978 Q39.3723 315.173 39.8553 314.625 Q40.3384 314.046 41.1758 314.046 Z\" fill=\"#000000\" fill-rule=\"evenodd\" fill-opacity=\"1\" /><path clip-path=\"url(#clip000)\" d=\"M15.5216 279.908 L25.6214 282.411 Q26.2301 282.546 26.3879 282.659 Q26.5457 282.772 26.5457 283.087 Q26.5457 283.335 26.433 283.493 Q26.3203 283.628 26.2076 283.628 L26.0948 283.651 Q26.0272 283.651 25.689 283.606 Q25.3283 283.561 24.7422 283.516 Q24.156 283.47 23.5023 283.47 Q19.805 283.47 18.0917 285.274 Q16.3558 287.055 16.3558 290.121 Q16.3558 292.24 17.483 294.134 Q18.6102 296.028 20.3912 297.11 Q22.1496 298.192 23.9982 298.192 Q25.689 298.192 26.7712 297.335 Q27.8533 296.478 28.214 295.374 L29.0481 292.285 Q29.8822 289.039 30.2429 288.115 Q30.5811 287.19 31.3476 286.424 Q33.4668 284.147 36.7582 284.147 Q39.5988 284.147 42.3491 285.747 Q45.077 287.348 46.858 290.098 Q48.6164 292.849 48.6164 295.892 Q48.6164 301.235 45.3024 303.693 L47.9175 305.947 Q48.4135 306.375 48.5037 306.511 Q48.6164 306.623 48.6164 306.781 Q48.6164 306.984 48.4811 307.142 Q48.3684 307.3 48.1655 307.3 Q48.0077 307.3 42.7098 305.969 Q37.412 304.639 37.2993 304.527 Q37.1189 304.346 37.1189 304.053 Q37.1189 303.512 37.6374 303.512 Q37.7727 303.557 37.953 303.602 Q39.5762 303.873 40.4554 303.873 Q42.1011 303.873 43.3636 303.309 Q44.6035 302.746 45.325 301.912 Q46.0238 301.055 46.4747 299.905 Q46.903 298.755 47.0608 297.786 Q47.1961 296.817 47.1961 295.802 Q47.1961 293.615 45.9336 291.677 Q44.6712 289.715 42.7098 288.611 Q40.7485 287.483 38.697 287.483 Q37.6149 287.483 36.7807 287.776 Q35.9241 288.069 35.4506 288.475 Q34.9772 288.859 34.6165 289.512 Q34.2558 290.166 34.1205 290.617 Q33.9627 291.045 33.8049 291.722 L32.4974 296.659 Q31.9112 298.643 30.2204 300.063 Q28.5296 301.461 25.937 301.461 Q23.2092 301.461 20.6842 299.86 Q18.1368 298.237 16.6038 295.599 Q15.0482 292.939 15.0482 290.076 Q15.0482 287.821 15.9274 286.086 Q16.7841 284.35 18.3848 283.47 L15.7471 281.239 Q15.2286 280.788 15.1384 280.698 Q15.0482 280.585 15.0482 280.427 Q15.0482 280.156 15.206 280.044 Q15.3638 279.908 15.5216 279.908 Z\" fill=\"#000000\" fill-rule=\"evenodd\" fill-opacity=\"1\" /><path clip-path=\"url(#clip000)\" d=\"M23.0288 244.284 Q25.5538 244.284 27.8758 246.156 Q30.1979 248.004 31.6181 251.025 Q33.0159 254.024 33.0159 257.247 L33.0159 265.093 L44.5585 267.956 Q44.6261 267.978 44.9192 268.046 Q45.1897 268.114 45.3475 268.114 Q45.9111 268.114 46.0464 267.415 Q46.1816 266.693 46.1816 265.093 Q46.1816 264.056 46.362 263.898 Q46.4747 263.808 46.6776 263.808 Q46.9932 263.808 47.2187 263.898 Q47.4216 263.988 47.4892 264.168 Q47.5568 264.326 47.5794 264.439 Q47.6019 264.552 47.6019 264.732 Q47.6019 265.205 47.5568 266.22 Q47.5117 267.212 47.5117 267.73 L47.4666 270.684 L47.6019 276.545 Q47.6019 277.244 47.0383 277.244 Q46.61 277.244 46.4296 277.064 Q46.2267 276.883 46.2042 276.68 Q46.1816 276.477 46.1816 275.959 Q46.1816 274.832 46.114 274.155 Q46.0464 273.479 45.9562 273.051 Q45.8435 272.6 45.5279 272.374 Q45.2122 272.126 44.9417 272.014 Q44.6486 271.901 43.9949 271.743 L19.1963 265.566 Q18.4524 265.386 18.3397 265.386 Q17.9564 265.386 17.8211 265.611 Q17.6633 265.814 17.5957 266.4 Q17.5055 267.527 17.5055 268.384 Q17.5055 268.948 17.483 269.173 Q17.4604 269.376 17.3477 269.556 Q17.2125 269.714 16.9419 269.714 Q16.5136 269.714 16.3332 269.534 Q16.1303 269.331 16.1078 269.106 Q16.0627 268.88 16.0627 268.339 L16.0627 253.37 Q16.0627 249.064 18.1142 246.674 Q20.1657 244.284 23.0288 244.284 M21.9242 248.568 Q17.5055 248.568 17.5055 254.858 L17.5055 259.276 Q17.5055 260.742 17.7761 261.102 Q18.024 261.463 19.264 261.779 L31.821 264.912 L31.821 258.397 Q31.821 254.024 29.3637 251.296 Q28.2365 250.056 25.8919 249.312 Q23.5473 248.568 21.9242 248.568 Z\" fill=\"#000000\" fill-rule=\"evenodd\" fill-opacity=\"1\" /><path clip-path=\"url(#clip000)\" d=\"M84.2994 188.571 L18.3418 188.571 L18.3418 178.619 L19.8555 178.619 L19.8555 184.158 L82.7858 184.158 L82.7858 178.619 L84.2994 178.619 L84.2994 188.571 Z\" fill=\"#000000\" fill-rule=\"evenodd\" fill-opacity=\"1\" /><path clip-path=\"url(#clip000)\" d=\"M50.3867 126.878 Q50.7731 126.491 51.3206 126.491 Q51.8681 126.491 52.2546 126.878 Q52.6411 127.264 52.6411 127.812 L52.6411 169.1 Q52.6411 169.647 52.2546 170.034 Q51.8681 170.42 51.3206 170.42 Q50.7731 170.42 50.3867 170.034 Q50.0002 169.647 50.0002 169.1 L50.0002 127.812 Q50.0002 127.264 50.3867 126.878 Z\" fill=\"#000000\" fill-rule=\"evenodd\" fill-opacity=\"1\" /><path clip-path=\"url(#clip000)\" d=\"M82.7858 119.606 L82.7858 114.067 L19.8555 114.067 L19.8555 119.606 L18.3418 119.606 L18.3418 109.654 L84.2994 109.654 L84.2994 119.606 L82.7858 119.606 Z\" fill=\"#000000\" fill-rule=\"evenodd\" fill-opacity=\"1\" /><polyline clip-path=\"url(#clip003)\" style=\"stroke:#000000; stroke-linecap:round; stroke-linejoin:round; stroke-width:4; stroke-opacity:1; fill:none\" stroke-dasharray=\"2, 4\" points=\"309.067,47.2441 385.381,47.2441 461.695,47.2441 538.009,47.2441 614.323,47.2441 690.637,47.2441 766.951,47.2441 843.265,47.2441 919.579,47.2441 995.893,47.2441 1072.21,47.2441 1148.52,47.2441 1224.83,47.2441 1301.15,47.2441 1377.46,47.2441 1453.78,47.2441 1530.09,47.2441 1606.4,47.2441 1682.72,47.2441 1759.03,47.2441 1835.35,47.2441 1911.66,47.2441 1987.97,47.2441 2064.29,47.2441 2140.6,47.2441 2216.92,47.2441 2293.23,47.2441 \"/>\n",
       "<circle clip-path=\"url(#clip003)\" cx=\"309.067\" cy=\"47.2443\" r=\"10.8\" fill=\"#000000\" fill-rule=\"evenodd\" fill-opacity=\"1\" stroke=\"none\"/>\n",
       "<circle clip-path=\"url(#clip003)\" cx=\"385.381\" cy=\"47.2442\" r=\"10.8\" fill=\"#000000\" fill-rule=\"evenodd\" fill-opacity=\"1\" stroke=\"none\"/>\n",
       "<circle clip-path=\"url(#clip003)\" cx=\"461.695\" cy=\"47.2442\" r=\"10.8\" fill=\"#000000\" fill-rule=\"evenodd\" fill-opacity=\"1\" stroke=\"none\"/>\n",
       "<circle clip-path=\"url(#clip003)\" cx=\"538.009\" cy=\"47.2443\" r=\"10.8\" fill=\"#000000\" fill-rule=\"evenodd\" fill-opacity=\"1\" stroke=\"none\"/>\n",
       "<circle clip-path=\"url(#clip003)\" cx=\"614.323\" cy=\"47.2444\" r=\"10.8\" fill=\"#000000\" fill-rule=\"evenodd\" fill-opacity=\"1\" stroke=\"none\"/>\n",
       "<circle clip-path=\"url(#clip003)\" cx=\"690.637\" cy=\"48.9309\" r=\"10.8\" fill=\"#000000\" fill-rule=\"evenodd\" fill-opacity=\"1\" stroke=\"none\"/>\n",
       "<circle clip-path=\"url(#clip003)\" cx=\"766.951\" cy=\"269.782\" r=\"10.8\" fill=\"#000000\" fill-rule=\"evenodd\" fill-opacity=\"1\" stroke=\"none\"/>\n",
       "<circle clip-path=\"url(#clip003)\" cx=\"843.265\" cy=\"47.2458\" r=\"10.8\" fill=\"#000000\" fill-rule=\"evenodd\" fill-opacity=\"1\" stroke=\"none\"/>\n",
       "<circle clip-path=\"url(#clip003)\" cx=\"919.579\" cy=\"47.2466\" r=\"10.8\" fill=\"#000000\" fill-rule=\"evenodd\" fill-opacity=\"1\" stroke=\"none\"/>\n",
       "<circle clip-path=\"url(#clip003)\" cx=\"995.893\" cy=\"71.5032\" r=\"10.8\" fill=\"#000000\" fill-rule=\"evenodd\" fill-opacity=\"1\" stroke=\"none\"/>\n",
       "<circle clip-path=\"url(#clip003)\" cx=\"1072.21\" cy=\"160.866\" r=\"10.8\" fill=\"#000000\" fill-rule=\"evenodd\" fill-opacity=\"1\" stroke=\"none\"/>\n",
       "<circle clip-path=\"url(#clip003)\" cx=\"1148.52\" cy=\"47.2676\" r=\"10.8\" fill=\"#000000\" fill-rule=\"evenodd\" fill-opacity=\"1\" stroke=\"none\"/>\n",
       "<circle clip-path=\"url(#clip003)\" cx=\"1224.83\" cy=\"67.0359\" r=\"10.8\" fill=\"#000000\" fill-rule=\"evenodd\" fill-opacity=\"1\" stroke=\"none\"/>\n",
       "<circle clip-path=\"url(#clip003)\" cx=\"1301.15\" cy=\"153.72\" r=\"10.8\" fill=\"#000000\" fill-rule=\"evenodd\" fill-opacity=\"1\" stroke=\"none\"/>\n",
       "<circle clip-path=\"url(#clip003)\" cx=\"1377.46\" cy=\"47.305\" r=\"10.8\" fill=\"#000000\" fill-rule=\"evenodd\" fill-opacity=\"1\" stroke=\"none\"/>\n",
       "<circle clip-path=\"url(#clip003)\" cx=\"1453.78\" cy=\"77.0342\" r=\"10.8\" fill=\"#000000\" fill-rule=\"evenodd\" fill-opacity=\"1\" stroke=\"none\"/>\n",
       "<circle clip-path=\"url(#clip003)\" cx=\"1530.09\" cy=\"123.087\" r=\"10.8\" fill=\"#000000\" fill-rule=\"evenodd\" fill-opacity=\"1\" stroke=\"none\"/>\n",
       "<circle clip-path=\"url(#clip003)\" cx=\"1606.4\" cy=\"52.1166\" r=\"10.8\" fill=\"#000000\" fill-rule=\"evenodd\" fill-opacity=\"1\" stroke=\"none\"/>\n",
       "<circle clip-path=\"url(#clip003)\" cx=\"1682.72\" cy=\"145.532\" r=\"10.8\" fill=\"#000000\" fill-rule=\"evenodd\" fill-opacity=\"1\" stroke=\"none\"/>\n",
       "<circle clip-path=\"url(#clip003)\" cx=\"1759.03\" cy=\"82.1069\" r=\"10.8\" fill=\"#000000\" fill-rule=\"evenodd\" fill-opacity=\"1\" stroke=\"none\"/>\n",
       "<circle clip-path=\"url(#clip003)\" cx=\"1835.35\" cy=\"47.4169\" r=\"10.8\" fill=\"#000000\" fill-rule=\"evenodd\" fill-opacity=\"1\" stroke=\"none\"/>\n",
       "<circle clip-path=\"url(#clip003)\" cx=\"1911.66\" cy=\"47.3595\" r=\"10.8\" fill=\"#000000\" fill-rule=\"evenodd\" fill-opacity=\"1\" stroke=\"none\"/>\n",
       "<circle clip-path=\"url(#clip003)\" cx=\"1987.97\" cy=\"47.716\" r=\"10.8\" fill=\"#000000\" fill-rule=\"evenodd\" fill-opacity=\"1\" stroke=\"none\"/>\n",
       "<circle clip-path=\"url(#clip003)\" cx=\"2064.29\" cy=\"396.761\" r=\"10.8\" fill=\"#000000\" fill-rule=\"evenodd\" fill-opacity=\"1\" stroke=\"none\"/>\n",
       "<circle clip-path=\"url(#clip003)\" cx=\"2140.6\" cy=\"49.4371\" r=\"10.8\" fill=\"#000000\" fill-rule=\"evenodd\" fill-opacity=\"1\" stroke=\"none\"/>\n",
       "<circle clip-path=\"url(#clip003)\" cx=\"2216.92\" cy=\"225.818\" r=\"10.8\" fill=\"#000000\" fill-rule=\"evenodd\" fill-opacity=\"1\" stroke=\"none\"/>\n",
       "<circle clip-path=\"url(#clip003)\" cx=\"2293.23\" cy=\"334.134\" r=\"10.8\" fill=\"#000000\" fill-rule=\"evenodd\" fill-opacity=\"1\" stroke=\"none\"/>\n",
       "<polyline clip-path=\"url(#clip003)\" style=\"stroke:#000000; stroke-linecap:round; stroke-linejoin:round; stroke-width:12; stroke-opacity:1; fill:none\" points=\"309.067,47.2443 309.067,47.2442 385.381,47.2442 385.381,47.2442 461.695,47.2442 461.695,47.2443 538.009,47.2443 538.009,47.2444 614.323,47.2444 614.323,48.9309 690.637,48.9309 690.637,269.782 766.951,269.782 766.951,47.2458 843.265,47.2458 843.265,47.2466 919.579,47.2466 919.579,71.5032 995.893,71.5032 995.893,160.866 1072.21,160.866 1072.21,47.2676 1148.52,47.2676 1148.52,67.0359 1224.83,67.0359 1224.83,153.72 1301.15,153.72 1301.15,47.305 1377.46,47.305 1377.46,77.0342 1453.78,77.0342 1453.78,123.087 1530.09,123.087 1530.09,52.1166 1606.4,52.1166 1606.4,145.532 1682.72,145.532 1682.72,82.1069 1759.03,82.1069 1759.03,47.4169 1835.35,47.4169 1835.35,47.3595 1911.66,47.3595 1911.66,47.716 1987.97,47.716 1987.97,396.761 2064.29,396.761 2064.29,49.4371 2140.6,49.4371 2140.6,225.818 2216.92,225.818 2216.92,334.134 2293.23,334.134 \"/>\n",
       "<path clip-path=\"url(#clip003)\" d=\"M297.067 35.26 L297.067 59.26 L321.067 59.26 L321.067 35.26 L297.067 35.26 Z\" fill=\"#000000\" fill-rule=\"evenodd\" fill-opacity=\"1\" stroke=\"none\"/>\n",
       "<path clip-path=\"url(#clip003)\" d=\"M373.381 35.3017 L373.381 59.3017 L397.381 59.3017 L397.381 35.3017 L373.381 35.3017 Z\" fill=\"#000000\" fill-rule=\"evenodd\" fill-opacity=\"1\" stroke=\"none\"/>\n",
       "<path clip-path=\"url(#clip003)\" d=\"M449.695 35.2828 L449.695 59.2828 L473.695 59.2828 L473.695 35.2828 L449.695 35.2828 Z\" fill=\"#000000\" fill-rule=\"evenodd\" fill-opacity=\"1\" stroke=\"none\"/>\n",
       "<path clip-path=\"url(#clip003)\" d=\"M526.009 35.2905 L526.009 59.2905 L550.009 59.2905 L550.009 35.2905 L526.009 35.2905 Z\" fill=\"#000000\" fill-rule=\"evenodd\" fill-opacity=\"1\" stroke=\"none\"/>\n",
       "<path clip-path=\"url(#clip003)\" d=\"M602.323 35.2444 L602.323 59.2444 L626.323 59.2444 L626.323 35.2444 L602.323 35.2444 Z\" fill=\"#000000\" fill-rule=\"evenodd\" fill-opacity=\"1\" stroke=\"none\"/>\n",
       "<path clip-path=\"url(#clip003)\" d=\"M678.637 36.7264 L678.637 60.7264 L702.637 60.7264 L702.637 36.7264 L678.637 36.7264 Z\" fill=\"#000000\" fill-rule=\"evenodd\" fill-opacity=\"1\" stroke=\"none\"/>\n",
       "<path clip-path=\"url(#clip003)\" d=\"M754.951 257.961 L754.951 281.961 L778.951 281.961 L778.951 257.961 L754.951 257.961 Z\" fill=\"#000000\" fill-rule=\"evenodd\" fill-opacity=\"1\" stroke=\"none\"/>\n",
       "<path clip-path=\"url(#clip003)\" d=\"M831.265 35.2458 L831.265 59.2458 L855.265 59.2458 L855.265 35.2458 L831.265 35.2458 Z\" fill=\"#000000\" fill-rule=\"evenodd\" fill-opacity=\"1\" stroke=\"none\"/>\n",
       "<path clip-path=\"url(#clip003)\" d=\"M907.579 35.2466 L907.579 59.2466 L931.579 59.2466 L931.579 35.2466 L907.579 35.2466 Z\" fill=\"#000000\" fill-rule=\"evenodd\" fill-opacity=\"1\" stroke=\"none\"/>\n",
       "<path clip-path=\"url(#clip003)\" d=\"M983.893 59.3977 L983.893 83.3977 L1007.89 83.3977 L1007.89 59.3977 L983.893 59.3977 Z\" fill=\"#000000\" fill-rule=\"evenodd\" fill-opacity=\"1\" stroke=\"none\"/>\n",
       "<path clip-path=\"url(#clip003)\" d=\"M1060.21 148.97 L1060.21 172.97 L1084.21 172.97 L1084.21 148.97 L1060.21 148.97 Z\" fill=\"#000000\" fill-rule=\"evenodd\" fill-opacity=\"1\" stroke=\"none\"/>\n",
       "<path clip-path=\"url(#clip003)\" d=\"M1136.52 35.2676 L1136.52 59.2676 L1160.52 59.2676 L1160.52 35.2676 L1136.52 35.2676 Z\" fill=\"#000000\" fill-rule=\"evenodd\" fill-opacity=\"1\" stroke=\"none\"/>\n",
       "<path clip-path=\"url(#clip003)\" d=\"M1212.83 54.945 L1212.83 78.945 L1236.83 78.945 L1236.83 54.945 L1212.83 54.945 Z\" fill=\"#000000\" fill-rule=\"evenodd\" fill-opacity=\"1\" stroke=\"none\"/>\n",
       "<path clip-path=\"url(#clip003)\" d=\"M1289.15 141.815 L1289.15 165.815 L1313.15 165.815 L1313.15 141.815 L1289.15 141.815 Z\" fill=\"#000000\" fill-rule=\"evenodd\" fill-opacity=\"1\" stroke=\"none\"/>\n",
       "<path clip-path=\"url(#clip003)\" d=\"M1365.46 35.3044 L1365.46 59.3044 L1389.46 59.3044 L1389.46 35.3044 L1365.46 35.3044 Z\" fill=\"#000000\" fill-rule=\"evenodd\" fill-opacity=\"1\" stroke=\"none\"/>\n",
       "<path clip-path=\"url(#clip003)\" d=\"M1441.78 64.8891 L1441.78 88.8891 L1465.78 88.8891 L1465.78 64.8891 L1441.78 64.8891 Z\" fill=\"#000000\" fill-rule=\"evenodd\" fill-opacity=\"1\" stroke=\"none\"/>\n",
       "<path clip-path=\"url(#clip003)\" d=\"M1518.09 111.406 L1518.09 135.406 L1542.09 135.406 L1542.09 111.406 L1518.09 111.406 Z\" fill=\"#000000\" fill-rule=\"evenodd\" fill-opacity=\"1\" stroke=\"none\"/>\n",
       "<path clip-path=\"url(#clip003)\" d=\"M1594.4 39.6062 L1594.4 63.6062 L1618.4 63.6062 L1618.4 39.6062 L1594.4 39.6062 Z\" fill=\"#000000\" fill-rule=\"evenodd\" fill-opacity=\"1\" stroke=\"none\"/>\n",
       "<path clip-path=\"url(#clip003)\" d=\"M1670.72 134.067 L1670.72 158.067 L1694.72 158.067 L1694.72 134.067 L1670.72 134.067 Z\" fill=\"#000000\" fill-rule=\"evenodd\" fill-opacity=\"1\" stroke=\"none\"/>\n",
       "<path clip-path=\"url(#clip003)\" d=\"M1747.03 69.8554 L1747.03 93.8554 L1771.03 93.8554 L1771.03 69.8554 L1747.03 69.8554 Z\" fill=\"#000000\" fill-rule=\"evenodd\" fill-opacity=\"1\" stroke=\"none\"/>\n",
       "<path clip-path=\"url(#clip003)\" d=\"M1823.35 35.4169 L1823.35 59.4169 L1847.35 59.4169 L1847.35 35.4169 L1823.35 35.4169 Z\" fill=\"#000000\" fill-rule=\"evenodd\" fill-opacity=\"1\" stroke=\"none\"/>\n",
       "<path clip-path=\"url(#clip003)\" d=\"M1899.66 35.3594 L1899.66 59.3594 L1923.66 59.3594 L1923.66 35.3594 L1899.66 35.3594 Z\" fill=\"#000000\" fill-rule=\"evenodd\" fill-opacity=\"1\" stroke=\"none\"/>\n",
       "<path clip-path=\"url(#clip003)\" d=\"M1975.97 35.7135 L1975.97 59.7135 L1999.97 59.7135 L1999.97 35.7135 L1975.97 35.7135 Z\" fill=\"#000000\" fill-rule=\"evenodd\" fill-opacity=\"1\" stroke=\"none\"/>\n",
       "<path clip-path=\"url(#clip003)\" d=\"M2052.29 384.642 L2052.29 408.642 L2076.29 408.642 L2076.29 384.642 L2052.29 384.642 Z\" fill=\"#000000\" fill-rule=\"evenodd\" fill-opacity=\"1\" stroke=\"none\"/>\n",
       "<path clip-path=\"url(#clip003)\" d=\"M2128.6 37.4158 L2128.6 61.4158 L2152.6 61.4158 L2152.6 37.4158 L2128.6 37.4158 Z\" fill=\"#000000\" fill-rule=\"evenodd\" fill-opacity=\"1\" stroke=\"none\"/>\n",
       "<path clip-path=\"url(#clip003)\" d=\"M2204.92 216.835 L2204.92 240.835 L2228.92 240.835 L2228.92 216.835 L2204.92 216.835 Z\" fill=\"#000000\" fill-rule=\"evenodd\" fill-opacity=\"1\" stroke=\"none\"/>\n",
       "<path clip-path=\"url(#clip003)\" d=\"M2281.23 321.573 L2281.23 345.573 L2305.23 345.573 L2305.23 321.573 L2281.23 321.573 Z\" fill=\"#000000\" fill-rule=\"evenodd\" fill-opacity=\"1\" stroke=\"none\"/>\n",
       "<polyline clip-path=\"url(#clip003)\" style=\"stroke:#000000; stroke-linecap:round; stroke-linejoin:round; stroke-width:12; stroke-opacity:1; fill:none\" stroke-dasharray=\"48, 24, 6, 24\" points=\"309.067,47.26 309.067,47.3017 385.381,47.3017 385.381,47.2828 461.695,47.2828 461.695,47.2905 538.009,47.2905 538.009,47.2444 614.323,47.2444 614.323,48.7264 690.637,48.7264 690.637,269.961 766.951,269.961 766.951,47.2458 843.265,47.2458 843.265,47.2466 919.579,47.2466 919.579,71.3977 995.893,71.3977 995.893,160.97 1072.21,160.97 1072.21,47.2676 1148.52,47.2676 1148.52,66.945 1224.83,66.945 1224.83,153.815 1301.15,153.815 1301.15,47.3044 1377.46,47.3044 1377.46,76.8891 1453.78,76.8891 1453.78,123.406 1530.09,123.406 1530.09,51.6062 1606.4,51.6062 1606.4,146.067 1682.72,146.067 1682.72,81.8554 1759.03,81.8554 1759.03,47.4169 1835.35,47.4169 1835.35,47.3594 1911.66,47.3594 1911.66,47.7135 1987.97,47.7135 1987.97,396.642 2064.29,396.642 2064.29,49.4158 2140.6,49.4158 2140.6,228.835 2216.92,228.835 2216.92,333.573 2293.23,333.573 \"/>\n",
       "<path clip-path=\"url(#clip000)\" d=\"M319.649 386.977 L663.396 386.977 L663.396 179.617 L319.649 179.617  Z\" fill=\"#ffffff\" fill-rule=\"evenodd\" fill-opacity=\"1\"/>\n",
       "<polyline clip-path=\"url(#clip000)\" style=\"stroke:#000000; stroke-linecap:round; stroke-linejoin:round; stroke-width:4; stroke-opacity:1; fill:none\" points=\"319.649,386.977 663.396,386.977 663.396,179.617 319.649,179.617 319.649,386.977 \"/>\n",
       "<polyline clip-path=\"url(#clip000)\" style=\"stroke:#000000; stroke-linecap:round; stroke-linejoin:round; stroke-width:4; stroke-opacity:1; fill:none\" stroke-dasharray=\"2, 4\" points=\"343.018,231.457 483.232,231.457 \"/>\n",
       "<path clip-path=\"url(#clip000)\" d=\"M506.602 214.177 L511.277 214.177 L511.277 244.802 L528.106 244.802 L528.106 248.737 L506.602 248.737 L506.602 214.177 Z\" fill=\"#000000\" fill-rule=\"evenodd\" fill-opacity=\"1\" /><path clip-path=\"url(#clip000)\" d=\"M532.828 222.811 L537.087 222.811 L537.087 248.737 L532.828 248.737 L532.828 222.811 M532.828 212.719 L537.087 212.719 L537.087 218.112 L532.828 218.112 L532.828 212.719 Z\" fill=\"#000000\" fill-rule=\"evenodd\" fill-opacity=\"1\" /><path clip-path=\"url(#clip000)\" d=\"M566.185 227.788 Q567.782 224.918 570.004 223.552 Q572.226 222.186 575.235 222.186 Q579.286 222.186 581.485 225.033 Q583.684 227.857 583.684 233.089 L583.684 248.737 L579.402 248.737 L579.402 233.228 Q579.402 229.501 578.083 227.695 Q576.763 225.89 574.055 225.89 Q570.745 225.89 568.823 228.089 Q566.902 230.288 566.902 234.084 L566.902 248.737 L562.62 248.737 L562.62 233.228 Q562.62 229.478 561.3 227.695 Q559.981 225.89 557.226 225.89 Q553.962 225.89 552.041 228.112 Q550.12 230.311 550.12 234.084 L550.12 248.737 L545.837 248.737 L545.837 222.811 L550.12 222.811 L550.12 226.839 Q551.578 224.455 553.615 223.32 Q555.652 222.186 558.453 222.186 Q561.277 222.186 563.245 223.621 Q565.235 225.057 566.185 227.788 Z\" fill=\"#000000\" fill-rule=\"evenodd\" fill-opacity=\"1\" /><path clip-path=\"url(#clip000)\" d=\"M592.18 222.811 L596.439 222.811 L596.439 248.737 L592.18 248.737 L592.18 222.811 M592.18 212.719 L596.439 212.719 L596.439 218.112 L592.18 218.112 L592.18 212.719 Z\" fill=\"#000000\" fill-rule=\"evenodd\" fill-opacity=\"1\" /><path clip-path=\"url(#clip000)\" d=\"M609.564 215.45 L609.564 222.811 L618.337 222.811 L618.337 226.121 L609.564 226.121 L609.564 240.195 Q609.564 243.367 610.42 244.269 Q611.3 245.172 613.962 245.172 L618.337 245.172 L618.337 248.737 L613.962 248.737 Q609.032 248.737 607.157 246.908 Q605.282 245.056 605.282 240.195 L605.282 226.121 L602.157 226.121 L602.157 222.811 L605.282 222.811 L605.282 215.45 L609.564 215.45 Z\" fill=\"#000000\" fill-rule=\"evenodd\" fill-opacity=\"1\" /><polyline clip-path=\"url(#clip000)\" style=\"stroke:#000000; stroke-linecap:round; stroke-linejoin:round; stroke-width:12; stroke-opacity:1; fill:none\" points=\"343.018,283.297 483.232,283.297 \"/>\n",
       "<path clip-path=\"url(#clip000)\" d=\"M506.602 266.017 L513.569 266.017 L522.388 289.535 L531.254 266.017 L538.222 266.017 L538.222 300.577 L533.662 300.577 L533.662 270.23 L524.75 293.933 L520.051 293.933 L511.139 270.23 L511.139 300.577 L506.602 300.577 L506.602 266.017 Z\" fill=\"#000000\" fill-rule=\"evenodd\" fill-opacity=\"1\" /><path clip-path=\"url(#clip000)\" d=\"M557.365 277.637 Q553.939 277.637 551.948 280.322 Q549.958 282.984 549.958 287.637 Q549.958 292.29 551.925 294.975 Q553.916 297.637 557.365 297.637 Q560.768 297.637 562.759 294.952 Q564.749 292.267 564.749 287.637 Q564.749 283.031 562.759 280.346 Q560.768 277.637 557.365 277.637 M557.365 274.026 Q562.921 274.026 566.092 277.637 Q569.263 281.248 569.263 287.637 Q569.263 294.003 566.092 297.637 Q562.921 301.248 557.365 301.248 Q551.786 301.248 548.615 297.637 Q545.467 294.003 545.467 287.637 Q545.467 281.248 548.615 277.637 Q551.786 274.026 557.365 274.026 Z\" fill=\"#000000\" fill-rule=\"evenodd\" fill-opacity=\"1\" /><path clip-path=\"url(#clip000)\" d=\"M597.874 284.929 L597.874 300.577 L593.615 300.577 L593.615 285.068 Q593.615 281.387 592.18 279.559 Q590.745 277.73 587.874 277.73 Q584.425 277.73 582.434 279.929 Q580.444 282.128 580.444 285.924 L580.444 300.577 L576.161 300.577 L576.161 274.651 L580.444 274.651 L580.444 278.679 Q581.971 276.341 584.032 275.184 Q586.115 274.026 588.823 274.026 Q593.291 274.026 595.583 276.804 Q597.874 279.559 597.874 284.929 Z\" fill=\"#000000\" fill-rule=\"evenodd\" fill-opacity=\"1\" /><path clip-path=\"url(#clip000)\" d=\"M616.416 277.637 Q612.99 277.637 610.999 280.322 Q609.008 282.984 609.008 287.637 Q609.008 292.29 610.976 294.975 Q612.967 297.637 616.416 297.637 Q619.818 297.637 621.809 294.952 Q623.8 292.267 623.8 287.637 Q623.8 283.031 621.809 280.346 Q619.818 277.637 616.416 277.637 M616.416 274.026 Q621.971 274.026 625.143 277.637 Q628.314 281.248 628.314 287.637 Q628.314 294.003 625.143 297.637 Q621.971 301.248 616.416 301.248 Q610.837 301.248 607.666 297.637 Q604.518 294.003 604.518 287.637 Q604.518 281.248 607.666 277.637 Q610.837 274.026 616.416 274.026 Z\" fill=\"#000000\" fill-rule=\"evenodd\" fill-opacity=\"1\" /><path clip-path=\"url(#clip000)\" d=\"M635.142 294.697 L640.027 294.697 L640.027 300.577 L635.142 300.577 L635.142 294.697 Z\" fill=\"#000000\" fill-rule=\"evenodd\" fill-opacity=\"1\" /><polyline clip-path=\"url(#clip000)\" style=\"stroke:#000000; stroke-linecap:round; stroke-linejoin:round; stroke-width:12; stroke-opacity:1; fill:none\" stroke-dasharray=\"48, 24, 6, 24\" points=\"343.018,335.137 483.232,335.137 \"/>\n",
       "<path clip-path=\"url(#clip000)\" d=\"M511.277 321.7 L511.277 348.574 L516.926 348.574 Q524.078 348.574 527.388 345.334 Q530.722 342.093 530.722 335.102 Q530.722 328.158 527.388 324.94 Q524.078 321.7 516.926 321.7 L511.277 321.7 M506.602 317.857 L516.208 317.857 Q526.254 317.857 530.953 322.047 Q535.652 326.213 535.652 335.102 Q535.652 344.037 530.93 348.227 Q526.208 352.417 516.208 352.417 L506.602 352.417 L506.602 317.857 Z\" fill=\"#000000\" fill-rule=\"evenodd\" fill-opacity=\"1\" /><path clip-path=\"url(#clip000)\" d=\"M565.097 338.389 L565.097 340.473 L545.513 340.473 Q545.791 344.871 548.152 347.185 Q550.536 349.477 554.773 349.477 Q557.226 349.477 559.518 348.875 Q561.833 348.273 564.101 347.07 L564.101 351.098 Q561.81 352.07 559.402 352.579 Q556.995 353.088 554.518 353.088 Q548.314 353.088 544.68 349.477 Q541.069 345.866 541.069 339.709 Q541.069 333.343 544.495 329.616 Q547.944 325.866 553.777 325.866 Q559.009 325.866 562.041 329.246 Q565.097 332.602 565.097 338.389 M560.837 337.139 Q560.791 333.644 558.87 331.561 Q556.972 329.477 553.823 329.477 Q550.259 329.477 548.106 331.491 Q545.976 333.505 545.652 337.162 L560.837 337.139 Z\" fill=\"#000000\" fill-rule=\"evenodd\" fill-opacity=\"1\" /><path clip-path=\"url(#clip000)\" d=\"M590.745 327.487 L590.745 331.468 Q588.939 330.473 587.11 329.987 Q585.305 329.477 583.453 329.477 Q579.309 329.477 577.018 332.116 Q574.726 334.732 574.726 339.477 Q574.726 344.223 577.018 346.861 Q579.309 349.477 583.453 349.477 Q585.305 349.477 587.11 348.991 Q588.939 348.482 590.745 347.486 L590.745 351.422 Q588.962 352.255 587.041 352.672 Q585.143 353.088 582.99 353.088 Q577.134 353.088 573.684 349.408 Q570.235 345.727 570.235 339.477 Q570.235 333.135 573.708 329.5 Q577.203 325.866 583.268 325.866 Q585.235 325.866 587.11 326.283 Q588.985 326.676 590.745 327.487 Z\" fill=\"#000000\" fill-rule=\"evenodd\" fill-opacity=\"1\" /><path clip-path=\"url(#clip000)\" d=\"M608.198 329.477 Q604.772 329.477 602.782 332.162 Q600.791 334.824 600.791 339.477 Q600.791 344.13 602.758 346.815 Q604.749 349.477 608.198 349.477 Q611.601 349.477 613.592 346.792 Q615.582 344.107 615.582 339.477 Q615.582 334.871 613.592 332.186 Q611.601 329.477 608.198 329.477 M608.198 325.866 Q613.754 325.866 616.925 329.477 Q620.096 333.088 620.096 339.477 Q620.096 345.843 616.925 349.477 Q613.754 353.088 608.198 353.088 Q602.62 353.088 599.448 349.477 Q596.3 345.843 596.3 339.477 Q596.3 333.088 599.448 329.477 Q602.62 325.866 608.198 325.866 Z\" fill=\"#000000\" fill-rule=\"evenodd\" fill-opacity=\"1\" /><path clip-path=\"url(#clip000)\" d=\"M626.925 346.537 L631.809 346.537 L631.809 352.417 L626.925 352.417 L626.925 346.537 Z\" fill=\"#000000\" fill-rule=\"evenodd\" fill-opacity=\"1\" /><path clip-path=\"url(#clip000)\" d=\"M249.542 910.936 L2352.76 910.936 L2352.76 559.488 L249.542 559.488  Z\" fill=\"#ffffff\" fill-rule=\"evenodd\" fill-opacity=\"1\"/>\n",
       "<defs>\n",
       "  <clipPath id=\"clip004\">\n",
       "    <rect x=\"249\" y=\"559\" width=\"2104\" height=\"352\"/>\n",
       "  </clipPath>\n",
       "</defs>\n",
       "<polyline clip-path=\"url(#clip004)\" style=\"stroke:#000000; stroke-linecap:round; stroke-linejoin:round; stroke-width:8; stroke-opacity:0.1; fill:none\" points=\"614.323,910.936 614.323,559.488 \"/>\n",
       "<polyline clip-path=\"url(#clip004)\" style=\"stroke:#000000; stroke-linecap:round; stroke-linejoin:round; stroke-width:8; stroke-opacity:0.1; fill:none\" points=\"995.893,910.936 995.893,559.488 \"/>\n",
       "<polyline clip-path=\"url(#clip004)\" style=\"stroke:#000000; stroke-linecap:round; stroke-linejoin:round; stroke-width:8; stroke-opacity:0.1; fill:none\" points=\"1377.46,910.936 1377.46,559.488 \"/>\n",
       "<polyline clip-path=\"url(#clip004)\" style=\"stroke:#000000; stroke-linecap:round; stroke-linejoin:round; stroke-width:8; stroke-opacity:0.1; fill:none\" points=\"1759.03,910.936 1759.03,559.488 \"/>\n",
       "<polyline clip-path=\"url(#clip004)\" style=\"stroke:#000000; stroke-linecap:round; stroke-linejoin:round; stroke-width:8; stroke-opacity:0.1; fill:none\" points=\"2140.6,910.936 2140.6,559.488 \"/>\n",
       "<polyline clip-path=\"url(#clip000)\" style=\"stroke:#000000; stroke-linecap:round; stroke-linejoin:round; stroke-width:4; stroke-opacity:1; fill:none\" points=\"249.542,910.936 2352.76,910.936 \"/>\n",
       "<polyline clip-path=\"url(#clip000)\" style=\"stroke:#000000; stroke-linecap:round; stroke-linejoin:round; stroke-width:4; stroke-opacity:1; fill:none\" points=\"614.323,910.936 614.323,892.038 \"/>\n",
       "<polyline clip-path=\"url(#clip000)\" style=\"stroke:#000000; stroke-linecap:round; stroke-linejoin:round; stroke-width:4; stroke-opacity:1; fill:none\" points=\"995.893,910.936 995.893,892.038 \"/>\n",
       "<polyline clip-path=\"url(#clip000)\" style=\"stroke:#000000; stroke-linecap:round; stroke-linejoin:round; stroke-width:4; stroke-opacity:1; fill:none\" points=\"1377.46,910.936 1377.46,892.038 \"/>\n",
       "<polyline clip-path=\"url(#clip000)\" style=\"stroke:#000000; stroke-linecap:round; stroke-linejoin:round; stroke-width:4; stroke-opacity:1; fill:none\" points=\"1759.03,910.936 1759.03,892.038 \"/>\n",
       "<polyline clip-path=\"url(#clip000)\" style=\"stroke:#000000; stroke-linecap:round; stroke-linejoin:round; stroke-width:4; stroke-opacity:1; fill:none\" points=\"2140.6,910.936 2140.6,892.038 \"/>\n",
       "<path clip-path=\"url(#clip000)\" d=\"M604.601 938.776 L622.957 938.776 L622.957 942.711 L608.883 942.711 L608.883 951.183 Q609.902 950.836 610.92 950.674 Q611.939 950.489 612.957 950.489 Q618.744 950.489 622.124 953.66 Q625.503 956.831 625.503 962.248 Q625.503 967.827 622.031 970.928 Q618.559 974.007 612.24 974.007 Q610.064 974.007 607.795 973.637 Q605.55 973.266 603.142 972.526 L603.142 967.827 Q605.226 968.961 607.448 969.516 Q609.67 970.072 612.147 970.072 Q616.152 970.072 618.49 967.966 Q620.828 965.859 620.828 962.248 Q620.828 958.637 618.49 956.53 Q616.152 954.424 612.147 954.424 Q610.272 954.424 608.397 954.841 Q606.545 955.257 604.601 956.137 L604.601 938.776 Z\" fill=\"#000000\" fill-rule=\"evenodd\" fill-opacity=\"1\" /><path clip-path=\"url(#clip000)\" d=\"M970.581 969.401 L978.219 969.401 L978.219 943.035 L969.909 944.702 L969.909 940.443 L978.173 938.776 L982.849 938.776 L982.849 969.401 L990.488 969.401 L990.488 973.336 L970.581 973.336 L970.581 969.401 Z\" fill=\"#000000\" fill-rule=\"evenodd\" fill-opacity=\"1\" /><path clip-path=\"url(#clip000)\" d=\"M1009.93 941.855 Q1006.32 941.855 1004.49 945.419 Q1002.69 948.961 1002.69 956.091 Q1002.69 963.197 1004.49 966.762 Q1006.32 970.303 1009.93 970.303 Q1013.57 970.303 1015.37 966.762 Q1017.2 963.197 1017.2 956.091 Q1017.2 948.961 1015.37 945.419 Q1013.57 941.855 1009.93 941.855 M1009.93 938.151 Q1015.74 938.151 1018.8 942.757 Q1021.88 947.341 1021.88 956.091 Q1021.88 964.817 1018.8 969.424 Q1015.74 974.007 1009.93 974.007 Q1004.12 974.007 1001.04 969.424 Q997.988 964.817 997.988 956.091 Q997.988 947.341 1001.04 942.757 Q1004.12 938.151 1009.93 938.151 Z\" fill=\"#000000\" fill-rule=\"evenodd\" fill-opacity=\"1\" /><path clip-path=\"url(#clip000)\" d=\"M1352.65 969.401 L1360.29 969.401 L1360.29 943.035 L1351.98 944.702 L1351.98 940.443 L1360.24 938.776 L1364.92 938.776 L1364.92 969.401 L1372.56 969.401 L1372.56 973.336 L1352.65 973.336 L1352.65 969.401 Z\" fill=\"#000000\" fill-rule=\"evenodd\" fill-opacity=\"1\" /><path clip-path=\"url(#clip000)\" d=\"M1382.05 938.776 L1400.4 938.776 L1400.4 942.711 L1386.33 942.711 L1386.33 951.183 Q1387.35 950.836 1388.37 950.674 Q1389.38 950.489 1390.4 950.489 Q1396.19 950.489 1399.57 953.66 Q1402.95 956.831 1402.95 962.248 Q1402.95 967.827 1399.48 970.928 Q1396 974.007 1389.69 974.007 Q1387.51 974.007 1385.24 973.637 Q1383 973.266 1380.59 972.526 L1380.59 967.827 Q1382.67 968.961 1384.89 969.516 Q1387.12 970.072 1389.59 970.072 Q1393.6 970.072 1395.94 967.966 Q1398.27 965.859 1398.27 962.248 Q1398.27 958.637 1395.94 956.53 Q1393.6 954.424 1389.59 954.424 Q1387.72 954.424 1385.84 954.841 Q1383.99 955.257 1382.05 956.137 L1382.05 938.776 Z\" fill=\"#000000\" fill-rule=\"evenodd\" fill-opacity=\"1\" /><path clip-path=\"url(#clip000)\" d=\"M1737.81 969.401 L1754.13 969.401 L1754.13 973.336 L1732.18 973.336 L1732.18 969.401 Q1734.84 966.646 1739.43 962.016 Q1744.03 957.364 1745.21 956.021 Q1747.46 953.498 1748.34 951.762 Q1749.24 950.003 1749.24 948.313 Q1749.24 945.558 1747.3 943.822 Q1745.38 942.086 1742.27 942.086 Q1740.07 942.086 1737.62 942.85 Q1735.19 943.614 1732.41 945.165 L1732.41 940.443 Q1735.24 939.308 1737.69 938.73 Q1740.14 938.151 1742.18 938.151 Q1747.55 938.151 1750.75 940.836 Q1753.94 943.521 1753.94 948.012 Q1753.94 950.142 1753.13 952.063 Q1752.34 953.961 1750.24 956.554 Q1749.66 957.225 1746.56 960.442 Q1743.45 963.637 1737.81 969.401 Z\" fill=\"#000000\" fill-rule=\"evenodd\" fill-opacity=\"1\" /><path clip-path=\"url(#clip000)\" d=\"M1773.94 941.855 Q1770.33 941.855 1768.5 945.419 Q1766.69 948.961 1766.69 956.091 Q1766.69 963.197 1768.5 966.762 Q1770.33 970.303 1773.94 970.303 Q1777.57 970.303 1779.38 966.762 Q1781.21 963.197 1781.21 956.091 Q1781.21 948.961 1779.38 945.419 Q1777.57 941.855 1773.94 941.855 M1773.94 938.151 Q1779.75 938.151 1782.81 942.757 Q1785.88 947.341 1785.88 956.091 Q1785.88 964.817 1782.81 969.424 Q1779.75 974.007 1773.94 974.007 Q1768.13 974.007 1765.05 969.424 Q1762 964.817 1762 956.091 Q1762 947.341 1765.05 942.757 Q1768.13 938.151 1773.94 938.151 Z\" fill=\"#000000\" fill-rule=\"evenodd\" fill-opacity=\"1\" /><path clip-path=\"url(#clip000)\" d=\"M2119.87 969.401 L2136.19 969.401 L2136.19 973.336 L2114.25 973.336 L2114.25 969.401 Q2116.91 966.646 2121.49 962.016 Q2126.1 957.364 2127.28 956.021 Q2129.53 953.498 2130.41 951.762 Q2131.31 950.003 2131.31 948.313 Q2131.31 945.558 2129.36 943.822 Q2127.44 942.086 2124.34 942.086 Q2122.14 942.086 2119.69 942.85 Q2117.26 943.614 2114.48 945.165 L2114.48 940.443 Q2117.3 939.308 2119.76 938.73 Q2122.21 938.151 2124.25 938.151 Q2129.62 938.151 2132.81 940.836 Q2136.01 943.521 2136.01 948.012 Q2136.01 950.142 2135.2 952.063 Q2134.41 953.961 2132.3 956.554 Q2131.73 957.225 2128.62 960.442 Q2125.52 963.637 2119.87 969.401 Z\" fill=\"#000000\" fill-rule=\"evenodd\" fill-opacity=\"1\" /><path clip-path=\"url(#clip000)\" d=\"M2146.05 938.776 L2164.41 938.776 L2164.41 942.711 L2150.34 942.711 L2150.34 951.183 Q2151.36 950.836 2152.37 950.674 Q2153.39 950.489 2154.41 950.489 Q2160.2 950.489 2163.58 953.66 Q2166.96 956.831 2166.96 962.248 Q2166.96 967.827 2163.48 970.928 Q2160.01 974.007 2153.69 974.007 Q2151.52 974.007 2149.25 973.637 Q2147 973.266 2144.6 972.526 L2144.6 967.827 Q2146.68 968.961 2148.9 969.516 Q2151.12 970.072 2153.6 970.072 Q2157.61 970.072 2159.94 967.966 Q2162.28 965.859 2162.28 962.248 Q2162.28 958.637 2159.94 956.53 Q2157.61 954.424 2153.6 954.424 Q2151.73 954.424 2149.85 954.841 Q2148 955.257 2146.05 956.137 L2146.05 938.776 Z\" fill=\"#000000\" fill-rule=\"evenodd\" fill-opacity=\"1\" /><polyline clip-path=\"url(#clip004)\" style=\"stroke:#000000; stroke-linecap:round; stroke-linejoin:round; stroke-width:8; stroke-opacity:0.1; fill:none\" points=\"249.542,910.936 2352.76,910.936 \"/>\n",
       "<polyline clip-path=\"url(#clip004)\" style=\"stroke:#000000; stroke-linecap:round; stroke-linejoin:round; stroke-width:8; stroke-opacity:0.1; fill:none\" points=\"249.542,837.718 2352.76,837.718 \"/>\n",
       "<polyline clip-path=\"url(#clip004)\" style=\"stroke:#000000; stroke-linecap:round; stroke-linejoin:round; stroke-width:8; stroke-opacity:0.1; fill:none\" points=\"249.542,764.499 2352.76,764.499 \"/>\n",
       "<polyline clip-path=\"url(#clip004)\" style=\"stroke:#000000; stroke-linecap:round; stroke-linejoin:round; stroke-width:8; stroke-opacity:0.1; fill:none\" points=\"249.542,691.281 2352.76,691.281 \"/>\n",
       "<polyline clip-path=\"url(#clip004)\" style=\"stroke:#000000; stroke-linecap:round; stroke-linejoin:round; stroke-width:8; stroke-opacity:0.1; fill:none\" points=\"249.542,618.063 2352.76,618.063 \"/>\n",
       "<polyline clip-path=\"url(#clip000)\" style=\"stroke:#000000; stroke-linecap:round; stroke-linejoin:round; stroke-width:4; stroke-opacity:1; fill:none\" points=\"249.542,910.936 249.542,559.488 \"/>\n",
       "<polyline clip-path=\"url(#clip000)\" style=\"stroke:#000000; stroke-linecap:round; stroke-linejoin:round; stroke-width:4; stroke-opacity:1; fill:none\" points=\"249.542,910.936 268.44,910.936 \"/>\n",
       "<polyline clip-path=\"url(#clip000)\" style=\"stroke:#000000; stroke-linecap:round; stroke-linejoin:round; stroke-width:4; stroke-opacity:1; fill:none\" points=\"249.542,837.718 268.44,837.718 \"/>\n",
       "<polyline clip-path=\"url(#clip000)\" style=\"stroke:#000000; stroke-linecap:round; stroke-linejoin:round; stroke-width:4; stroke-opacity:1; fill:none\" points=\"249.542,764.499 268.44,764.499 \"/>\n",
       "<polyline clip-path=\"url(#clip000)\" style=\"stroke:#000000; stroke-linecap:round; stroke-linejoin:round; stroke-width:4; stroke-opacity:1; fill:none\" points=\"249.542,691.281 268.44,691.281 \"/>\n",
       "<polyline clip-path=\"url(#clip000)\" style=\"stroke:#000000; stroke-linecap:round; stroke-linejoin:round; stroke-width:4; stroke-opacity:1; fill:none\" points=\"249.542,618.063 268.44,618.063 \"/>\n",
       "<path clip-path=\"url(#clip000)\" d=\"M126.205 896.735 Q122.593 896.735 120.765 900.299 Q118.959 903.841 118.959 910.971 Q118.959 918.077 120.765 921.642 Q122.593 925.183 126.205 925.183 Q129.839 925.183 131.644 921.642 Q133.473 918.077 133.473 910.971 Q133.473 903.841 131.644 900.299 Q129.839 896.735 126.205 896.735 M126.205 893.031 Q132.015 893.031 135.07 897.637 Q138.149 902.221 138.149 910.971 Q138.149 919.697 135.07 924.304 Q132.015 928.887 126.205 928.887 Q120.394 928.887 117.316 924.304 Q114.26 919.697 114.26 910.971 Q114.26 902.221 117.316 897.637 Q120.394 893.031 126.205 893.031 Z\" fill=\"#000000\" fill-rule=\"evenodd\" fill-opacity=\"1\" /><path clip-path=\"url(#clip000)\" d=\"M146.366 922.336 L151.251 922.336 L151.251 928.216 L146.366 928.216 L146.366 922.336 Z\" fill=\"#000000\" fill-rule=\"evenodd\" fill-opacity=\"1\" /><path clip-path=\"url(#clip000)\" d=\"M171.436 896.735 Q167.825 896.735 165.996 900.299 Q164.19 903.841 164.19 910.971 Q164.19 918.077 165.996 921.642 Q167.825 925.183 171.436 925.183 Q175.07 925.183 176.876 921.642 Q178.704 918.077 178.704 910.971 Q178.704 903.841 176.876 900.299 Q175.07 896.735 171.436 896.735 M171.436 893.031 Q177.246 893.031 180.301 897.637 Q183.38 902.221 183.38 910.971 Q183.38 919.697 180.301 924.304 Q177.246 928.887 171.436 928.887 Q165.626 928.887 162.547 924.304 Q159.491 919.697 159.491 910.971 Q159.491 902.221 162.547 897.637 Q165.626 893.031 171.436 893.031 Z\" fill=\"#000000\" fill-rule=\"evenodd\" fill-opacity=\"1\" /><path clip-path=\"url(#clip000)\" d=\"M201.598 896.735 Q197.987 896.735 196.158 900.299 Q194.352 903.841 194.352 910.971 Q194.352 918.077 196.158 921.642 Q197.987 925.183 201.598 925.183 Q205.232 925.183 207.037 921.642 Q208.866 918.077 208.866 910.971 Q208.866 903.841 207.037 900.299 Q205.232 896.735 201.598 896.735 M201.598 893.031 Q207.408 893.031 210.463 897.637 Q213.542 902.221 213.542 910.971 Q213.542 919.697 210.463 924.304 Q207.408 928.887 201.598 928.887 Q195.787 928.887 192.709 924.304 Q189.653 919.697 189.653 910.971 Q189.653 902.221 192.709 897.637 Q195.787 893.031 201.598 893.031 Z\" fill=\"#000000\" fill-rule=\"evenodd\" fill-opacity=\"1\" /><path clip-path=\"url(#clip000)\" d=\"M127.2 823.516 Q123.589 823.516 121.76 827.081 Q119.955 830.623 119.955 837.752 Q119.955 844.859 121.76 848.424 Q123.589 851.965 127.2 851.965 Q130.834 851.965 132.64 848.424 Q134.468 844.859 134.468 837.752 Q134.468 830.623 132.64 827.081 Q130.834 823.516 127.2 823.516 M127.2 819.813 Q133.01 819.813 136.066 824.419 Q139.144 829.002 139.144 837.752 Q139.144 846.479 136.066 851.086 Q133.01 855.669 127.2 855.669 Q121.39 855.669 118.311 851.086 Q115.256 846.479 115.256 837.752 Q115.256 829.002 118.311 824.419 Q121.39 819.813 127.2 819.813 Z\" fill=\"#000000\" fill-rule=\"evenodd\" fill-opacity=\"1\" /><path clip-path=\"url(#clip000)\" d=\"M147.362 849.118 L152.246 849.118 L152.246 854.998 L147.362 854.998 L147.362 849.118 Z\" fill=\"#000000\" fill-rule=\"evenodd\" fill-opacity=\"1\" /><path clip-path=\"url(#clip000)\" d=\"M166.459 851.062 L182.778 851.062 L182.778 854.998 L160.834 854.998 L160.834 851.062 Q163.496 848.308 168.079 843.678 Q172.686 839.025 173.866 837.683 Q176.112 835.16 176.991 833.424 Q177.894 831.664 177.894 829.975 Q177.894 827.22 175.95 825.484 Q174.028 823.748 170.927 823.748 Q168.727 823.748 166.274 824.512 Q163.843 825.276 161.065 826.826 L161.065 822.104 Q163.89 820.97 166.343 820.391 Q168.797 819.813 170.834 819.813 Q176.204 819.813 179.399 822.498 Q182.593 825.183 182.593 829.674 Q182.593 831.803 181.783 833.725 Q180.996 835.623 178.889 838.215 Q178.311 838.887 175.209 842.104 Q172.107 845.299 166.459 851.062 Z\" fill=\"#000000\" fill-rule=\"evenodd\" fill-opacity=\"1\" /><path clip-path=\"url(#clip000)\" d=\"M192.639 820.438 L210.996 820.438 L210.996 824.373 L196.922 824.373 L196.922 832.845 Q197.94 832.498 198.959 832.336 Q199.977 832.15 200.996 832.15 Q206.783 832.15 210.162 835.322 Q213.542 838.493 213.542 843.91 Q213.542 849.488 210.07 852.59 Q206.598 855.669 200.278 855.669 Q198.102 855.669 195.834 855.298 Q193.588 854.928 191.181 854.187 L191.181 849.488 Q193.264 850.623 195.487 851.178 Q197.709 851.734 200.186 851.734 Q204.19 851.734 206.528 849.627 Q208.866 847.521 208.866 843.91 Q208.866 840.299 206.528 838.192 Q204.19 836.086 200.186 836.086 Q198.311 836.086 196.436 836.502 Q194.584 836.919 192.639 837.799 L192.639 820.438 Z\" fill=\"#000000\" fill-rule=\"evenodd\" fill-opacity=\"1\" /><path clip-path=\"url(#clip000)\" d=\"M126.205 750.298 Q122.593 750.298 120.765 753.863 Q118.959 757.404 118.959 764.534 Q118.959 771.64 120.765 775.205 Q122.593 778.747 126.205 778.747 Q129.839 778.747 131.644 775.205 Q133.473 771.64 133.473 764.534 Q133.473 757.404 131.644 753.863 Q129.839 750.298 126.205 750.298 M126.205 746.594 Q132.015 746.594 135.07 751.201 Q138.149 755.784 138.149 764.534 Q138.149 773.261 135.07 777.867 Q132.015 782.451 126.205 782.451 Q120.394 782.451 117.316 777.867 Q114.26 773.261 114.26 764.534 Q114.26 755.784 117.316 751.201 Q120.394 746.594 126.205 746.594 Z\" fill=\"#000000\" fill-rule=\"evenodd\" fill-opacity=\"1\" /><path clip-path=\"url(#clip000)\" d=\"M146.366 775.9 L151.251 775.9 L151.251 781.779 L146.366 781.779 L146.366 775.9 Z\" fill=\"#000000\" fill-rule=\"evenodd\" fill-opacity=\"1\" /><path clip-path=\"url(#clip000)\" d=\"M161.482 747.219 L179.839 747.219 L179.839 751.154 L165.765 751.154 L165.765 759.627 Q166.783 759.279 167.802 759.117 Q168.82 758.932 169.839 758.932 Q175.626 758.932 179.005 762.103 Q182.385 765.275 182.385 770.691 Q182.385 776.27 178.913 779.372 Q175.44 782.451 169.121 782.451 Q166.945 782.451 164.677 782.08 Q162.431 781.71 160.024 780.969 L160.024 776.27 Q162.107 777.404 164.329 777.96 Q166.552 778.515 169.028 778.515 Q173.033 778.515 175.371 776.409 Q177.709 774.302 177.709 770.691 Q177.709 767.08 175.371 764.974 Q173.033 762.867 169.028 762.867 Q167.153 762.867 165.278 763.284 Q163.427 763.701 161.482 764.58 L161.482 747.219 Z\" fill=\"#000000\" fill-rule=\"evenodd\" fill-opacity=\"1\" /><path clip-path=\"url(#clip000)\" d=\"M201.598 750.298 Q197.987 750.298 196.158 753.863 Q194.352 757.404 194.352 764.534 Q194.352 771.64 196.158 775.205 Q197.987 778.747 201.598 778.747 Q205.232 778.747 207.037 775.205 Q208.866 771.64 208.866 764.534 Q208.866 757.404 207.037 753.863 Q205.232 750.298 201.598 750.298 M201.598 746.594 Q207.408 746.594 210.463 751.201 Q213.542 755.784 213.542 764.534 Q213.542 773.261 210.463 777.867 Q207.408 782.451 201.598 782.451 Q195.787 782.451 192.709 777.867 Q189.653 773.261 189.653 764.534 Q189.653 755.784 192.709 751.201 Q195.787 746.594 201.598 746.594 Z\" fill=\"#000000\" fill-rule=\"evenodd\" fill-opacity=\"1\" /><path clip-path=\"url(#clip000)\" d=\"M127.2 677.08 Q123.589 677.08 121.76 680.644 Q119.955 684.186 119.955 691.316 Q119.955 698.422 121.76 701.987 Q123.589 705.529 127.2 705.529 Q130.834 705.529 132.64 701.987 Q134.468 698.422 134.468 691.316 Q134.468 684.186 132.64 680.644 Q130.834 677.08 127.2 677.08 M127.2 673.376 Q133.01 673.376 136.066 677.982 Q139.144 682.566 139.144 691.316 Q139.144 700.043 136.066 704.649 Q133.01 709.232 127.2 709.232 Q121.39 709.232 118.311 704.649 Q115.256 700.043 115.256 691.316 Q115.256 682.566 118.311 677.982 Q121.39 673.376 127.2 673.376 Z\" fill=\"#000000\" fill-rule=\"evenodd\" fill-opacity=\"1\" /><path clip-path=\"url(#clip000)\" d=\"M147.362 702.681 L152.246 702.681 L152.246 708.561 L147.362 708.561 L147.362 702.681 Z\" fill=\"#000000\" fill-rule=\"evenodd\" fill-opacity=\"1\" /><path clip-path=\"url(#clip000)\" d=\"M161.251 674.001 L183.473 674.001 L183.473 675.992 L170.927 708.561 L166.042 708.561 L177.848 677.936 L161.251 677.936 L161.251 674.001 Z\" fill=\"#000000\" fill-rule=\"evenodd\" fill-opacity=\"1\" /><path clip-path=\"url(#clip000)\" d=\"M192.639 674.001 L210.996 674.001 L210.996 677.936 L196.922 677.936 L196.922 686.408 Q197.94 686.061 198.959 685.899 Q199.977 685.714 200.996 685.714 Q206.783 685.714 210.162 688.885 Q213.542 692.056 213.542 697.473 Q213.542 703.052 210.07 706.154 Q206.598 709.232 200.278 709.232 Q198.102 709.232 195.834 708.862 Q193.588 708.492 191.181 707.751 L191.181 703.052 Q193.264 704.186 195.487 704.742 Q197.709 705.297 200.186 705.297 Q204.19 705.297 206.528 703.191 Q208.866 701.084 208.866 697.473 Q208.866 693.862 206.528 691.756 Q204.19 689.649 200.186 689.649 Q198.311 689.649 196.436 690.066 Q194.584 690.482 192.639 691.362 L192.639 674.001 Z\" fill=\"#000000\" fill-rule=\"evenodd\" fill-opacity=\"1\" /><path clip-path=\"url(#clip000)\" d=\"M117.015 631.408 L124.654 631.408 L124.654 605.042 L116.343 606.709 L116.343 602.449 L124.607 600.783 L129.283 600.783 L129.283 631.408 L136.922 631.408 L136.922 635.343 L117.015 635.343 L117.015 631.408 Z\" fill=\"#000000\" fill-rule=\"evenodd\" fill-opacity=\"1\" /><path clip-path=\"url(#clip000)\" d=\"M146.366 629.463 L151.251 629.463 L151.251 635.343 L146.366 635.343 L146.366 629.463 Z\" fill=\"#000000\" fill-rule=\"evenodd\" fill-opacity=\"1\" /><path clip-path=\"url(#clip000)\" d=\"M171.436 603.861 Q167.825 603.861 165.996 607.426 Q164.19 610.968 164.19 618.097 Q164.19 625.204 165.996 628.769 Q167.825 632.31 171.436 632.31 Q175.07 632.31 176.876 628.769 Q178.704 625.204 178.704 618.097 Q178.704 610.968 176.876 607.426 Q175.07 603.861 171.436 603.861 M171.436 600.158 Q177.246 600.158 180.301 604.764 Q183.38 609.347 183.38 618.097 Q183.38 626.824 180.301 631.431 Q177.246 636.014 171.436 636.014 Q165.626 636.014 162.547 631.431 Q159.491 626.824 159.491 618.097 Q159.491 609.347 162.547 604.764 Q165.626 600.158 171.436 600.158 Z\" fill=\"#000000\" fill-rule=\"evenodd\" fill-opacity=\"1\" /><path clip-path=\"url(#clip000)\" d=\"M201.598 603.861 Q197.987 603.861 196.158 607.426 Q194.352 610.968 194.352 618.097 Q194.352 625.204 196.158 628.769 Q197.987 632.31 201.598 632.31 Q205.232 632.31 207.037 628.769 Q208.866 625.204 208.866 618.097 Q208.866 610.968 207.037 607.426 Q205.232 603.861 201.598 603.861 M201.598 600.158 Q207.408 600.158 210.463 604.764 Q213.542 609.347 213.542 618.097 Q213.542 626.824 210.463 631.431 Q207.408 636.014 201.598 636.014 Q195.787 636.014 192.709 631.431 Q189.653 626.824 189.653 618.097 Q189.653 609.347 192.709 604.764 Q195.787 600.158 201.598 600.158 Z\" fill=\"#000000\" fill-rule=\"evenodd\" fill-opacity=\"1\" /><path clip-path=\"url(#clip000)\" d=\"M41.1758 826.29 Q41.6267 826.29 42.6895 826.58 L67.8744 832.892 Q73.4783 834.277 77.4074 838.786 Q81.3365 843.262 81.3365 848.351 Q81.3365 851.41 79.694 853.375 Q78.0837 855.339 75.6039 855.339 Q73.4139 855.339 72.3511 854.18 Q71.3205 853.021 71.3205 851.636 Q71.3205 851.185 71.4493 850.702 Q71.5781 850.219 72.1256 849.703 Q72.6731 849.188 73.6071 849.188 Q75.1208 849.188 76.3124 850.508 Q76.8599 851.153 76.9887 851.764 Q77.1175 852.344 77.1175 853.343 Q78.0193 852.956 78.6312 852.248 Q79.2431 851.539 79.4686 850.734 Q79.7262 849.929 79.7906 849.413 Q79.8872 848.866 79.8872 848.351 Q79.8872 844.228 75.7327 841.072 Q74.4766 840.138 73.2206 839.462 Q71.9968 838.753 70.4831 838.238 Q69.0016 837.723 68.1965 837.497 Q67.3914 837.24 65.5556 836.789 Q68.5508 839.784 68.5508 843.455 Q68.5508 845.001 68.1321 846.386 Q67.7134 847.739 66.8439 848.93 Q65.9421 850.122 64.364 850.831 Q62.7859 851.507 60.6925 851.507 Q58.4703 851.507 55.443 850.637 Q52.4156 849.768 46.844 847.674 Q43.72 846.547 42.2064 846.547 Q41.4656 846.547 41.0148 846.708 Q40.5317 846.869 40.3706 847.191 Q40.1774 847.513 40.1452 847.707 Q40.113 847.868 40.113 848.19 Q40.113 850.09 42.0453 851.861 Q43.9777 853.632 48.2933 854.856 Q49.0984 855.114 49.2917 855.275 Q49.4849 855.436 49.4849 855.919 Q49.4527 856.724 48.8086 856.724 Q48.5509 856.724 47.5525 856.434 Q46.522 856.144 45.0083 855.468 Q43.4624 854.76 42.0775 853.793 Q40.6605 852.827 39.6621 851.314 Q38.6637 849.768 38.6637 847.996 Q38.6637 845.581 40.2418 844.099 Q41.7877 842.586 44.0743 842.586 Q45.0083 842.586 45.8456 842.843 Q46.6508 843.069 48.8086 843.906 Q57.5042 847.288 61.7553 847.288 Q62.7859 847.288 63.6555 847.127 Q64.4928 846.934 65.3302 846.515 Q66.1353 846.096 66.6184 845.259 Q67.0693 844.389 67.0693 843.198 Q67.0693 841.684 66.3608 840.267 Q65.62 838.818 64.6217 837.916 Q63.6233 836.982 62.7859 836.435 Q61.9164 835.855 61.4655 835.726 L49.6137 832.763 L44.332 831.443 Q41.4656 830.831 40.7571 830.541 Q40.0808 830.154 39.7265 829.478 Q39.3723 828.802 39.3723 828.222 Q39.3723 827.417 39.8553 826.869 Q40.3384 826.29 41.1758 826.29 Z\" fill=\"#000000\" fill-rule=\"evenodd\" fill-opacity=\"1\" /><path clip-path=\"url(#clip000)\" d=\"M15.5216 792.152 L25.6214 794.655 Q26.2301 794.79 26.3879 794.903 Q26.5457 795.016 26.5457 795.331 Q26.5457 795.579 26.433 795.737 Q26.3203 795.872 26.2076 795.872 L26.0948 795.895 Q26.0272 795.895 25.689 795.85 Q25.3283 795.805 24.7422 795.76 Q24.156 795.714 23.5023 795.714 Q19.805 795.714 18.0917 797.518 Q16.3558 799.299 16.3558 802.365 Q16.3558 804.484 17.483 806.378 Q18.6102 808.272 20.3912 809.354 Q22.1496 810.436 23.9982 810.436 Q25.689 810.436 26.7712 809.579 Q27.8533 808.722 28.214 807.618 L29.0481 804.529 Q29.8822 801.283 30.2429 800.359 Q30.5811 799.434 31.3476 798.668 Q33.4668 796.391 36.7582 796.391 Q39.5988 796.391 42.3491 797.991 Q45.077 799.592 46.858 802.342 Q48.6164 805.093 48.6164 808.136 Q48.6164 813.479 45.3024 815.937 L47.9175 818.191 Q48.4135 818.619 48.5037 818.755 Q48.6164 818.867 48.6164 819.025 Q48.6164 819.228 48.4811 819.386 Q48.3684 819.544 48.1655 819.544 Q48.0077 819.544 42.7098 818.213 Q37.412 816.883 37.2993 816.771 Q37.1189 816.59 37.1189 816.297 Q37.1189 815.756 37.6374 815.756 Q37.7727 815.801 37.953 815.846 Q39.5762 816.117 40.4554 816.117 Q42.1011 816.117 43.3636 815.553 Q44.6035 814.99 45.325 814.156 Q46.0238 813.299 46.4747 812.149 Q46.903 810.999 47.0608 810.03 Q47.1961 809.061 47.1961 808.046 Q47.1961 805.859 45.9336 803.921 Q44.6712 801.959 42.7098 800.855 Q40.7485 799.727 38.697 799.727 Q37.6149 799.727 36.7807 800.02 Q35.9241 800.313 35.4506 800.719 Q34.9772 801.102 34.6165 801.756 Q34.2558 802.41 34.1205 802.861 Q33.9627 803.289 33.8049 803.966 L32.4974 808.903 Q31.9112 810.887 30.2204 812.307 Q28.5296 813.705 25.937 813.705 Q23.2092 813.705 20.6842 812.104 Q18.1368 810.481 16.6038 807.843 Q15.0482 805.183 15.0482 802.32 Q15.0482 800.065 15.9274 798.33 Q16.7841 796.594 18.3848 795.714 L15.7471 793.483 Q15.2286 793.032 15.1384 792.942 Q15.0482 792.829 15.0482 792.671 Q15.0482 792.4 15.206 792.288 Q15.3638 792.152 15.5216 792.152 Z\" fill=\"#000000\" fill-rule=\"evenodd\" fill-opacity=\"1\" /><path clip-path=\"url(#clip000)\" d=\"M23.0288 756.528 Q25.5538 756.528 27.8758 758.4 Q30.1979 760.248 31.6181 763.269 Q33.0159 766.268 33.0159 769.491 L33.0159 777.337 L44.5585 780.2 Q44.6261 780.222 44.9192 780.29 Q45.1897 780.358 45.3475 780.358 Q45.9111 780.358 46.0464 779.659 Q46.1816 778.937 46.1816 777.337 Q46.1816 776.3 46.362 776.142 Q46.4747 776.052 46.6776 776.052 Q46.9932 776.052 47.2187 776.142 Q47.4216 776.232 47.4892 776.412 Q47.5568 776.57 47.5794 776.683 Q47.6019 776.796 47.6019 776.976 Q47.6019 777.449 47.5568 778.464 Q47.5117 779.456 47.5117 779.974 L47.4666 782.928 L47.6019 788.789 Q47.6019 789.488 47.0383 789.488 Q46.61 789.488 46.4296 789.308 Q46.2267 789.127 46.2042 788.924 Q46.1816 788.721 46.1816 788.203 Q46.1816 787.076 46.114 786.399 Q46.0464 785.723 45.9562 785.295 Q45.8435 784.844 45.5279 784.618 Q45.2122 784.37 44.9417 784.258 Q44.6486 784.145 43.9949 783.987 L19.1963 777.81 Q18.4524 777.63 18.3397 777.63 Q17.9564 777.63 17.8211 777.855 Q17.6633 778.058 17.5957 778.644 Q17.5055 779.771 17.5055 780.628 Q17.5055 781.192 17.483 781.417 Q17.4604 781.62 17.3477 781.8 Q17.2125 781.958 16.9419 781.958 Q16.5136 781.958 16.3332 781.778 Q16.1303 781.575 16.1078 781.35 Q16.0627 781.124 16.0627 780.583 L16.0627 765.614 Q16.0627 761.308 18.1142 758.918 Q20.1657 756.528 23.0288 756.528 M21.9242 760.812 Q17.5055 760.812 17.5055 767.102 L17.5055 771.52 Q17.5055 772.986 17.7761 773.346 Q18.024 773.707 19.264 774.023 L31.821 777.156 L31.821 770.641 Q31.821 766.268 29.3637 763.54 Q28.2365 762.3 25.8919 761.556 Q23.5473 760.812 21.9242 760.812 Z\" fill=\"#000000\" fill-rule=\"evenodd\" fill-opacity=\"1\" /><path clip-path=\"url(#clip000)\" d=\"M84.2994 700.815 L18.3418 700.815 L18.3418 690.863 L19.8555 690.863 L19.8555 696.402 L82.7858 696.402 L82.7858 690.863 L84.2994 690.863 L84.2994 700.815 Z\" fill=\"#000000\" fill-rule=\"evenodd\" fill-opacity=\"1\" /><path clip-path=\"url(#clip000)\" d=\"M50.3867 639.122 Q50.7731 638.735 51.3206 638.735 Q51.8681 638.735 52.2546 639.122 Q52.6411 639.508 52.6411 640.056 L52.6411 681.344 Q52.6411 681.891 52.2546 682.278 Q51.8681 682.664 51.3206 682.664 Q50.7731 682.664 50.3867 682.278 Q50.0002 681.891 50.0002 681.344 L50.0002 640.056 Q50.0002 639.508 50.3867 639.122 Z\" fill=\"#000000\" fill-rule=\"evenodd\" fill-opacity=\"1\" /><path clip-path=\"url(#clip000)\" d=\"M82.7858 631.85 L82.7858 626.311 L19.8555 626.311 L19.8555 631.85 L18.3418 631.85 L18.3418 621.898 L84.2994 621.898 L84.2994 631.85 L82.7858 631.85 Z\" fill=\"#000000\" fill-rule=\"evenodd\" fill-opacity=\"1\" /><polyline clip-path=\"url(#clip004)\" style=\"stroke:#000000; stroke-linecap:round; stroke-linejoin:round; stroke-width:4; stroke-opacity:1; fill:none\" stroke-dasharray=\"2, 4\" points=\"309.067,559.488 385.381,559.488 461.695,559.488 538.009,559.488 614.323,559.488 690.637,559.488 766.951,559.488 843.265,559.488 919.579,559.488 995.893,559.488 1072.21,559.488 1148.52,559.488 1224.83,559.488 1301.15,559.488 1377.46,559.488 1453.78,559.488 1530.09,559.488 1606.4,559.488 1682.72,559.488 1759.03,559.488 1835.35,559.488 1911.66,559.488 1987.97,559.488 2064.29,559.488 2140.6,559.488 2216.92,559.488 2293.23,559.488 \"/>\n",
       "<circle clip-path=\"url(#clip004)\" cx=\"309.067\" cy=\"559.488\" r=\"10.8\" fill=\"#000000\" fill-rule=\"evenodd\" fill-opacity=\"1\" stroke=\"none\"/>\n",
       "<circle clip-path=\"url(#clip004)\" cx=\"385.381\" cy=\"559.488\" r=\"10.8\" fill=\"#000000\" fill-rule=\"evenodd\" fill-opacity=\"1\" stroke=\"none\"/>\n",
       "<circle clip-path=\"url(#clip004)\" cx=\"461.695\" cy=\"559.488\" r=\"10.8\" fill=\"#000000\" fill-rule=\"evenodd\" fill-opacity=\"1\" stroke=\"none\"/>\n",
       "<circle clip-path=\"url(#clip004)\" cx=\"538.009\" cy=\"559.488\" r=\"10.8\" fill=\"#000000\" fill-rule=\"evenodd\" fill-opacity=\"1\" stroke=\"none\"/>\n",
       "<circle clip-path=\"url(#clip004)\" cx=\"614.323\" cy=\"559.489\" r=\"10.8\" fill=\"#000000\" fill-rule=\"evenodd\" fill-opacity=\"1\" stroke=\"none\"/>\n",
       "<circle clip-path=\"url(#clip004)\" cx=\"690.637\" cy=\"786.342\" r=\"10.8\" fill=\"#000000\" fill-rule=\"evenodd\" fill-opacity=\"1\" stroke=\"none\"/>\n",
       "<circle clip-path=\"url(#clip004)\" cx=\"766.951\" cy=\"559.49\" r=\"10.8\" fill=\"#000000\" fill-rule=\"evenodd\" fill-opacity=\"1\" stroke=\"none\"/>\n",
       "<circle clip-path=\"url(#clip004)\" cx=\"843.265\" cy=\"559.491\" r=\"10.8\" fill=\"#000000\" fill-rule=\"evenodd\" fill-opacity=\"1\" stroke=\"none\"/>\n",
       "<circle clip-path=\"url(#clip004)\" cx=\"919.579\" cy=\"596.448\" r=\"10.8\" fill=\"#000000\" fill-rule=\"evenodd\" fill-opacity=\"1\" stroke=\"none\"/>\n",
       "<circle clip-path=\"url(#clip004)\" cx=\"995.893\" cy=\"656.084\" r=\"10.8\" fill=\"#000000\" fill-rule=\"evenodd\" fill-opacity=\"1\" stroke=\"none\"/>\n",
       "<circle clip-path=\"url(#clip004)\" cx=\"1072.21\" cy=\"559.533\" r=\"10.8\" fill=\"#000000\" fill-rule=\"evenodd\" fill-opacity=\"1\" stroke=\"none\"/>\n",
       "<circle clip-path=\"url(#clip004)\" cx=\"1148.52\" cy=\"591.842\" r=\"10.8\" fill=\"#000000\" fill-rule=\"evenodd\" fill-opacity=\"1\" stroke=\"none\"/>\n",
       "<circle clip-path=\"url(#clip004)\" cx=\"1224.83\" cy=\"651.571\" r=\"10.8\" fill=\"#000000\" fill-rule=\"evenodd\" fill-opacity=\"1\" stroke=\"none\"/>\n",
       "<circle clip-path=\"url(#clip004)\" cx=\"1301.15\" cy=\"559.709\" r=\"10.8\" fill=\"#000000\" fill-rule=\"evenodd\" fill-opacity=\"1\" stroke=\"none\"/>\n",
       "<circle clip-path=\"url(#clip004)\" cx=\"1377.46\" cy=\"616.478\" r=\"10.8\" fill=\"#000000\" fill-rule=\"evenodd\" fill-opacity=\"1\" stroke=\"none\"/>\n",
       "<circle clip-path=\"url(#clip004)\" cx=\"1453.78\" cy=\"600.025\" r=\"10.8\" fill=\"#000000\" fill-rule=\"evenodd\" fill-opacity=\"1\" stroke=\"none\"/>\n",
       "<circle clip-path=\"url(#clip004)\" cx=\"1530.09\" cy=\"606.755\" r=\"10.8\" fill=\"#000000\" fill-rule=\"evenodd\" fill-opacity=\"1\" stroke=\"none\"/>\n",
       "<circle clip-path=\"url(#clip004)\" cx=\"1606.4\" cy=\"559.939\" r=\"10.8\" fill=\"#000000\" fill-rule=\"evenodd\" fill-opacity=\"1\" stroke=\"none\"/>\n",
       "<circle clip-path=\"url(#clip004)\" cx=\"1682.72\" cy=\"695.438\" r=\"10.8\" fill=\"#000000\" fill-rule=\"evenodd\" fill-opacity=\"1\" stroke=\"none\"/>\n",
       "<circle clip-path=\"url(#clip004)\" cx=\"1759.03\" cy=\"559.705\" r=\"10.8\" fill=\"#000000\" fill-rule=\"evenodd\" fill-opacity=\"1\" stroke=\"none\"/>\n",
       "<circle clip-path=\"url(#clip004)\" cx=\"1835.35\" cy=\"559.607\" r=\"10.8\" fill=\"#000000\" fill-rule=\"evenodd\" fill-opacity=\"1\" stroke=\"none\"/>\n",
       "<circle clip-path=\"url(#clip004)\" cx=\"1911.66\" cy=\"559.888\" r=\"10.8\" fill=\"#000000\" fill-rule=\"evenodd\" fill-opacity=\"1\" stroke=\"none\"/>\n",
       "<circle clip-path=\"url(#clip004)\" cx=\"1987.97\" cy=\"696.844\" r=\"10.8\" fill=\"#000000\" fill-rule=\"evenodd\" fill-opacity=\"1\" stroke=\"none\"/>\n",
       "<circle clip-path=\"url(#clip004)\" cx=\"2064.29\" cy=\"564.987\" r=\"10.8\" fill=\"#000000\" fill-rule=\"evenodd\" fill-opacity=\"1\" stroke=\"none\"/>\n",
       "<circle clip-path=\"url(#clip004)\" cx=\"2140.6\" cy=\"908.65\" r=\"10.8\" fill=\"#000000\" fill-rule=\"evenodd\" fill-opacity=\"1\" stroke=\"none\"/>\n",
       "<circle clip-path=\"url(#clip004)\" cx=\"2216.92\" cy=\"681.944\" r=\"10.8\" fill=\"#000000\" fill-rule=\"evenodd\" fill-opacity=\"1\" stroke=\"none\"/>\n",
       "<circle clip-path=\"url(#clip004)\" cx=\"2293.23\" cy=\"624.57\" r=\"10.8\" fill=\"#000000\" fill-rule=\"evenodd\" fill-opacity=\"1\" stroke=\"none\"/>\n",
       "<polyline clip-path=\"url(#clip004)\" style=\"stroke:#000000; stroke-linecap:round; stroke-linejoin:round; stroke-width:12; stroke-opacity:1; fill:none\" points=\"309.067,559.488 309.067,559.488 385.381,559.488 385.381,559.488 461.695,559.488 461.695,559.488 538.009,559.488 538.009,559.489 614.323,559.489 614.323,786.342 690.637,786.342 690.637,559.49 766.951,559.49 766.951,559.491 843.265,559.491 843.265,596.448 919.579,596.448 919.579,656.084 995.893,656.084 995.893,559.533 1072.21,559.533 1072.21,591.842 1148.52,591.842 1148.52,651.571 1224.83,651.571 1224.83,559.709 1301.15,559.709 1301.15,616.478 1377.46,616.478 1377.46,600.025 1453.78,600.025 1453.78,606.755 1530.09,606.755 1530.09,559.939 1606.4,559.939 1606.4,695.438 1682.72,695.438 1682.72,559.705 1759.03,559.705 1759.03,559.607 1835.35,559.607 1835.35,559.888 1911.66,559.888 1911.66,696.844 1987.97,696.844 1987.97,564.987 2064.29,564.987 2064.29,908.65 2140.6,908.65 2140.6,681.944 2216.92,681.944 2216.92,624.57 2293.23,624.57 \"/>\n",
       "<path clip-path=\"url(#clip004)\" d=\"M297.067 547.504 L297.067 571.504 L321.067 571.504 L321.067 547.504 L297.067 547.504 Z\" fill=\"#000000\" fill-rule=\"evenodd\" fill-opacity=\"1\" stroke=\"none\"/>\n",
       "<path clip-path=\"url(#clip004)\" d=\"M373.381 547.546 L373.381 571.546 L397.381 571.546 L397.381 547.546 L373.381 547.546 Z\" fill=\"#000000\" fill-rule=\"evenodd\" fill-opacity=\"1\" stroke=\"none\"/>\n",
       "<path clip-path=\"url(#clip004)\" d=\"M449.695 547.527 L449.695 571.527 L473.695 571.527 L473.695 547.527 L449.695 547.527 Z\" fill=\"#000000\" fill-rule=\"evenodd\" fill-opacity=\"1\" stroke=\"none\"/>\n",
       "<path clip-path=\"url(#clip004)\" d=\"M526.009 547.534 L526.009 571.534 L550.009 571.534 L550.009 547.534 L526.009 547.534 Z\" fill=\"#000000\" fill-rule=\"evenodd\" fill-opacity=\"1\" stroke=\"none\"/>\n",
       "<path clip-path=\"url(#clip004)\" d=\"M602.323 547.488 L602.323 571.488 L626.323 571.488 L626.323 547.488 L602.323 547.488 Z\" fill=\"#000000\" fill-rule=\"evenodd\" fill-opacity=\"1\" stroke=\"none\"/>\n",
       "<path clip-path=\"url(#clip004)\" d=\"M678.637 774.269 L678.637 798.269 L702.637 798.269 L702.637 774.269 L678.637 774.269 Z\" fill=\"#000000\" fill-rule=\"evenodd\" fill-opacity=\"1\" stroke=\"none\"/>\n",
       "<path clip-path=\"url(#clip004)\" d=\"M754.951 547.489 L754.951 571.489 L778.951 571.489 L778.951 547.489 L754.951 547.489 Z\" fill=\"#000000\" fill-rule=\"evenodd\" fill-opacity=\"1\" stroke=\"none\"/>\n",
       "<path clip-path=\"url(#clip004)\" d=\"M831.265 547.489 L831.265 571.489 L855.265 571.489 L855.265 547.489 L831.265 547.489 Z\" fill=\"#000000\" fill-rule=\"evenodd\" fill-opacity=\"1\" stroke=\"none\"/>\n",
       "<path clip-path=\"url(#clip004)\" d=\"M907.579 584.571 L907.579 608.571 L931.579 608.571 L931.579 584.571 L907.579 584.571 Z\" fill=\"#000000\" fill-rule=\"evenodd\" fill-opacity=\"1\" stroke=\"none\"/>\n",
       "<path clip-path=\"url(#clip004)\" d=\"M983.893 643.97 L983.893 667.97 L1007.89 667.97 L1007.89 643.97 L983.893 643.97 Z\" fill=\"#000000\" fill-rule=\"evenodd\" fill-opacity=\"1\" stroke=\"none\"/>\n",
       "<path clip-path=\"url(#clip004)\" d=\"M1060.21 547.505 L1060.21 571.505 L1084.21 571.505 L1084.21 547.505 L1060.21 547.505 Z\" fill=\"#000000\" fill-rule=\"evenodd\" fill-opacity=\"1\" stroke=\"none\"/>\n",
       "<path clip-path=\"url(#clip004)\" d=\"M1136.52 579.938 L1136.52 603.938 L1160.52 603.938 L1160.52 579.938 L1136.52 579.938 Z\" fill=\"#000000\" fill-rule=\"evenodd\" fill-opacity=\"1\" stroke=\"none\"/>\n",
       "<path clip-path=\"url(#clip004)\" d=\"M1212.83 639.564 L1212.83 663.564 L1236.83 663.564 L1236.83 639.564 L1212.83 639.564 Z\" fill=\"#000000\" fill-rule=\"evenodd\" fill-opacity=\"1\" stroke=\"none\"/>\n",
       "<path clip-path=\"url(#clip004)\" d=\"M1289.15 547.588 L1289.15 571.588 L1313.15 571.588 L1313.15 547.588 L1289.15 547.588 Z\" fill=\"#000000\" fill-rule=\"evenodd\" fill-opacity=\"1\" stroke=\"none\"/>\n",
       "<path clip-path=\"url(#clip004)\" d=\"M1365.46 604.643 L1365.46 628.643 L1389.46 628.643 L1389.46 604.643 L1365.46 604.643 Z\" fill=\"#000000\" fill-rule=\"evenodd\" fill-opacity=\"1\" stroke=\"none\"/>\n",
       "<path clip-path=\"url(#clip004)\" d=\"M1441.78 587.861 L1441.78 611.861 L1465.78 611.861 L1465.78 587.861 L1441.78 587.861 Z\" fill=\"#000000\" fill-rule=\"evenodd\" fill-opacity=\"1\" stroke=\"none\"/>\n",
       "<path clip-path=\"url(#clip004)\" d=\"M1518.09 594.976 L1518.09 618.976 L1542.09 618.976 L1542.09 594.976 L1518.09 594.976 Z\" fill=\"#000000\" fill-rule=\"evenodd\" fill-opacity=\"1\" stroke=\"none\"/>\n",
       "<path clip-path=\"url(#clip004)\" d=\"M1594.4 547.653 L1594.4 571.653 L1618.4 571.653 L1618.4 547.653 L1594.4 547.653 Z\" fill=\"#000000\" fill-rule=\"evenodd\" fill-opacity=\"1\" stroke=\"none\"/>\n",
       "<path clip-path=\"url(#clip004)\" d=\"M1670.72 683.711 L1670.72 707.711 L1694.72 707.711 L1694.72 683.711 L1670.72 683.711 Z\" fill=\"#000000\" fill-rule=\"evenodd\" fill-opacity=\"1\" stroke=\"none\"/>\n",
       "<path clip-path=\"url(#clip004)\" d=\"M1747.03 547.568 L1747.03 571.568 L1771.03 571.568 L1771.03 547.568 L1747.03 547.568 Z\" fill=\"#000000\" fill-rule=\"evenodd\" fill-opacity=\"1\" stroke=\"none\"/>\n",
       "<path clip-path=\"url(#clip004)\" d=\"M1823.35 547.532 L1823.35 571.532 L1847.35 571.532 L1847.35 547.532 L1823.35 547.532 Z\" fill=\"#000000\" fill-rule=\"evenodd\" fill-opacity=\"1\" stroke=\"none\"/>\n",
       "<path clip-path=\"url(#clip004)\" d=\"M1899.66 547.637 L1899.66 571.637 L1923.66 571.637 L1923.66 547.637 L1899.66 547.637 Z\" fill=\"#000000\" fill-rule=\"evenodd\" fill-opacity=\"1\" stroke=\"none\"/>\n",
       "<path clip-path=\"url(#clip004)\" d=\"M1975.97 686.488 L1975.97 710.488 L1999.97 710.488 L1999.97 686.488 L1975.97 686.488 Z\" fill=\"#000000\" fill-rule=\"evenodd\" fill-opacity=\"1\" stroke=\"none\"/>\n",
       "<path clip-path=\"url(#clip004)\" d=\"M2052.29 550.126 L2052.29 574.126 L2076.29 574.126 L2076.29 550.126 L2052.29 550.126 Z\" fill=\"#000000\" fill-rule=\"evenodd\" fill-opacity=\"1\" stroke=\"none\"/>\n",
       "<path clip-path=\"url(#clip004)\" d=\"M2128.6 898.111 L2128.6 922.111 L2152.6 922.111 L2152.6 898.111 L2128.6 898.111 Z\" fill=\"#000000\" fill-rule=\"evenodd\" fill-opacity=\"1\" stroke=\"none\"/>\n",
       "<path clip-path=\"url(#clip004)\" d=\"M2204.92 666.577 L2204.92 690.577 L2228.92 690.577 L2228.92 666.577 L2204.92 666.577 Z\" fill=\"#000000\" fill-rule=\"evenodd\" fill-opacity=\"1\" stroke=\"none\"/>\n",
       "<path clip-path=\"url(#clip004)\" d=\"M2281.23 589.774 L2281.23 613.774 L2305.23 613.774 L2305.23 589.774 L2281.23 589.774 Z\" fill=\"#000000\" fill-rule=\"evenodd\" fill-opacity=\"1\" stroke=\"none\"/>\n",
       "<polyline clip-path=\"url(#clip004)\" style=\"stroke:#000000; stroke-linecap:round; stroke-linejoin:round; stroke-width:12; stroke-opacity:1; fill:none\" stroke-dasharray=\"48, 24, 6, 24\" points=\"309.067,559.504 309.067,559.546 385.381,559.546 385.381,559.527 461.695,559.527 461.695,559.534 538.009,559.534 538.009,559.488 614.323,559.488 614.323,786.269 690.637,786.269 690.637,559.489 766.951,559.489 766.951,559.489 843.265,559.489 843.265,596.571 919.579,596.571 919.579,655.97 995.893,655.97 995.893,559.505 1072.21,559.505 1072.21,591.938 1148.52,591.938 1148.52,651.564 1224.83,651.564 1224.83,559.588 1301.15,559.588 1301.15,616.643 1377.46,616.643 1377.46,599.861 1453.78,599.861 1453.78,606.976 1530.09,606.976 1530.09,559.653 1606.4,559.653 1606.4,695.711 1682.72,695.711 1682.72,559.568 1759.03,559.568 1759.03,559.532 1835.35,559.532 1835.35,559.637 1911.66,559.637 1911.66,698.488 1987.97,698.488 1987.97,562.126 2064.29,562.126 2064.29,910.111 2140.6,910.111 2140.6,678.577 2216.92,678.577 2216.92,601.774 2293.23,601.774 \"/>\n",
       "<path clip-path=\"url(#clip000)\" d=\"M249.542 1423.18 L2352.76 1423.18 L2352.76 1071.73 L249.542 1071.73  Z\" fill=\"#ffffff\" fill-rule=\"evenodd\" fill-opacity=\"1\"/>\n",
       "<polyline clip-path=\"url(#clip002)\" style=\"stroke:#000000; stroke-linecap:round; stroke-linejoin:round; stroke-width:8; stroke-opacity:0.1; fill:none\" points=\"614.323,1423.18 614.323,1071.73 \"/>\n",
       "<polyline clip-path=\"url(#clip002)\" style=\"stroke:#000000; stroke-linecap:round; stroke-linejoin:round; stroke-width:8; stroke-opacity:0.1; fill:none\" points=\"995.893,1423.18 995.893,1071.73 \"/>\n",
       "<polyline clip-path=\"url(#clip002)\" style=\"stroke:#000000; stroke-linecap:round; stroke-linejoin:round; stroke-width:8; stroke-opacity:0.1; fill:none\" points=\"1377.46,1423.18 1377.46,1071.73 \"/>\n",
       "<polyline clip-path=\"url(#clip002)\" style=\"stroke:#000000; stroke-linecap:round; stroke-linejoin:round; stroke-width:8; stroke-opacity:0.1; fill:none\" points=\"1759.03,1423.18 1759.03,1071.73 \"/>\n",
       "<polyline clip-path=\"url(#clip002)\" style=\"stroke:#000000; stroke-linecap:round; stroke-linejoin:round; stroke-width:8; stroke-opacity:0.1; fill:none\" points=\"2140.6,1423.18 2140.6,1071.73 \"/>\n",
       "<polyline clip-path=\"url(#clip000)\" style=\"stroke:#000000; stroke-linecap:round; stroke-linejoin:round; stroke-width:4; stroke-opacity:1; fill:none\" points=\"249.542,1423.18 2352.76,1423.18 \"/>\n",
       "<polyline clip-path=\"url(#clip000)\" style=\"stroke:#000000; stroke-linecap:round; stroke-linejoin:round; stroke-width:4; stroke-opacity:1; fill:none\" points=\"614.323,1423.18 614.323,1404.28 \"/>\n",
       "<polyline clip-path=\"url(#clip000)\" style=\"stroke:#000000; stroke-linecap:round; stroke-linejoin:round; stroke-width:4; stroke-opacity:1; fill:none\" points=\"995.893,1423.18 995.893,1404.28 \"/>\n",
       "<polyline clip-path=\"url(#clip000)\" style=\"stroke:#000000; stroke-linecap:round; stroke-linejoin:round; stroke-width:4; stroke-opacity:1; fill:none\" points=\"1377.46,1423.18 1377.46,1404.28 \"/>\n",
       "<polyline clip-path=\"url(#clip000)\" style=\"stroke:#000000; stroke-linecap:round; stroke-linejoin:round; stroke-width:4; stroke-opacity:1; fill:none\" points=\"1759.03,1423.18 1759.03,1404.28 \"/>\n",
       "<polyline clip-path=\"url(#clip000)\" style=\"stroke:#000000; stroke-linecap:round; stroke-linejoin:round; stroke-width:4; stroke-opacity:1; fill:none\" points=\"2140.6,1423.18 2140.6,1404.28 \"/>\n",
       "<path clip-path=\"url(#clip000)\" d=\"M604.601 1451.02 L622.957 1451.02 L622.957 1454.96 L608.883 1454.96 L608.883 1463.43 Q609.902 1463.08 610.92 1462.92 Q611.939 1462.73 612.957 1462.73 Q618.744 1462.73 622.124 1465.9 Q625.503 1469.08 625.503 1474.49 Q625.503 1480.07 622.031 1483.17 Q618.559 1486.25 612.24 1486.25 Q610.064 1486.25 607.795 1485.88 Q605.55 1485.51 603.142 1484.77 L603.142 1480.07 Q605.226 1481.2 607.448 1481.76 Q609.67 1482.32 612.147 1482.32 Q616.152 1482.32 618.49 1480.21 Q620.828 1478.1 620.828 1474.49 Q620.828 1470.88 618.49 1468.77 Q616.152 1466.67 612.147 1466.67 Q610.272 1466.67 608.397 1467.08 Q606.545 1467.5 604.601 1468.38 L604.601 1451.02 Z\" fill=\"#000000\" fill-rule=\"evenodd\" fill-opacity=\"1\" /><path clip-path=\"url(#clip000)\" d=\"M970.581 1481.64 L978.219 1481.64 L978.219 1455.28 L969.909 1456.95 L969.909 1452.69 L978.173 1451.02 L982.849 1451.02 L982.849 1481.64 L990.488 1481.64 L990.488 1485.58 L970.581 1485.58 L970.581 1481.64 Z\" fill=\"#000000\" fill-rule=\"evenodd\" fill-opacity=\"1\" /><path clip-path=\"url(#clip000)\" d=\"M1009.93 1454.1 Q1006.32 1454.1 1004.49 1457.66 Q1002.69 1461.2 1002.69 1468.33 Q1002.69 1475.44 1004.49 1479.01 Q1006.32 1482.55 1009.93 1482.55 Q1013.57 1482.55 1015.37 1479.01 Q1017.2 1475.44 1017.2 1468.33 Q1017.2 1461.2 1015.37 1457.66 Q1013.57 1454.1 1009.93 1454.1 M1009.93 1450.39 Q1015.74 1450.39 1018.8 1455 Q1021.88 1459.58 1021.88 1468.33 Q1021.88 1477.06 1018.8 1481.67 Q1015.74 1486.25 1009.93 1486.25 Q1004.12 1486.25 1001.04 1481.67 Q997.988 1477.06 997.988 1468.33 Q997.988 1459.58 1001.04 1455 Q1004.12 1450.39 1009.93 1450.39 Z\" fill=\"#000000\" fill-rule=\"evenodd\" fill-opacity=\"1\" /><path clip-path=\"url(#clip000)\" d=\"M1352.65 1481.64 L1360.29 1481.64 L1360.29 1455.28 L1351.98 1456.95 L1351.98 1452.69 L1360.24 1451.02 L1364.92 1451.02 L1364.92 1481.64 L1372.56 1481.64 L1372.56 1485.58 L1352.65 1485.58 L1352.65 1481.64 Z\" fill=\"#000000\" fill-rule=\"evenodd\" fill-opacity=\"1\" /><path clip-path=\"url(#clip000)\" d=\"M1382.05 1451.02 L1400.4 1451.02 L1400.4 1454.96 L1386.33 1454.96 L1386.33 1463.43 Q1387.35 1463.08 1388.37 1462.92 Q1389.38 1462.73 1390.4 1462.73 Q1396.19 1462.73 1399.57 1465.9 Q1402.95 1469.08 1402.95 1474.49 Q1402.95 1480.07 1399.48 1483.17 Q1396 1486.25 1389.69 1486.25 Q1387.51 1486.25 1385.24 1485.88 Q1383 1485.51 1380.59 1484.77 L1380.59 1480.07 Q1382.67 1481.2 1384.89 1481.76 Q1387.12 1482.32 1389.59 1482.32 Q1393.6 1482.32 1395.94 1480.21 Q1398.27 1478.1 1398.27 1474.49 Q1398.27 1470.88 1395.94 1468.77 Q1393.6 1466.67 1389.59 1466.67 Q1387.72 1466.67 1385.84 1467.08 Q1383.99 1467.5 1382.05 1468.38 L1382.05 1451.02 Z\" fill=\"#000000\" fill-rule=\"evenodd\" fill-opacity=\"1\" /><path clip-path=\"url(#clip000)\" d=\"M1737.81 1481.64 L1754.13 1481.64 L1754.13 1485.58 L1732.18 1485.58 L1732.18 1481.64 Q1734.84 1478.89 1739.43 1474.26 Q1744.03 1469.61 1745.21 1468.27 Q1747.46 1465.74 1748.34 1464.01 Q1749.24 1462.25 1749.24 1460.56 Q1749.24 1457.8 1747.3 1456.07 Q1745.38 1454.33 1742.27 1454.33 Q1740.07 1454.33 1737.62 1455.09 Q1735.19 1455.86 1732.41 1457.41 L1732.41 1452.69 Q1735.24 1451.55 1737.69 1450.97 Q1740.14 1450.39 1742.18 1450.39 Q1747.55 1450.39 1750.75 1453.08 Q1753.94 1455.77 1753.94 1460.26 Q1753.94 1462.39 1753.13 1464.31 Q1752.34 1466.2 1750.24 1468.8 Q1749.66 1469.47 1746.56 1472.69 Q1743.45 1475.88 1737.81 1481.64 Z\" fill=\"#000000\" fill-rule=\"evenodd\" fill-opacity=\"1\" /><path clip-path=\"url(#clip000)\" d=\"M1773.94 1454.1 Q1770.33 1454.1 1768.5 1457.66 Q1766.69 1461.2 1766.69 1468.33 Q1766.69 1475.44 1768.5 1479.01 Q1770.33 1482.55 1773.94 1482.55 Q1777.57 1482.55 1779.38 1479.01 Q1781.21 1475.44 1781.21 1468.33 Q1781.21 1461.2 1779.38 1457.66 Q1777.57 1454.1 1773.94 1454.1 M1773.94 1450.39 Q1779.75 1450.39 1782.81 1455 Q1785.88 1459.58 1785.88 1468.33 Q1785.88 1477.06 1782.81 1481.67 Q1779.75 1486.25 1773.94 1486.25 Q1768.13 1486.25 1765.05 1481.67 Q1762 1477.06 1762 1468.33 Q1762 1459.58 1765.05 1455 Q1768.13 1450.39 1773.94 1450.39 Z\" fill=\"#000000\" fill-rule=\"evenodd\" fill-opacity=\"1\" /><path clip-path=\"url(#clip000)\" d=\"M2119.87 1481.64 L2136.19 1481.64 L2136.19 1485.58 L2114.25 1485.58 L2114.25 1481.64 Q2116.91 1478.89 2121.49 1474.26 Q2126.1 1469.61 2127.28 1468.27 Q2129.53 1465.74 2130.41 1464.01 Q2131.31 1462.25 2131.31 1460.56 Q2131.31 1457.8 2129.36 1456.07 Q2127.44 1454.33 2124.34 1454.33 Q2122.14 1454.33 2119.69 1455.09 Q2117.26 1455.86 2114.48 1457.41 L2114.48 1452.69 Q2117.3 1451.55 2119.76 1450.97 Q2122.21 1450.39 2124.25 1450.39 Q2129.62 1450.39 2132.81 1453.08 Q2136.01 1455.77 2136.01 1460.26 Q2136.01 1462.39 2135.2 1464.31 Q2134.41 1466.2 2132.3 1468.8 Q2131.73 1469.47 2128.62 1472.69 Q2125.52 1475.88 2119.87 1481.64 Z\" fill=\"#000000\" fill-rule=\"evenodd\" fill-opacity=\"1\" /><path clip-path=\"url(#clip000)\" d=\"M2146.05 1451.02 L2164.41 1451.02 L2164.41 1454.96 L2150.34 1454.96 L2150.34 1463.43 Q2151.36 1463.08 2152.37 1462.92 Q2153.39 1462.73 2154.41 1462.73 Q2160.2 1462.73 2163.58 1465.9 Q2166.96 1469.08 2166.96 1474.49 Q2166.96 1480.07 2163.48 1483.17 Q2160.01 1486.25 2153.69 1486.25 Q2151.52 1486.25 2149.25 1485.88 Q2147 1485.51 2144.6 1484.77 L2144.6 1480.07 Q2146.68 1481.2 2148.9 1481.76 Q2151.12 1482.32 2153.6 1482.32 Q2157.61 1482.32 2159.94 1480.21 Q2162.28 1478.1 2162.28 1474.49 Q2162.28 1470.88 2159.94 1468.77 Q2157.61 1466.67 2153.6 1466.67 Q2151.73 1466.67 2149.85 1467.08 Q2148 1467.5 2146.05 1468.38 L2146.05 1451.02 Z\" fill=\"#000000\" fill-rule=\"evenodd\" fill-opacity=\"1\" /><path clip-path=\"url(#clip000)\" d=\"M1144.12 1522.27 L1144.12 1532.4 L1156.19 1532.4 L1156.19 1536.95 L1144.12 1536.95 L1144.12 1556.3 Q1144.12 1560.66 1145.3 1561.9 Q1146.51 1563.14 1150.17 1563.14 L1156.19 1563.14 L1156.19 1568.04 L1150.17 1568.04 Q1143.39 1568.04 1140.81 1565.53 Q1138.23 1562.98 1138.23 1556.3 L1138.23 1536.95 L1133.94 1536.95 L1133.94 1532.4 L1138.23 1532.4 L1138.23 1522.27 L1144.12 1522.27 Z\" fill=\"#000000\" fill-rule=\"evenodd\" fill-opacity=\"1\" /><path clip-path=\"url(#clip000)\" d=\"M1163.89 1532.4 L1169.74 1532.4 L1169.74 1568.04 L1163.89 1568.04 L1163.89 1532.4 M1163.89 1518.52 L1169.74 1518.52 L1169.74 1525.93 L1163.89 1525.93 L1163.89 1518.52 Z\" fill=\"#000000\" fill-rule=\"evenodd\" fill-opacity=\"1\" /><path clip-path=\"url(#clip000)\" d=\"M1209.75 1539.24 Q1211.95 1535.29 1215.01 1533.41 Q1218.06 1531.54 1222.2 1531.54 Q1227.77 1531.54 1230.79 1535.45 Q1233.82 1539.33 1233.82 1546.53 L1233.82 1568.04 L1227.93 1568.04 L1227.93 1546.72 Q1227.93 1541.59 1226.11 1539.11 Q1224.3 1536.63 1220.58 1536.63 Q1216.02 1536.63 1213.38 1539.65 Q1210.74 1542.68 1210.74 1547.9 L1210.74 1568.04 L1204.85 1568.04 L1204.85 1546.72 Q1204.85 1541.56 1203.04 1539.11 Q1201.22 1536.63 1197.44 1536.63 Q1192.95 1536.63 1190.31 1539.68 Q1187.66 1542.71 1187.66 1547.9 L1187.66 1568.04 L1181.78 1568.04 L1181.78 1532.4 L1187.66 1532.4 L1187.66 1537.93 Q1189.67 1534.66 1192.47 1533.1 Q1195.27 1531.54 1199.12 1531.54 Q1203.01 1531.54 1205.71 1533.51 Q1208.45 1535.48 1209.75 1539.24 Z\" fill=\"#000000\" fill-rule=\"evenodd\" fill-opacity=\"1\" /><path clip-path=\"url(#clip000)\" d=\"M1275.99 1548.76 L1275.99 1551.62 L1249.06 1551.62 Q1249.44 1557.67 1252.69 1560.85 Q1255.97 1564 1261.79 1564 Q1265.17 1564 1268.32 1563.17 Q1271.5 1562.35 1274.62 1560.69 L1274.62 1566.23 Q1271.47 1567.57 1268.16 1568.27 Q1264.85 1568.97 1261.44 1568.97 Q1252.91 1568.97 1247.92 1564 Q1242.95 1559.04 1242.95 1550.57 Q1242.95 1541.82 1247.66 1536.69 Q1252.4 1531.54 1260.42 1531.54 Q1267.62 1531.54 1271.79 1536.18 Q1275.99 1540.8 1275.99 1548.76 M1270.13 1547.04 Q1270.07 1542.23 1267.43 1539.37 Q1264.82 1536.5 1260.49 1536.5 Q1255.59 1536.5 1252.63 1539.27 Q1249.7 1542.04 1249.25 1547.07 L1270.13 1547.04 Z\" fill=\"#000000\" fill-rule=\"evenodd\" fill-opacity=\"1\" /><path clip-path=\"url(#clip000)\" d=\"M1305.78 1518.52 L1319.28 1518.52 L1319.28 1523.07 L1311.64 1523.07 L1311.64 1572.09 L1319.28 1572.09 L1319.28 1576.64 L1305.78 1576.64 L1305.78 1518.52 Z\" fill=\"#000000\" fill-rule=\"evenodd\" fill-opacity=\"1\" /><path clip-path=\"url(#clip000)\" d=\"M1359.51 1539.24 Q1361.7 1535.29 1364.76 1533.41 Q1367.81 1531.54 1371.95 1531.54 Q1377.52 1531.54 1380.55 1535.45 Q1383.57 1539.33 1383.57 1546.53 L1383.57 1568.04 L1377.68 1568.04 L1377.68 1546.72 Q1377.68 1541.59 1375.87 1539.11 Q1374.05 1536.63 1370.33 1536.63 Q1365.78 1536.63 1363.14 1539.65 Q1360.49 1542.68 1360.49 1547.9 L1360.49 1568.04 L1354.6 1568.04 L1354.6 1546.72 Q1354.6 1541.56 1352.79 1539.11 Q1350.98 1536.63 1347.19 1536.63 Q1342.7 1536.63 1340.06 1539.68 Q1337.42 1542.71 1337.42 1547.9 L1337.42 1568.04 L1331.53 1568.04 L1331.53 1532.4 L1337.42 1532.4 L1337.42 1537.93 Q1339.42 1534.66 1342.22 1533.1 Q1345.02 1531.54 1348.88 1531.54 Q1352.76 1531.54 1355.46 1533.51 Q1358.2 1535.48 1359.51 1539.24 Z\" fill=\"#000000\" fill-rule=\"evenodd\" fill-opacity=\"1\" /><path clip-path=\"url(#clip000)\" d=\"M1395.25 1532.4 L1401.11 1532.4 L1401.11 1568.04 L1395.25 1568.04 L1395.25 1532.4 M1395.25 1518.52 L1401.11 1518.52 L1401.11 1525.93 L1395.25 1525.93 L1395.25 1518.52 Z\" fill=\"#000000\" fill-rule=\"evenodd\" fill-opacity=\"1\" /><path clip-path=\"url(#clip000)\" d=\"M1442.99 1546.53 L1442.99 1568.04 L1437.14 1568.04 L1437.14 1546.72 Q1437.14 1541.66 1435.16 1539.14 Q1433.19 1536.63 1429.24 1536.63 Q1424.5 1536.63 1421.76 1539.65 Q1419.03 1542.68 1419.03 1547.9 L1419.03 1568.04 L1413.14 1568.04 L1413.14 1532.4 L1419.03 1532.4 L1419.03 1537.93 Q1421.13 1534.72 1423.96 1533.13 Q1426.82 1531.54 1430.55 1531.54 Q1436.69 1531.54 1439.84 1535.36 Q1442.99 1539.14 1442.99 1546.53 Z\" fill=\"#000000\" fill-rule=\"evenodd\" fill-opacity=\"1\" /><path clip-path=\"url(#clip000)\" d=\"M1468.36 1518.52 L1468.36 1576.64 L1454.86 1576.64 L1454.86 1572.09 L1462.47 1572.09 L1462.47 1523.07 L1454.86 1523.07 L1454.86 1518.52 L1468.36 1518.52 Z\" fill=\"#000000\" fill-rule=\"evenodd\" fill-opacity=\"1\" /><polyline clip-path=\"url(#clip002)\" style=\"stroke:#000000; stroke-linecap:round; stroke-linejoin:round; stroke-width:8; stroke-opacity:0.1; fill:none\" points=\"249.542,1423.18 2352.76,1423.18 \"/>\n",
       "<polyline clip-path=\"url(#clip002)\" style=\"stroke:#000000; stroke-linecap:round; stroke-linejoin:round; stroke-width:8; stroke-opacity:0.1; fill:none\" points=\"249.542,1349.96 2352.76,1349.96 \"/>\n",
       "<polyline clip-path=\"url(#clip002)\" style=\"stroke:#000000; stroke-linecap:round; stroke-linejoin:round; stroke-width:8; stroke-opacity:0.1; fill:none\" points=\"249.542,1276.74 2352.76,1276.74 \"/>\n",
       "<polyline clip-path=\"url(#clip002)\" style=\"stroke:#000000; stroke-linecap:round; stroke-linejoin:round; stroke-width:8; stroke-opacity:0.1; fill:none\" points=\"249.542,1203.52 2352.76,1203.52 \"/>\n",
       "<polyline clip-path=\"url(#clip002)\" style=\"stroke:#000000; stroke-linecap:round; stroke-linejoin:round; stroke-width:8; stroke-opacity:0.1; fill:none\" points=\"249.542,1130.31 2352.76,1130.31 \"/>\n",
       "<polyline clip-path=\"url(#clip000)\" style=\"stroke:#000000; stroke-linecap:round; stroke-linejoin:round; stroke-width:4; stroke-opacity:1; fill:none\" points=\"249.542,1423.18 249.542,1071.73 \"/>\n",
       "<polyline clip-path=\"url(#clip000)\" style=\"stroke:#000000; stroke-linecap:round; stroke-linejoin:round; stroke-width:4; stroke-opacity:1; fill:none\" points=\"249.542,1423.18 268.44,1423.18 \"/>\n",
       "<polyline clip-path=\"url(#clip000)\" style=\"stroke:#000000; stroke-linecap:round; stroke-linejoin:round; stroke-width:4; stroke-opacity:1; fill:none\" points=\"249.542,1349.96 268.44,1349.96 \"/>\n",
       "<polyline clip-path=\"url(#clip000)\" style=\"stroke:#000000; stroke-linecap:round; stroke-linejoin:round; stroke-width:4; stroke-opacity:1; fill:none\" points=\"249.542,1276.74 268.44,1276.74 \"/>\n",
       "<polyline clip-path=\"url(#clip000)\" style=\"stroke:#000000; stroke-linecap:round; stroke-linejoin:round; stroke-width:4; stroke-opacity:1; fill:none\" points=\"249.542,1203.52 268.44,1203.52 \"/>\n",
       "<polyline clip-path=\"url(#clip000)\" style=\"stroke:#000000; stroke-linecap:round; stroke-linejoin:round; stroke-width:4; stroke-opacity:1; fill:none\" points=\"249.542,1130.31 268.44,1130.31 \"/>\n",
       "<path clip-path=\"url(#clip000)\" d=\"M126.205 1408.98 Q122.593 1408.98 120.765 1412.54 Q118.959 1416.08 118.959 1423.21 Q118.959 1430.32 120.765 1433.89 Q122.593 1437.43 126.205 1437.43 Q129.839 1437.43 131.644 1433.89 Q133.473 1430.32 133.473 1423.21 Q133.473 1416.08 131.644 1412.54 Q129.839 1408.98 126.205 1408.98 M126.205 1405.27 Q132.015 1405.27 135.07 1409.88 Q138.149 1414.46 138.149 1423.21 Q138.149 1431.94 135.07 1436.55 Q132.015 1441.13 126.205 1441.13 Q120.394 1441.13 117.316 1436.55 Q114.26 1431.94 114.26 1423.21 Q114.26 1414.46 117.316 1409.88 Q120.394 1405.27 126.205 1405.27 Z\" fill=\"#000000\" fill-rule=\"evenodd\" fill-opacity=\"1\" /><path clip-path=\"url(#clip000)\" d=\"M146.366 1434.58 L151.251 1434.58 L151.251 1440.46 L146.366 1440.46 L146.366 1434.58 Z\" fill=\"#000000\" fill-rule=\"evenodd\" fill-opacity=\"1\" /><path clip-path=\"url(#clip000)\" d=\"M171.436 1408.98 Q167.825 1408.98 165.996 1412.54 Q164.19 1416.08 164.19 1423.21 Q164.19 1430.32 165.996 1433.89 Q167.825 1437.43 171.436 1437.43 Q175.07 1437.43 176.876 1433.89 Q178.704 1430.32 178.704 1423.21 Q178.704 1416.08 176.876 1412.54 Q175.07 1408.98 171.436 1408.98 M171.436 1405.27 Q177.246 1405.27 180.301 1409.88 Q183.38 1414.46 183.38 1423.21 Q183.38 1431.94 180.301 1436.55 Q177.246 1441.13 171.436 1441.13 Q165.626 1441.13 162.547 1436.55 Q159.491 1431.94 159.491 1423.21 Q159.491 1414.46 162.547 1409.88 Q165.626 1405.27 171.436 1405.27 Z\" fill=\"#000000\" fill-rule=\"evenodd\" fill-opacity=\"1\" /><path clip-path=\"url(#clip000)\" d=\"M201.598 1408.98 Q197.987 1408.98 196.158 1412.54 Q194.352 1416.08 194.352 1423.21 Q194.352 1430.32 196.158 1433.89 Q197.987 1437.43 201.598 1437.43 Q205.232 1437.43 207.037 1433.89 Q208.866 1430.32 208.866 1423.21 Q208.866 1416.08 207.037 1412.54 Q205.232 1408.98 201.598 1408.98 M201.598 1405.27 Q207.408 1405.27 210.463 1409.88 Q213.542 1414.46 213.542 1423.21 Q213.542 1431.94 210.463 1436.55 Q207.408 1441.13 201.598 1441.13 Q195.787 1441.13 192.709 1436.55 Q189.653 1431.94 189.653 1423.21 Q189.653 1414.46 192.709 1409.88 Q195.787 1405.27 201.598 1405.27 Z\" fill=\"#000000\" fill-rule=\"evenodd\" fill-opacity=\"1\" /><path clip-path=\"url(#clip000)\" d=\"M127.2 1335.76 Q123.589 1335.76 121.76 1339.33 Q119.955 1342.87 119.955 1350 Q119.955 1357.1 121.76 1360.67 Q123.589 1364.21 127.2 1364.21 Q130.834 1364.21 132.64 1360.67 Q134.468 1357.1 134.468 1350 Q134.468 1342.87 132.64 1339.33 Q130.834 1335.76 127.2 1335.76 M127.2 1332.06 Q133.01 1332.06 136.066 1336.66 Q139.144 1341.25 139.144 1350 Q139.144 1358.72 136.066 1363.33 Q133.01 1367.91 127.2 1367.91 Q121.39 1367.91 118.311 1363.33 Q115.256 1358.72 115.256 1350 Q115.256 1341.25 118.311 1336.66 Q121.39 1332.06 127.2 1332.06 Z\" fill=\"#000000\" fill-rule=\"evenodd\" fill-opacity=\"1\" /><path clip-path=\"url(#clip000)\" d=\"M147.362 1361.36 L152.246 1361.36 L152.246 1367.24 L147.362 1367.24 L147.362 1361.36 Z\" fill=\"#000000\" fill-rule=\"evenodd\" fill-opacity=\"1\" /><path clip-path=\"url(#clip000)\" d=\"M166.459 1363.31 L182.778 1363.31 L182.778 1367.24 L160.834 1367.24 L160.834 1363.31 Q163.496 1360.55 168.079 1355.92 Q172.686 1351.27 173.866 1349.93 Q176.112 1347.4 176.991 1345.67 Q177.894 1343.91 177.894 1342.22 Q177.894 1339.46 175.95 1337.73 Q174.028 1335.99 170.927 1335.99 Q168.727 1335.99 166.274 1336.76 Q163.843 1337.52 161.065 1339.07 L161.065 1334.35 Q163.89 1333.21 166.343 1332.64 Q168.797 1332.06 170.834 1332.06 Q176.204 1332.06 179.399 1334.74 Q182.593 1337.43 182.593 1341.92 Q182.593 1344.05 181.783 1345.97 Q180.996 1347.87 178.889 1350.46 Q178.311 1351.13 175.209 1354.35 Q172.107 1357.54 166.459 1363.31 Z\" fill=\"#000000\" fill-rule=\"evenodd\" fill-opacity=\"1\" /><path clip-path=\"url(#clip000)\" d=\"M192.639 1332.68 L210.996 1332.68 L210.996 1336.62 L196.922 1336.62 L196.922 1345.09 Q197.94 1344.74 198.959 1344.58 Q199.977 1344.39 200.996 1344.39 Q206.783 1344.39 210.162 1347.57 Q213.542 1350.74 213.542 1356.15 Q213.542 1361.73 210.07 1364.83 Q206.598 1367.91 200.278 1367.91 Q198.102 1367.91 195.834 1367.54 Q193.588 1367.17 191.181 1366.43 L191.181 1361.73 Q193.264 1362.87 195.487 1363.42 Q197.709 1363.98 200.186 1363.98 Q204.19 1363.98 206.528 1361.87 Q208.866 1359.76 208.866 1356.15 Q208.866 1352.54 206.528 1350.44 Q204.19 1348.33 200.186 1348.33 Q198.311 1348.33 196.436 1348.75 Q194.584 1349.16 192.639 1350.04 L192.639 1332.68 Z\" fill=\"#000000\" fill-rule=\"evenodd\" fill-opacity=\"1\" /><path clip-path=\"url(#clip000)\" d=\"M126.205 1262.54 Q122.593 1262.54 120.765 1266.11 Q118.959 1269.65 118.959 1276.78 Q118.959 1283.88 120.765 1287.45 Q122.593 1290.99 126.205 1290.99 Q129.839 1290.99 131.644 1287.45 Q133.473 1283.88 133.473 1276.78 Q133.473 1269.65 131.644 1266.11 Q129.839 1262.54 126.205 1262.54 M126.205 1258.84 Q132.015 1258.84 135.07 1263.44 Q138.149 1268.03 138.149 1276.78 Q138.149 1285.5 135.07 1290.11 Q132.015 1294.69 126.205 1294.69 Q120.394 1294.69 117.316 1290.11 Q114.26 1285.5 114.26 1276.78 Q114.26 1268.03 117.316 1263.44 Q120.394 1258.84 126.205 1258.84 Z\" fill=\"#000000\" fill-rule=\"evenodd\" fill-opacity=\"1\" /><path clip-path=\"url(#clip000)\" d=\"M146.366 1288.14 L151.251 1288.14 L151.251 1294.02 L146.366 1294.02 L146.366 1288.14 Z\" fill=\"#000000\" fill-rule=\"evenodd\" fill-opacity=\"1\" /><path clip-path=\"url(#clip000)\" d=\"M161.482 1259.46 L179.839 1259.46 L179.839 1263.4 L165.765 1263.4 L165.765 1271.87 Q166.783 1271.52 167.802 1271.36 Q168.82 1271.18 169.839 1271.18 Q175.626 1271.18 179.005 1274.35 Q182.385 1277.52 182.385 1282.94 Q182.385 1288.51 178.913 1291.62 Q175.44 1294.69 169.121 1294.69 Q166.945 1294.69 164.677 1294.32 Q162.431 1293.95 160.024 1293.21 L160.024 1288.51 Q162.107 1289.65 164.329 1290.2 Q166.552 1290.76 169.028 1290.76 Q173.033 1290.76 175.371 1288.65 Q177.709 1286.55 177.709 1282.94 Q177.709 1279.32 175.371 1277.22 Q173.033 1275.11 169.028 1275.11 Q167.153 1275.11 165.278 1275.53 Q163.427 1275.94 161.482 1276.82 L161.482 1259.46 Z\" fill=\"#000000\" fill-rule=\"evenodd\" fill-opacity=\"1\" /><path clip-path=\"url(#clip000)\" d=\"M201.598 1262.54 Q197.987 1262.54 196.158 1266.11 Q194.352 1269.65 194.352 1276.78 Q194.352 1283.88 196.158 1287.45 Q197.987 1290.99 201.598 1290.99 Q205.232 1290.99 207.037 1287.45 Q208.866 1283.88 208.866 1276.78 Q208.866 1269.65 207.037 1266.11 Q205.232 1262.54 201.598 1262.54 M201.598 1258.84 Q207.408 1258.84 210.463 1263.44 Q213.542 1268.03 213.542 1276.78 Q213.542 1285.5 210.463 1290.11 Q207.408 1294.69 201.598 1294.69 Q195.787 1294.69 192.709 1290.11 Q189.653 1285.5 189.653 1276.78 Q189.653 1268.03 192.709 1263.44 Q195.787 1258.84 201.598 1258.84 Z\" fill=\"#000000\" fill-rule=\"evenodd\" fill-opacity=\"1\" /><path clip-path=\"url(#clip000)\" d=\"M127.2 1189.32 Q123.589 1189.32 121.76 1192.89 Q119.955 1196.43 119.955 1203.56 Q119.955 1210.67 121.76 1214.23 Q123.589 1217.77 127.2 1217.77 Q130.834 1217.77 132.64 1214.23 Q134.468 1210.67 134.468 1203.56 Q134.468 1196.43 132.64 1192.89 Q130.834 1189.32 127.2 1189.32 M127.2 1185.62 Q133.01 1185.62 136.066 1190.23 Q139.144 1194.81 139.144 1203.56 Q139.144 1212.29 136.066 1216.89 Q133.01 1221.48 127.2 1221.48 Q121.39 1221.48 118.311 1216.89 Q115.256 1212.29 115.256 1203.56 Q115.256 1194.81 118.311 1190.23 Q121.39 1185.62 127.2 1185.62 Z\" fill=\"#000000\" fill-rule=\"evenodd\" fill-opacity=\"1\" /><path clip-path=\"url(#clip000)\" d=\"M147.362 1214.93 L152.246 1214.93 L152.246 1220.8 L147.362 1220.8 L147.362 1214.93 Z\" fill=\"#000000\" fill-rule=\"evenodd\" fill-opacity=\"1\" /><path clip-path=\"url(#clip000)\" d=\"M161.251 1186.24 L183.473 1186.24 L183.473 1188.24 L170.927 1220.8 L166.042 1220.8 L177.848 1190.18 L161.251 1190.18 L161.251 1186.24 Z\" fill=\"#000000\" fill-rule=\"evenodd\" fill-opacity=\"1\" /><path clip-path=\"url(#clip000)\" d=\"M192.639 1186.24 L210.996 1186.24 L210.996 1190.18 L196.922 1190.18 L196.922 1198.65 Q197.94 1198.31 198.959 1198.14 Q199.977 1197.96 200.996 1197.96 Q206.783 1197.96 210.162 1201.13 Q213.542 1204.3 213.542 1209.72 Q213.542 1215.3 210.07 1218.4 Q206.598 1221.48 200.278 1221.48 Q198.102 1221.48 195.834 1221.11 Q193.588 1220.74 191.181 1219.99 L191.181 1215.3 Q193.264 1216.43 195.487 1216.99 Q197.709 1217.54 200.186 1217.54 Q204.19 1217.54 206.528 1215.43 Q208.866 1213.33 208.866 1209.72 Q208.866 1206.11 206.528 1204 Q204.19 1201.89 200.186 1201.89 Q198.311 1201.89 196.436 1202.31 Q194.584 1202.73 192.639 1203.61 L192.639 1186.24 Z\" fill=\"#000000\" fill-rule=\"evenodd\" fill-opacity=\"1\" /><path clip-path=\"url(#clip000)\" d=\"M117.015 1143.65 L124.654 1143.65 L124.654 1117.29 L116.343 1118.95 L116.343 1114.69 L124.607 1113.03 L129.283 1113.03 L129.283 1143.65 L136.922 1143.65 L136.922 1147.59 L117.015 1147.59 L117.015 1143.65 Z\" fill=\"#000000\" fill-rule=\"evenodd\" fill-opacity=\"1\" /><path clip-path=\"url(#clip000)\" d=\"M146.366 1141.71 L151.251 1141.71 L151.251 1147.59 L146.366 1147.59 L146.366 1141.71 Z\" fill=\"#000000\" fill-rule=\"evenodd\" fill-opacity=\"1\" /><path clip-path=\"url(#clip000)\" d=\"M171.436 1116.11 Q167.825 1116.11 165.996 1119.67 Q164.19 1123.21 164.19 1130.34 Q164.19 1137.45 165.996 1141.01 Q167.825 1144.55 171.436 1144.55 Q175.07 1144.55 176.876 1141.01 Q178.704 1137.45 178.704 1130.34 Q178.704 1123.21 176.876 1119.67 Q175.07 1116.11 171.436 1116.11 M171.436 1112.4 Q177.246 1112.4 180.301 1117.01 Q183.38 1121.59 183.38 1130.34 Q183.38 1139.07 180.301 1143.67 Q177.246 1148.26 171.436 1148.26 Q165.626 1148.26 162.547 1143.67 Q159.491 1139.07 159.491 1130.34 Q159.491 1121.59 162.547 1117.01 Q165.626 1112.4 171.436 1112.4 Z\" fill=\"#000000\" fill-rule=\"evenodd\" fill-opacity=\"1\" /><path clip-path=\"url(#clip000)\" d=\"M201.598 1116.11 Q197.987 1116.11 196.158 1119.67 Q194.352 1123.21 194.352 1130.34 Q194.352 1137.45 196.158 1141.01 Q197.987 1144.55 201.598 1144.55 Q205.232 1144.55 207.037 1141.01 Q208.866 1137.45 208.866 1130.34 Q208.866 1123.21 207.037 1119.67 Q205.232 1116.11 201.598 1116.11 M201.598 1112.4 Q207.408 1112.4 210.463 1117.01 Q213.542 1121.59 213.542 1130.34 Q213.542 1139.07 210.463 1143.67 Q207.408 1148.26 201.598 1148.26 Q195.787 1148.26 192.709 1143.67 Q189.653 1139.07 189.653 1130.34 Q189.653 1121.59 192.709 1117.01 Q195.787 1112.4 201.598 1112.4 Z\" fill=\"#000000\" fill-rule=\"evenodd\" fill-opacity=\"1\" /><path clip-path=\"url(#clip000)\" d=\"M41.1758 1338.53 Q41.6267 1338.53 42.6895 1338.82 L67.8744 1345.14 Q73.4783 1346.52 77.4074 1351.03 Q81.3365 1355.51 81.3365 1360.59 Q81.3365 1363.65 79.694 1365.62 Q78.0837 1367.58 75.6039 1367.58 Q73.4139 1367.58 72.3511 1366.42 Q71.3205 1365.26 71.3205 1363.88 Q71.3205 1363.43 71.4493 1362.95 Q71.5781 1362.46 72.1256 1361.95 Q72.6731 1361.43 73.6071 1361.43 Q75.1208 1361.43 76.3124 1362.75 Q76.8599 1363.4 76.9887 1364.01 Q77.1175 1364.59 77.1175 1365.59 Q78.0193 1365.2 78.6312 1364.49 Q79.2431 1363.78 79.4686 1362.98 Q79.7262 1362.17 79.7906 1361.66 Q79.8872 1361.11 79.8872 1360.59 Q79.8872 1356.47 75.7327 1353.32 Q74.4766 1352.38 73.2206 1351.71 Q71.9968 1351 70.4831 1350.48 Q69.0016 1349.97 68.1965 1349.74 Q67.3914 1349.48 65.5556 1349.03 Q68.5508 1352.03 68.5508 1355.7 Q68.5508 1357.25 68.1321 1358.63 Q67.7134 1359.98 66.8439 1361.17 Q65.9421 1362.37 64.364 1363.07 Q62.7859 1363.75 60.6925 1363.75 Q58.4703 1363.75 55.443 1362.88 Q52.4156 1362.01 46.844 1359.92 Q43.72 1358.79 42.2064 1358.79 Q41.4656 1358.79 41.0148 1358.95 Q40.5317 1359.11 40.3706 1359.44 Q40.1774 1359.76 40.1452 1359.95 Q40.113 1360.11 40.113 1360.43 Q40.113 1362.33 42.0453 1364.11 Q43.9777 1365.88 48.2933 1367.1 Q49.0984 1367.36 49.2917 1367.52 Q49.4849 1367.68 49.4849 1368.16 Q49.4527 1368.97 48.8086 1368.97 Q48.5509 1368.97 47.5525 1368.68 Q46.522 1368.39 45.0083 1367.71 Q43.4624 1367 42.0775 1366.04 Q40.6605 1365.07 39.6621 1363.56 Q38.6637 1362.01 38.6637 1360.24 Q38.6637 1357.82 40.2418 1356.34 Q41.7877 1354.83 44.0743 1354.83 Q45.0083 1354.83 45.8456 1355.09 Q46.6508 1355.31 48.8086 1356.15 Q57.5042 1359.53 61.7553 1359.53 Q62.7859 1359.53 63.6555 1359.37 Q64.4928 1359.18 65.3302 1358.76 Q66.1353 1358.34 66.6184 1357.5 Q67.0693 1356.63 67.0693 1355.44 Q67.0693 1353.93 66.3608 1352.51 Q65.62 1351.06 64.6217 1350.16 Q63.6233 1349.23 62.7859 1348.68 Q61.9164 1348.1 61.4655 1347.97 L49.6137 1345.01 L44.332 1343.69 Q41.4656 1343.07 40.7571 1342.78 Q40.0808 1342.4 39.7265 1341.72 Q39.3723 1341.05 39.3723 1340.47 Q39.3723 1339.66 39.8553 1339.11 Q40.3384 1338.53 41.1758 1338.53 Z\" fill=\"#000000\" fill-rule=\"evenodd\" fill-opacity=\"1\" /><path clip-path=\"url(#clip000)\" d=\"M15.5216 1304.4 L25.6214 1306.9 Q26.2301 1307.03 26.3879 1307.15 Q26.5457 1307.26 26.5457 1307.58 Q26.5457 1307.82 26.433 1307.98 Q26.3203 1308.12 26.2076 1308.12 L26.0948 1308.14 Q26.0272 1308.14 25.689 1308.09 Q25.3283 1308.05 24.7422 1308 Q24.156 1307.96 23.5023 1307.96 Q19.805 1307.96 18.0917 1309.76 Q16.3558 1311.54 16.3558 1314.61 Q16.3558 1316.73 17.483 1318.62 Q18.6102 1320.52 20.3912 1321.6 Q22.1496 1322.68 23.9982 1322.68 Q25.689 1322.68 26.7712 1321.82 Q27.8533 1320.97 28.214 1319.86 L29.0481 1316.77 Q29.8822 1313.53 30.2429 1312.6 Q30.5811 1311.68 31.3476 1310.91 Q33.4668 1308.63 36.7582 1308.63 Q39.5988 1308.63 42.3491 1310.24 Q45.077 1311.84 46.858 1314.59 Q48.6164 1317.34 48.6164 1320.38 Q48.6164 1325.72 45.3024 1328.18 L47.9175 1330.43 Q48.4135 1330.86 48.5037 1331 Q48.6164 1331.11 48.6164 1331.27 Q48.6164 1331.47 48.4811 1331.63 Q48.3684 1331.79 48.1655 1331.79 Q48.0077 1331.79 42.7098 1330.46 Q37.412 1329.13 37.2993 1329.01 Q37.1189 1328.83 37.1189 1328.54 Q37.1189 1328 37.6374 1328 Q37.7727 1328.05 37.953 1328.09 Q39.5762 1328.36 40.4554 1328.36 Q42.1011 1328.36 43.3636 1327.8 Q44.6035 1327.23 45.325 1326.4 Q46.0238 1325.54 46.4747 1324.39 Q46.903 1323.24 47.0608 1322.27 Q47.1961 1321.3 47.1961 1320.29 Q47.1961 1318.1 45.9336 1316.16 Q44.6712 1314.2 42.7098 1313.1 Q40.7485 1311.97 38.697 1311.97 Q37.6149 1311.97 36.7807 1312.26 Q35.9241 1312.56 35.4506 1312.96 Q34.9772 1313.35 34.6165 1314 Q34.2558 1314.65 34.1205 1315.1 Q33.9627 1315.53 33.8049 1316.21 L32.4974 1321.15 Q31.9112 1323.13 30.2204 1324.55 Q28.5296 1325.95 25.937 1325.95 Q23.2092 1325.95 20.6842 1324.35 Q18.1368 1322.72 16.6038 1320.09 Q15.0482 1317.43 15.0482 1314.56 Q15.0482 1312.31 15.9274 1310.57 Q16.7841 1308.84 18.3848 1307.96 L15.7471 1305.73 Q15.2286 1305.28 15.1384 1305.19 Q15.0482 1305.07 15.0482 1304.91 Q15.0482 1304.64 15.206 1304.53 Q15.3638 1304.4 15.5216 1304.4 Z\" fill=\"#000000\" fill-rule=\"evenodd\" fill-opacity=\"1\" /><path clip-path=\"url(#clip000)\" d=\"M23.0288 1268.77 Q25.5538 1268.77 27.8758 1270.64 Q30.1979 1272.49 31.6181 1275.51 Q33.0159 1278.51 33.0159 1281.74 L33.0159 1289.58 L44.5585 1292.44 Q44.6261 1292.47 44.9192 1292.53 Q45.1897 1292.6 45.3475 1292.6 Q45.9111 1292.6 46.0464 1291.9 Q46.1816 1291.18 46.1816 1289.58 Q46.1816 1288.54 46.362 1288.39 Q46.4747 1288.3 46.6776 1288.3 Q46.9932 1288.3 47.2187 1288.39 Q47.4216 1288.48 47.4892 1288.66 Q47.5568 1288.81 47.5794 1288.93 Q47.6019 1289.04 47.6019 1289.22 Q47.6019 1289.69 47.5568 1290.71 Q47.5117 1291.7 47.5117 1292.22 L47.4666 1295.17 L47.6019 1301.03 Q47.6019 1301.73 47.0383 1301.73 Q46.61 1301.73 46.4296 1301.55 Q46.2267 1301.37 46.2042 1301.17 Q46.1816 1300.97 46.1816 1300.45 Q46.1816 1299.32 46.114 1298.64 Q46.0464 1297.97 45.9562 1297.54 Q45.8435 1297.09 45.5279 1296.86 Q45.2122 1296.61 44.9417 1296.5 Q44.6486 1296.39 43.9949 1296.23 L19.1963 1290.05 Q18.4524 1289.87 18.3397 1289.87 Q17.9564 1289.87 17.8211 1290.1 Q17.6633 1290.3 17.5957 1290.89 Q17.5055 1292.02 17.5055 1292.87 Q17.5055 1293.44 17.483 1293.66 Q17.4604 1293.86 17.3477 1294.04 Q17.2125 1294.2 16.9419 1294.2 Q16.5136 1294.2 16.3332 1294.02 Q16.1303 1293.82 16.1078 1293.59 Q16.0627 1293.37 16.0627 1292.83 L16.0627 1277.86 Q16.0627 1273.55 18.1142 1271.16 Q20.1657 1268.77 23.0288 1268.77 M21.9242 1273.06 Q17.5055 1273.06 17.5055 1279.35 L17.5055 1283.76 Q17.5055 1285.23 17.7761 1285.59 Q18.024 1285.95 19.264 1286.27 L31.821 1289.4 L31.821 1282.89 Q31.821 1278.51 29.3637 1275.78 Q28.2365 1274.54 25.8919 1273.8 Q23.5473 1273.06 21.9242 1273.06 Z\" fill=\"#000000\" fill-rule=\"evenodd\" fill-opacity=\"1\" /><path clip-path=\"url(#clip000)\" d=\"M84.2994 1213.06 L18.3418 1213.06 L18.3418 1203.11 L19.8555 1203.11 L19.8555 1208.65 L82.7858 1208.65 L82.7858 1203.11 L84.2994 1203.11 L84.2994 1213.06 Z\" fill=\"#000000\" fill-rule=\"evenodd\" fill-opacity=\"1\" /><path clip-path=\"url(#clip000)\" d=\"M50.3867 1151.37 Q50.7731 1150.98 51.3206 1150.98 Q51.8681 1150.98 52.2546 1151.37 Q52.6411 1151.75 52.6411 1152.3 L52.6411 1193.59 Q52.6411 1194.14 52.2546 1194.52 Q51.8681 1194.91 51.3206 1194.91 Q50.7731 1194.91 50.3867 1194.52 Q50.0002 1194.14 50.0002 1193.59 L50.0002 1152.3 Q50.0002 1151.75 50.3867 1151.37 Z\" fill=\"#000000\" fill-rule=\"evenodd\" fill-opacity=\"1\" /><path clip-path=\"url(#clip000)\" d=\"M82.7858 1144.09 L82.7858 1138.55 L19.8555 1138.55 L19.8555 1144.09 L18.3418 1144.09 L18.3418 1134.14 L84.2994 1134.14 L84.2994 1144.09 L82.7858 1144.09 Z\" fill=\"#000000\" fill-rule=\"evenodd\" fill-opacity=\"1\" /><polyline clip-path=\"url(#clip002)\" style=\"stroke:#000000; stroke-linecap:round; stroke-linejoin:round; stroke-width:4; stroke-opacity:1; fill:none\" stroke-dasharray=\"2, 4\" points=\"309.067,1071.73 385.381,1071.73 461.695,1071.73 538.009,1071.73 614.323,1071.73 690.637,1071.73 766.951,1071.73 843.265,1071.73 919.579,1071.73 995.893,1071.73 1072.21,1071.73 1148.52,1071.73 1224.83,1071.73 1301.15,1071.73 1377.46,1071.73 1453.78,1071.73 1530.09,1071.73 1606.4,1071.73 1682.72,1071.73 1759.03,1071.73 1835.35,1071.73 1911.66,1071.73 1987.97,1071.73 2064.29,1071.73 2140.6,1071.73 2216.92,1071.73 2293.23,1071.73 \"/>\n",
       "<circle clip-path=\"url(#clip002)\" cx=\"309.067\" cy=\"1071.73\" r=\"10.8\" fill=\"#000000\" fill-rule=\"evenodd\" fill-opacity=\"1\" stroke=\"none\"/>\n",
       "<circle clip-path=\"url(#clip002)\" cx=\"385.381\" cy=\"1071.73\" r=\"10.8\" fill=\"#000000\" fill-rule=\"evenodd\" fill-opacity=\"1\" stroke=\"none\"/>\n",
       "<circle clip-path=\"url(#clip002)\" cx=\"461.695\" cy=\"1071.73\" r=\"10.8\" fill=\"#000000\" fill-rule=\"evenodd\" fill-opacity=\"1\" stroke=\"none\"/>\n",
       "<circle clip-path=\"url(#clip002)\" cx=\"538.009\" cy=\"1071.73\" r=\"10.8\" fill=\"#000000\" fill-rule=\"evenodd\" fill-opacity=\"1\" stroke=\"none\"/>\n",
       "<circle clip-path=\"url(#clip002)\" cx=\"614.323\" cy=\"1207.18\" r=\"10.8\" fill=\"#000000\" fill-rule=\"evenodd\" fill-opacity=\"1\" stroke=\"none\"/>\n",
       "<circle clip-path=\"url(#clip002)\" cx=\"690.637\" cy=\"1193.62\" r=\"10.8\" fill=\"#000000\" fill-rule=\"evenodd\" fill-opacity=\"1\" stroke=\"none\"/>\n",
       "<circle clip-path=\"url(#clip002)\" cx=\"766.951\" cy=\"1071.73\" r=\"10.8\" fill=\"#000000\" fill-rule=\"evenodd\" fill-opacity=\"1\" stroke=\"none\"/>\n",
       "<circle clip-path=\"url(#clip002)\" cx=\"843.265\" cy=\"1071.73\" r=\"10.8\" fill=\"#000000\" fill-rule=\"evenodd\" fill-opacity=\"1\" stroke=\"none\"/>\n",
       "<circle clip-path=\"url(#clip002)\" cx=\"919.579\" cy=\"1131.6\" r=\"10.8\" fill=\"#000000\" fill-rule=\"evenodd\" fill-opacity=\"1\" stroke=\"none\"/>\n",
       "<circle clip-path=\"url(#clip002)\" cx=\"995.893\" cy=\"1147.42\" r=\"10.8\" fill=\"#000000\" fill-rule=\"evenodd\" fill-opacity=\"1\" stroke=\"none\"/>\n",
       "<circle clip-path=\"url(#clip002)\" cx=\"1072.21\" cy=\"1071.79\" r=\"10.8\" fill=\"#000000\" fill-rule=\"evenodd\" fill-opacity=\"1\" stroke=\"none\"/>\n",
       "<circle clip-path=\"url(#clip002)\" cx=\"1148.52\" cy=\"1118.1\" r=\"10.8\" fill=\"#000000\" fill-rule=\"evenodd\" fill-opacity=\"1\" stroke=\"none\"/>\n",
       "<circle clip-path=\"url(#clip002)\" cx=\"1224.83\" cy=\"1152.06\" r=\"10.8\" fill=\"#000000\" fill-rule=\"evenodd\" fill-opacity=\"1\" stroke=\"none\"/>\n",
       "<circle clip-path=\"url(#clip002)\" cx=\"1301.15\" cy=\"1071.82\" r=\"10.8\" fill=\"#000000\" fill-rule=\"evenodd\" fill-opacity=\"1\" stroke=\"none\"/>\n",
       "<circle clip-path=\"url(#clip002)\" cx=\"1377.46\" cy=\"1137.59\" r=\"10.8\" fill=\"#000000\" fill-rule=\"evenodd\" fill-opacity=\"1\" stroke=\"none\"/>\n",
       "<circle clip-path=\"url(#clip002)\" cx=\"1453.78\" cy=\"1102.61\" r=\"10.8\" fill=\"#000000\" fill-rule=\"evenodd\" fill-opacity=\"1\" stroke=\"none\"/>\n",
       "<circle clip-path=\"url(#clip002)\" cx=\"1530.09\" cy=\"1123.88\" r=\"10.8\" fill=\"#000000\" fill-rule=\"evenodd\" fill-opacity=\"1\" stroke=\"none\"/>\n",
       "<circle clip-path=\"url(#clip002)\" cx=\"1606.4\" cy=\"1073.39\" r=\"10.8\" fill=\"#000000\" fill-rule=\"evenodd\" fill-opacity=\"1\" stroke=\"none\"/>\n",
       "<circle clip-path=\"url(#clip002)\" cx=\"1682.72\" cy=\"1204.87\" r=\"10.8\" fill=\"#000000\" fill-rule=\"evenodd\" fill-opacity=\"1\" stroke=\"none\"/>\n",
       "<circle clip-path=\"url(#clip002)\" cx=\"1759.03\" cy=\"1071.85\" r=\"10.8\" fill=\"#000000\" fill-rule=\"evenodd\" fill-opacity=\"1\" stroke=\"none\"/>\n",
       "<circle clip-path=\"url(#clip002)\" cx=\"1835.35\" cy=\"1071.82\" r=\"10.8\" fill=\"#000000\" fill-rule=\"evenodd\" fill-opacity=\"1\" stroke=\"none\"/>\n",
       "<circle clip-path=\"url(#clip002)\" cx=\"1911.66\" cy=\"1072.22\" r=\"10.8\" fill=\"#000000\" fill-rule=\"evenodd\" fill-opacity=\"1\" stroke=\"none\"/>\n",
       "<circle clip-path=\"url(#clip002)\" cx=\"1987.97\" cy=\"1213.62\" r=\"10.8\" fill=\"#000000\" fill-rule=\"evenodd\" fill-opacity=\"1\" stroke=\"none\"/>\n",
       "<circle clip-path=\"url(#clip002)\" cx=\"2064.29\" cy=\"1076.41\" r=\"10.8\" fill=\"#000000\" fill-rule=\"evenodd\" fill-opacity=\"1\" stroke=\"none\"/>\n",
       "<circle clip-path=\"url(#clip002)\" cx=\"2140.6\" cy=\"1421.45\" r=\"10.8\" fill=\"#000000\" fill-rule=\"evenodd\" fill-opacity=\"1\" stroke=\"none\"/>\n",
       "<circle clip-path=\"url(#clip002)\" cx=\"2216.92\" cy=\"1139.32\" r=\"10.8\" fill=\"#000000\" fill-rule=\"evenodd\" fill-opacity=\"1\" stroke=\"none\"/>\n",
       "<circle clip-path=\"url(#clip002)\" cx=\"2293.23\" cy=\"1080.91\" r=\"10.8\" fill=\"#000000\" fill-rule=\"evenodd\" fill-opacity=\"1\" stroke=\"none\"/>\n",
       "<polyline clip-path=\"url(#clip002)\" style=\"stroke:#000000; stroke-linecap:round; stroke-linejoin:round; stroke-width:12; stroke-opacity:1; fill:none\" points=\"309.067,1071.73 309.067,1071.73 385.381,1071.73 385.381,1071.73 461.695,1071.73 461.695,1071.73 538.009,1071.73 538.009,1207.18 614.323,1207.18 614.323,1193.62 690.637,1193.62 690.637,1071.73 766.951,1071.73 766.951,1071.73 843.265,1071.73 843.265,1131.6 919.579,1131.6 919.579,1147.42 995.893,1147.42 995.893,1071.79 1072.21,1071.79 1072.21,1118.1 1148.52,1118.1 1148.52,1152.06 1224.83,1152.06 1224.83,1071.82 1301.15,1071.82 1301.15,1137.59 1377.46,1137.59 1377.46,1102.61 1453.78,1102.61 1453.78,1123.88 1530.09,1123.88 1530.09,1073.39 1606.4,1073.39 1606.4,1204.87 1682.72,1204.87 1682.72,1071.85 1759.03,1071.85 1759.03,1071.82 1835.35,1071.82 1835.35,1072.22 1911.66,1072.22 1911.66,1213.62 1987.97,1213.62 1987.97,1076.41 2064.29,1076.41 2064.29,1421.45 2140.6,1421.45 2140.6,1139.32 2216.92,1139.32 2216.92,1080.91 2293.23,1080.91 \"/>\n",
       "<path clip-path=\"url(#clip002)\" d=\"M297.067 1059.75 L297.067 1083.75 L321.067 1083.75 L321.067 1059.75 L297.067 1059.75 Z\" fill=\"#000000\" fill-rule=\"evenodd\" fill-opacity=\"1\" stroke=\"none\"/>\n",
       "<path clip-path=\"url(#clip002)\" d=\"M373.381 1059.79 L373.381 1083.79 L397.381 1083.79 L397.381 1059.79 L373.381 1059.79 Z\" fill=\"#000000\" fill-rule=\"evenodd\" fill-opacity=\"1\" stroke=\"none\"/>\n",
       "<path clip-path=\"url(#clip002)\" d=\"M449.695 1059.77 L449.695 1083.77 L473.695 1083.77 L473.695 1059.77 L449.695 1059.77 Z\" fill=\"#000000\" fill-rule=\"evenodd\" fill-opacity=\"1\" stroke=\"none\"/>\n",
       "<path clip-path=\"url(#clip002)\" d=\"M526.009 1059.78 L526.009 1083.78 L550.009 1083.78 L550.009 1059.78 L526.009 1059.78 Z\" fill=\"#000000\" fill-rule=\"evenodd\" fill-opacity=\"1\" stroke=\"none\"/>\n",
       "<path clip-path=\"url(#clip002)\" d=\"M602.323 1195.05 L602.323 1219.05 L626.323 1219.05 L626.323 1195.05 L602.323 1195.05 Z\" fill=\"#000000\" fill-rule=\"evenodd\" fill-opacity=\"1\" stroke=\"none\"/>\n",
       "<path clip-path=\"url(#clip002)\" d=\"M678.637 1181.7 L678.637 1205.7 L702.637 1205.7 L702.637 1181.7 L678.637 1181.7 Z\" fill=\"#000000\" fill-rule=\"evenodd\" fill-opacity=\"1\" stroke=\"none\"/>\n",
       "<path clip-path=\"url(#clip002)\" d=\"M754.951 1059.73 L754.951 1083.73 L778.951 1083.73 L778.951 1059.73 L754.951 1059.73 Z\" fill=\"#000000\" fill-rule=\"evenodd\" fill-opacity=\"1\" stroke=\"none\"/>\n",
       "<path clip-path=\"url(#clip002)\" d=\"M831.265 1059.73 L831.265 1083.73 L855.265 1083.73 L855.265 1059.73 L831.265 1059.73 Z\" fill=\"#000000\" fill-rule=\"evenodd\" fill-opacity=\"1\" stroke=\"none\"/>\n",
       "<path clip-path=\"url(#clip002)\" d=\"M907.579 1119.57 L907.579 1143.57 L931.579 1143.57 L931.579 1119.57 L907.579 1119.57 Z\" fill=\"#000000\" fill-rule=\"evenodd\" fill-opacity=\"1\" stroke=\"none\"/>\n",
       "<path clip-path=\"url(#clip002)\" d=\"M983.893 1135.45 L983.893 1159.45 L1007.89 1159.45 L1007.89 1135.45 L983.893 1135.45 Z\" fill=\"#000000\" fill-rule=\"evenodd\" fill-opacity=\"1\" stroke=\"none\"/>\n",
       "<path clip-path=\"url(#clip002)\" d=\"M1060.21 1059.79 L1060.21 1083.79 L1084.21 1083.79 L1084.21 1059.79 L1060.21 1059.79 Z\" fill=\"#000000\" fill-rule=\"evenodd\" fill-opacity=\"1\" stroke=\"none\"/>\n",
       "<path clip-path=\"url(#clip002)\" d=\"M1136.52 1106.09 L1136.52 1130.09 L1160.52 1130.09 L1160.52 1106.09 L1136.52 1106.09 Z\" fill=\"#000000\" fill-rule=\"evenodd\" fill-opacity=\"1\" stroke=\"none\"/>\n",
       "<path clip-path=\"url(#clip002)\" d=\"M1212.83 1140.06 L1212.83 1164.06 L1236.83 1164.06 L1236.83 1140.06 L1212.83 1140.06 Z\" fill=\"#000000\" fill-rule=\"evenodd\" fill-opacity=\"1\" stroke=\"none\"/>\n",
       "<path clip-path=\"url(#clip002)\" d=\"M1289.15 1059.82 L1289.15 1083.82 L1313.15 1083.82 L1313.15 1059.82 L1289.15 1059.82 Z\" fill=\"#000000\" fill-rule=\"evenodd\" fill-opacity=\"1\" stroke=\"none\"/>\n",
       "<path clip-path=\"url(#clip002)\" d=\"M1365.46 1125.56 L1365.46 1149.56 L1389.46 1149.56 L1389.46 1125.56 L1365.46 1125.56 Z\" fill=\"#000000\" fill-rule=\"evenodd\" fill-opacity=\"1\" stroke=\"none\"/>\n",
       "<path clip-path=\"url(#clip002)\" d=\"M1441.78 1090.62 L1441.78 1114.62 L1465.78 1114.62 L1465.78 1090.62 L1441.78 1090.62 Z\" fill=\"#000000\" fill-rule=\"evenodd\" fill-opacity=\"1\" stroke=\"none\"/>\n",
       "<path clip-path=\"url(#clip002)\" d=\"M1518.09 1111.85 L1518.09 1135.85 L1542.09 1135.85 L1542.09 1111.85 L1518.09 1111.85 Z\" fill=\"#000000\" fill-rule=\"evenodd\" fill-opacity=\"1\" stroke=\"none\"/>\n",
       "<path clip-path=\"url(#clip002)\" d=\"M1594.4 1061.62 L1594.4 1085.62 L1618.4 1085.62 L1618.4 1061.62 L1594.4 1061.62 Z\" fill=\"#000000\" fill-rule=\"evenodd\" fill-opacity=\"1\" stroke=\"none\"/>\n",
       "<path clip-path=\"url(#clip002)\" d=\"M1670.72 1192.58 L1670.72 1216.58 L1694.72 1216.58 L1694.72 1192.58 L1670.72 1192.58 Z\" fill=\"#000000\" fill-rule=\"evenodd\" fill-opacity=\"1\" stroke=\"none\"/>\n",
       "<path clip-path=\"url(#clip002)\" d=\"M1747.03 1059.85 L1747.03 1083.85 L1771.03 1083.85 L1771.03 1059.85 L1747.03 1059.85 Z\" fill=\"#000000\" fill-rule=\"evenodd\" fill-opacity=\"1\" stroke=\"none\"/>\n",
       "<path clip-path=\"url(#clip002)\" d=\"M1823.35 1059.82 L1823.35 1083.82 L1847.35 1083.82 L1847.35 1059.82 L1823.35 1059.82 Z\" fill=\"#000000\" fill-rule=\"evenodd\" fill-opacity=\"1\" stroke=\"none\"/>\n",
       "<path clip-path=\"url(#clip002)\" d=\"M1899.66 1060.22 L1899.66 1084.22 L1923.66 1084.22 L1923.66 1060.22 L1899.66 1060.22 Z\" fill=\"#000000\" fill-rule=\"evenodd\" fill-opacity=\"1\" stroke=\"none\"/>\n",
       "<path clip-path=\"url(#clip002)\" d=\"M1975.97 1202.33 L1975.97 1226.33 L1999.97 1226.33 L1999.97 1202.33 L1975.97 1202.33 Z\" fill=\"#000000\" fill-rule=\"evenodd\" fill-opacity=\"1\" stroke=\"none\"/>\n",
       "<path clip-path=\"url(#clip002)\" d=\"M2052.29 1064.57 L2052.29 1088.57 L2076.29 1088.57 L2076.29 1064.57 L2052.29 1064.57 Z\" fill=\"#000000\" fill-rule=\"evenodd\" fill-opacity=\"1\" stroke=\"none\"/>\n",
       "<path clip-path=\"url(#clip002)\" d=\"M2128.6 1409.45 L2128.6 1433.45 L2152.6 1433.45 L2152.6 1409.45 L2128.6 1409.45 Z\" fill=\"#000000\" fill-rule=\"evenodd\" fill-opacity=\"1\" stroke=\"none\"/>\n",
       "<path clip-path=\"url(#clip002)\" d=\"M2204.92 1133.76 L2204.92 1157.76 L2228.92 1157.76 L2228.92 1133.76 L2204.92 1133.76 Z\" fill=\"#000000\" fill-rule=\"evenodd\" fill-opacity=\"1\" stroke=\"none\"/>\n",
       "<path clip-path=\"url(#clip002)\" d=\"M2281.23 1124.38 L2281.23 1148.38 L2305.23 1148.38 L2305.23 1124.38 L2281.23 1124.38 Z\" fill=\"#000000\" fill-rule=\"evenodd\" fill-opacity=\"1\" stroke=\"none\"/>\n",
       "<polyline clip-path=\"url(#clip002)\" style=\"stroke:#000000; stroke-linecap:round; stroke-linejoin:round; stroke-width:12; stroke-opacity:1; fill:none\" stroke-dasharray=\"48, 24, 6, 24\" points=\"309.067,1071.75 309.067,1071.79 385.381,1071.79 385.381,1071.77 461.695,1071.77 461.695,1071.78 538.009,1071.78 538.009,1207.05 614.323,1207.05 614.323,1193.7 690.637,1193.7 690.637,1071.73 766.951,1071.73 766.951,1071.73 843.265,1071.73 843.265,1131.57 919.579,1131.57 919.579,1147.45 995.893,1147.45 995.893,1071.79 1072.21,1071.79 1072.21,1118.09 1148.52,1118.09 1148.52,1152.06 1224.83,1152.06 1224.83,1071.82 1301.15,1071.82 1301.15,1137.56 1377.46,1137.56 1377.46,1102.62 1453.78,1102.62 1453.78,1123.85 1530.09,1123.85 1530.09,1073.62 1606.4,1073.62 1606.4,1204.58 1682.72,1204.58 1682.72,1071.85 1759.03,1071.85 1759.03,1071.82 1835.35,1071.82 1835.35,1072.22 1911.66,1072.22 1911.66,1214.33 1987.97,1214.33 1987.97,1076.57 2064.29,1076.57 2064.29,1421.45 2140.6,1421.45 2140.6,1145.76 2216.92,1145.76 2216.92,1136.38 2293.23,1136.38 \"/>\n",
       "</svg>\n"
      ]
     },
     "execution_count": 27,
     "metadata": {},
     "output_type": "execute_result"
    }
   ],
   "source": [
    "plot_comp((0.0,1.2),L\"y^{SP} \\quad [-]\",2,ts,yspTraj,yspMax)"
   ]
  },
  {
   "cell_type": "code",
   "execution_count": 28,
   "id": "7271ea14",
   "metadata": {},
   "outputs": [
    {
     "data": {
      "image/svg+xml": [
       "<?xml version=\"1.0\" encoding=\"utf-8\"?>\n",
       "<svg xmlns=\"http://www.w3.org/2000/svg\" xmlns:xlink=\"http://www.w3.org/1999/xlink\" width=\"600\" height=\"400\" viewBox=\"0 0 2400 1600\">\n",
       "<defs>\n",
       "  <clipPath id=\"clip040\">\n",
       "    <rect x=\"0\" y=\"0\" width=\"2400\" height=\"1600\"/>\n",
       "  </clipPath>\n",
       "</defs>\n",
       "<path clip-path=\"url(#clip040)\" d=\"M0 1600 L2400 1600 L2400 0 L0 0  Z\" fill=\"#ffffff\" fill-rule=\"evenodd\" fill-opacity=\"1\"/>\n",
       "<defs>\n",
       "  <clipPath id=\"clip041\">\n",
       "    <rect x=\"480\" y=\"0\" width=\"1681\" height=\"1600\"/>\n",
       "  </clipPath>\n",
       "</defs>\n",
       "<defs>\n",
       "  <clipPath id=\"clip042\">\n",
       "    <rect x=\"249\" y=\"1071\" width=\"2104\" height=\"352\"/>\n",
       "  </clipPath>\n",
       "</defs>\n",
       "<path clip-path=\"url(#clip040)\" d=\"M219.033 398.692 L2352.76 398.692 L2352.76 47.2441 L219.033 47.2441  Z\" fill=\"#ffffff\" fill-rule=\"evenodd\" fill-opacity=\"1\"/>\n",
       "<defs>\n",
       "  <clipPath id=\"clip043\">\n",
       "    <rect x=\"219\" y=\"47\" width=\"2135\" height=\"352\"/>\n",
       "  </clipPath>\n",
       "</defs>\n",
       "<polyline clip-path=\"url(#clip043)\" style=\"stroke:#000000; stroke-linecap:round; stroke-linejoin:round; stroke-width:8; stroke-opacity:0.1; fill:none\" points=\"589.105,398.692 589.105,47.2441 \"/>\n",
       "<polyline clip-path=\"url(#clip043)\" style=\"stroke:#000000; stroke-linecap:round; stroke-linejoin:round; stroke-width:8; stroke-opacity:0.1; fill:none\" points=\"976.21,398.692 976.21,47.2441 \"/>\n",
       "<polyline clip-path=\"url(#clip043)\" style=\"stroke:#000000; stroke-linecap:round; stroke-linejoin:round; stroke-width:8; stroke-opacity:0.1; fill:none\" points=\"1363.32,398.692 1363.32,47.2441 \"/>\n",
       "<polyline clip-path=\"url(#clip043)\" style=\"stroke:#000000; stroke-linecap:round; stroke-linejoin:round; stroke-width:8; stroke-opacity:0.1; fill:none\" points=\"1750.42,398.692 1750.42,47.2441 \"/>\n",
       "<polyline clip-path=\"url(#clip043)\" style=\"stroke:#000000; stroke-linecap:round; stroke-linejoin:round; stroke-width:8; stroke-opacity:0.1; fill:none\" points=\"2137.53,398.692 2137.53,47.2441 \"/>\n",
       "<polyline clip-path=\"url(#clip040)\" style=\"stroke:#000000; stroke-linecap:round; stroke-linejoin:round; stroke-width:4; stroke-opacity:1; fill:none\" points=\"219.033,398.692 2352.76,398.692 \"/>\n",
       "<polyline clip-path=\"url(#clip040)\" style=\"stroke:#000000; stroke-linecap:round; stroke-linejoin:round; stroke-width:4; stroke-opacity:1; fill:none\" points=\"589.105,398.692 589.105,379.794 \"/>\n",
       "<polyline clip-path=\"url(#clip040)\" style=\"stroke:#000000; stroke-linecap:round; stroke-linejoin:round; stroke-width:4; stroke-opacity:1; fill:none\" points=\"976.21,398.692 976.21,379.794 \"/>\n",
       "<polyline clip-path=\"url(#clip040)\" style=\"stroke:#000000; stroke-linecap:round; stroke-linejoin:round; stroke-width:4; stroke-opacity:1; fill:none\" points=\"1363.32,398.692 1363.32,379.794 \"/>\n",
       "<polyline clip-path=\"url(#clip040)\" style=\"stroke:#000000; stroke-linecap:round; stroke-linejoin:round; stroke-width:4; stroke-opacity:1; fill:none\" points=\"1750.42,398.692 1750.42,379.794 \"/>\n",
       "<polyline clip-path=\"url(#clip040)\" style=\"stroke:#000000; stroke-linecap:round; stroke-linejoin:round; stroke-width:4; stroke-opacity:1; fill:none\" points=\"2137.53,398.692 2137.53,379.794 \"/>\n",
       "<path clip-path=\"url(#clip040)\" d=\"M579.383 426.532 L597.74 426.532 L597.74 430.467 L583.666 430.467 L583.666 438.939 Q584.684 438.592 585.703 438.43 Q586.721 438.245 587.74 438.245 Q593.527 438.245 596.906 441.416 Q600.286 444.587 600.286 450.004 Q600.286 455.583 596.814 458.684 Q593.341 461.763 587.022 461.763 Q584.846 461.763 582.578 461.393 Q580.332 461.022 577.925 460.282 L577.925 455.583 Q580.008 456.717 582.23 457.272 Q584.453 457.828 586.929 457.828 Q590.934 457.828 593.272 455.722 Q595.61 453.615 595.61 450.004 Q595.61 446.393 593.272 444.286 Q590.934 442.18 586.929 442.18 Q585.054 442.18 583.179 442.597 Q581.328 443.013 579.383 443.893 L579.383 426.532 Z\" fill=\"#000000\" fill-rule=\"evenodd\" fill-opacity=\"1\" /><path clip-path=\"url(#clip040)\" d=\"M950.898 457.157 L958.537 457.157 L958.537 430.791 L950.227 432.458 L950.227 428.199 L958.491 426.532 L963.166 426.532 L963.166 457.157 L970.805 457.157 L970.805 461.092 L950.898 461.092 L950.898 457.157 Z\" fill=\"#000000\" fill-rule=\"evenodd\" fill-opacity=\"1\" /><path clip-path=\"url(#clip040)\" d=\"M990.25 429.611 Q986.639 429.611 984.81 433.175 Q983.004 436.717 983.004 443.847 Q983.004 450.953 984.81 454.518 Q986.639 458.059 990.25 458.059 Q993.884 458.059 995.689 454.518 Q997.518 450.953 997.518 443.847 Q997.518 436.717 995.689 433.175 Q993.884 429.611 990.25 429.611 M990.25 425.907 Q996.06 425.907 999.115 430.513 Q1002.19 435.097 1002.19 443.847 Q1002.19 452.573 999.115 457.18 Q996.06 461.763 990.25 461.763 Q984.44 461.763 981.361 457.18 Q978.305 452.573 978.305 443.847 Q978.305 435.097 981.361 430.513 Q984.44 425.907 990.25 425.907 Z\" fill=\"#000000\" fill-rule=\"evenodd\" fill-opacity=\"1\" /><path clip-path=\"url(#clip040)\" d=\"M1338.5 457.157 L1346.14 457.157 L1346.14 430.791 L1337.83 432.458 L1337.83 428.199 L1346.09 426.532 L1350.77 426.532 L1350.77 457.157 L1358.41 457.157 L1358.41 461.092 L1338.5 461.092 L1338.5 457.157 Z\" fill=\"#000000\" fill-rule=\"evenodd\" fill-opacity=\"1\" /><path clip-path=\"url(#clip040)\" d=\"M1367.9 426.532 L1386.26 426.532 L1386.26 430.467 L1372.18 430.467 L1372.18 438.939 Q1373.2 438.592 1374.22 438.43 Q1375.24 438.245 1376.26 438.245 Q1382.04 438.245 1385.42 441.416 Q1388.8 444.587 1388.8 450.004 Q1388.8 455.583 1385.33 458.684 Q1381.86 461.763 1375.54 461.763 Q1373.36 461.763 1371.09 461.393 Q1368.85 461.022 1366.44 460.282 L1366.44 455.583 Q1368.52 456.717 1370.75 457.272 Q1372.97 457.828 1375.44 457.828 Q1379.45 457.828 1381.79 455.722 Q1384.13 453.615 1384.13 450.004 Q1384.13 446.393 1381.79 444.286 Q1379.45 442.18 1375.44 442.18 Q1373.57 442.18 1371.7 442.597 Q1369.84 443.013 1367.9 443.893 L1367.9 426.532 Z\" fill=\"#000000\" fill-rule=\"evenodd\" fill-opacity=\"1\" /><path clip-path=\"url(#clip040)\" d=\"M1729.19 457.157 L1745.51 457.157 L1745.51 461.092 L1723.57 461.092 L1723.57 457.157 Q1726.23 454.402 1730.81 449.772 Q1735.42 445.12 1736.6 443.777 Q1738.85 441.254 1739.73 439.518 Q1740.63 437.759 1740.63 436.069 Q1740.63 433.314 1738.68 431.578 Q1736.76 429.842 1733.66 429.842 Q1731.46 429.842 1729.01 430.606 Q1726.58 431.37 1723.8 432.921 L1723.8 428.199 Q1726.62 427.064 1729.08 426.486 Q1731.53 425.907 1733.57 425.907 Q1738.94 425.907 1742.13 428.592 Q1745.33 431.277 1745.33 435.768 Q1745.33 437.898 1744.52 439.819 Q1743.73 441.717 1741.62 444.31 Q1741.05 444.981 1737.94 448.198 Q1734.84 451.393 1729.19 457.157 Z\" fill=\"#000000\" fill-rule=\"evenodd\" fill-opacity=\"1\" /><path clip-path=\"url(#clip040)\" d=\"M1765.33 429.611 Q1761.72 429.611 1759.89 433.175 Q1758.08 436.717 1758.08 443.847 Q1758.08 450.953 1759.89 454.518 Q1761.72 458.059 1765.33 458.059 Q1768.96 458.059 1770.77 454.518 Q1772.6 450.953 1772.6 443.847 Q1772.6 436.717 1770.77 433.175 Q1768.96 429.611 1765.33 429.611 M1765.33 425.907 Q1771.14 425.907 1774.19 430.513 Q1777.27 435.097 1777.27 443.847 Q1777.27 452.573 1774.19 457.18 Q1771.14 461.763 1765.33 461.763 Q1759.52 461.763 1756.44 457.18 Q1753.38 452.573 1753.38 443.847 Q1753.38 435.097 1756.44 430.513 Q1759.52 425.907 1765.33 425.907 Z\" fill=\"#000000\" fill-rule=\"evenodd\" fill-opacity=\"1\" /><path clip-path=\"url(#clip040)\" d=\"M2116.8 457.157 L2133.12 457.157 L2133.12 461.092 L2111.17 461.092 L2111.17 457.157 Q2113.83 454.402 2118.42 449.772 Q2123.02 445.12 2124.2 443.777 Q2126.45 441.254 2127.33 439.518 Q2128.23 437.759 2128.23 436.069 Q2128.23 433.314 2126.29 431.578 Q2124.37 429.842 2121.26 429.842 Q2119.06 429.842 2116.61 430.606 Q2114.18 431.37 2111.4 432.921 L2111.4 428.199 Q2114.23 427.064 2116.68 426.486 Q2119.13 425.907 2121.17 425.907 Q2126.54 425.907 2129.74 428.592 Q2132.93 431.277 2132.93 435.768 Q2132.93 437.898 2132.12 439.819 Q2131.33 441.717 2129.23 444.31 Q2128.65 444.981 2125.55 448.198 Q2122.44 451.393 2116.8 457.157 Z\" fill=\"#000000\" fill-rule=\"evenodd\" fill-opacity=\"1\" /><path clip-path=\"url(#clip040)\" d=\"M2142.98 426.532 L2161.33 426.532 L2161.33 430.467 L2147.26 430.467 L2147.26 438.939 Q2148.28 438.592 2149.3 438.43 Q2150.31 438.245 2151.33 438.245 Q2157.12 438.245 2160.5 441.416 Q2163.88 444.587 2163.88 450.004 Q2163.88 455.583 2160.41 458.684 Q2156.94 461.763 2150.62 461.763 Q2148.44 461.763 2146.17 461.393 Q2143.93 461.022 2141.52 460.282 L2141.52 455.583 Q2143.6 456.717 2145.82 457.272 Q2148.05 457.828 2150.52 457.828 Q2154.53 457.828 2156.87 455.722 Q2159.2 453.615 2159.2 450.004 Q2159.2 446.393 2156.87 444.286 Q2154.53 442.18 2150.52 442.18 Q2148.65 442.18 2146.77 442.597 Q2144.92 443.013 2142.98 443.893 L2142.98 426.532 Z\" fill=\"#000000\" fill-rule=\"evenodd\" fill-opacity=\"1\" /><polyline clip-path=\"url(#clip043)\" style=\"stroke:#000000; stroke-linecap:round; stroke-linejoin:round; stroke-width:8; stroke-opacity:0.1; fill:none\" points=\"219.033,398.692 2352.76,398.692 \"/>\n",
       "<polyline clip-path=\"url(#clip043)\" style=\"stroke:#000000; stroke-linecap:round; stroke-linejoin:round; stroke-width:8; stroke-opacity:0.1; fill:none\" points=\"219.033,340.117 2352.76,340.117 \"/>\n",
       "<polyline clip-path=\"url(#clip043)\" style=\"stroke:#000000; stroke-linecap:round; stroke-linejoin:round; stroke-width:8; stroke-opacity:0.1; fill:none\" points=\"219.033,281.543 2352.76,281.543 \"/>\n",
       "<polyline clip-path=\"url(#clip043)\" style=\"stroke:#000000; stroke-linecap:round; stroke-linejoin:round; stroke-width:8; stroke-opacity:0.1; fill:none\" points=\"219.033,222.968 2352.76,222.968 \"/>\n",
       "<polyline clip-path=\"url(#clip043)\" style=\"stroke:#000000; stroke-linecap:round; stroke-linejoin:round; stroke-width:8; stroke-opacity:0.1; fill:none\" points=\"219.033,164.393 2352.76,164.393 \"/>\n",
       "<polyline clip-path=\"url(#clip043)\" style=\"stroke:#000000; stroke-linecap:round; stroke-linejoin:round; stroke-width:8; stroke-opacity:0.1; fill:none\" points=\"219.033,105.819 2352.76,105.819 \"/>\n",
       "<polyline clip-path=\"url(#clip043)\" style=\"stroke:#000000; stroke-linecap:round; stroke-linejoin:round; stroke-width:8; stroke-opacity:0.1; fill:none\" points=\"219.033,47.2441 2352.76,47.2441 \"/>\n",
       "<polyline clip-path=\"url(#clip040)\" style=\"stroke:#000000; stroke-linecap:round; stroke-linejoin:round; stroke-width:4; stroke-opacity:1; fill:none\" points=\"219.033,398.692 219.033,47.2441 \"/>\n",
       "<polyline clip-path=\"url(#clip040)\" style=\"stroke:#000000; stroke-linecap:round; stroke-linejoin:round; stroke-width:4; stroke-opacity:1; fill:none\" points=\"219.033,398.692 237.931,398.692 \"/>\n",
       "<polyline clip-path=\"url(#clip040)\" style=\"stroke:#000000; stroke-linecap:round; stroke-linejoin:round; stroke-width:4; stroke-opacity:1; fill:none\" points=\"219.033,340.117 237.931,340.117 \"/>\n",
       "<polyline clip-path=\"url(#clip040)\" style=\"stroke:#000000; stroke-linecap:round; stroke-linejoin:round; stroke-width:4; stroke-opacity:1; fill:none\" points=\"219.033,281.543 237.931,281.543 \"/>\n",
       "<polyline clip-path=\"url(#clip040)\" style=\"stroke:#000000; stroke-linecap:round; stroke-linejoin:round; stroke-width:4; stroke-opacity:1; fill:none\" points=\"219.033,222.968 237.931,222.968 \"/>\n",
       "<polyline clip-path=\"url(#clip040)\" style=\"stroke:#000000; stroke-linecap:round; stroke-linejoin:round; stroke-width:4; stroke-opacity:1; fill:none\" points=\"219.033,164.393 237.931,164.393 \"/>\n",
       "<polyline clip-path=\"url(#clip040)\" style=\"stroke:#000000; stroke-linecap:round; stroke-linejoin:round; stroke-width:4; stroke-opacity:1; fill:none\" points=\"219.033,105.819 237.931,105.819 \"/>\n",
       "<polyline clip-path=\"url(#clip040)\" style=\"stroke:#000000; stroke-linecap:round; stroke-linejoin:round; stroke-width:4; stroke-opacity:1; fill:none\" points=\"219.033,47.2441 237.931,47.2441 \"/>\n",
       "<path clip-path=\"url(#clip040)\" d=\"M116.181 412.037 L123.82 412.037 L123.82 385.671 L115.51 387.338 L115.51 383.079 L123.774 381.412 L128.45 381.412 L128.45 412.037 L136.089 412.037 L136.089 415.972 L116.181 415.972 L116.181 412.037 Z\" fill=\"#000000\" fill-rule=\"evenodd\" fill-opacity=\"1\" /><path clip-path=\"url(#clip040)\" d=\"M145.533 410.092 L150.417 410.092 L150.417 415.972 L145.533 415.972 L145.533 410.092 Z\" fill=\"#000000\" fill-rule=\"evenodd\" fill-opacity=\"1\" /><path clip-path=\"url(#clip040)\" d=\"M173.45 385.486 L161.644 403.935 L173.45 403.935 L173.45 385.486 M172.223 381.412 L178.102 381.412 L178.102 403.935 L183.033 403.935 L183.033 407.824 L178.102 407.824 L178.102 415.972 L173.45 415.972 L173.45 407.824 L157.848 407.824 L157.848 403.31 L172.223 381.412 Z\" fill=\"#000000\" fill-rule=\"evenodd\" fill-opacity=\"1\" /><path clip-path=\"url(#clip040)\" d=\"M117.663 353.462 L125.302 353.462 L125.302 327.096 L116.992 328.763 L116.992 324.504 L125.255 322.837 L129.931 322.837 L129.931 353.462 L137.57 353.462 L137.57 357.397 L117.663 357.397 L117.663 353.462 Z\" fill=\"#000000\" fill-rule=\"evenodd\" fill-opacity=\"1\" /><path clip-path=\"url(#clip040)\" d=\"M147.015 351.518 L151.899 351.518 L151.899 357.397 L147.015 357.397 L147.015 351.518 Z\" fill=\"#000000\" fill-rule=\"evenodd\" fill-opacity=\"1\" /><path clip-path=\"url(#clip040)\" d=\"M162.13 322.837 L180.487 322.837 L180.487 326.772 L166.413 326.772 L166.413 335.245 Q167.431 334.897 168.45 334.735 Q169.468 334.55 170.487 334.55 Q176.274 334.55 179.653 337.721 Q183.033 340.893 183.033 346.309 Q183.033 351.888 179.561 354.99 Q176.089 358.069 169.769 358.069 Q167.593 358.069 165.325 357.698 Q163.079 357.328 160.672 356.587 L160.672 351.888 Q162.755 353.022 164.977 353.578 Q167.2 354.133 169.677 354.133 Q173.681 354.133 176.019 352.027 Q178.357 349.92 178.357 346.309 Q178.357 342.698 176.019 340.592 Q173.681 338.485 169.677 338.485 Q167.802 338.485 165.927 338.902 Q164.075 339.319 162.13 340.198 L162.13 322.837 Z\" fill=\"#000000\" fill-rule=\"evenodd\" fill-opacity=\"1\" /><path clip-path=\"url(#clip040)\" d=\"M116.506 294.887 L124.144 294.887 L124.144 268.522 L115.834 270.189 L115.834 265.929 L124.098 264.263 L128.774 264.263 L128.774 294.887 L136.413 294.887 L136.413 298.823 L116.506 298.823 L116.506 294.887 Z\" fill=\"#000000\" fill-rule=\"evenodd\" fill-opacity=\"1\" /><path clip-path=\"url(#clip040)\" d=\"M145.857 292.943 L150.741 292.943 L150.741 298.823 L145.857 298.823 L145.857 292.943 Z\" fill=\"#000000\" fill-rule=\"evenodd\" fill-opacity=\"1\" /><path clip-path=\"url(#clip040)\" d=\"M171.505 279.679 Q168.357 279.679 166.505 281.832 Q164.677 283.985 164.677 287.735 Q164.677 291.462 166.505 293.637 Q168.357 295.79 171.505 295.79 Q174.653 295.79 176.482 293.637 Q178.334 291.462 178.334 287.735 Q178.334 283.985 176.482 281.832 Q174.653 279.679 171.505 279.679 M180.788 265.026 L180.788 269.286 Q179.028 268.452 177.223 268.013 Q175.44 267.573 173.681 267.573 Q169.052 267.573 166.598 270.698 Q164.167 273.823 163.82 280.142 Q165.186 278.128 167.246 277.063 Q169.306 275.976 171.783 275.976 Q176.991 275.976 180.001 279.147 Q183.033 282.295 183.033 287.735 Q183.033 293.059 179.885 296.276 Q176.737 299.494 171.505 299.494 Q165.51 299.494 162.339 294.911 Q159.167 290.304 159.167 281.577 Q159.167 273.383 163.056 268.522 Q166.945 263.638 173.496 263.638 Q175.255 263.638 177.038 263.985 Q178.843 264.332 180.788 265.026 Z\" fill=\"#000000\" fill-rule=\"evenodd\" fill-opacity=\"1\" /><path clip-path=\"url(#clip040)\" d=\"M117.57 236.313 L125.209 236.313 L125.209 209.947 L116.899 211.614 L116.899 207.355 L125.163 205.688 L129.839 205.688 L129.839 236.313 L137.478 236.313 L137.478 240.248 L117.57 240.248 L117.57 236.313 Z\" fill=\"#000000\" fill-rule=\"evenodd\" fill-opacity=\"1\" /><path clip-path=\"url(#clip040)\" d=\"M146.922 234.368 L151.806 234.368 L151.806 240.248 L146.922 240.248 L146.922 234.368 Z\" fill=\"#000000\" fill-rule=\"evenodd\" fill-opacity=\"1\" /><path clip-path=\"url(#clip040)\" d=\"M160.811 205.688 L183.033 205.688 L183.033 207.679 L170.487 240.248 L165.602 240.248 L177.408 209.623 L160.811 209.623 L160.811 205.688 Z\" fill=\"#000000\" fill-rule=\"evenodd\" fill-opacity=\"1\" /><path clip-path=\"url(#clip040)\" d=\"M116.76 177.738 L124.399 177.738 L124.399 151.373 L116.089 153.039 L116.089 148.78 L124.353 147.113 L129.029 147.113 L129.029 177.738 L136.667 177.738 L136.667 181.673 L116.76 181.673 L116.76 177.738 Z\" fill=\"#000000\" fill-rule=\"evenodd\" fill-opacity=\"1\" /><path clip-path=\"url(#clip040)\" d=\"M146.112 175.794 L150.996 175.794 L150.996 181.673 L146.112 181.673 L146.112 175.794 Z\" fill=\"#000000\" fill-rule=\"evenodd\" fill-opacity=\"1\" /><path clip-path=\"url(#clip040)\" d=\"M171.181 165.261 Q167.848 165.261 165.927 167.044 Q164.028 168.826 164.028 171.951 Q164.028 175.076 165.927 176.859 Q167.848 178.641 171.181 178.641 Q174.514 178.641 176.436 176.859 Q178.357 175.053 178.357 171.951 Q178.357 168.826 176.436 167.044 Q174.538 165.261 171.181 165.261 M166.505 163.271 Q163.496 162.53 161.806 160.47 Q160.14 158.41 160.14 155.447 Q160.14 151.303 163.079 148.896 Q166.042 146.488 171.181 146.488 Q176.343 146.488 179.283 148.896 Q182.223 151.303 182.223 155.447 Q182.223 158.41 180.533 160.47 Q178.866 162.53 175.88 163.271 Q179.26 164.058 181.135 166.349 Q183.033 168.641 183.033 171.951 Q183.033 176.974 179.954 179.659 Q176.899 182.345 171.181 182.345 Q165.464 182.345 162.385 179.659 Q159.329 176.974 159.329 171.951 Q159.329 168.641 161.227 166.349 Q163.126 164.058 166.505 163.271 M164.792 155.886 Q164.792 158.572 166.459 160.076 Q168.149 161.581 171.181 161.581 Q174.19 161.581 175.88 160.076 Q177.593 158.572 177.593 155.886 Q177.593 153.201 175.88 151.697 Q174.19 150.192 171.181 150.192 Q168.149 150.192 166.459 151.697 Q164.792 153.201 164.792 155.886 Z\" fill=\"#000000\" fill-rule=\"evenodd\" fill-opacity=\"1\" /><path clip-path=\"url(#clip040)\" d=\"M116.853 119.164 L124.492 119.164 L124.492 92.798 L116.181 94.4646 L116.181 90.2054 L124.445 88.5387 L129.121 88.5387 L129.121 119.164 L136.76 119.164 L136.76 123.099 L116.853 123.099 L116.853 119.164 Z\" fill=\"#000000\" fill-rule=\"evenodd\" fill-opacity=\"1\" /><path clip-path=\"url(#clip040)\" d=\"M146.204 117.219 L151.089 117.219 L151.089 123.099 L146.204 123.099 L146.204 117.219 Z\" fill=\"#000000\" fill-rule=\"evenodd\" fill-opacity=\"1\" /><path clip-path=\"url(#clip040)\" d=\"M161.413 122.381 L161.413 118.122 Q163.172 118.955 164.977 119.395 Q166.783 119.835 168.519 119.835 Q173.149 119.835 175.579 116.733 Q178.033 113.608 178.38 107.265 Q177.038 109.256 174.977 110.321 Q172.917 111.386 170.417 111.386 Q165.232 111.386 162.2 108.261 Q159.19 105.113 159.19 99.6729 Q159.19 94.3489 162.339 91.1313 Q165.487 87.9137 170.718 87.9137 Q176.714 87.9137 179.862 92.5202 Q183.033 97.1035 183.033 105.853 Q183.033 114.025 179.144 118.909 Q175.278 123.77 168.727 123.77 Q166.968 123.77 165.163 123.423 Q163.357 123.076 161.413 122.381 M170.718 107.728 Q173.866 107.728 175.695 105.576 Q177.547 103.423 177.547 99.6729 Q177.547 95.9461 175.695 93.7933 Q173.866 91.6174 170.718 91.6174 Q167.57 91.6174 165.718 93.7933 Q163.89 95.9461 163.89 99.6729 Q163.89 103.423 165.718 105.576 Q167.57 107.728 170.718 107.728 Z\" fill=\"#000000\" fill-rule=\"evenodd\" fill-opacity=\"1\" /><path clip-path=\"url(#clip040)\" d=\"M119.885 60.5889 L136.204 60.5889 L136.204 64.5241 L114.26 64.5241 L114.26 60.5889 Q116.922 57.8343 121.505 53.2047 Q126.112 48.552 127.292 47.2094 Q129.538 44.6862 130.417 42.9501 Q131.32 41.1909 131.32 39.5011 Q131.32 36.7465 129.376 35.0104 Q127.455 33.2743 124.353 33.2743 Q122.154 33.2743 119.7 34.0381 Q117.269 34.802 114.492 36.3529 L114.492 31.6308 Q117.316 30.4965 119.769 29.9178 Q122.223 29.3391 124.26 29.3391 Q129.63 29.3391 132.825 32.0243 Q136.019 34.7094 136.019 39.2002 Q136.019 41.3298 135.209 43.2511 Q134.422 45.1492 132.316 47.7418 Q131.737 48.4131 128.635 51.6306 Q125.533 54.8251 119.885 60.5889 Z\" fill=\"#000000\" fill-rule=\"evenodd\" fill-opacity=\"1\" /><path clip-path=\"url(#clip040)\" d=\"M146.019 58.6445 L150.903 58.6445 L150.903 64.5241 L146.019 64.5241 L146.019 58.6445 Z\" fill=\"#000000\" fill-rule=\"evenodd\" fill-opacity=\"1\" /><path clip-path=\"url(#clip040)\" d=\"M171.089 33.0428 Q167.477 33.0428 165.649 36.6076 Q163.843 40.1492 163.843 47.2788 Q163.843 54.3853 165.649 57.9501 Q167.477 61.4917 171.089 61.4917 Q174.723 61.4917 176.528 57.9501 Q178.357 54.3853 178.357 47.2788 Q178.357 40.1492 176.528 36.6076 Q174.723 33.0428 171.089 33.0428 M171.089 29.3391 Q176.899 29.3391 179.954 33.9456 Q183.033 38.5289 183.033 47.2788 Q183.033 56.0056 179.954 60.6121 Q176.899 65.1954 171.089 65.1954 Q165.278 65.1954 162.2 60.6121 Q159.144 56.0056 159.144 47.2788 Q159.144 38.5289 162.2 33.9456 Q165.278 29.3391 171.089 29.3391 Z\" fill=\"#000000\" fill-rule=\"evenodd\" fill-opacity=\"1\" /><path clip-path=\"url(#clip040)\" d=\"M56.6478 277.436 Q60.8023 278.273 63.1856 279.4 Q66.8248 281.236 66.8248 284.296 Q66.8248 286.421 65.6332 288.031 Q64.4094 289.61 62.3804 290.157 Q63.1856 290.769 63.7331 291.316 Q64.2806 291.832 65.1179 292.83 Q65.9231 293.829 66.3739 295.181 Q66.8248 296.502 66.8248 298.015 Q66.8248 299.175 66.5994 300.238 Q66.4062 301.3 65.8587 302.428 Q65.2789 303.523 64.4094 304.328 Q63.5398 305.101 62.1228 305.616 Q60.7057 306.131 58.9022 306.131 Q56.6478 306.131 53.5882 305.262 Q50.5287 304.36 45.0537 302.299 Q42.1551 301.171 40.5448 301.171 Q39.8041 301.171 39.321 301.333 Q38.8379 301.494 38.6769 301.816 Q38.4837 302.105 38.4515 302.299 Q38.3871 302.492 38.3871 302.814 Q38.3871 304.811 40.416 306.55 Q42.445 308.289 46.5673 309.481 Q47.3725 309.738 47.5657 309.899 Q47.759 310.06 47.759 310.543 Q47.7268 311.349 47.0826 311.349 Q46.825 311.349 45.8266 311.059 Q44.796 310.769 43.2823 310.092 Q41.7365 309.384 40.3516 308.418 Q38.9346 307.452 37.9362 305.938 Q36.9378 304.392 36.9378 302.621 Q36.9378 300.205 38.5159 298.724 Q40.0618 297.21 42.3484 297.21 Q43.7654 297.21 46.5029 298.337 Q56.0037 301.912 59.965 301.912 Q65.3434 301.912 65.3434 297.822 Q65.3434 296.469 64.7959 295.213 Q64.2484 293.925 63.4754 293.088 Q62.7025 292.25 61.8651 291.606 Q61.0278 290.93 60.4803 290.64 Q59.9328 290.318 59.804 290.286 L39.9651 285.358 Q39.1922 285.165 38.6769 284.811 Q38.1294 284.424 37.9362 283.974 Q37.7429 283.523 37.7107 283.265 Q37.6463 283.007 37.6463 282.782 Q37.6463 281.977 38.1294 281.429 Q38.6125 280.85 39.4498 280.85 Q39.6109 280.85 40.3838 281.043 Q41.1246 281.204 42.2196 281.461 Q43.2823 281.719 43.8621 281.848 Q47.92 282.879 48.3387 282.975 L55.4562 284.811 Q55.8748 284.908 57.2275 285.23 Q58.5801 285.519 59.2887 285.68 Q59.965 285.841 60.899 286.003 Q61.8007 286.131 62.316 286.131 Q63.9263 286.131 64.6348 285.648 Q65.3434 285.165 65.3434 284.102 Q65.3434 283.104 64.667 282.331 Q63.9585 281.526 62.6059 280.914 Q61.221 280.302 60.0938 279.948 Q58.9666 279.594 57.1953 279.143 Q56.4223 278.982 56.2291 278.853 Q56.0037 278.692 56.0037 278.241 Q56.0037 277.436 56.6478 277.436 Z\" fill=\"#000000\" fill-rule=\"evenodd\" fill-opacity=\"1\" /><path clip-path=\"url(#clip040)\" d=\"M82.5735 221.702 L16.6159 221.702 L16.6159 211.751 L18.1296 211.751 L18.1296 217.29 L81.0598 217.29 L81.0598 211.751 L82.5735 211.751 L82.5735 221.702 Z\" fill=\"#000000\" fill-rule=\"evenodd\" fill-opacity=\"1\" /><path clip-path=\"url(#clip040)\" d=\"M48.6607 160.01 Q49.0472 159.623 49.5947 159.623 Q50.1422 159.623 50.5287 160.01 Q50.9151 160.396 50.9151 160.944 L50.9151 202.232 Q50.9151 202.779 50.5287 203.166 Q50.1422 203.552 49.5947 203.552 Q49.0472 203.552 48.6607 203.166 Q48.2743 202.779 48.2743 202.232 L48.2743 160.944 Q48.2743 160.396 48.6607 160.01 Z\" fill=\"#000000\" fill-rule=\"evenodd\" fill-opacity=\"1\" /><path clip-path=\"url(#clip040)\" d=\"M81.0598 152.738 L81.0598 147.198 L18.1296 147.198 L18.1296 152.738 L16.6159 152.738 L16.6159 142.786 L82.5735 142.786 L82.5735 152.738 L81.0598 152.738 Z\" fill=\"#000000\" fill-rule=\"evenodd\" fill-opacity=\"1\" /><polyline clip-path=\"url(#clip043)\" style=\"stroke:#000000; stroke-linecap:round; stroke-linejoin:round; stroke-width:4; stroke-opacity:1; fill:none\" stroke-dasharray=\"2, 4\" points=\"279.421,-1709.99 356.842,-1709.99 434.263,-1709.99 511.684,-1709.99 589.105,-1709.99 666.526,-1709.99 743.947,-1709.99 821.368,-1709.99 898.789,-1709.99 976.21,-1709.99 1053.63,-1709.99 1131.05,-1709.99 1208.47,-1709.99 1285.89,-1709.99 1363.32,-1709.99 1440.74,-1709.99 1518.16,-1709.99 1595.58,-1709.99 1673,-1709.99 1750.42,-1709.99 1827.84,-1709.99 1905.26,-1709.99 1982.68,-1709.99 2060.1,-1709.99 2137.53,-1709.99 2214.95,-1709.99 2292.37,-1709.99 \"/>\n",
       "<circle clip-path=\"url(#clip043)\" cx=\"279.421\" cy=\"168.504\" r=\"10.8\" fill=\"#000000\" fill-rule=\"evenodd\" fill-opacity=\"1\" stroke=\"none\"/>\n",
       "<circle clip-path=\"url(#clip043)\" cx=\"356.842\" cy=\"76.2367\" r=\"10.8\" fill=\"#000000\" fill-rule=\"evenodd\" fill-opacity=\"1\" stroke=\"none\"/>\n",
       "<circle clip-path=\"url(#clip043)\" cx=\"434.263\" cy=\"115.034\" r=\"10.8\" fill=\"#000000\" fill-rule=\"evenodd\" fill-opacity=\"1\" stroke=\"none\"/>\n",
       "<circle clip-path=\"url(#clip043)\" cx=\"511.684\" cy=\"180.859\" r=\"10.8\" fill=\"#000000\" fill-rule=\"evenodd\" fill-opacity=\"1\" stroke=\"none\"/>\n",
       "<circle clip-path=\"url(#clip043)\" cx=\"589.105\" cy=\"242.03\" r=\"10.8\" fill=\"#000000\" fill-rule=\"evenodd\" fill-opacity=\"1\" stroke=\"none\"/>\n",
       "<circle clip-path=\"url(#clip043)\" cx=\"666.526\" cy=\"281.639\" r=\"10.8\" fill=\"#000000\" fill-rule=\"evenodd\" fill-opacity=\"1\" stroke=\"none\"/>\n",
       "<circle clip-path=\"url(#clip043)\" cx=\"743.947\" cy=\"269.029\" r=\"10.8\" fill=\"#000000\" fill-rule=\"evenodd\" fill-opacity=\"1\" stroke=\"none\"/>\n",
       "<circle clip-path=\"url(#clip043)\" cx=\"821.368\" cy=\"231.329\" r=\"10.8\" fill=\"#000000\" fill-rule=\"evenodd\" fill-opacity=\"1\" stroke=\"none\"/>\n",
       "<circle clip-path=\"url(#clip043)\" cx=\"898.789\" cy=\"237.509\" r=\"10.8\" fill=\"#000000\" fill-rule=\"evenodd\" fill-opacity=\"1\" stroke=\"none\"/>\n",
       "<circle clip-path=\"url(#clip043)\" cx=\"976.21\" cy=\"252.043\" r=\"10.8\" fill=\"#000000\" fill-rule=\"evenodd\" fill-opacity=\"1\" stroke=\"none\"/>\n",
       "<circle clip-path=\"url(#clip043)\" cx=\"1053.63\" cy=\"249.51\" r=\"10.8\" fill=\"#000000\" fill-rule=\"evenodd\" fill-opacity=\"1\" stroke=\"none\"/>\n",
       "<circle clip-path=\"url(#clip043)\" cx=\"1131.05\" cy=\"239.711\" r=\"10.8\" fill=\"#000000\" fill-rule=\"evenodd\" fill-opacity=\"1\" stroke=\"none\"/>\n",
       "<circle clip-path=\"url(#clip043)\" cx=\"1208.47\" cy=\"249.301\" r=\"10.8\" fill=\"#000000\" fill-rule=\"evenodd\" fill-opacity=\"1\" stroke=\"none\"/>\n",
       "<circle clip-path=\"url(#clip043)\" cx=\"1285.89\" cy=\"247.797\" r=\"10.8\" fill=\"#000000\" fill-rule=\"evenodd\" fill-opacity=\"1\" stroke=\"none\"/>\n",
       "<circle clip-path=\"url(#clip043)\" cx=\"1363.32\" cy=\"241.028\" r=\"10.8\" fill=\"#000000\" fill-rule=\"evenodd\" fill-opacity=\"1\" stroke=\"none\"/>\n",
       "<circle clip-path=\"url(#clip043)\" cx=\"1440.74\" cy=\"249.356\" r=\"10.8\" fill=\"#000000\" fill-rule=\"evenodd\" fill-opacity=\"1\" stroke=\"none\"/>\n",
       "<circle clip-path=\"url(#clip043)\" cx=\"1518.16\" cy=\"245.384\" r=\"10.8\" fill=\"#000000\" fill-rule=\"evenodd\" fill-opacity=\"1\" stroke=\"none\"/>\n",
       "<circle clip-path=\"url(#clip043)\" cx=\"1595.58\" cy=\"245.29\" r=\"10.8\" fill=\"#000000\" fill-rule=\"evenodd\" fill-opacity=\"1\" stroke=\"none\"/>\n",
       "<circle clip-path=\"url(#clip043)\" cx=\"1673\" cy=\"246.322\" r=\"10.8\" fill=\"#000000\" fill-rule=\"evenodd\" fill-opacity=\"1\" stroke=\"none\"/>\n",
       "<circle clip-path=\"url(#clip043)\" cx=\"1750.42\" cy=\"245.924\" r=\"10.8\" fill=\"#000000\" fill-rule=\"evenodd\" fill-opacity=\"1\" stroke=\"none\"/>\n",
       "<circle clip-path=\"url(#clip043)\" cx=\"1827.84\" cy=\"245.924\" r=\"10.8\" fill=\"#000000\" fill-rule=\"evenodd\" fill-opacity=\"1\" stroke=\"none\"/>\n",
       "<circle clip-path=\"url(#clip043)\" cx=\"1905.26\" cy=\"245.924\" r=\"10.8\" fill=\"#000000\" fill-rule=\"evenodd\" fill-opacity=\"1\" stroke=\"none\"/>\n",
       "<circle clip-path=\"url(#clip043)\" cx=\"1982.68\" cy=\"245.924\" r=\"10.8\" fill=\"#000000\" fill-rule=\"evenodd\" fill-opacity=\"1\" stroke=\"none\"/>\n",
       "<circle clip-path=\"url(#clip043)\" cx=\"2060.1\" cy=\"245.924\" r=\"10.8\" fill=\"#000000\" fill-rule=\"evenodd\" fill-opacity=\"1\" stroke=\"none\"/>\n",
       "<circle clip-path=\"url(#clip043)\" cx=\"2137.53\" cy=\"245.924\" r=\"10.8\" fill=\"#000000\" fill-rule=\"evenodd\" fill-opacity=\"1\" stroke=\"none\"/>\n",
       "<circle clip-path=\"url(#clip043)\" cx=\"2214.95\" cy=\"245.924\" r=\"10.8\" fill=\"#000000\" fill-rule=\"evenodd\" fill-opacity=\"1\" stroke=\"none\"/>\n",
       "<circle clip-path=\"url(#clip043)\" cx=\"2292.37\" cy=\"245.924\" r=\"10.8\" fill=\"#000000\" fill-rule=\"evenodd\" fill-opacity=\"1\" stroke=\"none\"/>\n",
       "<polyline clip-path=\"url(#clip043)\" style=\"stroke:#000000; stroke-linecap:round; stroke-linejoin:round; stroke-width:12; stroke-opacity:1; fill:none\" points=\"279.421,168.504 279.421,76.2367 356.842,76.2367 356.842,115.034 434.263,115.034 434.263,180.859 511.684,180.859 511.684,242.03 589.105,242.03 589.105,281.639 666.526,281.639 666.526,269.029 743.947,269.029 743.947,231.329 821.368,231.329 821.368,237.509 898.789,237.509 898.789,252.043 976.21,252.043 976.21,249.51 1053.63,249.51 1053.63,239.711 1131.05,239.711 1131.05,249.301 1208.47,249.301 1208.47,247.797 1285.89,247.797 1285.89,241.028 1363.32,241.028 1363.32,249.356 1440.74,249.356 1440.74,245.384 1518.16,245.384 1518.16,245.29 1595.58,245.29 1595.58,246.322 1673,246.322 1673,245.924 1750.42,245.924 1827.84,245.924 1905.26,245.924 1982.68,245.924 2060.1,245.924 2137.53,245.924 2214.95,245.924 2292.37,245.924 \"/>\n",
       "<path clip-path=\"url(#clip043)\" d=\"M267.421 156.539 L267.421 180.539 L291.421 180.539 L291.421 156.539 L267.421 156.539 Z\" fill=\"#000000\" fill-rule=\"evenodd\" fill-opacity=\"1\" stroke=\"none\"/>\n",
       "<path clip-path=\"url(#clip043)\" d=\"M344.842 64.2692 L344.842 88.2692 L368.842 88.2692 L368.842 64.2692 L344.842 64.2692 Z\" fill=\"#000000\" fill-rule=\"evenodd\" fill-opacity=\"1\" stroke=\"none\"/>\n",
       "<path clip-path=\"url(#clip043)\" d=\"M422.263 103.043 L422.263 127.043 L446.263 127.043 L446.263 103.043 L422.263 103.043 Z\" fill=\"#000000\" fill-rule=\"evenodd\" fill-opacity=\"1\" stroke=\"none\"/>\n",
       "<path clip-path=\"url(#clip043)\" d=\"M499.684 168.84 L499.684 192.84 L523.684 192.84 L523.684 168.84 L499.684 168.84 Z\" fill=\"#000000\" fill-rule=\"evenodd\" fill-opacity=\"1\" stroke=\"none\"/>\n",
       "<path clip-path=\"url(#clip043)\" d=\"M577.105 230 L577.105 254 L601.105 254 L601.105 230 L577.105 230 Z\" fill=\"#000000\" fill-rule=\"evenodd\" fill-opacity=\"1\" stroke=\"none\"/>\n",
       "<path clip-path=\"url(#clip043)\" d=\"M654.526 269.644 L654.526 293.644 L678.526 293.644 L678.526 269.644 L654.526 269.644 Z\" fill=\"#000000\" fill-rule=\"evenodd\" fill-opacity=\"1\" stroke=\"none\"/>\n",
       "<path clip-path=\"url(#clip043)\" d=\"M731.947 257.058 L731.947 281.058 L755.947 281.058 L755.947 257.058 L731.947 257.058 Z\" fill=\"#000000\" fill-rule=\"evenodd\" fill-opacity=\"1\" stroke=\"none\"/>\n",
       "<path clip-path=\"url(#clip043)\" d=\"M809.368 219.324 L809.368 243.324 L833.368 243.324 L833.368 219.324 L809.368 219.324 Z\" fill=\"#000000\" fill-rule=\"evenodd\" fill-opacity=\"1\" stroke=\"none\"/>\n",
       "<path clip-path=\"url(#clip043)\" d=\"M886.789 225.495 L886.789 249.495 L910.789 249.495 L910.789 225.495 L886.789 225.495 Z\" fill=\"#000000\" fill-rule=\"evenodd\" fill-opacity=\"1\" stroke=\"none\"/>\n",
       "<path clip-path=\"url(#clip043)\" d=\"M964.21 240.042 L964.21 264.042 L988.21 264.042 L988.21 240.042 L964.21 240.042 Z\" fill=\"#000000\" fill-rule=\"evenodd\" fill-opacity=\"1\" stroke=\"none\"/>\n",
       "<path clip-path=\"url(#clip043)\" d=\"M1041.63 237.525 L1041.63 261.525 L1065.63 261.525 L1065.63 237.525 L1041.63 237.525 Z\" fill=\"#000000\" fill-rule=\"evenodd\" fill-opacity=\"1\" stroke=\"none\"/>\n",
       "<path clip-path=\"url(#clip043)\" d=\"M1119.05 227.7 L1119.05 251.7 L1143.05 251.7 L1143.05 227.7 L1119.05 227.7 Z\" fill=\"#000000\" fill-rule=\"evenodd\" fill-opacity=\"1\" stroke=\"none\"/>\n",
       "<path clip-path=\"url(#clip043)\" d=\"M1196.47 237.302 L1196.47 261.302 L1220.47 261.302 L1220.47 237.302 L1196.47 237.302 Z\" fill=\"#000000\" fill-rule=\"evenodd\" fill-opacity=\"1\" stroke=\"none\"/>\n",
       "<path clip-path=\"url(#clip043)\" d=\"M1273.89 235.805 L1273.89 259.805 L1297.89 259.805 L1297.89 235.805 L1273.89 235.805 Z\" fill=\"#000000\" fill-rule=\"evenodd\" fill-opacity=\"1\" stroke=\"none\"/>\n",
       "<path clip-path=\"url(#clip043)\" d=\"M1351.32 229.02 L1351.32 253.02 L1375.32 253.02 L1375.32 229.02 L1351.32 229.02 Z\" fill=\"#000000\" fill-rule=\"evenodd\" fill-opacity=\"1\" stroke=\"none\"/>\n",
       "<path clip-path=\"url(#clip043)\" d=\"M1428.74 237.361 L1428.74 261.361 L1452.74 261.361 L1452.74 237.361 L1428.74 237.361 Z\" fill=\"#000000\" fill-rule=\"evenodd\" fill-opacity=\"1\" stroke=\"none\"/>\n",
       "<path clip-path=\"url(#clip043)\" d=\"M1506.16 233.382 L1506.16 257.382 L1530.16 257.382 L1530.16 233.382 L1506.16 233.382 Z\" fill=\"#000000\" fill-rule=\"evenodd\" fill-opacity=\"1\" stroke=\"none\"/>\n",
       "<path clip-path=\"url(#clip043)\" d=\"M1583.58 233.29 L1583.58 257.29 L1607.58 257.29 L1607.58 233.29 L1583.58 233.29 Z\" fill=\"#000000\" fill-rule=\"evenodd\" fill-opacity=\"1\" stroke=\"none\"/>\n",
       "<path clip-path=\"url(#clip043)\" d=\"M1661 234.322 L1661 258.322 L1685 258.322 L1685 234.322 L1661 234.322 Z\" fill=\"#000000\" fill-rule=\"evenodd\" fill-opacity=\"1\" stroke=\"none\"/>\n",
       "<path clip-path=\"url(#clip043)\" d=\"M1738.42 233.924 L1738.42 257.924 L1762.42 257.924 L1762.42 233.924 L1738.42 233.924 Z\" fill=\"#000000\" fill-rule=\"evenodd\" fill-opacity=\"1\" stroke=\"none\"/>\n",
       "<path clip-path=\"url(#clip043)\" d=\"M1815.84 233.924 L1815.84 257.924 L1839.84 257.924 L1839.84 233.924 L1815.84 233.924 Z\" fill=\"#000000\" fill-rule=\"evenodd\" fill-opacity=\"1\" stroke=\"none\"/>\n",
       "<path clip-path=\"url(#clip043)\" d=\"M1893.26 233.924 L1893.26 257.924 L1917.26 257.924 L1917.26 233.924 L1893.26 233.924 Z\" fill=\"#000000\" fill-rule=\"evenodd\" fill-opacity=\"1\" stroke=\"none\"/>\n",
       "<path clip-path=\"url(#clip043)\" d=\"M1970.68 233.924 L1970.68 257.924 L1994.68 257.924 L1994.68 233.924 L1970.68 233.924 Z\" fill=\"#000000\" fill-rule=\"evenodd\" fill-opacity=\"1\" stroke=\"none\"/>\n",
       "<path clip-path=\"url(#clip043)\" d=\"M2048.1 233.924 L2048.1 257.924 L2072.1 257.924 L2072.1 233.924 L2048.1 233.924 Z\" fill=\"#000000\" fill-rule=\"evenodd\" fill-opacity=\"1\" stroke=\"none\"/>\n",
       "<path clip-path=\"url(#clip043)\" d=\"M2125.53 233.924 L2125.53 257.924 L2149.53 257.924 L2149.53 233.924 L2125.53 233.924 Z\" fill=\"#000000\" fill-rule=\"evenodd\" fill-opacity=\"1\" stroke=\"none\"/>\n",
       "<path clip-path=\"url(#clip043)\" d=\"M2202.95 233.924 L2202.95 257.924 L2226.95 257.924 L2226.95 233.924 L2202.95 233.924 Z\" fill=\"#000000\" fill-rule=\"evenodd\" fill-opacity=\"1\" stroke=\"none\"/>\n",
       "<path clip-path=\"url(#clip043)\" d=\"M2280.37 233.924 L2280.37 257.924 L2304.37 257.924 L2304.37 233.924 L2280.37 233.924 Z\" fill=\"#000000\" fill-rule=\"evenodd\" fill-opacity=\"1\" stroke=\"none\"/>\n",
       "<polyline clip-path=\"url(#clip043)\" style=\"stroke:#000000; stroke-linecap:round; stroke-linejoin:round; stroke-width:12; stroke-opacity:1; fill:none\" stroke-dasharray=\"48, 24, 6, 24\" points=\"279.421,168.539 279.421,76.2692 356.842,76.2692 356.842,115.043 434.263,115.043 434.263,180.84 511.684,180.84 511.684,242 589.105,242 589.105,281.644 666.526,281.644 666.526,269.058 743.947,269.058 743.947,231.324 821.368,231.324 821.368,237.495 898.789,237.495 898.789,252.042 976.21,252.042 976.21,249.525 1053.63,249.525 1053.63,239.7 1131.05,239.7 1131.05,249.302 1208.47,249.302 1208.47,247.805 1285.89,247.805 1285.89,241.02 1363.32,241.02 1363.32,249.361 1440.74,249.361 1440.74,245.382 1518.16,245.382 1518.16,245.29 1595.58,245.29 1595.58,246.322 1673,246.322 1673,245.924 1750.42,245.924 1827.84,245.924 1905.26,245.924 1982.68,245.924 2060.1,245.924 2137.53,245.924 2214.95,245.924 2292.37,245.924 \"/>\n",
       "<path clip-path=\"url(#clip040)\" d=\"M1934.83 266.319 L2281.63 266.319 L2281.63 58.959 L1934.83 58.959  Z\" fill=\"#ffffff\" fill-rule=\"evenodd\" fill-opacity=\"1\"/>\n",
       "<polyline clip-path=\"url(#clip040)\" style=\"stroke:#000000; stroke-linecap:round; stroke-linejoin:round; stroke-width:4; stroke-opacity:1; fill:none\" points=\"1934.83,266.319 2281.63,266.319 2281.63,58.959 1934.83,58.959 1934.83,266.319 \"/>\n",
       "<polyline clip-path=\"url(#clip040)\" style=\"stroke:#000000; stroke-linecap:round; stroke-linejoin:round; stroke-width:4; stroke-opacity:1; fill:none\" stroke-dasharray=\"2, 4\" points=\"1958.54,110.799 2100.79,110.799 \"/>\n",
       "<path clip-path=\"url(#clip040)\" d=\"M2124.5 93.519 L2129.17 93.519 L2129.17 124.144 L2146 124.144 L2146 128.079 L2124.5 128.079 L2124.5 93.519 Z\" fill=\"#000000\" fill-rule=\"evenodd\" fill-opacity=\"1\" /><path clip-path=\"url(#clip040)\" d=\"M2150.73 102.153 L2154.98 102.153 L2154.98 128.079 L2150.73 128.079 L2150.73 102.153 M2150.73 92.0607 L2154.98 92.0607 L2154.98 97.4542 L2150.73 97.4542 L2150.73 92.0607 Z\" fill=\"#000000\" fill-rule=\"evenodd\" fill-opacity=\"1\" /><path clip-path=\"url(#clip040)\" d=\"M2184.08 107.13 Q2185.68 104.26 2187.9 102.894 Q2190.12 101.528 2193.13 101.528 Q2197.18 101.528 2199.38 104.375 Q2201.58 107.2 2201.58 112.431 L2201.58 128.079 L2197.3 128.079 L2197.3 112.57 Q2197.3 108.843 2195.98 107.037 Q2194.66 105.232 2191.95 105.232 Q2188.64 105.232 2186.72 107.431 Q2184.8 109.63 2184.8 113.426 L2184.8 128.079 L2180.52 128.079 L2180.52 112.57 Q2180.52 108.82 2179.2 107.037 Q2177.88 105.232 2175.12 105.232 Q2171.86 105.232 2169.94 107.454 Q2168.02 109.653 2168.02 113.426 L2168.02 128.079 L2163.73 128.079 L2163.73 102.153 L2168.02 102.153 L2168.02 106.181 Q2169.48 103.797 2171.51 102.662 Q2173.55 101.528 2176.35 101.528 Q2179.17 101.528 2181.14 102.963 Q2183.13 104.399 2184.08 107.13 Z\" fill=\"#000000\" fill-rule=\"evenodd\" fill-opacity=\"1\" /><path clip-path=\"url(#clip040)\" d=\"M2210.08 102.153 L2214.34 102.153 L2214.34 128.079 L2210.08 128.079 L2210.08 102.153 M2210.08 92.0607 L2214.34 92.0607 L2214.34 97.4542 L2210.08 97.4542 L2210.08 92.0607 Z\" fill=\"#000000\" fill-rule=\"evenodd\" fill-opacity=\"1\" /><path clip-path=\"url(#clip040)\" d=\"M2227.46 94.7922 L2227.46 102.153 L2236.23 102.153 L2236.23 105.463 L2227.46 105.463 L2227.46 119.537 Q2227.46 122.709 2228.32 123.611 Q2229.2 124.514 2231.86 124.514 L2236.23 124.514 L2236.23 128.079 L2231.86 128.079 Q2226.93 128.079 2225.05 126.25 Q2223.18 124.398 2223.18 119.537 L2223.18 105.463 L2220.05 105.463 L2220.05 102.153 L2223.18 102.153 L2223.18 94.7922 L2227.46 94.7922 Z\" fill=\"#000000\" fill-rule=\"evenodd\" fill-opacity=\"1\" /><polyline clip-path=\"url(#clip040)\" style=\"stroke:#000000; stroke-linecap:round; stroke-linejoin:round; stroke-width:12; stroke-opacity:1; fill:none\" points=\"1958.54,162.639 2100.79,162.639 \"/>\n",
       "<path clip-path=\"url(#clip040)\" d=\"M2124.5 145.359 L2131.47 145.359 L2140.29 168.877 L2149.15 145.359 L2156.12 145.359 L2156.12 179.919 L2151.56 179.919 L2151.56 149.572 L2142.65 173.276 L2137.95 173.276 L2129.04 149.572 L2129.04 179.919 L2124.5 179.919 L2124.5 145.359 Z\" fill=\"#000000\" fill-rule=\"evenodd\" fill-opacity=\"1\" /><path clip-path=\"url(#clip040)\" d=\"M2175.26 156.979 Q2171.84 156.979 2169.85 159.664 Q2167.85 162.327 2167.85 166.979 Q2167.85 171.632 2169.82 174.317 Q2171.81 176.979 2175.26 176.979 Q2178.66 176.979 2180.66 174.294 Q2182.65 171.609 2182.65 166.979 Q2182.65 162.373 2180.66 159.688 Q2178.66 156.979 2175.26 156.979 M2175.26 153.368 Q2180.82 153.368 2183.99 156.979 Q2187.16 160.59 2187.16 166.979 Q2187.16 173.345 2183.99 176.979 Q2180.82 180.59 2175.26 180.59 Q2169.68 180.59 2166.51 176.979 Q2163.36 173.345 2163.36 166.979 Q2163.36 160.59 2166.51 156.979 Q2169.68 153.368 2175.26 153.368 Z\" fill=\"#000000\" fill-rule=\"evenodd\" fill-opacity=\"1\" /><path clip-path=\"url(#clip040)\" d=\"M2215.77 164.271 L2215.77 179.919 L2211.51 179.919 L2211.51 164.41 Q2211.51 160.729 2210.08 158.901 Q2208.64 157.072 2205.77 157.072 Q2202.32 157.072 2200.33 159.271 Q2198.34 161.47 2198.34 165.266 L2198.34 179.919 L2194.06 179.919 L2194.06 153.993 L2198.34 153.993 L2198.34 158.021 Q2199.87 155.683 2201.93 154.526 Q2204.01 153.368 2206.72 153.368 Q2211.19 153.368 2213.48 156.146 Q2215.77 158.901 2215.77 164.271 Z\" fill=\"#000000\" fill-rule=\"evenodd\" fill-opacity=\"1\" /><path clip-path=\"url(#clip040)\" d=\"M2234.31 156.979 Q2230.89 156.979 2228.9 159.664 Q2226.91 162.327 2226.91 166.979 Q2226.91 171.632 2228.87 174.317 Q2230.86 176.979 2234.31 176.979 Q2237.72 176.979 2239.71 174.294 Q2241.7 171.609 2241.7 166.979 Q2241.7 162.373 2239.71 159.688 Q2237.72 156.979 2234.31 156.979 M2234.31 153.368 Q2239.87 153.368 2243.04 156.979 Q2246.21 160.59 2246.21 166.979 Q2246.21 173.345 2243.04 176.979 Q2239.87 180.59 2234.31 180.59 Q2228.73 180.59 2225.56 176.979 Q2222.41 173.345 2222.41 166.979 Q2222.41 160.59 2225.56 156.979 Q2228.73 153.368 2234.31 153.368 Z\" fill=\"#000000\" fill-rule=\"evenodd\" fill-opacity=\"1\" /><path clip-path=\"url(#clip040)\" d=\"M2253.04 174.039 L2257.92 174.039 L2257.92 179.919 L2253.04 179.919 L2253.04 174.039 Z\" fill=\"#000000\" fill-rule=\"evenodd\" fill-opacity=\"1\" /><polyline clip-path=\"url(#clip040)\" style=\"stroke:#000000; stroke-linecap:round; stroke-linejoin:round; stroke-width:12; stroke-opacity:1; fill:none\" stroke-dasharray=\"48, 24, 6, 24\" points=\"1958.54,214.479 2100.79,214.479 \"/>\n",
       "<path clip-path=\"url(#clip040)\" d=\"M2129.17 201.042 L2129.17 227.916 L2134.82 227.916 Q2141.98 227.916 2145.29 224.676 Q2148.62 221.435 2148.62 214.444 Q2148.62 207.5 2145.29 204.282 Q2141.98 201.042 2134.82 201.042 L2129.17 201.042 M2124.5 197.199 L2134.1 197.199 Q2144.15 197.199 2148.85 201.389 Q2153.55 205.555 2153.55 214.444 Q2153.55 223.379 2148.83 227.569 Q2144.1 231.759 2134.1 231.759 L2124.5 231.759 L2124.5 197.199 Z\" fill=\"#000000\" fill-rule=\"evenodd\" fill-opacity=\"1\" /><path clip-path=\"url(#clip040)\" d=\"M2182.99 217.731 L2182.99 219.815 L2163.41 219.815 Q2163.69 224.213 2166.05 226.528 Q2168.43 228.819 2172.67 228.819 Q2175.12 228.819 2177.41 228.217 Q2179.73 227.616 2182 226.412 L2182 230.44 Q2179.71 231.412 2177.3 231.921 Q2174.89 232.43 2172.41 232.43 Q2166.21 232.43 2162.58 228.819 Q2158.97 225.208 2158.97 219.051 Q2158.97 212.685 2162.39 208.958 Q2165.84 205.208 2171.67 205.208 Q2176.91 205.208 2179.94 208.588 Q2182.99 211.944 2182.99 217.731 M2178.73 216.481 Q2178.69 212.986 2176.77 210.903 Q2174.87 208.819 2171.72 208.819 Q2168.16 208.819 2166 210.833 Q2163.87 212.847 2163.55 216.504 L2178.73 216.481 Z\" fill=\"#000000\" fill-rule=\"evenodd\" fill-opacity=\"1\" /><path clip-path=\"url(#clip040)\" d=\"M2208.64 206.829 L2208.64 210.81 Q2206.84 209.815 2205.01 209.329 Q2203.2 208.819 2201.35 208.819 Q2197.21 208.819 2194.91 211.458 Q2192.62 214.074 2192.62 218.819 Q2192.62 223.565 2194.91 226.203 Q2197.21 228.819 2201.35 228.819 Q2203.2 228.819 2205.01 228.333 Q2206.84 227.824 2208.64 226.828 L2208.64 230.764 Q2206.86 231.597 2204.94 232.014 Q2203.04 232.43 2200.89 232.43 Q2195.03 232.43 2191.58 228.75 Q2188.13 225.069 2188.13 218.819 Q2188.13 212.477 2191.6 208.842 Q2195.1 205.208 2201.16 205.208 Q2203.13 205.208 2205.01 205.625 Q2206.88 206.018 2208.64 206.829 Z\" fill=\"#000000\" fill-rule=\"evenodd\" fill-opacity=\"1\" /><path clip-path=\"url(#clip040)\" d=\"M2226.1 208.819 Q2222.67 208.819 2220.68 211.504 Q2218.69 214.167 2218.69 218.819 Q2218.69 223.472 2220.66 226.157 Q2222.65 228.819 2226.1 228.819 Q2229.5 228.819 2231.49 226.134 Q2233.48 223.449 2233.48 218.819 Q2233.48 214.213 2231.49 211.528 Q2229.5 208.819 2226.1 208.819 M2226.1 205.208 Q2231.65 205.208 2234.82 208.819 Q2237.99 212.43 2237.99 218.819 Q2237.99 225.185 2234.82 228.819 Q2231.65 232.43 2226.1 232.43 Q2220.52 232.43 2217.35 228.819 Q2214.2 225.185 2214.2 218.819 Q2214.2 212.43 2217.35 208.819 Q2220.52 205.208 2226.1 205.208 Z\" fill=\"#000000\" fill-rule=\"evenodd\" fill-opacity=\"1\" /><path clip-path=\"url(#clip040)\" d=\"M2244.82 225.879 L2249.71 225.879 L2249.71 231.759 L2244.82 231.759 L2244.82 225.879 Z\" fill=\"#000000\" fill-rule=\"evenodd\" fill-opacity=\"1\" /><path clip-path=\"url(#clip040)\" d=\"M219.033 910.936 L2352.76 910.936 L2352.76 559.488 L219.033 559.488  Z\" fill=\"#ffffff\" fill-rule=\"evenodd\" fill-opacity=\"1\"/>\n",
       "<defs>\n",
       "  <clipPath id=\"clip044\">\n",
       "    <rect x=\"219\" y=\"559\" width=\"2135\" height=\"352\"/>\n",
       "  </clipPath>\n",
       "</defs>\n",
       "<polyline clip-path=\"url(#clip044)\" style=\"stroke:#000000; stroke-linecap:round; stroke-linejoin:round; stroke-width:8; stroke-opacity:0.1; fill:none\" points=\"589.105,910.936 589.105,559.488 \"/>\n",
       "<polyline clip-path=\"url(#clip044)\" style=\"stroke:#000000; stroke-linecap:round; stroke-linejoin:round; stroke-width:8; stroke-opacity:0.1; fill:none\" points=\"976.21,910.936 976.21,559.488 \"/>\n",
       "<polyline clip-path=\"url(#clip044)\" style=\"stroke:#000000; stroke-linecap:round; stroke-linejoin:round; stroke-width:8; stroke-opacity:0.1; fill:none\" points=\"1363.32,910.936 1363.32,559.488 \"/>\n",
       "<polyline clip-path=\"url(#clip044)\" style=\"stroke:#000000; stroke-linecap:round; stroke-linejoin:round; stroke-width:8; stroke-opacity:0.1; fill:none\" points=\"1750.42,910.936 1750.42,559.488 \"/>\n",
       "<polyline clip-path=\"url(#clip044)\" style=\"stroke:#000000; stroke-linecap:round; stroke-linejoin:round; stroke-width:8; stroke-opacity:0.1; fill:none\" points=\"2137.53,910.936 2137.53,559.488 \"/>\n",
       "<polyline clip-path=\"url(#clip040)\" style=\"stroke:#000000; stroke-linecap:round; stroke-linejoin:round; stroke-width:4; stroke-opacity:1; fill:none\" points=\"219.033,910.936 2352.76,910.936 \"/>\n",
       "<polyline clip-path=\"url(#clip040)\" style=\"stroke:#000000; stroke-linecap:round; stroke-linejoin:round; stroke-width:4; stroke-opacity:1; fill:none\" points=\"589.105,910.936 589.105,892.038 \"/>\n",
       "<polyline clip-path=\"url(#clip040)\" style=\"stroke:#000000; stroke-linecap:round; stroke-linejoin:round; stroke-width:4; stroke-opacity:1; fill:none\" points=\"976.21,910.936 976.21,892.038 \"/>\n",
       "<polyline clip-path=\"url(#clip040)\" style=\"stroke:#000000; stroke-linecap:round; stroke-linejoin:round; stroke-width:4; stroke-opacity:1; fill:none\" points=\"1363.32,910.936 1363.32,892.038 \"/>\n",
       "<polyline clip-path=\"url(#clip040)\" style=\"stroke:#000000; stroke-linecap:round; stroke-linejoin:round; stroke-width:4; stroke-opacity:1; fill:none\" points=\"1750.42,910.936 1750.42,892.038 \"/>\n",
       "<polyline clip-path=\"url(#clip040)\" style=\"stroke:#000000; stroke-linecap:round; stroke-linejoin:round; stroke-width:4; stroke-opacity:1; fill:none\" points=\"2137.53,910.936 2137.53,892.038 \"/>\n",
       "<path clip-path=\"url(#clip040)\" d=\"M579.383 938.776 L597.74 938.776 L597.74 942.711 L583.666 942.711 L583.666 951.183 Q584.684 950.836 585.703 950.674 Q586.721 950.489 587.74 950.489 Q593.527 950.489 596.906 953.66 Q600.286 956.831 600.286 962.248 Q600.286 967.827 596.814 970.928 Q593.341 974.007 587.022 974.007 Q584.846 974.007 582.578 973.637 Q580.332 973.266 577.925 972.526 L577.925 967.827 Q580.008 968.961 582.23 969.516 Q584.453 970.072 586.929 970.072 Q590.934 970.072 593.272 967.966 Q595.61 965.859 595.61 962.248 Q595.61 958.637 593.272 956.53 Q590.934 954.424 586.929 954.424 Q585.054 954.424 583.179 954.841 Q581.328 955.257 579.383 956.137 L579.383 938.776 Z\" fill=\"#000000\" fill-rule=\"evenodd\" fill-opacity=\"1\" /><path clip-path=\"url(#clip040)\" d=\"M950.898 969.401 L958.537 969.401 L958.537 943.035 L950.227 944.702 L950.227 940.443 L958.491 938.776 L963.166 938.776 L963.166 969.401 L970.805 969.401 L970.805 973.336 L950.898 973.336 L950.898 969.401 Z\" fill=\"#000000\" fill-rule=\"evenodd\" fill-opacity=\"1\" /><path clip-path=\"url(#clip040)\" d=\"M990.25 941.855 Q986.639 941.855 984.81 945.419 Q983.004 948.961 983.004 956.091 Q983.004 963.197 984.81 966.762 Q986.639 970.303 990.25 970.303 Q993.884 970.303 995.689 966.762 Q997.518 963.197 997.518 956.091 Q997.518 948.961 995.689 945.419 Q993.884 941.855 990.25 941.855 M990.25 938.151 Q996.06 938.151 999.115 942.757 Q1002.19 947.341 1002.19 956.091 Q1002.19 964.817 999.115 969.424 Q996.06 974.007 990.25 974.007 Q984.44 974.007 981.361 969.424 Q978.305 964.817 978.305 956.091 Q978.305 947.341 981.361 942.757 Q984.44 938.151 990.25 938.151 Z\" fill=\"#000000\" fill-rule=\"evenodd\" fill-opacity=\"1\" /><path clip-path=\"url(#clip040)\" d=\"M1338.5 969.401 L1346.14 969.401 L1346.14 943.035 L1337.83 944.702 L1337.83 940.443 L1346.09 938.776 L1350.77 938.776 L1350.77 969.401 L1358.41 969.401 L1358.41 973.336 L1338.5 973.336 L1338.5 969.401 Z\" fill=\"#000000\" fill-rule=\"evenodd\" fill-opacity=\"1\" /><path clip-path=\"url(#clip040)\" d=\"M1367.9 938.776 L1386.26 938.776 L1386.26 942.711 L1372.18 942.711 L1372.18 951.183 Q1373.2 950.836 1374.22 950.674 Q1375.24 950.489 1376.26 950.489 Q1382.04 950.489 1385.42 953.66 Q1388.8 956.831 1388.8 962.248 Q1388.8 967.827 1385.33 970.928 Q1381.86 974.007 1375.54 974.007 Q1373.36 974.007 1371.09 973.637 Q1368.85 973.266 1366.44 972.526 L1366.44 967.827 Q1368.52 968.961 1370.75 969.516 Q1372.97 970.072 1375.44 970.072 Q1379.45 970.072 1381.79 967.966 Q1384.13 965.859 1384.13 962.248 Q1384.13 958.637 1381.79 956.53 Q1379.45 954.424 1375.44 954.424 Q1373.57 954.424 1371.7 954.841 Q1369.84 955.257 1367.9 956.137 L1367.9 938.776 Z\" fill=\"#000000\" fill-rule=\"evenodd\" fill-opacity=\"1\" /><path clip-path=\"url(#clip040)\" d=\"M1729.19 969.401 L1745.51 969.401 L1745.51 973.336 L1723.57 973.336 L1723.57 969.401 Q1726.23 966.646 1730.81 962.016 Q1735.42 957.364 1736.6 956.021 Q1738.85 953.498 1739.73 951.762 Q1740.63 950.003 1740.63 948.313 Q1740.63 945.558 1738.68 943.822 Q1736.76 942.086 1733.66 942.086 Q1731.46 942.086 1729.01 942.85 Q1726.58 943.614 1723.8 945.165 L1723.8 940.443 Q1726.62 939.308 1729.08 938.73 Q1731.53 938.151 1733.57 938.151 Q1738.94 938.151 1742.13 940.836 Q1745.33 943.521 1745.33 948.012 Q1745.33 950.142 1744.52 952.063 Q1743.73 953.961 1741.62 956.554 Q1741.05 957.225 1737.94 960.442 Q1734.84 963.637 1729.19 969.401 Z\" fill=\"#000000\" fill-rule=\"evenodd\" fill-opacity=\"1\" /><path clip-path=\"url(#clip040)\" d=\"M1765.33 941.855 Q1761.72 941.855 1759.89 945.419 Q1758.08 948.961 1758.08 956.091 Q1758.08 963.197 1759.89 966.762 Q1761.72 970.303 1765.33 970.303 Q1768.96 970.303 1770.77 966.762 Q1772.6 963.197 1772.6 956.091 Q1772.6 948.961 1770.77 945.419 Q1768.96 941.855 1765.33 941.855 M1765.33 938.151 Q1771.14 938.151 1774.19 942.757 Q1777.27 947.341 1777.27 956.091 Q1777.27 964.817 1774.19 969.424 Q1771.14 974.007 1765.33 974.007 Q1759.52 974.007 1756.44 969.424 Q1753.38 964.817 1753.38 956.091 Q1753.38 947.341 1756.44 942.757 Q1759.52 938.151 1765.33 938.151 Z\" fill=\"#000000\" fill-rule=\"evenodd\" fill-opacity=\"1\" /><path clip-path=\"url(#clip040)\" d=\"M2116.8 969.401 L2133.12 969.401 L2133.12 973.336 L2111.17 973.336 L2111.17 969.401 Q2113.83 966.646 2118.42 962.016 Q2123.02 957.364 2124.2 956.021 Q2126.45 953.498 2127.33 951.762 Q2128.23 950.003 2128.23 948.313 Q2128.23 945.558 2126.29 943.822 Q2124.37 942.086 2121.26 942.086 Q2119.06 942.086 2116.61 942.85 Q2114.18 943.614 2111.4 945.165 L2111.4 940.443 Q2114.23 939.308 2116.68 938.73 Q2119.13 938.151 2121.17 938.151 Q2126.54 938.151 2129.74 940.836 Q2132.93 943.521 2132.93 948.012 Q2132.93 950.142 2132.12 952.063 Q2131.33 953.961 2129.23 956.554 Q2128.65 957.225 2125.55 960.442 Q2122.44 963.637 2116.8 969.401 Z\" fill=\"#000000\" fill-rule=\"evenodd\" fill-opacity=\"1\" /><path clip-path=\"url(#clip040)\" d=\"M2142.98 938.776 L2161.33 938.776 L2161.33 942.711 L2147.26 942.711 L2147.26 951.183 Q2148.28 950.836 2149.3 950.674 Q2150.31 950.489 2151.33 950.489 Q2157.12 950.489 2160.5 953.66 Q2163.88 956.831 2163.88 962.248 Q2163.88 967.827 2160.41 970.928 Q2156.94 974.007 2150.62 974.007 Q2148.44 974.007 2146.17 973.637 Q2143.93 973.266 2141.52 972.526 L2141.52 967.827 Q2143.6 968.961 2145.82 969.516 Q2148.05 970.072 2150.52 970.072 Q2154.53 970.072 2156.87 967.966 Q2159.2 965.859 2159.2 962.248 Q2159.2 958.637 2156.87 956.53 Q2154.53 954.424 2150.52 954.424 Q2148.65 954.424 2146.77 954.841 Q2144.92 955.257 2142.98 956.137 L2142.98 938.776 Z\" fill=\"#000000\" fill-rule=\"evenodd\" fill-opacity=\"1\" /><polyline clip-path=\"url(#clip044)\" style=\"stroke:#000000; stroke-linecap:round; stroke-linejoin:round; stroke-width:8; stroke-opacity:0.1; fill:none\" points=\"219.033,910.936 2352.76,910.936 \"/>\n",
       "<polyline clip-path=\"url(#clip044)\" style=\"stroke:#000000; stroke-linecap:round; stroke-linejoin:round; stroke-width:8; stroke-opacity:0.1; fill:none\" points=\"219.033,852.361 2352.76,852.361 \"/>\n",
       "<polyline clip-path=\"url(#clip044)\" style=\"stroke:#000000; stroke-linecap:round; stroke-linejoin:round; stroke-width:8; stroke-opacity:0.1; fill:none\" points=\"219.033,793.787 2352.76,793.787 \"/>\n",
       "<polyline clip-path=\"url(#clip044)\" style=\"stroke:#000000; stroke-linecap:round; stroke-linejoin:round; stroke-width:8; stroke-opacity:0.1; fill:none\" points=\"219.033,735.212 2352.76,735.212 \"/>\n",
       "<polyline clip-path=\"url(#clip044)\" style=\"stroke:#000000; stroke-linecap:round; stroke-linejoin:round; stroke-width:8; stroke-opacity:0.1; fill:none\" points=\"219.033,676.637 2352.76,676.637 \"/>\n",
       "<polyline clip-path=\"url(#clip044)\" style=\"stroke:#000000; stroke-linecap:round; stroke-linejoin:round; stroke-width:8; stroke-opacity:0.1; fill:none\" points=\"219.033,618.063 2352.76,618.063 \"/>\n",
       "<polyline clip-path=\"url(#clip044)\" style=\"stroke:#000000; stroke-linecap:round; stroke-linejoin:round; stroke-width:8; stroke-opacity:0.1; fill:none\" points=\"219.033,559.488 2352.76,559.488 \"/>\n",
       "<polyline clip-path=\"url(#clip040)\" style=\"stroke:#000000; stroke-linecap:round; stroke-linejoin:round; stroke-width:4; stroke-opacity:1; fill:none\" points=\"219.033,910.936 219.033,559.488 \"/>\n",
       "<polyline clip-path=\"url(#clip040)\" style=\"stroke:#000000; stroke-linecap:round; stroke-linejoin:round; stroke-width:4; stroke-opacity:1; fill:none\" points=\"219.033,910.936 237.931,910.936 \"/>\n",
       "<polyline clip-path=\"url(#clip040)\" style=\"stroke:#000000; stroke-linecap:round; stroke-linejoin:round; stroke-width:4; stroke-opacity:1; fill:none\" points=\"219.033,852.361 237.931,852.361 \"/>\n",
       "<polyline clip-path=\"url(#clip040)\" style=\"stroke:#000000; stroke-linecap:round; stroke-linejoin:round; stroke-width:4; stroke-opacity:1; fill:none\" points=\"219.033,793.787 237.931,793.787 \"/>\n",
       "<polyline clip-path=\"url(#clip040)\" style=\"stroke:#000000; stroke-linecap:round; stroke-linejoin:round; stroke-width:4; stroke-opacity:1; fill:none\" points=\"219.033,735.212 237.931,735.212 \"/>\n",
       "<polyline clip-path=\"url(#clip040)\" style=\"stroke:#000000; stroke-linecap:round; stroke-linejoin:round; stroke-width:4; stroke-opacity:1; fill:none\" points=\"219.033,676.637 237.931,676.637 \"/>\n",
       "<polyline clip-path=\"url(#clip040)\" style=\"stroke:#000000; stroke-linecap:round; stroke-linejoin:round; stroke-width:4; stroke-opacity:1; fill:none\" points=\"219.033,618.063 237.931,618.063 \"/>\n",
       "<polyline clip-path=\"url(#clip040)\" style=\"stroke:#000000; stroke-linecap:round; stroke-linejoin:round; stroke-width:4; stroke-opacity:1; fill:none\" points=\"219.033,559.488 237.931,559.488 \"/>\n",
       "<path clip-path=\"url(#clip040)\" d=\"M116.181 924.281 L123.82 924.281 L123.82 897.915 L115.51 899.582 L115.51 895.323 L123.774 893.656 L128.45 893.656 L128.45 924.281 L136.089 924.281 L136.089 928.216 L116.181 928.216 L116.181 924.281 Z\" fill=\"#000000\" fill-rule=\"evenodd\" fill-opacity=\"1\" /><path clip-path=\"url(#clip040)\" d=\"M145.533 922.336 L150.417 922.336 L150.417 928.216 L145.533 928.216 L145.533 922.336 Z\" fill=\"#000000\" fill-rule=\"evenodd\" fill-opacity=\"1\" /><path clip-path=\"url(#clip040)\" d=\"M173.45 897.73 L161.644 916.179 L173.45 916.179 L173.45 897.73 M172.223 893.656 L178.102 893.656 L178.102 916.179 L183.033 916.179 L183.033 920.068 L178.102 920.068 L178.102 928.216 L173.45 928.216 L173.45 920.068 L157.848 920.068 L157.848 915.554 L172.223 893.656 Z\" fill=\"#000000\" fill-rule=\"evenodd\" fill-opacity=\"1\" /><path clip-path=\"url(#clip040)\" d=\"M117.663 865.706 L125.302 865.706 L125.302 839.34 L116.992 841.007 L116.992 836.748 L125.255 835.081 L129.931 835.081 L129.931 865.706 L137.57 865.706 L137.57 869.641 L117.663 869.641 L117.663 865.706 Z\" fill=\"#000000\" fill-rule=\"evenodd\" fill-opacity=\"1\" /><path clip-path=\"url(#clip040)\" d=\"M147.015 863.762 L151.899 863.762 L151.899 869.641 L147.015 869.641 L147.015 863.762 Z\" fill=\"#000000\" fill-rule=\"evenodd\" fill-opacity=\"1\" /><path clip-path=\"url(#clip040)\" d=\"M162.13 835.081 L180.487 835.081 L180.487 839.016 L166.413 839.016 L166.413 847.489 Q167.431 847.141 168.45 846.979 Q169.468 846.794 170.487 846.794 Q176.274 846.794 179.653 849.965 Q183.033 853.137 183.033 858.553 Q183.033 864.132 179.561 867.234 Q176.089 870.313 169.769 870.313 Q167.593 870.313 165.325 869.942 Q163.079 869.572 160.672 868.831 L160.672 864.132 Q162.755 865.266 164.977 865.822 Q167.2 866.377 169.677 866.377 Q173.681 866.377 176.019 864.271 Q178.357 862.164 178.357 858.553 Q178.357 854.942 176.019 852.836 Q173.681 850.729 169.677 850.729 Q167.802 850.729 165.927 851.146 Q164.075 851.563 162.13 852.442 L162.13 835.081 Z\" fill=\"#000000\" fill-rule=\"evenodd\" fill-opacity=\"1\" /><path clip-path=\"url(#clip040)\" d=\"M116.506 807.131 L124.144 807.131 L124.144 780.766 L115.834 782.432 L115.834 778.173 L124.098 776.507 L128.774 776.507 L128.774 807.131 L136.413 807.131 L136.413 811.067 L116.506 811.067 L116.506 807.131 Z\" fill=\"#000000\" fill-rule=\"evenodd\" fill-opacity=\"1\" /><path clip-path=\"url(#clip040)\" d=\"M145.857 805.187 L150.741 805.187 L150.741 811.067 L145.857 811.067 L145.857 805.187 Z\" fill=\"#000000\" fill-rule=\"evenodd\" fill-opacity=\"1\" /><path clip-path=\"url(#clip040)\" d=\"M171.505 791.923 Q168.357 791.923 166.505 794.076 Q164.677 796.229 164.677 799.979 Q164.677 803.706 166.505 805.881 Q168.357 808.034 171.505 808.034 Q174.653 808.034 176.482 805.881 Q178.334 803.706 178.334 799.979 Q178.334 796.229 176.482 794.076 Q174.653 791.923 171.505 791.923 M180.788 777.27 L180.788 781.53 Q179.028 780.696 177.223 780.257 Q175.44 779.817 173.681 779.817 Q169.052 779.817 166.598 782.942 Q164.167 786.067 163.82 792.386 Q165.186 790.372 167.246 789.307 Q169.306 788.219 171.783 788.219 Q176.991 788.219 180.001 791.391 Q183.033 794.539 183.033 799.979 Q183.033 805.303 179.885 808.52 Q176.737 811.738 171.505 811.738 Q165.51 811.738 162.339 807.155 Q159.167 802.548 159.167 793.821 Q159.167 785.627 163.056 780.766 Q166.945 775.882 173.496 775.882 Q175.255 775.882 177.038 776.229 Q178.843 776.576 180.788 777.27 Z\" fill=\"#000000\" fill-rule=\"evenodd\" fill-opacity=\"1\" /><path clip-path=\"url(#clip040)\" d=\"M117.57 748.557 L125.209 748.557 L125.209 722.191 L116.899 723.858 L116.899 719.599 L125.163 717.932 L129.839 717.932 L129.839 748.557 L137.478 748.557 L137.478 752.492 L117.57 752.492 L117.57 748.557 Z\" fill=\"#000000\" fill-rule=\"evenodd\" fill-opacity=\"1\" /><path clip-path=\"url(#clip040)\" d=\"M146.922 746.612 L151.806 746.612 L151.806 752.492 L146.922 752.492 L146.922 746.612 Z\" fill=\"#000000\" fill-rule=\"evenodd\" fill-opacity=\"1\" /><path clip-path=\"url(#clip040)\" d=\"M160.811 717.932 L183.033 717.932 L183.033 719.923 L170.487 752.492 L165.602 752.492 L177.408 721.867 L160.811 721.867 L160.811 717.932 Z\" fill=\"#000000\" fill-rule=\"evenodd\" fill-opacity=\"1\" /><path clip-path=\"url(#clip040)\" d=\"M116.76 689.982 L124.399 689.982 L124.399 663.617 L116.089 665.283 L116.089 661.024 L124.353 659.357 L129.029 659.357 L129.029 689.982 L136.667 689.982 L136.667 693.917 L116.76 693.917 L116.76 689.982 Z\" fill=\"#000000\" fill-rule=\"evenodd\" fill-opacity=\"1\" /><path clip-path=\"url(#clip040)\" d=\"M146.112 688.038 L150.996 688.038 L150.996 693.917 L146.112 693.917 L146.112 688.038 Z\" fill=\"#000000\" fill-rule=\"evenodd\" fill-opacity=\"1\" /><path clip-path=\"url(#clip040)\" d=\"M171.181 677.505 Q167.848 677.505 165.927 679.288 Q164.028 681.07 164.028 684.195 Q164.028 687.32 165.927 689.103 Q167.848 690.885 171.181 690.885 Q174.514 690.885 176.436 689.103 Q178.357 687.297 178.357 684.195 Q178.357 681.07 176.436 679.288 Q174.538 677.505 171.181 677.505 M166.505 675.515 Q163.496 674.774 161.806 672.714 Q160.14 670.654 160.14 667.691 Q160.14 663.547 163.079 661.14 Q166.042 658.732 171.181 658.732 Q176.343 658.732 179.283 661.14 Q182.223 663.547 182.223 667.691 Q182.223 670.654 180.533 672.714 Q178.866 674.774 175.88 675.515 Q179.26 676.302 181.135 678.593 Q183.033 680.885 183.033 684.195 Q183.033 689.218 179.954 691.903 Q176.899 694.589 171.181 694.589 Q165.464 694.589 162.385 691.903 Q159.329 689.218 159.329 684.195 Q159.329 680.885 161.227 678.593 Q163.126 676.302 166.505 675.515 M164.792 668.13 Q164.792 670.816 166.459 672.32 Q168.149 673.825 171.181 673.825 Q174.19 673.825 175.88 672.32 Q177.593 670.816 177.593 668.13 Q177.593 665.445 175.88 663.941 Q174.19 662.436 171.181 662.436 Q168.149 662.436 166.459 663.941 Q164.792 665.445 164.792 668.13 Z\" fill=\"#000000\" fill-rule=\"evenodd\" fill-opacity=\"1\" /><path clip-path=\"url(#clip040)\" d=\"M116.853 631.408 L124.492 631.408 L124.492 605.042 L116.181 606.709 L116.181 602.449 L124.445 600.783 L129.121 600.783 L129.121 631.408 L136.76 631.408 L136.76 635.343 L116.853 635.343 L116.853 631.408 Z\" fill=\"#000000\" fill-rule=\"evenodd\" fill-opacity=\"1\" /><path clip-path=\"url(#clip040)\" d=\"M146.204 629.463 L151.089 629.463 L151.089 635.343 L146.204 635.343 L146.204 629.463 Z\" fill=\"#000000\" fill-rule=\"evenodd\" fill-opacity=\"1\" /><path clip-path=\"url(#clip040)\" d=\"M161.413 634.625 L161.413 630.366 Q163.172 631.199 164.977 631.639 Q166.783 632.079 168.519 632.079 Q173.149 632.079 175.579 628.977 Q178.033 625.852 178.38 619.509 Q177.038 621.5 174.977 622.565 Q172.917 623.63 170.417 623.63 Q165.232 623.63 162.2 620.505 Q159.19 617.357 159.19 611.917 Q159.19 606.593 162.339 603.375 Q165.487 600.158 170.718 600.158 Q176.714 600.158 179.862 604.764 Q183.033 609.347 183.033 618.097 Q183.033 626.269 179.144 631.153 Q175.278 636.014 168.727 636.014 Q166.968 636.014 165.163 635.667 Q163.357 635.32 161.413 634.625 M170.718 619.972 Q173.866 619.972 175.695 617.82 Q177.547 615.667 177.547 611.917 Q177.547 608.19 175.695 606.037 Q173.866 603.861 170.718 603.861 Q167.57 603.861 165.718 606.037 Q163.89 608.19 163.89 611.917 Q163.89 615.667 165.718 617.82 Q167.57 619.972 170.718 619.972 Z\" fill=\"#000000\" fill-rule=\"evenodd\" fill-opacity=\"1\" /><path clip-path=\"url(#clip040)\" d=\"M119.885 572.833 L136.204 572.833 L136.204 576.768 L114.26 576.768 L114.26 572.833 Q116.922 570.078 121.505 565.449 Q126.112 560.796 127.292 559.453 Q129.538 556.93 130.417 555.194 Q131.32 553.435 131.32 551.745 Q131.32 548.99 129.376 547.254 Q127.455 545.518 124.353 545.518 Q122.154 545.518 119.7 546.282 Q117.269 547.046 114.492 548.597 L114.492 543.875 Q117.316 542.74 119.769 542.162 Q122.223 541.583 124.26 541.583 Q129.63 541.583 132.825 544.268 Q136.019 546.953 136.019 551.444 Q136.019 553.574 135.209 555.495 Q134.422 557.393 132.316 559.986 Q131.737 560.657 128.635 563.875 Q125.533 567.069 119.885 572.833 Z\" fill=\"#000000\" fill-rule=\"evenodd\" fill-opacity=\"1\" /><path clip-path=\"url(#clip040)\" d=\"M146.019 570.888 L150.903 570.888 L150.903 576.768 L146.019 576.768 L146.019 570.888 Z\" fill=\"#000000\" fill-rule=\"evenodd\" fill-opacity=\"1\" /><path clip-path=\"url(#clip040)\" d=\"M171.089 545.287 Q167.477 545.287 165.649 548.852 Q163.843 552.393 163.843 559.523 Q163.843 566.629 165.649 570.194 Q167.477 573.736 171.089 573.736 Q174.723 573.736 176.528 570.194 Q178.357 566.629 178.357 559.523 Q178.357 552.393 176.528 548.852 Q174.723 545.287 171.089 545.287 M171.089 541.583 Q176.899 541.583 179.954 546.19 Q183.033 550.773 183.033 559.523 Q183.033 568.25 179.954 572.856 Q176.899 577.439 171.089 577.439 Q165.278 577.439 162.2 572.856 Q159.144 568.25 159.144 559.523 Q159.144 550.773 162.2 546.19 Q165.278 541.583 171.089 541.583 Z\" fill=\"#000000\" fill-rule=\"evenodd\" fill-opacity=\"1\" /><path clip-path=\"url(#clip040)\" d=\"M56.6478 789.68 Q60.8023 790.517 63.1856 791.644 Q66.8248 793.48 66.8248 796.54 Q66.8248 798.665 65.6332 800.275 Q64.4094 801.854 62.3804 802.401 Q63.1856 803.013 63.7331 803.56 Q64.2806 804.076 65.1179 805.074 Q65.9231 806.073 66.3739 807.425 Q66.8248 808.746 66.8248 810.259 Q66.8248 811.419 66.5994 812.481 Q66.4062 813.544 65.8587 814.671 Q65.2789 815.766 64.4094 816.572 Q63.5398 817.345 62.1228 817.86 Q60.7057 818.375 58.9022 818.375 Q56.6478 818.375 53.5882 817.506 Q50.5287 816.604 45.0537 814.543 Q42.1551 813.415 40.5448 813.415 Q39.8041 813.415 39.321 813.576 Q38.8379 813.738 38.6769 814.06 Q38.4837 814.349 38.4515 814.543 Q38.3871 814.736 38.3871 815.058 Q38.3871 817.055 40.416 818.794 Q42.445 820.533 46.5673 821.725 Q47.3725 821.982 47.5657 822.143 Q47.759 822.304 47.759 822.787 Q47.7268 823.593 47.0826 823.593 Q46.825 823.593 45.8266 823.303 Q44.796 823.013 43.2823 822.336 Q41.7365 821.628 40.3516 820.662 Q38.9346 819.696 37.9362 818.182 Q36.9378 816.636 36.9378 814.865 Q36.9378 812.449 38.5159 810.968 Q40.0618 809.454 42.3484 809.454 Q43.7654 809.454 46.5029 810.581 Q56.0037 814.156 59.965 814.156 Q65.3434 814.156 65.3434 810.066 Q65.3434 808.713 64.7959 807.457 Q64.2484 806.169 63.4754 805.332 Q62.7025 804.494 61.8651 803.85 Q61.0278 803.174 60.4803 802.884 Q59.9328 802.562 59.804 802.53 L39.9651 797.602 Q39.1922 797.409 38.6769 797.055 Q38.1294 796.668 37.9362 796.218 Q37.7429 795.767 37.7107 795.509 Q37.6463 795.251 37.6463 795.026 Q37.6463 794.221 38.1294 793.673 Q38.6125 793.094 39.4498 793.094 Q39.6109 793.094 40.3838 793.287 Q41.1246 793.448 42.2196 793.705 Q43.2823 793.963 43.8621 794.092 Q47.92 795.123 48.3387 795.219 L55.4562 797.055 Q55.8748 797.152 57.2275 797.474 Q58.5801 797.763 59.2887 797.924 Q59.965 798.085 60.899 798.247 Q61.8007 798.375 62.316 798.375 Q63.9263 798.375 64.6348 797.892 Q65.3434 797.409 65.3434 796.346 Q65.3434 795.348 64.667 794.575 Q63.9585 793.77 62.6059 793.158 Q61.221 792.546 60.0938 792.192 Q58.9666 791.838 57.1953 791.387 Q56.4223 791.226 56.2291 791.097 Q56.0037 790.936 56.0037 790.485 Q56.0037 789.68 56.6478 789.68 Z\" fill=\"#000000\" fill-rule=\"evenodd\" fill-opacity=\"1\" /><path clip-path=\"url(#clip040)\" d=\"M82.5735 733.946 L16.6159 733.946 L16.6159 723.995 L18.1296 723.995 L18.1296 729.534 L81.0598 729.534 L81.0598 723.995 L82.5735 723.995 L82.5735 733.946 Z\" fill=\"#000000\" fill-rule=\"evenodd\" fill-opacity=\"1\" /><path clip-path=\"url(#clip040)\" d=\"M48.6607 672.254 Q49.0472 671.867 49.5947 671.867 Q50.1422 671.867 50.5287 672.254 Q50.9151 672.64 50.9151 673.188 L50.9151 714.476 Q50.9151 715.023 50.5287 715.409 Q50.1422 715.796 49.5947 715.796 Q49.0472 715.796 48.6607 715.409 Q48.2743 715.023 48.2743 714.476 L48.2743 673.188 Q48.2743 672.64 48.6607 672.254 Z\" fill=\"#000000\" fill-rule=\"evenodd\" fill-opacity=\"1\" /><path clip-path=\"url(#clip040)\" d=\"M81.0598 664.982 L81.0598 659.442 L18.1296 659.442 L18.1296 664.982 L16.6159 664.982 L16.6159 655.03 L82.5735 655.03 L82.5735 664.982 L81.0598 664.982 Z\" fill=\"#000000\" fill-rule=\"evenodd\" fill-opacity=\"1\" /><polyline clip-path=\"url(#clip044)\" style=\"stroke:#000000; stroke-linecap:round; stroke-linejoin:round; stroke-width:4; stroke-opacity:1; fill:none\" stroke-dasharray=\"2, 4\" points=\"279.421,-1197.75 356.842,-1197.75 434.263,-1197.75 511.684,-1197.75 589.105,-1197.75 666.526,-1197.75 743.947,-1197.75 821.368,-1197.75 898.789,-1197.75 976.21,-1197.75 1053.63,-1197.75 1131.05,-1197.75 1208.47,-1197.75 1285.89,-1197.75 1363.32,-1197.75 1440.74,-1197.75 1518.16,-1197.75 1595.58,-1197.75 1673,-1197.75 1750.42,-1197.75 1827.84,-1197.75 1905.26,-1197.75 1982.68,-1197.75 2060.1,-1197.75 2137.53,-1197.75 2214.95,-1197.75 2292.37,-1197.75 \"/>\n",
       "<circle clip-path=\"url(#clip044)\" cx=\"279.421\" cy=\"662.599\" r=\"10.8\" fill=\"#000000\" fill-rule=\"evenodd\" fill-opacity=\"1\" stroke=\"none\"/>\n",
       "<circle clip-path=\"url(#clip044)\" cx=\"356.842\" cy=\"573.096\" r=\"10.8\" fill=\"#000000\" fill-rule=\"evenodd\" fill-opacity=\"1\" stroke=\"none\"/>\n",
       "<circle clip-path=\"url(#clip044)\" cx=\"434.263\" cy=\"638.921\" r=\"10.8\" fill=\"#000000\" fill-rule=\"evenodd\" fill-opacity=\"1\" stroke=\"none\"/>\n",
       "<circle clip-path=\"url(#clip044)\" cx=\"511.684\" cy=\"734.969\" r=\"10.8\" fill=\"#000000\" fill-rule=\"evenodd\" fill-opacity=\"1\" stroke=\"none\"/>\n",
       "<circle clip-path=\"url(#clip044)\" cx=\"589.105\" cy=\"801.921\" r=\"10.8\" fill=\"#000000\" fill-rule=\"evenodd\" fill-opacity=\"1\" stroke=\"none\"/>\n",
       "<circle clip-path=\"url(#clip044)\" cx=\"666.526\" cy=\"799.766\" r=\"10.8\" fill=\"#000000\" fill-rule=\"evenodd\" fill-opacity=\"1\" stroke=\"none\"/>\n",
       "<circle clip-path=\"url(#clip044)\" cx=\"743.947\" cy=\"760.887\" r=\"10.8\" fill=\"#000000\" fill-rule=\"evenodd\" fill-opacity=\"1\" stroke=\"none\"/>\n",
       "<circle clip-path=\"url(#clip044)\" cx=\"821.368\" cy=\"763.757\" r=\"10.8\" fill=\"#000000\" fill-rule=\"evenodd\" fill-opacity=\"1\" stroke=\"none\"/>\n",
       "<circle clip-path=\"url(#clip044)\" cx=\"898.789\" cy=\"775.528\" r=\"10.8\" fill=\"#000000\" fill-rule=\"evenodd\" fill-opacity=\"1\" stroke=\"none\"/>\n",
       "<circle clip-path=\"url(#clip044)\" cx=\"976.21\" cy=\"771.767\" r=\"10.8\" fill=\"#000000\" fill-rule=\"evenodd\" fill-opacity=\"1\" stroke=\"none\"/>\n",
       "<circle clip-path=\"url(#clip044)\" cx=\"1053.63\" cy=\"766.366\" r=\"10.8\" fill=\"#000000\" fill-rule=\"evenodd\" fill-opacity=\"1\" stroke=\"none\"/>\n",
       "<circle clip-path=\"url(#clip044)\" cx=\"1131.05\" cy=\"773.499\" r=\"10.8\" fill=\"#000000\" fill-rule=\"evenodd\" fill-opacity=\"1\" stroke=\"none\"/>\n",
       "<circle clip-path=\"url(#clip044)\" cx=\"1208.47\" cy=\"771.359\" r=\"10.8\" fill=\"#000000\" fill-rule=\"evenodd\" fill-opacity=\"1\" stroke=\"none\"/>\n",
       "<circle clip-path=\"url(#clip044)\" cx=\"1285.89\" cy=\"767.275\" r=\"10.8\" fill=\"#000000\" fill-rule=\"evenodd\" fill-opacity=\"1\" stroke=\"none\"/>\n",
       "<circle clip-path=\"url(#clip044)\" cx=\"1363.32\" cy=\"772.95\" r=\"10.8\" fill=\"#000000\" fill-rule=\"evenodd\" fill-opacity=\"1\" stroke=\"none\"/>\n",
       "<circle clip-path=\"url(#clip044)\" cx=\"1440.74\" cy=\"769.968\" r=\"10.8\" fill=\"#000000\" fill-rule=\"evenodd\" fill-opacity=\"1\" stroke=\"none\"/>\n",
       "<circle clip-path=\"url(#clip044)\" cx=\"1518.16\" cy=\"770.023\" r=\"10.8\" fill=\"#000000\" fill-rule=\"evenodd\" fill-opacity=\"1\" stroke=\"none\"/>\n",
       "<circle clip-path=\"url(#clip044)\" cx=\"1595.58\" cy=\"771.139\" r=\"10.8\" fill=\"#000000\" fill-rule=\"evenodd\" fill-opacity=\"1\" stroke=\"none\"/>\n",
       "<circle clip-path=\"url(#clip044)\" cx=\"1673\" cy=\"770.23\" r=\"10.8\" fill=\"#000000\" fill-rule=\"evenodd\" fill-opacity=\"1\" stroke=\"none\"/>\n",
       "<circle clip-path=\"url(#clip044)\" cx=\"1750.42\" cy=\"770.526\" r=\"10.8\" fill=\"#000000\" fill-rule=\"evenodd\" fill-opacity=\"1\" stroke=\"none\"/>\n",
       "<circle clip-path=\"url(#clip044)\" cx=\"1827.84\" cy=\"770.526\" r=\"10.8\" fill=\"#000000\" fill-rule=\"evenodd\" fill-opacity=\"1\" stroke=\"none\"/>\n",
       "<circle clip-path=\"url(#clip044)\" cx=\"1905.26\" cy=\"770.526\" r=\"10.8\" fill=\"#000000\" fill-rule=\"evenodd\" fill-opacity=\"1\" stroke=\"none\"/>\n",
       "<circle clip-path=\"url(#clip044)\" cx=\"1982.68\" cy=\"770.526\" r=\"10.8\" fill=\"#000000\" fill-rule=\"evenodd\" fill-opacity=\"1\" stroke=\"none\"/>\n",
       "<circle clip-path=\"url(#clip044)\" cx=\"2060.1\" cy=\"770.526\" r=\"10.8\" fill=\"#000000\" fill-rule=\"evenodd\" fill-opacity=\"1\" stroke=\"none\"/>\n",
       "<circle clip-path=\"url(#clip044)\" cx=\"2137.53\" cy=\"770.526\" r=\"10.8\" fill=\"#000000\" fill-rule=\"evenodd\" fill-opacity=\"1\" stroke=\"none\"/>\n",
       "<circle clip-path=\"url(#clip044)\" cx=\"2214.95\" cy=\"770.526\" r=\"10.8\" fill=\"#000000\" fill-rule=\"evenodd\" fill-opacity=\"1\" stroke=\"none\"/>\n",
       "<circle clip-path=\"url(#clip044)\" cx=\"2292.37\" cy=\"770.526\" r=\"10.8\" fill=\"#000000\" fill-rule=\"evenodd\" fill-opacity=\"1\" stroke=\"none\"/>\n",
       "<polyline clip-path=\"url(#clip044)\" style=\"stroke:#000000; stroke-linecap:round; stroke-linejoin:round; stroke-width:12; stroke-opacity:1; fill:none\" points=\"279.421,662.599 279.421,573.096 356.842,573.096 356.842,638.921 434.263,638.921 434.263,734.969 511.684,734.969 511.684,801.921 589.105,801.921 589.105,799.766 666.526,799.766 666.526,760.887 743.947,760.887 743.947,763.757 821.368,763.757 821.368,775.528 898.789,775.528 898.789,771.767 976.21,771.767 976.21,766.366 1053.63,766.366 1053.63,773.499 1131.05,773.499 1131.05,771.359 1208.47,771.359 1208.47,767.275 1285.89,767.275 1285.89,772.95 1363.32,772.95 1363.32,769.968 1440.74,769.968 1440.74,770.023 1518.16,770.023 1518.16,771.139 1595.58,771.139 1595.58,770.23 1673,770.23 1673,770.526 1750.42,770.526 1827.84,770.526 1905.26,770.526 1982.68,770.526 2060.1,770.526 2137.53,770.526 2214.95,770.526 2292.37,770.526 \"/>\n",
       "<path clip-path=\"url(#clip044)\" d=\"M267.421 650.638 L267.421 674.638 L291.421 674.638 L291.421 650.638 L267.421 650.638 Z\" fill=\"#000000\" fill-rule=\"evenodd\" fill-opacity=\"1\" stroke=\"none\"/>\n",
       "<path clip-path=\"url(#clip044)\" d=\"M344.842 561.132 L344.842 585.132 L368.842 585.132 L368.842 561.132 L344.842 561.132 Z\" fill=\"#000000\" fill-rule=\"evenodd\" fill-opacity=\"1\" stroke=\"none\"/>\n",
       "<path clip-path=\"url(#clip044)\" d=\"M422.263 626.935 L422.263 650.935 L446.263 650.935 L446.263 626.935 L422.263 626.935 Z\" fill=\"#000000\" fill-rule=\"evenodd\" fill-opacity=\"1\" stroke=\"none\"/>\n",
       "<path clip-path=\"url(#clip044)\" d=\"M499.684 722.956 L499.684 746.956 L523.684 746.956 L523.684 722.956 L499.684 722.956 Z\" fill=\"#000000\" fill-rule=\"evenodd\" fill-opacity=\"1\" stroke=\"none\"/>\n",
       "<path clip-path=\"url(#clip044)\" d=\"M577.105 789.891 L577.105 813.891 L601.105 813.891 L601.105 789.891 L577.105 789.891 Z\" fill=\"#000000\" fill-rule=\"evenodd\" fill-opacity=\"1\" stroke=\"none\"/>\n",
       "<path clip-path=\"url(#clip044)\" d=\"M654.526 787.752 L654.526 811.752 L678.526 811.752 L678.526 787.752 L654.526 787.752 Z\" fill=\"#000000\" fill-rule=\"evenodd\" fill-opacity=\"1\" stroke=\"none\"/>\n",
       "<path clip-path=\"url(#clip044)\" d=\"M731.947 748.901 L731.947 772.901 L755.947 772.901 L755.947 748.901 L731.947 748.901 Z\" fill=\"#000000\" fill-rule=\"evenodd\" fill-opacity=\"1\" stroke=\"none\"/>\n",
       "<path clip-path=\"url(#clip044)\" d=\"M809.368 751.773 L809.368 775.773 L833.368 775.773 L833.368 751.773 L809.368 751.773 Z\" fill=\"#000000\" fill-rule=\"evenodd\" fill-opacity=\"1\" stroke=\"none\"/>\n",
       "<path clip-path=\"url(#clip044)\" d=\"M886.789 763.526 L886.789 787.526 L910.789 787.526 L910.789 763.526 L886.789 763.526 Z\" fill=\"#000000\" fill-rule=\"evenodd\" fill-opacity=\"1\" stroke=\"none\"/>\n",
       "<path clip-path=\"url(#clip044)\" d=\"M964.21 759.748 L964.21 783.748 L988.21 783.748 L988.21 759.748 L964.21 759.748 Z\" fill=\"#000000\" fill-rule=\"evenodd\" fill-opacity=\"1\" stroke=\"none\"/>\n",
       "<path clip-path=\"url(#clip044)\" d=\"M1041.63 754.378 L1041.63 778.378 L1065.63 778.378 L1065.63 754.378 L1041.63 754.378 Z\" fill=\"#000000\" fill-rule=\"evenodd\" fill-opacity=\"1\" stroke=\"none\"/>\n",
       "<path clip-path=\"url(#clip044)\" d=\"M1119.05 761.504 L1119.05 785.504 L1143.05 785.504 L1143.05 761.504 L1119.05 761.504 Z\" fill=\"#000000\" fill-rule=\"evenodd\" fill-opacity=\"1\" stroke=\"none\"/>\n",
       "<path clip-path=\"url(#clip044)\" d=\"M1196.47 759.347 L1196.47 783.347 L1220.47 783.347 L1220.47 759.347 L1196.47 759.347 Z\" fill=\"#000000\" fill-rule=\"evenodd\" fill-opacity=\"1\" stroke=\"none\"/>\n",
       "<path clip-path=\"url(#clip044)\" d=\"M1273.89 755.279 L1273.89 779.279 L1297.89 779.279 L1297.89 755.279 L1273.89 755.279 Z\" fill=\"#000000\" fill-rule=\"evenodd\" fill-opacity=\"1\" stroke=\"none\"/>\n",
       "<path clip-path=\"url(#clip044)\" d=\"M1351.32 760.961 L1351.32 784.961 L1375.32 784.961 L1375.32 760.961 L1351.32 760.961 Z\" fill=\"#000000\" fill-rule=\"evenodd\" fill-opacity=\"1\" stroke=\"none\"/>\n",
       "<path clip-path=\"url(#clip044)\" d=\"M1428.74 757.948 L1428.74 781.948 L1452.74 781.948 L1452.74 757.948 L1428.74 757.948 Z\" fill=\"#000000\" fill-rule=\"evenodd\" fill-opacity=\"1\" stroke=\"none\"/>\n",
       "<path clip-path=\"url(#clip044)\" d=\"M1506.16 758.043 L1506.16 782.043 L1530.16 782.043 L1530.16 758.043 L1506.16 758.043 Z\" fill=\"#000000\" fill-rule=\"evenodd\" fill-opacity=\"1\" stroke=\"none\"/>\n",
       "<path clip-path=\"url(#clip044)\" d=\"M1583.58 759.127 L1583.58 783.127 L1607.58 783.127 L1607.58 759.127 L1583.58 759.127 Z\" fill=\"#000000\" fill-rule=\"evenodd\" fill-opacity=\"1\" stroke=\"none\"/>\n",
       "<path clip-path=\"url(#clip044)\" d=\"M1661 758.235 L1661 782.235 L1685 782.235 L1685 758.235 L1661 758.235 Z\" fill=\"#000000\" fill-rule=\"evenodd\" fill-opacity=\"1\" stroke=\"none\"/>\n",
       "<path clip-path=\"url(#clip044)\" d=\"M1738.42 758.526 L1738.42 782.526 L1762.42 782.526 L1762.42 758.526 L1738.42 758.526 Z\" fill=\"#000000\" fill-rule=\"evenodd\" fill-opacity=\"1\" stroke=\"none\"/>\n",
       "<path clip-path=\"url(#clip044)\" d=\"M1815.84 758.526 L1815.84 782.526 L1839.84 782.526 L1839.84 758.526 L1815.84 758.526 Z\" fill=\"#000000\" fill-rule=\"evenodd\" fill-opacity=\"1\" stroke=\"none\"/>\n",
       "<path clip-path=\"url(#clip044)\" d=\"M1893.26 758.526 L1893.26 782.526 L1917.26 782.526 L1917.26 758.526 L1893.26 758.526 Z\" fill=\"#000000\" fill-rule=\"evenodd\" fill-opacity=\"1\" stroke=\"none\"/>\n",
       "<path clip-path=\"url(#clip044)\" d=\"M1970.68 758.526 L1970.68 782.526 L1994.68 782.526 L1994.68 758.526 L1970.68 758.526 Z\" fill=\"#000000\" fill-rule=\"evenodd\" fill-opacity=\"1\" stroke=\"none\"/>\n",
       "<path clip-path=\"url(#clip044)\" d=\"M2048.1 758.526 L2048.1 782.526 L2072.1 782.526 L2072.1 758.526 L2048.1 758.526 Z\" fill=\"#000000\" fill-rule=\"evenodd\" fill-opacity=\"1\" stroke=\"none\"/>\n",
       "<path clip-path=\"url(#clip044)\" d=\"M2125.53 758.526 L2125.53 782.526 L2149.53 782.526 L2149.53 758.526 L2125.53 758.526 Z\" fill=\"#000000\" fill-rule=\"evenodd\" fill-opacity=\"1\" stroke=\"none\"/>\n",
       "<path clip-path=\"url(#clip044)\" d=\"M2202.95 758.526 L2202.95 782.526 L2226.95 782.526 L2226.95 758.526 L2202.95 758.526 Z\" fill=\"#000000\" fill-rule=\"evenodd\" fill-opacity=\"1\" stroke=\"none\"/>\n",
       "<path clip-path=\"url(#clip044)\" d=\"M2280.37 758.526 L2280.37 782.526 L2304.37 782.526 L2304.37 758.526 L2280.37 758.526 Z\" fill=\"#000000\" fill-rule=\"evenodd\" fill-opacity=\"1\" stroke=\"none\"/>\n",
       "<polyline clip-path=\"url(#clip044)\" style=\"stroke:#000000; stroke-linecap:round; stroke-linejoin:round; stroke-width:12; stroke-opacity:1; fill:none\" stroke-dasharray=\"48, 24, 6, 24\" points=\"279.421,662.638 279.421,573.132 356.842,573.132 356.842,638.935 434.263,638.935 434.263,734.956 511.684,734.956 511.684,801.891 589.105,801.891 589.105,799.752 666.526,799.752 666.526,760.901 743.947,760.901 743.947,763.773 821.368,763.773 821.368,775.526 898.789,775.526 898.789,771.748 976.21,771.748 976.21,766.378 1053.63,766.378 1053.63,773.504 1131.05,773.504 1131.05,771.347 1208.47,771.347 1208.47,767.279 1285.89,767.279 1285.89,772.961 1363.32,772.961 1363.32,769.948 1440.74,769.948 1440.74,770.043 1518.16,770.043 1518.16,771.127 1595.58,771.127 1595.58,770.235 1673,770.235 1673,770.526 1750.42,770.526 1827.84,770.526 1905.26,770.526 1982.68,770.526 2060.1,770.526 2137.53,770.526 2214.95,770.526 2292.37,770.526 \"/>\n",
       "<path clip-path=\"url(#clip040)\" d=\"M219.033 1423.18 L2352.76 1423.18 L2352.76 1071.73 L219.033 1071.73  Z\" fill=\"#ffffff\" fill-rule=\"evenodd\" fill-opacity=\"1\"/>\n",
       "<defs>\n",
       "  <clipPath id=\"clip045\">\n",
       "    <rect x=\"219\" y=\"1071\" width=\"2135\" height=\"352\"/>\n",
       "  </clipPath>\n",
       "</defs>\n",
       "<polyline clip-path=\"url(#clip045)\" style=\"stroke:#000000; stroke-linecap:round; stroke-linejoin:round; stroke-width:8; stroke-opacity:0.1; fill:none\" points=\"589.105,1423.18 589.105,1071.73 \"/>\n",
       "<polyline clip-path=\"url(#clip045)\" style=\"stroke:#000000; stroke-linecap:round; stroke-linejoin:round; stroke-width:8; stroke-opacity:0.1; fill:none\" points=\"976.21,1423.18 976.21,1071.73 \"/>\n",
       "<polyline clip-path=\"url(#clip045)\" style=\"stroke:#000000; stroke-linecap:round; stroke-linejoin:round; stroke-width:8; stroke-opacity:0.1; fill:none\" points=\"1363.32,1423.18 1363.32,1071.73 \"/>\n",
       "<polyline clip-path=\"url(#clip045)\" style=\"stroke:#000000; stroke-linecap:round; stroke-linejoin:round; stroke-width:8; stroke-opacity:0.1; fill:none\" points=\"1750.42,1423.18 1750.42,1071.73 \"/>\n",
       "<polyline clip-path=\"url(#clip045)\" style=\"stroke:#000000; stroke-linecap:round; stroke-linejoin:round; stroke-width:8; stroke-opacity:0.1; fill:none\" points=\"2137.53,1423.18 2137.53,1071.73 \"/>\n",
       "<polyline clip-path=\"url(#clip040)\" style=\"stroke:#000000; stroke-linecap:round; stroke-linejoin:round; stroke-width:4; stroke-opacity:1; fill:none\" points=\"219.033,1423.18 2352.76,1423.18 \"/>\n",
       "<polyline clip-path=\"url(#clip040)\" style=\"stroke:#000000; stroke-linecap:round; stroke-linejoin:round; stroke-width:4; stroke-opacity:1; fill:none\" points=\"589.105,1423.18 589.105,1404.28 \"/>\n",
       "<polyline clip-path=\"url(#clip040)\" style=\"stroke:#000000; stroke-linecap:round; stroke-linejoin:round; stroke-width:4; stroke-opacity:1; fill:none\" points=\"976.21,1423.18 976.21,1404.28 \"/>\n",
       "<polyline clip-path=\"url(#clip040)\" style=\"stroke:#000000; stroke-linecap:round; stroke-linejoin:round; stroke-width:4; stroke-opacity:1; fill:none\" points=\"1363.32,1423.18 1363.32,1404.28 \"/>\n",
       "<polyline clip-path=\"url(#clip040)\" style=\"stroke:#000000; stroke-linecap:round; stroke-linejoin:round; stroke-width:4; stroke-opacity:1; fill:none\" points=\"1750.42,1423.18 1750.42,1404.28 \"/>\n",
       "<polyline clip-path=\"url(#clip040)\" style=\"stroke:#000000; stroke-linecap:round; stroke-linejoin:round; stroke-width:4; stroke-opacity:1; fill:none\" points=\"2137.53,1423.18 2137.53,1404.28 \"/>\n",
       "<path clip-path=\"url(#clip040)\" d=\"M579.383 1451.02 L597.74 1451.02 L597.74 1454.96 L583.666 1454.96 L583.666 1463.43 Q584.684 1463.08 585.703 1462.92 Q586.721 1462.73 587.74 1462.73 Q593.527 1462.73 596.906 1465.9 Q600.286 1469.08 600.286 1474.49 Q600.286 1480.07 596.814 1483.17 Q593.341 1486.25 587.022 1486.25 Q584.846 1486.25 582.578 1485.88 Q580.332 1485.51 577.925 1484.77 L577.925 1480.07 Q580.008 1481.2 582.23 1481.76 Q584.453 1482.32 586.929 1482.32 Q590.934 1482.32 593.272 1480.21 Q595.61 1478.1 595.61 1474.49 Q595.61 1470.88 593.272 1468.77 Q590.934 1466.67 586.929 1466.67 Q585.054 1466.67 583.179 1467.08 Q581.328 1467.5 579.383 1468.38 L579.383 1451.02 Z\" fill=\"#000000\" fill-rule=\"evenodd\" fill-opacity=\"1\" /><path clip-path=\"url(#clip040)\" d=\"M950.898 1481.64 L958.537 1481.64 L958.537 1455.28 L950.227 1456.95 L950.227 1452.69 L958.491 1451.02 L963.166 1451.02 L963.166 1481.64 L970.805 1481.64 L970.805 1485.58 L950.898 1485.58 L950.898 1481.64 Z\" fill=\"#000000\" fill-rule=\"evenodd\" fill-opacity=\"1\" /><path clip-path=\"url(#clip040)\" d=\"M990.25 1454.1 Q986.639 1454.1 984.81 1457.66 Q983.004 1461.2 983.004 1468.33 Q983.004 1475.44 984.81 1479.01 Q986.639 1482.55 990.25 1482.55 Q993.884 1482.55 995.689 1479.01 Q997.518 1475.44 997.518 1468.33 Q997.518 1461.2 995.689 1457.66 Q993.884 1454.1 990.25 1454.1 M990.25 1450.39 Q996.06 1450.39 999.115 1455 Q1002.19 1459.58 1002.19 1468.33 Q1002.19 1477.06 999.115 1481.67 Q996.06 1486.25 990.25 1486.25 Q984.44 1486.25 981.361 1481.67 Q978.305 1477.06 978.305 1468.33 Q978.305 1459.58 981.361 1455 Q984.44 1450.39 990.25 1450.39 Z\" fill=\"#000000\" fill-rule=\"evenodd\" fill-opacity=\"1\" /><path clip-path=\"url(#clip040)\" d=\"M1338.5 1481.64 L1346.14 1481.64 L1346.14 1455.28 L1337.83 1456.95 L1337.83 1452.69 L1346.09 1451.02 L1350.77 1451.02 L1350.77 1481.64 L1358.41 1481.64 L1358.41 1485.58 L1338.5 1485.58 L1338.5 1481.64 Z\" fill=\"#000000\" fill-rule=\"evenodd\" fill-opacity=\"1\" /><path clip-path=\"url(#clip040)\" d=\"M1367.9 1451.02 L1386.26 1451.02 L1386.26 1454.96 L1372.18 1454.96 L1372.18 1463.43 Q1373.2 1463.08 1374.22 1462.92 Q1375.24 1462.73 1376.26 1462.73 Q1382.04 1462.73 1385.42 1465.9 Q1388.8 1469.08 1388.8 1474.49 Q1388.8 1480.07 1385.33 1483.17 Q1381.86 1486.25 1375.54 1486.25 Q1373.36 1486.25 1371.09 1485.88 Q1368.85 1485.51 1366.44 1484.77 L1366.44 1480.07 Q1368.52 1481.2 1370.75 1481.76 Q1372.97 1482.32 1375.44 1482.32 Q1379.45 1482.32 1381.79 1480.21 Q1384.13 1478.1 1384.13 1474.49 Q1384.13 1470.88 1381.79 1468.77 Q1379.45 1466.67 1375.44 1466.67 Q1373.57 1466.67 1371.7 1467.08 Q1369.84 1467.5 1367.9 1468.38 L1367.9 1451.02 Z\" fill=\"#000000\" fill-rule=\"evenodd\" fill-opacity=\"1\" /><path clip-path=\"url(#clip040)\" d=\"M1729.19 1481.64 L1745.51 1481.64 L1745.51 1485.58 L1723.57 1485.58 L1723.57 1481.64 Q1726.23 1478.89 1730.81 1474.26 Q1735.42 1469.61 1736.6 1468.27 Q1738.85 1465.74 1739.73 1464.01 Q1740.63 1462.25 1740.63 1460.56 Q1740.63 1457.8 1738.68 1456.07 Q1736.76 1454.33 1733.66 1454.33 Q1731.46 1454.33 1729.01 1455.09 Q1726.58 1455.86 1723.8 1457.41 L1723.8 1452.69 Q1726.62 1451.55 1729.08 1450.97 Q1731.53 1450.39 1733.57 1450.39 Q1738.94 1450.39 1742.13 1453.08 Q1745.33 1455.77 1745.33 1460.26 Q1745.33 1462.39 1744.52 1464.31 Q1743.73 1466.2 1741.62 1468.8 Q1741.05 1469.47 1737.94 1472.69 Q1734.84 1475.88 1729.19 1481.64 Z\" fill=\"#000000\" fill-rule=\"evenodd\" fill-opacity=\"1\" /><path clip-path=\"url(#clip040)\" d=\"M1765.33 1454.1 Q1761.72 1454.1 1759.89 1457.66 Q1758.08 1461.2 1758.08 1468.33 Q1758.08 1475.44 1759.89 1479.01 Q1761.72 1482.55 1765.33 1482.55 Q1768.96 1482.55 1770.77 1479.01 Q1772.6 1475.44 1772.6 1468.33 Q1772.6 1461.2 1770.77 1457.66 Q1768.96 1454.1 1765.33 1454.1 M1765.33 1450.39 Q1771.14 1450.39 1774.19 1455 Q1777.27 1459.58 1777.27 1468.33 Q1777.27 1477.06 1774.19 1481.67 Q1771.14 1486.25 1765.33 1486.25 Q1759.52 1486.25 1756.44 1481.67 Q1753.38 1477.06 1753.38 1468.33 Q1753.38 1459.58 1756.44 1455 Q1759.52 1450.39 1765.33 1450.39 Z\" fill=\"#000000\" fill-rule=\"evenodd\" fill-opacity=\"1\" /><path clip-path=\"url(#clip040)\" d=\"M2116.8 1481.64 L2133.12 1481.64 L2133.12 1485.58 L2111.17 1485.58 L2111.17 1481.64 Q2113.83 1478.89 2118.42 1474.26 Q2123.02 1469.61 2124.2 1468.27 Q2126.45 1465.74 2127.33 1464.01 Q2128.23 1462.25 2128.23 1460.56 Q2128.23 1457.8 2126.29 1456.07 Q2124.37 1454.33 2121.26 1454.33 Q2119.06 1454.33 2116.61 1455.09 Q2114.18 1455.86 2111.4 1457.41 L2111.4 1452.69 Q2114.23 1451.55 2116.68 1450.97 Q2119.13 1450.39 2121.17 1450.39 Q2126.54 1450.39 2129.74 1453.08 Q2132.93 1455.77 2132.93 1460.26 Q2132.93 1462.39 2132.12 1464.31 Q2131.33 1466.2 2129.23 1468.8 Q2128.65 1469.47 2125.55 1472.69 Q2122.44 1475.88 2116.8 1481.64 Z\" fill=\"#000000\" fill-rule=\"evenodd\" fill-opacity=\"1\" /><path clip-path=\"url(#clip040)\" d=\"M2142.98 1451.02 L2161.33 1451.02 L2161.33 1454.96 L2147.26 1454.96 L2147.26 1463.43 Q2148.28 1463.08 2149.3 1462.92 Q2150.31 1462.73 2151.33 1462.73 Q2157.12 1462.73 2160.5 1465.9 Q2163.88 1469.08 2163.88 1474.49 Q2163.88 1480.07 2160.41 1483.17 Q2156.94 1486.25 2150.62 1486.25 Q2148.44 1486.25 2146.17 1485.88 Q2143.93 1485.51 2141.52 1484.77 L2141.52 1480.07 Q2143.6 1481.2 2145.82 1481.76 Q2148.05 1482.32 2150.52 1482.32 Q2154.53 1482.32 2156.87 1480.21 Q2159.2 1478.1 2159.2 1474.49 Q2159.2 1470.88 2156.87 1468.77 Q2154.53 1466.67 2150.52 1466.67 Q2148.65 1466.67 2146.77 1467.08 Q2144.92 1467.5 2142.98 1468.38 L2142.98 1451.02 Z\" fill=\"#000000\" fill-rule=\"evenodd\" fill-opacity=\"1\" /><path clip-path=\"url(#clip040)\" d=\"M1128.87 1522.27 L1128.87 1532.4 L1140.93 1532.4 L1140.93 1536.95 L1128.87 1536.95 L1128.87 1556.3 Q1128.87 1560.66 1130.05 1561.9 Q1131.26 1563.14 1134.92 1563.14 L1140.93 1563.14 L1140.93 1568.04 L1134.92 1568.04 Q1128.14 1568.04 1125.56 1565.53 Q1122.98 1562.98 1122.98 1556.3 L1122.98 1536.95 L1118.68 1536.95 L1118.68 1532.4 L1122.98 1532.4 L1122.98 1522.27 L1128.87 1522.27 Z\" fill=\"#000000\" fill-rule=\"evenodd\" fill-opacity=\"1\" /><path clip-path=\"url(#clip040)\" d=\"M1148.63 1532.4 L1154.49 1532.4 L1154.49 1568.04 L1148.63 1568.04 L1148.63 1532.4 M1148.63 1518.52 L1154.49 1518.52 L1154.49 1525.93 L1148.63 1525.93 L1148.63 1518.52 Z\" fill=\"#000000\" fill-rule=\"evenodd\" fill-opacity=\"1\" /><path clip-path=\"url(#clip040)\" d=\"M1194.5 1539.24 Q1196.69 1535.29 1199.75 1533.41 Q1202.81 1531.54 1206.94 1531.54 Q1212.51 1531.54 1215.54 1535.45 Q1218.56 1539.33 1218.56 1546.53 L1218.56 1568.04 L1212.67 1568.04 L1212.67 1546.72 Q1212.67 1541.59 1210.86 1539.11 Q1209.04 1536.63 1205.32 1536.63 Q1200.77 1536.63 1198.13 1539.65 Q1195.49 1542.68 1195.49 1547.9 L1195.49 1568.04 L1189.6 1568.04 L1189.6 1546.72 Q1189.6 1541.56 1187.78 1539.11 Q1185.97 1536.63 1182.18 1536.63 Q1177.69 1536.63 1175.05 1539.68 Q1172.41 1542.71 1172.41 1547.9 L1172.41 1568.04 L1166.52 1568.04 L1166.52 1532.4 L1172.41 1532.4 L1172.41 1537.93 Q1174.41 1534.66 1177.22 1533.1 Q1180.02 1531.54 1183.87 1531.54 Q1187.75 1531.54 1190.46 1533.51 Q1193.19 1535.48 1194.5 1539.24 Z\" fill=\"#000000\" fill-rule=\"evenodd\" fill-opacity=\"1\" /><path clip-path=\"url(#clip040)\" d=\"M1260.73 1548.76 L1260.73 1551.62 L1233.81 1551.62 Q1234.19 1557.67 1237.44 1560.85 Q1240.71 1564 1246.54 1564 Q1249.91 1564 1253.06 1563.17 Q1256.25 1562.35 1259.37 1560.69 L1259.37 1566.23 Q1256.21 1567.57 1252.9 1568.27 Q1249.59 1568.97 1246.19 1568.97 Q1237.66 1568.97 1232.66 1564 Q1227.7 1559.04 1227.7 1550.57 Q1227.7 1541.82 1232.41 1536.69 Q1237.15 1531.54 1245.17 1531.54 Q1252.36 1531.54 1256.53 1536.18 Q1260.73 1540.8 1260.73 1548.76 M1254.88 1547.04 Q1254.81 1542.23 1252.17 1539.37 Q1249.56 1536.5 1245.23 1536.5 Q1240.33 1536.5 1237.37 1539.27 Q1234.44 1542.04 1234 1547.07 L1254.88 1547.04 Z\" fill=\"#000000\" fill-rule=\"evenodd\" fill-opacity=\"1\" /><path clip-path=\"url(#clip040)\" d=\"M1290.53 1518.52 L1304.02 1518.52 L1304.02 1523.07 L1296.38 1523.07 L1296.38 1572.09 L1304.02 1572.09 L1304.02 1576.64 L1290.53 1576.64 L1290.53 1518.52 Z\" fill=\"#000000\" fill-rule=\"evenodd\" fill-opacity=\"1\" /><path clip-path=\"url(#clip040)\" d=\"M1344.25 1539.24 Q1346.45 1535.29 1349.5 1533.41 Q1352.56 1531.54 1356.7 1531.54 Q1362.27 1531.54 1365.29 1535.45 Q1368.31 1539.33 1368.31 1546.53 L1368.31 1568.04 L1362.43 1568.04 L1362.43 1546.72 Q1362.43 1541.59 1360.61 1539.11 Q1358.8 1536.63 1355.07 1536.63 Q1350.52 1536.63 1347.88 1539.65 Q1345.24 1542.68 1345.24 1547.9 L1345.24 1568.04 L1339.35 1568.04 L1339.35 1546.72 Q1339.35 1541.56 1337.54 1539.11 Q1335.72 1536.63 1331.93 1536.63 Q1327.45 1536.63 1324.8 1539.68 Q1322.16 1542.71 1322.16 1547.9 L1322.16 1568.04 L1316.27 1568.04 L1316.27 1532.4 L1322.16 1532.4 L1322.16 1537.93 Q1324.17 1534.66 1326.97 1533.1 Q1329.77 1531.54 1333.62 1531.54 Q1337.5 1531.54 1340.21 1533.51 Q1342.95 1535.48 1344.25 1539.24 Z\" fill=\"#000000\" fill-rule=\"evenodd\" fill-opacity=\"1\" /><path clip-path=\"url(#clip040)\" d=\"M1380 1532.4 L1385.85 1532.4 L1385.85 1568.04 L1380 1568.04 L1380 1532.4 M1380 1518.52 L1385.85 1518.52 L1385.85 1525.93 L1380 1525.93 L1380 1518.52 Z\" fill=\"#000000\" fill-rule=\"evenodd\" fill-opacity=\"1\" /><path clip-path=\"url(#clip040)\" d=\"M1427.74 1546.53 L1427.74 1568.04 L1421.88 1568.04 L1421.88 1546.72 Q1421.88 1541.66 1419.91 1539.14 Q1417.94 1536.63 1413.99 1536.63 Q1409.25 1536.63 1406.51 1539.65 Q1403.77 1542.68 1403.77 1547.9 L1403.77 1568.04 L1397.88 1568.04 L1397.88 1532.4 L1403.77 1532.4 L1403.77 1537.93 Q1405.87 1534.72 1408.7 1533.13 Q1411.57 1531.54 1415.29 1531.54 Q1421.44 1531.54 1424.59 1535.36 Q1427.74 1539.14 1427.74 1546.53 Z\" fill=\"#000000\" fill-rule=\"evenodd\" fill-opacity=\"1\" /><path clip-path=\"url(#clip040)\" d=\"M1453.11 1518.52 L1453.11 1576.64 L1439.61 1576.64 L1439.61 1572.09 L1447.22 1572.09 L1447.22 1523.07 L1439.61 1523.07 L1439.61 1518.52 L1453.11 1518.52 Z\" fill=\"#000000\" fill-rule=\"evenodd\" fill-opacity=\"1\" /><polyline clip-path=\"url(#clip045)\" style=\"stroke:#000000; stroke-linecap:round; stroke-linejoin:round; stroke-width:8; stroke-opacity:0.1; fill:none\" points=\"219.033,1423.18 2352.76,1423.18 \"/>\n",
       "<polyline clip-path=\"url(#clip045)\" style=\"stroke:#000000; stroke-linecap:round; stroke-linejoin:round; stroke-width:8; stroke-opacity:0.1; fill:none\" points=\"219.033,1364.61 2352.76,1364.61 \"/>\n",
       "<polyline clip-path=\"url(#clip045)\" style=\"stroke:#000000; stroke-linecap:round; stroke-linejoin:round; stroke-width:8; stroke-opacity:0.1; fill:none\" points=\"219.033,1306.03 2352.76,1306.03 \"/>\n",
       "<polyline clip-path=\"url(#clip045)\" style=\"stroke:#000000; stroke-linecap:round; stroke-linejoin:round; stroke-width:8; stroke-opacity:0.1; fill:none\" points=\"219.033,1247.46 2352.76,1247.46 \"/>\n",
       "<polyline clip-path=\"url(#clip045)\" style=\"stroke:#000000; stroke-linecap:round; stroke-linejoin:round; stroke-width:8; stroke-opacity:0.1; fill:none\" points=\"219.033,1188.88 2352.76,1188.88 \"/>\n",
       "<polyline clip-path=\"url(#clip045)\" style=\"stroke:#000000; stroke-linecap:round; stroke-linejoin:round; stroke-width:8; stroke-opacity:0.1; fill:none\" points=\"219.033,1130.31 2352.76,1130.31 \"/>\n",
       "<polyline clip-path=\"url(#clip045)\" style=\"stroke:#000000; stroke-linecap:round; stroke-linejoin:round; stroke-width:8; stroke-opacity:0.1; fill:none\" points=\"219.033,1071.73 2352.76,1071.73 \"/>\n",
       "<polyline clip-path=\"url(#clip040)\" style=\"stroke:#000000; stroke-linecap:round; stroke-linejoin:round; stroke-width:4; stroke-opacity:1; fill:none\" points=\"219.033,1423.18 219.033,1071.73 \"/>\n",
       "<polyline clip-path=\"url(#clip040)\" style=\"stroke:#000000; stroke-linecap:round; stroke-linejoin:round; stroke-width:4; stroke-opacity:1; fill:none\" points=\"219.033,1423.18 237.931,1423.18 \"/>\n",
       "<polyline clip-path=\"url(#clip040)\" style=\"stroke:#000000; stroke-linecap:round; stroke-linejoin:round; stroke-width:4; stroke-opacity:1; fill:none\" points=\"219.033,1364.61 237.931,1364.61 \"/>\n",
       "<polyline clip-path=\"url(#clip040)\" style=\"stroke:#000000; stroke-linecap:round; stroke-linejoin:round; stroke-width:4; stroke-opacity:1; fill:none\" points=\"219.033,1306.03 237.931,1306.03 \"/>\n",
       "<polyline clip-path=\"url(#clip040)\" style=\"stroke:#000000; stroke-linecap:round; stroke-linejoin:round; stroke-width:4; stroke-opacity:1; fill:none\" points=\"219.033,1247.46 237.931,1247.46 \"/>\n",
       "<polyline clip-path=\"url(#clip040)\" style=\"stroke:#000000; stroke-linecap:round; stroke-linejoin:round; stroke-width:4; stroke-opacity:1; fill:none\" points=\"219.033,1188.88 237.931,1188.88 \"/>\n",
       "<polyline clip-path=\"url(#clip040)\" style=\"stroke:#000000; stroke-linecap:round; stroke-linejoin:round; stroke-width:4; stroke-opacity:1; fill:none\" points=\"219.033,1130.31 237.931,1130.31 \"/>\n",
       "<polyline clip-path=\"url(#clip040)\" style=\"stroke:#000000; stroke-linecap:round; stroke-linejoin:round; stroke-width:4; stroke-opacity:1; fill:none\" points=\"219.033,1071.73 237.931,1071.73 \"/>\n",
       "<path clip-path=\"url(#clip040)\" d=\"M116.181 1436.52 L123.82 1436.52 L123.82 1410.16 L115.51 1411.83 L115.51 1407.57 L123.774 1405.9 L128.45 1405.9 L128.45 1436.52 L136.089 1436.52 L136.089 1440.46 L116.181 1440.46 L116.181 1436.52 Z\" fill=\"#000000\" fill-rule=\"evenodd\" fill-opacity=\"1\" /><path clip-path=\"url(#clip040)\" d=\"M145.533 1434.58 L150.417 1434.58 L150.417 1440.46 L145.533 1440.46 L145.533 1434.58 Z\" fill=\"#000000\" fill-rule=\"evenodd\" fill-opacity=\"1\" /><path clip-path=\"url(#clip040)\" d=\"M173.45 1409.97 L161.644 1428.42 L173.45 1428.42 L173.45 1409.97 M172.223 1405.9 L178.102 1405.9 L178.102 1428.42 L183.033 1428.42 L183.033 1432.31 L178.102 1432.31 L178.102 1440.46 L173.45 1440.46 L173.45 1432.31 L157.848 1432.31 L157.848 1427.8 L172.223 1405.9 Z\" fill=\"#000000\" fill-rule=\"evenodd\" fill-opacity=\"1\" /><path clip-path=\"url(#clip040)\" d=\"M117.663 1377.95 L125.302 1377.95 L125.302 1351.58 L116.992 1353.25 L116.992 1348.99 L125.255 1347.33 L129.931 1347.33 L129.931 1377.95 L137.57 1377.95 L137.57 1381.89 L117.663 1381.89 L117.663 1377.95 Z\" fill=\"#000000\" fill-rule=\"evenodd\" fill-opacity=\"1\" /><path clip-path=\"url(#clip040)\" d=\"M147.015 1376.01 L151.899 1376.01 L151.899 1381.89 L147.015 1381.89 L147.015 1376.01 Z\" fill=\"#000000\" fill-rule=\"evenodd\" fill-opacity=\"1\" /><path clip-path=\"url(#clip040)\" d=\"M162.13 1347.33 L180.487 1347.33 L180.487 1351.26 L166.413 1351.26 L166.413 1359.73 Q167.431 1359.39 168.45 1359.22 Q169.468 1359.04 170.487 1359.04 Q176.274 1359.04 179.653 1362.21 Q183.033 1365.38 183.033 1370.8 Q183.033 1376.38 179.561 1379.48 Q176.089 1382.56 169.769 1382.56 Q167.593 1382.56 165.325 1382.19 Q163.079 1381.82 160.672 1381.08 L160.672 1376.38 Q162.755 1377.51 164.977 1378.07 Q167.2 1378.62 169.677 1378.62 Q173.681 1378.62 176.019 1376.51 Q178.357 1374.41 178.357 1370.8 Q178.357 1367.19 176.019 1365.08 Q173.681 1362.97 169.677 1362.97 Q167.802 1362.97 165.927 1363.39 Q164.075 1363.81 162.13 1364.69 L162.13 1347.33 Z\" fill=\"#000000\" fill-rule=\"evenodd\" fill-opacity=\"1\" /><path clip-path=\"url(#clip040)\" d=\"M116.506 1319.38 L124.144 1319.38 L124.144 1293.01 L115.834 1294.68 L115.834 1290.42 L124.098 1288.75 L128.774 1288.75 L128.774 1319.38 L136.413 1319.38 L136.413 1323.31 L116.506 1323.31 L116.506 1319.38 Z\" fill=\"#000000\" fill-rule=\"evenodd\" fill-opacity=\"1\" /><path clip-path=\"url(#clip040)\" d=\"M145.857 1317.43 L150.741 1317.43 L150.741 1323.31 L145.857 1323.31 L145.857 1317.43 Z\" fill=\"#000000\" fill-rule=\"evenodd\" fill-opacity=\"1\" /><path clip-path=\"url(#clip040)\" d=\"M171.505 1304.17 Q168.357 1304.17 166.505 1306.32 Q164.677 1308.47 164.677 1312.22 Q164.677 1315.95 166.505 1318.13 Q168.357 1320.28 171.505 1320.28 Q174.653 1320.28 176.482 1318.13 Q178.334 1315.95 178.334 1312.22 Q178.334 1308.47 176.482 1306.32 Q174.653 1304.17 171.505 1304.17 M180.788 1289.51 L180.788 1293.77 Q179.028 1292.94 177.223 1292.5 Q175.44 1292.06 173.681 1292.06 Q169.052 1292.06 166.598 1295.19 Q164.167 1298.31 163.82 1304.63 Q165.186 1302.62 167.246 1301.55 Q169.306 1300.46 171.783 1300.46 Q176.991 1300.46 180.001 1303.63 Q183.033 1306.78 183.033 1312.22 Q183.033 1317.55 179.885 1320.76 Q176.737 1323.98 171.505 1323.98 Q165.51 1323.98 162.339 1319.4 Q159.167 1314.79 159.167 1306.07 Q159.167 1297.87 163.056 1293.01 Q166.945 1288.13 173.496 1288.13 Q175.255 1288.13 177.038 1288.47 Q178.843 1288.82 180.788 1289.51 Z\" fill=\"#000000\" fill-rule=\"evenodd\" fill-opacity=\"1\" /><path clip-path=\"url(#clip040)\" d=\"M117.57 1260.8 L125.209 1260.8 L125.209 1234.44 L116.899 1236.1 L116.899 1231.84 L125.163 1230.18 L129.839 1230.18 L129.839 1260.8 L137.478 1260.8 L137.478 1264.74 L117.57 1264.74 L117.57 1260.8 Z\" fill=\"#000000\" fill-rule=\"evenodd\" fill-opacity=\"1\" /><path clip-path=\"url(#clip040)\" d=\"M146.922 1258.86 L151.806 1258.86 L151.806 1264.74 L146.922 1264.74 L146.922 1258.86 Z\" fill=\"#000000\" fill-rule=\"evenodd\" fill-opacity=\"1\" /><path clip-path=\"url(#clip040)\" d=\"M160.811 1230.18 L183.033 1230.18 L183.033 1232.17 L170.487 1264.74 L165.602 1264.74 L177.408 1234.11 L160.811 1234.11 L160.811 1230.18 Z\" fill=\"#000000\" fill-rule=\"evenodd\" fill-opacity=\"1\" /><path clip-path=\"url(#clip040)\" d=\"M116.76 1202.23 L124.399 1202.23 L124.399 1175.86 L116.089 1177.53 L116.089 1173.27 L124.353 1171.6 L129.029 1171.6 L129.029 1202.23 L136.667 1202.23 L136.667 1206.16 L116.76 1206.16 L116.76 1202.23 Z\" fill=\"#000000\" fill-rule=\"evenodd\" fill-opacity=\"1\" /><path clip-path=\"url(#clip040)\" d=\"M146.112 1200.28 L150.996 1200.28 L150.996 1206.16 L146.112 1206.16 L146.112 1200.28 Z\" fill=\"#000000\" fill-rule=\"evenodd\" fill-opacity=\"1\" /><path clip-path=\"url(#clip040)\" d=\"M171.181 1189.75 Q167.848 1189.75 165.927 1191.53 Q164.028 1193.31 164.028 1196.44 Q164.028 1199.56 165.927 1201.35 Q167.848 1203.13 171.181 1203.13 Q174.514 1203.13 176.436 1201.35 Q178.357 1199.54 178.357 1196.44 Q178.357 1193.31 176.436 1191.53 Q174.538 1189.75 171.181 1189.75 M166.505 1187.76 Q163.496 1187.02 161.806 1184.96 Q160.14 1182.9 160.14 1179.93 Q160.14 1175.79 163.079 1173.38 Q166.042 1170.98 171.181 1170.98 Q176.343 1170.98 179.283 1173.38 Q182.223 1175.79 182.223 1179.93 Q182.223 1182.9 180.533 1184.96 Q178.866 1187.02 175.88 1187.76 Q179.26 1188.55 181.135 1190.84 Q183.033 1193.13 183.033 1196.44 Q183.033 1201.46 179.954 1204.15 Q176.899 1206.83 171.181 1206.83 Q165.464 1206.83 162.385 1204.15 Q159.329 1201.46 159.329 1196.44 Q159.329 1193.13 161.227 1190.84 Q163.126 1188.55 166.505 1187.76 M164.792 1180.37 Q164.792 1183.06 166.459 1184.56 Q168.149 1186.07 171.181 1186.07 Q174.19 1186.07 175.88 1184.56 Q177.593 1183.06 177.593 1180.37 Q177.593 1177.69 175.88 1176.18 Q174.19 1174.68 171.181 1174.68 Q168.149 1174.68 166.459 1176.18 Q164.792 1177.69 164.792 1180.37 Z\" fill=\"#000000\" fill-rule=\"evenodd\" fill-opacity=\"1\" /><path clip-path=\"url(#clip040)\" d=\"M116.853 1143.65 L124.492 1143.65 L124.492 1117.29 L116.181 1118.95 L116.181 1114.69 L124.445 1113.03 L129.121 1113.03 L129.121 1143.65 L136.76 1143.65 L136.76 1147.59 L116.853 1147.59 L116.853 1143.65 Z\" fill=\"#000000\" fill-rule=\"evenodd\" fill-opacity=\"1\" /><path clip-path=\"url(#clip040)\" d=\"M146.204 1141.71 L151.089 1141.71 L151.089 1147.59 L146.204 1147.59 L146.204 1141.71 Z\" fill=\"#000000\" fill-rule=\"evenodd\" fill-opacity=\"1\" /><path clip-path=\"url(#clip040)\" d=\"M161.413 1146.87 L161.413 1142.61 Q163.172 1143.44 164.977 1143.88 Q166.783 1144.32 168.519 1144.32 Q173.149 1144.32 175.579 1141.22 Q178.033 1138.1 178.38 1131.75 Q177.038 1133.74 174.977 1134.81 Q172.917 1135.87 170.417 1135.87 Q165.232 1135.87 162.2 1132.75 Q159.19 1129.6 159.19 1124.16 Q159.19 1118.84 162.339 1115.62 Q165.487 1112.4 170.718 1112.4 Q176.714 1112.4 179.862 1117.01 Q183.033 1121.59 183.033 1130.34 Q183.033 1138.51 179.144 1143.4 Q175.278 1148.26 168.727 1148.26 Q166.968 1148.26 165.163 1147.91 Q163.357 1147.56 161.413 1146.87 M170.718 1132.22 Q173.866 1132.22 175.695 1130.06 Q177.547 1127.91 177.547 1124.16 Q177.547 1120.43 175.695 1118.28 Q173.866 1116.11 170.718 1116.11 Q167.57 1116.11 165.718 1118.28 Q163.89 1120.43 163.89 1124.16 Q163.89 1127.91 165.718 1130.06 Q167.57 1132.22 170.718 1132.22 Z\" fill=\"#000000\" fill-rule=\"evenodd\" fill-opacity=\"1\" /><path clip-path=\"url(#clip040)\" d=\"M119.885 1085.08 L136.204 1085.08 L136.204 1089.01 L114.26 1089.01 L114.26 1085.08 Q116.922 1082.32 121.505 1077.69 Q126.112 1073.04 127.292 1071.7 Q129.538 1069.17 130.417 1067.44 Q131.32 1065.68 131.32 1063.99 Q131.32 1061.23 129.376 1059.5 Q127.455 1057.76 124.353 1057.76 Q122.154 1057.76 119.7 1058.53 Q117.269 1059.29 114.492 1060.84 L114.492 1056.12 Q117.316 1054.98 119.769 1054.41 Q122.223 1053.83 124.26 1053.83 Q129.63 1053.83 132.825 1056.51 Q136.019 1059.2 136.019 1063.69 Q136.019 1065.82 135.209 1067.74 Q134.422 1069.64 132.316 1072.23 Q131.737 1072.9 128.635 1076.12 Q125.533 1079.31 119.885 1085.08 Z\" fill=\"#000000\" fill-rule=\"evenodd\" fill-opacity=\"1\" /><path clip-path=\"url(#clip040)\" d=\"M146.019 1083.13 L150.903 1083.13 L150.903 1089.01 L146.019 1089.01 L146.019 1083.13 Z\" fill=\"#000000\" fill-rule=\"evenodd\" fill-opacity=\"1\" /><path clip-path=\"url(#clip040)\" d=\"M171.089 1057.53 Q167.477 1057.53 165.649 1061.1 Q163.843 1064.64 163.843 1071.77 Q163.843 1078.87 165.649 1082.44 Q167.477 1085.98 171.089 1085.98 Q174.723 1085.98 176.528 1082.44 Q178.357 1078.87 178.357 1071.77 Q178.357 1064.64 176.528 1061.1 Q174.723 1057.53 171.089 1057.53 M171.089 1053.83 Q176.899 1053.83 179.954 1058.43 Q183.033 1063.02 183.033 1071.77 Q183.033 1080.49 179.954 1085.1 Q176.899 1089.68 171.089 1089.68 Q165.278 1089.68 162.2 1085.1 Q159.144 1080.49 159.144 1071.77 Q159.144 1063.02 162.2 1058.43 Q165.278 1053.83 171.089 1053.83 Z\" fill=\"#000000\" fill-rule=\"evenodd\" fill-opacity=\"1\" /><path clip-path=\"url(#clip040)\" d=\"M56.6478 1301.92 Q60.8023 1302.76 63.1856 1303.89 Q66.8248 1305.72 66.8248 1308.78 Q66.8248 1310.91 65.6332 1312.52 Q64.4094 1314.1 62.3804 1314.65 Q63.1856 1315.26 63.7331 1315.8 Q64.2806 1316.32 65.1179 1317.32 Q65.9231 1318.32 66.3739 1319.67 Q66.8248 1320.99 66.8248 1322.5 Q66.8248 1323.66 66.5994 1324.73 Q66.4062 1325.79 65.8587 1326.92 Q65.2789 1328.01 64.4094 1328.82 Q63.5398 1329.59 62.1228 1330.1 Q60.7057 1330.62 58.9022 1330.62 Q56.6478 1330.62 53.5882 1329.75 Q50.5287 1328.85 45.0537 1326.79 Q42.1551 1325.66 40.5448 1325.66 Q39.8041 1325.66 39.321 1325.82 Q38.8379 1325.98 38.6769 1326.3 Q38.4837 1326.59 38.4515 1326.79 Q38.3871 1326.98 38.3871 1327.3 Q38.3871 1329.3 40.416 1331.04 Q42.445 1332.78 46.5673 1333.97 Q47.3725 1334.23 47.5657 1334.39 Q47.759 1334.55 47.759 1335.03 Q47.7268 1335.84 47.0826 1335.84 Q46.825 1335.84 45.8266 1335.55 Q44.796 1335.26 43.2823 1334.58 Q41.7365 1333.87 40.3516 1332.91 Q38.9346 1331.94 37.9362 1330.43 Q36.9378 1328.88 36.9378 1327.11 Q36.9378 1324.69 38.5159 1323.21 Q40.0618 1321.7 42.3484 1321.7 Q43.7654 1321.7 46.5029 1322.83 Q56.0037 1326.4 59.965 1326.4 Q65.3434 1326.4 65.3434 1322.31 Q65.3434 1320.96 64.7959 1319.7 Q64.2484 1318.41 63.4754 1317.58 Q62.7025 1316.74 61.8651 1316.09 Q61.0278 1315.42 60.4803 1315.13 Q59.9328 1314.81 59.804 1314.77 L39.9651 1309.85 Q39.1922 1309.65 38.6769 1309.3 Q38.1294 1308.91 37.9362 1308.46 Q37.7429 1308.01 37.7107 1307.75 Q37.6463 1307.5 37.6463 1307.27 Q37.6463 1306.46 38.1294 1305.92 Q38.6125 1305.34 39.4498 1305.34 Q39.6109 1305.34 40.3838 1305.53 Q41.1246 1305.69 42.2196 1305.95 Q43.2823 1306.21 43.8621 1306.34 Q47.92 1307.37 48.3387 1307.46 L55.4562 1309.3 Q55.8748 1309.4 57.2275 1309.72 Q58.5801 1310.01 59.2887 1310.17 Q59.965 1310.33 60.899 1310.49 Q61.8007 1310.62 62.316 1310.62 Q63.9263 1310.62 64.6348 1310.14 Q65.3434 1309.65 65.3434 1308.59 Q65.3434 1307.59 64.667 1306.82 Q63.9585 1306.01 62.6059 1305.4 Q61.221 1304.79 60.0938 1304.44 Q58.9666 1304.08 57.1953 1303.63 Q56.4223 1303.47 56.2291 1303.34 Q56.0037 1303.18 56.0037 1302.73 Q56.0037 1301.92 56.6478 1301.92 Z\" fill=\"#000000\" fill-rule=\"evenodd\" fill-opacity=\"1\" /><path clip-path=\"url(#clip040)\" d=\"M82.5735 1246.19 L16.6159 1246.19 L16.6159 1236.24 L18.1296 1236.24 L18.1296 1241.78 L81.0598 1241.78 L81.0598 1236.24 L82.5735 1236.24 L82.5735 1246.19 Z\" fill=\"#000000\" fill-rule=\"evenodd\" fill-opacity=\"1\" /><path clip-path=\"url(#clip040)\" d=\"M48.6607 1184.5 Q49.0472 1184.11 49.5947 1184.11 Q50.1422 1184.11 50.5287 1184.5 Q50.9151 1184.88 50.9151 1185.43 L50.9151 1226.72 Q50.9151 1227.27 50.5287 1227.65 Q50.1422 1228.04 49.5947 1228.04 Q49.0472 1228.04 48.6607 1227.65 Q48.2743 1227.27 48.2743 1226.72 L48.2743 1185.43 Q48.2743 1184.88 48.6607 1184.5 Z\" fill=\"#000000\" fill-rule=\"evenodd\" fill-opacity=\"1\" /><path clip-path=\"url(#clip040)\" d=\"M81.0598 1177.23 L81.0598 1171.69 L18.1296 1171.69 L18.1296 1177.23 L16.6159 1177.23 L16.6159 1167.27 L82.5735 1167.27 L82.5735 1177.23 L81.0598 1177.23 Z\" fill=\"#000000\" fill-rule=\"evenodd\" fill-opacity=\"1\" /><polyline clip-path=\"url(#clip045)\" style=\"stroke:#000000; stroke-linecap:round; stroke-linejoin:round; stroke-width:4; stroke-opacity:1; fill:none\" stroke-dasharray=\"2, 4\" points=\"279.421,-685.507 356.842,-685.507 434.263,-685.507 511.684,-685.507 589.105,-685.507 666.526,-685.507 743.947,-685.507 821.368,-685.507 898.789,-685.507 976.21,-685.507 1053.63,-685.507 1131.05,-685.507 1208.47,-685.507 1285.89,-685.507 1363.32,-685.507 1440.74,-685.507 1518.16,-685.507 1595.58,-685.507 1673,-685.507 1750.42,-685.507 1827.84,-685.507 1905.26,-685.507 1982.68,-685.507 2060.1,-685.507 2137.53,-685.507 2214.95,-685.507 2292.37,-685.507 \"/>\n",
       "<circle clip-path=\"url(#clip045)\" cx=\"279.421\" cy=\"1158.34\" r=\"10.8\" fill=\"#000000\" fill-rule=\"evenodd\" fill-opacity=\"1\" stroke=\"none\"/>\n",
       "<circle clip-path=\"url(#clip045)\" cx=\"356.842\" cy=\"1074.89\" r=\"10.8\" fill=\"#000000\" fill-rule=\"evenodd\" fill-opacity=\"1\" stroke=\"none\"/>\n",
       "<circle clip-path=\"url(#clip045)\" cx=\"434.263\" cy=\"1168.35\" r=\"10.8\" fill=\"#000000\" fill-rule=\"evenodd\" fill-opacity=\"1\" stroke=\"none\"/>\n",
       "<circle clip-path=\"url(#clip045)\" cx=\"511.684\" cy=\"1283.23\" r=\"10.8\" fill=\"#000000\" fill-rule=\"evenodd\" fill-opacity=\"1\" stroke=\"none\"/>\n",
       "<circle clip-path=\"url(#clip045)\" cx=\"589.105\" cy=\"1331.58\" r=\"10.8\" fill=\"#000000\" fill-rule=\"evenodd\" fill-opacity=\"1\" stroke=\"none\"/>\n",
       "<circle clip-path=\"url(#clip045)\" cx=\"666.526\" cy=\"1305.48\" r=\"10.8\" fill=\"#000000\" fill-rule=\"evenodd\" fill-opacity=\"1\" stroke=\"none\"/>\n",
       "<circle clip-path=\"url(#clip045)\" cx=\"743.947\" cy=\"1280.08\" r=\"10.8\" fill=\"#000000\" fill-rule=\"evenodd\" fill-opacity=\"1\" stroke=\"none\"/>\n",
       "<circle clip-path=\"url(#clip045)\" cx=\"821.368\" cy=\"1287.36\" r=\"10.8\" fill=\"#000000\" fill-rule=\"evenodd\" fill-opacity=\"1\" stroke=\"none\"/>\n",
       "<circle clip-path=\"url(#clip045)\" cx=\"898.789\" cy=\"1296.8\" r=\"10.8\" fill=\"#000000\" fill-rule=\"evenodd\" fill-opacity=\"1\" stroke=\"none\"/>\n",
       "<circle clip-path=\"url(#clip045)\" cx=\"976.21\" cy=\"1290.3\" r=\"10.8\" fill=\"#000000\" fill-rule=\"evenodd\" fill-opacity=\"1\" stroke=\"none\"/>\n",
       "<circle clip-path=\"url(#clip045)\" cx=\"1053.63\" cy=\"1288.3\" r=\"10.8\" fill=\"#000000\" fill-rule=\"evenodd\" fill-opacity=\"1\" stroke=\"none\"/>\n",
       "<circle clip-path=\"url(#clip045)\" cx=\"1131.05\" cy=\"1294.44\" r=\"10.8\" fill=\"#000000\" fill-rule=\"evenodd\" fill-opacity=\"1\" stroke=\"none\"/>\n",
       "<circle clip-path=\"url(#clip045)\" cx=\"1208.47\" cy=\"1290.79\" r=\"10.8\" fill=\"#000000\" fill-rule=\"evenodd\" fill-opacity=\"1\" stroke=\"none\"/>\n",
       "<circle clip-path=\"url(#clip045)\" cx=\"1285.89\" cy=\"1288.67\" r=\"10.8\" fill=\"#000000\" fill-rule=\"evenodd\" fill-opacity=\"1\" stroke=\"none\"/>\n",
       "<circle clip-path=\"url(#clip045)\" cx=\"1363.32\" cy=\"1293.73\" r=\"10.8\" fill=\"#000000\" fill-rule=\"evenodd\" fill-opacity=\"1\" stroke=\"none\"/>\n",
       "<circle clip-path=\"url(#clip045)\" cx=\"1440.74\" cy=\"1290.04\" r=\"10.8\" fill=\"#000000\" fill-rule=\"evenodd\" fill-opacity=\"1\" stroke=\"none\"/>\n",
       "<circle clip-path=\"url(#clip045)\" cx=\"1518.16\" cy=\"1291.17\" r=\"10.8\" fill=\"#000000\" fill-rule=\"evenodd\" fill-opacity=\"1\" stroke=\"none\"/>\n",
       "<circle clip-path=\"url(#clip045)\" cx=\"1595.58\" cy=\"1291.47\" r=\"10.8\" fill=\"#000000\" fill-rule=\"evenodd\" fill-opacity=\"1\" stroke=\"none\"/>\n",
       "<circle clip-path=\"url(#clip045)\" cx=\"1673\" cy=\"1290.98\" r=\"10.8\" fill=\"#000000\" fill-rule=\"evenodd\" fill-opacity=\"1\" stroke=\"none\"/>\n",
       "<circle clip-path=\"url(#clip045)\" cx=\"1750.42\" cy=\"1291.16\" r=\"10.8\" fill=\"#000000\" fill-rule=\"evenodd\" fill-opacity=\"1\" stroke=\"none\"/>\n",
       "<circle clip-path=\"url(#clip045)\" cx=\"1827.84\" cy=\"1291.16\" r=\"10.8\" fill=\"#000000\" fill-rule=\"evenodd\" fill-opacity=\"1\" stroke=\"none\"/>\n",
       "<circle clip-path=\"url(#clip045)\" cx=\"1905.26\" cy=\"1291.16\" r=\"10.8\" fill=\"#000000\" fill-rule=\"evenodd\" fill-opacity=\"1\" stroke=\"none\"/>\n",
       "<circle clip-path=\"url(#clip045)\" cx=\"1982.68\" cy=\"1291.16\" r=\"10.8\" fill=\"#000000\" fill-rule=\"evenodd\" fill-opacity=\"1\" stroke=\"none\"/>\n",
       "<circle clip-path=\"url(#clip045)\" cx=\"2060.1\" cy=\"1291.16\" r=\"10.8\" fill=\"#000000\" fill-rule=\"evenodd\" fill-opacity=\"1\" stroke=\"none\"/>\n",
       "<circle clip-path=\"url(#clip045)\" cx=\"2137.53\" cy=\"1291.16\" r=\"10.8\" fill=\"#000000\" fill-rule=\"evenodd\" fill-opacity=\"1\" stroke=\"none\"/>\n",
       "<circle clip-path=\"url(#clip045)\" cx=\"2214.95\" cy=\"1291.16\" r=\"10.8\" fill=\"#000000\" fill-rule=\"evenodd\" fill-opacity=\"1\" stroke=\"none\"/>\n",
       "<circle clip-path=\"url(#clip045)\" cx=\"2292.37\" cy=\"1291.16\" r=\"10.8\" fill=\"#000000\" fill-rule=\"evenodd\" fill-opacity=\"1\" stroke=\"none\"/>\n",
       "<polyline clip-path=\"url(#clip045)\" style=\"stroke:#000000; stroke-linecap:round; stroke-linejoin:round; stroke-width:12; stroke-opacity:1; fill:none\" points=\"279.421,1158.34 279.421,1074.89 356.842,1074.89 356.842,1168.35 434.263,1168.35 434.263,1283.23 511.684,1283.23 511.684,1331.58 589.105,1331.58 589.105,1305.48 666.526,1305.48 666.526,1280.08 743.947,1280.08 743.947,1287.36 821.368,1287.36 821.368,1296.8 898.789,1296.8 898.789,1290.3 976.21,1290.3 976.21,1288.3 1053.63,1288.3 1053.63,1294.44 1131.05,1294.44 1131.05,1290.79 1208.47,1290.79 1208.47,1288.67 1285.89,1288.67 1285.89,1293.73 1363.32,1293.73 1363.32,1290.04 1440.74,1290.04 1440.74,1291.17 1518.16,1291.17 1518.16,1291.47 1595.58,1291.47 1595.58,1290.98 1673,1290.98 1673,1291.16 1750.42,1291.16 1827.84,1291.16 1905.26,1291.16 1982.68,1291.16 2060.1,1291.16 2137.53,1291.16 2214.95,1291.16 2292.37,1291.16 \"/>\n",
       "<path clip-path=\"url(#clip045)\" d=\"M267.421 1146.37 L267.421 1170.37 L291.421 1170.37 L291.421 1146.37 L267.421 1146.37 Z\" fill=\"#000000\" fill-rule=\"evenodd\" fill-opacity=\"1\" stroke=\"none\"/>\n",
       "<path clip-path=\"url(#clip045)\" d=\"M344.842 1062.92 L344.842 1086.92 L368.842 1086.92 L368.842 1062.92 L344.842 1062.92 Z\" fill=\"#000000\" fill-rule=\"evenodd\" fill-opacity=\"1\" stroke=\"none\"/>\n",
       "<path clip-path=\"url(#clip045)\" d=\"M422.263 1156.35 L422.263 1180.35 L446.263 1180.35 L446.263 1156.35 L422.263 1156.35 Z\" fill=\"#000000\" fill-rule=\"evenodd\" fill-opacity=\"1\" stroke=\"none\"/>\n",
       "<path clip-path=\"url(#clip045)\" d=\"M499.684 1271.21 L499.684 1295.21 L523.684 1295.21 L523.684 1271.21 L499.684 1271.21 Z\" fill=\"#000000\" fill-rule=\"evenodd\" fill-opacity=\"1\" stroke=\"none\"/>\n",
       "<path clip-path=\"url(#clip045)\" d=\"M577.105 1319.57 L577.105 1343.57 L601.105 1343.57 L601.105 1319.57 L577.105 1319.57 Z\" fill=\"#000000\" fill-rule=\"evenodd\" fill-opacity=\"1\" stroke=\"none\"/>\n",
       "<path clip-path=\"url(#clip045)\" d=\"M654.526 1293.5 L654.526 1317.5 L678.526 1317.5 L678.526 1293.5 L654.526 1293.5 Z\" fill=\"#000000\" fill-rule=\"evenodd\" fill-opacity=\"1\" stroke=\"none\"/>\n",
       "<path clip-path=\"url(#clip045)\" d=\"M731.947 1268.08 L731.947 1292.08 L755.947 1292.08 L755.947 1268.08 L731.947 1268.08 Z\" fill=\"#000000\" fill-rule=\"evenodd\" fill-opacity=\"1\" stroke=\"none\"/>\n",
       "<path clip-path=\"url(#clip045)\" d=\"M809.368 1275.35 L809.368 1299.35 L833.368 1299.35 L833.368 1275.35 L809.368 1275.35 Z\" fill=\"#000000\" fill-rule=\"evenodd\" fill-opacity=\"1\" stroke=\"none\"/>\n",
       "<path clip-path=\"url(#clip045)\" d=\"M886.789 1284.8 L886.789 1308.8 L910.789 1308.8 L910.789 1284.8 L886.789 1284.8 Z\" fill=\"#000000\" fill-rule=\"evenodd\" fill-opacity=\"1\" stroke=\"none\"/>\n",
       "<path clip-path=\"url(#clip045)\" d=\"M964.21 1278.31 L964.21 1302.31 L988.21 1302.31 L988.21 1278.31 L964.21 1278.31 Z\" fill=\"#000000\" fill-rule=\"evenodd\" fill-opacity=\"1\" stroke=\"none\"/>\n",
       "<path clip-path=\"url(#clip045)\" d=\"M1041.63 1276.3 L1041.63 1300.3 L1065.63 1300.3 L1065.63 1276.3 L1041.63 1276.3 Z\" fill=\"#000000\" fill-rule=\"evenodd\" fill-opacity=\"1\" stroke=\"none\"/>\n",
       "<path clip-path=\"url(#clip045)\" d=\"M1119.05 1282.44 L1119.05 1306.44 L1143.05 1306.44 L1143.05 1282.44 L1119.05 1282.44 Z\" fill=\"#000000\" fill-rule=\"evenodd\" fill-opacity=\"1\" stroke=\"none\"/>\n",
       "<path clip-path=\"url(#clip045)\" d=\"M1196.47 1278.79 L1196.47 1302.79 L1220.47 1302.79 L1220.47 1278.79 L1196.47 1278.79 Z\" fill=\"#000000\" fill-rule=\"evenodd\" fill-opacity=\"1\" stroke=\"none\"/>\n",
       "<path clip-path=\"url(#clip045)\" d=\"M1273.89 1276.67 L1273.89 1300.67 L1297.89 1300.67 L1297.89 1276.67 L1273.89 1276.67 Z\" fill=\"#000000\" fill-rule=\"evenodd\" fill-opacity=\"1\" stroke=\"none\"/>\n",
       "<path clip-path=\"url(#clip045)\" d=\"M1351.32 1281.74 L1351.32 1305.74 L1375.32 1305.74 L1375.32 1281.74 L1351.32 1281.74 Z\" fill=\"#000000\" fill-rule=\"evenodd\" fill-opacity=\"1\" stroke=\"none\"/>\n",
       "<path clip-path=\"url(#clip045)\" d=\"M1428.74 1278.04 L1428.74 1302.04 L1452.74 1302.04 L1452.74 1278.04 L1428.74 1278.04 Z\" fill=\"#000000\" fill-rule=\"evenodd\" fill-opacity=\"1\" stroke=\"none\"/>\n",
       "<path clip-path=\"url(#clip045)\" d=\"M1506.16 1279.18 L1506.16 1303.18 L1530.16 1303.18 L1530.16 1279.18 L1506.16 1279.18 Z\" fill=\"#000000\" fill-rule=\"evenodd\" fill-opacity=\"1\" stroke=\"none\"/>\n",
       "<path clip-path=\"url(#clip045)\" d=\"M1583.58 1279.47 L1583.58 1303.47 L1607.58 1303.47 L1607.58 1279.47 L1583.58 1279.47 Z\" fill=\"#000000\" fill-rule=\"evenodd\" fill-opacity=\"1\" stroke=\"none\"/>\n",
       "<path clip-path=\"url(#clip045)\" d=\"M1661 1278.98 L1661 1302.98 L1685 1302.98 L1685 1278.98 L1661 1278.98 Z\" fill=\"#000000\" fill-rule=\"evenodd\" fill-opacity=\"1\" stroke=\"none\"/>\n",
       "<path clip-path=\"url(#clip045)\" d=\"M1738.42 1279.16 L1738.42 1303.16 L1762.42 1303.16 L1762.42 1279.16 L1738.42 1279.16 Z\" fill=\"#000000\" fill-rule=\"evenodd\" fill-opacity=\"1\" stroke=\"none\"/>\n",
       "<path clip-path=\"url(#clip045)\" d=\"M1815.84 1279.16 L1815.84 1303.16 L1839.84 1303.16 L1839.84 1279.16 L1815.84 1279.16 Z\" fill=\"#000000\" fill-rule=\"evenodd\" fill-opacity=\"1\" stroke=\"none\"/>\n",
       "<path clip-path=\"url(#clip045)\" d=\"M1893.26 1279.16 L1893.26 1303.16 L1917.26 1303.16 L1917.26 1279.16 L1893.26 1279.16 Z\" fill=\"#000000\" fill-rule=\"evenodd\" fill-opacity=\"1\" stroke=\"none\"/>\n",
       "<path clip-path=\"url(#clip045)\" d=\"M1970.68 1279.16 L1970.68 1303.16 L1994.68 1303.16 L1994.68 1279.16 L1970.68 1279.16 Z\" fill=\"#000000\" fill-rule=\"evenodd\" fill-opacity=\"1\" stroke=\"none\"/>\n",
       "<path clip-path=\"url(#clip045)\" d=\"M2048.1 1279.16 L2048.1 1303.16 L2072.1 1303.16 L2072.1 1279.16 L2048.1 1279.16 Z\" fill=\"#000000\" fill-rule=\"evenodd\" fill-opacity=\"1\" stroke=\"none\"/>\n",
       "<path clip-path=\"url(#clip045)\" d=\"M2125.53 1279.16 L2125.53 1303.16 L2149.53 1303.16 L2149.53 1279.16 L2125.53 1279.16 Z\" fill=\"#000000\" fill-rule=\"evenodd\" fill-opacity=\"1\" stroke=\"none\"/>\n",
       "<path clip-path=\"url(#clip045)\" d=\"M2202.95 1279.16 L2202.95 1303.16 L2226.95 1303.16 L2226.95 1279.16 L2202.95 1279.16 Z\" fill=\"#000000\" fill-rule=\"evenodd\" fill-opacity=\"1\" stroke=\"none\"/>\n",
       "<path clip-path=\"url(#clip045)\" d=\"M2280.37 1279.16 L2280.37 1303.16 L2304.37 1303.16 L2304.37 1279.16 L2280.37 1279.16 Z\" fill=\"#000000\" fill-rule=\"evenodd\" fill-opacity=\"1\" stroke=\"none\"/>\n",
       "<polyline clip-path=\"url(#clip045)\" style=\"stroke:#000000; stroke-linecap:round; stroke-linejoin:round; stroke-width:12; stroke-opacity:1; fill:none\" stroke-dasharray=\"48, 24, 6, 24\" points=\"279.421,1158.37 279.421,1074.92 356.842,1074.92 356.842,1168.35 434.263,1168.35 434.263,1283.21 511.684,1283.21 511.684,1331.57 589.105,1331.57 589.105,1305.5 666.526,1305.5 666.526,1280.08 743.947,1280.08 743.947,1287.35 821.368,1287.35 821.368,1296.8 898.789,1296.8 898.789,1290.31 976.21,1290.31 976.21,1288.3 1053.63,1288.3 1053.63,1294.44 1131.05,1294.44 1131.05,1290.79 1208.47,1290.79 1208.47,1288.67 1285.89,1288.67 1285.89,1293.74 1363.32,1293.74 1363.32,1290.04 1440.74,1290.04 1440.74,1291.18 1518.16,1291.18 1518.16,1291.47 1595.58,1291.47 1595.58,1290.98 1673,1290.98 1673,1291.16 1750.42,1291.16 1827.84,1291.16 1905.26,1291.16 1982.68,1291.16 2060.1,1291.16 2137.53,1291.16 2214.95,1291.16 2292.37,1291.16 \"/>\n",
       "</svg>\n"
      ]
     },
     "execution_count": 28,
     "metadata": {},
     "output_type": "execute_result"
    }
   ],
   "source": [
    "plot_comp((1.4,2.0),L\"u \\quad [-]\",2,ts,uTraj,uMax)"
   ]
  },
  {
   "cell_type": "markdown",
   "id": "41cb96ae",
   "metadata": {},
   "source": [
    "Creating table to show the results"
   ]
  },
  {
   "cell_type": "code",
   "execution_count": 29,
   "id": "3ce63e67",
   "metadata": {},
   "outputs": [],
   "source": [
    "# Scenarios\n",
    "table_iter = Any[]\n",
    "table_solTime_M = Any[]\n",
    "table_solTime_D = Any[]\n",
    "table_solMax = Any[]\n",
    "table_of_M = Any[]\n",
    "table_of_D = Any[]\n",
    "table_perChange = Any[]\n",
    "\n",
    "for tt in [5 10 15 20 25 30] \n",
    "    push!(table_iter, tt)\n",
    "    push!(table_solTime_M, solTimeTraj_s[1,tt])\n",
    "    push!(table_solTime_D, solTimeTraj_s[2,tt])\n",
    "    push!(table_solMax, solTimeMaxTraj_s[tt])\n",
    "    push!(table_of_M, solObjTraj_s[1,tt])\n",
    "    push!(table_of_D, solObjTraj_s[2,tt])\n",
    "    push!(table_perChange, (solObjTraj_s[2,tt] - solObjTraj_s[1,tt])/solObjTraj_s[1,tt])\n",
    "end\n",
    "\n",
    "df_scen = DataFrame(; iter = table_iter, \n",
    "                sol_time_M = table_solTime_M, \n",
    "                 sol_time_D = table_solTime_D,\n",
    "                 sol_time_D_max = table_solMax,\n",
    "                 comp_of_M = table_of_M,\n",
    "                 comp_of_D = table_of_D,\n",
    "                 per_change = table_perChange)\n",
    "\n",
    "table_iter = Any[]\n",
    "table_solTime_M = Any[]\n",
    "table_solTime_D = Any[]\n",
    "table_of_M = Any[]\n",
    "table_of_D = Any[]\n",
    "table_perChange = Any[]\n",
    "\n",
    "for tt in [5 10 15 20 25 30] \n",
    "    push!(table_iter, tt)\n",
    "    push!(table_solTime_M, solTimeTraj_r[1,tt])\n",
    "    push!(table_solTime_D, solTimeTraj_r[2,tt])\n",
    "    push!(table_of_M, solObjTraj_r[1,tt])\n",
    "    push!(table_of_D, solObjTraj_r[2,tt])\n",
    "    push!(table_perChange, (solObjTraj_r[2,tt] - solObjTraj_r[1,tt])/solObjTraj_r[1,tt])\n",
    "end\n",
    "\n",
    "df_reac = DataFrame(; iter = table_iter, \n",
    "                sol_time_M = table_solTime_M, \n",
    "                 sol_time_D = table_solTime_D,\n",
    "                 comp_of_M = table_of_M,\n",
    "                 comp_of_D = table_of_D,\n",
    "                 per_change = table_perChange);"
   ]
  },
  {
   "cell_type": "code",
   "execution_count": 30,
   "id": "44fda462",
   "metadata": {},
   "outputs": [
    {
     "data": {
      "text/plain": [
       "\"Analysis: # of Scenarios\""
      ]
     },
     "metadata": {},
     "output_type": "display_data"
    },
    {
     "data": {
      "text/html": [
       "<div><div style = \"float: left;\"><span>6×7 DataFrame</span></div><div style = \"clear: both;\"></div></div><div class = \"data-frame\" style = \"overflow-x: scroll;\"><table class = \"data-frame\" style = \"margin-bottom: 6px;\"><thead><tr class = \"header\"><th class = \"rowNumber\" style = \"font-weight: bold; text-align: right;\">Row</th><th style = \"text-align: left;\">iter</th><th style = \"text-align: left;\">sol_time_M</th><th style = \"text-align: left;\">sol_time_D</th><th style = \"text-align: left;\">sol_time_D_max</th><th style = \"text-align: left;\">comp_of_M</th><th style = \"text-align: left;\">comp_of_D</th><th style = \"text-align: left;\">per_change</th></tr><tr class = \"subheader headerLastRow\"><th class = \"rowNumber\" style = \"font-weight: bold; text-align: right;\"></th><th title = \"Any\" style = \"text-align: left;\">Any</th><th title = \"Any\" style = \"text-align: left;\">Any</th><th title = \"Any\" style = \"text-align: left;\">Any</th><th title = \"Any\" style = \"text-align: left;\">Any</th><th title = \"Any\" style = \"text-align: left;\">Any</th><th title = \"Any\" style = \"text-align: left;\">Any</th><th title = \"Any\" style = \"text-align: left;\">Any</th></tr></thead><tbody><tr><td class = \"rowNumber\" style = \"font-weight: bold; text-align: right;\">1</td><td style = \"text-align: left;\">5</td><td style = \"text-align: left;\">6.95318e-310</td><td style = \"text-align: left;\">0.0</td><td style = \"text-align: left;\">0.0</td><td style = \"text-align: left;\">6.95318e-310</td><td style = \"text-align: left;\">0.0</td><td style = \"text-align: left;\">-1.0</td></tr><tr><td class = \"rowNumber\" style = \"font-weight: bold; text-align: right;\">2</td><td style = \"text-align: left;\">10</td><td style = \"text-align: left;\">6.95318e-310</td><td style = \"text-align: left;\">0.0</td><td style = \"text-align: left;\">0.0</td><td style = \"text-align: left;\">6.95318e-310</td><td style = \"text-align: left;\">0.0</td><td style = \"text-align: left;\">-1.0</td></tr><tr><td class = \"rowNumber\" style = \"font-weight: bold; text-align: right;\">3</td><td style = \"text-align: left;\">15</td><td style = \"text-align: left;\">6.95318e-310</td><td style = \"text-align: left;\">5.0e-324</td><td style = \"text-align: left;\">0.0</td><td style = \"text-align: left;\">6.95318e-310</td><td style = \"text-align: left;\">5.0e-324</td><td style = \"text-align: left;\">-1.0</td></tr><tr><td class = \"rowNumber\" style = \"font-weight: bold; text-align: right;\">4</td><td style = \"text-align: left;\">20</td><td style = \"text-align: left;\">6.95318e-310</td><td style = \"text-align: left;\">5.0e-324</td><td style = \"text-align: left;\">0.0</td><td style = \"text-align: left;\">6.95318e-310</td><td style = \"text-align: left;\">5.0e-324</td><td style = \"text-align: left;\">-1.0</td></tr><tr><td class = \"rowNumber\" style = \"font-weight: bold; text-align: right;\">5</td><td style = \"text-align: left;\">25</td><td style = \"text-align: left;\">6.95318e-310</td><td style = \"text-align: left;\">5.0e-324</td><td style = \"text-align: left;\">0.0</td><td style = \"text-align: left;\">6.95318e-310</td><td style = \"text-align: left;\">0.0</td><td style = \"text-align: left;\">-1.0</td></tr><tr><td class = \"rowNumber\" style = \"font-weight: bold; text-align: right;\">6</td><td style = \"text-align: left;\">30</td><td style = \"text-align: left;\">6.95318e-310</td><td style = \"text-align: left;\">5.0e-324</td><td style = \"text-align: left;\">0.0</td><td style = \"text-align: left;\">6.95318e-310</td><td style = \"text-align: left;\">5.0e-324</td><td style = \"text-align: left;\">-1.0</td></tr></tbody></table></div>"
      ],
      "text/latex": [
       "\\begin{tabular}{r|ccccccc}\n",
       "\t& iter & sol\\_time\\_M & sol\\_time\\_D & sol\\_time\\_D\\_max & comp\\_of\\_M & comp\\_of\\_D & per\\_change\\\\\n",
       "\t\\hline\n",
       "\t& Any & Any & Any & Any & Any & Any & Any\\\\\n",
       "\t\\hline\n",
       "\t1 & 5 & 6.95318e-310 & 0.0 & 0.0 & 6.95318e-310 & 0.0 & -1.0 \\\\\n",
       "\t2 & 10 & 6.95318e-310 & 0.0 & 0.0 & 6.95318e-310 & 0.0 & -1.0 \\\\\n",
       "\t3 & 15 & 6.95318e-310 & 5.0e-324 & 0.0 & 6.95318e-310 & 5.0e-324 & -1.0 \\\\\n",
       "\t4 & 20 & 6.95318e-310 & 5.0e-324 & 0.0 & 6.95318e-310 & 5.0e-324 & -1.0 \\\\\n",
       "\t5 & 25 & 6.95318e-310 & 5.0e-324 & 0.0 & 6.95318e-310 & 0.0 & -1.0 \\\\\n",
       "\t6 & 30 & 6.95318e-310 & 5.0e-324 & 0.0 & 6.95318e-310 & 5.0e-324 & -1.0 \\\\\n",
       "\\end{tabular}\n"
      ],
      "text/plain": [
       "\u001b[1m6×7 DataFrame\u001b[0m\n",
       "\u001b[1m Row \u001b[0m│\u001b[1m iter \u001b[0m\u001b[1m sol_time_M   \u001b[0m\u001b[1m sol_time_D \u001b[0m\u001b[1m sol_time_D_max \u001b[0m\u001b[1m comp_of_M    \u001b[0m\u001b[1m comp_of_D\u001b[0m ⋯\n",
       "     │\u001b[90m Any  \u001b[0m\u001b[90m Any          \u001b[0m\u001b[90m Any        \u001b[0m\u001b[90m Any            \u001b[0m\u001b[90m Any          \u001b[0m\u001b[90m Any      \u001b[0m ⋯\n",
       "─────┼──────────────────────────────────────────────────────────────────────────\n",
       "   1 │ 5     6.95318e-310  0.0         0.0             6.95318e-310  0.0       ⋯\n",
       "   2 │ 10    6.95318e-310  0.0         0.0             6.95318e-310  0.0\n",
       "   3 │ 15    6.95318e-310  5.0e-324    0.0             6.95318e-310  5.0e-324\n",
       "   4 │ 20    6.95318e-310  5.0e-324    0.0             6.95318e-310  5.0e-324\n",
       "   5 │ 25    6.95318e-310  5.0e-324    0.0             6.95318e-310  0.0       ⋯\n",
       "   6 │ 30    6.95318e-310  5.0e-324    0.0             6.95318e-310  5.0e-324\n",
       "\u001b[36m                                                                1 column omitted\u001b[0m"
      ]
     },
     "metadata": {},
     "output_type": "display_data"
    },
    {
     "data": {
      "text/plain": [
       "\"Analysis: # of Reactors\""
      ]
     },
     "metadata": {},
     "output_type": "display_data"
    },
    {
     "data": {
      "text/html": [
       "<div><div style = \"float: left;\"><span>6×6 DataFrame</span></div><div style = \"clear: both;\"></div></div><div class = \"data-frame\" style = \"overflow-x: scroll;\"><table class = \"data-frame\" style = \"margin-bottom: 6px;\"><thead><tr class = \"header\"><th class = \"rowNumber\" style = \"font-weight: bold; text-align: right;\">Row</th><th style = \"text-align: left;\">iter</th><th style = \"text-align: left;\">sol_time_M</th><th style = \"text-align: left;\">sol_time_D</th><th style = \"text-align: left;\">comp_of_M</th><th style = \"text-align: left;\">comp_of_D</th><th style = \"text-align: left;\">per_change</th></tr><tr class = \"subheader headerLastRow\"><th class = \"rowNumber\" style = \"font-weight: bold; text-align: right;\"></th><th title = \"Any\" style = \"text-align: left;\">Any</th><th title = \"Any\" style = \"text-align: left;\">Any</th><th title = \"Any\" style = \"text-align: left;\">Any</th><th title = \"Any\" style = \"text-align: left;\">Any</th><th title = \"Any\" style = \"text-align: left;\">Any</th><th title = \"Any\" style = \"text-align: left;\">Any</th></tr></thead><tbody><tr><td class = \"rowNumber\" style = \"font-weight: bold; text-align: right;\">1</td><td style = \"text-align: left;\">5</td><td style = \"text-align: left;\">8.35169e-312</td><td style = \"text-align: left;\">8.35169e-312</td><td style = \"text-align: left;\">8.35185e-312</td><td style = \"text-align: left;\">8.35185e-312</td><td style = \"text-align: left;\">9.46502e-12</td></tr><tr><td class = \"rowNumber\" style = \"font-weight: bold; text-align: right;\">2</td><td style = \"text-align: left;\">10</td><td style = \"text-align: left;\">8.35169e-312</td><td style = \"text-align: left;\">8.35169e-312</td><td style = \"text-align: left;\">8.36546e-312</td><td style = \"text-align: left;\">8.36546e-312</td><td style = \"text-align: left;\">1.88993e-11</td></tr><tr><td class = \"rowNumber\" style = \"font-weight: bold; text-align: right;\">3</td><td style = \"text-align: left;\">15</td><td style = \"text-align: left;\">8.35169e-312</td><td style = \"text-align: left;\">8.35169e-312</td><td style = \"text-align: left;\">8.36546e-312</td><td style = \"text-align: left;\">8.36546e-312</td><td style = \"text-align: left;\">1.88993e-11</td></tr><tr><td class = \"rowNumber\" style = \"font-weight: bold; text-align: right;\">4</td><td style = \"text-align: left;\">20</td><td style = \"text-align: left;\">8.35169e-312</td><td style = \"text-align: left;\">8.35169e-312</td><td style = \"text-align: left;\">8.36546e-312</td><td style = \"text-align: left;\">8.36546e-312</td><td style = \"text-align: left;\">1.88993e-11</td></tr><tr><td class = \"rowNumber\" style = \"font-weight: bold; text-align: right;\">5</td><td style = \"text-align: left;\">25</td><td style = \"text-align: left;\">8.35169e-312</td><td style = \"text-align: left;\">8.35169e-312</td><td style = \"text-align: left;\">8.34675e-312</td><td style = \"text-align: left;\">8.36546e-312</td><td style = \"text-align: left;\">0.00224165</td></tr><tr><td class = \"rowNumber\" style = \"font-weight: bold; text-align: right;\">6</td><td style = \"text-align: left;\">30</td><td style = \"text-align: left;\">0.0</td><td style = \"text-align: left;\">0.0</td><td style = \"text-align: left;\">0.0</td><td style = \"text-align: left;\">0.0</td><td style = \"text-align: left;\">NaN</td></tr></tbody></table></div>"
      ],
      "text/latex": [
       "\\begin{tabular}{r|cccccc}\n",
       "\t& iter & sol\\_time\\_M & sol\\_time\\_D & comp\\_of\\_M & comp\\_of\\_D & per\\_change\\\\\n",
       "\t\\hline\n",
       "\t& Any & Any & Any & Any & Any & Any\\\\\n",
       "\t\\hline\n",
       "\t1 & 5 & 8.35169e-312 & 8.35169e-312 & 8.35185e-312 & 8.35185e-312 & 9.46502e-12 \\\\\n",
       "\t2 & 10 & 8.35169e-312 & 8.35169e-312 & 8.36546e-312 & 8.36546e-312 & 1.88993e-11 \\\\\n",
       "\t3 & 15 & 8.35169e-312 & 8.35169e-312 & 8.36546e-312 & 8.36546e-312 & 1.88993e-11 \\\\\n",
       "\t4 & 20 & 8.35169e-312 & 8.35169e-312 & 8.36546e-312 & 8.36546e-312 & 1.88993e-11 \\\\\n",
       "\t5 & 25 & 8.35169e-312 & 8.35169e-312 & 8.34675e-312 & 8.36546e-312 & 0.00224165 \\\\\n",
       "\t6 & 30 & 0.0 & 0.0 & 0.0 & 0.0 & NaN \\\\\n",
       "\\end{tabular}\n"
      ],
      "text/plain": [
       "\u001b[1m6×6 DataFrame\u001b[0m\n",
       "\u001b[1m Row \u001b[0m│\u001b[1m iter \u001b[0m\u001b[1m sol_time_M   \u001b[0m\u001b[1m sol_time_D   \u001b[0m\u001b[1m comp_of_M    \u001b[0m\u001b[1m comp_of_D    \u001b[0m\u001b[1m per_chang\u001b[0m ⋯\n",
       "     │\u001b[90m Any  \u001b[0m\u001b[90m Any          \u001b[0m\u001b[90m Any          \u001b[0m\u001b[90m Any          \u001b[0m\u001b[90m Any          \u001b[0m\u001b[90m Any      \u001b[0m ⋯\n",
       "─────┼──────────────────────────────────────────────────────────────────────────\n",
       "   1 │ 5     8.35169e-312  8.35169e-312  8.35185e-312  8.35185e-312  9.46502e- ⋯\n",
       "   2 │ 10    8.35169e-312  8.35169e-312  8.36546e-312  8.36546e-312  1.88993e-\n",
       "   3 │ 15    8.35169e-312  8.35169e-312  8.36546e-312  8.36546e-312  1.88993e-\n",
       "   4 │ 20    8.35169e-312  8.35169e-312  8.36546e-312  8.36546e-312  1.88993e-\n",
       "   5 │ 25    8.35169e-312  8.35169e-312  8.34675e-312  8.36546e-312  0.0022416 ⋯\n",
       "   6 │ 30    0.0           0.0           0.0           0.0           NaN\n",
       "\u001b[36m                                                                1 column omitted\u001b[0m"
      ]
     },
     "metadata": {},
     "output_type": "display_data"
    }
   ],
   "source": [
    "display(\"Analysis: # of Scenarios\")\n",
    "display(df_scen)\n",
    "\n",
    "display(\"Analysis: # of Reactors\")\n",
    "display(df_reac)"
   ]
  }
 ],
 "metadata": {
  "kernelspec": {
   "display_name": "Julia 1.8.5",
   "language": "julia",
   "name": "julia-1.8"
  },
  "language_info": {
   "file_extension": ".jl",
   "mimetype": "application/julia",
   "name": "julia",
   "version": "1.8.5"
  }
 },
 "nbformat": 4,
 "nbformat_minor": 5
}
