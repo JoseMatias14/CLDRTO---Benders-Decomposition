{
 "cells": [
  {
   "cell_type": "markdown",
   "id": "39bb43e3",
   "metadata": {},
   "source": [
    "- **This code computes the decomposed solution of a Closed-Loop DRTO problem.**\n",
    "- Using economic objective function\n",
    "- The underlying control structure (modeled in the CLDRTO model) is an MPC, which can is solved using three different strategies: 1. unconstrained, 2. constrained using binaries, and 3. constrained using MPCC N.B.:strategy 2 not working\n",
    "- The problem is posed as a scenario-based stochastic programming problem\n",
    "- The case study is an affine multiple parallel bioreactor system from:*Gao, Ling. \"Modeling and dynamics analyses of immobilized CSTR bioreactor using transfer function model.\" 2012 International Symposium on Information Technologies in Medicine and Education. Vol. 2. IEEE, 2012.*\n",
    "- The uncertainty represented by the scenarios comes from the maximum specific growth rate (V_m) --> see matlab file\n",
    "\n",
    "AUTHOR: Jose Matias <assumpcj@mcmaster.ca>\n",
    "DATE: May 2023"
   ]
  },
  {
   "cell_type": "code",
   "execution_count": 1,
   "id": "67ea638f",
   "metadata": {},
   "outputs": [],
   "source": [
    "using LinearAlgebra, JuMP, CPLEX, Ipopt, Plots, CSV, DataFrames, Distributions, LaTeXStrings"
   ]
  },
  {
   "cell_type": "markdown",
   "id": "b2933767",
   "metadata": {},
   "source": [
    "# Bioreactor Model\n",
    "\n",
    "$\\dfrac{d C}{d t} = D (C_{in} - C) - \\dfrac{V_m C}{(K_s + C)} $ <br>\n",
    "$ \\dfrac{d P}{d t} = \\dfrac{V_m C}{(K_s + C)} - DP $ <br>\n",
    "\n",
    "where, <br>\n",
    "$t$: time in hours \\[h\\] <br>\n",
    "$C$: concentration of reactant (substrate) \\[g/L\\] <br>\n",
    "$P$: concentration of product (biomass) \\[g/L\\] <br>\n",
    "$C_{in}$: inlet concentration of substrate \\[g/L\\] <br>\n",
    "$D$: ratio of flowrate to reactor volume \\[1/h\\] <br>\n",
    "$V_m$: maximum reaction rate \\[g/(h L)\\] <br> \n",
    "$K_s$: reaction constant \\[g/L\\] <br>\n",
    "\n",
    "- System measurement ($y$) - product concentration $P$ <br>\n",
    "- System inputs ($u$) - inlet reactant concentration $C_{in}$ <br>\n",
    "- Uncertain parameters ($\\theta$) - maximum reaction rate $V_m$"
   ]
  },
  {
   "cell_type": "code",
   "execution_count": 2,
   "id": "cb37bc36",
   "metadata": {},
   "outputs": [],
   "source": [
    "# Sampling time\n",
    "T = 1 #[h]\n",
    "\n",
    "# Number of manipulated inputs\n",
    "nu = 1\n",
    "# Number of controlled outputs\n",
    "ny = 1\n",
    "\n",
    "# setting bounds (all arbitrary - not in deviation form!!) \n",
    "uMax = 2.4 # for tight constraints: 1.9 | for loose constraints: 5.0 or 10.0\n",
    "uMin = 0.0;\n",
    "\n",
    "yspMax = 1.2 \n",
    "yspMin = 0.0;"
   ]
  },
  {
   "cell_type": "markdown",
   "id": "06d023cd",
   "metadata": {},
   "source": [
    "# Building affine CL-DRTO models\n",
    "\n",
    "## Model linearization\n",
    "- linearization is done using Matlab's functions ss and c2d (see BioReactorLinearization.m)\n",
    "- sample time $\\Delta t$ is consider as 1h\n",
    "- linearization around point: $V_m = 0.5$ \\[g/(h L)\\], $K_s = 0.2$ \\[g/L\\], $D = 0.5$ \\[1/h\\], $C_{in,0} = 1$ \\[g/L\\], $C_{0} = 0.358$ \\[g/L\\], and $P_{0} = 0.642$ \\[g/L\\]\n",
    "\n",
    "which leads to: <br>\n",
    "$\\bar{x}_{k+1} = A \\bar{x}_k + B \\bar{u}_k$ <br>\n",
    "$\\bar{y}_k = C \\bar{u}_k$\n",
    "\n",
    "where, <br>\n",
    "$\\bar{x} = \\begin{bmatrix}\n",
    "\\bar{C}\\\\\n",
    "\\bar{P}\n",
    "\\end{bmatrix} =\n",
    "\\begin{bmatrix}\n",
    "C - C_0\\\\\n",
    "P - P_0\n",
    "\\end{bmatrix}$<br>\n",
    "$\\bar{u} = \\bar{C}_{in} = C_{in} - C_{in,0}$<br>\n",
    "$\\bar{y} = \\bar{P} = P - P_0$"
   ]
  },
  {
   "cell_type": "code",
   "execution_count": 3,
   "id": "06719deb",
   "metadata": {},
   "outputs": [],
   "source": [
    "# Linearization point\n",
    "u0 = 1.5\n",
    "x0 = [0.7179;0.7821]\n",
    "y0 = 0.7821\n",
    "\n",
    "# 100 pre-computed models based on parametric uncertainty Vm (computed using matlab: BioReactorLinearization.m)\n",
    "bioModels = CSV.read(\"C:\\\\Users\\\\MACC-Jose\\\\Documents\\\\GitHub\\\\BD\\\\CLDRTO Case Study 2 - Bioreactor\\\\BioreactorModel\", DataFrame; header=false);\n",
    "#print(bioModels)"
   ]
  },
  {
   "cell_type": "markdown",
   "id": "8c5197b2",
   "metadata": {},
   "source": [
    "CL-DRTO configuration"
   ]
  },
  {
   "cell_type": "code",
   "execution_count": 4,
   "id": "ad40ad5c",
   "metadata": {},
   "outputs": [],
   "source": [
    "# DRTO sampling time\n",
    "nDRTO = 4 # [h]\n",
    "# Prediction horizon\n",
    "pD = 20 + (8 - 1)# p = 8 *controller horizon  \n",
    "# Input control horizon \n",
    "mD = 20\n",
    "# Objective function: target tracking (deviation form)\n",
    "pTrack = 1 - y0 # [g/L]\n",
    "# Soft upper bounds on P weight (deviation form)\n",
    "pUB = 1.05 - y0 # [g/L]\n",
    "# objective function weight for P penalization term \n",
    "wP = 100;"
   ]
  },
  {
   "cell_type": "markdown",
   "id": "27186ab9",
   "metadata": {},
   "source": [
    "DRTO model changes with the number of scenarios and parallel reactors"
   ]
  },
  {
   "cell_type": "code",
   "execution_count": 5,
   "id": "57ec4745",
   "metadata": {},
   "outputs": [],
   "source": [
    "function DRTO_matrices(nReactors,nScenarios)\n",
    "    # ATTENTION: Used for the monolithic solution. Generates an array of models\n",
    "    # Several different models were already computed offline and saved in the \"bioModel\" array\n",
    "    # This function extracts the models based on a fixed index grid that is generated based on the number of scenarios\n",
    "    \n",
    "    ###########\n",
    "    # inputs: #\n",
    "    ###########\n",
    "    # nReactors - number of reactors in parallel\n",
    "    # nScenarios - number of scenarios used in the stochastic optimization\n",
    "    \n",
    "    # picking up indexes equally spaced between 1 and 100 (including initial and end point) \n",
    "    # based on the desired number of scenarios\n",
    "    if nScenarios == 1\n",
    "        indexScen = 50 # nominal model --> index = 50\n",
    "    else\n",
    "        indexScen = [floor(Int, 1 + (ii - 1)*(100-1)/(nScenarios-1)) for ii in 1:nScenarios]\n",
    "    end\n",
    "    \n",
    "    # building DRTO model\n",
    "    A_drto = Array{Float64}(undef,nx,nx,nScenarios) \n",
    "    B_drto = Array{Float64}(undef,nx,nu,nScenarios) \n",
    "\n",
    "    for kk in 1:nScenarios\n",
    "\n",
    "        index_temp = indexScen[kk]\n",
    "\n",
    "        A_drto[:,:,kk] = kron(I(nReactors),Matrix(bioModels[2*(index_temp - 1) + 1:2*(index_temp - 1) + 2,1:2]))\n",
    "        B_drto[:,:,kk] = repeat(bioModels[2*(index_temp - 1) + 1:2*(index_temp - 1) + 2,3], outer = [nReactors, 1, 1])\n",
    "\n",
    "    end\n",
    "\n",
    "    # mapping states to measurements is the same for all models\n",
    "    C_drto = repeat([0 1/nReactors], outer = [1, nReactors])\n",
    "    \n",
    "    return Dict('A' => A_drto, 'B' => B_drto, 'C' => C_drto)\n",
    "end;"
   ]
  },
  {
   "cell_type": "code",
   "execution_count": 6,
   "id": "0968ca7b",
   "metadata": {},
   "outputs": [],
   "source": [
    "function DRTO_matrix(nReactors,nScenario,nScenTotal)\n",
    "    # ATTENTION: Used for the decomposed solution. Generates a single model\n",
    "    # Several different models were already computed offline and saved in the \"bioModel\" array\n",
    "    # This function extracts the model of interest based on the index \"nScenario\"\n",
    "  \n",
    "    ###########\n",
    "    # inputs: #\n",
    "    ###########\n",
    "    # nReactors - number of reactors in parallel\n",
    "    # nScenario - index the of scenario used in the stochastic optimization\n",
    "    # nScenTotal - total number of scenario used in the stochastic optimization\n",
    "    \n",
    "    if nScenTotal == 1\n",
    "        index_temp = 50 # nominal model --> index = 50\n",
    "    else\n",
    "        indexScen = [floor(Int, 1 + (ii - 1)*(100-1)/(nScenTotal-1)) for ii in 1:nScenTotal]\n",
    "        index_temp = indexScen[nScenario]\n",
    "    end\n",
    "  \n",
    "    # building DRTO model\n",
    "    A_drto = kron(I(nReactors),Matrix(bioModels[2*(index_temp - 1) + 1:2*(index_temp - 1) + 2,1:2]))\n",
    "    B_drto = repeat(bioModels[2*(index_temp - 1) + 1:2*(index_temp - 1) + 2,3], outer = [nReactors, 1, 1])\n",
    "\n",
    "    # mapping states to measurements is the same for all models\n",
    "    C_drto = repeat([0 1/nReactors], outer = [1, nReactors]);\n",
    "    \n",
    "    return Dict('A' => A_drto, 'B' => B_drto, 'C' => C_drto)\n",
    "end;"
   ]
  },
  {
   "cell_type": "markdown",
   "id": "66f4ef3c",
   "metadata": {},
   "source": [
    "# Building MPC model\n",
    "\n",
    "Controller configuration"
   ]
  },
  {
   "cell_type": "code",
   "execution_count": 7,
   "id": "54509748",
   "metadata": {},
   "outputs": [],
   "source": [
    "# MPC sampling time\n",
    "nMPC = 1 # [h]\n",
    "\n",
    "# Controller configuration\n",
    "# Output prediction horizon\n",
    "p = 8\n",
    "# Input control horizon \n",
    "m = 2\n",
    "# Output weights\n",
    "q = 1\n",
    "# Input weights \n",
    "r = 1;"
   ]
  },
  {
   "cell_type": "markdown",
   "id": "dbffeddf",
   "metadata": {},
   "source": [
    "Notes:\n",
    "- Using nominal model(indexScen = 50)\n",
    "- For the description of how the MPC matrices (with disturbance model) are built, check script: *CLDRTO with unconstrained MPC - uncertain plant test*"
   ]
  },
  {
   "cell_type": "code",
   "execution_count": 8,
   "id": "1f3177a8",
   "metadata": {},
   "outputs": [],
   "source": [
    "function MPC_matrices(nReactors)\n",
    "    ###########\n",
    "    # inputs: #\n",
    "    ###########\n",
    "    # nReactors - number of reactors in parallel\n",
    "    \n",
    "    # extracting the matrices from the model array computed previously\n",
    "    nNom = 50 # nominal model --> index = 50\n",
    "    \n",
    "    A = kron(I(nReactors),Matrix(bioModels[2*(nNom - 1) + 1:2*(nNom - 1) + 2,1:2])) \n",
    "    B = repeat(bioModels[2*(nNom - 1) + 1:2*(nNom - 1) + 2,3], outer = [nReactors, 1])\n",
    "    C = repeat([0 1/nReactors], outer = [1, nReactors])\n",
    "    \n",
    "    # adding disturbance model\n",
    "    Ad = [A zeros(nx,ny); zeros(ny,nx) I(ny)]\n",
    "    Bd = [B; zeros(ny,nu)]\n",
    "    Cd = [C ones(ny,ny)]\n",
    "    \n",
    "    # building matrices for MPC\n",
    "    Psi = Cd*Ad\n",
    "    for ii in 2:p\n",
    "        Psi = [Psi;  Cd*Ad^ii]\n",
    "    end\n",
    "\n",
    "    # Computing Dynamic Matrix\n",
    "    a = Cd*Bd\n",
    "    for ii in 2:p\n",
    "        a = [a; Cd*Ad^(ii - 1)*Bd]\n",
    "    end\n",
    "    DynM = a\n",
    "\n",
    "    for ii in 1:(m - 2)\n",
    "        a = [zeros(ny,nu);a[1:(p-1)*ny,:]]\n",
    "        DynM = [DynM  a]\n",
    "    end\n",
    "\n",
    "    # adjusting dynamic matrix for since p > m (last column)\n",
    "    b = Cd*Bd\n",
    "\n",
    "    Ai = I(nx+1) # adding disturbance to the states\n",
    "    for ii = 1:(p - m)\n",
    "        Ai = Ai + Ad^ii\n",
    "        b = [b;Cd*Ai*Bd]\n",
    "    end\n",
    "\n",
    "    Theta=[DynM [zeros(ny*(m-1),nu);b]]\n",
    "    \n",
    "    # Creating Qbar and Rbar matrices\n",
    "    Qbar = Diagonal([q for ii in 1:p])\n",
    "    Rbar = Diagonal([r for ii in 1:m])\n",
    "\n",
    "    # Creating input movement OF penalty matrix \n",
    "    M=[zeros((m-1)*nu,nu) I(nu*(m-1)); zeros(nu) zeros(nu,nu*(m-1))]\n",
    "    Ibar=[I(nu); zeros(nu*(m-1),nu)]\n",
    "    IM = I(nu*m) - M';\n",
    "    \n",
    "    # Matrix H\n",
    "    H = Theta'*Qbar*Theta + IM'*Rbar*IM;\n",
    "    \n",
    "    return Dict('A' => A, 'B' => B, 'C' => C, 'H' => H, 'Θ' => Theta, 'Ψ' => Psi, 'Q' => Qbar, 'I' => Ibar, 'R' => Rbar, 'M' => IM)\n",
    "end;"
   ]
  },
  {
   "cell_type": "markdown",
   "id": "ab17a7c4",
   "metadata": {},
   "source": [
    "# Solving CL-DRTO Multiscenario Problem (monolithic)\n",
    " - Check details in script *Monolithic CLDRTO*\n",
    " - For the description of the different solution strategies, check *Different Strategies to solve constrained MPC within CLDRTO*"
   ]
  },
  {
   "cell_type": "code",
   "execution_count": 9,
   "id": "74dd560e",
   "metadata": {},
   "outputs": [],
   "source": [
    "# Parameters for MPC solution\n",
    "# matrix to compute the gradients of the input bound constraints\n",
    "conMatrix = [I(m); -I(m)]; \n",
    "\n",
    "# big-M implementation\n",
    "bigM_mu = 1000\n",
    "bigM_u = 100\n",
    "\n",
    "# weight complementarity relaxation OF term\n",
    "pi_bar = 10^3;"
   ]
  },
  {
   "cell_type": "code",
   "execution_count": 10,
   "id": "e5486fc7",
   "metadata": {},
   "outputs": [],
   "source": [
    "## Modeling the sub problem (scenario) -- modeling inside a function\n",
    "function MS_CLDRTO(xInit,uInit,nReac,nScen,pScen,solNom,option)\n",
    "    ###########\n",
    "    # inputs: #\n",
    "    ###########\n",
    "    # xInit - states at the current iteration (beginning of DRTO horizon)\n",
    "    # uInit - inputs at the current iteration, already implemented on the plant\n",
    "    # nReac - number of parallel reactors\n",
    "    # nScen - number of scenarios used in the problem (only one branching)\n",
    "    # pScen - probability of the scenarios\n",
    "    # solNom - nominal solution\n",
    "    # option - strategy for solving MPC\n",
    "\n",
    "    # Creating MPC matrices\n",
    "    mpc = MPC_matrices(nReac)\n",
    "    \n",
    "    # Creating DRTO matrices\n",
    "    drto = DRTO_matrices(nReac,nScen)\n",
    "\n",
    "    # Define model\n",
    "    if option == 3 || option == 1\n",
    "        model_ms = Model(Ipopt.Optimizer)\n",
    "        set_optimizer_attribute(model_ms, \"max_cpu_time\", 300.0) # 5 min\n",
    "    else \n",
    "        model_ms = Model(CPLEX.Optimizer)\n",
    "        set_optimizer_attribute(model_ms, \"CPX_PARAM_TILIM\", 300.0) # 5 min\n",
    "    end\n",
    "    set_silent(model_ms)\n",
    "    \n",
    "    ####################\n",
    "    # Set up variables #\n",
    "    ####################\n",
    "    # DRTO model variables\n",
    "    @variable(model_ms, xDRTO[1:pD,1:nx,1:nScen])\n",
    "    @variable(model_ms, yDRTO[1:pD,1:nScen])\n",
    "    \n",
    "    # MPC model variables\n",
    "    @variable(model_ms, xMPC[1:pD,1:nx,1:nScen])\n",
    "    @variable(model_ms, yMPC[1:pD,1:nScen])\n",
    "    \n",
    "    # MPC <-> DRTO model deviation\n",
    "    @variable(model_ms, de[1:pD,1:nScen])\n",
    "    \n",
    "    # inputs computed by MPCs\n",
    "    @variable(model_ms, u[1:pD,1:m,1:nScen])\n",
    "    if option == 1\n",
    "        @variable(model_ms, u_w_c[1:pD,1:m,1:nScen]) # inputs w/o clipping\n",
    "    \n",
    "        # input clipping \n",
    "        @variable(model_ms, mu_lb[1:pD,1:m,1:nScen] ≥ 0)\n",
    "        @variable(model_ms, eta_lb[1:pD,1:m,1:nScen] ≥ 0)\n",
    "        @variable(model_ms, mu_ub[1:pD,1:m,1:nScen] ≥ 0)\n",
    "        @variable(model_ms, eta_ub[1:pD,1:m,1:nScen] ≥ 0)       \n",
    "    end\n",
    "    \n",
    "    # setpoints for the controllers sent to the plant (CL-DRTO degrees of freedom)\n",
    "    @variable(model_ms, (yspMin - y0) ≤ ysp[1:pD,1:nScen] ≤ (yspMax - y0))\n",
    "    \n",
    "    # slacks for P soft constraint\n",
    "    @variable(model_ms, delta_p[1:pD,1:nScen] ≥ 0)\n",
    "    \n",
    "    if option == 2 || option == 3\n",
    "        @variable(model_ms, mu_g[1:mD,1:(2*m),1:nScen] ≥ 0) # upper and lower bounds for each input\n",
    "    end\n",
    "    if option == 2\n",
    "        @variable(model_ms, Y_lb[1:mD,1:m,1:nScen], Bin, start = 0) # Binaries for big-M implementation\n",
    "        @variable(model_ms, Y_ub[1:mD,1:m,1:nScen], Bin, start = 0) \n",
    "    end\n",
    "    \n",
    "    ########################\n",
    "    # Set up initial guess #\n",
    "    ########################\n",
    "    if solNom isa Dict\n",
    "        for ss in 1:nScen\n",
    "            for ii in 1:pD\n",
    "                set_start_value(yDRTO[ii,ss], solNom['y'][ii,1]) \n",
    "                set_start_value(yMPC[ii,ss], solNom['c'][ii,1])\n",
    "                set_start_value(ysp[ii,ss], solNom['s'][ii,1])\n",
    "\n",
    "                for rr in 1:nReac # when nReac increases, the number of states change!\n",
    "                    for xx in 1:2 # N.B. nx/reactor is hardcoded here... (maybe use nx/reactor as a function input) \n",
    "                        set_start_value(xDRTO[ii,xx + (rr - 1)*2,ss], solNom['x'][ii,xx,1])    \n",
    "                        set_start_value(xMPC[ii,xx + (rr - 1)*2,ss], solNom['m'][ii,xx,1])           \n",
    "                    end # end xx\n",
    "                end # number \n",
    "                \n",
    "                for uu in 1:m\n",
    "                    set_start_value(u[ii,uu,ss], solNom['u'][ii,uu,1])\n",
    "                end # end of uu\n",
    "            end # eend of ii\n",
    "        end # end of ss\n",
    "    end # end of if\n",
    "    \n",
    "    ######################################\n",
    "    # Set up constraints and expressions #\n",
    "    ######################################\n",
    "    # Model Dynamic for Dynamic RTO\n",
    "    @constraint(model_ms, CLDRTO_dyn_model_1[ss=1:nScen], xDRTO[1,:,ss] .== drto['A'][:,:,ss]*xInit + drto['B'][:,:,ss]*uInit)\n",
    "    @constraint(model_ms, CLDRTO_dyn_model[kk=1:(pD - 1),ss=1:nScen], xDRTO[kk + 1,:,ss] .== drto['A'][:,:,ss]*xDRTO[kk,:,ss] + drto['B'][:,:,ss]*u[kk,1,ss])\n",
    "    @constraint(model_ms, CLDRTO_model_out[kk=1:pD,ss=1:nScen], yDRTO[kk,ss] == dot(drto['C'],xDRTO[kk,:,ss]))\n",
    "    \n",
    "    # fixing setpoint changes after mD\n",
    "    @constraint(model_ms, control_horizon[kk=(mD+1):pD,ss=1:nScen], u[kk,1,ss] .== u[mD,1,ss])\n",
    "    \n",
    "    # P soft constraints\n",
    "    @constraint(model_ms, soft_P[kk=1:pD,ss=1:nScen], yDRTO[kk,ss] - delta_p[kk,ss] ≤ pUB)\n",
    "    \n",
    "    # nonanticipativity constraints\n",
    "    @constraint(model_ms, nonAnt[kk=1:nDRTO,ss=2:nScen], ysp[kk,1] - ysp[kk,ss] == 0.0);\n",
    "    \n",
    "    ################\n",
    "    # MPC solution #\n",
    "    ################    \n",
    "    if option == 1\n",
    "        # Model Dynamic for Controller\n",
    "        @constraint(model_ms, MPC_dyn_model_1[ss=1:nScen], xMPC[1,:,ss] .== mpc['A']*xInit + mpc['B']*uInit)\n",
    "        @constraint(model_ms, MPC_dyn_model[kk=1:(pD - 1),ss=1:nScen], xMPC[kk + 1,:,ss] .== mpc['A']*xMPC[kk,:,ss] + mpc['B']*u_w_c[kk,1,ss])\n",
    "        @constraint(model_ms, MPC_model_out[kk=1:pD,ss=1:nScen], yMPC[kk,ss] == dot(mpc['C'],xMPC[kk,:,ss]))\n",
    "\n",
    "        #  Model deviation\n",
    "        @constraint(model_ms, MPC_model_dev[kk=1:pD,ss=1:nScen], de[kk,ss] == yDRTO[kk,ss] - yMPC[kk,ss])\n",
    "        \n",
    "        @expression(model_ms, cfT_1[ss=1:nScen], (mpc['Ψ']*[xMPC[1,:,ss];de[1,ss]] - ysp[1:p,ss])'*mpc['Q']*mpc['Θ'] - uInit'*mpc['I']'*mpc['R']*mpc['M'])\n",
    "        @expression(model_ms, cfT[kk=2:mD,ss=1:nScen], (mpc['Ψ']*[xMPC[kk,:,ss];de[kk,ss]] - ysp[kk:(kk + p - 1),ss])'*mpc['Q']*mpc['Θ'] - u_w_c[kk-1,1,ss]'*mpc['I']'*mpc['R']*mpc['M'])\n",
    "        \n",
    "        # Unconstrained MPC solution  \n",
    "        @constraint(model_ms, MPC_sol_1[ss=1:nScen], mpc['H']*u_w_c[1,:,ss] + cfT_1[ss]' .== 0)\n",
    "        @constraint(model_ms, MPC_sol[kk=2:mD,ss=1:nScen], mpc['H']*u_w_c[kk,:,ss] + cfT[kk,ss]' .== 0)\n",
    "        \n",
    "        # input clipping\n",
    "        @constraint(model_ms, ic_1[kk = 1:mD,uu = 1:m,ss = 1:nScen], u[kk,uu,ss] == u_w_c[kk,uu,ss] - mu_ub[kk,uu,ss] + mu_lb[kk,uu,ss])\n",
    "        @constraint(model_ms, ic_2[kk = 1:mD,uu = 1:m,ss = 1:nScen], (uMax - u0) - u[kk,uu,ss] == eta_ub[kk,uu,ss])\n",
    "        @constraint(model_ms, ic_3[kk = 1:mD,uu = 1:m,ss = 1:nScen], eta_ub[kk,uu,ss]*mu_ub[kk,uu,ss] ≤ 1e-6)\n",
    "        @constraint(model_ms, ic_4[kk = 1:mD,uu = 1:m,ss = 1:nScen], u[kk,uu,ss] - (uMin - u0) == eta_lb[kk,uu,ss])\n",
    "        @constraint(model_ms, ic_5[kk = 1:mD,uu = 1:m,ss = 1:nScen], eta_lb[kk,uu,ss]*mu_lb[kk,uu,ss] ≤ 1e-6)\n",
    "        \n",
    "    elseif option == 2\n",
    "        # Model Dynamic for Controller\n",
    "        @constraint(model_ms, MPC_dyn_model_1[ss=1:nScen], xMPC[1,:,ss] .== mpc['A']*xInit + mpc['B']*uInit)\n",
    "        @constraint(model_ms, MPC_dyn_model[kk=1:(pD - 1),ss=1:nScen], xMPC[kk + 1,:,ss] .== mpc['A']*xMPC[kk,:,ss] + mpc['B']*u[kk,1,ss])\n",
    "        @constraint(model_ms, MPC_model_out[kk=1:pD,ss=1:nScen], yMPC[kk,ss] == dot(mpc['C'],xMPC[kk,:,ss]))\n",
    "\n",
    "        #  Model deviation\n",
    "        @constraint(model_ms, MPC_model_dev[kk=1:pD,ss=1:nScen], de[kk,ss] == yDRTO[kk,ss] - yMPC[kk,ss])\n",
    "\n",
    "        # sequence of Setpoints\n",
    "        @expression(model_ms, cfT_1[ss=1:nScen], (mpc['Ψ']*[xMPC[1,:,ss];de[1,ss]] - ysp[1:p,ss])'*mpc['Q']*mpc['Θ'] - uInit'*mpc['I']'*mpc['R']*mpc['M'])\n",
    "        @expression(model_ms, cfT[kk=2:mD,ss=1:nScen], (mpc['Ψ']*[xMPC[kk,:,ss];de[kk,ss]] - ysp[kk:(kk + p - 1),ss])'*mpc['Q']*mpc['Θ'] - u[kk-1,1,ss]'*mpc['I']'*mpc['R']*mpc['M'])\n",
    "\n",
    "        # Constrained with binaries\n",
    "        # 1. stationarity\n",
    "        @constraint(model_ms, MPC_sol_1[ss=1:nScen], u[1,:,ss]'*mpc['H'] + cfT_1[ss] +  mu_g[1,:,ss]'*conMatrix .== 0)\n",
    "        @constraint(model_ms, MPC_sol[kk=2:mD,ss=1:nScen], u[kk,:,ss]'*mpc['H'] + cfT[kk,ss] + mu_g[kk,:,ss]'*conMatrix .== 0)\n",
    "\n",
    "        # 2. primal feasibility\n",
    "        @constraint(model_ms, g_u_u[kk=1:mD,uu=1:m,ss=1:nScen], u[kk,uu,ss] - (uMax - u0) ≤ 0)\n",
    "        @constraint(model_ms, g_u_l[kk=1:mD,uu=1:m,ss=1:nScen], (uMin - u0) - u[kk,uu,ss] ≤ 0)\n",
    "    \n",
    "        # 3. complementarity --> using big-M implementation\n",
    "        @constraint(model_ms, bigM_1[kk=1:mD,uu=1:m,ss=1:nScen], mu_g[kk,uu,ss] ≤ bigM_mu*Y_ub[kk,uu,ss])\n",
    "        @constraint(model_ms, bigM_2[kk=1:mD,uu=1:m,ss=1:nScen], mu_g[kk,uu + m,ss] ≤ bigM_mu*Y_lb[kk,uu,ss])\n",
    "        @constraint(model_ms, bigM_3[kk=1:mD,uu=1:m,ss=1:nScen], u[kk,uu,ss] - (uMax - u0) ≥ -bigM_u*(1 - Y_ub[kk,uu,ss]))\n",
    "        @constraint(model_ms, bigM_4[kk=1:mD,uu=1:m,ss=1:nScen], (uMin - u0) - u[kk,uu,ss] ≥ -bigM_u*(1 - Y_lb[kk,uu,ss]))\n",
    "        \n",
    "        @constraint(model_ms, compSlack[kk=1:mD,uu=1:m,ss=1:nScen], Y_ub[kk,uu,ss] + Y_lb[kk,uu,ss] ≤ 1)\n",
    "    \n",
    "    elseif option == 3\n",
    "        # Model Dynamic for Controller\n",
    "        @constraint(model_ms, MPC_dyn_model_1[ss=1:nScen], xMPC[1,:,ss] .== mpc['A']*xInit + mpc['B']*uInit)\n",
    "        @constraint(model_ms, MPC_dyn_model[kk=1:(pD - 1),ss=1:nScen], xMPC[kk + 1,:,ss] .== mpc['A']*xMPC[kk,:,ss] + mpc['B']*u[kk,1,ss])\n",
    "        @constraint(model_ms, MPC_model_out[kk=1:pD,ss=1:nScen], yMPC[kk,ss] == dot(mpc['C'],xMPC[kk,:,ss]))\n",
    "\n",
    "        #  Model deviation\n",
    "        @constraint(model_ms, MPC_model_dev[kk=1:pD,ss=1:nScen], de[kk,ss] == yDRTO[kk,ss] - yMPC[kk,ss])\n",
    "\n",
    "        # sequence of Setpoints\n",
    "        @expression(model_ms, cfT_1[ss=1:nScen], (mpc['Ψ']*[xMPC[1,:,ss];de[1,ss]] - ysp[1:p,ss])'*mpc['Q']*mpc['Θ'] - uInit'*mpc['I']'*mpc['R']*mpc['M'])\n",
    "        @expression(model_ms, cfT[kk=2:mD,ss=1:nScen], (mpc['Ψ']*[xMPC[kk,:,ss];de[kk,ss]] - ysp[kk:(kk + p - 1),ss])'*mpc['Q']*mpc['Θ'] - u[kk-1,1,ss]'*mpc['I']'*mpc['R']*mpc['M'])\n",
    "\n",
    "        # Constrained with MPCC\n",
    "        # 1. stationarity\n",
    "        @constraint(model_ms, MPC_sol_1[ss=1:nScen], u[1,:,ss]'*mpc['H'] + cfT_1[ss] +  mu_g[1,:,ss]'*conMatrix .== 0)\n",
    "        @constraint(model_ms, MPC_sol[kk=2:mD,ss=1:nScen], u[kk,:,ss]'*mpc['H'] + cfT[kk,ss] + mu_g[kk,:,ss]'*conMatrix .== 0)\n",
    "\n",
    "        # 2. primal feasibility\n",
    "        @constraint(model_ms, MPC_c_upper[kk=1:mD,uu=1:m,ss=1:nScen], u[kk,uu,ss] - (uMax - u0) ≤ 0)\n",
    "        @constraint(model_ms, MPC_c_lower[kk=1:mD,uu=1:m,ss=1:nScen], (uMin - u0) - u[kk,uu,ss] ≤ 0)\n",
    "        \n",
    "        # Expressions for OF\n",
    "        @expression(model_ms, g_u_u[kk=1:mD,uu=1:m,ss=1:nScen], u[kk,uu,ss] - (uMax - u0))\n",
    "        @expression(model_ms, g_u_l[kk=1:mD,uu=1:m,ss=1:nScen], (uMin - u0) - u[kk,uu,ss])\n",
    "        \n",
    "    end\n",
    "        \n",
    "    #############################\n",
    "    # Set up objective function #\n",
    "    #############################\n",
    "    if option == 1 || option == 2\n",
    "        @objective(model_ms, Min, \n",
    "            pScen*sum(-yDRTO[kk,ss] + wP*delta_p[kk,ss]^2 for kk in 1:pD, ss in 1:nScen)\n",
    "        )\n",
    "    else\n",
    "        @objective(model_ms, Min, pScen*sum(-yDRTO[kk,ss] + wP*delta_p[kk,ss]^2 for kk in 1:pD, ss in 1:nScen)\n",
    "                                - pScen*pi_bar*sum(\n",
    "                                                sum(mu_g[kk,jj,ss]*g_u_u[kk,jj,ss] for jj = 1:m) +\n",
    "                                                sum(mu_g[kk,jj + m,ss]*g_u_l[kk,jj,ss] for jj = 1:m)\n",
    "                                                for kk = 1:mD, ss in 1:nScen)\n",
    "        )\n",
    "    end\n",
    "    # @show model_ms\n",
    "\n",
    "    #################\n",
    "    # Solve Problem #\n",
    "    #################\n",
    "    #set_optimizer_attribute(model_ms, \"CPX_PARAM_BARALG\", 1)\n",
    "    optimize!(model_ms)\n",
    "    \n",
    "    status = termination_status(model_ms)\n",
    "    #display(status)\n",
    "    \n",
    "    if status == MOI.OPTIMAL || status == MOI.ALMOST_OPTIMAL || status == MOI.LOCALLY_SOLVED\n",
    "        # Proved optimality or Optimal within relaxed tolerances\n",
    "        # solution time\n",
    "        timeSol = solve_time(model_ms)\n",
    "\n",
    "        flag = 1\n",
    "        # #primal_status(m)\n",
    "\n",
    "        #calling values of the solved problem\n",
    "        ϕ = objective_value(model_ms)\n",
    "        uArray = value.(u)\n",
    "        yspArray = value.(ysp)\n",
    "        yDRTOArray = value.(yDRTO)\n",
    "        yMPCArray = value.(yMPC)\n",
    "        xDRTOArray = value.(xDRTO)\n",
    "        xMPCArray = value.(xMPC)\n",
    "\n",
    "        outputFun = Dict('ϕ' => ϕ,\n",
    "                        't' => timeSol,\n",
    "                        'f' => flag, \n",
    "                        'u' => uArray,\n",
    "                        's' => yspArray,\n",
    "                        'x' => xDRTOArray,\n",
    "                        'y' => yDRTOArray, \n",
    "                        'm' => xDRTOArray,\n",
    "                        'c' => yDRTOArray)\n",
    "        \n",
    "        if option == 2 || option == 3\n",
    "            muArray = value.(mu_g)\n",
    "            merge!(outputFun,Dict('μ'=> muArray))\n",
    "        end\n",
    "        \n",
    "        return outputFun\n",
    "    else\n",
    "        # Handle other cases.\n",
    "        outputFun = Dict('f' => 0,\n",
    "                         't' => NaN,\n",
    "                         'ϕ' => NaN)\n",
    "                        \n",
    "        \n",
    "        return outputFun\n",
    "    end\n",
    "end;"
   ]
  },
  {
   "cell_type": "markdown",
   "id": "e2a35860",
   "metadata": {},
   "source": [
    "# Decomposition of CLDRTO Problem"
   ]
  },
  {
   "attachments": {
    "image-2.png": {
     "image/png": "[encoded data removed]"
    }
   },
   "cell_type": "markdown",
   "id": "eccb0edd",
   "metadata": {},
   "source": [
    "<div>\n",
    "<img src=\"attachment:image-2.png\" width=\"900\"/>\n",
    "</div>"
   ]
  },
  {
   "cell_type": "markdown",
   "id": "b2f632eb",
   "metadata": {},
   "source": [
    "## Modeling Subproblem"
   ]
  },
  {
   "cell_type": "code",
   "execution_count": 11,
   "id": "1c652a26",
   "metadata": {},
   "outputs": [],
   "source": [
    "## Modeling the sub problem (scenario) -- modeling inside a function\n",
    "function subp(xInit,uInit,ysp_fixed,nReac,nScen,pScen,solNom,option)\n",
    "    ###########\n",
    "    # inputs: #\n",
    "    ###########\n",
    "    # xInit - states at the current iteration (beginning of DRTO horizon)\n",
    "    # uInit - inputs at the current iteration, already implemented on the plant\n",
    "    # ysp_fixed - setpoints fixed by the Master Problem --> nonanticipativity constraints\n",
    "    # nReac - number of parallel reactors\n",
    "    # nScen - number of scenarios used in the problem (only one branching)\n",
    "    # pScen - probability of the scenarios\n",
    "    # solNom - nominal solution\n",
    "    # option - strategy for solving MPC \n",
    "        # for now, code only works for option = 3\n",
    "\n",
    "    # Creating MPC matrices\n",
    "    mpc = MPC_matrices(nReac)\n",
    "    \n",
    "    # Creating DRTO matrices\n",
    "    \n",
    "    # recomputing the number of total scenarios based on scenario probability and the fact that the scenarios have the same probability\n",
    "    nScenTotal = ceil(Int,1/pScen)    \n",
    "    drto = DRTO_matrix(nReac,nScen,nScenTotal)\n",
    "    \n",
    "    # Define subproblem model  #== 3\n",
    "    if option == 3 || option == 1\n",
    "        sub = Model(Ipopt.Optimizer)\n",
    "        set_optimizer_attribute(sub, \"max_cpu_time\", 300.0) # 5 min\n",
    "    else \n",
    "        sub = Model(CPLEX.Optimizer)\n",
    "        set_optimizer_attribute(sub, \"CPX_PARAM_TILIM\", 300.0) # 5 min\n",
    "    end\n",
    "    set_silent(sub) # avoid printing\n",
    "    \n",
    "    ####################\n",
    "    # Set up variables #\n",
    "    ####################\n",
    "    # DRTO model variables\n",
    "    @variable(sub, xDRTO[1:pD, 1:nx])\n",
    "    @variable(sub, yDRTO[1:pD])\n",
    "    \n",
    "    # MPC model variables\n",
    "    @variable(sub, xMPC[1:pD, 1:nx])\n",
    "    @variable(sub, yMPC[1:pD])\n",
    "\n",
    "    # MPC <-> DRTO model deviation\n",
    "    @variable(sub, de[1:pD])\n",
    "    \n",
    "    # inputs computed by MPCs\n",
    "    @variable(sub, u[1:pD,1:m])\n",
    "    if option == 1\n",
    "        @variable(sub, u_w_c[1:pD,1:m]) # inputs w/o clipping\n",
    "    \n",
    "        # input clipping \n",
    "        @variable(sub, mu_lb[1:pD,1:m] ≥ 0)\n",
    "        @variable(sub, eta_lb[1:pD,1:m] ≥ 0)\n",
    "        @variable(sub, mu_ub[1:pD,1:m] ≥ 0)\n",
    "        @variable(sub, eta_ub[1:pD,1:m] ≥ 0)       \n",
    "    end\n",
    "    \n",
    "    # setpoints for the controllers sent to the plant (CL-DRTO degrees of freedom)\n",
    "    @variable(sub, (yspMin - y0) ≤ ysp[1:pD] ≤ (yspMax - y0))\n",
    "        \n",
    "    # slacks for controlling setpoint into a zone\n",
    "    @variable(sub, delta_p[1:pD] ≥ 0)\n",
    "    \n",
    "    if option == 2 || option == 3\n",
    "        @variable(sub, mu_g[1:mD,1:(2*m)] ≥ 0) # upper and lower bounds for each input\n",
    "    end\n",
    "    if option == 2\n",
    "        @variable(sub, Y_lb[1:mD,1:m], start = 0) # Relaxing binaries for big-M implementation\n",
    "        @variable(sub, Y_ub[1:mD,1:m], start = 0) \n",
    "    end\n",
    "    \n",
    "    ########################\n",
    "    # Set up initial guess #\n",
    "    ########################\n",
    "    if solNom isa Dict\n",
    "        for ii in 1:pD\n",
    "            set_start_value(yDRTO[ii], solNom['y'][ii,1]) \n",
    "            set_start_value(yMPC[ii], solNom['c'][ii,1])\n",
    "            #set_start_value(ysp[ii], solNom['s'][ii,1])\n",
    "\n",
    "            for rr in 1:nReac # when nReac increases, the number of states change!\n",
    "                for xx in 1:2 # N.B. nx/reactor is hardcoded here... (maybe use nx/reactor as a function input) \n",
    "                    set_start_value(xDRTO[ii,xx + (rr - 1)*2], solNom['x'][ii,xx,1])    \n",
    "                    set_start_value(xMPC[ii,xx + (rr - 1)*2], solNom['m'][ii,xx,1])           \n",
    "                end # end xx\n",
    "            end # number \n",
    "                \n",
    "            for uu in 1:m\n",
    "                set_start_value(u[ii,uu], solNom['u'][ii,uu,1])\n",
    "            end # end of uu\n",
    "        end # eend of ii\n",
    "    end # end of if\n",
    "\n",
    "    ######################################\n",
    "    # Set up constraints and expressions #\n",
    "    ######################################\n",
    "    # Dynamic RTO model (linear)\n",
    "    @constraint(sub, CLDRTO_dyn_model_1, xDRTO[1,:] .== drto['A']*xInit + drto['B']*uInit)\n",
    "    @constraint(sub, CLDRTO_dyn_model[kk=1:(pD - 1)], xDRTO[kk + 1,:] .== drto['A']*xDRTO[kk,:] + drto['B']*u[kk,1])\n",
    "    @constraint(sub, CLDRTO_model_out[kk=1:pD], yDRTO[kk] == dot(drto['C'],xDRTO[kk,:]))\n",
    "\n",
    "    # fixing input after mD\n",
    "    @constraint(sub, control_horizon[kk=(mD+1):pD], u[kk,1] == u[mD,1]);\n",
    "    \n",
    "    # P soft constraints\n",
    "    @constraint(sub, soft_P[kk=1:pD], yDRTO[kk] - delta_p[kk] ≤ pUB)\n",
    "    \n",
    "    # nonanticipativity constraints\n",
    "    @constraint(sub, nonAnt[kk=1:nDRTO], ysp[kk] - ysp_fixed[kk] == 0.0);\n",
    "    \n",
    "    ################\n",
    "    # MPC solution #\n",
    "    ################ \n",
    "    if option == 1\n",
    "        # MPC model (linear)\n",
    "        @constraint(sub, MPC_dyn_model_1, xMPC[1,:] .== mpc['A']*xInit + mpc['B']*uInit)\n",
    "        @constraint(sub, MPC_dyn_model[kk=1:(pD - 1)], xMPC[kk + 1,:] .== mpc['A']*xMPC[kk,:] + mpc['B']*u_w_c[kk,1])\n",
    "        @constraint(sub, MPC_model_out[kk=1:pD], yMPC[kk] == dot(mpc['C'],xMPC[kk,:]))\n",
    "\n",
    "        #  MPC model deviation (disturance)\n",
    "        @constraint(sub, MPC_model_dev[kk=1:pD], de[kk] == yDRTO[kk] - yMPC[kk])\n",
    "\n",
    "        # sequence of Setpoints\n",
    "        @expression(sub, cfT_1, (mpc['Ψ']*[xMPC[1,:];de[1]] - ysp[1:p])'*mpc['Q']*mpc['Θ'] - uInit'*mpc['I']'*mpc['R']*mpc['M'])\n",
    "        @expression(sub, cfT[kk=2:mD], (mpc['Ψ']*[xMPC[kk,:];de[kk]] - ysp[kk:(kk + p - 1)])'*mpc['Q']*mpc['Θ'] - u_w_c[kk-1,1]'*mpc['I']'*mpc['R']*mpc['M'])\n",
    "\n",
    "        # Unconstrained MPC solution  \n",
    "        @constraint(sub, MPC_sol_1, mpc['H']*u_w_c[1,:] + cfT_1' .== 0)\n",
    "        @constraint(sub, MPC_sol[kk=2:mD],mpc['H']*u_w_c[kk,:] + cfT[kk]' .== 0)\n",
    "\n",
    "        # input clipping\n",
    "        @constraint(sub, ic_1[kk = 1:mD,uu = 1:m], u[kk,uu] == u_w_c[kk,uu] - mu_ub[kk,uu] + mu_lb[kk,uu])\n",
    "        @constraint(sub, ic_2[kk = 1:mD,uu = 1:m], (uMax - u0) - u[kk,uu] == eta_ub[kk,uu])\n",
    "        @constraint(sub, ic_3[kk = 1:mD,uu = 1:m], eta_ub[kk,uu]*mu_ub[kk,uu] ≤ 1e-6)\n",
    "        @constraint(sub, ic_4[kk = 1:mD,uu = 1:m], u[kk,uu] - (uMin - u0) == eta_lb[kk,uu])\n",
    "        @constraint(sub, ic_5[kk = 1:mD,uu = 1:m], eta_lb[kk,uu]*mu_lb[kk,uu] ≤ 1e-6)\n",
    "\n",
    "    \n",
    "    elseif option == 2\n",
    "        # MPC model (linear)\n",
    "        @constraint(sub, MPC_dyn_model_1, xMPC[1,:] .== mpc['A']*xInit + mpc['B']*uInit)\n",
    "        @constraint(sub, MPC_dyn_model[kk=1:(pD - 1)], xMPC[kk + 1,:] .== mpc['A']*xMPC[kk,:] + mpc['B']*u[kk,1])\n",
    "        @constraint(sub, MPC_model_out[kk=1:pD], yMPC[kk] == dot(mpc['C'],xMPC[kk,:]))\n",
    "\n",
    "        #  MPC model deviation (disturance)\n",
    "        @constraint(sub, MPC_model_dev[kk=1:pD], de[kk] == yDRTO[kk] - yMPC[kk])\n",
    "\n",
    "        # sequence of Setpoints\n",
    "        @expression(sub, cfT_1, (mpc['Ψ']*[xMPC[1,:];de[1]] - ysp[1:p])'*mpc['Q']*mpc['Θ'] - uInit'*mpc['I']'*mpc['R']*mpc['M'])\n",
    "        @expression(sub, cfT[kk=2:mD], (mpc['Ψ']*[xMPC[kk,:];de[kk]] - ysp[kk:(kk + p - 1)])'*mpc['Q']*mpc['Θ'] - u[kk-1,1]'*mpc['I']'*mpc['R']*mpc['M'])\n",
    "\n",
    "        # Constrained with binaries\n",
    "        # 1. stationarity\n",
    "        @constraint(sub, MPC_sol_1, u[1,:]'*mpc['H'] + cfT_1 +  mu_g[1,:]'*conMatrix .== 0)\n",
    "        @constraint(sub, MPC_sol[kk=2:mD], u[kk,:]'*mpc['H'] + cfT[kk] + mu_g[kk,:]'*conMatrix .== 0)\n",
    "\n",
    "        # 2. primal feasibility\n",
    "        @constraint(sub, MPC_c_upper[kk=1:mD,uu=1:m], u[kk,uu] - (uMax - u0) ≤ 0)\n",
    "        @constraint(sub, MPC_c_lower[kk=1:mD,uu=1:m], (uMin - u0) - u[kk,uu] ≤ 0)\n",
    "    \n",
    "        # 3. complementarity --> using big-M implementation\n",
    "        @constraint(sub, bigM_1[kk=1:mD,uu=1:m], mu_g[kk,uu] ≤ bigM_mu*Y_ub[kk,uu])\n",
    "        @constraint(sub, bigM_2[kk=1:mD,uu=1:m], mu_g[kk,uu + m] ≤ bigM_mu*Y_lb[kk,uu])\n",
    "        @constraint(sub, bigM_3[kk=1:mD,uu=1:m], u[kk,uu] - (uMax - u0) ≥ -bigM_u*(1 - Y_ub[kk,uu]))\n",
    "        @constraint(sub, bigM_4[kk=1:mD,uu=1:m], (uMin - u0) - u[kk,uu] ≥ -bigM_u*(1 - Y_lb[kk,uu]))\n",
    "        \n",
    "        @constraint(sub, compSlack[kk=1:mD,uu=1:m], Y_ub[kk,uu] + Y_lb[kk,uu] ≤ 1)\n",
    "    \n",
    "    elseif option == 3\n",
    "        # MPC model (linear)\n",
    "        @constraint(sub, MPC_dyn_model_1, xMPC[1,:] .== mpc['A']*xInit + mpc['B']*uInit)\n",
    "        @constraint(sub, MPC_dyn_model[kk=1:(pD - 1)], xMPC[kk + 1,:] .== mpc['A']*xMPC[kk,:] + mpc['B']*u[kk,1])\n",
    "        @constraint(sub, MPC_model_out[kk=1:pD], yMPC[kk] == dot(mpc['C'],xMPC[kk,:]))\n",
    "\n",
    "        #  MPC model deviation (disturance)\n",
    "        @constraint(sub, MPC_model_dev[kk=1:pD], de[kk] == yDRTO[kk] - yMPC[kk])\n",
    "\n",
    "        # sequence of Setpoints\n",
    "        @expression(sub, cfT_1, (mpc['Ψ']*[xMPC[1,:];de[1]] - ysp[1:p])'*mpc['Q']*mpc['Θ'] - uInit'*mpc['I']'*mpc['R']*mpc['M'])\n",
    "        @expression(sub, cfT[kk=2:mD], (mpc['Ψ']*[xMPC[kk,:];de[kk]] - ysp[kk:(kk + p - 1)])'*mpc['Q']*mpc['Θ'] - u[kk-1,1]'*mpc['I']'*mpc['R']*mpc['M'])\n",
    "\n",
    "        # Constrained with MPCC\n",
    "        # 1. stationarity\n",
    "        @constraint(sub, MPC_sol_1, u[1,:]'*mpc['H'] + cfT_1 +  mu_g[1,:]'*conMatrix .== 0)\n",
    "        @constraint(sub, MPC_sol[kk=2:mD], u[kk,:]'*mpc['H'] + cfT[kk] + mu_g[kk,:]'*conMatrix .== 0)\n",
    "\n",
    "        # 2. primal feasibility       \n",
    "        @constraint(sub, MPC_c_upper[kk=1:mD,uu=1:m], u[kk,uu] - (uMax - u0) ≤ 0)\n",
    "        @constraint(sub, MPC_c_lower[kk=1:mD,uu=1:m], (uMin - u0) - u[kk,uu] ≤ 0)\n",
    "        \n",
    "        # expression to be used in OF        \n",
    "        @expression(sub, g_u_u[kk=1:mD,uu=1:m], u[kk,uu] - (uMax - u0))\n",
    "        @expression(sub, g_u_l[kk=1:mD,uu=1:m], (uMin - u0) - u[kk,uu])\n",
    "        \n",
    "    end\n",
    "  \n",
    "    #############################\n",
    "    # Set up objective function #\n",
    "    #############################\n",
    "     if option == 1 || option == 2\n",
    "        @objective(sub, Min, \n",
    "            pScen*sum(-yDRTO[kk] + wP*delta_p[kk]^2 for kk in 1:pD)\n",
    "        )\n",
    "    else\n",
    "        @objective(sub, Min, \n",
    "            pScen*sum(-yDRTO[kk] + wP*delta_p[kk]^2 for kk in 1:pD)\n",
    "                    - pScen*pi_bar*sum(\n",
    "                                    sum(mu_g[kk,jj]*g_u_u[kk,jj] for jj = 1:m) +\n",
    "                                    sum(mu_g[kk,jj + m]*g_u_l[kk,jj] for jj = 1:m)\n",
    "                                for kk = 1:mD)\n",
    "        )\n",
    "    end\n",
    "    \n",
    "    # @show sub\n",
    "    #set_optimizer_attribute(sub, \"CPX_PARAM_BARALG\", 1)\n",
    "    \n",
    "    optimize!(sub)\n",
    "    \n",
    "    # solution time\n",
    "    timeSol = solve_time(sub)\n",
    "    \n",
    "    status = termination_status(sub)\n",
    "    #display(status)\n",
    "    \n",
    "    # checking if there is a solution to the problem\n",
    "    if status == MOI.OPTIMAL || status == MOI.ALMOST_OPTIMAL || status == MOI.LOCALLY_SOLVED\n",
    "        # Proved optimality or Optimal within relaxed tolerances\n",
    "        # we add an optimality cut\n",
    "        flag = 1\n",
    "        # #primal_status(m)\n",
    "\n",
    "        #calling values of the solved problem\n",
    "        ϕ = objective_value(sub)\n",
    "        uArray = value.(u)\n",
    "        yspArray = value.(ysp)\n",
    "        yDRTOArray = value.(yDRTO)\n",
    "        yMPCArray = value.(yMPC)\n",
    "        xDRTOArray = value.(xDRTO)\n",
    "        xMPCArray = value.(xMPC)\n",
    "        \n",
    "        # lagrange multipliers associated with the nonantecipativity constraints\n",
    "        λ = dual.(nonAnt)\n",
    "\n",
    "        outputDict = Dict('ϕ' => ϕ,\n",
    "                        't' => timeSol,\n",
    "                        'f' => flag, \n",
    "                        'a' => status,\n",
    "                        'u' => uArray,\n",
    "                        's' => yspArray,\n",
    "                        'x' => xDRTOArray,\n",
    "                        'y' => yDRTOArray, \n",
    "                        'm' => xMPCArray,\n",
    "                        'c' => yMPCArray,\n",
    "                        'λ' => λ)\n",
    "        \n",
    "        # if binaries are used for solving const. MPC\n",
    "        if option == 2\n",
    "            muArray = value.(mu_g)\n",
    "                   \n",
    "            uubBinArray = value.(Y_ub)\n",
    "            ulbBinArray = value.(Y_lb)\n",
    "            \n",
    "            merge!(outputDict,Dict('μ'=> muArray))\n",
    "            merge!(outputDict,Dict('o' => ulbBinArray))\n",
    "            merge!(outputDict,Dict('p' => uubBinArray))\n",
    "            \n",
    "        end\n",
    "        \n",
    "        # if MPCC is used for solving const. MPC\n",
    "        if option == 3\n",
    "            muArray = value.(mu_g)\n",
    "            \n",
    "            merge!(outputDict,Dict('μ'=> muArray))\n",
    "        end\n",
    "        \n",
    "        return outputDict\n",
    "    else\n",
    "        #i.e. no feasible solution --> Add feasibility cut\n",
    "        #display(\"Feasibility cut: scenario $(scen)\")        \n",
    "\n",
    "        # ! soft bounds on ysp\n",
    "        delete_lower_bound.(ysp[1:pD])\n",
    "        delete_upper_bound.(ysp[1:pD])\n",
    "        \n",
    "        if option != 1\n",
    "            # ! soft bounds on mu\n",
    "            delete_lower_bound.(mu_g[1:mD,1:m])\n",
    "            \n",
    "            # ! soft bounds on u\n",
    "            for kk in 1:mD\n",
    "                for uu in 1:m\n",
    "                    delete(sub, MPC_c_upper[kk,uu])\n",
    "                    delete(sub, MPC_c_lower[kk,uu])\n",
    "                end\n",
    "            end\n",
    "        end\n",
    "        \n",
    "        ####################\n",
    "        # Set up variables #\n",
    "        #################### \n",
    "        @variable(sub, delta_ysp_u[1:pD] ≥ 0.0)\n",
    "        @variable(sub, delta_ysp_l[1:pD] ≥ 0.0)\n",
    "        \n",
    "        if option == 2 || option == 3\n",
    "            @variable(sub, delta_mu[1:mD,1:m] ≥ 0.0)\n",
    "            \n",
    "            # slacks\n",
    "            @variable(sub, delta_u_u[1:mD,1:m] ≥ 0.0)\n",
    "            @variable(sub, delta_u_l[1:mD,1:m] ≥ 0.0)\n",
    "        end\n",
    "        \n",
    "        ###########################\n",
    "        # Always-feasible problem #\n",
    "        ###########################                \n",
    "        @constraint(sub, soft_ysp_upper[kk=1:pD], ysp[kk] - (yspMax - y0) ≤ delta_ysp_u[kk])\n",
    "        @constraint(sub, soft_ysp_lower[kk=1:pD], (yspMin - y0) - ysp[kk] ≤ delta_ysp_l[kk])\n",
    "\n",
    "        # adding a constraint to guarantee that mu is always feasible        \n",
    "        if option == 2 || option == 3\n",
    "            @constraint(sub, soft_MPC_mu_upper[kk=1:mD,uu=1:m], -mu_g[kk,uu] ≤ delta_mu[kk,uu])\n",
    "            \n",
    "            # adding a constraint to guarantee feasibility\n",
    "            @constraint(sub, soft_u_upper[kk=1:mD,uu=1:m], u[kk,uu] - (uMax - u0) ≤ delta_u_u[kk,uu])\n",
    "            @constraint(sub, soft_u_lower[kk=1:mD,uu=1:m], (uMin - u0) - u[kk,uu] ≤ delta_u_l[kk,uu])\n",
    "        end\n",
    "        \n",
    "       #############################\n",
    "        # Set up objective function #\n",
    "        #############################\n",
    "        # Modifying the objective --> call @objective with the new objective function.\n",
    "        # minimizing constraint violation - l1 penalty!\n",
    "        if option == 2 || option == 3\n",
    "            @objective(sub, Min, sum(delta_p[kk] + delta_ysp_u[kk] + delta_ysp_l[kk] for kk in 1:pD)\n",
    "                    + sum(sum(delta_mu[kk,uu] + delta_u_u[kk,uu] + delta_u_l[kk,uu] for uu in 1:m) for kk in 1:mD))\n",
    "        else\n",
    "            @objective(sub, Min, sum(delta_p[kk] + delta_ysp_u[kk] + delta_ysp_l[kk] for kk in 1:pD))\n",
    "        end\n",
    "        \n",
    "        #@show sub\n",
    "        #set_optimizer_attribute(sub, \"CPX_PARAM_BARALG\", 1)\n",
    "\n",
    "        # re-optimizing (now using the always feasible problem)\n",
    "        optimize!(sub)\n",
    "        \n",
    "        # solution time (adding time to solve the always feasible subproblem)\n",
    "        timeSol = timeSol + solve_time(sub)\n",
    "        \n",
    "        # checking status of the solution\n",
    "        status_sub = termination_status(sub)\n",
    "        \n",
    "        # flag for calling feasibility cuts (not optimality cuts)\n",
    "        flag = 0\n",
    "        \n",
    "        #calling values of the solved problem\n",
    "        uArray = value.(u)\n",
    "        yspArray = value.(ysp)\n",
    "        yDRTOArray = value.(yDRTO)\n",
    "        yMPCArray = value.(yMPC)\n",
    "        xDRTOArray = value.(xDRTO)\n",
    "        xMPCArray = value.(xMPC)\n",
    "    \n",
    "        # objective function of the feasibility problem\n",
    "        o = objective_value(sub)\n",
    "        \n",
    "        # lagrange multipliers associated with the nonantecipativity constraints and binaries from master problem\n",
    "        λ = dual.(nonAnt)\n",
    "        \n",
    "        outputDict = Dict('ϕ' => o,\n",
    "                        't' => timeSol,\n",
    "                        'f' => flag, \n",
    "                        'a' => status_sub,\n",
    "                        'u' => uArray,\n",
    "                        's' => yspArray,\n",
    "                        'x' => xDRTOArray,\n",
    "                        'y' => yDRTOArray, \n",
    "                        'm' => xMPCArray,\n",
    "                        'c' => yMPCArray,\n",
    "                        'λ' => λ)\n",
    "        \n",
    "         if option == 2 || option == 3     \n",
    "            #delta_muArray = value.(delta_mu)\n",
    "            #delta_ulArray = value.(delta_u_l)\n",
    "            #delta_uuArray = value.(delta_u_u)\n",
    "            \n",
    "            muArray = value.(mu_g)\n",
    "            merge!(outputDict,Dict('μ'=> muArray))\n",
    "        end\n",
    "        \n",
    "        return outputDict\n",
    "    end\n",
    "end;"
   ]
  },
  {
   "cell_type": "markdown",
   "id": "1690f637",
   "metadata": {},
   "source": [
    "Modeling Bender's Decomposition"
   ]
  },
  {
   "cell_type": "code",
   "execution_count": 12,
   "id": "418c3ed4",
   "metadata": {},
   "outputs": [],
   "source": [
    "# max number of iteration\n",
    "benIterMax = 50\n",
    "\n",
    "# optimality gap (relative) tolerance\n",
    "optGap = 2e-3; # UNC/BIN: 0.001 | MPCC: 0.5"
   ]
  },
  {
   "cell_type": "code",
   "execution_count": 13,
   "id": "6550488c",
   "metadata": {},
   "outputs": [],
   "source": [
    "## Modeling Benders Decompostion\n",
    "function BENS_CLDRTO(xInit,uInit,nReac,nScen,pScen,solNom,option)\n",
    "    \n",
    "    \n",
    "    # flag for checking if last cut was opt. (1) or feas. (0)\n",
    "    flagO = 1\n",
    "    \n",
    "    # timing solution via Benders\n",
    "    timeSolBen = 0 \n",
    "    # timing solution via parallel Benders\n",
    "    timeSolParBen = 0 \n",
    "    \n",
    "    # Define master problem model\n",
    "    master = Model(CPLEX.Optimizer)\n",
    "    set_silent(master)\n",
    "    \n",
    "    #lower bound on scenario objective function approximation \n",
    "    alpha_down =-10.0;\n",
    "    \n",
    "    ####################\n",
    "    # Set up variables #\n",
    "    ####################\n",
    "    @variable(master,  (yspMin - y0) <= ysp[1:nDRTO] <=  (yspMax - y0))     \n",
    "    @variable(master, α ≥ alpha_down)\n",
    "    \n",
    "    ########################\n",
    "    # Set up initial guess #\n",
    "    ########################\n",
    "    if solNom isa Dict\n",
    "        for ii in 1:nDRTO\n",
    "            set_start_value(ysp[ii], solNom['s'][ii,1])\n",
    "        end \n",
    "    end \n",
    " \n",
    "    ################################################\n",
    "    # Solving problem with benders' decomposition  #\n",
    "    ################################################\n",
    "    for ii in 1:benIterMax\n",
    "           \n",
    "        #############################\n",
    "        # Set up objective function #\n",
    "        #############################\n",
    "        if flagO == 1 \n",
    "            # last cut was an optimality cut\n",
    "            # standard OF\n",
    "            @objective(master, Min, α)\n",
    "        else\n",
    "            # last cut was a feasibility cut\n",
    "            # \"nudge\" next solution towards nominal solution \n",
    "            @objective(master, Min, α + 0.0*sum((ysp[kk] - solNom['s'][kk,1])^2 for kk in 1:nDRTO))\n",
    "        end\n",
    "        \n",
    "            # solve master problem (with Benders' cut)\n",
    "            optimize!(master)\n",
    "\n",
    "            # solution time\n",
    "            timeSolMaster = solve_time(master)\n",
    "            # Master problem solution: lower bound of the original problem\n",
    "            lb = objective_value(master)\n",
    "            #display(lb)\n",
    "\n",
    "            # extracting solution for the non-anticipativity constraints\n",
    "            ysp_nonⁱ = value.(ysp)\n",
    "            #display(ysp_nonⁱ)\n",
    "\n",
    "        timeSolBen = timeSolBen + timeSolMaster\n",
    "        timeSolParBen = timeSolParBen + timeSolMaster # master cannot be paralellized \n",
    "\n",
    "        #######################\n",
    "        # Solving subproblems #\n",
    "        #######################\n",
    "        # objective function\n",
    "        o_temp = Vector{Float64}(undef,nScen)\n",
    "        # flag optimality / feasibility\n",
    "        flag_temp = Vector{Float64}(undef,nScen)\n",
    "        # solution time\n",
    "        solTime_temp = Vector{Float64}(undef,nScen)\n",
    "        # multipliers\n",
    "        lambdaN_temp = Matrix{Float64}(undef,nDRTO,nScen) \n",
    "        \n",
    "        for ss in 1:nScen\n",
    "            dicTemp = subp(xInit,uInit,ysp_nonⁱ,nReac,ss,pScen,solNom,option)\n",
    "           \n",
    "            # saving files\n",
    "            # objective function\n",
    "            o_temp[ss] = dicTemp['ϕ']\n",
    "            # solution time\n",
    "            solTime_temp[ss] = dicTemp['t']\n",
    "            # optimality / feasibility flag\n",
    "            flag_temp[ss] = dicTemp['f']\n",
    "            # multiplier\n",
    "            for kk in 1:nDRTO\n",
    "                lambdaN_temp[kk,ss] = dicTemp['λ'][kk]\n",
    "            end\n",
    "            \n",
    "        end\n",
    "        \n",
    "        ##########################################################\n",
    "        # If all subproblems were feasible, check optimality gap #\n",
    "        ##########################################################\n",
    "        if sum(flag_temp) == nScen \n",
    "            # Subproblem solution: upper bound of the original problem\n",
    "            ub = sum(o_temp)\n",
    "\n",
    "            # solve subproblems to find the upper bound of the original problem solution \n",
    "            timeSolBen = timeSolBen + sum(solTime_temp)\n",
    "\n",
    "            # assuming that subproblem solution is parallelized\n",
    "            timeSolParBen = timeSolParBen + maximum(solTime_temp)   \n",
    "            \n",
    "            # compute optimality gap\n",
    "            gap = abs(ub - lb)/abs(ub)\n",
    "            display(\" DB: opt gap = $(gap)\")\n",
    "\n",
    "            # check if optimality gap is small enough\n",
    "            # also, make sure last cut was an optimality cut due to change in OF \n",
    "            if gap < optGap && flagO == 1\n",
    "                global yspSol_dec = ysp_nonⁱ\n",
    "                global objFun_dec = ub\n",
    "                global optGap_dec = gap\n",
    "                global iter_dec = ii\n",
    "                global time_dec = timeSolBen\n",
    "                global time_max_dec = timeSolParBen\n",
    "                break\n",
    "            else # gap ≥ optGap \n",
    "                ##############################\n",
    "                # --> adding optimality cuts #\n",
    "                ##############################\n",
    "                display(\">>>>>> iteration $(ii):O\")\n",
    "                benderscutO = @constraint(master, α ≥ ub + \n",
    "                    sum(sum(lambdaN_temp[jj,ss] for ss in 1:nScen)*(ysp[jj] - ysp_nonⁱ[jj]) for jj in 1:nDRTO))\n",
    "                #@info \"we are adding this bender optimality cut $(benderscutO)\"\n",
    "                \n",
    "                # optimality cut was add\n",
    "                flagO = 1\n",
    "            \n",
    "            end # if gap\n",
    "        else # sum(flag_temp) != nScen\n",
    "            ###############################\n",
    "            # --> adding feasibility cuts #\n",
    "            ###############################\n",
    "            display(\">>>>>> iteration $(ii):F\")\n",
    "\n",
    "            benderscutF = @constraint(master, 0 ≥\n",
    "                sum(sum(lambdaN_temp[jj,ss] for ss in 1:nScen)*(ysp[jj] - ysp_nonⁱ[jj]) for jj in 1:nDRTO))\n",
    "            #@info \"we are adding this bender feasibility cut $(benderscutF)\"\n",
    "            \n",
    "            # feasibility cut was add\n",
    "            flagO = 0\n",
    "            \n",
    "        end # if nScen\n",
    "        \n",
    "        # checking if number of iterations reached max \n",
    "        if ii >= benIterMax\n",
    "            global yspSol_dec = [NaN for kk=1:nDRTO]\n",
    "            global objFun_dec = NaN\n",
    "            global optGap_dec = NaN\n",
    "            global iter_dec = benIterMax\n",
    "            global time_dec = timeSolBen\n",
    "            global time_max_dec = timeSolParBen\n",
    "        end # if < benIterMax\n",
    "    end # if for benders iterations\n",
    "\n",
    "    #####################\n",
    "    # Extracting values #\n",
    "    #####################\n",
    "    if isnan(objFun_dec)\n",
    "        \n",
    "        outputFun = Dict('t' => time_dec,\n",
    "                         'ϕ' => objFun_dec,\n",
    "                         'm' => time_max_dec, \n",
    "                         'i' => iter_dec,\n",
    "                         'd' => yspSol_dec,\n",
    "                         'g' => optGap_dec)\n",
    "                        \n",
    "        \n",
    "        return outputFun\n",
    "        \n",
    "    else\n",
    "        # recomputing values\n",
    "        uArray = [subp(xInit,uInit,yspSol_dec,nReac,ss,pScen,solNom,option)['u']' for ss in 1:nScen]\n",
    "        yArray = [subp(xInit,uInit,yspSol_dec,nReac,ss,pScen,solNom,option)['y']' for ss in 1:nScen] \n",
    "        yspArray = [subp(xInit,uInit,yspSol_dec,nReac,ss,pScen,solNom,option)['s']' for ss in 1:nScen]\n",
    "\n",
    "        #calling values of the solved problem\n",
    "        return Dict('ϕ' => objFun_dec, \n",
    "                    'd' => yspSol_dec, \n",
    "                    't' => time_dec,\n",
    "                    'm' => time_max_dec, \n",
    "                    'i' => iter_dec,\n",
    "                    'g' => optGap_dec,\n",
    "                    'u' => uArray, \n",
    "                    'y' => yArray, \n",
    "                    's' => yspArray)\n",
    "    end\n",
    "     \n",
    "end;"
   ]
  },
  {
   "cell_type": "markdown",
   "id": "7dbb9c4b",
   "metadata": {},
   "source": [
    "# Checking the performance of the methods in terms of time vs. nScen"
   ]
  },
  {
   "cell_type": "code",
   "execution_count": 14,
   "id": "a5cd27ad",
   "metadata": {},
   "outputs": [
    {
     "name": "stdout",
     "output_type": "stream",
     "text": [
      "\n",
      "******************************************************************************\n",
      "This program contains Ipopt, a library for large-scale nonlinear optimization.\n",
      " Ipopt is released as open source code under the Eclipse Public License (EPL).\n",
      "         For more information visit https://github.com/coin-or/Ipopt\n",
      "******************************************************************************\n",
      "\n"
     ]
    },
    {
     "data": {
      "text/plain": [
       "\"evaluating 1 scenarios| option 3\""
      ]
     },
     "metadata": {},
     "output_type": "display_data"
    },
    {
     "data": {
      "text/plain": [
       "\" DB: opt gap = 1.0375807656478298\""
      ]
     },
     "metadata": {},
     "output_type": "display_data"
    },
    {
     "data": {
      "text/plain": [
       "\">>>>>> iteration 1:O\""
      ]
     },
     "metadata": {},
     "output_type": "display_data"
    },
    {
     "data": {
      "text/plain": [
       "\" DB: opt gap = 0.8618685146706062\""
      ]
     },
     "metadata": {},
     "output_type": "display_data"
    },
    {
     "data": {
      "text/plain": [
       "\">>>>>> iteration 2:O\""
      ]
     },
     "metadata": {},
     "output_type": "display_data"
    },
    {
     "data": {
      "text/plain": [
       "\" DB: opt gap = 0.8788305651575027\""
      ]
     },
     "metadata": {},
     "output_type": "display_data"
    },
    {
     "data": {
      "text/plain": [
       "\">>>>>> iteration 3:O\""
      ]
     },
     "metadata": {},
     "output_type": "display_data"
    },
    {
     "data": {
      "text/plain": [
       "\" DB: opt gap = 0.9042035202197667\""
      ]
     },
     "metadata": {},
     "output_type": "display_data"
    },
    {
     "data": {
      "text/plain": [
       "\">>>>>> iteration 4:O\""
      ]
     },
     "metadata": {},
     "output_type": "display_data"
    },
    {
     "data": {
      "text/plain": [
       "\" DB: opt gap = 0.8695996511908609\""
      ]
     },
     "metadata": {},
     "output_type": "display_data"
    },
    {
     "data": {
      "text/plain": [
       "\">>>>>> iteration 5:O\""
      ]
     },
     "metadata": {},
     "output_type": "display_data"
    },
    {
     "data": {
      "text/plain": [
       "\" DB: opt gap = 0.7819219110162622\""
      ]
     },
     "metadata": {},
     "output_type": "display_data"
    },
    {
     "data": {
      "text/plain": [
       "\">>>>>> iteration 6:O\""
      ]
     },
     "metadata": {},
     "output_type": "display_data"
    },
    {
     "data": {
      "text/plain": [
       "\" DB: opt gap = 0.7090252050312638\""
      ]
     },
     "metadata": {},
     "output_type": "display_data"
    },
    {
     "data": {
      "text/plain": [
       "\">>>>>> iteration 7:O\""
      ]
     },
     "metadata": {},
     "output_type": "display_data"
    },
    {
     "data": {
      "text/plain": [
       "\" DB: opt gap = 0.6540872763956194\""
      ]
     },
     "metadata": {},
     "output_type": "display_data"
    },
    {
     "data": {
      "text/plain": [
       "\">>>>>> iteration 8:O\""
      ]
     },
     "metadata": {},
     "output_type": "display_data"
    },
    {
     "data": {
      "text/plain": [
       "\" DB: opt gap = 0.43706186359873017\""
      ]
     },
     "metadata": {},
     "output_type": "display_data"
    },
    {
     "data": {
      "text/plain": [
       "\">>>>>> iteration 9:O\""
      ]
     },
     "metadata": {},
     "output_type": "display_data"
    },
    {
     "data": {
      "text/plain": [
       "\" DB: opt gap = 0.44428971769214654\""
      ]
     },
     "metadata": {},
     "output_type": "display_data"
    },
    {
     "data": {
      "text/plain": [
       "\">>>>>> iteration 10:O\""
      ]
     },
     "metadata": {},
     "output_type": "display_data"
    },
    {
     "data": {
      "text/plain": [
       "\" DB: opt gap = 0.005916161868007476\""
      ]
     },
     "metadata": {},
     "output_type": "display_data"
    },
    {
     "data": {
      "text/plain": [
       "\">>>>>> iteration 11:O\""
      ]
     },
     "metadata": {},
     "output_type": "display_data"
    },
    {
     "data": {
      "text/plain": [
       "\" DB: opt gap = 0.005884684327507215\""
      ]
     },
     "metadata": {},
     "output_type": "display_data"
    },
    {
     "data": {
      "text/plain": [
       "\">>>>>> iteration 12:O\""
      ]
     },
     "metadata": {},
     "output_type": "display_data"
    },
    {
     "data": {
      "text/plain": [
       "\">>>>>> iteration 13:F\""
      ]
     },
     "metadata": {},
     "output_type": "display_data"
    },
    {
     "data": {
      "text/plain": [
       "\" DB: opt gap = 0.005861765483735966\""
      ]
     },
     "metadata": {},
     "output_type": "display_data"
    },
    {
     "data": {
      "text/plain": [
       "\">>>>>> iteration 14:O\""
      ]
     },
     "metadata": {},
     "output_type": "display_data"
    },
    {
     "data": {
      "text/plain": [
       "\" DB: opt gap = 0.005833876496158833\""
      ]
     },
     "metadata": {},
     "output_type": "display_data"
    },
    {
     "data": {
      "text/plain": [
       "\">>>>>> iteration 15:O\""
      ]
     },
     "metadata": {},
     "output_type": "display_data"
    },
    {
     "data": {
      "text/plain": [
       "\" DB: opt gap = 1.9330393985728777e-8\""
      ]
     },
     "metadata": {},
     "output_type": "display_data"
    },
    {
     "data": {
      "text/plain": [
       "\"time M 0.24000000953674316 | time D 3.1740005016326904\""
      ]
     },
     "metadata": {},
     "output_type": "display_data"
    },
    {
     "data": {
      "text/plain": [
       "\"evaluating 2 scenarios| option 3\""
      ]
     },
     "metadata": {},
     "output_type": "display_data"
    },
    {
     "data": {
      "text/plain": [
       "\" DB: opt gap = 1.0478753756044756\""
      ]
     },
     "metadata": {},
     "output_type": "display_data"
    },
    {
     "data": {
      "text/plain": [
       "\">>>>>> iteration 1:O\""
      ]
     },
     "metadata": {},
     "output_type": "display_data"
    },
    {
     "data": {
      "text/plain": [
       "\" DB: opt gap = 0.9272244658831643\""
      ]
     },
     "metadata": {},
     "output_type": "display_data"
    },
    {
     "data": {
      "text/plain": [
       "\">>>>>> iteration 2:O\""
      ]
     },
     "metadata": {},
     "output_type": "display_data"
    },
    {
     "data": {
      "text/plain": [
       "\" DB: opt gap = 0.9589143158381546\""
      ]
     },
     "metadata": {},
     "output_type": "display_data"
    },
    {
     "data": {
      "text/plain": [
       "\">>>>>> iteration 3:O\""
      ]
     },
     "metadata": {},
     "output_type": "display_data"
    },
    {
     "data": {
      "text/plain": [
       "\" DB: opt gap = 0.8644465957136426\""
      ]
     },
     "metadata": {},
     "output_type": "display_data"
    },
    {
     "data": {
      "text/plain": [
       "\">>>>>> iteration 4:O\""
      ]
     },
     "metadata": {},
     "output_type": "display_data"
    },
    {
     "data": {
      "text/plain": [
       "\" DB: opt gap = 0.9961147635779164\""
      ]
     },
     "metadata": {},
     "output_type": "display_data"
    },
    {
     "data": {
      "text/plain": [
       "\">>>>>> iteration 5:O\""
      ]
     },
     "metadata": {},
     "output_type": "display_data"
    },
    {
     "data": {
      "text/plain": [
       "\" DB: opt gap = 0.4935339408498277\""
      ]
     },
     "metadata": {},
     "output_type": "display_data"
    },
    {
     "data": {
      "text/plain": [
       "\">>>>>> iteration 6:O\""
      ]
     },
     "metadata": {},
     "output_type": "display_data"
    },
    {
     "data": {
      "text/plain": [
       "\" DB: opt gap = 0.49900984282307675\""
      ]
     },
     "metadata": {},
     "output_type": "display_data"
    },
    {
     "data": {
      "text/plain": [
       "\">>>>>> iteration 7:O\""
      ]
     },
     "metadata": {},
     "output_type": "display_data"
    },
    {
     "data": {
      "text/plain": [
       "\" DB: opt gap = 0.5010663709536319\""
      ]
     },
     "metadata": {},
     "output_type": "display_data"
    },
    {
     "data": {
      "text/plain": [
       "\">>>>>> iteration 8:O\""
      ]
     },
     "metadata": {},
     "output_type": "display_data"
    },
    {
     "data": {
      "text/plain": [
       "\" DB: opt gap = 0.5056504578033291\""
      ]
     },
     "metadata": {},
     "output_type": "display_data"
    },
    {
     "data": {
      "text/plain": [
       "\">>>>>> iteration 9:O\""
      ]
     },
     "metadata": {},
     "output_type": "display_data"
    },
    {
     "data": {
      "text/plain": [
       "\" DB: opt gap = 0.3228101212607733\""
      ]
     },
     "metadata": {},
     "output_type": "display_data"
    },
    {
     "data": {
      "text/plain": [
       "\">>>>>> iteration 10:O\""
      ]
     },
     "metadata": {},
     "output_type": "display_data"
    },
    {
     "data": {
      "text/plain": [
       "\" DB: opt gap = 0.3230273338495131\""
      ]
     },
     "metadata": {},
     "output_type": "display_data"
    },
    {
     "data": {
      "text/plain": [
       "\">>>>>> iteration 11:O\""
      ]
     },
     "metadata": {},
     "output_type": "display_data"
    },
    {
     "data": {
      "text/plain": [
       "\" DB: opt gap = 0.32343638634583194\""
      ]
     },
     "metadata": {},
     "output_type": "display_data"
    },
    {
     "data": {
      "text/plain": [
       "\">>>>>> iteration 12:O\""
      ]
     },
     "metadata": {},
     "output_type": "display_data"
    },
    {
     "data": {
      "text/plain": [
       "\" DB: opt gap = 0.0018144276923668797\""
      ]
     },
     "metadata": {},
     "output_type": "display_data"
    },
    {
     "data": {
      "text/plain": [
       "\">>>>>> iteration 13:O\""
      ]
     },
     "metadata": {},
     "output_type": "display_data"
    },
    {
     "data": {
      "text/plain": [
       "\" DB: opt gap = 0.0018111296714343823\""
      ]
     },
     "metadata": {},
     "output_type": "display_data"
    },
    {
     "data": {
      "text/plain": [
       "\">>>>>> iteration 14:O\""
      ]
     },
     "metadata": {},
     "output_type": "display_data"
    },
    {
     "data": {
      "text/plain": [
       "\">>>>>> iteration 15:F\""
      ]
     },
     "metadata": {},
     "output_type": "display_data"
    },
    {
     "data": {
      "text/plain": [
       "\" DB: opt gap = 0.0018002590135388161\""
      ]
     },
     "metadata": {},
     "output_type": "display_data"
    },
    {
     "data": {
      "text/plain": [
       "\">>>>>> iteration 16:O\""
      ]
     },
     "metadata": {},
     "output_type": "display_data"
    },
    {
     "data": {
      "text/plain": [
       "\" DB: opt gap = 0.0017935508668514015\""
      ]
     },
     "metadata": {},
     "output_type": "display_data"
    },
    {
     "data": {
      "text/plain": [
       "\">>>>>> iteration 17:O\""
      ]
     },
     "metadata": {},
     "output_type": "display_data"
    },
    {
     "data": {
      "text/plain": [
       "\">>>>>> iteration 18:F\""
      ]
     },
     "metadata": {},
     "output_type": "display_data"
    },
    {
     "data": {
      "text/plain": [
       "\">>>>>> iteration 19:F\""
      ]
     },
     "metadata": {},
     "output_type": "display_data"
    },
    {
     "data": {
      "text/plain": [
       "\">>>>>> iteration 20:F\""
      ]
     },
     "metadata": {},
     "output_type": "display_data"
    },
    {
     "data": {
      "text/plain": [
       "\">>>>>> iteration 21:F\""
      ]
     },
     "metadata": {},
     "output_type": "display_data"
    },
    {
     "data": {
      "text/plain": [
       "\">>>>>> iteration 22:F\""
      ]
     },
     "metadata": {},
     "output_type": "display_data"
    },
    {
     "data": {
      "text/plain": [
       "\">>>>>> iteration 23:F\""
      ]
     },
     "metadata": {},
     "output_type": "display_data"
    },
    {
     "data": {
      "text/plain": [
       "\">>>>>> iteration 24:F\""
      ]
     },
     "metadata": {},
     "output_type": "display_data"
    },
    {
     "data": {
      "text/plain": [
       "\">>>>>> iteration 25:F\""
      ]
     },
     "metadata": {},
     "output_type": "display_data"
    },
    {
     "data": {
      "text/plain": [
       "\">>>>>> iteration 26:F\""
      ]
     },
     "metadata": {},
     "output_type": "display_data"
    },
    {
     "data": {
      "text/plain": [
       "\">>>>>> iteration 27:F\""
      ]
     },
     "metadata": {},
     "output_type": "display_data"
    },
    {
     "data": {
      "text/plain": [
       "\">>>>>> iteration 28:F\""
      ]
     },
     "metadata": {},
     "output_type": "display_data"
    },
    {
     "data": {
      "text/plain": [
       "\">>>>>> iteration 29:F\""
      ]
     },
     "metadata": {},
     "output_type": "display_data"
    },
    {
     "data": {
      "text/plain": [
       "\">>>>>> iteration 30:F\""
      ]
     },
     "metadata": {},
     "output_type": "display_data"
    },
    {
     "data": {
      "text/plain": [
       "\">>>>>> iteration 31:F\""
      ]
     },
     "metadata": {},
     "output_type": "display_data"
    },
    {
     "data": {
      "text/plain": [
       "\">>>>>> iteration 32:F\""
      ]
     },
     "metadata": {},
     "output_type": "display_data"
    },
    {
     "data": {
      "text/plain": [
       "\">>>>>> iteration 33:F\""
      ]
     },
     "metadata": {},
     "output_type": "display_data"
    },
    {
     "data": {
      "text/plain": [
       "\">>>>>> iteration 34:F\""
      ]
     },
     "metadata": {},
     "output_type": "display_data"
    },
    {
     "data": {
      "text/plain": [
       "\">>>>>> iteration 35:F\""
      ]
     },
     "metadata": {},
     "output_type": "display_data"
    },
    {
     "data": {
      "text/plain": [
       "\">>>>>> iteration 36:F\""
      ]
     },
     "metadata": {},
     "output_type": "display_data"
    },
    {
     "data": {
      "text/plain": [
       "\">>>>>> iteration 37:F\""
      ]
     },
     "metadata": {},
     "output_type": "display_data"
    },
    {
     "data": {
      "text/plain": [
       "\">>>>>> iteration 38:F\""
      ]
     },
     "metadata": {},
     "output_type": "display_data"
    },
    {
     "data": {
      "text/plain": [
       "\">>>>>> iteration 39:F\""
      ]
     },
     "metadata": {},
     "output_type": "display_data"
    },
    {
     "data": {
      "text/plain": [
       "\">>>>>> iteration 40:F\""
      ]
     },
     "metadata": {},
     "output_type": "display_data"
    },
    {
     "data": {
      "text/plain": [
       "\">>>>>> iteration 41:F\""
      ]
     },
     "metadata": {},
     "output_type": "display_data"
    },
    {
     "data": {
      "text/plain": [
       "\">>>>>> iteration 42:F\""
      ]
     },
     "metadata": {},
     "output_type": "display_data"
    },
    {
     "data": {
      "text/plain": [
       "\">>>>>> iteration 43:F\""
      ]
     },
     "metadata": {},
     "output_type": "display_data"
    },
    {
     "data": {
      "text/plain": [
       "\">>>>>> iteration 44:F\""
      ]
     },
     "metadata": {},
     "output_type": "display_data"
    },
    {
     "data": {
      "text/plain": [
       "\">>>>>> iteration 45:F\""
      ]
     },
     "metadata": {},
     "output_type": "display_data"
    },
    {
     "data": {
      "text/plain": [
       "\">>>>>> iteration 46:F\""
      ]
     },
     "metadata": {},
     "output_type": "display_data"
    },
    {
     "data": {
      "text/plain": [
       "\">>>>>> iteration 47:F\""
      ]
     },
     "metadata": {},
     "output_type": "display_data"
    },
    {
     "data": {
      "text/plain": [
       "\">>>>>> iteration 48:F\""
      ]
     },
     "metadata": {},
     "output_type": "display_data"
    },
    {
     "data": {
      "text/plain": [
       "\">>>>>> iteration 49:F\""
      ]
     },
     "metadata": {},
     "output_type": "display_data"
    },
    {
     "data": {
      "text/plain": [
       "\">>>>>> iteration 50:F\""
      ]
     },
     "metadata": {},
     "output_type": "display_data"
    },
    {
     "data": {
      "text/plain": [
       "\"time M 0.5850000381469727 | time D 6.902000188827515\""
      ]
     },
     "metadata": {},
     "output_type": "display_data"
    },
    {
     "ename": "LoadError",
     "evalue": "KeyError: key 'm' not found",
     "output_type": "error",
     "traceback": [
      "KeyError: key 'm' not found",
      "",
      "Stacktrace:",
      " [1] getindex(h::Dict{Char, Any}, key::Char)",
      "   @ Base .\\dict.jl:498",
      " [2] top-level scope",
      "   @ .\\In[14]:65"
     ]
    }
   ],
   "source": [
    "# testing the number of scenarios\n",
    "nScenMax = 50 # 30\n",
    "\n",
    "#preparing plot \n",
    "# --> monolithic vs. decomposed \n",
    "# solution time\n",
    "solTimeTraj_s = Matrix{Float64}(undef,2,nScenMax) \n",
    "# computed objective function\n",
    "solObjTraj_s = Matrix{Float64}(undef,2,nScenMax) \n",
    "# --> only decomposed\n",
    "# max solution time over all scenarios \n",
    "solTimeMaxTraj_s = Vector{Float64}(undef,nScenMax) \n",
    "# number of iterations\n",
    "iterTraj_s = Vector{Float64}(undef,nScenMax) \n",
    "# optimality gap\n",
    "optGapTraj_s = Vector{Float64}(undef,nScenMax) \n",
    "\n",
    "# number of reactors in parallel\n",
    "nReactors = 1\n",
    "# Number of states\n",
    "nx = 2*nReactors\n",
    "\n",
    "# Initial conditions (deviation form)\n",
    "xInit_0 = repeat([0.3583;0.6418] .- x0, outer = [nReactors,1])\n",
    "uInit_0 = 1.0 - u0;\n",
    "\n",
    "#option = 1 --> Unconstrained MPC\n",
    "#option = 2 --> Constrained MPC with binaries --> DOES NOT WORK YET!\n",
    "#option = 3 --> Constrained MPC with MPCC\n",
    "opti = 3\n",
    "    \n",
    "# Computing nominal solution #\n",
    "#number of scenarios \n",
    "scenNom = 1\n",
    "#equiprobable scenarios\n",
    "pNom = 1.0\n",
    "#number of reactors \n",
    "reacNom = 1\n",
    "# number of states of the nominal solution\n",
    "nx = 2*reacNom\n",
    "\n",
    "solNominal = MS_CLDRTO(x0,u0,reacNom,scenNom,pNom,0,opti); \n",
    "\n",
    "for ss = 1:nScenMax\n",
    "    display(\"evaluating $(ss) scenarios| option $(opti)\")\n",
    "\n",
    "    #number os scenarios\n",
    "    nScen = ss\n",
    "    #equiprobable scenarios\n",
    "    pScen = 1.0/nScen\n",
    "       \n",
    "    # solving monolithical problem \n",
    "    sol_m_Dict = MS_CLDRTO(xInit_0,uInit_0,nReactors,nScen,pScen,solNominal,opti)\n",
    "\n",
    "    # solving decomposed problem\n",
    "    sol_d_Dict = BENS_CLDRTO(xInit_0,uInit_0,nReactors,nScen,pScen,solNominal,opti)\n",
    "    \n",
    "    # for plotting\n",
    "    display(\"time M $(sol_m_Dict['t']) | time D $(sol_d_Dict['t'])\")\n",
    "    solTimeTraj_s[1,ss] = sol_m_Dict['t']\n",
    "    solTimeTraj_s[2,ss] = sol_d_Dict['t']\n",
    "    solObjTraj_s[1,ss] = sol_m_Dict['ϕ']\n",
    "    solObjTraj_s[2,ss] = sol_d_Dict['ϕ']\n",
    "    \n",
    "    solTimeMaxTraj_s[ss] = sol_d_Dict['m']\n",
    "    iterTraj_s[ss] = sol_d_Dict['i'] \n",
    "    optGapTraj_s[ss] = sol_d_Dict['g']\n",
    "end\n"
   ]
  },
  {
   "cell_type": "code",
   "execution_count": 15,
   "id": "06275755",
   "metadata": {
    "scrolled": true
   },
   "outputs": [
    {
     "data": {
      "image/svg+xml": [
       "<?xml version=\"1.0\" encoding=\"utf-8\"?>\n",
       "<svg xmlns=\"http://www.w3.org/2000/svg\" xmlns:xlink=\"http://www.w3.org/1999/xlink\" width=\"600\" height=\"400\" viewBox=\"0 0 2400 1600\">\n",
       "<defs>\n",
       "  <clipPath id=\"clip120\">\n",
       "    <rect x=\"0\" y=\"0\" width=\"2400\" height=\"1600\"/>\n",
       "  </clipPath>\n",
       "</defs>\n",
       "<path clip-path=\"url(#clip120)\" d=\"M0 1600 L2400 1600 L2400 0 L0 0  Z\" fill=\"#ffffff\" fill-rule=\"evenodd\" fill-opacity=\"1\"/>\n",
       "<defs>\n",
       "  <clipPath id=\"clip121\">\n",
       "    <rect x=\"480\" y=\"0\" width=\"1681\" height=\"1600\"/>\n",
       "  </clipPath>\n",
       "</defs>\n",
       "<path clip-path=\"url(#clip120)\" d=\"M175.445 1423.18 L2352.76 1423.18 L2352.76 47.2441 L175.445 47.2441  Z\" fill=\"#ffffff\" fill-rule=\"evenodd\" fill-opacity=\"1\"/>\n",
       "<defs>\n",
       "  <clipPath id=\"clip122\">\n",
       "    <rect x=\"175\" y=\"47\" width=\"2178\" height=\"1377\"/>\n",
       "  </clipPath>\n",
       "</defs>\n",
       "<polyline clip-path=\"url(#clip122)\" style=\"stroke:#000000; stroke-linecap:round; stroke-linejoin:round; stroke-width:8; stroke-opacity:0.1; fill:none\" points=\"195.147,1423.18 195.147,47.2441 \"/>\n",
       "<polyline clip-path=\"url(#clip122)\" style=\"stroke:#000000; stroke-linecap:round; stroke-linejoin:round; stroke-width:8; stroke-opacity:0.1; fill:none\" points=\"614.345,1423.18 614.345,47.2441 \"/>\n",
       "<polyline clip-path=\"url(#clip122)\" style=\"stroke:#000000; stroke-linecap:round; stroke-linejoin:round; stroke-width:8; stroke-opacity:0.1; fill:none\" points=\"1033.54,1423.18 1033.54,47.2441 \"/>\n",
       "<polyline clip-path=\"url(#clip122)\" style=\"stroke:#000000; stroke-linecap:round; stroke-linejoin:round; stroke-width:8; stroke-opacity:0.1; fill:none\" points=\"1452.74,1423.18 1452.74,47.2441 \"/>\n",
       "<polyline clip-path=\"url(#clip122)\" style=\"stroke:#000000; stroke-linecap:round; stroke-linejoin:round; stroke-width:8; stroke-opacity:0.1; fill:none\" points=\"1871.94,1423.18 1871.94,47.2441 \"/>\n",
       "<polyline clip-path=\"url(#clip122)\" style=\"stroke:#000000; stroke-linecap:round; stroke-linejoin:round; stroke-width:8; stroke-opacity:0.1; fill:none\" points=\"2291.13,1423.18 2291.13,47.2441 \"/>\n",
       "<polyline clip-path=\"url(#clip120)\" style=\"stroke:#000000; stroke-linecap:round; stroke-linejoin:round; stroke-width:4; stroke-opacity:1; fill:none\" points=\"175.445,1423.18 2352.76,1423.18 \"/>\n",
       "<polyline clip-path=\"url(#clip120)\" style=\"stroke:#000000; stroke-linecap:round; stroke-linejoin:round; stroke-width:4; stroke-opacity:1; fill:none\" points=\"195.147,1423.18 195.147,1404.28 \"/>\n",
       "<polyline clip-path=\"url(#clip120)\" style=\"stroke:#000000; stroke-linecap:round; stroke-linejoin:round; stroke-width:4; stroke-opacity:1; fill:none\" points=\"614.345,1423.18 614.345,1404.28 \"/>\n",
       "<polyline clip-path=\"url(#clip120)\" style=\"stroke:#000000; stroke-linecap:round; stroke-linejoin:round; stroke-width:4; stroke-opacity:1; fill:none\" points=\"1033.54,1423.18 1033.54,1404.28 \"/>\n",
       "<polyline clip-path=\"url(#clip120)\" style=\"stroke:#000000; stroke-linecap:round; stroke-linejoin:round; stroke-width:4; stroke-opacity:1; fill:none\" points=\"1452.74,1423.18 1452.74,1404.28 \"/>\n",
       "<polyline clip-path=\"url(#clip120)\" style=\"stroke:#000000; stroke-linecap:round; stroke-linejoin:round; stroke-width:4; stroke-opacity:1; fill:none\" points=\"1871.94,1423.18 1871.94,1404.28 \"/>\n",
       "<polyline clip-path=\"url(#clip120)\" style=\"stroke:#000000; stroke-linecap:round; stroke-linejoin:round; stroke-width:4; stroke-opacity:1; fill:none\" points=\"2291.13,1423.18 2291.13,1404.28 \"/>\n",
       "<path clip-path=\"url(#clip120)\" d=\"M195.147 1454.1 Q191.536 1454.1 189.708 1457.66 Q187.902 1461.2 187.902 1468.33 Q187.902 1475.44 189.708 1479.01 Q191.536 1482.55 195.147 1482.55 Q198.782 1482.55 200.587 1479.01 Q202.416 1475.44 202.416 1468.33 Q202.416 1461.2 200.587 1457.66 Q198.782 1454.1 195.147 1454.1 M195.147 1450.39 Q200.958 1450.39 204.013 1455 Q207.092 1459.58 207.092 1468.33 Q207.092 1477.06 204.013 1481.67 Q200.958 1486.25 195.147 1486.25 Q189.337 1486.25 186.259 1481.67 Q183.203 1477.06 183.203 1468.33 Q183.203 1459.58 186.259 1455 Q189.337 1450.39 195.147 1450.39 Z\" fill=\"#000000\" fill-rule=\"evenodd\" fill-opacity=\"1\" /><path clip-path=\"url(#clip120)\" d=\"M589.032 1481.64 L596.671 1481.64 L596.671 1455.28 L588.361 1456.95 L588.361 1452.69 L596.625 1451.02 L601.301 1451.02 L601.301 1481.64 L608.94 1481.64 L608.94 1485.58 L589.032 1485.58 L589.032 1481.64 Z\" fill=\"#000000\" fill-rule=\"evenodd\" fill-opacity=\"1\" /><path clip-path=\"url(#clip120)\" d=\"M628.384 1454.1 Q624.773 1454.1 622.944 1457.66 Q621.139 1461.2 621.139 1468.33 Q621.139 1475.44 622.944 1479.01 Q624.773 1482.55 628.384 1482.55 Q632.018 1482.55 633.824 1479.01 Q635.653 1475.44 635.653 1468.33 Q635.653 1461.2 633.824 1457.66 Q632.018 1454.1 628.384 1454.1 M628.384 1450.39 Q634.194 1450.39 637.25 1455 Q640.328 1459.58 640.328 1468.33 Q640.328 1477.06 637.25 1481.67 Q634.194 1486.25 628.384 1486.25 Q622.574 1486.25 619.495 1481.67 Q616.44 1477.06 616.44 1468.33 Q616.44 1459.58 619.495 1455 Q622.574 1450.39 628.384 1450.39 Z\" fill=\"#000000\" fill-rule=\"evenodd\" fill-opacity=\"1\" /><path clip-path=\"url(#clip120)\" d=\"M1012.32 1481.64 L1028.63 1481.64 L1028.63 1485.58 L1006.69 1485.58 L1006.69 1481.64 Q1009.35 1478.89 1013.94 1474.26 Q1018.54 1469.61 1019.72 1468.27 Q1021.97 1465.74 1022.85 1464.01 Q1023.75 1462.25 1023.75 1460.56 Q1023.75 1457.8 1021.81 1456.07 Q1019.88 1454.33 1016.78 1454.33 Q1014.58 1454.33 1012.13 1455.09 Q1009.7 1455.86 1006.92 1457.41 L1006.92 1452.69 Q1009.75 1451.55 1012.2 1450.97 Q1014.65 1450.39 1016.69 1450.39 Q1022.06 1450.39 1025.26 1453.08 Q1028.45 1455.77 1028.45 1460.26 Q1028.45 1462.39 1027.64 1464.31 Q1026.85 1466.2 1024.75 1468.8 Q1024.17 1469.47 1021.07 1472.69 Q1017.96 1475.88 1012.32 1481.64 Z\" fill=\"#000000\" fill-rule=\"evenodd\" fill-opacity=\"1\" /><path clip-path=\"url(#clip120)\" d=\"M1048.45 1454.1 Q1044.84 1454.1 1043.01 1457.66 Q1041.2 1461.2 1041.2 1468.33 Q1041.2 1475.44 1043.01 1479.01 Q1044.84 1482.55 1048.45 1482.55 Q1052.08 1482.55 1053.89 1479.01 Q1055.72 1475.44 1055.72 1468.33 Q1055.72 1461.2 1053.89 1457.66 Q1052.08 1454.1 1048.45 1454.1 M1048.45 1450.39 Q1054.26 1450.39 1057.32 1455 Q1060.39 1459.58 1060.39 1468.33 Q1060.39 1477.06 1057.32 1481.67 Q1054.26 1486.25 1048.45 1486.25 Q1042.64 1486.25 1039.56 1481.67 Q1036.5 1477.06 1036.5 1468.33 Q1036.5 1459.58 1039.56 1455 Q1042.64 1450.39 1048.45 1450.39 Z\" fill=\"#000000\" fill-rule=\"evenodd\" fill-opacity=\"1\" /><path clip-path=\"url(#clip120)\" d=\"M1441.58 1466.95 Q1444.94 1467.66 1446.81 1469.93 Q1448.71 1472.2 1448.71 1475.53 Q1448.71 1480.65 1445.19 1483.45 Q1441.67 1486.25 1435.19 1486.25 Q1433.02 1486.25 1430.7 1485.81 Q1428.41 1485.39 1425.96 1484.54 L1425.96 1480.02 Q1427.9 1481.16 1430.22 1481.74 Q1432.53 1482.32 1435.05 1482.32 Q1439.45 1482.32 1441.74 1480.58 Q1444.06 1478.84 1444.06 1475.53 Q1444.06 1472.48 1441.91 1470.77 Q1439.78 1469.03 1435.96 1469.03 L1431.93 1469.03 L1431.93 1465.19 L1436.14 1465.19 Q1439.59 1465.19 1441.42 1463.82 Q1443.25 1462.43 1443.25 1459.84 Q1443.25 1457.18 1441.35 1455.77 Q1439.48 1454.33 1435.96 1454.33 Q1434.04 1454.33 1431.84 1454.75 Q1429.64 1455.16 1427 1456.04 L1427 1451.88 Q1429.66 1451.14 1431.98 1450.77 Q1434.31 1450.39 1436.37 1450.39 Q1441.7 1450.39 1444.8 1452.83 Q1447.9 1455.23 1447.9 1459.35 Q1447.9 1462.22 1446.26 1464.21 Q1444.61 1466.18 1441.58 1466.95 Z\" fill=\"#000000\" fill-rule=\"evenodd\" fill-opacity=\"1\" /><path clip-path=\"url(#clip120)\" d=\"M1467.58 1454.1 Q1463.97 1454.1 1462.14 1457.66 Q1460.33 1461.2 1460.33 1468.33 Q1460.33 1475.44 1462.14 1479.01 Q1463.97 1482.55 1467.58 1482.55 Q1471.21 1482.55 1473.02 1479.01 Q1474.85 1475.44 1474.85 1468.33 Q1474.85 1461.2 1473.02 1457.66 Q1471.21 1454.1 1467.58 1454.1 M1467.58 1450.39 Q1473.39 1450.39 1476.44 1455 Q1479.52 1459.58 1479.52 1468.33 Q1479.52 1477.06 1476.44 1481.67 Q1473.39 1486.25 1467.58 1486.25 Q1461.77 1486.25 1458.69 1481.67 Q1455.63 1477.06 1455.63 1468.33 Q1455.63 1459.58 1458.69 1455 Q1461.77 1450.39 1467.58 1450.39 Z\" fill=\"#000000\" fill-rule=\"evenodd\" fill-opacity=\"1\" /><path clip-path=\"url(#clip120)\" d=\"M1860.11 1455.09 L1848.3 1473.54 L1860.11 1473.54 L1860.11 1455.09 M1858.88 1451.02 L1864.76 1451.02 L1864.76 1473.54 L1869.69 1473.54 L1869.69 1477.43 L1864.76 1477.43 L1864.76 1485.58 L1860.11 1485.58 L1860.11 1477.43 L1844.51 1477.43 L1844.51 1472.92 L1858.88 1451.02 Z\" fill=\"#000000\" fill-rule=\"evenodd\" fill-opacity=\"1\" /><path clip-path=\"url(#clip120)\" d=\"M1887.42 1454.1 Q1883.81 1454.1 1881.98 1457.66 Q1880.18 1461.2 1880.18 1468.33 Q1880.18 1475.44 1881.98 1479.01 Q1883.81 1482.55 1887.42 1482.55 Q1891.06 1482.55 1892.86 1479.01 Q1894.69 1475.44 1894.69 1468.33 Q1894.69 1461.2 1892.86 1457.66 Q1891.06 1454.1 1887.42 1454.1 M1887.42 1450.39 Q1893.23 1450.39 1896.29 1455 Q1899.37 1459.58 1899.37 1468.33 Q1899.37 1477.06 1896.29 1481.67 Q1893.23 1486.25 1887.42 1486.25 Q1881.61 1486.25 1878.53 1481.67 Q1875.48 1477.06 1875.48 1468.33 Q1875.48 1459.58 1878.53 1455 Q1881.61 1450.39 1887.42 1450.39 Z\" fill=\"#000000\" fill-rule=\"evenodd\" fill-opacity=\"1\" /><path clip-path=\"url(#clip120)\" d=\"M2265.83 1451.02 L2284.19 1451.02 L2284.19 1454.96 L2270.12 1454.96 L2270.12 1463.43 Q2271.13 1463.08 2272.15 1462.92 Q2273.17 1462.73 2274.19 1462.73 Q2279.98 1462.73 2283.36 1465.9 Q2286.74 1469.08 2286.74 1474.49 Q2286.74 1480.07 2283.26 1483.17 Q2279.79 1486.25 2273.47 1486.25 Q2271.3 1486.25 2269.03 1485.88 Q2266.78 1485.51 2264.37 1484.77 L2264.37 1480.07 Q2266.46 1481.2 2268.68 1481.76 Q2270.9 1482.32 2273.38 1482.32 Q2277.38 1482.32 2279.72 1480.21 Q2282.06 1478.1 2282.06 1474.49 Q2282.06 1470.88 2279.72 1468.77 Q2277.38 1466.67 2273.38 1466.67 Q2271.5 1466.67 2269.63 1467.08 Q2267.78 1467.5 2265.83 1468.38 L2265.83 1451.02 Z\" fill=\"#000000\" fill-rule=\"evenodd\" fill-opacity=\"1\" /><path clip-path=\"url(#clip120)\" d=\"M2305.95 1454.1 Q2302.34 1454.1 2300.51 1457.66 Q2298.7 1461.2 2298.7 1468.33 Q2298.7 1475.44 2300.51 1479.01 Q2302.34 1482.55 2305.95 1482.55 Q2309.58 1482.55 2311.39 1479.01 Q2313.22 1475.44 2313.22 1468.33 Q2313.22 1461.2 2311.39 1457.66 Q2309.58 1454.1 2305.95 1454.1 M2305.95 1450.39 Q2311.76 1450.39 2314.81 1455 Q2317.89 1459.58 2317.89 1468.33 Q2317.89 1477.06 2314.81 1481.67 Q2311.76 1486.25 2305.95 1486.25 Q2300.14 1486.25 2297.06 1481.67 Q2294 1477.06 2294 1468.33 Q2294 1459.58 2297.06 1455 Q2300.14 1450.39 2305.95 1450.39 Z\" fill=\"#000000\" fill-rule=\"evenodd\" fill-opacity=\"1\" /><path clip-path=\"url(#clip120)\" d=\"M1103.88 1539.37 L1094.61 1539.37 L1091.94 1550 L1101.27 1550 L1103.88 1539.37 M1099.1 1521.26 L1095.79 1534.46 L1105.09 1534.46 L1108.43 1521.26 L1113.52 1521.26 L1110.24 1534.46 L1120.17 1534.46 L1120.17 1539.37 L1109 1539.37 L1106.39 1550 L1116.51 1550 L1116.51 1554.87 L1105.15 1554.87 L1101.84 1568.04 L1096.75 1568.04 L1100.02 1554.87 L1090.7 1554.87 L1087.42 1568.04 L1082.3 1568.04 L1085.61 1554.87 L1075.58 1554.87 L1075.58 1550 L1086.78 1550 L1089.46 1539.37 L1079.21 1539.37 L1079.21 1534.46 L1090.7 1534.46 L1093.95 1521.26 L1099.1 1521.26 Z\" fill=\"#000000\" fill-rule=\"evenodd\" fill-opacity=\"1\" /><path clip-path=\"url(#clip120)\" d=\"M1174.76 1533.45 L1174.76 1538.98 Q1172.28 1537.71 1169.6 1537.07 Q1166.93 1536.44 1164.06 1536.44 Q1159.7 1536.44 1157.51 1537.77 Q1155.34 1539.11 1155.34 1541.79 Q1155.34 1543.82 1156.9 1545 Q1158.46 1546.15 1163.17 1547.2 L1165.18 1547.64 Q1171.42 1548.98 1174.03 1551.43 Q1176.67 1553.85 1176.67 1558.21 Q1176.67 1563.17 1172.72 1566.07 Q1168.81 1568.97 1161.93 1568.97 Q1159.07 1568.97 1155.95 1568.39 Q1152.86 1567.85 1149.42 1566.74 L1149.42 1560.69 Q1152.67 1562.38 1155.82 1563.24 Q1158.97 1564.07 1162.06 1564.07 Q1166.2 1564.07 1168.42 1562.66 Q1170.65 1561.23 1170.65 1558.65 Q1170.65 1556.27 1169.03 1554.99 Q1167.44 1553.72 1161.99 1552.54 L1159.96 1552.07 Q1154.51 1550.92 1152.1 1548.56 Q1149.68 1546.18 1149.68 1542.04 Q1149.68 1537.01 1153.24 1534.27 Q1156.81 1531.54 1163.36 1531.54 Q1166.61 1531.54 1169.47 1532.01 Q1172.34 1532.49 1174.76 1533.45 Z\" fill=\"#000000\" fill-rule=\"evenodd\" fill-opacity=\"1\" /><path clip-path=\"url(#clip120)\" d=\"M1211.65 1533.76 L1211.65 1539.24 Q1209.16 1537.87 1206.65 1537.2 Q1204.17 1536.5 1201.62 1536.5 Q1195.92 1536.5 1192.77 1540.13 Q1189.62 1543.73 1189.62 1550.25 Q1189.62 1556.78 1192.77 1560.4 Q1195.92 1564 1201.62 1564 Q1204.17 1564 1206.65 1563.33 Q1209.16 1562.63 1211.65 1561.26 L1211.65 1566.68 Q1209.2 1567.82 1206.55 1568.39 Q1203.94 1568.97 1200.98 1568.97 Q1192.93 1568.97 1188.19 1563.91 Q1183.45 1558.85 1183.45 1550.25 Q1183.45 1541.53 1188.22 1536.53 Q1193.03 1531.54 1201.37 1531.54 Q1204.07 1531.54 1206.65 1532.11 Q1209.23 1532.65 1211.65 1533.76 Z\" fill=\"#000000\" fill-rule=\"evenodd\" fill-opacity=\"1\" /><path clip-path=\"url(#clip120)\" d=\"M1252.32 1548.76 L1252.32 1551.62 L1225.4 1551.62 Q1225.78 1557.67 1229.03 1560.85 Q1232.3 1564 1238.13 1564 Q1241.5 1564 1244.65 1563.17 Q1247.84 1562.35 1250.96 1560.69 L1250.96 1566.23 Q1247.8 1567.57 1244.49 1568.27 Q1241.18 1568.97 1237.78 1568.97 Q1229.25 1568.97 1224.25 1564 Q1219.29 1559.04 1219.29 1550.57 Q1219.29 1541.82 1224 1536.69 Q1228.74 1531.54 1236.76 1531.54 Q1243.95 1531.54 1248.12 1536.18 Q1252.32 1540.8 1252.32 1548.76 M1246.47 1547.04 Q1246.4 1542.23 1243.76 1539.37 Q1241.15 1536.5 1236.82 1536.5 Q1231.92 1536.5 1228.96 1539.27 Q1226.03 1542.04 1225.59 1547.07 L1246.47 1547.04 Z\" fill=\"#000000\" fill-rule=\"evenodd\" fill-opacity=\"1\" /><path clip-path=\"url(#clip120)\" d=\"M1291.57 1546.53 L1291.57 1568.04 L1285.71 1568.04 L1285.71 1546.72 Q1285.71 1541.66 1283.74 1539.14 Q1281.77 1536.63 1277.82 1536.63 Q1273.08 1536.63 1270.34 1539.65 Q1267.6 1542.68 1267.6 1547.9 L1267.6 1568.04 L1261.71 1568.04 L1261.71 1532.4 L1267.6 1532.4 L1267.6 1537.93 Q1269.7 1534.72 1272.54 1533.13 Q1275.4 1531.54 1279.12 1531.54 Q1285.27 1531.54 1288.42 1535.36 Q1291.57 1539.14 1291.57 1546.53 Z\" fill=\"#000000\" fill-rule=\"evenodd\" fill-opacity=\"1\" /><path clip-path=\"url(#clip120)\" d=\"M1319.45 1550.12 Q1312.35 1550.12 1309.62 1551.75 Q1306.88 1553.37 1306.88 1557.29 Q1306.88 1560.4 1308.92 1562.25 Q1310.98 1564.07 1314.52 1564.07 Q1319.39 1564.07 1322.31 1560.63 Q1325.27 1557.16 1325.27 1551.43 L1325.27 1550.12 L1319.45 1550.12 M1331.13 1547.71 L1331.13 1568.04 L1325.27 1568.04 L1325.27 1562.63 Q1323.27 1565.88 1320.28 1567.44 Q1317.29 1568.97 1312.96 1568.97 Q1307.48 1568.97 1304.24 1565.91 Q1301.02 1562.82 1301.02 1557.67 Q1301.02 1551.65 1305.03 1548.6 Q1309.07 1545.54 1317.06 1545.54 L1325.27 1545.54 L1325.27 1544.97 Q1325.27 1540.93 1322.6 1538.73 Q1319.96 1536.5 1315.15 1536.5 Q1312.1 1536.5 1309.2 1537.23 Q1306.31 1537.97 1303.63 1539.43 L1303.63 1534.02 Q1306.85 1532.78 1309.87 1532.17 Q1312.89 1531.54 1315.76 1531.54 Q1323.49 1531.54 1327.31 1535.55 Q1331.13 1539.56 1331.13 1547.71 Z\" fill=\"#000000\" fill-rule=\"evenodd\" fill-opacity=\"1\" /><path clip-path=\"url(#clip120)\" d=\"M1363.85 1537.87 Q1362.86 1537.3 1361.69 1537.04 Q1360.54 1536.76 1359.14 1536.76 Q1354.18 1536.76 1351.5 1540 Q1348.86 1543.22 1348.86 1549.27 L1348.86 1568.04 L1342.97 1568.04 L1342.97 1532.4 L1348.86 1532.4 L1348.86 1537.93 Q1350.71 1534.69 1353.67 1533.13 Q1356.63 1531.54 1360.86 1531.54 Q1361.46 1531.54 1362.2 1531.63 Q1362.93 1531.7 1363.82 1531.85 L1363.85 1537.87 Z\" fill=\"#000000\" fill-rule=\"evenodd\" fill-opacity=\"1\" /><path clip-path=\"url(#clip120)\" d=\"M1369.99 1532.4 L1375.85 1532.4 L1375.85 1568.04 L1369.99 1568.04 L1369.99 1532.4 M1369.99 1518.52 L1375.85 1518.52 L1375.85 1525.93 L1369.99 1525.93 L1369.99 1518.52 Z\" fill=\"#000000\" fill-rule=\"evenodd\" fill-opacity=\"1\" /><path clip-path=\"url(#clip120)\" d=\"M1401.92 1536.5 Q1397.21 1536.5 1394.47 1540.19 Q1391.73 1543.85 1391.73 1550.25 Q1391.73 1556.65 1394.44 1560.34 Q1397.18 1564 1401.92 1564 Q1406.6 1564 1409.33 1560.31 Q1412.07 1556.62 1412.07 1550.25 Q1412.07 1543.92 1409.33 1540.23 Q1406.6 1536.5 1401.92 1536.5 M1401.92 1531.54 Q1409.56 1531.54 1413.92 1536.5 Q1418.28 1541.47 1418.28 1550.25 Q1418.28 1559 1413.92 1564 Q1409.56 1568.97 1401.92 1568.97 Q1394.25 1568.97 1389.89 1564 Q1385.56 1559 1385.56 1550.25 Q1385.56 1541.47 1389.89 1536.5 Q1394.25 1531.54 1401.92 1531.54 Z\" fill=\"#000000\" fill-rule=\"evenodd\" fill-opacity=\"1\" /><path clip-path=\"url(#clip120)\" d=\"M1450.71 1533.45 L1450.71 1538.98 Q1448.23 1537.71 1445.56 1537.07 Q1442.88 1536.44 1440.02 1536.44 Q1435.66 1536.44 1433.46 1537.77 Q1431.3 1539.11 1431.3 1541.79 Q1431.3 1543.82 1432.86 1545 Q1434.42 1546.15 1439.13 1547.2 L1441.13 1547.64 Q1447.37 1548.98 1449.98 1551.43 Q1452.62 1553.85 1452.62 1558.21 Q1452.62 1563.17 1448.67 1566.07 Q1444.76 1568.97 1437.88 1568.97 Q1435.02 1568.97 1431.9 1568.39 Q1428.81 1567.85 1425.38 1566.74 L1425.38 1560.69 Q1428.62 1562.38 1431.77 1563.24 Q1434.92 1564.07 1438.01 1564.07 Q1442.15 1564.07 1444.38 1562.66 Q1446.61 1561.23 1446.61 1558.65 Q1446.61 1556.27 1444.98 1554.99 Q1443.39 1553.72 1437.95 1552.54 L1435.91 1552.07 Q1430.47 1550.92 1428.05 1548.56 Q1425.63 1546.18 1425.63 1542.04 Q1425.63 1537.01 1429.2 1534.27 Q1432.76 1531.54 1439.32 1531.54 Q1442.56 1531.54 1445.43 1532.01 Q1448.29 1532.49 1450.71 1533.45 Z\" fill=\"#000000\" fill-rule=\"evenodd\" fill-opacity=\"1\" /><polyline clip-path=\"url(#clip122)\" style=\"stroke:#000000; stroke-linecap:round; stroke-linejoin:round; stroke-width:8; stroke-opacity:0.1; fill:none\" points=\"175.445,1384.24 2352.76,1384.24 \"/>\n",
       "<polyline clip-path=\"url(#clip122)\" style=\"stroke:#000000; stroke-linecap:round; stroke-linejoin:round; stroke-width:8; stroke-opacity:0.1; fill:none\" points=\"175.445,1008.1 2352.76,1008.1 \"/>\n",
       "<polyline clip-path=\"url(#clip122)\" style=\"stroke:#000000; stroke-linecap:round; stroke-linejoin:round; stroke-width:8; stroke-opacity:0.1; fill:none\" points=\"175.445,631.962 2352.76,631.962 \"/>\n",
       "<polyline clip-path=\"url(#clip122)\" style=\"stroke:#000000; stroke-linecap:round; stroke-linejoin:round; stroke-width:8; stroke-opacity:0.1; fill:none\" points=\"175.445,255.824 2352.76,255.824 \"/>\n",
       "<polyline clip-path=\"url(#clip120)\" style=\"stroke:#000000; stroke-linecap:round; stroke-linejoin:round; stroke-width:4; stroke-opacity:1; fill:none\" points=\"175.445,1423.18 175.445,47.2441 \"/>\n",
       "<polyline clip-path=\"url(#clip120)\" style=\"stroke:#000000; stroke-linecap:round; stroke-linejoin:round; stroke-width:4; stroke-opacity:1; fill:none\" points=\"175.445,1384.24 194.343,1384.24 \"/>\n",
       "<polyline clip-path=\"url(#clip120)\" style=\"stroke:#000000; stroke-linecap:round; stroke-linejoin:round; stroke-width:4; stroke-opacity:1; fill:none\" points=\"175.445,1008.1 194.343,1008.1 \"/>\n",
       "<polyline clip-path=\"url(#clip120)\" style=\"stroke:#000000; stroke-linecap:round; stroke-linejoin:round; stroke-width:4; stroke-opacity:1; fill:none\" points=\"175.445,631.962 194.343,631.962 \"/>\n",
       "<polyline clip-path=\"url(#clip120)\" style=\"stroke:#000000; stroke-linecap:round; stroke-linejoin:round; stroke-width:4; stroke-opacity:1; fill:none\" points=\"175.445,255.824 194.343,255.824 \"/>\n",
       "<path clip-path=\"url(#clip120)\" d=\"M127.501 1370.04 Q123.89 1370.04 122.061 1373.6 Q120.255 1377.14 120.255 1384.27 Q120.255 1391.38 122.061 1394.94 Q123.89 1398.49 127.501 1398.49 Q131.135 1398.49 132.941 1394.94 Q134.769 1391.38 134.769 1384.27 Q134.769 1377.14 132.941 1373.6 Q131.135 1370.04 127.501 1370.04 M127.501 1366.33 Q133.311 1366.33 136.367 1370.94 Q139.445 1375.52 139.445 1384.27 Q139.445 1393 136.367 1397.61 Q133.311 1402.19 127.501 1402.19 Q121.691 1402.19 118.612 1397.61 Q115.556 1393 115.556 1384.27 Q115.556 1375.52 118.612 1370.94 Q121.691 1366.33 127.501 1366.33 Z\" fill=\"#000000\" fill-rule=\"evenodd\" fill-opacity=\"1\" /><path clip-path=\"url(#clip120)\" d=\"M123.126 1021.45 L139.445 1021.45 L139.445 1025.38 L117.501 1025.38 L117.501 1021.45 Q120.163 1018.69 124.746 1014.06 Q129.353 1009.41 130.533 1008.07 Q132.779 1005.54 133.658 1003.81 Q134.561 1002.05 134.561 1000.36 Q134.561 997.603 132.617 995.866 Q130.695 994.13 127.593 994.13 Q125.394 994.13 122.941 994.894 Q120.51 995.658 117.732 997.209 L117.732 992.487 Q120.556 991.353 123.01 990.774 Q125.464 990.195 127.501 990.195 Q132.871 990.195 136.066 992.88 Q139.26 995.566 139.26 1000.06 Q139.26 1002.19 138.45 1004.11 Q137.663 1006.01 135.556 1008.6 Q134.978 1009.27 131.876 1012.49 Q128.774 1015.68 123.126 1021.45 Z\" fill=\"#000000\" fill-rule=\"evenodd\" fill-opacity=\"1\" /><path clip-path=\"url(#clip120)\" d=\"M129.862 618.756 L118.056 637.205 L129.862 637.205 L129.862 618.756 M128.635 614.682 L134.515 614.682 L134.515 637.205 L139.445 637.205 L139.445 641.094 L134.515 641.094 L134.515 649.242 L129.862 649.242 L129.862 641.094 L114.26 641.094 L114.26 636.58 L128.635 614.682 Z\" fill=\"#000000\" fill-rule=\"evenodd\" fill-opacity=\"1\" /><path clip-path=\"url(#clip120)\" d=\"M127.917 253.961 Q124.769 253.961 122.918 256.113 Q121.089 258.266 121.089 262.016 Q121.089 265.743 122.918 267.919 Q124.769 270.072 127.917 270.072 Q131.066 270.072 132.894 267.919 Q134.746 265.743 134.746 262.016 Q134.746 258.266 132.894 256.113 Q131.066 253.961 127.917 253.961 M137.2 239.308 L137.2 243.567 Q135.441 242.734 133.635 242.294 Q131.853 241.854 130.093 241.854 Q125.464 241.854 123.01 244.979 Q120.58 248.104 120.232 254.424 Q121.598 252.41 123.658 251.345 Q125.718 250.257 128.195 250.257 Q133.404 250.257 136.413 253.428 Q139.445 256.576 139.445 262.016 Q139.445 267.34 136.297 270.558 Q133.149 273.775 127.917 273.775 Q121.922 273.775 118.751 269.192 Q115.58 264.586 115.58 255.859 Q115.58 247.664 119.468 242.803 Q123.357 237.919 129.908 237.919 Q131.667 237.919 133.45 238.266 Q135.255 238.613 137.2 239.308 Z\" fill=\"#000000\" fill-rule=\"evenodd\" fill-opacity=\"1\" /><path clip-path=\"url(#clip120)\" d=\"M29.4065 898.413 L34.9447 898.413 Q33.6716 900.895 33.035 903.569 Q32.3984 906.243 32.3984 909.107 Q32.3984 913.468 33.7352 915.664 Q35.072 917.828 37.7456 917.828 Q39.7826 917.828 40.9603 916.269 Q42.1061 914.709 43.1565 909.998 L43.6021 907.993 Q44.9389 901.755 47.3897 899.145 Q49.8086 896.503 54.1691 896.503 Q59.1344 896.503 62.0308 900.45 Q64.9272 904.365 64.9272 911.24 Q64.9272 914.104 64.3543 917.223 Q63.8132 920.311 62.6992 923.748 L56.6518 923.748 Q58.3387 920.502 59.198 917.351 Q60.0256 914.2 60.0256 911.112 Q60.0256 906.975 58.6251 904.747 Q57.1929 902.519 54.6147 902.519 Q52.2276 902.519 50.9545 904.142 Q49.6813 905.733 48.5037 911.176 L48.0262 913.213 Q46.8804 918.656 44.5251 921.075 Q42.138 923.494 38.0002 923.494 Q32.9713 923.494 30.2341 919.929 Q27.4968 916.364 27.4968 909.807 Q27.4968 906.561 27.9743 903.696 Q28.4517 900.832 29.4065 898.413 Z\" fill=\"#000000\" fill-rule=\"evenodd\" fill-opacity=\"1\" /><path clip-path=\"url(#clip120)\" d=\"M32.4621 873.364 Q32.4621 878.074 36.1542 880.812 Q39.8145 883.549 46.212 883.549 Q52.6095 883.549 56.3017 880.843 Q59.9619 878.106 59.9619 873.364 Q59.9619 868.685 56.2698 865.948 Q52.5777 863.21 46.212 863.21 Q39.8781 863.21 36.186 865.948 Q32.4621 868.685 32.4621 873.364 M27.4968 873.364 Q27.4968 865.725 32.4621 861.364 Q37.4273 857.004 46.212 857.004 Q54.9649 857.004 59.9619 861.364 Q64.9272 865.725 64.9272 873.364 Q64.9272 881.034 59.9619 885.395 Q54.9649 889.724 46.212 889.724 Q37.4273 889.724 32.4621 885.395 Q27.4968 881.034 27.4968 873.364 Z\" fill=\"#000000\" fill-rule=\"evenodd\" fill-opacity=\"1\" /><path clip-path=\"url(#clip120)\" d=\"M14.479 847.296 L14.479 841.44 L64.0042 841.44 L64.0042 847.296 L14.479 847.296 Z\" fill=\"#000000\" fill-rule=\"evenodd\" fill-opacity=\"1\" /><path clip-path=\"url(#clip120)\" d=\"M55.9197 828.358 L55.9197 821.642 L64.0042 821.642 L64.0042 828.358 L55.9197 828.358 Z\" fill=\"#000000\" fill-rule=\"evenodd\" fill-opacity=\"1\" /><path clip-path=\"url(#clip120)\" d=\"M18.2347 781.952 L28.3562 781.952 L28.3562 769.889 L32.9077 769.889 L32.9077 781.952 L52.2594 781.952 Q56.6199 781.952 57.8613 780.775 Q59.1026 779.565 59.1026 775.905 L59.1026 769.889 L64.0042 769.889 L64.0042 775.905 Q64.0042 782.684 61.4897 785.262 Q58.9434 787.84 52.2594 787.84 L32.9077 787.84 L32.9077 792.137 L28.3562 792.137 L28.3562 787.84 L18.2347 787.84 L18.2347 781.952 Z\" fill=\"#000000\" fill-rule=\"evenodd\" fill-opacity=\"1\" /><path clip-path=\"url(#clip120)\" d=\"M28.3562 762.187 L28.3562 756.33 L64.0042 756.33 L64.0042 762.187 L28.3562 762.187 M14.479 762.187 L14.479 756.33 L21.895 756.33 L21.895 762.187 L14.479 762.187 Z\" fill=\"#000000\" fill-rule=\"evenodd\" fill-opacity=\"1\" /><path clip-path=\"url(#clip120)\" d=\"M35.1993 716.322 Q31.2526 714.126 29.3747 711.07 Q27.4968 708.014 27.4968 703.877 Q27.4968 698.307 31.4117 695.283 Q35.2948 692.259 42.4881 692.259 L64.0042 692.259 L64.0042 698.148 L42.679 698.148 Q37.5546 698.148 35.072 699.962 Q32.5894 701.776 32.5894 705.5 Q32.5894 710.052 35.6131 712.693 Q38.6368 715.335 43.8567 715.335 L64.0042 715.335 L64.0042 721.223 L42.679 721.223 Q37.5228 721.223 35.072 723.038 Q32.5894 724.852 32.5894 728.639 Q32.5894 733.127 35.6449 735.769 Q38.6686 738.411 43.8567 738.411 L64.0042 738.411 L64.0042 744.299 L28.3562 744.299 L28.3562 738.411 L33.8944 738.411 Q30.616 736.406 29.0564 733.605 Q27.4968 730.804 27.4968 726.952 Q27.4968 723.069 29.4702 720.364 Q31.4436 717.627 35.1993 716.322 Z\" fill=\"#000000\" fill-rule=\"evenodd\" fill-opacity=\"1\" /><path clip-path=\"url(#clip120)\" d=\"M44.7161 650.087 L47.5806 650.087 L47.5806 677.013 Q53.6281 676.632 56.8109 673.385 Q59.9619 670.107 59.9619 664.282 Q59.9619 660.908 59.1344 657.757 Q58.3069 654.574 56.6518 651.455 L62.1899 651.455 Q63.5267 654.606 64.227 657.916 Q64.9272 661.227 64.9272 664.632 Q64.9272 673.162 59.9619 678.159 Q54.9967 683.125 46.5303 683.125 Q37.7774 683.125 32.6531 678.414 Q27.4968 673.671 27.4968 665.651 Q27.4968 658.457 32.1438 654.288 Q36.7589 650.087 44.7161 650.087 M42.9973 655.943 Q38.1912 656.007 35.3266 658.648 Q32.4621 661.258 32.4621 665.587 Q32.4621 670.489 35.2312 673.449 Q38.0002 676.377 43.0292 676.823 L42.9973 655.943 Z\" fill=\"#000000\" fill-rule=\"evenodd\" fill-opacity=\"1\" /><path clip-path=\"url(#clip120)\" d=\"M14.479 620.295 L14.479 606.8 L19.0304 606.8 L19.0304 614.439 L68.0464 614.439 L68.0464 606.8 L72.5979 606.8 L72.5979 620.295 L14.479 620.295 Z\" fill=\"#000000\" fill-rule=\"evenodd\" fill-opacity=\"1\" /><path clip-path=\"url(#clip120)\" d=\"M29.4065 571.597 L34.9447 571.597 Q33.6716 574.08 33.035 576.754 Q32.3984 579.427 32.3984 582.292 Q32.3984 586.652 33.7352 588.848 Q35.072 591.013 37.7456 591.013 Q39.7826 591.013 40.9603 589.453 Q42.1061 587.894 43.1565 583.183 L43.6021 581.178 Q44.9389 574.939 47.3897 572.329 Q49.8086 569.688 54.1691 569.688 Q59.1344 569.688 62.0308 573.634 Q64.9272 577.549 64.9272 584.424 Q64.9272 587.289 64.3543 590.408 Q63.8132 593.495 62.6992 596.933 L56.6518 596.933 Q58.3387 593.686 59.198 590.535 Q60.0256 587.384 60.0256 584.297 Q60.0256 580.159 58.6251 577.931 Q57.1929 575.703 54.6147 575.703 Q52.2276 575.703 50.9545 577.327 Q49.6813 578.918 48.5037 584.361 L48.0262 586.398 Q46.8804 591.84 44.5251 594.259 Q42.138 596.678 38.0002 596.678 Q32.9713 596.678 30.2341 593.113 Q27.4968 589.549 27.4968 582.992 Q27.4968 579.745 27.9743 576.881 Q28.4517 574.016 29.4065 571.597 Z\" fill=\"#000000\" fill-rule=\"evenodd\" fill-opacity=\"1\" /><path clip-path=\"url(#clip120)\" d=\"M14.479 546.676 L72.5979 546.676 L72.5979 560.171 L68.0464 560.171 L68.0464 552.564 L19.0304 552.564 L19.0304 560.171 L14.479 560.171 L14.479 546.676 Z\" fill=\"#000000\" fill-rule=\"evenodd\" fill-opacity=\"1\" /><polyline clip-path=\"url(#clip122)\" style=\"stroke:#000000; stroke-linecap:round; stroke-linejoin:round; stroke-width:4; stroke-opacity:1; fill:none\" points=\"237.067,1339.1 278.987,1274.22 320.907,1384.24 362.826,1384.24 404.746,1384.24 446.666,1384.24 488.586,1384.24 530.505,1384.24 572.425,1384.24 614.345,1384.24 656.264,1384.24 698.184,1384.24 740.104,1384.24 782.024,1384.24 823.943,1384.24 865.863,1384.24 907.783,1384.24 949.703,1384.24 991.622,1384.24 1033.54,1384.24 1075.46,1384.24 1117.38,1384.24 1159.3,1384.24 1201.22,1384.24 1243.14,1384.24 1285.06,1384.24 1326.98,1384.24 1368.9,1384.24 1410.82,1384.24 1452.74,1384.24 1494.66,1384.24 1536.58,1384.24 1578.5,1384.24 1620.42,1384.24 1662.34,1384.24 1704.26,1384.24 1746.18,1384.24 1788.1,1384.24 1830.02,1384.24 1871.94,1384.24 1913.86,1384.24 1955.78,1384.24 1997.7,1384.24 2039.62,1384.24 2081.54,1384.24 2123.45,1384.24 2165.37,1384.24 2207.29,1384.24 2249.21,1384.24 2291.13,1384.24 \"/>\n",
       "<circle clip-path=\"url(#clip122)\" cx=\"237.067\" cy=\"1339.1\" r=\"14.4\" fill=\"#000000\" fill-rule=\"evenodd\" fill-opacity=\"1\" stroke=\"none\"/>\n",
       "<circle clip-path=\"url(#clip122)\" cx=\"278.987\" cy=\"1274.22\" r=\"14.4\" fill=\"#000000\" fill-rule=\"evenodd\" fill-opacity=\"1\" stroke=\"none\"/>\n",
       "<circle clip-path=\"url(#clip122)\" cx=\"320.907\" cy=\"1384.24\" r=\"14.4\" fill=\"#000000\" fill-rule=\"evenodd\" fill-opacity=\"1\" stroke=\"none\"/>\n",
       "<circle clip-path=\"url(#clip122)\" cx=\"362.826\" cy=\"1384.24\" r=\"14.4\" fill=\"#000000\" fill-rule=\"evenodd\" fill-opacity=\"1\" stroke=\"none\"/>\n",
       "<circle clip-path=\"url(#clip122)\" cx=\"404.746\" cy=\"1384.24\" r=\"14.4\" fill=\"#000000\" fill-rule=\"evenodd\" fill-opacity=\"1\" stroke=\"none\"/>\n",
       "<circle clip-path=\"url(#clip122)\" cx=\"446.666\" cy=\"1384.24\" r=\"14.4\" fill=\"#000000\" fill-rule=\"evenodd\" fill-opacity=\"1\" stroke=\"none\"/>\n",
       "<circle clip-path=\"url(#clip122)\" cx=\"488.586\" cy=\"1384.24\" r=\"14.4\" fill=\"#000000\" fill-rule=\"evenodd\" fill-opacity=\"1\" stroke=\"none\"/>\n",
       "<circle clip-path=\"url(#clip122)\" cx=\"530.505\" cy=\"1384.24\" r=\"14.4\" fill=\"#000000\" fill-rule=\"evenodd\" fill-opacity=\"1\" stroke=\"none\"/>\n",
       "<circle clip-path=\"url(#clip122)\" cx=\"572.425\" cy=\"1384.24\" r=\"14.4\" fill=\"#000000\" fill-rule=\"evenodd\" fill-opacity=\"1\" stroke=\"none\"/>\n",
       "<circle clip-path=\"url(#clip122)\" cx=\"614.345\" cy=\"1384.24\" r=\"14.4\" fill=\"#000000\" fill-rule=\"evenodd\" fill-opacity=\"1\" stroke=\"none\"/>\n",
       "<circle clip-path=\"url(#clip122)\" cx=\"656.264\" cy=\"1384.24\" r=\"14.4\" fill=\"#000000\" fill-rule=\"evenodd\" fill-opacity=\"1\" stroke=\"none\"/>\n",
       "<circle clip-path=\"url(#clip122)\" cx=\"698.184\" cy=\"1384.24\" r=\"14.4\" fill=\"#000000\" fill-rule=\"evenodd\" fill-opacity=\"1\" stroke=\"none\"/>\n",
       "<circle clip-path=\"url(#clip122)\" cx=\"740.104\" cy=\"1384.24\" r=\"14.4\" fill=\"#000000\" fill-rule=\"evenodd\" fill-opacity=\"1\" stroke=\"none\"/>\n",
       "<circle clip-path=\"url(#clip122)\" cx=\"782.024\" cy=\"1384.24\" r=\"14.4\" fill=\"#000000\" fill-rule=\"evenodd\" fill-opacity=\"1\" stroke=\"none\"/>\n",
       "<circle clip-path=\"url(#clip122)\" cx=\"823.943\" cy=\"1384.24\" r=\"14.4\" fill=\"#000000\" fill-rule=\"evenodd\" fill-opacity=\"1\" stroke=\"none\"/>\n",
       "<circle clip-path=\"url(#clip122)\" cx=\"865.863\" cy=\"1384.24\" r=\"14.4\" fill=\"#000000\" fill-rule=\"evenodd\" fill-opacity=\"1\" stroke=\"none\"/>\n",
       "<circle clip-path=\"url(#clip122)\" cx=\"907.783\" cy=\"1384.24\" r=\"14.4\" fill=\"#000000\" fill-rule=\"evenodd\" fill-opacity=\"1\" stroke=\"none\"/>\n",
       "<circle clip-path=\"url(#clip122)\" cx=\"949.703\" cy=\"1384.24\" r=\"14.4\" fill=\"#000000\" fill-rule=\"evenodd\" fill-opacity=\"1\" stroke=\"none\"/>\n",
       "<circle clip-path=\"url(#clip122)\" cx=\"991.622\" cy=\"1384.24\" r=\"14.4\" fill=\"#000000\" fill-rule=\"evenodd\" fill-opacity=\"1\" stroke=\"none\"/>\n",
       "<circle clip-path=\"url(#clip122)\" cx=\"1033.54\" cy=\"1384.24\" r=\"14.4\" fill=\"#000000\" fill-rule=\"evenodd\" fill-opacity=\"1\" stroke=\"none\"/>\n",
       "<circle clip-path=\"url(#clip122)\" cx=\"1075.46\" cy=\"1384.24\" r=\"14.4\" fill=\"#000000\" fill-rule=\"evenodd\" fill-opacity=\"1\" stroke=\"none\"/>\n",
       "<circle clip-path=\"url(#clip122)\" cx=\"1117.38\" cy=\"1384.24\" r=\"14.4\" fill=\"#000000\" fill-rule=\"evenodd\" fill-opacity=\"1\" stroke=\"none\"/>\n",
       "<circle clip-path=\"url(#clip122)\" cx=\"1159.3\" cy=\"1384.24\" r=\"14.4\" fill=\"#000000\" fill-rule=\"evenodd\" fill-opacity=\"1\" stroke=\"none\"/>\n",
       "<circle clip-path=\"url(#clip122)\" cx=\"1201.22\" cy=\"1384.24\" r=\"14.4\" fill=\"#000000\" fill-rule=\"evenodd\" fill-opacity=\"1\" stroke=\"none\"/>\n",
       "<circle clip-path=\"url(#clip122)\" cx=\"1243.14\" cy=\"1384.24\" r=\"14.4\" fill=\"#000000\" fill-rule=\"evenodd\" fill-opacity=\"1\" stroke=\"none\"/>\n",
       "<circle clip-path=\"url(#clip122)\" cx=\"1285.06\" cy=\"1384.24\" r=\"14.4\" fill=\"#000000\" fill-rule=\"evenodd\" fill-opacity=\"1\" stroke=\"none\"/>\n",
       "<circle clip-path=\"url(#clip122)\" cx=\"1326.98\" cy=\"1384.24\" r=\"14.4\" fill=\"#000000\" fill-rule=\"evenodd\" fill-opacity=\"1\" stroke=\"none\"/>\n",
       "<circle clip-path=\"url(#clip122)\" cx=\"1368.9\" cy=\"1384.24\" r=\"14.4\" fill=\"#000000\" fill-rule=\"evenodd\" fill-opacity=\"1\" stroke=\"none\"/>\n",
       "<circle clip-path=\"url(#clip122)\" cx=\"1410.82\" cy=\"1384.24\" r=\"14.4\" fill=\"#000000\" fill-rule=\"evenodd\" fill-opacity=\"1\" stroke=\"none\"/>\n",
       "<circle clip-path=\"url(#clip122)\" cx=\"1452.74\" cy=\"1384.24\" r=\"14.4\" fill=\"#000000\" fill-rule=\"evenodd\" fill-opacity=\"1\" stroke=\"none\"/>\n",
       "<circle clip-path=\"url(#clip122)\" cx=\"1494.66\" cy=\"1384.24\" r=\"14.4\" fill=\"#000000\" fill-rule=\"evenodd\" fill-opacity=\"1\" stroke=\"none\"/>\n",
       "<circle clip-path=\"url(#clip122)\" cx=\"1536.58\" cy=\"1384.24\" r=\"14.4\" fill=\"#000000\" fill-rule=\"evenodd\" fill-opacity=\"1\" stroke=\"none\"/>\n",
       "<circle clip-path=\"url(#clip122)\" cx=\"1578.5\" cy=\"1384.24\" r=\"14.4\" fill=\"#000000\" fill-rule=\"evenodd\" fill-opacity=\"1\" stroke=\"none\"/>\n",
       "<circle clip-path=\"url(#clip122)\" cx=\"1620.42\" cy=\"1384.24\" r=\"14.4\" fill=\"#000000\" fill-rule=\"evenodd\" fill-opacity=\"1\" stroke=\"none\"/>\n",
       "<circle clip-path=\"url(#clip122)\" cx=\"1662.34\" cy=\"1384.24\" r=\"14.4\" fill=\"#000000\" fill-rule=\"evenodd\" fill-opacity=\"1\" stroke=\"none\"/>\n",
       "<circle clip-path=\"url(#clip122)\" cx=\"1704.26\" cy=\"1384.24\" r=\"14.4\" fill=\"#000000\" fill-rule=\"evenodd\" fill-opacity=\"1\" stroke=\"none\"/>\n",
       "<circle clip-path=\"url(#clip122)\" cx=\"1746.18\" cy=\"1384.24\" r=\"14.4\" fill=\"#000000\" fill-rule=\"evenodd\" fill-opacity=\"1\" stroke=\"none\"/>\n",
       "<circle clip-path=\"url(#clip122)\" cx=\"1788.1\" cy=\"1384.24\" r=\"14.4\" fill=\"#000000\" fill-rule=\"evenodd\" fill-opacity=\"1\" stroke=\"none\"/>\n",
       "<circle clip-path=\"url(#clip122)\" cx=\"1830.02\" cy=\"1384.24\" r=\"14.4\" fill=\"#000000\" fill-rule=\"evenodd\" fill-opacity=\"1\" stroke=\"none\"/>\n",
       "<circle clip-path=\"url(#clip122)\" cx=\"1871.94\" cy=\"1384.24\" r=\"14.4\" fill=\"#000000\" fill-rule=\"evenodd\" fill-opacity=\"1\" stroke=\"none\"/>\n",
       "<circle clip-path=\"url(#clip122)\" cx=\"1913.86\" cy=\"1384.24\" r=\"14.4\" fill=\"#000000\" fill-rule=\"evenodd\" fill-opacity=\"1\" stroke=\"none\"/>\n",
       "<circle clip-path=\"url(#clip122)\" cx=\"1955.78\" cy=\"1384.24\" r=\"14.4\" fill=\"#000000\" fill-rule=\"evenodd\" fill-opacity=\"1\" stroke=\"none\"/>\n",
       "<circle clip-path=\"url(#clip122)\" cx=\"1997.7\" cy=\"1384.24\" r=\"14.4\" fill=\"#000000\" fill-rule=\"evenodd\" fill-opacity=\"1\" stroke=\"none\"/>\n",
       "<circle clip-path=\"url(#clip122)\" cx=\"2039.62\" cy=\"1384.24\" r=\"14.4\" fill=\"#000000\" fill-rule=\"evenodd\" fill-opacity=\"1\" stroke=\"none\"/>\n",
       "<circle clip-path=\"url(#clip122)\" cx=\"2081.54\" cy=\"1384.24\" r=\"14.4\" fill=\"#000000\" fill-rule=\"evenodd\" fill-opacity=\"1\" stroke=\"none\"/>\n",
       "<circle clip-path=\"url(#clip122)\" cx=\"2123.45\" cy=\"1384.24\" r=\"14.4\" fill=\"#000000\" fill-rule=\"evenodd\" fill-opacity=\"1\" stroke=\"none\"/>\n",
       "<circle clip-path=\"url(#clip122)\" cx=\"2165.37\" cy=\"1384.24\" r=\"14.4\" fill=\"#000000\" fill-rule=\"evenodd\" fill-opacity=\"1\" stroke=\"none\"/>\n",
       "<circle clip-path=\"url(#clip122)\" cx=\"2207.29\" cy=\"1384.24\" r=\"14.4\" fill=\"#000000\" fill-rule=\"evenodd\" fill-opacity=\"1\" stroke=\"none\"/>\n",
       "<circle clip-path=\"url(#clip122)\" cx=\"2249.21\" cy=\"1384.24\" r=\"14.4\" fill=\"#000000\" fill-rule=\"evenodd\" fill-opacity=\"1\" stroke=\"none\"/>\n",
       "<circle clip-path=\"url(#clip122)\" cx=\"2291.13\" cy=\"1384.24\" r=\"14.4\" fill=\"#000000\" fill-rule=\"evenodd\" fill-opacity=\"1\" stroke=\"none\"/>\n",
       "<polyline clip-path=\"url(#clip122)\" style=\"stroke:#000000; stroke-linecap:round; stroke-linejoin:round; stroke-width:4; stroke-opacity:1; fill:none\" stroke-dasharray=\"16, 8, 2, 8\" points=\"237.067,787.307 278.987,86.1857 320.907,1384.24 362.826,1384.24 404.746,1384.24 446.666,1384.24 488.586,1384.24 530.505,1384.24 572.425,1384.24 614.345,1384.24 656.264,1384.24 698.184,1384.24 740.104,1384.24 782.024,1384.24 823.943,1384.24 865.863,1384.24 907.783,1384.24 949.703,1384.24 991.622,1384.24 1033.54,1384.24 1075.46,1384.24 1117.38,1384.24 1159.3,1384.24 1201.22,1384.24 1243.14,1384.24 1285.06,1384.24 1326.98,1384.24 1368.9,1384.24 1410.82,1384.24 1452.74,1384.24 1494.66,1384.24 1536.58,1384.24 1578.5,1384.24 1620.42,1384.24 1662.34,1384.24 1704.26,1384.24 1746.18,1384.24 1788.1,1384.24 1830.02,1384.24 1871.94,1384.24 1913.86,1384.24 1955.78,1384.24 1997.7,1384.24 2039.62,1384.24 2081.54,1384.24 2123.45,1384.24 2165.37,1384.24 2207.29,1384.24 2249.21,1384.24 2291.13,1384.24 \"/>\n",
       "<path clip-path=\"url(#clip122)\" d=\"M225.067 775.307 L225.067 799.307 L249.067 799.307 L249.067 775.307 L225.067 775.307 Z\" fill=\"#000000\" fill-rule=\"evenodd\" fill-opacity=\"1\" stroke=\"none\"/>\n",
       "<path clip-path=\"url(#clip122)\" d=\"M266.987 74.1857 L266.987 98.1857 L290.987 98.1857 L290.987 74.1857 L266.987 74.1857 Z\" fill=\"#000000\" fill-rule=\"evenodd\" fill-opacity=\"1\" stroke=\"none\"/>\n",
       "<path clip-path=\"url(#clip122)\" d=\"M308.907 1372.24 L308.907 1396.24 L332.907 1396.24 L332.907 1372.24 L308.907 1372.24 Z\" fill=\"#000000\" fill-rule=\"evenodd\" fill-opacity=\"1\" stroke=\"none\"/>\n",
       "<path clip-path=\"url(#clip122)\" d=\"M350.826 1372.24 L350.826 1396.24 L374.826 1396.24 L374.826 1372.24 L350.826 1372.24 Z\" fill=\"#000000\" fill-rule=\"evenodd\" fill-opacity=\"1\" stroke=\"none\"/>\n",
       "<path clip-path=\"url(#clip122)\" d=\"M392.746 1372.24 L392.746 1396.24 L416.746 1396.24 L416.746 1372.24 L392.746 1372.24 Z\" fill=\"#000000\" fill-rule=\"evenodd\" fill-opacity=\"1\" stroke=\"none\"/>\n",
       "<path clip-path=\"url(#clip122)\" d=\"M434.666 1372.24 L434.666 1396.24 L458.666 1396.24 L458.666 1372.24 L434.666 1372.24 Z\" fill=\"#000000\" fill-rule=\"evenodd\" fill-opacity=\"1\" stroke=\"none\"/>\n",
       "<path clip-path=\"url(#clip122)\" d=\"M476.586 1372.24 L476.586 1396.24 L500.586 1396.24 L500.586 1372.24 L476.586 1372.24 Z\" fill=\"#000000\" fill-rule=\"evenodd\" fill-opacity=\"1\" stroke=\"none\"/>\n",
       "<path clip-path=\"url(#clip122)\" d=\"M518.505 1372.24 L518.505 1396.24 L542.505 1396.24 L542.505 1372.24 L518.505 1372.24 Z\" fill=\"#000000\" fill-rule=\"evenodd\" fill-opacity=\"1\" stroke=\"none\"/>\n",
       "<path clip-path=\"url(#clip122)\" d=\"M560.425 1372.24 L560.425 1396.24 L584.425 1396.24 L584.425 1372.24 L560.425 1372.24 Z\" fill=\"#000000\" fill-rule=\"evenodd\" fill-opacity=\"1\" stroke=\"none\"/>\n",
       "<path clip-path=\"url(#clip122)\" d=\"M602.345 1372.24 L602.345 1396.24 L626.345 1396.24 L626.345 1372.24 L602.345 1372.24 Z\" fill=\"#000000\" fill-rule=\"evenodd\" fill-opacity=\"1\" stroke=\"none\"/>\n",
       "<path clip-path=\"url(#clip122)\" d=\"M644.264 1372.24 L644.264 1396.24 L668.264 1396.24 L668.264 1372.24 L644.264 1372.24 Z\" fill=\"#000000\" fill-rule=\"evenodd\" fill-opacity=\"1\" stroke=\"none\"/>\n",
       "<path clip-path=\"url(#clip122)\" d=\"M686.184 1372.24 L686.184 1396.24 L710.184 1396.24 L710.184 1372.24 L686.184 1372.24 Z\" fill=\"#000000\" fill-rule=\"evenodd\" fill-opacity=\"1\" stroke=\"none\"/>\n",
       "<path clip-path=\"url(#clip122)\" d=\"M728.104 1372.24 L728.104 1396.24 L752.104 1396.24 L752.104 1372.24 L728.104 1372.24 Z\" fill=\"#000000\" fill-rule=\"evenodd\" fill-opacity=\"1\" stroke=\"none\"/>\n",
       "<path clip-path=\"url(#clip122)\" d=\"M770.024 1372.24 L770.024 1396.24 L794.024 1396.24 L794.024 1372.24 L770.024 1372.24 Z\" fill=\"#000000\" fill-rule=\"evenodd\" fill-opacity=\"1\" stroke=\"none\"/>\n",
       "<path clip-path=\"url(#clip122)\" d=\"M811.943 1372.24 L811.943 1396.24 L835.943 1396.24 L835.943 1372.24 L811.943 1372.24 Z\" fill=\"#000000\" fill-rule=\"evenodd\" fill-opacity=\"1\" stroke=\"none\"/>\n",
       "<path clip-path=\"url(#clip122)\" d=\"M853.863 1372.24 L853.863 1396.24 L877.863 1396.24 L877.863 1372.24 L853.863 1372.24 Z\" fill=\"#000000\" fill-rule=\"evenodd\" fill-opacity=\"1\" stroke=\"none\"/>\n",
       "<path clip-path=\"url(#clip122)\" d=\"M895.783 1372.24 L895.783 1396.24 L919.783 1396.24 L919.783 1372.24 L895.783 1372.24 Z\" fill=\"#000000\" fill-rule=\"evenodd\" fill-opacity=\"1\" stroke=\"none\"/>\n",
       "<path clip-path=\"url(#clip122)\" d=\"M937.703 1372.24 L937.703 1396.24 L961.703 1396.24 L961.703 1372.24 L937.703 1372.24 Z\" fill=\"#000000\" fill-rule=\"evenodd\" fill-opacity=\"1\" stroke=\"none\"/>\n",
       "<path clip-path=\"url(#clip122)\" d=\"M979.622 1372.24 L979.622 1396.24 L1003.62 1396.24 L1003.62 1372.24 L979.622 1372.24 Z\" fill=\"#000000\" fill-rule=\"evenodd\" fill-opacity=\"1\" stroke=\"none\"/>\n",
       "<path clip-path=\"url(#clip122)\" d=\"M1021.54 1372.24 L1021.54 1396.24 L1045.54 1396.24 L1045.54 1372.24 L1021.54 1372.24 Z\" fill=\"#000000\" fill-rule=\"evenodd\" fill-opacity=\"1\" stroke=\"none\"/>\n",
       "<path clip-path=\"url(#clip122)\" d=\"M1063.46 1372.24 L1063.46 1396.24 L1087.46 1396.24 L1087.46 1372.24 L1063.46 1372.24 Z\" fill=\"#000000\" fill-rule=\"evenodd\" fill-opacity=\"1\" stroke=\"none\"/>\n",
       "<path clip-path=\"url(#clip122)\" d=\"M1105.38 1372.24 L1105.38 1396.24 L1129.38 1396.24 L1129.38 1372.24 L1105.38 1372.24 Z\" fill=\"#000000\" fill-rule=\"evenodd\" fill-opacity=\"1\" stroke=\"none\"/>\n",
       "<path clip-path=\"url(#clip122)\" d=\"M1147.3 1372.24 L1147.3 1396.24 L1171.3 1396.24 L1171.3 1372.24 L1147.3 1372.24 Z\" fill=\"#000000\" fill-rule=\"evenodd\" fill-opacity=\"1\" stroke=\"none\"/>\n",
       "<path clip-path=\"url(#clip122)\" d=\"M1189.22 1372.24 L1189.22 1396.24 L1213.22 1396.24 L1213.22 1372.24 L1189.22 1372.24 Z\" fill=\"#000000\" fill-rule=\"evenodd\" fill-opacity=\"1\" stroke=\"none\"/>\n",
       "<path clip-path=\"url(#clip122)\" d=\"M1231.14 1372.24 L1231.14 1396.24 L1255.14 1396.24 L1255.14 1372.24 L1231.14 1372.24 Z\" fill=\"#000000\" fill-rule=\"evenodd\" fill-opacity=\"1\" stroke=\"none\"/>\n",
       "<path clip-path=\"url(#clip122)\" d=\"M1273.06 1372.24 L1273.06 1396.24 L1297.06 1396.24 L1297.06 1372.24 L1273.06 1372.24 Z\" fill=\"#000000\" fill-rule=\"evenodd\" fill-opacity=\"1\" stroke=\"none\"/>\n",
       "<path clip-path=\"url(#clip122)\" d=\"M1314.98 1372.24 L1314.98 1396.24 L1338.98 1396.24 L1338.98 1372.24 L1314.98 1372.24 Z\" fill=\"#000000\" fill-rule=\"evenodd\" fill-opacity=\"1\" stroke=\"none\"/>\n",
       "<path clip-path=\"url(#clip122)\" d=\"M1356.9 1372.24 L1356.9 1396.24 L1380.9 1396.24 L1380.9 1372.24 L1356.9 1372.24 Z\" fill=\"#000000\" fill-rule=\"evenodd\" fill-opacity=\"1\" stroke=\"none\"/>\n",
       "<path clip-path=\"url(#clip122)\" d=\"M1398.82 1372.24 L1398.82 1396.24 L1422.82 1396.24 L1422.82 1372.24 L1398.82 1372.24 Z\" fill=\"#000000\" fill-rule=\"evenodd\" fill-opacity=\"1\" stroke=\"none\"/>\n",
       "<path clip-path=\"url(#clip122)\" d=\"M1440.74 1372.24 L1440.74 1396.24 L1464.74 1396.24 L1464.74 1372.24 L1440.74 1372.24 Z\" fill=\"#000000\" fill-rule=\"evenodd\" fill-opacity=\"1\" stroke=\"none\"/>\n",
       "<path clip-path=\"url(#clip122)\" d=\"M1482.66 1372.24 L1482.66 1396.24 L1506.66 1396.24 L1506.66 1372.24 L1482.66 1372.24 Z\" fill=\"#000000\" fill-rule=\"evenodd\" fill-opacity=\"1\" stroke=\"none\"/>\n",
       "<path clip-path=\"url(#clip122)\" d=\"M1524.58 1372.24 L1524.58 1396.24 L1548.58 1396.24 L1548.58 1372.24 L1524.58 1372.24 Z\" fill=\"#000000\" fill-rule=\"evenodd\" fill-opacity=\"1\" stroke=\"none\"/>\n",
       "<path clip-path=\"url(#clip122)\" d=\"M1566.5 1372.24 L1566.5 1396.24 L1590.5 1396.24 L1590.5 1372.24 L1566.5 1372.24 Z\" fill=\"#000000\" fill-rule=\"evenodd\" fill-opacity=\"1\" stroke=\"none\"/>\n",
       "<path clip-path=\"url(#clip122)\" d=\"M1608.42 1372.24 L1608.42 1396.24 L1632.42 1396.24 L1632.42 1372.24 L1608.42 1372.24 Z\" fill=\"#000000\" fill-rule=\"evenodd\" fill-opacity=\"1\" stroke=\"none\"/>\n",
       "<path clip-path=\"url(#clip122)\" d=\"M1650.34 1372.24 L1650.34 1396.24 L1674.34 1396.24 L1674.34 1372.24 L1650.34 1372.24 Z\" fill=\"#000000\" fill-rule=\"evenodd\" fill-opacity=\"1\" stroke=\"none\"/>\n",
       "<path clip-path=\"url(#clip122)\" d=\"M1692.26 1372.24 L1692.26 1396.24 L1716.26 1396.24 L1716.26 1372.24 L1692.26 1372.24 Z\" fill=\"#000000\" fill-rule=\"evenodd\" fill-opacity=\"1\" stroke=\"none\"/>\n",
       "<path clip-path=\"url(#clip122)\" d=\"M1734.18 1372.24 L1734.18 1396.24 L1758.18 1396.24 L1758.18 1372.24 L1734.18 1372.24 Z\" fill=\"#000000\" fill-rule=\"evenodd\" fill-opacity=\"1\" stroke=\"none\"/>\n",
       "<path clip-path=\"url(#clip122)\" d=\"M1776.1 1372.24 L1776.1 1396.24 L1800.1 1396.24 L1800.1 1372.24 L1776.1 1372.24 Z\" fill=\"#000000\" fill-rule=\"evenodd\" fill-opacity=\"1\" stroke=\"none\"/>\n",
       "<path clip-path=\"url(#clip122)\" d=\"M1818.02 1372.24 L1818.02 1396.24 L1842.02 1396.24 L1842.02 1372.24 L1818.02 1372.24 Z\" fill=\"#000000\" fill-rule=\"evenodd\" fill-opacity=\"1\" stroke=\"none\"/>\n",
       "<path clip-path=\"url(#clip122)\" d=\"M1859.94 1372.24 L1859.94 1396.24 L1883.94 1396.24 L1883.94 1372.24 L1859.94 1372.24 Z\" fill=\"#000000\" fill-rule=\"evenodd\" fill-opacity=\"1\" stroke=\"none\"/>\n",
       "<path clip-path=\"url(#clip122)\" d=\"M1901.86 1372.24 L1901.86 1396.24 L1925.86 1396.24 L1925.86 1372.24 L1901.86 1372.24 Z\" fill=\"#000000\" fill-rule=\"evenodd\" fill-opacity=\"1\" stroke=\"none\"/>\n",
       "<path clip-path=\"url(#clip122)\" d=\"M1943.78 1372.24 L1943.78 1396.24 L1967.78 1396.24 L1967.78 1372.24 L1943.78 1372.24 Z\" fill=\"#000000\" fill-rule=\"evenodd\" fill-opacity=\"1\" stroke=\"none\"/>\n",
       "<path clip-path=\"url(#clip122)\" d=\"M1985.7 1372.24 L1985.7 1396.24 L2009.7 1396.24 L2009.7 1372.24 L1985.7 1372.24 Z\" fill=\"#000000\" fill-rule=\"evenodd\" fill-opacity=\"1\" stroke=\"none\"/>\n",
       "<path clip-path=\"url(#clip122)\" d=\"M2027.62 1372.24 L2027.62 1396.24 L2051.62 1396.24 L2051.62 1372.24 L2027.62 1372.24 Z\" fill=\"#000000\" fill-rule=\"evenodd\" fill-opacity=\"1\" stroke=\"none\"/>\n",
       "<path clip-path=\"url(#clip122)\" d=\"M2069.54 1372.24 L2069.54 1396.24 L2093.54 1396.24 L2093.54 1372.24 L2069.54 1372.24 Z\" fill=\"#000000\" fill-rule=\"evenodd\" fill-opacity=\"1\" stroke=\"none\"/>\n",
       "<path clip-path=\"url(#clip122)\" d=\"M2111.45 1372.24 L2111.45 1396.24 L2135.45 1396.24 L2135.45 1372.24 L2111.45 1372.24 Z\" fill=\"#000000\" fill-rule=\"evenodd\" fill-opacity=\"1\" stroke=\"none\"/>\n",
       "<path clip-path=\"url(#clip122)\" d=\"M2153.37 1372.24 L2153.37 1396.24 L2177.37 1396.24 L2177.37 1372.24 L2153.37 1372.24 Z\" fill=\"#000000\" fill-rule=\"evenodd\" fill-opacity=\"1\" stroke=\"none\"/>\n",
       "<path clip-path=\"url(#clip122)\" d=\"M2195.29 1372.24 L2195.29 1396.24 L2219.29 1396.24 L2219.29 1372.24 L2195.29 1372.24 Z\" fill=\"#000000\" fill-rule=\"evenodd\" fill-opacity=\"1\" stroke=\"none\"/>\n",
       "<path clip-path=\"url(#clip122)\" d=\"M2237.21 1372.24 L2237.21 1396.24 L2261.21 1396.24 L2261.21 1372.24 L2237.21 1372.24 Z\" fill=\"#000000\" fill-rule=\"evenodd\" fill-opacity=\"1\" stroke=\"none\"/>\n",
       "<path clip-path=\"url(#clip122)\" d=\"M2279.13 1372.24 L2279.13 1396.24 L2303.13 1396.24 L2303.13 1372.24 L2279.13 1372.24 Z\" fill=\"#000000\" fill-rule=\"evenodd\" fill-opacity=\"1\" stroke=\"none\"/>\n",
       "<path clip-path=\"url(#clip120)\" d=\"M1765.81 248.629 L2280.18 248.629 L2280.18 93.1086 L1765.81 93.1086  Z\" fill=\"#ffffff\" fill-rule=\"evenodd\" fill-opacity=\"1\"/>\n",
       "<polyline clip-path=\"url(#clip120)\" style=\"stroke:#000000; stroke-linecap:round; stroke-linejoin:round; stroke-width:4; stroke-opacity:1; fill:none\" points=\"1765.81,248.629 2280.18,248.629 2280.18,93.1086 1765.81,93.1086 1765.81,248.629 \"/>\n",
       "<polyline clip-path=\"url(#clip120)\" style=\"stroke:#000000; stroke-linecap:round; stroke-linejoin:round; stroke-width:4; stroke-opacity:1; fill:none\" points=\"1790,144.949 1935.15,144.949 \"/>\n",
       "<circle clip-path=\"url(#clip120)\" cx=\"1862.58\" cy=\"144.949\" r=\"20.1603\" fill=\"#000000\" fill-rule=\"evenodd\" fill-opacity=\"1\" stroke=\"none\"/>\n",
       "<path clip-path=\"url(#clip120)\" d=\"M1979.69 141.28 Q1981.29 138.409 1983.51 137.044 Q1985.73 135.678 1988.74 135.678 Q1992.79 135.678 1994.99 138.525 Q1997.19 141.349 1997.19 146.581 L1997.19 162.229 L1992.91 162.229 L1992.91 146.719 Q1992.91 142.993 1991.59 141.187 Q1990.27 139.382 1987.56 139.382 Q1984.25 139.382 1982.33 141.581 Q1980.41 143.78 1980.41 147.576 L1980.41 162.229 L1976.13 162.229 L1976.13 146.719 Q1976.13 142.969 1974.81 141.187 Q1973.49 139.382 1970.73 139.382 Q1967.47 139.382 1965.55 141.604 Q1963.63 143.803 1963.63 147.576 L1963.63 162.229 L1959.34 162.229 L1959.34 136.303 L1963.63 136.303 L1963.63 140.331 Q1965.09 137.946 1967.12 136.812 Q1969.16 135.678 1971.96 135.678 Q1974.78 135.678 1976.75 137.113 Q1978.74 138.548 1979.69 141.28 Z\" fill=\"#000000\" fill-rule=\"evenodd\" fill-opacity=\"1\" /><path clip-path=\"url(#clip120)\" d=\"M2015.73 139.289 Q2012.31 139.289 2010.32 141.974 Q2008.33 144.636 2008.33 149.289 Q2008.33 153.942 2010.29 156.627 Q2012.28 159.289 2015.73 159.289 Q2019.14 159.289 2021.13 156.604 Q2023.12 153.918 2023.12 149.289 Q2023.12 144.682 2021.13 141.997 Q2019.14 139.289 2015.73 139.289 M2015.73 135.678 Q2021.29 135.678 2024.46 139.289 Q2027.63 142.9 2027.63 149.289 Q2027.63 155.655 2024.46 159.289 Q2021.29 162.9 2015.73 162.9 Q2010.15 162.9 2006.98 159.289 Q2003.84 155.655 2003.84 149.289 Q2003.84 142.9 2006.98 139.289 Q2010.15 135.678 2015.73 135.678 Z\" fill=\"#000000\" fill-rule=\"evenodd\" fill-opacity=\"1\" /><path clip-path=\"url(#clip120)\" d=\"M2056.24 146.581 L2056.24 162.229 L2051.98 162.229 L2051.98 146.719 Q2051.98 143.039 2050.55 141.21 Q2049.11 139.382 2046.24 139.382 Q2042.79 139.382 2040.8 141.581 Q2038.81 143.78 2038.81 147.576 L2038.81 162.229 L2034.53 162.229 L2034.53 136.303 L2038.81 136.303 L2038.81 140.331 Q2040.34 137.993 2042.4 136.835 Q2044.48 135.678 2047.19 135.678 Q2051.66 135.678 2053.95 138.456 Q2056.24 141.21 2056.24 146.581 Z\" fill=\"#000000\" fill-rule=\"evenodd\" fill-opacity=\"1\" /><path clip-path=\"url(#clip120)\" d=\"M2074.78 139.289 Q2071.36 139.289 2069.37 141.974 Q2067.38 144.636 2067.38 149.289 Q2067.38 153.942 2069.34 156.627 Q2071.33 159.289 2074.78 159.289 Q2078.19 159.289 2080.18 156.604 Q2082.17 153.918 2082.17 149.289 Q2082.17 144.682 2080.18 141.997 Q2078.19 139.289 2074.78 139.289 M2074.78 135.678 Q2080.34 135.678 2083.51 139.289 Q2086.68 142.9 2086.68 149.289 Q2086.68 155.655 2083.51 159.289 Q2080.34 162.9 2074.78 162.9 Q2069.21 162.9 2066.03 159.289 Q2062.89 155.655 2062.89 149.289 Q2062.89 142.9 2066.03 139.289 Q2069.21 135.678 2074.78 135.678 Z\" fill=\"#000000\" fill-rule=\"evenodd\" fill-opacity=\"1\" /><path clip-path=\"url(#clip120)\" d=\"M2093.74 126.21 L2098 126.21 L2098 162.229 L2093.74 162.229 L2093.74 126.21 Z\" fill=\"#000000\" fill-rule=\"evenodd\" fill-opacity=\"1\" /><path clip-path=\"url(#clip120)\" d=\"M2106.91 136.303 L2111.17 136.303 L2111.17 162.229 L2106.91 162.229 L2106.91 136.303 M2106.91 126.21 L2111.17 126.21 L2111.17 131.604 L2106.91 131.604 L2106.91 126.21 Z\" fill=\"#000000\" fill-rule=\"evenodd\" fill-opacity=\"1\" /><path clip-path=\"url(#clip120)\" d=\"M2124.3 128.942 L2124.3 136.303 L2133.07 136.303 L2133.07 139.613 L2124.3 139.613 L2124.3 153.687 Q2124.3 156.858 2125.15 157.761 Q2126.03 158.664 2128.7 158.664 L2133.07 158.664 L2133.07 162.229 L2128.7 162.229 Q2123.77 162.229 2121.89 160.4 Q2120.02 158.548 2120.02 153.687 L2120.02 139.613 L2116.89 139.613 L2116.89 136.303 L2120.02 136.303 L2120.02 128.942 L2124.3 128.942 Z\" fill=\"#000000\" fill-rule=\"evenodd\" fill-opacity=\"1\" /><path clip-path=\"url(#clip120)\" d=\"M2160.22 146.581 L2160.22 162.229 L2155.96 162.229 L2155.96 146.719 Q2155.96 143.039 2154.53 141.21 Q2153.09 139.382 2150.22 139.382 Q2146.77 139.382 2144.78 141.581 Q2142.79 143.78 2142.79 147.576 L2142.79 162.229 L2138.51 162.229 L2138.51 126.21 L2142.79 126.21 L2142.79 140.331 Q2144.32 137.993 2146.38 136.835 Q2148.46 135.678 2151.17 135.678 Q2155.64 135.678 2157.93 138.456 Q2160.22 141.21 2160.22 146.581 Z\" fill=\"#000000\" fill-rule=\"evenodd\" fill-opacity=\"1\" /><path clip-path=\"url(#clip120)\" d=\"M2168.72 136.303 L2172.98 136.303 L2172.98 162.229 L2168.72 162.229 L2168.72 136.303 M2168.72 126.21 L2172.98 126.21 L2172.98 131.604 L2168.72 131.604 L2168.72 126.21 Z\" fill=\"#000000\" fill-rule=\"evenodd\" fill-opacity=\"1\" /><path clip-path=\"url(#clip120)\" d=\"M2200.55 137.298 L2200.55 141.28 Q2198.74 140.284 2196.91 139.798 Q2195.11 139.289 2193.26 139.289 Q2189.11 139.289 2186.82 141.928 Q2184.53 144.544 2184.53 149.289 Q2184.53 154.034 2186.82 156.673 Q2189.11 159.289 2193.26 159.289 Q2195.11 159.289 2196.91 158.803 Q2198.74 158.293 2200.55 157.298 L2200.55 161.233 Q2198.76 162.067 2196.84 162.483 Q2194.95 162.9 2192.79 162.9 Q2186.94 162.9 2183.49 159.219 Q2180.04 155.539 2180.04 149.289 Q2180.04 142.946 2183.51 139.312 Q2187.01 135.678 2193.07 135.678 Q2195.04 135.678 2196.91 136.095 Q2198.79 136.488 2200.55 137.298 Z\" fill=\"#000000\" fill-rule=\"evenodd\" fill-opacity=\"1\" /><polyline clip-path=\"url(#clip120)\" style=\"stroke:#000000; stroke-linecap:round; stroke-linejoin:round; stroke-width:4; stroke-opacity:1; fill:none\" stroke-dasharray=\"16, 8, 2, 8\" points=\"1790,196.789 1935.15,196.789 \"/>\n",
       "<path clip-path=\"url(#clip120)\" d=\"M1840.17 174.388 L1840.17 219.189 L1884.98 219.189 L1884.98 174.388 L1840.17 174.388 Z\" fill=\"#000000\" fill-rule=\"evenodd\" fill-opacity=\"1\" stroke=\"none\"/>\n",
       "<path clip-path=\"url(#clip120)\" d=\"M1978.26 192.078 L1978.26 178.05 L1982.52 178.05 L1982.52 214.069 L1978.26 214.069 L1978.26 210.18 Q1976.91 212.495 1974.85 213.629 Q1972.82 214.74 1969.95 214.74 Q1965.25 214.74 1962.28 210.99 Q1959.34 207.24 1959.34 201.129 Q1959.34 195.018 1962.28 191.268 Q1965.25 187.518 1969.95 187.518 Q1972.82 187.518 1974.85 188.652 Q1976.91 189.763 1978.26 192.078 M1963.74 201.129 Q1963.74 205.828 1965.66 208.513 Q1967.61 211.175 1970.99 211.175 Q1974.37 211.175 1976.31 208.513 Q1978.26 205.828 1978.26 201.129 Q1978.26 196.43 1976.31 193.768 Q1974.37 191.083 1970.99 191.083 Q1967.61 191.083 1965.66 193.768 Q1963.74 196.43 1963.74 201.129 Z\" fill=\"#000000\" fill-rule=\"evenodd\" fill-opacity=\"1\" /><path clip-path=\"url(#clip120)\" d=\"M2013.46 200.041 L2013.46 202.124 L1993.88 202.124 Q1994.16 206.522 1996.52 208.837 Q1998.9 211.129 2003.14 211.129 Q2005.59 211.129 2007.89 210.527 Q2010.2 209.925 2012.47 208.721 L2012.47 212.749 Q2010.18 213.721 2007.77 214.231 Q2005.36 214.74 2002.89 214.74 Q1996.68 214.74 1993.05 211.129 Q1989.44 207.518 1989.44 201.36 Q1989.44 194.995 1992.86 191.268 Q1996.31 187.518 2002.15 187.518 Q2007.38 187.518 2010.41 190.897 Q2013.46 194.254 2013.46 200.041 M2009.21 198.791 Q2009.16 195.296 2007.24 193.212 Q2005.34 191.129 2002.19 191.129 Q1998.63 191.129 1996.47 193.143 Q1994.34 195.157 1994.02 198.814 L2009.21 198.791 Z\" fill=\"#000000\" fill-rule=\"evenodd\" fill-opacity=\"1\" /><path clip-path=\"url(#clip120)\" d=\"M2039.11 189.138 L2039.11 193.12 Q2037.31 192.124 2035.48 191.638 Q2033.67 191.129 2031.82 191.129 Q2027.68 191.129 2025.39 193.768 Q2023.09 196.384 2023.09 201.129 Q2023.09 205.874 2025.39 208.513 Q2027.68 211.129 2031.82 211.129 Q2033.67 211.129 2035.48 210.643 Q2037.31 210.133 2039.11 209.138 L2039.11 213.073 Q2037.33 213.907 2035.41 214.323 Q2033.51 214.74 2031.36 214.74 Q2025.5 214.74 2022.05 211.059 Q2018.6 207.379 2018.6 201.129 Q2018.6 194.786 2022.08 191.152 Q2025.57 187.518 2031.64 187.518 Q2033.6 187.518 2035.48 187.935 Q2037.35 188.328 2039.11 189.138 Z\" fill=\"#000000\" fill-rule=\"evenodd\" fill-opacity=\"1\" /><path clip-path=\"url(#clip120)\" d=\"M2056.57 191.129 Q2053.14 191.129 2051.15 193.814 Q2049.16 196.476 2049.16 201.129 Q2049.16 205.782 2051.13 208.467 Q2053.12 211.129 2056.57 211.129 Q2059.97 211.129 2061.96 208.444 Q2063.95 205.758 2063.95 201.129 Q2063.95 196.522 2061.96 193.837 Q2059.97 191.129 2056.57 191.129 M2056.57 187.518 Q2062.12 187.518 2065.29 191.129 Q2068.46 194.74 2068.46 201.129 Q2068.46 207.495 2065.29 211.129 Q2062.12 214.74 2056.57 214.74 Q2050.99 214.74 2047.82 211.129 Q2044.67 207.495 2044.67 201.129 Q2044.67 194.74 2047.82 191.129 Q2050.99 187.518 2056.57 187.518 Z\" fill=\"#000000\" fill-rule=\"evenodd\" fill-opacity=\"1\" /><path clip-path=\"url(#clip120)\" d=\"M2095.71 193.12 Q2097.31 190.249 2099.53 188.884 Q2101.75 187.518 2104.76 187.518 Q2108.81 187.518 2111.01 190.365 Q2113.21 193.189 2113.21 198.421 L2113.21 214.069 L2108.93 214.069 L2108.93 198.559 Q2108.93 194.833 2107.61 193.027 Q2106.29 191.222 2103.58 191.222 Q2100.27 191.222 2098.35 193.421 Q2096.43 195.62 2096.43 199.416 L2096.43 214.069 L2092.14 214.069 L2092.14 198.559 Q2092.14 194.809 2090.83 193.027 Q2089.51 191.222 2086.75 191.222 Q2083.49 191.222 2081.57 193.444 Q2079.64 195.643 2079.64 199.416 L2079.64 214.069 L2075.36 214.069 L2075.36 188.143 L2079.64 188.143 L2079.64 192.171 Q2081.1 189.786 2083.14 188.652 Q2085.18 187.518 2087.98 187.518 Q2090.8 187.518 2092.77 188.953 Q2094.76 190.388 2095.71 193.12 Z\" fill=\"#000000\" fill-rule=\"evenodd\" fill-opacity=\"1\" /><path clip-path=\"url(#clip120)\" d=\"M2125.83 210.18 L2125.83 223.93 L2121.54 223.93 L2121.54 188.143 L2125.83 188.143 L2125.83 192.078 Q2127.17 189.763 2129.2 188.652 Q2131.26 187.518 2134.11 187.518 Q2138.83 187.518 2141.77 191.268 Q2144.74 195.018 2144.74 201.129 Q2144.74 207.24 2141.77 210.99 Q2138.83 214.74 2134.11 214.74 Q2131.26 214.74 2129.2 213.629 Q2127.17 212.495 2125.83 210.18 M2140.32 201.129 Q2140.32 196.43 2138.37 193.768 Q2136.45 191.083 2133.07 191.083 Q2129.69 191.083 2127.75 193.768 Q2125.83 196.43 2125.83 201.129 Q2125.83 205.828 2127.75 208.513 Q2129.69 211.175 2133.07 211.175 Q2136.45 211.175 2138.37 208.513 Q2140.32 205.828 2140.32 201.129 Z\" fill=\"#000000\" fill-rule=\"evenodd\" fill-opacity=\"1\" /><path clip-path=\"url(#clip120)\" d=\"M2161.84 191.129 Q2158.42 191.129 2156.43 193.814 Q2154.44 196.476 2154.44 201.129 Q2154.44 205.782 2156.4 208.467 Q2158.39 211.129 2161.84 211.129 Q2165.25 211.129 2167.24 208.444 Q2169.23 205.758 2169.23 201.129 Q2169.23 196.522 2167.24 193.837 Q2165.25 191.129 2161.84 191.129 M2161.84 187.518 Q2167.4 187.518 2170.57 191.129 Q2173.74 194.74 2173.74 201.129 Q2173.74 207.495 2170.57 211.129 Q2167.4 214.74 2161.84 214.74 Q2156.26 214.74 2153.09 211.129 Q2149.95 207.495 2149.95 201.129 Q2149.95 194.74 2153.09 191.129 Q2156.26 187.518 2161.84 187.518 Z\" fill=\"#000000\" fill-rule=\"evenodd\" fill-opacity=\"1\" /><path clip-path=\"url(#clip120)\" d=\"M2197.33 188.907 L2197.33 192.934 Q2195.52 192.009 2193.58 191.546 Q2191.64 191.083 2189.55 191.083 Q2186.38 191.083 2184.78 192.055 Q2183.21 193.027 2183.21 194.971 Q2183.21 196.453 2184.34 197.309 Q2185.48 198.143 2188.9 198.907 L2190.36 199.231 Q2194.9 200.203 2196.8 201.985 Q2198.72 203.745 2198.72 206.916 Q2198.72 210.527 2195.85 212.633 Q2193 214.74 2188 214.74 Q2185.92 214.74 2183.65 214.323 Q2181.4 213.93 2178.9 213.12 L2178.9 208.721 Q2181.26 209.948 2183.56 210.573 Q2185.85 211.175 2188.09 211.175 Q2191.1 211.175 2192.72 210.157 Q2194.34 209.115 2194.34 207.24 Q2194.34 205.504 2193.16 204.578 Q2192.01 203.652 2188.05 202.796 L2186.57 202.448 Q2182.61 201.615 2180.85 199.902 Q2179.09 198.166 2179.09 195.157 Q2179.09 191.499 2181.68 189.509 Q2184.27 187.518 2189.04 187.518 Q2191.4 187.518 2193.49 187.865 Q2195.57 188.212 2197.33 188.907 Z\" fill=\"#000000\" fill-rule=\"evenodd\" fill-opacity=\"1\" /><path clip-path=\"url(#clip120)\" d=\"M2227.68 200.041 L2227.68 202.124 L2208.09 202.124 Q2208.37 206.522 2210.73 208.837 Q2213.12 211.129 2217.35 211.129 Q2219.81 211.129 2222.1 210.527 Q2224.41 209.925 2226.68 208.721 L2226.68 212.749 Q2224.39 213.721 2221.98 214.231 Q2219.57 214.74 2217.1 214.74 Q2210.89 214.74 2207.26 211.129 Q2203.65 207.518 2203.65 201.36 Q2203.65 194.995 2207.07 191.268 Q2210.52 187.518 2216.36 187.518 Q2221.59 187.518 2224.62 190.897 Q2227.68 194.254 2227.68 200.041 M2223.42 198.791 Q2223.37 195.296 2221.45 193.212 Q2219.55 191.129 2216.4 191.129 Q2212.84 191.129 2210.69 193.143 Q2208.56 195.157 2208.23 198.814 L2223.42 198.791 Z\" fill=\"#000000\" fill-rule=\"evenodd\" fill-opacity=\"1\" /><path clip-path=\"url(#clip120)\" d=\"M2251.73 192.078 L2251.73 178.05 L2255.99 178.05 L2255.99 214.069 L2251.73 214.069 L2251.73 210.18 Q2250.38 212.495 2248.32 213.629 Q2246.29 214.74 2243.42 214.74 Q2238.72 214.74 2235.76 210.99 Q2232.82 207.24 2232.82 201.129 Q2232.82 195.018 2235.76 191.268 Q2238.72 187.518 2243.42 187.518 Q2246.29 187.518 2248.32 188.652 Q2250.38 189.763 2251.73 192.078 M2237.21 201.129 Q2237.21 205.828 2239.13 208.513 Q2241.08 211.175 2244.46 211.175 Q2247.84 211.175 2249.78 208.513 Q2251.73 205.828 2251.73 201.129 Q2251.73 196.43 2249.78 193.768 Q2247.84 191.083 2244.46 191.083 Q2241.08 191.083 2239.13 193.768 Q2237.21 196.43 2237.21 201.129 Z\" fill=\"#000000\" fill-rule=\"evenodd\" fill-opacity=\"1\" /></svg>\n"
      ]
     },
     "metadata": {},
     "output_type": "display_data"
    }
   ],
   "source": [
    "# solution time\n",
    "p1 = plot(1:nScenMax,solTimeTraj_s[1,:],\n",
    "    xlabel=\"# scenarios\",\n",
    "    ylabel=\"sol. time [s]\",\n",
    "    marker=:circle,\n",
    "    markercolor = :black,\n",
    "    linecolor = :black,\n",
    "    label=\"monolithic\")\n",
    "\n",
    "p1 = plot!(1:nScenMax,solTimeTraj_s[2,:],\n",
    "    marker=:square, \n",
    "    markercolor = :black,\n",
    "    linecolor = :black,\n",
    "    markersize = 3,\n",
    "    linestyle = :dashdot,\n",
    "    label=\"decomposed\",\n",
    "    gridlinewidth=2,\n",
    "    dpi=600)\n",
    "\n",
    "display(p1)\n",
    "savefig(p1,\"C:/Users/MACC-Jose/Documents/Canada/Papers/Benders Decomposition/Figures/C3_SolTime.pdf\");"
   ]
  },
  {
   "cell_type": "code",
   "execution_count": 16,
   "id": "f9e5bfc5",
   "metadata": {},
   "outputs": [
    {
     "data": {
      "image/svg+xml": [
       "<?xml version=\"1.0\" encoding=\"utf-8\"?>\n",
       "<svg xmlns=\"http://www.w3.org/2000/svg\" xmlns:xlink=\"http://www.w3.org/1999/xlink\" width=\"600\" height=\"400\" viewBox=\"0 0 2400 1600\">\n",
       "<defs>\n",
       "  <clipPath id=\"clip170\">\n",
       "    <rect x=\"0\" y=\"0\" width=\"2400\" height=\"1600\"/>\n",
       "  </clipPath>\n",
       "</defs>\n",
       "<path clip-path=\"url(#clip170)\" d=\"M0 1600 L2400 1600 L2400 0 L0 0  Z\" fill=\"#ffffff\" fill-rule=\"evenodd\" fill-opacity=\"1\"/>\n",
       "<defs>\n",
       "  <clipPath id=\"clip171\">\n",
       "    <rect x=\"480\" y=\"0\" width=\"1681\" height=\"1600\"/>\n",
       "  </clipPath>\n",
       "</defs>\n",
       "<path clip-path=\"url(#clip170)\" d=\"M174.149 1423.18 L2352.76 1423.18 L2352.76 47.2441 L174.149 47.2441  Z\" fill=\"#ffffff\" fill-rule=\"evenodd\" fill-opacity=\"1\"/>\n",
       "<defs>\n",
       "  <clipPath id=\"clip172\">\n",
       "    <rect x=\"174\" y=\"47\" width=\"2180\" height=\"1377\"/>\n",
       "  </clipPath>\n",
       "</defs>\n",
       "<polyline clip-path=\"url(#clip172)\" style=\"stroke:#000000; stroke-linecap:round; stroke-linejoin:round; stroke-width:8; stroke-opacity:0.1; fill:none\" points=\"193.863,1423.18 193.863,47.2441 \"/>\n",
       "<polyline clip-path=\"url(#clip172)\" style=\"stroke:#000000; stroke-linecap:round; stroke-linejoin:round; stroke-width:8; stroke-opacity:0.1; fill:none\" points=\"613.31,1423.18 613.31,47.2441 \"/>\n",
       "<polyline clip-path=\"url(#clip172)\" style=\"stroke:#000000; stroke-linecap:round; stroke-linejoin:round; stroke-width:8; stroke-opacity:0.1; fill:none\" points=\"1032.76,1423.18 1032.76,47.2441 \"/>\n",
       "<polyline clip-path=\"url(#clip172)\" style=\"stroke:#000000; stroke-linecap:round; stroke-linejoin:round; stroke-width:8; stroke-opacity:0.1; fill:none\" points=\"1452.2,1423.18 1452.2,47.2441 \"/>\n",
       "<polyline clip-path=\"url(#clip172)\" style=\"stroke:#000000; stroke-linecap:round; stroke-linejoin:round; stroke-width:8; stroke-opacity:0.1; fill:none\" points=\"1871.65,1423.18 1871.65,47.2441 \"/>\n",
       "<polyline clip-path=\"url(#clip172)\" style=\"stroke:#000000; stroke-linecap:round; stroke-linejoin:round; stroke-width:8; stroke-opacity:0.1; fill:none\" points=\"2291.1,1423.18 2291.1,47.2441 \"/>\n",
       "<polyline clip-path=\"url(#clip170)\" style=\"stroke:#000000; stroke-linecap:round; stroke-linejoin:round; stroke-width:4; stroke-opacity:1; fill:none\" points=\"174.149,1423.18 2352.76,1423.18 \"/>\n",
       "<polyline clip-path=\"url(#clip170)\" style=\"stroke:#000000; stroke-linecap:round; stroke-linejoin:round; stroke-width:4; stroke-opacity:1; fill:none\" points=\"193.863,1423.18 193.863,1404.28 \"/>\n",
       "<polyline clip-path=\"url(#clip170)\" style=\"stroke:#000000; stroke-linecap:round; stroke-linejoin:round; stroke-width:4; stroke-opacity:1; fill:none\" points=\"613.31,1423.18 613.31,1404.28 \"/>\n",
       "<polyline clip-path=\"url(#clip170)\" style=\"stroke:#000000; stroke-linecap:round; stroke-linejoin:round; stroke-width:4; stroke-opacity:1; fill:none\" points=\"1032.76,1423.18 1032.76,1404.28 \"/>\n",
       "<polyline clip-path=\"url(#clip170)\" style=\"stroke:#000000; stroke-linecap:round; stroke-linejoin:round; stroke-width:4; stroke-opacity:1; fill:none\" points=\"1452.2,1423.18 1452.2,1404.28 \"/>\n",
       "<polyline clip-path=\"url(#clip170)\" style=\"stroke:#000000; stroke-linecap:round; stroke-linejoin:round; stroke-width:4; stroke-opacity:1; fill:none\" points=\"1871.65,1423.18 1871.65,1404.28 \"/>\n",
       "<polyline clip-path=\"url(#clip170)\" style=\"stroke:#000000; stroke-linecap:round; stroke-linejoin:round; stroke-width:4; stroke-opacity:1; fill:none\" points=\"2291.1,1423.18 2291.1,1404.28 \"/>\n",
       "<path clip-path=\"url(#clip170)\" d=\"M193.863 1454.1 Q190.252 1454.1 188.423 1457.66 Q186.618 1461.2 186.618 1468.33 Q186.618 1475.44 188.423 1479.01 Q190.252 1482.55 193.863 1482.55 Q197.497 1482.55 199.303 1479.01 Q201.131 1475.44 201.131 1468.33 Q201.131 1461.2 199.303 1457.66 Q197.497 1454.1 193.863 1454.1 M193.863 1450.39 Q199.673 1450.39 202.729 1455 Q205.807 1459.58 205.807 1468.33 Q205.807 1477.06 202.729 1481.67 Q199.673 1486.25 193.863 1486.25 Q188.053 1486.25 184.974 1481.67 Q181.919 1477.06 181.919 1468.33 Q181.919 1459.58 184.974 1455 Q188.053 1450.39 193.863 1450.39 Z\" fill=\"#000000\" fill-rule=\"evenodd\" fill-opacity=\"1\" /><path clip-path=\"url(#clip170)\" d=\"M587.997 1481.64 L595.636 1481.64 L595.636 1455.28 L587.326 1456.95 L587.326 1452.69 L595.59 1451.02 L600.266 1451.02 L600.266 1481.64 L607.905 1481.64 L607.905 1485.58 L587.997 1485.58 L587.997 1481.64 Z\" fill=\"#000000\" fill-rule=\"evenodd\" fill-opacity=\"1\" /><path clip-path=\"url(#clip170)\" d=\"M627.349 1454.1 Q623.738 1454.1 621.909 1457.66 Q620.104 1461.2 620.104 1468.33 Q620.104 1475.44 621.909 1479.01 Q623.738 1482.55 627.349 1482.55 Q630.983 1482.55 632.789 1479.01 Q634.618 1475.44 634.618 1468.33 Q634.618 1461.2 632.789 1457.66 Q630.983 1454.1 627.349 1454.1 M627.349 1450.39 Q633.159 1450.39 636.215 1455 Q639.293 1459.58 639.293 1468.33 Q639.293 1477.06 636.215 1481.67 Q633.159 1486.25 627.349 1486.25 Q621.539 1486.25 618.46 1481.67 Q615.405 1477.06 615.405 1468.33 Q615.405 1459.58 618.46 1455 Q621.539 1450.39 627.349 1450.39 Z\" fill=\"#000000\" fill-rule=\"evenodd\" fill-opacity=\"1\" /><path clip-path=\"url(#clip170)\" d=\"M1011.53 1481.64 L1027.85 1481.64 L1027.85 1485.58 L1005.9 1485.58 L1005.9 1481.64 Q1008.57 1478.89 1013.15 1474.26 Q1017.76 1469.61 1018.94 1468.27 Q1021.18 1465.74 1022.06 1464.01 Q1022.97 1462.25 1022.97 1460.56 Q1022.97 1457.8 1021.02 1456.07 Q1019.1 1454.33 1016 1454.33 Q1013.8 1454.33 1011.34 1455.09 Q1008.91 1455.86 1006.14 1457.41 L1006.14 1452.69 Q1008.96 1451.55 1011.41 1450.97 Q1013.87 1450.39 1015.9 1450.39 Q1021.28 1450.39 1024.47 1453.08 Q1027.66 1455.77 1027.66 1460.26 Q1027.66 1462.39 1026.85 1464.31 Q1026.07 1466.2 1023.96 1468.8 Q1023.38 1469.47 1020.28 1472.69 Q1017.18 1475.88 1011.53 1481.64 Z\" fill=\"#000000\" fill-rule=\"evenodd\" fill-opacity=\"1\" /><path clip-path=\"url(#clip170)\" d=\"M1047.66 1454.1 Q1044.05 1454.1 1042.22 1457.66 Q1040.42 1461.2 1040.42 1468.33 Q1040.42 1475.44 1042.22 1479.01 Q1044.05 1482.55 1047.66 1482.55 Q1051.3 1482.55 1053.1 1479.01 Q1054.93 1475.44 1054.93 1468.33 Q1054.93 1461.2 1053.1 1457.66 Q1051.3 1454.1 1047.66 1454.1 M1047.66 1450.39 Q1053.47 1450.39 1056.53 1455 Q1059.61 1459.58 1059.61 1468.33 Q1059.61 1477.06 1056.53 1481.67 Q1053.47 1486.25 1047.66 1486.25 Q1041.85 1486.25 1038.78 1481.67 Q1035.72 1477.06 1035.72 1468.33 Q1035.72 1459.58 1038.78 1455 Q1041.85 1450.39 1047.66 1450.39 Z\" fill=\"#000000\" fill-rule=\"evenodd\" fill-opacity=\"1\" /><path clip-path=\"url(#clip170)\" d=\"M1441.05 1466.95 Q1444.4 1467.66 1446.28 1469.93 Q1448.18 1472.2 1448.18 1475.53 Q1448.18 1480.65 1444.66 1483.45 Q1441.14 1486.25 1434.66 1486.25 Q1432.48 1486.25 1430.17 1485.81 Q1427.87 1485.39 1425.42 1484.54 L1425.42 1480.02 Q1427.37 1481.16 1429.68 1481.74 Q1432 1482.32 1434.52 1482.32 Q1438.92 1482.32 1441.21 1480.58 Q1443.52 1478.84 1443.52 1475.53 Q1443.52 1472.48 1441.37 1470.77 Q1439.24 1469.03 1435.42 1469.03 L1431.39 1469.03 L1431.39 1465.19 L1435.61 1465.19 Q1439.06 1465.19 1440.88 1463.82 Q1442.71 1462.43 1442.71 1459.84 Q1442.71 1457.18 1440.81 1455.77 Q1438.94 1454.33 1435.42 1454.33 Q1433.5 1454.33 1431.3 1454.75 Q1429.1 1455.16 1426.46 1456.04 L1426.46 1451.88 Q1429.12 1451.14 1431.44 1450.77 Q1433.78 1450.39 1435.84 1450.39 Q1441.16 1450.39 1444.26 1452.83 Q1447.37 1455.23 1447.37 1459.35 Q1447.37 1462.22 1445.72 1464.21 Q1444.08 1466.18 1441.05 1466.95 Z\" fill=\"#000000\" fill-rule=\"evenodd\" fill-opacity=\"1\" /><path clip-path=\"url(#clip170)\" d=\"M1467.04 1454.1 Q1463.43 1454.1 1461.6 1457.66 Q1459.8 1461.2 1459.8 1468.33 Q1459.8 1475.44 1461.6 1479.01 Q1463.43 1482.55 1467.04 1482.55 Q1470.68 1482.55 1472.48 1479.01 Q1474.31 1475.44 1474.31 1468.33 Q1474.31 1461.2 1472.48 1457.66 Q1470.68 1454.1 1467.04 1454.1 M1467.04 1450.39 Q1472.85 1450.39 1475.91 1455 Q1478.99 1459.58 1478.99 1468.33 Q1478.99 1477.06 1475.91 1481.67 Q1472.85 1486.25 1467.04 1486.25 Q1461.23 1486.25 1458.15 1481.67 Q1455.1 1477.06 1455.1 1468.33 Q1455.1 1459.58 1458.15 1455 Q1461.23 1450.39 1467.04 1450.39 Z\" fill=\"#000000\" fill-rule=\"evenodd\" fill-opacity=\"1\" /><path clip-path=\"url(#clip170)\" d=\"M1859.82 1455.09 L1848.02 1473.54 L1859.82 1473.54 L1859.82 1455.09 M1858.59 1451.02 L1864.47 1451.02 L1864.47 1473.54 L1869.4 1473.54 L1869.4 1477.43 L1864.47 1477.43 L1864.47 1485.58 L1859.82 1485.58 L1859.82 1477.43 L1844.22 1477.43 L1844.22 1472.92 L1858.59 1451.02 Z\" fill=\"#000000\" fill-rule=\"evenodd\" fill-opacity=\"1\" /><path clip-path=\"url(#clip170)\" d=\"M1887.14 1454.1 Q1883.53 1454.1 1881.7 1457.66 Q1879.89 1461.2 1879.89 1468.33 Q1879.89 1475.44 1881.7 1479.01 Q1883.53 1482.55 1887.14 1482.55 Q1890.77 1482.55 1892.58 1479.01 Q1894.4 1475.44 1894.4 1468.33 Q1894.4 1461.2 1892.58 1457.66 Q1890.77 1454.1 1887.14 1454.1 M1887.14 1450.39 Q1892.95 1450.39 1896 1455 Q1899.08 1459.58 1899.08 1468.33 Q1899.08 1477.06 1896 1481.67 Q1892.95 1486.25 1887.14 1486.25 Q1881.33 1486.25 1878.25 1481.67 Q1875.19 1477.06 1875.19 1468.33 Q1875.19 1459.58 1878.25 1455 Q1881.33 1450.39 1887.14 1450.39 Z\" fill=\"#000000\" fill-rule=\"evenodd\" fill-opacity=\"1\" /><path clip-path=\"url(#clip170)\" d=\"M2265.8 1451.02 L2284.15 1451.02 L2284.15 1454.96 L2270.08 1454.96 L2270.08 1463.43 Q2271.1 1463.08 2272.12 1462.92 Q2273.13 1462.73 2274.15 1462.73 Q2279.94 1462.73 2283.32 1465.9 Q2286.7 1469.08 2286.7 1474.49 Q2286.7 1480.07 2283.23 1483.17 Q2279.75 1486.25 2273.44 1486.25 Q2271.26 1486.25 2268.99 1485.88 Q2266.75 1485.51 2264.34 1484.77 L2264.34 1480.07 Q2266.42 1481.2 2268.64 1481.76 Q2270.87 1482.32 2273.34 1482.32 Q2277.35 1482.32 2279.69 1480.21 Q2282.02 1478.1 2282.02 1474.49 Q2282.02 1470.88 2279.69 1468.77 Q2277.35 1466.67 2273.34 1466.67 Q2271.47 1466.67 2269.59 1467.08 Q2267.74 1467.5 2265.8 1468.38 L2265.8 1451.02 Z\" fill=\"#000000\" fill-rule=\"evenodd\" fill-opacity=\"1\" /><path clip-path=\"url(#clip170)\" d=\"M2305.91 1454.1 Q2302.3 1454.1 2300.47 1457.66 Q2298.67 1461.2 2298.67 1468.33 Q2298.67 1475.44 2300.47 1479.01 Q2302.3 1482.55 2305.91 1482.55 Q2309.55 1482.55 2311.35 1479.01 Q2313.18 1475.44 2313.18 1468.33 Q2313.18 1461.2 2311.35 1457.66 Q2309.55 1454.1 2305.91 1454.1 M2305.91 1450.39 Q2311.72 1450.39 2314.78 1455 Q2317.86 1459.58 2317.86 1468.33 Q2317.86 1477.06 2314.78 1481.67 Q2311.72 1486.25 2305.91 1486.25 Q2300.1 1486.25 2297.02 1481.67 Q2293.97 1477.06 2293.97 1468.33 Q2293.97 1459.58 2297.02 1455 Q2300.1 1450.39 2305.91 1450.39 Z\" fill=\"#000000\" fill-rule=\"evenodd\" fill-opacity=\"1\" /><path clip-path=\"url(#clip170)\" d=\"M1103.23 1539.37 L1093.97 1539.37 L1091.29 1550 L1100.62 1550 L1103.23 1539.37 M1098.45 1521.26 L1095.14 1534.46 L1104.44 1534.46 L1107.78 1521.26 L1112.87 1521.26 L1109.59 1534.46 L1119.52 1534.46 L1119.52 1539.37 L1108.35 1539.37 L1105.74 1550 L1115.86 1550 L1115.86 1554.87 L1104.5 1554.87 L1101.19 1568.04 L1096.1 1568.04 L1099.38 1554.87 L1090.05 1554.87 L1086.77 1568.04 L1081.65 1568.04 L1084.96 1554.87 L1074.93 1554.87 L1074.93 1550 L1086.14 1550 L1088.81 1539.37 L1078.56 1539.37 L1078.56 1534.46 L1090.05 1534.46 L1093.3 1521.26 L1098.45 1521.26 Z\" fill=\"#000000\" fill-rule=\"evenodd\" fill-opacity=\"1\" /><path clip-path=\"url(#clip170)\" d=\"M1174.11 1533.45 L1174.11 1538.98 Q1171.63 1537.71 1168.95 1537.07 Q1166.28 1536.44 1163.42 1536.44 Q1159.05 1536.44 1156.86 1537.77 Q1154.69 1539.11 1154.69 1541.79 Q1154.69 1543.82 1156.25 1545 Q1157.81 1546.15 1162.52 1547.2 L1164.53 1547.64 Q1170.77 1548.98 1173.38 1551.43 Q1176.02 1553.85 1176.02 1558.21 Q1176.02 1563.17 1172.07 1566.07 Q1168.16 1568.97 1161.28 1568.97 Q1158.42 1568.97 1155.3 1568.39 Q1152.21 1567.85 1148.77 1566.74 L1148.77 1560.69 Q1152.02 1562.38 1155.17 1563.24 Q1158.32 1564.07 1161.41 1564.07 Q1165.55 1564.07 1167.78 1562.66 Q1170 1561.23 1170 1558.65 Q1170 1556.27 1168.38 1554.99 Q1166.79 1553.72 1161.35 1552.54 L1159.31 1552.07 Q1153.87 1550.92 1151.45 1548.56 Q1149.03 1546.18 1149.03 1542.04 Q1149.03 1537.01 1152.59 1534.27 Q1156.16 1531.54 1162.72 1531.54 Q1165.96 1531.54 1168.83 1532.01 Q1171.69 1532.49 1174.11 1533.45 Z\" fill=\"#000000\" fill-rule=\"evenodd\" fill-opacity=\"1\" /><path clip-path=\"url(#clip170)\" d=\"M1211 1533.76 L1211 1539.24 Q1208.52 1537.87 1206 1537.2 Q1203.52 1536.5 1200.97 1536.5 Q1195.28 1536.5 1192.12 1540.13 Q1188.97 1543.73 1188.97 1550.25 Q1188.97 1556.78 1192.12 1560.4 Q1195.28 1564 1200.97 1564 Q1203.52 1564 1206 1563.33 Q1208.52 1562.63 1211 1561.26 L1211 1566.68 Q1208.55 1567.82 1205.91 1568.39 Q1203.3 1568.97 1200.34 1568.97 Q1192.28 1568.97 1187.54 1563.91 Q1182.8 1558.85 1182.8 1550.25 Q1182.8 1541.53 1187.57 1536.53 Q1192.38 1531.54 1200.72 1531.54 Q1203.42 1531.54 1206 1532.11 Q1208.58 1532.65 1211 1533.76 Z\" fill=\"#000000\" fill-rule=\"evenodd\" fill-opacity=\"1\" /><path clip-path=\"url(#clip170)\" d=\"M1251.68 1548.76 L1251.68 1551.62 L1224.75 1551.62 Q1225.13 1557.67 1228.38 1560.85 Q1231.66 1564 1237.48 1564 Q1240.85 1564 1244.01 1563.17 Q1247.19 1562.35 1250.31 1560.69 L1250.31 1566.23 Q1247.16 1567.57 1243.85 1568.27 Q1240.54 1568.97 1237.13 1568.97 Q1228.6 1568.97 1223.6 1564 Q1218.64 1559.04 1218.64 1550.57 Q1218.64 1541.82 1223.35 1536.69 Q1228.09 1531.54 1236.11 1531.54 Q1243.3 1531.54 1247.47 1536.18 Q1251.68 1540.8 1251.68 1548.76 M1245.82 1547.04 Q1245.76 1542.23 1243.11 1539.37 Q1240.5 1536.5 1236.18 1536.5 Q1231.27 1536.5 1228.31 1539.27 Q1225.39 1542.04 1224.94 1547.07 L1245.82 1547.04 Z\" fill=\"#000000\" fill-rule=\"evenodd\" fill-opacity=\"1\" /><path clip-path=\"url(#clip170)\" d=\"M1290.92 1546.53 L1290.92 1568.04 L1285.06 1568.04 L1285.06 1546.72 Q1285.06 1541.66 1283.09 1539.14 Q1281.12 1536.63 1277.17 1536.63 Q1272.43 1536.63 1269.69 1539.65 Q1266.95 1542.68 1266.95 1547.9 L1266.95 1568.04 L1261.07 1568.04 L1261.07 1532.4 L1266.95 1532.4 L1266.95 1537.93 Q1269.05 1534.72 1271.89 1533.13 Q1274.75 1531.54 1278.48 1531.54 Q1284.62 1531.54 1287.77 1535.36 Q1290.92 1539.14 1290.92 1546.53 Z\" fill=\"#000000\" fill-rule=\"evenodd\" fill-opacity=\"1\" /><path clip-path=\"url(#clip170)\" d=\"M1318.8 1550.12 Q1311.7 1550.12 1308.97 1551.75 Q1306.23 1553.37 1306.23 1557.29 Q1306.23 1560.4 1308.27 1562.25 Q1310.34 1564.07 1313.87 1564.07 Q1318.74 1564.07 1321.67 1560.63 Q1324.63 1557.16 1324.63 1551.43 L1324.63 1550.12 L1318.8 1550.12 M1330.48 1547.71 L1330.48 1568.04 L1324.63 1568.04 L1324.63 1562.63 Q1322.62 1565.88 1319.63 1567.44 Q1316.64 1568.97 1312.31 1568.97 Q1306.83 1568.97 1303.59 1565.91 Q1300.37 1562.82 1300.37 1557.67 Q1300.37 1551.65 1304.38 1548.6 Q1308.43 1545.54 1316.42 1545.54 L1324.63 1545.54 L1324.63 1544.97 Q1324.63 1540.93 1321.95 1538.73 Q1319.31 1536.5 1314.51 1536.5 Q1311.45 1536.5 1308.55 1537.23 Q1305.66 1537.97 1302.98 1539.43 L1302.98 1534.02 Q1306.2 1532.78 1309.22 1532.17 Q1312.25 1531.54 1315.11 1531.54 Q1322.84 1531.54 1326.66 1535.55 Q1330.48 1539.56 1330.48 1547.71 Z\" fill=\"#000000\" fill-rule=\"evenodd\" fill-opacity=\"1\" /><path clip-path=\"url(#clip170)\" d=\"M1363.2 1537.87 Q1362.22 1537.3 1361.04 1537.04 Q1359.89 1536.76 1358.49 1536.76 Q1353.53 1536.76 1350.85 1540 Q1348.21 1543.22 1348.21 1549.27 L1348.21 1568.04 L1342.32 1568.04 L1342.32 1532.4 L1348.21 1532.4 L1348.21 1537.93 Q1350.06 1534.69 1353.02 1533.13 Q1355.98 1531.54 1360.21 1531.54 Q1360.82 1531.54 1361.55 1531.63 Q1362.28 1531.7 1363.17 1531.85 L1363.2 1537.87 Z\" fill=\"#000000\" fill-rule=\"evenodd\" fill-opacity=\"1\" /><path clip-path=\"url(#clip170)\" d=\"M1369.35 1532.4 L1375.2 1532.4 L1375.2 1568.04 L1369.35 1568.04 L1369.35 1532.4 M1369.35 1518.52 L1375.2 1518.52 L1375.2 1525.93 L1369.35 1525.93 L1369.35 1518.52 Z\" fill=\"#000000\" fill-rule=\"evenodd\" fill-opacity=\"1\" /><path clip-path=\"url(#clip170)\" d=\"M1401.27 1536.5 Q1396.56 1536.5 1393.82 1540.19 Q1391.08 1543.85 1391.08 1550.25 Q1391.08 1556.65 1393.79 1560.34 Q1396.53 1564 1401.27 1564 Q1405.95 1564 1408.69 1560.31 Q1411.42 1556.62 1411.42 1550.25 Q1411.42 1543.92 1408.69 1540.23 Q1405.95 1536.5 1401.27 1536.5 M1401.27 1531.54 Q1408.91 1531.54 1413.27 1536.5 Q1417.63 1541.47 1417.63 1550.25 Q1417.63 1559 1413.27 1564 Q1408.91 1568.97 1401.27 1568.97 Q1393.6 1568.97 1389.24 1564 Q1384.91 1559 1384.91 1550.25 Q1384.91 1541.47 1389.24 1536.5 Q1393.6 1531.54 1401.27 1531.54 Z\" fill=\"#000000\" fill-rule=\"evenodd\" fill-opacity=\"1\" /><path clip-path=\"url(#clip170)\" d=\"M1450.06 1533.45 L1450.06 1538.98 Q1447.58 1537.71 1444.91 1537.07 Q1442.23 1536.44 1439.37 1536.44 Q1435.01 1536.44 1432.81 1537.77 Q1430.65 1539.11 1430.65 1541.79 Q1430.65 1543.82 1432.21 1545 Q1433.77 1546.15 1438.48 1547.2 L1440.48 1547.64 Q1446.72 1548.98 1449.33 1551.43 Q1451.97 1553.85 1451.97 1558.21 Q1451.97 1563.17 1448.03 1566.07 Q1444.11 1568.97 1437.24 1568.97 Q1434.37 1568.97 1431.25 1568.39 Q1428.17 1567.85 1424.73 1566.74 L1424.73 1560.69 Q1427.97 1562.38 1431.13 1563.24 Q1434.28 1564.07 1437.36 1564.07 Q1441.5 1564.07 1443.73 1562.66 Q1445.96 1561.23 1445.96 1558.65 Q1445.96 1556.27 1444.33 1554.99 Q1442.74 1553.72 1437.3 1552.54 L1435.26 1552.07 Q1429.82 1550.92 1427.4 1548.56 Q1424.98 1546.18 1424.98 1542.04 Q1424.98 1537.01 1428.55 1534.27 Q1432.11 1531.54 1438.67 1531.54 Q1441.91 1531.54 1444.78 1532.01 Q1447.64 1532.49 1450.06 1533.45 Z\" fill=\"#000000\" fill-rule=\"evenodd\" fill-opacity=\"1\" /><polyline clip-path=\"url(#clip172)\" style=\"stroke:#000000; stroke-linecap:round; stroke-linejoin:round; stroke-width:8; stroke-opacity:0.1; fill:none\" points=\"174.149,1384.24 2352.76,1384.24 \"/>\n",
       "<polyline clip-path=\"url(#clip172)\" style=\"stroke:#000000; stroke-linecap:round; stroke-linejoin:round; stroke-width:8; stroke-opacity:0.1; fill:none\" points=\"174.149,975.274 2352.76,975.274 \"/>\n",
       "<polyline clip-path=\"url(#clip172)\" style=\"stroke:#000000; stroke-linecap:round; stroke-linejoin:round; stroke-width:8; stroke-opacity:0.1; fill:none\" points=\"174.149,566.31 2352.76,566.31 \"/>\n",
       "<polyline clip-path=\"url(#clip172)\" style=\"stroke:#000000; stroke-linecap:round; stroke-linejoin:round; stroke-width:8; stroke-opacity:0.1; fill:none\" points=\"174.149,157.346 2352.76,157.346 \"/>\n",
       "<polyline clip-path=\"url(#clip170)\" style=\"stroke:#000000; stroke-linecap:round; stroke-linejoin:round; stroke-width:4; stroke-opacity:1; fill:none\" points=\"174.149,1423.18 174.149,47.2441 \"/>\n",
       "<polyline clip-path=\"url(#clip170)\" style=\"stroke:#000000; stroke-linecap:round; stroke-linejoin:round; stroke-width:4; stroke-opacity:1; fill:none\" points=\"174.149,1384.24 193.047,1384.24 \"/>\n",
       "<polyline clip-path=\"url(#clip170)\" style=\"stroke:#000000; stroke-linecap:round; stroke-linejoin:round; stroke-width:4; stroke-opacity:1; fill:none\" points=\"174.149,975.274 193.047,975.274 \"/>\n",
       "<polyline clip-path=\"url(#clip170)\" style=\"stroke:#000000; stroke-linecap:round; stroke-linejoin:round; stroke-width:4; stroke-opacity:1; fill:none\" points=\"174.149,566.31 193.047,566.31 \"/>\n",
       "<polyline clip-path=\"url(#clip170)\" style=\"stroke:#000000; stroke-linecap:round; stroke-linejoin:round; stroke-width:4; stroke-opacity:1; fill:none\" points=\"174.149,157.346 193.047,157.346 \"/>\n",
       "<path clip-path=\"url(#clip170)\" d=\"M126.205 1370.04 Q122.593 1370.04 120.765 1373.6 Q118.959 1377.14 118.959 1384.27 Q118.959 1391.38 120.765 1394.94 Q122.593 1398.49 126.205 1398.49 Q129.839 1398.49 131.644 1394.94 Q133.473 1391.38 133.473 1384.27 Q133.473 1377.14 131.644 1373.6 Q129.839 1370.04 126.205 1370.04 M126.205 1366.33 Q132.015 1366.33 135.07 1370.94 Q138.149 1375.52 138.149 1384.27 Q138.149 1393 135.07 1397.61 Q132.015 1402.19 126.205 1402.19 Q120.394 1402.19 117.316 1397.61 Q114.26 1393 114.26 1384.27 Q114.26 1375.52 117.316 1370.94 Q120.394 1366.33 126.205 1366.33 Z\" fill=\"#000000\" fill-rule=\"evenodd\" fill-opacity=\"1\" /><path clip-path=\"url(#clip170)\" d=\"M118.242 988.619 L125.88 988.619 L125.88 962.253 L117.57 963.92 L117.57 959.661 L125.834 957.994 L130.51 957.994 L130.51 988.619 L138.149 988.619 L138.149 992.554 L118.242 992.554 L118.242 988.619 Z\" fill=\"#000000\" fill-rule=\"evenodd\" fill-opacity=\"1\" /><path clip-path=\"url(#clip170)\" d=\"M121.83 579.655 L138.149 579.655 L138.149 583.59 L116.205 583.59 L116.205 579.655 Q118.867 576.9 123.45 572.27 Q128.056 567.618 129.237 566.275 Q131.482 563.752 132.362 562.016 Q133.265 560.257 133.265 558.567 Q133.265 555.812 131.32 554.076 Q129.399 552.34 126.297 552.34 Q124.098 552.34 121.644 553.104 Q119.214 553.868 116.436 555.419 L116.436 550.697 Q119.26 549.562 121.714 548.984 Q124.168 548.405 126.205 548.405 Q131.575 548.405 134.769 551.09 Q137.964 553.775 137.964 558.266 Q137.964 560.396 137.154 562.317 Q136.367 564.215 134.26 566.808 Q133.681 567.479 130.58 570.696 Q127.478 573.891 121.83 579.655 Z\" fill=\"#000000\" fill-rule=\"evenodd\" fill-opacity=\"1\" /><path clip-path=\"url(#clip170)\" d=\"M131.019 155.991 Q134.376 156.709 136.251 158.978 Q138.149 161.246 138.149 164.579 Q138.149 169.695 134.63 172.496 Q131.112 175.297 124.63 175.297 Q122.455 175.297 120.14 174.857 Q117.848 174.44 115.394 173.584 L115.394 169.07 Q117.339 170.204 119.654 170.783 Q121.968 171.362 124.492 171.362 Q128.89 171.362 131.181 169.626 Q133.496 167.89 133.496 164.579 Q133.496 161.524 131.343 159.811 Q129.214 158.075 125.394 158.075 L121.367 158.075 L121.367 154.232 L125.58 154.232 Q129.029 154.232 130.857 152.867 Q132.686 151.478 132.686 148.885 Q132.686 146.223 130.788 144.811 Q128.913 143.376 125.394 143.376 Q123.473 143.376 121.274 143.792 Q119.075 144.209 116.436 145.089 L116.436 140.922 Q119.098 140.181 121.413 139.811 Q123.751 139.441 125.811 139.441 Q131.135 139.441 134.237 141.871 Q137.339 144.279 137.339 148.399 Q137.339 151.269 135.695 153.26 Q134.052 155.228 131.019 155.991 Z\" fill=\"#000000\" fill-rule=\"evenodd\" fill-opacity=\"1\" /><path clip-path=\"url(#clip170)\" d=\"M29.4065 1005.21 L34.9447 1005.21 Q33.6716 1007.7 33.035 1010.37 Q32.3984 1013.04 32.3984 1015.91 Q32.3984 1020.27 33.7352 1022.46 Q35.072 1024.63 37.7456 1024.63 Q39.7826 1024.63 40.9603 1023.07 Q42.1061 1021.51 43.1565 1016.8 L43.6021 1014.79 Q44.9389 1008.56 47.3897 1005.95 Q49.8086 1003.3 54.1691 1003.3 Q59.1344 1003.3 62.0308 1007.25 Q64.9272 1011.17 64.9272 1018.04 Q64.9272 1020.9 64.3543 1024.02 Q63.8132 1027.11 62.6992 1030.55 L56.6518 1030.55 Q58.3387 1027.3 59.198 1024.15 Q60.0256 1021 60.0256 1017.91 Q60.0256 1013.78 58.6251 1011.55 Q57.1929 1009.32 54.6147 1009.32 Q52.2276 1009.32 50.9545 1010.94 Q49.6813 1012.53 48.5037 1017.98 L48.0262 1020.01 Q46.8804 1025.46 44.5251 1027.88 Q42.138 1030.29 38.0002 1030.29 Q32.9713 1030.29 30.2341 1026.73 Q27.4968 1023.16 27.4968 1016.61 Q27.4968 1013.36 27.9743 1010.5 Q28.4517 1007.63 29.4065 1005.21 Z\" fill=\"#000000\" fill-rule=\"evenodd\" fill-opacity=\"1\" /><path clip-path=\"url(#clip170)\" d=\"M32.4621 980.164 Q32.4621 984.875 36.1542 987.612 Q39.8145 990.349 46.212 990.349 Q52.6095 990.349 56.3017 987.644 Q59.9619 984.907 59.9619 980.164 Q59.9619 975.486 56.2698 972.748 Q52.5777 970.011 46.212 970.011 Q39.8781 970.011 36.186 972.748 Q32.4621 975.486 32.4621 980.164 M27.4968 980.164 Q27.4968 972.526 32.4621 968.165 Q37.4273 963.804 46.212 963.804 Q54.9649 963.804 59.9619 968.165 Q64.9272 972.526 64.9272 980.164 Q64.9272 987.835 59.9619 992.196 Q54.9649 996.524 46.212 996.524 Q37.4273 996.524 32.4621 992.196 Q27.4968 987.835 27.4968 980.164 Z\" fill=\"#000000\" fill-rule=\"evenodd\" fill-opacity=\"1\" /><path clip-path=\"url(#clip170)\" d=\"M14.479 954.097 L14.479 948.24 L64.0042 948.24 L64.0042 954.097 L14.479 954.097 Z\" fill=\"#000000\" fill-rule=\"evenodd\" fill-opacity=\"1\" /><path clip-path=\"url(#clip170)\" d=\"M55.9197 935.159 L55.9197 928.443 L64.0042 928.443 L64.0042 935.159 L55.9197 935.159 Z\" fill=\"#000000\" fill-rule=\"evenodd\" fill-opacity=\"1\" /><path clip-path=\"url(#clip170)\" d=\"M18.2347 888.753 L28.3562 888.753 L28.3562 876.69 L32.9077 876.69 L32.9077 888.753 L52.2594 888.753 Q56.6199 888.753 57.8613 887.575 Q59.1026 886.366 59.1026 882.705 L59.1026 876.69 L64.0042 876.69 L64.0042 882.705 Q64.0042 889.485 61.4897 892.063 Q58.9434 894.641 52.2594 894.641 L32.9077 894.641 L32.9077 898.938 L28.3562 898.938 L28.3562 894.641 L18.2347 894.641 L18.2347 888.753 Z\" fill=\"#000000\" fill-rule=\"evenodd\" fill-opacity=\"1\" /><path clip-path=\"url(#clip170)\" d=\"M28.3562 868.987 L28.3562 863.131 L64.0042 863.131 L64.0042 868.987 L28.3562 868.987 M14.479 868.987 L14.479 863.131 L21.895 863.131 L21.895 868.987 L14.479 868.987 Z\" fill=\"#000000\" fill-rule=\"evenodd\" fill-opacity=\"1\" /><path clip-path=\"url(#clip170)\" d=\"M35.1993 823.122 Q31.2526 820.926 29.3747 817.871 Q27.4968 814.815 27.4968 810.677 Q27.4968 805.107 31.4117 802.084 Q35.2948 799.06 42.4881 799.06 L64.0042 799.06 L64.0042 804.948 L42.679 804.948 Q37.5546 804.948 35.072 806.763 Q32.5894 808.577 32.5894 812.301 Q32.5894 816.852 35.6131 819.494 Q38.6368 822.136 43.8567 822.136 L64.0042 822.136 L64.0042 828.024 L42.679 828.024 Q37.5228 828.024 35.072 829.838 Q32.5894 831.652 32.5894 835.44 Q32.5894 839.928 35.6449 842.57 Q38.6686 845.211 43.8567 845.211 L64.0042 845.211 L64.0042 851.1 L28.3562 851.1 L28.3562 845.211 L33.8944 845.211 Q30.616 843.206 29.0564 840.405 Q27.4968 837.604 27.4968 833.753 Q27.4968 829.87 29.4702 827.165 Q31.4436 824.427 35.1993 823.122 Z\" fill=\"#000000\" fill-rule=\"evenodd\" fill-opacity=\"1\" /><path clip-path=\"url(#clip170)\" d=\"M44.7161 756.887 L47.5806 756.887 L47.5806 783.814 Q53.6281 783.432 56.8109 780.186 Q59.9619 776.907 59.9619 771.083 Q59.9619 767.709 59.1344 764.558 Q58.3069 761.375 56.6518 758.256 L62.1899 758.256 Q63.5267 761.407 64.227 764.717 Q64.9272 768.027 64.9272 771.433 Q64.9272 779.963 59.9619 784.96 Q54.9967 789.925 46.5303 789.925 Q37.7774 789.925 32.6531 785.215 Q27.4968 780.472 27.4968 772.451 Q27.4968 765.258 32.1438 761.089 Q36.7589 756.887 44.7161 756.887 M42.9973 762.744 Q38.1912 762.807 35.3266 765.449 Q32.4621 768.059 32.4621 772.388 Q32.4621 777.289 35.2312 780.249 Q38.0002 783.178 43.0292 783.623 L42.9973 762.744 Z\" fill=\"#000000\" fill-rule=\"evenodd\" fill-opacity=\"1\" /><path clip-path=\"url(#clip170)\" d=\"M14.5426 712.486 Q21.8632 716.751 29.0246 718.82 Q36.186 720.889 43.5384 720.889 Q50.8908 720.889 58.1159 718.82 Q65.3091 716.72 72.5979 712.486 L72.5979 717.579 Q65.1182 722.353 57.8931 724.74 Q50.668 727.096 43.5384 727.096 Q36.4406 727.096 29.2474 724.74 Q22.0542 722.385 14.5426 717.579 L14.5426 712.486 Z\" fill=\"#000000\" fill-rule=\"evenodd\" fill-opacity=\"1\" /><path clip-path=\"url(#clip170)\" d=\"M35.1993 673.369 Q31.2526 671.173 29.3747 668.117 Q27.4968 665.062 27.4968 660.924 Q27.4968 655.354 31.4117 652.33 Q35.2948 649.307 42.4881 649.307 L64.0042 649.307 L64.0042 655.195 L42.679 655.195 Q37.5546 655.195 35.072 657.009 Q32.5894 658.823 32.5894 662.547 Q32.5894 667.099 35.6131 669.741 Q38.6368 672.382 43.8567 672.382 L64.0042 672.382 L64.0042 678.271 L42.679 678.271 Q37.5228 678.271 35.072 680.085 Q32.5894 681.899 32.5894 685.687 Q32.5894 690.175 35.6449 692.816 Q38.6686 695.458 43.8567 695.458 L64.0042 695.458 L64.0042 701.346 L28.3562 701.346 L28.3562 695.458 L33.8944 695.458 Q30.616 693.453 29.0564 690.652 Q27.4968 687.851 27.4968 684 Q27.4968 680.117 29.4702 677.411 Q31.4436 674.674 35.1993 673.369 Z\" fill=\"#000000\" fill-rule=\"evenodd\" fill-opacity=\"1\" /><path clip-path=\"url(#clip170)\" d=\"M46.0847 621.425 Q46.0847 628.523 47.7079 631.26 Q49.3312 633.997 53.2461 633.997 Q56.3653 633.997 58.2114 631.96 Q60.0256 629.891 60.0256 626.358 Q60.0256 621.489 56.5881 618.56 Q53.1188 615.6 47.3897 615.6 L46.0847 615.6 L46.0847 621.425 M43.6657 609.744 L64.0042 609.744 L64.0042 615.6 L58.5933 615.6 Q61.8398 617.606 63.3994 620.597 Q64.9272 623.589 64.9272 627.918 Q64.9272 633.392 61.8716 636.639 Q58.7843 639.854 53.6281 639.854 Q47.6125 639.854 44.5569 635.843 Q41.5014 631.801 41.5014 623.812 L41.5014 615.6 L40.9285 615.6 Q36.8862 615.6 34.6901 618.274 Q32.4621 620.916 32.4621 625.722 Q32.4621 628.777 33.1941 631.674 Q33.9262 634.57 35.3903 637.244 L29.9795 637.244 Q28.7381 634.029 28.1334 631.005 Q27.4968 627.982 27.4968 625.117 Q27.4968 617.383 31.5072 613.563 Q35.5176 609.744 43.6657 609.744 Z\" fill=\"#000000\" fill-rule=\"evenodd\" fill-opacity=\"1\" /><path clip-path=\"url(#clip170)\" d=\"M28.3562 568.049 L45.7028 580.939 L64.0042 567.38 L64.0042 574.287 L49.9996 584.663 L64.0042 595.039 L64.0042 601.946 L45.3526 588.1 L28.3562 600.768 L28.3562 593.861 L41.0558 584.408 L28.3562 574.955 L28.3562 568.049 Z\" fill=\"#000000\" fill-rule=\"evenodd\" fill-opacity=\"1\" /><path clip-path=\"url(#clip170)\" d=\"M14.5426 560.028 L14.5426 554.935 Q22.0542 550.161 29.2474 547.806 Q36.4406 545.418 43.5384 545.418 Q50.668 545.418 57.8931 547.806 Q65.1182 550.161 72.5979 554.935 L72.5979 560.028 Q65.3091 555.795 58.1159 553.726 Q50.8908 551.625 43.5384 551.625 Q36.186 551.625 29.0246 553.726 Q21.8632 555.795 14.5426 560.028 Z\" fill=\"#000000\" fill-rule=\"evenodd\" fill-opacity=\"1\" /><path clip-path=\"url(#clip170)\" d=\"M14.479 513.494 L14.479 499.999 L19.0304 499.999 L19.0304 507.638 L68.0464 507.638 L68.0464 499.999 L72.5979 499.999 L72.5979 513.494 L14.479 513.494 Z\" fill=\"#000000\" fill-rule=\"evenodd\" fill-opacity=\"1\" /><path clip-path=\"url(#clip170)\" d=\"M29.4065 464.797 L34.9447 464.797 Q33.6716 467.279 33.035 469.953 Q32.3984 472.627 32.3984 475.491 Q32.3984 479.852 33.7352 482.048 Q35.072 484.212 37.7456 484.212 Q39.7826 484.212 40.9603 482.653 Q42.1061 481.093 43.1565 476.382 L43.6021 474.377 Q44.9389 468.139 47.3897 465.529 Q49.8086 462.887 54.1691 462.887 Q59.1344 462.887 62.0308 466.834 Q64.9272 470.749 64.9272 477.624 Q64.9272 480.488 64.3543 483.607 Q63.8132 486.695 62.6992 490.132 L56.6518 490.132 Q58.3387 486.886 59.198 483.735 Q60.0256 480.584 60.0256 477.496 Q60.0256 473.359 58.6251 471.131 Q57.1929 468.903 54.6147 468.903 Q52.2276 468.903 50.9545 470.526 Q49.6813 472.117 48.5037 477.56 L48.0262 479.597 Q46.8804 485.04 44.5251 487.459 Q42.138 489.878 38.0002 489.878 Q32.9713 489.878 30.2341 486.313 Q27.4968 482.748 27.4968 476.191 Q27.4968 472.945 27.9743 470.08 Q28.4517 467.216 29.4065 464.797 Z\" fill=\"#000000\" fill-rule=\"evenodd\" fill-opacity=\"1\" /><path clip-path=\"url(#clip170)\" d=\"M14.479 439.875 L72.5979 439.875 L72.5979 453.37 L68.0464 453.37 L68.0464 445.763 L19.0304 445.763 L19.0304 453.37 L14.479 453.37 L14.479 439.875 Z\" fill=\"#000000\" fill-rule=\"evenodd\" fill-opacity=\"1\" /><polyline clip-path=\"url(#clip172)\" style=\"stroke:#000000; stroke-linecap:round; stroke-linejoin:round; stroke-width:4; stroke-opacity:1; fill:none\" points=\"235.808,1286.09 277.752,1144.99 319.697,1384.24 361.642,1384.24 403.586,1384.24 445.531,1384.24 487.476,1384.24 529.42,1384.24 571.365,1384.24 613.31,1384.24 655.254,1384.24 697.199,1384.24 739.144,1384.24 781.089,1384.24 823.033,1384.24 864.978,1384.24 906.923,1384.24 948.867,1384.24 990.812,1384.24 1032.76,1384.24 1074.7,1384.24 1116.65,1384.24 1158.59,1384.24 1200.54,1384.24 1242.48,1384.24 1284.42,1384.24 1326.37,1384.24 1368.31,1384.24 1410.26,1384.24 1452.2,1384.24 1494.15,1384.24 1536.09,1384.24 1578.04,1384.24 1619.98,1384.24 1661.93,1384.24 1703.87,1384.24 1745.82,1384.24 1787.76,1384.24 1829.71,1384.24 1871.65,1384.24 1913.6,1384.24 1955.54,1384.24 1997.48,1384.24 2039.43,1384.24 2081.37,1384.24 2123.32,1384.24 2165.26,1384.24 2207.21,1384.24 2249.15,1384.24 2291.1,1384.24 \"/>\n",
       "<circle clip-path=\"url(#clip172)\" cx=\"235.808\" cy=\"1286.09\" r=\"14.4\" fill=\"#000000\" fill-rule=\"evenodd\" fill-opacity=\"1\" stroke=\"none\"/>\n",
       "<circle clip-path=\"url(#clip172)\" cx=\"277.752\" cy=\"1144.99\" r=\"14.4\" fill=\"#000000\" fill-rule=\"evenodd\" fill-opacity=\"1\" stroke=\"none\"/>\n",
       "<circle clip-path=\"url(#clip172)\" cx=\"319.697\" cy=\"1384.24\" r=\"14.4\" fill=\"#000000\" fill-rule=\"evenodd\" fill-opacity=\"1\" stroke=\"none\"/>\n",
       "<circle clip-path=\"url(#clip172)\" cx=\"361.642\" cy=\"1384.24\" r=\"14.4\" fill=\"#000000\" fill-rule=\"evenodd\" fill-opacity=\"1\" stroke=\"none\"/>\n",
       "<circle clip-path=\"url(#clip172)\" cx=\"403.586\" cy=\"1384.24\" r=\"14.4\" fill=\"#000000\" fill-rule=\"evenodd\" fill-opacity=\"1\" stroke=\"none\"/>\n",
       "<circle clip-path=\"url(#clip172)\" cx=\"445.531\" cy=\"1384.24\" r=\"14.4\" fill=\"#000000\" fill-rule=\"evenodd\" fill-opacity=\"1\" stroke=\"none\"/>\n",
       "<circle clip-path=\"url(#clip172)\" cx=\"487.476\" cy=\"1384.24\" r=\"14.4\" fill=\"#000000\" fill-rule=\"evenodd\" fill-opacity=\"1\" stroke=\"none\"/>\n",
       "<circle clip-path=\"url(#clip172)\" cx=\"529.42\" cy=\"1384.24\" r=\"14.4\" fill=\"#000000\" fill-rule=\"evenodd\" fill-opacity=\"1\" stroke=\"none\"/>\n",
       "<circle clip-path=\"url(#clip172)\" cx=\"571.365\" cy=\"1384.24\" r=\"14.4\" fill=\"#000000\" fill-rule=\"evenodd\" fill-opacity=\"1\" stroke=\"none\"/>\n",
       "<circle clip-path=\"url(#clip172)\" cx=\"613.31\" cy=\"1384.24\" r=\"14.4\" fill=\"#000000\" fill-rule=\"evenodd\" fill-opacity=\"1\" stroke=\"none\"/>\n",
       "<circle clip-path=\"url(#clip172)\" cx=\"655.254\" cy=\"1384.24\" r=\"14.4\" fill=\"#000000\" fill-rule=\"evenodd\" fill-opacity=\"1\" stroke=\"none\"/>\n",
       "<circle clip-path=\"url(#clip172)\" cx=\"697.199\" cy=\"1384.24\" r=\"14.4\" fill=\"#000000\" fill-rule=\"evenodd\" fill-opacity=\"1\" stroke=\"none\"/>\n",
       "<circle clip-path=\"url(#clip172)\" cx=\"739.144\" cy=\"1384.24\" r=\"14.4\" fill=\"#000000\" fill-rule=\"evenodd\" fill-opacity=\"1\" stroke=\"none\"/>\n",
       "<circle clip-path=\"url(#clip172)\" cx=\"781.089\" cy=\"1384.24\" r=\"14.4\" fill=\"#000000\" fill-rule=\"evenodd\" fill-opacity=\"1\" stroke=\"none\"/>\n",
       "<circle clip-path=\"url(#clip172)\" cx=\"823.033\" cy=\"1384.24\" r=\"14.4\" fill=\"#000000\" fill-rule=\"evenodd\" fill-opacity=\"1\" stroke=\"none\"/>\n",
       "<circle clip-path=\"url(#clip172)\" cx=\"864.978\" cy=\"1384.24\" r=\"14.4\" fill=\"#000000\" fill-rule=\"evenodd\" fill-opacity=\"1\" stroke=\"none\"/>\n",
       "<circle clip-path=\"url(#clip172)\" cx=\"906.923\" cy=\"1384.24\" r=\"14.4\" fill=\"#000000\" fill-rule=\"evenodd\" fill-opacity=\"1\" stroke=\"none\"/>\n",
       "<circle clip-path=\"url(#clip172)\" cx=\"948.867\" cy=\"1384.24\" r=\"14.4\" fill=\"#000000\" fill-rule=\"evenodd\" fill-opacity=\"1\" stroke=\"none\"/>\n",
       "<circle clip-path=\"url(#clip172)\" cx=\"990.812\" cy=\"1384.24\" r=\"14.4\" fill=\"#000000\" fill-rule=\"evenodd\" fill-opacity=\"1\" stroke=\"none\"/>\n",
       "<circle clip-path=\"url(#clip172)\" cx=\"1032.76\" cy=\"1384.24\" r=\"14.4\" fill=\"#000000\" fill-rule=\"evenodd\" fill-opacity=\"1\" stroke=\"none\"/>\n",
       "<circle clip-path=\"url(#clip172)\" cx=\"1074.7\" cy=\"1384.24\" r=\"14.4\" fill=\"#000000\" fill-rule=\"evenodd\" fill-opacity=\"1\" stroke=\"none\"/>\n",
       "<circle clip-path=\"url(#clip172)\" cx=\"1116.65\" cy=\"1384.24\" r=\"14.4\" fill=\"#000000\" fill-rule=\"evenodd\" fill-opacity=\"1\" stroke=\"none\"/>\n",
       "<circle clip-path=\"url(#clip172)\" cx=\"1158.59\" cy=\"1384.24\" r=\"14.4\" fill=\"#000000\" fill-rule=\"evenodd\" fill-opacity=\"1\" stroke=\"none\"/>\n",
       "<circle clip-path=\"url(#clip172)\" cx=\"1200.54\" cy=\"1384.24\" r=\"14.4\" fill=\"#000000\" fill-rule=\"evenodd\" fill-opacity=\"1\" stroke=\"none\"/>\n",
       "<circle clip-path=\"url(#clip172)\" cx=\"1242.48\" cy=\"1384.24\" r=\"14.4\" fill=\"#000000\" fill-rule=\"evenodd\" fill-opacity=\"1\" stroke=\"none\"/>\n",
       "<circle clip-path=\"url(#clip172)\" cx=\"1284.42\" cy=\"1384.24\" r=\"14.4\" fill=\"#000000\" fill-rule=\"evenodd\" fill-opacity=\"1\" stroke=\"none\"/>\n",
       "<circle clip-path=\"url(#clip172)\" cx=\"1326.37\" cy=\"1384.24\" r=\"14.4\" fill=\"#000000\" fill-rule=\"evenodd\" fill-opacity=\"1\" stroke=\"none\"/>\n",
       "<circle clip-path=\"url(#clip172)\" cx=\"1368.31\" cy=\"1384.24\" r=\"14.4\" fill=\"#000000\" fill-rule=\"evenodd\" fill-opacity=\"1\" stroke=\"none\"/>\n",
       "<circle clip-path=\"url(#clip172)\" cx=\"1410.26\" cy=\"1384.24\" r=\"14.4\" fill=\"#000000\" fill-rule=\"evenodd\" fill-opacity=\"1\" stroke=\"none\"/>\n",
       "<circle clip-path=\"url(#clip172)\" cx=\"1452.2\" cy=\"1384.24\" r=\"14.4\" fill=\"#000000\" fill-rule=\"evenodd\" fill-opacity=\"1\" stroke=\"none\"/>\n",
       "<circle clip-path=\"url(#clip172)\" cx=\"1494.15\" cy=\"1384.24\" r=\"14.4\" fill=\"#000000\" fill-rule=\"evenodd\" fill-opacity=\"1\" stroke=\"none\"/>\n",
       "<circle clip-path=\"url(#clip172)\" cx=\"1536.09\" cy=\"1384.24\" r=\"14.4\" fill=\"#000000\" fill-rule=\"evenodd\" fill-opacity=\"1\" stroke=\"none\"/>\n",
       "<circle clip-path=\"url(#clip172)\" cx=\"1578.04\" cy=\"1384.24\" r=\"14.4\" fill=\"#000000\" fill-rule=\"evenodd\" fill-opacity=\"1\" stroke=\"none\"/>\n",
       "<circle clip-path=\"url(#clip172)\" cx=\"1619.98\" cy=\"1384.24\" r=\"14.4\" fill=\"#000000\" fill-rule=\"evenodd\" fill-opacity=\"1\" stroke=\"none\"/>\n",
       "<circle clip-path=\"url(#clip172)\" cx=\"1661.93\" cy=\"1384.24\" r=\"14.4\" fill=\"#000000\" fill-rule=\"evenodd\" fill-opacity=\"1\" stroke=\"none\"/>\n",
       "<circle clip-path=\"url(#clip172)\" cx=\"1703.87\" cy=\"1384.24\" r=\"14.4\" fill=\"#000000\" fill-rule=\"evenodd\" fill-opacity=\"1\" stroke=\"none\"/>\n",
       "<circle clip-path=\"url(#clip172)\" cx=\"1745.82\" cy=\"1384.24\" r=\"14.4\" fill=\"#000000\" fill-rule=\"evenodd\" fill-opacity=\"1\" stroke=\"none\"/>\n",
       "<circle clip-path=\"url(#clip172)\" cx=\"1787.76\" cy=\"1384.24\" r=\"14.4\" fill=\"#000000\" fill-rule=\"evenodd\" fill-opacity=\"1\" stroke=\"none\"/>\n",
       "<circle clip-path=\"url(#clip172)\" cx=\"1829.71\" cy=\"1384.24\" r=\"14.4\" fill=\"#000000\" fill-rule=\"evenodd\" fill-opacity=\"1\" stroke=\"none\"/>\n",
       "<circle clip-path=\"url(#clip172)\" cx=\"1871.65\" cy=\"1384.24\" r=\"14.4\" fill=\"#000000\" fill-rule=\"evenodd\" fill-opacity=\"1\" stroke=\"none\"/>\n",
       "<circle clip-path=\"url(#clip172)\" cx=\"1913.6\" cy=\"1384.24\" r=\"14.4\" fill=\"#000000\" fill-rule=\"evenodd\" fill-opacity=\"1\" stroke=\"none\"/>\n",
       "<circle clip-path=\"url(#clip172)\" cx=\"1955.54\" cy=\"1384.24\" r=\"14.4\" fill=\"#000000\" fill-rule=\"evenodd\" fill-opacity=\"1\" stroke=\"none\"/>\n",
       "<circle clip-path=\"url(#clip172)\" cx=\"1997.48\" cy=\"1384.24\" r=\"14.4\" fill=\"#000000\" fill-rule=\"evenodd\" fill-opacity=\"1\" stroke=\"none\"/>\n",
       "<circle clip-path=\"url(#clip172)\" cx=\"2039.43\" cy=\"1384.24\" r=\"14.4\" fill=\"#000000\" fill-rule=\"evenodd\" fill-opacity=\"1\" stroke=\"none\"/>\n",
       "<circle clip-path=\"url(#clip172)\" cx=\"2081.37\" cy=\"1384.24\" r=\"14.4\" fill=\"#000000\" fill-rule=\"evenodd\" fill-opacity=\"1\" stroke=\"none\"/>\n",
       "<circle clip-path=\"url(#clip172)\" cx=\"2123.32\" cy=\"1384.24\" r=\"14.4\" fill=\"#000000\" fill-rule=\"evenodd\" fill-opacity=\"1\" stroke=\"none\"/>\n",
       "<circle clip-path=\"url(#clip172)\" cx=\"2165.26\" cy=\"1384.24\" r=\"14.4\" fill=\"#000000\" fill-rule=\"evenodd\" fill-opacity=\"1\" stroke=\"none\"/>\n",
       "<circle clip-path=\"url(#clip172)\" cx=\"2207.21\" cy=\"1384.24\" r=\"14.4\" fill=\"#000000\" fill-rule=\"evenodd\" fill-opacity=\"1\" stroke=\"none\"/>\n",
       "<circle clip-path=\"url(#clip172)\" cx=\"2249.15\" cy=\"1384.24\" r=\"14.4\" fill=\"#000000\" fill-rule=\"evenodd\" fill-opacity=\"1\" stroke=\"none\"/>\n",
       "<circle clip-path=\"url(#clip172)\" cx=\"2291.1\" cy=\"1384.24\" r=\"14.4\" fill=\"#000000\" fill-rule=\"evenodd\" fill-opacity=\"1\" stroke=\"none\"/>\n",
       "<polyline clip-path=\"url(#clip172)\" style=\"stroke:#000000; stroke-linecap:round; stroke-linejoin:round; stroke-width:4; stroke-opacity:1; fill:none\" stroke-dasharray=\"16, 8, 2, 8\" points=\"235.808,86.1857 277.752,1384.24 319.697,1384.24 361.642,1384.24 403.586,1384.24 445.531,1384.24 487.476,1384.24 529.42,1384.24 571.365,1384.24 613.31,1384.24 655.254,1384.24 697.199,1384.24 739.144,1384.24 781.089,1384.24 823.033,1384.24 864.978,1384.24 906.923,1384.24 948.867,1384.24 990.812,1384.24 1032.76,1384.24 1074.7,1384.24 1116.65,1384.24 1158.59,1384.24 1200.54,1384.24 1242.48,1384.24 1284.42,1384.24 1326.37,1384.24 1368.31,1384.24 1410.26,1384.24 1452.2,1384.24 1494.15,1384.24 1536.09,1384.24 1578.04,1384.24 1619.98,1384.24 1661.93,1384.24 1703.87,1384.24 1745.82,1384.24 1787.76,1384.24 1829.71,1384.24 1871.65,1384.24 1913.6,1384.24 1955.54,1384.24 1997.48,1384.24 2039.43,1384.24 2081.37,1384.24 2123.32,1384.24 2165.26,1384.24 2207.21,1384.24 2249.15,1384.24 2291.1,1384.24 \"/>\n",
       "<path clip-path=\"url(#clip172)\" d=\"M223.808 74.1857 L223.808 98.1857 L247.808 98.1857 L247.808 74.1857 L223.808 74.1857 Z\" fill=\"#000000\" fill-rule=\"evenodd\" fill-opacity=\"1\" stroke=\"none\"/>\n",
       "<path clip-path=\"url(#clip172)\" d=\"M265.752 1372.24 L265.752 1396.24 L289.752 1396.24 L289.752 1372.24 L265.752 1372.24 Z\" fill=\"#000000\" fill-rule=\"evenodd\" fill-opacity=\"1\" stroke=\"none\"/>\n",
       "<path clip-path=\"url(#clip172)\" d=\"M307.697 1372.24 L307.697 1396.24 L331.697 1396.24 L331.697 1372.24 L307.697 1372.24 Z\" fill=\"#000000\" fill-rule=\"evenodd\" fill-opacity=\"1\" stroke=\"none\"/>\n",
       "<path clip-path=\"url(#clip172)\" d=\"M349.642 1372.24 L349.642 1396.24 L373.642 1396.24 L373.642 1372.24 L349.642 1372.24 Z\" fill=\"#000000\" fill-rule=\"evenodd\" fill-opacity=\"1\" stroke=\"none\"/>\n",
       "<path clip-path=\"url(#clip172)\" d=\"M391.586 1372.24 L391.586 1396.24 L415.586 1396.24 L415.586 1372.24 L391.586 1372.24 Z\" fill=\"#000000\" fill-rule=\"evenodd\" fill-opacity=\"1\" stroke=\"none\"/>\n",
       "<path clip-path=\"url(#clip172)\" d=\"M433.531 1372.24 L433.531 1396.24 L457.531 1396.24 L457.531 1372.24 L433.531 1372.24 Z\" fill=\"#000000\" fill-rule=\"evenodd\" fill-opacity=\"1\" stroke=\"none\"/>\n",
       "<path clip-path=\"url(#clip172)\" d=\"M475.476 1372.24 L475.476 1396.24 L499.476 1396.24 L499.476 1372.24 L475.476 1372.24 Z\" fill=\"#000000\" fill-rule=\"evenodd\" fill-opacity=\"1\" stroke=\"none\"/>\n",
       "<path clip-path=\"url(#clip172)\" d=\"M517.42 1372.24 L517.42 1396.24 L541.42 1396.24 L541.42 1372.24 L517.42 1372.24 Z\" fill=\"#000000\" fill-rule=\"evenodd\" fill-opacity=\"1\" stroke=\"none\"/>\n",
       "<path clip-path=\"url(#clip172)\" d=\"M559.365 1372.24 L559.365 1396.24 L583.365 1396.24 L583.365 1372.24 L559.365 1372.24 Z\" fill=\"#000000\" fill-rule=\"evenodd\" fill-opacity=\"1\" stroke=\"none\"/>\n",
       "<path clip-path=\"url(#clip172)\" d=\"M601.31 1372.24 L601.31 1396.24 L625.31 1396.24 L625.31 1372.24 L601.31 1372.24 Z\" fill=\"#000000\" fill-rule=\"evenodd\" fill-opacity=\"1\" stroke=\"none\"/>\n",
       "<path clip-path=\"url(#clip172)\" d=\"M643.254 1372.24 L643.254 1396.24 L667.254 1396.24 L667.254 1372.24 L643.254 1372.24 Z\" fill=\"#000000\" fill-rule=\"evenodd\" fill-opacity=\"1\" stroke=\"none\"/>\n",
       "<path clip-path=\"url(#clip172)\" d=\"M685.199 1372.24 L685.199 1396.24 L709.199 1396.24 L709.199 1372.24 L685.199 1372.24 Z\" fill=\"#000000\" fill-rule=\"evenodd\" fill-opacity=\"1\" stroke=\"none\"/>\n",
       "<path clip-path=\"url(#clip172)\" d=\"M727.144 1372.24 L727.144 1396.24 L751.144 1396.24 L751.144 1372.24 L727.144 1372.24 Z\" fill=\"#000000\" fill-rule=\"evenodd\" fill-opacity=\"1\" stroke=\"none\"/>\n",
       "<path clip-path=\"url(#clip172)\" d=\"M769.089 1372.24 L769.089 1396.24 L793.089 1396.24 L793.089 1372.24 L769.089 1372.24 Z\" fill=\"#000000\" fill-rule=\"evenodd\" fill-opacity=\"1\" stroke=\"none\"/>\n",
       "<path clip-path=\"url(#clip172)\" d=\"M811.033 1372.24 L811.033 1396.24 L835.033 1396.24 L835.033 1372.24 L811.033 1372.24 Z\" fill=\"#000000\" fill-rule=\"evenodd\" fill-opacity=\"1\" stroke=\"none\"/>\n",
       "<path clip-path=\"url(#clip172)\" d=\"M852.978 1372.24 L852.978 1396.24 L876.978 1396.24 L876.978 1372.24 L852.978 1372.24 Z\" fill=\"#000000\" fill-rule=\"evenodd\" fill-opacity=\"1\" stroke=\"none\"/>\n",
       "<path clip-path=\"url(#clip172)\" d=\"M894.923 1372.24 L894.923 1396.24 L918.923 1396.24 L918.923 1372.24 L894.923 1372.24 Z\" fill=\"#000000\" fill-rule=\"evenodd\" fill-opacity=\"1\" stroke=\"none\"/>\n",
       "<path clip-path=\"url(#clip172)\" d=\"M936.867 1372.24 L936.867 1396.24 L960.867 1396.24 L960.867 1372.24 L936.867 1372.24 Z\" fill=\"#000000\" fill-rule=\"evenodd\" fill-opacity=\"1\" stroke=\"none\"/>\n",
       "<path clip-path=\"url(#clip172)\" d=\"M978.812 1372.24 L978.812 1396.24 L1002.81 1396.24 L1002.81 1372.24 L978.812 1372.24 Z\" fill=\"#000000\" fill-rule=\"evenodd\" fill-opacity=\"1\" stroke=\"none\"/>\n",
       "<path clip-path=\"url(#clip172)\" d=\"M1020.76 1372.24 L1020.76 1396.24 L1044.76 1396.24 L1044.76 1372.24 L1020.76 1372.24 Z\" fill=\"#000000\" fill-rule=\"evenodd\" fill-opacity=\"1\" stroke=\"none\"/>\n",
       "<path clip-path=\"url(#clip172)\" d=\"M1062.7 1372.24 L1062.7 1396.24 L1086.7 1396.24 L1086.7 1372.24 L1062.7 1372.24 Z\" fill=\"#000000\" fill-rule=\"evenodd\" fill-opacity=\"1\" stroke=\"none\"/>\n",
       "<path clip-path=\"url(#clip172)\" d=\"M1104.65 1372.24 L1104.65 1396.24 L1128.65 1396.24 L1128.65 1372.24 L1104.65 1372.24 Z\" fill=\"#000000\" fill-rule=\"evenodd\" fill-opacity=\"1\" stroke=\"none\"/>\n",
       "<path clip-path=\"url(#clip172)\" d=\"M1146.59 1372.24 L1146.59 1396.24 L1170.59 1396.24 L1170.59 1372.24 L1146.59 1372.24 Z\" fill=\"#000000\" fill-rule=\"evenodd\" fill-opacity=\"1\" stroke=\"none\"/>\n",
       "<path clip-path=\"url(#clip172)\" d=\"M1188.54 1372.24 L1188.54 1396.24 L1212.54 1396.24 L1212.54 1372.24 L1188.54 1372.24 Z\" fill=\"#000000\" fill-rule=\"evenodd\" fill-opacity=\"1\" stroke=\"none\"/>\n",
       "<path clip-path=\"url(#clip172)\" d=\"M1230.48 1372.24 L1230.48 1396.24 L1254.48 1396.24 L1254.48 1372.24 L1230.48 1372.24 Z\" fill=\"#000000\" fill-rule=\"evenodd\" fill-opacity=\"1\" stroke=\"none\"/>\n",
       "<path clip-path=\"url(#clip172)\" d=\"M1272.42 1372.24 L1272.42 1396.24 L1296.42 1396.24 L1296.42 1372.24 L1272.42 1372.24 Z\" fill=\"#000000\" fill-rule=\"evenodd\" fill-opacity=\"1\" stroke=\"none\"/>\n",
       "<path clip-path=\"url(#clip172)\" d=\"M1314.37 1372.24 L1314.37 1396.24 L1338.37 1396.24 L1338.37 1372.24 L1314.37 1372.24 Z\" fill=\"#000000\" fill-rule=\"evenodd\" fill-opacity=\"1\" stroke=\"none\"/>\n",
       "<path clip-path=\"url(#clip172)\" d=\"M1356.31 1372.24 L1356.31 1396.24 L1380.31 1396.24 L1380.31 1372.24 L1356.31 1372.24 Z\" fill=\"#000000\" fill-rule=\"evenodd\" fill-opacity=\"1\" stroke=\"none\"/>\n",
       "<path clip-path=\"url(#clip172)\" d=\"M1398.26 1372.24 L1398.26 1396.24 L1422.26 1396.24 L1422.26 1372.24 L1398.26 1372.24 Z\" fill=\"#000000\" fill-rule=\"evenodd\" fill-opacity=\"1\" stroke=\"none\"/>\n",
       "<path clip-path=\"url(#clip172)\" d=\"M1440.2 1372.24 L1440.2 1396.24 L1464.2 1396.24 L1464.2 1372.24 L1440.2 1372.24 Z\" fill=\"#000000\" fill-rule=\"evenodd\" fill-opacity=\"1\" stroke=\"none\"/>\n",
       "<path clip-path=\"url(#clip172)\" d=\"M1482.15 1372.24 L1482.15 1396.24 L1506.15 1396.24 L1506.15 1372.24 L1482.15 1372.24 Z\" fill=\"#000000\" fill-rule=\"evenodd\" fill-opacity=\"1\" stroke=\"none\"/>\n",
       "<path clip-path=\"url(#clip172)\" d=\"M1524.09 1372.24 L1524.09 1396.24 L1548.09 1396.24 L1548.09 1372.24 L1524.09 1372.24 Z\" fill=\"#000000\" fill-rule=\"evenodd\" fill-opacity=\"1\" stroke=\"none\"/>\n",
       "<path clip-path=\"url(#clip172)\" d=\"M1566.04 1372.24 L1566.04 1396.24 L1590.04 1396.24 L1590.04 1372.24 L1566.04 1372.24 Z\" fill=\"#000000\" fill-rule=\"evenodd\" fill-opacity=\"1\" stroke=\"none\"/>\n",
       "<path clip-path=\"url(#clip172)\" d=\"M1607.98 1372.24 L1607.98 1396.24 L1631.98 1396.24 L1631.98 1372.24 L1607.98 1372.24 Z\" fill=\"#000000\" fill-rule=\"evenodd\" fill-opacity=\"1\" stroke=\"none\"/>\n",
       "<path clip-path=\"url(#clip172)\" d=\"M1649.93 1372.24 L1649.93 1396.24 L1673.93 1396.24 L1673.93 1372.24 L1649.93 1372.24 Z\" fill=\"#000000\" fill-rule=\"evenodd\" fill-opacity=\"1\" stroke=\"none\"/>\n",
       "<path clip-path=\"url(#clip172)\" d=\"M1691.87 1372.24 L1691.87 1396.24 L1715.87 1396.24 L1715.87 1372.24 L1691.87 1372.24 Z\" fill=\"#000000\" fill-rule=\"evenodd\" fill-opacity=\"1\" stroke=\"none\"/>\n",
       "<path clip-path=\"url(#clip172)\" d=\"M1733.82 1372.24 L1733.82 1396.24 L1757.82 1396.24 L1757.82 1372.24 L1733.82 1372.24 Z\" fill=\"#000000\" fill-rule=\"evenodd\" fill-opacity=\"1\" stroke=\"none\"/>\n",
       "<path clip-path=\"url(#clip172)\" d=\"M1775.76 1372.24 L1775.76 1396.24 L1799.76 1396.24 L1799.76 1372.24 L1775.76 1372.24 Z\" fill=\"#000000\" fill-rule=\"evenodd\" fill-opacity=\"1\" stroke=\"none\"/>\n",
       "<path clip-path=\"url(#clip172)\" d=\"M1817.71 1372.24 L1817.71 1396.24 L1841.71 1396.24 L1841.71 1372.24 L1817.71 1372.24 Z\" fill=\"#000000\" fill-rule=\"evenodd\" fill-opacity=\"1\" stroke=\"none\"/>\n",
       "<path clip-path=\"url(#clip172)\" d=\"M1859.65 1372.24 L1859.65 1396.24 L1883.65 1396.24 L1883.65 1372.24 L1859.65 1372.24 Z\" fill=\"#000000\" fill-rule=\"evenodd\" fill-opacity=\"1\" stroke=\"none\"/>\n",
       "<path clip-path=\"url(#clip172)\" d=\"M1901.6 1372.24 L1901.6 1396.24 L1925.6 1396.24 L1925.6 1372.24 L1901.6 1372.24 Z\" fill=\"#000000\" fill-rule=\"evenodd\" fill-opacity=\"1\" stroke=\"none\"/>\n",
       "<path clip-path=\"url(#clip172)\" d=\"M1943.54 1372.24 L1943.54 1396.24 L1967.54 1396.24 L1967.54 1372.24 L1943.54 1372.24 Z\" fill=\"#000000\" fill-rule=\"evenodd\" fill-opacity=\"1\" stroke=\"none\"/>\n",
       "<path clip-path=\"url(#clip172)\" d=\"M1985.48 1372.24 L1985.48 1396.24 L2009.48 1396.24 L2009.48 1372.24 L1985.48 1372.24 Z\" fill=\"#000000\" fill-rule=\"evenodd\" fill-opacity=\"1\" stroke=\"none\"/>\n",
       "<path clip-path=\"url(#clip172)\" d=\"M2027.43 1372.24 L2027.43 1396.24 L2051.43 1396.24 L2051.43 1372.24 L2027.43 1372.24 Z\" fill=\"#000000\" fill-rule=\"evenodd\" fill-opacity=\"1\" stroke=\"none\"/>\n",
       "<path clip-path=\"url(#clip172)\" d=\"M2069.37 1372.24 L2069.37 1396.24 L2093.37 1396.24 L2093.37 1372.24 L2069.37 1372.24 Z\" fill=\"#000000\" fill-rule=\"evenodd\" fill-opacity=\"1\" stroke=\"none\"/>\n",
       "<path clip-path=\"url(#clip172)\" d=\"M2111.32 1372.24 L2111.32 1396.24 L2135.32 1396.24 L2135.32 1372.24 L2111.32 1372.24 Z\" fill=\"#000000\" fill-rule=\"evenodd\" fill-opacity=\"1\" stroke=\"none\"/>\n",
       "<path clip-path=\"url(#clip172)\" d=\"M2153.26 1372.24 L2153.26 1396.24 L2177.26 1396.24 L2177.26 1372.24 L2153.26 1372.24 Z\" fill=\"#000000\" fill-rule=\"evenodd\" fill-opacity=\"1\" stroke=\"none\"/>\n",
       "<path clip-path=\"url(#clip172)\" d=\"M2195.21 1372.24 L2195.21 1396.24 L2219.21 1396.24 L2219.21 1372.24 L2195.21 1372.24 Z\" fill=\"#000000\" fill-rule=\"evenodd\" fill-opacity=\"1\" stroke=\"none\"/>\n",
       "<path clip-path=\"url(#clip172)\" d=\"M2237.15 1372.24 L2237.15 1396.24 L2261.15 1396.24 L2261.15 1372.24 L2237.15 1372.24 Z\" fill=\"#000000\" fill-rule=\"evenodd\" fill-opacity=\"1\" stroke=\"none\"/>\n",
       "<path clip-path=\"url(#clip172)\" d=\"M2279.1 1372.24 L2279.1 1396.24 L2303.1 1396.24 L2303.1 1372.24 L2279.1 1372.24 Z\" fill=\"#000000\" fill-rule=\"evenodd\" fill-opacity=\"1\" stroke=\"none\"/>\n",
       "<path clip-path=\"url(#clip170)\" d=\"M1765.63 248.629 L2280.14 248.629 L2280.14 93.1086 L1765.63 93.1086  Z\" fill=\"#ffffff\" fill-rule=\"evenodd\" fill-opacity=\"1\"/>\n",
       "<polyline clip-path=\"url(#clip170)\" style=\"stroke:#000000; stroke-linecap:round; stroke-linejoin:round; stroke-width:4; stroke-opacity:1; fill:none\" points=\"1765.63,248.629 2280.14,248.629 2280.14,93.1086 1765.63,93.1086 1765.63,248.629 \"/>\n",
       "<polyline clip-path=\"url(#clip170)\" style=\"stroke:#000000; stroke-linecap:round; stroke-linejoin:round; stroke-width:4; stroke-opacity:1; fill:none\" points=\"1789.84,144.949 1935.08,144.949 \"/>\n",
       "<circle clip-path=\"url(#clip170)\" cx=\"1862.46\" cy=\"144.949\" r=\"20.1723\" fill=\"#000000\" fill-rule=\"evenodd\" fill-opacity=\"1\" stroke=\"none\"/>\n",
       "<path clip-path=\"url(#clip170)\" d=\"M1979.63 141.28 Q1981.23 138.409 1983.45 137.044 Q1985.68 135.678 1988.68 135.678 Q1992.74 135.678 1994.93 138.525 Q1997.13 141.349 1997.13 146.581 L1997.13 162.229 L1992.85 162.229 L1992.85 146.719 Q1992.85 142.993 1991.53 141.187 Q1990.21 139.382 1987.5 139.382 Q1984.19 139.382 1982.27 141.581 Q1980.35 143.78 1980.35 147.576 L1980.35 162.229 L1976.07 162.229 L1976.07 146.719 Q1976.07 142.969 1974.75 141.187 Q1973.43 139.382 1970.68 139.382 Q1967.41 139.382 1965.49 141.604 Q1963.57 143.803 1963.57 147.576 L1963.57 162.229 L1959.29 162.229 L1959.29 136.303 L1963.57 136.303 L1963.57 140.331 Q1965.03 137.946 1967.06 136.812 Q1969.1 135.678 1971.9 135.678 Q1974.73 135.678 1976.69 137.113 Q1978.69 138.548 1979.63 141.28 Z\" fill=\"#000000\" fill-rule=\"evenodd\" fill-opacity=\"1\" /><path clip-path=\"url(#clip170)\" d=\"M2015.68 139.289 Q2012.25 139.289 2010.26 141.974 Q2008.27 144.636 2008.27 149.289 Q2008.27 153.942 2010.24 156.627 Q2012.23 159.289 2015.68 159.289 Q2019.08 159.289 2021.07 156.604 Q2023.06 153.918 2023.06 149.289 Q2023.06 144.682 2021.07 141.997 Q2019.08 139.289 2015.68 139.289 M2015.68 135.678 Q2021.23 135.678 2024.4 139.289 Q2027.57 142.9 2027.57 149.289 Q2027.57 155.655 2024.4 159.289 Q2021.23 162.9 2015.68 162.9 Q2010.1 162.9 2006.93 159.289 Q2003.78 155.655 2003.78 149.289 Q2003.78 142.9 2006.93 139.289 Q2010.1 135.678 2015.68 135.678 Z\" fill=\"#000000\" fill-rule=\"evenodd\" fill-opacity=\"1\" /><path clip-path=\"url(#clip170)\" d=\"M2056.18 146.581 L2056.18 162.229 L2051.93 162.229 L2051.93 146.719 Q2051.93 143.039 2050.49 141.21 Q2049.06 139.382 2046.18 139.382 Q2042.74 139.382 2040.74 141.581 Q2038.75 143.78 2038.75 147.576 L2038.75 162.229 L2034.47 162.229 L2034.47 136.303 L2038.75 136.303 L2038.75 140.331 Q2040.28 137.993 2042.34 136.835 Q2044.43 135.678 2047.13 135.678 Q2051.6 135.678 2053.89 138.456 Q2056.18 141.21 2056.18 146.581 Z\" fill=\"#000000\" fill-rule=\"evenodd\" fill-opacity=\"1\" /><path clip-path=\"url(#clip170)\" d=\"M2074.73 139.289 Q2071.3 139.289 2069.31 141.974 Q2067.32 144.636 2067.32 149.289 Q2067.32 153.942 2069.29 156.627 Q2071.28 159.289 2074.73 159.289 Q2078.13 159.289 2080.12 156.604 Q2082.11 153.918 2082.11 149.289 Q2082.11 144.682 2080.12 141.997 Q2078.13 139.289 2074.73 139.289 M2074.73 135.678 Q2080.28 135.678 2083.45 139.289 Q2086.62 142.9 2086.62 149.289 Q2086.62 155.655 2083.45 159.289 Q2080.28 162.9 2074.73 162.9 Q2069.15 162.9 2065.98 159.289 Q2062.83 155.655 2062.83 149.289 Q2062.83 142.9 2065.98 139.289 Q2069.15 135.678 2074.73 135.678 Z\" fill=\"#000000\" fill-rule=\"evenodd\" fill-opacity=\"1\" /><path clip-path=\"url(#clip170)\" d=\"M2093.68 126.21 L2097.94 126.21 L2097.94 162.229 L2093.68 162.229 L2093.68 126.21 Z\" fill=\"#000000\" fill-rule=\"evenodd\" fill-opacity=\"1\" /><path clip-path=\"url(#clip170)\" d=\"M2106.86 136.303 L2111.11 136.303 L2111.11 162.229 L2106.86 162.229 L2106.86 136.303 M2106.86 126.21 L2111.11 126.21 L2111.11 131.604 L2106.86 131.604 L2106.86 126.21 Z\" fill=\"#000000\" fill-rule=\"evenodd\" fill-opacity=\"1\" /><path clip-path=\"url(#clip170)\" d=\"M2124.24 128.942 L2124.24 136.303 L2133.01 136.303 L2133.01 139.613 L2124.24 139.613 L2124.24 153.687 Q2124.24 156.858 2125.1 157.761 Q2125.98 158.664 2128.64 158.664 L2133.01 158.664 L2133.01 162.229 L2128.64 162.229 Q2123.71 162.229 2121.83 160.4 Q2119.96 158.548 2119.96 153.687 L2119.96 139.613 L2116.83 139.613 L2116.83 136.303 L2119.96 136.303 L2119.96 128.942 L2124.24 128.942 Z\" fill=\"#000000\" fill-rule=\"evenodd\" fill-opacity=\"1\" /><path clip-path=\"url(#clip170)\" d=\"M2160.17 146.581 L2160.17 162.229 L2155.91 162.229 L2155.91 146.719 Q2155.91 143.039 2154.47 141.21 Q2153.04 139.382 2150.17 139.382 Q2146.72 139.382 2144.73 141.581 Q2142.74 143.78 2142.74 147.576 L2142.74 162.229 L2138.45 162.229 L2138.45 126.21 L2142.74 126.21 L2142.74 140.331 Q2144.26 137.993 2146.32 136.835 Q2148.41 135.678 2151.11 135.678 Q2155.58 135.678 2157.87 138.456 Q2160.17 141.21 2160.17 146.581 Z\" fill=\"#000000\" fill-rule=\"evenodd\" fill-opacity=\"1\" /><path clip-path=\"url(#clip170)\" d=\"M2168.66 136.303 L2172.92 136.303 L2172.92 162.229 L2168.66 162.229 L2168.66 136.303 M2168.66 126.21 L2172.92 126.21 L2172.92 131.604 L2168.66 131.604 L2168.66 126.21 Z\" fill=\"#000000\" fill-rule=\"evenodd\" fill-opacity=\"1\" /><path clip-path=\"url(#clip170)\" d=\"M2200.49 137.298 L2200.49 141.28 Q2198.68 140.284 2196.86 139.798 Q2195.05 139.289 2193.2 139.289 Q2189.05 139.289 2186.76 141.928 Q2184.47 144.544 2184.47 149.289 Q2184.47 154.034 2186.76 156.673 Q2189.05 159.289 2193.2 159.289 Q2195.05 159.289 2196.86 158.803 Q2198.68 158.293 2200.49 157.298 L2200.49 161.233 Q2198.71 162.067 2196.79 162.483 Q2194.89 162.9 2192.73 162.9 Q2186.88 162.9 2183.43 159.219 Q2179.98 155.539 2179.98 149.289 Q2179.98 142.946 2183.45 139.312 Q2186.95 135.678 2193.01 135.678 Q2194.98 135.678 2196.86 136.095 Q2198.73 136.488 2200.49 137.298 Z\" fill=\"#000000\" fill-rule=\"evenodd\" fill-opacity=\"1\" /><polyline clip-path=\"url(#clip170)\" style=\"stroke:#000000; stroke-linecap:round; stroke-linejoin:round; stroke-width:4; stroke-opacity:1; fill:none\" stroke-dasharray=\"16, 8, 2, 8\" points=\"1789.84,196.789 1935.08,196.789 \"/>\n",
       "<path clip-path=\"url(#clip170)\" d=\"M1840.05 174.375 L1840.05 219.202 L1884.87 219.202 L1884.87 174.375 L1840.05 174.375 Z\" fill=\"#000000\" fill-rule=\"evenodd\" fill-opacity=\"1\" stroke=\"none\"/>\n",
       "<path clip-path=\"url(#clip170)\" d=\"M1978.2 192.078 L1978.2 178.05 L1982.46 178.05 L1982.46 214.069 L1978.2 214.069 L1978.2 210.18 Q1976.86 212.495 1974.8 213.629 Q1972.76 214.74 1969.89 214.74 Q1965.19 214.74 1962.23 210.99 Q1959.29 207.24 1959.29 201.129 Q1959.29 195.018 1962.23 191.268 Q1965.19 187.518 1969.89 187.518 Q1972.76 187.518 1974.8 188.652 Q1976.86 189.763 1978.2 192.078 M1963.69 201.129 Q1963.69 205.828 1965.61 208.513 Q1967.55 211.175 1970.93 211.175 Q1974.31 211.175 1976.25 208.513 Q1978.2 205.828 1978.2 201.129 Q1978.2 196.43 1976.25 193.768 Q1974.31 191.083 1970.93 191.083 Q1967.55 191.083 1965.61 193.768 Q1963.69 196.43 1963.69 201.129 Z\" fill=\"#000000\" fill-rule=\"evenodd\" fill-opacity=\"1\" /><path clip-path=\"url(#clip170)\" d=\"M2013.41 200.041 L2013.41 202.124 L1993.82 202.124 Q1994.1 206.522 1996.46 208.837 Q1998.85 211.129 2003.08 211.129 Q2005.54 211.129 2007.83 210.527 Q2010.14 209.925 2012.41 208.721 L2012.41 212.749 Q2010.12 213.721 2007.71 214.231 Q2005.31 214.74 2002.83 214.74 Q1996.62 214.74 1992.99 211.129 Q1989.38 207.518 1989.38 201.36 Q1989.38 194.995 1992.81 191.268 Q1996.25 187.518 2002.09 187.518 Q2007.32 187.518 2010.35 190.897 Q2013.41 194.254 2013.41 200.041 M2009.15 198.791 Q2009.1 195.296 2007.18 193.212 Q2005.28 191.129 2002.13 191.129 Q1998.57 191.129 1996.42 193.143 Q1994.29 195.157 1993.96 198.814 L2009.15 198.791 Z\" fill=\"#000000\" fill-rule=\"evenodd\" fill-opacity=\"1\" /><path clip-path=\"url(#clip170)\" d=\"M2039.06 189.138 L2039.06 193.12 Q2037.25 192.124 2035.42 191.638 Q2033.62 191.129 2031.76 191.129 Q2027.62 191.129 2025.33 193.768 Q2023.04 196.384 2023.04 201.129 Q2023.04 205.874 2025.33 208.513 Q2027.62 211.129 2031.76 211.129 Q2033.62 211.129 2035.42 210.643 Q2037.25 210.133 2039.06 209.138 L2039.06 213.073 Q2037.27 213.907 2035.35 214.323 Q2033.45 214.74 2031.3 214.74 Q2025.44 214.74 2021.99 211.059 Q2018.55 207.379 2018.55 201.129 Q2018.55 194.786 2022.02 191.152 Q2025.51 187.518 2031.58 187.518 Q2033.55 187.518 2035.42 187.935 Q2037.3 188.328 2039.06 189.138 Z\" fill=\"#000000\" fill-rule=\"evenodd\" fill-opacity=\"1\" /><path clip-path=\"url(#clip170)\" d=\"M2056.51 191.129 Q2053.08 191.129 2051.09 193.814 Q2049.1 196.476 2049.1 201.129 Q2049.1 205.782 2051.07 208.467 Q2053.06 211.129 2056.51 211.129 Q2059.91 211.129 2061.9 208.444 Q2063.89 205.758 2063.89 201.129 Q2063.89 196.522 2061.9 193.837 Q2059.91 191.129 2056.51 191.129 M2056.51 187.518 Q2062.06 187.518 2065.24 191.129 Q2068.41 194.74 2068.41 201.129 Q2068.41 207.495 2065.24 211.129 Q2062.06 214.74 2056.51 214.74 Q2050.93 214.74 2047.76 211.129 Q2044.61 207.495 2044.61 201.129 Q2044.61 194.74 2047.76 191.129 Q2050.93 187.518 2056.51 187.518 Z\" fill=\"#000000\" fill-rule=\"evenodd\" fill-opacity=\"1\" /><path clip-path=\"url(#clip170)\" d=\"M2095.65 193.12 Q2097.25 190.249 2099.47 188.884 Q2101.69 187.518 2104.7 187.518 Q2108.75 187.518 2110.95 190.365 Q2113.15 193.189 2113.15 198.421 L2113.15 214.069 L2108.87 214.069 L2108.87 198.559 Q2108.87 194.833 2107.55 193.027 Q2106.23 191.222 2103.52 191.222 Q2100.21 191.222 2098.29 193.421 Q2096.37 195.62 2096.37 199.416 L2096.37 214.069 L2092.09 214.069 L2092.09 198.559 Q2092.09 194.809 2090.77 193.027 Q2089.45 191.222 2086.69 191.222 Q2083.43 191.222 2081.51 193.444 Q2079.59 195.643 2079.59 199.416 L2079.59 214.069 L2075.3 214.069 L2075.3 188.143 L2079.59 188.143 L2079.59 192.171 Q2081.05 189.786 2083.08 188.652 Q2085.12 187.518 2087.92 187.518 Q2090.74 187.518 2092.71 188.953 Q2094.7 190.388 2095.65 193.12 Z\" fill=\"#000000\" fill-rule=\"evenodd\" fill-opacity=\"1\" /><path clip-path=\"url(#clip170)\" d=\"M2125.77 210.18 L2125.77 223.93 L2121.49 223.93 L2121.49 188.143 L2125.77 188.143 L2125.77 192.078 Q2127.11 189.763 2129.15 188.652 Q2131.21 187.518 2134.05 187.518 Q2138.78 187.518 2141.72 191.268 Q2144.68 195.018 2144.68 201.129 Q2144.68 207.24 2141.72 210.99 Q2138.78 214.74 2134.05 214.74 Q2131.21 214.74 2129.15 213.629 Q2127.11 212.495 2125.77 210.18 M2140.26 201.129 Q2140.26 196.43 2138.31 193.768 Q2136.39 191.083 2133.01 191.083 Q2129.63 191.083 2127.69 193.768 Q2125.77 196.43 2125.77 201.129 Q2125.77 205.828 2127.69 208.513 Q2129.63 211.175 2133.01 211.175 Q2136.39 211.175 2138.31 208.513 Q2140.26 205.828 2140.26 201.129 Z\" fill=\"#000000\" fill-rule=\"evenodd\" fill-opacity=\"1\" /><path clip-path=\"url(#clip170)\" d=\"M2161.79 191.129 Q2158.36 191.129 2156.37 193.814 Q2154.38 196.476 2154.38 201.129 Q2154.38 205.782 2156.35 208.467 Q2158.34 211.129 2161.79 211.129 Q2165.19 211.129 2167.18 208.444 Q2169.17 205.758 2169.17 201.129 Q2169.17 196.522 2167.18 193.837 Q2165.19 191.129 2161.79 191.129 M2161.79 187.518 Q2167.34 187.518 2170.51 191.129 Q2173.68 194.74 2173.68 201.129 Q2173.68 207.495 2170.51 211.129 Q2167.34 214.74 2161.79 214.74 Q2156.21 214.74 2153.04 211.129 Q2149.89 207.495 2149.89 201.129 Q2149.89 194.74 2153.04 191.129 Q2156.21 187.518 2161.79 187.518 Z\" fill=\"#000000\" fill-rule=\"evenodd\" fill-opacity=\"1\" /><path clip-path=\"url(#clip170)\" d=\"M2197.27 188.907 L2197.27 192.934 Q2195.47 192.009 2193.52 191.546 Q2191.58 191.083 2189.49 191.083 Q2186.32 191.083 2184.73 192.055 Q2183.15 193.027 2183.15 194.971 Q2183.15 196.453 2184.29 197.309 Q2185.42 198.143 2188.85 198.907 L2190.3 199.231 Q2194.84 200.203 2196.74 201.985 Q2198.66 203.745 2198.66 206.916 Q2198.66 210.527 2195.79 212.633 Q2192.94 214.74 2187.94 214.74 Q2185.86 214.74 2183.59 214.323 Q2181.35 213.93 2178.85 213.12 L2178.85 208.721 Q2181.21 209.948 2183.5 210.573 Q2185.79 211.175 2188.04 211.175 Q2191.05 211.175 2192.67 210.157 Q2194.29 209.115 2194.29 207.24 Q2194.29 205.504 2193.11 204.578 Q2191.95 203.652 2187.99 202.796 L2186.51 202.448 Q2182.55 201.615 2180.79 199.902 Q2179.03 198.166 2179.03 195.157 Q2179.03 191.499 2181.62 189.509 Q2184.22 187.518 2188.98 187.518 Q2191.35 187.518 2193.43 187.865 Q2195.51 188.212 2197.27 188.907 Z\" fill=\"#000000\" fill-rule=\"evenodd\" fill-opacity=\"1\" /><path clip-path=\"url(#clip170)\" d=\"M2227.62 200.041 L2227.62 202.124 L2208.04 202.124 Q2208.31 206.522 2210.67 208.837 Q2213.06 211.129 2217.29 211.129 Q2219.75 211.129 2222.04 210.527 Q2224.36 209.925 2226.62 208.721 L2226.62 212.749 Q2224.33 213.721 2221.92 214.231 Q2219.52 214.74 2217.04 214.74 Q2210.84 214.74 2207.2 211.129 Q2203.59 207.518 2203.59 201.36 Q2203.59 194.995 2207.02 191.268 Q2210.47 187.518 2216.3 187.518 Q2221.53 187.518 2224.56 190.897 Q2227.62 194.254 2227.62 200.041 M2223.36 198.791 Q2223.31 195.296 2221.39 193.212 Q2219.49 191.129 2216.35 191.129 Q2212.78 191.129 2210.63 193.143 Q2208.5 195.157 2208.17 198.814 L2223.36 198.791 Z\" fill=\"#000000\" fill-rule=\"evenodd\" fill-opacity=\"1\" /><path clip-path=\"url(#clip170)\" d=\"M2251.67 192.078 L2251.67 178.05 L2255.93 178.05 L2255.93 214.069 L2251.67 214.069 L2251.67 210.18 Q2250.33 212.495 2248.27 213.629 Q2246.23 214.74 2243.36 214.74 Q2238.66 214.74 2235.7 210.99 Q2232.76 207.24 2232.76 201.129 Q2232.76 195.018 2235.7 191.268 Q2238.66 187.518 2243.36 187.518 Q2246.23 187.518 2248.27 188.652 Q2250.33 189.763 2251.67 192.078 M2237.16 201.129 Q2237.16 205.828 2239.08 208.513 Q2241.02 211.175 2244.4 211.175 Q2247.78 211.175 2249.73 208.513 Q2251.67 205.828 2251.67 201.129 Q2251.67 196.43 2249.73 193.768 Q2247.78 191.083 2244.4 191.083 Q2241.02 191.083 2239.08 193.768 Q2237.16 196.43 2237.16 201.129 Z\" fill=\"#000000\" fill-rule=\"evenodd\" fill-opacity=\"1\" /></svg>\n"
      ]
     },
     "metadata": {},
     "output_type": "display_data"
    }
   ],
   "source": [
    "# solution time (parallel)\n",
    "p1b = plot(1:nScenMax,solTimeTraj_s[1,:],\n",
    "    xlabel=\"# scenarios\", \n",
    "    ylabel=\"sol. time (max) [s]\",\n",
    "    marker=:circle, \n",
    "    markercolor = :black,\n",
    "    linecolor = :black,\n",
    "    label=\"monolithic\")\n",
    "\n",
    "p1b = plot!(1:nScenMax,solTimeMaxTraj_s,\n",
    "    marker=:square, \n",
    "    markercolor = :black,\n",
    "    linecolor = :black,\n",
    "    markersize = 3,\n",
    "    linestyle = :dashdot,\n",
    "    label=\"decomposed\",\n",
    "    gridlinewidth=2,\n",
    "    dpi=600)\n",
    "\n",
    "display(p1b)\n",
    "savefig(p1b,\"C:/Users/MACC-Jose/Documents/Canada/Papers/Benders Decomposition/Figures/C3_SolTimePar.pdf\");"
   ]
  },
  {
   "cell_type": "code",
   "execution_count": 17,
   "id": "bc6ab77a",
   "metadata": {},
   "outputs": [
    {
     "data": {
      "image/svg+xml": [
       "<?xml version=\"1.0\" encoding=\"utf-8\"?>\n",
       "<svg xmlns=\"http://www.w3.org/2000/svg\" xmlns:xlink=\"http://www.w3.org/1999/xlink\" width=\"600\" height=\"400\" viewBox=\"0 0 2400 1600\">\n",
       "<defs>\n",
       "  <clipPath id=\"clip220\">\n",
       "    <rect x=\"0\" y=\"0\" width=\"2400\" height=\"1600\"/>\n",
       "  </clipPath>\n",
       "</defs>\n",
       "<path clip-path=\"url(#clip220)\" d=\"M0 1600 L2400 1600 L2400 0 L0 0  Z\" fill=\"#ffffff\" fill-rule=\"evenodd\" fill-opacity=\"1\"/>\n",
       "<defs>\n",
       "  <clipPath id=\"clip221\">\n",
       "    <rect x=\"480\" y=\"0\" width=\"1681\" height=\"1600\"/>\n",
       "  </clipPath>\n",
       "</defs>\n",
       "<path clip-path=\"url(#clip220)\" d=\"M205.121 1423.18 L2352.76 1423.18 L2352.76 47.2441 L205.121 47.2441  Z\" fill=\"#ffffff\" fill-rule=\"evenodd\" fill-opacity=\"1\"/>\n",
       "<defs>\n",
       "  <clipPath id=\"clip222\">\n",
       "    <rect x=\"205\" y=\"47\" width=\"2149\" height=\"1377\"/>\n",
       "  </clipPath>\n",
       "</defs>\n",
       "<polyline clip-path=\"url(#clip222)\" style=\"stroke:#000000; stroke-linecap:round; stroke-linejoin:round; stroke-width:2; stroke-opacity:0.1; fill:none\" points=\"224.555,1423.18 224.555,47.2441 \"/>\n",
       "<polyline clip-path=\"url(#clip222)\" style=\"stroke:#000000; stroke-linecap:round; stroke-linejoin:round; stroke-width:2; stroke-opacity:0.1; fill:none\" points=\"638.039,1423.18 638.039,47.2441 \"/>\n",
       "<polyline clip-path=\"url(#clip222)\" style=\"stroke:#000000; stroke-linecap:round; stroke-linejoin:round; stroke-width:2; stroke-opacity:0.1; fill:none\" points=\"1051.52,1423.18 1051.52,47.2441 \"/>\n",
       "<polyline clip-path=\"url(#clip222)\" style=\"stroke:#000000; stroke-linecap:round; stroke-linejoin:round; stroke-width:2; stroke-opacity:0.1; fill:none\" points=\"1465.01,1423.18 1465.01,47.2441 \"/>\n",
       "<polyline clip-path=\"url(#clip222)\" style=\"stroke:#000000; stroke-linecap:round; stroke-linejoin:round; stroke-width:2; stroke-opacity:0.1; fill:none\" points=\"1878.49,1423.18 1878.49,47.2441 \"/>\n",
       "<polyline clip-path=\"url(#clip222)\" style=\"stroke:#000000; stroke-linecap:round; stroke-linejoin:round; stroke-width:2; stroke-opacity:0.1; fill:none\" points=\"2291.97,1423.18 2291.97,47.2441 \"/>\n",
       "<polyline clip-path=\"url(#clip220)\" style=\"stroke:#000000; stroke-linecap:round; stroke-linejoin:round; stroke-width:4; stroke-opacity:1; fill:none\" points=\"205.121,1423.18 2352.76,1423.18 \"/>\n",
       "<polyline clip-path=\"url(#clip220)\" style=\"stroke:#000000; stroke-linecap:round; stroke-linejoin:round; stroke-width:4; stroke-opacity:1; fill:none\" points=\"224.555,1423.18 224.555,1404.28 \"/>\n",
       "<polyline clip-path=\"url(#clip220)\" style=\"stroke:#000000; stroke-linecap:round; stroke-linejoin:round; stroke-width:4; stroke-opacity:1; fill:none\" points=\"638.039,1423.18 638.039,1404.28 \"/>\n",
       "<polyline clip-path=\"url(#clip220)\" style=\"stroke:#000000; stroke-linecap:round; stroke-linejoin:round; stroke-width:4; stroke-opacity:1; fill:none\" points=\"1051.52,1423.18 1051.52,1404.28 \"/>\n",
       "<polyline clip-path=\"url(#clip220)\" style=\"stroke:#000000; stroke-linecap:round; stroke-linejoin:round; stroke-width:4; stroke-opacity:1; fill:none\" points=\"1465.01,1423.18 1465.01,1404.28 \"/>\n",
       "<polyline clip-path=\"url(#clip220)\" style=\"stroke:#000000; stroke-linecap:round; stroke-linejoin:round; stroke-width:4; stroke-opacity:1; fill:none\" points=\"1878.49,1423.18 1878.49,1404.28 \"/>\n",
       "<polyline clip-path=\"url(#clip220)\" style=\"stroke:#000000; stroke-linecap:round; stroke-linejoin:round; stroke-width:4; stroke-opacity:1; fill:none\" points=\"2291.97,1423.18 2291.97,1404.28 \"/>\n",
       "<path clip-path=\"url(#clip220)\" d=\"M224.555 1454.1 Q220.944 1454.1 219.115 1457.66 Q217.309 1461.2 217.309 1468.33 Q217.309 1475.44 219.115 1479.01 Q220.944 1482.55 224.555 1482.55 Q228.189 1482.55 229.994 1479.01 Q231.823 1475.44 231.823 1468.33 Q231.823 1461.2 229.994 1457.66 Q228.189 1454.1 224.555 1454.1 M224.555 1450.39 Q230.365 1450.39 233.42 1455 Q236.499 1459.58 236.499 1468.33 Q236.499 1477.06 233.42 1481.67 Q230.365 1486.25 224.555 1486.25 Q218.745 1486.25 215.666 1481.67 Q212.61 1477.06 212.61 1468.33 Q212.61 1459.58 215.666 1455 Q218.745 1450.39 224.555 1450.39 Z\" fill=\"#000000\" fill-rule=\"evenodd\" fill-opacity=\"1\" /><path clip-path=\"url(#clip220)\" d=\"M612.726 1481.64 L620.365 1481.64 L620.365 1455.28 L612.055 1456.95 L612.055 1452.69 L620.319 1451.02 L624.995 1451.02 L624.995 1481.64 L632.633 1481.64 L632.633 1485.58 L612.726 1485.58 L612.726 1481.64 Z\" fill=\"#000000\" fill-rule=\"evenodd\" fill-opacity=\"1\" /><path clip-path=\"url(#clip220)\" d=\"M652.078 1454.1 Q648.467 1454.1 646.638 1457.66 Q644.832 1461.2 644.832 1468.33 Q644.832 1475.44 646.638 1479.01 Q648.467 1482.55 652.078 1482.55 Q655.712 1482.55 657.518 1479.01 Q659.346 1475.44 659.346 1468.33 Q659.346 1461.2 657.518 1457.66 Q655.712 1454.1 652.078 1454.1 M652.078 1450.39 Q657.888 1450.39 660.943 1455 Q664.022 1459.58 664.022 1468.33 Q664.022 1477.06 660.943 1481.67 Q657.888 1486.25 652.078 1486.25 Q646.268 1486.25 643.189 1481.67 Q640.133 1477.06 640.133 1468.33 Q640.133 1459.58 643.189 1455 Q646.268 1450.39 652.078 1450.39 Z\" fill=\"#000000\" fill-rule=\"evenodd\" fill-opacity=\"1\" /><path clip-path=\"url(#clip220)\" d=\"M1030.3 1481.64 L1046.61 1481.64 L1046.61 1485.58 L1024.67 1485.58 L1024.67 1481.64 Q1027.33 1478.89 1031.92 1474.26 Q1036.52 1469.61 1037.7 1468.27 Q1039.95 1465.74 1040.83 1464.01 Q1041.73 1462.25 1041.73 1460.56 Q1041.73 1457.8 1039.79 1456.07 Q1037.87 1454.33 1034.76 1454.33 Q1032.56 1454.33 1030.11 1455.09 Q1027.68 1455.86 1024.9 1457.41 L1024.9 1452.69 Q1027.73 1451.55 1030.18 1450.97 Q1032.63 1450.39 1034.67 1450.39 Q1040.04 1450.39 1043.24 1453.08 Q1046.43 1455.77 1046.43 1460.26 Q1046.43 1462.39 1045.62 1464.31 Q1044.83 1466.2 1042.73 1468.8 Q1042.15 1469.47 1039.05 1472.69 Q1035.94 1475.88 1030.3 1481.64 Z\" fill=\"#000000\" fill-rule=\"evenodd\" fill-opacity=\"1\" /><path clip-path=\"url(#clip220)\" d=\"M1066.43 1454.1 Q1062.82 1454.1 1060.99 1457.66 Q1059.18 1461.2 1059.18 1468.33 Q1059.18 1475.44 1060.99 1479.01 Q1062.82 1482.55 1066.43 1482.55 Q1070.06 1482.55 1071.87 1479.01 Q1073.7 1475.44 1073.7 1468.33 Q1073.7 1461.2 1071.87 1457.66 Q1070.06 1454.1 1066.43 1454.1 M1066.43 1450.39 Q1072.24 1450.39 1075.3 1455 Q1078.37 1459.58 1078.37 1468.33 Q1078.37 1477.06 1075.3 1481.67 Q1072.24 1486.25 1066.43 1486.25 Q1060.62 1486.25 1057.54 1481.67 Q1054.49 1477.06 1054.49 1468.33 Q1054.49 1459.58 1057.54 1455 Q1060.62 1450.39 1066.43 1450.39 Z\" fill=\"#000000\" fill-rule=\"evenodd\" fill-opacity=\"1\" /><path clip-path=\"url(#clip220)\" d=\"M1453.85 1466.95 Q1457.21 1467.66 1459.08 1469.93 Q1460.98 1472.2 1460.98 1475.53 Q1460.98 1480.65 1457.46 1483.45 Q1453.94 1486.25 1447.46 1486.25 Q1445.28 1486.25 1442.97 1485.81 Q1440.68 1485.39 1438.22 1484.54 L1438.22 1480.02 Q1440.17 1481.16 1442.48 1481.74 Q1444.8 1482.32 1447.32 1482.32 Q1451.72 1482.32 1454.01 1480.58 Q1456.33 1478.84 1456.33 1475.53 Q1456.33 1472.48 1454.17 1470.77 Q1452.04 1469.03 1448.22 1469.03 L1444.2 1469.03 L1444.2 1465.19 L1448.41 1465.19 Q1451.86 1465.19 1453.69 1463.82 Q1455.52 1462.43 1455.52 1459.84 Q1455.52 1457.18 1453.62 1455.77 Q1451.74 1454.33 1448.22 1454.33 Q1446.3 1454.33 1444.1 1454.75 Q1441.9 1455.16 1439.27 1456.04 L1439.27 1451.88 Q1441.93 1451.14 1444.24 1450.77 Q1446.58 1450.39 1448.64 1450.39 Q1453.96 1450.39 1457.07 1452.83 Q1460.17 1455.23 1460.17 1459.35 Q1460.17 1462.22 1458.52 1464.21 Q1456.88 1466.18 1453.85 1466.95 Z\" fill=\"#000000\" fill-rule=\"evenodd\" fill-opacity=\"1\" /><path clip-path=\"url(#clip220)\" d=\"M1479.84 1454.1 Q1476.23 1454.1 1474.4 1457.66 Q1472.6 1461.2 1472.6 1468.33 Q1472.6 1475.44 1474.4 1479.01 Q1476.23 1482.55 1479.84 1482.55 Q1483.48 1482.55 1485.28 1479.01 Q1487.11 1475.44 1487.11 1468.33 Q1487.11 1461.2 1485.28 1457.66 Q1483.48 1454.1 1479.84 1454.1 M1479.84 1450.39 Q1485.65 1450.39 1488.71 1455 Q1491.79 1459.58 1491.79 1468.33 Q1491.79 1477.06 1488.71 1481.67 Q1485.65 1486.25 1479.84 1486.25 Q1474.03 1486.25 1470.96 1481.67 Q1467.9 1477.06 1467.9 1468.33 Q1467.9 1459.58 1470.96 1455 Q1474.03 1450.39 1479.84 1450.39 Z\" fill=\"#000000\" fill-rule=\"evenodd\" fill-opacity=\"1\" /><path clip-path=\"url(#clip220)\" d=\"M1866.66 1455.09 L1854.86 1473.54 L1866.66 1473.54 L1866.66 1455.09 M1865.43 1451.02 L1871.31 1451.02 L1871.31 1473.54 L1876.24 1473.54 L1876.24 1477.43 L1871.31 1477.43 L1871.31 1485.58 L1866.66 1485.58 L1866.66 1477.43 L1851.06 1477.43 L1851.06 1472.92 L1865.43 1451.02 Z\" fill=\"#000000\" fill-rule=\"evenodd\" fill-opacity=\"1\" /><path clip-path=\"url(#clip220)\" d=\"M1893.98 1454.1 Q1890.36 1454.1 1888.54 1457.66 Q1886.73 1461.2 1886.73 1468.33 Q1886.73 1475.44 1888.54 1479.01 Q1890.36 1482.55 1893.98 1482.55 Q1897.61 1482.55 1899.42 1479.01 Q1901.24 1475.44 1901.24 1468.33 Q1901.24 1461.2 1899.42 1457.66 Q1897.61 1454.1 1893.98 1454.1 M1893.98 1450.39 Q1899.79 1450.39 1902.84 1455 Q1905.92 1459.58 1905.92 1468.33 Q1905.92 1477.06 1902.84 1481.67 Q1899.79 1486.25 1893.98 1486.25 Q1888.17 1486.25 1885.09 1481.67 Q1882.03 1477.06 1882.03 1468.33 Q1882.03 1459.58 1885.09 1455 Q1888.17 1450.39 1893.98 1450.39 Z\" fill=\"#000000\" fill-rule=\"evenodd\" fill-opacity=\"1\" /><path clip-path=\"url(#clip220)\" d=\"M2266.67 1451.02 L2285.03 1451.02 L2285.03 1454.96 L2270.96 1454.96 L2270.96 1463.43 Q2271.97 1463.08 2272.99 1462.92 Q2274.01 1462.73 2275.03 1462.73 Q2280.82 1462.73 2284.2 1465.9 Q2287.58 1469.08 2287.58 1474.49 Q2287.58 1480.07 2284.1 1483.17 Q2280.63 1486.25 2274.31 1486.25 Q2272.14 1486.25 2269.87 1485.88 Q2267.62 1485.51 2265.21 1484.77 L2265.21 1480.07 Q2267.3 1481.2 2269.52 1481.76 Q2271.74 1482.32 2274.22 1482.32 Q2278.22 1482.32 2280.56 1480.21 Q2282.9 1478.1 2282.9 1474.49 Q2282.9 1470.88 2280.56 1468.77 Q2278.22 1466.67 2274.22 1466.67 Q2272.34 1466.67 2270.47 1467.08 Q2268.62 1467.5 2266.67 1468.38 L2266.67 1451.02 Z\" fill=\"#000000\" fill-rule=\"evenodd\" fill-opacity=\"1\" /><path clip-path=\"url(#clip220)\" d=\"M2306.79 1454.1 Q2303.18 1454.1 2301.35 1457.66 Q2299.54 1461.2 2299.54 1468.33 Q2299.54 1475.44 2301.35 1479.01 Q2303.18 1482.55 2306.79 1482.55 Q2310.42 1482.55 2312.23 1479.01 Q2314.06 1475.44 2314.06 1468.33 Q2314.06 1461.2 2312.23 1457.66 Q2310.42 1454.1 2306.79 1454.1 M2306.79 1450.39 Q2312.6 1450.39 2315.65 1455 Q2318.73 1459.58 2318.73 1468.33 Q2318.73 1477.06 2315.65 1481.67 Q2312.6 1486.25 2306.79 1486.25 Q2300.98 1486.25 2297.9 1481.67 Q2294.84 1477.06 2294.84 1468.33 Q2294.84 1459.58 2297.9 1455 Q2300.98 1450.39 2306.79 1450.39 Z\" fill=\"#000000\" fill-rule=\"evenodd\" fill-opacity=\"1\" /><path clip-path=\"url(#clip220)\" d=\"M1118.71 1539.37 L1109.45 1539.37 L1106.78 1550 L1116.1 1550 L1118.71 1539.37 M1113.94 1521.26 L1110.63 1534.46 L1119.92 1534.46 L1123.27 1521.26 L1128.36 1521.26 L1125.08 1534.46 L1135.01 1534.46 L1135.01 1539.37 L1123.84 1539.37 L1121.23 1550 L1131.35 1550 L1131.35 1554.87 L1119.99 1554.87 L1116.68 1568.04 L1111.58 1568.04 L1114.86 1554.87 L1105.54 1554.87 L1102.26 1568.04 L1097.13 1568.04 L1100.44 1554.87 L1090.42 1554.87 L1090.42 1550 L1101.62 1550 L1104.3 1539.37 L1094.05 1539.37 L1094.05 1534.46 L1105.54 1534.46 L1108.78 1521.26 L1113.94 1521.26 Z\" fill=\"#000000\" fill-rule=\"evenodd\" fill-opacity=\"1\" /><path clip-path=\"url(#clip220)\" d=\"M1189.6 1533.45 L1189.6 1538.98 Q1187.11 1537.71 1184.44 1537.07 Q1181.77 1536.44 1178.9 1536.44 Q1174.54 1536.44 1172.34 1537.77 Q1170.18 1539.11 1170.18 1541.79 Q1170.18 1543.82 1171.74 1545 Q1173.3 1546.15 1178.01 1547.2 L1180.02 1547.64 Q1186.25 1548.98 1188.86 1551.43 Q1191.51 1553.85 1191.51 1558.21 Q1191.51 1563.17 1187.56 1566.07 Q1183.64 1568.97 1176.77 1568.97 Q1173.9 1568.97 1170.79 1568.39 Q1167.7 1567.85 1164.26 1566.74 L1164.26 1560.69 Q1167.51 1562.38 1170.66 1563.24 Q1173.81 1564.07 1176.9 1564.07 Q1181.03 1564.07 1183.26 1562.66 Q1185.49 1561.23 1185.49 1558.65 Q1185.49 1556.27 1183.87 1554.99 Q1182.28 1553.72 1176.83 1552.54 L1174.8 1552.07 Q1169.35 1550.92 1166.93 1548.56 Q1164.51 1546.18 1164.51 1542.04 Q1164.51 1537.01 1168.08 1534.27 Q1171.64 1531.54 1178.2 1531.54 Q1181.45 1531.54 1184.31 1532.01 Q1187.18 1532.49 1189.6 1533.45 Z\" fill=\"#000000\" fill-rule=\"evenodd\" fill-opacity=\"1\" /><path clip-path=\"url(#clip220)\" d=\"M1226.49 1533.76 L1226.49 1539.24 Q1224 1537.87 1221.49 1537.2 Q1219.01 1536.5 1216.46 1536.5 Q1210.76 1536.5 1207.61 1540.13 Q1204.46 1543.73 1204.46 1550.25 Q1204.46 1556.78 1207.61 1560.4 Q1210.76 1564 1216.46 1564 Q1219.01 1564 1221.49 1563.33 Q1224 1562.63 1226.49 1561.26 L1226.49 1566.68 Q1224.03 1567.82 1221.39 1568.39 Q1218.78 1568.97 1215.82 1568.97 Q1207.77 1568.97 1203.03 1563.91 Q1198.28 1558.85 1198.28 1550.25 Q1198.28 1541.53 1203.06 1536.53 Q1207.87 1531.54 1216.2 1531.54 Q1218.91 1531.54 1221.49 1532.11 Q1224.07 1532.65 1226.49 1533.76 Z\" fill=\"#000000\" fill-rule=\"evenodd\" fill-opacity=\"1\" /><path clip-path=\"url(#clip220)\" d=\"M1267.16 1548.76 L1267.16 1551.62 L1240.23 1551.62 Q1240.62 1557.67 1243.86 1560.85 Q1247.14 1564 1252.97 1564 Q1256.34 1564 1259.49 1563.17 Q1262.67 1562.35 1265.79 1560.69 L1265.79 1566.23 Q1262.64 1567.57 1259.33 1568.27 Q1256.02 1568.97 1252.62 1568.97 Q1244.09 1568.97 1239.09 1564 Q1234.12 1559.04 1234.12 1550.57 Q1234.12 1541.82 1238.83 1536.69 Q1243.58 1531.54 1251.6 1531.54 Q1258.79 1531.54 1262.96 1536.18 Q1267.16 1540.8 1267.16 1548.76 M1261.31 1547.04 Q1261.24 1542.23 1258.6 1539.37 Q1255.99 1536.5 1251.66 1536.5 Q1246.76 1536.5 1243.8 1539.27 Q1240.87 1542.04 1240.43 1547.07 L1261.31 1547.04 Z\" fill=\"#000000\" fill-rule=\"evenodd\" fill-opacity=\"1\" /><path clip-path=\"url(#clip220)\" d=\"M1306.41 1546.53 L1306.41 1568.04 L1300.55 1568.04 L1300.55 1546.72 Q1300.55 1541.66 1298.58 1539.14 Q1296.6 1536.63 1292.66 1536.63 Q1287.91 1536.63 1285.18 1539.65 Q1282.44 1542.68 1282.44 1547.9 L1282.44 1568.04 L1276.55 1568.04 L1276.55 1532.4 L1282.44 1532.4 L1282.44 1537.93 Q1284.54 1534.72 1287.37 1533.13 Q1290.24 1531.54 1293.96 1531.54 Q1300.1 1531.54 1303.26 1535.36 Q1306.41 1539.14 1306.41 1546.53 Z\" fill=\"#000000\" fill-rule=\"evenodd\" fill-opacity=\"1\" /><path clip-path=\"url(#clip220)\" d=\"M1334.29 1550.12 Q1327.19 1550.12 1324.45 1551.75 Q1321.72 1553.37 1321.72 1557.29 Q1321.72 1560.4 1323.75 1562.25 Q1325.82 1564.07 1329.35 1564.07 Q1334.22 1564.07 1337.15 1560.63 Q1340.11 1557.16 1340.11 1551.43 L1340.11 1550.12 L1334.29 1550.12 M1345.97 1547.71 L1345.97 1568.04 L1340.11 1568.04 L1340.11 1562.63 Q1338.11 1565.88 1335.12 1567.44 Q1332.12 1568.97 1327.8 1568.97 Q1322.32 1568.97 1319.07 1565.91 Q1315.86 1562.82 1315.86 1557.67 Q1315.86 1551.65 1319.87 1548.6 Q1323.91 1545.54 1331.9 1545.54 L1340.11 1545.54 L1340.11 1544.97 Q1340.11 1540.93 1337.44 1538.73 Q1334.8 1536.5 1329.99 1536.5 Q1326.94 1536.5 1324.04 1537.23 Q1321.14 1537.97 1318.47 1539.43 L1318.47 1534.02 Q1321.68 1532.78 1324.71 1532.17 Q1327.73 1531.54 1330.6 1531.54 Q1338.33 1531.54 1342.15 1535.55 Q1345.97 1539.56 1345.97 1547.71 Z\" fill=\"#000000\" fill-rule=\"evenodd\" fill-opacity=\"1\" /><path clip-path=\"url(#clip220)\" d=\"M1378.69 1537.87 Q1377.7 1537.3 1376.52 1537.04 Q1375.38 1536.76 1373.98 1536.76 Q1369.01 1536.76 1366.34 1540 Q1363.7 1543.22 1363.7 1549.27 L1363.7 1568.04 L1357.81 1568.04 L1357.81 1532.4 L1363.7 1532.4 L1363.7 1537.93 Q1365.54 1534.69 1368.5 1533.13 Q1371.46 1531.54 1375.7 1531.54 Q1376.3 1531.54 1377.03 1531.63 Q1377.77 1531.7 1378.66 1531.85 L1378.69 1537.87 Z\" fill=\"#000000\" fill-rule=\"evenodd\" fill-opacity=\"1\" /><path clip-path=\"url(#clip220)\" d=\"M1384.83 1532.4 L1390.69 1532.4 L1390.69 1568.04 L1384.83 1568.04 L1384.83 1532.4 M1384.83 1518.52 L1390.69 1518.52 L1390.69 1525.93 L1384.83 1525.93 L1384.83 1518.52 Z\" fill=\"#000000\" fill-rule=\"evenodd\" fill-opacity=\"1\" /><path clip-path=\"url(#clip220)\" d=\"M1416.76 1536.5 Q1412.05 1536.5 1409.31 1540.19 Q1406.57 1543.85 1406.57 1550.25 Q1406.57 1556.65 1409.28 1560.34 Q1412.01 1564 1416.76 1564 Q1421.43 1564 1424.17 1560.31 Q1426.91 1556.62 1426.91 1550.25 Q1426.91 1543.92 1424.17 1540.23 Q1421.43 1536.5 1416.76 1536.5 M1416.76 1531.54 Q1424.39 1531.54 1428.76 1536.5 Q1433.12 1541.47 1433.12 1550.25 Q1433.12 1559 1428.76 1564 Q1424.39 1568.97 1416.76 1568.97 Q1409.09 1568.97 1404.72 1564 Q1400.4 1559 1400.4 1550.25 Q1400.4 1541.47 1404.72 1536.5 Q1409.09 1531.54 1416.76 1531.54 Z\" fill=\"#000000\" fill-rule=\"evenodd\" fill-opacity=\"1\" /><path clip-path=\"url(#clip220)\" d=\"M1465.55 1533.45 L1465.55 1538.98 Q1463.07 1537.71 1460.39 1537.07 Q1457.72 1536.44 1454.85 1536.44 Q1450.49 1536.44 1448.3 1537.77 Q1446.13 1539.11 1446.13 1541.79 Q1446.13 1543.82 1447.69 1545 Q1449.25 1546.15 1453.96 1547.2 L1455.97 1547.64 Q1462.21 1548.98 1464.82 1551.43 Q1467.46 1553.85 1467.46 1558.21 Q1467.46 1563.17 1463.51 1566.07 Q1459.6 1568.97 1452.72 1568.97 Q1449.86 1568.97 1446.74 1568.39 Q1443.65 1567.85 1440.21 1566.74 L1440.21 1560.69 Q1443.46 1562.38 1446.61 1563.24 Q1449.76 1564.07 1452.85 1564.07 Q1456.99 1564.07 1459.22 1562.66 Q1461.44 1561.23 1461.44 1558.65 Q1461.44 1556.27 1459.82 1554.99 Q1458.23 1553.72 1452.79 1552.54 L1450.75 1552.07 Q1445.31 1550.92 1442.89 1548.56 Q1440.47 1546.18 1440.47 1542.04 Q1440.47 1537.01 1444.03 1534.27 Q1447.6 1531.54 1454.15 1531.54 Q1457.4 1531.54 1460.27 1532.01 Q1463.13 1532.49 1465.55 1533.45 Z\" fill=\"#000000\" fill-rule=\"evenodd\" fill-opacity=\"1\" /><polyline clip-path=\"url(#clip222)\" style=\"stroke:#000000; stroke-linecap:round; stroke-linejoin:round; stroke-width:2; stroke-opacity:0.1; fill:none\" points=\"205.121,1361.51 2352.76,1361.51 \"/>\n",
       "<polyline clip-path=\"url(#clip222)\" style=\"stroke:#000000; stroke-linecap:round; stroke-linejoin:round; stroke-width:2; stroke-opacity:0.1; fill:none\" points=\"205.121,1130.06 2352.76,1130.06 \"/>\n",
       "<polyline clip-path=\"url(#clip222)\" style=\"stroke:#000000; stroke-linecap:round; stroke-linejoin:round; stroke-width:2; stroke-opacity:0.1; fill:none\" points=\"205.121,898.62 2352.76,898.62 \"/>\n",
       "<polyline clip-path=\"url(#clip222)\" style=\"stroke:#000000; stroke-linecap:round; stroke-linejoin:round; stroke-width:2; stroke-opacity:0.1; fill:none\" points=\"205.121,667.177 2352.76,667.177 \"/>\n",
       "<polyline clip-path=\"url(#clip222)\" style=\"stroke:#000000; stroke-linecap:round; stroke-linejoin:round; stroke-width:2; stroke-opacity:0.1; fill:none\" points=\"205.121,435.734 2352.76,435.734 \"/>\n",
       "<polyline clip-path=\"url(#clip222)\" style=\"stroke:#000000; stroke-linecap:round; stroke-linejoin:round; stroke-width:2; stroke-opacity:0.1; fill:none\" points=\"205.121,204.291 2352.76,204.291 \"/>\n",
       "<polyline clip-path=\"url(#clip220)\" style=\"stroke:#000000; stroke-linecap:round; stroke-linejoin:round; stroke-width:4; stroke-opacity:1; fill:none\" points=\"205.121,1423.18 205.121,47.2441 \"/>\n",
       "<polyline clip-path=\"url(#clip220)\" style=\"stroke:#000000; stroke-linecap:round; stroke-linejoin:round; stroke-width:4; stroke-opacity:1; fill:none\" points=\"205.121,1361.51 224.019,1361.51 \"/>\n",
       "<polyline clip-path=\"url(#clip220)\" style=\"stroke:#000000; stroke-linecap:round; stroke-linejoin:round; stroke-width:4; stroke-opacity:1; fill:none\" points=\"205.121,1130.06 224.019,1130.06 \"/>\n",
       "<polyline clip-path=\"url(#clip220)\" style=\"stroke:#000000; stroke-linecap:round; stroke-linejoin:round; stroke-width:4; stroke-opacity:1; fill:none\" points=\"205.121,898.62 224.019,898.62 \"/>\n",
       "<polyline clip-path=\"url(#clip220)\" style=\"stroke:#000000; stroke-linecap:round; stroke-linejoin:round; stroke-width:4; stroke-opacity:1; fill:none\" points=\"205.121,667.177 224.019,667.177 \"/>\n",
       "<polyline clip-path=\"url(#clip220)\" style=\"stroke:#000000; stroke-linecap:round; stroke-linejoin:round; stroke-width:4; stroke-opacity:1; fill:none\" points=\"205.121,435.734 224.019,435.734 \"/>\n",
       "<polyline clip-path=\"url(#clip220)\" style=\"stroke:#000000; stroke-linecap:round; stroke-linejoin:round; stroke-width:4; stroke-opacity:1; fill:none\" points=\"205.121,204.291 224.019,204.291 \"/>\n",
       "<path clip-path=\"url(#clip220)\" d=\"M157.177 1347.31 Q153.566 1347.31 151.737 1350.87 Q149.931 1354.41 149.931 1361.54 Q149.931 1368.65 151.737 1372.21 Q153.566 1375.75 157.177 1375.75 Q160.811 1375.75 162.616 1372.21 Q164.445 1368.65 164.445 1361.54 Q164.445 1354.41 162.616 1350.87 Q160.811 1347.31 157.177 1347.31 M157.177 1343.6 Q162.987 1343.6 166.042 1348.21 Q169.121 1352.79 169.121 1361.54 Q169.121 1370.27 166.042 1374.87 Q162.987 1379.46 157.177 1379.46 Q151.366 1379.46 148.288 1374.87 Q145.232 1370.27 145.232 1361.54 Q145.232 1352.79 148.288 1348.21 Q151.366 1343.6 157.177 1343.6 Z\" fill=\"#000000\" fill-rule=\"evenodd\" fill-opacity=\"1\" /><path clip-path=\"url(#clip220)\" d=\"M117.825 1143.41 L125.464 1143.41 L125.464 1117.04 L117.154 1118.71 L117.154 1114.45 L125.418 1112.78 L130.093 1112.78 L130.093 1143.41 L137.732 1143.41 L137.732 1147.34 L117.825 1147.34 L117.825 1143.41 Z\" fill=\"#000000\" fill-rule=\"evenodd\" fill-opacity=\"1\" /><path clip-path=\"url(#clip220)\" d=\"M157.177 1115.86 Q153.566 1115.86 151.737 1119.43 Q149.931 1122.97 149.931 1130.1 Q149.931 1137.2 151.737 1140.77 Q153.566 1144.31 157.177 1144.31 Q160.811 1144.31 162.616 1140.77 Q164.445 1137.2 164.445 1130.1 Q164.445 1122.97 162.616 1119.43 Q160.811 1115.86 157.177 1115.86 M157.177 1112.16 Q162.987 1112.16 166.042 1116.76 Q169.121 1121.35 169.121 1130.1 Q169.121 1138.82 166.042 1143.43 Q162.987 1148.01 157.177 1148.01 Q151.366 1148.01 148.288 1143.43 Q145.232 1138.82 145.232 1130.1 Q145.232 1121.35 148.288 1116.76 Q151.366 1112.16 157.177 1112.16 Z\" fill=\"#000000\" fill-rule=\"evenodd\" fill-opacity=\"1\" /><path clip-path=\"url(#clip220)\" d=\"M121.043 911.965 L137.362 911.965 L137.362 915.9 L115.418 915.9 L115.418 911.965 Q118.08 909.211 122.663 904.581 Q127.269 899.928 128.45 898.586 Q130.695 896.063 131.575 894.326 Q132.478 892.567 132.478 890.877 Q132.478 888.123 130.533 886.387 Q128.612 884.651 125.51 884.651 Q123.311 884.651 120.857 885.414 Q118.427 886.178 115.649 887.729 L115.649 883.007 Q118.473 881.873 120.927 881.294 Q123.38 880.715 125.418 880.715 Q130.788 880.715 133.982 883.401 Q137.177 886.086 137.177 890.576 Q137.177 892.706 136.367 894.627 Q135.579 896.525 133.473 899.118 Q132.894 899.789 129.792 903.007 Q126.691 906.201 121.043 911.965 Z\" fill=\"#000000\" fill-rule=\"evenodd\" fill-opacity=\"1\" /><path clip-path=\"url(#clip220)\" d=\"M157.177 884.419 Q153.566 884.419 151.737 887.984 Q149.931 891.526 149.931 898.655 Q149.931 905.762 151.737 909.326 Q153.566 912.868 157.177 912.868 Q160.811 912.868 162.616 909.326 Q164.445 905.762 164.445 898.655 Q164.445 891.526 162.616 887.984 Q160.811 884.419 157.177 884.419 M157.177 880.715 Q162.987 880.715 166.042 885.322 Q169.121 889.905 169.121 898.655 Q169.121 907.382 166.042 911.988 Q162.987 916.572 157.177 916.572 Q151.366 916.572 148.288 911.988 Q145.232 907.382 145.232 898.655 Q145.232 889.905 148.288 885.322 Q151.366 880.715 157.177 880.715 Z\" fill=\"#000000\" fill-rule=\"evenodd\" fill-opacity=\"1\" /><path clip-path=\"url(#clip220)\" d=\"M131.181 665.823 Q134.538 666.541 136.413 668.809 Q138.311 671.078 138.311 674.411 Q138.311 679.527 134.792 682.328 Q131.274 685.129 124.793 685.129 Q122.617 685.129 120.302 684.689 Q118.01 684.272 115.556 683.416 L115.556 678.902 Q117.501 680.036 119.816 680.615 Q122.13 681.193 124.654 681.193 Q129.052 681.193 131.343 679.457 Q133.658 677.721 133.658 674.411 Q133.658 671.356 131.505 669.643 Q129.376 667.906 125.556 667.906 L121.529 667.906 L121.529 664.064 L125.742 664.064 Q129.191 664.064 131.019 662.698 Q132.848 661.309 132.848 658.717 Q132.848 656.055 130.95 654.643 Q129.075 653.207 125.556 653.207 Q123.635 653.207 121.436 653.624 Q119.237 654.041 116.598 654.92 L116.598 650.754 Q119.26 650.013 121.575 649.643 Q123.913 649.272 125.973 649.272 Q131.297 649.272 134.399 651.703 Q137.501 654.11 137.501 658.231 Q137.501 661.101 135.857 663.092 Q134.214 665.059 131.181 665.823 Z\" fill=\"#000000\" fill-rule=\"evenodd\" fill-opacity=\"1\" /><path clip-path=\"url(#clip220)\" d=\"M157.177 652.976 Q153.566 652.976 151.737 656.541 Q149.931 660.082 149.931 667.212 Q149.931 674.318 151.737 677.883 Q153.566 681.425 157.177 681.425 Q160.811 681.425 162.616 677.883 Q164.445 674.318 164.445 667.212 Q164.445 660.082 162.616 656.541 Q160.811 652.976 157.177 652.976 M157.177 649.272 Q162.987 649.272 166.042 653.879 Q169.121 658.462 169.121 667.212 Q169.121 675.939 166.042 680.545 Q162.987 685.129 157.177 685.129 Q151.366 685.129 148.288 680.545 Q145.232 675.939 145.232 667.212 Q145.232 658.462 148.288 653.879 Q151.366 649.272 157.177 649.272 Z\" fill=\"#000000\" fill-rule=\"evenodd\" fill-opacity=\"1\" /><path clip-path=\"url(#clip220)\" d=\"M129.862 422.528 L118.056 440.977 L129.862 440.977 L129.862 422.528 M128.635 418.454 L134.515 418.454 L134.515 440.977 L139.445 440.977 L139.445 444.866 L134.515 444.866 L134.515 453.014 L129.862 453.014 L129.862 444.866 L114.26 444.866 L114.26 440.352 L128.635 418.454 Z\" fill=\"#000000\" fill-rule=\"evenodd\" fill-opacity=\"1\" /><path clip-path=\"url(#clip220)\" d=\"M157.177 421.533 Q153.566 421.533 151.737 425.098 Q149.931 428.639 149.931 435.769 Q149.931 442.875 151.737 446.44 Q153.566 449.982 157.177 449.982 Q160.811 449.982 162.616 446.44 Q164.445 442.875 164.445 435.769 Q164.445 428.639 162.616 425.098 Q160.811 421.533 157.177 421.533 M157.177 417.829 Q162.987 417.829 166.042 422.436 Q169.121 427.019 169.121 435.769 Q169.121 444.496 166.042 449.102 Q162.987 453.686 157.177 453.686 Q151.366 453.686 148.288 449.102 Q145.232 444.496 145.232 435.769 Q145.232 427.019 148.288 422.436 Q151.366 417.829 157.177 417.829 Z\" fill=\"#000000\" fill-rule=\"evenodd\" fill-opacity=\"1\" /><path clip-path=\"url(#clip220)\" d=\"M117.061 187.011 L135.417 187.011 L135.417 190.946 L121.343 190.946 L121.343 199.419 Q122.362 199.071 123.38 198.909 Q124.399 198.724 125.418 198.724 Q131.205 198.724 134.584 201.895 Q137.964 205.067 137.964 210.483 Q137.964 216.062 134.492 219.164 Q131.019 222.243 124.7 222.243 Q122.524 222.243 120.255 221.872 Q118.01 221.502 115.603 220.761 L115.603 216.062 Q117.686 217.196 119.908 217.752 Q122.13 218.307 124.607 218.307 Q128.612 218.307 130.95 216.201 Q133.288 214.094 133.288 210.483 Q133.288 206.872 130.95 204.766 Q128.612 202.659 124.607 202.659 Q122.732 202.659 120.857 203.076 Q119.006 203.493 117.061 204.372 L117.061 187.011 Z\" fill=\"#000000\" fill-rule=\"evenodd\" fill-opacity=\"1\" /><path clip-path=\"url(#clip220)\" d=\"M157.177 190.09 Q153.566 190.09 151.737 193.655 Q149.931 197.196 149.931 204.326 Q149.931 211.432 151.737 214.997 Q153.566 218.539 157.177 218.539 Q160.811 218.539 162.616 214.997 Q164.445 211.432 164.445 204.326 Q164.445 197.196 162.616 193.655 Q160.811 190.09 157.177 190.09 M157.177 186.386 Q162.987 186.386 166.042 190.993 Q169.121 195.576 169.121 204.326 Q169.121 213.053 166.042 217.659 Q162.987 222.243 157.177 222.243 Q151.366 222.243 148.288 217.659 Q145.232 213.053 145.232 204.326 Q145.232 195.576 148.288 190.993 Q151.366 186.386 157.177 186.386 Z\" fill=\"#000000\" fill-rule=\"evenodd\" fill-opacity=\"1\" /><path clip-path=\"url(#clip220)\" d=\"M32.4621 1228.6 Q32.4621 1233.31 36.1542 1236.05 Q39.8145 1238.79 46.212 1238.79 Q52.6095 1238.79 56.3017 1236.08 Q59.9619 1233.34 59.9619 1228.6 Q59.9619 1223.92 56.2698 1221.19 Q52.5777 1218.45 46.212 1218.45 Q39.8781 1218.45 36.186 1221.19 Q32.4621 1223.92 32.4621 1228.6 M27.4968 1228.6 Q27.4968 1220.96 32.4621 1216.6 Q37.4273 1212.24 46.212 1212.24 Q54.9649 1212.24 59.9619 1216.6 Q64.9272 1220.96 64.9272 1228.6 Q64.9272 1236.27 59.9619 1240.63 Q54.9649 1244.96 46.212 1244.96 Q37.4273 1244.96 32.4621 1240.63 Q27.4968 1236.27 27.4968 1228.6 Z\" fill=\"#000000\" fill-rule=\"evenodd\" fill-opacity=\"1\" /><path clip-path=\"url(#clip220)\" d=\"M46.212 1176.94 Q39.7508 1176.94 36.0905 1179.62 Q32.3984 1182.26 32.3984 1186.91 Q32.3984 1191.55 36.0905 1194.23 Q39.7508 1196.87 46.212 1196.87 Q52.6732 1196.87 56.3653 1194.23 Q60.0256 1191.55 60.0256 1186.91 Q60.0256 1182.26 56.3653 1179.62 Q52.6732 1176.94 46.212 1176.94 M33.7671 1196.87 Q30.5842 1195.02 29.0564 1192.22 Q27.4968 1189.39 27.4968 1185.47 Q27.4968 1178.98 32.6531 1174.94 Q37.8093 1170.87 46.212 1170.87 Q54.6147 1170.87 59.771 1174.94 Q64.9272 1178.98 64.9272 1185.47 Q64.9272 1189.39 63.3994 1192.22 Q61.8398 1195.02 58.657 1196.87 L64.0042 1196.87 L64.0042 1202.76 L14.479 1202.76 L14.479 1196.87 L33.7671 1196.87 Z\" fill=\"#000000\" fill-rule=\"evenodd\" fill-opacity=\"1\" /><path clip-path=\"url(#clip220)\" d=\"M28.3562 1161.16 L28.3562 1155.3 L64.6407 1155.3 Q71.452 1155.3 74.5076 1157.91 Q77.5631 1160.49 77.5631 1166.25 L77.5631 1168.48 L72.5979 1168.48 L72.5979 1166.92 Q72.5979 1163.58 71.0383 1162.37 Q69.5105 1161.16 64.6407 1161.16 L28.3562 1161.16 M14.479 1161.16 L14.479 1155.3 L21.895 1155.3 L21.895 1161.16 L14.479 1161.16 Z\" fill=\"#000000\" fill-rule=\"evenodd\" fill-opacity=\"1\" /><path clip-path=\"url(#clip220)\" d=\"M44.7161 1112.56 L47.5806 1112.56 L47.5806 1139.48 Q53.6281 1139.1 56.8109 1135.85 Q59.9619 1132.58 59.9619 1126.75 Q59.9619 1123.38 59.1344 1120.23 Q58.3069 1117.04 56.6518 1113.92 L62.1899 1113.92 Q63.5267 1117.07 64.227 1120.38 Q64.9272 1123.7 64.9272 1127.1 Q64.9272 1135.63 59.9619 1140.63 Q54.9967 1145.59 46.5303 1145.59 Q37.7774 1145.59 32.6531 1140.88 Q27.4968 1136.14 27.4968 1128.12 Q27.4968 1120.93 32.1438 1116.76 Q36.7589 1112.56 44.7161 1112.56 M42.9973 1118.41 Q38.1912 1118.48 35.3266 1121.12 Q32.4621 1123.73 32.4621 1128.06 Q32.4621 1132.96 35.2312 1135.92 Q38.0002 1138.85 43.0292 1139.29 L42.9973 1118.41 Z\" fill=\"#000000\" fill-rule=\"evenodd\" fill-opacity=\"1\" /><path clip-path=\"url(#clip220)\" d=\"M29.7248 1077.29 L35.1993 1077.29 Q33.8307 1079.77 33.1623 1082.29 Q32.4621 1084.77 32.4621 1087.32 Q32.4621 1093.01 36.0905 1096.16 Q39.6872 1099.31 46.212 1099.31 Q52.7369 1099.31 56.3653 1096.16 Q59.9619 1093.01 59.9619 1087.32 Q59.9619 1084.77 59.2935 1082.29 Q58.5933 1079.77 57.2247 1077.29 L62.6355 1077.29 Q63.7814 1079.74 64.3543 1082.38 Q64.9272 1084.99 64.9272 1087.95 Q64.9272 1096 59.8664 1100.75 Q54.8057 1105.49 46.212 1105.49 Q37.491 1105.49 32.4939 1100.71 Q27.4968 1095.91 27.4968 1087.57 Q27.4968 1084.86 28.0697 1082.29 Q28.6108 1079.71 29.7248 1077.29 Z\" fill=\"#000000\" fill-rule=\"evenodd\" fill-opacity=\"1\" /><path clip-path=\"url(#clip220)\" d=\"M18.2347 1061.31 L28.3562 1061.31 L28.3562 1049.25 L32.9077 1049.25 L32.9077 1061.31 L52.2594 1061.31 Q56.6199 1061.31 57.8613 1060.13 Q59.1026 1058.92 59.1026 1055.26 L59.1026 1049.25 L64.0042 1049.25 L64.0042 1055.26 Q64.0042 1062.04 61.4897 1064.62 Q58.9434 1067.2 52.2594 1067.2 L32.9077 1067.2 L32.9077 1071.5 L28.3562 1071.5 L28.3562 1067.2 L18.2347 1067.2 L18.2347 1061.31 Z\" fill=\"#000000\" fill-rule=\"evenodd\" fill-opacity=\"1\" /><path clip-path=\"url(#clip220)\" d=\"M28.3562 1041.55 L28.3562 1035.69 L64.0042 1035.69 L64.0042 1041.55 L28.3562 1041.55 M14.479 1041.55 L14.479 1035.69 L21.895 1035.69 L21.895 1041.55 L14.479 1041.55 Z\" fill=\"#000000\" fill-rule=\"evenodd\" fill-opacity=\"1\" /><path clip-path=\"url(#clip220)\" d=\"M28.3562 1027.64 L28.3562 1021.43 L58.275 1010.29 L28.3562 999.15 L28.3562 992.944 L64.0042 1006.31 L64.0042 1014.27 L28.3562 1027.64 Z\" fill=\"#000000\" fill-rule=\"evenodd\" fill-opacity=\"1\" /><path clip-path=\"url(#clip220)\" d=\"M44.7161 954.367 L47.5806 954.367 L47.5806 981.294 Q53.6281 980.912 56.8109 977.666 Q59.9619 974.387 59.9619 968.563 Q59.9619 965.189 59.1344 962.038 Q58.3069 958.855 56.6518 955.736 L62.1899 955.736 Q63.5267 958.887 64.227 962.197 Q64.9272 965.507 64.9272 968.913 Q64.9272 977.443 59.9619 982.44 Q54.9967 987.405 46.5303 987.405 Q37.7774 987.405 32.6531 982.695 Q27.4968 977.952 27.4968 969.931 Q27.4968 962.738 32.1438 958.569 Q36.7589 954.367 44.7161 954.367 M42.9973 960.224 Q38.1912 960.287 35.3266 962.929 Q32.4621 965.539 32.4621 969.868 Q32.4621 974.769 35.2312 977.729 Q38.0002 980.658 43.0292 981.103 L42.9973 960.224 Z\" fill=\"#000000\" fill-rule=\"evenodd\" fill-opacity=\"1\" /><path clip-path=\"url(#clip220)\" d=\"M14.479 905.988 L19.3487 905.988 L19.3487 911.59 Q19.3487 914.741 20.6219 915.982 Q21.895 917.192 25.2052 917.192 L28.3562 917.192 L28.3562 907.548 L32.9077 907.548 L32.9077 917.192 L64.0042 917.192 L64.0042 923.08 L32.9077 923.08 L32.9077 928.682 L28.3562 928.682 L28.3562 923.08 L25.8736 923.08 Q19.9216 923.08 17.2162 920.311 Q14.479 917.542 14.479 911.526 L14.479 905.988 Z\" fill=\"#000000\" fill-rule=\"evenodd\" fill-opacity=\"1\" /><path clip-path=\"url(#clip220)\" d=\"M49.9359 901.691 L28.3562 901.691 L28.3562 895.835 L49.7131 895.835 Q54.7739 895.835 57.3202 893.861 Q59.8346 891.888 59.8346 887.941 Q59.8346 883.199 56.8109 880.461 Q53.7872 877.692 48.5673 877.692 L28.3562 877.692 L28.3562 871.836 L64.0042 871.836 L64.0042 877.692 L58.5296 877.692 Q61.7762 879.825 63.3676 882.658 Q64.9272 885.459 64.9272 889.182 Q64.9272 895.325 61.1078 898.508 Q57.2883 901.691 49.9359 901.691 M27.4968 886.955 L27.4968 886.955 Z\" fill=\"#000000\" fill-rule=\"evenodd\" fill-opacity=\"1\" /><path clip-path=\"url(#clip220)\" d=\"M42.4881 830.141 L64.0042 830.141 L64.0042 835.997 L42.679 835.997 Q37.6183 835.997 35.1038 837.97 Q32.5894 839.944 32.5894 843.89 Q32.5894 848.633 35.6131 851.37 Q38.6368 854.107 43.8567 854.107 L64.0042 854.107 L64.0042 859.996 L28.3562 859.996 L28.3562 854.107 L33.8944 854.107 Q30.6797 852.007 29.0883 849.174 Q27.4968 846.309 27.4968 842.586 Q27.4968 836.443 31.3163 833.292 Q35.1038 830.141 42.4881 830.141 Z\" fill=\"#000000\" fill-rule=\"evenodd\" fill-opacity=\"1\" /><path clip-path=\"url(#clip220)\" d=\"M29.7248 792.806 L35.1993 792.806 Q33.8307 795.288 33.1623 797.803 Q32.4621 800.285 32.4621 802.832 Q32.4621 808.529 36.0905 811.68 Q39.6872 814.831 46.212 814.831 Q52.7369 814.831 56.3653 811.68 Q59.9619 808.529 59.9619 802.832 Q59.9619 800.285 59.2935 797.803 Q58.5933 795.288 57.2247 792.806 L62.6355 792.806 Q63.7814 795.256 64.3543 797.898 Q64.9272 800.508 64.9272 803.468 Q64.9272 811.521 59.8664 816.263 Q54.8057 821.006 46.212 821.006 Q37.491 821.006 32.4939 816.231 Q27.4968 811.425 27.4968 803.086 Q27.4968 800.381 28.0697 797.803 Q28.6108 795.225 29.7248 792.806 Z\" fill=\"#000000\" fill-rule=\"evenodd\" fill-opacity=\"1\" /><path clip-path=\"url(#clip220)\" d=\"M18.2347 776.828 L28.3562 776.828 L28.3562 764.765 L32.9077 764.765 L32.9077 776.828 L52.2594 776.828 Q56.6199 776.828 57.8613 775.65 Q59.1026 774.441 59.1026 770.78 L59.1026 764.765 L64.0042 764.765 L64.0042 770.78 Q64.0042 777.56 61.4897 780.138 Q58.9434 782.716 52.2594 782.716 L32.9077 782.716 L32.9077 787.013 L28.3562 787.013 L28.3562 782.716 L18.2347 782.716 L18.2347 776.828 Z\" fill=\"#000000\" fill-rule=\"evenodd\" fill-opacity=\"1\" /><path clip-path=\"url(#clip220)\" d=\"M28.3562 757.062 L28.3562 751.206 L64.0042 751.206 L64.0042 757.062 L28.3562 757.062 M14.479 757.062 L14.479 751.206 L21.895 751.206 L21.895 757.062 L14.479 757.062 Z\" fill=\"#000000\" fill-rule=\"evenodd\" fill-opacity=\"1\" /><path clip-path=\"url(#clip220)\" d=\"M32.4621 725.138 Q32.4621 729.849 36.1542 732.586 Q39.8145 735.323 46.212 735.323 Q52.6095 735.323 56.3017 732.618 Q59.9619 729.881 59.9619 725.138 Q59.9619 720.459 56.2698 717.722 Q52.5777 714.985 46.212 714.985 Q39.8781 714.985 36.186 717.722 Q32.4621 720.459 32.4621 725.138 M27.4968 725.138 Q27.4968 717.499 32.4621 713.139 Q37.4273 708.778 46.212 708.778 Q54.9649 708.778 59.9619 713.139 Q64.9272 717.499 64.9272 725.138 Q64.9272 732.809 59.9619 737.169 Q54.9649 741.498 46.212 741.498 Q37.4273 741.498 32.4621 737.169 Q27.4968 732.809 27.4968 725.138 Z\" fill=\"#000000\" fill-rule=\"evenodd\" fill-opacity=\"1\" /><path clip-path=\"url(#clip220)\" d=\"M42.4881 669.438 L64.0042 669.438 L64.0042 675.295 L42.679 675.295 Q37.6183 675.295 35.1038 677.268 Q32.5894 679.241 32.5894 683.188 Q32.5894 687.931 35.6131 690.668 Q38.6368 693.405 43.8567 693.405 L64.0042 693.405 L64.0042 699.293 L28.3562 699.293 L28.3562 693.405 L33.8944 693.405 Q30.6797 691.305 29.0883 688.472 Q27.4968 685.607 27.4968 681.883 Q27.4968 675.74 31.3163 672.589 Q35.1038 669.438 42.4881 669.438 Z\" fill=\"#000000\" fill-rule=\"evenodd\" fill-opacity=\"1\" /><path clip-path=\"url(#clip220)\" d=\"M33.7671 613.579 L14.479 613.579 L14.479 607.723 L64.0042 607.723 L64.0042 613.579 L58.657 613.579 Q61.8398 615.425 63.3994 618.258 Q64.9272 621.059 64.9272 625.006 Q64.9272 631.467 59.771 635.541 Q54.6147 639.583 46.212 639.583 Q37.8093 639.583 32.6531 635.541 Q27.4968 631.467 27.4968 625.006 Q27.4968 621.059 29.0564 618.258 Q30.5842 615.425 33.7671 613.579 M46.212 633.536 Q52.6732 633.536 56.3653 630.894 Q60.0256 628.22 60.0256 623.573 Q60.0256 618.926 56.3653 616.253 Q52.6732 613.579 46.212 613.579 Q39.7508 613.579 36.0905 616.253 Q32.3984 618.926 32.3984 623.573 Q32.3984 628.22 36.0905 630.894 Q39.7508 633.536 46.212 633.536 Z\" fill=\"#000000\" fill-rule=\"evenodd\" fill-opacity=\"1\" /><path clip-path=\"url(#clip220)\" d=\"M28.3562 595.66 L28.3562 589.803 L64.0042 589.803 L64.0042 595.66 L28.3562 595.66 M14.479 595.66 L14.479 589.803 L21.895 589.803 L21.895 595.66 L14.479 595.66 Z\" fill=\"#000000\" fill-rule=\"evenodd\" fill-opacity=\"1\" /><path clip-path=\"url(#clip220)\" d=\"M14.479 559.503 L19.3487 559.503 L19.3487 565.104 Q19.3487 568.255 20.6219 569.497 Q21.895 570.706 25.2052 570.706 L28.3562 570.706 L28.3562 561.062 L32.9077 561.062 L32.9077 570.706 L64.0042 570.706 L64.0042 576.594 L32.9077 576.594 L32.9077 582.196 L28.3562 582.196 L28.3562 576.594 L25.8736 576.594 Q19.9216 576.594 17.2162 573.825 Q14.479 571.056 14.479 565.041 L14.479 559.503 Z\" fill=\"#000000\" fill-rule=\"evenodd\" fill-opacity=\"1\" /><path clip-path=\"url(#clip220)\" d=\"M14.479 536.554 L19.3487 536.554 L19.3487 542.156 Q19.3487 545.307 20.6219 546.548 Q21.895 547.758 25.2052 547.758 L28.3562 547.758 L28.3562 538.114 L32.9077 538.114 L32.9077 547.758 L64.0042 547.758 L64.0042 553.646 L32.9077 553.646 L32.9077 559.248 L28.3562 559.248 L28.3562 553.646 L25.8736 553.646 Q19.9216 553.646 17.2162 550.877 Q14.479 548.108 14.479 542.092 L14.479 536.554 Z\" fill=\"#000000\" fill-rule=\"evenodd\" fill-opacity=\"1\" /><path clip-path=\"url(#clip220)\" d=\"M44.7161 501.161 L47.5806 501.161 L47.5806 528.088 Q53.6281 527.706 56.8109 524.459 Q59.9619 521.181 59.9619 515.356 Q59.9619 511.983 59.1344 508.832 Q58.3069 505.649 56.6518 502.529 L62.1899 502.529 Q63.5267 505.681 64.227 508.991 Q64.9272 512.301 64.9272 515.706 Q64.9272 524.237 59.9619 529.234 Q54.9967 534.199 46.5303 534.199 Q37.7774 534.199 32.6531 529.488 Q27.4968 524.746 27.4968 516.725 Q27.4968 509.532 32.1438 505.362 Q36.7589 501.161 44.7161 501.161 M42.9973 507.017 Q38.1912 507.081 35.3266 509.723 Q32.4621 512.333 32.4621 516.661 Q32.4621 521.563 35.2312 524.523 Q38.0002 527.451 43.0292 527.897 L42.9973 507.017 Z\" fill=\"#000000\" fill-rule=\"evenodd\" fill-opacity=\"1\" /><path clip-path=\"url(#clip220)\" d=\"M33.8307 470.892 Q33.2578 471.879 33.0032 473.056 Q32.7167 474.202 32.7167 475.603 Q32.7167 480.568 35.9632 483.241 Q39.1779 485.883 45.2253 485.883 L64.0042 485.883 L64.0042 491.771 L28.3562 491.771 L28.3562 485.883 L33.8944 485.883 Q30.6479 484.037 29.0883 481.077 Q27.4968 478.117 27.4968 473.884 Q27.4968 473.279 27.5923 472.547 Q27.656 471.815 27.8151 470.924 L33.8307 470.892 Z\" fill=\"#000000\" fill-rule=\"evenodd\" fill-opacity=\"1\" /><path clip-path=\"url(#clip220)\" d=\"M44.7161 435.69 L47.5806 435.69 L47.5806 462.616 Q53.6281 462.235 56.8109 458.988 Q59.9619 455.71 59.9619 449.885 Q59.9619 446.511 59.1344 443.36 Q58.3069 440.177 56.6518 437.058 L62.1899 437.058 Q63.5267 440.209 64.227 443.519 Q64.9272 446.83 64.9272 450.235 Q64.9272 458.765 59.9619 463.762 Q54.9967 468.728 46.5303 468.728 Q37.7774 468.728 32.6531 464.017 Q27.4968 459.275 27.4968 451.254 Q27.4968 444.06 32.1438 439.891 Q36.7589 435.69 44.7161 435.69 M42.9973 441.546 Q38.1912 441.61 35.3266 444.251 Q32.4621 446.861 32.4621 451.19 Q32.4621 456.092 35.2312 459.052 Q38.0002 461.98 43.0292 462.426 L42.9973 441.546 Z\" fill=\"#000000\" fill-rule=\"evenodd\" fill-opacity=\"1\" /><path clip-path=\"url(#clip220)\" d=\"M42.4881 396.445 L64.0042 396.445 L64.0042 402.301 L42.679 402.301 Q37.6183 402.301 35.1038 404.275 Q32.5894 406.248 32.5894 410.195 Q32.5894 414.937 35.6131 417.675 Q38.6368 420.412 43.8567 420.412 L64.0042 420.412 L64.0042 426.3 L28.3562 426.3 L28.3562 420.412 L33.8944 420.412 Q30.6797 418.311 29.0883 415.478 Q27.4968 412.614 27.4968 408.89 Q27.4968 402.747 31.3163 399.596 Q35.1038 396.445 42.4881 396.445 Z\" fill=\"#000000\" fill-rule=\"evenodd\" fill-opacity=\"1\" /><path clip-path=\"url(#clip220)\" d=\"M29.7248 359.11 L35.1993 359.11 Q33.8307 361.593 33.1623 364.107 Q32.4621 366.59 32.4621 369.136 Q32.4621 374.833 36.0905 377.984 Q39.6872 381.135 46.212 381.135 Q52.7369 381.135 56.3653 377.984 Q59.9619 374.833 59.9619 369.136 Q59.9619 366.59 59.2935 364.107 Q58.5933 361.593 57.2247 359.11 L62.6355 359.11 Q63.7814 361.561 64.3543 364.203 Q64.9272 366.813 64.9272 369.773 Q64.9272 377.825 59.8664 382.568 Q54.8057 387.31 46.212 387.31 Q37.491 387.31 32.4939 382.536 Q27.4968 377.73 27.4968 369.391 Q27.4968 366.685 28.0697 364.107 Q28.6108 361.529 29.7248 359.11 Z\" fill=\"#000000\" fill-rule=\"evenodd\" fill-opacity=\"1\" /><path clip-path=\"url(#clip220)\" d=\"M44.7161 318.433 L47.5806 318.433 L47.5806 345.36 Q53.6281 344.978 56.8109 341.732 Q59.9619 338.453 59.9619 332.629 Q59.9619 329.255 59.1344 326.104 Q58.3069 322.921 56.6518 319.802 L62.1899 319.802 Q63.5267 322.953 64.227 326.263 Q64.9272 329.573 64.9272 332.979 Q64.9272 341.509 59.9619 346.506 Q54.9967 351.471 46.5303 351.471 Q37.7774 351.471 32.6531 346.761 Q27.4968 342.018 27.4968 333.997 Q27.4968 326.804 32.1438 322.635 Q36.7589 318.433 44.7161 318.433 M42.9973 324.29 Q38.1912 324.353 35.3266 326.995 Q32.4621 329.605 32.4621 333.934 Q32.4621 338.835 35.2312 341.795 Q38.0002 344.724 43.0292 345.169 L42.9973 324.29 Z\" fill=\"#000000\" fill-rule=\"evenodd\" fill-opacity=\"1\" /><path clip-path=\"url(#clip220)\" d=\"M14.479 288.642 L14.479 275.146 L19.0304 275.146 L19.0304 282.785 L68.0464 282.785 L68.0464 275.146 L72.5979 275.146 L72.5979 288.642 L14.479 288.642 Z\" fill=\"#000000\" fill-rule=\"evenodd\" fill-opacity=\"1\" /><path clip-path=\"url(#clip220)\" d=\"M43.5384 265.63 L43.5384 248.474 L48.7583 248.474 L48.7583 265.63 L43.5384 265.63 Z\" fill=\"#000000\" fill-rule=\"evenodd\" fill-opacity=\"1\" /><path clip-path=\"url(#clip220)\" d=\"M14.479 225.462 L72.5979 225.462 L72.5979 238.957 L68.0464 238.957 L68.0464 231.35 L19.0304 231.35 L19.0304 238.957 L14.479 238.957 L14.479 225.462 Z\" fill=\"#000000\" fill-rule=\"evenodd\" fill-opacity=\"1\" /><polyline clip-path=\"url(#clip222)\" style=\"stroke:#000000; stroke-linecap:round; stroke-linejoin:round; stroke-width:4; stroke-opacity:1; fill:none\" points=\"348.6,1384.24 389.948,1361.51 431.297,1361.51 472.645,1384.24 513.993,86.1861 555.342,1361.51 596.69,1384.24 638.039,1361.51 679.387,1361.51 720.735,1361.51 762.084,1384.24 803.432,1361.51 844.78,1361.51 886.129,1361.51 927.477,1361.51 968.826,1361.51 1010.17,1361.51 1051.52,1361.51 1092.87,1361.51 1134.22,1361.51 1175.57,1361.51 1216.92,1361.51 1258.26,1361.51 1299.61,1361.51 1340.96,1361.51 1382.31,1361.51 1423.66,1361.51 1465.01,1384.24 1506.35,1361.51 1547.7,1361.51 1589.05,1361.51 1630.4,1361.51 1671.75,1361.51 1713.1,86.1857 1754.44,1361.51 1795.79,1361.51 1837.14,1361.51 1878.49,1361.51 1919.84,1361.51 1961.19,1361.51 2002.54,1361.51 2043.88,1361.51 2085.23,1361.51 2126.58,86.2045 2167.93,1361.51 2209.28,1361.51 2250.63,1361.51 2291.97,1361.51 \"/>\n",
       "<line clip-path=\"url(#clip222)\" x1=\"265.903\" y1=\"1361.51\" x2=\"249.903\" y2=\"1345.51\" style=\"stroke:#000000; stroke-width:3.2; stroke-opacity:1\"/>\n",
       "<line clip-path=\"url(#clip222)\" x1=\"265.903\" y1=\"1361.51\" x2=\"249.903\" y2=\"1377.51\" style=\"stroke:#000000; stroke-width:3.2; stroke-opacity:1\"/>\n",
       "<line clip-path=\"url(#clip222)\" x1=\"265.903\" y1=\"1361.51\" x2=\"281.903\" y2=\"1377.51\" style=\"stroke:#000000; stroke-width:3.2; stroke-opacity:1\"/>\n",
       "<line clip-path=\"url(#clip222)\" x1=\"265.903\" y1=\"1361.51\" x2=\"281.903\" y2=\"1345.51\" style=\"stroke:#000000; stroke-width:3.2; stroke-opacity:1\"/>\n",
       "<line clip-path=\"url(#clip222)\" x1=\"348.6\" y1=\"1384.24\" x2=\"332.6\" y2=\"1368.24\" style=\"stroke:#000000; stroke-width:3.2; stroke-opacity:1\"/>\n",
       "<line clip-path=\"url(#clip222)\" x1=\"348.6\" y1=\"1384.24\" x2=\"332.6\" y2=\"1400.24\" style=\"stroke:#000000; stroke-width:3.2; stroke-opacity:1\"/>\n",
       "<line clip-path=\"url(#clip222)\" x1=\"348.6\" y1=\"1384.24\" x2=\"364.6\" y2=\"1400.24\" style=\"stroke:#000000; stroke-width:3.2; stroke-opacity:1\"/>\n",
       "<line clip-path=\"url(#clip222)\" x1=\"348.6\" y1=\"1384.24\" x2=\"364.6\" y2=\"1368.24\" style=\"stroke:#000000; stroke-width:3.2; stroke-opacity:1\"/>\n",
       "<line clip-path=\"url(#clip222)\" x1=\"389.948\" y1=\"1361.51\" x2=\"373.948\" y2=\"1345.51\" style=\"stroke:#000000; stroke-width:3.2; stroke-opacity:1\"/>\n",
       "<line clip-path=\"url(#clip222)\" x1=\"389.948\" y1=\"1361.51\" x2=\"373.948\" y2=\"1377.51\" style=\"stroke:#000000; stroke-width:3.2; stroke-opacity:1\"/>\n",
       "<line clip-path=\"url(#clip222)\" x1=\"389.948\" y1=\"1361.51\" x2=\"405.948\" y2=\"1377.51\" style=\"stroke:#000000; stroke-width:3.2; stroke-opacity:1\"/>\n",
       "<line clip-path=\"url(#clip222)\" x1=\"389.948\" y1=\"1361.51\" x2=\"405.948\" y2=\"1345.51\" style=\"stroke:#000000; stroke-width:3.2; stroke-opacity:1\"/>\n",
       "<line clip-path=\"url(#clip222)\" x1=\"431.297\" y1=\"1361.51\" x2=\"415.297\" y2=\"1345.51\" style=\"stroke:#000000; stroke-width:3.2; stroke-opacity:1\"/>\n",
       "<line clip-path=\"url(#clip222)\" x1=\"431.297\" y1=\"1361.51\" x2=\"415.297\" y2=\"1377.51\" style=\"stroke:#000000; stroke-width:3.2; stroke-opacity:1\"/>\n",
       "<line clip-path=\"url(#clip222)\" x1=\"431.297\" y1=\"1361.51\" x2=\"447.297\" y2=\"1377.51\" style=\"stroke:#000000; stroke-width:3.2; stroke-opacity:1\"/>\n",
       "<line clip-path=\"url(#clip222)\" x1=\"431.297\" y1=\"1361.51\" x2=\"447.297\" y2=\"1345.51\" style=\"stroke:#000000; stroke-width:3.2; stroke-opacity:1\"/>\n",
       "<line clip-path=\"url(#clip222)\" x1=\"472.645\" y1=\"1384.24\" x2=\"456.645\" y2=\"1368.24\" style=\"stroke:#000000; stroke-width:3.2; stroke-opacity:1\"/>\n",
       "<line clip-path=\"url(#clip222)\" x1=\"472.645\" y1=\"1384.24\" x2=\"456.645\" y2=\"1400.24\" style=\"stroke:#000000; stroke-width:3.2; stroke-opacity:1\"/>\n",
       "<line clip-path=\"url(#clip222)\" x1=\"472.645\" y1=\"1384.24\" x2=\"488.645\" y2=\"1400.24\" style=\"stroke:#000000; stroke-width:3.2; stroke-opacity:1\"/>\n",
       "<line clip-path=\"url(#clip222)\" x1=\"472.645\" y1=\"1384.24\" x2=\"488.645\" y2=\"1368.24\" style=\"stroke:#000000; stroke-width:3.2; stroke-opacity:1\"/>\n",
       "<line clip-path=\"url(#clip222)\" x1=\"513.993\" y1=\"86.1861\" x2=\"497.993\" y2=\"70.1861\" style=\"stroke:#000000; stroke-width:3.2; stroke-opacity:1\"/>\n",
       "<line clip-path=\"url(#clip222)\" x1=\"513.993\" y1=\"86.1861\" x2=\"497.993\" y2=\"102.186\" style=\"stroke:#000000; stroke-width:3.2; stroke-opacity:1\"/>\n",
       "<line clip-path=\"url(#clip222)\" x1=\"513.993\" y1=\"86.1861\" x2=\"529.993\" y2=\"102.186\" style=\"stroke:#000000; stroke-width:3.2; stroke-opacity:1\"/>\n",
       "<line clip-path=\"url(#clip222)\" x1=\"513.993\" y1=\"86.1861\" x2=\"529.993\" y2=\"70.1861\" style=\"stroke:#000000; stroke-width:3.2; stroke-opacity:1\"/>\n",
       "<line clip-path=\"url(#clip222)\" x1=\"555.342\" y1=\"1361.51\" x2=\"539.342\" y2=\"1345.51\" style=\"stroke:#000000; stroke-width:3.2; stroke-opacity:1\"/>\n",
       "<line clip-path=\"url(#clip222)\" x1=\"555.342\" y1=\"1361.51\" x2=\"539.342\" y2=\"1377.51\" style=\"stroke:#000000; stroke-width:3.2; stroke-opacity:1\"/>\n",
       "<line clip-path=\"url(#clip222)\" x1=\"555.342\" y1=\"1361.51\" x2=\"571.342\" y2=\"1377.51\" style=\"stroke:#000000; stroke-width:3.2; stroke-opacity:1\"/>\n",
       "<line clip-path=\"url(#clip222)\" x1=\"555.342\" y1=\"1361.51\" x2=\"571.342\" y2=\"1345.51\" style=\"stroke:#000000; stroke-width:3.2; stroke-opacity:1\"/>\n",
       "<line clip-path=\"url(#clip222)\" x1=\"596.69\" y1=\"1384.24\" x2=\"580.69\" y2=\"1368.24\" style=\"stroke:#000000; stroke-width:3.2; stroke-opacity:1\"/>\n",
       "<line clip-path=\"url(#clip222)\" x1=\"596.69\" y1=\"1384.24\" x2=\"580.69\" y2=\"1400.24\" style=\"stroke:#000000; stroke-width:3.2; stroke-opacity:1\"/>\n",
       "<line clip-path=\"url(#clip222)\" x1=\"596.69\" y1=\"1384.24\" x2=\"612.69\" y2=\"1400.24\" style=\"stroke:#000000; stroke-width:3.2; stroke-opacity:1\"/>\n",
       "<line clip-path=\"url(#clip222)\" x1=\"596.69\" y1=\"1384.24\" x2=\"612.69\" y2=\"1368.24\" style=\"stroke:#000000; stroke-width:3.2; stroke-opacity:1\"/>\n",
       "<line clip-path=\"url(#clip222)\" x1=\"638.039\" y1=\"1361.51\" x2=\"622.039\" y2=\"1345.51\" style=\"stroke:#000000; stroke-width:3.2; stroke-opacity:1\"/>\n",
       "<line clip-path=\"url(#clip222)\" x1=\"638.039\" y1=\"1361.51\" x2=\"622.039\" y2=\"1377.51\" style=\"stroke:#000000; stroke-width:3.2; stroke-opacity:1\"/>\n",
       "<line clip-path=\"url(#clip222)\" x1=\"638.039\" y1=\"1361.51\" x2=\"654.039\" y2=\"1377.51\" style=\"stroke:#000000; stroke-width:3.2; stroke-opacity:1\"/>\n",
       "<line clip-path=\"url(#clip222)\" x1=\"638.039\" y1=\"1361.51\" x2=\"654.039\" y2=\"1345.51\" style=\"stroke:#000000; stroke-width:3.2; stroke-opacity:1\"/>\n",
       "<line clip-path=\"url(#clip222)\" x1=\"679.387\" y1=\"1361.51\" x2=\"663.387\" y2=\"1345.51\" style=\"stroke:#000000; stroke-width:3.2; stroke-opacity:1\"/>\n",
       "<line clip-path=\"url(#clip222)\" x1=\"679.387\" y1=\"1361.51\" x2=\"663.387\" y2=\"1377.51\" style=\"stroke:#000000; stroke-width:3.2; stroke-opacity:1\"/>\n",
       "<line clip-path=\"url(#clip222)\" x1=\"679.387\" y1=\"1361.51\" x2=\"695.387\" y2=\"1377.51\" style=\"stroke:#000000; stroke-width:3.2; stroke-opacity:1\"/>\n",
       "<line clip-path=\"url(#clip222)\" x1=\"679.387\" y1=\"1361.51\" x2=\"695.387\" y2=\"1345.51\" style=\"stroke:#000000; stroke-width:3.2; stroke-opacity:1\"/>\n",
       "<line clip-path=\"url(#clip222)\" x1=\"720.735\" y1=\"1361.51\" x2=\"704.735\" y2=\"1345.51\" style=\"stroke:#000000; stroke-width:3.2; stroke-opacity:1\"/>\n",
       "<line clip-path=\"url(#clip222)\" x1=\"720.735\" y1=\"1361.51\" x2=\"704.735\" y2=\"1377.51\" style=\"stroke:#000000; stroke-width:3.2; stroke-opacity:1\"/>\n",
       "<line clip-path=\"url(#clip222)\" x1=\"720.735\" y1=\"1361.51\" x2=\"736.735\" y2=\"1377.51\" style=\"stroke:#000000; stroke-width:3.2; stroke-opacity:1\"/>\n",
       "<line clip-path=\"url(#clip222)\" x1=\"720.735\" y1=\"1361.51\" x2=\"736.735\" y2=\"1345.51\" style=\"stroke:#000000; stroke-width:3.2; stroke-opacity:1\"/>\n",
       "<line clip-path=\"url(#clip222)\" x1=\"762.084\" y1=\"1384.24\" x2=\"746.084\" y2=\"1368.24\" style=\"stroke:#000000; stroke-width:3.2; stroke-opacity:1\"/>\n",
       "<line clip-path=\"url(#clip222)\" x1=\"762.084\" y1=\"1384.24\" x2=\"746.084\" y2=\"1400.24\" style=\"stroke:#000000; stroke-width:3.2; stroke-opacity:1\"/>\n",
       "<line clip-path=\"url(#clip222)\" x1=\"762.084\" y1=\"1384.24\" x2=\"778.084\" y2=\"1400.24\" style=\"stroke:#000000; stroke-width:3.2; stroke-opacity:1\"/>\n",
       "<line clip-path=\"url(#clip222)\" x1=\"762.084\" y1=\"1384.24\" x2=\"778.084\" y2=\"1368.24\" style=\"stroke:#000000; stroke-width:3.2; stroke-opacity:1\"/>\n",
       "<line clip-path=\"url(#clip222)\" x1=\"803.432\" y1=\"1361.51\" x2=\"787.432\" y2=\"1345.51\" style=\"stroke:#000000; stroke-width:3.2; stroke-opacity:1\"/>\n",
       "<line clip-path=\"url(#clip222)\" x1=\"803.432\" y1=\"1361.51\" x2=\"787.432\" y2=\"1377.51\" style=\"stroke:#000000; stroke-width:3.2; stroke-opacity:1\"/>\n",
       "<line clip-path=\"url(#clip222)\" x1=\"803.432\" y1=\"1361.51\" x2=\"819.432\" y2=\"1377.51\" style=\"stroke:#000000; stroke-width:3.2; stroke-opacity:1\"/>\n",
       "<line clip-path=\"url(#clip222)\" x1=\"803.432\" y1=\"1361.51\" x2=\"819.432\" y2=\"1345.51\" style=\"stroke:#000000; stroke-width:3.2; stroke-opacity:1\"/>\n",
       "<line clip-path=\"url(#clip222)\" x1=\"844.78\" y1=\"1361.51\" x2=\"828.78\" y2=\"1345.51\" style=\"stroke:#000000; stroke-width:3.2; stroke-opacity:1\"/>\n",
       "<line clip-path=\"url(#clip222)\" x1=\"844.78\" y1=\"1361.51\" x2=\"828.78\" y2=\"1377.51\" style=\"stroke:#000000; stroke-width:3.2; stroke-opacity:1\"/>\n",
       "<line clip-path=\"url(#clip222)\" x1=\"844.78\" y1=\"1361.51\" x2=\"860.78\" y2=\"1377.51\" style=\"stroke:#000000; stroke-width:3.2; stroke-opacity:1\"/>\n",
       "<line clip-path=\"url(#clip222)\" x1=\"844.78\" y1=\"1361.51\" x2=\"860.78\" y2=\"1345.51\" style=\"stroke:#000000; stroke-width:3.2; stroke-opacity:1\"/>\n",
       "<line clip-path=\"url(#clip222)\" x1=\"886.129\" y1=\"1361.51\" x2=\"870.129\" y2=\"1345.51\" style=\"stroke:#000000; stroke-width:3.2; stroke-opacity:1\"/>\n",
       "<line clip-path=\"url(#clip222)\" x1=\"886.129\" y1=\"1361.51\" x2=\"870.129\" y2=\"1377.51\" style=\"stroke:#000000; stroke-width:3.2; stroke-opacity:1\"/>\n",
       "<line clip-path=\"url(#clip222)\" x1=\"886.129\" y1=\"1361.51\" x2=\"902.129\" y2=\"1377.51\" style=\"stroke:#000000; stroke-width:3.2; stroke-opacity:1\"/>\n",
       "<line clip-path=\"url(#clip222)\" x1=\"886.129\" y1=\"1361.51\" x2=\"902.129\" y2=\"1345.51\" style=\"stroke:#000000; stroke-width:3.2; stroke-opacity:1\"/>\n",
       "<line clip-path=\"url(#clip222)\" x1=\"927.477\" y1=\"1361.51\" x2=\"911.477\" y2=\"1345.51\" style=\"stroke:#000000; stroke-width:3.2; stroke-opacity:1\"/>\n",
       "<line clip-path=\"url(#clip222)\" x1=\"927.477\" y1=\"1361.51\" x2=\"911.477\" y2=\"1377.51\" style=\"stroke:#000000; stroke-width:3.2; stroke-opacity:1\"/>\n",
       "<line clip-path=\"url(#clip222)\" x1=\"927.477\" y1=\"1361.51\" x2=\"943.477\" y2=\"1377.51\" style=\"stroke:#000000; stroke-width:3.2; stroke-opacity:1\"/>\n",
       "<line clip-path=\"url(#clip222)\" x1=\"927.477\" y1=\"1361.51\" x2=\"943.477\" y2=\"1345.51\" style=\"stroke:#000000; stroke-width:3.2; stroke-opacity:1\"/>\n",
       "<line clip-path=\"url(#clip222)\" x1=\"968.826\" y1=\"1361.51\" x2=\"952.826\" y2=\"1345.51\" style=\"stroke:#000000; stroke-width:3.2; stroke-opacity:1\"/>\n",
       "<line clip-path=\"url(#clip222)\" x1=\"968.826\" y1=\"1361.51\" x2=\"952.826\" y2=\"1377.51\" style=\"stroke:#000000; stroke-width:3.2; stroke-opacity:1\"/>\n",
       "<line clip-path=\"url(#clip222)\" x1=\"968.826\" y1=\"1361.51\" x2=\"984.826\" y2=\"1377.51\" style=\"stroke:#000000; stroke-width:3.2; stroke-opacity:1\"/>\n",
       "<line clip-path=\"url(#clip222)\" x1=\"968.826\" y1=\"1361.51\" x2=\"984.826\" y2=\"1345.51\" style=\"stroke:#000000; stroke-width:3.2; stroke-opacity:1\"/>\n",
       "<line clip-path=\"url(#clip222)\" x1=\"1010.17\" y1=\"1361.51\" x2=\"994.174\" y2=\"1345.51\" style=\"stroke:#000000; stroke-width:3.2; stroke-opacity:1\"/>\n",
       "<line clip-path=\"url(#clip222)\" x1=\"1010.17\" y1=\"1361.51\" x2=\"994.174\" y2=\"1377.51\" style=\"stroke:#000000; stroke-width:3.2; stroke-opacity:1\"/>\n",
       "<line clip-path=\"url(#clip222)\" x1=\"1010.17\" y1=\"1361.51\" x2=\"1026.17\" y2=\"1377.51\" style=\"stroke:#000000; stroke-width:3.2; stroke-opacity:1\"/>\n",
       "<line clip-path=\"url(#clip222)\" x1=\"1010.17\" y1=\"1361.51\" x2=\"1026.17\" y2=\"1345.51\" style=\"stroke:#000000; stroke-width:3.2; stroke-opacity:1\"/>\n",
       "<line clip-path=\"url(#clip222)\" x1=\"1051.52\" y1=\"1361.51\" x2=\"1035.52\" y2=\"1345.51\" style=\"stroke:#000000; stroke-width:3.2; stroke-opacity:1\"/>\n",
       "<line clip-path=\"url(#clip222)\" x1=\"1051.52\" y1=\"1361.51\" x2=\"1035.52\" y2=\"1377.51\" style=\"stroke:#000000; stroke-width:3.2; stroke-opacity:1\"/>\n",
       "<line clip-path=\"url(#clip222)\" x1=\"1051.52\" y1=\"1361.51\" x2=\"1067.52\" y2=\"1377.51\" style=\"stroke:#000000; stroke-width:3.2; stroke-opacity:1\"/>\n",
       "<line clip-path=\"url(#clip222)\" x1=\"1051.52\" y1=\"1361.51\" x2=\"1067.52\" y2=\"1345.51\" style=\"stroke:#000000; stroke-width:3.2; stroke-opacity:1\"/>\n",
       "<line clip-path=\"url(#clip222)\" x1=\"1092.87\" y1=\"1361.51\" x2=\"1076.87\" y2=\"1345.51\" style=\"stroke:#000000; stroke-width:3.2; stroke-opacity:1\"/>\n",
       "<line clip-path=\"url(#clip222)\" x1=\"1092.87\" y1=\"1361.51\" x2=\"1076.87\" y2=\"1377.51\" style=\"stroke:#000000; stroke-width:3.2; stroke-opacity:1\"/>\n",
       "<line clip-path=\"url(#clip222)\" x1=\"1092.87\" y1=\"1361.51\" x2=\"1108.87\" y2=\"1377.51\" style=\"stroke:#000000; stroke-width:3.2; stroke-opacity:1\"/>\n",
       "<line clip-path=\"url(#clip222)\" x1=\"1092.87\" y1=\"1361.51\" x2=\"1108.87\" y2=\"1345.51\" style=\"stroke:#000000; stroke-width:3.2; stroke-opacity:1\"/>\n",
       "<line clip-path=\"url(#clip222)\" x1=\"1134.22\" y1=\"1361.51\" x2=\"1118.22\" y2=\"1345.51\" style=\"stroke:#000000; stroke-width:3.2; stroke-opacity:1\"/>\n",
       "<line clip-path=\"url(#clip222)\" x1=\"1134.22\" y1=\"1361.51\" x2=\"1118.22\" y2=\"1377.51\" style=\"stroke:#000000; stroke-width:3.2; stroke-opacity:1\"/>\n",
       "<line clip-path=\"url(#clip222)\" x1=\"1134.22\" y1=\"1361.51\" x2=\"1150.22\" y2=\"1377.51\" style=\"stroke:#000000; stroke-width:3.2; stroke-opacity:1\"/>\n",
       "<line clip-path=\"url(#clip222)\" x1=\"1134.22\" y1=\"1361.51\" x2=\"1150.22\" y2=\"1345.51\" style=\"stroke:#000000; stroke-width:3.2; stroke-opacity:1\"/>\n",
       "<line clip-path=\"url(#clip222)\" x1=\"1175.57\" y1=\"1361.51\" x2=\"1159.57\" y2=\"1345.51\" style=\"stroke:#000000; stroke-width:3.2; stroke-opacity:1\"/>\n",
       "<line clip-path=\"url(#clip222)\" x1=\"1175.57\" y1=\"1361.51\" x2=\"1159.57\" y2=\"1377.51\" style=\"stroke:#000000; stroke-width:3.2; stroke-opacity:1\"/>\n",
       "<line clip-path=\"url(#clip222)\" x1=\"1175.57\" y1=\"1361.51\" x2=\"1191.57\" y2=\"1377.51\" style=\"stroke:#000000; stroke-width:3.2; stroke-opacity:1\"/>\n",
       "<line clip-path=\"url(#clip222)\" x1=\"1175.57\" y1=\"1361.51\" x2=\"1191.57\" y2=\"1345.51\" style=\"stroke:#000000; stroke-width:3.2; stroke-opacity:1\"/>\n",
       "<line clip-path=\"url(#clip222)\" x1=\"1216.92\" y1=\"1361.51\" x2=\"1200.92\" y2=\"1345.51\" style=\"stroke:#000000; stroke-width:3.2; stroke-opacity:1\"/>\n",
       "<line clip-path=\"url(#clip222)\" x1=\"1216.92\" y1=\"1361.51\" x2=\"1200.92\" y2=\"1377.51\" style=\"stroke:#000000; stroke-width:3.2; stroke-opacity:1\"/>\n",
       "<line clip-path=\"url(#clip222)\" x1=\"1216.92\" y1=\"1361.51\" x2=\"1232.92\" y2=\"1377.51\" style=\"stroke:#000000; stroke-width:3.2; stroke-opacity:1\"/>\n",
       "<line clip-path=\"url(#clip222)\" x1=\"1216.92\" y1=\"1361.51\" x2=\"1232.92\" y2=\"1345.51\" style=\"stroke:#000000; stroke-width:3.2; stroke-opacity:1\"/>\n",
       "<line clip-path=\"url(#clip222)\" x1=\"1258.26\" y1=\"1361.51\" x2=\"1242.26\" y2=\"1345.51\" style=\"stroke:#000000; stroke-width:3.2; stroke-opacity:1\"/>\n",
       "<line clip-path=\"url(#clip222)\" x1=\"1258.26\" y1=\"1361.51\" x2=\"1242.26\" y2=\"1377.51\" style=\"stroke:#000000; stroke-width:3.2; stroke-opacity:1\"/>\n",
       "<line clip-path=\"url(#clip222)\" x1=\"1258.26\" y1=\"1361.51\" x2=\"1274.26\" y2=\"1377.51\" style=\"stroke:#000000; stroke-width:3.2; stroke-opacity:1\"/>\n",
       "<line clip-path=\"url(#clip222)\" x1=\"1258.26\" y1=\"1361.51\" x2=\"1274.26\" y2=\"1345.51\" style=\"stroke:#000000; stroke-width:3.2; stroke-opacity:1\"/>\n",
       "<line clip-path=\"url(#clip222)\" x1=\"1299.61\" y1=\"1361.51\" x2=\"1283.61\" y2=\"1345.51\" style=\"stroke:#000000; stroke-width:3.2; stroke-opacity:1\"/>\n",
       "<line clip-path=\"url(#clip222)\" x1=\"1299.61\" y1=\"1361.51\" x2=\"1283.61\" y2=\"1377.51\" style=\"stroke:#000000; stroke-width:3.2; stroke-opacity:1\"/>\n",
       "<line clip-path=\"url(#clip222)\" x1=\"1299.61\" y1=\"1361.51\" x2=\"1315.61\" y2=\"1377.51\" style=\"stroke:#000000; stroke-width:3.2; stroke-opacity:1\"/>\n",
       "<line clip-path=\"url(#clip222)\" x1=\"1299.61\" y1=\"1361.51\" x2=\"1315.61\" y2=\"1345.51\" style=\"stroke:#000000; stroke-width:3.2; stroke-opacity:1\"/>\n",
       "<line clip-path=\"url(#clip222)\" x1=\"1340.96\" y1=\"1361.51\" x2=\"1324.96\" y2=\"1345.51\" style=\"stroke:#000000; stroke-width:3.2; stroke-opacity:1\"/>\n",
       "<line clip-path=\"url(#clip222)\" x1=\"1340.96\" y1=\"1361.51\" x2=\"1324.96\" y2=\"1377.51\" style=\"stroke:#000000; stroke-width:3.2; stroke-opacity:1\"/>\n",
       "<line clip-path=\"url(#clip222)\" x1=\"1340.96\" y1=\"1361.51\" x2=\"1356.96\" y2=\"1377.51\" style=\"stroke:#000000; stroke-width:3.2; stroke-opacity:1\"/>\n",
       "<line clip-path=\"url(#clip222)\" x1=\"1340.96\" y1=\"1361.51\" x2=\"1356.96\" y2=\"1345.51\" style=\"stroke:#000000; stroke-width:3.2; stroke-opacity:1\"/>\n",
       "<line clip-path=\"url(#clip222)\" x1=\"1382.31\" y1=\"1361.51\" x2=\"1366.31\" y2=\"1345.51\" style=\"stroke:#000000; stroke-width:3.2; stroke-opacity:1\"/>\n",
       "<line clip-path=\"url(#clip222)\" x1=\"1382.31\" y1=\"1361.51\" x2=\"1366.31\" y2=\"1377.51\" style=\"stroke:#000000; stroke-width:3.2; stroke-opacity:1\"/>\n",
       "<line clip-path=\"url(#clip222)\" x1=\"1382.31\" y1=\"1361.51\" x2=\"1398.31\" y2=\"1377.51\" style=\"stroke:#000000; stroke-width:3.2; stroke-opacity:1\"/>\n",
       "<line clip-path=\"url(#clip222)\" x1=\"1382.31\" y1=\"1361.51\" x2=\"1398.31\" y2=\"1345.51\" style=\"stroke:#000000; stroke-width:3.2; stroke-opacity:1\"/>\n",
       "<line clip-path=\"url(#clip222)\" x1=\"1423.66\" y1=\"1361.51\" x2=\"1407.66\" y2=\"1345.51\" style=\"stroke:#000000; stroke-width:3.2; stroke-opacity:1\"/>\n",
       "<line clip-path=\"url(#clip222)\" x1=\"1423.66\" y1=\"1361.51\" x2=\"1407.66\" y2=\"1377.51\" style=\"stroke:#000000; stroke-width:3.2; stroke-opacity:1\"/>\n",
       "<line clip-path=\"url(#clip222)\" x1=\"1423.66\" y1=\"1361.51\" x2=\"1439.66\" y2=\"1377.51\" style=\"stroke:#000000; stroke-width:3.2; stroke-opacity:1\"/>\n",
       "<line clip-path=\"url(#clip222)\" x1=\"1423.66\" y1=\"1361.51\" x2=\"1439.66\" y2=\"1345.51\" style=\"stroke:#000000; stroke-width:3.2; stroke-opacity:1\"/>\n",
       "<line clip-path=\"url(#clip222)\" x1=\"1465.01\" y1=\"1384.24\" x2=\"1449.01\" y2=\"1368.24\" style=\"stroke:#000000; stroke-width:3.2; stroke-opacity:1\"/>\n",
       "<line clip-path=\"url(#clip222)\" x1=\"1465.01\" y1=\"1384.24\" x2=\"1449.01\" y2=\"1400.24\" style=\"stroke:#000000; stroke-width:3.2; stroke-opacity:1\"/>\n",
       "<line clip-path=\"url(#clip222)\" x1=\"1465.01\" y1=\"1384.24\" x2=\"1481.01\" y2=\"1400.24\" style=\"stroke:#000000; stroke-width:3.2; stroke-opacity:1\"/>\n",
       "<line clip-path=\"url(#clip222)\" x1=\"1465.01\" y1=\"1384.24\" x2=\"1481.01\" y2=\"1368.24\" style=\"stroke:#000000; stroke-width:3.2; stroke-opacity:1\"/>\n",
       "<line clip-path=\"url(#clip222)\" x1=\"1506.35\" y1=\"1361.51\" x2=\"1490.35\" y2=\"1345.51\" style=\"stroke:#000000; stroke-width:3.2; stroke-opacity:1\"/>\n",
       "<line clip-path=\"url(#clip222)\" x1=\"1506.35\" y1=\"1361.51\" x2=\"1490.35\" y2=\"1377.51\" style=\"stroke:#000000; stroke-width:3.2; stroke-opacity:1\"/>\n",
       "<line clip-path=\"url(#clip222)\" x1=\"1506.35\" y1=\"1361.51\" x2=\"1522.35\" y2=\"1377.51\" style=\"stroke:#000000; stroke-width:3.2; stroke-opacity:1\"/>\n",
       "<line clip-path=\"url(#clip222)\" x1=\"1506.35\" y1=\"1361.51\" x2=\"1522.35\" y2=\"1345.51\" style=\"stroke:#000000; stroke-width:3.2; stroke-opacity:1\"/>\n",
       "<line clip-path=\"url(#clip222)\" x1=\"1547.7\" y1=\"1361.51\" x2=\"1531.7\" y2=\"1345.51\" style=\"stroke:#000000; stroke-width:3.2; stroke-opacity:1\"/>\n",
       "<line clip-path=\"url(#clip222)\" x1=\"1547.7\" y1=\"1361.51\" x2=\"1531.7\" y2=\"1377.51\" style=\"stroke:#000000; stroke-width:3.2; stroke-opacity:1\"/>\n",
       "<line clip-path=\"url(#clip222)\" x1=\"1547.7\" y1=\"1361.51\" x2=\"1563.7\" y2=\"1377.51\" style=\"stroke:#000000; stroke-width:3.2; stroke-opacity:1\"/>\n",
       "<line clip-path=\"url(#clip222)\" x1=\"1547.7\" y1=\"1361.51\" x2=\"1563.7\" y2=\"1345.51\" style=\"stroke:#000000; stroke-width:3.2; stroke-opacity:1\"/>\n",
       "<line clip-path=\"url(#clip222)\" x1=\"1589.05\" y1=\"1361.51\" x2=\"1573.05\" y2=\"1345.51\" style=\"stroke:#000000; stroke-width:3.2; stroke-opacity:1\"/>\n",
       "<line clip-path=\"url(#clip222)\" x1=\"1589.05\" y1=\"1361.51\" x2=\"1573.05\" y2=\"1377.51\" style=\"stroke:#000000; stroke-width:3.2; stroke-opacity:1\"/>\n",
       "<line clip-path=\"url(#clip222)\" x1=\"1589.05\" y1=\"1361.51\" x2=\"1605.05\" y2=\"1377.51\" style=\"stroke:#000000; stroke-width:3.2; stroke-opacity:1\"/>\n",
       "<line clip-path=\"url(#clip222)\" x1=\"1589.05\" y1=\"1361.51\" x2=\"1605.05\" y2=\"1345.51\" style=\"stroke:#000000; stroke-width:3.2; stroke-opacity:1\"/>\n",
       "<line clip-path=\"url(#clip222)\" x1=\"1630.4\" y1=\"1361.51\" x2=\"1614.4\" y2=\"1345.51\" style=\"stroke:#000000; stroke-width:3.2; stroke-opacity:1\"/>\n",
       "<line clip-path=\"url(#clip222)\" x1=\"1630.4\" y1=\"1361.51\" x2=\"1614.4\" y2=\"1377.51\" style=\"stroke:#000000; stroke-width:3.2; stroke-opacity:1\"/>\n",
       "<line clip-path=\"url(#clip222)\" x1=\"1630.4\" y1=\"1361.51\" x2=\"1646.4\" y2=\"1377.51\" style=\"stroke:#000000; stroke-width:3.2; stroke-opacity:1\"/>\n",
       "<line clip-path=\"url(#clip222)\" x1=\"1630.4\" y1=\"1361.51\" x2=\"1646.4\" y2=\"1345.51\" style=\"stroke:#000000; stroke-width:3.2; stroke-opacity:1\"/>\n",
       "<line clip-path=\"url(#clip222)\" x1=\"1671.75\" y1=\"1361.51\" x2=\"1655.75\" y2=\"1345.51\" style=\"stroke:#000000; stroke-width:3.2; stroke-opacity:1\"/>\n",
       "<line clip-path=\"url(#clip222)\" x1=\"1671.75\" y1=\"1361.51\" x2=\"1655.75\" y2=\"1377.51\" style=\"stroke:#000000; stroke-width:3.2; stroke-opacity:1\"/>\n",
       "<line clip-path=\"url(#clip222)\" x1=\"1671.75\" y1=\"1361.51\" x2=\"1687.75\" y2=\"1377.51\" style=\"stroke:#000000; stroke-width:3.2; stroke-opacity:1\"/>\n",
       "<line clip-path=\"url(#clip222)\" x1=\"1671.75\" y1=\"1361.51\" x2=\"1687.75\" y2=\"1345.51\" style=\"stroke:#000000; stroke-width:3.2; stroke-opacity:1\"/>\n",
       "<line clip-path=\"url(#clip222)\" x1=\"1713.1\" y1=\"86.1857\" x2=\"1697.1\" y2=\"70.1857\" style=\"stroke:#000000; stroke-width:3.2; stroke-opacity:1\"/>\n",
       "<line clip-path=\"url(#clip222)\" x1=\"1713.1\" y1=\"86.1857\" x2=\"1697.1\" y2=\"102.186\" style=\"stroke:#000000; stroke-width:3.2; stroke-opacity:1\"/>\n",
       "<line clip-path=\"url(#clip222)\" x1=\"1713.1\" y1=\"86.1857\" x2=\"1729.1\" y2=\"102.186\" style=\"stroke:#000000; stroke-width:3.2; stroke-opacity:1\"/>\n",
       "<line clip-path=\"url(#clip222)\" x1=\"1713.1\" y1=\"86.1857\" x2=\"1729.1\" y2=\"70.1857\" style=\"stroke:#000000; stroke-width:3.2; stroke-opacity:1\"/>\n",
       "<line clip-path=\"url(#clip222)\" x1=\"1754.44\" y1=\"1361.51\" x2=\"1738.44\" y2=\"1345.51\" style=\"stroke:#000000; stroke-width:3.2; stroke-opacity:1\"/>\n",
       "<line clip-path=\"url(#clip222)\" x1=\"1754.44\" y1=\"1361.51\" x2=\"1738.44\" y2=\"1377.51\" style=\"stroke:#000000; stroke-width:3.2; stroke-opacity:1\"/>\n",
       "<line clip-path=\"url(#clip222)\" x1=\"1754.44\" y1=\"1361.51\" x2=\"1770.44\" y2=\"1377.51\" style=\"stroke:#000000; stroke-width:3.2; stroke-opacity:1\"/>\n",
       "<line clip-path=\"url(#clip222)\" x1=\"1754.44\" y1=\"1361.51\" x2=\"1770.44\" y2=\"1345.51\" style=\"stroke:#000000; stroke-width:3.2; stroke-opacity:1\"/>\n",
       "<line clip-path=\"url(#clip222)\" x1=\"1795.79\" y1=\"1361.51\" x2=\"1779.79\" y2=\"1345.51\" style=\"stroke:#000000; stroke-width:3.2; stroke-opacity:1\"/>\n",
       "<line clip-path=\"url(#clip222)\" x1=\"1795.79\" y1=\"1361.51\" x2=\"1779.79\" y2=\"1377.51\" style=\"stroke:#000000; stroke-width:3.2; stroke-opacity:1\"/>\n",
       "<line clip-path=\"url(#clip222)\" x1=\"1795.79\" y1=\"1361.51\" x2=\"1811.79\" y2=\"1377.51\" style=\"stroke:#000000; stroke-width:3.2; stroke-opacity:1\"/>\n",
       "<line clip-path=\"url(#clip222)\" x1=\"1795.79\" y1=\"1361.51\" x2=\"1811.79\" y2=\"1345.51\" style=\"stroke:#000000; stroke-width:3.2; stroke-opacity:1\"/>\n",
       "<line clip-path=\"url(#clip222)\" x1=\"1837.14\" y1=\"1361.51\" x2=\"1821.14\" y2=\"1345.51\" style=\"stroke:#000000; stroke-width:3.2; stroke-opacity:1\"/>\n",
       "<line clip-path=\"url(#clip222)\" x1=\"1837.14\" y1=\"1361.51\" x2=\"1821.14\" y2=\"1377.51\" style=\"stroke:#000000; stroke-width:3.2; stroke-opacity:1\"/>\n",
       "<line clip-path=\"url(#clip222)\" x1=\"1837.14\" y1=\"1361.51\" x2=\"1853.14\" y2=\"1377.51\" style=\"stroke:#000000; stroke-width:3.2; stroke-opacity:1\"/>\n",
       "<line clip-path=\"url(#clip222)\" x1=\"1837.14\" y1=\"1361.51\" x2=\"1853.14\" y2=\"1345.51\" style=\"stroke:#000000; stroke-width:3.2; stroke-opacity:1\"/>\n",
       "<line clip-path=\"url(#clip222)\" x1=\"1878.49\" y1=\"1361.51\" x2=\"1862.49\" y2=\"1345.51\" style=\"stroke:#000000; stroke-width:3.2; stroke-opacity:1\"/>\n",
       "<line clip-path=\"url(#clip222)\" x1=\"1878.49\" y1=\"1361.51\" x2=\"1862.49\" y2=\"1377.51\" style=\"stroke:#000000; stroke-width:3.2; stroke-opacity:1\"/>\n",
       "<line clip-path=\"url(#clip222)\" x1=\"1878.49\" y1=\"1361.51\" x2=\"1894.49\" y2=\"1377.51\" style=\"stroke:#000000; stroke-width:3.2; stroke-opacity:1\"/>\n",
       "<line clip-path=\"url(#clip222)\" x1=\"1878.49\" y1=\"1361.51\" x2=\"1894.49\" y2=\"1345.51\" style=\"stroke:#000000; stroke-width:3.2; stroke-opacity:1\"/>\n",
       "<line clip-path=\"url(#clip222)\" x1=\"1919.84\" y1=\"1361.51\" x2=\"1903.84\" y2=\"1345.51\" style=\"stroke:#000000; stroke-width:3.2; stroke-opacity:1\"/>\n",
       "<line clip-path=\"url(#clip222)\" x1=\"1919.84\" y1=\"1361.51\" x2=\"1903.84\" y2=\"1377.51\" style=\"stroke:#000000; stroke-width:3.2; stroke-opacity:1\"/>\n",
       "<line clip-path=\"url(#clip222)\" x1=\"1919.84\" y1=\"1361.51\" x2=\"1935.84\" y2=\"1377.51\" style=\"stroke:#000000; stroke-width:3.2; stroke-opacity:1\"/>\n",
       "<line clip-path=\"url(#clip222)\" x1=\"1919.84\" y1=\"1361.51\" x2=\"1935.84\" y2=\"1345.51\" style=\"stroke:#000000; stroke-width:3.2; stroke-opacity:1\"/>\n",
       "<line clip-path=\"url(#clip222)\" x1=\"1961.19\" y1=\"1361.51\" x2=\"1945.19\" y2=\"1345.51\" style=\"stroke:#000000; stroke-width:3.2; stroke-opacity:1\"/>\n",
       "<line clip-path=\"url(#clip222)\" x1=\"1961.19\" y1=\"1361.51\" x2=\"1945.19\" y2=\"1377.51\" style=\"stroke:#000000; stroke-width:3.2; stroke-opacity:1\"/>\n",
       "<line clip-path=\"url(#clip222)\" x1=\"1961.19\" y1=\"1361.51\" x2=\"1977.19\" y2=\"1377.51\" style=\"stroke:#000000; stroke-width:3.2; stroke-opacity:1\"/>\n",
       "<line clip-path=\"url(#clip222)\" x1=\"1961.19\" y1=\"1361.51\" x2=\"1977.19\" y2=\"1345.51\" style=\"stroke:#000000; stroke-width:3.2; stroke-opacity:1\"/>\n",
       "<line clip-path=\"url(#clip222)\" x1=\"2002.54\" y1=\"1361.51\" x2=\"1986.54\" y2=\"1345.51\" style=\"stroke:#000000; stroke-width:3.2; stroke-opacity:1\"/>\n",
       "<line clip-path=\"url(#clip222)\" x1=\"2002.54\" y1=\"1361.51\" x2=\"1986.54\" y2=\"1377.51\" style=\"stroke:#000000; stroke-width:3.2; stroke-opacity:1\"/>\n",
       "<line clip-path=\"url(#clip222)\" x1=\"2002.54\" y1=\"1361.51\" x2=\"2018.54\" y2=\"1377.51\" style=\"stroke:#000000; stroke-width:3.2; stroke-opacity:1\"/>\n",
       "<line clip-path=\"url(#clip222)\" x1=\"2002.54\" y1=\"1361.51\" x2=\"2018.54\" y2=\"1345.51\" style=\"stroke:#000000; stroke-width:3.2; stroke-opacity:1\"/>\n",
       "<line clip-path=\"url(#clip222)\" x1=\"2043.88\" y1=\"1361.51\" x2=\"2027.88\" y2=\"1345.51\" style=\"stroke:#000000; stroke-width:3.2; stroke-opacity:1\"/>\n",
       "<line clip-path=\"url(#clip222)\" x1=\"2043.88\" y1=\"1361.51\" x2=\"2027.88\" y2=\"1377.51\" style=\"stroke:#000000; stroke-width:3.2; stroke-opacity:1\"/>\n",
       "<line clip-path=\"url(#clip222)\" x1=\"2043.88\" y1=\"1361.51\" x2=\"2059.88\" y2=\"1377.51\" style=\"stroke:#000000; stroke-width:3.2; stroke-opacity:1\"/>\n",
       "<line clip-path=\"url(#clip222)\" x1=\"2043.88\" y1=\"1361.51\" x2=\"2059.88\" y2=\"1345.51\" style=\"stroke:#000000; stroke-width:3.2; stroke-opacity:1\"/>\n",
       "<line clip-path=\"url(#clip222)\" x1=\"2085.23\" y1=\"1361.51\" x2=\"2069.23\" y2=\"1345.51\" style=\"stroke:#000000; stroke-width:3.2; stroke-opacity:1\"/>\n",
       "<line clip-path=\"url(#clip222)\" x1=\"2085.23\" y1=\"1361.51\" x2=\"2069.23\" y2=\"1377.51\" style=\"stroke:#000000; stroke-width:3.2; stroke-opacity:1\"/>\n",
       "<line clip-path=\"url(#clip222)\" x1=\"2085.23\" y1=\"1361.51\" x2=\"2101.23\" y2=\"1377.51\" style=\"stroke:#000000; stroke-width:3.2; stroke-opacity:1\"/>\n",
       "<line clip-path=\"url(#clip222)\" x1=\"2085.23\" y1=\"1361.51\" x2=\"2101.23\" y2=\"1345.51\" style=\"stroke:#000000; stroke-width:3.2; stroke-opacity:1\"/>\n",
       "<line clip-path=\"url(#clip222)\" x1=\"2126.58\" y1=\"86.2045\" x2=\"2110.58\" y2=\"70.2045\" style=\"stroke:#000000; stroke-width:3.2; stroke-opacity:1\"/>\n",
       "<line clip-path=\"url(#clip222)\" x1=\"2126.58\" y1=\"86.2045\" x2=\"2110.58\" y2=\"102.205\" style=\"stroke:#000000; stroke-width:3.2; stroke-opacity:1\"/>\n",
       "<line clip-path=\"url(#clip222)\" x1=\"2126.58\" y1=\"86.2045\" x2=\"2142.58\" y2=\"102.205\" style=\"stroke:#000000; stroke-width:3.2; stroke-opacity:1\"/>\n",
       "<line clip-path=\"url(#clip222)\" x1=\"2126.58\" y1=\"86.2045\" x2=\"2142.58\" y2=\"70.2045\" style=\"stroke:#000000; stroke-width:3.2; stroke-opacity:1\"/>\n",
       "<line clip-path=\"url(#clip222)\" x1=\"2167.93\" y1=\"1361.51\" x2=\"2151.93\" y2=\"1345.51\" style=\"stroke:#000000; stroke-width:3.2; stroke-opacity:1\"/>\n",
       "<line clip-path=\"url(#clip222)\" x1=\"2167.93\" y1=\"1361.51\" x2=\"2151.93\" y2=\"1377.51\" style=\"stroke:#000000; stroke-width:3.2; stroke-opacity:1\"/>\n",
       "<line clip-path=\"url(#clip222)\" x1=\"2167.93\" y1=\"1361.51\" x2=\"2183.93\" y2=\"1377.51\" style=\"stroke:#000000; stroke-width:3.2; stroke-opacity:1\"/>\n",
       "<line clip-path=\"url(#clip222)\" x1=\"2167.93\" y1=\"1361.51\" x2=\"2183.93\" y2=\"1345.51\" style=\"stroke:#000000; stroke-width:3.2; stroke-opacity:1\"/>\n",
       "<line clip-path=\"url(#clip222)\" x1=\"2209.28\" y1=\"1361.51\" x2=\"2193.28\" y2=\"1345.51\" style=\"stroke:#000000; stroke-width:3.2; stroke-opacity:1\"/>\n",
       "<line clip-path=\"url(#clip222)\" x1=\"2209.28\" y1=\"1361.51\" x2=\"2193.28\" y2=\"1377.51\" style=\"stroke:#000000; stroke-width:3.2; stroke-opacity:1\"/>\n",
       "<line clip-path=\"url(#clip222)\" x1=\"2209.28\" y1=\"1361.51\" x2=\"2225.28\" y2=\"1377.51\" style=\"stroke:#000000; stroke-width:3.2; stroke-opacity:1\"/>\n",
       "<line clip-path=\"url(#clip222)\" x1=\"2209.28\" y1=\"1361.51\" x2=\"2225.28\" y2=\"1345.51\" style=\"stroke:#000000; stroke-width:3.2; stroke-opacity:1\"/>\n",
       "<line clip-path=\"url(#clip222)\" x1=\"2250.63\" y1=\"1361.51\" x2=\"2234.63\" y2=\"1345.51\" style=\"stroke:#000000; stroke-width:3.2; stroke-opacity:1\"/>\n",
       "<line clip-path=\"url(#clip222)\" x1=\"2250.63\" y1=\"1361.51\" x2=\"2234.63\" y2=\"1377.51\" style=\"stroke:#000000; stroke-width:3.2; stroke-opacity:1\"/>\n",
       "<line clip-path=\"url(#clip222)\" x1=\"2250.63\" y1=\"1361.51\" x2=\"2266.63\" y2=\"1377.51\" style=\"stroke:#000000; stroke-width:3.2; stroke-opacity:1\"/>\n",
       "<line clip-path=\"url(#clip222)\" x1=\"2250.63\" y1=\"1361.51\" x2=\"2266.63\" y2=\"1345.51\" style=\"stroke:#000000; stroke-width:3.2; stroke-opacity:1\"/>\n",
       "<line clip-path=\"url(#clip222)\" x1=\"2291.97\" y1=\"1361.51\" x2=\"2275.97\" y2=\"1345.51\" style=\"stroke:#000000; stroke-width:3.2; stroke-opacity:1\"/>\n",
       "<line clip-path=\"url(#clip222)\" x1=\"2291.97\" y1=\"1361.51\" x2=\"2275.97\" y2=\"1377.51\" style=\"stroke:#000000; stroke-width:3.2; stroke-opacity:1\"/>\n",
       "<line clip-path=\"url(#clip222)\" x1=\"2291.97\" y1=\"1361.51\" x2=\"2307.97\" y2=\"1377.51\" style=\"stroke:#000000; stroke-width:3.2; stroke-opacity:1\"/>\n",
       "<line clip-path=\"url(#clip222)\" x1=\"2291.97\" y1=\"1361.51\" x2=\"2307.97\" y2=\"1345.51\" style=\"stroke:#000000; stroke-width:3.2; stroke-opacity:1\"/>\n",
       "</svg>\n"
      ]
     },
     "metadata": {},
     "output_type": "display_data"
    }
   ],
   "source": [
    "# objective function (parallel)\n",
    "p2 = plot(1:nScenMax,(solObjTraj_s[2,:] - solObjTraj_s[1,:])./solObjTraj_s[1,:],\n",
    "    xlabel=\"# scenarios\", \n",
    "    ylabel=\"objective function difference [-]\",\n",
    "    marker=:xcross, \n",
    "    markercolor = :black,\n",
    "    linecolor = :black,\n",
    "    label=\"\",\n",
    "    dpi=600)\n",
    "\n",
    "display(p2)\n",
    "savefig(p2,\"C:/Users/MACC-Jose/Documents/Canada/Papers/Benders Decomposition/Figures/C3_OFComp.pdf\");"
   ]
  },
  {
   "cell_type": "code",
   "execution_count": 18,
   "id": "e2222e80",
   "metadata": {},
   "outputs": [
    {
     "data": {
      "image/svg+xml": [
       "<?xml version=\"1.0\" encoding=\"utf-8\"?>\n",
       "<svg xmlns=\"http://www.w3.org/2000/svg\" xmlns:xlink=\"http://www.w3.org/1999/xlink\" width=\"600\" height=\"400\" viewBox=\"0 0 2400 1600\">\n",
       "<defs>\n",
       "  <clipPath id=\"clip270\">\n",
       "    <rect x=\"0\" y=\"0\" width=\"2400\" height=\"1600\"/>\n",
       "  </clipPath>\n",
       "</defs>\n",
       "<path clip-path=\"url(#clip270)\" d=\"M0 1600 L2400 1600 L2400 0 L0 0  Z\" fill=\"#ffffff\" fill-rule=\"evenodd\" fill-opacity=\"1\"/>\n",
       "<defs>\n",
       "  <clipPath id=\"clip271\">\n",
       "    <rect x=\"480\" y=\"0\" width=\"1681\" height=\"1600\"/>\n",
       "  </clipPath>\n",
       "</defs>\n",
       "<path clip-path=\"url(#clip270)\" d=\"M202.227 1423.18 L2352.76 1423.18 L2352.76 47.2441 L202.227 47.2441  Z\" fill=\"#ffffff\" fill-rule=\"evenodd\" fill-opacity=\"1\"/>\n",
       "<defs>\n",
       "  <clipPath id=\"clip272\">\n",
       "    <rect x=\"202\" y=\"47\" width=\"2152\" height=\"1377\"/>\n",
       "  </clipPath>\n",
       "</defs>\n",
       "<polyline clip-path=\"url(#clip272)\" style=\"stroke:#000000; stroke-linecap:round; stroke-linejoin:round; stroke-width:8; stroke-opacity:0.1; fill:none\" points=\"221.687,1423.18 221.687,47.2441 \"/>\n",
       "<polyline clip-path=\"url(#clip272)\" style=\"stroke:#000000; stroke-linecap:round; stroke-linejoin:round; stroke-width:8; stroke-opacity:0.1; fill:none\" points=\"635.728,1423.18 635.728,47.2441 \"/>\n",
       "<polyline clip-path=\"url(#clip272)\" style=\"stroke:#000000; stroke-linecap:round; stroke-linejoin:round; stroke-width:8; stroke-opacity:0.1; fill:none\" points=\"1049.77,1423.18 1049.77,47.2441 \"/>\n",
       "<polyline clip-path=\"url(#clip272)\" style=\"stroke:#000000; stroke-linecap:round; stroke-linejoin:round; stroke-width:8; stroke-opacity:0.1; fill:none\" points=\"1463.81,1423.18 1463.81,47.2441 \"/>\n",
       "<polyline clip-path=\"url(#clip272)\" style=\"stroke:#000000; stroke-linecap:round; stroke-linejoin:round; stroke-width:8; stroke-opacity:0.1; fill:none\" points=\"1877.85,1423.18 1877.85,47.2441 \"/>\n",
       "<polyline clip-path=\"url(#clip272)\" style=\"stroke:#000000; stroke-linecap:round; stroke-linejoin:round; stroke-width:8; stroke-opacity:0.1; fill:none\" points=\"2291.89,1423.18 2291.89,47.2441 \"/>\n",
       "<polyline clip-path=\"url(#clip270)\" style=\"stroke:#000000; stroke-linecap:round; stroke-linejoin:round; stroke-width:4; stroke-opacity:1; fill:none\" points=\"202.227,1423.18 2352.76,1423.18 \"/>\n",
       "<polyline clip-path=\"url(#clip270)\" style=\"stroke:#000000; stroke-linecap:round; stroke-linejoin:round; stroke-width:4; stroke-opacity:1; fill:none\" points=\"221.687,1423.18 221.687,1404.28 \"/>\n",
       "<polyline clip-path=\"url(#clip270)\" style=\"stroke:#000000; stroke-linecap:round; stroke-linejoin:round; stroke-width:4; stroke-opacity:1; fill:none\" points=\"635.728,1423.18 635.728,1404.28 \"/>\n",
       "<polyline clip-path=\"url(#clip270)\" style=\"stroke:#000000; stroke-linecap:round; stroke-linejoin:round; stroke-width:4; stroke-opacity:1; fill:none\" points=\"1049.77,1423.18 1049.77,1404.28 \"/>\n",
       "<polyline clip-path=\"url(#clip270)\" style=\"stroke:#000000; stroke-linecap:round; stroke-linejoin:round; stroke-width:4; stroke-opacity:1; fill:none\" points=\"1463.81,1423.18 1463.81,1404.28 \"/>\n",
       "<polyline clip-path=\"url(#clip270)\" style=\"stroke:#000000; stroke-linecap:round; stroke-linejoin:round; stroke-width:4; stroke-opacity:1; fill:none\" points=\"1877.85,1423.18 1877.85,1404.28 \"/>\n",
       "<polyline clip-path=\"url(#clip270)\" style=\"stroke:#000000; stroke-linecap:round; stroke-linejoin:round; stroke-width:4; stroke-opacity:1; fill:none\" points=\"2291.89,1423.18 2291.89,1404.28 \"/>\n",
       "<path clip-path=\"url(#clip270)\" d=\"M221.687 1454.1 Q218.076 1454.1 216.248 1457.66 Q214.442 1461.2 214.442 1468.33 Q214.442 1475.44 216.248 1479.01 Q218.076 1482.55 221.687 1482.55 Q225.322 1482.55 227.127 1479.01 Q228.956 1475.44 228.956 1468.33 Q228.956 1461.2 227.127 1457.66 Q225.322 1454.1 221.687 1454.1 M221.687 1450.39 Q227.498 1450.39 230.553 1455 Q233.632 1459.58 233.632 1468.33 Q233.632 1477.06 230.553 1481.67 Q227.498 1486.25 221.687 1486.25 Q215.877 1486.25 212.799 1481.67 Q209.743 1477.06 209.743 1468.33 Q209.743 1459.58 212.799 1455 Q215.877 1450.39 221.687 1450.39 Z\" fill=\"#000000\" fill-rule=\"evenodd\" fill-opacity=\"1\" /><path clip-path=\"url(#clip270)\" d=\"M610.416 1481.64 L618.055 1481.64 L618.055 1455.28 L609.745 1456.95 L609.745 1452.69 L618.008 1451.02 L622.684 1451.02 L622.684 1481.64 L630.323 1481.64 L630.323 1485.58 L610.416 1485.58 L610.416 1481.64 Z\" fill=\"#000000\" fill-rule=\"evenodd\" fill-opacity=\"1\" /><path clip-path=\"url(#clip270)\" d=\"M649.768 1454.1 Q646.156 1454.1 644.328 1457.66 Q642.522 1461.2 642.522 1468.33 Q642.522 1475.44 644.328 1479.01 Q646.156 1482.55 649.768 1482.55 Q653.402 1482.55 655.207 1479.01 Q657.036 1475.44 657.036 1468.33 Q657.036 1461.2 655.207 1457.66 Q653.402 1454.1 649.768 1454.1 M649.768 1450.39 Q655.578 1450.39 658.633 1455 Q661.712 1459.58 661.712 1468.33 Q661.712 1477.06 658.633 1481.67 Q655.578 1486.25 649.768 1486.25 Q643.957 1486.25 640.879 1481.67 Q637.823 1477.06 637.823 1468.33 Q637.823 1459.58 640.879 1455 Q643.957 1450.39 649.768 1450.39 Z\" fill=\"#000000\" fill-rule=\"evenodd\" fill-opacity=\"1\" /><path clip-path=\"url(#clip270)\" d=\"M1028.54 1481.64 L1044.86 1481.64 L1044.86 1485.58 L1022.92 1485.58 L1022.92 1481.64 Q1025.58 1478.89 1030.16 1474.26 Q1034.77 1469.61 1035.95 1468.27 Q1038.2 1465.74 1039.07 1464.01 Q1039.98 1462.25 1039.98 1460.56 Q1039.98 1457.8 1038.03 1456.07 Q1036.11 1454.33 1033.01 1454.33 Q1030.81 1454.33 1028.36 1455.09 Q1025.93 1455.86 1023.15 1457.41 L1023.15 1452.69 Q1025.97 1451.55 1028.43 1450.97 Q1030.88 1450.39 1032.92 1450.39 Q1038.29 1450.39 1041.48 1453.08 Q1044.68 1455.77 1044.68 1460.26 Q1044.68 1462.39 1043.87 1464.31 Q1043.08 1466.2 1040.97 1468.8 Q1040.39 1469.47 1037.29 1472.69 Q1034.19 1475.88 1028.54 1481.64 Z\" fill=\"#000000\" fill-rule=\"evenodd\" fill-opacity=\"1\" /><path clip-path=\"url(#clip270)\" d=\"M1064.68 1454.1 Q1061.07 1454.1 1059.24 1457.66 Q1057.43 1461.2 1057.43 1468.33 Q1057.43 1475.44 1059.24 1479.01 Q1061.07 1482.55 1064.68 1482.55 Q1068.31 1482.55 1070.12 1479.01 Q1071.95 1475.44 1071.95 1468.33 Q1071.95 1461.2 1070.12 1457.66 Q1068.31 1454.1 1064.68 1454.1 M1064.68 1450.39 Q1070.49 1450.39 1073.54 1455 Q1076.62 1459.58 1076.62 1468.33 Q1076.62 1477.06 1073.54 1481.67 Q1070.49 1486.25 1064.68 1486.25 Q1058.87 1486.25 1055.79 1481.67 Q1052.73 1477.06 1052.73 1468.33 Q1052.73 1459.58 1055.79 1455 Q1058.87 1450.39 1064.68 1450.39 Z\" fill=\"#000000\" fill-rule=\"evenodd\" fill-opacity=\"1\" /><path clip-path=\"url(#clip270)\" d=\"M1452.65 1466.95 Q1456.01 1467.66 1457.88 1469.93 Q1459.78 1472.2 1459.78 1475.53 Q1459.78 1480.65 1456.26 1483.45 Q1452.75 1486.25 1446.26 1486.25 Q1444.09 1486.25 1441.77 1485.81 Q1439.48 1485.39 1437.03 1484.54 L1437.03 1480.02 Q1438.97 1481.16 1441.29 1481.74 Q1443.6 1482.32 1446.13 1482.32 Q1450.52 1482.32 1452.81 1480.58 Q1455.13 1478.84 1455.13 1475.53 Q1455.13 1472.48 1452.98 1470.77 Q1450.85 1469.03 1447.03 1469.03 L1443 1469.03 L1443 1465.19 L1447.21 1465.19 Q1450.66 1465.19 1452.49 1463.82 Q1454.32 1462.43 1454.32 1459.84 Q1454.32 1457.18 1452.42 1455.77 Q1450.55 1454.33 1447.03 1454.33 Q1445.11 1454.33 1442.91 1454.75 Q1440.71 1455.16 1438.07 1456.04 L1438.07 1451.88 Q1440.73 1451.14 1443.05 1450.77 Q1445.38 1450.39 1447.44 1450.39 Q1452.77 1450.39 1455.87 1452.83 Q1458.97 1455.23 1458.97 1459.35 Q1458.97 1462.22 1457.33 1464.21 Q1455.69 1466.18 1452.65 1466.95 Z\" fill=\"#000000\" fill-rule=\"evenodd\" fill-opacity=\"1\" /><path clip-path=\"url(#clip270)\" d=\"M1478.65 1454.1 Q1475.04 1454.1 1473.21 1457.66 Q1471.4 1461.2 1471.4 1468.33 Q1471.4 1475.44 1473.21 1479.01 Q1475.04 1482.55 1478.65 1482.55 Q1482.28 1482.55 1484.09 1479.01 Q1485.92 1475.44 1485.92 1468.33 Q1485.92 1461.2 1484.09 1457.66 Q1482.28 1454.1 1478.65 1454.1 M1478.65 1450.39 Q1484.46 1450.39 1487.51 1455 Q1490.59 1459.58 1490.59 1468.33 Q1490.59 1477.06 1487.51 1481.67 Q1484.46 1486.25 1478.65 1486.25 Q1472.84 1486.25 1469.76 1481.67 Q1466.7 1477.06 1466.7 1468.33 Q1466.7 1459.58 1469.76 1455 Q1472.84 1450.39 1478.65 1450.39 Z\" fill=\"#000000\" fill-rule=\"evenodd\" fill-opacity=\"1\" /><path clip-path=\"url(#clip270)\" d=\"M1866.02 1455.09 L1854.22 1473.54 L1866.02 1473.54 L1866.02 1455.09 M1864.8 1451.02 L1870.68 1451.02 L1870.68 1473.54 L1875.61 1473.54 L1875.61 1477.43 L1870.68 1477.43 L1870.68 1485.58 L1866.02 1485.58 L1866.02 1477.43 L1850.42 1477.43 L1850.42 1472.92 L1864.8 1451.02 Z\" fill=\"#000000\" fill-rule=\"evenodd\" fill-opacity=\"1\" /><path clip-path=\"url(#clip270)\" d=\"M1893.34 1454.1 Q1889.73 1454.1 1887.9 1457.66 Q1886.09 1461.2 1886.09 1468.33 Q1886.09 1475.44 1887.9 1479.01 Q1889.73 1482.55 1893.34 1482.55 Q1896.97 1482.55 1898.78 1479.01 Q1900.61 1475.44 1900.61 1468.33 Q1900.61 1461.2 1898.78 1457.66 Q1896.97 1454.1 1893.34 1454.1 M1893.34 1450.39 Q1899.15 1450.39 1902.2 1455 Q1905.28 1459.58 1905.28 1468.33 Q1905.28 1477.06 1902.2 1481.67 Q1899.15 1486.25 1893.34 1486.25 Q1887.53 1486.25 1884.45 1481.67 Q1881.39 1477.06 1881.39 1468.33 Q1881.39 1459.58 1884.45 1455 Q1887.53 1450.39 1893.34 1450.39 Z\" fill=\"#000000\" fill-rule=\"evenodd\" fill-opacity=\"1\" /><path clip-path=\"url(#clip270)\" d=\"M2266.59 1451.02 L2284.95 1451.02 L2284.95 1454.96 L2270.87 1454.96 L2270.87 1463.43 Q2271.89 1463.08 2272.91 1462.92 Q2273.93 1462.73 2274.95 1462.73 Q2280.73 1462.73 2284.11 1465.9 Q2287.49 1469.08 2287.49 1474.49 Q2287.49 1480.07 2284.02 1483.17 Q2280.55 1486.25 2274.23 1486.25 Q2272.05 1486.25 2269.79 1485.88 Q2267.54 1485.51 2265.13 1484.77 L2265.13 1480.07 Q2267.22 1481.2 2269.44 1481.76 Q2271.66 1482.32 2274.14 1482.32 Q2278.14 1482.32 2280.48 1480.21 Q2282.82 1478.1 2282.82 1474.49 Q2282.82 1470.88 2280.48 1468.77 Q2278.14 1466.67 2274.14 1466.67 Q2272.26 1466.67 2270.39 1467.08 Q2268.54 1467.5 2266.59 1468.38 L2266.59 1451.02 Z\" fill=\"#000000\" fill-rule=\"evenodd\" fill-opacity=\"1\" /><path clip-path=\"url(#clip270)\" d=\"M2306.71 1454.1 Q2303.1 1454.1 2301.27 1457.66 Q2299.46 1461.2 2299.46 1468.33 Q2299.46 1475.44 2301.27 1479.01 Q2303.1 1482.55 2306.71 1482.55 Q2310.34 1482.55 2312.15 1479.01 Q2313.98 1475.44 2313.98 1468.33 Q2313.98 1461.2 2312.15 1457.66 Q2310.34 1454.1 2306.71 1454.1 M2306.71 1450.39 Q2312.52 1450.39 2315.57 1455 Q2318.65 1459.58 2318.65 1468.33 Q2318.65 1477.06 2315.57 1481.67 Q2312.52 1486.25 2306.71 1486.25 Q2300.9 1486.25 2297.82 1481.67 Q2294.76 1477.06 2294.76 1468.33 Q2294.76 1459.58 2297.82 1455 Q2300.9 1450.39 2306.71 1450.39 Z\" fill=\"#000000\" fill-rule=\"evenodd\" fill-opacity=\"1\" /><path clip-path=\"url(#clip270)\" d=\"M1117.27 1539.37 L1108 1539.37 L1105.33 1550 L1114.66 1550 L1117.27 1539.37 M1112.49 1521.26 L1109.18 1534.46 L1118.48 1534.46 L1121.82 1521.26 L1126.91 1521.26 L1123.63 1534.46 L1133.56 1534.46 L1133.56 1539.37 L1122.39 1539.37 L1119.78 1550 L1129.9 1550 L1129.9 1554.87 L1118.54 1554.87 L1115.23 1568.04 L1110.14 1568.04 L1113.42 1554.87 L1104.09 1554.87 L1100.81 1568.04 L1095.69 1568.04 L1099 1554.87 L1088.97 1554.87 L1088.97 1550 L1100.17 1550 L1102.85 1539.37 L1092.6 1539.37 L1092.6 1534.46 L1104.09 1534.46 L1107.34 1521.26 L1112.49 1521.26 Z\" fill=\"#000000\" fill-rule=\"evenodd\" fill-opacity=\"1\" /><path clip-path=\"url(#clip270)\" d=\"M1188.15 1533.45 L1188.15 1538.98 Q1185.67 1537.71 1182.99 1537.07 Q1180.32 1536.44 1177.45 1536.44 Q1173.09 1536.44 1170.9 1537.77 Q1168.73 1539.11 1168.73 1541.79 Q1168.73 1543.82 1170.29 1545 Q1171.85 1546.15 1176.56 1547.2 L1178.57 1547.64 Q1184.81 1548.98 1187.42 1551.43 Q1190.06 1553.85 1190.06 1558.21 Q1190.06 1563.17 1186.11 1566.07 Q1182.2 1568.97 1175.32 1568.97 Q1172.46 1568.97 1169.34 1568.39 Q1166.25 1567.85 1162.81 1566.74 L1162.81 1560.69 Q1166.06 1562.38 1169.21 1563.24 Q1172.36 1564.07 1175.45 1564.07 Q1179.59 1564.07 1181.82 1562.66 Q1184.04 1561.23 1184.04 1558.65 Q1184.04 1556.27 1182.42 1554.99 Q1180.83 1553.72 1175.39 1552.54 L1173.35 1552.07 Q1167.91 1550.92 1165.49 1548.56 Q1163.07 1546.18 1163.07 1542.04 Q1163.07 1537.01 1166.63 1534.27 Q1170.2 1531.54 1176.75 1531.54 Q1180 1531.54 1182.87 1532.01 Q1185.73 1532.49 1188.15 1533.45 Z\" fill=\"#000000\" fill-rule=\"evenodd\" fill-opacity=\"1\" /><path clip-path=\"url(#clip270)\" d=\"M1225.04 1533.76 L1225.04 1539.24 Q1222.56 1537.87 1220.04 1537.2 Q1217.56 1536.5 1215.01 1536.5 Q1209.31 1536.5 1206.16 1540.13 Q1203.01 1543.73 1203.01 1550.25 Q1203.01 1556.78 1206.16 1560.4 Q1209.31 1564 1215.01 1564 Q1217.56 1564 1220.04 1563.33 Q1222.56 1562.63 1225.04 1561.26 L1225.04 1566.68 Q1222.59 1567.82 1219.95 1568.39 Q1217.34 1568.97 1214.38 1568.97 Q1206.32 1568.97 1201.58 1563.91 Q1196.84 1558.85 1196.84 1550.25 Q1196.84 1541.53 1201.61 1536.53 Q1206.42 1531.54 1214.76 1531.54 Q1217.46 1531.54 1220.04 1532.11 Q1222.62 1532.65 1225.04 1533.76 Z\" fill=\"#000000\" fill-rule=\"evenodd\" fill-opacity=\"1\" /><path clip-path=\"url(#clip270)\" d=\"M1265.72 1548.76 L1265.72 1551.62 L1238.79 1551.62 Q1239.17 1557.67 1242.42 1560.85 Q1245.69 1564 1251.52 1564 Q1254.89 1564 1258.04 1563.17 Q1261.23 1562.35 1264.35 1560.69 L1264.35 1566.23 Q1261.2 1567.57 1257.89 1568.27 Q1254.58 1568.97 1251.17 1568.97 Q1242.64 1568.97 1237.64 1564 Q1232.68 1559.04 1232.68 1550.57 Q1232.68 1541.82 1237.39 1536.69 Q1242.13 1531.54 1250.15 1531.54 Q1257.34 1531.54 1261.51 1536.18 Q1265.72 1540.8 1265.72 1548.76 M1259.86 1547.04 Q1259.8 1542.23 1257.15 1539.37 Q1254.54 1536.5 1250.21 1536.5 Q1245.31 1536.5 1242.35 1539.27 Q1239.42 1542.04 1238.98 1547.07 L1259.86 1547.04 Z\" fill=\"#000000\" fill-rule=\"evenodd\" fill-opacity=\"1\" /><path clip-path=\"url(#clip270)\" d=\"M1304.96 1546.53 L1304.96 1568.04 L1299.1 1568.04 L1299.1 1546.72 Q1299.1 1541.66 1297.13 1539.14 Q1295.16 1536.63 1291.21 1536.63 Q1286.47 1536.63 1283.73 1539.65 Q1280.99 1542.68 1280.99 1547.9 L1280.99 1568.04 L1275.1 1568.04 L1275.1 1532.4 L1280.99 1532.4 L1280.99 1537.93 Q1283.09 1534.72 1285.93 1533.13 Q1288.79 1531.54 1292.51 1531.54 Q1298.66 1531.54 1301.81 1535.36 Q1304.96 1539.14 1304.96 1546.53 Z\" fill=\"#000000\" fill-rule=\"evenodd\" fill-opacity=\"1\" /><path clip-path=\"url(#clip270)\" d=\"M1332.84 1550.12 Q1325.74 1550.12 1323.01 1551.75 Q1320.27 1553.37 1320.27 1557.29 Q1320.27 1560.4 1322.31 1562.25 Q1324.38 1564.07 1327.91 1564.07 Q1332.78 1564.07 1335.71 1560.63 Q1338.67 1557.16 1338.67 1551.43 L1338.67 1550.12 L1332.84 1550.12 M1344.52 1547.71 L1344.52 1568.04 L1338.67 1568.04 L1338.67 1562.63 Q1336.66 1565.88 1333.67 1567.44 Q1330.68 1568.97 1326.35 1568.97 Q1320.87 1568.97 1317.63 1565.91 Q1314.41 1562.82 1314.41 1557.67 Q1314.41 1551.65 1318.42 1548.6 Q1322.47 1545.54 1330.45 1545.54 L1338.67 1545.54 L1338.67 1544.97 Q1338.67 1540.93 1335.99 1538.73 Q1333.35 1536.5 1328.54 1536.5 Q1325.49 1536.5 1322.59 1537.23 Q1319.7 1537.97 1317.02 1539.43 L1317.02 1534.02 Q1320.24 1532.78 1323.26 1532.17 Q1326.28 1531.54 1329.15 1531.54 Q1336.88 1531.54 1340.7 1535.55 Q1344.52 1539.56 1344.52 1547.71 Z\" fill=\"#000000\" fill-rule=\"evenodd\" fill-opacity=\"1\" /><path clip-path=\"url(#clip270)\" d=\"M1377.24 1537.87 Q1376.26 1537.3 1375.08 1537.04 Q1373.93 1536.76 1372.53 1536.76 Q1367.57 1536.76 1364.89 1540 Q1362.25 1543.22 1362.25 1549.27 L1362.25 1568.04 L1356.36 1568.04 L1356.36 1532.4 L1362.25 1532.4 L1362.25 1537.93 Q1364.1 1534.69 1367.06 1533.13 Q1370.02 1531.54 1374.25 1531.54 Q1374.86 1531.54 1375.59 1531.63 Q1376.32 1531.7 1377.21 1531.85 L1377.24 1537.87 Z\" fill=\"#000000\" fill-rule=\"evenodd\" fill-opacity=\"1\" /><path clip-path=\"url(#clip270)\" d=\"M1383.39 1532.4 L1389.24 1532.4 L1389.24 1568.04 L1383.39 1568.04 L1383.39 1532.4 M1383.39 1518.52 L1389.24 1518.52 L1389.24 1525.93 L1383.39 1525.93 L1383.39 1518.52 Z\" fill=\"#000000\" fill-rule=\"evenodd\" fill-opacity=\"1\" /><path clip-path=\"url(#clip270)\" d=\"M1415.31 1536.5 Q1410.6 1536.5 1407.86 1540.19 Q1405.12 1543.85 1405.12 1550.25 Q1405.12 1556.65 1407.83 1560.34 Q1410.57 1564 1415.31 1564 Q1419.99 1564 1422.73 1560.31 Q1425.46 1556.62 1425.46 1550.25 Q1425.46 1543.92 1422.73 1540.23 Q1419.99 1536.5 1415.31 1536.5 M1415.31 1531.54 Q1422.95 1531.54 1427.31 1536.5 Q1431.67 1541.47 1431.67 1550.25 Q1431.67 1559 1427.31 1564 Q1422.95 1568.97 1415.31 1568.97 Q1407.64 1568.97 1403.28 1564 Q1398.95 1559 1398.95 1550.25 Q1398.95 1541.47 1403.28 1536.5 Q1407.64 1531.54 1415.31 1531.54 Z\" fill=\"#000000\" fill-rule=\"evenodd\" fill-opacity=\"1\" /><path clip-path=\"url(#clip270)\" d=\"M1464.1 1533.45 L1464.1 1538.98 Q1461.62 1537.71 1458.95 1537.07 Q1456.27 1536.44 1453.41 1536.44 Q1449.05 1536.44 1446.85 1537.77 Q1444.69 1539.11 1444.69 1541.79 Q1444.69 1543.82 1446.25 1545 Q1447.81 1546.15 1452.52 1547.2 L1454.52 1547.64 Q1460.76 1548.98 1463.37 1551.43 Q1466.01 1553.85 1466.01 1558.21 Q1466.01 1563.17 1462.07 1566.07 Q1458.15 1568.97 1451.28 1568.97 Q1448.41 1568.97 1445.29 1568.39 Q1442.2 1567.85 1438.77 1566.74 L1438.77 1560.69 Q1442.01 1562.38 1445.16 1563.24 Q1448.32 1564.07 1451.4 1564.07 Q1455.54 1564.07 1457.77 1562.66 Q1460 1561.23 1460 1558.65 Q1460 1556.27 1458.37 1554.99 Q1456.78 1553.72 1451.34 1552.54 L1449.3 1552.07 Q1443.86 1550.92 1441.44 1548.56 Q1439.02 1546.18 1439.02 1542.04 Q1439.02 1537.01 1442.59 1534.27 Q1446.15 1531.54 1452.71 1531.54 Q1455.95 1531.54 1458.82 1532.01 Q1461.68 1532.49 1464.1 1533.45 Z\" fill=\"#000000\" fill-rule=\"evenodd\" fill-opacity=\"1\" /><polyline clip-path=\"url(#clip272)\" style=\"stroke:#000000; stroke-linecap:round; stroke-linejoin:round; stroke-width:8; stroke-opacity:0.1; fill:none\" points=\"202.227,1384.24 2352.76,1384.24 \"/>\n",
       "<polyline clip-path=\"url(#clip272)\" style=\"stroke:#000000; stroke-linecap:round; stroke-linejoin:round; stroke-width:8; stroke-opacity:0.1; fill:none\" points=\"202.227,572.955 2352.76,572.955 \"/>\n",
       "<polyline clip-path=\"url(#clip270)\" style=\"stroke:#000000; stroke-linecap:round; stroke-linejoin:round; stroke-width:4; stroke-opacity:1; fill:none\" points=\"202.227,1423.18 202.227,47.2441 \"/>\n",
       "<polyline clip-path=\"url(#clip270)\" style=\"stroke:#000000; stroke-linecap:round; stroke-linejoin:round; stroke-width:4; stroke-opacity:1; fill:none\" points=\"202.227,1384.24 221.125,1384.24 \"/>\n",
       "<polyline clip-path=\"url(#clip270)\" style=\"stroke:#000000; stroke-linecap:round; stroke-linejoin:round; stroke-width:4; stroke-opacity:1; fill:none\" points=\"202.227,572.955 221.125,572.955 \"/>\n",
       "<path clip-path=\"url(#clip270)\" d=\"M154.283 1370.04 Q150.672 1370.04 148.843 1373.6 Q147.038 1377.14 147.038 1384.27 Q147.038 1391.38 148.843 1394.94 Q150.672 1398.49 154.283 1398.49 Q157.917 1398.49 159.723 1394.94 Q161.552 1391.38 161.552 1384.27 Q161.552 1377.14 159.723 1373.6 Q157.917 1370.04 154.283 1370.04 M154.283 1366.33 Q160.093 1366.33 163.149 1370.94 Q166.227 1375.52 166.227 1384.27 Q166.227 1393 163.149 1397.61 Q160.093 1402.19 154.283 1402.19 Q148.473 1402.19 145.394 1397.61 Q142.339 1393 142.339 1384.27 Q142.339 1375.52 145.394 1370.94 Q148.473 1366.33 154.283 1366.33 Z\" fill=\"#000000\" fill-rule=\"evenodd\" fill-opacity=\"1\" /><path clip-path=\"url(#clip270)\" d=\"M114.931 586.3 L122.57 586.3 L122.57 559.935 L114.26 561.601 L114.26 557.342 L122.524 555.675 L127.2 555.675 L127.2 586.3 L134.839 586.3 L134.839 590.235 L114.931 590.235 L114.931 586.3 Z\" fill=\"#000000\" fill-rule=\"evenodd\" fill-opacity=\"1\" /><path clip-path=\"url(#clip270)\" d=\"M154.283 558.754 Q150.672 558.754 148.843 562.319 Q147.038 565.861 147.038 572.99 Q147.038 580.097 148.843 583.661 Q150.672 587.203 154.283 587.203 Q157.917 587.203 159.723 583.661 Q161.552 580.097 161.552 572.99 Q161.552 565.861 159.723 562.319 Q157.917 558.754 154.283 558.754 M154.283 555.05 Q160.093 555.05 163.149 559.657 Q166.227 564.24 166.227 572.99 Q166.227 581.717 163.149 586.323 Q160.093 590.907 154.283 590.907 Q148.473 590.907 145.394 586.323 Q142.339 581.717 142.339 572.99 Q142.339 564.24 145.394 559.657 Q148.473 555.05 154.283 555.05 Z\" fill=\"#000000\" fill-rule=\"evenodd\" fill-opacity=\"1\" /><path clip-path=\"url(#clip270)\" d=\"M35.3266 895.15 L35.3266 904.412 L45.9574 907.086 L45.9574 897.76 L35.3266 895.15 M17.2162 899.925 L30.4251 903.235 L30.4251 893.941 L17.2162 890.599 L17.2162 885.506 L30.4251 888.785 L30.4251 878.854 L35.3266 878.854 L35.3266 890.026 L45.9574 892.636 L45.9574 882.514 L50.8271 882.514 L50.8271 893.877 L64.0042 897.187 L64.0042 902.28 L50.8271 899.002 L50.8271 908.327 L64.0042 911.606 L64.0042 916.73 L50.8271 913.42 L50.8271 923.446 L45.9574 923.446 L45.9574 912.242 L35.3266 909.569 L35.3266 919.817 L30.4251 919.817 L30.4251 908.327 L17.2162 905.081 L17.2162 899.925 Z\" fill=\"#000000\" fill-rule=\"evenodd\" fill-opacity=\"1\" /><path clip-path=\"url(#clip270)\" d=\"M28.3562 846.994 L28.3562 841.137 L64.0042 841.137 L64.0042 846.994 L28.3562 846.994 M14.479 846.994 L14.479 841.137 L21.895 841.137 L21.895 846.994 L14.479 846.994 Z\" fill=\"#000000\" fill-rule=\"evenodd\" fill-opacity=\"1\" /><path clip-path=\"url(#clip270)\" d=\"M18.2347 823.091 L28.3562 823.091 L28.3562 811.028 L32.9077 811.028 L32.9077 823.091 L52.2594 823.091 Q56.6199 823.091 57.8613 821.913 Q59.1026 820.703 59.1026 817.043 L59.1026 811.028 L64.0042 811.028 L64.0042 817.043 Q64.0042 823.823 61.4897 826.401 Q58.9434 828.979 52.2594 828.979 L32.9077 828.979 L32.9077 833.276 L28.3562 833.276 L28.3562 828.979 L18.2347 828.979 L18.2347 823.091 Z\" fill=\"#000000\" fill-rule=\"evenodd\" fill-opacity=\"1\" /><path clip-path=\"url(#clip270)\" d=\"M44.7161 772.833 L47.5806 772.833 L47.5806 799.76 Q53.6281 799.378 56.8109 796.132 Q59.9619 792.853 59.9619 787.029 Q59.9619 783.655 59.1344 780.504 Q58.3069 777.321 56.6518 774.202 L62.1899 774.202 Q63.5267 777.353 64.227 780.663 Q64.9272 783.973 64.9272 787.379 Q64.9272 795.909 59.9619 800.906 Q54.9967 805.871 46.5303 805.871 Q37.7774 805.871 32.6531 801.161 Q27.4968 796.418 27.4968 788.397 Q27.4968 781.204 32.1438 777.035 Q36.7589 772.833 44.7161 772.833 M42.9973 778.69 Q38.1912 778.753 35.3266 781.395 Q32.4621 784.005 32.4621 788.334 Q32.4621 793.235 35.2312 796.195 Q38.0002 799.124 43.0292 799.569 L42.9973 778.69 Z\" fill=\"#000000\" fill-rule=\"evenodd\" fill-opacity=\"1\" /><path clip-path=\"url(#clip270)\" d=\"M33.8307 742.564 Q33.2578 743.551 33.0032 744.729 Q32.7167 745.875 32.7167 747.275 Q32.7167 752.24 35.9632 754.914 Q39.1779 757.556 45.2253 757.556 L64.0042 757.556 L64.0042 763.444 L28.3562 763.444 L28.3562 757.556 L33.8944 757.556 Q30.6479 755.71 29.0883 752.749 Q27.4968 749.789 27.4968 745.556 Q27.4968 744.951 27.5923 744.219 Q27.656 743.487 27.8151 742.596 L33.8307 742.564 Z\" fill=\"#000000\" fill-rule=\"evenodd\" fill-opacity=\"1\" /><path clip-path=\"url(#clip270)\" d=\"M46.0847 720.221 Q46.0847 727.318 47.7079 730.056 Q49.3312 732.793 53.2461 732.793 Q56.3653 732.793 58.2114 730.756 Q60.0256 728.687 60.0256 725.154 Q60.0256 720.284 56.5881 717.356 Q53.1188 714.396 47.3897 714.396 L46.0847 714.396 L46.0847 720.221 M43.6657 708.54 L64.0042 708.54 L64.0042 714.396 L58.5933 714.396 Q61.8398 716.401 63.3994 719.393 Q64.9272 722.385 64.9272 726.714 Q64.9272 732.188 61.8716 735.435 Q58.7843 738.649 53.6281 738.649 Q47.6125 738.649 44.5569 734.639 Q41.5014 730.597 41.5014 722.608 L41.5014 714.396 L40.9285 714.396 Q36.8862 714.396 34.6901 717.07 Q32.4621 719.711 32.4621 724.518 Q32.4621 727.573 33.1941 730.47 Q33.9262 733.366 35.3903 736.04 L29.9795 736.04 Q28.7381 732.825 28.1334 729.801 Q27.4968 726.777 27.4968 723.913 Q27.4968 716.179 31.5072 712.359 Q35.5176 708.54 43.6657 708.54 Z\" fill=\"#000000\" fill-rule=\"evenodd\" fill-opacity=\"1\" /><path clip-path=\"url(#clip270)\" d=\"M18.2347 690.684 L28.3562 690.684 L28.3562 678.621 L32.9077 678.621 L32.9077 690.684 L52.2594 690.684 Q56.6199 690.684 57.8613 689.506 Q59.1026 688.297 59.1026 684.636 L59.1026 678.621 L64.0042 678.621 L64.0042 684.636 Q64.0042 691.416 61.4897 693.994 Q58.9434 696.572 52.2594 696.572 L32.9077 696.572 L32.9077 700.869 L28.3562 700.869 L28.3562 696.572 L18.2347 696.572 L18.2347 690.684 Z\" fill=\"#000000\" fill-rule=\"evenodd\" fill-opacity=\"1\" /><path clip-path=\"url(#clip270)\" d=\"M28.3562 670.918 L28.3562 665.062 L64.0042 665.062 L64.0042 670.918 L28.3562 670.918 M14.479 670.918 L14.479 665.062 L21.895 665.062 L21.895 670.918 L14.479 670.918 Z\" fill=\"#000000\" fill-rule=\"evenodd\" fill-opacity=\"1\" /><path clip-path=\"url(#clip270)\" d=\"M32.4621 638.994 Q32.4621 643.705 36.1542 646.442 Q39.8145 649.179 46.212 649.179 Q52.6095 649.179 56.3017 646.474 Q59.9619 643.737 59.9619 638.994 Q59.9619 634.316 56.2698 631.578 Q52.5777 628.841 46.212 628.841 Q39.8781 628.841 36.186 631.578 Q32.4621 634.316 32.4621 638.994 M27.4968 638.994 Q27.4968 631.355 32.4621 626.995 Q37.4273 622.634 46.212 622.634 Q54.9649 622.634 59.9619 626.995 Q64.9272 631.355 64.9272 638.994 Q64.9272 646.665 59.9619 651.025 Q54.9649 655.354 46.212 655.354 Q37.4273 655.354 32.4621 651.025 Q27.4968 646.665 27.4968 638.994 Z\" fill=\"#000000\" fill-rule=\"evenodd\" fill-opacity=\"1\" /><path clip-path=\"url(#clip270)\" d=\"M42.4881 583.294 L64.0042 583.294 L64.0042 589.151 L42.679 589.151 Q37.6183 589.151 35.1038 591.124 Q32.5894 593.098 32.5894 597.044 Q32.5894 601.787 35.6131 604.524 Q38.6368 607.261 43.8567 607.261 L64.0042 607.261 L64.0042 613.15 L28.3562 613.15 L28.3562 607.261 L33.8944 607.261 Q30.6797 605.161 29.0883 602.328 Q27.4968 599.463 27.4968 595.739 Q27.4968 589.596 31.3163 586.445 Q35.1038 583.294 42.4881 583.294 Z\" fill=\"#000000\" fill-rule=\"evenodd\" fill-opacity=\"1\" /><path clip-path=\"url(#clip270)\" d=\"M29.4065 548.888 L34.9447 548.888 Q33.6716 551.37 33.035 554.044 Q32.3984 556.718 32.3984 559.582 Q32.3984 563.943 33.7352 566.139 Q35.072 568.303 37.7456 568.303 Q39.7826 568.303 40.9603 566.744 Q42.1061 565.184 43.1565 560.473 L43.6021 558.468 Q44.9389 552.23 47.3897 549.62 Q49.8086 546.978 54.1691 546.978 Q59.1344 546.978 62.0308 550.925 Q64.9272 554.84 64.9272 561.715 Q64.9272 564.579 64.3543 567.698 Q63.8132 570.786 62.6992 574.223 L56.6518 574.223 Q58.3387 570.977 59.198 567.826 Q60.0256 564.675 60.0256 561.587 Q60.0256 557.45 58.6251 555.222 Q57.1929 552.994 54.6147 552.994 Q52.2276 552.994 50.9545 554.617 Q49.6813 556.208 48.5037 561.651 L48.0262 563.688 Q46.8804 569.131 44.5251 571.55 Q42.138 573.969 38.0002 573.969 Q32.9713 573.969 30.2341 570.404 Q27.4968 566.839 27.4968 560.282 Q27.4968 557.036 27.9743 554.171 Q28.4517 551.307 29.4065 548.888 Z\" fill=\"#000000\" fill-rule=\"evenodd\" fill-opacity=\"1\" /><polyline clip-path=\"url(#clip272)\" style=\"stroke:#000000; stroke-linecap:round; stroke-linejoin:round; stroke-width:4; stroke-opacity:1; fill:none\" stroke-dasharray=\"16, 8, 2, 8\" points=\"263.091,86.1857 304.496,1384.24 345.9,1384.24 387.304,1384.24 428.708,1384.24 470.112,1384.24 511.516,1384.24 552.92,1384.24 594.324,1384.24 635.728,1384.24 677.132,1384.24 718.536,1384.24 759.941,1384.24 801.345,1384.24 842.749,1384.24 884.153,1384.24 925.557,1384.24 966.961,1384.24 1008.37,1384.24 1049.77,1384.24 1091.17,1384.24 1132.58,1384.24 1173.98,1384.24 1215.39,1384.24 1256.79,1384.24 1298.19,1384.24 1339.6,1384.24 1381,1384.24 1422.41,1384.24 1463.81,1384.24 1505.21,1384.24 1546.62,1384.24 1588.02,1384.24 1629.43,1384.24 1670.83,1384.24 1712.23,1384.24 1753.64,1384.24 1795.04,1384.24 1836.45,1384.24 1877.85,1384.24 1919.26,1384.24 1960.66,1384.24 2002.06,1384.24 2043.47,1384.24 2084.87,1384.24 2126.28,1384.24 2167.68,1384.24 2209.08,1384.24 2250.49,1384.24 2291.89,1384.24 \"/>\n",
       "<path clip-path=\"url(#clip272)\" d=\"M251.091 74.1857 L251.091 98.1857 L275.091 98.1857 L275.091 74.1857 L251.091 74.1857 Z\" fill=\"#000000\" fill-rule=\"evenodd\" fill-opacity=\"1\" stroke=\"none\"/>\n",
       "<path clip-path=\"url(#clip272)\" d=\"M292.496 1372.24 L292.496 1396.24 L316.496 1396.24 L316.496 1372.24 L292.496 1372.24 Z\" fill=\"#000000\" fill-rule=\"evenodd\" fill-opacity=\"1\" stroke=\"none\"/>\n",
       "<path clip-path=\"url(#clip272)\" d=\"M333.9 1372.24 L333.9 1396.24 L357.9 1396.24 L357.9 1372.24 L333.9 1372.24 Z\" fill=\"#000000\" fill-rule=\"evenodd\" fill-opacity=\"1\" stroke=\"none\"/>\n",
       "<path clip-path=\"url(#clip272)\" d=\"M375.304 1372.24 L375.304 1396.24 L399.304 1396.24 L399.304 1372.24 L375.304 1372.24 Z\" fill=\"#000000\" fill-rule=\"evenodd\" fill-opacity=\"1\" stroke=\"none\"/>\n",
       "<path clip-path=\"url(#clip272)\" d=\"M416.708 1372.24 L416.708 1396.24 L440.708 1396.24 L440.708 1372.24 L416.708 1372.24 Z\" fill=\"#000000\" fill-rule=\"evenodd\" fill-opacity=\"1\" stroke=\"none\"/>\n",
       "<path clip-path=\"url(#clip272)\" d=\"M458.112 1372.24 L458.112 1396.24 L482.112 1396.24 L482.112 1372.24 L458.112 1372.24 Z\" fill=\"#000000\" fill-rule=\"evenodd\" fill-opacity=\"1\" stroke=\"none\"/>\n",
       "<path clip-path=\"url(#clip272)\" d=\"M499.516 1372.24 L499.516 1396.24 L523.516 1396.24 L523.516 1372.24 L499.516 1372.24 Z\" fill=\"#000000\" fill-rule=\"evenodd\" fill-opacity=\"1\" stroke=\"none\"/>\n",
       "<path clip-path=\"url(#clip272)\" d=\"M540.92 1372.24 L540.92 1396.24 L564.92 1396.24 L564.92 1372.24 L540.92 1372.24 Z\" fill=\"#000000\" fill-rule=\"evenodd\" fill-opacity=\"1\" stroke=\"none\"/>\n",
       "<path clip-path=\"url(#clip272)\" d=\"M582.324 1372.24 L582.324 1396.24 L606.324 1396.24 L606.324 1372.24 L582.324 1372.24 Z\" fill=\"#000000\" fill-rule=\"evenodd\" fill-opacity=\"1\" stroke=\"none\"/>\n",
       "<path clip-path=\"url(#clip272)\" d=\"M623.728 1372.24 L623.728 1396.24 L647.728 1396.24 L647.728 1372.24 L623.728 1372.24 Z\" fill=\"#000000\" fill-rule=\"evenodd\" fill-opacity=\"1\" stroke=\"none\"/>\n",
       "<path clip-path=\"url(#clip272)\" d=\"M665.132 1372.24 L665.132 1396.24 L689.132 1396.24 L689.132 1372.24 L665.132 1372.24 Z\" fill=\"#000000\" fill-rule=\"evenodd\" fill-opacity=\"1\" stroke=\"none\"/>\n",
       "<path clip-path=\"url(#clip272)\" d=\"M706.536 1372.24 L706.536 1396.24 L730.536 1396.24 L730.536 1372.24 L706.536 1372.24 Z\" fill=\"#000000\" fill-rule=\"evenodd\" fill-opacity=\"1\" stroke=\"none\"/>\n",
       "<path clip-path=\"url(#clip272)\" d=\"M747.941 1372.24 L747.941 1396.24 L771.941 1396.24 L771.941 1372.24 L747.941 1372.24 Z\" fill=\"#000000\" fill-rule=\"evenodd\" fill-opacity=\"1\" stroke=\"none\"/>\n",
       "<path clip-path=\"url(#clip272)\" d=\"M789.345 1372.24 L789.345 1396.24 L813.345 1396.24 L813.345 1372.24 L789.345 1372.24 Z\" fill=\"#000000\" fill-rule=\"evenodd\" fill-opacity=\"1\" stroke=\"none\"/>\n",
       "<path clip-path=\"url(#clip272)\" d=\"M830.749 1372.24 L830.749 1396.24 L854.749 1396.24 L854.749 1372.24 L830.749 1372.24 Z\" fill=\"#000000\" fill-rule=\"evenodd\" fill-opacity=\"1\" stroke=\"none\"/>\n",
       "<path clip-path=\"url(#clip272)\" d=\"M872.153 1372.24 L872.153 1396.24 L896.153 1396.24 L896.153 1372.24 L872.153 1372.24 Z\" fill=\"#000000\" fill-rule=\"evenodd\" fill-opacity=\"1\" stroke=\"none\"/>\n",
       "<path clip-path=\"url(#clip272)\" d=\"M913.557 1372.24 L913.557 1396.24 L937.557 1396.24 L937.557 1372.24 L913.557 1372.24 Z\" fill=\"#000000\" fill-rule=\"evenodd\" fill-opacity=\"1\" stroke=\"none\"/>\n",
       "<path clip-path=\"url(#clip272)\" d=\"M954.961 1372.24 L954.961 1396.24 L978.961 1396.24 L978.961 1372.24 L954.961 1372.24 Z\" fill=\"#000000\" fill-rule=\"evenodd\" fill-opacity=\"1\" stroke=\"none\"/>\n",
       "<path clip-path=\"url(#clip272)\" d=\"M996.365 1372.24 L996.365 1396.24 L1020.37 1396.24 L1020.37 1372.24 L996.365 1372.24 Z\" fill=\"#000000\" fill-rule=\"evenodd\" fill-opacity=\"1\" stroke=\"none\"/>\n",
       "<path clip-path=\"url(#clip272)\" d=\"M1037.77 1372.24 L1037.77 1396.24 L1061.77 1396.24 L1061.77 1372.24 L1037.77 1372.24 Z\" fill=\"#000000\" fill-rule=\"evenodd\" fill-opacity=\"1\" stroke=\"none\"/>\n",
       "<path clip-path=\"url(#clip272)\" d=\"M1079.17 1372.24 L1079.17 1396.24 L1103.17 1396.24 L1103.17 1372.24 L1079.17 1372.24 Z\" fill=\"#000000\" fill-rule=\"evenodd\" fill-opacity=\"1\" stroke=\"none\"/>\n",
       "<path clip-path=\"url(#clip272)\" d=\"M1120.58 1372.24 L1120.58 1396.24 L1144.58 1396.24 L1144.58 1372.24 L1120.58 1372.24 Z\" fill=\"#000000\" fill-rule=\"evenodd\" fill-opacity=\"1\" stroke=\"none\"/>\n",
       "<path clip-path=\"url(#clip272)\" d=\"M1161.98 1372.24 L1161.98 1396.24 L1185.98 1396.24 L1185.98 1372.24 L1161.98 1372.24 Z\" fill=\"#000000\" fill-rule=\"evenodd\" fill-opacity=\"1\" stroke=\"none\"/>\n",
       "<path clip-path=\"url(#clip272)\" d=\"M1203.39 1372.24 L1203.39 1396.24 L1227.39 1396.24 L1227.39 1372.24 L1203.39 1372.24 Z\" fill=\"#000000\" fill-rule=\"evenodd\" fill-opacity=\"1\" stroke=\"none\"/>\n",
       "<path clip-path=\"url(#clip272)\" d=\"M1244.79 1372.24 L1244.79 1396.24 L1268.79 1396.24 L1268.79 1372.24 L1244.79 1372.24 Z\" fill=\"#000000\" fill-rule=\"evenodd\" fill-opacity=\"1\" stroke=\"none\"/>\n",
       "<path clip-path=\"url(#clip272)\" d=\"M1286.19 1372.24 L1286.19 1396.24 L1310.19 1396.24 L1310.19 1372.24 L1286.19 1372.24 Z\" fill=\"#000000\" fill-rule=\"evenodd\" fill-opacity=\"1\" stroke=\"none\"/>\n",
       "<path clip-path=\"url(#clip272)\" d=\"M1327.6 1372.24 L1327.6 1396.24 L1351.6 1396.24 L1351.6 1372.24 L1327.6 1372.24 Z\" fill=\"#000000\" fill-rule=\"evenodd\" fill-opacity=\"1\" stroke=\"none\"/>\n",
       "<path clip-path=\"url(#clip272)\" d=\"M1369 1372.24 L1369 1396.24 L1393 1396.24 L1393 1372.24 L1369 1372.24 Z\" fill=\"#000000\" fill-rule=\"evenodd\" fill-opacity=\"1\" stroke=\"none\"/>\n",
       "<path clip-path=\"url(#clip272)\" d=\"M1410.41 1372.24 L1410.41 1396.24 L1434.41 1396.24 L1434.41 1372.24 L1410.41 1372.24 Z\" fill=\"#000000\" fill-rule=\"evenodd\" fill-opacity=\"1\" stroke=\"none\"/>\n",
       "<path clip-path=\"url(#clip272)\" d=\"M1451.81 1372.24 L1451.81 1396.24 L1475.81 1396.24 L1475.81 1372.24 L1451.81 1372.24 Z\" fill=\"#000000\" fill-rule=\"evenodd\" fill-opacity=\"1\" stroke=\"none\"/>\n",
       "<path clip-path=\"url(#clip272)\" d=\"M1493.21 1372.24 L1493.21 1396.24 L1517.21 1396.24 L1517.21 1372.24 L1493.21 1372.24 Z\" fill=\"#000000\" fill-rule=\"evenodd\" fill-opacity=\"1\" stroke=\"none\"/>\n",
       "<path clip-path=\"url(#clip272)\" d=\"M1534.62 1372.24 L1534.62 1396.24 L1558.62 1396.24 L1558.62 1372.24 L1534.62 1372.24 Z\" fill=\"#000000\" fill-rule=\"evenodd\" fill-opacity=\"1\" stroke=\"none\"/>\n",
       "<path clip-path=\"url(#clip272)\" d=\"M1576.02 1372.24 L1576.02 1396.24 L1600.02 1396.24 L1600.02 1372.24 L1576.02 1372.24 Z\" fill=\"#000000\" fill-rule=\"evenodd\" fill-opacity=\"1\" stroke=\"none\"/>\n",
       "<path clip-path=\"url(#clip272)\" d=\"M1617.43 1372.24 L1617.43 1396.24 L1641.43 1396.24 L1641.43 1372.24 L1617.43 1372.24 Z\" fill=\"#000000\" fill-rule=\"evenodd\" fill-opacity=\"1\" stroke=\"none\"/>\n",
       "<path clip-path=\"url(#clip272)\" d=\"M1658.83 1372.24 L1658.83 1396.24 L1682.83 1396.24 L1682.83 1372.24 L1658.83 1372.24 Z\" fill=\"#000000\" fill-rule=\"evenodd\" fill-opacity=\"1\" stroke=\"none\"/>\n",
       "<path clip-path=\"url(#clip272)\" d=\"M1700.23 1372.24 L1700.23 1396.24 L1724.23 1396.24 L1724.23 1372.24 L1700.23 1372.24 Z\" fill=\"#000000\" fill-rule=\"evenodd\" fill-opacity=\"1\" stroke=\"none\"/>\n",
       "<path clip-path=\"url(#clip272)\" d=\"M1741.64 1372.24 L1741.64 1396.24 L1765.64 1396.24 L1765.64 1372.24 L1741.64 1372.24 Z\" fill=\"#000000\" fill-rule=\"evenodd\" fill-opacity=\"1\" stroke=\"none\"/>\n",
       "<path clip-path=\"url(#clip272)\" d=\"M1783.04 1372.24 L1783.04 1396.24 L1807.04 1396.24 L1807.04 1372.24 L1783.04 1372.24 Z\" fill=\"#000000\" fill-rule=\"evenodd\" fill-opacity=\"1\" stroke=\"none\"/>\n",
       "<path clip-path=\"url(#clip272)\" d=\"M1824.45 1372.24 L1824.45 1396.24 L1848.45 1396.24 L1848.45 1372.24 L1824.45 1372.24 Z\" fill=\"#000000\" fill-rule=\"evenodd\" fill-opacity=\"1\" stroke=\"none\"/>\n",
       "<path clip-path=\"url(#clip272)\" d=\"M1865.85 1372.24 L1865.85 1396.24 L1889.85 1396.24 L1889.85 1372.24 L1865.85 1372.24 Z\" fill=\"#000000\" fill-rule=\"evenodd\" fill-opacity=\"1\" stroke=\"none\"/>\n",
       "<path clip-path=\"url(#clip272)\" d=\"M1907.26 1372.24 L1907.26 1396.24 L1931.26 1396.24 L1931.26 1372.24 L1907.26 1372.24 Z\" fill=\"#000000\" fill-rule=\"evenodd\" fill-opacity=\"1\" stroke=\"none\"/>\n",
       "<path clip-path=\"url(#clip272)\" d=\"M1948.66 1372.24 L1948.66 1396.24 L1972.66 1396.24 L1972.66 1372.24 L1948.66 1372.24 Z\" fill=\"#000000\" fill-rule=\"evenodd\" fill-opacity=\"1\" stroke=\"none\"/>\n",
       "<path clip-path=\"url(#clip272)\" d=\"M1990.06 1372.24 L1990.06 1396.24 L2014.06 1396.24 L2014.06 1372.24 L1990.06 1372.24 Z\" fill=\"#000000\" fill-rule=\"evenodd\" fill-opacity=\"1\" stroke=\"none\"/>\n",
       "<path clip-path=\"url(#clip272)\" d=\"M2031.47 1372.24 L2031.47 1396.24 L2055.47 1396.24 L2055.47 1372.24 L2031.47 1372.24 Z\" fill=\"#000000\" fill-rule=\"evenodd\" fill-opacity=\"1\" stroke=\"none\"/>\n",
       "<path clip-path=\"url(#clip272)\" d=\"M2072.87 1372.24 L2072.87 1396.24 L2096.87 1396.24 L2096.87 1372.24 L2072.87 1372.24 Z\" fill=\"#000000\" fill-rule=\"evenodd\" fill-opacity=\"1\" stroke=\"none\"/>\n",
       "<path clip-path=\"url(#clip272)\" d=\"M2114.28 1372.24 L2114.28 1396.24 L2138.28 1396.24 L2138.28 1372.24 L2114.28 1372.24 Z\" fill=\"#000000\" fill-rule=\"evenodd\" fill-opacity=\"1\" stroke=\"none\"/>\n",
       "<path clip-path=\"url(#clip272)\" d=\"M2155.68 1372.24 L2155.68 1396.24 L2179.68 1396.24 L2179.68 1372.24 L2155.68 1372.24 Z\" fill=\"#000000\" fill-rule=\"evenodd\" fill-opacity=\"1\" stroke=\"none\"/>\n",
       "<path clip-path=\"url(#clip272)\" d=\"M2197.08 1372.24 L2197.08 1396.24 L2221.08 1396.24 L2221.08 1372.24 L2197.08 1372.24 Z\" fill=\"#000000\" fill-rule=\"evenodd\" fill-opacity=\"1\" stroke=\"none\"/>\n",
       "<path clip-path=\"url(#clip272)\" d=\"M2238.49 1372.24 L2238.49 1396.24 L2262.49 1396.24 L2262.49 1372.24 L2238.49 1372.24 Z\" fill=\"#000000\" fill-rule=\"evenodd\" fill-opacity=\"1\" stroke=\"none\"/>\n",
       "<path clip-path=\"url(#clip272)\" d=\"M2279.89 1372.24 L2279.89 1396.24 L2303.89 1396.24 L2303.89 1372.24 L2279.89 1372.24 Z\" fill=\"#000000\" fill-rule=\"evenodd\" fill-opacity=\"1\" stroke=\"none\"/>\n",
       "</svg>\n"
      ]
     },
     "metadata": {},
     "output_type": "display_data"
    }
   ],
   "source": [
    "p3 = plot(1:nScenMax,iterTraj_s,xlabel=\"# scenarios\", ylabel=\"# iterations\",\n",
    "    marker=:square, \n",
    "    markersize=3,\n",
    "    linecolor = :black,\n",
    "    markercolor = :black,\n",
    "    linestyle = :dashdot,\n",
    "    label=\"\",\n",
    "    yticks=range(0,150,step=10),\n",
    "    gridlinewidth=2,\n",
    "    dpi=600)\n",
    "\n",
    "display(p3)\n",
    "savefig(p3,\"C:/Users/MACC-Jose/Documents/Canada/Papers/Benders Decomposition/Figures/C3_BenIter.pdf\");"
   ]
  },
  {
   "cell_type": "code",
   "execution_count": 19,
   "id": "6eec491f",
   "metadata": {},
   "outputs": [
    {
     "name": "stderr",
     "output_type": "stream",
     "text": [
      "\u001b[33m\u001b[1m┌ \u001b[22m\u001b[39m\u001b[33m\u001b[1mWarning: \u001b[22m\u001b[39mNo strict ticks found\n",
      "\u001b[33m\u001b[1m└ \u001b[22m\u001b[39m\u001b[90m@ PlotUtils C:\\Users\\MACC-Jose\\.julia\\packages\\PlotUtils\\bZEEj\\src\\ticks.jl:191\u001b[39m\n"
     ]
    },
    {
     "data": {
      "image/svg+xml": [
       "<?xml version=\"1.0\" encoding=\"utf-8\"?>\n",
       "<svg xmlns=\"http://www.w3.org/2000/svg\" xmlns:xlink=\"http://www.w3.org/1999/xlink\" width=\"600\" height=\"400\" viewBox=\"0 0 2400 1600\">\n",
       "<defs>\n",
       "  <clipPath id=\"clip320\">\n",
       "    <rect x=\"0\" y=\"0\" width=\"2400\" height=\"1600\"/>\n",
       "  </clipPath>\n",
       "</defs>\n",
       "<path clip-path=\"url(#clip320)\" d=\"M0 1600 L2400 1600 L2400 0 L0 0  Z\" fill=\"#ffffff\" fill-rule=\"evenodd\" fill-opacity=\"1\"/>\n",
       "<defs>\n",
       "  <clipPath id=\"clip321\">\n",
       "    <rect x=\"480\" y=\"0\" width=\"1681\" height=\"1600\"/>\n",
       "  </clipPath>\n",
       "</defs>\n",
       "<defs>\n",
       "  <clipPath id=\"clip322\">\n",
       "    <rect x=\"202\" y=\"47\" width=\"2152\" height=\"1377\"/>\n",
       "  </clipPath>\n",
       "</defs>\n",
       "<path clip-path=\"url(#clip320)\" d=\"M402.925 1423.18 L2352.76 1423.18 L2352.76 47.2441 L402.925 47.2441  Z\" fill=\"#ffffff\" fill-rule=\"evenodd\" fill-opacity=\"1\"/>\n",
       "<defs>\n",
       "  <clipPath id=\"clip323\">\n",
       "    <rect x=\"402\" y=\"47\" width=\"1951\" height=\"1377\"/>\n",
       "  </clipPath>\n",
       "</defs>\n",
       "<polyline clip-path=\"url(#clip323)\" style=\"stroke:#000000; stroke-linecap:round; stroke-linejoin:round; stroke-width:8; stroke-opacity:0.1; fill:none\" points=\"420.569,1423.18 420.569,47.2441 \"/>\n",
       "<polyline clip-path=\"url(#clip323)\" style=\"stroke:#000000; stroke-linecap:round; stroke-linejoin:round; stroke-width:8; stroke-opacity:0.1; fill:none\" points=\"795.97,1423.18 795.97,47.2441 \"/>\n",
       "<polyline clip-path=\"url(#clip323)\" style=\"stroke:#000000; stroke-linecap:round; stroke-linejoin:round; stroke-width:8; stroke-opacity:0.1; fill:none\" points=\"1171.37,1423.18 1171.37,47.2441 \"/>\n",
       "<polyline clip-path=\"url(#clip323)\" style=\"stroke:#000000; stroke-linecap:round; stroke-linejoin:round; stroke-width:8; stroke-opacity:0.1; fill:none\" points=\"1546.77,1423.18 1546.77,47.2441 \"/>\n",
       "<polyline clip-path=\"url(#clip323)\" style=\"stroke:#000000; stroke-linecap:round; stroke-linejoin:round; stroke-width:8; stroke-opacity:0.1; fill:none\" points=\"1922.17,1423.18 1922.17,47.2441 \"/>\n",
       "<polyline clip-path=\"url(#clip323)\" style=\"stroke:#000000; stroke-linecap:round; stroke-linejoin:round; stroke-width:8; stroke-opacity:0.1; fill:none\" points=\"2297.57,1423.18 2297.57,47.2441 \"/>\n",
       "<polyline clip-path=\"url(#clip320)\" style=\"stroke:#000000; stroke-linecap:round; stroke-linejoin:round; stroke-width:4; stroke-opacity:1; fill:none\" points=\"402.925,1423.18 2352.76,1423.18 \"/>\n",
       "<path clip-path=\"url(#clip320)\" d=\"M420.569 1454.1 Q416.958 1454.1 415.129 1457.66 Q413.324 1461.2 413.324 1468.33 Q413.324 1475.44 415.129 1479.01 Q416.958 1482.55 420.569 1482.55 Q424.203 1482.55 426.009 1479.01 Q427.837 1475.44 427.837 1468.33 Q427.837 1461.2 426.009 1457.66 Q424.203 1454.1 420.569 1454.1 M420.569 1450.39 Q426.379 1450.39 429.435 1455 Q432.513 1459.58 432.513 1468.33 Q432.513 1477.06 429.435 1481.67 Q426.379 1486.25 420.569 1486.25 Q414.759 1486.25 411.68 1481.67 Q408.625 1477.06 408.625 1468.33 Q408.625 1459.58 411.68 1455 Q414.759 1450.39 420.569 1450.39 Z\" fill=\"#000000\" fill-rule=\"evenodd\" fill-opacity=\"1\" /><path clip-path=\"url(#clip320)\" d=\"M770.657 1481.64 L778.296 1481.64 L778.296 1455.28 L769.986 1456.95 L769.986 1452.69 L778.25 1451.02 L782.926 1451.02 L782.926 1481.64 L790.565 1481.64 L790.565 1485.58 L770.657 1485.58 L770.657 1481.64 Z\" fill=\"#000000\" fill-rule=\"evenodd\" fill-opacity=\"1\" /><path clip-path=\"url(#clip320)\" d=\"M810.009 1454.1 Q806.398 1454.1 804.569 1457.66 Q802.764 1461.2 802.764 1468.33 Q802.764 1475.44 804.569 1479.01 Q806.398 1482.55 810.009 1482.55 Q813.643 1482.55 815.449 1479.01 Q817.277 1475.44 817.277 1468.33 Q817.277 1461.2 815.449 1457.66 Q813.643 1454.1 810.009 1454.1 M810.009 1450.39 Q815.819 1450.39 818.875 1455 Q821.953 1459.58 821.953 1468.33 Q821.953 1477.06 818.875 1481.67 Q815.819 1486.25 810.009 1486.25 Q804.199 1486.25 801.12 1481.67 Q798.065 1477.06 798.065 1468.33 Q798.065 1459.58 801.12 1455 Q804.199 1450.39 810.009 1450.39 Z\" fill=\"#000000\" fill-rule=\"evenodd\" fill-opacity=\"1\" /><path clip-path=\"url(#clip320)\" d=\"M1150.14 1481.64 L1166.46 1481.64 L1166.46 1485.58 L1144.52 1485.58 L1144.52 1481.64 Q1147.18 1478.89 1151.76 1474.26 Q1156.37 1469.61 1157.55 1468.27 Q1159.8 1465.74 1160.68 1464.01 Q1161.58 1462.25 1161.58 1460.56 Q1161.58 1457.8 1159.63 1456.07 Q1157.71 1454.33 1154.61 1454.33 Q1152.41 1454.33 1149.96 1455.09 Q1147.53 1455.86 1144.75 1457.41 L1144.75 1452.69 Q1147.57 1451.55 1150.03 1450.97 Q1152.48 1450.39 1154.52 1450.39 Q1159.89 1450.39 1163.08 1453.08 Q1166.28 1455.77 1166.28 1460.26 Q1166.28 1462.39 1165.47 1464.31 Q1164.68 1466.2 1162.57 1468.8 Q1162 1469.47 1158.89 1472.69 Q1155.79 1475.88 1150.14 1481.64 Z\" fill=\"#000000\" fill-rule=\"evenodd\" fill-opacity=\"1\" /><path clip-path=\"url(#clip320)\" d=\"M1186.28 1454.1 Q1182.67 1454.1 1180.84 1457.66 Q1179.03 1461.2 1179.03 1468.33 Q1179.03 1475.44 1180.84 1479.01 Q1182.67 1482.55 1186.28 1482.55 Q1189.91 1482.55 1191.72 1479.01 Q1193.55 1475.44 1193.55 1468.33 Q1193.55 1461.2 1191.72 1457.66 Q1189.91 1454.1 1186.28 1454.1 M1186.28 1450.39 Q1192.09 1450.39 1195.14 1455 Q1198.22 1459.58 1198.22 1468.33 Q1198.22 1477.06 1195.14 1481.67 Q1192.09 1486.25 1186.28 1486.25 Q1180.47 1486.25 1177.39 1481.67 Q1174.33 1477.06 1174.33 1468.33 Q1174.33 1459.58 1177.39 1455 Q1180.47 1450.39 1186.28 1450.39 Z\" fill=\"#000000\" fill-rule=\"evenodd\" fill-opacity=\"1\" /><path clip-path=\"url(#clip320)\" d=\"M1535.61 1466.95 Q1538.97 1467.66 1540.84 1469.93 Q1542.74 1472.2 1542.74 1475.53 Q1542.74 1480.65 1539.22 1483.45 Q1535.71 1486.25 1529.22 1486.25 Q1527.05 1486.25 1524.73 1485.81 Q1522.44 1485.39 1519.99 1484.54 L1519.99 1480.02 Q1521.93 1481.16 1524.25 1481.74 Q1526.56 1482.32 1529.09 1482.32 Q1533.48 1482.32 1535.78 1480.58 Q1538.09 1478.84 1538.09 1475.53 Q1538.09 1472.48 1535.94 1470.77 Q1533.81 1469.03 1529.99 1469.03 L1525.96 1469.03 L1525.96 1465.19 L1530.17 1465.19 Q1533.62 1465.19 1535.45 1463.82 Q1537.28 1462.43 1537.28 1459.84 Q1537.28 1457.18 1535.38 1455.77 Q1533.51 1454.33 1529.99 1454.33 Q1528.07 1454.33 1525.87 1454.75 Q1523.67 1455.16 1521.03 1456.04 L1521.03 1451.88 Q1523.69 1451.14 1526.01 1450.77 Q1528.34 1450.39 1530.41 1450.39 Q1535.73 1450.39 1538.83 1452.83 Q1541.93 1455.23 1541.93 1459.35 Q1541.93 1462.22 1540.29 1464.21 Q1538.65 1466.18 1535.61 1466.95 Z\" fill=\"#000000\" fill-rule=\"evenodd\" fill-opacity=\"1\" /><path clip-path=\"url(#clip320)\" d=\"M1561.61 1454.1 Q1558 1454.1 1556.17 1457.66 Q1554.36 1461.2 1554.36 1468.33 Q1554.36 1475.44 1556.17 1479.01 Q1558 1482.55 1561.61 1482.55 Q1565.24 1482.55 1567.05 1479.01 Q1568.88 1475.44 1568.88 1468.33 Q1568.88 1461.2 1567.05 1457.66 Q1565.24 1454.1 1561.61 1454.1 M1561.61 1450.39 Q1567.42 1450.39 1570.47 1455 Q1573.55 1459.58 1573.55 1468.33 Q1573.55 1477.06 1570.47 1481.67 Q1567.42 1486.25 1561.61 1486.25 Q1555.8 1486.25 1552.72 1481.67 Q1549.66 1477.06 1549.66 1468.33 Q1549.66 1459.58 1552.72 1455 Q1555.8 1450.39 1561.61 1450.39 Z\" fill=\"#000000\" fill-rule=\"evenodd\" fill-opacity=\"1\" /><path clip-path=\"url(#clip320)\" d=\"M1910.34 1455.09 L1898.54 1473.54 L1910.34 1473.54 L1910.34 1455.09 M1909.12 1451.02 L1915 1451.02 L1915 1473.54 L1919.93 1473.54 L1919.93 1477.43 L1915 1477.43 L1915 1485.58 L1910.34 1485.58 L1910.34 1477.43 L1894.74 1477.43 L1894.74 1472.92 L1909.12 1451.02 Z\" fill=\"#000000\" fill-rule=\"evenodd\" fill-opacity=\"1\" /><path clip-path=\"url(#clip320)\" d=\"M1937.66 1454.1 Q1934.05 1454.1 1932.22 1457.66 Q1930.41 1461.2 1930.41 1468.33 Q1930.41 1475.44 1932.22 1479.01 Q1934.05 1482.55 1937.66 1482.55 Q1941.29 1482.55 1943.1 1479.01 Q1944.93 1475.44 1944.93 1468.33 Q1944.93 1461.2 1943.1 1457.66 Q1941.29 1454.1 1937.66 1454.1 M1937.66 1450.39 Q1943.47 1450.39 1946.52 1455 Q1949.6 1459.58 1949.6 1468.33 Q1949.6 1477.06 1946.52 1481.67 Q1943.47 1486.25 1937.66 1486.25 Q1931.85 1486.25 1928.77 1481.67 Q1925.71 1477.06 1925.71 1468.33 Q1925.71 1459.58 1928.77 1455 Q1931.85 1450.39 1937.66 1450.39 Z\" fill=\"#000000\" fill-rule=\"evenodd\" fill-opacity=\"1\" /><path clip-path=\"url(#clip320)\" d=\"M2272.27 1451.02 L2290.63 1451.02 L2290.63 1454.96 L2276.55 1454.96 L2276.55 1463.43 Q2277.57 1463.08 2278.59 1462.92 Q2279.61 1462.73 2280.63 1462.73 Q2286.41 1462.73 2289.79 1465.9 Q2293.17 1469.08 2293.17 1474.49 Q2293.17 1480.07 2289.7 1483.17 Q2286.23 1486.25 2279.91 1486.25 Q2277.73 1486.25 2275.47 1485.88 Q2273.22 1485.51 2270.81 1484.77 L2270.81 1480.07 Q2272.9 1481.2 2275.12 1481.76 Q2277.34 1482.32 2279.82 1482.32 Q2283.82 1482.32 2286.16 1480.21 Q2288.5 1478.1 2288.5 1474.49 Q2288.5 1470.88 2286.16 1468.77 Q2283.82 1466.67 2279.82 1466.67 Q2277.94 1466.67 2276.07 1467.08 Q2274.22 1467.5 2272.27 1468.38 L2272.27 1451.02 Z\" fill=\"#000000\" fill-rule=\"evenodd\" fill-opacity=\"1\" /><path clip-path=\"url(#clip320)\" d=\"M2312.39 1454.1 Q2308.78 1454.1 2306.95 1457.66 Q2305.14 1461.2 2305.14 1468.33 Q2305.14 1475.44 2306.95 1479.01 Q2308.78 1482.55 2312.39 1482.55 Q2316.02 1482.55 2317.83 1479.01 Q2319.66 1475.44 2319.66 1468.33 Q2319.66 1461.2 2317.83 1457.66 Q2316.02 1454.1 2312.39 1454.1 M2312.39 1450.39 Q2318.2 1450.39 2321.25 1455 Q2324.33 1459.58 2324.33 1468.33 Q2324.33 1477.06 2321.25 1481.67 Q2318.2 1486.25 2312.39 1486.25 Q2306.58 1486.25 2303.5 1481.67 Q2300.44 1477.06 2300.44 1468.33 Q2300.44 1459.58 2303.5 1455 Q2306.58 1450.39 2312.39 1450.39 Z\" fill=\"#000000\" fill-rule=\"evenodd\" fill-opacity=\"1\" /><path clip-path=\"url(#clip320)\" d=\"M1217.62 1539.37 L1208.35 1539.37 L1205.68 1550 L1215.01 1550 L1217.62 1539.37 M1212.84 1521.26 L1209.53 1534.46 L1218.83 1534.46 L1222.17 1521.26 L1227.26 1521.26 L1223.98 1534.46 L1233.91 1534.46 L1233.91 1539.37 L1222.74 1539.37 L1220.13 1550 L1230.25 1550 L1230.25 1554.87 L1218.89 1554.87 L1215.58 1568.04 L1210.49 1568.04 L1213.76 1554.87 L1204.44 1554.87 L1201.16 1568.04 L1196.04 1568.04 L1199.35 1554.87 L1189.32 1554.87 L1189.32 1550 L1200.52 1550 L1203.2 1539.37 L1192.95 1539.37 L1192.95 1534.46 L1204.44 1534.46 L1207.69 1521.26 L1212.84 1521.26 Z\" fill=\"#000000\" fill-rule=\"evenodd\" fill-opacity=\"1\" /><path clip-path=\"url(#clip320)\" d=\"M1288.5 1533.45 L1288.5 1538.98 Q1286.02 1537.71 1283.34 1537.07 Q1280.67 1536.44 1277.8 1536.44 Q1273.44 1536.44 1271.25 1537.77 Q1269.08 1539.11 1269.08 1541.79 Q1269.08 1543.82 1270.64 1545 Q1272.2 1546.15 1276.91 1547.2 L1278.92 1547.64 Q1285.16 1548.98 1287.77 1551.43 Q1290.41 1553.85 1290.41 1558.21 Q1290.41 1563.17 1286.46 1566.07 Q1282.55 1568.97 1275.67 1568.97 Q1272.81 1568.97 1269.69 1568.39 Q1266.6 1567.85 1263.16 1566.74 L1263.16 1560.69 Q1266.41 1562.38 1269.56 1563.24 Q1272.71 1564.07 1275.8 1564.07 Q1279.94 1564.07 1282.16 1562.66 Q1284.39 1561.23 1284.39 1558.65 Q1284.39 1556.27 1282.77 1554.99 Q1281.18 1553.72 1275.73 1552.54 L1273.7 1552.07 Q1268.25 1550.92 1265.84 1548.56 Q1263.42 1546.18 1263.42 1542.04 Q1263.42 1537.01 1266.98 1534.27 Q1270.55 1531.54 1277.1 1531.54 Q1280.35 1531.54 1283.21 1532.01 Q1286.08 1532.49 1288.5 1533.45 Z\" fill=\"#000000\" fill-rule=\"evenodd\" fill-opacity=\"1\" /><path clip-path=\"url(#clip320)\" d=\"M1325.39 1533.76 L1325.39 1539.24 Q1322.9 1537.87 1320.39 1537.2 Q1317.91 1536.5 1315.36 1536.5 Q1309.66 1536.5 1306.51 1540.13 Q1303.36 1543.73 1303.36 1550.25 Q1303.36 1556.78 1306.51 1560.4 Q1309.66 1564 1315.36 1564 Q1317.91 1564 1320.39 1563.33 Q1322.9 1562.63 1325.39 1561.26 L1325.39 1566.68 Q1322.94 1567.82 1320.29 1568.39 Q1317.68 1568.97 1314.72 1568.97 Q1306.67 1568.97 1301.93 1563.91 Q1297.19 1558.85 1297.19 1550.25 Q1297.19 1541.53 1301.96 1536.53 Q1306.77 1531.54 1315.11 1531.54 Q1317.81 1531.54 1320.39 1532.11 Q1322.97 1532.65 1325.39 1533.76 Z\" fill=\"#000000\" fill-rule=\"evenodd\" fill-opacity=\"1\" /><path clip-path=\"url(#clip320)\" d=\"M1366.06 1548.76 L1366.06 1551.62 L1339.14 1551.62 Q1339.52 1557.67 1342.77 1560.85 Q1346.04 1564 1351.87 1564 Q1355.24 1564 1358.39 1563.17 Q1361.58 1562.35 1364.7 1560.69 L1364.7 1566.23 Q1361.54 1567.57 1358.23 1568.27 Q1354.92 1568.97 1351.52 1568.97 Q1342.99 1568.97 1337.99 1564 Q1333.03 1559.04 1333.03 1550.57 Q1333.03 1541.82 1337.74 1536.69 Q1342.48 1531.54 1350.5 1531.54 Q1357.69 1531.54 1361.86 1536.18 Q1366.06 1540.8 1366.06 1548.76 M1360.21 1547.04 Q1360.14 1542.23 1357.5 1539.37 Q1354.89 1536.5 1350.56 1536.5 Q1345.66 1536.5 1342.7 1539.27 Q1339.77 1542.04 1339.33 1547.07 L1360.21 1547.04 Z\" fill=\"#000000\" fill-rule=\"evenodd\" fill-opacity=\"1\" /><path clip-path=\"url(#clip320)\" d=\"M1405.31 1546.53 L1405.31 1568.04 L1399.45 1568.04 L1399.45 1546.72 Q1399.45 1541.66 1397.48 1539.14 Q1395.51 1536.63 1391.56 1536.63 Q1386.82 1536.63 1384.08 1539.65 Q1381.34 1542.68 1381.34 1547.9 L1381.34 1568.04 L1375.45 1568.04 L1375.45 1532.4 L1381.34 1532.4 L1381.34 1537.93 Q1383.44 1534.72 1386.28 1533.13 Q1389.14 1531.54 1392.86 1531.54 Q1399.01 1531.54 1402.16 1535.36 Q1405.31 1539.14 1405.31 1546.53 Z\" fill=\"#000000\" fill-rule=\"evenodd\" fill-opacity=\"1\" /><path clip-path=\"url(#clip320)\" d=\"M1433.19 1550.12 Q1426.09 1550.12 1423.36 1551.75 Q1420.62 1553.37 1420.62 1557.29 Q1420.62 1560.4 1422.66 1562.25 Q1424.72 1564.07 1428.26 1564.07 Q1433.13 1564.07 1436.05 1560.63 Q1439.01 1557.16 1439.01 1551.43 L1439.01 1550.12 L1433.19 1550.12 M1444.87 1547.71 L1444.87 1568.04 L1439.01 1568.04 L1439.01 1562.63 Q1437.01 1565.88 1434.02 1567.44 Q1431.03 1568.97 1426.7 1568.97 Q1421.22 1568.97 1417.98 1565.91 Q1414.76 1562.82 1414.76 1557.67 Q1414.76 1551.65 1418.77 1548.6 Q1422.81 1545.54 1430.8 1545.54 L1439.01 1545.54 L1439.01 1544.97 Q1439.01 1540.93 1436.34 1538.73 Q1433.7 1536.5 1428.89 1536.5 Q1425.84 1536.5 1422.94 1537.23 Q1420.05 1537.97 1417.37 1539.43 L1417.37 1534.02 Q1420.59 1532.78 1423.61 1532.17 Q1426.63 1531.54 1429.5 1531.54 Q1437.23 1531.54 1441.05 1535.55 Q1444.87 1539.56 1444.87 1547.71 Z\" fill=\"#000000\" fill-rule=\"evenodd\" fill-opacity=\"1\" /><path clip-path=\"url(#clip320)\" d=\"M1477.59 1537.87 Q1476.6 1537.3 1475.43 1537.04 Q1474.28 1536.76 1472.88 1536.76 Q1467.92 1536.76 1465.24 1540 Q1462.6 1543.22 1462.6 1549.27 L1462.6 1568.04 L1456.71 1568.04 L1456.71 1532.4 L1462.6 1532.4 L1462.6 1537.93 Q1464.45 1534.69 1467.41 1533.13 Q1470.37 1531.54 1474.6 1531.54 Q1475.2 1531.54 1475.94 1531.63 Q1476.67 1531.7 1477.56 1531.85 L1477.59 1537.87 Z\" fill=\"#000000\" fill-rule=\"evenodd\" fill-opacity=\"1\" /><path clip-path=\"url(#clip320)\" d=\"M1483.73 1532.4 L1489.59 1532.4 L1489.59 1568.04 L1483.73 1568.04 L1483.73 1532.4 M1483.73 1518.52 L1489.59 1518.52 L1489.59 1525.93 L1483.73 1525.93 L1483.73 1518.52 Z\" fill=\"#000000\" fill-rule=\"evenodd\" fill-opacity=\"1\" /><path clip-path=\"url(#clip320)\" d=\"M1515.66 1536.5 Q1510.95 1536.5 1508.21 1540.19 Q1505.47 1543.85 1505.47 1550.25 Q1505.47 1556.65 1508.18 1560.34 Q1510.92 1564 1515.66 1564 Q1520.34 1564 1523.07 1560.31 Q1525.81 1556.62 1525.81 1550.25 Q1525.81 1543.92 1523.07 1540.23 Q1520.34 1536.5 1515.66 1536.5 M1515.66 1531.54 Q1523.3 1531.54 1527.66 1536.5 Q1532.02 1541.47 1532.02 1550.25 Q1532.02 1559 1527.66 1564 Q1523.3 1568.97 1515.66 1568.97 Q1507.99 1568.97 1503.63 1564 Q1499.3 1559 1499.3 1550.25 Q1499.3 1541.47 1503.63 1536.5 Q1507.99 1531.54 1515.66 1531.54 Z\" fill=\"#000000\" fill-rule=\"evenodd\" fill-opacity=\"1\" /><path clip-path=\"url(#clip320)\" d=\"M1564.45 1533.45 L1564.45 1538.98 Q1561.97 1537.71 1559.3 1537.07 Q1556.62 1536.44 1553.76 1536.44 Q1549.4 1536.44 1547.2 1537.77 Q1545.04 1539.11 1545.04 1541.79 Q1545.04 1543.82 1546.6 1545 Q1548.16 1546.15 1552.87 1547.2 L1554.87 1547.64 Q1561.11 1548.98 1563.72 1551.43 Q1566.36 1553.85 1566.36 1558.21 Q1566.36 1563.17 1562.41 1566.07 Q1558.5 1568.97 1551.62 1568.97 Q1548.76 1568.97 1545.64 1568.39 Q1542.55 1567.85 1539.12 1566.74 L1539.12 1560.69 Q1542.36 1562.38 1545.51 1563.24 Q1548.66 1564.07 1551.75 1564.07 Q1555.89 1564.07 1558.12 1562.66 Q1560.35 1561.23 1560.35 1558.65 Q1560.35 1556.27 1558.72 1554.99 Q1557.13 1553.72 1551.69 1552.54 L1549.65 1552.07 Q1544.21 1550.92 1541.79 1548.56 Q1539.37 1546.18 1539.37 1542.04 Q1539.37 1537.01 1542.94 1534.27 Q1546.5 1531.54 1553.06 1531.54 Q1556.3 1531.54 1559.17 1532.01 Q1562.03 1532.49 1564.45 1533.45 Z\" fill=\"#000000\" fill-rule=\"evenodd\" fill-opacity=\"1\" /><polyline clip-path=\"url(#clip323)\" style=\"stroke:#000000; stroke-linecap:round; stroke-linejoin:round; stroke-width:8; stroke-opacity:0.1; fill:none\" points=\"402.925,1423.18 2352.76,1423.18 \"/>\n",
       "<polyline clip-path=\"url(#clip323)\" style=\"stroke:#000000; stroke-linecap:round; stroke-linejoin:round; stroke-width:8; stroke-opacity:0.1; fill:none\" points=\"402.925,47.2441 2352.76,47.2441 \"/>\n",
       "<polyline clip-path=\"url(#clip320)\" style=\"stroke:#000000; stroke-linecap:round; stroke-linejoin:round; stroke-width:4; stroke-opacity:1; fill:none\" points=\"402.925,1423.18 402.925,47.2441 \"/>\n",
       "<polyline clip-path=\"url(#clip320)\" style=\"stroke:#000000; stroke-linecap:round; stroke-linejoin:round; stroke-width:4; stroke-opacity:1; fill:none\" points=\"402.925,1423.18 421.823,1423.18 \"/>\n",
       "<polyline clip-path=\"url(#clip320)\" style=\"stroke:#000000; stroke-linecap:round; stroke-linejoin:round; stroke-width:4; stroke-opacity:1; fill:none\" points=\"402.925,47.2441 421.823,47.2441 \"/>\n",
       "<path clip-path=\"url(#clip320)\" d=\"M259.488 1442.97 L267.127 1442.97 L267.127 1416.61 L258.817 1418.27 L258.817 1414.01 L267.081 1412.35 L271.756 1412.35 L271.756 1442.97 L279.395 1442.97 L279.395 1446.91 L259.488 1446.91 L259.488 1442.97 Z\" fill=\"#000000\" fill-rule=\"evenodd\" fill-opacity=\"1\" /><path clip-path=\"url(#clip320)\" d=\"M298.84 1415.43 Q295.229 1415.43 293.4 1418.99 Q291.594 1422.53 291.594 1429.66 Q291.594 1436.77 293.4 1440.33 Q295.229 1443.88 298.84 1443.88 Q302.474 1443.88 304.279 1440.33 Q306.108 1436.77 306.108 1429.66 Q306.108 1422.53 304.279 1418.99 Q302.474 1415.43 298.84 1415.43 M298.84 1411.72 Q304.65 1411.72 307.705 1416.33 Q310.784 1420.91 310.784 1429.66 Q310.784 1438.39 307.705 1443 Q304.65 1447.58 298.84 1447.58 Q293.029 1447.58 289.951 1443 Q286.895 1438.39 286.895 1429.66 Q286.895 1420.91 289.951 1416.33 Q293.029 1411.72 298.84 1411.72 Z\" fill=\"#000000\" fill-rule=\"evenodd\" fill-opacity=\"1\" /><path clip-path=\"url(#clip320)\" d=\"M310.784 1405.82 L334.896 1405.82 L334.896 1409.02 L310.784 1409.02 L310.784 1405.82 Z\" fill=\"#000000\" fill-rule=\"evenodd\" fill-opacity=\"1\" /><path clip-path=\"url(#clip320)\" d=\"M356.524 1412.93 Q355.941 1412.26 355.02 1410.68 Q353.76 1412.93 352.65 1413.93 Q351.258 1415.13 349.095 1415.13 Q346.556 1415.13 344.882 1413.23 Q343.115 1411.24 343.115 1407.95 Q343.115 1404.79 344.882 1402.65 Q346.462 1400.75 349.133 1400.75 Q350.506 1400.75 351.522 1401.31 Q352.707 1401.93 353.515 1403 Q354.268 1403.96 355.02 1405.26 Q356.28 1403 357.39 1402.01 Q358.781 1400.8 360.944 1400.8 Q363.483 1400.8 365.157 1402.7 Q366.925 1404.7 366.925 1407.99 Q366.925 1411.15 365.157 1413.29 Q363.577 1415.19 360.907 1415.19 Q359.534 1415.19 358.518 1414.63 Q357.502 1414.12 356.524 1412.93 M348.889 1412.67 Q351.992 1412.67 353.854 1408.16 Q351.465 1403.23 348.889 1403.23 Q347.008 1403.23 346.049 1404.58 Q345.014 1406.03 345.014 1407.95 Q345.014 1410.06 346.049 1411.35 Q347.102 1412.67 348.889 1412.67 M361.151 1403.27 Q358.349 1403.27 356.186 1407.78 Q358.556 1412.71 361.151 1412.71 Q363.032 1412.71 363.991 1411.35 Q365.026 1409.91 365.026 1407.99 Q365.026 1405.88 363.991 1404.58 Q362.938 1403.27 361.151 1403.27 Z\" fill=\"#000000\" fill-rule=\"evenodd\" fill-opacity=\"1\" /><path clip-path=\"url(#clip320)\" d=\"M114.931 67.0365 L122.57 67.0365 L122.57 40.6709 L114.26 42.3376 L114.26 38.0784 L122.524 36.4117 L127.2 36.4117 L127.2 67.0365 L134.839 67.0365 L134.839 70.9717 L114.931 70.9717 L114.931 67.0365 Z\" fill=\"#000000\" fill-rule=\"evenodd\" fill-opacity=\"1\" /><path clip-path=\"url(#clip320)\" d=\"M154.283 39.4904 Q150.672 39.4904 148.843 43.0552 Q147.038 46.5968 147.038 53.7264 Q147.038 60.8329 148.843 64.3977 Q150.672 67.9393 154.283 67.9393 Q157.917 67.9393 159.723 64.3977 Q161.552 60.8329 161.552 53.7264 Q161.552 46.5968 159.723 43.0552 Q157.917 39.4904 154.283 39.4904 M154.283 35.7867 Q160.093 35.7867 163.149 40.3932 Q166.227 44.9765 166.227 53.7264 Q166.227 62.4532 163.149 67.0597 Q160.093 71.643 154.283 71.643 Q148.473 71.643 145.394 67.0597 Q142.339 62.4532 142.339 53.7264 Q142.339 44.9765 145.394 40.3932 Q148.473 35.7867 154.283 35.7867 Z\" fill=\"#000000\" fill-rule=\"evenodd\" fill-opacity=\"1\" /><path clip-path=\"url(#clip320)\" d=\"M166.773 40.364 L172.979 40.364 L172.979 18.9419 L166.227 20.2961 L166.227 16.8355 L172.942 15.4813 L176.741 15.4813 L176.741 40.364 L182.948 40.364 L182.948 43.5613 L166.773 43.5613 L166.773 40.364 Z\" fill=\"#000000\" fill-rule=\"evenodd\" fill-opacity=\"1\" /><path clip-path=\"url(#clip320)\" d=\"M190.621 38.7841 L194.59 38.7841 L194.59 43.5613 L190.621 43.5613 L190.621 38.7841 Z\" fill=\"#000000\" fill-rule=\"evenodd\" fill-opacity=\"1\" /><path clip-path=\"url(#clip320)\" d=\"M201.906 15.4813 L219.961 15.4813 L219.961 17.0988 L209.767 43.5613 L205.799 43.5613 L215.391 18.6786 L201.906 18.6786 L201.906 15.4813 Z\" fill=\"#000000\" fill-rule=\"evenodd\" fill-opacity=\"1\" /><path clip-path=\"url(#clip320)\" d=\"M237.81 18.7915 L228.218 33.7813 L237.81 33.7813 L237.81 18.7915 M236.813 15.4813 L241.59 15.4813 L241.59 33.7813 L245.596 33.7813 L245.596 36.941 L241.59 36.941 L241.59 43.5613 L237.81 43.5613 L237.81 36.941 L225.133 36.941 L225.133 33.2734 L236.813 15.4813 Z\" fill=\"#000000\" fill-rule=\"evenodd\" fill-opacity=\"1\" /><path clip-path=\"url(#clip320)\" d=\"M262.316 18.7915 L252.724 33.7813 L262.316 33.7813 L262.316 18.7915 M261.32 15.4813 L266.097 15.4813 L266.097 33.7813 L270.103 33.7813 L270.103 36.941 L266.097 36.941 L266.097 43.5613 L262.316 43.5613 L262.316 36.941 L249.64 36.941 L249.64 33.2734 L261.32 15.4813 Z\" fill=\"#000000\" fill-rule=\"evenodd\" fill-opacity=\"1\" /><path clip-path=\"url(#clip320)\" d=\"M276.497 42.9783 L276.497 39.5176 Q277.927 40.1947 279.394 40.5521 Q280.861 40.9094 282.271 40.9094 Q286.033 40.9094 288.008 38.3892 Q290.001 35.8501 290.284 30.6968 Q289.193 32.3142 287.519 33.1794 Q285.845 34.0446 283.814 34.0446 Q279.601 34.0446 277.137 31.5055 Q274.692 28.9477 274.692 24.5278 Q274.692 20.202 277.25 17.5878 Q279.808 14.9735 284.058 14.9735 Q288.929 14.9735 291.487 18.7162 Q294.064 22.4402 294.064 29.5495 Q294.064 36.1886 290.904 40.1571 Q287.763 44.1067 282.441 44.1067 Q281.011 44.1067 279.544 43.8246 Q278.077 43.5425 276.497 42.9783 M284.058 31.0729 Q286.616 31.0729 288.102 29.3238 Q289.606 27.5747 289.606 24.5278 Q289.606 21.4998 288.102 19.7507 Q286.616 17.9827 284.058 17.9827 Q281.5 17.9827 279.996 19.7507 Q278.51 21.4998 278.51 24.5278 Q278.51 27.5747 279.996 29.3238 Q281.5 31.0729 284.058 31.0729 Z\" fill=\"#000000\" fill-rule=\"evenodd\" fill-opacity=\"1\" /><path clip-path=\"url(#clip320)\" d=\"M309.016 30.2266 Q306.308 30.2266 304.747 31.6748 Q303.204 33.123 303.204 35.662 Q303.204 38.2011 304.747 39.6493 Q306.308 41.0975 309.016 41.0975 Q311.724 41.0975 313.285 39.6493 Q314.846 38.1823 314.846 35.662 Q314.846 33.123 313.285 31.6748 Q311.743 30.2266 309.016 30.2266 M305.217 28.6091 Q302.772 28.0073 301.399 26.3334 Q300.045 24.6595 300.045 22.2521 Q300.045 18.8855 302.433 16.9295 Q304.841 14.9735 309.016 14.9735 Q313.21 14.9735 315.599 16.9295 Q317.987 18.8855 317.987 22.2521 Q317.987 24.6595 316.614 26.3334 Q315.26 28.0073 312.834 28.6091 Q315.58 29.2486 317.103 31.1106 Q318.646 32.9725 318.646 35.662 Q318.646 39.7433 316.144 41.925 Q313.662 44.1067 309.016 44.1067 Q304.371 44.1067 301.869 41.925 Q299.386 39.7433 299.386 35.662 Q299.386 32.9725 300.929 31.1106 Q302.471 29.2486 305.217 28.6091 M303.825 22.6094 Q303.825 24.7911 305.179 26.0136 Q306.552 27.2362 309.016 27.2362 Q311.461 27.2362 312.834 26.0136 Q314.226 24.7911 314.226 22.6094 Q314.226 20.4277 312.834 19.2052 Q311.461 17.9827 309.016 17.9827 Q306.552 17.9827 305.179 19.2052 Q303.825 20.4277 303.825 22.6094 Z\" fill=\"#000000\" fill-rule=\"evenodd\" fill-opacity=\"1\" /><path clip-path=\"url(#clip320)\" d=\"M336.908 28.421 Q339.635 29.0041 341.159 30.8472 Q342.701 32.6904 342.701 35.3987 Q342.701 39.5552 339.842 41.831 Q336.983 44.1067 331.717 44.1067 Q329.949 44.1067 328.068 43.7494 Q326.206 43.4108 324.213 42.7149 L324.213 39.0474 Q325.793 39.969 327.673 40.4392 Q329.554 40.9094 331.604 40.9094 Q335.178 40.9094 337.04 39.4988 Q338.92 38.0882 338.92 35.3987 Q338.92 32.9161 337.171 31.5243 Q335.441 30.1137 332.338 30.1137 L329.065 30.1137 L329.065 26.9916 L332.488 26.9916 Q335.291 26.9916 336.776 25.882 Q338.262 24.7535 338.262 22.6471 Q338.262 20.4842 336.72 19.3369 Q335.196 18.1708 332.338 18.1708 Q330.777 18.1708 328.99 18.5093 Q327.203 18.8479 325.059 19.5626 L325.059 16.1772 Q327.222 15.5753 329.103 15.2744 Q331.002 14.9735 332.676 14.9735 Q337.002 14.9735 339.522 16.9483 Q342.043 18.9043 342.043 22.2521 Q342.043 24.5843 340.707 26.2017 Q339.372 27.8004 336.908 28.421 Z\" fill=\"#000000\" fill-rule=\"evenodd\" fill-opacity=\"1\" /><path clip-path=\"url(#clip320)\" d=\"M349.942 15.4813 L364.856 15.4813 L364.856 18.6786 L353.421 18.6786 L353.421 25.5623 Q354.249 25.2801 355.076 25.1485 Q355.904 24.998 356.731 24.998 Q361.433 24.998 364.179 27.5747 Q366.925 30.1514 366.925 34.5524 Q366.925 39.085 364.104 41.6053 Q361.283 44.1067 356.148 44.1067 Q354.38 44.1067 352.537 43.8058 Q350.713 43.5049 348.757 42.903 L348.757 39.085 Q350.45 40.0066 352.255 40.458 Q354.061 40.9094 356.073 40.9094 Q359.327 40.9094 361.226 39.1979 Q363.126 37.4864 363.126 34.5524 Q363.126 31.6184 361.226 29.9069 Q359.327 28.1953 356.073 28.1953 Q354.55 28.1953 353.026 28.5339 Q351.522 28.8724 349.942 29.5871 L349.942 15.4813 Z\" fill=\"#000000\" fill-rule=\"evenodd\" fill-opacity=\"1\" /><path clip-path=\"url(#clip320)\" d=\"M18.1528 797.297 Q18.7647 797.297 19.28 797.426 L30.7453 799.229 Q31.6149 799.326 31.9369 799.519 Q32.259 799.68 32.259 800.195 Q32.259 801 31.4216 801 Q30.9385 801 30.1656 800.807 Q26.5263 800.26 24.8838 800.26 Q23.7888 800.26 22.9837 800.485 Q22.1463 800.678 21.5666 801 Q20.9869 801.29 20.6004 801.967 Q20.214 802.643 19.9885 803.287 Q19.7631 803.931 19.6665 805.091 Q19.5377 806.25 19.5054 807.248 Q19.4732 808.247 19.4732 809.889 Q19.4732 813.464 19.6021 814.044 Q19.7631 814.656 20.2462 814.978 Q20.6971 815.268 22.0497 815.59 L57.0575 824.35 L58.4423 824.607 Q59.2153 824.607 59.4729 824.124 Q59.7306 823.641 59.8916 822.16 Q60.0526 820.034 60.0526 817.941 Q60.0526 817.876 60.0526 817.748 Q60.0526 817.039 60.0848 816.749 Q60.0848 816.459 60.1492 816.169 Q60.2137 815.88 60.3747 815.815 Q60.5035 815.719 60.7612 815.719 Q61.3731 815.719 61.6951 815.976 Q61.985 816.234 62.0494 816.491 Q62.0816 816.717 62.0816 817.168 Q62.0816 818.07 62.0172 820.002 Q61.9528 821.934 61.9528 822.9 L61.8884 828.375 L61.9528 833.979 Q61.9528 834.849 62.0172 836.685 Q62.0816 838.52 62.0816 839.39 Q62.0816 840.517 61.2764 840.517 Q60.3747 840.517 60.2137 840.098 Q60.0526 839.648 60.0526 837.747 Q60.0526 835.074 59.9238 833.625 Q59.795 832.176 59.3441 831.403 Q58.8932 830.598 58.4423 830.372 Q57.9592 830.147 56.8642 829.889 L21.6632 821.033 Q20.8903 820.775 20.2784 820.775 Q19.9563 820.775 19.8275 820.871 Q19.6987 820.936 19.6021 821.355 Q19.4732 821.773 19.4732 822.643 L19.4732 825.219 Q19.4732 827.86 19.6021 829.503 Q19.6987 831.113 20.1818 832.659 Q20.6649 834.173 21.3412 835.074 Q22.0175 835.944 23.4024 836.91 Q24.7872 837.876 26.4619 838.585 Q28.1366 839.261 30.8741 840.227 Q31.7759 840.549 32.0335 840.743 Q32.259 840.904 32.259 841.354 Q32.259 841.676 32.0657 841.934 Q31.8403 842.16 31.5504 842.16 Q30.4876 841.838 30.3588 841.773 L18.7325 837.812 Q17.7985 837.49 17.6375 837.2 Q17.4443 836.878 17.4443 835.686 L17.4443 799.1 Q17.4443 798.521 17.4443 798.327 Q17.4443 798.134 17.5087 797.812 Q17.5731 797.49 17.7341 797.393 Q17.8952 797.297 18.1528 797.297 Z\" fill=\"#000000\" fill-rule=\"evenodd\" fill-opacity=\"1\" /><path clip-path=\"url(#clip320)\" d=\"M68.0889 773.699 Q71.3353 773.699 74.514 775.345 Q77.6702 776.968 79.654 779.583 Q81.6379 782.176 81.6379 784.836 Q81.6379 787.429 79.654 789.075 Q77.6476 790.698 74.3787 790.698 Q73.229 790.698 72.4174 790.562 Q71.6058 790.427 69.7121 789.954 L54.6526 786.166 Q51.8346 785.513 51.8121 785.513 Q51.5415 785.513 51.4063 785.625 Q51.2485 785.715 51.1358 786.256 Q51.023 786.798 51.023 787.835 Q51.023 788.263 51.0005 788.466 Q50.9779 788.646 50.8652 788.804 Q50.73 788.939 50.4594 788.939 Q50.0762 788.939 49.8733 788.781 Q49.6478 788.601 49.6028 788.466 Q49.5577 788.331 49.5351 788.06 Q49.5126 787.677 49.3999 786.392 Q49.2646 785.107 49.1744 784.002 Q49.0842 782.897 49.0842 782.424 Q49.0842 782.153 49.2195 782.018 Q49.3322 781.86 49.4675 781.86 L49.5802 781.838 L63.4899 785.242 Q60.717 782.559 60.717 779.831 Q60.717 777.104 62.8136 775.413 Q64.9102 773.699 68.0889 773.699 M66.0599 777.036 Q63.9183 777.036 62.8361 777.848 Q61.7315 778.637 61.7315 779.944 Q61.7315 781.049 62.5656 782.492 Q63.3997 783.934 65.4287 785.467 Q65.812 785.761 66.0374 785.873 Q66.2628 785.963 67.0293 786.166 L71.2902 787.181 Q74.1984 787.925 75.9568 787.925 Q78.3465 787.925 79.4737 787.046 Q80.6009 786.166 80.6009 784.836 Q80.6009 783.438 79.361 781.973 Q78.121 780.508 75.8666 779.381 Q74.3787 778.682 71.1775 777.87 Q67.9537 777.036 66.0599 777.036 Z\" fill=\"#000000\" fill-rule=\"evenodd\" fill-opacity=\"1\" /><path clip-path=\"url(#clip320)\" d=\"M75.7765 753.531 Q75.9794 753.351 76.1822 753.351 Q76.3851 753.351 76.9713 753.802 Q77.5574 754.23 78.3465 755.154 Q79.1355 756.078 79.8795 757.273 Q80.6234 758.468 81.1194 760.227 Q81.6379 761.985 81.6379 763.834 Q81.6379 767.148 79.2708 769.132 Q76.9037 771.093 73.2741 771.093 Q70.952 771.093 68.9005 770.326 Q66.8264 769.56 65.3611 768.32 Q63.8957 767.057 62.8361 765.479 Q61.754 763.879 61.2355 762.21 Q60.717 760.542 60.717 758.987 Q60.717 756.71 61.8667 755.38 Q63.0165 754.05 64.6397 754.05 Q65.0229 754.05 65.4963 754.162 Q65.9698 754.252 66.7137 754.568 Q67.4577 754.861 68.2016 755.628 Q68.923 756.394 69.3965 757.521 Q70.456 760.024 70.456 764.578 L70.456 767.035 Q73.3642 767.756 75.2579 767.756 Q76.0019 767.756 76.7684 767.621 Q77.5124 767.486 78.4592 767.125 Q79.4061 766.742 80.0147 765.885 Q80.6009 765.006 80.6009 763.743 Q80.6009 763.338 80.5783 762.909 Q80.5558 762.458 80.3078 761.331 Q80.0598 760.182 79.6315 759.167 Q79.2032 758.153 78.2789 756.868 Q77.332 755.56 76.047 754.523 Q75.5736 754.162 75.5736 753.914 Q75.5736 753.711 75.7765 753.531 M64.6397 755.583 Q63.3997 755.583 62.5656 756.507 Q61.7315 757.409 61.7315 758.987 Q61.7315 759.483 61.8442 760.091 Q61.9569 760.7 62.4303 761.715 Q62.9038 762.706 63.6928 763.586 Q64.4593 764.465 65.9698 765.344 Q67.4577 766.223 69.4416 766.742 L69.4416 764.848 Q69.4416 764.194 69.4416 763.721 Q69.419 763.248 69.3288 762.21 Q69.2387 761.151 69.0809 760.384 Q68.9005 759.618 68.5398 758.649 Q68.1791 757.679 67.7057 757.07 Q67.2097 756.439 66.4207 756.011 Q65.6316 755.583 64.6397 755.583 Z\" fill=\"#000000\" fill-rule=\"evenodd\" fill-opacity=\"1\" /><path clip-path=\"url(#clip320)\" d=\"M74.514 725.691 Q74.6943 725.691 75.3932 725.894 Q76.0921 726.097 77.1742 726.593 Q78.2563 727.066 79.2482 727.72 Q80.2176 728.374 80.9391 729.456 Q81.6379 730.516 81.6379 731.733 Q81.6379 733.356 80.5558 734.438 Q79.4737 735.52 77.8505 735.52 Q76.9487 735.52 75.7088 735.047 Q67.7057 732.049 64.9553 732.049 Q61.7315 732.049 61.7315 734.551 Q61.7315 735.791 62.2049 736.963 Q62.6558 738.113 63.287 738.902 Q63.9183 739.691 64.7975 740.412 Q65.6542 741.111 66.2403 741.472 Q66.8039 741.81 67.3675 742.081 L69.667 742.667 Q70.2982 742.802 72.7555 743.456 L76.9262 744.47 Q80.0373 745.192 80.3304 745.35 Q80.9616 745.575 81.2998 746.071 Q81.6379 746.567 81.6379 747.063 Q81.6379 747.627 81.2998 748.01 Q80.9616 748.393 80.3755 748.393 Q80.2853 748.393 79.9471 748.325 Q79.609 748.258 79.1355 748.145 Q78.6621 748.032 78.3916 747.987 L67.7282 745.304 Q65.7894 744.808 65.1807 744.696 Q64.5495 744.561 63.8506 744.561 Q61.7315 744.561 61.7315 746.003 Q61.7315 747.176 63.1292 747.942 Q64.5269 748.709 67.2322 749.362 Q67.9762 749.565 68.134 749.701 Q68.2918 749.813 68.2918 750.151 Q68.2693 750.715 67.8184 750.715 Q67.7057 750.715 66.9617 750.535 Q66.2178 750.354 65.1582 750.016 Q64.0761 749.655 63.3547 749.317 Q62.8136 749.024 62.5656 748.866 Q62.2951 748.686 61.7766 748.258 Q61.2355 747.807 60.9875 747.221 Q60.717 746.612 60.717 745.868 Q60.717 744.2 61.7991 742.982 Q62.8587 741.765 64.7298 741.607 Q60.717 738.609 60.717 734.416 Q60.717 731.936 62.0246 730.516 Q63.3321 729.095 65.6542 729.095 Q66.1952 729.095 66.8941 729.208 Q67.5704 729.298 68.4271 729.524 Q69.2838 729.726 69.9375 729.907 Q70.5913 730.087 71.6509 730.448 Q72.6879 730.809 73.1388 730.966 Q73.5897 731.124 74.6492 731.507 Q75.6863 731.868 75.799 731.913 Q77.8956 732.747 79.0904 732.747 Q79.8795 732.747 80.2402 732.499 Q80.6009 732.229 80.6009 731.643 Q80.6009 730.065 79.0454 728.892 Q77.4673 727.698 74.8972 726.931 Q74.3336 726.751 74.1984 726.66 Q74.0631 726.548 74.0631 726.232 Q74.0631 725.691 74.514 725.691 Z\" fill=\"#000000\" fill-rule=\"evenodd\" fill-opacity=\"1\" /><path clip-path=\"url(#clip320)\" d=\"M49.5802 700.206 L76.2724 706.856 Q77.4673 707.127 78.4817 707.127 Q80.6009 707.127 80.6009 705.752 Q80.6009 705.075 80.1726 704.534 Q79.7442 703.993 78.8425 703.565 Q77.9407 703.137 77.1066 702.866 Q76.2499 702.595 74.8972 702.235 Q74.3562 702.122 74.2209 702.032 Q74.0631 701.919 74.0631 701.604 Q74.0631 701.04 74.514 701.04 Q77.4222 701.649 79.0904 702.438 Q81.6379 703.7 81.6379 705.842 Q81.6379 707.465 80.646 708.615 Q79.654 709.765 78.1661 710.035 Q81.6379 712.988 81.6379 716.054 Q81.6379 718.76 79.5864 720.473 Q77.5124 722.186 74.2435 722.186 Q70.952 722.186 67.7958 720.563 Q64.6397 718.917 62.6783 716.325 Q60.717 713.732 60.717 711.072 Q60.717 708.254 63.6703 706.811 L52.7138 704.038 L51.8121 703.903 Q51.5415 703.903 51.4063 704.016 Q51.2485 704.106 51.1358 704.647 Q51.023 705.166 51.023 706.203 Q51.023 706.631 51.0005 706.834 Q50.9779 707.014 50.8652 707.172 Q50.73 707.33 50.4594 707.33 Q49.6704 707.33 49.5802 706.676 Q49.0842 702.347 49.0842 700.814 Q49.0842 700.544 49.2195 700.386 Q49.3322 700.228 49.4675 700.228 L49.5802 700.206 M65.7894 707.375 Q65.5865 707.375 65.0229 707.533 Q64.4593 707.69 63.6703 708.051 Q62.8812 708.412 62.3176 709.201 Q61.7315 709.967 61.7315 711.004 Q61.7315 712.402 62.9263 713.868 Q64.1212 715.31 66.1501 716.37 Q67.7733 717.182 71.1775 718.061 Q74.5816 718.917 76.2724 718.917 Q77.3095 718.917 78.2338 718.692 Q79.1355 718.444 79.8795 717.745 Q80.6009 717.046 80.6009 715.964 Q80.6009 713.326 77.332 710.734 Q76.7684 710.238 76.543 710.125 Q76.295 709.99 75.6186 709.81 L66.5785 707.51 Q65.9021 707.375 65.7894 707.375 Z\" fill=\"#000000\" fill-rule=\"evenodd\" fill-opacity=\"1\" /><path clip-path=\"url(#clip320)\" d=\"M75.7765 680.682 Q75.9794 680.501 76.1822 680.501 Q76.3851 680.501 76.9713 680.952 Q77.5574 681.381 78.3465 682.305 Q79.1355 683.229 79.8795 684.424 Q80.6234 685.619 81.1194 687.377 Q81.6379 689.136 81.6379 690.984 Q81.6379 694.298 79.2708 696.282 Q76.9037 698.243 73.2741 698.243 Q70.952 698.243 68.9005 697.477 Q66.8264 696.711 65.3611 695.471 Q63.8957 694.208 62.8361 692.63 Q61.754 691.029 61.2355 689.361 Q60.717 687.693 60.717 686.137 Q60.717 683.86 61.8667 682.53 Q63.0165 681.2 64.6397 681.2 Q65.0229 681.2 65.4963 681.313 Q65.9698 681.403 66.7137 681.719 Q67.4577 682.012 68.2016 682.778 Q68.923 683.545 69.3965 684.672 Q70.456 687.174 70.456 691.728 L70.456 694.186 Q73.3642 694.907 75.2579 694.907 Q76.0019 694.907 76.7684 694.772 Q77.5124 694.636 78.4592 694.276 Q79.4061 693.892 80.0147 693.036 Q80.6009 692.157 80.6009 690.894 Q80.6009 690.488 80.5783 690.06 Q80.5558 689.609 80.3078 688.482 Q80.0598 687.332 79.6315 686.318 Q79.2032 685.303 78.2789 684.018 Q77.332 682.711 76.047 681.674 Q75.5736 681.313 75.5736 681.065 Q75.5736 680.862 75.7765 680.682 M64.6397 682.733 Q63.3997 682.733 62.5656 683.657 Q61.7315 684.559 61.7315 686.137 Q61.7315 686.633 61.8442 687.242 Q61.9569 687.851 62.4303 688.865 Q62.9038 689.857 63.6928 690.736 Q64.4593 691.616 65.9698 692.495 Q67.4577 693.374 69.4416 693.892 L69.4416 691.999 Q69.4416 691.345 69.4416 690.872 Q69.419 690.398 69.3288 689.361 Q69.2387 688.302 69.0809 687.535 Q68.9005 686.769 68.5398 685.799 Q68.1791 684.83 67.7057 684.221 Q67.2097 683.59 66.4207 683.161 Q65.6316 682.733 64.6397 682.733 Z\" fill=\"#000000\" fill-rule=\"evenodd\" fill-opacity=\"1\" /><path clip-path=\"url(#clip320)\" d=\"M63.7154 659.064 Q64.9102 659.064 65.6767 659.853 Q66.4432 660.619 66.4432 661.611 Q66.4432 662.468 65.9472 662.919 Q65.4513 663.37 64.82 663.37 Q63.9183 663.37 63.1743 662.671 Q62.4303 661.972 62.2725 660.958 Q61.7315 661.702 61.7315 662.896 Q61.7315 664.858 63.2419 666.594 Q63.9408 667.36 65.2258 668.194 Q66.4883 669.028 67.0293 669.186 L73.0486 670.652 Q73.7249 670.787 76.9713 671.621 Q80.1951 672.433 80.3304 672.5 Q80.9616 672.726 81.2998 673.222 Q81.6379 673.718 81.6379 674.214 Q81.6379 674.777 81.2998 675.16 Q80.9616 675.544 80.3755 675.544 Q80.2853 675.544 79.9471 675.476 Q79.609 675.408 79.1355 675.296 Q78.6621 675.183 78.3916 675.138 L67.7282 672.455 Q65.7894 671.959 65.1807 671.846 Q64.5495 671.711 63.8506 671.711 Q62.6332 671.711 62.1824 672.094 Q61.7315 672.478 61.7315 673.154 Q61.7315 674.326 63.1292 675.093 Q64.5269 675.859 67.2322 676.513 Q67.9762 676.716 68.134 676.851 Q68.2918 676.964 68.2918 677.302 Q68.2693 677.866 67.8184 677.866 Q67.7057 677.866 66.9843 677.685 Q66.2403 677.505 65.1582 677.167 Q64.0535 676.806 63.3547 676.423 Q62.8812 676.197 62.5656 675.995 Q62.25 675.792 61.754 675.386 Q61.2581 674.98 60.9875 674.371 Q60.717 673.763 60.717 673.019 Q60.717 671.396 61.7089 670.246 Q62.7009 669.073 64.2564 668.803 Q63.4448 668.239 62.746 667.54 Q62.0246 666.842 61.3708 665.557 Q60.717 664.272 60.717 662.896 Q60.717 661.183 61.5962 660.123 Q62.4529 659.064 63.7154 659.064 Z\" fill=\"#000000\" fill-rule=\"evenodd\" fill-opacity=\"1\" /><path clip-path=\"url(#clip320)\" d=\"M64.6848 639.742 Q65.9472 639.742 66.6235 640.373 Q67.2773 641.004 67.2773 641.861 Q67.2773 642.56 66.8715 642.943 Q66.4657 643.304 65.9247 643.304 Q65.1356 643.304 64.5044 642.673 Q63.8732 642.019 63.8506 641.072 Q63.0165 641.388 62.5205 642.222 Q62.002 643.056 61.8667 643.8 Q61.7315 644.521 61.7315 645.243 Q61.7315 646.663 62.1824 647.745 Q62.6332 648.827 63.3321 649.368 Q64.0084 649.909 64.6622 650.157 Q65.316 650.405 65.8796 650.405 Q66.3756 650.405 66.7814 650.293 Q67.1646 650.157 67.4577 649.842 Q67.7282 649.526 67.9086 649.301 Q68.0889 649.053 68.2467 648.512 Q68.4045 647.971 68.4722 647.745 Q68.5173 647.52 68.6525 646.888 Q68.923 645.581 69.0809 644.995 Q69.2161 644.409 69.5994 643.642 Q69.9826 642.853 70.5913 642.267 Q72.0116 640.847 73.9729 640.847 Q74.6943 640.847 75.5736 641.095 Q76.4528 641.32 77.5574 641.974 Q78.6621 642.628 79.5413 643.619 Q80.4205 644.611 81.0292 646.325 Q81.6379 648.016 81.6379 650.135 Q81.6379 653.088 80.398 654.914 Q79.1355 656.74 77.1516 656.74 Q75.7088 656.74 74.9198 655.951 Q74.1082 655.162 74.1082 654.148 Q74.1082 653.381 74.5365 652.908 Q74.9423 652.434 75.7088 652.434 Q76.7459 652.434 77.5349 653.268 Q78.3239 654.103 78.1661 655.342 Q80.6009 654.283 80.6009 650.09 Q80.6009 648.512 80.1951 647.294 Q79.7668 646.054 79.1806 645.378 Q78.5719 644.679 77.828 644.228 Q77.084 643.777 76.5204 643.642 Q75.9568 643.484 75.5285 643.484 Q74.7845 643.484 74.2209 643.777 Q73.6573 644.07 73.3417 644.476 Q73.0035 644.859 72.733 645.603 Q72.4399 646.325 72.3272 646.843 Q72.2145 647.362 72.0341 648.286 Q71.944 648.714 71.8989 648.985 Q71.8312 649.256 71.6509 649.819 Q71.448 650.36 71.2451 650.743 Q71.0422 651.104 70.6815 651.578 Q70.3208 652.051 69.8924 652.344 Q69.4641 652.637 68.8329 652.84 Q68.2016 653.043 67.4577 653.043 Q66.7814 653.043 65.9698 652.84 Q65.1582 652.615 64.2113 652.051 Q63.2645 651.465 62.498 650.631 Q61.7315 649.797 61.2355 648.399 Q60.717 646.979 60.717 645.243 Q60.717 642.718 61.8893 641.23 Q63.039 639.742 64.6848 639.742 Z\" fill=\"#000000\" fill-rule=\"evenodd\" fill-opacity=\"1\" /><polyline clip-path=\"url(#clip323)\" style=\"stroke:#000000; stroke-linecap:round; stroke-linejoin:round; stroke-width:4; stroke-opacity:1; fill:none\" stroke-dasharray=\"16, 8, 2, 8\" points=\"458.109,1423.18 495.649,1423.18 533.189,1423.18 570.729,1423.18 608.269,1423.18 645.809,1423.18 683.349,1423.18 720.889,1423.18 758.43,1423.18 795.97,1423.18 833.51,1423.18 871.05,1423.18 908.59,1423.18 946.13,1423.18 983.67,1423.18 1021.21,1423.18 1058.75,1423.18 1096.29,1423.18 1133.83,1423.18 1171.37,1423.18 1208.91,1423.18 1246.45,1423.18 1283.99,1423.18 1321.53,1423.18 1359.07,1423.18 1396.61,1423.18 1434.15,1423.18 1471.69,1423.18 1509.23,1423.18 1546.77,1423.18 1584.31,1423.18 1621.85,1423.18 1659.39,1423.18 1696.93,1423.18 1734.47,1423.18 1772.01,1423.18 1809.55,1423.18 1847.09,1423.18 1884.63,1423.18 1922.17,1423.18 1959.71,1423.18 1997.25,1423.18 2034.79,1423.18 2072.33,1423.18 2109.87,1423.18 2147.41,1423.18 2184.95,1423.18 2222.49,1423.18 2260.03,1423.18 2297.57,1423.18 \"/>\n",
       "<path clip-path=\"url(#clip323)\" d=\"M446.109 1411.18 L446.109 1435.18 L470.109 1435.18 L470.109 1411.18 L446.109 1411.18 Z\" fill=\"#000000\" fill-rule=\"evenodd\" fill-opacity=\"1\" stroke=\"none\"/>\n",
       "<path clip-path=\"url(#clip323)\" d=\"M483.649 1411.18 L483.649 1435.18 L507.649 1435.18 L507.649 1411.18 L483.649 1411.18 Z\" fill=\"#000000\" fill-rule=\"evenodd\" fill-opacity=\"1\" stroke=\"none\"/>\n",
       "<path clip-path=\"url(#clip323)\" d=\"M521.189 1411.18 L521.189 1435.18 L545.189 1435.18 L545.189 1411.18 L521.189 1411.18 Z\" fill=\"#000000\" fill-rule=\"evenodd\" fill-opacity=\"1\" stroke=\"none\"/>\n",
       "<path clip-path=\"url(#clip323)\" d=\"M558.729 1411.18 L558.729 1435.18 L582.729 1435.18 L582.729 1411.18 L558.729 1411.18 Z\" fill=\"#000000\" fill-rule=\"evenodd\" fill-opacity=\"1\" stroke=\"none\"/>\n",
       "<path clip-path=\"url(#clip323)\" d=\"M596.269 1411.18 L596.269 1435.18 L620.269 1435.18 L620.269 1411.18 L596.269 1411.18 Z\" fill=\"#000000\" fill-rule=\"evenodd\" fill-opacity=\"1\" stroke=\"none\"/>\n",
       "<path clip-path=\"url(#clip323)\" d=\"M633.809 1411.18 L633.809 1435.18 L657.809 1435.18 L657.809 1411.18 L633.809 1411.18 Z\" fill=\"#000000\" fill-rule=\"evenodd\" fill-opacity=\"1\" stroke=\"none\"/>\n",
       "<path clip-path=\"url(#clip323)\" d=\"M671.349 1411.18 L671.349 1435.18 L695.349 1435.18 L695.349 1411.18 L671.349 1411.18 Z\" fill=\"#000000\" fill-rule=\"evenodd\" fill-opacity=\"1\" stroke=\"none\"/>\n",
       "<path clip-path=\"url(#clip323)\" d=\"M708.889 1411.18 L708.889 1435.18 L732.889 1435.18 L732.889 1411.18 L708.889 1411.18 Z\" fill=\"#000000\" fill-rule=\"evenodd\" fill-opacity=\"1\" stroke=\"none\"/>\n",
       "<path clip-path=\"url(#clip323)\" d=\"M746.43 1411.18 L746.43 1435.18 L770.43 1435.18 L770.43 1411.18 L746.43 1411.18 Z\" fill=\"#000000\" fill-rule=\"evenodd\" fill-opacity=\"1\" stroke=\"none\"/>\n",
       "<path clip-path=\"url(#clip323)\" d=\"M783.97 1411.18 L783.97 1435.18 L807.97 1435.18 L807.97 1411.18 L783.97 1411.18 Z\" fill=\"#000000\" fill-rule=\"evenodd\" fill-opacity=\"1\" stroke=\"none\"/>\n",
       "<path clip-path=\"url(#clip323)\" d=\"M821.51 1411.18 L821.51 1435.18 L845.51 1435.18 L845.51 1411.18 L821.51 1411.18 Z\" fill=\"#000000\" fill-rule=\"evenodd\" fill-opacity=\"1\" stroke=\"none\"/>\n",
       "<path clip-path=\"url(#clip323)\" d=\"M859.05 1411.18 L859.05 1435.18 L883.05 1435.18 L883.05 1411.18 L859.05 1411.18 Z\" fill=\"#000000\" fill-rule=\"evenodd\" fill-opacity=\"1\" stroke=\"none\"/>\n",
       "<path clip-path=\"url(#clip323)\" d=\"M896.59 1411.18 L896.59 1435.18 L920.59 1435.18 L920.59 1411.18 L896.59 1411.18 Z\" fill=\"#000000\" fill-rule=\"evenodd\" fill-opacity=\"1\" stroke=\"none\"/>\n",
       "<path clip-path=\"url(#clip323)\" d=\"M934.13 1411.18 L934.13 1435.18 L958.13 1435.18 L958.13 1411.18 L934.13 1411.18 Z\" fill=\"#000000\" fill-rule=\"evenodd\" fill-opacity=\"1\" stroke=\"none\"/>\n",
       "<path clip-path=\"url(#clip323)\" d=\"M971.67 1411.18 L971.67 1435.18 L995.67 1435.18 L995.67 1411.18 L971.67 1411.18 Z\" fill=\"#000000\" fill-rule=\"evenodd\" fill-opacity=\"1\" stroke=\"none\"/>\n",
       "<path clip-path=\"url(#clip323)\" d=\"M1009.21 1411.18 L1009.21 1435.18 L1033.21 1435.18 L1033.21 1411.18 L1009.21 1411.18 Z\" fill=\"#000000\" fill-rule=\"evenodd\" fill-opacity=\"1\" stroke=\"none\"/>\n",
       "<path clip-path=\"url(#clip323)\" d=\"M1046.75 1411.18 L1046.75 1435.18 L1070.75 1435.18 L1070.75 1411.18 L1046.75 1411.18 Z\" fill=\"#000000\" fill-rule=\"evenodd\" fill-opacity=\"1\" stroke=\"none\"/>\n",
       "<path clip-path=\"url(#clip323)\" d=\"M1084.29 1411.18 L1084.29 1435.18 L1108.29 1435.18 L1108.29 1411.18 L1084.29 1411.18 Z\" fill=\"#000000\" fill-rule=\"evenodd\" fill-opacity=\"1\" stroke=\"none\"/>\n",
       "<path clip-path=\"url(#clip323)\" d=\"M1121.83 1411.18 L1121.83 1435.18 L1145.83 1435.18 L1145.83 1411.18 L1121.83 1411.18 Z\" fill=\"#000000\" fill-rule=\"evenodd\" fill-opacity=\"1\" stroke=\"none\"/>\n",
       "<path clip-path=\"url(#clip323)\" d=\"M1159.37 1411.18 L1159.37 1435.18 L1183.37 1435.18 L1183.37 1411.18 L1159.37 1411.18 Z\" fill=\"#000000\" fill-rule=\"evenodd\" fill-opacity=\"1\" stroke=\"none\"/>\n",
       "<path clip-path=\"url(#clip323)\" d=\"M1196.91 1411.18 L1196.91 1435.18 L1220.91 1435.18 L1220.91 1411.18 L1196.91 1411.18 Z\" fill=\"#000000\" fill-rule=\"evenodd\" fill-opacity=\"1\" stroke=\"none\"/>\n",
       "<path clip-path=\"url(#clip323)\" d=\"M1234.45 1411.18 L1234.45 1435.18 L1258.45 1435.18 L1258.45 1411.18 L1234.45 1411.18 Z\" fill=\"#000000\" fill-rule=\"evenodd\" fill-opacity=\"1\" stroke=\"none\"/>\n",
       "<path clip-path=\"url(#clip323)\" d=\"M1271.99 1411.18 L1271.99 1435.18 L1295.99 1435.18 L1295.99 1411.18 L1271.99 1411.18 Z\" fill=\"#000000\" fill-rule=\"evenodd\" fill-opacity=\"1\" stroke=\"none\"/>\n",
       "<path clip-path=\"url(#clip323)\" d=\"M1309.53 1411.18 L1309.53 1435.18 L1333.53 1435.18 L1333.53 1411.18 L1309.53 1411.18 Z\" fill=\"#000000\" fill-rule=\"evenodd\" fill-opacity=\"1\" stroke=\"none\"/>\n",
       "<path clip-path=\"url(#clip323)\" d=\"M1347.07 1411.18 L1347.07 1435.18 L1371.07 1435.18 L1371.07 1411.18 L1347.07 1411.18 Z\" fill=\"#000000\" fill-rule=\"evenodd\" fill-opacity=\"1\" stroke=\"none\"/>\n",
       "<path clip-path=\"url(#clip323)\" d=\"M1384.61 1411.18 L1384.61 1435.18 L1408.61 1435.18 L1408.61 1411.18 L1384.61 1411.18 Z\" fill=\"#000000\" fill-rule=\"evenodd\" fill-opacity=\"1\" stroke=\"none\"/>\n",
       "<path clip-path=\"url(#clip323)\" d=\"M1422.15 1411.18 L1422.15 1435.18 L1446.15 1435.18 L1446.15 1411.18 L1422.15 1411.18 Z\" fill=\"#000000\" fill-rule=\"evenodd\" fill-opacity=\"1\" stroke=\"none\"/>\n",
       "<path clip-path=\"url(#clip323)\" d=\"M1459.69 1411.18 L1459.69 1435.18 L1483.69 1435.18 L1483.69 1411.18 L1459.69 1411.18 Z\" fill=\"#000000\" fill-rule=\"evenodd\" fill-opacity=\"1\" stroke=\"none\"/>\n",
       "<path clip-path=\"url(#clip323)\" d=\"M1497.23 1411.18 L1497.23 1435.18 L1521.23 1435.18 L1521.23 1411.18 L1497.23 1411.18 Z\" fill=\"#000000\" fill-rule=\"evenodd\" fill-opacity=\"1\" stroke=\"none\"/>\n",
       "<path clip-path=\"url(#clip323)\" d=\"M1534.77 1411.18 L1534.77 1435.18 L1558.77 1435.18 L1558.77 1411.18 L1534.77 1411.18 Z\" fill=\"#000000\" fill-rule=\"evenodd\" fill-opacity=\"1\" stroke=\"none\"/>\n",
       "<path clip-path=\"url(#clip323)\" d=\"M1572.31 1411.18 L1572.31 1435.18 L1596.31 1435.18 L1596.31 1411.18 L1572.31 1411.18 Z\" fill=\"#000000\" fill-rule=\"evenodd\" fill-opacity=\"1\" stroke=\"none\"/>\n",
       "<path clip-path=\"url(#clip323)\" d=\"M1609.85 1411.18 L1609.85 1435.18 L1633.85 1435.18 L1633.85 1411.18 L1609.85 1411.18 Z\" fill=\"#000000\" fill-rule=\"evenodd\" fill-opacity=\"1\" stroke=\"none\"/>\n",
       "<path clip-path=\"url(#clip323)\" d=\"M1647.39 1411.18 L1647.39 1435.18 L1671.39 1435.18 L1671.39 1411.18 L1647.39 1411.18 Z\" fill=\"#000000\" fill-rule=\"evenodd\" fill-opacity=\"1\" stroke=\"none\"/>\n",
       "<path clip-path=\"url(#clip323)\" d=\"M1684.93 1411.18 L1684.93 1435.18 L1708.93 1435.18 L1708.93 1411.18 L1684.93 1411.18 Z\" fill=\"#000000\" fill-rule=\"evenodd\" fill-opacity=\"1\" stroke=\"none\"/>\n",
       "<path clip-path=\"url(#clip323)\" d=\"M1722.47 1411.18 L1722.47 1435.18 L1746.47 1435.18 L1746.47 1411.18 L1722.47 1411.18 Z\" fill=\"#000000\" fill-rule=\"evenodd\" fill-opacity=\"1\" stroke=\"none\"/>\n",
       "<path clip-path=\"url(#clip323)\" d=\"M1760.01 1411.18 L1760.01 1435.18 L1784.01 1435.18 L1784.01 1411.18 L1760.01 1411.18 Z\" fill=\"#000000\" fill-rule=\"evenodd\" fill-opacity=\"1\" stroke=\"none\"/>\n",
       "<path clip-path=\"url(#clip323)\" d=\"M1797.55 1411.18 L1797.55 1435.18 L1821.55 1435.18 L1821.55 1411.18 L1797.55 1411.18 Z\" fill=\"#000000\" fill-rule=\"evenodd\" fill-opacity=\"1\" stroke=\"none\"/>\n",
       "<path clip-path=\"url(#clip323)\" d=\"M1835.09 1411.18 L1835.09 1435.18 L1859.09 1435.18 L1859.09 1411.18 L1835.09 1411.18 Z\" fill=\"#000000\" fill-rule=\"evenodd\" fill-opacity=\"1\" stroke=\"none\"/>\n",
       "<path clip-path=\"url(#clip323)\" d=\"M1872.63 1411.18 L1872.63 1435.18 L1896.63 1435.18 L1896.63 1411.18 L1872.63 1411.18 Z\" fill=\"#000000\" fill-rule=\"evenodd\" fill-opacity=\"1\" stroke=\"none\"/>\n",
       "<path clip-path=\"url(#clip323)\" d=\"M1910.17 1411.18 L1910.17 1435.18 L1934.17 1435.18 L1934.17 1411.18 L1910.17 1411.18 Z\" fill=\"#000000\" fill-rule=\"evenodd\" fill-opacity=\"1\" stroke=\"none\"/>\n",
       "<path clip-path=\"url(#clip323)\" d=\"M1947.71 1411.18 L1947.71 1435.18 L1971.71 1435.18 L1971.71 1411.18 L1947.71 1411.18 Z\" fill=\"#000000\" fill-rule=\"evenodd\" fill-opacity=\"1\" stroke=\"none\"/>\n",
       "<path clip-path=\"url(#clip323)\" d=\"M1985.25 1411.18 L1985.25 1435.18 L2009.25 1435.18 L2009.25 1411.18 L1985.25 1411.18 Z\" fill=\"#000000\" fill-rule=\"evenodd\" fill-opacity=\"1\" stroke=\"none\"/>\n",
       "<path clip-path=\"url(#clip323)\" d=\"M2022.79 1411.18 L2022.79 1435.18 L2046.79 1435.18 L2046.79 1411.18 L2022.79 1411.18 Z\" fill=\"#000000\" fill-rule=\"evenodd\" fill-opacity=\"1\" stroke=\"none\"/>\n",
       "<path clip-path=\"url(#clip323)\" d=\"M2060.33 1411.18 L2060.33 1435.18 L2084.33 1435.18 L2084.33 1411.18 L2060.33 1411.18 Z\" fill=\"#000000\" fill-rule=\"evenodd\" fill-opacity=\"1\" stroke=\"none\"/>\n",
       "<path clip-path=\"url(#clip323)\" d=\"M2097.87 1411.18 L2097.87 1435.18 L2121.87 1435.18 L2121.87 1411.18 L2097.87 1411.18 Z\" fill=\"#000000\" fill-rule=\"evenodd\" fill-opacity=\"1\" stroke=\"none\"/>\n",
       "<path clip-path=\"url(#clip323)\" d=\"M2135.41 1411.18 L2135.41 1435.18 L2159.41 1435.18 L2159.41 1411.18 L2135.41 1411.18 Z\" fill=\"#000000\" fill-rule=\"evenodd\" fill-opacity=\"1\" stroke=\"none\"/>\n",
       "<path clip-path=\"url(#clip323)\" d=\"M2172.95 1411.18 L2172.95 1435.18 L2196.95 1435.18 L2196.95 1411.18 L2172.95 1411.18 Z\" fill=\"#000000\" fill-rule=\"evenodd\" fill-opacity=\"1\" stroke=\"none\"/>\n",
       "<path clip-path=\"url(#clip323)\" d=\"M2210.49 1411.18 L2210.49 1435.18 L2234.49 1435.18 L2234.49 1411.18 L2210.49 1411.18 Z\" fill=\"#000000\" fill-rule=\"evenodd\" fill-opacity=\"1\" stroke=\"none\"/>\n",
       "<path clip-path=\"url(#clip323)\" d=\"M2248.03 1411.18 L2248.03 1435.18 L2272.03 1435.18 L2272.03 1411.18 L2248.03 1411.18 Z\" fill=\"#000000\" fill-rule=\"evenodd\" fill-opacity=\"1\" stroke=\"none\"/>\n",
       "<path clip-path=\"url(#clip323)\" d=\"M2285.57 1411.18 L2285.57 1435.18 L2309.57 1435.18 L2309.57 1411.18 L2285.57 1411.18 Z\" fill=\"#000000\" fill-rule=\"evenodd\" fill-opacity=\"1\" stroke=\"none\"/>\n",
       "</svg>\n"
      ]
     },
     "metadata": {},
     "output_type": "display_data"
    },
    {
     "name": "stderr",
     "output_type": "stream",
     "text": [
      "\u001b[33m\u001b[1m┌ \u001b[22m\u001b[39m\u001b[33m\u001b[1mWarning: \u001b[22m\u001b[39mNo strict ticks found\n",
      "\u001b[33m\u001b[1m└ \u001b[22m\u001b[39m\u001b[90m@ PlotUtils C:\\Users\\MACC-Jose\\.julia\\packages\\PlotUtils\\bZEEj\\src\\ticks.jl:191\u001b[39m\n",
      "\u001b[33m\u001b[1m┌ \u001b[22m\u001b[39m\u001b[33m\u001b[1mWarning: \u001b[22m\u001b[39mNo strict ticks found\n",
      "\u001b[33m\u001b[1m└ \u001b[22m\u001b[39m\u001b[90m@ PlotUtils C:\\Users\\MACC-Jose\\.julia\\packages\\PlotUtils\\bZEEj\\src\\ticks.jl:191\u001b[39m\n",
      "\u001b[33m\u001b[1m┌ \u001b[22m\u001b[39m\u001b[33m\u001b[1mWarning: \u001b[22m\u001b[39mNo strict ticks found\n",
      "\u001b[33m\u001b[1m└ \u001b[22m\u001b[39m\u001b[90m@ PlotUtils C:\\Users\\MACC-Jose\\.julia\\packages\\PlotUtils\\bZEEj\\src\\ticks.jl:191\u001b[39m\n"
     ]
    }
   ],
   "source": [
    "p4 = plot(1:nScenMax,optGapTraj_s,\n",
    "    yscale=:log10,\n",
    "    xlabel=\"# scenarios\", \n",
    "    ylabel=L\"T_{benders}\",\n",
    "    marker=:square, \n",
    "    markersize=3,\n",
    "    linecolor = :black,\n",
    "    markercolor = :black,\n",
    "    linestyle = :dashdot,\n",
    "    label=\"\",\n",
    "    gridlinewidth=2,\n",
    "    dpi=600)\n",
    "\n",
    "display(p4)\n",
    "savefig(p4,\"C:/Users/MACC-Jose/Documents/Canada/Papers/Benders Decomposition/Figures/C3_BenOptGap.pdf\");"
   ]
  },
  {
   "cell_type": "markdown",
   "id": "b10e389c",
   "metadata": {},
   "source": [
    "# Checking the performance of the methods in terms of time vs. nReac"
   ]
  },
  {
   "cell_type": "code",
   "execution_count": 20,
   "id": "9a96c8bd",
   "metadata": {},
   "outputs": [],
   "source": [
    "# # testing the number of reactors in series (chosen arbitrarily as the same number of scenarios)\n",
    "# nReactMax = nScenMax\n",
    "\n",
    "# #preparing plot \n",
    "# # --> monolithic vs. decomposed \n",
    "# # solution time\n",
    "# solTimeTraj_r = Matrix{Float64}(undef,2,nScenMax) \n",
    "# # computed objective function\n",
    "# solObjTraj_r = Matrix{Float64}(undef,2,nScenMax) \n",
    "# # --> only decomposed\n",
    "# # number of iterations\n",
    "# iterTraj_r = Vector{Float64}(undef,nScenMax) \n",
    "# # optimality gap\n",
    "# optGapTraj_r = Vector{Float64}(undef,nScenMax) \n",
    "\n",
    "# # number of reactors in parallel\n",
    "# nScenarios = 2\n",
    "# #equiprobable scenarios\n",
    "# pScenarios = 1.0/nScenarios\n",
    "\n",
    "# for rr = 1:nReactMax\n",
    "#     display(\"evaluating $(rr) reactors in parallel | option $(opti)\")\n",
    "        \n",
    "#     #number os reactors\n",
    "#     nReac = rr\n",
    "#     # Number of states\n",
    "#     nx = 2*nReac\n",
    "        \n",
    "#     # Possible initial conditions (deviation form)\n",
    "#     xInit_0 = repeat([0.3583;0.6418] .- x0, outer = [nReac,1])\n",
    "#     uInit_0 = 1.0 - u0\n",
    "       \n",
    "#     # solving monolithical problem \n",
    "#     sol_m_Dict = MS_CLDRTO(xInit_0,uInit_0,nReac,nScenarios,pScenarios,solNominal,opti)\n",
    "\n",
    "#     # solving decomposed problem    \n",
    "#     sol_d_Dict = BENS_CLDRTO(xInit_0,uInit_0,nReac,nScenarios,pScenarios,solNominal,opti)\n",
    "        \n",
    "#     # for plotting\n",
    "#     solTimeTraj_r[1,rr] = sol_m_Dict['t']\n",
    "#     solTimeTraj_r[2,rr] = sol_d_Dict['t']\n",
    "    \n",
    "#     solObjTraj_r[1,rr] = sol_m_Dict['ϕ']\n",
    "#     solObjTraj_r[2,rr] = sol_d_Dict['ϕ']\n",
    "\n",
    "#     iterTraj_r[rr] = sol_d_Dict['i'] \n",
    "#     optGapTraj_r[rr] = sol_d_Dict['g']\n",
    "\n",
    "# end\n"
   ]
  },
  {
   "cell_type": "code",
   "execution_count": 21,
   "id": "31be0294",
   "metadata": {},
   "outputs": [],
   "source": [
    "# # solution time\n",
    "# p5 = plot(1:nReactMax,solTimeTraj_r[1,:],\n",
    "#     xlabel=\"# reactors\",\n",
    "#     ylabel=\"sol. time [s]\",\n",
    "#     marker=:circle,\n",
    "#     markercolor = :black,\n",
    "#     linecolor = :black,\n",
    "#     label=\"monolithic\")\n",
    "\n",
    "# p5 = plot!(1:nReactMax,solTimeTraj_r[2,:],\n",
    "#     marker=:square, \n",
    "#     markercolor = :black,\n",
    "#     linecolor = :black,\n",
    "#     markersize = 3,\n",
    "#     linestyle = :dashdot,\n",
    "#     label=\"decomposed\",\n",
    "#     gridlinewidth=2,\n",
    "#     dpi=600)\n",
    "\n",
    "# display(p5)\n",
    "# #savefig(p5,\"C:/Users/MACC-Jose/Documents/Canada/Papers/Benders Decomposition/Figures/C3_SolTime.pdf\");"
   ]
  },
  {
   "cell_type": "code",
   "execution_count": 22,
   "id": "8e2e66e0",
   "metadata": {},
   "outputs": [],
   "source": [
    "# # objective function (parallel)\n",
    "# p5b = plot(1:nReactMax,(solObjTraj_r[2,:] - solObjTraj_r[1,:])./solObjTraj_r[1,:],\n",
    "#     xlabel=\"# reactors\", \n",
    "#     ylabel=\"objective function difference [-]\",\n",
    "#     marker=:xcross, \n",
    "#     markercolor = :black,\n",
    "#     linecolor = :black,\n",
    "#     label=\"\",\n",
    "#     dpi=600)\n",
    "\n",
    "# display(p5b)\n",
    "# #savefig(p5b,\"C:/Users/MACC-Jose/Documents/Canada/Papers/Benders Decomposition/Figures/C3_OFComp.pdf\");"
   ]
  },
  {
   "cell_type": "code",
   "execution_count": 23,
   "id": "731f9dd8",
   "metadata": {},
   "outputs": [],
   "source": [
    "# p6 = plot(1:nReactMax,iterTraj_r,\n",
    "#     xlabel=\"# reactors\", \n",
    "#     ylabel=\"# iterations\",\n",
    "#     marker=:square, \n",
    "#     markersize=3,\n",
    "#     linecolor = :black,\n",
    "#     markercolor = :black,\n",
    "#     linestyle = :dashdot,\n",
    "#     label=\"\",\n",
    "#     yticks=range(0,150,step=10),\n",
    "#     gridlinewidth=2,\n",
    "#     dpi=600)\n",
    "\n",
    "# display(p6)\n",
    "# #savefig(p6,\"C:/Users/MACC-Jose/Documents/Canada/Papers/Benders Decomposition/Figures/C3_BenIter.pdf\");"
   ]
  },
  {
   "cell_type": "code",
   "execution_count": 24,
   "id": "3c8c1018",
   "metadata": {},
   "outputs": [],
   "source": [
    "# p8 = plot(1:nReactMax,optGapTraj_r,\n",
    "#     yscale=:log10,\n",
    "#     xlabel=\"# reactors\", \n",
    "#     ylabel=L\"T_{benders}\",\n",
    "#     marker=:square, \n",
    "#     markersize=3,\n",
    "#     linecolor = :black,\n",
    "#     markercolor = :black,\n",
    "#     linestyle = :dashdot,\n",
    "#     label=\"\",\n",
    "#     gridlinewidth=2,\n",
    "#     dpi=600)\n",
    "\n",
    "# display(p8)\n",
    "# #savefig(p8,\"C:/Users/MACC-Jose/Documents/Canada/Papers/Benders Decomposition/Figures/C3_BenOptGap.pdf\");"
   ]
  },
  {
   "cell_type": "markdown",
   "id": "0ffe348c",
   "metadata": {},
   "source": [
    "# Checking if trajectories match for more scenarios and reactors\n",
    "- arbitrarily chosen number of scenarios and reactors"
   ]
  },
  {
   "cell_type": "code",
   "execution_count": 25,
   "id": "cf6ecc0d",
   "metadata": {},
   "outputs": [
    {
     "data": {
      "text/plain": [
       "\" DB: opt gap = 1.044432237289717\""
      ]
     },
     "metadata": {},
     "output_type": "display_data"
    },
    {
     "data": {
      "text/plain": [
       "\">>>>>> iteration 1:O\""
      ]
     },
     "metadata": {},
     "output_type": "display_data"
    },
    {
     "data": {
      "text/plain": [
       "\" DB: opt gap = 0.9105382045332322\""
      ]
     },
     "metadata": {},
     "output_type": "display_data"
    },
    {
     "data": {
      "text/plain": [
       "\">>>>>> iteration 2:O\""
      ]
     },
     "metadata": {},
     "output_type": "display_data"
    },
    {
     "data": {
      "text/plain": [
       "\" DB: opt gap = 0.9478501241844854\""
      ]
     },
     "metadata": {},
     "output_type": "display_data"
    },
    {
     "data": {
      "text/plain": [
       "\">>>>>> iteration 3:O\""
      ]
     },
     "metadata": {},
     "output_type": "display_data"
    },
    {
     "data": {
      "text/plain": [
       "\" DB: opt gap = 0.9589027209085974\""
      ]
     },
     "metadata": {},
     "output_type": "display_data"
    },
    {
     "data": {
      "text/plain": [
       "\">>>>>> iteration 4:O\""
      ]
     },
     "metadata": {},
     "output_type": "display_data"
    },
    {
     "data": {
      "text/plain": [
       "\" DB: opt gap = 0.9217978277350534\""
      ]
     },
     "metadata": {},
     "output_type": "display_data"
    },
    {
     "data": {
      "text/plain": [
       "\">>>>>> iteration 5:O\""
      ]
     },
     "metadata": {},
     "output_type": "display_data"
    },
    {
     "data": {
      "text/plain": [
       "\" DB: opt gap = 0.8566851037256098\""
      ]
     },
     "metadata": {},
     "output_type": "display_data"
    },
    {
     "data": {
      "text/plain": [
       "\">>>>>> iteration 6:O\""
      ]
     },
     "metadata": {},
     "output_type": "display_data"
    },
    {
     "data": {
      "text/plain": [
       "\" DB: opt gap = 0.002384184927286266\""
      ]
     },
     "metadata": {},
     "output_type": "display_data"
    },
    {
     "data": {
      "text/plain": [
       "\">>>>>> iteration 7:O\""
      ]
     },
     "metadata": {},
     "output_type": "display_data"
    },
    {
     "data": {
      "text/plain": [
       "\" DB: opt gap = 0.0023831002819147745\""
      ]
     },
     "metadata": {},
     "output_type": "display_data"
    },
    {
     "data": {
      "text/plain": [
       "\">>>>>> iteration 8:O\""
      ]
     },
     "metadata": {},
     "output_type": "display_data"
    },
    {
     "data": {
      "text/plain": [
       "\">>>>>> iteration 9:F\""
      ]
     },
     "metadata": {},
     "output_type": "display_data"
    },
    {
     "data": {
      "text/plain": [
       "\" DB: opt gap = 0.0023800297216452176\""
      ]
     },
     "metadata": {},
     "output_type": "display_data"
    },
    {
     "data": {
      "text/plain": [
       "\">>>>>> iteration 10:O\""
      ]
     },
     "metadata": {},
     "output_type": "display_data"
    },
    {
     "data": {
      "text/plain": [
       "\" DB: opt gap = 0.002379141256776528\""
      ]
     },
     "metadata": {},
     "output_type": "display_data"
    },
    {
     "data": {
      "text/plain": [
       "\">>>>>> iteration 11:O\""
      ]
     },
     "metadata": {},
     "output_type": "display_data"
    },
    {
     "data": {
      "text/plain": [
       "\" DB: opt gap = 0.0023144688937863983\""
      ]
     },
     "metadata": {},
     "output_type": "display_data"
    },
    {
     "data": {
      "text/plain": [
       "\">>>>>> iteration 12:O\""
      ]
     },
     "metadata": {},
     "output_type": "display_data"
    },
    {
     "data": {
      "text/plain": [
       "\" DB: opt gap = 0.002313694866705736\""
      ]
     },
     "metadata": {},
     "output_type": "display_data"
    },
    {
     "data": {
      "text/plain": [
       "\">>>>>> iteration 13:O\""
      ]
     },
     "metadata": {},
     "output_type": "display_data"
    },
    {
     "data": {
      "text/plain": [
       "\" DB: opt gap = 0.0023114238826199163\""
      ]
     },
     "metadata": {},
     "output_type": "display_data"
    },
    {
     "data": {
      "text/plain": [
       "\">>>>>> iteration 14:O\""
      ]
     },
     "metadata": {},
     "output_type": "display_data"
    },
    {
     "data": {
      "text/plain": [
       "\" DB: opt gap = 0.0023072424020102464\""
      ]
     },
     "metadata": {},
     "output_type": "display_data"
    },
    {
     "data": {
      "text/plain": [
       "\">>>>>> iteration 15:O\""
      ]
     },
     "metadata": {},
     "output_type": "display_data"
    },
    {
     "data": {
      "text/plain": [
       "\" DB: opt gap = 0.002306364654862833\""
      ]
     },
     "metadata": {},
     "output_type": "display_data"
    },
    {
     "data": {
      "text/plain": [
       "\">>>>>> iteration 16:O\""
      ]
     },
     "metadata": {},
     "output_type": "display_data"
    },
    {
     "data": {
      "text/plain": [
       "\" DB: opt gap = 0.002303690369633236\""
      ]
     },
     "metadata": {},
     "output_type": "display_data"
    },
    {
     "data": {
      "text/plain": [
       "\">>>>>> iteration 17:O\""
      ]
     },
     "metadata": {},
     "output_type": "display_data"
    },
    {
     "data": {
      "text/plain": [
       "\" DB: opt gap = 3.295741125757793e-8\""
      ]
     },
     "metadata": {},
     "output_type": "display_data"
    }
   ],
   "source": [
    "nSCheck = 3 # number of scenarios\n",
    "nRCheck = 5 # number of reactors in parallel\n",
    "optiCheck = opti\n",
    "\n",
    "# Extracting solution for plotting --> monolithic vs. decomposed \n",
    "yTraj = Array{Float64}(undef,2,pD,nSCheck)\n",
    "uTraj = Array{Float64}(undef,2,pD,nSCheck) \n",
    "yspTraj = Array{Float64}(undef,2,pD,nSCheck) \n",
    "\n",
    "#equiprobable scenarios\n",
    "pScheck = 1.0/nSCheck;\n",
    "\n",
    "# Number of states\n",
    "nx = 2*nRCheck;\n",
    "\n",
    "# Initial conditions (deviation form)\n",
    "xInit_0 = repeat([0.3583;0.6418] .- x0, outer = [nRCheck,1]);\n",
    "uInit_0 = 1.0 - u0;\n",
    "\n",
    "sol_mon = MS_CLDRTO(xInit_0,uInit_0,nRCheck,nSCheck,pScheck,solNominal,optiCheck)\n",
    "sol_dec = BENS_CLDRTO(xInit_0,uInit_0,nRCheck,nSCheck,pScheck,solNominal,optiCheck)\n",
    "\n",
    "for ii in 1:pD\n",
    "    for ss in 1:nSCheck\n",
    "    # transforming from deviation form\n",
    "    yTraj[1,ii,ss] = sol_mon['y'][ii,ss] + y0\n",
    "    yspTraj[1,ii,ss] = sol_mon['s'][ii,ss] + y0\n",
    "    uTraj[1,ii,ss] = sol_mon['u'][ii,1,ss] + u0\n",
    "        \n",
    "    yTraj[2,ii,ss] = sol_dec['y'][ss][ii] + y0\n",
    "    yspTraj[2,ii,ss] = sol_dec['s'][ss][ii] + y0\n",
    "    uTraj[2,ii,ss] = sol_dec['u'][ss][1,ii] + u0    \n",
    "    end\n",
    "end;"
   ]
  },
  {
   "cell_type": "code",
   "execution_count": 26,
   "id": "3d9ec8ea",
   "metadata": {},
   "outputs": [],
   "source": [
    "# time series for plotting\n",
    "ts = Vector{Float64}(undef,pD) \n",
    "for i in 1:pD\n",
    "    ts[i] = 1*i\n",
    "end\n",
    "\n",
    "# Creating color array\n",
    "CList = reshape( range(colorant\"red\", stop=colorant\"blue\",length=nSCheck), 1, nSCheck);\n",
    "MList =[:cross, :circle];"
   ]
  },
  {
   "cell_type": "markdown",
   "id": "292fbc2d",
   "metadata": {},
   "source": [
    "Plot Recipe"
   ]
  },
  {
   "cell_type": "code",
   "execution_count": 27,
   "id": "c9d384cc",
   "metadata": {},
   "outputs": [],
   "source": [
    "@userplot Plot_Comp\n",
    "@recipe function f(h::Plot_Comp)\n",
    "        \n",
    "if length(h.args) < 7\n",
    "        y_lim, ylab, lineT, x, y, y_ub = h.args\n",
    "    else\n",
    "        y_lim, ylab, lineT, x, y, y_ub, y_lb = h.args\n",
    "    end\n",
    "    \n",
    "    # set up the subplots\n",
    "    # these are common to both marginal histograms\n",
    "    layout := (3,1)\n",
    "    grid := true\n",
    "    gridlinewidth --> 2\n",
    "    latex := true\n",
    "    linecolor := :black\n",
    "    \n",
    "    for ss = 1:3\n",
    "        # limits\n",
    "        ylimits := y_lim\n",
    "        \n",
    "        # labels \n",
    "        ylabel := ylab\n",
    "        if ss == 3\n",
    "            xlabel := \"time [min]\"\n",
    "        end\n",
    "        \n",
    "        # DATA PLOTTING\n",
    "        # upper bound\n",
    "        @series begin\n",
    "            seriestype := :path\n",
    "            linestyle := :dot\n",
    "            subplot := ss\n",
    "        \n",
    "            if ss == 1\n",
    "                label --> \"Limit\"\n",
    "            else\n",
    "                label --> \"\"\n",
    "            end\n",
    "            \n",
    "            x, y_ub*ones(length(x))\n",
    "        end\n",
    "\n",
    "        if length(h.args) > 6 \n",
    "            # lower bound\n",
    "            @series begin\n",
    "                seriestype := :path\n",
    "                linestyle := :dot\n",
    "                subplot := ss\n",
    "                label --> \"\"\n",
    "                \n",
    "                x, y_lb*ones(length(x))\n",
    "            end\n",
    "        end\n",
    "\n",
    "        labels = [\"Mono.\", \"Deco.\"]\n",
    "        for mm = 1:2\n",
    "            # average MC value\n",
    "            @series begin\n",
    "                if lineT == 2\n",
    "                    seriestype := :steppre\n",
    "                else\n",
    "                    seriestype := :path\n",
    "                end\n",
    "                linewidth := 3\n",
    "                subplot := ss\n",
    "\n",
    "                markercolor := :black\n",
    "                markerstrokecolor := :black\n",
    "                markersize := 3\n",
    "\n",
    "                if ss == 1\n",
    "                    label --> labels[mm]\n",
    "                else\n",
    "                    label --> \"\"\n",
    "                end\n",
    "\n",
    "                if mm == 1\n",
    "                    linestyle := :solid\n",
    "                    markershape := :circle\n",
    "                else\n",
    "                    linestyle := :dashdot\n",
    "                    markershape := :rect\n",
    "                end\n",
    "\n",
    "                x, y[mm,:,ss]\n",
    "            end\n",
    "        end\n",
    "    end # mono/dec loop\n",
    "end;"
   ]
  },
  {
   "cell_type": "code",
   "execution_count": 28,
   "id": "76f46faf",
   "metadata": {},
   "outputs": [
    {
     "data": {
      "image/svg+xml": [
       "<?xml version=\"1.0\" encoding=\"utf-8\"?>\n",
       "<svg xmlns=\"http://www.w3.org/2000/svg\" xmlns:xlink=\"http://www.w3.org/1999/xlink\" width=\"600\" height=\"400\" viewBox=\"0 0 2400 1600\">\n",
       "<defs>\n",
       "  <clipPath id=\"clip370\">\n",
       "    <rect x=\"0\" y=\"0\" width=\"2400\" height=\"1600\"/>\n",
       "  </clipPath>\n",
       "</defs>\n",
       "<path clip-path=\"url(#clip370)\" d=\"M0 1600 L2400 1600 L2400 0 L0 0  Z\" fill=\"#ffffff\" fill-rule=\"evenodd\" fill-opacity=\"1\"/>\n",
       "<defs>\n",
       "  <clipPath id=\"clip371\">\n",
       "    <rect x=\"480\" y=\"0\" width=\"1681\" height=\"1600\"/>\n",
       "  </clipPath>\n",
       "</defs>\n",
       "<defs>\n",
       "  <clipPath id=\"clip372\">\n",
       "    <rect x=\"402\" y=\"47\" width=\"1951\" height=\"1377\"/>\n",
       "  </clipPath>\n",
       "</defs>\n",
       "<path clip-path=\"url(#clip370)\" d=\"M219.542 398.692 L2352.76 398.692 L2352.76 47.2441 L219.542 47.2441  Z\" fill=\"#ffffff\" fill-rule=\"evenodd\" fill-opacity=\"1\"/>\n",
       "<defs>\n",
       "  <clipPath id=\"clip373\">\n",
       "    <rect x=\"219\" y=\"47\" width=\"2134\" height=\"352\"/>\n",
       "  </clipPath>\n",
       "</defs>\n",
       "<polyline clip-path=\"url(#clip373)\" style=\"stroke:#000000; stroke-linecap:round; stroke-linejoin:round; stroke-width:8; stroke-opacity:0.1; fill:none\" points=\"589.526,398.692 589.526,47.2441 \"/>\n",
       "<polyline clip-path=\"url(#clip373)\" style=\"stroke:#000000; stroke-linecap:round; stroke-linejoin:round; stroke-width:8; stroke-opacity:0.1; fill:none\" points=\"976.539,398.692 976.539,47.2441 \"/>\n",
       "<polyline clip-path=\"url(#clip373)\" style=\"stroke:#000000; stroke-linecap:round; stroke-linejoin:round; stroke-width:8; stroke-opacity:0.1; fill:none\" points=\"1363.55,398.692 1363.55,47.2441 \"/>\n",
       "<polyline clip-path=\"url(#clip373)\" style=\"stroke:#000000; stroke-linecap:round; stroke-linejoin:round; stroke-width:8; stroke-opacity:0.1; fill:none\" points=\"1750.56,398.692 1750.56,47.2441 \"/>\n",
       "<polyline clip-path=\"url(#clip373)\" style=\"stroke:#000000; stroke-linecap:round; stroke-linejoin:round; stroke-width:8; stroke-opacity:0.1; fill:none\" points=\"2137.58,398.692 2137.58,47.2441 \"/>\n",
       "<polyline clip-path=\"url(#clip370)\" style=\"stroke:#000000; stroke-linecap:round; stroke-linejoin:round; stroke-width:4; stroke-opacity:1; fill:none\" points=\"219.542,398.692 2352.76,398.692 \"/>\n",
       "<polyline clip-path=\"url(#clip370)\" style=\"stroke:#000000; stroke-linecap:round; stroke-linejoin:round; stroke-width:4; stroke-opacity:1; fill:none\" points=\"589.526,398.692 589.526,379.794 \"/>\n",
       "<polyline clip-path=\"url(#clip370)\" style=\"stroke:#000000; stroke-linecap:round; stroke-linejoin:round; stroke-width:4; stroke-opacity:1; fill:none\" points=\"976.539,398.692 976.539,379.794 \"/>\n",
       "<polyline clip-path=\"url(#clip370)\" style=\"stroke:#000000; stroke-linecap:round; stroke-linejoin:round; stroke-width:4; stroke-opacity:1; fill:none\" points=\"1363.55,398.692 1363.55,379.794 \"/>\n",
       "<polyline clip-path=\"url(#clip370)\" style=\"stroke:#000000; stroke-linecap:round; stroke-linejoin:round; stroke-width:4; stroke-opacity:1; fill:none\" points=\"1750.56,398.692 1750.56,379.794 \"/>\n",
       "<polyline clip-path=\"url(#clip370)\" style=\"stroke:#000000; stroke-linecap:round; stroke-linejoin:round; stroke-width:4; stroke-opacity:1; fill:none\" points=\"2137.58,398.692 2137.58,379.794 \"/>\n",
       "<path clip-path=\"url(#clip370)\" d=\"M579.804 426.532 L598.16 426.532 L598.16 430.467 L584.086 430.467 L584.086 438.939 Q585.105 438.592 586.124 438.43 Q587.142 438.245 588.161 438.245 Q593.948 438.245 597.327 441.416 Q600.707 444.587 600.707 450.004 Q600.707 455.583 597.235 458.684 Q593.762 461.763 587.443 461.763 Q585.267 461.763 582.999 461.393 Q580.753 461.022 578.346 460.282 L578.346 455.583 Q580.429 456.717 582.651 457.272 Q584.874 457.828 587.35 457.828 Q591.355 457.828 593.693 455.722 Q596.031 453.615 596.031 450.004 Q596.031 446.393 593.693 444.286 Q591.355 442.18 587.35 442.18 Q585.475 442.18 583.6 442.597 Q581.749 443.013 579.804 443.893 L579.804 426.532 Z\" fill=\"#000000\" fill-rule=\"evenodd\" fill-opacity=\"1\" /><path clip-path=\"url(#clip370)\" d=\"M951.227 457.157 L958.865 457.157 L958.865 430.791 L950.555 432.458 L950.555 428.199 L958.819 426.532 L963.495 426.532 L963.495 457.157 L971.134 457.157 L971.134 461.092 L951.227 461.092 L951.227 457.157 Z\" fill=\"#000000\" fill-rule=\"evenodd\" fill-opacity=\"1\" /><path clip-path=\"url(#clip370)\" d=\"M990.578 429.611 Q986.967 429.611 985.138 433.175 Q983.333 436.717 983.333 443.847 Q983.333 450.953 985.138 454.518 Q986.967 458.059 990.578 458.059 Q994.212 458.059 996.018 454.518 Q997.847 450.953 997.847 443.847 Q997.847 436.717 996.018 433.175 Q994.212 429.611 990.578 429.611 M990.578 425.907 Q996.388 425.907 999.444 430.513 Q1002.52 435.097 1002.52 443.847 Q1002.52 452.573 999.444 457.18 Q996.388 461.763 990.578 461.763 Q984.768 461.763 981.689 457.18 Q978.634 452.573 978.634 443.847 Q978.634 435.097 981.689 430.513 Q984.768 425.907 990.578 425.907 Z\" fill=\"#000000\" fill-rule=\"evenodd\" fill-opacity=\"1\" /><path clip-path=\"url(#clip370)\" d=\"M1338.74 457.157 L1346.38 457.157 L1346.38 430.791 L1338.07 432.458 L1338.07 428.199 L1346.33 426.532 L1351.01 426.532 L1351.01 457.157 L1358.64 457.157 L1358.64 461.092 L1338.74 461.092 L1338.74 457.157 Z\" fill=\"#000000\" fill-rule=\"evenodd\" fill-opacity=\"1\" /><path clip-path=\"url(#clip370)\" d=\"M1368.13 426.532 L1386.49 426.532 L1386.49 430.467 L1372.42 430.467 L1372.42 438.939 Q1373.44 438.592 1374.45 438.43 Q1375.47 438.245 1376.49 438.245 Q1382.28 438.245 1385.66 441.416 Q1389.04 444.587 1389.04 450.004 Q1389.04 455.583 1385.57 458.684 Q1382.09 461.763 1375.77 461.763 Q1373.6 461.763 1371.33 461.393 Q1369.08 461.022 1366.68 460.282 L1366.68 455.583 Q1368.76 456.717 1370.98 457.272 Q1373.2 457.828 1375.68 457.828 Q1379.69 457.828 1382.02 455.722 Q1384.36 453.615 1384.36 450.004 Q1384.36 446.393 1382.02 444.286 Q1379.69 442.18 1375.68 442.18 Q1373.81 442.18 1371.93 442.597 Q1370.08 443.013 1368.13 443.893 L1368.13 426.532 Z\" fill=\"#000000\" fill-rule=\"evenodd\" fill-opacity=\"1\" /><path clip-path=\"url(#clip370)\" d=\"M1729.34 457.157 L1745.66 457.157 L1745.66 461.092 L1723.71 461.092 L1723.71 457.157 Q1726.37 454.402 1730.96 449.772 Q1735.56 445.12 1736.74 443.777 Q1738.99 441.254 1739.87 439.518 Q1740.77 437.759 1740.77 436.069 Q1740.77 433.314 1738.83 431.578 Q1736.91 429.842 1733.81 429.842 Q1731.61 429.842 1729.15 430.606 Q1726.72 431.37 1723.94 432.921 L1723.94 428.199 Q1726.77 427.064 1729.22 426.486 Q1731.68 425.907 1733.71 425.907 Q1739.08 425.907 1742.28 428.592 Q1745.47 431.277 1745.47 435.768 Q1745.47 437.898 1744.66 439.819 Q1743.87 441.717 1741.77 444.31 Q1741.19 444.981 1738.09 448.198 Q1734.99 451.393 1729.34 457.157 Z\" fill=\"#000000\" fill-rule=\"evenodd\" fill-opacity=\"1\" /><path clip-path=\"url(#clip370)\" d=\"M1765.47 429.611 Q1761.86 429.611 1760.03 433.175 Q1758.23 436.717 1758.23 443.847 Q1758.23 450.953 1760.03 454.518 Q1761.86 458.059 1765.47 458.059 Q1769.11 458.059 1770.91 454.518 Q1772.74 450.953 1772.74 443.847 Q1772.74 436.717 1770.91 433.175 Q1769.11 429.611 1765.47 429.611 M1765.47 425.907 Q1771.28 425.907 1774.34 430.513 Q1777.42 435.097 1777.42 443.847 Q1777.42 452.573 1774.34 457.18 Q1771.28 461.763 1765.47 461.763 Q1759.66 461.763 1756.58 457.18 Q1753.53 452.573 1753.53 443.847 Q1753.53 435.097 1756.58 430.513 Q1759.66 425.907 1765.47 425.907 Z\" fill=\"#000000\" fill-rule=\"evenodd\" fill-opacity=\"1\" /><path clip-path=\"url(#clip370)\" d=\"M2116.85 457.157 L2133.17 457.157 L2133.17 461.092 L2111.22 461.092 L2111.22 457.157 Q2113.88 454.402 2118.47 449.772 Q2123.07 445.12 2124.26 443.777 Q2126.5 441.254 2127.38 439.518 Q2128.28 437.759 2128.28 436.069 Q2128.28 433.314 2126.34 431.578 Q2124.42 429.842 2121.32 429.842 Q2119.12 429.842 2116.66 430.606 Q2114.23 431.37 2111.45 432.921 L2111.45 428.199 Q2114.28 427.064 2116.73 426.486 Q2119.19 425.907 2121.22 425.907 Q2126.59 425.907 2129.79 428.592 Q2132.98 431.277 2132.98 435.768 Q2132.98 437.898 2132.17 439.819 Q2131.38 441.717 2129.28 444.31 Q2128.7 444.981 2125.6 448.198 Q2122.5 451.393 2116.85 457.157 Z\" fill=\"#000000\" fill-rule=\"evenodd\" fill-opacity=\"1\" /><path clip-path=\"url(#clip370)\" d=\"M2143.03 426.532 L2161.38 426.532 L2161.38 430.467 L2147.31 430.467 L2147.31 438.939 Q2148.33 438.592 2149.35 438.43 Q2150.37 438.245 2151.38 438.245 Q2157.17 438.245 2160.55 441.416 Q2163.93 444.587 2163.93 450.004 Q2163.93 455.583 2160.46 458.684 Q2156.99 461.763 2150.67 461.763 Q2148.49 461.763 2146.22 461.393 Q2143.98 461.022 2141.57 460.282 L2141.57 455.583 Q2143.65 456.717 2145.88 457.272 Q2148.1 457.828 2150.57 457.828 Q2154.58 457.828 2156.92 455.722 Q2159.25 453.615 2159.25 450.004 Q2159.25 446.393 2156.92 444.286 Q2154.58 442.18 2150.57 442.18 Q2148.7 442.18 2146.82 442.597 Q2144.97 443.013 2143.03 443.893 L2143.03 426.532 Z\" fill=\"#000000\" fill-rule=\"evenodd\" fill-opacity=\"1\" /><polyline clip-path=\"url(#clip373)\" style=\"stroke:#000000; stroke-linecap:round; stroke-linejoin:round; stroke-width:8; stroke-opacity:0.1; fill:none\" points=\"219.542,387.355 2352.76,387.355 \"/>\n",
       "<polyline clip-path=\"url(#clip373)\" style=\"stroke:#000000; stroke-linecap:round; stroke-linejoin:round; stroke-width:8; stroke-opacity:0.1; fill:none\" points=\"219.542,319.333 2352.76,319.333 \"/>\n",
       "<polyline clip-path=\"url(#clip373)\" style=\"stroke:#000000; stroke-linecap:round; stroke-linejoin:round; stroke-width:8; stroke-opacity:0.1; fill:none\" points=\"219.542,251.311 2352.76,251.311 \"/>\n",
       "<polyline clip-path=\"url(#clip373)\" style=\"stroke:#000000; stroke-linecap:round; stroke-linejoin:round; stroke-width:8; stroke-opacity:0.1; fill:none\" points=\"219.542,183.288 2352.76,183.288 \"/>\n",
       "<polyline clip-path=\"url(#clip373)\" style=\"stroke:#000000; stroke-linecap:round; stroke-linejoin:round; stroke-width:8; stroke-opacity:0.1; fill:none\" points=\"219.542,115.266 2352.76,115.266 \"/>\n",
       "<polyline clip-path=\"url(#clip370)\" style=\"stroke:#000000; stroke-linecap:round; stroke-linejoin:round; stroke-width:4; stroke-opacity:1; fill:none\" points=\"219.542,398.692 219.542,47.2441 \"/>\n",
       "<polyline clip-path=\"url(#clip370)\" style=\"stroke:#000000; stroke-linecap:round; stroke-linejoin:round; stroke-width:4; stroke-opacity:1; fill:none\" points=\"219.542,387.355 238.44,387.355 \"/>\n",
       "<polyline clip-path=\"url(#clip370)\" style=\"stroke:#000000; stroke-linecap:round; stroke-linejoin:round; stroke-width:4; stroke-opacity:1; fill:none\" points=\"219.542,319.333 238.44,319.333 \"/>\n",
       "<polyline clip-path=\"url(#clip370)\" style=\"stroke:#000000; stroke-linecap:round; stroke-linejoin:round; stroke-width:4; stroke-opacity:1; fill:none\" points=\"219.542,251.311 238.44,251.311 \"/>\n",
       "<polyline clip-path=\"url(#clip370)\" style=\"stroke:#000000; stroke-linecap:round; stroke-linejoin:round; stroke-width:4; stroke-opacity:1; fill:none\" points=\"219.542,183.288 238.44,183.288 \"/>\n",
       "<polyline clip-path=\"url(#clip370)\" style=\"stroke:#000000; stroke-linecap:round; stroke-linejoin:round; stroke-width:4; stroke-opacity:1; fill:none\" points=\"219.542,115.266 238.44,115.266 \"/>\n",
       "<path clip-path=\"url(#clip370)\" d=\"M126.367 373.154 Q122.755 373.154 120.927 376.718 Q119.121 380.26 119.121 387.39 Q119.121 394.496 120.927 398.061 Q122.755 401.602 126.367 401.602 Q130.001 401.602 131.806 398.061 Q133.635 394.496 133.635 387.39 Q133.635 380.26 131.806 376.718 Q130.001 373.154 126.367 373.154 M126.367 369.45 Q132.177 369.45 135.232 374.056 Q138.311 378.64 138.311 387.39 Q138.311 396.116 135.232 400.723 Q132.177 405.306 126.367 405.306 Q120.556 405.306 117.478 400.723 Q114.422 396.116 114.422 387.39 Q114.422 378.64 117.478 374.056 Q120.556 369.45 126.367 369.45 Z\" fill=\"#000000\" fill-rule=\"evenodd\" fill-opacity=\"1\" /><path clip-path=\"url(#clip370)\" d=\"M146.529 398.755 L151.413 398.755 L151.413 404.635 L146.529 404.635 L146.529 398.755 Z\" fill=\"#000000\" fill-rule=\"evenodd\" fill-opacity=\"1\" /><path clip-path=\"url(#clip370)\" d=\"M171.598 373.154 Q167.987 373.154 166.158 376.718 Q164.352 380.26 164.352 387.39 Q164.352 394.496 166.158 398.061 Q167.987 401.602 171.598 401.602 Q175.232 401.602 177.038 398.061 Q178.866 394.496 178.866 387.39 Q178.866 380.26 177.038 376.718 Q175.232 373.154 171.598 373.154 M171.598 369.45 Q177.408 369.45 180.464 374.056 Q183.542 378.64 183.542 387.39 Q183.542 396.116 180.464 400.723 Q177.408 405.306 171.598 405.306 Q165.788 405.306 162.709 400.723 Q159.653 396.116 159.653 387.39 Q159.653 378.64 162.709 374.056 Q165.788 369.45 171.598 369.45 Z\" fill=\"#000000\" fill-rule=\"evenodd\" fill-opacity=\"1\" /><path clip-path=\"url(#clip370)\" d=\"M127.015 305.131 Q123.404 305.131 121.575 308.696 Q119.769 312.238 119.769 319.367 Q119.769 326.474 121.575 330.039 Q123.404 333.58 127.015 333.58 Q130.649 333.58 132.455 330.039 Q134.283 326.474 134.283 319.367 Q134.283 312.238 132.455 308.696 Q130.649 305.131 127.015 305.131 M127.015 301.428 Q132.825 301.428 135.88 306.034 Q138.959 310.617 138.959 319.367 Q138.959 328.094 135.88 332.701 Q132.825 337.284 127.015 337.284 Q121.205 337.284 118.126 332.701 Q115.07 328.094 115.07 319.367 Q115.07 310.617 118.126 306.034 Q121.205 301.428 127.015 301.428 Z\" fill=\"#000000\" fill-rule=\"evenodd\" fill-opacity=\"1\" /><path clip-path=\"url(#clip370)\" d=\"M147.177 330.733 L152.061 330.733 L152.061 336.613 L147.177 336.613 L147.177 330.733 Z\" fill=\"#000000\" fill-rule=\"evenodd\" fill-opacity=\"1\" /><path clip-path=\"url(#clip370)\" d=\"M176.413 317.979 Q179.769 318.696 181.644 320.965 Q183.542 323.233 183.542 326.566 Q183.542 331.682 180.024 334.483 Q176.505 337.284 170.024 337.284 Q167.848 337.284 165.533 336.844 Q163.241 336.428 160.788 335.571 L160.788 331.057 Q162.732 332.191 165.047 332.77 Q167.362 333.349 169.885 333.349 Q174.283 333.349 176.575 331.613 Q178.889 329.877 178.889 326.566 Q178.889 323.511 176.737 321.798 Q174.607 320.062 170.788 320.062 L166.76 320.062 L166.76 316.219 L170.973 316.219 Q174.422 316.219 176.251 314.854 Q178.079 313.465 178.079 310.872 Q178.079 308.21 176.181 306.798 Q174.306 305.363 170.788 305.363 Q168.866 305.363 166.667 305.78 Q164.468 306.196 161.829 307.076 L161.829 302.909 Q164.491 302.168 166.806 301.798 Q169.144 301.428 171.204 301.428 Q176.528 301.428 179.63 303.858 Q182.732 306.266 182.732 310.386 Q182.732 313.256 181.089 315.247 Q179.445 317.215 176.413 317.979 Z\" fill=\"#000000\" fill-rule=\"evenodd\" fill-opacity=\"1\" /><path clip-path=\"url(#clip370)\" d=\"M126.205 237.109 Q122.593 237.109 120.765 240.674 Q118.959 244.216 118.959 251.345 Q118.959 258.452 120.765 262.017 Q122.593 265.558 126.205 265.558 Q129.839 265.558 131.644 262.017 Q133.473 258.452 133.473 251.345 Q133.473 244.216 131.644 240.674 Q129.839 237.109 126.205 237.109 M126.205 233.406 Q132.015 233.406 135.07 238.012 Q138.149 242.595 138.149 251.345 Q138.149 260.072 135.07 264.679 Q132.015 269.262 126.205 269.262 Q120.394 269.262 117.316 264.679 Q114.26 260.072 114.26 251.345 Q114.26 242.595 117.316 238.012 Q120.394 233.406 126.205 233.406 Z\" fill=\"#000000\" fill-rule=\"evenodd\" fill-opacity=\"1\" /><path clip-path=\"url(#clip370)\" d=\"M146.366 262.711 L151.251 262.711 L151.251 268.591 L146.366 268.591 L146.366 262.711 Z\" fill=\"#000000\" fill-rule=\"evenodd\" fill-opacity=\"1\" /><path clip-path=\"url(#clip370)\" d=\"M172.014 249.447 Q168.866 249.447 167.015 251.6 Q165.186 253.753 165.186 257.503 Q165.186 261.229 167.015 263.405 Q168.866 265.558 172.014 265.558 Q175.163 265.558 176.991 263.405 Q178.843 261.229 178.843 257.503 Q178.843 253.753 176.991 251.6 Q175.163 249.447 172.014 249.447 M181.297 234.794 L181.297 239.054 Q179.538 238.22 177.732 237.781 Q175.95 237.341 174.19 237.341 Q169.561 237.341 167.107 240.466 Q164.677 243.591 164.329 249.91 Q165.695 247.896 167.755 246.831 Q169.815 245.743 172.292 245.743 Q177.501 245.743 180.51 248.915 Q183.542 252.063 183.542 257.503 Q183.542 262.827 180.394 266.044 Q177.246 269.262 172.014 269.262 Q166.019 269.262 162.848 264.679 Q159.677 260.072 159.677 251.345 Q159.677 243.151 163.565 238.29 Q167.454 233.406 174.005 233.406 Q175.764 233.406 177.547 233.753 Q179.352 234.1 181.297 234.794 Z\" fill=\"#000000\" fill-rule=\"evenodd\" fill-opacity=\"1\" /><path clip-path=\"url(#clip370)\" d=\"M126.552 169.087 Q122.941 169.087 121.112 172.652 Q119.306 176.194 119.306 183.323 Q119.306 190.43 121.112 193.994 Q122.941 197.536 126.552 197.536 Q130.186 197.536 131.992 193.994 Q133.82 190.43 133.82 183.323 Q133.82 176.194 131.992 172.652 Q130.186 169.087 126.552 169.087 M126.552 165.383 Q132.362 165.383 135.417 169.99 Q138.496 174.573 138.496 183.323 Q138.496 192.05 135.417 196.656 Q132.362 201.24 126.552 201.24 Q120.742 201.24 117.663 196.656 Q114.607 192.05 114.607 183.323 Q114.607 174.573 117.663 169.99 Q120.742 165.383 126.552 165.383 Z\" fill=\"#000000\" fill-rule=\"evenodd\" fill-opacity=\"1\" /><path clip-path=\"url(#clip370)\" d=\"M146.714 194.689 L151.598 194.689 L151.598 200.568 L146.714 200.568 L146.714 194.689 Z\" fill=\"#000000\" fill-rule=\"evenodd\" fill-opacity=\"1\" /><path clip-path=\"url(#clip370)\" d=\"M161.922 199.851 L161.922 195.592 Q163.681 196.425 165.487 196.865 Q167.292 197.305 169.028 197.305 Q173.658 197.305 176.089 194.203 Q178.542 191.078 178.889 184.735 Q177.547 186.726 175.487 187.791 Q173.427 188.855 170.927 188.855 Q165.741 188.855 162.709 185.731 Q159.7 182.582 159.7 177.143 Q159.7 171.819 162.848 168.601 Q165.996 165.383 171.227 165.383 Q177.223 165.383 180.371 169.99 Q183.542 174.573 183.542 183.323 Q183.542 191.494 179.653 196.379 Q175.788 201.24 169.237 201.24 Q167.477 201.24 165.672 200.892 Q163.866 200.545 161.922 199.851 M171.227 185.198 Q174.376 185.198 176.204 183.045 Q178.056 180.893 178.056 177.143 Q178.056 173.416 176.204 171.263 Q174.376 169.087 171.227 169.087 Q168.079 169.087 166.227 171.263 Q164.399 173.416 164.399 177.143 Q164.399 180.893 166.227 183.045 Q168.079 185.198 171.227 185.198 Z\" fill=\"#000000\" fill-rule=\"evenodd\" fill-opacity=\"1\" /><path clip-path=\"url(#clip370)\" d=\"M118.774 128.611 L126.413 128.611 L126.413 102.245 L118.103 103.912 L118.103 99.6529 L126.367 97.9862 L131.042 97.9862 L131.042 128.611 L138.681 128.611 L138.681 132.546 L118.774 132.546 L118.774 128.611 Z\" fill=\"#000000\" fill-rule=\"evenodd\" fill-opacity=\"1\" /><path clip-path=\"url(#clip370)\" d=\"M148.126 126.667 L153.01 126.667 L153.01 132.546 L148.126 132.546 L148.126 126.667 Z\" fill=\"#000000\" fill-rule=\"evenodd\" fill-opacity=\"1\" /><path clip-path=\"url(#clip370)\" d=\"M167.223 128.611 L183.542 128.611 L183.542 132.546 L161.598 132.546 L161.598 128.611 Q164.26 125.856 168.843 121.227 Q173.45 116.574 174.63 115.232 Q176.876 112.708 177.755 110.972 Q178.658 109.213 178.658 107.523 Q178.658 104.769 176.714 103.033 Q174.792 101.296 171.69 101.296 Q169.491 101.296 167.038 102.06 Q164.607 102.824 161.829 104.375 L161.829 99.6529 Q164.653 98.5186 167.107 97.9399 Q169.561 97.3612 171.598 97.3612 Q176.968 97.3612 180.163 100.046 Q183.357 102.732 183.357 107.222 Q183.357 109.352 182.547 111.273 Q181.76 113.171 179.653 115.764 Q179.075 116.435 175.973 119.653 Q172.871 122.847 167.223 128.611 Z\" fill=\"#000000\" fill-rule=\"evenodd\" fill-opacity=\"1\" /><path clip-path=\"url(#clip370)\" d=\"M39.4498 278.235 Q39.9007 278.235 40.9635 278.524 L66.1485 284.837 Q71.7523 286.222 75.6814 290.73 Q79.6106 295.207 79.6106 300.296 Q79.6106 303.355 77.9681 305.32 Q76.3578 307.284 73.8779 307.284 Q71.6879 307.284 70.6251 306.125 Q69.5945 304.965 69.5945 303.581 Q69.5945 303.13 69.7234 302.647 Q69.8522 302.163 70.3997 301.648 Q70.9472 301.133 71.8812 301.133 Q73.3948 301.133 74.5864 302.453 Q75.1339 303.097 75.2628 303.709 Q75.3916 304.289 75.3916 305.287 Q76.2934 304.901 76.9053 304.192 Q77.5172 303.484 77.7426 302.679 Q78.0003 301.874 78.0647 301.358 Q78.1613 300.811 78.1613 300.296 Q78.1613 296.173 74.0067 293.017 Q72.7507 292.083 71.4947 291.407 Q70.2709 290.698 68.7572 290.183 Q67.2757 289.668 66.4706 289.442 Q65.6654 289.185 63.8297 288.734 Q66.8248 291.729 66.8248 295.4 Q66.8248 296.946 66.4062 298.331 Q65.9875 299.684 65.1179 300.875 Q64.2162 302.067 62.6381 302.775 Q61.06 303.452 58.9666 303.452 Q56.7444 303.452 53.717 302.582 Q50.6897 301.713 45.1181 299.619 Q41.9941 298.492 40.4804 298.492 Q39.7397 298.492 39.2888 298.653 Q38.8057 298.814 38.6447 299.136 Q38.4515 299.458 38.4193 299.651 Q38.3871 299.812 38.3871 300.134 Q38.3871 302.035 40.3194 303.806 Q42.2518 305.577 46.5673 306.801 Q47.3725 307.059 47.5657 307.22 Q47.759 307.381 47.759 307.864 Q47.7268 308.669 47.0826 308.669 Q46.825 308.669 45.8266 308.379 Q44.796 308.089 43.2823 307.413 Q41.7365 306.704 40.3516 305.738 Q38.9346 304.772 37.9362 303.258 Q36.9378 301.713 36.9378 299.941 Q36.9378 297.526 38.5159 296.044 Q40.0618 294.531 42.3484 294.531 Q43.2823 294.531 44.1197 294.788 Q44.9248 295.014 47.0826 295.851 Q55.7782 299.233 60.0294 299.233 Q61.06 299.233 61.9295 299.072 Q62.7669 298.878 63.6042 298.46 Q64.4094 298.041 64.8925 297.204 Q65.3434 296.334 65.3434 295.143 Q65.3434 293.629 64.6348 292.212 Q63.8941 290.763 62.8957 289.861 Q61.8973 288.927 61.06 288.379 Q60.1904 287.8 59.7395 287.671 L47.8878 284.708 L42.606 283.387 Q39.7397 282.776 39.0312 282.486 Q38.3548 282.099 38.0006 281.423 Q37.6463 280.747 37.6463 280.167 Q37.6463 279.362 38.1294 278.814 Q38.6125 278.235 39.4498 278.235 Z\" fill=\"#000000\" fill-rule=\"evenodd\" fill-opacity=\"1\" /><path clip-path=\"url(#clip370)\" d=\"M82.5735 224.382 L16.6159 224.382 L16.6159 214.43 L18.1296 214.43 L18.1296 219.969 L81.0598 219.969 L81.0598 214.43 L82.5735 214.43 L82.5735 224.382 Z\" fill=\"#000000\" fill-rule=\"evenodd\" fill-opacity=\"1\" /><path clip-path=\"url(#clip370)\" d=\"M48.6607 162.689 Q49.0472 162.303 49.5947 162.303 Q50.1422 162.303 50.5287 162.689 Q50.9151 163.076 50.9151 163.623 L50.9151 204.911 Q50.9151 205.459 50.5287 205.845 Q50.1422 206.231 49.5947 206.231 Q49.0472 206.231 48.6607 205.845 Q48.2743 205.459 48.2743 204.911 L48.2743 163.623 Q48.2743 163.076 48.6607 162.689 Z\" fill=\"#000000\" fill-rule=\"evenodd\" fill-opacity=\"1\" /><path clip-path=\"url(#clip370)\" d=\"M81.0598 155.417 L81.0598 149.878 L18.1296 149.878 L18.1296 155.417 L16.6159 155.417 L16.6159 145.466 L82.5735 145.466 L82.5735 155.417 L81.0598 155.417 Z\" fill=\"#000000\" fill-rule=\"evenodd\" fill-opacity=\"1\" /><polyline clip-path=\"url(#clip373)\" style=\"stroke:#000000; stroke-linecap:round; stroke-linejoin:round; stroke-width:4; stroke-opacity:1; fill:none\" stroke-dasharray=\"2, 4\" points=\"279.916,149.277 357.319,149.277 434.721,149.277 512.124,149.277 589.526,149.277 666.929,149.277 744.331,149.277 821.734,149.277 899.136,149.277 976.539,149.277 1053.94,149.277 1131.34,149.277 1208.75,149.277 1286.15,149.277 1363.55,149.277 1440.95,149.277 1518.36,149.277 1595.76,149.277 1673.16,149.277 1750.56,149.277 1827.97,149.277 1905.37,149.277 1982.77,149.277 2060.17,149.277 2137.58,149.277 2214.98,149.277 2292.38,149.277 \"/>\n",
       "<polyline clip-path=\"url(#clip373)\" style=\"stroke:#000000; stroke-linecap:round; stroke-linejoin:round; stroke-width:12; stroke-opacity:1; fill:none\" points=\"279.916,245.371 357.319,241.164 434.721,227.86 512.124,209.854 589.526,191.658 666.929,176.103 744.331,164.293 821.734,156.015 899.136,150.668 976.539,148.109 1053.94,147.672 1131.34,148.121 1208.75,148.315 1286.15,148.164 1363.55,148.13 1440.95,148.148 1518.36,148.144 1595.76,148.144 1673.16,148.143 1750.56,148.144 1827.97,148.144 1905.37,148.144 1982.77,148.144 2060.17,148.144 2137.58,148.144 2214.98,148.144 2292.38,148.144 \"/>\n",
       "<circle clip-path=\"url(#clip373)\" cx=\"279.916\" cy=\"245.371\" r=\"10.8\" fill=\"#000000\" fill-rule=\"evenodd\" fill-opacity=\"1\" stroke=\"none\"/>\n",
       "<circle clip-path=\"url(#clip373)\" cx=\"357.319\" cy=\"241.164\" r=\"10.8\" fill=\"#000000\" fill-rule=\"evenodd\" fill-opacity=\"1\" stroke=\"none\"/>\n",
       "<circle clip-path=\"url(#clip373)\" cx=\"434.721\" cy=\"227.86\" r=\"10.8\" fill=\"#000000\" fill-rule=\"evenodd\" fill-opacity=\"1\" stroke=\"none\"/>\n",
       "<circle clip-path=\"url(#clip373)\" cx=\"512.124\" cy=\"209.854\" r=\"10.8\" fill=\"#000000\" fill-rule=\"evenodd\" fill-opacity=\"1\" stroke=\"none\"/>\n",
       "<circle clip-path=\"url(#clip373)\" cx=\"589.526\" cy=\"191.658\" r=\"10.8\" fill=\"#000000\" fill-rule=\"evenodd\" fill-opacity=\"1\" stroke=\"none\"/>\n",
       "<circle clip-path=\"url(#clip373)\" cx=\"666.929\" cy=\"176.103\" r=\"10.8\" fill=\"#000000\" fill-rule=\"evenodd\" fill-opacity=\"1\" stroke=\"none\"/>\n",
       "<circle clip-path=\"url(#clip373)\" cx=\"744.331\" cy=\"164.293\" r=\"10.8\" fill=\"#000000\" fill-rule=\"evenodd\" fill-opacity=\"1\" stroke=\"none\"/>\n",
       "<circle clip-path=\"url(#clip373)\" cx=\"821.734\" cy=\"156.015\" r=\"10.8\" fill=\"#000000\" fill-rule=\"evenodd\" fill-opacity=\"1\" stroke=\"none\"/>\n",
       "<circle clip-path=\"url(#clip373)\" cx=\"899.136\" cy=\"150.668\" r=\"10.8\" fill=\"#000000\" fill-rule=\"evenodd\" fill-opacity=\"1\" stroke=\"none\"/>\n",
       "<circle clip-path=\"url(#clip373)\" cx=\"976.539\" cy=\"148.109\" r=\"10.8\" fill=\"#000000\" fill-rule=\"evenodd\" fill-opacity=\"1\" stroke=\"none\"/>\n",
       "<circle clip-path=\"url(#clip373)\" cx=\"1053.94\" cy=\"147.672\" r=\"10.8\" fill=\"#000000\" fill-rule=\"evenodd\" fill-opacity=\"1\" stroke=\"none\"/>\n",
       "<circle clip-path=\"url(#clip373)\" cx=\"1131.34\" cy=\"148.121\" r=\"10.8\" fill=\"#000000\" fill-rule=\"evenodd\" fill-opacity=\"1\" stroke=\"none\"/>\n",
       "<circle clip-path=\"url(#clip373)\" cx=\"1208.75\" cy=\"148.315\" r=\"10.8\" fill=\"#000000\" fill-rule=\"evenodd\" fill-opacity=\"1\" stroke=\"none\"/>\n",
       "<circle clip-path=\"url(#clip373)\" cx=\"1286.15\" cy=\"148.164\" r=\"10.8\" fill=\"#000000\" fill-rule=\"evenodd\" fill-opacity=\"1\" stroke=\"none\"/>\n",
       "<circle clip-path=\"url(#clip373)\" cx=\"1363.55\" cy=\"148.13\" r=\"10.8\" fill=\"#000000\" fill-rule=\"evenodd\" fill-opacity=\"1\" stroke=\"none\"/>\n",
       "<circle clip-path=\"url(#clip373)\" cx=\"1440.95\" cy=\"148.148\" r=\"10.8\" fill=\"#000000\" fill-rule=\"evenodd\" fill-opacity=\"1\" stroke=\"none\"/>\n",
       "<circle clip-path=\"url(#clip373)\" cx=\"1518.36\" cy=\"148.144\" r=\"10.8\" fill=\"#000000\" fill-rule=\"evenodd\" fill-opacity=\"1\" stroke=\"none\"/>\n",
       "<circle clip-path=\"url(#clip373)\" cx=\"1595.76\" cy=\"148.144\" r=\"10.8\" fill=\"#000000\" fill-rule=\"evenodd\" fill-opacity=\"1\" stroke=\"none\"/>\n",
       "<circle clip-path=\"url(#clip373)\" cx=\"1673.16\" cy=\"148.143\" r=\"10.8\" fill=\"#000000\" fill-rule=\"evenodd\" fill-opacity=\"1\" stroke=\"none\"/>\n",
       "<circle clip-path=\"url(#clip373)\" cx=\"1750.56\" cy=\"148.144\" r=\"10.8\" fill=\"#000000\" fill-rule=\"evenodd\" fill-opacity=\"1\" stroke=\"none\"/>\n",
       "<circle clip-path=\"url(#clip373)\" cx=\"1827.97\" cy=\"148.144\" r=\"10.8\" fill=\"#000000\" fill-rule=\"evenodd\" fill-opacity=\"1\" stroke=\"none\"/>\n",
       "<circle clip-path=\"url(#clip373)\" cx=\"1905.37\" cy=\"148.144\" r=\"10.8\" fill=\"#000000\" fill-rule=\"evenodd\" fill-opacity=\"1\" stroke=\"none\"/>\n",
       "<circle clip-path=\"url(#clip373)\" cx=\"1982.77\" cy=\"148.144\" r=\"10.8\" fill=\"#000000\" fill-rule=\"evenodd\" fill-opacity=\"1\" stroke=\"none\"/>\n",
       "<circle clip-path=\"url(#clip373)\" cx=\"2060.17\" cy=\"148.144\" r=\"10.8\" fill=\"#000000\" fill-rule=\"evenodd\" fill-opacity=\"1\" stroke=\"none\"/>\n",
       "<circle clip-path=\"url(#clip373)\" cx=\"2137.58\" cy=\"148.144\" r=\"10.8\" fill=\"#000000\" fill-rule=\"evenodd\" fill-opacity=\"1\" stroke=\"none\"/>\n",
       "<circle clip-path=\"url(#clip373)\" cx=\"2214.98\" cy=\"148.144\" r=\"10.8\" fill=\"#000000\" fill-rule=\"evenodd\" fill-opacity=\"1\" stroke=\"none\"/>\n",
       "<circle clip-path=\"url(#clip373)\" cx=\"2292.38\" cy=\"148.144\" r=\"10.8\" fill=\"#000000\" fill-rule=\"evenodd\" fill-opacity=\"1\" stroke=\"none\"/>\n",
       "<polyline clip-path=\"url(#clip373)\" style=\"stroke:#000000; stroke-linecap:round; stroke-linejoin:round; stroke-width:12; stroke-opacity:1; fill:none\" stroke-dasharray=\"48, 24, 6, 24\" points=\"279.916,245.371 357.319,241.164 434.721,227.86 512.124,209.854 589.526,191.658 666.929,176.103 744.331,164.293 821.734,156.015 899.136,150.668 976.539,148.109 1053.94,147.672 1131.34,148.122 1208.75,148.316 1286.15,148.163 1363.55,148.13 1440.95,148.148 1518.36,148.143 1595.76,148.144 1673.16,148.143 1750.56,148.144 1827.97,148.144 1905.37,148.144 1982.77,148.144 2060.17,148.144 2137.58,148.144 2214.98,148.144 2292.38,148.144 \"/>\n",
       "<path clip-path=\"url(#clip373)\" d=\"M267.916 233.371 L267.916 257.371 L291.916 257.371 L291.916 233.371 L267.916 233.371 Z\" fill=\"#000000\" fill-rule=\"evenodd\" fill-opacity=\"1\" stroke=\"none\"/>\n",
       "<path clip-path=\"url(#clip373)\" d=\"M345.319 229.164 L345.319 253.164 L369.319 253.164 L369.319 229.164 L345.319 229.164 Z\" fill=\"#000000\" fill-rule=\"evenodd\" fill-opacity=\"1\" stroke=\"none\"/>\n",
       "<path clip-path=\"url(#clip373)\" d=\"M422.721 215.86 L422.721 239.86 L446.721 239.86 L446.721 215.86 L422.721 215.86 Z\" fill=\"#000000\" fill-rule=\"evenodd\" fill-opacity=\"1\" stroke=\"none\"/>\n",
       "<path clip-path=\"url(#clip373)\" d=\"M500.124 197.854 L500.124 221.854 L524.124 221.854 L524.124 197.854 L500.124 197.854 Z\" fill=\"#000000\" fill-rule=\"evenodd\" fill-opacity=\"1\" stroke=\"none\"/>\n",
       "<path clip-path=\"url(#clip373)\" d=\"M577.526 179.658 L577.526 203.658 L601.526 203.658 L601.526 179.658 L577.526 179.658 Z\" fill=\"#000000\" fill-rule=\"evenodd\" fill-opacity=\"1\" stroke=\"none\"/>\n",
       "<path clip-path=\"url(#clip373)\" d=\"M654.929 164.103 L654.929 188.103 L678.929 188.103 L678.929 164.103 L654.929 164.103 Z\" fill=\"#000000\" fill-rule=\"evenodd\" fill-opacity=\"1\" stroke=\"none\"/>\n",
       "<path clip-path=\"url(#clip373)\" d=\"M732.331 152.293 L732.331 176.293 L756.331 176.293 L756.331 152.293 L732.331 152.293 Z\" fill=\"#000000\" fill-rule=\"evenodd\" fill-opacity=\"1\" stroke=\"none\"/>\n",
       "<path clip-path=\"url(#clip373)\" d=\"M809.734 144.015 L809.734 168.015 L833.734 168.015 L833.734 144.015 L809.734 144.015 Z\" fill=\"#000000\" fill-rule=\"evenodd\" fill-opacity=\"1\" stroke=\"none\"/>\n",
       "<path clip-path=\"url(#clip373)\" d=\"M887.136 138.668 L887.136 162.668 L911.136 162.668 L911.136 138.668 L887.136 138.668 Z\" fill=\"#000000\" fill-rule=\"evenodd\" fill-opacity=\"1\" stroke=\"none\"/>\n",
       "<path clip-path=\"url(#clip373)\" d=\"M964.539 136.109 L964.539 160.109 L988.539 160.109 L988.539 136.109 L964.539 136.109 Z\" fill=\"#000000\" fill-rule=\"evenodd\" fill-opacity=\"1\" stroke=\"none\"/>\n",
       "<path clip-path=\"url(#clip373)\" d=\"M1041.94 135.672 L1041.94 159.672 L1065.94 159.672 L1065.94 135.672 L1041.94 135.672 Z\" fill=\"#000000\" fill-rule=\"evenodd\" fill-opacity=\"1\" stroke=\"none\"/>\n",
       "<path clip-path=\"url(#clip373)\" d=\"M1119.34 136.122 L1119.34 160.122 L1143.34 160.122 L1143.34 136.122 L1119.34 136.122 Z\" fill=\"#000000\" fill-rule=\"evenodd\" fill-opacity=\"1\" stroke=\"none\"/>\n",
       "<path clip-path=\"url(#clip373)\" d=\"M1196.75 136.316 L1196.75 160.316 L1220.75 160.316 L1220.75 136.316 L1196.75 136.316 Z\" fill=\"#000000\" fill-rule=\"evenodd\" fill-opacity=\"1\" stroke=\"none\"/>\n",
       "<path clip-path=\"url(#clip373)\" d=\"M1274.15 136.163 L1274.15 160.163 L1298.15 160.163 L1298.15 136.163 L1274.15 136.163 Z\" fill=\"#000000\" fill-rule=\"evenodd\" fill-opacity=\"1\" stroke=\"none\"/>\n",
       "<path clip-path=\"url(#clip373)\" d=\"M1351.55 136.13 L1351.55 160.13 L1375.55 160.13 L1375.55 136.13 L1351.55 136.13 Z\" fill=\"#000000\" fill-rule=\"evenodd\" fill-opacity=\"1\" stroke=\"none\"/>\n",
       "<path clip-path=\"url(#clip373)\" d=\"M1428.95 136.148 L1428.95 160.148 L1452.95 160.148 L1452.95 136.148 L1428.95 136.148 Z\" fill=\"#000000\" fill-rule=\"evenodd\" fill-opacity=\"1\" stroke=\"none\"/>\n",
       "<path clip-path=\"url(#clip373)\" d=\"M1506.36 136.143 L1506.36 160.143 L1530.36 160.143 L1530.36 136.143 L1506.36 136.143 Z\" fill=\"#000000\" fill-rule=\"evenodd\" fill-opacity=\"1\" stroke=\"none\"/>\n",
       "<path clip-path=\"url(#clip373)\" d=\"M1583.76 136.144 L1583.76 160.144 L1607.76 160.144 L1607.76 136.144 L1583.76 136.144 Z\" fill=\"#000000\" fill-rule=\"evenodd\" fill-opacity=\"1\" stroke=\"none\"/>\n",
       "<path clip-path=\"url(#clip373)\" d=\"M1661.16 136.143 L1661.16 160.143 L1685.16 160.143 L1685.16 136.143 L1661.16 136.143 Z\" fill=\"#000000\" fill-rule=\"evenodd\" fill-opacity=\"1\" stroke=\"none\"/>\n",
       "<path clip-path=\"url(#clip373)\" d=\"M1738.56 136.144 L1738.56 160.144 L1762.56 160.144 L1762.56 136.144 L1738.56 136.144 Z\" fill=\"#000000\" fill-rule=\"evenodd\" fill-opacity=\"1\" stroke=\"none\"/>\n",
       "<path clip-path=\"url(#clip373)\" d=\"M1815.97 136.144 L1815.97 160.144 L1839.97 160.144 L1839.97 136.144 L1815.97 136.144 Z\" fill=\"#000000\" fill-rule=\"evenodd\" fill-opacity=\"1\" stroke=\"none\"/>\n",
       "<path clip-path=\"url(#clip373)\" d=\"M1893.37 136.144 L1893.37 160.144 L1917.37 160.144 L1917.37 136.144 L1893.37 136.144 Z\" fill=\"#000000\" fill-rule=\"evenodd\" fill-opacity=\"1\" stroke=\"none\"/>\n",
       "<path clip-path=\"url(#clip373)\" d=\"M1970.77 136.144 L1970.77 160.144 L1994.77 160.144 L1994.77 136.144 L1970.77 136.144 Z\" fill=\"#000000\" fill-rule=\"evenodd\" fill-opacity=\"1\" stroke=\"none\"/>\n",
       "<path clip-path=\"url(#clip373)\" d=\"M2048.17 136.144 L2048.17 160.144 L2072.17 160.144 L2072.17 136.144 L2048.17 136.144 Z\" fill=\"#000000\" fill-rule=\"evenodd\" fill-opacity=\"1\" stroke=\"none\"/>\n",
       "<path clip-path=\"url(#clip373)\" d=\"M2125.58 136.144 L2125.58 160.144 L2149.58 160.144 L2149.58 136.144 L2125.58 136.144 Z\" fill=\"#000000\" fill-rule=\"evenodd\" fill-opacity=\"1\" stroke=\"none\"/>\n",
       "<path clip-path=\"url(#clip373)\" d=\"M2202.98 136.144 L2202.98 160.144 L2226.98 160.144 L2226.98 136.144 L2202.98 136.144 Z\" fill=\"#000000\" fill-rule=\"evenodd\" fill-opacity=\"1\" stroke=\"none\"/>\n",
       "<path clip-path=\"url(#clip373)\" d=\"M2280.38 136.144 L2280.38 160.144 L2304.38 160.144 L2304.38 136.144 L2280.38 136.144 Z\" fill=\"#000000\" fill-rule=\"evenodd\" fill-opacity=\"1\" stroke=\"none\"/>\n",
       "<path clip-path=\"url(#clip370)\" d=\"M1934.9 266.319 L2281.65 266.319 L2281.65 58.959 L1934.9 58.959  Z\" fill=\"#ffffff\" fill-rule=\"evenodd\" fill-opacity=\"1\"/>\n",
       "<polyline clip-path=\"url(#clip370)\" style=\"stroke:#000000; stroke-linecap:round; stroke-linejoin:round; stroke-width:4; stroke-opacity:1; fill:none\" points=\"1934.9,266.319 2281.65,266.319 2281.65,58.959 1934.9,58.959 1934.9,266.319 \"/>\n",
       "<polyline clip-path=\"url(#clip370)\" style=\"stroke:#000000; stroke-linecap:round; stroke-linejoin:round; stroke-width:4; stroke-opacity:1; fill:none\" stroke-dasharray=\"2, 4\" points=\"1958.6,110.799 2100.82,110.799 \"/>\n",
       "<path clip-path=\"url(#clip370)\" d=\"M2124.52 93.519 L2129.2 93.519 L2129.2 124.144 L2146.03 124.144 L2146.03 128.079 L2124.52 128.079 L2124.52 93.519 Z\" fill=\"#000000\" fill-rule=\"evenodd\" fill-opacity=\"1\" /><path clip-path=\"url(#clip370)\" d=\"M2150.75 102.153 L2155.01 102.153 L2155.01 128.079 L2150.75 128.079 L2150.75 102.153 M2150.75 92.0607 L2155.01 92.0607 L2155.01 97.4542 L2150.75 97.4542 L2150.75 92.0607 Z\" fill=\"#000000\" fill-rule=\"evenodd\" fill-opacity=\"1\" /><path clip-path=\"url(#clip370)\" d=\"M2184.1 107.13 Q2185.7 104.26 2187.92 102.894 Q2190.15 101.528 2193.16 101.528 Q2197.21 101.528 2199.41 104.375 Q2201.6 107.2 2201.6 112.431 L2201.6 128.079 L2197.32 128.079 L2197.32 112.57 Q2197.32 108.843 2196 107.037 Q2194.68 105.232 2191.97 105.232 Q2188.66 105.232 2186.74 107.431 Q2184.82 109.63 2184.82 113.426 L2184.82 128.079 L2180.54 128.079 L2180.54 112.57 Q2180.54 108.82 2179.22 107.037 Q2177.9 105.232 2175.15 105.232 Q2171.88 105.232 2169.96 107.454 Q2168.04 109.653 2168.04 113.426 L2168.04 128.079 L2163.76 128.079 L2163.76 102.153 L2168.04 102.153 L2168.04 106.181 Q2169.5 103.797 2171.53 102.662 Q2173.57 101.528 2176.37 101.528 Q2179.2 101.528 2181.16 102.963 Q2183.16 104.399 2184.1 107.13 Z\" fill=\"#000000\" fill-rule=\"evenodd\" fill-opacity=\"1\" /><path clip-path=\"url(#clip370)\" d=\"M2210.1 102.153 L2214.36 102.153 L2214.36 128.079 L2210.1 128.079 L2210.1 102.153 M2210.1 92.0607 L2214.36 92.0607 L2214.36 97.4542 L2210.1 97.4542 L2210.1 92.0607 Z\" fill=\"#000000\" fill-rule=\"evenodd\" fill-opacity=\"1\" /><path clip-path=\"url(#clip370)\" d=\"M2227.48 94.7922 L2227.48 102.153 L2236.26 102.153 L2236.26 105.463 L2227.48 105.463 L2227.48 119.537 Q2227.48 122.709 2228.34 123.611 Q2229.22 124.514 2231.88 124.514 L2236.26 124.514 L2236.26 128.079 L2231.88 128.079 Q2226.95 128.079 2225.08 126.25 Q2223.2 124.398 2223.2 119.537 L2223.2 105.463 L2220.08 105.463 L2220.08 102.153 L2223.2 102.153 L2223.2 94.7922 L2227.48 94.7922 Z\" fill=\"#000000\" fill-rule=\"evenodd\" fill-opacity=\"1\" /><polyline clip-path=\"url(#clip370)\" style=\"stroke:#000000; stroke-linecap:round; stroke-linejoin:round; stroke-width:12; stroke-opacity:1; fill:none\" points=\"1958.6,162.639 2100.82,162.639 \"/>\n",
       "<circle clip-path=\"url(#clip370)\" cx=\"2029.71\" cy=\"162.639\" r=\"19.752\" fill=\"#000000\" fill-rule=\"evenodd\" fill-opacity=\"1\" stroke=\"none\"/>\n",
       "<path clip-path=\"url(#clip370)\" d=\"M2124.52 145.359 L2131.49 145.359 L2140.31 168.877 L2149.17 145.359 L2156.14 145.359 L2156.14 179.919 L2151.58 179.919 L2151.58 149.572 L2142.67 173.276 L2137.97 173.276 L2129.06 149.572 L2129.06 179.919 L2124.52 179.919 L2124.52 145.359 Z\" fill=\"#000000\" fill-rule=\"evenodd\" fill-opacity=\"1\" /><path clip-path=\"url(#clip370)\" d=\"M2175.28 156.979 Q2171.86 156.979 2169.87 159.664 Q2167.88 162.327 2167.88 166.979 Q2167.88 171.632 2169.85 174.317 Q2171.84 176.979 2175.28 176.979 Q2178.69 176.979 2180.68 174.294 Q2182.67 171.609 2182.67 166.979 Q2182.67 162.373 2180.68 159.688 Q2178.69 156.979 2175.28 156.979 M2175.28 153.368 Q2180.84 153.368 2184.01 156.979 Q2187.18 160.59 2187.18 166.979 Q2187.18 173.345 2184.01 176.979 Q2180.84 180.59 2175.28 180.59 Q2169.71 180.59 2166.53 176.979 Q2163.39 173.345 2163.39 166.979 Q2163.39 160.59 2166.53 156.979 Q2169.71 153.368 2175.28 153.368 Z\" fill=\"#000000\" fill-rule=\"evenodd\" fill-opacity=\"1\" /><path clip-path=\"url(#clip370)\" d=\"M2215.79 164.271 L2215.79 179.919 L2211.53 179.919 L2211.53 164.41 Q2211.53 160.729 2210.1 158.901 Q2208.66 157.072 2205.79 157.072 Q2202.34 157.072 2200.35 159.271 Q2198.36 161.47 2198.36 165.266 L2198.36 179.919 L2194.08 179.919 L2194.08 153.993 L2198.36 153.993 L2198.36 158.021 Q2199.89 155.683 2201.95 154.526 Q2204.03 153.368 2206.74 153.368 Q2211.21 153.368 2213.5 156.146 Q2215.79 158.901 2215.79 164.271 Z\" fill=\"#000000\" fill-rule=\"evenodd\" fill-opacity=\"1\" /><path clip-path=\"url(#clip370)\" d=\"M2234.34 156.979 Q2230.91 156.979 2228.92 159.664 Q2226.93 162.327 2226.93 166.979 Q2226.93 171.632 2228.9 174.317 Q2230.89 176.979 2234.34 176.979 Q2237.74 176.979 2239.73 174.294 Q2241.72 171.609 2241.72 166.979 Q2241.72 162.373 2239.73 159.688 Q2237.74 156.979 2234.34 156.979 M2234.34 153.368 Q2239.89 153.368 2243.06 156.979 Q2246.23 160.59 2246.23 166.979 Q2246.23 173.345 2243.06 176.979 Q2239.89 180.59 2234.34 180.59 Q2228.76 180.59 2225.59 176.979 Q2222.44 173.345 2222.44 166.979 Q2222.44 160.59 2225.59 156.979 Q2228.76 153.368 2234.34 153.368 Z\" fill=\"#000000\" fill-rule=\"evenodd\" fill-opacity=\"1\" /><path clip-path=\"url(#clip370)\" d=\"M2253.06 174.039 L2257.95 174.039 L2257.95 179.919 L2253.06 179.919 L2253.06 174.039 Z\" fill=\"#000000\" fill-rule=\"evenodd\" fill-opacity=\"1\" /><polyline clip-path=\"url(#clip370)\" style=\"stroke:#000000; stroke-linecap:round; stroke-linejoin:round; stroke-width:12; stroke-opacity:1; fill:none\" stroke-dasharray=\"48, 24, 6, 24\" points=\"1958.6,214.479 2100.82,214.479 \"/>\n",
       "<path clip-path=\"url(#clip370)\" d=\"M2007.77 192.532 L2007.77 236.426 L2051.66 236.426 L2051.66 192.532 L2007.77 192.532 Z\" fill=\"#000000\" fill-rule=\"evenodd\" fill-opacity=\"1\" stroke=\"none\"/>\n",
       "<path clip-path=\"url(#clip370)\" d=\"M2129.2 201.042 L2129.2 227.916 L2134.85 227.916 Q2142 227.916 2145.31 224.676 Q2148.64 221.435 2148.64 214.444 Q2148.64 207.5 2145.31 204.282 Q2142 201.042 2134.85 201.042 L2129.2 201.042 M2124.52 197.199 L2134.13 197.199 Q2144.17 197.199 2148.87 201.389 Q2153.57 205.555 2153.57 214.444 Q2153.57 223.379 2148.85 227.569 Q2144.13 231.759 2134.13 231.759 L2124.52 231.759 L2124.52 197.199 Z\" fill=\"#000000\" fill-rule=\"evenodd\" fill-opacity=\"1\" /><path clip-path=\"url(#clip370)\" d=\"M2183.02 217.731 L2183.02 219.815 L2163.43 219.815 Q2163.71 224.213 2166.07 226.528 Q2168.46 228.819 2172.69 228.819 Q2175.15 228.819 2177.44 228.217 Q2179.75 227.616 2182.02 226.412 L2182.02 230.44 Q2179.73 231.412 2177.32 231.921 Q2174.91 232.43 2172.44 232.43 Q2166.23 232.43 2162.6 228.819 Q2158.99 225.208 2158.99 219.051 Q2158.99 212.685 2162.41 208.958 Q2165.86 205.208 2171.7 205.208 Q2176.93 205.208 2179.96 208.588 Q2183.02 211.944 2183.02 217.731 M2178.76 216.481 Q2178.71 212.986 2176.79 210.903 Q2174.89 208.819 2171.74 208.819 Q2168.18 208.819 2166.03 210.833 Q2163.9 212.847 2163.57 216.504 L2178.76 216.481 Z\" fill=\"#000000\" fill-rule=\"evenodd\" fill-opacity=\"1\" /><path clip-path=\"url(#clip370)\" d=\"M2208.66 206.829 L2208.66 210.81 Q2206.86 209.815 2205.03 209.329 Q2203.22 208.819 2201.37 208.819 Q2197.23 208.819 2194.94 211.458 Q2192.65 214.074 2192.65 218.819 Q2192.65 223.565 2194.94 226.203 Q2197.23 228.819 2201.37 228.819 Q2203.22 228.819 2205.03 228.333 Q2206.86 227.824 2208.66 226.828 L2208.66 230.764 Q2206.88 231.597 2204.96 232.014 Q2203.06 232.43 2200.91 232.43 Q2195.05 232.43 2191.6 228.75 Q2188.16 225.069 2188.16 218.819 Q2188.16 212.477 2191.63 208.842 Q2195.12 205.208 2201.19 205.208 Q2203.16 205.208 2205.03 205.625 Q2206.91 206.018 2208.66 206.829 Z\" fill=\"#000000\" fill-rule=\"evenodd\" fill-opacity=\"1\" /><path clip-path=\"url(#clip370)\" d=\"M2226.12 208.819 Q2222.69 208.819 2220.7 211.504 Q2218.71 214.167 2218.71 218.819 Q2218.71 223.472 2220.68 226.157 Q2222.67 228.819 2226.12 228.819 Q2229.52 228.819 2231.51 226.134 Q2233.5 223.449 2233.5 218.819 Q2233.5 214.213 2231.51 211.528 Q2229.52 208.819 2226.12 208.819 M2226.12 205.208 Q2231.67 205.208 2234.84 208.819 Q2238.02 212.43 2238.02 218.819 Q2238.02 225.185 2234.84 228.819 Q2231.67 232.43 2226.12 232.43 Q2220.54 232.43 2217.37 228.819 Q2214.22 225.185 2214.22 218.819 Q2214.22 212.43 2217.37 208.819 Q2220.54 205.208 2226.12 205.208 Z\" fill=\"#000000\" fill-rule=\"evenodd\" fill-opacity=\"1\" /><path clip-path=\"url(#clip370)\" d=\"M2244.84 225.879 L2249.73 225.879 L2249.73 231.759 L2244.84 231.759 L2244.84 225.879 Z\" fill=\"#000000\" fill-rule=\"evenodd\" fill-opacity=\"1\" /><path clip-path=\"url(#clip370)\" d=\"M219.542 910.936 L2352.76 910.936 L2352.76 559.488 L219.542 559.488  Z\" fill=\"#ffffff\" fill-rule=\"evenodd\" fill-opacity=\"1\"/>\n",
       "<defs>\n",
       "  <clipPath id=\"clip374\">\n",
       "    <rect x=\"219\" y=\"559\" width=\"2134\" height=\"352\"/>\n",
       "  </clipPath>\n",
       "</defs>\n",
       "<polyline clip-path=\"url(#clip374)\" style=\"stroke:#000000; stroke-linecap:round; stroke-linejoin:round; stroke-width:8; stroke-opacity:0.1; fill:none\" points=\"589.526,910.936 589.526,559.488 \"/>\n",
       "<polyline clip-path=\"url(#clip374)\" style=\"stroke:#000000; stroke-linecap:round; stroke-linejoin:round; stroke-width:8; stroke-opacity:0.1; fill:none\" points=\"976.539,910.936 976.539,559.488 \"/>\n",
       "<polyline clip-path=\"url(#clip374)\" style=\"stroke:#000000; stroke-linecap:round; stroke-linejoin:round; stroke-width:8; stroke-opacity:0.1; fill:none\" points=\"1363.55,910.936 1363.55,559.488 \"/>\n",
       "<polyline clip-path=\"url(#clip374)\" style=\"stroke:#000000; stroke-linecap:round; stroke-linejoin:round; stroke-width:8; stroke-opacity:0.1; fill:none\" points=\"1750.56,910.936 1750.56,559.488 \"/>\n",
       "<polyline clip-path=\"url(#clip374)\" style=\"stroke:#000000; stroke-linecap:round; stroke-linejoin:round; stroke-width:8; stroke-opacity:0.1; fill:none\" points=\"2137.58,910.936 2137.58,559.488 \"/>\n",
       "<polyline clip-path=\"url(#clip370)\" style=\"stroke:#000000; stroke-linecap:round; stroke-linejoin:round; stroke-width:4; stroke-opacity:1; fill:none\" points=\"219.542,910.936 2352.76,910.936 \"/>\n",
       "<polyline clip-path=\"url(#clip370)\" style=\"stroke:#000000; stroke-linecap:round; stroke-linejoin:round; stroke-width:4; stroke-opacity:1; fill:none\" points=\"589.526,910.936 589.526,892.038 \"/>\n",
       "<polyline clip-path=\"url(#clip370)\" style=\"stroke:#000000; stroke-linecap:round; stroke-linejoin:round; stroke-width:4; stroke-opacity:1; fill:none\" points=\"976.539,910.936 976.539,892.038 \"/>\n",
       "<polyline clip-path=\"url(#clip370)\" style=\"stroke:#000000; stroke-linecap:round; stroke-linejoin:round; stroke-width:4; stroke-opacity:1; fill:none\" points=\"1363.55,910.936 1363.55,892.038 \"/>\n",
       "<polyline clip-path=\"url(#clip370)\" style=\"stroke:#000000; stroke-linecap:round; stroke-linejoin:round; stroke-width:4; stroke-opacity:1; fill:none\" points=\"1750.56,910.936 1750.56,892.038 \"/>\n",
       "<polyline clip-path=\"url(#clip370)\" style=\"stroke:#000000; stroke-linecap:round; stroke-linejoin:round; stroke-width:4; stroke-opacity:1; fill:none\" points=\"2137.58,910.936 2137.58,892.038 \"/>\n",
       "<path clip-path=\"url(#clip370)\" d=\"M579.804 938.776 L598.16 938.776 L598.16 942.711 L584.086 942.711 L584.086 951.183 Q585.105 950.836 586.124 950.674 Q587.142 950.489 588.161 950.489 Q593.948 950.489 597.327 953.66 Q600.707 956.831 600.707 962.248 Q600.707 967.827 597.235 970.928 Q593.762 974.007 587.443 974.007 Q585.267 974.007 582.999 973.637 Q580.753 973.266 578.346 972.526 L578.346 967.827 Q580.429 968.961 582.651 969.516 Q584.874 970.072 587.35 970.072 Q591.355 970.072 593.693 967.966 Q596.031 965.859 596.031 962.248 Q596.031 958.637 593.693 956.53 Q591.355 954.424 587.35 954.424 Q585.475 954.424 583.6 954.841 Q581.749 955.257 579.804 956.137 L579.804 938.776 Z\" fill=\"#000000\" fill-rule=\"evenodd\" fill-opacity=\"1\" /><path clip-path=\"url(#clip370)\" d=\"M951.227 969.401 L958.865 969.401 L958.865 943.035 L950.555 944.702 L950.555 940.443 L958.819 938.776 L963.495 938.776 L963.495 969.401 L971.134 969.401 L971.134 973.336 L951.227 973.336 L951.227 969.401 Z\" fill=\"#000000\" fill-rule=\"evenodd\" fill-opacity=\"1\" /><path clip-path=\"url(#clip370)\" d=\"M990.578 941.855 Q986.967 941.855 985.138 945.419 Q983.333 948.961 983.333 956.091 Q983.333 963.197 985.138 966.762 Q986.967 970.303 990.578 970.303 Q994.212 970.303 996.018 966.762 Q997.847 963.197 997.847 956.091 Q997.847 948.961 996.018 945.419 Q994.212 941.855 990.578 941.855 M990.578 938.151 Q996.388 938.151 999.444 942.757 Q1002.52 947.341 1002.52 956.091 Q1002.52 964.817 999.444 969.424 Q996.388 974.007 990.578 974.007 Q984.768 974.007 981.689 969.424 Q978.634 964.817 978.634 956.091 Q978.634 947.341 981.689 942.757 Q984.768 938.151 990.578 938.151 Z\" fill=\"#000000\" fill-rule=\"evenodd\" fill-opacity=\"1\" /><path clip-path=\"url(#clip370)\" d=\"M1338.74 969.401 L1346.38 969.401 L1346.38 943.035 L1338.07 944.702 L1338.07 940.443 L1346.33 938.776 L1351.01 938.776 L1351.01 969.401 L1358.64 969.401 L1358.64 973.336 L1338.74 973.336 L1338.74 969.401 Z\" fill=\"#000000\" fill-rule=\"evenodd\" fill-opacity=\"1\" /><path clip-path=\"url(#clip370)\" d=\"M1368.13 938.776 L1386.49 938.776 L1386.49 942.711 L1372.42 942.711 L1372.42 951.183 Q1373.44 950.836 1374.45 950.674 Q1375.47 950.489 1376.49 950.489 Q1382.28 950.489 1385.66 953.66 Q1389.04 956.831 1389.04 962.248 Q1389.04 967.827 1385.57 970.928 Q1382.09 974.007 1375.77 974.007 Q1373.6 974.007 1371.33 973.637 Q1369.08 973.266 1366.68 972.526 L1366.68 967.827 Q1368.76 968.961 1370.98 969.516 Q1373.2 970.072 1375.68 970.072 Q1379.69 970.072 1382.02 967.966 Q1384.36 965.859 1384.36 962.248 Q1384.36 958.637 1382.02 956.53 Q1379.69 954.424 1375.68 954.424 Q1373.81 954.424 1371.93 954.841 Q1370.08 955.257 1368.13 956.137 L1368.13 938.776 Z\" fill=\"#000000\" fill-rule=\"evenodd\" fill-opacity=\"1\" /><path clip-path=\"url(#clip370)\" d=\"M1729.34 969.401 L1745.66 969.401 L1745.66 973.336 L1723.71 973.336 L1723.71 969.401 Q1726.37 966.646 1730.96 962.016 Q1735.56 957.364 1736.74 956.021 Q1738.99 953.498 1739.87 951.762 Q1740.77 950.003 1740.77 948.313 Q1740.77 945.558 1738.83 943.822 Q1736.91 942.086 1733.81 942.086 Q1731.61 942.086 1729.15 942.85 Q1726.72 943.614 1723.94 945.165 L1723.94 940.443 Q1726.77 939.308 1729.22 938.73 Q1731.68 938.151 1733.71 938.151 Q1739.08 938.151 1742.28 940.836 Q1745.47 943.521 1745.47 948.012 Q1745.47 950.142 1744.66 952.063 Q1743.87 953.961 1741.77 956.554 Q1741.19 957.225 1738.09 960.442 Q1734.99 963.637 1729.34 969.401 Z\" fill=\"#000000\" fill-rule=\"evenodd\" fill-opacity=\"1\" /><path clip-path=\"url(#clip370)\" d=\"M1765.47 941.855 Q1761.86 941.855 1760.03 945.419 Q1758.23 948.961 1758.23 956.091 Q1758.23 963.197 1760.03 966.762 Q1761.86 970.303 1765.47 970.303 Q1769.11 970.303 1770.91 966.762 Q1772.74 963.197 1772.74 956.091 Q1772.74 948.961 1770.91 945.419 Q1769.11 941.855 1765.47 941.855 M1765.47 938.151 Q1771.28 938.151 1774.34 942.757 Q1777.42 947.341 1777.42 956.091 Q1777.42 964.817 1774.34 969.424 Q1771.28 974.007 1765.47 974.007 Q1759.66 974.007 1756.58 969.424 Q1753.53 964.817 1753.53 956.091 Q1753.53 947.341 1756.58 942.757 Q1759.66 938.151 1765.47 938.151 Z\" fill=\"#000000\" fill-rule=\"evenodd\" fill-opacity=\"1\" /><path clip-path=\"url(#clip370)\" d=\"M2116.85 969.401 L2133.17 969.401 L2133.17 973.336 L2111.22 973.336 L2111.22 969.401 Q2113.88 966.646 2118.47 962.016 Q2123.07 957.364 2124.26 956.021 Q2126.5 953.498 2127.38 951.762 Q2128.28 950.003 2128.28 948.313 Q2128.28 945.558 2126.34 943.822 Q2124.42 942.086 2121.32 942.086 Q2119.12 942.086 2116.66 942.85 Q2114.23 943.614 2111.45 945.165 L2111.45 940.443 Q2114.28 939.308 2116.73 938.73 Q2119.19 938.151 2121.22 938.151 Q2126.59 938.151 2129.79 940.836 Q2132.98 943.521 2132.98 948.012 Q2132.98 950.142 2132.17 952.063 Q2131.38 953.961 2129.28 956.554 Q2128.7 957.225 2125.6 960.442 Q2122.5 963.637 2116.85 969.401 Z\" fill=\"#000000\" fill-rule=\"evenodd\" fill-opacity=\"1\" /><path clip-path=\"url(#clip370)\" d=\"M2143.03 938.776 L2161.38 938.776 L2161.38 942.711 L2147.31 942.711 L2147.31 951.183 Q2148.33 950.836 2149.35 950.674 Q2150.37 950.489 2151.38 950.489 Q2157.17 950.489 2160.55 953.66 Q2163.93 956.831 2163.93 962.248 Q2163.93 967.827 2160.46 970.928 Q2156.99 974.007 2150.67 974.007 Q2148.49 974.007 2146.22 973.637 Q2143.98 973.266 2141.57 972.526 L2141.57 967.827 Q2143.65 968.961 2145.88 969.516 Q2148.1 970.072 2150.57 970.072 Q2154.58 970.072 2156.92 967.966 Q2159.25 965.859 2159.25 962.248 Q2159.25 958.637 2156.92 956.53 Q2154.58 954.424 2150.57 954.424 Q2148.7 954.424 2146.82 954.841 Q2144.97 955.257 2143.03 956.137 L2143.03 938.776 Z\" fill=\"#000000\" fill-rule=\"evenodd\" fill-opacity=\"1\" /><polyline clip-path=\"url(#clip374)\" style=\"stroke:#000000; stroke-linecap:round; stroke-linejoin:round; stroke-width:8; stroke-opacity:0.1; fill:none\" points=\"219.542,899.599 2352.76,899.599 \"/>\n",
       "<polyline clip-path=\"url(#clip374)\" style=\"stroke:#000000; stroke-linecap:round; stroke-linejoin:round; stroke-width:8; stroke-opacity:0.1; fill:none\" points=\"219.542,831.577 2352.76,831.577 \"/>\n",
       "<polyline clip-path=\"url(#clip374)\" style=\"stroke:#000000; stroke-linecap:round; stroke-linejoin:round; stroke-width:8; stroke-opacity:0.1; fill:none\" points=\"219.542,763.555 2352.76,763.555 \"/>\n",
       "<polyline clip-path=\"url(#clip374)\" style=\"stroke:#000000; stroke-linecap:round; stroke-linejoin:round; stroke-width:8; stroke-opacity:0.1; fill:none\" points=\"219.542,695.532 2352.76,695.532 \"/>\n",
       "<polyline clip-path=\"url(#clip374)\" style=\"stroke:#000000; stroke-linecap:round; stroke-linejoin:round; stroke-width:8; stroke-opacity:0.1; fill:none\" points=\"219.542,627.51 2352.76,627.51 \"/>\n",
       "<polyline clip-path=\"url(#clip370)\" style=\"stroke:#000000; stroke-linecap:round; stroke-linejoin:round; stroke-width:4; stroke-opacity:1; fill:none\" points=\"219.542,910.936 219.542,559.488 \"/>\n",
       "<polyline clip-path=\"url(#clip370)\" style=\"stroke:#000000; stroke-linecap:round; stroke-linejoin:round; stroke-width:4; stroke-opacity:1; fill:none\" points=\"219.542,899.599 238.44,899.599 \"/>\n",
       "<polyline clip-path=\"url(#clip370)\" style=\"stroke:#000000; stroke-linecap:round; stroke-linejoin:round; stroke-width:4; stroke-opacity:1; fill:none\" points=\"219.542,831.577 238.44,831.577 \"/>\n",
       "<polyline clip-path=\"url(#clip370)\" style=\"stroke:#000000; stroke-linecap:round; stroke-linejoin:round; stroke-width:4; stroke-opacity:1; fill:none\" points=\"219.542,763.555 238.44,763.555 \"/>\n",
       "<polyline clip-path=\"url(#clip370)\" style=\"stroke:#000000; stroke-linecap:round; stroke-linejoin:round; stroke-width:4; stroke-opacity:1; fill:none\" points=\"219.542,695.532 238.44,695.532 \"/>\n",
       "<polyline clip-path=\"url(#clip370)\" style=\"stroke:#000000; stroke-linecap:round; stroke-linejoin:round; stroke-width:4; stroke-opacity:1; fill:none\" points=\"219.542,627.51 238.44,627.51 \"/>\n",
       "<path clip-path=\"url(#clip370)\" d=\"M126.367 885.398 Q122.755 885.398 120.927 888.962 Q119.121 892.504 119.121 899.634 Q119.121 906.74 120.927 910.305 Q122.755 913.846 126.367 913.846 Q130.001 913.846 131.806 910.305 Q133.635 906.74 133.635 899.634 Q133.635 892.504 131.806 888.962 Q130.001 885.398 126.367 885.398 M126.367 881.694 Q132.177 881.694 135.232 886.3 Q138.311 890.884 138.311 899.634 Q138.311 908.36 135.232 912.967 Q132.177 917.55 126.367 917.55 Q120.556 917.55 117.478 912.967 Q114.422 908.36 114.422 899.634 Q114.422 890.884 117.478 886.3 Q120.556 881.694 126.367 881.694 Z\" fill=\"#000000\" fill-rule=\"evenodd\" fill-opacity=\"1\" /><path clip-path=\"url(#clip370)\" d=\"M146.529 910.999 L151.413 910.999 L151.413 916.879 L146.529 916.879 L146.529 910.999 Z\" fill=\"#000000\" fill-rule=\"evenodd\" fill-opacity=\"1\" /><path clip-path=\"url(#clip370)\" d=\"M171.598 885.398 Q167.987 885.398 166.158 888.962 Q164.352 892.504 164.352 899.634 Q164.352 906.74 166.158 910.305 Q167.987 913.846 171.598 913.846 Q175.232 913.846 177.038 910.305 Q178.866 906.74 178.866 899.634 Q178.866 892.504 177.038 888.962 Q175.232 885.398 171.598 885.398 M171.598 881.694 Q177.408 881.694 180.464 886.3 Q183.542 890.884 183.542 899.634 Q183.542 908.36 180.464 912.967 Q177.408 917.55 171.598 917.55 Q165.788 917.55 162.709 912.967 Q159.653 908.36 159.653 899.634 Q159.653 890.884 162.709 886.3 Q165.788 881.694 171.598 881.694 Z\" fill=\"#000000\" fill-rule=\"evenodd\" fill-opacity=\"1\" /><path clip-path=\"url(#clip370)\" d=\"M127.015 817.375 Q123.404 817.375 121.575 820.94 Q119.769 824.482 119.769 831.611 Q119.769 838.718 121.575 842.283 Q123.404 845.824 127.015 845.824 Q130.649 845.824 132.455 842.283 Q134.283 838.718 134.283 831.611 Q134.283 824.482 132.455 820.94 Q130.649 817.375 127.015 817.375 M127.015 813.672 Q132.825 813.672 135.88 818.278 Q138.959 822.861 138.959 831.611 Q138.959 840.338 135.88 844.945 Q132.825 849.528 127.015 849.528 Q121.205 849.528 118.126 844.945 Q115.07 840.338 115.07 831.611 Q115.07 822.861 118.126 818.278 Q121.205 813.672 127.015 813.672 Z\" fill=\"#000000\" fill-rule=\"evenodd\" fill-opacity=\"1\" /><path clip-path=\"url(#clip370)\" d=\"M147.177 842.977 L152.061 842.977 L152.061 848.857 L147.177 848.857 L147.177 842.977 Z\" fill=\"#000000\" fill-rule=\"evenodd\" fill-opacity=\"1\" /><path clip-path=\"url(#clip370)\" d=\"M176.413 830.223 Q179.769 830.94 181.644 833.209 Q183.542 835.477 183.542 838.81 Q183.542 843.926 180.024 846.727 Q176.505 849.528 170.024 849.528 Q167.848 849.528 165.533 849.088 Q163.241 848.671 160.788 847.815 L160.788 843.301 Q162.732 844.435 165.047 845.014 Q167.362 845.593 169.885 845.593 Q174.283 845.593 176.575 843.857 Q178.889 842.121 178.889 838.81 Q178.889 835.755 176.737 834.042 Q174.607 832.306 170.788 832.306 L166.76 832.306 L166.76 828.463 L170.973 828.463 Q174.422 828.463 176.251 827.098 Q178.079 825.709 178.079 823.116 Q178.079 820.454 176.181 819.042 Q174.306 817.607 170.788 817.607 Q168.866 817.607 166.667 818.024 Q164.468 818.44 161.829 819.32 L161.829 815.153 Q164.491 814.412 166.806 814.042 Q169.144 813.672 171.204 813.672 Q176.528 813.672 179.63 816.102 Q182.732 818.51 182.732 822.63 Q182.732 825.5 181.089 827.491 Q179.445 829.459 176.413 830.223 Z\" fill=\"#000000\" fill-rule=\"evenodd\" fill-opacity=\"1\" /><path clip-path=\"url(#clip370)\" d=\"M126.205 749.353 Q122.593 749.353 120.765 752.918 Q118.959 756.46 118.959 763.589 Q118.959 770.696 120.765 774.26 Q122.593 777.802 126.205 777.802 Q129.839 777.802 131.644 774.26 Q133.473 770.696 133.473 763.589 Q133.473 756.46 131.644 752.918 Q129.839 749.353 126.205 749.353 M126.205 745.65 Q132.015 745.65 135.07 750.256 Q138.149 754.839 138.149 763.589 Q138.149 772.316 135.07 776.923 Q132.015 781.506 126.205 781.506 Q120.394 781.506 117.316 776.923 Q114.26 772.316 114.26 763.589 Q114.26 754.839 117.316 750.256 Q120.394 745.65 126.205 745.65 Z\" fill=\"#000000\" fill-rule=\"evenodd\" fill-opacity=\"1\" /><path clip-path=\"url(#clip370)\" d=\"M146.366 774.955 L151.251 774.955 L151.251 780.835 L146.366 780.835 L146.366 774.955 Z\" fill=\"#000000\" fill-rule=\"evenodd\" fill-opacity=\"1\" /><path clip-path=\"url(#clip370)\" d=\"M172.014 761.691 Q168.866 761.691 167.015 763.844 Q165.186 765.997 165.186 769.747 Q165.186 773.473 167.015 775.649 Q168.866 777.802 172.014 777.802 Q175.163 777.802 176.991 775.649 Q178.843 773.473 178.843 769.747 Q178.843 765.997 176.991 763.844 Q175.163 761.691 172.014 761.691 M181.297 747.038 L181.297 751.298 Q179.538 750.464 177.732 750.025 Q175.95 749.585 174.19 749.585 Q169.561 749.585 167.107 752.71 Q164.677 755.835 164.329 762.154 Q165.695 760.14 167.755 759.075 Q169.815 757.987 172.292 757.987 Q177.501 757.987 180.51 761.159 Q183.542 764.307 183.542 769.747 Q183.542 775.071 180.394 778.288 Q177.246 781.506 172.014 781.506 Q166.019 781.506 162.848 776.923 Q159.677 772.316 159.677 763.589 Q159.677 755.395 163.565 750.534 Q167.454 745.65 174.005 745.65 Q175.764 745.65 177.547 745.997 Q179.352 746.344 181.297 747.038 Z\" fill=\"#000000\" fill-rule=\"evenodd\" fill-opacity=\"1\" /><path clip-path=\"url(#clip370)\" d=\"M126.552 681.331 Q122.941 681.331 121.112 684.896 Q119.306 688.438 119.306 695.567 Q119.306 702.674 121.112 706.238 Q122.941 709.78 126.552 709.78 Q130.186 709.78 131.992 706.238 Q133.82 702.674 133.82 695.567 Q133.82 688.438 131.992 684.896 Q130.186 681.331 126.552 681.331 M126.552 677.627 Q132.362 677.627 135.417 682.234 Q138.496 686.817 138.496 695.567 Q138.496 704.294 135.417 708.9 Q132.362 713.484 126.552 713.484 Q120.742 713.484 117.663 708.9 Q114.607 704.294 114.607 695.567 Q114.607 686.817 117.663 682.234 Q120.742 677.627 126.552 677.627 Z\" fill=\"#000000\" fill-rule=\"evenodd\" fill-opacity=\"1\" /><path clip-path=\"url(#clip370)\" d=\"M146.714 706.933 L151.598 706.933 L151.598 712.812 L146.714 712.812 L146.714 706.933 Z\" fill=\"#000000\" fill-rule=\"evenodd\" fill-opacity=\"1\" /><path clip-path=\"url(#clip370)\" d=\"M161.922 712.095 L161.922 707.836 Q163.681 708.669 165.487 709.109 Q167.292 709.549 169.028 709.549 Q173.658 709.549 176.089 706.447 Q178.542 703.322 178.889 696.979 Q177.547 698.97 175.487 700.035 Q173.427 701.099 170.927 701.099 Q165.741 701.099 162.709 697.974 Q159.7 694.826 159.7 689.387 Q159.7 684.063 162.848 680.845 Q165.996 677.627 171.227 677.627 Q177.223 677.627 180.371 682.234 Q183.542 686.817 183.542 695.567 Q183.542 703.738 179.653 708.623 Q175.788 713.484 169.237 713.484 Q167.477 713.484 165.672 713.136 Q163.866 712.789 161.922 712.095 M171.227 697.442 Q174.376 697.442 176.204 695.289 Q178.056 693.137 178.056 689.387 Q178.056 685.66 176.204 683.507 Q174.376 681.331 171.227 681.331 Q168.079 681.331 166.227 683.507 Q164.399 685.66 164.399 689.387 Q164.399 693.137 166.227 695.289 Q168.079 697.442 171.227 697.442 Z\" fill=\"#000000\" fill-rule=\"evenodd\" fill-opacity=\"1\" /><path clip-path=\"url(#clip370)\" d=\"M118.774 640.855 L126.413 640.855 L126.413 614.489 L118.103 616.156 L118.103 611.897 L126.367 610.23 L131.042 610.23 L131.042 640.855 L138.681 640.855 L138.681 644.79 L118.774 644.79 L118.774 640.855 Z\" fill=\"#000000\" fill-rule=\"evenodd\" fill-opacity=\"1\" /><path clip-path=\"url(#clip370)\" d=\"M148.126 638.911 L153.01 638.911 L153.01 644.79 L148.126 644.79 L148.126 638.911 Z\" fill=\"#000000\" fill-rule=\"evenodd\" fill-opacity=\"1\" /><path clip-path=\"url(#clip370)\" d=\"M167.223 640.855 L183.542 640.855 L183.542 644.79 L161.598 644.79 L161.598 640.855 Q164.26 638.1 168.843 633.471 Q173.45 628.818 174.63 627.476 Q176.876 624.952 177.755 623.216 Q178.658 621.457 178.658 619.767 Q178.658 617.013 176.714 615.277 Q174.792 613.54 171.69 613.54 Q169.491 613.54 167.038 614.304 Q164.607 615.068 161.829 616.619 L161.829 611.897 Q164.653 610.763 167.107 610.184 Q169.561 609.605 171.598 609.605 Q176.968 609.605 180.163 612.29 Q183.357 614.976 183.357 619.466 Q183.357 621.596 182.547 623.517 Q181.76 625.415 179.653 628.008 Q179.075 628.679 175.973 631.897 Q172.871 635.091 167.223 640.855 Z\" fill=\"#000000\" fill-rule=\"evenodd\" fill-opacity=\"1\" /><path clip-path=\"url(#clip370)\" d=\"M39.4498 790.479 Q39.9007 790.479 40.9635 790.768 L66.1485 797.081 Q71.7523 798.466 75.6814 802.974 Q79.6106 807.451 79.6106 812.54 Q79.6106 815.599 77.9681 817.564 Q76.3578 819.528 73.8779 819.528 Q71.6879 819.528 70.6251 818.369 Q69.5945 817.209 69.5945 815.825 Q69.5945 815.374 69.7234 814.891 Q69.8522 814.407 70.3997 813.892 Q70.9472 813.377 71.8812 813.377 Q73.3948 813.377 74.5864 814.697 Q75.1339 815.341 75.2628 815.953 Q75.3916 816.533 75.3916 817.531 Q76.2934 817.145 76.9053 816.436 Q77.5172 815.728 77.7426 814.923 Q78.0003 814.118 78.0647 813.602 Q78.1613 813.055 78.1613 812.54 Q78.1613 808.417 74.0067 805.261 Q72.7507 804.327 71.4947 803.651 Q70.2709 802.942 68.7572 802.427 Q67.2757 801.912 66.4706 801.686 Q65.6654 801.428 63.8297 800.978 Q66.8248 803.973 66.8248 807.644 Q66.8248 809.19 66.4062 810.575 Q65.9875 811.928 65.1179 813.119 Q64.2162 814.311 62.6381 815.019 Q61.06 815.696 58.9666 815.696 Q56.7444 815.696 53.717 814.826 Q50.6897 813.957 45.1181 811.863 Q41.9941 810.736 40.4804 810.736 Q39.7397 810.736 39.2888 810.897 Q38.8057 811.058 38.6447 811.38 Q38.4515 811.702 38.4193 811.895 Q38.3871 812.056 38.3871 812.378 Q38.3871 814.279 40.3194 816.05 Q42.2518 817.821 46.5673 819.045 Q47.3725 819.303 47.5657 819.464 Q47.759 819.625 47.759 820.108 Q47.7268 820.913 47.0826 820.913 Q46.825 820.913 45.8266 820.623 Q44.796 820.333 43.2823 819.657 Q41.7365 818.948 40.3516 817.982 Q38.9346 817.016 37.9362 815.502 Q36.9378 813.957 36.9378 812.185 Q36.9378 809.77 38.5159 808.288 Q40.0618 806.775 42.3484 806.775 Q43.2823 806.775 44.1197 807.032 Q44.9248 807.258 47.0826 808.095 Q55.7782 811.477 60.0294 811.477 Q61.06 811.477 61.9295 811.316 Q62.7669 811.122 63.6042 810.704 Q64.4094 810.285 64.8925 809.448 Q65.3434 808.578 65.3434 807.387 Q65.3434 805.873 64.6348 804.456 Q63.8941 803.007 62.8957 802.105 Q61.8973 801.171 61.06 800.623 Q60.1904 800.044 59.7395 799.915 L47.8878 796.952 L42.606 795.631 Q39.7397 795.02 39.0312 794.73 Q38.3548 794.343 38.0006 793.667 Q37.6463 792.991 37.6463 792.411 Q37.6463 791.606 38.1294 791.058 Q38.6125 790.479 39.4498 790.479 Z\" fill=\"#000000\" fill-rule=\"evenodd\" fill-opacity=\"1\" /><path clip-path=\"url(#clip370)\" d=\"M82.5735 736.626 L16.6159 736.626 L16.6159 726.674 L18.1296 726.674 L18.1296 732.213 L81.0598 732.213 L81.0598 726.674 L82.5735 726.674 L82.5735 736.626 Z\" fill=\"#000000\" fill-rule=\"evenodd\" fill-opacity=\"1\" /><path clip-path=\"url(#clip370)\" d=\"M48.6607 674.933 Q49.0472 674.547 49.5947 674.547 Q50.1422 674.547 50.5287 674.933 Q50.9151 675.32 50.9151 675.867 L50.9151 717.155 Q50.9151 717.702 50.5287 718.089 Q50.1422 718.475 49.5947 718.475 Q49.0472 718.475 48.6607 718.089 Q48.2743 717.702 48.2743 717.155 L48.2743 675.867 Q48.2743 675.32 48.6607 674.933 Z\" fill=\"#000000\" fill-rule=\"evenodd\" fill-opacity=\"1\" /><path clip-path=\"url(#clip370)\" d=\"M81.0598 667.661 L81.0598 662.122 L18.1296 662.122 L18.1296 667.661 L16.6159 667.661 L16.6159 657.71 L82.5735 657.71 L82.5735 667.661 L81.0598 667.661 Z\" fill=\"#000000\" fill-rule=\"evenodd\" fill-opacity=\"1\" /><polyline clip-path=\"url(#clip374)\" style=\"stroke:#000000; stroke-linecap:round; stroke-linejoin:round; stroke-width:4; stroke-opacity:1; fill:none\" stroke-dasharray=\"2, 4\" points=\"279.916,661.521 357.319,661.521 434.721,661.521 512.124,661.521 589.526,661.521 666.929,661.521 744.331,661.521 821.734,661.521 899.136,661.521 976.539,661.521 1053.94,661.521 1131.34,661.521 1208.75,661.521 1286.15,661.521 1363.55,661.521 1440.95,661.521 1518.36,661.521 1595.76,661.521 1673.16,661.521 1750.56,661.521 1827.97,661.521 1905.37,661.521 1982.77,661.521 2060.17,661.521 2137.58,661.521 2214.98,661.521 2292.38,661.521 \"/>\n",
       "<polyline clip-path=\"url(#clip374)\" style=\"stroke:#000000; stroke-linecap:round; stroke-linejoin:round; stroke-width:12; stroke-opacity:1; fill:none\" points=\"279.916,761.056 357.319,756.767 434.721,740.758 512.124,719.307 589.526,698.204 666.929,680.608 744.331,668.228 821.734,661.601 899.136,659.445 976.539,659.692 1053.94,660.554 1131.34,660.78 1208.75,660.436 1286.15,660.354 1363.55,660.398 1440.95,660.387 1518.36,660.388 1595.76,660.388 1673.16,660.388 1750.56,660.388 1827.97,660.388 1905.37,660.388 1982.77,660.388 2060.17,660.388 2137.58,660.388 2214.98,660.388 2292.38,660.388 \"/>\n",
       "<circle clip-path=\"url(#clip374)\" cx=\"279.916\" cy=\"761.056\" r=\"10.8\" fill=\"#000000\" fill-rule=\"evenodd\" fill-opacity=\"1\" stroke=\"none\"/>\n",
       "<circle clip-path=\"url(#clip374)\" cx=\"357.319\" cy=\"756.767\" r=\"10.8\" fill=\"#000000\" fill-rule=\"evenodd\" fill-opacity=\"1\" stroke=\"none\"/>\n",
       "<circle clip-path=\"url(#clip374)\" cx=\"434.721\" cy=\"740.758\" r=\"10.8\" fill=\"#000000\" fill-rule=\"evenodd\" fill-opacity=\"1\" stroke=\"none\"/>\n",
       "<circle clip-path=\"url(#clip374)\" cx=\"512.124\" cy=\"719.307\" r=\"10.8\" fill=\"#000000\" fill-rule=\"evenodd\" fill-opacity=\"1\" stroke=\"none\"/>\n",
       "<circle clip-path=\"url(#clip374)\" cx=\"589.526\" cy=\"698.204\" r=\"10.8\" fill=\"#000000\" fill-rule=\"evenodd\" fill-opacity=\"1\" stroke=\"none\"/>\n",
       "<circle clip-path=\"url(#clip374)\" cx=\"666.929\" cy=\"680.608\" r=\"10.8\" fill=\"#000000\" fill-rule=\"evenodd\" fill-opacity=\"1\" stroke=\"none\"/>\n",
       "<circle clip-path=\"url(#clip374)\" cx=\"744.331\" cy=\"668.228\" r=\"10.8\" fill=\"#000000\" fill-rule=\"evenodd\" fill-opacity=\"1\" stroke=\"none\"/>\n",
       "<circle clip-path=\"url(#clip374)\" cx=\"821.734\" cy=\"661.601\" r=\"10.8\" fill=\"#000000\" fill-rule=\"evenodd\" fill-opacity=\"1\" stroke=\"none\"/>\n",
       "<circle clip-path=\"url(#clip374)\" cx=\"899.136\" cy=\"659.445\" r=\"10.8\" fill=\"#000000\" fill-rule=\"evenodd\" fill-opacity=\"1\" stroke=\"none\"/>\n",
       "<circle clip-path=\"url(#clip374)\" cx=\"976.539\" cy=\"659.692\" r=\"10.8\" fill=\"#000000\" fill-rule=\"evenodd\" fill-opacity=\"1\" stroke=\"none\"/>\n",
       "<circle clip-path=\"url(#clip374)\" cx=\"1053.94\" cy=\"660.554\" r=\"10.8\" fill=\"#000000\" fill-rule=\"evenodd\" fill-opacity=\"1\" stroke=\"none\"/>\n",
       "<circle clip-path=\"url(#clip374)\" cx=\"1131.34\" cy=\"660.78\" r=\"10.8\" fill=\"#000000\" fill-rule=\"evenodd\" fill-opacity=\"1\" stroke=\"none\"/>\n",
       "<circle clip-path=\"url(#clip374)\" cx=\"1208.75\" cy=\"660.436\" r=\"10.8\" fill=\"#000000\" fill-rule=\"evenodd\" fill-opacity=\"1\" stroke=\"none\"/>\n",
       "<circle clip-path=\"url(#clip374)\" cx=\"1286.15\" cy=\"660.354\" r=\"10.8\" fill=\"#000000\" fill-rule=\"evenodd\" fill-opacity=\"1\" stroke=\"none\"/>\n",
       "<circle clip-path=\"url(#clip374)\" cx=\"1363.55\" cy=\"660.398\" r=\"10.8\" fill=\"#000000\" fill-rule=\"evenodd\" fill-opacity=\"1\" stroke=\"none\"/>\n",
       "<circle clip-path=\"url(#clip374)\" cx=\"1440.95\" cy=\"660.387\" r=\"10.8\" fill=\"#000000\" fill-rule=\"evenodd\" fill-opacity=\"1\" stroke=\"none\"/>\n",
       "<circle clip-path=\"url(#clip374)\" cx=\"1518.36\" cy=\"660.388\" r=\"10.8\" fill=\"#000000\" fill-rule=\"evenodd\" fill-opacity=\"1\" stroke=\"none\"/>\n",
       "<circle clip-path=\"url(#clip374)\" cx=\"1595.76\" cy=\"660.388\" r=\"10.8\" fill=\"#000000\" fill-rule=\"evenodd\" fill-opacity=\"1\" stroke=\"none\"/>\n",
       "<circle clip-path=\"url(#clip374)\" cx=\"1673.16\" cy=\"660.388\" r=\"10.8\" fill=\"#000000\" fill-rule=\"evenodd\" fill-opacity=\"1\" stroke=\"none\"/>\n",
       "<circle clip-path=\"url(#clip374)\" cx=\"1750.56\" cy=\"660.388\" r=\"10.8\" fill=\"#000000\" fill-rule=\"evenodd\" fill-opacity=\"1\" stroke=\"none\"/>\n",
       "<circle clip-path=\"url(#clip374)\" cx=\"1827.97\" cy=\"660.388\" r=\"10.8\" fill=\"#000000\" fill-rule=\"evenodd\" fill-opacity=\"1\" stroke=\"none\"/>\n",
       "<circle clip-path=\"url(#clip374)\" cx=\"1905.37\" cy=\"660.388\" r=\"10.8\" fill=\"#000000\" fill-rule=\"evenodd\" fill-opacity=\"1\" stroke=\"none\"/>\n",
       "<circle clip-path=\"url(#clip374)\" cx=\"1982.77\" cy=\"660.388\" r=\"10.8\" fill=\"#000000\" fill-rule=\"evenodd\" fill-opacity=\"1\" stroke=\"none\"/>\n",
       "<circle clip-path=\"url(#clip374)\" cx=\"2060.17\" cy=\"660.388\" r=\"10.8\" fill=\"#000000\" fill-rule=\"evenodd\" fill-opacity=\"1\" stroke=\"none\"/>\n",
       "<circle clip-path=\"url(#clip374)\" cx=\"2137.58\" cy=\"660.388\" r=\"10.8\" fill=\"#000000\" fill-rule=\"evenodd\" fill-opacity=\"1\" stroke=\"none\"/>\n",
       "<circle clip-path=\"url(#clip374)\" cx=\"2214.98\" cy=\"660.388\" r=\"10.8\" fill=\"#000000\" fill-rule=\"evenodd\" fill-opacity=\"1\" stroke=\"none\"/>\n",
       "<circle clip-path=\"url(#clip374)\" cx=\"2292.38\" cy=\"660.388\" r=\"10.8\" fill=\"#000000\" fill-rule=\"evenodd\" fill-opacity=\"1\" stroke=\"none\"/>\n",
       "<polyline clip-path=\"url(#clip374)\" style=\"stroke:#000000; stroke-linecap:round; stroke-linejoin:round; stroke-width:12; stroke-opacity:1; fill:none\" stroke-dasharray=\"48, 24, 6, 24\" points=\"279.916,761.056 357.319,756.767 434.721,740.758 512.124,719.307 589.526,698.204 666.929,680.608 744.331,668.227 821.734,661.601 899.136,659.445 976.539,659.692 1053.94,660.554 1131.34,660.78 1208.75,660.436 1286.15,660.354 1363.55,660.398 1440.95,660.387 1518.36,660.388 1595.76,660.388 1673.16,660.388 1750.56,660.388 1827.97,660.388 1905.37,660.388 1982.77,660.388 2060.17,660.388 2137.58,660.388 2214.98,660.388 2292.38,660.388 \"/>\n",
       "<path clip-path=\"url(#clip374)\" d=\"M267.916 749.056 L267.916 773.056 L291.916 773.056 L291.916 749.056 L267.916 749.056 Z\" fill=\"#000000\" fill-rule=\"evenodd\" fill-opacity=\"1\" stroke=\"none\"/>\n",
       "<path clip-path=\"url(#clip374)\" d=\"M345.319 744.767 L345.319 768.767 L369.319 768.767 L369.319 744.767 L345.319 744.767 Z\" fill=\"#000000\" fill-rule=\"evenodd\" fill-opacity=\"1\" stroke=\"none\"/>\n",
       "<path clip-path=\"url(#clip374)\" d=\"M422.721 728.758 L422.721 752.758 L446.721 752.758 L446.721 728.758 L422.721 728.758 Z\" fill=\"#000000\" fill-rule=\"evenodd\" fill-opacity=\"1\" stroke=\"none\"/>\n",
       "<path clip-path=\"url(#clip374)\" d=\"M500.124 707.307 L500.124 731.307 L524.124 731.307 L524.124 707.307 L500.124 707.307 Z\" fill=\"#000000\" fill-rule=\"evenodd\" fill-opacity=\"1\" stroke=\"none\"/>\n",
       "<path clip-path=\"url(#clip374)\" d=\"M577.526 686.204 L577.526 710.204 L601.526 710.204 L601.526 686.204 L577.526 686.204 Z\" fill=\"#000000\" fill-rule=\"evenodd\" fill-opacity=\"1\" stroke=\"none\"/>\n",
       "<path clip-path=\"url(#clip374)\" d=\"M654.929 668.608 L654.929 692.608 L678.929 692.608 L678.929 668.608 L654.929 668.608 Z\" fill=\"#000000\" fill-rule=\"evenodd\" fill-opacity=\"1\" stroke=\"none\"/>\n",
       "<path clip-path=\"url(#clip374)\" d=\"M732.331 656.227 L732.331 680.227 L756.331 680.227 L756.331 656.227 L732.331 656.227 Z\" fill=\"#000000\" fill-rule=\"evenodd\" fill-opacity=\"1\" stroke=\"none\"/>\n",
       "<path clip-path=\"url(#clip374)\" d=\"M809.734 649.601 L809.734 673.601 L833.734 673.601 L833.734 649.601 L809.734 649.601 Z\" fill=\"#000000\" fill-rule=\"evenodd\" fill-opacity=\"1\" stroke=\"none\"/>\n",
       "<path clip-path=\"url(#clip374)\" d=\"M887.136 647.445 L887.136 671.445 L911.136 671.445 L911.136 647.445 L887.136 647.445 Z\" fill=\"#000000\" fill-rule=\"evenodd\" fill-opacity=\"1\" stroke=\"none\"/>\n",
       "<path clip-path=\"url(#clip374)\" d=\"M964.539 647.692 L964.539 671.692 L988.539 671.692 L988.539 647.692 L964.539 647.692 Z\" fill=\"#000000\" fill-rule=\"evenodd\" fill-opacity=\"1\" stroke=\"none\"/>\n",
       "<path clip-path=\"url(#clip374)\" d=\"M1041.94 648.554 L1041.94 672.554 L1065.94 672.554 L1065.94 648.554 L1041.94 648.554 Z\" fill=\"#000000\" fill-rule=\"evenodd\" fill-opacity=\"1\" stroke=\"none\"/>\n",
       "<path clip-path=\"url(#clip374)\" d=\"M1119.34 648.78 L1119.34 672.78 L1143.34 672.78 L1143.34 648.78 L1119.34 648.78 Z\" fill=\"#000000\" fill-rule=\"evenodd\" fill-opacity=\"1\" stroke=\"none\"/>\n",
       "<path clip-path=\"url(#clip374)\" d=\"M1196.75 648.436 L1196.75 672.436 L1220.75 672.436 L1220.75 648.436 L1196.75 648.436 Z\" fill=\"#000000\" fill-rule=\"evenodd\" fill-opacity=\"1\" stroke=\"none\"/>\n",
       "<path clip-path=\"url(#clip374)\" d=\"M1274.15 648.354 L1274.15 672.354 L1298.15 672.354 L1298.15 648.354 L1274.15 648.354 Z\" fill=\"#000000\" fill-rule=\"evenodd\" fill-opacity=\"1\" stroke=\"none\"/>\n",
       "<path clip-path=\"url(#clip374)\" d=\"M1351.55 648.398 L1351.55 672.398 L1375.55 672.398 L1375.55 648.398 L1351.55 648.398 Z\" fill=\"#000000\" fill-rule=\"evenodd\" fill-opacity=\"1\" stroke=\"none\"/>\n",
       "<path clip-path=\"url(#clip374)\" d=\"M1428.95 648.387 L1428.95 672.387 L1452.95 672.387 L1452.95 648.387 L1428.95 648.387 Z\" fill=\"#000000\" fill-rule=\"evenodd\" fill-opacity=\"1\" stroke=\"none\"/>\n",
       "<path clip-path=\"url(#clip374)\" d=\"M1506.36 648.388 L1506.36 672.388 L1530.36 672.388 L1530.36 648.388 L1506.36 648.388 Z\" fill=\"#000000\" fill-rule=\"evenodd\" fill-opacity=\"1\" stroke=\"none\"/>\n",
       "<path clip-path=\"url(#clip374)\" d=\"M1583.76 648.388 L1583.76 672.388 L1607.76 672.388 L1607.76 648.388 L1583.76 648.388 Z\" fill=\"#000000\" fill-rule=\"evenodd\" fill-opacity=\"1\" stroke=\"none\"/>\n",
       "<path clip-path=\"url(#clip374)\" d=\"M1661.16 648.388 L1661.16 672.388 L1685.16 672.388 L1685.16 648.388 L1661.16 648.388 Z\" fill=\"#000000\" fill-rule=\"evenodd\" fill-opacity=\"1\" stroke=\"none\"/>\n",
       "<path clip-path=\"url(#clip374)\" d=\"M1738.56 648.388 L1738.56 672.388 L1762.56 672.388 L1762.56 648.388 L1738.56 648.388 Z\" fill=\"#000000\" fill-rule=\"evenodd\" fill-opacity=\"1\" stroke=\"none\"/>\n",
       "<path clip-path=\"url(#clip374)\" d=\"M1815.97 648.388 L1815.97 672.388 L1839.97 672.388 L1839.97 648.388 L1815.97 648.388 Z\" fill=\"#000000\" fill-rule=\"evenodd\" fill-opacity=\"1\" stroke=\"none\"/>\n",
       "<path clip-path=\"url(#clip374)\" d=\"M1893.37 648.388 L1893.37 672.388 L1917.37 672.388 L1917.37 648.388 L1893.37 648.388 Z\" fill=\"#000000\" fill-rule=\"evenodd\" fill-opacity=\"1\" stroke=\"none\"/>\n",
       "<path clip-path=\"url(#clip374)\" d=\"M1970.77 648.388 L1970.77 672.388 L1994.77 672.388 L1994.77 648.388 L1970.77 648.388 Z\" fill=\"#000000\" fill-rule=\"evenodd\" fill-opacity=\"1\" stroke=\"none\"/>\n",
       "<path clip-path=\"url(#clip374)\" d=\"M2048.17 648.388 L2048.17 672.388 L2072.17 672.388 L2072.17 648.388 L2048.17 648.388 Z\" fill=\"#000000\" fill-rule=\"evenodd\" fill-opacity=\"1\" stroke=\"none\"/>\n",
       "<path clip-path=\"url(#clip374)\" d=\"M2125.58 648.388 L2125.58 672.388 L2149.58 672.388 L2149.58 648.388 L2125.58 648.388 Z\" fill=\"#000000\" fill-rule=\"evenodd\" fill-opacity=\"1\" stroke=\"none\"/>\n",
       "<path clip-path=\"url(#clip374)\" d=\"M2202.98 648.388 L2202.98 672.388 L2226.98 672.388 L2226.98 648.388 L2202.98 648.388 Z\" fill=\"#000000\" fill-rule=\"evenodd\" fill-opacity=\"1\" stroke=\"none\"/>\n",
       "<path clip-path=\"url(#clip374)\" d=\"M2280.38 648.388 L2280.38 672.388 L2304.38 672.388 L2304.38 648.388 L2280.38 648.388 Z\" fill=\"#000000\" fill-rule=\"evenodd\" fill-opacity=\"1\" stroke=\"none\"/>\n",
       "<path clip-path=\"url(#clip370)\" d=\"M219.542 1423.18 L2352.76 1423.18 L2352.76 1071.73 L219.542 1071.73  Z\" fill=\"#ffffff\" fill-rule=\"evenodd\" fill-opacity=\"1\"/>\n",
       "<defs>\n",
       "  <clipPath id=\"clip375\">\n",
       "    <rect x=\"219\" y=\"1071\" width=\"2134\" height=\"352\"/>\n",
       "  </clipPath>\n",
       "</defs>\n",
       "<polyline clip-path=\"url(#clip375)\" style=\"stroke:#000000; stroke-linecap:round; stroke-linejoin:round; stroke-width:8; stroke-opacity:0.1; fill:none\" points=\"589.526,1423.18 589.526,1071.73 \"/>\n",
       "<polyline clip-path=\"url(#clip375)\" style=\"stroke:#000000; stroke-linecap:round; stroke-linejoin:round; stroke-width:8; stroke-opacity:0.1; fill:none\" points=\"976.539,1423.18 976.539,1071.73 \"/>\n",
       "<polyline clip-path=\"url(#clip375)\" style=\"stroke:#000000; stroke-linecap:round; stroke-linejoin:round; stroke-width:8; stroke-opacity:0.1; fill:none\" points=\"1363.55,1423.18 1363.55,1071.73 \"/>\n",
       "<polyline clip-path=\"url(#clip375)\" style=\"stroke:#000000; stroke-linecap:round; stroke-linejoin:round; stroke-width:8; stroke-opacity:0.1; fill:none\" points=\"1750.56,1423.18 1750.56,1071.73 \"/>\n",
       "<polyline clip-path=\"url(#clip375)\" style=\"stroke:#000000; stroke-linecap:round; stroke-linejoin:round; stroke-width:8; stroke-opacity:0.1; fill:none\" points=\"2137.58,1423.18 2137.58,1071.73 \"/>\n",
       "<polyline clip-path=\"url(#clip370)\" style=\"stroke:#000000; stroke-linecap:round; stroke-linejoin:round; stroke-width:4; stroke-opacity:1; fill:none\" points=\"219.542,1423.18 2352.76,1423.18 \"/>\n",
       "<polyline clip-path=\"url(#clip370)\" style=\"stroke:#000000; stroke-linecap:round; stroke-linejoin:round; stroke-width:4; stroke-opacity:1; fill:none\" points=\"589.526,1423.18 589.526,1404.28 \"/>\n",
       "<polyline clip-path=\"url(#clip370)\" style=\"stroke:#000000; stroke-linecap:round; stroke-linejoin:round; stroke-width:4; stroke-opacity:1; fill:none\" points=\"976.539,1423.18 976.539,1404.28 \"/>\n",
       "<polyline clip-path=\"url(#clip370)\" style=\"stroke:#000000; stroke-linecap:round; stroke-linejoin:round; stroke-width:4; stroke-opacity:1; fill:none\" points=\"1363.55,1423.18 1363.55,1404.28 \"/>\n",
       "<polyline clip-path=\"url(#clip370)\" style=\"stroke:#000000; stroke-linecap:round; stroke-linejoin:round; stroke-width:4; stroke-opacity:1; fill:none\" points=\"1750.56,1423.18 1750.56,1404.28 \"/>\n",
       "<polyline clip-path=\"url(#clip370)\" style=\"stroke:#000000; stroke-linecap:round; stroke-linejoin:round; stroke-width:4; stroke-opacity:1; fill:none\" points=\"2137.58,1423.18 2137.58,1404.28 \"/>\n",
       "<path clip-path=\"url(#clip370)\" d=\"M579.804 1451.02 L598.16 1451.02 L598.16 1454.96 L584.086 1454.96 L584.086 1463.43 Q585.105 1463.08 586.124 1462.92 Q587.142 1462.73 588.161 1462.73 Q593.948 1462.73 597.327 1465.9 Q600.707 1469.08 600.707 1474.49 Q600.707 1480.07 597.235 1483.17 Q593.762 1486.25 587.443 1486.25 Q585.267 1486.25 582.999 1485.88 Q580.753 1485.51 578.346 1484.77 L578.346 1480.07 Q580.429 1481.2 582.651 1481.76 Q584.874 1482.32 587.35 1482.32 Q591.355 1482.32 593.693 1480.21 Q596.031 1478.1 596.031 1474.49 Q596.031 1470.88 593.693 1468.77 Q591.355 1466.67 587.35 1466.67 Q585.475 1466.67 583.6 1467.08 Q581.749 1467.5 579.804 1468.38 L579.804 1451.02 Z\" fill=\"#000000\" fill-rule=\"evenodd\" fill-opacity=\"1\" /><path clip-path=\"url(#clip370)\" d=\"M951.227 1481.64 L958.865 1481.64 L958.865 1455.28 L950.555 1456.95 L950.555 1452.69 L958.819 1451.02 L963.495 1451.02 L963.495 1481.64 L971.134 1481.64 L971.134 1485.58 L951.227 1485.58 L951.227 1481.64 Z\" fill=\"#000000\" fill-rule=\"evenodd\" fill-opacity=\"1\" /><path clip-path=\"url(#clip370)\" d=\"M990.578 1454.1 Q986.967 1454.1 985.138 1457.66 Q983.333 1461.2 983.333 1468.33 Q983.333 1475.44 985.138 1479.01 Q986.967 1482.55 990.578 1482.55 Q994.212 1482.55 996.018 1479.01 Q997.847 1475.44 997.847 1468.33 Q997.847 1461.2 996.018 1457.66 Q994.212 1454.1 990.578 1454.1 M990.578 1450.39 Q996.388 1450.39 999.444 1455 Q1002.52 1459.58 1002.52 1468.33 Q1002.52 1477.06 999.444 1481.67 Q996.388 1486.25 990.578 1486.25 Q984.768 1486.25 981.689 1481.67 Q978.634 1477.06 978.634 1468.33 Q978.634 1459.58 981.689 1455 Q984.768 1450.39 990.578 1450.39 Z\" fill=\"#000000\" fill-rule=\"evenodd\" fill-opacity=\"1\" /><path clip-path=\"url(#clip370)\" d=\"M1338.74 1481.64 L1346.38 1481.64 L1346.38 1455.28 L1338.07 1456.95 L1338.07 1452.69 L1346.33 1451.02 L1351.01 1451.02 L1351.01 1481.64 L1358.64 1481.64 L1358.64 1485.58 L1338.74 1485.58 L1338.74 1481.64 Z\" fill=\"#000000\" fill-rule=\"evenodd\" fill-opacity=\"1\" /><path clip-path=\"url(#clip370)\" d=\"M1368.13 1451.02 L1386.49 1451.02 L1386.49 1454.96 L1372.42 1454.96 L1372.42 1463.43 Q1373.44 1463.08 1374.45 1462.92 Q1375.47 1462.73 1376.49 1462.73 Q1382.28 1462.73 1385.66 1465.9 Q1389.04 1469.08 1389.04 1474.49 Q1389.04 1480.07 1385.57 1483.17 Q1382.09 1486.25 1375.77 1486.25 Q1373.6 1486.25 1371.33 1485.88 Q1369.08 1485.51 1366.68 1484.77 L1366.68 1480.07 Q1368.76 1481.2 1370.98 1481.76 Q1373.2 1482.32 1375.68 1482.32 Q1379.69 1482.32 1382.02 1480.21 Q1384.36 1478.1 1384.36 1474.49 Q1384.36 1470.88 1382.02 1468.77 Q1379.69 1466.67 1375.68 1466.67 Q1373.81 1466.67 1371.93 1467.08 Q1370.08 1467.5 1368.13 1468.38 L1368.13 1451.02 Z\" fill=\"#000000\" fill-rule=\"evenodd\" fill-opacity=\"1\" /><path clip-path=\"url(#clip370)\" d=\"M1729.34 1481.64 L1745.66 1481.64 L1745.66 1485.58 L1723.71 1485.58 L1723.71 1481.64 Q1726.37 1478.89 1730.96 1474.26 Q1735.56 1469.61 1736.74 1468.27 Q1738.99 1465.74 1739.87 1464.01 Q1740.77 1462.25 1740.77 1460.56 Q1740.77 1457.8 1738.83 1456.07 Q1736.91 1454.33 1733.81 1454.33 Q1731.61 1454.33 1729.15 1455.09 Q1726.72 1455.86 1723.94 1457.41 L1723.94 1452.69 Q1726.77 1451.55 1729.22 1450.97 Q1731.68 1450.39 1733.71 1450.39 Q1739.08 1450.39 1742.28 1453.08 Q1745.47 1455.77 1745.47 1460.26 Q1745.47 1462.39 1744.66 1464.31 Q1743.87 1466.2 1741.77 1468.8 Q1741.19 1469.47 1738.09 1472.69 Q1734.99 1475.88 1729.34 1481.64 Z\" fill=\"#000000\" fill-rule=\"evenodd\" fill-opacity=\"1\" /><path clip-path=\"url(#clip370)\" d=\"M1765.47 1454.1 Q1761.86 1454.1 1760.03 1457.66 Q1758.23 1461.2 1758.23 1468.33 Q1758.23 1475.44 1760.03 1479.01 Q1761.86 1482.55 1765.47 1482.55 Q1769.11 1482.55 1770.91 1479.01 Q1772.74 1475.44 1772.74 1468.33 Q1772.74 1461.2 1770.91 1457.66 Q1769.11 1454.1 1765.47 1454.1 M1765.47 1450.39 Q1771.28 1450.39 1774.34 1455 Q1777.42 1459.58 1777.42 1468.33 Q1777.42 1477.06 1774.34 1481.67 Q1771.28 1486.25 1765.47 1486.25 Q1759.66 1486.25 1756.58 1481.67 Q1753.53 1477.06 1753.53 1468.33 Q1753.53 1459.58 1756.58 1455 Q1759.66 1450.39 1765.47 1450.39 Z\" fill=\"#000000\" fill-rule=\"evenodd\" fill-opacity=\"1\" /><path clip-path=\"url(#clip370)\" d=\"M2116.85 1481.64 L2133.17 1481.64 L2133.17 1485.58 L2111.22 1485.58 L2111.22 1481.64 Q2113.88 1478.89 2118.47 1474.26 Q2123.07 1469.61 2124.26 1468.27 Q2126.5 1465.74 2127.38 1464.01 Q2128.28 1462.25 2128.28 1460.56 Q2128.28 1457.8 2126.34 1456.07 Q2124.42 1454.33 2121.32 1454.33 Q2119.12 1454.33 2116.66 1455.09 Q2114.23 1455.86 2111.45 1457.41 L2111.45 1452.69 Q2114.28 1451.55 2116.73 1450.97 Q2119.19 1450.39 2121.22 1450.39 Q2126.59 1450.39 2129.79 1453.08 Q2132.98 1455.77 2132.98 1460.26 Q2132.98 1462.39 2132.17 1464.31 Q2131.38 1466.2 2129.28 1468.8 Q2128.7 1469.47 2125.6 1472.69 Q2122.5 1475.88 2116.85 1481.64 Z\" fill=\"#000000\" fill-rule=\"evenodd\" fill-opacity=\"1\" /><path clip-path=\"url(#clip370)\" d=\"M2143.03 1451.02 L2161.38 1451.02 L2161.38 1454.96 L2147.31 1454.96 L2147.31 1463.43 Q2148.33 1463.08 2149.35 1462.92 Q2150.37 1462.73 2151.38 1462.73 Q2157.17 1462.73 2160.55 1465.9 Q2163.93 1469.08 2163.93 1474.49 Q2163.93 1480.07 2160.46 1483.17 Q2156.99 1486.25 2150.67 1486.25 Q2148.49 1486.25 2146.22 1485.88 Q2143.98 1485.51 2141.57 1484.77 L2141.57 1480.07 Q2143.65 1481.2 2145.88 1481.76 Q2148.1 1482.32 2150.57 1482.32 Q2154.58 1482.32 2156.92 1480.21 Q2159.25 1478.1 2159.25 1474.49 Q2159.25 1470.88 2156.92 1468.77 Q2154.58 1466.67 2150.57 1466.67 Q2148.7 1466.67 2146.82 1467.08 Q2144.97 1467.5 2143.03 1468.38 L2143.03 1451.02 Z\" fill=\"#000000\" fill-rule=\"evenodd\" fill-opacity=\"1\" /><path clip-path=\"url(#clip370)\" d=\"M1129.12 1522.27 L1129.12 1532.4 L1141.19 1532.4 L1141.19 1536.95 L1129.12 1536.95 L1129.12 1556.3 Q1129.12 1560.66 1130.3 1561.9 Q1131.51 1563.14 1135.17 1563.14 L1141.19 1563.14 L1141.19 1568.04 L1135.17 1568.04 Q1128.39 1568.04 1125.81 1565.53 Q1123.23 1562.98 1123.23 1556.3 L1123.23 1536.95 L1118.94 1536.95 L1118.94 1532.4 L1123.23 1532.4 L1123.23 1522.27 L1129.12 1522.27 Z\" fill=\"#000000\" fill-rule=\"evenodd\" fill-opacity=\"1\" /><path clip-path=\"url(#clip370)\" d=\"M1148.89 1532.4 L1154.74 1532.4 L1154.74 1568.04 L1148.89 1568.04 L1148.89 1532.4 M1148.89 1518.52 L1154.74 1518.52 L1154.74 1525.93 L1148.89 1525.93 L1148.89 1518.52 Z\" fill=\"#000000\" fill-rule=\"evenodd\" fill-opacity=\"1\" /><path clip-path=\"url(#clip370)\" d=\"M1194.75 1539.24 Q1196.95 1535.29 1200.01 1533.41 Q1203.06 1531.54 1207.2 1531.54 Q1212.77 1531.54 1215.79 1535.45 Q1218.82 1539.33 1218.82 1546.53 L1218.82 1568.04 L1212.93 1568.04 L1212.93 1546.72 Q1212.93 1541.59 1211.11 1539.11 Q1209.3 1536.63 1205.58 1536.63 Q1201.02 1536.63 1198.38 1539.65 Q1195.74 1542.68 1195.74 1547.9 L1195.74 1568.04 L1189.85 1568.04 L1189.85 1546.72 Q1189.85 1541.56 1188.04 1539.11 Q1186.22 1536.63 1182.44 1536.63 Q1177.95 1536.63 1175.31 1539.68 Q1172.66 1542.71 1172.66 1547.9 L1172.66 1568.04 L1166.78 1568.04 L1166.78 1532.4 L1172.66 1532.4 L1172.66 1537.93 Q1174.67 1534.66 1177.47 1533.1 Q1180.27 1531.54 1184.12 1531.54 Q1188.01 1531.54 1190.71 1533.51 Q1193.45 1535.48 1194.75 1539.24 Z\" fill=\"#000000\" fill-rule=\"evenodd\" fill-opacity=\"1\" /><path clip-path=\"url(#clip370)\" d=\"M1260.99 1548.76 L1260.99 1551.62 L1234.06 1551.62 Q1234.44 1557.67 1237.69 1560.85 Q1240.97 1564 1246.79 1564 Q1250.17 1564 1253.32 1563.17 Q1256.5 1562.35 1259.62 1560.69 L1259.62 1566.23 Q1256.47 1567.57 1253.16 1568.27 Q1249.85 1568.97 1246.44 1568.97 Q1237.91 1568.97 1232.92 1564 Q1227.95 1559.04 1227.95 1550.57 Q1227.95 1541.82 1232.66 1536.69 Q1237.4 1531.54 1245.42 1531.54 Q1252.62 1531.54 1256.79 1536.18 Q1260.99 1540.8 1260.99 1548.76 M1255.13 1547.04 Q1255.07 1542.23 1252.43 1539.37 Q1249.82 1536.5 1245.49 1536.5 Q1240.59 1536.5 1237.63 1539.27 Q1234.7 1542.04 1234.25 1547.07 L1255.13 1547.04 Z\" fill=\"#000000\" fill-rule=\"evenodd\" fill-opacity=\"1\" /><path clip-path=\"url(#clip370)\" d=\"M1290.78 1518.52 L1304.28 1518.52 L1304.28 1523.07 L1296.64 1523.07 L1296.64 1572.09 L1304.28 1572.09 L1304.28 1576.64 L1290.78 1576.64 L1290.78 1518.52 Z\" fill=\"#000000\" fill-rule=\"evenodd\" fill-opacity=\"1\" /><path clip-path=\"url(#clip370)\" d=\"M1344.51 1539.24 Q1346.7 1535.29 1349.76 1533.41 Q1352.81 1531.54 1356.95 1531.54 Q1362.52 1531.54 1365.55 1535.45 Q1368.57 1539.33 1368.57 1546.53 L1368.57 1568.04 L1362.68 1568.04 L1362.68 1546.72 Q1362.68 1541.59 1360.87 1539.11 Q1359.05 1536.63 1355.33 1536.63 Q1350.78 1536.63 1348.14 1539.65 Q1345.49 1542.68 1345.49 1547.9 L1345.49 1568.04 L1339.61 1568.04 L1339.61 1546.72 Q1339.61 1541.56 1337.79 1539.11 Q1335.98 1536.63 1332.19 1536.63 Q1327.7 1536.63 1325.06 1539.68 Q1322.42 1542.71 1322.42 1547.9 L1322.42 1568.04 L1316.53 1568.04 L1316.53 1532.4 L1322.42 1532.4 L1322.42 1537.93 Q1324.42 1534.66 1327.22 1533.1 Q1330.02 1531.54 1333.88 1531.54 Q1337.76 1531.54 1340.46 1533.51 Q1343.2 1535.48 1344.51 1539.24 Z\" fill=\"#000000\" fill-rule=\"evenodd\" fill-opacity=\"1\" /><path clip-path=\"url(#clip370)\" d=\"M1380.25 1532.4 L1386.11 1532.4 L1386.11 1568.04 L1380.25 1568.04 L1380.25 1532.4 M1380.25 1518.52 L1386.11 1518.52 L1386.11 1525.93 L1380.25 1525.93 L1380.25 1518.52 Z\" fill=\"#000000\" fill-rule=\"evenodd\" fill-opacity=\"1\" /><path clip-path=\"url(#clip370)\" d=\"M1427.99 1546.53 L1427.99 1568.04 L1422.14 1568.04 L1422.14 1546.72 Q1422.14 1541.66 1420.16 1539.14 Q1418.19 1536.63 1414.24 1536.63 Q1409.5 1536.63 1406.76 1539.65 Q1404.03 1542.68 1404.03 1547.9 L1404.03 1568.04 L1398.14 1568.04 L1398.14 1532.4 L1404.03 1532.4 L1404.03 1537.93 Q1406.13 1534.72 1408.96 1533.13 Q1411.82 1531.54 1415.55 1531.54 Q1421.69 1531.54 1424.84 1535.36 Q1427.99 1539.14 1427.99 1546.53 Z\" fill=\"#000000\" fill-rule=\"evenodd\" fill-opacity=\"1\" /><path clip-path=\"url(#clip370)\" d=\"M1453.36 1518.52 L1453.36 1576.64 L1439.86 1576.64 L1439.86 1572.09 L1447.47 1572.09 L1447.47 1523.07 L1439.86 1523.07 L1439.86 1518.52 L1453.36 1518.52 Z\" fill=\"#000000\" fill-rule=\"evenodd\" fill-opacity=\"1\" /><polyline clip-path=\"url(#clip375)\" style=\"stroke:#000000; stroke-linecap:round; stroke-linejoin:round; stroke-width:8; stroke-opacity:0.1; fill:none\" points=\"219.542,1411.84 2352.76,1411.84 \"/>\n",
       "<polyline clip-path=\"url(#clip375)\" style=\"stroke:#000000; stroke-linecap:round; stroke-linejoin:round; stroke-width:8; stroke-opacity:0.1; fill:none\" points=\"219.542,1343.82 2352.76,1343.82 \"/>\n",
       "<polyline clip-path=\"url(#clip375)\" style=\"stroke:#000000; stroke-linecap:round; stroke-linejoin:round; stroke-width:8; stroke-opacity:0.1; fill:none\" points=\"219.542,1275.8 2352.76,1275.8 \"/>\n",
       "<polyline clip-path=\"url(#clip375)\" style=\"stroke:#000000; stroke-linecap:round; stroke-linejoin:round; stroke-width:8; stroke-opacity:0.1; fill:none\" points=\"219.542,1207.78 2352.76,1207.78 \"/>\n",
       "<polyline clip-path=\"url(#clip375)\" style=\"stroke:#000000; stroke-linecap:round; stroke-linejoin:round; stroke-width:8; stroke-opacity:0.1; fill:none\" points=\"219.542,1139.75 2352.76,1139.75 \"/>\n",
       "<polyline clip-path=\"url(#clip370)\" style=\"stroke:#000000; stroke-linecap:round; stroke-linejoin:round; stroke-width:4; stroke-opacity:1; fill:none\" points=\"219.542,1423.18 219.542,1071.73 \"/>\n",
       "<polyline clip-path=\"url(#clip370)\" style=\"stroke:#000000; stroke-linecap:round; stroke-linejoin:round; stroke-width:4; stroke-opacity:1; fill:none\" points=\"219.542,1411.84 238.44,1411.84 \"/>\n",
       "<polyline clip-path=\"url(#clip370)\" style=\"stroke:#000000; stroke-linecap:round; stroke-linejoin:round; stroke-width:4; stroke-opacity:1; fill:none\" points=\"219.542,1343.82 238.44,1343.82 \"/>\n",
       "<polyline clip-path=\"url(#clip370)\" style=\"stroke:#000000; stroke-linecap:round; stroke-linejoin:round; stroke-width:4; stroke-opacity:1; fill:none\" points=\"219.542,1275.8 238.44,1275.8 \"/>\n",
       "<polyline clip-path=\"url(#clip370)\" style=\"stroke:#000000; stroke-linecap:round; stroke-linejoin:round; stroke-width:4; stroke-opacity:1; fill:none\" points=\"219.542,1207.78 238.44,1207.78 \"/>\n",
       "<polyline clip-path=\"url(#clip370)\" style=\"stroke:#000000; stroke-linecap:round; stroke-linejoin:round; stroke-width:4; stroke-opacity:1; fill:none\" points=\"219.542,1139.75 238.44,1139.75 \"/>\n",
       "<path clip-path=\"url(#clip370)\" d=\"M126.367 1397.64 Q122.755 1397.64 120.927 1401.21 Q119.121 1404.75 119.121 1411.88 Q119.121 1418.98 120.927 1422.55 Q122.755 1426.09 126.367 1426.09 Q130.001 1426.09 131.806 1422.55 Q133.635 1418.98 133.635 1411.88 Q133.635 1404.75 131.806 1401.21 Q130.001 1397.64 126.367 1397.64 M126.367 1393.94 Q132.177 1393.94 135.232 1398.54 Q138.311 1403.13 138.311 1411.88 Q138.311 1420.6 135.232 1425.21 Q132.177 1429.79 126.367 1429.79 Q120.556 1429.79 117.478 1425.21 Q114.422 1420.6 114.422 1411.88 Q114.422 1403.13 117.478 1398.54 Q120.556 1393.94 126.367 1393.94 Z\" fill=\"#000000\" fill-rule=\"evenodd\" fill-opacity=\"1\" /><path clip-path=\"url(#clip370)\" d=\"M146.529 1423.24 L151.413 1423.24 L151.413 1429.12 L146.529 1429.12 L146.529 1423.24 Z\" fill=\"#000000\" fill-rule=\"evenodd\" fill-opacity=\"1\" /><path clip-path=\"url(#clip370)\" d=\"M171.598 1397.64 Q167.987 1397.64 166.158 1401.21 Q164.352 1404.75 164.352 1411.88 Q164.352 1418.98 166.158 1422.55 Q167.987 1426.09 171.598 1426.09 Q175.232 1426.09 177.038 1422.55 Q178.866 1418.98 178.866 1411.88 Q178.866 1404.75 177.038 1401.21 Q175.232 1397.64 171.598 1397.64 M171.598 1393.94 Q177.408 1393.94 180.464 1398.54 Q183.542 1403.13 183.542 1411.88 Q183.542 1420.6 180.464 1425.21 Q177.408 1429.79 171.598 1429.79 Q165.788 1429.79 162.709 1425.21 Q159.653 1420.6 159.653 1411.88 Q159.653 1403.13 162.709 1398.54 Q165.788 1393.94 171.598 1393.94 Z\" fill=\"#000000\" fill-rule=\"evenodd\" fill-opacity=\"1\" /><path clip-path=\"url(#clip370)\" d=\"M127.015 1329.62 Q123.404 1329.62 121.575 1333.18 Q119.769 1336.73 119.769 1343.86 Q119.769 1350.96 121.575 1354.53 Q123.404 1358.07 127.015 1358.07 Q130.649 1358.07 132.455 1354.53 Q134.283 1350.96 134.283 1343.86 Q134.283 1336.73 132.455 1333.18 Q130.649 1329.62 127.015 1329.62 M127.015 1325.92 Q132.825 1325.92 135.88 1330.52 Q138.959 1335.11 138.959 1343.86 Q138.959 1352.58 135.88 1357.19 Q132.825 1361.77 127.015 1361.77 Q121.205 1361.77 118.126 1357.19 Q115.07 1352.58 115.07 1343.86 Q115.07 1335.11 118.126 1330.52 Q121.205 1325.92 127.015 1325.92 Z\" fill=\"#000000\" fill-rule=\"evenodd\" fill-opacity=\"1\" /><path clip-path=\"url(#clip370)\" d=\"M147.177 1355.22 L152.061 1355.22 L152.061 1361.1 L147.177 1361.1 L147.177 1355.22 Z\" fill=\"#000000\" fill-rule=\"evenodd\" fill-opacity=\"1\" /><path clip-path=\"url(#clip370)\" d=\"M176.413 1342.47 Q179.769 1343.18 181.644 1345.45 Q183.542 1347.72 183.542 1351.05 Q183.542 1356.17 180.024 1358.97 Q176.505 1361.77 170.024 1361.77 Q167.848 1361.77 165.533 1361.33 Q163.241 1360.92 160.788 1360.06 L160.788 1355.55 Q162.732 1356.68 165.047 1357.26 Q167.362 1357.84 169.885 1357.84 Q174.283 1357.84 176.575 1356.1 Q178.889 1354.36 178.889 1351.05 Q178.889 1348 176.737 1346.29 Q174.607 1344.55 170.788 1344.55 L166.76 1344.55 L166.76 1340.71 L170.973 1340.71 Q174.422 1340.71 176.251 1339.34 Q178.079 1337.95 178.079 1335.36 Q178.079 1332.7 176.181 1331.29 Q174.306 1329.85 170.788 1329.85 Q168.866 1329.85 166.667 1330.27 Q164.468 1330.68 161.829 1331.56 L161.829 1327.4 Q164.491 1326.66 166.806 1326.29 Q169.144 1325.92 171.204 1325.92 Q176.528 1325.92 179.63 1328.35 Q182.732 1330.75 182.732 1334.87 Q182.732 1337.74 181.089 1339.74 Q179.445 1341.7 176.413 1342.47 Z\" fill=\"#000000\" fill-rule=\"evenodd\" fill-opacity=\"1\" /><path clip-path=\"url(#clip370)\" d=\"M126.205 1261.6 Q122.593 1261.6 120.765 1265.16 Q118.959 1268.7 118.959 1275.83 Q118.959 1282.94 120.765 1286.5 Q122.593 1290.05 126.205 1290.05 Q129.839 1290.05 131.644 1286.5 Q133.473 1282.94 133.473 1275.83 Q133.473 1268.7 131.644 1265.16 Q129.839 1261.6 126.205 1261.6 M126.205 1257.89 Q132.015 1257.89 135.07 1262.5 Q138.149 1267.08 138.149 1275.83 Q138.149 1284.56 135.07 1289.17 Q132.015 1293.75 126.205 1293.75 Q120.394 1293.75 117.316 1289.17 Q114.26 1284.56 114.26 1275.83 Q114.26 1267.08 117.316 1262.5 Q120.394 1257.89 126.205 1257.89 Z\" fill=\"#000000\" fill-rule=\"evenodd\" fill-opacity=\"1\" /><path clip-path=\"url(#clip370)\" d=\"M146.366 1287.2 L151.251 1287.2 L151.251 1293.08 L146.366 1293.08 L146.366 1287.2 Z\" fill=\"#000000\" fill-rule=\"evenodd\" fill-opacity=\"1\" /><path clip-path=\"url(#clip370)\" d=\"M172.014 1273.94 Q168.866 1273.94 167.015 1276.09 Q165.186 1278.24 165.186 1281.99 Q165.186 1285.72 167.015 1287.89 Q168.866 1290.05 172.014 1290.05 Q175.163 1290.05 176.991 1287.89 Q178.843 1285.72 178.843 1281.99 Q178.843 1278.24 176.991 1276.09 Q175.163 1273.94 172.014 1273.94 M181.297 1259.28 L181.297 1263.54 Q179.538 1262.71 177.732 1262.27 Q175.95 1261.83 174.19 1261.83 Q169.561 1261.83 167.107 1264.95 Q164.677 1268.08 164.329 1274.4 Q165.695 1272.38 167.755 1271.32 Q169.815 1270.23 172.292 1270.23 Q177.501 1270.23 180.51 1273.4 Q183.542 1276.55 183.542 1281.99 Q183.542 1287.31 180.394 1290.53 Q177.246 1293.75 172.014 1293.75 Q166.019 1293.75 162.848 1289.17 Q159.677 1284.56 159.677 1275.83 Q159.677 1267.64 163.565 1262.78 Q167.454 1257.89 174.005 1257.89 Q175.764 1257.89 177.547 1258.24 Q179.352 1258.59 181.297 1259.28 Z\" fill=\"#000000\" fill-rule=\"evenodd\" fill-opacity=\"1\" /><path clip-path=\"url(#clip370)\" d=\"M126.552 1193.58 Q122.941 1193.58 121.112 1197.14 Q119.306 1200.68 119.306 1207.81 Q119.306 1214.92 121.112 1218.48 Q122.941 1222.02 126.552 1222.02 Q130.186 1222.02 131.992 1218.48 Q133.82 1214.92 133.82 1207.81 Q133.82 1200.68 131.992 1197.14 Q130.186 1193.58 126.552 1193.58 M126.552 1189.87 Q132.362 1189.87 135.417 1194.48 Q138.496 1199.06 138.496 1207.81 Q138.496 1216.54 135.417 1221.14 Q132.362 1225.73 126.552 1225.73 Q120.742 1225.73 117.663 1221.14 Q114.607 1216.54 114.607 1207.81 Q114.607 1199.06 117.663 1194.48 Q120.742 1189.87 126.552 1189.87 Z\" fill=\"#000000\" fill-rule=\"evenodd\" fill-opacity=\"1\" /><path clip-path=\"url(#clip370)\" d=\"M146.714 1219.18 L151.598 1219.18 L151.598 1225.06 L146.714 1225.06 L146.714 1219.18 Z\" fill=\"#000000\" fill-rule=\"evenodd\" fill-opacity=\"1\" /><path clip-path=\"url(#clip370)\" d=\"M161.922 1224.34 L161.922 1220.08 Q163.681 1220.91 165.487 1221.35 Q167.292 1221.79 169.028 1221.79 Q173.658 1221.79 176.089 1218.69 Q178.542 1215.57 178.889 1209.22 Q177.547 1211.21 175.487 1212.28 Q173.427 1213.34 170.927 1213.34 Q165.741 1213.34 162.709 1210.22 Q159.7 1207.07 159.7 1201.63 Q159.7 1196.31 162.848 1193.09 Q165.996 1189.87 171.227 1189.87 Q177.223 1189.87 180.371 1194.48 Q183.542 1199.06 183.542 1207.81 Q183.542 1215.98 179.653 1220.87 Q175.788 1225.73 169.237 1225.73 Q167.477 1225.73 165.672 1225.38 Q163.866 1225.03 161.922 1224.34 M171.227 1209.69 Q174.376 1209.69 176.204 1207.53 Q178.056 1205.38 178.056 1201.63 Q178.056 1197.9 176.204 1195.75 Q174.376 1193.58 171.227 1193.58 Q168.079 1193.58 166.227 1195.75 Q164.399 1197.9 164.399 1201.63 Q164.399 1205.38 166.227 1207.53 Q168.079 1209.69 171.227 1209.69 Z\" fill=\"#000000\" fill-rule=\"evenodd\" fill-opacity=\"1\" /><path clip-path=\"url(#clip370)\" d=\"M118.774 1153.1 L126.413 1153.1 L126.413 1126.73 L118.103 1128.4 L118.103 1124.14 L126.367 1122.47 L131.042 1122.47 L131.042 1153.1 L138.681 1153.1 L138.681 1157.03 L118.774 1157.03 L118.774 1153.1 Z\" fill=\"#000000\" fill-rule=\"evenodd\" fill-opacity=\"1\" /><path clip-path=\"url(#clip370)\" d=\"M148.126 1151.15 L153.01 1151.15 L153.01 1157.03 L148.126 1157.03 L148.126 1151.15 Z\" fill=\"#000000\" fill-rule=\"evenodd\" fill-opacity=\"1\" /><path clip-path=\"url(#clip370)\" d=\"M167.223 1153.1 L183.542 1153.1 L183.542 1157.03 L161.598 1157.03 L161.598 1153.1 Q164.26 1150.34 168.843 1145.71 Q173.45 1141.06 174.63 1139.72 Q176.876 1137.2 177.755 1135.46 Q178.658 1133.7 178.658 1132.01 Q178.658 1129.26 176.714 1127.52 Q174.792 1125.78 171.69 1125.78 Q169.491 1125.78 167.038 1126.55 Q164.607 1127.31 161.829 1128.86 L161.829 1124.14 Q164.653 1123.01 167.107 1122.43 Q169.561 1121.85 171.598 1121.85 Q176.968 1121.85 180.163 1124.53 Q183.357 1127.22 183.357 1131.71 Q183.357 1133.84 182.547 1135.76 Q181.76 1137.66 179.653 1140.25 Q179.075 1140.92 175.973 1144.14 Q172.871 1147.34 167.223 1153.1 Z\" fill=\"#000000\" fill-rule=\"evenodd\" fill-opacity=\"1\" /><path clip-path=\"url(#clip370)\" d=\"M39.4498 1302.72 Q39.9007 1302.72 40.9635 1303.01 L66.1485 1309.32 Q71.7523 1310.71 75.6814 1315.22 Q79.6106 1319.69 79.6106 1324.78 Q79.6106 1327.84 77.9681 1329.81 Q76.3578 1331.77 73.8779 1331.77 Q71.6879 1331.77 70.6251 1330.61 Q69.5945 1329.45 69.5945 1328.07 Q69.5945 1327.62 69.7234 1327.13 Q69.8522 1326.65 70.3997 1326.14 Q70.9472 1325.62 71.8812 1325.62 Q73.3948 1325.62 74.5864 1326.94 Q75.1339 1327.59 75.2628 1328.2 Q75.3916 1328.78 75.3916 1329.78 Q76.2934 1329.39 76.9053 1328.68 Q77.5172 1327.97 77.7426 1327.17 Q78.0003 1326.36 78.0647 1325.85 Q78.1613 1325.3 78.1613 1324.78 Q78.1613 1320.66 74.0067 1317.5 Q72.7507 1316.57 71.4947 1315.89 Q70.2709 1315.19 68.7572 1314.67 Q67.2757 1314.16 66.4706 1313.93 Q65.6654 1313.67 63.8297 1313.22 Q66.8248 1316.22 66.8248 1319.89 Q66.8248 1321.43 66.4062 1322.82 Q65.9875 1324.17 65.1179 1325.36 Q64.2162 1326.55 62.6381 1327.26 Q61.06 1327.94 58.9666 1327.94 Q56.7444 1327.94 53.717 1327.07 Q50.6897 1326.2 45.1181 1324.11 Q41.9941 1322.98 40.4804 1322.98 Q39.7397 1322.98 39.2888 1323.14 Q38.8057 1323.3 38.6447 1323.62 Q38.4515 1323.95 38.4193 1324.14 Q38.3871 1324.3 38.3871 1324.62 Q38.3871 1326.52 40.3194 1328.29 Q42.2518 1330.07 46.5673 1331.29 Q47.3725 1331.55 47.5657 1331.71 Q47.759 1331.87 47.759 1332.35 Q47.7268 1333.16 47.0826 1333.16 Q46.825 1333.16 45.8266 1332.87 Q44.796 1332.58 43.2823 1331.9 Q41.7365 1331.19 40.3516 1330.23 Q38.9346 1329.26 37.9362 1327.75 Q36.9378 1326.2 36.9378 1324.43 Q36.9378 1322.01 38.5159 1320.53 Q40.0618 1319.02 42.3484 1319.02 Q43.2823 1319.02 44.1197 1319.28 Q44.9248 1319.5 47.0826 1320.34 Q55.7782 1323.72 60.0294 1323.72 Q61.06 1323.72 61.9295 1323.56 Q62.7669 1323.37 63.6042 1322.95 Q64.4094 1322.53 64.8925 1321.69 Q65.3434 1320.82 65.3434 1319.63 Q65.3434 1318.12 64.6348 1316.7 Q63.8941 1315.25 62.8957 1314.35 Q61.8973 1313.41 61.06 1312.87 Q60.1904 1312.29 59.7395 1312.16 L47.8878 1309.2 L42.606 1307.88 Q39.7397 1307.26 39.0312 1306.97 Q38.3548 1306.59 38.0006 1305.91 Q37.6463 1305.23 37.6463 1304.65 Q37.6463 1303.85 38.1294 1303.3 Q38.6125 1302.72 39.4498 1302.72 Z\" fill=\"#000000\" fill-rule=\"evenodd\" fill-opacity=\"1\" /><path clip-path=\"url(#clip370)\" d=\"M82.5735 1248.87 L16.6159 1248.87 L16.6159 1238.92 L18.1296 1238.92 L18.1296 1244.46 L81.0598 1244.46 L81.0598 1238.92 L82.5735 1238.92 L82.5735 1248.87 Z\" fill=\"#000000\" fill-rule=\"evenodd\" fill-opacity=\"1\" /><path clip-path=\"url(#clip370)\" d=\"M48.6607 1187.18 Q49.0472 1186.79 49.5947 1186.79 Q50.1422 1186.79 50.5287 1187.18 Q50.9151 1187.56 50.9151 1188.11 L50.9151 1229.4 Q50.9151 1229.95 50.5287 1230.33 Q50.1422 1230.72 49.5947 1230.72 Q49.0472 1230.72 48.6607 1230.33 Q48.2743 1229.95 48.2743 1229.4 L48.2743 1188.11 Q48.2743 1187.56 48.6607 1187.18 Z\" fill=\"#000000\" fill-rule=\"evenodd\" fill-opacity=\"1\" /><path clip-path=\"url(#clip370)\" d=\"M81.0598 1179.91 L81.0598 1174.37 L18.1296 1174.37 L18.1296 1179.91 L16.6159 1179.91 L16.6159 1169.95 L82.5735 1169.95 L82.5735 1179.91 L81.0598 1179.91 Z\" fill=\"#000000\" fill-rule=\"evenodd\" fill-opacity=\"1\" /><polyline clip-path=\"url(#clip375)\" style=\"stroke:#000000; stroke-linecap:round; stroke-linejoin:round; stroke-width:4; stroke-opacity:1; fill:none\" stroke-dasharray=\"2, 4\" points=\"279.916,1173.77 357.319,1173.77 434.721,1173.77 512.124,1173.77 589.526,1173.77 666.929,1173.77 744.331,1173.77 821.734,1173.77 899.136,1173.77 976.539,1173.77 1053.94,1173.77 1131.34,1173.77 1208.75,1173.77 1286.15,1173.77 1363.55,1173.77 1440.95,1173.77 1518.36,1173.77 1595.76,1173.77 1673.16,1173.77 1750.56,1173.77 1827.97,1173.77 1905.37,1173.77 1982.77,1173.77 2060.17,1173.77 2137.58,1173.77 2214.98,1173.77 2292.38,1173.77 \"/>\n",
       "<polyline clip-path=\"url(#clip375)\" style=\"stroke:#000000; stroke-linecap:round; stroke-linejoin:round; stroke-width:12; stroke-opacity:1; fill:none\" points=\"279.916,1276.62 357.319,1271.98 434.721,1253.15 512.124,1228.4 589.526,1204.71 666.929,1186.69 744.331,1176.22 821.734,1172.05 899.136,1171.6 976.539,1172.56 1053.94,1173.24 1131.34,1172.81 1208.75,1172.51 1286.15,1172.66 1363.55,1172.65 1440.95,1172.62 1518.36,1172.63 1595.76,1172.63 1673.16,1172.63 1750.56,1172.63 1827.97,1172.63 1905.37,1172.63 1982.77,1172.63 2060.17,1172.63 2137.58,1172.63 2214.98,1172.63 2292.38,1172.63 \"/>\n",
       "<circle clip-path=\"url(#clip375)\" cx=\"279.916\" cy=\"1276.62\" r=\"10.8\" fill=\"#000000\" fill-rule=\"evenodd\" fill-opacity=\"1\" stroke=\"none\"/>\n",
       "<circle clip-path=\"url(#clip375)\" cx=\"357.319\" cy=\"1271.98\" r=\"10.8\" fill=\"#000000\" fill-rule=\"evenodd\" fill-opacity=\"1\" stroke=\"none\"/>\n",
       "<circle clip-path=\"url(#clip375)\" cx=\"434.721\" cy=\"1253.15\" r=\"10.8\" fill=\"#000000\" fill-rule=\"evenodd\" fill-opacity=\"1\" stroke=\"none\"/>\n",
       "<circle clip-path=\"url(#clip375)\" cx=\"512.124\" cy=\"1228.4\" r=\"10.8\" fill=\"#000000\" fill-rule=\"evenodd\" fill-opacity=\"1\" stroke=\"none\"/>\n",
       "<circle clip-path=\"url(#clip375)\" cx=\"589.526\" cy=\"1204.71\" r=\"10.8\" fill=\"#000000\" fill-rule=\"evenodd\" fill-opacity=\"1\" stroke=\"none\"/>\n",
       "<circle clip-path=\"url(#clip375)\" cx=\"666.929\" cy=\"1186.69\" r=\"10.8\" fill=\"#000000\" fill-rule=\"evenodd\" fill-opacity=\"1\" stroke=\"none\"/>\n",
       "<circle clip-path=\"url(#clip375)\" cx=\"744.331\" cy=\"1176.22\" r=\"10.8\" fill=\"#000000\" fill-rule=\"evenodd\" fill-opacity=\"1\" stroke=\"none\"/>\n",
       "<circle clip-path=\"url(#clip375)\" cx=\"821.734\" cy=\"1172.05\" r=\"10.8\" fill=\"#000000\" fill-rule=\"evenodd\" fill-opacity=\"1\" stroke=\"none\"/>\n",
       "<circle clip-path=\"url(#clip375)\" cx=\"899.136\" cy=\"1171.6\" r=\"10.8\" fill=\"#000000\" fill-rule=\"evenodd\" fill-opacity=\"1\" stroke=\"none\"/>\n",
       "<circle clip-path=\"url(#clip375)\" cx=\"976.539\" cy=\"1172.56\" r=\"10.8\" fill=\"#000000\" fill-rule=\"evenodd\" fill-opacity=\"1\" stroke=\"none\"/>\n",
       "<circle clip-path=\"url(#clip375)\" cx=\"1053.94\" cy=\"1173.24\" r=\"10.8\" fill=\"#000000\" fill-rule=\"evenodd\" fill-opacity=\"1\" stroke=\"none\"/>\n",
       "<circle clip-path=\"url(#clip375)\" cx=\"1131.34\" cy=\"1172.81\" r=\"10.8\" fill=\"#000000\" fill-rule=\"evenodd\" fill-opacity=\"1\" stroke=\"none\"/>\n",
       "<circle clip-path=\"url(#clip375)\" cx=\"1208.75\" cy=\"1172.51\" r=\"10.8\" fill=\"#000000\" fill-rule=\"evenodd\" fill-opacity=\"1\" stroke=\"none\"/>\n",
       "<circle clip-path=\"url(#clip375)\" cx=\"1286.15\" cy=\"1172.66\" r=\"10.8\" fill=\"#000000\" fill-rule=\"evenodd\" fill-opacity=\"1\" stroke=\"none\"/>\n",
       "<circle clip-path=\"url(#clip375)\" cx=\"1363.55\" cy=\"1172.65\" r=\"10.8\" fill=\"#000000\" fill-rule=\"evenodd\" fill-opacity=\"1\" stroke=\"none\"/>\n",
       "<circle clip-path=\"url(#clip375)\" cx=\"1440.95\" cy=\"1172.62\" r=\"10.8\" fill=\"#000000\" fill-rule=\"evenodd\" fill-opacity=\"1\" stroke=\"none\"/>\n",
       "<circle clip-path=\"url(#clip375)\" cx=\"1518.36\" cy=\"1172.63\" r=\"10.8\" fill=\"#000000\" fill-rule=\"evenodd\" fill-opacity=\"1\" stroke=\"none\"/>\n",
       "<circle clip-path=\"url(#clip375)\" cx=\"1595.76\" cy=\"1172.63\" r=\"10.8\" fill=\"#000000\" fill-rule=\"evenodd\" fill-opacity=\"1\" stroke=\"none\"/>\n",
       "<circle clip-path=\"url(#clip375)\" cx=\"1673.16\" cy=\"1172.63\" r=\"10.8\" fill=\"#000000\" fill-rule=\"evenodd\" fill-opacity=\"1\" stroke=\"none\"/>\n",
       "<circle clip-path=\"url(#clip375)\" cx=\"1750.56\" cy=\"1172.63\" r=\"10.8\" fill=\"#000000\" fill-rule=\"evenodd\" fill-opacity=\"1\" stroke=\"none\"/>\n",
       "<circle clip-path=\"url(#clip375)\" cx=\"1827.97\" cy=\"1172.63\" r=\"10.8\" fill=\"#000000\" fill-rule=\"evenodd\" fill-opacity=\"1\" stroke=\"none\"/>\n",
       "<circle clip-path=\"url(#clip375)\" cx=\"1905.37\" cy=\"1172.63\" r=\"10.8\" fill=\"#000000\" fill-rule=\"evenodd\" fill-opacity=\"1\" stroke=\"none\"/>\n",
       "<circle clip-path=\"url(#clip375)\" cx=\"1982.77\" cy=\"1172.63\" r=\"10.8\" fill=\"#000000\" fill-rule=\"evenodd\" fill-opacity=\"1\" stroke=\"none\"/>\n",
       "<circle clip-path=\"url(#clip375)\" cx=\"2060.17\" cy=\"1172.63\" r=\"10.8\" fill=\"#000000\" fill-rule=\"evenodd\" fill-opacity=\"1\" stroke=\"none\"/>\n",
       "<circle clip-path=\"url(#clip375)\" cx=\"2137.58\" cy=\"1172.63\" r=\"10.8\" fill=\"#000000\" fill-rule=\"evenodd\" fill-opacity=\"1\" stroke=\"none\"/>\n",
       "<circle clip-path=\"url(#clip375)\" cx=\"2214.98\" cy=\"1172.63\" r=\"10.8\" fill=\"#000000\" fill-rule=\"evenodd\" fill-opacity=\"1\" stroke=\"none\"/>\n",
       "<circle clip-path=\"url(#clip375)\" cx=\"2292.38\" cy=\"1172.63\" r=\"10.8\" fill=\"#000000\" fill-rule=\"evenodd\" fill-opacity=\"1\" stroke=\"none\"/>\n",
       "<polyline clip-path=\"url(#clip375)\" style=\"stroke:#000000; stroke-linecap:round; stroke-linejoin:round; stroke-width:12; stroke-opacity:1; fill:none\" stroke-dasharray=\"48, 24, 6, 24\" points=\"279.916,1276.62 357.319,1271.98 434.721,1253.15 512.124,1228.4 589.526,1204.71 666.929,1186.69 744.331,1176.22 821.734,1172.05 899.136,1171.6 976.539,1172.56 1053.94,1173.24 1131.34,1172.81 1208.75,1172.51 1286.15,1172.66 1363.55,1172.65 1440.95,1172.62 1518.36,1172.63 1595.76,1172.63 1673.16,1172.63 1750.56,1172.63 1827.97,1172.63 1905.37,1172.63 1982.77,1172.63 2060.17,1172.63 2137.58,1172.63 2214.98,1172.63 2292.38,1172.63 \"/>\n",
       "<path clip-path=\"url(#clip375)\" d=\"M267.916 1264.62 L267.916 1288.62 L291.916 1288.62 L291.916 1264.62 L267.916 1264.62 Z\" fill=\"#000000\" fill-rule=\"evenodd\" fill-opacity=\"1\" stroke=\"none\"/>\n",
       "<path clip-path=\"url(#clip375)\" d=\"M345.319 1259.98 L345.319 1283.98 L369.319 1283.98 L369.319 1259.98 L345.319 1259.98 Z\" fill=\"#000000\" fill-rule=\"evenodd\" fill-opacity=\"1\" stroke=\"none\"/>\n",
       "<path clip-path=\"url(#clip375)\" d=\"M422.721 1241.15 L422.721 1265.15 L446.721 1265.15 L446.721 1241.15 L422.721 1241.15 Z\" fill=\"#000000\" fill-rule=\"evenodd\" fill-opacity=\"1\" stroke=\"none\"/>\n",
       "<path clip-path=\"url(#clip375)\" d=\"M500.124 1216.4 L500.124 1240.4 L524.124 1240.4 L524.124 1216.4 L500.124 1216.4 Z\" fill=\"#000000\" fill-rule=\"evenodd\" fill-opacity=\"1\" stroke=\"none\"/>\n",
       "<path clip-path=\"url(#clip375)\" d=\"M577.526 1192.71 L577.526 1216.71 L601.526 1216.71 L601.526 1192.71 L577.526 1192.71 Z\" fill=\"#000000\" fill-rule=\"evenodd\" fill-opacity=\"1\" stroke=\"none\"/>\n",
       "<path clip-path=\"url(#clip375)\" d=\"M654.929 1174.69 L654.929 1198.69 L678.929 1198.69 L678.929 1174.69 L654.929 1174.69 Z\" fill=\"#000000\" fill-rule=\"evenodd\" fill-opacity=\"1\" stroke=\"none\"/>\n",
       "<path clip-path=\"url(#clip375)\" d=\"M732.331 1164.22 L732.331 1188.22 L756.331 1188.22 L756.331 1164.22 L732.331 1164.22 Z\" fill=\"#000000\" fill-rule=\"evenodd\" fill-opacity=\"1\" stroke=\"none\"/>\n",
       "<path clip-path=\"url(#clip375)\" d=\"M809.734 1160.05 L809.734 1184.05 L833.734 1184.05 L833.734 1160.05 L809.734 1160.05 Z\" fill=\"#000000\" fill-rule=\"evenodd\" fill-opacity=\"1\" stroke=\"none\"/>\n",
       "<path clip-path=\"url(#clip375)\" d=\"M887.136 1159.6 L887.136 1183.6 L911.136 1183.6 L911.136 1159.6 L887.136 1159.6 Z\" fill=\"#000000\" fill-rule=\"evenodd\" fill-opacity=\"1\" stroke=\"none\"/>\n",
       "<path clip-path=\"url(#clip375)\" d=\"M964.539 1160.56 L964.539 1184.56 L988.539 1184.56 L988.539 1160.56 L964.539 1160.56 Z\" fill=\"#000000\" fill-rule=\"evenodd\" fill-opacity=\"1\" stroke=\"none\"/>\n",
       "<path clip-path=\"url(#clip375)\" d=\"M1041.94 1161.24 L1041.94 1185.24 L1065.94 1185.24 L1065.94 1161.24 L1041.94 1161.24 Z\" fill=\"#000000\" fill-rule=\"evenodd\" fill-opacity=\"1\" stroke=\"none\"/>\n",
       "<path clip-path=\"url(#clip375)\" d=\"M1119.34 1160.81 L1119.34 1184.81 L1143.34 1184.81 L1143.34 1160.81 L1119.34 1160.81 Z\" fill=\"#000000\" fill-rule=\"evenodd\" fill-opacity=\"1\" stroke=\"none\"/>\n",
       "<path clip-path=\"url(#clip375)\" d=\"M1196.75 1160.51 L1196.75 1184.51 L1220.75 1184.51 L1220.75 1160.51 L1196.75 1160.51 Z\" fill=\"#000000\" fill-rule=\"evenodd\" fill-opacity=\"1\" stroke=\"none\"/>\n",
       "<path clip-path=\"url(#clip375)\" d=\"M1274.15 1160.66 L1274.15 1184.66 L1298.15 1184.66 L1298.15 1160.66 L1274.15 1160.66 Z\" fill=\"#000000\" fill-rule=\"evenodd\" fill-opacity=\"1\" stroke=\"none\"/>\n",
       "<path clip-path=\"url(#clip375)\" d=\"M1351.55 1160.65 L1351.55 1184.65 L1375.55 1184.65 L1375.55 1160.65 L1351.55 1160.65 Z\" fill=\"#000000\" fill-rule=\"evenodd\" fill-opacity=\"1\" stroke=\"none\"/>\n",
       "<path clip-path=\"url(#clip375)\" d=\"M1428.95 1160.62 L1428.95 1184.62 L1452.95 1184.62 L1452.95 1160.62 L1428.95 1160.62 Z\" fill=\"#000000\" fill-rule=\"evenodd\" fill-opacity=\"1\" stroke=\"none\"/>\n",
       "<path clip-path=\"url(#clip375)\" d=\"M1506.36 1160.63 L1506.36 1184.63 L1530.36 1184.63 L1530.36 1160.63 L1506.36 1160.63 Z\" fill=\"#000000\" fill-rule=\"evenodd\" fill-opacity=\"1\" stroke=\"none\"/>\n",
       "<path clip-path=\"url(#clip375)\" d=\"M1583.76 1160.63 L1583.76 1184.63 L1607.76 1184.63 L1607.76 1160.63 L1583.76 1160.63 Z\" fill=\"#000000\" fill-rule=\"evenodd\" fill-opacity=\"1\" stroke=\"none\"/>\n",
       "<path clip-path=\"url(#clip375)\" d=\"M1661.16 1160.63 L1661.16 1184.63 L1685.16 1184.63 L1685.16 1160.63 L1661.16 1160.63 Z\" fill=\"#000000\" fill-rule=\"evenodd\" fill-opacity=\"1\" stroke=\"none\"/>\n",
       "<path clip-path=\"url(#clip375)\" d=\"M1738.56 1160.63 L1738.56 1184.63 L1762.56 1184.63 L1762.56 1160.63 L1738.56 1160.63 Z\" fill=\"#000000\" fill-rule=\"evenodd\" fill-opacity=\"1\" stroke=\"none\"/>\n",
       "<path clip-path=\"url(#clip375)\" d=\"M1815.97 1160.63 L1815.97 1184.63 L1839.97 1184.63 L1839.97 1160.63 L1815.97 1160.63 Z\" fill=\"#000000\" fill-rule=\"evenodd\" fill-opacity=\"1\" stroke=\"none\"/>\n",
       "<path clip-path=\"url(#clip375)\" d=\"M1893.37 1160.63 L1893.37 1184.63 L1917.37 1184.63 L1917.37 1160.63 L1893.37 1160.63 Z\" fill=\"#000000\" fill-rule=\"evenodd\" fill-opacity=\"1\" stroke=\"none\"/>\n",
       "<path clip-path=\"url(#clip375)\" d=\"M1970.77 1160.63 L1970.77 1184.63 L1994.77 1184.63 L1994.77 1160.63 L1970.77 1160.63 Z\" fill=\"#000000\" fill-rule=\"evenodd\" fill-opacity=\"1\" stroke=\"none\"/>\n",
       "<path clip-path=\"url(#clip375)\" d=\"M2048.17 1160.63 L2048.17 1184.63 L2072.17 1184.63 L2072.17 1160.63 L2048.17 1160.63 Z\" fill=\"#000000\" fill-rule=\"evenodd\" fill-opacity=\"1\" stroke=\"none\"/>\n",
       "<path clip-path=\"url(#clip375)\" d=\"M2125.58 1160.63 L2125.58 1184.63 L2149.58 1184.63 L2149.58 1160.63 L2125.58 1160.63 Z\" fill=\"#000000\" fill-rule=\"evenodd\" fill-opacity=\"1\" stroke=\"none\"/>\n",
       "<path clip-path=\"url(#clip375)\" d=\"M2202.98 1160.63 L2202.98 1184.63 L2226.98 1184.63 L2226.98 1160.63 L2202.98 1160.63 Z\" fill=\"#000000\" fill-rule=\"evenodd\" fill-opacity=\"1\" stroke=\"none\"/>\n",
       "<path clip-path=\"url(#clip375)\" d=\"M2280.38 1160.63 L2280.38 1184.63 L2304.38 1184.63 L2304.38 1160.63 L2280.38 1160.63 Z\" fill=\"#000000\" fill-rule=\"evenodd\" fill-opacity=\"1\" stroke=\"none\"/>\n",
       "</svg>\n"
      ]
     },
     "execution_count": 28,
     "metadata": {},
     "output_type": "execute_result"
    }
   ],
   "source": [
    "plot_comp((-0.05,1.5),L\"y \\quad [-]\",1,ts,yTraj,(pUB + y0))"
   ]
  },
  {
   "cell_type": "code",
   "execution_count": 29,
   "id": "d21d4819",
   "metadata": {},
   "outputs": [
    {
     "data": {
      "image/svg+xml": [
       "<?xml version=\"1.0\" encoding=\"utf-8\"?>\n",
       "<svg xmlns=\"http://www.w3.org/2000/svg\" xmlns:xlink=\"http://www.w3.org/1999/xlink\" width=\"600\" height=\"400\" viewBox=\"0 0 2400 1600\">\n",
       "<defs>\n",
       "  <clipPath id=\"clip410\">\n",
       "    <rect x=\"0\" y=\"0\" width=\"2400\" height=\"1600\"/>\n",
       "  </clipPath>\n",
       "</defs>\n",
       "<path clip-path=\"url(#clip410)\" d=\"M0 1600 L2400 1600 L2400 0 L0 0  Z\" fill=\"#ffffff\" fill-rule=\"evenodd\" fill-opacity=\"1\"/>\n",
       "<defs>\n",
       "  <clipPath id=\"clip411\">\n",
       "    <rect x=\"480\" y=\"0\" width=\"1681\" height=\"1600\"/>\n",
       "  </clipPath>\n",
       "</defs>\n",
       "<defs>\n",
       "  <clipPath id=\"clip412\">\n",
       "    <rect x=\"219\" y=\"1071\" width=\"2134\" height=\"352\"/>\n",
       "  </clipPath>\n",
       "</defs>\n",
       "<path clip-path=\"url(#clip410)\" d=\"M219.38 398.692 L2352.76 398.692 L2352.76 47.2441 L219.38 47.2441  Z\" fill=\"#ffffff\" fill-rule=\"evenodd\" fill-opacity=\"1\"/>\n",
       "<defs>\n",
       "  <clipPath id=\"clip413\">\n",
       "    <rect x=\"219\" y=\"47\" width=\"2134\" height=\"352\"/>\n",
       "  </clipPath>\n",
       "</defs>\n",
       "<polyline clip-path=\"url(#clip413)\" style=\"stroke:#000000; stroke-linecap:round; stroke-linejoin:round; stroke-width:8; stroke-opacity:0.1; fill:none\" points=\"589.392,398.692 589.392,47.2441 \"/>\n",
       "<polyline clip-path=\"url(#clip413)\" style=\"stroke:#000000; stroke-linecap:round; stroke-linejoin:round; stroke-width:8; stroke-opacity:0.1; fill:none\" points=\"976.434,398.692 976.434,47.2441 \"/>\n",
       "<polyline clip-path=\"url(#clip413)\" style=\"stroke:#000000; stroke-linecap:round; stroke-linejoin:round; stroke-width:8; stroke-opacity:0.1; fill:none\" points=\"1363.48,398.692 1363.48,47.2441 \"/>\n",
       "<polyline clip-path=\"url(#clip413)\" style=\"stroke:#000000; stroke-linecap:round; stroke-linejoin:round; stroke-width:8; stroke-opacity:0.1; fill:none\" points=\"1750.52,398.692 1750.52,47.2441 \"/>\n",
       "<polyline clip-path=\"url(#clip413)\" style=\"stroke:#000000; stroke-linecap:round; stroke-linejoin:round; stroke-width:8; stroke-opacity:0.1; fill:none\" points=\"2137.56,398.692 2137.56,47.2441 \"/>\n",
       "<polyline clip-path=\"url(#clip410)\" style=\"stroke:#000000; stroke-linecap:round; stroke-linejoin:round; stroke-width:4; stroke-opacity:1; fill:none\" points=\"219.38,398.692 2352.76,398.692 \"/>\n",
       "<polyline clip-path=\"url(#clip410)\" style=\"stroke:#000000; stroke-linecap:round; stroke-linejoin:round; stroke-width:4; stroke-opacity:1; fill:none\" points=\"589.392,398.692 589.392,379.794 \"/>\n",
       "<polyline clip-path=\"url(#clip410)\" style=\"stroke:#000000; stroke-linecap:round; stroke-linejoin:round; stroke-width:4; stroke-opacity:1; fill:none\" points=\"976.434,398.692 976.434,379.794 \"/>\n",
       "<polyline clip-path=\"url(#clip410)\" style=\"stroke:#000000; stroke-linecap:round; stroke-linejoin:round; stroke-width:4; stroke-opacity:1; fill:none\" points=\"1363.48,398.692 1363.48,379.794 \"/>\n",
       "<polyline clip-path=\"url(#clip410)\" style=\"stroke:#000000; stroke-linecap:round; stroke-linejoin:round; stroke-width:4; stroke-opacity:1; fill:none\" points=\"1750.52,398.692 1750.52,379.794 \"/>\n",
       "<polyline clip-path=\"url(#clip410)\" style=\"stroke:#000000; stroke-linecap:round; stroke-linejoin:round; stroke-width:4; stroke-opacity:1; fill:none\" points=\"2137.56,398.692 2137.56,379.794 \"/>\n",
       "<path clip-path=\"url(#clip410)\" d=\"M579.67 426.532 L598.027 426.532 L598.027 430.467 L583.953 430.467 L583.953 438.939 Q584.971 438.592 585.99 438.43 Q587.008 438.245 588.027 438.245 Q593.814 438.245 597.193 441.416 Q600.573 444.587 600.573 450.004 Q600.573 455.583 597.101 458.684 Q593.628 461.763 587.309 461.763 Q585.133 461.763 582.865 461.393 Q580.619 461.022 578.212 460.282 L578.212 455.583 Q580.295 456.717 582.517 457.272 Q584.74 457.828 587.216 457.828 Q591.221 457.828 593.559 455.722 Q595.897 453.615 595.897 450.004 Q595.897 446.393 593.559 444.286 Q591.221 442.18 587.216 442.18 Q585.341 442.18 583.466 442.597 Q581.615 443.013 579.67 443.893 L579.67 426.532 Z\" fill=\"#000000\" fill-rule=\"evenodd\" fill-opacity=\"1\" /><path clip-path=\"url(#clip410)\" d=\"M951.122 457.157 L958.761 457.157 L958.761 430.791 L950.451 432.458 L950.451 428.199 L958.715 426.532 L963.39 426.532 L963.39 457.157 L971.029 457.157 L971.029 461.092 L951.122 461.092 L951.122 457.157 Z\" fill=\"#000000\" fill-rule=\"evenodd\" fill-opacity=\"1\" /><path clip-path=\"url(#clip410)\" d=\"M990.474 429.611 Q986.863 429.611 985.034 433.175 Q983.228 436.717 983.228 443.847 Q983.228 450.953 985.034 454.518 Q986.863 458.059 990.474 458.059 Q994.108 458.059 995.913 454.518 Q997.742 450.953 997.742 443.847 Q997.742 436.717 995.913 433.175 Q994.108 429.611 990.474 429.611 M990.474 425.907 Q996.284 425.907 999.339 430.513 Q1002.42 435.097 1002.42 443.847 Q1002.42 452.573 999.339 457.18 Q996.284 461.763 990.474 461.763 Q984.664 461.763 981.585 457.18 Q978.529 452.573 978.529 443.847 Q978.529 435.097 981.585 430.513 Q984.664 425.907 990.474 425.907 Z\" fill=\"#000000\" fill-rule=\"evenodd\" fill-opacity=\"1\" /><path clip-path=\"url(#clip410)\" d=\"M1338.66 457.157 L1346.3 457.157 L1346.3 430.791 L1337.99 432.458 L1337.99 428.199 L1346.25 426.532 L1350.93 426.532 L1350.93 457.157 L1358.57 457.157 L1358.57 461.092 L1338.66 461.092 L1338.66 457.157 Z\" fill=\"#000000\" fill-rule=\"evenodd\" fill-opacity=\"1\" /><path clip-path=\"url(#clip410)\" d=\"M1368.06 426.532 L1386.42 426.532 L1386.42 430.467 L1372.34 430.467 L1372.34 438.939 Q1373.36 438.592 1374.38 438.43 Q1375.4 438.245 1376.42 438.245 Q1382.2 438.245 1385.58 441.416 Q1388.96 444.587 1388.96 450.004 Q1388.96 455.583 1385.49 458.684 Q1382.02 461.763 1375.7 461.763 Q1373.52 461.763 1371.25 461.393 Q1369.01 461.022 1366.6 460.282 L1366.6 455.583 Q1368.68 456.717 1370.91 457.272 Q1373.13 457.828 1375.61 457.828 Q1379.61 457.828 1381.95 455.722 Q1384.29 453.615 1384.29 450.004 Q1384.29 446.393 1381.95 444.286 Q1379.61 442.18 1375.61 442.18 Q1373.73 442.18 1371.86 442.597 Q1370 443.013 1368.06 443.893 L1368.06 426.532 Z\" fill=\"#000000\" fill-rule=\"evenodd\" fill-opacity=\"1\" /><path clip-path=\"url(#clip410)\" d=\"M1729.29 457.157 L1745.61 457.157 L1745.61 461.092 L1723.67 461.092 L1723.67 457.157 Q1726.33 454.402 1730.91 449.772 Q1735.52 445.12 1736.7 443.777 Q1738.94 441.254 1739.82 439.518 Q1740.73 437.759 1740.73 436.069 Q1740.73 433.314 1738.78 431.578 Q1736.86 429.842 1733.76 429.842 Q1731.56 429.842 1729.11 430.606 Q1726.68 431.37 1723.9 432.921 L1723.9 428.199 Q1726.72 427.064 1729.18 426.486 Q1731.63 425.907 1733.67 425.907 Q1739.04 425.907 1742.23 428.592 Q1745.43 431.277 1745.43 435.768 Q1745.43 437.898 1744.62 439.819 Q1743.83 441.717 1741.72 444.31 Q1741.14 444.981 1738.04 448.198 Q1734.94 451.393 1729.29 457.157 Z\" fill=\"#000000\" fill-rule=\"evenodd\" fill-opacity=\"1\" /><path clip-path=\"url(#clip410)\" d=\"M1765.43 429.611 Q1761.81 429.611 1759.99 433.175 Q1758.18 436.717 1758.18 443.847 Q1758.18 450.953 1759.99 454.518 Q1761.81 458.059 1765.43 458.059 Q1769.06 458.059 1770.87 454.518 Q1772.69 450.953 1772.69 443.847 Q1772.69 436.717 1770.87 433.175 Q1769.06 429.611 1765.43 429.611 M1765.43 425.907 Q1771.24 425.907 1774.29 430.513 Q1777.37 435.097 1777.37 443.847 Q1777.37 452.573 1774.29 457.18 Q1771.24 461.763 1765.43 461.763 Q1759.62 461.763 1756.54 457.18 Q1753.48 452.573 1753.48 443.847 Q1753.48 435.097 1756.54 430.513 Q1759.62 425.907 1765.43 425.907 Z\" fill=\"#000000\" fill-rule=\"evenodd\" fill-opacity=\"1\" /><path clip-path=\"url(#clip410)\" d=\"M2116.83 457.157 L2133.15 457.157 L2133.15 461.092 L2111.21 461.092 L2111.21 457.157 Q2113.87 454.402 2118.45 449.772 Q2123.06 445.12 2124.24 443.777 Q2126.48 441.254 2127.36 439.518 Q2128.27 437.759 2128.27 436.069 Q2128.27 433.314 2126.32 431.578 Q2124.4 429.842 2121.3 429.842 Q2119.1 429.842 2116.65 430.606 Q2114.22 431.37 2111.44 432.921 L2111.44 428.199 Q2114.26 427.064 2116.72 426.486 Q2119.17 425.907 2121.21 425.907 Q2126.58 425.907 2129.77 428.592 Q2132.97 431.277 2132.97 435.768 Q2132.97 437.898 2132.16 439.819 Q2131.37 441.717 2129.26 444.31 Q2128.68 444.981 2125.58 448.198 Q2122.48 451.393 2116.83 457.157 Z\" fill=\"#000000\" fill-rule=\"evenodd\" fill-opacity=\"1\" /><path clip-path=\"url(#clip410)\" d=\"M2143.01 426.532 L2161.37 426.532 L2161.37 430.467 L2147.29 430.467 L2147.29 438.939 Q2148.31 438.592 2149.33 438.43 Q2150.35 438.245 2151.37 438.245 Q2157.16 438.245 2160.53 441.416 Q2163.91 444.587 2163.91 450.004 Q2163.91 455.583 2160.44 458.684 Q2156.97 461.763 2150.65 461.763 Q2148.47 461.763 2146.21 461.393 Q2143.96 461.022 2141.55 460.282 L2141.55 455.583 Q2143.64 456.717 2145.86 457.272 Q2148.08 457.828 2150.56 457.828 Q2154.56 457.828 2156.9 455.722 Q2159.24 453.615 2159.24 450.004 Q2159.24 446.393 2156.9 444.286 Q2154.56 442.18 2150.56 442.18 Q2148.68 442.18 2146.81 442.597 Q2144.96 443.013 2143.01 443.893 L2143.01 426.532 Z\" fill=\"#000000\" fill-rule=\"evenodd\" fill-opacity=\"1\" /><polyline clip-path=\"url(#clip413)\" style=\"stroke:#000000; stroke-linecap:round; stroke-linejoin:round; stroke-width:8; stroke-opacity:0.1; fill:none\" points=\"219.38,398.692 2352.76,398.692 \"/>\n",
       "<polyline clip-path=\"url(#clip413)\" style=\"stroke:#000000; stroke-linecap:round; stroke-linejoin:round; stroke-width:8; stroke-opacity:0.1; fill:none\" points=\"219.38,281.543 2352.76,281.543 \"/>\n",
       "<polyline clip-path=\"url(#clip413)\" style=\"stroke:#000000; stroke-linecap:round; stroke-linejoin:round; stroke-width:8; stroke-opacity:0.1; fill:none\" points=\"219.38,164.393 2352.76,164.393 \"/>\n",
       "<polyline clip-path=\"url(#clip413)\" style=\"stroke:#000000; stroke-linecap:round; stroke-linejoin:round; stroke-width:8; stroke-opacity:0.1; fill:none\" points=\"219.38,47.2441 2352.76,47.2441 \"/>\n",
       "<polyline clip-path=\"url(#clip410)\" style=\"stroke:#000000; stroke-linecap:round; stroke-linejoin:round; stroke-width:4; stroke-opacity:1; fill:none\" points=\"219.38,398.692 219.38,47.2441 \"/>\n",
       "<polyline clip-path=\"url(#clip410)\" style=\"stroke:#000000; stroke-linecap:round; stroke-linejoin:round; stroke-width:4; stroke-opacity:1; fill:none\" points=\"219.38,398.692 238.278,398.692 \"/>\n",
       "<polyline clip-path=\"url(#clip410)\" style=\"stroke:#000000; stroke-linecap:round; stroke-linejoin:round; stroke-width:4; stroke-opacity:1; fill:none\" points=\"219.38,281.543 238.278,281.543 \"/>\n",
       "<polyline clip-path=\"url(#clip410)\" style=\"stroke:#000000; stroke-linecap:round; stroke-linejoin:round; stroke-width:4; stroke-opacity:1; fill:none\" points=\"219.38,164.393 238.278,164.393 \"/>\n",
       "<polyline clip-path=\"url(#clip410)\" style=\"stroke:#000000; stroke-linecap:round; stroke-linejoin:round; stroke-width:4; stroke-opacity:1; fill:none\" points=\"219.38,47.2441 238.278,47.2441 \"/>\n",
       "<path clip-path=\"url(#clip410)\" d=\"M126.205 384.491 Q122.593 384.491 120.765 388.055 Q118.959 391.597 118.959 398.727 Q118.959 405.833 120.765 409.398 Q122.593 412.939 126.205 412.939 Q129.839 412.939 131.644 409.398 Q133.473 405.833 133.473 398.727 Q133.473 391.597 131.644 388.055 Q129.839 384.491 126.205 384.491 M126.205 380.787 Q132.015 380.787 135.07 385.393 Q138.149 389.977 138.149 398.727 Q138.149 407.453 135.07 412.06 Q132.015 416.643 126.205 416.643 Q120.394 416.643 117.316 412.06 Q114.26 407.453 114.26 398.727 Q114.26 389.977 117.316 385.393 Q120.394 380.787 126.205 380.787 Z\" fill=\"#000000\" fill-rule=\"evenodd\" fill-opacity=\"1\" /><path clip-path=\"url(#clip410)\" d=\"M146.366 410.092 L151.251 410.092 L151.251 415.972 L146.366 415.972 L146.366 410.092 Z\" fill=\"#000000\" fill-rule=\"evenodd\" fill-opacity=\"1\" /><path clip-path=\"url(#clip410)\" d=\"M171.436 384.491 Q167.825 384.491 165.996 388.055 Q164.19 391.597 164.19 398.727 Q164.19 405.833 165.996 409.398 Q167.825 412.939 171.436 412.939 Q175.07 412.939 176.876 409.398 Q178.704 405.833 178.704 398.727 Q178.704 391.597 176.876 388.055 Q175.07 384.491 171.436 384.491 M171.436 380.787 Q177.246 380.787 180.301 385.393 Q183.38 389.977 183.38 398.727 Q183.38 407.453 180.301 412.06 Q177.246 416.643 171.436 416.643 Q165.626 416.643 162.547 412.06 Q159.491 407.453 159.491 398.727 Q159.491 389.977 162.547 385.393 Q165.626 380.787 171.436 380.787 Z\" fill=\"#000000\" fill-rule=\"evenodd\" fill-opacity=\"1\" /><path clip-path=\"url(#clip410)\" d=\"M127.2 267.341 Q123.589 267.341 121.76 270.906 Q119.955 274.448 119.955 281.577 Q119.955 288.684 121.76 292.249 Q123.589 295.79 127.2 295.79 Q130.834 295.79 132.64 292.249 Q134.468 288.684 134.468 281.577 Q134.468 274.448 132.64 270.906 Q130.834 267.341 127.2 267.341 M127.2 263.638 Q133.01 263.638 136.066 268.244 Q139.144 272.827 139.144 281.577 Q139.144 290.304 136.066 294.911 Q133.01 299.494 127.2 299.494 Q121.39 299.494 118.311 294.911 Q115.256 290.304 115.256 281.577 Q115.256 272.827 118.311 268.244 Q121.39 263.638 127.2 263.638 Z\" fill=\"#000000\" fill-rule=\"evenodd\" fill-opacity=\"1\" /><path clip-path=\"url(#clip410)\" d=\"M147.362 292.943 L152.246 292.943 L152.246 298.823 L147.362 298.823 L147.362 292.943 Z\" fill=\"#000000\" fill-rule=\"evenodd\" fill-opacity=\"1\" /><path clip-path=\"url(#clip410)\" d=\"M162.477 264.263 L180.834 264.263 L180.834 268.198 L166.76 268.198 L166.76 276.67 Q167.778 276.323 168.797 276.161 Q169.815 275.976 170.834 275.976 Q176.621 275.976 180.001 279.147 Q183.38 282.318 183.38 287.735 Q183.38 293.313 179.908 296.415 Q176.436 299.494 170.116 299.494 Q167.94 299.494 165.672 299.124 Q163.427 298.753 161.019 298.012 L161.019 293.313 Q163.102 294.448 165.325 295.003 Q167.547 295.559 170.024 295.559 Q174.028 295.559 176.366 293.452 Q178.704 291.346 178.704 287.735 Q178.704 284.124 176.366 282.017 Q174.028 279.911 170.024 279.911 Q168.149 279.911 166.274 280.327 Q164.422 280.744 162.477 281.624 L162.477 264.263 Z\" fill=\"#000000\" fill-rule=\"evenodd\" fill-opacity=\"1\" /><path clip-path=\"url(#clip410)\" d=\"M117.015 177.738 L124.654 177.738 L124.654 151.373 L116.343 153.039 L116.343 148.78 L124.607 147.113 L129.283 147.113 L129.283 177.738 L136.922 177.738 L136.922 181.673 L117.015 181.673 L117.015 177.738 Z\" fill=\"#000000\" fill-rule=\"evenodd\" fill-opacity=\"1\" /><path clip-path=\"url(#clip410)\" d=\"M146.366 175.794 L151.251 175.794 L151.251 181.673 L146.366 181.673 L146.366 175.794 Z\" fill=\"#000000\" fill-rule=\"evenodd\" fill-opacity=\"1\" /><path clip-path=\"url(#clip410)\" d=\"M171.436 150.192 Q167.825 150.192 165.996 153.757 Q164.19 157.298 164.19 164.428 Q164.19 171.535 165.996 175.099 Q167.825 178.641 171.436 178.641 Q175.07 178.641 176.876 175.099 Q178.704 171.535 178.704 164.428 Q178.704 157.298 176.876 153.757 Q175.07 150.192 171.436 150.192 M171.436 146.488 Q177.246 146.488 180.301 151.095 Q183.38 155.678 183.38 164.428 Q183.38 173.155 180.301 177.761 Q177.246 182.345 171.436 182.345 Q165.626 182.345 162.547 177.761 Q159.491 173.155 159.491 164.428 Q159.491 155.678 162.547 151.095 Q165.626 146.488 171.436 146.488 Z\" fill=\"#000000\" fill-rule=\"evenodd\" fill-opacity=\"1\" /><path clip-path=\"url(#clip410)\" d=\"M118.01 60.5889 L125.649 60.5889 L125.649 34.2233 L117.339 35.89 L117.339 31.6308 L125.603 29.9641 L130.279 29.9641 L130.279 60.5889 L137.917 60.5889 L137.917 64.5241 L118.01 64.5241 L118.01 60.5889 Z\" fill=\"#000000\" fill-rule=\"evenodd\" fill-opacity=\"1\" /><path clip-path=\"url(#clip410)\" d=\"M147.362 58.6445 L152.246 58.6445 L152.246 64.5241 L147.362 64.5241 L147.362 58.6445 Z\" fill=\"#000000\" fill-rule=\"evenodd\" fill-opacity=\"1\" /><path clip-path=\"url(#clip410)\" d=\"M162.477 29.9641 L180.834 29.9641 L180.834 33.8993 L166.76 33.8993 L166.76 42.3714 Q167.778 42.0242 168.797 41.8622 Q169.815 41.677 170.834 41.677 Q176.621 41.677 180.001 44.8483 Q183.38 48.0196 183.38 53.4362 Q183.38 59.0149 179.908 62.1167 Q176.436 65.1954 170.116 65.1954 Q167.94 65.1954 165.672 64.825 Q163.427 64.4547 161.019 63.7139 L161.019 59.0149 Q163.102 60.1491 165.325 60.7047 Q167.547 61.2602 170.024 61.2602 Q174.028 61.2602 176.366 59.1538 Q178.704 57.0473 178.704 53.4362 Q178.704 49.8251 176.366 47.7186 Q174.028 45.6122 170.024 45.6122 Q168.149 45.6122 166.274 46.0288 Q164.422 46.4455 162.477 47.3251 L162.477 29.9641 Z\" fill=\"#000000\" fill-rule=\"evenodd\" fill-opacity=\"1\" /><path clip-path=\"url(#clip410)\" d=\"M41.1758 314.046 Q41.6267 314.046 42.6895 314.336 L67.8744 320.648 Q73.4783 322.033 77.4074 326.542 Q81.3365 331.018 81.3365 336.107 Q81.3365 339.166 79.694 341.131 Q78.0837 343.095 75.6039 343.095 Q73.4139 343.095 72.3511 341.936 Q71.3205 340.777 71.3205 339.392 Q71.3205 338.941 71.4493 338.458 Q71.5781 337.975 72.1256 337.459 Q72.6731 336.944 73.6071 336.944 Q75.1208 336.944 76.3124 338.264 Q76.8599 338.909 76.9887 339.521 Q77.1175 340.1 77.1175 341.099 Q78.0193 340.712 78.6312 340.004 Q79.2431 339.295 79.4686 338.49 Q79.7262 337.685 79.7906 337.169 Q79.8872 336.622 79.8872 336.107 Q79.8872 331.984 75.7327 328.828 Q74.4766 327.894 73.2206 327.218 Q71.9968 326.509 70.4831 325.994 Q69.0016 325.479 68.1965 325.253 Q67.3914 324.996 65.5556 324.545 Q68.5508 327.54 68.5508 331.211 Q68.5508 332.757 68.1321 334.142 Q67.7134 335.495 66.8439 336.686 Q65.9421 337.878 64.364 338.587 Q62.7859 339.263 60.6925 339.263 Q58.4703 339.263 55.443 338.393 Q52.4156 337.524 46.844 335.43 Q43.72 334.303 42.2064 334.303 Q41.4656 334.303 41.0148 334.464 Q40.5317 334.625 40.3706 334.947 Q40.1774 335.269 40.1452 335.463 Q40.113 335.624 40.113 335.946 Q40.113 337.846 42.0453 339.617 Q43.9777 341.388 48.2933 342.612 Q49.0984 342.87 49.2917 343.031 Q49.4849 343.192 49.4849 343.675 Q49.4527 344.48 48.8086 344.48 Q48.5509 344.48 47.5525 344.19 Q46.522 343.9 45.0083 343.224 Q43.4624 342.516 42.0775 341.549 Q40.6605 340.583 39.6621 339.07 Q38.6637 337.524 38.6637 335.752 Q38.6637 333.337 40.2418 331.856 Q41.7877 330.342 44.0743 330.342 Q45.0083 330.342 45.8456 330.599 Q46.6508 330.825 48.8086 331.662 Q57.5042 335.044 61.7553 335.044 Q62.7859 335.044 63.6555 334.883 Q64.4928 334.69 65.3302 334.271 Q66.1353 333.852 66.6184 333.015 Q67.0693 332.145 67.0693 330.954 Q67.0693 329.44 66.3608 328.023 Q65.62 326.574 64.6217 325.672 Q63.6233 324.738 62.7859 324.191 Q61.9164 323.611 61.4655 323.482 L49.6137 320.519 L44.332 319.199 Q41.4656 318.587 40.7571 318.297 Q40.0808 317.91 39.7265 317.234 Q39.3723 316.558 39.3723 315.978 Q39.3723 315.173 39.8553 314.625 Q40.3384 314.046 41.1758 314.046 Z\" fill=\"#000000\" fill-rule=\"evenodd\" fill-opacity=\"1\" /><path clip-path=\"url(#clip410)\" d=\"M15.5216 279.908 L25.6214 282.411 Q26.2301 282.546 26.3879 282.659 Q26.5457 282.772 26.5457 283.087 Q26.5457 283.335 26.433 283.493 Q26.3203 283.628 26.2076 283.628 L26.0948 283.651 Q26.0272 283.651 25.689 283.606 Q25.3283 283.561 24.7422 283.516 Q24.156 283.47 23.5023 283.47 Q19.805 283.47 18.0917 285.274 Q16.3558 287.055 16.3558 290.121 Q16.3558 292.24 17.483 294.134 Q18.6102 296.028 20.3912 297.11 Q22.1496 298.192 23.9982 298.192 Q25.689 298.192 26.7712 297.335 Q27.8533 296.478 28.214 295.374 L29.0481 292.285 Q29.8822 289.039 30.2429 288.115 Q30.5811 287.19 31.3476 286.424 Q33.4668 284.147 36.7582 284.147 Q39.5988 284.147 42.3491 285.747 Q45.077 287.348 46.858 290.098 Q48.6164 292.849 48.6164 295.892 Q48.6164 301.235 45.3024 303.693 L47.9175 305.947 Q48.4135 306.375 48.5037 306.511 Q48.6164 306.623 48.6164 306.781 Q48.6164 306.984 48.4811 307.142 Q48.3684 307.3 48.1655 307.3 Q48.0077 307.3 42.7098 305.969 Q37.412 304.639 37.2993 304.527 Q37.1189 304.346 37.1189 304.053 Q37.1189 303.512 37.6374 303.512 Q37.7727 303.557 37.953 303.602 Q39.5762 303.873 40.4554 303.873 Q42.1011 303.873 43.3636 303.309 Q44.6035 302.746 45.325 301.912 Q46.0238 301.055 46.4747 299.905 Q46.903 298.755 47.0608 297.786 Q47.1961 296.817 47.1961 295.802 Q47.1961 293.615 45.9336 291.677 Q44.6712 289.715 42.7098 288.611 Q40.7485 287.483 38.697 287.483 Q37.6149 287.483 36.7807 287.776 Q35.9241 288.069 35.4506 288.475 Q34.9772 288.859 34.6165 289.512 Q34.2558 290.166 34.1205 290.617 Q33.9627 291.045 33.8049 291.722 L32.4974 296.659 Q31.9112 298.643 30.2204 300.063 Q28.5296 301.461 25.937 301.461 Q23.2092 301.461 20.6842 299.86 Q18.1368 298.237 16.6038 295.599 Q15.0482 292.939 15.0482 290.076 Q15.0482 287.821 15.9274 286.086 Q16.7841 284.35 18.3848 283.47 L15.7471 281.239 Q15.2286 280.788 15.1384 280.698 Q15.0482 280.585 15.0482 280.427 Q15.0482 280.156 15.206 280.044 Q15.3638 279.908 15.5216 279.908 Z\" fill=\"#000000\" fill-rule=\"evenodd\" fill-opacity=\"1\" /><path clip-path=\"url(#clip410)\" d=\"M23.0288 244.284 Q25.5538 244.284 27.8758 246.156 Q30.1979 248.004 31.6181 251.025 Q33.0159 254.024 33.0159 257.247 L33.0159 265.093 L44.5585 267.956 Q44.6261 267.978 44.9192 268.046 Q45.1897 268.114 45.3475 268.114 Q45.9111 268.114 46.0464 267.415 Q46.1816 266.693 46.1816 265.093 Q46.1816 264.056 46.362 263.898 Q46.4747 263.808 46.6776 263.808 Q46.9932 263.808 47.2187 263.898 Q47.4216 263.988 47.4892 264.168 Q47.5568 264.326 47.5794 264.439 Q47.6019 264.552 47.6019 264.732 Q47.6019 265.205 47.5568 266.22 Q47.5117 267.212 47.5117 267.73 L47.4666 270.684 L47.6019 276.545 Q47.6019 277.244 47.0383 277.244 Q46.61 277.244 46.4296 277.064 Q46.2267 276.883 46.2042 276.68 Q46.1816 276.477 46.1816 275.959 Q46.1816 274.832 46.114 274.155 Q46.0464 273.479 45.9562 273.051 Q45.8435 272.6 45.5279 272.374 Q45.2122 272.126 44.9417 272.014 Q44.6486 271.901 43.9949 271.743 L19.1963 265.566 Q18.4524 265.386 18.3397 265.386 Q17.9564 265.386 17.8211 265.611 Q17.6633 265.814 17.5957 266.4 Q17.5055 267.527 17.5055 268.384 Q17.5055 268.948 17.483 269.173 Q17.4604 269.376 17.3477 269.556 Q17.2125 269.714 16.9419 269.714 Q16.5136 269.714 16.3332 269.534 Q16.1303 269.331 16.1078 269.106 Q16.0627 268.88 16.0627 268.339 L16.0627 253.37 Q16.0627 249.064 18.1142 246.674 Q20.1657 244.284 23.0288 244.284 M21.9242 248.568 Q17.5055 248.568 17.5055 254.858 L17.5055 259.276 Q17.5055 260.742 17.7761 261.102 Q18.024 261.463 19.264 261.779 L31.821 264.912 L31.821 258.397 Q31.821 254.024 29.3637 251.296 Q28.2365 250.056 25.8919 249.312 Q23.5473 248.568 21.9242 248.568 Z\" fill=\"#000000\" fill-rule=\"evenodd\" fill-opacity=\"1\" /><path clip-path=\"url(#clip410)\" d=\"M84.2994 188.571 L18.3418 188.571 L18.3418 178.619 L19.8555 178.619 L19.8555 184.158 L82.7858 184.158 L82.7858 178.619 L84.2994 178.619 L84.2994 188.571 Z\" fill=\"#000000\" fill-rule=\"evenodd\" fill-opacity=\"1\" /><path clip-path=\"url(#clip410)\" d=\"M50.3867 126.878 Q50.7731 126.491 51.3206 126.491 Q51.8681 126.491 52.2546 126.878 Q52.6411 127.264 52.6411 127.812 L52.6411 169.1 Q52.6411 169.647 52.2546 170.034 Q51.8681 170.42 51.3206 170.42 Q50.7731 170.42 50.3867 170.034 Q50.0002 169.647 50.0002 169.1 L50.0002 127.812 Q50.0002 127.264 50.3867 126.878 Z\" fill=\"#000000\" fill-rule=\"evenodd\" fill-opacity=\"1\" /><path clip-path=\"url(#clip410)\" d=\"M82.7858 119.606 L82.7858 114.067 L19.8555 114.067 L19.8555 119.606 L18.3418 119.606 L18.3418 109.654 L84.2994 109.654 L84.2994 119.606 L82.7858 119.606 Z\" fill=\"#000000\" fill-rule=\"evenodd\" fill-opacity=\"1\" /><polyline clip-path=\"url(#clip413)\" style=\"stroke:#000000; stroke-linecap:round; stroke-linejoin:round; stroke-width:4; stroke-opacity:1; fill:none\" stroke-dasharray=\"2, 4\" points=\"279.759,117.534 357.167,117.534 434.576,117.534 511.984,117.534 589.392,117.534 666.801,117.534 744.209,117.534 821.618,117.534 899.026,117.534 976.434,117.534 1053.84,117.534 1131.25,117.534 1208.66,117.534 1286.07,117.534 1363.48,117.534 1440.88,117.534 1518.29,117.534 1595.7,117.534 1673.11,117.534 1750.52,117.534 1827.93,117.534 1905.34,117.534 1982.74,117.534 2060.15,117.534 2137.56,117.534 2214.97,117.534 2292.38,117.534 \"/>\n",
       "<circle clip-path=\"url(#clip413)\" cx=\"279.759\" cy=\"117.534\" r=\"10.8\" fill=\"#000000\" fill-rule=\"evenodd\" fill-opacity=\"1\" stroke=\"none\"/>\n",
       "<circle clip-path=\"url(#clip413)\" cx=\"357.167\" cy=\"117.534\" r=\"10.8\" fill=\"#000000\" fill-rule=\"evenodd\" fill-opacity=\"1\" stroke=\"none\"/>\n",
       "<circle clip-path=\"url(#clip413)\" cx=\"434.576\" cy=\"117.534\" r=\"10.8\" fill=\"#000000\" fill-rule=\"evenodd\" fill-opacity=\"1\" stroke=\"none\"/>\n",
       "<circle clip-path=\"url(#clip413)\" cx=\"511.984\" cy=\"117.534\" r=\"10.8\" fill=\"#000000\" fill-rule=\"evenodd\" fill-opacity=\"1\" stroke=\"none\"/>\n",
       "<circle clip-path=\"url(#clip413)\" cx=\"589.392\" cy=\"117.534\" r=\"10.8\" fill=\"#000000\" fill-rule=\"evenodd\" fill-opacity=\"1\" stroke=\"none\"/>\n",
       "<circle clip-path=\"url(#clip413)\" cx=\"666.801\" cy=\"117.534\" r=\"10.8\" fill=\"#000000\" fill-rule=\"evenodd\" fill-opacity=\"1\" stroke=\"none\"/>\n",
       "<circle clip-path=\"url(#clip413)\" cx=\"744.209\" cy=\"117.534\" r=\"10.8\" fill=\"#000000\" fill-rule=\"evenodd\" fill-opacity=\"1\" stroke=\"none\"/>\n",
       "<circle clip-path=\"url(#clip413)\" cx=\"821.618\" cy=\"117.534\" r=\"10.8\" fill=\"#000000\" fill-rule=\"evenodd\" fill-opacity=\"1\" stroke=\"none\"/>\n",
       "<circle clip-path=\"url(#clip413)\" cx=\"899.026\" cy=\"117.534\" r=\"10.8\" fill=\"#000000\" fill-rule=\"evenodd\" fill-opacity=\"1\" stroke=\"none\"/>\n",
       "<circle clip-path=\"url(#clip413)\" cx=\"976.434\" cy=\"117.537\" r=\"10.8\" fill=\"#000000\" fill-rule=\"evenodd\" fill-opacity=\"1\" stroke=\"none\"/>\n",
       "<circle clip-path=\"url(#clip413)\" cx=\"1053.84\" cy=\"117.552\" r=\"10.8\" fill=\"#000000\" fill-rule=\"evenodd\" fill-opacity=\"1\" stroke=\"none\"/>\n",
       "<circle clip-path=\"url(#clip413)\" cx=\"1131.25\" cy=\"259.319\" r=\"10.8\" fill=\"#000000\" fill-rule=\"evenodd\" fill-opacity=\"1\" stroke=\"none\"/>\n",
       "<circle clip-path=\"url(#clip413)\" cx=\"1208.66\" cy=\"152.878\" r=\"10.8\" fill=\"#000000\" fill-rule=\"evenodd\" fill-opacity=\"1\" stroke=\"none\"/>\n",
       "<circle clip-path=\"url(#clip413)\" cx=\"1286.07\" cy=\"118.344\" r=\"10.8\" fill=\"#000000\" fill-rule=\"evenodd\" fill-opacity=\"1\" stroke=\"none\"/>\n",
       "<circle clip-path=\"url(#clip413)\" cx=\"1363.48\" cy=\"151.185\" r=\"10.8\" fill=\"#000000\" fill-rule=\"evenodd\" fill-opacity=\"1\" stroke=\"none\"/>\n",
       "<circle clip-path=\"url(#clip413)\" cx=\"1440.88\" cy=\"212.157\" r=\"10.8\" fill=\"#000000\" fill-rule=\"evenodd\" fill-opacity=\"1\" stroke=\"none\"/>\n",
       "<circle clip-path=\"url(#clip413)\" cx=\"1518.29\" cy=\"117.537\" r=\"10.8\" fill=\"#000000\" fill-rule=\"evenodd\" fill-opacity=\"1\" stroke=\"none\"/>\n",
       "<circle clip-path=\"url(#clip413)\" cx=\"1595.7\" cy=\"117.537\" r=\"10.8\" fill=\"#000000\" fill-rule=\"evenodd\" fill-opacity=\"1\" stroke=\"none\"/>\n",
       "<circle clip-path=\"url(#clip413)\" cx=\"1673.11\" cy=\"117.545\" r=\"10.8\" fill=\"#000000\" fill-rule=\"evenodd\" fill-opacity=\"1\" stroke=\"none\"/>\n",
       "<circle clip-path=\"url(#clip413)\" cx=\"1750.52\" cy=\"213.731\" r=\"10.8\" fill=\"#000000\" fill-rule=\"evenodd\" fill-opacity=\"1\" stroke=\"none\"/>\n",
       "<circle clip-path=\"url(#clip413)\" cx=\"1827.93\" cy=\"166.04\" r=\"10.8\" fill=\"#000000\" fill-rule=\"evenodd\" fill-opacity=\"1\" stroke=\"none\"/>\n",
       "<circle clip-path=\"url(#clip413)\" cx=\"1905.34\" cy=\"119.098\" r=\"10.8\" fill=\"#000000\" fill-rule=\"evenodd\" fill-opacity=\"1\" stroke=\"none\"/>\n",
       "<circle clip-path=\"url(#clip413)\" cx=\"1982.74\" cy=\"172.468\" r=\"10.8\" fill=\"#000000\" fill-rule=\"evenodd\" fill-opacity=\"1\" stroke=\"none\"/>\n",
       "<circle clip-path=\"url(#clip413)\" cx=\"2060.15\" cy=\"144.773\" r=\"10.8\" fill=\"#000000\" fill-rule=\"evenodd\" fill-opacity=\"1\" stroke=\"none\"/>\n",
       "<circle clip-path=\"url(#clip413)\" cx=\"2137.56\" cy=\"137.16\" r=\"10.8\" fill=\"#000000\" fill-rule=\"evenodd\" fill-opacity=\"1\" stroke=\"none\"/>\n",
       "<circle clip-path=\"url(#clip413)\" cx=\"2214.97\" cy=\"145.115\" r=\"10.8\" fill=\"#000000\" fill-rule=\"evenodd\" fill-opacity=\"1\" stroke=\"none\"/>\n",
       "<circle clip-path=\"url(#clip413)\" cx=\"2292.38\" cy=\"161.939\" r=\"10.8\" fill=\"#000000\" fill-rule=\"evenodd\" fill-opacity=\"1\" stroke=\"none\"/>\n",
       "<polyline clip-path=\"url(#clip413)\" style=\"stroke:#000000; stroke-linecap:round; stroke-linejoin:round; stroke-width:12; stroke-opacity:1; fill:none\" points=\"279.759,117.534 279.759,117.534 357.167,117.534 357.167,117.534 434.576,117.534 434.576,117.534 511.984,117.534 511.984,117.534 589.392,117.534 589.392,117.534 666.801,117.534 666.801,117.534 744.209,117.534 744.209,117.534 821.618,117.534 821.618,117.534 899.026,117.534 899.026,117.537 976.434,117.537 976.434,117.552 1053.84,117.552 1053.84,259.319 1131.25,259.319 1131.25,152.878 1208.66,152.878 1208.66,118.344 1286.07,118.344 1286.07,151.185 1363.48,151.185 1363.48,212.157 1440.88,212.157 1440.88,117.537 1518.29,117.537 1518.29,117.537 1595.7,117.537 1595.7,117.545 1673.11,117.545 1673.11,213.731 1750.52,213.731 1750.52,166.04 1827.93,166.04 1827.93,119.098 1905.34,119.098 1905.34,172.468 1982.74,172.468 1982.74,144.773 2060.15,144.773 2060.15,137.16 2137.56,137.16 2137.56,145.115 2214.97,145.115 2214.97,161.939 2292.38,161.939 \"/>\n",
       "<path clip-path=\"url(#clip413)\" d=\"M267.759 105.534 L267.759 129.534 L291.759 129.534 L291.759 105.534 L267.759 105.534 Z\" fill=\"#000000\" fill-rule=\"evenodd\" fill-opacity=\"1\" stroke=\"none\"/>\n",
       "<path clip-path=\"url(#clip413)\" d=\"M345.167 105.534 L345.167 129.534 L369.167 129.534 L369.167 105.534 L345.167 105.534 Z\" fill=\"#000000\" fill-rule=\"evenodd\" fill-opacity=\"1\" stroke=\"none\"/>\n",
       "<path clip-path=\"url(#clip413)\" d=\"M422.576 105.534 L422.576 129.534 L446.576 129.534 L446.576 105.534 L422.576 105.534 Z\" fill=\"#000000\" fill-rule=\"evenodd\" fill-opacity=\"1\" stroke=\"none\"/>\n",
       "<path clip-path=\"url(#clip413)\" d=\"M499.984 105.534 L499.984 129.534 L523.984 129.534 L523.984 105.534 L499.984 105.534 Z\" fill=\"#000000\" fill-rule=\"evenodd\" fill-opacity=\"1\" stroke=\"none\"/>\n",
       "<path clip-path=\"url(#clip413)\" d=\"M577.392 105.534 L577.392 129.534 L601.392 129.534 L601.392 105.534 L577.392 105.534 Z\" fill=\"#000000\" fill-rule=\"evenodd\" fill-opacity=\"1\" stroke=\"none\"/>\n",
       "<path clip-path=\"url(#clip413)\" d=\"M654.801 105.534 L654.801 129.534 L678.801 129.534 L678.801 105.534 L654.801 105.534 Z\" fill=\"#000000\" fill-rule=\"evenodd\" fill-opacity=\"1\" stroke=\"none\"/>\n",
       "<path clip-path=\"url(#clip413)\" d=\"M732.209 105.534 L732.209 129.534 L756.209 129.534 L756.209 105.534 L732.209 105.534 Z\" fill=\"#000000\" fill-rule=\"evenodd\" fill-opacity=\"1\" stroke=\"none\"/>\n",
       "<path clip-path=\"url(#clip413)\" d=\"M809.618 105.534 L809.618 129.534 L833.618 129.534 L833.618 105.534 L809.618 105.534 Z\" fill=\"#000000\" fill-rule=\"evenodd\" fill-opacity=\"1\" stroke=\"none\"/>\n",
       "<path clip-path=\"url(#clip413)\" d=\"M887.026 105.534 L887.026 129.534 L911.026 129.534 L911.026 105.534 L887.026 105.534 Z\" fill=\"#000000\" fill-rule=\"evenodd\" fill-opacity=\"1\" stroke=\"none\"/>\n",
       "<path clip-path=\"url(#clip413)\" d=\"M964.434 105.537 L964.434 129.537 L988.434 129.537 L988.434 105.537 L964.434 105.537 Z\" fill=\"#000000\" fill-rule=\"evenodd\" fill-opacity=\"1\" stroke=\"none\"/>\n",
       "<path clip-path=\"url(#clip413)\" d=\"M1041.84 105.552 L1041.84 129.552 L1065.84 129.552 L1065.84 105.552 L1041.84 105.552 Z\" fill=\"#000000\" fill-rule=\"evenodd\" fill-opacity=\"1\" stroke=\"none\"/>\n",
       "<path clip-path=\"url(#clip413)\" d=\"M1119.25 247.319 L1119.25 271.319 L1143.25 271.319 L1143.25 247.319 L1119.25 247.319 Z\" fill=\"#000000\" fill-rule=\"evenodd\" fill-opacity=\"1\" stroke=\"none\"/>\n",
       "<path clip-path=\"url(#clip413)\" d=\"M1196.66 140.879 L1196.66 164.879 L1220.66 164.879 L1220.66 140.879 L1196.66 140.879 Z\" fill=\"#000000\" fill-rule=\"evenodd\" fill-opacity=\"1\" stroke=\"none\"/>\n",
       "<path clip-path=\"url(#clip413)\" d=\"M1274.07 106.344 L1274.07 130.344 L1298.07 130.344 L1298.07 106.344 L1274.07 106.344 Z\" fill=\"#000000\" fill-rule=\"evenodd\" fill-opacity=\"1\" stroke=\"none\"/>\n",
       "<path clip-path=\"url(#clip413)\" d=\"M1351.48 139.171 L1351.48 163.171 L1375.48 163.171 L1375.48 139.171 L1351.48 139.171 Z\" fill=\"#000000\" fill-rule=\"evenodd\" fill-opacity=\"1\" stroke=\"none\"/>\n",
       "<path clip-path=\"url(#clip413)\" d=\"M1428.88 200.181 L1428.88 224.181 L1452.88 224.181 L1452.88 200.181 L1428.88 200.181 Z\" fill=\"#000000\" fill-rule=\"evenodd\" fill-opacity=\"1\" stroke=\"none\"/>\n",
       "<path clip-path=\"url(#clip413)\" d=\"M1506.29 105.537 L1506.29 129.537 L1530.29 129.537 L1530.29 105.537 L1506.29 105.537 Z\" fill=\"#000000\" fill-rule=\"evenodd\" fill-opacity=\"1\" stroke=\"none\"/>\n",
       "<path clip-path=\"url(#clip413)\" d=\"M1583.7 105.537 L1583.7 129.537 L1607.7 129.537 L1607.7 105.537 L1583.7 105.537 Z\" fill=\"#000000\" fill-rule=\"evenodd\" fill-opacity=\"1\" stroke=\"none\"/>\n",
       "<path clip-path=\"url(#clip413)\" d=\"M1661.11 105.545 L1661.11 129.545 L1685.11 129.545 L1685.11 105.545 L1661.11 105.545 Z\" fill=\"#000000\" fill-rule=\"evenodd\" fill-opacity=\"1\" stroke=\"none\"/>\n",
       "<path clip-path=\"url(#clip413)\" d=\"M1738.52 201.517 L1738.52 225.517 L1762.52 225.517 L1762.52 201.517 L1738.52 201.517 Z\" fill=\"#000000\" fill-rule=\"evenodd\" fill-opacity=\"1\" stroke=\"none\"/>\n",
       "<path clip-path=\"url(#clip413)\" d=\"M1815.93 154.693 L1815.93 178.693 L1839.93 178.693 L1839.93 154.693 L1815.93 154.693 Z\" fill=\"#000000\" fill-rule=\"evenodd\" fill-opacity=\"1\" stroke=\"none\"/>\n",
       "<path clip-path=\"url(#clip413)\" d=\"M1893.34 106.132 L1893.34 130.132 L1917.34 130.132 L1917.34 106.132 L1893.34 106.132 Z\" fill=\"#000000\" fill-rule=\"evenodd\" fill-opacity=\"1\" stroke=\"none\"/>\n",
       "<path clip-path=\"url(#clip413)\" d=\"M1970.74 161.349 L1970.74 185.349 L1994.74 185.349 L1994.74 161.349 L1970.74 161.349 Z\" fill=\"#000000\" fill-rule=\"evenodd\" fill-opacity=\"1\" stroke=\"none\"/>\n",
       "<path clip-path=\"url(#clip413)\" d=\"M2048.15 132.259 L2048.15 156.259 L2072.15 156.259 L2072.15 132.259 L2048.15 132.259 Z\" fill=\"#000000\" fill-rule=\"evenodd\" fill-opacity=\"1\" stroke=\"none\"/>\n",
       "<path clip-path=\"url(#clip413)\" d=\"M2125.56 125.337 L2125.56 149.337 L2149.56 149.337 L2149.56 125.337 L2125.56 125.337 Z\" fill=\"#000000\" fill-rule=\"evenodd\" fill-opacity=\"1\" stroke=\"none\"/>\n",
       "<path clip-path=\"url(#clip413)\" d=\"M2202.97 133.097 L2202.97 157.097 L2226.97 157.097 L2226.97 133.097 L2202.97 133.097 Z\" fill=\"#000000\" fill-rule=\"evenodd\" fill-opacity=\"1\" stroke=\"none\"/>\n",
       "<path clip-path=\"url(#clip413)\" d=\"M2280.38 149.913 L2280.38 173.913 L2304.38 173.913 L2304.38 149.913 L2280.38 149.913 Z\" fill=\"#000000\" fill-rule=\"evenodd\" fill-opacity=\"1\" stroke=\"none\"/>\n",
       "<polyline clip-path=\"url(#clip413)\" style=\"stroke:#000000; stroke-linecap:round; stroke-linejoin:round; stroke-width:12; stroke-opacity:1; fill:none\" stroke-dasharray=\"48, 24, 6, 24\" points=\"279.759,117.534 279.759,117.534 357.167,117.534 357.167,117.534 434.576,117.534 434.576,117.534 511.984,117.534 511.984,117.534 589.392,117.534 589.392,117.534 666.801,117.534 666.801,117.534 744.209,117.534 744.209,117.534 821.618,117.534 821.618,117.534 899.026,117.534 899.026,117.537 976.434,117.537 976.434,117.552 1053.84,117.552 1053.84,259.319 1131.25,259.319 1131.25,152.879 1208.66,152.879 1208.66,118.344 1286.07,118.344 1286.07,151.171 1363.48,151.171 1363.48,212.181 1440.88,212.181 1440.88,117.537 1518.29,117.537 1518.29,117.537 1595.7,117.537 1595.7,117.545 1673.11,117.545 1673.11,213.517 1750.52,213.517 1750.52,166.693 1827.93,166.693 1827.93,118.132 1905.34,118.132 1905.34,173.349 1982.74,173.349 1982.74,144.259 2060.15,144.259 2060.15,137.337 2137.56,137.337 2137.56,145.097 2214.97,145.097 2214.97,161.913 2292.38,161.913 \"/>\n",
       "<path clip-path=\"url(#clip410)\" d=\"M1934.88 386.977 L2281.64 386.977 L2281.64 179.617 L1934.88 179.617  Z\" fill=\"#ffffff\" fill-rule=\"evenodd\" fill-opacity=\"1\"/>\n",
       "<polyline clip-path=\"url(#clip410)\" style=\"stroke:#000000; stroke-linecap:round; stroke-linejoin:round; stroke-width:4; stroke-opacity:1; fill:none\" points=\"1934.88,386.977 2281.64,386.977 2281.64,179.617 1934.88,179.617 1934.88,386.977 \"/>\n",
       "<polyline clip-path=\"url(#clip410)\" style=\"stroke:#000000; stroke-linecap:round; stroke-linejoin:round; stroke-width:4; stroke-opacity:1; fill:none\" stroke-dasharray=\"2, 4\" points=\"1958.58,231.457 2100.81,231.457 \"/>\n",
       "<path clip-path=\"url(#clip410)\" d=\"M2124.51 214.177 L2129.19 214.177 L2129.19 244.802 L2146.02 244.802 L2146.02 248.737 L2124.51 248.737 L2124.51 214.177 Z\" fill=\"#000000\" fill-rule=\"evenodd\" fill-opacity=\"1\" /><path clip-path=\"url(#clip410)\" d=\"M2150.74 222.811 L2155 222.811 L2155 248.737 L2150.74 248.737 L2150.74 222.811 M2150.74 212.719 L2155 212.719 L2155 218.112 L2150.74 218.112 L2150.74 212.719 Z\" fill=\"#000000\" fill-rule=\"evenodd\" fill-opacity=\"1\" /><path clip-path=\"url(#clip410)\" d=\"M2184.1 227.788 Q2185.69 224.918 2187.92 223.552 Q2190.14 222.186 2193.15 222.186 Q2197.2 222.186 2199.4 225.033 Q2201.6 227.857 2201.6 233.089 L2201.6 248.737 L2197.31 248.737 L2197.31 233.228 Q2197.31 229.501 2196 227.695 Q2194.68 225.89 2191.97 225.89 Q2188.66 225.89 2186.74 228.089 Q2184.81 230.288 2184.81 234.084 L2184.81 248.737 L2180.53 248.737 L2180.53 233.228 Q2180.53 229.478 2179.21 227.695 Q2177.89 225.89 2175.14 225.89 Q2171.87 225.89 2169.95 228.112 Q2168.03 230.311 2168.03 234.084 L2168.03 248.737 L2163.75 248.737 L2163.75 222.811 L2168.03 222.811 L2168.03 226.839 Q2169.49 224.455 2171.53 223.32 Q2173.56 222.186 2176.37 222.186 Q2179.19 222.186 2181.16 223.621 Q2183.15 225.057 2184.1 227.788 Z\" fill=\"#000000\" fill-rule=\"evenodd\" fill-opacity=\"1\" /><path clip-path=\"url(#clip410)\" d=\"M2210.09 222.811 L2214.35 222.811 L2214.35 248.737 L2210.09 248.737 L2210.09 222.811 M2210.09 212.719 L2214.35 212.719 L2214.35 218.112 L2210.09 218.112 L2210.09 212.719 Z\" fill=\"#000000\" fill-rule=\"evenodd\" fill-opacity=\"1\" /><path clip-path=\"url(#clip410)\" d=\"M2227.48 215.45 L2227.48 222.811 L2236.25 222.811 L2236.25 226.121 L2227.48 226.121 L2227.48 240.195 Q2227.48 243.367 2228.33 244.269 Q2229.21 245.172 2231.87 245.172 L2236.25 245.172 L2236.25 248.737 L2231.87 248.737 Q2226.94 248.737 2225.07 246.908 Q2223.19 245.056 2223.19 240.195 L2223.19 226.121 L2220.07 226.121 L2220.07 222.811 L2223.19 222.811 L2223.19 215.45 L2227.48 215.45 Z\" fill=\"#000000\" fill-rule=\"evenodd\" fill-opacity=\"1\" /><polyline clip-path=\"url(#clip410)\" style=\"stroke:#000000; stroke-linecap:round; stroke-linejoin:round; stroke-width:12; stroke-opacity:1; fill:none\" points=\"1958.58,283.297 2100.81,283.297 \"/>\n",
       "<path clip-path=\"url(#clip410)\" d=\"M2124.51 266.017 L2131.48 266.017 L2140.3 289.535 L2149.17 266.017 L2156.13 266.017 L2156.13 300.577 L2151.57 300.577 L2151.57 270.23 L2142.66 293.933 L2137.96 293.933 L2129.05 270.23 L2129.05 300.577 L2124.51 300.577 L2124.51 266.017 Z\" fill=\"#000000\" fill-rule=\"evenodd\" fill-opacity=\"1\" /><path clip-path=\"url(#clip410)\" d=\"M2175.28 277.637 Q2171.85 277.637 2169.86 280.322 Q2167.87 282.984 2167.87 287.637 Q2167.87 292.29 2169.84 294.975 Q2171.83 297.637 2175.28 297.637 Q2178.68 297.637 2180.67 294.952 Q2182.66 292.267 2182.66 287.637 Q2182.66 283.031 2180.67 280.346 Q2178.68 277.637 2175.28 277.637 M2175.28 274.026 Q2180.83 274.026 2184 277.637 Q2187.18 281.248 2187.18 287.637 Q2187.18 294.003 2184 297.637 Q2180.83 301.248 2175.28 301.248 Q2169.7 301.248 2166.53 297.637 Q2163.38 294.003 2163.38 287.637 Q2163.38 281.248 2166.53 277.637 Q2169.7 274.026 2175.28 274.026 Z\" fill=\"#000000\" fill-rule=\"evenodd\" fill-opacity=\"1\" /><path clip-path=\"url(#clip410)\" d=\"M2215.79 284.929 L2215.79 300.577 L2211.53 300.577 L2211.53 285.068 Q2211.53 281.387 2210.09 279.559 Q2208.66 277.73 2205.79 277.73 Q2202.34 277.73 2200.35 279.929 Q2198.36 282.128 2198.36 285.924 L2198.36 300.577 L2194.07 300.577 L2194.07 274.651 L2198.36 274.651 L2198.36 278.679 Q2199.88 276.341 2201.94 275.184 Q2204.03 274.026 2206.74 274.026 Q2211.2 274.026 2213.49 276.804 Q2215.79 279.559 2215.79 284.929 Z\" fill=\"#000000\" fill-rule=\"evenodd\" fill-opacity=\"1\" /><path clip-path=\"url(#clip410)\" d=\"M2234.33 277.637 Q2230.9 277.637 2228.91 280.322 Q2226.92 282.984 2226.92 287.637 Q2226.92 292.29 2228.89 294.975 Q2230.88 297.637 2234.33 297.637 Q2237.73 297.637 2239.72 294.952 Q2241.71 292.267 2241.71 287.637 Q2241.71 283.031 2239.72 280.346 Q2237.73 277.637 2234.33 277.637 M2234.33 274.026 Q2239.88 274.026 2243.06 277.637 Q2246.23 281.248 2246.23 287.637 Q2246.23 294.003 2243.06 297.637 Q2239.88 301.248 2234.33 301.248 Q2228.75 301.248 2225.58 297.637 Q2222.43 294.003 2222.43 287.637 Q2222.43 281.248 2225.58 277.637 Q2228.75 274.026 2234.33 274.026 Z\" fill=\"#000000\" fill-rule=\"evenodd\" fill-opacity=\"1\" /><path clip-path=\"url(#clip410)\" d=\"M2253.05 294.697 L2257.94 294.697 L2257.94 300.577 L2253.05 300.577 L2253.05 294.697 Z\" fill=\"#000000\" fill-rule=\"evenodd\" fill-opacity=\"1\" /><polyline clip-path=\"url(#clip410)\" style=\"stroke:#000000; stroke-linecap:round; stroke-linejoin:round; stroke-width:12; stroke-opacity:1; fill:none\" stroke-dasharray=\"48, 24, 6, 24\" points=\"1958.58,335.137 2100.81,335.137 \"/>\n",
       "<path clip-path=\"url(#clip410)\" d=\"M2129.19 321.7 L2129.19 348.574 L2134.84 348.574 Q2141.99 348.574 2145.3 345.334 Q2148.63 342.093 2148.63 335.102 Q2148.63 328.158 2145.3 324.94 Q2141.99 321.7 2134.84 321.7 L2129.19 321.7 M2124.51 317.857 L2134.12 317.857 Q2144.17 317.857 2148.87 322.047 Q2153.56 326.213 2153.56 335.102 Q2153.56 344.037 2148.84 348.227 Q2144.12 352.417 2134.12 352.417 L2124.51 352.417 L2124.51 317.857 Z\" fill=\"#000000\" fill-rule=\"evenodd\" fill-opacity=\"1\" /><path clip-path=\"url(#clip410)\" d=\"M2183.01 338.389 L2183.01 340.473 L2163.43 340.473 Q2163.7 344.871 2166.06 347.185 Q2168.45 349.477 2172.69 349.477 Q2175.14 349.477 2177.43 348.875 Q2179.75 348.273 2182.01 347.07 L2182.01 351.098 Q2179.72 352.07 2177.31 352.579 Q2174.91 353.088 2172.43 353.088 Q2166.23 353.088 2162.59 349.477 Q2158.98 345.866 2158.98 339.709 Q2158.98 333.343 2162.41 329.616 Q2165.86 325.866 2171.69 325.866 Q2176.92 325.866 2179.95 329.246 Q2183.01 332.602 2183.01 338.389 M2178.75 337.139 Q2178.7 333.644 2176.78 331.561 Q2174.88 329.477 2171.74 329.477 Q2168.17 329.477 2166.02 331.491 Q2163.89 333.505 2163.56 337.162 L2178.75 337.139 Z\" fill=\"#000000\" fill-rule=\"evenodd\" fill-opacity=\"1\" /><path clip-path=\"url(#clip410)\" d=\"M2208.66 327.487 L2208.66 331.468 Q2206.85 330.473 2205.02 329.987 Q2203.22 329.477 2201.37 329.477 Q2197.22 329.477 2194.93 332.116 Q2192.64 334.732 2192.64 339.477 Q2192.64 344.223 2194.93 346.861 Q2197.22 349.477 2201.37 349.477 Q2203.22 349.477 2205.02 348.991 Q2206.85 348.482 2208.66 347.486 L2208.66 351.422 Q2206.87 352.255 2204.95 352.672 Q2203.06 353.088 2200.9 353.088 Q2195.05 353.088 2191.6 349.408 Q2188.15 345.727 2188.15 339.477 Q2188.15 333.135 2191.62 329.5 Q2195.12 325.866 2201.18 325.866 Q2203.15 325.866 2205.02 326.283 Q2206.9 326.676 2208.66 327.487 Z\" fill=\"#000000\" fill-rule=\"evenodd\" fill-opacity=\"1\" /><path clip-path=\"url(#clip410)\" d=\"M2226.11 329.477 Q2222.68 329.477 2220.69 332.162 Q2218.7 334.824 2218.7 339.477 Q2218.7 344.13 2220.67 346.815 Q2222.66 349.477 2226.11 349.477 Q2229.51 349.477 2231.5 346.792 Q2233.49 344.107 2233.49 339.477 Q2233.49 334.871 2231.5 332.186 Q2229.51 329.477 2226.11 329.477 M2226.11 325.866 Q2231.67 325.866 2234.84 329.477 Q2238.01 333.088 2238.01 339.477 Q2238.01 345.843 2234.84 349.477 Q2231.67 353.088 2226.11 353.088 Q2220.53 353.088 2217.36 349.477 Q2214.21 345.843 2214.21 339.477 Q2214.21 333.088 2217.36 329.477 Q2220.53 325.866 2226.11 325.866 Z\" fill=\"#000000\" fill-rule=\"evenodd\" fill-opacity=\"1\" /><path clip-path=\"url(#clip410)\" d=\"M2244.84 346.537 L2249.72 346.537 L2249.72 352.417 L2244.84 352.417 L2244.84 346.537 Z\" fill=\"#000000\" fill-rule=\"evenodd\" fill-opacity=\"1\" /><path clip-path=\"url(#clip410)\" d=\"M219.38 910.936 L2352.76 910.936 L2352.76 559.488 L219.38 559.488  Z\" fill=\"#ffffff\" fill-rule=\"evenodd\" fill-opacity=\"1\"/>\n",
       "<defs>\n",
       "  <clipPath id=\"clip414\">\n",
       "    <rect x=\"219\" y=\"559\" width=\"2134\" height=\"352\"/>\n",
       "  </clipPath>\n",
       "</defs>\n",
       "<polyline clip-path=\"url(#clip414)\" style=\"stroke:#000000; stroke-linecap:round; stroke-linejoin:round; stroke-width:8; stroke-opacity:0.1; fill:none\" points=\"589.392,910.936 589.392,559.488 \"/>\n",
       "<polyline clip-path=\"url(#clip414)\" style=\"stroke:#000000; stroke-linecap:round; stroke-linejoin:round; stroke-width:8; stroke-opacity:0.1; fill:none\" points=\"976.434,910.936 976.434,559.488 \"/>\n",
       "<polyline clip-path=\"url(#clip414)\" style=\"stroke:#000000; stroke-linecap:round; stroke-linejoin:round; stroke-width:8; stroke-opacity:0.1; fill:none\" points=\"1363.48,910.936 1363.48,559.488 \"/>\n",
       "<polyline clip-path=\"url(#clip414)\" style=\"stroke:#000000; stroke-linecap:round; stroke-linejoin:round; stroke-width:8; stroke-opacity:0.1; fill:none\" points=\"1750.52,910.936 1750.52,559.488 \"/>\n",
       "<polyline clip-path=\"url(#clip414)\" style=\"stroke:#000000; stroke-linecap:round; stroke-linejoin:round; stroke-width:8; stroke-opacity:0.1; fill:none\" points=\"2137.56,910.936 2137.56,559.488 \"/>\n",
       "<polyline clip-path=\"url(#clip410)\" style=\"stroke:#000000; stroke-linecap:round; stroke-linejoin:round; stroke-width:4; stroke-opacity:1; fill:none\" points=\"219.38,910.936 2352.76,910.936 \"/>\n",
       "<polyline clip-path=\"url(#clip410)\" style=\"stroke:#000000; stroke-linecap:round; stroke-linejoin:round; stroke-width:4; stroke-opacity:1; fill:none\" points=\"589.392,910.936 589.392,892.038 \"/>\n",
       "<polyline clip-path=\"url(#clip410)\" style=\"stroke:#000000; stroke-linecap:round; stroke-linejoin:round; stroke-width:4; stroke-opacity:1; fill:none\" points=\"976.434,910.936 976.434,892.038 \"/>\n",
       "<polyline clip-path=\"url(#clip410)\" style=\"stroke:#000000; stroke-linecap:round; stroke-linejoin:round; stroke-width:4; stroke-opacity:1; fill:none\" points=\"1363.48,910.936 1363.48,892.038 \"/>\n",
       "<polyline clip-path=\"url(#clip410)\" style=\"stroke:#000000; stroke-linecap:round; stroke-linejoin:round; stroke-width:4; stroke-opacity:1; fill:none\" points=\"1750.52,910.936 1750.52,892.038 \"/>\n",
       "<polyline clip-path=\"url(#clip410)\" style=\"stroke:#000000; stroke-linecap:round; stroke-linejoin:round; stroke-width:4; stroke-opacity:1; fill:none\" points=\"2137.56,910.936 2137.56,892.038 \"/>\n",
       "<path clip-path=\"url(#clip410)\" d=\"M579.67 938.776 L598.027 938.776 L598.027 942.711 L583.953 942.711 L583.953 951.183 Q584.971 950.836 585.99 950.674 Q587.008 950.489 588.027 950.489 Q593.814 950.489 597.193 953.66 Q600.573 956.831 600.573 962.248 Q600.573 967.827 597.101 970.928 Q593.628 974.007 587.309 974.007 Q585.133 974.007 582.865 973.637 Q580.619 973.266 578.212 972.526 L578.212 967.827 Q580.295 968.961 582.517 969.516 Q584.74 970.072 587.216 970.072 Q591.221 970.072 593.559 967.966 Q595.897 965.859 595.897 962.248 Q595.897 958.637 593.559 956.53 Q591.221 954.424 587.216 954.424 Q585.341 954.424 583.466 954.841 Q581.615 955.257 579.67 956.137 L579.67 938.776 Z\" fill=\"#000000\" fill-rule=\"evenodd\" fill-opacity=\"1\" /><path clip-path=\"url(#clip410)\" d=\"M951.122 969.401 L958.761 969.401 L958.761 943.035 L950.451 944.702 L950.451 940.443 L958.715 938.776 L963.39 938.776 L963.39 969.401 L971.029 969.401 L971.029 973.336 L951.122 973.336 L951.122 969.401 Z\" fill=\"#000000\" fill-rule=\"evenodd\" fill-opacity=\"1\" /><path clip-path=\"url(#clip410)\" d=\"M990.474 941.855 Q986.863 941.855 985.034 945.419 Q983.228 948.961 983.228 956.091 Q983.228 963.197 985.034 966.762 Q986.863 970.303 990.474 970.303 Q994.108 970.303 995.913 966.762 Q997.742 963.197 997.742 956.091 Q997.742 948.961 995.913 945.419 Q994.108 941.855 990.474 941.855 M990.474 938.151 Q996.284 938.151 999.339 942.757 Q1002.42 947.341 1002.42 956.091 Q1002.42 964.817 999.339 969.424 Q996.284 974.007 990.474 974.007 Q984.664 974.007 981.585 969.424 Q978.529 964.817 978.529 956.091 Q978.529 947.341 981.585 942.757 Q984.664 938.151 990.474 938.151 Z\" fill=\"#000000\" fill-rule=\"evenodd\" fill-opacity=\"1\" /><path clip-path=\"url(#clip410)\" d=\"M1338.66 969.401 L1346.3 969.401 L1346.3 943.035 L1337.99 944.702 L1337.99 940.443 L1346.25 938.776 L1350.93 938.776 L1350.93 969.401 L1358.57 969.401 L1358.57 973.336 L1338.66 973.336 L1338.66 969.401 Z\" fill=\"#000000\" fill-rule=\"evenodd\" fill-opacity=\"1\" /><path clip-path=\"url(#clip410)\" d=\"M1368.06 938.776 L1386.42 938.776 L1386.42 942.711 L1372.34 942.711 L1372.34 951.183 Q1373.36 950.836 1374.38 950.674 Q1375.4 950.489 1376.42 950.489 Q1382.2 950.489 1385.58 953.66 Q1388.96 956.831 1388.96 962.248 Q1388.96 967.827 1385.49 970.928 Q1382.02 974.007 1375.7 974.007 Q1373.52 974.007 1371.25 973.637 Q1369.01 973.266 1366.6 972.526 L1366.6 967.827 Q1368.68 968.961 1370.91 969.516 Q1373.13 970.072 1375.61 970.072 Q1379.61 970.072 1381.95 967.966 Q1384.29 965.859 1384.29 962.248 Q1384.29 958.637 1381.95 956.53 Q1379.61 954.424 1375.61 954.424 Q1373.73 954.424 1371.86 954.841 Q1370 955.257 1368.06 956.137 L1368.06 938.776 Z\" fill=\"#000000\" fill-rule=\"evenodd\" fill-opacity=\"1\" /><path clip-path=\"url(#clip410)\" d=\"M1729.29 969.401 L1745.61 969.401 L1745.61 973.336 L1723.67 973.336 L1723.67 969.401 Q1726.33 966.646 1730.91 962.016 Q1735.52 957.364 1736.7 956.021 Q1738.94 953.498 1739.82 951.762 Q1740.73 950.003 1740.73 948.313 Q1740.73 945.558 1738.78 943.822 Q1736.86 942.086 1733.76 942.086 Q1731.56 942.086 1729.11 942.85 Q1726.68 943.614 1723.9 945.165 L1723.9 940.443 Q1726.72 939.308 1729.18 938.73 Q1731.63 938.151 1733.67 938.151 Q1739.04 938.151 1742.23 940.836 Q1745.43 943.521 1745.43 948.012 Q1745.43 950.142 1744.62 952.063 Q1743.83 953.961 1741.72 956.554 Q1741.14 957.225 1738.04 960.442 Q1734.94 963.637 1729.29 969.401 Z\" fill=\"#000000\" fill-rule=\"evenodd\" fill-opacity=\"1\" /><path clip-path=\"url(#clip410)\" d=\"M1765.43 941.855 Q1761.81 941.855 1759.99 945.419 Q1758.18 948.961 1758.18 956.091 Q1758.18 963.197 1759.99 966.762 Q1761.81 970.303 1765.43 970.303 Q1769.06 970.303 1770.87 966.762 Q1772.69 963.197 1772.69 956.091 Q1772.69 948.961 1770.87 945.419 Q1769.06 941.855 1765.43 941.855 M1765.43 938.151 Q1771.24 938.151 1774.29 942.757 Q1777.37 947.341 1777.37 956.091 Q1777.37 964.817 1774.29 969.424 Q1771.24 974.007 1765.43 974.007 Q1759.62 974.007 1756.54 969.424 Q1753.48 964.817 1753.48 956.091 Q1753.48 947.341 1756.54 942.757 Q1759.62 938.151 1765.43 938.151 Z\" fill=\"#000000\" fill-rule=\"evenodd\" fill-opacity=\"1\" /><path clip-path=\"url(#clip410)\" d=\"M2116.83 969.401 L2133.15 969.401 L2133.15 973.336 L2111.21 973.336 L2111.21 969.401 Q2113.87 966.646 2118.45 962.016 Q2123.06 957.364 2124.24 956.021 Q2126.48 953.498 2127.36 951.762 Q2128.27 950.003 2128.27 948.313 Q2128.27 945.558 2126.32 943.822 Q2124.4 942.086 2121.3 942.086 Q2119.1 942.086 2116.65 942.85 Q2114.22 943.614 2111.44 945.165 L2111.44 940.443 Q2114.26 939.308 2116.72 938.73 Q2119.17 938.151 2121.21 938.151 Q2126.58 938.151 2129.77 940.836 Q2132.97 943.521 2132.97 948.012 Q2132.97 950.142 2132.16 952.063 Q2131.37 953.961 2129.26 956.554 Q2128.68 957.225 2125.58 960.442 Q2122.48 963.637 2116.83 969.401 Z\" fill=\"#000000\" fill-rule=\"evenodd\" fill-opacity=\"1\" /><path clip-path=\"url(#clip410)\" d=\"M2143.01 938.776 L2161.37 938.776 L2161.37 942.711 L2147.29 942.711 L2147.29 951.183 Q2148.31 950.836 2149.33 950.674 Q2150.35 950.489 2151.37 950.489 Q2157.16 950.489 2160.53 953.66 Q2163.91 956.831 2163.91 962.248 Q2163.91 967.827 2160.44 970.928 Q2156.97 974.007 2150.65 974.007 Q2148.47 974.007 2146.21 973.637 Q2143.96 973.266 2141.55 972.526 L2141.55 967.827 Q2143.64 968.961 2145.86 969.516 Q2148.08 970.072 2150.56 970.072 Q2154.56 970.072 2156.9 967.966 Q2159.24 965.859 2159.24 962.248 Q2159.24 958.637 2156.9 956.53 Q2154.56 954.424 2150.56 954.424 Q2148.68 954.424 2146.81 954.841 Q2144.96 955.257 2143.01 956.137 L2143.01 938.776 Z\" fill=\"#000000\" fill-rule=\"evenodd\" fill-opacity=\"1\" /><polyline clip-path=\"url(#clip414)\" style=\"stroke:#000000; stroke-linecap:round; stroke-linejoin:round; stroke-width:8; stroke-opacity:0.1; fill:none\" points=\"219.38,910.936 2352.76,910.936 \"/>\n",
       "<polyline clip-path=\"url(#clip414)\" style=\"stroke:#000000; stroke-linecap:round; stroke-linejoin:round; stroke-width:8; stroke-opacity:0.1; fill:none\" points=\"219.38,793.787 2352.76,793.787 \"/>\n",
       "<polyline clip-path=\"url(#clip414)\" style=\"stroke:#000000; stroke-linecap:round; stroke-linejoin:round; stroke-width:8; stroke-opacity:0.1; fill:none\" points=\"219.38,676.637 2352.76,676.637 \"/>\n",
       "<polyline clip-path=\"url(#clip414)\" style=\"stroke:#000000; stroke-linecap:round; stroke-linejoin:round; stroke-width:8; stroke-opacity:0.1; fill:none\" points=\"219.38,559.488 2352.76,559.488 \"/>\n",
       "<polyline clip-path=\"url(#clip410)\" style=\"stroke:#000000; stroke-linecap:round; stroke-linejoin:round; stroke-width:4; stroke-opacity:1; fill:none\" points=\"219.38,910.936 219.38,559.488 \"/>\n",
       "<polyline clip-path=\"url(#clip410)\" style=\"stroke:#000000; stroke-linecap:round; stroke-linejoin:round; stroke-width:4; stroke-opacity:1; fill:none\" points=\"219.38,910.936 238.278,910.936 \"/>\n",
       "<polyline clip-path=\"url(#clip410)\" style=\"stroke:#000000; stroke-linecap:round; stroke-linejoin:round; stroke-width:4; stroke-opacity:1; fill:none\" points=\"219.38,793.787 238.278,793.787 \"/>\n",
       "<polyline clip-path=\"url(#clip410)\" style=\"stroke:#000000; stroke-linecap:round; stroke-linejoin:round; stroke-width:4; stroke-opacity:1; fill:none\" points=\"219.38,676.637 238.278,676.637 \"/>\n",
       "<polyline clip-path=\"url(#clip410)\" style=\"stroke:#000000; stroke-linecap:round; stroke-linejoin:round; stroke-width:4; stroke-opacity:1; fill:none\" points=\"219.38,559.488 238.278,559.488 \"/>\n",
       "<path clip-path=\"url(#clip410)\" d=\"M126.205 896.735 Q122.593 896.735 120.765 900.299 Q118.959 903.841 118.959 910.971 Q118.959 918.077 120.765 921.642 Q122.593 925.183 126.205 925.183 Q129.839 925.183 131.644 921.642 Q133.473 918.077 133.473 910.971 Q133.473 903.841 131.644 900.299 Q129.839 896.735 126.205 896.735 M126.205 893.031 Q132.015 893.031 135.07 897.637 Q138.149 902.221 138.149 910.971 Q138.149 919.697 135.07 924.304 Q132.015 928.887 126.205 928.887 Q120.394 928.887 117.316 924.304 Q114.26 919.697 114.26 910.971 Q114.26 902.221 117.316 897.637 Q120.394 893.031 126.205 893.031 Z\" fill=\"#000000\" fill-rule=\"evenodd\" fill-opacity=\"1\" /><path clip-path=\"url(#clip410)\" d=\"M146.366 922.336 L151.251 922.336 L151.251 928.216 L146.366 928.216 L146.366 922.336 Z\" fill=\"#000000\" fill-rule=\"evenodd\" fill-opacity=\"1\" /><path clip-path=\"url(#clip410)\" d=\"M171.436 896.735 Q167.825 896.735 165.996 900.299 Q164.19 903.841 164.19 910.971 Q164.19 918.077 165.996 921.642 Q167.825 925.183 171.436 925.183 Q175.07 925.183 176.876 921.642 Q178.704 918.077 178.704 910.971 Q178.704 903.841 176.876 900.299 Q175.07 896.735 171.436 896.735 M171.436 893.031 Q177.246 893.031 180.301 897.637 Q183.38 902.221 183.38 910.971 Q183.38 919.697 180.301 924.304 Q177.246 928.887 171.436 928.887 Q165.626 928.887 162.547 924.304 Q159.491 919.697 159.491 910.971 Q159.491 902.221 162.547 897.637 Q165.626 893.031 171.436 893.031 Z\" fill=\"#000000\" fill-rule=\"evenodd\" fill-opacity=\"1\" /><path clip-path=\"url(#clip410)\" d=\"M127.2 779.585 Q123.589 779.585 121.76 783.15 Q119.955 786.692 119.955 793.821 Q119.955 800.928 121.76 804.493 Q123.589 808.034 127.2 808.034 Q130.834 808.034 132.64 804.493 Q134.468 800.928 134.468 793.821 Q134.468 786.692 132.64 783.15 Q130.834 779.585 127.2 779.585 M127.2 775.882 Q133.01 775.882 136.066 780.488 Q139.144 785.071 139.144 793.821 Q139.144 802.548 136.066 807.155 Q133.01 811.738 127.2 811.738 Q121.39 811.738 118.311 807.155 Q115.256 802.548 115.256 793.821 Q115.256 785.071 118.311 780.488 Q121.39 775.882 127.2 775.882 Z\" fill=\"#000000\" fill-rule=\"evenodd\" fill-opacity=\"1\" /><path clip-path=\"url(#clip410)\" d=\"M147.362 805.187 L152.246 805.187 L152.246 811.067 L147.362 811.067 L147.362 805.187 Z\" fill=\"#000000\" fill-rule=\"evenodd\" fill-opacity=\"1\" /><path clip-path=\"url(#clip410)\" d=\"M162.477 776.507 L180.834 776.507 L180.834 780.442 L166.76 780.442 L166.76 788.914 Q167.778 788.567 168.797 788.405 Q169.815 788.219 170.834 788.219 Q176.621 788.219 180.001 791.391 Q183.38 794.562 183.38 799.979 Q183.38 805.557 179.908 808.659 Q176.436 811.738 170.116 811.738 Q167.94 811.738 165.672 811.368 Q163.427 810.997 161.019 810.256 L161.019 805.557 Q163.102 806.692 165.325 807.247 Q167.547 807.803 170.024 807.803 Q174.028 807.803 176.366 805.696 Q178.704 803.59 178.704 799.979 Q178.704 796.368 176.366 794.261 Q174.028 792.155 170.024 792.155 Q168.149 792.155 166.274 792.571 Q164.422 792.988 162.477 793.868 L162.477 776.507 Z\" fill=\"#000000\" fill-rule=\"evenodd\" fill-opacity=\"1\" /><path clip-path=\"url(#clip410)\" d=\"M117.015 689.982 L124.654 689.982 L124.654 663.617 L116.343 665.283 L116.343 661.024 L124.607 659.357 L129.283 659.357 L129.283 689.982 L136.922 689.982 L136.922 693.917 L117.015 693.917 L117.015 689.982 Z\" fill=\"#000000\" fill-rule=\"evenodd\" fill-opacity=\"1\" /><path clip-path=\"url(#clip410)\" d=\"M146.366 688.038 L151.251 688.038 L151.251 693.917 L146.366 693.917 L146.366 688.038 Z\" fill=\"#000000\" fill-rule=\"evenodd\" fill-opacity=\"1\" /><path clip-path=\"url(#clip410)\" d=\"M171.436 662.436 Q167.825 662.436 165.996 666.001 Q164.19 669.542 164.19 676.672 Q164.19 683.779 165.996 687.343 Q167.825 690.885 171.436 690.885 Q175.07 690.885 176.876 687.343 Q178.704 683.779 178.704 676.672 Q178.704 669.542 176.876 666.001 Q175.07 662.436 171.436 662.436 M171.436 658.732 Q177.246 658.732 180.301 663.339 Q183.38 667.922 183.38 676.672 Q183.38 685.399 180.301 690.005 Q177.246 694.589 171.436 694.589 Q165.626 694.589 162.547 690.005 Q159.491 685.399 159.491 676.672 Q159.491 667.922 162.547 663.339 Q165.626 658.732 171.436 658.732 Z\" fill=\"#000000\" fill-rule=\"evenodd\" fill-opacity=\"1\" /><path clip-path=\"url(#clip410)\" d=\"M118.01 572.833 L125.649 572.833 L125.649 546.467 L117.339 548.134 L117.339 543.875 L125.603 542.208 L130.279 542.208 L130.279 572.833 L137.917 572.833 L137.917 576.768 L118.01 576.768 L118.01 572.833 Z\" fill=\"#000000\" fill-rule=\"evenodd\" fill-opacity=\"1\" /><path clip-path=\"url(#clip410)\" d=\"M147.362 570.888 L152.246 570.888 L152.246 576.768 L147.362 576.768 L147.362 570.888 Z\" fill=\"#000000\" fill-rule=\"evenodd\" fill-opacity=\"1\" /><path clip-path=\"url(#clip410)\" d=\"M162.477 542.208 L180.834 542.208 L180.834 546.143 L166.76 546.143 L166.76 554.615 Q167.778 554.268 168.797 554.106 Q169.815 553.921 170.834 553.921 Q176.621 553.921 180.001 557.092 Q183.38 560.264 183.38 565.68 Q183.38 571.259 179.908 574.361 Q176.436 577.439 170.116 577.439 Q167.94 577.439 165.672 577.069 Q163.427 576.699 161.019 575.958 L161.019 571.259 Q163.102 572.393 165.325 572.949 Q167.547 573.504 170.024 573.504 Q174.028 573.504 176.366 571.398 Q178.704 569.291 178.704 565.68 Q178.704 562.069 176.366 559.963 Q174.028 557.856 170.024 557.856 Q168.149 557.856 166.274 558.273 Q164.422 558.689 162.477 559.569 L162.477 542.208 Z\" fill=\"#000000\" fill-rule=\"evenodd\" fill-opacity=\"1\" /><path clip-path=\"url(#clip410)\" d=\"M41.1758 826.29 Q41.6267 826.29 42.6895 826.58 L67.8744 832.892 Q73.4783 834.277 77.4074 838.786 Q81.3365 843.262 81.3365 848.351 Q81.3365 851.41 79.694 853.375 Q78.0837 855.339 75.6039 855.339 Q73.4139 855.339 72.3511 854.18 Q71.3205 853.021 71.3205 851.636 Q71.3205 851.185 71.4493 850.702 Q71.5781 850.219 72.1256 849.703 Q72.6731 849.188 73.6071 849.188 Q75.1208 849.188 76.3124 850.508 Q76.8599 851.153 76.9887 851.764 Q77.1175 852.344 77.1175 853.343 Q78.0193 852.956 78.6312 852.248 Q79.2431 851.539 79.4686 850.734 Q79.7262 849.929 79.7906 849.413 Q79.8872 848.866 79.8872 848.351 Q79.8872 844.228 75.7327 841.072 Q74.4766 840.138 73.2206 839.462 Q71.9968 838.753 70.4831 838.238 Q69.0016 837.723 68.1965 837.497 Q67.3914 837.24 65.5556 836.789 Q68.5508 839.784 68.5508 843.455 Q68.5508 845.001 68.1321 846.386 Q67.7134 847.739 66.8439 848.93 Q65.9421 850.122 64.364 850.831 Q62.7859 851.507 60.6925 851.507 Q58.4703 851.507 55.443 850.637 Q52.4156 849.768 46.844 847.674 Q43.72 846.547 42.2064 846.547 Q41.4656 846.547 41.0148 846.708 Q40.5317 846.869 40.3706 847.191 Q40.1774 847.513 40.1452 847.707 Q40.113 847.868 40.113 848.19 Q40.113 850.09 42.0453 851.861 Q43.9777 853.632 48.2933 854.856 Q49.0984 855.114 49.2917 855.275 Q49.4849 855.436 49.4849 855.919 Q49.4527 856.724 48.8086 856.724 Q48.5509 856.724 47.5525 856.434 Q46.522 856.144 45.0083 855.468 Q43.4624 854.76 42.0775 853.793 Q40.6605 852.827 39.6621 851.314 Q38.6637 849.768 38.6637 847.996 Q38.6637 845.581 40.2418 844.099 Q41.7877 842.586 44.0743 842.586 Q45.0083 842.586 45.8456 842.843 Q46.6508 843.069 48.8086 843.906 Q57.5042 847.288 61.7553 847.288 Q62.7859 847.288 63.6555 847.127 Q64.4928 846.934 65.3302 846.515 Q66.1353 846.096 66.6184 845.259 Q67.0693 844.389 67.0693 843.198 Q67.0693 841.684 66.3608 840.267 Q65.62 838.818 64.6217 837.916 Q63.6233 836.982 62.7859 836.435 Q61.9164 835.855 61.4655 835.726 L49.6137 832.763 L44.332 831.443 Q41.4656 830.831 40.7571 830.541 Q40.0808 830.154 39.7265 829.478 Q39.3723 828.802 39.3723 828.222 Q39.3723 827.417 39.8553 826.869 Q40.3384 826.29 41.1758 826.29 Z\" fill=\"#000000\" fill-rule=\"evenodd\" fill-opacity=\"1\" /><path clip-path=\"url(#clip410)\" d=\"M15.5216 792.152 L25.6214 794.655 Q26.2301 794.79 26.3879 794.903 Q26.5457 795.016 26.5457 795.331 Q26.5457 795.579 26.433 795.737 Q26.3203 795.872 26.2076 795.872 L26.0948 795.895 Q26.0272 795.895 25.689 795.85 Q25.3283 795.805 24.7422 795.76 Q24.156 795.714 23.5023 795.714 Q19.805 795.714 18.0917 797.518 Q16.3558 799.299 16.3558 802.365 Q16.3558 804.484 17.483 806.378 Q18.6102 808.272 20.3912 809.354 Q22.1496 810.436 23.9982 810.436 Q25.689 810.436 26.7712 809.579 Q27.8533 808.722 28.214 807.618 L29.0481 804.529 Q29.8822 801.283 30.2429 800.359 Q30.5811 799.434 31.3476 798.668 Q33.4668 796.391 36.7582 796.391 Q39.5988 796.391 42.3491 797.991 Q45.077 799.592 46.858 802.342 Q48.6164 805.093 48.6164 808.136 Q48.6164 813.479 45.3024 815.937 L47.9175 818.191 Q48.4135 818.619 48.5037 818.755 Q48.6164 818.867 48.6164 819.025 Q48.6164 819.228 48.4811 819.386 Q48.3684 819.544 48.1655 819.544 Q48.0077 819.544 42.7098 818.213 Q37.412 816.883 37.2993 816.771 Q37.1189 816.59 37.1189 816.297 Q37.1189 815.756 37.6374 815.756 Q37.7727 815.801 37.953 815.846 Q39.5762 816.117 40.4554 816.117 Q42.1011 816.117 43.3636 815.553 Q44.6035 814.99 45.325 814.156 Q46.0238 813.299 46.4747 812.149 Q46.903 810.999 47.0608 810.03 Q47.1961 809.061 47.1961 808.046 Q47.1961 805.859 45.9336 803.921 Q44.6712 801.959 42.7098 800.855 Q40.7485 799.727 38.697 799.727 Q37.6149 799.727 36.7807 800.02 Q35.9241 800.313 35.4506 800.719 Q34.9772 801.102 34.6165 801.756 Q34.2558 802.41 34.1205 802.861 Q33.9627 803.289 33.8049 803.966 L32.4974 808.903 Q31.9112 810.887 30.2204 812.307 Q28.5296 813.705 25.937 813.705 Q23.2092 813.705 20.6842 812.104 Q18.1368 810.481 16.6038 807.843 Q15.0482 805.183 15.0482 802.32 Q15.0482 800.065 15.9274 798.33 Q16.7841 796.594 18.3848 795.714 L15.7471 793.483 Q15.2286 793.032 15.1384 792.942 Q15.0482 792.829 15.0482 792.671 Q15.0482 792.4 15.206 792.288 Q15.3638 792.152 15.5216 792.152 Z\" fill=\"#000000\" fill-rule=\"evenodd\" fill-opacity=\"1\" /><path clip-path=\"url(#clip410)\" d=\"M23.0288 756.528 Q25.5538 756.528 27.8758 758.4 Q30.1979 760.248 31.6181 763.269 Q33.0159 766.268 33.0159 769.491 L33.0159 777.337 L44.5585 780.2 Q44.6261 780.222 44.9192 780.29 Q45.1897 780.358 45.3475 780.358 Q45.9111 780.358 46.0464 779.659 Q46.1816 778.937 46.1816 777.337 Q46.1816 776.3 46.362 776.142 Q46.4747 776.052 46.6776 776.052 Q46.9932 776.052 47.2187 776.142 Q47.4216 776.232 47.4892 776.412 Q47.5568 776.57 47.5794 776.683 Q47.6019 776.796 47.6019 776.976 Q47.6019 777.449 47.5568 778.464 Q47.5117 779.456 47.5117 779.974 L47.4666 782.928 L47.6019 788.789 Q47.6019 789.488 47.0383 789.488 Q46.61 789.488 46.4296 789.308 Q46.2267 789.127 46.2042 788.924 Q46.1816 788.721 46.1816 788.203 Q46.1816 787.076 46.114 786.399 Q46.0464 785.723 45.9562 785.295 Q45.8435 784.844 45.5279 784.618 Q45.2122 784.37 44.9417 784.258 Q44.6486 784.145 43.9949 783.987 L19.1963 777.81 Q18.4524 777.63 18.3397 777.63 Q17.9564 777.63 17.8211 777.855 Q17.6633 778.058 17.5957 778.644 Q17.5055 779.771 17.5055 780.628 Q17.5055 781.192 17.483 781.417 Q17.4604 781.62 17.3477 781.8 Q17.2125 781.958 16.9419 781.958 Q16.5136 781.958 16.3332 781.778 Q16.1303 781.575 16.1078 781.35 Q16.0627 781.124 16.0627 780.583 L16.0627 765.614 Q16.0627 761.308 18.1142 758.918 Q20.1657 756.528 23.0288 756.528 M21.9242 760.812 Q17.5055 760.812 17.5055 767.102 L17.5055 771.52 Q17.5055 772.986 17.7761 773.346 Q18.024 773.707 19.264 774.023 L31.821 777.156 L31.821 770.641 Q31.821 766.268 29.3637 763.54 Q28.2365 762.3 25.8919 761.556 Q23.5473 760.812 21.9242 760.812 Z\" fill=\"#000000\" fill-rule=\"evenodd\" fill-opacity=\"1\" /><path clip-path=\"url(#clip410)\" d=\"M84.2994 700.815 L18.3418 700.815 L18.3418 690.863 L19.8555 690.863 L19.8555 696.402 L82.7858 696.402 L82.7858 690.863 L84.2994 690.863 L84.2994 700.815 Z\" fill=\"#000000\" fill-rule=\"evenodd\" fill-opacity=\"1\" /><path clip-path=\"url(#clip410)\" d=\"M50.3867 639.122 Q50.7731 638.735 51.3206 638.735 Q51.8681 638.735 52.2546 639.122 Q52.6411 639.508 52.6411 640.056 L52.6411 681.344 Q52.6411 681.891 52.2546 682.278 Q51.8681 682.664 51.3206 682.664 Q50.7731 682.664 50.3867 682.278 Q50.0002 681.891 50.0002 681.344 L50.0002 640.056 Q50.0002 639.508 50.3867 639.122 Z\" fill=\"#000000\" fill-rule=\"evenodd\" fill-opacity=\"1\" /><path clip-path=\"url(#clip410)\" d=\"M82.7858 631.85 L82.7858 626.311 L19.8555 626.311 L19.8555 631.85 L18.3418 631.85 L18.3418 621.898 L84.2994 621.898 L84.2994 631.85 L82.7858 631.85 Z\" fill=\"#000000\" fill-rule=\"evenodd\" fill-opacity=\"1\" /><polyline clip-path=\"url(#clip414)\" style=\"stroke:#000000; stroke-linecap:round; stroke-linejoin:round; stroke-width:4; stroke-opacity:1; fill:none\" stroke-dasharray=\"2, 4\" points=\"279.759,629.778 357.167,629.778 434.576,629.778 511.984,629.778 589.392,629.778 666.801,629.778 744.209,629.778 821.618,629.778 899.026,629.778 976.434,629.778 1053.84,629.778 1131.25,629.778 1208.66,629.778 1286.07,629.778 1363.48,629.778 1440.88,629.778 1518.29,629.778 1595.7,629.778 1673.11,629.778 1750.52,629.778 1827.93,629.778 1905.34,629.778 1982.74,629.778 2060.15,629.778 2137.56,629.778 2214.97,629.778 2292.38,629.778 \"/>\n",
       "<circle clip-path=\"url(#clip414)\" cx=\"279.759\" cy=\"629.778\" r=\"10.8\" fill=\"#000000\" fill-rule=\"evenodd\" fill-opacity=\"1\" stroke=\"none\"/>\n",
       "<circle clip-path=\"url(#clip414)\" cx=\"357.167\" cy=\"629.778\" r=\"10.8\" fill=\"#000000\" fill-rule=\"evenodd\" fill-opacity=\"1\" stroke=\"none\"/>\n",
       "<circle clip-path=\"url(#clip414)\" cx=\"434.576\" cy=\"629.778\" r=\"10.8\" fill=\"#000000\" fill-rule=\"evenodd\" fill-opacity=\"1\" stroke=\"none\"/>\n",
       "<circle clip-path=\"url(#clip414)\" cx=\"511.984\" cy=\"629.778\" r=\"10.8\" fill=\"#000000\" fill-rule=\"evenodd\" fill-opacity=\"1\" stroke=\"none\"/>\n",
       "<circle clip-path=\"url(#clip414)\" cx=\"589.392\" cy=\"629.778\" r=\"10.8\" fill=\"#000000\" fill-rule=\"evenodd\" fill-opacity=\"1\" stroke=\"none\"/>\n",
       "<circle clip-path=\"url(#clip414)\" cx=\"666.801\" cy=\"629.778\" r=\"10.8\" fill=\"#000000\" fill-rule=\"evenodd\" fill-opacity=\"1\" stroke=\"none\"/>\n",
       "<circle clip-path=\"url(#clip414)\" cx=\"744.209\" cy=\"629.778\" r=\"10.8\" fill=\"#000000\" fill-rule=\"evenodd\" fill-opacity=\"1\" stroke=\"none\"/>\n",
       "<circle clip-path=\"url(#clip414)\" cx=\"821.618\" cy=\"629.778\" r=\"10.8\" fill=\"#000000\" fill-rule=\"evenodd\" fill-opacity=\"1\" stroke=\"none\"/>\n",
       "<circle clip-path=\"url(#clip414)\" cx=\"899.026\" cy=\"629.778\" r=\"10.8\" fill=\"#000000\" fill-rule=\"evenodd\" fill-opacity=\"1\" stroke=\"none\"/>\n",
       "<circle clip-path=\"url(#clip414)\" cx=\"976.434\" cy=\"682.107\" r=\"10.8\" fill=\"#000000\" fill-rule=\"evenodd\" fill-opacity=\"1\" stroke=\"none\"/>\n",
       "<circle clip-path=\"url(#clip414)\" cx=\"1053.84\" cy=\"674.083\" r=\"10.8\" fill=\"#000000\" fill-rule=\"evenodd\" fill-opacity=\"1\" stroke=\"none\"/>\n",
       "<circle clip-path=\"url(#clip414)\" cx=\"1131.25\" cy=\"648.445\" r=\"10.8\" fill=\"#000000\" fill-rule=\"evenodd\" fill-opacity=\"1\" stroke=\"none\"/>\n",
       "<circle clip-path=\"url(#clip414)\" cx=\"1208.66\" cy=\"734.814\" r=\"10.8\" fill=\"#000000\" fill-rule=\"evenodd\" fill-opacity=\"1\" stroke=\"none\"/>\n",
       "<circle clip-path=\"url(#clip414)\" cx=\"1286.07\" cy=\"710.365\" r=\"10.8\" fill=\"#000000\" fill-rule=\"evenodd\" fill-opacity=\"1\" stroke=\"none\"/>\n",
       "<circle clip-path=\"url(#clip414)\" cx=\"1363.48\" cy=\"629.779\" r=\"10.8\" fill=\"#000000\" fill-rule=\"evenodd\" fill-opacity=\"1\" stroke=\"none\"/>\n",
       "<circle clip-path=\"url(#clip414)\" cx=\"1440.88\" cy=\"629.778\" r=\"10.8\" fill=\"#000000\" fill-rule=\"evenodd\" fill-opacity=\"1\" stroke=\"none\"/>\n",
       "<circle clip-path=\"url(#clip414)\" cx=\"1518.29\" cy=\"629.779\" r=\"10.8\" fill=\"#000000\" fill-rule=\"evenodd\" fill-opacity=\"1\" stroke=\"none\"/>\n",
       "<circle clip-path=\"url(#clip414)\" cx=\"1595.7\" cy=\"629.782\" r=\"10.8\" fill=\"#000000\" fill-rule=\"evenodd\" fill-opacity=\"1\" stroke=\"none\"/>\n",
       "<circle clip-path=\"url(#clip414)\" cx=\"1673.11\" cy=\"714.035\" r=\"10.8\" fill=\"#000000\" fill-rule=\"evenodd\" fill-opacity=\"1\" stroke=\"none\"/>\n",
       "<circle clip-path=\"url(#clip414)\" cx=\"1750.52\" cy=\"723.744\" r=\"10.8\" fill=\"#000000\" fill-rule=\"evenodd\" fill-opacity=\"1\" stroke=\"none\"/>\n",
       "<circle clip-path=\"url(#clip414)\" cx=\"1827.93\" cy=\"629.961\" r=\"10.8\" fill=\"#000000\" fill-rule=\"evenodd\" fill-opacity=\"1\" stroke=\"none\"/>\n",
       "<circle clip-path=\"url(#clip414)\" cx=\"1905.34\" cy=\"674.424\" r=\"10.8\" fill=\"#000000\" fill-rule=\"evenodd\" fill-opacity=\"1\" stroke=\"none\"/>\n",
       "<circle clip-path=\"url(#clip414)\" cx=\"1982.74\" cy=\"638.374\" r=\"10.8\" fill=\"#000000\" fill-rule=\"evenodd\" fill-opacity=\"1\" stroke=\"none\"/>\n",
       "<circle clip-path=\"url(#clip414)\" cx=\"2060.15\" cy=\"648.702\" r=\"10.8\" fill=\"#000000\" fill-rule=\"evenodd\" fill-opacity=\"1\" stroke=\"none\"/>\n",
       "<circle clip-path=\"url(#clip414)\" cx=\"2137.56\" cy=\"660.929\" r=\"10.8\" fill=\"#000000\" fill-rule=\"evenodd\" fill-opacity=\"1\" stroke=\"none\"/>\n",
       "<circle clip-path=\"url(#clip414)\" cx=\"2214.97\" cy=\"676.91\" r=\"10.8\" fill=\"#000000\" fill-rule=\"evenodd\" fill-opacity=\"1\" stroke=\"none\"/>\n",
       "<circle clip-path=\"url(#clip414)\" cx=\"2292.38\" cy=\"684.605\" r=\"10.8\" fill=\"#000000\" fill-rule=\"evenodd\" fill-opacity=\"1\" stroke=\"none\"/>\n",
       "<polyline clip-path=\"url(#clip414)\" style=\"stroke:#000000; stroke-linecap:round; stroke-linejoin:round; stroke-width:12; stroke-opacity:1; fill:none\" points=\"279.759,629.778 279.759,629.778 357.167,629.778 357.167,629.778 434.576,629.778 434.576,629.778 511.984,629.778 511.984,629.778 589.392,629.778 589.392,629.778 666.801,629.778 666.801,629.778 744.209,629.778 744.209,629.778 821.618,629.778 821.618,629.778 899.026,629.778 899.026,682.107 976.434,682.107 976.434,674.083 1053.84,674.083 1053.84,648.445 1131.25,648.445 1131.25,734.814 1208.66,734.814 1208.66,710.365 1286.07,710.365 1286.07,629.779 1363.48,629.779 1363.48,629.778 1440.88,629.778 1440.88,629.779 1518.29,629.779 1518.29,629.782 1595.7,629.782 1595.7,714.035 1673.11,714.035 1673.11,723.744 1750.52,723.744 1750.52,629.961 1827.93,629.961 1827.93,674.424 1905.34,674.424 1905.34,638.374 1982.74,638.374 1982.74,648.702 2060.15,648.702 2060.15,660.929 2137.56,660.929 2137.56,676.91 2214.97,676.91 2214.97,684.605 2292.38,684.605 \"/>\n",
       "<path clip-path=\"url(#clip414)\" d=\"M267.759 617.778 L267.759 641.778 L291.759 641.778 L291.759 617.778 L267.759 617.778 Z\" fill=\"#000000\" fill-rule=\"evenodd\" fill-opacity=\"1\" stroke=\"none\"/>\n",
       "<path clip-path=\"url(#clip414)\" d=\"M345.167 617.778 L345.167 641.778 L369.167 641.778 L369.167 617.778 L345.167 617.778 Z\" fill=\"#000000\" fill-rule=\"evenodd\" fill-opacity=\"1\" stroke=\"none\"/>\n",
       "<path clip-path=\"url(#clip414)\" d=\"M422.576 617.778 L422.576 641.778 L446.576 641.778 L446.576 617.778 L422.576 617.778 Z\" fill=\"#000000\" fill-rule=\"evenodd\" fill-opacity=\"1\" stroke=\"none\"/>\n",
       "<path clip-path=\"url(#clip414)\" d=\"M499.984 617.778 L499.984 641.778 L523.984 641.778 L523.984 617.778 L499.984 617.778 Z\" fill=\"#000000\" fill-rule=\"evenodd\" fill-opacity=\"1\" stroke=\"none\"/>\n",
       "<path clip-path=\"url(#clip414)\" d=\"M577.392 617.778 L577.392 641.778 L601.392 641.778 L601.392 617.778 L577.392 617.778 Z\" fill=\"#000000\" fill-rule=\"evenodd\" fill-opacity=\"1\" stroke=\"none\"/>\n",
       "<path clip-path=\"url(#clip414)\" d=\"M654.801 617.778 L654.801 641.778 L678.801 641.778 L678.801 617.778 L654.801 617.778 Z\" fill=\"#000000\" fill-rule=\"evenodd\" fill-opacity=\"1\" stroke=\"none\"/>\n",
       "<path clip-path=\"url(#clip414)\" d=\"M732.209 617.778 L732.209 641.778 L756.209 641.778 L756.209 617.778 L732.209 617.778 Z\" fill=\"#000000\" fill-rule=\"evenodd\" fill-opacity=\"1\" stroke=\"none\"/>\n",
       "<path clip-path=\"url(#clip414)\" d=\"M809.618 617.778 L809.618 641.778 L833.618 641.778 L833.618 617.778 L809.618 617.778 Z\" fill=\"#000000\" fill-rule=\"evenodd\" fill-opacity=\"1\" stroke=\"none\"/>\n",
       "<path clip-path=\"url(#clip414)\" d=\"M887.026 617.778 L887.026 641.778 L911.026 641.778 L911.026 617.778 L887.026 617.778 Z\" fill=\"#000000\" fill-rule=\"evenodd\" fill-opacity=\"1\" stroke=\"none\"/>\n",
       "<path clip-path=\"url(#clip414)\" d=\"M964.434 670.126 L964.434 694.126 L988.434 694.126 L988.434 670.126 L964.434 670.126 Z\" fill=\"#000000\" fill-rule=\"evenodd\" fill-opacity=\"1\" stroke=\"none\"/>\n",
       "<path clip-path=\"url(#clip414)\" d=\"M1041.84 662.069 L1041.84 686.069 L1065.84 686.069 L1065.84 662.069 L1041.84 662.069 Z\" fill=\"#000000\" fill-rule=\"evenodd\" fill-opacity=\"1\" stroke=\"none\"/>\n",
       "<path clip-path=\"url(#clip414)\" d=\"M1119.25 636.444 L1119.25 660.444 L1143.25 660.444 L1143.25 636.444 L1119.25 636.444 Z\" fill=\"#000000\" fill-rule=\"evenodd\" fill-opacity=\"1\" stroke=\"none\"/>\n",
       "<path clip-path=\"url(#clip414)\" d=\"M1196.66 722.802 L1196.66 746.802 L1220.66 746.802 L1220.66 722.802 L1196.66 722.802 Z\" fill=\"#000000\" fill-rule=\"evenodd\" fill-opacity=\"1\" stroke=\"none\"/>\n",
       "<path clip-path=\"url(#clip414)\" d=\"M1274.07 698.379 L1274.07 722.379 L1298.07 722.379 L1298.07 698.379 L1274.07 698.379 Z\" fill=\"#000000\" fill-rule=\"evenodd\" fill-opacity=\"1\" stroke=\"none\"/>\n",
       "<path clip-path=\"url(#clip414)\" d=\"M1351.48 617.778 L1351.48 641.778 L1375.48 641.778 L1375.48 617.778 L1351.48 617.778 Z\" fill=\"#000000\" fill-rule=\"evenodd\" fill-opacity=\"1\" stroke=\"none\"/>\n",
       "<path clip-path=\"url(#clip414)\" d=\"M1428.88 617.778 L1428.88 641.778 L1452.88 641.778 L1452.88 617.778 L1428.88 617.778 Z\" fill=\"#000000\" fill-rule=\"evenodd\" fill-opacity=\"1\" stroke=\"none\"/>\n",
       "<path clip-path=\"url(#clip414)\" d=\"M1506.29 617.778 L1506.29 641.778 L1530.29 641.778 L1530.29 617.778 L1506.29 617.778 Z\" fill=\"#000000\" fill-rule=\"evenodd\" fill-opacity=\"1\" stroke=\"none\"/>\n",
       "<path clip-path=\"url(#clip414)\" d=\"M1583.7 617.779 L1583.7 641.779 L1607.7 641.779 L1607.7 617.779 L1583.7 617.779 Z\" fill=\"#000000\" fill-rule=\"evenodd\" fill-opacity=\"1\" stroke=\"none\"/>\n",
       "<path clip-path=\"url(#clip414)\" d=\"M1661.11 702.043 L1661.11 726.043 L1685.11 726.043 L1685.11 702.043 L1661.11 702.043 Z\" fill=\"#000000\" fill-rule=\"evenodd\" fill-opacity=\"1\" stroke=\"none\"/>\n",
       "<path clip-path=\"url(#clip414)\" d=\"M1738.52 711.757 L1738.52 735.757 L1762.52 735.757 L1762.52 711.757 L1738.52 711.757 Z\" fill=\"#000000\" fill-rule=\"evenodd\" fill-opacity=\"1\" stroke=\"none\"/>\n",
       "<path clip-path=\"url(#clip414)\" d=\"M1815.93 617.838 L1815.93 641.838 L1839.93 641.838 L1839.93 617.838 L1815.93 617.838 Z\" fill=\"#000000\" fill-rule=\"evenodd\" fill-opacity=\"1\" stroke=\"none\"/>\n",
       "<path clip-path=\"url(#clip414)\" d=\"M1893.34 662.728 L1893.34 686.728 L1917.34 686.728 L1917.34 662.728 L1893.34 662.728 Z\" fill=\"#000000\" fill-rule=\"evenodd\" fill-opacity=\"1\" stroke=\"none\"/>\n",
       "<path clip-path=\"url(#clip414)\" d=\"M1970.74 625.94 L1970.74 649.94 L1994.74 649.94 L1994.74 625.94 L1970.74 625.94 Z\" fill=\"#000000\" fill-rule=\"evenodd\" fill-opacity=\"1\" stroke=\"none\"/>\n",
       "<path clip-path=\"url(#clip414)\" d=\"M2048.15 637.137 L2048.15 661.137 L2072.15 661.137 L2072.15 637.137 L2048.15 637.137 Z\" fill=\"#000000\" fill-rule=\"evenodd\" fill-opacity=\"1\" stroke=\"none\"/>\n",
       "<path clip-path=\"url(#clip414)\" d=\"M2125.56 648.598 L2125.56 672.598 L2149.56 672.598 L2149.56 648.598 L2125.56 648.598 Z\" fill=\"#000000\" fill-rule=\"evenodd\" fill-opacity=\"1\" stroke=\"none\"/>\n",
       "<path clip-path=\"url(#clip414)\" d=\"M2202.97 665.103 L2202.97 689.103 L2226.97 689.103 L2226.97 665.103 L2202.97 665.103 Z\" fill=\"#000000\" fill-rule=\"evenodd\" fill-opacity=\"1\" stroke=\"none\"/>\n",
       "<path clip-path=\"url(#clip414)\" d=\"M2280.38 672.526 L2280.38 696.526 L2304.38 696.526 L2304.38 672.526 L2280.38 672.526 Z\" fill=\"#000000\" fill-rule=\"evenodd\" fill-opacity=\"1\" stroke=\"none\"/>\n",
       "<polyline clip-path=\"url(#clip414)\" style=\"stroke:#000000; stroke-linecap:round; stroke-linejoin:round; stroke-width:12; stroke-opacity:1; fill:none\" stroke-dasharray=\"48, 24, 6, 24\" points=\"279.759,629.778 279.759,629.778 357.167,629.778 357.167,629.778 434.576,629.778 434.576,629.778 511.984,629.778 511.984,629.778 589.392,629.778 589.392,629.778 666.801,629.778 666.801,629.778 744.209,629.778 744.209,629.778 821.618,629.778 821.618,629.778 899.026,629.778 899.026,682.126 976.434,682.126 976.434,674.069 1053.84,674.069 1053.84,648.444 1131.25,648.444 1131.25,734.802 1208.66,734.802 1208.66,710.379 1286.07,710.379 1286.07,629.778 1363.48,629.778 1363.48,629.778 1440.88,629.778 1440.88,629.778 1518.29,629.778 1518.29,629.779 1595.7,629.779 1595.7,714.043 1673.11,714.043 1673.11,723.757 1750.52,723.757 1750.52,629.838 1827.93,629.838 1827.93,674.728 1905.34,674.728 1905.34,637.94 1982.74,637.94 1982.74,649.137 2060.15,649.137 2060.15,660.598 2137.56,660.598 2137.56,677.103 2214.97,677.103 2214.97,684.526 2292.38,684.526 \"/>\n",
       "<path clip-path=\"url(#clip410)\" d=\"M219.38 1423.18 L2352.76 1423.18 L2352.76 1071.73 L219.38 1071.73  Z\" fill=\"#ffffff\" fill-rule=\"evenodd\" fill-opacity=\"1\"/>\n",
       "<polyline clip-path=\"url(#clip412)\" style=\"stroke:#000000; stroke-linecap:round; stroke-linejoin:round; stroke-width:8; stroke-opacity:0.1; fill:none\" points=\"589.392,1423.18 589.392,1071.73 \"/>\n",
       "<polyline clip-path=\"url(#clip412)\" style=\"stroke:#000000; stroke-linecap:round; stroke-linejoin:round; stroke-width:8; stroke-opacity:0.1; fill:none\" points=\"976.434,1423.18 976.434,1071.73 \"/>\n",
       "<polyline clip-path=\"url(#clip412)\" style=\"stroke:#000000; stroke-linecap:round; stroke-linejoin:round; stroke-width:8; stroke-opacity:0.1; fill:none\" points=\"1363.48,1423.18 1363.48,1071.73 \"/>\n",
       "<polyline clip-path=\"url(#clip412)\" style=\"stroke:#000000; stroke-linecap:round; stroke-linejoin:round; stroke-width:8; stroke-opacity:0.1; fill:none\" points=\"1750.52,1423.18 1750.52,1071.73 \"/>\n",
       "<polyline clip-path=\"url(#clip412)\" style=\"stroke:#000000; stroke-linecap:round; stroke-linejoin:round; stroke-width:8; stroke-opacity:0.1; fill:none\" points=\"2137.56,1423.18 2137.56,1071.73 \"/>\n",
       "<polyline clip-path=\"url(#clip410)\" style=\"stroke:#000000; stroke-linecap:round; stroke-linejoin:round; stroke-width:4; stroke-opacity:1; fill:none\" points=\"219.38,1423.18 2352.76,1423.18 \"/>\n",
       "<polyline clip-path=\"url(#clip410)\" style=\"stroke:#000000; stroke-linecap:round; stroke-linejoin:round; stroke-width:4; stroke-opacity:1; fill:none\" points=\"589.392,1423.18 589.392,1404.28 \"/>\n",
       "<polyline clip-path=\"url(#clip410)\" style=\"stroke:#000000; stroke-linecap:round; stroke-linejoin:round; stroke-width:4; stroke-opacity:1; fill:none\" points=\"976.434,1423.18 976.434,1404.28 \"/>\n",
       "<polyline clip-path=\"url(#clip410)\" style=\"stroke:#000000; stroke-linecap:round; stroke-linejoin:round; stroke-width:4; stroke-opacity:1; fill:none\" points=\"1363.48,1423.18 1363.48,1404.28 \"/>\n",
       "<polyline clip-path=\"url(#clip410)\" style=\"stroke:#000000; stroke-linecap:round; stroke-linejoin:round; stroke-width:4; stroke-opacity:1; fill:none\" points=\"1750.52,1423.18 1750.52,1404.28 \"/>\n",
       "<polyline clip-path=\"url(#clip410)\" style=\"stroke:#000000; stroke-linecap:round; stroke-linejoin:round; stroke-width:4; stroke-opacity:1; fill:none\" points=\"2137.56,1423.18 2137.56,1404.28 \"/>\n",
       "<path clip-path=\"url(#clip410)\" d=\"M579.67 1451.02 L598.027 1451.02 L598.027 1454.96 L583.953 1454.96 L583.953 1463.43 Q584.971 1463.08 585.99 1462.92 Q587.008 1462.73 588.027 1462.73 Q593.814 1462.73 597.193 1465.9 Q600.573 1469.08 600.573 1474.49 Q600.573 1480.07 597.101 1483.17 Q593.628 1486.25 587.309 1486.25 Q585.133 1486.25 582.865 1485.88 Q580.619 1485.51 578.212 1484.77 L578.212 1480.07 Q580.295 1481.2 582.517 1481.76 Q584.74 1482.32 587.216 1482.32 Q591.221 1482.32 593.559 1480.21 Q595.897 1478.1 595.897 1474.49 Q595.897 1470.88 593.559 1468.77 Q591.221 1466.67 587.216 1466.67 Q585.341 1466.67 583.466 1467.08 Q581.615 1467.5 579.67 1468.38 L579.67 1451.02 Z\" fill=\"#000000\" fill-rule=\"evenodd\" fill-opacity=\"1\" /><path clip-path=\"url(#clip410)\" d=\"M951.122 1481.64 L958.761 1481.64 L958.761 1455.28 L950.451 1456.95 L950.451 1452.69 L958.715 1451.02 L963.39 1451.02 L963.39 1481.64 L971.029 1481.64 L971.029 1485.58 L951.122 1485.58 L951.122 1481.64 Z\" fill=\"#000000\" fill-rule=\"evenodd\" fill-opacity=\"1\" /><path clip-path=\"url(#clip410)\" d=\"M990.474 1454.1 Q986.863 1454.1 985.034 1457.66 Q983.228 1461.2 983.228 1468.33 Q983.228 1475.44 985.034 1479.01 Q986.863 1482.55 990.474 1482.55 Q994.108 1482.55 995.913 1479.01 Q997.742 1475.44 997.742 1468.33 Q997.742 1461.2 995.913 1457.66 Q994.108 1454.1 990.474 1454.1 M990.474 1450.39 Q996.284 1450.39 999.339 1455 Q1002.42 1459.58 1002.42 1468.33 Q1002.42 1477.06 999.339 1481.67 Q996.284 1486.25 990.474 1486.25 Q984.664 1486.25 981.585 1481.67 Q978.529 1477.06 978.529 1468.33 Q978.529 1459.58 981.585 1455 Q984.664 1450.39 990.474 1450.39 Z\" fill=\"#000000\" fill-rule=\"evenodd\" fill-opacity=\"1\" /><path clip-path=\"url(#clip410)\" d=\"M1338.66 1481.64 L1346.3 1481.64 L1346.3 1455.28 L1337.99 1456.95 L1337.99 1452.69 L1346.25 1451.02 L1350.93 1451.02 L1350.93 1481.64 L1358.57 1481.64 L1358.57 1485.58 L1338.66 1485.58 L1338.66 1481.64 Z\" fill=\"#000000\" fill-rule=\"evenodd\" fill-opacity=\"1\" /><path clip-path=\"url(#clip410)\" d=\"M1368.06 1451.02 L1386.42 1451.02 L1386.42 1454.96 L1372.34 1454.96 L1372.34 1463.43 Q1373.36 1463.08 1374.38 1462.92 Q1375.4 1462.73 1376.42 1462.73 Q1382.2 1462.73 1385.58 1465.9 Q1388.96 1469.08 1388.96 1474.49 Q1388.96 1480.07 1385.49 1483.17 Q1382.02 1486.25 1375.7 1486.25 Q1373.52 1486.25 1371.25 1485.88 Q1369.01 1485.51 1366.6 1484.77 L1366.6 1480.07 Q1368.68 1481.2 1370.91 1481.76 Q1373.13 1482.32 1375.61 1482.32 Q1379.61 1482.32 1381.95 1480.21 Q1384.29 1478.1 1384.29 1474.49 Q1384.29 1470.88 1381.95 1468.77 Q1379.61 1466.67 1375.61 1466.67 Q1373.73 1466.67 1371.86 1467.08 Q1370 1467.5 1368.06 1468.38 L1368.06 1451.02 Z\" fill=\"#000000\" fill-rule=\"evenodd\" fill-opacity=\"1\" /><path clip-path=\"url(#clip410)\" d=\"M1729.29 1481.64 L1745.61 1481.64 L1745.61 1485.58 L1723.67 1485.58 L1723.67 1481.64 Q1726.33 1478.89 1730.91 1474.26 Q1735.52 1469.61 1736.7 1468.27 Q1738.94 1465.74 1739.82 1464.01 Q1740.73 1462.25 1740.73 1460.56 Q1740.73 1457.8 1738.78 1456.07 Q1736.86 1454.33 1733.76 1454.33 Q1731.56 1454.33 1729.11 1455.09 Q1726.68 1455.86 1723.9 1457.41 L1723.9 1452.69 Q1726.72 1451.55 1729.18 1450.97 Q1731.63 1450.39 1733.67 1450.39 Q1739.04 1450.39 1742.23 1453.08 Q1745.43 1455.77 1745.43 1460.26 Q1745.43 1462.39 1744.62 1464.31 Q1743.83 1466.2 1741.72 1468.8 Q1741.14 1469.47 1738.04 1472.69 Q1734.94 1475.88 1729.29 1481.64 Z\" fill=\"#000000\" fill-rule=\"evenodd\" fill-opacity=\"1\" /><path clip-path=\"url(#clip410)\" d=\"M1765.43 1454.1 Q1761.81 1454.1 1759.99 1457.66 Q1758.18 1461.2 1758.18 1468.33 Q1758.18 1475.44 1759.99 1479.01 Q1761.81 1482.55 1765.43 1482.55 Q1769.06 1482.55 1770.87 1479.01 Q1772.69 1475.44 1772.69 1468.33 Q1772.69 1461.2 1770.87 1457.66 Q1769.06 1454.1 1765.43 1454.1 M1765.43 1450.39 Q1771.24 1450.39 1774.29 1455 Q1777.37 1459.58 1777.37 1468.33 Q1777.37 1477.06 1774.29 1481.67 Q1771.24 1486.25 1765.43 1486.25 Q1759.62 1486.25 1756.54 1481.67 Q1753.48 1477.06 1753.48 1468.33 Q1753.48 1459.58 1756.54 1455 Q1759.62 1450.39 1765.43 1450.39 Z\" fill=\"#000000\" fill-rule=\"evenodd\" fill-opacity=\"1\" /><path clip-path=\"url(#clip410)\" d=\"M2116.83 1481.64 L2133.15 1481.64 L2133.15 1485.58 L2111.21 1485.58 L2111.21 1481.64 Q2113.87 1478.89 2118.45 1474.26 Q2123.06 1469.61 2124.24 1468.27 Q2126.48 1465.74 2127.36 1464.01 Q2128.27 1462.25 2128.27 1460.56 Q2128.27 1457.8 2126.32 1456.07 Q2124.4 1454.33 2121.3 1454.33 Q2119.1 1454.33 2116.65 1455.09 Q2114.22 1455.86 2111.44 1457.41 L2111.44 1452.69 Q2114.26 1451.55 2116.72 1450.97 Q2119.17 1450.39 2121.21 1450.39 Q2126.58 1450.39 2129.77 1453.08 Q2132.97 1455.77 2132.97 1460.26 Q2132.97 1462.39 2132.16 1464.31 Q2131.37 1466.2 2129.26 1468.8 Q2128.68 1469.47 2125.58 1472.69 Q2122.48 1475.88 2116.83 1481.64 Z\" fill=\"#000000\" fill-rule=\"evenodd\" fill-opacity=\"1\" /><path clip-path=\"url(#clip410)\" d=\"M2143.01 1451.02 L2161.37 1451.02 L2161.37 1454.96 L2147.29 1454.96 L2147.29 1463.43 Q2148.31 1463.08 2149.33 1462.92 Q2150.35 1462.73 2151.37 1462.73 Q2157.16 1462.73 2160.53 1465.9 Q2163.91 1469.08 2163.91 1474.49 Q2163.91 1480.07 2160.44 1483.17 Q2156.97 1486.25 2150.65 1486.25 Q2148.47 1486.25 2146.21 1485.88 Q2143.96 1485.51 2141.55 1484.77 L2141.55 1480.07 Q2143.64 1481.2 2145.86 1481.76 Q2148.08 1482.32 2150.56 1482.32 Q2154.56 1482.32 2156.9 1480.21 Q2159.24 1478.1 2159.24 1474.49 Q2159.24 1470.88 2156.9 1468.77 Q2154.56 1466.67 2150.56 1466.67 Q2148.68 1466.67 2146.81 1467.08 Q2144.96 1467.5 2143.01 1468.38 L2143.01 1451.02 Z\" fill=\"#000000\" fill-rule=\"evenodd\" fill-opacity=\"1\" /><path clip-path=\"url(#clip410)\" d=\"M1129.04 1522.27 L1129.04 1532.4 L1141.1 1532.4 L1141.1 1536.95 L1129.04 1536.95 L1129.04 1556.3 Q1129.04 1560.66 1130.22 1561.9 Q1131.43 1563.14 1135.09 1563.14 L1141.1 1563.14 L1141.1 1568.04 L1135.09 1568.04 Q1128.31 1568.04 1125.73 1565.53 Q1123.15 1562.98 1123.15 1556.3 L1123.15 1536.95 L1118.86 1536.95 L1118.86 1532.4 L1123.15 1532.4 L1123.15 1522.27 L1129.04 1522.27 Z\" fill=\"#000000\" fill-rule=\"evenodd\" fill-opacity=\"1\" /><path clip-path=\"url(#clip410)\" d=\"M1148.81 1532.4 L1154.66 1532.4 L1154.66 1568.04 L1148.81 1568.04 L1148.81 1532.4 M1148.81 1518.52 L1154.66 1518.52 L1154.66 1525.93 L1148.81 1525.93 L1148.81 1518.52 Z\" fill=\"#000000\" fill-rule=\"evenodd\" fill-opacity=\"1\" /><path clip-path=\"url(#clip410)\" d=\"M1194.67 1539.24 Q1196.87 1535.29 1199.92 1533.41 Q1202.98 1531.54 1207.12 1531.54 Q1212.69 1531.54 1215.71 1535.45 Q1218.73 1539.33 1218.73 1546.53 L1218.73 1568.04 L1212.85 1568.04 L1212.85 1546.72 Q1212.85 1541.59 1211.03 1539.11 Q1209.22 1536.63 1205.49 1536.63 Q1200.94 1536.63 1198.3 1539.65 Q1195.66 1542.68 1195.66 1547.9 L1195.66 1568.04 L1189.77 1568.04 L1189.77 1546.72 Q1189.77 1541.56 1187.96 1539.11 Q1186.14 1536.63 1182.35 1536.63 Q1177.87 1536.63 1175.23 1539.68 Q1172.58 1542.71 1172.58 1547.9 L1172.58 1568.04 L1166.7 1568.04 L1166.7 1532.4 L1172.58 1532.4 L1172.58 1537.93 Q1174.59 1534.66 1177.39 1533.1 Q1180.19 1531.54 1184.04 1531.54 Q1187.92 1531.54 1190.63 1533.51 Q1193.37 1535.48 1194.67 1539.24 Z\" fill=\"#000000\" fill-rule=\"evenodd\" fill-opacity=\"1\" /><path clip-path=\"url(#clip410)\" d=\"M1260.91 1548.76 L1260.91 1551.62 L1233.98 1551.62 Q1234.36 1557.67 1237.61 1560.85 Q1240.89 1564 1246.71 1564 Q1250.09 1564 1253.24 1563.17 Q1256.42 1562.35 1259.54 1560.69 L1259.54 1566.23 Q1256.39 1567.57 1253.08 1568.27 Q1249.77 1568.97 1246.36 1568.97 Q1237.83 1568.97 1232.83 1564 Q1227.87 1559.04 1227.87 1550.57 Q1227.87 1541.82 1232.58 1536.69 Q1237.32 1531.54 1245.34 1531.54 Q1252.54 1531.54 1256.71 1536.18 Q1260.91 1540.8 1260.91 1548.76 M1255.05 1547.04 Q1254.99 1542.23 1252.35 1539.37 Q1249.74 1536.5 1245.41 1536.5 Q1240.51 1536.5 1237.55 1539.27 Q1234.62 1542.04 1234.17 1547.07 L1255.05 1547.04 Z\" fill=\"#000000\" fill-rule=\"evenodd\" fill-opacity=\"1\" /><path clip-path=\"url(#clip410)\" d=\"M1290.7 1518.52 L1304.19 1518.52 L1304.19 1523.07 L1296.56 1523.07 L1296.56 1572.09 L1304.19 1572.09 L1304.19 1576.64 L1290.7 1576.64 L1290.7 1518.52 Z\" fill=\"#000000\" fill-rule=\"evenodd\" fill-opacity=\"1\" /><path clip-path=\"url(#clip410)\" d=\"M1344.43 1539.24 Q1346.62 1535.29 1349.68 1533.41 Q1352.73 1531.54 1356.87 1531.54 Q1362.44 1531.54 1365.46 1535.45 Q1368.49 1539.33 1368.49 1546.53 L1368.49 1568.04 L1362.6 1568.04 L1362.6 1546.72 Q1362.6 1541.59 1360.79 1539.11 Q1358.97 1536.63 1355.25 1536.63 Q1350.7 1536.63 1348.05 1539.65 Q1345.41 1542.68 1345.41 1547.9 L1345.41 1568.04 L1339.52 1568.04 L1339.52 1546.72 Q1339.52 1541.56 1337.71 1539.11 Q1335.9 1536.63 1332.11 1536.63 Q1327.62 1536.63 1324.98 1539.68 Q1322.34 1542.71 1322.34 1547.9 L1322.34 1568.04 L1316.45 1568.04 L1316.45 1532.4 L1322.34 1532.4 L1322.34 1537.93 Q1324.34 1534.66 1327.14 1533.1 Q1329.94 1531.54 1333.79 1531.54 Q1337.68 1531.54 1340.38 1533.51 Q1343.12 1535.48 1344.43 1539.24 Z\" fill=\"#000000\" fill-rule=\"evenodd\" fill-opacity=\"1\" /><path clip-path=\"url(#clip410)\" d=\"M1380.17 1532.4 L1386.03 1532.4 L1386.03 1568.04 L1380.17 1568.04 L1380.17 1532.4 M1380.17 1518.52 L1386.03 1518.52 L1386.03 1525.93 L1380.17 1525.93 L1380.17 1518.52 Z\" fill=\"#000000\" fill-rule=\"evenodd\" fill-opacity=\"1\" /><path clip-path=\"url(#clip410)\" d=\"M1427.91 1546.53 L1427.91 1568.04 L1422.06 1568.04 L1422.06 1546.72 Q1422.06 1541.66 1420.08 1539.14 Q1418.11 1536.63 1414.16 1536.63 Q1409.42 1536.63 1406.68 1539.65 Q1403.95 1542.68 1403.95 1547.9 L1403.95 1568.04 L1398.06 1568.04 L1398.06 1532.4 L1403.95 1532.4 L1403.95 1537.93 Q1406.05 1534.72 1408.88 1533.13 Q1411.74 1531.54 1415.47 1531.54 Q1421.61 1531.54 1424.76 1535.36 Q1427.91 1539.14 1427.91 1546.53 Z\" fill=\"#000000\" fill-rule=\"evenodd\" fill-opacity=\"1\" /><path clip-path=\"url(#clip410)\" d=\"M1453.28 1518.52 L1453.28 1576.64 L1439.78 1576.64 L1439.78 1572.09 L1447.39 1572.09 L1447.39 1523.07 L1439.78 1523.07 L1439.78 1518.52 L1453.28 1518.52 Z\" fill=\"#000000\" fill-rule=\"evenodd\" fill-opacity=\"1\" /><polyline clip-path=\"url(#clip412)\" style=\"stroke:#000000; stroke-linecap:round; stroke-linejoin:round; stroke-width:8; stroke-opacity:0.1; fill:none\" points=\"219.38,1423.18 2352.76,1423.18 \"/>\n",
       "<polyline clip-path=\"url(#clip412)\" style=\"stroke:#000000; stroke-linecap:round; stroke-linejoin:round; stroke-width:8; stroke-opacity:0.1; fill:none\" points=\"219.38,1306.03 2352.76,1306.03 \"/>\n",
       "<polyline clip-path=\"url(#clip412)\" style=\"stroke:#000000; stroke-linecap:round; stroke-linejoin:round; stroke-width:8; stroke-opacity:0.1; fill:none\" points=\"219.38,1188.88 2352.76,1188.88 \"/>\n",
       "<polyline clip-path=\"url(#clip412)\" style=\"stroke:#000000; stroke-linecap:round; stroke-linejoin:round; stroke-width:8; stroke-opacity:0.1; fill:none\" points=\"219.38,1071.73 2352.76,1071.73 \"/>\n",
       "<polyline clip-path=\"url(#clip410)\" style=\"stroke:#000000; stroke-linecap:round; stroke-linejoin:round; stroke-width:4; stroke-opacity:1; fill:none\" points=\"219.38,1423.18 219.38,1071.73 \"/>\n",
       "<polyline clip-path=\"url(#clip410)\" style=\"stroke:#000000; stroke-linecap:round; stroke-linejoin:round; stroke-width:4; stroke-opacity:1; fill:none\" points=\"219.38,1423.18 238.278,1423.18 \"/>\n",
       "<polyline clip-path=\"url(#clip410)\" style=\"stroke:#000000; stroke-linecap:round; stroke-linejoin:round; stroke-width:4; stroke-opacity:1; fill:none\" points=\"219.38,1306.03 238.278,1306.03 \"/>\n",
       "<polyline clip-path=\"url(#clip410)\" style=\"stroke:#000000; stroke-linecap:round; stroke-linejoin:round; stroke-width:4; stroke-opacity:1; fill:none\" points=\"219.38,1188.88 238.278,1188.88 \"/>\n",
       "<polyline clip-path=\"url(#clip410)\" style=\"stroke:#000000; stroke-linecap:round; stroke-linejoin:round; stroke-width:4; stroke-opacity:1; fill:none\" points=\"219.38,1071.73 238.278,1071.73 \"/>\n",
       "<path clip-path=\"url(#clip410)\" d=\"M126.205 1408.98 Q122.593 1408.98 120.765 1412.54 Q118.959 1416.08 118.959 1423.21 Q118.959 1430.32 120.765 1433.89 Q122.593 1437.43 126.205 1437.43 Q129.839 1437.43 131.644 1433.89 Q133.473 1430.32 133.473 1423.21 Q133.473 1416.08 131.644 1412.54 Q129.839 1408.98 126.205 1408.98 M126.205 1405.27 Q132.015 1405.27 135.07 1409.88 Q138.149 1414.46 138.149 1423.21 Q138.149 1431.94 135.07 1436.55 Q132.015 1441.13 126.205 1441.13 Q120.394 1441.13 117.316 1436.55 Q114.26 1431.94 114.26 1423.21 Q114.26 1414.46 117.316 1409.88 Q120.394 1405.27 126.205 1405.27 Z\" fill=\"#000000\" fill-rule=\"evenodd\" fill-opacity=\"1\" /><path clip-path=\"url(#clip410)\" d=\"M146.366 1434.58 L151.251 1434.58 L151.251 1440.46 L146.366 1440.46 L146.366 1434.58 Z\" fill=\"#000000\" fill-rule=\"evenodd\" fill-opacity=\"1\" /><path clip-path=\"url(#clip410)\" d=\"M171.436 1408.98 Q167.825 1408.98 165.996 1412.54 Q164.19 1416.08 164.19 1423.21 Q164.19 1430.32 165.996 1433.89 Q167.825 1437.43 171.436 1437.43 Q175.07 1437.43 176.876 1433.89 Q178.704 1430.32 178.704 1423.21 Q178.704 1416.08 176.876 1412.54 Q175.07 1408.98 171.436 1408.98 M171.436 1405.27 Q177.246 1405.27 180.301 1409.88 Q183.38 1414.46 183.38 1423.21 Q183.38 1431.94 180.301 1436.55 Q177.246 1441.13 171.436 1441.13 Q165.626 1441.13 162.547 1436.55 Q159.491 1431.94 159.491 1423.21 Q159.491 1414.46 162.547 1409.88 Q165.626 1405.27 171.436 1405.27 Z\" fill=\"#000000\" fill-rule=\"evenodd\" fill-opacity=\"1\" /><path clip-path=\"url(#clip410)\" d=\"M127.2 1291.83 Q123.589 1291.83 121.76 1295.39 Q119.955 1298.94 119.955 1306.07 Q119.955 1313.17 121.76 1316.74 Q123.589 1320.28 127.2 1320.28 Q130.834 1320.28 132.64 1316.74 Q134.468 1313.17 134.468 1306.07 Q134.468 1298.94 132.64 1295.39 Q130.834 1291.83 127.2 1291.83 M127.2 1288.13 Q133.01 1288.13 136.066 1292.73 Q139.144 1297.32 139.144 1306.07 Q139.144 1314.79 136.066 1319.4 Q133.01 1323.98 127.2 1323.98 Q121.39 1323.98 118.311 1319.4 Q115.256 1314.79 115.256 1306.07 Q115.256 1297.32 118.311 1292.73 Q121.39 1288.13 127.2 1288.13 Z\" fill=\"#000000\" fill-rule=\"evenodd\" fill-opacity=\"1\" /><path clip-path=\"url(#clip410)\" d=\"M147.362 1317.43 L152.246 1317.43 L152.246 1323.31 L147.362 1323.31 L147.362 1317.43 Z\" fill=\"#000000\" fill-rule=\"evenodd\" fill-opacity=\"1\" /><path clip-path=\"url(#clip410)\" d=\"M162.477 1288.75 L180.834 1288.75 L180.834 1292.69 L166.76 1292.69 L166.76 1301.16 Q167.778 1300.81 168.797 1300.65 Q169.815 1300.46 170.834 1300.46 Q176.621 1300.46 180.001 1303.63 Q183.38 1306.81 183.38 1312.22 Q183.38 1317.8 179.908 1320.9 Q176.436 1323.98 170.116 1323.98 Q167.94 1323.98 165.672 1323.61 Q163.427 1323.24 161.019 1322.5 L161.019 1317.8 Q163.102 1318.94 165.325 1319.49 Q167.547 1320.05 170.024 1320.05 Q174.028 1320.05 176.366 1317.94 Q178.704 1315.83 178.704 1312.22 Q178.704 1308.61 176.366 1306.51 Q174.028 1304.4 170.024 1304.4 Q168.149 1304.4 166.274 1304.82 Q164.422 1305.23 162.477 1306.11 L162.477 1288.75 Z\" fill=\"#000000\" fill-rule=\"evenodd\" fill-opacity=\"1\" /><path clip-path=\"url(#clip410)\" d=\"M117.015 1202.23 L124.654 1202.23 L124.654 1175.86 L116.343 1177.53 L116.343 1173.27 L124.607 1171.6 L129.283 1171.6 L129.283 1202.23 L136.922 1202.23 L136.922 1206.16 L117.015 1206.16 L117.015 1202.23 Z\" fill=\"#000000\" fill-rule=\"evenodd\" fill-opacity=\"1\" /><path clip-path=\"url(#clip410)\" d=\"M146.366 1200.28 L151.251 1200.28 L151.251 1206.16 L146.366 1206.16 L146.366 1200.28 Z\" fill=\"#000000\" fill-rule=\"evenodd\" fill-opacity=\"1\" /><path clip-path=\"url(#clip410)\" d=\"M171.436 1174.68 Q167.825 1174.68 165.996 1178.24 Q164.19 1181.79 164.19 1188.92 Q164.19 1196.02 165.996 1199.59 Q167.825 1203.13 171.436 1203.13 Q175.07 1203.13 176.876 1199.59 Q178.704 1196.02 178.704 1188.92 Q178.704 1181.79 176.876 1178.24 Q175.07 1174.68 171.436 1174.68 M171.436 1170.98 Q177.246 1170.98 180.301 1175.58 Q183.38 1180.17 183.38 1188.92 Q183.38 1197.64 180.301 1202.25 Q177.246 1206.83 171.436 1206.83 Q165.626 1206.83 162.547 1202.25 Q159.491 1197.64 159.491 1188.92 Q159.491 1180.17 162.547 1175.58 Q165.626 1170.98 171.436 1170.98 Z\" fill=\"#000000\" fill-rule=\"evenodd\" fill-opacity=\"1\" /><path clip-path=\"url(#clip410)\" d=\"M118.01 1085.08 L125.649 1085.08 L125.649 1058.71 L117.339 1060.38 L117.339 1056.12 L125.603 1054.45 L130.279 1054.45 L130.279 1085.08 L137.917 1085.08 L137.917 1089.01 L118.01 1089.01 L118.01 1085.08 Z\" fill=\"#000000\" fill-rule=\"evenodd\" fill-opacity=\"1\" /><path clip-path=\"url(#clip410)\" d=\"M147.362 1083.13 L152.246 1083.13 L152.246 1089.01 L147.362 1089.01 L147.362 1083.13 Z\" fill=\"#000000\" fill-rule=\"evenodd\" fill-opacity=\"1\" /><path clip-path=\"url(#clip410)\" d=\"M162.477 1054.45 L180.834 1054.45 L180.834 1058.39 L166.76 1058.39 L166.76 1066.86 Q167.778 1066.51 168.797 1066.35 Q169.815 1066.16 170.834 1066.16 Q176.621 1066.16 180.001 1069.34 Q183.38 1072.51 183.38 1077.92 Q183.38 1083.5 179.908 1086.6 Q176.436 1089.68 170.116 1089.68 Q167.94 1089.68 165.672 1089.31 Q163.427 1088.94 161.019 1088.2 L161.019 1083.5 Q163.102 1084.64 165.325 1085.19 Q167.547 1085.75 170.024 1085.75 Q174.028 1085.75 176.366 1083.64 Q178.704 1081.54 178.704 1077.92 Q178.704 1074.31 176.366 1072.21 Q174.028 1070.1 170.024 1070.1 Q168.149 1070.1 166.274 1070.52 Q164.422 1070.93 162.477 1071.81 L162.477 1054.45 Z\" fill=\"#000000\" fill-rule=\"evenodd\" fill-opacity=\"1\" /><path clip-path=\"url(#clip410)\" d=\"M41.1758 1338.53 Q41.6267 1338.53 42.6895 1338.82 L67.8744 1345.14 Q73.4783 1346.52 77.4074 1351.03 Q81.3365 1355.51 81.3365 1360.59 Q81.3365 1363.65 79.694 1365.62 Q78.0837 1367.58 75.6039 1367.58 Q73.4139 1367.58 72.3511 1366.42 Q71.3205 1365.26 71.3205 1363.88 Q71.3205 1363.43 71.4493 1362.95 Q71.5781 1362.46 72.1256 1361.95 Q72.6731 1361.43 73.6071 1361.43 Q75.1208 1361.43 76.3124 1362.75 Q76.8599 1363.4 76.9887 1364.01 Q77.1175 1364.59 77.1175 1365.59 Q78.0193 1365.2 78.6312 1364.49 Q79.2431 1363.78 79.4686 1362.98 Q79.7262 1362.17 79.7906 1361.66 Q79.8872 1361.11 79.8872 1360.59 Q79.8872 1356.47 75.7327 1353.32 Q74.4766 1352.38 73.2206 1351.71 Q71.9968 1351 70.4831 1350.48 Q69.0016 1349.97 68.1965 1349.74 Q67.3914 1349.48 65.5556 1349.03 Q68.5508 1352.03 68.5508 1355.7 Q68.5508 1357.25 68.1321 1358.63 Q67.7134 1359.98 66.8439 1361.17 Q65.9421 1362.37 64.364 1363.07 Q62.7859 1363.75 60.6925 1363.75 Q58.4703 1363.75 55.443 1362.88 Q52.4156 1362.01 46.844 1359.92 Q43.72 1358.79 42.2064 1358.79 Q41.4656 1358.79 41.0148 1358.95 Q40.5317 1359.11 40.3706 1359.44 Q40.1774 1359.76 40.1452 1359.95 Q40.113 1360.11 40.113 1360.43 Q40.113 1362.33 42.0453 1364.11 Q43.9777 1365.88 48.2933 1367.1 Q49.0984 1367.36 49.2917 1367.52 Q49.4849 1367.68 49.4849 1368.16 Q49.4527 1368.97 48.8086 1368.97 Q48.5509 1368.97 47.5525 1368.68 Q46.522 1368.39 45.0083 1367.71 Q43.4624 1367 42.0775 1366.04 Q40.6605 1365.07 39.6621 1363.56 Q38.6637 1362.01 38.6637 1360.24 Q38.6637 1357.82 40.2418 1356.34 Q41.7877 1354.83 44.0743 1354.83 Q45.0083 1354.83 45.8456 1355.09 Q46.6508 1355.31 48.8086 1356.15 Q57.5042 1359.53 61.7553 1359.53 Q62.7859 1359.53 63.6555 1359.37 Q64.4928 1359.18 65.3302 1358.76 Q66.1353 1358.34 66.6184 1357.5 Q67.0693 1356.63 67.0693 1355.44 Q67.0693 1353.93 66.3608 1352.51 Q65.62 1351.06 64.6217 1350.16 Q63.6233 1349.23 62.7859 1348.68 Q61.9164 1348.1 61.4655 1347.97 L49.6137 1345.01 L44.332 1343.69 Q41.4656 1343.07 40.7571 1342.78 Q40.0808 1342.4 39.7265 1341.72 Q39.3723 1341.05 39.3723 1340.47 Q39.3723 1339.66 39.8553 1339.11 Q40.3384 1338.53 41.1758 1338.53 Z\" fill=\"#000000\" fill-rule=\"evenodd\" fill-opacity=\"1\" /><path clip-path=\"url(#clip410)\" d=\"M15.5216 1304.4 L25.6214 1306.9 Q26.2301 1307.03 26.3879 1307.15 Q26.5457 1307.26 26.5457 1307.58 Q26.5457 1307.82 26.433 1307.98 Q26.3203 1308.12 26.2076 1308.12 L26.0948 1308.14 Q26.0272 1308.14 25.689 1308.09 Q25.3283 1308.05 24.7422 1308 Q24.156 1307.96 23.5023 1307.96 Q19.805 1307.96 18.0917 1309.76 Q16.3558 1311.54 16.3558 1314.61 Q16.3558 1316.73 17.483 1318.62 Q18.6102 1320.52 20.3912 1321.6 Q22.1496 1322.68 23.9982 1322.68 Q25.689 1322.68 26.7712 1321.82 Q27.8533 1320.97 28.214 1319.86 L29.0481 1316.77 Q29.8822 1313.53 30.2429 1312.6 Q30.5811 1311.68 31.3476 1310.91 Q33.4668 1308.63 36.7582 1308.63 Q39.5988 1308.63 42.3491 1310.24 Q45.077 1311.84 46.858 1314.59 Q48.6164 1317.34 48.6164 1320.38 Q48.6164 1325.72 45.3024 1328.18 L47.9175 1330.43 Q48.4135 1330.86 48.5037 1331 Q48.6164 1331.11 48.6164 1331.27 Q48.6164 1331.47 48.4811 1331.63 Q48.3684 1331.79 48.1655 1331.79 Q48.0077 1331.79 42.7098 1330.46 Q37.412 1329.13 37.2993 1329.01 Q37.1189 1328.83 37.1189 1328.54 Q37.1189 1328 37.6374 1328 Q37.7727 1328.05 37.953 1328.09 Q39.5762 1328.36 40.4554 1328.36 Q42.1011 1328.36 43.3636 1327.8 Q44.6035 1327.23 45.325 1326.4 Q46.0238 1325.54 46.4747 1324.39 Q46.903 1323.24 47.0608 1322.27 Q47.1961 1321.3 47.1961 1320.29 Q47.1961 1318.1 45.9336 1316.16 Q44.6712 1314.2 42.7098 1313.1 Q40.7485 1311.97 38.697 1311.97 Q37.6149 1311.97 36.7807 1312.26 Q35.9241 1312.56 35.4506 1312.96 Q34.9772 1313.35 34.6165 1314 Q34.2558 1314.65 34.1205 1315.1 Q33.9627 1315.53 33.8049 1316.21 L32.4974 1321.15 Q31.9112 1323.13 30.2204 1324.55 Q28.5296 1325.95 25.937 1325.95 Q23.2092 1325.95 20.6842 1324.35 Q18.1368 1322.72 16.6038 1320.09 Q15.0482 1317.43 15.0482 1314.56 Q15.0482 1312.31 15.9274 1310.57 Q16.7841 1308.84 18.3848 1307.96 L15.7471 1305.73 Q15.2286 1305.28 15.1384 1305.19 Q15.0482 1305.07 15.0482 1304.91 Q15.0482 1304.64 15.206 1304.53 Q15.3638 1304.4 15.5216 1304.4 Z\" fill=\"#000000\" fill-rule=\"evenodd\" fill-opacity=\"1\" /><path clip-path=\"url(#clip410)\" d=\"M23.0288 1268.77 Q25.5538 1268.77 27.8758 1270.64 Q30.1979 1272.49 31.6181 1275.51 Q33.0159 1278.51 33.0159 1281.74 L33.0159 1289.58 L44.5585 1292.44 Q44.6261 1292.47 44.9192 1292.53 Q45.1897 1292.6 45.3475 1292.6 Q45.9111 1292.6 46.0464 1291.9 Q46.1816 1291.18 46.1816 1289.58 Q46.1816 1288.54 46.362 1288.39 Q46.4747 1288.3 46.6776 1288.3 Q46.9932 1288.3 47.2187 1288.39 Q47.4216 1288.48 47.4892 1288.66 Q47.5568 1288.81 47.5794 1288.93 Q47.6019 1289.04 47.6019 1289.22 Q47.6019 1289.69 47.5568 1290.71 Q47.5117 1291.7 47.5117 1292.22 L47.4666 1295.17 L47.6019 1301.03 Q47.6019 1301.73 47.0383 1301.73 Q46.61 1301.73 46.4296 1301.55 Q46.2267 1301.37 46.2042 1301.17 Q46.1816 1300.97 46.1816 1300.45 Q46.1816 1299.32 46.114 1298.64 Q46.0464 1297.97 45.9562 1297.54 Q45.8435 1297.09 45.5279 1296.86 Q45.2122 1296.61 44.9417 1296.5 Q44.6486 1296.39 43.9949 1296.23 L19.1963 1290.05 Q18.4524 1289.87 18.3397 1289.87 Q17.9564 1289.87 17.8211 1290.1 Q17.6633 1290.3 17.5957 1290.89 Q17.5055 1292.02 17.5055 1292.87 Q17.5055 1293.44 17.483 1293.66 Q17.4604 1293.86 17.3477 1294.04 Q17.2125 1294.2 16.9419 1294.2 Q16.5136 1294.2 16.3332 1294.02 Q16.1303 1293.82 16.1078 1293.59 Q16.0627 1293.37 16.0627 1292.83 L16.0627 1277.86 Q16.0627 1273.55 18.1142 1271.16 Q20.1657 1268.77 23.0288 1268.77 M21.9242 1273.06 Q17.5055 1273.06 17.5055 1279.35 L17.5055 1283.76 Q17.5055 1285.23 17.7761 1285.59 Q18.024 1285.95 19.264 1286.27 L31.821 1289.4 L31.821 1282.89 Q31.821 1278.51 29.3637 1275.78 Q28.2365 1274.54 25.8919 1273.8 Q23.5473 1273.06 21.9242 1273.06 Z\" fill=\"#000000\" fill-rule=\"evenodd\" fill-opacity=\"1\" /><path clip-path=\"url(#clip410)\" d=\"M84.2994 1213.06 L18.3418 1213.06 L18.3418 1203.11 L19.8555 1203.11 L19.8555 1208.65 L82.7858 1208.65 L82.7858 1203.11 L84.2994 1203.11 L84.2994 1213.06 Z\" fill=\"#000000\" fill-rule=\"evenodd\" fill-opacity=\"1\" /><path clip-path=\"url(#clip410)\" d=\"M50.3867 1151.37 Q50.7731 1150.98 51.3206 1150.98 Q51.8681 1150.98 52.2546 1151.37 Q52.6411 1151.75 52.6411 1152.3 L52.6411 1193.59 Q52.6411 1194.14 52.2546 1194.52 Q51.8681 1194.91 51.3206 1194.91 Q50.7731 1194.91 50.3867 1194.52 Q50.0002 1194.14 50.0002 1193.59 L50.0002 1152.3 Q50.0002 1151.75 50.3867 1151.37 Z\" fill=\"#000000\" fill-rule=\"evenodd\" fill-opacity=\"1\" /><path clip-path=\"url(#clip410)\" d=\"M82.7858 1144.09 L82.7858 1138.55 L19.8555 1138.55 L19.8555 1144.09 L18.3418 1144.09 L18.3418 1134.14 L84.2994 1134.14 L84.2994 1144.09 L82.7858 1144.09 Z\" fill=\"#000000\" fill-rule=\"evenodd\" fill-opacity=\"1\" /><polyline clip-path=\"url(#clip412)\" style=\"stroke:#000000; stroke-linecap:round; stroke-linejoin:round; stroke-width:4; stroke-opacity:1; fill:none\" stroke-dasharray=\"2, 4\" points=\"279.759,1142.02 357.167,1142.02 434.576,1142.02 511.984,1142.02 589.392,1142.02 666.801,1142.02 744.209,1142.02 821.618,1142.02 899.026,1142.02 976.434,1142.02 1053.84,1142.02 1131.25,1142.02 1208.66,1142.02 1286.07,1142.02 1363.48,1142.02 1440.88,1142.02 1518.29,1142.02 1595.7,1142.02 1673.11,1142.02 1750.52,1142.02 1827.93,1142.02 1905.34,1142.02 1982.74,1142.02 2060.15,1142.02 2137.56,1142.02 2214.97,1142.02 2292.38,1142.02 \"/>\n",
       "<circle clip-path=\"url(#clip412)\" cx=\"279.759\" cy=\"1142.02\" r=\"10.8\" fill=\"#000000\" fill-rule=\"evenodd\" fill-opacity=\"1\" stroke=\"none\"/>\n",
       "<circle clip-path=\"url(#clip412)\" cx=\"357.167\" cy=\"1142.02\" r=\"10.8\" fill=\"#000000\" fill-rule=\"evenodd\" fill-opacity=\"1\" stroke=\"none\"/>\n",
       "<circle clip-path=\"url(#clip412)\" cx=\"434.576\" cy=\"1142.02\" r=\"10.8\" fill=\"#000000\" fill-rule=\"evenodd\" fill-opacity=\"1\" stroke=\"none\"/>\n",
       "<circle clip-path=\"url(#clip412)\" cx=\"511.984\" cy=\"1142.02\" r=\"10.8\" fill=\"#000000\" fill-rule=\"evenodd\" fill-opacity=\"1\" stroke=\"none\"/>\n",
       "<circle clip-path=\"url(#clip412)\" cx=\"589.392\" cy=\"1142.02\" r=\"10.8\" fill=\"#000000\" fill-rule=\"evenodd\" fill-opacity=\"1\" stroke=\"none\"/>\n",
       "<circle clip-path=\"url(#clip412)\" cx=\"666.801\" cy=\"1142.02\" r=\"10.8\" fill=\"#000000\" fill-rule=\"evenodd\" fill-opacity=\"1\" stroke=\"none\"/>\n",
       "<circle clip-path=\"url(#clip412)\" cx=\"744.209\" cy=\"1142.02\" r=\"10.8\" fill=\"#000000\" fill-rule=\"evenodd\" fill-opacity=\"1\" stroke=\"none\"/>\n",
       "<circle clip-path=\"url(#clip412)\" cx=\"821.618\" cy=\"1142.02\" r=\"10.8\" fill=\"#000000\" fill-rule=\"evenodd\" fill-opacity=\"1\" stroke=\"none\"/>\n",
       "<circle clip-path=\"url(#clip412)\" cx=\"899.026\" cy=\"1142.02\" r=\"10.8\" fill=\"#000000\" fill-rule=\"evenodd\" fill-opacity=\"1\" stroke=\"none\"/>\n",
       "<circle clip-path=\"url(#clip412)\" cx=\"976.434\" cy=\"1204.28\" r=\"10.8\" fill=\"#000000\" fill-rule=\"evenodd\" fill-opacity=\"1\" stroke=\"none\"/>\n",
       "<circle clip-path=\"url(#clip412)\" cx=\"1053.84\" cy=\"1167.17\" r=\"10.8\" fill=\"#000000\" fill-rule=\"evenodd\" fill-opacity=\"1\" stroke=\"none\"/>\n",
       "<circle clip-path=\"url(#clip412)\" cx=\"1131.25\" cy=\"1266.57\" r=\"10.8\" fill=\"#000000\" fill-rule=\"evenodd\" fill-opacity=\"1\" stroke=\"none\"/>\n",
       "<circle clip-path=\"url(#clip412)\" cx=\"1208.66\" cy=\"1220.7\" r=\"10.8\" fill=\"#000000\" fill-rule=\"evenodd\" fill-opacity=\"1\" stroke=\"none\"/>\n",
       "<circle clip-path=\"url(#clip412)\" cx=\"1286.07\" cy=\"1142.02\" r=\"10.8\" fill=\"#000000\" fill-rule=\"evenodd\" fill-opacity=\"1\" stroke=\"none\"/>\n",
       "<circle clip-path=\"url(#clip412)\" cx=\"1363.48\" cy=\"1142.02\" r=\"10.8\" fill=\"#000000\" fill-rule=\"evenodd\" fill-opacity=\"1\" stroke=\"none\"/>\n",
       "<circle clip-path=\"url(#clip412)\" cx=\"1440.88\" cy=\"1142.02\" r=\"10.8\" fill=\"#000000\" fill-rule=\"evenodd\" fill-opacity=\"1\" stroke=\"none\"/>\n",
       "<circle clip-path=\"url(#clip412)\" cx=\"1518.29\" cy=\"1142.02\" r=\"10.8\" fill=\"#000000\" fill-rule=\"evenodd\" fill-opacity=\"1\" stroke=\"none\"/>\n",
       "<circle clip-path=\"url(#clip412)\" cx=\"1595.7\" cy=\"1169.05\" r=\"10.8\" fill=\"#000000\" fill-rule=\"evenodd\" fill-opacity=\"1\" stroke=\"none\"/>\n",
       "<circle clip-path=\"url(#clip412)\" cx=\"1673.11\" cy=\"1306.56\" r=\"10.8\" fill=\"#000000\" fill-rule=\"evenodd\" fill-opacity=\"1\" stroke=\"none\"/>\n",
       "<circle clip-path=\"url(#clip412)\" cx=\"1750.52\" cy=\"1142.04\" r=\"10.8\" fill=\"#000000\" fill-rule=\"evenodd\" fill-opacity=\"1\" stroke=\"none\"/>\n",
       "<circle clip-path=\"url(#clip412)\" cx=\"1827.93\" cy=\"1151.2\" r=\"10.8\" fill=\"#000000\" fill-rule=\"evenodd\" fill-opacity=\"1\" stroke=\"none\"/>\n",
       "<circle clip-path=\"url(#clip412)\" cx=\"1905.34\" cy=\"1180.96\" r=\"10.8\" fill=\"#000000\" fill-rule=\"evenodd\" fill-opacity=\"1\" stroke=\"none\"/>\n",
       "<circle clip-path=\"url(#clip412)\" cx=\"1982.74\" cy=\"1142.8\" r=\"10.8\" fill=\"#000000\" fill-rule=\"evenodd\" fill-opacity=\"1\" stroke=\"none\"/>\n",
       "<circle clip-path=\"url(#clip412)\" cx=\"2060.15\" cy=\"1174.79\" r=\"10.8\" fill=\"#000000\" fill-rule=\"evenodd\" fill-opacity=\"1\" stroke=\"none\"/>\n",
       "<circle clip-path=\"url(#clip412)\" cx=\"2137.56\" cy=\"1183.39\" r=\"10.8\" fill=\"#000000\" fill-rule=\"evenodd\" fill-opacity=\"1\" stroke=\"none\"/>\n",
       "<circle clip-path=\"url(#clip412)\" cx=\"2214.97\" cy=\"1201.78\" r=\"10.8\" fill=\"#000000\" fill-rule=\"evenodd\" fill-opacity=\"1\" stroke=\"none\"/>\n",
       "<circle clip-path=\"url(#clip412)\" cx=\"2292.38\" cy=\"1188.71\" r=\"10.8\" fill=\"#000000\" fill-rule=\"evenodd\" fill-opacity=\"1\" stroke=\"none\"/>\n",
       "<polyline clip-path=\"url(#clip412)\" style=\"stroke:#000000; stroke-linecap:round; stroke-linejoin:round; stroke-width:12; stroke-opacity:1; fill:none\" points=\"279.759,1142.02 279.759,1142.02 357.167,1142.02 357.167,1142.02 434.576,1142.02 434.576,1142.02 511.984,1142.02 511.984,1142.02 589.392,1142.02 589.392,1142.02 666.801,1142.02 666.801,1142.02 744.209,1142.02 744.209,1142.02 821.618,1142.02 821.618,1142.02 899.026,1142.02 899.026,1204.28 976.434,1204.28 976.434,1167.17 1053.84,1167.17 1053.84,1266.57 1131.25,1266.57 1131.25,1220.7 1208.66,1220.7 1208.66,1142.02 1286.07,1142.02 1286.07,1142.02 1363.48,1142.02 1363.48,1142.02 1440.88,1142.02 1440.88,1142.02 1518.29,1142.02 1518.29,1169.05 1595.7,1169.05 1595.7,1306.56 1673.11,1306.56 1673.11,1142.04 1750.52,1142.04 1750.52,1151.2 1827.93,1151.2 1827.93,1180.96 1905.34,1180.96 1905.34,1142.8 1982.74,1142.8 1982.74,1174.79 2060.15,1174.79 2060.15,1183.39 2137.56,1183.39 2137.56,1201.78 2214.97,1201.78 2214.97,1188.71 2292.38,1188.71 \"/>\n",
       "<path clip-path=\"url(#clip412)\" d=\"M267.759 1130.02 L267.759 1154.02 L291.759 1154.02 L291.759 1130.02 L267.759 1130.02 Z\" fill=\"#000000\" fill-rule=\"evenodd\" fill-opacity=\"1\" stroke=\"none\"/>\n",
       "<path clip-path=\"url(#clip412)\" d=\"M345.167 1130.02 L345.167 1154.02 L369.167 1154.02 L369.167 1130.02 L345.167 1130.02 Z\" fill=\"#000000\" fill-rule=\"evenodd\" fill-opacity=\"1\" stroke=\"none\"/>\n",
       "<path clip-path=\"url(#clip412)\" d=\"M422.576 1130.02 L422.576 1154.02 L446.576 1154.02 L446.576 1130.02 L422.576 1130.02 Z\" fill=\"#000000\" fill-rule=\"evenodd\" fill-opacity=\"1\" stroke=\"none\"/>\n",
       "<path clip-path=\"url(#clip412)\" d=\"M499.984 1130.02 L499.984 1154.02 L523.984 1154.02 L523.984 1130.02 L499.984 1130.02 Z\" fill=\"#000000\" fill-rule=\"evenodd\" fill-opacity=\"1\" stroke=\"none\"/>\n",
       "<path clip-path=\"url(#clip412)\" d=\"M577.392 1130.02 L577.392 1154.02 L601.392 1154.02 L601.392 1130.02 L577.392 1130.02 Z\" fill=\"#000000\" fill-rule=\"evenodd\" fill-opacity=\"1\" stroke=\"none\"/>\n",
       "<path clip-path=\"url(#clip412)\" d=\"M654.801 1130.02 L654.801 1154.02 L678.801 1154.02 L678.801 1130.02 L654.801 1130.02 Z\" fill=\"#000000\" fill-rule=\"evenodd\" fill-opacity=\"1\" stroke=\"none\"/>\n",
       "<path clip-path=\"url(#clip412)\" d=\"M732.209 1130.02 L732.209 1154.02 L756.209 1154.02 L756.209 1130.02 L732.209 1130.02 Z\" fill=\"#000000\" fill-rule=\"evenodd\" fill-opacity=\"1\" stroke=\"none\"/>\n",
       "<path clip-path=\"url(#clip412)\" d=\"M809.618 1130.02 L809.618 1154.02 L833.618 1154.02 L833.618 1130.02 L809.618 1130.02 Z\" fill=\"#000000\" fill-rule=\"evenodd\" fill-opacity=\"1\" stroke=\"none\"/>\n",
       "<path clip-path=\"url(#clip412)\" d=\"M887.026 1130.02 L887.026 1154.02 L911.026 1154.02 L911.026 1130.02 L887.026 1130.02 Z\" fill=\"#000000\" fill-rule=\"evenodd\" fill-opacity=\"1\" stroke=\"none\"/>\n",
       "<path clip-path=\"url(#clip412)\" d=\"M964.434 1192.27 L964.434 1216.27 L988.434 1216.27 L988.434 1192.27 L964.434 1192.27 Z\" fill=\"#000000\" fill-rule=\"evenodd\" fill-opacity=\"1\" stroke=\"none\"/>\n",
       "<path clip-path=\"url(#clip412)\" d=\"M1041.84 1155.17 L1041.84 1179.17 L1065.84 1179.17 L1065.84 1155.17 L1041.84 1155.17 Z\" fill=\"#000000\" fill-rule=\"evenodd\" fill-opacity=\"1\" stroke=\"none\"/>\n",
       "<path clip-path=\"url(#clip412)\" d=\"M1119.25 1254.57 L1119.25 1278.57 L1143.25 1278.57 L1143.25 1254.57 L1119.25 1254.57 Z\" fill=\"#000000\" fill-rule=\"evenodd\" fill-opacity=\"1\" stroke=\"none\"/>\n",
       "<path clip-path=\"url(#clip412)\" d=\"M1196.66 1208.7 L1196.66 1232.7 L1220.66 1232.7 L1220.66 1208.7 L1196.66 1208.7 Z\" fill=\"#000000\" fill-rule=\"evenodd\" fill-opacity=\"1\" stroke=\"none\"/>\n",
       "<path clip-path=\"url(#clip412)\" d=\"M1274.07 1130.02 L1274.07 1154.02 L1298.07 1154.02 L1298.07 1130.02 L1274.07 1130.02 Z\" fill=\"#000000\" fill-rule=\"evenodd\" fill-opacity=\"1\" stroke=\"none\"/>\n",
       "<path clip-path=\"url(#clip412)\" d=\"M1351.48 1130.02 L1351.48 1154.02 L1375.48 1154.02 L1375.48 1130.02 L1351.48 1130.02 Z\" fill=\"#000000\" fill-rule=\"evenodd\" fill-opacity=\"1\" stroke=\"none\"/>\n",
       "<path clip-path=\"url(#clip412)\" d=\"M1428.88 1130.02 L1428.88 1154.02 L1452.88 1154.02 L1452.88 1130.02 L1428.88 1130.02 Z\" fill=\"#000000\" fill-rule=\"evenodd\" fill-opacity=\"1\" stroke=\"none\"/>\n",
       "<path clip-path=\"url(#clip412)\" d=\"M1506.29 1130.02 L1506.29 1154.02 L1530.29 1154.02 L1530.29 1130.02 L1506.29 1130.02 Z\" fill=\"#000000\" fill-rule=\"evenodd\" fill-opacity=\"1\" stroke=\"none\"/>\n",
       "<path clip-path=\"url(#clip412)\" d=\"M1583.7 1157.04 L1583.7 1181.04 L1607.7 1181.04 L1607.7 1157.04 L1583.7 1157.04 Z\" fill=\"#000000\" fill-rule=\"evenodd\" fill-opacity=\"1\" stroke=\"none\"/>\n",
       "<path clip-path=\"url(#clip412)\" d=\"M1661.11 1294.57 L1661.11 1318.57 L1685.11 1318.57 L1685.11 1294.57 L1661.11 1294.57 Z\" fill=\"#000000\" fill-rule=\"evenodd\" fill-opacity=\"1\" stroke=\"none\"/>\n",
       "<path clip-path=\"url(#clip412)\" d=\"M1738.52 1130.06 L1738.52 1154.06 L1762.52 1154.06 L1762.52 1130.06 L1738.52 1130.06 Z\" fill=\"#000000\" fill-rule=\"evenodd\" fill-opacity=\"1\" stroke=\"none\"/>\n",
       "<path clip-path=\"url(#clip412)\" d=\"M1815.93 1139.08 L1815.93 1163.08 L1839.93 1163.08 L1839.93 1139.08 L1815.93 1139.08 Z\" fill=\"#000000\" fill-rule=\"evenodd\" fill-opacity=\"1\" stroke=\"none\"/>\n",
       "<path clip-path=\"url(#clip412)\" d=\"M1893.34 1169.19 L1893.34 1193.19 L1917.34 1193.19 L1917.34 1169.19 L1893.34 1169.19 Z\" fill=\"#000000\" fill-rule=\"evenodd\" fill-opacity=\"1\" stroke=\"none\"/>\n",
       "<path clip-path=\"url(#clip412)\" d=\"M1970.74 1130.5 L1970.74 1154.5 L1994.74 1154.5 L1994.74 1130.5 L1970.74 1130.5 Z\" fill=\"#000000\" fill-rule=\"evenodd\" fill-opacity=\"1\" stroke=\"none\"/>\n",
       "<path clip-path=\"url(#clip412)\" d=\"M2048.15 1163.05 L2048.15 1187.05 L2072.15 1187.05 L2072.15 1163.05 L2048.15 1163.05 Z\" fill=\"#000000\" fill-rule=\"evenodd\" fill-opacity=\"1\" stroke=\"none\"/>\n",
       "<path clip-path=\"url(#clip412)\" d=\"M2125.56 1171.22 L2125.56 1195.22 L2149.56 1195.22 L2149.56 1171.22 L2125.56 1171.22 Z\" fill=\"#000000\" fill-rule=\"evenodd\" fill-opacity=\"1\" stroke=\"none\"/>\n",
       "<path clip-path=\"url(#clip412)\" d=\"M2202.97 1189.87 L2202.97 1213.87 L2226.97 1213.87 L2226.97 1189.87 L2202.97 1189.87 Z\" fill=\"#000000\" fill-rule=\"evenodd\" fill-opacity=\"1\" stroke=\"none\"/>\n",
       "<path clip-path=\"url(#clip412)\" d=\"M2280.38 1176.69 L2280.38 1200.69 L2304.38 1200.69 L2304.38 1176.69 L2280.38 1176.69 Z\" fill=\"#000000\" fill-rule=\"evenodd\" fill-opacity=\"1\" stroke=\"none\"/>\n",
       "<polyline clip-path=\"url(#clip412)\" style=\"stroke:#000000; stroke-linecap:round; stroke-linejoin:round; stroke-width:12; stroke-opacity:1; fill:none\" stroke-dasharray=\"48, 24, 6, 24\" points=\"279.759,1142.02 279.759,1142.02 357.167,1142.02 357.167,1142.02 434.576,1142.02 434.576,1142.02 511.984,1142.02 511.984,1142.02 589.392,1142.02 589.392,1142.02 666.801,1142.02 666.801,1142.02 744.209,1142.02 744.209,1142.02 821.618,1142.02 821.618,1142.02 899.026,1142.02 899.026,1204.27 976.434,1204.27 976.434,1167.17 1053.84,1167.17 1053.84,1266.57 1131.25,1266.57 1131.25,1220.7 1208.66,1220.7 1208.66,1142.02 1286.07,1142.02 1286.07,1142.02 1363.48,1142.02 1363.48,1142.02 1440.88,1142.02 1440.88,1142.02 1518.29,1142.02 1518.29,1169.04 1595.7,1169.04 1595.7,1306.57 1673.11,1306.57 1673.11,1142.06 1750.52,1142.06 1750.52,1151.08 1827.93,1151.08 1827.93,1181.19 1905.34,1181.19 1905.34,1142.5 1982.74,1142.5 1982.74,1175.05 2060.15,1175.05 2060.15,1183.22 2137.56,1183.22 2137.56,1201.87 2214.97,1201.87 2214.97,1188.69 2292.38,1188.69 \"/>\n",
       "</svg>\n"
      ]
     },
     "execution_count": 29,
     "metadata": {},
     "output_type": "execute_result"
    }
   ],
   "source": [
    "plot_comp((0.0,1.5),L\"y^{SP} \\quad [-]\",2,ts,yspTraj,yspMax)"
   ]
  },
  {
   "cell_type": "code",
   "execution_count": 30,
   "id": "7271ea14",
   "metadata": {},
   "outputs": [
    {
     "data": {
      "image/svg+xml": [
       "<?xml version=\"1.0\" encoding=\"utf-8\"?>\n",
       "<svg xmlns=\"http://www.w3.org/2000/svg\" xmlns:xlink=\"http://www.w3.org/1999/xlink\" width=\"600\" height=\"400\" viewBox=\"0 0 2400 1600\">\n",
       "<defs>\n",
       "  <clipPath id=\"clip450\">\n",
       "    <rect x=\"0\" y=\"0\" width=\"2400\" height=\"1600\"/>\n",
       "  </clipPath>\n",
       "</defs>\n",
       "<path clip-path=\"url(#clip450)\" d=\"M0 1600 L2400 1600 L2400 0 L0 0  Z\" fill=\"#ffffff\" fill-rule=\"evenodd\" fill-opacity=\"1\"/>\n",
       "<defs>\n",
       "  <clipPath id=\"clip451\">\n",
       "    <rect x=\"480\" y=\"0\" width=\"1681\" height=\"1600\"/>\n",
       "  </clipPath>\n",
       "</defs>\n",
       "<defs>\n",
       "  <clipPath id=\"clip452\">\n",
       "    <rect x=\"219\" y=\"1071\" width=\"2134\" height=\"352\"/>\n",
       "  </clipPath>\n",
       "</defs>\n",
       "<path clip-path=\"url(#clip450)\" d=\"M219.033 398.692 L2352.76 398.692 L2352.76 47.2441 L219.033 47.2441  Z\" fill=\"#ffffff\" fill-rule=\"evenodd\" fill-opacity=\"1\"/>\n",
       "<defs>\n",
       "  <clipPath id=\"clip453\">\n",
       "    <rect x=\"219\" y=\"47\" width=\"2135\" height=\"352\"/>\n",
       "  </clipPath>\n",
       "</defs>\n",
       "<polyline clip-path=\"url(#clip453)\" style=\"stroke:#000000; stroke-linecap:round; stroke-linejoin:round; stroke-width:8; stroke-opacity:0.1; fill:none\" points=\"589.105,398.692 589.105,47.2441 \"/>\n",
       "<polyline clip-path=\"url(#clip453)\" style=\"stroke:#000000; stroke-linecap:round; stroke-linejoin:round; stroke-width:8; stroke-opacity:0.1; fill:none\" points=\"976.21,398.692 976.21,47.2441 \"/>\n",
       "<polyline clip-path=\"url(#clip453)\" style=\"stroke:#000000; stroke-linecap:round; stroke-linejoin:round; stroke-width:8; stroke-opacity:0.1; fill:none\" points=\"1363.32,398.692 1363.32,47.2441 \"/>\n",
       "<polyline clip-path=\"url(#clip453)\" style=\"stroke:#000000; stroke-linecap:round; stroke-linejoin:round; stroke-width:8; stroke-opacity:0.1; fill:none\" points=\"1750.42,398.692 1750.42,47.2441 \"/>\n",
       "<polyline clip-path=\"url(#clip453)\" style=\"stroke:#000000; stroke-linecap:round; stroke-linejoin:round; stroke-width:8; stroke-opacity:0.1; fill:none\" points=\"2137.53,398.692 2137.53,47.2441 \"/>\n",
       "<polyline clip-path=\"url(#clip450)\" style=\"stroke:#000000; stroke-linecap:round; stroke-linejoin:round; stroke-width:4; stroke-opacity:1; fill:none\" points=\"219.033,398.692 2352.76,398.692 \"/>\n",
       "<polyline clip-path=\"url(#clip450)\" style=\"stroke:#000000; stroke-linecap:round; stroke-linejoin:round; stroke-width:4; stroke-opacity:1; fill:none\" points=\"589.105,398.692 589.105,379.794 \"/>\n",
       "<polyline clip-path=\"url(#clip450)\" style=\"stroke:#000000; stroke-linecap:round; stroke-linejoin:round; stroke-width:4; stroke-opacity:1; fill:none\" points=\"976.21,398.692 976.21,379.794 \"/>\n",
       "<polyline clip-path=\"url(#clip450)\" style=\"stroke:#000000; stroke-linecap:round; stroke-linejoin:round; stroke-width:4; stroke-opacity:1; fill:none\" points=\"1363.32,398.692 1363.32,379.794 \"/>\n",
       "<polyline clip-path=\"url(#clip450)\" style=\"stroke:#000000; stroke-linecap:round; stroke-linejoin:round; stroke-width:4; stroke-opacity:1; fill:none\" points=\"1750.42,398.692 1750.42,379.794 \"/>\n",
       "<polyline clip-path=\"url(#clip450)\" style=\"stroke:#000000; stroke-linecap:round; stroke-linejoin:round; stroke-width:4; stroke-opacity:1; fill:none\" points=\"2137.53,398.692 2137.53,379.794 \"/>\n",
       "<path clip-path=\"url(#clip450)\" d=\"M579.383 426.532 L597.74 426.532 L597.74 430.467 L583.666 430.467 L583.666 438.939 Q584.684 438.592 585.703 438.43 Q586.721 438.245 587.74 438.245 Q593.527 438.245 596.906 441.416 Q600.286 444.587 600.286 450.004 Q600.286 455.583 596.814 458.684 Q593.341 461.763 587.022 461.763 Q584.846 461.763 582.578 461.393 Q580.332 461.022 577.925 460.282 L577.925 455.583 Q580.008 456.717 582.23 457.272 Q584.453 457.828 586.929 457.828 Q590.934 457.828 593.272 455.722 Q595.61 453.615 595.61 450.004 Q595.61 446.393 593.272 444.286 Q590.934 442.18 586.929 442.18 Q585.054 442.18 583.179 442.597 Q581.328 443.013 579.383 443.893 L579.383 426.532 Z\" fill=\"#000000\" fill-rule=\"evenodd\" fill-opacity=\"1\" /><path clip-path=\"url(#clip450)\" d=\"M950.898 457.157 L958.537 457.157 L958.537 430.791 L950.227 432.458 L950.227 428.199 L958.491 426.532 L963.166 426.532 L963.166 457.157 L970.805 457.157 L970.805 461.092 L950.898 461.092 L950.898 457.157 Z\" fill=\"#000000\" fill-rule=\"evenodd\" fill-opacity=\"1\" /><path clip-path=\"url(#clip450)\" d=\"M990.25 429.611 Q986.639 429.611 984.81 433.175 Q983.004 436.717 983.004 443.847 Q983.004 450.953 984.81 454.518 Q986.639 458.059 990.25 458.059 Q993.884 458.059 995.689 454.518 Q997.518 450.953 997.518 443.847 Q997.518 436.717 995.689 433.175 Q993.884 429.611 990.25 429.611 M990.25 425.907 Q996.06 425.907 999.115 430.513 Q1002.19 435.097 1002.19 443.847 Q1002.19 452.573 999.115 457.18 Q996.06 461.763 990.25 461.763 Q984.44 461.763 981.361 457.18 Q978.305 452.573 978.305 443.847 Q978.305 435.097 981.361 430.513 Q984.44 425.907 990.25 425.907 Z\" fill=\"#000000\" fill-rule=\"evenodd\" fill-opacity=\"1\" /><path clip-path=\"url(#clip450)\" d=\"M1338.5 457.157 L1346.14 457.157 L1346.14 430.791 L1337.83 432.458 L1337.83 428.199 L1346.09 426.532 L1350.77 426.532 L1350.77 457.157 L1358.41 457.157 L1358.41 461.092 L1338.5 461.092 L1338.5 457.157 Z\" fill=\"#000000\" fill-rule=\"evenodd\" fill-opacity=\"1\" /><path clip-path=\"url(#clip450)\" d=\"M1367.9 426.532 L1386.26 426.532 L1386.26 430.467 L1372.18 430.467 L1372.18 438.939 Q1373.2 438.592 1374.22 438.43 Q1375.24 438.245 1376.26 438.245 Q1382.04 438.245 1385.42 441.416 Q1388.8 444.587 1388.8 450.004 Q1388.8 455.583 1385.33 458.684 Q1381.86 461.763 1375.54 461.763 Q1373.36 461.763 1371.09 461.393 Q1368.85 461.022 1366.44 460.282 L1366.44 455.583 Q1368.52 456.717 1370.75 457.272 Q1372.97 457.828 1375.44 457.828 Q1379.45 457.828 1381.79 455.722 Q1384.13 453.615 1384.13 450.004 Q1384.13 446.393 1381.79 444.286 Q1379.45 442.18 1375.44 442.18 Q1373.57 442.18 1371.7 442.597 Q1369.84 443.013 1367.9 443.893 L1367.9 426.532 Z\" fill=\"#000000\" fill-rule=\"evenodd\" fill-opacity=\"1\" /><path clip-path=\"url(#clip450)\" d=\"M1729.19 457.157 L1745.51 457.157 L1745.51 461.092 L1723.57 461.092 L1723.57 457.157 Q1726.23 454.402 1730.81 449.772 Q1735.42 445.12 1736.6 443.777 Q1738.85 441.254 1739.73 439.518 Q1740.63 437.759 1740.63 436.069 Q1740.63 433.314 1738.68 431.578 Q1736.76 429.842 1733.66 429.842 Q1731.46 429.842 1729.01 430.606 Q1726.58 431.37 1723.8 432.921 L1723.8 428.199 Q1726.62 427.064 1729.08 426.486 Q1731.53 425.907 1733.57 425.907 Q1738.94 425.907 1742.13 428.592 Q1745.33 431.277 1745.33 435.768 Q1745.33 437.898 1744.52 439.819 Q1743.73 441.717 1741.62 444.31 Q1741.05 444.981 1737.94 448.198 Q1734.84 451.393 1729.19 457.157 Z\" fill=\"#000000\" fill-rule=\"evenodd\" fill-opacity=\"1\" /><path clip-path=\"url(#clip450)\" d=\"M1765.33 429.611 Q1761.72 429.611 1759.89 433.175 Q1758.08 436.717 1758.08 443.847 Q1758.08 450.953 1759.89 454.518 Q1761.72 458.059 1765.33 458.059 Q1768.96 458.059 1770.77 454.518 Q1772.6 450.953 1772.6 443.847 Q1772.6 436.717 1770.77 433.175 Q1768.96 429.611 1765.33 429.611 M1765.33 425.907 Q1771.14 425.907 1774.19 430.513 Q1777.27 435.097 1777.27 443.847 Q1777.27 452.573 1774.19 457.18 Q1771.14 461.763 1765.33 461.763 Q1759.52 461.763 1756.44 457.18 Q1753.38 452.573 1753.38 443.847 Q1753.38 435.097 1756.44 430.513 Q1759.52 425.907 1765.33 425.907 Z\" fill=\"#000000\" fill-rule=\"evenodd\" fill-opacity=\"1\" /><path clip-path=\"url(#clip450)\" d=\"M2116.8 457.157 L2133.12 457.157 L2133.12 461.092 L2111.17 461.092 L2111.17 457.157 Q2113.83 454.402 2118.42 449.772 Q2123.02 445.12 2124.2 443.777 Q2126.45 441.254 2127.33 439.518 Q2128.23 437.759 2128.23 436.069 Q2128.23 433.314 2126.29 431.578 Q2124.37 429.842 2121.26 429.842 Q2119.06 429.842 2116.61 430.606 Q2114.18 431.37 2111.4 432.921 L2111.4 428.199 Q2114.23 427.064 2116.68 426.486 Q2119.13 425.907 2121.17 425.907 Q2126.54 425.907 2129.74 428.592 Q2132.93 431.277 2132.93 435.768 Q2132.93 437.898 2132.12 439.819 Q2131.33 441.717 2129.23 444.31 Q2128.65 444.981 2125.55 448.198 Q2122.44 451.393 2116.8 457.157 Z\" fill=\"#000000\" fill-rule=\"evenodd\" fill-opacity=\"1\" /><path clip-path=\"url(#clip450)\" d=\"M2142.98 426.532 L2161.33 426.532 L2161.33 430.467 L2147.26 430.467 L2147.26 438.939 Q2148.28 438.592 2149.3 438.43 Q2150.31 438.245 2151.33 438.245 Q2157.12 438.245 2160.5 441.416 Q2163.88 444.587 2163.88 450.004 Q2163.88 455.583 2160.41 458.684 Q2156.94 461.763 2150.62 461.763 Q2148.44 461.763 2146.17 461.393 Q2143.93 461.022 2141.52 460.282 L2141.52 455.583 Q2143.6 456.717 2145.82 457.272 Q2148.05 457.828 2150.52 457.828 Q2154.53 457.828 2156.87 455.722 Q2159.2 453.615 2159.2 450.004 Q2159.2 446.393 2156.87 444.286 Q2154.53 442.18 2150.52 442.18 Q2148.65 442.18 2146.77 442.597 Q2144.92 443.013 2142.98 443.893 L2142.98 426.532 Z\" fill=\"#000000\" fill-rule=\"evenodd\" fill-opacity=\"1\" /><polyline clip-path=\"url(#clip453)\" style=\"stroke:#000000; stroke-linecap:round; stroke-linejoin:round; stroke-width:8; stroke-opacity:0.1; fill:none\" points=\"219.033,398.692 2352.76,398.692 \"/>\n",
       "<polyline clip-path=\"url(#clip453)\" style=\"stroke:#000000; stroke-linecap:round; stroke-linejoin:round; stroke-width:8; stroke-opacity:0.1; fill:none\" points=\"219.033,340.117 2352.76,340.117 \"/>\n",
       "<polyline clip-path=\"url(#clip453)\" style=\"stroke:#000000; stroke-linecap:round; stroke-linejoin:round; stroke-width:8; stroke-opacity:0.1; fill:none\" points=\"219.033,281.543 2352.76,281.543 \"/>\n",
       "<polyline clip-path=\"url(#clip453)\" style=\"stroke:#000000; stroke-linecap:round; stroke-linejoin:round; stroke-width:8; stroke-opacity:0.1; fill:none\" points=\"219.033,222.968 2352.76,222.968 \"/>\n",
       "<polyline clip-path=\"url(#clip453)\" style=\"stroke:#000000; stroke-linecap:round; stroke-linejoin:round; stroke-width:8; stroke-opacity:0.1; fill:none\" points=\"219.033,164.393 2352.76,164.393 \"/>\n",
       "<polyline clip-path=\"url(#clip453)\" style=\"stroke:#000000; stroke-linecap:round; stroke-linejoin:round; stroke-width:8; stroke-opacity:0.1; fill:none\" points=\"219.033,105.819 2352.76,105.819 \"/>\n",
       "<polyline clip-path=\"url(#clip453)\" style=\"stroke:#000000; stroke-linecap:round; stroke-linejoin:round; stroke-width:8; stroke-opacity:0.1; fill:none\" points=\"219.033,47.2441 2352.76,47.2441 \"/>\n",
       "<polyline clip-path=\"url(#clip450)\" style=\"stroke:#000000; stroke-linecap:round; stroke-linejoin:round; stroke-width:4; stroke-opacity:1; fill:none\" points=\"219.033,398.692 219.033,47.2441 \"/>\n",
       "<polyline clip-path=\"url(#clip450)\" style=\"stroke:#000000; stroke-linecap:round; stroke-linejoin:round; stroke-width:4; stroke-opacity:1; fill:none\" points=\"219.033,398.692 237.931,398.692 \"/>\n",
       "<polyline clip-path=\"url(#clip450)\" style=\"stroke:#000000; stroke-linecap:round; stroke-linejoin:round; stroke-width:4; stroke-opacity:1; fill:none\" points=\"219.033,340.117 237.931,340.117 \"/>\n",
       "<polyline clip-path=\"url(#clip450)\" style=\"stroke:#000000; stroke-linecap:round; stroke-linejoin:round; stroke-width:4; stroke-opacity:1; fill:none\" points=\"219.033,281.543 237.931,281.543 \"/>\n",
       "<polyline clip-path=\"url(#clip450)\" style=\"stroke:#000000; stroke-linecap:round; stroke-linejoin:round; stroke-width:4; stroke-opacity:1; fill:none\" points=\"219.033,222.968 237.931,222.968 \"/>\n",
       "<polyline clip-path=\"url(#clip450)\" style=\"stroke:#000000; stroke-linecap:round; stroke-linejoin:round; stroke-width:4; stroke-opacity:1; fill:none\" points=\"219.033,164.393 237.931,164.393 \"/>\n",
       "<polyline clip-path=\"url(#clip450)\" style=\"stroke:#000000; stroke-linecap:round; stroke-linejoin:round; stroke-width:4; stroke-opacity:1; fill:none\" points=\"219.033,105.819 237.931,105.819 \"/>\n",
       "<polyline clip-path=\"url(#clip450)\" style=\"stroke:#000000; stroke-linecap:round; stroke-linejoin:round; stroke-width:4; stroke-opacity:1; fill:none\" points=\"219.033,47.2441 237.931,47.2441 \"/>\n",
       "<path clip-path=\"url(#clip450)\" d=\"M116.181 412.037 L123.82 412.037 L123.82 385.671 L115.51 387.338 L115.51 383.079 L123.774 381.412 L128.45 381.412 L128.45 412.037 L136.089 412.037 L136.089 415.972 L116.181 415.972 L116.181 412.037 Z\" fill=\"#000000\" fill-rule=\"evenodd\" fill-opacity=\"1\" /><path clip-path=\"url(#clip450)\" d=\"M145.533 410.092 L150.417 410.092 L150.417 415.972 L145.533 415.972 L145.533 410.092 Z\" fill=\"#000000\" fill-rule=\"evenodd\" fill-opacity=\"1\" /><path clip-path=\"url(#clip450)\" d=\"M173.45 385.486 L161.644 403.935 L173.45 403.935 L173.45 385.486 M172.223 381.412 L178.102 381.412 L178.102 403.935 L183.033 403.935 L183.033 407.824 L178.102 407.824 L178.102 415.972 L173.45 415.972 L173.45 407.824 L157.848 407.824 L157.848 403.31 L172.223 381.412 Z\" fill=\"#000000\" fill-rule=\"evenodd\" fill-opacity=\"1\" /><path clip-path=\"url(#clip450)\" d=\"M117.663 353.462 L125.302 353.462 L125.302 327.096 L116.992 328.763 L116.992 324.504 L125.255 322.837 L129.931 322.837 L129.931 353.462 L137.57 353.462 L137.57 357.397 L117.663 357.397 L117.663 353.462 Z\" fill=\"#000000\" fill-rule=\"evenodd\" fill-opacity=\"1\" /><path clip-path=\"url(#clip450)\" d=\"M147.015 351.518 L151.899 351.518 L151.899 357.397 L147.015 357.397 L147.015 351.518 Z\" fill=\"#000000\" fill-rule=\"evenodd\" fill-opacity=\"1\" /><path clip-path=\"url(#clip450)\" d=\"M162.13 322.837 L180.487 322.837 L180.487 326.772 L166.413 326.772 L166.413 335.245 Q167.431 334.897 168.45 334.735 Q169.468 334.55 170.487 334.55 Q176.274 334.55 179.653 337.721 Q183.033 340.893 183.033 346.309 Q183.033 351.888 179.561 354.99 Q176.089 358.069 169.769 358.069 Q167.593 358.069 165.325 357.698 Q163.079 357.328 160.672 356.587 L160.672 351.888 Q162.755 353.022 164.977 353.578 Q167.2 354.133 169.677 354.133 Q173.681 354.133 176.019 352.027 Q178.357 349.92 178.357 346.309 Q178.357 342.698 176.019 340.592 Q173.681 338.485 169.677 338.485 Q167.802 338.485 165.927 338.902 Q164.075 339.319 162.13 340.198 L162.13 322.837 Z\" fill=\"#000000\" fill-rule=\"evenodd\" fill-opacity=\"1\" /><path clip-path=\"url(#clip450)\" d=\"M116.506 294.887 L124.144 294.887 L124.144 268.522 L115.834 270.189 L115.834 265.929 L124.098 264.263 L128.774 264.263 L128.774 294.887 L136.413 294.887 L136.413 298.823 L116.506 298.823 L116.506 294.887 Z\" fill=\"#000000\" fill-rule=\"evenodd\" fill-opacity=\"1\" /><path clip-path=\"url(#clip450)\" d=\"M145.857 292.943 L150.741 292.943 L150.741 298.823 L145.857 298.823 L145.857 292.943 Z\" fill=\"#000000\" fill-rule=\"evenodd\" fill-opacity=\"1\" /><path clip-path=\"url(#clip450)\" d=\"M171.505 279.679 Q168.357 279.679 166.505 281.832 Q164.677 283.985 164.677 287.735 Q164.677 291.462 166.505 293.637 Q168.357 295.79 171.505 295.79 Q174.653 295.79 176.482 293.637 Q178.334 291.462 178.334 287.735 Q178.334 283.985 176.482 281.832 Q174.653 279.679 171.505 279.679 M180.788 265.026 L180.788 269.286 Q179.028 268.452 177.223 268.013 Q175.44 267.573 173.681 267.573 Q169.052 267.573 166.598 270.698 Q164.167 273.823 163.82 280.142 Q165.186 278.128 167.246 277.063 Q169.306 275.976 171.783 275.976 Q176.991 275.976 180.001 279.147 Q183.033 282.295 183.033 287.735 Q183.033 293.059 179.885 296.276 Q176.737 299.494 171.505 299.494 Q165.51 299.494 162.339 294.911 Q159.167 290.304 159.167 281.577 Q159.167 273.383 163.056 268.522 Q166.945 263.638 173.496 263.638 Q175.255 263.638 177.038 263.985 Q178.843 264.332 180.788 265.026 Z\" fill=\"#000000\" fill-rule=\"evenodd\" fill-opacity=\"1\" /><path clip-path=\"url(#clip450)\" d=\"M117.57 236.313 L125.209 236.313 L125.209 209.947 L116.899 211.614 L116.899 207.355 L125.163 205.688 L129.839 205.688 L129.839 236.313 L137.478 236.313 L137.478 240.248 L117.57 240.248 L117.57 236.313 Z\" fill=\"#000000\" fill-rule=\"evenodd\" fill-opacity=\"1\" /><path clip-path=\"url(#clip450)\" d=\"M146.922 234.368 L151.806 234.368 L151.806 240.248 L146.922 240.248 L146.922 234.368 Z\" fill=\"#000000\" fill-rule=\"evenodd\" fill-opacity=\"1\" /><path clip-path=\"url(#clip450)\" d=\"M160.811 205.688 L183.033 205.688 L183.033 207.679 L170.487 240.248 L165.602 240.248 L177.408 209.623 L160.811 209.623 L160.811 205.688 Z\" fill=\"#000000\" fill-rule=\"evenodd\" fill-opacity=\"1\" /><path clip-path=\"url(#clip450)\" d=\"M116.76 177.738 L124.399 177.738 L124.399 151.373 L116.089 153.039 L116.089 148.78 L124.353 147.113 L129.029 147.113 L129.029 177.738 L136.667 177.738 L136.667 181.673 L116.76 181.673 L116.76 177.738 Z\" fill=\"#000000\" fill-rule=\"evenodd\" fill-opacity=\"1\" /><path clip-path=\"url(#clip450)\" d=\"M146.112 175.794 L150.996 175.794 L150.996 181.673 L146.112 181.673 L146.112 175.794 Z\" fill=\"#000000\" fill-rule=\"evenodd\" fill-opacity=\"1\" /><path clip-path=\"url(#clip450)\" d=\"M171.181 165.261 Q167.848 165.261 165.927 167.044 Q164.028 168.826 164.028 171.951 Q164.028 175.076 165.927 176.859 Q167.848 178.641 171.181 178.641 Q174.514 178.641 176.436 176.859 Q178.357 175.053 178.357 171.951 Q178.357 168.826 176.436 167.044 Q174.538 165.261 171.181 165.261 M166.505 163.271 Q163.496 162.53 161.806 160.47 Q160.14 158.41 160.14 155.447 Q160.14 151.303 163.079 148.896 Q166.042 146.488 171.181 146.488 Q176.343 146.488 179.283 148.896 Q182.223 151.303 182.223 155.447 Q182.223 158.41 180.533 160.47 Q178.866 162.53 175.88 163.271 Q179.26 164.058 181.135 166.349 Q183.033 168.641 183.033 171.951 Q183.033 176.974 179.954 179.659 Q176.899 182.345 171.181 182.345 Q165.464 182.345 162.385 179.659 Q159.329 176.974 159.329 171.951 Q159.329 168.641 161.227 166.349 Q163.126 164.058 166.505 163.271 M164.792 155.886 Q164.792 158.572 166.459 160.076 Q168.149 161.581 171.181 161.581 Q174.19 161.581 175.88 160.076 Q177.593 158.572 177.593 155.886 Q177.593 153.201 175.88 151.697 Q174.19 150.192 171.181 150.192 Q168.149 150.192 166.459 151.697 Q164.792 153.201 164.792 155.886 Z\" fill=\"#000000\" fill-rule=\"evenodd\" fill-opacity=\"1\" /><path clip-path=\"url(#clip450)\" d=\"M116.853 119.164 L124.492 119.164 L124.492 92.798 L116.181 94.4646 L116.181 90.2054 L124.445 88.5387 L129.121 88.5387 L129.121 119.164 L136.76 119.164 L136.76 123.099 L116.853 123.099 L116.853 119.164 Z\" fill=\"#000000\" fill-rule=\"evenodd\" fill-opacity=\"1\" /><path clip-path=\"url(#clip450)\" d=\"M146.204 117.219 L151.089 117.219 L151.089 123.099 L146.204 123.099 L146.204 117.219 Z\" fill=\"#000000\" fill-rule=\"evenodd\" fill-opacity=\"1\" /><path clip-path=\"url(#clip450)\" d=\"M161.413 122.381 L161.413 118.122 Q163.172 118.955 164.977 119.395 Q166.783 119.835 168.519 119.835 Q173.149 119.835 175.579 116.733 Q178.033 113.608 178.38 107.265 Q177.038 109.256 174.977 110.321 Q172.917 111.386 170.417 111.386 Q165.232 111.386 162.2 108.261 Q159.19 105.113 159.19 99.6729 Q159.19 94.3489 162.339 91.1313 Q165.487 87.9137 170.718 87.9137 Q176.714 87.9137 179.862 92.5202 Q183.033 97.1035 183.033 105.853 Q183.033 114.025 179.144 118.909 Q175.278 123.77 168.727 123.77 Q166.968 123.77 165.163 123.423 Q163.357 123.076 161.413 122.381 M170.718 107.728 Q173.866 107.728 175.695 105.576 Q177.547 103.423 177.547 99.6729 Q177.547 95.9461 175.695 93.7933 Q173.866 91.6174 170.718 91.6174 Q167.57 91.6174 165.718 93.7933 Q163.89 95.9461 163.89 99.6729 Q163.89 103.423 165.718 105.576 Q167.57 107.728 170.718 107.728 Z\" fill=\"#000000\" fill-rule=\"evenodd\" fill-opacity=\"1\" /><path clip-path=\"url(#clip450)\" d=\"M119.885 60.5889 L136.204 60.5889 L136.204 64.5241 L114.26 64.5241 L114.26 60.5889 Q116.922 57.8343 121.505 53.2047 Q126.112 48.552 127.292 47.2094 Q129.538 44.6862 130.417 42.9501 Q131.32 41.1909 131.32 39.5011 Q131.32 36.7465 129.376 35.0104 Q127.455 33.2743 124.353 33.2743 Q122.154 33.2743 119.7 34.0381 Q117.269 34.802 114.492 36.3529 L114.492 31.6308 Q117.316 30.4965 119.769 29.9178 Q122.223 29.3391 124.26 29.3391 Q129.63 29.3391 132.825 32.0243 Q136.019 34.7094 136.019 39.2002 Q136.019 41.3298 135.209 43.2511 Q134.422 45.1492 132.316 47.7418 Q131.737 48.4131 128.635 51.6306 Q125.533 54.8251 119.885 60.5889 Z\" fill=\"#000000\" fill-rule=\"evenodd\" fill-opacity=\"1\" /><path clip-path=\"url(#clip450)\" d=\"M146.019 58.6445 L150.903 58.6445 L150.903 64.5241 L146.019 64.5241 L146.019 58.6445 Z\" fill=\"#000000\" fill-rule=\"evenodd\" fill-opacity=\"1\" /><path clip-path=\"url(#clip450)\" d=\"M171.089 33.0428 Q167.477 33.0428 165.649 36.6076 Q163.843 40.1492 163.843 47.2788 Q163.843 54.3853 165.649 57.9501 Q167.477 61.4917 171.089 61.4917 Q174.723 61.4917 176.528 57.9501 Q178.357 54.3853 178.357 47.2788 Q178.357 40.1492 176.528 36.6076 Q174.723 33.0428 171.089 33.0428 M171.089 29.3391 Q176.899 29.3391 179.954 33.9456 Q183.033 38.5289 183.033 47.2788 Q183.033 56.0056 179.954 60.6121 Q176.899 65.1954 171.089 65.1954 Q165.278 65.1954 162.2 60.6121 Q159.144 56.0056 159.144 47.2788 Q159.144 38.5289 162.2 33.9456 Q165.278 29.3391 171.089 29.3391 Z\" fill=\"#000000\" fill-rule=\"evenodd\" fill-opacity=\"1\" /><path clip-path=\"url(#clip450)\" d=\"M56.6478 277.436 Q60.8023 278.273 63.1856 279.4 Q66.8248 281.236 66.8248 284.296 Q66.8248 286.421 65.6332 288.031 Q64.4094 289.61 62.3804 290.157 Q63.1856 290.769 63.7331 291.316 Q64.2806 291.832 65.1179 292.83 Q65.9231 293.829 66.3739 295.181 Q66.8248 296.502 66.8248 298.015 Q66.8248 299.175 66.5994 300.238 Q66.4062 301.3 65.8587 302.428 Q65.2789 303.523 64.4094 304.328 Q63.5398 305.101 62.1228 305.616 Q60.7057 306.131 58.9022 306.131 Q56.6478 306.131 53.5882 305.262 Q50.5287 304.36 45.0537 302.299 Q42.1551 301.171 40.5448 301.171 Q39.8041 301.171 39.321 301.333 Q38.8379 301.494 38.6769 301.816 Q38.4837 302.105 38.4515 302.299 Q38.3871 302.492 38.3871 302.814 Q38.3871 304.811 40.416 306.55 Q42.445 308.289 46.5673 309.481 Q47.3725 309.738 47.5657 309.899 Q47.759 310.06 47.759 310.543 Q47.7268 311.349 47.0826 311.349 Q46.825 311.349 45.8266 311.059 Q44.796 310.769 43.2823 310.092 Q41.7365 309.384 40.3516 308.418 Q38.9346 307.452 37.9362 305.938 Q36.9378 304.392 36.9378 302.621 Q36.9378 300.205 38.5159 298.724 Q40.0618 297.21 42.3484 297.21 Q43.7654 297.21 46.5029 298.337 Q56.0037 301.912 59.965 301.912 Q65.3434 301.912 65.3434 297.822 Q65.3434 296.469 64.7959 295.213 Q64.2484 293.925 63.4754 293.088 Q62.7025 292.25 61.8651 291.606 Q61.0278 290.93 60.4803 290.64 Q59.9328 290.318 59.804 290.286 L39.9651 285.358 Q39.1922 285.165 38.6769 284.811 Q38.1294 284.424 37.9362 283.974 Q37.7429 283.523 37.7107 283.265 Q37.6463 283.007 37.6463 282.782 Q37.6463 281.977 38.1294 281.429 Q38.6125 280.85 39.4498 280.85 Q39.6109 280.85 40.3838 281.043 Q41.1246 281.204 42.2196 281.461 Q43.2823 281.719 43.8621 281.848 Q47.92 282.879 48.3387 282.975 L55.4562 284.811 Q55.8748 284.908 57.2275 285.23 Q58.5801 285.519 59.2887 285.68 Q59.965 285.841 60.899 286.003 Q61.8007 286.131 62.316 286.131 Q63.9263 286.131 64.6348 285.648 Q65.3434 285.165 65.3434 284.102 Q65.3434 283.104 64.667 282.331 Q63.9585 281.526 62.6059 280.914 Q61.221 280.302 60.0938 279.948 Q58.9666 279.594 57.1953 279.143 Q56.4223 278.982 56.2291 278.853 Q56.0037 278.692 56.0037 278.241 Q56.0037 277.436 56.6478 277.436 Z\" fill=\"#000000\" fill-rule=\"evenodd\" fill-opacity=\"1\" /><path clip-path=\"url(#clip450)\" d=\"M82.5735 221.702 L16.6159 221.702 L16.6159 211.751 L18.1296 211.751 L18.1296 217.29 L81.0598 217.29 L81.0598 211.751 L82.5735 211.751 L82.5735 221.702 Z\" fill=\"#000000\" fill-rule=\"evenodd\" fill-opacity=\"1\" /><path clip-path=\"url(#clip450)\" d=\"M48.6607 160.01 Q49.0472 159.623 49.5947 159.623 Q50.1422 159.623 50.5287 160.01 Q50.9151 160.396 50.9151 160.944 L50.9151 202.232 Q50.9151 202.779 50.5287 203.166 Q50.1422 203.552 49.5947 203.552 Q49.0472 203.552 48.6607 203.166 Q48.2743 202.779 48.2743 202.232 L48.2743 160.944 Q48.2743 160.396 48.6607 160.01 Z\" fill=\"#000000\" fill-rule=\"evenodd\" fill-opacity=\"1\" /><path clip-path=\"url(#clip450)\" d=\"M81.0598 152.738 L81.0598 147.198 L18.1296 147.198 L18.1296 152.738 L16.6159 152.738 L16.6159 142.786 L82.5735 142.786 L82.5735 152.738 L81.0598 152.738 Z\" fill=\"#000000\" fill-rule=\"evenodd\" fill-opacity=\"1\" /><polyline clip-path=\"url(#clip453)\" style=\"stroke:#000000; stroke-linecap:round; stroke-linejoin:round; stroke-width:4; stroke-opacity:1; fill:none\" stroke-dasharray=\"2, 4\" points=\"279.421,-187.054 356.842,-187.054 434.263,-187.054 511.684,-187.054 589.105,-187.054 666.526,-187.054 743.947,-187.054 821.368,-187.054 898.789,-187.054 976.21,-187.054 1053.63,-187.054 1131.05,-187.054 1208.47,-187.054 1285.89,-187.054 1363.32,-187.054 1440.74,-187.054 1518.16,-187.054 1595.58,-187.054 1673,-187.054 1750.42,-187.054 1827.84,-187.054 1905.26,-187.054 1982.68,-187.054 2060.1,-187.054 2137.53,-187.054 2214.95,-187.054 2292.37,-187.054 \"/>\n",
       "<circle clip-path=\"url(#clip453)\" cx=\"279.421\" cy=\"278.643\" r=\"10.8\" fill=\"#000000\" fill-rule=\"evenodd\" fill-opacity=\"1\" stroke=\"none\"/>\n",
       "<polyline clip-path=\"url(#clip453)\" style=\"stroke:#000000; stroke-linecap:round; stroke-linejoin:round; stroke-width:12; stroke-opacity:1; fill:none\" points=\"279.421,278.643 279.421,42.2834 356.842,42.2834 356.842,-97.7822 434.263,-97.7822 434.263,-163.525 511.684,-163.525 511.684,-187.054 589.105,-187.054 589.105,-187.054 666.526,-187.054 666.526,-187.054 743.947,-187.054 743.947,-175.171 821.368,-175.171 821.368,-132.446 898.789,-132.446 898.789,-112.586 976.21,-112.586 976.21,-114.092 1053.63,-114.092 1053.63,-138.08 1131.05,-138.08 1131.05,-136.324 1208.47,-136.324 1208.47,-126.379 1285.89,-126.379 1285.89,-132.209 1363.32,-132.209 1363.32,-130.389 1440.74,-130.389 1440.74,-130.996 1518.16,-130.996 1518.16,-130.695 1595.58,-130.695 1595.58,-130.84 1673,-130.84 1673,-130.802 1750.42,-130.802 1827.84,-130.802 1905.26,-130.802 1982.68,-130.802 2060.1,-130.802 2137.53,-130.802 2214.95,-130.802 2292.37,-130.802 \"/>\n",
       "<path clip-path=\"url(#clip453)\" d=\"M267.421 266.643 L267.421 290.643 L291.421 290.643 L291.421 266.643 L267.421 266.643 Z\" fill=\"#000000\" fill-rule=\"evenodd\" fill-opacity=\"1\" stroke=\"none\"/>\n",
       "<polyline clip-path=\"url(#clip453)\" style=\"stroke:#000000; stroke-linecap:round; stroke-linejoin:round; stroke-width:12; stroke-opacity:1; fill:none\" stroke-dasharray=\"48, 24, 6, 24\" points=\"279.421,278.643 279.421,42.2835 356.842,42.2835 356.842,-97.7821 434.263,-97.7821 434.263,-163.525 511.684,-163.525 511.684,-187.054 589.105,-187.054 589.105,-187.054 666.526,-187.054 666.526,-187.054 743.947,-187.054 743.947,-175.177 821.368,-175.177 821.368,-132.445 898.789,-132.445 898.789,-112.581 976.21,-112.581 976.21,-114.084 1053.63,-114.084 1053.63,-138.071 1131.05,-138.071 1131.05,-136.403 1208.47,-136.403 1208.47,-126.244 1285.89,-126.244 1285.89,-132.333 1363.32,-132.333 1363.32,-130.321 1440.74,-130.321 1440.74,-131.015 1518.16,-131.015 1518.16,-130.697 1595.58,-130.697 1595.58,-130.837 1673,-130.837 1673,-130.802 1750.42,-130.802 1827.84,-130.802 1905.26,-130.802 1982.68,-130.802 2060.1,-130.802 2137.53,-130.802 2214.95,-130.802 2292.37,-130.802 \"/>\n",
       "<path clip-path=\"url(#clip450)\" d=\"M1934.83 266.319 L2281.63 266.319 L2281.63 58.959 L1934.83 58.959  Z\" fill=\"#ffffff\" fill-rule=\"evenodd\" fill-opacity=\"1\"/>\n",
       "<polyline clip-path=\"url(#clip450)\" style=\"stroke:#000000; stroke-linecap:round; stroke-linejoin:round; stroke-width:4; stroke-opacity:1; fill:none\" points=\"1934.83,266.319 2281.63,266.319 2281.63,58.959 1934.83,58.959 1934.83,266.319 \"/>\n",
       "<polyline clip-path=\"url(#clip450)\" style=\"stroke:#000000; stroke-linecap:round; stroke-linejoin:round; stroke-width:4; stroke-opacity:1; fill:none\" stroke-dasharray=\"2, 4\" points=\"1958.54,110.799 2100.79,110.799 \"/>\n",
       "<path clip-path=\"url(#clip450)\" d=\"M2124.5 93.519 L2129.17 93.519 L2129.17 124.144 L2146 124.144 L2146 128.079 L2124.5 128.079 L2124.5 93.519 Z\" fill=\"#000000\" fill-rule=\"evenodd\" fill-opacity=\"1\" /><path clip-path=\"url(#clip450)\" d=\"M2150.73 102.153 L2154.98 102.153 L2154.98 128.079 L2150.73 128.079 L2150.73 102.153 M2150.73 92.0607 L2154.98 92.0607 L2154.98 97.4542 L2150.73 97.4542 L2150.73 92.0607 Z\" fill=\"#000000\" fill-rule=\"evenodd\" fill-opacity=\"1\" /><path clip-path=\"url(#clip450)\" d=\"M2184.08 107.13 Q2185.68 104.26 2187.9 102.894 Q2190.12 101.528 2193.13 101.528 Q2197.18 101.528 2199.38 104.375 Q2201.58 107.2 2201.58 112.431 L2201.58 128.079 L2197.3 128.079 L2197.3 112.57 Q2197.3 108.843 2195.98 107.037 Q2194.66 105.232 2191.95 105.232 Q2188.64 105.232 2186.72 107.431 Q2184.8 109.63 2184.8 113.426 L2184.8 128.079 L2180.52 128.079 L2180.52 112.57 Q2180.52 108.82 2179.2 107.037 Q2177.88 105.232 2175.12 105.232 Q2171.86 105.232 2169.94 107.454 Q2168.02 109.653 2168.02 113.426 L2168.02 128.079 L2163.73 128.079 L2163.73 102.153 L2168.02 102.153 L2168.02 106.181 Q2169.48 103.797 2171.51 102.662 Q2173.55 101.528 2176.35 101.528 Q2179.17 101.528 2181.14 102.963 Q2183.13 104.399 2184.08 107.13 Z\" fill=\"#000000\" fill-rule=\"evenodd\" fill-opacity=\"1\" /><path clip-path=\"url(#clip450)\" d=\"M2210.08 102.153 L2214.34 102.153 L2214.34 128.079 L2210.08 128.079 L2210.08 102.153 M2210.08 92.0607 L2214.34 92.0607 L2214.34 97.4542 L2210.08 97.4542 L2210.08 92.0607 Z\" fill=\"#000000\" fill-rule=\"evenodd\" fill-opacity=\"1\" /><path clip-path=\"url(#clip450)\" d=\"M2227.46 94.7922 L2227.46 102.153 L2236.23 102.153 L2236.23 105.463 L2227.46 105.463 L2227.46 119.537 Q2227.46 122.709 2228.32 123.611 Q2229.2 124.514 2231.86 124.514 L2236.23 124.514 L2236.23 128.079 L2231.86 128.079 Q2226.93 128.079 2225.05 126.25 Q2223.18 124.398 2223.18 119.537 L2223.18 105.463 L2220.05 105.463 L2220.05 102.153 L2223.18 102.153 L2223.18 94.7922 L2227.46 94.7922 Z\" fill=\"#000000\" fill-rule=\"evenodd\" fill-opacity=\"1\" /><polyline clip-path=\"url(#clip450)\" style=\"stroke:#000000; stroke-linecap:round; stroke-linejoin:round; stroke-width:12; stroke-opacity:1; fill:none\" points=\"1958.54,162.639 2100.79,162.639 \"/>\n",
       "<path clip-path=\"url(#clip450)\" d=\"M2124.5 145.359 L2131.47 145.359 L2140.29 168.877 L2149.15 145.359 L2156.12 145.359 L2156.12 179.919 L2151.56 179.919 L2151.56 149.572 L2142.65 173.276 L2137.95 173.276 L2129.04 149.572 L2129.04 179.919 L2124.5 179.919 L2124.5 145.359 Z\" fill=\"#000000\" fill-rule=\"evenodd\" fill-opacity=\"1\" /><path clip-path=\"url(#clip450)\" d=\"M2175.26 156.979 Q2171.84 156.979 2169.85 159.664 Q2167.85 162.327 2167.85 166.979 Q2167.85 171.632 2169.82 174.317 Q2171.81 176.979 2175.26 176.979 Q2178.66 176.979 2180.66 174.294 Q2182.65 171.609 2182.65 166.979 Q2182.65 162.373 2180.66 159.688 Q2178.66 156.979 2175.26 156.979 M2175.26 153.368 Q2180.82 153.368 2183.99 156.979 Q2187.16 160.59 2187.16 166.979 Q2187.16 173.345 2183.99 176.979 Q2180.82 180.59 2175.26 180.59 Q2169.68 180.59 2166.51 176.979 Q2163.36 173.345 2163.36 166.979 Q2163.36 160.59 2166.51 156.979 Q2169.68 153.368 2175.26 153.368 Z\" fill=\"#000000\" fill-rule=\"evenodd\" fill-opacity=\"1\" /><path clip-path=\"url(#clip450)\" d=\"M2215.77 164.271 L2215.77 179.919 L2211.51 179.919 L2211.51 164.41 Q2211.51 160.729 2210.08 158.901 Q2208.64 157.072 2205.77 157.072 Q2202.32 157.072 2200.33 159.271 Q2198.34 161.47 2198.34 165.266 L2198.34 179.919 L2194.06 179.919 L2194.06 153.993 L2198.34 153.993 L2198.34 158.021 Q2199.87 155.683 2201.93 154.526 Q2204.01 153.368 2206.72 153.368 Q2211.19 153.368 2213.48 156.146 Q2215.77 158.901 2215.77 164.271 Z\" fill=\"#000000\" fill-rule=\"evenodd\" fill-opacity=\"1\" /><path clip-path=\"url(#clip450)\" d=\"M2234.31 156.979 Q2230.89 156.979 2228.9 159.664 Q2226.91 162.327 2226.91 166.979 Q2226.91 171.632 2228.87 174.317 Q2230.86 176.979 2234.31 176.979 Q2237.72 176.979 2239.71 174.294 Q2241.7 171.609 2241.7 166.979 Q2241.7 162.373 2239.71 159.688 Q2237.72 156.979 2234.31 156.979 M2234.31 153.368 Q2239.87 153.368 2243.04 156.979 Q2246.21 160.59 2246.21 166.979 Q2246.21 173.345 2243.04 176.979 Q2239.87 180.59 2234.31 180.59 Q2228.73 180.59 2225.56 176.979 Q2222.41 173.345 2222.41 166.979 Q2222.41 160.59 2225.56 156.979 Q2228.73 153.368 2234.31 153.368 Z\" fill=\"#000000\" fill-rule=\"evenodd\" fill-opacity=\"1\" /><path clip-path=\"url(#clip450)\" d=\"M2253.04 174.039 L2257.92 174.039 L2257.92 179.919 L2253.04 179.919 L2253.04 174.039 Z\" fill=\"#000000\" fill-rule=\"evenodd\" fill-opacity=\"1\" /><polyline clip-path=\"url(#clip450)\" style=\"stroke:#000000; stroke-linecap:round; stroke-linejoin:round; stroke-width:12; stroke-opacity:1; fill:none\" stroke-dasharray=\"48, 24, 6, 24\" points=\"1958.54,214.479 2100.79,214.479 \"/>\n",
       "<path clip-path=\"url(#clip450)\" d=\"M2129.17 201.042 L2129.17 227.916 L2134.82 227.916 Q2141.98 227.916 2145.29 224.676 Q2148.62 221.435 2148.62 214.444 Q2148.62 207.5 2145.29 204.282 Q2141.98 201.042 2134.82 201.042 L2129.17 201.042 M2124.5 197.199 L2134.1 197.199 Q2144.15 197.199 2148.85 201.389 Q2153.55 205.555 2153.55 214.444 Q2153.55 223.379 2148.83 227.569 Q2144.1 231.759 2134.1 231.759 L2124.5 231.759 L2124.5 197.199 Z\" fill=\"#000000\" fill-rule=\"evenodd\" fill-opacity=\"1\" /><path clip-path=\"url(#clip450)\" d=\"M2182.99 217.731 L2182.99 219.815 L2163.41 219.815 Q2163.69 224.213 2166.05 226.528 Q2168.43 228.819 2172.67 228.819 Q2175.12 228.819 2177.41 228.217 Q2179.73 227.616 2182 226.412 L2182 230.44 Q2179.71 231.412 2177.3 231.921 Q2174.89 232.43 2172.41 232.43 Q2166.21 232.43 2162.58 228.819 Q2158.97 225.208 2158.97 219.051 Q2158.97 212.685 2162.39 208.958 Q2165.84 205.208 2171.67 205.208 Q2176.91 205.208 2179.94 208.588 Q2182.99 211.944 2182.99 217.731 M2178.73 216.481 Q2178.69 212.986 2176.77 210.903 Q2174.87 208.819 2171.72 208.819 Q2168.16 208.819 2166 210.833 Q2163.87 212.847 2163.55 216.504 L2178.73 216.481 Z\" fill=\"#000000\" fill-rule=\"evenodd\" fill-opacity=\"1\" /><path clip-path=\"url(#clip450)\" d=\"M2208.64 206.829 L2208.64 210.81 Q2206.84 209.815 2205.01 209.329 Q2203.2 208.819 2201.35 208.819 Q2197.21 208.819 2194.91 211.458 Q2192.62 214.074 2192.62 218.819 Q2192.62 223.565 2194.91 226.203 Q2197.21 228.819 2201.35 228.819 Q2203.2 228.819 2205.01 228.333 Q2206.84 227.824 2208.64 226.828 L2208.64 230.764 Q2206.86 231.597 2204.94 232.014 Q2203.04 232.43 2200.89 232.43 Q2195.03 232.43 2191.58 228.75 Q2188.13 225.069 2188.13 218.819 Q2188.13 212.477 2191.6 208.842 Q2195.1 205.208 2201.16 205.208 Q2203.13 205.208 2205.01 205.625 Q2206.88 206.018 2208.64 206.829 Z\" fill=\"#000000\" fill-rule=\"evenodd\" fill-opacity=\"1\" /><path clip-path=\"url(#clip450)\" d=\"M2226.1 208.819 Q2222.67 208.819 2220.68 211.504 Q2218.69 214.167 2218.69 218.819 Q2218.69 223.472 2220.66 226.157 Q2222.65 228.819 2226.1 228.819 Q2229.5 228.819 2231.49 226.134 Q2233.48 223.449 2233.48 218.819 Q2233.48 214.213 2231.49 211.528 Q2229.5 208.819 2226.1 208.819 M2226.1 205.208 Q2231.65 205.208 2234.82 208.819 Q2237.99 212.43 2237.99 218.819 Q2237.99 225.185 2234.82 228.819 Q2231.65 232.43 2226.1 232.43 Q2220.52 232.43 2217.35 228.819 Q2214.2 225.185 2214.2 218.819 Q2214.2 212.43 2217.35 208.819 Q2220.52 205.208 2226.1 205.208 Z\" fill=\"#000000\" fill-rule=\"evenodd\" fill-opacity=\"1\" /><path clip-path=\"url(#clip450)\" d=\"M2244.82 225.879 L2249.71 225.879 L2249.71 231.759 L2244.82 231.759 L2244.82 225.879 Z\" fill=\"#000000\" fill-rule=\"evenodd\" fill-opacity=\"1\" /><path clip-path=\"url(#clip450)\" d=\"M219.033 910.936 L2352.76 910.936 L2352.76 559.488 L219.033 559.488  Z\" fill=\"#ffffff\" fill-rule=\"evenodd\" fill-opacity=\"1\"/>\n",
       "<defs>\n",
       "  <clipPath id=\"clip454\">\n",
       "    <rect x=\"219\" y=\"559\" width=\"2135\" height=\"352\"/>\n",
       "  </clipPath>\n",
       "</defs>\n",
       "<polyline clip-path=\"url(#clip454)\" style=\"stroke:#000000; stroke-linecap:round; stroke-linejoin:round; stroke-width:8; stroke-opacity:0.1; fill:none\" points=\"589.105,910.936 589.105,559.488 \"/>\n",
       "<polyline clip-path=\"url(#clip454)\" style=\"stroke:#000000; stroke-linecap:round; stroke-linejoin:round; stroke-width:8; stroke-opacity:0.1; fill:none\" points=\"976.21,910.936 976.21,559.488 \"/>\n",
       "<polyline clip-path=\"url(#clip454)\" style=\"stroke:#000000; stroke-linecap:round; stroke-linejoin:round; stroke-width:8; stroke-opacity:0.1; fill:none\" points=\"1363.32,910.936 1363.32,559.488 \"/>\n",
       "<polyline clip-path=\"url(#clip454)\" style=\"stroke:#000000; stroke-linecap:round; stroke-linejoin:round; stroke-width:8; stroke-opacity:0.1; fill:none\" points=\"1750.42,910.936 1750.42,559.488 \"/>\n",
       "<polyline clip-path=\"url(#clip454)\" style=\"stroke:#000000; stroke-linecap:round; stroke-linejoin:round; stroke-width:8; stroke-opacity:0.1; fill:none\" points=\"2137.53,910.936 2137.53,559.488 \"/>\n",
       "<polyline clip-path=\"url(#clip450)\" style=\"stroke:#000000; stroke-linecap:round; stroke-linejoin:round; stroke-width:4; stroke-opacity:1; fill:none\" points=\"219.033,910.936 2352.76,910.936 \"/>\n",
       "<polyline clip-path=\"url(#clip450)\" style=\"stroke:#000000; stroke-linecap:round; stroke-linejoin:round; stroke-width:4; stroke-opacity:1; fill:none\" points=\"589.105,910.936 589.105,892.038 \"/>\n",
       "<polyline clip-path=\"url(#clip450)\" style=\"stroke:#000000; stroke-linecap:round; stroke-linejoin:round; stroke-width:4; stroke-opacity:1; fill:none\" points=\"976.21,910.936 976.21,892.038 \"/>\n",
       "<polyline clip-path=\"url(#clip450)\" style=\"stroke:#000000; stroke-linecap:round; stroke-linejoin:round; stroke-width:4; stroke-opacity:1; fill:none\" points=\"1363.32,910.936 1363.32,892.038 \"/>\n",
       "<polyline clip-path=\"url(#clip450)\" style=\"stroke:#000000; stroke-linecap:round; stroke-linejoin:round; stroke-width:4; stroke-opacity:1; fill:none\" points=\"1750.42,910.936 1750.42,892.038 \"/>\n",
       "<polyline clip-path=\"url(#clip450)\" style=\"stroke:#000000; stroke-linecap:round; stroke-linejoin:round; stroke-width:4; stroke-opacity:1; fill:none\" points=\"2137.53,910.936 2137.53,892.038 \"/>\n",
       "<path clip-path=\"url(#clip450)\" d=\"M579.383 938.776 L597.74 938.776 L597.74 942.711 L583.666 942.711 L583.666 951.183 Q584.684 950.836 585.703 950.674 Q586.721 950.489 587.74 950.489 Q593.527 950.489 596.906 953.66 Q600.286 956.831 600.286 962.248 Q600.286 967.827 596.814 970.928 Q593.341 974.007 587.022 974.007 Q584.846 974.007 582.578 973.637 Q580.332 973.266 577.925 972.526 L577.925 967.827 Q580.008 968.961 582.23 969.516 Q584.453 970.072 586.929 970.072 Q590.934 970.072 593.272 967.966 Q595.61 965.859 595.61 962.248 Q595.61 958.637 593.272 956.53 Q590.934 954.424 586.929 954.424 Q585.054 954.424 583.179 954.841 Q581.328 955.257 579.383 956.137 L579.383 938.776 Z\" fill=\"#000000\" fill-rule=\"evenodd\" fill-opacity=\"1\" /><path clip-path=\"url(#clip450)\" d=\"M950.898 969.401 L958.537 969.401 L958.537 943.035 L950.227 944.702 L950.227 940.443 L958.491 938.776 L963.166 938.776 L963.166 969.401 L970.805 969.401 L970.805 973.336 L950.898 973.336 L950.898 969.401 Z\" fill=\"#000000\" fill-rule=\"evenodd\" fill-opacity=\"1\" /><path clip-path=\"url(#clip450)\" d=\"M990.25 941.855 Q986.639 941.855 984.81 945.419 Q983.004 948.961 983.004 956.091 Q983.004 963.197 984.81 966.762 Q986.639 970.303 990.25 970.303 Q993.884 970.303 995.689 966.762 Q997.518 963.197 997.518 956.091 Q997.518 948.961 995.689 945.419 Q993.884 941.855 990.25 941.855 M990.25 938.151 Q996.06 938.151 999.115 942.757 Q1002.19 947.341 1002.19 956.091 Q1002.19 964.817 999.115 969.424 Q996.06 974.007 990.25 974.007 Q984.44 974.007 981.361 969.424 Q978.305 964.817 978.305 956.091 Q978.305 947.341 981.361 942.757 Q984.44 938.151 990.25 938.151 Z\" fill=\"#000000\" fill-rule=\"evenodd\" fill-opacity=\"1\" /><path clip-path=\"url(#clip450)\" d=\"M1338.5 969.401 L1346.14 969.401 L1346.14 943.035 L1337.83 944.702 L1337.83 940.443 L1346.09 938.776 L1350.77 938.776 L1350.77 969.401 L1358.41 969.401 L1358.41 973.336 L1338.5 973.336 L1338.5 969.401 Z\" fill=\"#000000\" fill-rule=\"evenodd\" fill-opacity=\"1\" /><path clip-path=\"url(#clip450)\" d=\"M1367.9 938.776 L1386.26 938.776 L1386.26 942.711 L1372.18 942.711 L1372.18 951.183 Q1373.2 950.836 1374.22 950.674 Q1375.24 950.489 1376.26 950.489 Q1382.04 950.489 1385.42 953.66 Q1388.8 956.831 1388.8 962.248 Q1388.8 967.827 1385.33 970.928 Q1381.86 974.007 1375.54 974.007 Q1373.36 974.007 1371.09 973.637 Q1368.85 973.266 1366.44 972.526 L1366.44 967.827 Q1368.52 968.961 1370.75 969.516 Q1372.97 970.072 1375.44 970.072 Q1379.45 970.072 1381.79 967.966 Q1384.13 965.859 1384.13 962.248 Q1384.13 958.637 1381.79 956.53 Q1379.45 954.424 1375.44 954.424 Q1373.57 954.424 1371.7 954.841 Q1369.84 955.257 1367.9 956.137 L1367.9 938.776 Z\" fill=\"#000000\" fill-rule=\"evenodd\" fill-opacity=\"1\" /><path clip-path=\"url(#clip450)\" d=\"M1729.19 969.401 L1745.51 969.401 L1745.51 973.336 L1723.57 973.336 L1723.57 969.401 Q1726.23 966.646 1730.81 962.016 Q1735.42 957.364 1736.6 956.021 Q1738.85 953.498 1739.73 951.762 Q1740.63 950.003 1740.63 948.313 Q1740.63 945.558 1738.68 943.822 Q1736.76 942.086 1733.66 942.086 Q1731.46 942.086 1729.01 942.85 Q1726.58 943.614 1723.8 945.165 L1723.8 940.443 Q1726.62 939.308 1729.08 938.73 Q1731.53 938.151 1733.57 938.151 Q1738.94 938.151 1742.13 940.836 Q1745.33 943.521 1745.33 948.012 Q1745.33 950.142 1744.52 952.063 Q1743.73 953.961 1741.62 956.554 Q1741.05 957.225 1737.94 960.442 Q1734.84 963.637 1729.19 969.401 Z\" fill=\"#000000\" fill-rule=\"evenodd\" fill-opacity=\"1\" /><path clip-path=\"url(#clip450)\" d=\"M1765.33 941.855 Q1761.72 941.855 1759.89 945.419 Q1758.08 948.961 1758.08 956.091 Q1758.08 963.197 1759.89 966.762 Q1761.72 970.303 1765.33 970.303 Q1768.96 970.303 1770.77 966.762 Q1772.6 963.197 1772.6 956.091 Q1772.6 948.961 1770.77 945.419 Q1768.96 941.855 1765.33 941.855 M1765.33 938.151 Q1771.14 938.151 1774.19 942.757 Q1777.27 947.341 1777.27 956.091 Q1777.27 964.817 1774.19 969.424 Q1771.14 974.007 1765.33 974.007 Q1759.52 974.007 1756.44 969.424 Q1753.38 964.817 1753.38 956.091 Q1753.38 947.341 1756.44 942.757 Q1759.52 938.151 1765.33 938.151 Z\" fill=\"#000000\" fill-rule=\"evenodd\" fill-opacity=\"1\" /><path clip-path=\"url(#clip450)\" d=\"M2116.8 969.401 L2133.12 969.401 L2133.12 973.336 L2111.17 973.336 L2111.17 969.401 Q2113.83 966.646 2118.42 962.016 Q2123.02 957.364 2124.2 956.021 Q2126.45 953.498 2127.33 951.762 Q2128.23 950.003 2128.23 948.313 Q2128.23 945.558 2126.29 943.822 Q2124.37 942.086 2121.26 942.086 Q2119.06 942.086 2116.61 942.85 Q2114.18 943.614 2111.4 945.165 L2111.4 940.443 Q2114.23 939.308 2116.68 938.73 Q2119.13 938.151 2121.17 938.151 Q2126.54 938.151 2129.74 940.836 Q2132.93 943.521 2132.93 948.012 Q2132.93 950.142 2132.12 952.063 Q2131.33 953.961 2129.23 956.554 Q2128.65 957.225 2125.55 960.442 Q2122.44 963.637 2116.8 969.401 Z\" fill=\"#000000\" fill-rule=\"evenodd\" fill-opacity=\"1\" /><path clip-path=\"url(#clip450)\" d=\"M2142.98 938.776 L2161.33 938.776 L2161.33 942.711 L2147.26 942.711 L2147.26 951.183 Q2148.28 950.836 2149.3 950.674 Q2150.31 950.489 2151.33 950.489 Q2157.12 950.489 2160.5 953.66 Q2163.88 956.831 2163.88 962.248 Q2163.88 967.827 2160.41 970.928 Q2156.94 974.007 2150.62 974.007 Q2148.44 974.007 2146.17 973.637 Q2143.93 973.266 2141.52 972.526 L2141.52 967.827 Q2143.6 968.961 2145.82 969.516 Q2148.05 970.072 2150.52 970.072 Q2154.53 970.072 2156.87 967.966 Q2159.2 965.859 2159.2 962.248 Q2159.2 958.637 2156.87 956.53 Q2154.53 954.424 2150.52 954.424 Q2148.65 954.424 2146.77 954.841 Q2144.92 955.257 2142.98 956.137 L2142.98 938.776 Z\" fill=\"#000000\" fill-rule=\"evenodd\" fill-opacity=\"1\" /><polyline clip-path=\"url(#clip454)\" style=\"stroke:#000000; stroke-linecap:round; stroke-linejoin:round; stroke-width:8; stroke-opacity:0.1; fill:none\" points=\"219.033,910.936 2352.76,910.936 \"/>\n",
       "<polyline clip-path=\"url(#clip454)\" style=\"stroke:#000000; stroke-linecap:round; stroke-linejoin:round; stroke-width:8; stroke-opacity:0.1; fill:none\" points=\"219.033,852.361 2352.76,852.361 \"/>\n",
       "<polyline clip-path=\"url(#clip454)\" style=\"stroke:#000000; stroke-linecap:round; stroke-linejoin:round; stroke-width:8; stroke-opacity:0.1; fill:none\" points=\"219.033,793.787 2352.76,793.787 \"/>\n",
       "<polyline clip-path=\"url(#clip454)\" style=\"stroke:#000000; stroke-linecap:round; stroke-linejoin:round; stroke-width:8; stroke-opacity:0.1; fill:none\" points=\"219.033,735.212 2352.76,735.212 \"/>\n",
       "<polyline clip-path=\"url(#clip454)\" style=\"stroke:#000000; stroke-linecap:round; stroke-linejoin:round; stroke-width:8; stroke-opacity:0.1; fill:none\" points=\"219.033,676.637 2352.76,676.637 \"/>\n",
       "<polyline clip-path=\"url(#clip454)\" style=\"stroke:#000000; stroke-linecap:round; stroke-linejoin:round; stroke-width:8; stroke-opacity:0.1; fill:none\" points=\"219.033,618.063 2352.76,618.063 \"/>\n",
       "<polyline clip-path=\"url(#clip454)\" style=\"stroke:#000000; stroke-linecap:round; stroke-linejoin:round; stroke-width:8; stroke-opacity:0.1; fill:none\" points=\"219.033,559.488 2352.76,559.488 \"/>\n",
       "<polyline clip-path=\"url(#clip450)\" style=\"stroke:#000000; stroke-linecap:round; stroke-linejoin:round; stroke-width:4; stroke-opacity:1; fill:none\" points=\"219.033,910.936 219.033,559.488 \"/>\n",
       "<polyline clip-path=\"url(#clip450)\" style=\"stroke:#000000; stroke-linecap:round; stroke-linejoin:round; stroke-width:4; stroke-opacity:1; fill:none\" points=\"219.033,910.936 237.931,910.936 \"/>\n",
       "<polyline clip-path=\"url(#clip450)\" style=\"stroke:#000000; stroke-linecap:round; stroke-linejoin:round; stroke-width:4; stroke-opacity:1; fill:none\" points=\"219.033,852.361 237.931,852.361 \"/>\n",
       "<polyline clip-path=\"url(#clip450)\" style=\"stroke:#000000; stroke-linecap:round; stroke-linejoin:round; stroke-width:4; stroke-opacity:1; fill:none\" points=\"219.033,793.787 237.931,793.787 \"/>\n",
       "<polyline clip-path=\"url(#clip450)\" style=\"stroke:#000000; stroke-linecap:round; stroke-linejoin:round; stroke-width:4; stroke-opacity:1; fill:none\" points=\"219.033,735.212 237.931,735.212 \"/>\n",
       "<polyline clip-path=\"url(#clip450)\" style=\"stroke:#000000; stroke-linecap:round; stroke-linejoin:round; stroke-width:4; stroke-opacity:1; fill:none\" points=\"219.033,676.637 237.931,676.637 \"/>\n",
       "<polyline clip-path=\"url(#clip450)\" style=\"stroke:#000000; stroke-linecap:round; stroke-linejoin:round; stroke-width:4; stroke-opacity:1; fill:none\" points=\"219.033,618.063 237.931,618.063 \"/>\n",
       "<polyline clip-path=\"url(#clip450)\" style=\"stroke:#000000; stroke-linecap:round; stroke-linejoin:round; stroke-width:4; stroke-opacity:1; fill:none\" points=\"219.033,559.488 237.931,559.488 \"/>\n",
       "<path clip-path=\"url(#clip450)\" d=\"M116.181 924.281 L123.82 924.281 L123.82 897.915 L115.51 899.582 L115.51 895.323 L123.774 893.656 L128.45 893.656 L128.45 924.281 L136.089 924.281 L136.089 928.216 L116.181 928.216 L116.181 924.281 Z\" fill=\"#000000\" fill-rule=\"evenodd\" fill-opacity=\"1\" /><path clip-path=\"url(#clip450)\" d=\"M145.533 922.336 L150.417 922.336 L150.417 928.216 L145.533 928.216 L145.533 922.336 Z\" fill=\"#000000\" fill-rule=\"evenodd\" fill-opacity=\"1\" /><path clip-path=\"url(#clip450)\" d=\"M173.45 897.73 L161.644 916.179 L173.45 916.179 L173.45 897.73 M172.223 893.656 L178.102 893.656 L178.102 916.179 L183.033 916.179 L183.033 920.068 L178.102 920.068 L178.102 928.216 L173.45 928.216 L173.45 920.068 L157.848 920.068 L157.848 915.554 L172.223 893.656 Z\" fill=\"#000000\" fill-rule=\"evenodd\" fill-opacity=\"1\" /><path clip-path=\"url(#clip450)\" d=\"M117.663 865.706 L125.302 865.706 L125.302 839.34 L116.992 841.007 L116.992 836.748 L125.255 835.081 L129.931 835.081 L129.931 865.706 L137.57 865.706 L137.57 869.641 L117.663 869.641 L117.663 865.706 Z\" fill=\"#000000\" fill-rule=\"evenodd\" fill-opacity=\"1\" /><path clip-path=\"url(#clip450)\" d=\"M147.015 863.762 L151.899 863.762 L151.899 869.641 L147.015 869.641 L147.015 863.762 Z\" fill=\"#000000\" fill-rule=\"evenodd\" fill-opacity=\"1\" /><path clip-path=\"url(#clip450)\" d=\"M162.13 835.081 L180.487 835.081 L180.487 839.016 L166.413 839.016 L166.413 847.489 Q167.431 847.141 168.45 846.979 Q169.468 846.794 170.487 846.794 Q176.274 846.794 179.653 849.965 Q183.033 853.137 183.033 858.553 Q183.033 864.132 179.561 867.234 Q176.089 870.313 169.769 870.313 Q167.593 870.313 165.325 869.942 Q163.079 869.572 160.672 868.831 L160.672 864.132 Q162.755 865.266 164.977 865.822 Q167.2 866.377 169.677 866.377 Q173.681 866.377 176.019 864.271 Q178.357 862.164 178.357 858.553 Q178.357 854.942 176.019 852.836 Q173.681 850.729 169.677 850.729 Q167.802 850.729 165.927 851.146 Q164.075 851.563 162.13 852.442 L162.13 835.081 Z\" fill=\"#000000\" fill-rule=\"evenodd\" fill-opacity=\"1\" /><path clip-path=\"url(#clip450)\" d=\"M116.506 807.131 L124.144 807.131 L124.144 780.766 L115.834 782.432 L115.834 778.173 L124.098 776.507 L128.774 776.507 L128.774 807.131 L136.413 807.131 L136.413 811.067 L116.506 811.067 L116.506 807.131 Z\" fill=\"#000000\" fill-rule=\"evenodd\" fill-opacity=\"1\" /><path clip-path=\"url(#clip450)\" d=\"M145.857 805.187 L150.741 805.187 L150.741 811.067 L145.857 811.067 L145.857 805.187 Z\" fill=\"#000000\" fill-rule=\"evenodd\" fill-opacity=\"1\" /><path clip-path=\"url(#clip450)\" d=\"M171.505 791.923 Q168.357 791.923 166.505 794.076 Q164.677 796.229 164.677 799.979 Q164.677 803.706 166.505 805.881 Q168.357 808.034 171.505 808.034 Q174.653 808.034 176.482 805.881 Q178.334 803.706 178.334 799.979 Q178.334 796.229 176.482 794.076 Q174.653 791.923 171.505 791.923 M180.788 777.27 L180.788 781.53 Q179.028 780.696 177.223 780.257 Q175.44 779.817 173.681 779.817 Q169.052 779.817 166.598 782.942 Q164.167 786.067 163.82 792.386 Q165.186 790.372 167.246 789.307 Q169.306 788.219 171.783 788.219 Q176.991 788.219 180.001 791.391 Q183.033 794.539 183.033 799.979 Q183.033 805.303 179.885 808.52 Q176.737 811.738 171.505 811.738 Q165.51 811.738 162.339 807.155 Q159.167 802.548 159.167 793.821 Q159.167 785.627 163.056 780.766 Q166.945 775.882 173.496 775.882 Q175.255 775.882 177.038 776.229 Q178.843 776.576 180.788 777.27 Z\" fill=\"#000000\" fill-rule=\"evenodd\" fill-opacity=\"1\" /><path clip-path=\"url(#clip450)\" d=\"M117.57 748.557 L125.209 748.557 L125.209 722.191 L116.899 723.858 L116.899 719.599 L125.163 717.932 L129.839 717.932 L129.839 748.557 L137.478 748.557 L137.478 752.492 L117.57 752.492 L117.57 748.557 Z\" fill=\"#000000\" fill-rule=\"evenodd\" fill-opacity=\"1\" /><path clip-path=\"url(#clip450)\" d=\"M146.922 746.612 L151.806 746.612 L151.806 752.492 L146.922 752.492 L146.922 746.612 Z\" fill=\"#000000\" fill-rule=\"evenodd\" fill-opacity=\"1\" /><path clip-path=\"url(#clip450)\" d=\"M160.811 717.932 L183.033 717.932 L183.033 719.923 L170.487 752.492 L165.602 752.492 L177.408 721.867 L160.811 721.867 L160.811 717.932 Z\" fill=\"#000000\" fill-rule=\"evenodd\" fill-opacity=\"1\" /><path clip-path=\"url(#clip450)\" d=\"M116.76 689.982 L124.399 689.982 L124.399 663.617 L116.089 665.283 L116.089 661.024 L124.353 659.357 L129.029 659.357 L129.029 689.982 L136.667 689.982 L136.667 693.917 L116.76 693.917 L116.76 689.982 Z\" fill=\"#000000\" fill-rule=\"evenodd\" fill-opacity=\"1\" /><path clip-path=\"url(#clip450)\" d=\"M146.112 688.038 L150.996 688.038 L150.996 693.917 L146.112 693.917 L146.112 688.038 Z\" fill=\"#000000\" fill-rule=\"evenodd\" fill-opacity=\"1\" /><path clip-path=\"url(#clip450)\" d=\"M171.181 677.505 Q167.848 677.505 165.927 679.288 Q164.028 681.07 164.028 684.195 Q164.028 687.32 165.927 689.103 Q167.848 690.885 171.181 690.885 Q174.514 690.885 176.436 689.103 Q178.357 687.297 178.357 684.195 Q178.357 681.07 176.436 679.288 Q174.538 677.505 171.181 677.505 M166.505 675.515 Q163.496 674.774 161.806 672.714 Q160.14 670.654 160.14 667.691 Q160.14 663.547 163.079 661.14 Q166.042 658.732 171.181 658.732 Q176.343 658.732 179.283 661.14 Q182.223 663.547 182.223 667.691 Q182.223 670.654 180.533 672.714 Q178.866 674.774 175.88 675.515 Q179.26 676.302 181.135 678.593 Q183.033 680.885 183.033 684.195 Q183.033 689.218 179.954 691.903 Q176.899 694.589 171.181 694.589 Q165.464 694.589 162.385 691.903 Q159.329 689.218 159.329 684.195 Q159.329 680.885 161.227 678.593 Q163.126 676.302 166.505 675.515 M164.792 668.13 Q164.792 670.816 166.459 672.32 Q168.149 673.825 171.181 673.825 Q174.19 673.825 175.88 672.32 Q177.593 670.816 177.593 668.13 Q177.593 665.445 175.88 663.941 Q174.19 662.436 171.181 662.436 Q168.149 662.436 166.459 663.941 Q164.792 665.445 164.792 668.13 Z\" fill=\"#000000\" fill-rule=\"evenodd\" fill-opacity=\"1\" /><path clip-path=\"url(#clip450)\" d=\"M116.853 631.408 L124.492 631.408 L124.492 605.042 L116.181 606.709 L116.181 602.449 L124.445 600.783 L129.121 600.783 L129.121 631.408 L136.76 631.408 L136.76 635.343 L116.853 635.343 L116.853 631.408 Z\" fill=\"#000000\" fill-rule=\"evenodd\" fill-opacity=\"1\" /><path clip-path=\"url(#clip450)\" d=\"M146.204 629.463 L151.089 629.463 L151.089 635.343 L146.204 635.343 L146.204 629.463 Z\" fill=\"#000000\" fill-rule=\"evenodd\" fill-opacity=\"1\" /><path clip-path=\"url(#clip450)\" d=\"M161.413 634.625 L161.413 630.366 Q163.172 631.199 164.977 631.639 Q166.783 632.079 168.519 632.079 Q173.149 632.079 175.579 628.977 Q178.033 625.852 178.38 619.509 Q177.038 621.5 174.977 622.565 Q172.917 623.63 170.417 623.63 Q165.232 623.63 162.2 620.505 Q159.19 617.357 159.19 611.917 Q159.19 606.593 162.339 603.375 Q165.487 600.158 170.718 600.158 Q176.714 600.158 179.862 604.764 Q183.033 609.347 183.033 618.097 Q183.033 626.269 179.144 631.153 Q175.278 636.014 168.727 636.014 Q166.968 636.014 165.163 635.667 Q163.357 635.32 161.413 634.625 M170.718 619.972 Q173.866 619.972 175.695 617.82 Q177.547 615.667 177.547 611.917 Q177.547 608.19 175.695 606.037 Q173.866 603.861 170.718 603.861 Q167.57 603.861 165.718 606.037 Q163.89 608.19 163.89 611.917 Q163.89 615.667 165.718 617.82 Q167.57 619.972 170.718 619.972 Z\" fill=\"#000000\" fill-rule=\"evenodd\" fill-opacity=\"1\" /><path clip-path=\"url(#clip450)\" d=\"M119.885 572.833 L136.204 572.833 L136.204 576.768 L114.26 576.768 L114.26 572.833 Q116.922 570.078 121.505 565.449 Q126.112 560.796 127.292 559.453 Q129.538 556.93 130.417 555.194 Q131.32 553.435 131.32 551.745 Q131.32 548.99 129.376 547.254 Q127.455 545.518 124.353 545.518 Q122.154 545.518 119.7 546.282 Q117.269 547.046 114.492 548.597 L114.492 543.875 Q117.316 542.74 119.769 542.162 Q122.223 541.583 124.26 541.583 Q129.63 541.583 132.825 544.268 Q136.019 546.953 136.019 551.444 Q136.019 553.574 135.209 555.495 Q134.422 557.393 132.316 559.986 Q131.737 560.657 128.635 563.875 Q125.533 567.069 119.885 572.833 Z\" fill=\"#000000\" fill-rule=\"evenodd\" fill-opacity=\"1\" /><path clip-path=\"url(#clip450)\" d=\"M146.019 570.888 L150.903 570.888 L150.903 576.768 L146.019 576.768 L146.019 570.888 Z\" fill=\"#000000\" fill-rule=\"evenodd\" fill-opacity=\"1\" /><path clip-path=\"url(#clip450)\" d=\"M171.089 545.287 Q167.477 545.287 165.649 548.852 Q163.843 552.393 163.843 559.523 Q163.843 566.629 165.649 570.194 Q167.477 573.736 171.089 573.736 Q174.723 573.736 176.528 570.194 Q178.357 566.629 178.357 559.523 Q178.357 552.393 176.528 548.852 Q174.723 545.287 171.089 545.287 M171.089 541.583 Q176.899 541.583 179.954 546.19 Q183.033 550.773 183.033 559.523 Q183.033 568.25 179.954 572.856 Q176.899 577.439 171.089 577.439 Q165.278 577.439 162.2 572.856 Q159.144 568.25 159.144 559.523 Q159.144 550.773 162.2 546.19 Q165.278 541.583 171.089 541.583 Z\" fill=\"#000000\" fill-rule=\"evenodd\" fill-opacity=\"1\" /><path clip-path=\"url(#clip450)\" d=\"M56.6478 789.68 Q60.8023 790.517 63.1856 791.644 Q66.8248 793.48 66.8248 796.54 Q66.8248 798.665 65.6332 800.275 Q64.4094 801.854 62.3804 802.401 Q63.1856 803.013 63.7331 803.56 Q64.2806 804.076 65.1179 805.074 Q65.9231 806.073 66.3739 807.425 Q66.8248 808.746 66.8248 810.259 Q66.8248 811.419 66.5994 812.481 Q66.4062 813.544 65.8587 814.671 Q65.2789 815.766 64.4094 816.572 Q63.5398 817.345 62.1228 817.86 Q60.7057 818.375 58.9022 818.375 Q56.6478 818.375 53.5882 817.506 Q50.5287 816.604 45.0537 814.543 Q42.1551 813.415 40.5448 813.415 Q39.8041 813.415 39.321 813.576 Q38.8379 813.738 38.6769 814.06 Q38.4837 814.349 38.4515 814.543 Q38.3871 814.736 38.3871 815.058 Q38.3871 817.055 40.416 818.794 Q42.445 820.533 46.5673 821.725 Q47.3725 821.982 47.5657 822.143 Q47.759 822.304 47.759 822.787 Q47.7268 823.593 47.0826 823.593 Q46.825 823.593 45.8266 823.303 Q44.796 823.013 43.2823 822.336 Q41.7365 821.628 40.3516 820.662 Q38.9346 819.696 37.9362 818.182 Q36.9378 816.636 36.9378 814.865 Q36.9378 812.449 38.5159 810.968 Q40.0618 809.454 42.3484 809.454 Q43.7654 809.454 46.5029 810.581 Q56.0037 814.156 59.965 814.156 Q65.3434 814.156 65.3434 810.066 Q65.3434 808.713 64.7959 807.457 Q64.2484 806.169 63.4754 805.332 Q62.7025 804.494 61.8651 803.85 Q61.0278 803.174 60.4803 802.884 Q59.9328 802.562 59.804 802.53 L39.9651 797.602 Q39.1922 797.409 38.6769 797.055 Q38.1294 796.668 37.9362 796.218 Q37.7429 795.767 37.7107 795.509 Q37.6463 795.251 37.6463 795.026 Q37.6463 794.221 38.1294 793.673 Q38.6125 793.094 39.4498 793.094 Q39.6109 793.094 40.3838 793.287 Q41.1246 793.448 42.2196 793.705 Q43.2823 793.963 43.8621 794.092 Q47.92 795.123 48.3387 795.219 L55.4562 797.055 Q55.8748 797.152 57.2275 797.474 Q58.5801 797.763 59.2887 797.924 Q59.965 798.085 60.899 798.247 Q61.8007 798.375 62.316 798.375 Q63.9263 798.375 64.6348 797.892 Q65.3434 797.409 65.3434 796.346 Q65.3434 795.348 64.667 794.575 Q63.9585 793.77 62.6059 793.158 Q61.221 792.546 60.0938 792.192 Q58.9666 791.838 57.1953 791.387 Q56.4223 791.226 56.2291 791.097 Q56.0037 790.936 56.0037 790.485 Q56.0037 789.68 56.6478 789.68 Z\" fill=\"#000000\" fill-rule=\"evenodd\" fill-opacity=\"1\" /><path clip-path=\"url(#clip450)\" d=\"M82.5735 733.946 L16.6159 733.946 L16.6159 723.995 L18.1296 723.995 L18.1296 729.534 L81.0598 729.534 L81.0598 723.995 L82.5735 723.995 L82.5735 733.946 Z\" fill=\"#000000\" fill-rule=\"evenodd\" fill-opacity=\"1\" /><path clip-path=\"url(#clip450)\" d=\"M48.6607 672.254 Q49.0472 671.867 49.5947 671.867 Q50.1422 671.867 50.5287 672.254 Q50.9151 672.64 50.9151 673.188 L50.9151 714.476 Q50.9151 715.023 50.5287 715.409 Q50.1422 715.796 49.5947 715.796 Q49.0472 715.796 48.6607 715.409 Q48.2743 715.023 48.2743 714.476 L48.2743 673.188 Q48.2743 672.64 48.6607 672.254 Z\" fill=\"#000000\" fill-rule=\"evenodd\" fill-opacity=\"1\" /><path clip-path=\"url(#clip450)\" d=\"M81.0598 664.982 L81.0598 659.442 L18.1296 659.442 L18.1296 664.982 L16.6159 664.982 L16.6159 655.03 L82.5735 655.03 L82.5735 664.982 L81.0598 664.982 Z\" fill=\"#000000\" fill-rule=\"evenodd\" fill-opacity=\"1\" /><polyline clip-path=\"url(#clip454)\" style=\"stroke:#000000; stroke-linecap:round; stroke-linejoin:round; stroke-width:4; stroke-opacity:1; fill:none\" stroke-dasharray=\"2, 4\" points=\"279.421,325.19 356.842,325.19 434.263,325.19 511.684,325.19 589.105,325.19 666.526,325.19 743.947,325.19 821.368,325.19 898.789,325.19 976.21,325.19 1053.63,325.19 1131.05,325.19 1208.47,325.19 1285.89,325.19 1363.32,325.19 1440.74,325.19 1518.16,325.19 1595.58,325.19 1673,325.19 1750.42,325.19 1827.84,325.19 1905.26,325.19 1982.68,325.19 2060.1,325.19 2137.53,325.19 2214.95,325.19 2292.37,325.19 \"/>\n",
       "<circle clip-path=\"url(#clip454)\" cx=\"279.421\" cy=\"781.876\" r=\"10.8\" fill=\"#000000\" fill-rule=\"evenodd\" fill-opacity=\"1\" stroke=\"none\"/>\n",
       "<polyline clip-path=\"url(#clip454)\" style=\"stroke:#000000; stroke-linecap:round; stroke-linejoin:round; stroke-width:12; stroke-opacity:1; fill:none\" points=\"279.421,781.876 279.421,539.247 356.842,539.247 356.842,407.221 434.263,407.221 434.263,347.951 511.684,347.951 511.684,325.19 589.105,325.19 589.105,359.745 666.526,359.745 666.526,418.156 743.947,418.156 743.947,453.346 821.368,453.346 821.368,466.955 898.789,466.955 898.789,459.543 976.21,459.543 976.21,434.21 1053.63,434.21 1053.63,433.209 1131.05,433.209 1131.05,450.537 1208.47,450.537 1208.47,441.324 1285.89,441.324 1285.89,443.288 1363.32,443.288 1363.32,443.243 1440.74,443.243 1440.74,443.071 1518.16,443.071 1518.16,443.198 1595.58,443.198 1595.58,443.131 1673,443.131 1673,443.15 1750.42,443.15 1827.84,443.15 1905.26,443.15 1982.68,443.15 2060.1,443.15 2137.53,443.15 2214.95,443.15 2292.37,443.15 \"/>\n",
       "<path clip-path=\"url(#clip454)\" d=\"M267.421 769.876 L267.421 793.876 L291.421 793.876 L291.421 769.876 L267.421 769.876 Z\" fill=\"#000000\" fill-rule=\"evenodd\" fill-opacity=\"1\" stroke=\"none\"/>\n",
       "<polyline clip-path=\"url(#clip454)\" style=\"stroke:#000000; stroke-linecap:round; stroke-linejoin:round; stroke-width:12; stroke-opacity:1; fill:none\" stroke-dasharray=\"48, 24, 6, 24\" points=\"279.421,781.876 279.421,539.247 356.842,539.247 356.842,407.222 434.263,407.222 434.263,347.951 511.684,347.951 511.684,325.19 589.105,325.19 589.105,359.741 666.526,359.741 666.526,418.156 743.947,418.156 743.947,453.347 821.368,453.347 821.368,466.957 898.789,466.957 898.789,459.543 976.21,459.543 976.21,434.208 1053.63,434.208 1053.63,433.211 1131.05,433.211 1131.05,450.547 1208.47,450.547 1208.47,441.288 1285.89,441.288 1285.89,443.347 1363.32,443.347 1363.32,443.184 1440.74,443.184 1440.74,443.115 1518.16,443.115 1518.16,443.173 1595.58,443.173 1595.58,443.14 1673,443.14 1673,443.15 1750.42,443.15 1827.84,443.15 1905.26,443.15 1982.68,443.15 2060.1,443.15 2137.53,443.15 2214.95,443.15 2292.37,443.15 \"/>\n",
       "<path clip-path=\"url(#clip450)\" d=\"M219.033 1423.18 L2352.76 1423.18 L2352.76 1071.73 L219.033 1071.73  Z\" fill=\"#ffffff\" fill-rule=\"evenodd\" fill-opacity=\"1\"/>\n",
       "<defs>\n",
       "  <clipPath id=\"clip455\">\n",
       "    <rect x=\"219\" y=\"1071\" width=\"2135\" height=\"352\"/>\n",
       "  </clipPath>\n",
       "</defs>\n",
       "<polyline clip-path=\"url(#clip455)\" style=\"stroke:#000000; stroke-linecap:round; stroke-linejoin:round; stroke-width:8; stroke-opacity:0.1; fill:none\" points=\"589.105,1423.18 589.105,1071.73 \"/>\n",
       "<polyline clip-path=\"url(#clip455)\" style=\"stroke:#000000; stroke-linecap:round; stroke-linejoin:round; stroke-width:8; stroke-opacity:0.1; fill:none\" points=\"976.21,1423.18 976.21,1071.73 \"/>\n",
       "<polyline clip-path=\"url(#clip455)\" style=\"stroke:#000000; stroke-linecap:round; stroke-linejoin:round; stroke-width:8; stroke-opacity:0.1; fill:none\" points=\"1363.32,1423.18 1363.32,1071.73 \"/>\n",
       "<polyline clip-path=\"url(#clip455)\" style=\"stroke:#000000; stroke-linecap:round; stroke-linejoin:round; stroke-width:8; stroke-opacity:0.1; fill:none\" points=\"1750.42,1423.18 1750.42,1071.73 \"/>\n",
       "<polyline clip-path=\"url(#clip455)\" style=\"stroke:#000000; stroke-linecap:round; stroke-linejoin:round; stroke-width:8; stroke-opacity:0.1; fill:none\" points=\"2137.53,1423.18 2137.53,1071.73 \"/>\n",
       "<polyline clip-path=\"url(#clip450)\" style=\"stroke:#000000; stroke-linecap:round; stroke-linejoin:round; stroke-width:4; stroke-opacity:1; fill:none\" points=\"219.033,1423.18 2352.76,1423.18 \"/>\n",
       "<polyline clip-path=\"url(#clip450)\" style=\"stroke:#000000; stroke-linecap:round; stroke-linejoin:round; stroke-width:4; stroke-opacity:1; fill:none\" points=\"589.105,1423.18 589.105,1404.28 \"/>\n",
       "<polyline clip-path=\"url(#clip450)\" style=\"stroke:#000000; stroke-linecap:round; stroke-linejoin:round; stroke-width:4; stroke-opacity:1; fill:none\" points=\"976.21,1423.18 976.21,1404.28 \"/>\n",
       "<polyline clip-path=\"url(#clip450)\" style=\"stroke:#000000; stroke-linecap:round; stroke-linejoin:round; stroke-width:4; stroke-opacity:1; fill:none\" points=\"1363.32,1423.18 1363.32,1404.28 \"/>\n",
       "<polyline clip-path=\"url(#clip450)\" style=\"stroke:#000000; stroke-linecap:round; stroke-linejoin:round; stroke-width:4; stroke-opacity:1; fill:none\" points=\"1750.42,1423.18 1750.42,1404.28 \"/>\n",
       "<polyline clip-path=\"url(#clip450)\" style=\"stroke:#000000; stroke-linecap:round; stroke-linejoin:round; stroke-width:4; stroke-opacity:1; fill:none\" points=\"2137.53,1423.18 2137.53,1404.28 \"/>\n",
       "<path clip-path=\"url(#clip450)\" d=\"M579.383 1451.02 L597.74 1451.02 L597.74 1454.96 L583.666 1454.96 L583.666 1463.43 Q584.684 1463.08 585.703 1462.92 Q586.721 1462.73 587.74 1462.73 Q593.527 1462.73 596.906 1465.9 Q600.286 1469.08 600.286 1474.49 Q600.286 1480.07 596.814 1483.17 Q593.341 1486.25 587.022 1486.25 Q584.846 1486.25 582.578 1485.88 Q580.332 1485.51 577.925 1484.77 L577.925 1480.07 Q580.008 1481.2 582.23 1481.76 Q584.453 1482.32 586.929 1482.32 Q590.934 1482.32 593.272 1480.21 Q595.61 1478.1 595.61 1474.49 Q595.61 1470.88 593.272 1468.77 Q590.934 1466.67 586.929 1466.67 Q585.054 1466.67 583.179 1467.08 Q581.328 1467.5 579.383 1468.38 L579.383 1451.02 Z\" fill=\"#000000\" fill-rule=\"evenodd\" fill-opacity=\"1\" /><path clip-path=\"url(#clip450)\" d=\"M950.898 1481.64 L958.537 1481.64 L958.537 1455.28 L950.227 1456.95 L950.227 1452.69 L958.491 1451.02 L963.166 1451.02 L963.166 1481.64 L970.805 1481.64 L970.805 1485.58 L950.898 1485.58 L950.898 1481.64 Z\" fill=\"#000000\" fill-rule=\"evenodd\" fill-opacity=\"1\" /><path clip-path=\"url(#clip450)\" d=\"M990.25 1454.1 Q986.639 1454.1 984.81 1457.66 Q983.004 1461.2 983.004 1468.33 Q983.004 1475.44 984.81 1479.01 Q986.639 1482.55 990.25 1482.55 Q993.884 1482.55 995.689 1479.01 Q997.518 1475.44 997.518 1468.33 Q997.518 1461.2 995.689 1457.66 Q993.884 1454.1 990.25 1454.1 M990.25 1450.39 Q996.06 1450.39 999.115 1455 Q1002.19 1459.58 1002.19 1468.33 Q1002.19 1477.06 999.115 1481.67 Q996.06 1486.25 990.25 1486.25 Q984.44 1486.25 981.361 1481.67 Q978.305 1477.06 978.305 1468.33 Q978.305 1459.58 981.361 1455 Q984.44 1450.39 990.25 1450.39 Z\" fill=\"#000000\" fill-rule=\"evenodd\" fill-opacity=\"1\" /><path clip-path=\"url(#clip450)\" d=\"M1338.5 1481.64 L1346.14 1481.64 L1346.14 1455.28 L1337.83 1456.95 L1337.83 1452.69 L1346.09 1451.02 L1350.77 1451.02 L1350.77 1481.64 L1358.41 1481.64 L1358.41 1485.58 L1338.5 1485.58 L1338.5 1481.64 Z\" fill=\"#000000\" fill-rule=\"evenodd\" fill-opacity=\"1\" /><path clip-path=\"url(#clip450)\" d=\"M1367.9 1451.02 L1386.26 1451.02 L1386.26 1454.96 L1372.18 1454.96 L1372.18 1463.43 Q1373.2 1463.08 1374.22 1462.92 Q1375.24 1462.73 1376.26 1462.73 Q1382.04 1462.73 1385.42 1465.9 Q1388.8 1469.08 1388.8 1474.49 Q1388.8 1480.07 1385.33 1483.17 Q1381.86 1486.25 1375.54 1486.25 Q1373.36 1486.25 1371.09 1485.88 Q1368.85 1485.51 1366.44 1484.77 L1366.44 1480.07 Q1368.52 1481.2 1370.75 1481.76 Q1372.97 1482.32 1375.44 1482.32 Q1379.45 1482.32 1381.79 1480.21 Q1384.13 1478.1 1384.13 1474.49 Q1384.13 1470.88 1381.79 1468.77 Q1379.45 1466.67 1375.44 1466.67 Q1373.57 1466.67 1371.7 1467.08 Q1369.84 1467.5 1367.9 1468.38 L1367.9 1451.02 Z\" fill=\"#000000\" fill-rule=\"evenodd\" fill-opacity=\"1\" /><path clip-path=\"url(#clip450)\" d=\"M1729.19 1481.64 L1745.51 1481.64 L1745.51 1485.58 L1723.57 1485.58 L1723.57 1481.64 Q1726.23 1478.89 1730.81 1474.26 Q1735.42 1469.61 1736.6 1468.27 Q1738.85 1465.74 1739.73 1464.01 Q1740.63 1462.25 1740.63 1460.56 Q1740.63 1457.8 1738.68 1456.07 Q1736.76 1454.33 1733.66 1454.33 Q1731.46 1454.33 1729.01 1455.09 Q1726.58 1455.86 1723.8 1457.41 L1723.8 1452.69 Q1726.62 1451.55 1729.08 1450.97 Q1731.53 1450.39 1733.57 1450.39 Q1738.94 1450.39 1742.13 1453.08 Q1745.33 1455.77 1745.33 1460.26 Q1745.33 1462.39 1744.52 1464.31 Q1743.73 1466.2 1741.62 1468.8 Q1741.05 1469.47 1737.94 1472.69 Q1734.84 1475.88 1729.19 1481.64 Z\" fill=\"#000000\" fill-rule=\"evenodd\" fill-opacity=\"1\" /><path clip-path=\"url(#clip450)\" d=\"M1765.33 1454.1 Q1761.72 1454.1 1759.89 1457.66 Q1758.08 1461.2 1758.08 1468.33 Q1758.08 1475.44 1759.89 1479.01 Q1761.72 1482.55 1765.33 1482.55 Q1768.96 1482.55 1770.77 1479.01 Q1772.6 1475.44 1772.6 1468.33 Q1772.6 1461.2 1770.77 1457.66 Q1768.96 1454.1 1765.33 1454.1 M1765.33 1450.39 Q1771.14 1450.39 1774.19 1455 Q1777.27 1459.58 1777.27 1468.33 Q1777.27 1477.06 1774.19 1481.67 Q1771.14 1486.25 1765.33 1486.25 Q1759.52 1486.25 1756.44 1481.67 Q1753.38 1477.06 1753.38 1468.33 Q1753.38 1459.58 1756.44 1455 Q1759.52 1450.39 1765.33 1450.39 Z\" fill=\"#000000\" fill-rule=\"evenodd\" fill-opacity=\"1\" /><path clip-path=\"url(#clip450)\" d=\"M2116.8 1481.64 L2133.12 1481.64 L2133.12 1485.58 L2111.17 1485.58 L2111.17 1481.64 Q2113.83 1478.89 2118.42 1474.26 Q2123.02 1469.61 2124.2 1468.27 Q2126.45 1465.74 2127.33 1464.01 Q2128.23 1462.25 2128.23 1460.56 Q2128.23 1457.8 2126.29 1456.07 Q2124.37 1454.33 2121.26 1454.33 Q2119.06 1454.33 2116.61 1455.09 Q2114.18 1455.86 2111.4 1457.41 L2111.4 1452.69 Q2114.23 1451.55 2116.68 1450.97 Q2119.13 1450.39 2121.17 1450.39 Q2126.54 1450.39 2129.74 1453.08 Q2132.93 1455.77 2132.93 1460.26 Q2132.93 1462.39 2132.12 1464.31 Q2131.33 1466.2 2129.23 1468.8 Q2128.65 1469.47 2125.55 1472.69 Q2122.44 1475.88 2116.8 1481.64 Z\" fill=\"#000000\" fill-rule=\"evenodd\" fill-opacity=\"1\" /><path clip-path=\"url(#clip450)\" d=\"M2142.98 1451.02 L2161.33 1451.02 L2161.33 1454.96 L2147.26 1454.96 L2147.26 1463.43 Q2148.28 1463.08 2149.3 1462.92 Q2150.31 1462.73 2151.33 1462.73 Q2157.12 1462.73 2160.5 1465.9 Q2163.88 1469.08 2163.88 1474.49 Q2163.88 1480.07 2160.41 1483.17 Q2156.94 1486.25 2150.62 1486.25 Q2148.44 1486.25 2146.17 1485.88 Q2143.93 1485.51 2141.52 1484.77 L2141.52 1480.07 Q2143.6 1481.2 2145.82 1481.76 Q2148.05 1482.32 2150.52 1482.32 Q2154.53 1482.32 2156.87 1480.21 Q2159.2 1478.1 2159.2 1474.49 Q2159.2 1470.88 2156.87 1468.77 Q2154.53 1466.67 2150.52 1466.67 Q2148.65 1466.67 2146.77 1467.08 Q2144.92 1467.5 2142.98 1468.38 L2142.98 1451.02 Z\" fill=\"#000000\" fill-rule=\"evenodd\" fill-opacity=\"1\" /><path clip-path=\"url(#clip450)\" d=\"M1128.87 1522.27 L1128.87 1532.4 L1140.93 1532.4 L1140.93 1536.95 L1128.87 1536.95 L1128.87 1556.3 Q1128.87 1560.66 1130.05 1561.9 Q1131.26 1563.14 1134.92 1563.14 L1140.93 1563.14 L1140.93 1568.04 L1134.92 1568.04 Q1128.14 1568.04 1125.56 1565.53 Q1122.98 1562.98 1122.98 1556.3 L1122.98 1536.95 L1118.68 1536.95 L1118.68 1532.4 L1122.98 1532.4 L1122.98 1522.27 L1128.87 1522.27 Z\" fill=\"#000000\" fill-rule=\"evenodd\" fill-opacity=\"1\" /><path clip-path=\"url(#clip450)\" d=\"M1148.63 1532.4 L1154.49 1532.4 L1154.49 1568.04 L1148.63 1568.04 L1148.63 1532.4 M1148.63 1518.52 L1154.49 1518.52 L1154.49 1525.93 L1148.63 1525.93 L1148.63 1518.52 Z\" fill=\"#000000\" fill-rule=\"evenodd\" fill-opacity=\"1\" /><path clip-path=\"url(#clip450)\" d=\"M1194.5 1539.24 Q1196.69 1535.29 1199.75 1533.41 Q1202.81 1531.54 1206.94 1531.54 Q1212.51 1531.54 1215.54 1535.45 Q1218.56 1539.33 1218.56 1546.53 L1218.56 1568.04 L1212.67 1568.04 L1212.67 1546.72 Q1212.67 1541.59 1210.86 1539.11 Q1209.04 1536.63 1205.32 1536.63 Q1200.77 1536.63 1198.13 1539.65 Q1195.49 1542.68 1195.49 1547.9 L1195.49 1568.04 L1189.6 1568.04 L1189.6 1546.72 Q1189.6 1541.56 1187.78 1539.11 Q1185.97 1536.63 1182.18 1536.63 Q1177.69 1536.63 1175.05 1539.68 Q1172.41 1542.71 1172.41 1547.9 L1172.41 1568.04 L1166.52 1568.04 L1166.52 1532.4 L1172.41 1532.4 L1172.41 1537.93 Q1174.41 1534.66 1177.22 1533.1 Q1180.02 1531.54 1183.87 1531.54 Q1187.75 1531.54 1190.46 1533.51 Q1193.19 1535.48 1194.5 1539.24 Z\" fill=\"#000000\" fill-rule=\"evenodd\" fill-opacity=\"1\" /><path clip-path=\"url(#clip450)\" d=\"M1260.73 1548.76 L1260.73 1551.62 L1233.81 1551.62 Q1234.19 1557.67 1237.44 1560.85 Q1240.71 1564 1246.54 1564 Q1249.91 1564 1253.06 1563.17 Q1256.25 1562.35 1259.37 1560.69 L1259.37 1566.23 Q1256.21 1567.57 1252.9 1568.27 Q1249.59 1568.97 1246.19 1568.97 Q1237.66 1568.97 1232.66 1564 Q1227.7 1559.04 1227.7 1550.57 Q1227.7 1541.82 1232.41 1536.69 Q1237.15 1531.54 1245.17 1531.54 Q1252.36 1531.54 1256.53 1536.18 Q1260.73 1540.8 1260.73 1548.76 M1254.88 1547.04 Q1254.81 1542.23 1252.17 1539.37 Q1249.56 1536.5 1245.23 1536.5 Q1240.33 1536.5 1237.37 1539.27 Q1234.44 1542.04 1234 1547.07 L1254.88 1547.04 Z\" fill=\"#000000\" fill-rule=\"evenodd\" fill-opacity=\"1\" /><path clip-path=\"url(#clip450)\" d=\"M1290.53 1518.52 L1304.02 1518.52 L1304.02 1523.07 L1296.38 1523.07 L1296.38 1572.09 L1304.02 1572.09 L1304.02 1576.64 L1290.53 1576.64 L1290.53 1518.52 Z\" fill=\"#000000\" fill-rule=\"evenodd\" fill-opacity=\"1\" /><path clip-path=\"url(#clip450)\" d=\"M1344.25 1539.24 Q1346.45 1535.29 1349.5 1533.41 Q1352.56 1531.54 1356.7 1531.54 Q1362.27 1531.54 1365.29 1535.45 Q1368.31 1539.33 1368.31 1546.53 L1368.31 1568.04 L1362.43 1568.04 L1362.43 1546.72 Q1362.43 1541.59 1360.61 1539.11 Q1358.8 1536.63 1355.07 1536.63 Q1350.52 1536.63 1347.88 1539.65 Q1345.24 1542.68 1345.24 1547.9 L1345.24 1568.04 L1339.35 1568.04 L1339.35 1546.72 Q1339.35 1541.56 1337.54 1539.11 Q1335.72 1536.63 1331.93 1536.63 Q1327.45 1536.63 1324.8 1539.68 Q1322.16 1542.71 1322.16 1547.9 L1322.16 1568.04 L1316.27 1568.04 L1316.27 1532.4 L1322.16 1532.4 L1322.16 1537.93 Q1324.17 1534.66 1326.97 1533.1 Q1329.77 1531.54 1333.62 1531.54 Q1337.5 1531.54 1340.21 1533.51 Q1342.95 1535.48 1344.25 1539.24 Z\" fill=\"#000000\" fill-rule=\"evenodd\" fill-opacity=\"1\" /><path clip-path=\"url(#clip450)\" d=\"M1380 1532.4 L1385.85 1532.4 L1385.85 1568.04 L1380 1568.04 L1380 1532.4 M1380 1518.52 L1385.85 1518.52 L1385.85 1525.93 L1380 1525.93 L1380 1518.52 Z\" fill=\"#000000\" fill-rule=\"evenodd\" fill-opacity=\"1\" /><path clip-path=\"url(#clip450)\" d=\"M1427.74 1546.53 L1427.74 1568.04 L1421.88 1568.04 L1421.88 1546.72 Q1421.88 1541.66 1419.91 1539.14 Q1417.94 1536.63 1413.99 1536.63 Q1409.25 1536.63 1406.51 1539.65 Q1403.77 1542.68 1403.77 1547.9 L1403.77 1568.04 L1397.88 1568.04 L1397.88 1532.4 L1403.77 1532.4 L1403.77 1537.93 Q1405.87 1534.72 1408.7 1533.13 Q1411.57 1531.54 1415.29 1531.54 Q1421.44 1531.54 1424.59 1535.36 Q1427.74 1539.14 1427.74 1546.53 Z\" fill=\"#000000\" fill-rule=\"evenodd\" fill-opacity=\"1\" /><path clip-path=\"url(#clip450)\" d=\"M1453.11 1518.52 L1453.11 1576.64 L1439.61 1576.64 L1439.61 1572.09 L1447.22 1572.09 L1447.22 1523.07 L1439.61 1523.07 L1439.61 1518.52 L1453.11 1518.52 Z\" fill=\"#000000\" fill-rule=\"evenodd\" fill-opacity=\"1\" /><polyline clip-path=\"url(#clip455)\" style=\"stroke:#000000; stroke-linecap:round; stroke-linejoin:round; stroke-width:8; stroke-opacity:0.1; fill:none\" points=\"219.033,1423.18 2352.76,1423.18 \"/>\n",
       "<polyline clip-path=\"url(#clip455)\" style=\"stroke:#000000; stroke-linecap:round; stroke-linejoin:round; stroke-width:8; stroke-opacity:0.1; fill:none\" points=\"219.033,1364.61 2352.76,1364.61 \"/>\n",
       "<polyline clip-path=\"url(#clip455)\" style=\"stroke:#000000; stroke-linecap:round; stroke-linejoin:round; stroke-width:8; stroke-opacity:0.1; fill:none\" points=\"219.033,1306.03 2352.76,1306.03 \"/>\n",
       "<polyline clip-path=\"url(#clip455)\" style=\"stroke:#000000; stroke-linecap:round; stroke-linejoin:round; stroke-width:8; stroke-opacity:0.1; fill:none\" points=\"219.033,1247.46 2352.76,1247.46 \"/>\n",
       "<polyline clip-path=\"url(#clip455)\" style=\"stroke:#000000; stroke-linecap:round; stroke-linejoin:round; stroke-width:8; stroke-opacity:0.1; fill:none\" points=\"219.033,1188.88 2352.76,1188.88 \"/>\n",
       "<polyline clip-path=\"url(#clip455)\" style=\"stroke:#000000; stroke-linecap:round; stroke-linejoin:round; stroke-width:8; stroke-opacity:0.1; fill:none\" points=\"219.033,1130.31 2352.76,1130.31 \"/>\n",
       "<polyline clip-path=\"url(#clip455)\" style=\"stroke:#000000; stroke-linecap:round; stroke-linejoin:round; stroke-width:8; stroke-opacity:0.1; fill:none\" points=\"219.033,1071.73 2352.76,1071.73 \"/>\n",
       "<polyline clip-path=\"url(#clip450)\" style=\"stroke:#000000; stroke-linecap:round; stroke-linejoin:round; stroke-width:4; stroke-opacity:1; fill:none\" points=\"219.033,1423.18 219.033,1071.73 \"/>\n",
       "<polyline clip-path=\"url(#clip450)\" style=\"stroke:#000000; stroke-linecap:round; stroke-linejoin:round; stroke-width:4; stroke-opacity:1; fill:none\" points=\"219.033,1423.18 237.931,1423.18 \"/>\n",
       "<polyline clip-path=\"url(#clip450)\" style=\"stroke:#000000; stroke-linecap:round; stroke-linejoin:round; stroke-width:4; stroke-opacity:1; fill:none\" points=\"219.033,1364.61 237.931,1364.61 \"/>\n",
       "<polyline clip-path=\"url(#clip450)\" style=\"stroke:#000000; stroke-linecap:round; stroke-linejoin:round; stroke-width:4; stroke-opacity:1; fill:none\" points=\"219.033,1306.03 237.931,1306.03 \"/>\n",
       "<polyline clip-path=\"url(#clip450)\" style=\"stroke:#000000; stroke-linecap:round; stroke-linejoin:round; stroke-width:4; stroke-opacity:1; fill:none\" points=\"219.033,1247.46 237.931,1247.46 \"/>\n",
       "<polyline clip-path=\"url(#clip450)\" style=\"stroke:#000000; stroke-linecap:round; stroke-linejoin:round; stroke-width:4; stroke-opacity:1; fill:none\" points=\"219.033,1188.88 237.931,1188.88 \"/>\n",
       "<polyline clip-path=\"url(#clip450)\" style=\"stroke:#000000; stroke-linecap:round; stroke-linejoin:round; stroke-width:4; stroke-opacity:1; fill:none\" points=\"219.033,1130.31 237.931,1130.31 \"/>\n",
       "<polyline clip-path=\"url(#clip450)\" style=\"stroke:#000000; stroke-linecap:round; stroke-linejoin:round; stroke-width:4; stroke-opacity:1; fill:none\" points=\"219.033,1071.73 237.931,1071.73 \"/>\n",
       "<path clip-path=\"url(#clip450)\" d=\"M116.181 1436.52 L123.82 1436.52 L123.82 1410.16 L115.51 1411.83 L115.51 1407.57 L123.774 1405.9 L128.45 1405.9 L128.45 1436.52 L136.089 1436.52 L136.089 1440.46 L116.181 1440.46 L116.181 1436.52 Z\" fill=\"#000000\" fill-rule=\"evenodd\" fill-opacity=\"1\" /><path clip-path=\"url(#clip450)\" d=\"M145.533 1434.58 L150.417 1434.58 L150.417 1440.46 L145.533 1440.46 L145.533 1434.58 Z\" fill=\"#000000\" fill-rule=\"evenodd\" fill-opacity=\"1\" /><path clip-path=\"url(#clip450)\" d=\"M173.45 1409.97 L161.644 1428.42 L173.45 1428.42 L173.45 1409.97 M172.223 1405.9 L178.102 1405.9 L178.102 1428.42 L183.033 1428.42 L183.033 1432.31 L178.102 1432.31 L178.102 1440.46 L173.45 1440.46 L173.45 1432.31 L157.848 1432.31 L157.848 1427.8 L172.223 1405.9 Z\" fill=\"#000000\" fill-rule=\"evenodd\" fill-opacity=\"1\" /><path clip-path=\"url(#clip450)\" d=\"M117.663 1377.95 L125.302 1377.95 L125.302 1351.58 L116.992 1353.25 L116.992 1348.99 L125.255 1347.33 L129.931 1347.33 L129.931 1377.95 L137.57 1377.95 L137.57 1381.89 L117.663 1381.89 L117.663 1377.95 Z\" fill=\"#000000\" fill-rule=\"evenodd\" fill-opacity=\"1\" /><path clip-path=\"url(#clip450)\" d=\"M147.015 1376.01 L151.899 1376.01 L151.899 1381.89 L147.015 1381.89 L147.015 1376.01 Z\" fill=\"#000000\" fill-rule=\"evenodd\" fill-opacity=\"1\" /><path clip-path=\"url(#clip450)\" d=\"M162.13 1347.33 L180.487 1347.33 L180.487 1351.26 L166.413 1351.26 L166.413 1359.73 Q167.431 1359.39 168.45 1359.22 Q169.468 1359.04 170.487 1359.04 Q176.274 1359.04 179.653 1362.21 Q183.033 1365.38 183.033 1370.8 Q183.033 1376.38 179.561 1379.48 Q176.089 1382.56 169.769 1382.56 Q167.593 1382.56 165.325 1382.19 Q163.079 1381.82 160.672 1381.08 L160.672 1376.38 Q162.755 1377.51 164.977 1378.07 Q167.2 1378.62 169.677 1378.62 Q173.681 1378.62 176.019 1376.51 Q178.357 1374.41 178.357 1370.8 Q178.357 1367.19 176.019 1365.08 Q173.681 1362.97 169.677 1362.97 Q167.802 1362.97 165.927 1363.39 Q164.075 1363.81 162.13 1364.69 L162.13 1347.33 Z\" fill=\"#000000\" fill-rule=\"evenodd\" fill-opacity=\"1\" /><path clip-path=\"url(#clip450)\" d=\"M116.506 1319.38 L124.144 1319.38 L124.144 1293.01 L115.834 1294.68 L115.834 1290.42 L124.098 1288.75 L128.774 1288.75 L128.774 1319.38 L136.413 1319.38 L136.413 1323.31 L116.506 1323.31 L116.506 1319.38 Z\" fill=\"#000000\" fill-rule=\"evenodd\" fill-opacity=\"1\" /><path clip-path=\"url(#clip450)\" d=\"M145.857 1317.43 L150.741 1317.43 L150.741 1323.31 L145.857 1323.31 L145.857 1317.43 Z\" fill=\"#000000\" fill-rule=\"evenodd\" fill-opacity=\"1\" /><path clip-path=\"url(#clip450)\" d=\"M171.505 1304.17 Q168.357 1304.17 166.505 1306.32 Q164.677 1308.47 164.677 1312.22 Q164.677 1315.95 166.505 1318.13 Q168.357 1320.28 171.505 1320.28 Q174.653 1320.28 176.482 1318.13 Q178.334 1315.95 178.334 1312.22 Q178.334 1308.47 176.482 1306.32 Q174.653 1304.17 171.505 1304.17 M180.788 1289.51 L180.788 1293.77 Q179.028 1292.94 177.223 1292.5 Q175.44 1292.06 173.681 1292.06 Q169.052 1292.06 166.598 1295.19 Q164.167 1298.31 163.82 1304.63 Q165.186 1302.62 167.246 1301.55 Q169.306 1300.46 171.783 1300.46 Q176.991 1300.46 180.001 1303.63 Q183.033 1306.78 183.033 1312.22 Q183.033 1317.55 179.885 1320.76 Q176.737 1323.98 171.505 1323.98 Q165.51 1323.98 162.339 1319.4 Q159.167 1314.79 159.167 1306.07 Q159.167 1297.87 163.056 1293.01 Q166.945 1288.13 173.496 1288.13 Q175.255 1288.13 177.038 1288.47 Q178.843 1288.82 180.788 1289.51 Z\" fill=\"#000000\" fill-rule=\"evenodd\" fill-opacity=\"1\" /><path clip-path=\"url(#clip450)\" d=\"M117.57 1260.8 L125.209 1260.8 L125.209 1234.44 L116.899 1236.1 L116.899 1231.84 L125.163 1230.18 L129.839 1230.18 L129.839 1260.8 L137.478 1260.8 L137.478 1264.74 L117.57 1264.74 L117.57 1260.8 Z\" fill=\"#000000\" fill-rule=\"evenodd\" fill-opacity=\"1\" /><path clip-path=\"url(#clip450)\" d=\"M146.922 1258.86 L151.806 1258.86 L151.806 1264.74 L146.922 1264.74 L146.922 1258.86 Z\" fill=\"#000000\" fill-rule=\"evenodd\" fill-opacity=\"1\" /><path clip-path=\"url(#clip450)\" d=\"M160.811 1230.18 L183.033 1230.18 L183.033 1232.17 L170.487 1264.74 L165.602 1264.74 L177.408 1234.11 L160.811 1234.11 L160.811 1230.18 Z\" fill=\"#000000\" fill-rule=\"evenodd\" fill-opacity=\"1\" /><path clip-path=\"url(#clip450)\" d=\"M116.76 1202.23 L124.399 1202.23 L124.399 1175.86 L116.089 1177.53 L116.089 1173.27 L124.353 1171.6 L129.029 1171.6 L129.029 1202.23 L136.667 1202.23 L136.667 1206.16 L116.76 1206.16 L116.76 1202.23 Z\" fill=\"#000000\" fill-rule=\"evenodd\" fill-opacity=\"1\" /><path clip-path=\"url(#clip450)\" d=\"M146.112 1200.28 L150.996 1200.28 L150.996 1206.16 L146.112 1206.16 L146.112 1200.28 Z\" fill=\"#000000\" fill-rule=\"evenodd\" fill-opacity=\"1\" /><path clip-path=\"url(#clip450)\" d=\"M171.181 1189.75 Q167.848 1189.75 165.927 1191.53 Q164.028 1193.31 164.028 1196.44 Q164.028 1199.56 165.927 1201.35 Q167.848 1203.13 171.181 1203.13 Q174.514 1203.13 176.436 1201.35 Q178.357 1199.54 178.357 1196.44 Q178.357 1193.31 176.436 1191.53 Q174.538 1189.75 171.181 1189.75 M166.505 1187.76 Q163.496 1187.02 161.806 1184.96 Q160.14 1182.9 160.14 1179.93 Q160.14 1175.79 163.079 1173.38 Q166.042 1170.98 171.181 1170.98 Q176.343 1170.98 179.283 1173.38 Q182.223 1175.79 182.223 1179.93 Q182.223 1182.9 180.533 1184.96 Q178.866 1187.02 175.88 1187.76 Q179.26 1188.55 181.135 1190.84 Q183.033 1193.13 183.033 1196.44 Q183.033 1201.46 179.954 1204.15 Q176.899 1206.83 171.181 1206.83 Q165.464 1206.83 162.385 1204.15 Q159.329 1201.46 159.329 1196.44 Q159.329 1193.13 161.227 1190.84 Q163.126 1188.55 166.505 1187.76 M164.792 1180.37 Q164.792 1183.06 166.459 1184.56 Q168.149 1186.07 171.181 1186.07 Q174.19 1186.07 175.88 1184.56 Q177.593 1183.06 177.593 1180.37 Q177.593 1177.69 175.88 1176.18 Q174.19 1174.68 171.181 1174.68 Q168.149 1174.68 166.459 1176.18 Q164.792 1177.69 164.792 1180.37 Z\" fill=\"#000000\" fill-rule=\"evenodd\" fill-opacity=\"1\" /><path clip-path=\"url(#clip450)\" d=\"M116.853 1143.65 L124.492 1143.65 L124.492 1117.29 L116.181 1118.95 L116.181 1114.69 L124.445 1113.03 L129.121 1113.03 L129.121 1143.65 L136.76 1143.65 L136.76 1147.59 L116.853 1147.59 L116.853 1143.65 Z\" fill=\"#000000\" fill-rule=\"evenodd\" fill-opacity=\"1\" /><path clip-path=\"url(#clip450)\" d=\"M146.204 1141.71 L151.089 1141.71 L151.089 1147.59 L146.204 1147.59 L146.204 1141.71 Z\" fill=\"#000000\" fill-rule=\"evenodd\" fill-opacity=\"1\" /><path clip-path=\"url(#clip450)\" d=\"M161.413 1146.87 L161.413 1142.61 Q163.172 1143.44 164.977 1143.88 Q166.783 1144.32 168.519 1144.32 Q173.149 1144.32 175.579 1141.22 Q178.033 1138.1 178.38 1131.75 Q177.038 1133.74 174.977 1134.81 Q172.917 1135.87 170.417 1135.87 Q165.232 1135.87 162.2 1132.75 Q159.19 1129.6 159.19 1124.16 Q159.19 1118.84 162.339 1115.62 Q165.487 1112.4 170.718 1112.4 Q176.714 1112.4 179.862 1117.01 Q183.033 1121.59 183.033 1130.34 Q183.033 1138.51 179.144 1143.4 Q175.278 1148.26 168.727 1148.26 Q166.968 1148.26 165.163 1147.91 Q163.357 1147.56 161.413 1146.87 M170.718 1132.22 Q173.866 1132.22 175.695 1130.06 Q177.547 1127.91 177.547 1124.16 Q177.547 1120.43 175.695 1118.28 Q173.866 1116.11 170.718 1116.11 Q167.57 1116.11 165.718 1118.28 Q163.89 1120.43 163.89 1124.16 Q163.89 1127.91 165.718 1130.06 Q167.57 1132.22 170.718 1132.22 Z\" fill=\"#000000\" fill-rule=\"evenodd\" fill-opacity=\"1\" /><path clip-path=\"url(#clip450)\" d=\"M119.885 1085.08 L136.204 1085.08 L136.204 1089.01 L114.26 1089.01 L114.26 1085.08 Q116.922 1082.32 121.505 1077.69 Q126.112 1073.04 127.292 1071.7 Q129.538 1069.17 130.417 1067.44 Q131.32 1065.68 131.32 1063.99 Q131.32 1061.23 129.376 1059.5 Q127.455 1057.76 124.353 1057.76 Q122.154 1057.76 119.7 1058.53 Q117.269 1059.29 114.492 1060.84 L114.492 1056.12 Q117.316 1054.98 119.769 1054.41 Q122.223 1053.83 124.26 1053.83 Q129.63 1053.83 132.825 1056.51 Q136.019 1059.2 136.019 1063.69 Q136.019 1065.82 135.209 1067.74 Q134.422 1069.64 132.316 1072.23 Q131.737 1072.9 128.635 1076.12 Q125.533 1079.31 119.885 1085.08 Z\" fill=\"#000000\" fill-rule=\"evenodd\" fill-opacity=\"1\" /><path clip-path=\"url(#clip450)\" d=\"M146.019 1083.13 L150.903 1083.13 L150.903 1089.01 L146.019 1089.01 L146.019 1083.13 Z\" fill=\"#000000\" fill-rule=\"evenodd\" fill-opacity=\"1\" /><path clip-path=\"url(#clip450)\" d=\"M171.089 1057.53 Q167.477 1057.53 165.649 1061.1 Q163.843 1064.64 163.843 1071.77 Q163.843 1078.87 165.649 1082.44 Q167.477 1085.98 171.089 1085.98 Q174.723 1085.98 176.528 1082.44 Q178.357 1078.87 178.357 1071.77 Q178.357 1064.64 176.528 1061.1 Q174.723 1057.53 171.089 1057.53 M171.089 1053.83 Q176.899 1053.83 179.954 1058.43 Q183.033 1063.02 183.033 1071.77 Q183.033 1080.49 179.954 1085.1 Q176.899 1089.68 171.089 1089.68 Q165.278 1089.68 162.2 1085.1 Q159.144 1080.49 159.144 1071.77 Q159.144 1063.02 162.2 1058.43 Q165.278 1053.83 171.089 1053.83 Z\" fill=\"#000000\" fill-rule=\"evenodd\" fill-opacity=\"1\" /><path clip-path=\"url(#clip450)\" d=\"M56.6478 1301.92 Q60.8023 1302.76 63.1856 1303.89 Q66.8248 1305.72 66.8248 1308.78 Q66.8248 1310.91 65.6332 1312.52 Q64.4094 1314.1 62.3804 1314.65 Q63.1856 1315.26 63.7331 1315.8 Q64.2806 1316.32 65.1179 1317.32 Q65.9231 1318.32 66.3739 1319.67 Q66.8248 1320.99 66.8248 1322.5 Q66.8248 1323.66 66.5994 1324.73 Q66.4062 1325.79 65.8587 1326.92 Q65.2789 1328.01 64.4094 1328.82 Q63.5398 1329.59 62.1228 1330.1 Q60.7057 1330.62 58.9022 1330.62 Q56.6478 1330.62 53.5882 1329.75 Q50.5287 1328.85 45.0537 1326.79 Q42.1551 1325.66 40.5448 1325.66 Q39.8041 1325.66 39.321 1325.82 Q38.8379 1325.98 38.6769 1326.3 Q38.4837 1326.59 38.4515 1326.79 Q38.3871 1326.98 38.3871 1327.3 Q38.3871 1329.3 40.416 1331.04 Q42.445 1332.78 46.5673 1333.97 Q47.3725 1334.23 47.5657 1334.39 Q47.759 1334.55 47.759 1335.03 Q47.7268 1335.84 47.0826 1335.84 Q46.825 1335.84 45.8266 1335.55 Q44.796 1335.26 43.2823 1334.58 Q41.7365 1333.87 40.3516 1332.91 Q38.9346 1331.94 37.9362 1330.43 Q36.9378 1328.88 36.9378 1327.11 Q36.9378 1324.69 38.5159 1323.21 Q40.0618 1321.7 42.3484 1321.7 Q43.7654 1321.7 46.5029 1322.83 Q56.0037 1326.4 59.965 1326.4 Q65.3434 1326.4 65.3434 1322.31 Q65.3434 1320.96 64.7959 1319.7 Q64.2484 1318.41 63.4754 1317.58 Q62.7025 1316.74 61.8651 1316.09 Q61.0278 1315.42 60.4803 1315.13 Q59.9328 1314.81 59.804 1314.77 L39.9651 1309.85 Q39.1922 1309.65 38.6769 1309.3 Q38.1294 1308.91 37.9362 1308.46 Q37.7429 1308.01 37.7107 1307.75 Q37.6463 1307.5 37.6463 1307.27 Q37.6463 1306.46 38.1294 1305.92 Q38.6125 1305.34 39.4498 1305.34 Q39.6109 1305.34 40.3838 1305.53 Q41.1246 1305.69 42.2196 1305.95 Q43.2823 1306.21 43.8621 1306.34 Q47.92 1307.37 48.3387 1307.46 L55.4562 1309.3 Q55.8748 1309.4 57.2275 1309.72 Q58.5801 1310.01 59.2887 1310.17 Q59.965 1310.33 60.899 1310.49 Q61.8007 1310.62 62.316 1310.62 Q63.9263 1310.62 64.6348 1310.14 Q65.3434 1309.65 65.3434 1308.59 Q65.3434 1307.59 64.667 1306.82 Q63.9585 1306.01 62.6059 1305.4 Q61.221 1304.79 60.0938 1304.44 Q58.9666 1304.08 57.1953 1303.63 Q56.4223 1303.47 56.2291 1303.34 Q56.0037 1303.18 56.0037 1302.73 Q56.0037 1301.92 56.6478 1301.92 Z\" fill=\"#000000\" fill-rule=\"evenodd\" fill-opacity=\"1\" /><path clip-path=\"url(#clip450)\" d=\"M82.5735 1246.19 L16.6159 1246.19 L16.6159 1236.24 L18.1296 1236.24 L18.1296 1241.78 L81.0598 1241.78 L81.0598 1236.24 L82.5735 1236.24 L82.5735 1246.19 Z\" fill=\"#000000\" fill-rule=\"evenodd\" fill-opacity=\"1\" /><path clip-path=\"url(#clip450)\" d=\"M48.6607 1184.5 Q49.0472 1184.11 49.5947 1184.11 Q50.1422 1184.11 50.5287 1184.5 Q50.9151 1184.88 50.9151 1185.43 L50.9151 1226.72 Q50.9151 1227.27 50.5287 1227.65 Q50.1422 1228.04 49.5947 1228.04 Q49.0472 1228.04 48.6607 1227.65 Q48.2743 1227.27 48.2743 1226.72 L48.2743 1185.43 Q48.2743 1184.88 48.6607 1184.5 Z\" fill=\"#000000\" fill-rule=\"evenodd\" fill-opacity=\"1\" /><path clip-path=\"url(#clip450)\" d=\"M81.0598 1177.23 L81.0598 1171.69 L18.1296 1171.69 L18.1296 1177.23 L16.6159 1177.23 L16.6159 1167.27 L82.5735 1167.27 L82.5735 1177.23 L81.0598 1177.23 Z\" fill=\"#000000\" fill-rule=\"evenodd\" fill-opacity=\"1\" /><polyline clip-path=\"url(#clip455)\" style=\"stroke:#000000; stroke-linecap:round; stroke-linejoin:round; stroke-width:4; stroke-opacity:1; fill:none\" stroke-dasharray=\"2, 4\" points=\"279.421,837.434 356.842,837.434 434.263,837.434 511.684,837.434 589.105,837.434 666.526,837.434 743.947,837.434 821.368,837.434 898.789,837.434 976.21,837.434 1053.63,837.434 1131.05,837.434 1208.47,837.434 1285.89,837.434 1363.32,837.434 1440.74,837.434 1518.16,837.434 1595.58,837.434 1673,837.434 1750.42,837.434 1827.84,837.434 1905.26,837.434 1982.68,837.434 2060.1,837.434 2137.53,837.434 2214.95,837.434 2292.37,837.434 \"/>\n",
       "<circle clip-path=\"url(#clip455)\" cx=\"279.421\" cy=\"1285.43\" r=\"10.8\" fill=\"#000000\" fill-rule=\"evenodd\" fill-opacity=\"1\" stroke=\"none\"/>\n",
       "<polyline clip-path=\"url(#clip455)\" style=\"stroke:#000000; stroke-linecap:round; stroke-linejoin:round; stroke-width:12; stroke-opacity:1; fill:none\" points=\"279.421,1285.43 279.421,1037.47 356.842,1037.47 356.842,912.526 434.263,912.526 434.263,858.018 511.684,858.018 511.684,889.238 589.105,889.238 589.105,952.229 666.526,952.229 666.526,995.409 743.947,995.409 743.947,1017.79 821.368,1017.79 821.368,1019.69 898.789,1019.69 898.789,1000.93 976.21,1000.93 976.21,976.009 1053.63,976.009 1053.63,1004.28 1131.05,1004.28 1131.05,1001.32 1208.47,1001.32 1208.47,993.035 1285.89,993.035 1285.89,999.339 1363.32,999.339 1363.32,996.842 1440.74,996.842 1440.74,997.455 1518.16,997.455 1518.16,997.354 1595.58,997.354 1595.58,997.371 1673,997.371 1673,997.368 1750.42,997.368 1827.84,997.368 1905.26,997.368 1982.68,997.368 2060.1,997.368 2137.53,997.368 2214.95,997.368 2292.37,997.368 \"/>\n",
       "<path clip-path=\"url(#clip455)\" d=\"M267.421 1273.43 L267.421 1297.43 L291.421 1297.43 L291.421 1273.43 L267.421 1273.43 Z\" fill=\"#000000\" fill-rule=\"evenodd\" fill-opacity=\"1\" stroke=\"none\"/>\n",
       "<polyline clip-path=\"url(#clip455)\" style=\"stroke:#000000; stroke-linecap:round; stroke-linejoin:round; stroke-width:12; stroke-opacity:1; fill:none\" stroke-dasharray=\"48, 24, 6, 24\" points=\"279.421,1285.43 279.421,1037.47 356.842,1037.47 356.842,912.526 434.263,912.526 434.263,858.018 511.684,858.018 511.684,889.238 589.105,889.238 589.105,952.229 666.526,952.229 666.526,995.409 743.947,995.409 743.947,1017.79 821.368,1017.79 821.368,1019.69 898.789,1019.69 898.789,1000.93 976.21,1000.93 976.21,976.006 1053.63,976.006 1053.63,1004.28 1131.05,1004.28 1131.05,1001.33 1208.47,1001.33 1208.47,993.005 1285.89,993.005 1285.89,999.38 1363.32,999.38 1363.32,996.806 1440.74,996.806 1440.74,997.478 1518.16,997.478 1518.16,997.344 1595.58,997.344 1595.58,997.374 1673,997.374 1673,997.368 1750.42,997.368 1827.84,997.368 1905.26,997.368 1982.68,997.368 2060.1,997.368 2137.53,997.368 2214.95,997.368 2292.37,997.368 \"/>\n",
       "</svg>\n"
      ]
     },
     "execution_count": 30,
     "metadata": {},
     "output_type": "execute_result"
    }
   ],
   "source": [
    "plot_comp((1.4,2.0),L\"u \\quad [-]\",2,ts,uTraj,uMax)"
   ]
  },
  {
   "cell_type": "markdown",
   "id": "41cb96ae",
   "metadata": {},
   "source": [
    "Creating table to show the results"
   ]
  },
  {
   "cell_type": "code",
   "execution_count": 31,
   "id": "3ce63e67",
   "metadata": {},
   "outputs": [
    {
     "ename": "LoadError",
     "evalue": "UndefVarError: solTimeTraj_r not defined",
     "output_type": "error",
     "traceback": [
      "UndefVarError: solTimeTraj_r not defined",
      "",
      "Stacktrace:",
      " [1] top-level scope",
      "   @ .\\In[31]:37"
     ]
    }
   ],
   "source": [
    "# Scenarios\n",
    "table_iter = Any[]\n",
    "table_solTime_M = Any[]\n",
    "table_solTime_D = Any[]\n",
    "table_solMax = Any[]\n",
    "table_of_M = Any[]\n",
    "table_of_D = Any[]\n",
    "table_perChange = Any[]\n",
    "\n",
    "for tt in [5 10 15 20 25 30 40 50] \n",
    "    push!(table_iter, tt)\n",
    "    push!(table_solTime_M, solTimeTraj_s[1,tt])\n",
    "    push!(table_solTime_D, solTimeTraj_s[2,tt])\n",
    "    push!(table_solMax, solTimeMaxTraj_s[tt])\n",
    "    push!(table_of_M, solObjTraj_s[1,tt])\n",
    "    push!(table_of_D, solObjTraj_s[2,tt])\n",
    "    push!(table_perChange, (solObjTraj_s[2,tt] - solObjTraj_s[1,tt])/solObjTraj_s[1,tt])\n",
    "end\n",
    "\n",
    "df_scen = DataFrame(; iter = table_iter, \n",
    "                sol_time_M = table_solTime_M, \n",
    "                 sol_time_D = table_solTime_D,\n",
    "                 sol_time_D_max = table_solMax,\n",
    "                 comp_of_M = table_of_M,\n",
    "                 comp_of_D = table_of_D,\n",
    "                 per_change = table_perChange)\n",
    "\n",
    "table_iter = Any[]\n",
    "table_solTime_M = Any[]\n",
    "table_solTime_D = Any[]\n",
    "table_of_M = Any[]\n",
    "table_of_D = Any[]\n",
    "table_perChange = Any[]\n",
    "\n",
    "for tt in [5 10 15 20 25 30 40 50] \n",
    "    push!(table_iter, tt)\n",
    "    push!(table_solTime_M, solTimeTraj_r[1,tt])\n",
    "    push!(table_solTime_D, solTimeTraj_r[2,tt])\n",
    "    push!(table_of_M, solObjTraj_r[1,tt])\n",
    "    push!(table_of_D, solObjTraj_r[2,tt])\n",
    "    push!(table_perChange, (solObjTraj_r[2,tt] - solObjTraj_r[1,tt])/solObjTraj_r[1,tt])\n",
    "end\n",
    "\n",
    "df_reac = DataFrame(; iter = table_iter, \n",
    "                sol_time_M = table_solTime_M, \n",
    "                 sol_time_D = table_solTime_D,\n",
    "                 comp_of_M = table_of_M,\n",
    "                 comp_of_D = table_of_D,\n",
    "                 per_change = table_perChange);"
   ]
  },
  {
   "cell_type": "code",
   "execution_count": 32,
   "id": "44fda462",
   "metadata": {},
   "outputs": [
    {
     "data": {
      "text/plain": [
       "\"Analysis: # of Scenarios\""
      ]
     },
     "metadata": {},
     "output_type": "display_data"
    },
    {
     "data": {
      "text/html": [
       "<div><div style = \"float: left;\"><span>8×7 DataFrame</span></div><div style = \"clear: both;\"></div></div><div class = \"data-frame\" style = \"overflow-x: scroll;\"><table class = \"data-frame\" style = \"margin-bottom: 6px;\"><thead><tr class = \"header\"><th class = \"rowNumber\" style = \"font-weight: bold; text-align: right;\">Row</th><th style = \"text-align: left;\">iter</th><th style = \"text-align: left;\">sol_time_M</th><th style = \"text-align: left;\">sol_time_D</th><th style = \"text-align: left;\">sol_time_D_max</th><th style = \"text-align: left;\">comp_of_M</th><th style = \"text-align: left;\">comp_of_D</th><th style = \"text-align: left;\">per_change</th></tr><tr class = \"subheader headerLastRow\"><th class = \"rowNumber\" style = \"font-weight: bold; text-align: right;\"></th><th title = \"Any\" style = \"text-align: left;\">Any</th><th title = \"Any\" style = \"text-align: left;\">Any</th><th title = \"Any\" style = \"text-align: left;\">Any</th><th title = \"Any\" style = \"text-align: left;\">Any</th><th title = \"Any\" style = \"text-align: left;\">Any</th><th title = \"Any\" style = \"text-align: left;\">Any</th><th title = \"Any\" style = \"text-align: left;\">Any</th></tr></thead><tbody><tr><td class = \"rowNumber\" style = \"font-weight: bold; text-align: right;\">1</td><td style = \"text-align: left;\">5</td><td style = \"text-align: left;\">1.23933e-311</td><td style = \"text-align: left;\">1.23933e-311</td><td style = \"text-align: left;\">6.95307e-310</td><td style = \"text-align: left;\">1.23934e-311</td><td style = \"text-align: left;\">1.23934e-311</td><td style = \"text-align: left;\">-2.09889e-7</td></tr><tr><td class = \"rowNumber\" style = \"font-weight: bold; text-align: right;\">2</td><td style = \"text-align: left;\">10</td><td style = \"text-align: left;\">1.23933e-311</td><td style = \"text-align: left;\">1.23933e-311</td><td style = \"text-align: left;\">6.95307e-310</td><td style = \"text-align: left;\">1.23934e-311</td><td style = \"text-align: left;\">1.23934e-311</td><td style = \"text-align: left;\">3.01279e-7</td></tr><tr><td class = \"rowNumber\" style = \"font-weight: bold; text-align: right;\">3</td><td style = \"text-align: left;\">15</td><td style = \"text-align: left;\">1.23933e-311</td><td style = \"text-align: left;\">1.23933e-311</td><td style = \"text-align: left;\">6.95307e-310</td><td style = \"text-align: left;\">1.23934e-311</td><td style = \"text-align: left;\">1.23934e-311</td><td style = \"text-align: left;\">-2.09583e-7</td></tr><tr><td class = \"rowNumber\" style = \"font-weight: bold; text-align: right;\">4</td><td style = \"text-align: left;\">20</td><td style = \"text-align: left;\">1.23933e-311</td><td style = \"text-align: left;\">1.23933e-311</td><td style = \"text-align: left;\">6.95307e-310</td><td style = \"text-align: left;\">1.23934e-311</td><td style = \"text-align: left;\">1.23934e-311</td><td style = \"text-align: left;\">2.0943e-7</td></tr><tr><td class = \"rowNumber\" style = \"font-weight: bold; text-align: right;\">5</td><td style = \"text-align: left;\">25</td><td style = \"text-align: left;\">1.23933e-311</td><td style = \"text-align: left;\">1.23933e-311</td><td style = \"text-align: left;\">6.95307e-310</td><td style = \"text-align: left;\">1.23934e-311</td><td style = \"text-align: left;\">1.23934e-311</td><td style = \"text-align: left;\">1.27569e-11</td></tr><tr><td class = \"rowNumber\" style = \"font-weight: bold; text-align: right;\">6</td><td style = \"text-align: left;\">30</td><td style = \"text-align: left;\">1.23933e-311</td><td style = \"text-align: left;\">1.23933e-311</td><td style = \"text-align: left;\">6.95307e-310</td><td style = \"text-align: left;\">6.95307e-310</td><td style = \"text-align: left;\">1.23936e-311</td><td style = \"text-align: left;\">-0.982175</td></tr><tr><td class = \"rowNumber\" style = \"font-weight: bold; text-align: right;\">7</td><td style = \"text-align: left;\">40</td><td style = \"text-align: left;\">1.23933e-311</td><td style = \"text-align: left;\">1.23933e-311</td><td style = \"text-align: left;\">6.95307e-310</td><td style = \"text-align: left;\">1.23936e-311</td><td style = \"text-align: left;\">1.23934e-311</td><td style = \"text-align: left;\">-1.44585e-5</td></tr><tr><td class = \"rowNumber\" style = \"font-weight: bold; text-align: right;\">8</td><td style = \"text-align: left;\">50</td><td style = \"text-align: left;\">0.0</td><td style = \"text-align: left;\">1.23933e-311</td><td style = \"text-align: left;\">6.95307e-310</td><td style = \"text-align: left;\">1.23934e-311</td><td style = \"text-align: left;\">1.23936e-311</td><td style = \"text-align: left;\">1.42501e-5</td></tr></tbody></table></div>"
      ],
      "text/latex": [
       "\\begin{tabular}{r|ccccccc}\n",
       "\t& iter & sol\\_time\\_M & sol\\_time\\_D & sol\\_time\\_D\\_max & comp\\_of\\_M & comp\\_of\\_D & per\\_change\\\\\n",
       "\t\\hline\n",
       "\t& Any & Any & Any & Any & Any & Any & Any\\\\\n",
       "\t\\hline\n",
       "\t1 & 5 & 1.23933e-311 & 1.23933e-311 & 6.95307e-310 & 1.23934e-311 & 1.23934e-311 & -2.09889e-7 \\\\\n",
       "\t2 & 10 & 1.23933e-311 & 1.23933e-311 & 6.95307e-310 & 1.23934e-311 & 1.23934e-311 & 3.01279e-7 \\\\\n",
       "\t3 & 15 & 1.23933e-311 & 1.23933e-311 & 6.95307e-310 & 1.23934e-311 & 1.23934e-311 & -2.09583e-7 \\\\\n",
       "\t4 & 20 & 1.23933e-311 & 1.23933e-311 & 6.95307e-310 & 1.23934e-311 & 1.23934e-311 & 2.0943e-7 \\\\\n",
       "\t5 & 25 & 1.23933e-311 & 1.23933e-311 & 6.95307e-310 & 1.23934e-311 & 1.23934e-311 & 1.27569e-11 \\\\\n",
       "\t6 & 30 & 1.23933e-311 & 1.23933e-311 & 6.95307e-310 & 6.95307e-310 & 1.23936e-311 & -0.982175 \\\\\n",
       "\t7 & 40 & 1.23933e-311 & 1.23933e-311 & 6.95307e-310 & 1.23936e-311 & 1.23934e-311 & -1.44585e-5 \\\\\n",
       "\t8 & 50 & 0.0 & 1.23933e-311 & 6.95307e-310 & 1.23934e-311 & 1.23936e-311 & 1.42501e-5 \\\\\n",
       "\\end{tabular}\n"
      ],
      "text/plain": [
       "\u001b[1m8×7 DataFrame\u001b[0m\n",
       "\u001b[1m Row \u001b[0m│\u001b[1m iter \u001b[0m\u001b[1m sol_time_M   \u001b[0m\u001b[1m sol_time_D   \u001b[0m\u001b[1m sol_time_D_max \u001b[0m\u001b[1m comp_of_M    \u001b[0m\u001b[1m comp_of\u001b[0m ⋯\n",
       "     │\u001b[90m Any  \u001b[0m\u001b[90m Any          \u001b[0m\u001b[90m Any          \u001b[0m\u001b[90m Any            \u001b[0m\u001b[90m Any          \u001b[0m\u001b[90m Any    \u001b[0m ⋯\n",
       "─────┼──────────────────────────────────────────────────────────────────────────\n",
       "   1 │ 5     1.23933e-311  1.23933e-311  6.95307e-310    1.23934e-311  1.23934 ⋯\n",
       "   2 │ 10    1.23933e-311  1.23933e-311  6.95307e-310    1.23934e-311  1.23934\n",
       "   3 │ 15    1.23933e-311  1.23933e-311  6.95307e-310    1.23934e-311  1.23934\n",
       "   4 │ 20    1.23933e-311  1.23933e-311  6.95307e-310    1.23934e-311  1.23934\n",
       "   5 │ 25    1.23933e-311  1.23933e-311  6.95307e-310    1.23934e-311  1.23934 ⋯\n",
       "   6 │ 30    1.23933e-311  1.23933e-311  6.95307e-310    6.95307e-310  1.23936\n",
       "   7 │ 40    1.23933e-311  1.23933e-311  6.95307e-310    1.23936e-311  1.23934\n",
       "   8 │ 50    0.0           1.23933e-311  6.95307e-310    1.23934e-311  1.23936\n",
       "\u001b[36m                                                               2 columns omitted\u001b[0m"
      ]
     },
     "metadata": {},
     "output_type": "display_data"
    },
    {
     "data": {
      "text/plain": [
       "\"Analysis: # of Reactors\""
      ]
     },
     "metadata": {},
     "output_type": "display_data"
    },
    {
     "ename": "LoadError",
     "evalue": "UndefVarError: df_reac not defined",
     "output_type": "error",
     "traceback": [
      "UndefVarError: df_reac not defined",
      "",
      "Stacktrace:",
      " [1] top-level scope",
      "   @ In[32]:5"
     ]
    }
   ],
   "source": [
    "display(\"Analysis: # of Scenarios\")\n",
    "display(df_scen)\n",
    "\n",
    "display(\"Analysis: # of Reactors\")\n",
    "display(df_reac)"
   ]
  },
  {
   "cell_type": "code",
   "execution_count": null,
   "id": "fe78fd26",
   "metadata": {},
   "outputs": [],
   "source": []
  }
 ],
 "metadata": {
  "kernelspec": {
   "display_name": "Julia 1.8.5",
   "language": "julia",
   "name": "julia-1.8"
  },
  "language_info": {
   "file_extension": ".jl",
   "mimetype": "application/julia",
   "name": "julia",
   "version": "1.8.5"
  }
 },
 "nbformat": 4,
 "nbformat_minor": 5
}
