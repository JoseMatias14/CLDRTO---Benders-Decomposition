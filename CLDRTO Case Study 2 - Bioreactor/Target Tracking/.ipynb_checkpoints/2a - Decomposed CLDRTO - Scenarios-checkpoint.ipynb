{
 "cells": [
  {
   "cell_type": "markdown",
   "id": "39bb43e3",
   "metadata": {},
   "source": [
    "- **This code computes the decomposed solution of a Closed-Loop DRTO problem.**\n",
    "- Using tracking objective function\n",
    "- The underlying control structure (modeled in the CLDRTO model) is an MPC, which can is solved using three different strategies: 1. unconstrained, 2. constrained using binaries, and 3. constrained using MPCC N.B.:strategy 2 not working\n",
    "- The problem is posed as a scenario-based stochastic programming problem\n",
    "- The case study is an affine multiple parallel bioreactor system from:*Gao, Ling. \"Modeling and dynamics analyses of immobilized CSTR bioreactor using transfer function model.\" 2012 International Symposium on Information Technologies in Medicine and Education. Vol. 2. IEEE, 2012.*\n",
    "- The uncertainty represented by the scenarios comes from the maximum specific growth rate (V_m) --> see matlab file\n",
    "- We study the impact of the increase in the number of scenarios\n",
    "\n",
    "AUTHOR: Jose Matias <assumpcj@mcmaster.ca>\n",
    "DATE: May 2023"
   ]
  },
  {
   "cell_type": "code",
   "execution_count": 1,
   "id": "67ea638f",
   "metadata": {},
   "outputs": [],
   "source": [
    "using LinearAlgebra, JuMP, CPLEX, Ipopt, Plots, CSV, DataFrames, Distributions, LaTeXStrings"
   ]
  },
  {
   "cell_type": "markdown",
   "id": "b2933767",
   "metadata": {},
   "source": [
    "# Bioreactor Model\n",
    "\n",
    "$\\dfrac{d C}{d t} = D (C_{in} - C) - \\dfrac{V_m C}{(K_s + C)} $ <br>\n",
    "$ \\dfrac{d P}{d t} = \\dfrac{V_m C}{(K_s + C)} - DP $ <br>\n",
    "\n",
    "where, <br>\n",
    "$t$: time in hours \\[h\\] <br>\n",
    "$C$: concentration of reactant (substrate) \\[g/L\\] <br>\n",
    "$P$: concentration of product (biomass) \\[g/L\\] <br>\n",
    "$C_{in}$: inlet concentration of substrate \\[g/L\\] <br>\n",
    "$D$: ratio of flowrate to reactor volume \\[1/h\\] <br>\n",
    "$V_m$: maximum reaction rate \\[g/(h L)\\] <br> \n",
    "$K_s$: reaction constant \\[g/L\\] <br>\n",
    "\n",
    "- System measurement ($y$) - product concentration $P$ <br>\n",
    "- System inputs ($u$) - inlet reactant concentration $C_{in}$ <br>\n",
    "- Uncertain parameters ($\\theta$) - maximum reaction rate $V_m$"
   ]
  },
  {
   "cell_type": "code",
   "execution_count": 2,
   "id": "cb37bc36",
   "metadata": {},
   "outputs": [],
   "source": [
    "# Sampling time\n",
    "T = 1 #[h]\n",
    "\n",
    "# Number of manipulated inputs\n",
    "nu = 1\n",
    "# Number of controlled outputs\n",
    "ny = 1\n",
    "\n",
    "# setting bounds (all arbitrary - not in deviation form!!) \n",
    "uMax = 2.4 # for tight constraints: 1.9 | for loose constraints: 5.0\n",
    "uMin = 0.0;\n",
    "\n",
    "yspMax = 1.2 \n",
    "yspMin = 0.0;"
   ]
  },
  {
   "cell_type": "markdown",
   "id": "06d023cd",
   "metadata": {},
   "source": [
    "# Building affine CL-DRTO models\n",
    "\n",
    "## Model linearization\n",
    "- linearization is done using Matlab's functions ss and c2d (see BioReactorLinearization.m)\n",
    "- sample time $\\Delta t$ is consider as 1h\n",
    "- linearization around point: $V_m = 0.5$ \\[g/(h L)\\], $K_s = 0.2$ \\[g/L\\], $D = 0.5$ \\[1/h\\], $C_{in,0} = 1$ \\[g/L\\], $C_{0} = 0.358$ \\[g/L\\], and $P_{0} = 0.642$ \\[g/L\\]\n",
    "\n",
    "which leads to: <br>\n",
    "$\\bar{x}_{k+1} = A \\bar{x}_k + B \\bar{u}_k$ <br>\n",
    "$\\bar{y}_k = C \\bar{u}_k$\n",
    "\n",
    "where, <br>\n",
    "$\\bar{x} = \\begin{bmatrix}\n",
    "\\bar{C}\\\\\n",
    "\\bar{P}\n",
    "\\end{bmatrix} =\n",
    "\\begin{bmatrix}\n",
    "C - C_0\\\\\n",
    "P - P_0\n",
    "\\end{bmatrix}$<br>\n",
    "$\\bar{u} = \\bar{C}_{in} = C_{in} - C_{in,0}$<br>\n",
    "$\\bar{y} = \\bar{P} = P - P_0$"
   ]
  },
  {
   "cell_type": "code",
   "execution_count": 3,
   "id": "06719deb",
   "metadata": {},
   "outputs": [],
   "source": [
    "# Linearization point\n",
    "u0 = 1.5\n",
    "x0 = [0.7179;0.7821]\n",
    "y0 = 0.7821\n",
    "\n",
    "# 100 pre-computed models based on parametric uncertainty Vm (computed using matlab: BioReactorLinearization.m)\n",
    "bioModels = CSV.read(\"C:\\\\Users\\\\MACC-Jose\\\\Documents\\\\GitHub\\\\BD\\\\CLDRTO Case Study 2 - Bioreactor\\\\BioreactorModel\", DataFrame; header=false);\n",
    "#print(bioModels)"
   ]
  },
  {
   "cell_type": "markdown",
   "id": "8c5197b2",
   "metadata": {},
   "source": [
    "CL-DRTO configuration"
   ]
  },
  {
   "cell_type": "code",
   "execution_count": 4,
   "id": "ad40ad5c",
   "metadata": {},
   "outputs": [],
   "source": [
    "# DRTO sampling time\n",
    "nDRTO = 4 # [h]\n",
    "# Prediction horizon\n",
    "pD = 20 + (8 - 1)# p = 8 *controller horizon  \n",
    "# Input control horizon \n",
    "mD = 20\n",
    "# Objective function: target tracking (deviation form)\n",
    "pTrack = 1 - y0 # [g/L]\n",
    "# Soft upper bounds on P weight (deviation form)\n",
    "pUB = 1.05 - y0 # [g/L]\n",
    "# objective function weight for P penalization term \n",
    "wP = 100;"
   ]
  },
  {
   "cell_type": "markdown",
   "id": "27186ab9",
   "metadata": {},
   "source": [
    "DRTO model changes with the number of scenarios and parallel reactors"
   ]
  },
  {
   "cell_type": "code",
   "execution_count": 5,
   "id": "57ec4745",
   "metadata": {},
   "outputs": [],
   "source": [
    "function DRTO_matrices(nReactors,nScenarios)\n",
    "    # ATTENTION: Used for the monolithic solution. Generates an array of models\n",
    "    # Several different models were already computed offline and saved in the \"bioModel\" array\n",
    "    # This function extracts the models based on a fixed index grid that is generated based on the number of scenarios\n",
    "    \n",
    "    ###########\n",
    "    # inputs: #\n",
    "    ###########\n",
    "    # nReactors - number of reactors in parallel\n",
    "    # nScenarios - number of scenarios used in the stochastic optimization\n",
    "    \n",
    "    # picking up indexes equally spaced between 1 and 100 (including initial and end point) \n",
    "    # based on the desired number of scenarios\n",
    "    if nScenarios == 1\n",
    "        indexScen = 50 # nominal model --> index = 50\n",
    "    else\n",
    "        indexScen = [floor(Int, 1 + (ii - 1)*(100-1)/(nScenarios-1)) for ii in 1:nScenarios]\n",
    "    end\n",
    "    \n",
    "    # building DRTO model\n",
    "    A_drto = Array{Float64}(undef,nx,nx,nScenarios) \n",
    "    B_drto = Array{Float64}(undef,nx,nu,nScenarios) \n",
    "\n",
    "    for kk in 1:nScenarios\n",
    "\n",
    "        index_temp = indexScen[kk]\n",
    "\n",
    "        A_drto[:,:,kk] = kron(I(nReactors),Matrix(bioModels[2*(index_temp - 1) + 1:2*(index_temp - 1) + 2,1:2]))\n",
    "        B_drto[:,:,kk] = repeat(bioModels[2*(index_temp - 1) + 1:2*(index_temp - 1) + 2,3], outer = [nReactors, 1, 1])\n",
    "\n",
    "    end\n",
    "\n",
    "    # mapping states to measurements is the same for all models\n",
    "    C_drto = repeat([0 1/nReactors], outer = [1, nReactors])\n",
    "    \n",
    "    return Dict('A' => A_drto, 'B' => B_drto, 'C' => C_drto)\n",
    "end;"
   ]
  },
  {
   "cell_type": "code",
   "execution_count": 6,
   "id": "0968ca7b",
   "metadata": {},
   "outputs": [],
   "source": [
    "function DRTO_matrix(nReactors,nScenario,nScenTotal)\n",
    "    # ATTENTION: Used for the decomposed solution. Generates a single model\n",
    "    # Several different models were already computed offline and saved in the \"bioModel\" array\n",
    "    # This function extracts the model of interest based on the index \"nScenario\"\n",
    "  \n",
    "    ###########\n",
    "    # inputs: #\n",
    "    ###########\n",
    "    # nReactors - number of reactors in parallel\n",
    "    # nScenario - index the of scenario used in the stochastic optimization\n",
    "    # nScenTotal - total number of scenario used in the stochastic optimization\n",
    "    \n",
    "    if nScenTotal == 1\n",
    "        index_temp = 50 # nominal model --> index = 50\n",
    "    else\n",
    "        indexScen = [floor(Int, 1 + (ii - 1)*(100-1)/(nScenTotal-1)) for ii in 1:nScenTotal]\n",
    "        index_temp = indexScen[nScenario]\n",
    "    end\n",
    "  \n",
    "    # building DRTO model\n",
    "    A_drto = kron(I(nReactors),Matrix(bioModels[2*(index_temp - 1) + 1:2*(index_temp - 1) + 2,1:2]))\n",
    "    B_drto = repeat(bioModels[2*(index_temp - 1) + 1:2*(index_temp - 1) + 2,3], outer = [nReactors, 1, 1])\n",
    "\n",
    "    # mapping states to measurements is the same for all models\n",
    "    C_drto = repeat([0 1/nReactors], outer = [1, nReactors]);\n",
    "    \n",
    "    return Dict('A' => A_drto, 'B' => B_drto, 'C' => C_drto)\n",
    "end;"
   ]
  },
  {
   "cell_type": "markdown",
   "id": "66f4ef3c",
   "metadata": {},
   "source": [
    "# Building MPC model\n",
    "\n",
    "Controller configuration"
   ]
  },
  {
   "cell_type": "code",
   "execution_count": 7,
   "id": "54509748",
   "metadata": {},
   "outputs": [],
   "source": [
    "# MPC sampling time\n",
    "nMPC = 1 # [h]\n",
    "\n",
    "# Controller configuration\n",
    "# Output prediction horizon\n",
    "p = 8\n",
    "# Input control horizon \n",
    "m = 2\n",
    "# Output weights\n",
    "q = 1\n",
    "# Input weights \n",
    "r = 1;"
   ]
  },
  {
   "cell_type": "markdown",
   "id": "dbffeddf",
   "metadata": {},
   "source": [
    "Notes:\n",
    "- Using nominal model(indexScen = 50)\n",
    "- For the description of how the MPC matrices (with disturbance model) are built, check script: *CLDRTO with unconstrained MPC - uncertain plant test*"
   ]
  },
  {
   "cell_type": "code",
   "execution_count": 8,
   "id": "1f3177a8",
   "metadata": {},
   "outputs": [],
   "source": [
    "function MPC_matrices(nReactors)\n",
    "    ###########\n",
    "    # inputs: #\n",
    "    ###########\n",
    "    # nReactors - number of reactors in parallel\n",
    "    \n",
    "    # extracting the matrices from the model array computed previously\n",
    "    nNom = 50 # nominal model --> index = 50\n",
    "    \n",
    "    A = kron(I(nReactors),Matrix(bioModels[2*(nNom - 1) + 1:2*(nNom - 1) + 2,1:2])) \n",
    "    B = repeat(bioModels[2*(nNom - 1) + 1:2*(nNom - 1) + 2,3], outer = [nReactors, 1])\n",
    "    C = repeat([0 1/nReactors], outer = [1, nReactors])\n",
    "    \n",
    "    # adding disturbance model\n",
    "    Ad = [A zeros(nx,ny); zeros(ny,nx) I(ny)]\n",
    "    Bd = [B; zeros(ny,nu)]\n",
    "    Cd = [C ones(ny,ny)]\n",
    "    \n",
    "    # building matrices for MPC\n",
    "    Psi = Cd*Ad\n",
    "    for ii in 2:p\n",
    "        Psi = [Psi;  Cd*Ad^ii]\n",
    "    end\n",
    "\n",
    "    # Computing Dynamic Matrix\n",
    "    a = Cd*Bd\n",
    "    for ii in 2:p\n",
    "        a = [a; Cd*Ad^(ii - 1)*Bd]\n",
    "    end\n",
    "    DynM = a\n",
    "\n",
    "    for ii in 1:(m - 2)\n",
    "        a = [zeros(ny,nu);a[1:(p-1)*ny,:]]\n",
    "        DynM = [DynM  a]\n",
    "    end\n",
    "\n",
    "    # adjusting dynamic matrix for since p > m (last column)\n",
    "    b = Cd*Bd\n",
    "\n",
    "    Ai = I(nx+1) # adding disturbance to the states\n",
    "    for ii = 1:(p - m)\n",
    "        Ai = Ai + Ad^ii\n",
    "        b = [b;Cd*Ai*Bd]\n",
    "    end\n",
    "\n",
    "    Theta=[DynM [zeros(ny*(m-1),nu);b]]\n",
    "    \n",
    "    # Creating Qbar and Rbar matrices\n",
    "    Qbar = Diagonal([q for ii in 1:p])\n",
    "    Rbar = Diagonal([r for ii in 1:m])\n",
    "\n",
    "    # Creating input movement OF penalty matrix \n",
    "    M=[zeros((m-1)*nu,nu) I(nu*(m-1)); zeros(nu) zeros(nu,nu*(m-1))]\n",
    "    Ibar=[I(nu); zeros(nu*(m-1),nu)]\n",
    "    IM = I(nu*m) - M';\n",
    "    \n",
    "    # Matrix H\n",
    "    H = Theta'*Qbar*Theta + IM'*Rbar*IM;\n",
    "    \n",
    "    return Dict('A' => A, 'B' => B, 'C' => C, 'H' => H, 'Θ' => Theta, 'Ψ' => Psi, 'Q' => Qbar, 'I' => Ibar, 'R' => Rbar, 'M' => IM)\n",
    "end;"
   ]
  },
  {
   "cell_type": "markdown",
   "id": "ab17a7c4",
   "metadata": {},
   "source": [
    "# Solving CL-DRTO Multiscenario Problem (monolithic)\n",
    " - Check details in script *Monolithic CLDRTO*\n",
    " - For the description of the different solution strategies, check *Different Strategies to solve constrained MPC within CLDRTO*"
   ]
  },
  {
   "cell_type": "code",
   "execution_count": 9,
   "id": "74dd560e",
   "metadata": {},
   "outputs": [],
   "source": [
    "# Parameters for MPC solution\n",
    "# matrix to compute the gradients of the input bound constraints\n",
    "conMatrix = [I(m); -I(m)]; \n",
    "\n",
    "# big-M implementation\n",
    "bigM_mu = 10000#1000\n",
    "bigM_u = 10000#100\n",
    "\n",
    "# weight complementarity relaxation OF term\n",
    "pi_bar = 10^2; # 10^2"
   ]
  },
  {
   "cell_type": "code",
   "execution_count": 10,
   "id": "e5486fc7",
   "metadata": {},
   "outputs": [],
   "source": [
    "function MS_CLDRTO(xInit,uInit,nReac,nScen,pScen,solNom,option)\n",
    "    ###########\n",
    "    # inputs: #\n",
    "    ###########\n",
    "    # xInit - states at the current iteration (beginning of DRTO horizon)\n",
    "    # uInit - inputs at the current iteration, already implemented on the plant\n",
    "    # nReac - number of parallel reactors\n",
    "    # nScen - number of scenarios used in the problem (only one branching)\n",
    "    # pScen - probability of the scenarios\n",
    "    # solNom - nominal solution\n",
    "    # option - strategy for solving MPC\n",
    "\n",
    "    # Creating MPC matrices\n",
    "    mpc = MPC_matrices(nReac)\n",
    "    \n",
    "    # Creating DRTO matrices\n",
    "    drto = DRTO_matrices(nReac,nScen)\n",
    "\n",
    "    # Define model\n",
    "    if option == 3 || option == 1\n",
    "        model_ms = Model(Ipopt.Optimizer)\n",
    "        set_optimizer_attribute(model_ms, \"max_cpu_time\", 300.0) # 5 min\n",
    "    else \n",
    "        model_ms = Model(CPLEX.Optimizer)\n",
    "        set_optimizer_attribute(model_ms, \"CPX_PARAM_TILIM\", 300.0) # 5 min\n",
    "    end\n",
    "    set_silent(model_ms)\n",
    "    \n",
    "    ####################\n",
    "    # Set up variables #\n",
    "    ####################\n",
    "    # DRTO model variables\n",
    "    @variable(model_ms, xDRTO[1:pD,1:nx,1:nScen])\n",
    "    @variable(model_ms, yDRTO[1:pD,1:nScen])\n",
    "    \n",
    "    # MPC model variables\n",
    "    @variable(model_ms, xMPC[1:pD,1:nx,1:nScen])\n",
    "    @variable(model_ms, yMPC[1:pD,1:nScen])\n",
    "    \n",
    "    # MPC <-> DRTO model deviation\n",
    "    @variable(model_ms, de[1:pD,1:nScen])\n",
    "    \n",
    "    # inputs computed by MPCs\n",
    "    @variable(model_ms, u[1:pD,1:m,1:nScen])\n",
    "     if option == 1\n",
    "        @variable(model_ms, u_w_c[1:pD,1:m,1:nScen]) # inputs w/o clipping\n",
    "    \n",
    "        # input clipping \n",
    "        @variable(model_ms, mu_lb[1:pD,1:m,1:nScen] ≥ 0)\n",
    "        @variable(model_ms, eta_lb[1:pD,1:m,1:nScen] ≥ 0)\n",
    "        @variable(model_ms, mu_ub[1:pD,1:m,1:nScen] ≥ 0)\n",
    "        @variable(model_ms, eta_ub[1:pD,1:m,1:nScen] ≥ 0)       \n",
    "    end\n",
    "    \n",
    "    # setpoints for the controllers sent to the plant (CL-DRTO degrees of freedom)\n",
    "    @variable(model_ms, (yspMin - y0) ≤ ysp[1:pD,1:nScen] ≤ (yspMax - y0))\n",
    "    \n",
    "    # slacks for P soft constraint\n",
    "    @variable(model_ms, delta_p[1:pD,1:nScen] ≥ 0)\n",
    "    \n",
    "    if option == 2 || option == 3\n",
    "        @variable(model_ms, mu_g[1:mD,1:(2*m),1:nScen] ≥ 0) # upper and lower bounds for each input\n",
    "    end\n",
    "    if option == 2\n",
    "        @variable(model_ms, Y_lb[1:mD,1:m,1:nScen], Bin, start = 0) # Binaries for big-M implementation\n",
    "        @variable(model_ms, Y_ub[1:mD,1:m,1:nScen], Bin, start = 0) \n",
    "    end\n",
    "    \n",
    "    ########################\n",
    "    # Set up initial guess #\n",
    "    ########################\n",
    "    if solNom isa Dict\n",
    "        for ss in 1:nScen\n",
    "            for ii in 1:pD\n",
    "                set_start_value(yDRTO[ii,ss], solNom['y'][ii,1]) \n",
    "                set_start_value(yMPC[ii,ss], solNom['c'][ii,1])\n",
    "                set_start_value(ysp[ii,ss], solNom['s'][ii,1])\n",
    "\n",
    "                for rr in 1:nReac # when nReac increases, the number of states change!\n",
    "                    for xx in 1:2 # N.B. nx/reactor is hardcoded here... (maybe use nx/reactor as a function input) \n",
    "                        set_start_value(xDRTO[ii,xx + (rr - 1)*2,ss], solNom['x'][ii,xx,1])    \n",
    "                        set_start_value(xMPC[ii,xx + (rr - 1)*2,ss], solNom['m'][ii,xx,1])           \n",
    "                    end # end xx\n",
    "                end # number \n",
    "                \n",
    "                for uu in 1:m\n",
    "                    set_start_value(u[ii,uu,ss], solNom['u'][ii,uu,1])\n",
    "                end # end of uu\n",
    "            end # eend of ii\n",
    "        end # end of ss\n",
    "    end # end of if\n",
    "    \n",
    "    ######################################\n",
    "    # Set up constraints and expressions #\n",
    "    ######################################\n",
    "    # Model Dynamic for Dynamic RTO\n",
    "    @constraint(model_ms, CLDRTO_dyn_model_1[ss=1:nScen], xDRTO[1,:,ss] .== drto['A'][:,:,ss]*xInit + drto['B'][:,:,ss]*uInit)\n",
    "    @constraint(model_ms, CLDRTO_dyn_model[kk=1:(pD - 1),ss=1:nScen], xDRTO[kk + 1,:,ss] .== drto['A'][:,:,ss]*xDRTO[kk,:,ss] + drto['B'][:,:,ss]*u[kk,1,ss])\n",
    "    @constraint(model_ms, CLDRTO_model_out[kk=1:pD,ss=1:nScen], yDRTO[kk,ss] == dot(drto['C'],xDRTO[kk,:,ss]))\n",
    "    \n",
    "    # fixing setpoint changes after mD\n",
    "    @constraint(model_ms, control_horizon[kk=(mD+1):pD,ss=1:nScen], u[kk,1,ss] .== u[mD,1,ss])\n",
    "    \n",
    "    # P soft constraints\n",
    "    @constraint(model_ms, soft_P[kk=1:pD,ss=1:nScen], yDRTO[kk,ss] - delta_p[kk,ss] ≤ pUB)\n",
    "    \n",
    "    # nonanticipativity constraints\n",
    "    @constraint(model_ms, nonAnt[kk=1:nDRTO,ss=2:nScen], ysp[kk,1] - ysp[kk,ss] == 0.0);\n",
    "    \n",
    "    ################\n",
    "    # MPC solution #\n",
    "    ################    \n",
    "    if option == 1\n",
    "        # Model Dynamic for Controller\n",
    "        @constraint(model_ms, MPC_dyn_model_1[ss=1:nScen], xMPC[1,:,ss] .== mpc['A']*xInit + mpc['B']*uInit)\n",
    "        @constraint(model_ms, MPC_dyn_model[kk=1:(pD - 1),ss=1:nScen], xMPC[kk + 1,:,ss] .== mpc['A']*xMPC[kk,:,ss] + mpc['B']*u_w_c[kk,1,ss])\n",
    "        @constraint(model_ms, MPC_model_out[kk=1:pD,ss=1:nScen], yMPC[kk,ss] == dot(mpc['C'],xMPC[kk,:,ss]))\n",
    "\n",
    "        #  Model deviation\n",
    "        @constraint(model_ms, MPC_model_dev[kk=1:pD,ss=1:nScen], de[kk,ss] == yDRTO[kk,ss] - yMPC[kk,ss])\n",
    "        \n",
    "        @expression(model_ms, cfT_1[ss=1:nScen], (mpc['Ψ']*[xMPC[1,:,ss];de[1,ss]] - ysp[1:p,ss])'*mpc['Q']*mpc['Θ'] - uInit'*mpc['I']'*mpc['R']*mpc['M'])\n",
    "        @expression(model_ms, cfT[kk=2:mD,ss=1:nScen], (mpc['Ψ']*[xMPC[kk,:,ss];de[kk,ss]] - ysp[kk:(kk + p - 1),ss])'*mpc['Q']*mpc['Θ'] - u_w_c[kk-1,1,ss]'*mpc['I']'*mpc['R']*mpc['M'])\n",
    "        \n",
    "        # Unconstrained MPC solution  \n",
    "        @constraint(model_ms, MPC_sol_1[ss=1:nScen], mpc['H']*u_w_c[1,:,ss] + cfT_1[ss]' .== 0)\n",
    "        @constraint(model_ms, MPC_sol[kk=2:mD,ss=1:nScen], mpc['H']*u_w_c[kk,:,ss] + cfT[kk,ss]' .== 0)\n",
    "        \n",
    "        # input clipping\n",
    "        @constraint(model_ms, ic_1[kk = 1:mD,uu = 1:m,ss = 1:nScen], u[kk,uu,ss] == u_w_c[kk,uu,ss] - mu_ub[kk,uu,ss] + mu_lb[kk,uu,ss])\n",
    "        @constraint(model_ms, ic_2[kk = 1:mD,uu = 1:m,ss = 1:nScen], (uMax - u0) - u[kk,uu,ss] == eta_ub[kk,uu,ss])\n",
    "        @constraint(model_ms, ic_3[kk = 1:mD,uu = 1:m,ss = 1:nScen], eta_ub[kk,uu,ss]*mu_ub[kk,uu,ss] ≤ 1e-6)\n",
    "        @constraint(model_ms, ic_4[kk = 1:mD,uu = 1:m,ss = 1:nScen], u[kk,uu,ss] - (uMin - u0) == eta_lb[kk,uu,ss])\n",
    "        @constraint(model_ms, ic_5[kk = 1:mD,uu = 1:m,ss = 1:nScen], eta_lb[kk,uu,ss]*mu_lb[kk,uu,ss] ≤ 1e-6)\n",
    "        \n",
    "    elseif option == 2\n",
    "        # Model Dynamic for Controller\n",
    "        @constraint(model_ms, MPC_dyn_model_1[ss=1:nScen], xMPC[1,:,ss] .== mpc['A']*xInit + mpc['B']*uInit)\n",
    "        @constraint(model_ms, MPC_dyn_model[kk=1:(pD - 1),ss=1:nScen], xMPC[kk + 1,:,ss] .== mpc['A']*xMPC[kk,:,ss] + mpc['B']*u[kk,1,ss])\n",
    "        @constraint(model_ms, MPC_model_out[kk=1:pD,ss=1:nScen], yMPC[kk,ss] == dot(mpc['C'],xMPC[kk,:,ss]))\n",
    "\n",
    "        #  Model deviation\n",
    "        @constraint(model_ms, MPC_model_dev[kk=1:pD,ss=1:nScen], de[kk,ss] == yDRTO[kk,ss] - yMPC[kk,ss])\n",
    "\n",
    "        # sequence of Setpoints\n",
    "        @expression(model_ms, cfT_1[ss=1:nScen], (mpc['Ψ']*[xMPC[1,:,ss];de[1,ss]] - ysp[1:p,ss])'*mpc['Q']*mpc['Θ'] - uInit'*mpc['I']'*mpc['R']*mpc['M'])\n",
    "        @expression(model_ms, cfT[kk=2:mD,ss=1:nScen], (mpc['Ψ']*[xMPC[kk,:,ss];de[kk,ss]] - ysp[kk:(kk + p - 1),ss])'*mpc['Q']*mpc['Θ'] - u[kk-1,1,ss]'*mpc['I']'*mpc['R']*mpc['M'])\n",
    "\n",
    "        # Constrained with binaries\n",
    "        # 1. stationarity\n",
    "        @constraint(model_ms, MPC_sol_1[ss=1:nScen], u[1,:,ss]'*mpc['H'] + cfT_1[ss] +  mu_g[1,:,ss]'*conMatrix .== 0)\n",
    "        @constraint(model_ms, MPC_sol[kk=2:mD,ss=1:nScen], u[kk,:,ss]'*mpc['H'] + cfT[kk,ss] + mu_g[kk,:,ss]'*conMatrix .== 0)\n",
    "\n",
    "        # 2. primal feasibility\n",
    "        @constraint(model_ms, g_u_u[kk=1:mD,uu=1:m,ss=1:nScen], u[kk,uu,ss] - (uMax - u0) ≤ 0)\n",
    "        @constraint(model_ms, g_u_l[kk=1:mD,uu=1:m,ss=1:nScen], (uMin - u0) - u[kk,uu,ss] ≤ 0)\n",
    "    \n",
    "        # 3. complementarity --> using big-M implementation\n",
    "        @constraint(model_ms, bigM_1[kk=1:mD,uu=1:m,ss=1:nScen], mu_g[kk,uu,ss] ≤ bigM_mu*Y_ub[kk,uu,ss])\n",
    "        @constraint(model_ms, bigM_2[kk=1:mD,uu=1:m,ss=1:nScen], mu_g[kk,uu + m,ss] ≤ bigM_mu*Y_lb[kk,uu,ss])\n",
    "        @constraint(model_ms, bigM_3[kk=1:mD,uu=1:m,ss=1:nScen], u[kk,uu,ss] - (uMax - u0) ≥ -bigM_u*(1 - Y_ub[kk,uu,ss]))\n",
    "        @constraint(model_ms, bigM_4[kk=1:mD,uu=1:m,ss=1:nScen], (uMin - u0) - u[kk,uu,ss] ≥ -bigM_u*(1 - Y_lb[kk,uu,ss]))\n",
    "        \n",
    "        @constraint(model_ms, compSlack[kk=1:mD,uu=1:m,ss=1:nScen], Y_ub[kk,uu,ss] + Y_lb[kk,uu,ss] ≤ 1)\n",
    "    \n",
    "    elseif option == 3\n",
    "        # Model Dynamic for Controller\n",
    "        @constraint(model_ms, MPC_dyn_model_1[ss=1:nScen], xMPC[1,:,ss] .== mpc['A']*xInit + mpc['B']*uInit)\n",
    "        @constraint(model_ms, MPC_dyn_model[kk=1:(pD - 1),ss=1:nScen], xMPC[kk + 1,:,ss] .== mpc['A']*xMPC[kk,:,ss] + mpc['B']*u[kk,1,ss])\n",
    "        @constraint(model_ms, MPC_model_out[kk=1:pD,ss=1:nScen], yMPC[kk,ss] == dot(mpc['C'],xMPC[kk,:,ss]))\n",
    "\n",
    "        #  Model deviation\n",
    "        @constraint(model_ms, MPC_model_dev[kk=1:pD,ss=1:nScen], de[kk,ss] == yDRTO[kk,ss] - yMPC[kk,ss])\n",
    "\n",
    "        # sequence of Setpoints\n",
    "        @expression(model_ms, cfT_1[ss=1:nScen], (mpc['Ψ']*[xMPC[1,:,ss];de[1,ss]] - ysp[1:p,ss])'*mpc['Q']*mpc['Θ'] - uInit'*mpc['I']'*mpc['R']*mpc['M'])\n",
    "        @expression(model_ms, cfT[kk=2:mD,ss=1:nScen], (mpc['Ψ']*[xMPC[kk,:,ss];de[kk,ss]] - ysp[kk:(kk + p - 1),ss])'*mpc['Q']*mpc['Θ'] - u[kk-1,1,ss]'*mpc['I']'*mpc['R']*mpc['M'])\n",
    "\n",
    "        # Constrained with MPCC\n",
    "        # 1. stationarity\n",
    "        @constraint(model_ms, MPC_sol_1[ss=1:nScen], u[1,:,ss]'*mpc['H'] + cfT_1[ss] +  mu_g[1,:,ss]'*conMatrix .== 0)\n",
    "        @constraint(model_ms, MPC_sol[kk=2:mD,ss=1:nScen], u[kk,:,ss]'*mpc['H'] + cfT[kk,ss] + mu_g[kk,:,ss]'*conMatrix .== 0)\n",
    "\n",
    "        # 2. primal feasibility\n",
    "        @constraint(model_ms, MPC_c_upper[kk=1:mD,uu=1:m,ss=1:nScen], u[kk,uu,ss] - (uMax - u0) ≤ 0)\n",
    "        @constraint(model_ms, MPC_c_lower[kk=1:mD,uu=1:m,ss=1:nScen], (uMin - u0) - u[kk,uu,ss] ≤ 0)\n",
    "        \n",
    "        # Expressions for OF\n",
    "        @expression(model_ms, g_u_u[kk=1:mD,uu=1:m,ss=1:nScen], u[kk,uu,ss] - (uMax - u0))\n",
    "        @expression(model_ms, g_u_l[kk=1:mD,uu=1:m,ss=1:nScen], (uMin - u0) - u[kk,uu,ss])\n",
    "        \n",
    "    end\n",
    "      \n",
    "    #############################\n",
    "    # Set up objective function #\n",
    "    #############################\n",
    "    if option == 1 || option == 2\n",
    "        @objective(model_ms, Min, \n",
    "            pScen*sum((yDRTO[kk,ss] - pTrack)^2 + wP*delta_p[kk,ss]^2 for kk in 1:pD, ss in 1:nScen)\n",
    "        )\n",
    "    else\n",
    "        @objective(model_ms, Min, pScen*sum((yDRTO[kk,ss] - pTrack)^2 + wP*delta_p[kk,ss]^2 for kk in 1:pD, ss in 1:nScen)\n",
    "                                - pScen*pi_bar*sum(\n",
    "                                                sum(mu_g[kk,jj,ss]*g_u_u[kk,jj,ss] for jj = 1:m) +\n",
    "                                                sum(mu_g[kk,jj + m,ss]*g_u_l[kk,jj,ss] for jj = 1:m)\n",
    "                                                for kk = 1:mD, ss in 1:nScen)\n",
    "        )\n",
    "    end\n",
    "    # @show model_ms\n",
    "\n",
    "    #################\n",
    "    # Solve Problem #\n",
    "    #################\n",
    "    #set_optimizer_attribute(model_ms, \"CPX_PARAM_BARALG\", 1)\n",
    "    optimize!(model_ms)\n",
    "    \n",
    "    status = termination_status(model_ms)\n",
    "    #display(status)\n",
    "    \n",
    "    if status == MOI.OPTIMAL || status == MOI.ALMOST_OPTIMAL || status == MOI.LOCALLY_SOLVED\n",
    "        # Proved optimality or Optimal within relaxed tolerances\n",
    "        # solution time\n",
    "        timeSol = solve_time(model_ms)\n",
    "\n",
    "        flag = 1\n",
    "        # #primal_status(m)\n",
    "\n",
    "        #calling values of the solved problem\n",
    "        ϕ = objective_value(model_ms)\n",
    "        uArray = value.(u)\n",
    "        yspArray = value.(ysp)\n",
    "        yDRTOArray = value.(yDRTO)\n",
    "        yMPCArray = value.(yMPC)\n",
    "        xDRTOArray = value.(xDRTO)\n",
    "        xMPCArray = value.(xMPC)\n",
    "\n",
    "        outputFun = Dict('ϕ' => ϕ,\n",
    "                        't' => timeSol,\n",
    "                        'f' => flag, \n",
    "                        'u' => uArray,\n",
    "                        's' => yspArray,\n",
    "                        'x' => xDRTOArray,\n",
    "                        'y' => yDRTOArray, \n",
    "                        'm' => xDRTOArray,\n",
    "                        'c' => yDRTOArray)\n",
    "        \n",
    "        if option == 2 || option == 3\n",
    "            muArray = value.(mu_g)\n",
    "            merge!(outputFun,Dict('μ'=> muArray))\n",
    "        end\n",
    "        \n",
    "        return outputFun\n",
    "    else\n",
    "        # Handle other cases.\n",
    "        outputFun = Dict('f' => 0,\n",
    "                         't' => NaN,\n",
    "                         'ϕ' => NaN)\n",
    "                        \n",
    "        \n",
    "        return outputFun\n",
    "    end\n",
    "end;"
   ]
  },
  {
   "cell_type": "markdown",
   "id": "e2a35860",
   "metadata": {},
   "source": [
    "# Decomposition of CLDRTO Problem"
   ]
  },
  {
   "attachments": {
    "image-2.png": {
     "image/png": "[encoded data removed]"
    }
   },
   "cell_type": "markdown",
   "id": "eccb0edd",
   "metadata": {},
   "source": [
    "<div>\n",
    "<img src=\"attachment:image-2.png\" width=\"900\"/>\n",
    "</div>"
   ]
  },
  {
   "cell_type": "markdown",
   "id": "b2f632eb",
   "metadata": {},
   "source": [
    "## Modeling Subproblem"
   ]
  },
  {
   "cell_type": "code",
   "execution_count": 11,
   "id": "1c652a26",
   "metadata": {},
   "outputs": [],
   "source": [
    "## Modeling the sub problem (scenario) -- modeling inside a function\n",
    "function subp(xInit,uInit,ysp_fixed,nReac,nScen,pScen,solNom,option)\n",
    "    ###########\n",
    "    # inputs: #\n",
    "    ###########\n",
    "    # xInit - states at the current iteration (beginning of DRTO horizon)\n",
    "    # uInit - inputs at the current iteration, already implemented on the plant\n",
    "    # ysp_fixed - setpoints fixed by the Master Problem --> nonanticipativity constraints\n",
    "    # nReac - number of parallel reactors\n",
    "    # nScen - number of scenarios used in the problem (only one branching)\n",
    "    # pScen - probability of the scenarios\n",
    "    # solNom - nominal solution\n",
    "    # option - strategy for solving MPC \n",
    "        # for now, code only works for option = 3\n",
    "\n",
    "    # Creating MPC matrices\n",
    "    mpc = MPC_matrices(nReac)\n",
    "    \n",
    "    # Creating DRTO matrices\n",
    "    \n",
    "    # recomputing the number of total scenarios based on scenario probability and the fact that the scenarios have the same probability\n",
    "    nScenTotal = ceil(Int,1/pScen)    \n",
    "    drto = DRTO_matrix(nReac,nScen,nScenTotal)\n",
    "    \n",
    "    # Define subproblem model  #== 3\n",
    "    if option == 3 || option == 1 \n",
    "        sub = Model(Ipopt.Optimizer)\n",
    "        set_optimizer_attribute(sub, \"max_cpu_time\", 300.0) # 5 min\n",
    "    else \n",
    "        sub = Model(CPLEX.Optimizer)\n",
    "        set_optimizer_attribute(sub, \"CPX_PARAM_TILIM\", 300.0) # 5 min\n",
    "    end\n",
    "    set_silent(sub) # avoid printing\n",
    "    \n",
    "    ####################\n",
    "    # Set up variables #\n",
    "    ####################\n",
    "    # DRTO model variables\n",
    "    @variable(sub, xDRTO[1:pD, 1:nx])\n",
    "    @variable(sub, yDRTO[1:pD])\n",
    "    \n",
    "    # MPC model variables\n",
    "    @variable(sub, xMPC[1:pD, 1:nx])\n",
    "    @variable(sub, yMPC[1:pD])\n",
    "\n",
    "    # MPC <-> DRTO model deviation\n",
    "    @variable(sub, de[1:pD])\n",
    "    \n",
    "    # inputs computed by MPCs\n",
    "    @variable(sub, u[1:pD,1:m])\n",
    "    if option == 1\n",
    "        @variable(sub, u_w_c[1:pD,1:m]) # inputs w/o clipping\n",
    "    \n",
    "        # input clipping \n",
    "        @variable(sub, mu_lb[1:pD,1:m] ≥ 0)\n",
    "        @variable(sub, eta_lb[1:pD,1:m] ≥ 0)\n",
    "        @variable(sub, mu_ub[1:pD,1:m] ≥ 0)\n",
    "        @variable(sub, eta_ub[1:pD,1:m] ≥ 0)       \n",
    "    end\n",
    "\n",
    "    # setpoints for the controllers sent to the plant (CL-DRTO degrees of freedom)\n",
    "    @variable(sub, (yspMin - y0) ≤ ysp[1:pD] ≤ (yspMax - y0))\n",
    "        \n",
    "    # slacks for controlling setpoint into a zone\n",
    "    @variable(sub, delta_p[1:pD] ≥ 0)\n",
    "    \n",
    "    if option == 2 || option == 3\n",
    "        @variable(sub, mu_g[1:mD,1:(2*m)] ≥ 0) # upper and lower bounds for each input\n",
    "    end\n",
    "    if option == 2\n",
    "        @variable(sub, Y_lb[1:mD,1:m], start = 0) # Relaxing binaries for big-M implementation\n",
    "        @variable(sub, Y_ub[1:mD,1:m], start = 0) \n",
    "    end\n",
    "    \n",
    "    ########################\n",
    "    # Set up initial guess #\n",
    "    ########################\n",
    "    if solNom isa Dict\n",
    "        for ii in 1:pD\n",
    "            set_start_value(yDRTO[ii], solNom['y'][ii,1]) \n",
    "            set_start_value(yMPC[ii], solNom['c'][ii,1])\n",
    "            #set_start_value(ysp[ii], solNom['s'][ii,1])\n",
    "\n",
    "            for rr in 1:nReac # when nReac increases, the number of states change!\n",
    "                for xx in 1:2 # N.B. nx/reactor is hardcoded here... (maybe use nx/reactor as a function input) \n",
    "                    set_start_value(xDRTO[ii,xx + (rr - 1)*2], solNom['x'][ii,xx,1])    \n",
    "                    set_start_value(xMPC[ii,xx + (rr - 1)*2], solNom['m'][ii,xx,1])           \n",
    "                end # end xx\n",
    "            end # number \n",
    "                \n",
    "            for uu in 1:m\n",
    "                set_start_value(u[ii,uu], solNom['u'][ii,uu,1])\n",
    "            end # end of uu\n",
    "        end # eend of ii\n",
    "    end # end of if\n",
    "\n",
    "    ######################################\n",
    "    # Set up constraints and expressions #\n",
    "    ######################################\n",
    "    # Dynamic RTO model (linear)\n",
    "    @constraint(sub, CLDRTO_dyn_model_1, xDRTO[1,:] .== drto['A']*xInit + drto['B']*uInit)\n",
    "    @constraint(sub, CLDRTO_dyn_model[kk=1:(pD - 1)], xDRTO[kk + 1,:] .== drto['A']*xDRTO[kk,:] + drto['B']*u[kk,1])\n",
    "    @constraint(sub, CLDRTO_model_out[kk=1:pD], yDRTO[kk] == dot(drto['C'],xDRTO[kk,:]))\n",
    "\n",
    "    # fixing input after mD\n",
    "    @constraint(sub, control_horizon[kk=(mD+1):pD], u[kk,1] == u[mD,1]);\n",
    "    \n",
    "    # P soft constraints\n",
    "    @constraint(sub, soft_P[kk=1:pD], yDRTO[kk] - delta_p[kk] ≤ pUB)\n",
    "    \n",
    "    # nonanticipativity constraints\n",
    "    @constraint(sub, nonAnt[kk=1:nDRTO], ysp[kk] - ysp_fixed[kk] == 0.0);\n",
    "    \n",
    "    ################\n",
    "    # MPC solution #\n",
    "    ################\n",
    "    ################\n",
    "    # MPC solution #\n",
    "    ################ \n",
    "    if option == 1\n",
    "        # MPC model (linear)\n",
    "        @constraint(sub, MPC_dyn_model_1, xMPC[1,:] .== mpc['A']*xInit + mpc['B']*uInit)\n",
    "        @constraint(sub, MPC_dyn_model[kk=1:(pD - 1)], xMPC[kk + 1,:] .== mpc['A']*xMPC[kk,:] + mpc['B']*u_w_c[kk,1])\n",
    "        @constraint(sub, MPC_model_out[kk=1:pD], yMPC[kk] == dot(mpc['C'],xMPC[kk,:]))\n",
    "\n",
    "        #  MPC model deviation (disturance)\n",
    "        @constraint(sub, MPC_model_dev[kk=1:pD], de[kk] == yDRTO[kk] - yMPC[kk])\n",
    "\n",
    "        # sequence of Setpoints\n",
    "        @expression(sub, cfT_1, (mpc['Ψ']*[xMPC[1,:];de[1]] - ysp[1:p])'*mpc['Q']*mpc['Θ'] - uInit'*mpc['I']'*mpc['R']*mpc['M'])\n",
    "        @expression(sub, cfT[kk=2:mD], (mpc['Ψ']*[xMPC[kk,:];de[kk]] - ysp[kk:(kk + p - 1)])'*mpc['Q']*mpc['Θ'] - u_w_c[kk-1,1]'*mpc['I']'*mpc['R']*mpc['M'])\n",
    "\n",
    "        # Unconstrained MPC solution  \n",
    "        @constraint(sub, MPC_sol_1, mpc['H']*u_w_c[1,:] + cfT_1' .== 0)\n",
    "        @constraint(sub, MPC_sol[kk=2:mD],mpc['H']*u_w_c[kk,:] + cfT[kk]' .== 0)\n",
    "\n",
    "        # input clipping\n",
    "        @constraint(sub, ic_1[kk = 1:mD,uu = 1:m], u[kk,uu] == u_w_c[kk,uu] - mu_ub[kk,uu] + mu_lb[kk,uu])\n",
    "        @constraint(sub, ic_2[kk = 1:mD,uu = 1:m], (uMax - u0) - u[kk,uu] == eta_ub[kk,uu])\n",
    "        @constraint(sub, ic_3[kk = 1:mD,uu = 1:m], eta_ub[kk,uu]*mu_ub[kk,uu] ≤ 1e-6)\n",
    "        @constraint(sub, ic_4[kk = 1:mD,uu = 1:m], u[kk,uu] - (uMin - u0) == eta_lb[kk,uu])\n",
    "        @constraint(sub, ic_5[kk = 1:mD,uu = 1:m], eta_lb[kk,uu]*mu_lb[kk,uu] ≤ 1e-6)\n",
    "    \n",
    "    elseif option == 2\n",
    "        # MPC model (linear)\n",
    "        @constraint(sub, MPC_dyn_model_1, xMPC[1,:] .== mpc['A']*xInit + mpc['B']*uInit)\n",
    "        @constraint(sub, MPC_dyn_model[kk=1:(pD - 1)], xMPC[kk + 1,:] .== mpc['A']*xMPC[kk,:] + mpc['B']*u[kk,1])\n",
    "        @constraint(sub, MPC_model_out[kk=1:pD], yMPC[kk] == dot(mpc['C'],xMPC[kk,:]))\n",
    "\n",
    "        #  MPC model deviation (disturance)\n",
    "        @constraint(sub, MPC_model_dev[kk=1:pD], de[kk] == yDRTO[kk] - yMPC[kk])\n",
    "\n",
    "        # sequence of Setpoints\n",
    "        @expression(sub, cfT_1, (mpc['Ψ']*[xMPC[1,:];de[1]] - ysp[1:p])'*mpc['Q']*mpc['Θ'] - uInit'*mpc['I']'*mpc['R']*mpc['M'])\n",
    "        @expression(sub, cfT[kk=2:mD], (mpc['Ψ']*[xMPC[kk,:];de[kk]] - ysp[kk:(kk + p - 1)])'*mpc['Q']*mpc['Θ'] - u[kk-1,1]'*mpc['I']'*mpc['R']*mpc['M'])\n",
    "\n",
    "        # Constrained with binaries\n",
    "        # 1. stationarity\n",
    "        @constraint(sub, MPC_sol_1, u[1,:]'*mpc['H'] + cfT_1 +  mu_g[1,:]'*conMatrix .== 0)\n",
    "        @constraint(sub, MPC_sol[kk=2:mD], u[kk,:]'*mpc['H'] + cfT[kk] + mu_g[kk,:]'*conMatrix .== 0)\n",
    "\n",
    "        # 2. primal feasibility\n",
    "        @constraint(sub, MPC_c_upper[kk=1:mD,uu=1:m], u[kk,uu] - (uMax - u0) ≤ 0)\n",
    "        @constraint(sub, MPC_c_lower[kk=1:mD,uu=1:m], (uMin - u0) - u[kk,uu] ≤ 0)\n",
    "    \n",
    "        # 3. complementarity --> using big-M implementation\n",
    "        @constraint(sub, bigM_1[kk=1:mD,uu=1:m], mu_g[kk,uu] ≤ bigM_mu*Y_ub[kk,uu])\n",
    "        @constraint(sub, bigM_2[kk=1:mD,uu=1:m], mu_g[kk,uu + m] ≤ bigM_mu*Y_lb[kk,uu])\n",
    "        @constraint(sub, bigM_3[kk=1:mD,uu=1:m], u[kk,uu] - (uMax - u0) ≥ -bigM_u*(1 - Y_ub[kk,uu]))\n",
    "        @constraint(sub, bigM_4[kk=1:mD,uu=1:m], (uMin - u0) - u[kk,uu] ≥ -bigM_u*(1 - Y_lb[kk,uu]))\n",
    "        \n",
    "        @constraint(sub, compSlack[kk=1:mD,uu=1:m], Y_ub[kk,uu] + Y_lb[kk,uu] ≤ 1)\n",
    "    \n",
    "    elseif option == 3\n",
    "        # MPC model (linear)\n",
    "        @constraint(sub, MPC_dyn_model_1, xMPC[1,:] .== mpc['A']*xInit + mpc['B']*uInit)\n",
    "        @constraint(sub, MPC_dyn_model[kk=1:(pD - 1)], xMPC[kk + 1,:] .== mpc['A']*xMPC[kk,:] + mpc['B']*u[kk,1])\n",
    "        @constraint(sub, MPC_model_out[kk=1:pD], yMPC[kk] == dot(mpc['C'],xMPC[kk,:]))\n",
    "\n",
    "        #  MPC model deviation (disturance)\n",
    "        @constraint(sub, MPC_model_dev[kk=1:pD], de[kk] == yDRTO[kk] - yMPC[kk])\n",
    "\n",
    "        # sequence of Setpoints\n",
    "        @expression(sub, cfT_1, (mpc['Ψ']*[xMPC[1,:];de[1]] - ysp[1:p])'*mpc['Q']*mpc['Θ'] - uInit'*mpc['I']'*mpc['R']*mpc['M'])\n",
    "        @expression(sub, cfT[kk=2:mD], (mpc['Ψ']*[xMPC[kk,:];de[kk]] - ysp[kk:(kk + p - 1)])'*mpc['Q']*mpc['Θ'] - u[kk-1,1]'*mpc['I']'*mpc['R']*mpc['M'])\n",
    "\n",
    "        # Constrained with MPCC\n",
    "        # 1. stationarity\n",
    "        @constraint(sub, MPC_sol_1, u[1,:]'*mpc['H'] + cfT_1 +  mu_g[1,:]'*conMatrix .== 0)\n",
    "        @constraint(sub, MPC_sol[kk=2:mD], u[kk,:]'*mpc['H'] + cfT[kk] + mu_g[kk,:]'*conMatrix .== 0)\n",
    "\n",
    "        # 2. primal feasibility       \n",
    "        @constraint(sub, MPC_c_upper[kk=1:mD,uu=1:m], u[kk,uu] - (uMax - u0) ≤ 0)\n",
    "        @constraint(sub, MPC_c_lower[kk=1:mD,uu=1:m], (uMin - u0) - u[kk,uu] ≤ 0)\n",
    "        \n",
    "        # expression to be used in OF        \n",
    "        @expression(sub, g_u_u[kk=1:mD,uu=1:m], u[kk,uu] - (uMax - u0))\n",
    "        @expression(sub, g_u_l[kk=1:mD,uu=1:m], (uMin - u0) - u[kk,uu])\n",
    "        \n",
    "    end\n",
    "\n",
    "    #############################\n",
    "    # Set up objective function #\n",
    "    #############################\n",
    "     if option == 1 || option == 2\n",
    "        @objective(sub, Min, \n",
    "            pScen*sum((yDRTO[kk] - pTrack)^2 + wP*delta_p[kk]^2 for kk in 1:pD)\n",
    "        )\n",
    "    else\n",
    "        @objective(sub, Min, \n",
    "            pScen*sum((yDRTO[kk] - pTrack)^2 + wP*delta_p[kk]^2 for kk in 1:pD)\n",
    "                    - pScen*pi_bar*sum(\n",
    "                                    sum(mu_g[kk,jj]*g_u_u[kk,jj] for jj = 1:m) +\n",
    "                                    sum(mu_g[kk,jj + m]*g_u_l[kk,jj] for jj = 1:m)\n",
    "                                for kk = 1:mD)\n",
    "        )\n",
    "    end\n",
    "    \n",
    "    # @show sub\n",
    "    #set_optimizer_attribute(sub, \"CPX_PARAM_BARALG\", 1)\n",
    "    \n",
    "    optimize!(sub)\n",
    "    \n",
    "    # solution time\n",
    "    timeSol = solve_time(sub)\n",
    "    \n",
    "    status = termination_status(sub)\n",
    "    #display(status)\n",
    "    \n",
    "    # checking if there is a solution to the problem\n",
    "    if status == MOI.OPTIMAL || status == MOI.ALMOST_OPTIMAL || status == MOI.LOCALLY_SOLVED\n",
    "        # Proved optimality or Optimal within relaxed tolerances\n",
    "        # we add an optimality cut\n",
    "        flag = 1\n",
    "        # #primal_status(m)\n",
    "\n",
    "        #calling values of the solved problem\n",
    "        ϕ = objective_value(sub)\n",
    "        uArray = value.(u)\n",
    "        yspArray = value.(ysp)\n",
    "        yDRTOArray = value.(yDRTO)\n",
    "        yMPCArray = value.(yMPC)\n",
    "        xDRTOArray = value.(xDRTO)\n",
    "        xMPCArray = value.(xMPC)\n",
    "        \n",
    "        # lagrange multipliers associated with the nonantecipativity constraints\n",
    "        λ = dual.(nonAnt)\n",
    "\n",
    "        outputDict = Dict('ϕ' => ϕ,\n",
    "                        't' => timeSol,\n",
    "                        'f' => flag, \n",
    "                        'a' => status,\n",
    "                        'u' => uArray,\n",
    "                        's' => yspArray,\n",
    "                        'x' => xDRTOArray,\n",
    "                        'y' => yDRTOArray, \n",
    "                        'm' => xMPCArray,\n",
    "                        'c' => yMPCArray,\n",
    "                        'λ' => λ)\n",
    "        \n",
    "        # if binaries are used for solving const. MPC\n",
    "        if option == 2\n",
    "            muArray = value.(mu_g)\n",
    "                   \n",
    "            uubBinArray = value.(Y_ub)\n",
    "            ulbBinArray = value.(Y_lb)\n",
    "            \n",
    "            merge!(outputDict,Dict('μ'=> muArray))\n",
    "            merge!(outputDict,Dict('o' => ulbBinArray))\n",
    "            merge!(outputDict,Dict('p' => uubBinArray))\n",
    "            \n",
    "        end\n",
    "        \n",
    "        # if MPCC is used for solving const. MPC\n",
    "        if option == 3\n",
    "            muArray = value.(mu_g)\n",
    "            \n",
    "            merge!(outputDict,Dict('μ'=> muArray))\n",
    "        end\n",
    "        \n",
    "        return outputDict\n",
    "    else\n",
    "        #i.e. no feasible solution --> Add feasibility cut\n",
    "        #display(\"Feasibility cut: scenario $(scen)\")        \n",
    "\n",
    "        # ! soft bounds on ysp\n",
    "        delete_lower_bound.(ysp[1:pD])\n",
    "        delete_upper_bound.(ysp[1:pD])\n",
    "        \n",
    "        # ! soft bounds on y\n",
    "        #delete_lower_bound.(yDRTO[1:pD])\n",
    "        \n",
    "        if option != 1\n",
    "            # ! soft bounds on mu\n",
    "            delete_lower_bound.(mu_g[1:mD,1:m])\n",
    "            \n",
    "            # ! soft bounds on u\n",
    "            for kk in 1:mD\n",
    "                for uu in 1:m\n",
    "                    delete(sub, MPC_c_upper[kk,uu])\n",
    "                    delete(sub, MPC_c_lower[kk,uu])\n",
    "                end\n",
    "            end\n",
    "        end\n",
    "        \n",
    "        ####################\n",
    "        # Set up variables #\n",
    "        ####################         \n",
    "        @variable(sub, delta_ysp_u[1:pD] ≥ 0.0)\n",
    "        @variable(sub, delta_ysp_l[1:pD] ≥ 0.0)\n",
    "        \n",
    "        #@variable(sub, delta_y_l[1:pD] ≥ 0.0)\n",
    "        \n",
    "        if option == 2 || option == 3\n",
    "            @variable(sub, delta_mu[1:mD,1:m] ≥ 0.0)\n",
    "            \n",
    "            # slacks\n",
    "            @variable(sub, delta_u_u[1:mD,1:m] ≥ 0.0)\n",
    "            @variable(sub, delta_u_l[1:mD,1:m] ≥ 0.0)\n",
    "\n",
    "        end\n",
    "        \n",
    "        ###########################\n",
    "        # Always-feasible problem #\n",
    "        ###########################        \n",
    "        @constraint(sub, soft_ysp_upper[kk=1:pD], ysp[kk] - (yspMax - y0) ≤ delta_ysp_u[kk])\n",
    "        @constraint(sub, soft_ysp_lower[kk=1:pD], (yspMin - y0) - ysp[kk] ≤ delta_ysp_l[kk])\n",
    "        \n",
    "        #@constraint(sub, soft_y_lower[kk=1:pD], (0 - y0) - yDRTO[kk] ≤ delta_y_l[kk])\n",
    "\n",
    "        # adding a constraint to guarantee that mu is always feasible        \n",
    "        if option == 2 || option == 3\n",
    "            @constraint(sub, soft_MPC_mu_upper[kk=1:mD,uu=1:m], -mu_g[kk,uu] ≤ delta_mu[kk,uu])\n",
    "            \n",
    "            # adding a constraint to guarantee feasibility\n",
    "            @constraint(sub, soft_u_upper[kk=1:mD,uu=1:m], u[kk,uu] - (uMax - u0) ≤ delta_u_u[kk,uu])\n",
    "            @constraint(sub, soft_u_lower[kk=1:mD,uu=1:m], (uMin - u0) - u[kk,uu] ≤ delta_u_l[kk,uu])\n",
    "        end\n",
    "        \n",
    "       #############################\n",
    "        # Set up objective function #\n",
    "        #############################\n",
    "        # Modifying the objective --> call @objective with the new objective function.\n",
    "        # minimizing constraint violation - l1 penalty!\n",
    "        if option == 2 || option == 3\n",
    "            @objective(sub, Min, sum(delta_p[kk] + delta_ysp_u[kk] + delta_ysp_l[kk] for kk in 1:pD)\n",
    "                    + sum(sum(delta_mu[kk,uu] + delta_u_u[kk,uu] + delta_u_l[kk,uu] for uu in 1:m) for kk in 1:mD))\n",
    "        else\n",
    "            @objective(sub, Min, sum(delta_p[kk] + delta_ysp_u[kk] + delta_ysp_l[kk] for kk in 1:pD))\n",
    "        end\n",
    "        \n",
    "        #@show sub\n",
    "        #set_optimizer_attribute(sub, \"CPX_PARAM_BARALG\", 1)\n",
    "\n",
    "        # re-optimizing (now using the always feasible problem)\n",
    "        optimize!(sub)\n",
    "        \n",
    "        # solution time (adding time to solve the always feasible subproblem)\n",
    "        timeSol = timeSol + solve_time(sub)\n",
    "        \n",
    "        # checking status of the solution\n",
    "        status_sub = termination_status(sub)\n",
    "        \n",
    "        # flag for calling feasibility cuts (not optimality cuts)\n",
    "        flag = 0\n",
    "        \n",
    "        #calling values of the solved problem\n",
    "        uArray = value.(u)\n",
    "        yspArray = value.(ysp)\n",
    "        yDRTOArray = value.(yDRTO)\n",
    "        yMPCArray = value.(yMPC)\n",
    "        xDRTOArray = value.(xDRTO)\n",
    "        xMPCArray = value.(xMPC)\n",
    "    \n",
    "        # objective function of the feasibility problem\n",
    "        o = objective_value(sub)\n",
    "        \n",
    "        # lagrange multipliers associated with the nonantecipativity constraints and binaries from master problem\n",
    "        λ = dual.(nonAnt)\n",
    "        \n",
    "        outputDict = Dict('ϕ' => o,\n",
    "                        't' => timeSol,\n",
    "                        'f' => flag, \n",
    "                        'a' => status_sub,\n",
    "                        'u' => uArray,\n",
    "                        's' => yspArray,\n",
    "                        'x' => xDRTOArray,\n",
    "                        'y' => yDRTOArray, \n",
    "                        'm' => xMPCArray,\n",
    "                        'c' => yMPCArray,\n",
    "                        'λ' => λ)\n",
    "        \n",
    "         if option == 2 || option == 3\n",
    "            muArray = value.(mu_g)\n",
    "            merge!(outputDict,Dict('μ'=> muArray))\n",
    "        end\n",
    "        \n",
    "        return outputDict\n",
    "    end\n",
    "end;"
   ]
  },
  {
   "cell_type": "markdown",
   "id": "1690f637",
   "metadata": {},
   "source": [
    "Modeling Bender's Decomposition"
   ]
  },
  {
   "cell_type": "code",
   "execution_count": 12,
   "id": "418c3ed4",
   "metadata": {},
   "outputs": [],
   "source": [
    "# max number of iteration\n",
    "benIterMax = 50\n",
    "\n",
    "# optimality gap (relative) tolerance\n",
    "optGap = 1e-3; # UNC/BIN: 0.001 | MPCC: 0.5"
   ]
  },
  {
   "cell_type": "code",
   "execution_count": 13,
   "id": "6550488c",
   "metadata": {},
   "outputs": [],
   "source": [
    "## Modeling Benders Decompostion\n",
    "function BENS_CLDRTO(xInit,uInit,nReac,nScen,pScen,solNom,option)\n",
    "    \n",
    "    # flag for checking if last cut was opt. (1) or feas. (0)\n",
    "    flagO = 1\n",
    "    \n",
    "    # timing solution via Benders\n",
    "    timeSolBen = 0 \n",
    "    # timing solution via parallel Benders\n",
    "    timeSolParBen = 0 \n",
    "    \n",
    "    # Define master problem model\n",
    "    master = Model(CPLEX.Optimizer)\n",
    "    set_silent(master)\n",
    "    \n",
    "    #lower bound on scenario objective function approximation \n",
    "    alpha_down = 0.0;\n",
    "    \n",
    "    ####################\n",
    "    # Set up variables #\n",
    "    ####################\n",
    "    @variable(master,  (yspMin - y0) <= ysp[1:nDRTO] <=  (yspMax - y0))     \n",
    "    @variable(master, α ≥ alpha_down)\n",
    "    \n",
    "    ########################\n",
    "    # Set up initial guess #\n",
    "    ########################\n",
    "    if solNom isa Dict\n",
    "        for ii in 1:nDRTO\n",
    "            set_start_value(ysp[ii], solNom['s'][ii,1])\n",
    "        end \n",
    "    end \n",
    " \n",
    "    ################################################\n",
    "    # Solving problem with benders' decomposition  #\n",
    "    ################################################\n",
    "    for ii in 1:benIterMax\n",
    "           \n",
    "        #############################\n",
    "        # Set up objective function #\n",
    "        #############################\n",
    "        if flagO == 1 \n",
    "            # last cut was an optimality cut\n",
    "            # standard OF\n",
    "            @objective(master, Min, α)\n",
    "        else\n",
    "            # last cut was a feasibility cut\n",
    "            # \"nudge\" next solution towards nominal solution \n",
    "            @objective(master, Min, α + 0*sum((ysp[kk] - solNom['s'][kk,1])^2 for kk in 1:nDRTO))\n",
    "        end\n",
    "        \n",
    "            # solve master problem (with Benders' cut)\n",
    "            optimize!(master)\n",
    "\n",
    "            # solution time\n",
    "            timeSolMaster = solve_time(master)\n",
    "            # Master problem solution: lower bound of the original problem\n",
    "            lb = objective_value(master)\n",
    "            #display(lb)\n",
    "\n",
    "            # extracting solution for the non-anticipativity constraints\n",
    "            ysp_nonⁱ = value.(ysp)\n",
    "            #display(ysp_nonⁱ)\n",
    "\n",
    "        timeSolBen = timeSolBen + timeSolMaster\n",
    "        timeSolParBen = timeSolParBen + timeSolMaster # master cannot be paralellized \n",
    "\n",
    "        #######################\n",
    "        # Solving subproblems #\n",
    "        #######################\n",
    "        # objective function\n",
    "        o_temp = Vector{Float64}(undef,nScen)\n",
    "        # flag optimality / feasibility\n",
    "        flag_temp = Vector{Float64}(undef,nScen)\n",
    "        # solution time\n",
    "        solTime_temp = Vector{Float64}(undef,nScen)\n",
    "        # multipliers\n",
    "        lambdaN_temp = Matrix{Float64}(undef,nDRTO,nScen) \n",
    "        \n",
    "        for ss in 1:nScen\n",
    "            dicTemp = subp(xInit,uInit,ysp_nonⁱ,nReac,ss,pScen,solNom,option)\n",
    "           \n",
    "            # saving files\n",
    "            # objective function\n",
    "            o_temp[ss] = dicTemp['ϕ']\n",
    "            # solution time\n",
    "            solTime_temp[ss] = dicTemp['t']\n",
    "            # optimality / feasibility flag\n",
    "            flag_temp[ss] = dicTemp['f']\n",
    "            # multiplier\n",
    "            for kk in 1:nDRTO\n",
    "                lambdaN_temp[kk,ss] = dicTemp['λ'][kk]\n",
    "            end\n",
    "            \n",
    "        end\n",
    "        \n",
    "        ##########################################################\n",
    "        # If all subproblems were feasible, check optimality gap #\n",
    "        ##########################################################\n",
    "        if sum(flag_temp) == nScen \n",
    "            # Subproblem solution: upper bound of the original problem\n",
    "            ub = sum(o_temp)\n",
    "\n",
    "            # solve subproblems to find the upper bound of the original problem solution \n",
    "            timeSolBen = timeSolBen + sum(solTime_temp)\n",
    "\n",
    "            # assuming that subproblem solution is parallelized\n",
    "            timeSolParBen = timeSolParBen + maximum(solTime_temp)   \n",
    "            \n",
    "            # compute optimality gap\n",
    "            gap = abs(ub - lb)/abs(ub)\n",
    "            display(\"DB: opt gap = $(gap)\")\n",
    "\n",
    "            # check if optimality gap is small enough\n",
    "            # also, make sure last cut was an optimality cut due to change in OF \n",
    "            if gap < optGap && flagO == 1\n",
    "                global yspSol_dec = ysp_nonⁱ\n",
    "                global objFun_dec = ub\n",
    "                global optGap_dec = gap\n",
    "                global iter_dec = ii\n",
    "                global time_dec = timeSolBen\n",
    "                global time_max_dec = timeSolParBen\n",
    "                break\n",
    "            else # gap ≥ optGap \n",
    "                ##############################\n",
    "                # --> adding optimality cuts #\n",
    "                ##############################\n",
    "                display(\">>>>>> iteration $(ii):O\")\n",
    "                benderscutO = @constraint(master, α ≥ ub + \n",
    "                    sum(sum(lambdaN_temp[jj,ss] for ss in 1:nScen)*(ysp[jj] - ysp_nonⁱ[jj]) for jj in 1:nDRTO))\n",
    "                #@info \"we are adding this bender optimality cut $(benderscutO)\"\n",
    "                \n",
    "                # optimality cut was add\n",
    "                flagO = 1\n",
    "            \n",
    "            end # if gap\n",
    "        else # sum(flag_temp) != nScen\n",
    "            ###############################\n",
    "            # --> adding feasibility cuts #\n",
    "            ###############################\n",
    "            display(\">>>>>> iteration $(ii):F\")\n",
    "\n",
    "            benderscutF = @constraint(master, 0 ≥\n",
    "                sum(sum(lambdaN_temp[jj,ss] for ss in 1:nScen)*(ysp[jj] - ysp_nonⁱ[jj]) for jj in 1:nDRTO))\n",
    "            #@info \"we are adding this bender feasibility cut $(benderscutF)\"\n",
    "            \n",
    "            # feasibility cut was add\n",
    "            flagO = 0\n",
    "            \n",
    "        end # if nScen\n",
    "        \n",
    "        # checking if number of iterations reached max \n",
    "        if ii >= benIterMax\n",
    "            global yspSol_dec = [NaN for kk=1:nDRTO]\n",
    "            global objFun_dec = NaN\n",
    "            global optGap_dec = NaN\n",
    "            global iter_dec = benIterMax\n",
    "            global time_dec = timeSolBen\n",
    "            global time_max_dec = timeSolParBen\n",
    "        end # if < benIterMax\n",
    "    end # if for benders iterations\n",
    "    \n",
    "    #####################\n",
    "    # Extracting values #\n",
    "    #####################\n",
    "    if isnan(objFun_dec)\n",
    "        \n",
    "        outputFun = Dict('t' => time_dec,\n",
    "                         'ϕ' => objFun_dec,\n",
    "                         'm' => time_max_dec, \n",
    "                         'i' => iter_dec,\n",
    "                         'd' => yspSol_dec,\n",
    "                         'g' => optGap_dec)\n",
    "                        \n",
    "        \n",
    "        return outputFun\n",
    "        \n",
    "    else\n",
    "        # recomputing values\n",
    "        uArray = [subp(xInit,uInit,yspSol_dec,nReac,ss,pScen,solNom,option)['u']' for ss in 1:nScen]\n",
    "        yArray = [subp(xInit,uInit,yspSol_dec,nReac,ss,pScen,solNom,option)['y']' for ss in 1:nScen] \n",
    "        yspArray = [subp(xInit,uInit,yspSol_dec,nReac,ss,pScen,solNom,option)['s']' for ss in 1:nScen]\n",
    "\n",
    "        #calling values of the solved problem\n",
    "        return Dict('ϕ' => objFun_dec, \n",
    "                    'd' => yspSol_dec, \n",
    "                    't' => time_dec,\n",
    "                    'm' => time_max_dec, \n",
    "                    'i' => iter_dec,\n",
    "                    'g' => optGap_dec,\n",
    "                    'u' => uArray, \n",
    "                    'y' => yArray, \n",
    "                    's' => yspArray)\n",
    "    end     \n",
    "end;"
   ]
  },
  {
   "cell_type": "markdown",
   "id": "7dbb9c4b",
   "metadata": {},
   "source": [
    "# Checking the performance of the methods in terms of time vs. nScen"
   ]
  },
  {
   "cell_type": "code",
   "execution_count": 14,
   "id": "a5cd27ad",
   "metadata": {},
   "outputs": [
    {
     "name": "stdout",
     "output_type": "stream",
     "text": [
      "\n",
      "******************************************************************************\n",
      "This program contains Ipopt, a library for large-scale nonlinear optimization.\n",
      " Ipopt is released as open source code under the Eclipse Public License (EPL).\n",
      "         For more information visit https://github.com/coin-or/Ipopt\n",
      "******************************************************************************\n",
      "\n"
     ]
    },
    {
     "data": {
      "text/plain": [
       "\"evaluating 1 scenarios| option 3\""
      ]
     },
     "metadata": {},
     "output_type": "display_data"
    },
    {
     "data": {
      "text/plain": [
       "\"DB: opt gap = 1.0\""
      ]
     },
     "metadata": {},
     "output_type": "display_data"
    },
    {
     "data": {
      "text/plain": [
       "\">>>>>> iteration 1:O\""
      ]
     },
     "metadata": {},
     "output_type": "display_data"
    },
    {
     "data": {
      "text/plain": [
       "\"DB: opt gap = 1.0\""
      ]
     },
     "metadata": {},
     "output_type": "display_data"
    },
    {
     "data": {
      "text/plain": [
       "\">>>>>> iteration 2:O\""
      ]
     },
     "metadata": {},
     "output_type": "display_data"
    },
    {
     "data": {
      "text/plain": [
       "\"DB: opt gap = 1.0\""
      ]
     },
     "metadata": {},
     "output_type": "display_data"
    },
    {
     "data": {
      "text/plain": [
       "\">>>>>> iteration 3:O\""
      ]
     },
     "metadata": {},
     "output_type": "display_data"
    },
    {
     "data": {
      "text/plain": [
       "\"DB: opt gap = 1.0\""
      ]
     },
     "metadata": {},
     "output_type": "display_data"
    },
    {
     "data": {
      "text/plain": [
       "\">>>>>> iteration 4:O\""
      ]
     },
     "metadata": {},
     "output_type": "display_data"
    },
    {
     "data": {
      "text/plain": [
       "\"DB: opt gap = 0.8007667075592494\""
      ]
     },
     "metadata": {},
     "output_type": "display_data"
    },
    {
     "data": {
      "text/plain": [
       "\">>>>>> iteration 5:O\""
      ]
     },
     "metadata": {},
     "output_type": "display_data"
    },
    {
     "data": {
      "text/plain": [
       "\"DB: opt gap = 0.7566241215116879\""
      ]
     },
     "metadata": {},
     "output_type": "display_data"
    },
    {
     "data": {
      "text/plain": [
       "\">>>>>> iteration 6:O\""
      ]
     },
     "metadata": {},
     "output_type": "display_data"
    },
    {
     "data": {
      "text/plain": [
       "\"DB: opt gap = 0.7075375857029185\""
      ]
     },
     "metadata": {},
     "output_type": "display_data"
    },
    {
     "data": {
      "text/plain": [
       "\">>>>>> iteration 7:O\""
      ]
     },
     "metadata": {},
     "output_type": "display_data"
    },
    {
     "data": {
      "text/plain": [
       "\"DB: opt gap = 0.6257226759660225\""
      ]
     },
     "metadata": {},
     "output_type": "display_data"
    },
    {
     "data": {
      "text/plain": [
       "\">>>>>> iteration 8:O\""
      ]
     },
     "metadata": {},
     "output_type": "display_data"
    },
    {
     "data": {
      "text/plain": [
       "\"DB: opt gap = 0.5014239146041639\""
      ]
     },
     "metadata": {},
     "output_type": "display_data"
    },
    {
     "data": {
      "text/plain": [
       "\">>>>>> iteration 9:O\""
      ]
     },
     "metadata": {},
     "output_type": "display_data"
    },
    {
     "data": {
      "text/plain": [
       "\"DB: opt gap = 0.4916689968741358\""
      ]
     },
     "metadata": {},
     "output_type": "display_data"
    },
    {
     "data": {
      "text/plain": [
       "\">>>>>> iteration 10:O\""
      ]
     },
     "metadata": {},
     "output_type": "display_data"
    },
    {
     "data": {
      "text/plain": [
       "\"DB: opt gap = 0.2921334363362807\""
      ]
     },
     "metadata": {},
     "output_type": "display_data"
    },
    {
     "data": {
      "text/plain": [
       "\">>>>>> iteration 11:O\""
      ]
     },
     "metadata": {},
     "output_type": "display_data"
    },
    {
     "data": {
      "text/plain": [
       "\"DB: opt gap = 0.2864882252812361\""
      ]
     },
     "metadata": {},
     "output_type": "display_data"
    },
    {
     "data": {
      "text/plain": [
       "\">>>>>> iteration 12:O\""
      ]
     },
     "metadata": {},
     "output_type": "display_data"
    },
    {
     "data": {
      "text/plain": [
       "\"DB: opt gap = 0.28266667736858136\""
      ]
     },
     "metadata": {},
     "output_type": "display_data"
    },
    {
     "data": {
      "text/plain": [
       "\">>>>>> iteration 13:O\""
      ]
     },
     "metadata": {},
     "output_type": "display_data"
    },
    {
     "data": {
      "text/plain": [
       "\"DB: opt gap = 0.2776933668776269\""
      ]
     },
     "metadata": {},
     "output_type": "display_data"
    },
    {
     "data": {
      "text/plain": [
       "\">>>>>> iteration 14:O\""
      ]
     },
     "metadata": {},
     "output_type": "display_data"
    },
    {
     "data": {
      "text/plain": [
       "\"DB: opt gap = 0.01853115159720852\""
      ]
     },
     "metadata": {},
     "output_type": "display_data"
    },
    {
     "data": {
      "text/plain": [
       "\">>>>>> iteration 15:O\""
      ]
     },
     "metadata": {},
     "output_type": "display_data"
    },
    {
     "data": {
      "text/plain": [
       "\"DB: opt gap = 0.01724081628882437\""
      ]
     },
     "metadata": {},
     "output_type": "display_data"
    },
    {
     "data": {
      "text/plain": [
       "\">>>>>> iteration 16:O\""
      ]
     },
     "metadata": {},
     "output_type": "display_data"
    },
    {
     "data": {
      "text/plain": [
       "\"DB: opt gap = 0.01719239231618855\""
      ]
     },
     "metadata": {},
     "output_type": "display_data"
    },
    {
     "data": {
      "text/plain": [
       "\">>>>>> iteration 17:O\""
      ]
     },
     "metadata": {},
     "output_type": "display_data"
    },
    {
     "data": {
      "text/plain": [
       "\"DB: opt gap = 1.8114333818164405e-5\""
      ]
     },
     "metadata": {},
     "output_type": "display_data"
    },
    {
     "data": {
      "text/plain": [
       "\"time M 0.1099998950958252 | time D 1.3289999961853027\""
      ]
     },
     "metadata": {},
     "output_type": "display_data"
    },
    {
     "data": {
      "text/plain": [
       "\"evaluating 2 scenarios| option 3\""
      ]
     },
     "metadata": {},
     "output_type": "display_data"
    },
    {
     "data": {
      "text/plain": [
       "\"DB: opt gap = 1.0\""
      ]
     },
     "metadata": {},
     "output_type": "display_data"
    },
    {
     "data": {
      "text/plain": [
       "\">>>>>> iteration 1:O\""
      ]
     },
     "metadata": {},
     "output_type": "display_data"
    },
    {
     "data": {
      "text/plain": [
       "\"DB: opt gap = 1.0\""
      ]
     },
     "metadata": {},
     "output_type": "display_data"
    },
    {
     "data": {
      "text/plain": [
       "\">>>>>> iteration 2:O\""
      ]
     },
     "metadata": {},
     "output_type": "display_data"
    },
    {
     "data": {
      "text/plain": [
       "\"DB: opt gap = 1.0\""
      ]
     },
     "metadata": {},
     "output_type": "display_data"
    },
    {
     "data": {
      "text/plain": [
       "\">>>>>> iteration 3:O\""
      ]
     },
     "metadata": {},
     "output_type": "display_data"
    },
    {
     "data": {
      "text/plain": [
       "\"DB: opt gap = 1.0\""
      ]
     },
     "metadata": {},
     "output_type": "display_data"
    },
    {
     "data": {
      "text/plain": [
       "\">>>>>> iteration 4:O\""
      ]
     },
     "metadata": {},
     "output_type": "display_data"
    },
    {
     "data": {
      "text/plain": [
       "\"DB: opt gap = 1.0\""
      ]
     },
     "metadata": {},
     "output_type": "display_data"
    },
    {
     "data": {
      "text/plain": [
       "\">>>>>> iteration 5:O\""
      ]
     },
     "metadata": {},
     "output_type": "display_data"
    },
    {
     "data": {
      "text/plain": [
       "\"DB: opt gap = 1.0\""
      ]
     },
     "metadata": {},
     "output_type": "display_data"
    },
    {
     "data": {
      "text/plain": [
       "\">>>>>> iteration 6:O\""
      ]
     },
     "metadata": {},
     "output_type": "display_data"
    },
    {
     "data": {
      "text/plain": [
       "\"DB: opt gap = 0.9348923338804093\""
      ]
     },
     "metadata": {},
     "output_type": "display_data"
    },
    {
     "data": {
      "text/plain": [
       "\">>>>>> iteration 7:O\""
      ]
     },
     "metadata": {},
     "output_type": "display_data"
    },
    {
     "data": {
      "text/plain": [
       "\"DB: opt gap = 0.800612332184138\""
      ]
     },
     "metadata": {},
     "output_type": "display_data"
    },
    {
     "data": {
      "text/plain": [
       "\">>>>>> iteration 8:O\""
      ]
     },
     "metadata": {},
     "output_type": "display_data"
    },
    {
     "data": {
      "text/plain": [
       "\"DB: opt gap = 0.7388649181937296\""
      ]
     },
     "metadata": {},
     "output_type": "display_data"
    },
    {
     "data": {
      "text/plain": [
       "\">>>>>> iteration 9:O\""
      ]
     },
     "metadata": {},
     "output_type": "display_data"
    },
    {
     "data": {
      "text/plain": [
       "\"DB: opt gap = 0.018710459332398018\""
      ]
     },
     "metadata": {},
     "output_type": "display_data"
    },
    {
     "data": {
      "text/plain": [
       "\">>>>>> iteration 10:O\""
      ]
     },
     "metadata": {},
     "output_type": "display_data"
    },
    {
     "data": {
      "text/plain": [
       "\"DB: opt gap = 0.018558552369619768\""
      ]
     },
     "metadata": {},
     "output_type": "display_data"
    },
    {
     "data": {
      "text/plain": [
       "\">>>>>> iteration 11:O\""
      ]
     },
     "metadata": {},
     "output_type": "display_data"
    },
    {
     "data": {
      "text/plain": [
       "\"DB: opt gap = 0.01839742315085061\""
      ]
     },
     "metadata": {},
     "output_type": "display_data"
    },
    {
     "data": {
      "text/plain": [
       "\">>>>>> iteration 12:O\""
      ]
     },
     "metadata": {},
     "output_type": "display_data"
    },
    {
     "data": {
      "text/plain": [
       "\">>>>>> iteration 13:F\""
      ]
     },
     "metadata": {},
     "output_type": "display_data"
    },
    {
     "data": {
      "text/plain": [
       "\"DB: opt gap = 0.01827535230911867\""
      ]
     },
     "metadata": {},
     "output_type": "display_data"
    },
    {
     "data": {
      "text/plain": [
       "\">>>>>> iteration 14:O\""
      ]
     },
     "metadata": {},
     "output_type": "display_data"
    },
    {
     "data": {
      "text/plain": [
       "\"DB: opt gap = 0.01821733066764744\""
      ]
     },
     "metadata": {},
     "output_type": "display_data"
    },
    {
     "data": {
      "text/plain": [
       "\">>>>>> iteration 15:O\""
      ]
     },
     "metadata": {},
     "output_type": "display_data"
    },
    {
     "data": {
      "text/plain": [
       "\"DB: opt gap = 5.5189082835713376e-6\""
      ]
     },
     "metadata": {},
     "output_type": "display_data"
    },
    {
     "data": {
      "text/plain": [
       "\"time M 0.20399999618530273 | time D 3.110999584197998\""
      ]
     },
     "metadata": {},
     "output_type": "display_data"
    },
    {
     "data": {
      "text/plain": [
       "\"evaluating 3 scenarios| option 3\""
      ]
     },
     "metadata": {},
     "output_type": "display_data"
    },
    {
     "data": {
      "text/plain": [
       "\"DB: opt gap = 1.0\""
      ]
     },
     "metadata": {},
     "output_type": "display_data"
    },
    {
     "data": {
      "text/plain": [
       "\">>>>>> iteration 1:O\""
      ]
     },
     "metadata": {},
     "output_type": "display_data"
    },
    {
     "data": {
      "text/plain": [
       "\"DB: opt gap = 1.0\""
      ]
     },
     "metadata": {},
     "output_type": "display_data"
    },
    {
     "data": {
      "text/plain": [
       "\">>>>>> iteration 2:O\""
      ]
     },
     "metadata": {},
     "output_type": "display_data"
    },
    {
     "data": {
      "text/plain": [
       "\"DB: opt gap = 1.0\""
      ]
     },
     "metadata": {},
     "output_type": "display_data"
    },
    {
     "data": {
      "text/plain": [
       "\">>>>>> iteration 3:O\""
      ]
     },
     "metadata": {},
     "output_type": "display_data"
    },
    {
     "data": {
      "text/plain": [
       "\"DB: opt gap = 1.0\""
      ]
     },
     "metadata": {},
     "output_type": "display_data"
    },
    {
     "data": {
      "text/plain": [
       "\">>>>>> iteration 4:O\""
      ]
     },
     "metadata": {},
     "output_type": "display_data"
    },
    {
     "data": {
      "text/plain": [
       "\"DB: opt gap = 1.0\""
      ]
     },
     "metadata": {},
     "output_type": "display_data"
    },
    {
     "data": {
      "text/plain": [
       "\">>>>>> iteration 5:O\""
      ]
     },
     "metadata": {},
     "output_type": "display_data"
    },
    {
     "data": {
      "text/plain": [
       "\"DB: opt gap = 1.0\""
      ]
     },
     "metadata": {},
     "output_type": "display_data"
    },
    {
     "data": {
      "text/plain": [
       "\">>>>>> iteration 6:O\""
      ]
     },
     "metadata": {},
     "output_type": "display_data"
    },
    {
     "data": {
      "text/plain": [
       "\"DB: opt gap = 1.0\""
      ]
     },
     "metadata": {},
     "output_type": "display_data"
    },
    {
     "data": {
      "text/plain": [
       "\">>>>>> iteration 7:O\""
      ]
     },
     "metadata": {},
     "output_type": "display_data"
    },
    {
     "data": {
      "text/plain": [
       "\"DB: opt gap = 1.0\""
      ]
     },
     "metadata": {},
     "output_type": "display_data"
    },
    {
     "data": {
      "text/plain": [
       "\">>>>>> iteration 8:O\""
      ]
     },
     "metadata": {},
     "output_type": "display_data"
    },
    {
     "data": {
      "text/plain": [
       "\"DB: opt gap = 1.0\""
      ]
     },
     "metadata": {},
     "output_type": "display_data"
    },
    {
     "data": {
      "text/plain": [
       "\">>>>>> iteration 9:O\""
      ]
     },
     "metadata": {},
     "output_type": "display_data"
    },
    {
     "data": {
      "text/plain": [
       "\"DB: opt gap = 0.6660046697745527\""
      ]
     },
     "metadata": {},
     "output_type": "display_data"
    },
    {
     "data": {
      "text/plain": [
       "\">>>>>> iteration 10:O\""
      ]
     },
     "metadata": {},
     "output_type": "display_data"
    },
    {
     "data": {
      "text/plain": [
       "\"DB: opt gap = 0.4387585027436985\""
      ]
     },
     "metadata": {},
     "output_type": "display_data"
    },
    {
     "data": {
      "text/plain": [
       "\">>>>>> iteration 11:O\""
      ]
     },
     "metadata": {},
     "output_type": "display_data"
    },
    {
     "data": {
      "text/plain": [
       "\"DB: opt gap = 0.4329185480002415\""
      ]
     },
     "metadata": {},
     "output_type": "display_data"
    },
    {
     "data": {
      "text/plain": [
       "\">>>>>> iteration 12:O\""
      ]
     },
     "metadata": {},
     "output_type": "display_data"
    },
    {
     "data": {
      "text/plain": [
       "\"DB: opt gap = 0.4243454459648855\""
      ]
     },
     "metadata": {},
     "output_type": "display_data"
    },
    {
     "data": {
      "text/plain": [
       "\">>>>>> iteration 13:O\""
      ]
     },
     "metadata": {},
     "output_type": "display_data"
    },
    {
     "data": {
      "text/plain": [
       "\"DB: opt gap = 0.4037563089997176\""
      ]
     },
     "metadata": {},
     "output_type": "display_data"
    },
    {
     "data": {
      "text/plain": [
       "\">>>>>> iteration 14:O\""
      ]
     },
     "metadata": {},
     "output_type": "display_data"
    },
    {
     "data": {
      "text/plain": [
       "\"DB: opt gap = 0.02329566631598731\""
      ]
     },
     "metadata": {},
     "output_type": "display_data"
    },
    {
     "data": {
      "text/plain": [
       "\">>>>>> iteration 15:O\""
      ]
     },
     "metadata": {},
     "output_type": "display_data"
    },
    {
     "data": {
      "text/plain": [
       "\"DB: opt gap = 0.023210300676482245\""
      ]
     },
     "metadata": {},
     "output_type": "display_data"
    },
    {
     "data": {
      "text/plain": [
       "\">>>>>> iteration 16:O\""
      ]
     },
     "metadata": {},
     "output_type": "display_data"
    },
    {
     "data": {
      "text/plain": [
       "\"DB: opt gap = 1.4323476546604583e-5\""
      ]
     },
     "metadata": {},
     "output_type": "display_data"
    },
    {
     "data": {
      "text/plain": [
       "\"time M 0.4049999713897705 | time D 4.343999147415161\""
      ]
     },
     "metadata": {},
     "output_type": "display_data"
    },
    {
     "data": {
      "text/plain": [
       "\"evaluating 4 scenarios| option 3\""
      ]
     },
     "metadata": {},
     "output_type": "display_data"
    },
    {
     "data": {
      "text/plain": [
       "\"DB: opt gap = 1.0\""
      ]
     },
     "metadata": {},
     "output_type": "display_data"
    },
    {
     "data": {
      "text/plain": [
       "\">>>>>> iteration 1:O\""
      ]
     },
     "metadata": {},
     "output_type": "display_data"
    },
    {
     "data": {
      "text/plain": [
       "\"DB: opt gap = 1.0\""
      ]
     },
     "metadata": {},
     "output_type": "display_data"
    },
    {
     "data": {
      "text/plain": [
       "\">>>>>> iteration 2:O\""
      ]
     },
     "metadata": {},
     "output_type": "display_data"
    },
    {
     "data": {
      "text/plain": [
       "\"DB: opt gap = 1.0\""
      ]
     },
     "metadata": {},
     "output_type": "display_data"
    },
    {
     "data": {
      "text/plain": [
       "\">>>>>> iteration 3:O\""
      ]
     },
     "metadata": {},
     "output_type": "display_data"
    },
    {
     "data": {
      "text/plain": [
       "\"DB: opt gap = 1.0\""
      ]
     },
     "metadata": {},
     "output_type": "display_data"
    },
    {
     "data": {
      "text/plain": [
       "\">>>>>> iteration 4:O\""
      ]
     },
     "metadata": {},
     "output_type": "display_data"
    },
    {
     "data": {
      "text/plain": [
       "\"DB: opt gap = 1.0\""
      ]
     },
     "metadata": {},
     "output_type": "display_data"
    },
    {
     "data": {
      "text/plain": [
       "\">>>>>> iteration 5:O\""
      ]
     },
     "metadata": {},
     "output_type": "display_data"
    },
    {
     "data": {
      "text/plain": [
       "\"DB: opt gap = 1.0\""
      ]
     },
     "metadata": {},
     "output_type": "display_data"
    },
    {
     "data": {
      "text/plain": [
       "\">>>>>> iteration 6:O\""
      ]
     },
     "metadata": {},
     "output_type": "display_data"
    },
    {
     "data": {
      "text/plain": [
       "\"DB: opt gap = 1.0\""
      ]
     },
     "metadata": {},
     "output_type": "display_data"
    },
    {
     "data": {
      "text/plain": [
       "\">>>>>> iteration 7:O\""
      ]
     },
     "metadata": {},
     "output_type": "display_data"
    },
    {
     "data": {
      "text/plain": [
       "\"DB: opt gap = 1.0\""
      ]
     },
     "metadata": {},
     "output_type": "display_data"
    },
    {
     "data": {
      "text/plain": [
       "\">>>>>> iteration 8:O\""
      ]
     },
     "metadata": {},
     "output_type": "display_data"
    },
    {
     "data": {
      "text/plain": [
       "\"DB: opt gap = 1.0\""
      ]
     },
     "metadata": {},
     "output_type": "display_data"
    },
    {
     "data": {
      "text/plain": [
       "\">>>>>> iteration 9:O\""
      ]
     },
     "metadata": {},
     "output_type": "display_data"
    },
    {
     "data": {
      "text/plain": [
       "\"DB: opt gap = 1.0\""
      ]
     },
     "metadata": {},
     "output_type": "display_data"
    },
    {
     "data": {
      "text/plain": [
       "\">>>>>> iteration 10:O\""
      ]
     },
     "metadata": {},
     "output_type": "display_data"
    },
    {
     "data": {
      "text/plain": [
       "\"DB: opt gap = 0.021554109007131672\""
      ]
     },
     "metadata": {},
     "output_type": "display_data"
    },
    {
     "data": {
      "text/plain": [
       "\">>>>>> iteration 11:O\""
      ]
     },
     "metadata": {},
     "output_type": "display_data"
    },
    {
     "data": {
      "text/plain": [
       "\"DB: opt gap = 0.021487309750649424\""
      ]
     },
     "metadata": {},
     "output_type": "display_data"
    },
    {
     "data": {
      "text/plain": [
       "\">>>>>> iteration 12:O\""
      ]
     },
     "metadata": {},
     "output_type": "display_data"
    },
    {
     "data": {
      "text/plain": [
       "\"DB: opt gap = 2.676275747605055e-6\""
      ]
     },
     "metadata": {},
     "output_type": "display_data"
    },
    {
     "data": {
      "text/plain": [
       "\"time M 1.053999900817871 | time D 5.60699987411499\""
      ]
     },
     "metadata": {},
     "output_type": "display_data"
    },
    {
     "data": {
      "text/plain": [
       "\"evaluating 5 scenarios| option 3\""
      ]
     },
     "metadata": {},
     "output_type": "display_data"
    },
    {
     "data": {
      "text/plain": [
       "\"DB: opt gap = 1.0\""
      ]
     },
     "metadata": {},
     "output_type": "display_data"
    },
    {
     "data": {
      "text/plain": [
       "\">>>>>> iteration 1:O\""
      ]
     },
     "metadata": {},
     "output_type": "display_data"
    },
    {
     "data": {
      "text/plain": [
       "\"DB: opt gap = 1.0\""
      ]
     },
     "metadata": {},
     "output_type": "display_data"
    },
    {
     "data": {
      "text/plain": [
       "\">>>>>> iteration 2:O\""
      ]
     },
     "metadata": {},
     "output_type": "display_data"
    },
    {
     "data": {
      "text/plain": [
       "\"DB: opt gap = 1.0\""
      ]
     },
     "metadata": {},
     "output_type": "display_data"
    },
    {
     "data": {
      "text/plain": [
       "\">>>>>> iteration 3:O\""
      ]
     },
     "metadata": {},
     "output_type": "display_data"
    },
    {
     "data": {
      "text/plain": [
       "\"DB: opt gap = 1.0\""
      ]
     },
     "metadata": {},
     "output_type": "display_data"
    },
    {
     "data": {
      "text/plain": [
       "\">>>>>> iteration 4:O\""
      ]
     },
     "metadata": {},
     "output_type": "display_data"
    },
    {
     "data": {
      "text/plain": [
       "\"DB: opt gap = 1.0\""
      ]
     },
     "metadata": {},
     "output_type": "display_data"
    },
    {
     "data": {
      "text/plain": [
       "\">>>>>> iteration 5:O\""
      ]
     },
     "metadata": {},
     "output_type": "display_data"
    },
    {
     "data": {
      "text/plain": [
       "\"DB: opt gap = 1.0\""
      ]
     },
     "metadata": {},
     "output_type": "display_data"
    },
    {
     "data": {
      "text/plain": [
       "\">>>>>> iteration 6:O\""
      ]
     },
     "metadata": {},
     "output_type": "display_data"
    },
    {
     "data": {
      "text/plain": [
       "\"DB: opt gap = 0.12912781972775786\""
      ]
     },
     "metadata": {},
     "output_type": "display_data"
    },
    {
     "data": {
      "text/plain": [
       "\">>>>>> iteration 7:O\""
      ]
     },
     "metadata": {},
     "output_type": "display_data"
    },
    {
     "data": {
      "text/plain": [
       "\"DB: opt gap = 0.12812803385720906\""
      ]
     },
     "metadata": {},
     "output_type": "display_data"
    },
    {
     "data": {
      "text/plain": [
       "\">>>>>> iteration 8:O\""
      ]
     },
     "metadata": {},
     "output_type": "display_data"
    },
    {
     "data": {
      "text/plain": [
       "\"DB: opt gap = 0.1263452044003342\""
      ]
     },
     "metadata": {},
     "output_type": "display_data"
    },
    {
     "data": {
      "text/plain": [
       "\">>>>>> iteration 9:O\""
      ]
     },
     "metadata": {},
     "output_type": "display_data"
    },
    {
     "data": {
      "text/plain": [
       "\"DB: opt gap = 0.1245063634612802\""
      ]
     },
     "metadata": {},
     "output_type": "display_data"
    },
    {
     "data": {
      "text/plain": [
       "\">>>>>> iteration 10:O\""
      ]
     },
     "metadata": {},
     "output_type": "display_data"
    },
    {
     "data": {
      "text/plain": [
       "\"DB: opt gap = 0.1227029383561788\""
      ]
     },
     "metadata": {},
     "output_type": "display_data"
    },
    {
     "data": {
      "text/plain": [
       "\">>>>>> iteration 11:O\""
      ]
     },
     "metadata": {},
     "output_type": "display_data"
    },
    {
     "data": {
      "text/plain": [
       "\"DB: opt gap = 0.11889633747280709\""
      ]
     },
     "metadata": {},
     "output_type": "display_data"
    },
    {
     "data": {
      "text/plain": [
       "\">>>>>> iteration 12:O\""
      ]
     },
     "metadata": {},
     "output_type": "display_data"
    },
    {
     "data": {
      "text/plain": [
       "\"DB: opt gap = 0.11837983115139222\""
      ]
     },
     "metadata": {},
     "output_type": "display_data"
    },
    {
     "data": {
      "text/plain": [
       "\">>>>>> iteration 13:O\""
      ]
     },
     "metadata": {},
     "output_type": "display_data"
    },
    {
     "data": {
      "text/plain": [
       "\"DB: opt gap = 0.11627424975164749\""
      ]
     },
     "metadata": {},
     "output_type": "display_data"
    },
    {
     "data": {
      "text/plain": [
       "\">>>>>> iteration 14:O\""
      ]
     },
     "metadata": {},
     "output_type": "display_data"
    },
    {
     "data": {
      "text/plain": [
       "\"DB: opt gap = 0.11571360310356872\""
      ]
     },
     "metadata": {},
     "output_type": "display_data"
    },
    {
     "data": {
      "text/plain": [
       "\">>>>>> iteration 15:O\""
      ]
     },
     "metadata": {},
     "output_type": "display_data"
    },
    {
     "data": {
      "text/plain": [
       "\"DB: opt gap = 0.00018947899873964755\""
      ]
     },
     "metadata": {},
     "output_type": "display_data"
    },
    {
     "data": {
      "text/plain": [
       "\"time M 0.8409998416900635 | time D 9.151000261306763\""
      ]
     },
     "metadata": {},
     "output_type": "display_data"
    },
    {
     "data": {
      "text/plain": [
       "\"evaluating 6 scenarios| option 3\""
      ]
     },
     "metadata": {},
     "output_type": "display_data"
    },
    {
     "data": {
      "text/plain": [
       "\"DB: opt gap = 1.0\""
      ]
     },
     "metadata": {},
     "output_type": "display_data"
    },
    {
     "data": {
      "text/plain": [
       "\">>>>>> iteration 1:O\""
      ]
     },
     "metadata": {},
     "output_type": "display_data"
    },
    {
     "data": {
      "text/plain": [
       "\"DB: opt gap = 1.0\""
      ]
     },
     "metadata": {},
     "output_type": "display_data"
    },
    {
     "data": {
      "text/plain": [
       "\">>>>>> iteration 2:O\""
      ]
     },
     "metadata": {},
     "output_type": "display_data"
    },
    {
     "data": {
      "text/plain": [
       "\"DB: opt gap = 1.0\""
      ]
     },
     "metadata": {},
     "output_type": "display_data"
    },
    {
     "data": {
      "text/plain": [
       "\">>>>>> iteration 3:O\""
      ]
     },
     "metadata": {},
     "output_type": "display_data"
    },
    {
     "data": {
      "text/plain": [
       "\"DB: opt gap = 1.0\""
      ]
     },
     "metadata": {},
     "output_type": "display_data"
    },
    {
     "data": {
      "text/plain": [
       "\">>>>>> iteration 4:O\""
      ]
     },
     "metadata": {},
     "output_type": "display_data"
    },
    {
     "data": {
      "text/plain": [
       "\"DB: opt gap = 1.0\""
      ]
     },
     "metadata": {},
     "output_type": "display_data"
    },
    {
     "data": {
      "text/plain": [
       "\">>>>>> iteration 5:O\""
      ]
     },
     "metadata": {},
     "output_type": "display_data"
    },
    {
     "data": {
      "text/plain": [
       "\"DB: opt gap = 1.0\""
      ]
     },
     "metadata": {},
     "output_type": "display_data"
    },
    {
     "data": {
      "text/plain": [
       "\">>>>>> iteration 6:O\""
      ]
     },
     "metadata": {},
     "output_type": "display_data"
    },
    {
     "data": {
      "text/plain": [
       "\"DB: opt gap = 1.0\""
      ]
     },
     "metadata": {},
     "output_type": "display_data"
    },
    {
     "data": {
      "text/plain": [
       "\">>>>>> iteration 7:O\""
      ]
     },
     "metadata": {},
     "output_type": "display_data"
    },
    {
     "data": {
      "text/plain": [
       "\"DB: opt gap = 1.0\""
      ]
     },
     "metadata": {},
     "output_type": "display_data"
    },
    {
     "data": {
      "text/plain": [
       "\">>>>>> iteration 8:O\""
      ]
     },
     "metadata": {},
     "output_type": "display_data"
    },
    {
     "data": {
      "text/plain": [
       "\"DB: opt gap = 1.0\""
      ]
     },
     "metadata": {},
     "output_type": "display_data"
    },
    {
     "data": {
      "text/plain": [
       "\">>>>>> iteration 9:O\""
      ]
     },
     "metadata": {},
     "output_type": "display_data"
    },
    {
     "data": {
      "text/plain": [
       "\"DB: opt gap = 1.0\""
      ]
     },
     "metadata": {},
     "output_type": "display_data"
    },
    {
     "data": {
      "text/plain": [
       "\">>>>>> iteration 10:O\""
      ]
     },
     "metadata": {},
     "output_type": "display_data"
    },
    {
     "data": {
      "text/plain": [
       "\"DB: opt gap = 1.0\""
      ]
     },
     "metadata": {},
     "output_type": "display_data"
    },
    {
     "data": {
      "text/plain": [
       "\">>>>>> iteration 11:O\""
      ]
     },
     "metadata": {},
     "output_type": "display_data"
    },
    {
     "data": {
      "text/plain": [
       "\"DB: opt gap = 1.0\""
      ]
     },
     "metadata": {},
     "output_type": "display_data"
    },
    {
     "data": {
      "text/plain": [
       "\">>>>>> iteration 12:O\""
      ]
     },
     "metadata": {},
     "output_type": "display_data"
    },
    {
     "data": {
      "text/plain": [
       "\"DB: opt gap = 1.0\""
      ]
     },
     "metadata": {},
     "output_type": "display_data"
    },
    {
     "data": {
      "text/plain": [
       "\">>>>>> iteration 13:O\""
      ]
     },
     "metadata": {},
     "output_type": "display_data"
    },
    {
     "data": {
      "text/plain": [
       "\"DB: opt gap = 1.0\""
      ]
     },
     "metadata": {},
     "output_type": "display_data"
    },
    {
     "data": {
      "text/plain": [
       "\">>>>>> iteration 14:O\""
      ]
     },
     "metadata": {},
     "output_type": "display_data"
    },
    {
     "data": {
      "text/plain": [
       "\"DB: opt gap = 1.0\""
      ]
     },
     "metadata": {},
     "output_type": "display_data"
    },
    {
     "data": {
      "text/plain": [
       "\">>>>>> iteration 15:O\""
      ]
     },
     "metadata": {},
     "output_type": "display_data"
    },
    {
     "data": {
      "text/plain": [
       "\"DB: opt gap = 0.0253263197639033\""
      ]
     },
     "metadata": {},
     "output_type": "display_data"
    },
    {
     "data": {
      "text/plain": [
       "\">>>>>> iteration 16:O\""
      ]
     },
     "metadata": {},
     "output_type": "display_data"
    },
    {
     "data": {
      "text/plain": [
       "\"DB: opt gap = 0.025277019815166984\""
      ]
     },
     "metadata": {},
     "output_type": "display_data"
    },
    {
     "data": {
      "text/plain": [
       "\">>>>>> iteration 17:O\""
      ]
     },
     "metadata": {},
     "output_type": "display_data"
    },
    {
     "data": {
      "text/plain": [
       "\">>>>>> iteration 18:F\""
      ]
     },
     "metadata": {},
     "output_type": "display_data"
    },
    {
     "data": {
      "text/plain": [
       "\"DB: opt gap = 9.139891805820827e-7\""
      ]
     },
     "metadata": {},
     "output_type": "display_data"
    },
    {
     "data": {
      "text/plain": [
       "\">>>>>> iteration 19:O\""
      ]
     },
     "metadata": {},
     "output_type": "display_data"
    },
    {
     "data": {
      "text/plain": [
       "\"DB: opt gap = 7.758353024155183e-7\""
      ]
     },
     "metadata": {},
     "output_type": "display_data"
    },
    {
     "data": {
      "text/plain": [
       "\"time M 1.6649999618530273 | time D 9.091001272201538\""
      ]
     },
     "metadata": {},
     "output_type": "display_data"
    },
    {
     "data": {
      "text/plain": [
       "\"evaluating 7 scenarios| option 3\""
      ]
     },
     "metadata": {},
     "output_type": "display_data"
    },
    {
     "data": {
      "text/plain": [
       "\"DB: opt gap = 1.0\""
      ]
     },
     "metadata": {},
     "output_type": "display_data"
    },
    {
     "data": {
      "text/plain": [
       "\">>>>>> iteration 1:O\""
      ]
     },
     "metadata": {},
     "output_type": "display_data"
    },
    {
     "data": {
      "text/plain": [
       "\"DB: opt gap = 1.0\""
      ]
     },
     "metadata": {},
     "output_type": "display_data"
    },
    {
     "data": {
      "text/plain": [
       "\">>>>>> iteration 2:O\""
      ]
     },
     "metadata": {},
     "output_type": "display_data"
    },
    {
     "data": {
      "text/plain": [
       "\"DB: opt gap = 1.0\""
      ]
     },
     "metadata": {},
     "output_type": "display_data"
    },
    {
     "data": {
      "text/plain": [
       "\">>>>>> iteration 3:O\""
      ]
     },
     "metadata": {},
     "output_type": "display_data"
    },
    {
     "data": {
      "text/plain": [
       "\"DB: opt gap = 1.0\""
      ]
     },
     "metadata": {},
     "output_type": "display_data"
    },
    {
     "data": {
      "text/plain": [
       "\">>>>>> iteration 4:O\""
      ]
     },
     "metadata": {},
     "output_type": "display_data"
    },
    {
     "data": {
      "text/plain": [
       "\"DB: opt gap = 1.0\""
      ]
     },
     "metadata": {},
     "output_type": "display_data"
    },
    {
     "data": {
      "text/plain": [
       "\">>>>>> iteration 5:O\""
      ]
     },
     "metadata": {},
     "output_type": "display_data"
    },
    {
     "data": {
      "text/plain": [
       "\"DB: opt gap = 1.0\""
      ]
     },
     "metadata": {},
     "output_type": "display_data"
    },
    {
     "data": {
      "text/plain": [
       "\">>>>>> iteration 6:O\""
      ]
     },
     "metadata": {},
     "output_type": "display_data"
    },
    {
     "data": {
      "text/plain": [
       "\"DB: opt gap = 1.0\""
      ]
     },
     "metadata": {},
     "output_type": "display_data"
    },
    {
     "data": {
      "text/plain": [
       "\">>>>>> iteration 7:O\""
      ]
     },
     "metadata": {},
     "output_type": "display_data"
    },
    {
     "data": {
      "text/plain": [
       "\"DB: opt gap = 1.0\""
      ]
     },
     "metadata": {},
     "output_type": "display_data"
    },
    {
     "data": {
      "text/plain": [
       "\">>>>>> iteration 8:O\""
      ]
     },
     "metadata": {},
     "output_type": "display_data"
    },
    {
     "data": {
      "text/plain": [
       "\"DB: opt gap = 1.0\""
      ]
     },
     "metadata": {},
     "output_type": "display_data"
    },
    {
     "data": {
      "text/plain": [
       "\">>>>>> iteration 9:O\""
      ]
     },
     "metadata": {},
     "output_type": "display_data"
    },
    {
     "data": {
      "text/plain": [
       "\"DB: opt gap = 1.0\""
      ]
     },
     "metadata": {},
     "output_type": "display_data"
    },
    {
     "data": {
      "text/plain": [
       "\">>>>>> iteration 10:O\""
      ]
     },
     "metadata": {},
     "output_type": "display_data"
    },
    {
     "data": {
      "text/plain": [
       "\"DB: opt gap = 1.0\""
      ]
     },
     "metadata": {},
     "output_type": "display_data"
    },
    {
     "data": {
      "text/plain": [
       "\">>>>>> iteration 11:O\""
      ]
     },
     "metadata": {},
     "output_type": "display_data"
    },
    {
     "data": {
      "text/plain": [
       "\"DB: opt gap = 0.04726744792641305\""
      ]
     },
     "metadata": {},
     "output_type": "display_data"
    },
    {
     "data": {
      "text/plain": [
       "\">>>>>> iteration 12:O\""
      ]
     },
     "metadata": {},
     "output_type": "display_data"
    },
    {
     "data": {
      "text/plain": [
       "\"DB: opt gap = 0.04712470583774019\""
      ]
     },
     "metadata": {},
     "output_type": "display_data"
    },
    {
     "data": {
      "text/plain": [
       "\">>>>>> iteration 13:O\""
      ]
     },
     "metadata": {},
     "output_type": "display_data"
    },
    {
     "data": {
      "text/plain": [
       "\"DB: opt gap = 0.046850527301370945\""
      ]
     },
     "metadata": {},
     "output_type": "display_data"
    },
    {
     "data": {
      "text/plain": [
       "\">>>>>> iteration 14:O\""
      ]
     },
     "metadata": {},
     "output_type": "display_data"
    },
    {
     "data": {
      "text/plain": [
       "\"DB: opt gap = 0.04629409590411664\""
      ]
     },
     "metadata": {},
     "output_type": "display_data"
    },
    {
     "data": {
      "text/plain": [
       "\">>>>>> iteration 15:O\""
      ]
     },
     "metadata": {},
     "output_type": "display_data"
    },
    {
     "data": {
      "text/plain": [
       "\"DB: opt gap = 0.04617462467409117\""
      ]
     },
     "metadata": {},
     "output_type": "display_data"
    },
    {
     "data": {
      "text/plain": [
       "\">>>>>> iteration 16:O\""
      ]
     },
     "metadata": {},
     "output_type": "display_data"
    },
    {
     "data": {
      "text/plain": [
       "\">>>>>> iteration 17:F\""
      ]
     },
     "metadata": {},
     "output_type": "display_data"
    },
    {
     "data": {
      "text/plain": [
       "\"DB: opt gap = 0.04591319856298393\""
      ]
     },
     "metadata": {},
     "output_type": "display_data"
    },
    {
     "data": {
      "text/plain": [
       "\">>>>>> iteration 18:O\""
      ]
     },
     "metadata": {},
     "output_type": "display_data"
    },
    {
     "data": {
      "text/plain": [
       "\"DB: opt gap = 0.0457712169478815\""
      ]
     },
     "metadata": {},
     "output_type": "display_data"
    },
    {
     "data": {
      "text/plain": [
       "\">>>>>> iteration 19:O\""
      ]
     },
     "metadata": {},
     "output_type": "display_data"
    },
    {
     "data": {
      "text/plain": [
       "\"DB: opt gap = 1.6538762764093623e-5\""
      ]
     },
     "metadata": {},
     "output_type": "display_data"
    },
    {
     "data": {
      "text/plain": [
       "\"time M 2.07099986076355 | time D 10.47100019454956\""
      ]
     },
     "metadata": {},
     "output_type": "display_data"
    },
    {
     "data": {
      "text/plain": [
       "\"evaluating 8 scenarios| option 3\""
      ]
     },
     "metadata": {},
     "output_type": "display_data"
    },
    {
     "data": {
      "text/plain": [
       "\"DB: opt gap = 1.0\""
      ]
     },
     "metadata": {},
     "output_type": "display_data"
    },
    {
     "data": {
      "text/plain": [
       "\">>>>>> iteration 1:O\""
      ]
     },
     "metadata": {},
     "output_type": "display_data"
    },
    {
     "data": {
      "text/plain": [
       "\"DB: opt gap = 1.0\""
      ]
     },
     "metadata": {},
     "output_type": "display_data"
    },
    {
     "data": {
      "text/plain": [
       "\">>>>>> iteration 2:O\""
      ]
     },
     "metadata": {},
     "output_type": "display_data"
    },
    {
     "data": {
      "text/plain": [
       "\"DB: opt gap = 1.0\""
      ]
     },
     "metadata": {},
     "output_type": "display_data"
    },
    {
     "data": {
      "text/plain": [
       "\">>>>>> iteration 3:O\""
      ]
     },
     "metadata": {},
     "output_type": "display_data"
    },
    {
     "data": {
      "text/plain": [
       "\"DB: opt gap = 1.0\""
      ]
     },
     "metadata": {},
     "output_type": "display_data"
    },
    {
     "data": {
      "text/plain": [
       "\">>>>>> iteration 4:O\""
      ]
     },
     "metadata": {},
     "output_type": "display_data"
    },
    {
     "data": {
      "text/plain": [
       "\"DB: opt gap = 1.0\""
      ]
     },
     "metadata": {},
     "output_type": "display_data"
    },
    {
     "data": {
      "text/plain": [
       "\">>>>>> iteration 5:O\""
      ]
     },
     "metadata": {},
     "output_type": "display_data"
    },
    {
     "data": {
      "text/plain": [
       "\"DB: opt gap = 1.0\""
      ]
     },
     "metadata": {},
     "output_type": "display_data"
    },
    {
     "data": {
      "text/plain": [
       "\">>>>>> iteration 6:O\""
      ]
     },
     "metadata": {},
     "output_type": "display_data"
    },
    {
     "data": {
      "text/plain": [
       "\"DB: opt gap = 1.0\""
      ]
     },
     "metadata": {},
     "output_type": "display_data"
    },
    {
     "data": {
      "text/plain": [
       "\">>>>>> iteration 7:O\""
      ]
     },
     "metadata": {},
     "output_type": "display_data"
    },
    {
     "data": {
      "text/plain": [
       "\"DB: opt gap = 1.0\""
      ]
     },
     "metadata": {},
     "output_type": "display_data"
    },
    {
     "data": {
      "text/plain": [
       "\">>>>>> iteration 8:O\""
      ]
     },
     "metadata": {},
     "output_type": "display_data"
    },
    {
     "data": {
      "text/plain": [
       "\"DB: opt gap = 1.0\""
      ]
     },
     "metadata": {},
     "output_type": "display_data"
    },
    {
     "data": {
      "text/plain": [
       "\">>>>>> iteration 9:O\""
      ]
     },
     "metadata": {},
     "output_type": "display_data"
    },
    {
     "data": {
      "text/plain": [
       "\"DB: opt gap = 1.0\""
      ]
     },
     "metadata": {},
     "output_type": "display_data"
    },
    {
     "data": {
      "text/plain": [
       "\">>>>>> iteration 10:O\""
      ]
     },
     "metadata": {},
     "output_type": "display_data"
    },
    {
     "data": {
      "text/plain": [
       "\"DB: opt gap = 1.0\""
      ]
     },
     "metadata": {},
     "output_type": "display_data"
    },
    {
     "data": {
      "text/plain": [
       "\">>>>>> iteration 11:O\""
      ]
     },
     "metadata": {},
     "output_type": "display_data"
    },
    {
     "data": {
      "text/plain": [
       "\"DB: opt gap = 1.0\""
      ]
     },
     "metadata": {},
     "output_type": "display_data"
    },
    {
     "data": {
      "text/plain": [
       "\">>>>>> iteration 12:O\""
      ]
     },
     "metadata": {},
     "output_type": "display_data"
    },
    {
     "data": {
      "text/plain": [
       "\"DB: opt gap = 0.06733119035765696\""
      ]
     },
     "metadata": {},
     "output_type": "display_data"
    },
    {
     "data": {
      "text/plain": [
       "\">>>>>> iteration 13:O\""
      ]
     },
     "metadata": {},
     "output_type": "display_data"
    },
    {
     "data": {
      "text/plain": [
       "\"DB: opt gap = 0.0670996595031898\""
      ]
     },
     "metadata": {},
     "output_type": "display_data"
    },
    {
     "data": {
      "text/plain": [
       "\">>>>>> iteration 14:O\""
      ]
     },
     "metadata": {},
     "output_type": "display_data"
    },
    {
     "data": {
      "text/plain": [
       "\"DB: opt gap = 0.06665404585715803\""
      ]
     },
     "metadata": {},
     "output_type": "display_data"
    },
    {
     "data": {
      "text/plain": [
       "\">>>>>> iteration 15:O\""
      ]
     },
     "metadata": {},
     "output_type": "display_data"
    },
    {
     "data": {
      "text/plain": [
       "\"DB: opt gap = 0.0661660205206656\""
      ]
     },
     "metadata": {},
     "output_type": "display_data"
    },
    {
     "data": {
      "text/plain": [
       "\">>>>>> iteration 16:O\""
      ]
     },
     "metadata": {},
     "output_type": "display_data"
    },
    {
     "data": {
      "text/plain": [
       "\"DB: opt gap = 0.06417319614242505\""
      ]
     },
     "metadata": {},
     "output_type": "display_data"
    },
    {
     "data": {
      "text/plain": [
       "\">>>>>> iteration 17:O\""
      ]
     },
     "metadata": {},
     "output_type": "display_data"
    },
    {
     "data": {
      "text/plain": [
       "\"DB: opt gap = 0.06403689807868304\""
      ]
     },
     "metadata": {},
     "output_type": "display_data"
    },
    {
     "data": {
      "text/plain": [
       "\">>>>>> iteration 18:O\""
      ]
     },
     "metadata": {},
     "output_type": "display_data"
    },
    {
     "data": {
      "text/plain": [
       "\"DB: opt gap = 0.06369841386247538\""
      ]
     },
     "metadata": {},
     "output_type": "display_data"
    },
    {
     "data": {
      "text/plain": [
       "\">>>>>> iteration 19:O\""
      ]
     },
     "metadata": {},
     "output_type": "display_data"
    },
    {
     "data": {
      "text/plain": [
       "\"DB: opt gap = 0.06354985245371544\""
      ]
     },
     "metadata": {},
     "output_type": "display_data"
    },
    {
     "data": {
      "text/plain": [
       "\">>>>>> iteration 20:O\""
      ]
     },
     "metadata": {},
     "output_type": "display_data"
    },
    {
     "data": {
      "text/plain": [
       "\"DB: opt gap = 0.0627796267144599\""
      ]
     },
     "metadata": {},
     "output_type": "display_data"
    },
    {
     "data": {
      "text/plain": [
       "\">>>>>> iteration 21:O\""
      ]
     },
     "metadata": {},
     "output_type": "display_data"
    },
    {
     "data": {
      "text/plain": [
       "\"DB: opt gap = 0.06262236972954417\""
      ]
     },
     "metadata": {},
     "output_type": "display_data"
    },
    {
     "data": {
      "text/plain": [
       "\">>>>>> iteration 22:O\""
      ]
     },
     "metadata": {},
     "output_type": "display_data"
    },
    {
     "data": {
      "text/plain": [
       "\"DB: opt gap = 0.06222276800785182\""
      ]
     },
     "metadata": {},
     "output_type": "display_data"
    },
    {
     "data": {
      "text/plain": [
       "\">>>>>> iteration 23:O\""
      ]
     },
     "metadata": {},
     "output_type": "display_data"
    },
    {
     "data": {
      "text/plain": [
       "\"DB: opt gap = 0.06205127264468048\""
      ]
     },
     "metadata": {},
     "output_type": "display_data"
    },
    {
     "data": {
      "text/plain": [
       "\">>>>>> iteration 24:O\""
      ]
     },
     "metadata": {},
     "output_type": "display_data"
    },
    {
     "data": {
      "text/plain": [
       "\"DB: opt gap = 5.735959214569434e-5\""
      ]
     },
     "metadata": {},
     "output_type": "display_data"
    },
    {
     "data": {
      "text/plain": [
       "\"time M 3.046999931335449 | time D 16.173002004623413\""
      ]
     },
     "metadata": {},
     "output_type": "display_data"
    },
    {
     "data": {
      "text/plain": [
       "\"evaluating 9 scenarios| option 3\""
      ]
     },
     "metadata": {},
     "output_type": "display_data"
    },
    {
     "data": {
      "text/plain": [
       "\"DB: opt gap = 1.0\""
      ]
     },
     "metadata": {},
     "output_type": "display_data"
    },
    {
     "data": {
      "text/plain": [
       "\">>>>>> iteration 1:O\""
      ]
     },
     "metadata": {},
     "output_type": "display_data"
    },
    {
     "data": {
      "text/plain": [
       "\"DB: opt gap = 1.0\""
      ]
     },
     "metadata": {},
     "output_type": "display_data"
    },
    {
     "data": {
      "text/plain": [
       "\">>>>>> iteration 2:O\""
      ]
     },
     "metadata": {},
     "output_type": "display_data"
    },
    {
     "data": {
      "text/plain": [
       "\"DB: opt gap = 1.0\""
      ]
     },
     "metadata": {},
     "output_type": "display_data"
    },
    {
     "data": {
      "text/plain": [
       "\">>>>>> iteration 3:O\""
      ]
     },
     "metadata": {},
     "output_type": "display_data"
    },
    {
     "data": {
      "text/plain": [
       "\"DB: opt gap = 1.0\""
      ]
     },
     "metadata": {},
     "output_type": "display_data"
    },
    {
     "data": {
      "text/plain": [
       "\">>>>>> iteration 4:O\""
      ]
     },
     "metadata": {},
     "output_type": "display_data"
    },
    {
     "data": {
      "text/plain": [
       "\"DB: opt gap = 1.0\""
      ]
     },
     "metadata": {},
     "output_type": "display_data"
    },
    {
     "data": {
      "text/plain": [
       "\">>>>>> iteration 5:O\""
      ]
     },
     "metadata": {},
     "output_type": "display_data"
    },
    {
     "data": {
      "text/plain": [
       "\"DB: opt gap = 1.0\""
      ]
     },
     "metadata": {},
     "output_type": "display_data"
    },
    {
     "data": {
      "text/plain": [
       "\">>>>>> iteration 6:O\""
      ]
     },
     "metadata": {},
     "output_type": "display_data"
    },
    {
     "data": {
      "text/plain": [
       "\"DB: opt gap = 1.0\""
      ]
     },
     "metadata": {},
     "output_type": "display_data"
    },
    {
     "data": {
      "text/plain": [
       "\">>>>>> iteration 7:O\""
      ]
     },
     "metadata": {},
     "output_type": "display_data"
    },
    {
     "data": {
      "text/plain": [
       "\"DB: opt gap = 1.0\""
      ]
     },
     "metadata": {},
     "output_type": "display_data"
    },
    {
     "data": {
      "text/plain": [
       "\">>>>>> iteration 8:O\""
      ]
     },
     "metadata": {},
     "output_type": "display_data"
    },
    {
     "data": {
      "text/plain": [
       "\"DB: opt gap = 0.1410927379940634\""
      ]
     },
     "metadata": {},
     "output_type": "display_data"
    },
    {
     "data": {
      "text/plain": [
       "\">>>>>> iteration 9:O\""
      ]
     },
     "metadata": {},
     "output_type": "display_data"
    },
    {
     "data": {
      "text/plain": [
       "\"DB: opt gap = 0.14053769428401727\""
      ]
     },
     "metadata": {},
     "output_type": "display_data"
    },
    {
     "data": {
      "text/plain": [
       "\">>>>>> iteration 10:O\""
      ]
     },
     "metadata": {},
     "output_type": "display_data"
    },
    {
     "data": {
      "text/plain": [
       "\">>>>>> iteration 11:F\""
      ]
     },
     "metadata": {},
     "output_type": "display_data"
    },
    {
     "data": {
      "text/plain": [
       "\"DB: opt gap = 0.1393343122830033\""
      ]
     },
     "metadata": {},
     "output_type": "display_data"
    },
    {
     "data": {
      "text/plain": [
       "\">>>>>> iteration 12:O\""
      ]
     },
     "metadata": {},
     "output_type": "display_data"
    },
    {
     "data": {
      "text/plain": [
       "\"DB: opt gap = 0.1379590463756287\""
      ]
     },
     "metadata": {},
     "output_type": "display_data"
    },
    {
     "data": {
      "text/plain": [
       "\">>>>>> iteration 13:O\""
      ]
     },
     "metadata": {},
     "output_type": "display_data"
    },
    {
     "data": {
      "text/plain": [
       "\"DB: opt gap = 0.13678171551111476\""
      ]
     },
     "metadata": {},
     "output_type": "display_data"
    },
    {
     "data": {
      "text/plain": [
       "\">>>>>> iteration 14:O\""
      ]
     },
     "metadata": {},
     "output_type": "display_data"
    },
    {
     "data": {
      "text/plain": [
       "\"DB: opt gap = 0.13545976523733466\""
      ]
     },
     "metadata": {},
     "output_type": "display_data"
    },
    {
     "data": {
      "text/plain": [
       "\">>>>>> iteration 15:O\""
      ]
     },
     "metadata": {},
     "output_type": "display_data"
    },
    {
     "data": {
      "text/plain": [
       "\"DB: opt gap = 2.4651436673905865e-5\""
      ]
     },
     "metadata": {},
     "output_type": "display_data"
    },
    {
     "data": {
      "text/plain": [
       "\"time M 2.9639999866485596 | time D 10.349999904632568\""
      ]
     },
     "metadata": {},
     "output_type": "display_data"
    },
    {
     "data": {
      "text/plain": [
       "\"evaluating 10 scenarios| option 3\""
      ]
     },
     "metadata": {},
     "output_type": "display_data"
    },
    {
     "data": {
      "text/plain": [
       "\"DB: opt gap = 1.0\""
      ]
     },
     "metadata": {},
     "output_type": "display_data"
    },
    {
     "data": {
      "text/plain": [
       "\">>>>>> iteration 1:O\""
      ]
     },
     "metadata": {},
     "output_type": "display_data"
    },
    {
     "data": {
      "text/plain": [
       "\"DB: opt gap = 1.0\""
      ]
     },
     "metadata": {},
     "output_type": "display_data"
    },
    {
     "data": {
      "text/plain": [
       "\">>>>>> iteration 2:O\""
      ]
     },
     "metadata": {},
     "output_type": "display_data"
    },
    {
     "data": {
      "text/plain": [
       "\"DB: opt gap = 1.0\""
      ]
     },
     "metadata": {},
     "output_type": "display_data"
    },
    {
     "data": {
      "text/plain": [
       "\">>>>>> iteration 3:O\""
      ]
     },
     "metadata": {},
     "output_type": "display_data"
    },
    {
     "data": {
      "text/plain": [
       "\"DB: opt gap = 1.0\""
      ]
     },
     "metadata": {},
     "output_type": "display_data"
    },
    {
     "data": {
      "text/plain": [
       "\">>>>>> iteration 4:O\""
      ]
     },
     "metadata": {},
     "output_type": "display_data"
    },
    {
     "data": {
      "text/plain": [
       "\"DB: opt gap = 1.0\""
      ]
     },
     "metadata": {},
     "output_type": "display_data"
    },
    {
     "data": {
      "text/plain": [
       "\">>>>>> iteration 5:O\""
      ]
     },
     "metadata": {},
     "output_type": "display_data"
    },
    {
     "data": {
      "text/plain": [
       "\"DB: opt gap = 1.0\""
      ]
     },
     "metadata": {},
     "output_type": "display_data"
    },
    {
     "data": {
      "text/plain": [
       "\">>>>>> iteration 6:O\""
      ]
     },
     "metadata": {},
     "output_type": "display_data"
    },
    {
     "data": {
      "text/plain": [
       "\"DB: opt gap = 1.0\""
      ]
     },
     "metadata": {},
     "output_type": "display_data"
    },
    {
     "data": {
      "text/plain": [
       "\">>>>>> iteration 7:O\""
      ]
     },
     "metadata": {},
     "output_type": "display_data"
    },
    {
     "data": {
      "text/plain": [
       "\"DB: opt gap = 1.0\""
      ]
     },
     "metadata": {},
     "output_type": "display_data"
    },
    {
     "data": {
      "text/plain": [
       "\">>>>>> iteration 8:O\""
      ]
     },
     "metadata": {},
     "output_type": "display_data"
    },
    {
     "data": {
      "text/plain": [
       "\"DB: opt gap = 1.0\""
      ]
     },
     "metadata": {},
     "output_type": "display_data"
    },
    {
     "data": {
      "text/plain": [
       "\">>>>>> iteration 9:O\""
      ]
     },
     "metadata": {},
     "output_type": "display_data"
    },
    {
     "data": {
      "text/plain": [
       "\"DB: opt gap = 1.0\""
      ]
     },
     "metadata": {},
     "output_type": "display_data"
    },
    {
     "data": {
      "text/plain": [
       "\">>>>>> iteration 10:O\""
      ]
     },
     "metadata": {},
     "output_type": "display_data"
    },
    {
     "data": {
      "text/plain": [
       "\"DB: opt gap = 0.1434790653168058\""
      ]
     },
     "metadata": {},
     "output_type": "display_data"
    },
    {
     "data": {
      "text/plain": [
       "\">>>>>> iteration 11:O\""
      ]
     },
     "metadata": {},
     "output_type": "display_data"
    },
    {
     "data": {
      "text/plain": [
       "\"DB: opt gap = 0.14288390956355382\""
      ]
     },
     "metadata": {},
     "output_type": "display_data"
    },
    {
     "data": {
      "text/plain": [
       "\">>>>>> iteration 12:O\""
      ]
     },
     "metadata": {},
     "output_type": "display_data"
    },
    {
     "data": {
      "text/plain": [
       "\"DB: opt gap = 0.141811307439184\""
      ]
     },
     "metadata": {},
     "output_type": "display_data"
    },
    {
     "data": {
      "text/plain": [
       "\">>>>>> iteration 13:O\""
      ]
     },
     "metadata": {},
     "output_type": "display_data"
    },
    {
     "data": {
      "text/plain": [
       "\"DB: opt gap = 0.14028586681231578\""
      ]
     },
     "metadata": {},
     "output_type": "display_data"
    },
    {
     "data": {
      "text/plain": [
       "\">>>>>> iteration 14:O\""
      ]
     },
     "metadata": {},
     "output_type": "display_data"
    },
    {
     "data": {
      "text/plain": [
       "\"DB: opt gap = 0.13909888680828847\""
      ]
     },
     "metadata": {},
     "output_type": "display_data"
    },
    {
     "data": {
      "text/plain": [
       "\">>>>>> iteration 15:O\""
      ]
     },
     "metadata": {},
     "output_type": "display_data"
    },
    {
     "data": {
      "text/plain": [
       "\">>>>>> iteration 16:F\""
      ]
     },
     "metadata": {},
     "output_type": "display_data"
    },
    {
     "data": {
      "text/plain": [
       "\"DB: opt gap = 0.13896174313525742\""
      ]
     },
     "metadata": {},
     "output_type": "display_data"
    },
    {
     "data": {
      "text/plain": [
       "\">>>>>> iteration 17:O\""
      ]
     },
     "metadata": {},
     "output_type": "display_data"
    },
    {
     "data": {
      "text/plain": [
       "\"DB: opt gap = 0.13708876235018547\""
      ]
     },
     "metadata": {},
     "output_type": "display_data"
    },
    {
     "data": {
      "text/plain": [
       "\">>>>>> iteration 18:O\""
      ]
     },
     "metadata": {},
     "output_type": "display_data"
    },
    {
     "data": {
      "text/plain": [
       "\"DB: opt gap = 0.12018221259910411\""
      ]
     },
     "metadata": {},
     "output_type": "display_data"
    },
    {
     "data": {
      "text/plain": [
       "\">>>>>> iteration 19:O\""
      ]
     },
     "metadata": {},
     "output_type": "display_data"
    },
    {
     "data": {
      "text/plain": [
       "\"DB: opt gap = 0.11978317259941379\""
      ]
     },
     "metadata": {},
     "output_type": "display_data"
    },
    {
     "data": {
      "text/plain": [
       "\">>>>>> iteration 20:O\""
      ]
     },
     "metadata": {},
     "output_type": "display_data"
    },
    {
     "data": {
      "text/plain": [
       "\"DB: opt gap = 0.11820454128051122\""
      ]
     },
     "metadata": {},
     "output_type": "display_data"
    },
    {
     "data": {
      "text/plain": [
       "\">>>>>> iteration 21:O\""
      ]
     },
     "metadata": {},
     "output_type": "display_data"
    },
    {
     "data": {
      "text/plain": [
       "\"DB: opt gap = 0.0005577722371087878\""
      ]
     },
     "metadata": {},
     "output_type": "display_data"
    },
    {
     "data": {
      "text/plain": [
       "\"time M 4.930999994277954 | time D 15.776000738143921\""
      ]
     },
     "metadata": {},
     "output_type": "display_data"
    },
    {
     "data": {
      "text/plain": [
       "\"evaluating 11 scenarios| option 3\""
      ]
     },
     "metadata": {},
     "output_type": "display_data"
    },
    {
     "data": {
      "text/plain": [
       "\"DB: opt gap = 1.0\""
      ]
     },
     "metadata": {},
     "output_type": "display_data"
    },
    {
     "data": {
      "text/plain": [
       "\">>>>>> iteration 1:O\""
      ]
     },
     "metadata": {},
     "output_type": "display_data"
    },
    {
     "data": {
      "text/plain": [
       "\"DB: opt gap = 1.0\""
      ]
     },
     "metadata": {},
     "output_type": "display_data"
    },
    {
     "data": {
      "text/plain": [
       "\">>>>>> iteration 2:O\""
      ]
     },
     "metadata": {},
     "output_type": "display_data"
    },
    {
     "data": {
      "text/plain": [
       "\"DB: opt gap = 1.0\""
      ]
     },
     "metadata": {},
     "output_type": "display_data"
    },
    {
     "data": {
      "text/plain": [
       "\">>>>>> iteration 3:O\""
      ]
     },
     "metadata": {},
     "output_type": "display_data"
    },
    {
     "data": {
      "text/plain": [
       "\"DB: opt gap = 1.0\""
      ]
     },
     "metadata": {},
     "output_type": "display_data"
    },
    {
     "data": {
      "text/plain": [
       "\">>>>>> iteration 4:O\""
      ]
     },
     "metadata": {},
     "output_type": "display_data"
    },
    {
     "data": {
      "text/plain": [
       "\"DB: opt gap = 1.0\""
      ]
     },
     "metadata": {},
     "output_type": "display_data"
    },
    {
     "data": {
      "text/plain": [
       "\">>>>>> iteration 5:O\""
      ]
     },
     "metadata": {},
     "output_type": "display_data"
    },
    {
     "data": {
      "text/plain": [
       "\"DB: opt gap = 1.0\""
      ]
     },
     "metadata": {},
     "output_type": "display_data"
    },
    {
     "data": {
      "text/plain": [
       "\">>>>>> iteration 6:O\""
      ]
     },
     "metadata": {},
     "output_type": "display_data"
    },
    {
     "data": {
      "text/plain": [
       "\"DB: opt gap = 1.0\""
      ]
     },
     "metadata": {},
     "output_type": "display_data"
    },
    {
     "data": {
      "text/plain": [
       "\">>>>>> iteration 7:O\""
      ]
     },
     "metadata": {},
     "output_type": "display_data"
    },
    {
     "data": {
      "text/plain": [
       "\"DB: opt gap = 1.0\""
      ]
     },
     "metadata": {},
     "output_type": "display_data"
    },
    {
     "data": {
      "text/plain": [
       "\">>>>>> iteration 8:O\""
      ]
     },
     "metadata": {},
     "output_type": "display_data"
    },
    {
     "data": {
      "text/plain": [
       "\"DB: opt gap = 1.0\""
      ]
     },
     "metadata": {},
     "output_type": "display_data"
    },
    {
     "data": {
      "text/plain": [
       "\">>>>>> iteration 9:O\""
      ]
     },
     "metadata": {},
     "output_type": "display_data"
    },
    {
     "data": {
      "text/plain": [
       "\"DB: opt gap = 1.0\""
      ]
     },
     "metadata": {},
     "output_type": "display_data"
    },
    {
     "data": {
      "text/plain": [
       "\">>>>>> iteration 10:O\""
      ]
     },
     "metadata": {},
     "output_type": "display_data"
    },
    {
     "data": {
      "text/plain": [
       "\"DB: opt gap = 1.0\""
      ]
     },
     "metadata": {},
     "output_type": "display_data"
    },
    {
     "data": {
      "text/plain": [
       "\">>>>>> iteration 11:O\""
      ]
     },
     "metadata": {},
     "output_type": "display_data"
    },
    {
     "data": {
      "text/plain": [
       "\"DB: opt gap = 1.0\""
      ]
     },
     "metadata": {},
     "output_type": "display_data"
    },
    {
     "data": {
      "text/plain": [
       "\">>>>>> iteration 12:O\""
      ]
     },
     "metadata": {},
     "output_type": "display_data"
    },
    {
     "data": {
      "text/plain": [
       "\"DB: opt gap = 0.08739480732780593\""
      ]
     },
     "metadata": {},
     "output_type": "display_data"
    },
    {
     "data": {
      "text/plain": [
       "\">>>>>> iteration 13:O\""
      ]
     },
     "metadata": {},
     "output_type": "display_data"
    },
    {
     "data": {
      "text/plain": [
       "\"DB: opt gap = 0.08716063039412852\""
      ]
     },
     "metadata": {},
     "output_type": "display_data"
    },
    {
     "data": {
      "text/plain": [
       "\">>>>>> iteration 14:O\""
      ]
     },
     "metadata": {},
     "output_type": "display_data"
    },
    {
     "data": {
      "text/plain": [
       "\">>>>>> iteration 15:F\""
      ]
     },
     "metadata": {},
     "output_type": "display_data"
    },
    {
     "data": {
      "text/plain": [
       "\"DB: opt gap = 0.08665038500221463\""
      ]
     },
     "metadata": {},
     "output_type": "display_data"
    },
    {
     "data": {
      "text/plain": [
       "\">>>>>> iteration 16:O\""
      ]
     },
     "metadata": {},
     "output_type": "display_data"
    },
    {
     "data": {
      "text/plain": [
       "\"DB: opt gap = 0.08486168656020493\""
      ]
     },
     "metadata": {},
     "output_type": "display_data"
    },
    {
     "data": {
      "text/plain": [
       "\">>>>>> iteration 17:O\""
      ]
     },
     "metadata": {},
     "output_type": "display_data"
    },
    {
     "data": {
      "text/plain": [
       "\"DB: opt gap = 0.0586070296556088\""
      ]
     },
     "metadata": {},
     "output_type": "display_data"
    },
    {
     "data": {
      "text/plain": [
       "\">>>>>> iteration 18:O\""
      ]
     },
     "metadata": {},
     "output_type": "display_data"
    },
    {
     "data": {
      "text/plain": [
       "\"DB: opt gap = 0.05853725158592339\""
      ]
     },
     "metadata": {},
     "output_type": "display_data"
    },
    {
     "data": {
      "text/plain": [
       "\">>>>>> iteration 19:O\""
      ]
     },
     "metadata": {},
     "output_type": "display_data"
    },
    {
     "data": {
      "text/plain": [
       "\"DB: opt gap = 0.05847001795134363\""
      ]
     },
     "metadata": {},
     "output_type": "display_data"
    },
    {
     "data": {
      "text/plain": [
       "\">>>>>> iteration 20:O\""
      ]
     },
     "metadata": {},
     "output_type": "display_data"
    },
    {
     "data": {
      "text/plain": [
       "\"DB: opt gap = 0.05834634771159886\""
      ]
     },
     "metadata": {},
     "output_type": "display_data"
    },
    {
     "data": {
      "text/plain": [
       "\">>>>>> iteration 21:O\""
      ]
     },
     "metadata": {},
     "output_type": "display_data"
    },
    {
     "data": {
      "text/plain": [
       "\"DB: opt gap = 0.058085156590373686\""
      ]
     },
     "metadata": {},
     "output_type": "display_data"
    },
    {
     "data": {
      "text/plain": [
       "\">>>>>> iteration 22:O\""
      ]
     },
     "metadata": {},
     "output_type": "display_data"
    },
    {
     "data": {
      "text/plain": [
       "\"DB: opt gap = 0.05794145177110629\""
      ]
     },
     "metadata": {},
     "output_type": "display_data"
    },
    {
     "data": {
      "text/plain": [
       "\">>>>>> iteration 23:O\""
      ]
     },
     "metadata": {},
     "output_type": "display_data"
    },
    {
     "data": {
      "text/plain": [
       "\"DB: opt gap = 0.0013755224472698012\""
      ]
     },
     "metadata": {},
     "output_type": "display_data"
    },
    {
     "data": {
      "text/plain": [
       "\">>>>>> iteration 24:O\""
      ]
     },
     "metadata": {},
     "output_type": "display_data"
    },
    {
     "data": {
      "text/plain": [
       "\"DB: opt gap = 1.337050965327423e-7\""
      ]
     },
     "metadata": {},
     "output_type": "display_data"
    },
    {
     "data": {
      "text/plain": [
       "\"time M 4.243000030517578 | time D 19.690000772476196\""
      ]
     },
     "metadata": {},
     "output_type": "display_data"
    },
    {
     "data": {
      "text/plain": [
       "\"evaluating 12 scenarios| option 3\""
      ]
     },
     "metadata": {},
     "output_type": "display_data"
    },
    {
     "data": {
      "text/plain": [
       "\"DB: opt gap = 1.0\""
      ]
     },
     "metadata": {},
     "output_type": "display_data"
    },
    {
     "data": {
      "text/plain": [
       "\">>>>>> iteration 1:O\""
      ]
     },
     "metadata": {},
     "output_type": "display_data"
    },
    {
     "data": {
      "text/plain": [
       "\"DB: opt gap = 1.0\""
      ]
     },
     "metadata": {},
     "output_type": "display_data"
    },
    {
     "data": {
      "text/plain": [
       "\">>>>>> iteration 2:O\""
      ]
     },
     "metadata": {},
     "output_type": "display_data"
    },
    {
     "data": {
      "text/plain": [
       "\"DB: opt gap = 1.0\""
      ]
     },
     "metadata": {},
     "output_type": "display_data"
    },
    {
     "data": {
      "text/plain": [
       "\">>>>>> iteration 3:O\""
      ]
     },
     "metadata": {},
     "output_type": "display_data"
    },
    {
     "data": {
      "text/plain": [
       "\"DB: opt gap = 1.0\""
      ]
     },
     "metadata": {},
     "output_type": "display_data"
    },
    {
     "data": {
      "text/plain": [
       "\">>>>>> iteration 4:O\""
      ]
     },
     "metadata": {},
     "output_type": "display_data"
    },
    {
     "data": {
      "text/plain": [
       "\"DB: opt gap = 1.0\""
      ]
     },
     "metadata": {},
     "output_type": "display_data"
    },
    {
     "data": {
      "text/plain": [
       "\">>>>>> iteration 5:O\""
      ]
     },
     "metadata": {},
     "output_type": "display_data"
    },
    {
     "data": {
      "text/plain": [
       "\"DB: opt gap = 1.0\""
      ]
     },
     "metadata": {},
     "output_type": "display_data"
    },
    {
     "data": {
      "text/plain": [
       "\">>>>>> iteration 6:O\""
      ]
     },
     "metadata": {},
     "output_type": "display_data"
    },
    {
     "data": {
      "text/plain": [
       "\"DB: opt gap = 1.0\""
      ]
     },
     "metadata": {},
     "output_type": "display_data"
    },
    {
     "data": {
      "text/plain": [
       "\">>>>>> iteration 7:O\""
      ]
     },
     "metadata": {},
     "output_type": "display_data"
    },
    {
     "data": {
      "text/plain": [
       "\"DB: opt gap = 1.0\""
      ]
     },
     "metadata": {},
     "output_type": "display_data"
    },
    {
     "data": {
      "text/plain": [
       "\">>>>>> iteration 8:O\""
      ]
     },
     "metadata": {},
     "output_type": "display_data"
    },
    {
     "data": {
      "text/plain": [
       "\"DB: opt gap = 1.0\""
      ]
     },
     "metadata": {},
     "output_type": "display_data"
    },
    {
     "data": {
      "text/plain": [
       "\">>>>>> iteration 9:O\""
      ]
     },
     "metadata": {},
     "output_type": "display_data"
    },
    {
     "data": {
      "text/plain": [
       "\"DB: opt gap = 1.0\""
      ]
     },
     "metadata": {},
     "output_type": "display_data"
    },
    {
     "data": {
      "text/plain": [
       "\">>>>>> iteration 10:O\""
      ]
     },
     "metadata": {},
     "output_type": "display_data"
    },
    {
     "data": {
      "text/plain": [
       "\"DB: opt gap = 1.0\""
      ]
     },
     "metadata": {},
     "output_type": "display_data"
    },
    {
     "data": {
      "text/plain": [
       "\">>>>>> iteration 11:O\""
      ]
     },
     "metadata": {},
     "output_type": "display_data"
    },
    {
     "data": {
      "text/plain": [
       "\"DB: opt gap = 1.0\""
      ]
     },
     "metadata": {},
     "output_type": "display_data"
    },
    {
     "data": {
      "text/plain": [
       "\">>>>>> iteration 12:O\""
      ]
     },
     "metadata": {},
     "output_type": "display_data"
    },
    {
     "data": {
      "text/plain": [
       "\"DB: opt gap = 0.12365759062590459\""
      ]
     },
     "metadata": {},
     "output_type": "display_data"
    },
    {
     "data": {
      "text/plain": [
       "\">>>>>> iteration 13:O\""
      ]
     },
     "metadata": {},
     "output_type": "display_data"
    },
    {
     "data": {
      "text/plain": [
       "\"DB: opt gap = 0.12332890361380201\""
      ]
     },
     "metadata": {},
     "output_type": "display_data"
    },
    {
     "data": {
      "text/plain": [
       "\">>>>>> iteration 14:O\""
      ]
     },
     "metadata": {},
     "output_type": "display_data"
    },
    {
     "data": {
      "text/plain": [
       "\">>>>>> iteration 15:F\""
      ]
     },
     "metadata": {},
     "output_type": "display_data"
    },
    {
     "data": {
      "text/plain": [
       "\"DB: opt gap = 0.12261136002102586\""
      ]
     },
     "metadata": {},
     "output_type": "display_data"
    },
    {
     "data": {
      "text/plain": [
       "\">>>>>> iteration 16:O\""
      ]
     },
     "metadata": {},
     "output_type": "display_data"
    },
    {
     "data": {
      "text/plain": [
       "\"DB: opt gap = 0.12174451553458406\""
      ]
     },
     "metadata": {},
     "output_type": "display_data"
    },
    {
     "data": {
      "text/plain": [
       "\">>>>>> iteration 17:O\""
      ]
     },
     "metadata": {},
     "output_type": "display_data"
    },
    {
     "data": {
      "text/plain": [
       "\"DB: opt gap = 0.1174151395926312\""
      ]
     },
     "metadata": {},
     "output_type": "display_data"
    },
    {
     "data": {
      "text/plain": [
       "\">>>>>> iteration 18:O\""
      ]
     },
     "metadata": {},
     "output_type": "display_data"
    },
    {
     "data": {
      "text/plain": [
       "\"DB: opt gap = 0.11676706277615194\""
      ]
     },
     "metadata": {},
     "output_type": "display_data"
    },
    {
     "data": {
      "text/plain": [
       "\">>>>>> iteration 19:O\""
      ]
     },
     "metadata": {},
     "output_type": "display_data"
    },
    {
     "data": {
      "text/plain": [
       "\"DB: opt gap = 0.11620560824508214\""
      ]
     },
     "metadata": {},
     "output_type": "display_data"
    },
    {
     "data": {
      "text/plain": [
       "\">>>>>> iteration 20:O\""
      ]
     },
     "metadata": {},
     "output_type": "display_data"
    },
    {
     "data": {
      "text/plain": [
       "\"DB: opt gap = 0.1149128756404002\""
      ]
     },
     "metadata": {},
     "output_type": "display_data"
    },
    {
     "data": {
      "text/plain": [
       "\">>>>>> iteration 21:O\""
      ]
     },
     "metadata": {},
     "output_type": "display_data"
    },
    {
     "data": {
      "text/plain": [
       "\"DB: opt gap = 0.11452408929067082\""
      ]
     },
     "metadata": {},
     "output_type": "display_data"
    },
    {
     "data": {
      "text/plain": [
       "\">>>>>> iteration 22:O\""
      ]
     },
     "metadata": {},
     "output_type": "display_data"
    },
    {
     "data": {
      "text/plain": [
       "\"DB: opt gap = 0.11396169660468539\""
      ]
     },
     "metadata": {},
     "output_type": "display_data"
    },
    {
     "data": {
      "text/plain": [
       "\">>>>>> iteration 23:O\""
      ]
     },
     "metadata": {},
     "output_type": "display_data"
    },
    {
     "data": {
      "text/plain": [
       "\"DB: opt gap = 9.47044228969718e-5\""
      ]
     },
     "metadata": {},
     "output_type": "display_data"
    },
    {
     "data": {
      "text/plain": [
       "\"time M 5.243000030517578 | time D 22.31999921798706\""
      ]
     },
     "metadata": {},
     "output_type": "display_data"
    },
    {
     "data": {
      "text/plain": [
       "\"evaluating 13 scenarios| option 3\""
      ]
     },
     "metadata": {},
     "output_type": "display_data"
    },
    {
     "data": {
      "text/plain": [
       "\"DB: opt gap = 1.0\""
      ]
     },
     "metadata": {},
     "output_type": "display_data"
    },
    {
     "data": {
      "text/plain": [
       "\">>>>>> iteration 1:O\""
      ]
     },
     "metadata": {},
     "output_type": "display_data"
    },
    {
     "data": {
      "text/plain": [
       "\"DB: opt gap = 1.0\""
      ]
     },
     "metadata": {},
     "output_type": "display_data"
    },
    {
     "data": {
      "text/plain": [
       "\">>>>>> iteration 2:O\""
      ]
     },
     "metadata": {},
     "output_type": "display_data"
    },
    {
     "data": {
      "text/plain": [
       "\"DB: opt gap = 1.0\""
      ]
     },
     "metadata": {},
     "output_type": "display_data"
    },
    {
     "data": {
      "text/plain": [
       "\">>>>>> iteration 3:O\""
      ]
     },
     "metadata": {},
     "output_type": "display_data"
    },
    {
     "data": {
      "text/plain": [
       "\"DB: opt gap = 1.0\""
      ]
     },
     "metadata": {},
     "output_type": "display_data"
    },
    {
     "data": {
      "text/plain": [
       "\">>>>>> iteration 4:O\""
      ]
     },
     "metadata": {},
     "output_type": "display_data"
    },
    {
     "data": {
      "text/plain": [
       "\"DB: opt gap = 1.0\""
      ]
     },
     "metadata": {},
     "output_type": "display_data"
    },
    {
     "data": {
      "text/plain": [
       "\">>>>>> iteration 5:O\""
      ]
     },
     "metadata": {},
     "output_type": "display_data"
    },
    {
     "data": {
      "text/plain": [
       "\"DB: opt gap = 1.0\""
      ]
     },
     "metadata": {},
     "output_type": "display_data"
    },
    {
     "data": {
      "text/plain": [
       "\">>>>>> iteration 6:O\""
      ]
     },
     "metadata": {},
     "output_type": "display_data"
    },
    {
     "data": {
      "text/plain": [
       "\"DB: opt gap = 1.0\""
      ]
     },
     "metadata": {},
     "output_type": "display_data"
    },
    {
     "data": {
      "text/plain": [
       "\">>>>>> iteration 7:O\""
      ]
     },
     "metadata": {},
     "output_type": "display_data"
    },
    {
     "data": {
      "text/plain": [
       "\"DB: opt gap = 1.0\""
      ]
     },
     "metadata": {},
     "output_type": "display_data"
    },
    {
     "data": {
      "text/plain": [
       "\">>>>>> iteration 8:O\""
      ]
     },
     "metadata": {},
     "output_type": "display_data"
    },
    {
     "data": {
      "text/plain": [
       "\"DB: opt gap = 1.0\""
      ]
     },
     "metadata": {},
     "output_type": "display_data"
    },
    {
     "data": {
      "text/plain": [
       "\">>>>>> iteration 9:O\""
      ]
     },
     "metadata": {},
     "output_type": "display_data"
    },
    {
     "data": {
      "text/plain": [
       "\"DB: opt gap = 1.0\""
      ]
     },
     "metadata": {},
     "output_type": "display_data"
    },
    {
     "data": {
      "text/plain": [
       "\">>>>>> iteration 10:O\""
      ]
     },
     "metadata": {},
     "output_type": "display_data"
    },
    {
     "data": {
      "text/plain": [
       "\"DB: opt gap = 1.0\""
      ]
     },
     "metadata": {},
     "output_type": "display_data"
    },
    {
     "data": {
      "text/plain": [
       "\">>>>>> iteration 11:O\""
      ]
     },
     "metadata": {},
     "output_type": "display_data"
    },
    {
     "data": {
      "text/plain": [
       "\"DB: opt gap = 0.10345466587106422\""
      ]
     },
     "metadata": {},
     "output_type": "display_data"
    },
    {
     "data": {
      "text/plain": [
       "\">>>>>> iteration 12:O\""
      ]
     },
     "metadata": {},
     "output_type": "display_data"
    },
    {
     "data": {
      "text/plain": [
       "\"DB: opt gap = 0.1032453222695594\""
      ]
     },
     "metadata": {},
     "output_type": "display_data"
    },
    {
     "data": {
      "text/plain": [
       "\">>>>>> iteration 13:O\""
      ]
     },
     "metadata": {},
     "output_type": "display_data"
    },
    {
     "data": {
      "text/plain": [
       "\">>>>>> iteration 14:F\""
      ]
     },
     "metadata": {},
     "output_type": "display_data"
    },
    {
     "data": {
      "text/plain": [
       "\"DB: opt gap = 0.10278776015443489\""
      ]
     },
     "metadata": {},
     "output_type": "display_data"
    },
    {
     "data": {
      "text/plain": [
       "\">>>>>> iteration 15:O\""
      ]
     },
     "metadata": {},
     "output_type": "display_data"
    },
    {
     "data": {
      "text/plain": [
       "\"DB: opt gap = 0.10257123529792726\""
      ]
     },
     "metadata": {},
     "output_type": "display_data"
    },
    {
     "data": {
      "text/plain": [
       "\">>>>>> iteration 16:O\""
      ]
     },
     "metadata": {},
     "output_type": "display_data"
    },
    {
     "data": {
      "text/plain": [
       "\"DB: opt gap = 0.10201440732578804\""
      ]
     },
     "metadata": {},
     "output_type": "display_data"
    },
    {
     "data": {
      "text/plain": [
       "\">>>>>> iteration 17:O\""
      ]
     },
     "metadata": {},
     "output_type": "display_data"
    },
    {
     "data": {
      "text/plain": [
       "\"DB: opt gap = 0.10131508560284648\""
      ]
     },
     "metadata": {},
     "output_type": "display_data"
    },
    {
     "data": {
      "text/plain": [
       "\">>>>>> iteration 18:O\""
      ]
     },
     "metadata": {},
     "output_type": "display_data"
    },
    {
     "data": {
      "text/plain": [
       "\"DB: opt gap = 0.10113551235210402\""
      ]
     },
     "metadata": {},
     "output_type": "display_data"
    },
    {
     "data": {
      "text/plain": [
       "\">>>>>> iteration 19:O\""
      ]
     },
     "metadata": {},
     "output_type": "display_data"
    },
    {
     "data": {
      "text/plain": [
       "\"DB: opt gap = 0.09971645874338217\""
      ]
     },
     "metadata": {},
     "output_type": "display_data"
    },
    {
     "data": {
      "text/plain": [
       "\">>>>>> iteration 20:O\""
      ]
     },
     "metadata": {},
     "output_type": "display_data"
    },
    {
     "data": {
      "text/plain": [
       "\"DB: opt gap = 0.09823458229326205\""
      ]
     },
     "metadata": {},
     "output_type": "display_data"
    },
    {
     "data": {
      "text/plain": [
       "\">>>>>> iteration 21:O\""
      ]
     },
     "metadata": {},
     "output_type": "display_data"
    },
    {
     "data": {
      "text/plain": [
       "\"DB: opt gap = 3.579241744444995e-5\""
      ]
     },
     "metadata": {},
     "output_type": "display_data"
    },
    {
     "data": {
      "text/plain": [
       "\"time M 6.552999973297119 | time D 21.109999418258667\""
      ]
     },
     "metadata": {},
     "output_type": "display_data"
    },
    {
     "data": {
      "text/plain": [
       "\"evaluating 14 scenarios| option 3\""
      ]
     },
     "metadata": {},
     "output_type": "display_data"
    },
    {
     "data": {
      "text/plain": [
       "\"DB: opt gap = 1.0\""
      ]
     },
     "metadata": {},
     "output_type": "display_data"
    },
    {
     "data": {
      "text/plain": [
       "\">>>>>> iteration 1:O\""
      ]
     },
     "metadata": {},
     "output_type": "display_data"
    },
    {
     "data": {
      "text/plain": [
       "\"DB: opt gap = 1.0\""
      ]
     },
     "metadata": {},
     "output_type": "display_data"
    },
    {
     "data": {
      "text/plain": [
       "\">>>>>> iteration 2:O\""
      ]
     },
     "metadata": {},
     "output_type": "display_data"
    },
    {
     "data": {
      "text/plain": [
       "\"DB: opt gap = 1.0\""
      ]
     },
     "metadata": {},
     "output_type": "display_data"
    },
    {
     "data": {
      "text/plain": [
       "\">>>>>> iteration 3:O\""
      ]
     },
     "metadata": {},
     "output_type": "display_data"
    },
    {
     "data": {
      "text/plain": [
       "\"DB: opt gap = 1.0\""
      ]
     },
     "metadata": {},
     "output_type": "display_data"
    },
    {
     "data": {
      "text/plain": [
       "\">>>>>> iteration 4:O\""
      ]
     },
     "metadata": {},
     "output_type": "display_data"
    },
    {
     "data": {
      "text/plain": [
       "\"DB: opt gap = 1.0\""
      ]
     },
     "metadata": {},
     "output_type": "display_data"
    },
    {
     "data": {
      "text/plain": [
       "\">>>>>> iteration 5:O\""
      ]
     },
     "metadata": {},
     "output_type": "display_data"
    },
    {
     "data": {
      "text/plain": [
       "\"DB: opt gap = 1.0\""
      ]
     },
     "metadata": {},
     "output_type": "display_data"
    },
    {
     "data": {
      "text/plain": [
       "\">>>>>> iteration 6:O\""
      ]
     },
     "metadata": {},
     "output_type": "display_data"
    },
    {
     "data": {
      "text/plain": [
       "\"DB: opt gap = 1.0\""
      ]
     },
     "metadata": {},
     "output_type": "display_data"
    },
    {
     "data": {
      "text/plain": [
       "\">>>>>> iteration 7:O\""
      ]
     },
     "metadata": {},
     "output_type": "display_data"
    },
    {
     "data": {
      "text/plain": [
       "\"DB: opt gap = 1.0\""
      ]
     },
     "metadata": {},
     "output_type": "display_data"
    },
    {
     "data": {
      "text/plain": [
       "\">>>>>> iteration 8:O\""
      ]
     },
     "metadata": {},
     "output_type": "display_data"
    },
    {
     "data": {
      "text/plain": [
       "\"DB: opt gap = 0.15149338371034823\""
      ]
     },
     "metadata": {},
     "output_type": "display_data"
    },
    {
     "data": {
      "text/plain": [
       "\">>>>>> iteration 9:O\""
      ]
     },
     "metadata": {},
     "output_type": "display_data"
    },
    {
     "data": {
      "text/plain": [
       "\"DB: opt gap = 0.1511209658437553\""
      ]
     },
     "metadata": {},
     "output_type": "display_data"
    },
    {
     "data": {
      "text/plain": [
       "\">>>>>> iteration 10:O\""
      ]
     },
     "metadata": {},
     "output_type": "display_data"
    },
    {
     "data": {
      "text/plain": [
       "\"DB: opt gap = 0.15035332661772868\""
      ]
     },
     "metadata": {},
     "output_type": "display_data"
    },
    {
     "data": {
      "text/plain": [
       "\">>>>>> iteration 11:O\""
      ]
     },
     "metadata": {},
     "output_type": "display_data"
    },
    {
     "data": {
      "text/plain": [
       "\"DB: opt gap = 0.14918223309405879\""
      ]
     },
     "metadata": {},
     "output_type": "display_data"
    },
    {
     "data": {
      "text/plain": [
       "\">>>>>> iteration 12:O\""
      ]
     },
     "metadata": {},
     "output_type": "display_data"
    },
    {
     "data": {
      "text/plain": [
       "\"DB: opt gap = 0.14884134310572003\""
      ]
     },
     "metadata": {},
     "output_type": "display_data"
    },
    {
     "data": {
      "text/plain": [
       "\">>>>>> iteration 13:O\""
      ]
     },
     "metadata": {},
     "output_type": "display_data"
    },
    {
     "data": {
      "text/plain": [
       "\">>>>>> iteration 14:F\""
      ]
     },
     "metadata": {},
     "output_type": "display_data"
    },
    {
     "data": {
      "text/plain": [
       "\"DB: opt gap = 0.14814137193951105\""
      ]
     },
     "metadata": {},
     "output_type": "display_data"
    },
    {
     "data": {
      "text/plain": [
       "\">>>>>> iteration 15:O\""
      ]
     },
     "metadata": {},
     "output_type": "display_data"
    },
    {
     "data": {
      "text/plain": [
       "\"DB: opt gap = 0.1477020444148613\""
      ]
     },
     "metadata": {},
     "output_type": "display_data"
    },
    {
     "data": {
      "text/plain": [
       "\">>>>>> iteration 16:O\""
      ]
     },
     "metadata": {},
     "output_type": "display_data"
    },
    {
     "data": {
      "text/plain": [
       "\"DB: opt gap = 0.1475817530025939\""
      ]
     },
     "metadata": {},
     "output_type": "display_data"
    },
    {
     "data": {
      "text/plain": [
       "\">>>>>> iteration 17:O\""
      ]
     },
     "metadata": {},
     "output_type": "display_data"
    },
    {
     "data": {
      "text/plain": [
       "\"DB: opt gap = 1.2961116963979362e-5\""
      ]
     },
     "metadata": {},
     "output_type": "display_data"
    },
    {
     "data": {
      "text/plain": [
       "\"time M 7.067999839782715 | time D 18.096000909805298\""
      ]
     },
     "metadata": {},
     "output_type": "display_data"
    },
    {
     "data": {
      "text/plain": [
       "\"evaluating 15 scenarios| option 3\""
      ]
     },
     "metadata": {},
     "output_type": "display_data"
    },
    {
     "data": {
      "text/plain": [
       "\"DB: opt gap = 1.0\""
      ]
     },
     "metadata": {},
     "output_type": "display_data"
    },
    {
     "data": {
      "text/plain": [
       "\">>>>>> iteration 1:O\""
      ]
     },
     "metadata": {},
     "output_type": "display_data"
    },
    {
     "data": {
      "text/plain": [
       "\"DB: opt gap = 1.0\""
      ]
     },
     "metadata": {},
     "output_type": "display_data"
    },
    {
     "data": {
      "text/plain": [
       "\">>>>>> iteration 2:O\""
      ]
     },
     "metadata": {},
     "output_type": "display_data"
    },
    {
     "data": {
      "text/plain": [
       "\"DB: opt gap = 1.0\""
      ]
     },
     "metadata": {},
     "output_type": "display_data"
    },
    {
     "data": {
      "text/plain": [
       "\">>>>>> iteration 3:O\""
      ]
     },
     "metadata": {},
     "output_type": "display_data"
    },
    {
     "data": {
      "text/plain": [
       "\"DB: opt gap = 1.0\""
      ]
     },
     "metadata": {},
     "output_type": "display_data"
    },
    {
     "data": {
      "text/plain": [
       "\">>>>>> iteration 4:O\""
      ]
     },
     "metadata": {},
     "output_type": "display_data"
    },
    {
     "data": {
      "text/plain": [
       "\"DB: opt gap = 1.0\""
      ]
     },
     "metadata": {},
     "output_type": "display_data"
    },
    {
     "data": {
      "text/plain": [
       "\">>>>>> iteration 5:O\""
      ]
     },
     "metadata": {},
     "output_type": "display_data"
    },
    {
     "data": {
      "text/plain": [
       "\"DB: opt gap = 1.0\""
      ]
     },
     "metadata": {},
     "output_type": "display_data"
    },
    {
     "data": {
      "text/plain": [
       "\">>>>>> iteration 6:O\""
      ]
     },
     "metadata": {},
     "output_type": "display_data"
    },
    {
     "data": {
      "text/plain": [
       "\"DB: opt gap = 1.0\""
      ]
     },
     "metadata": {},
     "output_type": "display_data"
    },
    {
     "data": {
      "text/plain": [
       "\">>>>>> iteration 7:O\""
      ]
     },
     "metadata": {},
     "output_type": "display_data"
    },
    {
     "data": {
      "text/plain": [
       "\"DB: opt gap = 1.0\""
      ]
     },
     "metadata": {},
     "output_type": "display_data"
    },
    {
     "data": {
      "text/plain": [
       "\">>>>>> iteration 8:O\""
      ]
     },
     "metadata": {},
     "output_type": "display_data"
    },
    {
     "data": {
      "text/plain": [
       "\"DB: opt gap = 1.0\""
      ]
     },
     "metadata": {},
     "output_type": "display_data"
    },
    {
     "data": {
      "text/plain": [
       "\">>>>>> iteration 9:O\""
      ]
     },
     "metadata": {},
     "output_type": "display_data"
    },
    {
     "data": {
      "text/plain": [
       "\"DB: opt gap = 1.0\""
      ]
     },
     "metadata": {},
     "output_type": "display_data"
    },
    {
     "data": {
      "text/plain": [
       "\">>>>>> iteration 10:O\""
      ]
     },
     "metadata": {},
     "output_type": "display_data"
    },
    {
     "data": {
      "text/plain": [
       "\"DB: opt gap = 0.10602580526805377\""
      ]
     },
     "metadata": {},
     "output_type": "display_data"
    },
    {
     "data": {
      "text/plain": [
       "\">>>>>> iteration 11:O\""
      ]
     },
     "metadata": {},
     "output_type": "display_data"
    },
    {
     "data": {
      "text/plain": [
       "\"DB: opt gap = 0.10585947537188803\""
      ]
     },
     "metadata": {},
     "output_type": "display_data"
    },
    {
     "data": {
      "text/plain": [
       "\">>>>>> iteration 12:O\""
      ]
     },
     "metadata": {},
     "output_type": "display_data"
    },
    {
     "data": {
      "text/plain": [
       "\"DB: opt gap = 0.10547043740560887\""
      ]
     },
     "metadata": {},
     "output_type": "display_data"
    },
    {
     "data": {
      "text/plain": [
       "\">>>>>> iteration 13:O\""
      ]
     },
     "metadata": {},
     "output_type": "display_data"
    },
    {
     "data": {
      "text/plain": [
       "\"DB: opt gap = 0.10529870279909322\""
      ]
     },
     "metadata": {},
     "output_type": "display_data"
    },
    {
     "data": {
      "text/plain": [
       "\">>>>>> iteration 14:O\""
      ]
     },
     "metadata": {},
     "output_type": "display_data"
    },
    {
     "data": {
      "text/plain": [
       "\">>>>>> iteration 15:F\""
      ]
     },
     "metadata": {},
     "output_type": "display_data"
    },
    {
     "data": {
      "text/plain": [
       "\"DB: opt gap = 0.1050017235468601\""
      ]
     },
     "metadata": {},
     "output_type": "display_data"
    },
    {
     "data": {
      "text/plain": [
       "\">>>>>> iteration 16:O\""
      ]
     },
     "metadata": {},
     "output_type": "display_data"
    },
    {
     "data": {
      "text/plain": [
       "\"DB: opt gap = 0.10316125126409588\""
      ]
     },
     "metadata": {},
     "output_type": "display_data"
    },
    {
     "data": {
      "text/plain": [
       "\">>>>>> iteration 17:O\""
      ]
     },
     "metadata": {},
     "output_type": "display_data"
    },
    {
     "data": {
      "text/plain": [
       "\"DB: opt gap = 0.10308271478613239\""
      ]
     },
     "metadata": {},
     "output_type": "display_data"
    },
    {
     "data": {
      "text/plain": [
       "\">>>>>> iteration 18:O\""
      ]
     },
     "metadata": {},
     "output_type": "display_data"
    },
    {
     "data": {
      "text/plain": [
       "\"DB: opt gap = 0.10250068782311454\""
      ]
     },
     "metadata": {},
     "output_type": "display_data"
    },
    {
     "data": {
      "text/plain": [
       "\">>>>>> iteration 19:O\""
      ]
     },
     "metadata": {},
     "output_type": "display_data"
    },
    {
     "data": {
      "text/plain": [
       "\"DB: opt gap = 0.10154452603548647\""
      ]
     },
     "metadata": {},
     "output_type": "display_data"
    },
    {
     "data": {
      "text/plain": [
       "\">>>>>> iteration 20:O\""
      ]
     },
     "metadata": {},
     "output_type": "display_data"
    },
    {
     "data": {
      "text/plain": [
       "\"DB: opt gap = 2.7418553675774446e-5\""
      ]
     },
     "metadata": {},
     "output_type": "display_data"
    },
    {
     "data": {
      "text/plain": [
       "\"time M 6.474999904632568 | time D 23.417999029159546\""
      ]
     },
     "metadata": {},
     "output_type": "display_data"
    },
    {
     "data": {
      "text/plain": [
       "\"evaluating 16 scenarios| option 3\""
      ]
     },
     "metadata": {},
     "output_type": "display_data"
    },
    {
     "data": {
      "text/plain": [
       "\"DB: opt gap = 1.0\""
      ]
     },
     "metadata": {},
     "output_type": "display_data"
    },
    {
     "data": {
      "text/plain": [
       "\">>>>>> iteration 1:O\""
      ]
     },
     "metadata": {},
     "output_type": "display_data"
    },
    {
     "data": {
      "text/plain": [
       "\"DB: opt gap = 1.0\""
      ]
     },
     "metadata": {},
     "output_type": "display_data"
    },
    {
     "data": {
      "text/plain": [
       "\">>>>>> iteration 2:O\""
      ]
     },
     "metadata": {},
     "output_type": "display_data"
    },
    {
     "data": {
      "text/plain": [
       "\"DB: opt gap = 1.0\""
      ]
     },
     "metadata": {},
     "output_type": "display_data"
    },
    {
     "data": {
      "text/plain": [
       "\">>>>>> iteration 3:O\""
      ]
     },
     "metadata": {},
     "output_type": "display_data"
    },
    {
     "data": {
      "text/plain": [
       "\"DB: opt gap = 1.0\""
      ]
     },
     "metadata": {},
     "output_type": "display_data"
    },
    {
     "data": {
      "text/plain": [
       "\">>>>>> iteration 4:O\""
      ]
     },
     "metadata": {},
     "output_type": "display_data"
    },
    {
     "data": {
      "text/plain": [
       "\"DB: opt gap = 1.0\""
      ]
     },
     "metadata": {},
     "output_type": "display_data"
    },
    {
     "data": {
      "text/plain": [
       "\">>>>>> iteration 5:O\""
      ]
     },
     "metadata": {},
     "output_type": "display_data"
    },
    {
     "data": {
      "text/plain": [
       "\"DB: opt gap = 1.0\""
      ]
     },
     "metadata": {},
     "output_type": "display_data"
    },
    {
     "data": {
      "text/plain": [
       "\">>>>>> iteration 6:O\""
      ]
     },
     "metadata": {},
     "output_type": "display_data"
    },
    {
     "data": {
      "text/plain": [
       "\"DB: opt gap = 1.0\""
      ]
     },
     "metadata": {},
     "output_type": "display_data"
    },
    {
     "data": {
      "text/plain": [
       "\">>>>>> iteration 7:O\""
      ]
     },
     "metadata": {},
     "output_type": "display_data"
    },
    {
     "data": {
      "text/plain": [
       "\"DB: opt gap = 1.0\""
      ]
     },
     "metadata": {},
     "output_type": "display_data"
    },
    {
     "data": {
      "text/plain": [
       "\">>>>>> iteration 8:O\""
      ]
     },
     "metadata": {},
     "output_type": "display_data"
    },
    {
     "data": {
      "text/plain": [
       "\"DB: opt gap = 1.0\""
      ]
     },
     "metadata": {},
     "output_type": "display_data"
    },
    {
     "data": {
      "text/plain": [
       "\">>>>>> iteration 9:O\""
      ]
     },
     "metadata": {},
     "output_type": "display_data"
    },
    {
     "data": {
      "text/plain": [
       "\"DB: opt gap = 1.0\""
      ]
     },
     "metadata": {},
     "output_type": "display_data"
    },
    {
     "data": {
      "text/plain": [
       "\">>>>>> iteration 10:O\""
      ]
     },
     "metadata": {},
     "output_type": "display_data"
    },
    {
     "data": {
      "text/plain": [
       "\"DB: opt gap = 0.11561304405397804\""
      ]
     },
     "metadata": {},
     "output_type": "display_data"
    },
    {
     "data": {
      "text/plain": [
       "\">>>>>> iteration 11:O\""
      ]
     },
     "metadata": {},
     "output_type": "display_data"
    },
    {
     "data": {
      "text/plain": [
       "\"DB: opt gap = 0.11538706179207436\""
      ]
     },
     "metadata": {},
     "output_type": "display_data"
    },
    {
     "data": {
      "text/plain": [
       "\">>>>>> iteration 12:O\""
      ]
     },
     "metadata": {},
     "output_type": "display_data"
    },
    {
     "data": {
      "text/plain": [
       "\"DB: opt gap = 0.11491806306314833\""
      ]
     },
     "metadata": {},
     "output_type": "display_data"
    },
    {
     "data": {
      "text/plain": [
       "\">>>>>> iteration 13:O\""
      ]
     },
     "metadata": {},
     "output_type": "display_data"
    },
    {
     "data": {
      "text/plain": [
       "\">>>>>> iteration 14:F\""
      ]
     },
     "metadata": {},
     "output_type": "display_data"
    },
    {
     "data": {
      "text/plain": [
       "\"DB: opt gap = 0.11428416934090828\""
      ]
     },
     "metadata": {},
     "output_type": "display_data"
    },
    {
     "data": {
      "text/plain": [
       "\">>>>>> iteration 15:O\""
      ]
     },
     "metadata": {},
     "output_type": "display_data"
    },
    {
     "data": {
      "text/plain": [
       "\"DB: opt gap = 0.11305101237608835\""
      ]
     },
     "metadata": {},
     "output_type": "display_data"
    },
    {
     "data": {
      "text/plain": [
       "\">>>>>> iteration 16:O\""
      ]
     },
     "metadata": {},
     "output_type": "display_data"
    },
    {
     "data": {
      "text/plain": [
       "\"DB: opt gap = 0.11295318709499748\""
      ]
     },
     "metadata": {},
     "output_type": "display_data"
    },
    {
     "data": {
      "text/plain": [
       "\">>>>>> iteration 17:O\""
      ]
     },
     "metadata": {},
     "output_type": "display_data"
    },
    {
     "data": {
      "text/plain": [
       "\"DB: opt gap = 0.1080387444903414\""
      ]
     },
     "metadata": {},
     "output_type": "display_data"
    },
    {
     "data": {
      "text/plain": [
       "\">>>>>> iteration 18:O\""
      ]
     },
     "metadata": {},
     "output_type": "display_data"
    },
    {
     "data": {
      "text/plain": [
       "\"DB: opt gap = 0.10742329603696049\""
      ]
     },
     "metadata": {},
     "output_type": "display_data"
    },
    {
     "data": {
      "text/plain": [
       "\">>>>>> iteration 19:O\""
      ]
     },
     "metadata": {},
     "output_type": "display_data"
    },
    {
     "data": {
      "text/plain": [
       "\"DB: opt gap = 0.10642571403559467\""
      ]
     },
     "metadata": {},
     "output_type": "display_data"
    },
    {
     "data": {
      "text/plain": [
       "\">>>>>> iteration 20:O\""
      ]
     },
     "metadata": {},
     "output_type": "display_data"
    },
    {
     "data": {
      "text/plain": [
       "\"DB: opt gap = 0.1063890017422135\""
      ]
     },
     "metadata": {},
     "output_type": "display_data"
    },
    {
     "data": {
      "text/plain": [
       "\">>>>>> iteration 21:O\""
      ]
     },
     "metadata": {},
     "output_type": "display_data"
    },
    {
     "data": {
      "text/plain": [
       "\"DB: opt gap = 9.12030159656636e-5\""
      ]
     },
     "metadata": {},
     "output_type": "display_data"
    },
    {
     "data": {
      "text/plain": [
       "\"time M 8.081999778747559 | time D 31.538999319076538\""
      ]
     },
     "metadata": {},
     "output_type": "display_data"
    },
    {
     "data": {
      "text/plain": [
       "\"evaluating 17 scenarios| option 3\""
      ]
     },
     "metadata": {},
     "output_type": "display_data"
    },
    {
     "data": {
      "text/plain": [
       "\"DB: opt gap = 1.0\""
      ]
     },
     "metadata": {},
     "output_type": "display_data"
    },
    {
     "data": {
      "text/plain": [
       "\">>>>>> iteration 1:O\""
      ]
     },
     "metadata": {},
     "output_type": "display_data"
    },
    {
     "data": {
      "text/plain": [
       "\"DB: opt gap = 1.0\""
      ]
     },
     "metadata": {},
     "output_type": "display_data"
    },
    {
     "data": {
      "text/plain": [
       "\">>>>>> iteration 2:O\""
      ]
     },
     "metadata": {},
     "output_type": "display_data"
    },
    {
     "data": {
      "text/plain": [
       "\"DB: opt gap = 1.0\""
      ]
     },
     "metadata": {},
     "output_type": "display_data"
    },
    {
     "data": {
      "text/plain": [
       "\">>>>>> iteration 3:O\""
      ]
     },
     "metadata": {},
     "output_type": "display_data"
    },
    {
     "data": {
      "text/plain": [
       "\"DB: opt gap = 1.0\""
      ]
     },
     "metadata": {},
     "output_type": "display_data"
    },
    {
     "data": {
      "text/plain": [
       "\">>>>>> iteration 4:O\""
      ]
     },
     "metadata": {},
     "output_type": "display_data"
    },
    {
     "data": {
      "text/plain": [
       "\"DB: opt gap = 1.0\""
      ]
     },
     "metadata": {},
     "output_type": "display_data"
    },
    {
     "data": {
      "text/plain": [
       "\">>>>>> iteration 5:O\""
      ]
     },
     "metadata": {},
     "output_type": "display_data"
    },
    {
     "data": {
      "text/plain": [
       "\"DB: opt gap = 1.0\""
      ]
     },
     "metadata": {},
     "output_type": "display_data"
    },
    {
     "data": {
      "text/plain": [
       "\">>>>>> iteration 6:O\""
      ]
     },
     "metadata": {},
     "output_type": "display_data"
    },
    {
     "data": {
      "text/plain": [
       "\"DB: opt gap = 1.0\""
      ]
     },
     "metadata": {},
     "output_type": "display_data"
    },
    {
     "data": {
      "text/plain": [
       "\">>>>>> iteration 7:O\""
      ]
     },
     "metadata": {},
     "output_type": "display_data"
    },
    {
     "data": {
      "text/plain": [
       "\"DB: opt gap = 1.0\""
      ]
     },
     "metadata": {},
     "output_type": "display_data"
    },
    {
     "data": {
      "text/plain": [
       "\">>>>>> iteration 8:O\""
      ]
     },
     "metadata": {},
     "output_type": "display_data"
    },
    {
     "data": {
      "text/plain": [
       "\"DB: opt gap = 0.14770423688655948\""
      ]
     },
     "metadata": {},
     "output_type": "display_data"
    },
    {
     "data": {
      "text/plain": [
       "\">>>>>> iteration 9:O\""
      ]
     },
     "metadata": {},
     "output_type": "display_data"
    },
    {
     "data": {
      "text/plain": [
       "\"DB: opt gap = 0.14744702649199837\""
      ]
     },
     "metadata": {},
     "output_type": "display_data"
    },
    {
     "data": {
      "text/plain": [
       "\">>>>>> iteration 10:O\""
      ]
     },
     "metadata": {},
     "output_type": "display_data"
    },
    {
     "data": {
      "text/plain": [
       "\"DB: opt gap = 0.1467712028918947\""
      ]
     },
     "metadata": {},
     "output_type": "display_data"
    },
    {
     "data": {
      "text/plain": [
       "\">>>>>> iteration 11:O\""
      ]
     },
     "metadata": {},
     "output_type": "display_data"
    },
    {
     "data": {
      "text/plain": [
       "\"DB: opt gap = 0.1465075233850615\""
      ]
     },
     "metadata": {},
     "output_type": "display_data"
    },
    {
     "data": {
      "text/plain": [
       "\">>>>>> iteration 12:O\""
      ]
     },
     "metadata": {},
     "output_type": "display_data"
    },
    {
     "data": {
      "text/plain": [
       "\"DB: opt gap = 0.1460223161038418\""
      ]
     },
     "metadata": {},
     "output_type": "display_data"
    },
    {
     "data": {
      "text/plain": [
       "\">>>>>> iteration 13:O\""
      ]
     },
     "metadata": {},
     "output_type": "display_data"
    },
    {
     "data": {
      "text/plain": [
       "\"DB: opt gap = 0.14573691122439236\""
      ]
     },
     "metadata": {},
     "output_type": "display_data"
    },
    {
     "data": {
      "text/plain": [
       "\">>>>>> iteration 14:O\""
      ]
     },
     "metadata": {},
     "output_type": "display_data"
    },
    {
     "data": {
      "text/plain": [
       "\">>>>>> iteration 15:F\""
      ]
     },
     "metadata": {},
     "output_type": "display_data"
    },
    {
     "data": {
      "text/plain": [
       "\"DB: opt gap = 0.14519429709328927\""
      ]
     },
     "metadata": {},
     "output_type": "display_data"
    },
    {
     "data": {
      "text/plain": [
       "\">>>>>> iteration 16:O\""
      ]
     },
     "metadata": {},
     "output_type": "display_data"
    },
    {
     "data": {
      "text/plain": [
       "\"DB: opt gap = 0.14489116432121568\""
      ]
     },
     "metadata": {},
     "output_type": "display_data"
    },
    {
     "data": {
      "text/plain": [
       "\">>>>>> iteration 17:O\""
      ]
     },
     "metadata": {},
     "output_type": "display_data"
    },
    {
     "data": {
      "text/plain": [
       "\"DB: opt gap = 0.14413272541733274\""
      ]
     },
     "metadata": {},
     "output_type": "display_data"
    },
    {
     "data": {
      "text/plain": [
       "\">>>>>> iteration 18:O\""
      ]
     },
     "metadata": {},
     "output_type": "display_data"
    },
    {
     "data": {
      "text/plain": [
       "\"DB: opt gap = 0.14325408408062212\""
      ]
     },
     "metadata": {},
     "output_type": "display_data"
    },
    {
     "data": {
      "text/plain": [
       "\">>>>>> iteration 19:O\""
      ]
     },
     "metadata": {},
     "output_type": "display_data"
    },
    {
     "data": {
      "text/plain": [
       "\"DB: opt gap = 0.14250850689311642\""
      ]
     },
     "metadata": {},
     "output_type": "display_data"
    },
    {
     "data": {
      "text/plain": [
       "\">>>>>> iteration 20:O\""
      ]
     },
     "metadata": {},
     "output_type": "display_data"
    },
    {
     "data": {
      "text/plain": [
       "\"DB: opt gap = 0.1402283329116836\""
      ]
     },
     "metadata": {},
     "output_type": "display_data"
    },
    {
     "data": {
      "text/plain": [
       "\">>>>>> iteration 21:O\""
      ]
     },
     "metadata": {},
     "output_type": "display_data"
    },
    {
     "data": {
      "text/plain": [
       "\"DB: opt gap = 5.1450516432623875e-5\""
      ]
     },
     "metadata": {},
     "output_type": "display_data"
    },
    {
     "data": {
      "text/plain": [
       "\"time M 9.941999912261963 | time D 37.941999435424805\""
      ]
     },
     "metadata": {},
     "output_type": "display_data"
    },
    {
     "data": {
      "text/plain": [
       "\"evaluating 18 scenarios| option 3\""
      ]
     },
     "metadata": {},
     "output_type": "display_data"
    },
    {
     "data": {
      "text/plain": [
       "\"DB: opt gap = 1.0\""
      ]
     },
     "metadata": {},
     "output_type": "display_data"
    },
    {
     "data": {
      "text/plain": [
       "\">>>>>> iteration 1:O\""
      ]
     },
     "metadata": {},
     "output_type": "display_data"
    },
    {
     "data": {
      "text/plain": [
       "\"DB: opt gap = 1.0\""
      ]
     },
     "metadata": {},
     "output_type": "display_data"
    },
    {
     "data": {
      "text/plain": [
       "\">>>>>> iteration 2:O\""
      ]
     },
     "metadata": {},
     "output_type": "display_data"
    },
    {
     "data": {
      "text/plain": [
       "\"DB: opt gap = 1.0\""
      ]
     },
     "metadata": {},
     "output_type": "display_data"
    },
    {
     "data": {
      "text/plain": [
       "\">>>>>> iteration 3:O\""
      ]
     },
     "metadata": {},
     "output_type": "display_data"
    },
    {
     "data": {
      "text/plain": [
       "\"DB: opt gap = 1.0\""
      ]
     },
     "metadata": {},
     "output_type": "display_data"
    },
    {
     "data": {
      "text/plain": [
       "\">>>>>> iteration 4:O\""
      ]
     },
     "metadata": {},
     "output_type": "display_data"
    },
    {
     "data": {
      "text/plain": [
       "\"DB: opt gap = 1.0\""
      ]
     },
     "metadata": {},
     "output_type": "display_data"
    },
    {
     "data": {
      "text/plain": [
       "\">>>>>> iteration 5:O\""
      ]
     },
     "metadata": {},
     "output_type": "display_data"
    },
    {
     "data": {
      "text/plain": [
       "\"DB: opt gap = 1.0\""
      ]
     },
     "metadata": {},
     "output_type": "display_data"
    },
    {
     "data": {
      "text/plain": [
       "\">>>>>> iteration 6:O\""
      ]
     },
     "metadata": {},
     "output_type": "display_data"
    },
    {
     "data": {
      "text/plain": [
       "\"DB: opt gap = 1.0\""
      ]
     },
     "metadata": {},
     "output_type": "display_data"
    },
    {
     "data": {
      "text/plain": [
       "\">>>>>> iteration 7:O\""
      ]
     },
     "metadata": {},
     "output_type": "display_data"
    },
    {
     "data": {
      "text/plain": [
       "\"DB: opt gap = 0.1528149115032302\""
      ]
     },
     "metadata": {},
     "output_type": "display_data"
    },
    {
     "data": {
      "text/plain": [
       "\">>>>>> iteration 8:O\""
      ]
     },
     "metadata": {},
     "output_type": "display_data"
    },
    {
     "data": {
      "text/plain": [
       "\"DB: opt gap = 0.15255043413545682\""
      ]
     },
     "metadata": {},
     "output_type": "display_data"
    },
    {
     "data": {
      "text/plain": [
       "\">>>>>> iteration 9:O\""
      ]
     },
     "metadata": {},
     "output_type": "display_data"
    },
    {
     "data": {
      "text/plain": [
       "\">>>>>> iteration 10:F\""
      ]
     },
     "metadata": {},
     "output_type": "display_data"
    },
    {
     "data": {
      "text/plain": [
       "\"DB: opt gap = 0.15197237005407127\""
      ]
     },
     "metadata": {},
     "output_type": "display_data"
    },
    {
     "data": {
      "text/plain": [
       "\">>>>>> iteration 11:O\""
      ]
     },
     "metadata": {},
     "output_type": "display_data"
    },
    {
     "data": {
      "text/plain": [
       "\"DB: opt gap = 0.15169713162205392\""
      ]
     },
     "metadata": {},
     "output_type": "display_data"
    },
    {
     "data": {
      "text/plain": [
       "\">>>>>> iteration 12:O\""
      ]
     },
     "metadata": {},
     "output_type": "display_data"
    },
    {
     "data": {
      "text/plain": [
       "\"DB: opt gap = 0.15097526412777806\""
      ]
     },
     "metadata": {},
     "output_type": "display_data"
    },
    {
     "data": {
      "text/plain": [
       "\">>>>>> iteration 13:O\""
      ]
     },
     "metadata": {},
     "output_type": "display_data"
    },
    {
     "data": {
      "text/plain": [
       "\"DB: opt gap = 0.15019308625987085\""
      ]
     },
     "metadata": {},
     "output_type": "display_data"
    },
    {
     "data": {
      "text/plain": [
       "\">>>>>> iteration 14:O\""
      ]
     },
     "metadata": {},
     "output_type": "display_data"
    },
    {
     "data": {
      "text/plain": [
       "\"DB: opt gap = 0.15012493632692606\""
      ]
     },
     "metadata": {},
     "output_type": "display_data"
    },
    {
     "data": {
      "text/plain": [
       "\">>>>>> iteration 15:O\""
      ]
     },
     "metadata": {},
     "output_type": "display_data"
    },
    {
     "data": {
      "text/plain": [
       "\"DB: opt gap = 7.2119174354935654e-6\""
      ]
     },
     "metadata": {},
     "output_type": "display_data"
    },
    {
     "data": {
      "text/plain": [
       "\"time M 10.079999923706055 | time D 24.14299964904785\""
      ]
     },
     "metadata": {},
     "output_type": "display_data"
    },
    {
     "data": {
      "text/plain": [
       "\"evaluating 19 scenarios| option 3\""
      ]
     },
     "metadata": {},
     "output_type": "display_data"
    },
    {
     "data": {
      "text/plain": [
       "\"DB: opt gap = 1.0\""
      ]
     },
     "metadata": {},
     "output_type": "display_data"
    },
    {
     "data": {
      "text/plain": [
       "\">>>>>> iteration 1:O\""
      ]
     },
     "metadata": {},
     "output_type": "display_data"
    },
    {
     "data": {
      "text/plain": [
       "\"DB: opt gap = 1.0\""
      ]
     },
     "metadata": {},
     "output_type": "display_data"
    },
    {
     "data": {
      "text/plain": [
       "\">>>>>> iteration 2:O\""
      ]
     },
     "metadata": {},
     "output_type": "display_data"
    },
    {
     "data": {
      "text/plain": [
       "\"DB: opt gap = 1.0\""
      ]
     },
     "metadata": {},
     "output_type": "display_data"
    },
    {
     "data": {
      "text/plain": [
       "\">>>>>> iteration 3:O\""
      ]
     },
     "metadata": {},
     "output_type": "display_data"
    },
    {
     "data": {
      "text/plain": [
       "\"DB: opt gap = 1.0\""
      ]
     },
     "metadata": {},
     "output_type": "display_data"
    },
    {
     "data": {
      "text/plain": [
       "\">>>>>> iteration 4:O\""
      ]
     },
     "metadata": {},
     "output_type": "display_data"
    },
    {
     "data": {
      "text/plain": [
       "\"DB: opt gap = 1.0\""
      ]
     },
     "metadata": {},
     "output_type": "display_data"
    },
    {
     "data": {
      "text/plain": [
       "\">>>>>> iteration 5:O\""
      ]
     },
     "metadata": {},
     "output_type": "display_data"
    },
    {
     "data": {
      "text/plain": [
       "\"DB: opt gap = 1.0\""
      ]
     },
     "metadata": {},
     "output_type": "display_data"
    },
    {
     "data": {
      "text/plain": [
       "\">>>>>> iteration 6:O\""
      ]
     },
     "metadata": {},
     "output_type": "display_data"
    },
    {
     "data": {
      "text/plain": [
       "\"DB: opt gap = 1.0\""
      ]
     },
     "metadata": {},
     "output_type": "display_data"
    },
    {
     "data": {
      "text/plain": [
       "\">>>>>> iteration 7:O\""
      ]
     },
     "metadata": {},
     "output_type": "display_data"
    },
    {
     "data": {
      "text/plain": [
       "\"DB: opt gap = 1.0\""
      ]
     },
     "metadata": {},
     "output_type": "display_data"
    },
    {
     "data": {
      "text/plain": [
       "\">>>>>> iteration 8:O\""
      ]
     },
     "metadata": {},
     "output_type": "display_data"
    },
    {
     "data": {
      "text/plain": [
       "\"DB: opt gap = 1.0\""
      ]
     },
     "metadata": {},
     "output_type": "display_data"
    },
    {
     "data": {
      "text/plain": [
       "\">>>>>> iteration 9:O\""
      ]
     },
     "metadata": {},
     "output_type": "display_data"
    },
    {
     "data": {
      "text/plain": [
       "\"DB: opt gap = 0.1306735780734989\""
      ]
     },
     "metadata": {},
     "output_type": "display_data"
    },
    {
     "data": {
      "text/plain": [
       "\">>>>>> iteration 10:O\""
      ]
     },
     "metadata": {},
     "output_type": "display_data"
    },
    {
     "data": {
      "text/plain": [
       "\"DB: opt gap = 0.13048742803372612\""
      ]
     },
     "metadata": {},
     "output_type": "display_data"
    },
    {
     "data": {
      "text/plain": [
       "\">>>>>> iteration 11:O\""
      ]
     },
     "metadata": {},
     "output_type": "display_data"
    },
    {
     "data": {
      "text/plain": [
       "\"DB: opt gap = 0.13005645178250833\""
      ]
     },
     "metadata": {},
     "output_type": "display_data"
    },
    {
     "data": {
      "text/plain": [
       "\">>>>>> iteration 12:O\""
      ]
     },
     "metadata": {},
     "output_type": "display_data"
    },
    {
     "data": {
      "text/plain": [
       "\"DB: opt gap = 0.12984996133746568\""
      ]
     },
     "metadata": {},
     "output_type": "display_data"
    },
    {
     "data": {
      "text/plain": [
       "\">>>>>> iteration 13:O\""
      ]
     },
     "metadata": {},
     "output_type": "display_data"
    },
    {
     "data": {
      "text/plain": [
       "\">>>>>> iteration 14:F\""
      ]
     },
     "metadata": {},
     "output_type": "display_data"
    },
    {
     "data": {
      "text/plain": [
       "\"DB: opt gap = 0.1295194774148855\""
      ]
     },
     "metadata": {},
     "output_type": "display_data"
    },
    {
     "data": {
      "text/plain": [
       "\">>>>>> iteration 15:O\""
      ]
     },
     "metadata": {},
     "output_type": "display_data"
    },
    {
     "data": {
      "text/plain": [
       "\"DB: opt gap = 0.1288344147415845\""
      ]
     },
     "metadata": {},
     "output_type": "display_data"
    },
    {
     "data": {
      "text/plain": [
       "\">>>>>> iteration 16:O\""
      ]
     },
     "metadata": {},
     "output_type": "display_data"
    },
    {
     "data": {
      "text/plain": [
       "\"DB: opt gap = 0.12808260373805685\""
      ]
     },
     "metadata": {},
     "output_type": "display_data"
    },
    {
     "data": {
      "text/plain": [
       "\">>>>>> iteration 17:O\""
      ]
     },
     "metadata": {},
     "output_type": "display_data"
    },
    {
     "data": {
      "text/plain": [
       "\"DB: opt gap = 0.12789232516916893\""
      ]
     },
     "metadata": {},
     "output_type": "display_data"
    },
    {
     "data": {
      "text/plain": [
       "\">>>>>> iteration 18:O\""
      ]
     },
     "metadata": {},
     "output_type": "display_data"
    },
    {
     "data": {
      "text/plain": [
       "\"DB: opt gap = 0.12448299193266563\""
      ]
     },
     "metadata": {},
     "output_type": "display_data"
    },
    {
     "data": {
      "text/plain": [
       "\">>>>>> iteration 19:O\""
      ]
     },
     "metadata": {},
     "output_type": "display_data"
    },
    {
     "data": {
      "text/plain": [
       "\"DB: opt gap = 0.12427728974666309\""
      ]
     },
     "metadata": {},
     "output_type": "display_data"
    },
    {
     "data": {
      "text/plain": [
       "\">>>>>> iteration 20:O\""
      ]
     },
     "metadata": {},
     "output_type": "display_data"
    },
    {
     "data": {
      "text/plain": [
       "\"DB: opt gap = 0.12382666107461222\""
      ]
     },
     "metadata": {},
     "output_type": "display_data"
    },
    {
     "data": {
      "text/plain": [
       "\">>>>>> iteration 21:O\""
      ]
     },
     "metadata": {},
     "output_type": "display_data"
    },
    {
     "data": {
      "text/plain": [
       "\"DB: opt gap = 0.12355578126790509\""
      ]
     },
     "metadata": {},
     "output_type": "display_data"
    },
    {
     "data": {
      "text/plain": [
       "\">>>>>> iteration 22:O\""
      ]
     },
     "metadata": {},
     "output_type": "display_data"
    },
    {
     "data": {
      "text/plain": [
       "\"DB: opt gap = 4.6848665011823125e-5\""
      ]
     },
     "metadata": {},
     "output_type": "display_data"
    },
    {
     "data": {
      "text/plain": [
       "\"time M 11.16599988937378 | time D 36.41199851036072\""
      ]
     },
     "metadata": {},
     "output_type": "display_data"
    },
    {
     "data": {
      "text/plain": [
       "\"evaluating 20 scenarios| option 3\""
      ]
     },
     "metadata": {},
     "output_type": "display_data"
    },
    {
     "data": {
      "text/plain": [
       "\"DB: opt gap = 1.0\""
      ]
     },
     "metadata": {},
     "output_type": "display_data"
    },
    {
     "data": {
      "text/plain": [
       "\">>>>>> iteration 1:O\""
      ]
     },
     "metadata": {},
     "output_type": "display_data"
    },
    {
     "data": {
      "text/plain": [
       "\"DB: opt gap = 1.0\""
      ]
     },
     "metadata": {},
     "output_type": "display_data"
    },
    {
     "data": {
      "text/plain": [
       "\">>>>>> iteration 2:O\""
      ]
     },
     "metadata": {},
     "output_type": "display_data"
    },
    {
     "data": {
      "text/plain": [
       "\"DB: opt gap = 1.0\""
      ]
     },
     "metadata": {},
     "output_type": "display_data"
    },
    {
     "data": {
      "text/plain": [
       "\">>>>>> iteration 3:O\""
      ]
     },
     "metadata": {},
     "output_type": "display_data"
    },
    {
     "data": {
      "text/plain": [
       "\"DB: opt gap = 1.0\""
      ]
     },
     "metadata": {},
     "output_type": "display_data"
    },
    {
     "data": {
      "text/plain": [
       "\">>>>>> iteration 4:O\""
      ]
     },
     "metadata": {},
     "output_type": "display_data"
    },
    {
     "data": {
      "text/plain": [
       "\"DB: opt gap = 1.0\""
      ]
     },
     "metadata": {},
     "output_type": "display_data"
    },
    {
     "data": {
      "text/plain": [
       "\">>>>>> iteration 5:O\""
      ]
     },
     "metadata": {},
     "output_type": "display_data"
    },
    {
     "data": {
      "text/plain": [
       "\"DB: opt gap = 1.0\""
      ]
     },
     "metadata": {},
     "output_type": "display_data"
    },
    {
     "data": {
      "text/plain": [
       "\">>>>>> iteration 6:O\""
      ]
     },
     "metadata": {},
     "output_type": "display_data"
    },
    {
     "data": {
      "text/plain": [
       "\"DB: opt gap = 1.0\""
      ]
     },
     "metadata": {},
     "output_type": "display_data"
    },
    {
     "data": {
      "text/plain": [
       "\">>>>>> iteration 7:O\""
      ]
     },
     "metadata": {},
     "output_type": "display_data"
    },
    {
     "data": {
      "text/plain": [
       "\"DB: opt gap = 1.0\""
      ]
     },
     "metadata": {},
     "output_type": "display_data"
    },
    {
     "data": {
      "text/plain": [
       "\">>>>>> iteration 8:O\""
      ]
     },
     "metadata": {},
     "output_type": "display_data"
    },
    {
     "data": {
      "text/plain": [
       "\"DB: opt gap = 1.0\""
      ]
     },
     "metadata": {},
     "output_type": "display_data"
    },
    {
     "data": {
      "text/plain": [
       "\">>>>>> iteration 9:O\""
      ]
     },
     "metadata": {},
     "output_type": "display_data"
    },
    {
     "data": {
      "text/plain": [
       "\"DB: opt gap = 1.0\""
      ]
     },
     "metadata": {},
     "output_type": "display_data"
    },
    {
     "data": {
      "text/plain": [
       "\">>>>>> iteration 10:O\""
      ]
     },
     "metadata": {},
     "output_type": "display_data"
    },
    {
     "data": {
      "text/plain": [
       "\"DB: opt gap = 1.0\""
      ]
     },
     "metadata": {},
     "output_type": "display_data"
    },
    {
     "data": {
      "text/plain": [
       "\">>>>>> iteration 11:O\""
      ]
     },
     "metadata": {},
     "output_type": "display_data"
    },
    {
     "data": {
      "text/plain": [
       "\"DB: opt gap = 1.0\""
      ]
     },
     "metadata": {},
     "output_type": "display_data"
    },
    {
     "data": {
      "text/plain": [
       "\">>>>>> iteration 12:O\""
      ]
     },
     "metadata": {},
     "output_type": "display_data"
    },
    {
     "data": {
      "text/plain": [
       "\"DB: opt gap = 1.0\""
      ]
     },
     "metadata": {},
     "output_type": "display_data"
    },
    {
     "data": {
      "text/plain": [
       "\">>>>>> iteration 13:O\""
      ]
     },
     "metadata": {},
     "output_type": "display_data"
    },
    {
     "data": {
      "text/plain": [
       "\"DB: opt gap = 0.12703812395934788\""
      ]
     },
     "metadata": {},
     "output_type": "display_data"
    },
    {
     "data": {
      "text/plain": [
       "\">>>>>> iteration 14:O\""
      ]
     },
     "metadata": {},
     "output_type": "display_data"
    },
    {
     "data": {
      "text/plain": [
       "\"DB: opt gap = 0.12685030274231518\""
      ]
     },
     "metadata": {},
     "output_type": "display_data"
    },
    {
     "data": {
      "text/plain": [
       "\">>>>>> iteration 15:O\""
      ]
     },
     "metadata": {},
     "output_type": "display_data"
    },
    {
     "data": {
      "text/plain": [
       "\"DB: opt gap = 0.12645513315608817\""
      ]
     },
     "metadata": {},
     "output_type": "display_data"
    },
    {
     "data": {
      "text/plain": [
       "\">>>>>> iteration 16:O\""
      ]
     },
     "metadata": {},
     "output_type": "display_data"
    },
    {
     "data": {
      "text/plain": [
       "\">>>>>> iteration 17:F\""
      ]
     },
     "metadata": {},
     "output_type": "display_data"
    },
    {
     "data": {
      "text/plain": [
       "\"DB: opt gap = 0.12596653477875164\""
      ]
     },
     "metadata": {},
     "output_type": "display_data"
    },
    {
     "data": {
      "text/plain": [
       "\">>>>>> iteration 18:O\""
      ]
     },
     "metadata": {},
     "output_type": "display_data"
    },
    {
     "data": {
      "text/plain": [
       "\"DB: opt gap = 0.12528149228839716\""
      ]
     },
     "metadata": {},
     "output_type": "display_data"
    },
    {
     "data": {
      "text/plain": [
       "\">>>>>> iteration 19:O\""
      ]
     },
     "metadata": {},
     "output_type": "display_data"
    },
    {
     "data": {
      "text/plain": [
       "\"DB: opt gap = 0.12492933674002596\""
      ]
     },
     "metadata": {},
     "output_type": "display_data"
    },
    {
     "data": {
      "text/plain": [
       "\">>>>>> iteration 20:O\""
      ]
     },
     "metadata": {},
     "output_type": "display_data"
    },
    {
     "data": {
      "text/plain": [
       "\"DB: opt gap = 0.12006569504284129\""
      ]
     },
     "metadata": {},
     "output_type": "display_data"
    },
    {
     "data": {
      "text/plain": [
       "\">>>>>> iteration 21:O\""
      ]
     },
     "metadata": {},
     "output_type": "display_data"
    },
    {
     "data": {
      "text/plain": [
       "\"DB: opt gap = 0.11986961401181674\""
      ]
     },
     "metadata": {},
     "output_type": "display_data"
    },
    {
     "data": {
      "text/plain": [
       "\">>>>>> iteration 22:O\""
      ]
     },
     "metadata": {},
     "output_type": "display_data"
    },
    {
     "data": {
      "text/plain": [
       "\"DB: opt gap = 0.11872894742644889\""
      ]
     },
     "metadata": {},
     "output_type": "display_data"
    },
    {
     "data": {
      "text/plain": [
       "\">>>>>> iteration 23:O\""
      ]
     },
     "metadata": {},
     "output_type": "display_data"
    },
    {
     "data": {
      "text/plain": [
       "\"DB: opt gap = 0.11763526970517432\""
      ]
     },
     "metadata": {},
     "output_type": "display_data"
    },
    {
     "data": {
      "text/plain": [
       "\">>>>>> iteration 24:O\""
      ]
     },
     "metadata": {},
     "output_type": "display_data"
    },
    {
     "data": {
      "text/plain": [
       "\"DB: opt gap = 8.622299821862446e-5\""
      ]
     },
     "metadata": {},
     "output_type": "display_data"
    },
    {
     "data": {
      "text/plain": [
       "\"time M 12.609999895095825 | time D 38.689000606536865\""
      ]
     },
     "metadata": {},
     "output_type": "display_data"
    },
    {
     "data": {
      "text/plain": [
       "\"evaluating 21 scenarios| option 3\""
      ]
     },
     "metadata": {},
     "output_type": "display_data"
    },
    {
     "data": {
      "text/plain": [
       "\"DB: opt gap = 1.0\""
      ]
     },
     "metadata": {},
     "output_type": "display_data"
    },
    {
     "data": {
      "text/plain": [
       "\">>>>>> iteration 1:O\""
      ]
     },
     "metadata": {},
     "output_type": "display_data"
    },
    {
     "data": {
      "text/plain": [
       "\"DB: opt gap = 1.0\""
      ]
     },
     "metadata": {},
     "output_type": "display_data"
    },
    {
     "data": {
      "text/plain": [
       "\">>>>>> iteration 2:O\""
      ]
     },
     "metadata": {},
     "output_type": "display_data"
    },
    {
     "data": {
      "text/plain": [
       "\"DB: opt gap = 1.0\""
      ]
     },
     "metadata": {},
     "output_type": "display_data"
    },
    {
     "data": {
      "text/plain": [
       "\">>>>>> iteration 3:O\""
      ]
     },
     "metadata": {},
     "output_type": "display_data"
    },
    {
     "data": {
      "text/plain": [
       "\"DB: opt gap = 1.0\""
      ]
     },
     "metadata": {},
     "output_type": "display_data"
    },
    {
     "data": {
      "text/plain": [
       "\">>>>>> iteration 4:O\""
      ]
     },
     "metadata": {},
     "output_type": "display_data"
    },
    {
     "data": {
      "text/plain": [
       "\"DB: opt gap = 1.0\""
      ]
     },
     "metadata": {},
     "output_type": "display_data"
    },
    {
     "data": {
      "text/plain": [
       "\">>>>>> iteration 5:O\""
      ]
     },
     "metadata": {},
     "output_type": "display_data"
    },
    {
     "data": {
      "text/plain": [
       "\"DB: opt gap = 1.0\""
      ]
     },
     "metadata": {},
     "output_type": "display_data"
    },
    {
     "data": {
      "text/plain": [
       "\">>>>>> iteration 6:O\""
      ]
     },
     "metadata": {},
     "output_type": "display_data"
    },
    {
     "data": {
      "text/plain": [
       "\"DB: opt gap = 0.16629016596552812\""
      ]
     },
     "metadata": {},
     "output_type": "display_data"
    },
    {
     "data": {
      "text/plain": [
       "\">>>>>> iteration 7:O\""
      ]
     },
     "metadata": {},
     "output_type": "display_data"
    },
    {
     "data": {
      "text/plain": [
       "\"DB: opt gap = 0.16597207362704244\""
      ]
     },
     "metadata": {},
     "output_type": "display_data"
    },
    {
     "data": {
      "text/plain": [
       "\">>>>>> iteration 8:O\""
      ]
     },
     "metadata": {},
     "output_type": "display_data"
    },
    {
     "data": {
      "text/plain": [
       "\"DB: opt gap = 0.1653571073921646\""
      ]
     },
     "metadata": {},
     "output_type": "display_data"
    },
    {
     "data": {
      "text/plain": [
       "\">>>>>> iteration 9:O\""
      ]
     },
     "metadata": {},
     "output_type": "display_data"
    },
    {
     "data": {
      "text/plain": [
       "\"DB: opt gap = 0.16461683712764363\""
      ]
     },
     "metadata": {},
     "output_type": "display_data"
    },
    {
     "data": {
      "text/plain": [
       "\">>>>>> iteration 10:O\""
      ]
     },
     "metadata": {},
     "output_type": "display_data"
    },
    {
     "data": {
      "text/plain": [
       "\"DB: opt gap = 0.1637609336627269\""
      ]
     },
     "metadata": {},
     "output_type": "display_data"
    },
    {
     "data": {
      "text/plain": [
       "\">>>>>> iteration 11:O\""
      ]
     },
     "metadata": {},
     "output_type": "display_data"
    },
    {
     "data": {
      "text/plain": [
       "\"DB: opt gap = 0.1628826585518354\""
      ]
     },
     "metadata": {},
     "output_type": "display_data"
    },
    {
     "data": {
      "text/plain": [
       "\">>>>>> iteration 12:O\""
      ]
     },
     "metadata": {},
     "output_type": "display_data"
    },
    {
     "data": {
      "text/plain": [
       "\"DB: opt gap = 0.1626121566313002\""
      ]
     },
     "metadata": {},
     "output_type": "display_data"
    },
    {
     "data": {
      "text/plain": [
       "\">>>>>> iteration 13:O\""
      ]
     },
     "metadata": {},
     "output_type": "display_data"
    },
    {
     "data": {
      "text/plain": [
       "\">>>>>> iteration 14:F\""
      ]
     },
     "metadata": {},
     "output_type": "display_data"
    },
    {
     "data": {
      "text/plain": [
       "\"DB: opt gap = 0.1621093808677821\""
      ]
     },
     "metadata": {},
     "output_type": "display_data"
    },
    {
     "data": {
      "text/plain": [
       "\">>>>>> iteration 15:O\""
      ]
     },
     "metadata": {},
     "output_type": "display_data"
    },
    {
     "data": {
      "text/plain": [
       "\"DB: opt gap = 0.1613934685954528\""
      ]
     },
     "metadata": {},
     "output_type": "display_data"
    },
    {
     "data": {
      "text/plain": [
       "\">>>>>> iteration 16:O\""
      ]
     },
     "metadata": {},
     "output_type": "display_data"
    },
    {
     "data": {
      "text/plain": [
       "\"DB: opt gap = 0.16079183978627906\""
      ]
     },
     "metadata": {},
     "output_type": "display_data"
    },
    {
     "data": {
      "text/plain": [
       "\">>>>>> iteration 17:O\""
      ]
     },
     "metadata": {},
     "output_type": "display_data"
    },
    {
     "data": {
      "text/plain": [
       "\"DB: opt gap = 1.9561542837497732e-5\""
      ]
     },
     "metadata": {},
     "output_type": "display_data"
    },
    {
     "data": {
      "text/plain": [
       "\"time M 11.983000040054321 | time D 29.91700053215027\""
      ]
     },
     "metadata": {},
     "output_type": "display_data"
    },
    {
     "data": {
      "text/plain": [
       "\"evaluating 22 scenarios| option 3\""
      ]
     },
     "metadata": {},
     "output_type": "display_data"
    },
    {
     "data": {
      "text/plain": [
       "\"DB: opt gap = 1.0\""
      ]
     },
     "metadata": {},
     "output_type": "display_data"
    },
    {
     "data": {
      "text/plain": [
       "\">>>>>> iteration 1:O\""
      ]
     },
     "metadata": {},
     "output_type": "display_data"
    },
    {
     "data": {
      "text/plain": [
       "\"DB: opt gap = 1.0\""
      ]
     },
     "metadata": {},
     "output_type": "display_data"
    },
    {
     "data": {
      "text/plain": [
       "\">>>>>> iteration 2:O\""
      ]
     },
     "metadata": {},
     "output_type": "display_data"
    },
    {
     "data": {
      "text/plain": [
       "\"DB: opt gap = 1.0\""
      ]
     },
     "metadata": {},
     "output_type": "display_data"
    },
    {
     "data": {
      "text/plain": [
       "\">>>>>> iteration 3:O\""
      ]
     },
     "metadata": {},
     "output_type": "display_data"
    },
    {
     "data": {
      "text/plain": [
       "\"DB: opt gap = 1.0\""
      ]
     },
     "metadata": {},
     "output_type": "display_data"
    },
    {
     "data": {
      "text/plain": [
       "\">>>>>> iteration 4:O\""
      ]
     },
     "metadata": {},
     "output_type": "display_data"
    },
    {
     "data": {
      "text/plain": [
       "\"DB: opt gap = 1.0\""
      ]
     },
     "metadata": {},
     "output_type": "display_data"
    },
    {
     "data": {
      "text/plain": [
       "\">>>>>> iteration 5:O\""
      ]
     },
     "metadata": {},
     "output_type": "display_data"
    },
    {
     "data": {
      "text/plain": [
       "\"DB: opt gap = 1.0\""
      ]
     },
     "metadata": {},
     "output_type": "display_data"
    },
    {
     "data": {
      "text/plain": [
       "\">>>>>> iteration 6:O\""
      ]
     },
     "metadata": {},
     "output_type": "display_data"
    },
    {
     "data": {
      "text/plain": [
       "\"DB: opt gap = 1.0\""
      ]
     },
     "metadata": {},
     "output_type": "display_data"
    },
    {
     "data": {
      "text/plain": [
       "\">>>>>> iteration 7:O\""
      ]
     },
     "metadata": {},
     "output_type": "display_data"
    },
    {
     "data": {
      "text/plain": [
       "\"DB: opt gap = 0.16850641478043168\""
      ]
     },
     "metadata": {},
     "output_type": "display_data"
    },
    {
     "data": {
      "text/plain": [
       "\">>>>>> iteration 8:O\""
      ]
     },
     "metadata": {},
     "output_type": "display_data"
    },
    {
     "data": {
      "text/plain": [
       "\"DB: opt gap = 0.1682758593743884\""
      ]
     },
     "metadata": {},
     "output_type": "display_data"
    },
    {
     "data": {
      "text/plain": [
       "\">>>>>> iteration 9:O\""
      ]
     },
     "metadata": {},
     "output_type": "display_data"
    },
    {
     "data": {
      "text/plain": [
       "\"DB: opt gap = 0.16761312068759968\""
      ]
     },
     "metadata": {},
     "output_type": "display_data"
    },
    {
     "data": {
      "text/plain": [
       "\">>>>>> iteration 10:O\""
      ]
     },
     "metadata": {},
     "output_type": "display_data"
    },
    {
     "data": {
      "text/plain": [
       "\"DB: opt gap = 0.1673454602827275\""
      ]
     },
     "metadata": {},
     "output_type": "display_data"
    },
    {
     "data": {
      "text/plain": [
       "\">>>>>> iteration 11:O\""
      ]
     },
     "metadata": {},
     "output_type": "display_data"
    },
    {
     "data": {
      "text/plain": [
       "\"DB: opt gap = 0.1667533309228579\""
      ]
     },
     "metadata": {},
     "output_type": "display_data"
    },
    {
     "data": {
      "text/plain": [
       "\">>>>>> iteration 12:O\""
      ]
     },
     "metadata": {},
     "output_type": "display_data"
    },
    {
     "data": {
      "text/plain": [
       "\"DB: opt gap = 0.16652231518580776\""
      ]
     },
     "metadata": {},
     "output_type": "display_data"
    },
    {
     "data": {
      "text/plain": [
       "\">>>>>> iteration 13:O\""
      ]
     },
     "metadata": {},
     "output_type": "display_data"
    },
    {
     "data": {
      "text/plain": [
       "\"DB: opt gap = 0.166138666400541\""
      ]
     },
     "metadata": {},
     "output_type": "display_data"
    },
    {
     "data": {
      "text/plain": [
       "\">>>>>> iteration 14:O\""
      ]
     },
     "metadata": {},
     "output_type": "display_data"
    },
    {
     "data": {
      "text/plain": [
       "\"DB: opt gap = 0.16591717770927275\""
      ]
     },
     "metadata": {},
     "output_type": "display_data"
    },
    {
     "data": {
      "text/plain": [
       "\">>>>>> iteration 15:O\""
      ]
     },
     "metadata": {},
     "output_type": "display_data"
    },
    {
     "data": {
      "text/plain": [
       "\">>>>>> iteration 16:F\""
      ]
     },
     "metadata": {},
     "output_type": "display_data"
    },
    {
     "data": {
      "text/plain": [
       "\"DB: opt gap = 0.16599559436330744\""
      ]
     },
     "metadata": {},
     "output_type": "display_data"
    },
    {
     "data": {
      "text/plain": [
       "\">>>>>> iteration 17:O\""
      ]
     },
     "metadata": {},
     "output_type": "display_data"
    },
    {
     "data": {
      "text/plain": [
       "\"DB: opt gap = 0.165412736712483\""
      ]
     },
     "metadata": {},
     "output_type": "display_data"
    },
    {
     "data": {
      "text/plain": [
       "\">>>>>> iteration 18:O\""
      ]
     },
     "metadata": {},
     "output_type": "display_data"
    },
    {
     "data": {
      "text/plain": [
       "\"DB: opt gap = 0.16527275931672045\""
      ]
     },
     "metadata": {},
     "output_type": "display_data"
    },
    {
     "data": {
      "text/plain": [
       "\">>>>>> iteration 19:O\""
      ]
     },
     "metadata": {},
     "output_type": "display_data"
    },
    {
     "data": {
      "text/plain": [
       "\"DB: opt gap = 4.3458550543493596e-6\""
      ]
     },
     "metadata": {},
     "output_type": "display_data"
    },
    {
     "data": {
      "text/plain": [
       "\"time M 15.563999891281128 | time D 38.73099875450134\""
      ]
     },
     "metadata": {},
     "output_type": "display_data"
    },
    {
     "data": {
      "text/plain": [
       "\"evaluating 23 scenarios| option 3\""
      ]
     },
     "metadata": {},
     "output_type": "display_data"
    },
    {
     "data": {
      "text/plain": [
       "\"DB: opt gap = 1.0\""
      ]
     },
     "metadata": {},
     "output_type": "display_data"
    },
    {
     "data": {
      "text/plain": [
       "\">>>>>> iteration 1:O\""
      ]
     },
     "metadata": {},
     "output_type": "display_data"
    },
    {
     "data": {
      "text/plain": [
       "\"DB: opt gap = 1.0\""
      ]
     },
     "metadata": {},
     "output_type": "display_data"
    },
    {
     "data": {
      "text/plain": [
       "\">>>>>> iteration 2:O\""
      ]
     },
     "metadata": {},
     "output_type": "display_data"
    },
    {
     "data": {
      "text/plain": [
       "\"DB: opt gap = 1.0\""
      ]
     },
     "metadata": {},
     "output_type": "display_data"
    },
    {
     "data": {
      "text/plain": [
       "\">>>>>> iteration 3:O\""
      ]
     },
     "metadata": {},
     "output_type": "display_data"
    },
    {
     "data": {
      "text/plain": [
       "\"DB: opt gap = 1.0\""
      ]
     },
     "metadata": {},
     "output_type": "display_data"
    },
    {
     "data": {
      "text/plain": [
       "\">>>>>> iteration 4:O\""
      ]
     },
     "metadata": {},
     "output_type": "display_data"
    },
    {
     "data": {
      "text/plain": [
       "\"DB: opt gap = 1.0\""
      ]
     },
     "metadata": {},
     "output_type": "display_data"
    },
    {
     "data": {
      "text/plain": [
       "\">>>>>> iteration 5:O\""
      ]
     },
     "metadata": {},
     "output_type": "display_data"
    },
    {
     "data": {
      "text/plain": [
       "\"DB: opt gap = 1.0\""
      ]
     },
     "metadata": {},
     "output_type": "display_data"
    },
    {
     "data": {
      "text/plain": [
       "\">>>>>> iteration 6:O\""
      ]
     },
     "metadata": {},
     "output_type": "display_data"
    },
    {
     "data": {
      "text/plain": [
       "\"DB: opt gap = 1.0\""
      ]
     },
     "metadata": {},
     "output_type": "display_data"
    },
    {
     "data": {
      "text/plain": [
       "\">>>>>> iteration 7:O\""
      ]
     },
     "metadata": {},
     "output_type": "display_data"
    },
    {
     "data": {
      "text/plain": [
       "\"DB: opt gap = 1.0\""
      ]
     },
     "metadata": {},
     "output_type": "display_data"
    },
    {
     "data": {
      "text/plain": [
       "\">>>>>> iteration 8:O\""
      ]
     },
     "metadata": {},
     "output_type": "display_data"
    },
    {
     "data": {
      "text/plain": [
       "\"DB: opt gap = 1.0\""
      ]
     },
     "metadata": {},
     "output_type": "display_data"
    },
    {
     "data": {
      "text/plain": [
       "\">>>>>> iteration 9:O\""
      ]
     },
     "metadata": {},
     "output_type": "display_data"
    },
    {
     "data": {
      "text/plain": [
       "\"DB: opt gap = 0.1307042101325398\""
      ]
     },
     "metadata": {},
     "output_type": "display_data"
    },
    {
     "data": {
      "text/plain": [
       "\">>>>>> iteration 10:O\""
      ]
     },
     "metadata": {},
     "output_type": "display_data"
    },
    {
     "data": {
      "text/plain": [
       "\"DB: opt gap = 0.13052025177911153\""
      ]
     },
     "metadata": {},
     "output_type": "display_data"
    },
    {
     "data": {
      "text/plain": [
       "\">>>>>> iteration 11:O\""
      ]
     },
     "metadata": {},
     "output_type": "display_data"
    },
    {
     "data": {
      "text/plain": [
       "\">>>>>> iteration 12:F\""
      ]
     },
     "metadata": {},
     "output_type": "display_data"
    },
    {
     "data": {
      "text/plain": [
       "\"DB: opt gap = 0.13011601035060705\""
      ]
     },
     "metadata": {},
     "output_type": "display_data"
    },
    {
     "data": {
      "text/plain": [
       "\">>>>>> iteration 13:O\""
      ]
     },
     "metadata": {},
     "output_type": "display_data"
    },
    {
     "data": {
      "text/plain": [
       "\"DB: opt gap = 0.12990978593940522\""
      ]
     },
     "metadata": {},
     "output_type": "display_data"
    },
    {
     "data": {
      "text/plain": [
       "\">>>>>> iteration 14:O\""
      ]
     },
     "metadata": {},
     "output_type": "display_data"
    },
    {
     "data": {
      "text/plain": [
       "\"DB: opt gap = 0.12940357045876294\""
      ]
     },
     "metadata": {},
     "output_type": "display_data"
    },
    {
     "data": {
      "text/plain": [
       "\">>>>>> iteration 15:O\""
      ]
     },
     "metadata": {},
     "output_type": "display_data"
    },
    {
     "data": {
      "text/plain": [
       "\"DB: opt gap = 0.12878723981647838\""
      ]
     },
     "metadata": {},
     "output_type": "display_data"
    },
    {
     "data": {
      "text/plain": [
       "\">>>>>> iteration 16:O\""
      ]
     },
     "metadata": {},
     "output_type": "display_data"
    },
    {
     "data": {
      "text/plain": [
       "\"DB: opt gap = 0.12875530332804958\""
      ]
     },
     "metadata": {},
     "output_type": "display_data"
    },
    {
     "data": {
      "text/plain": [
       "\">>>>>> iteration 17:O\""
      ]
     },
     "metadata": {},
     "output_type": "display_data"
    },
    {
     "data": {
      "text/plain": [
       "\"DB: opt gap = 2.454106084114058e-6\""
      ]
     },
     "metadata": {},
     "output_type": "display_data"
    },
    {
     "data": {
      "text/plain": [
       "\"time M 14.611000061035156 | time D 30.447999477386475\""
      ]
     },
     "metadata": {},
     "output_type": "display_data"
    },
    {
     "data": {
      "text/plain": [
       "\"evaluating 24 scenarios| option 3\""
      ]
     },
     "metadata": {},
     "output_type": "display_data"
    },
    {
     "data": {
      "text/plain": [
       "\"DB: opt gap = 1.0\""
      ]
     },
     "metadata": {},
     "output_type": "display_data"
    },
    {
     "data": {
      "text/plain": [
       "\">>>>>> iteration 1:O\""
      ]
     },
     "metadata": {},
     "output_type": "display_data"
    },
    {
     "data": {
      "text/plain": [
       "\"DB: opt gap = 1.0\""
      ]
     },
     "metadata": {},
     "output_type": "display_data"
    },
    {
     "data": {
      "text/plain": [
       "\">>>>>> iteration 2:O\""
      ]
     },
     "metadata": {},
     "output_type": "display_data"
    },
    {
     "data": {
      "text/plain": [
       "\"DB: opt gap = 1.0\""
      ]
     },
     "metadata": {},
     "output_type": "display_data"
    },
    {
     "data": {
      "text/plain": [
       "\">>>>>> iteration 3:O\""
      ]
     },
     "metadata": {},
     "output_type": "display_data"
    },
    {
     "data": {
      "text/plain": [
       "\"DB: opt gap = 1.0\""
      ]
     },
     "metadata": {},
     "output_type": "display_data"
    },
    {
     "data": {
      "text/plain": [
       "\">>>>>> iteration 4:O\""
      ]
     },
     "metadata": {},
     "output_type": "display_data"
    },
    {
     "data": {
      "text/plain": [
       "\"DB: opt gap = 1.0\""
      ]
     },
     "metadata": {},
     "output_type": "display_data"
    },
    {
     "data": {
      "text/plain": [
       "\">>>>>> iteration 5:O\""
      ]
     },
     "metadata": {},
     "output_type": "display_data"
    },
    {
     "data": {
      "text/plain": [
       "\"DB: opt gap = 1.0\""
      ]
     },
     "metadata": {},
     "output_type": "display_data"
    },
    {
     "data": {
      "text/plain": [
       "\">>>>>> iteration 6:O\""
      ]
     },
     "metadata": {},
     "output_type": "display_data"
    },
    {
     "data": {
      "text/plain": [
       "\"DB: opt gap = 1.0\""
      ]
     },
     "metadata": {},
     "output_type": "display_data"
    },
    {
     "data": {
      "text/plain": [
       "\">>>>>> iteration 7:O\""
      ]
     },
     "metadata": {},
     "output_type": "display_data"
    },
    {
     "data": {
      "text/plain": [
       "\"DB: opt gap = 1.0\""
      ]
     },
     "metadata": {},
     "output_type": "display_data"
    },
    {
     "data": {
      "text/plain": [
       "\">>>>>> iteration 8:O\""
      ]
     },
     "metadata": {},
     "output_type": "display_data"
    },
    {
     "data": {
      "text/plain": [
       "\"DB: opt gap = 1.0\""
      ]
     },
     "metadata": {},
     "output_type": "display_data"
    },
    {
     "data": {
      "text/plain": [
       "\">>>>>> iteration 9:O\""
      ]
     },
     "metadata": {},
     "output_type": "display_data"
    },
    {
     "data": {
      "text/plain": [
       "\"DB: opt gap = 1.0\""
      ]
     },
     "metadata": {},
     "output_type": "display_data"
    },
    {
     "data": {
      "text/plain": [
       "\">>>>>> iteration 10:O\""
      ]
     },
     "metadata": {},
     "output_type": "display_data"
    },
    {
     "data": {
      "text/plain": [
       "\"DB: opt gap = 0.13906291450617056\""
      ]
     },
     "metadata": {},
     "output_type": "display_data"
    },
    {
     "data": {
      "text/plain": [
       "\">>>>>> iteration 11:O\""
      ]
     },
     "metadata": {},
     "output_type": "display_data"
    },
    {
     "data": {
      "text/plain": [
       "\"DB: opt gap = 0.13887883572663798\""
      ]
     },
     "metadata": {},
     "output_type": "display_data"
    },
    {
     "data": {
      "text/plain": [
       "\">>>>>> iteration 12:O\""
      ]
     },
     "metadata": {},
     "output_type": "display_data"
    },
    {
     "data": {
      "text/plain": [
       "\"DB: opt gap = 0.13852933232314374\""
      ]
     },
     "metadata": {},
     "output_type": "display_data"
    },
    {
     "data": {
      "text/plain": [
       "\">>>>>> iteration 13:O\""
      ]
     },
     "metadata": {},
     "output_type": "display_data"
    },
    {
     "data": {
      "text/plain": [
       "\"DB: opt gap = 0.1380265464322168\""
      ]
     },
     "metadata": {},
     "output_type": "display_data"
    },
    {
     "data": {
      "text/plain": [
       "\">>>>>> iteration 14:O\""
      ]
     },
     "metadata": {},
     "output_type": "display_data"
    },
    {
     "data": {
      "text/plain": [
       "\">>>>>> iteration 15:F\""
      ]
     },
     "metadata": {},
     "output_type": "display_data"
    },
    {
     "data": {
      "text/plain": [
       "\"DB: opt gap = 0.1375570814383508\""
      ]
     },
     "metadata": {},
     "output_type": "display_data"
    },
    {
     "data": {
      "text/plain": [
       "\">>>>>> iteration 16:O\""
      ]
     },
     "metadata": {},
     "output_type": "display_data"
    },
    {
     "data": {
      "text/plain": [
       "\"DB: opt gap = 0.13473720276941212\""
      ]
     },
     "metadata": {},
     "output_type": "display_data"
    },
    {
     "data": {
      "text/plain": [
       "\">>>>>> iteration 17:O\""
      ]
     },
     "metadata": {},
     "output_type": "display_data"
    },
    {
     "data": {
      "text/plain": [
       "\"DB: opt gap = 0.13456945263974915\""
      ]
     },
     "metadata": {},
     "output_type": "display_data"
    },
    {
     "data": {
      "text/plain": [
       "\">>>>>> iteration 18:O\""
      ]
     },
     "metadata": {},
     "output_type": "display_data"
    },
    {
     "data": {
      "text/plain": [
       "\"DB: opt gap = 0.1333592969214664\""
      ]
     },
     "metadata": {},
     "output_type": "display_data"
    },
    {
     "data": {
      "text/plain": [
       "\">>>>>> iteration 19:O\""
      ]
     },
     "metadata": {},
     "output_type": "display_data"
    },
    {
     "data": {
      "text/plain": [
       "\"DB: opt gap = 2.7205776694066075e-5\""
      ]
     },
     "metadata": {},
     "output_type": "display_data"
    },
    {
     "data": {
      "text/plain": [
       "\"time M 13.403000116348267 | time D 35.36299753189087\""
      ]
     },
     "metadata": {},
     "output_type": "display_data"
    },
    {
     "data": {
      "text/plain": [
       "\"evaluating 25 scenarios| option 3\""
      ]
     },
     "metadata": {},
     "output_type": "display_data"
    },
    {
     "data": {
      "text/plain": [
       "\"DB: opt gap = 1.0\""
      ]
     },
     "metadata": {},
     "output_type": "display_data"
    },
    {
     "data": {
      "text/plain": [
       "\">>>>>> iteration 1:O\""
      ]
     },
     "metadata": {},
     "output_type": "display_data"
    },
    {
     "data": {
      "text/plain": [
       "\"DB: opt gap = 1.0\""
      ]
     },
     "metadata": {},
     "output_type": "display_data"
    },
    {
     "data": {
      "text/plain": [
       "\">>>>>> iteration 2:O\""
      ]
     },
     "metadata": {},
     "output_type": "display_data"
    },
    {
     "data": {
      "text/plain": [
       "\"DB: opt gap = 1.0\""
      ]
     },
     "metadata": {},
     "output_type": "display_data"
    },
    {
     "data": {
      "text/plain": [
       "\">>>>>> iteration 3:O\""
      ]
     },
     "metadata": {},
     "output_type": "display_data"
    },
    {
     "data": {
      "text/plain": [
       "\"DB: opt gap = 1.0\""
      ]
     },
     "metadata": {},
     "output_type": "display_data"
    },
    {
     "data": {
      "text/plain": [
       "\">>>>>> iteration 4:O\""
      ]
     },
     "metadata": {},
     "output_type": "display_data"
    },
    {
     "data": {
      "text/plain": [
       "\"DB: opt gap = 1.0\""
      ]
     },
     "metadata": {},
     "output_type": "display_data"
    },
    {
     "data": {
      "text/plain": [
       "\">>>>>> iteration 5:O\""
      ]
     },
     "metadata": {},
     "output_type": "display_data"
    },
    {
     "data": {
      "text/plain": [
       "\"DB: opt gap = 1.0\""
      ]
     },
     "metadata": {},
     "output_type": "display_data"
    },
    {
     "data": {
      "text/plain": [
       "\">>>>>> iteration 6:O\""
      ]
     },
     "metadata": {},
     "output_type": "display_data"
    },
    {
     "data": {
      "text/plain": [
       "\"DB: opt gap = 1.0\""
      ]
     },
     "metadata": {},
     "output_type": "display_data"
    },
    {
     "data": {
      "text/plain": [
       "\">>>>>> iteration 7:O\""
      ]
     },
     "metadata": {},
     "output_type": "display_data"
    },
    {
     "data": {
      "text/plain": [
       "\"DB: opt gap = 1.0\""
      ]
     },
     "metadata": {},
     "output_type": "display_data"
    },
    {
     "data": {
      "text/plain": [
       "\">>>>>> iteration 8:O\""
      ]
     },
     "metadata": {},
     "output_type": "display_data"
    },
    {
     "data": {
      "text/plain": [
       "\"DB: opt gap = 1.0\""
      ]
     },
     "metadata": {},
     "output_type": "display_data"
    },
    {
     "data": {
      "text/plain": [
       "\">>>>>> iteration 9:O\""
      ]
     },
     "metadata": {},
     "output_type": "display_data"
    },
    {
     "data": {
      "text/plain": [
       "\"DB: opt gap = 1.0\""
      ]
     },
     "metadata": {},
     "output_type": "display_data"
    },
    {
     "data": {
      "text/plain": [
       "\">>>>>> iteration 10:O\""
      ]
     },
     "metadata": {},
     "output_type": "display_data"
    },
    {
     "data": {
      "text/plain": [
       "\"DB: opt gap = 0.13729266659494332\""
      ]
     },
     "metadata": {},
     "output_type": "display_data"
    },
    {
     "data": {
      "text/plain": [
       "\">>>>>> iteration 11:O\""
      ]
     },
     "metadata": {},
     "output_type": "display_data"
    },
    {
     "data": {
      "text/plain": [
       "\"DB: opt gap = 0.13713930009694575\""
      ]
     },
     "metadata": {},
     "output_type": "display_data"
    },
    {
     "data": {
      "text/plain": [
       "\">>>>>> iteration 12:O\""
      ]
     },
     "metadata": {},
     "output_type": "display_data"
    },
    {
     "data": {
      "text/plain": [
       "\">>>>>> iteration 13:F\""
      ]
     },
     "metadata": {},
     "output_type": "display_data"
    },
    {
     "data": {
      "text/plain": [
       "\"DB: opt gap = 0.1368030848383812\""
      ]
     },
     "metadata": {},
     "output_type": "display_data"
    },
    {
     "data": {
      "text/plain": [
       "\">>>>>> iteration 14:O\""
      ]
     },
     "metadata": {},
     "output_type": "display_data"
    },
    {
     "data": {
      "text/plain": [
       "\"DB: opt gap = 0.13664989841371486\""
      ]
     },
     "metadata": {},
     "output_type": "display_data"
    },
    {
     "data": {
      "text/plain": [
       "\">>>>>> iteration 15:O\""
      ]
     },
     "metadata": {},
     "output_type": "display_data"
    },
    {
     "data": {
      "text/plain": [
       "\"DB: opt gap = 0.13619104687998632\""
      ]
     },
     "metadata": {},
     "output_type": "display_data"
    },
    {
     "data": {
      "text/plain": [
       "\">>>>>> iteration 16:O\""
      ]
     },
     "metadata": {},
     "output_type": "display_data"
    },
    {
     "data": {
      "text/plain": [
       "\"DB: opt gap = 0.1355797936850288\""
      ]
     },
     "metadata": {},
     "output_type": "display_data"
    },
    {
     "data": {
      "text/plain": [
       "\">>>>>> iteration 17:O\""
      ]
     },
     "metadata": {},
     "output_type": "display_data"
    },
    {
     "data": {
      "text/plain": [
       "\"DB: opt gap = 0.13243613642184823\""
      ]
     },
     "metadata": {},
     "output_type": "display_data"
    },
    {
     "data": {
      "text/plain": [
       "\">>>>>> iteration 18:O\""
      ]
     },
     "metadata": {},
     "output_type": "display_data"
    },
    {
     "data": {
      "text/plain": [
       "\"DB: opt gap = 0.13144823977467743\""
      ]
     },
     "metadata": {},
     "output_type": "display_data"
    },
    {
     "data": {
      "text/plain": [
       "\">>>>>> iteration 19:O\""
      ]
     },
     "metadata": {},
     "output_type": "display_data"
    },
    {
     "data": {
      "text/plain": [
       "\"DB: opt gap = 0.1310988013031342\""
      ]
     },
     "metadata": {},
     "output_type": "display_data"
    },
    {
     "data": {
      "text/plain": [
       "\">>>>>> iteration 20:O\""
      ]
     },
     "metadata": {},
     "output_type": "display_data"
    },
    {
     "data": {
      "text/plain": [
       "\"DB: opt gap = 3.465439117919657e-5\""
      ]
     },
     "metadata": {},
     "output_type": "display_data"
    },
    {
     "data": {
      "text/plain": [
       "\"time M 15.721999883651733 | time D 42.606000900268555\""
      ]
     },
     "metadata": {},
     "output_type": "display_data"
    },
    {
     "data": {
      "text/plain": [
       "\"evaluating 26 scenarios| option 3\""
      ]
     },
     "metadata": {},
     "output_type": "display_data"
    },
    {
     "data": {
      "text/plain": [
       "\"DB: opt gap = 1.0\""
      ]
     },
     "metadata": {},
     "output_type": "display_data"
    },
    {
     "data": {
      "text/plain": [
       "\">>>>>> iteration 1:O\""
      ]
     },
     "metadata": {},
     "output_type": "display_data"
    },
    {
     "data": {
      "text/plain": [
       "\"DB: opt gap = 1.0\""
      ]
     },
     "metadata": {},
     "output_type": "display_data"
    },
    {
     "data": {
      "text/plain": [
       "\">>>>>> iteration 2:O\""
      ]
     },
     "metadata": {},
     "output_type": "display_data"
    },
    {
     "data": {
      "text/plain": [
       "\"DB: opt gap = 1.0\""
      ]
     },
     "metadata": {},
     "output_type": "display_data"
    },
    {
     "data": {
      "text/plain": [
       "\">>>>>> iteration 3:O\""
      ]
     },
     "metadata": {},
     "output_type": "display_data"
    },
    {
     "data": {
      "text/plain": [
       "\"DB: opt gap = 1.0\""
      ]
     },
     "metadata": {},
     "output_type": "display_data"
    },
    {
     "data": {
      "text/plain": [
       "\">>>>>> iteration 4:O\""
      ]
     },
     "metadata": {},
     "output_type": "display_data"
    },
    {
     "data": {
      "text/plain": [
       "\"DB: opt gap = 1.0\""
      ]
     },
     "metadata": {},
     "output_type": "display_data"
    },
    {
     "data": {
      "text/plain": [
       "\">>>>>> iteration 5:O\""
      ]
     },
     "metadata": {},
     "output_type": "display_data"
    },
    {
     "data": {
      "text/plain": [
       "\"DB: opt gap = 1.0\""
      ]
     },
     "metadata": {},
     "output_type": "display_data"
    },
    {
     "data": {
      "text/plain": [
       "\">>>>>> iteration 6:O\""
      ]
     },
     "metadata": {},
     "output_type": "display_data"
    },
    {
     "data": {
      "text/plain": [
       "\"DB: opt gap = 1.0\""
      ]
     },
     "metadata": {},
     "output_type": "display_data"
    },
    {
     "data": {
      "text/plain": [
       "\">>>>>> iteration 7:O\""
      ]
     },
     "metadata": {},
     "output_type": "display_data"
    },
    {
     "data": {
      "text/plain": [
       "\"DB: opt gap = 1.0\""
      ]
     },
     "metadata": {},
     "output_type": "display_data"
    },
    {
     "data": {
      "text/plain": [
       "\">>>>>> iteration 8:O\""
      ]
     },
     "metadata": {},
     "output_type": "display_data"
    },
    {
     "data": {
      "text/plain": [
       "\"DB: opt gap = 1.0\""
      ]
     },
     "metadata": {},
     "output_type": "display_data"
    },
    {
     "data": {
      "text/plain": [
       "\">>>>>> iteration 9:O\""
      ]
     },
     "metadata": {},
     "output_type": "display_data"
    },
    {
     "data": {
      "text/plain": [
       "\"DB: opt gap = 1.0\""
      ]
     },
     "metadata": {},
     "output_type": "display_data"
    },
    {
     "data": {
      "text/plain": [
       "\">>>>>> iteration 10:O\""
      ]
     },
     "metadata": {},
     "output_type": "display_data"
    },
    {
     "data": {
      "text/plain": [
       "\"DB: opt gap = 0.14964615550314841\""
      ]
     },
     "metadata": {},
     "output_type": "display_data"
    },
    {
     "data": {
      "text/plain": [
       "\">>>>>> iteration 11:O\""
      ]
     },
     "metadata": {},
     "output_type": "display_data"
    },
    {
     "data": {
      "text/plain": [
       "\"DB: opt gap = 0.14945096267951427\""
      ]
     },
     "metadata": {},
     "output_type": "display_data"
    },
    {
     "data": {
      "text/plain": [
       "\">>>>>> iteration 12:O\""
      ]
     },
     "metadata": {},
     "output_type": "display_data"
    },
    {
     "data": {
      "text/plain": [
       "\">>>>>> iteration 13:F\""
      ]
     },
     "metadata": {},
     "output_type": "display_data"
    },
    {
     "data": {
      "text/plain": [
       "\"DB: opt gap = 0.14902447975745547\""
      ]
     },
     "metadata": {},
     "output_type": "display_data"
    },
    {
     "data": {
      "text/plain": [
       "\">>>>>> iteration 14:O\""
      ]
     },
     "metadata": {},
     "output_type": "display_data"
    },
    {
     "data": {
      "text/plain": [
       "\"DB: opt gap = 0.14883696995766968\""
      ]
     },
     "metadata": {},
     "output_type": "display_data"
    },
    {
     "data": {
      "text/plain": [
       "\">>>>>> iteration 15:O\""
      ]
     },
     "metadata": {},
     "output_type": "display_data"
    },
    {
     "data": {
      "text/plain": [
       "\"DB: opt gap = 0.1449814912797165\""
      ]
     },
     "metadata": {},
     "output_type": "display_data"
    },
    {
     "data": {
      "text/plain": [
       "\">>>>>> iteration 16:O\""
      ]
     },
     "metadata": {},
     "output_type": "display_data"
    },
    {
     "data": {
      "text/plain": [
       "\"DB: opt gap = 0.14476070228333604\""
      ]
     },
     "metadata": {},
     "output_type": "display_data"
    },
    {
     "data": {
      "text/plain": [
       "\">>>>>> iteration 17:O\""
      ]
     },
     "metadata": {},
     "output_type": "display_data"
    },
    {
     "data": {
      "text/plain": [
       "\"DB: opt gap = 0.1443187016307927\""
      ]
     },
     "metadata": {},
     "output_type": "display_data"
    },
    {
     "data": {
      "text/plain": [
       "\">>>>>> iteration 18:O\""
      ]
     },
     "metadata": {},
     "output_type": "display_data"
    },
    {
     "data": {
      "text/plain": [
       "\"DB: opt gap = 0.1438693637625561\""
      ]
     },
     "metadata": {},
     "output_type": "display_data"
    },
    {
     "data": {
      "text/plain": [
       "\">>>>>> iteration 19:O\""
      ]
     },
     "metadata": {},
     "output_type": "display_data"
    },
    {
     "data": {
      "text/plain": [
       "\"DB: opt gap = 0.14282918459789454\""
      ]
     },
     "metadata": {},
     "output_type": "display_data"
    },
    {
     "data": {
      "text/plain": [
       "\">>>>>> iteration 20:O\""
      ]
     },
     "metadata": {},
     "output_type": "display_data"
    },
    {
     "data": {
      "text/plain": [
       "\"DB: opt gap = 0.1421229795610952\""
      ]
     },
     "metadata": {},
     "output_type": "display_data"
    },
    {
     "data": {
      "text/plain": [
       "\">>>>>> iteration 21:O\""
      ]
     },
     "metadata": {},
     "output_type": "display_data"
    },
    {
     "data": {
      "text/plain": [
       "\"DB: opt gap = 4.755641431595598e-5\""
      ]
     },
     "metadata": {},
     "output_type": "display_data"
    },
    {
     "data": {
      "text/plain": [
       "\"time M 16.786999940872192 | time D 47.24600052833557\""
      ]
     },
     "metadata": {},
     "output_type": "display_data"
    },
    {
     "data": {
      "text/plain": [
       "\"evaluating 27 scenarios| option 3\""
      ]
     },
     "metadata": {},
     "output_type": "display_data"
    },
    {
     "data": {
      "text/plain": [
       "\"DB: opt gap = 1.0\""
      ]
     },
     "metadata": {},
     "output_type": "display_data"
    },
    {
     "data": {
      "text/plain": [
       "\">>>>>> iteration 1:O\""
      ]
     },
     "metadata": {},
     "output_type": "display_data"
    },
    {
     "data": {
      "text/plain": [
       "\"DB: opt gap = 1.0\""
      ]
     },
     "metadata": {},
     "output_type": "display_data"
    },
    {
     "data": {
      "text/plain": [
       "\">>>>>> iteration 2:O\""
      ]
     },
     "metadata": {},
     "output_type": "display_data"
    },
    {
     "data": {
      "text/plain": [
       "\"DB: opt gap = 1.0\""
      ]
     },
     "metadata": {},
     "output_type": "display_data"
    },
    {
     "data": {
      "text/plain": [
       "\">>>>>> iteration 3:O\""
      ]
     },
     "metadata": {},
     "output_type": "display_data"
    },
    {
     "data": {
      "text/plain": [
       "\"DB: opt gap = 1.0\""
      ]
     },
     "metadata": {},
     "output_type": "display_data"
    },
    {
     "data": {
      "text/plain": [
       "\">>>>>> iteration 4:O\""
      ]
     },
     "metadata": {},
     "output_type": "display_data"
    },
    {
     "data": {
      "text/plain": [
       "\"DB: opt gap = 1.0\""
      ]
     },
     "metadata": {},
     "output_type": "display_data"
    },
    {
     "data": {
      "text/plain": [
       "\">>>>>> iteration 5:O\""
      ]
     },
     "metadata": {},
     "output_type": "display_data"
    },
    {
     "data": {
      "text/plain": [
       "\"DB: opt gap = 1.0\""
      ]
     },
     "metadata": {},
     "output_type": "display_data"
    },
    {
     "data": {
      "text/plain": [
       "\">>>>>> iteration 6:O\""
      ]
     },
     "metadata": {},
     "output_type": "display_data"
    },
    {
     "data": {
      "text/plain": [
       "\"DB: opt gap = 1.0\""
      ]
     },
     "metadata": {},
     "output_type": "display_data"
    },
    {
     "data": {
      "text/plain": [
       "\">>>>>> iteration 7:O\""
      ]
     },
     "metadata": {},
     "output_type": "display_data"
    },
    {
     "data": {
      "text/plain": [
       "\"DB: opt gap = 1.0\""
      ]
     },
     "metadata": {},
     "output_type": "display_data"
    },
    {
     "data": {
      "text/plain": [
       "\">>>>>> iteration 8:O\""
      ]
     },
     "metadata": {},
     "output_type": "display_data"
    },
    {
     "data": {
      "text/plain": [
       "\"DB: opt gap = 1.0\""
      ]
     },
     "metadata": {},
     "output_type": "display_data"
    },
    {
     "data": {
      "text/plain": [
       "\">>>>>> iteration 9:O\""
      ]
     },
     "metadata": {},
     "output_type": "display_data"
    },
    {
     "data": {
      "text/plain": [
       "\"DB: opt gap = 1.0\""
      ]
     },
     "metadata": {},
     "output_type": "display_data"
    },
    {
     "data": {
      "text/plain": [
       "\">>>>>> iteration 10:O\""
      ]
     },
     "metadata": {},
     "output_type": "display_data"
    },
    {
     "data": {
      "text/plain": [
       "\"DB: opt gap = 1.0\""
      ]
     },
     "metadata": {},
     "output_type": "display_data"
    },
    {
     "data": {
      "text/plain": [
       "\">>>>>> iteration 11:O\""
      ]
     },
     "metadata": {},
     "output_type": "display_data"
    },
    {
     "data": {
      "text/plain": [
       "\"DB: opt gap = 0.13551233292583495\""
      ]
     },
     "metadata": {},
     "output_type": "display_data"
    },
    {
     "data": {
      "text/plain": [
       "\">>>>>> iteration 12:O\""
      ]
     },
     "metadata": {},
     "output_type": "display_data"
    },
    {
     "data": {
      "text/plain": [
       "\"DB: opt gap = 0.13535890335038178\""
      ]
     },
     "metadata": {},
     "output_type": "display_data"
    },
    {
     "data": {
      "text/plain": [
       "\">>>>>> iteration 13:O\""
      ]
     },
     "metadata": {},
     "output_type": "display_data"
    },
    {
     "data": {
      "text/plain": [
       "\"DB: opt gap = 0.13504076197097545\""
      ]
     },
     "metadata": {},
     "output_type": "display_data"
    },
    {
     "data": {
      "text/plain": [
       "\">>>>>> iteration 14:O\""
      ]
     },
     "metadata": {},
     "output_type": "display_data"
    },
    {
     "data": {
      "text/plain": [
       "\"DB: opt gap = 0.13465740454527744\""
      ]
     },
     "metadata": {},
     "output_type": "display_data"
    },
    {
     "data": {
      "text/plain": [
       "\">>>>>> iteration 15:O\""
      ]
     },
     "metadata": {},
     "output_type": "display_data"
    },
    {
     "data": {
      "text/plain": [
       "\">>>>>> iteration 16:F\""
      ]
     },
     "metadata": {},
     "output_type": "display_data"
    },
    {
     "data": {
      "text/plain": [
       "\"DB: opt gap = 0.134254251533825\""
      ]
     },
     "metadata": {},
     "output_type": "display_data"
    },
    {
     "data": {
      "text/plain": [
       "\">>>>>> iteration 17:O\""
      ]
     },
     "metadata": {},
     "output_type": "display_data"
    },
    {
     "data": {
      "text/plain": [
       "\"DB: opt gap = 0.13345356744863485\""
      ]
     },
     "metadata": {},
     "output_type": "display_data"
    },
    {
     "data": {
      "text/plain": [
       "\">>>>>> iteration 18:O\""
      ]
     },
     "metadata": {},
     "output_type": "display_data"
    },
    {
     "data": {
      "text/plain": [
       "\"DB: opt gap = 0.13302804609660665\""
      ]
     },
     "metadata": {},
     "output_type": "display_data"
    },
    {
     "data": {
      "text/plain": [
       "\">>>>>> iteration 19:O\""
      ]
     },
     "metadata": {},
     "output_type": "display_data"
    },
    {
     "data": {
      "text/plain": [
       "\"DB: opt gap = 0.13287313760865618\""
      ]
     },
     "metadata": {},
     "output_type": "display_data"
    },
    {
     "data": {
      "text/plain": [
       "\">>>>>> iteration 20:O\""
      ]
     },
     "metadata": {},
     "output_type": "display_data"
    },
    {
     "data": {
      "text/plain": [
       "\"DB: opt gap = 4.570375122692145e-6\""
      ]
     },
     "metadata": {},
     "output_type": "display_data"
    },
    {
     "data": {
      "text/plain": [
       "\"time M 18.1969997882843 | time D 46.03900146484375\""
      ]
     },
     "metadata": {},
     "output_type": "display_data"
    },
    {
     "data": {
      "text/plain": [
       "\"evaluating 28 scenarios| option 3\""
      ]
     },
     "metadata": {},
     "output_type": "display_data"
    },
    {
     "data": {
      "text/plain": [
       "\"DB: opt gap = 1.0\""
      ]
     },
     "metadata": {},
     "output_type": "display_data"
    },
    {
     "data": {
      "text/plain": [
       "\">>>>>> iteration 1:O\""
      ]
     },
     "metadata": {},
     "output_type": "display_data"
    },
    {
     "data": {
      "text/plain": [
       "\"DB: opt gap = 1.0\""
      ]
     },
     "metadata": {},
     "output_type": "display_data"
    },
    {
     "data": {
      "text/plain": [
       "\">>>>>> iteration 2:O\""
      ]
     },
     "metadata": {},
     "output_type": "display_data"
    },
    {
     "data": {
      "text/plain": [
       "\"DB: opt gap = 1.0\""
      ]
     },
     "metadata": {},
     "output_type": "display_data"
    },
    {
     "data": {
      "text/plain": [
       "\">>>>>> iteration 3:O\""
      ]
     },
     "metadata": {},
     "output_type": "display_data"
    },
    {
     "data": {
      "text/plain": [
       "\"DB: opt gap = 1.0\""
      ]
     },
     "metadata": {},
     "output_type": "display_data"
    },
    {
     "data": {
      "text/plain": [
       "\">>>>>> iteration 4:O\""
      ]
     },
     "metadata": {},
     "output_type": "display_data"
    },
    {
     "data": {
      "text/plain": [
       "\"DB: opt gap = 1.0\""
      ]
     },
     "metadata": {},
     "output_type": "display_data"
    },
    {
     "data": {
      "text/plain": [
       "\">>>>>> iteration 5:O\""
      ]
     },
     "metadata": {},
     "output_type": "display_data"
    },
    {
     "data": {
      "text/plain": [
       "\"DB: opt gap = 1.0\""
      ]
     },
     "metadata": {},
     "output_type": "display_data"
    },
    {
     "data": {
      "text/plain": [
       "\">>>>>> iteration 6:O\""
      ]
     },
     "metadata": {},
     "output_type": "display_data"
    },
    {
     "data": {
      "text/plain": [
       "\"DB: opt gap = 1.0\""
      ]
     },
     "metadata": {},
     "output_type": "display_data"
    },
    {
     "data": {
      "text/plain": [
       "\">>>>>> iteration 7:O\""
      ]
     },
     "metadata": {},
     "output_type": "display_data"
    },
    {
     "data": {
      "text/plain": [
       "\"DB: opt gap = 1.0\""
      ]
     },
     "metadata": {},
     "output_type": "display_data"
    },
    {
     "data": {
      "text/plain": [
       "\">>>>>> iteration 8:O\""
      ]
     },
     "metadata": {},
     "output_type": "display_data"
    },
    {
     "data": {
      "text/plain": [
       "\"DB: opt gap = 1.0\""
      ]
     },
     "metadata": {},
     "output_type": "display_data"
    },
    {
     "data": {
      "text/plain": [
       "\">>>>>> iteration 9:O\""
      ]
     },
     "metadata": {},
     "output_type": "display_data"
    },
    {
     "data": {
      "text/plain": [
       "\"DB: opt gap = 0.16003538386827987\""
      ]
     },
     "metadata": {},
     "output_type": "display_data"
    },
    {
     "data": {
      "text/plain": [
       "\">>>>>> iteration 10:O\""
      ]
     },
     "metadata": {},
     "output_type": "display_data"
    },
    {
     "data": {
      "text/plain": [
       "\"DB: opt gap = 0.15984386463173342\""
      ]
     },
     "metadata": {},
     "output_type": "display_data"
    },
    {
     "data": {
      "text/plain": [
       "\">>>>>> iteration 11:O\""
      ]
     },
     "metadata": {},
     "output_type": "display_data"
    },
    {
     "data": {
      "text/plain": [
       "\"DB: opt gap = 0.15945454726967587\""
      ]
     },
     "metadata": {},
     "output_type": "display_data"
    },
    {
     "data": {
      "text/plain": [
       "\">>>>>> iteration 12:O\""
      ]
     },
     "metadata": {},
     "output_type": "display_data"
    },
    {
     "data": {
      "text/plain": [
       "\"DB: opt gap = 0.15892936546418504\""
      ]
     },
     "metadata": {},
     "output_type": "display_data"
    },
    {
     "data": {
      "text/plain": [
       "\">>>>>> iteration 13:O\""
      ]
     },
     "metadata": {},
     "output_type": "display_data"
    },
    {
     "data": {
      "text/plain": [
       "\"DB: opt gap = 0.1584418853590227\""
      ]
     },
     "metadata": {},
     "output_type": "display_data"
    },
    {
     "data": {
      "text/plain": [
       "\">>>>>> iteration 14:O\""
      ]
     },
     "metadata": {},
     "output_type": "display_data"
    },
    {
     "data": {
      "text/plain": [
       "\"DB: opt gap = 0.15836157174803012\""
      ]
     },
     "metadata": {},
     "output_type": "display_data"
    },
    {
     "data": {
      "text/plain": [
       "\">>>>>> iteration 15:O\""
      ]
     },
     "metadata": {},
     "output_type": "display_data"
    },
    {
     "data": {
      "text/plain": [
       "\"DB: opt gap = 0.158179353348613\""
      ]
     },
     "metadata": {},
     "output_type": "display_data"
    },
    {
     "data": {
      "text/plain": [
       "\">>>>>> iteration 16:O\""
      ]
     },
     "metadata": {},
     "output_type": "display_data"
    },
    {
     "data": {
      "text/plain": [
       "\"DB: opt gap = 0.1200296477648618\""
      ]
     },
     "metadata": {},
     "output_type": "display_data"
    },
    {
     "data": {
      "text/plain": [
       "\">>>>>> iteration 17:O\""
      ]
     },
     "metadata": {},
     "output_type": "display_data"
    },
    {
     "data": {
      "text/plain": [
       "\"DB: opt gap = 0.11946389062965712\""
      ]
     },
     "metadata": {},
     "output_type": "display_data"
    },
    {
     "data": {
      "text/plain": [
       "\">>>>>> iteration 18:O\""
      ]
     },
     "metadata": {},
     "output_type": "display_data"
    },
    {
     "data": {
      "text/plain": [
       "\"DB: opt gap = 0.0012602132742485972\""
      ]
     },
     "metadata": {},
     "output_type": "display_data"
    },
    {
     "data": {
      "text/plain": [
       "\">>>>>> iteration 19:O\""
      ]
     },
     "metadata": {},
     "output_type": "display_data"
    },
    {
     "data": {
      "text/plain": [
       "\"DB: opt gap = 0.0012312707281462512\""
      ]
     },
     "metadata": {},
     "output_type": "display_data"
    },
    {
     "data": {
      "text/plain": [
       "\">>>>>> iteration 20:O\""
      ]
     },
     "metadata": {},
     "output_type": "display_data"
    },
    {
     "data": {
      "text/plain": [
       "\"DB: opt gap = 5.011969187337661e-7\""
      ]
     },
     "metadata": {},
     "output_type": "display_data"
    },
    {
     "data": {
      "text/plain": [
       "\"time M 17.29699993133545 | time D 51.16400122642517\""
      ]
     },
     "metadata": {},
     "output_type": "display_data"
    },
    {
     "data": {
      "text/plain": [
       "\"evaluating 29 scenarios| option 3\""
      ]
     },
     "metadata": {},
     "output_type": "display_data"
    },
    {
     "data": {
      "text/plain": [
       "\"DB: opt gap = 1.0\""
      ]
     },
     "metadata": {},
     "output_type": "display_data"
    },
    {
     "data": {
      "text/plain": [
       "\">>>>>> iteration 1:O\""
      ]
     },
     "metadata": {},
     "output_type": "display_data"
    },
    {
     "data": {
      "text/plain": [
       "\"DB: opt gap = 1.0\""
      ]
     },
     "metadata": {},
     "output_type": "display_data"
    },
    {
     "data": {
      "text/plain": [
       "\">>>>>> iteration 2:O\""
      ]
     },
     "metadata": {},
     "output_type": "display_data"
    },
    {
     "data": {
      "text/plain": [
       "\"DB: opt gap = 1.0\""
      ]
     },
     "metadata": {},
     "output_type": "display_data"
    },
    {
     "data": {
      "text/plain": [
       "\">>>>>> iteration 3:O\""
      ]
     },
     "metadata": {},
     "output_type": "display_data"
    },
    {
     "data": {
      "text/plain": [
       "\"DB: opt gap = 1.0\""
      ]
     },
     "metadata": {},
     "output_type": "display_data"
    },
    {
     "data": {
      "text/plain": [
       "\">>>>>> iteration 4:O\""
      ]
     },
     "metadata": {},
     "output_type": "display_data"
    },
    {
     "data": {
      "text/plain": [
       "\"DB: opt gap = 1.0\""
      ]
     },
     "metadata": {},
     "output_type": "display_data"
    },
    {
     "data": {
      "text/plain": [
       "\">>>>>> iteration 5:O\""
      ]
     },
     "metadata": {},
     "output_type": "display_data"
    },
    {
     "data": {
      "text/plain": [
       "\"DB: opt gap = 1.0\""
      ]
     },
     "metadata": {},
     "output_type": "display_data"
    },
    {
     "data": {
      "text/plain": [
       "\">>>>>> iteration 6:O\""
      ]
     },
     "metadata": {},
     "output_type": "display_data"
    },
    {
     "data": {
      "text/plain": [
       "\"DB: opt gap = 1.0\""
      ]
     },
     "metadata": {},
     "output_type": "display_data"
    },
    {
     "data": {
      "text/plain": [
       "\">>>>>> iteration 7:O\""
      ]
     },
     "metadata": {},
     "output_type": "display_data"
    },
    {
     "data": {
      "text/plain": [
       "\"DB: opt gap = 1.0\""
      ]
     },
     "metadata": {},
     "output_type": "display_data"
    },
    {
     "data": {
      "text/plain": [
       "\">>>>>> iteration 8:O\""
      ]
     },
     "metadata": {},
     "output_type": "display_data"
    },
    {
     "data": {
      "text/plain": [
       "\"DB: opt gap = 1.0\""
      ]
     },
     "metadata": {},
     "output_type": "display_data"
    },
    {
     "data": {
      "text/plain": [
       "\">>>>>> iteration 9:O\""
      ]
     },
     "metadata": {},
     "output_type": "display_data"
    },
    {
     "data": {
      "text/plain": [
       "\"DB: opt gap = 1.0\""
      ]
     },
     "metadata": {},
     "output_type": "display_data"
    },
    {
     "data": {
      "text/plain": [
       "\">>>>>> iteration 10:O\""
      ]
     },
     "metadata": {},
     "output_type": "display_data"
    },
    {
     "data": {
      "text/plain": [
       "\"DB: opt gap = 1.0\""
      ]
     },
     "metadata": {},
     "output_type": "display_data"
    },
    {
     "data": {
      "text/plain": [
       "\">>>>>> iteration 11:O\""
      ]
     },
     "metadata": {},
     "output_type": "display_data"
    },
    {
     "data": {
      "text/plain": [
       "\"DB: opt gap = 0.16010951290078795\""
      ]
     },
     "metadata": {},
     "output_type": "display_data"
    },
    {
     "data": {
      "text/plain": [
       "\">>>>>> iteration 12:O\""
      ]
     },
     "metadata": {},
     "output_type": "display_data"
    },
    {
     "data": {
      "text/plain": [
       "\"DB: opt gap = 0.1599496134824667\""
      ]
     },
     "metadata": {},
     "output_type": "display_data"
    },
    {
     "data": {
      "text/plain": [
       "\">>>>>> iteration 13:O\""
      ]
     },
     "metadata": {},
     "output_type": "display_data"
    },
    {
     "data": {
      "text/plain": [
       "\"DB: opt gap = 0.15957625382174798\""
      ]
     },
     "metadata": {},
     "output_type": "display_data"
    },
    {
     "data": {
      "text/plain": [
       "\">>>>>> iteration 14:O\""
      ]
     },
     "metadata": {},
     "output_type": "display_data"
    },
    {
     "data": {
      "text/plain": [
       "\"DB: opt gap = 0.15940306978497906\""
      ]
     },
     "metadata": {},
     "output_type": "display_data"
    },
    {
     "data": {
      "text/plain": [
       "\">>>>>> iteration 15:O\""
      ]
     },
     "metadata": {},
     "output_type": "display_data"
    },
    {
     "data": {
      "text/plain": [
       "\">>>>>> iteration 16:F\""
      ]
     },
     "metadata": {},
     "output_type": "display_data"
    },
    {
     "data": {
      "text/plain": [
       "\"DB: opt gap = 0.15911881340451958\""
      ]
     },
     "metadata": {},
     "output_type": "display_data"
    },
    {
     "data": {
      "text/plain": [
       "\">>>>>> iteration 17:O\""
      ]
     },
     "metadata": {},
     "output_type": "display_data"
    },
    {
     "data": {
      "text/plain": [
       "\"DB: opt gap = 0.15858993710352068\""
      ]
     },
     "metadata": {},
     "output_type": "display_data"
    },
    {
     "data": {
      "text/plain": [
       "\">>>>>> iteration 18:O\""
      ]
     },
     "metadata": {},
     "output_type": "display_data"
    },
    {
     "data": {
      "text/plain": [
       "\"DB: opt gap = 0.15838380795901885\""
      ]
     },
     "metadata": {},
     "output_type": "display_data"
    },
    {
     "data": {
      "text/plain": [
       "\">>>>>> iteration 19:O\""
      ]
     },
     "metadata": {},
     "output_type": "display_data"
    },
    {
     "data": {
      "text/plain": [
       "\"DB: opt gap = 0.15739734336250036\""
      ]
     },
     "metadata": {},
     "output_type": "display_data"
    },
    {
     "data": {
      "text/plain": [
       "\">>>>>> iteration 20:O\""
      ]
     },
     "metadata": {},
     "output_type": "display_data"
    },
    {
     "data": {
      "text/plain": [
       "\"DB: opt gap = 0.15720894485542194\""
      ]
     },
     "metadata": {},
     "output_type": "display_data"
    },
    {
     "data": {
      "text/plain": [
       "\">>>>>> iteration 21:O\""
      ]
     },
     "metadata": {},
     "output_type": "display_data"
    },
    {
     "data": {
      "text/plain": [
       "\"DB: opt gap = 4.914278647453897e-6\""
      ]
     },
     "metadata": {},
     "output_type": "display_data"
    },
    {
     "data": {
      "text/plain": [
       "\"time M 21.562999963760376 | time D 51.206000566482544\""
      ]
     },
     "metadata": {},
     "output_type": "display_data"
    },
    {
     "data": {
      "text/plain": [
       "\"evaluating 30 scenarios| option 3\""
      ]
     },
     "metadata": {},
     "output_type": "display_data"
    },
    {
     "data": {
      "text/plain": [
       "\"DB: opt gap = 1.0\""
      ]
     },
     "metadata": {},
     "output_type": "display_data"
    },
    {
     "data": {
      "text/plain": [
       "\">>>>>> iteration 1:O\""
      ]
     },
     "metadata": {},
     "output_type": "display_data"
    },
    {
     "data": {
      "text/plain": [
       "\"DB: opt gap = 1.0\""
      ]
     },
     "metadata": {},
     "output_type": "display_data"
    },
    {
     "data": {
      "text/plain": [
       "\">>>>>> iteration 2:O\""
      ]
     },
     "metadata": {},
     "output_type": "display_data"
    },
    {
     "data": {
      "text/plain": [
       "\"DB: opt gap = 1.0\""
      ]
     },
     "metadata": {},
     "output_type": "display_data"
    },
    {
     "data": {
      "text/plain": [
       "\">>>>>> iteration 3:O\""
      ]
     },
     "metadata": {},
     "output_type": "display_data"
    },
    {
     "data": {
      "text/plain": [
       "\"DB: opt gap = 1.0\""
      ]
     },
     "metadata": {},
     "output_type": "display_data"
    },
    {
     "data": {
      "text/plain": [
       "\">>>>>> iteration 4:O\""
      ]
     },
     "metadata": {},
     "output_type": "display_data"
    },
    {
     "data": {
      "text/plain": [
       "\"DB: opt gap = 1.0\""
      ]
     },
     "metadata": {},
     "output_type": "display_data"
    },
    {
     "data": {
      "text/plain": [
       "\">>>>>> iteration 5:O\""
      ]
     },
     "metadata": {},
     "output_type": "display_data"
    },
    {
     "data": {
      "text/plain": [
       "\"DB: opt gap = 1.0\""
      ]
     },
     "metadata": {},
     "output_type": "display_data"
    },
    {
     "data": {
      "text/plain": [
       "\">>>>>> iteration 6:O\""
      ]
     },
     "metadata": {},
     "output_type": "display_data"
    },
    {
     "data": {
      "text/plain": [
       "\"DB: opt gap = 1.0\""
      ]
     },
     "metadata": {},
     "output_type": "display_data"
    },
    {
     "data": {
      "text/plain": [
       "\">>>>>> iteration 7:O\""
      ]
     },
     "metadata": {},
     "output_type": "display_data"
    },
    {
     "data": {
      "text/plain": [
       "\"DB: opt gap = 1.0\""
      ]
     },
     "metadata": {},
     "output_type": "display_data"
    },
    {
     "data": {
      "text/plain": [
       "\">>>>>> iteration 8:O\""
      ]
     },
     "metadata": {},
     "output_type": "display_data"
    },
    {
     "data": {
      "text/plain": [
       "\"DB: opt gap = 1.0\""
      ]
     },
     "metadata": {},
     "output_type": "display_data"
    },
    {
     "data": {
      "text/plain": [
       "\">>>>>> iteration 9:O\""
      ]
     },
     "metadata": {},
     "output_type": "display_data"
    },
    {
     "data": {
      "text/plain": [
       "\"DB: opt gap = 1.0\""
      ]
     },
     "metadata": {},
     "output_type": "display_data"
    },
    {
     "data": {
      "text/plain": [
       "\">>>>>> iteration 10:O\""
      ]
     },
     "metadata": {},
     "output_type": "display_data"
    },
    {
     "data": {
      "text/plain": [
       "\"DB: opt gap = 0.13900598617405682\""
      ]
     },
     "metadata": {},
     "output_type": "display_data"
    },
    {
     "data": {
      "text/plain": [
       "\">>>>>> iteration 11:O\""
      ]
     },
     "metadata": {},
     "output_type": "display_data"
    },
    {
     "data": {
      "text/plain": [
       "\"DB: opt gap = 0.1388738384793269\""
      ]
     },
     "metadata": {},
     "output_type": "display_data"
    },
    {
     "data": {
      "text/plain": [
       "\">>>>>> iteration 12:O\""
      ]
     },
     "metadata": {},
     "output_type": "display_data"
    },
    {
     "data": {
      "text/plain": [
       "\"DB: opt gap = 0.1385669327323461\""
      ]
     },
     "metadata": {},
     "output_type": "display_data"
    },
    {
     "data": {
      "text/plain": [
       "\">>>>>> iteration 13:O\""
      ]
     },
     "metadata": {},
     "output_type": "display_data"
    },
    {
     "data": {
      "text/plain": [
       "\"DB: opt gap = 0.13843903289371676\""
      ]
     },
     "metadata": {},
     "output_type": "display_data"
    },
    {
     "data": {
      "text/plain": [
       "\">>>>>> iteration 14:O\""
      ]
     },
     "metadata": {},
     "output_type": "display_data"
    },
    {
     "data": {
      "text/plain": [
       "\"DB: opt gap = 0.13820317922571926\""
      ]
     },
     "metadata": {},
     "output_type": "display_data"
    },
    {
     "data": {
      "text/plain": [
       "\">>>>>> iteration 15:O\""
      ]
     },
     "metadata": {},
     "output_type": "display_data"
    },
    {
     "data": {
      "text/plain": [
       "\"DB: opt gap = 0.13807008886392796\""
      ]
     },
     "metadata": {},
     "output_type": "display_data"
    },
    {
     "data": {
      "text/plain": [
       "\">>>>>> iteration 16:O\""
      ]
     },
     "metadata": {},
     "output_type": "display_data"
    },
    {
     "data": {
      "text/plain": [
       "\">>>>>> iteration 17:F\""
      ]
     },
     "metadata": {},
     "output_type": "display_data"
    },
    {
     "data": {
      "text/plain": [
       "\"DB: opt gap = 0.13782098959499473\""
      ]
     },
     "metadata": {},
     "output_type": "display_data"
    },
    {
     "data": {
      "text/plain": [
       "\">>>>>> iteration 18:O\""
      ]
     },
     "metadata": {},
     "output_type": "display_data"
    },
    {
     "data": {
      "text/plain": [
       "\"DB: opt gap = 0.13736457269587624\""
      ]
     },
     "metadata": {},
     "output_type": "display_data"
    },
    {
     "data": {
      "text/plain": [
       "\">>>>>> iteration 19:O\""
      ]
     },
     "metadata": {},
     "output_type": "display_data"
    },
    {
     "data": {
      "text/plain": [
       "\"DB: opt gap = 0.13728525140467007\""
      ]
     },
     "metadata": {},
     "output_type": "display_data"
    },
    {
     "data": {
      "text/plain": [
       "\">>>>>> iteration 20:O\""
      ]
     },
     "metadata": {},
     "output_type": "display_data"
    },
    {
     "data": {
      "text/plain": [
       "\"DB: opt gap = 0.13694697193862826\""
      ]
     },
     "metadata": {},
     "output_type": "display_data"
    },
    {
     "data": {
      "text/plain": [
       "\">>>>>> iteration 21:O\""
      ]
     },
     "metadata": {},
     "output_type": "display_data"
    },
    {
     "data": {
      "text/plain": [
       "\"DB: opt gap = 0.13681533606972127\""
      ]
     },
     "metadata": {},
     "output_type": "display_data"
    },
    {
     "data": {
      "text/plain": [
       "\">>>>>> iteration 22:O\""
      ]
     },
     "metadata": {},
     "output_type": "display_data"
    },
    {
     "data": {
      "text/plain": [
       "\"DB: opt gap = 0.13648786567568025\""
      ]
     },
     "metadata": {},
     "output_type": "display_data"
    },
    {
     "data": {
      "text/plain": [
       "\">>>>>> iteration 23:O\""
      ]
     },
     "metadata": {},
     "output_type": "display_data"
    },
    {
     "data": {
      "text/plain": [
       "\"DB: opt gap = 0.13634261521004115\""
      ]
     },
     "metadata": {},
     "output_type": "display_data"
    },
    {
     "data": {
      "text/plain": [
       "\">>>>>> iteration 24:O\""
      ]
     },
     "metadata": {},
     "output_type": "display_data"
    },
    {
     "data": {
      "text/plain": [
       "\"DB: opt gap = 5.552726324056003e-6\""
      ]
     },
     "metadata": {},
     "output_type": "display_data"
    },
    {
     "data": {
      "text/plain": [
       "\"time M 25.748000144958496 | time D 62.00700044631958\""
      ]
     },
     "metadata": {},
     "output_type": "display_data"
    },
    {
     "data": {
      "text/plain": [
       "\"evaluating 31 scenarios| option 3\""
      ]
     },
     "metadata": {},
     "output_type": "display_data"
    },
    {
     "data": {
      "text/plain": [
       "\"DB: opt gap = 1.0\""
      ]
     },
     "metadata": {},
     "output_type": "display_data"
    },
    {
     "data": {
      "text/plain": [
       "\">>>>>> iteration 1:O\""
      ]
     },
     "metadata": {},
     "output_type": "display_data"
    },
    {
     "data": {
      "text/plain": [
       "\"DB: opt gap = 1.0\""
      ]
     },
     "metadata": {},
     "output_type": "display_data"
    },
    {
     "data": {
      "text/plain": [
       "\">>>>>> iteration 2:O\""
      ]
     },
     "metadata": {},
     "output_type": "display_data"
    },
    {
     "data": {
      "text/plain": [
       "\"DB: opt gap = 1.0\""
      ]
     },
     "metadata": {},
     "output_type": "display_data"
    },
    {
     "data": {
      "text/plain": [
       "\">>>>>> iteration 3:O\""
      ]
     },
     "metadata": {},
     "output_type": "display_data"
    },
    {
     "data": {
      "text/plain": [
       "\"DB: opt gap = 1.0\""
      ]
     },
     "metadata": {},
     "output_type": "display_data"
    },
    {
     "data": {
      "text/plain": [
       "\">>>>>> iteration 4:O\""
      ]
     },
     "metadata": {},
     "output_type": "display_data"
    },
    {
     "data": {
      "text/plain": [
       "\"DB: opt gap = 1.0\""
      ]
     },
     "metadata": {},
     "output_type": "display_data"
    },
    {
     "data": {
      "text/plain": [
       "\">>>>>> iteration 5:O\""
      ]
     },
     "metadata": {},
     "output_type": "display_data"
    },
    {
     "data": {
      "text/plain": [
       "\">>>>>> iteration 6:F\""
      ]
     },
     "metadata": {},
     "output_type": "display_data"
    },
    {
     "data": {
      "text/plain": [
       "\"DB: opt gap = 1.0\""
      ]
     },
     "metadata": {},
     "output_type": "display_data"
    },
    {
     "data": {
      "text/plain": [
       "\">>>>>> iteration 7:O\""
      ]
     },
     "metadata": {},
     "output_type": "display_data"
    },
    {
     "data": {
      "text/plain": [
       "\"DB: opt gap = 0.9999999999768181\""
      ]
     },
     "metadata": {},
     "output_type": "display_data"
    },
    {
     "data": {
      "text/plain": [
       "\">>>>>> iteration 8:O\""
      ]
     },
     "metadata": {},
     "output_type": "display_data"
    },
    {
     "data": {
      "text/plain": [
       "\"DB: opt gap = 0.0372712648378032\""
      ]
     },
     "metadata": {},
     "output_type": "display_data"
    },
    {
     "data": {
      "text/plain": [
       "\">>>>>> iteration 9:O\""
      ]
     },
     "metadata": {},
     "output_type": "display_data"
    },
    {
     "data": {
      "text/plain": [
       "\"DB: opt gap = 0.03723500392713254\""
      ]
     },
     "metadata": {},
     "output_type": "display_data"
    },
    {
     "data": {
      "text/plain": [
       "\">>>>>> iteration 10:O\""
      ]
     },
     "metadata": {},
     "output_type": "display_data"
    },
    {
     "data": {
      "text/plain": [
       "\"DB: opt gap = 0.037218571251915786\""
      ]
     },
     "metadata": {},
     "output_type": "display_data"
    },
    {
     "data": {
      "text/plain": [
       "\">>>>>> iteration 11:O\""
      ]
     },
     "metadata": {},
     "output_type": "display_data"
    },
    {
     "data": {
      "text/plain": [
       "\"DB: opt gap = 0.037183323595977175\""
      ]
     },
     "metadata": {},
     "output_type": "display_data"
    },
    {
     "data": {
      "text/plain": [
       "\">>>>>> iteration 12:O\""
      ]
     },
     "metadata": {},
     "output_type": "display_data"
    },
    {
     "data": {
      "text/plain": [
       "\"DB: opt gap = 0.03716412080818931\""
      ]
     },
     "metadata": {},
     "output_type": "display_data"
    },
    {
     "data": {
      "text/plain": [
       "\">>>>>> iteration 13:O\""
      ]
     },
     "metadata": {},
     "output_type": "display_data"
    },
    {
     "data": {
      "text/plain": [
       "\"DB: opt gap = 0.03712915468806644\""
      ]
     },
     "metadata": {},
     "output_type": "display_data"
    },
    {
     "data": {
      "text/plain": [
       "\">>>>>> iteration 14:O\""
      ]
     },
     "metadata": {},
     "output_type": "display_data"
    },
    {
     "data": {
      "text/plain": [
       "\"DB: opt gap = 0.03677456822779562\""
      ]
     },
     "metadata": {},
     "output_type": "display_data"
    },
    {
     "data": {
      "text/plain": [
       "\">>>>>> iteration 15:O\""
      ]
     },
     "metadata": {},
     "output_type": "display_data"
    },
    {
     "data": {
      "text/plain": [
       "\"DB: opt gap = 0.03668422895997154\""
      ]
     },
     "metadata": {},
     "output_type": "display_data"
    },
    {
     "data": {
      "text/plain": [
       "\">>>>>> iteration 16:O\""
      ]
     },
     "metadata": {},
     "output_type": "display_data"
    },
    {
     "data": {
      "text/plain": [
       "\"DB: opt gap = 8.745321841085957e-7\""
      ]
     },
     "metadata": {},
     "output_type": "display_data"
    },
    {
     "data": {
      "text/plain": [
       "\"time M 22.685999870300293 | time D 43.298999547958374\""
      ]
     },
     "metadata": {},
     "output_type": "display_data"
    },
    {
     "data": {
      "text/plain": [
       "\"evaluating 32 scenarios| option 3\""
      ]
     },
     "metadata": {},
     "output_type": "display_data"
    },
    {
     "data": {
      "text/plain": [
       "\"DB: opt gap = 1.0\""
      ]
     },
     "metadata": {},
     "output_type": "display_data"
    },
    {
     "data": {
      "text/plain": [
       "\">>>>>> iteration 1:O\""
      ]
     },
     "metadata": {},
     "output_type": "display_data"
    },
    {
     "data": {
      "text/plain": [
       "\"DB: opt gap = 1.0\""
      ]
     },
     "metadata": {},
     "output_type": "display_data"
    },
    {
     "data": {
      "text/plain": [
       "\">>>>>> iteration 2:O\""
      ]
     },
     "metadata": {},
     "output_type": "display_data"
    },
    {
     "data": {
      "text/plain": [
       "\"DB: opt gap = 1.0\""
      ]
     },
     "metadata": {},
     "output_type": "display_data"
    },
    {
     "data": {
      "text/plain": [
       "\">>>>>> iteration 3:O\""
      ]
     },
     "metadata": {},
     "output_type": "display_data"
    },
    {
     "data": {
      "text/plain": [
       "\">>>>>> iteration 4:F\""
      ]
     },
     "metadata": {},
     "output_type": "display_data"
    },
    {
     "data": {
      "text/plain": [
       "\">>>>>> iteration 5:F\""
      ]
     },
     "metadata": {},
     "output_type": "display_data"
    },
    {
     "data": {
      "text/plain": [
       "\">>>>>> iteration 6:F\""
      ]
     },
     "metadata": {},
     "output_type": "display_data"
    },
    {
     "data": {
      "text/plain": [
       "\">>>>>> iteration 7:F\""
      ]
     },
     "metadata": {},
     "output_type": "display_data"
    },
    {
     "data": {
      "text/plain": [
       "\">>>>>> iteration 8:F\""
      ]
     },
     "metadata": {},
     "output_type": "display_data"
    },
    {
     "data": {
      "text/plain": [
       "\">>>>>> iteration 9:F\""
      ]
     },
     "metadata": {},
     "output_type": "display_data"
    },
    {
     "data": {
      "text/plain": [
       "\">>>>>> iteration 10:F\""
      ]
     },
     "metadata": {},
     "output_type": "display_data"
    },
    {
     "data": {
      "text/plain": [
       "\">>>>>> iteration 11:F\""
      ]
     },
     "metadata": {},
     "output_type": "display_data"
    },
    {
     "data": {
      "text/plain": [
       "\">>>>>> iteration 12:F\""
      ]
     },
     "metadata": {},
     "output_type": "display_data"
    },
    {
     "data": {
      "text/plain": [
       "\">>>>>> iteration 13:F\""
      ]
     },
     "metadata": {},
     "output_type": "display_data"
    },
    {
     "data": {
      "text/plain": [
       "\">>>>>> iteration 14:F\""
      ]
     },
     "metadata": {},
     "output_type": "display_data"
    },
    {
     "data": {
      "text/plain": [
       "\">>>>>> iteration 15:F\""
      ]
     },
     "metadata": {},
     "output_type": "display_data"
    },
    {
     "data": {
      "text/plain": [
       "\">>>>>> iteration 16:F\""
      ]
     },
     "metadata": {},
     "output_type": "display_data"
    },
    {
     "data": {
      "text/plain": [
       "\">>>>>> iteration 17:F\""
      ]
     },
     "metadata": {},
     "output_type": "display_data"
    },
    {
     "data": {
      "text/plain": [
       "\">>>>>> iteration 18:F\""
      ]
     },
     "metadata": {},
     "output_type": "display_data"
    },
    {
     "data": {
      "text/plain": [
       "\">>>>>> iteration 19:F\""
      ]
     },
     "metadata": {},
     "output_type": "display_data"
    },
    {
     "data": {
      "text/plain": [
       "\">>>>>> iteration 20:F\""
      ]
     },
     "metadata": {},
     "output_type": "display_data"
    },
    {
     "data": {
      "text/plain": [
       "\">>>>>> iteration 21:F\""
      ]
     },
     "metadata": {},
     "output_type": "display_data"
    },
    {
     "data": {
      "text/plain": [
       "\">>>>>> iteration 22:F\""
      ]
     },
     "metadata": {},
     "output_type": "display_data"
    },
    {
     "data": {
      "text/plain": [
       "\">>>>>> iteration 23:F\""
      ]
     },
     "metadata": {},
     "output_type": "display_data"
    },
    {
     "data": {
      "text/plain": [
       "\">>>>>> iteration 24:F\""
      ]
     },
     "metadata": {},
     "output_type": "display_data"
    },
    {
     "data": {
      "text/plain": [
       "\">>>>>> iteration 25:F\""
      ]
     },
     "metadata": {},
     "output_type": "display_data"
    },
    {
     "data": {
      "text/plain": [
       "\">>>>>> iteration 26:F\""
      ]
     },
     "metadata": {},
     "output_type": "display_data"
    },
    {
     "data": {
      "text/plain": [
       "\">>>>>> iteration 27:F\""
      ]
     },
     "metadata": {},
     "output_type": "display_data"
    },
    {
     "data": {
      "text/plain": [
       "\">>>>>> iteration 28:F\""
      ]
     },
     "metadata": {},
     "output_type": "display_data"
    },
    {
     "data": {
      "text/plain": [
       "\">>>>>> iteration 29:F\""
      ]
     },
     "metadata": {},
     "output_type": "display_data"
    },
    {
     "data": {
      "text/plain": [
       "\">>>>>> iteration 30:F\""
      ]
     },
     "metadata": {},
     "output_type": "display_data"
    },
    {
     "data": {
      "text/plain": [
       "\">>>>>> iteration 31:F\""
      ]
     },
     "metadata": {},
     "output_type": "display_data"
    },
    {
     "data": {
      "text/plain": [
       "\">>>>>> iteration 32:F\""
      ]
     },
     "metadata": {},
     "output_type": "display_data"
    },
    {
     "data": {
      "text/plain": [
       "\">>>>>> iteration 33:F\""
      ]
     },
     "metadata": {},
     "output_type": "display_data"
    },
    {
     "data": {
      "text/plain": [
       "\">>>>>> iteration 34:F\""
      ]
     },
     "metadata": {},
     "output_type": "display_data"
    },
    {
     "data": {
      "text/plain": [
       "\">>>>>> iteration 35:F\""
      ]
     },
     "metadata": {},
     "output_type": "display_data"
    },
    {
     "data": {
      "text/plain": [
       "\">>>>>> iteration 36:F\""
      ]
     },
     "metadata": {},
     "output_type": "display_data"
    },
    {
     "data": {
      "text/plain": [
       "\">>>>>> iteration 37:F\""
      ]
     },
     "metadata": {},
     "output_type": "display_data"
    },
    {
     "data": {
      "text/plain": [
       "\">>>>>> iteration 38:F\""
      ]
     },
     "metadata": {},
     "output_type": "display_data"
    },
    {
     "data": {
      "text/plain": [
       "\">>>>>> iteration 39:F\""
      ]
     },
     "metadata": {},
     "output_type": "display_data"
    },
    {
     "data": {
      "text/plain": [
       "\">>>>>> iteration 40:F\""
      ]
     },
     "metadata": {},
     "output_type": "display_data"
    },
    {
     "data": {
      "text/plain": [
       "\">>>>>> iteration 41:F\""
      ]
     },
     "metadata": {},
     "output_type": "display_data"
    },
    {
     "data": {
      "text/plain": [
       "\">>>>>> iteration 42:F\""
      ]
     },
     "metadata": {},
     "output_type": "display_data"
    },
    {
     "data": {
      "text/plain": [
       "\">>>>>> iteration 43:F\""
      ]
     },
     "metadata": {},
     "output_type": "display_data"
    },
    {
     "data": {
      "text/plain": [
       "\">>>>>> iteration 44:F\""
      ]
     },
     "metadata": {},
     "output_type": "display_data"
    },
    {
     "data": {
      "text/plain": [
       "\">>>>>> iteration 45:F\""
      ]
     },
     "metadata": {},
     "output_type": "display_data"
    },
    {
     "data": {
      "text/plain": [
       "\">>>>>> iteration 46:F\""
      ]
     },
     "metadata": {},
     "output_type": "display_data"
    },
    {
     "data": {
      "text/plain": [
       "\">>>>>> iteration 47:F\""
      ]
     },
     "metadata": {},
     "output_type": "display_data"
    },
    {
     "data": {
      "text/plain": [
       "\">>>>>> iteration 48:F\""
      ]
     },
     "metadata": {},
     "output_type": "display_data"
    },
    {
     "data": {
      "text/plain": [
       "\">>>>>> iteration 49:F\""
      ]
     },
     "metadata": {},
     "output_type": "display_data"
    },
    {
     "data": {
      "text/plain": [
       "\">>>>>> iteration 50:F\""
      ]
     },
     "metadata": {},
     "output_type": "display_data"
    },
    {
     "data": {
      "text/plain": [
       "\"time M 23.723999977111816 | time D 8.404998779296875\""
      ]
     },
     "metadata": {},
     "output_type": "display_data"
    },
    {
     "data": {
      "text/plain": [
       "\"evaluating 33 scenarios| option 3\""
      ]
     },
     "metadata": {},
     "output_type": "display_data"
    },
    {
     "data": {
      "text/plain": [
       "\"DB: opt gap = 1.0\""
      ]
     },
     "metadata": {},
     "output_type": "display_data"
    },
    {
     "data": {
      "text/plain": [
       "\">>>>>> iteration 1:O\""
      ]
     },
     "metadata": {},
     "output_type": "display_data"
    },
    {
     "data": {
      "text/plain": [
       "\"DB: opt gap = 1.0\""
      ]
     },
     "metadata": {},
     "output_type": "display_data"
    },
    {
     "data": {
      "text/plain": [
       "\">>>>>> iteration 2:O\""
      ]
     },
     "metadata": {},
     "output_type": "display_data"
    },
    {
     "data": {
      "text/plain": [
       "\"DB: opt gap = 1.0\""
      ]
     },
     "metadata": {},
     "output_type": "display_data"
    },
    {
     "data": {
      "text/plain": [
       "\">>>>>> iteration 3:O\""
      ]
     },
     "metadata": {},
     "output_type": "display_data"
    },
    {
     "data": {
      "text/plain": [
       "\"DB: opt gap = 1.0\""
      ]
     },
     "metadata": {},
     "output_type": "display_data"
    },
    {
     "data": {
      "text/plain": [
       "\">>>>>> iteration 4:O\""
      ]
     },
     "metadata": {},
     "output_type": "display_data"
    },
    {
     "data": {
      "text/plain": [
       "\"DB: opt gap = 1.0\""
      ]
     },
     "metadata": {},
     "output_type": "display_data"
    },
    {
     "data": {
      "text/plain": [
       "\">>>>>> iteration 5:O\""
      ]
     },
     "metadata": {},
     "output_type": "display_data"
    },
    {
     "data": {
      "text/plain": [
       "\"DB: opt gap = 1.0\""
      ]
     },
     "metadata": {},
     "output_type": "display_data"
    },
    {
     "data": {
      "text/plain": [
       "\">>>>>> iteration 6:O\""
      ]
     },
     "metadata": {},
     "output_type": "display_data"
    },
    {
     "data": {
      "text/plain": [
       "\"DB: opt gap = 1.0\""
      ]
     },
     "metadata": {},
     "output_type": "display_data"
    },
    {
     "data": {
      "text/plain": [
       "\">>>>>> iteration 7:O\""
      ]
     },
     "metadata": {},
     "output_type": "display_data"
    },
    {
     "data": {
      "text/plain": [
       "\"DB: opt gap = 1.0\""
      ]
     },
     "metadata": {},
     "output_type": "display_data"
    },
    {
     "data": {
      "text/plain": [
       "\">>>>>> iteration 8:O\""
      ]
     },
     "metadata": {},
     "output_type": "display_data"
    },
    {
     "data": {
      "text/plain": [
       "\"DB: opt gap = 1.0\""
      ]
     },
     "metadata": {},
     "output_type": "display_data"
    },
    {
     "data": {
      "text/plain": [
       "\">>>>>> iteration 9:O\""
      ]
     },
     "metadata": {},
     "output_type": "display_data"
    },
    {
     "data": {
      "text/plain": [
       "\"DB: opt gap = 0.15070628797567046\""
      ]
     },
     "metadata": {},
     "output_type": "display_data"
    },
    {
     "data": {
      "text/plain": [
       "\">>>>>> iteration 10:O\""
      ]
     },
     "metadata": {},
     "output_type": "display_data"
    },
    {
     "data": {
      "text/plain": [
       "\"DB: opt gap = 0.15055647922278825\""
      ]
     },
     "metadata": {},
     "output_type": "display_data"
    },
    {
     "data": {
      "text/plain": [
       "\">>>>>> iteration 11:O\""
      ]
     },
     "metadata": {},
     "output_type": "display_data"
    },
    {
     "data": {
      "text/plain": [
       "\"DB: opt gap = 0.15023545907654903\""
      ]
     },
     "metadata": {},
     "output_type": "display_data"
    },
    {
     "data": {
      "text/plain": [
       "\">>>>>> iteration 12:O\""
      ]
     },
     "metadata": {},
     "output_type": "display_data"
    },
    {
     "data": {
      "text/plain": [
       "\"DB: opt gap = 0.14984768518735553\""
      ]
     },
     "metadata": {},
     "output_type": "display_data"
    },
    {
     "data": {
      "text/plain": [
       "\">>>>>> iteration 13:O\""
      ]
     },
     "metadata": {},
     "output_type": "display_data"
    },
    {
     "data": {
      "text/plain": [
       "\"DB: opt gap = 0.1494765205439167\""
      ]
     },
     "metadata": {},
     "output_type": "display_data"
    },
    {
     "data": {
      "text/plain": [
       "\">>>>>> iteration 14:O\""
      ]
     },
     "metadata": {},
     "output_type": "display_data"
    },
    {
     "data": {
      "text/plain": [
       "\">>>>>> iteration 15:F\""
      ]
     },
     "metadata": {},
     "output_type": "display_data"
    },
    {
     "data": {
      "text/plain": [
       "\"DB: opt gap = 7.044460472803719e-7\""
      ]
     },
     "metadata": {},
     "output_type": "display_data"
    },
    {
     "data": {
      "text/plain": [
       "\">>>>>> iteration 16:O\""
      ]
     },
     "metadata": {},
     "output_type": "display_data"
    },
    {
     "data": {
      "text/plain": [
       "\"DB: opt gap = 7.204327096715596e-7\""
      ]
     },
     "metadata": {},
     "output_type": "display_data"
    },
    {
     "data": {
      "text/plain": [
       "\"time M 29.105000019073486 | time D 46.72000074386597\""
      ]
     },
     "metadata": {},
     "output_type": "display_data"
    },
    {
     "data": {
      "text/plain": [
       "\"evaluating 34 scenarios| option 3\""
      ]
     },
     "metadata": {},
     "output_type": "display_data"
    },
    {
     "data": {
      "text/plain": [
       "\"DB: opt gap = 1.0\""
      ]
     },
     "metadata": {},
     "output_type": "display_data"
    },
    {
     "data": {
      "text/plain": [
       "\">>>>>> iteration 1:O\""
      ]
     },
     "metadata": {},
     "output_type": "display_data"
    },
    {
     "data": {
      "text/plain": [
       "\"DB: opt gap = 1.0\""
      ]
     },
     "metadata": {},
     "output_type": "display_data"
    },
    {
     "data": {
      "text/plain": [
       "\">>>>>> iteration 2:O\""
      ]
     },
     "metadata": {},
     "output_type": "display_data"
    },
    {
     "data": {
      "text/plain": [
       "\"DB: opt gap = 1.0\""
      ]
     },
     "metadata": {},
     "output_type": "display_data"
    },
    {
     "data": {
      "text/plain": [
       "\">>>>>> iteration 3:O\""
      ]
     },
     "metadata": {},
     "output_type": "display_data"
    },
    {
     "data": {
      "text/plain": [
       "\"DB: opt gap = 1.0\""
      ]
     },
     "metadata": {},
     "output_type": "display_data"
    },
    {
     "data": {
      "text/plain": [
       "\">>>>>> iteration 4:O\""
      ]
     },
     "metadata": {},
     "output_type": "display_data"
    },
    {
     "data": {
      "text/plain": [
       "\"DB: opt gap = 1.0\""
      ]
     },
     "metadata": {},
     "output_type": "display_data"
    },
    {
     "data": {
      "text/plain": [
       "\">>>>>> iteration 5:O\""
      ]
     },
     "metadata": {},
     "output_type": "display_data"
    },
    {
     "data": {
      "text/plain": [
       "\"DB: opt gap = 1.0\""
      ]
     },
     "metadata": {},
     "output_type": "display_data"
    },
    {
     "data": {
      "text/plain": [
       "\">>>>>> iteration 6:O\""
      ]
     },
     "metadata": {},
     "output_type": "display_data"
    },
    {
     "data": {
      "text/plain": [
       "\"DB: opt gap = 1.0\""
      ]
     },
     "metadata": {},
     "output_type": "display_data"
    },
    {
     "data": {
      "text/plain": [
       "\">>>>>> iteration 7:O\""
      ]
     },
     "metadata": {},
     "output_type": "display_data"
    },
    {
     "data": {
      "text/plain": [
       "\"DB: opt gap = 1.0\""
      ]
     },
     "metadata": {},
     "output_type": "display_data"
    },
    {
     "data": {
      "text/plain": [
       "\">>>>>> iteration 8:O\""
      ]
     },
     "metadata": {},
     "output_type": "display_data"
    },
    {
     "data": {
      "text/plain": [
       "\"DB: opt gap = 1.0\""
      ]
     },
     "metadata": {},
     "output_type": "display_data"
    },
    {
     "data": {
      "text/plain": [
       "\">>>>>> iteration 9:O\""
      ]
     },
     "metadata": {},
     "output_type": "display_data"
    },
    {
     "data": {
      "text/plain": [
       "\">>>>>> iteration 10:F\""
      ]
     },
     "metadata": {},
     "output_type": "display_data"
    },
    {
     "data": {
      "text/plain": [
       "\">>>>>> iteration 11:F\""
      ]
     },
     "metadata": {},
     "output_type": "display_data"
    },
    {
     "data": {
      "text/plain": [
       "\">>>>>> iteration 12:F\""
      ]
     },
     "metadata": {},
     "output_type": "display_data"
    },
    {
     "data": {
      "text/plain": [
       "\">>>>>> iteration 13:F\""
      ]
     },
     "metadata": {},
     "output_type": "display_data"
    },
    {
     "data": {
      "text/plain": [
       "\">>>>>> iteration 14:F\""
      ]
     },
     "metadata": {},
     "output_type": "display_data"
    },
    {
     "data": {
      "text/plain": [
       "\">>>>>> iteration 15:F\""
      ]
     },
     "metadata": {},
     "output_type": "display_data"
    },
    {
     "data": {
      "text/plain": [
       "\">>>>>> iteration 16:F\""
      ]
     },
     "metadata": {},
     "output_type": "display_data"
    },
    {
     "data": {
      "text/plain": [
       "\">>>>>> iteration 17:F\""
      ]
     },
     "metadata": {},
     "output_type": "display_data"
    },
    {
     "data": {
      "text/plain": [
       "\">>>>>> iteration 18:F\""
      ]
     },
     "metadata": {},
     "output_type": "display_data"
    },
    {
     "data": {
      "text/plain": [
       "\">>>>>> iteration 19:F\""
      ]
     },
     "metadata": {},
     "output_type": "display_data"
    },
    {
     "data": {
      "text/plain": [
       "\">>>>>> iteration 20:F\""
      ]
     },
     "metadata": {},
     "output_type": "display_data"
    },
    {
     "data": {
      "text/plain": [
       "\">>>>>> iteration 21:F\""
      ]
     },
     "metadata": {},
     "output_type": "display_data"
    },
    {
     "data": {
      "text/plain": [
       "\">>>>>> iteration 22:F\""
      ]
     },
     "metadata": {},
     "output_type": "display_data"
    },
    {
     "data": {
      "text/plain": [
       "\">>>>>> iteration 23:F\""
      ]
     },
     "metadata": {},
     "output_type": "display_data"
    },
    {
     "data": {
      "text/plain": [
       "\">>>>>> iteration 24:F\""
      ]
     },
     "metadata": {},
     "output_type": "display_data"
    },
    {
     "data": {
      "text/plain": [
       "\">>>>>> iteration 25:F\""
      ]
     },
     "metadata": {},
     "output_type": "display_data"
    },
    {
     "data": {
      "text/plain": [
       "\">>>>>> iteration 26:F\""
      ]
     },
     "metadata": {},
     "output_type": "display_data"
    },
    {
     "data": {
      "text/plain": [
       "\">>>>>> iteration 27:F\""
      ]
     },
     "metadata": {},
     "output_type": "display_data"
    },
    {
     "data": {
      "text/plain": [
       "\">>>>>> iteration 28:F\""
      ]
     },
     "metadata": {},
     "output_type": "display_data"
    },
    {
     "data": {
      "text/plain": [
       "\">>>>>> iteration 29:F\""
      ]
     },
     "metadata": {},
     "output_type": "display_data"
    },
    {
     "data": {
      "text/plain": [
       "\">>>>>> iteration 30:F\""
      ]
     },
     "metadata": {},
     "output_type": "display_data"
    },
    {
     "data": {
      "text/plain": [
       "\">>>>>> iteration 31:F\""
      ]
     },
     "metadata": {},
     "output_type": "display_data"
    },
    {
     "data": {
      "text/plain": [
       "\">>>>>> iteration 32:F\""
      ]
     },
     "metadata": {},
     "output_type": "display_data"
    },
    {
     "data": {
      "text/plain": [
       "\">>>>>> iteration 33:F\""
      ]
     },
     "metadata": {},
     "output_type": "display_data"
    },
    {
     "data": {
      "text/plain": [
       "\">>>>>> iteration 34:F\""
      ]
     },
     "metadata": {},
     "output_type": "display_data"
    },
    {
     "data": {
      "text/plain": [
       "\">>>>>> iteration 35:F\""
      ]
     },
     "metadata": {},
     "output_type": "display_data"
    },
    {
     "data": {
      "text/plain": [
       "\">>>>>> iteration 36:F\""
      ]
     },
     "metadata": {},
     "output_type": "display_data"
    },
    {
     "data": {
      "text/plain": [
       "\">>>>>> iteration 37:F\""
      ]
     },
     "metadata": {},
     "output_type": "display_data"
    },
    {
     "data": {
      "text/plain": [
       "\">>>>>> iteration 38:F\""
      ]
     },
     "metadata": {},
     "output_type": "display_data"
    },
    {
     "data": {
      "text/plain": [
       "\">>>>>> iteration 39:F\""
      ]
     },
     "metadata": {},
     "output_type": "display_data"
    },
    {
     "data": {
      "text/plain": [
       "\">>>>>> iteration 40:F\""
      ]
     },
     "metadata": {},
     "output_type": "display_data"
    },
    {
     "data": {
      "text/plain": [
       "\">>>>>> iteration 41:F\""
      ]
     },
     "metadata": {},
     "output_type": "display_data"
    },
    {
     "data": {
      "text/plain": [
       "\">>>>>> iteration 42:F\""
      ]
     },
     "metadata": {},
     "output_type": "display_data"
    },
    {
     "data": {
      "text/plain": [
       "\">>>>>> iteration 43:F\""
      ]
     },
     "metadata": {},
     "output_type": "display_data"
    },
    {
     "data": {
      "text/plain": [
       "\">>>>>> iteration 44:F\""
      ]
     },
     "metadata": {},
     "output_type": "display_data"
    },
    {
     "data": {
      "text/plain": [
       "\">>>>>> iteration 45:F\""
      ]
     },
     "metadata": {},
     "output_type": "display_data"
    },
    {
     "data": {
      "text/plain": [
       "\">>>>>> iteration 46:F\""
      ]
     },
     "metadata": {},
     "output_type": "display_data"
    },
    {
     "data": {
      "text/plain": [
       "\">>>>>> iteration 47:F\""
      ]
     },
     "metadata": {},
     "output_type": "display_data"
    },
    {
     "data": {
      "text/plain": [
       "\">>>>>> iteration 48:F\""
      ]
     },
     "metadata": {},
     "output_type": "display_data"
    },
    {
     "data": {
      "text/plain": [
       "\">>>>>> iteration 49:F\""
      ]
     },
     "metadata": {},
     "output_type": "display_data"
    },
    {
     "data": {
      "text/plain": [
       "\">>>>>> iteration 50:F\""
      ]
     },
     "metadata": {},
     "output_type": "display_data"
    },
    {
     "data": {
      "text/plain": [
       "\"time M 26.277999877929688 | time D 26.434998989105225\""
      ]
     },
     "metadata": {},
     "output_type": "display_data"
    },
    {
     "data": {
      "text/plain": [
       "\"evaluating 35 scenarios| option 3\""
      ]
     },
     "metadata": {},
     "output_type": "display_data"
    },
    {
     "data": {
      "text/plain": [
       "\"DB: opt gap = 1.0\""
      ]
     },
     "metadata": {},
     "output_type": "display_data"
    },
    {
     "data": {
      "text/plain": [
       "\">>>>>> iteration 1:O\""
      ]
     },
     "metadata": {},
     "output_type": "display_data"
    },
    {
     "data": {
      "text/plain": [
       "\"DB: opt gap = 1.0\""
      ]
     },
     "metadata": {},
     "output_type": "display_data"
    },
    {
     "data": {
      "text/plain": [
       "\">>>>>> iteration 2:O\""
      ]
     },
     "metadata": {},
     "output_type": "display_data"
    },
    {
     "data": {
      "text/plain": [
       "\"DB: opt gap = 1.0\""
      ]
     },
     "metadata": {},
     "output_type": "display_data"
    },
    {
     "data": {
      "text/plain": [
       "\">>>>>> iteration 3:O\""
      ]
     },
     "metadata": {},
     "output_type": "display_data"
    },
    {
     "data": {
      "text/plain": [
       "\"DB: opt gap = 1.0\""
      ]
     },
     "metadata": {},
     "output_type": "display_data"
    },
    {
     "data": {
      "text/plain": [
       "\">>>>>> iteration 4:O\""
      ]
     },
     "metadata": {},
     "output_type": "display_data"
    },
    {
     "data": {
      "text/plain": [
       "\"DB: opt gap = 1.0\""
      ]
     },
     "metadata": {},
     "output_type": "display_data"
    },
    {
     "data": {
      "text/plain": [
       "\">>>>>> iteration 5:O\""
      ]
     },
     "metadata": {},
     "output_type": "display_data"
    },
    {
     "data": {
      "text/plain": [
       "\"DB: opt gap = 1.0\""
      ]
     },
     "metadata": {},
     "output_type": "display_data"
    },
    {
     "data": {
      "text/plain": [
       "\">>>>>> iteration 6:O\""
      ]
     },
     "metadata": {},
     "output_type": "display_data"
    },
    {
     "data": {
      "text/plain": [
       "\"DB: opt gap = 1.0\""
      ]
     },
     "metadata": {},
     "output_type": "display_data"
    },
    {
     "data": {
      "text/plain": [
       "\">>>>>> iteration 7:O\""
      ]
     },
     "metadata": {},
     "output_type": "display_data"
    },
    {
     "data": {
      "text/plain": [
       "\"DB: opt gap = 1.0\""
      ]
     },
     "metadata": {},
     "output_type": "display_data"
    },
    {
     "data": {
      "text/plain": [
       "\">>>>>> iteration 8:O\""
      ]
     },
     "metadata": {},
     "output_type": "display_data"
    },
    {
     "data": {
      "text/plain": [
       "\"DB: opt gap = 1.0\""
      ]
     },
     "metadata": {},
     "output_type": "display_data"
    },
    {
     "data": {
      "text/plain": [
       "\">>>>>> iteration 9:O\""
      ]
     },
     "metadata": {},
     "output_type": "display_data"
    },
    {
     "data": {
      "text/plain": [
       "\"DB: opt gap = 0.15339816523677383\""
      ]
     },
     "metadata": {},
     "output_type": "display_data"
    },
    {
     "data": {
      "text/plain": [
       "\">>>>>> iteration 10:O\""
      ]
     },
     "metadata": {},
     "output_type": "display_data"
    },
    {
     "data": {
      "text/plain": [
       "\"DB: opt gap = 0.15326006834934175\""
      ]
     },
     "metadata": {},
     "output_type": "display_data"
    },
    {
     "data": {
      "text/plain": [
       "\">>>>>> iteration 11:O\""
      ]
     },
     "metadata": {},
     "output_type": "display_data"
    },
    {
     "data": {
      "text/plain": [
       "\"DB: opt gap = 0.15295012627083793\""
      ]
     },
     "metadata": {},
     "output_type": "display_data"
    },
    {
     "data": {
      "text/plain": [
       "\">>>>>> iteration 12:O\""
      ]
     },
     "metadata": {},
     "output_type": "display_data"
    },
    {
     "data": {
      "text/plain": [
       "\"DB: opt gap = 0.15281942870076937\""
      ]
     },
     "metadata": {},
     "output_type": "display_data"
    },
    {
     "data": {
      "text/plain": [
       "\">>>>>> iteration 13:O\""
      ]
     },
     "metadata": {},
     "output_type": "display_data"
    },
    {
     "data": {
      "text/plain": [
       "\"DB: opt gap = 0.15253126739288048\""
      ]
     },
     "metadata": {},
     "output_type": "display_data"
    },
    {
     "data": {
      "text/plain": [
       "\">>>>>> iteration 14:O\""
      ]
     },
     "metadata": {},
     "output_type": "display_data"
    },
    {
     "data": {
      "text/plain": [
       "\"DB: opt gap = 0.15239434194372165\""
      ]
     },
     "metadata": {},
     "output_type": "display_data"
    },
    {
     "data": {
      "text/plain": [
       "\">>>>>> iteration 15:O\""
      ]
     },
     "metadata": {},
     "output_type": "display_data"
    },
    {
     "data": {
      "text/plain": [
       "\"DB: opt gap = 0.15213631658865953\""
      ]
     },
     "metadata": {},
     "output_type": "display_data"
    },
    {
     "data": {
      "text/plain": [
       "\">>>>>> iteration 16:O\""
      ]
     },
     "metadata": {},
     "output_type": "display_data"
    },
    {
     "data": {
      "text/plain": [
       "\"DB: opt gap = 0.15209932470365709\""
      ]
     },
     "metadata": {},
     "output_type": "display_data"
    },
    {
     "data": {
      "text/plain": [
       "\">>>>>> iteration 17:O\""
      ]
     },
     "metadata": {},
     "output_type": "display_data"
    },
    {
     "data": {
      "text/plain": [
       "\"DB: opt gap = 0.15197444991072506\""
      ]
     },
     "metadata": {},
     "output_type": "display_data"
    },
    {
     "data": {
      "text/plain": [
       "\">>>>>> iteration 18:O\""
      ]
     },
     "metadata": {},
     "output_type": "display_data"
    },
    {
     "data": {
      "text/plain": [
       "\"DB: opt gap = 0.1519293257221504\""
      ]
     },
     "metadata": {},
     "output_type": "display_data"
    },
    {
     "data": {
      "text/plain": [
       "\">>>>>> iteration 19:O\""
      ]
     },
     "metadata": {},
     "output_type": "display_data"
    },
    {
     "data": {
      "text/plain": [
       "\"DB: opt gap = 2.186735598891542e-6\""
      ]
     },
     "metadata": {},
     "output_type": "display_data"
    },
    {
     "data": {
      "text/plain": [
       "\"time M 28.562999963760376 | time D 58.63899898529053\""
      ]
     },
     "metadata": {},
     "output_type": "display_data"
    },
    {
     "data": {
      "text/plain": [
       "\"evaluating 36 scenarios| option 3\""
      ]
     },
     "metadata": {},
     "output_type": "display_data"
    },
    {
     "data": {
      "text/plain": [
       "\"DB: opt gap = 1.0\""
      ]
     },
     "metadata": {},
     "output_type": "display_data"
    },
    {
     "data": {
      "text/plain": [
       "\">>>>>> iteration 1:O\""
      ]
     },
     "metadata": {},
     "output_type": "display_data"
    },
    {
     "data": {
      "text/plain": [
       "\"DB: opt gap = 1.0\""
      ]
     },
     "metadata": {},
     "output_type": "display_data"
    },
    {
     "data": {
      "text/plain": [
       "\">>>>>> iteration 2:O\""
      ]
     },
     "metadata": {},
     "output_type": "display_data"
    },
    {
     "data": {
      "text/plain": [
       "\"DB: opt gap = 1.0\""
      ]
     },
     "metadata": {},
     "output_type": "display_data"
    },
    {
     "data": {
      "text/plain": [
       "\">>>>>> iteration 3:O\""
      ]
     },
     "metadata": {},
     "output_type": "display_data"
    },
    {
     "data": {
      "text/plain": [
       "\"DB: opt gap = 1.0\""
      ]
     },
     "metadata": {},
     "output_type": "display_data"
    },
    {
     "data": {
      "text/plain": [
       "\">>>>>> iteration 4:O\""
      ]
     },
     "metadata": {},
     "output_type": "display_data"
    },
    {
     "data": {
      "text/plain": [
       "\"DB: opt gap = 1.0\""
      ]
     },
     "metadata": {},
     "output_type": "display_data"
    },
    {
     "data": {
      "text/plain": [
       "\">>>>>> iteration 5:O\""
      ]
     },
     "metadata": {},
     "output_type": "display_data"
    },
    {
     "data": {
      "text/plain": [
       "\"DB: opt gap = 1.0\""
      ]
     },
     "metadata": {},
     "output_type": "display_data"
    },
    {
     "data": {
      "text/plain": [
       "\">>>>>> iteration 6:O\""
      ]
     },
     "metadata": {},
     "output_type": "display_data"
    },
    {
     "data": {
      "text/plain": [
       "\"DB: opt gap = 1.0\""
      ]
     },
     "metadata": {},
     "output_type": "display_data"
    },
    {
     "data": {
      "text/plain": [
       "\">>>>>> iteration 7:O\""
      ]
     },
     "metadata": {},
     "output_type": "display_data"
    },
    {
     "data": {
      "text/plain": [
       "\"DB: opt gap = 1.0\""
      ]
     },
     "metadata": {},
     "output_type": "display_data"
    },
    {
     "data": {
      "text/plain": [
       "\">>>>>> iteration 8:O\""
      ]
     },
     "metadata": {},
     "output_type": "display_data"
    },
    {
     "data": {
      "text/plain": [
       "\"DB: opt gap = 1.0\""
      ]
     },
     "metadata": {},
     "output_type": "display_data"
    },
    {
     "data": {
      "text/plain": [
       "\">>>>>> iteration 9:O\""
      ]
     },
     "metadata": {},
     "output_type": "display_data"
    },
    {
     "data": {
      "text/plain": [
       "\"DB: opt gap = 1.0\""
      ]
     },
     "metadata": {},
     "output_type": "display_data"
    },
    {
     "data": {
      "text/plain": [
       "\">>>>>> iteration 10:O\""
      ]
     },
     "metadata": {},
     "output_type": "display_data"
    },
    {
     "data": {
      "text/plain": [
       "\"DB: opt gap = 0.16121627857542659\""
      ]
     },
     "metadata": {},
     "output_type": "display_data"
    },
    {
     "data": {
      "text/plain": [
       "\">>>>>> iteration 11:O\""
      ]
     },
     "metadata": {},
     "output_type": "display_data"
    },
    {
     "data": {
      "text/plain": [
       "\"DB: opt gap = 0.161069569489777\""
      ]
     },
     "metadata": {},
     "output_type": "display_data"
    },
    {
     "data": {
      "text/plain": [
       "\">>>>>> iteration 12:O\""
      ]
     },
     "metadata": {},
     "output_type": "display_data"
    },
    {
     "data": {
      "text/plain": [
       "\"DB: opt gap = 0.1607584626433578\""
      ]
     },
     "metadata": {},
     "output_type": "display_data"
    },
    {
     "data": {
      "text/plain": [
       "\">>>>>> iteration 13:O\""
      ]
     },
     "metadata": {},
     "output_type": "display_data"
    },
    {
     "data": {
      "text/plain": [
       "\"DB: opt gap = 0.16031177651374406\""
      ]
     },
     "metadata": {},
     "output_type": "display_data"
    },
    {
     "data": {
      "text/plain": [
       "\">>>>>> iteration 14:O\""
      ]
     },
     "metadata": {},
     "output_type": "display_data"
    },
    {
     "data": {
      "text/plain": [
       "\"DB: opt gap = 0.1601764253581366\""
      ]
     },
     "metadata": {},
     "output_type": "display_data"
    },
    {
     "data": {
      "text/plain": [
       "\">>>>>> iteration 15:O\""
      ]
     },
     "metadata": {},
     "output_type": "display_data"
    },
    {
     "data": {
      "text/plain": [
       "\"DB: opt gap = 0.15991490258243016\""
      ]
     },
     "metadata": {},
     "output_type": "display_data"
    },
    {
     "data": {
      "text/plain": [
       "\">>>>>> iteration 16:O\""
      ]
     },
     "metadata": {},
     "output_type": "display_data"
    },
    {
     "data": {
      "text/plain": [
       "\"DB: opt gap = 0.1597672497318897\""
      ]
     },
     "metadata": {},
     "output_type": "display_data"
    },
    {
     "data": {
      "text/plain": [
       "\">>>>>> iteration 17:O\""
      ]
     },
     "metadata": {},
     "output_type": "display_data"
    },
    {
     "data": {
      "text/plain": [
       "\"DB: opt gap = 0.1598407550772402\""
      ]
     },
     "metadata": {},
     "output_type": "display_data"
    },
    {
     "data": {
      "text/plain": [
       "\">>>>>> iteration 18:O\""
      ]
     },
     "metadata": {},
     "output_type": "display_data"
    },
    {
     "data": {
      "text/plain": [
       "\"DB: opt gap = 0.1347983753692819\""
      ]
     },
     "metadata": {},
     "output_type": "display_data"
    },
    {
     "data": {
      "text/plain": [
       "\">>>>>> iteration 19:O\""
      ]
     },
     "metadata": {},
     "output_type": "display_data"
    },
    {
     "data": {
      "text/plain": [
       "\"DB: opt gap = 0.13419920117825265\""
      ]
     },
     "metadata": {},
     "output_type": "display_data"
    },
    {
     "data": {
      "text/plain": [
       "\">>>>>> iteration 20:O\""
      ]
     },
     "metadata": {},
     "output_type": "display_data"
    },
    {
     "data": {
      "text/plain": [
       "\"DB: opt gap = 0.0005399770260678714\""
      ]
     },
     "metadata": {},
     "output_type": "display_data"
    },
    {
     "data": {
      "text/plain": [
       "\"time M 27.57100009918213 | time D 64.09200024604797\""
      ]
     },
     "metadata": {},
     "output_type": "display_data"
    },
    {
     "data": {
      "text/plain": [
       "\"evaluating 37 scenarios| option 3\""
      ]
     },
     "metadata": {},
     "output_type": "display_data"
    },
    {
     "data": {
      "text/plain": [
       "\"DB: opt gap = 1.0\""
      ]
     },
     "metadata": {},
     "output_type": "display_data"
    },
    {
     "data": {
      "text/plain": [
       "\">>>>>> iteration 1:O\""
      ]
     },
     "metadata": {},
     "output_type": "display_data"
    },
    {
     "data": {
      "text/plain": [
       "\"DB: opt gap = 1.0\""
      ]
     },
     "metadata": {},
     "output_type": "display_data"
    },
    {
     "data": {
      "text/plain": [
       "\">>>>>> iteration 2:O\""
      ]
     },
     "metadata": {},
     "output_type": "display_data"
    },
    {
     "data": {
      "text/plain": [
       "\"DB: opt gap = 1.0\""
      ]
     },
     "metadata": {},
     "output_type": "display_data"
    },
    {
     "data": {
      "text/plain": [
       "\">>>>>> iteration 3:O\""
      ]
     },
     "metadata": {},
     "output_type": "display_data"
    },
    {
     "data": {
      "text/plain": [
       "\"DB: opt gap = 1.0\""
      ]
     },
     "metadata": {},
     "output_type": "display_data"
    },
    {
     "data": {
      "text/plain": [
       "\">>>>>> iteration 4:O\""
      ]
     },
     "metadata": {},
     "output_type": "display_data"
    },
    {
     "data": {
      "text/plain": [
       "\"DB: opt gap = 1.0\""
      ]
     },
     "metadata": {},
     "output_type": "display_data"
    },
    {
     "data": {
      "text/plain": [
       "\">>>>>> iteration 5:O\""
      ]
     },
     "metadata": {},
     "output_type": "display_data"
    },
    {
     "data": {
      "text/plain": [
       "\"DB: opt gap = 1.0\""
      ]
     },
     "metadata": {},
     "output_type": "display_data"
    },
    {
     "data": {
      "text/plain": [
       "\">>>>>> iteration 6:O\""
      ]
     },
     "metadata": {},
     "output_type": "display_data"
    },
    {
     "data": {
      "text/plain": [
       "\"DB: opt gap = 0.17500276977776083\""
      ]
     },
     "metadata": {},
     "output_type": "display_data"
    },
    {
     "data": {
      "text/plain": [
       "\">>>>>> iteration 7:O\""
      ]
     },
     "metadata": {},
     "output_type": "display_data"
    },
    {
     "data": {
      "text/plain": [
       "\"DB: opt gap = 0.1748446466384303\""
      ]
     },
     "metadata": {},
     "output_type": "display_data"
    },
    {
     "data": {
      "text/plain": [
       "\">>>>>> iteration 8:O\""
      ]
     },
     "metadata": {},
     "output_type": "display_data"
    },
    {
     "data": {
      "text/plain": [
       "\"DB: opt gap = 0.1744362730682487\""
      ]
     },
     "metadata": {},
     "output_type": "display_data"
    },
    {
     "data": {
      "text/plain": [
       "\">>>>>> iteration 9:O\""
      ]
     },
     "metadata": {},
     "output_type": "display_data"
    },
    {
     "data": {
      "text/plain": [
       "\"DB: opt gap = 0.1742685806425032\""
      ]
     },
     "metadata": {},
     "output_type": "display_data"
    },
    {
     "data": {
      "text/plain": [
       "\">>>>>> iteration 10:O\""
      ]
     },
     "metadata": {},
     "output_type": "display_data"
    },
    {
     "data": {
      "text/plain": [
       "\"DB: opt gap = 0.17399388184122108\""
      ]
     },
     "metadata": {},
     "output_type": "display_data"
    },
    {
     "data": {
      "text/plain": [
       "\">>>>>> iteration 11:O\""
      ]
     },
     "metadata": {},
     "output_type": "display_data"
    },
    {
     "data": {
      "text/plain": [
       "\"DB: opt gap = 0.1734290710106645\""
      ]
     },
     "metadata": {},
     "output_type": "display_data"
    },
    {
     "data": {
      "text/plain": [
       "\">>>>>> iteration 12:O\""
      ]
     },
     "metadata": {},
     "output_type": "display_data"
    },
    {
     "data": {
      "text/plain": [
       "\"DB: opt gap = 0.17325189348196438\""
      ]
     },
     "metadata": {},
     "output_type": "display_data"
    },
    {
     "data": {
      "text/plain": [
       "\">>>>>> iteration 13:O\""
      ]
     },
     "metadata": {},
     "output_type": "display_data"
    },
    {
     "data": {
      "text/plain": [
       "\"DB: opt gap = 0.17243754158727193\""
      ]
     },
     "metadata": {},
     "output_type": "display_data"
    },
    {
     "data": {
      "text/plain": [
       "\">>>>>> iteration 14:O\""
      ]
     },
     "metadata": {},
     "output_type": "display_data"
    },
    {
     "data": {
      "text/plain": [
       "\"DB: opt gap = 0.17190209473443346\""
      ]
     },
     "metadata": {},
     "output_type": "display_data"
    },
    {
     "data": {
      "text/plain": [
       "\">>>>>> iteration 15:O\""
      ]
     },
     "metadata": {},
     "output_type": "display_data"
    },
    {
     "data": {
      "text/plain": [
       "\">>>>>> iteration 16:F\""
      ]
     },
     "metadata": {},
     "output_type": "display_data"
    },
    {
     "data": {
      "text/plain": [
       "\"DB: opt gap = 5.2550145495068465e-6\""
      ]
     },
     "metadata": {},
     "output_type": "display_data"
    },
    {
     "data": {
      "text/plain": [
       "\">>>>>> iteration 17:O\""
      ]
     },
     "metadata": {},
     "output_type": "display_data"
    },
    {
     "data": {
      "text/plain": [
       "\"DB: opt gap = 4.509874149119123e-6\""
      ]
     },
     "metadata": {},
     "output_type": "display_data"
    },
    {
     "data": {
      "text/plain": [
       "\"time M 32.015000104904175 | time D 55.75100088119507\""
      ]
     },
     "metadata": {},
     "output_type": "display_data"
    },
    {
     "data": {
      "text/plain": [
       "\"evaluating 38 scenarios| option 3\""
      ]
     },
     "metadata": {},
     "output_type": "display_data"
    },
    {
     "data": {
      "text/plain": [
       "\"DB: opt gap = 1.0\""
      ]
     },
     "metadata": {},
     "output_type": "display_data"
    },
    {
     "data": {
      "text/plain": [
       "\">>>>>> iteration 1:O\""
      ]
     },
     "metadata": {},
     "output_type": "display_data"
    },
    {
     "data": {
      "text/plain": [
       "\"DB: opt gap = 1.0\""
      ]
     },
     "metadata": {},
     "output_type": "display_data"
    },
    {
     "data": {
      "text/plain": [
       "\">>>>>> iteration 2:O\""
      ]
     },
     "metadata": {},
     "output_type": "display_data"
    },
    {
     "data": {
      "text/plain": [
       "\"DB: opt gap = 1.0\""
      ]
     },
     "metadata": {},
     "output_type": "display_data"
    },
    {
     "data": {
      "text/plain": [
       "\">>>>>> iteration 3:O\""
      ]
     },
     "metadata": {},
     "output_type": "display_data"
    },
    {
     "data": {
      "text/plain": [
       "\"DB: opt gap = 1.0\""
      ]
     },
     "metadata": {},
     "output_type": "display_data"
    },
    {
     "data": {
      "text/plain": [
       "\">>>>>> iteration 4:O\""
      ]
     },
     "metadata": {},
     "output_type": "display_data"
    },
    {
     "data": {
      "text/plain": [
       "\"DB: opt gap = 1.0\""
      ]
     },
     "metadata": {},
     "output_type": "display_data"
    },
    {
     "data": {
      "text/plain": [
       "\">>>>>> iteration 5:O\""
      ]
     },
     "metadata": {},
     "output_type": "display_data"
    },
    {
     "data": {
      "text/plain": [
       "\"DB: opt gap = 1.0\""
      ]
     },
     "metadata": {},
     "output_type": "display_data"
    },
    {
     "data": {
      "text/plain": [
       "\">>>>>> iteration 6:O\""
      ]
     },
     "metadata": {},
     "output_type": "display_data"
    },
    {
     "data": {
      "text/plain": [
       "\"DB: opt gap = 0.1769982408380943\""
      ]
     },
     "metadata": {},
     "output_type": "display_data"
    },
    {
     "data": {
      "text/plain": [
       "\">>>>>> iteration 7:O\""
      ]
     },
     "metadata": {},
     "output_type": "display_data"
    },
    {
     "data": {
      "text/plain": [
       "\"DB: opt gap = 0.17683617279120942\""
      ]
     },
     "metadata": {},
     "output_type": "display_data"
    },
    {
     "data": {
      "text/plain": [
       "\">>>>>> iteration 8:O\""
      ]
     },
     "metadata": {},
     "output_type": "display_data"
    },
    {
     "data": {
      "text/plain": [
       "\">>>>>> iteration 9:F\""
      ]
     },
     "metadata": {},
     "output_type": "display_data"
    },
    {
     "data": {
      "text/plain": [
       "\"DB: opt gap = 0.17647956827496755\""
      ]
     },
     "metadata": {},
     "output_type": "display_data"
    },
    {
     "data": {
      "text/plain": [
       "\">>>>>> iteration 10:O\""
      ]
     },
     "metadata": {},
     "output_type": "display_data"
    },
    {
     "data": {
      "text/plain": [
       "\"DB: opt gap = 0.17630567512036438\""
      ]
     },
     "metadata": {},
     "output_type": "display_data"
    },
    {
     "data": {
      "text/plain": [
       "\">>>>>> iteration 11:O\""
      ]
     },
     "metadata": {},
     "output_type": "display_data"
    },
    {
     "data": {
      "text/plain": [
       "\"DB: opt gap = 0.17586298540467937\""
      ]
     },
     "metadata": {},
     "output_type": "display_data"
    },
    {
     "data": {
      "text/plain": [
       "\">>>>>> iteration 12:O\""
      ]
     },
     "metadata": {},
     "output_type": "display_data"
    },
    {
     "data": {
      "text/plain": [
       "\"DB: opt gap = 0.174686565458619\""
      ]
     },
     "metadata": {},
     "output_type": "display_data"
    },
    {
     "data": {
      "text/plain": [
       "\">>>>>> iteration 13:O\""
      ]
     },
     "metadata": {},
     "output_type": "display_data"
    },
    {
     "data": {
      "text/plain": [
       "\"DB: opt gap = 0.1748031352219456\""
      ]
     },
     "metadata": {},
     "output_type": "display_data"
    },
    {
     "data": {
      "text/plain": [
       "\">>>>>> iteration 14:O\""
      ]
     },
     "metadata": {},
     "output_type": "display_data"
    },
    {
     "data": {
      "text/plain": [
       "\"DB: opt gap = 0.17271544898447985\""
      ]
     },
     "metadata": {},
     "output_type": "display_data"
    },
    {
     "data": {
      "text/plain": [
       "\">>>>>> iteration 15:O\""
      ]
     },
     "metadata": {},
     "output_type": "display_data"
    },
    {
     "data": {
      "text/plain": [
       "\"DB: opt gap = 0.1725385736549816\""
      ]
     },
     "metadata": {},
     "output_type": "display_data"
    },
    {
     "data": {
      "text/plain": [
       "\">>>>>> iteration 16:O\""
      ]
     },
     "metadata": {},
     "output_type": "display_data"
    },
    {
     "data": {
      "text/plain": [
       "\"DB: opt gap = 1.0840202878729944e-5\""
      ]
     },
     "metadata": {},
     "output_type": "display_data"
    },
    {
     "data": {
      "text/plain": [
       "\"time M 24.7810001373291 | time D 53.47900080680847\""
      ]
     },
     "metadata": {},
     "output_type": "display_data"
    },
    {
     "data": {
      "text/plain": [
       "\"evaluating 39 scenarios| option 3\""
      ]
     },
     "metadata": {},
     "output_type": "display_data"
    },
    {
     "data": {
      "text/plain": [
       "\"DB: opt gap = 1.0\""
      ]
     },
     "metadata": {},
     "output_type": "display_data"
    },
    {
     "data": {
      "text/plain": [
       "\">>>>>> iteration 1:O\""
      ]
     },
     "metadata": {},
     "output_type": "display_data"
    },
    {
     "data": {
      "text/plain": [
       "\"DB: opt gap = 1.0\""
      ]
     },
     "metadata": {},
     "output_type": "display_data"
    },
    {
     "data": {
      "text/plain": [
       "\">>>>>> iteration 2:O\""
      ]
     },
     "metadata": {},
     "output_type": "display_data"
    },
    {
     "data": {
      "text/plain": [
       "\"DB: opt gap = 1.0\""
      ]
     },
     "metadata": {},
     "output_type": "display_data"
    },
    {
     "data": {
      "text/plain": [
       "\">>>>>> iteration 3:O\""
      ]
     },
     "metadata": {},
     "output_type": "display_data"
    },
    {
     "data": {
      "text/plain": [
       "\"DB: opt gap = 1.0\""
      ]
     },
     "metadata": {},
     "output_type": "display_data"
    },
    {
     "data": {
      "text/plain": [
       "\">>>>>> iteration 4:O\""
      ]
     },
     "metadata": {},
     "output_type": "display_data"
    },
    {
     "data": {
      "text/plain": [
       "\"DB: opt gap = 1.0\""
      ]
     },
     "metadata": {},
     "output_type": "display_data"
    },
    {
     "data": {
      "text/plain": [
       "\">>>>>> iteration 5:O\""
      ]
     },
     "metadata": {},
     "output_type": "display_data"
    },
    {
     "data": {
      "text/plain": [
       "\"DB: opt gap = 1.0\""
      ]
     },
     "metadata": {},
     "output_type": "display_data"
    },
    {
     "data": {
      "text/plain": [
       "\">>>>>> iteration 6:O\""
      ]
     },
     "metadata": {},
     "output_type": "display_data"
    },
    {
     "data": {
      "text/plain": [
       "\"DB: opt gap = 1.0\""
      ]
     },
     "metadata": {},
     "output_type": "display_data"
    },
    {
     "data": {
      "text/plain": [
       "\">>>>>> iteration 7:O\""
      ]
     },
     "metadata": {},
     "output_type": "display_data"
    },
    {
     "data": {
      "text/plain": [
       "\"DB: opt gap = 1.0\""
      ]
     },
     "metadata": {},
     "output_type": "display_data"
    },
    {
     "data": {
      "text/plain": [
       "\">>>>>> iteration 8:O\""
      ]
     },
     "metadata": {},
     "output_type": "display_data"
    },
    {
     "data": {
      "text/plain": [
       "\"DB: opt gap = 0.18513115740660818\""
      ]
     },
     "metadata": {},
     "output_type": "display_data"
    },
    {
     "data": {
      "text/plain": [
       "\">>>>>> iteration 9:O\""
      ]
     },
     "metadata": {},
     "output_type": "display_data"
    },
    {
     "data": {
      "text/plain": [
       "\"DB: opt gap = 0.18496511015482286\""
      ]
     },
     "metadata": {},
     "output_type": "display_data"
    },
    {
     "data": {
      "text/plain": [
       "\">>>>>> iteration 10:O\""
      ]
     },
     "metadata": {},
     "output_type": "display_data"
    },
    {
     "data": {
      "text/plain": [
       "\">>>>>> iteration 11:F\""
      ]
     },
     "metadata": {},
     "output_type": "display_data"
    },
    {
     "data": {
      "text/plain": [
       "\"DB: opt gap = 0.18460067230230937\""
      ]
     },
     "metadata": {},
     "output_type": "display_data"
    },
    {
     "data": {
      "text/plain": [
       "\">>>>>> iteration 12:O\""
      ]
     },
     "metadata": {},
     "output_type": "display_data"
    },
    {
     "data": {
      "text/plain": [
       "\"DB: opt gap = 0.1844291155940628\""
      ]
     },
     "metadata": {},
     "output_type": "display_data"
    },
    {
     "data": {
      "text/plain": [
       "\">>>>>> iteration 13:O\""
      ]
     },
     "metadata": {},
     "output_type": "display_data"
    },
    {
     "data": {
      "text/plain": [
       "\"DB: opt gap = 0.18305741246097806\""
      ]
     },
     "metadata": {},
     "output_type": "display_data"
    },
    {
     "data": {
      "text/plain": [
       "\">>>>>> iteration 14:O\""
      ]
     },
     "metadata": {},
     "output_type": "display_data"
    },
    {
     "data": {
      "text/plain": [
       "\"DB: opt gap = 0.1816473553921582\""
      ]
     },
     "metadata": {},
     "output_type": "display_data"
    },
    {
     "data": {
      "text/plain": [
       "\">>>>>> iteration 15:O\""
      ]
     },
     "metadata": {},
     "output_type": "display_data"
    },
    {
     "data": {
      "text/plain": [
       "\"DB: opt gap = 0.1490192598314025\""
      ]
     },
     "metadata": {},
     "output_type": "display_data"
    },
    {
     "data": {
      "text/plain": [
       "\">>>>>> iteration 16:O\""
      ]
     },
     "metadata": {},
     "output_type": "display_data"
    },
    {
     "data": {
      "text/plain": [
       "\"DB: opt gap = 0.14868567027604618\""
      ]
     },
     "metadata": {},
     "output_type": "display_data"
    },
    {
     "data": {
      "text/plain": [
       "\">>>>>> iteration 17:O\""
      ]
     },
     "metadata": {},
     "output_type": "display_data"
    },
    {
     "data": {
      "text/plain": [
       "\"DB: opt gap = 0.14777664944190141\""
      ]
     },
     "metadata": {},
     "output_type": "display_data"
    },
    {
     "data": {
      "text/plain": [
       "\">>>>>> iteration 18:O\""
      ]
     },
     "metadata": {},
     "output_type": "display_data"
    },
    {
     "data": {
      "text/plain": [
       "\"DB: opt gap = 0.0012123936980311945\""
      ]
     },
     "metadata": {},
     "output_type": "display_data"
    },
    {
     "data": {
      "text/plain": [
       "\">>>>>> iteration 19:O\""
      ]
     },
     "metadata": {},
     "output_type": "display_data"
    },
    {
     "data": {
      "text/plain": [
       "\"DB: opt gap = 0.0011586339492840468\""
      ]
     },
     "metadata": {},
     "output_type": "display_data"
    },
    {
     "data": {
      "text/plain": [
       "\">>>>>> iteration 20:O\""
      ]
     },
     "metadata": {},
     "output_type": "display_data"
    },
    {
     "data": {
      "text/plain": [
       "\"DB: opt gap = 3.5521236818976094e-6\""
      ]
     },
     "metadata": {},
     "output_type": "display_data"
    },
    {
     "data": {
      "text/plain": [
       "\"time M 36.53200006484985 | time D 66.71699929237366\""
      ]
     },
     "metadata": {},
     "output_type": "display_data"
    },
    {
     "data": {
      "text/plain": [
       "\"evaluating 40 scenarios| option 3\""
      ]
     },
     "metadata": {},
     "output_type": "display_data"
    },
    {
     "data": {
      "text/plain": [
       "\"DB: opt gap = 1.0\""
      ]
     },
     "metadata": {},
     "output_type": "display_data"
    },
    {
     "data": {
      "text/plain": [
       "\">>>>>> iteration 1:O\""
      ]
     },
     "metadata": {},
     "output_type": "display_data"
    },
    {
     "data": {
      "text/plain": [
       "\"DB: opt gap = 1.0\""
      ]
     },
     "metadata": {},
     "output_type": "display_data"
    },
    {
     "data": {
      "text/plain": [
       "\">>>>>> iteration 2:O\""
      ]
     },
     "metadata": {},
     "output_type": "display_data"
    },
    {
     "data": {
      "text/plain": [
       "\"DB: opt gap = 1.0\""
      ]
     },
     "metadata": {},
     "output_type": "display_data"
    },
    {
     "data": {
      "text/plain": [
       "\">>>>>> iteration 3:O\""
      ]
     },
     "metadata": {},
     "output_type": "display_data"
    },
    {
     "data": {
      "text/plain": [
       "\"DB: opt gap = 1.0\""
      ]
     },
     "metadata": {},
     "output_type": "display_data"
    },
    {
     "data": {
      "text/plain": [
       "\">>>>>> iteration 4:O\""
      ]
     },
     "metadata": {},
     "output_type": "display_data"
    },
    {
     "data": {
      "text/plain": [
       "\"DB: opt gap = 1.0\""
      ]
     },
     "metadata": {},
     "output_type": "display_data"
    },
    {
     "data": {
      "text/plain": [
       "\">>>>>> iteration 5:O\""
      ]
     },
     "metadata": {},
     "output_type": "display_data"
    },
    {
     "data": {
      "text/plain": [
       "\"DB: opt gap = 1.0\""
      ]
     },
     "metadata": {},
     "output_type": "display_data"
    },
    {
     "data": {
      "text/plain": [
       "\">>>>>> iteration 6:O\""
      ]
     },
     "metadata": {},
     "output_type": "display_data"
    },
    {
     "data": {
      "text/plain": [
       "\"DB: opt gap = 1.0\""
      ]
     },
     "metadata": {},
     "output_type": "display_data"
    },
    {
     "data": {
      "text/plain": [
       "\">>>>>> iteration 7:O\""
      ]
     },
     "metadata": {},
     "output_type": "display_data"
    },
    {
     "data": {
      "text/plain": [
       "\"DB: opt gap = 1.0\""
      ]
     },
     "metadata": {},
     "output_type": "display_data"
    },
    {
     "data": {
      "text/plain": [
       "\">>>>>> iteration 8:O\""
      ]
     },
     "metadata": {},
     "output_type": "display_data"
    },
    {
     "data": {
      "text/plain": [
       "\"DB: opt gap = 1.0\""
      ]
     },
     "metadata": {},
     "output_type": "display_data"
    },
    {
     "data": {
      "text/plain": [
       "\">>>>>> iteration 9:O\""
      ]
     },
     "metadata": {},
     "output_type": "display_data"
    },
    {
     "data": {
      "text/plain": [
       "\"DB: opt gap = 0.14453130151783136\""
      ]
     },
     "metadata": {},
     "output_type": "display_data"
    },
    {
     "data": {
      "text/plain": [
       "\">>>>>> iteration 10:O\""
      ]
     },
     "metadata": {},
     "output_type": "display_data"
    },
    {
     "data": {
      "text/plain": [
       "\"DB: opt gap = 0.14441474722658534\""
      ]
     },
     "metadata": {},
     "output_type": "display_data"
    },
    {
     "data": {
      "text/plain": [
       "\">>>>>> iteration 11:O\""
      ]
     },
     "metadata": {},
     "output_type": "display_data"
    },
    {
     "data": {
      "text/plain": [
       "\"DB: opt gap = 0.1441393111932787\""
      ]
     },
     "metadata": {},
     "output_type": "display_data"
    },
    {
     "data": {
      "text/plain": [
       "\">>>>>> iteration 12:O\""
      ]
     },
     "metadata": {},
     "output_type": "display_data"
    },
    {
     "data": {
      "text/plain": [
       "\"DB: opt gap = 0.14402371038957296\""
      ]
     },
     "metadata": {},
     "output_type": "display_data"
    },
    {
     "data": {
      "text/plain": [
       "\">>>>>> iteration 13:O\""
      ]
     },
     "metadata": {},
     "output_type": "display_data"
    },
    {
     "data": {
      "text/plain": [
       "\"DB: opt gap = 0.14381444456793746\""
      ]
     },
     "metadata": {},
     "output_type": "display_data"
    },
    {
     "data": {
      "text/plain": [
       "\">>>>>> iteration 14:O\""
      ]
     },
     "metadata": {},
     "output_type": "display_data"
    },
    {
     "data": {
      "text/plain": [
       "\"DB: opt gap = 0.14370589481941967\""
      ]
     },
     "metadata": {},
     "output_type": "display_data"
    },
    {
     "data": {
      "text/plain": [
       "\">>>>>> iteration 15:O\""
      ]
     },
     "metadata": {},
     "output_type": "display_data"
    },
    {
     "data": {
      "text/plain": [
       "\"DB: opt gap = 0.14351402273928876\""
      ]
     },
     "metadata": {},
     "output_type": "display_data"
    },
    {
     "data": {
      "text/plain": [
       "\">>>>>> iteration 16:O\""
      ]
     },
     "metadata": {},
     "output_type": "display_data"
    },
    {
     "data": {
      "text/plain": [
       "\"DB: opt gap = 0.14340432322892124\""
      ]
     },
     "metadata": {},
     "output_type": "display_data"
    },
    {
     "data": {
      "text/plain": [
       "\">>>>>> iteration 17:O\""
      ]
     },
     "metadata": {},
     "output_type": "display_data"
    },
    {
     "data": {
      "text/plain": [
       "\">>>>>> iteration 18:F\""
      ]
     },
     "metadata": {},
     "output_type": "display_data"
    },
    {
     "data": {
      "text/plain": [
       "\"DB: opt gap = 7.799062403517838e-7\""
      ]
     },
     "metadata": {},
     "output_type": "display_data"
    },
    {
     "data": {
      "text/plain": [
       "\">>>>>> iteration 19:O\""
      ]
     },
     "metadata": {},
     "output_type": "display_data"
    },
    {
     "data": {
      "text/plain": [
       "\"DB: opt gap = 3.898319298664942e-6\""
      ]
     },
     "metadata": {},
     "output_type": "display_data"
    },
    {
     "data": {
      "text/plain": [
       "\"time M 28.078999996185303 | time D 62.01799988746643\""
      ]
     },
     "metadata": {},
     "output_type": "display_data"
    },
    {
     "data": {
      "text/plain": [
       "\"evaluating 41 scenarios| option 3\""
      ]
     },
     "metadata": {},
     "output_type": "display_data"
    },
    {
     "data": {
      "text/plain": [
       "\"DB: opt gap = 1.0\""
      ]
     },
     "metadata": {},
     "output_type": "display_data"
    },
    {
     "data": {
      "text/plain": [
       "\">>>>>> iteration 1:O\""
      ]
     },
     "metadata": {},
     "output_type": "display_data"
    },
    {
     "data": {
      "text/plain": [
       "\"DB: opt gap = 1.0\""
      ]
     },
     "metadata": {},
     "output_type": "display_data"
    },
    {
     "data": {
      "text/plain": [
       "\">>>>>> iteration 2:O\""
      ]
     },
     "metadata": {},
     "output_type": "display_data"
    },
    {
     "data": {
      "text/plain": [
       "\"DB: opt gap = 1.0\""
      ]
     },
     "metadata": {},
     "output_type": "display_data"
    },
    {
     "data": {
      "text/plain": [
       "\">>>>>> iteration 3:O\""
      ]
     },
     "metadata": {},
     "output_type": "display_data"
    },
    {
     "data": {
      "text/plain": [
       "\"DB: opt gap = 1.0\""
      ]
     },
     "metadata": {},
     "output_type": "display_data"
    },
    {
     "data": {
      "text/plain": [
       "\">>>>>> iteration 4:O\""
      ]
     },
     "metadata": {},
     "output_type": "display_data"
    },
    {
     "data": {
      "text/plain": [
       "\"DB: opt gap = 1.0\""
      ]
     },
     "metadata": {},
     "output_type": "display_data"
    },
    {
     "data": {
      "text/plain": [
       "\">>>>>> iteration 5:O\""
      ]
     },
     "metadata": {},
     "output_type": "display_data"
    },
    {
     "data": {
      "text/plain": [
       "\"DB: opt gap = 1.0\""
      ]
     },
     "metadata": {},
     "output_type": "display_data"
    },
    {
     "data": {
      "text/plain": [
       "\">>>>>> iteration 6:O\""
      ]
     },
     "metadata": {},
     "output_type": "display_data"
    },
    {
     "data": {
      "text/plain": [
       "\"DB: opt gap = 1.0\""
      ]
     },
     "metadata": {},
     "output_type": "display_data"
    },
    {
     "data": {
      "text/plain": [
       "\">>>>>> iteration 7:O\""
      ]
     },
     "metadata": {},
     "output_type": "display_data"
    },
    {
     "data": {
      "text/plain": [
       "\"DB: opt gap = 1.0\""
      ]
     },
     "metadata": {},
     "output_type": "display_data"
    },
    {
     "data": {
      "text/plain": [
       "\">>>>>> iteration 8:O\""
      ]
     },
     "metadata": {},
     "output_type": "display_data"
    },
    {
     "data": {
      "text/plain": [
       "\"DB: opt gap = 1.0\""
      ]
     },
     "metadata": {},
     "output_type": "display_data"
    },
    {
     "data": {
      "text/plain": [
       "\">>>>>> iteration 9:O\""
      ]
     },
     "metadata": {},
     "output_type": "display_data"
    },
    {
     "data": {
      "text/plain": [
       "\"DB: opt gap = 0.15344302984372896\""
      ]
     },
     "metadata": {},
     "output_type": "display_data"
    },
    {
     "data": {
      "text/plain": [
       "\">>>>>> iteration 10:O\""
      ]
     },
     "metadata": {},
     "output_type": "display_data"
    },
    {
     "data": {
      "text/plain": [
       "\"DB: opt gap = 0.15331246092613957\""
      ]
     },
     "metadata": {},
     "output_type": "display_data"
    },
    {
     "data": {
      "text/plain": [
       "\">>>>>> iteration 11:O\""
      ]
     },
     "metadata": {},
     "output_type": "display_data"
    },
    {
     "data": {
      "text/plain": [
       "\"DB: opt gap = 0.15303652510564186\""
      ]
     },
     "metadata": {},
     "output_type": "display_data"
    },
    {
     "data": {
      "text/plain": [
       "\">>>>>> iteration 12:O\""
      ]
     },
     "metadata": {},
     "output_type": "display_data"
    },
    {
     "data": {
      "text/plain": [
       "\">>>>>> iteration 13:F\""
      ]
     },
     "metadata": {},
     "output_type": "display_data"
    },
    {
     "data": {
      "text/plain": [
       "\"DB: opt gap = 0.15269404786554028\""
      ]
     },
     "metadata": {},
     "output_type": "display_data"
    },
    {
     "data": {
      "text/plain": [
       "\">>>>>> iteration 14:O\""
      ]
     },
     "metadata": {},
     "output_type": "display_data"
    },
    {
     "data": {
      "text/plain": [
       "\"DB: opt gap = 0.14296306939770034\""
      ]
     },
     "metadata": {},
     "output_type": "display_data"
    },
    {
     "data": {
      "text/plain": [
       "\">>>>>> iteration 15:O\""
      ]
     },
     "metadata": {},
     "output_type": "display_data"
    },
    {
     "data": {
      "text/plain": [
       "\"DB: opt gap = 0.1426997192367073\""
      ]
     },
     "metadata": {},
     "output_type": "display_data"
    },
    {
     "data": {
      "text/plain": [
       "\">>>>>> iteration 16:O\""
      ]
     },
     "metadata": {},
     "output_type": "display_data"
    },
    {
     "data": {
      "text/plain": [
       "\"DB: opt gap = 0.14280663399062724\""
      ]
     },
     "metadata": {},
     "output_type": "display_data"
    },
    {
     "data": {
      "text/plain": [
       "\">>>>>> iteration 17:O\""
      ]
     },
     "metadata": {},
     "output_type": "display_data"
    },
    {
     "data": {
      "text/plain": [
       "\"DB: opt gap = 0.14198381030084817\""
      ]
     },
     "metadata": {},
     "output_type": "display_data"
    },
    {
     "data": {
      "text/plain": [
       "\">>>>>> iteration 18:O\""
      ]
     },
     "metadata": {},
     "output_type": "display_data"
    },
    {
     "data": {
      "text/plain": [
       "\"DB: opt gap = 0.14198936389196049\""
      ]
     },
     "metadata": {},
     "output_type": "display_data"
    },
    {
     "data": {
      "text/plain": [
       "\">>>>>> iteration 19:O\""
      ]
     },
     "metadata": {},
     "output_type": "display_data"
    },
    {
     "data": {
      "text/plain": [
       "\"DB: opt gap = 0.1416241089855922\""
      ]
     },
     "metadata": {},
     "output_type": "display_data"
    },
    {
     "data": {
      "text/plain": [
       "\">>>>>> iteration 20:O\""
      ]
     },
     "metadata": {},
     "output_type": "display_data"
    },
    {
     "data": {
      "text/plain": [
       "\"DB: opt gap = 0.00010144381253479876\""
      ]
     },
     "metadata": {},
     "output_type": "display_data"
    },
    {
     "data": {
      "text/plain": [
       "\"time M 41.40599989891052 | time D 66.31399989128113\""
      ]
     },
     "metadata": {},
     "output_type": "display_data"
    },
    {
     "data": {
      "text/plain": [
       "\"evaluating 42 scenarios| option 3\""
      ]
     },
     "metadata": {},
     "output_type": "display_data"
    },
    {
     "data": {
      "text/plain": [
       "\"DB: opt gap = 1.0\""
      ]
     },
     "metadata": {},
     "output_type": "display_data"
    },
    {
     "data": {
      "text/plain": [
       "\">>>>>> iteration 1:O\""
      ]
     },
     "metadata": {},
     "output_type": "display_data"
    },
    {
     "data": {
      "text/plain": [
       "\"DB: opt gap = 1.0\""
      ]
     },
     "metadata": {},
     "output_type": "display_data"
    },
    {
     "data": {
      "text/plain": [
       "\">>>>>> iteration 2:O\""
      ]
     },
     "metadata": {},
     "output_type": "display_data"
    },
    {
     "data": {
      "text/plain": [
       "\"DB: opt gap = 1.0\""
      ]
     },
     "metadata": {},
     "output_type": "display_data"
    },
    {
     "data": {
      "text/plain": [
       "\">>>>>> iteration 3:O\""
      ]
     },
     "metadata": {},
     "output_type": "display_data"
    },
    {
     "data": {
      "text/plain": [
       "\"DB: opt gap = 1.0\""
      ]
     },
     "metadata": {},
     "output_type": "display_data"
    },
    {
     "data": {
      "text/plain": [
       "\">>>>>> iteration 4:O\""
      ]
     },
     "metadata": {},
     "output_type": "display_data"
    },
    {
     "data": {
      "text/plain": [
       "\"DB: opt gap = 1.0\""
      ]
     },
     "metadata": {},
     "output_type": "display_data"
    },
    {
     "data": {
      "text/plain": [
       "\">>>>>> iteration 5:O\""
      ]
     },
     "metadata": {},
     "output_type": "display_data"
    },
    {
     "data": {
      "text/plain": [
       "\"DB: opt gap = 1.0\""
      ]
     },
     "metadata": {},
     "output_type": "display_data"
    },
    {
     "data": {
      "text/plain": [
       "\">>>>>> iteration 6:O\""
      ]
     },
     "metadata": {},
     "output_type": "display_data"
    },
    {
     "data": {
      "text/plain": [
       "\"DB: opt gap = 1.0\""
      ]
     },
     "metadata": {},
     "output_type": "display_data"
    },
    {
     "data": {
      "text/plain": [
       "\">>>>>> iteration 7:O\""
      ]
     },
     "metadata": {},
     "output_type": "display_data"
    },
    {
     "data": {
      "text/plain": [
       "\"DB: opt gap = 1.0\""
      ]
     },
     "metadata": {},
     "output_type": "display_data"
    },
    {
     "data": {
      "text/plain": [
       "\">>>>>> iteration 8:O\""
      ]
     },
     "metadata": {},
     "output_type": "display_data"
    },
    {
     "data": {
      "text/plain": [
       "\"DB: opt gap = 1.0\""
      ]
     },
     "metadata": {},
     "output_type": "display_data"
    },
    {
     "data": {
      "text/plain": [
       "\">>>>>> iteration 9:O\""
      ]
     },
     "metadata": {},
     "output_type": "display_data"
    },
    {
     "data": {
      "text/plain": [
       "\"DB: opt gap = 1.0\""
      ]
     },
     "metadata": {},
     "output_type": "display_data"
    },
    {
     "data": {
      "text/plain": [
       "\">>>>>> iteration 10:O\""
      ]
     },
     "metadata": {},
     "output_type": "display_data"
    },
    {
     "data": {
      "text/plain": [
       "\"DB: opt gap = 0.1485390217209466\""
      ]
     },
     "metadata": {},
     "output_type": "display_data"
    },
    {
     "data": {
      "text/plain": [
       "\">>>>>> iteration 11:O\""
      ]
     },
     "metadata": {},
     "output_type": "display_data"
    },
    {
     "data": {
      "text/plain": [
       "\"DB: opt gap = 0.14841974618017822\""
      ]
     },
     "metadata": {},
     "output_type": "display_data"
    },
    {
     "data": {
      "text/plain": [
       "\">>>>>> iteration 12:O\""
      ]
     },
     "metadata": {},
     "output_type": "display_data"
    },
    {
     "data": {
      "text/plain": [
       "\"DB: opt gap = 0.14813917919120378\""
      ]
     },
     "metadata": {},
     "output_type": "display_data"
    },
    {
     "data": {
      "text/plain": [
       "\">>>>>> iteration 13:O\""
      ]
     },
     "metadata": {},
     "output_type": "display_data"
    },
    {
     "data": {
      "text/plain": [
       "\"DB: opt gap = 0.14802608108234894\""
      ]
     },
     "metadata": {},
     "output_type": "display_data"
    },
    {
     "data": {
      "text/plain": [
       "\">>>>>> iteration 14:O\""
      ]
     },
     "metadata": {},
     "output_type": "display_data"
    },
    {
     "data": {
      "text/plain": [
       "\">>>>>> iteration 15:F\""
      ]
     },
     "metadata": {},
     "output_type": "display_data"
    },
    {
     "data": {
      "text/plain": [
       "\"DB: opt gap = 0.14783094783961903\""
      ]
     },
     "metadata": {},
     "output_type": "display_data"
    },
    {
     "data": {
      "text/plain": [
       "\">>>>>> iteration 16:O\""
      ]
     },
     "metadata": {},
     "output_type": "display_data"
    },
    {
     "data": {
      "text/plain": [
       "\"DB: opt gap = 0.14559776957543516\""
      ]
     },
     "metadata": {},
     "output_type": "display_data"
    },
    {
     "data": {
      "text/plain": [
       "\">>>>>> iteration 17:O\""
      ]
     },
     "metadata": {},
     "output_type": "display_data"
    },
    {
     "data": {
      "text/plain": [
       "\"DB: opt gap = 0.14538482402230762\""
      ]
     },
     "metadata": {},
     "output_type": "display_data"
    },
    {
     "data": {
      "text/plain": [
       "\">>>>>> iteration 18:O\""
      ]
     },
     "metadata": {},
     "output_type": "display_data"
    },
    {
     "data": {
      "text/plain": [
       "\"DB: opt gap = 9.046667581141916e-6\""
      ]
     },
     "metadata": {},
     "output_type": "display_data"
    },
    {
     "data": {
      "text/plain": [
       "\"time M 40.67700004577637 | time D 59.14899969100952\""
      ]
     },
     "metadata": {},
     "output_type": "display_data"
    },
    {
     "data": {
      "text/plain": [
       "\"evaluating 43 scenarios| option 3\""
      ]
     },
     "metadata": {},
     "output_type": "display_data"
    },
    {
     "data": {
      "text/plain": [
       "\"DB: opt gap = 1.0\""
      ]
     },
     "metadata": {},
     "output_type": "display_data"
    },
    {
     "data": {
      "text/plain": [
       "\">>>>>> iteration 1:O\""
      ]
     },
     "metadata": {},
     "output_type": "display_data"
    },
    {
     "data": {
      "text/plain": [
       "\"DB: opt gap = 1.0\""
      ]
     },
     "metadata": {},
     "output_type": "display_data"
    },
    {
     "data": {
      "text/plain": [
       "\">>>>>> iteration 2:O\""
      ]
     },
     "metadata": {},
     "output_type": "display_data"
    },
    {
     "data": {
      "text/plain": [
       "\"DB: opt gap = 1.0\""
      ]
     },
     "metadata": {},
     "output_type": "display_data"
    },
    {
     "data": {
      "text/plain": [
       "\">>>>>> iteration 3:O\""
      ]
     },
     "metadata": {},
     "output_type": "display_data"
    },
    {
     "data": {
      "text/plain": [
       "\"DB: opt gap = 1.0\""
      ]
     },
     "metadata": {},
     "output_type": "display_data"
    },
    {
     "data": {
      "text/plain": [
       "\">>>>>> iteration 4:O\""
      ]
     },
     "metadata": {},
     "output_type": "display_data"
    },
    {
     "data": {
      "text/plain": [
       "\"DB: opt gap = 1.0\""
      ]
     },
     "metadata": {},
     "output_type": "display_data"
    },
    {
     "data": {
      "text/plain": [
       "\">>>>>> iteration 5:O\""
      ]
     },
     "metadata": {},
     "output_type": "display_data"
    },
    {
     "data": {
      "text/plain": [
       "\"DB: opt gap = 1.0\""
      ]
     },
     "metadata": {},
     "output_type": "display_data"
    },
    {
     "data": {
      "text/plain": [
       "\">>>>>> iteration 6:O\""
      ]
     },
     "metadata": {},
     "output_type": "display_data"
    },
    {
     "data": {
      "text/plain": [
       "\"DB: opt gap = 1.0\""
      ]
     },
     "metadata": {},
     "output_type": "display_data"
    },
    {
     "data": {
      "text/plain": [
       "\">>>>>> iteration 7:O\""
      ]
     },
     "metadata": {},
     "output_type": "display_data"
    },
    {
     "data": {
      "text/plain": [
       "\"DB: opt gap = 1.0\""
      ]
     },
     "metadata": {},
     "output_type": "display_data"
    },
    {
     "data": {
      "text/plain": [
       "\">>>>>> iteration 8:O\""
      ]
     },
     "metadata": {},
     "output_type": "display_data"
    },
    {
     "data": {
      "text/plain": [
       "\"DB: opt gap = 1.0\""
      ]
     },
     "metadata": {},
     "output_type": "display_data"
    },
    {
     "data": {
      "text/plain": [
       "\">>>>>> iteration 9:O\""
      ]
     },
     "metadata": {},
     "output_type": "display_data"
    },
    {
     "data": {
      "text/plain": [
       "\"DB: opt gap = 1.0\""
      ]
     },
     "metadata": {},
     "output_type": "display_data"
    },
    {
     "data": {
      "text/plain": [
       "\">>>>>> iteration 10:O\""
      ]
     },
     "metadata": {},
     "output_type": "display_data"
    },
    {
     "data": {
      "text/plain": [
       "\"DB: opt gap = 1.0\""
      ]
     },
     "metadata": {},
     "output_type": "display_data"
    },
    {
     "data": {
      "text/plain": [
       "\">>>>>> iteration 11:O\""
      ]
     },
     "metadata": {},
     "output_type": "display_data"
    },
    {
     "data": {
      "text/plain": [
       "\"DB: opt gap = 1.0\""
      ]
     },
     "metadata": {},
     "output_type": "display_data"
    },
    {
     "data": {
      "text/plain": [
       "\">>>>>> iteration 12:O\""
      ]
     },
     "metadata": {},
     "output_type": "display_data"
    },
    {
     "data": {
      "text/plain": [
       "\"DB: opt gap = 1.0\""
      ]
     },
     "metadata": {},
     "output_type": "display_data"
    },
    {
     "data": {
      "text/plain": [
       "\">>>>>> iteration 13:O\""
      ]
     },
     "metadata": {},
     "output_type": "display_data"
    },
    {
     "data": {
      "text/plain": [
       "\"DB: opt gap = 1.0\""
      ]
     },
     "metadata": {},
     "output_type": "display_data"
    },
    {
     "data": {
      "text/plain": [
       "\">>>>>> iteration 14:O\""
      ]
     },
     "metadata": {},
     "output_type": "display_data"
    },
    {
     "data": {
      "text/plain": [
       "\"DB: opt gap = 0.15310252026811866\""
      ]
     },
     "metadata": {},
     "output_type": "display_data"
    },
    {
     "data": {
      "text/plain": [
       "\">>>>>> iteration 15:O\""
      ]
     },
     "metadata": {},
     "output_type": "display_data"
    },
    {
     "data": {
      "text/plain": [
       "\"DB: opt gap = 0.15297925647004226\""
      ]
     },
     "metadata": {},
     "output_type": "display_data"
    },
    {
     "data": {
      "text/plain": [
       "\">>>>>> iteration 16:O\""
      ]
     },
     "metadata": {},
     "output_type": "display_data"
    },
    {
     "data": {
      "text/plain": [
       "\"DB: opt gap = 0.15269469129564595\""
      ]
     },
     "metadata": {},
     "output_type": "display_data"
    },
    {
     "data": {
      "text/plain": [
       "\">>>>>> iteration 17:O\""
      ]
     },
     "metadata": {},
     "output_type": "display_data"
    },
    {
     "data": {
      "text/plain": [
       "\"DB: opt gap = 0.15256945640545844\""
      ]
     },
     "metadata": {},
     "output_type": "display_data"
    },
    {
     "data": {
      "text/plain": [
       "\">>>>>> iteration 18:O\""
      ]
     },
     "metadata": {},
     "output_type": "display_data"
    },
    {
     "data": {
      "text/plain": [
       "\"DB: opt gap = 0.1523689089634561\""
      ]
     },
     "metadata": {},
     "output_type": "display_data"
    },
    {
     "data": {
      "text/plain": [
       "\">>>>>> iteration 19:O\""
      ]
     },
     "metadata": {},
     "output_type": "display_data"
    },
    {
     "data": {
      "text/plain": [
       "\"DB: opt gap = 0.1520169824553131\""
      ]
     },
     "metadata": {},
     "output_type": "display_data"
    },
    {
     "data": {
      "text/plain": [
       "\">>>>>> iteration 20:O\""
      ]
     },
     "metadata": {},
     "output_type": "display_data"
    },
    {
     "data": {
      "text/plain": [
       "\"DB: opt gap = 0.15128680881961\""
      ]
     },
     "metadata": {},
     "output_type": "display_data"
    },
    {
     "data": {
      "text/plain": [
       "\">>>>>> iteration 21:O\""
      ]
     },
     "metadata": {},
     "output_type": "display_data"
    },
    {
     "data": {
      "text/plain": [
       "\"DB: opt gap = 0.15116598507305568\""
      ]
     },
     "metadata": {},
     "output_type": "display_data"
    },
    {
     "data": {
      "text/plain": [
       "\">>>>>> iteration 22:O\""
      ]
     },
     "metadata": {},
     "output_type": "display_data"
    },
    {
     "data": {
      "text/plain": [
       "\"DB: opt gap = 0.1508811358548211\""
      ]
     },
     "metadata": {},
     "output_type": "display_data"
    },
    {
     "data": {
      "text/plain": [
       "\">>>>>> iteration 23:O\""
      ]
     },
     "metadata": {},
     "output_type": "display_data"
    },
    {
     "data": {
      "text/plain": [
       "\"DB: opt gap = 0.15075605655350235\""
      ]
     },
     "metadata": {},
     "output_type": "display_data"
    },
    {
     "data": {
      "text/plain": [
       "\">>>>>> iteration 24:O\""
      ]
     },
     "metadata": {},
     "output_type": "display_data"
    },
    {
     "data": {
      "text/plain": [
       "\"DB: opt gap = 2.316575503090201e-6\""
      ]
     },
     "metadata": {},
     "output_type": "display_data"
    },
    {
     "data": {
      "text/plain": [
       "\"time M 41.91499996185303 | time D 82.13499736785889\""
      ]
     },
     "metadata": {},
     "output_type": "display_data"
    },
    {
     "data": {
      "text/plain": [
       "\"evaluating 44 scenarios| option 3\""
      ]
     },
     "metadata": {},
     "output_type": "display_data"
    },
    {
     "data": {
      "text/plain": [
       "\"DB: opt gap = 1.0\""
      ]
     },
     "metadata": {},
     "output_type": "display_data"
    },
    {
     "data": {
      "text/plain": [
       "\">>>>>> iteration 1:O\""
      ]
     },
     "metadata": {},
     "output_type": "display_data"
    },
    {
     "data": {
      "text/plain": [
       "\"DB: opt gap = 1.0\""
      ]
     },
     "metadata": {},
     "output_type": "display_data"
    },
    {
     "data": {
      "text/plain": [
       "\">>>>>> iteration 2:O\""
      ]
     },
     "metadata": {},
     "output_type": "display_data"
    },
    {
     "data": {
      "text/plain": [
       "\"DB: opt gap = 1.0\""
      ]
     },
     "metadata": {},
     "output_type": "display_data"
    },
    {
     "data": {
      "text/plain": [
       "\">>>>>> iteration 3:O\""
      ]
     },
     "metadata": {},
     "output_type": "display_data"
    },
    {
     "data": {
      "text/plain": [
       "\"DB: opt gap = 1.0\""
      ]
     },
     "metadata": {},
     "output_type": "display_data"
    },
    {
     "data": {
      "text/plain": [
       "\">>>>>> iteration 4:O\""
      ]
     },
     "metadata": {},
     "output_type": "display_data"
    },
    {
     "data": {
      "text/plain": [
       "\"DB: opt gap = 1.0\""
      ]
     },
     "metadata": {},
     "output_type": "display_data"
    },
    {
     "data": {
      "text/plain": [
       "\">>>>>> iteration 5:O\""
      ]
     },
     "metadata": {},
     "output_type": "display_data"
    },
    {
     "data": {
      "text/plain": [
       "\"DB: opt gap = 1.0\""
      ]
     },
     "metadata": {},
     "output_type": "display_data"
    },
    {
     "data": {
      "text/plain": [
       "\">>>>>> iteration 6:O\""
      ]
     },
     "metadata": {},
     "output_type": "display_data"
    },
    {
     "data": {
      "text/plain": [
       "\"DB: opt gap = 1.0\""
      ]
     },
     "metadata": {},
     "output_type": "display_data"
    },
    {
     "data": {
      "text/plain": [
       "\">>>>>> iteration 7:O\""
      ]
     },
     "metadata": {},
     "output_type": "display_data"
    },
    {
     "data": {
      "text/plain": [
       "\"DB: opt gap = 1.0\""
      ]
     },
     "metadata": {},
     "output_type": "display_data"
    },
    {
     "data": {
      "text/plain": [
       "\">>>>>> iteration 8:O\""
      ]
     },
     "metadata": {},
     "output_type": "display_data"
    },
    {
     "data": {
      "text/plain": [
       "\"DB: opt gap = 1.0\""
      ]
     },
     "metadata": {},
     "output_type": "display_data"
    },
    {
     "data": {
      "text/plain": [
       "\">>>>>> iteration 9:O\""
      ]
     },
     "metadata": {},
     "output_type": "display_data"
    },
    {
     "data": {
      "text/plain": [
       "\"DB: opt gap = 1.0\""
      ]
     },
     "metadata": {},
     "output_type": "display_data"
    },
    {
     "data": {
      "text/plain": [
       "\">>>>>> iteration 10:O\""
      ]
     },
     "metadata": {},
     "output_type": "display_data"
    },
    {
     "data": {
      "text/plain": [
       "\"DB: opt gap = 1.0\""
      ]
     },
     "metadata": {},
     "output_type": "display_data"
    },
    {
     "data": {
      "text/plain": [
       "\">>>>>> iteration 11:O\""
      ]
     },
     "metadata": {},
     "output_type": "display_data"
    },
    {
     "data": {
      "text/plain": [
       "\"DB: opt gap = 1.0\""
      ]
     },
     "metadata": {},
     "output_type": "display_data"
    },
    {
     "data": {
      "text/plain": [
       "\">>>>>> iteration 12:O\""
      ]
     },
     "metadata": {},
     "output_type": "display_data"
    },
    {
     "data": {
      "text/plain": [
       "\"DB: opt gap = 1.0\""
      ]
     },
     "metadata": {},
     "output_type": "display_data"
    },
    {
     "data": {
      "text/plain": [
       "\">>>>>> iteration 13:O\""
      ]
     },
     "metadata": {},
     "output_type": "display_data"
    },
    {
     "data": {
      "text/plain": [
       "\"DB: opt gap = 1.0\""
      ]
     },
     "metadata": {},
     "output_type": "display_data"
    },
    {
     "data": {
      "text/plain": [
       "\">>>>>> iteration 14:O\""
      ]
     },
     "metadata": {},
     "output_type": "display_data"
    },
    {
     "data": {
      "text/plain": [
       "\"DB: opt gap = 1.0\""
      ]
     },
     "metadata": {},
     "output_type": "display_data"
    },
    {
     "data": {
      "text/plain": [
       "\">>>>>> iteration 15:O\""
      ]
     },
     "metadata": {},
     "output_type": "display_data"
    },
    {
     "data": {
      "text/plain": [
       "\"DB: opt gap = 1.0\""
      ]
     },
     "metadata": {},
     "output_type": "display_data"
    },
    {
     "data": {
      "text/plain": [
       "\">>>>>> iteration 16:O\""
      ]
     },
     "metadata": {},
     "output_type": "display_data"
    },
    {
     "data": {
      "text/plain": [
       "\"DB: opt gap = 0.14596373203966378\""
      ]
     },
     "metadata": {},
     "output_type": "display_data"
    },
    {
     "data": {
      "text/plain": [
       "\">>>>>> iteration 17:O\""
      ]
     },
     "metadata": {},
     "output_type": "display_data"
    },
    {
     "data": {
      "text/plain": [
       "\"DB: opt gap = 0.14585097064445177\""
      ]
     },
     "metadata": {},
     "output_type": "display_data"
    },
    {
     "data": {
      "text/plain": [
       "\">>>>>> iteration 18:O\""
      ]
     },
     "metadata": {},
     "output_type": "display_data"
    },
    {
     "data": {
      "text/plain": [
       "\"DB: opt gap = 0.14559722982958312\""
      ]
     },
     "metadata": {},
     "output_type": "display_data"
    },
    {
     "data": {
      "text/plain": [
       "\">>>>>> iteration 19:O\""
      ]
     },
     "metadata": {},
     "output_type": "display_data"
    },
    {
     "data": {
      "text/plain": [
       "\"DB: opt gap = 0.1454812266666366\""
      ]
     },
     "metadata": {},
     "output_type": "display_data"
    },
    {
     "data": {
      "text/plain": [
       "\">>>>>> iteration 20:O\""
      ]
     },
     "metadata": {},
     "output_type": "display_data"
    },
    {
     "data": {
      "text/plain": [
       "\">>>>>> iteration 21:F\""
      ]
     },
     "metadata": {},
     "output_type": "display_data"
    },
    {
     "data": {
      "text/plain": [
       "\"DB: opt gap = 0.14528379987709142\""
      ]
     },
     "metadata": {},
     "output_type": "display_data"
    },
    {
     "data": {
      "text/plain": [
       "\">>>>>> iteration 22:O\""
      ]
     },
     "metadata": {},
     "output_type": "display_data"
    },
    {
     "data": {
      "text/plain": [
       "\"DB: opt gap = 0.14484408212434077\""
      ]
     },
     "metadata": {},
     "output_type": "display_data"
    },
    {
     "data": {
      "text/plain": [
       "\">>>>>> iteration 23:O\""
      ]
     },
     "metadata": {},
     "output_type": "display_data"
    },
    {
     "data": {
      "text/plain": [
       "\"DB: opt gap = 0.14433416369624483\""
      ]
     },
     "metadata": {},
     "output_type": "display_data"
    },
    {
     "data": {
      "text/plain": [
       "\">>>>>> iteration 24:O\""
      ]
     },
     "metadata": {},
     "output_type": "display_data"
    },
    {
     "data": {
      "text/plain": [
       "\"DB: opt gap = 0.14420982221924714\""
      ]
     },
     "metadata": {},
     "output_type": "display_data"
    },
    {
     "data": {
      "text/plain": [
       "\">>>>>> iteration 25:O\""
      ]
     },
     "metadata": {},
     "output_type": "display_data"
    },
    {
     "data": {
      "text/plain": [
       "\"DB: opt gap = 0.14355995235694324\""
      ]
     },
     "metadata": {},
     "output_type": "display_data"
    },
    {
     "data": {
      "text/plain": [
       "\">>>>>> iteration 26:O\""
      ]
     },
     "metadata": {},
     "output_type": "display_data"
    },
    {
     "data": {
      "text/plain": [
       "\"DB: opt gap = 0.14259025841175657\""
      ]
     },
     "metadata": {},
     "output_type": "display_data"
    },
    {
     "data": {
      "text/plain": [
       "\">>>>>> iteration 27:O\""
      ]
     },
     "metadata": {},
     "output_type": "display_data"
    },
    {
     "data": {
      "text/plain": [
       "\"DB: opt gap = 6.200409273038376e-6\""
      ]
     },
     "metadata": {},
     "output_type": "display_data"
    },
    {
     "data": {
      "text/plain": [
       "\"time M NaN | time D 93.21499872207642\""
      ]
     },
     "metadata": {},
     "output_type": "display_data"
    },
    {
     "data": {
      "text/plain": [
       "\"evaluating 45 scenarios| option 3\""
      ]
     },
     "metadata": {},
     "output_type": "display_data"
    },
    {
     "data": {
      "text/plain": [
       "\"DB: opt gap = 1.0\""
      ]
     },
     "metadata": {},
     "output_type": "display_data"
    },
    {
     "data": {
      "text/plain": [
       "\">>>>>> iteration 1:O\""
      ]
     },
     "metadata": {},
     "output_type": "display_data"
    },
    {
     "data": {
      "text/plain": [
       "\"DB: opt gap = 1.0\""
      ]
     },
     "metadata": {},
     "output_type": "display_data"
    },
    {
     "data": {
      "text/plain": [
       "\">>>>>> iteration 2:O\""
      ]
     },
     "metadata": {},
     "output_type": "display_data"
    },
    {
     "data": {
      "text/plain": [
       "\"DB: opt gap = 1.0\""
      ]
     },
     "metadata": {},
     "output_type": "display_data"
    },
    {
     "data": {
      "text/plain": [
       "\">>>>>> iteration 3:O\""
      ]
     },
     "metadata": {},
     "output_type": "display_data"
    },
    {
     "data": {
      "text/plain": [
       "\"DB: opt gap = 1.0\""
      ]
     },
     "metadata": {},
     "output_type": "display_data"
    },
    {
     "data": {
      "text/plain": [
       "\">>>>>> iteration 4:O\""
      ]
     },
     "metadata": {},
     "output_type": "display_data"
    },
    {
     "data": {
      "text/plain": [
       "\"DB: opt gap = 1.0\""
      ]
     },
     "metadata": {},
     "output_type": "display_data"
    },
    {
     "data": {
      "text/plain": [
       "\">>>>>> iteration 5:O\""
      ]
     },
     "metadata": {},
     "output_type": "display_data"
    },
    {
     "data": {
      "text/plain": [
       "\"DB: opt gap = 1.0\""
      ]
     },
     "metadata": {},
     "output_type": "display_data"
    },
    {
     "data": {
      "text/plain": [
       "\">>>>>> iteration 6:O\""
      ]
     },
     "metadata": {},
     "output_type": "display_data"
    },
    {
     "data": {
      "text/plain": [
       "\"DB: opt gap = 1.0\""
      ]
     },
     "metadata": {},
     "output_type": "display_data"
    },
    {
     "data": {
      "text/plain": [
       "\">>>>>> iteration 7:O\""
      ]
     },
     "metadata": {},
     "output_type": "display_data"
    },
    {
     "data": {
      "text/plain": [
       "\"DB: opt gap = 1.0\""
      ]
     },
     "metadata": {},
     "output_type": "display_data"
    },
    {
     "data": {
      "text/plain": [
       "\">>>>>> iteration 8:O\""
      ]
     },
     "metadata": {},
     "output_type": "display_data"
    },
    {
     "data": {
      "text/plain": [
       "\"DB: opt gap = 1.0\""
      ]
     },
     "metadata": {},
     "output_type": "display_data"
    },
    {
     "data": {
      "text/plain": [
       "\">>>>>> iteration 9:O\""
      ]
     },
     "metadata": {},
     "output_type": "display_data"
    },
    {
     "data": {
      "text/plain": [
       "\"DB: opt gap = 1.0\""
      ]
     },
     "metadata": {},
     "output_type": "display_data"
    },
    {
     "data": {
      "text/plain": [
       "\">>>>>> iteration 10:O\""
      ]
     },
     "metadata": {},
     "output_type": "display_data"
    },
    {
     "data": {
      "text/plain": [
       "\"DB: opt gap = 1.0\""
      ]
     },
     "metadata": {},
     "output_type": "display_data"
    },
    {
     "data": {
      "text/plain": [
       "\">>>>>> iteration 11:O\""
      ]
     },
     "metadata": {},
     "output_type": "display_data"
    },
    {
     "data": {
      "text/plain": [
       "\"DB: opt gap = 1.0\""
      ]
     },
     "metadata": {},
     "output_type": "display_data"
    },
    {
     "data": {
      "text/plain": [
       "\">>>>>> iteration 12:O\""
      ]
     },
     "metadata": {},
     "output_type": "display_data"
    },
    {
     "data": {
      "text/plain": [
       "\"DB: opt gap = 1.0\""
      ]
     },
     "metadata": {},
     "output_type": "display_data"
    },
    {
     "data": {
      "text/plain": [
       "\">>>>>> iteration 13:O\""
      ]
     },
     "metadata": {},
     "output_type": "display_data"
    },
    {
     "data": {
      "text/plain": [
       "\"DB: opt gap = 1.0\""
      ]
     },
     "metadata": {},
     "output_type": "display_data"
    },
    {
     "data": {
      "text/plain": [
       "\">>>>>> iteration 14:O\""
      ]
     },
     "metadata": {},
     "output_type": "display_data"
    },
    {
     "data": {
      "text/plain": [
       "\"DB: opt gap = 1.0\""
      ]
     },
     "metadata": {},
     "output_type": "display_data"
    },
    {
     "data": {
      "text/plain": [
       "\">>>>>> iteration 15:O\""
      ]
     },
     "metadata": {},
     "output_type": "display_data"
    },
    {
     "data": {
      "text/plain": [
       "\"DB: opt gap = 0.14658518673614976\""
      ]
     },
     "metadata": {},
     "output_type": "display_data"
    },
    {
     "data": {
      "text/plain": [
       "\">>>>>> iteration 16:O\""
      ]
     },
     "metadata": {},
     "output_type": "display_data"
    },
    {
     "data": {
      "text/plain": [
       "\"DB: opt gap = 0.146470965776492\""
      ]
     },
     "metadata": {},
     "output_type": "display_data"
    },
    {
     "data": {
      "text/plain": [
       "\">>>>>> iteration 17:O\""
      ]
     },
     "metadata": {},
     "output_type": "display_data"
    },
    {
     "data": {
      "text/plain": [
       "\">>>>>> iteration 18:F\""
      ]
     },
     "metadata": {},
     "output_type": "display_data"
    },
    {
     "data": {
      "text/plain": [
       "\"DB: opt gap = 0.14622029927489164\""
      ]
     },
     "metadata": {},
     "output_type": "display_data"
    },
    {
     "data": {
      "text/plain": [
       "\">>>>>> iteration 19:O\""
      ]
     },
     "metadata": {},
     "output_type": "display_data"
    },
    {
     "data": {
      "text/plain": [
       "\"DB: opt gap = 0.14610399636556012\""
      ]
     },
     "metadata": {},
     "output_type": "display_data"
    },
    {
     "data": {
      "text/plain": [
       "\">>>>>> iteration 20:O\""
      ]
     },
     "metadata": {},
     "output_type": "display_data"
    },
    {
     "data": {
      "text/plain": [
       "\"DB: opt gap = 0.14550211389446271\""
      ]
     },
     "metadata": {},
     "output_type": "display_data"
    },
    {
     "data": {
      "text/plain": [
       "\">>>>>> iteration 21:O\""
      ]
     },
     "metadata": {},
     "output_type": "display_data"
    },
    {
     "data": {
      "text/plain": [
       "\"DB: opt gap = 0.14531556546171928\""
      ]
     },
     "metadata": {},
     "output_type": "display_data"
    },
    {
     "data": {
      "text/plain": [
       "\">>>>>> iteration 22:O\""
      ]
     },
     "metadata": {},
     "output_type": "display_data"
    },
    {
     "data": {
      "text/plain": [
       "\"DB: opt gap = 0.1452129018218233\""
      ]
     },
     "metadata": {},
     "output_type": "display_data"
    },
    {
     "data": {
      "text/plain": [
       "\">>>>>> iteration 23:O\""
      ]
     },
     "metadata": {},
     "output_type": "display_data"
    },
    {
     "data": {
      "text/plain": [
       "\"DB: opt gap = 0.14516045375136463\""
      ]
     },
     "metadata": {},
     "output_type": "display_data"
    },
    {
     "data": {
      "text/plain": [
       "\">>>>>> iteration 24:O\""
      ]
     },
     "metadata": {},
     "output_type": "display_data"
    },
    {
     "data": {
      "text/plain": [
       "\"DB: opt gap = 0.1449776089557774\""
      ]
     },
     "metadata": {},
     "output_type": "display_data"
    },
    {
     "data": {
      "text/plain": [
       "\">>>>>> iteration 25:O\""
      ]
     },
     "metadata": {},
     "output_type": "display_data"
    },
    {
     "data": {
      "text/plain": [
       "\"DB: opt gap = 0.1448676186152376\""
      ]
     },
     "metadata": {},
     "output_type": "display_data"
    },
    {
     "data": {
      "text/plain": [
       "\">>>>>> iteration 26:O\""
      ]
     },
     "metadata": {},
     "output_type": "display_data"
    },
    {
     "data": {
      "text/plain": [
       "\"DB: opt gap = 2.7422009534133603e-6\""
      ]
     },
     "metadata": {},
     "output_type": "display_data"
    },
    {
     "data": {
      "text/plain": [
       "\"time M 46.39200019836426 | time D 86.45099997520447\""
      ]
     },
     "metadata": {},
     "output_type": "display_data"
    },
    {
     "data": {
      "text/plain": [
       "\"evaluating 46 scenarios| option 3\""
      ]
     },
     "metadata": {},
     "output_type": "display_data"
    },
    {
     "data": {
      "text/plain": [
       "\"DB: opt gap = 1.0\""
      ]
     },
     "metadata": {},
     "output_type": "display_data"
    },
    {
     "data": {
      "text/plain": [
       "\">>>>>> iteration 1:O\""
      ]
     },
     "metadata": {},
     "output_type": "display_data"
    },
    {
     "data": {
      "text/plain": [
       "\"DB: opt gap = 1.0\""
      ]
     },
     "metadata": {},
     "output_type": "display_data"
    },
    {
     "data": {
      "text/plain": [
       "\">>>>>> iteration 2:O\""
      ]
     },
     "metadata": {},
     "output_type": "display_data"
    },
    {
     "data": {
      "text/plain": [
       "\"DB: opt gap = 1.0\""
      ]
     },
     "metadata": {},
     "output_type": "display_data"
    },
    {
     "data": {
      "text/plain": [
       "\">>>>>> iteration 3:O\""
      ]
     },
     "metadata": {},
     "output_type": "display_data"
    },
    {
     "data": {
      "text/plain": [
       "\"DB: opt gap = 1.0\""
      ]
     },
     "metadata": {},
     "output_type": "display_data"
    },
    {
     "data": {
      "text/plain": [
       "\">>>>>> iteration 4:O\""
      ]
     },
     "metadata": {},
     "output_type": "display_data"
    },
    {
     "data": {
      "text/plain": [
       "\"DB: opt gap = 1.0\""
      ]
     },
     "metadata": {},
     "output_type": "display_data"
    },
    {
     "data": {
      "text/plain": [
       "\">>>>>> iteration 5:O\""
      ]
     },
     "metadata": {},
     "output_type": "display_data"
    },
    {
     "data": {
      "text/plain": [
       "\"DB: opt gap = 1.0\""
      ]
     },
     "metadata": {},
     "output_type": "display_data"
    },
    {
     "data": {
      "text/plain": [
       "\">>>>>> iteration 6:O\""
      ]
     },
     "metadata": {},
     "output_type": "display_data"
    },
    {
     "data": {
      "text/plain": [
       "\"DB: opt gap = 1.0\""
      ]
     },
     "metadata": {},
     "output_type": "display_data"
    },
    {
     "data": {
      "text/plain": [
       "\">>>>>> iteration 7:O\""
      ]
     },
     "metadata": {},
     "output_type": "display_data"
    },
    {
     "data": {
      "text/plain": [
       "\"DB: opt gap = 1.0\""
      ]
     },
     "metadata": {},
     "output_type": "display_data"
    },
    {
     "data": {
      "text/plain": [
       "\">>>>>> iteration 8:O\""
      ]
     },
     "metadata": {},
     "output_type": "display_data"
    },
    {
     "data": {
      "text/plain": [
       "\"DB: opt gap = 1.0\""
      ]
     },
     "metadata": {},
     "output_type": "display_data"
    },
    {
     "data": {
      "text/plain": [
       "\">>>>>> iteration 9:O\""
      ]
     },
     "metadata": {},
     "output_type": "display_data"
    },
    {
     "data": {
      "text/plain": [
       "\"DB: opt gap = 0.16353577743001943\""
      ]
     },
     "metadata": {},
     "output_type": "display_data"
    },
    {
     "data": {
      "text/plain": [
       "\">>>>>> iteration 10:O\""
      ]
     },
     "metadata": {},
     "output_type": "display_data"
    },
    {
     "data": {
      "text/plain": [
       "\"DB: opt gap = 0.16340115564868665\""
      ]
     },
     "metadata": {},
     "output_type": "display_data"
    },
    {
     "data": {
      "text/plain": [
       "\">>>>>> iteration 11:O\""
      ]
     },
     "metadata": {},
     "output_type": "display_data"
    },
    {
     "data": {
      "text/plain": [
       "\">>>>>> iteration 12:F\""
      ]
     },
     "metadata": {},
     "output_type": "display_data"
    },
    {
     "data": {
      "text/plain": [
       "\"DB: opt gap = 0.1631045085817612\""
      ]
     },
     "metadata": {},
     "output_type": "display_data"
    },
    {
     "data": {
      "text/plain": [
       "\">>>>>> iteration 13:O\""
      ]
     },
     "metadata": {},
     "output_type": "display_data"
    },
    {
     "data": {
      "text/plain": [
       "\"DB: opt gap = 0.16296169694640175\""
      ]
     },
     "metadata": {},
     "output_type": "display_data"
    },
    {
     "data": {
      "text/plain": [
       "\">>>>>> iteration 14:O\""
      ]
     },
     "metadata": {},
     "output_type": "display_data"
    },
    {
     "data": {
      "text/plain": [
       "\"DB: opt gap = 0.16265659935012725\""
      ]
     },
     "metadata": {},
     "output_type": "display_data"
    },
    {
     "data": {
      "text/plain": [
       "\">>>>>> iteration 15:O\""
      ]
     },
     "metadata": {},
     "output_type": "display_data"
    },
    {
     "data": {
      "text/plain": [
       "\"DB: opt gap = 0.16238404012192398\""
      ]
     },
     "metadata": {},
     "output_type": "display_data"
    },
    {
     "data": {
      "text/plain": [
       "\">>>>>> iteration 16:O\""
      ]
     },
     "metadata": {},
     "output_type": "display_data"
    },
    {
     "data": {
      "text/plain": [
       "\"DB: opt gap = 0.16170244177755927\""
      ]
     },
     "metadata": {},
     "output_type": "display_data"
    },
    {
     "data": {
      "text/plain": [
       "\">>>>>> iteration 17:O\""
      ]
     },
     "metadata": {},
     "output_type": "display_data"
    },
    {
     "data": {
      "text/plain": [
       "\"DB: opt gap = 0.16059845162885775\""
      ]
     },
     "metadata": {},
     "output_type": "display_data"
    },
    {
     "data": {
      "text/plain": [
       "\">>>>>> iteration 18:O\""
      ]
     },
     "metadata": {},
     "output_type": "display_data"
    },
    {
     "data": {
      "text/plain": [
       "\"DB: opt gap = 0.14359421098198172\""
      ]
     },
     "metadata": {},
     "output_type": "display_data"
    },
    {
     "data": {
      "text/plain": [
       "\">>>>>> iteration 19:O\""
      ]
     },
     "metadata": {},
     "output_type": "display_data"
    },
    {
     "data": {
      "text/plain": [
       "\"DB: opt gap = 0.14325989446635817\""
      ]
     },
     "metadata": {},
     "output_type": "display_data"
    },
    {
     "data": {
      "text/plain": [
       "\">>>>>> iteration 20:O\""
      ]
     },
     "metadata": {},
     "output_type": "display_data"
    },
    {
     "data": {
      "text/plain": [
       "\"DB: opt gap = 0.00040976136723734407\""
      ]
     },
     "metadata": {},
     "output_type": "display_data"
    },
    {
     "data": {
      "text/plain": [
       "\"time M 47.80900001525879 | time D 73.37700247764587\""
      ]
     },
     "metadata": {},
     "output_type": "display_data"
    },
    {
     "data": {
      "text/plain": [
       "\"evaluating 47 scenarios| option 3\""
      ]
     },
     "metadata": {},
     "output_type": "display_data"
    },
    {
     "data": {
      "text/plain": [
       "\"DB: opt gap = 1.0\""
      ]
     },
     "metadata": {},
     "output_type": "display_data"
    },
    {
     "data": {
      "text/plain": [
       "\">>>>>> iteration 1:O\""
      ]
     },
     "metadata": {},
     "output_type": "display_data"
    },
    {
     "data": {
      "text/plain": [
       "\"DB: opt gap = 1.0\""
      ]
     },
     "metadata": {},
     "output_type": "display_data"
    },
    {
     "data": {
      "text/plain": [
       "\">>>>>> iteration 2:O\""
      ]
     },
     "metadata": {},
     "output_type": "display_data"
    },
    {
     "data": {
      "text/plain": [
       "\"DB: opt gap = 1.0\""
      ]
     },
     "metadata": {},
     "output_type": "display_data"
    },
    {
     "data": {
      "text/plain": [
       "\">>>>>> iteration 3:O\""
      ]
     },
     "metadata": {},
     "output_type": "display_data"
    },
    {
     "data": {
      "text/plain": [
       "\"DB: opt gap = 1.0\""
      ]
     },
     "metadata": {},
     "output_type": "display_data"
    },
    {
     "data": {
      "text/plain": [
       "\">>>>>> iteration 4:O\""
      ]
     },
     "metadata": {},
     "output_type": "display_data"
    },
    {
     "data": {
      "text/plain": [
       "\"DB: opt gap = 1.0\""
      ]
     },
     "metadata": {},
     "output_type": "display_data"
    },
    {
     "data": {
      "text/plain": [
       "\">>>>>> iteration 5:O\""
      ]
     },
     "metadata": {},
     "output_type": "display_data"
    },
    {
     "data": {
      "text/plain": [
       "\"DB: opt gap = 1.0\""
      ]
     },
     "metadata": {},
     "output_type": "display_data"
    },
    {
     "data": {
      "text/plain": [
       "\">>>>>> iteration 6:O\""
      ]
     },
     "metadata": {},
     "output_type": "display_data"
    },
    {
     "data": {
      "text/plain": [
       "\"DB: opt gap = 1.0\""
      ]
     },
     "metadata": {},
     "output_type": "display_data"
    },
    {
     "data": {
      "text/plain": [
       "\">>>>>> iteration 7:O\""
      ]
     },
     "metadata": {},
     "output_type": "display_data"
    },
    {
     "data": {
      "text/plain": [
       "\"DB: opt gap = 1.0\""
      ]
     },
     "metadata": {},
     "output_type": "display_data"
    },
    {
     "data": {
      "text/plain": [
       "\">>>>>> iteration 8:O\""
      ]
     },
     "metadata": {},
     "output_type": "display_data"
    },
    {
     "data": {
      "text/plain": [
       "\"DB: opt gap = 1.0\""
      ]
     },
     "metadata": {},
     "output_type": "display_data"
    },
    {
     "data": {
      "text/plain": [
       "\">>>>>> iteration 9:O\""
      ]
     },
     "metadata": {},
     "output_type": "display_data"
    },
    {
     "data": {
      "text/plain": [
       "\"DB: opt gap = 1.0\""
      ]
     },
     "metadata": {},
     "output_type": "display_data"
    },
    {
     "data": {
      "text/plain": [
       "\">>>>>> iteration 10:O\""
      ]
     },
     "metadata": {},
     "output_type": "display_data"
    },
    {
     "data": {
      "text/plain": [
       "\"DB: opt gap = 1.0\""
      ]
     },
     "metadata": {},
     "output_type": "display_data"
    },
    {
     "data": {
      "text/plain": [
       "\">>>>>> iteration 11:O\""
      ]
     },
     "metadata": {},
     "output_type": "display_data"
    },
    {
     "data": {
      "text/plain": [
       "\"DB: opt gap = 1.0\""
      ]
     },
     "metadata": {},
     "output_type": "display_data"
    },
    {
     "data": {
      "text/plain": [
       "\">>>>>> iteration 12:O\""
      ]
     },
     "metadata": {},
     "output_type": "display_data"
    },
    {
     "data": {
      "text/plain": [
       "\"DB: opt gap = 0.16108690156340644\""
      ]
     },
     "metadata": {},
     "output_type": "display_data"
    },
    {
     "data": {
      "text/plain": [
       "\">>>>>> iteration 13:O\""
      ]
     },
     "metadata": {},
     "output_type": "display_data"
    },
    {
     "data": {
      "text/plain": [
       "\"DB: opt gap = 0.16095076978025077\""
      ]
     },
     "metadata": {},
     "output_type": "display_data"
    },
    {
     "data": {
      "text/plain": [
       "\">>>>>> iteration 14:O\""
      ]
     },
     "metadata": {},
     "output_type": "display_data"
    },
    {
     "data": {
      "text/plain": [
       "\"DB: opt gap = 0.16067692426697225\""
      ]
     },
     "metadata": {},
     "output_type": "display_data"
    },
    {
     "data": {
      "text/plain": [
       "\">>>>>> iteration 15:O\""
      ]
     },
     "metadata": {},
     "output_type": "display_data"
    },
    {
     "data": {
      "text/plain": [
       "\"DB: opt gap = 0.160360609759526\""
      ]
     },
     "metadata": {},
     "output_type": "display_data"
    },
    {
     "data": {
      "text/plain": [
       "\">>>>>> iteration 16:O\""
      ]
     },
     "metadata": {},
     "output_type": "display_data"
    },
    {
     "data": {
      "text/plain": [
       "\"DB: opt gap = 0.1600347024154031\""
      ]
     },
     "metadata": {},
     "output_type": "display_data"
    },
    {
     "data": {
      "text/plain": [
       "\">>>>>> iteration 17:O\""
      ]
     },
     "metadata": {},
     "output_type": "display_data"
    },
    {
     "data": {
      "text/plain": [
       "\"DB: opt gap = 0.15937419443925863\""
      ]
     },
     "metadata": {},
     "output_type": "display_data"
    },
    {
     "data": {
      "text/plain": [
       "\">>>>>> iteration 18:O\""
      ]
     },
     "metadata": {},
     "output_type": "display_data"
    },
    {
     "data": {
      "text/plain": [
       "\"DB: opt gap = 0.15924816282408508\""
      ]
     },
     "metadata": {},
     "output_type": "display_data"
    },
    {
     "data": {
      "text/plain": [
       "\">>>>>> iteration 19:O\""
      ]
     },
     "metadata": {},
     "output_type": "display_data"
    },
    {
     "data": {
      "text/plain": [
       "\"DB: opt gap = 0.15898892026696085\""
      ]
     },
     "metadata": {},
     "output_type": "display_data"
    },
    {
     "data": {
      "text/plain": [
       "\">>>>>> iteration 20:O\""
      ]
     },
     "metadata": {},
     "output_type": "display_data"
    },
    {
     "data": {
      "text/plain": [
       "\">>>>>> iteration 21:F\""
      ]
     },
     "metadata": {},
     "output_type": "display_data"
    },
    {
     "data": {
      "text/plain": [
       "\"DB: opt gap = 3.72261727124187e-6\""
      ]
     },
     "metadata": {},
     "output_type": "display_data"
    },
    {
     "data": {
      "text/plain": [
       "\">>>>>> iteration 22:O\""
      ]
     },
     "metadata": {},
     "output_type": "display_data"
    },
    {
     "data": {
      "text/plain": [
       "\"DB: opt gap = 2.9532702668523977e-6\""
      ]
     },
     "metadata": {},
     "output_type": "display_data"
    },
    {
     "data": {
      "text/plain": [
       "\"time M 50.956000089645386 | time D 84.87599682807922\""
      ]
     },
     "metadata": {},
     "output_type": "display_data"
    },
    {
     "data": {
      "text/plain": [
       "\"evaluating 48 scenarios| option 3\""
      ]
     },
     "metadata": {},
     "output_type": "display_data"
    },
    {
     "data": {
      "text/plain": [
       "\"DB: opt gap = 1.0\""
      ]
     },
     "metadata": {},
     "output_type": "display_data"
    },
    {
     "data": {
      "text/plain": [
       "\">>>>>> iteration 1:O\""
      ]
     },
     "metadata": {},
     "output_type": "display_data"
    },
    {
     "data": {
      "text/plain": [
       "\"DB: opt gap = 1.0\""
      ]
     },
     "metadata": {},
     "output_type": "display_data"
    },
    {
     "data": {
      "text/plain": [
       "\">>>>>> iteration 2:O\""
      ]
     },
     "metadata": {},
     "output_type": "display_data"
    },
    {
     "data": {
      "text/plain": [
       "\"DB: opt gap = 1.0\""
      ]
     },
     "metadata": {},
     "output_type": "display_data"
    },
    {
     "data": {
      "text/plain": [
       "\">>>>>> iteration 3:O\""
      ]
     },
     "metadata": {},
     "output_type": "display_data"
    },
    {
     "data": {
      "text/plain": [
       "\"DB: opt gap = 1.0\""
      ]
     },
     "metadata": {},
     "output_type": "display_data"
    },
    {
     "data": {
      "text/plain": [
       "\">>>>>> iteration 4:O\""
      ]
     },
     "metadata": {},
     "output_type": "display_data"
    },
    {
     "data": {
      "text/plain": [
       "\"DB: opt gap = 1.0\""
      ]
     },
     "metadata": {},
     "output_type": "display_data"
    },
    {
     "data": {
      "text/plain": [
       "\">>>>>> iteration 5:O\""
      ]
     },
     "metadata": {},
     "output_type": "display_data"
    },
    {
     "data": {
      "text/plain": [
       "\"DB: opt gap = 1.0\""
      ]
     },
     "metadata": {},
     "output_type": "display_data"
    },
    {
     "data": {
      "text/plain": [
       "\">>>>>> iteration 6:O\""
      ]
     },
     "metadata": {},
     "output_type": "display_data"
    },
    {
     "data": {
      "text/plain": [
       "\"DB: opt gap = 1.0\""
      ]
     },
     "metadata": {},
     "output_type": "display_data"
    },
    {
     "data": {
      "text/plain": [
       "\">>>>>> iteration 7:O\""
      ]
     },
     "metadata": {},
     "output_type": "display_data"
    },
    {
     "data": {
      "text/plain": [
       "\"DB: opt gap = 1.0\""
      ]
     },
     "metadata": {},
     "output_type": "display_data"
    },
    {
     "data": {
      "text/plain": [
       "\">>>>>> iteration 8:O\""
      ]
     },
     "metadata": {},
     "output_type": "display_data"
    },
    {
     "data": {
      "text/plain": [
       "\"DB: opt gap = 1.0\""
      ]
     },
     "metadata": {},
     "output_type": "display_data"
    },
    {
     "data": {
      "text/plain": [
       "\">>>>>> iteration 9:O\""
      ]
     },
     "metadata": {},
     "output_type": "display_data"
    },
    {
     "data": {
      "text/plain": [
       "\"DB: opt gap = 0.17708153206976845\""
      ]
     },
     "metadata": {},
     "output_type": "display_data"
    },
    {
     "data": {
      "text/plain": [
       "\">>>>>> iteration 10:O\""
      ]
     },
     "metadata": {},
     "output_type": "display_data"
    },
    {
     "data": {
      "text/plain": [
       "\"DB: opt gap = 0.17694462656165785\""
      ]
     },
     "metadata": {},
     "output_type": "display_data"
    },
    {
     "data": {
      "text/plain": [
       "\">>>>>> iteration 11:O\""
      ]
     },
     "metadata": {},
     "output_type": "display_data"
    },
    {
     "data": {
      "text/plain": [
       "\"DB: opt gap = 0.17661483259919136\""
      ]
     },
     "metadata": {},
     "output_type": "display_data"
    },
    {
     "data": {
      "text/plain": [
       "\">>>>>> iteration 12:O\""
      ]
     },
     "metadata": {},
     "output_type": "display_data"
    },
    {
     "data": {
      "text/plain": [
       "\"DB: opt gap = 0.17646554710691495\""
      ]
     },
     "metadata": {},
     "output_type": "display_data"
    },
    {
     "data": {
      "text/plain": [
       "\">>>>>> iteration 13:O\""
      ]
     },
     "metadata": {},
     "output_type": "display_data"
    },
    {
     "data": {
      "text/plain": [
       "\"DB: opt gap = 0.1762310076158374\""
      ]
     },
     "metadata": {},
     "output_type": "display_data"
    },
    {
     "data": {
      "text/plain": [
       "\">>>>>> iteration 14:O\""
      ]
     },
     "metadata": {},
     "output_type": "display_data"
    },
    {
     "data": {
      "text/plain": [
       "\"DB: opt gap = 0.17580324417545048\""
      ]
     },
     "metadata": {},
     "output_type": "display_data"
    },
    {
     "data": {
      "text/plain": [
       "\">>>>>> iteration 15:O\""
      ]
     },
     "metadata": {},
     "output_type": "display_data"
    },
    {
     "data": {
      "text/plain": [
       "\">>>>>> iteration 16:F\""
      ]
     },
     "metadata": {},
     "output_type": "display_data"
    },
    {
     "data": {
      "text/plain": [
       "\"DB: opt gap = 1.4614825275415329e-6\""
      ]
     },
     "metadata": {},
     "output_type": "display_data"
    },
    {
     "data": {
      "text/plain": [
       "\">>>>>> iteration 17:O\""
      ]
     },
     "metadata": {},
     "output_type": "display_data"
    },
    {
     "data": {
      "text/plain": [
       "\"DB: opt gap = 6.833980979120986e-7\""
      ]
     },
     "metadata": {},
     "output_type": "display_data"
    },
    {
     "data": {
      "text/plain": [
       "\"time M 38.73300004005432 | time D 70.64500045776367\""
      ]
     },
     "metadata": {},
     "output_type": "display_data"
    },
    {
     "data": {
      "text/plain": [
       "\"evaluating 49 scenarios| option 3\""
      ]
     },
     "metadata": {},
     "output_type": "display_data"
    },
    {
     "data": {
      "text/plain": [
       "\"DB: opt gap = 1.0\""
      ]
     },
     "metadata": {},
     "output_type": "display_data"
    },
    {
     "data": {
      "text/plain": [
       "\">>>>>> iteration 1:O\""
      ]
     },
     "metadata": {},
     "output_type": "display_data"
    },
    {
     "data": {
      "text/plain": [
       "\"DB: opt gap = 1.0\""
      ]
     },
     "metadata": {},
     "output_type": "display_data"
    },
    {
     "data": {
      "text/plain": [
       "\">>>>>> iteration 2:O\""
      ]
     },
     "metadata": {},
     "output_type": "display_data"
    },
    {
     "data": {
      "text/plain": [
       "\"DB: opt gap = 1.0\""
      ]
     },
     "metadata": {},
     "output_type": "display_data"
    },
    {
     "data": {
      "text/plain": [
       "\">>>>>> iteration 3:O\""
      ]
     },
     "metadata": {},
     "output_type": "display_data"
    },
    {
     "data": {
      "text/plain": [
       "\"DB: opt gap = 1.0\""
      ]
     },
     "metadata": {},
     "output_type": "display_data"
    },
    {
     "data": {
      "text/plain": [
       "\">>>>>> iteration 4:O\""
      ]
     },
     "metadata": {},
     "output_type": "display_data"
    },
    {
     "data": {
      "text/plain": [
       "\"DB: opt gap = 1.0\""
      ]
     },
     "metadata": {},
     "output_type": "display_data"
    },
    {
     "data": {
      "text/plain": [
       "\">>>>>> iteration 5:O\""
      ]
     },
     "metadata": {},
     "output_type": "display_data"
    },
    {
     "data": {
      "text/plain": [
       "\"DB: opt gap = 1.0\""
      ]
     },
     "metadata": {},
     "output_type": "display_data"
    },
    {
     "data": {
      "text/plain": [
       "\">>>>>> iteration 6:O\""
      ]
     },
     "metadata": {},
     "output_type": "display_data"
    },
    {
     "data": {
      "text/plain": [
       "\"DB: opt gap = 1.0\""
      ]
     },
     "metadata": {},
     "output_type": "display_data"
    },
    {
     "data": {
      "text/plain": [
       "\">>>>>> iteration 7:O\""
      ]
     },
     "metadata": {},
     "output_type": "display_data"
    },
    {
     "data": {
      "text/plain": [
       "\"DB: opt gap = 1.0\""
      ]
     },
     "metadata": {},
     "output_type": "display_data"
    },
    {
     "data": {
      "text/plain": [
       "\">>>>>> iteration 8:O\""
      ]
     },
     "metadata": {},
     "output_type": "display_data"
    },
    {
     "data": {
      "text/plain": [
       "\"DB: opt gap = 1.0\""
      ]
     },
     "metadata": {},
     "output_type": "display_data"
    },
    {
     "data": {
      "text/plain": [
       "\">>>>>> iteration 9:O\""
      ]
     },
     "metadata": {},
     "output_type": "display_data"
    },
    {
     "data": {
      "text/plain": [
       "\"DB: opt gap = 1.0\""
      ]
     },
     "metadata": {},
     "output_type": "display_data"
    },
    {
     "data": {
      "text/plain": [
       "\">>>>>> iteration 10:O\""
      ]
     },
     "metadata": {},
     "output_type": "display_data"
    },
    {
     "data": {
      "text/plain": [
       "\"DB: opt gap = 0.1562172683862849\""
      ]
     },
     "metadata": {},
     "output_type": "display_data"
    },
    {
     "data": {
      "text/plain": [
       "\">>>>>> iteration 11:O\""
      ]
     },
     "metadata": {},
     "output_type": "display_data"
    },
    {
     "data": {
      "text/plain": [
       "\"DB: opt gap = 0.15610233505987098\""
      ]
     },
     "metadata": {},
     "output_type": "display_data"
    },
    {
     "data": {
      "text/plain": [
       "\">>>>>> iteration 12:O\""
      ]
     },
     "metadata": {},
     "output_type": "display_data"
    },
    {
     "data": {
      "text/plain": [
       "\"DB: opt gap = 0.15585159896010845\""
      ]
     },
     "metadata": {},
     "output_type": "display_data"
    },
    {
     "data": {
      "text/plain": [
       "\">>>>>> iteration 13:O\""
      ]
     },
     "metadata": {},
     "output_type": "display_data"
    },
    {
     "data": {
      "text/plain": [
       "\"DB: opt gap = 0.1558308813932031\""
      ]
     },
     "metadata": {},
     "output_type": "display_data"
    },
    {
     "data": {
      "text/plain": [
       "\">>>>>> iteration 14:O\""
      ]
     },
     "metadata": {},
     "output_type": "display_data"
    },
    {
     "data": {
      "text/plain": [
       "\">>>>>> iteration 15:F\""
      ]
     },
     "metadata": {},
     "output_type": "display_data"
    },
    {
     "data": {
      "text/plain": [
       "\"DB: opt gap = 0.15554739536236978\""
      ]
     },
     "metadata": {},
     "output_type": "display_data"
    },
    {
     "data": {
      "text/plain": [
       "\">>>>>> iteration 16:O\""
      ]
     },
     "metadata": {},
     "output_type": "display_data"
    },
    {
     "data": {
      "text/plain": [
       "\"DB: opt gap = 0.15484611911279322\""
      ]
     },
     "metadata": {},
     "output_type": "display_data"
    },
    {
     "data": {
      "text/plain": [
       "\">>>>>> iteration 17:O\""
      ]
     },
     "metadata": {},
     "output_type": "display_data"
    },
    {
     "data": {
      "text/plain": [
       "\"DB: opt gap = 0.1544815512095957\""
      ]
     },
     "metadata": {},
     "output_type": "display_data"
    },
    {
     "data": {
      "text/plain": [
       "\">>>>>> iteration 18:O\""
      ]
     },
     "metadata": {},
     "output_type": "display_data"
    },
    {
     "data": {
      "text/plain": [
       "\"DB: opt gap = 0.15416232201163335\""
      ]
     },
     "metadata": {},
     "output_type": "display_data"
    },
    {
     "data": {
      "text/plain": [
       "\">>>>>> iteration 19:O\""
      ]
     },
     "metadata": {},
     "output_type": "display_data"
    },
    {
     "data": {
      "text/plain": [
       "\"DB: opt gap = 0.15394791114188525\""
      ]
     },
     "metadata": {},
     "output_type": "display_data"
    },
    {
     "data": {
      "text/plain": [
       "\">>>>>> iteration 20:O\""
      ]
     },
     "metadata": {},
     "output_type": "display_data"
    },
    {
     "data": {
      "text/plain": [
       "\"DB: opt gap = 0.15384107898883004\""
      ]
     },
     "metadata": {},
     "output_type": "display_data"
    },
    {
     "data": {
      "text/plain": [
       "\">>>>>> iteration 21:O\""
      ]
     },
     "metadata": {},
     "output_type": "display_data"
    },
    {
     "data": {
      "text/plain": [
       "\"DB: opt gap = 4.187282621590426e-6\""
      ]
     },
     "metadata": {},
     "output_type": "display_data"
    },
    {
     "data": {
      "text/plain": [
       "\"time M 57.93899989128113 | time D 90.64699816703796\""
      ]
     },
     "metadata": {},
     "output_type": "display_data"
    },
    {
     "data": {
      "text/plain": [
       "\"evaluating 50 scenarios| option 3\""
      ]
     },
     "metadata": {},
     "output_type": "display_data"
    },
    {
     "data": {
      "text/plain": [
       "\"DB: opt gap = 1.0\""
      ]
     },
     "metadata": {},
     "output_type": "display_data"
    },
    {
     "data": {
      "text/plain": [
       "\">>>>>> iteration 1:O\""
      ]
     },
     "metadata": {},
     "output_type": "display_data"
    },
    {
     "data": {
      "text/plain": [
       "\"DB: opt gap = 1.0\""
      ]
     },
     "metadata": {},
     "output_type": "display_data"
    },
    {
     "data": {
      "text/plain": [
       "\">>>>>> iteration 2:O\""
      ]
     },
     "metadata": {},
     "output_type": "display_data"
    },
    {
     "data": {
      "text/plain": [
       "\"DB: opt gap = 1.0\""
      ]
     },
     "metadata": {},
     "output_type": "display_data"
    },
    {
     "data": {
      "text/plain": [
       "\">>>>>> iteration 3:O\""
      ]
     },
     "metadata": {},
     "output_type": "display_data"
    },
    {
     "data": {
      "text/plain": [
       "\"DB: opt gap = 1.0\""
      ]
     },
     "metadata": {},
     "output_type": "display_data"
    },
    {
     "data": {
      "text/plain": [
       "\">>>>>> iteration 4:O\""
      ]
     },
     "metadata": {},
     "output_type": "display_data"
    },
    {
     "data": {
      "text/plain": [
       "\"DB: opt gap = 1.0\""
      ]
     },
     "metadata": {},
     "output_type": "display_data"
    },
    {
     "data": {
      "text/plain": [
       "\">>>>>> iteration 5:O\""
      ]
     },
     "metadata": {},
     "output_type": "display_data"
    },
    {
     "data": {
      "text/plain": [
       "\"DB: opt gap = 1.0\""
      ]
     },
     "metadata": {},
     "output_type": "display_data"
    },
    {
     "data": {
      "text/plain": [
       "\">>>>>> iteration 6:O\""
      ]
     },
     "metadata": {},
     "output_type": "display_data"
    },
    {
     "data": {
      "text/plain": [
       "\"DB: opt gap = 1.0\""
      ]
     },
     "metadata": {},
     "output_type": "display_data"
    },
    {
     "data": {
      "text/plain": [
       "\">>>>>> iteration 7:O\""
      ]
     },
     "metadata": {},
     "output_type": "display_data"
    },
    {
     "data": {
      "text/plain": [
       "\"DB: opt gap = 1.0\""
      ]
     },
     "metadata": {},
     "output_type": "display_data"
    },
    {
     "data": {
      "text/plain": [
       "\">>>>>> iteration 8:O\""
      ]
     },
     "metadata": {},
     "output_type": "display_data"
    },
    {
     "data": {
      "text/plain": [
       "\"DB: opt gap = 1.0\""
      ]
     },
     "metadata": {},
     "output_type": "display_data"
    },
    {
     "data": {
      "text/plain": [
       "\">>>>>> iteration 9:O\""
      ]
     },
     "metadata": {},
     "output_type": "display_data"
    },
    {
     "data": {
      "text/plain": [
       "\"DB: opt gap = 0.1626847616311151\""
      ]
     },
     "metadata": {},
     "output_type": "display_data"
    },
    {
     "data": {
      "text/plain": [
       "\">>>>>> iteration 10:O\""
      ]
     },
     "metadata": {},
     "output_type": "display_data"
    },
    {
     "data": {
      "text/plain": [
       "\"DB: opt gap = 0.1625690776607586\""
      ]
     },
     "metadata": {},
     "output_type": "display_data"
    },
    {
     "data": {
      "text/plain": [
       "\">>>>>> iteration 11:O\""
      ]
     },
     "metadata": {},
     "output_type": "display_data"
    },
    {
     "data": {
      "text/plain": [
       "\">>>>>> iteration 12:F\""
      ]
     },
     "metadata": {},
     "output_type": "display_data"
    },
    {
     "data": {
      "text/plain": [
       "\"DB: opt gap = 0.1623154563761474\""
      ]
     },
     "metadata": {},
     "output_type": "display_data"
    },
    {
     "data": {
      "text/plain": [
       "\">>>>>> iteration 13:O\""
      ]
     },
     "metadata": {},
     "output_type": "display_data"
    },
    {
     "data": {
      "text/plain": [
       "\"DB: opt gap = 0.16219811988337063\""
      ]
     },
     "metadata": {},
     "output_type": "display_data"
    },
    {
     "data": {
      "text/plain": [
       "\">>>>>> iteration 14:O\""
      ]
     },
     "metadata": {},
     "output_type": "display_data"
    },
    {
     "data": {
      "text/plain": [
       "\"DB: opt gap = 0.16195076556051557\""
      ]
     },
     "metadata": {},
     "output_type": "display_data"
    },
    {
     "data": {
      "text/plain": [
       "\">>>>>> iteration 15:O\""
      ]
     },
     "metadata": {},
     "output_type": "display_data"
    },
    {
     "data": {
      "text/plain": [
       "\"DB: opt gap = 0.16156990981054742\""
      ]
     },
     "metadata": {},
     "output_type": "display_data"
    },
    {
     "data": {
      "text/plain": [
       "\">>>>>> iteration 16:O\""
      ]
     },
     "metadata": {},
     "output_type": "display_data"
    },
    {
     "data": {
      "text/plain": [
       "\"DB: opt gap = 0.1576424960501086\""
      ]
     },
     "metadata": {},
     "output_type": "display_data"
    },
    {
     "data": {
      "text/plain": [
       "\">>>>>> iteration 17:O\""
      ]
     },
     "metadata": {},
     "output_type": "display_data"
    },
    {
     "data": {
      "text/plain": [
       "\"DB: opt gap = 0.15747299565650286\""
      ]
     },
     "metadata": {},
     "output_type": "display_data"
    },
    {
     "data": {
      "text/plain": [
       "\">>>>>> iteration 18:O\""
      ]
     },
     "metadata": {},
     "output_type": "display_data"
    },
    {
     "data": {
      "text/plain": [
       "\"DB: opt gap = 0.15597708066766103\""
      ]
     },
     "metadata": {},
     "output_type": "display_data"
    },
    {
     "data": {
      "text/plain": [
       "\">>>>>> iteration 19:O\""
      ]
     },
     "metadata": {},
     "output_type": "display_data"
    },
    {
     "data": {
      "text/plain": [
       "\"DB: opt gap = 0.1558809978051172\""
      ]
     },
     "metadata": {},
     "output_type": "display_data"
    },
    {
     "data": {
      "text/plain": [
       "\">>>>>> iteration 20:O\""
      ]
     },
     "metadata": {},
     "output_type": "display_data"
    },
    {
     "data": {
      "text/plain": [
       "\"DB: opt gap = 0.15554773507643224\""
      ]
     },
     "metadata": {},
     "output_type": "display_data"
    },
    {
     "data": {
      "text/plain": [
       "\">>>>>> iteration 21:O\""
      ]
     },
     "metadata": {},
     "output_type": "display_data"
    },
    {
     "data": {
      "text/plain": [
       "\"DB: opt gap = 0.15545022884204734\""
      ]
     },
     "metadata": {},
     "output_type": "display_data"
    },
    {
     "data": {
      "text/plain": [
       "\">>>>>> iteration 22:O\""
      ]
     },
     "metadata": {},
     "output_type": "display_data"
    },
    {
     "data": {
      "text/plain": [
       "\"DB: opt gap = 3.46951662677653e-5\""
      ]
     },
     "metadata": {},
     "output_type": "display_data"
    },
    {
     "data": {
      "text/plain": [
       "\"time M 44.799999952316284 | time D 93.66799879074097\""
      ]
     },
     "metadata": {},
     "output_type": "display_data"
    }
   ],
   "source": [
    "# testing the number of scenarios\n",
    "nScenMax = 50 # 3 | 30 | 50 \n",
    "\n",
    "#preparing plot \n",
    "# --> monolithic vs. decomposed \n",
    "# solution time\n",
    "solTimeTraj_s = Matrix{Float64}(undef,2,nScenMax) \n",
    "# computed objective function\n",
    "solObjTraj_s = Matrix{Float64}(undef,2,nScenMax) \n",
    "# --> only decomposed\n",
    "# max solution time over all scenarios \n",
    "solTimeMaxTraj_s = Vector{Float64}(undef,nScenMax) \n",
    "# number of iterations\n",
    "iterTraj_s = Vector{Float64}(undef,nScenMax) \n",
    "# optimality gap\n",
    "optGapTraj_s = Vector{Float64}(undef,nScenMax) \n",
    "\n",
    "# number of reactors in parallel\n",
    "nReactors = 1\n",
    "# Number of states\n",
    "nx = 2*nReactors\n",
    "\n",
    "# Initial conditions (deviation form)\n",
    "xInit_0 = repeat([0.3583;0.6418] .- x0, outer = [nReactors,1])\n",
    "uInit_0 = 1.0 - u0;\n",
    "\n",
    "#option = 1 --> Unconstrained MPC\n",
    "#option = 2 --> Constrained MPC with binaries --> DOES NOT WORK YET!\n",
    "#option = 3 --> Constrained MPC with MPCC\n",
    "opti = 3\n",
    "    \n",
    "# Computing nominal solution #\n",
    "#number of scenarios \n",
    "scenNom = 1\n",
    "#equiprobable scenarios\n",
    "pNom = 1.0\n",
    "#number of reactors \n",
    "reacNom = 1\n",
    "# number of states of the nominal solution\n",
    "nx = 2*reacNom\n",
    "\n",
    "solNominal = MS_CLDRTO(x0,u0,reacNom,scenNom,pNom,0,opti); \n",
    "\n",
    "for ss = 1:nScenMax\n",
    "    display(\"evaluating $(ss) scenarios| option $(opti)\")\n",
    "\n",
    "    #number os scenarios\n",
    "    nScen = ss\n",
    "    #equiprobable scenarios\n",
    "    pScen = 1.0/nScen\n",
    "       \n",
    "    # solving monolithical problem \n",
    "    sol_m_Dict = MS_CLDRTO(xInit_0,uInit_0,nReactors,nScen,pScen,solNominal,opti)\n",
    "\n",
    "    # solving decomposed problem\n",
    "    sol_d_Dict = BENS_CLDRTO(xInit_0,uInit_0,nReactors,nScen,pScen,solNominal,opti)\n",
    "    \n",
    "    # for plotting\n",
    "    display(\"time M $(sol_m_Dict['t']) | time D $(sol_d_Dict['t'])\")\n",
    "    solTimeTraj_s[1,ss] = sol_m_Dict['t']\n",
    "    solTimeTraj_s[2,ss] = sol_d_Dict['t']\n",
    "    solObjTraj_s[1,ss] = sol_m_Dict['ϕ']\n",
    "    solObjTraj_s[2,ss] = sol_d_Dict['ϕ']\n",
    "    \n",
    "    solTimeMaxTraj_s[ss] = sol_d_Dict['m']\n",
    "    iterTraj_s[ss] = sol_d_Dict['i'] \n",
    "    optGapTraj_s[ss] = sol_d_Dict['g']\n",
    "end\n"
   ]
  },
  {
   "cell_type": "code",
   "execution_count": 15,
   "id": "a37c83ea",
   "metadata": {},
   "outputs": [],
   "source": [
    "# solObjTraj_s[2,32] = NaN\n",
    "# solObjTraj_s[2,34] = NaN\n",
    "# optGapTraj_s[32] = NaN\n",
    "# optGapTraj_s[34] = NaN\n",
    "# solTimeMaxTraj_s[32] = NaN\n",
    "# solTimeMaxTraj_s[34] = NaN\n",
    "# solTimeTraj_s[2,32] = NaN\n",
    "# solTimeTraj_s[2,34] = NaN;"
   ]
  },
  {
   "cell_type": "code",
   "execution_count": 16,
   "id": "06275755",
   "metadata": {},
   "outputs": [
    {
     "data": {
      "image/svg+xml": [
       "<?xml version=\"1.0\" encoding=\"utf-8\"?>\n",
       "<svg xmlns=\"http://www.w3.org/2000/svg\" xmlns:xlink=\"http://www.w3.org/1999/xlink\" width=\"600\" height=\"400\" viewBox=\"0 0 2400 1600\">\n",
       "<defs>\n",
       "  <clipPath id=\"clip480\">\n",
       "    <rect x=\"0\" y=\"0\" width=\"2400\" height=\"1600\"/>\n",
       "  </clipPath>\n",
       "</defs>\n",
       "<path clip-path=\"url(#clip480)\" d=\"M0 1600 L2400 1600 L2400 0 L0 0  Z\" fill=\"#ffffff\" fill-rule=\"evenodd\" fill-opacity=\"1\"/>\n",
       "<defs>\n",
       "  <clipPath id=\"clip481\">\n",
       "    <rect x=\"480\" y=\"0\" width=\"1681\" height=\"1600\"/>\n",
       "  </clipPath>\n",
       "</defs>\n",
       "<path clip-path=\"url(#clip480)\" d=\"M205.121 1423.18 L2352.76 1423.18 L2352.76 47.2441 L205.121 47.2441  Z\" fill=\"#ffffff\" fill-rule=\"evenodd\" fill-opacity=\"1\"/>\n",
       "<defs>\n",
       "  <clipPath id=\"clip482\">\n",
       "    <rect x=\"205\" y=\"47\" width=\"2149\" height=\"1377\"/>\n",
       "  </clipPath>\n",
       "</defs>\n",
       "<polyline clip-path=\"url(#clip482)\" style=\"stroke:#000000; stroke-linecap:round; stroke-linejoin:round; stroke-width:8; stroke-opacity:0.1; fill:none\" points=\"224.555,1423.18 224.555,47.2441 \"/>\n",
       "<polyline clip-path=\"url(#clip482)\" style=\"stroke:#000000; stroke-linecap:round; stroke-linejoin:round; stroke-width:8; stroke-opacity:0.1; fill:none\" points=\"638.039,1423.18 638.039,47.2441 \"/>\n",
       "<polyline clip-path=\"url(#clip482)\" style=\"stroke:#000000; stroke-linecap:round; stroke-linejoin:round; stroke-width:8; stroke-opacity:0.1; fill:none\" points=\"1051.52,1423.18 1051.52,47.2441 \"/>\n",
       "<polyline clip-path=\"url(#clip482)\" style=\"stroke:#000000; stroke-linecap:round; stroke-linejoin:round; stroke-width:8; stroke-opacity:0.1; fill:none\" points=\"1465.01,1423.18 1465.01,47.2441 \"/>\n",
       "<polyline clip-path=\"url(#clip482)\" style=\"stroke:#000000; stroke-linecap:round; stroke-linejoin:round; stroke-width:8; stroke-opacity:0.1; fill:none\" points=\"1878.49,1423.18 1878.49,47.2441 \"/>\n",
       "<polyline clip-path=\"url(#clip482)\" style=\"stroke:#000000; stroke-linecap:round; stroke-linejoin:round; stroke-width:8; stroke-opacity:0.1; fill:none\" points=\"2291.97,1423.18 2291.97,47.2441 \"/>\n",
       "<polyline clip-path=\"url(#clip480)\" style=\"stroke:#000000; stroke-linecap:round; stroke-linejoin:round; stroke-width:4; stroke-opacity:1; fill:none\" points=\"205.121,1423.18 2352.76,1423.18 \"/>\n",
       "<polyline clip-path=\"url(#clip480)\" style=\"stroke:#000000; stroke-linecap:round; stroke-linejoin:round; stroke-width:4; stroke-opacity:1; fill:none\" points=\"224.555,1423.18 224.555,1404.28 \"/>\n",
       "<polyline clip-path=\"url(#clip480)\" style=\"stroke:#000000; stroke-linecap:round; stroke-linejoin:round; stroke-width:4; stroke-opacity:1; fill:none\" points=\"638.039,1423.18 638.039,1404.28 \"/>\n",
       "<polyline clip-path=\"url(#clip480)\" style=\"stroke:#000000; stroke-linecap:round; stroke-linejoin:round; stroke-width:4; stroke-opacity:1; fill:none\" points=\"1051.52,1423.18 1051.52,1404.28 \"/>\n",
       "<polyline clip-path=\"url(#clip480)\" style=\"stroke:#000000; stroke-linecap:round; stroke-linejoin:round; stroke-width:4; stroke-opacity:1; fill:none\" points=\"1465.01,1423.18 1465.01,1404.28 \"/>\n",
       "<polyline clip-path=\"url(#clip480)\" style=\"stroke:#000000; stroke-linecap:round; stroke-linejoin:round; stroke-width:4; stroke-opacity:1; fill:none\" points=\"1878.49,1423.18 1878.49,1404.28 \"/>\n",
       "<polyline clip-path=\"url(#clip480)\" style=\"stroke:#000000; stroke-linecap:round; stroke-linejoin:round; stroke-width:4; stroke-opacity:1; fill:none\" points=\"2291.97,1423.18 2291.97,1404.28 \"/>\n",
       "<path clip-path=\"url(#clip480)\" d=\"M224.555 1454.1 Q220.944 1454.1 219.115 1457.66 Q217.309 1461.2 217.309 1468.33 Q217.309 1475.44 219.115 1479.01 Q220.944 1482.55 224.555 1482.55 Q228.189 1482.55 229.994 1479.01 Q231.823 1475.44 231.823 1468.33 Q231.823 1461.2 229.994 1457.66 Q228.189 1454.1 224.555 1454.1 M224.555 1450.39 Q230.365 1450.39 233.42 1455 Q236.499 1459.58 236.499 1468.33 Q236.499 1477.06 233.42 1481.67 Q230.365 1486.25 224.555 1486.25 Q218.745 1486.25 215.666 1481.67 Q212.61 1477.06 212.61 1468.33 Q212.61 1459.58 215.666 1455 Q218.745 1450.39 224.555 1450.39 Z\" fill=\"#000000\" fill-rule=\"evenodd\" fill-opacity=\"1\" /><path clip-path=\"url(#clip480)\" d=\"M612.726 1481.64 L620.365 1481.64 L620.365 1455.28 L612.055 1456.95 L612.055 1452.69 L620.319 1451.02 L624.995 1451.02 L624.995 1481.64 L632.633 1481.64 L632.633 1485.58 L612.726 1485.58 L612.726 1481.64 Z\" fill=\"#000000\" fill-rule=\"evenodd\" fill-opacity=\"1\" /><path clip-path=\"url(#clip480)\" d=\"M652.078 1454.1 Q648.467 1454.1 646.638 1457.66 Q644.832 1461.2 644.832 1468.33 Q644.832 1475.44 646.638 1479.01 Q648.467 1482.55 652.078 1482.55 Q655.712 1482.55 657.518 1479.01 Q659.346 1475.44 659.346 1468.33 Q659.346 1461.2 657.518 1457.66 Q655.712 1454.1 652.078 1454.1 M652.078 1450.39 Q657.888 1450.39 660.943 1455 Q664.022 1459.58 664.022 1468.33 Q664.022 1477.06 660.943 1481.67 Q657.888 1486.25 652.078 1486.25 Q646.268 1486.25 643.189 1481.67 Q640.133 1477.06 640.133 1468.33 Q640.133 1459.58 643.189 1455 Q646.268 1450.39 652.078 1450.39 Z\" fill=\"#000000\" fill-rule=\"evenodd\" fill-opacity=\"1\" /><path clip-path=\"url(#clip480)\" d=\"M1030.3 1481.64 L1046.61 1481.64 L1046.61 1485.58 L1024.67 1485.58 L1024.67 1481.64 Q1027.33 1478.89 1031.92 1474.26 Q1036.52 1469.61 1037.7 1468.27 Q1039.95 1465.74 1040.83 1464.01 Q1041.73 1462.25 1041.73 1460.56 Q1041.73 1457.8 1039.79 1456.07 Q1037.87 1454.33 1034.76 1454.33 Q1032.56 1454.33 1030.11 1455.09 Q1027.68 1455.86 1024.9 1457.41 L1024.9 1452.69 Q1027.73 1451.55 1030.18 1450.97 Q1032.63 1450.39 1034.67 1450.39 Q1040.04 1450.39 1043.24 1453.08 Q1046.43 1455.77 1046.43 1460.26 Q1046.43 1462.39 1045.62 1464.31 Q1044.83 1466.2 1042.73 1468.8 Q1042.15 1469.47 1039.05 1472.69 Q1035.94 1475.88 1030.3 1481.64 Z\" fill=\"#000000\" fill-rule=\"evenodd\" fill-opacity=\"1\" /><path clip-path=\"url(#clip480)\" d=\"M1066.43 1454.1 Q1062.82 1454.1 1060.99 1457.66 Q1059.18 1461.2 1059.18 1468.33 Q1059.18 1475.44 1060.99 1479.01 Q1062.82 1482.55 1066.43 1482.55 Q1070.06 1482.55 1071.87 1479.01 Q1073.7 1475.44 1073.7 1468.33 Q1073.7 1461.2 1071.87 1457.66 Q1070.06 1454.1 1066.43 1454.1 M1066.43 1450.39 Q1072.24 1450.39 1075.3 1455 Q1078.37 1459.58 1078.37 1468.33 Q1078.37 1477.06 1075.3 1481.67 Q1072.24 1486.25 1066.43 1486.25 Q1060.62 1486.25 1057.54 1481.67 Q1054.49 1477.06 1054.49 1468.33 Q1054.49 1459.58 1057.54 1455 Q1060.62 1450.39 1066.43 1450.39 Z\" fill=\"#000000\" fill-rule=\"evenodd\" fill-opacity=\"1\" /><path clip-path=\"url(#clip480)\" d=\"M1453.85 1466.95 Q1457.21 1467.66 1459.08 1469.93 Q1460.98 1472.2 1460.98 1475.53 Q1460.98 1480.65 1457.46 1483.45 Q1453.94 1486.25 1447.46 1486.25 Q1445.28 1486.25 1442.97 1485.81 Q1440.68 1485.39 1438.22 1484.54 L1438.22 1480.02 Q1440.17 1481.16 1442.48 1481.74 Q1444.8 1482.32 1447.32 1482.32 Q1451.72 1482.32 1454.01 1480.58 Q1456.33 1478.84 1456.33 1475.53 Q1456.33 1472.48 1454.17 1470.77 Q1452.04 1469.03 1448.22 1469.03 L1444.2 1469.03 L1444.2 1465.19 L1448.41 1465.19 Q1451.86 1465.19 1453.69 1463.82 Q1455.52 1462.43 1455.52 1459.84 Q1455.52 1457.18 1453.62 1455.77 Q1451.74 1454.33 1448.22 1454.33 Q1446.3 1454.33 1444.1 1454.75 Q1441.9 1455.16 1439.27 1456.04 L1439.27 1451.88 Q1441.93 1451.14 1444.24 1450.77 Q1446.58 1450.39 1448.64 1450.39 Q1453.96 1450.39 1457.07 1452.83 Q1460.17 1455.23 1460.17 1459.35 Q1460.17 1462.22 1458.52 1464.21 Q1456.88 1466.18 1453.85 1466.95 Z\" fill=\"#000000\" fill-rule=\"evenodd\" fill-opacity=\"1\" /><path clip-path=\"url(#clip480)\" d=\"M1479.84 1454.1 Q1476.23 1454.1 1474.4 1457.66 Q1472.6 1461.2 1472.6 1468.33 Q1472.6 1475.44 1474.4 1479.01 Q1476.23 1482.55 1479.84 1482.55 Q1483.48 1482.55 1485.28 1479.01 Q1487.11 1475.44 1487.11 1468.33 Q1487.11 1461.2 1485.28 1457.66 Q1483.48 1454.1 1479.84 1454.1 M1479.84 1450.39 Q1485.65 1450.39 1488.71 1455 Q1491.79 1459.58 1491.79 1468.33 Q1491.79 1477.06 1488.71 1481.67 Q1485.65 1486.25 1479.84 1486.25 Q1474.03 1486.25 1470.96 1481.67 Q1467.9 1477.06 1467.9 1468.33 Q1467.9 1459.58 1470.96 1455 Q1474.03 1450.39 1479.84 1450.39 Z\" fill=\"#000000\" fill-rule=\"evenodd\" fill-opacity=\"1\" /><path clip-path=\"url(#clip480)\" d=\"M1866.66 1455.09 L1854.86 1473.54 L1866.66 1473.54 L1866.66 1455.09 M1865.43 1451.02 L1871.31 1451.02 L1871.31 1473.54 L1876.24 1473.54 L1876.24 1477.43 L1871.31 1477.43 L1871.31 1485.58 L1866.66 1485.58 L1866.66 1477.43 L1851.06 1477.43 L1851.06 1472.92 L1865.43 1451.02 Z\" fill=\"#000000\" fill-rule=\"evenodd\" fill-opacity=\"1\" /><path clip-path=\"url(#clip480)\" d=\"M1893.98 1454.1 Q1890.36 1454.1 1888.54 1457.66 Q1886.73 1461.2 1886.73 1468.33 Q1886.73 1475.44 1888.54 1479.01 Q1890.36 1482.55 1893.98 1482.55 Q1897.61 1482.55 1899.42 1479.01 Q1901.24 1475.44 1901.24 1468.33 Q1901.24 1461.2 1899.42 1457.66 Q1897.61 1454.1 1893.98 1454.1 M1893.98 1450.39 Q1899.79 1450.39 1902.84 1455 Q1905.92 1459.58 1905.92 1468.33 Q1905.92 1477.06 1902.84 1481.67 Q1899.79 1486.25 1893.98 1486.25 Q1888.17 1486.25 1885.09 1481.67 Q1882.03 1477.06 1882.03 1468.33 Q1882.03 1459.58 1885.09 1455 Q1888.17 1450.39 1893.98 1450.39 Z\" fill=\"#000000\" fill-rule=\"evenodd\" fill-opacity=\"1\" /><path clip-path=\"url(#clip480)\" d=\"M2266.67 1451.02 L2285.03 1451.02 L2285.03 1454.96 L2270.96 1454.96 L2270.96 1463.43 Q2271.97 1463.08 2272.99 1462.92 Q2274.01 1462.73 2275.03 1462.73 Q2280.82 1462.73 2284.2 1465.9 Q2287.58 1469.08 2287.58 1474.49 Q2287.58 1480.07 2284.1 1483.17 Q2280.63 1486.25 2274.31 1486.25 Q2272.14 1486.25 2269.87 1485.88 Q2267.62 1485.51 2265.21 1484.77 L2265.21 1480.07 Q2267.3 1481.2 2269.52 1481.76 Q2271.74 1482.32 2274.22 1482.32 Q2278.22 1482.32 2280.56 1480.21 Q2282.9 1478.1 2282.9 1474.49 Q2282.9 1470.88 2280.56 1468.77 Q2278.22 1466.67 2274.22 1466.67 Q2272.34 1466.67 2270.47 1467.08 Q2268.62 1467.5 2266.67 1468.38 L2266.67 1451.02 Z\" fill=\"#000000\" fill-rule=\"evenodd\" fill-opacity=\"1\" /><path clip-path=\"url(#clip480)\" d=\"M2306.79 1454.1 Q2303.18 1454.1 2301.35 1457.66 Q2299.54 1461.2 2299.54 1468.33 Q2299.54 1475.44 2301.35 1479.01 Q2303.18 1482.55 2306.79 1482.55 Q2310.42 1482.55 2312.23 1479.01 Q2314.06 1475.44 2314.06 1468.33 Q2314.06 1461.2 2312.23 1457.66 Q2310.42 1454.1 2306.79 1454.1 M2306.79 1450.39 Q2312.6 1450.39 2315.65 1455 Q2318.73 1459.58 2318.73 1468.33 Q2318.73 1477.06 2315.65 1481.67 Q2312.6 1486.25 2306.79 1486.25 Q2300.98 1486.25 2297.9 1481.67 Q2294.84 1477.06 2294.84 1468.33 Q2294.84 1459.58 2297.9 1455 Q2300.98 1450.39 2306.79 1450.39 Z\" fill=\"#000000\" fill-rule=\"evenodd\" fill-opacity=\"1\" /><path clip-path=\"url(#clip480)\" d=\"M1118.71 1539.37 L1109.45 1539.37 L1106.78 1550 L1116.1 1550 L1118.71 1539.37 M1113.94 1521.26 L1110.63 1534.46 L1119.92 1534.46 L1123.27 1521.26 L1128.36 1521.26 L1125.08 1534.46 L1135.01 1534.46 L1135.01 1539.37 L1123.84 1539.37 L1121.23 1550 L1131.35 1550 L1131.35 1554.87 L1119.99 1554.87 L1116.68 1568.04 L1111.58 1568.04 L1114.86 1554.87 L1105.54 1554.87 L1102.26 1568.04 L1097.13 1568.04 L1100.44 1554.87 L1090.42 1554.87 L1090.42 1550 L1101.62 1550 L1104.3 1539.37 L1094.05 1539.37 L1094.05 1534.46 L1105.54 1534.46 L1108.78 1521.26 L1113.94 1521.26 Z\" fill=\"#000000\" fill-rule=\"evenodd\" fill-opacity=\"1\" /><path clip-path=\"url(#clip480)\" d=\"M1189.6 1533.45 L1189.6 1538.98 Q1187.11 1537.71 1184.44 1537.07 Q1181.77 1536.44 1178.9 1536.44 Q1174.54 1536.44 1172.34 1537.77 Q1170.18 1539.11 1170.18 1541.79 Q1170.18 1543.82 1171.74 1545 Q1173.3 1546.15 1178.01 1547.2 L1180.02 1547.64 Q1186.25 1548.98 1188.86 1551.43 Q1191.51 1553.85 1191.51 1558.21 Q1191.51 1563.17 1187.56 1566.07 Q1183.64 1568.97 1176.77 1568.97 Q1173.9 1568.97 1170.79 1568.39 Q1167.7 1567.85 1164.26 1566.74 L1164.26 1560.69 Q1167.51 1562.38 1170.66 1563.24 Q1173.81 1564.07 1176.9 1564.07 Q1181.03 1564.07 1183.26 1562.66 Q1185.49 1561.23 1185.49 1558.65 Q1185.49 1556.27 1183.87 1554.99 Q1182.28 1553.72 1176.83 1552.54 L1174.8 1552.07 Q1169.35 1550.92 1166.93 1548.56 Q1164.51 1546.18 1164.51 1542.04 Q1164.51 1537.01 1168.08 1534.27 Q1171.64 1531.54 1178.2 1531.54 Q1181.45 1531.54 1184.31 1532.01 Q1187.18 1532.49 1189.6 1533.45 Z\" fill=\"#000000\" fill-rule=\"evenodd\" fill-opacity=\"1\" /><path clip-path=\"url(#clip480)\" d=\"M1226.49 1533.76 L1226.49 1539.24 Q1224 1537.87 1221.49 1537.2 Q1219.01 1536.5 1216.46 1536.5 Q1210.76 1536.5 1207.61 1540.13 Q1204.46 1543.73 1204.46 1550.25 Q1204.46 1556.78 1207.61 1560.4 Q1210.76 1564 1216.46 1564 Q1219.01 1564 1221.49 1563.33 Q1224 1562.63 1226.49 1561.26 L1226.49 1566.68 Q1224.03 1567.82 1221.39 1568.39 Q1218.78 1568.97 1215.82 1568.97 Q1207.77 1568.97 1203.03 1563.91 Q1198.28 1558.85 1198.28 1550.25 Q1198.28 1541.53 1203.06 1536.53 Q1207.87 1531.54 1216.2 1531.54 Q1218.91 1531.54 1221.49 1532.11 Q1224.07 1532.65 1226.49 1533.76 Z\" fill=\"#000000\" fill-rule=\"evenodd\" fill-opacity=\"1\" /><path clip-path=\"url(#clip480)\" d=\"M1267.16 1548.76 L1267.16 1551.62 L1240.23 1551.62 Q1240.62 1557.67 1243.86 1560.85 Q1247.14 1564 1252.97 1564 Q1256.34 1564 1259.49 1563.17 Q1262.67 1562.35 1265.79 1560.69 L1265.79 1566.23 Q1262.64 1567.57 1259.33 1568.27 Q1256.02 1568.97 1252.62 1568.97 Q1244.09 1568.97 1239.09 1564 Q1234.12 1559.04 1234.12 1550.57 Q1234.12 1541.82 1238.83 1536.69 Q1243.58 1531.54 1251.6 1531.54 Q1258.79 1531.54 1262.96 1536.18 Q1267.16 1540.8 1267.16 1548.76 M1261.31 1547.04 Q1261.24 1542.23 1258.6 1539.37 Q1255.99 1536.5 1251.66 1536.5 Q1246.76 1536.5 1243.8 1539.27 Q1240.87 1542.04 1240.43 1547.07 L1261.31 1547.04 Z\" fill=\"#000000\" fill-rule=\"evenodd\" fill-opacity=\"1\" /><path clip-path=\"url(#clip480)\" d=\"M1306.41 1546.53 L1306.41 1568.04 L1300.55 1568.04 L1300.55 1546.72 Q1300.55 1541.66 1298.58 1539.14 Q1296.6 1536.63 1292.66 1536.63 Q1287.91 1536.63 1285.18 1539.65 Q1282.44 1542.68 1282.44 1547.9 L1282.44 1568.04 L1276.55 1568.04 L1276.55 1532.4 L1282.44 1532.4 L1282.44 1537.93 Q1284.54 1534.72 1287.37 1533.13 Q1290.24 1531.54 1293.96 1531.54 Q1300.1 1531.54 1303.26 1535.36 Q1306.41 1539.14 1306.41 1546.53 Z\" fill=\"#000000\" fill-rule=\"evenodd\" fill-opacity=\"1\" /><path clip-path=\"url(#clip480)\" d=\"M1334.29 1550.12 Q1327.19 1550.12 1324.45 1551.75 Q1321.72 1553.37 1321.72 1557.29 Q1321.72 1560.4 1323.75 1562.25 Q1325.82 1564.07 1329.35 1564.07 Q1334.22 1564.07 1337.15 1560.63 Q1340.11 1557.16 1340.11 1551.43 L1340.11 1550.12 L1334.29 1550.12 M1345.97 1547.71 L1345.97 1568.04 L1340.11 1568.04 L1340.11 1562.63 Q1338.11 1565.88 1335.12 1567.44 Q1332.12 1568.97 1327.8 1568.97 Q1322.32 1568.97 1319.07 1565.91 Q1315.86 1562.82 1315.86 1557.67 Q1315.86 1551.65 1319.87 1548.6 Q1323.91 1545.54 1331.9 1545.54 L1340.11 1545.54 L1340.11 1544.97 Q1340.11 1540.93 1337.44 1538.73 Q1334.8 1536.5 1329.99 1536.5 Q1326.94 1536.5 1324.04 1537.23 Q1321.14 1537.97 1318.47 1539.43 L1318.47 1534.02 Q1321.68 1532.78 1324.71 1532.17 Q1327.73 1531.54 1330.6 1531.54 Q1338.33 1531.54 1342.15 1535.55 Q1345.97 1539.56 1345.97 1547.71 Z\" fill=\"#000000\" fill-rule=\"evenodd\" fill-opacity=\"1\" /><path clip-path=\"url(#clip480)\" d=\"M1378.69 1537.87 Q1377.7 1537.3 1376.52 1537.04 Q1375.38 1536.76 1373.98 1536.76 Q1369.01 1536.76 1366.34 1540 Q1363.7 1543.22 1363.7 1549.27 L1363.7 1568.04 L1357.81 1568.04 L1357.81 1532.4 L1363.7 1532.4 L1363.7 1537.93 Q1365.54 1534.69 1368.5 1533.13 Q1371.46 1531.54 1375.7 1531.54 Q1376.3 1531.54 1377.03 1531.63 Q1377.77 1531.7 1378.66 1531.85 L1378.69 1537.87 Z\" fill=\"#000000\" fill-rule=\"evenodd\" fill-opacity=\"1\" /><path clip-path=\"url(#clip480)\" d=\"M1384.83 1532.4 L1390.69 1532.4 L1390.69 1568.04 L1384.83 1568.04 L1384.83 1532.4 M1384.83 1518.52 L1390.69 1518.52 L1390.69 1525.93 L1384.83 1525.93 L1384.83 1518.52 Z\" fill=\"#000000\" fill-rule=\"evenodd\" fill-opacity=\"1\" /><path clip-path=\"url(#clip480)\" d=\"M1416.76 1536.5 Q1412.05 1536.5 1409.31 1540.19 Q1406.57 1543.85 1406.57 1550.25 Q1406.57 1556.65 1409.28 1560.34 Q1412.01 1564 1416.76 1564 Q1421.43 1564 1424.17 1560.31 Q1426.91 1556.62 1426.91 1550.25 Q1426.91 1543.92 1424.17 1540.23 Q1421.43 1536.5 1416.76 1536.5 M1416.76 1531.54 Q1424.39 1531.54 1428.76 1536.5 Q1433.12 1541.47 1433.12 1550.25 Q1433.12 1559 1428.76 1564 Q1424.39 1568.97 1416.76 1568.97 Q1409.09 1568.97 1404.72 1564 Q1400.4 1559 1400.4 1550.25 Q1400.4 1541.47 1404.72 1536.5 Q1409.09 1531.54 1416.76 1531.54 Z\" fill=\"#000000\" fill-rule=\"evenodd\" fill-opacity=\"1\" /><path clip-path=\"url(#clip480)\" d=\"M1465.55 1533.45 L1465.55 1538.98 Q1463.07 1537.71 1460.39 1537.07 Q1457.72 1536.44 1454.85 1536.44 Q1450.49 1536.44 1448.3 1537.77 Q1446.13 1539.11 1446.13 1541.79 Q1446.13 1543.82 1447.69 1545 Q1449.25 1546.15 1453.96 1547.2 L1455.97 1547.64 Q1462.21 1548.98 1464.82 1551.43 Q1467.46 1553.85 1467.46 1558.21 Q1467.46 1563.17 1463.51 1566.07 Q1459.6 1568.97 1452.72 1568.97 Q1449.86 1568.97 1446.74 1568.39 Q1443.65 1567.85 1440.21 1566.74 L1440.21 1560.69 Q1443.46 1562.38 1446.61 1563.24 Q1449.76 1564.07 1452.85 1564.07 Q1456.99 1564.07 1459.22 1562.66 Q1461.44 1561.23 1461.44 1558.65 Q1461.44 1556.27 1459.82 1554.99 Q1458.23 1553.72 1452.79 1552.54 L1450.75 1552.07 Q1445.31 1550.92 1442.89 1548.56 Q1440.47 1546.18 1440.47 1542.04 Q1440.47 1537.01 1444.03 1534.27 Q1447.6 1531.54 1454.15 1531.54 Q1457.4 1531.54 1460.27 1532.01 Q1463.13 1532.49 1465.55 1533.45 Z\" fill=\"#000000\" fill-rule=\"evenodd\" fill-opacity=\"1\" /><polyline clip-path=\"url(#clip482)\" style=\"stroke:#000000; stroke-linecap:round; stroke-linejoin:round; stroke-width:8; stroke-opacity:0.1; fill:none\" points=\"205.121,1385.76 2352.76,1385.76 \"/>\n",
       "<polyline clip-path=\"url(#clip482)\" style=\"stroke:#000000; stroke-linecap:round; stroke-linejoin:round; stroke-width:8; stroke-opacity:0.1; fill:none\" points=\"205.121,1108.28 2352.76,1108.28 \"/>\n",
       "<polyline clip-path=\"url(#clip482)\" style=\"stroke:#000000; stroke-linecap:round; stroke-linejoin:round; stroke-width:8; stroke-opacity:0.1; fill:none\" points=\"205.121,830.792 2352.76,830.792 \"/>\n",
       "<polyline clip-path=\"url(#clip482)\" style=\"stroke:#000000; stroke-linecap:round; stroke-linejoin:round; stroke-width:8; stroke-opacity:0.1; fill:none\" points=\"205.121,553.306 2352.76,553.306 \"/>\n",
       "<polyline clip-path=\"url(#clip482)\" style=\"stroke:#000000; stroke-linecap:round; stroke-linejoin:round; stroke-width:8; stroke-opacity:0.1; fill:none\" points=\"205.121,275.82 2352.76,275.82 \"/>\n",
       "<polyline clip-path=\"url(#clip480)\" style=\"stroke:#000000; stroke-linecap:round; stroke-linejoin:round; stroke-width:4; stroke-opacity:1; fill:none\" points=\"205.121,1423.18 205.121,47.2441 \"/>\n",
       "<polyline clip-path=\"url(#clip480)\" style=\"stroke:#000000; stroke-linecap:round; stroke-linejoin:round; stroke-width:4; stroke-opacity:1; fill:none\" points=\"205.121,1385.76 224.019,1385.76 \"/>\n",
       "<polyline clip-path=\"url(#clip480)\" style=\"stroke:#000000; stroke-linecap:round; stroke-linejoin:round; stroke-width:4; stroke-opacity:1; fill:none\" points=\"205.121,1108.28 224.019,1108.28 \"/>\n",
       "<polyline clip-path=\"url(#clip480)\" style=\"stroke:#000000; stroke-linecap:round; stroke-linejoin:round; stroke-width:4; stroke-opacity:1; fill:none\" points=\"205.121,830.792 224.019,830.792 \"/>\n",
       "<polyline clip-path=\"url(#clip480)\" style=\"stroke:#000000; stroke-linecap:round; stroke-linejoin:round; stroke-width:4; stroke-opacity:1; fill:none\" points=\"205.121,553.306 224.019,553.306 \"/>\n",
       "<polyline clip-path=\"url(#clip480)\" style=\"stroke:#000000; stroke-linecap:round; stroke-linejoin:round; stroke-width:4; stroke-opacity:1; fill:none\" points=\"205.121,275.82 224.019,275.82 \"/>\n",
       "<path clip-path=\"url(#clip480)\" d=\"M157.177 1371.56 Q153.566 1371.56 151.737 1375.13 Q149.931 1378.67 149.931 1385.8 Q149.931 1392.91 151.737 1396.47 Q153.566 1400.01 157.177 1400.01 Q160.811 1400.01 162.616 1396.47 Q164.445 1392.91 164.445 1385.8 Q164.445 1378.67 162.616 1375.13 Q160.811 1371.56 157.177 1371.56 M157.177 1367.86 Q162.987 1367.86 166.042 1372.47 Q169.121 1377.05 169.121 1385.8 Q169.121 1394.53 166.042 1399.13 Q162.987 1403.72 157.177 1403.72 Q151.366 1403.72 148.288 1399.13 Q145.232 1394.53 145.232 1385.8 Q145.232 1377.05 148.288 1372.47 Q151.366 1367.86 157.177 1367.86 Z\" fill=\"#000000\" fill-rule=\"evenodd\" fill-opacity=\"1\" /><path clip-path=\"url(#clip480)\" d=\"M121.043 1121.62 L137.362 1121.62 L137.362 1125.56 L115.418 1125.56 L115.418 1121.62 Q118.08 1118.87 122.663 1114.24 Q127.269 1109.59 128.45 1108.24 Q130.695 1105.72 131.575 1103.98 Q132.478 1102.23 132.478 1100.54 Q132.478 1097.78 130.533 1096.04 Q128.612 1094.31 125.51 1094.31 Q123.311 1094.31 120.857 1095.07 Q118.427 1095.84 115.649 1097.39 L115.649 1092.66 Q118.473 1091.53 120.927 1090.95 Q123.38 1090.37 125.418 1090.37 Q130.788 1090.37 133.982 1093.06 Q137.177 1095.74 137.177 1100.23 Q137.177 1102.36 136.367 1104.29 Q135.579 1106.18 133.473 1108.78 Q132.894 1109.45 129.792 1112.66 Q126.691 1115.86 121.043 1121.62 Z\" fill=\"#000000\" fill-rule=\"evenodd\" fill-opacity=\"1\" /><path clip-path=\"url(#clip480)\" d=\"M157.177 1094.08 Q153.566 1094.08 151.737 1097.64 Q149.931 1101.18 149.931 1108.31 Q149.931 1115.42 151.737 1118.98 Q153.566 1122.53 157.177 1122.53 Q160.811 1122.53 162.616 1118.98 Q164.445 1115.42 164.445 1108.31 Q164.445 1101.18 162.616 1097.64 Q160.811 1094.08 157.177 1094.08 M157.177 1090.37 Q162.987 1090.37 166.042 1094.98 Q169.121 1099.56 169.121 1108.31 Q169.121 1117.04 166.042 1121.65 Q162.987 1126.23 157.177 1126.23 Q151.366 1126.23 148.288 1121.65 Q145.232 1117.04 145.232 1108.31 Q145.232 1099.56 148.288 1094.98 Q151.366 1090.37 157.177 1090.37 Z\" fill=\"#000000\" fill-rule=\"evenodd\" fill-opacity=\"1\" /><path clip-path=\"url(#clip480)\" d=\"M129.862 817.586 L118.056 836.035 L129.862 836.035 L129.862 817.586 M128.635 813.512 L134.515 813.512 L134.515 836.035 L139.445 836.035 L139.445 839.924 L134.515 839.924 L134.515 848.072 L129.862 848.072 L129.862 839.924 L114.26 839.924 L114.26 835.41 L128.635 813.512 Z\" fill=\"#000000\" fill-rule=\"evenodd\" fill-opacity=\"1\" /><path clip-path=\"url(#clip480)\" d=\"M157.177 816.591 Q153.566 816.591 151.737 820.156 Q149.931 823.697 149.931 830.827 Q149.931 837.933 151.737 841.498 Q153.566 845.04 157.177 845.04 Q160.811 845.04 162.616 841.498 Q164.445 837.933 164.445 830.827 Q164.445 823.697 162.616 820.156 Q160.811 816.591 157.177 816.591 M157.177 812.887 Q162.987 812.887 166.042 817.494 Q169.121 822.077 169.121 830.827 Q169.121 839.554 166.042 844.16 Q162.987 848.743 157.177 848.743 Q151.366 848.743 148.288 844.16 Q145.232 839.554 145.232 830.827 Q145.232 822.077 148.288 817.494 Q151.366 812.887 157.177 812.887 Z\" fill=\"#000000\" fill-rule=\"evenodd\" fill-opacity=\"1\" /><path clip-path=\"url(#clip480)\" d=\"M127.593 551.442 Q124.445 551.442 122.593 553.595 Q120.765 555.748 120.765 559.498 Q120.765 563.225 122.593 565.401 Q124.445 567.554 127.593 567.554 Q130.742 567.554 132.57 565.401 Q134.422 563.225 134.422 559.498 Q134.422 555.748 132.57 553.595 Q130.742 551.442 127.593 551.442 M136.876 536.79 L136.876 541.049 Q135.117 540.216 133.311 539.776 Q131.529 539.336 129.769 539.336 Q125.14 539.336 122.686 542.461 Q120.255 545.586 119.908 551.905 Q121.274 549.892 123.334 548.827 Q125.394 547.739 127.871 547.739 Q133.08 547.739 136.089 550.91 Q139.121 554.058 139.121 559.498 Q139.121 564.822 135.973 568.04 Q132.825 571.257 127.593 571.257 Q121.598 571.257 118.427 566.674 Q115.256 562.067 115.256 553.341 Q115.256 545.146 119.144 540.285 Q123.033 535.401 129.584 535.401 Q131.343 535.401 133.126 535.748 Q134.931 536.095 136.876 536.79 Z\" fill=\"#000000\" fill-rule=\"evenodd\" fill-opacity=\"1\" /><path clip-path=\"url(#clip480)\" d=\"M157.177 539.105 Q153.566 539.105 151.737 542.669 Q149.931 546.211 149.931 553.341 Q149.931 560.447 151.737 564.012 Q153.566 567.554 157.177 567.554 Q160.811 567.554 162.616 564.012 Q164.445 560.447 164.445 553.341 Q164.445 546.211 162.616 542.669 Q160.811 539.105 157.177 539.105 M157.177 535.401 Q162.987 535.401 166.042 540.007 Q169.121 544.591 169.121 553.341 Q169.121 562.067 166.042 566.674 Q162.987 571.257 157.177 571.257 Q151.366 571.257 148.288 566.674 Q145.232 562.067 145.232 553.341 Q145.232 544.591 148.288 540.007 Q151.366 535.401 157.177 535.401 Z\" fill=\"#000000\" fill-rule=\"evenodd\" fill-opacity=\"1\" /><path clip-path=\"url(#clip480)\" d=\"M127.015 276.688 Q123.681 276.688 121.76 278.47 Q119.862 280.253 119.862 283.378 Q119.862 286.503 121.76 288.285 Q123.681 290.067 127.015 290.067 Q130.348 290.067 132.269 288.285 Q134.191 286.479 134.191 283.378 Q134.191 280.253 132.269 278.47 Q130.371 276.688 127.015 276.688 M122.339 274.697 Q119.33 273.956 117.64 271.896 Q115.973 269.836 115.973 266.873 Q115.973 262.73 118.913 260.322 Q121.876 257.915 127.015 257.915 Q132.177 257.915 135.117 260.322 Q138.056 262.73 138.056 266.873 Q138.056 269.836 136.367 271.896 Q134.7 273.956 131.714 274.697 Q135.093 275.484 136.968 277.776 Q138.867 280.067 138.867 283.378 Q138.867 288.401 135.788 291.086 Q132.732 293.771 127.015 293.771 Q121.297 293.771 118.218 291.086 Q115.163 288.401 115.163 283.378 Q115.163 280.067 117.061 277.776 Q118.959 275.484 122.339 274.697 M120.626 267.313 Q120.626 269.998 122.293 271.503 Q123.982 273.007 127.015 273.007 Q130.024 273.007 131.714 271.503 Q133.427 269.998 133.427 267.313 Q133.427 264.628 131.714 263.123 Q130.024 261.618 127.015 261.618 Q123.982 261.618 122.293 263.123 Q120.626 264.628 120.626 267.313 Z\" fill=\"#000000\" fill-rule=\"evenodd\" fill-opacity=\"1\" /><path clip-path=\"url(#clip480)\" d=\"M157.177 261.618 Q153.566 261.618 151.737 265.183 Q149.931 268.725 149.931 275.854 Q149.931 282.961 151.737 286.526 Q153.566 290.067 157.177 290.067 Q160.811 290.067 162.616 286.526 Q164.445 282.961 164.445 275.854 Q164.445 268.725 162.616 265.183 Q160.811 261.618 157.177 261.618 M157.177 257.915 Q162.987 257.915 166.042 262.521 Q169.121 267.104 169.121 275.854 Q169.121 284.581 166.042 289.188 Q162.987 293.771 157.177 293.771 Q151.366 293.771 148.288 289.188 Q145.232 284.581 145.232 275.854 Q145.232 267.104 148.288 262.521 Q151.366 257.915 157.177 257.915 Z\" fill=\"#000000\" fill-rule=\"evenodd\" fill-opacity=\"1\" /><path clip-path=\"url(#clip480)\" d=\"M29.4065 898.413 L34.9447 898.413 Q33.6716 900.895 33.035 903.569 Q32.3984 906.243 32.3984 909.107 Q32.3984 913.468 33.7352 915.664 Q35.072 917.828 37.7456 917.828 Q39.7826 917.828 40.9603 916.269 Q42.1061 914.709 43.1565 909.998 L43.6021 907.993 Q44.9389 901.755 47.3897 899.145 Q49.8086 896.503 54.1691 896.503 Q59.1344 896.503 62.0308 900.45 Q64.9272 904.365 64.9272 911.24 Q64.9272 914.104 64.3543 917.223 Q63.8132 920.311 62.6992 923.748 L56.6518 923.748 Q58.3387 920.502 59.198 917.351 Q60.0256 914.2 60.0256 911.112 Q60.0256 906.975 58.6251 904.747 Q57.1929 902.519 54.6147 902.519 Q52.2276 902.519 50.9545 904.142 Q49.6813 905.733 48.5037 911.176 L48.0262 913.213 Q46.8804 918.656 44.5251 921.075 Q42.138 923.494 38.0002 923.494 Q32.9713 923.494 30.2341 919.929 Q27.4968 916.364 27.4968 909.807 Q27.4968 906.561 27.9743 903.696 Q28.4517 900.832 29.4065 898.413 Z\" fill=\"#000000\" fill-rule=\"evenodd\" fill-opacity=\"1\" /><path clip-path=\"url(#clip480)\" d=\"M32.4621 873.364 Q32.4621 878.074 36.1542 880.812 Q39.8145 883.549 46.212 883.549 Q52.6095 883.549 56.3017 880.843 Q59.9619 878.106 59.9619 873.364 Q59.9619 868.685 56.2698 865.948 Q52.5777 863.21 46.212 863.21 Q39.8781 863.21 36.186 865.948 Q32.4621 868.685 32.4621 873.364 M27.4968 873.364 Q27.4968 865.725 32.4621 861.364 Q37.4273 857.004 46.212 857.004 Q54.9649 857.004 59.9619 861.364 Q64.9272 865.725 64.9272 873.364 Q64.9272 881.034 59.9619 885.395 Q54.9649 889.724 46.212 889.724 Q37.4273 889.724 32.4621 885.395 Q27.4968 881.034 27.4968 873.364 Z\" fill=\"#000000\" fill-rule=\"evenodd\" fill-opacity=\"1\" /><path clip-path=\"url(#clip480)\" d=\"M14.479 847.296 L14.479 841.44 L64.0042 841.44 L64.0042 847.296 L14.479 847.296 Z\" fill=\"#000000\" fill-rule=\"evenodd\" fill-opacity=\"1\" /><path clip-path=\"url(#clip480)\" d=\"M55.9197 828.358 L55.9197 821.642 L64.0042 821.642 L64.0042 828.358 L55.9197 828.358 Z\" fill=\"#000000\" fill-rule=\"evenodd\" fill-opacity=\"1\" /><path clip-path=\"url(#clip480)\" d=\"M18.2347 781.952 L28.3562 781.952 L28.3562 769.889 L32.9077 769.889 L32.9077 781.952 L52.2594 781.952 Q56.6199 781.952 57.8613 780.775 Q59.1026 779.565 59.1026 775.905 L59.1026 769.889 L64.0042 769.889 L64.0042 775.905 Q64.0042 782.684 61.4897 785.262 Q58.9434 787.84 52.2594 787.84 L32.9077 787.84 L32.9077 792.137 L28.3562 792.137 L28.3562 787.84 L18.2347 787.84 L18.2347 781.952 Z\" fill=\"#000000\" fill-rule=\"evenodd\" fill-opacity=\"1\" /><path clip-path=\"url(#clip480)\" d=\"M28.3562 762.187 L28.3562 756.33 L64.0042 756.33 L64.0042 762.187 L28.3562 762.187 M14.479 762.187 L14.479 756.33 L21.895 756.33 L21.895 762.187 L14.479 762.187 Z\" fill=\"#000000\" fill-rule=\"evenodd\" fill-opacity=\"1\" /><path clip-path=\"url(#clip480)\" d=\"M35.1993 716.322 Q31.2526 714.126 29.3747 711.07 Q27.4968 708.014 27.4968 703.877 Q27.4968 698.307 31.4117 695.283 Q35.2948 692.259 42.4881 692.259 L64.0042 692.259 L64.0042 698.148 L42.679 698.148 Q37.5546 698.148 35.072 699.962 Q32.5894 701.776 32.5894 705.5 Q32.5894 710.052 35.6131 712.693 Q38.6368 715.335 43.8567 715.335 L64.0042 715.335 L64.0042 721.223 L42.679 721.223 Q37.5228 721.223 35.072 723.038 Q32.5894 724.852 32.5894 728.639 Q32.5894 733.127 35.6449 735.769 Q38.6686 738.411 43.8567 738.411 L64.0042 738.411 L64.0042 744.299 L28.3562 744.299 L28.3562 738.411 L33.8944 738.411 Q30.616 736.406 29.0564 733.605 Q27.4968 730.804 27.4968 726.952 Q27.4968 723.069 29.4702 720.364 Q31.4436 717.627 35.1993 716.322 Z\" fill=\"#000000\" fill-rule=\"evenodd\" fill-opacity=\"1\" /><path clip-path=\"url(#clip480)\" d=\"M44.7161 650.087 L47.5806 650.087 L47.5806 677.013 Q53.6281 676.632 56.8109 673.385 Q59.9619 670.107 59.9619 664.282 Q59.9619 660.908 59.1344 657.757 Q58.3069 654.574 56.6518 651.455 L62.1899 651.455 Q63.5267 654.606 64.227 657.916 Q64.9272 661.227 64.9272 664.632 Q64.9272 673.162 59.9619 678.159 Q54.9967 683.125 46.5303 683.125 Q37.7774 683.125 32.6531 678.414 Q27.4968 673.671 27.4968 665.651 Q27.4968 658.457 32.1438 654.288 Q36.7589 650.087 44.7161 650.087 M42.9973 655.943 Q38.1912 656.007 35.3266 658.648 Q32.4621 661.258 32.4621 665.587 Q32.4621 670.489 35.2312 673.449 Q38.0002 676.377 43.0292 676.823 L42.9973 655.943 Z\" fill=\"#000000\" fill-rule=\"evenodd\" fill-opacity=\"1\" /><path clip-path=\"url(#clip480)\" d=\"M14.479 620.295 L14.479 606.8 L19.0304 606.8 L19.0304 614.439 L68.0464 614.439 L68.0464 606.8 L72.5979 606.8 L72.5979 620.295 L14.479 620.295 Z\" fill=\"#000000\" fill-rule=\"evenodd\" fill-opacity=\"1\" /><path clip-path=\"url(#clip480)\" d=\"M29.4065 571.597 L34.9447 571.597 Q33.6716 574.08 33.035 576.754 Q32.3984 579.427 32.3984 582.292 Q32.3984 586.652 33.7352 588.848 Q35.072 591.013 37.7456 591.013 Q39.7826 591.013 40.9603 589.453 Q42.1061 587.894 43.1565 583.183 L43.6021 581.178 Q44.9389 574.939 47.3897 572.329 Q49.8086 569.688 54.1691 569.688 Q59.1344 569.688 62.0308 573.634 Q64.9272 577.549 64.9272 584.424 Q64.9272 587.289 64.3543 590.408 Q63.8132 593.495 62.6992 596.933 L56.6518 596.933 Q58.3387 593.686 59.198 590.535 Q60.0256 587.384 60.0256 584.297 Q60.0256 580.159 58.6251 577.931 Q57.1929 575.703 54.6147 575.703 Q52.2276 575.703 50.9545 577.327 Q49.6813 578.918 48.5037 584.361 L48.0262 586.398 Q46.8804 591.84 44.5251 594.259 Q42.138 596.678 38.0002 596.678 Q32.9713 596.678 30.2341 593.113 Q27.4968 589.549 27.4968 582.992 Q27.4968 579.745 27.9743 576.881 Q28.4517 574.016 29.4065 571.597 Z\" fill=\"#000000\" fill-rule=\"evenodd\" fill-opacity=\"1\" /><path clip-path=\"url(#clip480)\" d=\"M14.479 546.676 L72.5979 546.676 L72.5979 560.171 L68.0464 560.171 L68.0464 552.564 L19.0304 552.564 L19.0304 560.171 L14.479 560.171 L14.479 546.676 Z\" fill=\"#000000\" fill-rule=\"evenodd\" fill-opacity=\"1\" /><polyline clip-path=\"url(#clip482)\" style=\"stroke:#000000; stroke-linecap:round; stroke-linejoin:round; stroke-width:4; stroke-opacity:1; fill:none\" points=\"265.903,1384.24 307.251,1382.93 348.6,1380.15 389.948,1371.14 431.297,1374.1 472.645,1362.66 513.993,1357.03 555.342,1343.49 596.69,1344.64 638.039,1317.35 679.387,1326.9 720.735,1313.02 762.084,1294.85 803.432,1287.7 844.78,1295.93 886.129,1273.63 927.477,1247.83 968.826,1245.91 1010.17,1230.84 1051.52,1210.81 1092.87,1219.51 1134.22,1169.82 1175.57,1183.05 1216.92,1199.81 1258.26,1167.63 1299.61,1152.86 1340.96,1133.29 1382.31,1145.78 1423.66,1086.59 1465.01,1028.53 1506.35,1071.01 1547.7,1056.61 1589.05,981.953 1630.4,1021.18 1671.75,989.473 1713.1,1003.24 1754.44,941.578 1795.79,1041.95 1837.14,878.908 1878.49,996.188 1919.84,811.285 1961.19,821.399 2002.54,804.223 \"/>\n",
       "<polyline clip-path=\"url(#clip482)\" style=\"stroke:#000000; stroke-linecap:round; stroke-linejoin:round; stroke-width:4; stroke-opacity:1; fill:none\" points=\"2085.23,742.107 2126.58,722.448 2167.93,678.785 2209.28,848.371 2250.63,581.901 2291.97,764.195 \"/>\n",
       "<circle clip-path=\"url(#clip482)\" cx=\"265.903\" cy=\"1384.24\" r=\"14.4\" fill=\"#000000\" fill-rule=\"evenodd\" fill-opacity=\"1\" stroke=\"none\"/>\n",
       "<circle clip-path=\"url(#clip482)\" cx=\"307.251\" cy=\"1382.93\" r=\"14.4\" fill=\"#000000\" fill-rule=\"evenodd\" fill-opacity=\"1\" stroke=\"none\"/>\n",
       "<circle clip-path=\"url(#clip482)\" cx=\"348.6\" cy=\"1380.15\" r=\"14.4\" fill=\"#000000\" fill-rule=\"evenodd\" fill-opacity=\"1\" stroke=\"none\"/>\n",
       "<circle clip-path=\"url(#clip482)\" cx=\"389.948\" cy=\"1371.14\" r=\"14.4\" fill=\"#000000\" fill-rule=\"evenodd\" fill-opacity=\"1\" stroke=\"none\"/>\n",
       "<circle clip-path=\"url(#clip482)\" cx=\"431.297\" cy=\"1374.1\" r=\"14.4\" fill=\"#000000\" fill-rule=\"evenodd\" fill-opacity=\"1\" stroke=\"none\"/>\n",
       "<circle clip-path=\"url(#clip482)\" cx=\"472.645\" cy=\"1362.66\" r=\"14.4\" fill=\"#000000\" fill-rule=\"evenodd\" fill-opacity=\"1\" stroke=\"none\"/>\n",
       "<circle clip-path=\"url(#clip482)\" cx=\"513.993\" cy=\"1357.03\" r=\"14.4\" fill=\"#000000\" fill-rule=\"evenodd\" fill-opacity=\"1\" stroke=\"none\"/>\n",
       "<circle clip-path=\"url(#clip482)\" cx=\"555.342\" cy=\"1343.49\" r=\"14.4\" fill=\"#000000\" fill-rule=\"evenodd\" fill-opacity=\"1\" stroke=\"none\"/>\n",
       "<circle clip-path=\"url(#clip482)\" cx=\"596.69\" cy=\"1344.64\" r=\"14.4\" fill=\"#000000\" fill-rule=\"evenodd\" fill-opacity=\"1\" stroke=\"none\"/>\n",
       "<circle clip-path=\"url(#clip482)\" cx=\"638.039\" cy=\"1317.35\" r=\"14.4\" fill=\"#000000\" fill-rule=\"evenodd\" fill-opacity=\"1\" stroke=\"none\"/>\n",
       "<circle clip-path=\"url(#clip482)\" cx=\"679.387\" cy=\"1326.9\" r=\"14.4\" fill=\"#000000\" fill-rule=\"evenodd\" fill-opacity=\"1\" stroke=\"none\"/>\n",
       "<circle clip-path=\"url(#clip482)\" cx=\"720.735\" cy=\"1313.02\" r=\"14.4\" fill=\"#000000\" fill-rule=\"evenodd\" fill-opacity=\"1\" stroke=\"none\"/>\n",
       "<circle clip-path=\"url(#clip482)\" cx=\"762.084\" cy=\"1294.85\" r=\"14.4\" fill=\"#000000\" fill-rule=\"evenodd\" fill-opacity=\"1\" stroke=\"none\"/>\n",
       "<circle clip-path=\"url(#clip482)\" cx=\"803.432\" cy=\"1287.7\" r=\"14.4\" fill=\"#000000\" fill-rule=\"evenodd\" fill-opacity=\"1\" stroke=\"none\"/>\n",
       "<circle clip-path=\"url(#clip482)\" cx=\"844.78\" cy=\"1295.93\" r=\"14.4\" fill=\"#000000\" fill-rule=\"evenodd\" fill-opacity=\"1\" stroke=\"none\"/>\n",
       "<circle clip-path=\"url(#clip482)\" cx=\"886.129\" cy=\"1273.63\" r=\"14.4\" fill=\"#000000\" fill-rule=\"evenodd\" fill-opacity=\"1\" stroke=\"none\"/>\n",
       "<circle clip-path=\"url(#clip482)\" cx=\"927.477\" cy=\"1247.83\" r=\"14.4\" fill=\"#000000\" fill-rule=\"evenodd\" fill-opacity=\"1\" stroke=\"none\"/>\n",
       "<circle clip-path=\"url(#clip482)\" cx=\"968.826\" cy=\"1245.91\" r=\"14.4\" fill=\"#000000\" fill-rule=\"evenodd\" fill-opacity=\"1\" stroke=\"none\"/>\n",
       "<circle clip-path=\"url(#clip482)\" cx=\"1010.17\" cy=\"1230.84\" r=\"14.4\" fill=\"#000000\" fill-rule=\"evenodd\" fill-opacity=\"1\" stroke=\"none\"/>\n",
       "<circle clip-path=\"url(#clip482)\" cx=\"1051.52\" cy=\"1210.81\" r=\"14.4\" fill=\"#000000\" fill-rule=\"evenodd\" fill-opacity=\"1\" stroke=\"none\"/>\n",
       "<circle clip-path=\"url(#clip482)\" cx=\"1092.87\" cy=\"1219.51\" r=\"14.4\" fill=\"#000000\" fill-rule=\"evenodd\" fill-opacity=\"1\" stroke=\"none\"/>\n",
       "<circle clip-path=\"url(#clip482)\" cx=\"1134.22\" cy=\"1169.82\" r=\"14.4\" fill=\"#000000\" fill-rule=\"evenodd\" fill-opacity=\"1\" stroke=\"none\"/>\n",
       "<circle clip-path=\"url(#clip482)\" cx=\"1175.57\" cy=\"1183.05\" r=\"14.4\" fill=\"#000000\" fill-rule=\"evenodd\" fill-opacity=\"1\" stroke=\"none\"/>\n",
       "<circle clip-path=\"url(#clip482)\" cx=\"1216.92\" cy=\"1199.81\" r=\"14.4\" fill=\"#000000\" fill-rule=\"evenodd\" fill-opacity=\"1\" stroke=\"none\"/>\n",
       "<circle clip-path=\"url(#clip482)\" cx=\"1258.26\" cy=\"1167.63\" r=\"14.4\" fill=\"#000000\" fill-rule=\"evenodd\" fill-opacity=\"1\" stroke=\"none\"/>\n",
       "<circle clip-path=\"url(#clip482)\" cx=\"1299.61\" cy=\"1152.86\" r=\"14.4\" fill=\"#000000\" fill-rule=\"evenodd\" fill-opacity=\"1\" stroke=\"none\"/>\n",
       "<circle clip-path=\"url(#clip482)\" cx=\"1340.96\" cy=\"1133.29\" r=\"14.4\" fill=\"#000000\" fill-rule=\"evenodd\" fill-opacity=\"1\" stroke=\"none\"/>\n",
       "<circle clip-path=\"url(#clip482)\" cx=\"1382.31\" cy=\"1145.78\" r=\"14.4\" fill=\"#000000\" fill-rule=\"evenodd\" fill-opacity=\"1\" stroke=\"none\"/>\n",
       "<circle clip-path=\"url(#clip482)\" cx=\"1423.66\" cy=\"1086.59\" r=\"14.4\" fill=\"#000000\" fill-rule=\"evenodd\" fill-opacity=\"1\" stroke=\"none\"/>\n",
       "<circle clip-path=\"url(#clip482)\" cx=\"1465.01\" cy=\"1028.53\" r=\"14.4\" fill=\"#000000\" fill-rule=\"evenodd\" fill-opacity=\"1\" stroke=\"none\"/>\n",
       "<circle clip-path=\"url(#clip482)\" cx=\"1506.35\" cy=\"1071.01\" r=\"14.4\" fill=\"#000000\" fill-rule=\"evenodd\" fill-opacity=\"1\" stroke=\"none\"/>\n",
       "<circle clip-path=\"url(#clip482)\" cx=\"1547.7\" cy=\"1056.61\" r=\"14.4\" fill=\"#000000\" fill-rule=\"evenodd\" fill-opacity=\"1\" stroke=\"none\"/>\n",
       "<circle clip-path=\"url(#clip482)\" cx=\"1589.05\" cy=\"981.953\" r=\"14.4\" fill=\"#000000\" fill-rule=\"evenodd\" fill-opacity=\"1\" stroke=\"none\"/>\n",
       "<circle clip-path=\"url(#clip482)\" cx=\"1630.4\" cy=\"1021.18\" r=\"14.4\" fill=\"#000000\" fill-rule=\"evenodd\" fill-opacity=\"1\" stroke=\"none\"/>\n",
       "<circle clip-path=\"url(#clip482)\" cx=\"1671.75\" cy=\"989.473\" r=\"14.4\" fill=\"#000000\" fill-rule=\"evenodd\" fill-opacity=\"1\" stroke=\"none\"/>\n",
       "<circle clip-path=\"url(#clip482)\" cx=\"1713.1\" cy=\"1003.24\" r=\"14.4\" fill=\"#000000\" fill-rule=\"evenodd\" fill-opacity=\"1\" stroke=\"none\"/>\n",
       "<circle clip-path=\"url(#clip482)\" cx=\"1754.44\" cy=\"941.578\" r=\"14.4\" fill=\"#000000\" fill-rule=\"evenodd\" fill-opacity=\"1\" stroke=\"none\"/>\n",
       "<circle clip-path=\"url(#clip482)\" cx=\"1795.79\" cy=\"1041.95\" r=\"14.4\" fill=\"#000000\" fill-rule=\"evenodd\" fill-opacity=\"1\" stroke=\"none\"/>\n",
       "<circle clip-path=\"url(#clip482)\" cx=\"1837.14\" cy=\"878.908\" r=\"14.4\" fill=\"#000000\" fill-rule=\"evenodd\" fill-opacity=\"1\" stroke=\"none\"/>\n",
       "<circle clip-path=\"url(#clip482)\" cx=\"1878.49\" cy=\"996.188\" r=\"14.4\" fill=\"#000000\" fill-rule=\"evenodd\" fill-opacity=\"1\" stroke=\"none\"/>\n",
       "<circle clip-path=\"url(#clip482)\" cx=\"1919.84\" cy=\"811.285\" r=\"14.4\" fill=\"#000000\" fill-rule=\"evenodd\" fill-opacity=\"1\" stroke=\"none\"/>\n",
       "<circle clip-path=\"url(#clip482)\" cx=\"1961.19\" cy=\"821.399\" r=\"14.4\" fill=\"#000000\" fill-rule=\"evenodd\" fill-opacity=\"1\" stroke=\"none\"/>\n",
       "<circle clip-path=\"url(#clip482)\" cx=\"2002.54\" cy=\"804.223\" r=\"14.4\" fill=\"#000000\" fill-rule=\"evenodd\" fill-opacity=\"1\" stroke=\"none\"/>\n",
       "<circle clip-path=\"url(#clip482)\" cx=\"2085.23\" cy=\"742.107\" r=\"14.4\" fill=\"#000000\" fill-rule=\"evenodd\" fill-opacity=\"1\" stroke=\"none\"/>\n",
       "<circle clip-path=\"url(#clip482)\" cx=\"2126.58\" cy=\"722.448\" r=\"14.4\" fill=\"#000000\" fill-rule=\"evenodd\" fill-opacity=\"1\" stroke=\"none\"/>\n",
       "<circle clip-path=\"url(#clip482)\" cx=\"2167.93\" cy=\"678.785\" r=\"14.4\" fill=\"#000000\" fill-rule=\"evenodd\" fill-opacity=\"1\" stroke=\"none\"/>\n",
       "<circle clip-path=\"url(#clip482)\" cx=\"2209.28\" cy=\"848.371\" r=\"14.4\" fill=\"#000000\" fill-rule=\"evenodd\" fill-opacity=\"1\" stroke=\"none\"/>\n",
       "<circle clip-path=\"url(#clip482)\" cx=\"2250.63\" cy=\"581.901\" r=\"14.4\" fill=\"#000000\" fill-rule=\"evenodd\" fill-opacity=\"1\" stroke=\"none\"/>\n",
       "<circle clip-path=\"url(#clip482)\" cx=\"2291.97\" cy=\"764.195\" r=\"14.4\" fill=\"#000000\" fill-rule=\"evenodd\" fill-opacity=\"1\" stroke=\"none\"/>\n",
       "<polyline clip-path=\"url(#clip482)\" style=\"stroke:#000000; stroke-linecap:round; stroke-linejoin:round; stroke-width:4; stroke-opacity:1; fill:none\" stroke-dasharray=\"16, 8, 2, 8\" points=\"265.903,1367.33 307.251,1342.6 348.6,1325.49 389.948,1307.97 431.297,1258.8 472.645,1259.63 513.993,1240.49 555.342,1161.38 596.69,1242.17 638.039,1166.88 679.387,1112.58 720.735,1076.09 762.084,1092.88 803.432,1134.69 844.78,1060.86 886.129,948.183 927.477,859.345 968.826,1050.8 1010.17,880.573 1051.52,848.981 1092.87,970.687 1134.22,848.399 1175.57,963.319 1216.92,895.127 1258.26,794.636 1299.61,730.259 1340.96,747.005 1382.31,675.899 1423.66,675.317 1465.01,525.46 1506.35,785.021 1547.7,1269.15 1589.05,737.557 1630.4,1019 1671.75,572.189 1713.1,496.532 1754.44,612.258 1795.79,643.78 1837.14,460.112 1878.49,525.308 1919.84,465.704 1961.19,565.113 2002.54,246.198 2043.88,92.4707 2085.23,186.317 2126.58,367.709 2167.93,208.169 2209.28,405.614 2250.63,128.1 2291.97,86.1857 \"/>\n",
       "<path clip-path=\"url(#clip482)\" d=\"M253.903 1355.33 L253.903 1379.33 L277.903 1379.33 L277.903 1355.33 L253.903 1355.33 Z\" fill=\"#000000\" fill-rule=\"evenodd\" fill-opacity=\"1\" stroke=\"none\"/>\n",
       "<path clip-path=\"url(#clip482)\" d=\"M295.251 1330.6 L295.251 1354.6 L319.251 1354.6 L319.251 1330.6 L295.251 1330.6 Z\" fill=\"#000000\" fill-rule=\"evenodd\" fill-opacity=\"1\" stroke=\"none\"/>\n",
       "<path clip-path=\"url(#clip482)\" d=\"M336.6 1313.49 L336.6 1337.49 L360.6 1337.49 L360.6 1313.49 L336.6 1313.49 Z\" fill=\"#000000\" fill-rule=\"evenodd\" fill-opacity=\"1\" stroke=\"none\"/>\n",
       "<path clip-path=\"url(#clip482)\" d=\"M377.948 1295.97 L377.948 1319.97 L401.948 1319.97 L401.948 1295.97 L377.948 1295.97 Z\" fill=\"#000000\" fill-rule=\"evenodd\" fill-opacity=\"1\" stroke=\"none\"/>\n",
       "<path clip-path=\"url(#clip482)\" d=\"M419.297 1246.8 L419.297 1270.8 L443.297 1270.8 L443.297 1246.8 L419.297 1246.8 Z\" fill=\"#000000\" fill-rule=\"evenodd\" fill-opacity=\"1\" stroke=\"none\"/>\n",
       "<path clip-path=\"url(#clip482)\" d=\"M460.645 1247.63 L460.645 1271.63 L484.645 1271.63 L484.645 1247.63 L460.645 1247.63 Z\" fill=\"#000000\" fill-rule=\"evenodd\" fill-opacity=\"1\" stroke=\"none\"/>\n",
       "<path clip-path=\"url(#clip482)\" d=\"M501.993 1228.49 L501.993 1252.49 L525.993 1252.49 L525.993 1228.49 L501.993 1228.49 Z\" fill=\"#000000\" fill-rule=\"evenodd\" fill-opacity=\"1\" stroke=\"none\"/>\n",
       "<path clip-path=\"url(#clip482)\" d=\"M543.342 1149.38 L543.342 1173.38 L567.342 1173.38 L567.342 1149.38 L543.342 1149.38 Z\" fill=\"#000000\" fill-rule=\"evenodd\" fill-opacity=\"1\" stroke=\"none\"/>\n",
       "<path clip-path=\"url(#clip482)\" d=\"M584.69 1230.17 L584.69 1254.17 L608.69 1254.17 L608.69 1230.17 L584.69 1230.17 Z\" fill=\"#000000\" fill-rule=\"evenodd\" fill-opacity=\"1\" stroke=\"none\"/>\n",
       "<path clip-path=\"url(#clip482)\" d=\"M626.039 1154.88 L626.039 1178.88 L650.039 1178.88 L650.039 1154.88 L626.039 1154.88 Z\" fill=\"#000000\" fill-rule=\"evenodd\" fill-opacity=\"1\" stroke=\"none\"/>\n",
       "<path clip-path=\"url(#clip482)\" d=\"M667.387 1100.58 L667.387 1124.58 L691.387 1124.58 L691.387 1100.58 L667.387 1100.58 Z\" fill=\"#000000\" fill-rule=\"evenodd\" fill-opacity=\"1\" stroke=\"none\"/>\n",
       "<path clip-path=\"url(#clip482)\" d=\"M708.735 1064.09 L708.735 1088.09 L732.735 1088.09 L732.735 1064.09 L708.735 1064.09 Z\" fill=\"#000000\" fill-rule=\"evenodd\" fill-opacity=\"1\" stroke=\"none\"/>\n",
       "<path clip-path=\"url(#clip482)\" d=\"M750.084 1080.88 L750.084 1104.88 L774.084 1104.88 L774.084 1080.88 L750.084 1080.88 Z\" fill=\"#000000\" fill-rule=\"evenodd\" fill-opacity=\"1\" stroke=\"none\"/>\n",
       "<path clip-path=\"url(#clip482)\" d=\"M791.432 1122.69 L791.432 1146.69 L815.432 1146.69 L815.432 1122.69 L791.432 1122.69 Z\" fill=\"#000000\" fill-rule=\"evenodd\" fill-opacity=\"1\" stroke=\"none\"/>\n",
       "<path clip-path=\"url(#clip482)\" d=\"M832.78 1048.86 L832.78 1072.86 L856.78 1072.86 L856.78 1048.86 L832.78 1048.86 Z\" fill=\"#000000\" fill-rule=\"evenodd\" fill-opacity=\"1\" stroke=\"none\"/>\n",
       "<path clip-path=\"url(#clip482)\" d=\"M874.129 936.183 L874.129 960.183 L898.129 960.183 L898.129 936.183 L874.129 936.183 Z\" fill=\"#000000\" fill-rule=\"evenodd\" fill-opacity=\"1\" stroke=\"none\"/>\n",
       "<path clip-path=\"url(#clip482)\" d=\"M915.477 847.345 L915.477 871.345 L939.477 871.345 L939.477 847.345 L915.477 847.345 Z\" fill=\"#000000\" fill-rule=\"evenodd\" fill-opacity=\"1\" stroke=\"none\"/>\n",
       "<path clip-path=\"url(#clip482)\" d=\"M956.826 1038.8 L956.826 1062.8 L980.826 1062.8 L980.826 1038.8 L956.826 1038.8 Z\" fill=\"#000000\" fill-rule=\"evenodd\" fill-opacity=\"1\" stroke=\"none\"/>\n",
       "<path clip-path=\"url(#clip482)\" d=\"M998.174 868.573 L998.174 892.573 L1022.17 892.573 L1022.17 868.573 L998.174 868.573 Z\" fill=\"#000000\" fill-rule=\"evenodd\" fill-opacity=\"1\" stroke=\"none\"/>\n",
       "<path clip-path=\"url(#clip482)\" d=\"M1039.52 836.981 L1039.52 860.981 L1063.52 860.981 L1063.52 836.981 L1039.52 836.981 Z\" fill=\"#000000\" fill-rule=\"evenodd\" fill-opacity=\"1\" stroke=\"none\"/>\n",
       "<path clip-path=\"url(#clip482)\" d=\"M1080.87 958.687 L1080.87 982.687 L1104.87 982.687 L1104.87 958.687 L1080.87 958.687 Z\" fill=\"#000000\" fill-rule=\"evenodd\" fill-opacity=\"1\" stroke=\"none\"/>\n",
       "<path clip-path=\"url(#clip482)\" d=\"M1122.22 836.399 L1122.22 860.399 L1146.22 860.399 L1146.22 836.399 L1122.22 836.399 Z\" fill=\"#000000\" fill-rule=\"evenodd\" fill-opacity=\"1\" stroke=\"none\"/>\n",
       "<path clip-path=\"url(#clip482)\" d=\"M1163.57 951.319 L1163.57 975.319 L1187.57 975.319 L1187.57 951.319 L1163.57 951.319 Z\" fill=\"#000000\" fill-rule=\"evenodd\" fill-opacity=\"1\" stroke=\"none\"/>\n",
       "<path clip-path=\"url(#clip482)\" d=\"M1204.92 883.127 L1204.92 907.127 L1228.92 907.127 L1228.92 883.127 L1204.92 883.127 Z\" fill=\"#000000\" fill-rule=\"evenodd\" fill-opacity=\"1\" stroke=\"none\"/>\n",
       "<path clip-path=\"url(#clip482)\" d=\"M1246.26 782.636 L1246.26 806.636 L1270.26 806.636 L1270.26 782.636 L1246.26 782.636 Z\" fill=\"#000000\" fill-rule=\"evenodd\" fill-opacity=\"1\" stroke=\"none\"/>\n",
       "<path clip-path=\"url(#clip482)\" d=\"M1287.61 718.259 L1287.61 742.259 L1311.61 742.259 L1311.61 718.259 L1287.61 718.259 Z\" fill=\"#000000\" fill-rule=\"evenodd\" fill-opacity=\"1\" stroke=\"none\"/>\n",
       "<path clip-path=\"url(#clip482)\" d=\"M1328.96 735.005 L1328.96 759.005 L1352.96 759.005 L1352.96 735.005 L1328.96 735.005 Z\" fill=\"#000000\" fill-rule=\"evenodd\" fill-opacity=\"1\" stroke=\"none\"/>\n",
       "<path clip-path=\"url(#clip482)\" d=\"M1370.31 663.899 L1370.31 687.899 L1394.31 687.899 L1394.31 663.899 L1370.31 663.899 Z\" fill=\"#000000\" fill-rule=\"evenodd\" fill-opacity=\"1\" stroke=\"none\"/>\n",
       "<path clip-path=\"url(#clip482)\" d=\"M1411.66 663.317 L1411.66 687.317 L1435.66 687.317 L1435.66 663.317 L1411.66 663.317 Z\" fill=\"#000000\" fill-rule=\"evenodd\" fill-opacity=\"1\" stroke=\"none\"/>\n",
       "<path clip-path=\"url(#clip482)\" d=\"M1453.01 513.46 L1453.01 537.46 L1477.01 537.46 L1477.01 513.46 L1453.01 513.46 Z\" fill=\"#000000\" fill-rule=\"evenodd\" fill-opacity=\"1\" stroke=\"none\"/>\n",
       "<path clip-path=\"url(#clip482)\" d=\"M1494.35 773.021 L1494.35 797.021 L1518.35 797.021 L1518.35 773.021 L1494.35 773.021 Z\" fill=\"#000000\" fill-rule=\"evenodd\" fill-opacity=\"1\" stroke=\"none\"/>\n",
       "<path clip-path=\"url(#clip482)\" d=\"M1535.7 1257.15 L1535.7 1281.15 L1559.7 1281.15 L1559.7 1257.15 L1535.7 1257.15 Z\" fill=\"#000000\" fill-rule=\"evenodd\" fill-opacity=\"1\" stroke=\"none\"/>\n",
       "<path clip-path=\"url(#clip482)\" d=\"M1577.05 725.557 L1577.05 749.557 L1601.05 749.557 L1601.05 725.557 L1577.05 725.557 Z\" fill=\"#000000\" fill-rule=\"evenodd\" fill-opacity=\"1\" stroke=\"none\"/>\n",
       "<path clip-path=\"url(#clip482)\" d=\"M1618.4 1007 L1618.4 1031 L1642.4 1031 L1642.4 1007 L1618.4 1007 Z\" fill=\"#000000\" fill-rule=\"evenodd\" fill-opacity=\"1\" stroke=\"none\"/>\n",
       "<path clip-path=\"url(#clip482)\" d=\"M1659.75 560.189 L1659.75 584.189 L1683.75 584.189 L1683.75 560.189 L1659.75 560.189 Z\" fill=\"#000000\" fill-rule=\"evenodd\" fill-opacity=\"1\" stroke=\"none\"/>\n",
       "<path clip-path=\"url(#clip482)\" d=\"M1701.1 484.532 L1701.1 508.532 L1725.1 508.532 L1725.1 484.532 L1701.1 484.532 Z\" fill=\"#000000\" fill-rule=\"evenodd\" fill-opacity=\"1\" stroke=\"none\"/>\n",
       "<path clip-path=\"url(#clip482)\" d=\"M1742.44 600.258 L1742.44 624.258 L1766.44 624.258 L1766.44 600.258 L1742.44 600.258 Z\" fill=\"#000000\" fill-rule=\"evenodd\" fill-opacity=\"1\" stroke=\"none\"/>\n",
       "<path clip-path=\"url(#clip482)\" d=\"M1783.79 631.78 L1783.79 655.78 L1807.79 655.78 L1807.79 631.78 L1783.79 631.78 Z\" fill=\"#000000\" fill-rule=\"evenodd\" fill-opacity=\"1\" stroke=\"none\"/>\n",
       "<path clip-path=\"url(#clip482)\" d=\"M1825.14 448.112 L1825.14 472.112 L1849.14 472.112 L1849.14 448.112 L1825.14 448.112 Z\" fill=\"#000000\" fill-rule=\"evenodd\" fill-opacity=\"1\" stroke=\"none\"/>\n",
       "<path clip-path=\"url(#clip482)\" d=\"M1866.49 513.308 L1866.49 537.308 L1890.49 537.308 L1890.49 513.308 L1866.49 513.308 Z\" fill=\"#000000\" fill-rule=\"evenodd\" fill-opacity=\"1\" stroke=\"none\"/>\n",
       "<path clip-path=\"url(#clip482)\" d=\"M1907.84 453.704 L1907.84 477.704 L1931.84 477.704 L1931.84 453.704 L1907.84 453.704 Z\" fill=\"#000000\" fill-rule=\"evenodd\" fill-opacity=\"1\" stroke=\"none\"/>\n",
       "<path clip-path=\"url(#clip482)\" d=\"M1949.19 553.113 L1949.19 577.113 L1973.19 577.113 L1973.19 553.113 L1949.19 553.113 Z\" fill=\"#000000\" fill-rule=\"evenodd\" fill-opacity=\"1\" stroke=\"none\"/>\n",
       "<path clip-path=\"url(#clip482)\" d=\"M1990.54 234.198 L1990.54 258.198 L2014.54 258.198 L2014.54 234.198 L1990.54 234.198 Z\" fill=\"#000000\" fill-rule=\"evenodd\" fill-opacity=\"1\" stroke=\"none\"/>\n",
       "<path clip-path=\"url(#clip482)\" d=\"M2031.88 80.4707 L2031.88 104.471 L2055.88 104.471 L2055.88 80.4707 L2031.88 80.4707 Z\" fill=\"#000000\" fill-rule=\"evenodd\" fill-opacity=\"1\" stroke=\"none\"/>\n",
       "<path clip-path=\"url(#clip482)\" d=\"M2073.23 174.317 L2073.23 198.317 L2097.23 198.317 L2097.23 174.317 L2073.23 174.317 Z\" fill=\"#000000\" fill-rule=\"evenodd\" fill-opacity=\"1\" stroke=\"none\"/>\n",
       "<path clip-path=\"url(#clip482)\" d=\"M2114.58 355.709 L2114.58 379.709 L2138.58 379.709 L2138.58 355.709 L2114.58 355.709 Z\" fill=\"#000000\" fill-rule=\"evenodd\" fill-opacity=\"1\" stroke=\"none\"/>\n",
       "<path clip-path=\"url(#clip482)\" d=\"M2155.93 196.169 L2155.93 220.169 L2179.93 220.169 L2179.93 196.169 L2155.93 196.169 Z\" fill=\"#000000\" fill-rule=\"evenodd\" fill-opacity=\"1\" stroke=\"none\"/>\n",
       "<path clip-path=\"url(#clip482)\" d=\"M2197.28 393.614 L2197.28 417.614 L2221.28 417.614 L2221.28 393.614 L2197.28 393.614 Z\" fill=\"#000000\" fill-rule=\"evenodd\" fill-opacity=\"1\" stroke=\"none\"/>\n",
       "<path clip-path=\"url(#clip482)\" d=\"M2238.63 116.1 L2238.63 140.1 L2262.63 140.1 L2262.63 116.1 L2238.63 116.1 Z\" fill=\"#000000\" fill-rule=\"evenodd\" fill-opacity=\"1\" stroke=\"none\"/>\n",
       "<path clip-path=\"url(#clip482)\" d=\"M2279.97 74.1857 L2279.97 98.1857 L2303.97 98.1857 L2303.97 74.1857 L2279.97 74.1857 Z\" fill=\"#000000\" fill-rule=\"evenodd\" fill-opacity=\"1\" stroke=\"none\"/>\n",
       "<path clip-path=\"url(#clip480)\" d=\"M276.709 248.629 L788.114 248.629 L788.114 93.1086 L276.709 93.1086  Z\" fill=\"#ffffff\" fill-rule=\"evenodd\" fill-opacity=\"1\"/>\n",
       "<polyline clip-path=\"url(#clip480)\" style=\"stroke:#000000; stroke-linecap:round; stroke-linejoin:round; stroke-width:4; stroke-opacity:1; fill:none\" points=\"276.709,248.629 788.114,248.629 788.114,93.1086 276.709,93.1086 276.709,248.629 \"/>\n",
       "<polyline clip-path=\"url(#clip480)\" style=\"stroke:#000000; stroke-linecap:round; stroke-linejoin:round; stroke-width:4; stroke-opacity:1; fill:none\" points=\"300.571,144.949 443.747,144.949 \"/>\n",
       "<circle clip-path=\"url(#clip480)\" cx=\"372.159\" cy=\"144.949\" r=\"19.8855\" fill=\"#000000\" fill-rule=\"evenodd\" fill-opacity=\"1\" stroke=\"none\"/>\n",
       "<path clip-path=\"url(#clip480)\" d=\"M487.957 141.28 Q489.554 138.409 491.776 137.044 Q493.998 135.678 497.008 135.678 Q501.059 135.678 503.258 138.525 Q505.457 141.349 505.457 146.581 L505.457 162.229 L501.174 162.229 L501.174 146.719 Q501.174 142.993 499.855 141.187 Q498.535 139.382 495.827 139.382 Q492.517 139.382 490.596 141.581 Q488.674 143.78 488.674 147.576 L488.674 162.229 L484.392 162.229 L484.392 146.719 Q484.392 142.969 483.073 141.187 Q481.753 139.382 478.999 139.382 Q475.735 139.382 473.813 141.604 Q471.892 143.803 471.892 147.576 L471.892 162.229 L467.61 162.229 L467.61 136.303 L471.892 136.303 L471.892 140.331 Q473.35 137.946 475.387 136.812 Q477.424 135.678 480.225 135.678 Q483.049 135.678 485.017 137.113 Q487.008 138.548 487.957 141.28 Z\" fill=\"#000000\" fill-rule=\"evenodd\" fill-opacity=\"1\" /><path clip-path=\"url(#clip480)\" d=\"M523.998 139.289 Q520.572 139.289 518.582 141.974 Q516.591 144.636 516.591 149.289 Q516.591 153.942 518.558 156.627 Q520.549 159.289 523.998 159.289 Q527.401 159.289 529.392 156.604 Q531.382 153.918 531.382 149.289 Q531.382 144.682 529.392 141.997 Q527.401 139.289 523.998 139.289 M523.998 135.678 Q529.554 135.678 532.725 139.289 Q535.896 142.9 535.896 149.289 Q535.896 155.655 532.725 159.289 Q529.554 162.9 523.998 162.9 Q518.42 162.9 515.248 159.289 Q512.1 155.655 512.1 149.289 Q512.1 142.9 515.248 139.289 Q518.42 135.678 523.998 135.678 Z\" fill=\"#000000\" fill-rule=\"evenodd\" fill-opacity=\"1\" /><path clip-path=\"url(#clip480)\" d=\"M564.507 146.581 L564.507 162.229 L560.248 162.229 L560.248 146.719 Q560.248 143.039 558.813 141.21 Q557.378 139.382 554.507 139.382 Q551.058 139.382 549.068 141.581 Q547.077 143.78 547.077 147.576 L547.077 162.229 L542.794 162.229 L542.794 136.303 L547.077 136.303 L547.077 140.331 Q548.605 137.993 550.665 136.835 Q552.748 135.678 555.456 135.678 Q559.924 135.678 562.216 138.456 Q564.507 141.21 564.507 146.581 Z\" fill=\"#000000\" fill-rule=\"evenodd\" fill-opacity=\"1\" /><path clip-path=\"url(#clip480)\" d=\"M583.049 139.289 Q579.623 139.289 577.632 141.974 Q575.642 144.636 575.642 149.289 Q575.642 153.942 577.609 156.627 Q579.6 159.289 583.049 159.289 Q586.452 159.289 588.442 156.604 Q590.433 153.918 590.433 149.289 Q590.433 144.682 588.442 141.997 Q586.452 139.289 583.049 139.289 M583.049 135.678 Q588.604 135.678 591.776 139.289 Q594.947 142.9 594.947 149.289 Q594.947 155.655 591.776 159.289 Q588.604 162.9 583.049 162.9 Q577.47 162.9 574.299 159.289 Q571.151 155.655 571.151 149.289 Q571.151 142.9 574.299 139.289 Q577.47 135.678 583.049 135.678 Z\" fill=\"#000000\" fill-rule=\"evenodd\" fill-opacity=\"1\" /><path clip-path=\"url(#clip480)\" d=\"M602.007 126.21 L606.266 126.21 L606.266 162.229 L602.007 162.229 L602.007 126.21 Z\" fill=\"#000000\" fill-rule=\"evenodd\" fill-opacity=\"1\" /><path clip-path=\"url(#clip480)\" d=\"M615.178 136.303 L619.438 136.303 L619.438 162.229 L615.178 162.229 L615.178 136.303 M615.178 126.21 L619.438 126.21 L619.438 131.604 L615.178 131.604 L615.178 126.21 Z\" fill=\"#000000\" fill-rule=\"evenodd\" fill-opacity=\"1\" /><path clip-path=\"url(#clip480)\" d=\"M632.563 128.942 L632.563 136.303 L641.336 136.303 L641.336 139.613 L632.563 139.613 L632.563 153.687 Q632.563 156.858 633.419 157.761 Q634.299 158.664 636.961 158.664 L641.336 158.664 L641.336 162.229 L636.961 162.229 Q632.03 162.229 630.155 160.4 Q628.28 158.548 628.28 153.687 L628.28 139.613 L625.155 139.613 L625.155 136.303 L628.28 136.303 L628.28 128.942 L632.563 128.942 Z\" fill=\"#000000\" fill-rule=\"evenodd\" fill-opacity=\"1\" /><path clip-path=\"url(#clip480)\" d=\"M668.488 146.581 L668.488 162.229 L664.229 162.229 L664.229 146.719 Q664.229 143.039 662.794 141.21 Q661.359 139.382 658.488 139.382 Q655.039 139.382 653.049 141.581 Q651.058 143.78 651.058 147.576 L651.058 162.229 L646.775 162.229 L646.775 126.21 L651.058 126.21 L651.058 140.331 Q652.586 137.993 654.646 136.835 Q656.729 135.678 659.437 135.678 Q663.905 135.678 666.197 138.456 Q668.488 141.21 668.488 146.581 Z\" fill=\"#000000\" fill-rule=\"evenodd\" fill-opacity=\"1\" /><path clip-path=\"url(#clip480)\" d=\"M676.984 136.303 L681.243 136.303 L681.243 162.229 L676.984 162.229 L676.984 136.303 M676.984 126.21 L681.243 126.21 L681.243 131.604 L676.984 131.604 L676.984 126.21 Z\" fill=\"#000000\" fill-rule=\"evenodd\" fill-opacity=\"1\" /><path clip-path=\"url(#clip480)\" d=\"M708.812 137.298 L708.812 141.28 Q707.007 140.284 705.178 139.798 Q703.372 139.289 701.52 139.289 Q697.377 139.289 695.085 141.928 Q692.794 144.544 692.794 149.289 Q692.794 154.034 695.085 156.673 Q697.377 159.289 701.52 159.289 Q703.372 159.289 705.178 158.803 Q707.007 158.293 708.812 157.298 L708.812 161.233 Q707.03 162.067 705.108 162.483 Q703.21 162.9 701.058 162.9 Q695.201 162.9 691.752 159.219 Q688.303 155.539 688.303 149.289 Q688.303 142.946 691.775 139.312 Q695.271 135.678 701.335 135.678 Q703.303 135.678 705.178 136.095 Q707.053 136.488 708.812 137.298 Z\" fill=\"#000000\" fill-rule=\"evenodd\" fill-opacity=\"1\" /><polyline clip-path=\"url(#clip480)\" style=\"stroke:#000000; stroke-linecap:round; stroke-linejoin:round; stroke-width:4; stroke-opacity:1; fill:none\" stroke-dasharray=\"16, 8, 2, 8\" points=\"300.571,196.789 443.747,196.789 \"/>\n",
       "<path clip-path=\"url(#clip480)\" d=\"M350.064 174.694 L350.064 218.884 L394.254 218.884 L394.254 174.694 L350.064 174.694 Z\" fill=\"#000000\" fill-rule=\"evenodd\" fill-opacity=\"1\" stroke=\"none\"/>\n",
       "<path clip-path=\"url(#clip480)\" d=\"M486.522 192.078 L486.522 178.05 L490.781 178.05 L490.781 214.069 L486.522 214.069 L486.522 210.18 Q485.179 212.495 483.119 213.629 Q481.082 214.74 478.211 214.74 Q473.512 214.74 470.549 210.99 Q467.61 207.24 467.61 201.129 Q467.61 195.018 470.549 191.268 Q473.512 187.518 478.211 187.518 Q481.082 187.518 483.119 188.652 Q485.179 189.763 486.522 192.078 M472.008 201.129 Q472.008 205.828 473.929 208.513 Q475.874 211.175 479.253 211.175 Q482.633 211.175 484.577 208.513 Q486.522 205.828 486.522 201.129 Q486.522 196.43 484.577 193.768 Q482.633 191.083 479.253 191.083 Q475.874 191.083 473.929 193.768 Q472.008 196.43 472.008 201.129 Z\" fill=\"#000000\" fill-rule=\"evenodd\" fill-opacity=\"1\" /><path clip-path=\"url(#clip480)\" d=\"M521.73 200.041 L521.73 202.124 L502.147 202.124 Q502.424 206.522 504.785 208.837 Q507.17 211.129 511.406 211.129 Q513.859 211.129 516.151 210.527 Q518.466 209.925 520.734 208.721 L520.734 212.749 Q518.443 213.721 516.035 214.231 Q513.628 214.74 511.151 214.74 Q504.947 214.74 501.313 211.129 Q497.702 207.518 497.702 201.36 Q497.702 194.995 501.128 191.268 Q504.577 187.518 510.41 187.518 Q515.642 187.518 518.674 190.897 Q521.73 194.254 521.73 200.041 M517.471 198.791 Q517.424 195.296 515.503 193.212 Q513.605 191.129 510.457 191.129 Q506.892 191.129 504.739 193.143 Q502.61 195.157 502.285 198.814 L517.471 198.791 Z\" fill=\"#000000\" fill-rule=\"evenodd\" fill-opacity=\"1\" /><path clip-path=\"url(#clip480)\" d=\"M547.378 189.138 L547.378 193.12 Q545.572 192.124 543.744 191.638 Q541.938 191.129 540.086 191.129 Q535.943 191.129 533.651 193.768 Q531.359 196.384 531.359 201.129 Q531.359 205.874 533.651 208.513 Q535.943 211.129 540.086 211.129 Q541.938 211.129 543.744 210.643 Q545.572 210.133 547.378 209.138 L547.378 213.073 Q545.595 213.907 543.674 214.323 Q541.776 214.74 539.623 214.74 Q533.767 214.74 530.318 211.059 Q526.869 207.379 526.869 201.129 Q526.869 194.786 530.341 191.152 Q533.836 187.518 539.901 187.518 Q541.869 187.518 543.744 187.935 Q545.619 188.328 547.378 189.138 Z\" fill=\"#000000\" fill-rule=\"evenodd\" fill-opacity=\"1\" /><path clip-path=\"url(#clip480)\" d=\"M564.831 191.129 Q561.405 191.129 559.415 193.814 Q557.424 196.476 557.424 201.129 Q557.424 205.782 559.392 208.467 Q561.382 211.129 564.831 211.129 Q568.234 211.129 570.225 208.444 Q572.216 205.758 572.216 201.129 Q572.216 196.522 570.225 193.837 Q568.234 191.129 564.831 191.129 M564.831 187.518 Q570.387 187.518 573.558 191.129 Q576.729 194.74 576.729 201.129 Q576.729 207.495 573.558 211.129 Q570.387 214.74 564.831 214.74 Q559.253 214.74 556.081 211.129 Q552.933 207.495 552.933 201.129 Q552.933 194.74 556.081 191.129 Q559.253 187.518 564.831 187.518 Z\" fill=\"#000000\" fill-rule=\"evenodd\" fill-opacity=\"1\" /><path clip-path=\"url(#clip480)\" d=\"M603.975 193.12 Q605.572 190.249 607.794 188.884 Q610.016 187.518 613.026 187.518 Q617.076 187.518 619.276 190.365 Q621.475 193.189 621.475 198.421 L621.475 214.069 L617.192 214.069 L617.192 198.559 Q617.192 194.833 615.873 193.027 Q614.553 191.222 611.845 191.222 Q608.535 191.222 606.614 193.421 Q604.692 195.62 604.692 199.416 L604.692 214.069 L600.41 214.069 L600.41 198.559 Q600.41 194.809 599.09 193.027 Q597.771 191.222 595.016 191.222 Q591.753 191.222 589.831 193.444 Q587.91 195.643 587.91 199.416 L587.91 214.069 L583.628 214.069 L583.628 188.143 L587.91 188.143 L587.91 192.171 Q589.368 189.786 591.405 188.652 Q593.442 187.518 596.243 187.518 Q599.067 187.518 601.035 188.953 Q603.026 190.388 603.975 193.12 Z\" fill=\"#000000\" fill-rule=\"evenodd\" fill-opacity=\"1\" /><path clip-path=\"url(#clip480)\" d=\"M634.09 210.18 L634.09 223.93 L629.808 223.93 L629.808 188.143 L634.09 188.143 L634.09 192.078 Q635.433 189.763 637.47 188.652 Q639.53 187.518 642.377 187.518 Q647.099 187.518 650.039 191.268 Q653.002 195.018 653.002 201.129 Q653.002 207.24 650.039 210.99 Q647.099 214.74 642.377 214.74 Q639.53 214.74 637.47 213.629 Q635.433 212.495 634.09 210.18 M648.581 201.129 Q648.581 196.43 646.637 193.768 Q644.715 191.083 641.336 191.083 Q637.956 191.083 636.012 193.768 Q634.09 196.43 634.09 201.129 Q634.09 205.828 636.012 208.513 Q637.956 211.175 641.336 211.175 Q644.715 211.175 646.637 208.513 Q648.581 205.828 648.581 201.129 Z\" fill=\"#000000\" fill-rule=\"evenodd\" fill-opacity=\"1\" /><path clip-path=\"url(#clip480)\" d=\"M670.109 191.129 Q666.683 191.129 664.692 193.814 Q662.701 196.476 662.701 201.129 Q662.701 205.782 664.669 208.467 Q666.66 211.129 670.109 211.129 Q673.511 211.129 675.502 208.444 Q677.493 205.758 677.493 201.129 Q677.493 196.522 675.502 193.837 Q673.511 191.129 670.109 191.129 M670.109 187.518 Q675.664 187.518 678.835 191.129 Q682.007 194.74 682.007 201.129 Q682.007 207.495 678.835 211.129 Q675.664 214.74 670.109 214.74 Q664.53 214.74 661.359 211.129 Q658.211 207.495 658.211 201.129 Q658.211 194.74 661.359 191.129 Q664.53 187.518 670.109 187.518 Z\" fill=\"#000000\" fill-rule=\"evenodd\" fill-opacity=\"1\" /><path clip-path=\"url(#clip480)\" d=\"M705.595 188.907 L705.595 192.934 Q703.789 192.009 701.845 191.546 Q699.9 191.083 697.817 191.083 Q694.646 191.083 693.048 192.055 Q691.474 193.027 691.474 194.971 Q691.474 196.453 692.608 197.309 Q693.743 198.143 697.169 198.907 L698.627 199.231 Q703.164 200.203 705.062 201.985 Q706.983 203.745 706.983 206.916 Q706.983 210.527 704.113 212.633 Q701.266 214.74 696.266 214.74 Q694.183 214.74 691.914 214.323 Q689.669 213.93 687.169 213.12 L687.169 208.721 Q689.53 209.948 691.821 210.573 Q694.113 211.175 696.358 211.175 Q699.368 211.175 700.988 210.157 Q702.608 209.115 702.608 207.24 Q702.608 205.504 701.428 204.578 Q700.27 203.652 696.312 202.796 L694.831 202.448 Q690.872 201.615 689.113 199.902 Q687.354 198.166 687.354 195.157 Q687.354 191.499 689.946 189.509 Q692.539 187.518 697.308 187.518 Q699.669 187.518 701.752 187.865 Q703.835 188.212 705.595 188.907 Z\" fill=\"#000000\" fill-rule=\"evenodd\" fill-opacity=\"1\" /><path clip-path=\"url(#clip480)\" d=\"M735.942 200.041 L735.942 202.124 L716.358 202.124 Q716.636 206.522 718.997 208.837 Q721.381 211.129 725.618 211.129 Q728.071 211.129 730.363 210.527 Q732.678 209.925 734.946 208.721 L734.946 212.749 Q732.655 213.721 730.247 214.231 Q727.84 214.74 725.363 214.74 Q719.159 214.74 715.525 211.129 Q711.914 207.518 711.914 201.36 Q711.914 194.995 715.34 191.268 Q718.789 187.518 724.622 187.518 Q729.854 187.518 732.886 190.897 Q735.942 194.254 735.942 200.041 M731.682 198.791 Q731.636 195.296 729.715 193.212 Q727.817 191.129 724.668 191.129 Q721.104 191.129 718.951 193.143 Q716.821 195.157 716.497 198.814 L731.682 198.791 Z\" fill=\"#000000\" fill-rule=\"evenodd\" fill-opacity=\"1\" /><path clip-path=\"url(#clip480)\" d=\"M759.992 192.078 L759.992 178.05 L764.252 178.05 L764.252 214.069 L759.992 214.069 L759.992 210.18 Q758.65 212.495 756.59 213.629 Q754.553 214.74 751.682 214.74 Q746.983 214.74 744.02 210.99 Q741.08 207.24 741.08 201.129 Q741.08 195.018 744.02 191.268 Q746.983 187.518 751.682 187.518 Q754.553 187.518 756.59 188.652 Q758.65 189.763 759.992 192.078 M745.479 201.129 Q745.479 205.828 747.4 208.513 Q749.344 211.175 752.724 211.175 Q756.104 211.175 758.048 208.513 Q759.992 205.828 759.992 201.129 Q759.992 196.43 758.048 193.768 Q756.104 191.083 752.724 191.083 Q749.344 191.083 747.4 193.768 Q745.479 196.43 745.479 201.129 Z\" fill=\"#000000\" fill-rule=\"evenodd\" fill-opacity=\"1\" /></svg>\n"
      ]
     },
     "metadata": {},
     "output_type": "display_data"
    }
   ],
   "source": [
    "# solution time\n",
    "p1 = plot(1:nScenMax,solTimeTraj_s[1,:],\n",
    "    xlabel=\"# scenarios\",\n",
    "    ylabel=\"sol. time [s]\",\n",
    "    marker=:circle,\n",
    "    markercolor = :black,\n",
    "    linecolor = :black,\n",
    "    label=\"monolithic\")\n",
    "\n",
    "p1 = plot!(1:nScenMax,solTimeTraj_s[2,:],\n",
    "    marker=:square, \n",
    "    markercolor = :black,\n",
    "    linecolor = :black,\n",
    "    markersize = 3,\n",
    "    linestyle = :dashdot,\n",
    "    label=\"decomposed\",\n",
    "    gridlinewidth=2,\n",
    "    dpi=600)\n",
    "\n",
    "display(p1)\n",
    "savefig(p1,\"C:/Users/MACC-Jose/Documents/Canada/Papers/Benders Decomposition/Figures/C1_SolTime.pdf\");"
   ]
  },
  {
   "cell_type": "code",
   "execution_count": 17,
   "id": "f9e5bfc5",
   "metadata": {},
   "outputs": [
    {
     "data": {
      "image/svg+xml": [
       "<?xml version=\"1.0\" encoding=\"utf-8\"?>\n",
       "<svg xmlns=\"http://www.w3.org/2000/svg\" xmlns:xlink=\"http://www.w3.org/1999/xlink\" width=\"600\" height=\"400\" viewBox=\"0 0 2400 1600\">\n",
       "<defs>\n",
       "  <clipPath id=\"clip530\">\n",
       "    <rect x=\"0\" y=\"0\" width=\"2400\" height=\"1600\"/>\n",
       "  </clipPath>\n",
       "</defs>\n",
       "<path clip-path=\"url(#clip530)\" d=\"M0 1600 L2400 1600 L2400 0 L0 0  Z\" fill=\"#ffffff\" fill-rule=\"evenodd\" fill-opacity=\"1\"/>\n",
       "<defs>\n",
       "  <clipPath id=\"clip531\">\n",
       "    <rect x=\"480\" y=\"0\" width=\"1681\" height=\"1600\"/>\n",
       "  </clipPath>\n",
       "</defs>\n",
       "<path clip-path=\"url(#clip530)\" d=\"M205.121 1423.18 L2352.76 1423.18 L2352.76 47.2441 L205.121 47.2441  Z\" fill=\"#ffffff\" fill-rule=\"evenodd\" fill-opacity=\"1\"/>\n",
       "<defs>\n",
       "  <clipPath id=\"clip532\">\n",
       "    <rect x=\"205\" y=\"47\" width=\"2149\" height=\"1377\"/>\n",
       "  </clipPath>\n",
       "</defs>\n",
       "<polyline clip-path=\"url(#clip532)\" style=\"stroke:#000000; stroke-linecap:round; stroke-linejoin:round; stroke-width:8; stroke-opacity:0.1; fill:none\" points=\"224.555,1423.18 224.555,47.2441 \"/>\n",
       "<polyline clip-path=\"url(#clip532)\" style=\"stroke:#000000; stroke-linecap:round; stroke-linejoin:round; stroke-width:8; stroke-opacity:0.1; fill:none\" points=\"638.039,1423.18 638.039,47.2441 \"/>\n",
       "<polyline clip-path=\"url(#clip532)\" style=\"stroke:#000000; stroke-linecap:round; stroke-linejoin:round; stroke-width:8; stroke-opacity:0.1; fill:none\" points=\"1051.52,1423.18 1051.52,47.2441 \"/>\n",
       "<polyline clip-path=\"url(#clip532)\" style=\"stroke:#000000; stroke-linecap:round; stroke-linejoin:round; stroke-width:8; stroke-opacity:0.1; fill:none\" points=\"1465.01,1423.18 1465.01,47.2441 \"/>\n",
       "<polyline clip-path=\"url(#clip532)\" style=\"stroke:#000000; stroke-linecap:round; stroke-linejoin:round; stroke-width:8; stroke-opacity:0.1; fill:none\" points=\"1878.49,1423.18 1878.49,47.2441 \"/>\n",
       "<polyline clip-path=\"url(#clip532)\" style=\"stroke:#000000; stroke-linecap:round; stroke-linejoin:round; stroke-width:8; stroke-opacity:0.1; fill:none\" points=\"2291.97,1423.18 2291.97,47.2441 \"/>\n",
       "<polyline clip-path=\"url(#clip530)\" style=\"stroke:#000000; stroke-linecap:round; stroke-linejoin:round; stroke-width:4; stroke-opacity:1; fill:none\" points=\"205.121,1423.18 2352.76,1423.18 \"/>\n",
       "<polyline clip-path=\"url(#clip530)\" style=\"stroke:#000000; stroke-linecap:round; stroke-linejoin:round; stroke-width:4; stroke-opacity:1; fill:none\" points=\"224.555,1423.18 224.555,1404.28 \"/>\n",
       "<polyline clip-path=\"url(#clip530)\" style=\"stroke:#000000; stroke-linecap:round; stroke-linejoin:round; stroke-width:4; stroke-opacity:1; fill:none\" points=\"638.039,1423.18 638.039,1404.28 \"/>\n",
       "<polyline clip-path=\"url(#clip530)\" style=\"stroke:#000000; stroke-linecap:round; stroke-linejoin:round; stroke-width:4; stroke-opacity:1; fill:none\" points=\"1051.52,1423.18 1051.52,1404.28 \"/>\n",
       "<polyline clip-path=\"url(#clip530)\" style=\"stroke:#000000; stroke-linecap:round; stroke-linejoin:round; stroke-width:4; stroke-opacity:1; fill:none\" points=\"1465.01,1423.18 1465.01,1404.28 \"/>\n",
       "<polyline clip-path=\"url(#clip530)\" style=\"stroke:#000000; stroke-linecap:round; stroke-linejoin:round; stroke-width:4; stroke-opacity:1; fill:none\" points=\"1878.49,1423.18 1878.49,1404.28 \"/>\n",
       "<polyline clip-path=\"url(#clip530)\" style=\"stroke:#000000; stroke-linecap:round; stroke-linejoin:round; stroke-width:4; stroke-opacity:1; fill:none\" points=\"2291.97,1423.18 2291.97,1404.28 \"/>\n",
       "<path clip-path=\"url(#clip530)\" d=\"M224.555 1454.1 Q220.944 1454.1 219.115 1457.66 Q217.309 1461.2 217.309 1468.33 Q217.309 1475.44 219.115 1479.01 Q220.944 1482.55 224.555 1482.55 Q228.189 1482.55 229.994 1479.01 Q231.823 1475.44 231.823 1468.33 Q231.823 1461.2 229.994 1457.66 Q228.189 1454.1 224.555 1454.1 M224.555 1450.39 Q230.365 1450.39 233.42 1455 Q236.499 1459.58 236.499 1468.33 Q236.499 1477.06 233.42 1481.67 Q230.365 1486.25 224.555 1486.25 Q218.745 1486.25 215.666 1481.67 Q212.61 1477.06 212.61 1468.33 Q212.61 1459.58 215.666 1455 Q218.745 1450.39 224.555 1450.39 Z\" fill=\"#000000\" fill-rule=\"evenodd\" fill-opacity=\"1\" /><path clip-path=\"url(#clip530)\" d=\"M612.726 1481.64 L620.365 1481.64 L620.365 1455.28 L612.055 1456.95 L612.055 1452.69 L620.319 1451.02 L624.995 1451.02 L624.995 1481.64 L632.633 1481.64 L632.633 1485.58 L612.726 1485.58 L612.726 1481.64 Z\" fill=\"#000000\" fill-rule=\"evenodd\" fill-opacity=\"1\" /><path clip-path=\"url(#clip530)\" d=\"M652.078 1454.1 Q648.467 1454.1 646.638 1457.66 Q644.832 1461.2 644.832 1468.33 Q644.832 1475.44 646.638 1479.01 Q648.467 1482.55 652.078 1482.55 Q655.712 1482.55 657.518 1479.01 Q659.346 1475.44 659.346 1468.33 Q659.346 1461.2 657.518 1457.66 Q655.712 1454.1 652.078 1454.1 M652.078 1450.39 Q657.888 1450.39 660.943 1455 Q664.022 1459.58 664.022 1468.33 Q664.022 1477.06 660.943 1481.67 Q657.888 1486.25 652.078 1486.25 Q646.268 1486.25 643.189 1481.67 Q640.133 1477.06 640.133 1468.33 Q640.133 1459.58 643.189 1455 Q646.268 1450.39 652.078 1450.39 Z\" fill=\"#000000\" fill-rule=\"evenodd\" fill-opacity=\"1\" /><path clip-path=\"url(#clip530)\" d=\"M1030.3 1481.64 L1046.61 1481.64 L1046.61 1485.58 L1024.67 1485.58 L1024.67 1481.64 Q1027.33 1478.89 1031.92 1474.26 Q1036.52 1469.61 1037.7 1468.27 Q1039.95 1465.74 1040.83 1464.01 Q1041.73 1462.25 1041.73 1460.56 Q1041.73 1457.8 1039.79 1456.07 Q1037.87 1454.33 1034.76 1454.33 Q1032.56 1454.33 1030.11 1455.09 Q1027.68 1455.86 1024.9 1457.41 L1024.9 1452.69 Q1027.73 1451.55 1030.18 1450.97 Q1032.63 1450.39 1034.67 1450.39 Q1040.04 1450.39 1043.24 1453.08 Q1046.43 1455.77 1046.43 1460.26 Q1046.43 1462.39 1045.62 1464.31 Q1044.83 1466.2 1042.73 1468.8 Q1042.15 1469.47 1039.05 1472.69 Q1035.94 1475.88 1030.3 1481.64 Z\" fill=\"#000000\" fill-rule=\"evenodd\" fill-opacity=\"1\" /><path clip-path=\"url(#clip530)\" d=\"M1066.43 1454.1 Q1062.82 1454.1 1060.99 1457.66 Q1059.18 1461.2 1059.18 1468.33 Q1059.18 1475.44 1060.99 1479.01 Q1062.82 1482.55 1066.43 1482.55 Q1070.06 1482.55 1071.87 1479.01 Q1073.7 1475.44 1073.7 1468.33 Q1073.7 1461.2 1071.87 1457.66 Q1070.06 1454.1 1066.43 1454.1 M1066.43 1450.39 Q1072.24 1450.39 1075.3 1455 Q1078.37 1459.58 1078.37 1468.33 Q1078.37 1477.06 1075.3 1481.67 Q1072.24 1486.25 1066.43 1486.25 Q1060.62 1486.25 1057.54 1481.67 Q1054.49 1477.06 1054.49 1468.33 Q1054.49 1459.58 1057.54 1455 Q1060.62 1450.39 1066.43 1450.39 Z\" fill=\"#000000\" fill-rule=\"evenodd\" fill-opacity=\"1\" /><path clip-path=\"url(#clip530)\" d=\"M1453.85 1466.95 Q1457.21 1467.66 1459.08 1469.93 Q1460.98 1472.2 1460.98 1475.53 Q1460.98 1480.65 1457.46 1483.45 Q1453.94 1486.25 1447.46 1486.25 Q1445.28 1486.25 1442.97 1485.81 Q1440.68 1485.39 1438.22 1484.54 L1438.22 1480.02 Q1440.17 1481.16 1442.48 1481.74 Q1444.8 1482.32 1447.32 1482.32 Q1451.72 1482.32 1454.01 1480.58 Q1456.33 1478.84 1456.33 1475.53 Q1456.33 1472.48 1454.17 1470.77 Q1452.04 1469.03 1448.22 1469.03 L1444.2 1469.03 L1444.2 1465.19 L1448.41 1465.19 Q1451.86 1465.19 1453.69 1463.82 Q1455.52 1462.43 1455.52 1459.84 Q1455.52 1457.18 1453.62 1455.77 Q1451.74 1454.33 1448.22 1454.33 Q1446.3 1454.33 1444.1 1454.75 Q1441.9 1455.16 1439.27 1456.04 L1439.27 1451.88 Q1441.93 1451.14 1444.24 1450.77 Q1446.58 1450.39 1448.64 1450.39 Q1453.96 1450.39 1457.07 1452.83 Q1460.17 1455.23 1460.17 1459.35 Q1460.17 1462.22 1458.52 1464.21 Q1456.88 1466.18 1453.85 1466.95 Z\" fill=\"#000000\" fill-rule=\"evenodd\" fill-opacity=\"1\" /><path clip-path=\"url(#clip530)\" d=\"M1479.84 1454.1 Q1476.23 1454.1 1474.4 1457.66 Q1472.6 1461.2 1472.6 1468.33 Q1472.6 1475.44 1474.4 1479.01 Q1476.23 1482.55 1479.84 1482.55 Q1483.48 1482.55 1485.28 1479.01 Q1487.11 1475.44 1487.11 1468.33 Q1487.11 1461.2 1485.28 1457.66 Q1483.48 1454.1 1479.84 1454.1 M1479.84 1450.39 Q1485.65 1450.39 1488.71 1455 Q1491.79 1459.58 1491.79 1468.33 Q1491.79 1477.06 1488.71 1481.67 Q1485.65 1486.25 1479.84 1486.25 Q1474.03 1486.25 1470.96 1481.67 Q1467.9 1477.06 1467.9 1468.33 Q1467.9 1459.58 1470.96 1455 Q1474.03 1450.39 1479.84 1450.39 Z\" fill=\"#000000\" fill-rule=\"evenodd\" fill-opacity=\"1\" /><path clip-path=\"url(#clip530)\" d=\"M1866.66 1455.09 L1854.86 1473.54 L1866.66 1473.54 L1866.66 1455.09 M1865.43 1451.02 L1871.31 1451.02 L1871.31 1473.54 L1876.24 1473.54 L1876.24 1477.43 L1871.31 1477.43 L1871.31 1485.58 L1866.66 1485.58 L1866.66 1477.43 L1851.06 1477.43 L1851.06 1472.92 L1865.43 1451.02 Z\" fill=\"#000000\" fill-rule=\"evenodd\" fill-opacity=\"1\" /><path clip-path=\"url(#clip530)\" d=\"M1893.98 1454.1 Q1890.36 1454.1 1888.54 1457.66 Q1886.73 1461.2 1886.73 1468.33 Q1886.73 1475.44 1888.54 1479.01 Q1890.36 1482.55 1893.98 1482.55 Q1897.61 1482.55 1899.42 1479.01 Q1901.24 1475.44 1901.24 1468.33 Q1901.24 1461.2 1899.42 1457.66 Q1897.61 1454.1 1893.98 1454.1 M1893.98 1450.39 Q1899.79 1450.39 1902.84 1455 Q1905.92 1459.58 1905.92 1468.33 Q1905.92 1477.06 1902.84 1481.67 Q1899.79 1486.25 1893.98 1486.25 Q1888.17 1486.25 1885.09 1481.67 Q1882.03 1477.06 1882.03 1468.33 Q1882.03 1459.58 1885.09 1455 Q1888.17 1450.39 1893.98 1450.39 Z\" fill=\"#000000\" fill-rule=\"evenodd\" fill-opacity=\"1\" /><path clip-path=\"url(#clip530)\" d=\"M2266.67 1451.02 L2285.03 1451.02 L2285.03 1454.96 L2270.96 1454.96 L2270.96 1463.43 Q2271.97 1463.08 2272.99 1462.92 Q2274.01 1462.73 2275.03 1462.73 Q2280.82 1462.73 2284.2 1465.9 Q2287.58 1469.08 2287.58 1474.49 Q2287.58 1480.07 2284.1 1483.17 Q2280.63 1486.25 2274.31 1486.25 Q2272.14 1486.25 2269.87 1485.88 Q2267.62 1485.51 2265.21 1484.77 L2265.21 1480.07 Q2267.3 1481.2 2269.52 1481.76 Q2271.74 1482.32 2274.22 1482.32 Q2278.22 1482.32 2280.56 1480.21 Q2282.9 1478.1 2282.9 1474.49 Q2282.9 1470.88 2280.56 1468.77 Q2278.22 1466.67 2274.22 1466.67 Q2272.34 1466.67 2270.47 1467.08 Q2268.62 1467.5 2266.67 1468.38 L2266.67 1451.02 Z\" fill=\"#000000\" fill-rule=\"evenodd\" fill-opacity=\"1\" /><path clip-path=\"url(#clip530)\" d=\"M2306.79 1454.1 Q2303.18 1454.1 2301.35 1457.66 Q2299.54 1461.2 2299.54 1468.33 Q2299.54 1475.44 2301.35 1479.01 Q2303.18 1482.55 2306.79 1482.55 Q2310.42 1482.55 2312.23 1479.01 Q2314.06 1475.44 2314.06 1468.33 Q2314.06 1461.2 2312.23 1457.66 Q2310.42 1454.1 2306.79 1454.1 M2306.79 1450.39 Q2312.6 1450.39 2315.65 1455 Q2318.73 1459.58 2318.73 1468.33 Q2318.73 1477.06 2315.65 1481.67 Q2312.6 1486.25 2306.79 1486.25 Q2300.98 1486.25 2297.9 1481.67 Q2294.84 1477.06 2294.84 1468.33 Q2294.84 1459.58 2297.9 1455 Q2300.98 1450.39 2306.79 1450.39 Z\" fill=\"#000000\" fill-rule=\"evenodd\" fill-opacity=\"1\" /><path clip-path=\"url(#clip530)\" d=\"M1118.71 1539.37 L1109.45 1539.37 L1106.78 1550 L1116.1 1550 L1118.71 1539.37 M1113.94 1521.26 L1110.63 1534.46 L1119.92 1534.46 L1123.27 1521.26 L1128.36 1521.26 L1125.08 1534.46 L1135.01 1534.46 L1135.01 1539.37 L1123.84 1539.37 L1121.23 1550 L1131.35 1550 L1131.35 1554.87 L1119.99 1554.87 L1116.68 1568.04 L1111.58 1568.04 L1114.86 1554.87 L1105.54 1554.87 L1102.26 1568.04 L1097.13 1568.04 L1100.44 1554.87 L1090.42 1554.87 L1090.42 1550 L1101.62 1550 L1104.3 1539.37 L1094.05 1539.37 L1094.05 1534.46 L1105.54 1534.46 L1108.78 1521.26 L1113.94 1521.26 Z\" fill=\"#000000\" fill-rule=\"evenodd\" fill-opacity=\"1\" /><path clip-path=\"url(#clip530)\" d=\"M1189.6 1533.45 L1189.6 1538.98 Q1187.11 1537.71 1184.44 1537.07 Q1181.77 1536.44 1178.9 1536.44 Q1174.54 1536.44 1172.34 1537.77 Q1170.18 1539.11 1170.18 1541.79 Q1170.18 1543.82 1171.74 1545 Q1173.3 1546.15 1178.01 1547.2 L1180.02 1547.64 Q1186.25 1548.98 1188.86 1551.43 Q1191.51 1553.85 1191.51 1558.21 Q1191.51 1563.17 1187.56 1566.07 Q1183.64 1568.97 1176.77 1568.97 Q1173.9 1568.97 1170.79 1568.39 Q1167.7 1567.85 1164.26 1566.74 L1164.26 1560.69 Q1167.51 1562.38 1170.66 1563.24 Q1173.81 1564.07 1176.9 1564.07 Q1181.03 1564.07 1183.26 1562.66 Q1185.49 1561.23 1185.49 1558.65 Q1185.49 1556.27 1183.87 1554.99 Q1182.28 1553.72 1176.83 1552.54 L1174.8 1552.07 Q1169.35 1550.92 1166.93 1548.56 Q1164.51 1546.18 1164.51 1542.04 Q1164.51 1537.01 1168.08 1534.27 Q1171.64 1531.54 1178.2 1531.54 Q1181.45 1531.54 1184.31 1532.01 Q1187.18 1532.49 1189.6 1533.45 Z\" fill=\"#000000\" fill-rule=\"evenodd\" fill-opacity=\"1\" /><path clip-path=\"url(#clip530)\" d=\"M1226.49 1533.76 L1226.49 1539.24 Q1224 1537.87 1221.49 1537.2 Q1219.01 1536.5 1216.46 1536.5 Q1210.76 1536.5 1207.61 1540.13 Q1204.46 1543.73 1204.46 1550.25 Q1204.46 1556.78 1207.61 1560.4 Q1210.76 1564 1216.46 1564 Q1219.01 1564 1221.49 1563.33 Q1224 1562.63 1226.49 1561.26 L1226.49 1566.68 Q1224.03 1567.82 1221.39 1568.39 Q1218.78 1568.97 1215.82 1568.97 Q1207.77 1568.97 1203.03 1563.91 Q1198.28 1558.85 1198.28 1550.25 Q1198.28 1541.53 1203.06 1536.53 Q1207.87 1531.54 1216.2 1531.54 Q1218.91 1531.54 1221.49 1532.11 Q1224.07 1532.65 1226.49 1533.76 Z\" fill=\"#000000\" fill-rule=\"evenodd\" fill-opacity=\"1\" /><path clip-path=\"url(#clip530)\" d=\"M1267.16 1548.76 L1267.16 1551.62 L1240.23 1551.62 Q1240.62 1557.67 1243.86 1560.85 Q1247.14 1564 1252.97 1564 Q1256.34 1564 1259.49 1563.17 Q1262.67 1562.35 1265.79 1560.69 L1265.79 1566.23 Q1262.64 1567.57 1259.33 1568.27 Q1256.02 1568.97 1252.62 1568.97 Q1244.09 1568.97 1239.09 1564 Q1234.12 1559.04 1234.12 1550.57 Q1234.12 1541.82 1238.83 1536.69 Q1243.58 1531.54 1251.6 1531.54 Q1258.79 1531.54 1262.96 1536.18 Q1267.16 1540.8 1267.16 1548.76 M1261.31 1547.04 Q1261.24 1542.23 1258.6 1539.37 Q1255.99 1536.5 1251.66 1536.5 Q1246.76 1536.5 1243.8 1539.27 Q1240.87 1542.04 1240.43 1547.07 L1261.31 1547.04 Z\" fill=\"#000000\" fill-rule=\"evenodd\" fill-opacity=\"1\" /><path clip-path=\"url(#clip530)\" d=\"M1306.41 1546.53 L1306.41 1568.04 L1300.55 1568.04 L1300.55 1546.72 Q1300.55 1541.66 1298.58 1539.14 Q1296.6 1536.63 1292.66 1536.63 Q1287.91 1536.63 1285.18 1539.65 Q1282.44 1542.68 1282.44 1547.9 L1282.44 1568.04 L1276.55 1568.04 L1276.55 1532.4 L1282.44 1532.4 L1282.44 1537.93 Q1284.54 1534.72 1287.37 1533.13 Q1290.24 1531.54 1293.96 1531.54 Q1300.1 1531.54 1303.26 1535.36 Q1306.41 1539.14 1306.41 1546.53 Z\" fill=\"#000000\" fill-rule=\"evenodd\" fill-opacity=\"1\" /><path clip-path=\"url(#clip530)\" d=\"M1334.29 1550.12 Q1327.19 1550.12 1324.45 1551.75 Q1321.72 1553.37 1321.72 1557.29 Q1321.72 1560.4 1323.75 1562.25 Q1325.82 1564.07 1329.35 1564.07 Q1334.22 1564.07 1337.15 1560.63 Q1340.11 1557.16 1340.11 1551.43 L1340.11 1550.12 L1334.29 1550.12 M1345.97 1547.71 L1345.97 1568.04 L1340.11 1568.04 L1340.11 1562.63 Q1338.11 1565.88 1335.12 1567.44 Q1332.12 1568.97 1327.8 1568.97 Q1322.32 1568.97 1319.07 1565.91 Q1315.86 1562.82 1315.86 1557.67 Q1315.86 1551.65 1319.87 1548.6 Q1323.91 1545.54 1331.9 1545.54 L1340.11 1545.54 L1340.11 1544.97 Q1340.11 1540.93 1337.44 1538.73 Q1334.8 1536.5 1329.99 1536.5 Q1326.94 1536.5 1324.04 1537.23 Q1321.14 1537.97 1318.47 1539.43 L1318.47 1534.02 Q1321.68 1532.78 1324.71 1532.17 Q1327.73 1531.54 1330.6 1531.54 Q1338.33 1531.54 1342.15 1535.55 Q1345.97 1539.56 1345.97 1547.71 Z\" fill=\"#000000\" fill-rule=\"evenodd\" fill-opacity=\"1\" /><path clip-path=\"url(#clip530)\" d=\"M1378.69 1537.87 Q1377.7 1537.3 1376.52 1537.04 Q1375.38 1536.76 1373.98 1536.76 Q1369.01 1536.76 1366.34 1540 Q1363.7 1543.22 1363.7 1549.27 L1363.7 1568.04 L1357.81 1568.04 L1357.81 1532.4 L1363.7 1532.4 L1363.7 1537.93 Q1365.54 1534.69 1368.5 1533.13 Q1371.46 1531.54 1375.7 1531.54 Q1376.3 1531.54 1377.03 1531.63 Q1377.77 1531.7 1378.66 1531.85 L1378.69 1537.87 Z\" fill=\"#000000\" fill-rule=\"evenodd\" fill-opacity=\"1\" /><path clip-path=\"url(#clip530)\" d=\"M1384.83 1532.4 L1390.69 1532.4 L1390.69 1568.04 L1384.83 1568.04 L1384.83 1532.4 M1384.83 1518.52 L1390.69 1518.52 L1390.69 1525.93 L1384.83 1525.93 L1384.83 1518.52 Z\" fill=\"#000000\" fill-rule=\"evenodd\" fill-opacity=\"1\" /><path clip-path=\"url(#clip530)\" d=\"M1416.76 1536.5 Q1412.05 1536.5 1409.31 1540.19 Q1406.57 1543.85 1406.57 1550.25 Q1406.57 1556.65 1409.28 1560.34 Q1412.01 1564 1416.76 1564 Q1421.43 1564 1424.17 1560.31 Q1426.91 1556.62 1426.91 1550.25 Q1426.91 1543.92 1424.17 1540.23 Q1421.43 1536.5 1416.76 1536.5 M1416.76 1531.54 Q1424.39 1531.54 1428.76 1536.5 Q1433.12 1541.47 1433.12 1550.25 Q1433.12 1559 1428.76 1564 Q1424.39 1568.97 1416.76 1568.97 Q1409.09 1568.97 1404.72 1564 Q1400.4 1559 1400.4 1550.25 Q1400.4 1541.47 1404.72 1536.5 Q1409.09 1531.54 1416.76 1531.54 Z\" fill=\"#000000\" fill-rule=\"evenodd\" fill-opacity=\"1\" /><path clip-path=\"url(#clip530)\" d=\"M1465.55 1533.45 L1465.55 1538.98 Q1463.07 1537.71 1460.39 1537.07 Q1457.72 1536.44 1454.85 1536.44 Q1450.49 1536.44 1448.3 1537.77 Q1446.13 1539.11 1446.13 1541.79 Q1446.13 1543.82 1447.69 1545 Q1449.25 1546.15 1453.96 1547.2 L1455.97 1547.64 Q1462.21 1548.98 1464.82 1551.43 Q1467.46 1553.85 1467.46 1558.21 Q1467.46 1563.17 1463.51 1566.07 Q1459.6 1568.97 1452.72 1568.97 Q1449.86 1568.97 1446.74 1568.39 Q1443.65 1567.85 1440.21 1566.74 L1440.21 1560.69 Q1443.46 1562.38 1446.61 1563.24 Q1449.76 1564.07 1452.85 1564.07 Q1456.99 1564.07 1459.22 1562.66 Q1461.44 1561.23 1461.44 1558.65 Q1461.44 1556.27 1459.82 1554.99 Q1458.23 1553.72 1452.79 1552.54 L1450.75 1552.07 Q1445.31 1550.92 1442.89 1548.56 Q1440.47 1546.18 1440.47 1542.04 Q1440.47 1537.01 1444.03 1534.27 Q1447.6 1531.54 1454.15 1531.54 Q1457.4 1531.54 1460.27 1532.01 Q1463.13 1532.49 1465.55 1533.45 Z\" fill=\"#000000\" fill-rule=\"evenodd\" fill-opacity=\"1\" /><polyline clip-path=\"url(#clip532)\" style=\"stroke:#000000; stroke-linecap:round; stroke-linejoin:round; stroke-width:8; stroke-opacity:0.1; fill:none\" points=\"205.121,1386.71 2352.76,1386.71 \"/>\n",
       "<polyline clip-path=\"url(#clip532)\" style=\"stroke:#000000; stroke-linecap:round; stroke-linejoin:round; stroke-width:8; stroke-opacity:0.1; fill:none\" points=\"205.121,1162.24 2352.76,1162.24 \"/>\n",
       "<polyline clip-path=\"url(#clip532)\" style=\"stroke:#000000; stroke-linecap:round; stroke-linejoin:round; stroke-width:8; stroke-opacity:0.1; fill:none\" points=\"205.121,937.779 2352.76,937.779 \"/>\n",
       "<polyline clip-path=\"url(#clip532)\" style=\"stroke:#000000; stroke-linecap:round; stroke-linejoin:round; stroke-width:8; stroke-opacity:0.1; fill:none\" points=\"205.121,713.316 2352.76,713.316 \"/>\n",
       "<polyline clip-path=\"url(#clip532)\" style=\"stroke:#000000; stroke-linecap:round; stroke-linejoin:round; stroke-width:8; stroke-opacity:0.1; fill:none\" points=\"205.121,488.852 2352.76,488.852 \"/>\n",
       "<polyline clip-path=\"url(#clip532)\" style=\"stroke:#000000; stroke-linecap:round; stroke-linejoin:round; stroke-width:8; stroke-opacity:0.1; fill:none\" points=\"205.121,264.388 2352.76,264.388 \"/>\n",
       "<polyline clip-path=\"url(#clip530)\" style=\"stroke:#000000; stroke-linecap:round; stroke-linejoin:round; stroke-width:4; stroke-opacity:1; fill:none\" points=\"205.121,1423.18 205.121,47.2441 \"/>\n",
       "<polyline clip-path=\"url(#clip530)\" style=\"stroke:#000000; stroke-linecap:round; stroke-linejoin:round; stroke-width:4; stroke-opacity:1; fill:none\" points=\"205.121,1386.71 224.019,1386.71 \"/>\n",
       "<polyline clip-path=\"url(#clip530)\" style=\"stroke:#000000; stroke-linecap:round; stroke-linejoin:round; stroke-width:4; stroke-opacity:1; fill:none\" points=\"205.121,1162.24 224.019,1162.24 \"/>\n",
       "<polyline clip-path=\"url(#clip530)\" style=\"stroke:#000000; stroke-linecap:round; stroke-linejoin:round; stroke-width:4; stroke-opacity:1; fill:none\" points=\"205.121,937.779 224.019,937.779 \"/>\n",
       "<polyline clip-path=\"url(#clip530)\" style=\"stroke:#000000; stroke-linecap:round; stroke-linejoin:round; stroke-width:4; stroke-opacity:1; fill:none\" points=\"205.121,713.316 224.019,713.316 \"/>\n",
       "<polyline clip-path=\"url(#clip530)\" style=\"stroke:#000000; stroke-linecap:round; stroke-linejoin:round; stroke-width:4; stroke-opacity:1; fill:none\" points=\"205.121,488.852 224.019,488.852 \"/>\n",
       "<polyline clip-path=\"url(#clip530)\" style=\"stroke:#000000; stroke-linecap:round; stroke-linejoin:round; stroke-width:4; stroke-opacity:1; fill:none\" points=\"205.121,264.388 224.019,264.388 \"/>\n",
       "<path clip-path=\"url(#clip530)\" d=\"M157.177 1372.51 Q153.566 1372.51 151.737 1376.07 Q149.931 1379.61 149.931 1386.74 Q149.931 1393.85 151.737 1397.41 Q153.566 1400.95 157.177 1400.95 Q160.811 1400.95 162.616 1397.41 Q164.445 1393.85 164.445 1386.74 Q164.445 1379.61 162.616 1376.07 Q160.811 1372.51 157.177 1372.51 M157.177 1368.8 Q162.987 1368.8 166.042 1373.41 Q169.121 1377.99 169.121 1386.74 Q169.121 1395.47 166.042 1400.08 Q162.987 1404.66 157.177 1404.66 Q151.366 1404.66 148.288 1400.08 Q145.232 1395.47 145.232 1386.74 Q145.232 1377.99 148.288 1373.41 Q151.366 1368.8 157.177 1368.8 Z\" fill=\"#000000\" fill-rule=\"evenodd\" fill-opacity=\"1\" /><path clip-path=\"url(#clip530)\" d=\"M117.825 1175.59 L125.464 1175.59 L125.464 1149.22 L117.154 1150.89 L117.154 1146.63 L125.418 1144.96 L130.093 1144.96 L130.093 1175.59 L137.732 1175.59 L137.732 1179.52 L117.825 1179.52 L117.825 1175.59 Z\" fill=\"#000000\" fill-rule=\"evenodd\" fill-opacity=\"1\" /><path clip-path=\"url(#clip530)\" d=\"M157.177 1148.04 Q153.566 1148.04 151.737 1151.61 Q149.931 1155.15 149.931 1162.28 Q149.931 1169.38 151.737 1172.95 Q153.566 1176.49 157.177 1176.49 Q160.811 1176.49 162.616 1172.95 Q164.445 1169.38 164.445 1162.28 Q164.445 1155.15 162.616 1151.61 Q160.811 1148.04 157.177 1148.04 M157.177 1144.34 Q162.987 1144.34 166.042 1148.94 Q169.121 1153.53 169.121 1162.28 Q169.121 1171 166.042 1175.61 Q162.987 1180.19 157.177 1180.19 Q151.366 1180.19 148.288 1175.61 Q145.232 1171 145.232 1162.28 Q145.232 1153.53 148.288 1148.94 Q151.366 1144.34 157.177 1144.34 Z\" fill=\"#000000\" fill-rule=\"evenodd\" fill-opacity=\"1\" /><path clip-path=\"url(#clip530)\" d=\"M121.043 951.124 L137.362 951.124 L137.362 955.059 L115.418 955.059 L115.418 951.124 Q118.08 948.37 122.663 943.74 Q127.269 939.087 128.45 937.745 Q130.695 935.222 131.575 933.486 Q132.478 931.726 132.478 930.036 Q132.478 927.282 130.533 925.546 Q128.612 923.81 125.51 923.81 Q123.311 923.81 120.857 924.574 Q118.427 925.337 115.649 926.888 L115.649 922.166 Q118.473 921.032 120.927 920.453 Q123.38 919.874 125.418 919.874 Q130.788 919.874 133.982 922.56 Q137.177 925.245 137.177 929.736 Q137.177 931.865 136.367 933.786 Q135.579 935.685 133.473 938.277 Q132.894 938.948 129.792 942.166 Q126.691 945.36 121.043 951.124 Z\" fill=\"#000000\" fill-rule=\"evenodd\" fill-opacity=\"1\" /><path clip-path=\"url(#clip530)\" d=\"M157.177 923.578 Q153.566 923.578 151.737 927.143 Q149.931 930.685 149.931 937.814 Q149.931 944.921 151.737 948.485 Q153.566 952.027 157.177 952.027 Q160.811 952.027 162.616 948.485 Q164.445 944.921 164.445 937.814 Q164.445 930.685 162.616 927.143 Q160.811 923.578 157.177 923.578 M157.177 919.874 Q162.987 919.874 166.042 924.481 Q169.121 929.064 169.121 937.814 Q169.121 946.541 166.042 951.147 Q162.987 955.731 157.177 955.731 Q151.366 955.731 148.288 951.147 Q145.232 946.541 145.232 937.814 Q145.232 929.064 148.288 924.481 Q151.366 919.874 157.177 919.874 Z\" fill=\"#000000\" fill-rule=\"evenodd\" fill-opacity=\"1\" /><path clip-path=\"url(#clip530)\" d=\"M131.181 711.961 Q134.538 712.679 136.413 714.947 Q138.311 717.216 138.311 720.549 Q138.311 725.665 134.792 728.466 Q131.274 731.267 124.793 731.267 Q122.617 731.267 120.302 730.827 Q118.01 730.41 115.556 729.554 L115.556 725.04 Q117.501 726.174 119.816 726.753 Q122.13 727.332 124.654 727.332 Q129.052 727.332 131.343 725.596 Q133.658 723.859 133.658 720.549 Q133.658 717.494 131.505 715.781 Q129.376 714.045 125.556 714.045 L121.529 714.045 L121.529 710.202 L125.742 710.202 Q129.191 710.202 131.019 708.836 Q132.848 707.447 132.848 704.855 Q132.848 702.193 130.95 700.781 Q129.075 699.346 125.556 699.346 Q123.635 699.346 121.436 699.762 Q119.237 700.179 116.598 701.059 L116.598 696.892 Q119.26 696.151 121.575 695.781 Q123.913 695.411 125.973 695.411 Q131.297 695.411 134.399 697.841 Q137.501 700.248 137.501 704.369 Q137.501 707.239 135.857 709.23 Q134.214 711.197 131.181 711.961 Z\" fill=\"#000000\" fill-rule=\"evenodd\" fill-opacity=\"1\" /><path clip-path=\"url(#clip530)\" d=\"M157.177 699.114 Q153.566 699.114 151.737 702.679 Q149.931 706.221 149.931 713.35 Q149.931 720.457 151.737 724.021 Q153.566 727.563 157.177 727.563 Q160.811 727.563 162.616 724.021 Q164.445 720.457 164.445 713.35 Q164.445 706.221 162.616 702.679 Q160.811 699.114 157.177 699.114 M157.177 695.411 Q162.987 695.411 166.042 700.017 Q169.121 704.6 169.121 713.35 Q169.121 722.077 166.042 726.683 Q162.987 731.267 157.177 731.267 Q151.366 731.267 148.288 726.683 Q145.232 722.077 145.232 713.35 Q145.232 704.6 148.288 700.017 Q151.366 695.411 157.177 695.411 Z\" fill=\"#000000\" fill-rule=\"evenodd\" fill-opacity=\"1\" /><path clip-path=\"url(#clip530)\" d=\"M129.862 475.646 L118.056 494.095 L129.862 494.095 L129.862 475.646 M128.635 471.572 L134.515 471.572 L134.515 494.095 L139.445 494.095 L139.445 497.983 L134.515 497.983 L134.515 506.132 L129.862 506.132 L129.862 497.983 L114.26 497.983 L114.26 493.47 L128.635 471.572 Z\" fill=\"#000000\" fill-rule=\"evenodd\" fill-opacity=\"1\" /><path clip-path=\"url(#clip530)\" d=\"M157.177 474.65 Q153.566 474.65 151.737 478.215 Q149.931 481.757 149.931 488.886 Q149.931 495.993 151.737 499.558 Q153.566 503.099 157.177 503.099 Q160.811 503.099 162.616 499.558 Q164.445 495.993 164.445 488.886 Q164.445 481.757 162.616 478.215 Q160.811 474.65 157.177 474.65 M157.177 470.947 Q162.987 470.947 166.042 475.553 Q169.121 480.136 169.121 488.886 Q169.121 497.613 166.042 502.22 Q162.987 506.803 157.177 506.803 Q151.366 506.803 148.288 502.22 Q145.232 497.613 145.232 488.886 Q145.232 480.136 148.288 475.553 Q151.366 470.947 157.177 470.947 Z\" fill=\"#000000\" fill-rule=\"evenodd\" fill-opacity=\"1\" /><path clip-path=\"url(#clip530)\" d=\"M117.061 247.108 L135.417 247.108 L135.417 251.043 L121.343 251.043 L121.343 259.515 Q122.362 259.168 123.38 259.006 Q124.399 258.821 125.418 258.821 Q131.205 258.821 134.584 261.992 Q137.964 265.163 137.964 270.58 Q137.964 276.158 134.492 279.26 Q131.019 282.339 124.7 282.339 Q122.524 282.339 120.255 281.969 Q118.01 281.598 115.603 280.857 L115.603 276.158 Q117.686 277.293 119.908 277.848 Q122.13 278.404 124.607 278.404 Q128.612 278.404 130.95 276.297 Q133.288 274.191 133.288 270.58 Q133.288 266.969 130.95 264.862 Q128.612 262.756 124.607 262.756 Q122.732 262.756 120.857 263.172 Q119.006 263.589 117.061 264.469 L117.061 247.108 Z\" fill=\"#000000\" fill-rule=\"evenodd\" fill-opacity=\"1\" /><path clip-path=\"url(#clip530)\" d=\"M157.177 250.186 Q153.566 250.186 151.737 253.751 Q149.931 257.293 149.931 264.422 Q149.931 271.529 151.737 275.094 Q153.566 278.635 157.177 278.635 Q160.811 278.635 162.616 275.094 Q164.445 271.529 164.445 264.422 Q164.445 257.293 162.616 253.751 Q160.811 250.186 157.177 250.186 M157.177 246.483 Q162.987 246.483 166.042 251.089 Q169.121 255.672 169.121 264.422 Q169.121 273.149 166.042 277.756 Q162.987 282.339 157.177 282.339 Q151.366 282.339 148.288 277.756 Q145.232 273.149 145.232 264.422 Q145.232 255.672 148.288 251.089 Q151.366 246.483 157.177 246.483 Z\" fill=\"#000000\" fill-rule=\"evenodd\" fill-opacity=\"1\" /><path clip-path=\"url(#clip530)\" d=\"M29.4065 1005.21 L34.9447 1005.21 Q33.6716 1007.7 33.035 1010.37 Q32.3984 1013.04 32.3984 1015.91 Q32.3984 1020.27 33.7352 1022.46 Q35.072 1024.63 37.7456 1024.63 Q39.7826 1024.63 40.9603 1023.07 Q42.1061 1021.51 43.1565 1016.8 L43.6021 1014.79 Q44.9389 1008.56 47.3897 1005.95 Q49.8086 1003.3 54.1691 1003.3 Q59.1344 1003.3 62.0308 1007.25 Q64.9272 1011.17 64.9272 1018.04 Q64.9272 1020.9 64.3543 1024.02 Q63.8132 1027.11 62.6992 1030.55 L56.6518 1030.55 Q58.3387 1027.3 59.198 1024.15 Q60.0256 1021 60.0256 1017.91 Q60.0256 1013.78 58.6251 1011.55 Q57.1929 1009.32 54.6147 1009.32 Q52.2276 1009.32 50.9545 1010.94 Q49.6813 1012.53 48.5037 1017.98 L48.0262 1020.01 Q46.8804 1025.46 44.5251 1027.88 Q42.138 1030.29 38.0002 1030.29 Q32.9713 1030.29 30.2341 1026.73 Q27.4968 1023.16 27.4968 1016.61 Q27.4968 1013.36 27.9743 1010.5 Q28.4517 1007.63 29.4065 1005.21 Z\" fill=\"#000000\" fill-rule=\"evenodd\" fill-opacity=\"1\" /><path clip-path=\"url(#clip530)\" d=\"M32.4621 980.164 Q32.4621 984.875 36.1542 987.612 Q39.8145 990.349 46.212 990.349 Q52.6095 990.349 56.3017 987.644 Q59.9619 984.907 59.9619 980.164 Q59.9619 975.486 56.2698 972.748 Q52.5777 970.011 46.212 970.011 Q39.8781 970.011 36.186 972.748 Q32.4621 975.486 32.4621 980.164 M27.4968 980.164 Q27.4968 972.526 32.4621 968.165 Q37.4273 963.804 46.212 963.804 Q54.9649 963.804 59.9619 968.165 Q64.9272 972.526 64.9272 980.164 Q64.9272 987.835 59.9619 992.196 Q54.9649 996.524 46.212 996.524 Q37.4273 996.524 32.4621 992.196 Q27.4968 987.835 27.4968 980.164 Z\" fill=\"#000000\" fill-rule=\"evenodd\" fill-opacity=\"1\" /><path clip-path=\"url(#clip530)\" d=\"M14.479 954.097 L14.479 948.24 L64.0042 948.24 L64.0042 954.097 L14.479 954.097 Z\" fill=\"#000000\" fill-rule=\"evenodd\" fill-opacity=\"1\" /><path clip-path=\"url(#clip530)\" d=\"M55.9197 935.159 L55.9197 928.443 L64.0042 928.443 L64.0042 935.159 L55.9197 935.159 Z\" fill=\"#000000\" fill-rule=\"evenodd\" fill-opacity=\"1\" /><path clip-path=\"url(#clip530)\" d=\"M18.2347 888.753 L28.3562 888.753 L28.3562 876.69 L32.9077 876.69 L32.9077 888.753 L52.2594 888.753 Q56.6199 888.753 57.8613 887.575 Q59.1026 886.366 59.1026 882.705 L59.1026 876.69 L64.0042 876.69 L64.0042 882.705 Q64.0042 889.485 61.4897 892.063 Q58.9434 894.641 52.2594 894.641 L32.9077 894.641 L32.9077 898.938 L28.3562 898.938 L28.3562 894.641 L18.2347 894.641 L18.2347 888.753 Z\" fill=\"#000000\" fill-rule=\"evenodd\" fill-opacity=\"1\" /><path clip-path=\"url(#clip530)\" d=\"M28.3562 868.987 L28.3562 863.131 L64.0042 863.131 L64.0042 868.987 L28.3562 868.987 M14.479 868.987 L14.479 863.131 L21.895 863.131 L21.895 868.987 L14.479 868.987 Z\" fill=\"#000000\" fill-rule=\"evenodd\" fill-opacity=\"1\" /><path clip-path=\"url(#clip530)\" d=\"M35.1993 823.122 Q31.2526 820.926 29.3747 817.871 Q27.4968 814.815 27.4968 810.677 Q27.4968 805.107 31.4117 802.084 Q35.2948 799.06 42.4881 799.06 L64.0042 799.06 L64.0042 804.948 L42.679 804.948 Q37.5546 804.948 35.072 806.763 Q32.5894 808.577 32.5894 812.301 Q32.5894 816.852 35.6131 819.494 Q38.6368 822.136 43.8567 822.136 L64.0042 822.136 L64.0042 828.024 L42.679 828.024 Q37.5228 828.024 35.072 829.838 Q32.5894 831.652 32.5894 835.44 Q32.5894 839.928 35.6449 842.57 Q38.6686 845.211 43.8567 845.211 L64.0042 845.211 L64.0042 851.1 L28.3562 851.1 L28.3562 845.211 L33.8944 845.211 Q30.616 843.206 29.0564 840.405 Q27.4968 837.604 27.4968 833.753 Q27.4968 829.87 29.4702 827.165 Q31.4436 824.427 35.1993 823.122 Z\" fill=\"#000000\" fill-rule=\"evenodd\" fill-opacity=\"1\" /><path clip-path=\"url(#clip530)\" d=\"M44.7161 756.887 L47.5806 756.887 L47.5806 783.814 Q53.6281 783.432 56.8109 780.186 Q59.9619 776.907 59.9619 771.083 Q59.9619 767.709 59.1344 764.558 Q58.3069 761.375 56.6518 758.256 L62.1899 758.256 Q63.5267 761.407 64.227 764.717 Q64.9272 768.027 64.9272 771.433 Q64.9272 779.963 59.9619 784.96 Q54.9967 789.925 46.5303 789.925 Q37.7774 789.925 32.6531 785.215 Q27.4968 780.472 27.4968 772.451 Q27.4968 765.258 32.1438 761.089 Q36.7589 756.887 44.7161 756.887 M42.9973 762.744 Q38.1912 762.807 35.3266 765.449 Q32.4621 768.059 32.4621 772.388 Q32.4621 777.289 35.2312 780.249 Q38.0002 783.178 43.0292 783.623 L42.9973 762.744 Z\" fill=\"#000000\" fill-rule=\"evenodd\" fill-opacity=\"1\" /><path clip-path=\"url(#clip530)\" d=\"M14.5426 712.486 Q21.8632 716.751 29.0246 718.82 Q36.186 720.889 43.5384 720.889 Q50.8908 720.889 58.1159 718.82 Q65.3091 716.72 72.5979 712.486 L72.5979 717.579 Q65.1182 722.353 57.8931 724.74 Q50.668 727.096 43.5384 727.096 Q36.4406 727.096 29.2474 724.74 Q22.0542 722.385 14.5426 717.579 L14.5426 712.486 Z\" fill=\"#000000\" fill-rule=\"evenodd\" fill-opacity=\"1\" /><path clip-path=\"url(#clip530)\" d=\"M35.1993 673.369 Q31.2526 671.173 29.3747 668.117 Q27.4968 665.062 27.4968 660.924 Q27.4968 655.354 31.4117 652.33 Q35.2948 649.307 42.4881 649.307 L64.0042 649.307 L64.0042 655.195 L42.679 655.195 Q37.5546 655.195 35.072 657.009 Q32.5894 658.823 32.5894 662.547 Q32.5894 667.099 35.6131 669.741 Q38.6368 672.382 43.8567 672.382 L64.0042 672.382 L64.0042 678.271 L42.679 678.271 Q37.5228 678.271 35.072 680.085 Q32.5894 681.899 32.5894 685.687 Q32.5894 690.175 35.6449 692.816 Q38.6686 695.458 43.8567 695.458 L64.0042 695.458 L64.0042 701.346 L28.3562 701.346 L28.3562 695.458 L33.8944 695.458 Q30.616 693.453 29.0564 690.652 Q27.4968 687.851 27.4968 684 Q27.4968 680.117 29.4702 677.411 Q31.4436 674.674 35.1993 673.369 Z\" fill=\"#000000\" fill-rule=\"evenodd\" fill-opacity=\"1\" /><path clip-path=\"url(#clip530)\" d=\"M46.0847 621.425 Q46.0847 628.523 47.7079 631.26 Q49.3312 633.997 53.2461 633.997 Q56.3653 633.997 58.2114 631.96 Q60.0256 629.891 60.0256 626.358 Q60.0256 621.489 56.5881 618.56 Q53.1188 615.6 47.3897 615.6 L46.0847 615.6 L46.0847 621.425 M43.6657 609.744 L64.0042 609.744 L64.0042 615.6 L58.5933 615.6 Q61.8398 617.606 63.3994 620.597 Q64.9272 623.589 64.9272 627.918 Q64.9272 633.392 61.8716 636.639 Q58.7843 639.854 53.6281 639.854 Q47.6125 639.854 44.5569 635.843 Q41.5014 631.801 41.5014 623.812 L41.5014 615.6 L40.9285 615.6 Q36.8862 615.6 34.6901 618.274 Q32.4621 620.916 32.4621 625.722 Q32.4621 628.777 33.1941 631.674 Q33.9262 634.57 35.3903 637.244 L29.9795 637.244 Q28.7381 634.029 28.1334 631.005 Q27.4968 627.982 27.4968 625.117 Q27.4968 617.383 31.5072 613.563 Q35.5176 609.744 43.6657 609.744 Z\" fill=\"#000000\" fill-rule=\"evenodd\" fill-opacity=\"1\" /><path clip-path=\"url(#clip530)\" d=\"M28.3562 568.049 L45.7028 580.939 L64.0042 567.38 L64.0042 574.287 L49.9996 584.663 L64.0042 595.039 L64.0042 601.946 L45.3526 588.1 L28.3562 600.768 L28.3562 593.861 L41.0558 584.408 L28.3562 574.955 L28.3562 568.049 Z\" fill=\"#000000\" fill-rule=\"evenodd\" fill-opacity=\"1\" /><path clip-path=\"url(#clip530)\" d=\"M14.5426 560.028 L14.5426 554.935 Q22.0542 550.161 29.2474 547.806 Q36.4406 545.418 43.5384 545.418 Q50.668 545.418 57.8931 547.806 Q65.1182 550.161 72.5979 554.935 L72.5979 560.028 Q65.3091 555.795 58.1159 553.726 Q50.8908 551.625 43.5384 551.625 Q36.186 551.625 29.0246 553.726 Q21.8632 555.795 14.5426 560.028 Z\" fill=\"#000000\" fill-rule=\"evenodd\" fill-opacity=\"1\" /><path clip-path=\"url(#clip530)\" d=\"M14.479 513.494 L14.479 499.999 L19.0304 499.999 L19.0304 507.638 L68.0464 507.638 L68.0464 499.999 L72.5979 499.999 L72.5979 513.494 L14.479 513.494 Z\" fill=\"#000000\" fill-rule=\"evenodd\" fill-opacity=\"1\" /><path clip-path=\"url(#clip530)\" d=\"M29.4065 464.797 L34.9447 464.797 Q33.6716 467.279 33.035 469.953 Q32.3984 472.627 32.3984 475.491 Q32.3984 479.852 33.7352 482.048 Q35.072 484.212 37.7456 484.212 Q39.7826 484.212 40.9603 482.653 Q42.1061 481.093 43.1565 476.382 L43.6021 474.377 Q44.9389 468.139 47.3897 465.529 Q49.8086 462.887 54.1691 462.887 Q59.1344 462.887 62.0308 466.834 Q64.9272 470.749 64.9272 477.624 Q64.9272 480.488 64.3543 483.607 Q63.8132 486.695 62.6992 490.132 L56.6518 490.132 Q58.3387 486.886 59.198 483.735 Q60.0256 480.584 60.0256 477.496 Q60.0256 473.359 58.6251 471.131 Q57.1929 468.903 54.6147 468.903 Q52.2276 468.903 50.9545 470.526 Q49.6813 472.117 48.5037 477.56 L48.0262 479.597 Q46.8804 485.04 44.5251 487.459 Q42.138 489.878 38.0002 489.878 Q32.9713 489.878 30.2341 486.313 Q27.4968 482.748 27.4968 476.191 Q27.4968 472.945 27.9743 470.08 Q28.4517 467.216 29.4065 464.797 Z\" fill=\"#000000\" fill-rule=\"evenodd\" fill-opacity=\"1\" /><path clip-path=\"url(#clip530)\" d=\"M14.479 439.875 L72.5979 439.875 L72.5979 453.37 L68.0464 453.37 L68.0464 445.763 L19.0304 445.763 L19.0304 453.37 L14.479 453.37 L14.479 439.875 Z\" fill=\"#000000\" fill-rule=\"evenodd\" fill-opacity=\"1\" /><polyline clip-path=\"url(#clip532)\" style=\"stroke:#000000; stroke-linecap:round; stroke-linejoin:round; stroke-width:4; stroke-opacity:1; fill:none\" points=\"265.903,1384.24 307.251,1382.13 348.6,1377.62 389.948,1363.05 431.297,1367.83 472.645,1349.33 513.993,1340.22 555.342,1318.31 596.69,1320.18 638.039,1276.02 679.387,1291.47 720.735,1269.02 762.084,1239.62 803.432,1228.06 844.78,1241.37 886.129,1205.3 927.477,1163.55 968.826,1160.45 1010.17,1136.07 1051.52,1103.66 1092.87,1117.73 1134.22,1037.35 1175.57,1058.74 1216.92,1085.86 1258.26,1033.81 1299.61,1009.9 1340.96,978.25 1382.31,998.452 1423.66,902.696 1465.01,808.758 1506.35,877.488 1547.7,854.189 1589.05,733.405 1630.4,796.861 1671.75,745.571 1713.1,767.838 1754.44,668.086 1795.79,830.463 1837.14,566.696 1878.49,756.435 1919.84,457.292 1961.19,473.655 2002.54,445.867 \"/>\n",
       "<polyline clip-path=\"url(#clip532)\" style=\"stroke:#000000; stroke-linecap:round; stroke-linejoin:round; stroke-width:4; stroke-opacity:1; fill:none\" points=\"2085.23,345.374 2126.58,313.568 2167.93,242.929 2209.28,517.291 2250.63,86.1857 2291.97,381.109 \"/>\n",
       "<circle clip-path=\"url(#clip532)\" cx=\"265.903\" cy=\"1384.24\" r=\"14.4\" fill=\"#000000\" fill-rule=\"evenodd\" fill-opacity=\"1\" stroke=\"none\"/>\n",
       "<circle clip-path=\"url(#clip532)\" cx=\"307.251\" cy=\"1382.13\" r=\"14.4\" fill=\"#000000\" fill-rule=\"evenodd\" fill-opacity=\"1\" stroke=\"none\"/>\n",
       "<circle clip-path=\"url(#clip532)\" cx=\"348.6\" cy=\"1377.62\" r=\"14.4\" fill=\"#000000\" fill-rule=\"evenodd\" fill-opacity=\"1\" stroke=\"none\"/>\n",
       "<circle clip-path=\"url(#clip532)\" cx=\"389.948\" cy=\"1363.05\" r=\"14.4\" fill=\"#000000\" fill-rule=\"evenodd\" fill-opacity=\"1\" stroke=\"none\"/>\n",
       "<circle clip-path=\"url(#clip532)\" cx=\"431.297\" cy=\"1367.83\" r=\"14.4\" fill=\"#000000\" fill-rule=\"evenodd\" fill-opacity=\"1\" stroke=\"none\"/>\n",
       "<circle clip-path=\"url(#clip532)\" cx=\"472.645\" cy=\"1349.33\" r=\"14.4\" fill=\"#000000\" fill-rule=\"evenodd\" fill-opacity=\"1\" stroke=\"none\"/>\n",
       "<circle clip-path=\"url(#clip532)\" cx=\"513.993\" cy=\"1340.22\" r=\"14.4\" fill=\"#000000\" fill-rule=\"evenodd\" fill-opacity=\"1\" stroke=\"none\"/>\n",
       "<circle clip-path=\"url(#clip532)\" cx=\"555.342\" cy=\"1318.31\" r=\"14.4\" fill=\"#000000\" fill-rule=\"evenodd\" fill-opacity=\"1\" stroke=\"none\"/>\n",
       "<circle clip-path=\"url(#clip532)\" cx=\"596.69\" cy=\"1320.18\" r=\"14.4\" fill=\"#000000\" fill-rule=\"evenodd\" fill-opacity=\"1\" stroke=\"none\"/>\n",
       "<circle clip-path=\"url(#clip532)\" cx=\"638.039\" cy=\"1276.02\" r=\"14.4\" fill=\"#000000\" fill-rule=\"evenodd\" fill-opacity=\"1\" stroke=\"none\"/>\n",
       "<circle clip-path=\"url(#clip532)\" cx=\"679.387\" cy=\"1291.47\" r=\"14.4\" fill=\"#000000\" fill-rule=\"evenodd\" fill-opacity=\"1\" stroke=\"none\"/>\n",
       "<circle clip-path=\"url(#clip532)\" cx=\"720.735\" cy=\"1269.02\" r=\"14.4\" fill=\"#000000\" fill-rule=\"evenodd\" fill-opacity=\"1\" stroke=\"none\"/>\n",
       "<circle clip-path=\"url(#clip532)\" cx=\"762.084\" cy=\"1239.62\" r=\"14.4\" fill=\"#000000\" fill-rule=\"evenodd\" fill-opacity=\"1\" stroke=\"none\"/>\n",
       "<circle clip-path=\"url(#clip532)\" cx=\"803.432\" cy=\"1228.06\" r=\"14.4\" fill=\"#000000\" fill-rule=\"evenodd\" fill-opacity=\"1\" stroke=\"none\"/>\n",
       "<circle clip-path=\"url(#clip532)\" cx=\"844.78\" cy=\"1241.37\" r=\"14.4\" fill=\"#000000\" fill-rule=\"evenodd\" fill-opacity=\"1\" stroke=\"none\"/>\n",
       "<circle clip-path=\"url(#clip532)\" cx=\"886.129\" cy=\"1205.3\" r=\"14.4\" fill=\"#000000\" fill-rule=\"evenodd\" fill-opacity=\"1\" stroke=\"none\"/>\n",
       "<circle clip-path=\"url(#clip532)\" cx=\"927.477\" cy=\"1163.55\" r=\"14.4\" fill=\"#000000\" fill-rule=\"evenodd\" fill-opacity=\"1\" stroke=\"none\"/>\n",
       "<circle clip-path=\"url(#clip532)\" cx=\"968.826\" cy=\"1160.45\" r=\"14.4\" fill=\"#000000\" fill-rule=\"evenodd\" fill-opacity=\"1\" stroke=\"none\"/>\n",
       "<circle clip-path=\"url(#clip532)\" cx=\"1010.17\" cy=\"1136.07\" r=\"14.4\" fill=\"#000000\" fill-rule=\"evenodd\" fill-opacity=\"1\" stroke=\"none\"/>\n",
       "<circle clip-path=\"url(#clip532)\" cx=\"1051.52\" cy=\"1103.66\" r=\"14.4\" fill=\"#000000\" fill-rule=\"evenodd\" fill-opacity=\"1\" stroke=\"none\"/>\n",
       "<circle clip-path=\"url(#clip532)\" cx=\"1092.87\" cy=\"1117.73\" r=\"14.4\" fill=\"#000000\" fill-rule=\"evenodd\" fill-opacity=\"1\" stroke=\"none\"/>\n",
       "<circle clip-path=\"url(#clip532)\" cx=\"1134.22\" cy=\"1037.35\" r=\"14.4\" fill=\"#000000\" fill-rule=\"evenodd\" fill-opacity=\"1\" stroke=\"none\"/>\n",
       "<circle clip-path=\"url(#clip532)\" cx=\"1175.57\" cy=\"1058.74\" r=\"14.4\" fill=\"#000000\" fill-rule=\"evenodd\" fill-opacity=\"1\" stroke=\"none\"/>\n",
       "<circle clip-path=\"url(#clip532)\" cx=\"1216.92\" cy=\"1085.86\" r=\"14.4\" fill=\"#000000\" fill-rule=\"evenodd\" fill-opacity=\"1\" stroke=\"none\"/>\n",
       "<circle clip-path=\"url(#clip532)\" cx=\"1258.26\" cy=\"1033.81\" r=\"14.4\" fill=\"#000000\" fill-rule=\"evenodd\" fill-opacity=\"1\" stroke=\"none\"/>\n",
       "<circle clip-path=\"url(#clip532)\" cx=\"1299.61\" cy=\"1009.9\" r=\"14.4\" fill=\"#000000\" fill-rule=\"evenodd\" fill-opacity=\"1\" stroke=\"none\"/>\n",
       "<circle clip-path=\"url(#clip532)\" cx=\"1340.96\" cy=\"978.25\" r=\"14.4\" fill=\"#000000\" fill-rule=\"evenodd\" fill-opacity=\"1\" stroke=\"none\"/>\n",
       "<circle clip-path=\"url(#clip532)\" cx=\"1382.31\" cy=\"998.452\" r=\"14.4\" fill=\"#000000\" fill-rule=\"evenodd\" fill-opacity=\"1\" stroke=\"none\"/>\n",
       "<circle clip-path=\"url(#clip532)\" cx=\"1423.66\" cy=\"902.696\" r=\"14.4\" fill=\"#000000\" fill-rule=\"evenodd\" fill-opacity=\"1\" stroke=\"none\"/>\n",
       "<circle clip-path=\"url(#clip532)\" cx=\"1465.01\" cy=\"808.758\" r=\"14.4\" fill=\"#000000\" fill-rule=\"evenodd\" fill-opacity=\"1\" stroke=\"none\"/>\n",
       "<circle clip-path=\"url(#clip532)\" cx=\"1506.35\" cy=\"877.488\" r=\"14.4\" fill=\"#000000\" fill-rule=\"evenodd\" fill-opacity=\"1\" stroke=\"none\"/>\n",
       "<circle clip-path=\"url(#clip532)\" cx=\"1547.7\" cy=\"854.189\" r=\"14.4\" fill=\"#000000\" fill-rule=\"evenodd\" fill-opacity=\"1\" stroke=\"none\"/>\n",
       "<circle clip-path=\"url(#clip532)\" cx=\"1589.05\" cy=\"733.405\" r=\"14.4\" fill=\"#000000\" fill-rule=\"evenodd\" fill-opacity=\"1\" stroke=\"none\"/>\n",
       "<circle clip-path=\"url(#clip532)\" cx=\"1630.4\" cy=\"796.861\" r=\"14.4\" fill=\"#000000\" fill-rule=\"evenodd\" fill-opacity=\"1\" stroke=\"none\"/>\n",
       "<circle clip-path=\"url(#clip532)\" cx=\"1671.75\" cy=\"745.571\" r=\"14.4\" fill=\"#000000\" fill-rule=\"evenodd\" fill-opacity=\"1\" stroke=\"none\"/>\n",
       "<circle clip-path=\"url(#clip532)\" cx=\"1713.1\" cy=\"767.838\" r=\"14.4\" fill=\"#000000\" fill-rule=\"evenodd\" fill-opacity=\"1\" stroke=\"none\"/>\n",
       "<circle clip-path=\"url(#clip532)\" cx=\"1754.44\" cy=\"668.086\" r=\"14.4\" fill=\"#000000\" fill-rule=\"evenodd\" fill-opacity=\"1\" stroke=\"none\"/>\n",
       "<circle clip-path=\"url(#clip532)\" cx=\"1795.79\" cy=\"830.463\" r=\"14.4\" fill=\"#000000\" fill-rule=\"evenodd\" fill-opacity=\"1\" stroke=\"none\"/>\n",
       "<circle clip-path=\"url(#clip532)\" cx=\"1837.14\" cy=\"566.696\" r=\"14.4\" fill=\"#000000\" fill-rule=\"evenodd\" fill-opacity=\"1\" stroke=\"none\"/>\n",
       "<circle clip-path=\"url(#clip532)\" cx=\"1878.49\" cy=\"756.435\" r=\"14.4\" fill=\"#000000\" fill-rule=\"evenodd\" fill-opacity=\"1\" stroke=\"none\"/>\n",
       "<circle clip-path=\"url(#clip532)\" cx=\"1919.84\" cy=\"457.292\" r=\"14.4\" fill=\"#000000\" fill-rule=\"evenodd\" fill-opacity=\"1\" stroke=\"none\"/>\n",
       "<circle clip-path=\"url(#clip532)\" cx=\"1961.19\" cy=\"473.655\" r=\"14.4\" fill=\"#000000\" fill-rule=\"evenodd\" fill-opacity=\"1\" stroke=\"none\"/>\n",
       "<circle clip-path=\"url(#clip532)\" cx=\"2002.54\" cy=\"445.867\" r=\"14.4\" fill=\"#000000\" fill-rule=\"evenodd\" fill-opacity=\"1\" stroke=\"none\"/>\n",
       "<circle clip-path=\"url(#clip532)\" cx=\"2085.23\" cy=\"345.374\" r=\"14.4\" fill=\"#000000\" fill-rule=\"evenodd\" fill-opacity=\"1\" stroke=\"none\"/>\n",
       "<circle clip-path=\"url(#clip532)\" cx=\"2126.58\" cy=\"313.568\" r=\"14.4\" fill=\"#000000\" fill-rule=\"evenodd\" fill-opacity=\"1\" stroke=\"none\"/>\n",
       "<circle clip-path=\"url(#clip532)\" cx=\"2167.93\" cy=\"242.929\" r=\"14.4\" fill=\"#000000\" fill-rule=\"evenodd\" fill-opacity=\"1\" stroke=\"none\"/>\n",
       "<circle clip-path=\"url(#clip532)\" cx=\"2209.28\" cy=\"517.291\" r=\"14.4\" fill=\"#000000\" fill-rule=\"evenodd\" fill-opacity=\"1\" stroke=\"none\"/>\n",
       "<circle clip-path=\"url(#clip532)\" cx=\"2250.63\" cy=\"86.1857\" r=\"14.4\" fill=\"#000000\" fill-rule=\"evenodd\" fill-opacity=\"1\" stroke=\"none\"/>\n",
       "<circle clip-path=\"url(#clip532)\" cx=\"2291.97\" cy=\"381.109\" r=\"14.4\" fill=\"#000000\" fill-rule=\"evenodd\" fill-opacity=\"1\" stroke=\"none\"/>\n",
       "<polyline clip-path=\"url(#clip532)\" style=\"stroke:#000000; stroke-linecap:round; stroke-linejoin:round; stroke-width:4; stroke-opacity:1; fill:none\" stroke-dasharray=\"16, 8, 2, 8\" points=\"265.903,1356.88 307.251,1341.01 348.6,1338.43 389.948,1341.99 431.297,1330.52 472.645,1325.2 513.993,1325.92 555.342,1305 596.69,1337.19 638.039,1313.42 679.387,1303.77 720.735,1289.99 762.084,1309.11 803.432,1324.42 844.78,1314.41 886.129,1299.48 927.477,1291.42 968.826,1323.66 1010.17,1294.5 1051.52,1293.98 1092.87,1321.84 1134.22,1303 1175.57,1316.52 1216.92,1310.77 1258.26,1308.26 1299.61,1301.12 1340.96,1303.5 1382.31,1303.25 1423.66,1299.62 1465.01,1287.63 1506.35,1315.53 1547.7,1371.8 1589.05,1324.28 1630.4,1346.24 1671.75,1306.78 1713.1,1300.38 1754.44,1306.73 1795.79,1311.67 1837.14,1307.18 1878.49,1304.55 1919.84,1298.4 1961.19,1309.9 2002.54,1282.11 2043.88,1266.46 2085.23,1286.93 2126.58,1305 2167.93,1289.38 2209.28,1309.27 2250.63,1291.31 2291.97,1282.96 \"/>\n",
       "<path clip-path=\"url(#clip532)\" d=\"M253.903 1344.88 L253.903 1368.88 L277.903 1368.88 L277.903 1344.88 L253.903 1344.88 Z\" fill=\"#000000\" fill-rule=\"evenodd\" fill-opacity=\"1\" stroke=\"none\"/>\n",
       "<path clip-path=\"url(#clip532)\" d=\"M295.251 1329.01 L295.251 1353.01 L319.251 1353.01 L319.251 1329.01 L295.251 1329.01 Z\" fill=\"#000000\" fill-rule=\"evenodd\" fill-opacity=\"1\" stroke=\"none\"/>\n",
       "<path clip-path=\"url(#clip532)\" d=\"M336.6 1326.43 L336.6 1350.43 L360.6 1350.43 L360.6 1326.43 L336.6 1326.43 Z\" fill=\"#000000\" fill-rule=\"evenodd\" fill-opacity=\"1\" stroke=\"none\"/>\n",
       "<path clip-path=\"url(#clip532)\" d=\"M377.948 1329.99 L377.948 1353.99 L401.948 1353.99 L401.948 1329.99 L377.948 1329.99 Z\" fill=\"#000000\" fill-rule=\"evenodd\" fill-opacity=\"1\" stroke=\"none\"/>\n",
       "<path clip-path=\"url(#clip532)\" d=\"M419.297 1318.52 L419.297 1342.52 L443.297 1342.52 L443.297 1318.52 L419.297 1318.52 Z\" fill=\"#000000\" fill-rule=\"evenodd\" fill-opacity=\"1\" stroke=\"none\"/>\n",
       "<path clip-path=\"url(#clip532)\" d=\"M460.645 1313.2 L460.645 1337.2 L484.645 1337.2 L484.645 1313.2 L460.645 1313.2 Z\" fill=\"#000000\" fill-rule=\"evenodd\" fill-opacity=\"1\" stroke=\"none\"/>\n",
       "<path clip-path=\"url(#clip532)\" d=\"M501.993 1313.92 L501.993 1337.92 L525.993 1337.92 L525.993 1313.92 L501.993 1313.92 Z\" fill=\"#000000\" fill-rule=\"evenodd\" fill-opacity=\"1\" stroke=\"none\"/>\n",
       "<path clip-path=\"url(#clip532)\" d=\"M543.342 1293 L543.342 1317 L567.342 1317 L567.342 1293 L543.342 1293 Z\" fill=\"#000000\" fill-rule=\"evenodd\" fill-opacity=\"1\" stroke=\"none\"/>\n",
       "<path clip-path=\"url(#clip532)\" d=\"M584.69 1325.19 L584.69 1349.19 L608.69 1349.19 L608.69 1325.19 L584.69 1325.19 Z\" fill=\"#000000\" fill-rule=\"evenodd\" fill-opacity=\"1\" stroke=\"none\"/>\n",
       "<path clip-path=\"url(#clip532)\" d=\"M626.039 1301.42 L626.039 1325.42 L650.039 1325.42 L650.039 1301.42 L626.039 1301.42 Z\" fill=\"#000000\" fill-rule=\"evenodd\" fill-opacity=\"1\" stroke=\"none\"/>\n",
       "<path clip-path=\"url(#clip532)\" d=\"M667.387 1291.77 L667.387 1315.77 L691.387 1315.77 L691.387 1291.77 L667.387 1291.77 Z\" fill=\"#000000\" fill-rule=\"evenodd\" fill-opacity=\"1\" stroke=\"none\"/>\n",
       "<path clip-path=\"url(#clip532)\" d=\"M708.735 1277.99 L708.735 1301.99 L732.735 1301.99 L732.735 1277.99 L708.735 1277.99 Z\" fill=\"#000000\" fill-rule=\"evenodd\" fill-opacity=\"1\" stroke=\"none\"/>\n",
       "<path clip-path=\"url(#clip532)\" d=\"M750.084 1297.11 L750.084 1321.11 L774.084 1321.11 L774.084 1297.11 L750.084 1297.11 Z\" fill=\"#000000\" fill-rule=\"evenodd\" fill-opacity=\"1\" stroke=\"none\"/>\n",
       "<path clip-path=\"url(#clip532)\" d=\"M791.432 1312.42 L791.432 1336.42 L815.432 1336.42 L815.432 1312.42 L791.432 1312.42 Z\" fill=\"#000000\" fill-rule=\"evenodd\" fill-opacity=\"1\" stroke=\"none\"/>\n",
       "<path clip-path=\"url(#clip532)\" d=\"M832.78 1302.41 L832.78 1326.41 L856.78 1326.41 L856.78 1302.41 L832.78 1302.41 Z\" fill=\"#000000\" fill-rule=\"evenodd\" fill-opacity=\"1\" stroke=\"none\"/>\n",
       "<path clip-path=\"url(#clip532)\" d=\"M874.129 1287.48 L874.129 1311.48 L898.129 1311.48 L898.129 1287.48 L874.129 1287.48 Z\" fill=\"#000000\" fill-rule=\"evenodd\" fill-opacity=\"1\" stroke=\"none\"/>\n",
       "<path clip-path=\"url(#clip532)\" d=\"M915.477 1279.42 L915.477 1303.42 L939.477 1303.42 L939.477 1279.42 L915.477 1279.42 Z\" fill=\"#000000\" fill-rule=\"evenodd\" fill-opacity=\"1\" stroke=\"none\"/>\n",
       "<path clip-path=\"url(#clip532)\" d=\"M956.826 1311.66 L956.826 1335.66 L980.826 1335.66 L980.826 1311.66 L956.826 1311.66 Z\" fill=\"#000000\" fill-rule=\"evenodd\" fill-opacity=\"1\" stroke=\"none\"/>\n",
       "<path clip-path=\"url(#clip532)\" d=\"M998.174 1282.5 L998.174 1306.5 L1022.17 1306.5 L1022.17 1282.5 L998.174 1282.5 Z\" fill=\"#000000\" fill-rule=\"evenodd\" fill-opacity=\"1\" stroke=\"none\"/>\n",
       "<path clip-path=\"url(#clip532)\" d=\"M1039.52 1281.98 L1039.52 1305.98 L1063.52 1305.98 L1063.52 1281.98 L1039.52 1281.98 Z\" fill=\"#000000\" fill-rule=\"evenodd\" fill-opacity=\"1\" stroke=\"none\"/>\n",
       "<path clip-path=\"url(#clip532)\" d=\"M1080.87 1309.84 L1080.87 1333.84 L1104.87 1333.84 L1104.87 1309.84 L1080.87 1309.84 Z\" fill=\"#000000\" fill-rule=\"evenodd\" fill-opacity=\"1\" stroke=\"none\"/>\n",
       "<path clip-path=\"url(#clip532)\" d=\"M1122.22 1291 L1122.22 1315 L1146.22 1315 L1146.22 1291 L1122.22 1291 Z\" fill=\"#000000\" fill-rule=\"evenodd\" fill-opacity=\"1\" stroke=\"none\"/>\n",
       "<path clip-path=\"url(#clip532)\" d=\"M1163.57 1304.52 L1163.57 1328.52 L1187.57 1328.52 L1187.57 1304.52 L1163.57 1304.52 Z\" fill=\"#000000\" fill-rule=\"evenodd\" fill-opacity=\"1\" stroke=\"none\"/>\n",
       "<path clip-path=\"url(#clip532)\" d=\"M1204.92 1298.77 L1204.92 1322.77 L1228.92 1322.77 L1228.92 1298.77 L1204.92 1298.77 Z\" fill=\"#000000\" fill-rule=\"evenodd\" fill-opacity=\"1\" stroke=\"none\"/>\n",
       "<path clip-path=\"url(#clip532)\" d=\"M1246.26 1296.26 L1246.26 1320.26 L1270.26 1320.26 L1270.26 1296.26 L1246.26 1296.26 Z\" fill=\"#000000\" fill-rule=\"evenodd\" fill-opacity=\"1\" stroke=\"none\"/>\n",
       "<path clip-path=\"url(#clip532)\" d=\"M1287.61 1289.12 L1287.61 1313.12 L1311.61 1313.12 L1311.61 1289.12 L1287.61 1289.12 Z\" fill=\"#000000\" fill-rule=\"evenodd\" fill-opacity=\"1\" stroke=\"none\"/>\n",
       "<path clip-path=\"url(#clip532)\" d=\"M1328.96 1291.5 L1328.96 1315.5 L1352.96 1315.5 L1352.96 1291.5 L1328.96 1291.5 Z\" fill=\"#000000\" fill-rule=\"evenodd\" fill-opacity=\"1\" stroke=\"none\"/>\n",
       "<path clip-path=\"url(#clip532)\" d=\"M1370.31 1291.25 L1370.31 1315.25 L1394.31 1315.25 L1394.31 1291.25 L1370.31 1291.25 Z\" fill=\"#000000\" fill-rule=\"evenodd\" fill-opacity=\"1\" stroke=\"none\"/>\n",
       "<path clip-path=\"url(#clip532)\" d=\"M1411.66 1287.62 L1411.66 1311.62 L1435.66 1311.62 L1435.66 1287.62 L1411.66 1287.62 Z\" fill=\"#000000\" fill-rule=\"evenodd\" fill-opacity=\"1\" stroke=\"none\"/>\n",
       "<path clip-path=\"url(#clip532)\" d=\"M1453.01 1275.63 L1453.01 1299.63 L1477.01 1299.63 L1477.01 1275.63 L1453.01 1275.63 Z\" fill=\"#000000\" fill-rule=\"evenodd\" fill-opacity=\"1\" stroke=\"none\"/>\n",
       "<path clip-path=\"url(#clip532)\" d=\"M1494.35 1303.53 L1494.35 1327.53 L1518.35 1327.53 L1518.35 1303.53 L1494.35 1303.53 Z\" fill=\"#000000\" fill-rule=\"evenodd\" fill-opacity=\"1\" stroke=\"none\"/>\n",
       "<path clip-path=\"url(#clip532)\" d=\"M1535.7 1359.8 L1535.7 1383.8 L1559.7 1383.8 L1559.7 1359.8 L1535.7 1359.8 Z\" fill=\"#000000\" fill-rule=\"evenodd\" fill-opacity=\"1\" stroke=\"none\"/>\n",
       "<path clip-path=\"url(#clip532)\" d=\"M1577.05 1312.28 L1577.05 1336.28 L1601.05 1336.28 L1601.05 1312.28 L1577.05 1312.28 Z\" fill=\"#000000\" fill-rule=\"evenodd\" fill-opacity=\"1\" stroke=\"none\"/>\n",
       "<path clip-path=\"url(#clip532)\" d=\"M1618.4 1334.24 L1618.4 1358.24 L1642.4 1358.24 L1642.4 1334.24 L1618.4 1334.24 Z\" fill=\"#000000\" fill-rule=\"evenodd\" fill-opacity=\"1\" stroke=\"none\"/>\n",
       "<path clip-path=\"url(#clip532)\" d=\"M1659.75 1294.78 L1659.75 1318.78 L1683.75 1318.78 L1683.75 1294.78 L1659.75 1294.78 Z\" fill=\"#000000\" fill-rule=\"evenodd\" fill-opacity=\"1\" stroke=\"none\"/>\n",
       "<path clip-path=\"url(#clip532)\" d=\"M1701.1 1288.38 L1701.1 1312.38 L1725.1 1312.38 L1725.1 1288.38 L1701.1 1288.38 Z\" fill=\"#000000\" fill-rule=\"evenodd\" fill-opacity=\"1\" stroke=\"none\"/>\n",
       "<path clip-path=\"url(#clip532)\" d=\"M1742.44 1294.73 L1742.44 1318.73 L1766.44 1318.73 L1766.44 1294.73 L1742.44 1294.73 Z\" fill=\"#000000\" fill-rule=\"evenodd\" fill-opacity=\"1\" stroke=\"none\"/>\n",
       "<path clip-path=\"url(#clip532)\" d=\"M1783.79 1299.67 L1783.79 1323.67 L1807.79 1323.67 L1807.79 1299.67 L1783.79 1299.67 Z\" fill=\"#000000\" fill-rule=\"evenodd\" fill-opacity=\"1\" stroke=\"none\"/>\n",
       "<path clip-path=\"url(#clip532)\" d=\"M1825.14 1295.18 L1825.14 1319.18 L1849.14 1319.18 L1849.14 1295.18 L1825.14 1295.18 Z\" fill=\"#000000\" fill-rule=\"evenodd\" fill-opacity=\"1\" stroke=\"none\"/>\n",
       "<path clip-path=\"url(#clip532)\" d=\"M1866.49 1292.55 L1866.49 1316.55 L1890.49 1316.55 L1890.49 1292.55 L1866.49 1292.55 Z\" fill=\"#000000\" fill-rule=\"evenodd\" fill-opacity=\"1\" stroke=\"none\"/>\n",
       "<path clip-path=\"url(#clip532)\" d=\"M1907.84 1286.4 L1907.84 1310.4 L1931.84 1310.4 L1931.84 1286.4 L1907.84 1286.4 Z\" fill=\"#000000\" fill-rule=\"evenodd\" fill-opacity=\"1\" stroke=\"none\"/>\n",
       "<path clip-path=\"url(#clip532)\" d=\"M1949.19 1297.9 L1949.19 1321.9 L1973.19 1321.9 L1973.19 1297.9 L1949.19 1297.9 Z\" fill=\"#000000\" fill-rule=\"evenodd\" fill-opacity=\"1\" stroke=\"none\"/>\n",
       "<path clip-path=\"url(#clip532)\" d=\"M1990.54 1270.11 L1990.54 1294.11 L2014.54 1294.11 L2014.54 1270.11 L1990.54 1270.11 Z\" fill=\"#000000\" fill-rule=\"evenodd\" fill-opacity=\"1\" stroke=\"none\"/>\n",
       "<path clip-path=\"url(#clip532)\" d=\"M2031.88 1254.46 L2031.88 1278.46 L2055.88 1278.46 L2055.88 1254.46 L2031.88 1254.46 Z\" fill=\"#000000\" fill-rule=\"evenodd\" fill-opacity=\"1\" stroke=\"none\"/>\n",
       "<path clip-path=\"url(#clip532)\" d=\"M2073.23 1274.93 L2073.23 1298.93 L2097.23 1298.93 L2097.23 1274.93 L2073.23 1274.93 Z\" fill=\"#000000\" fill-rule=\"evenodd\" fill-opacity=\"1\" stroke=\"none\"/>\n",
       "<path clip-path=\"url(#clip532)\" d=\"M2114.58 1293 L2114.58 1317 L2138.58 1317 L2138.58 1293 L2114.58 1293 Z\" fill=\"#000000\" fill-rule=\"evenodd\" fill-opacity=\"1\" stroke=\"none\"/>\n",
       "<path clip-path=\"url(#clip532)\" d=\"M2155.93 1277.38 L2155.93 1301.38 L2179.93 1301.38 L2179.93 1277.38 L2155.93 1277.38 Z\" fill=\"#000000\" fill-rule=\"evenodd\" fill-opacity=\"1\" stroke=\"none\"/>\n",
       "<path clip-path=\"url(#clip532)\" d=\"M2197.28 1297.27 L2197.28 1321.27 L2221.28 1321.27 L2221.28 1297.27 L2197.28 1297.27 Z\" fill=\"#000000\" fill-rule=\"evenodd\" fill-opacity=\"1\" stroke=\"none\"/>\n",
       "<path clip-path=\"url(#clip532)\" d=\"M2238.63 1279.31 L2238.63 1303.31 L2262.63 1303.31 L2262.63 1279.31 L2238.63 1279.31 Z\" fill=\"#000000\" fill-rule=\"evenodd\" fill-opacity=\"1\" stroke=\"none\"/>\n",
       "<path clip-path=\"url(#clip532)\" d=\"M2279.97 1270.96 L2279.97 1294.96 L2303.97 1294.96 L2303.97 1270.96 L2279.97 1270.96 Z\" fill=\"#000000\" fill-rule=\"evenodd\" fill-opacity=\"1\" stroke=\"none\"/>\n",
       "<path clip-path=\"url(#clip530)\" d=\"M276.709 248.629 L788.114 248.629 L788.114 93.1086 L276.709 93.1086  Z\" fill=\"#ffffff\" fill-rule=\"evenodd\" fill-opacity=\"1\"/>\n",
       "<polyline clip-path=\"url(#clip530)\" style=\"stroke:#000000; stroke-linecap:round; stroke-linejoin:round; stroke-width:4; stroke-opacity:1; fill:none\" points=\"276.709,248.629 788.114,248.629 788.114,93.1086 276.709,93.1086 276.709,248.629 \"/>\n",
       "<polyline clip-path=\"url(#clip530)\" style=\"stroke:#000000; stroke-linecap:round; stroke-linejoin:round; stroke-width:4; stroke-opacity:1; fill:none\" points=\"300.571,144.949 443.747,144.949 \"/>\n",
       "<circle clip-path=\"url(#clip530)\" cx=\"372.159\" cy=\"144.949\" r=\"19.8855\" fill=\"#000000\" fill-rule=\"evenodd\" fill-opacity=\"1\" stroke=\"none\"/>\n",
       "<path clip-path=\"url(#clip530)\" d=\"M487.957 141.28 Q489.554 138.409 491.776 137.044 Q493.998 135.678 497.008 135.678 Q501.059 135.678 503.258 138.525 Q505.457 141.349 505.457 146.581 L505.457 162.229 L501.174 162.229 L501.174 146.719 Q501.174 142.993 499.855 141.187 Q498.535 139.382 495.827 139.382 Q492.517 139.382 490.596 141.581 Q488.674 143.78 488.674 147.576 L488.674 162.229 L484.392 162.229 L484.392 146.719 Q484.392 142.969 483.073 141.187 Q481.753 139.382 478.999 139.382 Q475.735 139.382 473.813 141.604 Q471.892 143.803 471.892 147.576 L471.892 162.229 L467.61 162.229 L467.61 136.303 L471.892 136.303 L471.892 140.331 Q473.35 137.946 475.387 136.812 Q477.424 135.678 480.225 135.678 Q483.049 135.678 485.017 137.113 Q487.008 138.548 487.957 141.28 Z\" fill=\"#000000\" fill-rule=\"evenodd\" fill-opacity=\"1\" /><path clip-path=\"url(#clip530)\" d=\"M523.998 139.289 Q520.572 139.289 518.582 141.974 Q516.591 144.636 516.591 149.289 Q516.591 153.942 518.558 156.627 Q520.549 159.289 523.998 159.289 Q527.401 159.289 529.392 156.604 Q531.382 153.918 531.382 149.289 Q531.382 144.682 529.392 141.997 Q527.401 139.289 523.998 139.289 M523.998 135.678 Q529.554 135.678 532.725 139.289 Q535.896 142.9 535.896 149.289 Q535.896 155.655 532.725 159.289 Q529.554 162.9 523.998 162.9 Q518.42 162.9 515.248 159.289 Q512.1 155.655 512.1 149.289 Q512.1 142.9 515.248 139.289 Q518.42 135.678 523.998 135.678 Z\" fill=\"#000000\" fill-rule=\"evenodd\" fill-opacity=\"1\" /><path clip-path=\"url(#clip530)\" d=\"M564.507 146.581 L564.507 162.229 L560.248 162.229 L560.248 146.719 Q560.248 143.039 558.813 141.21 Q557.378 139.382 554.507 139.382 Q551.058 139.382 549.068 141.581 Q547.077 143.78 547.077 147.576 L547.077 162.229 L542.794 162.229 L542.794 136.303 L547.077 136.303 L547.077 140.331 Q548.605 137.993 550.665 136.835 Q552.748 135.678 555.456 135.678 Q559.924 135.678 562.216 138.456 Q564.507 141.21 564.507 146.581 Z\" fill=\"#000000\" fill-rule=\"evenodd\" fill-opacity=\"1\" /><path clip-path=\"url(#clip530)\" d=\"M583.049 139.289 Q579.623 139.289 577.632 141.974 Q575.642 144.636 575.642 149.289 Q575.642 153.942 577.609 156.627 Q579.6 159.289 583.049 159.289 Q586.452 159.289 588.442 156.604 Q590.433 153.918 590.433 149.289 Q590.433 144.682 588.442 141.997 Q586.452 139.289 583.049 139.289 M583.049 135.678 Q588.604 135.678 591.776 139.289 Q594.947 142.9 594.947 149.289 Q594.947 155.655 591.776 159.289 Q588.604 162.9 583.049 162.9 Q577.47 162.9 574.299 159.289 Q571.151 155.655 571.151 149.289 Q571.151 142.9 574.299 139.289 Q577.47 135.678 583.049 135.678 Z\" fill=\"#000000\" fill-rule=\"evenodd\" fill-opacity=\"1\" /><path clip-path=\"url(#clip530)\" d=\"M602.007 126.21 L606.266 126.21 L606.266 162.229 L602.007 162.229 L602.007 126.21 Z\" fill=\"#000000\" fill-rule=\"evenodd\" fill-opacity=\"1\" /><path clip-path=\"url(#clip530)\" d=\"M615.178 136.303 L619.438 136.303 L619.438 162.229 L615.178 162.229 L615.178 136.303 M615.178 126.21 L619.438 126.21 L619.438 131.604 L615.178 131.604 L615.178 126.21 Z\" fill=\"#000000\" fill-rule=\"evenodd\" fill-opacity=\"1\" /><path clip-path=\"url(#clip530)\" d=\"M632.563 128.942 L632.563 136.303 L641.336 136.303 L641.336 139.613 L632.563 139.613 L632.563 153.687 Q632.563 156.858 633.419 157.761 Q634.299 158.664 636.961 158.664 L641.336 158.664 L641.336 162.229 L636.961 162.229 Q632.03 162.229 630.155 160.4 Q628.28 158.548 628.28 153.687 L628.28 139.613 L625.155 139.613 L625.155 136.303 L628.28 136.303 L628.28 128.942 L632.563 128.942 Z\" fill=\"#000000\" fill-rule=\"evenodd\" fill-opacity=\"1\" /><path clip-path=\"url(#clip530)\" d=\"M668.488 146.581 L668.488 162.229 L664.229 162.229 L664.229 146.719 Q664.229 143.039 662.794 141.21 Q661.359 139.382 658.488 139.382 Q655.039 139.382 653.049 141.581 Q651.058 143.78 651.058 147.576 L651.058 162.229 L646.775 162.229 L646.775 126.21 L651.058 126.21 L651.058 140.331 Q652.586 137.993 654.646 136.835 Q656.729 135.678 659.437 135.678 Q663.905 135.678 666.197 138.456 Q668.488 141.21 668.488 146.581 Z\" fill=\"#000000\" fill-rule=\"evenodd\" fill-opacity=\"1\" /><path clip-path=\"url(#clip530)\" d=\"M676.984 136.303 L681.243 136.303 L681.243 162.229 L676.984 162.229 L676.984 136.303 M676.984 126.21 L681.243 126.21 L681.243 131.604 L676.984 131.604 L676.984 126.21 Z\" fill=\"#000000\" fill-rule=\"evenodd\" fill-opacity=\"1\" /><path clip-path=\"url(#clip530)\" d=\"M708.812 137.298 L708.812 141.28 Q707.007 140.284 705.178 139.798 Q703.372 139.289 701.52 139.289 Q697.377 139.289 695.085 141.928 Q692.794 144.544 692.794 149.289 Q692.794 154.034 695.085 156.673 Q697.377 159.289 701.52 159.289 Q703.372 159.289 705.178 158.803 Q707.007 158.293 708.812 157.298 L708.812 161.233 Q707.03 162.067 705.108 162.483 Q703.21 162.9 701.058 162.9 Q695.201 162.9 691.752 159.219 Q688.303 155.539 688.303 149.289 Q688.303 142.946 691.775 139.312 Q695.271 135.678 701.335 135.678 Q703.303 135.678 705.178 136.095 Q707.053 136.488 708.812 137.298 Z\" fill=\"#000000\" fill-rule=\"evenodd\" fill-opacity=\"1\" /><polyline clip-path=\"url(#clip530)\" style=\"stroke:#000000; stroke-linecap:round; stroke-linejoin:round; stroke-width:4; stroke-opacity:1; fill:none\" stroke-dasharray=\"16, 8, 2, 8\" points=\"300.571,196.789 443.747,196.789 \"/>\n",
       "<path clip-path=\"url(#clip530)\" d=\"M350.064 174.694 L350.064 218.884 L394.254 218.884 L394.254 174.694 L350.064 174.694 Z\" fill=\"#000000\" fill-rule=\"evenodd\" fill-opacity=\"1\" stroke=\"none\"/>\n",
       "<path clip-path=\"url(#clip530)\" d=\"M486.522 192.078 L486.522 178.05 L490.781 178.05 L490.781 214.069 L486.522 214.069 L486.522 210.18 Q485.179 212.495 483.119 213.629 Q481.082 214.74 478.211 214.74 Q473.512 214.74 470.549 210.99 Q467.61 207.24 467.61 201.129 Q467.61 195.018 470.549 191.268 Q473.512 187.518 478.211 187.518 Q481.082 187.518 483.119 188.652 Q485.179 189.763 486.522 192.078 M472.008 201.129 Q472.008 205.828 473.929 208.513 Q475.874 211.175 479.253 211.175 Q482.633 211.175 484.577 208.513 Q486.522 205.828 486.522 201.129 Q486.522 196.43 484.577 193.768 Q482.633 191.083 479.253 191.083 Q475.874 191.083 473.929 193.768 Q472.008 196.43 472.008 201.129 Z\" fill=\"#000000\" fill-rule=\"evenodd\" fill-opacity=\"1\" /><path clip-path=\"url(#clip530)\" d=\"M521.73 200.041 L521.73 202.124 L502.147 202.124 Q502.424 206.522 504.785 208.837 Q507.17 211.129 511.406 211.129 Q513.859 211.129 516.151 210.527 Q518.466 209.925 520.734 208.721 L520.734 212.749 Q518.443 213.721 516.035 214.231 Q513.628 214.74 511.151 214.74 Q504.947 214.74 501.313 211.129 Q497.702 207.518 497.702 201.36 Q497.702 194.995 501.128 191.268 Q504.577 187.518 510.41 187.518 Q515.642 187.518 518.674 190.897 Q521.73 194.254 521.73 200.041 M517.471 198.791 Q517.424 195.296 515.503 193.212 Q513.605 191.129 510.457 191.129 Q506.892 191.129 504.739 193.143 Q502.61 195.157 502.285 198.814 L517.471 198.791 Z\" fill=\"#000000\" fill-rule=\"evenodd\" fill-opacity=\"1\" /><path clip-path=\"url(#clip530)\" d=\"M547.378 189.138 L547.378 193.12 Q545.572 192.124 543.744 191.638 Q541.938 191.129 540.086 191.129 Q535.943 191.129 533.651 193.768 Q531.359 196.384 531.359 201.129 Q531.359 205.874 533.651 208.513 Q535.943 211.129 540.086 211.129 Q541.938 211.129 543.744 210.643 Q545.572 210.133 547.378 209.138 L547.378 213.073 Q545.595 213.907 543.674 214.323 Q541.776 214.74 539.623 214.74 Q533.767 214.74 530.318 211.059 Q526.869 207.379 526.869 201.129 Q526.869 194.786 530.341 191.152 Q533.836 187.518 539.901 187.518 Q541.869 187.518 543.744 187.935 Q545.619 188.328 547.378 189.138 Z\" fill=\"#000000\" fill-rule=\"evenodd\" fill-opacity=\"1\" /><path clip-path=\"url(#clip530)\" d=\"M564.831 191.129 Q561.405 191.129 559.415 193.814 Q557.424 196.476 557.424 201.129 Q557.424 205.782 559.392 208.467 Q561.382 211.129 564.831 211.129 Q568.234 211.129 570.225 208.444 Q572.216 205.758 572.216 201.129 Q572.216 196.522 570.225 193.837 Q568.234 191.129 564.831 191.129 M564.831 187.518 Q570.387 187.518 573.558 191.129 Q576.729 194.74 576.729 201.129 Q576.729 207.495 573.558 211.129 Q570.387 214.74 564.831 214.74 Q559.253 214.74 556.081 211.129 Q552.933 207.495 552.933 201.129 Q552.933 194.74 556.081 191.129 Q559.253 187.518 564.831 187.518 Z\" fill=\"#000000\" fill-rule=\"evenodd\" fill-opacity=\"1\" /><path clip-path=\"url(#clip530)\" d=\"M603.975 193.12 Q605.572 190.249 607.794 188.884 Q610.016 187.518 613.026 187.518 Q617.076 187.518 619.276 190.365 Q621.475 193.189 621.475 198.421 L621.475 214.069 L617.192 214.069 L617.192 198.559 Q617.192 194.833 615.873 193.027 Q614.553 191.222 611.845 191.222 Q608.535 191.222 606.614 193.421 Q604.692 195.62 604.692 199.416 L604.692 214.069 L600.41 214.069 L600.41 198.559 Q600.41 194.809 599.09 193.027 Q597.771 191.222 595.016 191.222 Q591.753 191.222 589.831 193.444 Q587.91 195.643 587.91 199.416 L587.91 214.069 L583.628 214.069 L583.628 188.143 L587.91 188.143 L587.91 192.171 Q589.368 189.786 591.405 188.652 Q593.442 187.518 596.243 187.518 Q599.067 187.518 601.035 188.953 Q603.026 190.388 603.975 193.12 Z\" fill=\"#000000\" fill-rule=\"evenodd\" fill-opacity=\"1\" /><path clip-path=\"url(#clip530)\" d=\"M634.09 210.18 L634.09 223.93 L629.808 223.93 L629.808 188.143 L634.09 188.143 L634.09 192.078 Q635.433 189.763 637.47 188.652 Q639.53 187.518 642.377 187.518 Q647.099 187.518 650.039 191.268 Q653.002 195.018 653.002 201.129 Q653.002 207.24 650.039 210.99 Q647.099 214.74 642.377 214.74 Q639.53 214.74 637.47 213.629 Q635.433 212.495 634.09 210.18 M648.581 201.129 Q648.581 196.43 646.637 193.768 Q644.715 191.083 641.336 191.083 Q637.956 191.083 636.012 193.768 Q634.09 196.43 634.09 201.129 Q634.09 205.828 636.012 208.513 Q637.956 211.175 641.336 211.175 Q644.715 211.175 646.637 208.513 Q648.581 205.828 648.581 201.129 Z\" fill=\"#000000\" fill-rule=\"evenodd\" fill-opacity=\"1\" /><path clip-path=\"url(#clip530)\" d=\"M670.109 191.129 Q666.683 191.129 664.692 193.814 Q662.701 196.476 662.701 201.129 Q662.701 205.782 664.669 208.467 Q666.66 211.129 670.109 211.129 Q673.511 211.129 675.502 208.444 Q677.493 205.758 677.493 201.129 Q677.493 196.522 675.502 193.837 Q673.511 191.129 670.109 191.129 M670.109 187.518 Q675.664 187.518 678.835 191.129 Q682.007 194.74 682.007 201.129 Q682.007 207.495 678.835 211.129 Q675.664 214.74 670.109 214.74 Q664.53 214.74 661.359 211.129 Q658.211 207.495 658.211 201.129 Q658.211 194.74 661.359 191.129 Q664.53 187.518 670.109 187.518 Z\" fill=\"#000000\" fill-rule=\"evenodd\" fill-opacity=\"1\" /><path clip-path=\"url(#clip530)\" d=\"M705.595 188.907 L705.595 192.934 Q703.789 192.009 701.845 191.546 Q699.9 191.083 697.817 191.083 Q694.646 191.083 693.048 192.055 Q691.474 193.027 691.474 194.971 Q691.474 196.453 692.608 197.309 Q693.743 198.143 697.169 198.907 L698.627 199.231 Q703.164 200.203 705.062 201.985 Q706.983 203.745 706.983 206.916 Q706.983 210.527 704.113 212.633 Q701.266 214.74 696.266 214.74 Q694.183 214.74 691.914 214.323 Q689.669 213.93 687.169 213.12 L687.169 208.721 Q689.53 209.948 691.821 210.573 Q694.113 211.175 696.358 211.175 Q699.368 211.175 700.988 210.157 Q702.608 209.115 702.608 207.24 Q702.608 205.504 701.428 204.578 Q700.27 203.652 696.312 202.796 L694.831 202.448 Q690.872 201.615 689.113 199.902 Q687.354 198.166 687.354 195.157 Q687.354 191.499 689.946 189.509 Q692.539 187.518 697.308 187.518 Q699.669 187.518 701.752 187.865 Q703.835 188.212 705.595 188.907 Z\" fill=\"#000000\" fill-rule=\"evenodd\" fill-opacity=\"1\" /><path clip-path=\"url(#clip530)\" d=\"M735.942 200.041 L735.942 202.124 L716.358 202.124 Q716.636 206.522 718.997 208.837 Q721.381 211.129 725.618 211.129 Q728.071 211.129 730.363 210.527 Q732.678 209.925 734.946 208.721 L734.946 212.749 Q732.655 213.721 730.247 214.231 Q727.84 214.74 725.363 214.74 Q719.159 214.74 715.525 211.129 Q711.914 207.518 711.914 201.36 Q711.914 194.995 715.34 191.268 Q718.789 187.518 724.622 187.518 Q729.854 187.518 732.886 190.897 Q735.942 194.254 735.942 200.041 M731.682 198.791 Q731.636 195.296 729.715 193.212 Q727.817 191.129 724.668 191.129 Q721.104 191.129 718.951 193.143 Q716.821 195.157 716.497 198.814 L731.682 198.791 Z\" fill=\"#000000\" fill-rule=\"evenodd\" fill-opacity=\"1\" /><path clip-path=\"url(#clip530)\" d=\"M759.992 192.078 L759.992 178.05 L764.252 178.05 L764.252 214.069 L759.992 214.069 L759.992 210.18 Q758.65 212.495 756.59 213.629 Q754.553 214.74 751.682 214.74 Q746.983 214.74 744.02 210.99 Q741.08 207.24 741.08 201.129 Q741.08 195.018 744.02 191.268 Q746.983 187.518 751.682 187.518 Q754.553 187.518 756.59 188.652 Q758.65 189.763 759.992 192.078 M745.479 201.129 Q745.479 205.828 747.4 208.513 Q749.344 211.175 752.724 211.175 Q756.104 211.175 758.048 208.513 Q759.992 205.828 759.992 201.129 Q759.992 196.43 758.048 193.768 Q756.104 191.083 752.724 191.083 Q749.344 191.083 747.4 193.768 Q745.479 196.43 745.479 201.129 Z\" fill=\"#000000\" fill-rule=\"evenodd\" fill-opacity=\"1\" /></svg>\n"
      ]
     },
     "metadata": {},
     "output_type": "display_data"
    }
   ],
   "source": [
    "# solution time (parallel)\n",
    "p1b = plot(1:nScenMax,solTimeTraj_s[1,:],\n",
    "    xlabel=\"# scenarios\", \n",
    "    ylabel=\"sol. time (max) [s]\",\n",
    "    marker=:circle, \n",
    "    markercolor = :black,\n",
    "    linecolor = :black,\n",
    "    label=\"monolithic\")\n",
    "\n",
    "p1b = plot!(1:nScenMax,solTimeMaxTraj_s,\n",
    "    marker=:square, \n",
    "    markercolor = :black,\n",
    "    linecolor = :black,\n",
    "    markersize = 3,\n",
    "    linestyle = :dashdot,\n",
    "    label=\"decomposed\",\n",
    "    gridlinewidth=2,\n",
    "    dpi=600)\n",
    "\n",
    "display(p1b)\n",
    "savefig(p1b,\"C:/Users/MACC-Jose/Documents/Canada/Papers/Benders Decomposition/Figures/C1_SolTimePar.pdf\");"
   ]
  },
  {
   "cell_type": "code",
   "execution_count": 18,
   "id": "18cad4e5",
   "metadata": {},
   "outputs": [
    {
     "data": {
      "image/svg+xml": [
       "<?xml version=\"1.0\" encoding=\"utf-8\"?>\n",
       "<svg xmlns=\"http://www.w3.org/2000/svg\" xmlns:xlink=\"http://www.w3.org/1999/xlink\" width=\"600\" height=\"400\" viewBox=\"0 0 2400 1600\">\n",
       "<defs>\n",
       "  <clipPath id=\"clip580\">\n",
       "    <rect x=\"0\" y=\"0\" width=\"2400\" height=\"1600\"/>\n",
       "  </clipPath>\n",
       "</defs>\n",
       "<path clip-path=\"url(#clip580)\" d=\"M0 1600 L2400 1600 L2400 0 L0 0  Z\" fill=\"#ffffff\" fill-rule=\"evenodd\" fill-opacity=\"1\"/>\n",
       "<defs>\n",
       "  <clipPath id=\"clip581\">\n",
       "    <rect x=\"480\" y=\"0\" width=\"1681\" height=\"1600\"/>\n",
       "  </clipPath>\n",
       "</defs>\n",
       "<path clip-path=\"url(#clip580)\" d=\"M287.852 1423.18 L2352.76 1423.18 L2352.76 47.2441 L287.852 47.2441  Z\" fill=\"#ffffff\" fill-rule=\"evenodd\" fill-opacity=\"1\"/>\n",
       "<defs>\n",
       "  <clipPath id=\"clip582\">\n",
       "    <rect x=\"287\" y=\"47\" width=\"2066\" height=\"1377\"/>\n",
       "  </clipPath>\n",
       "</defs>\n",
       "<polyline clip-path=\"url(#clip582)\" style=\"stroke:#000000; stroke-linecap:round; stroke-linejoin:round; stroke-width:2; stroke-opacity:0.1; fill:none\" points=\"306.537,1423.18 306.537,47.2441 \"/>\n",
       "<polyline clip-path=\"url(#clip582)\" style=\"stroke:#000000; stroke-linecap:round; stroke-linejoin:round; stroke-width:2; stroke-opacity:0.1; fill:none\" points=\"704.093,1423.18 704.093,47.2441 \"/>\n",
       "<polyline clip-path=\"url(#clip582)\" style=\"stroke:#000000; stroke-linecap:round; stroke-linejoin:round; stroke-width:2; stroke-opacity:0.1; fill:none\" points=\"1101.65,1423.18 1101.65,47.2441 \"/>\n",
       "<polyline clip-path=\"url(#clip582)\" style=\"stroke:#000000; stroke-linecap:round; stroke-linejoin:round; stroke-width:2; stroke-opacity:0.1; fill:none\" points=\"1499.2,1423.18 1499.2,47.2441 \"/>\n",
       "<polyline clip-path=\"url(#clip582)\" style=\"stroke:#000000; stroke-linecap:round; stroke-linejoin:round; stroke-width:2; stroke-opacity:0.1; fill:none\" points=\"1896.76,1423.18 1896.76,47.2441 \"/>\n",
       "<polyline clip-path=\"url(#clip582)\" style=\"stroke:#000000; stroke-linecap:round; stroke-linejoin:round; stroke-width:2; stroke-opacity:0.1; fill:none\" points=\"2294.32,1423.18 2294.32,47.2441 \"/>\n",
       "<polyline clip-path=\"url(#clip580)\" style=\"stroke:#000000; stroke-linecap:round; stroke-linejoin:round; stroke-width:4; stroke-opacity:1; fill:none\" points=\"287.852,1423.18 2352.76,1423.18 \"/>\n",
       "<polyline clip-path=\"url(#clip580)\" style=\"stroke:#000000; stroke-linecap:round; stroke-linejoin:round; stroke-width:4; stroke-opacity:1; fill:none\" points=\"306.537,1423.18 306.537,1404.28 \"/>\n",
       "<polyline clip-path=\"url(#clip580)\" style=\"stroke:#000000; stroke-linecap:round; stroke-linejoin:round; stroke-width:4; stroke-opacity:1; fill:none\" points=\"704.093,1423.18 704.093,1404.28 \"/>\n",
       "<polyline clip-path=\"url(#clip580)\" style=\"stroke:#000000; stroke-linecap:round; stroke-linejoin:round; stroke-width:4; stroke-opacity:1; fill:none\" points=\"1101.65,1423.18 1101.65,1404.28 \"/>\n",
       "<polyline clip-path=\"url(#clip580)\" style=\"stroke:#000000; stroke-linecap:round; stroke-linejoin:round; stroke-width:4; stroke-opacity:1; fill:none\" points=\"1499.2,1423.18 1499.2,1404.28 \"/>\n",
       "<polyline clip-path=\"url(#clip580)\" style=\"stroke:#000000; stroke-linecap:round; stroke-linejoin:round; stroke-width:4; stroke-opacity:1; fill:none\" points=\"1896.76,1423.18 1896.76,1404.28 \"/>\n",
       "<polyline clip-path=\"url(#clip580)\" style=\"stroke:#000000; stroke-linecap:round; stroke-linejoin:round; stroke-width:4; stroke-opacity:1; fill:none\" points=\"2294.32,1423.18 2294.32,1404.28 \"/>\n",
       "<path clip-path=\"url(#clip580)\" d=\"M306.537 1454.1 Q302.926 1454.1 301.097 1457.66 Q299.292 1461.2 299.292 1468.33 Q299.292 1475.44 301.097 1479.01 Q302.926 1482.55 306.537 1482.55 Q310.171 1482.55 311.977 1479.01 Q313.806 1475.44 313.806 1468.33 Q313.806 1461.2 311.977 1457.66 Q310.171 1454.1 306.537 1454.1 M306.537 1450.39 Q312.347 1450.39 315.403 1455 Q318.482 1459.58 318.482 1468.33 Q318.482 1477.06 315.403 1481.67 Q312.347 1486.25 306.537 1486.25 Q300.727 1486.25 297.648 1481.67 Q294.593 1477.06 294.593 1468.33 Q294.593 1459.58 297.648 1455 Q300.727 1450.39 306.537 1450.39 Z\" fill=\"#000000\" fill-rule=\"evenodd\" fill-opacity=\"1\" /><path clip-path=\"url(#clip580)\" d=\"M678.78 1481.64 L686.419 1481.64 L686.419 1455.28 L678.109 1456.95 L678.109 1452.69 L686.373 1451.02 L691.049 1451.02 L691.049 1481.64 L698.688 1481.64 L698.688 1485.58 L678.78 1485.58 L678.78 1481.64 Z\" fill=\"#000000\" fill-rule=\"evenodd\" fill-opacity=\"1\" /><path clip-path=\"url(#clip580)\" d=\"M718.132 1454.1 Q714.521 1454.1 712.692 1457.66 Q710.887 1461.2 710.887 1468.33 Q710.887 1475.44 712.692 1479.01 Q714.521 1482.55 718.132 1482.55 Q721.766 1482.55 723.572 1479.01 Q725.401 1475.44 725.401 1468.33 Q725.401 1461.2 723.572 1457.66 Q721.766 1454.1 718.132 1454.1 M718.132 1450.39 Q723.942 1450.39 726.998 1455 Q730.076 1459.58 730.076 1468.33 Q730.076 1477.06 726.998 1481.67 Q723.942 1486.25 718.132 1486.25 Q712.322 1486.25 709.243 1481.67 Q706.188 1477.06 706.188 1468.33 Q706.188 1459.58 709.243 1455 Q712.322 1450.39 718.132 1450.39 Z\" fill=\"#000000\" fill-rule=\"evenodd\" fill-opacity=\"1\" /><path clip-path=\"url(#clip580)\" d=\"M1080.42 1481.64 L1096.74 1481.64 L1096.74 1485.58 L1074.8 1485.58 L1074.8 1481.64 Q1077.46 1478.89 1082.04 1474.26 Q1086.65 1469.61 1087.83 1468.27 Q1090.07 1465.74 1090.95 1464.01 Q1091.86 1462.25 1091.86 1460.56 Q1091.86 1457.8 1089.91 1456.07 Q1087.99 1454.33 1084.89 1454.33 Q1082.69 1454.33 1080.24 1455.09 Q1077.81 1455.86 1075.03 1457.41 L1075.03 1452.69 Q1077.85 1451.55 1080.31 1450.97 Q1082.76 1450.39 1084.8 1450.39 Q1090.17 1450.39 1093.36 1453.08 Q1096.56 1455.77 1096.56 1460.26 Q1096.56 1462.39 1095.75 1464.31 Q1094.96 1466.2 1092.85 1468.8 Q1092.27 1469.47 1089.17 1472.69 Q1086.07 1475.88 1080.42 1481.64 Z\" fill=\"#000000\" fill-rule=\"evenodd\" fill-opacity=\"1\" /><path clip-path=\"url(#clip580)\" d=\"M1116.56 1454.1 Q1112.94 1454.1 1111.12 1457.66 Q1109.31 1461.2 1109.31 1468.33 Q1109.31 1475.44 1111.12 1479.01 Q1112.94 1482.55 1116.56 1482.55 Q1120.19 1482.55 1122 1479.01 Q1123.82 1475.44 1123.82 1468.33 Q1123.82 1461.2 1122 1457.66 Q1120.19 1454.1 1116.56 1454.1 M1116.56 1450.39 Q1122.37 1450.39 1125.42 1455 Q1128.5 1459.58 1128.5 1468.33 Q1128.5 1477.06 1125.42 1481.67 Q1122.37 1486.25 1116.56 1486.25 Q1110.75 1486.25 1107.67 1481.67 Q1104.61 1477.06 1104.61 1468.33 Q1104.61 1459.58 1107.67 1455 Q1110.75 1450.39 1116.56 1450.39 Z\" fill=\"#000000\" fill-rule=\"evenodd\" fill-opacity=\"1\" /><path clip-path=\"url(#clip580)\" d=\"M1488.05 1466.95 Q1491.4 1467.66 1493.28 1469.93 Q1495.18 1472.2 1495.18 1475.53 Q1495.18 1480.65 1491.66 1483.45 Q1488.14 1486.25 1481.66 1486.25 Q1479.48 1486.25 1477.17 1485.81 Q1474.88 1485.39 1472.42 1484.54 L1472.42 1480.02 Q1474.37 1481.16 1476.68 1481.74 Q1479 1482.32 1481.52 1482.32 Q1485.92 1482.32 1488.21 1480.58 Q1490.52 1478.84 1490.52 1475.53 Q1490.52 1472.48 1488.37 1470.77 Q1486.24 1469.03 1482.42 1469.03 L1478.39 1469.03 L1478.39 1465.19 L1482.61 1465.19 Q1486.06 1465.19 1487.88 1463.82 Q1489.71 1462.43 1489.71 1459.84 Q1489.71 1457.18 1487.82 1455.77 Q1485.94 1454.33 1482.42 1454.33 Q1480.5 1454.33 1478.3 1454.75 Q1476.1 1455.16 1473.46 1456.04 L1473.46 1451.88 Q1476.13 1451.14 1478.44 1450.77 Q1480.78 1450.39 1482.84 1450.39 Q1488.16 1450.39 1491.26 1452.83 Q1494.37 1455.23 1494.37 1459.35 Q1494.37 1462.22 1492.72 1464.21 Q1491.08 1466.18 1488.05 1466.95 Z\" fill=\"#000000\" fill-rule=\"evenodd\" fill-opacity=\"1\" /><path clip-path=\"url(#clip580)\" d=\"M1514.04 1454.1 Q1510.43 1454.1 1508.6 1457.66 Q1506.8 1461.2 1506.8 1468.33 Q1506.8 1475.44 1508.6 1479.01 Q1510.43 1482.55 1514.04 1482.55 Q1517.68 1482.55 1519.48 1479.01 Q1521.31 1475.44 1521.31 1468.33 Q1521.31 1461.2 1519.48 1457.66 Q1517.68 1454.1 1514.04 1454.1 M1514.04 1450.39 Q1519.85 1450.39 1522.91 1455 Q1525.99 1459.58 1525.99 1468.33 Q1525.99 1477.06 1522.91 1481.67 Q1519.85 1486.25 1514.04 1486.25 Q1508.23 1486.25 1505.15 1481.67 Q1502.1 1477.06 1502.1 1468.33 Q1502.1 1459.58 1505.15 1455 Q1508.23 1450.39 1514.04 1450.39 Z\" fill=\"#000000\" fill-rule=\"evenodd\" fill-opacity=\"1\" /><path clip-path=\"url(#clip580)\" d=\"M1884.93 1455.09 L1873.13 1473.54 L1884.93 1473.54 L1884.93 1455.09 M1883.7 1451.02 L1889.58 1451.02 L1889.58 1473.54 L1894.51 1473.54 L1894.51 1477.43 L1889.58 1477.43 L1889.58 1485.58 L1884.93 1485.58 L1884.93 1477.43 L1869.33 1477.43 L1869.33 1472.92 L1883.7 1451.02 Z\" fill=\"#000000\" fill-rule=\"evenodd\" fill-opacity=\"1\" /><path clip-path=\"url(#clip580)\" d=\"M1912.25 1454.1 Q1908.63 1454.1 1906.81 1457.66 Q1905 1461.2 1905 1468.33 Q1905 1475.44 1906.81 1479.01 Q1908.63 1482.55 1912.25 1482.55 Q1915.88 1482.55 1917.69 1479.01 Q1919.51 1475.44 1919.51 1468.33 Q1919.51 1461.2 1917.69 1457.66 Q1915.88 1454.1 1912.25 1454.1 M1912.25 1450.39 Q1918.06 1450.39 1921.11 1455 Q1924.19 1459.58 1924.19 1468.33 Q1924.19 1477.06 1921.11 1481.67 Q1918.06 1486.25 1912.25 1486.25 Q1906.44 1486.25 1903.36 1481.67 Q1900.3 1477.06 1900.3 1468.33 Q1900.3 1459.58 1903.36 1455 Q1906.44 1450.39 1912.25 1450.39 Z\" fill=\"#000000\" fill-rule=\"evenodd\" fill-opacity=\"1\" /><path clip-path=\"url(#clip580)\" d=\"M2269.01 1451.02 L2287.37 1451.02 L2287.37 1454.96 L2273.3 1454.96 L2273.3 1463.43 Q2274.32 1463.08 2275.33 1462.92 Q2276.35 1462.73 2277.37 1462.73 Q2283.16 1462.73 2286.54 1465.9 Q2289.92 1469.08 2289.92 1474.49 Q2289.92 1480.07 2286.44 1483.17 Q2282.97 1486.25 2276.65 1486.25 Q2274.48 1486.25 2272.21 1485.88 Q2269.96 1485.51 2267.56 1484.77 L2267.56 1480.07 Q2269.64 1481.2 2271.86 1481.76 Q2274.08 1482.32 2276.56 1482.32 Q2280.57 1482.32 2282.9 1480.21 Q2285.24 1478.1 2285.24 1474.49 Q2285.24 1470.88 2282.9 1468.77 Q2280.57 1466.67 2276.56 1466.67 Q2274.69 1466.67 2272.81 1467.08 Q2270.96 1467.5 2269.01 1468.38 L2269.01 1451.02 Z\" fill=\"#000000\" fill-rule=\"evenodd\" fill-opacity=\"1\" /><path clip-path=\"url(#clip580)\" d=\"M2309.13 1454.1 Q2305.52 1454.1 2303.69 1457.66 Q2301.88 1461.2 2301.88 1468.33 Q2301.88 1475.44 2303.69 1479.01 Q2305.52 1482.55 2309.13 1482.55 Q2312.76 1482.55 2314.57 1479.01 Q2316.4 1475.44 2316.4 1468.33 Q2316.4 1461.2 2314.57 1457.66 Q2312.76 1454.1 2309.13 1454.1 M2309.13 1450.39 Q2314.94 1450.39 2318 1455 Q2321.07 1459.58 2321.07 1468.33 Q2321.07 1477.06 2318 1481.67 Q2314.94 1486.25 2309.13 1486.25 Q2303.32 1486.25 2300.24 1481.67 Q2297.19 1477.06 2297.19 1468.33 Q2297.19 1459.58 2300.24 1455 Q2303.32 1450.39 2309.13 1450.39 Z\" fill=\"#000000\" fill-rule=\"evenodd\" fill-opacity=\"1\" /><path clip-path=\"url(#clip580)\" d=\"M1160.08 1539.37 L1150.82 1539.37 L1148.14 1550 L1157.47 1550 L1160.08 1539.37 M1155.3 1521.26 L1151.99 1534.46 L1161.29 1534.46 L1164.63 1521.26 L1169.72 1521.26 L1166.44 1534.46 L1176.38 1534.46 L1176.38 1539.37 L1165.2 1539.37 L1162.59 1550 L1172.72 1550 L1172.72 1554.87 L1161.35 1554.87 L1158.04 1568.04 L1152.95 1568.04 L1156.23 1554.87 L1146.9 1554.87 L1143.62 1568.04 L1138.5 1568.04 L1141.81 1554.87 L1131.78 1554.87 L1131.78 1550 L1142.99 1550 L1145.66 1539.37 L1135.41 1539.37 L1135.41 1534.46 L1146.9 1534.46 L1150.15 1521.26 L1155.3 1521.26 Z\" fill=\"#000000\" fill-rule=\"evenodd\" fill-opacity=\"1\" /><path clip-path=\"url(#clip580)\" d=\"M1230.96 1533.45 L1230.96 1538.98 Q1228.48 1537.71 1225.81 1537.07 Q1223.13 1536.44 1220.27 1536.44 Q1215.91 1536.44 1213.71 1537.77 Q1211.55 1539.11 1211.55 1541.79 Q1211.55 1543.82 1213.11 1545 Q1214.67 1546.15 1219.38 1547.2 L1221.38 1547.64 Q1227.62 1548.98 1230.23 1551.43 Q1232.87 1553.85 1232.87 1558.21 Q1232.87 1563.17 1228.92 1566.07 Q1225.01 1568.97 1218.13 1568.97 Q1215.27 1568.97 1212.15 1568.39 Q1209.06 1567.85 1205.63 1566.74 L1205.63 1560.69 Q1208.87 1562.38 1212.02 1563.24 Q1215.17 1564.07 1218.26 1564.07 Q1222.4 1564.07 1224.63 1562.66 Q1226.86 1561.23 1226.86 1558.65 Q1226.86 1556.27 1225.23 1554.99 Q1223.64 1553.72 1218.2 1552.54 L1216.16 1552.07 Q1210.72 1550.92 1208.3 1548.56 Q1205.88 1546.18 1205.88 1542.04 Q1205.88 1537.01 1209.45 1534.27 Q1213.01 1531.54 1219.57 1531.54 Q1222.81 1531.54 1225.68 1532.01 Q1228.54 1532.49 1230.96 1533.45 Z\" fill=\"#000000\" fill-rule=\"evenodd\" fill-opacity=\"1\" /><path clip-path=\"url(#clip580)\" d=\"M1267.85 1533.76 L1267.85 1539.24 Q1265.37 1537.87 1262.85 1537.2 Q1260.37 1536.5 1257.82 1536.5 Q1252.13 1536.5 1248.98 1540.13 Q1245.83 1543.73 1245.83 1550.25 Q1245.83 1556.78 1248.98 1560.4 Q1252.13 1564 1257.82 1564 Q1260.37 1564 1262.85 1563.33 Q1265.37 1562.63 1267.85 1561.26 L1267.85 1566.68 Q1265.4 1567.82 1262.76 1568.39 Q1260.15 1568.97 1257.19 1568.97 Q1249.14 1568.97 1244.39 1563.91 Q1239.65 1558.85 1239.65 1550.25 Q1239.65 1541.53 1244.42 1536.53 Q1249.23 1531.54 1257.57 1531.54 Q1260.28 1531.54 1262.85 1532.11 Q1265.43 1532.65 1267.85 1533.76 Z\" fill=\"#000000\" fill-rule=\"evenodd\" fill-opacity=\"1\" /><path clip-path=\"url(#clip580)\" d=\"M1308.53 1548.76 L1308.53 1551.62 L1281.6 1551.62 Q1281.98 1557.67 1285.23 1560.85 Q1288.51 1564 1294.33 1564 Q1297.71 1564 1300.86 1563.17 Q1304.04 1562.35 1307.16 1560.69 L1307.16 1566.23 Q1304.01 1567.57 1300.7 1568.27 Q1297.39 1568.97 1293.98 1568.97 Q1285.45 1568.97 1280.45 1564 Q1275.49 1559.04 1275.49 1550.57 Q1275.49 1541.82 1280.2 1536.69 Q1284.94 1531.54 1292.96 1531.54 Q1300.16 1531.54 1304.33 1536.18 Q1308.53 1540.8 1308.53 1548.76 M1302.67 1547.04 Q1302.61 1542.23 1299.97 1539.37 Q1297.36 1536.5 1293.03 1536.5 Q1288.13 1536.5 1285.17 1539.27 Q1282.24 1542.04 1281.79 1547.07 L1302.67 1547.04 Z\" fill=\"#000000\" fill-rule=\"evenodd\" fill-opacity=\"1\" /><path clip-path=\"url(#clip580)\" d=\"M1347.77 1546.53 L1347.77 1568.04 L1341.92 1568.04 L1341.92 1546.72 Q1341.92 1541.66 1339.94 1539.14 Q1337.97 1536.63 1334.02 1536.63 Q1329.28 1536.63 1326.54 1539.65 Q1323.81 1542.68 1323.81 1547.9 L1323.81 1568.04 L1317.92 1568.04 L1317.92 1532.4 L1323.81 1532.4 L1323.81 1537.93 Q1325.91 1534.72 1328.74 1533.13 Q1331.6 1531.54 1335.33 1531.54 Q1341.47 1531.54 1344.62 1535.36 Q1347.77 1539.14 1347.77 1546.53 Z\" fill=\"#000000\" fill-rule=\"evenodd\" fill-opacity=\"1\" /><path clip-path=\"url(#clip580)\" d=\"M1375.65 1550.12 Q1368.56 1550.12 1365.82 1551.75 Q1363.08 1553.37 1363.08 1557.29 Q1363.08 1560.4 1365.12 1562.25 Q1367.19 1564.07 1370.72 1564.07 Q1375.59 1564.07 1378.52 1560.63 Q1381.48 1557.16 1381.48 1551.43 L1381.48 1550.12 L1375.65 1550.12 M1387.33 1547.71 L1387.33 1568.04 L1381.48 1568.04 L1381.48 1562.63 Q1379.47 1565.88 1376.48 1567.44 Q1373.49 1568.97 1369.16 1568.97 Q1363.69 1568.97 1360.44 1565.91 Q1357.23 1562.82 1357.23 1557.67 Q1357.23 1551.65 1361.24 1548.6 Q1365.28 1545.54 1373.27 1545.54 L1381.48 1545.54 L1381.48 1544.97 Q1381.48 1540.93 1378.8 1538.73 Q1376.16 1536.5 1371.36 1536.5 Q1368.3 1536.5 1365.4 1537.23 Q1362.51 1537.97 1359.83 1539.43 L1359.83 1534.02 Q1363.05 1532.78 1366.07 1532.17 Q1369.1 1531.54 1371.96 1531.54 Q1379.7 1531.54 1383.52 1535.55 Q1387.33 1539.56 1387.33 1547.71 Z\" fill=\"#000000\" fill-rule=\"evenodd\" fill-opacity=\"1\" /><path clip-path=\"url(#clip580)\" d=\"M1420.05 1537.87 Q1419.07 1537.3 1417.89 1537.04 Q1416.74 1536.76 1415.34 1536.76 Q1410.38 1536.76 1407.71 1540 Q1405.06 1543.22 1405.06 1549.27 L1405.06 1568.04 L1399.18 1568.04 L1399.18 1532.4 L1405.06 1532.4 L1405.06 1537.93 Q1406.91 1534.69 1409.87 1533.13 Q1412.83 1531.54 1417.06 1531.54 Q1417.67 1531.54 1418.4 1531.63 Q1419.13 1531.7 1420.02 1531.85 L1420.05 1537.87 Z\" fill=\"#000000\" fill-rule=\"evenodd\" fill-opacity=\"1\" /><path clip-path=\"url(#clip580)\" d=\"M1426.2 1532.4 L1432.05 1532.4 L1432.05 1568.04 L1426.2 1568.04 L1426.2 1532.4 M1426.2 1518.52 L1432.05 1518.52 L1432.05 1525.93 L1426.2 1525.93 L1426.2 1518.52 Z\" fill=\"#000000\" fill-rule=\"evenodd\" fill-opacity=\"1\" /><path clip-path=\"url(#clip580)\" d=\"M1458.12 1536.5 Q1453.41 1536.5 1450.67 1540.19 Q1447.94 1543.85 1447.94 1550.25 Q1447.94 1556.65 1450.64 1560.34 Q1453.38 1564 1458.12 1564 Q1462.8 1564 1465.54 1560.31 Q1468.27 1556.62 1468.27 1550.25 Q1468.27 1543.92 1465.54 1540.23 Q1462.8 1536.5 1458.12 1536.5 M1458.12 1531.54 Q1465.76 1531.54 1470.12 1536.5 Q1474.48 1541.47 1474.48 1550.25 Q1474.48 1559 1470.12 1564 Q1465.76 1568.97 1458.12 1568.97 Q1450.45 1568.97 1446.09 1564 Q1441.76 1559 1441.76 1550.25 Q1441.76 1541.47 1446.09 1536.5 Q1450.45 1531.54 1458.12 1531.54 Z\" fill=\"#000000\" fill-rule=\"evenodd\" fill-opacity=\"1\" /><path clip-path=\"url(#clip580)\" d=\"M1506.91 1533.45 L1506.91 1538.98 Q1504.43 1537.71 1501.76 1537.07 Q1499.08 1536.44 1496.22 1536.44 Q1491.86 1536.44 1489.66 1537.77 Q1487.5 1539.11 1487.5 1541.79 Q1487.5 1543.82 1489.06 1545 Q1490.62 1546.15 1495.33 1547.2 L1497.33 1547.64 Q1503.57 1548.98 1506.18 1551.43 Q1508.82 1553.85 1508.82 1558.21 Q1508.82 1563.17 1504.88 1566.07 Q1500.96 1568.97 1494.09 1568.97 Q1491.22 1568.97 1488.1 1568.39 Q1485.02 1567.85 1481.58 1566.74 L1481.58 1560.69 Q1484.83 1562.38 1487.98 1563.24 Q1491.13 1564.07 1494.22 1564.07 Q1498.35 1564.07 1500.58 1562.66 Q1502.81 1561.23 1502.81 1558.65 Q1502.81 1556.27 1501.19 1554.99 Q1499.59 1553.72 1494.15 1552.54 L1492.11 1552.07 Q1486.67 1550.92 1484.25 1548.56 Q1481.83 1546.18 1481.83 1542.04 Q1481.83 1537.01 1485.4 1534.27 Q1488.96 1531.54 1495.52 1531.54 Q1498.77 1531.54 1501.63 1532.01 Q1504.5 1532.49 1506.91 1533.45 Z\" fill=\"#000000\" fill-rule=\"evenodd\" fill-opacity=\"1\" /><polyline clip-path=\"url(#clip582)\" style=\"stroke:#000000; stroke-linecap:round; stroke-linejoin:round; stroke-width:2; stroke-opacity:0.1; fill:none\" points=\"287.852,1402.07 2352.76,1402.07 \"/>\n",
       "<polyline clip-path=\"url(#clip582)\" style=\"stroke:#000000; stroke-linecap:round; stroke-linejoin:round; stroke-width:2; stroke-opacity:0.1; fill:none\" points=\"287.852,1179.74 2352.76,1179.74 \"/>\n",
       "<polyline clip-path=\"url(#clip582)\" style=\"stroke:#000000; stroke-linecap:round; stroke-linejoin:round; stroke-width:2; stroke-opacity:0.1; fill:none\" points=\"287.852,957.416 2352.76,957.416 \"/>\n",
       "<polyline clip-path=\"url(#clip582)\" style=\"stroke:#000000; stroke-linecap:round; stroke-linejoin:round; stroke-width:2; stroke-opacity:0.1; fill:none\" points=\"287.852,735.091 2352.76,735.091 \"/>\n",
       "<polyline clip-path=\"url(#clip582)\" style=\"stroke:#000000; stroke-linecap:round; stroke-linejoin:round; stroke-width:2; stroke-opacity:0.1; fill:none\" points=\"287.852,512.765 2352.76,512.765 \"/>\n",
       "<polyline clip-path=\"url(#clip582)\" style=\"stroke:#000000; stroke-linecap:round; stroke-linejoin:round; stroke-width:2; stroke-opacity:0.1; fill:none\" points=\"287.852,290.44 2352.76,290.44 \"/>\n",
       "<polyline clip-path=\"url(#clip582)\" style=\"stroke:#000000; stroke-linecap:round; stroke-linejoin:round; stroke-width:2; stroke-opacity:0.1; fill:none\" points=\"287.852,68.1154 2352.76,68.1154 \"/>\n",
       "<polyline clip-path=\"url(#clip580)\" style=\"stroke:#000000; stroke-linecap:round; stroke-linejoin:round; stroke-width:4; stroke-opacity:1; fill:none\" points=\"287.852,1423.18 287.852,47.2441 \"/>\n",
       "<polyline clip-path=\"url(#clip580)\" style=\"stroke:#000000; stroke-linecap:round; stroke-linejoin:round; stroke-width:4; stroke-opacity:1; fill:none\" points=\"287.852,1402.07 306.75,1402.07 \"/>\n",
       "<polyline clip-path=\"url(#clip580)\" style=\"stroke:#000000; stroke-linecap:round; stroke-linejoin:round; stroke-width:4; stroke-opacity:1; fill:none\" points=\"287.852,1179.74 306.75,1179.74 \"/>\n",
       "<polyline clip-path=\"url(#clip580)\" style=\"stroke:#000000; stroke-linecap:round; stroke-linejoin:round; stroke-width:4; stroke-opacity:1; fill:none\" points=\"287.852,957.416 306.75,957.416 \"/>\n",
       "<polyline clip-path=\"url(#clip580)\" style=\"stroke:#000000; stroke-linecap:round; stroke-linejoin:round; stroke-width:4; stroke-opacity:1; fill:none\" points=\"287.852,735.091 306.75,735.091 \"/>\n",
       "<polyline clip-path=\"url(#clip580)\" style=\"stroke:#000000; stroke-linecap:round; stroke-linejoin:round; stroke-width:4; stroke-opacity:1; fill:none\" points=\"287.852,512.765 306.75,512.765 \"/>\n",
       "<polyline clip-path=\"url(#clip580)\" style=\"stroke:#000000; stroke-linecap:round; stroke-linejoin:round; stroke-width:4; stroke-opacity:1; fill:none\" points=\"287.852,290.44 306.75,290.44 \"/>\n",
       "<polyline clip-path=\"url(#clip580)\" style=\"stroke:#000000; stroke-linecap:round; stroke-linejoin:round; stroke-width:4; stroke-opacity:1; fill:none\" points=\"287.852,68.1154 306.75,68.1154 \"/>\n",
       "<path clip-path=\"url(#clip580)\" d=\"M115.742 1402.52 L145.417 1402.52 L145.417 1406.45 L115.742 1406.45 L115.742 1402.52 Z\" fill=\"#000000\" fill-rule=\"evenodd\" fill-opacity=\"1\" /><path clip-path=\"url(#clip580)\" d=\"M165.51 1387.86 Q161.899 1387.86 160.07 1391.43 Q158.265 1394.97 158.265 1402.1 Q158.265 1409.21 160.07 1412.77 Q161.899 1416.31 165.51 1416.31 Q169.144 1416.31 170.95 1412.77 Q172.778 1409.21 172.778 1402.1 Q172.778 1394.97 170.95 1391.43 Q169.144 1387.86 165.51 1387.86 M165.51 1384.16 Q171.32 1384.16 174.376 1388.77 Q177.454 1393.35 177.454 1402.1 Q177.454 1410.83 174.376 1415.43 Q171.32 1420.02 165.51 1420.02 Q159.7 1420.02 156.621 1415.43 Q153.566 1410.83 153.566 1402.1 Q153.566 1393.35 156.621 1388.77 Q159.7 1384.16 165.51 1384.16 Z\" fill=\"#000000\" fill-rule=\"evenodd\" fill-opacity=\"1\" /><path clip-path=\"url(#clip580)\" d=\"M185.672 1413.47 L190.556 1413.47 L190.556 1419.35 L185.672 1419.35 L185.672 1413.47 Z\" fill=\"#000000\" fill-rule=\"evenodd\" fill-opacity=\"1\" /><path clip-path=\"url(#clip580)\" d=\"M210.741 1387.86 Q207.13 1387.86 205.301 1391.43 Q203.496 1394.97 203.496 1402.1 Q203.496 1409.21 205.301 1412.77 Q207.13 1416.31 210.741 1416.31 Q214.375 1416.31 216.181 1412.77 Q218.01 1409.21 218.01 1402.1 Q218.01 1394.97 216.181 1391.43 Q214.375 1387.86 210.741 1387.86 M210.741 1384.16 Q216.551 1384.16 219.607 1388.77 Q222.686 1393.35 222.686 1402.1 Q222.686 1410.83 219.607 1415.43 Q216.551 1420.02 210.741 1420.02 Q204.931 1420.02 201.852 1415.43 Q198.797 1410.83 198.797 1402.1 Q198.797 1393.35 201.852 1388.77 Q204.931 1384.16 210.741 1384.16 Z\" fill=\"#000000\" fill-rule=\"evenodd\" fill-opacity=\"1\" /><path clip-path=\"url(#clip580)\" d=\"M230.949 1384.79 L249.306 1384.79 L249.306 1388.72 L235.232 1388.72 L235.232 1397.19 Q236.25 1396.85 237.269 1396.68 Q238.287 1396.5 239.306 1396.5 Q245.093 1396.5 248.472 1399.67 Q251.852 1402.84 251.852 1408.26 Q251.852 1413.84 248.38 1416.94 Q244.908 1420.02 238.588 1420.02 Q236.412 1420.02 234.144 1419.65 Q231.898 1419.28 229.491 1418.54 L229.491 1413.84 Q231.574 1414.97 233.797 1415.53 Q236.019 1416.08 238.496 1416.08 Q242.5 1416.08 244.838 1413.98 Q247.176 1411.87 247.176 1408.26 Q247.176 1404.65 244.838 1402.54 Q242.5 1400.43 238.496 1400.43 Q236.621 1400.43 234.746 1400.85 Q232.894 1401.27 230.949 1402.15 L230.949 1384.79 Z\" fill=\"#000000\" fill-rule=\"evenodd\" fill-opacity=\"1\" /><path clip-path=\"url(#clip580)\" d=\"M114.26 1180.19 L143.936 1180.19 L143.936 1184.13 L114.26 1184.13 L114.26 1180.19 Z\" fill=\"#000000\" fill-rule=\"evenodd\" fill-opacity=\"1\" /><path clip-path=\"url(#clip580)\" d=\"M164.028 1165.54 Q160.417 1165.54 158.589 1169.1 Q156.783 1172.65 156.783 1179.78 Q156.783 1186.88 158.589 1190.45 Q160.417 1193.99 164.028 1193.99 Q167.663 1193.99 169.468 1190.45 Q171.297 1186.88 171.297 1179.78 Q171.297 1172.65 169.468 1169.1 Q167.663 1165.54 164.028 1165.54 M164.028 1161.84 Q169.839 1161.84 172.894 1166.44 Q175.973 1171.03 175.973 1179.78 Q175.973 1188.5 172.894 1193.11 Q169.839 1197.69 164.028 1197.69 Q158.218 1197.69 155.14 1193.11 Q152.084 1188.5 152.084 1179.78 Q152.084 1171.03 155.14 1166.44 Q158.218 1161.84 164.028 1161.84 Z\" fill=\"#000000\" fill-rule=\"evenodd\" fill-opacity=\"1\" /><path clip-path=\"url(#clip580)\" d=\"M184.19 1191.14 L189.075 1191.14 L189.075 1197.02 L184.19 1197.02 L184.19 1191.14 Z\" fill=\"#000000\" fill-rule=\"evenodd\" fill-opacity=\"1\" /><path clip-path=\"url(#clip580)\" d=\"M209.26 1165.54 Q205.649 1165.54 203.82 1169.1 Q202.014 1172.65 202.014 1179.78 Q202.014 1186.88 203.82 1190.45 Q205.649 1193.99 209.26 1193.99 Q212.894 1193.99 214.699 1190.45 Q216.528 1186.88 216.528 1179.78 Q216.528 1172.65 214.699 1169.1 Q212.894 1165.54 209.26 1165.54 M209.26 1161.84 Q215.07 1161.84 218.125 1166.44 Q221.204 1171.03 221.204 1179.78 Q221.204 1188.5 218.125 1193.11 Q215.07 1197.69 209.26 1197.69 Q203.449 1197.69 200.371 1193.11 Q197.315 1188.5 197.315 1179.78 Q197.315 1171.03 200.371 1166.44 Q203.449 1161.84 209.26 1161.84 Z\" fill=\"#000000\" fill-rule=\"evenodd\" fill-opacity=\"1\" /><path clip-path=\"url(#clip580)\" d=\"M242.269 1166.53 L230.463 1184.98 L242.269 1184.98 L242.269 1166.53 M241.042 1162.46 L246.921 1162.46 L246.921 1184.98 L251.852 1184.98 L251.852 1188.87 L246.921 1188.87 L246.921 1197.02 L242.269 1197.02 L242.269 1188.87 L226.667 1188.87 L226.667 1184.36 L241.042 1162.46 Z\" fill=\"#000000\" fill-rule=\"evenodd\" fill-opacity=\"1\" /><path clip-path=\"url(#clip580)\" d=\"M115.394 957.867 L145.07 957.867 L145.07 961.802 L115.394 961.802 L115.394 957.867 Z\" fill=\"#000000\" fill-rule=\"evenodd\" fill-opacity=\"1\" /><path clip-path=\"url(#clip580)\" d=\"M165.163 943.214 Q161.552 943.214 159.723 946.779 Q157.917 950.321 157.917 957.45 Q157.917 964.557 159.723 968.122 Q161.552 971.663 165.163 971.663 Q168.797 971.663 170.602 968.122 Q172.431 964.557 172.431 957.45 Q172.431 950.321 170.602 946.779 Q168.797 943.214 165.163 943.214 M165.163 939.511 Q170.973 939.511 174.028 944.117 Q177.107 948.7 177.107 957.45 Q177.107 966.177 174.028 970.784 Q170.973 975.367 165.163 975.367 Q159.353 975.367 156.274 970.784 Q153.218 966.177 153.218 957.45 Q153.218 948.7 156.274 944.117 Q159.353 939.511 165.163 939.511 Z\" fill=\"#000000\" fill-rule=\"evenodd\" fill-opacity=\"1\" /><path clip-path=\"url(#clip580)\" d=\"M185.325 968.816 L190.209 968.816 L190.209 974.696 L185.325 974.696 L185.325 968.816 Z\" fill=\"#000000\" fill-rule=\"evenodd\" fill-opacity=\"1\" /><path clip-path=\"url(#clip580)\" d=\"M210.394 943.214 Q206.783 943.214 204.954 946.779 Q203.149 950.321 203.149 957.45 Q203.149 964.557 204.954 968.122 Q206.783 971.663 210.394 971.663 Q214.028 971.663 215.834 968.122 Q217.662 964.557 217.662 957.45 Q217.662 950.321 215.834 946.779 Q214.028 943.214 210.394 943.214 M210.394 939.511 Q216.204 939.511 219.26 944.117 Q222.338 948.7 222.338 957.45 Q222.338 966.177 219.26 970.784 Q216.204 975.367 210.394 975.367 Q204.584 975.367 201.505 970.784 Q198.45 966.177 198.45 957.45 Q198.45 948.7 201.505 944.117 Q204.584 939.511 210.394 939.511 Z\" fill=\"#000000\" fill-rule=\"evenodd\" fill-opacity=\"1\" /><path clip-path=\"url(#clip580)\" d=\"M244.722 956.061 Q248.079 956.779 249.954 959.048 Q251.852 961.316 251.852 964.649 Q251.852 969.765 248.334 972.566 Q244.815 975.367 238.334 975.367 Q236.158 975.367 233.843 974.927 Q231.551 974.51 229.098 973.654 L229.098 969.14 Q231.042 970.274 233.357 970.853 Q235.672 971.432 238.195 971.432 Q242.593 971.432 244.884 969.696 Q247.199 967.96 247.199 964.649 Q247.199 961.594 245.046 959.881 Q242.917 958.145 239.097 958.145 L235.07 958.145 L235.07 954.302 L239.283 954.302 Q242.732 954.302 244.56 952.936 Q246.389 951.548 246.389 948.955 Q246.389 946.293 244.491 944.881 Q242.616 943.446 239.097 943.446 Q237.176 943.446 234.977 943.862 Q232.778 944.279 230.139 945.159 L230.139 940.992 Q232.801 940.251 235.116 939.881 Q237.454 939.511 239.514 939.511 Q244.838 939.511 247.94 941.941 Q251.042 944.349 251.042 948.469 Q251.042 951.339 249.398 953.33 Q247.755 955.298 244.722 956.061 Z\" fill=\"#000000\" fill-rule=\"evenodd\" fill-opacity=\"1\" /><path clip-path=\"url(#clip580)\" d=\"M116.343 735.542 L146.019 735.542 L146.019 739.477 L116.343 739.477 L116.343 735.542 Z\" fill=\"#000000\" fill-rule=\"evenodd\" fill-opacity=\"1\" /><path clip-path=\"url(#clip580)\" d=\"M166.112 720.889 Q162.501 720.889 160.672 724.454 Q158.866 727.996 158.866 735.125 Q158.866 742.232 160.672 745.797 Q162.501 749.338 166.112 749.338 Q169.746 749.338 171.552 745.797 Q173.38 742.232 173.38 735.125 Q173.38 727.996 171.552 724.454 Q169.746 720.889 166.112 720.889 M166.112 717.186 Q171.922 717.186 174.977 721.792 Q178.056 726.375 178.056 735.125 Q178.056 743.852 174.977 748.459 Q171.922 753.042 166.112 753.042 Q160.302 753.042 157.223 748.459 Q154.167 743.852 154.167 735.125 Q154.167 726.375 157.223 721.792 Q160.302 717.186 166.112 717.186 Z\" fill=\"#000000\" fill-rule=\"evenodd\" fill-opacity=\"1\" /><path clip-path=\"url(#clip580)\" d=\"M186.274 746.491 L191.158 746.491 L191.158 752.371 L186.274 752.371 L186.274 746.491 Z\" fill=\"#000000\" fill-rule=\"evenodd\" fill-opacity=\"1\" /><path clip-path=\"url(#clip580)\" d=\"M211.343 720.889 Q207.732 720.889 205.903 724.454 Q204.098 727.996 204.098 735.125 Q204.098 742.232 205.903 745.797 Q207.732 749.338 211.343 749.338 Q214.977 749.338 216.783 745.797 Q218.611 742.232 218.611 735.125 Q218.611 727.996 216.783 724.454 Q214.977 720.889 211.343 720.889 M211.343 717.186 Q217.153 717.186 220.209 721.792 Q223.287 726.375 223.287 735.125 Q223.287 743.852 220.209 748.459 Q217.153 753.042 211.343 753.042 Q205.533 753.042 202.454 748.459 Q199.399 743.852 199.399 735.125 Q199.399 726.375 202.454 721.792 Q205.533 717.186 211.343 717.186 Z\" fill=\"#000000\" fill-rule=\"evenodd\" fill-opacity=\"1\" /><path clip-path=\"url(#clip580)\" d=\"M235.533 748.435 L251.852 748.435 L251.852 752.371 L229.908 752.371 L229.908 748.435 Q232.57 745.681 237.153 741.051 Q241.759 736.398 242.94 735.056 Q245.185 732.533 246.065 730.797 Q246.968 729.037 246.968 727.348 Q246.968 724.593 245.023 722.857 Q243.102 721.121 240 721.121 Q237.801 721.121 235.347 721.885 Q232.917 722.649 230.139 724.199 L230.139 719.477 Q232.963 718.343 235.417 717.764 Q237.871 717.186 239.908 717.186 Q245.278 717.186 248.472 719.871 Q251.667 722.556 251.667 727.047 Q251.667 729.176 250.857 731.098 Q250.07 732.996 247.963 735.588 Q247.384 736.26 244.283 739.477 Q241.181 742.672 235.533 748.435 Z\" fill=\"#000000\" fill-rule=\"evenodd\" fill-opacity=\"1\" /><path clip-path=\"url(#clip580)\" d=\"M115.973 513.217 L145.649 513.217 L145.649 517.152 L115.973 517.152 L115.973 513.217 Z\" fill=\"#000000\" fill-rule=\"evenodd\" fill-opacity=\"1\" /><path clip-path=\"url(#clip580)\" d=\"M165.741 498.564 Q162.13 498.564 160.302 502.129 Q158.496 505.671 158.496 512.8 Q158.496 519.907 160.302 523.471 Q162.13 527.013 165.741 527.013 Q169.376 527.013 171.181 523.471 Q173.01 519.907 173.01 512.8 Q173.01 505.671 171.181 502.129 Q169.376 498.564 165.741 498.564 M165.741 494.86 Q171.552 494.86 174.607 499.467 Q177.686 504.05 177.686 512.8 Q177.686 521.527 174.607 526.133 Q171.552 530.717 165.741 530.717 Q159.931 530.717 156.853 526.133 Q153.797 521.527 153.797 512.8 Q153.797 504.05 156.853 499.467 Q159.931 494.86 165.741 494.86 Z\" fill=\"#000000\" fill-rule=\"evenodd\" fill-opacity=\"1\" /><path clip-path=\"url(#clip580)\" d=\"M185.903 524.166 L190.788 524.166 L190.788 530.045 L185.903 530.045 L185.903 524.166 Z\" fill=\"#000000\" fill-rule=\"evenodd\" fill-opacity=\"1\" /><path clip-path=\"url(#clip580)\" d=\"M210.973 498.564 Q207.362 498.564 205.533 502.129 Q203.727 505.671 203.727 512.8 Q203.727 519.907 205.533 523.471 Q207.362 527.013 210.973 527.013 Q214.607 527.013 216.412 523.471 Q218.241 519.907 218.241 512.8 Q218.241 505.671 216.412 502.129 Q214.607 498.564 210.973 498.564 M210.973 494.86 Q216.783 494.86 219.838 499.467 Q222.917 504.05 222.917 512.8 Q222.917 521.527 219.838 526.133 Q216.783 530.717 210.973 530.717 Q205.162 530.717 202.084 526.133 Q199.028 521.527 199.028 512.8 Q199.028 504.05 202.084 499.467 Q205.162 494.86 210.973 494.86 Z\" fill=\"#000000\" fill-rule=\"evenodd\" fill-opacity=\"1\" /><path clip-path=\"url(#clip580)\" d=\"M231.945 526.11 L239.584 526.11 L239.584 499.745 L231.273 501.411 L231.273 497.152 L239.537 495.485 L244.213 495.485 L244.213 526.11 L251.852 526.11 L251.852 530.045 L231.945 530.045 L231.945 526.11 Z\" fill=\"#000000\" fill-rule=\"evenodd\" fill-opacity=\"1\" /><path clip-path=\"url(#clip580)\" d=\"M164.515 276.239 Q160.903 276.239 159.075 279.804 Q157.269 283.346 157.269 290.475 Q157.269 297.582 159.075 301.146 Q160.903 304.688 164.515 304.688 Q168.149 304.688 169.954 301.146 Q171.783 297.582 171.783 290.475 Q171.783 283.346 169.954 279.804 Q168.149 276.239 164.515 276.239 M164.515 272.535 Q170.325 272.535 173.38 277.142 Q176.459 281.725 176.459 290.475 Q176.459 299.202 173.38 303.808 Q170.325 308.392 164.515 308.392 Q158.704 308.392 155.626 303.808 Q152.57 299.202 152.57 290.475 Q152.57 281.725 155.626 277.142 Q158.704 272.535 164.515 272.535 Z\" fill=\"#000000\" fill-rule=\"evenodd\" fill-opacity=\"1\" /><path clip-path=\"url(#clip580)\" d=\"M184.676 301.841 L189.561 301.841 L189.561 307.72 L184.676 307.72 L184.676 301.841 Z\" fill=\"#000000\" fill-rule=\"evenodd\" fill-opacity=\"1\" /><path clip-path=\"url(#clip580)\" d=\"M209.746 276.239 Q206.135 276.239 204.306 279.804 Q202.5 283.346 202.5 290.475 Q202.5 297.582 204.306 301.146 Q206.135 304.688 209.746 304.688 Q213.38 304.688 215.186 301.146 Q217.014 297.582 217.014 290.475 Q217.014 283.346 215.186 279.804 Q213.38 276.239 209.746 276.239 M209.746 272.535 Q215.556 272.535 218.611 277.142 Q221.69 281.725 221.69 290.475 Q221.69 299.202 218.611 303.808 Q215.556 308.392 209.746 308.392 Q203.936 308.392 200.857 303.808 Q197.801 299.202 197.801 290.475 Q197.801 281.725 200.857 277.142 Q203.936 272.535 209.746 272.535 Z\" fill=\"#000000\" fill-rule=\"evenodd\" fill-opacity=\"1\" /><path clip-path=\"url(#clip580)\" d=\"M239.908 276.239 Q236.297 276.239 234.468 279.804 Q232.662 283.346 232.662 290.475 Q232.662 297.582 234.468 301.146 Q236.297 304.688 239.908 304.688 Q243.542 304.688 245.347 301.146 Q247.176 297.582 247.176 290.475 Q247.176 283.346 245.347 279.804 Q243.542 276.239 239.908 276.239 M239.908 272.535 Q245.718 272.535 248.773 277.142 Q251.852 281.725 251.852 290.475 Q251.852 299.202 248.773 303.808 Q245.718 308.392 239.908 308.392 Q234.097 308.392 231.019 303.808 Q227.963 299.202 227.963 290.475 Q227.963 281.725 231.019 277.142 Q234.097 272.535 239.908 272.535 Z\" fill=\"#000000\" fill-rule=\"evenodd\" fill-opacity=\"1\" /><path clip-path=\"url(#clip580)\" d=\"M165.741 53.914 Q162.13 53.914 160.302 57.4788 Q158.496 61.0205 158.496 68.1501 Q158.496 75.2565 160.302 78.8213 Q162.13 82.363 165.741 82.363 Q169.376 82.363 171.181 78.8213 Q173.01 75.2565 173.01 68.1501 Q173.01 61.0205 171.181 57.4788 Q169.376 53.914 165.741 53.914 M165.741 50.2104 Q171.552 50.2104 174.607 54.8168 Q177.686 59.4001 177.686 68.1501 Q177.686 76.8769 174.607 81.4833 Q171.552 86.0667 165.741 86.0667 Q159.931 86.0667 156.853 81.4833 Q153.797 76.8769 153.797 68.1501 Q153.797 59.4001 156.853 54.8168 Q159.931 50.2104 165.741 50.2104 Z\" fill=\"#000000\" fill-rule=\"evenodd\" fill-opacity=\"1\" /><path clip-path=\"url(#clip580)\" d=\"M185.903 79.5158 L190.788 79.5158 L190.788 85.3954 L185.903 85.3954 L185.903 79.5158 Z\" fill=\"#000000\" fill-rule=\"evenodd\" fill-opacity=\"1\" /><path clip-path=\"url(#clip580)\" d=\"M210.973 53.914 Q207.362 53.914 205.533 57.4788 Q203.727 61.0205 203.727 68.1501 Q203.727 75.2565 205.533 78.8213 Q207.362 82.363 210.973 82.363 Q214.607 82.363 216.412 78.8213 Q218.241 75.2565 218.241 68.1501 Q218.241 61.0205 216.412 57.4788 Q214.607 53.914 210.973 53.914 M210.973 50.2104 Q216.783 50.2104 219.838 54.8168 Q222.917 59.4001 222.917 68.1501 Q222.917 76.8769 219.838 81.4833 Q216.783 86.0667 210.973 86.0667 Q205.162 86.0667 202.084 81.4833 Q199.028 76.8769 199.028 68.1501 Q199.028 59.4001 202.084 54.8168 Q205.162 50.2104 210.973 50.2104 Z\" fill=\"#000000\" fill-rule=\"evenodd\" fill-opacity=\"1\" /><path clip-path=\"url(#clip580)\" d=\"M231.945 81.4602 L239.584 81.4602 L239.584 55.0946 L231.273 56.7613 L231.273 52.502 L239.537 50.8354 L244.213 50.8354 L244.213 81.4602 L251.852 81.4602 L251.852 85.3954 L231.945 85.3954 L231.945 81.4602 Z\" fill=\"#000000\" fill-rule=\"evenodd\" fill-opacity=\"1\" /><path clip-path=\"url(#clip580)\" d=\"M32.4621 1247.81 Q32.4621 1252.52 36.1542 1255.26 Q39.8145 1258 46.212 1258 Q52.6095 1258 56.3017 1255.29 Q59.9619 1252.55 59.9619 1247.81 Q59.9619 1243.13 56.2698 1240.39 Q52.5777 1237.66 46.212 1237.66 Q39.8781 1237.66 36.186 1240.39 Q32.4621 1243.13 32.4621 1247.81 M27.4968 1247.81 Q27.4968 1240.17 32.4621 1235.81 Q37.4273 1231.45 46.212 1231.45 Q54.9649 1231.45 59.9619 1235.81 Q64.9272 1240.17 64.9272 1247.81 Q64.9272 1255.48 59.9619 1259.84 Q54.9649 1264.17 46.212 1264.17 Q37.4273 1264.17 32.4621 1259.84 Q27.4968 1255.48 27.4968 1247.81 Z\" fill=\"#000000\" fill-rule=\"evenodd\" fill-opacity=\"1\" /><path clip-path=\"url(#clip580)\" d=\"M46.212 1196.15 Q39.7508 1196.15 36.0905 1198.83 Q32.3984 1201.47 32.3984 1206.12 Q32.3984 1210.76 36.0905 1213.44 Q39.7508 1216.08 46.212 1216.08 Q52.6732 1216.08 56.3653 1213.44 Q60.0256 1210.76 60.0256 1206.12 Q60.0256 1201.47 56.3653 1198.83 Q52.6732 1196.15 46.212 1196.15 M33.7671 1216.08 Q30.5842 1214.23 29.0564 1211.43 Q27.4968 1208.6 27.4968 1204.68 Q27.4968 1198.19 32.6531 1194.15 Q37.8093 1190.07 46.212 1190.07 Q54.6147 1190.07 59.771 1194.15 Q64.9272 1198.19 64.9272 1204.68 Q64.9272 1208.6 63.3994 1211.43 Q61.8398 1214.23 58.657 1216.08 L64.0042 1216.08 L64.0042 1221.97 L14.479 1221.97 L14.479 1216.08 L33.7671 1216.08 Z\" fill=\"#000000\" fill-rule=\"evenodd\" fill-opacity=\"1\" /><path clip-path=\"url(#clip580)\" d=\"M28.3562 1180.37 L28.3562 1174.51 L64.6407 1174.51 Q71.452 1174.51 74.5076 1177.12 Q77.5631 1179.7 77.5631 1185.46 L77.5631 1187.69 L72.5979 1187.69 L72.5979 1186.13 Q72.5979 1182.78 71.0383 1181.58 Q69.5105 1180.37 64.6407 1180.37 L28.3562 1180.37 M14.479 1180.37 L14.479 1174.51 L21.895 1174.51 L21.895 1180.37 L14.479 1180.37 Z\" fill=\"#000000\" fill-rule=\"evenodd\" fill-opacity=\"1\" /><path clip-path=\"url(#clip580)\" d=\"M44.7161 1131.76 L47.5806 1131.76 L47.5806 1158.69 Q53.6281 1158.31 56.8109 1155.06 Q59.9619 1151.78 59.9619 1145.96 Q59.9619 1142.59 59.1344 1139.43 Q58.3069 1136.25 56.6518 1133.13 L62.1899 1133.13 Q63.5267 1136.28 64.227 1139.59 Q64.9272 1142.9 64.9272 1146.31 Q64.9272 1154.84 59.9619 1159.84 Q54.9967 1164.8 46.5303 1164.8 Q37.7774 1164.8 32.6531 1160.09 Q27.4968 1155.35 27.4968 1147.33 Q27.4968 1140.13 32.1438 1135.97 Q36.7589 1131.76 44.7161 1131.76 M42.9973 1137.62 Q38.1912 1137.68 35.3266 1140.33 Q32.4621 1142.94 32.4621 1147.26 Q32.4621 1152.17 35.2312 1155.13 Q38.0002 1158.05 43.0292 1158.5 L42.9973 1137.62 Z\" fill=\"#000000\" fill-rule=\"evenodd\" fill-opacity=\"1\" /><path clip-path=\"url(#clip580)\" d=\"M29.7248 1096.5 L35.1993 1096.5 Q33.8307 1098.98 33.1623 1101.49 Q32.4621 1103.98 32.4621 1106.52 Q32.4621 1112.22 36.0905 1115.37 Q39.6872 1118.52 46.212 1118.52 Q52.7369 1118.52 56.3653 1115.37 Q59.9619 1112.22 59.9619 1106.52 Q59.9619 1103.98 59.2935 1101.49 Q58.5933 1098.98 57.2247 1096.5 L62.6355 1096.5 Q63.7814 1098.95 64.3543 1101.59 Q64.9272 1104.2 64.9272 1107.16 Q64.9272 1115.21 59.8664 1119.96 Q54.8057 1124.7 46.212 1124.7 Q37.491 1124.7 32.4939 1119.92 Q27.4968 1115.12 27.4968 1106.78 Q27.4968 1104.07 28.0697 1101.49 Q28.6108 1098.92 29.7248 1096.5 Z\" fill=\"#000000\" fill-rule=\"evenodd\" fill-opacity=\"1\" /><path clip-path=\"url(#clip580)\" d=\"M18.2347 1080.52 L28.3562 1080.52 L28.3562 1068.46 L32.9077 1068.46 L32.9077 1080.52 L52.2594 1080.52 Q56.6199 1080.52 57.8613 1079.34 Q59.1026 1078.13 59.1026 1074.47 L59.1026 1068.46 L64.0042 1068.46 L64.0042 1074.47 Q64.0042 1081.25 61.4897 1083.83 Q58.9434 1086.41 52.2594 1086.41 L32.9077 1086.41 L32.9077 1090.7 L28.3562 1090.7 L28.3562 1086.41 L18.2347 1086.41 L18.2347 1080.52 Z\" fill=\"#000000\" fill-rule=\"evenodd\" fill-opacity=\"1\" /><path clip-path=\"url(#clip580)\" d=\"M28.3562 1060.75 L28.3562 1054.9 L64.0042 1054.9 L64.0042 1060.75 L28.3562 1060.75 M14.479 1060.75 L14.479 1054.9 L21.895 1054.9 L21.895 1060.75 L14.479 1060.75 Z\" fill=\"#000000\" fill-rule=\"evenodd\" fill-opacity=\"1\" /><path clip-path=\"url(#clip580)\" d=\"M28.3562 1046.85 L28.3562 1040.64 L58.275 1029.5 L28.3562 1018.36 L28.3562 1012.15 L64.0042 1025.52 L64.0042 1033.48 L28.3562 1046.85 Z\" fill=\"#000000\" fill-rule=\"evenodd\" fill-opacity=\"1\" /><path clip-path=\"url(#clip580)\" d=\"M44.7161 973.576 L47.5806 973.576 L47.5806 1000.5 Q53.6281 1000.12 56.8109 996.874 Q59.9619 993.596 59.9619 987.771 Q59.9619 984.398 59.1344 981.247 Q58.3069 978.064 56.6518 974.944 L62.1899 974.944 Q63.5267 978.096 64.227 981.406 Q64.9272 984.716 64.9272 988.121 Q64.9272 996.652 59.9619 1001.65 Q54.9967 1006.61 46.5303 1006.61 Q37.7774 1006.61 32.6531 1001.9 Q27.4968 997.161 27.4968 989.14 Q27.4968 981.947 32.1438 977.777 Q36.7589 973.576 44.7161 973.576 M42.9973 979.432 Q38.1912 979.496 35.3266 982.138 Q32.4621 984.748 32.4621 989.076 Q32.4621 993.978 35.2312 996.938 Q38.0002 999.866 43.0292 1000.31 L42.9973 979.432 Z\" fill=\"#000000\" fill-rule=\"evenodd\" fill-opacity=\"1\" /><path clip-path=\"url(#clip580)\" d=\"M14.479 925.196 L19.3487 925.196 L19.3487 930.798 Q19.3487 933.949 20.6219 935.191 Q21.895 936.4 25.2052 936.4 L28.3562 936.4 L28.3562 926.756 L32.9077 926.756 L32.9077 936.4 L64.0042 936.4 L64.0042 942.288 L32.9077 942.288 L32.9077 947.89 L28.3562 947.89 L28.3562 942.288 L25.8736 942.288 Q19.9216 942.288 17.2162 939.519 Q14.479 936.75 14.479 930.735 L14.479 925.196 Z\" fill=\"#000000\" fill-rule=\"evenodd\" fill-opacity=\"1\" /><path clip-path=\"url(#clip580)\" d=\"M49.9359 920.9 L28.3562 920.9 L28.3562 915.043 L49.7131 915.043 Q54.7739 915.043 57.3202 913.07 Q59.8346 911.096 59.8346 907.15 Q59.8346 902.407 56.8109 899.67 Q53.7872 896.901 48.5673 896.901 L28.3562 896.901 L28.3562 891.044 L64.0042 891.044 L64.0042 896.901 L58.5296 896.901 Q61.7762 899.033 63.3676 901.866 Q64.9272 904.667 64.9272 908.391 Q64.9272 914.534 61.1078 917.717 Q57.2883 920.9 49.9359 920.9 M27.4968 906.163 L27.4968 906.163 Z\" fill=\"#000000\" fill-rule=\"evenodd\" fill-opacity=\"1\" /><path clip-path=\"url(#clip580)\" d=\"M42.4881 849.349 L64.0042 849.349 L64.0042 855.206 L42.679 855.206 Q37.6183 855.206 35.1038 857.179 Q32.5894 859.152 32.5894 863.099 Q32.5894 867.841 35.6131 870.579 Q38.6368 873.316 43.8567 873.316 L64.0042 873.316 L64.0042 879.204 L28.3562 879.204 L28.3562 873.316 L33.8944 873.316 Q30.6797 871.215 29.0883 868.383 Q27.4968 865.518 27.4968 861.794 Q27.4968 855.651 31.3163 852.5 Q35.1038 849.349 42.4881 849.349 Z\" fill=\"#000000\" fill-rule=\"evenodd\" fill-opacity=\"1\" /><path clip-path=\"url(#clip580)\" d=\"M29.7248 812.014 L35.1993 812.014 Q33.8307 814.497 33.1623 817.011 Q32.4621 819.494 32.4621 822.04 Q32.4621 827.738 36.0905 830.889 Q39.6872 834.04 46.212 834.04 Q52.7369 834.04 56.3653 830.889 Q59.9619 827.738 59.9619 822.04 Q59.9619 819.494 59.2935 817.011 Q58.5933 814.497 57.2247 812.014 L62.6355 812.014 Q63.7814 814.465 64.3543 817.107 Q64.9272 819.717 64.9272 822.677 Q64.9272 830.729 59.8664 835.472 Q54.8057 840.214 46.212 840.214 Q37.491 840.214 32.4939 835.44 Q27.4968 830.634 27.4968 822.295 Q27.4968 819.589 28.0697 817.011 Q28.6108 814.433 29.7248 812.014 Z\" fill=\"#000000\" fill-rule=\"evenodd\" fill-opacity=\"1\" /><path clip-path=\"url(#clip580)\" d=\"M18.2347 796.036 L28.3562 796.036 L28.3562 783.973 L32.9077 783.973 L32.9077 796.036 L52.2594 796.036 Q56.6199 796.036 57.8613 794.859 Q59.1026 793.649 59.1026 789.989 L59.1026 783.973 L64.0042 783.973 L64.0042 789.989 Q64.0042 796.768 61.4897 799.346 Q58.9434 801.925 52.2594 801.925 L32.9077 801.925 L32.9077 806.221 L28.3562 806.221 L28.3562 801.925 L18.2347 801.925 L18.2347 796.036 Z\" fill=\"#000000\" fill-rule=\"evenodd\" fill-opacity=\"1\" /><path clip-path=\"url(#clip580)\" d=\"M28.3562 776.271 L28.3562 770.414 L64.0042 770.414 L64.0042 776.271 L28.3562 776.271 M14.479 776.271 L14.479 770.414 L21.895 770.414 L21.895 776.271 L14.479 776.271 Z\" fill=\"#000000\" fill-rule=\"evenodd\" fill-opacity=\"1\" /><path clip-path=\"url(#clip580)\" d=\"M32.4621 744.347 Q32.4621 749.057 36.1542 751.795 Q39.8145 754.532 46.212 754.532 Q52.6095 754.532 56.3017 751.826 Q59.9619 749.089 59.9619 744.347 Q59.9619 739.668 56.2698 736.931 Q52.5777 734.193 46.212 734.193 Q39.8781 734.193 36.186 736.931 Q32.4621 739.668 32.4621 744.347 M27.4968 744.347 Q27.4968 736.708 32.4621 732.347 Q37.4273 727.987 46.212 727.987 Q54.9649 727.987 59.9619 732.347 Q64.9272 736.708 64.9272 744.347 Q64.9272 752.017 59.9619 756.378 Q54.9649 760.707 46.212 760.707 Q37.4273 760.707 32.4621 756.378 Q27.4968 752.017 27.4968 744.347 Z\" fill=\"#000000\" fill-rule=\"evenodd\" fill-opacity=\"1\" /><path clip-path=\"url(#clip580)\" d=\"M42.4881 688.647 L64.0042 688.647 L64.0042 694.503 L42.679 694.503 Q37.6183 694.503 35.1038 696.477 Q32.5894 698.45 32.5894 702.397 Q32.5894 707.139 35.6131 709.876 Q38.6368 712.614 43.8567 712.614 L64.0042 712.614 L64.0042 718.502 L28.3562 718.502 L28.3562 712.614 L33.8944 712.614 Q30.6797 710.513 29.0883 707.68 Q27.4968 704.816 27.4968 701.092 Q27.4968 694.949 31.3163 691.798 Q35.1038 688.647 42.4881 688.647 Z\" fill=\"#000000\" fill-rule=\"evenodd\" fill-opacity=\"1\" /><path clip-path=\"url(#clip580)\" d=\"M33.7671 632.788 L14.479 632.788 L14.479 626.931 L64.0042 626.931 L64.0042 632.788 L58.657 632.788 Q61.8398 634.634 63.3994 637.467 Q64.9272 640.267 64.9272 644.214 Q64.9272 650.675 59.771 654.749 Q54.6147 658.792 46.212 658.792 Q37.8093 658.792 32.6531 654.749 Q27.4968 650.675 27.4968 644.214 Q27.4968 640.267 29.0564 637.467 Q30.5842 634.634 33.7671 632.788 M46.212 652.744 Q52.6732 652.744 56.3653 650.102 Q60.0256 647.429 60.0256 642.782 Q60.0256 638.135 56.3653 635.461 Q52.6732 632.788 46.212 632.788 Q39.7508 632.788 36.0905 635.461 Q32.3984 638.135 32.3984 642.782 Q32.3984 647.429 36.0905 650.102 Q39.7508 652.744 46.212 652.744 Z\" fill=\"#000000\" fill-rule=\"evenodd\" fill-opacity=\"1\" /><path clip-path=\"url(#clip580)\" d=\"M28.3562 614.868 L28.3562 609.012 L64.0042 609.012 L64.0042 614.868 L28.3562 614.868 M14.479 614.868 L14.479 609.012 L21.895 609.012 L21.895 614.868 L14.479 614.868 Z\" fill=\"#000000\" fill-rule=\"evenodd\" fill-opacity=\"1\" /><path clip-path=\"url(#clip580)\" d=\"M14.479 578.711 L19.3487 578.711 L19.3487 584.313 Q19.3487 587.464 20.6219 588.705 Q21.895 589.915 25.2052 589.915 L28.3562 589.915 L28.3562 580.271 L32.9077 580.271 L32.9077 589.915 L64.0042 589.915 L64.0042 595.803 L32.9077 595.803 L32.9077 601.405 L28.3562 601.405 L28.3562 595.803 L25.8736 595.803 Q19.9216 595.803 17.2162 593.034 Q14.479 590.265 14.479 584.249 L14.479 578.711 Z\" fill=\"#000000\" fill-rule=\"evenodd\" fill-opacity=\"1\" /><path clip-path=\"url(#clip580)\" d=\"M14.479 555.763 L19.3487 555.763 L19.3487 561.365 Q19.3487 564.516 20.6219 565.757 Q21.895 566.966 25.2052 566.966 L28.3562 566.966 L28.3562 557.322 L32.9077 557.322 L32.9077 566.966 L64.0042 566.966 L64.0042 572.855 L32.9077 572.855 L32.9077 578.456 L28.3562 578.456 L28.3562 572.855 L25.8736 572.855 Q19.9216 572.855 17.2162 570.086 Q14.479 567.316 14.479 561.301 L14.479 555.763 Z\" fill=\"#000000\" fill-rule=\"evenodd\" fill-opacity=\"1\" /><path clip-path=\"url(#clip580)\" d=\"M44.7161 520.369 L47.5806 520.369 L47.5806 547.296 Q53.6281 546.914 56.8109 543.668 Q59.9619 540.39 59.9619 534.565 Q59.9619 531.191 59.1344 528.04 Q58.3069 524.857 56.6518 521.738 L62.1899 521.738 Q63.5267 524.889 64.227 528.199 Q64.9272 531.509 64.9272 534.915 Q64.9272 543.445 59.9619 548.442 Q54.9967 553.407 46.5303 553.407 Q37.7774 553.407 32.6531 548.697 Q27.4968 543.954 27.4968 535.934 Q27.4968 528.74 32.1438 524.571 Q36.7589 520.369 44.7161 520.369 M42.9973 526.226 Q38.1912 526.289 35.3266 528.931 Q32.4621 531.541 32.4621 535.87 Q32.4621 540.771 35.2312 543.732 Q38.0002 546.66 43.0292 547.105 L42.9973 526.226 Z\" fill=\"#000000\" fill-rule=\"evenodd\" fill-opacity=\"1\" /><path clip-path=\"url(#clip580)\" d=\"M33.8307 490.1 Q33.2578 491.087 33.0032 492.265 Q32.7167 493.411 32.7167 494.811 Q32.7167 499.776 35.9632 502.45 Q39.1779 505.092 45.2253 505.092 L64.0042 505.092 L64.0042 510.98 L28.3562 510.98 L28.3562 505.092 L33.8944 505.092 Q30.6479 503.246 29.0883 500.286 Q27.4968 497.326 27.4968 493.092 Q27.4968 492.488 27.5923 491.756 Q27.656 491.023 27.8151 490.132 L33.8307 490.1 Z\" fill=\"#000000\" fill-rule=\"evenodd\" fill-opacity=\"1\" /><path clip-path=\"url(#clip580)\" d=\"M44.7161 454.898 L47.5806 454.898 L47.5806 481.825 Q53.6281 481.443 56.8109 478.197 Q59.9619 474.918 59.9619 469.094 Q59.9619 465.72 59.1344 462.569 Q58.3069 459.386 56.6518 456.267 L62.1899 456.267 Q63.5267 459.418 64.227 462.728 Q64.9272 466.038 64.9272 469.444 Q64.9272 477.974 59.9619 482.971 Q54.9967 487.936 46.5303 487.936 Q37.7774 487.936 32.6531 483.225 Q27.4968 478.483 27.4968 470.462 Q27.4968 463.269 32.1438 459.099 Q36.7589 454.898 44.7161 454.898 M42.9973 460.755 Q38.1912 460.818 35.3266 463.46 Q32.4621 466.07 32.4621 470.399 Q32.4621 475.3 35.2312 478.26 Q38.0002 481.188 43.0292 481.634 L42.9973 460.755 Z\" fill=\"#000000\" fill-rule=\"evenodd\" fill-opacity=\"1\" /><path clip-path=\"url(#clip580)\" d=\"M42.4881 415.653 L64.0042 415.653 L64.0042 421.51 L42.679 421.51 Q37.6183 421.51 35.1038 423.483 Q32.5894 425.457 32.5894 429.403 Q32.5894 434.146 35.6131 436.883 Q38.6368 439.62 43.8567 439.62 L64.0042 439.62 L64.0042 445.509 L28.3562 445.509 L28.3562 439.62 L33.8944 439.62 Q30.6797 437.52 29.0883 434.687 Q27.4968 431.822 27.4968 428.098 Q27.4968 421.956 31.3163 418.805 Q35.1038 415.653 42.4881 415.653 Z\" fill=\"#000000\" fill-rule=\"evenodd\" fill-opacity=\"1\" /><path clip-path=\"url(#clip580)\" d=\"M29.7248 378.319 L35.1993 378.319 Q33.8307 380.801 33.1623 383.316 Q32.4621 385.798 32.4621 388.345 Q32.4621 394.042 36.0905 397.193 Q39.6872 400.344 46.212 400.344 Q52.7369 400.344 56.3653 397.193 Q59.9619 394.042 59.9619 388.345 Q59.9619 385.798 59.2935 383.316 Q58.5933 380.801 57.2247 378.319 L62.6355 378.319 Q63.7814 380.769 64.3543 383.411 Q64.9272 386.021 64.9272 388.981 Q64.9272 397.034 59.8664 401.776 Q54.8057 406.519 46.212 406.519 Q37.491 406.519 32.4939 401.744 Q27.4968 396.938 27.4968 388.599 Q27.4968 385.894 28.0697 383.316 Q28.6108 380.738 29.7248 378.319 Z\" fill=\"#000000\" fill-rule=\"evenodd\" fill-opacity=\"1\" /><path clip-path=\"url(#clip580)\" d=\"M44.7161 337.642 L47.5806 337.642 L47.5806 364.569 Q53.6281 364.187 56.8109 360.94 Q59.9619 357.662 59.9619 351.837 Q59.9619 348.463 59.1344 345.312 Q58.3069 342.13 56.6518 339.01 L62.1899 339.01 Q63.5267 342.161 64.227 345.472 Q64.9272 348.782 64.9272 352.187 Q64.9272 360.717 59.9619 365.715 Q54.9967 370.68 46.5303 370.68 Q37.7774 370.68 32.6531 365.969 Q27.4968 361.227 27.4968 353.206 Q27.4968 346.013 32.1438 341.843 Q36.7589 337.642 44.7161 337.642 M42.9973 343.498 Q38.1912 343.562 35.3266 346.204 Q32.4621 348.814 32.4621 353.142 Q32.4621 358.044 35.2312 361.004 Q38.0002 363.932 43.0292 364.378 L42.9973 343.498 Z\" fill=\"#000000\" fill-rule=\"evenodd\" fill-opacity=\"1\" /><path clip-path=\"url(#clip580)\" d=\"M14.479 307.85 L14.479 294.355 L19.0304 294.355 L19.0304 301.994 L68.0464 301.994 L68.0464 294.355 L72.5979 294.355 L72.5979 307.85 L14.479 307.85 Z\" fill=\"#000000\" fill-rule=\"evenodd\" fill-opacity=\"1\" /><path clip-path=\"url(#clip580)\" d=\"M43.0928 240.628 Q43.0928 243.397 45.4481 244.989 Q47.8034 246.548 52.0048 246.548 Q56.1425 246.548 58.5296 244.989 Q60.885 243.397 60.885 240.628 Q60.885 237.923 58.5296 236.363 Q56.1425 234.772 52.0048 234.772 Q47.8353 234.772 45.48 236.363 Q43.0928 237.923 43.0928 240.628 M39.0506 240.628 Q39.0506 235.599 42.5517 232.639 Q46.0529 229.679 52.0048 229.679 Q57.9567 229.679 61.4579 232.671 Q64.9272 235.631 64.9272 240.628 Q64.9272 245.721 61.4579 248.681 Q57.9567 251.641 52.0048 251.641 Q46.021 251.641 42.5517 248.681 Q39.0506 245.689 39.0506 240.628 M19.667 273.475 Q19.667 276.213 22.0542 277.804 Q24.4095 279.364 28.5472 279.364 Q32.7485 279.364 35.1038 277.804 Q37.4592 276.245 37.4592 273.475 Q37.4592 270.706 35.1038 269.147 Q32.7485 267.555 28.5472 267.555 Q24.4413 267.555 22.0542 269.147 Q19.667 270.738 19.667 273.475 M15.6248 244.734 L15.6248 239.642 L64.9272 269.37 L64.9272 274.462 L15.6248 244.734 M15.6248 273.475 Q15.6248 268.447 19.1259 265.455 Q22.5952 262.463 28.5472 262.463 Q34.5628 262.463 38.0321 265.455 Q41.5014 268.415 41.5014 273.475 Q41.5014 278.536 38.0321 281.496 Q34.5309 284.424 28.5472 284.424 Q22.6271 284.424 19.1259 281.464 Q15.6248 278.504 15.6248 273.475 Z\" fill=\"#000000\" fill-rule=\"evenodd\" fill-opacity=\"1\" /><path clip-path=\"url(#clip580)\" d=\"M14.479 206.254 L72.5979 206.254 L72.5979 219.749 L68.0464 219.749 L68.0464 212.142 L19.0304 212.142 L19.0304 219.749 L14.479 219.749 L14.479 206.254 Z\" fill=\"#000000\" fill-rule=\"evenodd\" fill-opacity=\"1\" /><polyline clip-path=\"url(#clip582)\" style=\"stroke:#000000; stroke-linecap:round; stroke-linejoin:round; stroke-width:4; stroke-opacity:1; fill:none\" points=\"346.293,280.643 386.048,290.632 425.804,289.946 465.559,289.202 505.315,259.121 545.07,286.963 584.826,286.049 624.582,274.939 664.337,283.157 704.093,100.407 743.848,294.817 783.604,281.301 823.359,289.574 863.115,280.242 902.871,275.45 942.626,282.254 982.382,272.26 1022.14,290.16 1061.89,273.474 1101.65,284.741 1141.4,277.154 1181.16,278.489 1220.92,277.09 1260.67,273.836 1300.43,271.006 1340.18,266.496 1379.94,296.923 1419.69,268.795 1459.45,270.002 1499.2,268.508 1538.96,298.559 \"/>\n",
       "<polyline clip-path=\"url(#clip582)\" style=\"stroke:#000000; stroke-linecap:round; stroke-linejoin:round; stroke-width:4; stroke-opacity:1; fill:none\" points=\"1697.98,271.866 1737.74,86.1857 1777.49,303.925 1817.25,301.511 1857,294.23 1896.76,262.981 1936.52,257.485 1976.27,266.758 2016.03,268.016 \"/>\n",
       "<polyline clip-path=\"url(#clip582)\" style=\"stroke:#000000; stroke-linecap:round; stroke-linejoin:round; stroke-width:4; stroke-opacity:1; fill:none\" points=\"2095.54,264.221 2135.29,131.364 2175.05,261.938 2214.8,264.139 2254.56,1384.24 2294.32,260.844 \"/>\n",
       "<line clip-path=\"url(#clip582)\" x1=\"346.293\" y1=\"280.643\" x2=\"330.293\" y2=\"264.643\" style=\"stroke:#000000; stroke-width:3.2; stroke-opacity:1\"/>\n",
       "<line clip-path=\"url(#clip582)\" x1=\"346.293\" y1=\"280.643\" x2=\"330.293\" y2=\"296.643\" style=\"stroke:#000000; stroke-width:3.2; stroke-opacity:1\"/>\n",
       "<line clip-path=\"url(#clip582)\" x1=\"346.293\" y1=\"280.643\" x2=\"362.293\" y2=\"296.643\" style=\"stroke:#000000; stroke-width:3.2; stroke-opacity:1\"/>\n",
       "<line clip-path=\"url(#clip582)\" x1=\"346.293\" y1=\"280.643\" x2=\"362.293\" y2=\"264.643\" style=\"stroke:#000000; stroke-width:3.2; stroke-opacity:1\"/>\n",
       "<line clip-path=\"url(#clip582)\" x1=\"386.048\" y1=\"290.632\" x2=\"370.048\" y2=\"274.632\" style=\"stroke:#000000; stroke-width:3.2; stroke-opacity:1\"/>\n",
       "<line clip-path=\"url(#clip582)\" x1=\"386.048\" y1=\"290.632\" x2=\"370.048\" y2=\"306.632\" style=\"stroke:#000000; stroke-width:3.2; stroke-opacity:1\"/>\n",
       "<line clip-path=\"url(#clip582)\" x1=\"386.048\" y1=\"290.632\" x2=\"402.048\" y2=\"306.632\" style=\"stroke:#000000; stroke-width:3.2; stroke-opacity:1\"/>\n",
       "<line clip-path=\"url(#clip582)\" x1=\"386.048\" y1=\"290.632\" x2=\"402.048\" y2=\"274.632\" style=\"stroke:#000000; stroke-width:3.2; stroke-opacity:1\"/>\n",
       "<line clip-path=\"url(#clip582)\" x1=\"425.804\" y1=\"289.946\" x2=\"409.804\" y2=\"273.946\" style=\"stroke:#000000; stroke-width:3.2; stroke-opacity:1\"/>\n",
       "<line clip-path=\"url(#clip582)\" x1=\"425.804\" y1=\"289.946\" x2=\"409.804\" y2=\"305.946\" style=\"stroke:#000000; stroke-width:3.2; stroke-opacity:1\"/>\n",
       "<line clip-path=\"url(#clip582)\" x1=\"425.804\" y1=\"289.946\" x2=\"441.804\" y2=\"305.946\" style=\"stroke:#000000; stroke-width:3.2; stroke-opacity:1\"/>\n",
       "<line clip-path=\"url(#clip582)\" x1=\"425.804\" y1=\"289.946\" x2=\"441.804\" y2=\"273.946\" style=\"stroke:#000000; stroke-width:3.2; stroke-opacity:1\"/>\n",
       "<line clip-path=\"url(#clip582)\" x1=\"465.559\" y1=\"289.202\" x2=\"449.559\" y2=\"273.202\" style=\"stroke:#000000; stroke-width:3.2; stroke-opacity:1\"/>\n",
       "<line clip-path=\"url(#clip582)\" x1=\"465.559\" y1=\"289.202\" x2=\"449.559\" y2=\"305.202\" style=\"stroke:#000000; stroke-width:3.2; stroke-opacity:1\"/>\n",
       "<line clip-path=\"url(#clip582)\" x1=\"465.559\" y1=\"289.202\" x2=\"481.559\" y2=\"305.202\" style=\"stroke:#000000; stroke-width:3.2; stroke-opacity:1\"/>\n",
       "<line clip-path=\"url(#clip582)\" x1=\"465.559\" y1=\"289.202\" x2=\"481.559\" y2=\"273.202\" style=\"stroke:#000000; stroke-width:3.2; stroke-opacity:1\"/>\n",
       "<line clip-path=\"url(#clip582)\" x1=\"505.315\" y1=\"259.121\" x2=\"489.315\" y2=\"243.121\" style=\"stroke:#000000; stroke-width:3.2; stroke-opacity:1\"/>\n",
       "<line clip-path=\"url(#clip582)\" x1=\"505.315\" y1=\"259.121\" x2=\"489.315\" y2=\"275.121\" style=\"stroke:#000000; stroke-width:3.2; stroke-opacity:1\"/>\n",
       "<line clip-path=\"url(#clip582)\" x1=\"505.315\" y1=\"259.121\" x2=\"521.315\" y2=\"275.121\" style=\"stroke:#000000; stroke-width:3.2; stroke-opacity:1\"/>\n",
       "<line clip-path=\"url(#clip582)\" x1=\"505.315\" y1=\"259.121\" x2=\"521.315\" y2=\"243.121\" style=\"stroke:#000000; stroke-width:3.2; stroke-opacity:1\"/>\n",
       "<line clip-path=\"url(#clip582)\" x1=\"545.07\" y1=\"286.963\" x2=\"529.07\" y2=\"270.963\" style=\"stroke:#000000; stroke-width:3.2; stroke-opacity:1\"/>\n",
       "<line clip-path=\"url(#clip582)\" x1=\"545.07\" y1=\"286.963\" x2=\"529.07\" y2=\"302.963\" style=\"stroke:#000000; stroke-width:3.2; stroke-opacity:1\"/>\n",
       "<line clip-path=\"url(#clip582)\" x1=\"545.07\" y1=\"286.963\" x2=\"561.07\" y2=\"302.963\" style=\"stroke:#000000; stroke-width:3.2; stroke-opacity:1\"/>\n",
       "<line clip-path=\"url(#clip582)\" x1=\"545.07\" y1=\"286.963\" x2=\"561.07\" y2=\"270.963\" style=\"stroke:#000000; stroke-width:3.2; stroke-opacity:1\"/>\n",
       "<line clip-path=\"url(#clip582)\" x1=\"584.826\" y1=\"286.049\" x2=\"568.826\" y2=\"270.049\" style=\"stroke:#000000; stroke-width:3.2; stroke-opacity:1\"/>\n",
       "<line clip-path=\"url(#clip582)\" x1=\"584.826\" y1=\"286.049\" x2=\"568.826\" y2=\"302.049\" style=\"stroke:#000000; stroke-width:3.2; stroke-opacity:1\"/>\n",
       "<line clip-path=\"url(#clip582)\" x1=\"584.826\" y1=\"286.049\" x2=\"600.826\" y2=\"302.049\" style=\"stroke:#000000; stroke-width:3.2; stroke-opacity:1\"/>\n",
       "<line clip-path=\"url(#clip582)\" x1=\"584.826\" y1=\"286.049\" x2=\"600.826\" y2=\"270.049\" style=\"stroke:#000000; stroke-width:3.2; stroke-opacity:1\"/>\n",
       "<line clip-path=\"url(#clip582)\" x1=\"624.582\" y1=\"274.939\" x2=\"608.582\" y2=\"258.939\" style=\"stroke:#000000; stroke-width:3.2; stroke-opacity:1\"/>\n",
       "<line clip-path=\"url(#clip582)\" x1=\"624.582\" y1=\"274.939\" x2=\"608.582\" y2=\"290.939\" style=\"stroke:#000000; stroke-width:3.2; stroke-opacity:1\"/>\n",
       "<line clip-path=\"url(#clip582)\" x1=\"624.582\" y1=\"274.939\" x2=\"640.582\" y2=\"290.939\" style=\"stroke:#000000; stroke-width:3.2; stroke-opacity:1\"/>\n",
       "<line clip-path=\"url(#clip582)\" x1=\"624.582\" y1=\"274.939\" x2=\"640.582\" y2=\"258.939\" style=\"stroke:#000000; stroke-width:3.2; stroke-opacity:1\"/>\n",
       "<line clip-path=\"url(#clip582)\" x1=\"664.337\" y1=\"283.157\" x2=\"648.337\" y2=\"267.157\" style=\"stroke:#000000; stroke-width:3.2; stroke-opacity:1\"/>\n",
       "<line clip-path=\"url(#clip582)\" x1=\"664.337\" y1=\"283.157\" x2=\"648.337\" y2=\"299.157\" style=\"stroke:#000000; stroke-width:3.2; stroke-opacity:1\"/>\n",
       "<line clip-path=\"url(#clip582)\" x1=\"664.337\" y1=\"283.157\" x2=\"680.337\" y2=\"299.157\" style=\"stroke:#000000; stroke-width:3.2; stroke-opacity:1\"/>\n",
       "<line clip-path=\"url(#clip582)\" x1=\"664.337\" y1=\"283.157\" x2=\"680.337\" y2=\"267.157\" style=\"stroke:#000000; stroke-width:3.2; stroke-opacity:1\"/>\n",
       "<line clip-path=\"url(#clip582)\" x1=\"704.093\" y1=\"100.407\" x2=\"688.093\" y2=\"84.4069\" style=\"stroke:#000000; stroke-width:3.2; stroke-opacity:1\"/>\n",
       "<line clip-path=\"url(#clip582)\" x1=\"704.093\" y1=\"100.407\" x2=\"688.093\" y2=\"116.407\" style=\"stroke:#000000; stroke-width:3.2; stroke-opacity:1\"/>\n",
       "<line clip-path=\"url(#clip582)\" x1=\"704.093\" y1=\"100.407\" x2=\"720.093\" y2=\"116.407\" style=\"stroke:#000000; stroke-width:3.2; stroke-opacity:1\"/>\n",
       "<line clip-path=\"url(#clip582)\" x1=\"704.093\" y1=\"100.407\" x2=\"720.093\" y2=\"84.4069\" style=\"stroke:#000000; stroke-width:3.2; stroke-opacity:1\"/>\n",
       "<line clip-path=\"url(#clip582)\" x1=\"743.848\" y1=\"294.817\" x2=\"727.848\" y2=\"278.817\" style=\"stroke:#000000; stroke-width:3.2; stroke-opacity:1\"/>\n",
       "<line clip-path=\"url(#clip582)\" x1=\"743.848\" y1=\"294.817\" x2=\"727.848\" y2=\"310.817\" style=\"stroke:#000000; stroke-width:3.2; stroke-opacity:1\"/>\n",
       "<line clip-path=\"url(#clip582)\" x1=\"743.848\" y1=\"294.817\" x2=\"759.848\" y2=\"310.817\" style=\"stroke:#000000; stroke-width:3.2; stroke-opacity:1\"/>\n",
       "<line clip-path=\"url(#clip582)\" x1=\"743.848\" y1=\"294.817\" x2=\"759.848\" y2=\"278.817\" style=\"stroke:#000000; stroke-width:3.2; stroke-opacity:1\"/>\n",
       "<line clip-path=\"url(#clip582)\" x1=\"783.604\" y1=\"281.301\" x2=\"767.604\" y2=\"265.301\" style=\"stroke:#000000; stroke-width:3.2; stroke-opacity:1\"/>\n",
       "<line clip-path=\"url(#clip582)\" x1=\"783.604\" y1=\"281.301\" x2=\"767.604\" y2=\"297.301\" style=\"stroke:#000000; stroke-width:3.2; stroke-opacity:1\"/>\n",
       "<line clip-path=\"url(#clip582)\" x1=\"783.604\" y1=\"281.301\" x2=\"799.604\" y2=\"297.301\" style=\"stroke:#000000; stroke-width:3.2; stroke-opacity:1\"/>\n",
       "<line clip-path=\"url(#clip582)\" x1=\"783.604\" y1=\"281.301\" x2=\"799.604\" y2=\"265.301\" style=\"stroke:#000000; stroke-width:3.2; stroke-opacity:1\"/>\n",
       "<line clip-path=\"url(#clip582)\" x1=\"823.359\" y1=\"289.574\" x2=\"807.359\" y2=\"273.574\" style=\"stroke:#000000; stroke-width:3.2; stroke-opacity:1\"/>\n",
       "<line clip-path=\"url(#clip582)\" x1=\"823.359\" y1=\"289.574\" x2=\"807.359\" y2=\"305.574\" style=\"stroke:#000000; stroke-width:3.2; stroke-opacity:1\"/>\n",
       "<line clip-path=\"url(#clip582)\" x1=\"823.359\" y1=\"289.574\" x2=\"839.359\" y2=\"305.574\" style=\"stroke:#000000; stroke-width:3.2; stroke-opacity:1\"/>\n",
       "<line clip-path=\"url(#clip582)\" x1=\"823.359\" y1=\"289.574\" x2=\"839.359\" y2=\"273.574\" style=\"stroke:#000000; stroke-width:3.2; stroke-opacity:1\"/>\n",
       "<line clip-path=\"url(#clip582)\" x1=\"863.115\" y1=\"280.242\" x2=\"847.115\" y2=\"264.242\" style=\"stroke:#000000; stroke-width:3.2; stroke-opacity:1\"/>\n",
       "<line clip-path=\"url(#clip582)\" x1=\"863.115\" y1=\"280.242\" x2=\"847.115\" y2=\"296.242\" style=\"stroke:#000000; stroke-width:3.2; stroke-opacity:1\"/>\n",
       "<line clip-path=\"url(#clip582)\" x1=\"863.115\" y1=\"280.242\" x2=\"879.115\" y2=\"296.242\" style=\"stroke:#000000; stroke-width:3.2; stroke-opacity:1\"/>\n",
       "<line clip-path=\"url(#clip582)\" x1=\"863.115\" y1=\"280.242\" x2=\"879.115\" y2=\"264.242\" style=\"stroke:#000000; stroke-width:3.2; stroke-opacity:1\"/>\n",
       "<line clip-path=\"url(#clip582)\" x1=\"902.871\" y1=\"275.45\" x2=\"886.871\" y2=\"259.45\" style=\"stroke:#000000; stroke-width:3.2; stroke-opacity:1\"/>\n",
       "<line clip-path=\"url(#clip582)\" x1=\"902.871\" y1=\"275.45\" x2=\"886.871\" y2=\"291.45\" style=\"stroke:#000000; stroke-width:3.2; stroke-opacity:1\"/>\n",
       "<line clip-path=\"url(#clip582)\" x1=\"902.871\" y1=\"275.45\" x2=\"918.871\" y2=\"291.45\" style=\"stroke:#000000; stroke-width:3.2; stroke-opacity:1\"/>\n",
       "<line clip-path=\"url(#clip582)\" x1=\"902.871\" y1=\"275.45\" x2=\"918.871\" y2=\"259.45\" style=\"stroke:#000000; stroke-width:3.2; stroke-opacity:1\"/>\n",
       "<line clip-path=\"url(#clip582)\" x1=\"942.626\" y1=\"282.254\" x2=\"926.626\" y2=\"266.254\" style=\"stroke:#000000; stroke-width:3.2; stroke-opacity:1\"/>\n",
       "<line clip-path=\"url(#clip582)\" x1=\"942.626\" y1=\"282.254\" x2=\"926.626\" y2=\"298.254\" style=\"stroke:#000000; stroke-width:3.2; stroke-opacity:1\"/>\n",
       "<line clip-path=\"url(#clip582)\" x1=\"942.626\" y1=\"282.254\" x2=\"958.626\" y2=\"298.254\" style=\"stroke:#000000; stroke-width:3.2; stroke-opacity:1\"/>\n",
       "<line clip-path=\"url(#clip582)\" x1=\"942.626\" y1=\"282.254\" x2=\"958.626\" y2=\"266.254\" style=\"stroke:#000000; stroke-width:3.2; stroke-opacity:1\"/>\n",
       "<line clip-path=\"url(#clip582)\" x1=\"982.382\" y1=\"272.26\" x2=\"966.382\" y2=\"256.26\" style=\"stroke:#000000; stroke-width:3.2; stroke-opacity:1\"/>\n",
       "<line clip-path=\"url(#clip582)\" x1=\"982.382\" y1=\"272.26\" x2=\"966.382\" y2=\"288.26\" style=\"stroke:#000000; stroke-width:3.2; stroke-opacity:1\"/>\n",
       "<line clip-path=\"url(#clip582)\" x1=\"982.382\" y1=\"272.26\" x2=\"998.382\" y2=\"288.26\" style=\"stroke:#000000; stroke-width:3.2; stroke-opacity:1\"/>\n",
       "<line clip-path=\"url(#clip582)\" x1=\"982.382\" y1=\"272.26\" x2=\"998.382\" y2=\"256.26\" style=\"stroke:#000000; stroke-width:3.2; stroke-opacity:1\"/>\n",
       "<line clip-path=\"url(#clip582)\" x1=\"1022.14\" y1=\"290.16\" x2=\"1006.14\" y2=\"274.16\" style=\"stroke:#000000; stroke-width:3.2; stroke-opacity:1\"/>\n",
       "<line clip-path=\"url(#clip582)\" x1=\"1022.14\" y1=\"290.16\" x2=\"1006.14\" y2=\"306.16\" style=\"stroke:#000000; stroke-width:3.2; stroke-opacity:1\"/>\n",
       "<line clip-path=\"url(#clip582)\" x1=\"1022.14\" y1=\"290.16\" x2=\"1038.14\" y2=\"306.16\" style=\"stroke:#000000; stroke-width:3.2; stroke-opacity:1\"/>\n",
       "<line clip-path=\"url(#clip582)\" x1=\"1022.14\" y1=\"290.16\" x2=\"1038.14\" y2=\"274.16\" style=\"stroke:#000000; stroke-width:3.2; stroke-opacity:1\"/>\n",
       "<line clip-path=\"url(#clip582)\" x1=\"1061.89\" y1=\"273.474\" x2=\"1045.89\" y2=\"257.474\" style=\"stroke:#000000; stroke-width:3.2; stroke-opacity:1\"/>\n",
       "<line clip-path=\"url(#clip582)\" x1=\"1061.89\" y1=\"273.474\" x2=\"1045.89\" y2=\"289.474\" style=\"stroke:#000000; stroke-width:3.2; stroke-opacity:1\"/>\n",
       "<line clip-path=\"url(#clip582)\" x1=\"1061.89\" y1=\"273.474\" x2=\"1077.89\" y2=\"289.474\" style=\"stroke:#000000; stroke-width:3.2; stroke-opacity:1\"/>\n",
       "<line clip-path=\"url(#clip582)\" x1=\"1061.89\" y1=\"273.474\" x2=\"1077.89\" y2=\"257.474\" style=\"stroke:#000000; stroke-width:3.2; stroke-opacity:1\"/>\n",
       "<line clip-path=\"url(#clip582)\" x1=\"1101.65\" y1=\"284.741\" x2=\"1085.65\" y2=\"268.741\" style=\"stroke:#000000; stroke-width:3.2; stroke-opacity:1\"/>\n",
       "<line clip-path=\"url(#clip582)\" x1=\"1101.65\" y1=\"284.741\" x2=\"1085.65\" y2=\"300.741\" style=\"stroke:#000000; stroke-width:3.2; stroke-opacity:1\"/>\n",
       "<line clip-path=\"url(#clip582)\" x1=\"1101.65\" y1=\"284.741\" x2=\"1117.65\" y2=\"300.741\" style=\"stroke:#000000; stroke-width:3.2; stroke-opacity:1\"/>\n",
       "<line clip-path=\"url(#clip582)\" x1=\"1101.65\" y1=\"284.741\" x2=\"1117.65\" y2=\"268.741\" style=\"stroke:#000000; stroke-width:3.2; stroke-opacity:1\"/>\n",
       "<line clip-path=\"url(#clip582)\" x1=\"1141.4\" y1=\"277.154\" x2=\"1125.4\" y2=\"261.154\" style=\"stroke:#000000; stroke-width:3.2; stroke-opacity:1\"/>\n",
       "<line clip-path=\"url(#clip582)\" x1=\"1141.4\" y1=\"277.154\" x2=\"1125.4\" y2=\"293.154\" style=\"stroke:#000000; stroke-width:3.2; stroke-opacity:1\"/>\n",
       "<line clip-path=\"url(#clip582)\" x1=\"1141.4\" y1=\"277.154\" x2=\"1157.4\" y2=\"293.154\" style=\"stroke:#000000; stroke-width:3.2; stroke-opacity:1\"/>\n",
       "<line clip-path=\"url(#clip582)\" x1=\"1141.4\" y1=\"277.154\" x2=\"1157.4\" y2=\"261.154\" style=\"stroke:#000000; stroke-width:3.2; stroke-opacity:1\"/>\n",
       "<line clip-path=\"url(#clip582)\" x1=\"1181.16\" y1=\"278.489\" x2=\"1165.16\" y2=\"262.489\" style=\"stroke:#000000; stroke-width:3.2; stroke-opacity:1\"/>\n",
       "<line clip-path=\"url(#clip582)\" x1=\"1181.16\" y1=\"278.489\" x2=\"1165.16\" y2=\"294.489\" style=\"stroke:#000000; stroke-width:3.2; stroke-opacity:1\"/>\n",
       "<line clip-path=\"url(#clip582)\" x1=\"1181.16\" y1=\"278.489\" x2=\"1197.16\" y2=\"294.489\" style=\"stroke:#000000; stroke-width:3.2; stroke-opacity:1\"/>\n",
       "<line clip-path=\"url(#clip582)\" x1=\"1181.16\" y1=\"278.489\" x2=\"1197.16\" y2=\"262.489\" style=\"stroke:#000000; stroke-width:3.2; stroke-opacity:1\"/>\n",
       "<line clip-path=\"url(#clip582)\" x1=\"1220.92\" y1=\"277.09\" x2=\"1204.92\" y2=\"261.09\" style=\"stroke:#000000; stroke-width:3.2; stroke-opacity:1\"/>\n",
       "<line clip-path=\"url(#clip582)\" x1=\"1220.92\" y1=\"277.09\" x2=\"1204.92\" y2=\"293.09\" style=\"stroke:#000000; stroke-width:3.2; stroke-opacity:1\"/>\n",
       "<line clip-path=\"url(#clip582)\" x1=\"1220.92\" y1=\"277.09\" x2=\"1236.92\" y2=\"293.09\" style=\"stroke:#000000; stroke-width:3.2; stroke-opacity:1\"/>\n",
       "<line clip-path=\"url(#clip582)\" x1=\"1220.92\" y1=\"277.09\" x2=\"1236.92\" y2=\"261.09\" style=\"stroke:#000000; stroke-width:3.2; stroke-opacity:1\"/>\n",
       "<line clip-path=\"url(#clip582)\" x1=\"1260.67\" y1=\"273.836\" x2=\"1244.67\" y2=\"257.836\" style=\"stroke:#000000; stroke-width:3.2; stroke-opacity:1\"/>\n",
       "<line clip-path=\"url(#clip582)\" x1=\"1260.67\" y1=\"273.836\" x2=\"1244.67\" y2=\"289.836\" style=\"stroke:#000000; stroke-width:3.2; stroke-opacity:1\"/>\n",
       "<line clip-path=\"url(#clip582)\" x1=\"1260.67\" y1=\"273.836\" x2=\"1276.67\" y2=\"289.836\" style=\"stroke:#000000; stroke-width:3.2; stroke-opacity:1\"/>\n",
       "<line clip-path=\"url(#clip582)\" x1=\"1260.67\" y1=\"273.836\" x2=\"1276.67\" y2=\"257.836\" style=\"stroke:#000000; stroke-width:3.2; stroke-opacity:1\"/>\n",
       "<line clip-path=\"url(#clip582)\" x1=\"1300.43\" y1=\"271.006\" x2=\"1284.43\" y2=\"255.006\" style=\"stroke:#000000; stroke-width:3.2; stroke-opacity:1\"/>\n",
       "<line clip-path=\"url(#clip582)\" x1=\"1300.43\" y1=\"271.006\" x2=\"1284.43\" y2=\"287.006\" style=\"stroke:#000000; stroke-width:3.2; stroke-opacity:1\"/>\n",
       "<line clip-path=\"url(#clip582)\" x1=\"1300.43\" y1=\"271.006\" x2=\"1316.43\" y2=\"287.006\" style=\"stroke:#000000; stroke-width:3.2; stroke-opacity:1\"/>\n",
       "<line clip-path=\"url(#clip582)\" x1=\"1300.43\" y1=\"271.006\" x2=\"1316.43\" y2=\"255.006\" style=\"stroke:#000000; stroke-width:3.2; stroke-opacity:1\"/>\n",
       "<line clip-path=\"url(#clip582)\" x1=\"1340.18\" y1=\"266.496\" x2=\"1324.18\" y2=\"250.496\" style=\"stroke:#000000; stroke-width:3.2; stroke-opacity:1\"/>\n",
       "<line clip-path=\"url(#clip582)\" x1=\"1340.18\" y1=\"266.496\" x2=\"1324.18\" y2=\"282.496\" style=\"stroke:#000000; stroke-width:3.2; stroke-opacity:1\"/>\n",
       "<line clip-path=\"url(#clip582)\" x1=\"1340.18\" y1=\"266.496\" x2=\"1356.18\" y2=\"282.496\" style=\"stroke:#000000; stroke-width:3.2; stroke-opacity:1\"/>\n",
       "<line clip-path=\"url(#clip582)\" x1=\"1340.18\" y1=\"266.496\" x2=\"1356.18\" y2=\"250.496\" style=\"stroke:#000000; stroke-width:3.2; stroke-opacity:1\"/>\n",
       "<line clip-path=\"url(#clip582)\" x1=\"1379.94\" y1=\"296.923\" x2=\"1363.94\" y2=\"280.923\" style=\"stroke:#000000; stroke-width:3.2; stroke-opacity:1\"/>\n",
       "<line clip-path=\"url(#clip582)\" x1=\"1379.94\" y1=\"296.923\" x2=\"1363.94\" y2=\"312.923\" style=\"stroke:#000000; stroke-width:3.2; stroke-opacity:1\"/>\n",
       "<line clip-path=\"url(#clip582)\" x1=\"1379.94\" y1=\"296.923\" x2=\"1395.94\" y2=\"312.923\" style=\"stroke:#000000; stroke-width:3.2; stroke-opacity:1\"/>\n",
       "<line clip-path=\"url(#clip582)\" x1=\"1379.94\" y1=\"296.923\" x2=\"1395.94\" y2=\"280.923\" style=\"stroke:#000000; stroke-width:3.2; stroke-opacity:1\"/>\n",
       "<line clip-path=\"url(#clip582)\" x1=\"1419.69\" y1=\"268.795\" x2=\"1403.69\" y2=\"252.795\" style=\"stroke:#000000; stroke-width:3.2; stroke-opacity:1\"/>\n",
       "<line clip-path=\"url(#clip582)\" x1=\"1419.69\" y1=\"268.795\" x2=\"1403.69\" y2=\"284.795\" style=\"stroke:#000000; stroke-width:3.2; stroke-opacity:1\"/>\n",
       "<line clip-path=\"url(#clip582)\" x1=\"1419.69\" y1=\"268.795\" x2=\"1435.69\" y2=\"284.795\" style=\"stroke:#000000; stroke-width:3.2; stroke-opacity:1\"/>\n",
       "<line clip-path=\"url(#clip582)\" x1=\"1419.69\" y1=\"268.795\" x2=\"1435.69\" y2=\"252.795\" style=\"stroke:#000000; stroke-width:3.2; stroke-opacity:1\"/>\n",
       "<line clip-path=\"url(#clip582)\" x1=\"1459.45\" y1=\"270.002\" x2=\"1443.45\" y2=\"254.002\" style=\"stroke:#000000; stroke-width:3.2; stroke-opacity:1\"/>\n",
       "<line clip-path=\"url(#clip582)\" x1=\"1459.45\" y1=\"270.002\" x2=\"1443.45\" y2=\"286.002\" style=\"stroke:#000000; stroke-width:3.2; stroke-opacity:1\"/>\n",
       "<line clip-path=\"url(#clip582)\" x1=\"1459.45\" y1=\"270.002\" x2=\"1475.45\" y2=\"286.002\" style=\"stroke:#000000; stroke-width:3.2; stroke-opacity:1\"/>\n",
       "<line clip-path=\"url(#clip582)\" x1=\"1459.45\" y1=\"270.002\" x2=\"1475.45\" y2=\"254.002\" style=\"stroke:#000000; stroke-width:3.2; stroke-opacity:1\"/>\n",
       "<line clip-path=\"url(#clip582)\" x1=\"1499.2\" y1=\"268.508\" x2=\"1483.2\" y2=\"252.508\" style=\"stroke:#000000; stroke-width:3.2; stroke-opacity:1\"/>\n",
       "<line clip-path=\"url(#clip582)\" x1=\"1499.2\" y1=\"268.508\" x2=\"1483.2\" y2=\"284.508\" style=\"stroke:#000000; stroke-width:3.2; stroke-opacity:1\"/>\n",
       "<line clip-path=\"url(#clip582)\" x1=\"1499.2\" y1=\"268.508\" x2=\"1515.2\" y2=\"284.508\" style=\"stroke:#000000; stroke-width:3.2; stroke-opacity:1\"/>\n",
       "<line clip-path=\"url(#clip582)\" x1=\"1499.2\" y1=\"268.508\" x2=\"1515.2\" y2=\"252.508\" style=\"stroke:#000000; stroke-width:3.2; stroke-opacity:1\"/>\n",
       "<line clip-path=\"url(#clip582)\" x1=\"1538.96\" y1=\"298.559\" x2=\"1522.96\" y2=\"282.559\" style=\"stroke:#000000; stroke-width:3.2; stroke-opacity:1\"/>\n",
       "<line clip-path=\"url(#clip582)\" x1=\"1538.96\" y1=\"298.559\" x2=\"1522.96\" y2=\"314.559\" style=\"stroke:#000000; stroke-width:3.2; stroke-opacity:1\"/>\n",
       "<line clip-path=\"url(#clip582)\" x1=\"1538.96\" y1=\"298.559\" x2=\"1554.96\" y2=\"314.559\" style=\"stroke:#000000; stroke-width:3.2; stroke-opacity:1\"/>\n",
       "<line clip-path=\"url(#clip582)\" x1=\"1538.96\" y1=\"298.559\" x2=\"1554.96\" y2=\"282.559\" style=\"stroke:#000000; stroke-width:3.2; stroke-opacity:1\"/>\n",
       "<line clip-path=\"url(#clip582)\" x1=\"1618.47\" y1=\"302.314\" x2=\"1602.47\" y2=\"286.314\" style=\"stroke:#000000; stroke-width:3.2; stroke-opacity:1\"/>\n",
       "<line clip-path=\"url(#clip582)\" x1=\"1618.47\" y1=\"302.314\" x2=\"1602.47\" y2=\"318.314\" style=\"stroke:#000000; stroke-width:3.2; stroke-opacity:1\"/>\n",
       "<line clip-path=\"url(#clip582)\" x1=\"1618.47\" y1=\"302.314\" x2=\"1634.47\" y2=\"318.314\" style=\"stroke:#000000; stroke-width:3.2; stroke-opacity:1\"/>\n",
       "<line clip-path=\"url(#clip582)\" x1=\"1618.47\" y1=\"302.314\" x2=\"1634.47\" y2=\"286.314\" style=\"stroke:#000000; stroke-width:3.2; stroke-opacity:1\"/>\n",
       "<line clip-path=\"url(#clip582)\" x1=\"1697.98\" y1=\"271.866\" x2=\"1681.98\" y2=\"255.866\" style=\"stroke:#000000; stroke-width:3.2; stroke-opacity:1\"/>\n",
       "<line clip-path=\"url(#clip582)\" x1=\"1697.98\" y1=\"271.866\" x2=\"1681.98\" y2=\"287.866\" style=\"stroke:#000000; stroke-width:3.2; stroke-opacity:1\"/>\n",
       "<line clip-path=\"url(#clip582)\" x1=\"1697.98\" y1=\"271.866\" x2=\"1713.98\" y2=\"287.866\" style=\"stroke:#000000; stroke-width:3.2; stroke-opacity:1\"/>\n",
       "<line clip-path=\"url(#clip582)\" x1=\"1697.98\" y1=\"271.866\" x2=\"1713.98\" y2=\"255.866\" style=\"stroke:#000000; stroke-width:3.2; stroke-opacity:1\"/>\n",
       "<line clip-path=\"url(#clip582)\" x1=\"1737.74\" y1=\"86.1857\" x2=\"1721.74\" y2=\"70.1857\" style=\"stroke:#000000; stroke-width:3.2; stroke-opacity:1\"/>\n",
       "<line clip-path=\"url(#clip582)\" x1=\"1737.74\" y1=\"86.1857\" x2=\"1721.74\" y2=\"102.186\" style=\"stroke:#000000; stroke-width:3.2; stroke-opacity:1\"/>\n",
       "<line clip-path=\"url(#clip582)\" x1=\"1737.74\" y1=\"86.1857\" x2=\"1753.74\" y2=\"102.186\" style=\"stroke:#000000; stroke-width:3.2; stroke-opacity:1\"/>\n",
       "<line clip-path=\"url(#clip582)\" x1=\"1737.74\" y1=\"86.1857\" x2=\"1753.74\" y2=\"70.1857\" style=\"stroke:#000000; stroke-width:3.2; stroke-opacity:1\"/>\n",
       "<line clip-path=\"url(#clip582)\" x1=\"1777.49\" y1=\"303.925\" x2=\"1761.49\" y2=\"287.925\" style=\"stroke:#000000; stroke-width:3.2; stroke-opacity:1\"/>\n",
       "<line clip-path=\"url(#clip582)\" x1=\"1777.49\" y1=\"303.925\" x2=\"1761.49\" y2=\"319.925\" style=\"stroke:#000000; stroke-width:3.2; stroke-opacity:1\"/>\n",
       "<line clip-path=\"url(#clip582)\" x1=\"1777.49\" y1=\"303.925\" x2=\"1793.49\" y2=\"319.925\" style=\"stroke:#000000; stroke-width:3.2; stroke-opacity:1\"/>\n",
       "<line clip-path=\"url(#clip582)\" x1=\"1777.49\" y1=\"303.925\" x2=\"1793.49\" y2=\"287.925\" style=\"stroke:#000000; stroke-width:3.2; stroke-opacity:1\"/>\n",
       "<line clip-path=\"url(#clip582)\" x1=\"1817.25\" y1=\"301.511\" x2=\"1801.25\" y2=\"285.511\" style=\"stroke:#000000; stroke-width:3.2; stroke-opacity:1\"/>\n",
       "<line clip-path=\"url(#clip582)\" x1=\"1817.25\" y1=\"301.511\" x2=\"1801.25\" y2=\"317.511\" style=\"stroke:#000000; stroke-width:3.2; stroke-opacity:1\"/>\n",
       "<line clip-path=\"url(#clip582)\" x1=\"1817.25\" y1=\"301.511\" x2=\"1833.25\" y2=\"317.511\" style=\"stroke:#000000; stroke-width:3.2; stroke-opacity:1\"/>\n",
       "<line clip-path=\"url(#clip582)\" x1=\"1817.25\" y1=\"301.511\" x2=\"1833.25\" y2=\"285.511\" style=\"stroke:#000000; stroke-width:3.2; stroke-opacity:1\"/>\n",
       "<line clip-path=\"url(#clip582)\" x1=\"1857\" y1=\"294.23\" x2=\"1841\" y2=\"278.23\" style=\"stroke:#000000; stroke-width:3.2; stroke-opacity:1\"/>\n",
       "<line clip-path=\"url(#clip582)\" x1=\"1857\" y1=\"294.23\" x2=\"1841\" y2=\"310.23\" style=\"stroke:#000000; stroke-width:3.2; stroke-opacity:1\"/>\n",
       "<line clip-path=\"url(#clip582)\" x1=\"1857\" y1=\"294.23\" x2=\"1873\" y2=\"310.23\" style=\"stroke:#000000; stroke-width:3.2; stroke-opacity:1\"/>\n",
       "<line clip-path=\"url(#clip582)\" x1=\"1857\" y1=\"294.23\" x2=\"1873\" y2=\"278.23\" style=\"stroke:#000000; stroke-width:3.2; stroke-opacity:1\"/>\n",
       "<line clip-path=\"url(#clip582)\" x1=\"1896.76\" y1=\"262.981\" x2=\"1880.76\" y2=\"246.981\" style=\"stroke:#000000; stroke-width:3.2; stroke-opacity:1\"/>\n",
       "<line clip-path=\"url(#clip582)\" x1=\"1896.76\" y1=\"262.981\" x2=\"1880.76\" y2=\"278.981\" style=\"stroke:#000000; stroke-width:3.2; stroke-opacity:1\"/>\n",
       "<line clip-path=\"url(#clip582)\" x1=\"1896.76\" y1=\"262.981\" x2=\"1912.76\" y2=\"278.981\" style=\"stroke:#000000; stroke-width:3.2; stroke-opacity:1\"/>\n",
       "<line clip-path=\"url(#clip582)\" x1=\"1896.76\" y1=\"262.981\" x2=\"1912.76\" y2=\"246.981\" style=\"stroke:#000000; stroke-width:3.2; stroke-opacity:1\"/>\n",
       "<line clip-path=\"url(#clip582)\" x1=\"1936.52\" y1=\"257.485\" x2=\"1920.52\" y2=\"241.485\" style=\"stroke:#000000; stroke-width:3.2; stroke-opacity:1\"/>\n",
       "<line clip-path=\"url(#clip582)\" x1=\"1936.52\" y1=\"257.485\" x2=\"1920.52\" y2=\"273.485\" style=\"stroke:#000000; stroke-width:3.2; stroke-opacity:1\"/>\n",
       "<line clip-path=\"url(#clip582)\" x1=\"1936.52\" y1=\"257.485\" x2=\"1952.52\" y2=\"273.485\" style=\"stroke:#000000; stroke-width:3.2; stroke-opacity:1\"/>\n",
       "<line clip-path=\"url(#clip582)\" x1=\"1936.52\" y1=\"257.485\" x2=\"1952.52\" y2=\"241.485\" style=\"stroke:#000000; stroke-width:3.2; stroke-opacity:1\"/>\n",
       "<line clip-path=\"url(#clip582)\" x1=\"1976.27\" y1=\"266.758\" x2=\"1960.27\" y2=\"250.758\" style=\"stroke:#000000; stroke-width:3.2; stroke-opacity:1\"/>\n",
       "<line clip-path=\"url(#clip582)\" x1=\"1976.27\" y1=\"266.758\" x2=\"1960.27\" y2=\"282.758\" style=\"stroke:#000000; stroke-width:3.2; stroke-opacity:1\"/>\n",
       "<line clip-path=\"url(#clip582)\" x1=\"1976.27\" y1=\"266.758\" x2=\"1992.27\" y2=\"282.758\" style=\"stroke:#000000; stroke-width:3.2; stroke-opacity:1\"/>\n",
       "<line clip-path=\"url(#clip582)\" x1=\"1976.27\" y1=\"266.758\" x2=\"1992.27\" y2=\"250.758\" style=\"stroke:#000000; stroke-width:3.2; stroke-opacity:1\"/>\n",
       "<line clip-path=\"url(#clip582)\" x1=\"2016.03\" y1=\"268.016\" x2=\"2000.03\" y2=\"252.016\" style=\"stroke:#000000; stroke-width:3.2; stroke-opacity:1\"/>\n",
       "<line clip-path=\"url(#clip582)\" x1=\"2016.03\" y1=\"268.016\" x2=\"2000.03\" y2=\"284.016\" style=\"stroke:#000000; stroke-width:3.2; stroke-opacity:1\"/>\n",
       "<line clip-path=\"url(#clip582)\" x1=\"2016.03\" y1=\"268.016\" x2=\"2032.03\" y2=\"284.016\" style=\"stroke:#000000; stroke-width:3.2; stroke-opacity:1\"/>\n",
       "<line clip-path=\"url(#clip582)\" x1=\"2016.03\" y1=\"268.016\" x2=\"2032.03\" y2=\"252.016\" style=\"stroke:#000000; stroke-width:3.2; stroke-opacity:1\"/>\n",
       "<line clip-path=\"url(#clip582)\" x1=\"2095.54\" y1=\"264.221\" x2=\"2079.54\" y2=\"248.221\" style=\"stroke:#000000; stroke-width:3.2; stroke-opacity:1\"/>\n",
       "<line clip-path=\"url(#clip582)\" x1=\"2095.54\" y1=\"264.221\" x2=\"2079.54\" y2=\"280.221\" style=\"stroke:#000000; stroke-width:3.2; stroke-opacity:1\"/>\n",
       "<line clip-path=\"url(#clip582)\" x1=\"2095.54\" y1=\"264.221\" x2=\"2111.54\" y2=\"280.221\" style=\"stroke:#000000; stroke-width:3.2; stroke-opacity:1\"/>\n",
       "<line clip-path=\"url(#clip582)\" x1=\"2095.54\" y1=\"264.221\" x2=\"2111.54\" y2=\"248.221\" style=\"stroke:#000000; stroke-width:3.2; stroke-opacity:1\"/>\n",
       "<line clip-path=\"url(#clip582)\" x1=\"2135.29\" y1=\"131.364\" x2=\"2119.29\" y2=\"115.364\" style=\"stroke:#000000; stroke-width:3.2; stroke-opacity:1\"/>\n",
       "<line clip-path=\"url(#clip582)\" x1=\"2135.29\" y1=\"131.364\" x2=\"2119.29\" y2=\"147.364\" style=\"stroke:#000000; stroke-width:3.2; stroke-opacity:1\"/>\n",
       "<line clip-path=\"url(#clip582)\" x1=\"2135.29\" y1=\"131.364\" x2=\"2151.29\" y2=\"147.364\" style=\"stroke:#000000; stroke-width:3.2; stroke-opacity:1\"/>\n",
       "<line clip-path=\"url(#clip582)\" x1=\"2135.29\" y1=\"131.364\" x2=\"2151.29\" y2=\"115.364\" style=\"stroke:#000000; stroke-width:3.2; stroke-opacity:1\"/>\n",
       "<line clip-path=\"url(#clip582)\" x1=\"2175.05\" y1=\"261.938\" x2=\"2159.05\" y2=\"245.938\" style=\"stroke:#000000; stroke-width:3.2; stroke-opacity:1\"/>\n",
       "<line clip-path=\"url(#clip582)\" x1=\"2175.05\" y1=\"261.938\" x2=\"2159.05\" y2=\"277.938\" style=\"stroke:#000000; stroke-width:3.2; stroke-opacity:1\"/>\n",
       "<line clip-path=\"url(#clip582)\" x1=\"2175.05\" y1=\"261.938\" x2=\"2191.05\" y2=\"277.938\" style=\"stroke:#000000; stroke-width:3.2; stroke-opacity:1\"/>\n",
       "<line clip-path=\"url(#clip582)\" x1=\"2175.05\" y1=\"261.938\" x2=\"2191.05\" y2=\"245.938\" style=\"stroke:#000000; stroke-width:3.2; stroke-opacity:1\"/>\n",
       "<line clip-path=\"url(#clip582)\" x1=\"2214.8\" y1=\"264.139\" x2=\"2198.8\" y2=\"248.139\" style=\"stroke:#000000; stroke-width:3.2; stroke-opacity:1\"/>\n",
       "<line clip-path=\"url(#clip582)\" x1=\"2214.8\" y1=\"264.139\" x2=\"2198.8\" y2=\"280.139\" style=\"stroke:#000000; stroke-width:3.2; stroke-opacity:1\"/>\n",
       "<line clip-path=\"url(#clip582)\" x1=\"2214.8\" y1=\"264.139\" x2=\"2230.8\" y2=\"280.139\" style=\"stroke:#000000; stroke-width:3.2; stroke-opacity:1\"/>\n",
       "<line clip-path=\"url(#clip582)\" x1=\"2214.8\" y1=\"264.139\" x2=\"2230.8\" y2=\"248.139\" style=\"stroke:#000000; stroke-width:3.2; stroke-opacity:1\"/>\n",
       "<line clip-path=\"url(#clip582)\" x1=\"2254.56\" y1=\"1384.24\" x2=\"2238.56\" y2=\"1368.24\" style=\"stroke:#000000; stroke-width:3.2; stroke-opacity:1\"/>\n",
       "<line clip-path=\"url(#clip582)\" x1=\"2254.56\" y1=\"1384.24\" x2=\"2238.56\" y2=\"1400.24\" style=\"stroke:#000000; stroke-width:3.2; stroke-opacity:1\"/>\n",
       "<line clip-path=\"url(#clip582)\" x1=\"2254.56\" y1=\"1384.24\" x2=\"2270.56\" y2=\"1400.24\" style=\"stroke:#000000; stroke-width:3.2; stroke-opacity:1\"/>\n",
       "<line clip-path=\"url(#clip582)\" x1=\"2254.56\" y1=\"1384.24\" x2=\"2270.56\" y2=\"1368.24\" style=\"stroke:#000000; stroke-width:3.2; stroke-opacity:1\"/>\n",
       "<line clip-path=\"url(#clip582)\" x1=\"2294.32\" y1=\"260.844\" x2=\"2278.32\" y2=\"244.844\" style=\"stroke:#000000; stroke-width:3.2; stroke-opacity:1\"/>\n",
       "<line clip-path=\"url(#clip582)\" x1=\"2294.32\" y1=\"260.844\" x2=\"2278.32\" y2=\"276.844\" style=\"stroke:#000000; stroke-width:3.2; stroke-opacity:1\"/>\n",
       "<line clip-path=\"url(#clip582)\" x1=\"2294.32\" y1=\"260.844\" x2=\"2310.32\" y2=\"276.844\" style=\"stroke:#000000; stroke-width:3.2; stroke-opacity:1\"/>\n",
       "<line clip-path=\"url(#clip582)\" x1=\"2294.32\" y1=\"260.844\" x2=\"2310.32\" y2=\"244.844\" style=\"stroke:#000000; stroke-width:3.2; stroke-opacity:1\"/>\n",
       "</svg>\n"
      ]
     },
     "metadata": {},
     "output_type": "display_data"
    }
   ],
   "source": [
    "# objective function (parallel)\n",
    "p2 = plot(1:nScenMax,100*(solObjTraj_s[2,:] - solObjTraj_s[1,:])./solObjTraj_s[1,:],\n",
    "    xlabel=\"# scenarios\", \n",
    "    ylabel=\"objective function difference [%]\",\n",
    "    marker=:xcross, \n",
    "    markercolor = :black,\n",
    "    linecolor = :black,\n",
    "    label=\"\",\n",
    "    dpi=600)\n",
    "\n",
    "display(p2)\n",
    "savefig(p2,\"C:/Users/MACC-Jose/Documents/Canada/Papers/Benders Decomposition/Figures/C1_OFComp.pdf\");"
   ]
  },
  {
   "cell_type": "code",
   "execution_count": 19,
   "id": "e2222e80",
   "metadata": {},
   "outputs": [
    {
     "data": {
      "image/svg+xml": [
       "<?xml version=\"1.0\" encoding=\"utf-8\"?>\n",
       "<svg xmlns=\"http://www.w3.org/2000/svg\" xmlns:xlink=\"http://www.w3.org/1999/xlink\" width=\"600\" height=\"400\" viewBox=\"0 0 2400 1600\">\n",
       "<defs>\n",
       "  <clipPath id=\"clip630\">\n",
       "    <rect x=\"0\" y=\"0\" width=\"2400\" height=\"1600\"/>\n",
       "  </clipPath>\n",
       "</defs>\n",
       "<path clip-path=\"url(#clip630)\" d=\"M0 1600 L2400 1600 L2400 0 L0 0  Z\" fill=\"#ffffff\" fill-rule=\"evenodd\" fill-opacity=\"1\"/>\n",
       "<defs>\n",
       "  <clipPath id=\"clip631\">\n",
       "    <rect x=\"480\" y=\"0\" width=\"1681\" height=\"1600\"/>\n",
       "  </clipPath>\n",
       "</defs>\n",
       "<path clip-path=\"url(#clip630)\" d=\"M205.121 1423.18 L2352.76 1423.18 L2352.76 47.2441 L205.121 47.2441  Z\" fill=\"#ffffff\" fill-rule=\"evenodd\" fill-opacity=\"1\"/>\n",
       "<defs>\n",
       "  <clipPath id=\"clip632\">\n",
       "    <rect x=\"205\" y=\"47\" width=\"2149\" height=\"1377\"/>\n",
       "  </clipPath>\n",
       "</defs>\n",
       "<polyline clip-path=\"url(#clip632)\" style=\"stroke:#000000; stroke-linecap:round; stroke-linejoin:round; stroke-width:8; stroke-opacity:0.1; fill:none\" points=\"224.555,1423.18 224.555,47.2441 \"/>\n",
       "<polyline clip-path=\"url(#clip632)\" style=\"stroke:#000000; stroke-linecap:round; stroke-linejoin:round; stroke-width:8; stroke-opacity:0.1; fill:none\" points=\"638.039,1423.18 638.039,47.2441 \"/>\n",
       "<polyline clip-path=\"url(#clip632)\" style=\"stroke:#000000; stroke-linecap:round; stroke-linejoin:round; stroke-width:8; stroke-opacity:0.1; fill:none\" points=\"1051.52,1423.18 1051.52,47.2441 \"/>\n",
       "<polyline clip-path=\"url(#clip632)\" style=\"stroke:#000000; stroke-linecap:round; stroke-linejoin:round; stroke-width:8; stroke-opacity:0.1; fill:none\" points=\"1465.01,1423.18 1465.01,47.2441 \"/>\n",
       "<polyline clip-path=\"url(#clip632)\" style=\"stroke:#000000; stroke-linecap:round; stroke-linejoin:round; stroke-width:8; stroke-opacity:0.1; fill:none\" points=\"1878.49,1423.18 1878.49,47.2441 \"/>\n",
       "<polyline clip-path=\"url(#clip632)\" style=\"stroke:#000000; stroke-linecap:round; stroke-linejoin:round; stroke-width:8; stroke-opacity:0.1; fill:none\" points=\"2291.97,1423.18 2291.97,47.2441 \"/>\n",
       "<polyline clip-path=\"url(#clip630)\" style=\"stroke:#000000; stroke-linecap:round; stroke-linejoin:round; stroke-width:4; stroke-opacity:1; fill:none\" points=\"205.121,1423.18 2352.76,1423.18 \"/>\n",
       "<polyline clip-path=\"url(#clip630)\" style=\"stroke:#000000; stroke-linecap:round; stroke-linejoin:round; stroke-width:4; stroke-opacity:1; fill:none\" points=\"224.555,1423.18 224.555,1404.28 \"/>\n",
       "<polyline clip-path=\"url(#clip630)\" style=\"stroke:#000000; stroke-linecap:round; stroke-linejoin:round; stroke-width:4; stroke-opacity:1; fill:none\" points=\"638.039,1423.18 638.039,1404.28 \"/>\n",
       "<polyline clip-path=\"url(#clip630)\" style=\"stroke:#000000; stroke-linecap:round; stroke-linejoin:round; stroke-width:4; stroke-opacity:1; fill:none\" points=\"1051.52,1423.18 1051.52,1404.28 \"/>\n",
       "<polyline clip-path=\"url(#clip630)\" style=\"stroke:#000000; stroke-linecap:round; stroke-linejoin:round; stroke-width:4; stroke-opacity:1; fill:none\" points=\"1465.01,1423.18 1465.01,1404.28 \"/>\n",
       "<polyline clip-path=\"url(#clip630)\" style=\"stroke:#000000; stroke-linecap:round; stroke-linejoin:round; stroke-width:4; stroke-opacity:1; fill:none\" points=\"1878.49,1423.18 1878.49,1404.28 \"/>\n",
       "<polyline clip-path=\"url(#clip630)\" style=\"stroke:#000000; stroke-linecap:round; stroke-linejoin:round; stroke-width:4; stroke-opacity:1; fill:none\" points=\"2291.97,1423.18 2291.97,1404.28 \"/>\n",
       "<path clip-path=\"url(#clip630)\" d=\"M224.555 1454.1 Q220.944 1454.1 219.115 1457.66 Q217.309 1461.2 217.309 1468.33 Q217.309 1475.44 219.115 1479.01 Q220.944 1482.55 224.555 1482.55 Q228.189 1482.55 229.994 1479.01 Q231.823 1475.44 231.823 1468.33 Q231.823 1461.2 229.994 1457.66 Q228.189 1454.1 224.555 1454.1 M224.555 1450.39 Q230.365 1450.39 233.42 1455 Q236.499 1459.58 236.499 1468.33 Q236.499 1477.06 233.42 1481.67 Q230.365 1486.25 224.555 1486.25 Q218.745 1486.25 215.666 1481.67 Q212.61 1477.06 212.61 1468.33 Q212.61 1459.58 215.666 1455 Q218.745 1450.39 224.555 1450.39 Z\" fill=\"#000000\" fill-rule=\"evenodd\" fill-opacity=\"1\" /><path clip-path=\"url(#clip630)\" d=\"M612.726 1481.64 L620.365 1481.64 L620.365 1455.28 L612.055 1456.95 L612.055 1452.69 L620.319 1451.02 L624.995 1451.02 L624.995 1481.64 L632.633 1481.64 L632.633 1485.58 L612.726 1485.58 L612.726 1481.64 Z\" fill=\"#000000\" fill-rule=\"evenodd\" fill-opacity=\"1\" /><path clip-path=\"url(#clip630)\" d=\"M652.078 1454.1 Q648.467 1454.1 646.638 1457.66 Q644.832 1461.2 644.832 1468.33 Q644.832 1475.44 646.638 1479.01 Q648.467 1482.55 652.078 1482.55 Q655.712 1482.55 657.518 1479.01 Q659.346 1475.44 659.346 1468.33 Q659.346 1461.2 657.518 1457.66 Q655.712 1454.1 652.078 1454.1 M652.078 1450.39 Q657.888 1450.39 660.943 1455 Q664.022 1459.58 664.022 1468.33 Q664.022 1477.06 660.943 1481.67 Q657.888 1486.25 652.078 1486.25 Q646.268 1486.25 643.189 1481.67 Q640.133 1477.06 640.133 1468.33 Q640.133 1459.58 643.189 1455 Q646.268 1450.39 652.078 1450.39 Z\" fill=\"#000000\" fill-rule=\"evenodd\" fill-opacity=\"1\" /><path clip-path=\"url(#clip630)\" d=\"M1030.3 1481.64 L1046.61 1481.64 L1046.61 1485.58 L1024.67 1485.58 L1024.67 1481.64 Q1027.33 1478.89 1031.92 1474.26 Q1036.52 1469.61 1037.7 1468.27 Q1039.95 1465.74 1040.83 1464.01 Q1041.73 1462.25 1041.73 1460.56 Q1041.73 1457.8 1039.79 1456.07 Q1037.87 1454.33 1034.76 1454.33 Q1032.56 1454.33 1030.11 1455.09 Q1027.68 1455.86 1024.9 1457.41 L1024.9 1452.69 Q1027.73 1451.55 1030.18 1450.97 Q1032.63 1450.39 1034.67 1450.39 Q1040.04 1450.39 1043.24 1453.08 Q1046.43 1455.77 1046.43 1460.26 Q1046.43 1462.39 1045.62 1464.31 Q1044.83 1466.2 1042.73 1468.8 Q1042.15 1469.47 1039.05 1472.69 Q1035.94 1475.88 1030.3 1481.64 Z\" fill=\"#000000\" fill-rule=\"evenodd\" fill-opacity=\"1\" /><path clip-path=\"url(#clip630)\" d=\"M1066.43 1454.1 Q1062.82 1454.1 1060.99 1457.66 Q1059.18 1461.2 1059.18 1468.33 Q1059.18 1475.44 1060.99 1479.01 Q1062.82 1482.55 1066.43 1482.55 Q1070.06 1482.55 1071.87 1479.01 Q1073.7 1475.44 1073.7 1468.33 Q1073.7 1461.2 1071.87 1457.66 Q1070.06 1454.1 1066.43 1454.1 M1066.43 1450.39 Q1072.24 1450.39 1075.3 1455 Q1078.37 1459.58 1078.37 1468.33 Q1078.37 1477.06 1075.3 1481.67 Q1072.24 1486.25 1066.43 1486.25 Q1060.62 1486.25 1057.54 1481.67 Q1054.49 1477.06 1054.49 1468.33 Q1054.49 1459.58 1057.54 1455 Q1060.62 1450.39 1066.43 1450.39 Z\" fill=\"#000000\" fill-rule=\"evenodd\" fill-opacity=\"1\" /><path clip-path=\"url(#clip630)\" d=\"M1453.85 1466.95 Q1457.21 1467.66 1459.08 1469.93 Q1460.98 1472.2 1460.98 1475.53 Q1460.98 1480.65 1457.46 1483.45 Q1453.94 1486.25 1447.46 1486.25 Q1445.28 1486.25 1442.97 1485.81 Q1440.68 1485.39 1438.22 1484.54 L1438.22 1480.02 Q1440.17 1481.16 1442.48 1481.74 Q1444.8 1482.32 1447.32 1482.32 Q1451.72 1482.32 1454.01 1480.58 Q1456.33 1478.84 1456.33 1475.53 Q1456.33 1472.48 1454.17 1470.77 Q1452.04 1469.03 1448.22 1469.03 L1444.2 1469.03 L1444.2 1465.19 L1448.41 1465.19 Q1451.86 1465.19 1453.69 1463.82 Q1455.52 1462.43 1455.52 1459.84 Q1455.52 1457.18 1453.62 1455.77 Q1451.74 1454.33 1448.22 1454.33 Q1446.3 1454.33 1444.1 1454.75 Q1441.9 1455.16 1439.27 1456.04 L1439.27 1451.88 Q1441.93 1451.14 1444.24 1450.77 Q1446.58 1450.39 1448.64 1450.39 Q1453.96 1450.39 1457.07 1452.83 Q1460.17 1455.23 1460.17 1459.35 Q1460.17 1462.22 1458.52 1464.21 Q1456.88 1466.18 1453.85 1466.95 Z\" fill=\"#000000\" fill-rule=\"evenodd\" fill-opacity=\"1\" /><path clip-path=\"url(#clip630)\" d=\"M1479.84 1454.1 Q1476.23 1454.1 1474.4 1457.66 Q1472.6 1461.2 1472.6 1468.33 Q1472.6 1475.44 1474.4 1479.01 Q1476.23 1482.55 1479.84 1482.55 Q1483.48 1482.55 1485.28 1479.01 Q1487.11 1475.44 1487.11 1468.33 Q1487.11 1461.2 1485.28 1457.66 Q1483.48 1454.1 1479.84 1454.1 M1479.84 1450.39 Q1485.65 1450.39 1488.71 1455 Q1491.79 1459.58 1491.79 1468.33 Q1491.79 1477.06 1488.71 1481.67 Q1485.65 1486.25 1479.84 1486.25 Q1474.03 1486.25 1470.96 1481.67 Q1467.9 1477.06 1467.9 1468.33 Q1467.9 1459.58 1470.96 1455 Q1474.03 1450.39 1479.84 1450.39 Z\" fill=\"#000000\" fill-rule=\"evenodd\" fill-opacity=\"1\" /><path clip-path=\"url(#clip630)\" d=\"M1866.66 1455.09 L1854.86 1473.54 L1866.66 1473.54 L1866.66 1455.09 M1865.43 1451.02 L1871.31 1451.02 L1871.31 1473.54 L1876.24 1473.54 L1876.24 1477.43 L1871.31 1477.43 L1871.31 1485.58 L1866.66 1485.58 L1866.66 1477.43 L1851.06 1477.43 L1851.06 1472.92 L1865.43 1451.02 Z\" fill=\"#000000\" fill-rule=\"evenodd\" fill-opacity=\"1\" /><path clip-path=\"url(#clip630)\" d=\"M1893.98 1454.1 Q1890.36 1454.1 1888.54 1457.66 Q1886.73 1461.2 1886.73 1468.33 Q1886.73 1475.44 1888.54 1479.01 Q1890.36 1482.55 1893.98 1482.55 Q1897.61 1482.55 1899.42 1479.01 Q1901.24 1475.44 1901.24 1468.33 Q1901.24 1461.2 1899.42 1457.66 Q1897.61 1454.1 1893.98 1454.1 M1893.98 1450.39 Q1899.79 1450.39 1902.84 1455 Q1905.92 1459.58 1905.92 1468.33 Q1905.92 1477.06 1902.84 1481.67 Q1899.79 1486.25 1893.98 1486.25 Q1888.17 1486.25 1885.09 1481.67 Q1882.03 1477.06 1882.03 1468.33 Q1882.03 1459.58 1885.09 1455 Q1888.17 1450.39 1893.98 1450.39 Z\" fill=\"#000000\" fill-rule=\"evenodd\" fill-opacity=\"1\" /><path clip-path=\"url(#clip630)\" d=\"M2266.67 1451.02 L2285.03 1451.02 L2285.03 1454.96 L2270.96 1454.96 L2270.96 1463.43 Q2271.97 1463.08 2272.99 1462.92 Q2274.01 1462.73 2275.03 1462.73 Q2280.82 1462.73 2284.2 1465.9 Q2287.58 1469.08 2287.58 1474.49 Q2287.58 1480.07 2284.1 1483.17 Q2280.63 1486.25 2274.31 1486.25 Q2272.14 1486.25 2269.87 1485.88 Q2267.62 1485.51 2265.21 1484.77 L2265.21 1480.07 Q2267.3 1481.2 2269.52 1481.76 Q2271.74 1482.32 2274.22 1482.32 Q2278.22 1482.32 2280.56 1480.21 Q2282.9 1478.1 2282.9 1474.49 Q2282.9 1470.88 2280.56 1468.77 Q2278.22 1466.67 2274.22 1466.67 Q2272.34 1466.67 2270.47 1467.08 Q2268.62 1467.5 2266.67 1468.38 L2266.67 1451.02 Z\" fill=\"#000000\" fill-rule=\"evenodd\" fill-opacity=\"1\" /><path clip-path=\"url(#clip630)\" d=\"M2306.79 1454.1 Q2303.18 1454.1 2301.35 1457.66 Q2299.54 1461.2 2299.54 1468.33 Q2299.54 1475.44 2301.35 1479.01 Q2303.18 1482.55 2306.79 1482.55 Q2310.42 1482.55 2312.23 1479.01 Q2314.06 1475.44 2314.06 1468.33 Q2314.06 1461.2 2312.23 1457.66 Q2310.42 1454.1 2306.79 1454.1 M2306.79 1450.39 Q2312.6 1450.39 2315.65 1455 Q2318.73 1459.58 2318.73 1468.33 Q2318.73 1477.06 2315.65 1481.67 Q2312.6 1486.25 2306.79 1486.25 Q2300.98 1486.25 2297.9 1481.67 Q2294.84 1477.06 2294.84 1468.33 Q2294.84 1459.58 2297.9 1455 Q2300.98 1450.39 2306.79 1450.39 Z\" fill=\"#000000\" fill-rule=\"evenodd\" fill-opacity=\"1\" /><path clip-path=\"url(#clip630)\" d=\"M1118.71 1539.37 L1109.45 1539.37 L1106.78 1550 L1116.1 1550 L1118.71 1539.37 M1113.94 1521.26 L1110.63 1534.46 L1119.92 1534.46 L1123.27 1521.26 L1128.36 1521.26 L1125.08 1534.46 L1135.01 1534.46 L1135.01 1539.37 L1123.84 1539.37 L1121.23 1550 L1131.35 1550 L1131.35 1554.87 L1119.99 1554.87 L1116.68 1568.04 L1111.58 1568.04 L1114.86 1554.87 L1105.54 1554.87 L1102.26 1568.04 L1097.13 1568.04 L1100.44 1554.87 L1090.42 1554.87 L1090.42 1550 L1101.62 1550 L1104.3 1539.37 L1094.05 1539.37 L1094.05 1534.46 L1105.54 1534.46 L1108.78 1521.26 L1113.94 1521.26 Z\" fill=\"#000000\" fill-rule=\"evenodd\" fill-opacity=\"1\" /><path clip-path=\"url(#clip630)\" d=\"M1189.6 1533.45 L1189.6 1538.98 Q1187.11 1537.71 1184.44 1537.07 Q1181.77 1536.44 1178.9 1536.44 Q1174.54 1536.44 1172.34 1537.77 Q1170.18 1539.11 1170.18 1541.79 Q1170.18 1543.82 1171.74 1545 Q1173.3 1546.15 1178.01 1547.2 L1180.02 1547.64 Q1186.25 1548.98 1188.86 1551.43 Q1191.51 1553.85 1191.51 1558.21 Q1191.51 1563.17 1187.56 1566.07 Q1183.64 1568.97 1176.77 1568.97 Q1173.9 1568.97 1170.79 1568.39 Q1167.7 1567.85 1164.26 1566.74 L1164.26 1560.69 Q1167.51 1562.38 1170.66 1563.24 Q1173.81 1564.07 1176.9 1564.07 Q1181.03 1564.07 1183.26 1562.66 Q1185.49 1561.23 1185.49 1558.65 Q1185.49 1556.27 1183.87 1554.99 Q1182.28 1553.72 1176.83 1552.54 L1174.8 1552.07 Q1169.35 1550.92 1166.93 1548.56 Q1164.51 1546.18 1164.51 1542.04 Q1164.51 1537.01 1168.08 1534.27 Q1171.64 1531.54 1178.2 1531.54 Q1181.45 1531.54 1184.31 1532.01 Q1187.18 1532.49 1189.6 1533.45 Z\" fill=\"#000000\" fill-rule=\"evenodd\" fill-opacity=\"1\" /><path clip-path=\"url(#clip630)\" d=\"M1226.49 1533.76 L1226.49 1539.24 Q1224 1537.87 1221.49 1537.2 Q1219.01 1536.5 1216.46 1536.5 Q1210.76 1536.5 1207.61 1540.13 Q1204.46 1543.73 1204.46 1550.25 Q1204.46 1556.78 1207.61 1560.4 Q1210.76 1564 1216.46 1564 Q1219.01 1564 1221.49 1563.33 Q1224 1562.63 1226.49 1561.26 L1226.49 1566.68 Q1224.03 1567.82 1221.39 1568.39 Q1218.78 1568.97 1215.82 1568.97 Q1207.77 1568.97 1203.03 1563.91 Q1198.28 1558.85 1198.28 1550.25 Q1198.28 1541.53 1203.06 1536.53 Q1207.87 1531.54 1216.2 1531.54 Q1218.91 1531.54 1221.49 1532.11 Q1224.07 1532.65 1226.49 1533.76 Z\" fill=\"#000000\" fill-rule=\"evenodd\" fill-opacity=\"1\" /><path clip-path=\"url(#clip630)\" d=\"M1267.16 1548.76 L1267.16 1551.62 L1240.23 1551.62 Q1240.62 1557.67 1243.86 1560.85 Q1247.14 1564 1252.97 1564 Q1256.34 1564 1259.49 1563.17 Q1262.67 1562.35 1265.79 1560.69 L1265.79 1566.23 Q1262.64 1567.57 1259.33 1568.27 Q1256.02 1568.97 1252.62 1568.97 Q1244.09 1568.97 1239.09 1564 Q1234.12 1559.04 1234.12 1550.57 Q1234.12 1541.82 1238.83 1536.69 Q1243.58 1531.54 1251.6 1531.54 Q1258.79 1531.54 1262.96 1536.18 Q1267.16 1540.8 1267.16 1548.76 M1261.31 1547.04 Q1261.24 1542.23 1258.6 1539.37 Q1255.99 1536.5 1251.66 1536.5 Q1246.76 1536.5 1243.8 1539.27 Q1240.87 1542.04 1240.43 1547.07 L1261.31 1547.04 Z\" fill=\"#000000\" fill-rule=\"evenodd\" fill-opacity=\"1\" /><path clip-path=\"url(#clip630)\" d=\"M1306.41 1546.53 L1306.41 1568.04 L1300.55 1568.04 L1300.55 1546.72 Q1300.55 1541.66 1298.58 1539.14 Q1296.6 1536.63 1292.66 1536.63 Q1287.91 1536.63 1285.18 1539.65 Q1282.44 1542.68 1282.44 1547.9 L1282.44 1568.04 L1276.55 1568.04 L1276.55 1532.4 L1282.44 1532.4 L1282.44 1537.93 Q1284.54 1534.72 1287.37 1533.13 Q1290.24 1531.54 1293.96 1531.54 Q1300.1 1531.54 1303.26 1535.36 Q1306.41 1539.14 1306.41 1546.53 Z\" fill=\"#000000\" fill-rule=\"evenodd\" fill-opacity=\"1\" /><path clip-path=\"url(#clip630)\" d=\"M1334.29 1550.12 Q1327.19 1550.12 1324.45 1551.75 Q1321.72 1553.37 1321.72 1557.29 Q1321.72 1560.4 1323.75 1562.25 Q1325.82 1564.07 1329.35 1564.07 Q1334.22 1564.07 1337.15 1560.63 Q1340.11 1557.16 1340.11 1551.43 L1340.11 1550.12 L1334.29 1550.12 M1345.97 1547.71 L1345.97 1568.04 L1340.11 1568.04 L1340.11 1562.63 Q1338.11 1565.88 1335.12 1567.44 Q1332.12 1568.97 1327.8 1568.97 Q1322.32 1568.97 1319.07 1565.91 Q1315.86 1562.82 1315.86 1557.67 Q1315.86 1551.65 1319.87 1548.6 Q1323.91 1545.54 1331.9 1545.54 L1340.11 1545.54 L1340.11 1544.97 Q1340.11 1540.93 1337.44 1538.73 Q1334.8 1536.5 1329.99 1536.5 Q1326.94 1536.5 1324.04 1537.23 Q1321.14 1537.97 1318.47 1539.43 L1318.47 1534.02 Q1321.68 1532.78 1324.71 1532.17 Q1327.73 1531.54 1330.6 1531.54 Q1338.33 1531.54 1342.15 1535.55 Q1345.97 1539.56 1345.97 1547.71 Z\" fill=\"#000000\" fill-rule=\"evenodd\" fill-opacity=\"1\" /><path clip-path=\"url(#clip630)\" d=\"M1378.69 1537.87 Q1377.7 1537.3 1376.52 1537.04 Q1375.38 1536.76 1373.98 1536.76 Q1369.01 1536.76 1366.34 1540 Q1363.7 1543.22 1363.7 1549.27 L1363.7 1568.04 L1357.81 1568.04 L1357.81 1532.4 L1363.7 1532.4 L1363.7 1537.93 Q1365.54 1534.69 1368.5 1533.13 Q1371.46 1531.54 1375.7 1531.54 Q1376.3 1531.54 1377.03 1531.63 Q1377.77 1531.7 1378.66 1531.85 L1378.69 1537.87 Z\" fill=\"#000000\" fill-rule=\"evenodd\" fill-opacity=\"1\" /><path clip-path=\"url(#clip630)\" d=\"M1384.83 1532.4 L1390.69 1532.4 L1390.69 1568.04 L1384.83 1568.04 L1384.83 1532.4 M1384.83 1518.52 L1390.69 1518.52 L1390.69 1525.93 L1384.83 1525.93 L1384.83 1518.52 Z\" fill=\"#000000\" fill-rule=\"evenodd\" fill-opacity=\"1\" /><path clip-path=\"url(#clip630)\" d=\"M1416.76 1536.5 Q1412.05 1536.5 1409.31 1540.19 Q1406.57 1543.85 1406.57 1550.25 Q1406.57 1556.65 1409.28 1560.34 Q1412.01 1564 1416.76 1564 Q1421.43 1564 1424.17 1560.31 Q1426.91 1556.62 1426.91 1550.25 Q1426.91 1543.92 1424.17 1540.23 Q1421.43 1536.5 1416.76 1536.5 M1416.76 1531.54 Q1424.39 1531.54 1428.76 1536.5 Q1433.12 1541.47 1433.12 1550.25 Q1433.12 1559 1428.76 1564 Q1424.39 1568.97 1416.76 1568.97 Q1409.09 1568.97 1404.72 1564 Q1400.4 1559 1400.4 1550.25 Q1400.4 1541.47 1404.72 1536.5 Q1409.09 1531.54 1416.76 1531.54 Z\" fill=\"#000000\" fill-rule=\"evenodd\" fill-opacity=\"1\" /><path clip-path=\"url(#clip630)\" d=\"M1465.55 1533.45 L1465.55 1538.98 Q1463.07 1537.71 1460.39 1537.07 Q1457.72 1536.44 1454.85 1536.44 Q1450.49 1536.44 1448.3 1537.77 Q1446.13 1539.11 1446.13 1541.79 Q1446.13 1543.82 1447.69 1545 Q1449.25 1546.15 1453.96 1547.2 L1455.97 1547.64 Q1462.21 1548.98 1464.82 1551.43 Q1467.46 1553.85 1467.46 1558.21 Q1467.46 1563.17 1463.51 1566.07 Q1459.6 1568.97 1452.72 1568.97 Q1449.86 1568.97 1446.74 1568.39 Q1443.65 1567.85 1440.21 1566.74 L1440.21 1560.69 Q1443.46 1562.38 1446.61 1563.24 Q1449.76 1564.07 1452.85 1564.07 Q1456.99 1564.07 1459.22 1562.66 Q1461.44 1561.23 1461.44 1558.65 Q1461.44 1556.27 1459.82 1554.99 Q1458.23 1553.72 1452.79 1552.54 L1450.75 1552.07 Q1445.31 1550.92 1442.89 1548.56 Q1440.47 1546.18 1440.47 1542.04 Q1440.47 1537.01 1444.03 1534.27 Q1447.6 1531.54 1454.15 1531.54 Q1457.4 1531.54 1460.27 1532.01 Q1463.13 1532.49 1465.55 1533.45 Z\" fill=\"#000000\" fill-rule=\"evenodd\" fill-opacity=\"1\" /><polyline clip-path=\"url(#clip632)\" style=\"stroke:#000000; stroke-linecap:round; stroke-linejoin:round; stroke-width:8; stroke-opacity:0.1; fill:none\" points=\"205.121,1138.66 2352.76,1138.66 \"/>\n",
       "<polyline clip-path=\"url(#clip632)\" style=\"stroke:#000000; stroke-linecap:round; stroke-linejoin:round; stroke-width:8; stroke-opacity:0.1; fill:none\" points=\"205.121,787.836 2352.76,787.836 \"/>\n",
       "<polyline clip-path=\"url(#clip632)\" style=\"stroke:#000000; stroke-linecap:round; stroke-linejoin:round; stroke-width:8; stroke-opacity:0.1; fill:none\" points=\"205.121,437.011 2352.76,437.011 \"/>\n",
       "<polyline clip-path=\"url(#clip632)\" style=\"stroke:#000000; stroke-linecap:round; stroke-linejoin:round; stroke-width:8; stroke-opacity:0.1; fill:none\" points=\"205.121,86.1857 2352.76,86.1857 \"/>\n",
       "<polyline clip-path=\"url(#clip630)\" style=\"stroke:#000000; stroke-linecap:round; stroke-linejoin:round; stroke-width:4; stroke-opacity:1; fill:none\" points=\"205.121,1423.18 205.121,47.2441 \"/>\n",
       "<polyline clip-path=\"url(#clip630)\" style=\"stroke:#000000; stroke-linecap:round; stroke-linejoin:round; stroke-width:4; stroke-opacity:1; fill:none\" points=\"205.121,1138.66 224.019,1138.66 \"/>\n",
       "<polyline clip-path=\"url(#clip630)\" style=\"stroke:#000000; stroke-linecap:round; stroke-linejoin:round; stroke-width:4; stroke-opacity:1; fill:none\" points=\"205.121,787.836 224.019,787.836 \"/>\n",
       "<polyline clip-path=\"url(#clip630)\" style=\"stroke:#000000; stroke-linecap:round; stroke-linejoin:round; stroke-width:4; stroke-opacity:1; fill:none\" points=\"205.121,437.011 224.019,437.011 \"/>\n",
       "<polyline clip-path=\"url(#clip630)\" style=\"stroke:#000000; stroke-linecap:round; stroke-linejoin:round; stroke-width:4; stroke-opacity:1; fill:none\" points=\"205.121,86.1857 224.019,86.1857 \"/>\n",
       "<path clip-path=\"url(#clip630)\" d=\"M121.043 1152.01 L137.362 1152.01 L137.362 1155.94 L115.418 1155.94 L115.418 1152.01 Q118.08 1149.25 122.663 1144.62 Q127.269 1139.97 128.45 1138.63 Q130.695 1136.1 131.575 1134.37 Q132.478 1132.61 132.478 1130.92 Q132.478 1128.16 130.533 1126.43 Q128.612 1124.69 125.51 1124.69 Q123.311 1124.69 120.857 1125.45 Q118.427 1126.22 115.649 1127.77 L115.649 1123.05 Q118.473 1121.91 120.927 1121.33 Q123.38 1120.76 125.418 1120.76 Q130.788 1120.76 133.982 1123.44 Q137.177 1126.13 137.177 1130.62 Q137.177 1132.75 136.367 1134.67 Q135.579 1136.57 133.473 1139.16 Q132.894 1139.83 129.792 1143.05 Q126.691 1146.24 121.043 1152.01 Z\" fill=\"#000000\" fill-rule=\"evenodd\" fill-opacity=\"1\" /><path clip-path=\"url(#clip630)\" d=\"M157.177 1124.46 Q153.566 1124.46 151.737 1128.02 Q149.931 1131.57 149.931 1138.7 Q149.931 1145.8 151.737 1149.37 Q153.566 1152.91 157.177 1152.91 Q160.811 1152.91 162.616 1149.37 Q164.445 1145.8 164.445 1138.7 Q164.445 1131.57 162.616 1128.02 Q160.811 1124.46 157.177 1124.46 M157.177 1120.76 Q162.987 1120.76 166.042 1125.36 Q169.121 1129.95 169.121 1138.7 Q169.121 1147.42 166.042 1152.03 Q162.987 1156.61 157.177 1156.61 Q151.366 1156.61 148.288 1152.03 Q145.232 1147.42 145.232 1138.7 Q145.232 1129.95 148.288 1125.36 Q151.366 1120.76 157.177 1120.76 Z\" fill=\"#000000\" fill-rule=\"evenodd\" fill-opacity=\"1\" /><path clip-path=\"url(#clip630)\" d=\"M131.181 786.482 Q134.538 787.199 136.413 789.468 Q138.311 791.736 138.311 795.069 Q138.311 800.185 134.792 802.986 Q131.274 805.787 124.793 805.787 Q122.617 805.787 120.302 805.347 Q118.01 804.931 115.556 804.074 L115.556 799.56 Q117.501 800.694 119.816 801.273 Q122.13 801.852 124.654 801.852 Q129.052 801.852 131.343 800.116 Q133.658 798.38 133.658 795.069 Q133.658 792.014 131.505 790.301 Q129.376 788.565 125.556 788.565 L121.529 788.565 L121.529 784.722 L125.742 784.722 Q129.191 784.722 131.019 783.357 Q132.848 781.968 132.848 779.375 Q132.848 776.713 130.95 775.301 Q129.075 773.866 125.556 773.866 Q123.635 773.866 121.436 774.283 Q119.237 774.699 116.598 775.579 L116.598 771.412 Q119.26 770.671 121.575 770.301 Q123.913 769.931 125.973 769.931 Q131.297 769.931 134.399 772.361 Q137.501 774.769 137.501 778.889 Q137.501 781.759 135.857 783.75 Q134.214 785.718 131.181 786.482 Z\" fill=\"#000000\" fill-rule=\"evenodd\" fill-opacity=\"1\" /><path clip-path=\"url(#clip630)\" d=\"M157.177 773.634 Q153.566 773.634 151.737 777.199 Q149.931 780.741 149.931 787.87 Q149.931 794.977 151.737 798.542 Q153.566 802.083 157.177 802.083 Q160.811 802.083 162.616 798.542 Q164.445 794.977 164.445 787.87 Q164.445 780.741 162.616 777.199 Q160.811 773.634 157.177 773.634 M157.177 769.931 Q162.987 769.931 166.042 774.537 Q169.121 779.12 169.121 787.87 Q169.121 796.597 166.042 801.204 Q162.987 805.787 157.177 805.787 Q151.366 805.787 148.288 801.204 Q145.232 796.597 145.232 787.87 Q145.232 779.12 148.288 774.537 Q151.366 769.931 157.177 769.931 Z\" fill=\"#000000\" fill-rule=\"evenodd\" fill-opacity=\"1\" /><path clip-path=\"url(#clip630)\" d=\"M129.862 423.805 L118.056 442.254 L129.862 442.254 L129.862 423.805 M128.635 419.731 L134.515 419.731 L134.515 442.254 L139.445 442.254 L139.445 446.143 L134.515 446.143 L134.515 454.291 L129.862 454.291 L129.862 446.143 L114.26 446.143 L114.26 441.629 L128.635 419.731 Z\" fill=\"#000000\" fill-rule=\"evenodd\" fill-opacity=\"1\" /><path clip-path=\"url(#clip630)\" d=\"M157.177 422.809 Q153.566 422.809 151.737 426.374 Q149.931 429.916 149.931 437.045 Q149.931 444.152 151.737 447.717 Q153.566 451.258 157.177 451.258 Q160.811 451.258 162.616 447.717 Q164.445 444.152 164.445 437.045 Q164.445 429.916 162.616 426.374 Q160.811 422.809 157.177 422.809 M157.177 419.106 Q162.987 419.106 166.042 423.712 Q169.121 428.295 169.121 437.045 Q169.121 445.772 166.042 450.379 Q162.987 454.962 157.177 454.962 Q151.366 454.962 148.288 450.379 Q145.232 445.772 145.232 437.045 Q145.232 428.295 148.288 423.712 Q151.366 419.106 157.177 419.106 Z\" fill=\"#000000\" fill-rule=\"evenodd\" fill-opacity=\"1\" /><path clip-path=\"url(#clip630)\" d=\"M117.061 68.9057 L135.417 68.9057 L135.417 72.8408 L121.343 72.8408 L121.343 81.313 Q122.362 80.9658 123.38 80.8038 Q124.399 80.6186 125.418 80.6186 Q131.205 80.6186 134.584 83.7899 Q137.964 86.9611 137.964 92.3778 Q137.964 97.9564 134.492 101.058 Q131.019 104.137 124.7 104.137 Q122.524 104.137 120.255 103.767 Q118.01 103.396 115.603 102.655 L115.603 97.9564 Q117.686 99.0907 119.908 99.6462 Q122.13 100.202 124.607 100.202 Q128.612 100.202 130.95 98.0953 Q133.288 95.9889 133.288 92.3778 Q133.288 88.7667 130.95 86.6602 Q128.612 84.5537 124.607 84.5537 Q122.732 84.5537 120.857 84.9704 Q119.006 85.3871 117.061 86.2667 L117.061 68.9057 Z\" fill=\"#000000\" fill-rule=\"evenodd\" fill-opacity=\"1\" /><path clip-path=\"url(#clip630)\" d=\"M157.177 71.9844 Q153.566 71.9844 151.737 75.5492 Q149.931 79.0908 149.931 86.2204 Q149.931 93.3268 151.737 96.8916 Q153.566 100.433 157.177 100.433 Q160.811 100.433 162.616 96.8916 Q164.445 93.3268 164.445 86.2204 Q164.445 79.0908 162.616 75.5492 Q160.811 71.9844 157.177 71.9844 M157.177 68.2807 Q162.987 68.2807 166.042 72.8871 Q169.121 77.4704 169.121 86.2204 Q169.121 94.9472 166.042 99.5537 Q162.987 104.137 157.177 104.137 Q151.366 104.137 148.288 99.5537 Q145.232 94.9472 145.232 86.2204 Q145.232 77.4704 148.288 72.8871 Q151.366 68.2807 157.177 68.2807 Z\" fill=\"#000000\" fill-rule=\"evenodd\" fill-opacity=\"1\" /><path clip-path=\"url(#clip630)\" d=\"M35.3266 895.15 L35.3266 904.412 L45.9574 907.086 L45.9574 897.76 L35.3266 895.15 M17.2162 899.925 L30.4251 903.235 L30.4251 893.941 L17.2162 890.599 L17.2162 885.506 L30.4251 888.785 L30.4251 878.854 L35.3266 878.854 L35.3266 890.026 L45.9574 892.636 L45.9574 882.514 L50.8271 882.514 L50.8271 893.877 L64.0042 897.187 L64.0042 902.28 L50.8271 899.002 L50.8271 908.327 L64.0042 911.606 L64.0042 916.73 L50.8271 913.42 L50.8271 923.446 L45.9574 923.446 L45.9574 912.242 L35.3266 909.569 L35.3266 919.817 L30.4251 919.817 L30.4251 908.327 L17.2162 905.081 L17.2162 899.925 Z\" fill=\"#000000\" fill-rule=\"evenodd\" fill-opacity=\"1\" /><path clip-path=\"url(#clip630)\" d=\"M28.3562 846.994 L28.3562 841.137 L64.0042 841.137 L64.0042 846.994 L28.3562 846.994 M14.479 846.994 L14.479 841.137 L21.895 841.137 L21.895 846.994 L14.479 846.994 Z\" fill=\"#000000\" fill-rule=\"evenodd\" fill-opacity=\"1\" /><path clip-path=\"url(#clip630)\" d=\"M18.2347 823.091 L28.3562 823.091 L28.3562 811.028 L32.9077 811.028 L32.9077 823.091 L52.2594 823.091 Q56.6199 823.091 57.8613 821.913 Q59.1026 820.703 59.1026 817.043 L59.1026 811.028 L64.0042 811.028 L64.0042 817.043 Q64.0042 823.823 61.4897 826.401 Q58.9434 828.979 52.2594 828.979 L32.9077 828.979 L32.9077 833.276 L28.3562 833.276 L28.3562 828.979 L18.2347 828.979 L18.2347 823.091 Z\" fill=\"#000000\" fill-rule=\"evenodd\" fill-opacity=\"1\" /><path clip-path=\"url(#clip630)\" d=\"M44.7161 772.833 L47.5806 772.833 L47.5806 799.76 Q53.6281 799.378 56.8109 796.132 Q59.9619 792.853 59.9619 787.029 Q59.9619 783.655 59.1344 780.504 Q58.3069 777.321 56.6518 774.202 L62.1899 774.202 Q63.5267 777.353 64.227 780.663 Q64.9272 783.973 64.9272 787.379 Q64.9272 795.909 59.9619 800.906 Q54.9967 805.871 46.5303 805.871 Q37.7774 805.871 32.6531 801.161 Q27.4968 796.418 27.4968 788.397 Q27.4968 781.204 32.1438 777.035 Q36.7589 772.833 44.7161 772.833 M42.9973 778.69 Q38.1912 778.753 35.3266 781.395 Q32.4621 784.005 32.4621 788.334 Q32.4621 793.235 35.2312 796.195 Q38.0002 799.124 43.0292 799.569 L42.9973 778.69 Z\" fill=\"#000000\" fill-rule=\"evenodd\" fill-opacity=\"1\" /><path clip-path=\"url(#clip630)\" d=\"M33.8307 742.564 Q33.2578 743.551 33.0032 744.729 Q32.7167 745.875 32.7167 747.275 Q32.7167 752.24 35.9632 754.914 Q39.1779 757.556 45.2253 757.556 L64.0042 757.556 L64.0042 763.444 L28.3562 763.444 L28.3562 757.556 L33.8944 757.556 Q30.6479 755.71 29.0883 752.749 Q27.4968 749.789 27.4968 745.556 Q27.4968 744.951 27.5923 744.219 Q27.656 743.487 27.8151 742.596 L33.8307 742.564 Z\" fill=\"#000000\" fill-rule=\"evenodd\" fill-opacity=\"1\" /><path clip-path=\"url(#clip630)\" d=\"M46.0847 720.221 Q46.0847 727.318 47.7079 730.056 Q49.3312 732.793 53.2461 732.793 Q56.3653 732.793 58.2114 730.756 Q60.0256 728.687 60.0256 725.154 Q60.0256 720.284 56.5881 717.356 Q53.1188 714.396 47.3897 714.396 L46.0847 714.396 L46.0847 720.221 M43.6657 708.54 L64.0042 708.54 L64.0042 714.396 L58.5933 714.396 Q61.8398 716.401 63.3994 719.393 Q64.9272 722.385 64.9272 726.714 Q64.9272 732.188 61.8716 735.435 Q58.7843 738.649 53.6281 738.649 Q47.6125 738.649 44.5569 734.639 Q41.5014 730.597 41.5014 722.608 L41.5014 714.396 L40.9285 714.396 Q36.8862 714.396 34.6901 717.07 Q32.4621 719.711 32.4621 724.518 Q32.4621 727.573 33.1941 730.47 Q33.9262 733.366 35.3903 736.04 L29.9795 736.04 Q28.7381 732.825 28.1334 729.801 Q27.4968 726.777 27.4968 723.913 Q27.4968 716.179 31.5072 712.359 Q35.5176 708.54 43.6657 708.54 Z\" fill=\"#000000\" fill-rule=\"evenodd\" fill-opacity=\"1\" /><path clip-path=\"url(#clip630)\" d=\"M18.2347 690.684 L28.3562 690.684 L28.3562 678.621 L32.9077 678.621 L32.9077 690.684 L52.2594 690.684 Q56.6199 690.684 57.8613 689.506 Q59.1026 688.297 59.1026 684.636 L59.1026 678.621 L64.0042 678.621 L64.0042 684.636 Q64.0042 691.416 61.4897 693.994 Q58.9434 696.572 52.2594 696.572 L32.9077 696.572 L32.9077 700.869 L28.3562 700.869 L28.3562 696.572 L18.2347 696.572 L18.2347 690.684 Z\" fill=\"#000000\" fill-rule=\"evenodd\" fill-opacity=\"1\" /><path clip-path=\"url(#clip630)\" d=\"M28.3562 670.918 L28.3562 665.062 L64.0042 665.062 L64.0042 670.918 L28.3562 670.918 M14.479 670.918 L14.479 665.062 L21.895 665.062 L21.895 670.918 L14.479 670.918 Z\" fill=\"#000000\" fill-rule=\"evenodd\" fill-opacity=\"1\" /><path clip-path=\"url(#clip630)\" d=\"M32.4621 638.994 Q32.4621 643.705 36.1542 646.442 Q39.8145 649.179 46.212 649.179 Q52.6095 649.179 56.3017 646.474 Q59.9619 643.737 59.9619 638.994 Q59.9619 634.316 56.2698 631.578 Q52.5777 628.841 46.212 628.841 Q39.8781 628.841 36.186 631.578 Q32.4621 634.316 32.4621 638.994 M27.4968 638.994 Q27.4968 631.355 32.4621 626.995 Q37.4273 622.634 46.212 622.634 Q54.9649 622.634 59.9619 626.995 Q64.9272 631.355 64.9272 638.994 Q64.9272 646.665 59.9619 651.025 Q54.9649 655.354 46.212 655.354 Q37.4273 655.354 32.4621 651.025 Q27.4968 646.665 27.4968 638.994 Z\" fill=\"#000000\" fill-rule=\"evenodd\" fill-opacity=\"1\" /><path clip-path=\"url(#clip630)\" d=\"M42.4881 583.294 L64.0042 583.294 L64.0042 589.151 L42.679 589.151 Q37.6183 589.151 35.1038 591.124 Q32.5894 593.098 32.5894 597.044 Q32.5894 601.787 35.6131 604.524 Q38.6368 607.261 43.8567 607.261 L64.0042 607.261 L64.0042 613.15 L28.3562 613.15 L28.3562 607.261 L33.8944 607.261 Q30.6797 605.161 29.0883 602.328 Q27.4968 599.463 27.4968 595.739 Q27.4968 589.596 31.3163 586.445 Q35.1038 583.294 42.4881 583.294 Z\" fill=\"#000000\" fill-rule=\"evenodd\" fill-opacity=\"1\" /><path clip-path=\"url(#clip630)\" d=\"M29.4065 548.888 L34.9447 548.888 Q33.6716 551.37 33.035 554.044 Q32.3984 556.718 32.3984 559.582 Q32.3984 563.943 33.7352 566.139 Q35.072 568.303 37.7456 568.303 Q39.7826 568.303 40.9603 566.744 Q42.1061 565.184 43.1565 560.473 L43.6021 558.468 Q44.9389 552.23 47.3897 549.62 Q49.8086 546.978 54.1691 546.978 Q59.1344 546.978 62.0308 550.925 Q64.9272 554.84 64.9272 561.715 Q64.9272 564.579 64.3543 567.698 Q63.8132 570.786 62.6992 574.223 L56.6518 574.223 Q58.3387 570.977 59.198 567.826 Q60.0256 564.675 60.0256 561.587 Q60.0256 557.45 58.6251 555.222 Q57.1929 552.994 54.6147 552.994 Q52.2276 552.994 50.9545 554.617 Q49.6813 556.208 48.5037 561.651 L48.0262 563.688 Q46.8804 569.131 44.5251 571.55 Q42.138 573.969 38.0002 573.969 Q32.9713 573.969 30.2341 570.404 Q27.4968 566.839 27.4968 560.282 Q27.4968 557.036 27.9743 554.171 Q28.4517 551.307 29.4065 548.888 Z\" fill=\"#000000\" fill-rule=\"evenodd\" fill-opacity=\"1\" /><polyline clip-path=\"url(#clip632)\" style=\"stroke:#000000; stroke-linecap:round; stroke-linejoin:round; stroke-width:4; stroke-opacity:1; fill:none\" stroke-dasharray=\"16, 8, 2, 8\" points=\"265.903,1208.83 307.251,1278.99 348.6,1243.91 389.948,1384.24 431.297,1278.99 472.645,1138.66 513.993,1138.66 555.342,963.248 596.69,1278.99 638.039,1068.5 679.387,963.248 720.735,998.331 762.084,1068.5 803.432,1208.83 844.78,1103.58 886.129,1068.5 927.477,1068.5 968.826,1278.99 1010.17,1033.41 1051.52,963.248 1092.87,1208.83 1134.22,1138.66 1175.57,1208.83 1216.92,1138.66 1258.26,1103.58 1299.61,1068.5 1340.96,1103.58 1382.31,1103.58 1423.66,1068.5 1465.01,963.248 1506.35,1243.91 1547.7,86.1857 1589.05,1243.91 1630.4,86.1857 1671.75,1138.66 1713.1,1103.58 1754.44,1208.83 1795.79,1243.91 1837.14,1103.58 1878.49,1138.66 1919.84,1103.58 1961.19,1173.74 2002.54,963.248 2043.88,858.001 2085.23,893.083 2126.58,1103.58 2167.93,1033.41 2209.28,1208.83 2250.63,1068.5 2291.97,1033.41 \"/>\n",
       "<path clip-path=\"url(#clip632)\" d=\"M253.903 1196.83 L253.903 1220.83 L277.903 1220.83 L277.903 1196.83 L253.903 1196.83 Z\" fill=\"#000000\" fill-rule=\"evenodd\" fill-opacity=\"1\" stroke=\"none\"/>\n",
       "<path clip-path=\"url(#clip632)\" d=\"M295.251 1266.99 L295.251 1290.99 L319.251 1290.99 L319.251 1266.99 L295.251 1266.99 Z\" fill=\"#000000\" fill-rule=\"evenodd\" fill-opacity=\"1\" stroke=\"none\"/>\n",
       "<path clip-path=\"url(#clip632)\" d=\"M336.6 1231.91 L336.6 1255.91 L360.6 1255.91 L360.6 1231.91 L336.6 1231.91 Z\" fill=\"#000000\" fill-rule=\"evenodd\" fill-opacity=\"1\" stroke=\"none\"/>\n",
       "<path clip-path=\"url(#clip632)\" d=\"M377.948 1372.24 L377.948 1396.24 L401.948 1396.24 L401.948 1372.24 L377.948 1372.24 Z\" fill=\"#000000\" fill-rule=\"evenodd\" fill-opacity=\"1\" stroke=\"none\"/>\n",
       "<path clip-path=\"url(#clip632)\" d=\"M419.297 1266.99 L419.297 1290.99 L443.297 1290.99 L443.297 1266.99 L419.297 1266.99 Z\" fill=\"#000000\" fill-rule=\"evenodd\" fill-opacity=\"1\" stroke=\"none\"/>\n",
       "<path clip-path=\"url(#clip632)\" d=\"M460.645 1126.66 L460.645 1150.66 L484.645 1150.66 L484.645 1126.66 L460.645 1126.66 Z\" fill=\"#000000\" fill-rule=\"evenodd\" fill-opacity=\"1\" stroke=\"none\"/>\n",
       "<path clip-path=\"url(#clip632)\" d=\"M501.993 1126.66 L501.993 1150.66 L525.993 1150.66 L525.993 1126.66 L501.993 1126.66 Z\" fill=\"#000000\" fill-rule=\"evenodd\" fill-opacity=\"1\" stroke=\"none\"/>\n",
       "<path clip-path=\"url(#clip632)\" d=\"M543.342 951.248 L543.342 975.248 L567.342 975.248 L567.342 951.248 L543.342 951.248 Z\" fill=\"#000000\" fill-rule=\"evenodd\" fill-opacity=\"1\" stroke=\"none\"/>\n",
       "<path clip-path=\"url(#clip632)\" d=\"M584.69 1266.99 L584.69 1290.99 L608.69 1290.99 L608.69 1266.99 L584.69 1266.99 Z\" fill=\"#000000\" fill-rule=\"evenodd\" fill-opacity=\"1\" stroke=\"none\"/>\n",
       "<path clip-path=\"url(#clip632)\" d=\"M626.039 1056.5 L626.039 1080.5 L650.039 1080.5 L650.039 1056.5 L626.039 1056.5 Z\" fill=\"#000000\" fill-rule=\"evenodd\" fill-opacity=\"1\" stroke=\"none\"/>\n",
       "<path clip-path=\"url(#clip632)\" d=\"M667.387 951.248 L667.387 975.248 L691.387 975.248 L691.387 951.248 L667.387 951.248 Z\" fill=\"#000000\" fill-rule=\"evenodd\" fill-opacity=\"1\" stroke=\"none\"/>\n",
       "<path clip-path=\"url(#clip632)\" d=\"M708.735 986.331 L708.735 1010.33 L732.735 1010.33 L732.735 986.331 L708.735 986.331 Z\" fill=\"#000000\" fill-rule=\"evenodd\" fill-opacity=\"1\" stroke=\"none\"/>\n",
       "<path clip-path=\"url(#clip632)\" d=\"M750.084 1056.5 L750.084 1080.5 L774.084 1080.5 L774.084 1056.5 L750.084 1056.5 Z\" fill=\"#000000\" fill-rule=\"evenodd\" fill-opacity=\"1\" stroke=\"none\"/>\n",
       "<path clip-path=\"url(#clip632)\" d=\"M791.432 1196.83 L791.432 1220.83 L815.432 1220.83 L815.432 1196.83 L791.432 1196.83 Z\" fill=\"#000000\" fill-rule=\"evenodd\" fill-opacity=\"1\" stroke=\"none\"/>\n",
       "<path clip-path=\"url(#clip632)\" d=\"M832.78 1091.58 L832.78 1115.58 L856.78 1115.58 L856.78 1091.58 L832.78 1091.58 Z\" fill=\"#000000\" fill-rule=\"evenodd\" fill-opacity=\"1\" stroke=\"none\"/>\n",
       "<path clip-path=\"url(#clip632)\" d=\"M874.129 1056.5 L874.129 1080.5 L898.129 1080.5 L898.129 1056.5 L874.129 1056.5 Z\" fill=\"#000000\" fill-rule=\"evenodd\" fill-opacity=\"1\" stroke=\"none\"/>\n",
       "<path clip-path=\"url(#clip632)\" d=\"M915.477 1056.5 L915.477 1080.5 L939.477 1080.5 L939.477 1056.5 L915.477 1056.5 Z\" fill=\"#000000\" fill-rule=\"evenodd\" fill-opacity=\"1\" stroke=\"none\"/>\n",
       "<path clip-path=\"url(#clip632)\" d=\"M956.826 1266.99 L956.826 1290.99 L980.826 1290.99 L980.826 1266.99 L956.826 1266.99 Z\" fill=\"#000000\" fill-rule=\"evenodd\" fill-opacity=\"1\" stroke=\"none\"/>\n",
       "<path clip-path=\"url(#clip632)\" d=\"M998.174 1021.41 L998.174 1045.41 L1022.17 1045.41 L1022.17 1021.41 L998.174 1021.41 Z\" fill=\"#000000\" fill-rule=\"evenodd\" fill-opacity=\"1\" stroke=\"none\"/>\n",
       "<path clip-path=\"url(#clip632)\" d=\"M1039.52 951.248 L1039.52 975.248 L1063.52 975.248 L1063.52 951.248 L1039.52 951.248 Z\" fill=\"#000000\" fill-rule=\"evenodd\" fill-opacity=\"1\" stroke=\"none\"/>\n",
       "<path clip-path=\"url(#clip632)\" d=\"M1080.87 1196.83 L1080.87 1220.83 L1104.87 1220.83 L1104.87 1196.83 L1080.87 1196.83 Z\" fill=\"#000000\" fill-rule=\"evenodd\" fill-opacity=\"1\" stroke=\"none\"/>\n",
       "<path clip-path=\"url(#clip632)\" d=\"M1122.22 1126.66 L1122.22 1150.66 L1146.22 1150.66 L1146.22 1126.66 L1122.22 1126.66 Z\" fill=\"#000000\" fill-rule=\"evenodd\" fill-opacity=\"1\" stroke=\"none\"/>\n",
       "<path clip-path=\"url(#clip632)\" d=\"M1163.57 1196.83 L1163.57 1220.83 L1187.57 1220.83 L1187.57 1196.83 L1163.57 1196.83 Z\" fill=\"#000000\" fill-rule=\"evenodd\" fill-opacity=\"1\" stroke=\"none\"/>\n",
       "<path clip-path=\"url(#clip632)\" d=\"M1204.92 1126.66 L1204.92 1150.66 L1228.92 1150.66 L1228.92 1126.66 L1204.92 1126.66 Z\" fill=\"#000000\" fill-rule=\"evenodd\" fill-opacity=\"1\" stroke=\"none\"/>\n",
       "<path clip-path=\"url(#clip632)\" d=\"M1246.26 1091.58 L1246.26 1115.58 L1270.26 1115.58 L1270.26 1091.58 L1246.26 1091.58 Z\" fill=\"#000000\" fill-rule=\"evenodd\" fill-opacity=\"1\" stroke=\"none\"/>\n",
       "<path clip-path=\"url(#clip632)\" d=\"M1287.61 1056.5 L1287.61 1080.5 L1311.61 1080.5 L1311.61 1056.5 L1287.61 1056.5 Z\" fill=\"#000000\" fill-rule=\"evenodd\" fill-opacity=\"1\" stroke=\"none\"/>\n",
       "<path clip-path=\"url(#clip632)\" d=\"M1328.96 1091.58 L1328.96 1115.58 L1352.96 1115.58 L1352.96 1091.58 L1328.96 1091.58 Z\" fill=\"#000000\" fill-rule=\"evenodd\" fill-opacity=\"1\" stroke=\"none\"/>\n",
       "<path clip-path=\"url(#clip632)\" d=\"M1370.31 1091.58 L1370.31 1115.58 L1394.31 1115.58 L1394.31 1091.58 L1370.31 1091.58 Z\" fill=\"#000000\" fill-rule=\"evenodd\" fill-opacity=\"1\" stroke=\"none\"/>\n",
       "<path clip-path=\"url(#clip632)\" d=\"M1411.66 1056.5 L1411.66 1080.5 L1435.66 1080.5 L1435.66 1056.5 L1411.66 1056.5 Z\" fill=\"#000000\" fill-rule=\"evenodd\" fill-opacity=\"1\" stroke=\"none\"/>\n",
       "<path clip-path=\"url(#clip632)\" d=\"M1453.01 951.248 L1453.01 975.248 L1477.01 975.248 L1477.01 951.248 L1453.01 951.248 Z\" fill=\"#000000\" fill-rule=\"evenodd\" fill-opacity=\"1\" stroke=\"none\"/>\n",
       "<path clip-path=\"url(#clip632)\" d=\"M1494.35 1231.91 L1494.35 1255.91 L1518.35 1255.91 L1518.35 1231.91 L1494.35 1231.91 Z\" fill=\"#000000\" fill-rule=\"evenodd\" fill-opacity=\"1\" stroke=\"none\"/>\n",
       "<path clip-path=\"url(#clip632)\" d=\"M1535.7 74.1857 L1535.7 98.1857 L1559.7 98.1857 L1559.7 74.1857 L1535.7 74.1857 Z\" fill=\"#000000\" fill-rule=\"evenodd\" fill-opacity=\"1\" stroke=\"none\"/>\n",
       "<path clip-path=\"url(#clip632)\" d=\"M1577.05 1231.91 L1577.05 1255.91 L1601.05 1255.91 L1601.05 1231.91 L1577.05 1231.91 Z\" fill=\"#000000\" fill-rule=\"evenodd\" fill-opacity=\"1\" stroke=\"none\"/>\n",
       "<path clip-path=\"url(#clip632)\" d=\"M1618.4 74.1857 L1618.4 98.1857 L1642.4 98.1857 L1642.4 74.1857 L1618.4 74.1857 Z\" fill=\"#000000\" fill-rule=\"evenodd\" fill-opacity=\"1\" stroke=\"none\"/>\n",
       "<path clip-path=\"url(#clip632)\" d=\"M1659.75 1126.66 L1659.75 1150.66 L1683.75 1150.66 L1683.75 1126.66 L1659.75 1126.66 Z\" fill=\"#000000\" fill-rule=\"evenodd\" fill-opacity=\"1\" stroke=\"none\"/>\n",
       "<path clip-path=\"url(#clip632)\" d=\"M1701.1 1091.58 L1701.1 1115.58 L1725.1 1115.58 L1725.1 1091.58 L1701.1 1091.58 Z\" fill=\"#000000\" fill-rule=\"evenodd\" fill-opacity=\"1\" stroke=\"none\"/>\n",
       "<path clip-path=\"url(#clip632)\" d=\"M1742.44 1196.83 L1742.44 1220.83 L1766.44 1220.83 L1766.44 1196.83 L1742.44 1196.83 Z\" fill=\"#000000\" fill-rule=\"evenodd\" fill-opacity=\"1\" stroke=\"none\"/>\n",
       "<path clip-path=\"url(#clip632)\" d=\"M1783.79 1231.91 L1783.79 1255.91 L1807.79 1255.91 L1807.79 1231.91 L1783.79 1231.91 Z\" fill=\"#000000\" fill-rule=\"evenodd\" fill-opacity=\"1\" stroke=\"none\"/>\n",
       "<path clip-path=\"url(#clip632)\" d=\"M1825.14 1091.58 L1825.14 1115.58 L1849.14 1115.58 L1849.14 1091.58 L1825.14 1091.58 Z\" fill=\"#000000\" fill-rule=\"evenodd\" fill-opacity=\"1\" stroke=\"none\"/>\n",
       "<path clip-path=\"url(#clip632)\" d=\"M1866.49 1126.66 L1866.49 1150.66 L1890.49 1150.66 L1890.49 1126.66 L1866.49 1126.66 Z\" fill=\"#000000\" fill-rule=\"evenodd\" fill-opacity=\"1\" stroke=\"none\"/>\n",
       "<path clip-path=\"url(#clip632)\" d=\"M1907.84 1091.58 L1907.84 1115.58 L1931.84 1115.58 L1931.84 1091.58 L1907.84 1091.58 Z\" fill=\"#000000\" fill-rule=\"evenodd\" fill-opacity=\"1\" stroke=\"none\"/>\n",
       "<path clip-path=\"url(#clip632)\" d=\"M1949.19 1161.74 L1949.19 1185.74 L1973.19 1185.74 L1973.19 1161.74 L1949.19 1161.74 Z\" fill=\"#000000\" fill-rule=\"evenodd\" fill-opacity=\"1\" stroke=\"none\"/>\n",
       "<path clip-path=\"url(#clip632)\" d=\"M1990.54 951.248 L1990.54 975.248 L2014.54 975.248 L2014.54 951.248 L1990.54 951.248 Z\" fill=\"#000000\" fill-rule=\"evenodd\" fill-opacity=\"1\" stroke=\"none\"/>\n",
       "<path clip-path=\"url(#clip632)\" d=\"M2031.88 846.001 L2031.88 870.001 L2055.88 870.001 L2055.88 846.001 L2031.88 846.001 Z\" fill=\"#000000\" fill-rule=\"evenodd\" fill-opacity=\"1\" stroke=\"none\"/>\n",
       "<path clip-path=\"url(#clip632)\" d=\"M2073.23 881.083 L2073.23 905.083 L2097.23 905.083 L2097.23 881.083 L2073.23 881.083 Z\" fill=\"#000000\" fill-rule=\"evenodd\" fill-opacity=\"1\" stroke=\"none\"/>\n",
       "<path clip-path=\"url(#clip632)\" d=\"M2114.58 1091.58 L2114.58 1115.58 L2138.58 1115.58 L2138.58 1091.58 L2114.58 1091.58 Z\" fill=\"#000000\" fill-rule=\"evenodd\" fill-opacity=\"1\" stroke=\"none\"/>\n",
       "<path clip-path=\"url(#clip632)\" d=\"M2155.93 1021.41 L2155.93 1045.41 L2179.93 1045.41 L2179.93 1021.41 L2155.93 1021.41 Z\" fill=\"#000000\" fill-rule=\"evenodd\" fill-opacity=\"1\" stroke=\"none\"/>\n",
       "<path clip-path=\"url(#clip632)\" d=\"M2197.28 1196.83 L2197.28 1220.83 L2221.28 1220.83 L2221.28 1196.83 L2197.28 1196.83 Z\" fill=\"#000000\" fill-rule=\"evenodd\" fill-opacity=\"1\" stroke=\"none\"/>\n",
       "<path clip-path=\"url(#clip632)\" d=\"M2238.63 1056.5 L2238.63 1080.5 L2262.63 1080.5 L2262.63 1056.5 L2238.63 1056.5 Z\" fill=\"#000000\" fill-rule=\"evenodd\" fill-opacity=\"1\" stroke=\"none\"/>\n",
       "<path clip-path=\"url(#clip632)\" d=\"M2279.97 1021.41 L2279.97 1045.41 L2303.97 1045.41 L2303.97 1021.41 L2279.97 1021.41 Z\" fill=\"#000000\" fill-rule=\"evenodd\" fill-opacity=\"1\" stroke=\"none\"/>\n",
       "</svg>\n"
      ]
     },
     "metadata": {},
     "output_type": "display_data"
    }
   ],
   "source": [
    "p3 = plot(1:nScenMax,iterTraj_s,xlabel=\"# scenarios\", ylabel=\"# iterations\",\n",
    "    marker=:square, \n",
    "    markersize=3,\n",
    "    linecolor = :black,\n",
    "    markercolor = :black,\n",
    "    linestyle = :dashdot,\n",
    "    label=\"\",\n",
    "    yticks=range(0,150,step=10),\n",
    "    gridlinewidth=2,\n",
    "    dpi=600)\n",
    "\n",
    "display(p3)\n",
    "savefig(p3,\"C:/Users/MACC-Jose/Documents/Canada/Papers/Benders Decomposition/Figures/C1_BenIter.pdf\");"
   ]
  },
  {
   "cell_type": "code",
   "execution_count": 20,
   "id": "6eec491f",
   "metadata": {},
   "outputs": [
    {
     "data": {
      "image/svg+xml": [
       "<?xml version=\"1.0\" encoding=\"utf-8\"?>\n",
       "<svg xmlns=\"http://www.w3.org/2000/svg\" xmlns:xlink=\"http://www.w3.org/1999/xlink\" width=\"600\" height=\"400\" viewBox=\"0 0 2400 1600\">\n",
       "<defs>\n",
       "  <clipPath id=\"clip680\">\n",
       "    <rect x=\"0\" y=\"0\" width=\"2400\" height=\"1600\"/>\n",
       "  </clipPath>\n",
       "</defs>\n",
       "<path clip-path=\"url(#clip680)\" d=\"M0 1600 L2400 1600 L2400 0 L0 0  Z\" fill=\"#ffffff\" fill-rule=\"evenodd\" fill-opacity=\"1\"/>\n",
       "<defs>\n",
       "  <clipPath id=\"clip681\">\n",
       "    <rect x=\"480\" y=\"0\" width=\"1681\" height=\"1600\"/>\n",
       "  </clipPath>\n",
       "</defs>\n",
       "<defs>\n",
       "  <clipPath id=\"clip682\">\n",
       "    <rect x=\"205\" y=\"47\" width=\"2149\" height=\"1377\"/>\n",
       "  </clipPath>\n",
       "</defs>\n",
       "<path clip-path=\"url(#clip680)\" d=\"M252.764 1423.18 L2352.76 1423.18 L2352.76 47.2441 L252.764 47.2441  Z\" fill=\"#ffffff\" fill-rule=\"evenodd\" fill-opacity=\"1\"/>\n",
       "<defs>\n",
       "  <clipPath id=\"clip683\">\n",
       "    <rect x=\"252\" y=\"47\" width=\"2101\" height=\"1377\"/>\n",
       "  </clipPath>\n",
       "</defs>\n",
       "<polyline clip-path=\"url(#clip683)\" style=\"stroke:#000000; stroke-linecap:round; stroke-linejoin:round; stroke-width:8; stroke-opacity:0.1; fill:none\" points=\"271.767,1423.18 271.767,47.2441 \"/>\n",
       "<polyline clip-path=\"url(#clip683)\" style=\"stroke:#000000; stroke-linecap:round; stroke-linejoin:round; stroke-width:8; stroke-opacity:0.1; fill:none\" points=\"676.078,1423.18 676.078,47.2441 \"/>\n",
       "<polyline clip-path=\"url(#clip683)\" style=\"stroke:#000000; stroke-linecap:round; stroke-linejoin:round; stroke-width:8; stroke-opacity:0.1; fill:none\" points=\"1080.39,1423.18 1080.39,47.2441 \"/>\n",
       "<polyline clip-path=\"url(#clip683)\" style=\"stroke:#000000; stroke-linecap:round; stroke-linejoin:round; stroke-width:8; stroke-opacity:0.1; fill:none\" points=\"1484.7,1423.18 1484.7,47.2441 \"/>\n",
       "<polyline clip-path=\"url(#clip683)\" style=\"stroke:#000000; stroke-linecap:round; stroke-linejoin:round; stroke-width:8; stroke-opacity:0.1; fill:none\" points=\"1889.01,1423.18 1889.01,47.2441 \"/>\n",
       "<polyline clip-path=\"url(#clip683)\" style=\"stroke:#000000; stroke-linecap:round; stroke-linejoin:round; stroke-width:8; stroke-opacity:0.1; fill:none\" points=\"2293.32,1423.18 2293.32,47.2441 \"/>\n",
       "<polyline clip-path=\"url(#clip680)\" style=\"stroke:#000000; stroke-linecap:round; stroke-linejoin:round; stroke-width:4; stroke-opacity:1; fill:none\" points=\"252.764,1423.18 2352.76,1423.18 \"/>\n",
       "<polyline clip-path=\"url(#clip680)\" style=\"stroke:#000000; stroke-linecap:round; stroke-linejoin:round; stroke-width:4; stroke-opacity:1; fill:none\" points=\"271.767,1423.18 271.767,1404.28 \"/>\n",
       "<polyline clip-path=\"url(#clip680)\" style=\"stroke:#000000; stroke-linecap:round; stroke-linejoin:round; stroke-width:4; stroke-opacity:1; fill:none\" points=\"676.078,1423.18 676.078,1404.28 \"/>\n",
       "<polyline clip-path=\"url(#clip680)\" style=\"stroke:#000000; stroke-linecap:round; stroke-linejoin:round; stroke-width:4; stroke-opacity:1; fill:none\" points=\"1080.39,1423.18 1080.39,1404.28 \"/>\n",
       "<polyline clip-path=\"url(#clip680)\" style=\"stroke:#000000; stroke-linecap:round; stroke-linejoin:round; stroke-width:4; stroke-opacity:1; fill:none\" points=\"1484.7,1423.18 1484.7,1404.28 \"/>\n",
       "<polyline clip-path=\"url(#clip680)\" style=\"stroke:#000000; stroke-linecap:round; stroke-linejoin:round; stroke-width:4; stroke-opacity:1; fill:none\" points=\"1889.01,1423.18 1889.01,1404.28 \"/>\n",
       "<polyline clip-path=\"url(#clip680)\" style=\"stroke:#000000; stroke-linecap:round; stroke-linejoin:round; stroke-width:4; stroke-opacity:1; fill:none\" points=\"2293.32,1423.18 2293.32,1404.28 \"/>\n",
       "<path clip-path=\"url(#clip680)\" d=\"M271.767 1454.1 Q268.155 1454.1 266.327 1457.66 Q264.521 1461.2 264.521 1468.33 Q264.521 1475.44 266.327 1479.01 Q268.155 1482.55 271.767 1482.55 Q275.401 1482.55 277.206 1479.01 Q279.035 1475.44 279.035 1468.33 Q279.035 1461.2 277.206 1457.66 Q275.401 1454.1 271.767 1454.1 M271.767 1450.39 Q277.577 1450.39 280.632 1455 Q283.711 1459.58 283.711 1468.33 Q283.711 1477.06 280.632 1481.67 Q277.577 1486.25 271.767 1486.25 Q265.956 1486.25 262.878 1481.67 Q259.822 1477.06 259.822 1468.33 Q259.822 1459.58 262.878 1455 Q265.956 1450.39 271.767 1450.39 Z\" fill=\"#000000\" fill-rule=\"evenodd\" fill-opacity=\"1\" /><path clip-path=\"url(#clip680)\" d=\"M650.765 1481.64 L658.404 1481.64 L658.404 1455.28 L650.094 1456.95 L650.094 1452.69 L658.358 1451.02 L663.034 1451.02 L663.034 1481.64 L670.673 1481.64 L670.673 1485.58 L650.765 1485.58 L650.765 1481.64 Z\" fill=\"#000000\" fill-rule=\"evenodd\" fill-opacity=\"1\" /><path clip-path=\"url(#clip680)\" d=\"M690.117 1454.1 Q686.506 1454.1 684.677 1457.66 Q682.872 1461.2 682.872 1468.33 Q682.872 1475.44 684.677 1479.01 Q686.506 1482.55 690.117 1482.55 Q693.751 1482.55 695.557 1479.01 Q697.385 1475.44 697.385 1468.33 Q697.385 1461.2 695.557 1457.66 Q693.751 1454.1 690.117 1454.1 M690.117 1450.39 Q695.927 1450.39 698.983 1455 Q702.061 1459.58 702.061 1468.33 Q702.061 1477.06 698.983 1481.67 Q695.927 1486.25 690.117 1486.25 Q684.307 1486.25 681.228 1481.67 Q678.173 1477.06 678.173 1468.33 Q678.173 1459.58 681.228 1455 Q684.307 1450.39 690.117 1450.39 Z\" fill=\"#000000\" fill-rule=\"evenodd\" fill-opacity=\"1\" /><path clip-path=\"url(#clip680)\" d=\"M1059.16 1481.64 L1075.48 1481.64 L1075.48 1485.58 L1053.54 1485.58 L1053.54 1481.64 Q1056.2 1478.89 1060.78 1474.26 Q1065.39 1469.61 1066.57 1468.27 Q1068.81 1465.74 1069.69 1464.01 Q1070.6 1462.25 1070.6 1460.56 Q1070.6 1457.8 1068.65 1456.07 Q1066.73 1454.33 1063.63 1454.33 Q1061.43 1454.33 1058.98 1455.09 Q1056.55 1455.86 1053.77 1457.41 L1053.77 1452.69 Q1056.59 1451.55 1059.05 1450.97 Q1061.5 1450.39 1063.54 1450.39 Q1068.91 1450.39 1072.1 1453.08 Q1075.3 1455.77 1075.3 1460.26 Q1075.3 1462.39 1074.49 1464.31 Q1073.7 1466.2 1071.59 1468.8 Q1071.01 1469.47 1067.91 1472.69 Q1064.81 1475.88 1059.16 1481.64 Z\" fill=\"#000000\" fill-rule=\"evenodd\" fill-opacity=\"1\" /><path clip-path=\"url(#clip680)\" d=\"M1095.3 1454.1 Q1091.69 1454.1 1089.86 1457.66 Q1088.05 1461.2 1088.05 1468.33 Q1088.05 1475.44 1089.86 1479.01 Q1091.69 1482.55 1095.3 1482.55 Q1098.93 1482.55 1100.74 1479.01 Q1102.56 1475.44 1102.56 1468.33 Q1102.56 1461.2 1100.74 1457.66 Q1098.93 1454.1 1095.3 1454.1 M1095.3 1450.39 Q1101.11 1450.39 1104.16 1455 Q1107.24 1459.58 1107.24 1468.33 Q1107.24 1477.06 1104.16 1481.67 Q1101.11 1486.25 1095.3 1486.25 Q1089.49 1486.25 1086.41 1481.67 Q1083.35 1477.06 1083.35 1468.33 Q1083.35 1459.58 1086.41 1455 Q1089.49 1450.39 1095.3 1450.39 Z\" fill=\"#000000\" fill-rule=\"evenodd\" fill-opacity=\"1\" /><path clip-path=\"url(#clip680)\" d=\"M1473.54 1466.95 Q1476.9 1467.66 1478.77 1469.93 Q1480.67 1472.2 1480.67 1475.53 Q1480.67 1480.65 1477.15 1483.45 Q1473.64 1486.25 1467.15 1486.25 Q1464.98 1486.25 1462.66 1485.81 Q1460.37 1485.39 1457.92 1484.54 L1457.92 1480.02 Q1459.86 1481.16 1462.18 1481.74 Q1464.49 1482.32 1467.01 1482.32 Q1471.41 1482.32 1473.7 1480.58 Q1476.02 1478.84 1476.02 1475.53 Q1476.02 1472.48 1473.87 1470.77 Q1471.74 1469.03 1467.92 1469.03 L1463.89 1469.03 L1463.89 1465.19 L1468.1 1465.19 Q1471.55 1465.19 1473.38 1463.82 Q1475.21 1462.43 1475.21 1459.84 Q1475.21 1457.18 1473.31 1455.77 Q1471.44 1454.33 1467.92 1454.33 Q1466 1454.33 1463.8 1454.75 Q1461.6 1455.16 1458.96 1456.04 L1458.96 1451.88 Q1461.62 1451.14 1463.94 1450.77 Q1466.27 1450.39 1468.33 1450.39 Q1473.66 1450.39 1476.76 1452.83 Q1479.86 1455.23 1479.86 1459.35 Q1479.86 1462.22 1478.22 1464.21 Q1476.57 1466.18 1473.54 1466.95 Z\" fill=\"#000000\" fill-rule=\"evenodd\" fill-opacity=\"1\" /><path clip-path=\"url(#clip680)\" d=\"M1499.54 1454.1 Q1495.93 1454.1 1494.1 1457.66 Q1492.29 1461.2 1492.29 1468.33 Q1492.29 1475.44 1494.1 1479.01 Q1495.93 1482.55 1499.54 1482.55 Q1503.17 1482.55 1504.98 1479.01 Q1506.81 1475.44 1506.81 1468.33 Q1506.81 1461.2 1504.98 1457.66 Q1503.17 1454.1 1499.54 1454.1 M1499.54 1450.39 Q1505.35 1450.39 1508.4 1455 Q1511.48 1459.58 1511.48 1468.33 Q1511.48 1477.06 1508.4 1481.67 Q1505.35 1486.25 1499.54 1486.25 Q1493.73 1486.25 1490.65 1481.67 Q1487.59 1477.06 1487.59 1468.33 Q1487.59 1459.58 1490.65 1455 Q1493.73 1450.39 1499.54 1450.39 Z\" fill=\"#000000\" fill-rule=\"evenodd\" fill-opacity=\"1\" /><path clip-path=\"url(#clip680)\" d=\"M1877.18 1455.09 L1865.38 1473.54 L1877.18 1473.54 L1877.18 1455.09 M1875.96 1451.02 L1881.84 1451.02 L1881.84 1473.54 L1886.77 1473.54 L1886.77 1477.43 L1881.84 1477.43 L1881.84 1485.58 L1877.18 1485.58 L1877.18 1477.43 L1861.58 1477.43 L1861.58 1472.92 L1875.96 1451.02 Z\" fill=\"#000000\" fill-rule=\"evenodd\" fill-opacity=\"1\" /><path clip-path=\"url(#clip680)\" d=\"M1904.5 1454.1 Q1900.89 1454.1 1899.06 1457.66 Q1897.25 1461.2 1897.25 1468.33 Q1897.25 1475.44 1899.06 1479.01 Q1900.89 1482.55 1904.5 1482.55 Q1908.13 1482.55 1909.94 1479.01 Q1911.77 1475.44 1911.77 1468.33 Q1911.77 1461.2 1909.94 1457.66 Q1908.13 1454.1 1904.5 1454.1 M1904.5 1450.39 Q1910.31 1450.39 1913.36 1455 Q1916.44 1459.58 1916.44 1468.33 Q1916.44 1477.06 1913.36 1481.67 Q1910.31 1486.25 1904.5 1486.25 Q1898.69 1486.25 1895.61 1481.67 Q1892.55 1477.06 1892.55 1468.33 Q1892.55 1459.58 1895.61 1455 Q1898.69 1450.39 1904.5 1450.39 Z\" fill=\"#000000\" fill-rule=\"evenodd\" fill-opacity=\"1\" /><path clip-path=\"url(#clip680)\" d=\"M2268.02 1451.02 L2286.38 1451.02 L2286.38 1454.96 L2272.3 1454.96 L2272.3 1463.43 Q2273.32 1463.08 2274.34 1462.92 Q2275.36 1462.73 2276.38 1462.73 Q2282.16 1462.73 2285.54 1465.9 Q2288.92 1469.08 2288.92 1474.49 Q2288.92 1480.07 2285.45 1483.17 Q2281.98 1486.25 2275.66 1486.25 Q2273.48 1486.25 2271.22 1485.88 Q2268.97 1485.51 2266.56 1484.77 L2266.56 1480.07 Q2268.65 1481.2 2270.87 1481.76 Q2273.09 1482.32 2275.57 1482.32 Q2279.57 1482.32 2281.91 1480.21 Q2284.25 1478.1 2284.25 1474.49 Q2284.25 1470.88 2281.91 1468.77 Q2279.57 1466.67 2275.57 1466.67 Q2273.69 1466.67 2271.82 1467.08 Q2269.97 1467.5 2268.02 1468.38 L2268.02 1451.02 Z\" fill=\"#000000\" fill-rule=\"evenodd\" fill-opacity=\"1\" /><path clip-path=\"url(#clip680)\" d=\"M2308.14 1454.1 Q2304.53 1454.1 2302.7 1457.66 Q2300.89 1461.2 2300.89 1468.33 Q2300.89 1475.44 2302.7 1479.01 Q2304.53 1482.55 2308.14 1482.55 Q2311.77 1482.55 2313.58 1479.01 Q2315.41 1475.44 2315.41 1468.33 Q2315.41 1461.2 2313.58 1457.66 Q2311.77 1454.1 2308.14 1454.1 M2308.14 1450.39 Q2313.95 1450.39 2317 1455 Q2320.08 1459.58 2320.08 1468.33 Q2320.08 1477.06 2317 1481.67 Q2313.95 1486.25 2308.14 1486.25 Q2302.33 1486.25 2299.25 1481.67 Q2296.19 1477.06 2296.19 1468.33 Q2296.19 1459.58 2299.25 1455 Q2302.33 1450.39 2308.14 1450.39 Z\" fill=\"#000000\" fill-rule=\"evenodd\" fill-opacity=\"1\" /><path clip-path=\"url(#clip680)\" d=\"M1142.54 1539.37 L1133.27 1539.37 L1130.6 1550 L1139.93 1550 L1142.54 1539.37 M1137.76 1521.26 L1134.45 1534.46 L1143.74 1534.46 L1147.09 1521.26 L1152.18 1521.26 L1148.9 1534.46 L1158.83 1534.46 L1158.83 1539.37 L1147.66 1539.37 L1145.05 1550 L1155.17 1550 L1155.17 1554.87 L1143.81 1554.87 L1140.5 1568.04 L1135.41 1568.04 L1138.68 1554.87 L1129.36 1554.87 L1126.08 1568.04 L1120.96 1568.04 L1124.27 1554.87 L1114.24 1554.87 L1114.24 1550 L1125.44 1550 L1128.12 1539.37 L1117.87 1539.37 L1117.87 1534.46 L1129.36 1534.46 L1132.6 1521.26 L1137.76 1521.26 Z\" fill=\"#000000\" fill-rule=\"evenodd\" fill-opacity=\"1\" /><path clip-path=\"url(#clip680)\" d=\"M1213.42 1533.45 L1213.42 1538.98 Q1210.93 1537.71 1208.26 1537.07 Q1205.59 1536.44 1202.72 1536.44 Q1198.36 1536.44 1196.17 1537.77 Q1194 1539.11 1194 1541.79 Q1194 1543.82 1195.56 1545 Q1197.12 1546.15 1201.83 1547.2 L1203.84 1547.64 Q1210.08 1548.98 1212.69 1551.43 Q1215.33 1553.85 1215.33 1558.21 Q1215.33 1563.17 1211.38 1566.07 Q1207.47 1568.97 1200.59 1568.97 Q1197.73 1568.97 1194.61 1568.39 Q1191.52 1567.85 1188.08 1566.74 L1188.08 1560.69 Q1191.33 1562.38 1194.48 1563.24 Q1197.63 1564.07 1200.72 1564.07 Q1204.86 1564.07 1207.08 1562.66 Q1209.31 1561.23 1209.31 1558.65 Q1209.31 1556.27 1207.69 1554.99 Q1206.1 1553.72 1200.65 1552.54 L1198.62 1552.07 Q1193.17 1550.92 1190.76 1548.56 Q1188.34 1546.18 1188.34 1542.04 Q1188.34 1537.01 1191.9 1534.27 Q1195.47 1531.54 1202.02 1531.54 Q1205.27 1531.54 1208.13 1532.01 Q1211 1532.49 1213.42 1533.45 Z\" fill=\"#000000\" fill-rule=\"evenodd\" fill-opacity=\"1\" /><path clip-path=\"url(#clip680)\" d=\"M1250.31 1533.76 L1250.31 1539.24 Q1247.82 1537.87 1245.31 1537.2 Q1242.83 1536.5 1240.28 1536.5 Q1234.58 1536.5 1231.43 1540.13 Q1228.28 1543.73 1228.28 1550.25 Q1228.28 1556.78 1231.43 1560.4 Q1234.58 1564 1240.28 1564 Q1242.83 1564 1245.31 1563.33 Q1247.82 1562.63 1250.31 1561.26 L1250.31 1566.68 Q1247.86 1567.82 1245.21 1568.39 Q1242.6 1568.97 1239.64 1568.97 Q1231.59 1568.97 1226.85 1563.91 Q1222.11 1558.85 1222.11 1550.25 Q1222.11 1541.53 1226.88 1536.53 Q1231.69 1531.54 1240.03 1531.54 Q1242.73 1531.54 1245.31 1532.11 Q1247.89 1532.65 1250.31 1533.76 Z\" fill=\"#000000\" fill-rule=\"evenodd\" fill-opacity=\"1\" /><path clip-path=\"url(#clip680)\" d=\"M1290.98 1548.76 L1290.98 1551.62 L1264.06 1551.62 Q1264.44 1557.67 1267.68 1560.85 Q1270.96 1564 1276.79 1564 Q1280.16 1564 1283.31 1563.17 Q1286.5 1562.35 1289.61 1560.69 L1289.61 1566.23 Q1286.46 1567.57 1283.15 1568.27 Q1279.84 1568.97 1276.44 1568.97 Q1267.91 1568.97 1262.91 1564 Q1257.95 1559.04 1257.95 1550.57 Q1257.95 1541.82 1262.66 1536.69 Q1267.4 1531.54 1275.42 1531.54 Q1282.61 1531.54 1286.78 1536.18 Q1290.98 1540.8 1290.98 1548.76 M1285.13 1547.04 Q1285.06 1542.23 1282.42 1539.37 Q1279.81 1536.5 1275.48 1536.5 Q1270.58 1536.5 1267.62 1539.27 Q1264.69 1542.04 1264.25 1547.07 L1285.13 1547.04 Z\" fill=\"#000000\" fill-rule=\"evenodd\" fill-opacity=\"1\" /><path clip-path=\"url(#clip680)\" d=\"M1330.23 1546.53 L1330.23 1568.04 L1324.37 1568.04 L1324.37 1546.72 Q1324.37 1541.66 1322.4 1539.14 Q1320.42 1536.63 1316.48 1536.63 Q1311.74 1536.63 1309 1539.65 Q1306.26 1542.68 1306.26 1547.9 L1306.26 1568.04 L1300.37 1568.04 L1300.37 1532.4 L1306.26 1532.4 L1306.26 1537.93 Q1308.36 1534.72 1311.19 1533.13 Q1314.06 1531.54 1317.78 1531.54 Q1323.93 1531.54 1327.08 1535.36 Q1330.23 1539.14 1330.23 1546.53 Z\" fill=\"#000000\" fill-rule=\"evenodd\" fill-opacity=\"1\" /><path clip-path=\"url(#clip680)\" d=\"M1358.11 1550.12 Q1351.01 1550.12 1348.27 1551.75 Q1345.54 1553.37 1345.54 1557.29 Q1345.54 1560.4 1347.57 1562.25 Q1349.64 1564.07 1353.18 1564.07 Q1358.05 1564.07 1360.97 1560.63 Q1363.93 1557.16 1363.93 1551.43 L1363.93 1550.12 L1358.11 1550.12 M1369.79 1547.71 L1369.79 1568.04 L1363.93 1568.04 L1363.93 1562.63 Q1361.93 1565.88 1358.94 1567.44 Q1355.95 1568.97 1351.62 1568.97 Q1346.14 1568.97 1342.9 1565.91 Q1339.68 1562.82 1339.68 1557.67 Q1339.68 1551.65 1343.69 1548.6 Q1347.73 1545.54 1355.72 1545.54 L1363.93 1545.54 L1363.93 1544.97 Q1363.93 1540.93 1361.26 1538.73 Q1358.62 1536.5 1353.81 1536.5 Q1350.76 1536.5 1347.86 1537.23 Q1344.96 1537.97 1342.29 1539.43 L1342.29 1534.02 Q1345.51 1532.78 1348.53 1532.17 Q1351.55 1531.54 1354.42 1531.54 Q1362.15 1531.54 1365.97 1535.55 Q1369.79 1539.56 1369.79 1547.71 Z\" fill=\"#000000\" fill-rule=\"evenodd\" fill-opacity=\"1\" /><path clip-path=\"url(#clip680)\" d=\"M1402.51 1537.87 Q1401.52 1537.3 1400.35 1537.04 Q1399.2 1536.76 1397.8 1536.76 Q1392.83 1536.76 1390.16 1540 Q1387.52 1543.22 1387.52 1549.27 L1387.52 1568.04 L1381.63 1568.04 L1381.63 1532.4 L1387.52 1532.4 L1387.52 1537.93 Q1389.37 1534.69 1392.33 1533.13 Q1395.29 1531.54 1399.52 1531.54 Q1400.12 1531.54 1400.86 1531.63 Q1401.59 1531.7 1402.48 1531.85 L1402.51 1537.87 Z\" fill=\"#000000\" fill-rule=\"evenodd\" fill-opacity=\"1\" /><path clip-path=\"url(#clip680)\" d=\"M1408.65 1532.4 L1414.51 1532.4 L1414.51 1568.04 L1408.65 1568.04 L1408.65 1532.4 M1408.65 1518.52 L1414.51 1518.52 L1414.51 1525.93 L1408.65 1525.93 L1408.65 1518.52 Z\" fill=\"#000000\" fill-rule=\"evenodd\" fill-opacity=\"1\" /><path clip-path=\"url(#clip680)\" d=\"M1440.58 1536.5 Q1435.87 1536.5 1433.13 1540.19 Q1430.39 1543.85 1430.39 1550.25 Q1430.39 1556.65 1433.1 1560.34 Q1435.84 1564 1440.58 1564 Q1445.26 1564 1447.99 1560.31 Q1450.73 1556.62 1450.73 1550.25 Q1450.73 1543.92 1447.99 1540.23 Q1445.26 1536.5 1440.58 1536.5 M1440.58 1531.54 Q1448.22 1531.54 1452.58 1536.5 Q1456.94 1541.47 1456.94 1550.25 Q1456.94 1559 1452.58 1564 Q1448.22 1568.97 1440.58 1568.97 Q1432.91 1568.97 1428.55 1564 Q1424.22 1559 1424.22 1550.25 Q1424.22 1541.47 1428.55 1536.5 Q1432.91 1531.54 1440.58 1531.54 Z\" fill=\"#000000\" fill-rule=\"evenodd\" fill-opacity=\"1\" /><path clip-path=\"url(#clip680)\" d=\"M1489.37 1533.45 L1489.37 1538.98 Q1486.89 1537.71 1484.21 1537.07 Q1481.54 1536.44 1478.68 1536.44 Q1474.32 1536.44 1472.12 1537.77 Q1469.96 1539.11 1469.96 1541.79 Q1469.96 1543.82 1471.51 1545 Q1473.07 1546.15 1477.79 1547.2 L1479.79 1547.64 Q1486.03 1548.98 1488.64 1551.43 Q1491.28 1553.85 1491.28 1558.21 Q1491.28 1563.17 1487.33 1566.07 Q1483.42 1568.97 1476.54 1568.97 Q1473.68 1568.97 1470.56 1568.39 Q1467.47 1567.85 1464.04 1566.74 L1464.04 1560.69 Q1467.28 1562.38 1470.43 1563.24 Q1473.58 1564.07 1476.67 1564.07 Q1480.81 1564.07 1483.04 1562.66 Q1485.26 1561.23 1485.26 1558.65 Q1485.26 1556.27 1483.64 1554.99 Q1482.05 1553.72 1476.61 1552.54 L1474.57 1552.07 Q1469.13 1550.92 1466.71 1548.56 Q1464.29 1546.18 1464.29 1542.04 Q1464.29 1537.01 1467.85 1534.27 Q1471.42 1531.54 1477.98 1531.54 Q1481.22 1531.54 1484.09 1532.01 Q1486.95 1532.49 1489.37 1533.45 Z\" fill=\"#000000\" fill-rule=\"evenodd\" fill-opacity=\"1\" /><polyline clip-path=\"url(#clip683)\" style=\"stroke:#000000; stroke-linecap:round; stroke-linejoin:round; stroke-width:8; stroke-opacity:0.1; fill:none\" points=\"252.764,1070.92 2352.76,1070.92 \"/>\n",
       "<polyline clip-path=\"url(#clip683)\" style=\"stroke:#000000; stroke-linecap:round; stroke-linejoin:round; stroke-width:8; stroke-opacity:0.1; fill:none\" points=\"252.764,712.373 2352.76,712.373 \"/>\n",
       "<polyline clip-path=\"url(#clip683)\" style=\"stroke:#000000; stroke-linecap:round; stroke-linejoin:round; stroke-width:8; stroke-opacity:0.1; fill:none\" points=\"252.764,353.826 2352.76,353.826 \"/>\n",
       "<polyline clip-path=\"url(#clip680)\" style=\"stroke:#000000; stroke-linecap:round; stroke-linejoin:round; stroke-width:4; stroke-opacity:1; fill:none\" points=\"252.764,1423.18 252.764,47.2441 \"/>\n",
       "<polyline clip-path=\"url(#clip680)\" style=\"stroke:#000000; stroke-linecap:round; stroke-linejoin:round; stroke-width:4; stroke-opacity:1; fill:none\" points=\"252.764,1070.92 271.662,1070.92 \"/>\n",
       "<polyline clip-path=\"url(#clip680)\" style=\"stroke:#000000; stroke-linecap:round; stroke-linejoin:round; stroke-width:4; stroke-opacity:1; fill:none\" points=\"252.764,712.373 271.662,712.373 \"/>\n",
       "<polyline clip-path=\"url(#clip680)\" style=\"stroke:#000000; stroke-linecap:round; stroke-linejoin:round; stroke-width:4; stroke-opacity:1; fill:none\" points=\"252.764,353.826 271.662,353.826 \"/>\n",
       "<path clip-path=\"url(#clip680)\" d=\"M115.195 1090.71 L122.834 1090.71 L122.834 1064.35 L114.523 1066.01 L114.523 1061.76 L122.787 1060.09 L127.463 1060.09 L127.463 1090.71 L135.102 1090.71 L135.102 1094.65 L115.195 1094.65 L115.195 1090.71 Z\" fill=\"#000000\" fill-rule=\"evenodd\" fill-opacity=\"1\" /><path clip-path=\"url(#clip680)\" d=\"M154.546 1063.17 Q150.935 1063.17 149.107 1066.73 Q147.301 1070.27 147.301 1077.4 Q147.301 1084.51 149.107 1088.07 Q150.935 1091.62 154.546 1091.62 Q158.181 1091.62 159.986 1088.07 Q161.815 1084.51 161.815 1077.4 Q161.815 1070.27 159.986 1066.73 Q158.181 1063.17 154.546 1063.17 M154.546 1059.46 Q160.357 1059.46 163.412 1064.07 Q166.491 1068.65 166.491 1077.4 Q166.491 1086.13 163.412 1090.74 Q160.357 1095.32 154.546 1095.32 Q148.736 1095.32 145.658 1090.74 Q142.602 1086.13 142.602 1077.4 Q142.602 1068.65 145.658 1064.07 Q148.736 1059.46 154.546 1059.46 Z\" fill=\"#000000\" fill-rule=\"evenodd\" fill-opacity=\"1\" /><path clip-path=\"url(#clip680)\" d=\"M166.491 1053.56 L190.602 1053.56 L190.602 1056.76 L166.491 1056.76 L166.491 1053.56 Z\" fill=\"#000000\" fill-rule=\"evenodd\" fill-opacity=\"1\" /><path clip-path=\"url(#clip680)\" d=\"M207.398 1051.68 Q204.84 1051.68 203.335 1053.43 Q201.849 1055.18 201.849 1058.23 Q201.849 1061.26 203.335 1063.03 Q204.84 1064.77 207.398 1064.77 Q209.956 1064.77 211.441 1063.03 Q212.946 1061.26 212.946 1058.23 Q212.946 1055.18 211.441 1053.43 Q209.956 1051.68 207.398 1051.68 M214.94 1039.78 L214.94 1043.24 Q213.51 1042.56 212.043 1042.2 Q210.595 1041.85 209.166 1041.85 Q205.404 1041.85 203.41 1044.39 Q201.436 1046.93 201.153 1052.06 Q202.263 1050.42 203.937 1049.56 Q205.611 1048.67 207.623 1048.67 Q211.855 1048.67 214.3 1051.25 Q216.764 1053.81 216.764 1058.23 Q216.764 1062.55 214.206 1065.17 Q211.648 1067.78 207.398 1067.78 Q202.526 1067.78 199.95 1064.06 Q197.373 1060.32 197.373 1053.23 Q197.373 1046.57 200.533 1042.62 Q203.693 1038.65 209.015 1038.65 Q210.445 1038.65 211.893 1038.93 Q213.36 1039.21 214.94 1039.78 Z\" fill=\"#000000\" fill-rule=\"evenodd\" fill-opacity=\"1\" /><path clip-path=\"url(#clip680)\" d=\"M116.135 732.166 L123.774 732.166 L123.774 705.8 L115.464 707.467 L115.464 703.208 L123.728 701.541 L128.404 701.541 L128.404 732.166 L136.042 732.166 L136.042 736.101 L116.135 736.101 L116.135 732.166 Z\" fill=\"#000000\" fill-rule=\"evenodd\" fill-opacity=\"1\" /><path clip-path=\"url(#clip680)\" d=\"M155.487 704.62 Q151.876 704.62 150.047 708.184 Q148.241 711.726 148.241 718.856 Q148.241 725.962 150.047 729.527 Q151.876 733.069 155.487 733.069 Q159.121 733.069 160.927 729.527 Q162.755 725.962 162.755 718.856 Q162.755 711.726 160.927 708.184 Q159.121 704.62 155.487 704.62 M155.487 700.916 Q161.297 700.916 164.352 705.522 Q167.431 710.106 167.431 718.856 Q167.431 727.582 164.352 732.189 Q161.297 736.772 155.487 736.772 Q149.677 736.772 146.598 732.189 Q143.542 727.582 143.542 718.856 Q143.542 710.106 146.598 705.522 Q149.677 700.916 155.487 700.916 Z\" fill=\"#000000\" fill-rule=\"evenodd\" fill-opacity=\"1\" /><path clip-path=\"url(#clip680)\" d=\"M167.431 695.017 L191.543 695.017 L191.543 698.215 L167.431 698.215 L167.431 695.017 Z\" fill=\"#000000\" fill-rule=\"evenodd\" fill-opacity=\"1\" /><path clip-path=\"url(#clip680)\" d=\"M199.781 680.611 L214.695 680.611 L214.695 683.808 L203.26 683.808 L203.26 690.692 Q204.088 690.409 204.915 690.278 Q205.743 690.127 206.57 690.127 Q211.272 690.127 214.018 692.704 Q216.764 695.281 216.764 699.682 Q216.764 704.214 213.943 706.735 Q211.122 709.236 205.987 709.236 Q204.219 709.236 202.376 708.935 Q200.552 708.634 198.596 708.032 L198.596 704.214 Q200.288 705.136 202.094 705.587 Q203.899 706.039 205.912 706.039 Q209.166 706.039 211.065 704.327 Q212.965 702.616 212.965 699.682 Q212.965 696.748 211.065 695.036 Q209.166 693.325 205.912 693.325 Q204.388 693.325 202.865 693.663 Q201.36 694.002 199.781 694.716 L199.781 680.611 Z\" fill=\"#000000\" fill-rule=\"evenodd\" fill-opacity=\"1\" /><path clip-path=\"url(#clip680)\" d=\"M114.931 373.618 L122.57 373.618 L122.57 347.253 L114.26 348.919 L114.26 344.66 L122.524 342.993 L127.2 342.993 L127.2 373.618 L134.839 373.618 L134.839 377.553 L114.931 377.553 L114.931 373.618 Z\" fill=\"#000000\" fill-rule=\"evenodd\" fill-opacity=\"1\" /><path clip-path=\"url(#clip680)\" d=\"M154.283 346.072 Q150.672 346.072 148.843 349.637 Q147.038 353.179 147.038 360.308 Q147.038 367.415 148.843 370.979 Q150.672 374.521 154.283 374.521 Q157.917 374.521 159.723 370.979 Q161.552 367.415 161.552 360.308 Q161.552 353.179 159.723 349.637 Q157.917 346.072 154.283 346.072 M154.283 342.369 Q160.093 342.369 163.149 346.975 Q166.227 351.558 166.227 360.308 Q166.227 369.035 163.149 373.641 Q160.093 378.225 154.283 378.225 Q148.473 378.225 145.394 373.641 Q142.339 369.035 142.339 360.308 Q142.339 351.558 145.394 346.975 Q148.473 342.369 154.283 342.369 Z\" fill=\"#000000\" fill-rule=\"evenodd\" fill-opacity=\"1\" /><path clip-path=\"url(#clip680)\" d=\"M166.227 336.47 L190.339 336.47 L190.339 339.667 L166.227 339.667 L166.227 336.47 Z\" fill=\"#000000\" fill-rule=\"evenodd\" fill-opacity=\"1\" /><path clip-path=\"url(#clip680)\" d=\"M208.978 325.373 L199.386 340.363 L208.978 340.363 L208.978 325.373 M207.981 322.063 L212.758 322.063 L212.758 340.363 L216.764 340.363 L216.764 343.523 L212.758 343.523 L212.758 350.143 L208.978 350.143 L208.978 343.523 L196.301 343.523 L196.301 339.855 L207.981 322.063 Z\" fill=\"#000000\" fill-rule=\"evenodd\" fill-opacity=\"1\" /><path clip-path=\"url(#clip680)\" d=\"M18.1528 797.297 Q18.7647 797.297 19.28 797.426 L30.7453 799.229 Q31.6149 799.326 31.9369 799.519 Q32.259 799.68 32.259 800.195 Q32.259 801 31.4216 801 Q30.9385 801 30.1656 800.807 Q26.5263 800.26 24.8838 800.26 Q23.7888 800.26 22.9837 800.485 Q22.1463 800.678 21.5666 801 Q20.9869 801.29 20.6004 801.967 Q20.214 802.643 19.9885 803.287 Q19.7631 803.931 19.6665 805.091 Q19.5377 806.25 19.5054 807.248 Q19.4732 808.247 19.4732 809.889 Q19.4732 813.464 19.6021 814.044 Q19.7631 814.656 20.2462 814.978 Q20.6971 815.268 22.0497 815.59 L57.0575 824.35 L58.4423 824.607 Q59.2153 824.607 59.4729 824.124 Q59.7306 823.641 59.8916 822.16 Q60.0526 820.034 60.0526 817.941 Q60.0526 817.876 60.0526 817.748 Q60.0526 817.039 60.0848 816.749 Q60.0848 816.459 60.1492 816.169 Q60.2137 815.88 60.3747 815.815 Q60.5035 815.719 60.7612 815.719 Q61.3731 815.719 61.6951 815.976 Q61.985 816.234 62.0494 816.491 Q62.0816 816.717 62.0816 817.168 Q62.0816 818.07 62.0172 820.002 Q61.9528 821.934 61.9528 822.9 L61.8884 828.375 L61.9528 833.979 Q61.9528 834.849 62.0172 836.685 Q62.0816 838.52 62.0816 839.39 Q62.0816 840.517 61.2764 840.517 Q60.3747 840.517 60.2137 840.098 Q60.0526 839.648 60.0526 837.747 Q60.0526 835.074 59.9238 833.625 Q59.795 832.176 59.3441 831.403 Q58.8932 830.598 58.4423 830.372 Q57.9592 830.147 56.8642 829.889 L21.6632 821.033 Q20.8903 820.775 20.2784 820.775 Q19.9563 820.775 19.8275 820.871 Q19.6987 820.936 19.6021 821.355 Q19.4732 821.773 19.4732 822.643 L19.4732 825.219 Q19.4732 827.86 19.6021 829.503 Q19.6987 831.113 20.1818 832.659 Q20.6649 834.173 21.3412 835.074 Q22.0175 835.944 23.4024 836.91 Q24.7872 837.876 26.4619 838.585 Q28.1366 839.261 30.8741 840.227 Q31.7759 840.549 32.0335 840.743 Q32.259 840.904 32.259 841.354 Q32.259 841.676 32.0657 841.934 Q31.8403 842.16 31.5504 842.16 Q30.4876 841.838 30.3588 841.773 L18.7325 837.812 Q17.7985 837.49 17.6375 837.2 Q17.4443 836.878 17.4443 835.686 L17.4443 799.1 Q17.4443 798.521 17.4443 798.327 Q17.4443 798.134 17.5087 797.812 Q17.5731 797.49 17.7341 797.393 Q17.8952 797.297 18.1528 797.297 Z\" fill=\"#000000\" fill-rule=\"evenodd\" fill-opacity=\"1\" /><path clip-path=\"url(#clip680)\" d=\"M68.0889 773.699 Q71.3353 773.699 74.514 775.345 Q77.6702 776.968 79.654 779.583 Q81.6379 782.176 81.6379 784.836 Q81.6379 787.429 79.654 789.075 Q77.6476 790.698 74.3787 790.698 Q73.229 790.698 72.4174 790.562 Q71.6058 790.427 69.7121 789.954 L54.6526 786.166 Q51.8346 785.513 51.8121 785.513 Q51.5415 785.513 51.4063 785.625 Q51.2485 785.715 51.1358 786.256 Q51.023 786.798 51.023 787.835 Q51.023 788.263 51.0005 788.466 Q50.9779 788.646 50.8652 788.804 Q50.73 788.939 50.4594 788.939 Q50.0762 788.939 49.8733 788.781 Q49.6478 788.601 49.6028 788.466 Q49.5577 788.331 49.5351 788.06 Q49.5126 787.677 49.3999 786.392 Q49.2646 785.107 49.1744 784.002 Q49.0842 782.897 49.0842 782.424 Q49.0842 782.153 49.2195 782.018 Q49.3322 781.86 49.4675 781.86 L49.5802 781.838 L63.4899 785.242 Q60.717 782.559 60.717 779.831 Q60.717 777.104 62.8136 775.413 Q64.9102 773.699 68.0889 773.699 M66.0599 777.036 Q63.9183 777.036 62.8361 777.848 Q61.7315 778.637 61.7315 779.944 Q61.7315 781.049 62.5656 782.492 Q63.3997 783.934 65.4287 785.467 Q65.812 785.761 66.0374 785.873 Q66.2628 785.963 67.0293 786.166 L71.2902 787.181 Q74.1984 787.925 75.9568 787.925 Q78.3465 787.925 79.4737 787.046 Q80.6009 786.166 80.6009 784.836 Q80.6009 783.438 79.361 781.973 Q78.121 780.508 75.8666 779.381 Q74.3787 778.682 71.1775 777.87 Q67.9537 777.036 66.0599 777.036 Z\" fill=\"#000000\" fill-rule=\"evenodd\" fill-opacity=\"1\" /><path clip-path=\"url(#clip680)\" d=\"M75.7765 753.531 Q75.9794 753.351 76.1822 753.351 Q76.3851 753.351 76.9713 753.802 Q77.5574 754.23 78.3465 755.154 Q79.1355 756.078 79.8795 757.273 Q80.6234 758.468 81.1194 760.227 Q81.6379 761.985 81.6379 763.834 Q81.6379 767.148 79.2708 769.132 Q76.9037 771.093 73.2741 771.093 Q70.952 771.093 68.9005 770.326 Q66.8264 769.56 65.3611 768.32 Q63.8957 767.057 62.8361 765.479 Q61.754 763.879 61.2355 762.21 Q60.717 760.542 60.717 758.987 Q60.717 756.71 61.8667 755.38 Q63.0165 754.05 64.6397 754.05 Q65.0229 754.05 65.4963 754.162 Q65.9698 754.252 66.7137 754.568 Q67.4577 754.861 68.2016 755.628 Q68.923 756.394 69.3965 757.521 Q70.456 760.024 70.456 764.578 L70.456 767.035 Q73.3642 767.756 75.2579 767.756 Q76.0019 767.756 76.7684 767.621 Q77.5124 767.486 78.4592 767.125 Q79.4061 766.742 80.0147 765.885 Q80.6009 765.006 80.6009 763.743 Q80.6009 763.338 80.5783 762.909 Q80.5558 762.458 80.3078 761.331 Q80.0598 760.182 79.6315 759.167 Q79.2032 758.153 78.2789 756.868 Q77.332 755.56 76.047 754.523 Q75.5736 754.162 75.5736 753.914 Q75.5736 753.711 75.7765 753.531 M64.6397 755.583 Q63.3997 755.583 62.5656 756.507 Q61.7315 757.409 61.7315 758.987 Q61.7315 759.483 61.8442 760.091 Q61.9569 760.7 62.4303 761.715 Q62.9038 762.706 63.6928 763.586 Q64.4593 764.465 65.9698 765.344 Q67.4577 766.223 69.4416 766.742 L69.4416 764.848 Q69.4416 764.194 69.4416 763.721 Q69.419 763.248 69.3288 762.21 Q69.2387 761.151 69.0809 760.384 Q68.9005 759.618 68.5398 758.649 Q68.1791 757.679 67.7057 757.07 Q67.2097 756.439 66.4207 756.011 Q65.6316 755.583 64.6397 755.583 Z\" fill=\"#000000\" fill-rule=\"evenodd\" fill-opacity=\"1\" /><path clip-path=\"url(#clip680)\" d=\"M74.514 725.691 Q74.6943 725.691 75.3932 725.894 Q76.0921 726.097 77.1742 726.593 Q78.2563 727.066 79.2482 727.72 Q80.2176 728.374 80.9391 729.456 Q81.6379 730.516 81.6379 731.733 Q81.6379 733.356 80.5558 734.438 Q79.4737 735.52 77.8505 735.52 Q76.9487 735.52 75.7088 735.047 Q67.7057 732.049 64.9553 732.049 Q61.7315 732.049 61.7315 734.551 Q61.7315 735.791 62.2049 736.963 Q62.6558 738.113 63.287 738.902 Q63.9183 739.691 64.7975 740.412 Q65.6542 741.111 66.2403 741.472 Q66.8039 741.81 67.3675 742.081 L69.667 742.667 Q70.2982 742.802 72.7555 743.456 L76.9262 744.47 Q80.0373 745.192 80.3304 745.35 Q80.9616 745.575 81.2998 746.071 Q81.6379 746.567 81.6379 747.063 Q81.6379 747.627 81.2998 748.01 Q80.9616 748.393 80.3755 748.393 Q80.2853 748.393 79.9471 748.325 Q79.609 748.258 79.1355 748.145 Q78.6621 748.032 78.3916 747.987 L67.7282 745.304 Q65.7894 744.808 65.1807 744.696 Q64.5495 744.561 63.8506 744.561 Q61.7315 744.561 61.7315 746.003 Q61.7315 747.176 63.1292 747.942 Q64.5269 748.709 67.2322 749.362 Q67.9762 749.565 68.134 749.701 Q68.2918 749.813 68.2918 750.151 Q68.2693 750.715 67.8184 750.715 Q67.7057 750.715 66.9617 750.535 Q66.2178 750.354 65.1582 750.016 Q64.0761 749.655 63.3547 749.317 Q62.8136 749.024 62.5656 748.866 Q62.2951 748.686 61.7766 748.258 Q61.2355 747.807 60.9875 747.221 Q60.717 746.612 60.717 745.868 Q60.717 744.2 61.7991 742.982 Q62.8587 741.765 64.7298 741.607 Q60.717 738.609 60.717 734.416 Q60.717 731.936 62.0246 730.516 Q63.3321 729.095 65.6542 729.095 Q66.1952 729.095 66.8941 729.208 Q67.5704 729.298 68.4271 729.524 Q69.2838 729.726 69.9375 729.907 Q70.5913 730.087 71.6509 730.448 Q72.6879 730.809 73.1388 730.966 Q73.5897 731.124 74.6492 731.507 Q75.6863 731.868 75.799 731.913 Q77.8956 732.747 79.0904 732.747 Q79.8795 732.747 80.2402 732.499 Q80.6009 732.229 80.6009 731.643 Q80.6009 730.065 79.0454 728.892 Q77.4673 727.698 74.8972 726.931 Q74.3336 726.751 74.1984 726.66 Q74.0631 726.548 74.0631 726.232 Q74.0631 725.691 74.514 725.691 Z\" fill=\"#000000\" fill-rule=\"evenodd\" fill-opacity=\"1\" /><path clip-path=\"url(#clip680)\" d=\"M49.5802 700.206 L76.2724 706.856 Q77.4673 707.127 78.4817 707.127 Q80.6009 707.127 80.6009 705.752 Q80.6009 705.075 80.1726 704.534 Q79.7442 703.993 78.8425 703.565 Q77.9407 703.137 77.1066 702.866 Q76.2499 702.595 74.8972 702.235 Q74.3562 702.122 74.2209 702.032 Q74.0631 701.919 74.0631 701.604 Q74.0631 701.04 74.514 701.04 Q77.4222 701.649 79.0904 702.438 Q81.6379 703.7 81.6379 705.842 Q81.6379 707.465 80.646 708.615 Q79.654 709.765 78.1661 710.035 Q81.6379 712.988 81.6379 716.054 Q81.6379 718.76 79.5864 720.473 Q77.5124 722.186 74.2435 722.186 Q70.952 722.186 67.7958 720.563 Q64.6397 718.917 62.6783 716.325 Q60.717 713.732 60.717 711.072 Q60.717 708.254 63.6703 706.811 L52.7138 704.038 L51.8121 703.903 Q51.5415 703.903 51.4063 704.016 Q51.2485 704.106 51.1358 704.647 Q51.023 705.166 51.023 706.203 Q51.023 706.631 51.0005 706.834 Q50.9779 707.014 50.8652 707.172 Q50.73 707.33 50.4594 707.33 Q49.6704 707.33 49.5802 706.676 Q49.0842 702.347 49.0842 700.814 Q49.0842 700.544 49.2195 700.386 Q49.3322 700.228 49.4675 700.228 L49.5802 700.206 M65.7894 707.375 Q65.5865 707.375 65.0229 707.533 Q64.4593 707.69 63.6703 708.051 Q62.8812 708.412 62.3176 709.201 Q61.7315 709.967 61.7315 711.004 Q61.7315 712.402 62.9263 713.868 Q64.1212 715.31 66.1501 716.37 Q67.7733 717.182 71.1775 718.061 Q74.5816 718.917 76.2724 718.917 Q77.3095 718.917 78.2338 718.692 Q79.1355 718.444 79.8795 717.745 Q80.6009 717.046 80.6009 715.964 Q80.6009 713.326 77.332 710.734 Q76.7684 710.238 76.543 710.125 Q76.295 709.99 75.6186 709.81 L66.5785 707.51 Q65.9021 707.375 65.7894 707.375 Z\" fill=\"#000000\" fill-rule=\"evenodd\" fill-opacity=\"1\" /><path clip-path=\"url(#clip680)\" d=\"M75.7765 680.682 Q75.9794 680.501 76.1822 680.501 Q76.3851 680.501 76.9713 680.952 Q77.5574 681.381 78.3465 682.305 Q79.1355 683.229 79.8795 684.424 Q80.6234 685.619 81.1194 687.377 Q81.6379 689.136 81.6379 690.984 Q81.6379 694.298 79.2708 696.282 Q76.9037 698.243 73.2741 698.243 Q70.952 698.243 68.9005 697.477 Q66.8264 696.711 65.3611 695.471 Q63.8957 694.208 62.8361 692.63 Q61.754 691.029 61.2355 689.361 Q60.717 687.693 60.717 686.137 Q60.717 683.86 61.8667 682.53 Q63.0165 681.2 64.6397 681.2 Q65.0229 681.2 65.4963 681.313 Q65.9698 681.403 66.7137 681.719 Q67.4577 682.012 68.2016 682.778 Q68.923 683.545 69.3965 684.672 Q70.456 687.174 70.456 691.728 L70.456 694.186 Q73.3642 694.907 75.2579 694.907 Q76.0019 694.907 76.7684 694.772 Q77.5124 694.636 78.4592 694.276 Q79.4061 693.892 80.0147 693.036 Q80.6009 692.157 80.6009 690.894 Q80.6009 690.488 80.5783 690.06 Q80.5558 689.609 80.3078 688.482 Q80.0598 687.332 79.6315 686.318 Q79.2032 685.303 78.2789 684.018 Q77.332 682.711 76.047 681.674 Q75.5736 681.313 75.5736 681.065 Q75.5736 680.862 75.7765 680.682 M64.6397 682.733 Q63.3997 682.733 62.5656 683.657 Q61.7315 684.559 61.7315 686.137 Q61.7315 686.633 61.8442 687.242 Q61.9569 687.851 62.4303 688.865 Q62.9038 689.857 63.6928 690.736 Q64.4593 691.616 65.9698 692.495 Q67.4577 693.374 69.4416 693.892 L69.4416 691.999 Q69.4416 691.345 69.4416 690.872 Q69.419 690.398 69.3288 689.361 Q69.2387 688.302 69.0809 687.535 Q68.9005 686.769 68.5398 685.799 Q68.1791 684.83 67.7057 684.221 Q67.2097 683.59 66.4207 683.161 Q65.6316 682.733 64.6397 682.733 Z\" fill=\"#000000\" fill-rule=\"evenodd\" fill-opacity=\"1\" /><path clip-path=\"url(#clip680)\" d=\"M63.7154 659.064 Q64.9102 659.064 65.6767 659.853 Q66.4432 660.619 66.4432 661.611 Q66.4432 662.468 65.9472 662.919 Q65.4513 663.37 64.82 663.37 Q63.9183 663.37 63.1743 662.671 Q62.4303 661.972 62.2725 660.958 Q61.7315 661.702 61.7315 662.896 Q61.7315 664.858 63.2419 666.594 Q63.9408 667.36 65.2258 668.194 Q66.4883 669.028 67.0293 669.186 L73.0486 670.652 Q73.7249 670.787 76.9713 671.621 Q80.1951 672.433 80.3304 672.5 Q80.9616 672.726 81.2998 673.222 Q81.6379 673.718 81.6379 674.214 Q81.6379 674.777 81.2998 675.16 Q80.9616 675.544 80.3755 675.544 Q80.2853 675.544 79.9471 675.476 Q79.609 675.408 79.1355 675.296 Q78.6621 675.183 78.3916 675.138 L67.7282 672.455 Q65.7894 671.959 65.1807 671.846 Q64.5495 671.711 63.8506 671.711 Q62.6332 671.711 62.1824 672.094 Q61.7315 672.478 61.7315 673.154 Q61.7315 674.326 63.1292 675.093 Q64.5269 675.859 67.2322 676.513 Q67.9762 676.716 68.134 676.851 Q68.2918 676.964 68.2918 677.302 Q68.2693 677.866 67.8184 677.866 Q67.7057 677.866 66.9843 677.685 Q66.2403 677.505 65.1582 677.167 Q64.0535 676.806 63.3547 676.423 Q62.8812 676.197 62.5656 675.995 Q62.25 675.792 61.754 675.386 Q61.2581 674.98 60.9875 674.371 Q60.717 673.763 60.717 673.019 Q60.717 671.396 61.7089 670.246 Q62.7009 669.073 64.2564 668.803 Q63.4448 668.239 62.746 667.54 Q62.0246 666.842 61.3708 665.557 Q60.717 664.272 60.717 662.896 Q60.717 661.183 61.5962 660.123 Q62.4529 659.064 63.7154 659.064 Z\" fill=\"#000000\" fill-rule=\"evenodd\" fill-opacity=\"1\" /><path clip-path=\"url(#clip680)\" d=\"M64.6848 639.742 Q65.9472 639.742 66.6235 640.373 Q67.2773 641.004 67.2773 641.861 Q67.2773 642.56 66.8715 642.943 Q66.4657 643.304 65.9247 643.304 Q65.1356 643.304 64.5044 642.673 Q63.8732 642.019 63.8506 641.072 Q63.0165 641.388 62.5205 642.222 Q62.002 643.056 61.8667 643.8 Q61.7315 644.521 61.7315 645.243 Q61.7315 646.663 62.1824 647.745 Q62.6332 648.827 63.3321 649.368 Q64.0084 649.909 64.6622 650.157 Q65.316 650.405 65.8796 650.405 Q66.3756 650.405 66.7814 650.293 Q67.1646 650.157 67.4577 649.842 Q67.7282 649.526 67.9086 649.301 Q68.0889 649.053 68.2467 648.512 Q68.4045 647.971 68.4722 647.745 Q68.5173 647.52 68.6525 646.888 Q68.923 645.581 69.0809 644.995 Q69.2161 644.409 69.5994 643.642 Q69.9826 642.853 70.5913 642.267 Q72.0116 640.847 73.9729 640.847 Q74.6943 640.847 75.5736 641.095 Q76.4528 641.32 77.5574 641.974 Q78.6621 642.628 79.5413 643.619 Q80.4205 644.611 81.0292 646.325 Q81.6379 648.016 81.6379 650.135 Q81.6379 653.088 80.398 654.914 Q79.1355 656.74 77.1516 656.74 Q75.7088 656.74 74.9198 655.951 Q74.1082 655.162 74.1082 654.148 Q74.1082 653.381 74.5365 652.908 Q74.9423 652.434 75.7088 652.434 Q76.7459 652.434 77.5349 653.268 Q78.3239 654.103 78.1661 655.342 Q80.6009 654.283 80.6009 650.09 Q80.6009 648.512 80.1951 647.294 Q79.7668 646.054 79.1806 645.378 Q78.5719 644.679 77.828 644.228 Q77.084 643.777 76.5204 643.642 Q75.9568 643.484 75.5285 643.484 Q74.7845 643.484 74.2209 643.777 Q73.6573 644.07 73.3417 644.476 Q73.0035 644.859 72.733 645.603 Q72.4399 646.325 72.3272 646.843 Q72.2145 647.362 72.0341 648.286 Q71.944 648.714 71.8989 648.985 Q71.8312 649.256 71.6509 649.819 Q71.448 650.36 71.2451 650.743 Q71.0422 651.104 70.6815 651.578 Q70.3208 652.051 69.8924 652.344 Q69.4641 652.637 68.8329 652.84 Q68.2016 653.043 67.4577 653.043 Q66.7814 653.043 65.9698 652.84 Q65.1582 652.615 64.2113 652.051 Q63.2645 651.465 62.498 650.631 Q61.7315 649.797 61.2355 648.399 Q60.717 646.979 60.717 645.243 Q60.717 642.718 61.8893 641.23 Q63.039 639.742 64.6848 639.742 Z\" fill=\"#000000\" fill-rule=\"evenodd\" fill-opacity=\"1\" /><polyline clip-path=\"url(#clip683)\" style=\"stroke:#000000; stroke-linecap:round; stroke-linejoin:round; stroke-width:4; stroke-opacity:1; fill:none\" stroke-dasharray=\"16, 8, 2, 8\" points=\"312.198,619.86 352.629,804.931 393.06,656.423 433.491,917.631 473.922,254.307 514.353,1110.44 554.784,634.03 595.215,440.377 635.647,571.879 676.078,86.1857 716.509,1384.24 756.94,362.298 797.371,513.813 837.802,671.986 878.233,555.314 918.664,368.164 959.095,457.306 999.527,763.269 1039.96,471.897 1080.39,376.908 1120.82,607.892 1161.25,842.141 1201.68,931.126 1242.11,556.527 1282.54,518.844 1322.98,469.562 1363.41,834.297 1403.84,1178.48 1444.27,823 1484.7,803.98 1525.13,1091.8 \"/>\n",
       "<polyline clip-path=\"url(#clip683)\" style=\"stroke:#000000; stroke-linecap:round; stroke-linejoin:round; stroke-width:4; stroke-opacity:1; fill:none\" stroke-dasharray=\"16, 8, 2, 8\" points=\"1686.86,949.088 1727.29,91.2346 1767.72,836.372 1808.15,699.811 1848.58,873.545 1889.01,859.063 1929.44,351.594 1969.87,727.974 2010.3,940.106 2050.74,786.801 2091.17,913.841 2131.6,134.204 2172.03,902.295 2212.46,1130.2 2252.89,847.929 2293.32,518.661 \"/>\n",
       "<path clip-path=\"url(#clip683)\" d=\"M300.198 607.86 L300.198 631.86 L324.198 631.86 L324.198 607.86 L300.198 607.86 Z\" fill=\"#000000\" fill-rule=\"evenodd\" fill-opacity=\"1\" stroke=\"none\"/>\n",
       "<path clip-path=\"url(#clip683)\" d=\"M340.629 792.931 L340.629 816.931 L364.629 816.931 L364.629 792.931 L340.629 792.931 Z\" fill=\"#000000\" fill-rule=\"evenodd\" fill-opacity=\"1\" stroke=\"none\"/>\n",
       "<path clip-path=\"url(#clip683)\" d=\"M381.06 644.423 L381.06 668.423 L405.06 668.423 L405.06 644.423 L381.06 644.423 Z\" fill=\"#000000\" fill-rule=\"evenodd\" fill-opacity=\"1\" stroke=\"none\"/>\n",
       "<path clip-path=\"url(#clip683)\" d=\"M421.491 905.631 L421.491 929.631 L445.491 929.631 L445.491 905.631 L421.491 905.631 Z\" fill=\"#000000\" fill-rule=\"evenodd\" fill-opacity=\"1\" stroke=\"none\"/>\n",
       "<path clip-path=\"url(#clip683)\" d=\"M461.922 242.307 L461.922 266.307 L485.922 266.307 L485.922 242.307 L461.922 242.307 Z\" fill=\"#000000\" fill-rule=\"evenodd\" fill-opacity=\"1\" stroke=\"none\"/>\n",
       "<path clip-path=\"url(#clip683)\" d=\"M502.353 1098.44 L502.353 1122.44 L526.353 1122.44 L526.353 1098.44 L502.353 1098.44 Z\" fill=\"#000000\" fill-rule=\"evenodd\" fill-opacity=\"1\" stroke=\"none\"/>\n",
       "<path clip-path=\"url(#clip683)\" d=\"M542.784 622.03 L542.784 646.03 L566.784 646.03 L566.784 622.03 L542.784 622.03 Z\" fill=\"#000000\" fill-rule=\"evenodd\" fill-opacity=\"1\" stroke=\"none\"/>\n",
       "<path clip-path=\"url(#clip683)\" d=\"M583.215 428.377 L583.215 452.377 L607.215 452.377 L607.215 428.377 L583.215 428.377 Z\" fill=\"#000000\" fill-rule=\"evenodd\" fill-opacity=\"1\" stroke=\"none\"/>\n",
       "<path clip-path=\"url(#clip683)\" d=\"M623.647 559.879 L623.647 583.879 L647.647 583.879 L647.647 559.879 L623.647 559.879 Z\" fill=\"#000000\" fill-rule=\"evenodd\" fill-opacity=\"1\" stroke=\"none\"/>\n",
       "<path clip-path=\"url(#clip683)\" d=\"M664.078 74.1857 L664.078 98.1857 L688.078 98.1857 L688.078 74.1857 L664.078 74.1857 Z\" fill=\"#000000\" fill-rule=\"evenodd\" fill-opacity=\"1\" stroke=\"none\"/>\n",
       "<path clip-path=\"url(#clip683)\" d=\"M704.509 1372.24 L704.509 1396.24 L728.509 1396.24 L728.509 1372.24 L704.509 1372.24 Z\" fill=\"#000000\" fill-rule=\"evenodd\" fill-opacity=\"1\" stroke=\"none\"/>\n",
       "<path clip-path=\"url(#clip683)\" d=\"M744.94 350.298 L744.94 374.298 L768.94 374.298 L768.94 350.298 L744.94 350.298 Z\" fill=\"#000000\" fill-rule=\"evenodd\" fill-opacity=\"1\" stroke=\"none\"/>\n",
       "<path clip-path=\"url(#clip683)\" d=\"M785.371 501.813 L785.371 525.813 L809.371 525.813 L809.371 501.813 L785.371 501.813 Z\" fill=\"#000000\" fill-rule=\"evenodd\" fill-opacity=\"1\" stroke=\"none\"/>\n",
       "<path clip-path=\"url(#clip683)\" d=\"M825.802 659.986 L825.802 683.986 L849.802 683.986 L849.802 659.986 L825.802 659.986 Z\" fill=\"#000000\" fill-rule=\"evenodd\" fill-opacity=\"1\" stroke=\"none\"/>\n",
       "<path clip-path=\"url(#clip683)\" d=\"M866.233 543.314 L866.233 567.314 L890.233 567.314 L890.233 543.314 L866.233 543.314 Z\" fill=\"#000000\" fill-rule=\"evenodd\" fill-opacity=\"1\" stroke=\"none\"/>\n",
       "<path clip-path=\"url(#clip683)\" d=\"M906.664 356.164 L906.664 380.164 L930.664 380.164 L930.664 356.164 L906.664 356.164 Z\" fill=\"#000000\" fill-rule=\"evenodd\" fill-opacity=\"1\" stroke=\"none\"/>\n",
       "<path clip-path=\"url(#clip683)\" d=\"M947.095 445.306 L947.095 469.306 L971.095 469.306 L971.095 445.306 L947.095 445.306 Z\" fill=\"#000000\" fill-rule=\"evenodd\" fill-opacity=\"1\" stroke=\"none\"/>\n",
       "<path clip-path=\"url(#clip683)\" d=\"M987.527 751.269 L987.527 775.269 L1011.53 775.269 L1011.53 751.269 L987.527 751.269 Z\" fill=\"#000000\" fill-rule=\"evenodd\" fill-opacity=\"1\" stroke=\"none\"/>\n",
       "<path clip-path=\"url(#clip683)\" d=\"M1027.96 459.897 L1027.96 483.897 L1051.96 483.897 L1051.96 459.897 L1027.96 459.897 Z\" fill=\"#000000\" fill-rule=\"evenodd\" fill-opacity=\"1\" stroke=\"none\"/>\n",
       "<path clip-path=\"url(#clip683)\" d=\"M1068.39 364.908 L1068.39 388.908 L1092.39 388.908 L1092.39 364.908 L1068.39 364.908 Z\" fill=\"#000000\" fill-rule=\"evenodd\" fill-opacity=\"1\" stroke=\"none\"/>\n",
       "<path clip-path=\"url(#clip683)\" d=\"M1108.82 595.892 L1108.82 619.892 L1132.82 619.892 L1132.82 595.892 L1108.82 595.892 Z\" fill=\"#000000\" fill-rule=\"evenodd\" fill-opacity=\"1\" stroke=\"none\"/>\n",
       "<path clip-path=\"url(#clip683)\" d=\"M1149.25 830.141 L1149.25 854.141 L1173.25 854.141 L1173.25 830.141 L1149.25 830.141 Z\" fill=\"#000000\" fill-rule=\"evenodd\" fill-opacity=\"1\" stroke=\"none\"/>\n",
       "<path clip-path=\"url(#clip683)\" d=\"M1189.68 919.126 L1189.68 943.126 L1213.68 943.126 L1213.68 919.126 L1189.68 919.126 Z\" fill=\"#000000\" fill-rule=\"evenodd\" fill-opacity=\"1\" stroke=\"none\"/>\n",
       "<path clip-path=\"url(#clip683)\" d=\"M1230.11 544.527 L1230.11 568.527 L1254.11 568.527 L1254.11 544.527 L1230.11 544.527 Z\" fill=\"#000000\" fill-rule=\"evenodd\" fill-opacity=\"1\" stroke=\"none\"/>\n",
       "<path clip-path=\"url(#clip683)\" d=\"M1270.54 506.844 L1270.54 530.844 L1294.54 530.844 L1294.54 506.844 L1270.54 506.844 Z\" fill=\"#000000\" fill-rule=\"evenodd\" fill-opacity=\"1\" stroke=\"none\"/>\n",
       "<path clip-path=\"url(#clip683)\" d=\"M1310.98 457.562 L1310.98 481.562 L1334.98 481.562 L1334.98 457.562 L1310.98 457.562 Z\" fill=\"#000000\" fill-rule=\"evenodd\" fill-opacity=\"1\" stroke=\"none\"/>\n",
       "<path clip-path=\"url(#clip683)\" d=\"M1351.41 822.297 L1351.41 846.297 L1375.41 846.297 L1375.41 822.297 L1351.41 822.297 Z\" fill=\"#000000\" fill-rule=\"evenodd\" fill-opacity=\"1\" stroke=\"none\"/>\n",
       "<path clip-path=\"url(#clip683)\" d=\"M1391.84 1166.48 L1391.84 1190.48 L1415.84 1190.48 L1415.84 1166.48 L1391.84 1166.48 Z\" fill=\"#000000\" fill-rule=\"evenodd\" fill-opacity=\"1\" stroke=\"none\"/>\n",
       "<path clip-path=\"url(#clip683)\" d=\"M1432.27 811 L1432.27 835 L1456.27 835 L1456.27 811 L1432.27 811 Z\" fill=\"#000000\" fill-rule=\"evenodd\" fill-opacity=\"1\" stroke=\"none\"/>\n",
       "<path clip-path=\"url(#clip683)\" d=\"M1472.7 791.98 L1472.7 815.98 L1496.7 815.98 L1496.7 791.98 L1472.7 791.98 Z\" fill=\"#000000\" fill-rule=\"evenodd\" fill-opacity=\"1\" stroke=\"none\"/>\n",
       "<path clip-path=\"url(#clip683)\" d=\"M1513.13 1079.8 L1513.13 1103.8 L1537.13 1103.8 L1537.13 1079.8 L1513.13 1079.8 Z\" fill=\"#000000\" fill-rule=\"evenodd\" fill-opacity=\"1\" stroke=\"none\"/>\n",
       "<path clip-path=\"url(#clip683)\" d=\"M1593.99 1109.98 L1593.99 1133.98 L1617.99 1133.98 L1617.99 1109.98 L1593.99 1109.98 Z\" fill=\"#000000\" fill-rule=\"evenodd\" fill-opacity=\"1\" stroke=\"none\"/>\n",
       "<path clip-path=\"url(#clip683)\" d=\"M1674.86 937.088 L1674.86 961.088 L1698.86 961.088 L1698.86 937.088 L1674.86 937.088 Z\" fill=\"#000000\" fill-rule=\"evenodd\" fill-opacity=\"1\" stroke=\"none\"/>\n",
       "<path clip-path=\"url(#clip683)\" d=\"M1715.29 79.2346 L1715.29 103.235 L1739.29 103.235 L1739.29 79.2346 L1715.29 79.2346 Z\" fill=\"#000000\" fill-rule=\"evenodd\" fill-opacity=\"1\" stroke=\"none\"/>\n",
       "<path clip-path=\"url(#clip683)\" d=\"M1755.72 824.372 L1755.72 848.372 L1779.72 848.372 L1779.72 824.372 L1755.72 824.372 Z\" fill=\"#000000\" fill-rule=\"evenodd\" fill-opacity=\"1\" stroke=\"none\"/>\n",
       "<path clip-path=\"url(#clip683)\" d=\"M1796.15 687.811 L1796.15 711.811 L1820.15 711.811 L1820.15 687.811 L1796.15 687.811 Z\" fill=\"#000000\" fill-rule=\"evenodd\" fill-opacity=\"1\" stroke=\"none\"/>\n",
       "<path clip-path=\"url(#clip683)\" d=\"M1836.58 861.545 L1836.58 885.545 L1860.58 885.545 L1860.58 861.545 L1836.58 861.545 Z\" fill=\"#000000\" fill-rule=\"evenodd\" fill-opacity=\"1\" stroke=\"none\"/>\n",
       "<path clip-path=\"url(#clip683)\" d=\"M1877.01 847.063 L1877.01 871.063 L1901.01 871.063 L1901.01 847.063 L1877.01 847.063 Z\" fill=\"#000000\" fill-rule=\"evenodd\" fill-opacity=\"1\" stroke=\"none\"/>\n",
       "<path clip-path=\"url(#clip683)\" d=\"M1917.44 339.594 L1917.44 363.594 L1941.44 363.594 L1941.44 339.594 L1917.44 339.594 Z\" fill=\"#000000\" fill-rule=\"evenodd\" fill-opacity=\"1\" stroke=\"none\"/>\n",
       "<path clip-path=\"url(#clip683)\" d=\"M1957.87 715.974 L1957.87 739.974 L1981.87 739.974 L1981.87 715.974 L1957.87 715.974 Z\" fill=\"#000000\" fill-rule=\"evenodd\" fill-opacity=\"1\" stroke=\"none\"/>\n",
       "<path clip-path=\"url(#clip683)\" d=\"M1998.3 928.106 L1998.3 952.106 L2022.3 952.106 L2022.3 928.106 L1998.3 928.106 Z\" fill=\"#000000\" fill-rule=\"evenodd\" fill-opacity=\"1\" stroke=\"none\"/>\n",
       "<path clip-path=\"url(#clip683)\" d=\"M2038.74 774.801 L2038.74 798.801 L2062.74 798.801 L2062.74 774.801 L2038.74 774.801 Z\" fill=\"#000000\" fill-rule=\"evenodd\" fill-opacity=\"1\" stroke=\"none\"/>\n",
       "<path clip-path=\"url(#clip683)\" d=\"M2079.17 901.841 L2079.17 925.841 L2103.17 925.841 L2103.17 901.841 L2079.17 901.841 Z\" fill=\"#000000\" fill-rule=\"evenodd\" fill-opacity=\"1\" stroke=\"none\"/>\n",
       "<path clip-path=\"url(#clip683)\" d=\"M2119.6 122.204 L2119.6 146.204 L2143.6 146.204 L2143.6 122.204 L2119.6 122.204 Z\" fill=\"#000000\" fill-rule=\"evenodd\" fill-opacity=\"1\" stroke=\"none\"/>\n",
       "<path clip-path=\"url(#clip683)\" d=\"M2160.03 890.295 L2160.03 914.295 L2184.03 914.295 L2184.03 890.295 L2160.03 890.295 Z\" fill=\"#000000\" fill-rule=\"evenodd\" fill-opacity=\"1\" stroke=\"none\"/>\n",
       "<path clip-path=\"url(#clip683)\" d=\"M2200.46 1118.2 L2200.46 1142.2 L2224.46 1142.2 L2224.46 1118.2 L2200.46 1118.2 Z\" fill=\"#000000\" fill-rule=\"evenodd\" fill-opacity=\"1\" stroke=\"none\"/>\n",
       "<path clip-path=\"url(#clip683)\" d=\"M2240.89 835.929 L2240.89 859.929 L2264.89 859.929 L2264.89 835.929 L2240.89 835.929 Z\" fill=\"#000000\" fill-rule=\"evenodd\" fill-opacity=\"1\" stroke=\"none\"/>\n",
       "<path clip-path=\"url(#clip683)\" d=\"M2281.32 506.661 L2281.32 530.661 L2305.32 530.661 L2305.32 506.661 L2281.32 506.661 Z\" fill=\"#000000\" fill-rule=\"evenodd\" fill-opacity=\"1\" stroke=\"none\"/>\n",
       "</svg>\n"
      ]
     },
     "metadata": {},
     "output_type": "display_data"
    }
   ],
   "source": [
    "p4 = plot(1:nScenMax,optGapTraj_s,\n",
    "    yscale=:log10,\n",
    "    xlabel=\"# scenarios\", \n",
    "    ylabel=L\"T_{benders}\",\n",
    "    marker=:square, \n",
    "    markersize=3,\n",
    "    linecolor = :black,\n",
    "    markercolor = :black,\n",
    "    linestyle = :dashdot,\n",
    "    label=\"\",\n",
    "    gridlinewidth=2,\n",
    "    dpi=600)\n",
    "\n",
    "display(p4)\n",
    "savefig(p4,\"C:/Users/MACC-Jose/Documents/Canada/Papers/Benders Decomposition/Figures/C1_BenOptGap.pdf\");"
   ]
  },
  {
   "cell_type": "markdown",
   "id": "0ffe348c",
   "metadata": {},
   "source": [
    "# Checking if trajectories match for more scenarios and reactors\n",
    "- arbitrarily chosen number of scenarios and reactors"
   ]
  },
  {
   "cell_type": "code",
   "execution_count": 28,
   "id": "cf6ecc0d",
   "metadata": {},
   "outputs": [
    {
     "data": {
      "text/plain": [
       "\"DB: opt gap = 1.0\""
      ]
     },
     "metadata": {},
     "output_type": "display_data"
    },
    {
     "data": {
      "text/plain": [
       "\">>>>>> iteration 1:O\""
      ]
     },
     "metadata": {},
     "output_type": "display_data"
    },
    {
     "data": {
      "text/plain": [
       "\"DB: opt gap = 1.0\""
      ]
     },
     "metadata": {},
     "output_type": "display_data"
    },
    {
     "data": {
      "text/plain": [
       "\">>>>>> iteration 2:O\""
      ]
     },
     "metadata": {},
     "output_type": "display_data"
    },
    {
     "data": {
      "text/plain": [
       "\"DB: opt gap = 1.0\""
      ]
     },
     "metadata": {},
     "output_type": "display_data"
    },
    {
     "data": {
      "text/plain": [
       "\">>>>>> iteration 3:O\""
      ]
     },
     "metadata": {},
     "output_type": "display_data"
    },
    {
     "data": {
      "text/plain": [
       "\"DB: opt gap = 1.0\""
      ]
     },
     "metadata": {},
     "output_type": "display_data"
    },
    {
     "data": {
      "text/plain": [
       "\">>>>>> iteration 4:O\""
      ]
     },
     "metadata": {},
     "output_type": "display_data"
    },
    {
     "data": {
      "text/plain": [
       "\"DB: opt gap = 1.0\""
      ]
     },
     "metadata": {},
     "output_type": "display_data"
    },
    {
     "data": {
      "text/plain": [
       "\">>>>>> iteration 5:O\""
      ]
     },
     "metadata": {},
     "output_type": "display_data"
    },
    {
     "data": {
      "text/plain": [
       "\"DB: opt gap = 1.0\""
      ]
     },
     "metadata": {},
     "output_type": "display_data"
    },
    {
     "data": {
      "text/plain": [
       "\">>>>>> iteration 6:O\""
      ]
     },
     "metadata": {},
     "output_type": "display_data"
    },
    {
     "data": {
      "text/plain": [
       "\"DB: opt gap = 0.9565931125954272\""
      ]
     },
     "metadata": {},
     "output_type": "display_data"
    },
    {
     "data": {
      "text/plain": [
       "\">>>>>> iteration 7:O\""
      ]
     },
     "metadata": {},
     "output_type": "display_data"
    },
    {
     "data": {
      "text/plain": [
       "\"DB: opt gap = 0.05249163157164497\""
      ]
     },
     "metadata": {},
     "output_type": "display_data"
    },
    {
     "data": {
      "text/plain": [
       "\">>>>>> iteration 8:O\""
      ]
     },
     "metadata": {},
     "output_type": "display_data"
    },
    {
     "data": {
      "text/plain": [
       "\">>>>>> iteration 9:F\""
      ]
     },
     "metadata": {},
     "output_type": "display_data"
    },
    {
     "data": {
      "text/plain": [
       "\"DB: opt gap = 0.05137380186163623\""
      ]
     },
     "metadata": {},
     "output_type": "display_data"
    },
    {
     "data": {
      "text/plain": [
       "\">>>>>> iteration 10:O\""
      ]
     },
     "metadata": {},
     "output_type": "display_data"
    },
    {
     "data": {
      "text/plain": [
       "\"DB: opt gap = 0.0398566982103029\""
      ]
     },
     "metadata": {},
     "output_type": "display_data"
    },
    {
     "data": {
      "text/plain": [
       "\">>>>>> iteration 11:O\""
      ]
     },
     "metadata": {},
     "output_type": "display_data"
    },
    {
     "data": {
      "text/plain": [
       "\"DB: opt gap = 0.0006387182636802269\""
      ]
     },
     "metadata": {},
     "output_type": "display_data"
    }
   ],
   "source": [
    "nSCheck = 49 # 1 |  1 | 3 number of scenarios\n",
    "nRCheck = 1 # 3 | 43 | 5 number of reactors in parallel\n",
    "optiCheck = opti\n",
    "\n",
    "# Extracting solution for plotting --> monolithic vs. decomposed \n",
    "yTraj = Array{Float64}(undef,2,pD,nSCheck)\n",
    "uTraj = Array{Float64}(undef,2,pD,nSCheck) \n",
    "yspTraj = Array{Float64}(undef,2,pD,nSCheck) \n",
    "\n",
    "#equiprobable scenarios\n",
    "pScheck = 1.0/nSCheck;\n",
    "\n",
    "# Number of states\n",
    "nx = 2*nRCheck;\n",
    "\n",
    "# Initial conditions (deviation form)\n",
    "xInit_0 = repeat([0.3583;0.6418] .- x0, outer = [nRCheck,1]);\n",
    "uInit_0 = 1.0 - u0;\n",
    "\n",
    "sol_mon = MS_CLDRTO(xInit_0,uInit_0,nRCheck,nSCheck,pScheck,solNominal,optiCheck)\n",
    "sol_dec = BENS_CLDRTO(xInit_0,uInit_0,nRCheck,nSCheck,pScheck,solNominal,optiCheck)\n",
    "\n",
    "for ii in 1:pD\n",
    "    for ss in 1:nSCheck\n",
    "    # transforming from deviation form\n",
    "    yTraj[1,ii,ss] = sol_mon['y'][ii,ss] + y0\n",
    "    yspTraj[1,ii,ss] = sol_mon['s'][ii,ss] + y0\n",
    "    uTraj[1,ii,ss] = sol_mon['u'][ii,1,ss] + u0\n",
    "        \n",
    "    yTraj[2,ii,ss] = sol_dec['y'][ss][ii] + y0\n",
    "    yspTraj[2,ii,ss] = sol_dec['s'][ss][ii] + y0\n",
    "    uTraj[2,ii,ss] = sol_dec['u'][ss][1,ii] + u0    \n",
    "    end\n",
    "end;"
   ]
  },
  {
   "cell_type": "code",
   "execution_count": 29,
   "id": "3d9ec8ea",
   "metadata": {},
   "outputs": [],
   "source": [
    "# time series for plotting\n",
    "ts = Vector{Float64}(undef,pD) \n",
    "for i in 1:pD\n",
    "    ts[i] = 1*i\n",
    "end"
   ]
  },
  {
   "cell_type": "markdown",
   "id": "292fbc2d",
   "metadata": {},
   "source": [
    "Plot Recipe"
   ]
  },
  {
   "cell_type": "code",
   "execution_count": 30,
   "id": "c9d384cc",
   "metadata": {},
   "outputs": [],
   "source": [
    "@userplot Plot_Comp\n",
    "@recipe function f(h::Plot_Comp)\n",
    "        \n",
    "if length(h.args) < 7\n",
    "        y_lim, ylab, lineT, x, y, y_ub = h.args\n",
    "    else\n",
    "        y_lim, ylab, lineT, x, y, y_ub, y_lb = h.args\n",
    "    end\n",
    "    \n",
    "    # set up the subplots\n",
    "    # these are common to both marginal histograms\n",
    "    layout := (3,1)\n",
    "    grid := true\n",
    "    gridlinewidth --> 2\n",
    "    latex := true\n",
    "    linecolor := :black\n",
    "    \n",
    "    for ss = 1:3\n",
    "        # limits\n",
    "        ylimits := y_lim\n",
    "        \n",
    "        # labels \n",
    "        ylabel := ylab\n",
    "        if ss == 3\n",
    "            xlabel := \"time [min]\"\n",
    "        end\n",
    "        title := \"Scenario\"*\" \"*string(ss)\n",
    "        titlefontsize := 10\n",
    "        # DATA PLOTTING\n",
    "        # upper bound\n",
    "        @series begin\n",
    "            seriestype := :path\n",
    "            linestyle := :dot\n",
    "            subplot := ss\n",
    "        \n",
    "            if ss == 1 && lineT == 1\n",
    "                label --> \"Limit\"\n",
    "            else\n",
    "                label --> \"\"\n",
    "            end\n",
    "            \n",
    "            x, y_ub*ones(length(x))\n",
    "        end\n",
    "\n",
    "        if length(h.args) > 6 \n",
    "            # lower bound\n",
    "            @series begin\n",
    "                seriestype := :path\n",
    "                linestyle := :dash\n",
    "                subplot := ss\n",
    "                \n",
    "                if ss == 1 && lineT == 1\n",
    "                label --> \"Target\"\n",
    "            else\n",
    "                label --> \"\"\n",
    "            end\n",
    "                \n",
    "                x, y_lb*ones(length(x))\n",
    "            end\n",
    "        end\n",
    "\n",
    "        labels = [\"Mono.\", \"Deco.\"]\n",
    "        for mm = 1:2\n",
    "            # average MC value\n",
    "            @series begin\n",
    "                if lineT == 2\n",
    "                    seriestype := :steppost\n",
    "                else\n",
    "                    seriestype := :path\n",
    "                end\n",
    "                linewidth := 3\n",
    "                subplot := ss\n",
    "\n",
    "                markercolor := :black\n",
    "                markerstrokecolor := :black\n",
    "                markersize := 3\n",
    "\n",
    "                if ss == 1 && lineT == 1\n",
    "                    label --> labels[mm]\n",
    "                else\n",
    "                    label --> \"\"\n",
    "                end\n",
    "\n",
    "                if mm == 1\n",
    "                    linestyle := :solid\n",
    "                    markershape := :circle\n",
    "                else\n",
    "                    linestyle := :dashdot\n",
    "                    markershape := :rect\n",
    "                end\n",
    "\n",
    "                x, y[mm,:,ss]\n",
    "            end\n",
    "        end\n",
    "    end # mono/dec loop\n",
    "end;"
   ]
  },
  {
   "cell_type": "code",
   "execution_count": 31,
   "id": "181a6a19",
   "metadata": {},
   "outputs": [],
   "source": [
    "@userplot Plot_Sing\n",
    "@recipe function f(h::Plot_Sing)\n",
    "        \n",
    "if length(h.args) < 7\n",
    "        y_lim, ylab, lineT, x, y, y_ub = h.args\n",
    "    else\n",
    "        y_lim, ylab, lineT, x, y, y_ub, y_lb = h.args\n",
    "    end\n",
    "    \n",
    "    # set up the subplots\n",
    "    # these are common to both marginal histograms\n",
    "    layout := (3,1)\n",
    "    grid := true\n",
    "    gridlinewidth --> 2\n",
    "    latex := true\n",
    "    linecolor := :black\n",
    "    \n",
    "    for ss = 1\n",
    "        # limits\n",
    "        ylimits := y_lim\n",
    "        \n",
    "        # labels \n",
    "        ylabel := ylab\n",
    "        xlabel := \"time [min]\"\n",
    "        \n",
    "        # DATA PLOTTING\n",
    "        # upper bound\n",
    "        @series begin\n",
    "            seriestype := :path\n",
    "            linestyle := :dot\n",
    "            subplot := ss\n",
    "        \n",
    "            if ss == 1 && lineT == 1\n",
    "                label --> \"Limit\"\n",
    "            else\n",
    "                label --> \"\"\n",
    "            end\n",
    "            \n",
    "            x, y_ub*ones(length(x))\n",
    "        end\n",
    "\n",
    "        if length(h.args) > 6 \n",
    "            # lower bound\n",
    "            @series begin\n",
    "                seriestype := :path\n",
    "                linestyle := :dash\n",
    "                subplot := ss\n",
    "                \n",
    "                if ss == 1 && lineT == 1\n",
    "                label --> \"Target\"\n",
    "            else\n",
    "                label --> \"\"\n",
    "            end\n",
    "                \n",
    "                x, y_lb*ones(length(x))\n",
    "            end\n",
    "        end\n",
    "\n",
    "        labels = [\"Mono.\", \"Deco.\"]\n",
    "        for mm = 1:2\n",
    "            @series begin\n",
    "                if lineT == 2\n",
    "                    seriestype := :steppost\n",
    "                else\n",
    "                    seriestype := :path\n",
    "                end\n",
    "                linewidth := 3\n",
    "                subplot := ss\n",
    "\n",
    "                #markercolor := :black\n",
    "                #markerstrokecolor := :black\n",
    "                #markersize := 1\n",
    "\n",
    "                if ss == 1 && lineT == 1\n",
    "                    label --> labels[mm]\n",
    "                else\n",
    "                    label --> \"\"\n",
    "                end\n",
    "\n",
    "                if mm == 1\n",
    "                    linestyle := :solid\n",
    "                    linecolor := :red\n",
    "                    #markershape := :circle\n",
    "                else\n",
    "                    linestyle := :solid\n",
    "                    linecolor := :black\n",
    "                    #markershape := :rect\n",
    "                end\n",
    "\n",
    "                x, y[mm,:,ss]\n",
    "            end\n",
    "        end\n",
    "    end # mono/dec loop\n",
    "end;"
   ]
  },
  {
   "cell_type": "code",
   "execution_count": 32,
   "id": "76f46faf",
   "metadata": {},
   "outputs": [],
   "source": [
    "# plot_comp((-0.05,1.1),L\"y \\quad [g/L]\",1,ts,yTraj,(pUB + y0),(pTrack + y0))\n",
    "#savefig(\"C:/Users/MACC-Jose/Documents/Canada/Papers/Benders Decomposition/Figures/C2_outputs.pdf\");\n",
    "\n",
    "plot_sing((0.5,1.1),L\"y \\quad [g/L]\",1,ts,yTraj,(pUB + y0),(pTrack + y0))\n",
    "#savefig(\"C:/Users/MACC-Jose/Documents/Canada/Papers/Benders Decomposition/Figures/C2_3_outputs.pdf\");\n",
    "savefig(\"C:/Users/MACC-Jose/Documents/Canada/Papers/Benders Decomposition/Figures/C2_43_outputs.pdf\");"
   ]
  },
  {
   "cell_type": "code",
   "execution_count": 33,
   "id": "d21d4819",
   "metadata": {},
   "outputs": [],
   "source": [
    "#plot_comp((0.0,1.3),L\"y^{SP} \\quad [-]\",2,ts,yspTraj,yspMax)\n",
    "#savefig(\"C:/Users/MACC-Jose/Documents/Canada/Papers/Benders Decomposition/Figures/C2_setpoints.pdf\");\n",
    "\n",
    "plot_sing((0.0,1.3),L\"y^{SP} \\quad [g/L]\",2,ts,yspTraj,yspMax)\n",
    "#savefig(\"C:/Users/MACC-Jose/Documents/Canada/Papers/Benders Decomposition/Figures/C2_3_setpoints.pdf\");\n",
    "savefig(\"C:/Users/MACC-Jose/Documents/Canada/Papers/Benders Decomposition/Figures/C2_43_setpoints.pdf\");"
   ]
  },
  {
   "cell_type": "code",
   "execution_count": 34,
   "id": "7271ea14",
   "metadata": {},
   "outputs": [],
   "source": [
    "#plot_comp((1.4,2.0),L\"u \\quad [-]\",2,ts,uTraj,uMax)\n",
    "#savefig(\"C:/Users/MACC-Jose/Documents/Canada/Papers/Benders Decomposition/Figures/C2_inputs.pdf\");\n",
    "\n",
    "plot_sing((1.3,3.0),L\"u \\quad [g/L]\",2,ts,uTraj,uMax)\n",
    "#savefig(\"C:/Users/MACC-Jose/Documents/Canada/Papers/Benders Decomposition/Figures/C2_3_inputs.pdf\");\n",
    "savefig(\"C:/Users/MACC-Jose/Documents/Canada/Papers/Benders Decomposition/Figures/C2_43_inputs.pdf\");"
   ]
  },
  {
   "cell_type": "markdown",
   "id": "41cb96ae",
   "metadata": {},
   "source": [
    "Creating table to show the results"
   ]
  },
  {
   "cell_type": "code",
   "execution_count": 35,
   "id": "3ce63e67",
   "metadata": {},
   "outputs": [],
   "source": [
    "# Scenarios\n",
    "table_iter = Any[]\n",
    "table_solTime_M = Any[]\n",
    "table_solTime_D = Any[]\n",
    "table_solMax = Any[]\n",
    "table_of_M = Any[]\n",
    "table_of_D = Any[]\n",
    "table_perChange = Any[]\n",
    "\n",
    "for tt in [5 10 15 20 25 30 40 50] \n",
    "    push!(table_iter, tt)\n",
    "    push!(table_solTime_M, solTimeTraj_s[1,tt])\n",
    "    push!(table_solTime_D, solTimeTraj_s[2,tt])\n",
    "    push!(table_solMax, solTimeMaxTraj_s[tt])\n",
    "    push!(table_of_M, solObjTraj_s[1,tt])\n",
    "    push!(table_of_D, solObjTraj_s[2,tt])\n",
    "    push!(table_perChange, 100*(solObjTraj_s[2,tt] - solObjTraj_s[1,tt])/solObjTraj_s[1,tt])\n",
    "end\n",
    "\n",
    "df_scen = DataFrame(; iter = table_iter, \n",
    "                sol_time_M = table_solTime_M, \n",
    "                 sol_time_D = table_solTime_D,\n",
    "                 sol_time_D_max = table_solMax,\n",
    "                 comp_of_M = table_of_M,\n",
    "                 comp_of_D = table_of_D,\n",
    "                 per_change = table_perChange);"
   ]
  },
  {
   "cell_type": "code",
   "execution_count": 36,
   "id": "44fda462",
   "metadata": {},
   "outputs": [
    {
     "data": {
      "text/plain": [
       "\"Analysis: # of Scenarios\""
      ]
     },
     "metadata": {},
     "output_type": "display_data"
    },
    {
     "data": {
      "text/html": [
       "<div><div style = \"float: left;\"><span>8×7 DataFrame</span></div><div style = \"clear: both;\"></div></div><div class = \"data-frame\" style = \"overflow-x: scroll;\"><table class = \"data-frame\" style = \"margin-bottom: 6px;\"><thead><tr class = \"header\"><th class = \"rowNumber\" style = \"font-weight: bold; text-align: right;\">Row</th><th style = \"text-align: left;\">iter</th><th style = \"text-align: left;\">sol_time_M</th><th style = \"text-align: left;\">sol_time_D</th><th style = \"text-align: left;\">sol_time_D_max</th><th style = \"text-align: left;\">comp_of_M</th><th style = \"text-align: left;\">comp_of_D</th><th style = \"text-align: left;\">per_change</th></tr><tr class = \"subheader headerLastRow\"><th class = \"rowNumber\" style = \"font-weight: bold; text-align: right;\"></th><th title = \"Any\" style = \"text-align: left;\">Any</th><th title = \"Any\" style = \"text-align: left;\">Any</th><th title = \"Any\" style = \"text-align: left;\">Any</th><th title = \"Any\" style = \"text-align: left;\">Any</th><th title = \"Any\" style = \"text-align: left;\">Any</th><th title = \"Any\" style = \"text-align: left;\">Any</th><th title = \"Any\" style = \"text-align: left;\">Any</th></tr></thead><tbody><tr><td class = \"rowNumber\" style = \"font-weight: bold; text-align: right;\">1</td><td style = \"text-align: left;\">5</td><td style = \"text-align: left;\">0.841</td><td style = \"text-align: left;\">9.151</td><td style = \"text-align: left;\">2.503</td><td style = \"text-align: left;\">0.43443</td><td style = \"text-align: left;\">0.434436</td><td style = \"text-align: left;\">0.00140871</td></tr><tr><td class = \"rowNumber\" style = \"font-weight: bold; text-align: right;\">2</td><td style = \"text-align: left;\">10</td><td style = \"text-align: left;\">4.931</td><td style = \"text-align: left;\">15.776</td><td style = \"text-align: left;\">3.265</td><td style = \"text-align: left;\">0.434421</td><td style = \"text-align: left;\">0.434458</td><td style = \"text-align: left;\">0.00854755</td></tr><tr><td class = \"rowNumber\" style = \"font-weight: bold; text-align: right;\">3</td><td style = \"text-align: left;\">15</td><td style = \"text-align: left;\">6.475</td><td style = \"text-align: left;\">23.418</td><td style = \"text-align: left;\">3.221</td><td style = \"text-align: left;\">0.434311</td><td style = \"text-align: left;\">0.434314</td><td style = \"text-align: left;\">0.000674273</td></tr><tr><td class = \"rowNumber\" style = \"font-weight: bold; text-align: right;\">4</td><td style = \"text-align: left;\">20</td><td style = \"text-align: left;\">12.61</td><td style = \"text-align: left;\">38.689</td><td style = \"text-align: left;\">4.131</td><td style = \"text-align: left;\">0.434305</td><td style = \"text-align: left;\">0.434306</td><td style = \"text-align: left;\">0.000256334</td></tr><tr><td class = \"rowNumber\" style = \"font-weight: bold; text-align: right;\">5</td><td style = \"text-align: left;\">25</td><td style = \"text-align: left;\">15.722</td><td style = \"text-align: left;\">42.606</td><td style = \"text-align: left;\">3.495</td><td style = \"text-align: left;\">0.434303</td><td style = \"text-align: left;\">0.434307</td><td style = \"text-align: left;\">0.000874149</td></tr><tr><td class = \"rowNumber\" style = \"font-weight: bold; text-align: right;\">6</td><td style = \"text-align: left;\">30</td><td style = \"text-align: left;\">25.748</td><td style = \"text-align: left;\">62.007</td><td style = \"text-align: left;\">4.414</td><td style = \"text-align: left;\">0.434293</td><td style = \"text-align: left;\">0.434297</td><td style = \"text-align: left;\">0.000986484</td></tr><tr><td class = \"rowNumber\" style = \"font-weight: bold; text-align: right;\">7</td><td style = \"text-align: left;\">40</td><td style = \"text-align: left;\">28.079</td><td style = \"text-align: left;\">62.018</td><td style = \"text-align: left;\">3.66</td><td style = \"text-align: left;\">0.434292</td><td style = \"text-align: left;\">0.434298</td><td style = \"text-align: left;\">0.00123511</td></tr><tr><td class = \"rowNumber\" style = \"font-weight: bold; text-align: right;\">8</td><td style = \"text-align: left;\">50</td><td style = \"text-align: left;\">44.8</td><td style = \"text-align: left;\">93.668</td><td style = \"text-align: left;\">4.622</td><td style = \"text-align: left;\">0.434281</td><td style = \"text-align: left;\">0.434287</td><td style = \"text-align: left;\">0.00133121</td></tr></tbody></table></div>"
      ],
      "text/latex": [
       "\\begin{tabular}{r|ccccccc}\n",
       "\t& iter & sol\\_time\\_M & sol\\_time\\_D & sol\\_time\\_D\\_max & comp\\_of\\_M & comp\\_of\\_D & per\\_change\\\\\n",
       "\t\\hline\n",
       "\t& Any & Any & Any & Any & Any & Any & Any\\\\\n",
       "\t\\hline\n",
       "\t1 & 5 & 0.841 & 9.151 & 2.503 & 0.43443 & 0.434436 & 0.00140871 \\\\\n",
       "\t2 & 10 & 4.931 & 15.776 & 3.265 & 0.434421 & 0.434458 & 0.00854755 \\\\\n",
       "\t3 & 15 & 6.475 & 23.418 & 3.221 & 0.434311 & 0.434314 & 0.000674273 \\\\\n",
       "\t4 & 20 & 12.61 & 38.689 & 4.131 & 0.434305 & 0.434306 & 0.000256334 \\\\\n",
       "\t5 & 25 & 15.722 & 42.606 & 3.495 & 0.434303 & 0.434307 & 0.000874149 \\\\\n",
       "\t6 & 30 & 25.748 & 62.007 & 4.414 & 0.434293 & 0.434297 & 0.000986484 \\\\\n",
       "\t7 & 40 & 28.079 & 62.018 & 3.66 & 0.434292 & 0.434298 & 0.00123511 \\\\\n",
       "\t8 & 50 & 44.8 & 93.668 & 4.622 & 0.434281 & 0.434287 & 0.00133121 \\\\\n",
       "\\end{tabular}\n"
      ],
      "text/plain": [
       "\u001b[1m8×7 DataFrame\u001b[0m\n",
       "\u001b[1m Row \u001b[0m│\u001b[1m iter \u001b[0m\u001b[1m sol_time_M \u001b[0m\u001b[1m sol_time_D \u001b[0m\u001b[1m sol_time_D_max \u001b[0m\u001b[1m comp_of_M \u001b[0m\u001b[1m comp_of_D \u001b[0m\u001b[1m per\u001b[0m ⋯\n",
       "     │\u001b[90m Any  \u001b[0m\u001b[90m Any        \u001b[0m\u001b[90m Any        \u001b[0m\u001b[90m Any            \u001b[0m\u001b[90m Any       \u001b[0m\u001b[90m Any       \u001b[0m\u001b[90m Any\u001b[0m ⋯\n",
       "─────┼──────────────────────────────────────────────────────────────────────────\n",
       "   1 │ 5     0.841       9.151       2.503           0.43443    0.434436   0.0 ⋯\n",
       "   2 │ 10    4.931       15.776      3.265           0.434421   0.434458   0.0\n",
       "   3 │ 15    6.475       23.418      3.221           0.434311   0.434314   0.0\n",
       "   4 │ 20    12.61       38.689      4.131           0.434305   0.434306   0.0\n",
       "   5 │ 25    15.722      42.606      3.495           0.434303   0.434307   0.0 ⋯\n",
       "   6 │ 30    25.748      62.007      4.414           0.434293   0.434297   0.0\n",
       "   7 │ 40    28.079      62.018      3.66            0.434292   0.434298   0.0\n",
       "   8 │ 50    44.8        93.668      4.622           0.434281   0.434287   0.0\n",
       "\u001b[36m                                                                1 column omitted\u001b[0m"
      ]
     },
     "metadata": {},
     "output_type": "display_data"
    },
    {
     "data": {
      "text/plain": [
       "\"Analysis: # of Reactors\""
      ]
     },
     "metadata": {},
     "output_type": "display_data"
    },
    {
     "data": {
      "text/html": [
       "<div><div style = \"float: left;\"><span>8×6 DataFrame</span></div><div style = \"clear: both;\"></div></div><div class = \"data-frame\" style = \"overflow-x: scroll;\"><table class = \"data-frame\" style = \"margin-bottom: 6px;\"><thead><tr class = \"header\"><th class = \"rowNumber\" style = \"font-weight: bold; text-align: right;\">Row</th><th style = \"text-align: left;\">iter</th><th style = \"text-align: left;\">sol_time_M</th><th style = \"text-align: left;\">sol_time_D</th><th style = \"text-align: left;\">comp_of_M</th><th style = \"text-align: left;\">comp_of_D</th><th style = \"text-align: left;\">per_change</th></tr><tr class = \"subheader headerLastRow\"><th class = \"rowNumber\" style = \"font-weight: bold; text-align: right;\"></th><th title = \"Any\" style = \"text-align: left;\">Any</th><th title = \"Any\" style = \"text-align: left;\">Any</th><th title = \"Any\" style = \"text-align: left;\">Any</th><th title = \"Any\" style = \"text-align: left;\">Any</th><th title = \"Any\" style = \"text-align: left;\">Any</th><th title = \"Any\" style = \"text-align: left;\">Any</th></tr></thead><tbody><tr><td class = \"rowNumber\" style = \"font-weight: bold; text-align: right;\">1</td><td style = \"text-align: left;\">5</td><td style = \"text-align: left;\">1.108</td><td style = \"text-align: left;\">9.568</td><td style = \"text-align: left;\">0.434589</td><td style = \"text-align: left;\">0.434589</td><td style = \"text-align: left;\">3.2937e-5</td></tr><tr><td class = \"rowNumber\" style = \"font-weight: bold; text-align: right;\">2</td><td style = \"text-align: left;\">10</td><td style = \"text-align: left;\">2.7</td><td style = \"text-align: left;\">14.929</td><td style = \"text-align: left;\">0.434588</td><td style = \"text-align: left;\">0.434589</td><td style = \"text-align: left;\">0.000234468</td></tr><tr><td class = \"rowNumber\" style = \"font-weight: bold; text-align: right;\">3</td><td style = \"text-align: left;\">15</td><td style = \"text-align: left;\">2.824</td><td style = \"text-align: left;\">26.554</td><td style = \"text-align: left;\">0.434589</td><td style = \"text-align: left;\">0.434588</td><td style = \"text-align: left;\">-0.000117404</td></tr><tr><td class = \"rowNumber\" style = \"font-weight: bold; text-align: right;\">4</td><td style = \"text-align: left;\">20</td><td style = \"text-align: left;\">5.103</td><td style = \"text-align: left;\">53.002</td><td style = \"text-align: left;\">0.434589</td><td style = \"text-align: left;\">NaN</td><td style = \"text-align: left;\">NaN</td></tr><tr><td class = \"rowNumber\" style = \"font-weight: bold; text-align: right;\">5</td><td style = \"text-align: left;\">25</td><td style = \"text-align: left;\">6.285</td><td style = \"text-align: left;\">60.632</td><td style = \"text-align: left;\">0.434588</td><td style = \"text-align: left;\">0.434589</td><td style = \"text-align: left;\">8.83256e-5</td></tr><tr><td class = \"rowNumber\" style = \"font-weight: bold; text-align: right;\">6</td><td style = \"text-align: left;\">30</td><td style = \"text-align: left;\">8.626</td><td style = \"text-align: left;\">58.701</td><td style = \"text-align: left;\">0.434589</td><td style = \"text-align: left;\">0.43459</td><td style = \"text-align: left;\">0.000301828</td></tr><tr><td class = \"rowNumber\" style = \"font-weight: bold; text-align: right;\">7</td><td style = \"text-align: left;\">40</td><td style = \"text-align: left;\">11.245</td><td style = \"text-align: left;\">128.68</td><td style = \"text-align: left;\">0.434589</td><td style = \"text-align: left;\">0.434589</td><td style = \"text-align: left;\">7.96091e-5</td></tr><tr><td class = \"rowNumber\" style = \"font-weight: bold; text-align: right;\">8</td><td style = \"text-align: left;\">50</td><td style = \"text-align: left;\">10.826</td><td style = \"text-align: left;\">100.338</td><td style = \"text-align: left;\">0.434589</td><td style = \"text-align: left;\">0.434589</td><td style = \"text-align: left;\">0.00013223</td></tr></tbody></table></div>"
      ],
      "text/latex": [
       "\\begin{tabular}{r|cccccc}\n",
       "\t& iter & sol\\_time\\_M & sol\\_time\\_D & comp\\_of\\_M & comp\\_of\\_D & per\\_change\\\\\n",
       "\t\\hline\n",
       "\t& Any & Any & Any & Any & Any & Any\\\\\n",
       "\t\\hline\n",
       "\t1 & 5 & 1.108 & 9.568 & 0.434589 & 0.434589 & 3.2937e-5 \\\\\n",
       "\t2 & 10 & 2.7 & 14.929 & 0.434588 & 0.434589 & 0.000234468 \\\\\n",
       "\t3 & 15 & 2.824 & 26.554 & 0.434589 & 0.434588 & -0.000117404 \\\\\n",
       "\t4 & 20 & 5.103 & 53.002 & 0.434589 & NaN & NaN \\\\\n",
       "\t5 & 25 & 6.285 & 60.632 & 0.434588 & 0.434589 & 8.83256e-5 \\\\\n",
       "\t6 & 30 & 8.626 & 58.701 & 0.434589 & 0.43459 & 0.000301828 \\\\\n",
       "\t7 & 40 & 11.245 & 128.68 & 0.434589 & 0.434589 & 7.96091e-5 \\\\\n",
       "\t8 & 50 & 10.826 & 100.338 & 0.434589 & 0.434589 & 0.00013223 \\\\\n",
       "\\end{tabular}\n"
      ],
      "text/plain": [
       "\u001b[1m8×6 DataFrame\u001b[0m\n",
       "\u001b[1m Row \u001b[0m│\u001b[1m iter \u001b[0m\u001b[1m sol_time_M \u001b[0m\u001b[1m sol_time_D \u001b[0m\u001b[1m comp_of_M \u001b[0m\u001b[1m comp_of_D \u001b[0m\u001b[1m per_change   \u001b[0m\n",
       "     │\u001b[90m Any  \u001b[0m\u001b[90m Any        \u001b[0m\u001b[90m Any        \u001b[0m\u001b[90m Any       \u001b[0m\u001b[90m Any       \u001b[0m\u001b[90m Any          \u001b[0m\n",
       "─────┼──────────────────────────────────────────────────────────────────\n",
       "   1 │ 5     1.108       9.568       0.434589   0.434589   3.2937e-5\n",
       "   2 │ 10    2.7         14.929      0.434588   0.434589   0.000234468\n",
       "   3 │ 15    2.824       26.554      0.434589   0.434588   -0.000117404\n",
       "   4 │ 20    5.103       53.002      0.434589   NaN        NaN\n",
       "   5 │ 25    6.285       60.632      0.434588   0.434589   8.83256e-5\n",
       "   6 │ 30    8.626       58.701      0.434589   0.43459    0.000301828\n",
       "   7 │ 40    11.245      128.68      0.434589   0.434589   7.96091e-5\n",
       "   8 │ 50    10.826      100.338     0.434589   0.434589   0.00013223"
      ]
     },
     "metadata": {},
     "output_type": "display_data"
    }
   ],
   "source": [
    "display(\"Analysis: # of Scenarios\")\n",
    "display(df_scen)"
   ]
  }
 ],
 "metadata": {
  "kernelspec": {
   "display_name": "Julia 1.8.5",
   "language": "julia",
   "name": "julia-1.8"
  },
  "language_info": {
   "file_extension": ".jl",
   "mimetype": "application/julia",
   "name": "julia",
   "version": "1.8.5"
  }
 },
 "nbformat": 4,
 "nbformat_minor": 5
}
