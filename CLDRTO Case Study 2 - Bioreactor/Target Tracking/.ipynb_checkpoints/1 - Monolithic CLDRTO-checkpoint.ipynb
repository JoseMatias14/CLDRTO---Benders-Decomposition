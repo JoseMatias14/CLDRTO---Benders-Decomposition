{
 "cells": [
  {
   "cell_type": "markdown",
   "id": "01e02a45",
   "metadata": {},
   "source": [
    "- **This code computes the CLDRTO solution using a scenario-based stochastic programming approach**\n",
    "- Using tracking objective function\n",
    "- The underlying control structure (modeled in the CLDRTO model) is an MPC, which can is solved using three different strategies: 1. unconstrained, 2. constrained using binaries, and 3. constrained using MPCC\n",
    "- The problem is posed as a scenario-based stochastic programming problem\n",
    "- The problem is solved using a monolithic structure, i.e. independently of the number of scenarios or reactors in parallel, everything is solved at once.\n",
    "- The case study is an affine multiple parallel bioreactor system from:*Gao, Ling. \"Modeling and dynamics analyses of immobilized CSTR bioreactor using transfer function model.\" 2012 International Symposium on Information Technologies in Medicine and Education. Vol. 2. IEEE, 2012.*\n",
    "- The uncertainty represented by the scenarios comes from the maximum specific growth rate (V_m) --> see matlab file\n",
    "\n",
    "AUTHOR: Jose Matias <assumpcj@mcmaster.ca>\n",
    "DATE: May 2023"
   ]
  },
  {
   "cell_type": "code",
   "execution_count": null,
   "id": "2af54dc3",
   "metadata": {},
   "outputs": [],
   "source": [
    "using LinearAlgebra, JuMP, CPLEX, Ipopt, Plots, CSV, DataFrames"
   ]
  },
  {
   "cell_type": "markdown",
   "id": "b2933767",
   "metadata": {},
   "source": [
    "# Bioreactor Model\n",
    "\n",
    "$\\dfrac{d C}{d t} = D (C_{in} - C) - \\dfrac{V_m C}{(K_s + C)} $ <br>\n",
    "$ \\dfrac{d P}{d t} = \\dfrac{V_m C}{(K_s + C)} - DP $ <br>\n",
    "\n",
    "where, <br>\n",
    "$t$: time in hours \\[h\\] <br>\n",
    "$C$: concentration of reactant (substrate) \\[g/L\\] <br>\n",
    "$P$: concentration of product (biomass) \\[g/L\\] <br>\n",
    "$C_{in}$: inlet concentration of substrate \\[g/L\\] <br>\n",
    "$D$: ratio of flowrate to reactor volume \\[1/h\\] <br>\n",
    "$V_m$: maximum reaction rate \\[g/(h L)\\] <br> \n",
    "$K_s$: reaction constant \\[g/L\\] <br>\n",
    "\n",
    "- System measurement ($y$) - product concentration $P$ <br>\n",
    "- System inputs ($u$) - inlet reactant concentration $C_{in}$ <br>\n",
    "- Uncertain parameters ($\\theta$) - maximum reaction rate $V_m$"
   ]
  },
  {
   "cell_type": "code",
   "execution_count": 2,
   "id": "22a74482",
   "metadata": {},
   "outputs": [],
   "source": [
    "# Sampling time\n",
    "T = 1 #[h]\n",
    "# Simulation time in sampling periods\n",
    "nsim = 20\n",
    "\n",
    "# Number of manipulated inputs\n",
    "nu = 1\n",
    "# Number of controlled outputs\n",
    "ny = 1\n",
    "\n",
    "# setting bounds (all arbitrary - not in deviation form!!) \n",
    "uMax = 5.0 # for tight constraints: 1.9 | for loose constraints: 5.0\n",
    "uMin = 0.0;\n",
    "\n",
    "yspMax = 1.2 \n",
    "yspMin = 0.0;"
   ]
  },
  {
   "cell_type": "markdown",
   "id": "4d69be02",
   "metadata": {},
   "source": [
    "# Building CL-DRTO model"
   ]
  },
  {
   "cell_type": "markdown",
   "id": "b763f418",
   "metadata": {},
   "source": [
    "## Model linearization\n",
    "- linearization is done using Matlab's functions ss and c2d (see BioReactorLinearization.m)\n",
    "- sample time $\\Delta t$ is consider as 1h\n",
    "- linearization around point: $V_m = 0.5$ \\[g/(h L)\\], $K_s = 0.2$ \\[g/L\\], $D = 0.5$ \\[1/h\\], $C_{in,0} = 1$ \\[g/L\\], $C_{0} = 0.358$ \\[g/L\\], and $P_{0} = 0.642$ \\[g/L\\]\n",
    "\n",
    "which leads to: <br>\n",
    "$\\bar{x}_{k+1} = A \\bar{x}_k + B \\bar{u}_k$ <br>\n",
    "$\\bar{y}_k = C \\bar{u}_k$\n",
    "\n",
    "where, <br>\n",
    "$\\bar{x} = \\begin{bmatrix}\n",
    "\\bar{C}\\\\\n",
    "\\bar{P}\n",
    "\\end{bmatrix} =\n",
    "\\begin{bmatrix}\n",
    "C - C_0\\\\\n",
    "P - P_0\n",
    "\\end{bmatrix}$<br>\n",
    "$\\bar{u} = \\bar{C}_{in} = C_{in} - C_{in,0}$<br>\n",
    "$\\bar{y} = \\bar{P} = P - P_0$"
   ]
  },
  {
   "cell_type": "code",
   "execution_count": 3,
   "id": "453c740b",
   "metadata": {},
   "outputs": [],
   "source": [
    "# Linearization point\n",
    "u0 = 1.5\n",
    "x0 = [0.7179;0.7821]\n",
    "y0 = 0.7821;"
   ]
  },
  {
   "cell_type": "code",
   "execution_count": 4,
   "id": "73e98a67",
   "metadata": {},
   "outputs": [],
   "source": [
    "# 100 pre-computed models based on parametric uncertainty Vm (computed using matlab: BioReactorLinearization.m)\n",
    "bioModels = CSV.read(\"C:\\\\Users\\\\MACC-Jose\\\\Documents\\\\GitHub\\\\BD\\\\CLDRTO Case Study 2 - Bioreactor\\\\BioreactorModel\", DataFrame; header=false);\n",
    "#print(bioModels)"
   ]
  },
  {
   "cell_type": "markdown",
   "id": "ce86a399",
   "metadata": {},
   "source": [
    "CL-DRTO configuration"
   ]
  },
  {
   "cell_type": "code",
   "execution_count": 5,
   "id": "41fb2ff0",
   "metadata": {},
   "outputs": [],
   "source": [
    "# DRTO sampling time\n",
    "nDRTO = 4 # [h]\n",
    "# Prediction horizon\n",
    "pD = 20 + (8 - 1) # p = 8 *controller horizon\n",
    "# Input control horizon \n",
    "mD = 20\n",
    "# Objective function: target tracking (deviation form)\n",
    "pTrack = 1 - y0 # [g/L]\n",
    "# Soft upper bounds on P weight (deviation form)\n",
    "pUB = 1.05 - y0 # [g/L]\n",
    "# objective function weight for P penalization term \n",
    "wP = 100;"
   ]
  },
  {
   "cell_type": "markdown",
   "id": "1c92041f",
   "metadata": {},
   "source": [
    "DRTO model changes with the number of scenarios and parallel reactors"
   ]
  },
  {
   "cell_type": "code",
   "execution_count": 6,
   "id": "d08bed8d",
   "metadata": {},
   "outputs": [],
   "source": [
    "function DRTO_matrices(nReactors,nScenarios)\n",
    "    ###########\n",
    "    # inputs: #\n",
    "    ###########\n",
    "    # nReactors - number of reactors in parallel\n",
    "    # nScenarios - number of scenarios used in the stochastic optimization\n",
    "    \n",
    "    # picking up indexes equally spaced between 1 and 100 (including initial and end point) \n",
    "    # based on the desired number of scenarios\n",
    "    if nScenarios == 1\n",
    "        indexScen = 50 # nominal model --> index = 50\n",
    "    else\n",
    "        indexScen = [floor(Int, 1 + (ii - 1)*(100-1)/(nScenarios-1)) for ii in 1:nScenarios]\n",
    "    end\n",
    "    \n",
    "    # building DRTO model\n",
    "    A_drto = Array{Float64}(undef,nx,nx,nScenarios) \n",
    "    B_drto = Array{Float64}(undef,nx,nu,nScenarios) \n",
    "\n",
    "    for kk in 1:nScenarios\n",
    "\n",
    "        index_temp = indexScen[kk]\n",
    "\n",
    "        A_drto[:,:,kk] = kron(I(nReactors),Matrix(bioModels[2*(index_temp - 1) + 1:2*(index_temp - 1) + 2,1:2]))\n",
    "        B_drto[:,:,kk] = repeat(bioModels[2*(index_temp - 1) + 1:2*(index_temp - 1) + 2,3], outer = [nReactors, 1, 1])\n",
    "\n",
    "    end\n",
    "\n",
    "    # mapping states to measurements is the same for all models\n",
    "    C_drto = repeat([0 1], outer = [1, nReactors]);\n",
    "    \n",
    "    return Dict('A' => A_drto, 'B' => B_drto, 'C' => C_drto)\n",
    "end;"
   ]
  },
  {
   "cell_type": "markdown",
   "id": "54887087",
   "metadata": {},
   "source": [
    "# Building MPC model"
   ]
  },
  {
   "cell_type": "markdown",
   "id": "a0104237",
   "metadata": {},
   "source": [
    "Controller configuration"
   ]
  },
  {
   "cell_type": "code",
   "execution_count": 7,
   "id": "101fa750",
   "metadata": {},
   "outputs": [],
   "source": [
    "# MPC sampling time\n",
    "nMPC = 1 # [h]\n",
    "\n",
    "# Controller configuration\n",
    "# Output prediction horizon\n",
    "p = 8\n",
    "# Input control horizon \n",
    "m = 2\n",
    "# Output weights\n",
    "q = 1\n",
    "# Input weights \n",
    "r = 1;"
   ]
  },
  {
   "cell_type": "markdown",
   "id": "7278c04e",
   "metadata": {},
   "source": [
    "Notes:\n",
    "- Using nominal model(indexScen = 50)\n",
    "- For the description of how the MPC matrices (with disturbance model) are built, check script: *CLDRTO with unconstrained MPC - uncertain plant test*"
   ]
  },
  {
   "cell_type": "code",
   "execution_count": 8,
   "id": "c6ffaf85",
   "metadata": {},
   "outputs": [],
   "source": [
    "function MPC_matrices(nReactors)\n",
    "    ###########\n",
    "    # inputs: #\n",
    "    ###########\n",
    "    # nReactors - number of reactors in parallel\n",
    "    \n",
    "    # extracting the matrices from the model array computed previously\n",
    "    nNom = 50 # nominal model --> index = 50\n",
    "    \n",
    "    A = kron(I(nReactors),Matrix(bioModels[2*(nNom - 1) + 1:2*(nNom - 1) + 2,1:2])) \n",
    "    B = repeat(bioModels[2*(nNom - 1) + 1:2*(nNom - 1) + 2,3], outer = [nReactors, 1])\n",
    "    C = repeat([0 1], outer = [1, nReactors])\n",
    "    \n",
    "    # adding disturbance model\n",
    "    Ad = [A zeros(nx,ny); zeros(ny,nx) I(ny)]\n",
    "    Bd = [B; zeros(ny,nu)]\n",
    "    Cd = [C ones(ny,ny)]\n",
    "    \n",
    "    # building matrices for MPC\n",
    "    Psi = Cd*Ad\n",
    "    for ii in 2:p\n",
    "        Psi = [Psi;  Cd*Ad^ii]\n",
    "    end\n",
    "\n",
    "    # Computing Dynamic Matrix\n",
    "    a = Cd*Bd\n",
    "    for ii in 2:p\n",
    "        a = [a; Cd*Ad^(ii - 1)*Bd]\n",
    "    end\n",
    "    DynM = a\n",
    "\n",
    "    for ii in 1:(m - 2)\n",
    "        a = [zeros(ny,nu);a[1:(p-1)*ny,:]]\n",
    "        DynM = [DynM  a]\n",
    "    end\n",
    "\n",
    "    # adjusting dynamic matrix for since p > m (last column)\n",
    "    b = Cd*Bd\n",
    "\n",
    "    Ai = I(nx+1) # adding disturbance to the states\n",
    "    for ii = 1:(p - m)\n",
    "        Ai = Ai + Ad^ii\n",
    "        b = [b;Cd*Ai*Bd]\n",
    "    end\n",
    "\n",
    "    Theta=[DynM [zeros(ny*(m-1),nu);b]]\n",
    "    \n",
    "    # Creating Qbar and Rbar matrices\n",
    "    Qbar = Diagonal([q for ii in 1:p])\n",
    "    Rbar = Diagonal([r for ii in 1:m])\n",
    "\n",
    "    # Creating input movement OF penalty matrix \n",
    "    M=[zeros((m-1)*nu,nu) I(nu*(m-1)); zeros(nu) zeros(nu,nu*(m-1))]\n",
    "    Ibar=[I(nu); zeros(nu*(m-1),nu)]\n",
    "    IM = I(nu*m) - M';\n",
    "    \n",
    "    # Matrix H\n",
    "    H = Theta'*Qbar*Theta + IM'*Rbar*IM;\n",
    "    \n",
    "    return Dict('A' => A, 'B' => B, 'C' => C, 'H' => H, 'Θ' => Theta, 'Ψ' => Psi, 'Q' => Qbar, 'I' => Ibar, 'R' => Rbar, 'M' => IM)\n",
    "end;"
   ]
  },
  {
   "cell_type": "markdown",
   "id": "bd717c7a",
   "metadata": {},
   "source": [
    "# CLDRTO Problem"
   ]
  },
  {
   "cell_type": "markdown",
   "id": "9acea8a2",
   "metadata": {},
   "source": [
    "$ \\min_{\\boldsymbol{y}^{SP}} \\quad \\Phi^{ECO}(\\boldsymbol{x},\\boldsymbol{y},\\boldsymbol{u}) $ <br>\n",
    "\n",
    "subjected to: ($k$ represents time and $s$ scenarios) <br>\n",
    "\n",
    "For each scenario ($s = 1,\\ldots,n^{scen}$) <br>\n",
    ">    System dynamics <br>\n",
    ">    $\\boldsymbol{x}_{k + 1,s} = A\\boldsymbol{x}_{k,s} + B_s\\boldsymbol{u}_{k,s} $ <br>\n",
    ">    $\\boldsymbol{y}_{k,s} = C\\boldsymbol{x}_{k,s}$\n",
    "\n",
    ">    CL-DRTO control horizon: constraints fixing inputs after horizon ends <br>\n",
    ">    $\\boldsymbol{u}_{k,s} - \\boldsymbol{u}_{k - 1,s} = 0, \\quad k = m^{DRTO} + 1,\\ldots,p^{DRTO}$\n",
    "\n",
    ">    Product quality target band <br>\n",
    ">    $\\boldsymbol{y}_{k,s} + \\boldsymbol{\\delta}^p_{k,s} \\geq \\boldsymbol{y}_{target,lb}$ <br>\n",
    ">    $\\boldsymbol{y}_{k,s} - \\boldsymbol{\\delta}^m_{k,s} \\leq \\boldsymbol{y}_{target,ub}$\n",
    "\n",
    ">    MPC Problem <br>\n",
    ">    $\\boldsymbol{u}_{k,s} = f_{MPC}(\\boldsymbol{x}_{k,s},\\boldsymbol{y}_{k,s},\\boldsymbol{u}_{k-1,s})$       \n",
    "\n",
    "Non-antecipativity constraints <br>\n",
    "$\\boldsymbol{y}^{SP}_{k,s} = \\boldsymbol{y}^{SP}_{k,S}, \\quad k = 1,\\ldots,\\Delta t_{DRTO} \\ \\quad s = 1,\\ldots,S - 1,S + 1,\\ldots,n^{scen}$\n",
    "\n",
    "Variable bounds <br>\n",
    "$\\forall k, \\forall s \\quad \\boldsymbol{x}_{k,s} \\in \\mathcal{X}, \\ \\boldsymbol{u}_{k,s} \\in \\mathcal{U}, \\ \\boldsymbol{y}_{k,s} \\in \\mathcal{Y}, \\ \\boldsymbol{y}^{SP}_{k,s} \\in \\mathcal{Y}^{SP}$\n",
    "\n"
   ]
  },
  {
   "cell_type": "markdown",
   "id": "1c93737e",
   "metadata": {},
   "source": [
    "## Connection between DRTO and MPC layers (inside CLDRTO formulation)"
   ]
  },
  {
   "cell_type": "markdown",
   "id": "92e7dd6c",
   "metadata": {},
   "source": [
    "for one scenario:"
   ]
  },
  {
   "attachments": {
    "image-3.png": {
     "image/png": "[encoded data removed]"
    }
   },
   "cell_type": "markdown",
   "id": "20155ad9",
   "metadata": {},
   "source": [
    "![image-3.png](attachment:image-3.png)"
   ]
  },
  {
   "cell_type": "markdown",
   "id": "d842630b",
   "metadata": {},
   "source": [
    "## Nonantecipativity constraints"
   ]
  },
  {
   "attachments": {
    "image-2.png": {
     "image/png": "[encoded data removed]"
    }
   },
   "cell_type": "markdown",
   "id": "990b09eb",
   "metadata": {},
   "source": [
    "![image-2.png](attachment:image-2.png)"
   ]
  },
  {
   "cell_type": "markdown",
   "id": "ce5afc6a",
   "metadata": {},
   "source": [
    "## Soft constraint on y / P"
   ]
  },
  {
   "attachments": {
    "image-2.png": {
     "image/png": "[encoded data removed]"
    }
   },
   "cell_type": "markdown",
   "id": "db5cf11a",
   "metadata": {},
   "source": [
    "![image-2.png](attachment:image-2.png)"
   ]
  },
  {
   "cell_type": "markdown",
   "id": "6869d373",
   "metadata": {},
   "source": [
    "# Solving CL-DRTO Multiscenario Problem (monolithic)"
   ]
  },
  {
   "cell_type": "code",
   "execution_count": 9,
   "id": "cc4aadd4",
   "metadata": {},
   "outputs": [],
   "source": [
    "# Parameters for MPC solution\n",
    "# matrix to compute the gradients of the input bound constraints\n",
    "conMatrix = [I(m); -I(m)]; \n",
    "\n",
    "# big-M implementation\n",
    "bigM_mu = 1000\n",
    "bigM_u = 100\n",
    "\n",
    "# weight complementarity relaxation OF term\n",
    "pi_bar = 10^3;"
   ]
  },
  {
   "cell_type": "code",
   "execution_count": 10,
   "id": "757ad6e4",
   "metadata": {},
   "outputs": [],
   "source": [
    "## Modeling the sub problem (scenario) -- modeling inside a function\n",
    "function MS_CLDRTO(xInit,uInit,nReac,nScen,pScen,solNom,option)\n",
    "    ###########\n",
    "    # inputs: #\n",
    "    ###########\n",
    "    # xInit - states at the current iteration (beginning of DRTO horizon)\n",
    "    # uInit - inputs at the current iteration, already implemented on the plant\n",
    "    # nReac - number of parallel reactors\n",
    "    # nScen - number of scenarios used in the problem (only one branching)\n",
    "    # pScen - probability of the scenarios\n",
    "    # solNom - nominal solution\n",
    "    # option - strategy for solving MPC\n",
    "\n",
    "    # Creating MPC matrices\n",
    "    mpc = MPC_matrices(nReac)\n",
    "    \n",
    "    # Creating DRTO matrices\n",
    "    drto = DRTO_matrices(nReac,nScen)\n",
    "    \n",
    "    # Define model\n",
    "    if option == 3 || option == 1\n",
    "        model_ms = Model(Ipopt.Optimizer)\n",
    "        set_optimizer_attribute(model_ms, \"max_cpu_time\", 300.0) # 5 min\n",
    "    else \n",
    "        model_ms = Model(CPLEX.Optimizer)\n",
    "        set_optimizer_attribute(model_ms, \"CPX_PARAM_TILIM\", 300.0) # 5 min\n",
    "    end\n",
    "    set_silent(model_ms)\n",
    "    \n",
    "    ####################\n",
    "    # Set up variables #\n",
    "    ####################\n",
    "    # DRTO model variables\n",
    "    @variable(model_ms, xDRTO[1:pD,1:nx,1:nScen])\n",
    "    @variable(model_ms, yDRTO[1:pD,1:nScen])\n",
    "    \n",
    "    # MPC model variables\n",
    "    @variable(model_ms, xMPC[1:pD,1:nx,1:nScen])\n",
    "    @variable(model_ms, yMPC[1:pD,1:nScen])\n",
    "    \n",
    "    # MPC <-> DRTO model deviation\n",
    "    @variable(model_ms, de[1:pD,1:nScen])\n",
    "    \n",
    "    # inputs computed by MPCs\n",
    "    @variable(model_ms, u[1:pD,1:m,1:nScen])\n",
    "    if option == 1\n",
    "        @variable(model_ms, u_w_c[1:pD,1:m,1:nScen]) # inputs w/o clipping\n",
    "    \n",
    "        # input clipping \n",
    "        @variable(model_ms, mu_lb[1:pD,1:m,1:nScen] ≥ 0)\n",
    "        @variable(model_ms, eta_lb[1:pD,1:m,1:nScen] ≥ 0)\n",
    "        @variable(model_ms, mu_ub[1:pD,1:m,1:nScen] ≥ 0)\n",
    "        @variable(model_ms, eta_ub[1:pD,1:m,1:nScen] ≥ 0)       \n",
    "    end\n",
    "    \n",
    "    # setpoints for the controllers sent to the plant (CL-DRTO degrees of freedom)\n",
    "    @variable(model_ms, (yspMin - y0) ≤ ysp[1:pD,1:nScen] ≤ (yspMax - y0))\n",
    "    \n",
    "    # slacks for P soft constraint\n",
    "    @variable(model_ms, delta_p[1:pD,1:nScen] ≥ 0)\n",
    "    \n",
    "    if option == 2 || option == 3\n",
    "        @variable(model_ms, mu_g[1:mD,1:(2*m),1:nScen] ≥ 0) # upper and lower bounds for each input\n",
    "    end\n",
    "    if option == 2\n",
    "        @variable(model_ms, Y_lb[1:mD,1:m,1:nScen], Bin, start = 0) # Binaries for big-M implementation\n",
    "        @variable(model_ms, Y_ub[1:mD,1:m,1:nScen], Bin, start = 0) \n",
    "    end\n",
    "    \n",
    "    ########################\n",
    "    # Set up initial guess #\n",
    "    ########################\n",
    "    if solNom isa Dict\n",
    "        for ss in 1:nScen\n",
    "            for ii in 1:pD\n",
    "                set_start_value(yDRTO[ii,ss], solNom['y'][ii,1]) \n",
    "                set_start_value(yMPC[ii,ss], solNom['c'][ii,1])\n",
    "                set_start_value(ysp[ii,ss], solNom['s'][ii,1])\n",
    "\n",
    "                for rr in 1:nReac # when nReac increases, the number of states change!\n",
    "                    for xx in 1:2 # N.B. nx/reactor is hardcoded here... (maybe use nx/reactor as a function input) \n",
    "                        set_start_value(xDRTO[ii,xx + (rr - 1)*2,ss], solNom['x'][ii,xx,1])    \n",
    "                        set_start_value(xMPC[ii,xx + (rr - 1)*2,ss], solNom['m'][ii,xx,1])           \n",
    "                    end # end xx\n",
    "                end # number \n",
    "                \n",
    "                for uu in 1:m\n",
    "                    set_start_value(u[ii,uu,ss], solNom['u'][ii,uu,1])\n",
    "                end # end of uu\n",
    "            end # eend of ii\n",
    "        end # end of ss\n",
    "    end # end of if\n",
    "    \n",
    "    ######################################\n",
    "    # Set up constraints and expressions #\n",
    "    ######################################\n",
    "    # Model Dynamic for Dynamic RTO\n",
    "    @constraint(model_ms, CLDRTO_dyn_model_1[ss=1:nScen], xDRTO[1,:,ss] .== drto['A'][:,:,ss]*xInit + drto['B'][:,:,ss]*uInit)\n",
    "    @constraint(model_ms, CLDRTO_dyn_model[kk=1:(pD - 1),ss=1:nScen], xDRTO[kk + 1,:,ss] .== drto['A'][:,:,ss]*xDRTO[kk,:,ss] + drto['B'][:,:,ss]*u[kk,1,ss])\n",
    "    @constraint(model_ms, CLDRTO_model_out[kk=1:pD,ss=1:nScen], yDRTO[kk,ss] == dot(drto['C'],xDRTO[kk,:,ss]))\n",
    "    \n",
    "    # fixing setpoint changes after mD\n",
    "    @constraint(model_ms, control_horizon[kk=(mD+1):pD,ss=1:nScen], u[kk,1,ss] .== u[mD,1,ss])\n",
    "    \n",
    "    # P soft constraints\n",
    "    @constraint(model_ms, soft_P[kk=1:pD,ss=1:nScen], yDRTO[kk,ss] - delta_p[kk,ss] ≤ pUB)\n",
    "    \n",
    "    # nonanticipativity constraints\n",
    "    @constraint(model_ms, nonAnt[kk=1:nDRTO,ss=2:nScen], ysp[kk,1] - ysp[kk,ss] == 0.0);\n",
    "    \n",
    "    ################\n",
    "    # MPC solution #\n",
    "    ################\n",
    "    if option == 1\n",
    "        # Model Dynamic for Controller\n",
    "        @constraint(model_ms, MPC_dyn_model_1[ss=1:nScen], xMPC[1,:,ss] .== mpc['A']*xInit + mpc['B']*uInit)\n",
    "        @constraint(model_ms, MPC_dyn_model[kk=1:(pD - 1),ss=1:nScen], xMPC[kk + 1,:,ss] .== mpc['A']*xMPC[kk,:,ss] + mpc['B']*u_w_c[kk,1,ss])\n",
    "        @constraint(model_ms, MPC_model_out[kk=1:pD,ss=1:nScen], yMPC[kk,ss] == dot(mpc['C'],xMPC[kk,:,ss]))\n",
    "\n",
    "        #  Model deviation\n",
    "        @constraint(model_ms, MPC_model_dev[kk=1:pD,ss=1:nScen], de[kk,ss] == yDRTO[kk,ss] - yMPC[kk,ss])\n",
    "        \n",
    "        @expression(model_ms, cfT_1[ss=1:nScen], (mpc['Ψ']*[xMPC[1,:,ss];de[1,ss]] - ysp[1:p,ss])'*mpc['Q']*mpc['Θ'] - uInit'*mpc['I']'*mpc['R']*mpc['M'])\n",
    "        @expression(model_ms, cfT[kk=2:mD,ss=1:nScen], (mpc['Ψ']*[xMPC[kk,:,ss];de[kk,ss]] - ysp[kk:(kk + p - 1),ss])'*mpc['Q']*mpc['Θ'] - u_w_c[kk-1,1,ss]'*mpc['I']'*mpc['R']*mpc['M'])\n",
    "        \n",
    "        # Unconstrained MPC solution  \n",
    "        @constraint(model_ms, MPC_sol_1[ss=1:nScen], mpc['H']*u_w_c[1,:,ss] + cfT_1[ss]' .== 0)\n",
    "        @constraint(model_ms, MPC_sol[kk=2:mD,ss=1:nScen], mpc['H']*u_w_c[kk,:,ss] + cfT[kk,ss]' .== 0)\n",
    "        \n",
    "        # input clipping\n",
    "        @constraint(model_ms, ic_1[kk = 1:mD,uu = 1:m,ss = 1:nScen], u[kk,uu,ss] == u_w_c[kk,uu,ss] - mu_ub[kk,uu,ss] + mu_lb[kk,uu,ss])\n",
    "        @constraint(model_ms, ic_2[kk = 1:mD,uu = 1:m,ss = 1:nScen], (uMax - u0) - u[kk,uu,ss] == eta_ub[kk,uu,ss])\n",
    "        @constraint(model_ms, ic_3[kk = 1:mD,uu = 1:m,ss = 1:nScen], eta_ub[kk,uu,ss]*mu_ub[kk,uu,ss] ≤ 1e-6)\n",
    "        @constraint(model_ms, ic_4[kk = 1:mD,uu = 1:m,ss = 1:nScen], u[kk,uu,ss] - (uMin - u0) == eta_lb[kk,uu,ss])\n",
    "        @constraint(model_ms, ic_5[kk = 1:mD,uu = 1:m,ss = 1:nScen], eta_lb[kk,uu,ss]*mu_lb[kk,uu,ss] ≤ 1e-6)\n",
    "        \n",
    "    elseif option == 2\n",
    "        # Model Dynamic for Controller\n",
    "        @constraint(model_ms, MPC_dyn_model_1[ss=1:nScen], xMPC[1,:,ss] .== mpc['A']*xInit + mpc['B']*uInit)\n",
    "        @constraint(model_ms, MPC_dyn_model[kk=1:(pD - 1),ss=1:nScen], xMPC[kk + 1,:,ss] .== mpc['A']*xMPC[kk,:,ss] + mpc['B']*u[kk,1,ss])\n",
    "        @constraint(model_ms, MPC_model_out[kk=1:pD,ss=1:nScen], yMPC[kk,ss] == dot(mpc['C'],xMPC[kk,:,ss]))\n",
    "\n",
    "        #  Model deviation\n",
    "        @constraint(model_ms, MPC_model_dev[kk=1:pD,ss=1:nScen], de[kk,ss] == yDRTO[kk,ss] - yMPC[kk,ss])\n",
    "        \n",
    "        @expression(model_ms, cfT_1[ss=1:nScen], (mpc['Ψ']*[xMPC[1,:,ss];de[1,ss]] - ysp[1:p,ss])'*mpc['Q']*mpc['Θ'] - uInit'*mpc['I']'*mpc['R']*mpc['M'])\n",
    "        @expression(model_ms, cfT[kk=2:mD,ss=1:nScen], (mpc['Ψ']*[xMPC[kk,:,ss];de[kk,ss]] - ysp[kk:(kk + p - 1),ss])'*mpc['Q']*mpc['Θ'] - u[kk-1,1,ss]'*mpc['I']'*mpc['R']*mpc['M'])\n",
    "\n",
    "        # Constrained with binaries\n",
    "        # 1. stationarity\n",
    "        @constraint(model_ms, MPC_sol_1[ss=1:nScen], u[1,:,ss]'*mpc['H'] + cfT_1[ss] +  mu_g[1,:,ss]'*conMatrix .== 0)\n",
    "        @constraint(model_ms, MPC_sol[kk=2:mD,ss=1:nScen], u[kk,:,ss]'*mpc['H'] + cfT[kk,ss] + mu_g[kk,:,ss]'*conMatrix .== 0)\n",
    "\n",
    "        # 2. primal feasibility\n",
    "        @constraint(model_ms, g_u_u[kk=1:mD,uu=1:m,ss=1:nScen], u[kk,uu,ss] - (uMax - u0) ≤ 0)\n",
    "        @constraint(model_ms, g_u_l[kk=1:mD,uu=1:m,ss=1:nScen], (uMin - u0) - u[kk,uu,ss] ≤ 0)\n",
    "    \n",
    "        # 3. complementarity --> using big-M implementation\n",
    "        @constraint(model_ms, bigM_1[kk=1:mD,uu=1:m,ss=1:nScen], mu_g[kk,uu,ss] ≤ bigM_mu*Y_ub[kk,uu,ss])\n",
    "        @constraint(model_ms, bigM_2[kk=1:mD,uu=1:m,ss=1:nScen], mu_g[kk,uu + m,ss] ≤ bigM_mu*Y_lb[kk,uu,ss])\n",
    "        @constraint(model_ms, bigM_3[kk=1:mD,uu=1:m,ss=1:nScen], u[kk,uu,ss] - (uMax - u0) ≥ -bigM_u*(1 - Y_ub[kk,uu,ss]))\n",
    "        @constraint(model_ms, bigM_4[kk=1:mD,uu=1:m,ss=1:nScen], (uMin - u0) - u[kk,uu,ss] ≥ -bigM_u*(1 - Y_lb[kk,uu,ss]))\n",
    "        \n",
    "        @constraint(model_ms, compSlack[kk=1:mD,uu=1:m,ss=1:nScen], Y_ub[kk,uu,ss] + Y_lb[kk,uu,ss] ≤ 1)\n",
    "    \n",
    "    elseif option == 3\n",
    "        # Model Dynamic for Controller\n",
    "        @constraint(model_ms, MPC_dyn_model_1[ss=1:nScen], xMPC[1,:,ss] .== mpc['A']*xInit + mpc['B']*uInit)\n",
    "        @constraint(model_ms, MPC_dyn_model[kk=1:(pD - 1),ss=1:nScen], xMPC[kk + 1,:,ss] .== mpc['A']*xMPC[kk,:,ss] + mpc['B']*u[kk,1,ss])\n",
    "        @constraint(model_ms, MPC_model_out[kk=1:pD,ss=1:nScen], yMPC[kk,ss] == dot(mpc['C'],xMPC[kk,:,ss]))\n",
    "\n",
    "        #  Model deviation\n",
    "        @constraint(model_ms, MPC_model_dev[kk=1:pD,ss=1:nScen], de[kk,ss] == yDRTO[kk,ss] - yMPC[kk,ss])\n",
    "\n",
    "        @expression(model_ms, cfT_1[ss=1:nScen], (mpc['Ψ']*[xMPC[1,:,ss];de[1,ss]] - ysp[1:p,ss])'*mpc['Q']*mpc['Θ'] - uInit'*mpc['I']'*mpc['R']*mpc['M'])\n",
    "        @expression(model_ms, cfT[kk=2:mD,ss=1:nScen], (mpc['Ψ']*[xMPC[kk,:,ss];de[kk,ss]] - ysp[kk:(kk + p - 1),ss])'*mpc['Q']*mpc['Θ'] - u[kk-1,1,ss]'*mpc['I']'*mpc['R']*mpc['M'])\n",
    "\n",
    "        # Constrained with MPCC\n",
    "        # 1. stationarity\n",
    "        @constraint(model_ms, MPC_sol_1[ss=1:nScen], u[1,:,ss]'*mpc['H'] + cfT_1[ss] +  mu_g[1,:,ss]'*conMatrix .== 0)\n",
    "        @constraint(model_ms, MPC_sol[kk=2:mD,ss=1:nScen], u[kk,:,ss]'*mpc['H'] + cfT[kk,ss] + mu_g[kk,:,ss]'*conMatrix .== 0)\n",
    "\n",
    "        # 2. primal feasibility\n",
    "        @expression(model_ms, g_u_u[kk=1:mD,uu=1:m,ss=1:nScen], u[kk,uu,ss] - (uMax - u0))\n",
    "        @expression(model_ms, g_u_l[kk=1:mD,uu=1:m,ss=1:nScen], (uMin - u0) - u[kk,uu,ss])\n",
    "        \n",
    "        @constraint(model_ms, MPC_c_upper[kk=1:mD,uu=1:m,ss=1:nScen], g_u_u[kk,uu,ss] ≤ 0)\n",
    "        @constraint(model_ms, MPC_c_lower[kk=1:mD,uu=1:m,ss=1:nScen], g_u_l[kk,uu,ss] ≤ 0)\n",
    "        \n",
    "    end\n",
    "        \n",
    "    #############################\n",
    "    # Set up objective function #\n",
    "    #############################\n",
    "    if option == 1 || option == 2\n",
    "        @objective(model_ms, Min, \n",
    "            pScen*sum((yDRTO[kk,ss] - pTrack)^2 + wP*delta_p[kk,ss]^2 for kk in 1:pD, ss in 1:nScen)\n",
    "        )\n",
    "    else\n",
    "        @objective(model_ms, Min, pScen*sum((yDRTO[kk,ss] - pTrack)^2 + wP*delta_p[kk,ss]^2 for kk in 1:pD, ss in 1:nScen)\n",
    "                                - pScen*pi_bar*sum(\n",
    "                                                sum(mu_g[kk,jj,ss]*g_u_u[kk,jj,ss] for jj = 1:m) +\n",
    "                                                sum(mu_g[kk,jj + m,ss]*g_u_l[kk,jj,ss] for jj = 1:m)\n",
    "                                                for kk = 1:mD, ss in 1:nScen)\n",
    "        )\n",
    "    end\n",
    "    # @show model_ms\n",
    "\n",
    "    #################\n",
    "    # Solve Problem #\n",
    "    #################\n",
    "    optimize!(model_ms)\n",
    "    \n",
    "    status = termination_status(model_ms)\n",
    "    #display(status)\n",
    "    \n",
    "    if status == MOI.OPTIMAL || status == MOI.ALMOST_OPTIMAL || status == MOI.LOCALLY_SOLVED\n",
    "        # Proved optimality or Optimal within relaxed tolerances\n",
    "        # solution time\n",
    "        timeSol = solve_time(model_ms)\n",
    "\n",
    "        flag = 1\n",
    "        # #primal_status(m)\n",
    "\n",
    "        #calling values of the solved problem\n",
    "        ϕ = objective_value(model_ms)\n",
    "        uArray = value.(u)\n",
    "        yspArray = value.(ysp)\n",
    "        yDRTOArray = value.(yDRTO)\n",
    "        yMPCArray = value.(yMPC)\n",
    "        xDRTOArray = value.(xDRTO)\n",
    "        xMPCArray = value.(xMPC)\n",
    "\n",
    "        outputFun = Dict('ϕ' => ϕ,\n",
    "                        't' => timeSol,\n",
    "                        'f' => flag, \n",
    "                        'u' => uArray,\n",
    "                        's' => yspArray,\n",
    "                        'x' => xDRTOArray,\n",
    "                        'y' => yDRTOArray, \n",
    "                        'm' => xMPCArray,\n",
    "                        'c' => yMPCArray)\n",
    "        \n",
    "        if option == 2 || option == 3\n",
    "            muArray = value.(mu_g)\n",
    "            merge!(outputFun,Dict('μ'=> muArray))\n",
    "        end\n",
    "        \n",
    "        return outputFun\n",
    "    else\n",
    "        # Handle other cases.\n",
    "        flag = 0\n",
    "        \n",
    "        return flag\n",
    "    end\n",
    "end;"
   ]
  },
  {
   "cell_type": "markdown",
   "id": "bfd1e7ad",
   "metadata": {},
   "source": [
    "Computing nominal solution"
   ]
  },
  {
   "cell_type": "code",
   "execution_count": 11,
   "id": "58f128a3",
   "metadata": {},
   "outputs": [],
   "source": [
    "#number of scenarios \n",
    "scenNom = 1\n",
    "#equiprobable scenarios\n",
    "pNom = 1.0\n",
    "#number of reactors \n",
    "reacNom = 1\n",
    "# number of states of the nominal solution\n",
    "nx = 2*reacNom\n",
    "# MPC solution option\n",
    "optNom = 1 # unconstrained\n",
    "\n",
    "solNominal = MS_CLDRTO(x0,u0,reacNom,scenNom,pNom,0,optNom);"
   ]
  },
  {
   "cell_type": "markdown",
   "id": "9af85077",
   "metadata": {},
   "source": [
    "# Checking the performance of the methods in terms of time vs. nScen"
   ]
  },
  {
   "cell_type": "code",
   "execution_count": 12,
   "id": "d6559ac9",
   "metadata": {},
   "outputs": [
    {
     "data": {
      "text/plain": [
       "\"simulation iteration: 1 | option 1\""
      ]
     },
     "metadata": {},
     "output_type": "display_data"
    },
    {
     "data": {
      "text/plain": [
       "\"simulation iteration: 2 | option 1\""
      ]
     },
     "metadata": {},
     "output_type": "display_data"
    },
    {
     "data": {
      "text/plain": [
       "\"simulation iteration: 3 | option 1\""
      ]
     },
     "metadata": {},
     "output_type": "display_data"
    },
    {
     "data": {
      "text/plain": [
       "\"simulation iteration: 4 | option 1\""
      ]
     },
     "metadata": {},
     "output_type": "display_data"
    },
    {
     "data": {
      "text/plain": [
       "\"simulation iteration: 5 | option 1\""
      ]
     },
     "metadata": {},
     "output_type": "display_data"
    },
    {
     "data": {
      "text/plain": [
       "\"simulation iteration: 6 | option 1\""
      ]
     },
     "metadata": {},
     "output_type": "display_data"
    },
    {
     "data": {
      "text/plain": [
       "\"simulation iteration: 7 | option 1\""
      ]
     },
     "metadata": {},
     "output_type": "display_data"
    },
    {
     "data": {
      "text/plain": [
       "\"simulation iteration: 8 | option 1\""
      ]
     },
     "metadata": {},
     "output_type": "display_data"
    },
    {
     "data": {
      "text/plain": [
       "\"simulation iteration: 9 | option 1\""
      ]
     },
     "metadata": {},
     "output_type": "display_data"
    },
    {
     "data": {
      "text/plain": [
       "\"simulation iteration: 10 | option 1\""
      ]
     },
     "metadata": {},
     "output_type": "display_data"
    },
    {
     "data": {
      "text/plain": [
       "\"simulation iteration: 11 | option 1\""
      ]
     },
     "metadata": {},
     "output_type": "display_data"
    },
    {
     "data": {
      "text/plain": [
       "\"simulation iteration: 12 | option 1\""
      ]
     },
     "metadata": {},
     "output_type": "display_data"
    },
    {
     "data": {
      "text/plain": [
       "\"simulation iteration: 13 | option 1\""
      ]
     },
     "metadata": {},
     "output_type": "display_data"
    },
    {
     "data": {
      "text/plain": [
       "\"simulation iteration: 14 | option 1\""
      ]
     },
     "metadata": {},
     "output_type": "display_data"
    },
    {
     "data": {
      "text/plain": [
       "\"simulation iteration: 15 | option 1\""
      ]
     },
     "metadata": {},
     "output_type": "display_data"
    },
    {
     "data": {
      "text/plain": [
       "\"simulation iteration: 16 | option 1\""
      ]
     },
     "metadata": {},
     "output_type": "display_data"
    },
    {
     "data": {
      "text/plain": [
       "\"simulation iteration: 17 | option 1\""
      ]
     },
     "metadata": {},
     "output_type": "display_data"
    },
    {
     "data": {
      "text/plain": [
       "\"simulation iteration: 18 | option 1\""
      ]
     },
     "metadata": {},
     "output_type": "display_data"
    },
    {
     "data": {
      "text/plain": [
       "\"simulation iteration: 19 | option 1\""
      ]
     },
     "metadata": {},
     "output_type": "display_data"
    },
    {
     "data": {
      "text/plain": [
       "\"simulation iteration: 20 | option 1\""
      ]
     },
     "metadata": {},
     "output_type": "display_data"
    },
    {
     "data": {
      "text/plain": [
       "\"simulation iteration: 21 | option 1\""
      ]
     },
     "metadata": {},
     "output_type": "display_data"
    },
    {
     "data": {
      "text/plain": [
       "\"simulation iteration: 22 | option 1\""
      ]
     },
     "metadata": {},
     "output_type": "display_data"
    },
    {
     "data": {
      "text/plain": [
       "\"simulation iteration: 23 | option 1\""
      ]
     },
     "metadata": {},
     "output_type": "display_data"
    },
    {
     "data": {
      "text/plain": [
       "\"simulation iteration: 24 | option 1\""
      ]
     },
     "metadata": {},
     "output_type": "display_data"
    },
    {
     "data": {
      "text/plain": [
       "\"simulation iteration: 25 | option 1\""
      ]
     },
     "metadata": {},
     "output_type": "display_data"
    },
    {
     "data": {
      "text/plain": [
       "\"simulation iteration: 26 | option 1\""
      ]
     },
     "metadata": {},
     "output_type": "display_data"
    },
    {
     "data": {
      "text/plain": [
       "\"simulation iteration: 27 | option 1\""
      ]
     },
     "metadata": {},
     "output_type": "display_data"
    },
    {
     "data": {
      "text/plain": [
       "\"simulation iteration: 28 | option 1\""
      ]
     },
     "metadata": {},
     "output_type": "display_data"
    },
    {
     "data": {
      "text/plain": [
       "\"simulation iteration: 29 | option 1\""
      ]
     },
     "metadata": {},
     "output_type": "display_data"
    },
    {
     "data": {
      "text/plain": [
       "\"simulation iteration: 30 | option 1\""
      ]
     },
     "metadata": {},
     "output_type": "display_data"
    },
    {
     "data": {
      "text/plain": [
       "\"simulation iteration: 31 | option 1\""
      ]
     },
     "metadata": {},
     "output_type": "display_data"
    },
    {
     "data": {
      "text/plain": [
       "\"simulation iteration: 32 | option 1\""
      ]
     },
     "metadata": {},
     "output_type": "display_data"
    },
    {
     "data": {
      "text/plain": [
       "\"simulation iteration: 33 | option 1\""
      ]
     },
     "metadata": {},
     "output_type": "display_data"
    },
    {
     "data": {
      "text/plain": [
       "\"simulation iteration: 34 | option 1\""
      ]
     },
     "metadata": {},
     "output_type": "display_data"
    },
    {
     "data": {
      "text/plain": [
       "\"simulation iteration: 35 | option 1\""
      ]
     },
     "metadata": {},
     "output_type": "display_data"
    },
    {
     "data": {
      "text/plain": [
       "\"simulation iteration: 36 | option 1\""
      ]
     },
     "metadata": {},
     "output_type": "display_data"
    },
    {
     "data": {
      "text/plain": [
       "\"simulation iteration: 37 | option 1\""
      ]
     },
     "metadata": {},
     "output_type": "display_data"
    },
    {
     "data": {
      "text/plain": [
       "\"simulation iteration: 38 | option 1\""
      ]
     },
     "metadata": {},
     "output_type": "display_data"
    },
    {
     "data": {
      "text/plain": [
       "\"simulation iteration: 39 | option 1\""
      ]
     },
     "metadata": {},
     "output_type": "display_data"
    },
    {
     "data": {
      "text/plain": [
       "\"simulation iteration: 40 | option 1\""
      ]
     },
     "metadata": {},
     "output_type": "display_data"
    },
    {
     "data": {
      "text/plain": [
       "\"simulation iteration: 41 | option 1\""
      ]
     },
     "metadata": {},
     "output_type": "display_data"
    },
    {
     "data": {
      "text/plain": [
       "\"simulation iteration: 42 | option 1\""
      ]
     },
     "metadata": {},
     "output_type": "display_data"
    },
    {
     "data": {
      "text/plain": [
       "\"simulation iteration: 43 | option 1\""
      ]
     },
     "metadata": {},
     "output_type": "display_data"
    },
    {
     "data": {
      "text/plain": [
       "\"simulation iteration: 44 | option 1\""
      ]
     },
     "metadata": {},
     "output_type": "display_data"
    },
    {
     "data": {
      "text/plain": [
       "\"simulation iteration: 45 | option 1\""
      ]
     },
     "metadata": {},
     "output_type": "display_data"
    },
    {
     "data": {
      "text/plain": [
       "\"simulation iteration: 46 | option 1\""
      ]
     },
     "metadata": {},
     "output_type": "display_data"
    },
    {
     "data": {
      "text/plain": [
       "\"simulation iteration: 47 | option 1\""
      ]
     },
     "metadata": {},
     "output_type": "display_data"
    },
    {
     "data": {
      "text/plain": [
       "\"simulation iteration: 48 | option 1\""
      ]
     },
     "metadata": {},
     "output_type": "display_data"
    },
    {
     "data": {
      "text/plain": [
       "\"simulation iteration: 49 | option 1\""
      ]
     },
     "metadata": {},
     "output_type": "display_data"
    },
    {
     "data": {
      "text/plain": [
       "\"simulation iteration: 50 | option 1\""
      ]
     },
     "metadata": {},
     "output_type": "display_data"
    },
    {
     "data": {
      "text/plain": [
       "\"simulation iteration: 1 | option 2\""
      ]
     },
     "metadata": {},
     "output_type": "display_data"
    },
    {
     "data": {
      "text/plain": [
       "\"simulation iteration: 2 | option 2\""
      ]
     },
     "metadata": {},
     "output_type": "display_data"
    },
    {
     "data": {
      "text/plain": [
       "\"simulation iteration: 3 | option 2\""
      ]
     },
     "metadata": {},
     "output_type": "display_data"
    },
    {
     "data": {
      "text/plain": [
       "\"simulation iteration: 4 | option 2\""
      ]
     },
     "metadata": {},
     "output_type": "display_data"
    },
    {
     "data": {
      "text/plain": [
       "\"simulation iteration: 5 | option 2\""
      ]
     },
     "metadata": {},
     "output_type": "display_data"
    },
    {
     "data": {
      "text/plain": [
       "\"simulation iteration: 6 | option 2\""
      ]
     },
     "metadata": {},
     "output_type": "display_data"
    },
    {
     "data": {
      "text/plain": [
       "\"simulation iteration: 7 | option 2\""
      ]
     },
     "metadata": {},
     "output_type": "display_data"
    },
    {
     "data": {
      "text/plain": [
       "\"simulation iteration: 8 | option 2\""
      ]
     },
     "metadata": {},
     "output_type": "display_data"
    },
    {
     "data": {
      "text/plain": [
       "\"simulation iteration: 9 | option 2\""
      ]
     },
     "metadata": {},
     "output_type": "display_data"
    },
    {
     "data": {
      "text/plain": [
       "\"simulation iteration: 10 | option 2\""
      ]
     },
     "metadata": {},
     "output_type": "display_data"
    },
    {
     "data": {
      "text/plain": [
       "\"simulation iteration: 11 | option 2\""
      ]
     },
     "metadata": {},
     "output_type": "display_data"
    },
    {
     "data": {
      "text/plain": [
       "\"simulation iteration: 12 | option 2\""
      ]
     },
     "metadata": {},
     "output_type": "display_data"
    },
    {
     "data": {
      "text/plain": [
       "\"simulation iteration: 13 | option 2\""
      ]
     },
     "metadata": {},
     "output_type": "display_data"
    },
    {
     "data": {
      "text/plain": [
       "\"simulation iteration: 14 | option 2\""
      ]
     },
     "metadata": {},
     "output_type": "display_data"
    },
    {
     "data": {
      "text/plain": [
       "\"simulation iteration: 15 | option 2\""
      ]
     },
     "metadata": {},
     "output_type": "display_data"
    },
    {
     "data": {
      "text/plain": [
       "\"simulation iteration: 16 | option 2\""
      ]
     },
     "metadata": {},
     "output_type": "display_data"
    },
    {
     "data": {
      "text/plain": [
       "\"simulation iteration: 17 | option 2\""
      ]
     },
     "metadata": {},
     "output_type": "display_data"
    },
    {
     "data": {
      "text/plain": [
       "\"simulation iteration: 18 | option 2\""
      ]
     },
     "metadata": {},
     "output_type": "display_data"
    },
    {
     "data": {
      "text/plain": [
       "\"simulation iteration: 19 | option 2\""
      ]
     },
     "metadata": {},
     "output_type": "display_data"
    },
    {
     "data": {
      "text/plain": [
       "\"simulation iteration: 20 | option 2\""
      ]
     },
     "metadata": {},
     "output_type": "display_data"
    },
    {
     "data": {
      "text/plain": [
       "\"simulation iteration: 21 | option 2\""
      ]
     },
     "metadata": {},
     "output_type": "display_data"
    },
    {
     "data": {
      "text/plain": [
       "\"simulation iteration: 22 | option 2\""
      ]
     },
     "metadata": {},
     "output_type": "display_data"
    },
    {
     "data": {
      "text/plain": [
       "\"simulation iteration: 23 | option 2\""
      ]
     },
     "metadata": {},
     "output_type": "display_data"
    },
    {
     "data": {
      "text/plain": [
       "\"simulation iteration: 24 | option 2\""
      ]
     },
     "metadata": {},
     "output_type": "display_data"
    },
    {
     "data": {
      "text/plain": [
       "\"simulation iteration: 25 | option 2\""
      ]
     },
     "metadata": {},
     "output_type": "display_data"
    },
    {
     "data": {
      "text/plain": [
       "\"simulation iteration: 26 | option 2\""
      ]
     },
     "metadata": {},
     "output_type": "display_data"
    },
    {
     "data": {
      "text/plain": [
       "\"simulation iteration: 27 | option 2\""
      ]
     },
     "metadata": {},
     "output_type": "display_data"
    },
    {
     "data": {
      "text/plain": [
       "\"simulation iteration: 28 | option 2\""
      ]
     },
     "metadata": {},
     "output_type": "display_data"
    },
    {
     "data": {
      "text/plain": [
       "\"simulation iteration: 29 | option 2\""
      ]
     },
     "metadata": {},
     "output_type": "display_data"
    },
    {
     "data": {
      "text/plain": [
       "\"simulation iteration: 30 | option 2\""
      ]
     },
     "metadata": {},
     "output_type": "display_data"
    },
    {
     "data": {
      "text/plain": [
       "\"simulation iteration: 31 | option 2\""
      ]
     },
     "metadata": {},
     "output_type": "display_data"
    },
    {
     "data": {
      "text/plain": [
       "\"simulation iteration: 32 | option 2\""
      ]
     },
     "metadata": {},
     "output_type": "display_data"
    },
    {
     "data": {
      "text/plain": [
       "\"simulation iteration: 33 | option 2\""
      ]
     },
     "metadata": {},
     "output_type": "display_data"
    },
    {
     "data": {
      "text/plain": [
       "\"simulation iteration: 34 | option 2\""
      ]
     },
     "metadata": {},
     "output_type": "display_data"
    },
    {
     "data": {
      "text/plain": [
       "\"simulation iteration: 35 | option 2\""
      ]
     },
     "metadata": {},
     "output_type": "display_data"
    },
    {
     "data": {
      "text/plain": [
       "\"simulation iteration: 36 | option 2\""
      ]
     },
     "metadata": {},
     "output_type": "display_data"
    },
    {
     "data": {
      "text/plain": [
       "\"simulation iteration: 37 | option 2\""
      ]
     },
     "metadata": {},
     "output_type": "display_data"
    },
    {
     "data": {
      "text/plain": [
       "\"simulation iteration: 38 | option 2\""
      ]
     },
     "metadata": {},
     "output_type": "display_data"
    },
    {
     "data": {
      "text/plain": [
       "\"simulation iteration: 39 | option 2\""
      ]
     },
     "metadata": {},
     "output_type": "display_data"
    },
    {
     "data": {
      "text/plain": [
       "\"simulation iteration: 40 | option 2\""
      ]
     },
     "metadata": {},
     "output_type": "display_data"
    },
    {
     "data": {
      "text/plain": [
       "\"simulation iteration: 41 | option 2\""
      ]
     },
     "metadata": {},
     "output_type": "display_data"
    },
    {
     "data": {
      "text/plain": [
       "\"simulation iteration: 42 | option 2\""
      ]
     },
     "metadata": {},
     "output_type": "display_data"
    },
    {
     "data": {
      "text/plain": [
       "\"simulation iteration: 43 | option 2\""
      ]
     },
     "metadata": {},
     "output_type": "display_data"
    },
    {
     "data": {
      "text/plain": [
       "\"simulation iteration: 44 | option 2\""
      ]
     },
     "metadata": {},
     "output_type": "display_data"
    },
    {
     "data": {
      "text/plain": [
       "\"simulation iteration: 45 | option 2\""
      ]
     },
     "metadata": {},
     "output_type": "display_data"
    },
    {
     "data": {
      "text/plain": [
       "\"simulation iteration: 46 | option 2\""
      ]
     },
     "metadata": {},
     "output_type": "display_data"
    },
    {
     "data": {
      "text/plain": [
       "\"simulation iteration: 47 | option 2\""
      ]
     },
     "metadata": {},
     "output_type": "display_data"
    },
    {
     "data": {
      "text/plain": [
       "\"simulation iteration: 48 | option 2\""
      ]
     },
     "metadata": {},
     "output_type": "display_data"
    },
    {
     "data": {
      "text/plain": [
       "\"simulation iteration: 49 | option 2\""
      ]
     },
     "metadata": {},
     "output_type": "display_data"
    },
    {
     "data": {
      "text/plain": [
       "\"simulation iteration: 50 | option 2\""
      ]
     },
     "metadata": {},
     "output_type": "display_data"
    },
    {
     "data": {
      "text/plain": [
       "\"simulation iteration: 1 | option 3\""
      ]
     },
     "metadata": {},
     "output_type": "display_data"
    },
    {
     "name": "stdout",
     "output_type": "stream",
     "text": [
      "\n",
      "******************************************************************************\n",
      "This program contains Ipopt, a library for large-scale nonlinear optimization.\n",
      " Ipopt is released as open source code under the Eclipse Public License (EPL).\n",
      "         For more information visit https://github.com/coin-or/Ipopt\n",
      "******************************************************************************\n",
      "\n"
     ]
    },
    {
     "data": {
      "text/plain": [
       "\"simulation iteration: 2 | option 3\""
      ]
     },
     "metadata": {},
     "output_type": "display_data"
    },
    {
     "data": {
      "text/plain": [
       "\"simulation iteration: 3 | option 3\""
      ]
     },
     "metadata": {},
     "output_type": "display_data"
    },
    {
     "data": {
      "text/plain": [
       "\"simulation iteration: 4 | option 3\""
      ]
     },
     "metadata": {},
     "output_type": "display_data"
    },
    {
     "data": {
      "text/plain": [
       "\"simulation iteration: 5 | option 3\""
      ]
     },
     "metadata": {},
     "output_type": "display_data"
    },
    {
     "data": {
      "text/plain": [
       "\"simulation iteration: 6 | option 3\""
      ]
     },
     "metadata": {},
     "output_type": "display_data"
    },
    {
     "data": {
      "text/plain": [
       "\"simulation iteration: 7 | option 3\""
      ]
     },
     "metadata": {},
     "output_type": "display_data"
    },
    {
     "data": {
      "text/plain": [
       "\"simulation iteration: 8 | option 3\""
      ]
     },
     "metadata": {},
     "output_type": "display_data"
    },
    {
     "data": {
      "text/plain": [
       "\"simulation iteration: 9 | option 3\""
      ]
     },
     "metadata": {},
     "output_type": "display_data"
    },
    {
     "data": {
      "text/plain": [
       "\"simulation iteration: 10 | option 3\""
      ]
     },
     "metadata": {},
     "output_type": "display_data"
    },
    {
     "data": {
      "text/plain": [
       "\"simulation iteration: 11 | option 3\""
      ]
     },
     "metadata": {},
     "output_type": "display_data"
    },
    {
     "data": {
      "text/plain": [
       "\"simulation iteration: 12 | option 3\""
      ]
     },
     "metadata": {},
     "output_type": "display_data"
    },
    {
     "data": {
      "text/plain": [
       "\"simulation iteration: 13 | option 3\""
      ]
     },
     "metadata": {},
     "output_type": "display_data"
    },
    {
     "data": {
      "text/plain": [
       "\"simulation iteration: 14 | option 3\""
      ]
     },
     "metadata": {},
     "output_type": "display_data"
    },
    {
     "data": {
      "text/plain": [
       "\"simulation iteration: 15 | option 3\""
      ]
     },
     "metadata": {},
     "output_type": "display_data"
    },
    {
     "data": {
      "text/plain": [
       "\"simulation iteration: 16 | option 3\""
      ]
     },
     "metadata": {},
     "output_type": "display_data"
    },
    {
     "data": {
      "text/plain": [
       "\"simulation iteration: 17 | option 3\""
      ]
     },
     "metadata": {},
     "output_type": "display_data"
    },
    {
     "data": {
      "text/plain": [
       "\"simulation iteration: 18 | option 3\""
      ]
     },
     "metadata": {},
     "output_type": "display_data"
    },
    {
     "data": {
      "text/plain": [
       "\"simulation iteration: 19 | option 3\""
      ]
     },
     "metadata": {},
     "output_type": "display_data"
    },
    {
     "data": {
      "text/plain": [
       "\"simulation iteration: 20 | option 3\""
      ]
     },
     "metadata": {},
     "output_type": "display_data"
    },
    {
     "data": {
      "text/plain": [
       "\"simulation iteration: 21 | option 3\""
      ]
     },
     "metadata": {},
     "output_type": "display_data"
    },
    {
     "data": {
      "text/plain": [
       "\"simulation iteration: 22 | option 3\""
      ]
     },
     "metadata": {},
     "output_type": "display_data"
    },
    {
     "data": {
      "text/plain": [
       "\"simulation iteration: 23 | option 3\""
      ]
     },
     "metadata": {},
     "output_type": "display_data"
    },
    {
     "data": {
      "text/plain": [
       "\"simulation iteration: 24 | option 3\""
      ]
     },
     "metadata": {},
     "output_type": "display_data"
    },
    {
     "data": {
      "text/plain": [
       "\"simulation iteration: 25 | option 3\""
      ]
     },
     "metadata": {},
     "output_type": "display_data"
    },
    {
     "data": {
      "text/plain": [
       "\"simulation iteration: 26 | option 3\""
      ]
     },
     "metadata": {},
     "output_type": "display_data"
    },
    {
     "data": {
      "text/plain": [
       "\"simulation iteration: 27 | option 3\""
      ]
     },
     "metadata": {},
     "output_type": "display_data"
    },
    {
     "data": {
      "text/plain": [
       "\"simulation iteration: 28 | option 3\""
      ]
     },
     "metadata": {},
     "output_type": "display_data"
    },
    {
     "data": {
      "text/plain": [
       "\"simulation iteration: 29 | option 3\""
      ]
     },
     "metadata": {},
     "output_type": "display_data"
    },
    {
     "data": {
      "text/plain": [
       "\"simulation iteration: 30 | option 3\""
      ]
     },
     "metadata": {},
     "output_type": "display_data"
    },
    {
     "data": {
      "text/plain": [
       "\"simulation iteration: 31 | option 3\""
      ]
     },
     "metadata": {},
     "output_type": "display_data"
    },
    {
     "data": {
      "text/plain": [
       "\"simulation iteration: 32 | option 3\""
      ]
     },
     "metadata": {},
     "output_type": "display_data"
    },
    {
     "data": {
      "text/plain": [
       "\"simulation iteration: 33 | option 3\""
      ]
     },
     "metadata": {},
     "output_type": "display_data"
    },
    {
     "data": {
      "text/plain": [
       "\"simulation iteration: 34 | option 3\""
      ]
     },
     "metadata": {},
     "output_type": "display_data"
    },
    {
     "data": {
      "text/plain": [
       "\"simulation iteration: 35 | option 3\""
      ]
     },
     "metadata": {},
     "output_type": "display_data"
    },
    {
     "data": {
      "text/plain": [
       "\"simulation iteration: 36 | option 3\""
      ]
     },
     "metadata": {},
     "output_type": "display_data"
    },
    {
     "data": {
      "text/plain": [
       "\"simulation iteration: 37 | option 3\""
      ]
     },
     "metadata": {},
     "output_type": "display_data"
    },
    {
     "data": {
      "text/plain": [
       "\"simulation iteration: 38 | option 3\""
      ]
     },
     "metadata": {},
     "output_type": "display_data"
    },
    {
     "data": {
      "text/plain": [
       "\"simulation iteration: 39 | option 3\""
      ]
     },
     "metadata": {},
     "output_type": "display_data"
    },
    {
     "data": {
      "text/plain": [
       "\"simulation iteration: 40 | option 3\""
      ]
     },
     "metadata": {},
     "output_type": "display_data"
    },
    {
     "data": {
      "text/plain": [
       "\"simulation iteration: 41 | option 3\""
      ]
     },
     "metadata": {},
     "output_type": "display_data"
    },
    {
     "data": {
      "text/plain": [
       "\"simulation iteration: 42 | option 3\""
      ]
     },
     "metadata": {},
     "output_type": "display_data"
    },
    {
     "data": {
      "text/plain": [
       "\"simulation iteration: 43 | option 3\""
      ]
     },
     "metadata": {},
     "output_type": "display_data"
    },
    {
     "data": {
      "text/plain": [
       "\"simulation iteration: 44 | option 3\""
      ]
     },
     "metadata": {},
     "output_type": "display_data"
    },
    {
     "data": {
      "text/plain": [
       "\"simulation iteration: 45 | option 3\""
      ]
     },
     "metadata": {},
     "output_type": "display_data"
    },
    {
     "data": {
      "text/plain": [
       "\"simulation iteration: 46 | option 3\""
      ]
     },
     "metadata": {},
     "output_type": "display_data"
    },
    {
     "data": {
      "text/plain": [
       "\"simulation iteration: 47 | option 3\""
      ]
     },
     "metadata": {},
     "output_type": "display_data"
    },
    {
     "data": {
      "text/plain": [
       "\"simulation iteration: 48 | option 3\""
      ]
     },
     "metadata": {},
     "output_type": "display_data"
    },
    {
     "data": {
      "text/plain": [
       "\"simulation iteration: 49 | option 3\""
      ]
     },
     "metadata": {},
     "output_type": "display_data"
    },
    {
     "data": {
      "text/plain": [
       "\"simulation iteration: 50 | option 3\""
      ]
     },
     "metadata": {},
     "output_type": "display_data"
    }
   ],
   "source": [
    "nScenTotal = 50 # 15 | 50\n",
    "\n",
    "# preparing plot --> strategy for solving MPC\n",
    "solTimeTraj_s = Matrix{Float64}(undef,3,nScenTotal) \n",
    "\n",
    "# number of reactors in parallel\n",
    "nReactors = 1\n",
    "# Number of states\n",
    "nx = 2*nReactors\n",
    "\n",
    "# Initial conditions (deviation form)\n",
    "xInit_0 = repeat([0.3583;0.6418] .- x0, outer = [nReactors,1]);\n",
    "uInit_0 = 1.0 - u0;\n",
    "\n",
    "for opti in 1:3\n",
    "    #option = 1 # : Unconstrained MPC\n",
    "    #option = 2 # : Constrained MPC with binaries\n",
    "    #option = 3 # : Constrained MPC with MPCC\n",
    "\n",
    "    for ss in 1:nScenTotal\n",
    "        display(\"evaluation $(ss) scenarios | option $(opti)\")\n",
    "        \n",
    "        #number os scenarios\n",
    "        nScen = ss\n",
    "        #equiprobable scenarios\n",
    "        pScen = 1.0/nScen;\n",
    "        \n",
    "        # solving monolithical problem \n",
    "        sol_m_Dict = MS_CLDRTO(xInit_0,uInit_0,nReactors,nScen,pScen,solNominal,opti)\n",
    "        \n",
    "        # saving values for plotting if problem was solved\n",
    "        # output being a dictionary controls if the solver has converged or not \n",
    "        if sol_m_Dict isa Dict\n",
    "            solTimeTraj_s[opti,ss] = sol_m_Dict['t']\n",
    "        else\n",
    "            solTimeTraj_s[opti,ss] = NaN\n",
    "        end\n",
    "        \n",
    "    end\n",
    "end\n"
   ]
  },
  {
   "cell_type": "code",
   "execution_count": 13,
   "id": "349d5d60",
   "metadata": {},
   "outputs": [
    {
     "data": {
      "image/svg+xml": [
       "<?xml version=\"1.0\" encoding=\"utf-8\"?>\n",
       "<svg xmlns=\"http://www.w3.org/2000/svg\" xmlns:xlink=\"http://www.w3.org/1999/xlink\" width=\"600\" height=\"400\" viewBox=\"0 0 2400 1600\">\n",
       "<defs>\n",
       "  <clipPath id=\"clip860\">\n",
       "    <rect x=\"0\" y=\"0\" width=\"2400\" height=\"1600\"/>\n",
       "  </clipPath>\n",
       "</defs>\n",
       "<path clip-path=\"url(#clip860)\" d=\"M0 1600 L2400 1600 L2400 0 L0 0  Z\" fill=\"#ffffff\" fill-rule=\"evenodd\" fill-opacity=\"1\"/>\n",
       "<defs>\n",
       "  <clipPath id=\"clip861\">\n",
       "    <rect x=\"480\" y=\"0\" width=\"1681\" height=\"1600\"/>\n",
       "  </clipPath>\n",
       "</defs>\n",
       "<path clip-path=\"url(#clip860)\" d=\"M205.121 1423.18 L2352.76 1423.18 L2352.76 47.2441 L205.121 47.2441  Z\" fill=\"#ffffff\" fill-rule=\"evenodd\" fill-opacity=\"1\"/>\n",
       "<defs>\n",
       "  <clipPath id=\"clip862\">\n",
       "    <rect x=\"205\" y=\"47\" width=\"2149\" height=\"1377\"/>\n",
       "  </clipPath>\n",
       "</defs>\n",
       "<polyline clip-path=\"url(#clip862)\" style=\"stroke:#000000; stroke-linecap:round; stroke-linejoin:round; stroke-width:8; stroke-opacity:0.1; fill:none\" points=\"224.555,1423.18 224.555,47.2441 \"/>\n",
       "<polyline clip-path=\"url(#clip862)\" style=\"stroke:#000000; stroke-linecap:round; stroke-linejoin:round; stroke-width:8; stroke-opacity:0.1; fill:none\" points=\"638.039,1423.18 638.039,47.2441 \"/>\n",
       "<polyline clip-path=\"url(#clip862)\" style=\"stroke:#000000; stroke-linecap:round; stroke-linejoin:round; stroke-width:8; stroke-opacity:0.1; fill:none\" points=\"1051.52,1423.18 1051.52,47.2441 \"/>\n",
       "<polyline clip-path=\"url(#clip862)\" style=\"stroke:#000000; stroke-linecap:round; stroke-linejoin:round; stroke-width:8; stroke-opacity:0.1; fill:none\" points=\"1465.01,1423.18 1465.01,47.2441 \"/>\n",
       "<polyline clip-path=\"url(#clip862)\" style=\"stroke:#000000; stroke-linecap:round; stroke-linejoin:round; stroke-width:8; stroke-opacity:0.1; fill:none\" points=\"1878.49,1423.18 1878.49,47.2441 \"/>\n",
       "<polyline clip-path=\"url(#clip862)\" style=\"stroke:#000000; stroke-linecap:round; stroke-linejoin:round; stroke-width:8; stroke-opacity:0.1; fill:none\" points=\"2291.97,1423.18 2291.97,47.2441 \"/>\n",
       "<polyline clip-path=\"url(#clip860)\" style=\"stroke:#000000; stroke-linecap:round; stroke-linejoin:round; stroke-width:4; stroke-opacity:1; fill:none\" points=\"205.121,1423.18 2352.76,1423.18 \"/>\n",
       "<polyline clip-path=\"url(#clip860)\" style=\"stroke:#000000; stroke-linecap:round; stroke-linejoin:round; stroke-width:4; stroke-opacity:1; fill:none\" points=\"224.555,1423.18 224.555,1404.28 \"/>\n",
       "<polyline clip-path=\"url(#clip860)\" style=\"stroke:#000000; stroke-linecap:round; stroke-linejoin:round; stroke-width:4; stroke-opacity:1; fill:none\" points=\"638.039,1423.18 638.039,1404.28 \"/>\n",
       "<polyline clip-path=\"url(#clip860)\" style=\"stroke:#000000; stroke-linecap:round; stroke-linejoin:round; stroke-width:4; stroke-opacity:1; fill:none\" points=\"1051.52,1423.18 1051.52,1404.28 \"/>\n",
       "<polyline clip-path=\"url(#clip860)\" style=\"stroke:#000000; stroke-linecap:round; stroke-linejoin:round; stroke-width:4; stroke-opacity:1; fill:none\" points=\"1465.01,1423.18 1465.01,1404.28 \"/>\n",
       "<polyline clip-path=\"url(#clip860)\" style=\"stroke:#000000; stroke-linecap:round; stroke-linejoin:round; stroke-width:4; stroke-opacity:1; fill:none\" points=\"1878.49,1423.18 1878.49,1404.28 \"/>\n",
       "<polyline clip-path=\"url(#clip860)\" style=\"stroke:#000000; stroke-linecap:round; stroke-linejoin:round; stroke-width:4; stroke-opacity:1; fill:none\" points=\"2291.97,1423.18 2291.97,1404.28 \"/>\n",
       "<path clip-path=\"url(#clip860)\" d=\"M224.555 1454.1 Q220.944 1454.1 219.115 1457.66 Q217.309 1461.2 217.309 1468.33 Q217.309 1475.44 219.115 1479.01 Q220.944 1482.55 224.555 1482.55 Q228.189 1482.55 229.994 1479.01 Q231.823 1475.44 231.823 1468.33 Q231.823 1461.2 229.994 1457.66 Q228.189 1454.1 224.555 1454.1 M224.555 1450.39 Q230.365 1450.39 233.42 1455 Q236.499 1459.58 236.499 1468.33 Q236.499 1477.06 233.42 1481.67 Q230.365 1486.25 224.555 1486.25 Q218.745 1486.25 215.666 1481.67 Q212.61 1477.06 212.61 1468.33 Q212.61 1459.58 215.666 1455 Q218.745 1450.39 224.555 1450.39 Z\" fill=\"#000000\" fill-rule=\"evenodd\" fill-opacity=\"1\" /><path clip-path=\"url(#clip860)\" d=\"M612.726 1481.64 L620.365 1481.64 L620.365 1455.28 L612.055 1456.95 L612.055 1452.69 L620.319 1451.02 L624.995 1451.02 L624.995 1481.64 L632.633 1481.64 L632.633 1485.58 L612.726 1485.58 L612.726 1481.64 Z\" fill=\"#000000\" fill-rule=\"evenodd\" fill-opacity=\"1\" /><path clip-path=\"url(#clip860)\" d=\"M652.078 1454.1 Q648.467 1454.1 646.638 1457.66 Q644.832 1461.2 644.832 1468.33 Q644.832 1475.44 646.638 1479.01 Q648.467 1482.55 652.078 1482.55 Q655.712 1482.55 657.518 1479.01 Q659.346 1475.44 659.346 1468.33 Q659.346 1461.2 657.518 1457.66 Q655.712 1454.1 652.078 1454.1 M652.078 1450.39 Q657.888 1450.39 660.943 1455 Q664.022 1459.58 664.022 1468.33 Q664.022 1477.06 660.943 1481.67 Q657.888 1486.25 652.078 1486.25 Q646.268 1486.25 643.189 1481.67 Q640.133 1477.06 640.133 1468.33 Q640.133 1459.58 643.189 1455 Q646.268 1450.39 652.078 1450.39 Z\" fill=\"#000000\" fill-rule=\"evenodd\" fill-opacity=\"1\" /><path clip-path=\"url(#clip860)\" d=\"M1030.3 1481.64 L1046.61 1481.64 L1046.61 1485.58 L1024.67 1485.58 L1024.67 1481.64 Q1027.33 1478.89 1031.92 1474.26 Q1036.52 1469.61 1037.7 1468.27 Q1039.95 1465.74 1040.83 1464.01 Q1041.73 1462.25 1041.73 1460.56 Q1041.73 1457.8 1039.79 1456.07 Q1037.87 1454.33 1034.76 1454.33 Q1032.56 1454.33 1030.11 1455.09 Q1027.68 1455.86 1024.9 1457.41 L1024.9 1452.69 Q1027.73 1451.55 1030.18 1450.97 Q1032.63 1450.39 1034.67 1450.39 Q1040.04 1450.39 1043.24 1453.08 Q1046.43 1455.77 1046.43 1460.26 Q1046.43 1462.39 1045.62 1464.31 Q1044.83 1466.2 1042.73 1468.8 Q1042.15 1469.47 1039.05 1472.69 Q1035.94 1475.88 1030.3 1481.64 Z\" fill=\"#000000\" fill-rule=\"evenodd\" fill-opacity=\"1\" /><path clip-path=\"url(#clip860)\" d=\"M1066.43 1454.1 Q1062.82 1454.1 1060.99 1457.66 Q1059.18 1461.2 1059.18 1468.33 Q1059.18 1475.44 1060.99 1479.01 Q1062.82 1482.55 1066.43 1482.55 Q1070.06 1482.55 1071.87 1479.01 Q1073.7 1475.44 1073.7 1468.33 Q1073.7 1461.2 1071.87 1457.66 Q1070.06 1454.1 1066.43 1454.1 M1066.43 1450.39 Q1072.24 1450.39 1075.3 1455 Q1078.37 1459.58 1078.37 1468.33 Q1078.37 1477.06 1075.3 1481.67 Q1072.24 1486.25 1066.43 1486.25 Q1060.62 1486.25 1057.54 1481.67 Q1054.49 1477.06 1054.49 1468.33 Q1054.49 1459.58 1057.54 1455 Q1060.62 1450.39 1066.43 1450.39 Z\" fill=\"#000000\" fill-rule=\"evenodd\" fill-opacity=\"1\" /><path clip-path=\"url(#clip860)\" d=\"M1453.85 1466.95 Q1457.21 1467.66 1459.08 1469.93 Q1460.98 1472.2 1460.98 1475.53 Q1460.98 1480.65 1457.46 1483.45 Q1453.94 1486.25 1447.46 1486.25 Q1445.28 1486.25 1442.97 1485.81 Q1440.68 1485.39 1438.22 1484.54 L1438.22 1480.02 Q1440.17 1481.16 1442.48 1481.74 Q1444.8 1482.32 1447.32 1482.32 Q1451.72 1482.32 1454.01 1480.58 Q1456.33 1478.84 1456.33 1475.53 Q1456.33 1472.48 1454.17 1470.77 Q1452.04 1469.03 1448.22 1469.03 L1444.2 1469.03 L1444.2 1465.19 L1448.41 1465.19 Q1451.86 1465.19 1453.69 1463.82 Q1455.52 1462.43 1455.52 1459.84 Q1455.52 1457.18 1453.62 1455.77 Q1451.74 1454.33 1448.22 1454.33 Q1446.3 1454.33 1444.1 1454.75 Q1441.9 1455.16 1439.27 1456.04 L1439.27 1451.88 Q1441.93 1451.14 1444.24 1450.77 Q1446.58 1450.39 1448.64 1450.39 Q1453.96 1450.39 1457.07 1452.83 Q1460.17 1455.23 1460.17 1459.35 Q1460.17 1462.22 1458.52 1464.21 Q1456.88 1466.18 1453.85 1466.95 Z\" fill=\"#000000\" fill-rule=\"evenodd\" fill-opacity=\"1\" /><path clip-path=\"url(#clip860)\" d=\"M1479.84 1454.1 Q1476.23 1454.1 1474.4 1457.66 Q1472.6 1461.2 1472.6 1468.33 Q1472.6 1475.44 1474.4 1479.01 Q1476.23 1482.55 1479.84 1482.55 Q1483.48 1482.55 1485.28 1479.01 Q1487.11 1475.44 1487.11 1468.33 Q1487.11 1461.2 1485.28 1457.66 Q1483.48 1454.1 1479.84 1454.1 M1479.84 1450.39 Q1485.65 1450.39 1488.71 1455 Q1491.79 1459.58 1491.79 1468.33 Q1491.79 1477.06 1488.71 1481.67 Q1485.65 1486.25 1479.84 1486.25 Q1474.03 1486.25 1470.96 1481.67 Q1467.9 1477.06 1467.9 1468.33 Q1467.9 1459.58 1470.96 1455 Q1474.03 1450.39 1479.84 1450.39 Z\" fill=\"#000000\" fill-rule=\"evenodd\" fill-opacity=\"1\" /><path clip-path=\"url(#clip860)\" d=\"M1866.66 1455.09 L1854.86 1473.54 L1866.66 1473.54 L1866.66 1455.09 M1865.43 1451.02 L1871.31 1451.02 L1871.31 1473.54 L1876.24 1473.54 L1876.24 1477.43 L1871.31 1477.43 L1871.31 1485.58 L1866.66 1485.58 L1866.66 1477.43 L1851.06 1477.43 L1851.06 1472.92 L1865.43 1451.02 Z\" fill=\"#000000\" fill-rule=\"evenodd\" fill-opacity=\"1\" /><path clip-path=\"url(#clip860)\" d=\"M1893.98 1454.1 Q1890.36 1454.1 1888.54 1457.66 Q1886.73 1461.2 1886.73 1468.33 Q1886.73 1475.44 1888.54 1479.01 Q1890.36 1482.55 1893.98 1482.55 Q1897.61 1482.55 1899.42 1479.01 Q1901.24 1475.44 1901.24 1468.33 Q1901.24 1461.2 1899.42 1457.66 Q1897.61 1454.1 1893.98 1454.1 M1893.98 1450.39 Q1899.79 1450.39 1902.84 1455 Q1905.92 1459.58 1905.92 1468.33 Q1905.92 1477.06 1902.84 1481.67 Q1899.79 1486.25 1893.98 1486.25 Q1888.17 1486.25 1885.09 1481.67 Q1882.03 1477.06 1882.03 1468.33 Q1882.03 1459.58 1885.09 1455 Q1888.17 1450.39 1893.98 1450.39 Z\" fill=\"#000000\" fill-rule=\"evenodd\" fill-opacity=\"1\" /><path clip-path=\"url(#clip860)\" d=\"M2266.67 1451.02 L2285.03 1451.02 L2285.03 1454.96 L2270.96 1454.96 L2270.96 1463.43 Q2271.97 1463.08 2272.99 1462.92 Q2274.01 1462.73 2275.03 1462.73 Q2280.82 1462.73 2284.2 1465.9 Q2287.58 1469.08 2287.58 1474.49 Q2287.58 1480.07 2284.1 1483.17 Q2280.63 1486.25 2274.31 1486.25 Q2272.14 1486.25 2269.87 1485.88 Q2267.62 1485.51 2265.21 1484.77 L2265.21 1480.07 Q2267.3 1481.2 2269.52 1481.76 Q2271.74 1482.32 2274.22 1482.32 Q2278.22 1482.32 2280.56 1480.21 Q2282.9 1478.1 2282.9 1474.49 Q2282.9 1470.88 2280.56 1468.77 Q2278.22 1466.67 2274.22 1466.67 Q2272.34 1466.67 2270.47 1467.08 Q2268.62 1467.5 2266.67 1468.38 L2266.67 1451.02 Z\" fill=\"#000000\" fill-rule=\"evenodd\" fill-opacity=\"1\" /><path clip-path=\"url(#clip860)\" d=\"M2306.79 1454.1 Q2303.18 1454.1 2301.35 1457.66 Q2299.54 1461.2 2299.54 1468.33 Q2299.54 1475.44 2301.35 1479.01 Q2303.18 1482.55 2306.79 1482.55 Q2310.42 1482.55 2312.23 1479.01 Q2314.06 1475.44 2314.06 1468.33 Q2314.06 1461.2 2312.23 1457.66 Q2310.42 1454.1 2306.79 1454.1 M2306.79 1450.39 Q2312.6 1450.39 2315.65 1455 Q2318.73 1459.58 2318.73 1468.33 Q2318.73 1477.06 2315.65 1481.67 Q2312.6 1486.25 2306.79 1486.25 Q2300.98 1486.25 2297.9 1481.67 Q2294.84 1477.06 2294.84 1468.33 Q2294.84 1459.58 2297.9 1455 Q2300.98 1450.39 2306.79 1450.39 Z\" fill=\"#000000\" fill-rule=\"evenodd\" fill-opacity=\"1\" /><path clip-path=\"url(#clip860)\" d=\"M1118.71 1539.37 L1109.45 1539.37 L1106.78 1550 L1116.1 1550 L1118.71 1539.37 M1113.94 1521.26 L1110.63 1534.46 L1119.92 1534.46 L1123.27 1521.26 L1128.36 1521.26 L1125.08 1534.46 L1135.01 1534.46 L1135.01 1539.37 L1123.84 1539.37 L1121.23 1550 L1131.35 1550 L1131.35 1554.87 L1119.99 1554.87 L1116.68 1568.04 L1111.58 1568.04 L1114.86 1554.87 L1105.54 1554.87 L1102.26 1568.04 L1097.13 1568.04 L1100.44 1554.87 L1090.42 1554.87 L1090.42 1550 L1101.62 1550 L1104.3 1539.37 L1094.05 1539.37 L1094.05 1534.46 L1105.54 1534.46 L1108.78 1521.26 L1113.94 1521.26 Z\" fill=\"#000000\" fill-rule=\"evenodd\" fill-opacity=\"1\" /><path clip-path=\"url(#clip860)\" d=\"M1189.6 1533.45 L1189.6 1538.98 Q1187.11 1537.71 1184.44 1537.07 Q1181.77 1536.44 1178.9 1536.44 Q1174.54 1536.44 1172.34 1537.77 Q1170.18 1539.11 1170.18 1541.79 Q1170.18 1543.82 1171.74 1545 Q1173.3 1546.15 1178.01 1547.2 L1180.02 1547.64 Q1186.25 1548.98 1188.86 1551.43 Q1191.51 1553.85 1191.51 1558.21 Q1191.51 1563.17 1187.56 1566.07 Q1183.64 1568.97 1176.77 1568.97 Q1173.9 1568.97 1170.79 1568.39 Q1167.7 1567.85 1164.26 1566.74 L1164.26 1560.69 Q1167.51 1562.38 1170.66 1563.24 Q1173.81 1564.07 1176.9 1564.07 Q1181.03 1564.07 1183.26 1562.66 Q1185.49 1561.23 1185.49 1558.65 Q1185.49 1556.27 1183.87 1554.99 Q1182.28 1553.72 1176.83 1552.54 L1174.8 1552.07 Q1169.35 1550.92 1166.93 1548.56 Q1164.51 1546.18 1164.51 1542.04 Q1164.51 1537.01 1168.08 1534.27 Q1171.64 1531.54 1178.2 1531.54 Q1181.45 1531.54 1184.31 1532.01 Q1187.18 1532.49 1189.6 1533.45 Z\" fill=\"#000000\" fill-rule=\"evenodd\" fill-opacity=\"1\" /><path clip-path=\"url(#clip860)\" d=\"M1226.49 1533.76 L1226.49 1539.24 Q1224 1537.87 1221.49 1537.2 Q1219.01 1536.5 1216.46 1536.5 Q1210.76 1536.5 1207.61 1540.13 Q1204.46 1543.73 1204.46 1550.25 Q1204.46 1556.78 1207.61 1560.4 Q1210.76 1564 1216.46 1564 Q1219.01 1564 1221.49 1563.33 Q1224 1562.63 1226.49 1561.26 L1226.49 1566.68 Q1224.03 1567.82 1221.39 1568.39 Q1218.78 1568.97 1215.82 1568.97 Q1207.77 1568.97 1203.03 1563.91 Q1198.28 1558.85 1198.28 1550.25 Q1198.28 1541.53 1203.06 1536.53 Q1207.87 1531.54 1216.2 1531.54 Q1218.91 1531.54 1221.49 1532.11 Q1224.07 1532.65 1226.49 1533.76 Z\" fill=\"#000000\" fill-rule=\"evenodd\" fill-opacity=\"1\" /><path clip-path=\"url(#clip860)\" d=\"M1267.16 1548.76 L1267.16 1551.62 L1240.23 1551.62 Q1240.62 1557.67 1243.86 1560.85 Q1247.14 1564 1252.97 1564 Q1256.34 1564 1259.49 1563.17 Q1262.67 1562.35 1265.79 1560.69 L1265.79 1566.23 Q1262.64 1567.57 1259.33 1568.27 Q1256.02 1568.97 1252.62 1568.97 Q1244.09 1568.97 1239.09 1564 Q1234.12 1559.04 1234.12 1550.57 Q1234.12 1541.82 1238.83 1536.69 Q1243.58 1531.54 1251.6 1531.54 Q1258.79 1531.54 1262.96 1536.18 Q1267.16 1540.8 1267.16 1548.76 M1261.31 1547.04 Q1261.24 1542.23 1258.6 1539.37 Q1255.99 1536.5 1251.66 1536.5 Q1246.76 1536.5 1243.8 1539.27 Q1240.87 1542.04 1240.43 1547.07 L1261.31 1547.04 Z\" fill=\"#000000\" fill-rule=\"evenodd\" fill-opacity=\"1\" /><path clip-path=\"url(#clip860)\" d=\"M1306.41 1546.53 L1306.41 1568.04 L1300.55 1568.04 L1300.55 1546.72 Q1300.55 1541.66 1298.58 1539.14 Q1296.6 1536.63 1292.66 1536.63 Q1287.91 1536.63 1285.18 1539.65 Q1282.44 1542.68 1282.44 1547.9 L1282.44 1568.04 L1276.55 1568.04 L1276.55 1532.4 L1282.44 1532.4 L1282.44 1537.93 Q1284.54 1534.72 1287.37 1533.13 Q1290.24 1531.54 1293.96 1531.54 Q1300.1 1531.54 1303.26 1535.36 Q1306.41 1539.14 1306.41 1546.53 Z\" fill=\"#000000\" fill-rule=\"evenodd\" fill-opacity=\"1\" /><path clip-path=\"url(#clip860)\" d=\"M1334.29 1550.12 Q1327.19 1550.12 1324.45 1551.75 Q1321.72 1553.37 1321.72 1557.29 Q1321.72 1560.4 1323.75 1562.25 Q1325.82 1564.07 1329.35 1564.07 Q1334.22 1564.07 1337.15 1560.63 Q1340.11 1557.16 1340.11 1551.43 L1340.11 1550.12 L1334.29 1550.12 M1345.97 1547.71 L1345.97 1568.04 L1340.11 1568.04 L1340.11 1562.63 Q1338.11 1565.88 1335.12 1567.44 Q1332.12 1568.97 1327.8 1568.97 Q1322.32 1568.97 1319.07 1565.91 Q1315.86 1562.82 1315.86 1557.67 Q1315.86 1551.65 1319.87 1548.6 Q1323.91 1545.54 1331.9 1545.54 L1340.11 1545.54 L1340.11 1544.97 Q1340.11 1540.93 1337.44 1538.73 Q1334.8 1536.5 1329.99 1536.5 Q1326.94 1536.5 1324.04 1537.23 Q1321.14 1537.97 1318.47 1539.43 L1318.47 1534.02 Q1321.68 1532.78 1324.71 1532.17 Q1327.73 1531.54 1330.6 1531.54 Q1338.33 1531.54 1342.15 1535.55 Q1345.97 1539.56 1345.97 1547.71 Z\" fill=\"#000000\" fill-rule=\"evenodd\" fill-opacity=\"1\" /><path clip-path=\"url(#clip860)\" d=\"M1378.69 1537.87 Q1377.7 1537.3 1376.52 1537.04 Q1375.38 1536.76 1373.98 1536.76 Q1369.01 1536.76 1366.34 1540 Q1363.7 1543.22 1363.7 1549.27 L1363.7 1568.04 L1357.81 1568.04 L1357.81 1532.4 L1363.7 1532.4 L1363.7 1537.93 Q1365.54 1534.69 1368.5 1533.13 Q1371.46 1531.54 1375.7 1531.54 Q1376.3 1531.54 1377.03 1531.63 Q1377.77 1531.7 1378.66 1531.85 L1378.69 1537.87 Z\" fill=\"#000000\" fill-rule=\"evenodd\" fill-opacity=\"1\" /><path clip-path=\"url(#clip860)\" d=\"M1384.83 1532.4 L1390.69 1532.4 L1390.69 1568.04 L1384.83 1568.04 L1384.83 1532.4 M1384.83 1518.52 L1390.69 1518.52 L1390.69 1525.93 L1384.83 1525.93 L1384.83 1518.52 Z\" fill=\"#000000\" fill-rule=\"evenodd\" fill-opacity=\"1\" /><path clip-path=\"url(#clip860)\" d=\"M1416.76 1536.5 Q1412.05 1536.5 1409.31 1540.19 Q1406.57 1543.85 1406.57 1550.25 Q1406.57 1556.65 1409.28 1560.34 Q1412.01 1564 1416.76 1564 Q1421.43 1564 1424.17 1560.31 Q1426.91 1556.62 1426.91 1550.25 Q1426.91 1543.92 1424.17 1540.23 Q1421.43 1536.5 1416.76 1536.5 M1416.76 1531.54 Q1424.39 1531.54 1428.76 1536.5 Q1433.12 1541.47 1433.12 1550.25 Q1433.12 1559 1428.76 1564 Q1424.39 1568.97 1416.76 1568.97 Q1409.09 1568.97 1404.72 1564 Q1400.4 1559 1400.4 1550.25 Q1400.4 1541.47 1404.72 1536.5 Q1409.09 1531.54 1416.76 1531.54 Z\" fill=\"#000000\" fill-rule=\"evenodd\" fill-opacity=\"1\" /><path clip-path=\"url(#clip860)\" d=\"M1465.55 1533.45 L1465.55 1538.98 Q1463.07 1537.71 1460.39 1537.07 Q1457.72 1536.44 1454.85 1536.44 Q1450.49 1536.44 1448.3 1537.77 Q1446.13 1539.11 1446.13 1541.79 Q1446.13 1543.82 1447.69 1545 Q1449.25 1546.15 1453.96 1547.2 L1455.97 1547.64 Q1462.21 1548.98 1464.82 1551.43 Q1467.46 1553.85 1467.46 1558.21 Q1467.46 1563.17 1463.51 1566.07 Q1459.6 1568.97 1452.72 1568.97 Q1449.86 1568.97 1446.74 1568.39 Q1443.65 1567.85 1440.21 1566.74 L1440.21 1560.69 Q1443.46 1562.38 1446.61 1563.24 Q1449.76 1564.07 1452.85 1564.07 Q1456.99 1564.07 1459.22 1562.66 Q1461.44 1561.23 1461.44 1558.65 Q1461.44 1556.27 1459.82 1554.99 Q1458.23 1553.72 1452.79 1552.54 L1450.75 1552.07 Q1445.31 1550.92 1442.89 1548.56 Q1440.47 1546.18 1440.47 1542.04 Q1440.47 1537.01 1444.03 1534.27 Q1447.6 1531.54 1454.15 1531.54 Q1457.4 1531.54 1460.27 1532.01 Q1463.13 1532.49 1465.55 1533.45 Z\" fill=\"#000000\" fill-rule=\"evenodd\" fill-opacity=\"1\" /><polyline clip-path=\"url(#clip862)\" style=\"stroke:#000000; stroke-linecap:round; stroke-linejoin:round; stroke-width:8; stroke-opacity:0.1; fill:none\" points=\"205.121,1384.38 2352.76,1384.38 \"/>\n",
       "<polyline clip-path=\"url(#clip862)\" style=\"stroke:#000000; stroke-linecap:round; stroke-linejoin:round; stroke-width:8; stroke-opacity:0.1; fill:none\" points=\"205.121,1064.9 2352.76,1064.9 \"/>\n",
       "<polyline clip-path=\"url(#clip862)\" style=\"stroke:#000000; stroke-linecap:round; stroke-linejoin:round; stroke-width:8; stroke-opacity:0.1; fill:none\" points=\"205.121,745.427 2352.76,745.427 \"/>\n",
       "<polyline clip-path=\"url(#clip862)\" style=\"stroke:#000000; stroke-linecap:round; stroke-linejoin:round; stroke-width:8; stroke-opacity:0.1; fill:none\" points=\"205.121,425.95 2352.76,425.95 \"/>\n",
       "<polyline clip-path=\"url(#clip862)\" style=\"stroke:#000000; stroke-linecap:round; stroke-linejoin:round; stroke-width:8; stroke-opacity:0.1; fill:none\" points=\"205.121,106.472 2352.76,106.472 \"/>\n",
       "<polyline clip-path=\"url(#clip860)\" style=\"stroke:#000000; stroke-linecap:round; stroke-linejoin:round; stroke-width:4; stroke-opacity:1; fill:none\" points=\"205.121,1423.18 205.121,47.2441 \"/>\n",
       "<polyline clip-path=\"url(#clip860)\" style=\"stroke:#000000; stroke-linecap:round; stroke-linejoin:round; stroke-width:4; stroke-opacity:1; fill:none\" points=\"205.121,1384.38 224.019,1384.38 \"/>\n",
       "<polyline clip-path=\"url(#clip860)\" style=\"stroke:#000000; stroke-linecap:round; stroke-linejoin:round; stroke-width:4; stroke-opacity:1; fill:none\" points=\"205.121,1064.9 224.019,1064.9 \"/>\n",
       "<polyline clip-path=\"url(#clip860)\" style=\"stroke:#000000; stroke-linecap:round; stroke-linejoin:round; stroke-width:4; stroke-opacity:1; fill:none\" points=\"205.121,745.427 224.019,745.427 \"/>\n",
       "<polyline clip-path=\"url(#clip860)\" style=\"stroke:#000000; stroke-linecap:round; stroke-linejoin:round; stroke-width:4; stroke-opacity:1; fill:none\" points=\"205.121,425.95 224.019,425.95 \"/>\n",
       "<polyline clip-path=\"url(#clip860)\" style=\"stroke:#000000; stroke-linecap:round; stroke-linejoin:round; stroke-width:4; stroke-opacity:1; fill:none\" points=\"205.121,106.472 224.019,106.472 \"/>\n",
       "<path clip-path=\"url(#clip860)\" d=\"M157.177 1370.18 Q153.566 1370.18 151.737 1373.75 Q149.931 1377.29 149.931 1384.42 Q149.931 1391.52 151.737 1395.09 Q153.566 1398.63 157.177 1398.63 Q160.811 1398.63 162.616 1395.09 Q164.445 1391.52 164.445 1384.42 Q164.445 1377.29 162.616 1373.75 Q160.811 1370.18 157.177 1370.18 M157.177 1366.48 Q162.987 1366.48 166.042 1371.08 Q169.121 1375.67 169.121 1384.42 Q169.121 1393.14 166.042 1397.75 Q162.987 1402.33 157.177 1402.33 Q151.366 1402.33 148.288 1397.75 Q145.232 1393.14 145.232 1384.42 Q145.232 1375.67 148.288 1371.08 Q151.366 1366.48 157.177 1366.48 Z\" fill=\"#000000\" fill-rule=\"evenodd\" fill-opacity=\"1\" /><path clip-path=\"url(#clip860)\" d=\"M121.043 1078.25 L137.362 1078.25 L137.362 1082.18 L115.418 1082.18 L115.418 1078.25 Q118.08 1075.49 122.663 1070.87 Q127.269 1066.21 128.45 1064.87 Q130.695 1062.35 131.575 1060.61 Q132.478 1058.85 132.478 1057.16 Q132.478 1054.41 130.533 1052.67 Q128.612 1050.93 125.51 1050.93 Q123.311 1050.93 120.857 1051.7 Q118.427 1052.46 115.649 1054.01 L115.649 1049.29 Q118.473 1048.16 120.927 1047.58 Q123.38 1047 125.418 1047 Q130.788 1047 133.982 1049.68 Q137.177 1052.37 137.177 1056.86 Q137.177 1058.99 136.367 1060.91 Q135.579 1062.81 133.473 1065.4 Q132.894 1066.07 129.792 1069.29 Q126.691 1072.49 121.043 1078.25 Z\" fill=\"#000000\" fill-rule=\"evenodd\" fill-opacity=\"1\" /><path clip-path=\"url(#clip860)\" d=\"M157.177 1050.7 Q153.566 1050.7 151.737 1054.27 Q149.931 1057.81 149.931 1064.94 Q149.931 1072.05 151.737 1075.61 Q153.566 1079.15 157.177 1079.15 Q160.811 1079.15 162.616 1075.61 Q164.445 1072.05 164.445 1064.94 Q164.445 1057.81 162.616 1054.27 Q160.811 1050.7 157.177 1050.7 M157.177 1047 Q162.987 1047 166.042 1051.61 Q169.121 1056.19 169.121 1064.94 Q169.121 1073.67 166.042 1078.27 Q162.987 1082.86 157.177 1082.86 Q151.366 1082.86 148.288 1078.27 Q145.232 1073.67 145.232 1064.94 Q145.232 1056.19 148.288 1051.61 Q151.366 1047 157.177 1047 Z\" fill=\"#000000\" fill-rule=\"evenodd\" fill-opacity=\"1\" /><path clip-path=\"url(#clip860)\" d=\"M129.862 732.221 L118.056 750.67 L129.862 750.67 L129.862 732.221 M128.635 728.147 L134.515 728.147 L134.515 750.67 L139.445 750.67 L139.445 754.559 L134.515 754.559 L134.515 762.707 L129.862 762.707 L129.862 754.559 L114.26 754.559 L114.26 750.045 L128.635 728.147 Z\" fill=\"#000000\" fill-rule=\"evenodd\" fill-opacity=\"1\" /><path clip-path=\"url(#clip860)\" d=\"M157.177 731.226 Q153.566 731.226 151.737 734.791 Q149.931 738.332 149.931 745.462 Q149.931 752.568 151.737 756.133 Q153.566 759.675 157.177 759.675 Q160.811 759.675 162.616 756.133 Q164.445 752.568 164.445 745.462 Q164.445 738.332 162.616 734.791 Q160.811 731.226 157.177 731.226 M157.177 727.522 Q162.987 727.522 166.042 732.129 Q169.121 736.712 169.121 745.462 Q169.121 754.189 166.042 758.795 Q162.987 763.379 157.177 763.379 Q151.366 763.379 148.288 758.795 Q145.232 754.189 145.232 745.462 Q145.232 736.712 148.288 732.129 Q151.366 727.522 157.177 727.522 Z\" fill=\"#000000\" fill-rule=\"evenodd\" fill-opacity=\"1\" /><path clip-path=\"url(#clip860)\" d=\"M127.593 424.086 Q124.445 424.086 122.593 426.239 Q120.765 428.392 120.765 432.142 Q120.765 435.869 122.593 438.045 Q124.445 440.197 127.593 440.197 Q130.742 440.197 132.57 438.045 Q134.422 435.869 134.422 432.142 Q134.422 428.392 132.57 426.239 Q130.742 424.086 127.593 424.086 M136.876 409.434 L136.876 413.693 Q135.117 412.86 133.311 412.42 Q131.529 411.98 129.769 411.98 Q125.14 411.98 122.686 415.105 Q120.255 418.23 119.908 424.549 Q121.274 422.536 123.334 421.471 Q125.394 420.383 127.871 420.383 Q133.08 420.383 136.089 423.554 Q139.121 426.702 139.121 432.142 Q139.121 437.466 135.973 440.684 Q132.825 443.901 127.593 443.901 Q121.598 443.901 118.427 439.318 Q115.256 434.711 115.256 425.985 Q115.256 417.79 119.144 412.929 Q123.033 408.045 129.584 408.045 Q131.343 408.045 133.126 408.392 Q134.931 408.739 136.876 409.434 Z\" fill=\"#000000\" fill-rule=\"evenodd\" fill-opacity=\"1\" /><path clip-path=\"url(#clip860)\" d=\"M157.177 411.749 Q153.566 411.749 151.737 415.313 Q149.931 418.855 149.931 425.985 Q149.931 433.091 151.737 436.656 Q153.566 440.197 157.177 440.197 Q160.811 440.197 162.616 436.656 Q164.445 433.091 164.445 425.985 Q164.445 418.855 162.616 415.313 Q160.811 411.749 157.177 411.749 M157.177 408.045 Q162.987 408.045 166.042 412.651 Q169.121 417.235 169.121 425.985 Q169.121 434.711 166.042 439.318 Q162.987 443.901 157.177 443.901 Q151.366 443.901 148.288 439.318 Q145.232 434.711 145.232 425.985 Q145.232 417.235 148.288 412.651 Q151.366 408.045 157.177 408.045 Z\" fill=\"#000000\" fill-rule=\"evenodd\" fill-opacity=\"1\" /><path clip-path=\"url(#clip860)\" d=\"M127.015 107.341 Q123.681 107.341 121.76 109.123 Q119.862 110.905 119.862 114.03 Q119.862 117.155 121.76 118.938 Q123.681 120.72 127.015 120.72 Q130.348 120.72 132.269 118.938 Q134.191 117.132 134.191 114.03 Q134.191 110.905 132.269 109.123 Q130.371 107.341 127.015 107.341 M122.339 105.35 Q119.33 104.609 117.64 102.549 Q115.973 100.489 115.973 97.5258 Q115.973 93.3823 118.913 90.9749 Q121.876 88.5675 127.015 88.5675 Q132.177 88.5675 135.117 90.9749 Q138.056 93.3823 138.056 97.5258 Q138.056 100.489 136.367 102.549 Q134.7 104.609 131.714 105.35 Q135.093 106.137 136.968 108.428 Q138.867 110.72 138.867 114.03 Q138.867 119.053 135.788 121.739 Q132.732 124.424 127.015 124.424 Q121.297 124.424 118.218 121.739 Q115.163 119.053 115.163 114.03 Q115.163 110.72 117.061 108.428 Q118.959 106.137 122.339 105.35 M120.626 97.9656 Q120.626 100.651 122.293 102.155 Q123.982 103.66 127.015 103.66 Q130.024 103.66 131.714 102.155 Q133.427 100.651 133.427 97.9656 Q133.427 95.2804 131.714 93.7758 Q130.024 92.2712 127.015 92.2712 Q123.982 92.2712 122.293 93.7758 Q120.626 95.2804 120.626 97.9656 Z\" fill=\"#000000\" fill-rule=\"evenodd\" fill-opacity=\"1\" /><path clip-path=\"url(#clip860)\" d=\"M157.177 92.2712 Q153.566 92.2712 151.737 95.836 Q149.931 99.3776 149.931 106.507 Q149.931 113.614 151.737 117.178 Q153.566 120.72 157.177 120.72 Q160.811 120.72 162.616 117.178 Q164.445 113.614 164.445 106.507 Q164.445 99.3776 162.616 95.836 Q160.811 92.2712 157.177 92.2712 M157.177 88.5675 Q162.987 88.5675 166.042 93.1739 Q169.121 97.7573 169.121 106.507 Q169.121 115.234 166.042 119.84 Q162.987 124.424 157.177 124.424 Q151.366 124.424 148.288 119.84 Q145.232 115.234 145.232 106.507 Q145.232 97.7573 148.288 93.1739 Q151.366 88.5675 157.177 88.5675 Z\" fill=\"#000000\" fill-rule=\"evenodd\" fill-opacity=\"1\" /><path clip-path=\"url(#clip860)\" d=\"M29.4065 898.413 L34.9447 898.413 Q33.6716 900.895 33.035 903.569 Q32.3984 906.243 32.3984 909.107 Q32.3984 913.468 33.7352 915.664 Q35.072 917.828 37.7456 917.828 Q39.7826 917.828 40.9603 916.269 Q42.1061 914.709 43.1565 909.998 L43.6021 907.993 Q44.9389 901.755 47.3897 899.145 Q49.8086 896.503 54.1691 896.503 Q59.1344 896.503 62.0308 900.45 Q64.9272 904.365 64.9272 911.24 Q64.9272 914.104 64.3543 917.223 Q63.8132 920.311 62.6992 923.748 L56.6518 923.748 Q58.3387 920.502 59.198 917.351 Q60.0256 914.2 60.0256 911.112 Q60.0256 906.975 58.6251 904.747 Q57.1929 902.519 54.6147 902.519 Q52.2276 902.519 50.9545 904.142 Q49.6813 905.733 48.5037 911.176 L48.0262 913.213 Q46.8804 918.656 44.5251 921.075 Q42.138 923.494 38.0002 923.494 Q32.9713 923.494 30.2341 919.929 Q27.4968 916.364 27.4968 909.807 Q27.4968 906.561 27.9743 903.696 Q28.4517 900.832 29.4065 898.413 Z\" fill=\"#000000\" fill-rule=\"evenodd\" fill-opacity=\"1\" /><path clip-path=\"url(#clip860)\" d=\"M32.4621 873.364 Q32.4621 878.074 36.1542 880.812 Q39.8145 883.549 46.212 883.549 Q52.6095 883.549 56.3017 880.843 Q59.9619 878.106 59.9619 873.364 Q59.9619 868.685 56.2698 865.948 Q52.5777 863.21 46.212 863.21 Q39.8781 863.21 36.186 865.948 Q32.4621 868.685 32.4621 873.364 M27.4968 873.364 Q27.4968 865.725 32.4621 861.364 Q37.4273 857.004 46.212 857.004 Q54.9649 857.004 59.9619 861.364 Q64.9272 865.725 64.9272 873.364 Q64.9272 881.034 59.9619 885.395 Q54.9649 889.724 46.212 889.724 Q37.4273 889.724 32.4621 885.395 Q27.4968 881.034 27.4968 873.364 Z\" fill=\"#000000\" fill-rule=\"evenodd\" fill-opacity=\"1\" /><path clip-path=\"url(#clip860)\" d=\"M14.479 847.296 L14.479 841.44 L64.0042 841.44 L64.0042 847.296 L14.479 847.296 Z\" fill=\"#000000\" fill-rule=\"evenodd\" fill-opacity=\"1\" /><path clip-path=\"url(#clip860)\" d=\"M55.9197 828.358 L55.9197 821.642 L64.0042 821.642 L64.0042 828.358 L55.9197 828.358 Z\" fill=\"#000000\" fill-rule=\"evenodd\" fill-opacity=\"1\" /><path clip-path=\"url(#clip860)\" d=\"M18.2347 781.952 L28.3562 781.952 L28.3562 769.889 L32.9077 769.889 L32.9077 781.952 L52.2594 781.952 Q56.6199 781.952 57.8613 780.775 Q59.1026 779.565 59.1026 775.905 L59.1026 769.889 L64.0042 769.889 L64.0042 775.905 Q64.0042 782.684 61.4897 785.262 Q58.9434 787.84 52.2594 787.84 L32.9077 787.84 L32.9077 792.137 L28.3562 792.137 L28.3562 787.84 L18.2347 787.84 L18.2347 781.952 Z\" fill=\"#000000\" fill-rule=\"evenodd\" fill-opacity=\"1\" /><path clip-path=\"url(#clip860)\" d=\"M28.3562 762.187 L28.3562 756.33 L64.0042 756.33 L64.0042 762.187 L28.3562 762.187 M14.479 762.187 L14.479 756.33 L21.895 756.33 L21.895 762.187 L14.479 762.187 Z\" fill=\"#000000\" fill-rule=\"evenodd\" fill-opacity=\"1\" /><path clip-path=\"url(#clip860)\" d=\"M35.1993 716.322 Q31.2526 714.126 29.3747 711.07 Q27.4968 708.014 27.4968 703.877 Q27.4968 698.307 31.4117 695.283 Q35.2948 692.259 42.4881 692.259 L64.0042 692.259 L64.0042 698.148 L42.679 698.148 Q37.5546 698.148 35.072 699.962 Q32.5894 701.776 32.5894 705.5 Q32.5894 710.052 35.6131 712.693 Q38.6368 715.335 43.8567 715.335 L64.0042 715.335 L64.0042 721.223 L42.679 721.223 Q37.5228 721.223 35.072 723.038 Q32.5894 724.852 32.5894 728.639 Q32.5894 733.127 35.6449 735.769 Q38.6686 738.411 43.8567 738.411 L64.0042 738.411 L64.0042 744.299 L28.3562 744.299 L28.3562 738.411 L33.8944 738.411 Q30.616 736.406 29.0564 733.605 Q27.4968 730.804 27.4968 726.952 Q27.4968 723.069 29.4702 720.364 Q31.4436 717.627 35.1993 716.322 Z\" fill=\"#000000\" fill-rule=\"evenodd\" fill-opacity=\"1\" /><path clip-path=\"url(#clip860)\" d=\"M44.7161 650.087 L47.5806 650.087 L47.5806 677.013 Q53.6281 676.632 56.8109 673.385 Q59.9619 670.107 59.9619 664.282 Q59.9619 660.908 59.1344 657.757 Q58.3069 654.574 56.6518 651.455 L62.1899 651.455 Q63.5267 654.606 64.227 657.916 Q64.9272 661.227 64.9272 664.632 Q64.9272 673.162 59.9619 678.159 Q54.9967 683.125 46.5303 683.125 Q37.7774 683.125 32.6531 678.414 Q27.4968 673.671 27.4968 665.651 Q27.4968 658.457 32.1438 654.288 Q36.7589 650.087 44.7161 650.087 M42.9973 655.943 Q38.1912 656.007 35.3266 658.648 Q32.4621 661.258 32.4621 665.587 Q32.4621 670.489 35.2312 673.449 Q38.0002 676.377 43.0292 676.823 L42.9973 655.943 Z\" fill=\"#000000\" fill-rule=\"evenodd\" fill-opacity=\"1\" /><path clip-path=\"url(#clip860)\" d=\"M14.479 620.295 L14.479 606.8 L19.0304 606.8 L19.0304 614.439 L68.0464 614.439 L68.0464 606.8 L72.5979 606.8 L72.5979 620.295 L14.479 620.295 Z\" fill=\"#000000\" fill-rule=\"evenodd\" fill-opacity=\"1\" /><path clip-path=\"url(#clip860)\" d=\"M29.4065 571.597 L34.9447 571.597 Q33.6716 574.08 33.035 576.754 Q32.3984 579.427 32.3984 582.292 Q32.3984 586.652 33.7352 588.848 Q35.072 591.013 37.7456 591.013 Q39.7826 591.013 40.9603 589.453 Q42.1061 587.894 43.1565 583.183 L43.6021 581.178 Q44.9389 574.939 47.3897 572.329 Q49.8086 569.688 54.1691 569.688 Q59.1344 569.688 62.0308 573.634 Q64.9272 577.549 64.9272 584.424 Q64.9272 587.289 64.3543 590.408 Q63.8132 593.495 62.6992 596.933 L56.6518 596.933 Q58.3387 593.686 59.198 590.535 Q60.0256 587.384 60.0256 584.297 Q60.0256 580.159 58.6251 577.931 Q57.1929 575.703 54.6147 575.703 Q52.2276 575.703 50.9545 577.327 Q49.6813 578.918 48.5037 584.361 L48.0262 586.398 Q46.8804 591.84 44.5251 594.259 Q42.138 596.678 38.0002 596.678 Q32.9713 596.678 30.2341 593.113 Q27.4968 589.549 27.4968 582.992 Q27.4968 579.745 27.9743 576.881 Q28.4517 574.016 29.4065 571.597 Z\" fill=\"#000000\" fill-rule=\"evenodd\" fill-opacity=\"1\" /><path clip-path=\"url(#clip860)\" d=\"M14.479 546.676 L72.5979 546.676 L72.5979 560.171 L68.0464 560.171 L68.0464 552.564 L19.0304 552.564 L19.0304 560.171 L14.479 560.171 L14.479 546.676 Z\" fill=\"#000000\" fill-rule=\"evenodd\" fill-opacity=\"1\" /><polyline clip-path=\"url(#clip862)\" style=\"stroke:#008000; stroke-linecap:round; stroke-linejoin:round; stroke-width:4; stroke-opacity:1; fill:none\" points=\"265.903,1384.24 307.251,1384.19 348.6,1384.17 389.948,1384.14 431.297,1384.11 472.645,1384.09 513.993,1384.06 555.342,1384.08 596.69,1384 638.039,1384 679.387,1383.98 720.735,1383.93 762.084,1383.89 803.432,1383.9 844.78,1383.84 886.129,1383.82 927.477,1383.82 968.826,1383.81 1010.17,1383.79 1051.52,1383.78 1092.87,1383.68 1134.22,1383.66 1175.57,1383.65 1216.92,1383.66 1258.26,1383.7 1299.61,1383.66 1340.96,1383.6 1382.31,1383.58 1423.66,1383.57 1465.01,1383.58 1506.35,1383.55 1547.7,1383.52 1589.05,1383.49 1630.4,1383.2 1671.75,1383.39 1713.1,1383.39 1754.44,1383.41 1795.79,1383.36 1837.14,1383.34 1878.49,1383.3 1919.84,1383.33 1961.19,1383.28 2002.54,1383.28 2043.88,1383.26 2085.23,1383.25 2126.58,1383.22 2167.93,1383.18 2209.28,1383.14 2250.63,1383.14 2291.97,1383.09 \"/>\n",
       "<circle clip-path=\"url(#clip862)\" cx=\"265.903\" cy=\"1384.24\" r=\"14.4\" fill=\"#008000\" fill-rule=\"evenodd\" fill-opacity=\"1\" stroke=\"#000000\" stroke-opacity=\"1\" stroke-width=\"3.2\"/>\n",
       "<circle clip-path=\"url(#clip862)\" cx=\"307.251\" cy=\"1384.19\" r=\"14.4\" fill=\"#008000\" fill-rule=\"evenodd\" fill-opacity=\"1\" stroke=\"#000000\" stroke-opacity=\"1\" stroke-width=\"3.2\"/>\n",
       "<circle clip-path=\"url(#clip862)\" cx=\"348.6\" cy=\"1384.17\" r=\"14.4\" fill=\"#008000\" fill-rule=\"evenodd\" fill-opacity=\"1\" stroke=\"#000000\" stroke-opacity=\"1\" stroke-width=\"3.2\"/>\n",
       "<circle clip-path=\"url(#clip862)\" cx=\"389.948\" cy=\"1384.14\" r=\"14.4\" fill=\"#008000\" fill-rule=\"evenodd\" fill-opacity=\"1\" stroke=\"#000000\" stroke-opacity=\"1\" stroke-width=\"3.2\"/>\n",
       "<circle clip-path=\"url(#clip862)\" cx=\"431.297\" cy=\"1384.11\" r=\"14.4\" fill=\"#008000\" fill-rule=\"evenodd\" fill-opacity=\"1\" stroke=\"#000000\" stroke-opacity=\"1\" stroke-width=\"3.2\"/>\n",
       "<circle clip-path=\"url(#clip862)\" cx=\"472.645\" cy=\"1384.09\" r=\"14.4\" fill=\"#008000\" fill-rule=\"evenodd\" fill-opacity=\"1\" stroke=\"#000000\" stroke-opacity=\"1\" stroke-width=\"3.2\"/>\n",
       "<circle clip-path=\"url(#clip862)\" cx=\"513.993\" cy=\"1384.06\" r=\"14.4\" fill=\"#008000\" fill-rule=\"evenodd\" fill-opacity=\"1\" stroke=\"#000000\" stroke-opacity=\"1\" stroke-width=\"3.2\"/>\n",
       "<circle clip-path=\"url(#clip862)\" cx=\"555.342\" cy=\"1384.08\" r=\"14.4\" fill=\"#008000\" fill-rule=\"evenodd\" fill-opacity=\"1\" stroke=\"#000000\" stroke-opacity=\"1\" stroke-width=\"3.2\"/>\n",
       "<circle clip-path=\"url(#clip862)\" cx=\"596.69\" cy=\"1384\" r=\"14.4\" fill=\"#008000\" fill-rule=\"evenodd\" fill-opacity=\"1\" stroke=\"#000000\" stroke-opacity=\"1\" stroke-width=\"3.2\"/>\n",
       "<circle clip-path=\"url(#clip862)\" cx=\"638.039\" cy=\"1384\" r=\"14.4\" fill=\"#008000\" fill-rule=\"evenodd\" fill-opacity=\"1\" stroke=\"#000000\" stroke-opacity=\"1\" stroke-width=\"3.2\"/>\n",
       "<circle clip-path=\"url(#clip862)\" cx=\"679.387\" cy=\"1383.98\" r=\"14.4\" fill=\"#008000\" fill-rule=\"evenodd\" fill-opacity=\"1\" stroke=\"#000000\" stroke-opacity=\"1\" stroke-width=\"3.2\"/>\n",
       "<circle clip-path=\"url(#clip862)\" cx=\"720.735\" cy=\"1383.93\" r=\"14.4\" fill=\"#008000\" fill-rule=\"evenodd\" fill-opacity=\"1\" stroke=\"#000000\" stroke-opacity=\"1\" stroke-width=\"3.2\"/>\n",
       "<circle clip-path=\"url(#clip862)\" cx=\"762.084\" cy=\"1383.89\" r=\"14.4\" fill=\"#008000\" fill-rule=\"evenodd\" fill-opacity=\"1\" stroke=\"#000000\" stroke-opacity=\"1\" stroke-width=\"3.2\"/>\n",
       "<circle clip-path=\"url(#clip862)\" cx=\"803.432\" cy=\"1383.9\" r=\"14.4\" fill=\"#008000\" fill-rule=\"evenodd\" fill-opacity=\"1\" stroke=\"#000000\" stroke-opacity=\"1\" stroke-width=\"3.2\"/>\n",
       "<circle clip-path=\"url(#clip862)\" cx=\"844.78\" cy=\"1383.84\" r=\"14.4\" fill=\"#008000\" fill-rule=\"evenodd\" fill-opacity=\"1\" stroke=\"#000000\" stroke-opacity=\"1\" stroke-width=\"3.2\"/>\n",
       "<circle clip-path=\"url(#clip862)\" cx=\"886.129\" cy=\"1383.82\" r=\"14.4\" fill=\"#008000\" fill-rule=\"evenodd\" fill-opacity=\"1\" stroke=\"#000000\" stroke-opacity=\"1\" stroke-width=\"3.2\"/>\n",
       "<circle clip-path=\"url(#clip862)\" cx=\"927.477\" cy=\"1383.82\" r=\"14.4\" fill=\"#008000\" fill-rule=\"evenodd\" fill-opacity=\"1\" stroke=\"#000000\" stroke-opacity=\"1\" stroke-width=\"3.2\"/>\n",
       "<circle clip-path=\"url(#clip862)\" cx=\"968.826\" cy=\"1383.81\" r=\"14.4\" fill=\"#008000\" fill-rule=\"evenodd\" fill-opacity=\"1\" stroke=\"#000000\" stroke-opacity=\"1\" stroke-width=\"3.2\"/>\n",
       "<circle clip-path=\"url(#clip862)\" cx=\"1010.17\" cy=\"1383.79\" r=\"14.4\" fill=\"#008000\" fill-rule=\"evenodd\" fill-opacity=\"1\" stroke=\"#000000\" stroke-opacity=\"1\" stroke-width=\"3.2\"/>\n",
       "<circle clip-path=\"url(#clip862)\" cx=\"1051.52\" cy=\"1383.78\" r=\"14.4\" fill=\"#008000\" fill-rule=\"evenodd\" fill-opacity=\"1\" stroke=\"#000000\" stroke-opacity=\"1\" stroke-width=\"3.2\"/>\n",
       "<circle clip-path=\"url(#clip862)\" cx=\"1092.87\" cy=\"1383.68\" r=\"14.4\" fill=\"#008000\" fill-rule=\"evenodd\" fill-opacity=\"1\" stroke=\"#000000\" stroke-opacity=\"1\" stroke-width=\"3.2\"/>\n",
       "<circle clip-path=\"url(#clip862)\" cx=\"1134.22\" cy=\"1383.66\" r=\"14.4\" fill=\"#008000\" fill-rule=\"evenodd\" fill-opacity=\"1\" stroke=\"#000000\" stroke-opacity=\"1\" stroke-width=\"3.2\"/>\n",
       "<circle clip-path=\"url(#clip862)\" cx=\"1175.57\" cy=\"1383.65\" r=\"14.4\" fill=\"#008000\" fill-rule=\"evenodd\" fill-opacity=\"1\" stroke=\"#000000\" stroke-opacity=\"1\" stroke-width=\"3.2\"/>\n",
       "<circle clip-path=\"url(#clip862)\" cx=\"1216.92\" cy=\"1383.66\" r=\"14.4\" fill=\"#008000\" fill-rule=\"evenodd\" fill-opacity=\"1\" stroke=\"#000000\" stroke-opacity=\"1\" stroke-width=\"3.2\"/>\n",
       "<circle clip-path=\"url(#clip862)\" cx=\"1258.26\" cy=\"1383.7\" r=\"14.4\" fill=\"#008000\" fill-rule=\"evenodd\" fill-opacity=\"1\" stroke=\"#000000\" stroke-opacity=\"1\" stroke-width=\"3.2\"/>\n",
       "<circle clip-path=\"url(#clip862)\" cx=\"1299.61\" cy=\"1383.66\" r=\"14.4\" fill=\"#008000\" fill-rule=\"evenodd\" fill-opacity=\"1\" stroke=\"#000000\" stroke-opacity=\"1\" stroke-width=\"3.2\"/>\n",
       "<circle clip-path=\"url(#clip862)\" cx=\"1340.96\" cy=\"1383.6\" r=\"14.4\" fill=\"#008000\" fill-rule=\"evenodd\" fill-opacity=\"1\" stroke=\"#000000\" stroke-opacity=\"1\" stroke-width=\"3.2\"/>\n",
       "<circle clip-path=\"url(#clip862)\" cx=\"1382.31\" cy=\"1383.58\" r=\"14.4\" fill=\"#008000\" fill-rule=\"evenodd\" fill-opacity=\"1\" stroke=\"#000000\" stroke-opacity=\"1\" stroke-width=\"3.2\"/>\n",
       "<circle clip-path=\"url(#clip862)\" cx=\"1423.66\" cy=\"1383.57\" r=\"14.4\" fill=\"#008000\" fill-rule=\"evenodd\" fill-opacity=\"1\" stroke=\"#000000\" stroke-opacity=\"1\" stroke-width=\"3.2\"/>\n",
       "<circle clip-path=\"url(#clip862)\" cx=\"1465.01\" cy=\"1383.58\" r=\"14.4\" fill=\"#008000\" fill-rule=\"evenodd\" fill-opacity=\"1\" stroke=\"#000000\" stroke-opacity=\"1\" stroke-width=\"3.2\"/>\n",
       "<circle clip-path=\"url(#clip862)\" cx=\"1506.35\" cy=\"1383.55\" r=\"14.4\" fill=\"#008000\" fill-rule=\"evenodd\" fill-opacity=\"1\" stroke=\"#000000\" stroke-opacity=\"1\" stroke-width=\"3.2\"/>\n",
       "<circle clip-path=\"url(#clip862)\" cx=\"1547.7\" cy=\"1383.52\" r=\"14.4\" fill=\"#008000\" fill-rule=\"evenodd\" fill-opacity=\"1\" stroke=\"#000000\" stroke-opacity=\"1\" stroke-width=\"3.2\"/>\n",
       "<circle clip-path=\"url(#clip862)\" cx=\"1589.05\" cy=\"1383.49\" r=\"14.4\" fill=\"#008000\" fill-rule=\"evenodd\" fill-opacity=\"1\" stroke=\"#000000\" stroke-opacity=\"1\" stroke-width=\"3.2\"/>\n",
       "<circle clip-path=\"url(#clip862)\" cx=\"1630.4\" cy=\"1383.2\" r=\"14.4\" fill=\"#008000\" fill-rule=\"evenodd\" fill-opacity=\"1\" stroke=\"#000000\" stroke-opacity=\"1\" stroke-width=\"3.2\"/>\n",
       "<circle clip-path=\"url(#clip862)\" cx=\"1671.75\" cy=\"1383.39\" r=\"14.4\" fill=\"#008000\" fill-rule=\"evenodd\" fill-opacity=\"1\" stroke=\"#000000\" stroke-opacity=\"1\" stroke-width=\"3.2\"/>\n",
       "<circle clip-path=\"url(#clip862)\" cx=\"1713.1\" cy=\"1383.39\" r=\"14.4\" fill=\"#008000\" fill-rule=\"evenodd\" fill-opacity=\"1\" stroke=\"#000000\" stroke-opacity=\"1\" stroke-width=\"3.2\"/>\n",
       "<circle clip-path=\"url(#clip862)\" cx=\"1754.44\" cy=\"1383.41\" r=\"14.4\" fill=\"#008000\" fill-rule=\"evenodd\" fill-opacity=\"1\" stroke=\"#000000\" stroke-opacity=\"1\" stroke-width=\"3.2\"/>\n",
       "<circle clip-path=\"url(#clip862)\" cx=\"1795.79\" cy=\"1383.36\" r=\"14.4\" fill=\"#008000\" fill-rule=\"evenodd\" fill-opacity=\"1\" stroke=\"#000000\" stroke-opacity=\"1\" stroke-width=\"3.2\"/>\n",
       "<circle clip-path=\"url(#clip862)\" cx=\"1837.14\" cy=\"1383.34\" r=\"14.4\" fill=\"#008000\" fill-rule=\"evenodd\" fill-opacity=\"1\" stroke=\"#000000\" stroke-opacity=\"1\" stroke-width=\"3.2\"/>\n",
       "<circle clip-path=\"url(#clip862)\" cx=\"1878.49\" cy=\"1383.3\" r=\"14.4\" fill=\"#008000\" fill-rule=\"evenodd\" fill-opacity=\"1\" stroke=\"#000000\" stroke-opacity=\"1\" stroke-width=\"3.2\"/>\n",
       "<circle clip-path=\"url(#clip862)\" cx=\"1919.84\" cy=\"1383.33\" r=\"14.4\" fill=\"#008000\" fill-rule=\"evenodd\" fill-opacity=\"1\" stroke=\"#000000\" stroke-opacity=\"1\" stroke-width=\"3.2\"/>\n",
       "<circle clip-path=\"url(#clip862)\" cx=\"1961.19\" cy=\"1383.28\" r=\"14.4\" fill=\"#008000\" fill-rule=\"evenodd\" fill-opacity=\"1\" stroke=\"#000000\" stroke-opacity=\"1\" stroke-width=\"3.2\"/>\n",
       "<circle clip-path=\"url(#clip862)\" cx=\"2002.54\" cy=\"1383.28\" r=\"14.4\" fill=\"#008000\" fill-rule=\"evenodd\" fill-opacity=\"1\" stroke=\"#000000\" stroke-opacity=\"1\" stroke-width=\"3.2\"/>\n",
       "<circle clip-path=\"url(#clip862)\" cx=\"2043.88\" cy=\"1383.26\" r=\"14.4\" fill=\"#008000\" fill-rule=\"evenodd\" fill-opacity=\"1\" stroke=\"#000000\" stroke-opacity=\"1\" stroke-width=\"3.2\"/>\n",
       "<circle clip-path=\"url(#clip862)\" cx=\"2085.23\" cy=\"1383.25\" r=\"14.4\" fill=\"#008000\" fill-rule=\"evenodd\" fill-opacity=\"1\" stroke=\"#000000\" stroke-opacity=\"1\" stroke-width=\"3.2\"/>\n",
       "<circle clip-path=\"url(#clip862)\" cx=\"2126.58\" cy=\"1383.22\" r=\"14.4\" fill=\"#008000\" fill-rule=\"evenodd\" fill-opacity=\"1\" stroke=\"#000000\" stroke-opacity=\"1\" stroke-width=\"3.2\"/>\n",
       "<circle clip-path=\"url(#clip862)\" cx=\"2167.93\" cy=\"1383.18\" r=\"14.4\" fill=\"#008000\" fill-rule=\"evenodd\" fill-opacity=\"1\" stroke=\"#000000\" stroke-opacity=\"1\" stroke-width=\"3.2\"/>\n",
       "<circle clip-path=\"url(#clip862)\" cx=\"2209.28\" cy=\"1383.14\" r=\"14.4\" fill=\"#008000\" fill-rule=\"evenodd\" fill-opacity=\"1\" stroke=\"#000000\" stroke-opacity=\"1\" stroke-width=\"3.2\"/>\n",
       "<circle clip-path=\"url(#clip862)\" cx=\"2250.63\" cy=\"1383.14\" r=\"14.4\" fill=\"#008000\" fill-rule=\"evenodd\" fill-opacity=\"1\" stroke=\"#000000\" stroke-opacity=\"1\" stroke-width=\"3.2\"/>\n",
       "<circle clip-path=\"url(#clip862)\" cx=\"2291.97\" cy=\"1383.09\" r=\"14.4\" fill=\"#008000\" fill-rule=\"evenodd\" fill-opacity=\"1\" stroke=\"#000000\" stroke-opacity=\"1\" stroke-width=\"3.2\"/>\n",
       "<polyline clip-path=\"url(#clip862)\" style=\"stroke:#0000ff; stroke-linecap:round; stroke-linejoin:round; stroke-width:4; stroke-opacity:1; fill:none\" points=\"265.903,1384.01 307.251,1383.68 348.6,1383.41 389.948,1383.04 431.297,1382.67 472.645,1382.27 513.993,1381.94 555.342,1381.89 596.69,1381.84 638.039,1381.16 679.387,1378.44 720.735,1379.54 762.084,1378.71 803.432,1375.8 844.78,1374.13 886.129,1352.35 927.477,1375.36 968.826,1375.92 1010.17,1372.07 1051.52,1375.45 1092.87,1360.13 1134.22,1365.17 1175.57,1366.49 1216.92,1368.89 1258.26,1369.32 1299.61,1363.62 1340.96,1366.22 1382.31,1306.53 1423.66,1363.52 1465.01,1361.11 1506.35,86.1857 1547.7,1369.13 1589.05,1349.57 1630.4,1343.74 1671.75,1209.16 1713.1,1209.92 1754.44,1344.22 1795.79,1263.96 1837.14,1347.96 1878.49,1257.71 1919.84,1348.81 1961.19,1329.83 2002.54,1338.23 2043.88,1343.41 2085.23,1180.06 2126.58,1338.82 2167.93,1329.77 2209.28,1332.12 2250.63,1329.94 2291.97,1324.34 \"/>\n",
       "<line clip-path=\"url(#clip862)\" x1=\"265.903\" y1=\"1384.01\" x2=\"265.903\" y2=\"1368.01\" style=\"stroke:#0000ff; stroke-width:3.2; stroke-opacity:1\"/>\n",
       "<line clip-path=\"url(#clip862)\" x1=\"265.903\" y1=\"1384.01\" x2=\"249.903\" y2=\"1384.01\" style=\"stroke:#0000ff; stroke-width:3.2; stroke-opacity:1\"/>\n",
       "<line clip-path=\"url(#clip862)\" x1=\"265.903\" y1=\"1384.01\" x2=\"265.903\" y2=\"1400.01\" style=\"stroke:#0000ff; stroke-width:3.2; stroke-opacity:1\"/>\n",
       "<line clip-path=\"url(#clip862)\" x1=\"265.903\" y1=\"1384.01\" x2=\"281.903\" y2=\"1384.01\" style=\"stroke:#0000ff; stroke-width:3.2; stroke-opacity:1\"/>\n",
       "<line clip-path=\"url(#clip862)\" x1=\"307.251\" y1=\"1383.68\" x2=\"307.251\" y2=\"1367.68\" style=\"stroke:#0000ff; stroke-width:3.2; stroke-opacity:1\"/>\n",
       "<line clip-path=\"url(#clip862)\" x1=\"307.251\" y1=\"1383.68\" x2=\"291.251\" y2=\"1383.68\" style=\"stroke:#0000ff; stroke-width:3.2; stroke-opacity:1\"/>\n",
       "<line clip-path=\"url(#clip862)\" x1=\"307.251\" y1=\"1383.68\" x2=\"307.251\" y2=\"1399.68\" style=\"stroke:#0000ff; stroke-width:3.2; stroke-opacity:1\"/>\n",
       "<line clip-path=\"url(#clip862)\" x1=\"307.251\" y1=\"1383.68\" x2=\"323.251\" y2=\"1383.68\" style=\"stroke:#0000ff; stroke-width:3.2; stroke-opacity:1\"/>\n",
       "<line clip-path=\"url(#clip862)\" x1=\"348.6\" y1=\"1383.41\" x2=\"348.6\" y2=\"1367.41\" style=\"stroke:#0000ff; stroke-width:3.2; stroke-opacity:1\"/>\n",
       "<line clip-path=\"url(#clip862)\" x1=\"348.6\" y1=\"1383.41\" x2=\"332.6\" y2=\"1383.41\" style=\"stroke:#0000ff; stroke-width:3.2; stroke-opacity:1\"/>\n",
       "<line clip-path=\"url(#clip862)\" x1=\"348.6\" y1=\"1383.41\" x2=\"348.6\" y2=\"1399.41\" style=\"stroke:#0000ff; stroke-width:3.2; stroke-opacity:1\"/>\n",
       "<line clip-path=\"url(#clip862)\" x1=\"348.6\" y1=\"1383.41\" x2=\"364.6\" y2=\"1383.41\" style=\"stroke:#0000ff; stroke-width:3.2; stroke-opacity:1\"/>\n",
       "<line clip-path=\"url(#clip862)\" x1=\"389.948\" y1=\"1383.04\" x2=\"389.948\" y2=\"1367.04\" style=\"stroke:#0000ff; stroke-width:3.2; stroke-opacity:1\"/>\n",
       "<line clip-path=\"url(#clip862)\" x1=\"389.948\" y1=\"1383.04\" x2=\"373.948\" y2=\"1383.04\" style=\"stroke:#0000ff; stroke-width:3.2; stroke-opacity:1\"/>\n",
       "<line clip-path=\"url(#clip862)\" x1=\"389.948\" y1=\"1383.04\" x2=\"389.948\" y2=\"1399.04\" style=\"stroke:#0000ff; stroke-width:3.2; stroke-opacity:1\"/>\n",
       "<line clip-path=\"url(#clip862)\" x1=\"389.948\" y1=\"1383.04\" x2=\"405.948\" y2=\"1383.04\" style=\"stroke:#0000ff; stroke-width:3.2; stroke-opacity:1\"/>\n",
       "<line clip-path=\"url(#clip862)\" x1=\"431.297\" y1=\"1382.67\" x2=\"431.297\" y2=\"1366.67\" style=\"stroke:#0000ff; stroke-width:3.2; stroke-opacity:1\"/>\n",
       "<line clip-path=\"url(#clip862)\" x1=\"431.297\" y1=\"1382.67\" x2=\"415.297\" y2=\"1382.67\" style=\"stroke:#0000ff; stroke-width:3.2; stroke-opacity:1\"/>\n",
       "<line clip-path=\"url(#clip862)\" x1=\"431.297\" y1=\"1382.67\" x2=\"431.297\" y2=\"1398.67\" style=\"stroke:#0000ff; stroke-width:3.2; stroke-opacity:1\"/>\n",
       "<line clip-path=\"url(#clip862)\" x1=\"431.297\" y1=\"1382.67\" x2=\"447.297\" y2=\"1382.67\" style=\"stroke:#0000ff; stroke-width:3.2; stroke-opacity:1\"/>\n",
       "<line clip-path=\"url(#clip862)\" x1=\"472.645\" y1=\"1382.27\" x2=\"472.645\" y2=\"1366.27\" style=\"stroke:#0000ff; stroke-width:3.2; stroke-opacity:1\"/>\n",
       "<line clip-path=\"url(#clip862)\" x1=\"472.645\" y1=\"1382.27\" x2=\"456.645\" y2=\"1382.27\" style=\"stroke:#0000ff; stroke-width:3.2; stroke-opacity:1\"/>\n",
       "<line clip-path=\"url(#clip862)\" x1=\"472.645\" y1=\"1382.27\" x2=\"472.645\" y2=\"1398.27\" style=\"stroke:#0000ff; stroke-width:3.2; stroke-opacity:1\"/>\n",
       "<line clip-path=\"url(#clip862)\" x1=\"472.645\" y1=\"1382.27\" x2=\"488.645\" y2=\"1382.27\" style=\"stroke:#0000ff; stroke-width:3.2; stroke-opacity:1\"/>\n",
       "<line clip-path=\"url(#clip862)\" x1=\"513.993\" y1=\"1381.94\" x2=\"513.993\" y2=\"1365.94\" style=\"stroke:#0000ff; stroke-width:3.2; stroke-opacity:1\"/>\n",
       "<line clip-path=\"url(#clip862)\" x1=\"513.993\" y1=\"1381.94\" x2=\"497.993\" y2=\"1381.94\" style=\"stroke:#0000ff; stroke-width:3.2; stroke-opacity:1\"/>\n",
       "<line clip-path=\"url(#clip862)\" x1=\"513.993\" y1=\"1381.94\" x2=\"513.993\" y2=\"1397.94\" style=\"stroke:#0000ff; stroke-width:3.2; stroke-opacity:1\"/>\n",
       "<line clip-path=\"url(#clip862)\" x1=\"513.993\" y1=\"1381.94\" x2=\"529.993\" y2=\"1381.94\" style=\"stroke:#0000ff; stroke-width:3.2; stroke-opacity:1\"/>\n",
       "<line clip-path=\"url(#clip862)\" x1=\"555.342\" y1=\"1381.89\" x2=\"555.342\" y2=\"1365.89\" style=\"stroke:#0000ff; stroke-width:3.2; stroke-opacity:1\"/>\n",
       "<line clip-path=\"url(#clip862)\" x1=\"555.342\" y1=\"1381.89\" x2=\"539.342\" y2=\"1381.89\" style=\"stroke:#0000ff; stroke-width:3.2; stroke-opacity:1\"/>\n",
       "<line clip-path=\"url(#clip862)\" x1=\"555.342\" y1=\"1381.89\" x2=\"555.342\" y2=\"1397.89\" style=\"stroke:#0000ff; stroke-width:3.2; stroke-opacity:1\"/>\n",
       "<line clip-path=\"url(#clip862)\" x1=\"555.342\" y1=\"1381.89\" x2=\"571.342\" y2=\"1381.89\" style=\"stroke:#0000ff; stroke-width:3.2; stroke-opacity:1\"/>\n",
       "<line clip-path=\"url(#clip862)\" x1=\"596.69\" y1=\"1381.84\" x2=\"596.69\" y2=\"1365.84\" style=\"stroke:#0000ff; stroke-width:3.2; stroke-opacity:1\"/>\n",
       "<line clip-path=\"url(#clip862)\" x1=\"596.69\" y1=\"1381.84\" x2=\"580.69\" y2=\"1381.84\" style=\"stroke:#0000ff; stroke-width:3.2; stroke-opacity:1\"/>\n",
       "<line clip-path=\"url(#clip862)\" x1=\"596.69\" y1=\"1381.84\" x2=\"596.69\" y2=\"1397.84\" style=\"stroke:#0000ff; stroke-width:3.2; stroke-opacity:1\"/>\n",
       "<line clip-path=\"url(#clip862)\" x1=\"596.69\" y1=\"1381.84\" x2=\"612.69\" y2=\"1381.84\" style=\"stroke:#0000ff; stroke-width:3.2; stroke-opacity:1\"/>\n",
       "<line clip-path=\"url(#clip862)\" x1=\"638.039\" y1=\"1381.16\" x2=\"638.039\" y2=\"1365.16\" style=\"stroke:#0000ff; stroke-width:3.2; stroke-opacity:1\"/>\n",
       "<line clip-path=\"url(#clip862)\" x1=\"638.039\" y1=\"1381.16\" x2=\"622.039\" y2=\"1381.16\" style=\"stroke:#0000ff; stroke-width:3.2; stroke-opacity:1\"/>\n",
       "<line clip-path=\"url(#clip862)\" x1=\"638.039\" y1=\"1381.16\" x2=\"638.039\" y2=\"1397.16\" style=\"stroke:#0000ff; stroke-width:3.2; stroke-opacity:1\"/>\n",
       "<line clip-path=\"url(#clip862)\" x1=\"638.039\" y1=\"1381.16\" x2=\"654.039\" y2=\"1381.16\" style=\"stroke:#0000ff; stroke-width:3.2; stroke-opacity:1\"/>\n",
       "<line clip-path=\"url(#clip862)\" x1=\"679.387\" y1=\"1378.44\" x2=\"679.387\" y2=\"1362.44\" style=\"stroke:#0000ff; stroke-width:3.2; stroke-opacity:1\"/>\n",
       "<line clip-path=\"url(#clip862)\" x1=\"679.387\" y1=\"1378.44\" x2=\"663.387\" y2=\"1378.44\" style=\"stroke:#0000ff; stroke-width:3.2; stroke-opacity:1\"/>\n",
       "<line clip-path=\"url(#clip862)\" x1=\"679.387\" y1=\"1378.44\" x2=\"679.387\" y2=\"1394.44\" style=\"stroke:#0000ff; stroke-width:3.2; stroke-opacity:1\"/>\n",
       "<line clip-path=\"url(#clip862)\" x1=\"679.387\" y1=\"1378.44\" x2=\"695.387\" y2=\"1378.44\" style=\"stroke:#0000ff; stroke-width:3.2; stroke-opacity:1\"/>\n",
       "<line clip-path=\"url(#clip862)\" x1=\"720.735\" y1=\"1379.54\" x2=\"720.735\" y2=\"1363.54\" style=\"stroke:#0000ff; stroke-width:3.2; stroke-opacity:1\"/>\n",
       "<line clip-path=\"url(#clip862)\" x1=\"720.735\" y1=\"1379.54\" x2=\"704.735\" y2=\"1379.54\" style=\"stroke:#0000ff; stroke-width:3.2; stroke-opacity:1\"/>\n",
       "<line clip-path=\"url(#clip862)\" x1=\"720.735\" y1=\"1379.54\" x2=\"720.735\" y2=\"1395.54\" style=\"stroke:#0000ff; stroke-width:3.2; stroke-opacity:1\"/>\n",
       "<line clip-path=\"url(#clip862)\" x1=\"720.735\" y1=\"1379.54\" x2=\"736.735\" y2=\"1379.54\" style=\"stroke:#0000ff; stroke-width:3.2; stroke-opacity:1\"/>\n",
       "<line clip-path=\"url(#clip862)\" x1=\"762.084\" y1=\"1378.71\" x2=\"762.084\" y2=\"1362.71\" style=\"stroke:#0000ff; stroke-width:3.2; stroke-opacity:1\"/>\n",
       "<line clip-path=\"url(#clip862)\" x1=\"762.084\" y1=\"1378.71\" x2=\"746.084\" y2=\"1378.71\" style=\"stroke:#0000ff; stroke-width:3.2; stroke-opacity:1\"/>\n",
       "<line clip-path=\"url(#clip862)\" x1=\"762.084\" y1=\"1378.71\" x2=\"762.084\" y2=\"1394.71\" style=\"stroke:#0000ff; stroke-width:3.2; stroke-opacity:1\"/>\n",
       "<line clip-path=\"url(#clip862)\" x1=\"762.084\" y1=\"1378.71\" x2=\"778.084\" y2=\"1378.71\" style=\"stroke:#0000ff; stroke-width:3.2; stroke-opacity:1\"/>\n",
       "<line clip-path=\"url(#clip862)\" x1=\"803.432\" y1=\"1375.8\" x2=\"803.432\" y2=\"1359.8\" style=\"stroke:#0000ff; stroke-width:3.2; stroke-opacity:1\"/>\n",
       "<line clip-path=\"url(#clip862)\" x1=\"803.432\" y1=\"1375.8\" x2=\"787.432\" y2=\"1375.8\" style=\"stroke:#0000ff; stroke-width:3.2; stroke-opacity:1\"/>\n",
       "<line clip-path=\"url(#clip862)\" x1=\"803.432\" y1=\"1375.8\" x2=\"803.432\" y2=\"1391.8\" style=\"stroke:#0000ff; stroke-width:3.2; stroke-opacity:1\"/>\n",
       "<line clip-path=\"url(#clip862)\" x1=\"803.432\" y1=\"1375.8\" x2=\"819.432\" y2=\"1375.8\" style=\"stroke:#0000ff; stroke-width:3.2; stroke-opacity:1\"/>\n",
       "<line clip-path=\"url(#clip862)\" x1=\"844.78\" y1=\"1374.13\" x2=\"844.78\" y2=\"1358.13\" style=\"stroke:#0000ff; stroke-width:3.2; stroke-opacity:1\"/>\n",
       "<line clip-path=\"url(#clip862)\" x1=\"844.78\" y1=\"1374.13\" x2=\"828.78\" y2=\"1374.13\" style=\"stroke:#0000ff; stroke-width:3.2; stroke-opacity:1\"/>\n",
       "<line clip-path=\"url(#clip862)\" x1=\"844.78\" y1=\"1374.13\" x2=\"844.78\" y2=\"1390.13\" style=\"stroke:#0000ff; stroke-width:3.2; stroke-opacity:1\"/>\n",
       "<line clip-path=\"url(#clip862)\" x1=\"844.78\" y1=\"1374.13\" x2=\"860.78\" y2=\"1374.13\" style=\"stroke:#0000ff; stroke-width:3.2; stroke-opacity:1\"/>\n",
       "<line clip-path=\"url(#clip862)\" x1=\"886.129\" y1=\"1352.35\" x2=\"886.129\" y2=\"1336.35\" style=\"stroke:#0000ff; stroke-width:3.2; stroke-opacity:1\"/>\n",
       "<line clip-path=\"url(#clip862)\" x1=\"886.129\" y1=\"1352.35\" x2=\"870.129\" y2=\"1352.35\" style=\"stroke:#0000ff; stroke-width:3.2; stroke-opacity:1\"/>\n",
       "<line clip-path=\"url(#clip862)\" x1=\"886.129\" y1=\"1352.35\" x2=\"886.129\" y2=\"1368.35\" style=\"stroke:#0000ff; stroke-width:3.2; stroke-opacity:1\"/>\n",
       "<line clip-path=\"url(#clip862)\" x1=\"886.129\" y1=\"1352.35\" x2=\"902.129\" y2=\"1352.35\" style=\"stroke:#0000ff; stroke-width:3.2; stroke-opacity:1\"/>\n",
       "<line clip-path=\"url(#clip862)\" x1=\"927.477\" y1=\"1375.36\" x2=\"927.477\" y2=\"1359.36\" style=\"stroke:#0000ff; stroke-width:3.2; stroke-opacity:1\"/>\n",
       "<line clip-path=\"url(#clip862)\" x1=\"927.477\" y1=\"1375.36\" x2=\"911.477\" y2=\"1375.36\" style=\"stroke:#0000ff; stroke-width:3.2; stroke-opacity:1\"/>\n",
       "<line clip-path=\"url(#clip862)\" x1=\"927.477\" y1=\"1375.36\" x2=\"927.477\" y2=\"1391.36\" style=\"stroke:#0000ff; stroke-width:3.2; stroke-opacity:1\"/>\n",
       "<line clip-path=\"url(#clip862)\" x1=\"927.477\" y1=\"1375.36\" x2=\"943.477\" y2=\"1375.36\" style=\"stroke:#0000ff; stroke-width:3.2; stroke-opacity:1\"/>\n",
       "<line clip-path=\"url(#clip862)\" x1=\"968.826\" y1=\"1375.92\" x2=\"968.826\" y2=\"1359.92\" style=\"stroke:#0000ff; stroke-width:3.2; stroke-opacity:1\"/>\n",
       "<line clip-path=\"url(#clip862)\" x1=\"968.826\" y1=\"1375.92\" x2=\"952.826\" y2=\"1375.92\" style=\"stroke:#0000ff; stroke-width:3.2; stroke-opacity:1\"/>\n",
       "<line clip-path=\"url(#clip862)\" x1=\"968.826\" y1=\"1375.92\" x2=\"968.826\" y2=\"1391.92\" style=\"stroke:#0000ff; stroke-width:3.2; stroke-opacity:1\"/>\n",
       "<line clip-path=\"url(#clip862)\" x1=\"968.826\" y1=\"1375.92\" x2=\"984.826\" y2=\"1375.92\" style=\"stroke:#0000ff; stroke-width:3.2; stroke-opacity:1\"/>\n",
       "<line clip-path=\"url(#clip862)\" x1=\"1010.17\" y1=\"1372.07\" x2=\"1010.17\" y2=\"1356.07\" style=\"stroke:#0000ff; stroke-width:3.2; stroke-opacity:1\"/>\n",
       "<line clip-path=\"url(#clip862)\" x1=\"1010.17\" y1=\"1372.07\" x2=\"994.174\" y2=\"1372.07\" style=\"stroke:#0000ff; stroke-width:3.2; stroke-opacity:1\"/>\n",
       "<line clip-path=\"url(#clip862)\" x1=\"1010.17\" y1=\"1372.07\" x2=\"1010.17\" y2=\"1388.07\" style=\"stroke:#0000ff; stroke-width:3.2; stroke-opacity:1\"/>\n",
       "<line clip-path=\"url(#clip862)\" x1=\"1010.17\" y1=\"1372.07\" x2=\"1026.17\" y2=\"1372.07\" style=\"stroke:#0000ff; stroke-width:3.2; stroke-opacity:1\"/>\n",
       "<line clip-path=\"url(#clip862)\" x1=\"1051.52\" y1=\"1375.45\" x2=\"1051.52\" y2=\"1359.45\" style=\"stroke:#0000ff; stroke-width:3.2; stroke-opacity:1\"/>\n",
       "<line clip-path=\"url(#clip862)\" x1=\"1051.52\" y1=\"1375.45\" x2=\"1035.52\" y2=\"1375.45\" style=\"stroke:#0000ff; stroke-width:3.2; stroke-opacity:1\"/>\n",
       "<line clip-path=\"url(#clip862)\" x1=\"1051.52\" y1=\"1375.45\" x2=\"1051.52\" y2=\"1391.45\" style=\"stroke:#0000ff; stroke-width:3.2; stroke-opacity:1\"/>\n",
       "<line clip-path=\"url(#clip862)\" x1=\"1051.52\" y1=\"1375.45\" x2=\"1067.52\" y2=\"1375.45\" style=\"stroke:#0000ff; stroke-width:3.2; stroke-opacity:1\"/>\n",
       "<line clip-path=\"url(#clip862)\" x1=\"1092.87\" y1=\"1360.13\" x2=\"1092.87\" y2=\"1344.13\" style=\"stroke:#0000ff; stroke-width:3.2; stroke-opacity:1\"/>\n",
       "<line clip-path=\"url(#clip862)\" x1=\"1092.87\" y1=\"1360.13\" x2=\"1076.87\" y2=\"1360.13\" style=\"stroke:#0000ff; stroke-width:3.2; stroke-opacity:1\"/>\n",
       "<line clip-path=\"url(#clip862)\" x1=\"1092.87\" y1=\"1360.13\" x2=\"1092.87\" y2=\"1376.13\" style=\"stroke:#0000ff; stroke-width:3.2; stroke-opacity:1\"/>\n",
       "<line clip-path=\"url(#clip862)\" x1=\"1092.87\" y1=\"1360.13\" x2=\"1108.87\" y2=\"1360.13\" style=\"stroke:#0000ff; stroke-width:3.2; stroke-opacity:1\"/>\n",
       "<line clip-path=\"url(#clip862)\" x1=\"1134.22\" y1=\"1365.17\" x2=\"1134.22\" y2=\"1349.17\" style=\"stroke:#0000ff; stroke-width:3.2; stroke-opacity:1\"/>\n",
       "<line clip-path=\"url(#clip862)\" x1=\"1134.22\" y1=\"1365.17\" x2=\"1118.22\" y2=\"1365.17\" style=\"stroke:#0000ff; stroke-width:3.2; stroke-opacity:1\"/>\n",
       "<line clip-path=\"url(#clip862)\" x1=\"1134.22\" y1=\"1365.17\" x2=\"1134.22\" y2=\"1381.17\" style=\"stroke:#0000ff; stroke-width:3.2; stroke-opacity:1\"/>\n",
       "<line clip-path=\"url(#clip862)\" x1=\"1134.22\" y1=\"1365.17\" x2=\"1150.22\" y2=\"1365.17\" style=\"stroke:#0000ff; stroke-width:3.2; stroke-opacity:1\"/>\n",
       "<line clip-path=\"url(#clip862)\" x1=\"1175.57\" y1=\"1366.49\" x2=\"1175.57\" y2=\"1350.49\" style=\"stroke:#0000ff; stroke-width:3.2; stroke-opacity:1\"/>\n",
       "<line clip-path=\"url(#clip862)\" x1=\"1175.57\" y1=\"1366.49\" x2=\"1159.57\" y2=\"1366.49\" style=\"stroke:#0000ff; stroke-width:3.2; stroke-opacity:1\"/>\n",
       "<line clip-path=\"url(#clip862)\" x1=\"1175.57\" y1=\"1366.49\" x2=\"1175.57\" y2=\"1382.49\" style=\"stroke:#0000ff; stroke-width:3.2; stroke-opacity:1\"/>\n",
       "<line clip-path=\"url(#clip862)\" x1=\"1175.57\" y1=\"1366.49\" x2=\"1191.57\" y2=\"1366.49\" style=\"stroke:#0000ff; stroke-width:3.2; stroke-opacity:1\"/>\n",
       "<line clip-path=\"url(#clip862)\" x1=\"1216.92\" y1=\"1368.89\" x2=\"1216.92\" y2=\"1352.89\" style=\"stroke:#0000ff; stroke-width:3.2; stroke-opacity:1\"/>\n",
       "<line clip-path=\"url(#clip862)\" x1=\"1216.92\" y1=\"1368.89\" x2=\"1200.92\" y2=\"1368.89\" style=\"stroke:#0000ff; stroke-width:3.2; stroke-opacity:1\"/>\n",
       "<line clip-path=\"url(#clip862)\" x1=\"1216.92\" y1=\"1368.89\" x2=\"1216.92\" y2=\"1384.89\" style=\"stroke:#0000ff; stroke-width:3.2; stroke-opacity:1\"/>\n",
       "<line clip-path=\"url(#clip862)\" x1=\"1216.92\" y1=\"1368.89\" x2=\"1232.92\" y2=\"1368.89\" style=\"stroke:#0000ff; stroke-width:3.2; stroke-opacity:1\"/>\n",
       "<line clip-path=\"url(#clip862)\" x1=\"1258.26\" y1=\"1369.32\" x2=\"1258.26\" y2=\"1353.32\" style=\"stroke:#0000ff; stroke-width:3.2; stroke-opacity:1\"/>\n",
       "<line clip-path=\"url(#clip862)\" x1=\"1258.26\" y1=\"1369.32\" x2=\"1242.26\" y2=\"1369.32\" style=\"stroke:#0000ff; stroke-width:3.2; stroke-opacity:1\"/>\n",
       "<line clip-path=\"url(#clip862)\" x1=\"1258.26\" y1=\"1369.32\" x2=\"1258.26\" y2=\"1385.32\" style=\"stroke:#0000ff; stroke-width:3.2; stroke-opacity:1\"/>\n",
       "<line clip-path=\"url(#clip862)\" x1=\"1258.26\" y1=\"1369.32\" x2=\"1274.26\" y2=\"1369.32\" style=\"stroke:#0000ff; stroke-width:3.2; stroke-opacity:1\"/>\n",
       "<line clip-path=\"url(#clip862)\" x1=\"1299.61\" y1=\"1363.62\" x2=\"1299.61\" y2=\"1347.62\" style=\"stroke:#0000ff; stroke-width:3.2; stroke-opacity:1\"/>\n",
       "<line clip-path=\"url(#clip862)\" x1=\"1299.61\" y1=\"1363.62\" x2=\"1283.61\" y2=\"1363.62\" style=\"stroke:#0000ff; stroke-width:3.2; stroke-opacity:1\"/>\n",
       "<line clip-path=\"url(#clip862)\" x1=\"1299.61\" y1=\"1363.62\" x2=\"1299.61\" y2=\"1379.62\" style=\"stroke:#0000ff; stroke-width:3.2; stroke-opacity:1\"/>\n",
       "<line clip-path=\"url(#clip862)\" x1=\"1299.61\" y1=\"1363.62\" x2=\"1315.61\" y2=\"1363.62\" style=\"stroke:#0000ff; stroke-width:3.2; stroke-opacity:1\"/>\n",
       "<line clip-path=\"url(#clip862)\" x1=\"1340.96\" y1=\"1366.22\" x2=\"1340.96\" y2=\"1350.22\" style=\"stroke:#0000ff; stroke-width:3.2; stroke-opacity:1\"/>\n",
       "<line clip-path=\"url(#clip862)\" x1=\"1340.96\" y1=\"1366.22\" x2=\"1324.96\" y2=\"1366.22\" style=\"stroke:#0000ff; stroke-width:3.2; stroke-opacity:1\"/>\n",
       "<line clip-path=\"url(#clip862)\" x1=\"1340.96\" y1=\"1366.22\" x2=\"1340.96\" y2=\"1382.22\" style=\"stroke:#0000ff; stroke-width:3.2; stroke-opacity:1\"/>\n",
       "<line clip-path=\"url(#clip862)\" x1=\"1340.96\" y1=\"1366.22\" x2=\"1356.96\" y2=\"1366.22\" style=\"stroke:#0000ff; stroke-width:3.2; stroke-opacity:1\"/>\n",
       "<line clip-path=\"url(#clip862)\" x1=\"1382.31\" y1=\"1306.53\" x2=\"1382.31\" y2=\"1290.53\" style=\"stroke:#0000ff; stroke-width:3.2; stroke-opacity:1\"/>\n",
       "<line clip-path=\"url(#clip862)\" x1=\"1382.31\" y1=\"1306.53\" x2=\"1366.31\" y2=\"1306.53\" style=\"stroke:#0000ff; stroke-width:3.2; stroke-opacity:1\"/>\n",
       "<line clip-path=\"url(#clip862)\" x1=\"1382.31\" y1=\"1306.53\" x2=\"1382.31\" y2=\"1322.53\" style=\"stroke:#0000ff; stroke-width:3.2; stroke-opacity:1\"/>\n",
       "<line clip-path=\"url(#clip862)\" x1=\"1382.31\" y1=\"1306.53\" x2=\"1398.31\" y2=\"1306.53\" style=\"stroke:#0000ff; stroke-width:3.2; stroke-opacity:1\"/>\n",
       "<line clip-path=\"url(#clip862)\" x1=\"1423.66\" y1=\"1363.52\" x2=\"1423.66\" y2=\"1347.52\" style=\"stroke:#0000ff; stroke-width:3.2; stroke-opacity:1\"/>\n",
       "<line clip-path=\"url(#clip862)\" x1=\"1423.66\" y1=\"1363.52\" x2=\"1407.66\" y2=\"1363.52\" style=\"stroke:#0000ff; stroke-width:3.2; stroke-opacity:1\"/>\n",
       "<line clip-path=\"url(#clip862)\" x1=\"1423.66\" y1=\"1363.52\" x2=\"1423.66\" y2=\"1379.52\" style=\"stroke:#0000ff; stroke-width:3.2; stroke-opacity:1\"/>\n",
       "<line clip-path=\"url(#clip862)\" x1=\"1423.66\" y1=\"1363.52\" x2=\"1439.66\" y2=\"1363.52\" style=\"stroke:#0000ff; stroke-width:3.2; stroke-opacity:1\"/>\n",
       "<line clip-path=\"url(#clip862)\" x1=\"1465.01\" y1=\"1361.11\" x2=\"1465.01\" y2=\"1345.11\" style=\"stroke:#0000ff; stroke-width:3.2; stroke-opacity:1\"/>\n",
       "<line clip-path=\"url(#clip862)\" x1=\"1465.01\" y1=\"1361.11\" x2=\"1449.01\" y2=\"1361.11\" style=\"stroke:#0000ff; stroke-width:3.2; stroke-opacity:1\"/>\n",
       "<line clip-path=\"url(#clip862)\" x1=\"1465.01\" y1=\"1361.11\" x2=\"1465.01\" y2=\"1377.11\" style=\"stroke:#0000ff; stroke-width:3.2; stroke-opacity:1\"/>\n",
       "<line clip-path=\"url(#clip862)\" x1=\"1465.01\" y1=\"1361.11\" x2=\"1481.01\" y2=\"1361.11\" style=\"stroke:#0000ff; stroke-width:3.2; stroke-opacity:1\"/>\n",
       "<line clip-path=\"url(#clip862)\" x1=\"1506.35\" y1=\"86.1857\" x2=\"1506.35\" y2=\"70.1857\" style=\"stroke:#0000ff; stroke-width:3.2; stroke-opacity:1\"/>\n",
       "<line clip-path=\"url(#clip862)\" x1=\"1506.35\" y1=\"86.1857\" x2=\"1490.35\" y2=\"86.1857\" style=\"stroke:#0000ff; stroke-width:3.2; stroke-opacity:1\"/>\n",
       "<line clip-path=\"url(#clip862)\" x1=\"1506.35\" y1=\"86.1857\" x2=\"1506.35\" y2=\"102.186\" style=\"stroke:#0000ff; stroke-width:3.2; stroke-opacity:1\"/>\n",
       "<line clip-path=\"url(#clip862)\" x1=\"1506.35\" y1=\"86.1857\" x2=\"1522.35\" y2=\"86.1857\" style=\"stroke:#0000ff; stroke-width:3.2; stroke-opacity:1\"/>\n",
       "<line clip-path=\"url(#clip862)\" x1=\"1547.7\" y1=\"1369.13\" x2=\"1547.7\" y2=\"1353.13\" style=\"stroke:#0000ff; stroke-width:3.2; stroke-opacity:1\"/>\n",
       "<line clip-path=\"url(#clip862)\" x1=\"1547.7\" y1=\"1369.13\" x2=\"1531.7\" y2=\"1369.13\" style=\"stroke:#0000ff; stroke-width:3.2; stroke-opacity:1\"/>\n",
       "<line clip-path=\"url(#clip862)\" x1=\"1547.7\" y1=\"1369.13\" x2=\"1547.7\" y2=\"1385.13\" style=\"stroke:#0000ff; stroke-width:3.2; stroke-opacity:1\"/>\n",
       "<line clip-path=\"url(#clip862)\" x1=\"1547.7\" y1=\"1369.13\" x2=\"1563.7\" y2=\"1369.13\" style=\"stroke:#0000ff; stroke-width:3.2; stroke-opacity:1\"/>\n",
       "<line clip-path=\"url(#clip862)\" x1=\"1589.05\" y1=\"1349.57\" x2=\"1589.05\" y2=\"1333.57\" style=\"stroke:#0000ff; stroke-width:3.2; stroke-opacity:1\"/>\n",
       "<line clip-path=\"url(#clip862)\" x1=\"1589.05\" y1=\"1349.57\" x2=\"1573.05\" y2=\"1349.57\" style=\"stroke:#0000ff; stroke-width:3.2; stroke-opacity:1\"/>\n",
       "<line clip-path=\"url(#clip862)\" x1=\"1589.05\" y1=\"1349.57\" x2=\"1589.05\" y2=\"1365.57\" style=\"stroke:#0000ff; stroke-width:3.2; stroke-opacity:1\"/>\n",
       "<line clip-path=\"url(#clip862)\" x1=\"1589.05\" y1=\"1349.57\" x2=\"1605.05\" y2=\"1349.57\" style=\"stroke:#0000ff; stroke-width:3.2; stroke-opacity:1\"/>\n",
       "<line clip-path=\"url(#clip862)\" x1=\"1630.4\" y1=\"1343.74\" x2=\"1630.4\" y2=\"1327.74\" style=\"stroke:#0000ff; stroke-width:3.2; stroke-opacity:1\"/>\n",
       "<line clip-path=\"url(#clip862)\" x1=\"1630.4\" y1=\"1343.74\" x2=\"1614.4\" y2=\"1343.74\" style=\"stroke:#0000ff; stroke-width:3.2; stroke-opacity:1\"/>\n",
       "<line clip-path=\"url(#clip862)\" x1=\"1630.4\" y1=\"1343.74\" x2=\"1630.4\" y2=\"1359.74\" style=\"stroke:#0000ff; stroke-width:3.2; stroke-opacity:1\"/>\n",
       "<line clip-path=\"url(#clip862)\" x1=\"1630.4\" y1=\"1343.74\" x2=\"1646.4\" y2=\"1343.74\" style=\"stroke:#0000ff; stroke-width:3.2; stroke-opacity:1\"/>\n",
       "<line clip-path=\"url(#clip862)\" x1=\"1671.75\" y1=\"1209.16\" x2=\"1671.75\" y2=\"1193.16\" style=\"stroke:#0000ff; stroke-width:3.2; stroke-opacity:1\"/>\n",
       "<line clip-path=\"url(#clip862)\" x1=\"1671.75\" y1=\"1209.16\" x2=\"1655.75\" y2=\"1209.16\" style=\"stroke:#0000ff; stroke-width:3.2; stroke-opacity:1\"/>\n",
       "<line clip-path=\"url(#clip862)\" x1=\"1671.75\" y1=\"1209.16\" x2=\"1671.75\" y2=\"1225.16\" style=\"stroke:#0000ff; stroke-width:3.2; stroke-opacity:1\"/>\n",
       "<line clip-path=\"url(#clip862)\" x1=\"1671.75\" y1=\"1209.16\" x2=\"1687.75\" y2=\"1209.16\" style=\"stroke:#0000ff; stroke-width:3.2; stroke-opacity:1\"/>\n",
       "<line clip-path=\"url(#clip862)\" x1=\"1713.1\" y1=\"1209.92\" x2=\"1713.1\" y2=\"1193.92\" style=\"stroke:#0000ff; stroke-width:3.2; stroke-opacity:1\"/>\n",
       "<line clip-path=\"url(#clip862)\" x1=\"1713.1\" y1=\"1209.92\" x2=\"1697.1\" y2=\"1209.92\" style=\"stroke:#0000ff; stroke-width:3.2; stroke-opacity:1\"/>\n",
       "<line clip-path=\"url(#clip862)\" x1=\"1713.1\" y1=\"1209.92\" x2=\"1713.1\" y2=\"1225.92\" style=\"stroke:#0000ff; stroke-width:3.2; stroke-opacity:1\"/>\n",
       "<line clip-path=\"url(#clip862)\" x1=\"1713.1\" y1=\"1209.92\" x2=\"1729.1\" y2=\"1209.92\" style=\"stroke:#0000ff; stroke-width:3.2; stroke-opacity:1\"/>\n",
       "<line clip-path=\"url(#clip862)\" x1=\"1754.44\" y1=\"1344.22\" x2=\"1754.44\" y2=\"1328.22\" style=\"stroke:#0000ff; stroke-width:3.2; stroke-opacity:1\"/>\n",
       "<line clip-path=\"url(#clip862)\" x1=\"1754.44\" y1=\"1344.22\" x2=\"1738.44\" y2=\"1344.22\" style=\"stroke:#0000ff; stroke-width:3.2; stroke-opacity:1\"/>\n",
       "<line clip-path=\"url(#clip862)\" x1=\"1754.44\" y1=\"1344.22\" x2=\"1754.44\" y2=\"1360.22\" style=\"stroke:#0000ff; stroke-width:3.2; stroke-opacity:1\"/>\n",
       "<line clip-path=\"url(#clip862)\" x1=\"1754.44\" y1=\"1344.22\" x2=\"1770.44\" y2=\"1344.22\" style=\"stroke:#0000ff; stroke-width:3.2; stroke-opacity:1\"/>\n",
       "<line clip-path=\"url(#clip862)\" x1=\"1795.79\" y1=\"1263.96\" x2=\"1795.79\" y2=\"1247.96\" style=\"stroke:#0000ff; stroke-width:3.2; stroke-opacity:1\"/>\n",
       "<line clip-path=\"url(#clip862)\" x1=\"1795.79\" y1=\"1263.96\" x2=\"1779.79\" y2=\"1263.96\" style=\"stroke:#0000ff; stroke-width:3.2; stroke-opacity:1\"/>\n",
       "<line clip-path=\"url(#clip862)\" x1=\"1795.79\" y1=\"1263.96\" x2=\"1795.79\" y2=\"1279.96\" style=\"stroke:#0000ff; stroke-width:3.2; stroke-opacity:1\"/>\n",
       "<line clip-path=\"url(#clip862)\" x1=\"1795.79\" y1=\"1263.96\" x2=\"1811.79\" y2=\"1263.96\" style=\"stroke:#0000ff; stroke-width:3.2; stroke-opacity:1\"/>\n",
       "<line clip-path=\"url(#clip862)\" x1=\"1837.14\" y1=\"1347.96\" x2=\"1837.14\" y2=\"1331.96\" style=\"stroke:#0000ff; stroke-width:3.2; stroke-opacity:1\"/>\n",
       "<line clip-path=\"url(#clip862)\" x1=\"1837.14\" y1=\"1347.96\" x2=\"1821.14\" y2=\"1347.96\" style=\"stroke:#0000ff; stroke-width:3.2; stroke-opacity:1\"/>\n",
       "<line clip-path=\"url(#clip862)\" x1=\"1837.14\" y1=\"1347.96\" x2=\"1837.14\" y2=\"1363.96\" style=\"stroke:#0000ff; stroke-width:3.2; stroke-opacity:1\"/>\n",
       "<line clip-path=\"url(#clip862)\" x1=\"1837.14\" y1=\"1347.96\" x2=\"1853.14\" y2=\"1347.96\" style=\"stroke:#0000ff; stroke-width:3.2; stroke-opacity:1\"/>\n",
       "<line clip-path=\"url(#clip862)\" x1=\"1878.49\" y1=\"1257.71\" x2=\"1878.49\" y2=\"1241.71\" style=\"stroke:#0000ff; stroke-width:3.2; stroke-opacity:1\"/>\n",
       "<line clip-path=\"url(#clip862)\" x1=\"1878.49\" y1=\"1257.71\" x2=\"1862.49\" y2=\"1257.71\" style=\"stroke:#0000ff; stroke-width:3.2; stroke-opacity:1\"/>\n",
       "<line clip-path=\"url(#clip862)\" x1=\"1878.49\" y1=\"1257.71\" x2=\"1878.49\" y2=\"1273.71\" style=\"stroke:#0000ff; stroke-width:3.2; stroke-opacity:1\"/>\n",
       "<line clip-path=\"url(#clip862)\" x1=\"1878.49\" y1=\"1257.71\" x2=\"1894.49\" y2=\"1257.71\" style=\"stroke:#0000ff; stroke-width:3.2; stroke-opacity:1\"/>\n",
       "<line clip-path=\"url(#clip862)\" x1=\"1919.84\" y1=\"1348.81\" x2=\"1919.84\" y2=\"1332.81\" style=\"stroke:#0000ff; stroke-width:3.2; stroke-opacity:1\"/>\n",
       "<line clip-path=\"url(#clip862)\" x1=\"1919.84\" y1=\"1348.81\" x2=\"1903.84\" y2=\"1348.81\" style=\"stroke:#0000ff; stroke-width:3.2; stroke-opacity:1\"/>\n",
       "<line clip-path=\"url(#clip862)\" x1=\"1919.84\" y1=\"1348.81\" x2=\"1919.84\" y2=\"1364.81\" style=\"stroke:#0000ff; stroke-width:3.2; stroke-opacity:1\"/>\n",
       "<line clip-path=\"url(#clip862)\" x1=\"1919.84\" y1=\"1348.81\" x2=\"1935.84\" y2=\"1348.81\" style=\"stroke:#0000ff; stroke-width:3.2; stroke-opacity:1\"/>\n",
       "<line clip-path=\"url(#clip862)\" x1=\"1961.19\" y1=\"1329.83\" x2=\"1961.19\" y2=\"1313.83\" style=\"stroke:#0000ff; stroke-width:3.2; stroke-opacity:1\"/>\n",
       "<line clip-path=\"url(#clip862)\" x1=\"1961.19\" y1=\"1329.83\" x2=\"1945.19\" y2=\"1329.83\" style=\"stroke:#0000ff; stroke-width:3.2; stroke-opacity:1\"/>\n",
       "<line clip-path=\"url(#clip862)\" x1=\"1961.19\" y1=\"1329.83\" x2=\"1961.19\" y2=\"1345.83\" style=\"stroke:#0000ff; stroke-width:3.2; stroke-opacity:1\"/>\n",
       "<line clip-path=\"url(#clip862)\" x1=\"1961.19\" y1=\"1329.83\" x2=\"1977.19\" y2=\"1329.83\" style=\"stroke:#0000ff; stroke-width:3.2; stroke-opacity:1\"/>\n",
       "<line clip-path=\"url(#clip862)\" x1=\"2002.54\" y1=\"1338.23\" x2=\"2002.54\" y2=\"1322.23\" style=\"stroke:#0000ff; stroke-width:3.2; stroke-opacity:1\"/>\n",
       "<line clip-path=\"url(#clip862)\" x1=\"2002.54\" y1=\"1338.23\" x2=\"1986.54\" y2=\"1338.23\" style=\"stroke:#0000ff; stroke-width:3.2; stroke-opacity:1\"/>\n",
       "<line clip-path=\"url(#clip862)\" x1=\"2002.54\" y1=\"1338.23\" x2=\"2002.54\" y2=\"1354.23\" style=\"stroke:#0000ff; stroke-width:3.2; stroke-opacity:1\"/>\n",
       "<line clip-path=\"url(#clip862)\" x1=\"2002.54\" y1=\"1338.23\" x2=\"2018.54\" y2=\"1338.23\" style=\"stroke:#0000ff; stroke-width:3.2; stroke-opacity:1\"/>\n",
       "<line clip-path=\"url(#clip862)\" x1=\"2043.88\" y1=\"1343.41\" x2=\"2043.88\" y2=\"1327.41\" style=\"stroke:#0000ff; stroke-width:3.2; stroke-opacity:1\"/>\n",
       "<line clip-path=\"url(#clip862)\" x1=\"2043.88\" y1=\"1343.41\" x2=\"2027.88\" y2=\"1343.41\" style=\"stroke:#0000ff; stroke-width:3.2; stroke-opacity:1\"/>\n",
       "<line clip-path=\"url(#clip862)\" x1=\"2043.88\" y1=\"1343.41\" x2=\"2043.88\" y2=\"1359.41\" style=\"stroke:#0000ff; stroke-width:3.2; stroke-opacity:1\"/>\n",
       "<line clip-path=\"url(#clip862)\" x1=\"2043.88\" y1=\"1343.41\" x2=\"2059.88\" y2=\"1343.41\" style=\"stroke:#0000ff; stroke-width:3.2; stroke-opacity:1\"/>\n",
       "<line clip-path=\"url(#clip862)\" x1=\"2085.23\" y1=\"1180.06\" x2=\"2085.23\" y2=\"1164.06\" style=\"stroke:#0000ff; stroke-width:3.2; stroke-opacity:1\"/>\n",
       "<line clip-path=\"url(#clip862)\" x1=\"2085.23\" y1=\"1180.06\" x2=\"2069.23\" y2=\"1180.06\" style=\"stroke:#0000ff; stroke-width:3.2; stroke-opacity:1\"/>\n",
       "<line clip-path=\"url(#clip862)\" x1=\"2085.23\" y1=\"1180.06\" x2=\"2085.23\" y2=\"1196.06\" style=\"stroke:#0000ff; stroke-width:3.2; stroke-opacity:1\"/>\n",
       "<line clip-path=\"url(#clip862)\" x1=\"2085.23\" y1=\"1180.06\" x2=\"2101.23\" y2=\"1180.06\" style=\"stroke:#0000ff; stroke-width:3.2; stroke-opacity:1\"/>\n",
       "<line clip-path=\"url(#clip862)\" x1=\"2126.58\" y1=\"1338.82\" x2=\"2126.58\" y2=\"1322.82\" style=\"stroke:#0000ff; stroke-width:3.2; stroke-opacity:1\"/>\n",
       "<line clip-path=\"url(#clip862)\" x1=\"2126.58\" y1=\"1338.82\" x2=\"2110.58\" y2=\"1338.82\" style=\"stroke:#0000ff; stroke-width:3.2; stroke-opacity:1\"/>\n",
       "<line clip-path=\"url(#clip862)\" x1=\"2126.58\" y1=\"1338.82\" x2=\"2126.58\" y2=\"1354.82\" style=\"stroke:#0000ff; stroke-width:3.2; stroke-opacity:1\"/>\n",
       "<line clip-path=\"url(#clip862)\" x1=\"2126.58\" y1=\"1338.82\" x2=\"2142.58\" y2=\"1338.82\" style=\"stroke:#0000ff; stroke-width:3.2; stroke-opacity:1\"/>\n",
       "<line clip-path=\"url(#clip862)\" x1=\"2167.93\" y1=\"1329.77\" x2=\"2167.93\" y2=\"1313.77\" style=\"stroke:#0000ff; stroke-width:3.2; stroke-opacity:1\"/>\n",
       "<line clip-path=\"url(#clip862)\" x1=\"2167.93\" y1=\"1329.77\" x2=\"2151.93\" y2=\"1329.77\" style=\"stroke:#0000ff; stroke-width:3.2; stroke-opacity:1\"/>\n",
       "<line clip-path=\"url(#clip862)\" x1=\"2167.93\" y1=\"1329.77\" x2=\"2167.93\" y2=\"1345.77\" style=\"stroke:#0000ff; stroke-width:3.2; stroke-opacity:1\"/>\n",
       "<line clip-path=\"url(#clip862)\" x1=\"2167.93\" y1=\"1329.77\" x2=\"2183.93\" y2=\"1329.77\" style=\"stroke:#0000ff; stroke-width:3.2; stroke-opacity:1\"/>\n",
       "<line clip-path=\"url(#clip862)\" x1=\"2209.28\" y1=\"1332.12\" x2=\"2209.28\" y2=\"1316.12\" style=\"stroke:#0000ff; stroke-width:3.2; stroke-opacity:1\"/>\n",
       "<line clip-path=\"url(#clip862)\" x1=\"2209.28\" y1=\"1332.12\" x2=\"2193.28\" y2=\"1332.12\" style=\"stroke:#0000ff; stroke-width:3.2; stroke-opacity:1\"/>\n",
       "<line clip-path=\"url(#clip862)\" x1=\"2209.28\" y1=\"1332.12\" x2=\"2209.28\" y2=\"1348.12\" style=\"stroke:#0000ff; stroke-width:3.2; stroke-opacity:1\"/>\n",
       "<line clip-path=\"url(#clip862)\" x1=\"2209.28\" y1=\"1332.12\" x2=\"2225.28\" y2=\"1332.12\" style=\"stroke:#0000ff; stroke-width:3.2; stroke-opacity:1\"/>\n",
       "<line clip-path=\"url(#clip862)\" x1=\"2250.63\" y1=\"1329.94\" x2=\"2250.63\" y2=\"1313.94\" style=\"stroke:#0000ff; stroke-width:3.2; stroke-opacity:1\"/>\n",
       "<line clip-path=\"url(#clip862)\" x1=\"2250.63\" y1=\"1329.94\" x2=\"2234.63\" y2=\"1329.94\" style=\"stroke:#0000ff; stroke-width:3.2; stroke-opacity:1\"/>\n",
       "<line clip-path=\"url(#clip862)\" x1=\"2250.63\" y1=\"1329.94\" x2=\"2250.63\" y2=\"1345.94\" style=\"stroke:#0000ff; stroke-width:3.2; stroke-opacity:1\"/>\n",
       "<line clip-path=\"url(#clip862)\" x1=\"2250.63\" y1=\"1329.94\" x2=\"2266.63\" y2=\"1329.94\" style=\"stroke:#0000ff; stroke-width:3.2; stroke-opacity:1\"/>\n",
       "<line clip-path=\"url(#clip862)\" x1=\"2291.97\" y1=\"1324.34\" x2=\"2291.97\" y2=\"1308.34\" style=\"stroke:#0000ff; stroke-width:3.2; stroke-opacity:1\"/>\n",
       "<line clip-path=\"url(#clip862)\" x1=\"2291.97\" y1=\"1324.34\" x2=\"2275.97\" y2=\"1324.34\" style=\"stroke:#0000ff; stroke-width:3.2; stroke-opacity:1\"/>\n",
       "<line clip-path=\"url(#clip862)\" x1=\"2291.97\" y1=\"1324.34\" x2=\"2291.97\" y2=\"1340.34\" style=\"stroke:#0000ff; stroke-width:3.2; stroke-opacity:1\"/>\n",
       "<line clip-path=\"url(#clip862)\" x1=\"2291.97\" y1=\"1324.34\" x2=\"2307.97\" y2=\"1324.34\" style=\"stroke:#0000ff; stroke-width:3.2; stroke-opacity:1\"/>\n",
       "<polyline clip-path=\"url(#clip862)\" style=\"stroke:#ff0000; stroke-linecap:round; stroke-linejoin:round; stroke-width:4; stroke-opacity:1; fill:none\" points=\"265.903,1372.77 307.251,1367.05 348.6,1360.82 389.948,1351.25 431.297,1332.2 472.645,1328.94 513.993,1306.49 555.342,1291.56 596.69,1288.75 638.039,1303.46 679.387,1231.48 720.735,1216.85 762.084,1226.86 803.432,1204.01 844.78,1217.44 886.129,1144.66 927.477,1117.95 968.826,1164.44 1010.17,1122.6 1051.52,1075.78 1092.87,1101.4 1134.22,943.551 1175.57,1046.04 1216.92,934.718 1258.26,919.622 1299.61,900.597 1340.96,992.942 1382.31,885.374 1423.66,766.113 1465.01,800.793 1506.35,808.604 1547.7,712.281 1589.05,718.048 1630.4,623.307 1671.75,531.505 1713.1,822.645 1754.44,625.527 1795.79,577.622 1837.14,553.805 1878.49,396.366 1919.84,330.107 \"/>\n",
       "<polyline clip-path=\"url(#clip862)\" style=\"stroke:#ff0000; stroke-linecap:round; stroke-linejoin:round; stroke-width:4; stroke-opacity:1; fill:none\" points=\"2167.93,395.584 2209.28,334.26 \"/>\n",
       "<path clip-path=\"url(#clip862)\" d=\"M265.903 1356.77 L249.903 1372.77 L265.903 1388.77 L281.903 1372.77 L265.903 1356.77 Z\" fill=\"#ff0000\" fill-rule=\"evenodd\" fill-opacity=\"1\" stroke=\"#000000\" stroke-opacity=\"1\" stroke-width=\"3.2\"/>\n",
       "<path clip-path=\"url(#clip862)\" d=\"M307.251 1351.05 L291.251 1367.05 L307.251 1383.05 L323.251 1367.05 L307.251 1351.05 Z\" fill=\"#ff0000\" fill-rule=\"evenodd\" fill-opacity=\"1\" stroke=\"#000000\" stroke-opacity=\"1\" stroke-width=\"3.2\"/>\n",
       "<path clip-path=\"url(#clip862)\" d=\"M348.6 1344.82 L332.6 1360.82 L348.6 1376.82 L364.6 1360.82 L348.6 1344.82 Z\" fill=\"#ff0000\" fill-rule=\"evenodd\" fill-opacity=\"1\" stroke=\"#000000\" stroke-opacity=\"1\" stroke-width=\"3.2\"/>\n",
       "<path clip-path=\"url(#clip862)\" d=\"M389.948 1335.25 L373.948 1351.25 L389.948 1367.25 L405.948 1351.25 L389.948 1335.25 Z\" fill=\"#ff0000\" fill-rule=\"evenodd\" fill-opacity=\"1\" stroke=\"#000000\" stroke-opacity=\"1\" stroke-width=\"3.2\"/>\n",
       "<path clip-path=\"url(#clip862)\" d=\"M431.297 1316.2 L415.297 1332.2 L431.297 1348.2 L447.297 1332.2 L431.297 1316.2 Z\" fill=\"#ff0000\" fill-rule=\"evenodd\" fill-opacity=\"1\" stroke=\"#000000\" stroke-opacity=\"1\" stroke-width=\"3.2\"/>\n",
       "<path clip-path=\"url(#clip862)\" d=\"M472.645 1312.94 L456.645 1328.94 L472.645 1344.94 L488.645 1328.94 L472.645 1312.94 Z\" fill=\"#ff0000\" fill-rule=\"evenodd\" fill-opacity=\"1\" stroke=\"#000000\" stroke-opacity=\"1\" stroke-width=\"3.2\"/>\n",
       "<path clip-path=\"url(#clip862)\" d=\"M513.993 1290.49 L497.993 1306.49 L513.993 1322.49 L529.993 1306.49 L513.993 1290.49 Z\" fill=\"#ff0000\" fill-rule=\"evenodd\" fill-opacity=\"1\" stroke=\"#000000\" stroke-opacity=\"1\" stroke-width=\"3.2\"/>\n",
       "<path clip-path=\"url(#clip862)\" d=\"M555.342 1275.56 L539.342 1291.56 L555.342 1307.56 L571.342 1291.56 L555.342 1275.56 Z\" fill=\"#ff0000\" fill-rule=\"evenodd\" fill-opacity=\"1\" stroke=\"#000000\" stroke-opacity=\"1\" stroke-width=\"3.2\"/>\n",
       "<path clip-path=\"url(#clip862)\" d=\"M596.69 1272.75 L580.69 1288.75 L596.69 1304.75 L612.69 1288.75 L596.69 1272.75 Z\" fill=\"#ff0000\" fill-rule=\"evenodd\" fill-opacity=\"1\" stroke=\"#000000\" stroke-opacity=\"1\" stroke-width=\"3.2\"/>\n",
       "<path clip-path=\"url(#clip862)\" d=\"M638.039 1287.46 L622.039 1303.46 L638.039 1319.46 L654.039 1303.46 L638.039 1287.46 Z\" fill=\"#ff0000\" fill-rule=\"evenodd\" fill-opacity=\"1\" stroke=\"#000000\" stroke-opacity=\"1\" stroke-width=\"3.2\"/>\n",
       "<path clip-path=\"url(#clip862)\" d=\"M679.387 1215.48 L663.387 1231.48 L679.387 1247.48 L695.387 1231.48 L679.387 1215.48 Z\" fill=\"#ff0000\" fill-rule=\"evenodd\" fill-opacity=\"1\" stroke=\"#000000\" stroke-opacity=\"1\" stroke-width=\"3.2\"/>\n",
       "<path clip-path=\"url(#clip862)\" d=\"M720.735 1200.85 L704.735 1216.85 L720.735 1232.85 L736.735 1216.85 L720.735 1200.85 Z\" fill=\"#ff0000\" fill-rule=\"evenodd\" fill-opacity=\"1\" stroke=\"#000000\" stroke-opacity=\"1\" stroke-width=\"3.2\"/>\n",
       "<path clip-path=\"url(#clip862)\" d=\"M762.084 1210.86 L746.084 1226.86 L762.084 1242.86 L778.084 1226.86 L762.084 1210.86 Z\" fill=\"#ff0000\" fill-rule=\"evenodd\" fill-opacity=\"1\" stroke=\"#000000\" stroke-opacity=\"1\" stroke-width=\"3.2\"/>\n",
       "<path clip-path=\"url(#clip862)\" d=\"M803.432 1188.01 L787.432 1204.01 L803.432 1220.01 L819.432 1204.01 L803.432 1188.01 Z\" fill=\"#ff0000\" fill-rule=\"evenodd\" fill-opacity=\"1\" stroke=\"#000000\" stroke-opacity=\"1\" stroke-width=\"3.2\"/>\n",
       "<path clip-path=\"url(#clip862)\" d=\"M844.78 1201.44 L828.78 1217.44 L844.78 1233.44 L860.78 1217.44 L844.78 1201.44 Z\" fill=\"#ff0000\" fill-rule=\"evenodd\" fill-opacity=\"1\" stroke=\"#000000\" stroke-opacity=\"1\" stroke-width=\"3.2\"/>\n",
       "<path clip-path=\"url(#clip862)\" d=\"M886.129 1128.66 L870.129 1144.66 L886.129 1160.66 L902.129 1144.66 L886.129 1128.66 Z\" fill=\"#ff0000\" fill-rule=\"evenodd\" fill-opacity=\"1\" stroke=\"#000000\" stroke-opacity=\"1\" stroke-width=\"3.2\"/>\n",
       "<path clip-path=\"url(#clip862)\" d=\"M927.477 1101.95 L911.477 1117.95 L927.477 1133.95 L943.477 1117.95 L927.477 1101.95 Z\" fill=\"#ff0000\" fill-rule=\"evenodd\" fill-opacity=\"1\" stroke=\"#000000\" stroke-opacity=\"1\" stroke-width=\"3.2\"/>\n",
       "<path clip-path=\"url(#clip862)\" d=\"M968.826 1148.44 L952.826 1164.44 L968.826 1180.44 L984.826 1164.44 L968.826 1148.44 Z\" fill=\"#ff0000\" fill-rule=\"evenodd\" fill-opacity=\"1\" stroke=\"#000000\" stroke-opacity=\"1\" stroke-width=\"3.2\"/>\n",
       "<path clip-path=\"url(#clip862)\" d=\"M1010.17 1106.6 L994.174 1122.6 L1010.17 1138.6 L1026.17 1122.6 L1010.17 1106.6 Z\" fill=\"#ff0000\" fill-rule=\"evenodd\" fill-opacity=\"1\" stroke=\"#000000\" stroke-opacity=\"1\" stroke-width=\"3.2\"/>\n",
       "<path clip-path=\"url(#clip862)\" d=\"M1051.52 1059.78 L1035.52 1075.78 L1051.52 1091.78 L1067.52 1075.78 L1051.52 1059.78 Z\" fill=\"#ff0000\" fill-rule=\"evenodd\" fill-opacity=\"1\" stroke=\"#000000\" stroke-opacity=\"1\" stroke-width=\"3.2\"/>\n",
       "<path clip-path=\"url(#clip862)\" d=\"M1092.87 1085.4 L1076.87 1101.4 L1092.87 1117.4 L1108.87 1101.4 L1092.87 1085.4 Z\" fill=\"#ff0000\" fill-rule=\"evenodd\" fill-opacity=\"1\" stroke=\"#000000\" stroke-opacity=\"1\" stroke-width=\"3.2\"/>\n",
       "<path clip-path=\"url(#clip862)\" d=\"M1134.22 927.551 L1118.22 943.551 L1134.22 959.551 L1150.22 943.551 L1134.22 927.551 Z\" fill=\"#ff0000\" fill-rule=\"evenodd\" fill-opacity=\"1\" stroke=\"#000000\" stroke-opacity=\"1\" stroke-width=\"3.2\"/>\n",
       "<path clip-path=\"url(#clip862)\" d=\"M1175.57 1030.04 L1159.57 1046.04 L1175.57 1062.04 L1191.57 1046.04 L1175.57 1030.04 Z\" fill=\"#ff0000\" fill-rule=\"evenodd\" fill-opacity=\"1\" stroke=\"#000000\" stroke-opacity=\"1\" stroke-width=\"3.2\"/>\n",
       "<path clip-path=\"url(#clip862)\" d=\"M1216.92 918.718 L1200.92 934.718 L1216.92 950.718 L1232.92 934.718 L1216.92 918.718 Z\" fill=\"#ff0000\" fill-rule=\"evenodd\" fill-opacity=\"1\" stroke=\"#000000\" stroke-opacity=\"1\" stroke-width=\"3.2\"/>\n",
       "<path clip-path=\"url(#clip862)\" d=\"M1258.26 903.622 L1242.26 919.622 L1258.26 935.622 L1274.26 919.622 L1258.26 903.622 Z\" fill=\"#ff0000\" fill-rule=\"evenodd\" fill-opacity=\"1\" stroke=\"#000000\" stroke-opacity=\"1\" stroke-width=\"3.2\"/>\n",
       "<path clip-path=\"url(#clip862)\" d=\"M1299.61 884.597 L1283.61 900.597 L1299.61 916.597 L1315.61 900.597 L1299.61 884.597 Z\" fill=\"#ff0000\" fill-rule=\"evenodd\" fill-opacity=\"1\" stroke=\"#000000\" stroke-opacity=\"1\" stroke-width=\"3.2\"/>\n",
       "<path clip-path=\"url(#clip862)\" d=\"M1340.96 976.942 L1324.96 992.942 L1340.96 1008.94 L1356.96 992.942 L1340.96 976.942 Z\" fill=\"#ff0000\" fill-rule=\"evenodd\" fill-opacity=\"1\" stroke=\"#000000\" stroke-opacity=\"1\" stroke-width=\"3.2\"/>\n",
       "<path clip-path=\"url(#clip862)\" d=\"M1382.31 869.374 L1366.31 885.374 L1382.31 901.374 L1398.31 885.374 L1382.31 869.374 Z\" fill=\"#ff0000\" fill-rule=\"evenodd\" fill-opacity=\"1\" stroke=\"#000000\" stroke-opacity=\"1\" stroke-width=\"3.2\"/>\n",
       "<path clip-path=\"url(#clip862)\" d=\"M1423.66 750.113 L1407.66 766.113 L1423.66 782.113 L1439.66 766.113 L1423.66 750.113 Z\" fill=\"#ff0000\" fill-rule=\"evenodd\" fill-opacity=\"1\" stroke=\"#000000\" stroke-opacity=\"1\" stroke-width=\"3.2\"/>\n",
       "<path clip-path=\"url(#clip862)\" d=\"M1465.01 784.793 L1449.01 800.793 L1465.01 816.793 L1481.01 800.793 L1465.01 784.793 Z\" fill=\"#ff0000\" fill-rule=\"evenodd\" fill-opacity=\"1\" stroke=\"#000000\" stroke-opacity=\"1\" stroke-width=\"3.2\"/>\n",
       "<path clip-path=\"url(#clip862)\" d=\"M1506.35 792.604 L1490.35 808.604 L1506.35 824.604 L1522.35 808.604 L1506.35 792.604 Z\" fill=\"#ff0000\" fill-rule=\"evenodd\" fill-opacity=\"1\" stroke=\"#000000\" stroke-opacity=\"1\" stroke-width=\"3.2\"/>\n",
       "<path clip-path=\"url(#clip862)\" d=\"M1547.7 696.281 L1531.7 712.281 L1547.7 728.281 L1563.7 712.281 L1547.7 696.281 Z\" fill=\"#ff0000\" fill-rule=\"evenodd\" fill-opacity=\"1\" stroke=\"#000000\" stroke-opacity=\"1\" stroke-width=\"3.2\"/>\n",
       "<path clip-path=\"url(#clip862)\" d=\"M1589.05 702.048 L1573.05 718.048 L1589.05 734.048 L1605.05 718.048 L1589.05 702.048 Z\" fill=\"#ff0000\" fill-rule=\"evenodd\" fill-opacity=\"1\" stroke=\"#000000\" stroke-opacity=\"1\" stroke-width=\"3.2\"/>\n",
       "<path clip-path=\"url(#clip862)\" d=\"M1630.4 607.307 L1614.4 623.307 L1630.4 639.307 L1646.4 623.307 L1630.4 607.307 Z\" fill=\"#ff0000\" fill-rule=\"evenodd\" fill-opacity=\"1\" stroke=\"#000000\" stroke-opacity=\"1\" stroke-width=\"3.2\"/>\n",
       "<path clip-path=\"url(#clip862)\" d=\"M1671.75 515.505 L1655.75 531.505 L1671.75 547.505 L1687.75 531.505 L1671.75 515.505 Z\" fill=\"#ff0000\" fill-rule=\"evenodd\" fill-opacity=\"1\" stroke=\"#000000\" stroke-opacity=\"1\" stroke-width=\"3.2\"/>\n",
       "<path clip-path=\"url(#clip862)\" d=\"M1713.1 806.645 L1697.1 822.645 L1713.1 838.645 L1729.1 822.645 L1713.1 806.645 Z\" fill=\"#ff0000\" fill-rule=\"evenodd\" fill-opacity=\"1\" stroke=\"#000000\" stroke-opacity=\"1\" stroke-width=\"3.2\"/>\n",
       "<path clip-path=\"url(#clip862)\" d=\"M1754.44 609.527 L1738.44 625.527 L1754.44 641.527 L1770.44 625.527 L1754.44 609.527 Z\" fill=\"#ff0000\" fill-rule=\"evenodd\" fill-opacity=\"1\" stroke=\"#000000\" stroke-opacity=\"1\" stroke-width=\"3.2\"/>\n",
       "<path clip-path=\"url(#clip862)\" d=\"M1795.79 561.622 L1779.79 577.622 L1795.79 593.622 L1811.79 577.622 L1795.79 561.622 Z\" fill=\"#ff0000\" fill-rule=\"evenodd\" fill-opacity=\"1\" stroke=\"#000000\" stroke-opacity=\"1\" stroke-width=\"3.2\"/>\n",
       "<path clip-path=\"url(#clip862)\" d=\"M1837.14 537.805 L1821.14 553.805 L1837.14 569.805 L1853.14 553.805 L1837.14 537.805 Z\" fill=\"#ff0000\" fill-rule=\"evenodd\" fill-opacity=\"1\" stroke=\"#000000\" stroke-opacity=\"1\" stroke-width=\"3.2\"/>\n",
       "<path clip-path=\"url(#clip862)\" d=\"M1878.49 380.366 L1862.49 396.366 L1878.49 412.366 L1894.49 396.366 L1878.49 380.366 Z\" fill=\"#ff0000\" fill-rule=\"evenodd\" fill-opacity=\"1\" stroke=\"#000000\" stroke-opacity=\"1\" stroke-width=\"3.2\"/>\n",
       "<path clip-path=\"url(#clip862)\" d=\"M1919.84 314.107 L1903.84 330.107 L1919.84 346.107 L1935.84 330.107 L1919.84 314.107 Z\" fill=\"#ff0000\" fill-rule=\"evenodd\" fill-opacity=\"1\" stroke=\"#000000\" stroke-opacity=\"1\" stroke-width=\"3.2\"/>\n",
       "<path clip-path=\"url(#clip862)\" d=\"M2002.54 409.806 L1986.54 425.806 L2002.54 441.806 L2018.54 425.806 L2002.54 409.806 Z\" fill=\"#ff0000\" fill-rule=\"evenodd\" fill-opacity=\"1\" stroke=\"#000000\" stroke-opacity=\"1\" stroke-width=\"3.2\"/>\n",
       "<path clip-path=\"url(#clip862)\" d=\"M2085.23 469.724 L2069.23 485.724 L2085.23 501.724 L2101.23 485.724 L2085.23 469.724 Z\" fill=\"#ff0000\" fill-rule=\"evenodd\" fill-opacity=\"1\" stroke=\"#000000\" stroke-opacity=\"1\" stroke-width=\"3.2\"/>\n",
       "<path clip-path=\"url(#clip862)\" d=\"M2167.93 379.584 L2151.93 395.584 L2167.93 411.584 L2183.93 395.584 L2167.93 379.584 Z\" fill=\"#ff0000\" fill-rule=\"evenodd\" fill-opacity=\"1\" stroke=\"#000000\" stroke-opacity=\"1\" stroke-width=\"3.2\"/>\n",
       "<path clip-path=\"url(#clip862)\" d=\"M2209.28 318.26 L2193.28 334.26 L2209.28 350.26 L2225.28 334.26 L2209.28 318.26 Z\" fill=\"#ff0000\" fill-rule=\"evenodd\" fill-opacity=\"1\" stroke=\"#000000\" stroke-opacity=\"1\" stroke-width=\"3.2\"/>\n",
       "<path clip-path=\"url(#clip862)\" d=\"M2291.97 215.42 L2275.97 231.42 L2291.97 247.42 L2307.97 231.42 L2291.97 215.42 Z\" fill=\"#ff0000\" fill-rule=\"evenodd\" fill-opacity=\"1\" stroke=\"#000000\" stroke-opacity=\"1\" stroke-width=\"3.2\"/>\n",
       "<path clip-path=\"url(#clip860)\" d=\"M276.709 300.469 L613.902 300.469 L613.902 93.1086 L276.709 93.1086  Z\" fill=\"#ffffff\" fill-rule=\"evenodd\" fill-opacity=\"1\"/>\n",
       "<polyline clip-path=\"url(#clip860)\" style=\"stroke:#000000; stroke-linecap:round; stroke-linejoin:round; stroke-width:4; stroke-opacity:1; fill:none\" points=\"276.709,300.469 613.902,300.469 613.902,93.1086 276.709,93.1086 276.709,300.469 \"/>\n",
       "<polyline clip-path=\"url(#clip860)\" style=\"stroke:#008000; stroke-linecap:round; stroke-linejoin:round; stroke-width:4; stroke-opacity:1; fill:none\" points=\"300.571,144.949 443.747,144.949 \"/>\n",
       "<circle clip-path=\"url(#clip860)\" cx=\"372.159\" cy=\"144.949\" r=\"19.8855\" fill=\"#008000\" fill-rule=\"evenodd\" fill-opacity=\"1\" stroke=\"#000000\" stroke-opacity=\"1\" stroke-width=\"5.12\"/>\n",
       "<path clip-path=\"url(#clip860)\" d=\"M467.61 151.997 L467.61 136.303 L471.869 136.303 L471.869 151.835 Q471.869 155.516 473.304 157.368 Q474.739 159.196 477.61 159.196 Q481.059 159.196 483.049 156.997 Q485.063 154.798 485.063 151.002 L485.063 136.303 L489.323 136.303 L489.323 162.229 L485.063 162.229 L485.063 158.247 Q483.512 160.608 481.452 161.766 Q479.415 162.9 476.707 162.9 Q472.239 162.9 469.924 160.122 Q467.61 157.344 467.61 151.997 M478.327 135.678 L478.327 135.678 Z\" fill=\"#000000\" fill-rule=\"evenodd\" fill-opacity=\"1\" /><path clip-path=\"url(#clip860)\" d=\"M519.646 146.581 L519.646 162.229 L515.387 162.229 L515.387 146.719 Q515.387 143.039 513.952 141.21 Q512.517 139.382 509.647 139.382 Q506.197 139.382 504.207 141.581 Q502.216 143.78 502.216 147.576 L502.216 162.229 L497.934 162.229 L497.934 136.303 L502.216 136.303 L502.216 140.331 Q503.744 137.993 505.804 136.835 Q507.887 135.678 510.596 135.678 Q515.063 135.678 517.355 138.456 Q519.646 141.21 519.646 146.581 Z\" fill=\"#000000\" fill-rule=\"evenodd\" fill-opacity=\"1\" /><path clip-path=\"url(#clip860)\" d=\"M546.799 137.298 L546.799 141.28 Q544.994 140.284 543.165 139.798 Q541.359 139.289 539.507 139.289 Q535.364 139.289 533.072 141.928 Q530.781 144.544 530.781 149.289 Q530.781 154.034 533.072 156.673 Q535.364 159.289 539.507 159.289 Q541.359 159.289 543.165 158.803 Q544.994 158.293 546.799 157.298 L546.799 161.233 Q545.017 162.067 543.095 162.483 Q541.197 162.9 539.044 162.9 Q533.188 162.9 529.739 159.219 Q526.29 155.539 526.29 149.289 Q526.29 142.946 529.762 139.312 Q533.257 135.678 539.322 135.678 Q541.29 135.678 543.165 136.095 Q545.04 136.488 546.799 137.298 Z\" fill=\"#000000\" fill-rule=\"evenodd\" fill-opacity=\"1\" /><path clip-path=\"url(#clip860)\" d=\"M554.808 156.349 L559.693 156.349 L559.693 162.229 L554.808 162.229 L554.808 156.349 Z\" fill=\"#000000\" fill-rule=\"evenodd\" fill-opacity=\"1\" /><polyline clip-path=\"url(#clip860)\" style=\"stroke:#0000ff; stroke-linecap:round; stroke-linejoin:round; stroke-width:4; stroke-opacity:1; fill:none\" points=\"300.571,196.789 443.747,196.789 \"/>\n",
       "<line clip-path=\"url(#clip860)\" x1=\"372.159\" y1=\"196.789\" x2=\"372.159\" y2=\"174.694\" style=\"stroke:#0000ff; stroke-width:5.12; stroke-opacity:1\"/>\n",
       "<line clip-path=\"url(#clip860)\" x1=\"372.159\" y1=\"196.789\" x2=\"350.064\" y2=\"196.789\" style=\"stroke:#0000ff; stroke-width:5.12; stroke-opacity:1\"/>\n",
       "<line clip-path=\"url(#clip860)\" x1=\"372.159\" y1=\"196.789\" x2=\"372.159\" y2=\"218.884\" style=\"stroke:#0000ff; stroke-width:5.12; stroke-opacity:1\"/>\n",
       "<line clip-path=\"url(#clip860)\" x1=\"372.159\" y1=\"196.789\" x2=\"394.254\" y2=\"196.789\" style=\"stroke:#0000ff; stroke-width:5.12; stroke-opacity:1\"/>\n",
       "<path clip-path=\"url(#clip860)\" d=\"M486.383 201.129 Q486.383 196.43 484.438 193.768 Q482.517 191.083 479.137 191.083 Q475.758 191.083 473.813 193.768 Q471.892 196.43 471.892 201.129 Q471.892 205.828 473.813 208.513 Q475.758 211.175 479.137 211.175 Q482.517 211.175 484.438 208.513 Q486.383 205.828 486.383 201.129 M471.892 192.078 Q473.235 189.763 475.272 188.652 Q477.332 187.518 480.179 187.518 Q484.901 187.518 487.841 191.268 Q490.804 195.018 490.804 201.129 Q490.804 207.24 487.841 210.99 Q484.901 214.74 480.179 214.74 Q477.332 214.74 475.272 213.629 Q473.235 212.495 471.892 210.18 L471.892 214.069 L467.61 214.069 L467.61 178.05 L471.892 178.05 L471.892 192.078 Z\" fill=\"#000000\" fill-rule=\"evenodd\" fill-opacity=\"1\" /><path clip-path=\"url(#clip860)\" d=\"M497.864 188.143 L502.123 188.143 L502.123 214.069 L497.864 214.069 L497.864 188.143 M497.864 178.05 L502.123 178.05 L502.123 183.444 L497.864 183.444 L497.864 178.05 Z\" fill=\"#000000\" fill-rule=\"evenodd\" fill-opacity=\"1\" /><path clip-path=\"url(#clip860)\" d=\"M528.095 200.805 Q528.095 196.175 526.174 193.629 Q524.276 191.083 520.827 191.083 Q517.401 191.083 515.48 193.629 Q513.582 196.175 513.582 200.805 Q513.582 205.411 515.48 207.958 Q517.401 210.504 520.827 210.504 Q524.276 210.504 526.174 207.958 Q528.095 205.411 528.095 200.805 M532.355 210.851 Q532.355 217.471 529.415 220.689 Q526.475 223.93 520.41 223.93 Q518.165 223.93 516.174 223.582 Q514.184 223.258 512.309 222.564 L512.309 218.42 Q514.184 219.439 516.012 219.925 Q517.841 220.411 519.739 220.411 Q523.929 220.411 526.012 218.212 Q528.095 216.036 528.095 211.615 L528.095 209.508 Q526.776 211.8 524.716 212.934 Q522.656 214.069 519.785 214.069 Q515.017 214.069 512.1 210.434 Q509.184 206.8 509.184 200.805 Q509.184 194.786 512.1 191.152 Q515.017 187.518 519.785 187.518 Q522.656 187.518 524.716 188.652 Q526.776 189.786 528.095 192.078 L528.095 188.143 L532.355 188.143 L532.355 210.851 Z\" fill=\"#000000\" fill-rule=\"evenodd\" fill-opacity=\"1\" /><path clip-path=\"url(#clip860)\" d=\"M538.975 199.184 L551.452 199.184 L551.452 202.981 L538.975 202.981 L538.975 199.184 Z\" fill=\"#000000\" fill-rule=\"evenodd\" fill-opacity=\"1\" /><path clip-path=\"url(#clip860)\" d=\"M558.419 179.509 L565.387 179.509 L574.206 203.027 L583.072 179.509 L590.04 179.509 L590.04 214.069 L585.479 214.069 L585.479 183.722 L576.567 207.425 L571.868 207.425 L562.956 183.722 L562.956 214.069 L558.419 214.069 L558.419 179.509 Z\" fill=\"#000000\" fill-rule=\"evenodd\" fill-opacity=\"1\" /><polyline clip-path=\"url(#clip860)\" style=\"stroke:#ff0000; stroke-linecap:round; stroke-linejoin:round; stroke-width:4; stroke-opacity:1; fill:none\" points=\"300.571,248.629 443.747,248.629 \"/>\n",
       "<path clip-path=\"url(#clip860)\" d=\"M372.159 226.534 L350.064 248.629 L372.159 270.724 L394.254 248.629 L372.159 226.534 Z\" fill=\"#ff0000\" fill-rule=\"evenodd\" fill-opacity=\"1\" stroke=\"#000000\" stroke-opacity=\"1\" stroke-width=\"5.12\"/>\n",
       "<path clip-path=\"url(#clip860)\" d=\"M487.957 244.96 Q489.554 242.089 491.776 240.724 Q493.998 239.358 497.008 239.358 Q501.059 239.358 503.258 242.205 Q505.457 245.029 505.457 250.261 L505.457 265.909 L501.174 265.909 L501.174 250.399 Q501.174 246.673 499.855 244.867 Q498.535 243.062 495.827 243.062 Q492.517 243.062 490.596 245.261 Q488.674 247.46 488.674 251.256 L488.674 265.909 L484.392 265.909 L484.392 250.399 Q484.392 246.649 483.073 244.867 Q481.753 243.062 478.999 243.062 Q475.735 243.062 473.813 245.284 Q471.892 247.483 471.892 251.256 L471.892 265.909 L467.61 265.909 L467.61 239.983 L471.892 239.983 L471.892 244.011 Q473.35 241.626 475.387 240.492 Q477.424 239.358 480.225 239.358 Q483.049 239.358 485.017 240.793 Q487.008 242.228 487.957 244.96 Z\" fill=\"#000000\" fill-rule=\"evenodd\" fill-opacity=\"1\" /><path clip-path=\"url(#clip860)\" d=\"M518.072 262.02 L518.072 275.77 L513.79 275.77 L513.79 239.983 L518.072 239.983 L518.072 243.918 Q519.415 241.603 521.452 240.492 Q523.512 239.358 526.359 239.358 Q531.082 239.358 534.021 243.108 Q536.984 246.858 536.984 252.969 Q536.984 259.08 534.021 262.83 Q531.082 266.58 526.359 266.58 Q523.512 266.58 521.452 265.469 Q519.415 264.335 518.072 262.02 M532.563 252.969 Q532.563 248.27 530.619 245.608 Q528.697 242.923 525.318 242.923 Q521.938 242.923 519.994 245.608 Q518.072 248.27 518.072 252.969 Q518.072 257.668 519.994 260.353 Q521.938 263.015 525.318 263.015 Q528.697 263.015 530.619 260.353 Q532.563 257.668 532.563 252.969 Z\" fill=\"#000000\" fill-rule=\"evenodd\" fill-opacity=\"1\" /><path clip-path=\"url(#clip860)\" d=\"M562.702 240.978 L562.702 244.96 Q560.896 243.964 559.068 243.478 Q557.262 242.969 555.41 242.969 Q551.267 242.969 548.975 245.608 Q546.683 248.224 546.683 252.969 Q546.683 257.714 548.975 260.353 Q551.267 262.969 555.41 262.969 Q557.262 262.969 559.068 262.483 Q560.896 261.973 562.702 260.978 L562.702 264.913 Q560.919 265.747 558.998 266.163 Q557.1 266.58 554.947 266.58 Q549.091 266.58 545.642 262.899 Q542.193 259.219 542.193 252.969 Q542.193 246.626 545.665 242.992 Q549.16 239.358 555.225 239.358 Q557.193 239.358 559.068 239.775 Q560.943 240.168 562.702 240.978 Z\" fill=\"#000000\" fill-rule=\"evenodd\" fill-opacity=\"1\" /><path clip-path=\"url(#clip860)\" d=\"M588.766 240.978 L588.766 244.96 Q586.961 243.964 585.132 243.478 Q583.327 242.969 581.475 242.969 Q577.331 242.969 575.04 245.608 Q572.748 248.224 572.748 252.969 Q572.748 257.714 575.04 260.353 Q577.331 262.969 581.475 262.969 Q583.327 262.969 585.132 262.483 Q586.961 261.973 588.766 260.978 L588.766 264.913 Q586.984 265.747 585.063 266.163 Q583.165 266.58 581.012 266.58 Q575.155 266.58 571.706 262.899 Q568.257 259.219 568.257 252.969 Q568.257 246.626 571.73 242.992 Q575.225 239.358 581.29 239.358 Q583.257 239.358 585.132 239.775 Q587.007 240.168 588.766 240.978 Z\" fill=\"#000000\" fill-rule=\"evenodd\" fill-opacity=\"1\" /></svg>\n"
      ]
     },
     "metadata": {},
     "output_type": "display_data"
    }
   ],
   "source": [
    "gr()\n",
    "\n",
    "p1 = plot(xlabel=\"# scenarios\", ylabel=\"sol. time [s]\",gridlinewidth=2)\n",
    "p1 = plot!(1:nScenTotal,solTimeTraj_s[1,:], linecolor=:green, marker=:circle, markercolor = :green)\n",
    "p1 = plot!(1:nScenTotal,solTimeTraj_s[2,:], linecolor=:blue, marker=:cross, markercolor = :blue)\n",
    "p1 = plot!(1:nScenTotal,solTimeTraj_s[3,:], linecolor=:red, marker=:diamond, markercolor = :red)\n",
    "p1.series_list[1][:label] = \"unc.\"\n",
    "p1.series_list[2][:label] = \"big-M\"\n",
    "p1.series_list[3][:label] = \"mpcc\"\n",
    "\n",
    "display(p1)"
   ]
  },
  {
   "cell_type": "markdown",
   "id": "766f6bbd",
   "metadata": {},
   "source": [
    "# Checking the performance of the methods in terms of time vs. nReac"
   ]
  },
  {
   "cell_type": "code",
   "execution_count": 14,
   "id": "a4235b15",
   "metadata": {},
   "outputs": [
    {
     "data": {
      "text/plain": [
       "\"simulation iteration: 1 | option 1\""
      ]
     },
     "metadata": {},
     "output_type": "display_data"
    },
    {
     "data": {
      "text/plain": [
       "\"simulation iteration: 2 | option 1\""
      ]
     },
     "metadata": {},
     "output_type": "display_data"
    },
    {
     "data": {
      "text/plain": [
       "\"simulation iteration: 3 | option 1\""
      ]
     },
     "metadata": {},
     "output_type": "display_data"
    },
    {
     "data": {
      "text/plain": [
       "\"simulation iteration: 4 | option 1\""
      ]
     },
     "metadata": {},
     "output_type": "display_data"
    },
    {
     "data": {
      "text/plain": [
       "\"simulation iteration: 5 | option 1\""
      ]
     },
     "metadata": {},
     "output_type": "display_data"
    },
    {
     "data": {
      "text/plain": [
       "\"simulation iteration: 6 | option 1\""
      ]
     },
     "metadata": {},
     "output_type": "display_data"
    },
    {
     "data": {
      "text/plain": [
       "\"simulation iteration: 7 | option 1\""
      ]
     },
     "metadata": {},
     "output_type": "display_data"
    },
    {
     "data": {
      "text/plain": [
       "\"simulation iteration: 8 | option 1\""
      ]
     },
     "metadata": {},
     "output_type": "display_data"
    },
    {
     "data": {
      "text/plain": [
       "\"simulation iteration: 9 | option 1\""
      ]
     },
     "metadata": {},
     "output_type": "display_data"
    },
    {
     "data": {
      "text/plain": [
       "\"simulation iteration: 10 | option 1\""
      ]
     },
     "metadata": {},
     "output_type": "display_data"
    },
    {
     "data": {
      "text/plain": [
       "\"simulation iteration: 11 | option 1\""
      ]
     },
     "metadata": {},
     "output_type": "display_data"
    },
    {
     "data": {
      "text/plain": [
       "\"simulation iteration: 12 | option 1\""
      ]
     },
     "metadata": {},
     "output_type": "display_data"
    },
    {
     "data": {
      "text/plain": [
       "\"simulation iteration: 13 | option 1\""
      ]
     },
     "metadata": {},
     "output_type": "display_data"
    },
    {
     "data": {
      "text/plain": [
       "\"simulation iteration: 14 | option 1\""
      ]
     },
     "metadata": {},
     "output_type": "display_data"
    },
    {
     "data": {
      "text/plain": [
       "\"simulation iteration: 15 | option 1\""
      ]
     },
     "metadata": {},
     "output_type": "display_data"
    },
    {
     "data": {
      "text/plain": [
       "\"simulation iteration: 16 | option 1\""
      ]
     },
     "metadata": {},
     "output_type": "display_data"
    },
    {
     "data": {
      "text/plain": [
       "\"simulation iteration: 17 | option 1\""
      ]
     },
     "metadata": {},
     "output_type": "display_data"
    },
    {
     "data": {
      "text/plain": [
       "\"simulation iteration: 18 | option 1\""
      ]
     },
     "metadata": {},
     "output_type": "display_data"
    },
    {
     "data": {
      "text/plain": [
       "\"simulation iteration: 19 | option 1\""
      ]
     },
     "metadata": {},
     "output_type": "display_data"
    },
    {
     "data": {
      "text/plain": [
       "\"simulation iteration: 20 | option 1\""
      ]
     },
     "metadata": {},
     "output_type": "display_data"
    },
    {
     "data": {
      "text/plain": [
       "\"simulation iteration: 21 | option 1\""
      ]
     },
     "metadata": {},
     "output_type": "display_data"
    },
    {
     "data": {
      "text/plain": [
       "\"simulation iteration: 22 | option 1\""
      ]
     },
     "metadata": {},
     "output_type": "display_data"
    },
    {
     "data": {
      "text/plain": [
       "\"simulation iteration: 23 | option 1\""
      ]
     },
     "metadata": {},
     "output_type": "display_data"
    },
    {
     "data": {
      "text/plain": [
       "\"simulation iteration: 24 | option 1\""
      ]
     },
     "metadata": {},
     "output_type": "display_data"
    },
    {
     "data": {
      "text/plain": [
       "\"simulation iteration: 25 | option 1\""
      ]
     },
     "metadata": {},
     "output_type": "display_data"
    },
    {
     "data": {
      "text/plain": [
       "\"simulation iteration: 26 | option 1\""
      ]
     },
     "metadata": {},
     "output_type": "display_data"
    },
    {
     "data": {
      "text/plain": [
       "\"simulation iteration: 27 | option 1\""
      ]
     },
     "metadata": {},
     "output_type": "display_data"
    },
    {
     "data": {
      "text/plain": [
       "\"simulation iteration: 28 | option 1\""
      ]
     },
     "metadata": {},
     "output_type": "display_data"
    },
    {
     "data": {
      "text/plain": [
       "\"simulation iteration: 29 | option 1\""
      ]
     },
     "metadata": {},
     "output_type": "display_data"
    },
    {
     "data": {
      "text/plain": [
       "\"simulation iteration: 30 | option 1\""
      ]
     },
     "metadata": {},
     "output_type": "display_data"
    },
    {
     "data": {
      "text/plain": [
       "\"simulation iteration: 31 | option 1\""
      ]
     },
     "metadata": {},
     "output_type": "display_data"
    },
    {
     "data": {
      "text/plain": [
       "\"simulation iteration: 32 | option 1\""
      ]
     },
     "metadata": {},
     "output_type": "display_data"
    },
    {
     "data": {
      "text/plain": [
       "\"simulation iteration: 33 | option 1\""
      ]
     },
     "metadata": {},
     "output_type": "display_data"
    },
    {
     "data": {
      "text/plain": [
       "\"simulation iteration: 34 | option 1\""
      ]
     },
     "metadata": {},
     "output_type": "display_data"
    },
    {
     "data": {
      "text/plain": [
       "\"simulation iteration: 35 | option 1\""
      ]
     },
     "metadata": {},
     "output_type": "display_data"
    },
    {
     "data": {
      "text/plain": [
       "\"simulation iteration: 36 | option 1\""
      ]
     },
     "metadata": {},
     "output_type": "display_data"
    },
    {
     "data": {
      "text/plain": [
       "\"simulation iteration: 37 | option 1\""
      ]
     },
     "metadata": {},
     "output_type": "display_data"
    },
    {
     "data": {
      "text/plain": [
       "\"simulation iteration: 38 | option 1\""
      ]
     },
     "metadata": {},
     "output_type": "display_data"
    },
    {
     "data": {
      "text/plain": [
       "\"simulation iteration: 39 | option 1\""
      ]
     },
     "metadata": {},
     "output_type": "display_data"
    },
    {
     "data": {
      "text/plain": [
       "\"simulation iteration: 40 | option 1\""
      ]
     },
     "metadata": {},
     "output_type": "display_data"
    },
    {
     "data": {
      "text/plain": [
       "\"simulation iteration: 41 | option 1\""
      ]
     },
     "metadata": {},
     "output_type": "display_data"
    },
    {
     "data": {
      "text/plain": [
       "\"simulation iteration: 42 | option 1\""
      ]
     },
     "metadata": {},
     "output_type": "display_data"
    },
    {
     "data": {
      "text/plain": [
       "\"simulation iteration: 43 | option 1\""
      ]
     },
     "metadata": {},
     "output_type": "display_data"
    },
    {
     "data": {
      "text/plain": [
       "\"simulation iteration: 44 | option 1\""
      ]
     },
     "metadata": {},
     "output_type": "display_data"
    },
    {
     "data": {
      "text/plain": [
       "\"simulation iteration: 45 | option 1\""
      ]
     },
     "metadata": {},
     "output_type": "display_data"
    },
    {
     "data": {
      "text/plain": [
       "\"simulation iteration: 46 | option 1\""
      ]
     },
     "metadata": {},
     "output_type": "display_data"
    },
    {
     "data": {
      "text/plain": [
       "\"simulation iteration: 47 | option 1\""
      ]
     },
     "metadata": {},
     "output_type": "display_data"
    },
    {
     "data": {
      "text/plain": [
       "\"simulation iteration: 48 | option 1\""
      ]
     },
     "metadata": {},
     "output_type": "display_data"
    },
    {
     "data": {
      "text/plain": [
       "\"simulation iteration: 49 | option 1\""
      ]
     },
     "metadata": {},
     "output_type": "display_data"
    },
    {
     "data": {
      "text/plain": [
       "\"simulation iteration: 50 | option 1\""
      ]
     },
     "metadata": {},
     "output_type": "display_data"
    },
    {
     "data": {
      "text/plain": [
       "\"simulation iteration: 1 | option 2\""
      ]
     },
     "metadata": {},
     "output_type": "display_data"
    },
    {
     "data": {
      "text/plain": [
       "\"simulation iteration: 2 | option 2\""
      ]
     },
     "metadata": {},
     "output_type": "display_data"
    },
    {
     "data": {
      "text/plain": [
       "\"simulation iteration: 3 | option 2\""
      ]
     },
     "metadata": {},
     "output_type": "display_data"
    },
    {
     "data": {
      "text/plain": [
       "\"simulation iteration: 4 | option 2\""
      ]
     },
     "metadata": {},
     "output_type": "display_data"
    },
    {
     "data": {
      "text/plain": [
       "\"simulation iteration: 5 | option 2\""
      ]
     },
     "metadata": {},
     "output_type": "display_data"
    },
    {
     "data": {
      "text/plain": [
       "\"simulation iteration: 6 | option 2\""
      ]
     },
     "metadata": {},
     "output_type": "display_data"
    },
    {
     "data": {
      "text/plain": [
       "\"simulation iteration: 7 | option 2\""
      ]
     },
     "metadata": {},
     "output_type": "display_data"
    },
    {
     "data": {
      "text/plain": [
       "\"simulation iteration: 8 | option 2\""
      ]
     },
     "metadata": {},
     "output_type": "display_data"
    },
    {
     "data": {
      "text/plain": [
       "\"simulation iteration: 9 | option 2\""
      ]
     },
     "metadata": {},
     "output_type": "display_data"
    },
    {
     "data": {
      "text/plain": [
       "\"simulation iteration: 10 | option 2\""
      ]
     },
     "metadata": {},
     "output_type": "display_data"
    },
    {
     "data": {
      "text/plain": [
       "\"simulation iteration: 11 | option 2\""
      ]
     },
     "metadata": {},
     "output_type": "display_data"
    },
    {
     "data": {
      "text/plain": [
       "\"simulation iteration: 12 | option 2\""
      ]
     },
     "metadata": {},
     "output_type": "display_data"
    },
    {
     "data": {
      "text/plain": [
       "\"simulation iteration: 13 | option 2\""
      ]
     },
     "metadata": {},
     "output_type": "display_data"
    },
    {
     "data": {
      "text/plain": [
       "\"simulation iteration: 14 | option 2\""
      ]
     },
     "metadata": {},
     "output_type": "display_data"
    },
    {
     "data": {
      "text/plain": [
       "\"simulation iteration: 15 | option 2\""
      ]
     },
     "metadata": {},
     "output_type": "display_data"
    },
    {
     "data": {
      "text/plain": [
       "\"simulation iteration: 16 | option 2\""
      ]
     },
     "metadata": {},
     "output_type": "display_data"
    },
    {
     "data": {
      "text/plain": [
       "\"simulation iteration: 17 | option 2\""
      ]
     },
     "metadata": {},
     "output_type": "display_data"
    },
    {
     "data": {
      "text/plain": [
       "\"simulation iteration: 18 | option 2\""
      ]
     },
     "metadata": {},
     "output_type": "display_data"
    },
    {
     "data": {
      "text/plain": [
       "\"simulation iteration: 19 | option 2\""
      ]
     },
     "metadata": {},
     "output_type": "display_data"
    },
    {
     "data": {
      "text/plain": [
       "\"simulation iteration: 20 | option 2\""
      ]
     },
     "metadata": {},
     "output_type": "display_data"
    },
    {
     "data": {
      "text/plain": [
       "\"simulation iteration: 21 | option 2\""
      ]
     },
     "metadata": {},
     "output_type": "display_data"
    },
    {
     "data": {
      "text/plain": [
       "\"simulation iteration: 22 | option 2\""
      ]
     },
     "metadata": {},
     "output_type": "display_data"
    },
    {
     "data": {
      "text/plain": [
       "\"simulation iteration: 23 | option 2\""
      ]
     },
     "metadata": {},
     "output_type": "display_data"
    },
    {
     "data": {
      "text/plain": [
       "\"simulation iteration: 24 | option 2\""
      ]
     },
     "metadata": {},
     "output_type": "display_data"
    },
    {
     "data": {
      "text/plain": [
       "\"simulation iteration: 25 | option 2\""
      ]
     },
     "metadata": {},
     "output_type": "display_data"
    },
    {
     "data": {
      "text/plain": [
       "\"simulation iteration: 26 | option 2\""
      ]
     },
     "metadata": {},
     "output_type": "display_data"
    },
    {
     "data": {
      "text/plain": [
       "\"simulation iteration: 27 | option 2\""
      ]
     },
     "metadata": {},
     "output_type": "display_data"
    },
    {
     "data": {
      "text/plain": [
       "\"simulation iteration: 28 | option 2\""
      ]
     },
     "metadata": {},
     "output_type": "display_data"
    },
    {
     "data": {
      "text/plain": [
       "\"simulation iteration: 29 | option 2\""
      ]
     },
     "metadata": {},
     "output_type": "display_data"
    },
    {
     "data": {
      "text/plain": [
       "\"simulation iteration: 30 | option 2\""
      ]
     },
     "metadata": {},
     "output_type": "display_data"
    },
    {
     "data": {
      "text/plain": [
       "\"simulation iteration: 31 | option 2\""
      ]
     },
     "metadata": {},
     "output_type": "display_data"
    },
    {
     "data": {
      "text/plain": [
       "\"simulation iteration: 32 | option 2\""
      ]
     },
     "metadata": {},
     "output_type": "display_data"
    },
    {
     "data": {
      "text/plain": [
       "\"simulation iteration: 33 | option 2\""
      ]
     },
     "metadata": {},
     "output_type": "display_data"
    },
    {
     "data": {
      "text/plain": [
       "\"simulation iteration: 34 | option 2\""
      ]
     },
     "metadata": {},
     "output_type": "display_data"
    },
    {
     "data": {
      "text/plain": [
       "\"simulation iteration: 35 | option 2\""
      ]
     },
     "metadata": {},
     "output_type": "display_data"
    },
    {
     "data": {
      "text/plain": [
       "\"simulation iteration: 36 | option 2\""
      ]
     },
     "metadata": {},
     "output_type": "display_data"
    },
    {
     "data": {
      "text/plain": [
       "\"simulation iteration: 37 | option 2\""
      ]
     },
     "metadata": {},
     "output_type": "display_data"
    },
    {
     "data": {
      "text/plain": [
       "\"simulation iteration: 38 | option 2\""
      ]
     },
     "metadata": {},
     "output_type": "display_data"
    },
    {
     "data": {
      "text/plain": [
       "\"simulation iteration: 39 | option 2\""
      ]
     },
     "metadata": {},
     "output_type": "display_data"
    },
    {
     "data": {
      "text/plain": [
       "\"simulation iteration: 40 | option 2\""
      ]
     },
     "metadata": {},
     "output_type": "display_data"
    },
    {
     "data": {
      "text/plain": [
       "\"simulation iteration: 41 | option 2\""
      ]
     },
     "metadata": {},
     "output_type": "display_data"
    },
    {
     "data": {
      "text/plain": [
       "\"simulation iteration: 42 | option 2\""
      ]
     },
     "metadata": {},
     "output_type": "display_data"
    },
    {
     "data": {
      "text/plain": [
       "\"simulation iteration: 43 | option 2\""
      ]
     },
     "metadata": {},
     "output_type": "display_data"
    },
    {
     "data": {
      "text/plain": [
       "\"simulation iteration: 44 | option 2\""
      ]
     },
     "metadata": {},
     "output_type": "display_data"
    },
    {
     "data": {
      "text/plain": [
       "\"simulation iteration: 45 | option 2\""
      ]
     },
     "metadata": {},
     "output_type": "display_data"
    },
    {
     "data": {
      "text/plain": [
       "\"simulation iteration: 46 | option 2\""
      ]
     },
     "metadata": {},
     "output_type": "display_data"
    },
    {
     "data": {
      "text/plain": [
       "\"simulation iteration: 47 | option 2\""
      ]
     },
     "metadata": {},
     "output_type": "display_data"
    },
    {
     "data": {
      "text/plain": [
       "\"simulation iteration: 48 | option 2\""
      ]
     },
     "metadata": {},
     "output_type": "display_data"
    },
    {
     "data": {
      "text/plain": [
       "\"simulation iteration: 49 | option 2\""
      ]
     },
     "metadata": {},
     "output_type": "display_data"
    },
    {
     "data": {
      "text/plain": [
       "\"simulation iteration: 50 | option 2\""
      ]
     },
     "metadata": {},
     "output_type": "display_data"
    },
    {
     "data": {
      "text/plain": [
       "\"simulation iteration: 1 | option 3\""
      ]
     },
     "metadata": {},
     "output_type": "display_data"
    },
    {
     "data": {
      "text/plain": [
       "\"simulation iteration: 2 | option 3\""
      ]
     },
     "metadata": {},
     "output_type": "display_data"
    },
    {
     "data": {
      "text/plain": [
       "\"simulation iteration: 3 | option 3\""
      ]
     },
     "metadata": {},
     "output_type": "display_data"
    },
    {
     "data": {
      "text/plain": [
       "\"simulation iteration: 4 | option 3\""
      ]
     },
     "metadata": {},
     "output_type": "display_data"
    },
    {
     "data": {
      "text/plain": [
       "\"simulation iteration: 5 | option 3\""
      ]
     },
     "metadata": {},
     "output_type": "display_data"
    },
    {
     "data": {
      "text/plain": [
       "\"simulation iteration: 6 | option 3\""
      ]
     },
     "metadata": {},
     "output_type": "display_data"
    },
    {
     "data": {
      "text/plain": [
       "\"simulation iteration: 7 | option 3\""
      ]
     },
     "metadata": {},
     "output_type": "display_data"
    },
    {
     "data": {
      "text/plain": [
       "\"simulation iteration: 8 | option 3\""
      ]
     },
     "metadata": {},
     "output_type": "display_data"
    },
    {
     "data": {
      "text/plain": [
       "\"simulation iteration: 9 | option 3\""
      ]
     },
     "metadata": {},
     "output_type": "display_data"
    },
    {
     "data": {
      "text/plain": [
       "\"simulation iteration: 10 | option 3\""
      ]
     },
     "metadata": {},
     "output_type": "display_data"
    },
    {
     "data": {
      "text/plain": [
       "\"simulation iteration: 11 | option 3\""
      ]
     },
     "metadata": {},
     "output_type": "display_data"
    },
    {
     "data": {
      "text/plain": [
       "\"simulation iteration: 12 | option 3\""
      ]
     },
     "metadata": {},
     "output_type": "display_data"
    },
    {
     "data": {
      "text/plain": [
       "\"simulation iteration: 13 | option 3\""
      ]
     },
     "metadata": {},
     "output_type": "display_data"
    },
    {
     "data": {
      "text/plain": [
       "\"simulation iteration: 14 | option 3\""
      ]
     },
     "metadata": {},
     "output_type": "display_data"
    },
    {
     "data": {
      "text/plain": [
       "\"simulation iteration: 15 | option 3\""
      ]
     },
     "metadata": {},
     "output_type": "display_data"
    },
    {
     "data": {
      "text/plain": [
       "\"simulation iteration: 16 | option 3\""
      ]
     },
     "metadata": {},
     "output_type": "display_data"
    },
    {
     "data": {
      "text/plain": [
       "\"simulation iteration: 17 | option 3\""
      ]
     },
     "metadata": {},
     "output_type": "display_data"
    },
    {
     "data": {
      "text/plain": [
       "\"simulation iteration: 18 | option 3\""
      ]
     },
     "metadata": {},
     "output_type": "display_data"
    },
    {
     "data": {
      "text/plain": [
       "\"simulation iteration: 19 | option 3\""
      ]
     },
     "metadata": {},
     "output_type": "display_data"
    },
    {
     "data": {
      "text/plain": [
       "\"simulation iteration: 20 | option 3\""
      ]
     },
     "metadata": {},
     "output_type": "display_data"
    },
    {
     "data": {
      "text/plain": [
       "\"simulation iteration: 21 | option 3\""
      ]
     },
     "metadata": {},
     "output_type": "display_data"
    },
    {
     "data": {
      "text/plain": [
       "\"simulation iteration: 22 | option 3\""
      ]
     },
     "metadata": {},
     "output_type": "display_data"
    },
    {
     "data": {
      "text/plain": [
       "\"simulation iteration: 23 | option 3\""
      ]
     },
     "metadata": {},
     "output_type": "display_data"
    },
    {
     "data": {
      "text/plain": [
       "\"simulation iteration: 24 | option 3\""
      ]
     },
     "metadata": {},
     "output_type": "display_data"
    },
    {
     "data": {
      "text/plain": [
       "\"simulation iteration: 25 | option 3\""
      ]
     },
     "metadata": {},
     "output_type": "display_data"
    },
    {
     "data": {
      "text/plain": [
       "\"simulation iteration: 26 | option 3\""
      ]
     },
     "metadata": {},
     "output_type": "display_data"
    },
    {
     "data": {
      "text/plain": [
       "\"simulation iteration: 27 | option 3\""
      ]
     },
     "metadata": {},
     "output_type": "display_data"
    },
    {
     "data": {
      "text/plain": [
       "\"simulation iteration: 28 | option 3\""
      ]
     },
     "metadata": {},
     "output_type": "display_data"
    },
    {
     "data": {
      "text/plain": [
       "\"simulation iteration: 29 | option 3\""
      ]
     },
     "metadata": {},
     "output_type": "display_data"
    },
    {
     "data": {
      "text/plain": [
       "\"simulation iteration: 30 | option 3\""
      ]
     },
     "metadata": {},
     "output_type": "display_data"
    },
    {
     "data": {
      "text/plain": [
       "\"simulation iteration: 31 | option 3\""
      ]
     },
     "metadata": {},
     "output_type": "display_data"
    },
    {
     "data": {
      "text/plain": [
       "\"simulation iteration: 32 | option 3\""
      ]
     },
     "metadata": {},
     "output_type": "display_data"
    },
    {
     "data": {
      "text/plain": [
       "\"simulation iteration: 33 | option 3\""
      ]
     },
     "metadata": {},
     "output_type": "display_data"
    },
    {
     "data": {
      "text/plain": [
       "\"simulation iteration: 34 | option 3\""
      ]
     },
     "metadata": {},
     "output_type": "display_data"
    },
    {
     "data": {
      "text/plain": [
       "\"simulation iteration: 35 | option 3\""
      ]
     },
     "metadata": {},
     "output_type": "display_data"
    },
    {
     "data": {
      "text/plain": [
       "\"simulation iteration: 36 | option 3\""
      ]
     },
     "metadata": {},
     "output_type": "display_data"
    },
    {
     "data": {
      "text/plain": [
       "\"simulation iteration: 37 | option 3\""
      ]
     },
     "metadata": {},
     "output_type": "display_data"
    },
    {
     "data": {
      "text/plain": [
       "\"simulation iteration: 38 | option 3\""
      ]
     },
     "metadata": {},
     "output_type": "display_data"
    },
    {
     "data": {
      "text/plain": [
       "\"simulation iteration: 39 | option 3\""
      ]
     },
     "metadata": {},
     "output_type": "display_data"
    },
    {
     "data": {
      "text/plain": [
       "\"simulation iteration: 40 | option 3\""
      ]
     },
     "metadata": {},
     "output_type": "display_data"
    },
    {
     "data": {
      "text/plain": [
       "\"simulation iteration: 41 | option 3\""
      ]
     },
     "metadata": {},
     "output_type": "display_data"
    },
    {
     "data": {
      "text/plain": [
       "\"simulation iteration: 42 | option 3\""
      ]
     },
     "metadata": {},
     "output_type": "display_data"
    },
    {
     "data": {
      "text/plain": [
       "\"simulation iteration: 43 | option 3\""
      ]
     },
     "metadata": {},
     "output_type": "display_data"
    },
    {
     "data": {
      "text/plain": [
       "\"simulation iteration: 44 | option 3\""
      ]
     },
     "metadata": {},
     "output_type": "display_data"
    },
    {
     "data": {
      "text/plain": [
       "\"simulation iteration: 45 | option 3\""
      ]
     },
     "metadata": {},
     "output_type": "display_data"
    },
    {
     "data": {
      "text/plain": [
       "\"simulation iteration: 46 | option 3\""
      ]
     },
     "metadata": {},
     "output_type": "display_data"
    },
    {
     "data": {
      "text/plain": [
       "\"simulation iteration: 47 | option 3\""
      ]
     },
     "metadata": {},
     "output_type": "display_data"
    },
    {
     "data": {
      "text/plain": [
       "\"simulation iteration: 48 | option 3\""
      ]
     },
     "metadata": {},
     "output_type": "display_data"
    },
    {
     "data": {
      "text/plain": [
       "\"simulation iteration: 49 | option 3\""
      ]
     },
     "metadata": {},
     "output_type": "display_data"
    },
    {
     "data": {
      "text/plain": [
       "\"simulation iteration: 50 | option 3\""
      ]
     },
     "metadata": {},
     "output_type": "display_data"
    }
   ],
   "source": [
    "nReactTotal = 50 # 15 | 50\n",
    "\n",
    "# preparing plot \n",
    "solTimeTraj_r = Matrix{Float64}(undef,3,nReactTotal) \n",
    "\n",
    "#option = 1 # : Unconstrained MPC\n",
    "#option = 2 # : Constrained MPC with binaries\n",
    "#option = 3 # : Constrained MPC with MPCC\n",
    "\n",
    "# number of reactors in parallel\n",
    "nScenarios = 1\n",
    "#equiprobable scenarios\n",
    "pScenarios = 1.0/nScenarios;\n",
    "\n",
    "for opti in 1:3\n",
    "    # dummy for initialization\n",
    "    sol_m_Dict = 0;\n",
    "    \n",
    "    for rr in 1:nScenTotal\n",
    "        display(\"simulation iteration: $(rr) | option $(opti)\")\n",
    "        \n",
    "        #number os reactors\n",
    "        nReac = rr\n",
    "        # Number of states\n",
    "        nx = 2*nReac;\n",
    "\n",
    "        # Initial conditions (deviation form)\n",
    "        xInit_0 = repeat([0.3583;0.6418] .- x0, outer = [nReac,1]);\n",
    "        uInit_0 = 1.0 - u0;\n",
    "        \n",
    "        # solving monolithical problem \n",
    "        sol_m_Dict = MS_CLDRTO(xInit_0,uInit_0,nReac,nScenarios,pScenarios,solNominal,opti)\n",
    "\n",
    "        # saving values for plotting if problem was solved\n",
    "        # output being a dictionary controls if the solver has converged or not \n",
    "        if sol_m_Dict isa Dict\n",
    "            solTimeTraj_r[opti,rr] = sol_m_Dict['t']\n",
    "        else\n",
    "            solTimeTraj_r[opti,rr] = NaN\n",
    "        end\n",
    "        \n",
    "    end\n",
    "end\n"
   ]
  },
  {
   "cell_type": "code",
   "execution_count": 15,
   "id": "3233be5f",
   "metadata": {},
   "outputs": [
    {
     "data": {
      "image/svg+xml": [
       "<?xml version=\"1.0\" encoding=\"utf-8\"?>\n",
       "<svg xmlns=\"http://www.w3.org/2000/svg\" xmlns:xlink=\"http://www.w3.org/1999/xlink\" width=\"600\" height=\"400\" viewBox=\"0 0 2400 1600\">\n",
       "<defs>\n",
       "  <clipPath id=\"clip900\">\n",
       "    <rect x=\"0\" y=\"0\" width=\"2400\" height=\"1600\"/>\n",
       "  </clipPath>\n",
       "</defs>\n",
       "<path clip-path=\"url(#clip900)\" d=\"M0 1600 L2400 1600 L2400 0 L0 0  Z\" fill=\"#ffffff\" fill-rule=\"evenodd\" fill-opacity=\"1\"/>\n",
       "<defs>\n",
       "  <clipPath id=\"clip901\">\n",
       "    <rect x=\"480\" y=\"0\" width=\"1681\" height=\"1600\"/>\n",
       "  </clipPath>\n",
       "</defs>\n",
       "<path clip-path=\"url(#clip900)\" d=\"M219.38 1423.18 L2352.76 1423.18 L2352.76 47.2441 L219.38 47.2441  Z\" fill=\"#ffffff\" fill-rule=\"evenodd\" fill-opacity=\"1\"/>\n",
       "<defs>\n",
       "  <clipPath id=\"clip902\">\n",
       "    <rect x=\"219\" y=\"47\" width=\"2134\" height=\"1377\"/>\n",
       "  </clipPath>\n",
       "</defs>\n",
       "<polyline clip-path=\"url(#clip902)\" style=\"stroke:#000000; stroke-linecap:round; stroke-linejoin:round; stroke-width:8; stroke-opacity:0.1; fill:none\" points=\"238.685,1423.18 238.685,47.2441 \"/>\n",
       "<polyline clip-path=\"url(#clip902)\" style=\"stroke:#000000; stroke-linecap:round; stroke-linejoin:round; stroke-width:8; stroke-opacity:0.1; fill:none\" points=\"649.423,1423.18 649.423,47.2441 \"/>\n",
       "<polyline clip-path=\"url(#clip902)\" style=\"stroke:#000000; stroke-linecap:round; stroke-linejoin:round; stroke-width:8; stroke-opacity:0.1; fill:none\" points=\"1060.16,1423.18 1060.16,47.2441 \"/>\n",
       "<polyline clip-path=\"url(#clip902)\" style=\"stroke:#000000; stroke-linecap:round; stroke-linejoin:round; stroke-width:8; stroke-opacity:0.1; fill:none\" points=\"1470.9,1423.18 1470.9,47.2441 \"/>\n",
       "<polyline clip-path=\"url(#clip902)\" style=\"stroke:#000000; stroke-linecap:round; stroke-linejoin:round; stroke-width:8; stroke-opacity:0.1; fill:none\" points=\"1881.64,1423.18 1881.64,47.2441 \"/>\n",
       "<polyline clip-path=\"url(#clip902)\" style=\"stroke:#000000; stroke-linecap:round; stroke-linejoin:round; stroke-width:8; stroke-opacity:0.1; fill:none\" points=\"2292.38,1423.18 2292.38,47.2441 \"/>\n",
       "<polyline clip-path=\"url(#clip900)\" style=\"stroke:#000000; stroke-linecap:round; stroke-linejoin:round; stroke-width:4; stroke-opacity:1; fill:none\" points=\"219.38,1423.18 2352.76,1423.18 \"/>\n",
       "<polyline clip-path=\"url(#clip900)\" style=\"stroke:#000000; stroke-linecap:round; stroke-linejoin:round; stroke-width:4; stroke-opacity:1; fill:none\" points=\"238.685,1423.18 238.685,1404.28 \"/>\n",
       "<polyline clip-path=\"url(#clip900)\" style=\"stroke:#000000; stroke-linecap:round; stroke-linejoin:round; stroke-width:4; stroke-opacity:1; fill:none\" points=\"649.423,1423.18 649.423,1404.28 \"/>\n",
       "<polyline clip-path=\"url(#clip900)\" style=\"stroke:#000000; stroke-linecap:round; stroke-linejoin:round; stroke-width:4; stroke-opacity:1; fill:none\" points=\"1060.16,1423.18 1060.16,1404.28 \"/>\n",
       "<polyline clip-path=\"url(#clip900)\" style=\"stroke:#000000; stroke-linecap:round; stroke-linejoin:round; stroke-width:4; stroke-opacity:1; fill:none\" points=\"1470.9,1423.18 1470.9,1404.28 \"/>\n",
       "<polyline clip-path=\"url(#clip900)\" style=\"stroke:#000000; stroke-linecap:round; stroke-linejoin:round; stroke-width:4; stroke-opacity:1; fill:none\" points=\"1881.64,1423.18 1881.64,1404.28 \"/>\n",
       "<polyline clip-path=\"url(#clip900)\" style=\"stroke:#000000; stroke-linecap:round; stroke-linejoin:round; stroke-width:4; stroke-opacity:1; fill:none\" points=\"2292.38,1423.18 2292.38,1404.28 \"/>\n",
       "<path clip-path=\"url(#clip900)\" d=\"M238.685 1454.1 Q235.074 1454.1 233.245 1457.66 Q231.44 1461.2 231.44 1468.33 Q231.44 1475.44 233.245 1479.01 Q235.074 1482.55 238.685 1482.55 Q242.319 1482.55 244.125 1479.01 Q245.953 1475.44 245.953 1468.33 Q245.953 1461.2 244.125 1457.66 Q242.319 1454.1 238.685 1454.1 M238.685 1450.39 Q244.495 1450.39 247.551 1455 Q250.629 1459.58 250.629 1468.33 Q250.629 1477.06 247.551 1481.67 Q244.495 1486.25 238.685 1486.25 Q232.875 1486.25 229.796 1481.67 Q226.74 1477.06 226.74 1468.33 Q226.74 1459.58 229.796 1455 Q232.875 1450.39 238.685 1450.39 Z\" fill=\"#000000\" fill-rule=\"evenodd\" fill-opacity=\"1\" /><path clip-path=\"url(#clip900)\" d=\"M624.111 1481.64 L631.75 1481.64 L631.75 1455.28 L623.44 1456.95 L623.44 1452.69 L631.704 1451.02 L636.379 1451.02 L636.379 1481.64 L644.018 1481.64 L644.018 1485.58 L624.111 1485.58 L624.111 1481.64 Z\" fill=\"#000000\" fill-rule=\"evenodd\" fill-opacity=\"1\" /><path clip-path=\"url(#clip900)\" d=\"M663.463 1454.1 Q659.852 1454.1 658.023 1457.66 Q656.217 1461.2 656.217 1468.33 Q656.217 1475.44 658.023 1479.01 Q659.852 1482.55 663.463 1482.55 Q667.097 1482.55 668.902 1479.01 Q670.731 1475.44 670.731 1468.33 Q670.731 1461.2 668.902 1457.66 Q667.097 1454.1 663.463 1454.1 M663.463 1450.39 Q669.273 1450.39 672.328 1455 Q675.407 1459.58 675.407 1468.33 Q675.407 1477.06 672.328 1481.67 Q669.273 1486.25 663.463 1486.25 Q657.652 1486.25 654.574 1481.67 Q651.518 1477.06 651.518 1468.33 Q651.518 1459.58 654.574 1455 Q657.652 1450.39 663.463 1450.39 Z\" fill=\"#000000\" fill-rule=\"evenodd\" fill-opacity=\"1\" /><path clip-path=\"url(#clip900)\" d=\"M1038.94 1481.64 L1055.25 1481.64 L1055.25 1485.58 L1033.31 1485.58 L1033.31 1481.64 Q1035.97 1478.89 1040.56 1474.26 Q1045.16 1469.61 1046.34 1468.27 Q1048.59 1465.74 1049.47 1464.01 Q1050.37 1462.25 1050.37 1460.56 Q1050.37 1457.8 1048.43 1456.07 Q1046.5 1454.33 1043.4 1454.33 Q1041.2 1454.33 1038.75 1455.09 Q1036.32 1455.86 1033.54 1457.41 L1033.54 1452.69 Q1036.37 1451.55 1038.82 1450.97 Q1041.27 1450.39 1043.31 1450.39 Q1048.68 1450.39 1051.87 1453.08 Q1055.07 1455.77 1055.07 1460.26 Q1055.07 1462.39 1054.26 1464.31 Q1053.47 1466.2 1051.37 1468.8 Q1050.79 1469.47 1047.69 1472.69 Q1044.58 1475.88 1038.94 1481.64 Z\" fill=\"#000000\" fill-rule=\"evenodd\" fill-opacity=\"1\" /><path clip-path=\"url(#clip900)\" d=\"M1075.07 1454.1 Q1071.46 1454.1 1069.63 1457.66 Q1067.82 1461.2 1067.82 1468.33 Q1067.82 1475.44 1069.63 1479.01 Q1071.46 1482.55 1075.07 1482.55 Q1078.7 1482.55 1080.51 1479.01 Q1082.34 1475.44 1082.34 1468.33 Q1082.34 1461.2 1080.51 1457.66 Q1078.7 1454.1 1075.07 1454.1 M1075.07 1450.39 Q1080.88 1450.39 1083.93 1455 Q1087.01 1459.58 1087.01 1468.33 Q1087.01 1477.06 1083.93 1481.67 Q1080.88 1486.25 1075.07 1486.25 Q1069.26 1486.25 1066.18 1481.67 Q1063.12 1477.06 1063.12 1468.33 Q1063.12 1459.58 1066.18 1455 Q1069.26 1450.39 1075.07 1450.39 Z\" fill=\"#000000\" fill-rule=\"evenodd\" fill-opacity=\"1\" /><path clip-path=\"url(#clip900)\" d=\"M1459.74 1466.95 Q1463.1 1467.66 1464.97 1469.93 Q1466.87 1472.2 1466.87 1475.53 Q1466.87 1480.65 1463.35 1483.45 Q1459.84 1486.25 1453.35 1486.25 Q1451.18 1486.25 1448.86 1485.81 Q1446.57 1485.39 1444.12 1484.54 L1444.12 1480.02 Q1446.06 1481.16 1448.38 1481.74 Q1450.69 1482.32 1453.22 1482.32 Q1457.61 1482.32 1459.91 1480.58 Q1462.22 1478.84 1462.22 1475.53 Q1462.22 1472.48 1460.07 1470.77 Q1457.94 1469.03 1454.12 1469.03 L1450.09 1469.03 L1450.09 1465.19 L1454.3 1465.19 Q1457.75 1465.19 1459.58 1463.82 Q1461.41 1462.43 1461.41 1459.84 Q1461.41 1457.18 1459.51 1455.77 Q1457.64 1454.33 1454.12 1454.33 Q1452.2 1454.33 1450 1454.75 Q1447.8 1455.16 1445.16 1456.04 L1445.16 1451.88 Q1447.82 1451.14 1450.14 1450.77 Q1452.47 1450.39 1454.53 1450.39 Q1459.86 1450.39 1462.96 1452.83 Q1466.06 1455.23 1466.06 1459.35 Q1466.06 1462.22 1464.42 1464.21 Q1462.78 1466.18 1459.74 1466.95 Z\" fill=\"#000000\" fill-rule=\"evenodd\" fill-opacity=\"1\" /><path clip-path=\"url(#clip900)\" d=\"M1485.74 1454.1 Q1482.13 1454.1 1480.3 1457.66 Q1478.49 1461.2 1478.49 1468.33 Q1478.49 1475.44 1480.3 1479.01 Q1482.13 1482.55 1485.74 1482.55 Q1489.37 1482.55 1491.18 1479.01 Q1493.01 1475.44 1493.01 1468.33 Q1493.01 1461.2 1491.18 1457.66 Q1489.37 1454.1 1485.74 1454.1 M1485.74 1450.39 Q1491.55 1450.39 1494.6 1455 Q1497.68 1459.58 1497.68 1468.33 Q1497.68 1477.06 1494.6 1481.67 Q1491.55 1486.25 1485.74 1486.25 Q1479.93 1486.25 1476.85 1481.67 Q1473.79 1477.06 1473.79 1468.33 Q1473.79 1459.58 1476.85 1455 Q1479.93 1450.39 1485.74 1450.39 Z\" fill=\"#000000\" fill-rule=\"evenodd\" fill-opacity=\"1\" /><path clip-path=\"url(#clip900)\" d=\"M1869.81 1455.09 L1858 1473.54 L1869.81 1473.54 L1869.81 1455.09 M1868.58 1451.02 L1874.46 1451.02 L1874.46 1473.54 L1879.39 1473.54 L1879.39 1477.43 L1874.46 1477.43 L1874.46 1485.58 L1869.81 1485.58 L1869.81 1477.43 L1854.21 1477.43 L1854.21 1472.92 L1868.58 1451.02 Z\" fill=\"#000000\" fill-rule=\"evenodd\" fill-opacity=\"1\" /><path clip-path=\"url(#clip900)\" d=\"M1897.12 1454.1 Q1893.51 1454.1 1891.69 1457.66 Q1889.88 1461.2 1889.88 1468.33 Q1889.88 1475.44 1891.69 1479.01 Q1893.51 1482.55 1897.12 1482.55 Q1900.76 1482.55 1902.56 1479.01 Q1904.39 1475.44 1904.39 1468.33 Q1904.39 1461.2 1902.56 1457.66 Q1900.76 1454.1 1897.12 1454.1 M1897.12 1450.39 Q1902.94 1450.39 1905.99 1455 Q1909.07 1459.58 1909.07 1468.33 Q1909.07 1477.06 1905.99 1481.67 Q1902.94 1486.25 1897.12 1486.25 Q1891.31 1486.25 1888.24 1481.67 Q1885.18 1477.06 1885.18 1468.33 Q1885.18 1459.58 1888.24 1455 Q1891.31 1450.39 1897.12 1450.39 Z\" fill=\"#000000\" fill-rule=\"evenodd\" fill-opacity=\"1\" /><path clip-path=\"url(#clip900)\" d=\"M2267.08 1451.02 L2285.43 1451.02 L2285.43 1454.96 L2271.36 1454.96 L2271.36 1463.43 Q2272.38 1463.08 2273.4 1462.92 Q2274.41 1462.73 2275.43 1462.73 Q2281.22 1462.73 2284.6 1465.9 Q2287.98 1469.08 2287.98 1474.49 Q2287.98 1480.07 2284.51 1483.17 Q2281.03 1486.25 2274.72 1486.25 Q2272.54 1486.25 2270.27 1485.88 Q2268.03 1485.51 2265.62 1484.77 L2265.62 1480.07 Q2267.7 1481.2 2269.92 1481.76 Q2272.15 1482.32 2274.62 1482.32 Q2278.63 1482.32 2280.97 1480.21 Q2283.3 1478.1 2283.3 1474.49 Q2283.3 1470.88 2280.97 1468.77 Q2278.63 1466.67 2274.62 1466.67 Q2272.75 1466.67 2270.87 1467.08 Q2269.02 1467.5 2267.08 1468.38 L2267.08 1451.02 Z\" fill=\"#000000\" fill-rule=\"evenodd\" fill-opacity=\"1\" /><path clip-path=\"url(#clip900)\" d=\"M2307.19 1454.1 Q2303.58 1454.1 2301.75 1457.66 Q2299.95 1461.2 2299.95 1468.33 Q2299.95 1475.44 2301.75 1479.01 Q2303.58 1482.55 2307.19 1482.55 Q2310.83 1482.55 2312.63 1479.01 Q2314.46 1475.44 2314.46 1468.33 Q2314.46 1461.2 2312.63 1457.66 Q2310.83 1454.1 2307.19 1454.1 M2307.19 1450.39 Q2313 1450.39 2316.06 1455 Q2319.14 1459.58 2319.14 1468.33 Q2319.14 1477.06 2316.06 1481.67 Q2313 1486.25 2307.19 1486.25 Q2301.38 1486.25 2298.3 1481.67 Q2295.25 1477.06 2295.25 1468.33 Q2295.25 1459.58 2298.3 1455 Q2301.38 1450.39 2307.19 1450.39 Z\" fill=\"#000000\" fill-rule=\"evenodd\" fill-opacity=\"1\" /><path clip-path=\"url(#clip900)\" d=\"M1147.07 1539.37 L1137.81 1539.37 L1135.14 1550 L1144.46 1550 L1147.07 1539.37 M1142.3 1521.26 L1138.99 1534.46 L1148.28 1534.46 L1151.62 1521.26 L1156.72 1521.26 L1153.44 1534.46 L1163.37 1534.46 L1163.37 1539.37 L1152.2 1539.37 L1149.59 1550 L1159.71 1550 L1159.71 1554.87 L1148.35 1554.87 L1145.04 1568.04 L1139.94 1568.04 L1143.22 1554.87 L1133.9 1554.87 L1130.62 1568.04 L1125.49 1568.04 L1128.8 1554.87 L1118.78 1554.87 L1118.78 1550 L1129.98 1550 L1132.65 1539.37 L1122.41 1539.37 L1122.41 1534.46 L1133.9 1534.46 L1137.14 1521.26 L1142.3 1521.26 Z\" fill=\"#000000\" fill-rule=\"evenodd\" fill-opacity=\"1\" /><path clip-path=\"url(#clip900)\" d=\"M1215.89 1537.87 Q1214.9 1537.3 1213.72 1537.04 Q1212.58 1536.76 1211.18 1536.76 Q1206.21 1536.76 1203.54 1540 Q1200.89 1543.22 1200.89 1549.27 L1200.89 1568.04 L1195.01 1568.04 L1195.01 1532.4 L1200.89 1532.4 L1200.89 1537.93 Q1202.74 1534.69 1205.7 1533.13 Q1208.66 1531.54 1212.89 1531.54 Q1213.5 1531.54 1214.23 1531.63 Q1214.96 1531.7 1215.85 1531.85 L1215.89 1537.87 Z\" fill=\"#000000\" fill-rule=\"evenodd\" fill-opacity=\"1\" /><path clip-path=\"url(#clip900)\" d=\"M1251.09 1548.76 L1251.09 1551.62 L1224.16 1551.62 Q1224.54 1557.67 1227.79 1560.85 Q1231.07 1564 1236.89 1564 Q1240.27 1564 1243.42 1563.17 Q1246.6 1562.35 1249.72 1560.69 L1249.72 1566.23 Q1246.57 1567.57 1243.26 1568.27 Q1239.95 1568.97 1236.54 1568.97 Q1228.01 1568.97 1223.02 1564 Q1218.05 1559.04 1218.05 1550.57 Q1218.05 1541.82 1222.76 1536.69 Q1227.5 1531.54 1235.52 1531.54 Q1242.72 1531.54 1246.89 1536.18 Q1251.09 1540.8 1251.09 1548.76 M1245.23 1547.04 Q1245.17 1542.23 1242.53 1539.37 Q1239.92 1536.5 1235.59 1536.5 Q1230.69 1536.5 1227.73 1539.27 Q1224.8 1542.04 1224.35 1547.07 L1245.23 1547.04 Z\" fill=\"#000000\" fill-rule=\"evenodd\" fill-opacity=\"1\" /><path clip-path=\"url(#clip900)\" d=\"M1276.9 1550.12 Q1269.8 1550.12 1267.07 1551.75 Q1264.33 1553.37 1264.33 1557.29 Q1264.33 1560.4 1266.37 1562.25 Q1268.44 1564.07 1271.97 1564.07 Q1276.84 1564.07 1279.77 1560.63 Q1282.73 1557.16 1282.73 1551.43 L1282.73 1550.12 L1276.9 1550.12 M1288.58 1547.71 L1288.58 1568.04 L1282.73 1568.04 L1282.73 1562.63 Q1280.72 1565.88 1277.73 1567.44 Q1274.74 1568.97 1270.41 1568.97 Q1264.93 1568.97 1261.69 1565.91 Q1258.47 1562.82 1258.47 1557.67 Q1258.47 1551.65 1262.48 1548.6 Q1266.53 1545.54 1274.51 1545.54 L1282.73 1545.54 L1282.73 1544.97 Q1282.73 1540.93 1280.05 1538.73 Q1277.41 1536.5 1272.6 1536.5 Q1269.55 1536.5 1266.65 1537.23 Q1263.76 1537.97 1261.08 1539.43 L1261.08 1534.02 Q1264.3 1532.78 1267.32 1532.17 Q1270.34 1531.54 1273.21 1531.54 Q1280.94 1531.54 1284.76 1535.55 Q1288.58 1539.56 1288.58 1547.71 Z\" fill=\"#000000\" fill-rule=\"evenodd\" fill-opacity=\"1\" /><path clip-path=\"url(#clip900)\" d=\"M1326.3 1533.76 L1326.3 1539.24 Q1323.82 1537.87 1321.3 1537.2 Q1318.82 1536.5 1316.27 1536.5 Q1310.58 1536.5 1307.42 1540.13 Q1304.27 1543.73 1304.27 1550.25 Q1304.27 1556.78 1307.42 1560.4 Q1310.58 1564 1316.27 1564 Q1318.82 1564 1321.3 1563.33 Q1323.82 1562.63 1326.3 1561.26 L1326.3 1566.68 Q1323.85 1567.82 1321.21 1568.39 Q1318.6 1568.97 1315.64 1568.97 Q1307.58 1568.97 1302.84 1563.91 Q1298.1 1558.85 1298.1 1550.25 Q1298.1 1541.53 1302.87 1536.53 Q1307.68 1531.54 1316.02 1531.54 Q1318.72 1531.54 1321.3 1532.11 Q1323.88 1532.65 1326.3 1533.76 Z\" fill=\"#000000\" fill-rule=\"evenodd\" fill-opacity=\"1\" /><path clip-path=\"url(#clip900)\" d=\"M1342.28 1522.27 L1342.28 1532.4 L1354.34 1532.4 L1354.34 1536.95 L1342.28 1536.95 L1342.28 1556.3 Q1342.28 1560.66 1343.45 1561.9 Q1344.66 1563.14 1348.32 1563.14 L1354.34 1563.14 L1354.34 1568.04 L1348.32 1568.04 Q1341.55 1568.04 1338.97 1565.53 Q1336.39 1562.98 1336.39 1556.3 L1336.39 1536.95 L1332.09 1536.95 L1332.09 1532.4 L1336.39 1532.4 L1336.39 1522.27 L1342.28 1522.27 Z\" fill=\"#000000\" fill-rule=\"evenodd\" fill-opacity=\"1\" /><path clip-path=\"url(#clip900)\" d=\"M1375.86 1536.5 Q1371.15 1536.5 1368.41 1540.19 Q1365.67 1543.85 1365.67 1550.25 Q1365.67 1556.65 1368.38 1560.34 Q1371.11 1564 1375.86 1564 Q1380.54 1564 1383.27 1560.31 Q1386.01 1556.62 1386.01 1550.25 Q1386.01 1543.92 1383.27 1540.23 Q1380.54 1536.5 1375.86 1536.5 M1375.86 1531.54 Q1383.5 1531.54 1387.86 1536.5 Q1392.22 1541.47 1392.22 1550.25 Q1392.22 1559 1387.86 1564 Q1383.5 1568.97 1375.86 1568.97 Q1368.19 1568.97 1363.83 1564 Q1359.5 1559 1359.5 1550.25 Q1359.5 1541.47 1363.83 1536.5 Q1368.19 1531.54 1375.86 1531.54 Z\" fill=\"#000000\" fill-rule=\"evenodd\" fill-opacity=\"1\" /><path clip-path=\"url(#clip900)\" d=\"M1422.58 1537.87 Q1421.59 1537.3 1420.42 1537.04 Q1419.27 1536.76 1417.87 1536.76 Q1412.9 1536.76 1410.23 1540 Q1407.59 1543.22 1407.59 1549.27 L1407.59 1568.04 L1401.7 1568.04 L1401.7 1532.4 L1407.59 1532.4 L1407.59 1537.93 Q1409.44 1534.69 1412.4 1533.13 Q1415.36 1531.54 1419.59 1531.54 Q1420.19 1531.54 1420.93 1531.63 Q1421.66 1531.7 1422.55 1531.85 L1422.58 1537.87 Z\" fill=\"#000000\" fill-rule=\"evenodd\" fill-opacity=\"1\" /><path clip-path=\"url(#clip900)\" d=\"M1451.45 1533.45 L1451.45 1538.98 Q1448.97 1537.71 1446.29 1537.07 Q1443.62 1536.44 1440.75 1536.44 Q1436.39 1536.44 1434.2 1537.77 Q1432.03 1539.11 1432.03 1541.79 Q1432.03 1543.82 1433.59 1545 Q1435.15 1546.15 1439.86 1547.2 L1441.87 1547.64 Q1448.11 1548.98 1450.72 1551.43 Q1453.36 1553.85 1453.36 1558.21 Q1453.36 1563.17 1449.41 1566.07 Q1445.5 1568.97 1438.62 1568.97 Q1435.76 1568.97 1432.64 1568.39 Q1429.55 1567.85 1426.11 1566.74 L1426.11 1560.69 Q1429.36 1562.38 1432.51 1563.24 Q1435.66 1564.07 1438.75 1564.07 Q1442.89 1564.07 1445.12 1562.66 Q1447.34 1561.23 1447.34 1558.65 Q1447.34 1556.27 1445.72 1554.99 Q1444.13 1553.72 1438.69 1552.54 L1436.65 1552.07 Q1431.21 1550.92 1428.79 1548.56 Q1426.37 1546.18 1426.37 1542.04 Q1426.37 1537.01 1429.93 1534.27 Q1433.5 1531.54 1440.05 1531.54 Q1443.3 1531.54 1446.17 1532.01 Q1449.03 1532.49 1451.45 1533.45 Z\" fill=\"#000000\" fill-rule=\"evenodd\" fill-opacity=\"1\" /><polyline clip-path=\"url(#clip902)\" style=\"stroke:#000000; stroke-linecap:round; stroke-linejoin:round; stroke-width:8; stroke-opacity:0.1; fill:none\" points=\"219.38,1388.41 2352.76,1388.41 \"/>\n",
       "<polyline clip-path=\"url(#clip902)\" style=\"stroke:#000000; stroke-linecap:round; stroke-linejoin:round; stroke-width:8; stroke-opacity:0.1; fill:none\" points=\"219.38,1127.76 2352.76,1127.76 \"/>\n",
       "<polyline clip-path=\"url(#clip902)\" style=\"stroke:#000000; stroke-linecap:round; stroke-linejoin:round; stroke-width:8; stroke-opacity:0.1; fill:none\" points=\"219.38,867.102 2352.76,867.102 \"/>\n",
       "<polyline clip-path=\"url(#clip902)\" style=\"stroke:#000000; stroke-linecap:round; stroke-linejoin:round; stroke-width:8; stroke-opacity:0.1; fill:none\" points=\"219.38,606.449 2352.76,606.449 \"/>\n",
       "<polyline clip-path=\"url(#clip902)\" style=\"stroke:#000000; stroke-linecap:round; stroke-linejoin:round; stroke-width:8; stroke-opacity:0.1; fill:none\" points=\"219.38,345.796 2352.76,345.796 \"/>\n",
       "<polyline clip-path=\"url(#clip902)\" style=\"stroke:#000000; stroke-linecap:round; stroke-linejoin:round; stroke-width:8; stroke-opacity:0.1; fill:none\" points=\"219.38,85.143 2352.76,85.143 \"/>\n",
       "<polyline clip-path=\"url(#clip900)\" style=\"stroke:#000000; stroke-linecap:round; stroke-linejoin:round; stroke-width:4; stroke-opacity:1; fill:none\" points=\"219.38,1423.18 219.38,47.2441 \"/>\n",
       "<polyline clip-path=\"url(#clip900)\" style=\"stroke:#000000; stroke-linecap:round; stroke-linejoin:round; stroke-width:4; stroke-opacity:1; fill:none\" points=\"219.38,1388.41 238.278,1388.41 \"/>\n",
       "<polyline clip-path=\"url(#clip900)\" style=\"stroke:#000000; stroke-linecap:round; stroke-linejoin:round; stroke-width:4; stroke-opacity:1; fill:none\" points=\"219.38,1127.76 238.278,1127.76 \"/>\n",
       "<polyline clip-path=\"url(#clip900)\" style=\"stroke:#000000; stroke-linecap:round; stroke-linejoin:round; stroke-width:4; stroke-opacity:1; fill:none\" points=\"219.38,867.102 238.278,867.102 \"/>\n",
       "<polyline clip-path=\"url(#clip900)\" style=\"stroke:#000000; stroke-linecap:round; stroke-linejoin:round; stroke-width:4; stroke-opacity:1; fill:none\" points=\"219.38,606.449 238.278,606.449 \"/>\n",
       "<polyline clip-path=\"url(#clip900)\" style=\"stroke:#000000; stroke-linecap:round; stroke-linejoin:round; stroke-width:4; stroke-opacity:1; fill:none\" points=\"219.38,345.796 238.278,345.796 \"/>\n",
       "<polyline clip-path=\"url(#clip900)\" style=\"stroke:#000000; stroke-linecap:round; stroke-linejoin:round; stroke-width:4; stroke-opacity:1; fill:none\" points=\"219.38,85.143 238.278,85.143 \"/>\n",
       "<path clip-path=\"url(#clip900)\" d=\"M126.205 1374.21 Q122.593 1374.21 120.765 1377.77 Q118.959 1381.31 118.959 1388.44 Q118.959 1395.55 120.765 1399.11 Q122.593 1402.66 126.205 1402.66 Q129.839 1402.66 131.644 1399.11 Q133.473 1395.55 133.473 1388.44 Q133.473 1381.31 131.644 1377.77 Q129.839 1374.21 126.205 1374.21 M126.205 1370.5 Q132.015 1370.5 135.07 1375.11 Q138.149 1379.69 138.149 1388.44 Q138.149 1397.17 135.07 1401.78 Q132.015 1406.36 126.205 1406.36 Q120.394 1406.36 117.316 1401.78 Q114.26 1397.17 114.26 1388.44 Q114.26 1379.69 117.316 1375.11 Q120.394 1370.5 126.205 1370.5 Z\" fill=\"#000000\" fill-rule=\"evenodd\" fill-opacity=\"1\" /><path clip-path=\"url(#clip900)\" d=\"M146.366 1399.81 L151.251 1399.81 L151.251 1405.69 L146.366 1405.69 L146.366 1399.81 Z\" fill=\"#000000\" fill-rule=\"evenodd\" fill-opacity=\"1\" /><path clip-path=\"url(#clip900)\" d=\"M171.436 1374.21 Q167.825 1374.21 165.996 1377.77 Q164.19 1381.31 164.19 1388.44 Q164.19 1395.55 165.996 1399.11 Q167.825 1402.66 171.436 1402.66 Q175.07 1402.66 176.876 1399.11 Q178.704 1395.55 178.704 1388.44 Q178.704 1381.31 176.876 1377.77 Q175.07 1374.21 171.436 1374.21 M171.436 1370.5 Q177.246 1370.5 180.301 1375.11 Q183.38 1379.69 183.38 1388.44 Q183.38 1397.17 180.301 1401.78 Q177.246 1406.36 171.436 1406.36 Q165.626 1406.36 162.547 1401.78 Q159.491 1397.17 159.491 1388.44 Q159.491 1379.69 162.547 1375.11 Q165.626 1370.5 171.436 1370.5 Z\" fill=\"#000000\" fill-rule=\"evenodd\" fill-opacity=\"1\" /><path clip-path=\"url(#clip900)\" d=\"M127.2 1113.55 Q123.589 1113.55 121.76 1117.12 Q119.955 1120.66 119.955 1127.79 Q119.955 1134.9 121.76 1138.46 Q123.589 1142 127.2 1142 Q130.834 1142 132.64 1138.46 Q134.468 1134.9 134.468 1127.79 Q134.468 1120.66 132.64 1117.12 Q130.834 1113.55 127.2 1113.55 M127.2 1109.85 Q133.01 1109.85 136.066 1114.46 Q139.144 1119.04 139.144 1127.79 Q139.144 1136.52 136.066 1141.12 Q133.01 1145.71 127.2 1145.71 Q121.39 1145.71 118.311 1141.12 Q115.256 1136.52 115.256 1127.79 Q115.256 1119.04 118.311 1114.46 Q121.39 1109.85 127.2 1109.85 Z\" fill=\"#000000\" fill-rule=\"evenodd\" fill-opacity=\"1\" /><path clip-path=\"url(#clip900)\" d=\"M147.362 1139.16 L152.246 1139.16 L152.246 1145.04 L147.362 1145.04 L147.362 1139.16 Z\" fill=\"#000000\" fill-rule=\"evenodd\" fill-opacity=\"1\" /><path clip-path=\"url(#clip900)\" d=\"M162.477 1110.48 L180.834 1110.48 L180.834 1114.41 L166.76 1114.41 L166.76 1122.88 Q167.778 1122.54 168.797 1122.37 Q169.815 1122.19 170.834 1122.19 Q176.621 1122.19 180.001 1125.36 Q183.38 1128.53 183.38 1133.95 Q183.38 1139.53 179.908 1142.63 Q176.436 1145.71 170.116 1145.71 Q167.94 1145.71 165.672 1145.34 Q163.427 1144.97 161.019 1144.23 L161.019 1139.53 Q163.102 1140.66 165.325 1141.22 Q167.547 1141.77 170.024 1141.77 Q174.028 1141.77 176.366 1139.67 Q178.704 1137.56 178.704 1133.95 Q178.704 1130.34 176.366 1128.23 Q174.028 1126.12 170.024 1126.12 Q168.149 1126.12 166.274 1126.54 Q164.422 1126.96 162.477 1127.84 L162.477 1110.48 Z\" fill=\"#000000\" fill-rule=\"evenodd\" fill-opacity=\"1\" /><path clip-path=\"url(#clip900)\" d=\"M117.015 880.447 L124.654 880.447 L124.654 854.082 L116.343 855.748 L116.343 851.489 L124.607 849.822 L129.283 849.822 L129.283 880.447 L136.922 880.447 L136.922 884.382 L117.015 884.382 L117.015 880.447 Z\" fill=\"#000000\" fill-rule=\"evenodd\" fill-opacity=\"1\" /><path clip-path=\"url(#clip900)\" d=\"M146.366 878.503 L151.251 878.503 L151.251 884.382 L146.366 884.382 L146.366 878.503 Z\" fill=\"#000000\" fill-rule=\"evenodd\" fill-opacity=\"1\" /><path clip-path=\"url(#clip900)\" d=\"M171.436 852.901 Q167.825 852.901 165.996 856.466 Q164.19 860.008 164.19 867.137 Q164.19 874.244 165.996 877.808 Q167.825 881.35 171.436 881.35 Q175.07 881.35 176.876 877.808 Q178.704 874.244 178.704 867.137 Q178.704 860.008 176.876 856.466 Q175.07 852.901 171.436 852.901 M171.436 849.197 Q177.246 849.197 180.301 853.804 Q183.38 858.387 183.38 867.137 Q183.38 875.864 180.301 880.47 Q177.246 885.054 171.436 885.054 Q165.626 885.054 162.547 880.47 Q159.491 875.864 159.491 867.137 Q159.491 858.387 162.547 853.804 Q165.626 849.197 171.436 849.197 Z\" fill=\"#000000\" fill-rule=\"evenodd\" fill-opacity=\"1\" /><path clip-path=\"url(#clip900)\" d=\"M118.01 619.794 L125.649 619.794 L125.649 593.429 L117.339 595.095 L117.339 590.836 L125.603 589.169 L130.279 589.169 L130.279 619.794 L137.917 619.794 L137.917 623.729 L118.01 623.729 L118.01 619.794 Z\" fill=\"#000000\" fill-rule=\"evenodd\" fill-opacity=\"1\" /><path clip-path=\"url(#clip900)\" d=\"M147.362 617.85 L152.246 617.85 L152.246 623.729 L147.362 623.729 L147.362 617.85 Z\" fill=\"#000000\" fill-rule=\"evenodd\" fill-opacity=\"1\" /><path clip-path=\"url(#clip900)\" d=\"M162.477 589.169 L180.834 589.169 L180.834 593.104 L166.76 593.104 L166.76 601.577 Q167.778 601.229 168.797 601.067 Q169.815 600.882 170.834 600.882 Q176.621 600.882 180.001 604.053 Q183.38 607.225 183.38 612.641 Q183.38 618.22 179.908 621.322 Q176.436 624.401 170.116 624.401 Q167.94 624.401 165.672 624.03 Q163.427 623.66 161.019 622.919 L161.019 618.22 Q163.102 619.354 165.325 619.91 Q167.547 620.465 170.024 620.465 Q174.028 620.465 176.366 618.359 Q178.704 616.252 178.704 612.641 Q178.704 609.03 176.366 606.924 Q174.028 604.817 170.024 604.817 Q168.149 604.817 166.274 605.234 Q164.422 605.651 162.477 606.53 L162.477 589.169 Z\" fill=\"#000000\" fill-rule=\"evenodd\" fill-opacity=\"1\" /><path clip-path=\"url(#clip900)\" d=\"M120.232 359.141 L136.552 359.141 L136.552 363.076 L114.607 363.076 L114.607 359.141 Q117.269 356.386 121.853 351.757 Q126.459 347.104 127.64 345.761 Q129.885 343.238 130.765 341.502 Q131.667 339.743 131.667 338.053 Q131.667 335.299 129.723 333.562 Q127.802 331.826 124.7 331.826 Q122.501 331.826 120.047 332.59 Q117.617 333.354 114.839 334.905 L114.839 330.183 Q117.663 329.049 120.117 328.47 Q122.57 327.891 124.607 327.891 Q129.978 327.891 133.172 330.576 Q136.367 333.261 136.367 337.752 Q136.367 339.882 135.556 341.803 Q134.769 343.701 132.663 346.294 Q132.084 346.965 128.982 350.183 Q125.88 353.377 120.232 359.141 Z\" fill=\"#000000\" fill-rule=\"evenodd\" fill-opacity=\"1\" /><path clip-path=\"url(#clip900)\" d=\"M146.366 357.197 L151.251 357.197 L151.251 363.076 L146.366 363.076 L146.366 357.197 Z\" fill=\"#000000\" fill-rule=\"evenodd\" fill-opacity=\"1\" /><path clip-path=\"url(#clip900)\" d=\"M171.436 331.595 Q167.825 331.595 165.996 335.16 Q164.19 338.701 164.19 345.831 Q164.19 352.937 165.996 356.502 Q167.825 360.044 171.436 360.044 Q175.07 360.044 176.876 356.502 Q178.704 352.937 178.704 345.831 Q178.704 338.701 176.876 335.16 Q175.07 331.595 171.436 331.595 M171.436 327.891 Q177.246 327.891 180.301 332.498 Q183.38 337.081 183.38 345.831 Q183.38 354.558 180.301 359.164 Q177.246 363.747 171.436 363.747 Q165.626 363.747 162.547 359.164 Q159.491 354.558 159.491 345.831 Q159.491 337.081 162.547 332.498 Q165.626 327.891 171.436 327.891 Z\" fill=\"#000000\" fill-rule=\"evenodd\" fill-opacity=\"1\" /><path clip-path=\"url(#clip900)\" d=\"M121.228 98.4878 L137.547 98.4878 L137.547 102.423 L115.603 102.423 L115.603 98.4878 Q118.265 95.7332 122.848 91.1036 Q127.455 86.4509 128.635 85.1083 Q130.88 82.5852 131.76 80.8491 Q132.663 79.0898 132.663 77.4 Q132.663 74.6454 130.718 72.9093 Q128.797 71.1732 125.695 71.1732 Q123.496 71.1732 121.043 71.9371 Q118.612 72.7009 115.834 74.2519 L115.834 69.5297 Q118.658 68.3954 121.112 67.8167 Q123.566 67.238 125.603 67.238 Q130.973 67.238 134.167 69.9232 Q137.362 72.6084 137.362 77.0991 Q137.362 79.2287 136.552 81.15 Q135.765 83.0481 133.658 85.6407 Q133.08 86.312 129.978 89.5296 Q126.876 92.724 121.228 98.4878 Z\" fill=\"#000000\" fill-rule=\"evenodd\" fill-opacity=\"1\" /><path clip-path=\"url(#clip900)\" d=\"M147.362 96.5434 L152.246 96.5434 L152.246 102.423 L147.362 102.423 L147.362 96.5434 Z\" fill=\"#000000\" fill-rule=\"evenodd\" fill-opacity=\"1\" /><path clip-path=\"url(#clip900)\" d=\"M162.477 67.863 L180.834 67.863 L180.834 71.7982 L166.76 71.7982 L166.76 80.2704 Q167.778 79.9231 168.797 79.7611 Q169.815 79.5759 170.834 79.5759 Q176.621 79.5759 180.001 82.7472 Q183.38 85.9185 183.38 91.3351 Q183.38 96.9138 179.908 100.016 Q176.436 103.094 170.116 103.094 Q167.94 103.094 165.672 102.724 Q163.427 102.354 161.019 101.613 L161.019 96.9138 Q163.102 98.048 165.325 98.6036 Q167.547 99.1591 170.024 99.1591 Q174.028 99.1591 176.366 97.0527 Q178.704 94.9462 178.704 91.3351 Q178.704 87.724 176.366 85.6175 Q174.028 83.5111 170.024 83.5111 Q168.149 83.5111 166.274 83.9277 Q164.422 84.3444 162.477 85.224 L162.477 67.863 Z\" fill=\"#000000\" fill-rule=\"evenodd\" fill-opacity=\"1\" /><path clip-path=\"url(#clip900)\" d=\"M29.4065 898.413 L34.9447 898.413 Q33.6716 900.895 33.035 903.569 Q32.3984 906.243 32.3984 909.107 Q32.3984 913.468 33.7352 915.664 Q35.072 917.828 37.7456 917.828 Q39.7826 917.828 40.9603 916.269 Q42.1061 914.709 43.1565 909.998 L43.6021 907.993 Q44.9389 901.755 47.3897 899.145 Q49.8086 896.503 54.1691 896.503 Q59.1344 896.503 62.0308 900.45 Q64.9272 904.365 64.9272 911.24 Q64.9272 914.104 64.3543 917.223 Q63.8132 920.311 62.6992 923.748 L56.6518 923.748 Q58.3387 920.502 59.198 917.351 Q60.0256 914.2 60.0256 911.112 Q60.0256 906.975 58.6251 904.747 Q57.1929 902.519 54.6147 902.519 Q52.2276 902.519 50.9545 904.142 Q49.6813 905.733 48.5037 911.176 L48.0262 913.213 Q46.8804 918.656 44.5251 921.075 Q42.138 923.494 38.0002 923.494 Q32.9713 923.494 30.2341 919.929 Q27.4968 916.364 27.4968 909.807 Q27.4968 906.561 27.9743 903.696 Q28.4517 900.832 29.4065 898.413 Z\" fill=\"#000000\" fill-rule=\"evenodd\" fill-opacity=\"1\" /><path clip-path=\"url(#clip900)\" d=\"M32.4621 873.364 Q32.4621 878.074 36.1542 880.812 Q39.8145 883.549 46.212 883.549 Q52.6095 883.549 56.3017 880.843 Q59.9619 878.106 59.9619 873.364 Q59.9619 868.685 56.2698 865.948 Q52.5777 863.21 46.212 863.21 Q39.8781 863.21 36.186 865.948 Q32.4621 868.685 32.4621 873.364 M27.4968 873.364 Q27.4968 865.725 32.4621 861.364 Q37.4273 857.004 46.212 857.004 Q54.9649 857.004 59.9619 861.364 Q64.9272 865.725 64.9272 873.364 Q64.9272 881.034 59.9619 885.395 Q54.9649 889.724 46.212 889.724 Q37.4273 889.724 32.4621 885.395 Q27.4968 881.034 27.4968 873.364 Z\" fill=\"#000000\" fill-rule=\"evenodd\" fill-opacity=\"1\" /><path clip-path=\"url(#clip900)\" d=\"M14.479 847.296 L14.479 841.44 L64.0042 841.44 L64.0042 847.296 L14.479 847.296 Z\" fill=\"#000000\" fill-rule=\"evenodd\" fill-opacity=\"1\" /><path clip-path=\"url(#clip900)\" d=\"M55.9197 828.358 L55.9197 821.642 L64.0042 821.642 L64.0042 828.358 L55.9197 828.358 Z\" fill=\"#000000\" fill-rule=\"evenodd\" fill-opacity=\"1\" /><path clip-path=\"url(#clip900)\" d=\"M18.2347 781.952 L28.3562 781.952 L28.3562 769.889 L32.9077 769.889 L32.9077 781.952 L52.2594 781.952 Q56.6199 781.952 57.8613 780.775 Q59.1026 779.565 59.1026 775.905 L59.1026 769.889 L64.0042 769.889 L64.0042 775.905 Q64.0042 782.684 61.4897 785.262 Q58.9434 787.84 52.2594 787.84 L32.9077 787.84 L32.9077 792.137 L28.3562 792.137 L28.3562 787.84 L18.2347 787.84 L18.2347 781.952 Z\" fill=\"#000000\" fill-rule=\"evenodd\" fill-opacity=\"1\" /><path clip-path=\"url(#clip900)\" d=\"M28.3562 762.187 L28.3562 756.33 L64.0042 756.33 L64.0042 762.187 L28.3562 762.187 M14.479 762.187 L14.479 756.33 L21.895 756.33 L21.895 762.187 L14.479 762.187 Z\" fill=\"#000000\" fill-rule=\"evenodd\" fill-opacity=\"1\" /><path clip-path=\"url(#clip900)\" d=\"M35.1993 716.322 Q31.2526 714.126 29.3747 711.07 Q27.4968 708.014 27.4968 703.877 Q27.4968 698.307 31.4117 695.283 Q35.2948 692.259 42.4881 692.259 L64.0042 692.259 L64.0042 698.148 L42.679 698.148 Q37.5546 698.148 35.072 699.962 Q32.5894 701.776 32.5894 705.5 Q32.5894 710.052 35.6131 712.693 Q38.6368 715.335 43.8567 715.335 L64.0042 715.335 L64.0042 721.223 L42.679 721.223 Q37.5228 721.223 35.072 723.038 Q32.5894 724.852 32.5894 728.639 Q32.5894 733.127 35.6449 735.769 Q38.6686 738.411 43.8567 738.411 L64.0042 738.411 L64.0042 744.299 L28.3562 744.299 L28.3562 738.411 L33.8944 738.411 Q30.616 736.406 29.0564 733.605 Q27.4968 730.804 27.4968 726.952 Q27.4968 723.069 29.4702 720.364 Q31.4436 717.627 35.1993 716.322 Z\" fill=\"#000000\" fill-rule=\"evenodd\" fill-opacity=\"1\" /><path clip-path=\"url(#clip900)\" d=\"M44.7161 650.087 L47.5806 650.087 L47.5806 677.013 Q53.6281 676.632 56.8109 673.385 Q59.9619 670.107 59.9619 664.282 Q59.9619 660.908 59.1344 657.757 Q58.3069 654.574 56.6518 651.455 L62.1899 651.455 Q63.5267 654.606 64.227 657.916 Q64.9272 661.227 64.9272 664.632 Q64.9272 673.162 59.9619 678.159 Q54.9967 683.125 46.5303 683.125 Q37.7774 683.125 32.6531 678.414 Q27.4968 673.671 27.4968 665.651 Q27.4968 658.457 32.1438 654.288 Q36.7589 650.087 44.7161 650.087 M42.9973 655.943 Q38.1912 656.007 35.3266 658.648 Q32.4621 661.258 32.4621 665.587 Q32.4621 670.489 35.2312 673.449 Q38.0002 676.377 43.0292 676.823 L42.9973 655.943 Z\" fill=\"#000000\" fill-rule=\"evenodd\" fill-opacity=\"1\" /><path clip-path=\"url(#clip900)\" d=\"M14.479 620.295 L14.479 606.8 L19.0304 606.8 L19.0304 614.439 L68.0464 614.439 L68.0464 606.8 L72.5979 606.8 L72.5979 620.295 L14.479 620.295 Z\" fill=\"#000000\" fill-rule=\"evenodd\" fill-opacity=\"1\" /><path clip-path=\"url(#clip900)\" d=\"M29.4065 571.597 L34.9447 571.597 Q33.6716 574.08 33.035 576.754 Q32.3984 579.427 32.3984 582.292 Q32.3984 586.652 33.7352 588.848 Q35.072 591.013 37.7456 591.013 Q39.7826 591.013 40.9603 589.453 Q42.1061 587.894 43.1565 583.183 L43.6021 581.178 Q44.9389 574.939 47.3897 572.329 Q49.8086 569.688 54.1691 569.688 Q59.1344 569.688 62.0308 573.634 Q64.9272 577.549 64.9272 584.424 Q64.9272 587.289 64.3543 590.408 Q63.8132 593.495 62.6992 596.933 L56.6518 596.933 Q58.3387 593.686 59.198 590.535 Q60.0256 587.384 60.0256 584.297 Q60.0256 580.159 58.6251 577.931 Q57.1929 575.703 54.6147 575.703 Q52.2276 575.703 50.9545 577.327 Q49.6813 578.918 48.5037 584.361 L48.0262 586.398 Q46.8804 591.84 44.5251 594.259 Q42.138 596.678 38.0002 596.678 Q32.9713 596.678 30.2341 593.113 Q27.4968 589.549 27.4968 582.992 Q27.4968 579.745 27.9743 576.881 Q28.4517 574.016 29.4065 571.597 Z\" fill=\"#000000\" fill-rule=\"evenodd\" fill-opacity=\"1\" /><path clip-path=\"url(#clip900)\" d=\"M14.479 546.676 L72.5979 546.676 L72.5979 560.171 L68.0464 560.171 L68.0464 552.564 L19.0304 552.564 L19.0304 560.171 L14.479 560.171 L14.479 546.676 Z\" fill=\"#000000\" fill-rule=\"evenodd\" fill-opacity=\"1\" /><polyline clip-path=\"url(#clip902)\" style=\"stroke:#008000; stroke-linecap:round; stroke-linejoin:round; stroke-width:4; stroke-opacity:1; fill:none\" points=\"279.759,1383.72 320.833,1384.24 361.906,1384.24 402.98,1383.2 444.054,1382.15 485.128,1382.15 526.202,1381.63 567.276,1382.15 608.35,1382.15 649.423,1380.59 690.497,1381.11 731.571,1381.63 772.645,1381.11 813.719,1380.59 854.793,1380.07 895.866,1379.03 \"/>\n",
       "<circle clip-path=\"url(#clip902)\" cx=\"279.759\" cy=\"1383.72\" r=\"14.4\" fill=\"#008000\" fill-rule=\"evenodd\" fill-opacity=\"1\" stroke=\"#000000\" stroke-opacity=\"1\" stroke-width=\"3.2\"/>\n",
       "<circle clip-path=\"url(#clip902)\" cx=\"320.833\" cy=\"1384.24\" r=\"14.4\" fill=\"#008000\" fill-rule=\"evenodd\" fill-opacity=\"1\" stroke=\"#000000\" stroke-opacity=\"1\" stroke-width=\"3.2\"/>\n",
       "<circle clip-path=\"url(#clip902)\" cx=\"361.906\" cy=\"1384.24\" r=\"14.4\" fill=\"#008000\" fill-rule=\"evenodd\" fill-opacity=\"1\" stroke=\"#000000\" stroke-opacity=\"1\" stroke-width=\"3.2\"/>\n",
       "<circle clip-path=\"url(#clip902)\" cx=\"402.98\" cy=\"1383.2\" r=\"14.4\" fill=\"#008000\" fill-rule=\"evenodd\" fill-opacity=\"1\" stroke=\"#000000\" stroke-opacity=\"1\" stroke-width=\"3.2\"/>\n",
       "<circle clip-path=\"url(#clip902)\" cx=\"444.054\" cy=\"1382.15\" r=\"14.4\" fill=\"#008000\" fill-rule=\"evenodd\" fill-opacity=\"1\" stroke=\"#000000\" stroke-opacity=\"1\" stroke-width=\"3.2\"/>\n",
       "<circle clip-path=\"url(#clip902)\" cx=\"485.128\" cy=\"1382.15\" r=\"14.4\" fill=\"#008000\" fill-rule=\"evenodd\" fill-opacity=\"1\" stroke=\"#000000\" stroke-opacity=\"1\" stroke-width=\"3.2\"/>\n",
       "<circle clip-path=\"url(#clip902)\" cx=\"526.202\" cy=\"1381.63\" r=\"14.4\" fill=\"#008000\" fill-rule=\"evenodd\" fill-opacity=\"1\" stroke=\"#000000\" stroke-opacity=\"1\" stroke-width=\"3.2\"/>\n",
       "<circle clip-path=\"url(#clip902)\" cx=\"567.276\" cy=\"1382.15\" r=\"14.4\" fill=\"#008000\" fill-rule=\"evenodd\" fill-opacity=\"1\" stroke=\"#000000\" stroke-opacity=\"1\" stroke-width=\"3.2\"/>\n",
       "<circle clip-path=\"url(#clip902)\" cx=\"608.35\" cy=\"1382.15\" r=\"14.4\" fill=\"#008000\" fill-rule=\"evenodd\" fill-opacity=\"1\" stroke=\"#000000\" stroke-opacity=\"1\" stroke-width=\"3.2\"/>\n",
       "<circle clip-path=\"url(#clip902)\" cx=\"649.423\" cy=\"1380.59\" r=\"14.4\" fill=\"#008000\" fill-rule=\"evenodd\" fill-opacity=\"1\" stroke=\"#000000\" stroke-opacity=\"1\" stroke-width=\"3.2\"/>\n",
       "<circle clip-path=\"url(#clip902)\" cx=\"690.497\" cy=\"1381.11\" r=\"14.4\" fill=\"#008000\" fill-rule=\"evenodd\" fill-opacity=\"1\" stroke=\"#000000\" stroke-opacity=\"1\" stroke-width=\"3.2\"/>\n",
       "<circle clip-path=\"url(#clip902)\" cx=\"731.571\" cy=\"1381.63\" r=\"14.4\" fill=\"#008000\" fill-rule=\"evenodd\" fill-opacity=\"1\" stroke=\"#000000\" stroke-opacity=\"1\" stroke-width=\"3.2\"/>\n",
       "<circle clip-path=\"url(#clip902)\" cx=\"772.645\" cy=\"1381.11\" r=\"14.4\" fill=\"#008000\" fill-rule=\"evenodd\" fill-opacity=\"1\" stroke=\"#000000\" stroke-opacity=\"1\" stroke-width=\"3.2\"/>\n",
       "<circle clip-path=\"url(#clip902)\" cx=\"813.719\" cy=\"1380.59\" r=\"14.4\" fill=\"#008000\" fill-rule=\"evenodd\" fill-opacity=\"1\" stroke=\"#000000\" stroke-opacity=\"1\" stroke-width=\"3.2\"/>\n",
       "<circle clip-path=\"url(#clip902)\" cx=\"854.793\" cy=\"1380.07\" r=\"14.4\" fill=\"#008000\" fill-rule=\"evenodd\" fill-opacity=\"1\" stroke=\"#000000\" stroke-opacity=\"1\" stroke-width=\"3.2\"/>\n",
       "<circle clip-path=\"url(#clip902)\" cx=\"895.866\" cy=\"1379.03\" r=\"14.4\" fill=\"#008000\" fill-rule=\"evenodd\" fill-opacity=\"1\" stroke=\"#000000\" stroke-opacity=\"1\" stroke-width=\"3.2\"/>\n",
       "<polyline clip-path=\"url(#clip902)\" style=\"stroke:#0000ff; stroke-linecap:round; stroke-linejoin:round; stroke-width:4; stroke-opacity:1; fill:none\" points=\"279.759,1377.46 320.833,1307.08 361.906,1322.2 402.98,1318.03 444.054,1323.77 485.128,1238.27 526.202,1289.36 567.276,1225.24 608.35,1302.39 649.423,1221.07 690.497,1212.73 731.571,1216.9 772.645,1291.97 813.719,1193.96 854.793,1253.91 895.866,1282.06 936.94,1099.61 978.014,1194.48 1019.09,1245.57 1060.16,1209.6 1101.24,1189.27 1142.31,1205.95 1183.38,1213.25 1224.46,1186.66 1265.53,1186.14 1306.6,1161.64 1347.68,1160.6 1388.75,1021.93 1429.83,1125.67 1470.9,1167.9 1511.97,1086.57 1553.05,1014.11 1594.12,1168.42 1635.2,1138.18 1676.27,1120.98 1717.34,1081.36 1758.42,1153.82 1799.49,1122.02 1840.57,1076.15 1881.64,1078.75 1922.71,1085.53 1963.79,1050.6 2004.86,982.311 2045.93,1025.06 2087.01,1025.06 2128.08,854.591 2169.16,1024.02 2210.23,988.046 2251.3,984.918 2292.38,994.301 \"/>\n",
       "<line clip-path=\"url(#clip902)\" x1=\"279.759\" y1=\"1377.46\" x2=\"279.759\" y2=\"1361.46\" style=\"stroke:#0000ff; stroke-width:3.2; stroke-opacity:1\"/>\n",
       "<line clip-path=\"url(#clip902)\" x1=\"279.759\" y1=\"1377.46\" x2=\"263.759\" y2=\"1377.46\" style=\"stroke:#0000ff; stroke-width:3.2; stroke-opacity:1\"/>\n",
       "<line clip-path=\"url(#clip902)\" x1=\"279.759\" y1=\"1377.46\" x2=\"279.759\" y2=\"1393.46\" style=\"stroke:#0000ff; stroke-width:3.2; stroke-opacity:1\"/>\n",
       "<line clip-path=\"url(#clip902)\" x1=\"279.759\" y1=\"1377.46\" x2=\"295.759\" y2=\"1377.46\" style=\"stroke:#0000ff; stroke-width:3.2; stroke-opacity:1\"/>\n",
       "<line clip-path=\"url(#clip902)\" x1=\"320.833\" y1=\"1307.08\" x2=\"320.833\" y2=\"1291.08\" style=\"stroke:#0000ff; stroke-width:3.2; stroke-opacity:1\"/>\n",
       "<line clip-path=\"url(#clip902)\" x1=\"320.833\" y1=\"1307.08\" x2=\"304.833\" y2=\"1307.08\" style=\"stroke:#0000ff; stroke-width:3.2; stroke-opacity:1\"/>\n",
       "<line clip-path=\"url(#clip902)\" x1=\"320.833\" y1=\"1307.08\" x2=\"320.833\" y2=\"1323.08\" style=\"stroke:#0000ff; stroke-width:3.2; stroke-opacity:1\"/>\n",
       "<line clip-path=\"url(#clip902)\" x1=\"320.833\" y1=\"1307.08\" x2=\"336.833\" y2=\"1307.08\" style=\"stroke:#0000ff; stroke-width:3.2; stroke-opacity:1\"/>\n",
       "<line clip-path=\"url(#clip902)\" x1=\"361.906\" y1=\"1322.2\" x2=\"361.906\" y2=\"1306.2\" style=\"stroke:#0000ff; stroke-width:3.2; stroke-opacity:1\"/>\n",
       "<line clip-path=\"url(#clip902)\" x1=\"361.906\" y1=\"1322.2\" x2=\"345.906\" y2=\"1322.2\" style=\"stroke:#0000ff; stroke-width:3.2; stroke-opacity:1\"/>\n",
       "<line clip-path=\"url(#clip902)\" x1=\"361.906\" y1=\"1322.2\" x2=\"361.906\" y2=\"1338.2\" style=\"stroke:#0000ff; stroke-width:3.2; stroke-opacity:1\"/>\n",
       "<line clip-path=\"url(#clip902)\" x1=\"361.906\" y1=\"1322.2\" x2=\"377.906\" y2=\"1322.2\" style=\"stroke:#0000ff; stroke-width:3.2; stroke-opacity:1\"/>\n",
       "<line clip-path=\"url(#clip902)\" x1=\"402.98\" y1=\"1318.03\" x2=\"402.98\" y2=\"1302.03\" style=\"stroke:#0000ff; stroke-width:3.2; stroke-opacity:1\"/>\n",
       "<line clip-path=\"url(#clip902)\" x1=\"402.98\" y1=\"1318.03\" x2=\"386.98\" y2=\"1318.03\" style=\"stroke:#0000ff; stroke-width:3.2; stroke-opacity:1\"/>\n",
       "<line clip-path=\"url(#clip902)\" x1=\"402.98\" y1=\"1318.03\" x2=\"402.98\" y2=\"1334.03\" style=\"stroke:#0000ff; stroke-width:3.2; stroke-opacity:1\"/>\n",
       "<line clip-path=\"url(#clip902)\" x1=\"402.98\" y1=\"1318.03\" x2=\"418.98\" y2=\"1318.03\" style=\"stroke:#0000ff; stroke-width:3.2; stroke-opacity:1\"/>\n",
       "<line clip-path=\"url(#clip902)\" x1=\"444.054\" y1=\"1323.77\" x2=\"444.054\" y2=\"1307.77\" style=\"stroke:#0000ff; stroke-width:3.2; stroke-opacity:1\"/>\n",
       "<line clip-path=\"url(#clip902)\" x1=\"444.054\" y1=\"1323.77\" x2=\"428.054\" y2=\"1323.77\" style=\"stroke:#0000ff; stroke-width:3.2; stroke-opacity:1\"/>\n",
       "<line clip-path=\"url(#clip902)\" x1=\"444.054\" y1=\"1323.77\" x2=\"444.054\" y2=\"1339.77\" style=\"stroke:#0000ff; stroke-width:3.2; stroke-opacity:1\"/>\n",
       "<line clip-path=\"url(#clip902)\" x1=\"444.054\" y1=\"1323.77\" x2=\"460.054\" y2=\"1323.77\" style=\"stroke:#0000ff; stroke-width:3.2; stroke-opacity:1\"/>\n",
       "<line clip-path=\"url(#clip902)\" x1=\"485.128\" y1=\"1238.27\" x2=\"485.128\" y2=\"1222.27\" style=\"stroke:#0000ff; stroke-width:3.2; stroke-opacity:1\"/>\n",
       "<line clip-path=\"url(#clip902)\" x1=\"485.128\" y1=\"1238.27\" x2=\"469.128\" y2=\"1238.27\" style=\"stroke:#0000ff; stroke-width:3.2; stroke-opacity:1\"/>\n",
       "<line clip-path=\"url(#clip902)\" x1=\"485.128\" y1=\"1238.27\" x2=\"485.128\" y2=\"1254.27\" style=\"stroke:#0000ff; stroke-width:3.2; stroke-opacity:1\"/>\n",
       "<line clip-path=\"url(#clip902)\" x1=\"485.128\" y1=\"1238.27\" x2=\"501.128\" y2=\"1238.27\" style=\"stroke:#0000ff; stroke-width:3.2; stroke-opacity:1\"/>\n",
       "<line clip-path=\"url(#clip902)\" x1=\"526.202\" y1=\"1289.36\" x2=\"526.202\" y2=\"1273.36\" style=\"stroke:#0000ff; stroke-width:3.2; stroke-opacity:1\"/>\n",
       "<line clip-path=\"url(#clip902)\" x1=\"526.202\" y1=\"1289.36\" x2=\"510.202\" y2=\"1289.36\" style=\"stroke:#0000ff; stroke-width:3.2; stroke-opacity:1\"/>\n",
       "<line clip-path=\"url(#clip902)\" x1=\"526.202\" y1=\"1289.36\" x2=\"526.202\" y2=\"1305.36\" style=\"stroke:#0000ff; stroke-width:3.2; stroke-opacity:1\"/>\n",
       "<line clip-path=\"url(#clip902)\" x1=\"526.202\" y1=\"1289.36\" x2=\"542.202\" y2=\"1289.36\" style=\"stroke:#0000ff; stroke-width:3.2; stroke-opacity:1\"/>\n",
       "<line clip-path=\"url(#clip902)\" x1=\"567.276\" y1=\"1225.24\" x2=\"567.276\" y2=\"1209.24\" style=\"stroke:#0000ff; stroke-width:3.2; stroke-opacity:1\"/>\n",
       "<line clip-path=\"url(#clip902)\" x1=\"567.276\" y1=\"1225.24\" x2=\"551.276\" y2=\"1225.24\" style=\"stroke:#0000ff; stroke-width:3.2; stroke-opacity:1\"/>\n",
       "<line clip-path=\"url(#clip902)\" x1=\"567.276\" y1=\"1225.24\" x2=\"567.276\" y2=\"1241.24\" style=\"stroke:#0000ff; stroke-width:3.2; stroke-opacity:1\"/>\n",
       "<line clip-path=\"url(#clip902)\" x1=\"567.276\" y1=\"1225.24\" x2=\"583.276\" y2=\"1225.24\" style=\"stroke:#0000ff; stroke-width:3.2; stroke-opacity:1\"/>\n",
       "<line clip-path=\"url(#clip902)\" x1=\"608.35\" y1=\"1302.39\" x2=\"608.35\" y2=\"1286.39\" style=\"stroke:#0000ff; stroke-width:3.2; stroke-opacity:1\"/>\n",
       "<line clip-path=\"url(#clip902)\" x1=\"608.35\" y1=\"1302.39\" x2=\"592.35\" y2=\"1302.39\" style=\"stroke:#0000ff; stroke-width:3.2; stroke-opacity:1\"/>\n",
       "<line clip-path=\"url(#clip902)\" x1=\"608.35\" y1=\"1302.39\" x2=\"608.35\" y2=\"1318.39\" style=\"stroke:#0000ff; stroke-width:3.2; stroke-opacity:1\"/>\n",
       "<line clip-path=\"url(#clip902)\" x1=\"608.35\" y1=\"1302.39\" x2=\"624.35\" y2=\"1302.39\" style=\"stroke:#0000ff; stroke-width:3.2; stroke-opacity:1\"/>\n",
       "<line clip-path=\"url(#clip902)\" x1=\"649.423\" y1=\"1221.07\" x2=\"649.423\" y2=\"1205.07\" style=\"stroke:#0000ff; stroke-width:3.2; stroke-opacity:1\"/>\n",
       "<line clip-path=\"url(#clip902)\" x1=\"649.423\" y1=\"1221.07\" x2=\"633.423\" y2=\"1221.07\" style=\"stroke:#0000ff; stroke-width:3.2; stroke-opacity:1\"/>\n",
       "<line clip-path=\"url(#clip902)\" x1=\"649.423\" y1=\"1221.07\" x2=\"649.423\" y2=\"1237.07\" style=\"stroke:#0000ff; stroke-width:3.2; stroke-opacity:1\"/>\n",
       "<line clip-path=\"url(#clip902)\" x1=\"649.423\" y1=\"1221.07\" x2=\"665.423\" y2=\"1221.07\" style=\"stroke:#0000ff; stroke-width:3.2; stroke-opacity:1\"/>\n",
       "<line clip-path=\"url(#clip902)\" x1=\"690.497\" y1=\"1212.73\" x2=\"690.497\" y2=\"1196.73\" style=\"stroke:#0000ff; stroke-width:3.2; stroke-opacity:1\"/>\n",
       "<line clip-path=\"url(#clip902)\" x1=\"690.497\" y1=\"1212.73\" x2=\"674.497\" y2=\"1212.73\" style=\"stroke:#0000ff; stroke-width:3.2; stroke-opacity:1\"/>\n",
       "<line clip-path=\"url(#clip902)\" x1=\"690.497\" y1=\"1212.73\" x2=\"690.497\" y2=\"1228.73\" style=\"stroke:#0000ff; stroke-width:3.2; stroke-opacity:1\"/>\n",
       "<line clip-path=\"url(#clip902)\" x1=\"690.497\" y1=\"1212.73\" x2=\"706.497\" y2=\"1212.73\" style=\"stroke:#0000ff; stroke-width:3.2; stroke-opacity:1\"/>\n",
       "<line clip-path=\"url(#clip902)\" x1=\"731.571\" y1=\"1216.9\" x2=\"731.571\" y2=\"1200.9\" style=\"stroke:#0000ff; stroke-width:3.2; stroke-opacity:1\"/>\n",
       "<line clip-path=\"url(#clip902)\" x1=\"731.571\" y1=\"1216.9\" x2=\"715.571\" y2=\"1216.9\" style=\"stroke:#0000ff; stroke-width:3.2; stroke-opacity:1\"/>\n",
       "<line clip-path=\"url(#clip902)\" x1=\"731.571\" y1=\"1216.9\" x2=\"731.571\" y2=\"1232.9\" style=\"stroke:#0000ff; stroke-width:3.2; stroke-opacity:1\"/>\n",
       "<line clip-path=\"url(#clip902)\" x1=\"731.571\" y1=\"1216.9\" x2=\"747.571\" y2=\"1216.9\" style=\"stroke:#0000ff; stroke-width:3.2; stroke-opacity:1\"/>\n",
       "<line clip-path=\"url(#clip902)\" x1=\"772.645\" y1=\"1291.97\" x2=\"772.645\" y2=\"1275.97\" style=\"stroke:#0000ff; stroke-width:3.2; stroke-opacity:1\"/>\n",
       "<line clip-path=\"url(#clip902)\" x1=\"772.645\" y1=\"1291.97\" x2=\"756.645\" y2=\"1291.97\" style=\"stroke:#0000ff; stroke-width:3.2; stroke-opacity:1\"/>\n",
       "<line clip-path=\"url(#clip902)\" x1=\"772.645\" y1=\"1291.97\" x2=\"772.645\" y2=\"1307.97\" style=\"stroke:#0000ff; stroke-width:3.2; stroke-opacity:1\"/>\n",
       "<line clip-path=\"url(#clip902)\" x1=\"772.645\" y1=\"1291.97\" x2=\"788.645\" y2=\"1291.97\" style=\"stroke:#0000ff; stroke-width:3.2; stroke-opacity:1\"/>\n",
       "<line clip-path=\"url(#clip902)\" x1=\"813.719\" y1=\"1193.96\" x2=\"813.719\" y2=\"1177.96\" style=\"stroke:#0000ff; stroke-width:3.2; stroke-opacity:1\"/>\n",
       "<line clip-path=\"url(#clip902)\" x1=\"813.719\" y1=\"1193.96\" x2=\"797.719\" y2=\"1193.96\" style=\"stroke:#0000ff; stroke-width:3.2; stroke-opacity:1\"/>\n",
       "<line clip-path=\"url(#clip902)\" x1=\"813.719\" y1=\"1193.96\" x2=\"813.719\" y2=\"1209.96\" style=\"stroke:#0000ff; stroke-width:3.2; stroke-opacity:1\"/>\n",
       "<line clip-path=\"url(#clip902)\" x1=\"813.719\" y1=\"1193.96\" x2=\"829.719\" y2=\"1193.96\" style=\"stroke:#0000ff; stroke-width:3.2; stroke-opacity:1\"/>\n",
       "<line clip-path=\"url(#clip902)\" x1=\"854.793\" y1=\"1253.91\" x2=\"854.793\" y2=\"1237.91\" style=\"stroke:#0000ff; stroke-width:3.2; stroke-opacity:1\"/>\n",
       "<line clip-path=\"url(#clip902)\" x1=\"854.793\" y1=\"1253.91\" x2=\"838.793\" y2=\"1253.91\" style=\"stroke:#0000ff; stroke-width:3.2; stroke-opacity:1\"/>\n",
       "<line clip-path=\"url(#clip902)\" x1=\"854.793\" y1=\"1253.91\" x2=\"854.793\" y2=\"1269.91\" style=\"stroke:#0000ff; stroke-width:3.2; stroke-opacity:1\"/>\n",
       "<line clip-path=\"url(#clip902)\" x1=\"854.793\" y1=\"1253.91\" x2=\"870.793\" y2=\"1253.91\" style=\"stroke:#0000ff; stroke-width:3.2; stroke-opacity:1\"/>\n",
       "<line clip-path=\"url(#clip902)\" x1=\"895.866\" y1=\"1282.06\" x2=\"895.866\" y2=\"1266.06\" style=\"stroke:#0000ff; stroke-width:3.2; stroke-opacity:1\"/>\n",
       "<line clip-path=\"url(#clip902)\" x1=\"895.866\" y1=\"1282.06\" x2=\"879.866\" y2=\"1282.06\" style=\"stroke:#0000ff; stroke-width:3.2; stroke-opacity:1\"/>\n",
       "<line clip-path=\"url(#clip902)\" x1=\"895.866\" y1=\"1282.06\" x2=\"895.866\" y2=\"1298.06\" style=\"stroke:#0000ff; stroke-width:3.2; stroke-opacity:1\"/>\n",
       "<line clip-path=\"url(#clip902)\" x1=\"895.866\" y1=\"1282.06\" x2=\"911.866\" y2=\"1282.06\" style=\"stroke:#0000ff; stroke-width:3.2; stroke-opacity:1\"/>\n",
       "<line clip-path=\"url(#clip902)\" x1=\"936.94\" y1=\"1099.61\" x2=\"936.94\" y2=\"1083.61\" style=\"stroke:#0000ff; stroke-width:3.2; stroke-opacity:1\"/>\n",
       "<line clip-path=\"url(#clip902)\" x1=\"936.94\" y1=\"1099.61\" x2=\"920.94\" y2=\"1099.61\" style=\"stroke:#0000ff; stroke-width:3.2; stroke-opacity:1\"/>\n",
       "<line clip-path=\"url(#clip902)\" x1=\"936.94\" y1=\"1099.61\" x2=\"936.94\" y2=\"1115.61\" style=\"stroke:#0000ff; stroke-width:3.2; stroke-opacity:1\"/>\n",
       "<line clip-path=\"url(#clip902)\" x1=\"936.94\" y1=\"1099.61\" x2=\"952.94\" y2=\"1099.61\" style=\"stroke:#0000ff; stroke-width:3.2; stroke-opacity:1\"/>\n",
       "<line clip-path=\"url(#clip902)\" x1=\"978.014\" y1=\"1194.48\" x2=\"978.014\" y2=\"1178.48\" style=\"stroke:#0000ff; stroke-width:3.2; stroke-opacity:1\"/>\n",
       "<line clip-path=\"url(#clip902)\" x1=\"978.014\" y1=\"1194.48\" x2=\"962.014\" y2=\"1194.48\" style=\"stroke:#0000ff; stroke-width:3.2; stroke-opacity:1\"/>\n",
       "<line clip-path=\"url(#clip902)\" x1=\"978.014\" y1=\"1194.48\" x2=\"978.014\" y2=\"1210.48\" style=\"stroke:#0000ff; stroke-width:3.2; stroke-opacity:1\"/>\n",
       "<line clip-path=\"url(#clip902)\" x1=\"978.014\" y1=\"1194.48\" x2=\"994.014\" y2=\"1194.48\" style=\"stroke:#0000ff; stroke-width:3.2; stroke-opacity:1\"/>\n",
       "<line clip-path=\"url(#clip902)\" x1=\"1019.09\" y1=\"1245.57\" x2=\"1019.09\" y2=\"1229.57\" style=\"stroke:#0000ff; stroke-width:3.2; stroke-opacity:1\"/>\n",
       "<line clip-path=\"url(#clip902)\" x1=\"1019.09\" y1=\"1245.57\" x2=\"1003.09\" y2=\"1245.57\" style=\"stroke:#0000ff; stroke-width:3.2; stroke-opacity:1\"/>\n",
       "<line clip-path=\"url(#clip902)\" x1=\"1019.09\" y1=\"1245.57\" x2=\"1019.09\" y2=\"1261.57\" style=\"stroke:#0000ff; stroke-width:3.2; stroke-opacity:1\"/>\n",
       "<line clip-path=\"url(#clip902)\" x1=\"1019.09\" y1=\"1245.57\" x2=\"1035.09\" y2=\"1245.57\" style=\"stroke:#0000ff; stroke-width:3.2; stroke-opacity:1\"/>\n",
       "<line clip-path=\"url(#clip902)\" x1=\"1060.16\" y1=\"1209.6\" x2=\"1060.16\" y2=\"1193.6\" style=\"stroke:#0000ff; stroke-width:3.2; stroke-opacity:1\"/>\n",
       "<line clip-path=\"url(#clip902)\" x1=\"1060.16\" y1=\"1209.6\" x2=\"1044.16\" y2=\"1209.6\" style=\"stroke:#0000ff; stroke-width:3.2; stroke-opacity:1\"/>\n",
       "<line clip-path=\"url(#clip902)\" x1=\"1060.16\" y1=\"1209.6\" x2=\"1060.16\" y2=\"1225.6\" style=\"stroke:#0000ff; stroke-width:3.2; stroke-opacity:1\"/>\n",
       "<line clip-path=\"url(#clip902)\" x1=\"1060.16\" y1=\"1209.6\" x2=\"1076.16\" y2=\"1209.6\" style=\"stroke:#0000ff; stroke-width:3.2; stroke-opacity:1\"/>\n",
       "<line clip-path=\"url(#clip902)\" x1=\"1101.24\" y1=\"1189.27\" x2=\"1101.24\" y2=\"1173.27\" style=\"stroke:#0000ff; stroke-width:3.2; stroke-opacity:1\"/>\n",
       "<line clip-path=\"url(#clip902)\" x1=\"1101.24\" y1=\"1189.27\" x2=\"1085.24\" y2=\"1189.27\" style=\"stroke:#0000ff; stroke-width:3.2; stroke-opacity:1\"/>\n",
       "<line clip-path=\"url(#clip902)\" x1=\"1101.24\" y1=\"1189.27\" x2=\"1101.24\" y2=\"1205.27\" style=\"stroke:#0000ff; stroke-width:3.2; stroke-opacity:1\"/>\n",
       "<line clip-path=\"url(#clip902)\" x1=\"1101.24\" y1=\"1189.27\" x2=\"1117.24\" y2=\"1189.27\" style=\"stroke:#0000ff; stroke-width:3.2; stroke-opacity:1\"/>\n",
       "<line clip-path=\"url(#clip902)\" x1=\"1142.31\" y1=\"1205.95\" x2=\"1142.31\" y2=\"1189.95\" style=\"stroke:#0000ff; stroke-width:3.2; stroke-opacity:1\"/>\n",
       "<line clip-path=\"url(#clip902)\" x1=\"1142.31\" y1=\"1205.95\" x2=\"1126.31\" y2=\"1205.95\" style=\"stroke:#0000ff; stroke-width:3.2; stroke-opacity:1\"/>\n",
       "<line clip-path=\"url(#clip902)\" x1=\"1142.31\" y1=\"1205.95\" x2=\"1142.31\" y2=\"1221.95\" style=\"stroke:#0000ff; stroke-width:3.2; stroke-opacity:1\"/>\n",
       "<line clip-path=\"url(#clip902)\" x1=\"1142.31\" y1=\"1205.95\" x2=\"1158.31\" y2=\"1205.95\" style=\"stroke:#0000ff; stroke-width:3.2; stroke-opacity:1\"/>\n",
       "<line clip-path=\"url(#clip902)\" x1=\"1183.38\" y1=\"1213.25\" x2=\"1183.38\" y2=\"1197.25\" style=\"stroke:#0000ff; stroke-width:3.2; stroke-opacity:1\"/>\n",
       "<line clip-path=\"url(#clip902)\" x1=\"1183.38\" y1=\"1213.25\" x2=\"1167.38\" y2=\"1213.25\" style=\"stroke:#0000ff; stroke-width:3.2; stroke-opacity:1\"/>\n",
       "<line clip-path=\"url(#clip902)\" x1=\"1183.38\" y1=\"1213.25\" x2=\"1183.38\" y2=\"1229.25\" style=\"stroke:#0000ff; stroke-width:3.2; stroke-opacity:1\"/>\n",
       "<line clip-path=\"url(#clip902)\" x1=\"1183.38\" y1=\"1213.25\" x2=\"1199.38\" y2=\"1213.25\" style=\"stroke:#0000ff; stroke-width:3.2; stroke-opacity:1\"/>\n",
       "<line clip-path=\"url(#clip902)\" x1=\"1224.46\" y1=\"1186.66\" x2=\"1224.46\" y2=\"1170.66\" style=\"stroke:#0000ff; stroke-width:3.2; stroke-opacity:1\"/>\n",
       "<line clip-path=\"url(#clip902)\" x1=\"1224.46\" y1=\"1186.66\" x2=\"1208.46\" y2=\"1186.66\" style=\"stroke:#0000ff; stroke-width:3.2; stroke-opacity:1\"/>\n",
       "<line clip-path=\"url(#clip902)\" x1=\"1224.46\" y1=\"1186.66\" x2=\"1224.46\" y2=\"1202.66\" style=\"stroke:#0000ff; stroke-width:3.2; stroke-opacity:1\"/>\n",
       "<line clip-path=\"url(#clip902)\" x1=\"1224.46\" y1=\"1186.66\" x2=\"1240.46\" y2=\"1186.66\" style=\"stroke:#0000ff; stroke-width:3.2; stroke-opacity:1\"/>\n",
       "<line clip-path=\"url(#clip902)\" x1=\"1265.53\" y1=\"1186.14\" x2=\"1265.53\" y2=\"1170.14\" style=\"stroke:#0000ff; stroke-width:3.2; stroke-opacity:1\"/>\n",
       "<line clip-path=\"url(#clip902)\" x1=\"1265.53\" y1=\"1186.14\" x2=\"1249.53\" y2=\"1186.14\" style=\"stroke:#0000ff; stroke-width:3.2; stroke-opacity:1\"/>\n",
       "<line clip-path=\"url(#clip902)\" x1=\"1265.53\" y1=\"1186.14\" x2=\"1265.53\" y2=\"1202.14\" style=\"stroke:#0000ff; stroke-width:3.2; stroke-opacity:1\"/>\n",
       "<line clip-path=\"url(#clip902)\" x1=\"1265.53\" y1=\"1186.14\" x2=\"1281.53\" y2=\"1186.14\" style=\"stroke:#0000ff; stroke-width:3.2; stroke-opacity:1\"/>\n",
       "<line clip-path=\"url(#clip902)\" x1=\"1306.6\" y1=\"1161.64\" x2=\"1306.6\" y2=\"1145.64\" style=\"stroke:#0000ff; stroke-width:3.2; stroke-opacity:1\"/>\n",
       "<line clip-path=\"url(#clip902)\" x1=\"1306.6\" y1=\"1161.64\" x2=\"1290.6\" y2=\"1161.64\" style=\"stroke:#0000ff; stroke-width:3.2; stroke-opacity:1\"/>\n",
       "<line clip-path=\"url(#clip902)\" x1=\"1306.6\" y1=\"1161.64\" x2=\"1306.6\" y2=\"1177.64\" style=\"stroke:#0000ff; stroke-width:3.2; stroke-opacity:1\"/>\n",
       "<line clip-path=\"url(#clip902)\" x1=\"1306.6\" y1=\"1161.64\" x2=\"1322.6\" y2=\"1161.64\" style=\"stroke:#0000ff; stroke-width:3.2; stroke-opacity:1\"/>\n",
       "<line clip-path=\"url(#clip902)\" x1=\"1347.68\" y1=\"1160.6\" x2=\"1347.68\" y2=\"1144.6\" style=\"stroke:#0000ff; stroke-width:3.2; stroke-opacity:1\"/>\n",
       "<line clip-path=\"url(#clip902)\" x1=\"1347.68\" y1=\"1160.6\" x2=\"1331.68\" y2=\"1160.6\" style=\"stroke:#0000ff; stroke-width:3.2; stroke-opacity:1\"/>\n",
       "<line clip-path=\"url(#clip902)\" x1=\"1347.68\" y1=\"1160.6\" x2=\"1347.68\" y2=\"1176.6\" style=\"stroke:#0000ff; stroke-width:3.2; stroke-opacity:1\"/>\n",
       "<line clip-path=\"url(#clip902)\" x1=\"1347.68\" y1=\"1160.6\" x2=\"1363.68\" y2=\"1160.6\" style=\"stroke:#0000ff; stroke-width:3.2; stroke-opacity:1\"/>\n",
       "<line clip-path=\"url(#clip902)\" x1=\"1388.75\" y1=\"1021.93\" x2=\"1388.75\" y2=\"1005.93\" style=\"stroke:#0000ff; stroke-width:3.2; stroke-opacity:1\"/>\n",
       "<line clip-path=\"url(#clip902)\" x1=\"1388.75\" y1=\"1021.93\" x2=\"1372.75\" y2=\"1021.93\" style=\"stroke:#0000ff; stroke-width:3.2; stroke-opacity:1\"/>\n",
       "<line clip-path=\"url(#clip902)\" x1=\"1388.75\" y1=\"1021.93\" x2=\"1388.75\" y2=\"1037.93\" style=\"stroke:#0000ff; stroke-width:3.2; stroke-opacity:1\"/>\n",
       "<line clip-path=\"url(#clip902)\" x1=\"1388.75\" y1=\"1021.93\" x2=\"1404.75\" y2=\"1021.93\" style=\"stroke:#0000ff; stroke-width:3.2; stroke-opacity:1\"/>\n",
       "<line clip-path=\"url(#clip902)\" x1=\"1429.83\" y1=\"1125.67\" x2=\"1429.83\" y2=\"1109.67\" style=\"stroke:#0000ff; stroke-width:3.2; stroke-opacity:1\"/>\n",
       "<line clip-path=\"url(#clip902)\" x1=\"1429.83\" y1=\"1125.67\" x2=\"1413.83\" y2=\"1125.67\" style=\"stroke:#0000ff; stroke-width:3.2; stroke-opacity:1\"/>\n",
       "<line clip-path=\"url(#clip902)\" x1=\"1429.83\" y1=\"1125.67\" x2=\"1429.83\" y2=\"1141.67\" style=\"stroke:#0000ff; stroke-width:3.2; stroke-opacity:1\"/>\n",
       "<line clip-path=\"url(#clip902)\" x1=\"1429.83\" y1=\"1125.67\" x2=\"1445.83\" y2=\"1125.67\" style=\"stroke:#0000ff; stroke-width:3.2; stroke-opacity:1\"/>\n",
       "<line clip-path=\"url(#clip902)\" x1=\"1470.9\" y1=\"1167.9\" x2=\"1470.9\" y2=\"1151.9\" style=\"stroke:#0000ff; stroke-width:3.2; stroke-opacity:1\"/>\n",
       "<line clip-path=\"url(#clip902)\" x1=\"1470.9\" y1=\"1167.9\" x2=\"1454.9\" y2=\"1167.9\" style=\"stroke:#0000ff; stroke-width:3.2; stroke-opacity:1\"/>\n",
       "<line clip-path=\"url(#clip902)\" x1=\"1470.9\" y1=\"1167.9\" x2=\"1470.9\" y2=\"1183.9\" style=\"stroke:#0000ff; stroke-width:3.2; stroke-opacity:1\"/>\n",
       "<line clip-path=\"url(#clip902)\" x1=\"1470.9\" y1=\"1167.9\" x2=\"1486.9\" y2=\"1167.9\" style=\"stroke:#0000ff; stroke-width:3.2; stroke-opacity:1\"/>\n",
       "<line clip-path=\"url(#clip902)\" x1=\"1511.97\" y1=\"1086.57\" x2=\"1511.97\" y2=\"1070.57\" style=\"stroke:#0000ff; stroke-width:3.2; stroke-opacity:1\"/>\n",
       "<line clip-path=\"url(#clip902)\" x1=\"1511.97\" y1=\"1086.57\" x2=\"1495.97\" y2=\"1086.57\" style=\"stroke:#0000ff; stroke-width:3.2; stroke-opacity:1\"/>\n",
       "<line clip-path=\"url(#clip902)\" x1=\"1511.97\" y1=\"1086.57\" x2=\"1511.97\" y2=\"1102.57\" style=\"stroke:#0000ff; stroke-width:3.2; stroke-opacity:1\"/>\n",
       "<line clip-path=\"url(#clip902)\" x1=\"1511.97\" y1=\"1086.57\" x2=\"1527.97\" y2=\"1086.57\" style=\"stroke:#0000ff; stroke-width:3.2; stroke-opacity:1\"/>\n",
       "<line clip-path=\"url(#clip902)\" x1=\"1553.05\" y1=\"1014.11\" x2=\"1553.05\" y2=\"998.111\" style=\"stroke:#0000ff; stroke-width:3.2; stroke-opacity:1\"/>\n",
       "<line clip-path=\"url(#clip902)\" x1=\"1553.05\" y1=\"1014.11\" x2=\"1537.05\" y2=\"1014.11\" style=\"stroke:#0000ff; stroke-width:3.2; stroke-opacity:1\"/>\n",
       "<line clip-path=\"url(#clip902)\" x1=\"1553.05\" y1=\"1014.11\" x2=\"1553.05\" y2=\"1030.11\" style=\"stroke:#0000ff; stroke-width:3.2; stroke-opacity:1\"/>\n",
       "<line clip-path=\"url(#clip902)\" x1=\"1553.05\" y1=\"1014.11\" x2=\"1569.05\" y2=\"1014.11\" style=\"stroke:#0000ff; stroke-width:3.2; stroke-opacity:1\"/>\n",
       "<line clip-path=\"url(#clip902)\" x1=\"1594.12\" y1=\"1168.42\" x2=\"1594.12\" y2=\"1152.42\" style=\"stroke:#0000ff; stroke-width:3.2; stroke-opacity:1\"/>\n",
       "<line clip-path=\"url(#clip902)\" x1=\"1594.12\" y1=\"1168.42\" x2=\"1578.12\" y2=\"1168.42\" style=\"stroke:#0000ff; stroke-width:3.2; stroke-opacity:1\"/>\n",
       "<line clip-path=\"url(#clip902)\" x1=\"1594.12\" y1=\"1168.42\" x2=\"1594.12\" y2=\"1184.42\" style=\"stroke:#0000ff; stroke-width:3.2; stroke-opacity:1\"/>\n",
       "<line clip-path=\"url(#clip902)\" x1=\"1594.12\" y1=\"1168.42\" x2=\"1610.12\" y2=\"1168.42\" style=\"stroke:#0000ff; stroke-width:3.2; stroke-opacity:1\"/>\n",
       "<line clip-path=\"url(#clip902)\" x1=\"1635.2\" y1=\"1138.18\" x2=\"1635.2\" y2=\"1122.18\" style=\"stroke:#0000ff; stroke-width:3.2; stroke-opacity:1\"/>\n",
       "<line clip-path=\"url(#clip902)\" x1=\"1635.2\" y1=\"1138.18\" x2=\"1619.2\" y2=\"1138.18\" style=\"stroke:#0000ff; stroke-width:3.2; stroke-opacity:1\"/>\n",
       "<line clip-path=\"url(#clip902)\" x1=\"1635.2\" y1=\"1138.18\" x2=\"1635.2\" y2=\"1154.18\" style=\"stroke:#0000ff; stroke-width:3.2; stroke-opacity:1\"/>\n",
       "<line clip-path=\"url(#clip902)\" x1=\"1635.2\" y1=\"1138.18\" x2=\"1651.2\" y2=\"1138.18\" style=\"stroke:#0000ff; stroke-width:3.2; stroke-opacity:1\"/>\n",
       "<line clip-path=\"url(#clip902)\" x1=\"1676.27\" y1=\"1120.98\" x2=\"1676.27\" y2=\"1104.98\" style=\"stroke:#0000ff; stroke-width:3.2; stroke-opacity:1\"/>\n",
       "<line clip-path=\"url(#clip902)\" x1=\"1676.27\" y1=\"1120.98\" x2=\"1660.27\" y2=\"1120.98\" style=\"stroke:#0000ff; stroke-width:3.2; stroke-opacity:1\"/>\n",
       "<line clip-path=\"url(#clip902)\" x1=\"1676.27\" y1=\"1120.98\" x2=\"1676.27\" y2=\"1136.98\" style=\"stroke:#0000ff; stroke-width:3.2; stroke-opacity:1\"/>\n",
       "<line clip-path=\"url(#clip902)\" x1=\"1676.27\" y1=\"1120.98\" x2=\"1692.27\" y2=\"1120.98\" style=\"stroke:#0000ff; stroke-width:3.2; stroke-opacity:1\"/>\n",
       "<line clip-path=\"url(#clip902)\" x1=\"1717.34\" y1=\"1081.36\" x2=\"1717.34\" y2=\"1065.36\" style=\"stroke:#0000ff; stroke-width:3.2; stroke-opacity:1\"/>\n",
       "<line clip-path=\"url(#clip902)\" x1=\"1717.34\" y1=\"1081.36\" x2=\"1701.34\" y2=\"1081.36\" style=\"stroke:#0000ff; stroke-width:3.2; stroke-opacity:1\"/>\n",
       "<line clip-path=\"url(#clip902)\" x1=\"1717.34\" y1=\"1081.36\" x2=\"1717.34\" y2=\"1097.36\" style=\"stroke:#0000ff; stroke-width:3.2; stroke-opacity:1\"/>\n",
       "<line clip-path=\"url(#clip902)\" x1=\"1717.34\" y1=\"1081.36\" x2=\"1733.34\" y2=\"1081.36\" style=\"stroke:#0000ff; stroke-width:3.2; stroke-opacity:1\"/>\n",
       "<line clip-path=\"url(#clip902)\" x1=\"1758.42\" y1=\"1153.82\" x2=\"1758.42\" y2=\"1137.82\" style=\"stroke:#0000ff; stroke-width:3.2; stroke-opacity:1\"/>\n",
       "<line clip-path=\"url(#clip902)\" x1=\"1758.42\" y1=\"1153.82\" x2=\"1742.42\" y2=\"1153.82\" style=\"stroke:#0000ff; stroke-width:3.2; stroke-opacity:1\"/>\n",
       "<line clip-path=\"url(#clip902)\" x1=\"1758.42\" y1=\"1153.82\" x2=\"1758.42\" y2=\"1169.82\" style=\"stroke:#0000ff; stroke-width:3.2; stroke-opacity:1\"/>\n",
       "<line clip-path=\"url(#clip902)\" x1=\"1758.42\" y1=\"1153.82\" x2=\"1774.42\" y2=\"1153.82\" style=\"stroke:#0000ff; stroke-width:3.2; stroke-opacity:1\"/>\n",
       "<line clip-path=\"url(#clip902)\" x1=\"1799.49\" y1=\"1122.02\" x2=\"1799.49\" y2=\"1106.02\" style=\"stroke:#0000ff; stroke-width:3.2; stroke-opacity:1\"/>\n",
       "<line clip-path=\"url(#clip902)\" x1=\"1799.49\" y1=\"1122.02\" x2=\"1783.49\" y2=\"1122.02\" style=\"stroke:#0000ff; stroke-width:3.2; stroke-opacity:1\"/>\n",
       "<line clip-path=\"url(#clip902)\" x1=\"1799.49\" y1=\"1122.02\" x2=\"1799.49\" y2=\"1138.02\" style=\"stroke:#0000ff; stroke-width:3.2; stroke-opacity:1\"/>\n",
       "<line clip-path=\"url(#clip902)\" x1=\"1799.49\" y1=\"1122.02\" x2=\"1815.49\" y2=\"1122.02\" style=\"stroke:#0000ff; stroke-width:3.2; stroke-opacity:1\"/>\n",
       "<line clip-path=\"url(#clip902)\" x1=\"1840.57\" y1=\"1076.15\" x2=\"1840.57\" y2=\"1060.15\" style=\"stroke:#0000ff; stroke-width:3.2; stroke-opacity:1\"/>\n",
       "<line clip-path=\"url(#clip902)\" x1=\"1840.57\" y1=\"1076.15\" x2=\"1824.57\" y2=\"1076.15\" style=\"stroke:#0000ff; stroke-width:3.2; stroke-opacity:1\"/>\n",
       "<line clip-path=\"url(#clip902)\" x1=\"1840.57\" y1=\"1076.15\" x2=\"1840.57\" y2=\"1092.15\" style=\"stroke:#0000ff; stroke-width:3.2; stroke-opacity:1\"/>\n",
       "<line clip-path=\"url(#clip902)\" x1=\"1840.57\" y1=\"1076.15\" x2=\"1856.57\" y2=\"1076.15\" style=\"stroke:#0000ff; stroke-width:3.2; stroke-opacity:1\"/>\n",
       "<line clip-path=\"url(#clip902)\" x1=\"1881.64\" y1=\"1078.75\" x2=\"1881.64\" y2=\"1062.75\" style=\"stroke:#0000ff; stroke-width:3.2; stroke-opacity:1\"/>\n",
       "<line clip-path=\"url(#clip902)\" x1=\"1881.64\" y1=\"1078.75\" x2=\"1865.64\" y2=\"1078.75\" style=\"stroke:#0000ff; stroke-width:3.2; stroke-opacity:1\"/>\n",
       "<line clip-path=\"url(#clip902)\" x1=\"1881.64\" y1=\"1078.75\" x2=\"1881.64\" y2=\"1094.75\" style=\"stroke:#0000ff; stroke-width:3.2; stroke-opacity:1\"/>\n",
       "<line clip-path=\"url(#clip902)\" x1=\"1881.64\" y1=\"1078.75\" x2=\"1897.64\" y2=\"1078.75\" style=\"stroke:#0000ff; stroke-width:3.2; stroke-opacity:1\"/>\n",
       "<line clip-path=\"url(#clip902)\" x1=\"1922.71\" y1=\"1085.53\" x2=\"1922.71\" y2=\"1069.53\" style=\"stroke:#0000ff; stroke-width:3.2; stroke-opacity:1\"/>\n",
       "<line clip-path=\"url(#clip902)\" x1=\"1922.71\" y1=\"1085.53\" x2=\"1906.71\" y2=\"1085.53\" style=\"stroke:#0000ff; stroke-width:3.2; stroke-opacity:1\"/>\n",
       "<line clip-path=\"url(#clip902)\" x1=\"1922.71\" y1=\"1085.53\" x2=\"1922.71\" y2=\"1101.53\" style=\"stroke:#0000ff; stroke-width:3.2; stroke-opacity:1\"/>\n",
       "<line clip-path=\"url(#clip902)\" x1=\"1922.71\" y1=\"1085.53\" x2=\"1938.71\" y2=\"1085.53\" style=\"stroke:#0000ff; stroke-width:3.2; stroke-opacity:1\"/>\n",
       "<line clip-path=\"url(#clip902)\" x1=\"1963.79\" y1=\"1050.6\" x2=\"1963.79\" y2=\"1034.6\" style=\"stroke:#0000ff; stroke-width:3.2; stroke-opacity:1\"/>\n",
       "<line clip-path=\"url(#clip902)\" x1=\"1963.79\" y1=\"1050.6\" x2=\"1947.79\" y2=\"1050.6\" style=\"stroke:#0000ff; stroke-width:3.2; stroke-opacity:1\"/>\n",
       "<line clip-path=\"url(#clip902)\" x1=\"1963.79\" y1=\"1050.6\" x2=\"1963.79\" y2=\"1066.6\" style=\"stroke:#0000ff; stroke-width:3.2; stroke-opacity:1\"/>\n",
       "<line clip-path=\"url(#clip902)\" x1=\"1963.79\" y1=\"1050.6\" x2=\"1979.79\" y2=\"1050.6\" style=\"stroke:#0000ff; stroke-width:3.2; stroke-opacity:1\"/>\n",
       "<line clip-path=\"url(#clip902)\" x1=\"2004.86\" y1=\"982.311\" x2=\"2004.86\" y2=\"966.311\" style=\"stroke:#0000ff; stroke-width:3.2; stroke-opacity:1\"/>\n",
       "<line clip-path=\"url(#clip902)\" x1=\"2004.86\" y1=\"982.311\" x2=\"1988.86\" y2=\"982.311\" style=\"stroke:#0000ff; stroke-width:3.2; stroke-opacity:1\"/>\n",
       "<line clip-path=\"url(#clip902)\" x1=\"2004.86\" y1=\"982.311\" x2=\"2004.86\" y2=\"998.311\" style=\"stroke:#0000ff; stroke-width:3.2; stroke-opacity:1\"/>\n",
       "<line clip-path=\"url(#clip902)\" x1=\"2004.86\" y1=\"982.311\" x2=\"2020.86\" y2=\"982.311\" style=\"stroke:#0000ff; stroke-width:3.2; stroke-opacity:1\"/>\n",
       "<line clip-path=\"url(#clip902)\" x1=\"2045.93\" y1=\"1025.06\" x2=\"2045.93\" y2=\"1009.06\" style=\"stroke:#0000ff; stroke-width:3.2; stroke-opacity:1\"/>\n",
       "<line clip-path=\"url(#clip902)\" x1=\"2045.93\" y1=\"1025.06\" x2=\"2029.93\" y2=\"1025.06\" style=\"stroke:#0000ff; stroke-width:3.2; stroke-opacity:1\"/>\n",
       "<line clip-path=\"url(#clip902)\" x1=\"2045.93\" y1=\"1025.06\" x2=\"2045.93\" y2=\"1041.06\" style=\"stroke:#0000ff; stroke-width:3.2; stroke-opacity:1\"/>\n",
       "<line clip-path=\"url(#clip902)\" x1=\"2045.93\" y1=\"1025.06\" x2=\"2061.93\" y2=\"1025.06\" style=\"stroke:#0000ff; stroke-width:3.2; stroke-opacity:1\"/>\n",
       "<line clip-path=\"url(#clip902)\" x1=\"2087.01\" y1=\"1025.06\" x2=\"2087.01\" y2=\"1009.06\" style=\"stroke:#0000ff; stroke-width:3.2; stroke-opacity:1\"/>\n",
       "<line clip-path=\"url(#clip902)\" x1=\"2087.01\" y1=\"1025.06\" x2=\"2071.01\" y2=\"1025.06\" style=\"stroke:#0000ff; stroke-width:3.2; stroke-opacity:1\"/>\n",
       "<line clip-path=\"url(#clip902)\" x1=\"2087.01\" y1=\"1025.06\" x2=\"2087.01\" y2=\"1041.06\" style=\"stroke:#0000ff; stroke-width:3.2; stroke-opacity:1\"/>\n",
       "<line clip-path=\"url(#clip902)\" x1=\"2087.01\" y1=\"1025.06\" x2=\"2103.01\" y2=\"1025.06\" style=\"stroke:#0000ff; stroke-width:3.2; stroke-opacity:1\"/>\n",
       "<line clip-path=\"url(#clip902)\" x1=\"2128.08\" y1=\"854.591\" x2=\"2128.08\" y2=\"838.591\" style=\"stroke:#0000ff; stroke-width:3.2; stroke-opacity:1\"/>\n",
       "<line clip-path=\"url(#clip902)\" x1=\"2128.08\" y1=\"854.591\" x2=\"2112.08\" y2=\"854.591\" style=\"stroke:#0000ff; stroke-width:3.2; stroke-opacity:1\"/>\n",
       "<line clip-path=\"url(#clip902)\" x1=\"2128.08\" y1=\"854.591\" x2=\"2128.08\" y2=\"870.591\" style=\"stroke:#0000ff; stroke-width:3.2; stroke-opacity:1\"/>\n",
       "<line clip-path=\"url(#clip902)\" x1=\"2128.08\" y1=\"854.591\" x2=\"2144.08\" y2=\"854.591\" style=\"stroke:#0000ff; stroke-width:3.2; stroke-opacity:1\"/>\n",
       "<line clip-path=\"url(#clip902)\" x1=\"2169.16\" y1=\"1024.02\" x2=\"2169.16\" y2=\"1008.02\" style=\"stroke:#0000ff; stroke-width:3.2; stroke-opacity:1\"/>\n",
       "<line clip-path=\"url(#clip902)\" x1=\"2169.16\" y1=\"1024.02\" x2=\"2153.16\" y2=\"1024.02\" style=\"stroke:#0000ff; stroke-width:3.2; stroke-opacity:1\"/>\n",
       "<line clip-path=\"url(#clip902)\" x1=\"2169.16\" y1=\"1024.02\" x2=\"2169.16\" y2=\"1040.02\" style=\"stroke:#0000ff; stroke-width:3.2; stroke-opacity:1\"/>\n",
       "<line clip-path=\"url(#clip902)\" x1=\"2169.16\" y1=\"1024.02\" x2=\"2185.16\" y2=\"1024.02\" style=\"stroke:#0000ff; stroke-width:3.2; stroke-opacity:1\"/>\n",
       "<line clip-path=\"url(#clip902)\" x1=\"2210.23\" y1=\"988.046\" x2=\"2210.23\" y2=\"972.046\" style=\"stroke:#0000ff; stroke-width:3.2; stroke-opacity:1\"/>\n",
       "<line clip-path=\"url(#clip902)\" x1=\"2210.23\" y1=\"988.046\" x2=\"2194.23\" y2=\"988.046\" style=\"stroke:#0000ff; stroke-width:3.2; stroke-opacity:1\"/>\n",
       "<line clip-path=\"url(#clip902)\" x1=\"2210.23\" y1=\"988.046\" x2=\"2210.23\" y2=\"1004.05\" style=\"stroke:#0000ff; stroke-width:3.2; stroke-opacity:1\"/>\n",
       "<line clip-path=\"url(#clip902)\" x1=\"2210.23\" y1=\"988.046\" x2=\"2226.23\" y2=\"988.046\" style=\"stroke:#0000ff; stroke-width:3.2; stroke-opacity:1\"/>\n",
       "<line clip-path=\"url(#clip902)\" x1=\"2251.3\" y1=\"984.918\" x2=\"2251.3\" y2=\"968.918\" style=\"stroke:#0000ff; stroke-width:3.2; stroke-opacity:1\"/>\n",
       "<line clip-path=\"url(#clip902)\" x1=\"2251.3\" y1=\"984.918\" x2=\"2235.3\" y2=\"984.918\" style=\"stroke:#0000ff; stroke-width:3.2; stroke-opacity:1\"/>\n",
       "<line clip-path=\"url(#clip902)\" x1=\"2251.3\" y1=\"984.918\" x2=\"2251.3\" y2=\"1000.92\" style=\"stroke:#0000ff; stroke-width:3.2; stroke-opacity:1\"/>\n",
       "<line clip-path=\"url(#clip902)\" x1=\"2251.3\" y1=\"984.918\" x2=\"2267.3\" y2=\"984.918\" style=\"stroke:#0000ff; stroke-width:3.2; stroke-opacity:1\"/>\n",
       "<line clip-path=\"url(#clip902)\" x1=\"2292.38\" y1=\"994.301\" x2=\"2292.38\" y2=\"978.301\" style=\"stroke:#0000ff; stroke-width:3.2; stroke-opacity:1\"/>\n",
       "<line clip-path=\"url(#clip902)\" x1=\"2292.38\" y1=\"994.301\" x2=\"2276.38\" y2=\"994.301\" style=\"stroke:#0000ff; stroke-width:3.2; stroke-opacity:1\"/>\n",
       "<line clip-path=\"url(#clip902)\" x1=\"2292.38\" y1=\"994.301\" x2=\"2292.38\" y2=\"1010.3\" style=\"stroke:#0000ff; stroke-width:3.2; stroke-opacity:1\"/>\n",
       "<line clip-path=\"url(#clip902)\" x1=\"2292.38\" y1=\"994.301\" x2=\"2308.38\" y2=\"994.301\" style=\"stroke:#0000ff; stroke-width:3.2; stroke-opacity:1\"/>\n",
       "<polyline clip-path=\"url(#clip902)\" style=\"stroke:#ff0000; stroke-linecap:round; stroke-linejoin:round; stroke-width:4; stroke-opacity:1; fill:none\" points=\"279.759,1096.48 320.833,1092.83 361.906,1332.11 402.98,1278.41 444.054,1316.47 485.128,1302.91 526.202,1308.13 567.276,1283.1 608.35,1284.15 649.423,1205.95 690.497,1262.25 731.571,1254.43 772.645,1238.79 813.719,1220.03 854.793,1120.46 895.866,1143.39 936.94,1130.88 978.014,1120.46 1019.09,1074.58 1060.16,1029.75 1101.24,983.354 1142.31,1019.32 1183.38,952.597 1224.46,976.577 1265.53,937.479 1306.6,873.879 1347.68,888.476 1388.75,801.939 1429.83,741.989 1470.9,742.51 1511.97,780.565 1553.05,726.871 1594.12,706.54 1635.2,583.512 1676.27,473.516 1717.34,581.948 1758.42,525.126 1799.49,568.394 1840.57,516.785 1881.64,482.9 1922.71,482.378 1963.79,403.661 2004.86,149.785 2045.93,300.443 2087.01,335.37 2128.08,287.931 2169.16,86.1857 2210.23,267.6 2251.3,234.758 2292.38,168.552 \"/>\n",
       "<path clip-path=\"url(#clip902)\" d=\"M279.759 1080.48 L263.759 1096.48 L279.759 1112.48 L295.759 1096.48 L279.759 1080.48 Z\" fill=\"#ff0000\" fill-rule=\"evenodd\" fill-opacity=\"1\" stroke=\"#000000\" stroke-opacity=\"1\" stroke-width=\"3.2\"/>\n",
       "<path clip-path=\"url(#clip902)\" d=\"M320.833 1076.83 L304.833 1092.83 L320.833 1108.83 L336.833 1092.83 L320.833 1076.83 Z\" fill=\"#ff0000\" fill-rule=\"evenodd\" fill-opacity=\"1\" stroke=\"#000000\" stroke-opacity=\"1\" stroke-width=\"3.2\"/>\n",
       "<path clip-path=\"url(#clip902)\" d=\"M361.906 1316.11 L345.906 1332.11 L361.906 1348.11 L377.906 1332.11 L361.906 1316.11 Z\" fill=\"#ff0000\" fill-rule=\"evenodd\" fill-opacity=\"1\" stroke=\"#000000\" stroke-opacity=\"1\" stroke-width=\"3.2\"/>\n",
       "<path clip-path=\"url(#clip902)\" d=\"M402.98 1262.41 L386.98 1278.41 L402.98 1294.41 L418.98 1278.41 L402.98 1262.41 Z\" fill=\"#ff0000\" fill-rule=\"evenodd\" fill-opacity=\"1\" stroke=\"#000000\" stroke-opacity=\"1\" stroke-width=\"3.2\"/>\n",
       "<path clip-path=\"url(#clip902)\" d=\"M444.054 1300.47 L428.054 1316.47 L444.054 1332.47 L460.054 1316.47 L444.054 1300.47 Z\" fill=\"#ff0000\" fill-rule=\"evenodd\" fill-opacity=\"1\" stroke=\"#000000\" stroke-opacity=\"1\" stroke-width=\"3.2\"/>\n",
       "<path clip-path=\"url(#clip902)\" d=\"M485.128 1286.91 L469.128 1302.91 L485.128 1318.91 L501.128 1302.91 L485.128 1286.91 Z\" fill=\"#ff0000\" fill-rule=\"evenodd\" fill-opacity=\"1\" stroke=\"#000000\" stroke-opacity=\"1\" stroke-width=\"3.2\"/>\n",
       "<path clip-path=\"url(#clip902)\" d=\"M526.202 1292.13 L510.202 1308.13 L526.202 1324.13 L542.202 1308.13 L526.202 1292.13 Z\" fill=\"#ff0000\" fill-rule=\"evenodd\" fill-opacity=\"1\" stroke=\"#000000\" stroke-opacity=\"1\" stroke-width=\"3.2\"/>\n",
       "<path clip-path=\"url(#clip902)\" d=\"M567.276 1267.1 L551.276 1283.1 L567.276 1299.1 L583.276 1283.1 L567.276 1267.1 Z\" fill=\"#ff0000\" fill-rule=\"evenodd\" fill-opacity=\"1\" stroke=\"#000000\" stroke-opacity=\"1\" stroke-width=\"3.2\"/>\n",
       "<path clip-path=\"url(#clip902)\" d=\"M608.35 1268.15 L592.35 1284.15 L608.35 1300.15 L624.35 1284.15 L608.35 1268.15 Z\" fill=\"#ff0000\" fill-rule=\"evenodd\" fill-opacity=\"1\" stroke=\"#000000\" stroke-opacity=\"1\" stroke-width=\"3.2\"/>\n",
       "<path clip-path=\"url(#clip902)\" d=\"M649.423 1189.95 L633.423 1205.95 L649.423 1221.95 L665.423 1205.95 L649.423 1189.95 Z\" fill=\"#ff0000\" fill-rule=\"evenodd\" fill-opacity=\"1\" stroke=\"#000000\" stroke-opacity=\"1\" stroke-width=\"3.2\"/>\n",
       "<path clip-path=\"url(#clip902)\" d=\"M690.497 1246.25 L674.497 1262.25 L690.497 1278.25 L706.497 1262.25 L690.497 1246.25 Z\" fill=\"#ff0000\" fill-rule=\"evenodd\" fill-opacity=\"1\" stroke=\"#000000\" stroke-opacity=\"1\" stroke-width=\"3.2\"/>\n",
       "<path clip-path=\"url(#clip902)\" d=\"M731.571 1238.43 L715.571 1254.43 L731.571 1270.43 L747.571 1254.43 L731.571 1238.43 Z\" fill=\"#ff0000\" fill-rule=\"evenodd\" fill-opacity=\"1\" stroke=\"#000000\" stroke-opacity=\"1\" stroke-width=\"3.2\"/>\n",
       "<path clip-path=\"url(#clip902)\" d=\"M772.645 1222.79 L756.645 1238.79 L772.645 1254.79 L788.645 1238.79 L772.645 1222.79 Z\" fill=\"#ff0000\" fill-rule=\"evenodd\" fill-opacity=\"1\" stroke=\"#000000\" stroke-opacity=\"1\" stroke-width=\"3.2\"/>\n",
       "<path clip-path=\"url(#clip902)\" d=\"M813.719 1204.03 L797.719 1220.03 L813.719 1236.03 L829.719 1220.03 L813.719 1204.03 Z\" fill=\"#ff0000\" fill-rule=\"evenodd\" fill-opacity=\"1\" stroke=\"#000000\" stroke-opacity=\"1\" stroke-width=\"3.2\"/>\n",
       "<path clip-path=\"url(#clip902)\" d=\"M854.793 1104.46 L838.793 1120.46 L854.793 1136.46 L870.793 1120.46 L854.793 1104.46 Z\" fill=\"#ff0000\" fill-rule=\"evenodd\" fill-opacity=\"1\" stroke=\"#000000\" stroke-opacity=\"1\" stroke-width=\"3.2\"/>\n",
       "<path clip-path=\"url(#clip902)\" d=\"M895.866 1127.39 L879.866 1143.39 L895.866 1159.39 L911.866 1143.39 L895.866 1127.39 Z\" fill=\"#ff0000\" fill-rule=\"evenodd\" fill-opacity=\"1\" stroke=\"#000000\" stroke-opacity=\"1\" stroke-width=\"3.2\"/>\n",
       "<path clip-path=\"url(#clip902)\" d=\"M936.94 1114.88 L920.94 1130.88 L936.94 1146.88 L952.94 1130.88 L936.94 1114.88 Z\" fill=\"#ff0000\" fill-rule=\"evenodd\" fill-opacity=\"1\" stroke=\"#000000\" stroke-opacity=\"1\" stroke-width=\"3.2\"/>\n",
       "<path clip-path=\"url(#clip902)\" d=\"M978.014 1104.46 L962.014 1120.46 L978.014 1136.46 L994.014 1120.46 L978.014 1104.46 Z\" fill=\"#ff0000\" fill-rule=\"evenodd\" fill-opacity=\"1\" stroke=\"#000000\" stroke-opacity=\"1\" stroke-width=\"3.2\"/>\n",
       "<path clip-path=\"url(#clip902)\" d=\"M1019.09 1058.58 L1003.09 1074.58 L1019.09 1090.58 L1035.09 1074.58 L1019.09 1058.58 Z\" fill=\"#ff0000\" fill-rule=\"evenodd\" fill-opacity=\"1\" stroke=\"#000000\" stroke-opacity=\"1\" stroke-width=\"3.2\"/>\n",
       "<path clip-path=\"url(#clip902)\" d=\"M1060.16 1013.75 L1044.16 1029.75 L1060.16 1045.75 L1076.16 1029.75 L1060.16 1013.75 Z\" fill=\"#ff0000\" fill-rule=\"evenodd\" fill-opacity=\"1\" stroke=\"#000000\" stroke-opacity=\"1\" stroke-width=\"3.2\"/>\n",
       "<path clip-path=\"url(#clip902)\" d=\"M1101.24 967.354 L1085.24 983.354 L1101.24 999.354 L1117.24 983.354 L1101.24 967.354 Z\" fill=\"#ff0000\" fill-rule=\"evenodd\" fill-opacity=\"1\" stroke=\"#000000\" stroke-opacity=\"1\" stroke-width=\"3.2\"/>\n",
       "<path clip-path=\"url(#clip902)\" d=\"M1142.31 1003.32 L1126.31 1019.32 L1142.31 1035.32 L1158.31 1019.32 L1142.31 1003.32 Z\" fill=\"#ff0000\" fill-rule=\"evenodd\" fill-opacity=\"1\" stroke=\"#000000\" stroke-opacity=\"1\" stroke-width=\"3.2\"/>\n",
       "<path clip-path=\"url(#clip902)\" d=\"M1183.38 936.597 L1167.38 952.597 L1183.38 968.597 L1199.38 952.597 L1183.38 936.597 Z\" fill=\"#ff0000\" fill-rule=\"evenodd\" fill-opacity=\"1\" stroke=\"#000000\" stroke-opacity=\"1\" stroke-width=\"3.2\"/>\n",
       "<path clip-path=\"url(#clip902)\" d=\"M1224.46 960.577 L1208.46 976.577 L1224.46 992.577 L1240.46 976.577 L1224.46 960.577 Z\" fill=\"#ff0000\" fill-rule=\"evenodd\" fill-opacity=\"1\" stroke=\"#000000\" stroke-opacity=\"1\" stroke-width=\"3.2\"/>\n",
       "<path clip-path=\"url(#clip902)\" d=\"M1265.53 921.479 L1249.53 937.479 L1265.53 953.479 L1281.53 937.479 L1265.53 921.479 Z\" fill=\"#ff0000\" fill-rule=\"evenodd\" fill-opacity=\"1\" stroke=\"#000000\" stroke-opacity=\"1\" stroke-width=\"3.2\"/>\n",
       "<path clip-path=\"url(#clip902)\" d=\"M1306.6 857.879 L1290.6 873.879 L1306.6 889.879 L1322.6 873.879 L1306.6 857.879 Z\" fill=\"#ff0000\" fill-rule=\"evenodd\" fill-opacity=\"1\" stroke=\"#000000\" stroke-opacity=\"1\" stroke-width=\"3.2\"/>\n",
       "<path clip-path=\"url(#clip902)\" d=\"M1347.68 872.476 L1331.68 888.476 L1347.68 904.476 L1363.68 888.476 L1347.68 872.476 Z\" fill=\"#ff0000\" fill-rule=\"evenodd\" fill-opacity=\"1\" stroke=\"#000000\" stroke-opacity=\"1\" stroke-width=\"3.2\"/>\n",
       "<path clip-path=\"url(#clip902)\" d=\"M1388.75 785.939 L1372.75 801.939 L1388.75 817.939 L1404.75 801.939 L1388.75 785.939 Z\" fill=\"#ff0000\" fill-rule=\"evenodd\" fill-opacity=\"1\" stroke=\"#000000\" stroke-opacity=\"1\" stroke-width=\"3.2\"/>\n",
       "<path clip-path=\"url(#clip902)\" d=\"M1429.83 725.989 L1413.83 741.989 L1429.83 757.989 L1445.83 741.989 L1429.83 725.989 Z\" fill=\"#ff0000\" fill-rule=\"evenodd\" fill-opacity=\"1\" stroke=\"#000000\" stroke-opacity=\"1\" stroke-width=\"3.2\"/>\n",
       "<path clip-path=\"url(#clip902)\" d=\"M1470.9 726.51 L1454.9 742.51 L1470.9 758.51 L1486.9 742.51 L1470.9 726.51 Z\" fill=\"#ff0000\" fill-rule=\"evenodd\" fill-opacity=\"1\" stroke=\"#000000\" stroke-opacity=\"1\" stroke-width=\"3.2\"/>\n",
       "<path clip-path=\"url(#clip902)\" d=\"M1511.97 764.565 L1495.97 780.565 L1511.97 796.565 L1527.97 780.565 L1511.97 764.565 Z\" fill=\"#ff0000\" fill-rule=\"evenodd\" fill-opacity=\"1\" stroke=\"#000000\" stroke-opacity=\"1\" stroke-width=\"3.2\"/>\n",
       "<path clip-path=\"url(#clip902)\" d=\"M1553.05 710.871 L1537.05 726.871 L1553.05 742.871 L1569.05 726.871 L1553.05 710.871 Z\" fill=\"#ff0000\" fill-rule=\"evenodd\" fill-opacity=\"1\" stroke=\"#000000\" stroke-opacity=\"1\" stroke-width=\"3.2\"/>\n",
       "<path clip-path=\"url(#clip902)\" d=\"M1594.12 690.54 L1578.12 706.54 L1594.12 722.54 L1610.12 706.54 L1594.12 690.54 Z\" fill=\"#ff0000\" fill-rule=\"evenodd\" fill-opacity=\"1\" stroke=\"#000000\" stroke-opacity=\"1\" stroke-width=\"3.2\"/>\n",
       "<path clip-path=\"url(#clip902)\" d=\"M1635.2 567.512 L1619.2 583.512 L1635.2 599.512 L1651.2 583.512 L1635.2 567.512 Z\" fill=\"#ff0000\" fill-rule=\"evenodd\" fill-opacity=\"1\" stroke=\"#000000\" stroke-opacity=\"1\" stroke-width=\"3.2\"/>\n",
       "<path clip-path=\"url(#clip902)\" d=\"M1676.27 457.516 L1660.27 473.516 L1676.27 489.516 L1692.27 473.516 L1676.27 457.516 Z\" fill=\"#ff0000\" fill-rule=\"evenodd\" fill-opacity=\"1\" stroke=\"#000000\" stroke-opacity=\"1\" stroke-width=\"3.2\"/>\n",
       "<path clip-path=\"url(#clip902)\" d=\"M1717.34 565.948 L1701.34 581.948 L1717.34 597.948 L1733.34 581.948 L1717.34 565.948 Z\" fill=\"#ff0000\" fill-rule=\"evenodd\" fill-opacity=\"1\" stroke=\"#000000\" stroke-opacity=\"1\" stroke-width=\"3.2\"/>\n",
       "<path clip-path=\"url(#clip902)\" d=\"M1758.42 509.126 L1742.42 525.126 L1758.42 541.126 L1774.42 525.126 L1758.42 509.126 Z\" fill=\"#ff0000\" fill-rule=\"evenodd\" fill-opacity=\"1\" stroke=\"#000000\" stroke-opacity=\"1\" stroke-width=\"3.2\"/>\n",
       "<path clip-path=\"url(#clip902)\" d=\"M1799.49 552.394 L1783.49 568.394 L1799.49 584.394 L1815.49 568.394 L1799.49 552.394 Z\" fill=\"#ff0000\" fill-rule=\"evenodd\" fill-opacity=\"1\" stroke=\"#000000\" stroke-opacity=\"1\" stroke-width=\"3.2\"/>\n",
       "<path clip-path=\"url(#clip902)\" d=\"M1840.57 500.785 L1824.57 516.785 L1840.57 532.785 L1856.57 516.785 L1840.57 500.785 Z\" fill=\"#ff0000\" fill-rule=\"evenodd\" fill-opacity=\"1\" stroke=\"#000000\" stroke-opacity=\"1\" stroke-width=\"3.2\"/>\n",
       "<path clip-path=\"url(#clip902)\" d=\"M1881.64 466.9 L1865.64 482.9 L1881.64 498.9 L1897.64 482.9 L1881.64 466.9 Z\" fill=\"#ff0000\" fill-rule=\"evenodd\" fill-opacity=\"1\" stroke=\"#000000\" stroke-opacity=\"1\" stroke-width=\"3.2\"/>\n",
       "<path clip-path=\"url(#clip902)\" d=\"M1922.71 466.378 L1906.71 482.378 L1922.71 498.378 L1938.71 482.378 L1922.71 466.378 Z\" fill=\"#ff0000\" fill-rule=\"evenodd\" fill-opacity=\"1\" stroke=\"#000000\" stroke-opacity=\"1\" stroke-width=\"3.2\"/>\n",
       "<path clip-path=\"url(#clip902)\" d=\"M1963.79 387.661 L1947.79 403.661 L1963.79 419.661 L1979.79 403.661 L1963.79 387.661 Z\" fill=\"#ff0000\" fill-rule=\"evenodd\" fill-opacity=\"1\" stroke=\"#000000\" stroke-opacity=\"1\" stroke-width=\"3.2\"/>\n",
       "<path clip-path=\"url(#clip902)\" d=\"M2004.86 133.785 L1988.86 149.785 L2004.86 165.785 L2020.86 149.785 L2004.86 133.785 Z\" fill=\"#ff0000\" fill-rule=\"evenodd\" fill-opacity=\"1\" stroke=\"#000000\" stroke-opacity=\"1\" stroke-width=\"3.2\"/>\n",
       "<path clip-path=\"url(#clip902)\" d=\"M2045.93 284.443 L2029.93 300.443 L2045.93 316.443 L2061.93 300.443 L2045.93 284.443 Z\" fill=\"#ff0000\" fill-rule=\"evenodd\" fill-opacity=\"1\" stroke=\"#000000\" stroke-opacity=\"1\" stroke-width=\"3.2\"/>\n",
       "<path clip-path=\"url(#clip902)\" d=\"M2087.01 319.37 L2071.01 335.37 L2087.01 351.37 L2103.01 335.37 L2087.01 319.37 Z\" fill=\"#ff0000\" fill-rule=\"evenodd\" fill-opacity=\"1\" stroke=\"#000000\" stroke-opacity=\"1\" stroke-width=\"3.2\"/>\n",
       "<path clip-path=\"url(#clip902)\" d=\"M2128.08 271.931 L2112.08 287.931 L2128.08 303.931 L2144.08 287.931 L2128.08 271.931 Z\" fill=\"#ff0000\" fill-rule=\"evenodd\" fill-opacity=\"1\" stroke=\"#000000\" stroke-opacity=\"1\" stroke-width=\"3.2\"/>\n",
       "<path clip-path=\"url(#clip902)\" d=\"M2169.16 70.1857 L2153.16 86.1857 L2169.16 102.186 L2185.16 86.1857 L2169.16 70.1857 Z\" fill=\"#ff0000\" fill-rule=\"evenodd\" fill-opacity=\"1\" stroke=\"#000000\" stroke-opacity=\"1\" stroke-width=\"3.2\"/>\n",
       "<path clip-path=\"url(#clip902)\" d=\"M2210.23 251.6 L2194.23 267.6 L2210.23 283.6 L2226.23 267.6 L2210.23 251.6 Z\" fill=\"#ff0000\" fill-rule=\"evenodd\" fill-opacity=\"1\" stroke=\"#000000\" stroke-opacity=\"1\" stroke-width=\"3.2\"/>\n",
       "<path clip-path=\"url(#clip902)\" d=\"M2251.3 218.758 L2235.3 234.758 L2251.3 250.758 L2267.3 234.758 L2251.3 218.758 Z\" fill=\"#ff0000\" fill-rule=\"evenodd\" fill-opacity=\"1\" stroke=\"#000000\" stroke-opacity=\"1\" stroke-width=\"3.2\"/>\n",
       "<path clip-path=\"url(#clip902)\" d=\"M2292.38 152.552 L2276.38 168.552 L2292.38 184.552 L2308.38 168.552 L2292.38 152.552 Z\" fill=\"#ff0000\" fill-rule=\"evenodd\" fill-opacity=\"1\" stroke=\"#000000\" stroke-opacity=\"1\" stroke-width=\"3.2\"/>\n",
       "<path clip-path=\"url(#clip900)\" d=\"M290.493 300.469 L626.26 300.469 L626.26 93.1086 L290.493 93.1086  Z\" fill=\"#ffffff\" fill-rule=\"evenodd\" fill-opacity=\"1\"/>\n",
       "<polyline clip-path=\"url(#clip900)\" style=\"stroke:#000000; stroke-linecap:round; stroke-linejoin:round; stroke-width:4; stroke-opacity:1; fill:none\" points=\"290.493,300.469 626.26,300.469 626.26,93.1086 290.493,93.1086 290.493,300.469 \"/>\n",
       "<polyline clip-path=\"url(#clip900)\" style=\"stroke:#008000; stroke-linecap:round; stroke-linejoin:round; stroke-width:4; stroke-opacity:1; fill:none\" points=\"314.197,144.949 456.422,144.949 \"/>\n",
       "<circle clip-path=\"url(#clip900)\" cx=\"385.309\" cy=\"144.949\" r=\"19.7535\" fill=\"#008000\" fill-rule=\"evenodd\" fill-opacity=\"1\" stroke=\"#000000\" stroke-opacity=\"1\" stroke-width=\"5.12\"/>\n",
       "<path clip-path=\"url(#clip900)\" d=\"M480.126 151.997 L480.126 136.303 L484.385 136.303 L484.385 151.835 Q484.385 155.516 485.82 157.368 Q487.256 159.196 490.126 159.196 Q493.575 159.196 495.566 156.997 Q497.58 154.798 497.58 151.002 L497.58 136.303 L501.839 136.303 L501.839 162.229 L497.58 162.229 L497.58 158.247 Q496.029 160.608 493.969 161.766 Q491.932 162.9 489.223 162.9 Q484.756 162.9 482.441 160.122 Q480.126 157.344 480.126 151.997 M490.844 135.678 L490.844 135.678 Z\" fill=\"#000000\" fill-rule=\"evenodd\" fill-opacity=\"1\" /><path clip-path=\"url(#clip900)\" d=\"M532.163 146.581 L532.163 162.229 L527.904 162.229 L527.904 146.719 Q527.904 143.039 526.468 141.21 Q525.033 139.382 522.163 139.382 Q518.714 139.382 516.723 141.581 Q514.732 143.78 514.732 147.576 L514.732 162.229 L510.45 162.229 L510.45 136.303 L514.732 136.303 L514.732 140.331 Q516.26 137.993 518.32 136.835 Q520.404 135.678 523.112 135.678 Q527.58 135.678 529.871 138.456 Q532.163 141.21 532.163 146.581 Z\" fill=\"#000000\" fill-rule=\"evenodd\" fill-opacity=\"1\" /><path clip-path=\"url(#clip900)\" d=\"M559.315 137.298 L559.315 141.28 Q557.51 140.284 555.681 139.798 Q553.876 139.289 552.024 139.289 Q547.88 139.289 545.589 141.928 Q543.297 144.544 543.297 149.289 Q543.297 154.034 545.589 156.673 Q547.88 159.289 552.024 159.289 Q553.876 159.289 555.681 158.803 Q557.51 158.293 559.315 157.298 L559.315 161.233 Q557.533 162.067 555.612 162.483 Q553.714 162.9 551.561 162.9 Q545.704 162.9 542.255 159.219 Q538.806 155.539 538.806 149.289 Q538.806 142.946 542.279 139.312 Q545.774 135.678 551.839 135.678 Q553.806 135.678 555.681 136.095 Q557.556 136.488 559.315 137.298 Z\" fill=\"#000000\" fill-rule=\"evenodd\" fill-opacity=\"1\" /><path clip-path=\"url(#clip900)\" d=\"M567.325 156.349 L572.209 156.349 L572.209 162.229 L567.325 162.229 L567.325 156.349 Z\" fill=\"#000000\" fill-rule=\"evenodd\" fill-opacity=\"1\" /><polyline clip-path=\"url(#clip900)\" style=\"stroke:#0000ff; stroke-linecap:round; stroke-linejoin:round; stroke-width:4; stroke-opacity:1; fill:none\" points=\"314.197,196.789 456.422,196.789 \"/>\n",
       "<line clip-path=\"url(#clip900)\" x1=\"385.309\" y1=\"196.789\" x2=\"385.309\" y2=\"174.84\" style=\"stroke:#0000ff; stroke-width:5.12; stroke-opacity:1\"/>\n",
       "<line clip-path=\"url(#clip900)\" x1=\"385.309\" y1=\"196.789\" x2=\"363.361\" y2=\"196.789\" style=\"stroke:#0000ff; stroke-width:5.12; stroke-opacity:1\"/>\n",
       "<line clip-path=\"url(#clip900)\" x1=\"385.309\" y1=\"196.789\" x2=\"385.309\" y2=\"218.737\" style=\"stroke:#0000ff; stroke-width:5.12; stroke-opacity:1\"/>\n",
       "<line clip-path=\"url(#clip900)\" x1=\"385.309\" y1=\"196.789\" x2=\"407.258\" y2=\"196.789\" style=\"stroke:#0000ff; stroke-width:5.12; stroke-opacity:1\"/>\n",
       "<path clip-path=\"url(#clip900)\" d=\"M498.899 201.129 Q498.899 196.43 496.955 193.768 Q495.033 191.083 491.654 191.083 Q488.274 191.083 486.33 193.768 Q484.408 196.43 484.408 201.129 Q484.408 205.828 486.33 208.513 Q488.274 211.175 491.654 211.175 Q495.033 211.175 496.955 208.513 Q498.899 205.828 498.899 201.129 M484.408 192.078 Q485.751 189.763 487.788 188.652 Q489.848 187.518 492.695 187.518 Q497.418 187.518 500.357 191.268 Q503.32 195.018 503.32 201.129 Q503.32 207.24 500.357 210.99 Q497.418 214.74 492.695 214.74 Q489.848 214.74 487.788 213.629 Q485.751 212.495 484.408 210.18 L484.408 214.069 L480.126 214.069 L480.126 178.05 L484.408 178.05 L484.408 192.078 Z\" fill=\"#000000\" fill-rule=\"evenodd\" fill-opacity=\"1\" /><path clip-path=\"url(#clip900)\" d=\"M510.381 188.143 L514.64 188.143 L514.64 214.069 L510.381 214.069 L510.381 188.143 M510.381 178.05 L514.64 178.05 L514.64 183.444 L510.381 183.444 L510.381 178.05 Z\" fill=\"#000000\" fill-rule=\"evenodd\" fill-opacity=\"1\" /><path clip-path=\"url(#clip900)\" d=\"M540.612 200.805 Q540.612 196.175 538.691 193.629 Q536.792 191.083 533.343 191.083 Q529.917 191.083 527.996 193.629 Q526.098 196.175 526.098 200.805 Q526.098 205.411 527.996 207.958 Q529.917 210.504 533.343 210.504 Q536.792 210.504 538.691 207.958 Q540.612 205.411 540.612 200.805 M544.871 210.851 Q544.871 217.471 541.931 220.689 Q538.992 223.93 532.927 223.93 Q530.681 223.93 528.691 223.582 Q526.7 223.258 524.825 222.564 L524.825 218.42 Q526.7 219.439 528.529 219.925 Q530.357 220.411 532.255 220.411 Q536.445 220.411 538.529 218.212 Q540.612 216.036 540.612 211.615 L540.612 209.508 Q539.292 211.8 537.232 212.934 Q535.172 214.069 532.302 214.069 Q527.533 214.069 524.617 210.434 Q521.7 206.8 521.7 200.805 Q521.7 194.786 524.617 191.152 Q527.533 187.518 532.302 187.518 Q535.172 187.518 537.232 188.652 Q539.292 189.786 540.612 192.078 L540.612 188.143 L544.871 188.143 L544.871 210.851 Z\" fill=\"#000000\" fill-rule=\"evenodd\" fill-opacity=\"1\" /><path clip-path=\"url(#clip900)\" d=\"M551.491 199.184 L563.968 199.184 L563.968 202.981 L551.491 202.981 L551.491 199.184 Z\" fill=\"#000000\" fill-rule=\"evenodd\" fill-opacity=\"1\" /><path clip-path=\"url(#clip900)\" d=\"M570.936 179.509 L577.903 179.509 L586.723 203.027 L595.588 179.509 L602.556 179.509 L602.556 214.069 L597.996 214.069 L597.996 183.722 L589.084 207.425 L584.385 207.425 L575.473 183.722 L575.473 214.069 L570.936 214.069 L570.936 179.509 Z\" fill=\"#000000\" fill-rule=\"evenodd\" fill-opacity=\"1\" /><polyline clip-path=\"url(#clip900)\" style=\"stroke:#ff0000; stroke-linecap:round; stroke-linejoin:round; stroke-width:4; stroke-opacity:1; fill:none\" points=\"314.197,248.629 456.422,248.629 \"/>\n",
       "<path clip-path=\"url(#clip900)\" d=\"M385.309 226.68 L363.361 248.629 L385.309 270.577 L407.258 248.629 L385.309 226.68 Z\" fill=\"#ff0000\" fill-rule=\"evenodd\" fill-opacity=\"1\" stroke=\"#000000\" stroke-opacity=\"1\" stroke-width=\"5.12\"/>\n",
       "<path clip-path=\"url(#clip900)\" d=\"M500.473 244.96 Q502.07 242.089 504.293 240.724 Q506.515 239.358 509.524 239.358 Q513.575 239.358 515.774 242.205 Q517.973 245.029 517.973 250.261 L517.973 265.909 L513.691 265.909 L513.691 250.399 Q513.691 246.673 512.371 244.867 Q511.052 243.062 508.344 243.062 Q505.033 243.062 503.112 245.261 Q501.191 247.46 501.191 251.256 L501.191 265.909 L496.908 265.909 L496.908 250.399 Q496.908 246.649 495.589 244.867 Q494.27 243.062 491.515 243.062 Q488.251 243.062 486.33 245.284 Q484.408 247.483 484.408 251.256 L484.408 265.909 L480.126 265.909 L480.126 239.983 L484.408 239.983 L484.408 244.011 Q485.867 241.626 487.904 240.492 Q489.941 239.358 492.742 239.358 Q495.566 239.358 497.533 240.793 Q499.524 242.228 500.473 244.96 Z\" fill=\"#000000\" fill-rule=\"evenodd\" fill-opacity=\"1\" /><path clip-path=\"url(#clip900)\" d=\"M530.589 262.02 L530.589 275.77 L526.306 275.77 L526.306 239.983 L530.589 239.983 L530.589 243.918 Q531.931 241.603 533.968 240.492 Q536.029 239.358 538.876 239.358 Q543.598 239.358 546.538 243.108 Q549.501 246.858 549.501 252.969 Q549.501 259.08 546.538 262.83 Q543.598 266.58 538.876 266.58 Q536.029 266.58 533.968 265.469 Q531.931 264.335 530.589 262.02 M545.079 252.969 Q545.079 248.27 543.135 245.608 Q541.214 242.923 537.834 242.923 Q534.454 242.923 532.51 245.608 Q530.589 248.27 530.589 252.969 Q530.589 257.668 532.51 260.353 Q534.454 263.015 537.834 263.015 Q541.214 263.015 543.135 260.353 Q545.079 257.668 545.079 252.969 Z\" fill=\"#000000\" fill-rule=\"evenodd\" fill-opacity=\"1\" /><path clip-path=\"url(#clip900)\" d=\"M575.218 240.978 L575.218 244.96 Q573.413 243.964 571.584 243.478 Q569.778 242.969 567.927 242.969 Q563.783 242.969 561.491 245.608 Q559.2 248.224 559.2 252.969 Q559.2 257.714 561.491 260.353 Q563.783 262.969 567.927 262.969 Q569.778 262.969 571.584 262.483 Q573.413 261.973 575.218 260.978 L575.218 264.913 Q573.436 265.747 571.514 266.163 Q569.616 266.58 567.464 266.58 Q561.607 266.58 558.158 262.899 Q554.709 259.219 554.709 252.969 Q554.709 246.626 558.181 242.992 Q561.677 239.358 567.741 239.358 Q569.709 239.358 571.584 239.775 Q573.459 240.168 575.218 240.978 Z\" fill=\"#000000\" fill-rule=\"evenodd\" fill-opacity=\"1\" /><path clip-path=\"url(#clip900)\" d=\"M601.283 240.978 L601.283 244.96 Q599.477 243.964 597.649 243.478 Q595.843 242.969 593.991 242.969 Q589.848 242.969 587.556 245.608 Q585.264 248.224 585.264 252.969 Q585.264 257.714 587.556 260.353 Q589.848 262.969 593.991 262.969 Q595.843 262.969 597.649 262.483 Q599.477 261.973 601.283 260.978 L601.283 264.913 Q599.5 265.747 597.579 266.163 Q595.681 266.58 593.528 266.58 Q587.672 266.58 584.223 262.899 Q580.774 259.219 580.774 252.969 Q580.774 246.626 584.246 242.992 Q587.741 239.358 593.806 239.358 Q595.774 239.358 597.649 239.775 Q599.524 240.168 601.283 240.978 Z\" fill=\"#000000\" fill-rule=\"evenodd\" fill-opacity=\"1\" /></svg>\n"
      ]
     },
     "metadata": {},
     "output_type": "display_data"
    }
   ],
   "source": [
    "gr()\n",
    "\n",
    "p2 = plot(xlabel=\"# reactors\", ylabel=\"sol. time [s]\",gridlinewidth=2)\n",
    "p2 = plot!(1:nScenTotal,solTimeTraj_r[1,:], linecolor=:green, marker=:circle, markercolor = :green)\n",
    "p2 = plot!(1:nScenTotal,solTimeTraj_r[2,:], linecolor=:blue, marker=:cross, markercolor = :blue)\n",
    "p2 = plot!(1:nScenTotal,solTimeTraj_r[3,:], linecolor=:red, marker=:diamond, markercolor = :red)\n",
    "p2.series_list[1][:label] = \"unc.\"\n",
    "p2.series_list[2][:label] = \"big-M\"\n",
    "p2.series_list[3][:label] = \"mpcc\"\n",
    "\n",
    "display(p2)"
   ]
  },
  {
   "cell_type": "markdown",
   "id": "0ffe348c",
   "metadata": {},
   "source": [
    "# Checking if trajectories match for more scenarios and reactors\n",
    "- arbitrarily chosen number of scenarios and reactors"
   ]
  },
  {
   "cell_type": "code",
   "execution_count": 16,
   "id": "5916ca79",
   "metadata": {},
   "outputs": [],
   "source": [
    "nSCheck = 3 # number of scenarios\n",
    "nRCheck = 3 # number of reactors in parallel\n",
    "\n",
    "# Extracting solution for plotting\n",
    "yTraj = Array{Float64}(undef,3,pD,nSCheck)\n",
    "uTraj = Array{Float64}(undef,3,pD,nSCheck) \n",
    "yspTraj = Array{Float64}(undef,3,pD,nSCheck) \n",
    "\n",
    "#equiprobable scenarios\n",
    "pScheck = 1.0/nSCheck;\n",
    "\n",
    "# Number of states\n",
    "nx = 2*nRCheck;\n",
    "\n",
    "# Initial conditions (deviation form)\n",
    "xInit_0 = repeat([0.3583;0.6418] .- x0, outer = [nRCheck,1]);\n",
    "uInit_0 = 1.0 - u0;\n",
    "\n",
    "for opti in 1:3\n",
    "    sol_dict = MS_CLDRTO(xInit_0,uInit_0,nRCheck,nSCheck,pScheck,solNominal,opti)\n",
    "    #display(sol_dict['f'])\n",
    "    for ii in 1:pD\n",
    "        for ss in 1:nSCheck\n",
    "            # transforming from deviation form\n",
    "            yTraj[opti,ii,ss] = sol_dict['y'][ii,ss] + y0\n",
    "            yspTraj[opti,ii,ss] = sol_dict['s'][ii,ss] + y0\n",
    "            uTraj[opti,ii,ss] = sol_dict['u'][ii,1,ss] + u0\n",
    "        end\n",
    "    end\n",
    "end;"
   ]
  },
  {
   "cell_type": "code",
   "execution_count": 17,
   "id": "3d9ec8ea",
   "metadata": {},
   "outputs": [],
   "source": [
    "# time series for plotting\n",
    "ts = Vector{Float64}(undef,pD) \n",
    "for i in 1:pD\n",
    "    ts[i] = 1*i\n",
    "end\n",
    "\n",
    "# Creating color array\n",
    "CList = reshape( range(colorant\"red\", stop=colorant\"blue\",length=nSCheck), 1, nSCheck);\n",
    "#display(CList)\n",
    "MList =[:cross, :circle, :diamond];"
   ]
  },
  {
   "cell_type": "code",
   "execution_count": 18,
   "id": "57083049",
   "metadata": {},
   "outputs": [
    {
     "data": {
      "image/svg+xml": [
       "<?xml version=\"1.0\" encoding=\"utf-8\"?>\n",
       "<svg xmlns=\"http://www.w3.org/2000/svg\" xmlns:xlink=\"http://www.w3.org/1999/xlink\" width=\"600\" height=\"400\" viewBox=\"0 0 2400 1600\">\n",
       "<defs>\n",
       "  <clipPath id=\"clip940\">\n",
       "    <rect x=\"0\" y=\"0\" width=\"2400\" height=\"1600\"/>\n",
       "  </clipPath>\n",
       "</defs>\n",
       "<path clip-path=\"url(#clip940)\" d=\"M0 1600 L2400 1600 L2400 0 L0 0  Z\" fill=\"#ffffff\" fill-rule=\"evenodd\" fill-opacity=\"1\"/>\n",
       "<defs>\n",
       "  <clipPath id=\"clip941\">\n",
       "    <rect x=\"480\" y=\"0\" width=\"1681\" height=\"1600\"/>\n",
       "  </clipPath>\n",
       "</defs>\n",
       "<path clip-path=\"url(#clip940)\" d=\"M219.866 356.513 L2352.76 356.513 L2352.76 47.2441 L219.866 47.2441  Z\" fill=\"#ffffff\" fill-rule=\"evenodd\" fill-opacity=\"1\"/>\n",
       "<defs>\n",
       "  <clipPath id=\"clip942\">\n",
       "    <rect x=\"219\" y=\"47\" width=\"2134\" height=\"310\"/>\n",
       "  </clipPath>\n",
       "</defs>\n",
       "<polyline clip-path=\"url(#clip942)\" style=\"stroke:#000000; stroke-linecap:round; stroke-linejoin:round; stroke-width:8; stroke-opacity:0.1; fill:none\" points=\"589.794,356.513 589.794,47.2441 \"/>\n",
       "<polyline clip-path=\"url(#clip942)\" style=\"stroke:#000000; stroke-linecap:round; stroke-linejoin:round; stroke-width:8; stroke-opacity:0.1; fill:none\" points=\"976.748,356.513 976.748,47.2441 \"/>\n",
       "<polyline clip-path=\"url(#clip942)\" style=\"stroke:#000000; stroke-linecap:round; stroke-linejoin:round; stroke-width:8; stroke-opacity:0.1; fill:none\" points=\"1363.7,356.513 1363.7,47.2441 \"/>\n",
       "<polyline clip-path=\"url(#clip942)\" style=\"stroke:#000000; stroke-linecap:round; stroke-linejoin:round; stroke-width:8; stroke-opacity:0.1; fill:none\" points=\"1750.66,356.513 1750.66,47.2441 \"/>\n",
       "<polyline clip-path=\"url(#clip942)\" style=\"stroke:#000000; stroke-linecap:round; stroke-linejoin:round; stroke-width:8; stroke-opacity:0.1; fill:none\" points=\"2137.61,356.513 2137.61,47.2441 \"/>\n",
       "<polyline clip-path=\"url(#clip940)\" style=\"stroke:#000000; stroke-linecap:round; stroke-linejoin:round; stroke-width:4; stroke-opacity:1; fill:none\" points=\"219.866,356.513 2352.76,356.513 \"/>\n",
       "<polyline clip-path=\"url(#clip940)\" style=\"stroke:#000000; stroke-linecap:round; stroke-linejoin:round; stroke-width:4; stroke-opacity:1; fill:none\" points=\"589.794,356.513 589.794,337.616 \"/>\n",
       "<polyline clip-path=\"url(#clip940)\" style=\"stroke:#000000; stroke-linecap:round; stroke-linejoin:round; stroke-width:4; stroke-opacity:1; fill:none\" points=\"976.748,356.513 976.748,337.616 \"/>\n",
       "<polyline clip-path=\"url(#clip940)\" style=\"stroke:#000000; stroke-linecap:round; stroke-linejoin:round; stroke-width:4; stroke-opacity:1; fill:none\" points=\"1363.7,356.513 1363.7,337.616 \"/>\n",
       "<polyline clip-path=\"url(#clip940)\" style=\"stroke:#000000; stroke-linecap:round; stroke-linejoin:round; stroke-width:4; stroke-opacity:1; fill:none\" points=\"1750.66,356.513 1750.66,337.616 \"/>\n",
       "<polyline clip-path=\"url(#clip940)\" style=\"stroke:#000000; stroke-linecap:round; stroke-linejoin:round; stroke-width:4; stroke-opacity:1; fill:none\" points=\"2137.61,356.513 2137.61,337.616 \"/>\n",
       "<path clip-path=\"url(#clip940)\" d=\"M580.072 384.353 L598.428 384.353 L598.428 388.288 L584.354 388.288 L584.354 396.761 Q585.373 396.413 586.391 396.251 Q587.41 396.066 588.428 396.066 Q594.215 396.066 597.595 399.237 Q600.975 402.409 600.975 407.825 Q600.975 413.404 597.502 416.506 Q594.03 419.584 587.711 419.584 Q585.535 419.584 583.266 419.214 Q581.021 418.844 578.614 418.103 L578.614 413.404 Q580.697 414.538 582.919 415.094 Q585.141 415.649 587.618 415.649 Q591.623 415.649 593.961 413.543 Q596.299 411.436 596.299 407.825 Q596.299 404.214 593.961 402.108 Q591.623 400.001 587.618 400.001 Q585.743 400.001 583.868 400.418 Q582.016 400.835 580.072 401.714 L580.072 384.353 Z\" fill=\"#000000\" fill-rule=\"evenodd\" fill-opacity=\"1\" /><path clip-path=\"url(#clip940)\" d=\"M951.436 414.978 L959.074 414.978 L959.074 388.612 L950.764 390.279 L950.764 386.02 L959.028 384.353 L963.704 384.353 L963.704 414.978 L971.343 414.978 L971.343 418.913 L951.436 418.913 L951.436 414.978 Z\" fill=\"#000000\" fill-rule=\"evenodd\" fill-opacity=\"1\" /><path clip-path=\"url(#clip940)\" d=\"M990.787 387.432 Q987.176 387.432 985.347 390.997 Q983.542 394.538 983.542 401.668 Q983.542 408.774 985.347 412.339 Q987.176 415.881 990.787 415.881 Q994.422 415.881 996.227 412.339 Q998.056 408.774 998.056 401.668 Q998.056 394.538 996.227 390.997 Q994.422 387.432 990.787 387.432 M990.787 383.728 Q996.597 383.728 999.653 388.335 Q1002.73 392.918 1002.73 401.668 Q1002.73 410.395 999.653 415.001 Q996.597 419.584 990.787 419.584 Q984.977 419.584 981.898 415.001 Q978.843 410.395 978.843 401.668 Q978.843 392.918 981.898 388.335 Q984.977 383.728 990.787 383.728 Z\" fill=\"#000000\" fill-rule=\"evenodd\" fill-opacity=\"1\" /><path clip-path=\"url(#clip940)\" d=\"M1338.89 414.978 L1346.53 414.978 L1346.53 388.612 L1338.22 390.279 L1338.22 386.02 L1346.48 384.353 L1351.16 384.353 L1351.16 414.978 L1358.79 414.978 L1358.79 418.913 L1338.89 418.913 L1338.89 414.978 Z\" fill=\"#000000\" fill-rule=\"evenodd\" fill-opacity=\"1\" /><path clip-path=\"url(#clip940)\" d=\"M1368.29 384.353 L1386.64 384.353 L1386.64 388.288 L1372.57 388.288 L1372.57 396.761 Q1373.59 396.413 1374.6 396.251 Q1375.62 396.066 1376.64 396.066 Q1382.43 396.066 1385.81 399.237 Q1389.19 402.409 1389.19 407.825 Q1389.19 413.404 1385.72 416.506 Q1382.24 419.584 1375.92 419.584 Q1373.75 419.584 1371.48 419.214 Q1369.23 418.844 1366.83 418.103 L1366.83 413.404 Q1368.91 414.538 1371.13 415.094 Q1373.35 415.649 1375.83 415.649 Q1379.84 415.649 1382.17 413.543 Q1384.51 411.436 1384.51 407.825 Q1384.51 404.214 1382.17 402.108 Q1379.84 400.001 1375.83 400.001 Q1373.96 400.001 1372.08 400.418 Q1370.23 400.835 1368.29 401.714 L1368.29 384.353 Z\" fill=\"#000000\" fill-rule=\"evenodd\" fill-opacity=\"1\" /><path clip-path=\"url(#clip940)\" d=\"M1729.43 414.978 L1745.75 414.978 L1745.75 418.913 L1723.8 418.913 L1723.8 414.978 Q1726.47 412.223 1731.05 407.594 Q1735.66 402.941 1736.84 401.598 Q1739.08 399.075 1739.96 397.339 Q1740.86 395.58 1740.86 393.89 Q1740.86 391.136 1738.92 389.399 Q1737 387.663 1733.9 387.663 Q1731.7 387.663 1729.24 388.427 Q1726.81 389.191 1724.04 390.742 L1724.04 386.02 Q1726.86 384.886 1729.31 384.307 Q1731.77 383.728 1733.8 383.728 Q1739.17 383.728 1742.37 386.413 Q1745.56 389.099 1745.56 393.589 Q1745.56 395.719 1744.75 397.64 Q1743.97 399.538 1741.86 402.131 Q1741.28 402.802 1738.18 406.02 Q1735.08 409.214 1729.43 414.978 Z\" fill=\"#000000\" fill-rule=\"evenodd\" fill-opacity=\"1\" /><path clip-path=\"url(#clip940)\" d=\"M1765.56 387.432 Q1761.95 387.432 1760.12 390.997 Q1758.32 394.538 1758.32 401.668 Q1758.32 408.774 1760.12 412.339 Q1761.95 415.881 1765.56 415.881 Q1769.2 415.881 1771 412.339 Q1772.83 408.774 1772.83 401.668 Q1772.83 394.538 1771 390.997 Q1769.2 387.432 1765.56 387.432 M1765.56 383.728 Q1771.37 383.728 1774.43 388.335 Q1777.51 392.918 1777.51 401.668 Q1777.51 410.395 1774.43 415.001 Q1771.37 419.584 1765.56 419.584 Q1759.75 419.584 1756.67 415.001 Q1753.62 410.395 1753.62 401.668 Q1753.62 392.918 1756.67 388.335 Q1759.75 383.728 1765.56 383.728 Z\" fill=\"#000000\" fill-rule=\"evenodd\" fill-opacity=\"1\" /><path clip-path=\"url(#clip940)\" d=\"M2116.88 414.978 L2133.2 414.978 L2133.2 418.913 L2111.26 418.913 L2111.26 414.978 Q2113.92 412.223 2118.5 407.594 Q2123.11 402.941 2124.29 401.598 Q2126.53 399.075 2127.41 397.339 Q2128.32 395.58 2128.32 393.89 Q2128.32 391.136 2126.37 389.399 Q2124.45 387.663 2121.35 387.663 Q2119.15 387.663 2116.7 388.427 Q2114.26 389.191 2111.49 390.742 L2111.49 386.02 Q2114.31 384.886 2116.76 384.307 Q2119.22 383.728 2121.26 383.728 Q2126.63 383.728 2129.82 386.413 Q2133.01 389.099 2133.01 393.589 Q2133.01 395.719 2132.2 397.64 Q2131.42 399.538 2129.31 402.131 Q2128.73 402.802 2125.63 406.02 Q2122.53 409.214 2116.88 414.978 Z\" fill=\"#000000\" fill-rule=\"evenodd\" fill-opacity=\"1\" /><path clip-path=\"url(#clip940)\" d=\"M2143.06 384.353 L2161.42 384.353 L2161.42 388.288 L2147.34 388.288 L2147.34 396.761 Q2148.36 396.413 2149.38 396.251 Q2150.4 396.066 2151.42 396.066 Q2157.2 396.066 2160.58 399.237 Q2163.96 402.409 2163.96 407.825 Q2163.96 413.404 2160.49 416.506 Q2157.02 419.584 2150.7 419.584 Q2148.52 419.584 2146.26 419.214 Q2144.01 418.844 2141.6 418.103 L2141.6 413.404 Q2143.69 414.538 2145.91 415.094 Q2148.13 415.649 2150.61 415.649 Q2154.61 415.649 2156.95 413.543 Q2159.29 411.436 2159.29 407.825 Q2159.29 404.214 2156.95 402.108 Q2154.61 400.001 2150.61 400.001 Q2148.73 400.001 2146.86 400.418 Q2145.01 400.835 2143.06 401.714 L2143.06 384.353 Z\" fill=\"#000000\" fill-rule=\"evenodd\" fill-opacity=\"1\" /><path clip-path=\"url(#clip940)\" d=\"M1180.45 455.608 L1180.45 465.729 L1192.51 465.729 L1192.51 470.281 L1180.45 470.281 L1180.45 489.632 Q1180.45 493.993 1181.63 495.234 Q1182.84 496.476 1186.5 496.476 L1192.51 496.476 L1192.51 501.377 L1186.5 501.377 Q1179.72 501.377 1177.14 498.863 Q1174.56 496.316 1174.56 489.632 L1174.56 470.281 L1170.26 470.281 L1170.26 465.729 L1174.56 465.729 L1174.56 455.608 L1180.45 455.608 Z\" fill=\"#000000\" fill-rule=\"evenodd\" fill-opacity=\"1\" /><path clip-path=\"url(#clip940)\" d=\"M1200.21 465.729 L1206.07 465.729 L1206.07 501.377 L1200.21 501.377 L1200.21 465.729 M1200.21 451.852 L1206.07 451.852 L1206.07 459.268 L1200.21 459.268 L1200.21 451.852 Z\" fill=\"#000000\" fill-rule=\"evenodd\" fill-opacity=\"1\" /><path clip-path=\"url(#clip940)\" d=\"M1246.08 472.572 Q1248.28 468.626 1251.33 466.748 Q1254.39 464.87 1258.52 464.87 Q1264.09 464.87 1267.12 468.785 Q1270.14 472.668 1270.14 479.861 L1270.14 501.377 L1264.25 501.377 L1264.25 480.052 Q1264.25 474.928 1262.44 472.445 Q1260.63 469.962 1256.9 469.962 Q1252.35 469.962 1249.71 472.986 Q1247.07 476.01 1247.07 481.23 L1247.07 501.377 L1241.18 501.377 L1241.18 480.052 Q1241.18 474.896 1239.36 472.445 Q1237.55 469.962 1233.76 469.962 Q1229.27 469.962 1226.63 473.018 Q1223.99 476.042 1223.99 481.23 L1223.99 501.377 L1218.1 501.377 L1218.1 465.729 L1223.99 465.729 L1223.99 471.267 Q1226 467.989 1228.8 466.429 Q1231.6 464.87 1235.45 464.87 Q1239.33 464.87 1242.04 466.843 Q1244.77 468.817 1246.08 472.572 Z\" fill=\"#000000\" fill-rule=\"evenodd\" fill-opacity=\"1\" /><path clip-path=\"url(#clip940)\" d=\"M1312.31 482.089 L1312.31 484.954 L1285.39 484.954 Q1285.77 491.001 1289.02 494.184 Q1292.29 497.335 1298.12 497.335 Q1301.49 497.335 1304.64 496.507 Q1307.83 495.68 1310.95 494.025 L1310.95 499.563 Q1307.8 500.9 1304.49 501.6 Q1301.18 502.3 1297.77 502.3 Q1289.24 502.3 1284.24 497.335 Q1279.28 492.37 1279.28 483.903 Q1279.28 475.15 1283.99 470.026 Q1288.73 464.87 1296.75 464.87 Q1303.94 464.87 1308.11 469.517 Q1312.31 474.132 1312.31 482.089 M1306.46 480.37 Q1306.39 475.564 1303.75 472.7 Q1301.14 469.835 1296.81 469.835 Q1291.91 469.835 1288.95 472.604 Q1286.02 475.373 1285.58 480.402 L1306.46 480.37 Z\" fill=\"#000000\" fill-rule=\"evenodd\" fill-opacity=\"1\" /><path clip-path=\"url(#clip940)\" d=\"M1321.39 451.852 L1334.88 451.852 L1334.88 456.403 L1327.24 456.403 L1327.24 505.419 L1334.88 505.419 L1334.88 509.971 L1321.39 509.971 L1321.39 451.852 Z\" fill=\"#000000\" fill-rule=\"evenodd\" fill-opacity=\"1\" /><path clip-path=\"url(#clip940)\" d=\"M1376.99 479.861 L1376.99 501.377 L1371.13 501.377 L1371.13 480.052 Q1371.13 474.991 1369.16 472.477 Q1367.19 469.962 1363.24 469.962 Q1358.5 469.962 1355.76 472.986 Q1353.02 476.01 1353.02 481.23 L1353.02 501.377 L1347.14 501.377 L1347.14 451.852 L1353.02 451.852 L1353.02 471.267 Q1355.12 468.053 1357.96 466.461 Q1360.82 464.87 1364.55 464.87 Q1370.69 464.87 1373.84 468.689 Q1376.99 472.477 1376.99 479.861 Z\" fill=\"#000000\" fill-rule=\"evenodd\" fill-opacity=\"1\" /><path clip-path=\"url(#clip940)\" d=\"M1402.36 451.852 L1402.36 509.971 L1388.86 509.971 L1388.86 505.419 L1396.47 505.419 L1396.47 456.403 L1388.86 456.403 L1388.86 451.852 L1402.36 451.852 Z\" fill=\"#000000\" fill-rule=\"evenodd\" fill-opacity=\"1\" /><polyline clip-path=\"url(#clip942)\" style=\"stroke:#000000; stroke-linecap:round; stroke-linejoin:round; stroke-width:8; stroke-opacity:0.1; fill:none\" points=\"219.866,313.802 2352.76,313.802 \"/>\n",
       "<polyline clip-path=\"url(#clip942)\" style=\"stroke:#000000; stroke-linecap:round; stroke-linejoin:round; stroke-width:8; stroke-opacity:0.1; fill:none\" points=\"219.866,234.478 2352.76,234.478 \"/>\n",
       "<polyline clip-path=\"url(#clip942)\" style=\"stroke:#000000; stroke-linecap:round; stroke-linejoin:round; stroke-width:8; stroke-opacity:0.1; fill:none\" points=\"219.866,155.153 2352.76,155.153 \"/>\n",
       "<polyline clip-path=\"url(#clip942)\" style=\"stroke:#000000; stroke-linecap:round; stroke-linejoin:round; stroke-width:8; stroke-opacity:0.1; fill:none\" points=\"219.866,75.8282 2352.76,75.8282 \"/>\n",
       "<polyline clip-path=\"url(#clip940)\" style=\"stroke:#000000; stroke-linecap:round; stroke-linejoin:round; stroke-width:4; stroke-opacity:1; fill:none\" points=\"219.866,356.513 219.866,47.2441 \"/>\n",
       "<polyline clip-path=\"url(#clip940)\" style=\"stroke:#000000; stroke-linecap:round; stroke-linejoin:round; stroke-width:4; stroke-opacity:1; fill:none\" points=\"219.866,313.802 238.764,313.802 \"/>\n",
       "<polyline clip-path=\"url(#clip940)\" style=\"stroke:#000000; stroke-linecap:round; stroke-linejoin:round; stroke-width:4; stroke-opacity:1; fill:none\" points=\"219.866,234.478 238.764,234.478 \"/>\n",
       "<polyline clip-path=\"url(#clip940)\" style=\"stroke:#000000; stroke-linecap:round; stroke-linejoin:round; stroke-width:4; stroke-opacity:1; fill:none\" points=\"219.866,155.153 238.764,155.153 \"/>\n",
       "<polyline clip-path=\"url(#clip940)\" style=\"stroke:#000000; stroke-linecap:round; stroke-linejoin:round; stroke-width:4; stroke-opacity:1; fill:none\" points=\"219.866,75.8282 238.764,75.8282 \"/>\n",
       "<path clip-path=\"url(#clip940)\" d=\"M126.205 299.601 Q122.593 299.601 120.765 303.166 Q118.959 306.707 118.959 313.837 Q118.959 320.943 120.765 324.508 Q122.593 328.05 126.205 328.05 Q129.839 328.05 131.644 324.508 Q133.473 320.943 133.473 313.837 Q133.473 306.707 131.644 303.166 Q129.839 299.601 126.205 299.601 M126.205 295.897 Q132.015 295.897 135.07 300.504 Q138.149 305.087 138.149 313.837 Q138.149 322.564 135.07 327.17 Q132.015 331.753 126.205 331.753 Q120.394 331.753 117.316 327.17 Q114.26 322.564 114.26 313.837 Q114.26 305.087 117.316 300.504 Q120.394 295.897 126.205 295.897 Z\" fill=\"#000000\" fill-rule=\"evenodd\" fill-opacity=\"1\" /><path clip-path=\"url(#clip940)\" d=\"M146.366 325.203 L151.251 325.203 L151.251 331.082 L146.366 331.082 L146.366 325.203 Z\" fill=\"#000000\" fill-rule=\"evenodd\" fill-opacity=\"1\" /><path clip-path=\"url(#clip940)\" d=\"M174.283 300.596 L162.477 319.045 L174.283 319.045 L174.283 300.596 M173.056 296.522 L178.936 296.522 L178.936 319.045 L183.866 319.045 L183.866 322.934 L178.936 322.934 L178.936 331.082 L174.283 331.082 L174.283 322.934 L158.681 322.934 L158.681 318.42 L173.056 296.522 Z\" fill=\"#000000\" fill-rule=\"evenodd\" fill-opacity=\"1\" /><path clip-path=\"url(#clip940)\" d=\"M126.529 220.276 Q122.918 220.276 121.089 223.841 Q119.283 227.383 119.283 234.512 Q119.283 241.619 121.089 245.183 Q122.918 248.725 126.529 248.725 Q130.163 248.725 131.968 245.183 Q133.797 241.619 133.797 234.512 Q133.797 227.383 131.968 223.841 Q130.163 220.276 126.529 220.276 M126.529 216.573 Q132.339 216.573 135.394 221.179 Q138.473 225.762 138.473 234.512 Q138.473 243.239 135.394 247.845 Q132.339 252.429 126.529 252.429 Q120.718 252.429 117.64 247.845 Q114.584 243.239 114.584 234.512 Q114.584 225.762 117.64 221.179 Q120.718 216.573 126.529 216.573 Z\" fill=\"#000000\" fill-rule=\"evenodd\" fill-opacity=\"1\" /><path clip-path=\"url(#clip940)\" d=\"M146.691 245.878 L151.575 245.878 L151.575 251.758 L146.691 251.758 L146.691 245.878 Z\" fill=\"#000000\" fill-rule=\"evenodd\" fill-opacity=\"1\" /><path clip-path=\"url(#clip940)\" d=\"M172.339 232.614 Q169.19 232.614 167.339 234.767 Q165.51 236.92 165.51 240.67 Q165.51 244.396 167.339 246.572 Q169.19 248.725 172.339 248.725 Q175.487 248.725 177.315 246.572 Q179.167 244.396 179.167 240.67 Q179.167 236.92 177.315 234.767 Q175.487 232.614 172.339 232.614 M181.621 217.961 L181.621 222.221 Q179.862 221.387 178.056 220.947 Q176.274 220.508 174.514 220.508 Q169.885 220.508 167.431 223.633 Q165.001 226.758 164.653 233.077 Q166.019 231.063 168.079 229.998 Q170.139 228.91 172.616 228.91 Q177.825 228.91 180.834 232.082 Q183.866 235.23 183.866 240.67 Q183.866 245.994 180.718 249.211 Q177.57 252.429 172.339 252.429 Q166.343 252.429 163.172 247.845 Q160.001 243.239 160.001 234.512 Q160.001 226.318 163.89 221.457 Q167.778 216.573 174.329 216.573 Q176.089 216.573 177.871 216.92 Q179.676 217.267 181.621 217.961 Z\" fill=\"#000000\" fill-rule=\"evenodd\" fill-opacity=\"1\" /><path clip-path=\"url(#clip940)\" d=\"M126.783 140.952 Q123.172 140.952 121.343 144.516 Q119.538 148.058 119.538 155.188 Q119.538 162.294 121.343 165.859 Q123.172 169.4 126.783 169.4 Q130.417 169.4 132.223 165.859 Q134.052 162.294 134.052 155.188 Q134.052 148.058 132.223 144.516 Q130.417 140.952 126.783 140.952 M126.783 137.248 Q132.593 137.248 135.649 141.854 Q138.728 146.438 138.728 155.188 Q138.728 163.914 135.649 168.521 Q132.593 173.104 126.783 173.104 Q120.973 173.104 117.894 168.521 Q114.839 163.914 114.839 155.188 Q114.839 146.438 117.894 141.854 Q120.973 137.248 126.783 137.248 Z\" fill=\"#000000\" fill-rule=\"evenodd\" fill-opacity=\"1\" /><path clip-path=\"url(#clip940)\" d=\"M146.945 166.553 L151.829 166.553 L151.829 172.433 L146.945 172.433 L146.945 166.553 Z\" fill=\"#000000\" fill-rule=\"evenodd\" fill-opacity=\"1\" /><path clip-path=\"url(#clip940)\" d=\"M172.014 156.021 Q168.681 156.021 166.76 157.803 Q164.862 159.586 164.862 162.711 Q164.862 165.836 166.76 167.618 Q168.681 169.4 172.014 169.4 Q175.348 169.4 177.269 167.618 Q179.19 165.813 179.19 162.711 Q179.19 159.586 177.269 157.803 Q175.371 156.021 172.014 156.021 M167.339 154.03 Q164.329 153.289 162.64 151.229 Q160.973 149.169 160.973 146.206 Q160.973 142.063 163.913 139.655 Q166.876 137.248 172.014 137.248 Q177.176 137.248 180.116 139.655 Q183.056 142.063 183.056 146.206 Q183.056 149.169 181.366 151.229 Q179.7 153.289 176.714 154.03 Q180.093 154.817 181.968 157.109 Q183.866 159.401 183.866 162.711 Q183.866 167.734 180.788 170.419 Q177.732 173.104 172.014 173.104 Q166.297 173.104 163.218 170.419 Q160.163 167.734 160.163 162.711 Q160.163 159.401 162.061 157.109 Q163.959 154.817 167.339 154.03 M165.626 146.646 Q165.626 149.331 167.292 150.836 Q168.982 152.34 172.014 152.34 Q175.024 152.34 176.714 150.836 Q178.426 149.331 178.426 146.646 Q178.426 143.961 176.714 142.456 Q175.024 140.952 172.014 140.952 Q168.982 140.952 167.292 142.456 Q165.626 143.961 165.626 146.646 Z\" fill=\"#000000\" fill-rule=\"evenodd\" fill-opacity=\"1\" /><path clip-path=\"url(#clip940)\" d=\"M117.501 89.173 L125.14 89.173 L125.14 62.8074 L116.83 64.4741 L116.83 60.2148 L125.093 58.5482 L129.769 58.5482 L129.769 89.173 L137.408 89.173 L137.408 93.1082 L117.501 93.1082 L117.501 89.173 Z\" fill=\"#000000\" fill-rule=\"evenodd\" fill-opacity=\"1\" /><path clip-path=\"url(#clip940)\" d=\"M146.853 87.2286 L151.737 87.2286 L151.737 93.1082 L146.853 93.1082 L146.853 87.2286 Z\" fill=\"#000000\" fill-rule=\"evenodd\" fill-opacity=\"1\" /><path clip-path=\"url(#clip940)\" d=\"M171.922 61.6268 Q168.311 61.6268 166.482 65.1916 Q164.677 68.7333 164.677 75.8629 Q164.677 82.9693 166.482 86.5341 Q168.311 90.0758 171.922 90.0758 Q175.556 90.0758 177.362 86.5341 Q179.19 82.9693 179.19 75.8629 Q179.19 68.7333 177.362 65.1916 Q175.556 61.6268 171.922 61.6268 M171.922 57.9232 Q177.732 57.9232 180.788 62.5296 Q183.866 67.1129 183.866 75.8629 Q183.866 84.5897 180.788 89.1961 Q177.732 93.7795 171.922 93.7795 Q166.112 93.7795 163.033 89.1961 Q159.978 84.5897 159.978 75.8629 Q159.978 67.1129 163.033 62.5296 Q166.112 57.9232 171.922 57.9232 Z\" fill=\"#000000\" fill-rule=\"evenodd\" fill-opacity=\"1\" /><path clip-path=\"url(#clip940)\" d=\"M67.3143 252.168 Q73.68 254.65 75.6216 257.006 Q77.5631 259.361 77.5631 263.308 L77.5631 267.986 L72.6615 267.986 L72.6615 264.549 Q72.6615 262.13 71.5157 260.793 Q70.3699 259.456 66.1048 257.833 L63.4312 256.783 L28.3562 271.201 L28.3562 264.995 L56.238 253.855 L28.3562 242.715 L28.3562 236.508 L67.3143 252.168 Z\" fill=\"#000000\" fill-rule=\"evenodd\" fill-opacity=\"1\" /><path clip-path=\"url(#clip940)\" d=\"M74.8259 201.338 L79.3773 201.338 L79.3773 235.203 L74.8259 235.203 L74.8259 201.338 Z\" fill=\"#000000\" fill-rule=\"evenodd\" fill-opacity=\"1\" /><path clip-path=\"url(#clip940)\" d=\"M29.4065 173.106 L34.9447 173.106 Q33.6716 175.588 33.035 178.262 Q32.3984 180.935 32.3984 183.8 Q32.3984 188.161 33.7352 190.357 Q35.072 192.521 37.7456 192.521 Q39.7826 192.521 40.9603 190.961 Q42.1061 189.402 43.1565 184.691 L43.6021 182.686 Q44.9389 176.448 47.3897 173.838 Q49.8086 171.196 54.1691 171.196 Q59.1344 171.196 62.0308 175.143 Q64.9272 179.058 64.9272 185.933 Q64.9272 188.797 64.3543 191.916 Q63.8132 195.004 62.6992 198.441 L56.6518 198.441 Q58.3387 195.195 59.198 192.044 Q60.0256 188.893 60.0256 185.805 Q60.0256 181.668 58.6251 179.44 Q57.1929 177.212 54.6147 177.212 Q52.2276 177.212 50.9545 178.835 Q49.6813 180.426 48.5037 185.869 L48.0262 187.906 Q46.8804 193.349 44.5251 195.768 Q42.138 198.187 38.0002 198.187 Q32.9713 198.187 30.2341 194.622 Q27.4968 191.057 27.4968 184.5 Q27.4968 181.254 27.9743 178.389 Q28.4517 175.525 29.4065 173.106 Z\" fill=\"#000000\" fill-rule=\"evenodd\" fill-opacity=\"1\" /><path clip-path=\"url(#clip940)\" d=\"M58.5933 159.929 L58.5933 149.425 L22.3406 149.425 L24.6323 160.852 L18.7758 160.852 L16.4842 149.489 L16.4842 143.06 L58.5933 143.06 L58.5933 132.556 L64.0042 132.556 L64.0042 159.929 L58.5933 159.929 Z\" fill=\"#000000\" fill-rule=\"evenodd\" fill-opacity=\"1\" /><polyline clip-path=\"url(#clip942)\" style=\"stroke:#000000; stroke-linecap:round; stroke-linejoin:round; stroke-width:4; stroke-opacity:1; fill:none\" stroke-dasharray=\"2, 4\" points=\"280.231,55.997 357.622,55.997 435.013,55.997 512.403,55.997 589.794,55.997 667.185,55.997 744.576,55.997 821.966,55.997 899.357,55.997 976.748,55.997 1054.14,55.997 1131.53,55.997 1208.92,55.997 1286.31,55.997 1363.7,55.997 1441.09,55.997 1518.48,55.997 1595.87,55.997 1673.26,55.997 1750.66,55.997 1828.05,55.997 1905.44,55.997 1982.83,55.997 2060.22,55.997 2137.61,55.997 2215,55.997 2292.39,55.997 \"/>\n",
       "<polyline clip-path=\"url(#clip942)\" style=\"stroke:#000000; stroke-linecap:round; stroke-linejoin:round; stroke-width:4; stroke-opacity:1; fill:none\" stroke-dasharray=\"2, 4\" points=\"280.231,75.8282 357.622,75.8282 435.013,75.8282 512.403,75.8282 589.794,75.8282 667.185,75.8282 744.576,75.8282 821.966,75.8282 899.357,75.8282 976.748,75.8282 1054.14,75.8282 1131.53,75.8282 1208.92,75.8282 1286.31,75.8282 1363.7,75.8282 1441.09,75.8282 1518.48,75.8282 1595.87,75.8282 1673.26,75.8282 1750.66,75.8282 1828.05,75.8282 1905.44,75.8282 1982.83,75.8282 2060.22,75.8282 2137.61,75.8282 2215,75.8282 2292.39,75.8282 \"/>\n",
       "<polyline clip-path=\"url(#clip942)\" style=\"stroke:#ff0000; stroke-linecap:round; stroke-linejoin:round; stroke-width:20; stroke-opacity:0.3; fill:none\" points=\"280.231,347.76 357.622,322.289 435.013,255.505 512.403,183.276 589.794,126.67 667.185,90.3247 744.576,72.0539 821.966,68.0486 899.357,72.6756 976.748,78.8095 1054.14,81.0266 1131.53,78.9377 1208.92,75.7188 1286.31,73.8673 1363.7,73.4999 1441.09,74.0917 1518.48,76.0102 1595.87,77.709 1673.26,77.5075 1750.66,75.946 1828.05,75.0432 1905.44,75.0961 1982.83,75.4098 2060.22,75.7322 2137.61,75.9898 2215,76.1751 2292.39,76.3011 \"/>\n",
       "<line clip-path=\"url(#clip942)\" x1=\"280.231\" y1=\"347.76\" x2=\"280.231\" y2=\"331.76\" style=\"stroke:#3da44d; stroke-width:3.2; stroke-opacity:1\"/>\n",
       "<line clip-path=\"url(#clip942)\" x1=\"280.231\" y1=\"347.76\" x2=\"264.231\" y2=\"347.76\" style=\"stroke:#3da44d; stroke-width:3.2; stroke-opacity:1\"/>\n",
       "<line clip-path=\"url(#clip942)\" x1=\"280.231\" y1=\"347.76\" x2=\"280.231\" y2=\"363.76\" style=\"stroke:#3da44d; stroke-width:3.2; stroke-opacity:1\"/>\n",
       "<line clip-path=\"url(#clip942)\" x1=\"280.231\" y1=\"347.76\" x2=\"296.231\" y2=\"347.76\" style=\"stroke:#3da44d; stroke-width:3.2; stroke-opacity:1\"/>\n",
       "<line clip-path=\"url(#clip942)\" x1=\"357.622\" y1=\"322.289\" x2=\"357.622\" y2=\"306.289\" style=\"stroke:#3da44d; stroke-width:3.2; stroke-opacity:1\"/>\n",
       "<line clip-path=\"url(#clip942)\" x1=\"357.622\" y1=\"322.289\" x2=\"341.622\" y2=\"322.289\" style=\"stroke:#3da44d; stroke-width:3.2; stroke-opacity:1\"/>\n",
       "<line clip-path=\"url(#clip942)\" x1=\"357.622\" y1=\"322.289\" x2=\"357.622\" y2=\"338.289\" style=\"stroke:#3da44d; stroke-width:3.2; stroke-opacity:1\"/>\n",
       "<line clip-path=\"url(#clip942)\" x1=\"357.622\" y1=\"322.289\" x2=\"373.622\" y2=\"322.289\" style=\"stroke:#3da44d; stroke-width:3.2; stroke-opacity:1\"/>\n",
       "<line clip-path=\"url(#clip942)\" x1=\"435.013\" y1=\"255.505\" x2=\"435.013\" y2=\"239.505\" style=\"stroke:#3da44d; stroke-width:3.2; stroke-opacity:1\"/>\n",
       "<line clip-path=\"url(#clip942)\" x1=\"435.013\" y1=\"255.505\" x2=\"419.013\" y2=\"255.505\" style=\"stroke:#3da44d; stroke-width:3.2; stroke-opacity:1\"/>\n",
       "<line clip-path=\"url(#clip942)\" x1=\"435.013\" y1=\"255.505\" x2=\"435.013\" y2=\"271.505\" style=\"stroke:#3da44d; stroke-width:3.2; stroke-opacity:1\"/>\n",
       "<line clip-path=\"url(#clip942)\" x1=\"435.013\" y1=\"255.505\" x2=\"451.013\" y2=\"255.505\" style=\"stroke:#3da44d; stroke-width:3.2; stroke-opacity:1\"/>\n",
       "<line clip-path=\"url(#clip942)\" x1=\"512.403\" y1=\"183.276\" x2=\"512.403\" y2=\"167.276\" style=\"stroke:#3da44d; stroke-width:3.2; stroke-opacity:1\"/>\n",
       "<line clip-path=\"url(#clip942)\" x1=\"512.403\" y1=\"183.276\" x2=\"496.403\" y2=\"183.276\" style=\"stroke:#3da44d; stroke-width:3.2; stroke-opacity:1\"/>\n",
       "<line clip-path=\"url(#clip942)\" x1=\"512.403\" y1=\"183.276\" x2=\"512.403\" y2=\"199.276\" style=\"stroke:#3da44d; stroke-width:3.2; stroke-opacity:1\"/>\n",
       "<line clip-path=\"url(#clip942)\" x1=\"512.403\" y1=\"183.276\" x2=\"528.403\" y2=\"183.276\" style=\"stroke:#3da44d; stroke-width:3.2; stroke-opacity:1\"/>\n",
       "<line clip-path=\"url(#clip942)\" x1=\"589.794\" y1=\"126.67\" x2=\"589.794\" y2=\"110.67\" style=\"stroke:#3da44d; stroke-width:3.2; stroke-opacity:1\"/>\n",
       "<line clip-path=\"url(#clip942)\" x1=\"589.794\" y1=\"126.67\" x2=\"573.794\" y2=\"126.67\" style=\"stroke:#3da44d; stroke-width:3.2; stroke-opacity:1\"/>\n",
       "<line clip-path=\"url(#clip942)\" x1=\"589.794\" y1=\"126.67\" x2=\"589.794\" y2=\"142.67\" style=\"stroke:#3da44d; stroke-width:3.2; stroke-opacity:1\"/>\n",
       "<line clip-path=\"url(#clip942)\" x1=\"589.794\" y1=\"126.67\" x2=\"605.794\" y2=\"126.67\" style=\"stroke:#3da44d; stroke-width:3.2; stroke-opacity:1\"/>\n",
       "<line clip-path=\"url(#clip942)\" x1=\"667.185\" y1=\"90.3247\" x2=\"667.185\" y2=\"74.3247\" style=\"stroke:#3da44d; stroke-width:3.2; stroke-opacity:1\"/>\n",
       "<line clip-path=\"url(#clip942)\" x1=\"667.185\" y1=\"90.3247\" x2=\"651.185\" y2=\"90.3247\" style=\"stroke:#3da44d; stroke-width:3.2; stroke-opacity:1\"/>\n",
       "<line clip-path=\"url(#clip942)\" x1=\"667.185\" y1=\"90.3247\" x2=\"667.185\" y2=\"106.325\" style=\"stroke:#3da44d; stroke-width:3.2; stroke-opacity:1\"/>\n",
       "<line clip-path=\"url(#clip942)\" x1=\"667.185\" y1=\"90.3247\" x2=\"683.185\" y2=\"90.3247\" style=\"stroke:#3da44d; stroke-width:3.2; stroke-opacity:1\"/>\n",
       "<line clip-path=\"url(#clip942)\" x1=\"744.576\" y1=\"72.0539\" x2=\"744.576\" y2=\"56.0539\" style=\"stroke:#3da44d; stroke-width:3.2; stroke-opacity:1\"/>\n",
       "<line clip-path=\"url(#clip942)\" x1=\"744.576\" y1=\"72.0539\" x2=\"728.576\" y2=\"72.0539\" style=\"stroke:#3da44d; stroke-width:3.2; stroke-opacity:1\"/>\n",
       "<line clip-path=\"url(#clip942)\" x1=\"744.576\" y1=\"72.0539\" x2=\"744.576\" y2=\"88.0539\" style=\"stroke:#3da44d; stroke-width:3.2; stroke-opacity:1\"/>\n",
       "<line clip-path=\"url(#clip942)\" x1=\"744.576\" y1=\"72.0539\" x2=\"760.576\" y2=\"72.0539\" style=\"stroke:#3da44d; stroke-width:3.2; stroke-opacity:1\"/>\n",
       "<line clip-path=\"url(#clip942)\" x1=\"821.966\" y1=\"68.0486\" x2=\"821.966\" y2=\"52.0486\" style=\"stroke:#3da44d; stroke-width:3.2; stroke-opacity:1\"/>\n",
       "<line clip-path=\"url(#clip942)\" x1=\"821.966\" y1=\"68.0486\" x2=\"805.966\" y2=\"68.0486\" style=\"stroke:#3da44d; stroke-width:3.2; stroke-opacity:1\"/>\n",
       "<line clip-path=\"url(#clip942)\" x1=\"821.966\" y1=\"68.0486\" x2=\"821.966\" y2=\"84.0486\" style=\"stroke:#3da44d; stroke-width:3.2; stroke-opacity:1\"/>\n",
       "<line clip-path=\"url(#clip942)\" x1=\"821.966\" y1=\"68.0486\" x2=\"837.966\" y2=\"68.0486\" style=\"stroke:#3da44d; stroke-width:3.2; stroke-opacity:1\"/>\n",
       "<line clip-path=\"url(#clip942)\" x1=\"899.357\" y1=\"72.6756\" x2=\"899.357\" y2=\"56.6756\" style=\"stroke:#3da44d; stroke-width:3.2; stroke-opacity:1\"/>\n",
       "<line clip-path=\"url(#clip942)\" x1=\"899.357\" y1=\"72.6756\" x2=\"883.357\" y2=\"72.6756\" style=\"stroke:#3da44d; stroke-width:3.2; stroke-opacity:1\"/>\n",
       "<line clip-path=\"url(#clip942)\" x1=\"899.357\" y1=\"72.6756\" x2=\"899.357\" y2=\"88.6756\" style=\"stroke:#3da44d; stroke-width:3.2; stroke-opacity:1\"/>\n",
       "<line clip-path=\"url(#clip942)\" x1=\"899.357\" y1=\"72.6756\" x2=\"915.357\" y2=\"72.6756\" style=\"stroke:#3da44d; stroke-width:3.2; stroke-opacity:1\"/>\n",
       "<line clip-path=\"url(#clip942)\" x1=\"976.748\" y1=\"78.8095\" x2=\"976.748\" y2=\"62.8095\" style=\"stroke:#3da44d; stroke-width:3.2; stroke-opacity:1\"/>\n",
       "<line clip-path=\"url(#clip942)\" x1=\"976.748\" y1=\"78.8095\" x2=\"960.748\" y2=\"78.8095\" style=\"stroke:#3da44d; stroke-width:3.2; stroke-opacity:1\"/>\n",
       "<line clip-path=\"url(#clip942)\" x1=\"976.748\" y1=\"78.8095\" x2=\"976.748\" y2=\"94.8095\" style=\"stroke:#3da44d; stroke-width:3.2; stroke-opacity:1\"/>\n",
       "<line clip-path=\"url(#clip942)\" x1=\"976.748\" y1=\"78.8095\" x2=\"992.748\" y2=\"78.8095\" style=\"stroke:#3da44d; stroke-width:3.2; stroke-opacity:1\"/>\n",
       "<line clip-path=\"url(#clip942)\" x1=\"1054.14\" y1=\"81.0266\" x2=\"1054.14\" y2=\"65.0266\" style=\"stroke:#3da44d; stroke-width:3.2; stroke-opacity:1\"/>\n",
       "<line clip-path=\"url(#clip942)\" x1=\"1054.14\" y1=\"81.0266\" x2=\"1038.14\" y2=\"81.0266\" style=\"stroke:#3da44d; stroke-width:3.2; stroke-opacity:1\"/>\n",
       "<line clip-path=\"url(#clip942)\" x1=\"1054.14\" y1=\"81.0266\" x2=\"1054.14\" y2=\"97.0266\" style=\"stroke:#3da44d; stroke-width:3.2; stroke-opacity:1\"/>\n",
       "<line clip-path=\"url(#clip942)\" x1=\"1054.14\" y1=\"81.0266\" x2=\"1070.14\" y2=\"81.0266\" style=\"stroke:#3da44d; stroke-width:3.2; stroke-opacity:1\"/>\n",
       "<line clip-path=\"url(#clip942)\" x1=\"1131.53\" y1=\"78.9377\" x2=\"1131.53\" y2=\"62.9377\" style=\"stroke:#3da44d; stroke-width:3.2; stroke-opacity:1\"/>\n",
       "<line clip-path=\"url(#clip942)\" x1=\"1131.53\" y1=\"78.9377\" x2=\"1115.53\" y2=\"78.9377\" style=\"stroke:#3da44d; stroke-width:3.2; stroke-opacity:1\"/>\n",
       "<line clip-path=\"url(#clip942)\" x1=\"1131.53\" y1=\"78.9377\" x2=\"1131.53\" y2=\"94.9377\" style=\"stroke:#3da44d; stroke-width:3.2; stroke-opacity:1\"/>\n",
       "<line clip-path=\"url(#clip942)\" x1=\"1131.53\" y1=\"78.9377\" x2=\"1147.53\" y2=\"78.9377\" style=\"stroke:#3da44d; stroke-width:3.2; stroke-opacity:1\"/>\n",
       "<line clip-path=\"url(#clip942)\" x1=\"1208.92\" y1=\"75.7188\" x2=\"1208.92\" y2=\"59.7188\" style=\"stroke:#3da44d; stroke-width:3.2; stroke-opacity:1\"/>\n",
       "<line clip-path=\"url(#clip942)\" x1=\"1208.92\" y1=\"75.7188\" x2=\"1192.92\" y2=\"75.7188\" style=\"stroke:#3da44d; stroke-width:3.2; stroke-opacity:1\"/>\n",
       "<line clip-path=\"url(#clip942)\" x1=\"1208.92\" y1=\"75.7188\" x2=\"1208.92\" y2=\"91.7188\" style=\"stroke:#3da44d; stroke-width:3.2; stroke-opacity:1\"/>\n",
       "<line clip-path=\"url(#clip942)\" x1=\"1208.92\" y1=\"75.7188\" x2=\"1224.92\" y2=\"75.7188\" style=\"stroke:#3da44d; stroke-width:3.2; stroke-opacity:1\"/>\n",
       "<line clip-path=\"url(#clip942)\" x1=\"1286.31\" y1=\"73.8673\" x2=\"1286.31\" y2=\"57.8673\" style=\"stroke:#3da44d; stroke-width:3.2; stroke-opacity:1\"/>\n",
       "<line clip-path=\"url(#clip942)\" x1=\"1286.31\" y1=\"73.8673\" x2=\"1270.31\" y2=\"73.8673\" style=\"stroke:#3da44d; stroke-width:3.2; stroke-opacity:1\"/>\n",
       "<line clip-path=\"url(#clip942)\" x1=\"1286.31\" y1=\"73.8673\" x2=\"1286.31\" y2=\"89.8673\" style=\"stroke:#3da44d; stroke-width:3.2; stroke-opacity:1\"/>\n",
       "<line clip-path=\"url(#clip942)\" x1=\"1286.31\" y1=\"73.8673\" x2=\"1302.31\" y2=\"73.8673\" style=\"stroke:#3da44d; stroke-width:3.2; stroke-opacity:1\"/>\n",
       "<line clip-path=\"url(#clip942)\" x1=\"1363.7\" y1=\"73.4999\" x2=\"1363.7\" y2=\"57.4999\" style=\"stroke:#3da44d; stroke-width:3.2; stroke-opacity:1\"/>\n",
       "<line clip-path=\"url(#clip942)\" x1=\"1363.7\" y1=\"73.4999\" x2=\"1347.7\" y2=\"73.4999\" style=\"stroke:#3da44d; stroke-width:3.2; stroke-opacity:1\"/>\n",
       "<line clip-path=\"url(#clip942)\" x1=\"1363.7\" y1=\"73.4999\" x2=\"1363.7\" y2=\"89.4999\" style=\"stroke:#3da44d; stroke-width:3.2; stroke-opacity:1\"/>\n",
       "<line clip-path=\"url(#clip942)\" x1=\"1363.7\" y1=\"73.4999\" x2=\"1379.7\" y2=\"73.4999\" style=\"stroke:#3da44d; stroke-width:3.2; stroke-opacity:1\"/>\n",
       "<line clip-path=\"url(#clip942)\" x1=\"1441.09\" y1=\"74.0917\" x2=\"1441.09\" y2=\"58.0917\" style=\"stroke:#3da44d; stroke-width:3.2; stroke-opacity:1\"/>\n",
       "<line clip-path=\"url(#clip942)\" x1=\"1441.09\" y1=\"74.0917\" x2=\"1425.09\" y2=\"74.0917\" style=\"stroke:#3da44d; stroke-width:3.2; stroke-opacity:1\"/>\n",
       "<line clip-path=\"url(#clip942)\" x1=\"1441.09\" y1=\"74.0917\" x2=\"1441.09\" y2=\"90.0917\" style=\"stroke:#3da44d; stroke-width:3.2; stroke-opacity:1\"/>\n",
       "<line clip-path=\"url(#clip942)\" x1=\"1441.09\" y1=\"74.0917\" x2=\"1457.09\" y2=\"74.0917\" style=\"stroke:#3da44d; stroke-width:3.2; stroke-opacity:1\"/>\n",
       "<line clip-path=\"url(#clip942)\" x1=\"1518.48\" y1=\"76.0102\" x2=\"1518.48\" y2=\"60.0102\" style=\"stroke:#3da44d; stroke-width:3.2; stroke-opacity:1\"/>\n",
       "<line clip-path=\"url(#clip942)\" x1=\"1518.48\" y1=\"76.0102\" x2=\"1502.48\" y2=\"76.0102\" style=\"stroke:#3da44d; stroke-width:3.2; stroke-opacity:1\"/>\n",
       "<line clip-path=\"url(#clip942)\" x1=\"1518.48\" y1=\"76.0102\" x2=\"1518.48\" y2=\"92.0102\" style=\"stroke:#3da44d; stroke-width:3.2; stroke-opacity:1\"/>\n",
       "<line clip-path=\"url(#clip942)\" x1=\"1518.48\" y1=\"76.0102\" x2=\"1534.48\" y2=\"76.0102\" style=\"stroke:#3da44d; stroke-width:3.2; stroke-opacity:1\"/>\n",
       "<line clip-path=\"url(#clip942)\" x1=\"1595.87\" y1=\"77.709\" x2=\"1595.87\" y2=\"61.709\" style=\"stroke:#3da44d; stroke-width:3.2; stroke-opacity:1\"/>\n",
       "<line clip-path=\"url(#clip942)\" x1=\"1595.87\" y1=\"77.709\" x2=\"1579.87\" y2=\"77.709\" style=\"stroke:#3da44d; stroke-width:3.2; stroke-opacity:1\"/>\n",
       "<line clip-path=\"url(#clip942)\" x1=\"1595.87\" y1=\"77.709\" x2=\"1595.87\" y2=\"93.709\" style=\"stroke:#3da44d; stroke-width:3.2; stroke-opacity:1\"/>\n",
       "<line clip-path=\"url(#clip942)\" x1=\"1595.87\" y1=\"77.709\" x2=\"1611.87\" y2=\"77.709\" style=\"stroke:#3da44d; stroke-width:3.2; stroke-opacity:1\"/>\n",
       "<line clip-path=\"url(#clip942)\" x1=\"1673.26\" y1=\"77.5075\" x2=\"1673.26\" y2=\"61.5075\" style=\"stroke:#3da44d; stroke-width:3.2; stroke-opacity:1\"/>\n",
       "<line clip-path=\"url(#clip942)\" x1=\"1673.26\" y1=\"77.5075\" x2=\"1657.26\" y2=\"77.5075\" style=\"stroke:#3da44d; stroke-width:3.2; stroke-opacity:1\"/>\n",
       "<line clip-path=\"url(#clip942)\" x1=\"1673.26\" y1=\"77.5075\" x2=\"1673.26\" y2=\"93.5075\" style=\"stroke:#3da44d; stroke-width:3.2; stroke-opacity:1\"/>\n",
       "<line clip-path=\"url(#clip942)\" x1=\"1673.26\" y1=\"77.5075\" x2=\"1689.26\" y2=\"77.5075\" style=\"stroke:#3da44d; stroke-width:3.2; stroke-opacity:1\"/>\n",
       "<line clip-path=\"url(#clip942)\" x1=\"1750.66\" y1=\"75.946\" x2=\"1750.66\" y2=\"59.946\" style=\"stroke:#3da44d; stroke-width:3.2; stroke-opacity:1\"/>\n",
       "<line clip-path=\"url(#clip942)\" x1=\"1750.66\" y1=\"75.946\" x2=\"1734.66\" y2=\"75.946\" style=\"stroke:#3da44d; stroke-width:3.2; stroke-opacity:1\"/>\n",
       "<line clip-path=\"url(#clip942)\" x1=\"1750.66\" y1=\"75.946\" x2=\"1750.66\" y2=\"91.946\" style=\"stroke:#3da44d; stroke-width:3.2; stroke-opacity:1\"/>\n",
       "<line clip-path=\"url(#clip942)\" x1=\"1750.66\" y1=\"75.946\" x2=\"1766.66\" y2=\"75.946\" style=\"stroke:#3da44d; stroke-width:3.2; stroke-opacity:1\"/>\n",
       "<line clip-path=\"url(#clip942)\" x1=\"1828.05\" y1=\"75.0432\" x2=\"1828.05\" y2=\"59.0432\" style=\"stroke:#3da44d; stroke-width:3.2; stroke-opacity:1\"/>\n",
       "<line clip-path=\"url(#clip942)\" x1=\"1828.05\" y1=\"75.0432\" x2=\"1812.05\" y2=\"75.0432\" style=\"stroke:#3da44d; stroke-width:3.2; stroke-opacity:1\"/>\n",
       "<line clip-path=\"url(#clip942)\" x1=\"1828.05\" y1=\"75.0432\" x2=\"1828.05\" y2=\"91.0432\" style=\"stroke:#3da44d; stroke-width:3.2; stroke-opacity:1\"/>\n",
       "<line clip-path=\"url(#clip942)\" x1=\"1828.05\" y1=\"75.0432\" x2=\"1844.05\" y2=\"75.0432\" style=\"stroke:#3da44d; stroke-width:3.2; stroke-opacity:1\"/>\n",
       "<line clip-path=\"url(#clip942)\" x1=\"1905.44\" y1=\"75.0961\" x2=\"1905.44\" y2=\"59.0961\" style=\"stroke:#3da44d; stroke-width:3.2; stroke-opacity:1\"/>\n",
       "<line clip-path=\"url(#clip942)\" x1=\"1905.44\" y1=\"75.0961\" x2=\"1889.44\" y2=\"75.0961\" style=\"stroke:#3da44d; stroke-width:3.2; stroke-opacity:1\"/>\n",
       "<line clip-path=\"url(#clip942)\" x1=\"1905.44\" y1=\"75.0961\" x2=\"1905.44\" y2=\"91.0961\" style=\"stroke:#3da44d; stroke-width:3.2; stroke-opacity:1\"/>\n",
       "<line clip-path=\"url(#clip942)\" x1=\"1905.44\" y1=\"75.0961\" x2=\"1921.44\" y2=\"75.0961\" style=\"stroke:#3da44d; stroke-width:3.2; stroke-opacity:1\"/>\n",
       "<line clip-path=\"url(#clip942)\" x1=\"1982.83\" y1=\"75.4098\" x2=\"1982.83\" y2=\"59.4098\" style=\"stroke:#3da44d; stroke-width:3.2; stroke-opacity:1\"/>\n",
       "<line clip-path=\"url(#clip942)\" x1=\"1982.83\" y1=\"75.4098\" x2=\"1966.83\" y2=\"75.4098\" style=\"stroke:#3da44d; stroke-width:3.2; stroke-opacity:1\"/>\n",
       "<line clip-path=\"url(#clip942)\" x1=\"1982.83\" y1=\"75.4098\" x2=\"1982.83\" y2=\"91.4098\" style=\"stroke:#3da44d; stroke-width:3.2; stroke-opacity:1\"/>\n",
       "<line clip-path=\"url(#clip942)\" x1=\"1982.83\" y1=\"75.4098\" x2=\"1998.83\" y2=\"75.4098\" style=\"stroke:#3da44d; stroke-width:3.2; stroke-opacity:1\"/>\n",
       "<line clip-path=\"url(#clip942)\" x1=\"2060.22\" y1=\"75.7322\" x2=\"2060.22\" y2=\"59.7322\" style=\"stroke:#3da44d; stroke-width:3.2; stroke-opacity:1\"/>\n",
       "<line clip-path=\"url(#clip942)\" x1=\"2060.22\" y1=\"75.7322\" x2=\"2044.22\" y2=\"75.7322\" style=\"stroke:#3da44d; stroke-width:3.2; stroke-opacity:1\"/>\n",
       "<line clip-path=\"url(#clip942)\" x1=\"2060.22\" y1=\"75.7322\" x2=\"2060.22\" y2=\"91.7322\" style=\"stroke:#3da44d; stroke-width:3.2; stroke-opacity:1\"/>\n",
       "<line clip-path=\"url(#clip942)\" x1=\"2060.22\" y1=\"75.7322\" x2=\"2076.22\" y2=\"75.7322\" style=\"stroke:#3da44d; stroke-width:3.2; stroke-opacity:1\"/>\n",
       "<line clip-path=\"url(#clip942)\" x1=\"2137.61\" y1=\"75.9898\" x2=\"2137.61\" y2=\"59.9898\" style=\"stroke:#3da44d; stroke-width:3.2; stroke-opacity:1\"/>\n",
       "<line clip-path=\"url(#clip942)\" x1=\"2137.61\" y1=\"75.9898\" x2=\"2121.61\" y2=\"75.9898\" style=\"stroke:#3da44d; stroke-width:3.2; stroke-opacity:1\"/>\n",
       "<line clip-path=\"url(#clip942)\" x1=\"2137.61\" y1=\"75.9898\" x2=\"2137.61\" y2=\"91.9898\" style=\"stroke:#3da44d; stroke-width:3.2; stroke-opacity:1\"/>\n",
       "<line clip-path=\"url(#clip942)\" x1=\"2137.61\" y1=\"75.9898\" x2=\"2153.61\" y2=\"75.9898\" style=\"stroke:#3da44d; stroke-width:3.2; stroke-opacity:1\"/>\n",
       "<line clip-path=\"url(#clip942)\" x1=\"2215\" y1=\"76.1751\" x2=\"2215\" y2=\"60.1751\" style=\"stroke:#3da44d; stroke-width:3.2; stroke-opacity:1\"/>\n",
       "<line clip-path=\"url(#clip942)\" x1=\"2215\" y1=\"76.1751\" x2=\"2199\" y2=\"76.1751\" style=\"stroke:#3da44d; stroke-width:3.2; stroke-opacity:1\"/>\n",
       "<line clip-path=\"url(#clip942)\" x1=\"2215\" y1=\"76.1751\" x2=\"2215\" y2=\"92.1751\" style=\"stroke:#3da44d; stroke-width:3.2; stroke-opacity:1\"/>\n",
       "<line clip-path=\"url(#clip942)\" x1=\"2215\" y1=\"76.1751\" x2=\"2231\" y2=\"76.1751\" style=\"stroke:#3da44d; stroke-width:3.2; stroke-opacity:1\"/>\n",
       "<line clip-path=\"url(#clip942)\" x1=\"2292.39\" y1=\"76.3011\" x2=\"2292.39\" y2=\"60.3011\" style=\"stroke:#3da44d; stroke-width:3.2; stroke-opacity:1\"/>\n",
       "<line clip-path=\"url(#clip942)\" x1=\"2292.39\" y1=\"76.3011\" x2=\"2276.39\" y2=\"76.3011\" style=\"stroke:#3da44d; stroke-width:3.2; stroke-opacity:1\"/>\n",
       "<line clip-path=\"url(#clip942)\" x1=\"2292.39\" y1=\"76.3011\" x2=\"2292.39\" y2=\"92.3011\" style=\"stroke:#3da44d; stroke-width:3.2; stroke-opacity:1\"/>\n",
       "<line clip-path=\"url(#clip942)\" x1=\"2292.39\" y1=\"76.3011\" x2=\"2308.39\" y2=\"76.3011\" style=\"stroke:#3da44d; stroke-width:3.2; stroke-opacity:1\"/>\n",
       "<polyline clip-path=\"url(#clip942)\" style=\"stroke:#80007f; stroke-linecap:round; stroke-linejoin:round; stroke-width:20; stroke-opacity:0.3; fill:none\" points=\"280.231,347.76 357.622,322.085 435.013,255.152 512.403,182.954 589.794,124.339 667.185,85.8948 744.576,67.0972 821.966,62.6318 899.357,66.9749 976.748,74.0064 1054.14,78.6803 1131.53,80.5066 1208.92,81.0081 1286.31,78.6092 1363.7,74.3025 1441.09,71.6479 1518.48,72.5428 1595.87,75.9628 1673.26,77.987 1750.66,77.293 1828.05,76.2654 1905.44,75.8621 1982.83,75.7207 2060.22,75.6833 2137.61,75.6833 2215,75.694 2292.39,75.7055 \"/>\n",
       "<circle clip-path=\"url(#clip942)\" cx=\"280.231\" cy=\"347.76\" r=\"14.4\" fill=\"#c271d2\" fill-rule=\"evenodd\" fill-opacity=\"1\" stroke=\"#000000\" stroke-opacity=\"1\" stroke-width=\"3.2\"/>\n",
       "<circle clip-path=\"url(#clip942)\" cx=\"357.622\" cy=\"322.085\" r=\"14.4\" fill=\"#c271d2\" fill-rule=\"evenodd\" fill-opacity=\"1\" stroke=\"#000000\" stroke-opacity=\"1\" stroke-width=\"3.2\"/>\n",
       "<circle clip-path=\"url(#clip942)\" cx=\"435.013\" cy=\"255.152\" r=\"14.4\" fill=\"#c271d2\" fill-rule=\"evenodd\" fill-opacity=\"1\" stroke=\"#000000\" stroke-opacity=\"1\" stroke-width=\"3.2\"/>\n",
       "<circle clip-path=\"url(#clip942)\" cx=\"512.403\" cy=\"182.954\" r=\"14.4\" fill=\"#c271d2\" fill-rule=\"evenodd\" fill-opacity=\"1\" stroke=\"#000000\" stroke-opacity=\"1\" stroke-width=\"3.2\"/>\n",
       "<circle clip-path=\"url(#clip942)\" cx=\"589.794\" cy=\"124.339\" r=\"14.4\" fill=\"#c271d2\" fill-rule=\"evenodd\" fill-opacity=\"1\" stroke=\"#000000\" stroke-opacity=\"1\" stroke-width=\"3.2\"/>\n",
       "<circle clip-path=\"url(#clip942)\" cx=\"667.185\" cy=\"85.8948\" r=\"14.4\" fill=\"#c271d2\" fill-rule=\"evenodd\" fill-opacity=\"1\" stroke=\"#000000\" stroke-opacity=\"1\" stroke-width=\"3.2\"/>\n",
       "<circle clip-path=\"url(#clip942)\" cx=\"744.576\" cy=\"67.0972\" r=\"14.4\" fill=\"#c271d2\" fill-rule=\"evenodd\" fill-opacity=\"1\" stroke=\"#000000\" stroke-opacity=\"1\" stroke-width=\"3.2\"/>\n",
       "<circle clip-path=\"url(#clip942)\" cx=\"821.966\" cy=\"62.6318\" r=\"14.4\" fill=\"#c271d2\" fill-rule=\"evenodd\" fill-opacity=\"1\" stroke=\"#000000\" stroke-opacity=\"1\" stroke-width=\"3.2\"/>\n",
       "<circle clip-path=\"url(#clip942)\" cx=\"899.357\" cy=\"66.9749\" r=\"14.4\" fill=\"#c271d2\" fill-rule=\"evenodd\" fill-opacity=\"1\" stroke=\"#000000\" stroke-opacity=\"1\" stroke-width=\"3.2\"/>\n",
       "<circle clip-path=\"url(#clip942)\" cx=\"976.748\" cy=\"74.0064\" r=\"14.4\" fill=\"#c271d2\" fill-rule=\"evenodd\" fill-opacity=\"1\" stroke=\"#000000\" stroke-opacity=\"1\" stroke-width=\"3.2\"/>\n",
       "<circle clip-path=\"url(#clip942)\" cx=\"1054.14\" cy=\"78.6803\" r=\"14.4\" fill=\"#c271d2\" fill-rule=\"evenodd\" fill-opacity=\"1\" stroke=\"#000000\" stroke-opacity=\"1\" stroke-width=\"3.2\"/>\n",
       "<circle clip-path=\"url(#clip942)\" cx=\"1131.53\" cy=\"80.5066\" r=\"14.4\" fill=\"#c271d2\" fill-rule=\"evenodd\" fill-opacity=\"1\" stroke=\"#000000\" stroke-opacity=\"1\" stroke-width=\"3.2\"/>\n",
       "<circle clip-path=\"url(#clip942)\" cx=\"1208.92\" cy=\"81.0081\" r=\"14.4\" fill=\"#c271d2\" fill-rule=\"evenodd\" fill-opacity=\"1\" stroke=\"#000000\" stroke-opacity=\"1\" stroke-width=\"3.2\"/>\n",
       "<circle clip-path=\"url(#clip942)\" cx=\"1286.31\" cy=\"78.6092\" r=\"14.4\" fill=\"#c271d2\" fill-rule=\"evenodd\" fill-opacity=\"1\" stroke=\"#000000\" stroke-opacity=\"1\" stroke-width=\"3.2\"/>\n",
       "<circle clip-path=\"url(#clip942)\" cx=\"1363.7\" cy=\"74.3025\" r=\"14.4\" fill=\"#c271d2\" fill-rule=\"evenodd\" fill-opacity=\"1\" stroke=\"#000000\" stroke-opacity=\"1\" stroke-width=\"3.2\"/>\n",
       "<circle clip-path=\"url(#clip942)\" cx=\"1441.09\" cy=\"71.6479\" r=\"14.4\" fill=\"#c271d2\" fill-rule=\"evenodd\" fill-opacity=\"1\" stroke=\"#000000\" stroke-opacity=\"1\" stroke-width=\"3.2\"/>\n",
       "<circle clip-path=\"url(#clip942)\" cx=\"1518.48\" cy=\"72.5428\" r=\"14.4\" fill=\"#c271d2\" fill-rule=\"evenodd\" fill-opacity=\"1\" stroke=\"#000000\" stroke-opacity=\"1\" stroke-width=\"3.2\"/>\n",
       "<circle clip-path=\"url(#clip942)\" cx=\"1595.87\" cy=\"75.9628\" r=\"14.4\" fill=\"#c271d2\" fill-rule=\"evenodd\" fill-opacity=\"1\" stroke=\"#000000\" stroke-opacity=\"1\" stroke-width=\"3.2\"/>\n",
       "<circle clip-path=\"url(#clip942)\" cx=\"1673.26\" cy=\"77.987\" r=\"14.4\" fill=\"#c271d2\" fill-rule=\"evenodd\" fill-opacity=\"1\" stroke=\"#000000\" stroke-opacity=\"1\" stroke-width=\"3.2\"/>\n",
       "<circle clip-path=\"url(#clip942)\" cx=\"1750.66\" cy=\"77.293\" r=\"14.4\" fill=\"#c271d2\" fill-rule=\"evenodd\" fill-opacity=\"1\" stroke=\"#000000\" stroke-opacity=\"1\" stroke-width=\"3.2\"/>\n",
       "<circle clip-path=\"url(#clip942)\" cx=\"1828.05\" cy=\"76.2654\" r=\"14.4\" fill=\"#c271d2\" fill-rule=\"evenodd\" fill-opacity=\"1\" stroke=\"#000000\" stroke-opacity=\"1\" stroke-width=\"3.2\"/>\n",
       "<circle clip-path=\"url(#clip942)\" cx=\"1905.44\" cy=\"75.8621\" r=\"14.4\" fill=\"#c271d2\" fill-rule=\"evenodd\" fill-opacity=\"1\" stroke=\"#000000\" stroke-opacity=\"1\" stroke-width=\"3.2\"/>\n",
       "<circle clip-path=\"url(#clip942)\" cx=\"1982.83\" cy=\"75.7207\" r=\"14.4\" fill=\"#c271d2\" fill-rule=\"evenodd\" fill-opacity=\"1\" stroke=\"#000000\" stroke-opacity=\"1\" stroke-width=\"3.2\"/>\n",
       "<circle clip-path=\"url(#clip942)\" cx=\"2060.22\" cy=\"75.6833\" r=\"14.4\" fill=\"#c271d2\" fill-rule=\"evenodd\" fill-opacity=\"1\" stroke=\"#000000\" stroke-opacity=\"1\" stroke-width=\"3.2\"/>\n",
       "<circle clip-path=\"url(#clip942)\" cx=\"2137.61\" cy=\"75.6833\" r=\"14.4\" fill=\"#c271d2\" fill-rule=\"evenodd\" fill-opacity=\"1\" stroke=\"#000000\" stroke-opacity=\"1\" stroke-width=\"3.2\"/>\n",
       "<circle clip-path=\"url(#clip942)\" cx=\"2215\" cy=\"75.694\" r=\"14.4\" fill=\"#c271d2\" fill-rule=\"evenodd\" fill-opacity=\"1\" stroke=\"#000000\" stroke-opacity=\"1\" stroke-width=\"3.2\"/>\n",
       "<circle clip-path=\"url(#clip942)\" cx=\"2292.39\" cy=\"75.7055\" r=\"14.4\" fill=\"#c271d2\" fill-rule=\"evenodd\" fill-opacity=\"1\" stroke=\"#000000\" stroke-opacity=\"1\" stroke-width=\"3.2\"/>\n",
       "<polyline clip-path=\"url(#clip942)\" style=\"stroke:#0000ff; stroke-linecap:round; stroke-linejoin:round; stroke-width:20; stroke-opacity:0.3; fill:none\" points=\"280.231,347.76 357.622,322.085 435.013,255.152 512.403,182.954 589.794,124.824 667.185,86.963 744.576,68.4141 821.966,64.0209 899.357,68.4005 976.748,75.5434 1054.14,79.9388 1131.53,80.5193 1208.92,79.5241 1286.31,76.6987 1363.7,73.1841 1441.09,71.8503 1518.48,73.7718 1595.87,77.2141 1673.26,78.4396 1750.66,76.8284 1828.05,75.4894 1905.44,75.2802 1982.83,75.4361 2060.22,75.6634 2137.61,75.8634 2215,76.014 2292.39,76.119 \"/>\n",
       "<path clip-path=\"url(#clip942)\" d=\"M280.231 331.76 L264.231 347.76 L280.231 363.76 L296.231 347.76 L280.231 331.76 Z\" fill=\"#ac8d18\" fill-rule=\"evenodd\" fill-opacity=\"1\" stroke=\"#000000\" stroke-opacity=\"1\" stroke-width=\"3.2\"/>\n",
       "<path clip-path=\"url(#clip942)\" d=\"M357.622 306.085 L341.622 322.085 L357.622 338.085 L373.622 322.085 L357.622 306.085 Z\" fill=\"#ac8d18\" fill-rule=\"evenodd\" fill-opacity=\"1\" stroke=\"#000000\" stroke-opacity=\"1\" stroke-width=\"3.2\"/>\n",
       "<path clip-path=\"url(#clip942)\" d=\"M435.013 239.152 L419.013 255.152 L435.013 271.152 L451.013 255.152 L435.013 239.152 Z\" fill=\"#ac8d18\" fill-rule=\"evenodd\" fill-opacity=\"1\" stroke=\"#000000\" stroke-opacity=\"1\" stroke-width=\"3.2\"/>\n",
       "<path clip-path=\"url(#clip942)\" d=\"M512.403 166.954 L496.403 182.954 L512.403 198.954 L528.403 182.954 L512.403 166.954 Z\" fill=\"#ac8d18\" fill-rule=\"evenodd\" fill-opacity=\"1\" stroke=\"#000000\" stroke-opacity=\"1\" stroke-width=\"3.2\"/>\n",
       "<path clip-path=\"url(#clip942)\" d=\"M589.794 108.824 L573.794 124.824 L589.794 140.824 L605.794 124.824 L589.794 108.824 Z\" fill=\"#ac8d18\" fill-rule=\"evenodd\" fill-opacity=\"1\" stroke=\"#000000\" stroke-opacity=\"1\" stroke-width=\"3.2\"/>\n",
       "<path clip-path=\"url(#clip942)\" d=\"M667.185 70.963 L651.185 86.963 L667.185 102.963 L683.185 86.963 L667.185 70.963 Z\" fill=\"#ac8d18\" fill-rule=\"evenodd\" fill-opacity=\"1\" stroke=\"#000000\" stroke-opacity=\"1\" stroke-width=\"3.2\"/>\n",
       "<path clip-path=\"url(#clip942)\" d=\"M744.576 52.4141 L728.576 68.4141 L744.576 84.4141 L760.576 68.4141 L744.576 52.4141 Z\" fill=\"#ac8d18\" fill-rule=\"evenodd\" fill-opacity=\"1\" stroke=\"#000000\" stroke-opacity=\"1\" stroke-width=\"3.2\"/>\n",
       "<path clip-path=\"url(#clip942)\" d=\"M821.966 48.0209 L805.966 64.0209 L821.966 80.0209 L837.966 64.0209 L821.966 48.0209 Z\" fill=\"#ac8d18\" fill-rule=\"evenodd\" fill-opacity=\"1\" stroke=\"#000000\" stroke-opacity=\"1\" stroke-width=\"3.2\"/>\n",
       "<path clip-path=\"url(#clip942)\" d=\"M899.357 52.4005 L883.357 68.4005 L899.357 84.4005 L915.357 68.4005 L899.357 52.4005 Z\" fill=\"#ac8d18\" fill-rule=\"evenodd\" fill-opacity=\"1\" stroke=\"#000000\" stroke-opacity=\"1\" stroke-width=\"3.2\"/>\n",
       "<path clip-path=\"url(#clip942)\" d=\"M976.748 59.5434 L960.748 75.5434 L976.748 91.5434 L992.748 75.5434 L976.748 59.5434 Z\" fill=\"#ac8d18\" fill-rule=\"evenodd\" fill-opacity=\"1\" stroke=\"#000000\" stroke-opacity=\"1\" stroke-width=\"3.2\"/>\n",
       "<path clip-path=\"url(#clip942)\" d=\"M1054.14 63.9388 L1038.14 79.9388 L1054.14 95.9388 L1070.14 79.9388 L1054.14 63.9388 Z\" fill=\"#ac8d18\" fill-rule=\"evenodd\" fill-opacity=\"1\" stroke=\"#000000\" stroke-opacity=\"1\" stroke-width=\"3.2\"/>\n",
       "<path clip-path=\"url(#clip942)\" d=\"M1131.53 64.5193 L1115.53 80.5193 L1131.53 96.5193 L1147.53 80.5193 L1131.53 64.5193 Z\" fill=\"#ac8d18\" fill-rule=\"evenodd\" fill-opacity=\"1\" stroke=\"#000000\" stroke-opacity=\"1\" stroke-width=\"3.2\"/>\n",
       "<path clip-path=\"url(#clip942)\" d=\"M1208.92 63.5241 L1192.92 79.5241 L1208.92 95.5241 L1224.92 79.5241 L1208.92 63.5241 Z\" fill=\"#ac8d18\" fill-rule=\"evenodd\" fill-opacity=\"1\" stroke=\"#000000\" stroke-opacity=\"1\" stroke-width=\"3.2\"/>\n",
       "<path clip-path=\"url(#clip942)\" d=\"M1286.31 60.6987 L1270.31 76.6987 L1286.31 92.6987 L1302.31 76.6987 L1286.31 60.6987 Z\" fill=\"#ac8d18\" fill-rule=\"evenodd\" fill-opacity=\"1\" stroke=\"#000000\" stroke-opacity=\"1\" stroke-width=\"3.2\"/>\n",
       "<path clip-path=\"url(#clip942)\" d=\"M1363.7 57.1841 L1347.7 73.1841 L1363.7 89.1841 L1379.7 73.1841 L1363.7 57.1841 Z\" fill=\"#ac8d18\" fill-rule=\"evenodd\" fill-opacity=\"1\" stroke=\"#000000\" stroke-opacity=\"1\" stroke-width=\"3.2\"/>\n",
       "<path clip-path=\"url(#clip942)\" d=\"M1441.09 55.8503 L1425.09 71.8503 L1441.09 87.8503 L1457.09 71.8503 L1441.09 55.8503 Z\" fill=\"#ac8d18\" fill-rule=\"evenodd\" fill-opacity=\"1\" stroke=\"#000000\" stroke-opacity=\"1\" stroke-width=\"3.2\"/>\n",
       "<path clip-path=\"url(#clip942)\" d=\"M1518.48 57.7718 L1502.48 73.7718 L1518.48 89.7718 L1534.48 73.7718 L1518.48 57.7718 Z\" fill=\"#ac8d18\" fill-rule=\"evenodd\" fill-opacity=\"1\" stroke=\"#000000\" stroke-opacity=\"1\" stroke-width=\"3.2\"/>\n",
       "<path clip-path=\"url(#clip942)\" d=\"M1595.87 61.2141 L1579.87 77.2141 L1595.87 93.2141 L1611.87 77.2141 L1595.87 61.2141 Z\" fill=\"#ac8d18\" fill-rule=\"evenodd\" fill-opacity=\"1\" stroke=\"#000000\" stroke-opacity=\"1\" stroke-width=\"3.2\"/>\n",
       "<path clip-path=\"url(#clip942)\" d=\"M1673.26 62.4396 L1657.26 78.4396 L1673.26 94.4396 L1689.26 78.4396 L1673.26 62.4396 Z\" fill=\"#ac8d18\" fill-rule=\"evenodd\" fill-opacity=\"1\" stroke=\"#000000\" stroke-opacity=\"1\" stroke-width=\"3.2\"/>\n",
       "<path clip-path=\"url(#clip942)\" d=\"M1750.66 60.8284 L1734.66 76.8284 L1750.66 92.8284 L1766.66 76.8284 L1750.66 60.8284 Z\" fill=\"#ac8d18\" fill-rule=\"evenodd\" fill-opacity=\"1\" stroke=\"#000000\" stroke-opacity=\"1\" stroke-width=\"3.2\"/>\n",
       "<path clip-path=\"url(#clip942)\" d=\"M1828.05 59.4894 L1812.05 75.4894 L1828.05 91.4894 L1844.05 75.4894 L1828.05 59.4894 Z\" fill=\"#ac8d18\" fill-rule=\"evenodd\" fill-opacity=\"1\" stroke=\"#000000\" stroke-opacity=\"1\" stroke-width=\"3.2\"/>\n",
       "<path clip-path=\"url(#clip942)\" d=\"M1905.44 59.2802 L1889.44 75.2802 L1905.44 91.2802 L1921.44 75.2802 L1905.44 59.2802 Z\" fill=\"#ac8d18\" fill-rule=\"evenodd\" fill-opacity=\"1\" stroke=\"#000000\" stroke-opacity=\"1\" stroke-width=\"3.2\"/>\n",
       "<path clip-path=\"url(#clip942)\" d=\"M1982.83 59.4361 L1966.83 75.4361 L1982.83 91.4361 L1998.83 75.4361 L1982.83 59.4361 Z\" fill=\"#ac8d18\" fill-rule=\"evenodd\" fill-opacity=\"1\" stroke=\"#000000\" stroke-opacity=\"1\" stroke-width=\"3.2\"/>\n",
       "<path clip-path=\"url(#clip942)\" d=\"M2060.22 59.6634 L2044.22 75.6634 L2060.22 91.6634 L2076.22 75.6634 L2060.22 59.6634 Z\" fill=\"#ac8d18\" fill-rule=\"evenodd\" fill-opacity=\"1\" stroke=\"#000000\" stroke-opacity=\"1\" stroke-width=\"3.2\"/>\n",
       "<path clip-path=\"url(#clip942)\" d=\"M2137.61 59.8634 L2121.61 75.8634 L2137.61 91.8634 L2153.61 75.8634 L2137.61 59.8634 Z\" fill=\"#ac8d18\" fill-rule=\"evenodd\" fill-opacity=\"1\" stroke=\"#000000\" stroke-opacity=\"1\" stroke-width=\"3.2\"/>\n",
       "<path clip-path=\"url(#clip942)\" d=\"M2215 60.014 L2199 76.014 L2215 92.014 L2231 76.014 L2215 60.014 Z\" fill=\"#ac8d18\" fill-rule=\"evenodd\" fill-opacity=\"1\" stroke=\"#000000\" stroke-opacity=\"1\" stroke-width=\"3.2\"/>\n",
       "<path clip-path=\"url(#clip942)\" d=\"M2292.39 60.119 L2276.39 76.119 L2292.39 92.119 L2308.39 76.119 L2292.39 60.119 Z\" fill=\"#ac8d18\" fill-rule=\"evenodd\" fill-opacity=\"1\" stroke=\"#000000\" stroke-opacity=\"1\" stroke-width=\"3.2\"/>\n",
       "<path clip-path=\"url(#clip940)\" d=\"M219.866 889.847 L2352.76 889.847 L2352.76 580.577 L219.866 580.577  Z\" fill=\"#ffffff\" fill-rule=\"evenodd\" fill-opacity=\"1\"/>\n",
       "<defs>\n",
       "  <clipPath id=\"clip943\">\n",
       "    <rect x=\"219\" y=\"580\" width=\"2134\" height=\"310\"/>\n",
       "  </clipPath>\n",
       "</defs>\n",
       "<polyline clip-path=\"url(#clip943)\" style=\"stroke:#000000; stroke-linecap:round; stroke-linejoin:round; stroke-width:8; stroke-opacity:0.1; fill:none\" points=\"589.794,889.847 589.794,580.577 \"/>\n",
       "<polyline clip-path=\"url(#clip943)\" style=\"stroke:#000000; stroke-linecap:round; stroke-linejoin:round; stroke-width:8; stroke-opacity:0.1; fill:none\" points=\"976.748,889.847 976.748,580.577 \"/>\n",
       "<polyline clip-path=\"url(#clip943)\" style=\"stroke:#000000; stroke-linecap:round; stroke-linejoin:round; stroke-width:8; stroke-opacity:0.1; fill:none\" points=\"1363.7,889.847 1363.7,580.577 \"/>\n",
       "<polyline clip-path=\"url(#clip943)\" style=\"stroke:#000000; stroke-linecap:round; stroke-linejoin:round; stroke-width:8; stroke-opacity:0.1; fill:none\" points=\"1750.66,889.847 1750.66,580.577 \"/>\n",
       "<polyline clip-path=\"url(#clip943)\" style=\"stroke:#000000; stroke-linecap:round; stroke-linejoin:round; stroke-width:8; stroke-opacity:0.1; fill:none\" points=\"2137.61,889.847 2137.61,580.577 \"/>\n",
       "<polyline clip-path=\"url(#clip940)\" style=\"stroke:#000000; stroke-linecap:round; stroke-linejoin:round; stroke-width:4; stroke-opacity:1; fill:none\" points=\"219.866,889.847 2352.76,889.847 \"/>\n",
       "<polyline clip-path=\"url(#clip940)\" style=\"stroke:#000000; stroke-linecap:round; stroke-linejoin:round; stroke-width:4; stroke-opacity:1; fill:none\" points=\"589.794,889.847 589.794,870.949 \"/>\n",
       "<polyline clip-path=\"url(#clip940)\" style=\"stroke:#000000; stroke-linecap:round; stroke-linejoin:round; stroke-width:4; stroke-opacity:1; fill:none\" points=\"976.748,889.847 976.748,870.949 \"/>\n",
       "<polyline clip-path=\"url(#clip940)\" style=\"stroke:#000000; stroke-linecap:round; stroke-linejoin:round; stroke-width:4; stroke-opacity:1; fill:none\" points=\"1363.7,889.847 1363.7,870.949 \"/>\n",
       "<polyline clip-path=\"url(#clip940)\" style=\"stroke:#000000; stroke-linecap:round; stroke-linejoin:round; stroke-width:4; stroke-opacity:1; fill:none\" points=\"1750.66,889.847 1750.66,870.949 \"/>\n",
       "<polyline clip-path=\"url(#clip940)\" style=\"stroke:#000000; stroke-linecap:round; stroke-linejoin:round; stroke-width:4; stroke-opacity:1; fill:none\" points=\"2137.61,889.847 2137.61,870.949 \"/>\n",
       "<path clip-path=\"url(#clip940)\" d=\"M580.072 917.687 L598.428 917.687 L598.428 921.622 L584.354 921.622 L584.354 930.094 Q585.373 929.747 586.391 929.585 Q587.41 929.399 588.428 929.399 Q594.215 929.399 597.595 932.571 Q600.975 935.742 600.975 941.159 Q600.975 946.737 597.502 949.839 Q594.03 952.918 587.711 952.918 Q585.535 952.918 583.266 952.547 Q581.021 952.177 578.614 951.436 L578.614 946.737 Q580.697 947.872 582.919 948.427 Q585.141 948.983 587.618 948.983 Q591.623 948.983 593.961 946.876 Q596.299 944.77 596.299 941.159 Q596.299 937.548 593.961 935.441 Q591.623 933.335 587.618 933.335 Q585.743 933.335 583.868 933.751 Q582.016 934.168 580.072 935.048 L580.072 917.687 Z\" fill=\"#000000\" fill-rule=\"evenodd\" fill-opacity=\"1\" /><path clip-path=\"url(#clip940)\" d=\"M951.436 948.311 L959.074 948.311 L959.074 921.946 L950.764 923.612 L950.764 919.353 L959.028 917.687 L963.704 917.687 L963.704 948.311 L971.343 948.311 L971.343 952.247 L951.436 952.247 L951.436 948.311 Z\" fill=\"#000000\" fill-rule=\"evenodd\" fill-opacity=\"1\" /><path clip-path=\"url(#clip940)\" d=\"M990.787 920.765 Q987.176 920.765 985.347 924.33 Q983.542 927.872 983.542 935.001 Q983.542 942.108 985.347 945.672 Q987.176 949.214 990.787 949.214 Q994.422 949.214 996.227 945.672 Q998.056 942.108 998.056 935.001 Q998.056 927.872 996.227 924.33 Q994.422 920.765 990.787 920.765 M990.787 917.062 Q996.597 917.062 999.653 921.668 Q1002.73 926.251 1002.73 935.001 Q1002.73 943.728 999.653 948.334 Q996.597 952.918 990.787 952.918 Q984.977 952.918 981.898 948.334 Q978.843 943.728 978.843 935.001 Q978.843 926.251 981.898 921.668 Q984.977 917.062 990.787 917.062 Z\" fill=\"#000000\" fill-rule=\"evenodd\" fill-opacity=\"1\" /><path clip-path=\"url(#clip940)\" d=\"M1338.89 948.311 L1346.53 948.311 L1346.53 921.946 L1338.22 923.612 L1338.22 919.353 L1346.48 917.687 L1351.16 917.687 L1351.16 948.311 L1358.79 948.311 L1358.79 952.247 L1338.89 952.247 L1338.89 948.311 Z\" fill=\"#000000\" fill-rule=\"evenodd\" fill-opacity=\"1\" /><path clip-path=\"url(#clip940)\" d=\"M1368.29 917.687 L1386.64 917.687 L1386.64 921.622 L1372.57 921.622 L1372.57 930.094 Q1373.59 929.747 1374.6 929.585 Q1375.62 929.399 1376.64 929.399 Q1382.43 929.399 1385.81 932.571 Q1389.19 935.742 1389.19 941.159 Q1389.19 946.737 1385.72 949.839 Q1382.24 952.918 1375.92 952.918 Q1373.75 952.918 1371.48 952.547 Q1369.23 952.177 1366.83 951.436 L1366.83 946.737 Q1368.91 947.872 1371.13 948.427 Q1373.35 948.983 1375.83 948.983 Q1379.84 948.983 1382.17 946.876 Q1384.51 944.77 1384.51 941.159 Q1384.51 937.548 1382.17 935.441 Q1379.84 933.335 1375.83 933.335 Q1373.96 933.335 1372.08 933.751 Q1370.23 934.168 1368.29 935.048 L1368.29 917.687 Z\" fill=\"#000000\" fill-rule=\"evenodd\" fill-opacity=\"1\" /><path clip-path=\"url(#clip940)\" d=\"M1729.43 948.311 L1745.75 948.311 L1745.75 952.247 L1723.8 952.247 L1723.8 948.311 Q1726.47 945.557 1731.05 940.927 Q1735.66 936.274 1736.84 934.932 Q1739.08 932.409 1739.96 930.673 Q1740.86 928.913 1740.86 927.223 Q1740.86 924.469 1738.92 922.733 Q1737 920.997 1733.9 920.997 Q1731.7 920.997 1729.24 921.761 Q1726.81 922.524 1724.04 924.075 L1724.04 919.353 Q1726.86 918.219 1729.31 917.64 Q1731.77 917.062 1733.8 917.062 Q1739.17 917.062 1742.37 919.747 Q1745.56 922.432 1745.56 926.923 Q1745.56 929.052 1744.75 930.973 Q1743.97 932.872 1741.86 935.464 Q1741.28 936.135 1738.18 939.353 Q1735.08 942.547 1729.43 948.311 Z\" fill=\"#000000\" fill-rule=\"evenodd\" fill-opacity=\"1\" /><path clip-path=\"url(#clip940)\" d=\"M1765.56 920.765 Q1761.95 920.765 1760.12 924.33 Q1758.32 927.872 1758.32 935.001 Q1758.32 942.108 1760.12 945.672 Q1761.95 949.214 1765.56 949.214 Q1769.2 949.214 1771 945.672 Q1772.83 942.108 1772.83 935.001 Q1772.83 927.872 1771 924.33 Q1769.2 920.765 1765.56 920.765 M1765.56 917.062 Q1771.37 917.062 1774.43 921.668 Q1777.51 926.251 1777.51 935.001 Q1777.51 943.728 1774.43 948.334 Q1771.37 952.918 1765.56 952.918 Q1759.75 952.918 1756.67 948.334 Q1753.62 943.728 1753.62 935.001 Q1753.62 926.251 1756.67 921.668 Q1759.75 917.062 1765.56 917.062 Z\" fill=\"#000000\" fill-rule=\"evenodd\" fill-opacity=\"1\" /><path clip-path=\"url(#clip940)\" d=\"M2116.88 948.311 L2133.2 948.311 L2133.2 952.247 L2111.26 952.247 L2111.26 948.311 Q2113.92 945.557 2118.5 940.927 Q2123.11 936.274 2124.29 934.932 Q2126.53 932.409 2127.41 930.673 Q2128.32 928.913 2128.32 927.223 Q2128.32 924.469 2126.37 922.733 Q2124.45 920.997 2121.35 920.997 Q2119.15 920.997 2116.7 921.761 Q2114.26 922.524 2111.49 924.075 L2111.49 919.353 Q2114.31 918.219 2116.76 917.64 Q2119.22 917.062 2121.26 917.062 Q2126.63 917.062 2129.82 919.747 Q2133.01 922.432 2133.01 926.923 Q2133.01 929.052 2132.2 930.973 Q2131.42 932.872 2129.31 935.464 Q2128.73 936.135 2125.63 939.353 Q2122.53 942.547 2116.88 948.311 Z\" fill=\"#000000\" fill-rule=\"evenodd\" fill-opacity=\"1\" /><path clip-path=\"url(#clip940)\" d=\"M2143.06 917.687 L2161.42 917.687 L2161.42 921.622 L2147.34 921.622 L2147.34 930.094 Q2148.36 929.747 2149.38 929.585 Q2150.4 929.399 2151.42 929.399 Q2157.2 929.399 2160.58 932.571 Q2163.96 935.742 2163.96 941.159 Q2163.96 946.737 2160.49 949.839 Q2157.02 952.918 2150.7 952.918 Q2148.52 952.918 2146.26 952.547 Q2144.01 952.177 2141.6 951.436 L2141.6 946.737 Q2143.69 947.872 2145.91 948.427 Q2148.13 948.983 2150.61 948.983 Q2154.61 948.983 2156.95 946.876 Q2159.29 944.77 2159.29 941.159 Q2159.29 937.548 2156.95 935.441 Q2154.61 933.335 2150.61 933.335 Q2148.73 933.335 2146.86 933.751 Q2145.01 934.168 2143.06 935.048 L2143.06 917.687 Z\" fill=\"#000000\" fill-rule=\"evenodd\" fill-opacity=\"1\" /><path clip-path=\"url(#clip940)\" d=\"M1180.45 988.941 L1180.45 999.063 L1192.51 999.063 L1192.51 1003.61 L1180.45 1003.61 L1180.45 1022.97 Q1180.45 1027.33 1181.63 1028.57 Q1182.84 1029.81 1186.5 1029.81 L1192.51 1029.81 L1192.51 1034.71 L1186.5 1034.71 Q1179.72 1034.71 1177.14 1032.2 Q1174.56 1029.65 1174.56 1022.97 L1174.56 1003.61 L1170.26 1003.61 L1170.26 999.063 L1174.56 999.063 L1174.56 988.941 L1180.45 988.941 Z\" fill=\"#000000\" fill-rule=\"evenodd\" fill-opacity=\"1\" /><path clip-path=\"url(#clip940)\" d=\"M1200.21 999.063 L1206.07 999.063 L1206.07 1034.71 L1200.21 1034.71 L1200.21 999.063 M1200.21 985.185 L1206.07 985.185 L1206.07 992.601 L1200.21 992.601 L1200.21 985.185 Z\" fill=\"#000000\" fill-rule=\"evenodd\" fill-opacity=\"1\" /><path clip-path=\"url(#clip940)\" d=\"M1246.08 1005.91 Q1248.28 1001.96 1251.33 1000.08 Q1254.39 998.203 1258.52 998.203 Q1264.09 998.203 1267.12 1002.12 Q1270.14 1006 1270.14 1013.19 L1270.14 1034.71 L1264.25 1034.71 L1264.25 1013.39 Q1264.25 1008.26 1262.44 1005.78 Q1260.63 1003.3 1256.9 1003.3 Q1252.35 1003.3 1249.71 1006.32 Q1247.07 1009.34 1247.07 1014.56 L1247.07 1034.71 L1241.18 1034.71 L1241.18 1013.39 Q1241.18 1008.23 1239.36 1005.78 Q1237.55 1003.3 1233.76 1003.3 Q1229.27 1003.3 1226.63 1006.35 Q1223.99 1009.37 1223.99 1014.56 L1223.99 1034.71 L1218.1 1034.71 L1218.1 999.063 L1223.99 999.063 L1223.99 1004.6 Q1226 1001.32 1228.8 999.763 Q1231.6 998.203 1235.45 998.203 Q1239.33 998.203 1242.04 1000.18 Q1244.77 1002.15 1246.08 1005.91 Z\" fill=\"#000000\" fill-rule=\"evenodd\" fill-opacity=\"1\" /><path clip-path=\"url(#clip940)\" d=\"M1312.31 1015.42 L1312.31 1018.29 L1285.39 1018.29 Q1285.77 1024.33 1289.02 1027.52 Q1292.29 1030.67 1298.12 1030.67 Q1301.49 1030.67 1304.64 1029.84 Q1307.83 1029.01 1310.95 1027.36 L1310.95 1032.9 Q1307.8 1034.23 1304.49 1034.93 Q1301.18 1035.63 1297.77 1035.63 Q1289.24 1035.63 1284.24 1030.67 Q1279.28 1025.7 1279.28 1017.24 Q1279.28 1008.48 1283.99 1003.36 Q1288.73 998.203 1296.75 998.203 Q1303.94 998.203 1308.11 1002.85 Q1312.31 1007.47 1312.31 1015.42 M1306.46 1013.7 Q1306.39 1008.9 1303.75 1006.03 Q1301.14 1003.17 1296.81 1003.17 Q1291.91 1003.17 1288.95 1005.94 Q1286.02 1008.71 1285.58 1013.74 L1306.46 1013.7 Z\" fill=\"#000000\" fill-rule=\"evenodd\" fill-opacity=\"1\" /><path clip-path=\"url(#clip940)\" d=\"M1321.39 985.185 L1334.88 985.185 L1334.88 989.737 L1327.24 989.737 L1327.24 1038.75 L1334.88 1038.75 L1334.88 1043.3 L1321.39 1043.3 L1321.39 985.185 Z\" fill=\"#000000\" fill-rule=\"evenodd\" fill-opacity=\"1\" /><path clip-path=\"url(#clip940)\" d=\"M1376.99 1013.19 L1376.99 1034.71 L1371.13 1034.71 L1371.13 1013.39 Q1371.13 1008.32 1369.16 1005.81 Q1367.19 1003.3 1363.24 1003.3 Q1358.5 1003.3 1355.76 1006.32 Q1353.02 1009.34 1353.02 1014.56 L1353.02 1034.71 L1347.14 1034.71 L1347.14 985.185 L1353.02 985.185 L1353.02 1004.6 Q1355.12 1001.39 1357.96 999.795 Q1360.82 998.203 1364.55 998.203 Q1370.69 998.203 1373.84 1002.02 Q1376.99 1005.81 1376.99 1013.19 Z\" fill=\"#000000\" fill-rule=\"evenodd\" fill-opacity=\"1\" /><path clip-path=\"url(#clip940)\" d=\"M1402.36 985.185 L1402.36 1043.3 L1388.86 1043.3 L1388.86 1038.75 L1396.47 1038.75 L1396.47 989.737 L1388.86 989.737 L1388.86 985.185 L1402.36 985.185 Z\" fill=\"#000000\" fill-rule=\"evenodd\" fill-opacity=\"1\" /><polyline clip-path=\"url(#clip943)\" style=\"stroke:#000000; stroke-linecap:round; stroke-linejoin:round; stroke-width:8; stroke-opacity:0.1; fill:none\" points=\"219.866,832.11 2352.76,832.11 \"/>\n",
       "<polyline clip-path=\"url(#clip943)\" style=\"stroke:#000000; stroke-linecap:round; stroke-linejoin:round; stroke-width:8; stroke-opacity:0.1; fill:none\" points=\"219.866,757.409 2352.76,757.409 \"/>\n",
       "<polyline clip-path=\"url(#clip943)\" style=\"stroke:#000000; stroke-linecap:round; stroke-linejoin:round; stroke-width:8; stroke-opacity:0.1; fill:none\" points=\"219.866,682.707 2352.76,682.707 \"/>\n",
       "<polyline clip-path=\"url(#clip943)\" style=\"stroke:#000000; stroke-linecap:round; stroke-linejoin:round; stroke-width:8; stroke-opacity:0.1; fill:none\" points=\"219.866,608.006 2352.76,608.006 \"/>\n",
       "<polyline clip-path=\"url(#clip940)\" style=\"stroke:#000000; stroke-linecap:round; stroke-linejoin:round; stroke-width:4; stroke-opacity:1; fill:none\" points=\"219.866,889.847 219.866,580.577 \"/>\n",
       "<polyline clip-path=\"url(#clip940)\" style=\"stroke:#000000; stroke-linecap:round; stroke-linejoin:round; stroke-width:4; stroke-opacity:1; fill:none\" points=\"219.866,832.11 238.764,832.11 \"/>\n",
       "<polyline clip-path=\"url(#clip940)\" style=\"stroke:#000000; stroke-linecap:round; stroke-linejoin:round; stroke-width:4; stroke-opacity:1; fill:none\" points=\"219.866,757.409 238.764,757.409 \"/>\n",
       "<polyline clip-path=\"url(#clip940)\" style=\"stroke:#000000; stroke-linecap:round; stroke-linejoin:round; stroke-width:4; stroke-opacity:1; fill:none\" points=\"219.866,682.707 238.764,682.707 \"/>\n",
       "<polyline clip-path=\"url(#clip940)\" style=\"stroke:#000000; stroke-linecap:round; stroke-linejoin:round; stroke-width:4; stroke-opacity:1; fill:none\" points=\"219.866,608.006 238.764,608.006 \"/>\n",
       "<path clip-path=\"url(#clip940)\" d=\"M126.205 817.909 Q122.593 817.909 120.765 821.474 Q118.959 825.015 118.959 832.145 Q118.959 839.251 120.765 842.816 Q122.593 846.358 126.205 846.358 Q129.839 846.358 131.644 842.816 Q133.473 839.251 133.473 832.145 Q133.473 825.015 131.644 821.474 Q129.839 817.909 126.205 817.909 M126.205 814.205 Q132.015 814.205 135.07 818.812 Q138.149 823.395 138.149 832.145 Q138.149 840.872 135.07 845.478 Q132.015 850.062 126.205 850.062 Q120.394 850.062 117.316 845.478 Q114.26 840.872 114.26 832.145 Q114.26 823.395 117.316 818.812 Q120.394 814.205 126.205 814.205 Z\" fill=\"#000000\" fill-rule=\"evenodd\" fill-opacity=\"1\" /><path clip-path=\"url(#clip940)\" d=\"M146.366 843.511 L151.251 843.511 L151.251 849.39 L146.366 849.39 L146.366 843.511 Z\" fill=\"#000000\" fill-rule=\"evenodd\" fill-opacity=\"1\" /><path clip-path=\"url(#clip940)\" d=\"M174.283 818.904 L162.477 837.353 L174.283 837.353 L174.283 818.904 M173.056 814.83 L178.936 814.83 L178.936 837.353 L183.866 837.353 L183.866 841.242 L178.936 841.242 L178.936 849.39 L174.283 849.39 L174.283 841.242 L158.681 841.242 L158.681 836.728 L173.056 814.83 Z\" fill=\"#000000\" fill-rule=\"evenodd\" fill-opacity=\"1\" /><path clip-path=\"url(#clip940)\" d=\"M126.529 743.207 Q122.918 743.207 121.089 746.772 Q119.283 750.314 119.283 757.443 Q119.283 764.55 121.089 768.115 Q122.918 771.656 126.529 771.656 Q130.163 771.656 131.968 768.115 Q133.797 764.55 133.797 757.443 Q133.797 750.314 131.968 746.772 Q130.163 743.207 126.529 743.207 M126.529 739.504 Q132.339 739.504 135.394 744.11 Q138.473 748.693 138.473 757.443 Q138.473 766.17 135.394 770.777 Q132.339 775.36 126.529 775.36 Q120.718 775.36 117.64 770.777 Q114.584 766.17 114.584 757.443 Q114.584 748.693 117.64 744.11 Q120.718 739.504 126.529 739.504 Z\" fill=\"#000000\" fill-rule=\"evenodd\" fill-opacity=\"1\" /><path clip-path=\"url(#clip940)\" d=\"M146.691 768.809 L151.575 768.809 L151.575 774.689 L146.691 774.689 L146.691 768.809 Z\" fill=\"#000000\" fill-rule=\"evenodd\" fill-opacity=\"1\" /><path clip-path=\"url(#clip940)\" d=\"M172.339 755.545 Q169.19 755.545 167.339 757.698 Q165.51 759.851 165.51 763.601 Q165.51 767.328 167.339 769.504 Q169.19 771.656 172.339 771.656 Q175.487 771.656 177.315 769.504 Q179.167 767.328 179.167 763.601 Q179.167 759.851 177.315 757.698 Q175.487 755.545 172.339 755.545 M181.621 740.893 L181.621 745.152 Q179.862 744.319 178.056 743.879 Q176.274 743.439 174.514 743.439 Q169.885 743.439 167.431 746.564 Q165.001 749.689 164.653 756.008 Q166.019 753.994 168.079 752.93 Q170.139 751.842 172.616 751.842 Q177.825 751.842 180.834 755.013 Q183.866 758.161 183.866 763.601 Q183.866 768.925 180.718 772.142 Q177.57 775.36 172.339 775.36 Q166.343 775.36 163.172 770.777 Q160.001 766.17 160.001 757.443 Q160.001 749.249 163.89 744.388 Q167.778 739.504 174.329 739.504 Q176.089 739.504 177.871 739.851 Q179.676 740.198 181.621 740.893 Z\" fill=\"#000000\" fill-rule=\"evenodd\" fill-opacity=\"1\" /><path clip-path=\"url(#clip940)\" d=\"M126.783 668.506 Q123.172 668.506 121.343 672.071 Q119.538 675.612 119.538 682.742 Q119.538 689.848 121.343 693.413 Q123.172 696.955 126.783 696.955 Q130.417 696.955 132.223 693.413 Q134.052 689.848 134.052 682.742 Q134.052 675.612 132.223 672.071 Q130.417 668.506 126.783 668.506 M126.783 664.802 Q132.593 664.802 135.649 669.409 Q138.728 673.992 138.728 682.742 Q138.728 691.469 135.649 696.075 Q132.593 700.659 126.783 700.659 Q120.973 700.659 117.894 696.075 Q114.839 691.469 114.839 682.742 Q114.839 673.992 117.894 669.409 Q120.973 664.802 126.783 664.802 Z\" fill=\"#000000\" fill-rule=\"evenodd\" fill-opacity=\"1\" /><path clip-path=\"url(#clip940)\" d=\"M146.945 694.108 L151.829 694.108 L151.829 699.987 L146.945 699.987 L146.945 694.108 Z\" fill=\"#000000\" fill-rule=\"evenodd\" fill-opacity=\"1\" /><path clip-path=\"url(#clip940)\" d=\"M172.014 683.575 Q168.681 683.575 166.76 685.358 Q164.862 687.14 164.862 690.265 Q164.862 693.39 166.76 695.172 Q168.681 696.955 172.014 696.955 Q175.348 696.955 177.269 695.172 Q179.19 693.367 179.19 690.265 Q179.19 687.14 177.269 685.358 Q175.371 683.575 172.014 683.575 M167.339 681.585 Q164.329 680.844 162.64 678.784 Q160.973 676.723 160.973 673.761 Q160.973 669.617 163.913 667.21 Q166.876 664.802 172.014 664.802 Q177.176 664.802 180.116 667.21 Q183.056 669.617 183.056 673.761 Q183.056 676.723 181.366 678.784 Q179.7 680.844 176.714 681.585 Q180.093 682.372 181.968 684.663 Q183.866 686.955 183.866 690.265 Q183.866 695.288 180.788 697.973 Q177.732 700.659 172.014 700.659 Q166.297 700.659 163.218 697.973 Q160.163 695.288 160.163 690.265 Q160.163 686.955 162.061 684.663 Q163.959 682.372 167.339 681.585 M165.626 674.2 Q165.626 676.885 167.292 678.39 Q168.982 679.895 172.014 679.895 Q175.024 679.895 176.714 678.39 Q178.426 676.885 178.426 674.2 Q178.426 671.515 176.714 670.011 Q175.024 668.506 172.014 668.506 Q168.982 668.506 167.292 670.011 Q165.626 671.515 165.626 674.2 Z\" fill=\"#000000\" fill-rule=\"evenodd\" fill-opacity=\"1\" /><path clip-path=\"url(#clip940)\" d=\"M117.501 621.351 L125.14 621.351 L125.14 594.985 L116.83 596.652 L116.83 592.392 L125.093 590.726 L129.769 590.726 L129.769 621.351 L137.408 621.351 L137.408 625.286 L117.501 625.286 L117.501 621.351 Z\" fill=\"#000000\" fill-rule=\"evenodd\" fill-opacity=\"1\" /><path clip-path=\"url(#clip940)\" d=\"M146.853 619.406 L151.737 619.406 L151.737 625.286 L146.853 625.286 L146.853 619.406 Z\" fill=\"#000000\" fill-rule=\"evenodd\" fill-opacity=\"1\" /><path clip-path=\"url(#clip940)\" d=\"M171.922 593.804 Q168.311 593.804 166.482 597.369 Q164.677 600.911 164.677 608.04 Q164.677 615.147 166.482 618.712 Q168.311 622.253 171.922 622.253 Q175.556 622.253 177.362 618.712 Q179.19 615.147 179.19 608.04 Q179.19 600.911 177.362 597.369 Q175.556 593.804 171.922 593.804 M171.922 590.101 Q177.732 590.101 180.788 594.707 Q183.866 599.29 183.866 608.04 Q183.866 616.767 180.788 621.374 Q177.732 625.957 171.922 625.957 Q166.112 625.957 163.033 621.374 Q159.978 616.767 159.978 608.04 Q159.978 599.29 163.033 594.707 Q166.112 590.101 171.922 590.101 Z\" fill=\"#000000\" fill-rule=\"evenodd\" fill-opacity=\"1\" /><path clip-path=\"url(#clip940)\" d=\"M67.3143 785.246 Q73.68 787.729 75.6216 790.084 Q77.5631 792.44 77.5631 796.386 L77.5631 801.065 L72.6615 801.065 L72.6615 797.628 Q72.6615 795.209 71.5157 793.872 Q70.3699 792.535 66.1048 790.912 L63.4312 789.862 L28.3562 804.28 L28.3562 798.073 L56.238 786.933 L28.3562 775.793 L28.3562 769.587 L67.3143 785.246 Z\" fill=\"#000000\" fill-rule=\"evenodd\" fill-opacity=\"1\" /><path clip-path=\"url(#clip940)\" d=\"M74.8259 734.416 L79.3773 734.416 L79.3773 768.282 L74.8259 768.282 L74.8259 734.416 Z\" fill=\"#000000\" fill-rule=\"evenodd\" fill-opacity=\"1\" /><path clip-path=\"url(#clip940)\" d=\"M29.4065 706.184 L34.9447 706.184 Q33.6716 708.667 33.035 711.341 Q32.3984 714.014 32.3984 716.879 Q32.3984 721.239 33.7352 723.435 Q35.072 725.6 37.7456 725.6 Q39.7826 725.6 40.9603 724.04 Q42.1061 722.481 43.1565 717.77 L43.6021 715.765 Q44.9389 709.526 47.3897 706.916 Q49.8086 704.275 54.1691 704.275 Q59.1344 704.275 62.0308 708.221 Q64.9272 712.136 64.9272 719.011 Q64.9272 721.876 64.3543 724.995 Q63.8132 728.082 62.6992 731.52 L56.6518 731.52 Q58.3387 728.273 59.198 725.122 Q60.0256 721.971 60.0256 718.884 Q60.0256 714.746 58.6251 712.518 Q57.1929 710.29 54.6147 710.29 Q52.2276 710.29 50.9545 711.913 Q49.6813 713.505 48.5037 718.948 L48.0262 720.985 Q46.8804 726.427 44.5251 728.846 Q42.138 731.265 38.0002 731.265 Q32.9713 731.265 30.2341 727.7 Q27.4968 724.136 27.4968 717.579 Q27.4968 714.332 27.9743 711.468 Q28.4517 708.603 29.4065 706.184 Z\" fill=\"#000000\" fill-rule=\"evenodd\" fill-opacity=\"1\" /><path clip-path=\"url(#clip940)\" d=\"M58.5933 688.583 L58.5933 666.144 L64.0042 666.144 L64.0042 696.318 L58.5933 696.318 Q54.8057 692.657 48.44 686.355 Q42.0425 680.021 40.1964 678.398 Q36.7271 675.311 34.34 674.101 Q31.921 672.86 29.5975 672.86 Q25.8099 672.86 23.4228 675.533 Q21.0356 678.175 21.0356 682.44 Q21.0356 685.464 22.086 688.838 Q23.1363 692.18 25.2688 695.999 L18.7758 695.999 Q17.2162 692.116 16.4205 688.742 Q15.6248 685.368 15.6248 682.568 Q15.6248 675.183 19.3169 670.791 Q23.009 666.399 29.1837 666.399 Q32.112 666.399 34.7537 667.513 Q37.3637 668.595 40.9285 671.491 Q41.8515 672.287 46.2757 676.552 Q50.668 680.817 58.5933 688.583 Z\" fill=\"#000000\" fill-rule=\"evenodd\" fill-opacity=\"1\" /><polyline clip-path=\"url(#clip943)\" style=\"stroke:#000000; stroke-linecap:round; stroke-linejoin:round; stroke-width:4; stroke-opacity:1; fill:none\" stroke-dasharray=\"2, 4\" points=\"280.231,589.33 357.622,589.33 435.013,589.33 512.403,589.33 589.794,589.33 667.185,589.33 744.576,589.33 821.966,589.33 899.357,589.33 976.748,589.33 1054.14,589.33 1131.53,589.33 1208.92,589.33 1286.31,589.33 1363.7,589.33 1441.09,589.33 1518.48,589.33 1595.87,589.33 1673.26,589.33 1750.66,589.33 1828.05,589.33 1905.44,589.33 1982.83,589.33 2060.22,589.33 2137.61,589.33 2215,589.33 2292.39,589.33 \"/>\n",
       "<polyline clip-path=\"url(#clip943)\" style=\"stroke:#000000; stroke-linecap:round; stroke-linejoin:round; stroke-width:4; stroke-opacity:1; fill:none\" stroke-dasharray=\"2, 4\" points=\"280.231,608.006 357.622,608.006 435.013,608.006 512.403,608.006 589.794,608.006 667.185,608.006 744.576,608.006 821.966,608.006 899.357,608.006 976.748,608.006 1054.14,608.006 1131.53,608.006 1208.92,608.006 1286.31,608.006 1363.7,608.006 1441.09,608.006 1518.48,608.006 1595.87,608.006 1673.26,608.006 1750.66,608.006 1828.05,608.006 1905.44,608.006 1982.83,608.006 2060.22,608.006 2137.61,608.006 2215,608.006 2292.39,608.006 \"/>\n",
       "<polyline clip-path=\"url(#clip943)\" style=\"stroke:#ff0000; stroke-linecap:round; stroke-linejoin:round; stroke-width:20; stroke-opacity:0.3; fill:none\" points=\"280.231,881.094 357.622,855.726 435.013,781.626 512.403,702.961 589.794,644.225 667.185,610.807 744.576,598.668 821.966,601.755 899.357,611.187 976.748,616.266 1054.14,614.374 1131.53,609.014 1208.92,604.502 1286.31,603.526 1363.7,605.469 1441.09,608.063 1518.48,609.873 1595.87,611.013 1673.26,609.94 1750.66,607.214 1828.05,606.051 1905.44,606.508 1982.83,607.295 2060.22,607.998 2137.61,608.524 2215,608.886 2292.39,609.125 \"/>\n",
       "<line clip-path=\"url(#clip943)\" x1=\"280.231\" y1=\"881.094\" x2=\"280.231\" y2=\"865.094\" style=\"stroke:#3da44d; stroke-width:3.2; stroke-opacity:1\"/>\n",
       "<line clip-path=\"url(#clip943)\" x1=\"280.231\" y1=\"881.094\" x2=\"264.231\" y2=\"881.094\" style=\"stroke:#3da44d; stroke-width:3.2; stroke-opacity:1\"/>\n",
       "<line clip-path=\"url(#clip943)\" x1=\"280.231\" y1=\"881.094\" x2=\"280.231\" y2=\"897.094\" style=\"stroke:#3da44d; stroke-width:3.2; stroke-opacity:1\"/>\n",
       "<line clip-path=\"url(#clip943)\" x1=\"280.231\" y1=\"881.094\" x2=\"296.231\" y2=\"881.094\" style=\"stroke:#3da44d; stroke-width:3.2; stroke-opacity:1\"/>\n",
       "<line clip-path=\"url(#clip943)\" x1=\"357.622\" y1=\"855.726\" x2=\"357.622\" y2=\"839.726\" style=\"stroke:#3da44d; stroke-width:3.2; stroke-opacity:1\"/>\n",
       "<line clip-path=\"url(#clip943)\" x1=\"357.622\" y1=\"855.726\" x2=\"341.622\" y2=\"855.726\" style=\"stroke:#3da44d; stroke-width:3.2; stroke-opacity:1\"/>\n",
       "<line clip-path=\"url(#clip943)\" x1=\"357.622\" y1=\"855.726\" x2=\"357.622\" y2=\"871.726\" style=\"stroke:#3da44d; stroke-width:3.2; stroke-opacity:1\"/>\n",
       "<line clip-path=\"url(#clip943)\" x1=\"357.622\" y1=\"855.726\" x2=\"373.622\" y2=\"855.726\" style=\"stroke:#3da44d; stroke-width:3.2; stroke-opacity:1\"/>\n",
       "<line clip-path=\"url(#clip943)\" x1=\"435.013\" y1=\"781.626\" x2=\"435.013\" y2=\"765.626\" style=\"stroke:#3da44d; stroke-width:3.2; stroke-opacity:1\"/>\n",
       "<line clip-path=\"url(#clip943)\" x1=\"435.013\" y1=\"781.626\" x2=\"419.013\" y2=\"781.626\" style=\"stroke:#3da44d; stroke-width:3.2; stroke-opacity:1\"/>\n",
       "<line clip-path=\"url(#clip943)\" x1=\"435.013\" y1=\"781.626\" x2=\"435.013\" y2=\"797.626\" style=\"stroke:#3da44d; stroke-width:3.2; stroke-opacity:1\"/>\n",
       "<line clip-path=\"url(#clip943)\" x1=\"435.013\" y1=\"781.626\" x2=\"451.013\" y2=\"781.626\" style=\"stroke:#3da44d; stroke-width:3.2; stroke-opacity:1\"/>\n",
       "<line clip-path=\"url(#clip943)\" x1=\"512.403\" y1=\"702.961\" x2=\"512.403\" y2=\"686.961\" style=\"stroke:#3da44d; stroke-width:3.2; stroke-opacity:1\"/>\n",
       "<line clip-path=\"url(#clip943)\" x1=\"512.403\" y1=\"702.961\" x2=\"496.403\" y2=\"702.961\" style=\"stroke:#3da44d; stroke-width:3.2; stroke-opacity:1\"/>\n",
       "<line clip-path=\"url(#clip943)\" x1=\"512.403\" y1=\"702.961\" x2=\"512.403\" y2=\"718.961\" style=\"stroke:#3da44d; stroke-width:3.2; stroke-opacity:1\"/>\n",
       "<line clip-path=\"url(#clip943)\" x1=\"512.403\" y1=\"702.961\" x2=\"528.403\" y2=\"702.961\" style=\"stroke:#3da44d; stroke-width:3.2; stroke-opacity:1\"/>\n",
       "<line clip-path=\"url(#clip943)\" x1=\"589.794\" y1=\"644.225\" x2=\"589.794\" y2=\"628.225\" style=\"stroke:#3da44d; stroke-width:3.2; stroke-opacity:1\"/>\n",
       "<line clip-path=\"url(#clip943)\" x1=\"589.794\" y1=\"644.225\" x2=\"573.794\" y2=\"644.225\" style=\"stroke:#3da44d; stroke-width:3.2; stroke-opacity:1\"/>\n",
       "<line clip-path=\"url(#clip943)\" x1=\"589.794\" y1=\"644.225\" x2=\"589.794\" y2=\"660.225\" style=\"stroke:#3da44d; stroke-width:3.2; stroke-opacity:1\"/>\n",
       "<line clip-path=\"url(#clip943)\" x1=\"589.794\" y1=\"644.225\" x2=\"605.794\" y2=\"644.225\" style=\"stroke:#3da44d; stroke-width:3.2; stroke-opacity:1\"/>\n",
       "<line clip-path=\"url(#clip943)\" x1=\"667.185\" y1=\"610.807\" x2=\"667.185\" y2=\"594.807\" style=\"stroke:#3da44d; stroke-width:3.2; stroke-opacity:1\"/>\n",
       "<line clip-path=\"url(#clip943)\" x1=\"667.185\" y1=\"610.807\" x2=\"651.185\" y2=\"610.807\" style=\"stroke:#3da44d; stroke-width:3.2; stroke-opacity:1\"/>\n",
       "<line clip-path=\"url(#clip943)\" x1=\"667.185\" y1=\"610.807\" x2=\"667.185\" y2=\"626.807\" style=\"stroke:#3da44d; stroke-width:3.2; stroke-opacity:1\"/>\n",
       "<line clip-path=\"url(#clip943)\" x1=\"667.185\" y1=\"610.807\" x2=\"683.185\" y2=\"610.807\" style=\"stroke:#3da44d; stroke-width:3.2; stroke-opacity:1\"/>\n",
       "<line clip-path=\"url(#clip943)\" x1=\"744.576\" y1=\"598.668\" x2=\"744.576\" y2=\"582.668\" style=\"stroke:#3da44d; stroke-width:3.2; stroke-opacity:1\"/>\n",
       "<line clip-path=\"url(#clip943)\" x1=\"744.576\" y1=\"598.668\" x2=\"728.576\" y2=\"598.668\" style=\"stroke:#3da44d; stroke-width:3.2; stroke-opacity:1\"/>\n",
       "<line clip-path=\"url(#clip943)\" x1=\"744.576\" y1=\"598.668\" x2=\"744.576\" y2=\"614.668\" style=\"stroke:#3da44d; stroke-width:3.2; stroke-opacity:1\"/>\n",
       "<line clip-path=\"url(#clip943)\" x1=\"744.576\" y1=\"598.668\" x2=\"760.576\" y2=\"598.668\" style=\"stroke:#3da44d; stroke-width:3.2; stroke-opacity:1\"/>\n",
       "<line clip-path=\"url(#clip943)\" x1=\"821.966\" y1=\"601.755\" x2=\"821.966\" y2=\"585.755\" style=\"stroke:#3da44d; stroke-width:3.2; stroke-opacity:1\"/>\n",
       "<line clip-path=\"url(#clip943)\" x1=\"821.966\" y1=\"601.755\" x2=\"805.966\" y2=\"601.755\" style=\"stroke:#3da44d; stroke-width:3.2; stroke-opacity:1\"/>\n",
       "<line clip-path=\"url(#clip943)\" x1=\"821.966\" y1=\"601.755\" x2=\"821.966\" y2=\"617.755\" style=\"stroke:#3da44d; stroke-width:3.2; stroke-opacity:1\"/>\n",
       "<line clip-path=\"url(#clip943)\" x1=\"821.966\" y1=\"601.755\" x2=\"837.966\" y2=\"601.755\" style=\"stroke:#3da44d; stroke-width:3.2; stroke-opacity:1\"/>\n",
       "<line clip-path=\"url(#clip943)\" x1=\"899.357\" y1=\"611.187\" x2=\"899.357\" y2=\"595.187\" style=\"stroke:#3da44d; stroke-width:3.2; stroke-opacity:1\"/>\n",
       "<line clip-path=\"url(#clip943)\" x1=\"899.357\" y1=\"611.187\" x2=\"883.357\" y2=\"611.187\" style=\"stroke:#3da44d; stroke-width:3.2; stroke-opacity:1\"/>\n",
       "<line clip-path=\"url(#clip943)\" x1=\"899.357\" y1=\"611.187\" x2=\"899.357\" y2=\"627.187\" style=\"stroke:#3da44d; stroke-width:3.2; stroke-opacity:1\"/>\n",
       "<line clip-path=\"url(#clip943)\" x1=\"899.357\" y1=\"611.187\" x2=\"915.357\" y2=\"611.187\" style=\"stroke:#3da44d; stroke-width:3.2; stroke-opacity:1\"/>\n",
       "<line clip-path=\"url(#clip943)\" x1=\"976.748\" y1=\"616.266\" x2=\"976.748\" y2=\"600.266\" style=\"stroke:#3da44d; stroke-width:3.2; stroke-opacity:1\"/>\n",
       "<line clip-path=\"url(#clip943)\" x1=\"976.748\" y1=\"616.266\" x2=\"960.748\" y2=\"616.266\" style=\"stroke:#3da44d; stroke-width:3.2; stroke-opacity:1\"/>\n",
       "<line clip-path=\"url(#clip943)\" x1=\"976.748\" y1=\"616.266\" x2=\"976.748\" y2=\"632.266\" style=\"stroke:#3da44d; stroke-width:3.2; stroke-opacity:1\"/>\n",
       "<line clip-path=\"url(#clip943)\" x1=\"976.748\" y1=\"616.266\" x2=\"992.748\" y2=\"616.266\" style=\"stroke:#3da44d; stroke-width:3.2; stroke-opacity:1\"/>\n",
       "<line clip-path=\"url(#clip943)\" x1=\"1054.14\" y1=\"614.374\" x2=\"1054.14\" y2=\"598.374\" style=\"stroke:#3da44d; stroke-width:3.2; stroke-opacity:1\"/>\n",
       "<line clip-path=\"url(#clip943)\" x1=\"1054.14\" y1=\"614.374\" x2=\"1038.14\" y2=\"614.374\" style=\"stroke:#3da44d; stroke-width:3.2; stroke-opacity:1\"/>\n",
       "<line clip-path=\"url(#clip943)\" x1=\"1054.14\" y1=\"614.374\" x2=\"1054.14\" y2=\"630.374\" style=\"stroke:#3da44d; stroke-width:3.2; stroke-opacity:1\"/>\n",
       "<line clip-path=\"url(#clip943)\" x1=\"1054.14\" y1=\"614.374\" x2=\"1070.14\" y2=\"614.374\" style=\"stroke:#3da44d; stroke-width:3.2; stroke-opacity:1\"/>\n",
       "<line clip-path=\"url(#clip943)\" x1=\"1131.53\" y1=\"609.014\" x2=\"1131.53\" y2=\"593.014\" style=\"stroke:#3da44d; stroke-width:3.2; stroke-opacity:1\"/>\n",
       "<line clip-path=\"url(#clip943)\" x1=\"1131.53\" y1=\"609.014\" x2=\"1115.53\" y2=\"609.014\" style=\"stroke:#3da44d; stroke-width:3.2; stroke-opacity:1\"/>\n",
       "<line clip-path=\"url(#clip943)\" x1=\"1131.53\" y1=\"609.014\" x2=\"1131.53\" y2=\"625.014\" style=\"stroke:#3da44d; stroke-width:3.2; stroke-opacity:1\"/>\n",
       "<line clip-path=\"url(#clip943)\" x1=\"1131.53\" y1=\"609.014\" x2=\"1147.53\" y2=\"609.014\" style=\"stroke:#3da44d; stroke-width:3.2; stroke-opacity:1\"/>\n",
       "<line clip-path=\"url(#clip943)\" x1=\"1208.92\" y1=\"604.502\" x2=\"1208.92\" y2=\"588.502\" style=\"stroke:#3da44d; stroke-width:3.2; stroke-opacity:1\"/>\n",
       "<line clip-path=\"url(#clip943)\" x1=\"1208.92\" y1=\"604.502\" x2=\"1192.92\" y2=\"604.502\" style=\"stroke:#3da44d; stroke-width:3.2; stroke-opacity:1\"/>\n",
       "<line clip-path=\"url(#clip943)\" x1=\"1208.92\" y1=\"604.502\" x2=\"1208.92\" y2=\"620.502\" style=\"stroke:#3da44d; stroke-width:3.2; stroke-opacity:1\"/>\n",
       "<line clip-path=\"url(#clip943)\" x1=\"1208.92\" y1=\"604.502\" x2=\"1224.92\" y2=\"604.502\" style=\"stroke:#3da44d; stroke-width:3.2; stroke-opacity:1\"/>\n",
       "<line clip-path=\"url(#clip943)\" x1=\"1286.31\" y1=\"603.526\" x2=\"1286.31\" y2=\"587.526\" style=\"stroke:#3da44d; stroke-width:3.2; stroke-opacity:1\"/>\n",
       "<line clip-path=\"url(#clip943)\" x1=\"1286.31\" y1=\"603.526\" x2=\"1270.31\" y2=\"603.526\" style=\"stroke:#3da44d; stroke-width:3.2; stroke-opacity:1\"/>\n",
       "<line clip-path=\"url(#clip943)\" x1=\"1286.31\" y1=\"603.526\" x2=\"1286.31\" y2=\"619.526\" style=\"stroke:#3da44d; stroke-width:3.2; stroke-opacity:1\"/>\n",
       "<line clip-path=\"url(#clip943)\" x1=\"1286.31\" y1=\"603.526\" x2=\"1302.31\" y2=\"603.526\" style=\"stroke:#3da44d; stroke-width:3.2; stroke-opacity:1\"/>\n",
       "<line clip-path=\"url(#clip943)\" x1=\"1363.7\" y1=\"605.469\" x2=\"1363.7\" y2=\"589.469\" style=\"stroke:#3da44d; stroke-width:3.2; stroke-opacity:1\"/>\n",
       "<line clip-path=\"url(#clip943)\" x1=\"1363.7\" y1=\"605.469\" x2=\"1347.7\" y2=\"605.469\" style=\"stroke:#3da44d; stroke-width:3.2; stroke-opacity:1\"/>\n",
       "<line clip-path=\"url(#clip943)\" x1=\"1363.7\" y1=\"605.469\" x2=\"1363.7\" y2=\"621.469\" style=\"stroke:#3da44d; stroke-width:3.2; stroke-opacity:1\"/>\n",
       "<line clip-path=\"url(#clip943)\" x1=\"1363.7\" y1=\"605.469\" x2=\"1379.7\" y2=\"605.469\" style=\"stroke:#3da44d; stroke-width:3.2; stroke-opacity:1\"/>\n",
       "<line clip-path=\"url(#clip943)\" x1=\"1441.09\" y1=\"608.063\" x2=\"1441.09\" y2=\"592.063\" style=\"stroke:#3da44d; stroke-width:3.2; stroke-opacity:1\"/>\n",
       "<line clip-path=\"url(#clip943)\" x1=\"1441.09\" y1=\"608.063\" x2=\"1425.09\" y2=\"608.063\" style=\"stroke:#3da44d; stroke-width:3.2; stroke-opacity:1\"/>\n",
       "<line clip-path=\"url(#clip943)\" x1=\"1441.09\" y1=\"608.063\" x2=\"1441.09\" y2=\"624.063\" style=\"stroke:#3da44d; stroke-width:3.2; stroke-opacity:1\"/>\n",
       "<line clip-path=\"url(#clip943)\" x1=\"1441.09\" y1=\"608.063\" x2=\"1457.09\" y2=\"608.063\" style=\"stroke:#3da44d; stroke-width:3.2; stroke-opacity:1\"/>\n",
       "<line clip-path=\"url(#clip943)\" x1=\"1518.48\" y1=\"609.873\" x2=\"1518.48\" y2=\"593.873\" style=\"stroke:#3da44d; stroke-width:3.2; stroke-opacity:1\"/>\n",
       "<line clip-path=\"url(#clip943)\" x1=\"1518.48\" y1=\"609.873\" x2=\"1502.48\" y2=\"609.873\" style=\"stroke:#3da44d; stroke-width:3.2; stroke-opacity:1\"/>\n",
       "<line clip-path=\"url(#clip943)\" x1=\"1518.48\" y1=\"609.873\" x2=\"1518.48\" y2=\"625.873\" style=\"stroke:#3da44d; stroke-width:3.2; stroke-opacity:1\"/>\n",
       "<line clip-path=\"url(#clip943)\" x1=\"1518.48\" y1=\"609.873\" x2=\"1534.48\" y2=\"609.873\" style=\"stroke:#3da44d; stroke-width:3.2; stroke-opacity:1\"/>\n",
       "<line clip-path=\"url(#clip943)\" x1=\"1595.87\" y1=\"611.013\" x2=\"1595.87\" y2=\"595.013\" style=\"stroke:#3da44d; stroke-width:3.2; stroke-opacity:1\"/>\n",
       "<line clip-path=\"url(#clip943)\" x1=\"1595.87\" y1=\"611.013\" x2=\"1579.87\" y2=\"611.013\" style=\"stroke:#3da44d; stroke-width:3.2; stroke-opacity:1\"/>\n",
       "<line clip-path=\"url(#clip943)\" x1=\"1595.87\" y1=\"611.013\" x2=\"1595.87\" y2=\"627.013\" style=\"stroke:#3da44d; stroke-width:3.2; stroke-opacity:1\"/>\n",
       "<line clip-path=\"url(#clip943)\" x1=\"1595.87\" y1=\"611.013\" x2=\"1611.87\" y2=\"611.013\" style=\"stroke:#3da44d; stroke-width:3.2; stroke-opacity:1\"/>\n",
       "<line clip-path=\"url(#clip943)\" x1=\"1673.26\" y1=\"609.94\" x2=\"1673.26\" y2=\"593.94\" style=\"stroke:#3da44d; stroke-width:3.2; stroke-opacity:1\"/>\n",
       "<line clip-path=\"url(#clip943)\" x1=\"1673.26\" y1=\"609.94\" x2=\"1657.26\" y2=\"609.94\" style=\"stroke:#3da44d; stroke-width:3.2; stroke-opacity:1\"/>\n",
       "<line clip-path=\"url(#clip943)\" x1=\"1673.26\" y1=\"609.94\" x2=\"1673.26\" y2=\"625.94\" style=\"stroke:#3da44d; stroke-width:3.2; stroke-opacity:1\"/>\n",
       "<line clip-path=\"url(#clip943)\" x1=\"1673.26\" y1=\"609.94\" x2=\"1689.26\" y2=\"609.94\" style=\"stroke:#3da44d; stroke-width:3.2; stroke-opacity:1\"/>\n",
       "<line clip-path=\"url(#clip943)\" x1=\"1750.66\" y1=\"607.214\" x2=\"1750.66\" y2=\"591.214\" style=\"stroke:#3da44d; stroke-width:3.2; stroke-opacity:1\"/>\n",
       "<line clip-path=\"url(#clip943)\" x1=\"1750.66\" y1=\"607.214\" x2=\"1734.66\" y2=\"607.214\" style=\"stroke:#3da44d; stroke-width:3.2; stroke-opacity:1\"/>\n",
       "<line clip-path=\"url(#clip943)\" x1=\"1750.66\" y1=\"607.214\" x2=\"1750.66\" y2=\"623.214\" style=\"stroke:#3da44d; stroke-width:3.2; stroke-opacity:1\"/>\n",
       "<line clip-path=\"url(#clip943)\" x1=\"1750.66\" y1=\"607.214\" x2=\"1766.66\" y2=\"607.214\" style=\"stroke:#3da44d; stroke-width:3.2; stroke-opacity:1\"/>\n",
       "<line clip-path=\"url(#clip943)\" x1=\"1828.05\" y1=\"606.051\" x2=\"1828.05\" y2=\"590.051\" style=\"stroke:#3da44d; stroke-width:3.2; stroke-opacity:1\"/>\n",
       "<line clip-path=\"url(#clip943)\" x1=\"1828.05\" y1=\"606.051\" x2=\"1812.05\" y2=\"606.051\" style=\"stroke:#3da44d; stroke-width:3.2; stroke-opacity:1\"/>\n",
       "<line clip-path=\"url(#clip943)\" x1=\"1828.05\" y1=\"606.051\" x2=\"1828.05\" y2=\"622.051\" style=\"stroke:#3da44d; stroke-width:3.2; stroke-opacity:1\"/>\n",
       "<line clip-path=\"url(#clip943)\" x1=\"1828.05\" y1=\"606.051\" x2=\"1844.05\" y2=\"606.051\" style=\"stroke:#3da44d; stroke-width:3.2; stroke-opacity:1\"/>\n",
       "<line clip-path=\"url(#clip943)\" x1=\"1905.44\" y1=\"606.508\" x2=\"1905.44\" y2=\"590.508\" style=\"stroke:#3da44d; stroke-width:3.2; stroke-opacity:1\"/>\n",
       "<line clip-path=\"url(#clip943)\" x1=\"1905.44\" y1=\"606.508\" x2=\"1889.44\" y2=\"606.508\" style=\"stroke:#3da44d; stroke-width:3.2; stroke-opacity:1\"/>\n",
       "<line clip-path=\"url(#clip943)\" x1=\"1905.44\" y1=\"606.508\" x2=\"1905.44\" y2=\"622.508\" style=\"stroke:#3da44d; stroke-width:3.2; stroke-opacity:1\"/>\n",
       "<line clip-path=\"url(#clip943)\" x1=\"1905.44\" y1=\"606.508\" x2=\"1921.44\" y2=\"606.508\" style=\"stroke:#3da44d; stroke-width:3.2; stroke-opacity:1\"/>\n",
       "<line clip-path=\"url(#clip943)\" x1=\"1982.83\" y1=\"607.295\" x2=\"1982.83\" y2=\"591.295\" style=\"stroke:#3da44d; stroke-width:3.2; stroke-opacity:1\"/>\n",
       "<line clip-path=\"url(#clip943)\" x1=\"1982.83\" y1=\"607.295\" x2=\"1966.83\" y2=\"607.295\" style=\"stroke:#3da44d; stroke-width:3.2; stroke-opacity:1\"/>\n",
       "<line clip-path=\"url(#clip943)\" x1=\"1982.83\" y1=\"607.295\" x2=\"1982.83\" y2=\"623.295\" style=\"stroke:#3da44d; stroke-width:3.2; stroke-opacity:1\"/>\n",
       "<line clip-path=\"url(#clip943)\" x1=\"1982.83\" y1=\"607.295\" x2=\"1998.83\" y2=\"607.295\" style=\"stroke:#3da44d; stroke-width:3.2; stroke-opacity:1\"/>\n",
       "<line clip-path=\"url(#clip943)\" x1=\"2060.22\" y1=\"607.998\" x2=\"2060.22\" y2=\"591.998\" style=\"stroke:#3da44d; stroke-width:3.2; stroke-opacity:1\"/>\n",
       "<line clip-path=\"url(#clip943)\" x1=\"2060.22\" y1=\"607.998\" x2=\"2044.22\" y2=\"607.998\" style=\"stroke:#3da44d; stroke-width:3.2; stroke-opacity:1\"/>\n",
       "<line clip-path=\"url(#clip943)\" x1=\"2060.22\" y1=\"607.998\" x2=\"2060.22\" y2=\"623.998\" style=\"stroke:#3da44d; stroke-width:3.2; stroke-opacity:1\"/>\n",
       "<line clip-path=\"url(#clip943)\" x1=\"2060.22\" y1=\"607.998\" x2=\"2076.22\" y2=\"607.998\" style=\"stroke:#3da44d; stroke-width:3.2; stroke-opacity:1\"/>\n",
       "<line clip-path=\"url(#clip943)\" x1=\"2137.61\" y1=\"608.524\" x2=\"2137.61\" y2=\"592.524\" style=\"stroke:#3da44d; stroke-width:3.2; stroke-opacity:1\"/>\n",
       "<line clip-path=\"url(#clip943)\" x1=\"2137.61\" y1=\"608.524\" x2=\"2121.61\" y2=\"608.524\" style=\"stroke:#3da44d; stroke-width:3.2; stroke-opacity:1\"/>\n",
       "<line clip-path=\"url(#clip943)\" x1=\"2137.61\" y1=\"608.524\" x2=\"2137.61\" y2=\"624.524\" style=\"stroke:#3da44d; stroke-width:3.2; stroke-opacity:1\"/>\n",
       "<line clip-path=\"url(#clip943)\" x1=\"2137.61\" y1=\"608.524\" x2=\"2153.61\" y2=\"608.524\" style=\"stroke:#3da44d; stroke-width:3.2; stroke-opacity:1\"/>\n",
       "<line clip-path=\"url(#clip943)\" x1=\"2215\" y1=\"608.886\" x2=\"2215\" y2=\"592.886\" style=\"stroke:#3da44d; stroke-width:3.2; stroke-opacity:1\"/>\n",
       "<line clip-path=\"url(#clip943)\" x1=\"2215\" y1=\"608.886\" x2=\"2199\" y2=\"608.886\" style=\"stroke:#3da44d; stroke-width:3.2; stroke-opacity:1\"/>\n",
       "<line clip-path=\"url(#clip943)\" x1=\"2215\" y1=\"608.886\" x2=\"2215\" y2=\"624.886\" style=\"stroke:#3da44d; stroke-width:3.2; stroke-opacity:1\"/>\n",
       "<line clip-path=\"url(#clip943)\" x1=\"2215\" y1=\"608.886\" x2=\"2231\" y2=\"608.886\" style=\"stroke:#3da44d; stroke-width:3.2; stroke-opacity:1\"/>\n",
       "<line clip-path=\"url(#clip943)\" x1=\"2292.39\" y1=\"609.125\" x2=\"2292.39\" y2=\"593.125\" style=\"stroke:#3da44d; stroke-width:3.2; stroke-opacity:1\"/>\n",
       "<line clip-path=\"url(#clip943)\" x1=\"2292.39\" y1=\"609.125\" x2=\"2276.39\" y2=\"609.125\" style=\"stroke:#3da44d; stroke-width:3.2; stroke-opacity:1\"/>\n",
       "<line clip-path=\"url(#clip943)\" x1=\"2292.39\" y1=\"609.125\" x2=\"2292.39\" y2=\"625.125\" style=\"stroke:#3da44d; stroke-width:3.2; stroke-opacity:1\"/>\n",
       "<line clip-path=\"url(#clip943)\" x1=\"2292.39\" y1=\"609.125\" x2=\"2308.39\" y2=\"609.125\" style=\"stroke:#3da44d; stroke-width:3.2; stroke-opacity:1\"/>\n",
       "<polyline clip-path=\"url(#clip943)\" style=\"stroke:#80007f; stroke-linecap:round; stroke-linejoin:round; stroke-width:20; stroke-opacity:0.3; fill:none\" points=\"280.231,881.094 357.622,855.299 435.013,780.902 512.403,702.318 589.794,642.187 667.185,607.033 744.576,594.211 821.966,596.518 899.357,606.269 976.748,614.677 1054.14,614.748 1131.53,611.098 1208.92,608.265 1286.31,605.441 1363.7,603.784 1441.09,605.292 1518.48,609.122 1595.87,611.189 1673.26,610.191 1750.66,607.887 1828.05,606.779 1905.44,606.963 1982.83,607.451 2060.22,607.913 2137.61,608.266 2215,608.512 2292.39,608.676 \"/>\n",
       "<circle clip-path=\"url(#clip943)\" cx=\"280.231\" cy=\"881.094\" r=\"14.4\" fill=\"#c271d2\" fill-rule=\"evenodd\" fill-opacity=\"1\" stroke=\"#000000\" stroke-opacity=\"1\" stroke-width=\"3.2\"/>\n",
       "<circle clip-path=\"url(#clip943)\" cx=\"357.622\" cy=\"855.299\" r=\"14.4\" fill=\"#c271d2\" fill-rule=\"evenodd\" fill-opacity=\"1\" stroke=\"#000000\" stroke-opacity=\"1\" stroke-width=\"3.2\"/>\n",
       "<circle clip-path=\"url(#clip943)\" cx=\"435.013\" cy=\"780.902\" r=\"14.4\" fill=\"#c271d2\" fill-rule=\"evenodd\" fill-opacity=\"1\" stroke=\"#000000\" stroke-opacity=\"1\" stroke-width=\"3.2\"/>\n",
       "<circle clip-path=\"url(#clip943)\" cx=\"512.403\" cy=\"702.318\" r=\"14.4\" fill=\"#c271d2\" fill-rule=\"evenodd\" fill-opacity=\"1\" stroke=\"#000000\" stroke-opacity=\"1\" stroke-width=\"3.2\"/>\n",
       "<circle clip-path=\"url(#clip943)\" cx=\"589.794\" cy=\"642.187\" r=\"14.4\" fill=\"#c271d2\" fill-rule=\"evenodd\" fill-opacity=\"1\" stroke=\"#000000\" stroke-opacity=\"1\" stroke-width=\"3.2\"/>\n",
       "<circle clip-path=\"url(#clip943)\" cx=\"667.185\" cy=\"607.033\" r=\"14.4\" fill=\"#c271d2\" fill-rule=\"evenodd\" fill-opacity=\"1\" stroke=\"#000000\" stroke-opacity=\"1\" stroke-width=\"3.2\"/>\n",
       "<circle clip-path=\"url(#clip943)\" cx=\"744.576\" cy=\"594.211\" r=\"14.4\" fill=\"#c271d2\" fill-rule=\"evenodd\" fill-opacity=\"1\" stroke=\"#000000\" stroke-opacity=\"1\" stroke-width=\"3.2\"/>\n",
       "<circle clip-path=\"url(#clip943)\" cx=\"821.966\" cy=\"596.518\" r=\"14.4\" fill=\"#c271d2\" fill-rule=\"evenodd\" fill-opacity=\"1\" stroke=\"#000000\" stroke-opacity=\"1\" stroke-width=\"3.2\"/>\n",
       "<circle clip-path=\"url(#clip943)\" cx=\"899.357\" cy=\"606.269\" r=\"14.4\" fill=\"#c271d2\" fill-rule=\"evenodd\" fill-opacity=\"1\" stroke=\"#000000\" stroke-opacity=\"1\" stroke-width=\"3.2\"/>\n",
       "<circle clip-path=\"url(#clip943)\" cx=\"976.748\" cy=\"614.677\" r=\"14.4\" fill=\"#c271d2\" fill-rule=\"evenodd\" fill-opacity=\"1\" stroke=\"#000000\" stroke-opacity=\"1\" stroke-width=\"3.2\"/>\n",
       "<circle clip-path=\"url(#clip943)\" cx=\"1054.14\" cy=\"614.748\" r=\"14.4\" fill=\"#c271d2\" fill-rule=\"evenodd\" fill-opacity=\"1\" stroke=\"#000000\" stroke-opacity=\"1\" stroke-width=\"3.2\"/>\n",
       "<circle clip-path=\"url(#clip943)\" cx=\"1131.53\" cy=\"611.098\" r=\"14.4\" fill=\"#c271d2\" fill-rule=\"evenodd\" fill-opacity=\"1\" stroke=\"#000000\" stroke-opacity=\"1\" stroke-width=\"3.2\"/>\n",
       "<circle clip-path=\"url(#clip943)\" cx=\"1208.92\" cy=\"608.265\" r=\"14.4\" fill=\"#c271d2\" fill-rule=\"evenodd\" fill-opacity=\"1\" stroke=\"#000000\" stroke-opacity=\"1\" stroke-width=\"3.2\"/>\n",
       "<circle clip-path=\"url(#clip943)\" cx=\"1286.31\" cy=\"605.441\" r=\"14.4\" fill=\"#c271d2\" fill-rule=\"evenodd\" fill-opacity=\"1\" stroke=\"#000000\" stroke-opacity=\"1\" stroke-width=\"3.2\"/>\n",
       "<circle clip-path=\"url(#clip943)\" cx=\"1363.7\" cy=\"603.784\" r=\"14.4\" fill=\"#c271d2\" fill-rule=\"evenodd\" fill-opacity=\"1\" stroke=\"#000000\" stroke-opacity=\"1\" stroke-width=\"3.2\"/>\n",
       "<circle clip-path=\"url(#clip943)\" cx=\"1441.09\" cy=\"605.292\" r=\"14.4\" fill=\"#c271d2\" fill-rule=\"evenodd\" fill-opacity=\"1\" stroke=\"#000000\" stroke-opacity=\"1\" stroke-width=\"3.2\"/>\n",
       "<circle clip-path=\"url(#clip943)\" cx=\"1518.48\" cy=\"609.122\" r=\"14.4\" fill=\"#c271d2\" fill-rule=\"evenodd\" fill-opacity=\"1\" stroke=\"#000000\" stroke-opacity=\"1\" stroke-width=\"3.2\"/>\n",
       "<circle clip-path=\"url(#clip943)\" cx=\"1595.87\" cy=\"611.189\" r=\"14.4\" fill=\"#c271d2\" fill-rule=\"evenodd\" fill-opacity=\"1\" stroke=\"#000000\" stroke-opacity=\"1\" stroke-width=\"3.2\"/>\n",
       "<circle clip-path=\"url(#clip943)\" cx=\"1673.26\" cy=\"610.191\" r=\"14.4\" fill=\"#c271d2\" fill-rule=\"evenodd\" fill-opacity=\"1\" stroke=\"#000000\" stroke-opacity=\"1\" stroke-width=\"3.2\"/>\n",
       "<circle clip-path=\"url(#clip943)\" cx=\"1750.66\" cy=\"607.887\" r=\"14.4\" fill=\"#c271d2\" fill-rule=\"evenodd\" fill-opacity=\"1\" stroke=\"#000000\" stroke-opacity=\"1\" stroke-width=\"3.2\"/>\n",
       "<circle clip-path=\"url(#clip943)\" cx=\"1828.05\" cy=\"606.779\" r=\"14.4\" fill=\"#c271d2\" fill-rule=\"evenodd\" fill-opacity=\"1\" stroke=\"#000000\" stroke-opacity=\"1\" stroke-width=\"3.2\"/>\n",
       "<circle clip-path=\"url(#clip943)\" cx=\"1905.44\" cy=\"606.963\" r=\"14.4\" fill=\"#c271d2\" fill-rule=\"evenodd\" fill-opacity=\"1\" stroke=\"#000000\" stroke-opacity=\"1\" stroke-width=\"3.2\"/>\n",
       "<circle clip-path=\"url(#clip943)\" cx=\"1982.83\" cy=\"607.451\" r=\"14.4\" fill=\"#c271d2\" fill-rule=\"evenodd\" fill-opacity=\"1\" stroke=\"#000000\" stroke-opacity=\"1\" stroke-width=\"3.2\"/>\n",
       "<circle clip-path=\"url(#clip943)\" cx=\"2060.22\" cy=\"607.913\" r=\"14.4\" fill=\"#c271d2\" fill-rule=\"evenodd\" fill-opacity=\"1\" stroke=\"#000000\" stroke-opacity=\"1\" stroke-width=\"3.2\"/>\n",
       "<circle clip-path=\"url(#clip943)\" cx=\"2137.61\" cy=\"608.266\" r=\"14.4\" fill=\"#c271d2\" fill-rule=\"evenodd\" fill-opacity=\"1\" stroke=\"#000000\" stroke-opacity=\"1\" stroke-width=\"3.2\"/>\n",
       "<circle clip-path=\"url(#clip943)\" cx=\"2215\" cy=\"608.512\" r=\"14.4\" fill=\"#c271d2\" fill-rule=\"evenodd\" fill-opacity=\"1\" stroke=\"#000000\" stroke-opacity=\"1\" stroke-width=\"3.2\"/>\n",
       "<circle clip-path=\"url(#clip943)\" cx=\"2292.39\" cy=\"608.676\" r=\"14.4\" fill=\"#c271d2\" fill-rule=\"evenodd\" fill-opacity=\"1\" stroke=\"#000000\" stroke-opacity=\"1\" stroke-width=\"3.2\"/>\n",
       "<polyline clip-path=\"url(#clip943)\" style=\"stroke:#0000ff; stroke-linecap:round; stroke-linejoin:round; stroke-width:20; stroke-opacity:0.3; fill:none\" points=\"280.231,881.094 357.622,855.299 435.013,780.902 512.403,702.318 589.794,642.187 667.185,607.031 744.576,594.208 821.966,596.514 899.357,606.267 976.748,614.673 1054.14,614.746 1131.53,611.099 1208.92,608.269 1286.31,605.445 1363.7,603.786 1441.09,605.289 1518.48,609.117 1595.87,611.188 1673.26,610.193 1750.66,607.888 1828.05,606.78 1905.44,606.963 1982.83,607.451 2060.22,607.913 2137.61,608.266 2215,608.512 2292.39,608.676 \"/>\n",
       "<path clip-path=\"url(#clip943)\" d=\"M280.231 865.094 L264.231 881.094 L280.231 897.094 L296.231 881.094 L280.231 865.094 Z\" fill=\"#ac8d18\" fill-rule=\"evenodd\" fill-opacity=\"1\" stroke=\"#000000\" stroke-opacity=\"1\" stroke-width=\"3.2\"/>\n",
       "<path clip-path=\"url(#clip943)\" d=\"M357.622 839.299 L341.622 855.299 L357.622 871.299 L373.622 855.299 L357.622 839.299 Z\" fill=\"#ac8d18\" fill-rule=\"evenodd\" fill-opacity=\"1\" stroke=\"#000000\" stroke-opacity=\"1\" stroke-width=\"3.2\"/>\n",
       "<path clip-path=\"url(#clip943)\" d=\"M435.013 764.902 L419.013 780.902 L435.013 796.902 L451.013 780.902 L435.013 764.902 Z\" fill=\"#ac8d18\" fill-rule=\"evenodd\" fill-opacity=\"1\" stroke=\"#000000\" stroke-opacity=\"1\" stroke-width=\"3.2\"/>\n",
       "<path clip-path=\"url(#clip943)\" d=\"M512.403 686.318 L496.403 702.318 L512.403 718.318 L528.403 702.318 L512.403 686.318 Z\" fill=\"#ac8d18\" fill-rule=\"evenodd\" fill-opacity=\"1\" stroke=\"#000000\" stroke-opacity=\"1\" stroke-width=\"3.2\"/>\n",
       "<path clip-path=\"url(#clip943)\" d=\"M589.794 626.187 L573.794 642.187 L589.794 658.187 L605.794 642.187 L589.794 626.187 Z\" fill=\"#ac8d18\" fill-rule=\"evenodd\" fill-opacity=\"1\" stroke=\"#000000\" stroke-opacity=\"1\" stroke-width=\"3.2\"/>\n",
       "<path clip-path=\"url(#clip943)\" d=\"M667.185 591.031 L651.185 607.031 L667.185 623.031 L683.185 607.031 L667.185 591.031 Z\" fill=\"#ac8d18\" fill-rule=\"evenodd\" fill-opacity=\"1\" stroke=\"#000000\" stroke-opacity=\"1\" stroke-width=\"3.2\"/>\n",
       "<path clip-path=\"url(#clip943)\" d=\"M744.576 578.208 L728.576 594.208 L744.576 610.208 L760.576 594.208 L744.576 578.208 Z\" fill=\"#ac8d18\" fill-rule=\"evenodd\" fill-opacity=\"1\" stroke=\"#000000\" stroke-opacity=\"1\" stroke-width=\"3.2\"/>\n",
       "<path clip-path=\"url(#clip943)\" d=\"M821.966 580.514 L805.966 596.514 L821.966 612.514 L837.966 596.514 L821.966 580.514 Z\" fill=\"#ac8d18\" fill-rule=\"evenodd\" fill-opacity=\"1\" stroke=\"#000000\" stroke-opacity=\"1\" stroke-width=\"3.2\"/>\n",
       "<path clip-path=\"url(#clip943)\" d=\"M899.357 590.267 L883.357 606.267 L899.357 622.267 L915.357 606.267 L899.357 590.267 Z\" fill=\"#ac8d18\" fill-rule=\"evenodd\" fill-opacity=\"1\" stroke=\"#000000\" stroke-opacity=\"1\" stroke-width=\"3.2\"/>\n",
       "<path clip-path=\"url(#clip943)\" d=\"M976.748 598.673 L960.748 614.673 L976.748 630.673 L992.748 614.673 L976.748 598.673 Z\" fill=\"#ac8d18\" fill-rule=\"evenodd\" fill-opacity=\"1\" stroke=\"#000000\" stroke-opacity=\"1\" stroke-width=\"3.2\"/>\n",
       "<path clip-path=\"url(#clip943)\" d=\"M1054.14 598.746 L1038.14 614.746 L1054.14 630.746 L1070.14 614.746 L1054.14 598.746 Z\" fill=\"#ac8d18\" fill-rule=\"evenodd\" fill-opacity=\"1\" stroke=\"#000000\" stroke-opacity=\"1\" stroke-width=\"3.2\"/>\n",
       "<path clip-path=\"url(#clip943)\" d=\"M1131.53 595.099 L1115.53 611.099 L1131.53 627.099 L1147.53 611.099 L1131.53 595.099 Z\" fill=\"#ac8d18\" fill-rule=\"evenodd\" fill-opacity=\"1\" stroke=\"#000000\" stroke-opacity=\"1\" stroke-width=\"3.2\"/>\n",
       "<path clip-path=\"url(#clip943)\" d=\"M1208.92 592.269 L1192.92 608.269 L1208.92 624.269 L1224.92 608.269 L1208.92 592.269 Z\" fill=\"#ac8d18\" fill-rule=\"evenodd\" fill-opacity=\"1\" stroke=\"#000000\" stroke-opacity=\"1\" stroke-width=\"3.2\"/>\n",
       "<path clip-path=\"url(#clip943)\" d=\"M1286.31 589.445 L1270.31 605.445 L1286.31 621.445 L1302.31 605.445 L1286.31 589.445 Z\" fill=\"#ac8d18\" fill-rule=\"evenodd\" fill-opacity=\"1\" stroke=\"#000000\" stroke-opacity=\"1\" stroke-width=\"3.2\"/>\n",
       "<path clip-path=\"url(#clip943)\" d=\"M1363.7 587.786 L1347.7 603.786 L1363.7 619.786 L1379.7 603.786 L1363.7 587.786 Z\" fill=\"#ac8d18\" fill-rule=\"evenodd\" fill-opacity=\"1\" stroke=\"#000000\" stroke-opacity=\"1\" stroke-width=\"3.2\"/>\n",
       "<path clip-path=\"url(#clip943)\" d=\"M1441.09 589.289 L1425.09 605.289 L1441.09 621.289 L1457.09 605.289 L1441.09 589.289 Z\" fill=\"#ac8d18\" fill-rule=\"evenodd\" fill-opacity=\"1\" stroke=\"#000000\" stroke-opacity=\"1\" stroke-width=\"3.2\"/>\n",
       "<path clip-path=\"url(#clip943)\" d=\"M1518.48 593.117 L1502.48 609.117 L1518.48 625.117 L1534.48 609.117 L1518.48 593.117 Z\" fill=\"#ac8d18\" fill-rule=\"evenodd\" fill-opacity=\"1\" stroke=\"#000000\" stroke-opacity=\"1\" stroke-width=\"3.2\"/>\n",
       "<path clip-path=\"url(#clip943)\" d=\"M1595.87 595.188 L1579.87 611.188 L1595.87 627.188 L1611.87 611.188 L1595.87 595.188 Z\" fill=\"#ac8d18\" fill-rule=\"evenodd\" fill-opacity=\"1\" stroke=\"#000000\" stroke-opacity=\"1\" stroke-width=\"3.2\"/>\n",
       "<path clip-path=\"url(#clip943)\" d=\"M1673.26 594.193 L1657.26 610.193 L1673.26 626.193 L1689.26 610.193 L1673.26 594.193 Z\" fill=\"#ac8d18\" fill-rule=\"evenodd\" fill-opacity=\"1\" stroke=\"#000000\" stroke-opacity=\"1\" stroke-width=\"3.2\"/>\n",
       "<path clip-path=\"url(#clip943)\" d=\"M1750.66 591.888 L1734.66 607.888 L1750.66 623.888 L1766.66 607.888 L1750.66 591.888 Z\" fill=\"#ac8d18\" fill-rule=\"evenodd\" fill-opacity=\"1\" stroke=\"#000000\" stroke-opacity=\"1\" stroke-width=\"3.2\"/>\n",
       "<path clip-path=\"url(#clip943)\" d=\"M1828.05 590.78 L1812.05 606.78 L1828.05 622.78 L1844.05 606.78 L1828.05 590.78 Z\" fill=\"#ac8d18\" fill-rule=\"evenodd\" fill-opacity=\"1\" stroke=\"#000000\" stroke-opacity=\"1\" stroke-width=\"3.2\"/>\n",
       "<path clip-path=\"url(#clip943)\" d=\"M1905.44 590.963 L1889.44 606.963 L1905.44 622.963 L1921.44 606.963 L1905.44 590.963 Z\" fill=\"#ac8d18\" fill-rule=\"evenodd\" fill-opacity=\"1\" stroke=\"#000000\" stroke-opacity=\"1\" stroke-width=\"3.2\"/>\n",
       "<path clip-path=\"url(#clip943)\" d=\"M1982.83 591.451 L1966.83 607.451 L1982.83 623.451 L1998.83 607.451 L1982.83 591.451 Z\" fill=\"#ac8d18\" fill-rule=\"evenodd\" fill-opacity=\"1\" stroke=\"#000000\" stroke-opacity=\"1\" stroke-width=\"3.2\"/>\n",
       "<path clip-path=\"url(#clip943)\" d=\"M2060.22 591.913 L2044.22 607.913 L2060.22 623.913 L2076.22 607.913 L2060.22 591.913 Z\" fill=\"#ac8d18\" fill-rule=\"evenodd\" fill-opacity=\"1\" stroke=\"#000000\" stroke-opacity=\"1\" stroke-width=\"3.2\"/>\n",
       "<path clip-path=\"url(#clip943)\" d=\"M2137.61 592.266 L2121.61 608.266 L2137.61 624.266 L2153.61 608.266 L2137.61 592.266 Z\" fill=\"#ac8d18\" fill-rule=\"evenodd\" fill-opacity=\"1\" stroke=\"#000000\" stroke-opacity=\"1\" stroke-width=\"3.2\"/>\n",
       "<path clip-path=\"url(#clip943)\" d=\"M2215 592.512 L2199 608.512 L2215 624.512 L2231 608.512 L2215 592.512 Z\" fill=\"#ac8d18\" fill-rule=\"evenodd\" fill-opacity=\"1\" stroke=\"#000000\" stroke-opacity=\"1\" stroke-width=\"3.2\"/>\n",
       "<path clip-path=\"url(#clip943)\" d=\"M2292.39 592.676 L2276.39 608.676 L2292.39 624.676 L2308.39 608.676 L2292.39 592.676 Z\" fill=\"#ac8d18\" fill-rule=\"evenodd\" fill-opacity=\"1\" stroke=\"#000000\" stroke-opacity=\"1\" stroke-width=\"3.2\"/>\n",
       "<path clip-path=\"url(#clip940)\" d=\"M219.866 1423.18 L2352.76 1423.18 L2352.76 1113.91 L219.866 1113.91  Z\" fill=\"#ffffff\" fill-rule=\"evenodd\" fill-opacity=\"1\"/>\n",
       "<defs>\n",
       "  <clipPath id=\"clip944\">\n",
       "    <rect x=\"219\" y=\"1113\" width=\"2134\" height=\"310\"/>\n",
       "  </clipPath>\n",
       "</defs>\n",
       "<polyline clip-path=\"url(#clip944)\" style=\"stroke:#000000; stroke-linecap:round; stroke-linejoin:round; stroke-width:8; stroke-opacity:0.1; fill:none\" points=\"589.794,1423.18 589.794,1113.91 \"/>\n",
       "<polyline clip-path=\"url(#clip944)\" style=\"stroke:#000000; stroke-linecap:round; stroke-linejoin:round; stroke-width:8; stroke-opacity:0.1; fill:none\" points=\"976.748,1423.18 976.748,1113.91 \"/>\n",
       "<polyline clip-path=\"url(#clip944)\" style=\"stroke:#000000; stroke-linecap:round; stroke-linejoin:round; stroke-width:8; stroke-opacity:0.1; fill:none\" points=\"1363.7,1423.18 1363.7,1113.91 \"/>\n",
       "<polyline clip-path=\"url(#clip944)\" style=\"stroke:#000000; stroke-linecap:round; stroke-linejoin:round; stroke-width:8; stroke-opacity:0.1; fill:none\" points=\"1750.66,1423.18 1750.66,1113.91 \"/>\n",
       "<polyline clip-path=\"url(#clip944)\" style=\"stroke:#000000; stroke-linecap:round; stroke-linejoin:round; stroke-width:8; stroke-opacity:0.1; fill:none\" points=\"2137.61,1423.18 2137.61,1113.91 \"/>\n",
       "<polyline clip-path=\"url(#clip940)\" style=\"stroke:#000000; stroke-linecap:round; stroke-linejoin:round; stroke-width:4; stroke-opacity:1; fill:none\" points=\"219.866,1423.18 2352.76,1423.18 \"/>\n",
       "<polyline clip-path=\"url(#clip940)\" style=\"stroke:#000000; stroke-linecap:round; stroke-linejoin:round; stroke-width:4; stroke-opacity:1; fill:none\" points=\"589.794,1423.18 589.794,1404.28 \"/>\n",
       "<polyline clip-path=\"url(#clip940)\" style=\"stroke:#000000; stroke-linecap:round; stroke-linejoin:round; stroke-width:4; stroke-opacity:1; fill:none\" points=\"976.748,1423.18 976.748,1404.28 \"/>\n",
       "<polyline clip-path=\"url(#clip940)\" style=\"stroke:#000000; stroke-linecap:round; stroke-linejoin:round; stroke-width:4; stroke-opacity:1; fill:none\" points=\"1363.7,1423.18 1363.7,1404.28 \"/>\n",
       "<polyline clip-path=\"url(#clip940)\" style=\"stroke:#000000; stroke-linecap:round; stroke-linejoin:round; stroke-width:4; stroke-opacity:1; fill:none\" points=\"1750.66,1423.18 1750.66,1404.28 \"/>\n",
       "<polyline clip-path=\"url(#clip940)\" style=\"stroke:#000000; stroke-linecap:round; stroke-linejoin:round; stroke-width:4; stroke-opacity:1; fill:none\" points=\"2137.61,1423.18 2137.61,1404.28 \"/>\n",
       "<path clip-path=\"url(#clip940)\" d=\"M580.072 1451.02 L598.428 1451.02 L598.428 1454.96 L584.354 1454.96 L584.354 1463.43 Q585.373 1463.08 586.391 1462.92 Q587.41 1462.73 588.428 1462.73 Q594.215 1462.73 597.595 1465.9 Q600.975 1469.08 600.975 1474.49 Q600.975 1480.07 597.502 1483.17 Q594.03 1486.25 587.711 1486.25 Q585.535 1486.25 583.266 1485.88 Q581.021 1485.51 578.614 1484.77 L578.614 1480.07 Q580.697 1481.2 582.919 1481.76 Q585.141 1482.32 587.618 1482.32 Q591.623 1482.32 593.961 1480.21 Q596.299 1478.1 596.299 1474.49 Q596.299 1470.88 593.961 1468.77 Q591.623 1466.67 587.618 1466.67 Q585.743 1466.67 583.868 1467.08 Q582.016 1467.5 580.072 1468.38 L580.072 1451.02 Z\" fill=\"#000000\" fill-rule=\"evenodd\" fill-opacity=\"1\" /><path clip-path=\"url(#clip940)\" d=\"M951.436 1481.64 L959.074 1481.64 L959.074 1455.28 L950.764 1456.95 L950.764 1452.69 L959.028 1451.02 L963.704 1451.02 L963.704 1481.64 L971.343 1481.64 L971.343 1485.58 L951.436 1485.58 L951.436 1481.64 Z\" fill=\"#000000\" fill-rule=\"evenodd\" fill-opacity=\"1\" /><path clip-path=\"url(#clip940)\" d=\"M990.787 1454.1 Q987.176 1454.1 985.347 1457.66 Q983.542 1461.2 983.542 1468.33 Q983.542 1475.44 985.347 1479.01 Q987.176 1482.55 990.787 1482.55 Q994.422 1482.55 996.227 1479.01 Q998.056 1475.44 998.056 1468.33 Q998.056 1461.2 996.227 1457.66 Q994.422 1454.1 990.787 1454.1 M990.787 1450.39 Q996.597 1450.39 999.653 1455 Q1002.73 1459.58 1002.73 1468.33 Q1002.73 1477.06 999.653 1481.67 Q996.597 1486.25 990.787 1486.25 Q984.977 1486.25 981.898 1481.67 Q978.843 1477.06 978.843 1468.33 Q978.843 1459.58 981.898 1455 Q984.977 1450.39 990.787 1450.39 Z\" fill=\"#000000\" fill-rule=\"evenodd\" fill-opacity=\"1\" /><path clip-path=\"url(#clip940)\" d=\"M1338.89 1481.64 L1346.53 1481.64 L1346.53 1455.28 L1338.22 1456.95 L1338.22 1452.69 L1346.48 1451.02 L1351.16 1451.02 L1351.16 1481.64 L1358.79 1481.64 L1358.79 1485.58 L1338.89 1485.58 L1338.89 1481.64 Z\" fill=\"#000000\" fill-rule=\"evenodd\" fill-opacity=\"1\" /><path clip-path=\"url(#clip940)\" d=\"M1368.29 1451.02 L1386.64 1451.02 L1386.64 1454.96 L1372.57 1454.96 L1372.57 1463.43 Q1373.59 1463.08 1374.6 1462.92 Q1375.62 1462.73 1376.64 1462.73 Q1382.43 1462.73 1385.81 1465.9 Q1389.19 1469.08 1389.19 1474.49 Q1389.19 1480.07 1385.72 1483.17 Q1382.24 1486.25 1375.92 1486.25 Q1373.75 1486.25 1371.48 1485.88 Q1369.23 1485.51 1366.83 1484.77 L1366.83 1480.07 Q1368.91 1481.2 1371.13 1481.76 Q1373.35 1482.32 1375.83 1482.32 Q1379.84 1482.32 1382.17 1480.21 Q1384.51 1478.1 1384.51 1474.49 Q1384.51 1470.88 1382.17 1468.77 Q1379.84 1466.67 1375.83 1466.67 Q1373.96 1466.67 1372.08 1467.08 Q1370.23 1467.5 1368.29 1468.38 L1368.29 1451.02 Z\" fill=\"#000000\" fill-rule=\"evenodd\" fill-opacity=\"1\" /><path clip-path=\"url(#clip940)\" d=\"M1729.43 1481.64 L1745.75 1481.64 L1745.75 1485.58 L1723.8 1485.58 L1723.8 1481.64 Q1726.47 1478.89 1731.05 1474.26 Q1735.66 1469.61 1736.84 1468.27 Q1739.08 1465.74 1739.96 1464.01 Q1740.86 1462.25 1740.86 1460.56 Q1740.86 1457.8 1738.92 1456.07 Q1737 1454.33 1733.9 1454.33 Q1731.7 1454.33 1729.24 1455.09 Q1726.81 1455.86 1724.04 1457.41 L1724.04 1452.69 Q1726.86 1451.55 1729.31 1450.97 Q1731.77 1450.39 1733.8 1450.39 Q1739.17 1450.39 1742.37 1453.08 Q1745.56 1455.77 1745.56 1460.26 Q1745.56 1462.39 1744.75 1464.31 Q1743.97 1466.2 1741.86 1468.8 Q1741.28 1469.47 1738.18 1472.69 Q1735.08 1475.88 1729.43 1481.64 Z\" fill=\"#000000\" fill-rule=\"evenodd\" fill-opacity=\"1\" /><path clip-path=\"url(#clip940)\" d=\"M1765.56 1454.1 Q1761.95 1454.1 1760.12 1457.66 Q1758.32 1461.2 1758.32 1468.33 Q1758.32 1475.44 1760.12 1479.01 Q1761.95 1482.55 1765.56 1482.55 Q1769.2 1482.55 1771 1479.01 Q1772.83 1475.44 1772.83 1468.33 Q1772.83 1461.2 1771 1457.66 Q1769.2 1454.1 1765.56 1454.1 M1765.56 1450.39 Q1771.37 1450.39 1774.43 1455 Q1777.51 1459.58 1777.51 1468.33 Q1777.51 1477.06 1774.43 1481.67 Q1771.37 1486.25 1765.56 1486.25 Q1759.75 1486.25 1756.67 1481.67 Q1753.62 1477.06 1753.62 1468.33 Q1753.62 1459.58 1756.67 1455 Q1759.75 1450.39 1765.56 1450.39 Z\" fill=\"#000000\" fill-rule=\"evenodd\" fill-opacity=\"1\" /><path clip-path=\"url(#clip940)\" d=\"M2116.88 1481.64 L2133.2 1481.64 L2133.2 1485.58 L2111.26 1485.58 L2111.26 1481.64 Q2113.92 1478.89 2118.5 1474.26 Q2123.11 1469.61 2124.29 1468.27 Q2126.53 1465.74 2127.41 1464.01 Q2128.32 1462.25 2128.32 1460.56 Q2128.32 1457.8 2126.37 1456.07 Q2124.45 1454.33 2121.35 1454.33 Q2119.15 1454.33 2116.7 1455.09 Q2114.26 1455.86 2111.49 1457.41 L2111.49 1452.69 Q2114.31 1451.55 2116.76 1450.97 Q2119.22 1450.39 2121.26 1450.39 Q2126.63 1450.39 2129.82 1453.08 Q2133.01 1455.77 2133.01 1460.26 Q2133.01 1462.39 2132.2 1464.31 Q2131.42 1466.2 2129.31 1468.8 Q2128.73 1469.47 2125.63 1472.69 Q2122.53 1475.88 2116.88 1481.64 Z\" fill=\"#000000\" fill-rule=\"evenodd\" fill-opacity=\"1\" /><path clip-path=\"url(#clip940)\" d=\"M2143.06 1451.02 L2161.42 1451.02 L2161.42 1454.96 L2147.34 1454.96 L2147.34 1463.43 Q2148.36 1463.08 2149.38 1462.92 Q2150.4 1462.73 2151.42 1462.73 Q2157.2 1462.73 2160.58 1465.9 Q2163.96 1469.08 2163.96 1474.49 Q2163.96 1480.07 2160.49 1483.17 Q2157.02 1486.25 2150.7 1486.25 Q2148.52 1486.25 2146.26 1485.88 Q2144.01 1485.51 2141.6 1484.77 L2141.6 1480.07 Q2143.69 1481.2 2145.91 1481.76 Q2148.13 1482.32 2150.61 1482.32 Q2154.61 1482.32 2156.95 1480.21 Q2159.29 1478.1 2159.29 1474.49 Q2159.29 1470.88 2156.95 1468.77 Q2154.61 1466.67 2150.61 1466.67 Q2148.73 1466.67 2146.86 1467.08 Q2145.01 1467.5 2143.06 1468.38 L2143.06 1451.02 Z\" fill=\"#000000\" fill-rule=\"evenodd\" fill-opacity=\"1\" /><path clip-path=\"url(#clip940)\" d=\"M1180.45 1522.27 L1180.45 1532.4 L1192.51 1532.4 L1192.51 1536.95 L1180.45 1536.95 L1180.45 1556.3 Q1180.45 1560.66 1181.63 1561.9 Q1182.84 1563.14 1186.5 1563.14 L1192.51 1563.14 L1192.51 1568.04 L1186.5 1568.04 Q1179.72 1568.04 1177.14 1565.53 Q1174.56 1562.98 1174.56 1556.3 L1174.56 1536.95 L1170.26 1536.95 L1170.26 1532.4 L1174.56 1532.4 L1174.56 1522.27 L1180.45 1522.27 Z\" fill=\"#000000\" fill-rule=\"evenodd\" fill-opacity=\"1\" /><path clip-path=\"url(#clip940)\" d=\"M1200.21 1532.4 L1206.07 1532.4 L1206.07 1568.04 L1200.21 1568.04 L1200.21 1532.4 M1200.21 1518.52 L1206.07 1518.52 L1206.07 1525.93 L1200.21 1525.93 L1200.21 1518.52 Z\" fill=\"#000000\" fill-rule=\"evenodd\" fill-opacity=\"1\" /><path clip-path=\"url(#clip940)\" d=\"M1246.08 1539.24 Q1248.28 1535.29 1251.33 1533.41 Q1254.39 1531.54 1258.52 1531.54 Q1264.09 1531.54 1267.12 1535.45 Q1270.14 1539.33 1270.14 1546.53 L1270.14 1568.04 L1264.25 1568.04 L1264.25 1546.72 Q1264.25 1541.59 1262.44 1539.11 Q1260.63 1536.63 1256.9 1536.63 Q1252.35 1536.63 1249.71 1539.65 Q1247.07 1542.68 1247.07 1547.9 L1247.07 1568.04 L1241.18 1568.04 L1241.18 1546.72 Q1241.18 1541.56 1239.36 1539.11 Q1237.55 1536.63 1233.76 1536.63 Q1229.27 1536.63 1226.63 1539.68 Q1223.99 1542.71 1223.99 1547.9 L1223.99 1568.04 L1218.1 1568.04 L1218.1 1532.4 L1223.99 1532.4 L1223.99 1537.93 Q1226 1534.66 1228.8 1533.1 Q1231.6 1531.54 1235.45 1531.54 Q1239.33 1531.54 1242.04 1533.51 Q1244.77 1535.48 1246.08 1539.24 Z\" fill=\"#000000\" fill-rule=\"evenodd\" fill-opacity=\"1\" /><path clip-path=\"url(#clip940)\" d=\"M1312.31 1548.76 L1312.31 1551.62 L1285.39 1551.62 Q1285.77 1557.67 1289.02 1560.85 Q1292.29 1564 1298.12 1564 Q1301.49 1564 1304.64 1563.17 Q1307.83 1562.35 1310.95 1560.69 L1310.95 1566.23 Q1307.8 1567.57 1304.49 1568.27 Q1301.18 1568.97 1297.77 1568.97 Q1289.24 1568.97 1284.24 1564 Q1279.28 1559.04 1279.28 1550.57 Q1279.28 1541.82 1283.99 1536.69 Q1288.73 1531.54 1296.75 1531.54 Q1303.94 1531.54 1308.11 1536.18 Q1312.31 1540.8 1312.31 1548.76 M1306.46 1547.04 Q1306.39 1542.23 1303.75 1539.37 Q1301.14 1536.5 1296.81 1536.5 Q1291.91 1536.5 1288.95 1539.27 Q1286.02 1542.04 1285.58 1547.07 L1306.46 1547.04 Z\" fill=\"#000000\" fill-rule=\"evenodd\" fill-opacity=\"1\" /><path clip-path=\"url(#clip940)\" d=\"M1321.39 1518.52 L1334.88 1518.52 L1334.88 1523.07 L1327.24 1523.07 L1327.24 1572.09 L1334.88 1572.09 L1334.88 1576.64 L1321.39 1576.64 L1321.39 1518.52 Z\" fill=\"#000000\" fill-rule=\"evenodd\" fill-opacity=\"1\" /><path clip-path=\"url(#clip940)\" d=\"M1376.99 1546.53 L1376.99 1568.04 L1371.13 1568.04 L1371.13 1546.72 Q1371.13 1541.66 1369.16 1539.14 Q1367.19 1536.63 1363.24 1536.63 Q1358.5 1536.63 1355.76 1539.65 Q1353.02 1542.68 1353.02 1547.9 L1353.02 1568.04 L1347.14 1568.04 L1347.14 1518.52 L1353.02 1518.52 L1353.02 1537.93 Q1355.12 1534.72 1357.96 1533.13 Q1360.82 1531.54 1364.55 1531.54 Q1370.69 1531.54 1373.84 1535.36 Q1376.99 1539.14 1376.99 1546.53 Z\" fill=\"#000000\" fill-rule=\"evenodd\" fill-opacity=\"1\" /><path clip-path=\"url(#clip940)\" d=\"M1402.36 1518.52 L1402.36 1576.64 L1388.86 1576.64 L1388.86 1572.09 L1396.47 1572.09 L1396.47 1523.07 L1388.86 1523.07 L1388.86 1518.52 L1402.36 1518.52 Z\" fill=\"#000000\" fill-rule=\"evenodd\" fill-opacity=\"1\" /><polyline clip-path=\"url(#clip944)\" style=\"stroke:#000000; stroke-linecap:round; stroke-linejoin:round; stroke-width:8; stroke-opacity:0.1; fill:none\" points=\"219.866,1352.54 2352.76,1352.54 \"/>\n",
       "<polyline clip-path=\"url(#clip944)\" style=\"stroke:#000000; stroke-linecap:round; stroke-linejoin:round; stroke-width:8; stroke-opacity:0.1; fill:none\" points=\"219.866,1281.83 2352.76,1281.83 \"/>\n",
       "<polyline clip-path=\"url(#clip944)\" style=\"stroke:#000000; stroke-linecap:round; stroke-linejoin:round; stroke-width:8; stroke-opacity:0.1; fill:none\" points=\"219.866,1211.12 2352.76,1211.12 \"/>\n",
       "<polyline clip-path=\"url(#clip944)\" style=\"stroke:#000000; stroke-linecap:round; stroke-linejoin:round; stroke-width:8; stroke-opacity:0.1; fill:none\" points=\"219.866,1140.4 2352.76,1140.4 \"/>\n",
       "<polyline clip-path=\"url(#clip940)\" style=\"stroke:#000000; stroke-linecap:round; stroke-linejoin:round; stroke-width:4; stroke-opacity:1; fill:none\" points=\"219.866,1423.18 219.866,1113.91 \"/>\n",
       "<polyline clip-path=\"url(#clip940)\" style=\"stroke:#000000; stroke-linecap:round; stroke-linejoin:round; stroke-width:4; stroke-opacity:1; fill:none\" points=\"219.866,1352.54 238.764,1352.54 \"/>\n",
       "<polyline clip-path=\"url(#clip940)\" style=\"stroke:#000000; stroke-linecap:round; stroke-linejoin:round; stroke-width:4; stroke-opacity:1; fill:none\" points=\"219.866,1281.83 238.764,1281.83 \"/>\n",
       "<polyline clip-path=\"url(#clip940)\" style=\"stroke:#000000; stroke-linecap:round; stroke-linejoin:round; stroke-width:4; stroke-opacity:1; fill:none\" points=\"219.866,1211.12 238.764,1211.12 \"/>\n",
       "<polyline clip-path=\"url(#clip940)\" style=\"stroke:#000000; stroke-linecap:round; stroke-linejoin:round; stroke-width:4; stroke-opacity:1; fill:none\" points=\"219.866,1140.4 238.764,1140.4 \"/>\n",
       "<path clip-path=\"url(#clip940)\" d=\"M126.205 1338.34 Q122.593 1338.34 120.765 1341.9 Q118.959 1345.44 118.959 1352.57 Q118.959 1359.68 120.765 1363.24 Q122.593 1366.79 126.205 1366.79 Q129.839 1366.79 131.644 1363.24 Q133.473 1359.68 133.473 1352.57 Q133.473 1345.44 131.644 1341.9 Q129.839 1338.34 126.205 1338.34 M126.205 1334.63 Q132.015 1334.63 135.07 1339.24 Q138.149 1343.82 138.149 1352.57 Q138.149 1361.3 135.07 1365.91 Q132.015 1370.49 126.205 1370.49 Q120.394 1370.49 117.316 1365.91 Q114.26 1361.3 114.26 1352.57 Q114.26 1343.82 117.316 1339.24 Q120.394 1334.63 126.205 1334.63 Z\" fill=\"#000000\" fill-rule=\"evenodd\" fill-opacity=\"1\" /><path clip-path=\"url(#clip940)\" d=\"M146.366 1363.94 L151.251 1363.94 L151.251 1369.82 L146.366 1369.82 L146.366 1363.94 Z\" fill=\"#000000\" fill-rule=\"evenodd\" fill-opacity=\"1\" /><path clip-path=\"url(#clip940)\" d=\"M174.283 1339.33 L162.477 1357.78 L174.283 1357.78 L174.283 1339.33 M173.056 1335.26 L178.936 1335.26 L178.936 1357.78 L183.866 1357.78 L183.866 1361.67 L178.936 1361.67 L178.936 1369.82 L174.283 1369.82 L174.283 1361.67 L158.681 1361.67 L158.681 1357.16 L173.056 1335.26 Z\" fill=\"#000000\" fill-rule=\"evenodd\" fill-opacity=\"1\" /><path clip-path=\"url(#clip940)\" d=\"M126.529 1267.63 Q122.918 1267.63 121.089 1271.19 Q119.283 1274.73 119.283 1281.86 Q119.283 1288.97 121.089 1292.53 Q122.918 1296.07 126.529 1296.07 Q130.163 1296.07 131.968 1292.53 Q133.797 1288.97 133.797 1281.86 Q133.797 1274.73 131.968 1271.19 Q130.163 1267.63 126.529 1267.63 M126.529 1263.92 Q132.339 1263.92 135.394 1268.53 Q138.473 1273.11 138.473 1281.86 Q138.473 1290.59 135.394 1295.2 Q132.339 1299.78 126.529 1299.78 Q120.718 1299.78 117.64 1295.2 Q114.584 1290.59 114.584 1281.86 Q114.584 1273.11 117.64 1268.53 Q120.718 1263.92 126.529 1263.92 Z\" fill=\"#000000\" fill-rule=\"evenodd\" fill-opacity=\"1\" /><path clip-path=\"url(#clip940)\" d=\"M146.691 1293.23 L151.575 1293.23 L151.575 1299.11 L146.691 1299.11 L146.691 1293.23 Z\" fill=\"#000000\" fill-rule=\"evenodd\" fill-opacity=\"1\" /><path clip-path=\"url(#clip940)\" d=\"M172.339 1279.96 Q169.19 1279.96 167.339 1282.12 Q165.51 1284.27 165.51 1288.02 Q165.51 1291.75 167.339 1293.92 Q169.19 1296.07 172.339 1296.07 Q175.487 1296.07 177.315 1293.92 Q179.167 1291.75 179.167 1288.02 Q179.167 1284.27 177.315 1282.12 Q175.487 1279.96 172.339 1279.96 M181.621 1265.31 L181.621 1269.57 Q179.862 1268.74 178.056 1268.3 Q176.274 1267.86 174.514 1267.86 Q169.885 1267.86 167.431 1270.98 Q165.001 1274.11 164.653 1280.43 Q166.019 1278.41 168.079 1277.35 Q170.139 1276.26 172.616 1276.26 Q177.825 1276.26 180.834 1279.43 Q183.866 1282.58 183.866 1288.02 Q183.866 1293.34 180.718 1296.56 Q177.57 1299.78 172.339 1299.78 Q166.343 1299.78 163.172 1295.2 Q160.001 1290.59 160.001 1281.86 Q160.001 1273.67 163.89 1268.81 Q167.778 1263.92 174.329 1263.92 Q176.089 1263.92 177.871 1264.27 Q179.676 1264.62 181.621 1265.31 Z\" fill=\"#000000\" fill-rule=\"evenodd\" fill-opacity=\"1\" /><path clip-path=\"url(#clip940)\" d=\"M126.783 1196.91 Q123.172 1196.91 121.343 1200.48 Q119.538 1204.02 119.538 1211.15 Q119.538 1218.26 121.343 1221.82 Q123.172 1225.36 126.783 1225.36 Q130.417 1225.36 132.223 1221.82 Q134.052 1218.26 134.052 1211.15 Q134.052 1204.02 132.223 1200.48 Q130.417 1196.91 126.783 1196.91 M126.783 1193.21 Q132.593 1193.21 135.649 1197.82 Q138.728 1202.4 138.728 1211.15 Q138.728 1219.88 135.649 1224.48 Q132.593 1229.07 126.783 1229.07 Q120.973 1229.07 117.894 1224.48 Q114.839 1219.88 114.839 1211.15 Q114.839 1202.4 117.894 1197.82 Q120.973 1193.21 126.783 1193.21 Z\" fill=\"#000000\" fill-rule=\"evenodd\" fill-opacity=\"1\" /><path clip-path=\"url(#clip940)\" d=\"M146.945 1222.52 L151.829 1222.52 L151.829 1228.4 L146.945 1228.4 L146.945 1222.52 Z\" fill=\"#000000\" fill-rule=\"evenodd\" fill-opacity=\"1\" /><path clip-path=\"url(#clip940)\" d=\"M172.014 1211.98 Q168.681 1211.98 166.76 1213.77 Q164.862 1215.55 164.862 1218.67 Q164.862 1221.8 166.76 1223.58 Q168.681 1225.36 172.014 1225.36 Q175.348 1225.36 177.269 1223.58 Q179.19 1221.78 179.19 1218.67 Q179.19 1215.55 177.269 1213.77 Q175.371 1211.98 172.014 1211.98 M167.339 1209.99 Q164.329 1209.25 162.64 1207.19 Q160.973 1205.13 160.973 1202.17 Q160.973 1198.03 163.913 1195.62 Q166.876 1193.21 172.014 1193.21 Q177.176 1193.21 180.116 1195.62 Q183.056 1198.03 183.056 1202.17 Q183.056 1205.13 181.366 1207.19 Q179.7 1209.25 176.714 1209.99 Q180.093 1210.78 181.968 1213.07 Q183.866 1215.36 183.866 1218.67 Q183.866 1223.7 180.788 1226.38 Q177.732 1229.07 172.014 1229.07 Q166.297 1229.07 163.218 1226.38 Q160.163 1223.7 160.163 1218.67 Q160.163 1215.36 162.061 1213.07 Q163.959 1210.78 167.339 1209.99 M165.626 1202.61 Q165.626 1205.29 167.292 1206.8 Q168.982 1208.3 172.014 1208.3 Q175.024 1208.3 176.714 1206.8 Q178.426 1205.29 178.426 1202.61 Q178.426 1199.92 176.714 1198.42 Q175.024 1196.91 172.014 1196.91 Q168.982 1196.91 167.292 1198.42 Q165.626 1199.92 165.626 1202.61 Z\" fill=\"#000000\" fill-rule=\"evenodd\" fill-opacity=\"1\" /><path clip-path=\"url(#clip940)\" d=\"M117.501 1153.75 L125.14 1153.75 L125.14 1127.38 L116.83 1129.05 L116.83 1124.79 L125.093 1123.12 L129.769 1123.12 L129.769 1153.75 L137.408 1153.75 L137.408 1157.68 L117.501 1157.68 L117.501 1153.75 Z\" fill=\"#000000\" fill-rule=\"evenodd\" fill-opacity=\"1\" /><path clip-path=\"url(#clip940)\" d=\"M146.853 1151.8 L151.737 1151.8 L151.737 1157.68 L146.853 1157.68 L146.853 1151.8 Z\" fill=\"#000000\" fill-rule=\"evenodd\" fill-opacity=\"1\" /><path clip-path=\"url(#clip940)\" d=\"M171.922 1126.2 Q168.311 1126.2 166.482 1129.77 Q164.677 1133.31 164.677 1140.44 Q164.677 1147.54 166.482 1151.11 Q168.311 1154.65 171.922 1154.65 Q175.556 1154.65 177.362 1151.11 Q179.19 1147.54 179.19 1140.44 Q179.19 1133.31 177.362 1129.77 Q175.556 1126.2 171.922 1126.2 M171.922 1122.5 Q177.732 1122.5 180.788 1127.11 Q183.866 1131.69 183.866 1140.44 Q183.866 1149.17 180.788 1153.77 Q177.732 1158.35 171.922 1158.35 Q166.112 1158.35 163.033 1153.77 Q159.978 1149.17 159.978 1140.44 Q159.978 1131.69 163.033 1127.11 Q166.112 1122.5 171.922 1122.5 Z\" fill=\"#000000\" fill-rule=\"evenodd\" fill-opacity=\"1\" /><path clip-path=\"url(#clip940)\" d=\"M67.3143 1319.23 Q73.68 1321.71 75.6216 1324.07 Q77.5631 1326.43 77.5631 1330.37 L77.5631 1335.05 L72.6615 1335.05 L72.6615 1331.61 Q72.6615 1329.19 71.5157 1327.86 Q70.3699 1326.52 66.1048 1324.9 L63.4312 1323.85 L28.3562 1338.27 L28.3562 1332.06 L56.238 1320.92 L28.3562 1309.78 L28.3562 1303.57 L67.3143 1319.23 Z\" fill=\"#000000\" fill-rule=\"evenodd\" fill-opacity=\"1\" /><path clip-path=\"url(#clip940)\" d=\"M74.8259 1268.4 L79.3773 1268.4 L79.3773 1302.27 L74.8259 1302.27 L74.8259 1268.4 Z\" fill=\"#000000\" fill-rule=\"evenodd\" fill-opacity=\"1\" /><path clip-path=\"url(#clip940)\" d=\"M29.4065 1240.17 L34.9447 1240.17 Q33.6716 1242.65 33.035 1245.33 Q32.3984 1248 32.3984 1250.86 Q32.3984 1255.23 33.7352 1257.42 Q35.072 1259.59 37.7456 1259.59 Q39.7826 1259.59 40.9603 1258.03 Q42.1061 1256.47 43.1565 1251.76 L43.6021 1249.75 Q44.9389 1243.51 47.3897 1240.9 Q49.8086 1238.26 54.1691 1238.26 Q59.1344 1238.26 62.0308 1242.21 Q64.9272 1246.12 64.9272 1253 Q64.9272 1255.86 64.3543 1258.98 Q63.8132 1262.07 62.6992 1265.51 L56.6518 1265.51 Q58.3387 1262.26 59.198 1259.11 Q60.0256 1255.96 60.0256 1252.87 Q60.0256 1248.73 58.6251 1246.5 Q57.1929 1244.28 54.6147 1244.28 Q52.2276 1244.28 50.9545 1245.9 Q49.6813 1247.49 48.5037 1252.93 L48.0262 1254.97 Q46.8804 1260.41 44.5251 1262.83 Q42.138 1265.25 38.0002 1265.25 Q32.9713 1265.25 30.2341 1261.69 Q27.4968 1258.12 27.4968 1251.56 Q27.4968 1248.32 27.9743 1245.45 Q28.4517 1242.59 29.4065 1240.17 Z\" fill=\"#000000\" fill-rule=\"evenodd\" fill-opacity=\"1\" /><path clip-path=\"url(#clip940)\" d=\"M38.3822 1208.63 Q39.3689 1204.01 42.4881 1201.43 Q45.6073 1198.82 50.1906 1198.82 Q57.2247 1198.82 61.0759 1203.66 Q64.9272 1208.5 64.9272 1217.41 Q64.9272 1220.4 64.3224 1223.59 Q63.7495 1226.74 62.5719 1230.11 L56.3653 1230.11 Q57.9249 1227.44 58.7206 1224.26 Q59.5163 1221.07 59.5163 1217.6 Q59.5163 1211.56 57.1292 1208.41 Q54.7421 1205.22 50.1906 1205.22 Q45.9892 1205.22 43.6339 1208.18 Q41.2468 1211.11 41.2468 1216.36 L41.2468 1221.9 L35.9632 1221.9 L35.9632 1216.11 Q35.9632 1211.37 34.0853 1208.85 Q32.1756 1206.34 28.6108 1206.34 Q24.9505 1206.34 23.009 1208.95 Q21.0356 1211.52 21.0356 1216.36 Q21.0356 1219 21.6086 1222.03 Q22.1815 1225.05 23.3909 1228.68 L17.6618 1228.68 Q16.6433 1225.02 16.134 1221.84 Q15.6248 1218.62 15.6248 1215.79 Q15.6248 1208.47 18.9668 1204.2 Q22.277 1199.94 27.9424 1199.94 Q31.8892 1199.94 34.6264 1202.2 Q37.3318 1204.46 38.3822 1208.63 Z\" fill=\"#000000\" fill-rule=\"evenodd\" fill-opacity=\"1\" /><polyline clip-path=\"url(#clip944)\" style=\"stroke:#000000; stroke-linecap:round; stroke-linejoin:round; stroke-width:4; stroke-opacity:1; fill:none\" stroke-dasharray=\"2, 4\" points=\"280.231,1122.73 357.622,1122.73 435.013,1122.73 512.403,1122.73 589.794,1122.73 667.185,1122.73 744.576,1122.73 821.966,1122.73 899.357,1122.73 976.748,1122.73 1054.14,1122.73 1131.53,1122.73 1208.92,1122.73 1286.31,1122.73 1363.7,1122.73 1441.09,1122.73 1518.48,1122.73 1595.87,1122.73 1673.26,1122.73 1750.66,1122.73 1828.05,1122.73 1905.44,1122.73 1982.83,1122.73 2060.22,1122.73 2137.61,1122.73 2215,1122.73 2292.39,1122.73 \"/>\n",
       "<polyline clip-path=\"url(#clip944)\" style=\"stroke:#000000; stroke-linecap:round; stroke-linejoin:round; stroke-width:4; stroke-opacity:1; fill:none\" stroke-dasharray=\"2, 4\" points=\"280.231,1140.4 357.622,1140.4 435.013,1140.4 512.403,1140.4 589.794,1140.4 667.185,1140.4 744.576,1140.4 821.966,1140.4 899.357,1140.4 976.748,1140.4 1054.14,1140.4 1131.53,1140.4 1208.92,1140.4 1286.31,1140.4 1363.7,1140.4 1441.09,1140.4 1518.48,1140.4 1595.87,1140.4 1673.26,1140.4 1750.66,1140.4 1828.05,1140.4 1905.44,1140.4 1982.83,1140.4 2060.22,1140.4 2137.61,1140.4 2215,1140.4 2292.39,1140.4 \"/>\n",
       "<polyline clip-path=\"url(#clip944)\" style=\"stroke:#ff0000; stroke-linecap:round; stroke-linejoin:round; stroke-width:20; stroke-opacity:0.3; fill:none\" points=\"280.231,1414.43 357.622,1388.25 435.013,1307.64 512.403,1224.94 589.794,1167.71 667.185,1140.6 744.576,1135.95 821.966,1142.68 899.357,1149.25 976.748,1149.84 1054.14,1143.75 1131.53,1136.49 1208.92,1133.64 1286.31,1136.12 1363.7,1140.8 1441.09,1143.34 1518.48,1143 1595.87,1142.44 1673.26,1141.23 1750.66,1138.85 1828.05,1138.02 1905.44,1138.78 1982.83,1139.75 2060.22,1140.56 2137.61,1141.14 2215,1141.53 2292.39,1141.78 \"/>\n",
       "<line clip-path=\"url(#clip944)\" x1=\"280.231\" y1=\"1414.43\" x2=\"280.231\" y2=\"1398.43\" style=\"stroke:#3da44d; stroke-width:3.2; stroke-opacity:1\"/>\n",
       "<line clip-path=\"url(#clip944)\" x1=\"280.231\" y1=\"1414.43\" x2=\"264.231\" y2=\"1414.43\" style=\"stroke:#3da44d; stroke-width:3.2; stroke-opacity:1\"/>\n",
       "<line clip-path=\"url(#clip944)\" x1=\"280.231\" y1=\"1414.43\" x2=\"280.231\" y2=\"1430.43\" style=\"stroke:#3da44d; stroke-width:3.2; stroke-opacity:1\"/>\n",
       "<line clip-path=\"url(#clip944)\" x1=\"280.231\" y1=\"1414.43\" x2=\"296.231\" y2=\"1414.43\" style=\"stroke:#3da44d; stroke-width:3.2; stroke-opacity:1\"/>\n",
       "<line clip-path=\"url(#clip944)\" x1=\"357.622\" y1=\"1388.25\" x2=\"357.622\" y2=\"1372.25\" style=\"stroke:#3da44d; stroke-width:3.2; stroke-opacity:1\"/>\n",
       "<line clip-path=\"url(#clip944)\" x1=\"357.622\" y1=\"1388.25\" x2=\"341.622\" y2=\"1388.25\" style=\"stroke:#3da44d; stroke-width:3.2; stroke-opacity:1\"/>\n",
       "<line clip-path=\"url(#clip944)\" x1=\"357.622\" y1=\"1388.25\" x2=\"357.622\" y2=\"1404.25\" style=\"stroke:#3da44d; stroke-width:3.2; stroke-opacity:1\"/>\n",
       "<line clip-path=\"url(#clip944)\" x1=\"357.622\" y1=\"1388.25\" x2=\"373.622\" y2=\"1388.25\" style=\"stroke:#3da44d; stroke-width:3.2; stroke-opacity:1\"/>\n",
       "<line clip-path=\"url(#clip944)\" x1=\"435.013\" y1=\"1307.64\" x2=\"435.013\" y2=\"1291.64\" style=\"stroke:#3da44d; stroke-width:3.2; stroke-opacity:1\"/>\n",
       "<line clip-path=\"url(#clip944)\" x1=\"435.013\" y1=\"1307.64\" x2=\"419.013\" y2=\"1307.64\" style=\"stroke:#3da44d; stroke-width:3.2; stroke-opacity:1\"/>\n",
       "<line clip-path=\"url(#clip944)\" x1=\"435.013\" y1=\"1307.64\" x2=\"435.013\" y2=\"1323.64\" style=\"stroke:#3da44d; stroke-width:3.2; stroke-opacity:1\"/>\n",
       "<line clip-path=\"url(#clip944)\" x1=\"435.013\" y1=\"1307.64\" x2=\"451.013\" y2=\"1307.64\" style=\"stroke:#3da44d; stroke-width:3.2; stroke-opacity:1\"/>\n",
       "<line clip-path=\"url(#clip944)\" x1=\"512.403\" y1=\"1224.94\" x2=\"512.403\" y2=\"1208.94\" style=\"stroke:#3da44d; stroke-width:3.2; stroke-opacity:1\"/>\n",
       "<line clip-path=\"url(#clip944)\" x1=\"512.403\" y1=\"1224.94\" x2=\"496.403\" y2=\"1224.94\" style=\"stroke:#3da44d; stroke-width:3.2; stroke-opacity:1\"/>\n",
       "<line clip-path=\"url(#clip944)\" x1=\"512.403\" y1=\"1224.94\" x2=\"512.403\" y2=\"1240.94\" style=\"stroke:#3da44d; stroke-width:3.2; stroke-opacity:1\"/>\n",
       "<line clip-path=\"url(#clip944)\" x1=\"512.403\" y1=\"1224.94\" x2=\"528.403\" y2=\"1224.94\" style=\"stroke:#3da44d; stroke-width:3.2; stroke-opacity:1\"/>\n",
       "<line clip-path=\"url(#clip944)\" x1=\"589.794\" y1=\"1167.71\" x2=\"589.794\" y2=\"1151.71\" style=\"stroke:#3da44d; stroke-width:3.2; stroke-opacity:1\"/>\n",
       "<line clip-path=\"url(#clip944)\" x1=\"589.794\" y1=\"1167.71\" x2=\"573.794\" y2=\"1167.71\" style=\"stroke:#3da44d; stroke-width:3.2; stroke-opacity:1\"/>\n",
       "<line clip-path=\"url(#clip944)\" x1=\"589.794\" y1=\"1167.71\" x2=\"589.794\" y2=\"1183.71\" style=\"stroke:#3da44d; stroke-width:3.2; stroke-opacity:1\"/>\n",
       "<line clip-path=\"url(#clip944)\" x1=\"589.794\" y1=\"1167.71\" x2=\"605.794\" y2=\"1167.71\" style=\"stroke:#3da44d; stroke-width:3.2; stroke-opacity:1\"/>\n",
       "<line clip-path=\"url(#clip944)\" x1=\"667.185\" y1=\"1140.6\" x2=\"667.185\" y2=\"1124.6\" style=\"stroke:#3da44d; stroke-width:3.2; stroke-opacity:1\"/>\n",
       "<line clip-path=\"url(#clip944)\" x1=\"667.185\" y1=\"1140.6\" x2=\"651.185\" y2=\"1140.6\" style=\"stroke:#3da44d; stroke-width:3.2; stroke-opacity:1\"/>\n",
       "<line clip-path=\"url(#clip944)\" x1=\"667.185\" y1=\"1140.6\" x2=\"667.185\" y2=\"1156.6\" style=\"stroke:#3da44d; stroke-width:3.2; stroke-opacity:1\"/>\n",
       "<line clip-path=\"url(#clip944)\" x1=\"667.185\" y1=\"1140.6\" x2=\"683.185\" y2=\"1140.6\" style=\"stroke:#3da44d; stroke-width:3.2; stroke-opacity:1\"/>\n",
       "<line clip-path=\"url(#clip944)\" x1=\"744.576\" y1=\"1135.95\" x2=\"744.576\" y2=\"1119.95\" style=\"stroke:#3da44d; stroke-width:3.2; stroke-opacity:1\"/>\n",
       "<line clip-path=\"url(#clip944)\" x1=\"744.576\" y1=\"1135.95\" x2=\"728.576\" y2=\"1135.95\" style=\"stroke:#3da44d; stroke-width:3.2; stroke-opacity:1\"/>\n",
       "<line clip-path=\"url(#clip944)\" x1=\"744.576\" y1=\"1135.95\" x2=\"744.576\" y2=\"1151.95\" style=\"stroke:#3da44d; stroke-width:3.2; stroke-opacity:1\"/>\n",
       "<line clip-path=\"url(#clip944)\" x1=\"744.576\" y1=\"1135.95\" x2=\"760.576\" y2=\"1135.95\" style=\"stroke:#3da44d; stroke-width:3.2; stroke-opacity:1\"/>\n",
       "<line clip-path=\"url(#clip944)\" x1=\"821.966\" y1=\"1142.68\" x2=\"821.966\" y2=\"1126.68\" style=\"stroke:#3da44d; stroke-width:3.2; stroke-opacity:1\"/>\n",
       "<line clip-path=\"url(#clip944)\" x1=\"821.966\" y1=\"1142.68\" x2=\"805.966\" y2=\"1142.68\" style=\"stroke:#3da44d; stroke-width:3.2; stroke-opacity:1\"/>\n",
       "<line clip-path=\"url(#clip944)\" x1=\"821.966\" y1=\"1142.68\" x2=\"821.966\" y2=\"1158.68\" style=\"stroke:#3da44d; stroke-width:3.2; stroke-opacity:1\"/>\n",
       "<line clip-path=\"url(#clip944)\" x1=\"821.966\" y1=\"1142.68\" x2=\"837.966\" y2=\"1142.68\" style=\"stroke:#3da44d; stroke-width:3.2; stroke-opacity:1\"/>\n",
       "<line clip-path=\"url(#clip944)\" x1=\"899.357\" y1=\"1149.25\" x2=\"899.357\" y2=\"1133.25\" style=\"stroke:#3da44d; stroke-width:3.2; stroke-opacity:1\"/>\n",
       "<line clip-path=\"url(#clip944)\" x1=\"899.357\" y1=\"1149.25\" x2=\"883.357\" y2=\"1149.25\" style=\"stroke:#3da44d; stroke-width:3.2; stroke-opacity:1\"/>\n",
       "<line clip-path=\"url(#clip944)\" x1=\"899.357\" y1=\"1149.25\" x2=\"899.357\" y2=\"1165.25\" style=\"stroke:#3da44d; stroke-width:3.2; stroke-opacity:1\"/>\n",
       "<line clip-path=\"url(#clip944)\" x1=\"899.357\" y1=\"1149.25\" x2=\"915.357\" y2=\"1149.25\" style=\"stroke:#3da44d; stroke-width:3.2; stroke-opacity:1\"/>\n",
       "<line clip-path=\"url(#clip944)\" x1=\"976.748\" y1=\"1149.84\" x2=\"976.748\" y2=\"1133.84\" style=\"stroke:#3da44d; stroke-width:3.2; stroke-opacity:1\"/>\n",
       "<line clip-path=\"url(#clip944)\" x1=\"976.748\" y1=\"1149.84\" x2=\"960.748\" y2=\"1149.84\" style=\"stroke:#3da44d; stroke-width:3.2; stroke-opacity:1\"/>\n",
       "<line clip-path=\"url(#clip944)\" x1=\"976.748\" y1=\"1149.84\" x2=\"976.748\" y2=\"1165.84\" style=\"stroke:#3da44d; stroke-width:3.2; stroke-opacity:1\"/>\n",
       "<line clip-path=\"url(#clip944)\" x1=\"976.748\" y1=\"1149.84\" x2=\"992.748\" y2=\"1149.84\" style=\"stroke:#3da44d; stroke-width:3.2; stroke-opacity:1\"/>\n",
       "<line clip-path=\"url(#clip944)\" x1=\"1054.14\" y1=\"1143.75\" x2=\"1054.14\" y2=\"1127.75\" style=\"stroke:#3da44d; stroke-width:3.2; stroke-opacity:1\"/>\n",
       "<line clip-path=\"url(#clip944)\" x1=\"1054.14\" y1=\"1143.75\" x2=\"1038.14\" y2=\"1143.75\" style=\"stroke:#3da44d; stroke-width:3.2; stroke-opacity:1\"/>\n",
       "<line clip-path=\"url(#clip944)\" x1=\"1054.14\" y1=\"1143.75\" x2=\"1054.14\" y2=\"1159.75\" style=\"stroke:#3da44d; stroke-width:3.2; stroke-opacity:1\"/>\n",
       "<line clip-path=\"url(#clip944)\" x1=\"1054.14\" y1=\"1143.75\" x2=\"1070.14\" y2=\"1143.75\" style=\"stroke:#3da44d; stroke-width:3.2; stroke-opacity:1\"/>\n",
       "<line clip-path=\"url(#clip944)\" x1=\"1131.53\" y1=\"1136.49\" x2=\"1131.53\" y2=\"1120.49\" style=\"stroke:#3da44d; stroke-width:3.2; stroke-opacity:1\"/>\n",
       "<line clip-path=\"url(#clip944)\" x1=\"1131.53\" y1=\"1136.49\" x2=\"1115.53\" y2=\"1136.49\" style=\"stroke:#3da44d; stroke-width:3.2; stroke-opacity:1\"/>\n",
       "<line clip-path=\"url(#clip944)\" x1=\"1131.53\" y1=\"1136.49\" x2=\"1131.53\" y2=\"1152.49\" style=\"stroke:#3da44d; stroke-width:3.2; stroke-opacity:1\"/>\n",
       "<line clip-path=\"url(#clip944)\" x1=\"1131.53\" y1=\"1136.49\" x2=\"1147.53\" y2=\"1136.49\" style=\"stroke:#3da44d; stroke-width:3.2; stroke-opacity:1\"/>\n",
       "<line clip-path=\"url(#clip944)\" x1=\"1208.92\" y1=\"1133.64\" x2=\"1208.92\" y2=\"1117.64\" style=\"stroke:#3da44d; stroke-width:3.2; stroke-opacity:1\"/>\n",
       "<line clip-path=\"url(#clip944)\" x1=\"1208.92\" y1=\"1133.64\" x2=\"1192.92\" y2=\"1133.64\" style=\"stroke:#3da44d; stroke-width:3.2; stroke-opacity:1\"/>\n",
       "<line clip-path=\"url(#clip944)\" x1=\"1208.92\" y1=\"1133.64\" x2=\"1208.92\" y2=\"1149.64\" style=\"stroke:#3da44d; stroke-width:3.2; stroke-opacity:1\"/>\n",
       "<line clip-path=\"url(#clip944)\" x1=\"1208.92\" y1=\"1133.64\" x2=\"1224.92\" y2=\"1133.64\" style=\"stroke:#3da44d; stroke-width:3.2; stroke-opacity:1\"/>\n",
       "<line clip-path=\"url(#clip944)\" x1=\"1286.31\" y1=\"1136.12\" x2=\"1286.31\" y2=\"1120.12\" style=\"stroke:#3da44d; stroke-width:3.2; stroke-opacity:1\"/>\n",
       "<line clip-path=\"url(#clip944)\" x1=\"1286.31\" y1=\"1136.12\" x2=\"1270.31\" y2=\"1136.12\" style=\"stroke:#3da44d; stroke-width:3.2; stroke-opacity:1\"/>\n",
       "<line clip-path=\"url(#clip944)\" x1=\"1286.31\" y1=\"1136.12\" x2=\"1286.31\" y2=\"1152.12\" style=\"stroke:#3da44d; stroke-width:3.2; stroke-opacity:1\"/>\n",
       "<line clip-path=\"url(#clip944)\" x1=\"1286.31\" y1=\"1136.12\" x2=\"1302.31\" y2=\"1136.12\" style=\"stroke:#3da44d; stroke-width:3.2; stroke-opacity:1\"/>\n",
       "<line clip-path=\"url(#clip944)\" x1=\"1363.7\" y1=\"1140.8\" x2=\"1363.7\" y2=\"1124.8\" style=\"stroke:#3da44d; stroke-width:3.2; stroke-opacity:1\"/>\n",
       "<line clip-path=\"url(#clip944)\" x1=\"1363.7\" y1=\"1140.8\" x2=\"1347.7\" y2=\"1140.8\" style=\"stroke:#3da44d; stroke-width:3.2; stroke-opacity:1\"/>\n",
       "<line clip-path=\"url(#clip944)\" x1=\"1363.7\" y1=\"1140.8\" x2=\"1363.7\" y2=\"1156.8\" style=\"stroke:#3da44d; stroke-width:3.2; stroke-opacity:1\"/>\n",
       "<line clip-path=\"url(#clip944)\" x1=\"1363.7\" y1=\"1140.8\" x2=\"1379.7\" y2=\"1140.8\" style=\"stroke:#3da44d; stroke-width:3.2; stroke-opacity:1\"/>\n",
       "<line clip-path=\"url(#clip944)\" x1=\"1441.09\" y1=\"1143.34\" x2=\"1441.09\" y2=\"1127.34\" style=\"stroke:#3da44d; stroke-width:3.2; stroke-opacity:1\"/>\n",
       "<line clip-path=\"url(#clip944)\" x1=\"1441.09\" y1=\"1143.34\" x2=\"1425.09\" y2=\"1143.34\" style=\"stroke:#3da44d; stroke-width:3.2; stroke-opacity:1\"/>\n",
       "<line clip-path=\"url(#clip944)\" x1=\"1441.09\" y1=\"1143.34\" x2=\"1441.09\" y2=\"1159.34\" style=\"stroke:#3da44d; stroke-width:3.2; stroke-opacity:1\"/>\n",
       "<line clip-path=\"url(#clip944)\" x1=\"1441.09\" y1=\"1143.34\" x2=\"1457.09\" y2=\"1143.34\" style=\"stroke:#3da44d; stroke-width:3.2; stroke-opacity:1\"/>\n",
       "<line clip-path=\"url(#clip944)\" x1=\"1518.48\" y1=\"1143\" x2=\"1518.48\" y2=\"1127\" style=\"stroke:#3da44d; stroke-width:3.2; stroke-opacity:1\"/>\n",
       "<line clip-path=\"url(#clip944)\" x1=\"1518.48\" y1=\"1143\" x2=\"1502.48\" y2=\"1143\" style=\"stroke:#3da44d; stroke-width:3.2; stroke-opacity:1\"/>\n",
       "<line clip-path=\"url(#clip944)\" x1=\"1518.48\" y1=\"1143\" x2=\"1518.48\" y2=\"1159\" style=\"stroke:#3da44d; stroke-width:3.2; stroke-opacity:1\"/>\n",
       "<line clip-path=\"url(#clip944)\" x1=\"1518.48\" y1=\"1143\" x2=\"1534.48\" y2=\"1143\" style=\"stroke:#3da44d; stroke-width:3.2; stroke-opacity:1\"/>\n",
       "<line clip-path=\"url(#clip944)\" x1=\"1595.87\" y1=\"1142.44\" x2=\"1595.87\" y2=\"1126.44\" style=\"stroke:#3da44d; stroke-width:3.2; stroke-opacity:1\"/>\n",
       "<line clip-path=\"url(#clip944)\" x1=\"1595.87\" y1=\"1142.44\" x2=\"1579.87\" y2=\"1142.44\" style=\"stroke:#3da44d; stroke-width:3.2; stroke-opacity:1\"/>\n",
       "<line clip-path=\"url(#clip944)\" x1=\"1595.87\" y1=\"1142.44\" x2=\"1595.87\" y2=\"1158.44\" style=\"stroke:#3da44d; stroke-width:3.2; stroke-opacity:1\"/>\n",
       "<line clip-path=\"url(#clip944)\" x1=\"1595.87\" y1=\"1142.44\" x2=\"1611.87\" y2=\"1142.44\" style=\"stroke:#3da44d; stroke-width:3.2; stroke-opacity:1\"/>\n",
       "<line clip-path=\"url(#clip944)\" x1=\"1673.26\" y1=\"1141.23\" x2=\"1673.26\" y2=\"1125.23\" style=\"stroke:#3da44d; stroke-width:3.2; stroke-opacity:1\"/>\n",
       "<line clip-path=\"url(#clip944)\" x1=\"1673.26\" y1=\"1141.23\" x2=\"1657.26\" y2=\"1141.23\" style=\"stroke:#3da44d; stroke-width:3.2; stroke-opacity:1\"/>\n",
       "<line clip-path=\"url(#clip944)\" x1=\"1673.26\" y1=\"1141.23\" x2=\"1673.26\" y2=\"1157.23\" style=\"stroke:#3da44d; stroke-width:3.2; stroke-opacity:1\"/>\n",
       "<line clip-path=\"url(#clip944)\" x1=\"1673.26\" y1=\"1141.23\" x2=\"1689.26\" y2=\"1141.23\" style=\"stroke:#3da44d; stroke-width:3.2; stroke-opacity:1\"/>\n",
       "<line clip-path=\"url(#clip944)\" x1=\"1750.66\" y1=\"1138.85\" x2=\"1750.66\" y2=\"1122.85\" style=\"stroke:#3da44d; stroke-width:3.2; stroke-opacity:1\"/>\n",
       "<line clip-path=\"url(#clip944)\" x1=\"1750.66\" y1=\"1138.85\" x2=\"1734.66\" y2=\"1138.85\" style=\"stroke:#3da44d; stroke-width:3.2; stroke-opacity:1\"/>\n",
       "<line clip-path=\"url(#clip944)\" x1=\"1750.66\" y1=\"1138.85\" x2=\"1750.66\" y2=\"1154.85\" style=\"stroke:#3da44d; stroke-width:3.2; stroke-opacity:1\"/>\n",
       "<line clip-path=\"url(#clip944)\" x1=\"1750.66\" y1=\"1138.85\" x2=\"1766.66\" y2=\"1138.85\" style=\"stroke:#3da44d; stroke-width:3.2; stroke-opacity:1\"/>\n",
       "<line clip-path=\"url(#clip944)\" x1=\"1828.05\" y1=\"1138.02\" x2=\"1828.05\" y2=\"1122.02\" style=\"stroke:#3da44d; stroke-width:3.2; stroke-opacity:1\"/>\n",
       "<line clip-path=\"url(#clip944)\" x1=\"1828.05\" y1=\"1138.02\" x2=\"1812.05\" y2=\"1138.02\" style=\"stroke:#3da44d; stroke-width:3.2; stroke-opacity:1\"/>\n",
       "<line clip-path=\"url(#clip944)\" x1=\"1828.05\" y1=\"1138.02\" x2=\"1828.05\" y2=\"1154.02\" style=\"stroke:#3da44d; stroke-width:3.2; stroke-opacity:1\"/>\n",
       "<line clip-path=\"url(#clip944)\" x1=\"1828.05\" y1=\"1138.02\" x2=\"1844.05\" y2=\"1138.02\" style=\"stroke:#3da44d; stroke-width:3.2; stroke-opacity:1\"/>\n",
       "<line clip-path=\"url(#clip944)\" x1=\"1905.44\" y1=\"1138.78\" x2=\"1905.44\" y2=\"1122.78\" style=\"stroke:#3da44d; stroke-width:3.2; stroke-opacity:1\"/>\n",
       "<line clip-path=\"url(#clip944)\" x1=\"1905.44\" y1=\"1138.78\" x2=\"1889.44\" y2=\"1138.78\" style=\"stroke:#3da44d; stroke-width:3.2; stroke-opacity:1\"/>\n",
       "<line clip-path=\"url(#clip944)\" x1=\"1905.44\" y1=\"1138.78\" x2=\"1905.44\" y2=\"1154.78\" style=\"stroke:#3da44d; stroke-width:3.2; stroke-opacity:1\"/>\n",
       "<line clip-path=\"url(#clip944)\" x1=\"1905.44\" y1=\"1138.78\" x2=\"1921.44\" y2=\"1138.78\" style=\"stroke:#3da44d; stroke-width:3.2; stroke-opacity:1\"/>\n",
       "<line clip-path=\"url(#clip944)\" x1=\"1982.83\" y1=\"1139.75\" x2=\"1982.83\" y2=\"1123.75\" style=\"stroke:#3da44d; stroke-width:3.2; stroke-opacity:1\"/>\n",
       "<line clip-path=\"url(#clip944)\" x1=\"1982.83\" y1=\"1139.75\" x2=\"1966.83\" y2=\"1139.75\" style=\"stroke:#3da44d; stroke-width:3.2; stroke-opacity:1\"/>\n",
       "<line clip-path=\"url(#clip944)\" x1=\"1982.83\" y1=\"1139.75\" x2=\"1982.83\" y2=\"1155.75\" style=\"stroke:#3da44d; stroke-width:3.2; stroke-opacity:1\"/>\n",
       "<line clip-path=\"url(#clip944)\" x1=\"1982.83\" y1=\"1139.75\" x2=\"1998.83\" y2=\"1139.75\" style=\"stroke:#3da44d; stroke-width:3.2; stroke-opacity:1\"/>\n",
       "<line clip-path=\"url(#clip944)\" x1=\"2060.22\" y1=\"1140.56\" x2=\"2060.22\" y2=\"1124.56\" style=\"stroke:#3da44d; stroke-width:3.2; stroke-opacity:1\"/>\n",
       "<line clip-path=\"url(#clip944)\" x1=\"2060.22\" y1=\"1140.56\" x2=\"2044.22\" y2=\"1140.56\" style=\"stroke:#3da44d; stroke-width:3.2; stroke-opacity:1\"/>\n",
       "<line clip-path=\"url(#clip944)\" x1=\"2060.22\" y1=\"1140.56\" x2=\"2060.22\" y2=\"1156.56\" style=\"stroke:#3da44d; stroke-width:3.2; stroke-opacity:1\"/>\n",
       "<line clip-path=\"url(#clip944)\" x1=\"2060.22\" y1=\"1140.56\" x2=\"2076.22\" y2=\"1140.56\" style=\"stroke:#3da44d; stroke-width:3.2; stroke-opacity:1\"/>\n",
       "<line clip-path=\"url(#clip944)\" x1=\"2137.61\" y1=\"1141.14\" x2=\"2137.61\" y2=\"1125.14\" style=\"stroke:#3da44d; stroke-width:3.2; stroke-opacity:1\"/>\n",
       "<line clip-path=\"url(#clip944)\" x1=\"2137.61\" y1=\"1141.14\" x2=\"2121.61\" y2=\"1141.14\" style=\"stroke:#3da44d; stroke-width:3.2; stroke-opacity:1\"/>\n",
       "<line clip-path=\"url(#clip944)\" x1=\"2137.61\" y1=\"1141.14\" x2=\"2137.61\" y2=\"1157.14\" style=\"stroke:#3da44d; stroke-width:3.2; stroke-opacity:1\"/>\n",
       "<line clip-path=\"url(#clip944)\" x1=\"2137.61\" y1=\"1141.14\" x2=\"2153.61\" y2=\"1141.14\" style=\"stroke:#3da44d; stroke-width:3.2; stroke-opacity:1\"/>\n",
       "<line clip-path=\"url(#clip944)\" x1=\"2215\" y1=\"1141.53\" x2=\"2215\" y2=\"1125.53\" style=\"stroke:#3da44d; stroke-width:3.2; stroke-opacity:1\"/>\n",
       "<line clip-path=\"url(#clip944)\" x1=\"2215\" y1=\"1141.53\" x2=\"2199\" y2=\"1141.53\" style=\"stroke:#3da44d; stroke-width:3.2; stroke-opacity:1\"/>\n",
       "<line clip-path=\"url(#clip944)\" x1=\"2215\" y1=\"1141.53\" x2=\"2215\" y2=\"1157.53\" style=\"stroke:#3da44d; stroke-width:3.2; stroke-opacity:1\"/>\n",
       "<line clip-path=\"url(#clip944)\" x1=\"2215\" y1=\"1141.53\" x2=\"2231\" y2=\"1141.53\" style=\"stroke:#3da44d; stroke-width:3.2; stroke-opacity:1\"/>\n",
       "<line clip-path=\"url(#clip944)\" x1=\"2292.39\" y1=\"1141.78\" x2=\"2292.39\" y2=\"1125.78\" style=\"stroke:#3da44d; stroke-width:3.2; stroke-opacity:1\"/>\n",
       "<line clip-path=\"url(#clip944)\" x1=\"2292.39\" y1=\"1141.78\" x2=\"2276.39\" y2=\"1141.78\" style=\"stroke:#3da44d; stroke-width:3.2; stroke-opacity:1\"/>\n",
       "<line clip-path=\"url(#clip944)\" x1=\"2292.39\" y1=\"1141.78\" x2=\"2292.39\" y2=\"1157.78\" style=\"stroke:#3da44d; stroke-width:3.2; stroke-opacity:1\"/>\n",
       "<line clip-path=\"url(#clip944)\" x1=\"2292.39\" y1=\"1141.78\" x2=\"2308.39\" y2=\"1141.78\" style=\"stroke:#3da44d; stroke-width:3.2; stroke-opacity:1\"/>\n",
       "<polyline clip-path=\"url(#clip944)\" style=\"stroke:#80007f; stroke-linecap:round; stroke-linejoin:round; stroke-width:20; stroke-opacity:0.3; fill:none\" points=\"280.231,1414.43 357.622,1387.22 435.013,1305.94 512.403,1222.46 589.794,1161.71 667.185,1130.04 744.576,1122.66 821.966,1129.84 899.357,1141.94 976.748,1149.74 1054.14,1148.97 1131.53,1144.13 1208.92,1139.49 1286.31,1135.85 1363.7,1134.94 1441.09,1138.07 1518.48,1142.68 1595.87,1144.46 1673.26,1142.93 1750.66,1140.03 1828.05,1138.72 1905.44,1139.06 1982.83,1139.73 2060.22,1140.33 2137.61,1140.77 2215,1141.08 2292.39,1141.27 \"/>\n",
       "<circle clip-path=\"url(#clip944)\" cx=\"280.231\" cy=\"1414.43\" r=\"14.4\" fill=\"#c271d2\" fill-rule=\"evenodd\" fill-opacity=\"1\" stroke=\"#000000\" stroke-opacity=\"1\" stroke-width=\"3.2\"/>\n",
       "<circle clip-path=\"url(#clip944)\" cx=\"357.622\" cy=\"1387.22\" r=\"14.4\" fill=\"#c271d2\" fill-rule=\"evenodd\" fill-opacity=\"1\" stroke=\"#000000\" stroke-opacity=\"1\" stroke-width=\"3.2\"/>\n",
       "<circle clip-path=\"url(#clip944)\" cx=\"435.013\" cy=\"1305.94\" r=\"14.4\" fill=\"#c271d2\" fill-rule=\"evenodd\" fill-opacity=\"1\" stroke=\"#000000\" stroke-opacity=\"1\" stroke-width=\"3.2\"/>\n",
       "<circle clip-path=\"url(#clip944)\" cx=\"512.403\" cy=\"1222.46\" r=\"14.4\" fill=\"#c271d2\" fill-rule=\"evenodd\" fill-opacity=\"1\" stroke=\"#000000\" stroke-opacity=\"1\" stroke-width=\"3.2\"/>\n",
       "<circle clip-path=\"url(#clip944)\" cx=\"589.794\" cy=\"1161.71\" r=\"14.4\" fill=\"#c271d2\" fill-rule=\"evenodd\" fill-opacity=\"1\" stroke=\"#000000\" stroke-opacity=\"1\" stroke-width=\"3.2\"/>\n",
       "<circle clip-path=\"url(#clip944)\" cx=\"667.185\" cy=\"1130.04\" r=\"14.4\" fill=\"#c271d2\" fill-rule=\"evenodd\" fill-opacity=\"1\" stroke=\"#000000\" stroke-opacity=\"1\" stroke-width=\"3.2\"/>\n",
       "<circle clip-path=\"url(#clip944)\" cx=\"744.576\" cy=\"1122.66\" r=\"14.4\" fill=\"#c271d2\" fill-rule=\"evenodd\" fill-opacity=\"1\" stroke=\"#000000\" stroke-opacity=\"1\" stroke-width=\"3.2\"/>\n",
       "<circle clip-path=\"url(#clip944)\" cx=\"821.966\" cy=\"1129.84\" r=\"14.4\" fill=\"#c271d2\" fill-rule=\"evenodd\" fill-opacity=\"1\" stroke=\"#000000\" stroke-opacity=\"1\" stroke-width=\"3.2\"/>\n",
       "<circle clip-path=\"url(#clip944)\" cx=\"899.357\" cy=\"1141.94\" r=\"14.4\" fill=\"#c271d2\" fill-rule=\"evenodd\" fill-opacity=\"1\" stroke=\"#000000\" stroke-opacity=\"1\" stroke-width=\"3.2\"/>\n",
       "<circle clip-path=\"url(#clip944)\" cx=\"976.748\" cy=\"1149.74\" r=\"14.4\" fill=\"#c271d2\" fill-rule=\"evenodd\" fill-opacity=\"1\" stroke=\"#000000\" stroke-opacity=\"1\" stroke-width=\"3.2\"/>\n",
       "<circle clip-path=\"url(#clip944)\" cx=\"1054.14\" cy=\"1148.97\" r=\"14.4\" fill=\"#c271d2\" fill-rule=\"evenodd\" fill-opacity=\"1\" stroke=\"#000000\" stroke-opacity=\"1\" stroke-width=\"3.2\"/>\n",
       "<circle clip-path=\"url(#clip944)\" cx=\"1131.53\" cy=\"1144.13\" r=\"14.4\" fill=\"#c271d2\" fill-rule=\"evenodd\" fill-opacity=\"1\" stroke=\"#000000\" stroke-opacity=\"1\" stroke-width=\"3.2\"/>\n",
       "<circle clip-path=\"url(#clip944)\" cx=\"1208.92\" cy=\"1139.49\" r=\"14.4\" fill=\"#c271d2\" fill-rule=\"evenodd\" fill-opacity=\"1\" stroke=\"#000000\" stroke-opacity=\"1\" stroke-width=\"3.2\"/>\n",
       "<circle clip-path=\"url(#clip944)\" cx=\"1286.31\" cy=\"1135.85\" r=\"14.4\" fill=\"#c271d2\" fill-rule=\"evenodd\" fill-opacity=\"1\" stroke=\"#000000\" stroke-opacity=\"1\" stroke-width=\"3.2\"/>\n",
       "<circle clip-path=\"url(#clip944)\" cx=\"1363.7\" cy=\"1134.94\" r=\"14.4\" fill=\"#c271d2\" fill-rule=\"evenodd\" fill-opacity=\"1\" stroke=\"#000000\" stroke-opacity=\"1\" stroke-width=\"3.2\"/>\n",
       "<circle clip-path=\"url(#clip944)\" cx=\"1441.09\" cy=\"1138.07\" r=\"14.4\" fill=\"#c271d2\" fill-rule=\"evenodd\" fill-opacity=\"1\" stroke=\"#000000\" stroke-opacity=\"1\" stroke-width=\"3.2\"/>\n",
       "<circle clip-path=\"url(#clip944)\" cx=\"1518.48\" cy=\"1142.68\" r=\"14.4\" fill=\"#c271d2\" fill-rule=\"evenodd\" fill-opacity=\"1\" stroke=\"#000000\" stroke-opacity=\"1\" stroke-width=\"3.2\"/>\n",
       "<circle clip-path=\"url(#clip944)\" cx=\"1595.87\" cy=\"1144.46\" r=\"14.4\" fill=\"#c271d2\" fill-rule=\"evenodd\" fill-opacity=\"1\" stroke=\"#000000\" stroke-opacity=\"1\" stroke-width=\"3.2\"/>\n",
       "<circle clip-path=\"url(#clip944)\" cx=\"1673.26\" cy=\"1142.93\" r=\"14.4\" fill=\"#c271d2\" fill-rule=\"evenodd\" fill-opacity=\"1\" stroke=\"#000000\" stroke-opacity=\"1\" stroke-width=\"3.2\"/>\n",
       "<circle clip-path=\"url(#clip944)\" cx=\"1750.66\" cy=\"1140.03\" r=\"14.4\" fill=\"#c271d2\" fill-rule=\"evenodd\" fill-opacity=\"1\" stroke=\"#000000\" stroke-opacity=\"1\" stroke-width=\"3.2\"/>\n",
       "<circle clip-path=\"url(#clip944)\" cx=\"1828.05\" cy=\"1138.72\" r=\"14.4\" fill=\"#c271d2\" fill-rule=\"evenodd\" fill-opacity=\"1\" stroke=\"#000000\" stroke-opacity=\"1\" stroke-width=\"3.2\"/>\n",
       "<circle clip-path=\"url(#clip944)\" cx=\"1905.44\" cy=\"1139.06\" r=\"14.4\" fill=\"#c271d2\" fill-rule=\"evenodd\" fill-opacity=\"1\" stroke=\"#000000\" stroke-opacity=\"1\" stroke-width=\"3.2\"/>\n",
       "<circle clip-path=\"url(#clip944)\" cx=\"1982.83\" cy=\"1139.73\" r=\"14.4\" fill=\"#c271d2\" fill-rule=\"evenodd\" fill-opacity=\"1\" stroke=\"#000000\" stroke-opacity=\"1\" stroke-width=\"3.2\"/>\n",
       "<circle clip-path=\"url(#clip944)\" cx=\"2060.22\" cy=\"1140.33\" r=\"14.4\" fill=\"#c271d2\" fill-rule=\"evenodd\" fill-opacity=\"1\" stroke=\"#000000\" stroke-opacity=\"1\" stroke-width=\"3.2\"/>\n",
       "<circle clip-path=\"url(#clip944)\" cx=\"2137.61\" cy=\"1140.77\" r=\"14.4\" fill=\"#c271d2\" fill-rule=\"evenodd\" fill-opacity=\"1\" stroke=\"#000000\" stroke-opacity=\"1\" stroke-width=\"3.2\"/>\n",
       "<circle clip-path=\"url(#clip944)\" cx=\"2215\" cy=\"1141.08\" r=\"14.4\" fill=\"#c271d2\" fill-rule=\"evenodd\" fill-opacity=\"1\" stroke=\"#000000\" stroke-opacity=\"1\" stroke-width=\"3.2\"/>\n",
       "<circle clip-path=\"url(#clip944)\" cx=\"2292.39\" cy=\"1141.27\" r=\"14.4\" fill=\"#c271d2\" fill-rule=\"evenodd\" fill-opacity=\"1\" stroke=\"#000000\" stroke-opacity=\"1\" stroke-width=\"3.2\"/>\n",
       "<polyline clip-path=\"url(#clip944)\" style=\"stroke:#0000ff; stroke-linecap:round; stroke-linejoin:round; stroke-width:20; stroke-opacity:0.3; fill:none\" points=\"280.231,1414.43 357.622,1387.22 435.013,1305.94 512.403,1222.46 589.794,1161.71 667.185,1130.04 744.576,1122.66 821.966,1129.84 899.357,1141.94 976.748,1149.75 1054.14,1148.98 1131.53,1144.14 1208.92,1139.49 1286.31,1135.84 1363.7,1134.94 1441.09,1138.07 1518.48,1142.68 1595.87,1144.46 1673.26,1142.93 1750.66,1140.03 1828.05,1138.72 1905.44,1139.06 1982.83,1139.73 2060.22,1140.33 2137.61,1140.78 2215,1141.08 2292.39,1141.27 \"/>\n",
       "<path clip-path=\"url(#clip944)\" d=\"M280.231 1398.43 L264.231 1414.43 L280.231 1430.43 L296.231 1414.43 L280.231 1398.43 Z\" fill=\"#ac8d18\" fill-rule=\"evenodd\" fill-opacity=\"1\" stroke=\"#000000\" stroke-opacity=\"1\" stroke-width=\"3.2\"/>\n",
       "<path clip-path=\"url(#clip944)\" d=\"M357.622 1371.22 L341.622 1387.22 L357.622 1403.22 L373.622 1387.22 L357.622 1371.22 Z\" fill=\"#ac8d18\" fill-rule=\"evenodd\" fill-opacity=\"1\" stroke=\"#000000\" stroke-opacity=\"1\" stroke-width=\"3.2\"/>\n",
       "<path clip-path=\"url(#clip944)\" d=\"M435.013 1289.94 L419.013 1305.94 L435.013 1321.94 L451.013 1305.94 L435.013 1289.94 Z\" fill=\"#ac8d18\" fill-rule=\"evenodd\" fill-opacity=\"1\" stroke=\"#000000\" stroke-opacity=\"1\" stroke-width=\"3.2\"/>\n",
       "<path clip-path=\"url(#clip944)\" d=\"M512.403 1206.46 L496.403 1222.46 L512.403 1238.46 L528.403 1222.46 L512.403 1206.46 Z\" fill=\"#ac8d18\" fill-rule=\"evenodd\" fill-opacity=\"1\" stroke=\"#000000\" stroke-opacity=\"1\" stroke-width=\"3.2\"/>\n",
       "<path clip-path=\"url(#clip944)\" d=\"M589.794 1145.71 L573.794 1161.71 L589.794 1177.71 L605.794 1161.71 L589.794 1145.71 Z\" fill=\"#ac8d18\" fill-rule=\"evenodd\" fill-opacity=\"1\" stroke=\"#000000\" stroke-opacity=\"1\" stroke-width=\"3.2\"/>\n",
       "<path clip-path=\"url(#clip944)\" d=\"M667.185 1114.04 L651.185 1130.04 L667.185 1146.04 L683.185 1130.04 L667.185 1114.04 Z\" fill=\"#ac8d18\" fill-rule=\"evenodd\" fill-opacity=\"1\" stroke=\"#000000\" stroke-opacity=\"1\" stroke-width=\"3.2\"/>\n",
       "<path clip-path=\"url(#clip944)\" d=\"M744.576 1106.66 L728.576 1122.66 L744.576 1138.66 L760.576 1122.66 L744.576 1106.66 Z\" fill=\"#ac8d18\" fill-rule=\"evenodd\" fill-opacity=\"1\" stroke=\"#000000\" stroke-opacity=\"1\" stroke-width=\"3.2\"/>\n",
       "<path clip-path=\"url(#clip944)\" d=\"M821.966 1113.84 L805.966 1129.84 L821.966 1145.84 L837.966 1129.84 L821.966 1113.84 Z\" fill=\"#ac8d18\" fill-rule=\"evenodd\" fill-opacity=\"1\" stroke=\"#000000\" stroke-opacity=\"1\" stroke-width=\"3.2\"/>\n",
       "<path clip-path=\"url(#clip944)\" d=\"M899.357 1125.94 L883.357 1141.94 L899.357 1157.94 L915.357 1141.94 L899.357 1125.94 Z\" fill=\"#ac8d18\" fill-rule=\"evenodd\" fill-opacity=\"1\" stroke=\"#000000\" stroke-opacity=\"1\" stroke-width=\"3.2\"/>\n",
       "<path clip-path=\"url(#clip944)\" d=\"M976.748 1133.75 L960.748 1149.75 L976.748 1165.75 L992.748 1149.75 L976.748 1133.75 Z\" fill=\"#ac8d18\" fill-rule=\"evenodd\" fill-opacity=\"1\" stroke=\"#000000\" stroke-opacity=\"1\" stroke-width=\"3.2\"/>\n",
       "<path clip-path=\"url(#clip944)\" d=\"M1054.14 1132.98 L1038.14 1148.98 L1054.14 1164.98 L1070.14 1148.98 L1054.14 1132.98 Z\" fill=\"#ac8d18\" fill-rule=\"evenodd\" fill-opacity=\"1\" stroke=\"#000000\" stroke-opacity=\"1\" stroke-width=\"3.2\"/>\n",
       "<path clip-path=\"url(#clip944)\" d=\"M1131.53 1128.14 L1115.53 1144.14 L1131.53 1160.14 L1147.53 1144.14 L1131.53 1128.14 Z\" fill=\"#ac8d18\" fill-rule=\"evenodd\" fill-opacity=\"1\" stroke=\"#000000\" stroke-opacity=\"1\" stroke-width=\"3.2\"/>\n",
       "<path clip-path=\"url(#clip944)\" d=\"M1208.92 1123.49 L1192.92 1139.49 L1208.92 1155.49 L1224.92 1139.49 L1208.92 1123.49 Z\" fill=\"#ac8d18\" fill-rule=\"evenodd\" fill-opacity=\"1\" stroke=\"#000000\" stroke-opacity=\"1\" stroke-width=\"3.2\"/>\n",
       "<path clip-path=\"url(#clip944)\" d=\"M1286.31 1119.84 L1270.31 1135.84 L1286.31 1151.84 L1302.31 1135.84 L1286.31 1119.84 Z\" fill=\"#ac8d18\" fill-rule=\"evenodd\" fill-opacity=\"1\" stroke=\"#000000\" stroke-opacity=\"1\" stroke-width=\"3.2\"/>\n",
       "<path clip-path=\"url(#clip944)\" d=\"M1363.7 1118.94 L1347.7 1134.94 L1363.7 1150.94 L1379.7 1134.94 L1363.7 1118.94 Z\" fill=\"#ac8d18\" fill-rule=\"evenodd\" fill-opacity=\"1\" stroke=\"#000000\" stroke-opacity=\"1\" stroke-width=\"3.2\"/>\n",
       "<path clip-path=\"url(#clip944)\" d=\"M1441.09 1122.07 L1425.09 1138.07 L1441.09 1154.07 L1457.09 1138.07 L1441.09 1122.07 Z\" fill=\"#ac8d18\" fill-rule=\"evenodd\" fill-opacity=\"1\" stroke=\"#000000\" stroke-opacity=\"1\" stroke-width=\"3.2\"/>\n",
       "<path clip-path=\"url(#clip944)\" d=\"M1518.48 1126.68 L1502.48 1142.68 L1518.48 1158.68 L1534.48 1142.68 L1518.48 1126.68 Z\" fill=\"#ac8d18\" fill-rule=\"evenodd\" fill-opacity=\"1\" stroke=\"#000000\" stroke-opacity=\"1\" stroke-width=\"3.2\"/>\n",
       "<path clip-path=\"url(#clip944)\" d=\"M1595.87 1128.46 L1579.87 1144.46 L1595.87 1160.46 L1611.87 1144.46 L1595.87 1128.46 Z\" fill=\"#ac8d18\" fill-rule=\"evenodd\" fill-opacity=\"1\" stroke=\"#000000\" stroke-opacity=\"1\" stroke-width=\"3.2\"/>\n",
       "<path clip-path=\"url(#clip944)\" d=\"M1673.26 1126.93 L1657.26 1142.93 L1673.26 1158.93 L1689.26 1142.93 L1673.26 1126.93 Z\" fill=\"#ac8d18\" fill-rule=\"evenodd\" fill-opacity=\"1\" stroke=\"#000000\" stroke-opacity=\"1\" stroke-width=\"3.2\"/>\n",
       "<path clip-path=\"url(#clip944)\" d=\"M1750.66 1124.03 L1734.66 1140.03 L1750.66 1156.03 L1766.66 1140.03 L1750.66 1124.03 Z\" fill=\"#ac8d18\" fill-rule=\"evenodd\" fill-opacity=\"1\" stroke=\"#000000\" stroke-opacity=\"1\" stroke-width=\"3.2\"/>\n",
       "<path clip-path=\"url(#clip944)\" d=\"M1828.05 1122.72 L1812.05 1138.72 L1828.05 1154.72 L1844.05 1138.72 L1828.05 1122.72 Z\" fill=\"#ac8d18\" fill-rule=\"evenodd\" fill-opacity=\"1\" stroke=\"#000000\" stroke-opacity=\"1\" stroke-width=\"3.2\"/>\n",
       "<path clip-path=\"url(#clip944)\" d=\"M1905.44 1123.06 L1889.44 1139.06 L1905.44 1155.06 L1921.44 1139.06 L1905.44 1123.06 Z\" fill=\"#ac8d18\" fill-rule=\"evenodd\" fill-opacity=\"1\" stroke=\"#000000\" stroke-opacity=\"1\" stroke-width=\"3.2\"/>\n",
       "<path clip-path=\"url(#clip944)\" d=\"M1982.83 1123.73 L1966.83 1139.73 L1982.83 1155.73 L1998.83 1139.73 L1982.83 1123.73 Z\" fill=\"#ac8d18\" fill-rule=\"evenodd\" fill-opacity=\"1\" stroke=\"#000000\" stroke-opacity=\"1\" stroke-width=\"3.2\"/>\n",
       "<path clip-path=\"url(#clip944)\" d=\"M2060.22 1124.33 L2044.22 1140.33 L2060.22 1156.33 L2076.22 1140.33 L2060.22 1124.33 Z\" fill=\"#ac8d18\" fill-rule=\"evenodd\" fill-opacity=\"1\" stroke=\"#000000\" stroke-opacity=\"1\" stroke-width=\"3.2\"/>\n",
       "<path clip-path=\"url(#clip944)\" d=\"M2137.61 1124.78 L2121.61 1140.78 L2137.61 1156.78 L2153.61 1140.78 L2137.61 1124.78 Z\" fill=\"#ac8d18\" fill-rule=\"evenodd\" fill-opacity=\"1\" stroke=\"#000000\" stroke-opacity=\"1\" stroke-width=\"3.2\"/>\n",
       "<path clip-path=\"url(#clip944)\" d=\"M2215 1125.08 L2199 1141.08 L2215 1157.08 L2231 1141.08 L2215 1125.08 Z\" fill=\"#ac8d18\" fill-rule=\"evenodd\" fill-opacity=\"1\" stroke=\"#000000\" stroke-opacity=\"1\" stroke-width=\"3.2\"/>\n",
       "<path clip-path=\"url(#clip944)\" d=\"M2292.39 1125.27 L2276.39 1141.27 L2292.39 1157.27 L2308.39 1141.27 L2292.39 1125.27 Z\" fill=\"#ac8d18\" fill-rule=\"evenodd\" fill-opacity=\"1\" stroke=\"#000000\" stroke-opacity=\"1\" stroke-width=\"3.2\"/>\n",
       "</svg>\n"
      ]
     },
     "metadata": {},
     "output_type": "display_data"
    }
   ],
   "source": [
    "gr()\n",
    "###########\n",
    "# OUTPUTS #\n",
    "###########\n",
    "# limits\n",
    "p3 = plot(ts,(pUB + y0)*ones(length(ts)),linestyle = :dot,linecolor = :black,xaxis=\"time[h]\",yaxis=\"y_s1\",legend=false,gridlinewidth=2)\n",
    "p3 = plot!(ts,(pTrack + y0)*ones(length(ts)),linestyle = :dot,linecolor = :black,legend=false)\n",
    "\n",
    "for opti in 1:3\n",
    "    p3 = plot!(ts,yTraj[opti,:,1],linewidth=5,linealpha = 0.3,markershape=MList[opti],linecolor = CList[opti],legend=false)\n",
    "end\n",
    "\n",
    "p4 = plot(ts,(pUB + y0)*ones(length(ts)),linestyle = :dot,linecolor = :black,xaxis=\"time[h]\",yaxis=\"y_s2\",legend=false,gridlinewidth=2)\n",
    "p4 = plot!(ts,(pTrack + y0)*ones(length(ts)),linestyle = :dot,linecolor = :black,legend=false)\n",
    "\n",
    "for opti in 1:3\n",
    "    p4 = plot!(ts,yTraj[opti,:,2],linewidth=5,linealpha = 0.3,markershape=MList[opti],linecolor = CList[opti],legend=false)\n",
    "end\n",
    "\n",
    "p5 = plot(ts,(pUB + y0)*ones(length(ts)),linestyle = :dot,linecolor = :black,xaxis=\"time[h]\",yaxis=\"y_s3\",legend=false,gridlinewidth=2)\n",
    "p5 = plot!(ts,(pTrack + y0)*ones(length(ts)),linestyle = :dot,linecolor = :black,legend=false)\n",
    "\n",
    "for opti in 1:3\n",
    "    p5 = plot!(ts,yTraj[opti,:,3],linewidth=5,linealpha = 0.3,markershape=MList[opti],linecolor = CList[opti],legend=false)\n",
    "end\n",
    "\n",
    "g1 = plot(p3,p4,p5,layout=(3,1))\n",
    "display(g1)"
   ]
  },
  {
   "cell_type": "code",
   "execution_count": 19,
   "id": "042bad03",
   "metadata": {},
   "outputs": [
    {
     "data": {
      "image/svg+xml": [
       "<?xml version=\"1.0\" encoding=\"utf-8\"?>\n",
       "<svg xmlns=\"http://www.w3.org/2000/svg\" xmlns:xlink=\"http://www.w3.org/1999/xlink\" width=\"600\" height=\"400\" viewBox=\"0 0 2400 1600\">\n",
       "<defs>\n",
       "  <clipPath id=\"clip980\">\n",
       "    <rect x=\"0\" y=\"0\" width=\"2400\" height=\"1600\"/>\n",
       "  </clipPath>\n",
       "</defs>\n",
       "<path clip-path=\"url(#clip980)\" d=\"M0 1600 L2400 1600 L2400 0 L0 0  Z\" fill=\"#ffffff\" fill-rule=\"evenodd\" fill-opacity=\"1\"/>\n",
       "<defs>\n",
       "  <clipPath id=\"clip981\">\n",
       "    <rect x=\"480\" y=\"0\" width=\"1681\" height=\"1600\"/>\n",
       "  </clipPath>\n",
       "</defs>\n",
       "<path clip-path=\"url(#clip980)\" d=\"M249.542 356.513 L2352.76 356.513 L2352.76 47.2441 L249.542 47.2441  Z\" fill=\"#ffffff\" fill-rule=\"evenodd\" fill-opacity=\"1\"/>\n",
       "<defs>\n",
       "  <clipPath id=\"clip982\">\n",
       "    <rect x=\"249\" y=\"47\" width=\"2104\" height=\"310\"/>\n",
       "  </clipPath>\n",
       "</defs>\n",
       "<polyline clip-path=\"url(#clip982)\" style=\"stroke:#000000; stroke-linecap:round; stroke-linejoin:round; stroke-width:8; stroke-opacity:0.1; fill:none\" points=\"614.323,356.513 614.323,47.2441 \"/>\n",
       "<polyline clip-path=\"url(#clip982)\" style=\"stroke:#000000; stroke-linecap:round; stroke-linejoin:round; stroke-width:8; stroke-opacity:0.1; fill:none\" points=\"995.893,356.513 995.893,47.2441 \"/>\n",
       "<polyline clip-path=\"url(#clip982)\" style=\"stroke:#000000; stroke-linecap:round; stroke-linejoin:round; stroke-width:8; stroke-opacity:0.1; fill:none\" points=\"1377.46,356.513 1377.46,47.2441 \"/>\n",
       "<polyline clip-path=\"url(#clip982)\" style=\"stroke:#000000; stroke-linecap:round; stroke-linejoin:round; stroke-width:8; stroke-opacity:0.1; fill:none\" points=\"1759.03,356.513 1759.03,47.2441 \"/>\n",
       "<polyline clip-path=\"url(#clip982)\" style=\"stroke:#000000; stroke-linecap:round; stroke-linejoin:round; stroke-width:8; stroke-opacity:0.1; fill:none\" points=\"2140.6,356.513 2140.6,47.2441 \"/>\n",
       "<polyline clip-path=\"url(#clip980)\" style=\"stroke:#000000; stroke-linecap:round; stroke-linejoin:round; stroke-width:4; stroke-opacity:1; fill:none\" points=\"249.542,356.513 2352.76,356.513 \"/>\n",
       "<polyline clip-path=\"url(#clip980)\" style=\"stroke:#000000; stroke-linecap:round; stroke-linejoin:round; stroke-width:4; stroke-opacity:1; fill:none\" points=\"614.323,356.513 614.323,337.616 \"/>\n",
       "<polyline clip-path=\"url(#clip980)\" style=\"stroke:#000000; stroke-linecap:round; stroke-linejoin:round; stroke-width:4; stroke-opacity:1; fill:none\" points=\"995.893,356.513 995.893,337.616 \"/>\n",
       "<polyline clip-path=\"url(#clip980)\" style=\"stroke:#000000; stroke-linecap:round; stroke-linejoin:round; stroke-width:4; stroke-opacity:1; fill:none\" points=\"1377.46,356.513 1377.46,337.616 \"/>\n",
       "<polyline clip-path=\"url(#clip980)\" style=\"stroke:#000000; stroke-linecap:round; stroke-linejoin:round; stroke-width:4; stroke-opacity:1; fill:none\" points=\"1759.03,356.513 1759.03,337.616 \"/>\n",
       "<polyline clip-path=\"url(#clip980)\" style=\"stroke:#000000; stroke-linecap:round; stroke-linejoin:round; stroke-width:4; stroke-opacity:1; fill:none\" points=\"2140.6,356.513 2140.6,337.616 \"/>\n",
       "<path clip-path=\"url(#clip980)\" d=\"M604.601 384.353 L622.957 384.353 L622.957 388.288 L608.883 388.288 L608.883 396.761 Q609.902 396.413 610.92 396.251 Q611.939 396.066 612.957 396.066 Q618.744 396.066 622.124 399.237 Q625.503 402.409 625.503 407.825 Q625.503 413.404 622.031 416.506 Q618.559 419.584 612.24 419.584 Q610.064 419.584 607.795 419.214 Q605.55 418.844 603.142 418.103 L603.142 413.404 Q605.226 414.538 607.448 415.094 Q609.67 415.649 612.147 415.649 Q616.152 415.649 618.49 413.543 Q620.828 411.436 620.828 407.825 Q620.828 404.214 618.49 402.108 Q616.152 400.001 612.147 400.001 Q610.272 400.001 608.397 400.418 Q606.545 400.835 604.601 401.714 L604.601 384.353 Z\" fill=\"#000000\" fill-rule=\"evenodd\" fill-opacity=\"1\" /><path clip-path=\"url(#clip980)\" d=\"M970.581 414.978 L978.219 414.978 L978.219 388.612 L969.909 390.279 L969.909 386.02 L978.173 384.353 L982.849 384.353 L982.849 414.978 L990.488 414.978 L990.488 418.913 L970.581 418.913 L970.581 414.978 Z\" fill=\"#000000\" fill-rule=\"evenodd\" fill-opacity=\"1\" /><path clip-path=\"url(#clip980)\" d=\"M1009.93 387.432 Q1006.32 387.432 1004.49 390.997 Q1002.69 394.538 1002.69 401.668 Q1002.69 408.774 1004.49 412.339 Q1006.32 415.881 1009.93 415.881 Q1013.57 415.881 1015.37 412.339 Q1017.2 408.774 1017.2 401.668 Q1017.2 394.538 1015.37 390.997 Q1013.57 387.432 1009.93 387.432 M1009.93 383.728 Q1015.74 383.728 1018.8 388.335 Q1021.88 392.918 1021.88 401.668 Q1021.88 410.395 1018.8 415.001 Q1015.74 419.584 1009.93 419.584 Q1004.12 419.584 1001.04 415.001 Q997.988 410.395 997.988 401.668 Q997.988 392.918 1001.04 388.335 Q1004.12 383.728 1009.93 383.728 Z\" fill=\"#000000\" fill-rule=\"evenodd\" fill-opacity=\"1\" /><path clip-path=\"url(#clip980)\" d=\"M1352.65 414.978 L1360.29 414.978 L1360.29 388.612 L1351.98 390.279 L1351.98 386.02 L1360.24 384.353 L1364.92 384.353 L1364.92 414.978 L1372.56 414.978 L1372.56 418.913 L1352.65 418.913 L1352.65 414.978 Z\" fill=\"#000000\" fill-rule=\"evenodd\" fill-opacity=\"1\" /><path clip-path=\"url(#clip980)\" d=\"M1382.05 384.353 L1400.4 384.353 L1400.4 388.288 L1386.33 388.288 L1386.33 396.761 Q1387.35 396.413 1388.37 396.251 Q1389.38 396.066 1390.4 396.066 Q1396.19 396.066 1399.57 399.237 Q1402.95 402.409 1402.95 407.825 Q1402.95 413.404 1399.48 416.506 Q1396 419.584 1389.69 419.584 Q1387.51 419.584 1385.24 419.214 Q1383 418.844 1380.59 418.103 L1380.59 413.404 Q1382.67 414.538 1384.89 415.094 Q1387.12 415.649 1389.59 415.649 Q1393.6 415.649 1395.94 413.543 Q1398.27 411.436 1398.27 407.825 Q1398.27 404.214 1395.94 402.108 Q1393.6 400.001 1389.59 400.001 Q1387.72 400.001 1385.84 400.418 Q1383.99 400.835 1382.05 401.714 L1382.05 384.353 Z\" fill=\"#000000\" fill-rule=\"evenodd\" fill-opacity=\"1\" /><path clip-path=\"url(#clip980)\" d=\"M1737.81 414.978 L1754.13 414.978 L1754.13 418.913 L1732.18 418.913 L1732.18 414.978 Q1734.84 412.223 1739.43 407.594 Q1744.03 402.941 1745.21 401.598 Q1747.46 399.075 1748.34 397.339 Q1749.24 395.58 1749.24 393.89 Q1749.24 391.136 1747.3 389.399 Q1745.38 387.663 1742.27 387.663 Q1740.07 387.663 1737.62 388.427 Q1735.19 389.191 1732.41 390.742 L1732.41 386.02 Q1735.24 384.886 1737.69 384.307 Q1740.14 383.728 1742.18 383.728 Q1747.55 383.728 1750.75 386.413 Q1753.94 389.099 1753.94 393.589 Q1753.94 395.719 1753.13 397.64 Q1752.34 399.538 1750.24 402.131 Q1749.66 402.802 1746.56 406.02 Q1743.45 409.214 1737.81 414.978 Z\" fill=\"#000000\" fill-rule=\"evenodd\" fill-opacity=\"1\" /><path clip-path=\"url(#clip980)\" d=\"M1773.94 387.432 Q1770.33 387.432 1768.5 390.997 Q1766.69 394.538 1766.69 401.668 Q1766.69 408.774 1768.5 412.339 Q1770.33 415.881 1773.94 415.881 Q1777.57 415.881 1779.38 412.339 Q1781.21 408.774 1781.21 401.668 Q1781.21 394.538 1779.38 390.997 Q1777.57 387.432 1773.94 387.432 M1773.94 383.728 Q1779.75 383.728 1782.81 388.335 Q1785.88 392.918 1785.88 401.668 Q1785.88 410.395 1782.81 415.001 Q1779.75 419.584 1773.94 419.584 Q1768.13 419.584 1765.05 415.001 Q1762 410.395 1762 401.668 Q1762 392.918 1765.05 388.335 Q1768.13 383.728 1773.94 383.728 Z\" fill=\"#000000\" fill-rule=\"evenodd\" fill-opacity=\"1\" /><path clip-path=\"url(#clip980)\" d=\"M2119.87 414.978 L2136.19 414.978 L2136.19 418.913 L2114.25 418.913 L2114.25 414.978 Q2116.91 412.223 2121.49 407.594 Q2126.1 402.941 2127.28 401.598 Q2129.53 399.075 2130.41 397.339 Q2131.31 395.58 2131.31 393.89 Q2131.31 391.136 2129.36 389.399 Q2127.44 387.663 2124.34 387.663 Q2122.14 387.663 2119.69 388.427 Q2117.26 389.191 2114.48 390.742 L2114.48 386.02 Q2117.3 384.886 2119.76 384.307 Q2122.21 383.728 2124.25 383.728 Q2129.62 383.728 2132.81 386.413 Q2136.01 389.099 2136.01 393.589 Q2136.01 395.719 2135.2 397.64 Q2134.41 399.538 2132.3 402.131 Q2131.73 402.802 2128.62 406.02 Q2125.52 409.214 2119.87 414.978 Z\" fill=\"#000000\" fill-rule=\"evenodd\" fill-opacity=\"1\" /><path clip-path=\"url(#clip980)\" d=\"M2146.05 384.353 L2164.41 384.353 L2164.41 388.288 L2150.34 388.288 L2150.34 396.761 Q2151.36 396.413 2152.37 396.251 Q2153.39 396.066 2154.41 396.066 Q2160.2 396.066 2163.58 399.237 Q2166.96 402.409 2166.96 407.825 Q2166.96 413.404 2163.48 416.506 Q2160.01 419.584 2153.69 419.584 Q2151.52 419.584 2149.25 419.214 Q2147 418.844 2144.6 418.103 L2144.6 413.404 Q2146.68 414.538 2148.9 415.094 Q2151.12 415.649 2153.6 415.649 Q2157.61 415.649 2159.94 413.543 Q2162.28 411.436 2162.28 407.825 Q2162.28 404.214 2159.94 402.108 Q2157.61 400.001 2153.6 400.001 Q2151.73 400.001 2149.85 400.418 Q2148 400.835 2146.05 401.714 L2146.05 384.353 Z\" fill=\"#000000\" fill-rule=\"evenodd\" fill-opacity=\"1\" /><path clip-path=\"url(#clip980)\" d=\"M1195.29 455.608 L1195.29 465.729 L1207.35 465.729 L1207.35 470.281 L1195.29 470.281 L1195.29 489.632 Q1195.29 493.993 1196.46 495.234 Q1197.67 496.476 1201.33 496.476 L1207.35 496.476 L1207.35 501.377 L1201.33 501.377 Q1194.56 501.377 1191.98 498.863 Q1189.4 496.316 1189.4 489.632 L1189.4 470.281 L1185.1 470.281 L1185.1 465.729 L1189.4 465.729 L1189.4 455.608 L1195.29 455.608 Z\" fill=\"#000000\" fill-rule=\"evenodd\" fill-opacity=\"1\" /><path clip-path=\"url(#clip980)\" d=\"M1215.05 465.729 L1220.91 465.729 L1220.91 501.377 L1215.05 501.377 L1215.05 465.729 M1215.05 451.852 L1220.91 451.852 L1220.91 459.268 L1215.05 459.268 L1215.05 451.852 Z\" fill=\"#000000\" fill-rule=\"evenodd\" fill-opacity=\"1\" /><path clip-path=\"url(#clip980)\" d=\"M1260.92 472.572 Q1263.11 468.626 1266.17 466.748 Q1269.22 464.87 1273.36 464.87 Q1278.93 464.87 1281.96 468.785 Q1284.98 472.668 1284.98 479.861 L1284.98 501.377 L1279.09 501.377 L1279.09 480.052 Q1279.09 474.928 1277.28 472.445 Q1275.46 469.962 1271.74 469.962 Q1267.19 469.962 1264.55 472.986 Q1261.9 476.01 1261.9 481.23 L1261.9 501.377 L1256.02 501.377 L1256.02 480.052 Q1256.02 474.896 1254.2 472.445 Q1252.39 469.962 1248.6 469.962 Q1244.11 469.962 1241.47 473.018 Q1238.83 476.042 1238.83 481.23 L1238.83 501.377 L1232.94 501.377 L1232.94 465.729 L1238.83 465.729 L1238.83 471.267 Q1240.83 467.989 1243.63 466.429 Q1246.44 464.87 1250.29 464.87 Q1254.17 464.87 1256.88 466.843 Q1259.61 468.817 1260.92 472.572 Z\" fill=\"#000000\" fill-rule=\"evenodd\" fill-opacity=\"1\" /><path clip-path=\"url(#clip980)\" d=\"M1327.15 482.089 L1327.15 484.954 L1300.23 484.954 Q1300.61 491.001 1303.85 494.184 Q1307.13 497.335 1312.96 497.335 Q1316.33 497.335 1319.48 496.507 Q1322.67 495.68 1325.78 494.025 L1325.78 499.563 Q1322.63 500.9 1319.32 501.6 Q1316.01 502.3 1312.61 502.3 Q1304.08 502.3 1299.08 497.335 Q1294.11 492.37 1294.11 483.903 Q1294.11 475.15 1298.83 470.026 Q1303.57 464.87 1311.59 464.87 Q1318.78 464.87 1322.95 469.517 Q1327.15 474.132 1327.15 482.089 M1321.3 480.37 Q1321.23 475.564 1318.59 472.7 Q1315.98 469.835 1311.65 469.835 Q1306.75 469.835 1303.79 472.604 Q1300.86 475.373 1300.42 480.402 L1321.3 480.37 Z\" fill=\"#000000\" fill-rule=\"evenodd\" fill-opacity=\"1\" /><path clip-path=\"url(#clip980)\" d=\"M1336.22 451.852 L1349.72 451.852 L1349.72 456.403 L1342.08 456.403 L1342.08 505.419 L1349.72 505.419 L1349.72 509.971 L1336.22 509.971 L1336.22 451.852 Z\" fill=\"#000000\" fill-rule=\"evenodd\" fill-opacity=\"1\" /><path clip-path=\"url(#clip980)\" d=\"M1391.83 479.861 L1391.83 501.377 L1385.97 501.377 L1385.97 480.052 Q1385.97 474.991 1384 472.477 Q1382.03 469.962 1378.08 469.962 Q1373.34 469.962 1370.6 472.986 Q1367.86 476.01 1367.86 481.23 L1367.86 501.377 L1361.97 501.377 L1361.97 451.852 L1367.86 451.852 L1367.86 471.267 Q1369.96 468.053 1372.79 466.461 Q1375.66 464.87 1379.38 464.87 Q1385.53 464.87 1388.68 468.689 Q1391.83 472.477 1391.83 479.861 Z\" fill=\"#000000\" fill-rule=\"evenodd\" fill-opacity=\"1\" /><path clip-path=\"url(#clip980)\" d=\"M1417.2 451.852 L1417.2 509.971 L1403.7 509.971 L1403.7 505.419 L1411.31 505.419 L1411.31 456.403 L1403.7 456.403 L1403.7 451.852 L1417.2 451.852 Z\" fill=\"#000000\" fill-rule=\"evenodd\" fill-opacity=\"1\" /><polyline clip-path=\"url(#clip982)\" style=\"stroke:#000000; stroke-linecap:round; stroke-linejoin:round; stroke-width:8; stroke-opacity:0.1; fill:none\" points=\"249.542,347.76 2352.76,347.76 \"/>\n",
       "<polyline clip-path=\"url(#clip982)\" style=\"stroke:#000000; stroke-linecap:round; stroke-linejoin:round; stroke-width:8; stroke-opacity:0.1; fill:none\" points=\"249.542,286.976 2352.76,286.976 \"/>\n",
       "<polyline clip-path=\"url(#clip982)\" style=\"stroke:#000000; stroke-linecap:round; stroke-linejoin:round; stroke-width:8; stroke-opacity:0.1; fill:none\" points=\"249.542,226.192 2352.76,226.192 \"/>\n",
       "<polyline clip-path=\"url(#clip982)\" style=\"stroke:#000000; stroke-linecap:round; stroke-linejoin:round; stroke-width:8; stroke-opacity:0.1; fill:none\" points=\"249.542,165.408 2352.76,165.408 \"/>\n",
       "<polyline clip-path=\"url(#clip982)\" style=\"stroke:#000000; stroke-linecap:round; stroke-linejoin:round; stroke-width:8; stroke-opacity:0.1; fill:none\" points=\"249.542,104.624 2352.76,104.624 \"/>\n",
       "<polyline clip-path=\"url(#clip980)\" style=\"stroke:#000000; stroke-linecap:round; stroke-linejoin:round; stroke-width:4; stroke-opacity:1; fill:none\" points=\"249.542,356.513 249.542,47.2441 \"/>\n",
       "<polyline clip-path=\"url(#clip980)\" style=\"stroke:#000000; stroke-linecap:round; stroke-linejoin:round; stroke-width:4; stroke-opacity:1; fill:none\" points=\"249.542,347.76 268.44,347.76 \"/>\n",
       "<polyline clip-path=\"url(#clip980)\" style=\"stroke:#000000; stroke-linecap:round; stroke-linejoin:round; stroke-width:4; stroke-opacity:1; fill:none\" points=\"249.542,286.976 268.44,286.976 \"/>\n",
       "<polyline clip-path=\"url(#clip980)\" style=\"stroke:#000000; stroke-linecap:round; stroke-linejoin:round; stroke-width:4; stroke-opacity:1; fill:none\" points=\"249.542,226.192 268.44,226.192 \"/>\n",
       "<polyline clip-path=\"url(#clip980)\" style=\"stroke:#000000; stroke-linecap:round; stroke-linejoin:round; stroke-width:4; stroke-opacity:1; fill:none\" points=\"249.542,165.408 268.44,165.408 \"/>\n",
       "<polyline clip-path=\"url(#clip980)\" style=\"stroke:#000000; stroke-linecap:round; stroke-linejoin:round; stroke-width:4; stroke-opacity:1; fill:none\" points=\"249.542,104.624 268.44,104.624 \"/>\n",
       "<path clip-path=\"url(#clip980)\" d=\"M126.205 333.559 Q122.593 333.559 120.765 337.124 Q118.959 340.665 118.959 347.795 Q118.959 354.901 120.765 358.466 Q122.593 362.008 126.205 362.008 Q129.839 362.008 131.644 358.466 Q133.473 354.901 133.473 347.795 Q133.473 340.665 131.644 337.124 Q129.839 333.559 126.205 333.559 M126.205 329.855 Q132.015 329.855 135.07 334.462 Q138.149 339.045 138.149 347.795 Q138.149 356.522 135.07 361.128 Q132.015 365.712 126.205 365.712 Q120.394 365.712 117.316 361.128 Q114.26 356.522 114.26 347.795 Q114.26 339.045 117.316 334.462 Q120.394 329.855 126.205 329.855 Z\" fill=\"#000000\" fill-rule=\"evenodd\" fill-opacity=\"1\" /><path clip-path=\"url(#clip980)\" d=\"M146.366 359.161 L151.251 359.161 L151.251 365.04 L146.366 365.04 L146.366 359.161 Z\" fill=\"#000000\" fill-rule=\"evenodd\" fill-opacity=\"1\" /><path clip-path=\"url(#clip980)\" d=\"M171.436 333.559 Q167.825 333.559 165.996 337.124 Q164.19 340.665 164.19 347.795 Q164.19 354.901 165.996 358.466 Q167.825 362.008 171.436 362.008 Q175.07 362.008 176.876 358.466 Q178.704 354.901 178.704 347.795 Q178.704 340.665 176.876 337.124 Q175.07 333.559 171.436 333.559 M171.436 329.855 Q177.246 329.855 180.301 334.462 Q183.38 339.045 183.38 347.795 Q183.38 356.522 180.301 361.128 Q177.246 365.712 171.436 365.712 Q165.626 365.712 162.547 361.128 Q159.491 356.522 159.491 347.795 Q159.491 339.045 162.547 334.462 Q165.626 329.855 171.436 329.855 Z\" fill=\"#000000\" fill-rule=\"evenodd\" fill-opacity=\"1\" /><path clip-path=\"url(#clip980)\" d=\"M201.598 333.559 Q197.987 333.559 196.158 337.124 Q194.352 340.665 194.352 347.795 Q194.352 354.901 196.158 358.466 Q197.987 362.008 201.598 362.008 Q205.232 362.008 207.037 358.466 Q208.866 354.901 208.866 347.795 Q208.866 340.665 207.037 337.124 Q205.232 333.559 201.598 333.559 M201.598 329.855 Q207.408 329.855 210.463 334.462 Q213.542 339.045 213.542 347.795 Q213.542 356.522 210.463 361.128 Q207.408 365.712 201.598 365.712 Q195.787 365.712 192.709 361.128 Q189.653 356.522 189.653 347.795 Q189.653 339.045 192.709 334.462 Q195.787 329.855 201.598 329.855 Z\" fill=\"#000000\" fill-rule=\"evenodd\" fill-opacity=\"1\" /><path clip-path=\"url(#clip980)\" d=\"M127.2 272.775 Q123.589 272.775 121.76 276.34 Q119.955 279.881 119.955 287.011 Q119.955 294.117 121.76 297.682 Q123.589 301.224 127.2 301.224 Q130.834 301.224 132.64 297.682 Q134.468 294.117 134.468 287.011 Q134.468 279.881 132.64 276.34 Q130.834 272.775 127.2 272.775 M127.2 269.071 Q133.01 269.071 136.066 273.678 Q139.144 278.261 139.144 287.011 Q139.144 295.738 136.066 300.344 Q133.01 304.928 127.2 304.928 Q121.39 304.928 118.311 300.344 Q115.256 295.738 115.256 287.011 Q115.256 278.261 118.311 273.678 Q121.39 269.071 127.2 269.071 Z\" fill=\"#000000\" fill-rule=\"evenodd\" fill-opacity=\"1\" /><path clip-path=\"url(#clip980)\" d=\"M147.362 298.377 L152.246 298.377 L152.246 304.256 L147.362 304.256 L147.362 298.377 Z\" fill=\"#000000\" fill-rule=\"evenodd\" fill-opacity=\"1\" /><path clip-path=\"url(#clip980)\" d=\"M166.459 300.321 L182.778 300.321 L182.778 304.256 L160.834 304.256 L160.834 300.321 Q163.496 297.566 168.079 292.937 Q172.686 288.284 173.866 286.942 Q176.112 284.418 176.991 282.682 Q177.894 280.923 177.894 279.233 Q177.894 276.479 175.95 274.743 Q174.028 273.006 170.927 273.006 Q168.727 273.006 166.274 273.77 Q163.843 274.534 161.065 276.085 L161.065 271.363 Q163.89 270.229 166.343 269.65 Q168.797 269.071 170.834 269.071 Q176.204 269.071 179.399 271.756 Q182.593 274.442 182.593 278.932 Q182.593 281.062 181.783 282.983 Q180.996 284.881 178.889 287.474 Q178.311 288.145 175.209 291.363 Q172.107 294.557 166.459 300.321 Z\" fill=\"#000000\" fill-rule=\"evenodd\" fill-opacity=\"1\" /><path clip-path=\"url(#clip980)\" d=\"M192.639 269.696 L210.996 269.696 L210.996 273.631 L196.922 273.631 L196.922 282.104 Q197.94 281.756 198.959 281.594 Q199.977 281.409 200.996 281.409 Q206.783 281.409 210.162 284.58 Q213.542 287.752 213.542 293.168 Q213.542 298.747 210.07 301.849 Q206.598 304.928 200.278 304.928 Q198.102 304.928 195.834 304.557 Q193.588 304.187 191.181 303.446 L191.181 298.747 Q193.264 299.881 195.487 300.437 Q197.709 300.992 200.186 300.992 Q204.19 300.992 206.528 298.886 Q208.866 296.779 208.866 293.168 Q208.866 289.557 206.528 287.451 Q204.19 285.344 200.186 285.344 Q198.311 285.344 196.436 285.761 Q194.584 286.178 192.639 287.057 L192.639 269.696 Z\" fill=\"#000000\" fill-rule=\"evenodd\" fill-opacity=\"1\" /><path clip-path=\"url(#clip980)\" d=\"M126.205 211.991 Q122.593 211.991 120.765 215.556 Q118.959 219.097 118.959 226.227 Q118.959 233.333 120.765 236.898 Q122.593 240.44 126.205 240.44 Q129.839 240.44 131.644 236.898 Q133.473 233.333 133.473 226.227 Q133.473 219.097 131.644 215.556 Q129.839 211.991 126.205 211.991 M126.205 208.287 Q132.015 208.287 135.07 212.894 Q138.149 217.477 138.149 226.227 Q138.149 234.954 135.07 239.56 Q132.015 244.144 126.205 244.144 Q120.394 244.144 117.316 239.56 Q114.26 234.954 114.26 226.227 Q114.26 217.477 117.316 212.894 Q120.394 208.287 126.205 208.287 Z\" fill=\"#000000\" fill-rule=\"evenodd\" fill-opacity=\"1\" /><path clip-path=\"url(#clip980)\" d=\"M146.366 237.593 L151.251 237.593 L151.251 243.472 L146.366 243.472 L146.366 237.593 Z\" fill=\"#000000\" fill-rule=\"evenodd\" fill-opacity=\"1\" /><path clip-path=\"url(#clip980)\" d=\"M161.482 208.912 L179.839 208.912 L179.839 212.847 L165.765 212.847 L165.765 221.32 Q166.783 220.972 167.802 220.81 Q168.82 220.625 169.839 220.625 Q175.626 220.625 179.005 223.796 Q182.385 226.968 182.385 232.384 Q182.385 237.963 178.913 241.065 Q175.44 244.144 169.121 244.144 Q166.945 244.144 164.677 243.773 Q162.431 243.403 160.024 242.662 L160.024 237.963 Q162.107 239.097 164.329 239.653 Q166.552 240.208 169.028 240.208 Q173.033 240.208 175.371 238.102 Q177.709 235.995 177.709 232.384 Q177.709 228.773 175.371 226.667 Q173.033 224.56 169.028 224.56 Q167.153 224.56 165.278 224.977 Q163.427 225.394 161.482 226.273 L161.482 208.912 Z\" fill=\"#000000\" fill-rule=\"evenodd\" fill-opacity=\"1\" /><path clip-path=\"url(#clip980)\" d=\"M201.598 211.991 Q197.987 211.991 196.158 215.556 Q194.352 219.097 194.352 226.227 Q194.352 233.333 196.158 236.898 Q197.987 240.44 201.598 240.44 Q205.232 240.44 207.037 236.898 Q208.866 233.333 208.866 226.227 Q208.866 219.097 207.037 215.556 Q205.232 211.991 201.598 211.991 M201.598 208.287 Q207.408 208.287 210.463 212.894 Q213.542 217.477 213.542 226.227 Q213.542 234.954 210.463 239.56 Q207.408 244.144 201.598 244.144 Q195.787 244.144 192.709 239.56 Q189.653 234.954 189.653 226.227 Q189.653 217.477 192.709 212.894 Q195.787 208.287 201.598 208.287 Z\" fill=\"#000000\" fill-rule=\"evenodd\" fill-opacity=\"1\" /><path clip-path=\"url(#clip980)\" d=\"M127.2 151.207 Q123.589 151.207 121.76 154.772 Q119.955 158.313 119.955 165.443 Q119.955 172.549 121.76 176.114 Q123.589 179.656 127.2 179.656 Q130.834 179.656 132.64 176.114 Q134.468 172.549 134.468 165.443 Q134.468 158.313 132.64 154.772 Q130.834 151.207 127.2 151.207 M127.2 147.503 Q133.01 147.503 136.066 152.11 Q139.144 156.693 139.144 165.443 Q139.144 174.17 136.066 178.776 Q133.01 183.36 127.2 183.36 Q121.39 183.36 118.311 178.776 Q115.256 174.17 115.256 165.443 Q115.256 156.693 118.311 152.11 Q121.39 147.503 127.2 147.503 Z\" fill=\"#000000\" fill-rule=\"evenodd\" fill-opacity=\"1\" /><path clip-path=\"url(#clip980)\" d=\"M147.362 176.809 L152.246 176.809 L152.246 182.688 L147.362 182.688 L147.362 176.809 Z\" fill=\"#000000\" fill-rule=\"evenodd\" fill-opacity=\"1\" /><path clip-path=\"url(#clip980)\" d=\"M161.251 148.128 L183.473 148.128 L183.473 150.119 L170.927 182.688 L166.042 182.688 L177.848 152.063 L161.251 152.063 L161.251 148.128 Z\" fill=\"#000000\" fill-rule=\"evenodd\" fill-opacity=\"1\" /><path clip-path=\"url(#clip980)\" d=\"M192.639 148.128 L210.996 148.128 L210.996 152.063 L196.922 152.063 L196.922 160.536 Q197.94 160.188 198.959 160.026 Q199.977 159.841 200.996 159.841 Q206.783 159.841 210.162 163.012 Q213.542 166.184 213.542 171.6 Q213.542 177.179 210.07 180.281 Q206.598 183.36 200.278 183.36 Q198.102 183.36 195.834 182.989 Q193.588 182.619 191.181 181.878 L191.181 177.179 Q193.264 178.313 195.487 178.869 Q197.709 179.424 200.186 179.424 Q204.19 179.424 206.528 177.318 Q208.866 175.211 208.866 171.6 Q208.866 167.989 206.528 165.883 Q204.19 163.776 200.186 163.776 Q198.311 163.776 196.436 164.193 Q194.584 164.61 192.639 165.489 L192.639 148.128 Z\" fill=\"#000000\" fill-rule=\"evenodd\" fill-opacity=\"1\" /><path clip-path=\"url(#clip980)\" d=\"M117.015 117.969 L124.654 117.969 L124.654 91.6034 L116.343 93.2701 L116.343 89.0109 L124.607 87.3442 L129.283 87.3442 L129.283 117.969 L136.922 117.969 L136.922 121.904 L117.015 121.904 L117.015 117.969 Z\" fill=\"#000000\" fill-rule=\"evenodd\" fill-opacity=\"1\" /><path clip-path=\"url(#clip980)\" d=\"M146.366 116.025 L151.251 116.025 L151.251 121.904 L146.366 121.904 L146.366 116.025 Z\" fill=\"#000000\" fill-rule=\"evenodd\" fill-opacity=\"1\" /><path clip-path=\"url(#clip980)\" d=\"M171.436 90.4229 Q167.825 90.4229 165.996 93.9877 Q164.19 97.5293 164.19 104.659 Q164.19 111.765 165.996 115.33 Q167.825 118.872 171.436 118.872 Q175.07 118.872 176.876 115.33 Q178.704 111.765 178.704 104.659 Q178.704 97.5293 176.876 93.9877 Q175.07 90.4229 171.436 90.4229 M171.436 86.7192 Q177.246 86.7192 180.301 91.3257 Q183.38 95.909 183.38 104.659 Q183.38 113.386 180.301 117.992 Q177.246 122.575 171.436 122.575 Q165.626 122.575 162.547 117.992 Q159.491 113.386 159.491 104.659 Q159.491 95.909 162.547 91.3257 Q165.626 86.7192 171.436 86.7192 Z\" fill=\"#000000\" fill-rule=\"evenodd\" fill-opacity=\"1\" /><path clip-path=\"url(#clip980)\" d=\"M201.598 90.4229 Q197.987 90.4229 196.158 93.9877 Q194.352 97.5293 194.352 104.659 Q194.352 111.765 196.158 115.33 Q197.987 118.872 201.598 118.872 Q205.232 118.872 207.037 115.33 Q208.866 111.765 208.866 104.659 Q208.866 97.5293 207.037 93.9877 Q205.232 90.4229 201.598 90.4229 M201.598 86.7192 Q207.408 86.7192 210.463 91.3257 Q213.542 95.909 213.542 104.659 Q213.542 113.386 210.463 117.992 Q207.408 122.575 201.598 122.575 Q195.787 122.575 192.709 117.992 Q189.653 113.386 189.653 104.659 Q189.653 95.909 192.709 91.3257 Q195.787 86.7192 201.598 86.7192 Z\" fill=\"#000000\" fill-rule=\"evenodd\" fill-opacity=\"1\" /><path clip-path=\"url(#clip980)\" d=\"M67.3143 256.56 Q73.68 259.043 75.6216 261.398 Q77.5631 263.753 77.5631 267.7 L77.5631 272.379 L72.6615 272.379 L72.6615 268.941 Q72.6615 266.522 71.5157 265.186 Q70.3699 263.849 66.1048 262.226 L63.4312 261.175 L28.3562 275.594 L28.3562 269.387 L56.238 258.247 L28.3562 247.107 L28.3562 240.9 L67.3143 256.56 Z\" fill=\"#000000\" fill-rule=\"evenodd\" fill-opacity=\"1\" /><path clip-path=\"url(#clip980)\" d=\"M29.4065 210.09 L34.9447 210.09 Q33.6716 212.573 33.035 215.247 Q32.3984 217.92 32.3984 220.785 Q32.3984 225.145 33.7352 227.341 Q35.072 229.506 37.7456 229.506 Q39.7826 229.506 40.9603 227.946 Q42.1061 226.387 43.1565 221.676 L43.6021 219.671 Q44.9389 213.432 47.3897 210.822 Q49.8086 208.181 54.1691 208.181 Q59.1344 208.181 62.0308 212.127 Q64.9272 216.042 64.9272 222.917 Q64.9272 225.782 64.3543 228.901 Q63.8132 231.988 62.6992 235.426 L56.6518 235.426 Q58.3387 232.179 59.198 229.028 Q60.0256 225.877 60.0256 222.79 Q60.0256 218.652 58.6251 216.424 Q57.1929 214.196 54.6147 214.196 Q52.2276 214.196 50.9545 215.82 Q49.6813 217.411 48.5037 222.854 L48.0262 224.891 Q46.8804 230.333 44.5251 232.752 Q42.138 235.171 38.0002 235.171 Q32.9713 235.171 30.2341 231.606 Q27.4968 228.042 27.4968 221.485 Q27.4968 218.239 27.9743 215.374 Q28.4517 212.509 29.4065 210.09 Z\" fill=\"#000000\" fill-rule=\"evenodd\" fill-opacity=\"1\" /><path clip-path=\"url(#clip980)\" d=\"M58.657 193.189 L77.5631 193.189 L77.5631 199.078 L28.3562 199.078 L28.3562 193.189 L33.7671 193.189 Q30.5842 191.343 29.0564 188.542 Q27.4968 185.71 27.4968 181.795 Q27.4968 175.302 32.6531 171.26 Q37.8093 167.186 46.212 167.186 Q54.6147 167.186 59.771 171.26 Q64.9272 175.302 64.9272 181.795 Q64.9272 185.71 63.3994 188.542 Q61.8398 191.343 58.657 193.189 M46.212 173.265 Q39.7508 173.265 36.0905 175.938 Q32.3984 178.58 32.3984 183.227 Q32.3984 187.874 36.0905 190.548 Q39.7508 193.189 46.212 193.189 Q52.6732 193.189 56.3653 190.548 Q60.0256 187.874 60.0256 183.227 Q60.0256 178.58 56.3653 175.938 Q52.6732 173.265 46.212 173.265 Z\" fill=\"#000000\" fill-rule=\"evenodd\" fill-opacity=\"1\" /><path clip-path=\"url(#clip980)\" d=\"M58.5933 155.536 L58.5933 145.033 L22.3406 145.033 L24.6323 156.459 L18.7758 156.459 L16.4842 145.097 L16.4842 138.667 L58.5933 138.667 L58.5933 128.164 L64.0042 128.164 L64.0042 155.536 L58.5933 155.536 Z\" fill=\"#000000\" fill-rule=\"evenodd\" fill-opacity=\"1\" /><polyline clip-path=\"url(#clip982)\" style=\"stroke:#000000; stroke-linecap:round; stroke-linejoin:round; stroke-width:4; stroke-opacity:1; fill:none\" stroke-dasharray=\"2, 4\" points=\"309.067,55.997 385.381,55.997 461.695,55.997 538.009,55.997 614.323,55.997 690.637,55.997 766.951,55.997 843.265,55.997 919.579,55.997 995.893,55.997 1072.21,55.997 1148.52,55.997 1224.83,55.997 1301.15,55.997 1377.46,55.997 1453.78,55.997 1530.09,55.997 1606.4,55.997 1682.72,55.997 1759.03,55.997 1835.35,55.997 1911.66,55.997 1987.97,55.997 2064.29,55.997 2140.6,55.997 2216.92,55.997 2293.23,55.997 \"/>\n",
       "<line clip-path=\"url(#clip982)\" x1=\"309.067\" y1=\"55.997\" x2=\"309.067\" y2=\"39.997\" style=\"stroke:#009af9; stroke-width:3.2; stroke-opacity:1\"/>\n",
       "<line clip-path=\"url(#clip982)\" x1=\"309.067\" y1=\"55.997\" x2=\"293.067\" y2=\"55.997\" style=\"stroke:#009af9; stroke-width:3.2; stroke-opacity:1\"/>\n",
       "<line clip-path=\"url(#clip982)\" x1=\"309.067\" y1=\"55.997\" x2=\"309.067\" y2=\"71.997\" style=\"stroke:#009af9; stroke-width:3.2; stroke-opacity:1\"/>\n",
       "<line clip-path=\"url(#clip982)\" x1=\"309.067\" y1=\"55.997\" x2=\"325.067\" y2=\"55.997\" style=\"stroke:#009af9; stroke-width:3.2; stroke-opacity:1\"/>\n",
       "<line clip-path=\"url(#clip982)\" x1=\"385.381\" y1=\"55.997\" x2=\"385.381\" y2=\"39.997\" style=\"stroke:#009af9; stroke-width:3.2; stroke-opacity:1\"/>\n",
       "<line clip-path=\"url(#clip982)\" x1=\"385.381\" y1=\"55.997\" x2=\"369.381\" y2=\"55.997\" style=\"stroke:#009af9; stroke-width:3.2; stroke-opacity:1\"/>\n",
       "<line clip-path=\"url(#clip982)\" x1=\"385.381\" y1=\"55.997\" x2=\"385.381\" y2=\"71.997\" style=\"stroke:#009af9; stroke-width:3.2; stroke-opacity:1\"/>\n",
       "<line clip-path=\"url(#clip982)\" x1=\"385.381\" y1=\"55.997\" x2=\"401.381\" y2=\"55.997\" style=\"stroke:#009af9; stroke-width:3.2; stroke-opacity:1\"/>\n",
       "<line clip-path=\"url(#clip982)\" x1=\"461.695\" y1=\"55.997\" x2=\"461.695\" y2=\"39.997\" style=\"stroke:#009af9; stroke-width:3.2; stroke-opacity:1\"/>\n",
       "<line clip-path=\"url(#clip982)\" x1=\"461.695\" y1=\"55.997\" x2=\"445.695\" y2=\"55.997\" style=\"stroke:#009af9; stroke-width:3.2; stroke-opacity:1\"/>\n",
       "<line clip-path=\"url(#clip982)\" x1=\"461.695\" y1=\"55.997\" x2=\"461.695\" y2=\"71.997\" style=\"stroke:#009af9; stroke-width:3.2; stroke-opacity:1\"/>\n",
       "<line clip-path=\"url(#clip982)\" x1=\"461.695\" y1=\"55.997\" x2=\"477.695\" y2=\"55.997\" style=\"stroke:#009af9; stroke-width:3.2; stroke-opacity:1\"/>\n",
       "<line clip-path=\"url(#clip982)\" x1=\"538.009\" y1=\"55.997\" x2=\"538.009\" y2=\"39.997\" style=\"stroke:#009af9; stroke-width:3.2; stroke-opacity:1\"/>\n",
       "<line clip-path=\"url(#clip982)\" x1=\"538.009\" y1=\"55.997\" x2=\"522.009\" y2=\"55.997\" style=\"stroke:#009af9; stroke-width:3.2; stroke-opacity:1\"/>\n",
       "<line clip-path=\"url(#clip982)\" x1=\"538.009\" y1=\"55.997\" x2=\"538.009\" y2=\"71.997\" style=\"stroke:#009af9; stroke-width:3.2; stroke-opacity:1\"/>\n",
       "<line clip-path=\"url(#clip982)\" x1=\"538.009\" y1=\"55.997\" x2=\"554.009\" y2=\"55.997\" style=\"stroke:#009af9; stroke-width:3.2; stroke-opacity:1\"/>\n",
       "<line clip-path=\"url(#clip982)\" x1=\"614.323\" y1=\"55.997\" x2=\"614.323\" y2=\"39.997\" style=\"stroke:#009af9; stroke-width:3.2; stroke-opacity:1\"/>\n",
       "<line clip-path=\"url(#clip982)\" x1=\"614.323\" y1=\"55.997\" x2=\"598.323\" y2=\"55.997\" style=\"stroke:#009af9; stroke-width:3.2; stroke-opacity:1\"/>\n",
       "<line clip-path=\"url(#clip982)\" x1=\"614.323\" y1=\"55.997\" x2=\"614.323\" y2=\"71.997\" style=\"stroke:#009af9; stroke-width:3.2; stroke-opacity:1\"/>\n",
       "<line clip-path=\"url(#clip982)\" x1=\"614.323\" y1=\"55.997\" x2=\"630.323\" y2=\"55.997\" style=\"stroke:#009af9; stroke-width:3.2; stroke-opacity:1\"/>\n",
       "<line clip-path=\"url(#clip982)\" x1=\"690.637\" y1=\"55.997\" x2=\"690.637\" y2=\"39.997\" style=\"stroke:#009af9; stroke-width:3.2; stroke-opacity:1\"/>\n",
       "<line clip-path=\"url(#clip982)\" x1=\"690.637\" y1=\"55.997\" x2=\"674.637\" y2=\"55.997\" style=\"stroke:#009af9; stroke-width:3.2; stroke-opacity:1\"/>\n",
       "<line clip-path=\"url(#clip982)\" x1=\"690.637\" y1=\"55.997\" x2=\"690.637\" y2=\"71.997\" style=\"stroke:#009af9; stroke-width:3.2; stroke-opacity:1\"/>\n",
       "<line clip-path=\"url(#clip982)\" x1=\"690.637\" y1=\"55.997\" x2=\"706.637\" y2=\"55.997\" style=\"stroke:#009af9; stroke-width:3.2; stroke-opacity:1\"/>\n",
       "<line clip-path=\"url(#clip982)\" x1=\"766.951\" y1=\"55.997\" x2=\"766.951\" y2=\"39.997\" style=\"stroke:#009af9; stroke-width:3.2; stroke-opacity:1\"/>\n",
       "<line clip-path=\"url(#clip982)\" x1=\"766.951\" y1=\"55.997\" x2=\"750.951\" y2=\"55.997\" style=\"stroke:#009af9; stroke-width:3.2; stroke-opacity:1\"/>\n",
       "<line clip-path=\"url(#clip982)\" x1=\"766.951\" y1=\"55.997\" x2=\"766.951\" y2=\"71.997\" style=\"stroke:#009af9; stroke-width:3.2; stroke-opacity:1\"/>\n",
       "<line clip-path=\"url(#clip982)\" x1=\"766.951\" y1=\"55.997\" x2=\"782.951\" y2=\"55.997\" style=\"stroke:#009af9; stroke-width:3.2; stroke-opacity:1\"/>\n",
       "<line clip-path=\"url(#clip982)\" x1=\"843.265\" y1=\"122.359\" x2=\"843.265\" y2=\"106.359\" style=\"stroke:#009af9; stroke-width:3.2; stroke-opacity:1\"/>\n",
       "<line clip-path=\"url(#clip982)\" x1=\"843.265\" y1=\"122.359\" x2=\"827.265\" y2=\"122.359\" style=\"stroke:#009af9; stroke-width:3.2; stroke-opacity:1\"/>\n",
       "<line clip-path=\"url(#clip982)\" x1=\"843.265\" y1=\"122.359\" x2=\"843.265\" y2=\"138.359\" style=\"stroke:#009af9; stroke-width:3.2; stroke-opacity:1\"/>\n",
       "<line clip-path=\"url(#clip982)\" x1=\"843.265\" y1=\"122.359\" x2=\"859.265\" y2=\"122.359\" style=\"stroke:#009af9; stroke-width:3.2; stroke-opacity:1\"/>\n",
       "<line clip-path=\"url(#clip982)\" x1=\"919.579\" y1=\"125.987\" x2=\"919.579\" y2=\"109.987\" style=\"stroke:#009af9; stroke-width:3.2; stroke-opacity:1\"/>\n",
       "<line clip-path=\"url(#clip982)\" x1=\"919.579\" y1=\"125.987\" x2=\"903.579\" y2=\"125.987\" style=\"stroke:#009af9; stroke-width:3.2; stroke-opacity:1\"/>\n",
       "<line clip-path=\"url(#clip982)\" x1=\"919.579\" y1=\"125.987\" x2=\"919.579\" y2=\"141.987\" style=\"stroke:#009af9; stroke-width:3.2; stroke-opacity:1\"/>\n",
       "<line clip-path=\"url(#clip982)\" x1=\"919.579\" y1=\"125.987\" x2=\"935.579\" y2=\"125.987\" style=\"stroke:#009af9; stroke-width:3.2; stroke-opacity:1\"/>\n",
       "<line clip-path=\"url(#clip982)\" x1=\"995.893\" y1=\"267.143\" x2=\"995.893\" y2=\"251.143\" style=\"stroke:#009af9; stroke-width:3.2; stroke-opacity:1\"/>\n",
       "<line clip-path=\"url(#clip982)\" x1=\"995.893\" y1=\"267.143\" x2=\"979.893\" y2=\"267.143\" style=\"stroke:#009af9; stroke-width:3.2; stroke-opacity:1\"/>\n",
       "<line clip-path=\"url(#clip982)\" x1=\"995.893\" y1=\"267.143\" x2=\"995.893\" y2=\"283.143\" style=\"stroke:#009af9; stroke-width:3.2; stroke-opacity:1\"/>\n",
       "<line clip-path=\"url(#clip982)\" x1=\"995.893\" y1=\"267.143\" x2=\"1011.89\" y2=\"267.143\" style=\"stroke:#009af9; stroke-width:3.2; stroke-opacity:1\"/>\n",
       "<line clip-path=\"url(#clip982)\" x1=\"1072.21\" y1=\"55.997\" x2=\"1072.21\" y2=\"39.997\" style=\"stroke:#009af9; stroke-width:3.2; stroke-opacity:1\"/>\n",
       "<line clip-path=\"url(#clip982)\" x1=\"1072.21\" y1=\"55.997\" x2=\"1056.21\" y2=\"55.997\" style=\"stroke:#009af9; stroke-width:3.2; stroke-opacity:1\"/>\n",
       "<line clip-path=\"url(#clip982)\" x1=\"1072.21\" y1=\"55.997\" x2=\"1072.21\" y2=\"71.997\" style=\"stroke:#009af9; stroke-width:3.2; stroke-opacity:1\"/>\n",
       "<line clip-path=\"url(#clip982)\" x1=\"1072.21\" y1=\"55.997\" x2=\"1088.21\" y2=\"55.997\" style=\"stroke:#009af9; stroke-width:3.2; stroke-opacity:1\"/>\n",
       "<line clip-path=\"url(#clip982)\" x1=\"1148.52\" y1=\"55.997\" x2=\"1148.52\" y2=\"39.997\" style=\"stroke:#009af9; stroke-width:3.2; stroke-opacity:1\"/>\n",
       "<line clip-path=\"url(#clip982)\" x1=\"1148.52\" y1=\"55.997\" x2=\"1132.52\" y2=\"55.997\" style=\"stroke:#009af9; stroke-width:3.2; stroke-opacity:1\"/>\n",
       "<line clip-path=\"url(#clip982)\" x1=\"1148.52\" y1=\"55.997\" x2=\"1148.52\" y2=\"71.997\" style=\"stroke:#009af9; stroke-width:3.2; stroke-opacity:1\"/>\n",
       "<line clip-path=\"url(#clip982)\" x1=\"1148.52\" y1=\"55.997\" x2=\"1164.52\" y2=\"55.997\" style=\"stroke:#009af9; stroke-width:3.2; stroke-opacity:1\"/>\n",
       "<line clip-path=\"url(#clip982)\" x1=\"1224.83\" y1=\"81.5621\" x2=\"1224.83\" y2=\"65.5621\" style=\"stroke:#009af9; stroke-width:3.2; stroke-opacity:1\"/>\n",
       "<line clip-path=\"url(#clip982)\" x1=\"1224.83\" y1=\"81.5621\" x2=\"1208.83\" y2=\"81.5621\" style=\"stroke:#009af9; stroke-width:3.2; stroke-opacity:1\"/>\n",
       "<line clip-path=\"url(#clip982)\" x1=\"1224.83\" y1=\"81.5621\" x2=\"1224.83\" y2=\"97.5621\" style=\"stroke:#009af9; stroke-width:3.2; stroke-opacity:1\"/>\n",
       "<line clip-path=\"url(#clip982)\" x1=\"1224.83\" y1=\"81.5621\" x2=\"1240.83\" y2=\"81.5621\" style=\"stroke:#009af9; stroke-width:3.2; stroke-opacity:1\"/>\n",
       "<line clip-path=\"url(#clip982)\" x1=\"1301.15\" y1=\"120.186\" x2=\"1301.15\" y2=\"104.186\" style=\"stroke:#009af9; stroke-width:3.2; stroke-opacity:1\"/>\n",
       "<line clip-path=\"url(#clip982)\" x1=\"1301.15\" y1=\"120.186\" x2=\"1285.15\" y2=\"120.186\" style=\"stroke:#009af9; stroke-width:3.2; stroke-opacity:1\"/>\n",
       "<line clip-path=\"url(#clip982)\" x1=\"1301.15\" y1=\"120.186\" x2=\"1301.15\" y2=\"136.186\" style=\"stroke:#009af9; stroke-width:3.2; stroke-opacity:1\"/>\n",
       "<line clip-path=\"url(#clip982)\" x1=\"1301.15\" y1=\"120.186\" x2=\"1317.15\" y2=\"120.186\" style=\"stroke:#009af9; stroke-width:3.2; stroke-opacity:1\"/>\n",
       "<line clip-path=\"url(#clip982)\" x1=\"1377.46\" y1=\"55.997\" x2=\"1377.46\" y2=\"39.997\" style=\"stroke:#009af9; stroke-width:3.2; stroke-opacity:1\"/>\n",
       "<line clip-path=\"url(#clip982)\" x1=\"1377.46\" y1=\"55.997\" x2=\"1361.46\" y2=\"55.997\" style=\"stroke:#009af9; stroke-width:3.2; stroke-opacity:1\"/>\n",
       "<line clip-path=\"url(#clip982)\" x1=\"1377.46\" y1=\"55.997\" x2=\"1377.46\" y2=\"71.997\" style=\"stroke:#009af9; stroke-width:3.2; stroke-opacity:1\"/>\n",
       "<line clip-path=\"url(#clip982)\" x1=\"1377.46\" y1=\"55.997\" x2=\"1393.46\" y2=\"55.997\" style=\"stroke:#009af9; stroke-width:3.2; stroke-opacity:1\"/>\n",
       "<line clip-path=\"url(#clip982)\" x1=\"1453.78\" y1=\"55.997\" x2=\"1453.78\" y2=\"39.997\" style=\"stroke:#009af9; stroke-width:3.2; stroke-opacity:1\"/>\n",
       "<line clip-path=\"url(#clip982)\" x1=\"1453.78\" y1=\"55.997\" x2=\"1437.78\" y2=\"55.997\" style=\"stroke:#009af9; stroke-width:3.2; stroke-opacity:1\"/>\n",
       "<line clip-path=\"url(#clip982)\" x1=\"1453.78\" y1=\"55.997\" x2=\"1453.78\" y2=\"71.997\" style=\"stroke:#009af9; stroke-width:3.2; stroke-opacity:1\"/>\n",
       "<line clip-path=\"url(#clip982)\" x1=\"1453.78\" y1=\"55.997\" x2=\"1469.78\" y2=\"55.997\" style=\"stroke:#009af9; stroke-width:3.2; stroke-opacity:1\"/>\n",
       "<line clip-path=\"url(#clip982)\" x1=\"1530.09\" y1=\"167.496\" x2=\"1530.09\" y2=\"151.496\" style=\"stroke:#009af9; stroke-width:3.2; stroke-opacity:1\"/>\n",
       "<line clip-path=\"url(#clip982)\" x1=\"1530.09\" y1=\"167.496\" x2=\"1514.09\" y2=\"167.496\" style=\"stroke:#009af9; stroke-width:3.2; stroke-opacity:1\"/>\n",
       "<line clip-path=\"url(#clip982)\" x1=\"1530.09\" y1=\"167.496\" x2=\"1530.09\" y2=\"183.496\" style=\"stroke:#009af9; stroke-width:3.2; stroke-opacity:1\"/>\n",
       "<line clip-path=\"url(#clip982)\" x1=\"1530.09\" y1=\"167.496\" x2=\"1546.09\" y2=\"167.496\" style=\"stroke:#009af9; stroke-width:3.2; stroke-opacity:1\"/>\n",
       "<line clip-path=\"url(#clip982)\" x1=\"1606.4\" y1=\"262.76\" x2=\"1606.4\" y2=\"246.76\" style=\"stroke:#009af9; stroke-width:3.2; stroke-opacity:1\"/>\n",
       "<line clip-path=\"url(#clip982)\" x1=\"1606.4\" y1=\"262.76\" x2=\"1590.4\" y2=\"262.76\" style=\"stroke:#009af9; stroke-width:3.2; stroke-opacity:1\"/>\n",
       "<line clip-path=\"url(#clip982)\" x1=\"1606.4\" y1=\"262.76\" x2=\"1606.4\" y2=\"278.76\" style=\"stroke:#009af9; stroke-width:3.2; stroke-opacity:1\"/>\n",
       "<line clip-path=\"url(#clip982)\" x1=\"1606.4\" y1=\"262.76\" x2=\"1622.4\" y2=\"262.76\" style=\"stroke:#009af9; stroke-width:3.2; stroke-opacity:1\"/>\n",
       "<line clip-path=\"url(#clip982)\" x1=\"1682.72\" y1=\"55.997\" x2=\"1682.72\" y2=\"39.997\" style=\"stroke:#009af9; stroke-width:3.2; stroke-opacity:1\"/>\n",
       "<line clip-path=\"url(#clip982)\" x1=\"1682.72\" y1=\"55.997\" x2=\"1666.72\" y2=\"55.997\" style=\"stroke:#009af9; stroke-width:3.2; stroke-opacity:1\"/>\n",
       "<line clip-path=\"url(#clip982)\" x1=\"1682.72\" y1=\"55.997\" x2=\"1682.72\" y2=\"71.997\" style=\"stroke:#009af9; stroke-width:3.2; stroke-opacity:1\"/>\n",
       "<line clip-path=\"url(#clip982)\" x1=\"1682.72\" y1=\"55.997\" x2=\"1698.72\" y2=\"55.997\" style=\"stroke:#009af9; stroke-width:3.2; stroke-opacity:1\"/>\n",
       "<line clip-path=\"url(#clip982)\" x1=\"1759.03\" y1=\"55.997\" x2=\"1759.03\" y2=\"39.997\" style=\"stroke:#009af9; stroke-width:3.2; stroke-opacity:1\"/>\n",
       "<line clip-path=\"url(#clip982)\" x1=\"1759.03\" y1=\"55.997\" x2=\"1743.03\" y2=\"55.997\" style=\"stroke:#009af9; stroke-width:3.2; stroke-opacity:1\"/>\n",
       "<line clip-path=\"url(#clip982)\" x1=\"1759.03\" y1=\"55.997\" x2=\"1759.03\" y2=\"71.997\" style=\"stroke:#009af9; stroke-width:3.2; stroke-opacity:1\"/>\n",
       "<line clip-path=\"url(#clip982)\" x1=\"1759.03\" y1=\"55.997\" x2=\"1775.03\" y2=\"55.997\" style=\"stroke:#009af9; stroke-width:3.2; stroke-opacity:1\"/>\n",
       "<line clip-path=\"url(#clip982)\" x1=\"1835.35\" y1=\"55.997\" x2=\"1835.35\" y2=\"39.997\" style=\"stroke:#009af9; stroke-width:3.2; stroke-opacity:1\"/>\n",
       "<line clip-path=\"url(#clip982)\" x1=\"1835.35\" y1=\"55.997\" x2=\"1819.35\" y2=\"55.997\" style=\"stroke:#009af9; stroke-width:3.2; stroke-opacity:1\"/>\n",
       "<line clip-path=\"url(#clip982)\" x1=\"1835.35\" y1=\"55.997\" x2=\"1835.35\" y2=\"71.997\" style=\"stroke:#009af9; stroke-width:3.2; stroke-opacity:1\"/>\n",
       "<line clip-path=\"url(#clip982)\" x1=\"1835.35\" y1=\"55.997\" x2=\"1851.35\" y2=\"55.997\" style=\"stroke:#009af9; stroke-width:3.2; stroke-opacity:1\"/>\n",
       "<line clip-path=\"url(#clip982)\" x1=\"1911.66\" y1=\"55.997\" x2=\"1911.66\" y2=\"39.997\" style=\"stroke:#009af9; stroke-width:3.2; stroke-opacity:1\"/>\n",
       "<line clip-path=\"url(#clip982)\" x1=\"1911.66\" y1=\"55.997\" x2=\"1895.66\" y2=\"55.997\" style=\"stroke:#009af9; stroke-width:3.2; stroke-opacity:1\"/>\n",
       "<line clip-path=\"url(#clip982)\" x1=\"1911.66\" y1=\"55.997\" x2=\"1911.66\" y2=\"71.997\" style=\"stroke:#009af9; stroke-width:3.2; stroke-opacity:1\"/>\n",
       "<line clip-path=\"url(#clip982)\" x1=\"1911.66\" y1=\"55.997\" x2=\"1927.66\" y2=\"55.997\" style=\"stroke:#009af9; stroke-width:3.2; stroke-opacity:1\"/>\n",
       "<line clip-path=\"url(#clip982)\" x1=\"1987.97\" y1=\"55.997\" x2=\"1987.97\" y2=\"39.997\" style=\"stroke:#009af9; stroke-width:3.2; stroke-opacity:1\"/>\n",
       "<line clip-path=\"url(#clip982)\" x1=\"1987.97\" y1=\"55.997\" x2=\"1971.97\" y2=\"55.997\" style=\"stroke:#009af9; stroke-width:3.2; stroke-opacity:1\"/>\n",
       "<line clip-path=\"url(#clip982)\" x1=\"1987.97\" y1=\"55.997\" x2=\"1987.97\" y2=\"71.997\" style=\"stroke:#009af9; stroke-width:3.2; stroke-opacity:1\"/>\n",
       "<line clip-path=\"url(#clip982)\" x1=\"1987.97\" y1=\"55.997\" x2=\"2003.97\" y2=\"55.997\" style=\"stroke:#009af9; stroke-width:3.2; stroke-opacity:1\"/>\n",
       "<line clip-path=\"url(#clip982)\" x1=\"2064.29\" y1=\"55.997\" x2=\"2064.29\" y2=\"39.997\" style=\"stroke:#009af9; stroke-width:3.2; stroke-opacity:1\"/>\n",
       "<line clip-path=\"url(#clip982)\" x1=\"2064.29\" y1=\"55.997\" x2=\"2048.29\" y2=\"55.997\" style=\"stroke:#009af9; stroke-width:3.2; stroke-opacity:1\"/>\n",
       "<line clip-path=\"url(#clip982)\" x1=\"2064.29\" y1=\"55.997\" x2=\"2064.29\" y2=\"71.997\" style=\"stroke:#009af9; stroke-width:3.2; stroke-opacity:1\"/>\n",
       "<line clip-path=\"url(#clip982)\" x1=\"2064.29\" y1=\"55.997\" x2=\"2080.29\" y2=\"55.997\" style=\"stroke:#009af9; stroke-width:3.2; stroke-opacity:1\"/>\n",
       "<line clip-path=\"url(#clip982)\" x1=\"2140.6\" y1=\"347.76\" x2=\"2140.6\" y2=\"331.76\" style=\"stroke:#009af9; stroke-width:3.2; stroke-opacity:1\"/>\n",
       "<line clip-path=\"url(#clip982)\" x1=\"2140.6\" y1=\"347.76\" x2=\"2124.6\" y2=\"347.76\" style=\"stroke:#009af9; stroke-width:3.2; stroke-opacity:1\"/>\n",
       "<line clip-path=\"url(#clip982)\" x1=\"2140.6\" y1=\"347.76\" x2=\"2140.6\" y2=\"363.76\" style=\"stroke:#009af9; stroke-width:3.2; stroke-opacity:1\"/>\n",
       "<line clip-path=\"url(#clip982)\" x1=\"2140.6\" y1=\"347.76\" x2=\"2156.6\" y2=\"347.76\" style=\"stroke:#009af9; stroke-width:3.2; stroke-opacity:1\"/>\n",
       "<line clip-path=\"url(#clip982)\" x1=\"2216.92\" y1=\"288.164\" x2=\"2216.92\" y2=\"272.164\" style=\"stroke:#009af9; stroke-width:3.2; stroke-opacity:1\"/>\n",
       "<line clip-path=\"url(#clip982)\" x1=\"2216.92\" y1=\"288.164\" x2=\"2200.92\" y2=\"288.164\" style=\"stroke:#009af9; stroke-width:3.2; stroke-opacity:1\"/>\n",
       "<line clip-path=\"url(#clip982)\" x1=\"2216.92\" y1=\"288.164\" x2=\"2216.92\" y2=\"304.164\" style=\"stroke:#009af9; stroke-width:3.2; stroke-opacity:1\"/>\n",
       "<line clip-path=\"url(#clip982)\" x1=\"2216.92\" y1=\"288.164\" x2=\"2232.92\" y2=\"288.164\" style=\"stroke:#009af9; stroke-width:3.2; stroke-opacity:1\"/>\n",
       "<line clip-path=\"url(#clip982)\" x1=\"2293.23\" y1=\"55.997\" x2=\"2293.23\" y2=\"39.997\" style=\"stroke:#009af9; stroke-width:3.2; stroke-opacity:1\"/>\n",
       "<line clip-path=\"url(#clip982)\" x1=\"2293.23\" y1=\"55.997\" x2=\"2277.23\" y2=\"55.997\" style=\"stroke:#009af9; stroke-width:3.2; stroke-opacity:1\"/>\n",
       "<line clip-path=\"url(#clip982)\" x1=\"2293.23\" y1=\"55.997\" x2=\"2293.23\" y2=\"71.997\" style=\"stroke:#009af9; stroke-width:3.2; stroke-opacity:1\"/>\n",
       "<line clip-path=\"url(#clip982)\" x1=\"2293.23\" y1=\"55.997\" x2=\"2309.23\" y2=\"55.997\" style=\"stroke:#009af9; stroke-width:3.2; stroke-opacity:1\"/>\n",
       "<polyline clip-path=\"url(#clip982)\" style=\"stroke:#ff0000; stroke-linecap:round; stroke-linejoin:round; stroke-width:20; stroke-opacity:0.3; fill:none\" points=\"309.067,55.997 309.067,55.997 385.381,55.997 385.381,55.997 461.695,55.997 461.695,55.997 538.009,55.997 538.009,55.997 614.323,55.997 614.323,55.997 690.637,55.997 690.637,55.997 766.951,55.997 766.951,122.359 843.265,122.359 843.265,125.987 919.579,125.987 919.579,267.143 995.893,267.143 995.893,55.997 1072.21,55.997 1072.21,55.997 1148.52,55.997 1148.52,81.5621 1224.83,81.5621 1224.83,120.186 1301.15,120.186 1301.15,55.997 1377.46,55.997 1377.46,55.997 1453.78,55.997 1453.78,167.496 1530.09,167.496 1530.09,262.76 1606.4,262.76 1606.4,55.997 1682.72,55.997 1682.72,55.997 1759.03,55.997 1759.03,55.997 1835.35,55.997 1835.35,55.997 1911.66,55.997 1911.66,55.997 1987.97,55.997 1987.97,55.997 2064.29,55.997 2064.29,347.76 2140.6,347.76 2140.6,288.164 2216.92,288.164 2216.92,55.997 2293.23,55.997 \"/>\n",
       "<circle clip-path=\"url(#clip982)\" cx=\"309.067\" cy=\"55.997\" r=\"14.4\" fill=\"#e26f46\" fill-rule=\"evenodd\" fill-opacity=\"1\" stroke=\"#000000\" stroke-opacity=\"1\" stroke-width=\"3.2\"/>\n",
       "<circle clip-path=\"url(#clip982)\" cx=\"385.381\" cy=\"55.997\" r=\"14.4\" fill=\"#e26f46\" fill-rule=\"evenodd\" fill-opacity=\"1\" stroke=\"#000000\" stroke-opacity=\"1\" stroke-width=\"3.2\"/>\n",
       "<circle clip-path=\"url(#clip982)\" cx=\"461.695\" cy=\"55.997\" r=\"14.4\" fill=\"#e26f46\" fill-rule=\"evenodd\" fill-opacity=\"1\" stroke=\"#000000\" stroke-opacity=\"1\" stroke-width=\"3.2\"/>\n",
       "<circle clip-path=\"url(#clip982)\" cx=\"538.009\" cy=\"55.997\" r=\"14.4\" fill=\"#e26f46\" fill-rule=\"evenodd\" fill-opacity=\"1\" stroke=\"#000000\" stroke-opacity=\"1\" stroke-width=\"3.2\"/>\n",
       "<circle clip-path=\"url(#clip982)\" cx=\"614.323\" cy=\"55.997\" r=\"14.4\" fill=\"#e26f46\" fill-rule=\"evenodd\" fill-opacity=\"1\" stroke=\"#000000\" stroke-opacity=\"1\" stroke-width=\"3.2\"/>\n",
       "<circle clip-path=\"url(#clip982)\" cx=\"690.637\" cy=\"55.997\" r=\"14.4\" fill=\"#e26f46\" fill-rule=\"evenodd\" fill-opacity=\"1\" stroke=\"#000000\" stroke-opacity=\"1\" stroke-width=\"3.2\"/>\n",
       "<circle clip-path=\"url(#clip982)\" cx=\"766.951\" cy=\"55.997\" r=\"14.4\" fill=\"#e26f46\" fill-rule=\"evenodd\" fill-opacity=\"1\" stroke=\"#000000\" stroke-opacity=\"1\" stroke-width=\"3.2\"/>\n",
       "<circle clip-path=\"url(#clip982)\" cx=\"843.265\" cy=\"55.997\" r=\"14.4\" fill=\"#e26f46\" fill-rule=\"evenodd\" fill-opacity=\"1\" stroke=\"#000000\" stroke-opacity=\"1\" stroke-width=\"3.2\"/>\n",
       "<circle clip-path=\"url(#clip982)\" cx=\"919.579\" cy=\"206.343\" r=\"14.4\" fill=\"#e26f46\" fill-rule=\"evenodd\" fill-opacity=\"1\" stroke=\"#000000\" stroke-opacity=\"1\" stroke-width=\"3.2\"/>\n",
       "<circle clip-path=\"url(#clip982)\" cx=\"995.893\" cy=\"112.279\" r=\"14.4\" fill=\"#e26f46\" fill-rule=\"evenodd\" fill-opacity=\"1\" stroke=\"#000000\" stroke-opacity=\"1\" stroke-width=\"3.2\"/>\n",
       "<circle clip-path=\"url(#clip982)\" cx=\"1072.21\" cy=\"55.997\" r=\"14.4\" fill=\"#e26f46\" fill-rule=\"evenodd\" fill-opacity=\"1\" stroke=\"#000000\" stroke-opacity=\"1\" stroke-width=\"3.2\"/>\n",
       "<circle clip-path=\"url(#clip982)\" cx=\"1148.52\" cy=\"266.878\" r=\"14.4\" fill=\"#e26f46\" fill-rule=\"evenodd\" fill-opacity=\"1\" stroke=\"#000000\" stroke-opacity=\"1\" stroke-width=\"3.2\"/>\n",
       "<circle clip-path=\"url(#clip982)\" cx=\"1224.83\" cy=\"55.997\" r=\"14.4\" fill=\"#e26f46\" fill-rule=\"evenodd\" fill-opacity=\"1\" stroke=\"#000000\" stroke-opacity=\"1\" stroke-width=\"3.2\"/>\n",
       "<circle clip-path=\"url(#clip982)\" cx=\"1301.15\" cy=\"55.997\" r=\"14.4\" fill=\"#e26f46\" fill-rule=\"evenodd\" fill-opacity=\"1\" stroke=\"#000000\" stroke-opacity=\"1\" stroke-width=\"3.2\"/>\n",
       "<circle clip-path=\"url(#clip982)\" cx=\"1377.46\" cy=\"55.997\" r=\"14.4\" fill=\"#e26f46\" fill-rule=\"evenodd\" fill-opacity=\"1\" stroke=\"#000000\" stroke-opacity=\"1\" stroke-width=\"3.2\"/>\n",
       "<circle clip-path=\"url(#clip982)\" cx=\"1453.78\" cy=\"55.997\" r=\"14.4\" fill=\"#e26f46\" fill-rule=\"evenodd\" fill-opacity=\"1\" stroke=\"#000000\" stroke-opacity=\"1\" stroke-width=\"3.2\"/>\n",
       "<circle clip-path=\"url(#clip982)\" cx=\"1530.09\" cy=\"127.157\" r=\"14.4\" fill=\"#e26f46\" fill-rule=\"evenodd\" fill-opacity=\"1\" stroke=\"#000000\" stroke-opacity=\"1\" stroke-width=\"3.2\"/>\n",
       "<circle clip-path=\"url(#clip982)\" cx=\"1606.4\" cy=\"142.619\" r=\"14.4\" fill=\"#e26f46\" fill-rule=\"evenodd\" fill-opacity=\"1\" stroke=\"#000000\" stroke-opacity=\"1\" stroke-width=\"3.2\"/>\n",
       "<circle clip-path=\"url(#clip982)\" cx=\"1682.72\" cy=\"244.297\" r=\"14.4\" fill=\"#e26f46\" fill-rule=\"evenodd\" fill-opacity=\"1\" stroke=\"#000000\" stroke-opacity=\"1\" stroke-width=\"3.2\"/>\n",
       "<circle clip-path=\"url(#clip982)\" cx=\"1759.03\" cy=\"64.9867\" r=\"14.4\" fill=\"#e26f46\" fill-rule=\"evenodd\" fill-opacity=\"1\" stroke=\"#000000\" stroke-opacity=\"1\" stroke-width=\"3.2\"/>\n",
       "<circle clip-path=\"url(#clip982)\" cx=\"1835.35\" cy=\"55.997\" r=\"14.4\" fill=\"#e26f46\" fill-rule=\"evenodd\" fill-opacity=\"1\" stroke=\"#000000\" stroke-opacity=\"1\" stroke-width=\"3.2\"/>\n",
       "<circle clip-path=\"url(#clip982)\" cx=\"1911.66\" cy=\"55.997\" r=\"14.4\" fill=\"#e26f46\" fill-rule=\"evenodd\" fill-opacity=\"1\" stroke=\"#000000\" stroke-opacity=\"1\" stroke-width=\"3.2\"/>\n",
       "<circle clip-path=\"url(#clip982)\" cx=\"1987.97\" cy=\"55.997\" r=\"14.4\" fill=\"#e26f46\" fill-rule=\"evenodd\" fill-opacity=\"1\" stroke=\"#000000\" stroke-opacity=\"1\" stroke-width=\"3.2\"/>\n",
       "<circle clip-path=\"url(#clip982)\" cx=\"2064.29\" cy=\"55.997\" r=\"14.4\" fill=\"#e26f46\" fill-rule=\"evenodd\" fill-opacity=\"1\" stroke=\"#000000\" stroke-opacity=\"1\" stroke-width=\"3.2\"/>\n",
       "<circle clip-path=\"url(#clip982)\" cx=\"2140.6\" cy=\"55.997\" r=\"14.4\" fill=\"#e26f46\" fill-rule=\"evenodd\" fill-opacity=\"1\" stroke=\"#000000\" stroke-opacity=\"1\" stroke-width=\"3.2\"/>\n",
       "<circle clip-path=\"url(#clip982)\" cx=\"2216.92\" cy=\"347.76\" r=\"14.4\" fill=\"#e26f46\" fill-rule=\"evenodd\" fill-opacity=\"1\" stroke=\"#000000\" stroke-opacity=\"1\" stroke-width=\"3.2\"/>\n",
       "<circle clip-path=\"url(#clip982)\" cx=\"2293.23\" cy=\"347.76\" r=\"14.4\" fill=\"#e26f46\" fill-rule=\"evenodd\" fill-opacity=\"1\" stroke=\"#000000\" stroke-opacity=\"1\" stroke-width=\"3.2\"/>\n",
       "<polyline clip-path=\"url(#clip982)\" style=\"stroke:#80007f; stroke-linecap:round; stroke-linejoin:round; stroke-width:20; stroke-opacity:0.3; fill:none\" points=\"309.067,55.997 309.067,55.997 385.381,55.997 461.695,55.997 538.009,55.997 614.323,55.997 690.637,55.997 766.951,55.997 766.951,55.997 843.265,55.997 843.265,206.343 919.579,206.343 919.579,112.279 995.893,112.279 995.893,55.997 1072.21,55.997 1072.21,266.878 1148.52,266.878 1148.52,55.997 1224.83,55.997 1301.15,55.997 1377.46,55.997 1453.78,55.997 1453.78,127.157 1530.09,127.157 1530.09,142.619 1606.4,142.619 1606.4,244.297 1682.72,244.297 1682.72,64.9867 1759.03,64.9867 1759.03,55.997 1835.35,55.997 1911.66,55.997 1987.97,55.997 2064.29,55.997 2140.6,55.997 2140.6,347.76 2216.92,347.76 2293.23,347.76 \"/>\n",
       "<path clip-path=\"url(#clip982)\" d=\"M309.067 39.9971 L293.067 55.9971 L309.067 71.9971 L325.067 55.9971 L309.067 39.9971 Z\" fill=\"#3da44d\" fill-rule=\"evenodd\" fill-opacity=\"1\" stroke=\"#000000\" stroke-opacity=\"1\" stroke-width=\"3.2\"/>\n",
       "<path clip-path=\"url(#clip982)\" d=\"M385.381 39.997 L369.381 55.997 L385.381 71.997 L401.381 55.997 L385.381 39.997 Z\" fill=\"#3da44d\" fill-rule=\"evenodd\" fill-opacity=\"1\" stroke=\"#000000\" stroke-opacity=\"1\" stroke-width=\"3.2\"/>\n",
       "<path clip-path=\"url(#clip982)\" d=\"M461.695 39.9971 L445.695 55.9971 L461.695 71.9971 L477.695 55.9971 L461.695 39.9971 Z\" fill=\"#3da44d\" fill-rule=\"evenodd\" fill-opacity=\"1\" stroke=\"#000000\" stroke-opacity=\"1\" stroke-width=\"3.2\"/>\n",
       "<path clip-path=\"url(#clip982)\" d=\"M538.009 39.9971 L522.009 55.9971 L538.009 71.9971 L554.009 55.9971 L538.009 39.9971 Z\" fill=\"#3da44d\" fill-rule=\"evenodd\" fill-opacity=\"1\" stroke=\"#000000\" stroke-opacity=\"1\" stroke-width=\"3.2\"/>\n",
       "<path clip-path=\"url(#clip982)\" d=\"M614.323 39.9971 L598.323 55.9971 L614.323 71.9971 L630.323 55.9971 L614.323 39.9971 Z\" fill=\"#3da44d\" fill-rule=\"evenodd\" fill-opacity=\"1\" stroke=\"#000000\" stroke-opacity=\"1\" stroke-width=\"3.2\"/>\n",
       "<path clip-path=\"url(#clip982)\" d=\"M690.637 39.9972 L674.637 55.9972 L690.637 71.9972 L706.637 55.9972 L690.637 39.9972 Z\" fill=\"#3da44d\" fill-rule=\"evenodd\" fill-opacity=\"1\" stroke=\"#000000\" stroke-opacity=\"1\" stroke-width=\"3.2\"/>\n",
       "<path clip-path=\"url(#clip982)\" d=\"M766.951 39.9974 L750.951 55.9974 L766.951 71.9974 L782.951 55.9974 L766.951 39.9974 Z\" fill=\"#3da44d\" fill-rule=\"evenodd\" fill-opacity=\"1\" stroke=\"#000000\" stroke-opacity=\"1\" stroke-width=\"3.2\"/>\n",
       "<path clip-path=\"url(#clip982)\" d=\"M843.265 39.9977 L827.265 55.9977 L843.265 71.9977 L859.265 55.9977 L843.265 39.9977 Z\" fill=\"#3da44d\" fill-rule=\"evenodd\" fill-opacity=\"1\" stroke=\"#000000\" stroke-opacity=\"1\" stroke-width=\"3.2\"/>\n",
       "<path clip-path=\"url(#clip982)\" d=\"M919.579 190.338 L903.579 206.338 L919.579 222.338 L935.579 206.338 L919.579 190.338 Z\" fill=\"#3da44d\" fill-rule=\"evenodd\" fill-opacity=\"1\" stroke=\"#000000\" stroke-opacity=\"1\" stroke-width=\"3.2\"/>\n",
       "<path clip-path=\"url(#clip982)\" d=\"M995.893 131.831 L979.893 147.831 L995.893 163.831 L1011.89 147.831 L995.893 131.831 Z\" fill=\"#3da44d\" fill-rule=\"evenodd\" fill-opacity=\"1\" stroke=\"#000000\" stroke-opacity=\"1\" stroke-width=\"3.2\"/>\n",
       "<path clip-path=\"url(#clip982)\" d=\"M1072.21 40.0006 L1056.21 56.0006 L1072.21 72.0006 L1088.21 56.0006 L1072.21 40.0006 Z\" fill=\"#3da44d\" fill-rule=\"evenodd\" fill-opacity=\"1\" stroke=\"#000000\" stroke-opacity=\"1\" stroke-width=\"3.2\"/>\n",
       "<path clip-path=\"url(#clip982)\" d=\"M1148.52 208.576 L1132.52 224.576 L1148.52 240.576 L1164.52 224.576 L1148.52 208.576 Z\" fill=\"#3da44d\" fill-rule=\"evenodd\" fill-opacity=\"1\" stroke=\"#000000\" stroke-opacity=\"1\" stroke-width=\"3.2\"/>\n",
       "<path clip-path=\"url(#clip982)\" d=\"M1224.83 40.0181 L1208.83 56.0181 L1224.83 72.0181 L1240.83 56.0181 L1224.83 40.0181 Z\" fill=\"#3da44d\" fill-rule=\"evenodd\" fill-opacity=\"1\" stroke=\"#000000\" stroke-opacity=\"1\" stroke-width=\"3.2\"/>\n",
       "<path clip-path=\"url(#clip982)\" d=\"M1301.15 40.0126 L1285.15 56.0126 L1301.15 72.0126 L1317.15 56.0126 L1301.15 40.0126 Z\" fill=\"#3da44d\" fill-rule=\"evenodd\" fill-opacity=\"1\" stroke=\"#000000\" stroke-opacity=\"1\" stroke-width=\"3.2\"/>\n",
       "<path clip-path=\"url(#clip982)\" d=\"M1377.46 40.0352 L1361.46 56.0352 L1377.46 72.0352 L1393.46 56.0352 L1377.46 40.0352 Z\" fill=\"#3da44d\" fill-rule=\"evenodd\" fill-opacity=\"1\" stroke=\"#000000\" stroke-opacity=\"1\" stroke-width=\"3.2\"/>\n",
       "<path clip-path=\"url(#clip982)\" d=\"M1453.78 57.3991 L1437.78 73.3991 L1453.78 89.3991 L1469.78 73.3991 L1453.78 57.3991 Z\" fill=\"#3da44d\" fill-rule=\"evenodd\" fill-opacity=\"1\" stroke=\"#000000\" stroke-opacity=\"1\" stroke-width=\"3.2\"/>\n",
       "<path clip-path=\"url(#clip982)\" d=\"M1530.09 118.111 L1514.09 134.111 L1530.09 150.111 L1546.09 134.111 L1530.09 118.111 Z\" fill=\"#3da44d\" fill-rule=\"evenodd\" fill-opacity=\"1\" stroke=\"#000000\" stroke-opacity=\"1\" stroke-width=\"3.2\"/>\n",
       "<path clip-path=\"url(#clip982)\" d=\"M1606.4 132.184 L1590.4 148.184 L1606.4 164.184 L1622.4 148.184 L1606.4 132.184 Z\" fill=\"#3da44d\" fill-rule=\"evenodd\" fill-opacity=\"1\" stroke=\"#000000\" stroke-opacity=\"1\" stroke-width=\"3.2\"/>\n",
       "<path clip-path=\"url(#clip982)\" d=\"M1682.72 213.972 L1666.72 229.972 L1682.72 245.972 L1698.72 229.972 L1682.72 213.972 Z\" fill=\"#3da44d\" fill-rule=\"evenodd\" fill-opacity=\"1\" stroke=\"#000000\" stroke-opacity=\"1\" stroke-width=\"3.2\"/>\n",
       "<path clip-path=\"url(#clip982)\" d=\"M1759.03 40.0214 L1743.03 56.0214 L1759.03 72.0214 L1775.03 56.0214 L1759.03 40.0214 Z\" fill=\"#3da44d\" fill-rule=\"evenodd\" fill-opacity=\"1\" stroke=\"#000000\" stroke-opacity=\"1\" stroke-width=\"3.2\"/>\n",
       "<path clip-path=\"url(#clip982)\" d=\"M1835.35 40.0054 L1819.35 56.0054 L1835.35 72.0054 L1851.35 56.0054 L1835.35 40.0054 Z\" fill=\"#3da44d\" fill-rule=\"evenodd\" fill-opacity=\"1\" stroke=\"#000000\" stroke-opacity=\"1\" stroke-width=\"3.2\"/>\n",
       "<path clip-path=\"url(#clip982)\" d=\"M1911.66 40.003 L1895.66 56.003 L1911.66 72.003 L1927.66 56.003 L1911.66 40.003 Z\" fill=\"#3da44d\" fill-rule=\"evenodd\" fill-opacity=\"1\" stroke=\"#000000\" stroke-opacity=\"1\" stroke-width=\"3.2\"/>\n",
       "<path clip-path=\"url(#clip982)\" d=\"M1987.97 40.0041 L1971.97 56.0041 L1987.97 72.0041 L2003.97 56.0041 L1987.97 40.0041 Z\" fill=\"#3da44d\" fill-rule=\"evenodd\" fill-opacity=\"1\" stroke=\"#000000\" stroke-opacity=\"1\" stroke-width=\"3.2\"/>\n",
       "<path clip-path=\"url(#clip982)\" d=\"M2064.29 40.0123 L2048.29 56.0123 L2064.29 72.0123 L2080.29 56.0123 L2064.29 40.0123 Z\" fill=\"#3da44d\" fill-rule=\"evenodd\" fill-opacity=\"1\" stroke=\"#000000\" stroke-opacity=\"1\" stroke-width=\"3.2\"/>\n",
       "<path clip-path=\"url(#clip982)\" d=\"M2140.6 60.9067 L2124.6 76.9067 L2140.6 92.9067 L2156.6 76.9067 L2140.6 60.9067 Z\" fill=\"#3da44d\" fill-rule=\"evenodd\" fill-opacity=\"1\" stroke=\"#000000\" stroke-opacity=\"1\" stroke-width=\"3.2\"/>\n",
       "<path clip-path=\"url(#clip982)\" d=\"M2216.92 331.708 L2200.92 347.708 L2216.92 363.708 L2232.92 347.708 L2216.92 331.708 Z\" fill=\"#3da44d\" fill-rule=\"evenodd\" fill-opacity=\"1\" stroke=\"#000000\" stroke-opacity=\"1\" stroke-width=\"3.2\"/>\n",
       "<path clip-path=\"url(#clip982)\" d=\"M2293.23 331.626 L2277.23 347.626 L2293.23 363.626 L2309.23 347.626 L2293.23 331.626 Z\" fill=\"#3da44d\" fill-rule=\"evenodd\" fill-opacity=\"1\" stroke=\"#000000\" stroke-opacity=\"1\" stroke-width=\"3.2\"/>\n",
       "<polyline clip-path=\"url(#clip982)\" style=\"stroke:#0000ff; stroke-linecap:round; stroke-linejoin:round; stroke-width:20; stroke-opacity:0.3; fill:none\" points=\"309.067,55.9971 309.067,55.997 385.381,55.997 385.381,55.9971 461.695,55.9971 461.695,55.9971 538.009,55.9971 538.009,55.9971 614.323,55.9971 614.323,55.9972 690.637,55.9972 690.637,55.9974 766.951,55.9974 766.951,55.9977 843.265,55.9977 843.265,206.338 919.579,206.338 919.579,147.831 995.893,147.831 995.893,56.0006 1072.21,56.0006 1072.21,224.576 1148.52,224.576 1148.52,56.0181 1224.83,56.0181 1224.83,56.0126 1301.15,56.0126 1301.15,56.0352 1377.46,56.0352 1377.46,73.3991 1453.78,73.3991 1453.78,134.111 1530.09,134.111 1530.09,148.184 1606.4,148.184 1606.4,229.972 1682.72,229.972 1682.72,56.0214 1759.03,56.0214 1759.03,56.0054 1835.35,56.0054 1835.35,56.003 1911.66,56.003 1911.66,56.0041 1987.97,56.0041 1987.97,56.0123 2064.29,56.0123 2064.29,76.9067 2140.6,76.9067 2140.6,347.708 2216.92,347.708 2216.92,347.626 2293.23,347.626 \"/>\n",
       "<path clip-path=\"url(#clip980)\" d=\"M249.542 889.847 L2352.76 889.847 L2352.76 580.577 L249.542 580.577  Z\" fill=\"#ffffff\" fill-rule=\"evenodd\" fill-opacity=\"1\"/>\n",
       "<defs>\n",
       "  <clipPath id=\"clip983\">\n",
       "    <rect x=\"249\" y=\"580\" width=\"2104\" height=\"310\"/>\n",
       "  </clipPath>\n",
       "</defs>\n",
       "<polyline clip-path=\"url(#clip983)\" style=\"stroke:#000000; stroke-linecap:round; stroke-linejoin:round; stroke-width:8; stroke-opacity:0.1; fill:none\" points=\"614.323,889.847 614.323,580.577 \"/>\n",
       "<polyline clip-path=\"url(#clip983)\" style=\"stroke:#000000; stroke-linecap:round; stroke-linejoin:round; stroke-width:8; stroke-opacity:0.1; fill:none\" points=\"995.893,889.847 995.893,580.577 \"/>\n",
       "<polyline clip-path=\"url(#clip983)\" style=\"stroke:#000000; stroke-linecap:round; stroke-linejoin:round; stroke-width:8; stroke-opacity:0.1; fill:none\" points=\"1377.46,889.847 1377.46,580.577 \"/>\n",
       "<polyline clip-path=\"url(#clip983)\" style=\"stroke:#000000; stroke-linecap:round; stroke-linejoin:round; stroke-width:8; stroke-opacity:0.1; fill:none\" points=\"1759.03,889.847 1759.03,580.577 \"/>\n",
       "<polyline clip-path=\"url(#clip983)\" style=\"stroke:#000000; stroke-linecap:round; stroke-linejoin:round; stroke-width:8; stroke-opacity:0.1; fill:none\" points=\"2140.6,889.847 2140.6,580.577 \"/>\n",
       "<polyline clip-path=\"url(#clip980)\" style=\"stroke:#000000; stroke-linecap:round; stroke-linejoin:round; stroke-width:4; stroke-opacity:1; fill:none\" points=\"249.542,889.847 2352.76,889.847 \"/>\n",
       "<polyline clip-path=\"url(#clip980)\" style=\"stroke:#000000; stroke-linecap:round; stroke-linejoin:round; stroke-width:4; stroke-opacity:1; fill:none\" points=\"614.323,889.847 614.323,870.949 \"/>\n",
       "<polyline clip-path=\"url(#clip980)\" style=\"stroke:#000000; stroke-linecap:round; stroke-linejoin:round; stroke-width:4; stroke-opacity:1; fill:none\" points=\"995.893,889.847 995.893,870.949 \"/>\n",
       "<polyline clip-path=\"url(#clip980)\" style=\"stroke:#000000; stroke-linecap:round; stroke-linejoin:round; stroke-width:4; stroke-opacity:1; fill:none\" points=\"1377.46,889.847 1377.46,870.949 \"/>\n",
       "<polyline clip-path=\"url(#clip980)\" style=\"stroke:#000000; stroke-linecap:round; stroke-linejoin:round; stroke-width:4; stroke-opacity:1; fill:none\" points=\"1759.03,889.847 1759.03,870.949 \"/>\n",
       "<polyline clip-path=\"url(#clip980)\" style=\"stroke:#000000; stroke-linecap:round; stroke-linejoin:round; stroke-width:4; stroke-opacity:1; fill:none\" points=\"2140.6,889.847 2140.6,870.949 \"/>\n",
       "<path clip-path=\"url(#clip980)\" d=\"M604.601 917.687 L622.957 917.687 L622.957 921.622 L608.883 921.622 L608.883 930.094 Q609.902 929.747 610.92 929.585 Q611.939 929.399 612.957 929.399 Q618.744 929.399 622.124 932.571 Q625.503 935.742 625.503 941.159 Q625.503 946.737 622.031 949.839 Q618.559 952.918 612.24 952.918 Q610.064 952.918 607.795 952.547 Q605.55 952.177 603.142 951.436 L603.142 946.737 Q605.226 947.872 607.448 948.427 Q609.67 948.983 612.147 948.983 Q616.152 948.983 618.49 946.876 Q620.828 944.77 620.828 941.159 Q620.828 937.548 618.49 935.441 Q616.152 933.335 612.147 933.335 Q610.272 933.335 608.397 933.751 Q606.545 934.168 604.601 935.048 L604.601 917.687 Z\" fill=\"#000000\" fill-rule=\"evenodd\" fill-opacity=\"1\" /><path clip-path=\"url(#clip980)\" d=\"M970.581 948.311 L978.219 948.311 L978.219 921.946 L969.909 923.612 L969.909 919.353 L978.173 917.687 L982.849 917.687 L982.849 948.311 L990.488 948.311 L990.488 952.247 L970.581 952.247 L970.581 948.311 Z\" fill=\"#000000\" fill-rule=\"evenodd\" fill-opacity=\"1\" /><path clip-path=\"url(#clip980)\" d=\"M1009.93 920.765 Q1006.32 920.765 1004.49 924.33 Q1002.69 927.872 1002.69 935.001 Q1002.69 942.108 1004.49 945.672 Q1006.32 949.214 1009.93 949.214 Q1013.57 949.214 1015.37 945.672 Q1017.2 942.108 1017.2 935.001 Q1017.2 927.872 1015.37 924.33 Q1013.57 920.765 1009.93 920.765 M1009.93 917.062 Q1015.74 917.062 1018.8 921.668 Q1021.88 926.251 1021.88 935.001 Q1021.88 943.728 1018.8 948.334 Q1015.74 952.918 1009.93 952.918 Q1004.12 952.918 1001.04 948.334 Q997.988 943.728 997.988 935.001 Q997.988 926.251 1001.04 921.668 Q1004.12 917.062 1009.93 917.062 Z\" fill=\"#000000\" fill-rule=\"evenodd\" fill-opacity=\"1\" /><path clip-path=\"url(#clip980)\" d=\"M1352.65 948.311 L1360.29 948.311 L1360.29 921.946 L1351.98 923.612 L1351.98 919.353 L1360.24 917.687 L1364.92 917.687 L1364.92 948.311 L1372.56 948.311 L1372.56 952.247 L1352.65 952.247 L1352.65 948.311 Z\" fill=\"#000000\" fill-rule=\"evenodd\" fill-opacity=\"1\" /><path clip-path=\"url(#clip980)\" d=\"M1382.05 917.687 L1400.4 917.687 L1400.4 921.622 L1386.33 921.622 L1386.33 930.094 Q1387.35 929.747 1388.37 929.585 Q1389.38 929.399 1390.4 929.399 Q1396.19 929.399 1399.57 932.571 Q1402.95 935.742 1402.95 941.159 Q1402.95 946.737 1399.48 949.839 Q1396 952.918 1389.69 952.918 Q1387.51 952.918 1385.24 952.547 Q1383 952.177 1380.59 951.436 L1380.59 946.737 Q1382.67 947.872 1384.89 948.427 Q1387.12 948.983 1389.59 948.983 Q1393.6 948.983 1395.94 946.876 Q1398.27 944.77 1398.27 941.159 Q1398.27 937.548 1395.94 935.441 Q1393.6 933.335 1389.59 933.335 Q1387.72 933.335 1385.84 933.751 Q1383.99 934.168 1382.05 935.048 L1382.05 917.687 Z\" fill=\"#000000\" fill-rule=\"evenodd\" fill-opacity=\"1\" /><path clip-path=\"url(#clip980)\" d=\"M1737.81 948.311 L1754.13 948.311 L1754.13 952.247 L1732.18 952.247 L1732.18 948.311 Q1734.84 945.557 1739.43 940.927 Q1744.03 936.274 1745.21 934.932 Q1747.46 932.409 1748.34 930.673 Q1749.24 928.913 1749.24 927.223 Q1749.24 924.469 1747.3 922.733 Q1745.38 920.997 1742.27 920.997 Q1740.07 920.997 1737.62 921.761 Q1735.19 922.524 1732.41 924.075 L1732.41 919.353 Q1735.24 918.219 1737.69 917.64 Q1740.14 917.062 1742.18 917.062 Q1747.55 917.062 1750.75 919.747 Q1753.94 922.432 1753.94 926.923 Q1753.94 929.052 1753.13 930.973 Q1752.34 932.872 1750.24 935.464 Q1749.66 936.135 1746.56 939.353 Q1743.45 942.547 1737.81 948.311 Z\" fill=\"#000000\" fill-rule=\"evenodd\" fill-opacity=\"1\" /><path clip-path=\"url(#clip980)\" d=\"M1773.94 920.765 Q1770.33 920.765 1768.5 924.33 Q1766.69 927.872 1766.69 935.001 Q1766.69 942.108 1768.5 945.672 Q1770.33 949.214 1773.94 949.214 Q1777.57 949.214 1779.38 945.672 Q1781.21 942.108 1781.21 935.001 Q1781.21 927.872 1779.38 924.33 Q1777.57 920.765 1773.94 920.765 M1773.94 917.062 Q1779.75 917.062 1782.81 921.668 Q1785.88 926.251 1785.88 935.001 Q1785.88 943.728 1782.81 948.334 Q1779.75 952.918 1773.94 952.918 Q1768.13 952.918 1765.05 948.334 Q1762 943.728 1762 935.001 Q1762 926.251 1765.05 921.668 Q1768.13 917.062 1773.94 917.062 Z\" fill=\"#000000\" fill-rule=\"evenodd\" fill-opacity=\"1\" /><path clip-path=\"url(#clip980)\" d=\"M2119.87 948.311 L2136.19 948.311 L2136.19 952.247 L2114.25 952.247 L2114.25 948.311 Q2116.91 945.557 2121.49 940.927 Q2126.1 936.274 2127.28 934.932 Q2129.53 932.409 2130.41 930.673 Q2131.31 928.913 2131.31 927.223 Q2131.31 924.469 2129.36 922.733 Q2127.44 920.997 2124.34 920.997 Q2122.14 920.997 2119.69 921.761 Q2117.26 922.524 2114.48 924.075 L2114.48 919.353 Q2117.3 918.219 2119.76 917.64 Q2122.21 917.062 2124.25 917.062 Q2129.62 917.062 2132.81 919.747 Q2136.01 922.432 2136.01 926.923 Q2136.01 929.052 2135.2 930.973 Q2134.41 932.872 2132.3 935.464 Q2131.73 936.135 2128.62 939.353 Q2125.52 942.547 2119.87 948.311 Z\" fill=\"#000000\" fill-rule=\"evenodd\" fill-opacity=\"1\" /><path clip-path=\"url(#clip980)\" d=\"M2146.05 917.687 L2164.41 917.687 L2164.41 921.622 L2150.34 921.622 L2150.34 930.094 Q2151.36 929.747 2152.37 929.585 Q2153.39 929.399 2154.41 929.399 Q2160.2 929.399 2163.58 932.571 Q2166.96 935.742 2166.96 941.159 Q2166.96 946.737 2163.48 949.839 Q2160.01 952.918 2153.69 952.918 Q2151.52 952.918 2149.25 952.547 Q2147 952.177 2144.6 951.436 L2144.6 946.737 Q2146.68 947.872 2148.9 948.427 Q2151.12 948.983 2153.6 948.983 Q2157.61 948.983 2159.94 946.876 Q2162.28 944.77 2162.28 941.159 Q2162.28 937.548 2159.94 935.441 Q2157.61 933.335 2153.6 933.335 Q2151.73 933.335 2149.85 933.751 Q2148 934.168 2146.05 935.048 L2146.05 917.687 Z\" fill=\"#000000\" fill-rule=\"evenodd\" fill-opacity=\"1\" /><path clip-path=\"url(#clip980)\" d=\"M1195.29 988.941 L1195.29 999.063 L1207.35 999.063 L1207.35 1003.61 L1195.29 1003.61 L1195.29 1022.97 Q1195.29 1027.33 1196.46 1028.57 Q1197.67 1029.81 1201.33 1029.81 L1207.35 1029.81 L1207.35 1034.71 L1201.33 1034.71 Q1194.56 1034.71 1191.98 1032.2 Q1189.4 1029.65 1189.4 1022.97 L1189.4 1003.61 L1185.1 1003.61 L1185.1 999.063 L1189.4 999.063 L1189.4 988.941 L1195.29 988.941 Z\" fill=\"#000000\" fill-rule=\"evenodd\" fill-opacity=\"1\" /><path clip-path=\"url(#clip980)\" d=\"M1215.05 999.063 L1220.91 999.063 L1220.91 1034.71 L1215.05 1034.71 L1215.05 999.063 M1215.05 985.185 L1220.91 985.185 L1220.91 992.601 L1215.05 992.601 L1215.05 985.185 Z\" fill=\"#000000\" fill-rule=\"evenodd\" fill-opacity=\"1\" /><path clip-path=\"url(#clip980)\" d=\"M1260.92 1005.91 Q1263.11 1001.96 1266.17 1000.08 Q1269.22 998.203 1273.36 998.203 Q1278.93 998.203 1281.96 1002.12 Q1284.98 1006 1284.98 1013.19 L1284.98 1034.71 L1279.09 1034.71 L1279.09 1013.39 Q1279.09 1008.26 1277.28 1005.78 Q1275.46 1003.3 1271.74 1003.3 Q1267.19 1003.3 1264.55 1006.32 Q1261.9 1009.34 1261.9 1014.56 L1261.9 1034.71 L1256.02 1034.71 L1256.02 1013.39 Q1256.02 1008.23 1254.2 1005.78 Q1252.39 1003.3 1248.6 1003.3 Q1244.11 1003.3 1241.47 1006.35 Q1238.83 1009.37 1238.83 1014.56 L1238.83 1034.71 L1232.94 1034.71 L1232.94 999.063 L1238.83 999.063 L1238.83 1004.6 Q1240.83 1001.32 1243.63 999.763 Q1246.44 998.203 1250.29 998.203 Q1254.17 998.203 1256.88 1000.18 Q1259.61 1002.15 1260.92 1005.91 Z\" fill=\"#000000\" fill-rule=\"evenodd\" fill-opacity=\"1\" /><path clip-path=\"url(#clip980)\" d=\"M1327.15 1015.42 L1327.15 1018.29 L1300.23 1018.29 Q1300.61 1024.33 1303.85 1027.52 Q1307.13 1030.67 1312.96 1030.67 Q1316.33 1030.67 1319.48 1029.84 Q1322.67 1029.01 1325.78 1027.36 L1325.78 1032.9 Q1322.63 1034.23 1319.32 1034.93 Q1316.01 1035.63 1312.61 1035.63 Q1304.08 1035.63 1299.08 1030.67 Q1294.11 1025.7 1294.11 1017.24 Q1294.11 1008.48 1298.83 1003.36 Q1303.57 998.203 1311.59 998.203 Q1318.78 998.203 1322.95 1002.85 Q1327.15 1007.47 1327.15 1015.42 M1321.3 1013.7 Q1321.23 1008.9 1318.59 1006.03 Q1315.98 1003.17 1311.65 1003.17 Q1306.75 1003.17 1303.79 1005.94 Q1300.86 1008.71 1300.42 1013.74 L1321.3 1013.7 Z\" fill=\"#000000\" fill-rule=\"evenodd\" fill-opacity=\"1\" /><path clip-path=\"url(#clip980)\" d=\"M1336.22 985.185 L1349.72 985.185 L1349.72 989.737 L1342.08 989.737 L1342.08 1038.75 L1349.72 1038.75 L1349.72 1043.3 L1336.22 1043.3 L1336.22 985.185 Z\" fill=\"#000000\" fill-rule=\"evenodd\" fill-opacity=\"1\" /><path clip-path=\"url(#clip980)\" d=\"M1391.83 1013.19 L1391.83 1034.71 L1385.97 1034.71 L1385.97 1013.39 Q1385.97 1008.32 1384 1005.81 Q1382.03 1003.3 1378.08 1003.3 Q1373.34 1003.3 1370.6 1006.32 Q1367.86 1009.34 1367.86 1014.56 L1367.86 1034.71 L1361.97 1034.71 L1361.97 985.185 L1367.86 985.185 L1367.86 1004.6 Q1369.96 1001.39 1372.79 999.795 Q1375.66 998.203 1379.38 998.203 Q1385.53 998.203 1388.68 1002.02 Q1391.83 1005.81 1391.83 1013.19 Z\" fill=\"#000000\" fill-rule=\"evenodd\" fill-opacity=\"1\" /><path clip-path=\"url(#clip980)\" d=\"M1417.2 985.185 L1417.2 1043.3 L1403.7 1043.3 L1403.7 1038.75 L1411.31 1038.75 L1411.31 989.737 L1403.7 989.737 L1403.7 985.185 L1417.2 985.185 Z\" fill=\"#000000\" fill-rule=\"evenodd\" fill-opacity=\"1\" /><polyline clip-path=\"url(#clip983)\" style=\"stroke:#000000; stroke-linecap:round; stroke-linejoin:round; stroke-width:8; stroke-opacity:0.1; fill:none\" points=\"249.542,881.094 2352.76,881.094 \"/>\n",
       "<polyline clip-path=\"url(#clip983)\" style=\"stroke:#000000; stroke-linecap:round; stroke-linejoin:round; stroke-width:8; stroke-opacity:0.1; fill:none\" points=\"249.542,820.31 2352.76,820.31 \"/>\n",
       "<polyline clip-path=\"url(#clip983)\" style=\"stroke:#000000; stroke-linecap:round; stroke-linejoin:round; stroke-width:8; stroke-opacity:0.1; fill:none\" points=\"249.542,759.526 2352.76,759.526 \"/>\n",
       "<polyline clip-path=\"url(#clip983)\" style=\"stroke:#000000; stroke-linecap:round; stroke-linejoin:round; stroke-width:8; stroke-opacity:0.1; fill:none\" points=\"249.542,698.742 2352.76,698.742 \"/>\n",
       "<polyline clip-path=\"url(#clip983)\" style=\"stroke:#000000; stroke-linecap:round; stroke-linejoin:round; stroke-width:8; stroke-opacity:0.1; fill:none\" points=\"249.542,637.958 2352.76,637.958 \"/>\n",
       "<polyline clip-path=\"url(#clip980)\" style=\"stroke:#000000; stroke-linecap:round; stroke-linejoin:round; stroke-width:4; stroke-opacity:1; fill:none\" points=\"249.542,889.847 249.542,580.577 \"/>\n",
       "<polyline clip-path=\"url(#clip980)\" style=\"stroke:#000000; stroke-linecap:round; stroke-linejoin:round; stroke-width:4; stroke-opacity:1; fill:none\" points=\"249.542,881.094 268.44,881.094 \"/>\n",
       "<polyline clip-path=\"url(#clip980)\" style=\"stroke:#000000; stroke-linecap:round; stroke-linejoin:round; stroke-width:4; stroke-opacity:1; fill:none\" points=\"249.542,820.31 268.44,820.31 \"/>\n",
       "<polyline clip-path=\"url(#clip980)\" style=\"stroke:#000000; stroke-linecap:round; stroke-linejoin:round; stroke-width:4; stroke-opacity:1; fill:none\" points=\"249.542,759.526 268.44,759.526 \"/>\n",
       "<polyline clip-path=\"url(#clip980)\" style=\"stroke:#000000; stroke-linecap:round; stroke-linejoin:round; stroke-width:4; stroke-opacity:1; fill:none\" points=\"249.542,698.742 268.44,698.742 \"/>\n",
       "<polyline clip-path=\"url(#clip980)\" style=\"stroke:#000000; stroke-linecap:round; stroke-linejoin:round; stroke-width:4; stroke-opacity:1; fill:none\" points=\"249.542,637.958 268.44,637.958 \"/>\n",
       "<path clip-path=\"url(#clip980)\" d=\"M126.205 866.892 Q122.593 866.892 120.765 870.457 Q118.959 873.999 118.959 881.128 Q118.959 888.235 120.765 891.8 Q122.593 895.341 126.205 895.341 Q129.839 895.341 131.644 891.8 Q133.473 888.235 133.473 881.128 Q133.473 873.999 131.644 870.457 Q129.839 866.892 126.205 866.892 M126.205 863.189 Q132.015 863.189 135.07 867.795 Q138.149 872.378 138.149 881.128 Q138.149 889.855 135.07 894.462 Q132.015 899.045 126.205 899.045 Q120.394 899.045 117.316 894.462 Q114.26 889.855 114.26 881.128 Q114.26 872.378 117.316 867.795 Q120.394 863.189 126.205 863.189 Z\" fill=\"#000000\" fill-rule=\"evenodd\" fill-opacity=\"1\" /><path clip-path=\"url(#clip980)\" d=\"M146.366 892.494 L151.251 892.494 L151.251 898.374 L146.366 898.374 L146.366 892.494 Z\" fill=\"#000000\" fill-rule=\"evenodd\" fill-opacity=\"1\" /><path clip-path=\"url(#clip980)\" d=\"M171.436 866.892 Q167.825 866.892 165.996 870.457 Q164.19 873.999 164.19 881.128 Q164.19 888.235 165.996 891.8 Q167.825 895.341 171.436 895.341 Q175.07 895.341 176.876 891.8 Q178.704 888.235 178.704 881.128 Q178.704 873.999 176.876 870.457 Q175.07 866.892 171.436 866.892 M171.436 863.189 Q177.246 863.189 180.301 867.795 Q183.38 872.378 183.38 881.128 Q183.38 889.855 180.301 894.462 Q177.246 899.045 171.436 899.045 Q165.626 899.045 162.547 894.462 Q159.491 889.855 159.491 881.128 Q159.491 872.378 162.547 867.795 Q165.626 863.189 171.436 863.189 Z\" fill=\"#000000\" fill-rule=\"evenodd\" fill-opacity=\"1\" /><path clip-path=\"url(#clip980)\" d=\"M201.598 866.892 Q197.987 866.892 196.158 870.457 Q194.352 873.999 194.352 881.128 Q194.352 888.235 196.158 891.8 Q197.987 895.341 201.598 895.341 Q205.232 895.341 207.037 891.8 Q208.866 888.235 208.866 881.128 Q208.866 873.999 207.037 870.457 Q205.232 866.892 201.598 866.892 M201.598 863.189 Q207.408 863.189 210.463 867.795 Q213.542 872.378 213.542 881.128 Q213.542 889.855 210.463 894.462 Q207.408 899.045 201.598 899.045 Q195.787 899.045 192.709 894.462 Q189.653 889.855 189.653 881.128 Q189.653 872.378 192.709 867.795 Q195.787 863.189 201.598 863.189 Z\" fill=\"#000000\" fill-rule=\"evenodd\" fill-opacity=\"1\" /><path clip-path=\"url(#clip980)\" d=\"M127.2 806.108 Q123.589 806.108 121.76 809.673 Q119.955 813.215 119.955 820.344 Q119.955 827.451 121.76 831.016 Q123.589 834.557 127.2 834.557 Q130.834 834.557 132.64 831.016 Q134.468 827.451 134.468 820.344 Q134.468 813.215 132.64 809.673 Q130.834 806.108 127.2 806.108 M127.2 802.405 Q133.01 802.405 136.066 807.011 Q139.144 811.594 139.144 820.344 Q139.144 829.071 136.066 833.678 Q133.01 838.261 127.2 838.261 Q121.39 838.261 118.311 833.678 Q115.256 829.071 115.256 820.344 Q115.256 811.594 118.311 807.011 Q121.39 802.405 127.2 802.405 Z\" fill=\"#000000\" fill-rule=\"evenodd\" fill-opacity=\"1\" /><path clip-path=\"url(#clip980)\" d=\"M147.362 831.71 L152.246 831.71 L152.246 837.59 L147.362 837.59 L147.362 831.71 Z\" fill=\"#000000\" fill-rule=\"evenodd\" fill-opacity=\"1\" /><path clip-path=\"url(#clip980)\" d=\"M166.459 833.654 L182.778 833.654 L182.778 837.59 L160.834 837.59 L160.834 833.654 Q163.496 830.9 168.079 826.27 Q172.686 821.617 173.866 820.275 Q176.112 817.752 176.991 816.016 Q177.894 814.256 177.894 812.567 Q177.894 809.812 175.95 808.076 Q174.028 806.34 170.927 806.34 Q168.727 806.34 166.274 807.104 Q163.843 807.868 161.065 809.418 L161.065 804.696 Q163.89 803.562 166.343 802.983 Q168.797 802.405 170.834 802.405 Q176.204 802.405 179.399 805.09 Q182.593 807.775 182.593 812.266 Q182.593 814.395 181.783 816.317 Q180.996 818.215 178.889 820.807 Q178.311 821.479 175.209 824.696 Q172.107 827.891 166.459 833.654 Z\" fill=\"#000000\" fill-rule=\"evenodd\" fill-opacity=\"1\" /><path clip-path=\"url(#clip980)\" d=\"M192.639 803.03 L210.996 803.03 L210.996 806.965 L196.922 806.965 L196.922 815.437 Q197.94 815.09 198.959 814.928 Q199.977 814.742 200.996 814.742 Q206.783 814.742 210.162 817.914 Q213.542 821.085 213.542 826.502 Q213.542 832.08 210.07 835.182 Q206.598 838.261 200.278 838.261 Q198.102 838.261 195.834 837.891 Q193.588 837.52 191.181 836.779 L191.181 832.08 Q193.264 833.215 195.487 833.77 Q197.709 834.326 200.186 834.326 Q204.19 834.326 206.528 832.219 Q208.866 830.113 208.866 826.502 Q208.866 822.891 206.528 820.784 Q204.19 818.678 200.186 818.678 Q198.311 818.678 196.436 819.094 Q194.584 819.511 192.639 820.391 L192.639 803.03 Z\" fill=\"#000000\" fill-rule=\"evenodd\" fill-opacity=\"1\" /><path clip-path=\"url(#clip980)\" d=\"M126.205 745.324 Q122.593 745.324 120.765 748.889 Q118.959 752.431 118.959 759.56 Q118.959 766.667 120.765 770.232 Q122.593 773.773 126.205 773.773 Q129.839 773.773 131.644 770.232 Q133.473 766.667 133.473 759.56 Q133.473 752.431 131.644 748.889 Q129.839 745.324 126.205 745.324 M126.205 741.621 Q132.015 741.621 135.07 746.227 Q138.149 750.81 138.149 759.56 Q138.149 768.287 135.07 772.894 Q132.015 777.477 126.205 777.477 Q120.394 777.477 117.316 772.894 Q114.26 768.287 114.26 759.56 Q114.26 750.81 117.316 746.227 Q120.394 741.621 126.205 741.621 Z\" fill=\"#000000\" fill-rule=\"evenodd\" fill-opacity=\"1\" /><path clip-path=\"url(#clip980)\" d=\"M146.366 770.926 L151.251 770.926 L151.251 776.806 L146.366 776.806 L146.366 770.926 Z\" fill=\"#000000\" fill-rule=\"evenodd\" fill-opacity=\"1\" /><path clip-path=\"url(#clip980)\" d=\"M161.482 742.246 L179.839 742.246 L179.839 746.181 L165.765 746.181 L165.765 754.653 Q166.783 754.306 167.802 754.144 Q168.82 753.958 169.839 753.958 Q175.626 753.958 179.005 757.13 Q182.385 760.301 182.385 765.718 Q182.385 771.296 178.913 774.398 Q175.44 777.477 169.121 777.477 Q166.945 777.477 164.677 777.106 Q162.431 776.736 160.024 775.995 L160.024 771.296 Q162.107 772.431 164.329 772.986 Q166.552 773.542 169.028 773.542 Q173.033 773.542 175.371 771.435 Q177.709 769.329 177.709 765.718 Q177.709 762.107 175.371 760 Q173.033 757.894 169.028 757.894 Q167.153 757.894 165.278 758.31 Q163.427 758.727 161.482 759.607 L161.482 742.246 Z\" fill=\"#000000\" fill-rule=\"evenodd\" fill-opacity=\"1\" /><path clip-path=\"url(#clip980)\" d=\"M201.598 745.324 Q197.987 745.324 196.158 748.889 Q194.352 752.431 194.352 759.56 Q194.352 766.667 196.158 770.232 Q197.987 773.773 201.598 773.773 Q205.232 773.773 207.037 770.232 Q208.866 766.667 208.866 759.56 Q208.866 752.431 207.037 748.889 Q205.232 745.324 201.598 745.324 M201.598 741.621 Q207.408 741.621 210.463 746.227 Q213.542 750.81 213.542 759.56 Q213.542 768.287 210.463 772.894 Q207.408 777.477 201.598 777.477 Q195.787 777.477 192.709 772.894 Q189.653 768.287 189.653 759.56 Q189.653 750.81 192.709 746.227 Q195.787 741.621 201.598 741.621 Z\" fill=\"#000000\" fill-rule=\"evenodd\" fill-opacity=\"1\" /><path clip-path=\"url(#clip980)\" d=\"M127.2 684.54 Q123.589 684.54 121.76 688.105 Q119.955 691.647 119.955 698.776 Q119.955 705.883 121.76 709.448 Q123.589 712.989 127.2 712.989 Q130.834 712.989 132.64 709.448 Q134.468 705.883 134.468 698.776 Q134.468 691.647 132.64 688.105 Q130.834 684.54 127.2 684.54 M127.2 680.837 Q133.01 680.837 136.066 685.443 Q139.144 690.026 139.144 698.776 Q139.144 707.503 136.066 712.11 Q133.01 716.693 127.2 716.693 Q121.39 716.693 118.311 712.11 Q115.256 707.503 115.256 698.776 Q115.256 690.026 118.311 685.443 Q121.39 680.837 127.2 680.837 Z\" fill=\"#000000\" fill-rule=\"evenodd\" fill-opacity=\"1\" /><path clip-path=\"url(#clip980)\" d=\"M147.362 710.142 L152.246 710.142 L152.246 716.022 L147.362 716.022 L147.362 710.142 Z\" fill=\"#000000\" fill-rule=\"evenodd\" fill-opacity=\"1\" /><path clip-path=\"url(#clip980)\" d=\"M161.251 681.462 L183.473 681.462 L183.473 683.452 L170.927 716.022 L166.042 716.022 L177.848 685.397 L161.251 685.397 L161.251 681.462 Z\" fill=\"#000000\" fill-rule=\"evenodd\" fill-opacity=\"1\" /><path clip-path=\"url(#clip980)\" d=\"M192.639 681.462 L210.996 681.462 L210.996 685.397 L196.922 685.397 L196.922 693.869 Q197.94 693.522 198.959 693.36 Q199.977 693.174 200.996 693.174 Q206.783 693.174 210.162 696.346 Q213.542 699.517 213.542 704.934 Q213.542 710.512 210.07 713.614 Q206.598 716.693 200.278 716.693 Q198.102 716.693 195.834 716.322 Q193.588 715.952 191.181 715.211 L191.181 710.512 Q193.264 711.647 195.487 712.202 Q197.709 712.758 200.186 712.758 Q204.19 712.758 206.528 710.651 Q208.866 708.545 208.866 704.934 Q208.866 701.323 206.528 699.216 Q204.19 697.11 200.186 697.11 Q198.311 697.11 196.436 697.526 Q194.584 697.943 192.639 698.823 L192.639 681.462 Z\" fill=\"#000000\" fill-rule=\"evenodd\" fill-opacity=\"1\" /><path clip-path=\"url(#clip980)\" d=\"M117.015 651.302 L124.654 651.302 L124.654 624.937 L116.343 626.603 L116.343 622.344 L124.607 620.678 L129.283 620.678 L129.283 651.302 L136.922 651.302 L136.922 655.238 L117.015 655.238 L117.015 651.302 Z\" fill=\"#000000\" fill-rule=\"evenodd\" fill-opacity=\"1\" /><path clip-path=\"url(#clip980)\" d=\"M146.366 649.358 L151.251 649.358 L151.251 655.238 L146.366 655.238 L146.366 649.358 Z\" fill=\"#000000\" fill-rule=\"evenodd\" fill-opacity=\"1\" /><path clip-path=\"url(#clip980)\" d=\"M171.436 623.756 Q167.825 623.756 165.996 627.321 Q164.19 630.863 164.19 637.992 Q164.19 645.099 165.996 648.664 Q167.825 652.205 171.436 652.205 Q175.07 652.205 176.876 648.664 Q178.704 645.099 178.704 637.992 Q178.704 630.863 176.876 627.321 Q175.07 623.756 171.436 623.756 M171.436 620.053 Q177.246 620.053 180.301 624.659 Q183.38 629.242 183.38 637.992 Q183.38 646.719 180.301 651.326 Q177.246 655.909 171.436 655.909 Q165.626 655.909 162.547 651.326 Q159.491 646.719 159.491 637.992 Q159.491 629.242 162.547 624.659 Q165.626 620.053 171.436 620.053 Z\" fill=\"#000000\" fill-rule=\"evenodd\" fill-opacity=\"1\" /><path clip-path=\"url(#clip980)\" d=\"M201.598 623.756 Q197.987 623.756 196.158 627.321 Q194.352 630.863 194.352 637.992 Q194.352 645.099 196.158 648.664 Q197.987 652.205 201.598 652.205 Q205.232 652.205 207.037 648.664 Q208.866 645.099 208.866 637.992 Q208.866 630.863 207.037 627.321 Q205.232 623.756 201.598 623.756 M201.598 620.053 Q207.408 620.053 210.463 624.659 Q213.542 629.242 213.542 637.992 Q213.542 646.719 210.463 651.326 Q207.408 655.909 201.598 655.909 Q195.787 655.909 192.709 651.326 Q189.653 646.719 189.653 637.992 Q189.653 629.242 192.709 624.659 Q195.787 620.053 201.598 620.053 Z\" fill=\"#000000\" fill-rule=\"evenodd\" fill-opacity=\"1\" /><path clip-path=\"url(#clip980)\" d=\"M67.3143 789.639 Q73.68 792.121 75.6216 794.477 Q77.5631 796.832 77.5631 800.779 L77.5631 805.458 L72.6615 805.458 L72.6615 802.02 Q72.6615 799.601 71.5157 798.264 Q70.3699 796.927 66.1048 795.304 L63.4312 794.254 L28.3562 808.672 L28.3562 802.466 L56.238 791.326 L28.3562 780.186 L28.3562 773.979 L67.3143 789.639 Z\" fill=\"#000000\" fill-rule=\"evenodd\" fill-opacity=\"1\" /><path clip-path=\"url(#clip980)\" d=\"M29.4065 743.169 L34.9447 743.169 Q33.6716 745.652 33.035 748.325 Q32.3984 750.999 32.3984 753.863 Q32.3984 758.224 33.7352 760.42 Q35.072 762.585 37.7456 762.585 Q39.7826 762.585 40.9603 761.025 Q42.1061 759.465 43.1565 754.755 L43.6021 752.749 Q44.9389 746.511 47.3897 743.901 Q49.8086 741.259 54.1691 741.259 Q59.1344 741.259 62.0308 745.206 Q64.9272 749.121 64.9272 755.996 Q64.9272 758.861 64.3543 761.98 Q63.8132 765.067 62.6992 768.505 L56.6518 768.505 Q58.3387 765.258 59.198 762.107 Q60.0256 758.956 60.0256 755.869 Q60.0256 751.731 58.6251 749.503 Q57.1929 747.275 54.6147 747.275 Q52.2276 747.275 50.9545 748.898 Q49.6813 750.49 48.5037 755.932 L48.0262 757.969 Q46.8804 763.412 44.5251 765.831 Q42.138 768.25 38.0002 768.25 Q32.9713 768.25 30.2341 764.685 Q27.4968 761.12 27.4968 754.564 Q27.4968 751.317 27.9743 748.453 Q28.4517 745.588 29.4065 743.169 Z\" fill=\"#000000\" fill-rule=\"evenodd\" fill-opacity=\"1\" /><path clip-path=\"url(#clip980)\" d=\"M58.657 726.268 L77.5631 726.268 L77.5631 732.156 L28.3562 732.156 L28.3562 726.268 L33.7671 726.268 Q30.5842 724.422 29.0564 721.621 Q27.4968 718.788 27.4968 714.874 Q27.4968 708.381 32.6531 704.338 Q37.8093 700.264 46.212 700.264 Q54.6147 700.264 59.771 704.338 Q64.9272 708.381 64.9272 714.874 Q64.9272 718.788 63.3994 721.621 Q61.8398 724.422 58.657 726.268 M46.212 706.343 Q39.7508 706.343 36.0905 709.017 Q32.3984 711.659 32.3984 716.306 Q32.3984 720.953 36.0905 723.626 Q39.7508 726.268 46.212 726.268 Q52.6732 726.268 56.3653 723.626 Q60.0256 720.953 60.0256 716.306 Q60.0256 711.659 56.3653 709.017 Q52.6732 706.343 46.212 706.343 Z\" fill=\"#000000\" fill-rule=\"evenodd\" fill-opacity=\"1\" /><path clip-path=\"url(#clip980)\" d=\"M58.5933 684.191 L58.5933 661.752 L64.0042 661.752 L64.0042 691.925 L58.5933 691.925 Q54.8057 688.265 48.44 681.963 Q42.0425 675.629 40.1964 674.006 Q36.7271 670.918 34.34 669.709 Q31.921 668.468 29.5975 668.468 Q25.8099 668.468 23.4228 671.141 Q21.0356 673.783 21.0356 678.048 Q21.0356 681.072 22.086 684.445 Q23.1363 687.787 25.2688 691.607 L18.7758 691.607 Q17.2162 687.724 16.4205 684.35 Q15.6248 680.976 15.6248 678.175 Q15.6248 670.791 19.3169 666.399 Q23.009 662.006 29.1837 662.006 Q32.112 662.006 34.7537 663.12 Q37.3637 664.203 40.9285 667.099 Q41.8515 667.895 46.2757 672.16 Q50.668 676.425 58.5933 684.191 Z\" fill=\"#000000\" fill-rule=\"evenodd\" fill-opacity=\"1\" /><polyline clip-path=\"url(#clip983)\" style=\"stroke:#000000; stroke-linecap:round; stroke-linejoin:round; stroke-width:4; stroke-opacity:1; fill:none\" stroke-dasharray=\"2, 4\" points=\"309.067,589.33 385.381,589.33 461.695,589.33 538.009,589.33 614.323,589.33 690.637,589.33 766.951,589.33 843.265,589.33 919.579,589.33 995.893,589.33 1072.21,589.33 1148.52,589.33 1224.83,589.33 1301.15,589.33 1377.46,589.33 1453.78,589.33 1530.09,589.33 1606.4,589.33 1682.72,589.33 1759.03,589.33 1835.35,589.33 1911.66,589.33 1987.97,589.33 2064.29,589.33 2140.6,589.33 2216.92,589.33 2293.23,589.33 \"/>\n",
       "<line clip-path=\"url(#clip983)\" x1=\"309.067\" y1=\"589.33\" x2=\"309.067\" y2=\"573.33\" style=\"stroke:#009af9; stroke-width:3.2; stroke-opacity:1\"/>\n",
       "<line clip-path=\"url(#clip983)\" x1=\"309.067\" y1=\"589.33\" x2=\"293.067\" y2=\"589.33\" style=\"stroke:#009af9; stroke-width:3.2; stroke-opacity:1\"/>\n",
       "<line clip-path=\"url(#clip983)\" x1=\"309.067\" y1=\"589.33\" x2=\"309.067\" y2=\"605.33\" style=\"stroke:#009af9; stroke-width:3.2; stroke-opacity:1\"/>\n",
       "<line clip-path=\"url(#clip983)\" x1=\"309.067\" y1=\"589.33\" x2=\"325.067\" y2=\"589.33\" style=\"stroke:#009af9; stroke-width:3.2; stroke-opacity:1\"/>\n",
       "<line clip-path=\"url(#clip983)\" x1=\"385.381\" y1=\"589.33\" x2=\"385.381\" y2=\"573.33\" style=\"stroke:#009af9; stroke-width:3.2; stroke-opacity:1\"/>\n",
       "<line clip-path=\"url(#clip983)\" x1=\"385.381\" y1=\"589.33\" x2=\"369.381\" y2=\"589.33\" style=\"stroke:#009af9; stroke-width:3.2; stroke-opacity:1\"/>\n",
       "<line clip-path=\"url(#clip983)\" x1=\"385.381\" y1=\"589.33\" x2=\"385.381\" y2=\"605.33\" style=\"stroke:#009af9; stroke-width:3.2; stroke-opacity:1\"/>\n",
       "<line clip-path=\"url(#clip983)\" x1=\"385.381\" y1=\"589.33\" x2=\"401.381\" y2=\"589.33\" style=\"stroke:#009af9; stroke-width:3.2; stroke-opacity:1\"/>\n",
       "<line clip-path=\"url(#clip983)\" x1=\"461.695\" y1=\"589.33\" x2=\"461.695\" y2=\"573.33\" style=\"stroke:#009af9; stroke-width:3.2; stroke-opacity:1\"/>\n",
       "<line clip-path=\"url(#clip983)\" x1=\"461.695\" y1=\"589.33\" x2=\"445.695\" y2=\"589.33\" style=\"stroke:#009af9; stroke-width:3.2; stroke-opacity:1\"/>\n",
       "<line clip-path=\"url(#clip983)\" x1=\"461.695\" y1=\"589.33\" x2=\"461.695\" y2=\"605.33\" style=\"stroke:#009af9; stroke-width:3.2; stroke-opacity:1\"/>\n",
       "<line clip-path=\"url(#clip983)\" x1=\"461.695\" y1=\"589.33\" x2=\"477.695\" y2=\"589.33\" style=\"stroke:#009af9; stroke-width:3.2; stroke-opacity:1\"/>\n",
       "<line clip-path=\"url(#clip983)\" x1=\"538.009\" y1=\"589.33\" x2=\"538.009\" y2=\"573.33\" style=\"stroke:#009af9; stroke-width:3.2; stroke-opacity:1\"/>\n",
       "<line clip-path=\"url(#clip983)\" x1=\"538.009\" y1=\"589.33\" x2=\"522.009\" y2=\"589.33\" style=\"stroke:#009af9; stroke-width:3.2; stroke-opacity:1\"/>\n",
       "<line clip-path=\"url(#clip983)\" x1=\"538.009\" y1=\"589.33\" x2=\"538.009\" y2=\"605.33\" style=\"stroke:#009af9; stroke-width:3.2; stroke-opacity:1\"/>\n",
       "<line clip-path=\"url(#clip983)\" x1=\"538.009\" y1=\"589.33\" x2=\"554.009\" y2=\"589.33\" style=\"stroke:#009af9; stroke-width:3.2; stroke-opacity:1\"/>\n",
       "<line clip-path=\"url(#clip983)\" x1=\"614.323\" y1=\"589.33\" x2=\"614.323\" y2=\"573.33\" style=\"stroke:#009af9; stroke-width:3.2; stroke-opacity:1\"/>\n",
       "<line clip-path=\"url(#clip983)\" x1=\"614.323\" y1=\"589.33\" x2=\"598.323\" y2=\"589.33\" style=\"stroke:#009af9; stroke-width:3.2; stroke-opacity:1\"/>\n",
       "<line clip-path=\"url(#clip983)\" x1=\"614.323\" y1=\"589.33\" x2=\"614.323\" y2=\"605.33\" style=\"stroke:#009af9; stroke-width:3.2; stroke-opacity:1\"/>\n",
       "<line clip-path=\"url(#clip983)\" x1=\"614.323\" y1=\"589.33\" x2=\"630.323\" y2=\"589.33\" style=\"stroke:#009af9; stroke-width:3.2; stroke-opacity:1\"/>\n",
       "<line clip-path=\"url(#clip983)\" x1=\"690.637\" y1=\"589.33\" x2=\"690.637\" y2=\"573.33\" style=\"stroke:#009af9; stroke-width:3.2; stroke-opacity:1\"/>\n",
       "<line clip-path=\"url(#clip983)\" x1=\"690.637\" y1=\"589.33\" x2=\"674.637\" y2=\"589.33\" style=\"stroke:#009af9; stroke-width:3.2; stroke-opacity:1\"/>\n",
       "<line clip-path=\"url(#clip983)\" x1=\"690.637\" y1=\"589.33\" x2=\"690.637\" y2=\"605.33\" style=\"stroke:#009af9; stroke-width:3.2; stroke-opacity:1\"/>\n",
       "<line clip-path=\"url(#clip983)\" x1=\"690.637\" y1=\"589.33\" x2=\"706.637\" y2=\"589.33\" style=\"stroke:#009af9; stroke-width:3.2; stroke-opacity:1\"/>\n",
       "<line clip-path=\"url(#clip983)\" x1=\"766.951\" y1=\"589.33\" x2=\"766.951\" y2=\"573.33\" style=\"stroke:#009af9; stroke-width:3.2; stroke-opacity:1\"/>\n",
       "<line clip-path=\"url(#clip983)\" x1=\"766.951\" y1=\"589.33\" x2=\"750.951\" y2=\"589.33\" style=\"stroke:#009af9; stroke-width:3.2; stroke-opacity:1\"/>\n",
       "<line clip-path=\"url(#clip983)\" x1=\"766.951\" y1=\"589.33\" x2=\"766.951\" y2=\"605.33\" style=\"stroke:#009af9; stroke-width:3.2; stroke-opacity:1\"/>\n",
       "<line clip-path=\"url(#clip983)\" x1=\"766.951\" y1=\"589.33\" x2=\"782.951\" y2=\"589.33\" style=\"stroke:#009af9; stroke-width:3.2; stroke-opacity:1\"/>\n",
       "<line clip-path=\"url(#clip983)\" x1=\"843.265\" y1=\"710.253\" x2=\"843.265\" y2=\"694.253\" style=\"stroke:#009af9; stroke-width:3.2; stroke-opacity:1\"/>\n",
       "<line clip-path=\"url(#clip983)\" x1=\"843.265\" y1=\"710.253\" x2=\"827.265\" y2=\"710.253\" style=\"stroke:#009af9; stroke-width:3.2; stroke-opacity:1\"/>\n",
       "<line clip-path=\"url(#clip983)\" x1=\"843.265\" y1=\"710.253\" x2=\"843.265\" y2=\"726.253\" style=\"stroke:#009af9; stroke-width:3.2; stroke-opacity:1\"/>\n",
       "<line clip-path=\"url(#clip983)\" x1=\"843.265\" y1=\"710.253\" x2=\"859.265\" y2=\"710.253\" style=\"stroke:#009af9; stroke-width:3.2; stroke-opacity:1\"/>\n",
       "<line clip-path=\"url(#clip983)\" x1=\"919.579\" y1=\"763.579\" x2=\"919.579\" y2=\"747.579\" style=\"stroke:#009af9; stroke-width:3.2; stroke-opacity:1\"/>\n",
       "<line clip-path=\"url(#clip983)\" x1=\"919.579\" y1=\"763.579\" x2=\"903.579\" y2=\"763.579\" style=\"stroke:#009af9; stroke-width:3.2; stroke-opacity:1\"/>\n",
       "<line clip-path=\"url(#clip983)\" x1=\"919.579\" y1=\"763.579\" x2=\"919.579\" y2=\"779.579\" style=\"stroke:#009af9; stroke-width:3.2; stroke-opacity:1\"/>\n",
       "<line clip-path=\"url(#clip983)\" x1=\"919.579\" y1=\"763.579\" x2=\"935.579\" y2=\"763.579\" style=\"stroke:#009af9; stroke-width:3.2; stroke-opacity:1\"/>\n",
       "<line clip-path=\"url(#clip983)\" x1=\"995.893\" y1=\"659.459\" x2=\"995.893\" y2=\"643.459\" style=\"stroke:#009af9; stroke-width:3.2; stroke-opacity:1\"/>\n",
       "<line clip-path=\"url(#clip983)\" x1=\"995.893\" y1=\"659.459\" x2=\"979.893\" y2=\"659.459\" style=\"stroke:#009af9; stroke-width:3.2; stroke-opacity:1\"/>\n",
       "<line clip-path=\"url(#clip983)\" x1=\"995.893\" y1=\"659.459\" x2=\"995.893\" y2=\"675.459\" style=\"stroke:#009af9; stroke-width:3.2; stroke-opacity:1\"/>\n",
       "<line clip-path=\"url(#clip983)\" x1=\"995.893\" y1=\"659.459\" x2=\"1011.89\" y2=\"659.459\" style=\"stroke:#009af9; stroke-width:3.2; stroke-opacity:1\"/>\n",
       "<line clip-path=\"url(#clip983)\" x1=\"1072.21\" y1=\"589.33\" x2=\"1072.21\" y2=\"573.33\" style=\"stroke:#009af9; stroke-width:3.2; stroke-opacity:1\"/>\n",
       "<line clip-path=\"url(#clip983)\" x1=\"1072.21\" y1=\"589.33\" x2=\"1056.21\" y2=\"589.33\" style=\"stroke:#009af9; stroke-width:3.2; stroke-opacity:1\"/>\n",
       "<line clip-path=\"url(#clip983)\" x1=\"1072.21\" y1=\"589.33\" x2=\"1072.21\" y2=\"605.33\" style=\"stroke:#009af9; stroke-width:3.2; stroke-opacity:1\"/>\n",
       "<line clip-path=\"url(#clip983)\" x1=\"1072.21\" y1=\"589.33\" x2=\"1088.21\" y2=\"589.33\" style=\"stroke:#009af9; stroke-width:3.2; stroke-opacity:1\"/>\n",
       "<line clip-path=\"url(#clip983)\" x1=\"1148.52\" y1=\"589.33\" x2=\"1148.52\" y2=\"573.33\" style=\"stroke:#009af9; stroke-width:3.2; stroke-opacity:1\"/>\n",
       "<line clip-path=\"url(#clip983)\" x1=\"1148.52\" y1=\"589.33\" x2=\"1132.52\" y2=\"589.33\" style=\"stroke:#009af9; stroke-width:3.2; stroke-opacity:1\"/>\n",
       "<line clip-path=\"url(#clip983)\" x1=\"1148.52\" y1=\"589.33\" x2=\"1148.52\" y2=\"605.33\" style=\"stroke:#009af9; stroke-width:3.2; stroke-opacity:1\"/>\n",
       "<line clip-path=\"url(#clip983)\" x1=\"1148.52\" y1=\"589.33\" x2=\"1164.52\" y2=\"589.33\" style=\"stroke:#009af9; stroke-width:3.2; stroke-opacity:1\"/>\n",
       "<line clip-path=\"url(#clip983)\" x1=\"1224.83\" y1=\"591.683\" x2=\"1224.83\" y2=\"575.683\" style=\"stroke:#009af9; stroke-width:3.2; stroke-opacity:1\"/>\n",
       "<line clip-path=\"url(#clip983)\" x1=\"1224.83\" y1=\"591.683\" x2=\"1208.83\" y2=\"591.683\" style=\"stroke:#009af9; stroke-width:3.2; stroke-opacity:1\"/>\n",
       "<line clip-path=\"url(#clip983)\" x1=\"1224.83\" y1=\"591.683\" x2=\"1224.83\" y2=\"607.683\" style=\"stroke:#009af9; stroke-width:3.2; stroke-opacity:1\"/>\n",
       "<line clip-path=\"url(#clip983)\" x1=\"1224.83\" y1=\"591.683\" x2=\"1240.83\" y2=\"591.683\" style=\"stroke:#009af9; stroke-width:3.2; stroke-opacity:1\"/>\n",
       "<line clip-path=\"url(#clip983)\" x1=\"1301.15\" y1=\"675.864\" x2=\"1301.15\" y2=\"659.864\" style=\"stroke:#009af9; stroke-width:3.2; stroke-opacity:1\"/>\n",
       "<line clip-path=\"url(#clip983)\" x1=\"1301.15\" y1=\"675.864\" x2=\"1285.15\" y2=\"675.864\" style=\"stroke:#009af9; stroke-width:3.2; stroke-opacity:1\"/>\n",
       "<line clip-path=\"url(#clip983)\" x1=\"1301.15\" y1=\"675.864\" x2=\"1301.15\" y2=\"691.864\" style=\"stroke:#009af9; stroke-width:3.2; stroke-opacity:1\"/>\n",
       "<line clip-path=\"url(#clip983)\" x1=\"1301.15\" y1=\"675.864\" x2=\"1317.15\" y2=\"675.864\" style=\"stroke:#009af9; stroke-width:3.2; stroke-opacity:1\"/>\n",
       "<line clip-path=\"url(#clip983)\" x1=\"1377.46\" y1=\"589.33\" x2=\"1377.46\" y2=\"573.33\" style=\"stroke:#009af9; stroke-width:3.2; stroke-opacity:1\"/>\n",
       "<line clip-path=\"url(#clip983)\" x1=\"1377.46\" y1=\"589.33\" x2=\"1361.46\" y2=\"589.33\" style=\"stroke:#009af9; stroke-width:3.2; stroke-opacity:1\"/>\n",
       "<line clip-path=\"url(#clip983)\" x1=\"1377.46\" y1=\"589.33\" x2=\"1377.46\" y2=\"605.33\" style=\"stroke:#009af9; stroke-width:3.2; stroke-opacity:1\"/>\n",
       "<line clip-path=\"url(#clip983)\" x1=\"1377.46\" y1=\"589.33\" x2=\"1393.46\" y2=\"589.33\" style=\"stroke:#009af9; stroke-width:3.2; stroke-opacity:1\"/>\n",
       "<line clip-path=\"url(#clip983)\" x1=\"1453.78\" y1=\"617.904\" x2=\"1453.78\" y2=\"601.904\" style=\"stroke:#009af9; stroke-width:3.2; stroke-opacity:1\"/>\n",
       "<line clip-path=\"url(#clip983)\" x1=\"1453.78\" y1=\"617.904\" x2=\"1437.78\" y2=\"617.904\" style=\"stroke:#009af9; stroke-width:3.2; stroke-opacity:1\"/>\n",
       "<line clip-path=\"url(#clip983)\" x1=\"1453.78\" y1=\"617.904\" x2=\"1453.78\" y2=\"633.904\" style=\"stroke:#009af9; stroke-width:3.2; stroke-opacity:1\"/>\n",
       "<line clip-path=\"url(#clip983)\" x1=\"1453.78\" y1=\"617.904\" x2=\"1469.78\" y2=\"617.904\" style=\"stroke:#009af9; stroke-width:3.2; stroke-opacity:1\"/>\n",
       "<line clip-path=\"url(#clip983)\" x1=\"1530.09\" y1=\"834.539\" x2=\"1530.09\" y2=\"818.539\" style=\"stroke:#009af9; stroke-width:3.2; stroke-opacity:1\"/>\n",
       "<line clip-path=\"url(#clip983)\" x1=\"1530.09\" y1=\"834.539\" x2=\"1514.09\" y2=\"834.539\" style=\"stroke:#009af9; stroke-width:3.2; stroke-opacity:1\"/>\n",
       "<line clip-path=\"url(#clip983)\" x1=\"1530.09\" y1=\"834.539\" x2=\"1530.09\" y2=\"850.539\" style=\"stroke:#009af9; stroke-width:3.2; stroke-opacity:1\"/>\n",
       "<line clip-path=\"url(#clip983)\" x1=\"1530.09\" y1=\"834.539\" x2=\"1546.09\" y2=\"834.539\" style=\"stroke:#009af9; stroke-width:3.2; stroke-opacity:1\"/>\n",
       "<line clip-path=\"url(#clip983)\" x1=\"1606.4\" y1=\"609.892\" x2=\"1606.4\" y2=\"593.892\" style=\"stroke:#009af9; stroke-width:3.2; stroke-opacity:1\"/>\n",
       "<line clip-path=\"url(#clip983)\" x1=\"1606.4\" y1=\"609.892\" x2=\"1590.4\" y2=\"609.892\" style=\"stroke:#009af9; stroke-width:3.2; stroke-opacity:1\"/>\n",
       "<line clip-path=\"url(#clip983)\" x1=\"1606.4\" y1=\"609.892\" x2=\"1606.4\" y2=\"625.892\" style=\"stroke:#009af9; stroke-width:3.2; stroke-opacity:1\"/>\n",
       "<line clip-path=\"url(#clip983)\" x1=\"1606.4\" y1=\"609.892\" x2=\"1622.4\" y2=\"609.892\" style=\"stroke:#009af9; stroke-width:3.2; stroke-opacity:1\"/>\n",
       "<line clip-path=\"url(#clip983)\" x1=\"1682.72\" y1=\"589.33\" x2=\"1682.72\" y2=\"573.33\" style=\"stroke:#009af9; stroke-width:3.2; stroke-opacity:1\"/>\n",
       "<line clip-path=\"url(#clip983)\" x1=\"1682.72\" y1=\"589.33\" x2=\"1666.72\" y2=\"589.33\" style=\"stroke:#009af9; stroke-width:3.2; stroke-opacity:1\"/>\n",
       "<line clip-path=\"url(#clip983)\" x1=\"1682.72\" y1=\"589.33\" x2=\"1682.72\" y2=\"605.33\" style=\"stroke:#009af9; stroke-width:3.2; stroke-opacity:1\"/>\n",
       "<line clip-path=\"url(#clip983)\" x1=\"1682.72\" y1=\"589.33\" x2=\"1698.72\" y2=\"589.33\" style=\"stroke:#009af9; stroke-width:3.2; stroke-opacity:1\"/>\n",
       "<line clip-path=\"url(#clip983)\" x1=\"1759.03\" y1=\"589.33\" x2=\"1759.03\" y2=\"573.33\" style=\"stroke:#009af9; stroke-width:3.2; stroke-opacity:1\"/>\n",
       "<line clip-path=\"url(#clip983)\" x1=\"1759.03\" y1=\"589.33\" x2=\"1743.03\" y2=\"589.33\" style=\"stroke:#009af9; stroke-width:3.2; stroke-opacity:1\"/>\n",
       "<line clip-path=\"url(#clip983)\" x1=\"1759.03\" y1=\"589.33\" x2=\"1759.03\" y2=\"605.33\" style=\"stroke:#009af9; stroke-width:3.2; stroke-opacity:1\"/>\n",
       "<line clip-path=\"url(#clip983)\" x1=\"1759.03\" y1=\"589.33\" x2=\"1775.03\" y2=\"589.33\" style=\"stroke:#009af9; stroke-width:3.2; stroke-opacity:1\"/>\n",
       "<line clip-path=\"url(#clip983)\" x1=\"1835.35\" y1=\"589.33\" x2=\"1835.35\" y2=\"573.33\" style=\"stroke:#009af9; stroke-width:3.2; stroke-opacity:1\"/>\n",
       "<line clip-path=\"url(#clip983)\" x1=\"1835.35\" y1=\"589.33\" x2=\"1819.35\" y2=\"589.33\" style=\"stroke:#009af9; stroke-width:3.2; stroke-opacity:1\"/>\n",
       "<line clip-path=\"url(#clip983)\" x1=\"1835.35\" y1=\"589.33\" x2=\"1835.35\" y2=\"605.33\" style=\"stroke:#009af9; stroke-width:3.2; stroke-opacity:1\"/>\n",
       "<line clip-path=\"url(#clip983)\" x1=\"1835.35\" y1=\"589.33\" x2=\"1851.35\" y2=\"589.33\" style=\"stroke:#009af9; stroke-width:3.2; stroke-opacity:1\"/>\n",
       "<line clip-path=\"url(#clip983)\" x1=\"1911.66\" y1=\"589.33\" x2=\"1911.66\" y2=\"573.33\" style=\"stroke:#009af9; stroke-width:3.2; stroke-opacity:1\"/>\n",
       "<line clip-path=\"url(#clip983)\" x1=\"1911.66\" y1=\"589.33\" x2=\"1895.66\" y2=\"589.33\" style=\"stroke:#009af9; stroke-width:3.2; stroke-opacity:1\"/>\n",
       "<line clip-path=\"url(#clip983)\" x1=\"1911.66\" y1=\"589.33\" x2=\"1911.66\" y2=\"605.33\" style=\"stroke:#009af9; stroke-width:3.2; stroke-opacity:1\"/>\n",
       "<line clip-path=\"url(#clip983)\" x1=\"1911.66\" y1=\"589.33\" x2=\"1927.66\" y2=\"589.33\" style=\"stroke:#009af9; stroke-width:3.2; stroke-opacity:1\"/>\n",
       "<line clip-path=\"url(#clip983)\" x1=\"1987.97\" y1=\"589.33\" x2=\"1987.97\" y2=\"573.33\" style=\"stroke:#009af9; stroke-width:3.2; stroke-opacity:1\"/>\n",
       "<line clip-path=\"url(#clip983)\" x1=\"1987.97\" y1=\"589.33\" x2=\"1971.97\" y2=\"589.33\" style=\"stroke:#009af9; stroke-width:3.2; stroke-opacity:1\"/>\n",
       "<line clip-path=\"url(#clip983)\" x1=\"1987.97\" y1=\"589.33\" x2=\"1987.97\" y2=\"605.33\" style=\"stroke:#009af9; stroke-width:3.2; stroke-opacity:1\"/>\n",
       "<line clip-path=\"url(#clip983)\" x1=\"1987.97\" y1=\"589.33\" x2=\"2003.97\" y2=\"589.33\" style=\"stroke:#009af9; stroke-width:3.2; stroke-opacity:1\"/>\n",
       "<line clip-path=\"url(#clip983)\" x1=\"2064.29\" y1=\"881.093\" x2=\"2064.29\" y2=\"865.093\" style=\"stroke:#009af9; stroke-width:3.2; stroke-opacity:1\"/>\n",
       "<line clip-path=\"url(#clip983)\" x1=\"2064.29\" y1=\"881.093\" x2=\"2048.29\" y2=\"881.093\" style=\"stroke:#009af9; stroke-width:3.2; stroke-opacity:1\"/>\n",
       "<line clip-path=\"url(#clip983)\" x1=\"2064.29\" y1=\"881.093\" x2=\"2064.29\" y2=\"897.093\" style=\"stroke:#009af9; stroke-width:3.2; stroke-opacity:1\"/>\n",
       "<line clip-path=\"url(#clip983)\" x1=\"2064.29\" y1=\"881.093\" x2=\"2080.29\" y2=\"881.093\" style=\"stroke:#009af9; stroke-width:3.2; stroke-opacity:1\"/>\n",
       "<line clip-path=\"url(#clip983)\" x1=\"2140.6\" y1=\"745.986\" x2=\"2140.6\" y2=\"729.986\" style=\"stroke:#009af9; stroke-width:3.2; stroke-opacity:1\"/>\n",
       "<line clip-path=\"url(#clip983)\" x1=\"2140.6\" y1=\"745.986\" x2=\"2124.6\" y2=\"745.986\" style=\"stroke:#009af9; stroke-width:3.2; stroke-opacity:1\"/>\n",
       "<line clip-path=\"url(#clip983)\" x1=\"2140.6\" y1=\"745.986\" x2=\"2140.6\" y2=\"761.986\" style=\"stroke:#009af9; stroke-width:3.2; stroke-opacity:1\"/>\n",
       "<line clip-path=\"url(#clip983)\" x1=\"2140.6\" y1=\"745.986\" x2=\"2156.6\" y2=\"745.986\" style=\"stroke:#009af9; stroke-width:3.2; stroke-opacity:1\"/>\n",
       "<line clip-path=\"url(#clip983)\" x1=\"2216.92\" y1=\"589.33\" x2=\"2216.92\" y2=\"573.33\" style=\"stroke:#009af9; stroke-width:3.2; stroke-opacity:1\"/>\n",
       "<line clip-path=\"url(#clip983)\" x1=\"2216.92\" y1=\"589.33\" x2=\"2200.92\" y2=\"589.33\" style=\"stroke:#009af9; stroke-width:3.2; stroke-opacity:1\"/>\n",
       "<line clip-path=\"url(#clip983)\" x1=\"2216.92\" y1=\"589.33\" x2=\"2216.92\" y2=\"605.33\" style=\"stroke:#009af9; stroke-width:3.2; stroke-opacity:1\"/>\n",
       "<line clip-path=\"url(#clip983)\" x1=\"2216.92\" y1=\"589.33\" x2=\"2232.92\" y2=\"589.33\" style=\"stroke:#009af9; stroke-width:3.2; stroke-opacity:1\"/>\n",
       "<line clip-path=\"url(#clip983)\" x1=\"2293.23\" y1=\"589.33\" x2=\"2293.23\" y2=\"573.33\" style=\"stroke:#009af9; stroke-width:3.2; stroke-opacity:1\"/>\n",
       "<line clip-path=\"url(#clip983)\" x1=\"2293.23\" y1=\"589.33\" x2=\"2277.23\" y2=\"589.33\" style=\"stroke:#009af9; stroke-width:3.2; stroke-opacity:1\"/>\n",
       "<line clip-path=\"url(#clip983)\" x1=\"2293.23\" y1=\"589.33\" x2=\"2293.23\" y2=\"605.33\" style=\"stroke:#009af9; stroke-width:3.2; stroke-opacity:1\"/>\n",
       "<line clip-path=\"url(#clip983)\" x1=\"2293.23\" y1=\"589.33\" x2=\"2309.23\" y2=\"589.33\" style=\"stroke:#009af9; stroke-width:3.2; stroke-opacity:1\"/>\n",
       "<polyline clip-path=\"url(#clip983)\" style=\"stroke:#ff0000; stroke-linecap:round; stroke-linejoin:round; stroke-width:20; stroke-opacity:0.3; fill:none\" points=\"309.067,589.33 309.067,589.33 385.381,589.33 385.381,589.33 461.695,589.33 461.695,589.33 538.009,589.33 538.009,589.33 614.323,589.33 614.323,589.33 690.637,589.33 690.637,589.33 766.951,589.33 766.951,710.253 843.265,710.253 843.265,763.579 919.579,763.579 919.579,659.459 995.893,659.459 995.893,589.33 1072.21,589.33 1072.21,589.33 1148.52,589.33 1148.52,591.683 1224.83,591.683 1224.83,675.864 1301.15,675.864 1301.15,589.33 1377.46,589.33 1377.46,617.904 1453.78,617.904 1453.78,834.539 1530.09,834.539 1530.09,609.892 1606.4,609.892 1606.4,589.33 1682.72,589.33 1682.72,589.33 1759.03,589.33 1759.03,589.33 1835.35,589.33 1835.35,589.33 1911.66,589.33 1911.66,589.33 1987.97,589.33 1987.97,881.093 2064.29,881.093 2064.29,745.986 2140.6,745.986 2140.6,589.33 2216.92,589.33 2216.92,589.33 2293.23,589.33 \"/>\n",
       "<circle clip-path=\"url(#clip983)\" cx=\"309.067\" cy=\"589.33\" r=\"14.4\" fill=\"#e26f46\" fill-rule=\"evenodd\" fill-opacity=\"1\" stroke=\"#000000\" stroke-opacity=\"1\" stroke-width=\"3.2\"/>\n",
       "<circle clip-path=\"url(#clip983)\" cx=\"385.381\" cy=\"589.33\" r=\"14.4\" fill=\"#e26f46\" fill-rule=\"evenodd\" fill-opacity=\"1\" stroke=\"#000000\" stroke-opacity=\"1\" stroke-width=\"3.2\"/>\n",
       "<circle clip-path=\"url(#clip983)\" cx=\"461.695\" cy=\"589.33\" r=\"14.4\" fill=\"#e26f46\" fill-rule=\"evenodd\" fill-opacity=\"1\" stroke=\"#000000\" stroke-opacity=\"1\" stroke-width=\"3.2\"/>\n",
       "<circle clip-path=\"url(#clip983)\" cx=\"538.009\" cy=\"589.33\" r=\"14.4\" fill=\"#e26f46\" fill-rule=\"evenodd\" fill-opacity=\"1\" stroke=\"#000000\" stroke-opacity=\"1\" stroke-width=\"3.2\"/>\n",
       "<circle clip-path=\"url(#clip983)\" cx=\"614.323\" cy=\"589.33\" r=\"14.4\" fill=\"#e26f46\" fill-rule=\"evenodd\" fill-opacity=\"1\" stroke=\"#000000\" stroke-opacity=\"1\" stroke-width=\"3.2\"/>\n",
       "<circle clip-path=\"url(#clip983)\" cx=\"690.637\" cy=\"589.33\" r=\"14.4\" fill=\"#e26f46\" fill-rule=\"evenodd\" fill-opacity=\"1\" stroke=\"#000000\" stroke-opacity=\"1\" stroke-width=\"3.2\"/>\n",
       "<circle clip-path=\"url(#clip983)\" cx=\"766.951\" cy=\"589.33\" r=\"14.4\" fill=\"#e26f46\" fill-rule=\"evenodd\" fill-opacity=\"1\" stroke=\"#000000\" stroke-opacity=\"1\" stroke-width=\"3.2\"/>\n",
       "<circle clip-path=\"url(#clip983)\" cx=\"843.265\" cy=\"589.33\" r=\"14.4\" fill=\"#e26f46\" fill-rule=\"evenodd\" fill-opacity=\"1\" stroke=\"#000000\" stroke-opacity=\"1\" stroke-width=\"3.2\"/>\n",
       "<circle clip-path=\"url(#clip983)\" cx=\"919.579\" cy=\"881.094\" r=\"14.4\" fill=\"#e26f46\" fill-rule=\"evenodd\" fill-opacity=\"1\" stroke=\"#000000\" stroke-opacity=\"1\" stroke-width=\"3.2\"/>\n",
       "<circle clip-path=\"url(#clip983)\" cx=\"995.893\" cy=\"589.33\" r=\"14.4\" fill=\"#e26f46\" fill-rule=\"evenodd\" fill-opacity=\"1\" stroke=\"#000000\" stroke-opacity=\"1\" stroke-width=\"3.2\"/>\n",
       "<circle clip-path=\"url(#clip983)\" cx=\"1072.21\" cy=\"589.33\" r=\"14.4\" fill=\"#e26f46\" fill-rule=\"evenodd\" fill-opacity=\"1\" stroke=\"#000000\" stroke-opacity=\"1\" stroke-width=\"3.2\"/>\n",
       "<circle clip-path=\"url(#clip983)\" cx=\"1148.52\" cy=\"704.224\" r=\"14.4\" fill=\"#e26f46\" fill-rule=\"evenodd\" fill-opacity=\"1\" stroke=\"#000000\" stroke-opacity=\"1\" stroke-width=\"3.2\"/>\n",
       "<circle clip-path=\"url(#clip983)\" cx=\"1224.83\" cy=\"589.33\" r=\"14.4\" fill=\"#e26f46\" fill-rule=\"evenodd\" fill-opacity=\"1\" stroke=\"#000000\" stroke-opacity=\"1\" stroke-width=\"3.2\"/>\n",
       "<circle clip-path=\"url(#clip983)\" cx=\"1301.15\" cy=\"589.33\" r=\"14.4\" fill=\"#e26f46\" fill-rule=\"evenodd\" fill-opacity=\"1\" stroke=\"#000000\" stroke-opacity=\"1\" stroke-width=\"3.2\"/>\n",
       "<circle clip-path=\"url(#clip983)\" cx=\"1377.46\" cy=\"589.33\" r=\"14.4\" fill=\"#e26f46\" fill-rule=\"evenodd\" fill-opacity=\"1\" stroke=\"#000000\" stroke-opacity=\"1\" stroke-width=\"3.2\"/>\n",
       "<circle clip-path=\"url(#clip983)\" cx=\"1453.78\" cy=\"658.604\" r=\"14.4\" fill=\"#e26f46\" fill-rule=\"evenodd\" fill-opacity=\"1\" stroke=\"#000000\" stroke-opacity=\"1\" stroke-width=\"3.2\"/>\n",
       "<circle clip-path=\"url(#clip983)\" cx=\"1530.09\" cy=\"662.933\" r=\"14.4\" fill=\"#e26f46\" fill-rule=\"evenodd\" fill-opacity=\"1\" stroke=\"#000000\" stroke-opacity=\"1\" stroke-width=\"3.2\"/>\n",
       "<circle clip-path=\"url(#clip983)\" cx=\"1606.4\" cy=\"798.286\" r=\"14.4\" fill=\"#e26f46\" fill-rule=\"evenodd\" fill-opacity=\"1\" stroke=\"#000000\" stroke-opacity=\"1\" stroke-width=\"3.2\"/>\n",
       "<circle clip-path=\"url(#clip983)\" cx=\"1682.72\" cy=\"589.33\" r=\"14.4\" fill=\"#e26f46\" fill-rule=\"evenodd\" fill-opacity=\"1\" stroke=\"#000000\" stroke-opacity=\"1\" stroke-width=\"3.2\"/>\n",
       "<circle clip-path=\"url(#clip983)\" cx=\"1759.03\" cy=\"589.33\" r=\"14.4\" fill=\"#e26f46\" fill-rule=\"evenodd\" fill-opacity=\"1\" stroke=\"#000000\" stroke-opacity=\"1\" stroke-width=\"3.2\"/>\n",
       "<circle clip-path=\"url(#clip983)\" cx=\"1835.35\" cy=\"589.33\" r=\"14.4\" fill=\"#e26f46\" fill-rule=\"evenodd\" fill-opacity=\"1\" stroke=\"#000000\" stroke-opacity=\"1\" stroke-width=\"3.2\"/>\n",
       "<circle clip-path=\"url(#clip983)\" cx=\"1911.66\" cy=\"589.33\" r=\"14.4\" fill=\"#e26f46\" fill-rule=\"evenodd\" fill-opacity=\"1\" stroke=\"#000000\" stroke-opacity=\"1\" stroke-width=\"3.2\"/>\n",
       "<circle clip-path=\"url(#clip983)\" cx=\"1987.97\" cy=\"589.33\" r=\"14.4\" fill=\"#e26f46\" fill-rule=\"evenodd\" fill-opacity=\"1\" stroke=\"#000000\" stroke-opacity=\"1\" stroke-width=\"3.2\"/>\n",
       "<circle clip-path=\"url(#clip983)\" cx=\"2064.29\" cy=\"589.33\" r=\"14.4\" fill=\"#e26f46\" fill-rule=\"evenodd\" fill-opacity=\"1\" stroke=\"#000000\" stroke-opacity=\"1\" stroke-width=\"3.2\"/>\n",
       "<circle clip-path=\"url(#clip983)\" cx=\"2140.6\" cy=\"881.094\" r=\"14.4\" fill=\"#e26f46\" fill-rule=\"evenodd\" fill-opacity=\"1\" stroke=\"#000000\" stroke-opacity=\"1\" stroke-width=\"3.2\"/>\n",
       "<circle clip-path=\"url(#clip983)\" cx=\"2216.92\" cy=\"824.113\" r=\"14.4\" fill=\"#e26f46\" fill-rule=\"evenodd\" fill-opacity=\"1\" stroke=\"#000000\" stroke-opacity=\"1\" stroke-width=\"3.2\"/>\n",
       "<circle clip-path=\"url(#clip983)\" cx=\"2293.23\" cy=\"589.33\" r=\"14.4\" fill=\"#e26f46\" fill-rule=\"evenodd\" fill-opacity=\"1\" stroke=\"#000000\" stroke-opacity=\"1\" stroke-width=\"3.2\"/>\n",
       "<polyline clip-path=\"url(#clip983)\" style=\"stroke:#80007f; stroke-linecap:round; stroke-linejoin:round; stroke-width:20; stroke-opacity:0.3; fill:none\" points=\"309.067,589.33 309.067,589.33 385.381,589.33 461.695,589.33 538.009,589.33 614.323,589.33 690.637,589.33 690.637,589.33 766.951,589.33 766.951,589.33 843.265,589.33 843.265,881.094 919.579,881.094 919.579,589.33 995.893,589.33 1072.21,589.33 1072.21,704.224 1148.52,704.224 1148.52,589.33 1224.83,589.33 1301.15,589.33 1377.46,589.33 1377.46,658.604 1453.78,658.604 1453.78,662.933 1530.09,662.933 1530.09,798.286 1606.4,798.286 1606.4,589.33 1682.72,589.33 1759.03,589.33 1835.35,589.33 1911.66,589.33 1987.97,589.33 2064.29,589.33 2064.29,881.094 2140.6,881.094 2140.6,824.113 2216.92,824.113 2216.92,589.33 2293.23,589.33 \"/>\n",
       "<path clip-path=\"url(#clip983)\" d=\"M309.067 573.33 L293.067 589.33 L309.067 605.33 L325.067 589.33 L309.067 573.33 Z\" fill=\"#3da44d\" fill-rule=\"evenodd\" fill-opacity=\"1\" stroke=\"#000000\" stroke-opacity=\"1\" stroke-width=\"3.2\"/>\n",
       "<path clip-path=\"url(#clip983)\" d=\"M385.381 573.33 L369.381 589.33 L385.381 605.33 L401.381 589.33 L385.381 573.33 Z\" fill=\"#3da44d\" fill-rule=\"evenodd\" fill-opacity=\"1\" stroke=\"#000000\" stroke-opacity=\"1\" stroke-width=\"3.2\"/>\n",
       "<path clip-path=\"url(#clip983)\" d=\"M461.695 573.33 L445.695 589.33 L461.695 605.33 L477.695 589.33 L461.695 573.33 Z\" fill=\"#3da44d\" fill-rule=\"evenodd\" fill-opacity=\"1\" stroke=\"#000000\" stroke-opacity=\"1\" stroke-width=\"3.2\"/>\n",
       "<path clip-path=\"url(#clip983)\" d=\"M538.009 573.33 L522.009 589.33 L538.009 605.33 L554.009 589.33 L538.009 573.33 Z\" fill=\"#3da44d\" fill-rule=\"evenodd\" fill-opacity=\"1\" stroke=\"#000000\" stroke-opacity=\"1\" stroke-width=\"3.2\"/>\n",
       "<path clip-path=\"url(#clip983)\" d=\"M614.323 573.33 L598.323 589.33 L614.323 605.33 L630.323 589.33 L614.323 573.33 Z\" fill=\"#3da44d\" fill-rule=\"evenodd\" fill-opacity=\"1\" stroke=\"#000000\" stroke-opacity=\"1\" stroke-width=\"3.2\"/>\n",
       "<path clip-path=\"url(#clip983)\" d=\"M690.637 573.331 L674.637 589.331 L690.637 605.331 L706.637 589.331 L690.637 573.331 Z\" fill=\"#3da44d\" fill-rule=\"evenodd\" fill-opacity=\"1\" stroke=\"#000000\" stroke-opacity=\"1\" stroke-width=\"3.2\"/>\n",
       "<path clip-path=\"url(#clip983)\" d=\"M766.951 573.331 L750.951 589.331 L766.951 605.331 L782.951 589.331 L766.951 573.331 Z\" fill=\"#3da44d\" fill-rule=\"evenodd\" fill-opacity=\"1\" stroke=\"#000000\" stroke-opacity=\"1\" stroke-width=\"3.2\"/>\n",
       "<path clip-path=\"url(#clip983)\" d=\"M843.265 573.331 L827.265 589.331 L843.265 605.331 L859.265 589.331 L843.265 573.331 Z\" fill=\"#3da44d\" fill-rule=\"evenodd\" fill-opacity=\"1\" stroke=\"#000000\" stroke-opacity=\"1\" stroke-width=\"3.2\"/>\n",
       "<path clip-path=\"url(#clip983)\" d=\"M919.579 865.051 L903.579 881.051 L919.579 897.051 L935.579 881.051 L919.579 865.051 Z\" fill=\"#3da44d\" fill-rule=\"evenodd\" fill-opacity=\"1\" stroke=\"#000000\" stroke-opacity=\"1\" stroke-width=\"3.2\"/>\n",
       "<path clip-path=\"url(#clip983)\" d=\"M995.893 573.333 L979.893 589.333 L995.893 605.333 L1011.89 589.333 L995.893 573.333 Z\" fill=\"#3da44d\" fill-rule=\"evenodd\" fill-opacity=\"1\" stroke=\"#000000\" stroke-opacity=\"1\" stroke-width=\"3.2\"/>\n",
       "<path clip-path=\"url(#clip983)\" d=\"M1072.21 573.334 L1056.21 589.334 L1072.21 605.334 L1088.21 589.334 L1072.21 573.334 Z\" fill=\"#3da44d\" fill-rule=\"evenodd\" fill-opacity=\"1\" stroke=\"#000000\" stroke-opacity=\"1\" stroke-width=\"3.2\"/>\n",
       "<path clip-path=\"url(#clip983)\" d=\"M1148.52 688.227 L1132.52 704.227 L1148.52 720.227 L1164.52 704.227 L1148.52 688.227 Z\" fill=\"#3da44d\" fill-rule=\"evenodd\" fill-opacity=\"1\" stroke=\"#000000\" stroke-opacity=\"1\" stroke-width=\"3.2\"/>\n",
       "<path clip-path=\"url(#clip983)\" d=\"M1224.83 573.366 L1208.83 589.366 L1224.83 605.366 L1240.83 589.366 L1224.83 573.366 Z\" fill=\"#3da44d\" fill-rule=\"evenodd\" fill-opacity=\"1\" stroke=\"#000000\" stroke-opacity=\"1\" stroke-width=\"3.2\"/>\n",
       "<path clip-path=\"url(#clip983)\" d=\"M1301.15 573.354 L1285.15 589.354 L1301.15 605.354 L1317.15 589.354 L1301.15 573.354 Z\" fill=\"#3da44d\" fill-rule=\"evenodd\" fill-opacity=\"1\" stroke=\"#000000\" stroke-opacity=\"1\" stroke-width=\"3.2\"/>\n",
       "<path clip-path=\"url(#clip983)\" d=\"M1377.46 573.392 L1361.46 589.392 L1377.46 605.392 L1393.46 589.392 L1377.46 573.392 Z\" fill=\"#3da44d\" fill-rule=\"evenodd\" fill-opacity=\"1\" stroke=\"#000000\" stroke-opacity=\"1\" stroke-width=\"3.2\"/>\n",
       "<path clip-path=\"url(#clip983)\" d=\"M1453.78 642.241 L1437.78 658.241 L1453.78 674.241 L1469.78 658.241 L1453.78 642.241 Z\" fill=\"#3da44d\" fill-rule=\"evenodd\" fill-opacity=\"1\" stroke=\"#000000\" stroke-opacity=\"1\" stroke-width=\"3.2\"/>\n",
       "<path clip-path=\"url(#clip983)\" d=\"M1530.09 647.413 L1514.09 663.413 L1530.09 679.413 L1546.09 663.413 L1530.09 647.413 Z\" fill=\"#3da44d\" fill-rule=\"evenodd\" fill-opacity=\"1\" stroke=\"#000000\" stroke-opacity=\"1\" stroke-width=\"3.2\"/>\n",
       "<path clip-path=\"url(#clip983)\" d=\"M1606.4 782.002 L1590.4 798.002 L1606.4 814.002 L1622.4 798.002 L1606.4 782.002 Z\" fill=\"#3da44d\" fill-rule=\"evenodd\" fill-opacity=\"1\" stroke=\"#000000\" stroke-opacity=\"1\" stroke-width=\"3.2\"/>\n",
       "<path clip-path=\"url(#clip983)\" d=\"M1682.72 573.372 L1666.72 589.372 L1682.72 605.372 L1698.72 589.372 L1682.72 573.372 Z\" fill=\"#3da44d\" fill-rule=\"evenodd\" fill-opacity=\"1\" stroke=\"#000000\" stroke-opacity=\"1\" stroke-width=\"3.2\"/>\n",
       "<path clip-path=\"url(#clip983)\" d=\"M1759.03 573.337 L1743.03 589.337 L1759.03 605.337 L1775.03 589.337 L1759.03 573.337 Z\" fill=\"#3da44d\" fill-rule=\"evenodd\" fill-opacity=\"1\" stroke=\"#000000\" stroke-opacity=\"1\" stroke-width=\"3.2\"/>\n",
       "<path clip-path=\"url(#clip983)\" d=\"M1835.35 573.334 L1819.35 589.334 L1835.35 605.334 L1851.35 589.334 L1835.35 573.334 Z\" fill=\"#3da44d\" fill-rule=\"evenodd\" fill-opacity=\"1\" stroke=\"#000000\" stroke-opacity=\"1\" stroke-width=\"3.2\"/>\n",
       "<path clip-path=\"url(#clip983)\" d=\"M1911.66 573.335 L1895.66 589.335 L1911.66 605.335 L1927.66 589.335 L1911.66 573.335 Z\" fill=\"#3da44d\" fill-rule=\"evenodd\" fill-opacity=\"1\" stroke=\"#000000\" stroke-opacity=\"1\" stroke-width=\"3.2\"/>\n",
       "<path clip-path=\"url(#clip983)\" d=\"M1987.97 573.338 L1971.97 589.338 L1987.97 605.338 L2003.97 589.338 L1987.97 573.338 Z\" fill=\"#3da44d\" fill-rule=\"evenodd\" fill-opacity=\"1\" stroke=\"#000000\" stroke-opacity=\"1\" stroke-width=\"3.2\"/>\n",
       "<path clip-path=\"url(#clip983)\" d=\"M2064.29 573.419 L2048.29 589.419 L2064.29 605.419 L2080.29 589.419 L2064.29 573.419 Z\" fill=\"#3da44d\" fill-rule=\"evenodd\" fill-opacity=\"1\" stroke=\"#000000\" stroke-opacity=\"1\" stroke-width=\"3.2\"/>\n",
       "<path clip-path=\"url(#clip983)\" d=\"M2140.6 865.058 L2124.6 881.058 L2140.6 897.058 L2156.6 881.058 L2140.6 865.058 Z\" fill=\"#3da44d\" fill-rule=\"evenodd\" fill-opacity=\"1\" stroke=\"#000000\" stroke-opacity=\"1\" stroke-width=\"3.2\"/>\n",
       "<path clip-path=\"url(#clip983)\" d=\"M2216.92 807.972 L2200.92 823.972 L2216.92 839.972 L2232.92 823.972 L2216.92 807.972 Z\" fill=\"#3da44d\" fill-rule=\"evenodd\" fill-opacity=\"1\" stroke=\"#000000\" stroke-opacity=\"1\" stroke-width=\"3.2\"/>\n",
       "<path clip-path=\"url(#clip983)\" d=\"M2293.23 573.362 L2277.23 589.362 L2293.23 605.362 L2309.23 589.362 L2293.23 573.362 Z\" fill=\"#3da44d\" fill-rule=\"evenodd\" fill-opacity=\"1\" stroke=\"#000000\" stroke-opacity=\"1\" stroke-width=\"3.2\"/>\n",
       "<polyline clip-path=\"url(#clip983)\" style=\"stroke:#0000ff; stroke-linecap:round; stroke-linejoin:round; stroke-width:20; stroke-opacity:0.3; fill:none\" points=\"309.067,589.33 309.067,589.33 385.381,589.33 385.381,589.33 461.695,589.33 461.695,589.33 538.009,589.33 538.009,589.33 614.323,589.33 614.323,589.331 690.637,589.331 690.637,589.331 766.951,589.331 766.951,589.331 843.265,589.331 843.265,881.051 919.579,881.051 919.579,589.333 995.893,589.333 995.893,589.334 1072.21,589.334 1072.21,704.227 1148.52,704.227 1148.52,589.366 1224.83,589.366 1224.83,589.354 1301.15,589.354 1301.15,589.392 1377.46,589.392 1377.46,658.241 1453.78,658.241 1453.78,663.413 1530.09,663.413 1530.09,798.002 1606.4,798.002 1606.4,589.372 1682.72,589.372 1682.72,589.337 1759.03,589.337 1759.03,589.334 1835.35,589.334 1835.35,589.335 1911.66,589.335 1911.66,589.338 1987.97,589.338 1987.97,589.419 2064.29,589.419 2064.29,881.058 2140.6,881.058 2140.6,823.972 2216.92,823.972 2216.92,589.362 2293.23,589.362 \"/>\n",
       "<path clip-path=\"url(#clip980)\" d=\"M249.542 1423.18 L2352.76 1423.18 L2352.76 1113.91 L249.542 1113.91  Z\" fill=\"#ffffff\" fill-rule=\"evenodd\" fill-opacity=\"1\"/>\n",
       "<defs>\n",
       "  <clipPath id=\"clip984\">\n",
       "    <rect x=\"249\" y=\"1113\" width=\"2104\" height=\"310\"/>\n",
       "  </clipPath>\n",
       "</defs>\n",
       "<polyline clip-path=\"url(#clip984)\" style=\"stroke:#000000; stroke-linecap:round; stroke-linejoin:round; stroke-width:8; stroke-opacity:0.1; fill:none\" points=\"614.323,1423.18 614.323,1113.91 \"/>\n",
       "<polyline clip-path=\"url(#clip984)\" style=\"stroke:#000000; stroke-linecap:round; stroke-linejoin:round; stroke-width:8; stroke-opacity:0.1; fill:none\" points=\"995.893,1423.18 995.893,1113.91 \"/>\n",
       "<polyline clip-path=\"url(#clip984)\" style=\"stroke:#000000; stroke-linecap:round; stroke-linejoin:round; stroke-width:8; stroke-opacity:0.1; fill:none\" points=\"1377.46,1423.18 1377.46,1113.91 \"/>\n",
       "<polyline clip-path=\"url(#clip984)\" style=\"stroke:#000000; stroke-linecap:round; stroke-linejoin:round; stroke-width:8; stroke-opacity:0.1; fill:none\" points=\"1759.03,1423.18 1759.03,1113.91 \"/>\n",
       "<polyline clip-path=\"url(#clip984)\" style=\"stroke:#000000; stroke-linecap:round; stroke-linejoin:round; stroke-width:8; stroke-opacity:0.1; fill:none\" points=\"2140.6,1423.18 2140.6,1113.91 \"/>\n",
       "<polyline clip-path=\"url(#clip980)\" style=\"stroke:#000000; stroke-linecap:round; stroke-linejoin:round; stroke-width:4; stroke-opacity:1; fill:none\" points=\"249.542,1423.18 2352.76,1423.18 \"/>\n",
       "<polyline clip-path=\"url(#clip980)\" style=\"stroke:#000000; stroke-linecap:round; stroke-linejoin:round; stroke-width:4; stroke-opacity:1; fill:none\" points=\"614.323,1423.18 614.323,1404.28 \"/>\n",
       "<polyline clip-path=\"url(#clip980)\" style=\"stroke:#000000; stroke-linecap:round; stroke-linejoin:round; stroke-width:4; stroke-opacity:1; fill:none\" points=\"995.893,1423.18 995.893,1404.28 \"/>\n",
       "<polyline clip-path=\"url(#clip980)\" style=\"stroke:#000000; stroke-linecap:round; stroke-linejoin:round; stroke-width:4; stroke-opacity:1; fill:none\" points=\"1377.46,1423.18 1377.46,1404.28 \"/>\n",
       "<polyline clip-path=\"url(#clip980)\" style=\"stroke:#000000; stroke-linecap:round; stroke-linejoin:round; stroke-width:4; stroke-opacity:1; fill:none\" points=\"1759.03,1423.18 1759.03,1404.28 \"/>\n",
       "<polyline clip-path=\"url(#clip980)\" style=\"stroke:#000000; stroke-linecap:round; stroke-linejoin:round; stroke-width:4; stroke-opacity:1; fill:none\" points=\"2140.6,1423.18 2140.6,1404.28 \"/>\n",
       "<path clip-path=\"url(#clip980)\" d=\"M604.601 1451.02 L622.957 1451.02 L622.957 1454.96 L608.883 1454.96 L608.883 1463.43 Q609.902 1463.08 610.92 1462.92 Q611.939 1462.73 612.957 1462.73 Q618.744 1462.73 622.124 1465.9 Q625.503 1469.08 625.503 1474.49 Q625.503 1480.07 622.031 1483.17 Q618.559 1486.25 612.24 1486.25 Q610.064 1486.25 607.795 1485.88 Q605.55 1485.51 603.142 1484.77 L603.142 1480.07 Q605.226 1481.2 607.448 1481.76 Q609.67 1482.32 612.147 1482.32 Q616.152 1482.32 618.49 1480.21 Q620.828 1478.1 620.828 1474.49 Q620.828 1470.88 618.49 1468.77 Q616.152 1466.67 612.147 1466.67 Q610.272 1466.67 608.397 1467.08 Q606.545 1467.5 604.601 1468.38 L604.601 1451.02 Z\" fill=\"#000000\" fill-rule=\"evenodd\" fill-opacity=\"1\" /><path clip-path=\"url(#clip980)\" d=\"M970.581 1481.64 L978.219 1481.64 L978.219 1455.28 L969.909 1456.95 L969.909 1452.69 L978.173 1451.02 L982.849 1451.02 L982.849 1481.64 L990.488 1481.64 L990.488 1485.58 L970.581 1485.58 L970.581 1481.64 Z\" fill=\"#000000\" fill-rule=\"evenodd\" fill-opacity=\"1\" /><path clip-path=\"url(#clip980)\" d=\"M1009.93 1454.1 Q1006.32 1454.1 1004.49 1457.66 Q1002.69 1461.2 1002.69 1468.33 Q1002.69 1475.44 1004.49 1479.01 Q1006.32 1482.55 1009.93 1482.55 Q1013.57 1482.55 1015.37 1479.01 Q1017.2 1475.44 1017.2 1468.33 Q1017.2 1461.2 1015.37 1457.66 Q1013.57 1454.1 1009.93 1454.1 M1009.93 1450.39 Q1015.74 1450.39 1018.8 1455 Q1021.88 1459.58 1021.88 1468.33 Q1021.88 1477.06 1018.8 1481.67 Q1015.74 1486.25 1009.93 1486.25 Q1004.12 1486.25 1001.04 1481.67 Q997.988 1477.06 997.988 1468.33 Q997.988 1459.58 1001.04 1455 Q1004.12 1450.39 1009.93 1450.39 Z\" fill=\"#000000\" fill-rule=\"evenodd\" fill-opacity=\"1\" /><path clip-path=\"url(#clip980)\" d=\"M1352.65 1481.64 L1360.29 1481.64 L1360.29 1455.28 L1351.98 1456.95 L1351.98 1452.69 L1360.24 1451.02 L1364.92 1451.02 L1364.92 1481.64 L1372.56 1481.64 L1372.56 1485.58 L1352.65 1485.58 L1352.65 1481.64 Z\" fill=\"#000000\" fill-rule=\"evenodd\" fill-opacity=\"1\" /><path clip-path=\"url(#clip980)\" d=\"M1382.05 1451.02 L1400.4 1451.02 L1400.4 1454.96 L1386.33 1454.96 L1386.33 1463.43 Q1387.35 1463.08 1388.37 1462.92 Q1389.38 1462.73 1390.4 1462.73 Q1396.19 1462.73 1399.57 1465.9 Q1402.95 1469.08 1402.95 1474.49 Q1402.95 1480.07 1399.48 1483.17 Q1396 1486.25 1389.69 1486.25 Q1387.51 1486.25 1385.24 1485.88 Q1383 1485.51 1380.59 1484.77 L1380.59 1480.07 Q1382.67 1481.2 1384.89 1481.76 Q1387.12 1482.32 1389.59 1482.32 Q1393.6 1482.32 1395.94 1480.21 Q1398.27 1478.1 1398.27 1474.49 Q1398.27 1470.88 1395.94 1468.77 Q1393.6 1466.67 1389.59 1466.67 Q1387.72 1466.67 1385.84 1467.08 Q1383.99 1467.5 1382.05 1468.38 L1382.05 1451.02 Z\" fill=\"#000000\" fill-rule=\"evenodd\" fill-opacity=\"1\" /><path clip-path=\"url(#clip980)\" d=\"M1737.81 1481.64 L1754.13 1481.64 L1754.13 1485.58 L1732.18 1485.58 L1732.18 1481.64 Q1734.84 1478.89 1739.43 1474.26 Q1744.03 1469.61 1745.21 1468.27 Q1747.46 1465.74 1748.34 1464.01 Q1749.24 1462.25 1749.24 1460.56 Q1749.24 1457.8 1747.3 1456.07 Q1745.38 1454.33 1742.27 1454.33 Q1740.07 1454.33 1737.62 1455.09 Q1735.19 1455.86 1732.41 1457.41 L1732.41 1452.69 Q1735.24 1451.55 1737.69 1450.97 Q1740.14 1450.39 1742.18 1450.39 Q1747.55 1450.39 1750.75 1453.08 Q1753.94 1455.77 1753.94 1460.26 Q1753.94 1462.39 1753.13 1464.31 Q1752.34 1466.2 1750.24 1468.8 Q1749.66 1469.47 1746.56 1472.69 Q1743.45 1475.88 1737.81 1481.64 Z\" fill=\"#000000\" fill-rule=\"evenodd\" fill-opacity=\"1\" /><path clip-path=\"url(#clip980)\" d=\"M1773.94 1454.1 Q1770.33 1454.1 1768.5 1457.66 Q1766.69 1461.2 1766.69 1468.33 Q1766.69 1475.44 1768.5 1479.01 Q1770.33 1482.55 1773.94 1482.55 Q1777.57 1482.55 1779.38 1479.01 Q1781.21 1475.44 1781.21 1468.33 Q1781.21 1461.2 1779.38 1457.66 Q1777.57 1454.1 1773.94 1454.1 M1773.94 1450.39 Q1779.75 1450.39 1782.81 1455 Q1785.88 1459.58 1785.88 1468.33 Q1785.88 1477.06 1782.81 1481.67 Q1779.75 1486.25 1773.94 1486.25 Q1768.13 1486.25 1765.05 1481.67 Q1762 1477.06 1762 1468.33 Q1762 1459.58 1765.05 1455 Q1768.13 1450.39 1773.94 1450.39 Z\" fill=\"#000000\" fill-rule=\"evenodd\" fill-opacity=\"1\" /><path clip-path=\"url(#clip980)\" d=\"M2119.87 1481.64 L2136.19 1481.64 L2136.19 1485.58 L2114.25 1485.58 L2114.25 1481.64 Q2116.91 1478.89 2121.49 1474.26 Q2126.1 1469.61 2127.28 1468.27 Q2129.53 1465.74 2130.41 1464.01 Q2131.31 1462.25 2131.31 1460.56 Q2131.31 1457.8 2129.36 1456.07 Q2127.44 1454.33 2124.34 1454.33 Q2122.14 1454.33 2119.69 1455.09 Q2117.26 1455.86 2114.48 1457.41 L2114.48 1452.69 Q2117.3 1451.55 2119.76 1450.97 Q2122.21 1450.39 2124.25 1450.39 Q2129.62 1450.39 2132.81 1453.08 Q2136.01 1455.77 2136.01 1460.26 Q2136.01 1462.39 2135.2 1464.31 Q2134.41 1466.2 2132.3 1468.8 Q2131.73 1469.47 2128.62 1472.69 Q2125.52 1475.88 2119.87 1481.64 Z\" fill=\"#000000\" fill-rule=\"evenodd\" fill-opacity=\"1\" /><path clip-path=\"url(#clip980)\" d=\"M2146.05 1451.02 L2164.41 1451.02 L2164.41 1454.96 L2150.34 1454.96 L2150.34 1463.43 Q2151.36 1463.08 2152.37 1462.92 Q2153.39 1462.73 2154.41 1462.73 Q2160.2 1462.73 2163.58 1465.9 Q2166.96 1469.08 2166.96 1474.49 Q2166.96 1480.07 2163.48 1483.17 Q2160.01 1486.25 2153.69 1486.25 Q2151.52 1486.25 2149.25 1485.88 Q2147 1485.51 2144.6 1484.77 L2144.6 1480.07 Q2146.68 1481.2 2148.9 1481.76 Q2151.12 1482.32 2153.6 1482.32 Q2157.61 1482.32 2159.94 1480.21 Q2162.28 1478.1 2162.28 1474.49 Q2162.28 1470.88 2159.94 1468.77 Q2157.61 1466.67 2153.6 1466.67 Q2151.73 1466.67 2149.85 1467.08 Q2148 1467.5 2146.05 1468.38 L2146.05 1451.02 Z\" fill=\"#000000\" fill-rule=\"evenodd\" fill-opacity=\"1\" /><path clip-path=\"url(#clip980)\" d=\"M1195.29 1522.27 L1195.29 1532.4 L1207.35 1532.4 L1207.35 1536.95 L1195.29 1536.95 L1195.29 1556.3 Q1195.29 1560.66 1196.46 1561.9 Q1197.67 1563.14 1201.33 1563.14 L1207.35 1563.14 L1207.35 1568.04 L1201.33 1568.04 Q1194.56 1568.04 1191.98 1565.53 Q1189.4 1562.98 1189.4 1556.3 L1189.4 1536.95 L1185.1 1536.95 L1185.1 1532.4 L1189.4 1532.4 L1189.4 1522.27 L1195.29 1522.27 Z\" fill=\"#000000\" fill-rule=\"evenodd\" fill-opacity=\"1\" /><path clip-path=\"url(#clip980)\" d=\"M1215.05 1532.4 L1220.91 1532.4 L1220.91 1568.04 L1215.05 1568.04 L1215.05 1532.4 M1215.05 1518.52 L1220.91 1518.52 L1220.91 1525.93 L1215.05 1525.93 L1215.05 1518.52 Z\" fill=\"#000000\" fill-rule=\"evenodd\" fill-opacity=\"1\" /><path clip-path=\"url(#clip980)\" d=\"M1260.92 1539.24 Q1263.11 1535.29 1266.17 1533.41 Q1269.22 1531.54 1273.36 1531.54 Q1278.93 1531.54 1281.96 1535.45 Q1284.98 1539.33 1284.98 1546.53 L1284.98 1568.04 L1279.09 1568.04 L1279.09 1546.72 Q1279.09 1541.59 1277.28 1539.11 Q1275.46 1536.63 1271.74 1536.63 Q1267.19 1536.63 1264.55 1539.65 Q1261.9 1542.68 1261.9 1547.9 L1261.9 1568.04 L1256.02 1568.04 L1256.02 1546.72 Q1256.02 1541.56 1254.2 1539.11 Q1252.39 1536.63 1248.6 1536.63 Q1244.11 1536.63 1241.47 1539.68 Q1238.83 1542.71 1238.83 1547.9 L1238.83 1568.04 L1232.94 1568.04 L1232.94 1532.4 L1238.83 1532.4 L1238.83 1537.93 Q1240.83 1534.66 1243.63 1533.1 Q1246.44 1531.54 1250.29 1531.54 Q1254.17 1531.54 1256.88 1533.51 Q1259.61 1535.48 1260.92 1539.24 Z\" fill=\"#000000\" fill-rule=\"evenodd\" fill-opacity=\"1\" /><path clip-path=\"url(#clip980)\" d=\"M1327.15 1548.76 L1327.15 1551.62 L1300.23 1551.62 Q1300.61 1557.67 1303.85 1560.85 Q1307.13 1564 1312.96 1564 Q1316.33 1564 1319.48 1563.17 Q1322.67 1562.35 1325.78 1560.69 L1325.78 1566.23 Q1322.63 1567.57 1319.32 1568.27 Q1316.01 1568.97 1312.61 1568.97 Q1304.08 1568.97 1299.08 1564 Q1294.11 1559.04 1294.11 1550.57 Q1294.11 1541.82 1298.83 1536.69 Q1303.57 1531.54 1311.59 1531.54 Q1318.78 1531.54 1322.95 1536.18 Q1327.15 1540.8 1327.15 1548.76 M1321.3 1547.04 Q1321.23 1542.23 1318.59 1539.37 Q1315.98 1536.5 1311.65 1536.5 Q1306.75 1536.5 1303.79 1539.27 Q1300.86 1542.04 1300.42 1547.07 L1321.3 1547.04 Z\" fill=\"#000000\" fill-rule=\"evenodd\" fill-opacity=\"1\" /><path clip-path=\"url(#clip980)\" d=\"M1336.22 1518.52 L1349.72 1518.52 L1349.72 1523.07 L1342.08 1523.07 L1342.08 1572.09 L1349.72 1572.09 L1349.72 1576.64 L1336.22 1576.64 L1336.22 1518.52 Z\" fill=\"#000000\" fill-rule=\"evenodd\" fill-opacity=\"1\" /><path clip-path=\"url(#clip980)\" d=\"M1391.83 1546.53 L1391.83 1568.04 L1385.97 1568.04 L1385.97 1546.72 Q1385.97 1541.66 1384 1539.14 Q1382.03 1536.63 1378.08 1536.63 Q1373.34 1536.63 1370.6 1539.65 Q1367.86 1542.68 1367.86 1547.9 L1367.86 1568.04 L1361.97 1568.04 L1361.97 1518.52 L1367.86 1518.52 L1367.86 1537.93 Q1369.96 1534.72 1372.79 1533.13 Q1375.66 1531.54 1379.38 1531.54 Q1385.53 1531.54 1388.68 1535.36 Q1391.83 1539.14 1391.83 1546.53 Z\" fill=\"#000000\" fill-rule=\"evenodd\" fill-opacity=\"1\" /><path clip-path=\"url(#clip980)\" d=\"M1417.2 1518.52 L1417.2 1576.64 L1403.7 1576.64 L1403.7 1572.09 L1411.31 1572.09 L1411.31 1523.07 L1403.7 1523.07 L1403.7 1518.52 L1417.2 1518.52 Z\" fill=\"#000000\" fill-rule=\"evenodd\" fill-opacity=\"1\" /><polyline clip-path=\"url(#clip984)\" style=\"stroke:#000000; stroke-linecap:round; stroke-linejoin:round; stroke-width:8; stroke-opacity:0.1; fill:none\" points=\"249.542,1414.43 2352.76,1414.43 \"/>\n",
       "<polyline clip-path=\"url(#clip984)\" style=\"stroke:#000000; stroke-linecap:round; stroke-linejoin:round; stroke-width:8; stroke-opacity:0.1; fill:none\" points=\"249.542,1353.64 2352.76,1353.64 \"/>\n",
       "<polyline clip-path=\"url(#clip984)\" style=\"stroke:#000000; stroke-linecap:round; stroke-linejoin:round; stroke-width:8; stroke-opacity:0.1; fill:none\" points=\"249.542,1292.86 2352.76,1292.86 \"/>\n",
       "<polyline clip-path=\"url(#clip984)\" style=\"stroke:#000000; stroke-linecap:round; stroke-linejoin:round; stroke-width:8; stroke-opacity:0.1; fill:none\" points=\"249.542,1232.07 2352.76,1232.07 \"/>\n",
       "<polyline clip-path=\"url(#clip984)\" style=\"stroke:#000000; stroke-linecap:round; stroke-linejoin:round; stroke-width:8; stroke-opacity:0.1; fill:none\" points=\"249.542,1171.29 2352.76,1171.29 \"/>\n",
       "<polyline clip-path=\"url(#clip980)\" style=\"stroke:#000000; stroke-linecap:round; stroke-linejoin:round; stroke-width:4; stroke-opacity:1; fill:none\" points=\"249.542,1423.18 249.542,1113.91 \"/>\n",
       "<polyline clip-path=\"url(#clip980)\" style=\"stroke:#000000; stroke-linecap:round; stroke-linejoin:round; stroke-width:4; stroke-opacity:1; fill:none\" points=\"249.542,1414.43 268.44,1414.43 \"/>\n",
       "<polyline clip-path=\"url(#clip980)\" style=\"stroke:#000000; stroke-linecap:round; stroke-linejoin:round; stroke-width:4; stroke-opacity:1; fill:none\" points=\"249.542,1353.64 268.44,1353.64 \"/>\n",
       "<polyline clip-path=\"url(#clip980)\" style=\"stroke:#000000; stroke-linecap:round; stroke-linejoin:round; stroke-width:4; stroke-opacity:1; fill:none\" points=\"249.542,1292.86 268.44,1292.86 \"/>\n",
       "<polyline clip-path=\"url(#clip980)\" style=\"stroke:#000000; stroke-linecap:round; stroke-linejoin:round; stroke-width:4; stroke-opacity:1; fill:none\" points=\"249.542,1232.07 268.44,1232.07 \"/>\n",
       "<polyline clip-path=\"url(#clip980)\" style=\"stroke:#000000; stroke-linecap:round; stroke-linejoin:round; stroke-width:4; stroke-opacity:1; fill:none\" points=\"249.542,1171.29 268.44,1171.29 \"/>\n",
       "<path clip-path=\"url(#clip980)\" d=\"M126.205 1400.23 Q122.593 1400.23 120.765 1403.79 Q118.959 1407.33 118.959 1414.46 Q118.959 1421.57 120.765 1425.13 Q122.593 1428.67 126.205 1428.67 Q129.839 1428.67 131.644 1425.13 Q133.473 1421.57 133.473 1414.46 Q133.473 1407.33 131.644 1403.79 Q129.839 1400.23 126.205 1400.23 M126.205 1396.52 Q132.015 1396.52 135.07 1401.13 Q138.149 1405.71 138.149 1414.46 Q138.149 1423.19 135.07 1427.79 Q132.015 1432.38 126.205 1432.38 Q120.394 1432.38 117.316 1427.79 Q114.26 1423.19 114.26 1414.46 Q114.26 1405.71 117.316 1401.13 Q120.394 1396.52 126.205 1396.52 Z\" fill=\"#000000\" fill-rule=\"evenodd\" fill-opacity=\"1\" /><path clip-path=\"url(#clip980)\" d=\"M146.366 1425.83 L151.251 1425.83 L151.251 1431.71 L146.366 1431.71 L146.366 1425.83 Z\" fill=\"#000000\" fill-rule=\"evenodd\" fill-opacity=\"1\" /><path clip-path=\"url(#clip980)\" d=\"M171.436 1400.23 Q167.825 1400.23 165.996 1403.79 Q164.19 1407.33 164.19 1414.46 Q164.19 1421.57 165.996 1425.13 Q167.825 1428.67 171.436 1428.67 Q175.07 1428.67 176.876 1425.13 Q178.704 1421.57 178.704 1414.46 Q178.704 1407.33 176.876 1403.79 Q175.07 1400.23 171.436 1400.23 M171.436 1396.52 Q177.246 1396.52 180.301 1401.13 Q183.38 1405.71 183.38 1414.46 Q183.38 1423.19 180.301 1427.79 Q177.246 1432.38 171.436 1432.38 Q165.626 1432.38 162.547 1427.79 Q159.491 1423.19 159.491 1414.46 Q159.491 1405.71 162.547 1401.13 Q165.626 1396.52 171.436 1396.52 Z\" fill=\"#000000\" fill-rule=\"evenodd\" fill-opacity=\"1\" /><path clip-path=\"url(#clip980)\" d=\"M201.598 1400.23 Q197.987 1400.23 196.158 1403.79 Q194.352 1407.33 194.352 1414.46 Q194.352 1421.57 196.158 1425.13 Q197.987 1428.67 201.598 1428.67 Q205.232 1428.67 207.037 1425.13 Q208.866 1421.57 208.866 1414.46 Q208.866 1407.33 207.037 1403.79 Q205.232 1400.23 201.598 1400.23 M201.598 1396.52 Q207.408 1396.52 210.463 1401.13 Q213.542 1405.71 213.542 1414.46 Q213.542 1423.19 210.463 1427.79 Q207.408 1432.38 201.598 1432.38 Q195.787 1432.38 192.709 1427.79 Q189.653 1423.19 189.653 1414.46 Q189.653 1405.71 192.709 1401.13 Q195.787 1396.52 201.598 1396.52 Z\" fill=\"#000000\" fill-rule=\"evenodd\" fill-opacity=\"1\" /><path clip-path=\"url(#clip980)\" d=\"M127.2 1339.44 Q123.589 1339.44 121.76 1343.01 Q119.955 1346.55 119.955 1353.68 Q119.955 1360.78 121.76 1364.35 Q123.589 1367.89 127.2 1367.89 Q130.834 1367.89 132.64 1364.35 Q134.468 1360.78 134.468 1353.68 Q134.468 1346.55 132.64 1343.01 Q130.834 1339.44 127.2 1339.44 M127.2 1335.74 Q133.01 1335.74 136.066 1340.34 Q139.144 1344.93 139.144 1353.68 Q139.144 1362.4 136.066 1367.01 Q133.01 1371.59 127.2 1371.59 Q121.39 1371.59 118.311 1367.01 Q115.256 1362.4 115.256 1353.68 Q115.256 1344.93 118.311 1340.34 Q121.39 1335.74 127.2 1335.74 Z\" fill=\"#000000\" fill-rule=\"evenodd\" fill-opacity=\"1\" /><path clip-path=\"url(#clip980)\" d=\"M147.362 1365.04 L152.246 1365.04 L152.246 1370.92 L147.362 1370.92 L147.362 1365.04 Z\" fill=\"#000000\" fill-rule=\"evenodd\" fill-opacity=\"1\" /><path clip-path=\"url(#clip980)\" d=\"M166.459 1366.99 L182.778 1366.99 L182.778 1370.92 L160.834 1370.92 L160.834 1366.99 Q163.496 1364.23 168.079 1359.6 Q172.686 1354.95 173.866 1353.61 Q176.112 1351.09 176.991 1349.35 Q177.894 1347.59 177.894 1345.9 Q177.894 1343.15 175.95 1341.41 Q174.028 1339.67 170.927 1339.67 Q168.727 1339.67 166.274 1340.44 Q163.843 1341.2 161.065 1342.75 L161.065 1338.03 Q163.89 1336.9 166.343 1336.32 Q168.797 1335.74 170.834 1335.74 Q176.204 1335.74 179.399 1338.42 Q182.593 1341.11 182.593 1345.6 Q182.593 1347.73 181.783 1349.65 Q180.996 1351.55 178.889 1354.14 Q178.311 1354.81 175.209 1358.03 Q172.107 1361.22 166.459 1366.99 Z\" fill=\"#000000\" fill-rule=\"evenodd\" fill-opacity=\"1\" /><path clip-path=\"url(#clip980)\" d=\"M192.639 1336.36 L210.996 1336.36 L210.996 1340.3 L196.922 1340.3 L196.922 1348.77 Q197.94 1348.42 198.959 1348.26 Q199.977 1348.08 200.996 1348.08 Q206.783 1348.08 210.162 1351.25 Q213.542 1354.42 213.542 1359.84 Q213.542 1365.41 210.07 1368.52 Q206.598 1371.59 200.278 1371.59 Q198.102 1371.59 195.834 1371.22 Q193.588 1370.85 191.181 1370.11 L191.181 1365.41 Q193.264 1366.55 195.487 1367.1 Q197.709 1367.66 200.186 1367.66 Q204.19 1367.66 206.528 1365.55 Q208.866 1363.45 208.866 1359.84 Q208.866 1356.22 206.528 1354.12 Q204.19 1352.01 200.186 1352.01 Q198.311 1352.01 196.436 1352.43 Q194.584 1352.84 192.639 1353.72 L192.639 1336.36 Z\" fill=\"#000000\" fill-rule=\"evenodd\" fill-opacity=\"1\" /><path clip-path=\"url(#clip980)\" d=\"M126.205 1278.66 Q122.593 1278.66 120.765 1282.22 Q118.959 1285.76 118.959 1292.89 Q118.959 1300 120.765 1303.56 Q122.593 1307.11 126.205 1307.11 Q129.839 1307.11 131.644 1303.56 Q133.473 1300 133.473 1292.89 Q133.473 1285.76 131.644 1282.22 Q129.839 1278.66 126.205 1278.66 M126.205 1274.95 Q132.015 1274.95 135.07 1279.56 Q138.149 1284.14 138.149 1292.89 Q138.149 1301.62 135.07 1306.23 Q132.015 1310.81 126.205 1310.81 Q120.394 1310.81 117.316 1306.23 Q114.26 1301.62 114.26 1292.89 Q114.26 1284.14 117.316 1279.56 Q120.394 1274.95 126.205 1274.95 Z\" fill=\"#000000\" fill-rule=\"evenodd\" fill-opacity=\"1\" /><path clip-path=\"url(#clip980)\" d=\"M146.366 1304.26 L151.251 1304.26 L151.251 1310.14 L146.366 1310.14 L146.366 1304.26 Z\" fill=\"#000000\" fill-rule=\"evenodd\" fill-opacity=\"1\" /><path clip-path=\"url(#clip980)\" d=\"M161.482 1275.58 L179.839 1275.58 L179.839 1279.51 L165.765 1279.51 L165.765 1287.99 Q166.783 1287.64 167.802 1287.48 Q168.82 1287.29 169.839 1287.29 Q175.626 1287.29 179.005 1290.46 Q182.385 1293.63 182.385 1299.05 Q182.385 1304.63 178.913 1307.73 Q175.44 1310.81 169.121 1310.81 Q166.945 1310.81 164.677 1310.44 Q162.431 1310.07 160.024 1309.33 L160.024 1304.63 Q162.107 1305.76 164.329 1306.32 Q166.552 1306.88 169.028 1306.88 Q173.033 1306.88 175.371 1304.77 Q177.709 1302.66 177.709 1299.05 Q177.709 1295.44 175.371 1293.33 Q173.033 1291.23 169.028 1291.23 Q167.153 1291.23 165.278 1291.64 Q163.427 1292.06 161.482 1292.94 L161.482 1275.58 Z\" fill=\"#000000\" fill-rule=\"evenodd\" fill-opacity=\"1\" /><path clip-path=\"url(#clip980)\" d=\"M201.598 1278.66 Q197.987 1278.66 196.158 1282.22 Q194.352 1285.76 194.352 1292.89 Q194.352 1300 196.158 1303.56 Q197.987 1307.11 201.598 1307.11 Q205.232 1307.11 207.037 1303.56 Q208.866 1300 208.866 1292.89 Q208.866 1285.76 207.037 1282.22 Q205.232 1278.66 201.598 1278.66 M201.598 1274.95 Q207.408 1274.95 210.463 1279.56 Q213.542 1284.14 213.542 1292.89 Q213.542 1301.62 210.463 1306.23 Q207.408 1310.81 201.598 1310.81 Q195.787 1310.81 192.709 1306.23 Q189.653 1301.62 189.653 1292.89 Q189.653 1284.14 192.709 1279.56 Q195.787 1274.95 201.598 1274.95 Z\" fill=\"#000000\" fill-rule=\"evenodd\" fill-opacity=\"1\" /><path clip-path=\"url(#clip980)\" d=\"M127.2 1217.87 Q123.589 1217.87 121.76 1221.44 Q119.955 1224.98 119.955 1232.11 Q119.955 1239.22 121.76 1242.78 Q123.589 1246.32 127.2 1246.32 Q130.834 1246.32 132.64 1242.78 Q134.468 1239.22 134.468 1232.11 Q134.468 1224.98 132.64 1221.44 Q130.834 1217.87 127.2 1217.87 M127.2 1214.17 Q133.01 1214.17 136.066 1218.78 Q139.144 1223.36 139.144 1232.11 Q139.144 1240.84 136.066 1245.44 Q133.01 1250.03 127.2 1250.03 Q121.39 1250.03 118.311 1245.44 Q115.256 1240.84 115.256 1232.11 Q115.256 1223.36 118.311 1218.78 Q121.39 1214.17 127.2 1214.17 Z\" fill=\"#000000\" fill-rule=\"evenodd\" fill-opacity=\"1\" /><path clip-path=\"url(#clip980)\" d=\"M147.362 1243.48 L152.246 1243.48 L152.246 1249.35 L147.362 1249.35 L147.362 1243.48 Z\" fill=\"#000000\" fill-rule=\"evenodd\" fill-opacity=\"1\" /><path clip-path=\"url(#clip980)\" d=\"M161.251 1214.79 L183.473 1214.79 L183.473 1216.79 L170.927 1249.35 L166.042 1249.35 L177.848 1218.73 L161.251 1218.73 L161.251 1214.79 Z\" fill=\"#000000\" fill-rule=\"evenodd\" fill-opacity=\"1\" /><path clip-path=\"url(#clip980)\" d=\"M192.639 1214.79 L210.996 1214.79 L210.996 1218.73 L196.922 1218.73 L196.922 1227.2 Q197.94 1226.86 198.959 1226.69 Q199.977 1226.51 200.996 1226.51 Q206.783 1226.51 210.162 1229.68 Q213.542 1232.85 213.542 1238.27 Q213.542 1243.85 210.07 1246.95 Q206.598 1250.03 200.278 1250.03 Q198.102 1250.03 195.834 1249.66 Q193.588 1249.29 191.181 1248.54 L191.181 1243.85 Q193.264 1244.98 195.487 1245.54 Q197.709 1246.09 200.186 1246.09 Q204.19 1246.09 206.528 1243.98 Q208.866 1241.88 208.866 1238.27 Q208.866 1234.66 206.528 1232.55 Q204.19 1230.44 200.186 1230.44 Q198.311 1230.44 196.436 1230.86 Q194.584 1231.28 192.639 1232.16 L192.639 1214.79 Z\" fill=\"#000000\" fill-rule=\"evenodd\" fill-opacity=\"1\" /><path clip-path=\"url(#clip980)\" d=\"M117.015 1184.64 L124.654 1184.64 L124.654 1158.27 L116.343 1159.94 L116.343 1155.68 L124.607 1154.01 L129.283 1154.01 L129.283 1184.64 L136.922 1184.64 L136.922 1188.57 L117.015 1188.57 L117.015 1184.64 Z\" fill=\"#000000\" fill-rule=\"evenodd\" fill-opacity=\"1\" /><path clip-path=\"url(#clip980)\" d=\"M146.366 1182.69 L151.251 1182.69 L151.251 1188.57 L146.366 1188.57 L146.366 1182.69 Z\" fill=\"#000000\" fill-rule=\"evenodd\" fill-opacity=\"1\" /><path clip-path=\"url(#clip980)\" d=\"M171.436 1157.09 Q167.825 1157.09 165.996 1160.65 Q164.19 1164.2 164.19 1171.33 Q164.19 1178.43 165.996 1182 Q167.825 1185.54 171.436 1185.54 Q175.07 1185.54 176.876 1182 Q178.704 1178.43 178.704 1171.33 Q178.704 1164.2 176.876 1160.65 Q175.07 1157.09 171.436 1157.09 M171.436 1153.39 Q177.246 1153.39 180.301 1157.99 Q183.38 1162.58 183.38 1171.33 Q183.38 1180.05 180.301 1184.66 Q177.246 1189.24 171.436 1189.24 Q165.626 1189.24 162.547 1184.66 Q159.491 1180.05 159.491 1171.33 Q159.491 1162.58 162.547 1157.99 Q165.626 1153.39 171.436 1153.39 Z\" fill=\"#000000\" fill-rule=\"evenodd\" fill-opacity=\"1\" /><path clip-path=\"url(#clip980)\" d=\"M201.598 1157.09 Q197.987 1157.09 196.158 1160.65 Q194.352 1164.2 194.352 1171.33 Q194.352 1178.43 196.158 1182 Q197.987 1185.54 201.598 1185.54 Q205.232 1185.54 207.037 1182 Q208.866 1178.43 208.866 1171.33 Q208.866 1164.2 207.037 1160.65 Q205.232 1157.09 201.598 1157.09 M201.598 1153.39 Q207.408 1153.39 210.463 1157.99 Q213.542 1162.58 213.542 1171.33 Q213.542 1180.05 210.463 1184.66 Q207.408 1189.24 201.598 1189.24 Q195.787 1189.24 192.709 1184.66 Q189.653 1180.05 189.653 1171.33 Q189.653 1162.58 192.709 1157.99 Q195.787 1153.39 201.598 1153.39 Z\" fill=\"#000000\" fill-rule=\"evenodd\" fill-opacity=\"1\" /><path clip-path=\"url(#clip980)\" d=\"M67.3143 1323.62 Q73.68 1326.11 75.6216 1328.46 Q77.5631 1330.82 77.5631 1334.76 L77.5631 1339.44 L72.6615 1339.44 L72.6615 1336.01 Q72.6615 1333.59 71.5157 1332.25 Q70.3699 1330.91 66.1048 1329.29 L63.4312 1328.24 L28.3562 1342.66 L28.3562 1336.45 L56.238 1325.31 L28.3562 1314.17 L28.3562 1307.96 L67.3143 1323.62 Z\" fill=\"#000000\" fill-rule=\"evenodd\" fill-opacity=\"1\" /><path clip-path=\"url(#clip980)\" d=\"M29.4065 1277.15 L34.9447 1277.15 Q33.6716 1279.64 33.035 1282.31 Q32.3984 1284.98 32.3984 1287.85 Q32.3984 1292.21 33.7352 1294.41 Q35.072 1296.57 37.7456 1296.57 Q39.7826 1296.57 40.9603 1295.01 Q42.1061 1293.45 43.1565 1288.74 L43.6021 1286.74 Q44.9389 1280.5 47.3897 1277.89 Q49.8086 1275.25 54.1691 1275.25 Q59.1344 1275.25 62.0308 1279.19 Q64.9272 1283.11 64.9272 1289.98 Q64.9272 1292.85 64.3543 1295.97 Q63.8132 1299.05 62.6992 1302.49 L56.6518 1302.49 Q58.3387 1299.24 59.198 1296.09 Q60.0256 1292.94 60.0256 1289.85 Q60.0256 1285.72 58.6251 1283.49 Q57.1929 1281.26 54.6147 1281.26 Q52.2276 1281.26 50.9545 1282.88 Q49.6813 1284.48 48.5037 1289.92 L48.0262 1291.96 Q46.8804 1297.4 44.5251 1299.82 Q42.138 1302.24 38.0002 1302.24 Q32.9713 1302.24 30.2341 1298.67 Q27.4968 1295.11 27.4968 1288.55 Q27.4968 1285.3 27.9743 1282.44 Q28.4517 1279.57 29.4065 1277.15 Z\" fill=\"#000000\" fill-rule=\"evenodd\" fill-opacity=\"1\" /><path clip-path=\"url(#clip980)\" d=\"M58.657 1260.25 L77.5631 1260.25 L77.5631 1266.14 L28.3562 1266.14 L28.3562 1260.25 L33.7671 1260.25 Q30.5842 1258.41 29.0564 1255.61 Q27.4968 1252.77 27.4968 1248.86 Q27.4968 1242.37 32.6531 1238.32 Q37.8093 1234.25 46.212 1234.25 Q54.6147 1234.25 59.771 1238.32 Q64.9272 1242.37 64.9272 1248.86 Q64.9272 1252.77 63.3994 1255.61 Q61.8398 1258.41 58.657 1260.25 M46.212 1240.33 Q39.7508 1240.33 36.0905 1243 Q32.3984 1245.64 32.3984 1250.29 Q32.3984 1254.94 36.0905 1257.61 Q39.7508 1260.25 46.212 1260.25 Q52.6732 1260.25 56.3653 1257.61 Q60.0256 1254.94 60.0256 1250.29 Q60.0256 1245.64 56.3653 1243 Q52.6732 1240.33 46.212 1240.33 Z\" fill=\"#000000\" fill-rule=\"evenodd\" fill-opacity=\"1\" /><path clip-path=\"url(#clip980)\" d=\"M38.3822 1204.24 Q39.3689 1199.62 42.4881 1197.04 Q45.6073 1194.43 50.1906 1194.43 Q57.2247 1194.43 61.0759 1199.27 Q64.9272 1204.11 64.9272 1213.02 Q64.9272 1216.01 64.3224 1219.2 Q63.7495 1222.35 62.5719 1225.72 L56.3653 1225.72 Q57.9249 1223.05 58.7206 1219.86 Q59.5163 1216.68 59.5163 1213.21 Q59.5163 1207.16 57.1292 1204.01 Q54.7421 1200.83 50.1906 1200.83 Q45.9892 1200.83 43.6339 1203.79 Q41.2468 1206.72 41.2468 1211.97 L41.2468 1217.51 L35.9632 1217.51 L35.9632 1211.72 Q35.9632 1206.97 34.0853 1204.46 Q32.1756 1201.94 28.6108 1201.94 Q24.9505 1201.94 23.009 1204.55 Q21.0356 1207.13 21.0356 1211.97 Q21.0356 1214.61 21.6086 1217.64 Q22.1815 1220.66 23.3909 1224.29 L17.6618 1224.29 Q16.6433 1220.63 16.134 1217.44 Q15.6248 1214.23 15.6248 1211.4 Q15.6248 1204.08 18.9668 1199.81 Q22.277 1195.55 27.9424 1195.55 Q31.8892 1195.55 34.6264 1197.81 Q37.3318 1200.07 38.3822 1204.24 Z\" fill=\"#000000\" fill-rule=\"evenodd\" fill-opacity=\"1\" /><polyline clip-path=\"url(#clip984)\" style=\"stroke:#000000; stroke-linecap:round; stroke-linejoin:round; stroke-width:4; stroke-opacity:1; fill:none\" stroke-dasharray=\"2, 4\" points=\"309.067,1122.66 385.381,1122.66 461.695,1122.66 538.009,1122.66 614.323,1122.66 690.637,1122.66 766.951,1122.66 843.265,1122.66 919.579,1122.66 995.893,1122.66 1072.21,1122.66 1148.52,1122.66 1224.83,1122.66 1301.15,1122.66 1377.46,1122.66 1453.78,1122.66 1530.09,1122.66 1606.4,1122.66 1682.72,1122.66 1759.03,1122.66 1835.35,1122.66 1911.66,1122.66 1987.97,1122.66 2064.29,1122.66 2140.6,1122.66 2216.92,1122.66 2293.23,1122.66 \"/>\n",
       "<line clip-path=\"url(#clip984)\" x1=\"309.067\" y1=\"1122.66\" x2=\"309.067\" y2=\"1106.66\" style=\"stroke:#009af9; stroke-width:3.2; stroke-opacity:1\"/>\n",
       "<line clip-path=\"url(#clip984)\" x1=\"309.067\" y1=\"1122.66\" x2=\"293.067\" y2=\"1122.66\" style=\"stroke:#009af9; stroke-width:3.2; stroke-opacity:1\"/>\n",
       "<line clip-path=\"url(#clip984)\" x1=\"309.067\" y1=\"1122.66\" x2=\"309.067\" y2=\"1138.66\" style=\"stroke:#009af9; stroke-width:3.2; stroke-opacity:1\"/>\n",
       "<line clip-path=\"url(#clip984)\" x1=\"309.067\" y1=\"1122.66\" x2=\"325.067\" y2=\"1122.66\" style=\"stroke:#009af9; stroke-width:3.2; stroke-opacity:1\"/>\n",
       "<line clip-path=\"url(#clip984)\" x1=\"385.381\" y1=\"1122.66\" x2=\"385.381\" y2=\"1106.66\" style=\"stroke:#009af9; stroke-width:3.2; stroke-opacity:1\"/>\n",
       "<line clip-path=\"url(#clip984)\" x1=\"385.381\" y1=\"1122.66\" x2=\"369.381\" y2=\"1122.66\" style=\"stroke:#009af9; stroke-width:3.2; stroke-opacity:1\"/>\n",
       "<line clip-path=\"url(#clip984)\" x1=\"385.381\" y1=\"1122.66\" x2=\"385.381\" y2=\"1138.66\" style=\"stroke:#009af9; stroke-width:3.2; stroke-opacity:1\"/>\n",
       "<line clip-path=\"url(#clip984)\" x1=\"385.381\" y1=\"1122.66\" x2=\"401.381\" y2=\"1122.66\" style=\"stroke:#009af9; stroke-width:3.2; stroke-opacity:1\"/>\n",
       "<line clip-path=\"url(#clip984)\" x1=\"461.695\" y1=\"1122.66\" x2=\"461.695\" y2=\"1106.66\" style=\"stroke:#009af9; stroke-width:3.2; stroke-opacity:1\"/>\n",
       "<line clip-path=\"url(#clip984)\" x1=\"461.695\" y1=\"1122.66\" x2=\"445.695\" y2=\"1122.66\" style=\"stroke:#009af9; stroke-width:3.2; stroke-opacity:1\"/>\n",
       "<line clip-path=\"url(#clip984)\" x1=\"461.695\" y1=\"1122.66\" x2=\"461.695\" y2=\"1138.66\" style=\"stroke:#009af9; stroke-width:3.2; stroke-opacity:1\"/>\n",
       "<line clip-path=\"url(#clip984)\" x1=\"461.695\" y1=\"1122.66\" x2=\"477.695\" y2=\"1122.66\" style=\"stroke:#009af9; stroke-width:3.2; stroke-opacity:1\"/>\n",
       "<line clip-path=\"url(#clip984)\" x1=\"538.009\" y1=\"1122.66\" x2=\"538.009\" y2=\"1106.66\" style=\"stroke:#009af9; stroke-width:3.2; stroke-opacity:1\"/>\n",
       "<line clip-path=\"url(#clip984)\" x1=\"538.009\" y1=\"1122.66\" x2=\"522.009\" y2=\"1122.66\" style=\"stroke:#009af9; stroke-width:3.2; stroke-opacity:1\"/>\n",
       "<line clip-path=\"url(#clip984)\" x1=\"538.009\" y1=\"1122.66\" x2=\"538.009\" y2=\"1138.66\" style=\"stroke:#009af9; stroke-width:3.2; stroke-opacity:1\"/>\n",
       "<line clip-path=\"url(#clip984)\" x1=\"538.009\" y1=\"1122.66\" x2=\"554.009\" y2=\"1122.66\" style=\"stroke:#009af9; stroke-width:3.2; stroke-opacity:1\"/>\n",
       "<line clip-path=\"url(#clip984)\" x1=\"614.323\" y1=\"1122.66\" x2=\"614.323\" y2=\"1106.66\" style=\"stroke:#009af9; stroke-width:3.2; stroke-opacity:1\"/>\n",
       "<line clip-path=\"url(#clip984)\" x1=\"614.323\" y1=\"1122.66\" x2=\"598.323\" y2=\"1122.66\" style=\"stroke:#009af9; stroke-width:3.2; stroke-opacity:1\"/>\n",
       "<line clip-path=\"url(#clip984)\" x1=\"614.323\" y1=\"1122.66\" x2=\"614.323\" y2=\"1138.66\" style=\"stroke:#009af9; stroke-width:3.2; stroke-opacity:1\"/>\n",
       "<line clip-path=\"url(#clip984)\" x1=\"614.323\" y1=\"1122.66\" x2=\"630.323\" y2=\"1122.66\" style=\"stroke:#009af9; stroke-width:3.2; stroke-opacity:1\"/>\n",
       "<line clip-path=\"url(#clip984)\" x1=\"690.637\" y1=\"1140.72\" x2=\"690.637\" y2=\"1124.72\" style=\"stroke:#009af9; stroke-width:3.2; stroke-opacity:1\"/>\n",
       "<line clip-path=\"url(#clip984)\" x1=\"690.637\" y1=\"1140.72\" x2=\"674.637\" y2=\"1140.72\" style=\"stroke:#009af9; stroke-width:3.2; stroke-opacity:1\"/>\n",
       "<line clip-path=\"url(#clip984)\" x1=\"690.637\" y1=\"1140.72\" x2=\"690.637\" y2=\"1156.72\" style=\"stroke:#009af9; stroke-width:3.2; stroke-opacity:1\"/>\n",
       "<line clip-path=\"url(#clip984)\" x1=\"690.637\" y1=\"1140.72\" x2=\"706.637\" y2=\"1140.72\" style=\"stroke:#009af9; stroke-width:3.2; stroke-opacity:1\"/>\n",
       "<line clip-path=\"url(#clip984)\" x1=\"766.951\" y1=\"1263.22\" x2=\"766.951\" y2=\"1247.22\" style=\"stroke:#009af9; stroke-width:3.2; stroke-opacity:1\"/>\n",
       "<line clip-path=\"url(#clip984)\" x1=\"766.951\" y1=\"1263.22\" x2=\"750.951\" y2=\"1263.22\" style=\"stroke:#009af9; stroke-width:3.2; stroke-opacity:1\"/>\n",
       "<line clip-path=\"url(#clip984)\" x1=\"766.951\" y1=\"1263.22\" x2=\"766.951\" y2=\"1279.22\" style=\"stroke:#009af9; stroke-width:3.2; stroke-opacity:1\"/>\n",
       "<line clip-path=\"url(#clip984)\" x1=\"766.951\" y1=\"1263.22\" x2=\"782.951\" y2=\"1263.22\" style=\"stroke:#009af9; stroke-width:3.2; stroke-opacity:1\"/>\n",
       "<line clip-path=\"url(#clip984)\" x1=\"843.265\" y1=\"1145.64\" x2=\"843.265\" y2=\"1129.64\" style=\"stroke:#009af9; stroke-width:3.2; stroke-opacity:1\"/>\n",
       "<line clip-path=\"url(#clip984)\" x1=\"843.265\" y1=\"1145.64\" x2=\"827.265\" y2=\"1145.64\" style=\"stroke:#009af9; stroke-width:3.2; stroke-opacity:1\"/>\n",
       "<line clip-path=\"url(#clip984)\" x1=\"843.265\" y1=\"1145.64\" x2=\"843.265\" y2=\"1161.64\" style=\"stroke:#009af9; stroke-width:3.2; stroke-opacity:1\"/>\n",
       "<line clip-path=\"url(#clip984)\" x1=\"843.265\" y1=\"1145.64\" x2=\"859.265\" y2=\"1145.64\" style=\"stroke:#009af9; stroke-width:3.2; stroke-opacity:1\"/>\n",
       "<line clip-path=\"url(#clip984)\" x1=\"919.579\" y1=\"1335.13\" x2=\"919.579\" y2=\"1319.13\" style=\"stroke:#009af9; stroke-width:3.2; stroke-opacity:1\"/>\n",
       "<line clip-path=\"url(#clip984)\" x1=\"919.579\" y1=\"1335.13\" x2=\"903.579\" y2=\"1335.13\" style=\"stroke:#009af9; stroke-width:3.2; stroke-opacity:1\"/>\n",
       "<line clip-path=\"url(#clip984)\" x1=\"919.579\" y1=\"1335.13\" x2=\"919.579\" y2=\"1351.13\" style=\"stroke:#009af9; stroke-width:3.2; stroke-opacity:1\"/>\n",
       "<line clip-path=\"url(#clip984)\" x1=\"919.579\" y1=\"1335.13\" x2=\"935.579\" y2=\"1335.13\" style=\"stroke:#009af9; stroke-width:3.2; stroke-opacity:1\"/>\n",
       "<line clip-path=\"url(#clip984)\" x1=\"995.893\" y1=\"1122.66\" x2=\"995.893\" y2=\"1106.66\" style=\"stroke:#009af9; stroke-width:3.2; stroke-opacity:1\"/>\n",
       "<line clip-path=\"url(#clip984)\" x1=\"995.893\" y1=\"1122.66\" x2=\"979.893\" y2=\"1122.66\" style=\"stroke:#009af9; stroke-width:3.2; stroke-opacity:1\"/>\n",
       "<line clip-path=\"url(#clip984)\" x1=\"995.893\" y1=\"1122.66\" x2=\"995.893\" y2=\"1138.66\" style=\"stroke:#009af9; stroke-width:3.2; stroke-opacity:1\"/>\n",
       "<line clip-path=\"url(#clip984)\" x1=\"995.893\" y1=\"1122.66\" x2=\"1011.89\" y2=\"1122.66\" style=\"stroke:#009af9; stroke-width:3.2; stroke-opacity:1\"/>\n",
       "<line clip-path=\"url(#clip984)\" x1=\"1072.21\" y1=\"1122.66\" x2=\"1072.21\" y2=\"1106.66\" style=\"stroke:#009af9; stroke-width:3.2; stroke-opacity:1\"/>\n",
       "<line clip-path=\"url(#clip984)\" x1=\"1072.21\" y1=\"1122.66\" x2=\"1056.21\" y2=\"1122.66\" style=\"stroke:#009af9; stroke-width:3.2; stroke-opacity:1\"/>\n",
       "<line clip-path=\"url(#clip984)\" x1=\"1072.21\" y1=\"1122.66\" x2=\"1072.21\" y2=\"1138.66\" style=\"stroke:#009af9; stroke-width:3.2; stroke-opacity:1\"/>\n",
       "<line clip-path=\"url(#clip984)\" x1=\"1072.21\" y1=\"1122.66\" x2=\"1088.21\" y2=\"1122.66\" style=\"stroke:#009af9; stroke-width:3.2; stroke-opacity:1\"/>\n",
       "<line clip-path=\"url(#clip984)\" x1=\"1148.52\" y1=\"1122.66\" x2=\"1148.52\" y2=\"1106.66\" style=\"stroke:#009af9; stroke-width:3.2; stroke-opacity:1\"/>\n",
       "<line clip-path=\"url(#clip984)\" x1=\"1148.52\" y1=\"1122.66\" x2=\"1132.52\" y2=\"1122.66\" style=\"stroke:#009af9; stroke-width:3.2; stroke-opacity:1\"/>\n",
       "<line clip-path=\"url(#clip984)\" x1=\"1148.52\" y1=\"1122.66\" x2=\"1148.52\" y2=\"1138.66\" style=\"stroke:#009af9; stroke-width:3.2; stroke-opacity:1\"/>\n",
       "<line clip-path=\"url(#clip984)\" x1=\"1148.52\" y1=\"1122.66\" x2=\"1164.52\" y2=\"1122.66\" style=\"stroke:#009af9; stroke-width:3.2; stroke-opacity:1\"/>\n",
       "<line clip-path=\"url(#clip984)\" x1=\"1224.83\" y1=\"1127.97\" x2=\"1224.83\" y2=\"1111.97\" style=\"stroke:#009af9; stroke-width:3.2; stroke-opacity:1\"/>\n",
       "<line clip-path=\"url(#clip984)\" x1=\"1224.83\" y1=\"1127.97\" x2=\"1208.83\" y2=\"1127.97\" style=\"stroke:#009af9; stroke-width:3.2; stroke-opacity:1\"/>\n",
       "<line clip-path=\"url(#clip984)\" x1=\"1224.83\" y1=\"1127.97\" x2=\"1224.83\" y2=\"1143.97\" style=\"stroke:#009af9; stroke-width:3.2; stroke-opacity:1\"/>\n",
       "<line clip-path=\"url(#clip984)\" x1=\"1224.83\" y1=\"1127.97\" x2=\"1240.83\" y2=\"1127.97\" style=\"stroke:#009af9; stroke-width:3.2; stroke-opacity:1\"/>\n",
       "<line clip-path=\"url(#clip984)\" x1=\"1301.15\" y1=\"1235.25\" x2=\"1301.15\" y2=\"1219.25\" style=\"stroke:#009af9; stroke-width:3.2; stroke-opacity:1\"/>\n",
       "<line clip-path=\"url(#clip984)\" x1=\"1301.15\" y1=\"1235.25\" x2=\"1285.15\" y2=\"1235.25\" style=\"stroke:#009af9; stroke-width:3.2; stroke-opacity:1\"/>\n",
       "<line clip-path=\"url(#clip984)\" x1=\"1301.15\" y1=\"1235.25\" x2=\"1301.15\" y2=\"1251.25\" style=\"stroke:#009af9; stroke-width:3.2; stroke-opacity:1\"/>\n",
       "<line clip-path=\"url(#clip984)\" x1=\"1301.15\" y1=\"1235.25\" x2=\"1317.15\" y2=\"1235.25\" style=\"stroke:#009af9; stroke-width:3.2; stroke-opacity:1\"/>\n",
       "<line clip-path=\"url(#clip984)\" x1=\"1377.46\" y1=\"1122.66\" x2=\"1377.46\" y2=\"1106.66\" style=\"stroke:#009af9; stroke-width:3.2; stroke-opacity:1\"/>\n",
       "<line clip-path=\"url(#clip984)\" x1=\"1377.46\" y1=\"1122.66\" x2=\"1361.46\" y2=\"1122.66\" style=\"stroke:#009af9; stroke-width:3.2; stroke-opacity:1\"/>\n",
       "<line clip-path=\"url(#clip984)\" x1=\"1377.46\" y1=\"1122.66\" x2=\"1377.46\" y2=\"1138.66\" style=\"stroke:#009af9; stroke-width:3.2; stroke-opacity:1\"/>\n",
       "<line clip-path=\"url(#clip984)\" x1=\"1377.46\" y1=\"1122.66\" x2=\"1393.46\" y2=\"1122.66\" style=\"stroke:#009af9; stroke-width:3.2; stroke-opacity:1\"/>\n",
       "<line clip-path=\"url(#clip984)\" x1=\"1453.78\" y1=\"1254.17\" x2=\"1453.78\" y2=\"1238.17\" style=\"stroke:#009af9; stroke-width:3.2; stroke-opacity:1\"/>\n",
       "<line clip-path=\"url(#clip984)\" x1=\"1453.78\" y1=\"1254.17\" x2=\"1437.78\" y2=\"1254.17\" style=\"stroke:#009af9; stroke-width:3.2; stroke-opacity:1\"/>\n",
       "<line clip-path=\"url(#clip984)\" x1=\"1453.78\" y1=\"1254.17\" x2=\"1453.78\" y2=\"1270.17\" style=\"stroke:#009af9; stroke-width:3.2; stroke-opacity:1\"/>\n",
       "<line clip-path=\"url(#clip984)\" x1=\"1453.78\" y1=\"1254.17\" x2=\"1469.78\" y2=\"1254.17\" style=\"stroke:#009af9; stroke-width:3.2; stroke-opacity:1\"/>\n",
       "<line clip-path=\"url(#clip984)\" x1=\"1530.09\" y1=\"1200.82\" x2=\"1530.09\" y2=\"1184.82\" style=\"stroke:#009af9; stroke-width:3.2; stroke-opacity:1\"/>\n",
       "<line clip-path=\"url(#clip984)\" x1=\"1530.09\" y1=\"1200.82\" x2=\"1514.09\" y2=\"1200.82\" style=\"stroke:#009af9; stroke-width:3.2; stroke-opacity:1\"/>\n",
       "<line clip-path=\"url(#clip984)\" x1=\"1530.09\" y1=\"1200.82\" x2=\"1530.09\" y2=\"1216.82\" style=\"stroke:#009af9; stroke-width:3.2; stroke-opacity:1\"/>\n",
       "<line clip-path=\"url(#clip984)\" x1=\"1530.09\" y1=\"1200.82\" x2=\"1546.09\" y2=\"1200.82\" style=\"stroke:#009af9; stroke-width:3.2; stroke-opacity:1\"/>\n",
       "<line clip-path=\"url(#clip984)\" x1=\"1606.4\" y1=\"1186.07\" x2=\"1606.4\" y2=\"1170.07\" style=\"stroke:#009af9; stroke-width:3.2; stroke-opacity:1\"/>\n",
       "<line clip-path=\"url(#clip984)\" x1=\"1606.4\" y1=\"1186.07\" x2=\"1590.4\" y2=\"1186.07\" style=\"stroke:#009af9; stroke-width:3.2; stroke-opacity:1\"/>\n",
       "<line clip-path=\"url(#clip984)\" x1=\"1606.4\" y1=\"1186.07\" x2=\"1606.4\" y2=\"1202.07\" style=\"stroke:#009af9; stroke-width:3.2; stroke-opacity:1\"/>\n",
       "<line clip-path=\"url(#clip984)\" x1=\"1606.4\" y1=\"1186.07\" x2=\"1622.4\" y2=\"1186.07\" style=\"stroke:#009af9; stroke-width:3.2; stroke-opacity:1\"/>\n",
       "<line clip-path=\"url(#clip984)\" x1=\"1682.72\" y1=\"1122.66\" x2=\"1682.72\" y2=\"1106.66\" style=\"stroke:#009af9; stroke-width:3.2; stroke-opacity:1\"/>\n",
       "<line clip-path=\"url(#clip984)\" x1=\"1682.72\" y1=\"1122.66\" x2=\"1666.72\" y2=\"1122.66\" style=\"stroke:#009af9; stroke-width:3.2; stroke-opacity:1\"/>\n",
       "<line clip-path=\"url(#clip984)\" x1=\"1682.72\" y1=\"1122.66\" x2=\"1682.72\" y2=\"1138.66\" style=\"stroke:#009af9; stroke-width:3.2; stroke-opacity:1\"/>\n",
       "<line clip-path=\"url(#clip984)\" x1=\"1682.72\" y1=\"1122.66\" x2=\"1698.72\" y2=\"1122.66\" style=\"stroke:#009af9; stroke-width:3.2; stroke-opacity:1\"/>\n",
       "<line clip-path=\"url(#clip984)\" x1=\"1759.03\" y1=\"1122.66\" x2=\"1759.03\" y2=\"1106.66\" style=\"stroke:#009af9; stroke-width:3.2; stroke-opacity:1\"/>\n",
       "<line clip-path=\"url(#clip984)\" x1=\"1759.03\" y1=\"1122.66\" x2=\"1743.03\" y2=\"1122.66\" style=\"stroke:#009af9; stroke-width:3.2; stroke-opacity:1\"/>\n",
       "<line clip-path=\"url(#clip984)\" x1=\"1759.03\" y1=\"1122.66\" x2=\"1759.03\" y2=\"1138.66\" style=\"stroke:#009af9; stroke-width:3.2; stroke-opacity:1\"/>\n",
       "<line clip-path=\"url(#clip984)\" x1=\"1759.03\" y1=\"1122.66\" x2=\"1775.03\" y2=\"1122.66\" style=\"stroke:#009af9; stroke-width:3.2; stroke-opacity:1\"/>\n",
       "<line clip-path=\"url(#clip984)\" x1=\"1835.35\" y1=\"1122.66\" x2=\"1835.35\" y2=\"1106.66\" style=\"stroke:#009af9; stroke-width:3.2; stroke-opacity:1\"/>\n",
       "<line clip-path=\"url(#clip984)\" x1=\"1835.35\" y1=\"1122.66\" x2=\"1819.35\" y2=\"1122.66\" style=\"stroke:#009af9; stroke-width:3.2; stroke-opacity:1\"/>\n",
       "<line clip-path=\"url(#clip984)\" x1=\"1835.35\" y1=\"1122.66\" x2=\"1835.35\" y2=\"1138.66\" style=\"stroke:#009af9; stroke-width:3.2; stroke-opacity:1\"/>\n",
       "<line clip-path=\"url(#clip984)\" x1=\"1835.35\" y1=\"1122.66\" x2=\"1851.35\" y2=\"1122.66\" style=\"stroke:#009af9; stroke-width:3.2; stroke-opacity:1\"/>\n",
       "<line clip-path=\"url(#clip984)\" x1=\"1911.66\" y1=\"1122.66\" x2=\"1911.66\" y2=\"1106.66\" style=\"stroke:#009af9; stroke-width:3.2; stroke-opacity:1\"/>\n",
       "<line clip-path=\"url(#clip984)\" x1=\"1911.66\" y1=\"1122.66\" x2=\"1895.66\" y2=\"1122.66\" style=\"stroke:#009af9; stroke-width:3.2; stroke-opacity:1\"/>\n",
       "<line clip-path=\"url(#clip984)\" x1=\"1911.66\" y1=\"1122.66\" x2=\"1911.66\" y2=\"1138.66\" style=\"stroke:#009af9; stroke-width:3.2; stroke-opacity:1\"/>\n",
       "<line clip-path=\"url(#clip984)\" x1=\"1911.66\" y1=\"1122.66\" x2=\"1927.66\" y2=\"1122.66\" style=\"stroke:#009af9; stroke-width:3.2; stroke-opacity:1\"/>\n",
       "<line clip-path=\"url(#clip984)\" x1=\"1987.97\" y1=\"1230.25\" x2=\"1987.97\" y2=\"1214.25\" style=\"stroke:#009af9; stroke-width:3.2; stroke-opacity:1\"/>\n",
       "<line clip-path=\"url(#clip984)\" x1=\"1987.97\" y1=\"1230.25\" x2=\"1971.97\" y2=\"1230.25\" style=\"stroke:#009af9; stroke-width:3.2; stroke-opacity:1\"/>\n",
       "<line clip-path=\"url(#clip984)\" x1=\"1987.97\" y1=\"1230.25\" x2=\"1987.97\" y2=\"1246.25\" style=\"stroke:#009af9; stroke-width:3.2; stroke-opacity:1\"/>\n",
       "<line clip-path=\"url(#clip984)\" x1=\"1987.97\" y1=\"1230.25\" x2=\"2003.97\" y2=\"1230.25\" style=\"stroke:#009af9; stroke-width:3.2; stroke-opacity:1\"/>\n",
       "<line clip-path=\"url(#clip984)\" x1=\"2064.29\" y1=\"1414.43\" x2=\"2064.29\" y2=\"1398.43\" style=\"stroke:#009af9; stroke-width:3.2; stroke-opacity:1\"/>\n",
       "<line clip-path=\"url(#clip984)\" x1=\"2064.29\" y1=\"1414.43\" x2=\"2048.29\" y2=\"1414.43\" style=\"stroke:#009af9; stroke-width:3.2; stroke-opacity:1\"/>\n",
       "<line clip-path=\"url(#clip984)\" x1=\"2064.29\" y1=\"1414.43\" x2=\"2064.29\" y2=\"1430.43\" style=\"stroke:#009af9; stroke-width:3.2; stroke-opacity:1\"/>\n",
       "<line clip-path=\"url(#clip984)\" x1=\"2064.29\" y1=\"1414.43\" x2=\"2080.29\" y2=\"1414.43\" style=\"stroke:#009af9; stroke-width:3.2; stroke-opacity:1\"/>\n",
       "<line clip-path=\"url(#clip984)\" x1=\"2140.6\" y1=\"1122.66\" x2=\"2140.6\" y2=\"1106.66\" style=\"stroke:#009af9; stroke-width:3.2; stroke-opacity:1\"/>\n",
       "<line clip-path=\"url(#clip984)\" x1=\"2140.6\" y1=\"1122.66\" x2=\"2124.6\" y2=\"1122.66\" style=\"stroke:#009af9; stroke-width:3.2; stroke-opacity:1\"/>\n",
       "<line clip-path=\"url(#clip984)\" x1=\"2140.6\" y1=\"1122.66\" x2=\"2140.6\" y2=\"1138.66\" style=\"stroke:#009af9; stroke-width:3.2; stroke-opacity:1\"/>\n",
       "<line clip-path=\"url(#clip984)\" x1=\"2140.6\" y1=\"1122.66\" x2=\"2156.6\" y2=\"1122.66\" style=\"stroke:#009af9; stroke-width:3.2; stroke-opacity:1\"/>\n",
       "<line clip-path=\"url(#clip984)\" x1=\"2216.92\" y1=\"1122.66\" x2=\"2216.92\" y2=\"1106.66\" style=\"stroke:#009af9; stroke-width:3.2; stroke-opacity:1\"/>\n",
       "<line clip-path=\"url(#clip984)\" x1=\"2216.92\" y1=\"1122.66\" x2=\"2200.92\" y2=\"1122.66\" style=\"stroke:#009af9; stroke-width:3.2; stroke-opacity:1\"/>\n",
       "<line clip-path=\"url(#clip984)\" x1=\"2216.92\" y1=\"1122.66\" x2=\"2216.92\" y2=\"1138.66\" style=\"stroke:#009af9; stroke-width:3.2; stroke-opacity:1\"/>\n",
       "<line clip-path=\"url(#clip984)\" x1=\"2216.92\" y1=\"1122.66\" x2=\"2232.92\" y2=\"1122.66\" style=\"stroke:#009af9; stroke-width:3.2; stroke-opacity:1\"/>\n",
       "<line clip-path=\"url(#clip984)\" x1=\"2293.23\" y1=\"1122.66\" x2=\"2293.23\" y2=\"1106.66\" style=\"stroke:#009af9; stroke-width:3.2; stroke-opacity:1\"/>\n",
       "<line clip-path=\"url(#clip984)\" x1=\"2293.23\" y1=\"1122.66\" x2=\"2277.23\" y2=\"1122.66\" style=\"stroke:#009af9; stroke-width:3.2; stroke-opacity:1\"/>\n",
       "<line clip-path=\"url(#clip984)\" x1=\"2293.23\" y1=\"1122.66\" x2=\"2293.23\" y2=\"1138.66\" style=\"stroke:#009af9; stroke-width:3.2; stroke-opacity:1\"/>\n",
       "<line clip-path=\"url(#clip984)\" x1=\"2293.23\" y1=\"1122.66\" x2=\"2309.23\" y2=\"1122.66\" style=\"stroke:#009af9; stroke-width:3.2; stroke-opacity:1\"/>\n",
       "<polyline clip-path=\"url(#clip984)\" style=\"stroke:#ff0000; stroke-linecap:round; stroke-linejoin:round; stroke-width:20; stroke-opacity:0.3; fill:none\" points=\"309.067,1122.66 309.067,1122.66 385.381,1122.66 385.381,1122.66 461.695,1122.66 461.695,1122.66 538.009,1122.66 538.009,1122.66 614.323,1122.66 614.323,1140.72 690.637,1140.72 690.637,1263.22 766.951,1263.22 766.951,1145.64 843.265,1145.64 843.265,1335.13 919.579,1335.13 919.579,1122.66 995.893,1122.66 995.893,1122.66 1072.21,1122.66 1072.21,1122.66 1148.52,1122.66 1148.52,1127.97 1224.83,1127.97 1224.83,1235.25 1301.15,1235.25 1301.15,1122.66 1377.46,1122.66 1377.46,1254.17 1453.78,1254.17 1453.78,1200.82 1530.09,1200.82 1530.09,1186.07 1606.4,1186.07 1606.4,1122.66 1682.72,1122.66 1682.72,1122.66 1759.03,1122.66 1759.03,1122.66 1835.35,1122.66 1835.35,1122.66 1911.66,1122.66 1911.66,1230.25 1987.97,1230.25 1987.97,1414.43 2064.29,1414.43 2064.29,1122.66 2140.6,1122.66 2140.6,1122.66 2216.92,1122.66 2216.92,1122.66 2293.23,1122.66 \"/>\n",
       "<circle clip-path=\"url(#clip984)\" cx=\"309.067\" cy=\"1122.66\" r=\"14.4\" fill=\"#e26f46\" fill-rule=\"evenodd\" fill-opacity=\"1\" stroke=\"#000000\" stroke-opacity=\"1\" stroke-width=\"3.2\"/>\n",
       "<circle clip-path=\"url(#clip984)\" cx=\"385.381\" cy=\"1122.66\" r=\"14.4\" fill=\"#e26f46\" fill-rule=\"evenodd\" fill-opacity=\"1\" stroke=\"#000000\" stroke-opacity=\"1\" stroke-width=\"3.2\"/>\n",
       "<circle clip-path=\"url(#clip984)\" cx=\"461.695\" cy=\"1122.66\" r=\"14.4\" fill=\"#e26f46\" fill-rule=\"evenodd\" fill-opacity=\"1\" stroke=\"#000000\" stroke-opacity=\"1\" stroke-width=\"3.2\"/>\n",
       "<circle clip-path=\"url(#clip984)\" cx=\"538.009\" cy=\"1122.66\" r=\"14.4\" fill=\"#e26f46\" fill-rule=\"evenodd\" fill-opacity=\"1\" stroke=\"#000000\" stroke-opacity=\"1\" stroke-width=\"3.2\"/>\n",
       "<circle clip-path=\"url(#clip984)\" cx=\"614.323\" cy=\"1122.66\" r=\"14.4\" fill=\"#e26f46\" fill-rule=\"evenodd\" fill-opacity=\"1\" stroke=\"#000000\" stroke-opacity=\"1\" stroke-width=\"3.2\"/>\n",
       "<circle clip-path=\"url(#clip984)\" cx=\"690.637\" cy=\"1122.66\" r=\"14.4\" fill=\"#e26f46\" fill-rule=\"evenodd\" fill-opacity=\"1\" stroke=\"#000000\" stroke-opacity=\"1\" stroke-width=\"3.2\"/>\n",
       "<circle clip-path=\"url(#clip984)\" cx=\"766.951\" cy=\"1141.92\" r=\"14.4\" fill=\"#e26f46\" fill-rule=\"evenodd\" fill-opacity=\"1\" stroke=\"#000000\" stroke-opacity=\"1\" stroke-width=\"3.2\"/>\n",
       "<circle clip-path=\"url(#clip984)\" cx=\"843.265\" cy=\"1122.66\" r=\"14.4\" fill=\"#e26f46\" fill-rule=\"evenodd\" fill-opacity=\"1\" stroke=\"#000000\" stroke-opacity=\"1\" stroke-width=\"3.2\"/>\n",
       "<circle clip-path=\"url(#clip984)\" cx=\"919.579\" cy=\"1414.43\" r=\"14.4\" fill=\"#e26f46\" fill-rule=\"evenodd\" fill-opacity=\"1\" stroke=\"#000000\" stroke-opacity=\"1\" stroke-width=\"3.2\"/>\n",
       "<circle clip-path=\"url(#clip984)\" cx=\"995.893\" cy=\"1122.66\" r=\"14.4\" fill=\"#e26f46\" fill-rule=\"evenodd\" fill-opacity=\"1\" stroke=\"#000000\" stroke-opacity=\"1\" stroke-width=\"3.2\"/>\n",
       "<circle clip-path=\"url(#clip984)\" cx=\"1072.21\" cy=\"1128.63\" r=\"14.4\" fill=\"#e26f46\" fill-rule=\"evenodd\" fill-opacity=\"1\" stroke=\"#000000\" stroke-opacity=\"1\" stroke-width=\"3.2\"/>\n",
       "<circle clip-path=\"url(#clip984)\" cx=\"1148.52\" cy=\"1207.5\" r=\"14.4\" fill=\"#e26f46\" fill-rule=\"evenodd\" fill-opacity=\"1\" stroke=\"#000000\" stroke-opacity=\"1\" stroke-width=\"3.2\"/>\n",
       "<circle clip-path=\"url(#clip984)\" cx=\"1224.83\" cy=\"1122.66\" r=\"14.4\" fill=\"#e26f46\" fill-rule=\"evenodd\" fill-opacity=\"1\" stroke=\"#000000\" stroke-opacity=\"1\" stroke-width=\"3.2\"/>\n",
       "<circle clip-path=\"url(#clip984)\" cx=\"1301.15\" cy=\"1122.66\" r=\"14.4\" fill=\"#e26f46\" fill-rule=\"evenodd\" fill-opacity=\"1\" stroke=\"#000000\" stroke-opacity=\"1\" stroke-width=\"3.2\"/>\n",
       "<circle clip-path=\"url(#clip984)\" cx=\"1377.46\" cy=\"1122.66\" r=\"14.4\" fill=\"#e26f46\" fill-rule=\"evenodd\" fill-opacity=\"1\" stroke=\"#000000\" stroke-opacity=\"1\" stroke-width=\"3.2\"/>\n",
       "<circle clip-path=\"url(#clip984)\" cx=\"1453.78\" cy=\"1197.69\" r=\"14.4\" fill=\"#e26f46\" fill-rule=\"evenodd\" fill-opacity=\"1\" stroke=\"#000000\" stroke-opacity=\"1\" stroke-width=\"3.2\"/>\n",
       "<circle clip-path=\"url(#clip984)\" cx=\"1530.09\" cy=\"1326.39\" r=\"14.4\" fill=\"#e26f46\" fill-rule=\"evenodd\" fill-opacity=\"1\" stroke=\"#000000\" stroke-opacity=\"1\" stroke-width=\"3.2\"/>\n",
       "<circle clip-path=\"url(#clip984)\" cx=\"1606.4\" cy=\"1181.59\" r=\"14.4\" fill=\"#e26f46\" fill-rule=\"evenodd\" fill-opacity=\"1\" stroke=\"#000000\" stroke-opacity=\"1\" stroke-width=\"3.2\"/>\n",
       "<circle clip-path=\"url(#clip984)\" cx=\"1682.72\" cy=\"1122.66\" r=\"14.4\" fill=\"#e26f46\" fill-rule=\"evenodd\" fill-opacity=\"1\" stroke=\"#000000\" stroke-opacity=\"1\" stroke-width=\"3.2\"/>\n",
       "<circle clip-path=\"url(#clip984)\" cx=\"1759.03\" cy=\"1122.66\" r=\"14.4\" fill=\"#e26f46\" fill-rule=\"evenodd\" fill-opacity=\"1\" stroke=\"#000000\" stroke-opacity=\"1\" stroke-width=\"3.2\"/>\n",
       "<circle clip-path=\"url(#clip984)\" cx=\"1835.35\" cy=\"1122.66\" r=\"14.4\" fill=\"#e26f46\" fill-rule=\"evenodd\" fill-opacity=\"1\" stroke=\"#000000\" stroke-opacity=\"1\" stroke-width=\"3.2\"/>\n",
       "<circle clip-path=\"url(#clip984)\" cx=\"1911.66\" cy=\"1122.66\" r=\"14.4\" fill=\"#e26f46\" fill-rule=\"evenodd\" fill-opacity=\"1\" stroke=\"#000000\" stroke-opacity=\"1\" stroke-width=\"3.2\"/>\n",
       "<circle clip-path=\"url(#clip984)\" cx=\"1987.97\" cy=\"1122.66\" r=\"14.4\" fill=\"#e26f46\" fill-rule=\"evenodd\" fill-opacity=\"1\" stroke=\"#000000\" stroke-opacity=\"1\" stroke-width=\"3.2\"/>\n",
       "<circle clip-path=\"url(#clip984)\" cx=\"2064.29\" cy=\"1297.06\" r=\"14.4\" fill=\"#e26f46\" fill-rule=\"evenodd\" fill-opacity=\"1\" stroke=\"#000000\" stroke-opacity=\"1\" stroke-width=\"3.2\"/>\n",
       "<circle clip-path=\"url(#clip984)\" cx=\"2140.6\" cy=\"1414.43\" r=\"14.4\" fill=\"#e26f46\" fill-rule=\"evenodd\" fill-opacity=\"1\" stroke=\"#000000\" stroke-opacity=\"1\" stroke-width=\"3.2\"/>\n",
       "<circle clip-path=\"url(#clip984)\" cx=\"2216.92\" cy=\"1122.66\" r=\"14.4\" fill=\"#e26f46\" fill-rule=\"evenodd\" fill-opacity=\"1\" stroke=\"#000000\" stroke-opacity=\"1\" stroke-width=\"3.2\"/>\n",
       "<circle clip-path=\"url(#clip984)\" cx=\"2293.23\" cy=\"1122.66\" r=\"14.4\" fill=\"#e26f46\" fill-rule=\"evenodd\" fill-opacity=\"1\" stroke=\"#000000\" stroke-opacity=\"1\" stroke-width=\"3.2\"/>\n",
       "<polyline clip-path=\"url(#clip984)\" style=\"stroke:#80007f; stroke-linecap:round; stroke-linejoin:round; stroke-width:20; stroke-opacity:0.3; fill:none\" points=\"309.067,1122.66 309.067,1122.66 385.381,1122.66 461.695,1122.66 538.009,1122.66 614.323,1122.66 690.637,1122.66 690.637,1141.92 766.951,1141.92 766.951,1122.66 843.265,1122.66 843.265,1414.43 919.579,1414.43 919.579,1122.66 995.893,1122.66 995.893,1128.63 1072.21,1128.63 1072.21,1207.5 1148.52,1207.5 1148.52,1122.66 1224.83,1122.66 1301.15,1122.66 1377.46,1122.66 1377.46,1197.69 1453.78,1197.69 1453.78,1326.39 1530.09,1326.39 1530.09,1181.59 1606.4,1181.59 1606.4,1122.66 1682.72,1122.66 1759.03,1122.66 1835.35,1122.66 1911.66,1122.66 1987.97,1122.66 1987.97,1297.06 2064.29,1297.06 2064.29,1414.43 2140.6,1414.43 2140.6,1122.66 2216.92,1122.66 2293.23,1122.66 \"/>\n",
       "<path clip-path=\"url(#clip984)\" d=\"M309.067 1106.66 L293.067 1122.66 L309.067 1138.66 L325.067 1122.66 L309.067 1106.66 Z\" fill=\"#3da44d\" fill-rule=\"evenodd\" fill-opacity=\"1\" stroke=\"#000000\" stroke-opacity=\"1\" stroke-width=\"3.2\"/>\n",
       "<path clip-path=\"url(#clip984)\" d=\"M385.381 1106.66 L369.381 1122.66 L385.381 1138.66 L401.381 1122.66 L385.381 1106.66 Z\" fill=\"#3da44d\" fill-rule=\"evenodd\" fill-opacity=\"1\" stroke=\"#000000\" stroke-opacity=\"1\" stroke-width=\"3.2\"/>\n",
       "<path clip-path=\"url(#clip984)\" d=\"M461.695 1106.66 L445.695 1122.66 L461.695 1138.66 L477.695 1122.66 L461.695 1106.66 Z\" fill=\"#3da44d\" fill-rule=\"evenodd\" fill-opacity=\"1\" stroke=\"#000000\" stroke-opacity=\"1\" stroke-width=\"3.2\"/>\n",
       "<path clip-path=\"url(#clip984)\" d=\"M538.009 1106.66 L522.009 1122.66 L538.009 1138.66 L554.009 1122.66 L538.009 1106.66 Z\" fill=\"#3da44d\" fill-rule=\"evenodd\" fill-opacity=\"1\" stroke=\"#000000\" stroke-opacity=\"1\" stroke-width=\"3.2\"/>\n",
       "<path clip-path=\"url(#clip984)\" d=\"M614.323 1106.66 L598.323 1122.66 L614.323 1138.66 L630.323 1122.66 L614.323 1106.66 Z\" fill=\"#3da44d\" fill-rule=\"evenodd\" fill-opacity=\"1\" stroke=\"#000000\" stroke-opacity=\"1\" stroke-width=\"3.2\"/>\n",
       "<path clip-path=\"url(#clip984)\" d=\"M690.637 1106.66 L674.637 1122.66 L690.637 1138.66 L706.637 1122.66 L690.637 1106.66 Z\" fill=\"#3da44d\" fill-rule=\"evenodd\" fill-opacity=\"1\" stroke=\"#000000\" stroke-opacity=\"1\" stroke-width=\"3.2\"/>\n",
       "<path clip-path=\"url(#clip984)\" d=\"M766.951 1125.84 L750.951 1141.84 L766.951 1157.84 L782.951 1141.84 L766.951 1125.84 Z\" fill=\"#3da44d\" fill-rule=\"evenodd\" fill-opacity=\"1\" stroke=\"#000000\" stroke-opacity=\"1\" stroke-width=\"3.2\"/>\n",
       "<path clip-path=\"url(#clip984)\" d=\"M843.265 1106.67 L827.265 1122.67 L843.265 1138.67 L859.265 1122.67 L843.265 1106.67 Z\" fill=\"#3da44d\" fill-rule=\"evenodd\" fill-opacity=\"1\" stroke=\"#000000\" stroke-opacity=\"1\" stroke-width=\"3.2\"/>\n",
       "<path clip-path=\"url(#clip984)\" d=\"M919.579 1398.42 L903.579 1414.42 L919.579 1430.42 L935.579 1414.42 L919.579 1398.42 Z\" fill=\"#3da44d\" fill-rule=\"evenodd\" fill-opacity=\"1\" stroke=\"#000000\" stroke-opacity=\"1\" stroke-width=\"3.2\"/>\n",
       "<path clip-path=\"url(#clip984)\" d=\"M995.893 1106.67 L979.893 1122.67 L995.893 1138.67 L1011.89 1122.67 L995.893 1106.67 Z\" fill=\"#3da44d\" fill-rule=\"evenodd\" fill-opacity=\"1\" stroke=\"#000000\" stroke-opacity=\"1\" stroke-width=\"3.2\"/>\n",
       "<path clip-path=\"url(#clip984)\" d=\"M1072.21 1112.9 L1056.21 1128.9 L1072.21 1144.9 L1088.21 1128.9 L1072.21 1112.9 Z\" fill=\"#3da44d\" fill-rule=\"evenodd\" fill-opacity=\"1\" stroke=\"#000000\" stroke-opacity=\"1\" stroke-width=\"3.2\"/>\n",
       "<path clip-path=\"url(#clip984)\" d=\"M1148.52 1191.25 L1132.52 1207.25 L1148.52 1223.25 L1164.52 1207.25 L1148.52 1191.25 Z\" fill=\"#3da44d\" fill-rule=\"evenodd\" fill-opacity=\"1\" stroke=\"#000000\" stroke-opacity=\"1\" stroke-width=\"3.2\"/>\n",
       "<path clip-path=\"url(#clip984)\" d=\"M1224.83 1106.67 L1208.83 1122.67 L1224.83 1138.67 L1240.83 1122.67 L1224.83 1106.67 Z\" fill=\"#3da44d\" fill-rule=\"evenodd\" fill-opacity=\"1\" stroke=\"#000000\" stroke-opacity=\"1\" stroke-width=\"3.2\"/>\n",
       "<path clip-path=\"url(#clip984)\" d=\"M1301.15 1106.67 L1285.15 1122.67 L1301.15 1138.67 L1317.15 1122.67 L1301.15 1106.67 Z\" fill=\"#3da44d\" fill-rule=\"evenodd\" fill-opacity=\"1\" stroke=\"#000000\" stroke-opacity=\"1\" stroke-width=\"3.2\"/>\n",
       "<path clip-path=\"url(#clip984)\" d=\"M1377.46 1106.7 L1361.46 1122.7 L1377.46 1138.7 L1393.46 1122.7 L1377.46 1106.7 Z\" fill=\"#3da44d\" fill-rule=\"evenodd\" fill-opacity=\"1\" stroke=\"#000000\" stroke-opacity=\"1\" stroke-width=\"3.2\"/>\n",
       "<path clip-path=\"url(#clip984)\" d=\"M1453.78 1181.7 L1437.78 1197.7 L1453.78 1213.7 L1469.78 1197.7 L1453.78 1181.7 Z\" fill=\"#3da44d\" fill-rule=\"evenodd\" fill-opacity=\"1\" stroke=\"#000000\" stroke-opacity=\"1\" stroke-width=\"3.2\"/>\n",
       "<path clip-path=\"url(#clip984)\" d=\"M1530.09 1310.19 L1514.09 1326.19 L1530.09 1342.19 L1546.09 1326.19 L1530.09 1310.19 Z\" fill=\"#3da44d\" fill-rule=\"evenodd\" fill-opacity=\"1\" stroke=\"#000000\" stroke-opacity=\"1\" stroke-width=\"3.2\"/>\n",
       "<path clip-path=\"url(#clip984)\" d=\"M1606.4 1165.8 L1590.4 1181.8 L1606.4 1197.8 L1622.4 1181.8 L1606.4 1165.8 Z\" fill=\"#3da44d\" fill-rule=\"evenodd\" fill-opacity=\"1\" stroke=\"#000000\" stroke-opacity=\"1\" stroke-width=\"3.2\"/>\n",
       "<path clip-path=\"url(#clip984)\" d=\"M1682.72 1106.68 L1666.72 1122.68 L1682.72 1138.68 L1698.72 1122.68 L1682.72 1106.68 Z\" fill=\"#3da44d\" fill-rule=\"evenodd\" fill-opacity=\"1\" stroke=\"#000000\" stroke-opacity=\"1\" stroke-width=\"3.2\"/>\n",
       "<path clip-path=\"url(#clip984)\" d=\"M1759.03 1106.67 L1743.03 1122.67 L1759.03 1138.67 L1775.03 1122.67 L1759.03 1106.67 Z\" fill=\"#3da44d\" fill-rule=\"evenodd\" fill-opacity=\"1\" stroke=\"#000000\" stroke-opacity=\"1\" stroke-width=\"3.2\"/>\n",
       "<path clip-path=\"url(#clip984)\" d=\"M1835.35 1106.67 L1819.35 1122.67 L1835.35 1138.67 L1851.35 1122.67 L1835.35 1106.67 Z\" fill=\"#3da44d\" fill-rule=\"evenodd\" fill-opacity=\"1\" stroke=\"#000000\" stroke-opacity=\"1\" stroke-width=\"3.2\"/>\n",
       "<path clip-path=\"url(#clip984)\" d=\"M1911.66 1106.67 L1895.66 1122.67 L1911.66 1138.67 L1927.66 1122.67 L1911.66 1106.67 Z\" fill=\"#3da44d\" fill-rule=\"evenodd\" fill-opacity=\"1\" stroke=\"#000000\" stroke-opacity=\"1\" stroke-width=\"3.2\"/>\n",
       "<path clip-path=\"url(#clip984)\" d=\"M1987.97 1106.67 L1971.97 1122.67 L1987.97 1138.67 L2003.97 1122.67 L1987.97 1106.67 Z\" fill=\"#3da44d\" fill-rule=\"evenodd\" fill-opacity=\"1\" stroke=\"#000000\" stroke-opacity=\"1\" stroke-width=\"3.2\"/>\n",
       "<path clip-path=\"url(#clip984)\" d=\"M2064.29 1280.72 L2048.29 1296.72 L2064.29 1312.72 L2080.29 1296.72 L2064.29 1280.72 Z\" fill=\"#3da44d\" fill-rule=\"evenodd\" fill-opacity=\"1\" stroke=\"#000000\" stroke-opacity=\"1\" stroke-width=\"3.2\"/>\n",
       "<path clip-path=\"url(#clip984)\" d=\"M2140.6 1398.41 L2124.6 1414.41 L2140.6 1430.41 L2156.6 1414.41 L2140.6 1398.41 Z\" fill=\"#3da44d\" fill-rule=\"evenodd\" fill-opacity=\"1\" stroke=\"#000000\" stroke-opacity=\"1\" stroke-width=\"3.2\"/>\n",
       "<path clip-path=\"url(#clip984)\" d=\"M2216.92 1107.11 L2200.92 1123.11 L2216.92 1139.11 L2232.92 1123.11 L2216.92 1107.11 Z\" fill=\"#3da44d\" fill-rule=\"evenodd\" fill-opacity=\"1\" stroke=\"#000000\" stroke-opacity=\"1\" stroke-width=\"3.2\"/>\n",
       "<path clip-path=\"url(#clip984)\" d=\"M2293.23 1106.68 L2277.23 1122.68 L2293.23 1138.68 L2309.23 1122.68 L2293.23 1106.68 Z\" fill=\"#3da44d\" fill-rule=\"evenodd\" fill-opacity=\"1\" stroke=\"#000000\" stroke-opacity=\"1\" stroke-width=\"3.2\"/>\n",
       "<polyline clip-path=\"url(#clip984)\" style=\"stroke:#0000ff; stroke-linecap:round; stroke-linejoin:round; stroke-width:20; stroke-opacity:0.3; fill:none\" points=\"309.067,1122.66 309.067,1122.66 385.381,1122.66 385.381,1122.66 461.695,1122.66 461.695,1122.66 538.009,1122.66 538.009,1122.66 614.323,1122.66 614.323,1122.66 690.637,1122.66 690.637,1141.84 766.951,1141.84 766.951,1122.67 843.265,1122.67 843.265,1414.42 919.579,1414.42 919.579,1122.67 995.893,1122.67 995.893,1128.9 1072.21,1128.9 1072.21,1207.25 1148.52,1207.25 1148.52,1122.67 1224.83,1122.67 1224.83,1122.67 1301.15,1122.67 1301.15,1122.7 1377.46,1122.7 1377.46,1197.7 1453.78,1197.7 1453.78,1326.19 1530.09,1326.19 1530.09,1181.8 1606.4,1181.8 1606.4,1122.68 1682.72,1122.68 1682.72,1122.67 1759.03,1122.67 1759.03,1122.67 1835.35,1122.67 1835.35,1122.67 1911.66,1122.67 1911.66,1122.67 1987.97,1122.67 1987.97,1296.72 2064.29,1296.72 2064.29,1414.41 2140.6,1414.41 2140.6,1123.11 2216.92,1123.11 2216.92,1122.68 2293.23,1122.68 \"/>\n",
       "</svg>\n"
      ]
     },
     "metadata": {},
     "output_type": "display_data"
    }
   ],
   "source": [
    "#############\n",
    "# SETPOINTS #\n",
    "#############\n",
    "# limits\n",
    "p6 = plot(ts,yspMax*ones(length(ts)),linestyle = :dot,linecolor = :black,xaxis=\"time[h]\",yaxis=\"ysp1\",legend=false,gridlinewidth=2)\n",
    "for opti in 1:3\n",
    "    p6 = plot!(ts,yspTraj[opti,:,1],linewidth=5,linetype=:steppre,linealpha = 0.3,markershape=MList[opti],linecolor = CList[opti],legend=false)\n",
    "end\n",
    "\n",
    "p7 = plot(ts,yspMax*ones(length(ts)),linestyle = :dot,linecolor = :black,xaxis=\"time[h]\",yaxis=\"ysp2\",legend=false,gridlinewidth=2)\n",
    "for opti in 1:3\n",
    "    p7 = plot!(ts,yspTraj[opti,:,2],linewidth=5,linetype=:steppre,linealpha = 0.3,markershape=MList[opti],linecolor = CList[opti],legend=false)\n",
    "end\n",
    "\n",
    "p8 = plot(ts,yspMax*ones(length(ts)),linestyle = :dot,linecolor = :black,xaxis=\"time[h]\",yaxis=\"ysp3\",legend=false,gridlinewidth=2)\n",
    "for opti in 1:3\n",
    "    p8 = plot!(ts,yspTraj[opti,:,3],linewidth=5,linetype=:steppre,linealpha = 0.3,markershape=MList[opti],linecolor = CList[opti],legend=false)\n",
    "end\n",
    "\n",
    "g2 = plot(p6,p7,p8,layout=(3,1))\n",
    "display(g2)"
   ]
  },
  {
   "cell_type": "code",
   "execution_count": 20,
   "id": "49d7be69",
   "metadata": {},
   "outputs": [
    {
     "data": {
      "image/svg+xml": [
       "<?xml version=\"1.0\" encoding=\"utf-8\"?>\n",
       "<svg xmlns=\"http://www.w3.org/2000/svg\" xmlns:xlink=\"http://www.w3.org/1999/xlink\" width=\"600\" height=\"400\" viewBox=\"0 0 2400 1600\">\n",
       "<defs>\n",
       "  <clipPath id=\"clip020\">\n",
       "    <rect x=\"0\" y=\"0\" width=\"2400\" height=\"1600\"/>\n",
       "  </clipPath>\n",
       "</defs>\n",
       "<path clip-path=\"url(#clip020)\" d=\"M0 1600 L2400 1600 L2400 0 L0 0  Z\" fill=\"#ffffff\" fill-rule=\"evenodd\" fill-opacity=\"1\"/>\n",
       "<defs>\n",
       "  <clipPath id=\"clip021\">\n",
       "    <rect x=\"480\" y=\"0\" width=\"1681\" height=\"1600\"/>\n",
       "  </clipPath>\n",
       "</defs>\n",
       "<path clip-path=\"url(#clip020)\" d=\"M219.033 356.513 L2352.76 356.513 L2352.76 47.2441 L219.033 47.2441  Z\" fill=\"#ffffff\" fill-rule=\"evenodd\" fill-opacity=\"1\"/>\n",
       "<defs>\n",
       "  <clipPath id=\"clip022\">\n",
       "    <rect x=\"219\" y=\"47\" width=\"2135\" height=\"310\"/>\n",
       "  </clipPath>\n",
       "</defs>\n",
       "<polyline clip-path=\"url(#clip022)\" style=\"stroke:#000000; stroke-linecap:round; stroke-linejoin:round; stroke-width:8; stroke-opacity:0.1; fill:none\" points=\"589.105,356.513 589.105,47.2441 \"/>\n",
       "<polyline clip-path=\"url(#clip022)\" style=\"stroke:#000000; stroke-linecap:round; stroke-linejoin:round; stroke-width:8; stroke-opacity:0.1; fill:none\" points=\"976.21,356.513 976.21,47.2441 \"/>\n",
       "<polyline clip-path=\"url(#clip022)\" style=\"stroke:#000000; stroke-linecap:round; stroke-linejoin:round; stroke-width:8; stroke-opacity:0.1; fill:none\" points=\"1363.32,356.513 1363.32,47.2441 \"/>\n",
       "<polyline clip-path=\"url(#clip022)\" style=\"stroke:#000000; stroke-linecap:round; stroke-linejoin:round; stroke-width:8; stroke-opacity:0.1; fill:none\" points=\"1750.42,356.513 1750.42,47.2441 \"/>\n",
       "<polyline clip-path=\"url(#clip022)\" style=\"stroke:#000000; stroke-linecap:round; stroke-linejoin:round; stroke-width:8; stroke-opacity:0.1; fill:none\" points=\"2137.53,356.513 2137.53,47.2441 \"/>\n",
       "<polyline clip-path=\"url(#clip020)\" style=\"stroke:#000000; stroke-linecap:round; stroke-linejoin:round; stroke-width:4; stroke-opacity:1; fill:none\" points=\"219.033,356.513 2352.76,356.513 \"/>\n",
       "<polyline clip-path=\"url(#clip020)\" style=\"stroke:#000000; stroke-linecap:round; stroke-linejoin:round; stroke-width:4; stroke-opacity:1; fill:none\" points=\"589.105,356.513 589.105,337.616 \"/>\n",
       "<polyline clip-path=\"url(#clip020)\" style=\"stroke:#000000; stroke-linecap:round; stroke-linejoin:round; stroke-width:4; stroke-opacity:1; fill:none\" points=\"976.21,356.513 976.21,337.616 \"/>\n",
       "<polyline clip-path=\"url(#clip020)\" style=\"stroke:#000000; stroke-linecap:round; stroke-linejoin:round; stroke-width:4; stroke-opacity:1; fill:none\" points=\"1363.32,356.513 1363.32,337.616 \"/>\n",
       "<polyline clip-path=\"url(#clip020)\" style=\"stroke:#000000; stroke-linecap:round; stroke-linejoin:round; stroke-width:4; stroke-opacity:1; fill:none\" points=\"1750.42,356.513 1750.42,337.616 \"/>\n",
       "<polyline clip-path=\"url(#clip020)\" style=\"stroke:#000000; stroke-linecap:round; stroke-linejoin:round; stroke-width:4; stroke-opacity:1; fill:none\" points=\"2137.53,356.513 2137.53,337.616 \"/>\n",
       "<path clip-path=\"url(#clip020)\" d=\"M579.383 384.353 L597.74 384.353 L597.74 388.288 L583.666 388.288 L583.666 396.761 Q584.684 396.413 585.703 396.251 Q586.721 396.066 587.74 396.066 Q593.527 396.066 596.906 399.237 Q600.286 402.409 600.286 407.825 Q600.286 413.404 596.814 416.506 Q593.341 419.584 587.022 419.584 Q584.846 419.584 582.578 419.214 Q580.332 418.844 577.925 418.103 L577.925 413.404 Q580.008 414.538 582.23 415.094 Q584.453 415.649 586.929 415.649 Q590.934 415.649 593.272 413.543 Q595.61 411.436 595.61 407.825 Q595.61 404.214 593.272 402.108 Q590.934 400.001 586.929 400.001 Q585.054 400.001 583.179 400.418 Q581.328 400.835 579.383 401.714 L579.383 384.353 Z\" fill=\"#000000\" fill-rule=\"evenodd\" fill-opacity=\"1\" /><path clip-path=\"url(#clip020)\" d=\"M950.898 414.978 L958.537 414.978 L958.537 388.612 L950.227 390.279 L950.227 386.02 L958.491 384.353 L963.166 384.353 L963.166 414.978 L970.805 414.978 L970.805 418.913 L950.898 418.913 L950.898 414.978 Z\" fill=\"#000000\" fill-rule=\"evenodd\" fill-opacity=\"1\" /><path clip-path=\"url(#clip020)\" d=\"M990.25 387.432 Q986.639 387.432 984.81 390.997 Q983.004 394.538 983.004 401.668 Q983.004 408.774 984.81 412.339 Q986.639 415.881 990.25 415.881 Q993.884 415.881 995.689 412.339 Q997.518 408.774 997.518 401.668 Q997.518 394.538 995.689 390.997 Q993.884 387.432 990.25 387.432 M990.25 383.728 Q996.06 383.728 999.115 388.335 Q1002.19 392.918 1002.19 401.668 Q1002.19 410.395 999.115 415.001 Q996.06 419.584 990.25 419.584 Q984.44 419.584 981.361 415.001 Q978.305 410.395 978.305 401.668 Q978.305 392.918 981.361 388.335 Q984.44 383.728 990.25 383.728 Z\" fill=\"#000000\" fill-rule=\"evenodd\" fill-opacity=\"1\" /><path clip-path=\"url(#clip020)\" d=\"M1338.5 414.978 L1346.14 414.978 L1346.14 388.612 L1337.83 390.279 L1337.83 386.02 L1346.09 384.353 L1350.77 384.353 L1350.77 414.978 L1358.41 414.978 L1358.41 418.913 L1338.5 418.913 L1338.5 414.978 Z\" fill=\"#000000\" fill-rule=\"evenodd\" fill-opacity=\"1\" /><path clip-path=\"url(#clip020)\" d=\"M1367.9 384.353 L1386.26 384.353 L1386.26 388.288 L1372.18 388.288 L1372.18 396.761 Q1373.2 396.413 1374.22 396.251 Q1375.24 396.066 1376.26 396.066 Q1382.04 396.066 1385.42 399.237 Q1388.8 402.409 1388.8 407.825 Q1388.8 413.404 1385.33 416.506 Q1381.86 419.584 1375.54 419.584 Q1373.36 419.584 1371.09 419.214 Q1368.85 418.844 1366.44 418.103 L1366.44 413.404 Q1368.52 414.538 1370.75 415.094 Q1372.97 415.649 1375.44 415.649 Q1379.45 415.649 1381.79 413.543 Q1384.13 411.436 1384.13 407.825 Q1384.13 404.214 1381.79 402.108 Q1379.45 400.001 1375.44 400.001 Q1373.57 400.001 1371.7 400.418 Q1369.84 400.835 1367.9 401.714 L1367.9 384.353 Z\" fill=\"#000000\" fill-rule=\"evenodd\" fill-opacity=\"1\" /><path clip-path=\"url(#clip020)\" d=\"M1729.19 414.978 L1745.51 414.978 L1745.51 418.913 L1723.57 418.913 L1723.57 414.978 Q1726.23 412.223 1730.81 407.594 Q1735.42 402.941 1736.6 401.598 Q1738.85 399.075 1739.73 397.339 Q1740.63 395.58 1740.63 393.89 Q1740.63 391.136 1738.68 389.399 Q1736.76 387.663 1733.66 387.663 Q1731.46 387.663 1729.01 388.427 Q1726.58 389.191 1723.8 390.742 L1723.8 386.02 Q1726.62 384.886 1729.08 384.307 Q1731.53 383.728 1733.57 383.728 Q1738.94 383.728 1742.13 386.413 Q1745.33 389.099 1745.33 393.589 Q1745.33 395.719 1744.52 397.64 Q1743.73 399.538 1741.62 402.131 Q1741.05 402.802 1737.94 406.02 Q1734.84 409.214 1729.19 414.978 Z\" fill=\"#000000\" fill-rule=\"evenodd\" fill-opacity=\"1\" /><path clip-path=\"url(#clip020)\" d=\"M1765.33 387.432 Q1761.72 387.432 1759.89 390.997 Q1758.08 394.538 1758.08 401.668 Q1758.08 408.774 1759.89 412.339 Q1761.72 415.881 1765.33 415.881 Q1768.96 415.881 1770.77 412.339 Q1772.6 408.774 1772.6 401.668 Q1772.6 394.538 1770.77 390.997 Q1768.96 387.432 1765.33 387.432 M1765.33 383.728 Q1771.14 383.728 1774.19 388.335 Q1777.27 392.918 1777.27 401.668 Q1777.27 410.395 1774.19 415.001 Q1771.14 419.584 1765.33 419.584 Q1759.52 419.584 1756.44 415.001 Q1753.38 410.395 1753.38 401.668 Q1753.38 392.918 1756.44 388.335 Q1759.52 383.728 1765.33 383.728 Z\" fill=\"#000000\" fill-rule=\"evenodd\" fill-opacity=\"1\" /><path clip-path=\"url(#clip020)\" d=\"M2116.8 414.978 L2133.12 414.978 L2133.12 418.913 L2111.17 418.913 L2111.17 414.978 Q2113.83 412.223 2118.42 407.594 Q2123.02 402.941 2124.2 401.598 Q2126.45 399.075 2127.33 397.339 Q2128.23 395.58 2128.23 393.89 Q2128.23 391.136 2126.29 389.399 Q2124.37 387.663 2121.26 387.663 Q2119.06 387.663 2116.61 388.427 Q2114.18 389.191 2111.4 390.742 L2111.4 386.02 Q2114.23 384.886 2116.68 384.307 Q2119.13 383.728 2121.17 383.728 Q2126.54 383.728 2129.74 386.413 Q2132.93 389.099 2132.93 393.589 Q2132.93 395.719 2132.12 397.64 Q2131.33 399.538 2129.23 402.131 Q2128.65 402.802 2125.55 406.02 Q2122.44 409.214 2116.8 414.978 Z\" fill=\"#000000\" fill-rule=\"evenodd\" fill-opacity=\"1\" /><path clip-path=\"url(#clip020)\" d=\"M2142.98 384.353 L2161.33 384.353 L2161.33 388.288 L2147.26 388.288 L2147.26 396.761 Q2148.28 396.413 2149.3 396.251 Q2150.31 396.066 2151.33 396.066 Q2157.12 396.066 2160.5 399.237 Q2163.88 402.409 2163.88 407.825 Q2163.88 413.404 2160.41 416.506 Q2156.94 419.584 2150.62 419.584 Q2148.44 419.584 2146.17 419.214 Q2143.93 418.844 2141.52 418.103 L2141.52 413.404 Q2143.6 414.538 2145.82 415.094 Q2148.05 415.649 2150.52 415.649 Q2154.53 415.649 2156.87 413.543 Q2159.2 411.436 2159.2 407.825 Q2159.2 404.214 2156.87 402.108 Q2154.53 400.001 2150.52 400.001 Q2148.65 400.001 2146.77 400.418 Q2144.92 400.835 2142.98 401.714 L2142.98 384.353 Z\" fill=\"#000000\" fill-rule=\"evenodd\" fill-opacity=\"1\" /><path clip-path=\"url(#clip020)\" d=\"M1180.03 455.608 L1180.03 465.729 L1192.1 465.729 L1192.1 470.281 L1180.03 470.281 L1180.03 489.632 Q1180.03 493.993 1181.21 495.234 Q1182.42 496.476 1186.08 496.476 L1192.1 496.476 L1192.1 501.377 L1186.08 501.377 Q1179.3 501.377 1176.72 498.863 Q1174.14 496.316 1174.14 489.632 L1174.14 470.281 L1169.85 470.281 L1169.85 465.729 L1174.14 465.729 L1174.14 455.608 L1180.03 455.608 Z\" fill=\"#000000\" fill-rule=\"evenodd\" fill-opacity=\"1\" /><path clip-path=\"url(#clip020)\" d=\"M1199.8 465.729 L1205.65 465.729 L1205.65 501.377 L1199.8 501.377 L1199.8 465.729 M1199.8 451.852 L1205.65 451.852 L1205.65 459.268 L1199.8 459.268 L1199.8 451.852 Z\" fill=\"#000000\" fill-rule=\"evenodd\" fill-opacity=\"1\" /><path clip-path=\"url(#clip020)\" d=\"M1245.66 472.572 Q1247.86 468.626 1250.91 466.748 Q1253.97 464.87 1258.11 464.87 Q1263.68 464.87 1266.7 468.785 Q1269.73 472.668 1269.73 479.861 L1269.73 501.377 L1263.84 501.377 L1263.84 480.052 Q1263.84 474.928 1262.02 472.445 Q1260.21 469.962 1256.48 469.962 Q1251.93 469.962 1249.29 472.986 Q1246.65 476.01 1246.65 481.23 L1246.65 501.377 L1240.76 501.377 L1240.76 480.052 Q1240.76 474.896 1238.95 472.445 Q1237.13 469.962 1233.35 469.962 Q1228.86 469.962 1226.22 473.018 Q1223.57 476.042 1223.57 481.23 L1223.57 501.377 L1217.69 501.377 L1217.69 465.729 L1223.57 465.729 L1223.57 471.267 Q1225.58 467.989 1228.38 466.429 Q1231.18 464.87 1235.03 464.87 Q1238.92 464.87 1241.62 466.843 Q1244.36 468.817 1245.66 472.572 Z\" fill=\"#000000\" fill-rule=\"evenodd\" fill-opacity=\"1\" /><path clip-path=\"url(#clip020)\" d=\"M1311.9 482.089 L1311.9 484.954 L1284.97 484.954 Q1285.35 491.001 1288.6 494.184 Q1291.88 497.335 1297.7 497.335 Q1301.08 497.335 1304.23 496.507 Q1307.41 495.68 1310.53 494.025 L1310.53 499.563 Q1307.38 500.9 1304.07 501.6 Q1300.76 502.3 1297.35 502.3 Q1288.82 502.3 1283.83 497.335 Q1278.86 492.37 1278.86 483.903 Q1278.86 475.15 1283.57 470.026 Q1288.31 464.87 1296.33 464.87 Q1303.53 464.87 1307.7 469.517 Q1311.9 474.132 1311.9 482.089 M1306.04 480.37 Q1305.98 475.564 1303.34 472.7 Q1300.73 469.835 1296.4 469.835 Q1291.5 469.835 1288.54 472.604 Q1285.61 475.373 1285.16 480.402 L1306.04 480.37 Z\" fill=\"#000000\" fill-rule=\"evenodd\" fill-opacity=\"1\" /><path clip-path=\"url(#clip020)\" d=\"M1320.97 451.852 L1334.46 451.852 L1334.46 456.403 L1326.83 456.403 L1326.83 505.419 L1334.46 505.419 L1334.46 509.971 L1320.97 509.971 L1320.97 451.852 Z\" fill=\"#000000\" fill-rule=\"evenodd\" fill-opacity=\"1\" /><path clip-path=\"url(#clip020)\" d=\"M1376.57 479.861 L1376.57 501.377 L1370.72 501.377 L1370.72 480.052 Q1370.72 474.991 1368.74 472.477 Q1366.77 469.962 1362.82 469.962 Q1358.08 469.962 1355.34 472.986 Q1352.61 476.01 1352.61 481.23 L1352.61 501.377 L1346.72 501.377 L1346.72 451.852 L1352.61 451.852 L1352.61 471.267 Q1354.71 468.053 1357.54 466.461 Q1360.41 464.87 1364.13 464.87 Q1370.27 464.87 1373.42 468.689 Q1376.57 472.477 1376.57 479.861 Z\" fill=\"#000000\" fill-rule=\"evenodd\" fill-opacity=\"1\" /><path clip-path=\"url(#clip020)\" d=\"M1401.94 451.852 L1401.94 509.971 L1388.45 509.971 L1388.45 505.419 L1396.05 505.419 L1396.05 456.403 L1388.45 456.403 L1388.45 451.852 L1401.94 451.852 Z\" fill=\"#000000\" fill-rule=\"evenodd\" fill-opacity=\"1\" /><polyline clip-path=\"url(#clip022)\" style=\"stroke:#000000; stroke-linecap:round; stroke-linejoin:round; stroke-width:8; stroke-opacity:0.1; fill:none\" points=\"219.033,356.513 2352.76,356.513 \"/>\n",
       "<polyline clip-path=\"url(#clip022)\" style=\"stroke:#000000; stroke-linecap:round; stroke-linejoin:round; stroke-width:8; stroke-opacity:0.1; fill:none\" points=\"219.033,294.659 2352.76,294.659 \"/>\n",
       "<polyline clip-path=\"url(#clip022)\" style=\"stroke:#000000; stroke-linecap:round; stroke-linejoin:round; stroke-width:8; stroke-opacity:0.1; fill:none\" points=\"219.033,232.806 2352.76,232.806 \"/>\n",
       "<polyline clip-path=\"url(#clip022)\" style=\"stroke:#000000; stroke-linecap:round; stroke-linejoin:round; stroke-width:8; stroke-opacity:0.1; fill:none\" points=\"219.033,170.952 2352.76,170.952 \"/>\n",
       "<polyline clip-path=\"url(#clip022)\" style=\"stroke:#000000; stroke-linecap:round; stroke-linejoin:round; stroke-width:8; stroke-opacity:0.1; fill:none\" points=\"219.033,109.098 2352.76,109.098 \"/>\n",
       "<polyline clip-path=\"url(#clip022)\" style=\"stroke:#000000; stroke-linecap:round; stroke-linejoin:round; stroke-width:8; stroke-opacity:0.1; fill:none\" points=\"219.033,47.2441 2352.76,47.2441 \"/>\n",
       "<polyline clip-path=\"url(#clip020)\" style=\"stroke:#000000; stroke-linecap:round; stroke-linejoin:round; stroke-width:4; stroke-opacity:1; fill:none\" points=\"219.033,356.513 219.033,47.2441 \"/>\n",
       "<polyline clip-path=\"url(#clip020)\" style=\"stroke:#000000; stroke-linecap:round; stroke-linejoin:round; stroke-width:4; stroke-opacity:1; fill:none\" points=\"219.033,356.513 237.931,356.513 \"/>\n",
       "<polyline clip-path=\"url(#clip020)\" style=\"stroke:#000000; stroke-linecap:round; stroke-linejoin:round; stroke-width:4; stroke-opacity:1; fill:none\" points=\"219.033,294.659 237.931,294.659 \"/>\n",
       "<polyline clip-path=\"url(#clip020)\" style=\"stroke:#000000; stroke-linecap:round; stroke-linejoin:round; stroke-width:4; stroke-opacity:1; fill:none\" points=\"219.033,232.806 237.931,232.806 \"/>\n",
       "<polyline clip-path=\"url(#clip020)\" style=\"stroke:#000000; stroke-linecap:round; stroke-linejoin:round; stroke-width:4; stroke-opacity:1; fill:none\" points=\"219.033,170.952 237.931,170.952 \"/>\n",
       "<polyline clip-path=\"url(#clip020)\" style=\"stroke:#000000; stroke-linecap:round; stroke-linejoin:round; stroke-width:4; stroke-opacity:1; fill:none\" points=\"219.033,109.098 237.931,109.098 \"/>\n",
       "<polyline clip-path=\"url(#clip020)\" style=\"stroke:#000000; stroke-linecap:round; stroke-linejoin:round; stroke-width:4; stroke-opacity:1; fill:none\" points=\"219.033,47.2441 237.931,47.2441 \"/>\n",
       "<path clip-path=\"url(#clip020)\" d=\"M117.663 369.858 L125.302 369.858 L125.302 343.492 L116.992 345.159 L116.992 340.9 L125.255 339.233 L129.931 339.233 L129.931 369.858 L137.57 369.858 L137.57 373.793 L117.663 373.793 L117.663 369.858 Z\" fill=\"#000000\" fill-rule=\"evenodd\" fill-opacity=\"1\" /><path clip-path=\"url(#clip020)\" d=\"M147.015 367.914 L151.899 367.914 L151.899 373.793 L147.015 373.793 L147.015 367.914 Z\" fill=\"#000000\" fill-rule=\"evenodd\" fill-opacity=\"1\" /><path clip-path=\"url(#clip020)\" d=\"M162.13 339.233 L180.487 339.233 L180.487 343.168 L166.413 343.168 L166.413 351.641 Q167.431 351.293 168.45 351.131 Q169.468 350.946 170.487 350.946 Q176.274 350.946 179.653 354.117 Q183.033 357.289 183.033 362.705 Q183.033 368.284 179.561 371.386 Q176.089 374.464 169.769 374.464 Q167.593 374.464 165.325 374.094 Q163.079 373.724 160.672 372.983 L160.672 368.284 Q162.755 369.418 164.977 369.974 Q167.2 370.529 169.677 370.529 Q173.681 370.529 176.019 368.423 Q178.357 366.316 178.357 362.705 Q178.357 359.094 176.019 356.988 Q173.681 354.881 169.677 354.881 Q167.802 354.881 165.927 355.298 Q164.075 355.715 162.13 356.594 L162.13 339.233 Z\" fill=\"#000000\" fill-rule=\"evenodd\" fill-opacity=\"1\" /><path clip-path=\"url(#clip020)\" d=\"M116.506 308.004 L124.144 308.004 L124.144 281.639 L115.834 283.305 L115.834 279.046 L124.098 277.379 L128.774 277.379 L128.774 308.004 L136.413 308.004 L136.413 311.939 L116.506 311.939 L116.506 308.004 Z\" fill=\"#000000\" fill-rule=\"evenodd\" fill-opacity=\"1\" /><path clip-path=\"url(#clip020)\" d=\"M145.857 306.06 L150.741 306.06 L150.741 311.939 L145.857 311.939 L145.857 306.06 Z\" fill=\"#000000\" fill-rule=\"evenodd\" fill-opacity=\"1\" /><path clip-path=\"url(#clip020)\" d=\"M171.505 292.796 Q168.357 292.796 166.505 294.949 Q164.677 297.101 164.677 300.851 Q164.677 304.578 166.505 306.754 Q168.357 308.907 171.505 308.907 Q174.653 308.907 176.482 306.754 Q178.334 304.578 178.334 300.851 Q178.334 297.101 176.482 294.949 Q174.653 292.796 171.505 292.796 M180.788 278.143 L180.788 282.402 Q179.028 281.569 177.223 281.129 Q175.44 280.69 173.681 280.69 Q169.052 280.69 166.598 283.815 Q164.167 286.939 163.82 293.259 Q165.186 291.245 167.246 290.18 Q169.306 289.092 171.783 289.092 Q176.991 289.092 180.001 292.264 Q183.033 295.412 183.033 300.851 Q183.033 306.176 179.885 309.393 Q176.737 312.611 171.505 312.611 Q165.51 312.611 162.339 308.027 Q159.167 303.421 159.167 294.694 Q159.167 286.5 163.056 281.639 Q166.945 276.754 173.496 276.754 Q175.255 276.754 177.038 277.102 Q178.843 277.449 180.788 278.143 Z\" fill=\"#000000\" fill-rule=\"evenodd\" fill-opacity=\"1\" /><path clip-path=\"url(#clip020)\" d=\"M117.57 246.15 L125.209 246.15 L125.209 219.785 L116.899 221.451 L116.899 217.192 L125.163 215.526 L129.839 215.526 L129.839 246.15 L137.478 246.15 L137.478 250.086 L117.57 250.086 L117.57 246.15 Z\" fill=\"#000000\" fill-rule=\"evenodd\" fill-opacity=\"1\" /><path clip-path=\"url(#clip020)\" d=\"M146.922 244.206 L151.806 244.206 L151.806 250.086 L146.922 250.086 L146.922 244.206 Z\" fill=\"#000000\" fill-rule=\"evenodd\" fill-opacity=\"1\" /><path clip-path=\"url(#clip020)\" d=\"M160.811 215.526 L183.033 215.526 L183.033 217.516 L170.487 250.086 L165.602 250.086 L177.408 219.461 L160.811 219.461 L160.811 215.526 Z\" fill=\"#000000\" fill-rule=\"evenodd\" fill-opacity=\"1\" /><path clip-path=\"url(#clip020)\" d=\"M116.76 184.297 L124.399 184.297 L124.399 157.931 L116.089 159.598 L116.089 155.338 L124.353 153.672 L129.029 153.672 L129.029 184.297 L136.667 184.297 L136.667 188.232 L116.76 188.232 L116.76 184.297 Z\" fill=\"#000000\" fill-rule=\"evenodd\" fill-opacity=\"1\" /><path clip-path=\"url(#clip020)\" d=\"M146.112 182.352 L150.996 182.352 L150.996 188.232 L146.112 188.232 L146.112 182.352 Z\" fill=\"#000000\" fill-rule=\"evenodd\" fill-opacity=\"1\" /><path clip-path=\"url(#clip020)\" d=\"M171.181 171.82 Q167.848 171.82 165.927 173.602 Q164.028 175.385 164.028 178.51 Q164.028 181.635 165.927 183.417 Q167.848 185.199 171.181 185.199 Q174.514 185.199 176.436 183.417 Q178.357 181.611 178.357 178.51 Q178.357 175.385 176.436 173.602 Q174.538 171.82 171.181 171.82 M166.505 169.829 Q163.496 169.088 161.806 167.028 Q160.14 164.968 160.14 162.005 Q160.14 157.862 163.079 155.454 Q166.042 153.047 171.181 153.047 Q176.343 153.047 179.283 155.454 Q182.223 157.862 182.223 162.005 Q182.223 164.968 180.533 167.028 Q178.866 169.088 175.88 169.829 Q179.26 170.616 181.135 172.908 Q183.033 175.199 183.033 178.51 Q183.033 183.533 179.954 186.218 Q176.899 188.903 171.181 188.903 Q165.464 188.903 162.385 186.218 Q159.329 183.533 159.329 178.51 Q159.329 175.199 161.227 172.908 Q163.126 170.616 166.505 169.829 M164.792 162.445 Q164.792 165.13 166.459 166.635 Q168.149 168.139 171.181 168.139 Q174.19 168.139 175.88 166.635 Q177.593 165.13 177.593 162.445 Q177.593 159.76 175.88 158.255 Q174.19 156.75 171.181 156.75 Q168.149 156.75 166.459 158.255 Q164.792 159.76 164.792 162.445 Z\" fill=\"#000000\" fill-rule=\"evenodd\" fill-opacity=\"1\" /><path clip-path=\"url(#clip020)\" d=\"M116.853 122.443 L124.492 122.443 L124.492 96.0771 L116.181 97.7438 L116.181 93.4846 L124.445 91.8179 L129.121 91.8179 L129.121 122.443 L136.76 122.443 L136.76 126.378 L116.853 126.378 L116.853 122.443 Z\" fill=\"#000000\" fill-rule=\"evenodd\" fill-opacity=\"1\" /><path clip-path=\"url(#clip020)\" d=\"M146.204 120.498 L151.089 120.498 L151.089 126.378 L146.204 126.378 L146.204 120.498 Z\" fill=\"#000000\" fill-rule=\"evenodd\" fill-opacity=\"1\" /><path clip-path=\"url(#clip020)\" d=\"M161.413 125.66 L161.413 121.401 Q163.172 122.234 164.977 122.674 Q166.783 123.114 168.519 123.114 Q173.149 123.114 175.579 120.012 Q178.033 116.887 178.38 110.545 Q177.038 112.535 174.977 113.6 Q172.917 114.665 170.417 114.665 Q165.232 114.665 162.2 111.54 Q159.19 108.392 159.19 102.952 Q159.19 97.6281 162.339 94.4105 Q165.487 91.1929 170.718 91.1929 Q176.714 91.1929 179.862 95.7994 Q183.033 100.383 183.033 109.133 Q183.033 117.304 179.144 122.188 Q175.278 127.049 168.727 127.049 Q166.968 127.049 165.163 126.702 Q163.357 126.355 161.413 125.66 M170.718 111.008 Q173.866 111.008 175.695 108.855 Q177.547 106.702 177.547 102.952 Q177.547 99.2253 175.695 97.0725 Q173.866 94.8966 170.718 94.8966 Q167.57 94.8966 165.718 97.0725 Q163.89 99.2253 163.89 102.952 Q163.89 106.702 165.718 108.855 Q167.57 111.008 170.718 111.008 Z\" fill=\"#000000\" fill-rule=\"evenodd\" fill-opacity=\"1\" /><path clip-path=\"url(#clip020)\" d=\"M119.885 60.5889 L136.204 60.5889 L136.204 64.5241 L114.26 64.5241 L114.26 60.5889 Q116.922 57.8343 121.505 53.2047 Q126.112 48.552 127.292 47.2094 Q129.538 44.6862 130.417 42.9501 Q131.32 41.1909 131.32 39.5011 Q131.32 36.7465 129.376 35.0104 Q127.455 33.2743 124.353 33.2743 Q122.154 33.2743 119.7 34.0381 Q117.269 34.802 114.492 36.3529 L114.492 31.6308 Q117.316 30.4965 119.769 29.9178 Q122.223 29.3391 124.26 29.3391 Q129.63 29.3391 132.825 32.0243 Q136.019 34.7094 136.019 39.2002 Q136.019 41.3298 135.209 43.2511 Q134.422 45.1492 132.316 47.7418 Q131.737 48.4131 128.635 51.6306 Q125.533 54.8251 119.885 60.5889 Z\" fill=\"#000000\" fill-rule=\"evenodd\" fill-opacity=\"1\" /><path clip-path=\"url(#clip020)\" d=\"M146.019 58.6445 L150.903 58.6445 L150.903 64.5241 L146.019 64.5241 L146.019 58.6445 Z\" fill=\"#000000\" fill-rule=\"evenodd\" fill-opacity=\"1\" /><path clip-path=\"url(#clip020)\" d=\"M171.089 33.0428 Q167.477 33.0428 165.649 36.6076 Q163.843 40.1492 163.843 47.2788 Q163.843 54.3853 165.649 57.9501 Q167.477 61.4917 171.089 61.4917 Q174.723 61.4917 176.528 57.9501 Q178.357 54.3853 178.357 47.2788 Q178.357 40.1492 176.528 36.6076 Q174.723 33.0428 171.089 33.0428 M171.089 29.3391 Q176.899 29.3391 179.954 33.9456 Q183.033 38.5289 183.033 47.2788 Q183.033 56.0056 179.954 60.6121 Q176.899 65.1954 171.089 65.1954 Q165.278 65.1954 162.2 60.6121 Q159.144 56.0056 159.144 47.2788 Q159.144 38.5289 162.2 33.9456 Q165.278 29.3391 171.089 29.3391 Z\" fill=\"#000000\" fill-rule=\"evenodd\" fill-opacity=\"1\" /><path clip-path=\"url(#clip020)\" d=\"M49.9359 237.495 L28.3562 237.495 L28.3562 231.638 L49.7131 231.638 Q54.7739 231.638 57.3202 229.665 Q59.8346 227.692 59.8346 223.745 Q59.8346 219.002 56.8109 216.265 Q53.7872 213.496 48.5673 213.496 L28.3562 213.496 L28.3562 207.64 L64.0042 207.64 L64.0042 213.496 L58.5296 213.496 Q61.7762 215.629 63.3676 218.461 Q64.9272 221.262 64.9272 224.986 Q64.9272 231.129 61.1078 234.312 Q57.2883 237.495 49.9359 237.495 M27.4968 222.758 L27.4968 222.758 Z\" fill=\"#000000\" fill-rule=\"evenodd\" fill-opacity=\"1\" /><path clip-path=\"url(#clip020)\" d=\"M58.5933 193.635 L58.5933 183.132 L22.3406 183.132 L24.6323 194.558 L18.7758 194.558 L16.4842 183.195 L16.4842 176.766 L58.5933 176.766 L58.5933 166.263 L64.0042 166.263 L64.0042 193.635 L58.5933 193.635 Z\" fill=\"#000000\" fill-rule=\"evenodd\" fill-opacity=\"1\" /><line clip-path=\"url(#clip022)\" x1=\"279.421\" y1=\"250.342\" x2=\"279.421\" y2=\"234.342\" style=\"stroke:#6b9e32; stroke-width:3.2; stroke-opacity:1\"/>\n",
       "<line clip-path=\"url(#clip022)\" x1=\"279.421\" y1=\"250.342\" x2=\"263.421\" y2=\"250.342\" style=\"stroke:#6b9e32; stroke-width:3.2; stroke-opacity:1\"/>\n",
       "<line clip-path=\"url(#clip022)\" x1=\"279.421\" y1=\"250.342\" x2=\"279.421\" y2=\"266.342\" style=\"stroke:#6b9e32; stroke-width:3.2; stroke-opacity:1\"/>\n",
       "<line clip-path=\"url(#clip022)\" x1=\"279.421\" y1=\"250.342\" x2=\"295.421\" y2=\"250.342\" style=\"stroke:#6b9e32; stroke-width:3.2; stroke-opacity:1\"/>\n",
       "<line clip-path=\"url(#clip022)\" x1=\"356.842\" y1=\"109.098\" x2=\"356.842\" y2=\"93.0979\" style=\"stroke:#6b9e32; stroke-width:3.2; stroke-opacity:1\"/>\n",
       "<line clip-path=\"url(#clip022)\" x1=\"356.842\" y1=\"109.098\" x2=\"340.842\" y2=\"109.098\" style=\"stroke:#6b9e32; stroke-width:3.2; stroke-opacity:1\"/>\n",
       "<line clip-path=\"url(#clip022)\" x1=\"356.842\" y1=\"109.098\" x2=\"356.842\" y2=\"125.098\" style=\"stroke:#6b9e32; stroke-width:3.2; stroke-opacity:1\"/>\n",
       "<line clip-path=\"url(#clip022)\" x1=\"356.842\" y1=\"109.098\" x2=\"372.842\" y2=\"109.098\" style=\"stroke:#6b9e32; stroke-width:3.2; stroke-opacity:1\"/>\n",
       "<line clip-path=\"url(#clip022)\" x1=\"434.263\" y1=\"109.098\" x2=\"434.263\" y2=\"93.0979\" style=\"stroke:#6b9e32; stroke-width:3.2; stroke-opacity:1\"/>\n",
       "<line clip-path=\"url(#clip022)\" x1=\"434.263\" y1=\"109.098\" x2=\"418.263\" y2=\"109.098\" style=\"stroke:#6b9e32; stroke-width:3.2; stroke-opacity:1\"/>\n",
       "<line clip-path=\"url(#clip022)\" x1=\"434.263\" y1=\"109.098\" x2=\"434.263\" y2=\"125.098\" style=\"stroke:#6b9e32; stroke-width:3.2; stroke-opacity:1\"/>\n",
       "<line clip-path=\"url(#clip022)\" x1=\"434.263\" y1=\"109.098\" x2=\"450.263\" y2=\"109.098\" style=\"stroke:#6b9e32; stroke-width:3.2; stroke-opacity:1\"/>\n",
       "<line clip-path=\"url(#clip022)\" x1=\"511.684\" y1=\"134.428\" x2=\"511.684\" y2=\"118.428\" style=\"stroke:#6b9e32; stroke-width:3.2; stroke-opacity:1\"/>\n",
       "<line clip-path=\"url(#clip022)\" x1=\"511.684\" y1=\"134.428\" x2=\"495.684\" y2=\"134.428\" style=\"stroke:#6b9e32; stroke-width:3.2; stroke-opacity:1\"/>\n",
       "<line clip-path=\"url(#clip022)\" x1=\"511.684\" y1=\"134.428\" x2=\"511.684\" y2=\"150.428\" style=\"stroke:#6b9e32; stroke-width:3.2; stroke-opacity:1\"/>\n",
       "<line clip-path=\"url(#clip022)\" x1=\"511.684\" y1=\"134.428\" x2=\"527.684\" y2=\"134.428\" style=\"stroke:#6b9e32; stroke-width:3.2; stroke-opacity:1\"/>\n",
       "<line clip-path=\"url(#clip022)\" x1=\"589.105\" y1=\"166.276\" x2=\"589.105\" y2=\"150.276\" style=\"stroke:#6b9e32; stroke-width:3.2; stroke-opacity:1\"/>\n",
       "<line clip-path=\"url(#clip022)\" x1=\"589.105\" y1=\"166.276\" x2=\"573.105\" y2=\"166.276\" style=\"stroke:#6b9e32; stroke-width:3.2; stroke-opacity:1\"/>\n",
       "<line clip-path=\"url(#clip022)\" x1=\"589.105\" y1=\"166.276\" x2=\"589.105\" y2=\"182.276\" style=\"stroke:#6b9e32; stroke-width:3.2; stroke-opacity:1\"/>\n",
       "<line clip-path=\"url(#clip022)\" x1=\"589.105\" y1=\"166.276\" x2=\"605.105\" y2=\"166.276\" style=\"stroke:#6b9e32; stroke-width:3.2; stroke-opacity:1\"/>\n",
       "<line clip-path=\"url(#clip022)\" x1=\"666.526\" y1=\"202.656\" x2=\"666.526\" y2=\"186.656\" style=\"stroke:#6b9e32; stroke-width:3.2; stroke-opacity:1\"/>\n",
       "<line clip-path=\"url(#clip022)\" x1=\"666.526\" y1=\"202.656\" x2=\"650.526\" y2=\"202.656\" style=\"stroke:#6b9e32; stroke-width:3.2; stroke-opacity:1\"/>\n",
       "<line clip-path=\"url(#clip022)\" x1=\"666.526\" y1=\"202.656\" x2=\"666.526\" y2=\"218.656\" style=\"stroke:#6b9e32; stroke-width:3.2; stroke-opacity:1\"/>\n",
       "<line clip-path=\"url(#clip022)\" x1=\"666.526\" y1=\"202.656\" x2=\"682.526\" y2=\"202.656\" style=\"stroke:#6b9e32; stroke-width:3.2; stroke-opacity:1\"/>\n",
       "<line clip-path=\"url(#clip022)\" x1=\"743.947\" y1=\"243.216\" x2=\"743.947\" y2=\"227.216\" style=\"stroke:#6b9e32; stroke-width:3.2; stroke-opacity:1\"/>\n",
       "<line clip-path=\"url(#clip022)\" x1=\"743.947\" y1=\"243.216\" x2=\"727.947\" y2=\"243.216\" style=\"stroke:#6b9e32; stroke-width:3.2; stroke-opacity:1\"/>\n",
       "<line clip-path=\"url(#clip022)\" x1=\"743.947\" y1=\"243.216\" x2=\"743.947\" y2=\"259.216\" style=\"stroke:#6b9e32; stroke-width:3.2; stroke-opacity:1\"/>\n",
       "<line clip-path=\"url(#clip022)\" x1=\"743.947\" y1=\"243.216\" x2=\"759.947\" y2=\"243.216\" style=\"stroke:#6b9e32; stroke-width:3.2; stroke-opacity:1\"/>\n",
       "<line clip-path=\"url(#clip022)\" x1=\"821.368\" y1=\"261.955\" x2=\"821.368\" y2=\"245.955\" style=\"stroke:#6b9e32; stroke-width:3.2; stroke-opacity:1\"/>\n",
       "<line clip-path=\"url(#clip022)\" x1=\"821.368\" y1=\"261.955\" x2=\"805.368\" y2=\"261.955\" style=\"stroke:#6b9e32; stroke-width:3.2; stroke-opacity:1\"/>\n",
       "<line clip-path=\"url(#clip022)\" x1=\"821.368\" y1=\"261.955\" x2=\"821.368\" y2=\"277.955\" style=\"stroke:#6b9e32; stroke-width:3.2; stroke-opacity:1\"/>\n",
       "<line clip-path=\"url(#clip022)\" x1=\"821.368\" y1=\"261.955\" x2=\"837.368\" y2=\"261.955\" style=\"stroke:#6b9e32; stroke-width:3.2; stroke-opacity:1\"/>\n",
       "<line clip-path=\"url(#clip022)\" x1=\"898.789\" y1=\"249.846\" x2=\"898.789\" y2=\"233.846\" style=\"stroke:#6b9e32; stroke-width:3.2; stroke-opacity:1\"/>\n",
       "<line clip-path=\"url(#clip022)\" x1=\"898.789\" y1=\"249.846\" x2=\"882.789\" y2=\"249.846\" style=\"stroke:#6b9e32; stroke-width:3.2; stroke-opacity:1\"/>\n",
       "<line clip-path=\"url(#clip022)\" x1=\"898.789\" y1=\"249.846\" x2=\"898.789\" y2=\"265.846\" style=\"stroke:#6b9e32; stroke-width:3.2; stroke-opacity:1\"/>\n",
       "<line clip-path=\"url(#clip022)\" x1=\"898.789\" y1=\"249.846\" x2=\"914.789\" y2=\"249.846\" style=\"stroke:#6b9e32; stroke-width:3.2; stroke-opacity:1\"/>\n",
       "<line clip-path=\"url(#clip022)\" x1=\"976.21\" y1=\"220.572\" x2=\"976.21\" y2=\"204.572\" style=\"stroke:#6b9e32; stroke-width:3.2; stroke-opacity:1\"/>\n",
       "<line clip-path=\"url(#clip022)\" x1=\"976.21\" y1=\"220.572\" x2=\"960.21\" y2=\"220.572\" style=\"stroke:#6b9e32; stroke-width:3.2; stroke-opacity:1\"/>\n",
       "<line clip-path=\"url(#clip022)\" x1=\"976.21\" y1=\"220.572\" x2=\"976.21\" y2=\"236.572\" style=\"stroke:#6b9e32; stroke-width:3.2; stroke-opacity:1\"/>\n",
       "<line clip-path=\"url(#clip022)\" x1=\"976.21\" y1=\"220.572\" x2=\"992.21\" y2=\"220.572\" style=\"stroke:#6b9e32; stroke-width:3.2; stroke-opacity:1\"/>\n",
       "<line clip-path=\"url(#clip022)\" x1=\"1053.63\" y1=\"206.666\" x2=\"1053.63\" y2=\"190.666\" style=\"stroke:#6b9e32; stroke-width:3.2; stroke-opacity:1\"/>\n",
       "<line clip-path=\"url(#clip022)\" x1=\"1053.63\" y1=\"206.666\" x2=\"1037.63\" y2=\"206.666\" style=\"stroke:#6b9e32; stroke-width:3.2; stroke-opacity:1\"/>\n",
       "<line clip-path=\"url(#clip022)\" x1=\"1053.63\" y1=\"206.666\" x2=\"1053.63\" y2=\"222.666\" style=\"stroke:#6b9e32; stroke-width:3.2; stroke-opacity:1\"/>\n",
       "<line clip-path=\"url(#clip022)\" x1=\"1053.63\" y1=\"206.666\" x2=\"1069.63\" y2=\"206.666\" style=\"stroke:#6b9e32; stroke-width:3.2; stroke-opacity:1\"/>\n",
       "<line clip-path=\"url(#clip022)\" x1=\"1131.05\" y1=\"211.662\" x2=\"1131.05\" y2=\"195.662\" style=\"stroke:#6b9e32; stroke-width:3.2; stroke-opacity:1\"/>\n",
       "<line clip-path=\"url(#clip022)\" x1=\"1131.05\" y1=\"211.662\" x2=\"1115.05\" y2=\"211.662\" style=\"stroke:#6b9e32; stroke-width:3.2; stroke-opacity:1\"/>\n",
       "<line clip-path=\"url(#clip022)\" x1=\"1131.05\" y1=\"211.662\" x2=\"1131.05\" y2=\"227.662\" style=\"stroke:#6b9e32; stroke-width:3.2; stroke-opacity:1\"/>\n",
       "<line clip-path=\"url(#clip022)\" x1=\"1131.05\" y1=\"211.662\" x2=\"1147.05\" y2=\"211.662\" style=\"stroke:#6b9e32; stroke-width:3.2; stroke-opacity:1\"/>\n",
       "<line clip-path=\"url(#clip022)\" x1=\"1208.47\" y1=\"220.729\" x2=\"1208.47\" y2=\"204.729\" style=\"stroke:#6b9e32; stroke-width:3.2; stroke-opacity:1\"/>\n",
       "<line clip-path=\"url(#clip022)\" x1=\"1208.47\" y1=\"220.729\" x2=\"1192.47\" y2=\"220.729\" style=\"stroke:#6b9e32; stroke-width:3.2; stroke-opacity:1\"/>\n",
       "<line clip-path=\"url(#clip022)\" x1=\"1208.47\" y1=\"220.729\" x2=\"1208.47\" y2=\"236.729\" style=\"stroke:#6b9e32; stroke-width:3.2; stroke-opacity:1\"/>\n",
       "<line clip-path=\"url(#clip022)\" x1=\"1208.47\" y1=\"220.729\" x2=\"1224.47\" y2=\"220.729\" style=\"stroke:#6b9e32; stroke-width:3.2; stroke-opacity:1\"/>\n",
       "<line clip-path=\"url(#clip022)\" x1=\"1285.89\" y1=\"223.374\" x2=\"1285.89\" y2=\"207.374\" style=\"stroke:#6b9e32; stroke-width:3.2; stroke-opacity:1\"/>\n",
       "<line clip-path=\"url(#clip022)\" x1=\"1285.89\" y1=\"223.374\" x2=\"1269.89\" y2=\"223.374\" style=\"stroke:#6b9e32; stroke-width:3.2; stroke-opacity:1\"/>\n",
       "<line clip-path=\"url(#clip022)\" x1=\"1285.89\" y1=\"223.374\" x2=\"1285.89\" y2=\"239.374\" style=\"stroke:#6b9e32; stroke-width:3.2; stroke-opacity:1\"/>\n",
       "<line clip-path=\"url(#clip022)\" x1=\"1285.89\" y1=\"223.374\" x2=\"1301.89\" y2=\"223.374\" style=\"stroke:#6b9e32; stroke-width:3.2; stroke-opacity:1\"/>\n",
       "<line clip-path=\"url(#clip022)\" x1=\"1363.32\" y1=\"227.228\" x2=\"1363.32\" y2=\"211.228\" style=\"stroke:#6b9e32; stroke-width:3.2; stroke-opacity:1\"/>\n",
       "<line clip-path=\"url(#clip022)\" x1=\"1363.32\" y1=\"227.228\" x2=\"1347.32\" y2=\"227.228\" style=\"stroke:#6b9e32; stroke-width:3.2; stroke-opacity:1\"/>\n",
       "<line clip-path=\"url(#clip022)\" x1=\"1363.32\" y1=\"227.228\" x2=\"1363.32\" y2=\"243.228\" style=\"stroke:#6b9e32; stroke-width:3.2; stroke-opacity:1\"/>\n",
       "<line clip-path=\"url(#clip022)\" x1=\"1363.32\" y1=\"227.228\" x2=\"1379.32\" y2=\"227.228\" style=\"stroke:#6b9e32; stroke-width:3.2; stroke-opacity:1\"/>\n",
       "<line clip-path=\"url(#clip022)\" x1=\"1440.74\" y1=\"239\" x2=\"1440.74\" y2=\"223\" style=\"stroke:#6b9e32; stroke-width:3.2; stroke-opacity:1\"/>\n",
       "<line clip-path=\"url(#clip022)\" x1=\"1440.74\" y1=\"239\" x2=\"1424.74\" y2=\"239\" style=\"stroke:#6b9e32; stroke-width:3.2; stroke-opacity:1\"/>\n",
       "<line clip-path=\"url(#clip022)\" x1=\"1440.74\" y1=\"239\" x2=\"1440.74\" y2=\"255\" style=\"stroke:#6b9e32; stroke-width:3.2; stroke-opacity:1\"/>\n",
       "<line clip-path=\"url(#clip022)\" x1=\"1440.74\" y1=\"239\" x2=\"1456.74\" y2=\"239\" style=\"stroke:#6b9e32; stroke-width:3.2; stroke-opacity:1\"/>\n",
       "<line clip-path=\"url(#clip022)\" x1=\"1518.16\" y1=\"228.874\" x2=\"1518.16\" y2=\"212.874\" style=\"stroke:#6b9e32; stroke-width:3.2; stroke-opacity:1\"/>\n",
       "<line clip-path=\"url(#clip022)\" x1=\"1518.16\" y1=\"228.874\" x2=\"1502.16\" y2=\"228.874\" style=\"stroke:#6b9e32; stroke-width:3.2; stroke-opacity:1\"/>\n",
       "<line clip-path=\"url(#clip022)\" x1=\"1518.16\" y1=\"228.874\" x2=\"1518.16\" y2=\"244.874\" style=\"stroke:#6b9e32; stroke-width:3.2; stroke-opacity:1\"/>\n",
       "<line clip-path=\"url(#clip022)\" x1=\"1518.16\" y1=\"228.874\" x2=\"1534.16\" y2=\"228.874\" style=\"stroke:#6b9e32; stroke-width:3.2; stroke-opacity:1\"/>\n",
       "<line clip-path=\"url(#clip022)\" x1=\"1595.58\" y1=\"217.512\" x2=\"1595.58\" y2=\"201.512\" style=\"stroke:#6b9e32; stroke-width:3.2; stroke-opacity:1\"/>\n",
       "<line clip-path=\"url(#clip022)\" x1=\"1595.58\" y1=\"217.512\" x2=\"1579.58\" y2=\"217.512\" style=\"stroke:#6b9e32; stroke-width:3.2; stroke-opacity:1\"/>\n",
       "<line clip-path=\"url(#clip022)\" x1=\"1595.58\" y1=\"217.512\" x2=\"1595.58\" y2=\"233.512\" style=\"stroke:#6b9e32; stroke-width:3.2; stroke-opacity:1\"/>\n",
       "<line clip-path=\"url(#clip022)\" x1=\"1595.58\" y1=\"217.512\" x2=\"1611.58\" y2=\"217.512\" style=\"stroke:#6b9e32; stroke-width:3.2; stroke-opacity:1\"/>\n",
       "<line clip-path=\"url(#clip022)\" x1=\"1673\" y1=\"214.515\" x2=\"1673\" y2=\"198.515\" style=\"stroke:#6b9e32; stroke-width:3.2; stroke-opacity:1\"/>\n",
       "<line clip-path=\"url(#clip022)\" x1=\"1673\" y1=\"214.515\" x2=\"1657\" y2=\"214.515\" style=\"stroke:#6b9e32; stroke-width:3.2; stroke-opacity:1\"/>\n",
       "<line clip-path=\"url(#clip022)\" x1=\"1673\" y1=\"214.515\" x2=\"1673\" y2=\"230.515\" style=\"stroke:#6b9e32; stroke-width:3.2; stroke-opacity:1\"/>\n",
       "<line clip-path=\"url(#clip022)\" x1=\"1673\" y1=\"214.515\" x2=\"1689\" y2=\"214.515\" style=\"stroke:#6b9e32; stroke-width:3.2; stroke-opacity:1\"/>\n",
       "<line clip-path=\"url(#clip022)\" x1=\"1750.42\" y1=\"225.228\" x2=\"1750.42\" y2=\"209.228\" style=\"stroke:#6b9e32; stroke-width:3.2; stroke-opacity:1\"/>\n",
       "<line clip-path=\"url(#clip022)\" x1=\"1750.42\" y1=\"225.228\" x2=\"1734.42\" y2=\"225.228\" style=\"stroke:#6b9e32; stroke-width:3.2; stroke-opacity:1\"/>\n",
       "<line clip-path=\"url(#clip022)\" x1=\"1750.42\" y1=\"225.228\" x2=\"1750.42\" y2=\"241.228\" style=\"stroke:#6b9e32; stroke-width:3.2; stroke-opacity:1\"/>\n",
       "<line clip-path=\"url(#clip022)\" x1=\"1750.42\" y1=\"225.228\" x2=\"1766.42\" y2=\"225.228\" style=\"stroke:#6b9e32; stroke-width:3.2; stroke-opacity:1\"/>\n",
       "<line clip-path=\"url(#clip022)\" x1=\"1827.84\" y1=\"225.228\" x2=\"1827.84\" y2=\"209.228\" style=\"stroke:#6b9e32; stroke-width:3.2; stroke-opacity:1\"/>\n",
       "<line clip-path=\"url(#clip022)\" x1=\"1827.84\" y1=\"225.228\" x2=\"1811.84\" y2=\"225.228\" style=\"stroke:#6b9e32; stroke-width:3.2; stroke-opacity:1\"/>\n",
       "<line clip-path=\"url(#clip022)\" x1=\"1827.84\" y1=\"225.228\" x2=\"1827.84\" y2=\"241.228\" style=\"stroke:#6b9e32; stroke-width:3.2; stroke-opacity:1\"/>\n",
       "<line clip-path=\"url(#clip022)\" x1=\"1827.84\" y1=\"225.228\" x2=\"1843.84\" y2=\"225.228\" style=\"stroke:#6b9e32; stroke-width:3.2; stroke-opacity:1\"/>\n",
       "<line clip-path=\"url(#clip022)\" x1=\"1905.26\" y1=\"225.228\" x2=\"1905.26\" y2=\"209.228\" style=\"stroke:#6b9e32; stroke-width:3.2; stroke-opacity:1\"/>\n",
       "<line clip-path=\"url(#clip022)\" x1=\"1905.26\" y1=\"225.228\" x2=\"1889.26\" y2=\"225.228\" style=\"stroke:#6b9e32; stroke-width:3.2; stroke-opacity:1\"/>\n",
       "<line clip-path=\"url(#clip022)\" x1=\"1905.26\" y1=\"225.228\" x2=\"1905.26\" y2=\"241.228\" style=\"stroke:#6b9e32; stroke-width:3.2; stroke-opacity:1\"/>\n",
       "<line clip-path=\"url(#clip022)\" x1=\"1905.26\" y1=\"225.228\" x2=\"1921.26\" y2=\"225.228\" style=\"stroke:#6b9e32; stroke-width:3.2; stroke-opacity:1\"/>\n",
       "<line clip-path=\"url(#clip022)\" x1=\"1982.68\" y1=\"225.228\" x2=\"1982.68\" y2=\"209.228\" style=\"stroke:#6b9e32; stroke-width:3.2; stroke-opacity:1\"/>\n",
       "<line clip-path=\"url(#clip022)\" x1=\"1982.68\" y1=\"225.228\" x2=\"1966.68\" y2=\"225.228\" style=\"stroke:#6b9e32; stroke-width:3.2; stroke-opacity:1\"/>\n",
       "<line clip-path=\"url(#clip022)\" x1=\"1982.68\" y1=\"225.228\" x2=\"1982.68\" y2=\"241.228\" style=\"stroke:#6b9e32; stroke-width:3.2; stroke-opacity:1\"/>\n",
       "<line clip-path=\"url(#clip022)\" x1=\"1982.68\" y1=\"225.228\" x2=\"1998.68\" y2=\"225.228\" style=\"stroke:#6b9e32; stroke-width:3.2; stroke-opacity:1\"/>\n",
       "<line clip-path=\"url(#clip022)\" x1=\"2060.1\" y1=\"225.228\" x2=\"2060.1\" y2=\"209.228\" style=\"stroke:#6b9e32; stroke-width:3.2; stroke-opacity:1\"/>\n",
       "<line clip-path=\"url(#clip022)\" x1=\"2060.1\" y1=\"225.228\" x2=\"2044.1\" y2=\"225.228\" style=\"stroke:#6b9e32; stroke-width:3.2; stroke-opacity:1\"/>\n",
       "<line clip-path=\"url(#clip022)\" x1=\"2060.1\" y1=\"225.228\" x2=\"2060.1\" y2=\"241.228\" style=\"stroke:#6b9e32; stroke-width:3.2; stroke-opacity:1\"/>\n",
       "<line clip-path=\"url(#clip022)\" x1=\"2060.1\" y1=\"225.228\" x2=\"2076.1\" y2=\"225.228\" style=\"stroke:#6b9e32; stroke-width:3.2; stroke-opacity:1\"/>\n",
       "<line clip-path=\"url(#clip022)\" x1=\"2137.53\" y1=\"225.228\" x2=\"2137.53\" y2=\"209.228\" style=\"stroke:#6b9e32; stroke-width:3.2; stroke-opacity:1\"/>\n",
       "<line clip-path=\"url(#clip022)\" x1=\"2137.53\" y1=\"225.228\" x2=\"2121.53\" y2=\"225.228\" style=\"stroke:#6b9e32; stroke-width:3.2; stroke-opacity:1\"/>\n",
       "<line clip-path=\"url(#clip022)\" x1=\"2137.53\" y1=\"225.228\" x2=\"2137.53\" y2=\"241.228\" style=\"stroke:#6b9e32; stroke-width:3.2; stroke-opacity:1\"/>\n",
       "<line clip-path=\"url(#clip022)\" x1=\"2137.53\" y1=\"225.228\" x2=\"2153.53\" y2=\"225.228\" style=\"stroke:#6b9e32; stroke-width:3.2; stroke-opacity:1\"/>\n",
       "<line clip-path=\"url(#clip022)\" x1=\"2214.95\" y1=\"225.228\" x2=\"2214.95\" y2=\"209.228\" style=\"stroke:#6b9e32; stroke-width:3.2; stroke-opacity:1\"/>\n",
       "<line clip-path=\"url(#clip022)\" x1=\"2214.95\" y1=\"225.228\" x2=\"2198.95\" y2=\"225.228\" style=\"stroke:#6b9e32; stroke-width:3.2; stroke-opacity:1\"/>\n",
       "<line clip-path=\"url(#clip022)\" x1=\"2214.95\" y1=\"225.228\" x2=\"2214.95\" y2=\"241.228\" style=\"stroke:#6b9e32; stroke-width:3.2; stroke-opacity:1\"/>\n",
       "<line clip-path=\"url(#clip022)\" x1=\"2214.95\" y1=\"225.228\" x2=\"2230.95\" y2=\"225.228\" style=\"stroke:#6b9e32; stroke-width:3.2; stroke-opacity:1\"/>\n",
       "<line clip-path=\"url(#clip022)\" x1=\"2292.37\" y1=\"225.228\" x2=\"2292.37\" y2=\"209.228\" style=\"stroke:#6b9e32; stroke-width:3.2; stroke-opacity:1\"/>\n",
       "<line clip-path=\"url(#clip022)\" x1=\"2292.37\" y1=\"225.228\" x2=\"2276.37\" y2=\"225.228\" style=\"stroke:#6b9e32; stroke-width:3.2; stroke-opacity:1\"/>\n",
       "<line clip-path=\"url(#clip022)\" x1=\"2292.37\" y1=\"225.228\" x2=\"2292.37\" y2=\"241.228\" style=\"stroke:#6b9e32; stroke-width:3.2; stroke-opacity:1\"/>\n",
       "<line clip-path=\"url(#clip022)\" x1=\"2292.37\" y1=\"225.228\" x2=\"2308.37\" y2=\"225.228\" style=\"stroke:#6b9e32; stroke-width:3.2; stroke-opacity:1\"/>\n",
       "<polyline clip-path=\"url(#clip022)\" style=\"stroke:#ff0000; stroke-linecap:round; stroke-linejoin:round; stroke-width:20; stroke-opacity:0.3; fill:none\" points=\"279.421,250.342 279.421,109.098 356.842,109.098 356.842,109.098 434.263,109.098 434.263,134.428 511.684,134.428 511.684,166.276 589.105,166.276 589.105,202.656 666.526,202.656 666.526,243.216 743.947,243.216 743.947,261.955 821.368,261.955 821.368,249.846 898.789,249.846 898.789,220.572 976.21,220.572 976.21,206.666 1053.63,206.666 1053.63,211.662 1131.05,211.662 1131.05,220.729 1208.47,220.729 1208.47,223.374 1285.89,223.374 1285.89,227.228 1363.32,227.228 1363.32,239 1440.74,239 1440.74,228.874 1518.16,228.874 1518.16,217.512 1595.58,217.512 1595.58,214.515 1673,214.515 1673,225.228 1750.42,225.228 1827.84,225.228 1905.26,225.228 1982.68,225.228 2060.1,225.228 2137.53,225.228 2214.95,225.228 2292.37,225.228 \"/>\n",
       "<circle clip-path=\"url(#clip022)\" cx=\"279.421\" cy=\"247.866\" r=\"14.4\" fill=\"#009af9\" fill-rule=\"evenodd\" fill-opacity=\"1\" stroke=\"#000000\" stroke-opacity=\"1\" stroke-width=\"3.2\"/>\n",
       "<circle clip-path=\"url(#clip022)\" cx=\"356.842\" cy=\"109.098\" r=\"14.4\" fill=\"#009af9\" fill-rule=\"evenodd\" fill-opacity=\"1\" stroke=\"#000000\" stroke-opacity=\"1\" stroke-width=\"3.2\"/>\n",
       "<circle clip-path=\"url(#clip022)\" cx=\"434.263\" cy=\"109.098\" r=\"14.4\" fill=\"#009af9\" fill-rule=\"evenodd\" fill-opacity=\"1\" stroke=\"#000000\" stroke-opacity=\"1\" stroke-width=\"3.2\"/>\n",
       "<circle clip-path=\"url(#clip022)\" cx=\"511.684\" cy=\"109.098\" r=\"14.4\" fill=\"#009af9\" fill-rule=\"evenodd\" fill-opacity=\"1\" stroke=\"#000000\" stroke-opacity=\"1\" stroke-width=\"3.2\"/>\n",
       "<circle clip-path=\"url(#clip022)\" cx=\"589.105\" cy=\"158.446\" r=\"14.4\" fill=\"#009af9\" fill-rule=\"evenodd\" fill-opacity=\"1\" stroke=\"#000000\" stroke-opacity=\"1\" stroke-width=\"3.2\"/>\n",
       "<circle clip-path=\"url(#clip022)\" cx=\"666.526\" cy=\"197.417\" r=\"14.4\" fill=\"#009af9\" fill-rule=\"evenodd\" fill-opacity=\"1\" stroke=\"#000000\" stroke-opacity=\"1\" stroke-width=\"3.2\"/>\n",
       "<circle clip-path=\"url(#clip022)\" cx=\"743.947\" cy=\"230.309\" r=\"14.4\" fill=\"#009af9\" fill-rule=\"evenodd\" fill-opacity=\"1\" stroke=\"#000000\" stroke-opacity=\"1\" stroke-width=\"3.2\"/>\n",
       "<circle clip-path=\"url(#clip022)\" cx=\"821.368\" cy=\"254.832\" r=\"14.4\" fill=\"#009af9\" fill-rule=\"evenodd\" fill-opacity=\"1\" stroke=\"#000000\" stroke-opacity=\"1\" stroke-width=\"3.2\"/>\n",
       "<circle clip-path=\"url(#clip022)\" cx=\"898.789\" cy=\"251.947\" r=\"14.4\" fill=\"#009af9\" fill-rule=\"evenodd\" fill-opacity=\"1\" stroke=\"#000000\" stroke-opacity=\"1\" stroke-width=\"3.2\"/>\n",
       "<circle clip-path=\"url(#clip022)\" cx=\"976.21\" cy=\"233.749\" r=\"14.4\" fill=\"#009af9\" fill-rule=\"evenodd\" fill-opacity=\"1\" stroke=\"#000000\" stroke-opacity=\"1\" stroke-width=\"3.2\"/>\n",
       "<circle clip-path=\"url(#clip022)\" cx=\"1053.63\" cy=\"231.127\" r=\"14.4\" fill=\"#009af9\" fill-rule=\"evenodd\" fill-opacity=\"1\" stroke=\"#000000\" stroke-opacity=\"1\" stroke-width=\"3.2\"/>\n",
       "<circle clip-path=\"url(#clip022)\" cx=\"1131.05\" cy=\"231.234\" r=\"14.4\" fill=\"#009af9\" fill-rule=\"evenodd\" fill-opacity=\"1\" stroke=\"#000000\" stroke-opacity=\"1\" stroke-width=\"3.2\"/>\n",
       "<circle clip-path=\"url(#clip022)\" cx=\"1208.47\" cy=\"201.773\" r=\"14.4\" fill=\"#009af9\" fill-rule=\"evenodd\" fill-opacity=\"1\" stroke=\"#000000\" stroke-opacity=\"1\" stroke-width=\"3.2\"/>\n",
       "<circle clip-path=\"url(#clip022)\" cx=\"1285.89\" cy=\"201.899\" r=\"14.4\" fill=\"#009af9\" fill-rule=\"evenodd\" fill-opacity=\"1\" stroke=\"#000000\" stroke-opacity=\"1\" stroke-width=\"3.2\"/>\n",
       "<circle clip-path=\"url(#clip022)\" cx=\"1363.32\" cy=\"217.555\" r=\"14.4\" fill=\"#009af9\" fill-rule=\"evenodd\" fill-opacity=\"1\" stroke=\"#000000\" stroke-opacity=\"1\" stroke-width=\"3.2\"/>\n",
       "<circle clip-path=\"url(#clip022)\" cx=\"1440.74\" cy=\"237.943\" r=\"14.4\" fill=\"#009af9\" fill-rule=\"evenodd\" fill-opacity=\"1\" stroke=\"#000000\" stroke-opacity=\"1\" stroke-width=\"3.2\"/>\n",
       "<circle clip-path=\"url(#clip022)\" cx=\"1518.16\" cy=\"245.221\" r=\"14.4\" fill=\"#009af9\" fill-rule=\"evenodd\" fill-opacity=\"1\" stroke=\"#000000\" stroke-opacity=\"1\" stroke-width=\"3.2\"/>\n",
       "<circle clip-path=\"url(#clip022)\" cx=\"1595.58\" cy=\"223.426\" r=\"14.4\" fill=\"#009af9\" fill-rule=\"evenodd\" fill-opacity=\"1\" stroke=\"#000000\" stroke-opacity=\"1\" stroke-width=\"3.2\"/>\n",
       "<circle clip-path=\"url(#clip022)\" cx=\"1673\" cy=\"214.69\" r=\"14.4\" fill=\"#009af9\" fill-rule=\"evenodd\" fill-opacity=\"1\" stroke=\"#000000\" stroke-opacity=\"1\" stroke-width=\"3.2\"/>\n",
       "<circle clip-path=\"url(#clip022)\" cx=\"1750.42\" cy=\"224.016\" r=\"14.4\" fill=\"#009af9\" fill-rule=\"evenodd\" fill-opacity=\"1\" stroke=\"#000000\" stroke-opacity=\"1\" stroke-width=\"3.2\"/>\n",
       "<circle clip-path=\"url(#clip022)\" cx=\"1827.84\" cy=\"224.016\" r=\"14.4\" fill=\"#009af9\" fill-rule=\"evenodd\" fill-opacity=\"1\" stroke=\"#000000\" stroke-opacity=\"1\" stroke-width=\"3.2\"/>\n",
       "<circle clip-path=\"url(#clip022)\" cx=\"1905.26\" cy=\"224.016\" r=\"14.4\" fill=\"#009af9\" fill-rule=\"evenodd\" fill-opacity=\"1\" stroke=\"#000000\" stroke-opacity=\"1\" stroke-width=\"3.2\"/>\n",
       "<circle clip-path=\"url(#clip022)\" cx=\"1982.68\" cy=\"224.016\" r=\"14.4\" fill=\"#009af9\" fill-rule=\"evenodd\" fill-opacity=\"1\" stroke=\"#000000\" stroke-opacity=\"1\" stroke-width=\"3.2\"/>\n",
       "<circle clip-path=\"url(#clip022)\" cx=\"2060.1\" cy=\"224.016\" r=\"14.4\" fill=\"#009af9\" fill-rule=\"evenodd\" fill-opacity=\"1\" stroke=\"#000000\" stroke-opacity=\"1\" stroke-width=\"3.2\"/>\n",
       "<circle clip-path=\"url(#clip022)\" cx=\"2137.53\" cy=\"224.016\" r=\"14.4\" fill=\"#009af9\" fill-rule=\"evenodd\" fill-opacity=\"1\" stroke=\"#000000\" stroke-opacity=\"1\" stroke-width=\"3.2\"/>\n",
       "<circle clip-path=\"url(#clip022)\" cx=\"2214.95\" cy=\"224.016\" r=\"14.4\" fill=\"#009af9\" fill-rule=\"evenodd\" fill-opacity=\"1\" stroke=\"#000000\" stroke-opacity=\"1\" stroke-width=\"3.2\"/>\n",
       "<circle clip-path=\"url(#clip022)\" cx=\"2292.37\" cy=\"224.016\" r=\"14.4\" fill=\"#009af9\" fill-rule=\"evenodd\" fill-opacity=\"1\" stroke=\"#000000\" stroke-opacity=\"1\" stroke-width=\"3.2\"/>\n",
       "<polyline clip-path=\"url(#clip022)\" style=\"stroke:#80007f; stroke-linecap:round; stroke-linejoin:round; stroke-width:20; stroke-opacity:0.3; fill:none\" points=\"279.421,247.866 279.421,109.098 356.842,109.098 434.263,109.098 434.263,109.098 511.684,109.098 511.684,158.446 589.105,158.446 589.105,197.417 666.526,197.417 666.526,230.309 743.947,230.309 743.947,254.832 821.368,254.832 821.368,251.947 898.789,251.947 898.789,233.749 976.21,233.749 976.21,231.127 1053.63,231.127 1053.63,231.234 1131.05,231.234 1131.05,201.773 1208.47,201.773 1208.47,201.899 1285.89,201.899 1285.89,217.555 1363.32,217.555 1363.32,237.943 1440.74,237.943 1440.74,245.221 1518.16,245.221 1518.16,223.426 1595.58,223.426 1595.58,214.69 1673,214.69 1673,224.016 1750.42,224.016 1827.84,224.016 1905.26,224.016 1982.68,224.016 2060.1,224.016 2137.53,224.016 2214.95,224.016 2292.37,224.016 \"/>\n",
       "<path clip-path=\"url(#clip022)\" d=\"M279.421 231.866 L263.421 247.866 L279.421 263.866 L295.421 247.866 L279.421 231.866 Z\" fill=\"#e26f46\" fill-rule=\"evenodd\" fill-opacity=\"1\" stroke=\"#000000\" stroke-opacity=\"1\" stroke-width=\"3.2\"/>\n",
       "<path clip-path=\"url(#clip022)\" d=\"M356.842 93.0979 L340.842 109.098 L356.842 125.098 L372.842 109.098 L356.842 93.0979 Z\" fill=\"#e26f46\" fill-rule=\"evenodd\" fill-opacity=\"1\" stroke=\"#000000\" stroke-opacity=\"1\" stroke-width=\"3.2\"/>\n",
       "<path clip-path=\"url(#clip022)\" d=\"M434.263 93.0979 L418.263 109.098 L434.263 125.098 L450.263 109.098 L434.263 93.0979 Z\" fill=\"#e26f46\" fill-rule=\"evenodd\" fill-opacity=\"1\" stroke=\"#000000\" stroke-opacity=\"1\" stroke-width=\"3.2\"/>\n",
       "<path clip-path=\"url(#clip022)\" d=\"M511.684 98.9901 L495.684 114.99 L511.684 130.99 L527.684 114.99 L511.684 98.9901 Z\" fill=\"#e26f46\" fill-rule=\"evenodd\" fill-opacity=\"1\" stroke=\"#000000\" stroke-opacity=\"1\" stroke-width=\"3.2\"/>\n",
       "<path clip-path=\"url(#clip022)\" d=\"M589.105 145.215 L573.105 161.215 L589.105 177.215 L605.105 161.215 L589.105 145.215 Z\" fill=\"#e26f46\" fill-rule=\"evenodd\" fill-opacity=\"1\" stroke=\"#000000\" stroke-opacity=\"1\" stroke-width=\"3.2\"/>\n",
       "<path clip-path=\"url(#clip022)\" d=\"M666.526 183.313 L650.526 199.313 L666.526 215.313 L682.526 199.313 L666.526 183.313 Z\" fill=\"#e26f46\" fill-rule=\"evenodd\" fill-opacity=\"1\" stroke=\"#000000\" stroke-opacity=\"1\" stroke-width=\"3.2\"/>\n",
       "<path clip-path=\"url(#clip022)\" d=\"M743.947 216.422 L727.947 232.422 L743.947 248.422 L759.947 232.422 L743.947 216.422 Z\" fill=\"#e26f46\" fill-rule=\"evenodd\" fill-opacity=\"1\" stroke=\"#000000\" stroke-opacity=\"1\" stroke-width=\"3.2\"/>\n",
       "<path clip-path=\"url(#clip022)\" d=\"M821.368 241.164 L805.368 257.164 L821.368 273.164 L837.368 257.164 L821.368 241.164 Z\" fill=\"#e26f46\" fill-rule=\"evenodd\" fill-opacity=\"1\" stroke=\"#000000\" stroke-opacity=\"1\" stroke-width=\"3.2\"/>\n",
       "<path clip-path=\"url(#clip022)\" d=\"M898.789 239.259 L882.789 255.259 L898.789 271.259 L914.789 255.259 L898.789 239.259 Z\" fill=\"#e26f46\" fill-rule=\"evenodd\" fill-opacity=\"1\" stroke=\"#000000\" stroke-opacity=\"1\" stroke-width=\"3.2\"/>\n",
       "<path clip-path=\"url(#clip022)\" d=\"M976.21 215.704 L960.21 231.704 L976.21 247.704 L992.21 231.704 L976.21 215.704 Z\" fill=\"#e26f46\" fill-rule=\"evenodd\" fill-opacity=\"1\" stroke=\"#000000\" stroke-opacity=\"1\" stroke-width=\"3.2\"/>\n",
       "<path clip-path=\"url(#clip022)\" d=\"M1053.63 205.491 L1037.63 221.491 L1053.63 237.491 L1069.63 221.491 L1053.63 205.491 Z\" fill=\"#e26f46\" fill-rule=\"evenodd\" fill-opacity=\"1\" stroke=\"#000000\" stroke-opacity=\"1\" stroke-width=\"3.2\"/>\n",
       "<path clip-path=\"url(#clip022)\" d=\"M1131.05 207.721 L1115.05 223.721 L1131.05 239.721 L1147.05 223.721 L1131.05 207.721 Z\" fill=\"#e26f46\" fill-rule=\"evenodd\" fill-opacity=\"1\" stroke=\"#000000\" stroke-opacity=\"1\" stroke-width=\"3.2\"/>\n",
       "<path clip-path=\"url(#clip022)\" d=\"M1208.47 186.938 L1192.47 202.938 L1208.47 218.938 L1224.47 202.938 L1208.47 186.938 Z\" fill=\"#e26f46\" fill-rule=\"evenodd\" fill-opacity=\"1\" stroke=\"#000000\" stroke-opacity=\"1\" stroke-width=\"3.2\"/>\n",
       "<path clip-path=\"url(#clip022)\" d=\"M1285.89 191.383 L1269.89 207.383 L1285.89 223.383 L1301.89 207.383 L1285.89 191.383 Z\" fill=\"#e26f46\" fill-rule=\"evenodd\" fill-opacity=\"1\" stroke=\"#000000\" stroke-opacity=\"1\" stroke-width=\"3.2\"/>\n",
       "<path clip-path=\"url(#clip022)\" d=\"M1363.32 208.422 L1347.32 224.422 L1363.32 240.422 L1379.32 224.422 L1363.32 208.422 Z\" fill=\"#e26f46\" fill-rule=\"evenodd\" fill-opacity=\"1\" stroke=\"#000000\" stroke-opacity=\"1\" stroke-width=\"3.2\"/>\n",
       "<path clip-path=\"url(#clip022)\" d=\"M1440.74 225.85 L1424.74 241.85 L1440.74 257.85 L1456.74 241.85 L1440.74 225.85 Z\" fill=\"#e26f46\" fill-rule=\"evenodd\" fill-opacity=\"1\" stroke=\"#000000\" stroke-opacity=\"1\" stroke-width=\"3.2\"/>\n",
       "<path clip-path=\"url(#clip022)\" d=\"M1518.16 226.494 L1502.16 242.494 L1518.16 258.494 L1534.16 242.494 L1518.16 226.494 Z\" fill=\"#e26f46\" fill-rule=\"evenodd\" fill-opacity=\"1\" stroke=\"#000000\" stroke-opacity=\"1\" stroke-width=\"3.2\"/>\n",
       "<path clip-path=\"url(#clip022)\" d=\"M1595.58 202.613 L1579.58 218.613 L1595.58 234.613 L1611.58 218.613 L1595.58 202.613 Z\" fill=\"#e26f46\" fill-rule=\"evenodd\" fill-opacity=\"1\" stroke=\"#000000\" stroke-opacity=\"1\" stroke-width=\"3.2\"/>\n",
       "<path clip-path=\"url(#clip022)\" d=\"M1673 194.62 L1657 210.62 L1673 226.62 L1689 210.62 L1673 194.62 Z\" fill=\"#e26f46\" fill-rule=\"evenodd\" fill-opacity=\"1\" stroke=\"#000000\" stroke-opacity=\"1\" stroke-width=\"3.2\"/>\n",
       "<path clip-path=\"url(#clip022)\" d=\"M1750.42 208.9 L1734.42 224.9 L1750.42 240.9 L1766.42 224.9 L1750.42 208.9 Z\" fill=\"#e26f46\" fill-rule=\"evenodd\" fill-opacity=\"1\" stroke=\"#000000\" stroke-opacity=\"1\" stroke-width=\"3.2\"/>\n",
       "<path clip-path=\"url(#clip022)\" d=\"M1827.84 208.9 L1811.84 224.9 L1827.84 240.9 L1843.84 224.9 L1827.84 208.9 Z\" fill=\"#e26f46\" fill-rule=\"evenodd\" fill-opacity=\"1\" stroke=\"#000000\" stroke-opacity=\"1\" stroke-width=\"3.2\"/>\n",
       "<path clip-path=\"url(#clip022)\" d=\"M1905.26 208.9 L1889.26 224.9 L1905.26 240.9 L1921.26 224.9 L1905.26 208.9 Z\" fill=\"#e26f46\" fill-rule=\"evenodd\" fill-opacity=\"1\" stroke=\"#000000\" stroke-opacity=\"1\" stroke-width=\"3.2\"/>\n",
       "<path clip-path=\"url(#clip022)\" d=\"M1982.68 208.9 L1966.68 224.9 L1982.68 240.9 L1998.68 224.9 L1982.68 208.9 Z\" fill=\"#e26f46\" fill-rule=\"evenodd\" fill-opacity=\"1\" stroke=\"#000000\" stroke-opacity=\"1\" stroke-width=\"3.2\"/>\n",
       "<path clip-path=\"url(#clip022)\" d=\"M2060.1 208.9 L2044.1 224.9 L2060.1 240.9 L2076.1 224.9 L2060.1 208.9 Z\" fill=\"#e26f46\" fill-rule=\"evenodd\" fill-opacity=\"1\" stroke=\"#000000\" stroke-opacity=\"1\" stroke-width=\"3.2\"/>\n",
       "<path clip-path=\"url(#clip022)\" d=\"M2137.53 208.9 L2121.53 224.9 L2137.53 240.9 L2153.53 224.9 L2137.53 208.9 Z\" fill=\"#e26f46\" fill-rule=\"evenodd\" fill-opacity=\"1\" stroke=\"#000000\" stroke-opacity=\"1\" stroke-width=\"3.2\"/>\n",
       "<path clip-path=\"url(#clip022)\" d=\"M2214.95 208.9 L2198.95 224.9 L2214.95 240.9 L2230.95 224.9 L2214.95 208.9 Z\" fill=\"#e26f46\" fill-rule=\"evenodd\" fill-opacity=\"1\" stroke=\"#000000\" stroke-opacity=\"1\" stroke-width=\"3.2\"/>\n",
       "<path clip-path=\"url(#clip022)\" d=\"M2292.37 208.9 L2276.37 224.9 L2292.37 240.9 L2308.37 224.9 L2292.37 208.9 Z\" fill=\"#e26f46\" fill-rule=\"evenodd\" fill-opacity=\"1\" stroke=\"#000000\" stroke-opacity=\"1\" stroke-width=\"3.2\"/>\n",
       "<polyline clip-path=\"url(#clip022)\" style=\"stroke:#0000ff; stroke-linecap:round; stroke-linejoin:round; stroke-width:20; stroke-opacity:0.3; fill:none\" points=\"279.421,247.866 279.421,109.098 356.842,109.098 356.842,109.098 434.263,109.098 434.263,114.99 511.684,114.99 511.684,161.215 589.105,161.215 589.105,199.313 666.526,199.313 666.526,232.422 743.947,232.422 743.947,257.164 821.368,257.164 821.368,255.259 898.789,255.259 898.789,231.704 976.21,231.704 976.21,221.491 1053.63,221.491 1053.63,223.721 1131.05,223.721 1131.05,202.938 1208.47,202.938 1208.47,207.383 1285.89,207.383 1285.89,224.422 1363.32,224.422 1363.32,241.85 1440.74,241.85 1440.74,242.494 1518.16,242.494 1518.16,218.613 1595.58,218.613 1595.58,210.62 1673,210.62 1673,224.9 1750.42,224.9 1827.84,224.9 1905.26,224.9 1982.68,224.9 2060.1,224.9 2137.53,224.9 2214.95,224.9 2292.37,224.9 \"/>\n",
       "<path clip-path=\"url(#clip020)\" d=\"M219.033 889.847 L2352.76 889.847 L2352.76 580.577 L219.033 580.577  Z\" fill=\"#ffffff\" fill-rule=\"evenodd\" fill-opacity=\"1\"/>\n",
       "<defs>\n",
       "  <clipPath id=\"clip023\">\n",
       "    <rect x=\"219\" y=\"580\" width=\"2135\" height=\"310\"/>\n",
       "  </clipPath>\n",
       "</defs>\n",
       "<polyline clip-path=\"url(#clip023)\" style=\"stroke:#000000; stroke-linecap:round; stroke-linejoin:round; stroke-width:8; stroke-opacity:0.1; fill:none\" points=\"589.105,889.847 589.105,580.577 \"/>\n",
       "<polyline clip-path=\"url(#clip023)\" style=\"stroke:#000000; stroke-linecap:round; stroke-linejoin:round; stroke-width:8; stroke-opacity:0.1; fill:none\" points=\"976.21,889.847 976.21,580.577 \"/>\n",
       "<polyline clip-path=\"url(#clip023)\" style=\"stroke:#000000; stroke-linecap:round; stroke-linejoin:round; stroke-width:8; stroke-opacity:0.1; fill:none\" points=\"1363.32,889.847 1363.32,580.577 \"/>\n",
       "<polyline clip-path=\"url(#clip023)\" style=\"stroke:#000000; stroke-linecap:round; stroke-linejoin:round; stroke-width:8; stroke-opacity:0.1; fill:none\" points=\"1750.42,889.847 1750.42,580.577 \"/>\n",
       "<polyline clip-path=\"url(#clip023)\" style=\"stroke:#000000; stroke-linecap:round; stroke-linejoin:round; stroke-width:8; stroke-opacity:0.1; fill:none\" points=\"2137.53,889.847 2137.53,580.577 \"/>\n",
       "<polyline clip-path=\"url(#clip020)\" style=\"stroke:#000000; stroke-linecap:round; stroke-linejoin:round; stroke-width:4; stroke-opacity:1; fill:none\" points=\"219.033,889.847 2352.76,889.847 \"/>\n",
       "<polyline clip-path=\"url(#clip020)\" style=\"stroke:#000000; stroke-linecap:round; stroke-linejoin:round; stroke-width:4; stroke-opacity:1; fill:none\" points=\"589.105,889.847 589.105,870.949 \"/>\n",
       "<polyline clip-path=\"url(#clip020)\" style=\"stroke:#000000; stroke-linecap:round; stroke-linejoin:round; stroke-width:4; stroke-opacity:1; fill:none\" points=\"976.21,889.847 976.21,870.949 \"/>\n",
       "<polyline clip-path=\"url(#clip020)\" style=\"stroke:#000000; stroke-linecap:round; stroke-linejoin:round; stroke-width:4; stroke-opacity:1; fill:none\" points=\"1363.32,889.847 1363.32,870.949 \"/>\n",
       "<polyline clip-path=\"url(#clip020)\" style=\"stroke:#000000; stroke-linecap:round; stroke-linejoin:round; stroke-width:4; stroke-opacity:1; fill:none\" points=\"1750.42,889.847 1750.42,870.949 \"/>\n",
       "<polyline clip-path=\"url(#clip020)\" style=\"stroke:#000000; stroke-linecap:round; stroke-linejoin:round; stroke-width:4; stroke-opacity:1; fill:none\" points=\"2137.53,889.847 2137.53,870.949 \"/>\n",
       "<path clip-path=\"url(#clip020)\" d=\"M579.383 917.687 L597.74 917.687 L597.74 921.622 L583.666 921.622 L583.666 930.094 Q584.684 929.747 585.703 929.585 Q586.721 929.399 587.74 929.399 Q593.527 929.399 596.906 932.571 Q600.286 935.742 600.286 941.159 Q600.286 946.737 596.814 949.839 Q593.341 952.918 587.022 952.918 Q584.846 952.918 582.578 952.547 Q580.332 952.177 577.925 951.436 L577.925 946.737 Q580.008 947.872 582.23 948.427 Q584.453 948.983 586.929 948.983 Q590.934 948.983 593.272 946.876 Q595.61 944.77 595.61 941.159 Q595.61 937.548 593.272 935.441 Q590.934 933.335 586.929 933.335 Q585.054 933.335 583.179 933.751 Q581.328 934.168 579.383 935.048 L579.383 917.687 Z\" fill=\"#000000\" fill-rule=\"evenodd\" fill-opacity=\"1\" /><path clip-path=\"url(#clip020)\" d=\"M950.898 948.311 L958.537 948.311 L958.537 921.946 L950.227 923.612 L950.227 919.353 L958.491 917.687 L963.166 917.687 L963.166 948.311 L970.805 948.311 L970.805 952.247 L950.898 952.247 L950.898 948.311 Z\" fill=\"#000000\" fill-rule=\"evenodd\" fill-opacity=\"1\" /><path clip-path=\"url(#clip020)\" d=\"M990.25 920.765 Q986.639 920.765 984.81 924.33 Q983.004 927.872 983.004 935.001 Q983.004 942.108 984.81 945.672 Q986.639 949.214 990.25 949.214 Q993.884 949.214 995.689 945.672 Q997.518 942.108 997.518 935.001 Q997.518 927.872 995.689 924.33 Q993.884 920.765 990.25 920.765 M990.25 917.062 Q996.06 917.062 999.115 921.668 Q1002.19 926.251 1002.19 935.001 Q1002.19 943.728 999.115 948.334 Q996.06 952.918 990.25 952.918 Q984.44 952.918 981.361 948.334 Q978.305 943.728 978.305 935.001 Q978.305 926.251 981.361 921.668 Q984.44 917.062 990.25 917.062 Z\" fill=\"#000000\" fill-rule=\"evenodd\" fill-opacity=\"1\" /><path clip-path=\"url(#clip020)\" d=\"M1338.5 948.311 L1346.14 948.311 L1346.14 921.946 L1337.83 923.612 L1337.83 919.353 L1346.09 917.687 L1350.77 917.687 L1350.77 948.311 L1358.41 948.311 L1358.41 952.247 L1338.5 952.247 L1338.5 948.311 Z\" fill=\"#000000\" fill-rule=\"evenodd\" fill-opacity=\"1\" /><path clip-path=\"url(#clip020)\" d=\"M1367.9 917.687 L1386.26 917.687 L1386.26 921.622 L1372.18 921.622 L1372.18 930.094 Q1373.2 929.747 1374.22 929.585 Q1375.24 929.399 1376.26 929.399 Q1382.04 929.399 1385.42 932.571 Q1388.8 935.742 1388.8 941.159 Q1388.8 946.737 1385.33 949.839 Q1381.86 952.918 1375.54 952.918 Q1373.36 952.918 1371.09 952.547 Q1368.85 952.177 1366.44 951.436 L1366.44 946.737 Q1368.52 947.872 1370.75 948.427 Q1372.97 948.983 1375.44 948.983 Q1379.45 948.983 1381.79 946.876 Q1384.13 944.77 1384.13 941.159 Q1384.13 937.548 1381.79 935.441 Q1379.45 933.335 1375.44 933.335 Q1373.57 933.335 1371.7 933.751 Q1369.84 934.168 1367.9 935.048 L1367.9 917.687 Z\" fill=\"#000000\" fill-rule=\"evenodd\" fill-opacity=\"1\" /><path clip-path=\"url(#clip020)\" d=\"M1729.19 948.311 L1745.51 948.311 L1745.51 952.247 L1723.57 952.247 L1723.57 948.311 Q1726.23 945.557 1730.81 940.927 Q1735.42 936.274 1736.6 934.932 Q1738.85 932.409 1739.73 930.673 Q1740.63 928.913 1740.63 927.223 Q1740.63 924.469 1738.68 922.733 Q1736.76 920.997 1733.66 920.997 Q1731.46 920.997 1729.01 921.761 Q1726.58 922.524 1723.8 924.075 L1723.8 919.353 Q1726.62 918.219 1729.08 917.64 Q1731.53 917.062 1733.57 917.062 Q1738.94 917.062 1742.13 919.747 Q1745.33 922.432 1745.33 926.923 Q1745.33 929.052 1744.52 930.973 Q1743.73 932.872 1741.62 935.464 Q1741.05 936.135 1737.94 939.353 Q1734.84 942.547 1729.19 948.311 Z\" fill=\"#000000\" fill-rule=\"evenodd\" fill-opacity=\"1\" /><path clip-path=\"url(#clip020)\" d=\"M1765.33 920.765 Q1761.72 920.765 1759.89 924.33 Q1758.08 927.872 1758.08 935.001 Q1758.08 942.108 1759.89 945.672 Q1761.72 949.214 1765.33 949.214 Q1768.96 949.214 1770.77 945.672 Q1772.6 942.108 1772.6 935.001 Q1772.6 927.872 1770.77 924.33 Q1768.96 920.765 1765.33 920.765 M1765.33 917.062 Q1771.14 917.062 1774.19 921.668 Q1777.27 926.251 1777.27 935.001 Q1777.27 943.728 1774.19 948.334 Q1771.14 952.918 1765.33 952.918 Q1759.52 952.918 1756.44 948.334 Q1753.38 943.728 1753.38 935.001 Q1753.38 926.251 1756.44 921.668 Q1759.52 917.062 1765.33 917.062 Z\" fill=\"#000000\" fill-rule=\"evenodd\" fill-opacity=\"1\" /><path clip-path=\"url(#clip020)\" d=\"M2116.8 948.311 L2133.12 948.311 L2133.12 952.247 L2111.17 952.247 L2111.17 948.311 Q2113.83 945.557 2118.42 940.927 Q2123.02 936.274 2124.2 934.932 Q2126.45 932.409 2127.33 930.673 Q2128.23 928.913 2128.23 927.223 Q2128.23 924.469 2126.29 922.733 Q2124.37 920.997 2121.26 920.997 Q2119.06 920.997 2116.61 921.761 Q2114.18 922.524 2111.4 924.075 L2111.4 919.353 Q2114.23 918.219 2116.68 917.64 Q2119.13 917.062 2121.17 917.062 Q2126.54 917.062 2129.74 919.747 Q2132.93 922.432 2132.93 926.923 Q2132.93 929.052 2132.12 930.973 Q2131.33 932.872 2129.23 935.464 Q2128.65 936.135 2125.55 939.353 Q2122.44 942.547 2116.8 948.311 Z\" fill=\"#000000\" fill-rule=\"evenodd\" fill-opacity=\"1\" /><path clip-path=\"url(#clip020)\" d=\"M2142.98 917.687 L2161.33 917.687 L2161.33 921.622 L2147.26 921.622 L2147.26 930.094 Q2148.28 929.747 2149.3 929.585 Q2150.31 929.399 2151.33 929.399 Q2157.12 929.399 2160.5 932.571 Q2163.88 935.742 2163.88 941.159 Q2163.88 946.737 2160.41 949.839 Q2156.94 952.918 2150.62 952.918 Q2148.44 952.918 2146.17 952.547 Q2143.93 952.177 2141.52 951.436 L2141.52 946.737 Q2143.6 947.872 2145.82 948.427 Q2148.05 948.983 2150.52 948.983 Q2154.53 948.983 2156.87 946.876 Q2159.2 944.77 2159.2 941.159 Q2159.2 937.548 2156.87 935.441 Q2154.53 933.335 2150.52 933.335 Q2148.65 933.335 2146.77 933.751 Q2144.92 934.168 2142.98 935.048 L2142.98 917.687 Z\" fill=\"#000000\" fill-rule=\"evenodd\" fill-opacity=\"1\" /><path clip-path=\"url(#clip020)\" d=\"M1180.03 988.941 L1180.03 999.063 L1192.1 999.063 L1192.1 1003.61 L1180.03 1003.61 L1180.03 1022.97 Q1180.03 1027.33 1181.21 1028.57 Q1182.42 1029.81 1186.08 1029.81 L1192.1 1029.81 L1192.1 1034.71 L1186.08 1034.71 Q1179.3 1034.71 1176.72 1032.2 Q1174.14 1029.65 1174.14 1022.97 L1174.14 1003.61 L1169.85 1003.61 L1169.85 999.063 L1174.14 999.063 L1174.14 988.941 L1180.03 988.941 Z\" fill=\"#000000\" fill-rule=\"evenodd\" fill-opacity=\"1\" /><path clip-path=\"url(#clip020)\" d=\"M1199.8 999.063 L1205.65 999.063 L1205.65 1034.71 L1199.8 1034.71 L1199.8 999.063 M1199.8 985.185 L1205.65 985.185 L1205.65 992.601 L1199.8 992.601 L1199.8 985.185 Z\" fill=\"#000000\" fill-rule=\"evenodd\" fill-opacity=\"1\" /><path clip-path=\"url(#clip020)\" d=\"M1245.66 1005.91 Q1247.86 1001.96 1250.91 1000.08 Q1253.97 998.203 1258.11 998.203 Q1263.68 998.203 1266.7 1002.12 Q1269.73 1006 1269.73 1013.19 L1269.73 1034.71 L1263.84 1034.71 L1263.84 1013.39 Q1263.84 1008.26 1262.02 1005.78 Q1260.21 1003.3 1256.48 1003.3 Q1251.93 1003.3 1249.29 1006.32 Q1246.65 1009.34 1246.65 1014.56 L1246.65 1034.71 L1240.76 1034.71 L1240.76 1013.39 Q1240.76 1008.23 1238.95 1005.78 Q1237.13 1003.3 1233.35 1003.3 Q1228.86 1003.3 1226.22 1006.35 Q1223.57 1009.37 1223.57 1014.56 L1223.57 1034.71 L1217.69 1034.71 L1217.69 999.063 L1223.57 999.063 L1223.57 1004.6 Q1225.58 1001.32 1228.38 999.763 Q1231.18 998.203 1235.03 998.203 Q1238.92 998.203 1241.62 1000.18 Q1244.36 1002.15 1245.66 1005.91 Z\" fill=\"#000000\" fill-rule=\"evenodd\" fill-opacity=\"1\" /><path clip-path=\"url(#clip020)\" d=\"M1311.9 1015.42 L1311.9 1018.29 L1284.97 1018.29 Q1285.35 1024.33 1288.6 1027.52 Q1291.88 1030.67 1297.7 1030.67 Q1301.08 1030.67 1304.23 1029.84 Q1307.41 1029.01 1310.53 1027.36 L1310.53 1032.9 Q1307.38 1034.23 1304.07 1034.93 Q1300.76 1035.63 1297.35 1035.63 Q1288.82 1035.63 1283.83 1030.67 Q1278.86 1025.7 1278.86 1017.24 Q1278.86 1008.48 1283.57 1003.36 Q1288.31 998.203 1296.33 998.203 Q1303.53 998.203 1307.7 1002.85 Q1311.9 1007.47 1311.9 1015.42 M1306.04 1013.7 Q1305.98 1008.9 1303.34 1006.03 Q1300.73 1003.17 1296.4 1003.17 Q1291.5 1003.17 1288.54 1005.94 Q1285.61 1008.71 1285.16 1013.74 L1306.04 1013.7 Z\" fill=\"#000000\" fill-rule=\"evenodd\" fill-opacity=\"1\" /><path clip-path=\"url(#clip020)\" d=\"M1320.97 985.185 L1334.46 985.185 L1334.46 989.737 L1326.83 989.737 L1326.83 1038.75 L1334.46 1038.75 L1334.46 1043.3 L1320.97 1043.3 L1320.97 985.185 Z\" fill=\"#000000\" fill-rule=\"evenodd\" fill-opacity=\"1\" /><path clip-path=\"url(#clip020)\" d=\"M1376.57 1013.19 L1376.57 1034.71 L1370.72 1034.71 L1370.72 1013.39 Q1370.72 1008.32 1368.74 1005.81 Q1366.77 1003.3 1362.82 1003.3 Q1358.08 1003.3 1355.34 1006.32 Q1352.61 1009.34 1352.61 1014.56 L1352.61 1034.71 L1346.72 1034.71 L1346.72 985.185 L1352.61 985.185 L1352.61 1004.6 Q1354.71 1001.39 1357.54 999.795 Q1360.41 998.203 1364.13 998.203 Q1370.27 998.203 1373.42 1002.02 Q1376.57 1005.81 1376.57 1013.19 Z\" fill=\"#000000\" fill-rule=\"evenodd\" fill-opacity=\"1\" /><path clip-path=\"url(#clip020)\" d=\"M1401.94 985.185 L1401.94 1043.3 L1388.45 1043.3 L1388.45 1038.75 L1396.05 1038.75 L1396.05 989.737 L1388.45 989.737 L1388.45 985.185 L1401.94 985.185 Z\" fill=\"#000000\" fill-rule=\"evenodd\" fill-opacity=\"1\" /><polyline clip-path=\"url(#clip023)\" style=\"stroke:#000000; stroke-linecap:round; stroke-linejoin:round; stroke-width:8; stroke-opacity:0.1; fill:none\" points=\"219.033,889.847 2352.76,889.847 \"/>\n",
       "<polyline clip-path=\"url(#clip023)\" style=\"stroke:#000000; stroke-linecap:round; stroke-linejoin:round; stroke-width:8; stroke-opacity:0.1; fill:none\" points=\"219.033,827.993 2352.76,827.993 \"/>\n",
       "<polyline clip-path=\"url(#clip023)\" style=\"stroke:#000000; stroke-linecap:round; stroke-linejoin:round; stroke-width:8; stroke-opacity:0.1; fill:none\" points=\"219.033,766.139 2352.76,766.139 \"/>\n",
       "<polyline clip-path=\"url(#clip023)\" style=\"stroke:#000000; stroke-linecap:round; stroke-linejoin:round; stroke-width:8; stroke-opacity:0.1; fill:none\" points=\"219.033,704.285 2352.76,704.285 \"/>\n",
       "<polyline clip-path=\"url(#clip023)\" style=\"stroke:#000000; stroke-linecap:round; stroke-linejoin:round; stroke-width:8; stroke-opacity:0.1; fill:none\" points=\"219.033,642.431 2352.76,642.431 \"/>\n",
       "<polyline clip-path=\"url(#clip023)\" style=\"stroke:#000000; stroke-linecap:round; stroke-linejoin:round; stroke-width:8; stroke-opacity:0.1; fill:none\" points=\"219.033,580.577 2352.76,580.577 \"/>\n",
       "<polyline clip-path=\"url(#clip020)\" style=\"stroke:#000000; stroke-linecap:round; stroke-linejoin:round; stroke-width:4; stroke-opacity:1; fill:none\" points=\"219.033,889.847 219.033,580.577 \"/>\n",
       "<polyline clip-path=\"url(#clip020)\" style=\"stroke:#000000; stroke-linecap:round; stroke-linejoin:round; stroke-width:4; stroke-opacity:1; fill:none\" points=\"219.033,889.847 237.931,889.847 \"/>\n",
       "<polyline clip-path=\"url(#clip020)\" style=\"stroke:#000000; stroke-linecap:round; stroke-linejoin:round; stroke-width:4; stroke-opacity:1; fill:none\" points=\"219.033,827.993 237.931,827.993 \"/>\n",
       "<polyline clip-path=\"url(#clip020)\" style=\"stroke:#000000; stroke-linecap:round; stroke-linejoin:round; stroke-width:4; stroke-opacity:1; fill:none\" points=\"219.033,766.139 237.931,766.139 \"/>\n",
       "<polyline clip-path=\"url(#clip020)\" style=\"stroke:#000000; stroke-linecap:round; stroke-linejoin:round; stroke-width:4; stroke-opacity:1; fill:none\" points=\"219.033,704.285 237.931,704.285 \"/>\n",
       "<polyline clip-path=\"url(#clip020)\" style=\"stroke:#000000; stroke-linecap:round; stroke-linejoin:round; stroke-width:4; stroke-opacity:1; fill:none\" points=\"219.033,642.431 237.931,642.431 \"/>\n",
       "<polyline clip-path=\"url(#clip020)\" style=\"stroke:#000000; stroke-linecap:round; stroke-linejoin:round; stroke-width:4; stroke-opacity:1; fill:none\" points=\"219.033,580.577 237.931,580.577 \"/>\n",
       "<path clip-path=\"url(#clip020)\" d=\"M117.663 903.191 L125.302 903.191 L125.302 876.826 L116.992 878.492 L116.992 874.233 L125.255 872.567 L129.931 872.567 L129.931 903.191 L137.57 903.191 L137.57 907.127 L117.663 907.127 L117.663 903.191 Z\" fill=\"#000000\" fill-rule=\"evenodd\" fill-opacity=\"1\" /><path clip-path=\"url(#clip020)\" d=\"M147.015 901.247 L151.899 901.247 L151.899 907.127 L147.015 907.127 L147.015 901.247 Z\" fill=\"#000000\" fill-rule=\"evenodd\" fill-opacity=\"1\" /><path clip-path=\"url(#clip020)\" d=\"M162.13 872.567 L180.487 872.567 L180.487 876.502 L166.413 876.502 L166.413 884.974 Q167.431 884.627 168.45 884.465 Q169.468 884.279 170.487 884.279 Q176.274 884.279 179.653 887.451 Q183.033 890.622 183.033 896.039 Q183.033 901.617 179.561 904.719 Q176.089 907.798 169.769 907.798 Q167.593 907.798 165.325 907.427 Q163.079 907.057 160.672 906.316 L160.672 901.617 Q162.755 902.752 164.977 903.307 Q167.2 903.863 169.677 903.863 Q173.681 903.863 176.019 901.756 Q178.357 899.65 178.357 896.039 Q178.357 892.428 176.019 890.321 Q173.681 888.215 169.677 888.215 Q167.802 888.215 165.927 888.631 Q164.075 889.048 162.13 889.928 L162.13 872.567 Z\" fill=\"#000000\" fill-rule=\"evenodd\" fill-opacity=\"1\" /><path clip-path=\"url(#clip020)\" d=\"M116.506 841.338 L124.144 841.338 L124.144 814.972 L115.834 816.639 L115.834 812.379 L124.098 810.713 L128.774 810.713 L128.774 841.338 L136.413 841.338 L136.413 845.273 L116.506 845.273 L116.506 841.338 Z\" fill=\"#000000\" fill-rule=\"evenodd\" fill-opacity=\"1\" /><path clip-path=\"url(#clip020)\" d=\"M145.857 839.393 L150.741 839.393 L150.741 845.273 L145.857 845.273 L145.857 839.393 Z\" fill=\"#000000\" fill-rule=\"evenodd\" fill-opacity=\"1\" /><path clip-path=\"url(#clip020)\" d=\"M171.505 826.129 Q168.357 826.129 166.505 828.282 Q164.677 830.435 164.677 834.185 Q164.677 837.912 166.505 840.088 Q168.357 842.24 171.505 842.24 Q174.653 842.24 176.482 840.088 Q178.334 837.912 178.334 834.185 Q178.334 830.435 176.482 828.282 Q174.653 826.129 171.505 826.129 M180.788 811.477 L180.788 815.736 Q179.028 814.902 177.223 814.463 Q175.44 814.023 173.681 814.023 Q169.052 814.023 166.598 817.148 Q164.167 820.273 163.82 826.592 Q165.186 824.578 167.246 823.514 Q169.306 822.426 171.783 822.426 Q176.991 822.426 180.001 825.597 Q183.033 828.745 183.033 834.185 Q183.033 839.509 179.885 842.726 Q176.737 845.944 171.505 845.944 Q165.51 845.944 162.339 841.361 Q159.167 836.754 159.167 828.027 Q159.167 819.833 163.056 814.972 Q166.945 810.088 173.496 810.088 Q175.255 810.088 177.038 810.435 Q178.843 810.782 180.788 811.477 Z\" fill=\"#000000\" fill-rule=\"evenodd\" fill-opacity=\"1\" /><path clip-path=\"url(#clip020)\" d=\"M117.57 779.484 L125.209 779.484 L125.209 753.118 L116.899 754.785 L116.899 750.526 L125.163 748.859 L129.839 748.859 L129.839 779.484 L137.478 779.484 L137.478 783.419 L117.57 783.419 L117.57 779.484 Z\" fill=\"#000000\" fill-rule=\"evenodd\" fill-opacity=\"1\" /><path clip-path=\"url(#clip020)\" d=\"M146.922 777.539 L151.806 777.539 L151.806 783.419 L146.922 783.419 L146.922 777.539 Z\" fill=\"#000000\" fill-rule=\"evenodd\" fill-opacity=\"1\" /><path clip-path=\"url(#clip020)\" d=\"M160.811 748.859 L183.033 748.859 L183.033 750.85 L170.487 783.419 L165.602 783.419 L177.408 752.794 L160.811 752.794 L160.811 748.859 Z\" fill=\"#000000\" fill-rule=\"evenodd\" fill-opacity=\"1\" /><path clip-path=\"url(#clip020)\" d=\"M116.76 717.63 L124.399 717.63 L124.399 691.264 L116.089 692.931 L116.089 688.672 L124.353 687.005 L129.029 687.005 L129.029 717.63 L136.667 717.63 L136.667 721.565 L116.76 721.565 L116.76 717.63 Z\" fill=\"#000000\" fill-rule=\"evenodd\" fill-opacity=\"1\" /><path clip-path=\"url(#clip020)\" d=\"M146.112 715.685 L150.996 715.685 L150.996 721.565 L146.112 721.565 L146.112 715.685 Z\" fill=\"#000000\" fill-rule=\"evenodd\" fill-opacity=\"1\" /><path clip-path=\"url(#clip020)\" d=\"M171.181 705.153 Q167.848 705.153 165.927 706.936 Q164.028 708.718 164.028 711.843 Q164.028 714.968 165.927 716.75 Q167.848 718.533 171.181 718.533 Q174.514 718.533 176.436 716.75 Q178.357 714.945 178.357 711.843 Q178.357 708.718 176.436 706.936 Q174.538 705.153 171.181 705.153 M166.505 703.162 Q163.496 702.422 161.806 700.361 Q160.14 698.301 160.14 695.338 Q160.14 691.195 163.079 688.787 Q166.042 686.38 171.181 686.38 Q176.343 686.38 179.283 688.787 Q182.223 691.195 182.223 695.338 Q182.223 698.301 180.533 700.361 Q178.866 702.422 175.88 703.162 Q179.26 703.949 181.135 706.241 Q183.033 708.533 183.033 711.843 Q183.033 716.866 179.954 719.551 Q176.899 722.236 171.181 722.236 Q165.464 722.236 162.385 719.551 Q159.329 716.866 159.329 711.843 Q159.329 708.533 161.227 706.241 Q163.126 703.949 166.505 703.162 M164.792 695.778 Q164.792 698.463 166.459 699.968 Q168.149 701.473 171.181 701.473 Q174.19 701.473 175.88 699.968 Q177.593 698.463 177.593 695.778 Q177.593 693.093 175.88 691.588 Q174.19 690.084 171.181 690.084 Q168.149 690.084 166.459 691.588 Q164.792 693.093 164.792 695.778 Z\" fill=\"#000000\" fill-rule=\"evenodd\" fill-opacity=\"1\" /><path clip-path=\"url(#clip020)\" d=\"M116.853 655.776 L124.492 655.776 L124.492 629.41 L116.181 631.077 L116.181 626.818 L124.445 625.151 L129.121 625.151 L129.121 655.776 L136.76 655.776 L136.76 659.711 L116.853 659.711 L116.853 655.776 Z\" fill=\"#000000\" fill-rule=\"evenodd\" fill-opacity=\"1\" /><path clip-path=\"url(#clip020)\" d=\"M146.204 653.832 L151.089 653.832 L151.089 659.711 L146.204 659.711 L146.204 653.832 Z\" fill=\"#000000\" fill-rule=\"evenodd\" fill-opacity=\"1\" /><path clip-path=\"url(#clip020)\" d=\"M161.413 658.994 L161.413 654.734 Q163.172 655.568 164.977 656.008 Q166.783 656.447 168.519 656.447 Q173.149 656.447 175.579 653.346 Q178.033 650.221 178.38 643.878 Q177.038 645.869 174.977 646.934 Q172.917 647.998 170.417 647.998 Q165.232 647.998 162.2 644.873 Q159.19 641.725 159.19 636.285 Q159.19 630.961 162.339 627.744 Q165.487 624.526 170.718 624.526 Q176.714 624.526 179.862 629.133 Q183.033 633.716 183.033 642.466 Q183.033 650.637 179.144 655.521 Q175.278 660.383 168.727 660.383 Q166.968 660.383 165.163 660.035 Q163.357 659.688 161.413 658.994 M170.718 644.341 Q173.866 644.341 175.695 642.188 Q177.547 640.035 177.547 636.285 Q177.547 632.559 175.695 630.406 Q173.866 628.23 170.718 628.23 Q167.57 628.23 165.718 630.406 Q163.89 632.559 163.89 636.285 Q163.89 640.035 165.718 642.188 Q167.57 644.341 170.718 644.341 Z\" fill=\"#000000\" fill-rule=\"evenodd\" fill-opacity=\"1\" /><path clip-path=\"url(#clip020)\" d=\"M119.885 593.922 L136.204 593.922 L136.204 597.857 L114.26 597.857 L114.26 593.922 Q116.922 591.168 121.505 586.538 Q126.112 581.885 127.292 580.543 Q129.538 578.02 130.417 576.283 Q131.32 574.524 131.32 572.834 Q131.32 570.08 129.376 568.344 Q127.455 566.608 124.353 566.608 Q122.154 566.608 119.7 567.371 Q117.269 568.135 114.492 569.686 L114.492 564.964 Q117.316 563.83 119.769 563.251 Q122.223 562.672 124.26 562.672 Q129.63 562.672 132.825 565.358 Q136.019 568.043 136.019 572.533 Q136.019 574.663 135.209 576.584 Q134.422 578.483 132.316 581.075 Q131.737 581.746 128.635 584.964 Q125.533 588.158 119.885 593.922 Z\" fill=\"#000000\" fill-rule=\"evenodd\" fill-opacity=\"1\" /><path clip-path=\"url(#clip020)\" d=\"M146.019 591.978 L150.903 591.978 L150.903 597.857 L146.019 597.857 L146.019 591.978 Z\" fill=\"#000000\" fill-rule=\"evenodd\" fill-opacity=\"1\" /><path clip-path=\"url(#clip020)\" d=\"M171.089 566.376 Q167.477 566.376 165.649 569.941 Q163.843 573.483 163.843 580.612 Q163.843 587.719 165.649 591.283 Q167.477 594.825 171.089 594.825 Q174.723 594.825 176.528 591.283 Q178.357 587.719 178.357 580.612 Q178.357 573.483 176.528 569.941 Q174.723 566.376 171.089 566.376 M171.089 562.672 Q176.899 562.672 179.954 567.279 Q183.033 571.862 183.033 580.612 Q183.033 589.339 179.954 593.945 Q176.899 598.529 171.089 598.529 Q165.278 598.529 162.2 593.945 Q159.144 589.339 159.144 580.612 Q159.144 571.862 162.2 567.279 Q165.278 562.672 171.089 562.672 Z\" fill=\"#000000\" fill-rule=\"evenodd\" fill-opacity=\"1\" /><path clip-path=\"url(#clip020)\" d=\"M49.9359 770.573 L28.3562 770.573 L28.3562 764.717 L49.7131 764.717 Q54.7739 764.717 57.3202 762.744 Q59.8346 760.77 59.8346 756.824 Q59.8346 752.081 56.8109 749.344 Q53.7872 746.575 48.5673 746.575 L28.3562 746.575 L28.3562 740.718 L64.0042 740.718 L64.0042 746.575 L58.5296 746.575 Q61.7762 748.707 63.3676 751.54 Q64.9272 754.341 64.9272 758.065 Q64.9272 764.208 61.1078 767.391 Q57.2883 770.573 49.9359 770.573 M27.4968 755.837 L27.4968 755.837 Z\" fill=\"#000000\" fill-rule=\"evenodd\" fill-opacity=\"1\" /><path clip-path=\"url(#clip020)\" d=\"M58.5933 722.29 L58.5933 699.85 L64.0042 699.85 L64.0042 730.024 L58.5933 730.024 Q54.8057 726.364 48.44 720.062 Q42.0425 713.728 40.1964 712.104 Q36.7271 709.017 34.34 707.808 Q31.921 706.566 29.5975 706.566 Q25.8099 706.566 23.4228 709.24 Q21.0356 711.882 21.0356 716.147 Q21.0356 719.17 22.086 722.544 Q23.1363 725.886 25.2688 729.706 L18.7758 729.706 Q17.2162 725.823 16.4205 722.449 Q15.6248 719.075 15.6248 716.274 Q15.6248 708.89 19.3169 704.497 Q23.009 700.105 29.1837 700.105 Q32.112 700.105 34.7537 701.219 Q37.3637 702.301 40.9285 705.198 Q41.8515 705.993 46.2757 710.258 Q50.668 714.523 58.5933 722.29 Z\" fill=\"#000000\" fill-rule=\"evenodd\" fill-opacity=\"1\" /><line clip-path=\"url(#clip023)\" x1=\"279.421\" y1=\"771.425\" x2=\"279.421\" y2=\"755.425\" style=\"stroke:#6b9e32; stroke-width:3.2; stroke-opacity:1\"/>\n",
       "<line clip-path=\"url(#clip023)\" x1=\"279.421\" y1=\"771.425\" x2=\"263.421\" y2=\"771.425\" style=\"stroke:#6b9e32; stroke-width:3.2; stroke-opacity:1\"/>\n",
       "<line clip-path=\"url(#clip023)\" x1=\"279.421\" y1=\"771.425\" x2=\"279.421\" y2=\"787.425\" style=\"stroke:#6b9e32; stroke-width:3.2; stroke-opacity:1\"/>\n",
       "<line clip-path=\"url(#clip023)\" x1=\"279.421\" y1=\"771.425\" x2=\"295.421\" y2=\"771.425\" style=\"stroke:#6b9e32; stroke-width:3.2; stroke-opacity:1\"/>\n",
       "<line clip-path=\"url(#clip023)\" x1=\"356.842\" y1=\"642.431\" x2=\"356.842\" y2=\"626.431\" style=\"stroke:#6b9e32; stroke-width:3.2; stroke-opacity:1\"/>\n",
       "<line clip-path=\"url(#clip023)\" x1=\"356.842\" y1=\"642.431\" x2=\"340.842\" y2=\"642.431\" style=\"stroke:#6b9e32; stroke-width:3.2; stroke-opacity:1\"/>\n",
       "<line clip-path=\"url(#clip023)\" x1=\"356.842\" y1=\"642.431\" x2=\"356.842\" y2=\"658.431\" style=\"stroke:#6b9e32; stroke-width:3.2; stroke-opacity:1\"/>\n",
       "<line clip-path=\"url(#clip023)\" x1=\"356.842\" y1=\"642.431\" x2=\"372.842\" y2=\"642.431\" style=\"stroke:#6b9e32; stroke-width:3.2; stroke-opacity:1\"/>\n",
       "<line clip-path=\"url(#clip023)\" x1=\"434.263\" y1=\"642.431\" x2=\"434.263\" y2=\"626.431\" style=\"stroke:#6b9e32; stroke-width:3.2; stroke-opacity:1\"/>\n",
       "<line clip-path=\"url(#clip023)\" x1=\"434.263\" y1=\"642.431\" x2=\"418.263\" y2=\"642.431\" style=\"stroke:#6b9e32; stroke-width:3.2; stroke-opacity:1\"/>\n",
       "<line clip-path=\"url(#clip023)\" x1=\"434.263\" y1=\"642.431\" x2=\"434.263\" y2=\"658.431\" style=\"stroke:#6b9e32; stroke-width:3.2; stroke-opacity:1\"/>\n",
       "<line clip-path=\"url(#clip023)\" x1=\"434.263\" y1=\"642.431\" x2=\"450.263\" y2=\"642.431\" style=\"stroke:#6b9e32; stroke-width:3.2; stroke-opacity:1\"/>\n",
       "<line clip-path=\"url(#clip023)\" x1=\"511.684\" y1=\"682.722\" x2=\"511.684\" y2=\"666.722\" style=\"stroke:#6b9e32; stroke-width:3.2; stroke-opacity:1\"/>\n",
       "<line clip-path=\"url(#clip023)\" x1=\"511.684\" y1=\"682.722\" x2=\"495.684\" y2=\"682.722\" style=\"stroke:#6b9e32; stroke-width:3.2; stroke-opacity:1\"/>\n",
       "<line clip-path=\"url(#clip023)\" x1=\"511.684\" y1=\"682.722\" x2=\"511.684\" y2=\"698.722\" style=\"stroke:#6b9e32; stroke-width:3.2; stroke-opacity:1\"/>\n",
       "<line clip-path=\"url(#clip023)\" x1=\"511.684\" y1=\"682.722\" x2=\"527.684\" y2=\"682.722\" style=\"stroke:#6b9e32; stroke-width:3.2; stroke-opacity:1\"/>\n",
       "<line clip-path=\"url(#clip023)\" x1=\"589.105\" y1=\"731.225\" x2=\"589.105\" y2=\"715.225\" style=\"stroke:#6b9e32; stroke-width:3.2; stroke-opacity:1\"/>\n",
       "<line clip-path=\"url(#clip023)\" x1=\"589.105\" y1=\"731.225\" x2=\"573.105\" y2=\"731.225\" style=\"stroke:#6b9e32; stroke-width:3.2; stroke-opacity:1\"/>\n",
       "<line clip-path=\"url(#clip023)\" x1=\"589.105\" y1=\"731.225\" x2=\"589.105\" y2=\"747.225\" style=\"stroke:#6b9e32; stroke-width:3.2; stroke-opacity:1\"/>\n",
       "<line clip-path=\"url(#clip023)\" x1=\"589.105\" y1=\"731.225\" x2=\"605.105\" y2=\"731.225\" style=\"stroke:#6b9e32; stroke-width:3.2; stroke-opacity:1\"/>\n",
       "<line clip-path=\"url(#clip023)\" x1=\"666.526\" y1=\"775.5\" x2=\"666.526\" y2=\"759.5\" style=\"stroke:#6b9e32; stroke-width:3.2; stroke-opacity:1\"/>\n",
       "<line clip-path=\"url(#clip023)\" x1=\"666.526\" y1=\"775.5\" x2=\"650.526\" y2=\"775.5\" style=\"stroke:#6b9e32; stroke-width:3.2; stroke-opacity:1\"/>\n",
       "<line clip-path=\"url(#clip023)\" x1=\"666.526\" y1=\"775.5\" x2=\"666.526\" y2=\"791.5\" style=\"stroke:#6b9e32; stroke-width:3.2; stroke-opacity:1\"/>\n",
       "<line clip-path=\"url(#clip023)\" x1=\"666.526\" y1=\"775.5\" x2=\"682.526\" y2=\"775.5\" style=\"stroke:#6b9e32; stroke-width:3.2; stroke-opacity:1\"/>\n",
       "<line clip-path=\"url(#clip023)\" x1=\"743.947\" y1=\"819.444\" x2=\"743.947\" y2=\"803.444\" style=\"stroke:#6b9e32; stroke-width:3.2; stroke-opacity:1\"/>\n",
       "<line clip-path=\"url(#clip023)\" x1=\"743.947\" y1=\"819.444\" x2=\"727.947\" y2=\"819.444\" style=\"stroke:#6b9e32; stroke-width:3.2; stroke-opacity:1\"/>\n",
       "<line clip-path=\"url(#clip023)\" x1=\"743.947\" y1=\"819.444\" x2=\"743.947\" y2=\"835.444\" style=\"stroke:#6b9e32; stroke-width:3.2; stroke-opacity:1\"/>\n",
       "<line clip-path=\"url(#clip023)\" x1=\"743.947\" y1=\"819.444\" x2=\"759.947\" y2=\"819.444\" style=\"stroke:#6b9e32; stroke-width:3.2; stroke-opacity:1\"/>\n",
       "<line clip-path=\"url(#clip023)\" x1=\"821.368\" y1=\"822.383\" x2=\"821.368\" y2=\"806.383\" style=\"stroke:#6b9e32; stroke-width:3.2; stroke-opacity:1\"/>\n",
       "<line clip-path=\"url(#clip023)\" x1=\"821.368\" y1=\"822.383\" x2=\"805.368\" y2=\"822.383\" style=\"stroke:#6b9e32; stroke-width:3.2; stroke-opacity:1\"/>\n",
       "<line clip-path=\"url(#clip023)\" x1=\"821.368\" y1=\"822.383\" x2=\"821.368\" y2=\"838.383\" style=\"stroke:#6b9e32; stroke-width:3.2; stroke-opacity:1\"/>\n",
       "<line clip-path=\"url(#clip023)\" x1=\"821.368\" y1=\"822.383\" x2=\"837.368\" y2=\"822.383\" style=\"stroke:#6b9e32; stroke-width:3.2; stroke-opacity:1\"/>\n",
       "<line clip-path=\"url(#clip023)\" x1=\"898.789\" y1=\"778.622\" x2=\"898.789\" y2=\"762.622\" style=\"stroke:#6b9e32; stroke-width:3.2; stroke-opacity:1\"/>\n",
       "<line clip-path=\"url(#clip023)\" x1=\"898.789\" y1=\"778.622\" x2=\"882.789\" y2=\"778.622\" style=\"stroke:#6b9e32; stroke-width:3.2; stroke-opacity:1\"/>\n",
       "<line clip-path=\"url(#clip023)\" x1=\"898.789\" y1=\"778.622\" x2=\"898.789\" y2=\"794.622\" style=\"stroke:#6b9e32; stroke-width:3.2; stroke-opacity:1\"/>\n",
       "<line clip-path=\"url(#clip023)\" x1=\"898.789\" y1=\"778.622\" x2=\"914.789\" y2=\"778.622\" style=\"stroke:#6b9e32; stroke-width:3.2; stroke-opacity:1\"/>\n",
       "<line clip-path=\"url(#clip023)\" x1=\"976.21\" y1=\"757.334\" x2=\"976.21\" y2=\"741.334\" style=\"stroke:#6b9e32; stroke-width:3.2; stroke-opacity:1\"/>\n",
       "<line clip-path=\"url(#clip023)\" x1=\"976.21\" y1=\"757.334\" x2=\"960.21\" y2=\"757.334\" style=\"stroke:#6b9e32; stroke-width:3.2; stroke-opacity:1\"/>\n",
       "<line clip-path=\"url(#clip023)\" x1=\"976.21\" y1=\"757.334\" x2=\"976.21\" y2=\"773.334\" style=\"stroke:#6b9e32; stroke-width:3.2; stroke-opacity:1\"/>\n",
       "<line clip-path=\"url(#clip023)\" x1=\"976.21\" y1=\"757.334\" x2=\"992.21\" y2=\"757.334\" style=\"stroke:#6b9e32; stroke-width:3.2; stroke-opacity:1\"/>\n",
       "<line clip-path=\"url(#clip023)\" x1=\"1053.63\" y1=\"749.697\" x2=\"1053.63\" y2=\"733.697\" style=\"stroke:#6b9e32; stroke-width:3.2; stroke-opacity:1\"/>\n",
       "<line clip-path=\"url(#clip023)\" x1=\"1053.63\" y1=\"749.697\" x2=\"1037.63\" y2=\"749.697\" style=\"stroke:#6b9e32; stroke-width:3.2; stroke-opacity:1\"/>\n",
       "<line clip-path=\"url(#clip023)\" x1=\"1053.63\" y1=\"749.697\" x2=\"1053.63\" y2=\"765.697\" style=\"stroke:#6b9e32; stroke-width:3.2; stroke-opacity:1\"/>\n",
       "<line clip-path=\"url(#clip023)\" x1=\"1053.63\" y1=\"749.697\" x2=\"1069.63\" y2=\"749.697\" style=\"stroke:#6b9e32; stroke-width:3.2; stroke-opacity:1\"/>\n",
       "<line clip-path=\"url(#clip023)\" x1=\"1131.05\" y1=\"760.869\" x2=\"1131.05\" y2=\"744.869\" style=\"stroke:#6b9e32; stroke-width:3.2; stroke-opacity:1\"/>\n",
       "<line clip-path=\"url(#clip023)\" x1=\"1131.05\" y1=\"760.869\" x2=\"1115.05\" y2=\"760.869\" style=\"stroke:#6b9e32; stroke-width:3.2; stroke-opacity:1\"/>\n",
       "<line clip-path=\"url(#clip023)\" x1=\"1131.05\" y1=\"760.869\" x2=\"1131.05\" y2=\"776.869\" style=\"stroke:#6b9e32; stroke-width:3.2; stroke-opacity:1\"/>\n",
       "<line clip-path=\"url(#clip023)\" x1=\"1131.05\" y1=\"760.869\" x2=\"1147.05\" y2=\"760.869\" style=\"stroke:#6b9e32; stroke-width:3.2; stroke-opacity:1\"/>\n",
       "<line clip-path=\"url(#clip023)\" x1=\"1208.47\" y1=\"778.102\" x2=\"1208.47\" y2=\"762.102\" style=\"stroke:#6b9e32; stroke-width:3.2; stroke-opacity:1\"/>\n",
       "<line clip-path=\"url(#clip023)\" x1=\"1208.47\" y1=\"778.102\" x2=\"1192.47\" y2=\"778.102\" style=\"stroke:#6b9e32; stroke-width:3.2; stroke-opacity:1\"/>\n",
       "<line clip-path=\"url(#clip023)\" x1=\"1208.47\" y1=\"778.102\" x2=\"1208.47\" y2=\"794.102\" style=\"stroke:#6b9e32; stroke-width:3.2; stroke-opacity:1\"/>\n",
       "<line clip-path=\"url(#clip023)\" x1=\"1208.47\" y1=\"778.102\" x2=\"1224.47\" y2=\"778.102\" style=\"stroke:#6b9e32; stroke-width:3.2; stroke-opacity:1\"/>\n",
       "<line clip-path=\"url(#clip023)\" x1=\"1285.89\" y1=\"785.561\" x2=\"1285.89\" y2=\"769.561\" style=\"stroke:#6b9e32; stroke-width:3.2; stroke-opacity:1\"/>\n",
       "<line clip-path=\"url(#clip023)\" x1=\"1285.89\" y1=\"785.561\" x2=\"1269.89\" y2=\"785.561\" style=\"stroke:#6b9e32; stroke-width:3.2; stroke-opacity:1\"/>\n",
       "<line clip-path=\"url(#clip023)\" x1=\"1285.89\" y1=\"785.561\" x2=\"1285.89\" y2=\"801.561\" style=\"stroke:#6b9e32; stroke-width:3.2; stroke-opacity:1\"/>\n",
       "<line clip-path=\"url(#clip023)\" x1=\"1285.89\" y1=\"785.561\" x2=\"1301.89\" y2=\"785.561\" style=\"stroke:#6b9e32; stroke-width:3.2; stroke-opacity:1\"/>\n",
       "<line clip-path=\"url(#clip023)\" x1=\"1363.32\" y1=\"783.931\" x2=\"1363.32\" y2=\"767.931\" style=\"stroke:#6b9e32; stroke-width:3.2; stroke-opacity:1\"/>\n",
       "<line clip-path=\"url(#clip023)\" x1=\"1363.32\" y1=\"783.931\" x2=\"1347.32\" y2=\"783.931\" style=\"stroke:#6b9e32; stroke-width:3.2; stroke-opacity:1\"/>\n",
       "<line clip-path=\"url(#clip023)\" x1=\"1363.32\" y1=\"783.931\" x2=\"1363.32\" y2=\"799.931\" style=\"stroke:#6b9e32; stroke-width:3.2; stroke-opacity:1\"/>\n",
       "<line clip-path=\"url(#clip023)\" x1=\"1363.32\" y1=\"783.931\" x2=\"1379.32\" y2=\"783.931\" style=\"stroke:#6b9e32; stroke-width:3.2; stroke-opacity:1\"/>\n",
       "<line clip-path=\"url(#clip023)\" x1=\"1440.74\" y1=\"780.889\" x2=\"1440.74\" y2=\"764.889\" style=\"stroke:#6b9e32; stroke-width:3.2; stroke-opacity:1\"/>\n",
       "<line clip-path=\"url(#clip023)\" x1=\"1440.74\" y1=\"780.889\" x2=\"1424.74\" y2=\"780.889\" style=\"stroke:#6b9e32; stroke-width:3.2; stroke-opacity:1\"/>\n",
       "<line clip-path=\"url(#clip023)\" x1=\"1440.74\" y1=\"780.889\" x2=\"1440.74\" y2=\"796.889\" style=\"stroke:#6b9e32; stroke-width:3.2; stroke-opacity:1\"/>\n",
       "<line clip-path=\"url(#clip023)\" x1=\"1440.74\" y1=\"780.889\" x2=\"1456.74\" y2=\"780.889\" style=\"stroke:#6b9e32; stroke-width:3.2; stroke-opacity:1\"/>\n",
       "<line clip-path=\"url(#clip023)\" x1=\"1518.16\" y1=\"782.212\" x2=\"1518.16\" y2=\"766.212\" style=\"stroke:#6b9e32; stroke-width:3.2; stroke-opacity:1\"/>\n",
       "<line clip-path=\"url(#clip023)\" x1=\"1518.16\" y1=\"782.212\" x2=\"1502.16\" y2=\"782.212\" style=\"stroke:#6b9e32; stroke-width:3.2; stroke-opacity:1\"/>\n",
       "<line clip-path=\"url(#clip023)\" x1=\"1518.16\" y1=\"782.212\" x2=\"1518.16\" y2=\"798.212\" style=\"stroke:#6b9e32; stroke-width:3.2; stroke-opacity:1\"/>\n",
       "<line clip-path=\"url(#clip023)\" x1=\"1518.16\" y1=\"782.212\" x2=\"1534.16\" y2=\"782.212\" style=\"stroke:#6b9e32; stroke-width:3.2; stroke-opacity:1\"/>\n",
       "<line clip-path=\"url(#clip023)\" x1=\"1595.58\" y1=\"762.545\" x2=\"1595.58\" y2=\"746.545\" style=\"stroke:#6b9e32; stroke-width:3.2; stroke-opacity:1\"/>\n",
       "<line clip-path=\"url(#clip023)\" x1=\"1595.58\" y1=\"762.545\" x2=\"1579.58\" y2=\"762.545\" style=\"stroke:#6b9e32; stroke-width:3.2; stroke-opacity:1\"/>\n",
       "<line clip-path=\"url(#clip023)\" x1=\"1595.58\" y1=\"762.545\" x2=\"1595.58\" y2=\"778.545\" style=\"stroke:#6b9e32; stroke-width:3.2; stroke-opacity:1\"/>\n",
       "<line clip-path=\"url(#clip023)\" x1=\"1595.58\" y1=\"762.545\" x2=\"1611.58\" y2=\"762.545\" style=\"stroke:#6b9e32; stroke-width:3.2; stroke-opacity:1\"/>\n",
       "<line clip-path=\"url(#clip023)\" x1=\"1673\" y1=\"761.511\" x2=\"1673\" y2=\"745.511\" style=\"stroke:#6b9e32; stroke-width:3.2; stroke-opacity:1\"/>\n",
       "<line clip-path=\"url(#clip023)\" x1=\"1673\" y1=\"761.511\" x2=\"1657\" y2=\"761.511\" style=\"stroke:#6b9e32; stroke-width:3.2; stroke-opacity:1\"/>\n",
       "<line clip-path=\"url(#clip023)\" x1=\"1673\" y1=\"761.511\" x2=\"1673\" y2=\"777.511\" style=\"stroke:#6b9e32; stroke-width:3.2; stroke-opacity:1\"/>\n",
       "<line clip-path=\"url(#clip023)\" x1=\"1673\" y1=\"761.511\" x2=\"1689\" y2=\"761.511\" style=\"stroke:#6b9e32; stroke-width:3.2; stroke-opacity:1\"/>\n",
       "<line clip-path=\"url(#clip023)\" x1=\"1750.42\" y1=\"776.992\" x2=\"1750.42\" y2=\"760.992\" style=\"stroke:#6b9e32; stroke-width:3.2; stroke-opacity:1\"/>\n",
       "<line clip-path=\"url(#clip023)\" x1=\"1750.42\" y1=\"776.992\" x2=\"1734.42\" y2=\"776.992\" style=\"stroke:#6b9e32; stroke-width:3.2; stroke-opacity:1\"/>\n",
       "<line clip-path=\"url(#clip023)\" x1=\"1750.42\" y1=\"776.992\" x2=\"1750.42\" y2=\"792.992\" style=\"stroke:#6b9e32; stroke-width:3.2; stroke-opacity:1\"/>\n",
       "<line clip-path=\"url(#clip023)\" x1=\"1750.42\" y1=\"776.992\" x2=\"1766.42\" y2=\"776.992\" style=\"stroke:#6b9e32; stroke-width:3.2; stroke-opacity:1\"/>\n",
       "<line clip-path=\"url(#clip023)\" x1=\"1827.84\" y1=\"776.992\" x2=\"1827.84\" y2=\"760.992\" style=\"stroke:#6b9e32; stroke-width:3.2; stroke-opacity:1\"/>\n",
       "<line clip-path=\"url(#clip023)\" x1=\"1827.84\" y1=\"776.992\" x2=\"1811.84\" y2=\"776.992\" style=\"stroke:#6b9e32; stroke-width:3.2; stroke-opacity:1\"/>\n",
       "<line clip-path=\"url(#clip023)\" x1=\"1827.84\" y1=\"776.992\" x2=\"1827.84\" y2=\"792.992\" style=\"stroke:#6b9e32; stroke-width:3.2; stroke-opacity:1\"/>\n",
       "<line clip-path=\"url(#clip023)\" x1=\"1827.84\" y1=\"776.992\" x2=\"1843.84\" y2=\"776.992\" style=\"stroke:#6b9e32; stroke-width:3.2; stroke-opacity:1\"/>\n",
       "<line clip-path=\"url(#clip023)\" x1=\"1905.26\" y1=\"776.992\" x2=\"1905.26\" y2=\"760.992\" style=\"stroke:#6b9e32; stroke-width:3.2; stroke-opacity:1\"/>\n",
       "<line clip-path=\"url(#clip023)\" x1=\"1905.26\" y1=\"776.992\" x2=\"1889.26\" y2=\"776.992\" style=\"stroke:#6b9e32; stroke-width:3.2; stroke-opacity:1\"/>\n",
       "<line clip-path=\"url(#clip023)\" x1=\"1905.26\" y1=\"776.992\" x2=\"1905.26\" y2=\"792.992\" style=\"stroke:#6b9e32; stroke-width:3.2; stroke-opacity:1\"/>\n",
       "<line clip-path=\"url(#clip023)\" x1=\"1905.26\" y1=\"776.992\" x2=\"1921.26\" y2=\"776.992\" style=\"stroke:#6b9e32; stroke-width:3.2; stroke-opacity:1\"/>\n",
       "<line clip-path=\"url(#clip023)\" x1=\"1982.68\" y1=\"776.992\" x2=\"1982.68\" y2=\"760.992\" style=\"stroke:#6b9e32; stroke-width:3.2; stroke-opacity:1\"/>\n",
       "<line clip-path=\"url(#clip023)\" x1=\"1982.68\" y1=\"776.992\" x2=\"1966.68\" y2=\"776.992\" style=\"stroke:#6b9e32; stroke-width:3.2; stroke-opacity:1\"/>\n",
       "<line clip-path=\"url(#clip023)\" x1=\"1982.68\" y1=\"776.992\" x2=\"1982.68\" y2=\"792.992\" style=\"stroke:#6b9e32; stroke-width:3.2; stroke-opacity:1\"/>\n",
       "<line clip-path=\"url(#clip023)\" x1=\"1982.68\" y1=\"776.992\" x2=\"1998.68\" y2=\"776.992\" style=\"stroke:#6b9e32; stroke-width:3.2; stroke-opacity:1\"/>\n",
       "<line clip-path=\"url(#clip023)\" x1=\"2060.1\" y1=\"776.992\" x2=\"2060.1\" y2=\"760.992\" style=\"stroke:#6b9e32; stroke-width:3.2; stroke-opacity:1\"/>\n",
       "<line clip-path=\"url(#clip023)\" x1=\"2060.1\" y1=\"776.992\" x2=\"2044.1\" y2=\"776.992\" style=\"stroke:#6b9e32; stroke-width:3.2; stroke-opacity:1\"/>\n",
       "<line clip-path=\"url(#clip023)\" x1=\"2060.1\" y1=\"776.992\" x2=\"2060.1\" y2=\"792.992\" style=\"stroke:#6b9e32; stroke-width:3.2; stroke-opacity:1\"/>\n",
       "<line clip-path=\"url(#clip023)\" x1=\"2060.1\" y1=\"776.992\" x2=\"2076.1\" y2=\"776.992\" style=\"stroke:#6b9e32; stroke-width:3.2; stroke-opacity:1\"/>\n",
       "<line clip-path=\"url(#clip023)\" x1=\"2137.53\" y1=\"776.992\" x2=\"2137.53\" y2=\"760.992\" style=\"stroke:#6b9e32; stroke-width:3.2; stroke-opacity:1\"/>\n",
       "<line clip-path=\"url(#clip023)\" x1=\"2137.53\" y1=\"776.992\" x2=\"2121.53\" y2=\"776.992\" style=\"stroke:#6b9e32; stroke-width:3.2; stroke-opacity:1\"/>\n",
       "<line clip-path=\"url(#clip023)\" x1=\"2137.53\" y1=\"776.992\" x2=\"2137.53\" y2=\"792.992\" style=\"stroke:#6b9e32; stroke-width:3.2; stroke-opacity:1\"/>\n",
       "<line clip-path=\"url(#clip023)\" x1=\"2137.53\" y1=\"776.992\" x2=\"2153.53\" y2=\"776.992\" style=\"stroke:#6b9e32; stroke-width:3.2; stroke-opacity:1\"/>\n",
       "<line clip-path=\"url(#clip023)\" x1=\"2214.95\" y1=\"776.992\" x2=\"2214.95\" y2=\"760.992\" style=\"stroke:#6b9e32; stroke-width:3.2; stroke-opacity:1\"/>\n",
       "<line clip-path=\"url(#clip023)\" x1=\"2214.95\" y1=\"776.992\" x2=\"2198.95\" y2=\"776.992\" style=\"stroke:#6b9e32; stroke-width:3.2; stroke-opacity:1\"/>\n",
       "<line clip-path=\"url(#clip023)\" x1=\"2214.95\" y1=\"776.992\" x2=\"2214.95\" y2=\"792.992\" style=\"stroke:#6b9e32; stroke-width:3.2; stroke-opacity:1\"/>\n",
       "<line clip-path=\"url(#clip023)\" x1=\"2214.95\" y1=\"776.992\" x2=\"2230.95\" y2=\"776.992\" style=\"stroke:#6b9e32; stroke-width:3.2; stroke-opacity:1\"/>\n",
       "<line clip-path=\"url(#clip023)\" x1=\"2292.37\" y1=\"776.992\" x2=\"2292.37\" y2=\"760.992\" style=\"stroke:#6b9e32; stroke-width:3.2; stroke-opacity:1\"/>\n",
       "<line clip-path=\"url(#clip023)\" x1=\"2292.37\" y1=\"776.992\" x2=\"2276.37\" y2=\"776.992\" style=\"stroke:#6b9e32; stroke-width:3.2; stroke-opacity:1\"/>\n",
       "<line clip-path=\"url(#clip023)\" x1=\"2292.37\" y1=\"776.992\" x2=\"2292.37\" y2=\"792.992\" style=\"stroke:#6b9e32; stroke-width:3.2; stroke-opacity:1\"/>\n",
       "<line clip-path=\"url(#clip023)\" x1=\"2292.37\" y1=\"776.992\" x2=\"2308.37\" y2=\"776.992\" style=\"stroke:#6b9e32; stroke-width:3.2; stroke-opacity:1\"/>\n",
       "<polyline clip-path=\"url(#clip023)\" style=\"stroke:#ff0000; stroke-linecap:round; stroke-linejoin:round; stroke-width:20; stroke-opacity:0.3; fill:none\" points=\"279.421,771.425 279.421,642.431 356.842,642.431 356.842,642.431 434.263,642.431 434.263,682.722 511.684,682.722 511.684,731.225 589.105,731.225 589.105,775.5 666.526,775.5 666.526,819.444 743.947,819.444 743.947,822.383 821.368,822.383 821.368,778.622 898.789,778.622 898.789,757.334 976.21,757.334 976.21,749.697 1053.63,749.697 1053.63,760.869 1131.05,760.869 1131.05,778.102 1208.47,778.102 1208.47,785.561 1285.89,785.561 1285.89,783.931 1363.32,783.931 1363.32,780.889 1440.74,780.889 1440.74,782.212 1518.16,782.212 1518.16,762.545 1595.58,762.545 1595.58,761.511 1673,761.511 1673,776.992 1750.42,776.992 1827.84,776.992 1905.26,776.992 1982.68,776.992 2060.1,776.992 2137.53,776.992 2214.95,776.992 2292.37,776.992 \"/>\n",
       "<circle clip-path=\"url(#clip023)\" cx=\"279.421\" cy=\"766.912\" r=\"14.4\" fill=\"#009af9\" fill-rule=\"evenodd\" fill-opacity=\"1\" stroke=\"#000000\" stroke-opacity=\"1\" stroke-width=\"3.2\"/>\n",
       "<circle clip-path=\"url(#clip023)\" cx=\"356.842\" cy=\"642.431\" r=\"14.4\" fill=\"#009af9\" fill-rule=\"evenodd\" fill-opacity=\"1\" stroke=\"#000000\" stroke-opacity=\"1\" stroke-width=\"3.2\"/>\n",
       "<circle clip-path=\"url(#clip023)\" cx=\"434.263\" cy=\"642.431\" r=\"14.4\" fill=\"#009af9\" fill-rule=\"evenodd\" fill-opacity=\"1\" stroke=\"#000000\" stroke-opacity=\"1\" stroke-width=\"3.2\"/>\n",
       "<circle clip-path=\"url(#clip023)\" cx=\"511.684\" cy=\"666.291\" r=\"14.4\" fill=\"#009af9\" fill-rule=\"evenodd\" fill-opacity=\"1\" stroke=\"#000000\" stroke-opacity=\"1\" stroke-width=\"3.2\"/>\n",
       "<circle clip-path=\"url(#clip023)\" cx=\"589.105\" cy=\"722.695\" r=\"14.4\" fill=\"#009af9\" fill-rule=\"evenodd\" fill-opacity=\"1\" stroke=\"#000000\" stroke-opacity=\"1\" stroke-width=\"3.2\"/>\n",
       "<circle clip-path=\"url(#clip023)\" cx=\"666.526\" cy=\"769.902\" r=\"14.4\" fill=\"#009af9\" fill-rule=\"evenodd\" fill-opacity=\"1\" stroke=\"#000000\" stroke-opacity=\"1\" stroke-width=\"3.2\"/>\n",
       "<circle clip-path=\"url(#clip023)\" cx=\"743.947\" cy=\"806.4\" r=\"14.4\" fill=\"#009af9\" fill-rule=\"evenodd\" fill-opacity=\"1\" stroke=\"#000000\" stroke-opacity=\"1\" stroke-width=\"3.2\"/>\n",
       "<circle clip-path=\"url(#clip023)\" cx=\"821.368\" cy=\"824.165\" r=\"14.4\" fill=\"#009af9\" fill-rule=\"evenodd\" fill-opacity=\"1\" stroke=\"#000000\" stroke-opacity=\"1\" stroke-width=\"3.2\"/>\n",
       "<circle clip-path=\"url(#clip023)\" cx=\"898.789\" cy=\"800.263\" r=\"14.4\" fill=\"#009af9\" fill-rule=\"evenodd\" fill-opacity=\"1\" stroke=\"#000000\" stroke-opacity=\"1\" stroke-width=\"3.2\"/>\n",
       "<circle clip-path=\"url(#clip023)\" cx=\"976.21\" cy=\"751.041\" r=\"14.4\" fill=\"#009af9\" fill-rule=\"evenodd\" fill-opacity=\"1\" stroke=\"#000000\" stroke-opacity=\"1\" stroke-width=\"3.2\"/>\n",
       "<circle clip-path=\"url(#clip023)\" cx=\"1053.63\" cy=\"767.118\" r=\"14.4\" fill=\"#009af9\" fill-rule=\"evenodd\" fill-opacity=\"1\" stroke=\"#000000\" stroke-opacity=\"1\" stroke-width=\"3.2\"/>\n",
       "<circle clip-path=\"url(#clip023)\" cx=\"1131.05\" cy=\"767.392\" r=\"14.4\" fill=\"#009af9\" fill-rule=\"evenodd\" fill-opacity=\"1\" stroke=\"#000000\" stroke-opacity=\"1\" stroke-width=\"3.2\"/>\n",
       "<circle clip-path=\"url(#clip023)\" cx=\"1208.47\" cy=\"758.421\" r=\"14.4\" fill=\"#009af9\" fill-rule=\"evenodd\" fill-opacity=\"1\" stroke=\"#000000\" stroke-opacity=\"1\" stroke-width=\"3.2\"/>\n",
       "<circle clip-path=\"url(#clip023)\" cx=\"1285.89\" cy=\"769.929\" r=\"14.4\" fill=\"#009af9\" fill-rule=\"evenodd\" fill-opacity=\"1\" stroke=\"#000000\" stroke-opacity=\"1\" stroke-width=\"3.2\"/>\n",
       "<circle clip-path=\"url(#clip023)\" cx=\"1363.32\" cy=\"788.752\" r=\"14.4\" fill=\"#009af9\" fill-rule=\"evenodd\" fill-opacity=\"1\" stroke=\"#000000\" stroke-opacity=\"1\" stroke-width=\"3.2\"/>\n",
       "<circle clip-path=\"url(#clip023)\" cx=\"1440.74\" cy=\"795.717\" r=\"14.4\" fill=\"#009af9\" fill-rule=\"evenodd\" fill-opacity=\"1\" stroke=\"#000000\" stroke-opacity=\"1\" stroke-width=\"3.2\"/>\n",
       "<circle clip-path=\"url(#clip023)\" cx=\"1518.16\" cy=\"775\" r=\"14.4\" fill=\"#009af9\" fill-rule=\"evenodd\" fill-opacity=\"1\" stroke=\"#000000\" stroke-opacity=\"1\" stroke-width=\"3.2\"/>\n",
       "<circle clip-path=\"url(#clip023)\" cx=\"1595.58\" cy=\"765.785\" r=\"14.4\" fill=\"#009af9\" fill-rule=\"evenodd\" fill-opacity=\"1\" stroke=\"#000000\" stroke-opacity=\"1\" stroke-width=\"3.2\"/>\n",
       "<circle clip-path=\"url(#clip023)\" cx=\"1673\" cy=\"764.251\" r=\"14.4\" fill=\"#009af9\" fill-rule=\"evenodd\" fill-opacity=\"1\" stroke=\"#000000\" stroke-opacity=\"1\" stroke-width=\"3.2\"/>\n",
       "<circle clip-path=\"url(#clip023)\" cx=\"1750.42\" cy=\"776.179\" r=\"14.4\" fill=\"#009af9\" fill-rule=\"evenodd\" fill-opacity=\"1\" stroke=\"#000000\" stroke-opacity=\"1\" stroke-width=\"3.2\"/>\n",
       "<circle clip-path=\"url(#clip023)\" cx=\"1827.84\" cy=\"776.179\" r=\"14.4\" fill=\"#009af9\" fill-rule=\"evenodd\" fill-opacity=\"1\" stroke=\"#000000\" stroke-opacity=\"1\" stroke-width=\"3.2\"/>\n",
       "<circle clip-path=\"url(#clip023)\" cx=\"1905.26\" cy=\"776.179\" r=\"14.4\" fill=\"#009af9\" fill-rule=\"evenodd\" fill-opacity=\"1\" stroke=\"#000000\" stroke-opacity=\"1\" stroke-width=\"3.2\"/>\n",
       "<circle clip-path=\"url(#clip023)\" cx=\"1982.68\" cy=\"776.179\" r=\"14.4\" fill=\"#009af9\" fill-rule=\"evenodd\" fill-opacity=\"1\" stroke=\"#000000\" stroke-opacity=\"1\" stroke-width=\"3.2\"/>\n",
       "<circle clip-path=\"url(#clip023)\" cx=\"2060.1\" cy=\"776.179\" r=\"14.4\" fill=\"#009af9\" fill-rule=\"evenodd\" fill-opacity=\"1\" stroke=\"#000000\" stroke-opacity=\"1\" stroke-width=\"3.2\"/>\n",
       "<circle clip-path=\"url(#clip023)\" cx=\"2137.53\" cy=\"776.179\" r=\"14.4\" fill=\"#009af9\" fill-rule=\"evenodd\" fill-opacity=\"1\" stroke=\"#000000\" stroke-opacity=\"1\" stroke-width=\"3.2\"/>\n",
       "<circle clip-path=\"url(#clip023)\" cx=\"2214.95\" cy=\"776.179\" r=\"14.4\" fill=\"#009af9\" fill-rule=\"evenodd\" fill-opacity=\"1\" stroke=\"#000000\" stroke-opacity=\"1\" stroke-width=\"3.2\"/>\n",
       "<circle clip-path=\"url(#clip023)\" cx=\"2292.37\" cy=\"776.179\" r=\"14.4\" fill=\"#009af9\" fill-rule=\"evenodd\" fill-opacity=\"1\" stroke=\"#000000\" stroke-opacity=\"1\" stroke-width=\"3.2\"/>\n",
       "<polyline clip-path=\"url(#clip023)\" style=\"stroke:#80007f; stroke-linecap:round; stroke-linejoin:round; stroke-width:20; stroke-opacity:0.3; fill:none\" points=\"279.421,766.912 279.421,642.431 356.842,642.431 356.842,642.431 434.263,642.431 434.263,666.291 511.684,666.291 511.684,722.695 589.105,722.695 589.105,769.902 666.526,769.902 666.526,806.4 743.947,806.4 743.947,824.165 821.368,824.165 821.368,800.263 898.789,800.263 898.789,751.041 976.21,751.041 976.21,767.118 1053.63,767.118 1053.63,767.392 1131.05,767.392 1131.05,758.421 1208.47,758.421 1208.47,769.929 1285.89,769.929 1285.89,788.752 1363.32,788.752 1363.32,795.717 1440.74,795.717 1440.74,775 1518.16,775 1518.16,765.785 1595.58,765.785 1595.58,764.251 1673,764.251 1673,776.179 1750.42,776.179 1827.84,776.179 1905.26,776.179 1982.68,776.179 2060.1,776.179 2137.53,776.179 2214.95,776.179 2292.37,776.179 \"/>\n",
       "<path clip-path=\"url(#clip023)\" d=\"M279.421 750.913 L263.421 766.913 L279.421 782.913 L295.421 766.913 L279.421 750.913 Z\" fill=\"#e26f46\" fill-rule=\"evenodd\" fill-opacity=\"1\" stroke=\"#000000\" stroke-opacity=\"1\" stroke-width=\"3.2\"/>\n",
       "<path clip-path=\"url(#clip023)\" d=\"M356.842 626.431 L340.842 642.431 L356.842 658.431 L372.842 642.431 L356.842 626.431 Z\" fill=\"#e26f46\" fill-rule=\"evenodd\" fill-opacity=\"1\" stroke=\"#000000\" stroke-opacity=\"1\" stroke-width=\"3.2\"/>\n",
       "<path clip-path=\"url(#clip023)\" d=\"M434.263 626.431 L418.263 642.431 L434.263 658.431 L450.263 642.431 L434.263 626.431 Z\" fill=\"#e26f46\" fill-rule=\"evenodd\" fill-opacity=\"1\" stroke=\"#000000\" stroke-opacity=\"1\" stroke-width=\"3.2\"/>\n",
       "<path clip-path=\"url(#clip023)\" d=\"M511.684 650.284 L495.684 666.284 L511.684 682.284 L527.684 666.284 L511.684 650.284 Z\" fill=\"#e26f46\" fill-rule=\"evenodd\" fill-opacity=\"1\" stroke=\"#000000\" stroke-opacity=\"1\" stroke-width=\"3.2\"/>\n",
       "<path clip-path=\"url(#clip023)\" d=\"M589.105 706.685 L573.105 722.685 L589.105 738.685 L605.105 722.685 L589.105 706.685 Z\" fill=\"#e26f46\" fill-rule=\"evenodd\" fill-opacity=\"1\" stroke=\"#000000\" stroke-opacity=\"1\" stroke-width=\"3.2\"/>\n",
       "<path clip-path=\"url(#clip023)\" d=\"M666.526 753.895 L650.526 769.895 L666.526 785.895 L682.526 769.895 L666.526 753.895 Z\" fill=\"#e26f46\" fill-rule=\"evenodd\" fill-opacity=\"1\" stroke=\"#000000\" stroke-opacity=\"1\" stroke-width=\"3.2\"/>\n",
       "<path clip-path=\"url(#clip023)\" d=\"M743.947 790.397 L727.947 806.397 L743.947 822.397 L759.947 806.397 L743.947 790.397 Z\" fill=\"#e26f46\" fill-rule=\"evenodd\" fill-opacity=\"1\" stroke=\"#000000\" stroke-opacity=\"1\" stroke-width=\"3.2\"/>\n",
       "<path clip-path=\"url(#clip023)\" d=\"M821.368 808.174 L805.368 824.174 L821.368 840.174 L837.368 824.174 L821.368 808.174 Z\" fill=\"#e26f46\" fill-rule=\"evenodd\" fill-opacity=\"1\" stroke=\"#000000\" stroke-opacity=\"1\" stroke-width=\"3.2\"/>\n",
       "<path clip-path=\"url(#clip023)\" d=\"M898.789 784.231 L882.789 800.231 L898.789 816.231 L914.789 800.231 L898.789 784.231 Z\" fill=\"#e26f46\" fill-rule=\"evenodd\" fill-opacity=\"1\" stroke=\"#000000\" stroke-opacity=\"1\" stroke-width=\"3.2\"/>\n",
       "<path clip-path=\"url(#clip023)\" d=\"M976.21 735.07 L960.21 751.07 L976.21 767.07 L992.21 751.07 L976.21 735.07 Z\" fill=\"#e26f46\" fill-rule=\"evenodd\" fill-opacity=\"1\" stroke=\"#000000\" stroke-opacity=\"1\" stroke-width=\"3.2\"/>\n",
       "<path clip-path=\"url(#clip023)\" d=\"M1053.63 751.133 L1037.63 767.133 L1053.63 783.133 L1069.63 767.133 L1053.63 751.133 Z\" fill=\"#e26f46\" fill-rule=\"evenodd\" fill-opacity=\"1\" stroke=\"#000000\" stroke-opacity=\"1\" stroke-width=\"3.2\"/>\n",
       "<path clip-path=\"url(#clip023)\" d=\"M1131.05 751.403 L1115.05 767.403 L1131.05 783.403 L1147.05 767.403 L1131.05 751.403 Z\" fill=\"#e26f46\" fill-rule=\"evenodd\" fill-opacity=\"1\" stroke=\"#000000\" stroke-opacity=\"1\" stroke-width=\"3.2\"/>\n",
       "<path clip-path=\"url(#clip023)\" d=\"M1208.47 742.421 L1192.47 758.421 L1208.47 774.421 L1224.47 758.421 L1208.47 742.421 Z\" fill=\"#e26f46\" fill-rule=\"evenodd\" fill-opacity=\"1\" stroke=\"#000000\" stroke-opacity=\"1\" stroke-width=\"3.2\"/>\n",
       "<path clip-path=\"url(#clip023)\" d=\"M1285.89 753.912 L1269.89 769.912 L1285.89 785.912 L1301.89 769.912 L1285.89 753.912 Z\" fill=\"#e26f46\" fill-rule=\"evenodd\" fill-opacity=\"1\" stroke=\"#000000\" stroke-opacity=\"1\" stroke-width=\"3.2\"/>\n",
       "<path clip-path=\"url(#clip023)\" d=\"M1363.32 772.725 L1347.32 788.725 L1363.32 804.725 L1379.32 788.725 L1363.32 772.725 Z\" fill=\"#e26f46\" fill-rule=\"evenodd\" fill-opacity=\"1\" stroke=\"#000000\" stroke-opacity=\"1\" stroke-width=\"3.2\"/>\n",
       "<path clip-path=\"url(#clip023)\" d=\"M1440.74 779.723 L1424.74 795.723 L1440.74 811.723 L1456.74 795.723 L1440.74 779.723 Z\" fill=\"#e26f46\" fill-rule=\"evenodd\" fill-opacity=\"1\" stroke=\"#000000\" stroke-opacity=\"1\" stroke-width=\"3.2\"/>\n",
       "<path clip-path=\"url(#clip023)\" d=\"M1518.16 759.031 L1502.16 775.031 L1518.16 791.031 L1534.16 775.031 L1518.16 759.031 Z\" fill=\"#e26f46\" fill-rule=\"evenodd\" fill-opacity=\"1\" stroke=\"#000000\" stroke-opacity=\"1\" stroke-width=\"3.2\"/>\n",
       "<path clip-path=\"url(#clip023)\" d=\"M1595.58 749.774 L1579.58 765.774 L1595.58 781.774 L1611.58 765.774 L1595.58 749.774 Z\" fill=\"#e26f46\" fill-rule=\"evenodd\" fill-opacity=\"1\" stroke=\"#000000\" stroke-opacity=\"1\" stroke-width=\"3.2\"/>\n",
       "<path clip-path=\"url(#clip023)\" d=\"M1673 748.25 L1657 764.25 L1673 780.25 L1689 764.25 L1673 748.25 Z\" fill=\"#e26f46\" fill-rule=\"evenodd\" fill-opacity=\"1\" stroke=\"#000000\" stroke-opacity=\"1\" stroke-width=\"3.2\"/>\n",
       "<path clip-path=\"url(#clip023)\" d=\"M1750.42 760.179 L1734.42 776.179 L1750.42 792.179 L1766.42 776.179 L1750.42 760.179 Z\" fill=\"#e26f46\" fill-rule=\"evenodd\" fill-opacity=\"1\" stroke=\"#000000\" stroke-opacity=\"1\" stroke-width=\"3.2\"/>\n",
       "<path clip-path=\"url(#clip023)\" d=\"M1827.84 760.179 L1811.84 776.179 L1827.84 792.179 L1843.84 776.179 L1827.84 760.179 Z\" fill=\"#e26f46\" fill-rule=\"evenodd\" fill-opacity=\"1\" stroke=\"#000000\" stroke-opacity=\"1\" stroke-width=\"3.2\"/>\n",
       "<path clip-path=\"url(#clip023)\" d=\"M1905.26 760.179 L1889.26 776.179 L1905.26 792.179 L1921.26 776.179 L1905.26 760.179 Z\" fill=\"#e26f46\" fill-rule=\"evenodd\" fill-opacity=\"1\" stroke=\"#000000\" stroke-opacity=\"1\" stroke-width=\"3.2\"/>\n",
       "<path clip-path=\"url(#clip023)\" d=\"M1982.68 760.179 L1966.68 776.179 L1982.68 792.179 L1998.68 776.179 L1982.68 760.179 Z\" fill=\"#e26f46\" fill-rule=\"evenodd\" fill-opacity=\"1\" stroke=\"#000000\" stroke-opacity=\"1\" stroke-width=\"3.2\"/>\n",
       "<path clip-path=\"url(#clip023)\" d=\"M2060.1 760.179 L2044.1 776.179 L2060.1 792.179 L2076.1 776.179 L2060.1 760.179 Z\" fill=\"#e26f46\" fill-rule=\"evenodd\" fill-opacity=\"1\" stroke=\"#000000\" stroke-opacity=\"1\" stroke-width=\"3.2\"/>\n",
       "<path clip-path=\"url(#clip023)\" d=\"M2137.53 760.179 L2121.53 776.179 L2137.53 792.179 L2153.53 776.179 L2137.53 760.179 Z\" fill=\"#e26f46\" fill-rule=\"evenodd\" fill-opacity=\"1\" stroke=\"#000000\" stroke-opacity=\"1\" stroke-width=\"3.2\"/>\n",
       "<path clip-path=\"url(#clip023)\" d=\"M2214.95 760.179 L2198.95 776.179 L2214.95 792.179 L2230.95 776.179 L2214.95 760.179 Z\" fill=\"#e26f46\" fill-rule=\"evenodd\" fill-opacity=\"1\" stroke=\"#000000\" stroke-opacity=\"1\" stroke-width=\"3.2\"/>\n",
       "<path clip-path=\"url(#clip023)\" d=\"M2292.37 760.179 L2276.37 776.179 L2292.37 792.179 L2308.37 776.179 L2292.37 760.179 Z\" fill=\"#e26f46\" fill-rule=\"evenodd\" fill-opacity=\"1\" stroke=\"#000000\" stroke-opacity=\"1\" stroke-width=\"3.2\"/>\n",
       "<polyline clip-path=\"url(#clip023)\" style=\"stroke:#0000ff; stroke-linecap:round; stroke-linejoin:round; stroke-width:20; stroke-opacity:0.3; fill:none\" points=\"279.421,766.913 279.421,642.431 356.842,642.431 356.842,642.431 434.263,642.431 434.263,666.284 511.684,666.284 511.684,722.685 589.105,722.685 589.105,769.895 666.526,769.895 666.526,806.397 743.947,806.397 743.947,824.174 821.368,824.174 821.368,800.231 898.789,800.231 898.789,751.07 976.21,751.07 976.21,767.133 1053.63,767.133 1053.63,767.403 1131.05,767.403 1131.05,758.421 1208.47,758.421 1208.47,769.912 1285.89,769.912 1285.89,788.725 1363.32,788.725 1363.32,795.723 1440.74,795.723 1440.74,775.031 1518.16,775.031 1518.16,765.774 1595.58,765.774 1595.58,764.25 1673,764.25 1673,776.179 1750.42,776.179 1827.84,776.179 1905.26,776.179 1982.68,776.179 2060.1,776.179 2137.53,776.179 2214.95,776.179 2292.37,776.179 \"/>\n",
       "<path clip-path=\"url(#clip020)\" d=\"M219.033 1423.18 L2352.76 1423.18 L2352.76 1113.91 L219.033 1113.91  Z\" fill=\"#ffffff\" fill-rule=\"evenodd\" fill-opacity=\"1\"/>\n",
       "<defs>\n",
       "  <clipPath id=\"clip024\">\n",
       "    <rect x=\"219\" y=\"1113\" width=\"2135\" height=\"310\"/>\n",
       "  </clipPath>\n",
       "</defs>\n",
       "<polyline clip-path=\"url(#clip024)\" style=\"stroke:#000000; stroke-linecap:round; stroke-linejoin:round; stroke-width:8; stroke-opacity:0.1; fill:none\" points=\"589.105,1423.18 589.105,1113.91 \"/>\n",
       "<polyline clip-path=\"url(#clip024)\" style=\"stroke:#000000; stroke-linecap:round; stroke-linejoin:round; stroke-width:8; stroke-opacity:0.1; fill:none\" points=\"976.21,1423.18 976.21,1113.91 \"/>\n",
       "<polyline clip-path=\"url(#clip024)\" style=\"stroke:#000000; stroke-linecap:round; stroke-linejoin:round; stroke-width:8; stroke-opacity:0.1; fill:none\" points=\"1363.32,1423.18 1363.32,1113.91 \"/>\n",
       "<polyline clip-path=\"url(#clip024)\" style=\"stroke:#000000; stroke-linecap:round; stroke-linejoin:round; stroke-width:8; stroke-opacity:0.1; fill:none\" points=\"1750.42,1423.18 1750.42,1113.91 \"/>\n",
       "<polyline clip-path=\"url(#clip024)\" style=\"stroke:#000000; stroke-linecap:round; stroke-linejoin:round; stroke-width:8; stroke-opacity:0.1; fill:none\" points=\"2137.53,1423.18 2137.53,1113.91 \"/>\n",
       "<polyline clip-path=\"url(#clip020)\" style=\"stroke:#000000; stroke-linecap:round; stroke-linejoin:round; stroke-width:4; stroke-opacity:1; fill:none\" points=\"219.033,1423.18 2352.76,1423.18 \"/>\n",
       "<polyline clip-path=\"url(#clip020)\" style=\"stroke:#000000; stroke-linecap:round; stroke-linejoin:round; stroke-width:4; stroke-opacity:1; fill:none\" points=\"589.105,1423.18 589.105,1404.28 \"/>\n",
       "<polyline clip-path=\"url(#clip020)\" style=\"stroke:#000000; stroke-linecap:round; stroke-linejoin:round; stroke-width:4; stroke-opacity:1; fill:none\" points=\"976.21,1423.18 976.21,1404.28 \"/>\n",
       "<polyline clip-path=\"url(#clip020)\" style=\"stroke:#000000; stroke-linecap:round; stroke-linejoin:round; stroke-width:4; stroke-opacity:1; fill:none\" points=\"1363.32,1423.18 1363.32,1404.28 \"/>\n",
       "<polyline clip-path=\"url(#clip020)\" style=\"stroke:#000000; stroke-linecap:round; stroke-linejoin:round; stroke-width:4; stroke-opacity:1; fill:none\" points=\"1750.42,1423.18 1750.42,1404.28 \"/>\n",
       "<polyline clip-path=\"url(#clip020)\" style=\"stroke:#000000; stroke-linecap:round; stroke-linejoin:round; stroke-width:4; stroke-opacity:1; fill:none\" points=\"2137.53,1423.18 2137.53,1404.28 \"/>\n",
       "<path clip-path=\"url(#clip020)\" d=\"M579.383 1451.02 L597.74 1451.02 L597.74 1454.96 L583.666 1454.96 L583.666 1463.43 Q584.684 1463.08 585.703 1462.92 Q586.721 1462.73 587.74 1462.73 Q593.527 1462.73 596.906 1465.9 Q600.286 1469.08 600.286 1474.49 Q600.286 1480.07 596.814 1483.17 Q593.341 1486.25 587.022 1486.25 Q584.846 1486.25 582.578 1485.88 Q580.332 1485.51 577.925 1484.77 L577.925 1480.07 Q580.008 1481.2 582.23 1481.76 Q584.453 1482.32 586.929 1482.32 Q590.934 1482.32 593.272 1480.21 Q595.61 1478.1 595.61 1474.49 Q595.61 1470.88 593.272 1468.77 Q590.934 1466.67 586.929 1466.67 Q585.054 1466.67 583.179 1467.08 Q581.328 1467.5 579.383 1468.38 L579.383 1451.02 Z\" fill=\"#000000\" fill-rule=\"evenodd\" fill-opacity=\"1\" /><path clip-path=\"url(#clip020)\" d=\"M950.898 1481.64 L958.537 1481.64 L958.537 1455.28 L950.227 1456.95 L950.227 1452.69 L958.491 1451.02 L963.166 1451.02 L963.166 1481.64 L970.805 1481.64 L970.805 1485.58 L950.898 1485.58 L950.898 1481.64 Z\" fill=\"#000000\" fill-rule=\"evenodd\" fill-opacity=\"1\" /><path clip-path=\"url(#clip020)\" d=\"M990.25 1454.1 Q986.639 1454.1 984.81 1457.66 Q983.004 1461.2 983.004 1468.33 Q983.004 1475.44 984.81 1479.01 Q986.639 1482.55 990.25 1482.55 Q993.884 1482.55 995.689 1479.01 Q997.518 1475.44 997.518 1468.33 Q997.518 1461.2 995.689 1457.66 Q993.884 1454.1 990.25 1454.1 M990.25 1450.39 Q996.06 1450.39 999.115 1455 Q1002.19 1459.58 1002.19 1468.33 Q1002.19 1477.06 999.115 1481.67 Q996.06 1486.25 990.25 1486.25 Q984.44 1486.25 981.361 1481.67 Q978.305 1477.06 978.305 1468.33 Q978.305 1459.58 981.361 1455 Q984.44 1450.39 990.25 1450.39 Z\" fill=\"#000000\" fill-rule=\"evenodd\" fill-opacity=\"1\" /><path clip-path=\"url(#clip020)\" d=\"M1338.5 1481.64 L1346.14 1481.64 L1346.14 1455.28 L1337.83 1456.95 L1337.83 1452.69 L1346.09 1451.02 L1350.77 1451.02 L1350.77 1481.64 L1358.41 1481.64 L1358.41 1485.58 L1338.5 1485.58 L1338.5 1481.64 Z\" fill=\"#000000\" fill-rule=\"evenodd\" fill-opacity=\"1\" /><path clip-path=\"url(#clip020)\" d=\"M1367.9 1451.02 L1386.26 1451.02 L1386.26 1454.96 L1372.18 1454.96 L1372.18 1463.43 Q1373.2 1463.08 1374.22 1462.92 Q1375.24 1462.73 1376.26 1462.73 Q1382.04 1462.73 1385.42 1465.9 Q1388.8 1469.08 1388.8 1474.49 Q1388.8 1480.07 1385.33 1483.17 Q1381.86 1486.25 1375.54 1486.25 Q1373.36 1486.25 1371.09 1485.88 Q1368.85 1485.51 1366.44 1484.77 L1366.44 1480.07 Q1368.52 1481.2 1370.75 1481.76 Q1372.97 1482.32 1375.44 1482.32 Q1379.45 1482.32 1381.79 1480.21 Q1384.13 1478.1 1384.13 1474.49 Q1384.13 1470.88 1381.79 1468.77 Q1379.45 1466.67 1375.44 1466.67 Q1373.57 1466.67 1371.7 1467.08 Q1369.84 1467.5 1367.9 1468.38 L1367.9 1451.02 Z\" fill=\"#000000\" fill-rule=\"evenodd\" fill-opacity=\"1\" /><path clip-path=\"url(#clip020)\" d=\"M1729.19 1481.64 L1745.51 1481.64 L1745.51 1485.58 L1723.57 1485.58 L1723.57 1481.64 Q1726.23 1478.89 1730.81 1474.26 Q1735.42 1469.61 1736.6 1468.27 Q1738.85 1465.74 1739.73 1464.01 Q1740.63 1462.25 1740.63 1460.56 Q1740.63 1457.8 1738.68 1456.07 Q1736.76 1454.33 1733.66 1454.33 Q1731.46 1454.33 1729.01 1455.09 Q1726.58 1455.86 1723.8 1457.41 L1723.8 1452.69 Q1726.62 1451.55 1729.08 1450.97 Q1731.53 1450.39 1733.57 1450.39 Q1738.94 1450.39 1742.13 1453.08 Q1745.33 1455.77 1745.33 1460.26 Q1745.33 1462.39 1744.52 1464.31 Q1743.73 1466.2 1741.62 1468.8 Q1741.05 1469.47 1737.94 1472.69 Q1734.84 1475.88 1729.19 1481.64 Z\" fill=\"#000000\" fill-rule=\"evenodd\" fill-opacity=\"1\" /><path clip-path=\"url(#clip020)\" d=\"M1765.33 1454.1 Q1761.72 1454.1 1759.89 1457.66 Q1758.08 1461.2 1758.08 1468.33 Q1758.08 1475.44 1759.89 1479.01 Q1761.72 1482.55 1765.33 1482.55 Q1768.96 1482.55 1770.77 1479.01 Q1772.6 1475.44 1772.6 1468.33 Q1772.6 1461.2 1770.77 1457.66 Q1768.96 1454.1 1765.33 1454.1 M1765.33 1450.39 Q1771.14 1450.39 1774.19 1455 Q1777.27 1459.58 1777.27 1468.33 Q1777.27 1477.06 1774.19 1481.67 Q1771.14 1486.25 1765.33 1486.25 Q1759.52 1486.25 1756.44 1481.67 Q1753.38 1477.06 1753.38 1468.33 Q1753.38 1459.58 1756.44 1455 Q1759.52 1450.39 1765.33 1450.39 Z\" fill=\"#000000\" fill-rule=\"evenodd\" fill-opacity=\"1\" /><path clip-path=\"url(#clip020)\" d=\"M2116.8 1481.64 L2133.12 1481.64 L2133.12 1485.58 L2111.17 1485.58 L2111.17 1481.64 Q2113.83 1478.89 2118.42 1474.26 Q2123.02 1469.61 2124.2 1468.27 Q2126.45 1465.74 2127.33 1464.01 Q2128.23 1462.25 2128.23 1460.56 Q2128.23 1457.8 2126.29 1456.07 Q2124.37 1454.33 2121.26 1454.33 Q2119.06 1454.33 2116.61 1455.09 Q2114.18 1455.86 2111.4 1457.41 L2111.4 1452.69 Q2114.23 1451.55 2116.68 1450.97 Q2119.13 1450.39 2121.17 1450.39 Q2126.54 1450.39 2129.74 1453.08 Q2132.93 1455.77 2132.93 1460.26 Q2132.93 1462.39 2132.12 1464.31 Q2131.33 1466.2 2129.23 1468.8 Q2128.65 1469.47 2125.55 1472.69 Q2122.44 1475.88 2116.8 1481.64 Z\" fill=\"#000000\" fill-rule=\"evenodd\" fill-opacity=\"1\" /><path clip-path=\"url(#clip020)\" d=\"M2142.98 1451.02 L2161.33 1451.02 L2161.33 1454.96 L2147.26 1454.96 L2147.26 1463.43 Q2148.28 1463.08 2149.3 1462.92 Q2150.31 1462.73 2151.33 1462.73 Q2157.12 1462.73 2160.5 1465.9 Q2163.88 1469.08 2163.88 1474.49 Q2163.88 1480.07 2160.41 1483.17 Q2156.94 1486.25 2150.62 1486.25 Q2148.44 1486.25 2146.17 1485.88 Q2143.93 1485.51 2141.52 1484.77 L2141.52 1480.07 Q2143.6 1481.2 2145.82 1481.76 Q2148.05 1482.32 2150.52 1482.32 Q2154.53 1482.32 2156.87 1480.21 Q2159.2 1478.1 2159.2 1474.49 Q2159.2 1470.88 2156.87 1468.77 Q2154.53 1466.67 2150.52 1466.67 Q2148.65 1466.67 2146.77 1467.08 Q2144.92 1467.5 2142.98 1468.38 L2142.98 1451.02 Z\" fill=\"#000000\" fill-rule=\"evenodd\" fill-opacity=\"1\" /><path clip-path=\"url(#clip020)\" d=\"M1180.03 1522.27 L1180.03 1532.4 L1192.1 1532.4 L1192.1 1536.95 L1180.03 1536.95 L1180.03 1556.3 Q1180.03 1560.66 1181.21 1561.9 Q1182.42 1563.14 1186.08 1563.14 L1192.1 1563.14 L1192.1 1568.04 L1186.08 1568.04 Q1179.3 1568.04 1176.72 1565.53 Q1174.14 1562.98 1174.14 1556.3 L1174.14 1536.95 L1169.85 1536.95 L1169.85 1532.4 L1174.14 1532.4 L1174.14 1522.27 L1180.03 1522.27 Z\" fill=\"#000000\" fill-rule=\"evenodd\" fill-opacity=\"1\" /><path clip-path=\"url(#clip020)\" d=\"M1199.8 1532.4 L1205.65 1532.4 L1205.65 1568.04 L1199.8 1568.04 L1199.8 1532.4 M1199.8 1518.52 L1205.65 1518.52 L1205.65 1525.93 L1199.8 1525.93 L1199.8 1518.52 Z\" fill=\"#000000\" fill-rule=\"evenodd\" fill-opacity=\"1\" /><path clip-path=\"url(#clip020)\" d=\"M1245.66 1539.24 Q1247.86 1535.29 1250.91 1533.41 Q1253.97 1531.54 1258.11 1531.54 Q1263.68 1531.54 1266.7 1535.45 Q1269.73 1539.33 1269.73 1546.53 L1269.73 1568.04 L1263.84 1568.04 L1263.84 1546.72 Q1263.84 1541.59 1262.02 1539.11 Q1260.21 1536.63 1256.48 1536.63 Q1251.93 1536.63 1249.29 1539.65 Q1246.65 1542.68 1246.65 1547.9 L1246.65 1568.04 L1240.76 1568.04 L1240.76 1546.72 Q1240.76 1541.56 1238.95 1539.11 Q1237.13 1536.63 1233.35 1536.63 Q1228.86 1536.63 1226.22 1539.68 Q1223.57 1542.71 1223.57 1547.9 L1223.57 1568.04 L1217.69 1568.04 L1217.69 1532.4 L1223.57 1532.4 L1223.57 1537.93 Q1225.58 1534.66 1228.38 1533.1 Q1231.18 1531.54 1235.03 1531.54 Q1238.92 1531.54 1241.62 1533.51 Q1244.36 1535.48 1245.66 1539.24 Z\" fill=\"#000000\" fill-rule=\"evenodd\" fill-opacity=\"1\" /><path clip-path=\"url(#clip020)\" d=\"M1311.9 1548.76 L1311.9 1551.62 L1284.97 1551.62 Q1285.35 1557.67 1288.6 1560.85 Q1291.88 1564 1297.7 1564 Q1301.08 1564 1304.23 1563.17 Q1307.41 1562.35 1310.53 1560.69 L1310.53 1566.23 Q1307.38 1567.57 1304.07 1568.27 Q1300.76 1568.97 1297.35 1568.97 Q1288.82 1568.97 1283.83 1564 Q1278.86 1559.04 1278.86 1550.57 Q1278.86 1541.82 1283.57 1536.69 Q1288.31 1531.54 1296.33 1531.54 Q1303.53 1531.54 1307.7 1536.18 Q1311.9 1540.8 1311.9 1548.76 M1306.04 1547.04 Q1305.98 1542.23 1303.34 1539.37 Q1300.73 1536.5 1296.4 1536.5 Q1291.5 1536.5 1288.54 1539.27 Q1285.61 1542.04 1285.16 1547.07 L1306.04 1547.04 Z\" fill=\"#000000\" fill-rule=\"evenodd\" fill-opacity=\"1\" /><path clip-path=\"url(#clip020)\" d=\"M1320.97 1518.52 L1334.46 1518.52 L1334.46 1523.07 L1326.83 1523.07 L1326.83 1572.09 L1334.46 1572.09 L1334.46 1576.64 L1320.97 1576.64 L1320.97 1518.52 Z\" fill=\"#000000\" fill-rule=\"evenodd\" fill-opacity=\"1\" /><path clip-path=\"url(#clip020)\" d=\"M1376.57 1546.53 L1376.57 1568.04 L1370.72 1568.04 L1370.72 1546.72 Q1370.72 1541.66 1368.74 1539.14 Q1366.77 1536.63 1362.82 1536.63 Q1358.08 1536.63 1355.34 1539.65 Q1352.61 1542.68 1352.61 1547.9 L1352.61 1568.04 L1346.72 1568.04 L1346.72 1518.52 L1352.61 1518.52 L1352.61 1537.93 Q1354.71 1534.72 1357.54 1533.13 Q1360.41 1531.54 1364.13 1531.54 Q1370.27 1531.54 1373.42 1535.36 Q1376.57 1539.14 1376.57 1546.53 Z\" fill=\"#000000\" fill-rule=\"evenodd\" fill-opacity=\"1\" /><path clip-path=\"url(#clip020)\" d=\"M1401.94 1518.52 L1401.94 1576.64 L1388.45 1576.64 L1388.45 1572.09 L1396.05 1572.09 L1396.05 1523.07 L1388.45 1523.07 L1388.45 1518.52 L1401.94 1518.52 Z\" fill=\"#000000\" fill-rule=\"evenodd\" fill-opacity=\"1\" /><polyline clip-path=\"url(#clip024)\" style=\"stroke:#000000; stroke-linecap:round; stroke-linejoin:round; stroke-width:8; stroke-opacity:0.1; fill:none\" points=\"219.033,1423.18 2352.76,1423.18 \"/>\n",
       "<polyline clip-path=\"url(#clip024)\" style=\"stroke:#000000; stroke-linecap:round; stroke-linejoin:round; stroke-width:8; stroke-opacity:0.1; fill:none\" points=\"219.033,1361.33 2352.76,1361.33 \"/>\n",
       "<polyline clip-path=\"url(#clip024)\" style=\"stroke:#000000; stroke-linecap:round; stroke-linejoin:round; stroke-width:8; stroke-opacity:0.1; fill:none\" points=\"219.033,1299.47 2352.76,1299.47 \"/>\n",
       "<polyline clip-path=\"url(#clip024)\" style=\"stroke:#000000; stroke-linecap:round; stroke-linejoin:round; stroke-width:8; stroke-opacity:0.1; fill:none\" points=\"219.033,1237.62 2352.76,1237.62 \"/>\n",
       "<polyline clip-path=\"url(#clip024)\" style=\"stroke:#000000; stroke-linecap:round; stroke-linejoin:round; stroke-width:8; stroke-opacity:0.1; fill:none\" points=\"219.033,1175.76 2352.76,1175.76 \"/>\n",
       "<polyline clip-path=\"url(#clip024)\" style=\"stroke:#000000; stroke-linecap:round; stroke-linejoin:round; stroke-width:8; stroke-opacity:0.1; fill:none\" points=\"219.033,1113.91 2352.76,1113.91 \"/>\n",
       "<polyline clip-path=\"url(#clip020)\" style=\"stroke:#000000; stroke-linecap:round; stroke-linejoin:round; stroke-width:4; stroke-opacity:1; fill:none\" points=\"219.033,1423.18 219.033,1113.91 \"/>\n",
       "<polyline clip-path=\"url(#clip020)\" style=\"stroke:#000000; stroke-linecap:round; stroke-linejoin:round; stroke-width:4; stroke-opacity:1; fill:none\" points=\"219.033,1423.18 237.931,1423.18 \"/>\n",
       "<polyline clip-path=\"url(#clip020)\" style=\"stroke:#000000; stroke-linecap:round; stroke-linejoin:round; stroke-width:4; stroke-opacity:1; fill:none\" points=\"219.033,1361.33 237.931,1361.33 \"/>\n",
       "<polyline clip-path=\"url(#clip020)\" style=\"stroke:#000000; stroke-linecap:round; stroke-linejoin:round; stroke-width:4; stroke-opacity:1; fill:none\" points=\"219.033,1299.47 237.931,1299.47 \"/>\n",
       "<polyline clip-path=\"url(#clip020)\" style=\"stroke:#000000; stroke-linecap:round; stroke-linejoin:round; stroke-width:4; stroke-opacity:1; fill:none\" points=\"219.033,1237.62 237.931,1237.62 \"/>\n",
       "<polyline clip-path=\"url(#clip020)\" style=\"stroke:#000000; stroke-linecap:round; stroke-linejoin:round; stroke-width:4; stroke-opacity:1; fill:none\" points=\"219.033,1175.76 237.931,1175.76 \"/>\n",
       "<polyline clip-path=\"url(#clip020)\" style=\"stroke:#000000; stroke-linecap:round; stroke-linejoin:round; stroke-width:4; stroke-opacity:1; fill:none\" points=\"219.033,1113.91 237.931,1113.91 \"/>\n",
       "<path clip-path=\"url(#clip020)\" d=\"M117.663 1436.52 L125.302 1436.52 L125.302 1410.16 L116.992 1411.83 L116.992 1407.57 L125.255 1405.9 L129.931 1405.9 L129.931 1436.52 L137.57 1436.52 L137.57 1440.46 L117.663 1440.46 L117.663 1436.52 Z\" fill=\"#000000\" fill-rule=\"evenodd\" fill-opacity=\"1\" /><path clip-path=\"url(#clip020)\" d=\"M147.015 1434.58 L151.899 1434.58 L151.899 1440.46 L147.015 1440.46 L147.015 1434.58 Z\" fill=\"#000000\" fill-rule=\"evenodd\" fill-opacity=\"1\" /><path clip-path=\"url(#clip020)\" d=\"M162.13 1405.9 L180.487 1405.9 L180.487 1409.84 L166.413 1409.84 L166.413 1418.31 Q167.431 1417.96 168.45 1417.8 Q169.468 1417.61 170.487 1417.61 Q176.274 1417.61 179.653 1420.78 Q183.033 1423.96 183.033 1429.37 Q183.033 1434.95 179.561 1438.05 Q176.089 1441.13 169.769 1441.13 Q167.593 1441.13 165.325 1440.76 Q163.079 1440.39 160.672 1439.65 L160.672 1434.95 Q162.755 1436.08 164.977 1436.64 Q167.2 1437.2 169.677 1437.2 Q173.681 1437.2 176.019 1435.09 Q178.357 1432.98 178.357 1429.37 Q178.357 1425.76 176.019 1423.65 Q173.681 1421.55 169.677 1421.55 Q167.802 1421.55 165.927 1421.96 Q164.075 1422.38 162.13 1423.26 L162.13 1405.9 Z\" fill=\"#000000\" fill-rule=\"evenodd\" fill-opacity=\"1\" /><path clip-path=\"url(#clip020)\" d=\"M116.506 1374.67 L124.144 1374.67 L124.144 1348.31 L115.834 1349.97 L115.834 1345.71 L124.098 1344.05 L128.774 1344.05 L128.774 1374.67 L136.413 1374.67 L136.413 1378.61 L116.506 1378.61 L116.506 1374.67 Z\" fill=\"#000000\" fill-rule=\"evenodd\" fill-opacity=\"1\" /><path clip-path=\"url(#clip020)\" d=\"M145.857 1372.73 L150.741 1372.73 L150.741 1378.61 L145.857 1378.61 L145.857 1372.73 Z\" fill=\"#000000\" fill-rule=\"evenodd\" fill-opacity=\"1\" /><path clip-path=\"url(#clip020)\" d=\"M171.505 1359.46 Q168.357 1359.46 166.505 1361.62 Q164.677 1363.77 164.677 1367.52 Q164.677 1371.24 166.505 1373.42 Q168.357 1375.57 171.505 1375.57 Q174.653 1375.57 176.482 1373.42 Q178.334 1371.24 178.334 1367.52 Q178.334 1363.77 176.482 1361.62 Q174.653 1359.46 171.505 1359.46 M180.788 1344.81 L180.788 1349.07 Q179.028 1348.24 177.223 1347.8 Q175.44 1347.36 173.681 1347.36 Q169.052 1347.36 166.598 1350.48 Q164.167 1353.61 163.82 1359.93 Q165.186 1357.91 167.246 1356.85 Q169.306 1355.76 171.783 1355.76 Q176.991 1355.76 180.001 1358.93 Q183.033 1362.08 183.033 1367.52 Q183.033 1372.84 179.885 1376.06 Q176.737 1379.28 171.505 1379.28 Q165.51 1379.28 162.339 1374.69 Q159.167 1370.09 159.167 1361.36 Q159.167 1353.17 163.056 1348.31 Q166.945 1343.42 173.496 1343.42 Q175.255 1343.42 177.038 1343.77 Q178.843 1344.12 180.788 1344.81 Z\" fill=\"#000000\" fill-rule=\"evenodd\" fill-opacity=\"1\" /><path clip-path=\"url(#clip020)\" d=\"M117.57 1312.82 L125.209 1312.82 L125.209 1286.45 L116.899 1288.12 L116.899 1283.86 L125.163 1282.19 L129.839 1282.19 L129.839 1312.82 L137.478 1312.82 L137.478 1316.75 L117.57 1316.75 L117.57 1312.82 Z\" fill=\"#000000\" fill-rule=\"evenodd\" fill-opacity=\"1\" /><path clip-path=\"url(#clip020)\" d=\"M146.922 1310.87 L151.806 1310.87 L151.806 1316.75 L146.922 1316.75 L146.922 1310.87 Z\" fill=\"#000000\" fill-rule=\"evenodd\" fill-opacity=\"1\" /><path clip-path=\"url(#clip020)\" d=\"M160.811 1282.19 L183.033 1282.19 L183.033 1284.18 L170.487 1316.75 L165.602 1316.75 L177.408 1286.13 L160.811 1286.13 L160.811 1282.19 Z\" fill=\"#000000\" fill-rule=\"evenodd\" fill-opacity=\"1\" /><path clip-path=\"url(#clip020)\" d=\"M116.76 1250.96 L124.399 1250.96 L124.399 1224.6 L116.089 1226.26 L116.089 1222.01 L124.353 1220.34 L129.029 1220.34 L129.029 1250.96 L136.667 1250.96 L136.667 1254.9 L116.76 1254.9 L116.76 1250.96 Z\" fill=\"#000000\" fill-rule=\"evenodd\" fill-opacity=\"1\" /><path clip-path=\"url(#clip020)\" d=\"M146.112 1249.02 L150.996 1249.02 L150.996 1254.9 L146.112 1254.9 L146.112 1249.02 Z\" fill=\"#000000\" fill-rule=\"evenodd\" fill-opacity=\"1\" /><path clip-path=\"url(#clip020)\" d=\"M171.181 1238.49 Q167.848 1238.49 165.927 1240.27 Q164.028 1242.05 164.028 1245.18 Q164.028 1248.3 165.927 1250.08 Q167.848 1251.87 171.181 1251.87 Q174.514 1251.87 176.436 1250.08 Q178.357 1248.28 178.357 1245.18 Q178.357 1242.05 176.436 1240.27 Q174.538 1238.49 171.181 1238.49 M166.505 1236.5 Q163.496 1235.75 161.806 1233.69 Q160.14 1231.63 160.14 1228.67 Q160.14 1224.53 163.079 1222.12 Q166.042 1219.71 171.181 1219.71 Q176.343 1219.71 179.283 1222.12 Q182.223 1224.53 182.223 1228.67 Q182.223 1231.63 180.533 1233.69 Q178.866 1235.75 175.88 1236.5 Q179.26 1237.28 181.135 1239.57 Q183.033 1241.87 183.033 1245.18 Q183.033 1250.2 179.954 1252.88 Q176.899 1255.57 171.181 1255.57 Q165.464 1255.57 162.385 1252.88 Q159.329 1250.2 159.329 1245.18 Q159.329 1241.87 161.227 1239.57 Q163.126 1237.28 166.505 1236.5 M164.792 1229.11 Q164.792 1231.8 166.459 1233.3 Q168.149 1234.81 171.181 1234.81 Q174.19 1234.81 175.88 1233.3 Q177.593 1231.8 177.593 1229.11 Q177.593 1226.43 175.88 1224.92 Q174.19 1223.42 171.181 1223.42 Q168.149 1223.42 166.459 1224.92 Q164.792 1226.43 164.792 1229.11 Z\" fill=\"#000000\" fill-rule=\"evenodd\" fill-opacity=\"1\" /><path clip-path=\"url(#clip020)\" d=\"M116.853 1189.11 L124.492 1189.11 L124.492 1162.74 L116.181 1164.41 L116.181 1160.15 L124.445 1158.48 L129.121 1158.48 L129.121 1189.11 L136.76 1189.11 L136.76 1193.04 L116.853 1193.04 L116.853 1189.11 Z\" fill=\"#000000\" fill-rule=\"evenodd\" fill-opacity=\"1\" /><path clip-path=\"url(#clip020)\" d=\"M146.204 1187.16 L151.089 1187.16 L151.089 1193.04 L146.204 1193.04 L146.204 1187.16 Z\" fill=\"#000000\" fill-rule=\"evenodd\" fill-opacity=\"1\" /><path clip-path=\"url(#clip020)\" d=\"M161.413 1192.33 L161.413 1188.07 Q163.172 1188.9 164.977 1189.34 Q166.783 1189.78 168.519 1189.78 Q173.149 1189.78 175.579 1186.68 Q178.033 1183.55 178.38 1177.21 Q177.038 1179.2 174.977 1180.27 Q172.917 1181.33 170.417 1181.33 Q165.232 1181.33 162.2 1178.21 Q159.19 1175.06 159.19 1169.62 Q159.19 1164.29 162.339 1161.08 Q165.487 1157.86 170.718 1157.86 Q176.714 1157.86 179.862 1162.47 Q183.033 1167.05 183.033 1175.8 Q183.033 1183.97 179.144 1188.85 Q175.278 1193.72 168.727 1193.72 Q166.968 1193.72 165.163 1193.37 Q163.357 1193.02 161.413 1192.33 M170.718 1177.67 Q173.866 1177.67 175.695 1175.52 Q177.547 1173.37 177.547 1169.62 Q177.547 1165.89 175.695 1163.74 Q173.866 1161.56 170.718 1161.56 Q167.57 1161.56 165.718 1163.74 Q163.89 1165.89 163.89 1169.62 Q163.89 1173.37 165.718 1175.52 Q167.57 1177.67 170.718 1177.67 Z\" fill=\"#000000\" fill-rule=\"evenodd\" fill-opacity=\"1\" /><path clip-path=\"url(#clip020)\" d=\"M119.885 1127.26 L136.204 1127.26 L136.204 1131.19 L114.26 1131.19 L114.26 1127.26 Q116.922 1124.5 121.505 1119.87 Q126.112 1115.22 127.292 1113.88 Q129.538 1111.35 130.417 1109.62 Q131.32 1107.86 131.32 1106.17 Q131.32 1103.41 129.376 1101.68 Q127.455 1099.94 124.353 1099.94 Q122.154 1099.94 119.7 1100.7 Q117.269 1101.47 114.492 1103.02 L114.492 1098.3 Q117.316 1097.16 119.769 1096.58 Q122.223 1096.01 124.26 1096.01 Q129.63 1096.01 132.825 1098.69 Q136.019 1101.38 136.019 1105.87 Q136.019 1108 135.209 1109.92 Q134.422 1111.82 132.316 1114.41 Q131.737 1115.08 128.635 1118.3 Q125.533 1121.49 119.885 1127.26 Z\" fill=\"#000000\" fill-rule=\"evenodd\" fill-opacity=\"1\" /><path clip-path=\"url(#clip020)\" d=\"M146.019 1125.31 L150.903 1125.31 L150.903 1131.19 L146.019 1131.19 L146.019 1125.31 Z\" fill=\"#000000\" fill-rule=\"evenodd\" fill-opacity=\"1\" /><path clip-path=\"url(#clip020)\" d=\"M171.089 1099.71 Q167.477 1099.71 165.649 1103.27 Q163.843 1106.82 163.843 1113.95 Q163.843 1121.05 165.649 1124.62 Q167.477 1128.16 171.089 1128.16 Q174.723 1128.16 176.528 1124.62 Q178.357 1121.05 178.357 1113.95 Q178.357 1106.82 176.528 1103.27 Q174.723 1099.71 171.089 1099.71 M171.089 1096.01 Q176.899 1096.01 179.954 1100.61 Q183.033 1105.2 183.033 1113.95 Q183.033 1122.67 179.954 1127.28 Q176.899 1131.86 171.089 1131.86 Q165.278 1131.86 162.2 1127.28 Q159.144 1122.67 159.144 1113.95 Q159.144 1105.2 162.2 1100.61 Q165.278 1096.01 171.089 1096.01 Z\" fill=\"#000000\" fill-rule=\"evenodd\" fill-opacity=\"1\" /><path clip-path=\"url(#clip020)\" d=\"M49.9359 1304.56 L28.3562 1304.56 L28.3562 1298.7 L49.7131 1298.7 Q54.7739 1298.7 57.3202 1296.73 Q59.8346 1294.76 59.8346 1290.81 Q59.8346 1286.07 56.8109 1283.33 Q53.7872 1280.56 48.5673 1280.56 L28.3562 1280.56 L28.3562 1274.7 L64.0042 1274.7 L64.0042 1280.56 L58.5296 1280.56 Q61.7762 1282.69 63.3676 1285.53 Q64.9272 1288.33 64.9272 1292.05 Q64.9272 1298.19 61.1078 1301.38 Q57.2883 1304.56 49.9359 1304.56 M27.4968 1289.82 L27.4968 1289.82 Z\" fill=\"#000000\" fill-rule=\"evenodd\" fill-opacity=\"1\" /><path clip-path=\"url(#clip020)\" d=\"M38.3822 1242.33 Q39.3689 1237.72 42.4881 1235.14 Q45.6073 1232.53 50.1906 1232.53 Q57.2247 1232.53 61.0759 1237.37 Q64.9272 1242.21 64.9272 1251.12 Q64.9272 1254.11 64.3224 1257.29 Q63.7495 1260.44 62.5719 1263.82 L56.3653 1263.82 Q57.9249 1261.15 58.7206 1257.96 Q59.5163 1254.78 59.5163 1251.31 Q59.5163 1245.26 57.1292 1242.11 Q54.7421 1238.93 50.1906 1238.93 Q45.9892 1238.93 43.6339 1241.89 Q41.2468 1244.82 41.2468 1250.07 L41.2468 1255.61 L35.9632 1255.61 L35.9632 1249.81 Q35.9632 1245.07 34.0853 1242.56 Q32.1756 1240.04 28.6108 1240.04 Q24.9505 1240.04 23.009 1242.65 Q21.0356 1245.23 21.0356 1250.07 Q21.0356 1252.71 21.6086 1255.73 Q22.1815 1258.76 23.3909 1262.39 L17.6618 1262.39 Q16.6433 1258.73 16.134 1255.54 Q15.6248 1252.33 15.6248 1249.5 Q15.6248 1242.18 18.9668 1237.91 Q22.277 1233.65 27.9424 1233.65 Q31.8892 1233.65 34.6264 1235.91 Q37.3318 1238.16 38.3822 1242.33 Z\" fill=\"#000000\" fill-rule=\"evenodd\" fill-opacity=\"1\" /><line clip-path=\"url(#clip024)\" x1=\"279.421\" y1=\"1297.31\" x2=\"279.421\" y2=\"1281.31\" style=\"stroke:#6b9e32; stroke-width:3.2; stroke-opacity:1\"/>\n",
       "<line clip-path=\"url(#clip024)\" x1=\"279.421\" y1=\"1297.31\" x2=\"263.421\" y2=\"1297.31\" style=\"stroke:#6b9e32; stroke-width:3.2; stroke-opacity:1\"/>\n",
       "<line clip-path=\"url(#clip024)\" x1=\"279.421\" y1=\"1297.31\" x2=\"279.421\" y2=\"1313.31\" style=\"stroke:#6b9e32; stroke-width:3.2; stroke-opacity:1\"/>\n",
       "<line clip-path=\"url(#clip024)\" x1=\"279.421\" y1=\"1297.31\" x2=\"295.421\" y2=\"1297.31\" style=\"stroke:#6b9e32; stroke-width:3.2; stroke-opacity:1\"/>\n",
       "<line clip-path=\"url(#clip024)\" x1=\"356.842\" y1=\"1175.76\" x2=\"356.842\" y2=\"1159.76\" style=\"stroke:#6b9e32; stroke-width:3.2; stroke-opacity:1\"/>\n",
       "<line clip-path=\"url(#clip024)\" x1=\"356.842\" y1=\"1175.76\" x2=\"340.842\" y2=\"1175.76\" style=\"stroke:#6b9e32; stroke-width:3.2; stroke-opacity:1\"/>\n",
       "<line clip-path=\"url(#clip024)\" x1=\"356.842\" y1=\"1175.76\" x2=\"356.842\" y2=\"1191.76\" style=\"stroke:#6b9e32; stroke-width:3.2; stroke-opacity:1\"/>\n",
       "<line clip-path=\"url(#clip024)\" x1=\"356.842\" y1=\"1175.76\" x2=\"372.842\" y2=\"1175.76\" style=\"stroke:#6b9e32; stroke-width:3.2; stroke-opacity:1\"/>\n",
       "<line clip-path=\"url(#clip024)\" x1=\"434.263\" y1=\"1185.32\" x2=\"434.263\" y2=\"1169.32\" style=\"stroke:#6b9e32; stroke-width:3.2; stroke-opacity:1\"/>\n",
       "<line clip-path=\"url(#clip024)\" x1=\"434.263\" y1=\"1185.32\" x2=\"418.263\" y2=\"1185.32\" style=\"stroke:#6b9e32; stroke-width:3.2; stroke-opacity:1\"/>\n",
       "<line clip-path=\"url(#clip024)\" x1=\"434.263\" y1=\"1185.32\" x2=\"434.263\" y2=\"1201.32\" style=\"stroke:#6b9e32; stroke-width:3.2; stroke-opacity:1\"/>\n",
       "<line clip-path=\"url(#clip024)\" x1=\"434.263\" y1=\"1185.32\" x2=\"450.263\" y2=\"1185.32\" style=\"stroke:#6b9e32; stroke-width:3.2; stroke-opacity:1\"/>\n",
       "<line clip-path=\"url(#clip024)\" x1=\"511.684\" y1=\"1244.16\" x2=\"511.684\" y2=\"1228.16\" style=\"stroke:#6b9e32; stroke-width:3.2; stroke-opacity:1\"/>\n",
       "<line clip-path=\"url(#clip024)\" x1=\"511.684\" y1=\"1244.16\" x2=\"495.684\" y2=\"1244.16\" style=\"stroke:#6b9e32; stroke-width:3.2; stroke-opacity:1\"/>\n",
       "<line clip-path=\"url(#clip024)\" x1=\"511.684\" y1=\"1244.16\" x2=\"511.684\" y2=\"1260.16\" style=\"stroke:#6b9e32; stroke-width:3.2; stroke-opacity:1\"/>\n",
       "<line clip-path=\"url(#clip024)\" x1=\"511.684\" y1=\"1244.16\" x2=\"527.684\" y2=\"1244.16\" style=\"stroke:#6b9e32; stroke-width:3.2; stroke-opacity:1\"/>\n",
       "<line clip-path=\"url(#clip024)\" x1=\"589.105\" y1=\"1306.59\" x2=\"589.105\" y2=\"1290.59\" style=\"stroke:#6b9e32; stroke-width:3.2; stroke-opacity:1\"/>\n",
       "<line clip-path=\"url(#clip024)\" x1=\"589.105\" y1=\"1306.59\" x2=\"573.105\" y2=\"1306.59\" style=\"stroke:#6b9e32; stroke-width:3.2; stroke-opacity:1\"/>\n",
       "<line clip-path=\"url(#clip024)\" x1=\"589.105\" y1=\"1306.59\" x2=\"589.105\" y2=\"1322.59\" style=\"stroke:#6b9e32; stroke-width:3.2; stroke-opacity:1\"/>\n",
       "<line clip-path=\"url(#clip024)\" x1=\"589.105\" y1=\"1306.59\" x2=\"605.105\" y2=\"1306.59\" style=\"stroke:#6b9e32; stroke-width:3.2; stroke-opacity:1\"/>\n",
       "<line clip-path=\"url(#clip024)\" x1=\"666.526\" y1=\"1348.97\" x2=\"666.526\" y2=\"1332.97\" style=\"stroke:#6b9e32; stroke-width:3.2; stroke-opacity:1\"/>\n",
       "<line clip-path=\"url(#clip024)\" x1=\"666.526\" y1=\"1348.97\" x2=\"650.526\" y2=\"1348.97\" style=\"stroke:#6b9e32; stroke-width:3.2; stroke-opacity:1\"/>\n",
       "<line clip-path=\"url(#clip024)\" x1=\"666.526\" y1=\"1348.97\" x2=\"666.526\" y2=\"1364.97\" style=\"stroke:#6b9e32; stroke-width:3.2; stroke-opacity:1\"/>\n",
       "<line clip-path=\"url(#clip024)\" x1=\"666.526\" y1=\"1348.97\" x2=\"682.526\" y2=\"1348.97\" style=\"stroke:#6b9e32; stroke-width:3.2; stroke-opacity:1\"/>\n",
       "<line clip-path=\"url(#clip024)\" x1=\"743.947\" y1=\"1366.53\" x2=\"743.947\" y2=\"1350.53\" style=\"stroke:#6b9e32; stroke-width:3.2; stroke-opacity:1\"/>\n",
       "<line clip-path=\"url(#clip024)\" x1=\"743.947\" y1=\"1366.53\" x2=\"727.947\" y2=\"1366.53\" style=\"stroke:#6b9e32; stroke-width:3.2; stroke-opacity:1\"/>\n",
       "<line clip-path=\"url(#clip024)\" x1=\"743.947\" y1=\"1366.53\" x2=\"743.947\" y2=\"1382.53\" style=\"stroke:#6b9e32; stroke-width:3.2; stroke-opacity:1\"/>\n",
       "<line clip-path=\"url(#clip024)\" x1=\"743.947\" y1=\"1366.53\" x2=\"759.947\" y2=\"1366.53\" style=\"stroke:#6b9e32; stroke-width:3.2; stroke-opacity:1\"/>\n",
       "<line clip-path=\"url(#clip024)\" x1=\"821.368\" y1=\"1341.74\" x2=\"821.368\" y2=\"1325.74\" style=\"stroke:#6b9e32; stroke-width:3.2; stroke-opacity:1\"/>\n",
       "<line clip-path=\"url(#clip024)\" x1=\"821.368\" y1=\"1341.74\" x2=\"805.368\" y2=\"1341.74\" style=\"stroke:#6b9e32; stroke-width:3.2; stroke-opacity:1\"/>\n",
       "<line clip-path=\"url(#clip024)\" x1=\"821.368\" y1=\"1341.74\" x2=\"821.368\" y2=\"1357.74\" style=\"stroke:#6b9e32; stroke-width:3.2; stroke-opacity:1\"/>\n",
       "<line clip-path=\"url(#clip024)\" x1=\"821.368\" y1=\"1341.74\" x2=\"837.368\" y2=\"1341.74\" style=\"stroke:#6b9e32; stroke-width:3.2; stroke-opacity:1\"/>\n",
       "<line clip-path=\"url(#clip024)\" x1=\"898.789\" y1=\"1315.59\" x2=\"898.789\" y2=\"1299.59\" style=\"stroke:#6b9e32; stroke-width:3.2; stroke-opacity:1\"/>\n",
       "<line clip-path=\"url(#clip024)\" x1=\"898.789\" y1=\"1315.59\" x2=\"882.789\" y2=\"1315.59\" style=\"stroke:#6b9e32; stroke-width:3.2; stroke-opacity:1\"/>\n",
       "<line clip-path=\"url(#clip024)\" x1=\"898.789\" y1=\"1315.59\" x2=\"898.789\" y2=\"1331.59\" style=\"stroke:#6b9e32; stroke-width:3.2; stroke-opacity:1\"/>\n",
       "<line clip-path=\"url(#clip024)\" x1=\"898.789\" y1=\"1315.59\" x2=\"914.789\" y2=\"1315.59\" style=\"stroke:#6b9e32; stroke-width:3.2; stroke-opacity:1\"/>\n",
       "<line clip-path=\"url(#clip024)\" x1=\"976.21\" y1=\"1284.44\" x2=\"976.21\" y2=\"1268.44\" style=\"stroke:#6b9e32; stroke-width:3.2; stroke-opacity:1\"/>\n",
       "<line clip-path=\"url(#clip024)\" x1=\"976.21\" y1=\"1284.44\" x2=\"960.21\" y2=\"1284.44\" style=\"stroke:#6b9e32; stroke-width:3.2; stroke-opacity:1\"/>\n",
       "<line clip-path=\"url(#clip024)\" x1=\"976.21\" y1=\"1284.44\" x2=\"976.21\" y2=\"1300.44\" style=\"stroke:#6b9e32; stroke-width:3.2; stroke-opacity:1\"/>\n",
       "<line clip-path=\"url(#clip024)\" x1=\"976.21\" y1=\"1284.44\" x2=\"992.21\" y2=\"1284.44\" style=\"stroke:#6b9e32; stroke-width:3.2; stroke-opacity:1\"/>\n",
       "<line clip-path=\"url(#clip024)\" x1=\"1053.63\" y1=\"1295.46\" x2=\"1053.63\" y2=\"1279.46\" style=\"stroke:#6b9e32; stroke-width:3.2; stroke-opacity:1\"/>\n",
       "<line clip-path=\"url(#clip024)\" x1=\"1053.63\" y1=\"1295.46\" x2=\"1037.63\" y2=\"1295.46\" style=\"stroke:#6b9e32; stroke-width:3.2; stroke-opacity:1\"/>\n",
       "<line clip-path=\"url(#clip024)\" x1=\"1053.63\" y1=\"1295.46\" x2=\"1053.63\" y2=\"1311.46\" style=\"stroke:#6b9e32; stroke-width:3.2; stroke-opacity:1\"/>\n",
       "<line clip-path=\"url(#clip024)\" x1=\"1053.63\" y1=\"1295.46\" x2=\"1069.63\" y2=\"1295.46\" style=\"stroke:#6b9e32; stroke-width:3.2; stroke-opacity:1\"/>\n",
       "<line clip-path=\"url(#clip024)\" x1=\"1131.05\" y1=\"1317.05\" x2=\"1131.05\" y2=\"1301.05\" style=\"stroke:#6b9e32; stroke-width:3.2; stroke-opacity:1\"/>\n",
       "<line clip-path=\"url(#clip024)\" x1=\"1131.05\" y1=\"1317.05\" x2=\"1115.05\" y2=\"1317.05\" style=\"stroke:#6b9e32; stroke-width:3.2; stroke-opacity:1\"/>\n",
       "<line clip-path=\"url(#clip024)\" x1=\"1131.05\" y1=\"1317.05\" x2=\"1131.05\" y2=\"1333.05\" style=\"stroke:#6b9e32; stroke-width:3.2; stroke-opacity:1\"/>\n",
       "<line clip-path=\"url(#clip024)\" x1=\"1131.05\" y1=\"1317.05\" x2=\"1147.05\" y2=\"1317.05\" style=\"stroke:#6b9e32; stroke-width:3.2; stroke-opacity:1\"/>\n",
       "<line clip-path=\"url(#clip024)\" x1=\"1208.47\" y1=\"1337.21\" x2=\"1208.47\" y2=\"1321.21\" style=\"stroke:#6b9e32; stroke-width:3.2; stroke-opacity:1\"/>\n",
       "<line clip-path=\"url(#clip024)\" x1=\"1208.47\" y1=\"1337.21\" x2=\"1192.47\" y2=\"1337.21\" style=\"stroke:#6b9e32; stroke-width:3.2; stroke-opacity:1\"/>\n",
       "<line clip-path=\"url(#clip024)\" x1=\"1208.47\" y1=\"1337.21\" x2=\"1208.47\" y2=\"1353.21\" style=\"stroke:#6b9e32; stroke-width:3.2; stroke-opacity:1\"/>\n",
       "<line clip-path=\"url(#clip024)\" x1=\"1208.47\" y1=\"1337.21\" x2=\"1224.47\" y2=\"1337.21\" style=\"stroke:#6b9e32; stroke-width:3.2; stroke-opacity:1\"/>\n",
       "<line clip-path=\"url(#clip024)\" x1=\"1285.89\" y1=\"1338.09\" x2=\"1285.89\" y2=\"1322.09\" style=\"stroke:#6b9e32; stroke-width:3.2; stroke-opacity:1\"/>\n",
       "<line clip-path=\"url(#clip024)\" x1=\"1285.89\" y1=\"1338.09\" x2=\"1269.89\" y2=\"1338.09\" style=\"stroke:#6b9e32; stroke-width:3.2; stroke-opacity:1\"/>\n",
       "<line clip-path=\"url(#clip024)\" x1=\"1285.89\" y1=\"1338.09\" x2=\"1285.89\" y2=\"1354.09\" style=\"stroke:#6b9e32; stroke-width:3.2; stroke-opacity:1\"/>\n",
       "<line clip-path=\"url(#clip024)\" x1=\"1285.89\" y1=\"1338.09\" x2=\"1301.89\" y2=\"1338.09\" style=\"stroke:#6b9e32; stroke-width:3.2; stroke-opacity:1\"/>\n",
       "<line clip-path=\"url(#clip024)\" x1=\"1363.32\" y1=\"1322.37\" x2=\"1363.32\" y2=\"1306.37\" style=\"stroke:#6b9e32; stroke-width:3.2; stroke-opacity:1\"/>\n",
       "<line clip-path=\"url(#clip024)\" x1=\"1363.32\" y1=\"1322.37\" x2=\"1347.32\" y2=\"1322.37\" style=\"stroke:#6b9e32; stroke-width:3.2; stroke-opacity:1\"/>\n",
       "<line clip-path=\"url(#clip024)\" x1=\"1363.32\" y1=\"1322.37\" x2=\"1363.32\" y2=\"1338.37\" style=\"stroke:#6b9e32; stroke-width:3.2; stroke-opacity:1\"/>\n",
       "<line clip-path=\"url(#clip024)\" x1=\"1363.32\" y1=\"1322.37\" x2=\"1379.32\" y2=\"1322.37\" style=\"stroke:#6b9e32; stroke-width:3.2; stroke-opacity:1\"/>\n",
       "<line clip-path=\"url(#clip024)\" x1=\"1440.74\" y1=\"1315.63\" x2=\"1440.74\" y2=\"1299.63\" style=\"stroke:#6b9e32; stroke-width:3.2; stroke-opacity:1\"/>\n",
       "<line clip-path=\"url(#clip024)\" x1=\"1440.74\" y1=\"1315.63\" x2=\"1424.74\" y2=\"1315.63\" style=\"stroke:#6b9e32; stroke-width:3.2; stroke-opacity:1\"/>\n",
       "<line clip-path=\"url(#clip024)\" x1=\"1440.74\" y1=\"1315.63\" x2=\"1440.74\" y2=\"1331.63\" style=\"stroke:#6b9e32; stroke-width:3.2; stroke-opacity:1\"/>\n",
       "<line clip-path=\"url(#clip024)\" x1=\"1440.74\" y1=\"1315.63\" x2=\"1456.74\" y2=\"1315.63\" style=\"stroke:#6b9e32; stroke-width:3.2; stroke-opacity:1\"/>\n",
       "<line clip-path=\"url(#clip024)\" x1=\"1518.16\" y1=\"1323.85\" x2=\"1518.16\" y2=\"1307.85\" style=\"stroke:#6b9e32; stroke-width:3.2; stroke-opacity:1\"/>\n",
       "<line clip-path=\"url(#clip024)\" x1=\"1518.16\" y1=\"1323.85\" x2=\"1502.16\" y2=\"1323.85\" style=\"stroke:#6b9e32; stroke-width:3.2; stroke-opacity:1\"/>\n",
       "<line clip-path=\"url(#clip024)\" x1=\"1518.16\" y1=\"1323.85\" x2=\"1518.16\" y2=\"1339.85\" style=\"stroke:#6b9e32; stroke-width:3.2; stroke-opacity:1\"/>\n",
       "<line clip-path=\"url(#clip024)\" x1=\"1518.16\" y1=\"1323.85\" x2=\"1534.16\" y2=\"1323.85\" style=\"stroke:#6b9e32; stroke-width:3.2; stroke-opacity:1\"/>\n",
       "<line clip-path=\"url(#clip024)\" x1=\"1595.58\" y1=\"1311.86\" x2=\"1595.58\" y2=\"1295.86\" style=\"stroke:#6b9e32; stroke-width:3.2; stroke-opacity:1\"/>\n",
       "<line clip-path=\"url(#clip024)\" x1=\"1595.58\" y1=\"1311.86\" x2=\"1579.58\" y2=\"1311.86\" style=\"stroke:#6b9e32; stroke-width:3.2; stroke-opacity:1\"/>\n",
       "<line clip-path=\"url(#clip024)\" x1=\"1595.58\" y1=\"1311.86\" x2=\"1595.58\" y2=\"1327.86\" style=\"stroke:#6b9e32; stroke-width:3.2; stroke-opacity:1\"/>\n",
       "<line clip-path=\"url(#clip024)\" x1=\"1595.58\" y1=\"1311.86\" x2=\"1611.58\" y2=\"1311.86\" style=\"stroke:#6b9e32; stroke-width:3.2; stroke-opacity:1\"/>\n",
       "<line clip-path=\"url(#clip024)\" x1=\"1673\" y1=\"1307.27\" x2=\"1673\" y2=\"1291.27\" style=\"stroke:#6b9e32; stroke-width:3.2; stroke-opacity:1\"/>\n",
       "<line clip-path=\"url(#clip024)\" x1=\"1673\" y1=\"1307.27\" x2=\"1657\" y2=\"1307.27\" style=\"stroke:#6b9e32; stroke-width:3.2; stroke-opacity:1\"/>\n",
       "<line clip-path=\"url(#clip024)\" x1=\"1673\" y1=\"1307.27\" x2=\"1673\" y2=\"1323.27\" style=\"stroke:#6b9e32; stroke-width:3.2; stroke-opacity:1\"/>\n",
       "<line clip-path=\"url(#clip024)\" x1=\"1673\" y1=\"1307.27\" x2=\"1689\" y2=\"1307.27\" style=\"stroke:#6b9e32; stroke-width:3.2; stroke-opacity:1\"/>\n",
       "<line clip-path=\"url(#clip024)\" x1=\"1750.42\" y1=\"1322.36\" x2=\"1750.42\" y2=\"1306.36\" style=\"stroke:#6b9e32; stroke-width:3.2; stroke-opacity:1\"/>\n",
       "<line clip-path=\"url(#clip024)\" x1=\"1750.42\" y1=\"1322.36\" x2=\"1734.42\" y2=\"1322.36\" style=\"stroke:#6b9e32; stroke-width:3.2; stroke-opacity:1\"/>\n",
       "<line clip-path=\"url(#clip024)\" x1=\"1750.42\" y1=\"1322.36\" x2=\"1750.42\" y2=\"1338.36\" style=\"stroke:#6b9e32; stroke-width:3.2; stroke-opacity:1\"/>\n",
       "<line clip-path=\"url(#clip024)\" x1=\"1750.42\" y1=\"1322.36\" x2=\"1766.42\" y2=\"1322.36\" style=\"stroke:#6b9e32; stroke-width:3.2; stroke-opacity:1\"/>\n",
       "<line clip-path=\"url(#clip024)\" x1=\"1827.84\" y1=\"1322.36\" x2=\"1827.84\" y2=\"1306.36\" style=\"stroke:#6b9e32; stroke-width:3.2; stroke-opacity:1\"/>\n",
       "<line clip-path=\"url(#clip024)\" x1=\"1827.84\" y1=\"1322.36\" x2=\"1811.84\" y2=\"1322.36\" style=\"stroke:#6b9e32; stroke-width:3.2; stroke-opacity:1\"/>\n",
       "<line clip-path=\"url(#clip024)\" x1=\"1827.84\" y1=\"1322.36\" x2=\"1827.84\" y2=\"1338.36\" style=\"stroke:#6b9e32; stroke-width:3.2; stroke-opacity:1\"/>\n",
       "<line clip-path=\"url(#clip024)\" x1=\"1827.84\" y1=\"1322.36\" x2=\"1843.84\" y2=\"1322.36\" style=\"stroke:#6b9e32; stroke-width:3.2; stroke-opacity:1\"/>\n",
       "<line clip-path=\"url(#clip024)\" x1=\"1905.26\" y1=\"1322.36\" x2=\"1905.26\" y2=\"1306.36\" style=\"stroke:#6b9e32; stroke-width:3.2; stroke-opacity:1\"/>\n",
       "<line clip-path=\"url(#clip024)\" x1=\"1905.26\" y1=\"1322.36\" x2=\"1889.26\" y2=\"1322.36\" style=\"stroke:#6b9e32; stroke-width:3.2; stroke-opacity:1\"/>\n",
       "<line clip-path=\"url(#clip024)\" x1=\"1905.26\" y1=\"1322.36\" x2=\"1905.26\" y2=\"1338.36\" style=\"stroke:#6b9e32; stroke-width:3.2; stroke-opacity:1\"/>\n",
       "<line clip-path=\"url(#clip024)\" x1=\"1905.26\" y1=\"1322.36\" x2=\"1921.26\" y2=\"1322.36\" style=\"stroke:#6b9e32; stroke-width:3.2; stroke-opacity:1\"/>\n",
       "<line clip-path=\"url(#clip024)\" x1=\"1982.68\" y1=\"1322.36\" x2=\"1982.68\" y2=\"1306.36\" style=\"stroke:#6b9e32; stroke-width:3.2; stroke-opacity:1\"/>\n",
       "<line clip-path=\"url(#clip024)\" x1=\"1982.68\" y1=\"1322.36\" x2=\"1966.68\" y2=\"1322.36\" style=\"stroke:#6b9e32; stroke-width:3.2; stroke-opacity:1\"/>\n",
       "<line clip-path=\"url(#clip024)\" x1=\"1982.68\" y1=\"1322.36\" x2=\"1982.68\" y2=\"1338.36\" style=\"stroke:#6b9e32; stroke-width:3.2; stroke-opacity:1\"/>\n",
       "<line clip-path=\"url(#clip024)\" x1=\"1982.68\" y1=\"1322.36\" x2=\"1998.68\" y2=\"1322.36\" style=\"stroke:#6b9e32; stroke-width:3.2; stroke-opacity:1\"/>\n",
       "<line clip-path=\"url(#clip024)\" x1=\"2060.1\" y1=\"1322.36\" x2=\"2060.1\" y2=\"1306.36\" style=\"stroke:#6b9e32; stroke-width:3.2; stroke-opacity:1\"/>\n",
       "<line clip-path=\"url(#clip024)\" x1=\"2060.1\" y1=\"1322.36\" x2=\"2044.1\" y2=\"1322.36\" style=\"stroke:#6b9e32; stroke-width:3.2; stroke-opacity:1\"/>\n",
       "<line clip-path=\"url(#clip024)\" x1=\"2060.1\" y1=\"1322.36\" x2=\"2060.1\" y2=\"1338.36\" style=\"stroke:#6b9e32; stroke-width:3.2; stroke-opacity:1\"/>\n",
       "<line clip-path=\"url(#clip024)\" x1=\"2060.1\" y1=\"1322.36\" x2=\"2076.1\" y2=\"1322.36\" style=\"stroke:#6b9e32; stroke-width:3.2; stroke-opacity:1\"/>\n",
       "<line clip-path=\"url(#clip024)\" x1=\"2137.53\" y1=\"1322.36\" x2=\"2137.53\" y2=\"1306.36\" style=\"stroke:#6b9e32; stroke-width:3.2; stroke-opacity:1\"/>\n",
       "<line clip-path=\"url(#clip024)\" x1=\"2137.53\" y1=\"1322.36\" x2=\"2121.53\" y2=\"1322.36\" style=\"stroke:#6b9e32; stroke-width:3.2; stroke-opacity:1\"/>\n",
       "<line clip-path=\"url(#clip024)\" x1=\"2137.53\" y1=\"1322.36\" x2=\"2137.53\" y2=\"1338.36\" style=\"stroke:#6b9e32; stroke-width:3.2; stroke-opacity:1\"/>\n",
       "<line clip-path=\"url(#clip024)\" x1=\"2137.53\" y1=\"1322.36\" x2=\"2153.53\" y2=\"1322.36\" style=\"stroke:#6b9e32; stroke-width:3.2; stroke-opacity:1\"/>\n",
       "<line clip-path=\"url(#clip024)\" x1=\"2214.95\" y1=\"1322.36\" x2=\"2214.95\" y2=\"1306.36\" style=\"stroke:#6b9e32; stroke-width:3.2; stroke-opacity:1\"/>\n",
       "<line clip-path=\"url(#clip024)\" x1=\"2214.95\" y1=\"1322.36\" x2=\"2198.95\" y2=\"1322.36\" style=\"stroke:#6b9e32; stroke-width:3.2; stroke-opacity:1\"/>\n",
       "<line clip-path=\"url(#clip024)\" x1=\"2214.95\" y1=\"1322.36\" x2=\"2214.95\" y2=\"1338.36\" style=\"stroke:#6b9e32; stroke-width:3.2; stroke-opacity:1\"/>\n",
       "<line clip-path=\"url(#clip024)\" x1=\"2214.95\" y1=\"1322.36\" x2=\"2230.95\" y2=\"1322.36\" style=\"stroke:#6b9e32; stroke-width:3.2; stroke-opacity:1\"/>\n",
       "<line clip-path=\"url(#clip024)\" x1=\"2292.37\" y1=\"1322.36\" x2=\"2292.37\" y2=\"1306.36\" style=\"stroke:#6b9e32; stroke-width:3.2; stroke-opacity:1\"/>\n",
       "<line clip-path=\"url(#clip024)\" x1=\"2292.37\" y1=\"1322.36\" x2=\"2276.37\" y2=\"1322.36\" style=\"stroke:#6b9e32; stroke-width:3.2; stroke-opacity:1\"/>\n",
       "<line clip-path=\"url(#clip024)\" x1=\"2292.37\" y1=\"1322.36\" x2=\"2292.37\" y2=\"1338.36\" style=\"stroke:#6b9e32; stroke-width:3.2; stroke-opacity:1\"/>\n",
       "<line clip-path=\"url(#clip024)\" x1=\"2292.37\" y1=\"1322.36\" x2=\"2308.37\" y2=\"1322.36\" style=\"stroke:#6b9e32; stroke-width:3.2; stroke-opacity:1\"/>\n",
       "<polyline clip-path=\"url(#clip024)\" style=\"stroke:#ff0000; stroke-linecap:round; stroke-linejoin:round; stroke-width:20; stroke-opacity:0.3; fill:none\" points=\"279.421,1297.31 279.421,1175.76 356.842,1175.76 356.842,1185.32 434.263,1185.32 434.263,1244.16 511.684,1244.16 511.684,1306.59 589.105,1306.59 589.105,1348.97 666.526,1348.97 666.526,1366.53 743.947,1366.53 743.947,1341.74 821.368,1341.74 821.368,1315.59 898.789,1315.59 898.789,1284.44 976.21,1284.44 976.21,1295.46 1053.63,1295.46 1053.63,1317.05 1131.05,1317.05 1131.05,1337.21 1208.47,1337.21 1208.47,1338.09 1285.89,1338.09 1285.89,1322.37 1363.32,1322.37 1363.32,1315.63 1440.74,1315.63 1440.74,1323.85 1518.16,1323.85 1518.16,1311.86 1595.58,1311.86 1595.58,1307.27 1673,1307.27 1673,1322.36 1750.42,1322.36 1827.84,1322.36 1905.26,1322.36 1982.68,1322.36 2060.1,1322.36 2137.53,1322.36 2214.95,1322.36 2292.37,1322.36 \"/>\n",
       "<circle clip-path=\"url(#clip024)\" cx=\"279.421\" cy=\"1287.61\" r=\"14.4\" fill=\"#009af9\" fill-rule=\"evenodd\" fill-opacity=\"1\" stroke=\"#000000\" stroke-opacity=\"1\" stroke-width=\"3.2\"/>\n",
       "<circle clip-path=\"url(#clip024)\" cx=\"356.842\" cy=\"1175.76\" r=\"14.4\" fill=\"#009af9\" fill-rule=\"evenodd\" fill-opacity=\"1\" stroke=\"#000000\" stroke-opacity=\"1\" stroke-width=\"3.2\"/>\n",
       "<circle clip-path=\"url(#clip024)\" cx=\"434.263\" cy=\"1175.76\" r=\"14.4\" fill=\"#009af9\" fill-rule=\"evenodd\" fill-opacity=\"1\" stroke=\"#000000\" stroke-opacity=\"1\" stroke-width=\"3.2\"/>\n",
       "<circle clip-path=\"url(#clip024)\" cx=\"511.684\" cy=\"1213.39\" r=\"14.4\" fill=\"#009af9\" fill-rule=\"evenodd\" fill-opacity=\"1\" stroke=\"#000000\" stroke-opacity=\"1\" stroke-width=\"3.2\"/>\n",
       "<circle clip-path=\"url(#clip024)\" cx=\"589.105\" cy=\"1278.05\" r=\"14.4\" fill=\"#009af9\" fill-rule=\"evenodd\" fill-opacity=\"1\" stroke=\"#000000\" stroke-opacity=\"1\" stroke-width=\"3.2\"/>\n",
       "<circle clip-path=\"url(#clip024)\" cx=\"666.526\" cy=\"1328.94\" r=\"14.4\" fill=\"#009af9\" fill-rule=\"evenodd\" fill-opacity=\"1\" stroke=\"#000000\" stroke-opacity=\"1\" stroke-width=\"3.2\"/>\n",
       "<circle clip-path=\"url(#clip024)\" cx=\"743.947\" cy=\"1360.78\" r=\"14.4\" fill=\"#009af9\" fill-rule=\"evenodd\" fill-opacity=\"1\" stroke=\"#000000\" stroke-opacity=\"1\" stroke-width=\"3.2\"/>\n",
       "<circle clip-path=\"url(#clip024)\" cx=\"821.368\" cy=\"1368.59\" r=\"14.4\" fill=\"#009af9\" fill-rule=\"evenodd\" fill-opacity=\"1\" stroke=\"#000000\" stroke-opacity=\"1\" stroke-width=\"3.2\"/>\n",
       "<circle clip-path=\"url(#clip024)\" cx=\"898.789\" cy=\"1337.78\" r=\"14.4\" fill=\"#009af9\" fill-rule=\"evenodd\" fill-opacity=\"1\" stroke=\"#000000\" stroke-opacity=\"1\" stroke-width=\"3.2\"/>\n",
       "<circle clip-path=\"url(#clip024)\" cx=\"976.21\" cy=\"1303.42\" r=\"14.4\" fill=\"#009af9\" fill-rule=\"evenodd\" fill-opacity=\"1\" stroke=\"#000000\" stroke-opacity=\"1\" stroke-width=\"3.2\"/>\n",
       "<circle clip-path=\"url(#clip024)\" cx=\"1053.63\" cy=\"1305.21\" r=\"14.4\" fill=\"#009af9\" fill-rule=\"evenodd\" fill-opacity=\"1\" stroke=\"#000000\" stroke-opacity=\"1\" stroke-width=\"3.2\"/>\n",
       "<circle clip-path=\"url(#clip024)\" cx=\"1131.05\" cy=\"1304.98\" r=\"14.4\" fill=\"#009af9\" fill-rule=\"evenodd\" fill-opacity=\"1\" stroke=\"#000000\" stroke-opacity=\"1\" stroke-width=\"3.2\"/>\n",
       "<circle clip-path=\"url(#clip024)\" cx=\"1208.47\" cy=\"1303.95\" r=\"14.4\" fill=\"#009af9\" fill-rule=\"evenodd\" fill-opacity=\"1\" stroke=\"#000000\" stroke-opacity=\"1\" stroke-width=\"3.2\"/>\n",
       "<circle clip-path=\"url(#clip024)\" cx=\"1285.89\" cy=\"1320.2\" r=\"14.4\" fill=\"#009af9\" fill-rule=\"evenodd\" fill-opacity=\"1\" stroke=\"#000000\" stroke-opacity=\"1\" stroke-width=\"3.2\"/>\n",
       "<circle clip-path=\"url(#clip024)\" cx=\"1363.32\" cy=\"1339.55\" r=\"14.4\" fill=\"#009af9\" fill-rule=\"evenodd\" fill-opacity=\"1\" stroke=\"#000000\" stroke-opacity=\"1\" stroke-width=\"3.2\"/>\n",
       "<circle clip-path=\"url(#clip024)\" cx=\"1440.74\" cy=\"1338.7\" r=\"14.4\" fill=\"#009af9\" fill-rule=\"evenodd\" fill-opacity=\"1\" stroke=\"#000000\" stroke-opacity=\"1\" stroke-width=\"3.2\"/>\n",
       "<circle clip-path=\"url(#clip024)\" cx=\"1518.16\" cy=\"1319.01\" r=\"14.4\" fill=\"#009af9\" fill-rule=\"evenodd\" fill-opacity=\"1\" stroke=\"#000000\" stroke-opacity=\"1\" stroke-width=\"3.2\"/>\n",
       "<circle clip-path=\"url(#clip024)\" cx=\"1595.58\" cy=\"1310.81\" r=\"14.4\" fill=\"#009af9\" fill-rule=\"evenodd\" fill-opacity=\"1\" stroke=\"#000000\" stroke-opacity=\"1\" stroke-width=\"3.2\"/>\n",
       "<circle clip-path=\"url(#clip024)\" cx=\"1673\" cy=\"1307.43\" r=\"14.4\" fill=\"#009af9\" fill-rule=\"evenodd\" fill-opacity=\"1\" stroke=\"#000000\" stroke-opacity=\"1\" stroke-width=\"3.2\"/>\n",
       "<circle clip-path=\"url(#clip024)\" cx=\"1750.42\" cy=\"1321.57\" r=\"14.4\" fill=\"#009af9\" fill-rule=\"evenodd\" fill-opacity=\"1\" stroke=\"#000000\" stroke-opacity=\"1\" stroke-width=\"3.2\"/>\n",
       "<circle clip-path=\"url(#clip024)\" cx=\"1827.84\" cy=\"1321.57\" r=\"14.4\" fill=\"#009af9\" fill-rule=\"evenodd\" fill-opacity=\"1\" stroke=\"#000000\" stroke-opacity=\"1\" stroke-width=\"3.2\"/>\n",
       "<circle clip-path=\"url(#clip024)\" cx=\"1905.26\" cy=\"1321.57\" r=\"14.4\" fill=\"#009af9\" fill-rule=\"evenodd\" fill-opacity=\"1\" stroke=\"#000000\" stroke-opacity=\"1\" stroke-width=\"3.2\"/>\n",
       "<circle clip-path=\"url(#clip024)\" cx=\"1982.68\" cy=\"1321.57\" r=\"14.4\" fill=\"#009af9\" fill-rule=\"evenodd\" fill-opacity=\"1\" stroke=\"#000000\" stroke-opacity=\"1\" stroke-width=\"3.2\"/>\n",
       "<circle clip-path=\"url(#clip024)\" cx=\"2060.1\" cy=\"1321.57\" r=\"14.4\" fill=\"#009af9\" fill-rule=\"evenodd\" fill-opacity=\"1\" stroke=\"#000000\" stroke-opacity=\"1\" stroke-width=\"3.2\"/>\n",
       "<circle clip-path=\"url(#clip024)\" cx=\"2137.53\" cy=\"1321.57\" r=\"14.4\" fill=\"#009af9\" fill-rule=\"evenodd\" fill-opacity=\"1\" stroke=\"#000000\" stroke-opacity=\"1\" stroke-width=\"3.2\"/>\n",
       "<circle clip-path=\"url(#clip024)\" cx=\"2214.95\" cy=\"1321.57\" r=\"14.4\" fill=\"#009af9\" fill-rule=\"evenodd\" fill-opacity=\"1\" stroke=\"#000000\" stroke-opacity=\"1\" stroke-width=\"3.2\"/>\n",
       "<circle clip-path=\"url(#clip024)\" cx=\"2292.37\" cy=\"1321.57\" r=\"14.4\" fill=\"#009af9\" fill-rule=\"evenodd\" fill-opacity=\"1\" stroke=\"#000000\" stroke-opacity=\"1\" stroke-width=\"3.2\"/>\n",
       "<polyline clip-path=\"url(#clip024)\" style=\"stroke:#80007f; stroke-linecap:round; stroke-linejoin:round; stroke-width:20; stroke-opacity:0.3; fill:none\" points=\"279.421,1287.61 279.421,1175.76 356.842,1175.76 434.263,1175.76 434.263,1213.39 511.684,1213.39 511.684,1278.05 589.105,1278.05 589.105,1328.94 666.526,1328.94 666.526,1360.78 743.947,1360.78 743.947,1368.59 821.368,1368.59 821.368,1337.78 898.789,1337.78 898.789,1303.42 976.21,1303.42 976.21,1305.21 1053.63,1305.21 1053.63,1304.98 1131.05,1304.98 1131.05,1303.95 1208.47,1303.95 1208.47,1320.2 1285.89,1320.2 1285.89,1339.55 1363.32,1339.55 1363.32,1338.7 1440.74,1338.7 1440.74,1319.01 1518.16,1319.01 1518.16,1310.81 1595.58,1310.81 1595.58,1307.43 1673,1307.43 1673,1321.57 1750.42,1321.57 1827.84,1321.57 1905.26,1321.57 1982.68,1321.57 2060.1,1321.57 2137.53,1321.57 2214.95,1321.57 2292.37,1321.57 \"/>\n",
       "<path clip-path=\"url(#clip024)\" d=\"M279.421 1271.6 L263.421 1287.6 L279.421 1303.6 L295.421 1287.6 L279.421 1271.6 Z\" fill=\"#e26f46\" fill-rule=\"evenodd\" fill-opacity=\"1\" stroke=\"#000000\" stroke-opacity=\"1\" stroke-width=\"3.2\"/>\n",
       "<path clip-path=\"url(#clip024)\" d=\"M356.842 1159.76 L340.842 1175.76 L356.842 1191.76 L372.842 1175.76 L356.842 1159.76 Z\" fill=\"#e26f46\" fill-rule=\"evenodd\" fill-opacity=\"1\" stroke=\"#000000\" stroke-opacity=\"1\" stroke-width=\"3.2\"/>\n",
       "<path clip-path=\"url(#clip024)\" d=\"M434.263 1159.76 L418.263 1175.76 L434.263 1191.76 L450.263 1175.76 L434.263 1159.76 Z\" fill=\"#e26f46\" fill-rule=\"evenodd\" fill-opacity=\"1\" stroke=\"#000000\" stroke-opacity=\"1\" stroke-width=\"3.2\"/>\n",
       "<path clip-path=\"url(#clip024)\" d=\"M511.684 1197.41 L495.684 1213.41 L511.684 1229.41 L527.684 1213.41 L511.684 1197.41 Z\" fill=\"#e26f46\" fill-rule=\"evenodd\" fill-opacity=\"1\" stroke=\"#000000\" stroke-opacity=\"1\" stroke-width=\"3.2\"/>\n",
       "<path clip-path=\"url(#clip024)\" d=\"M589.105 1262.04 L573.105 1278.04 L589.105 1294.04 L605.105 1278.04 L589.105 1262.04 Z\" fill=\"#e26f46\" fill-rule=\"evenodd\" fill-opacity=\"1\" stroke=\"#000000\" stroke-opacity=\"1\" stroke-width=\"3.2\"/>\n",
       "<path clip-path=\"url(#clip024)\" d=\"M666.526 1312.92 L650.526 1328.92 L666.526 1344.92 L682.526 1328.92 L666.526 1312.92 Z\" fill=\"#e26f46\" fill-rule=\"evenodd\" fill-opacity=\"1\" stroke=\"#000000\" stroke-opacity=\"1\" stroke-width=\"3.2\"/>\n",
       "<path clip-path=\"url(#clip024)\" d=\"M743.947 1344.78 L727.947 1360.78 L743.947 1376.78 L759.947 1360.78 L743.947 1344.78 Z\" fill=\"#e26f46\" fill-rule=\"evenodd\" fill-opacity=\"1\" stroke=\"#000000\" stroke-opacity=\"1\" stroke-width=\"3.2\"/>\n",
       "<path clip-path=\"url(#clip024)\" d=\"M821.368 1352.62 L805.368 1368.62 L821.368 1384.62 L837.368 1368.62 L821.368 1352.62 Z\" fill=\"#e26f46\" fill-rule=\"evenodd\" fill-opacity=\"1\" stroke=\"#000000\" stroke-opacity=\"1\" stroke-width=\"3.2\"/>\n",
       "<path clip-path=\"url(#clip024)\" d=\"M898.789 1321.82 L882.789 1337.82 L898.789 1353.82 L914.789 1337.82 L898.789 1321.82 Z\" fill=\"#e26f46\" fill-rule=\"evenodd\" fill-opacity=\"1\" stroke=\"#000000\" stroke-opacity=\"1\" stroke-width=\"3.2\"/>\n",
       "<path clip-path=\"url(#clip024)\" d=\"M976.21 1287.42 L960.21 1303.42 L976.21 1319.42 L992.21 1303.42 L976.21 1287.42 Z\" fill=\"#e26f46\" fill-rule=\"evenodd\" fill-opacity=\"1\" stroke=\"#000000\" stroke-opacity=\"1\" stroke-width=\"3.2\"/>\n",
       "<path clip-path=\"url(#clip024)\" d=\"M1053.63 1289.18 L1037.63 1305.18 L1053.63 1321.18 L1069.63 1305.18 L1053.63 1289.18 Z\" fill=\"#e26f46\" fill-rule=\"evenodd\" fill-opacity=\"1\" stroke=\"#000000\" stroke-opacity=\"1\" stroke-width=\"3.2\"/>\n",
       "<path clip-path=\"url(#clip024)\" d=\"M1131.05 1288.94 L1115.05 1304.94 L1131.05 1320.94 L1147.05 1304.94 L1131.05 1288.94 Z\" fill=\"#e26f46\" fill-rule=\"evenodd\" fill-opacity=\"1\" stroke=\"#000000\" stroke-opacity=\"1\" stroke-width=\"3.2\"/>\n",
       "<path clip-path=\"url(#clip024)\" d=\"M1208.47 1287.95 L1192.47 1303.95 L1208.47 1319.95 L1224.47 1303.95 L1208.47 1287.95 Z\" fill=\"#e26f46\" fill-rule=\"evenodd\" fill-opacity=\"1\" stroke=\"#000000\" stroke-opacity=\"1\" stroke-width=\"3.2\"/>\n",
       "<path clip-path=\"url(#clip024)\" d=\"M1285.89 1304.21 L1269.89 1320.21 L1285.89 1336.21 L1301.89 1320.21 L1285.89 1304.21 Z\" fill=\"#e26f46\" fill-rule=\"evenodd\" fill-opacity=\"1\" stroke=\"#000000\" stroke-opacity=\"1\" stroke-width=\"3.2\"/>\n",
       "<path clip-path=\"url(#clip024)\" d=\"M1363.32 1323.57 L1347.32 1339.57 L1363.32 1355.57 L1379.32 1339.57 L1363.32 1323.57 Z\" fill=\"#e26f46\" fill-rule=\"evenodd\" fill-opacity=\"1\" stroke=\"#000000\" stroke-opacity=\"1\" stroke-width=\"3.2\"/>\n",
       "<path clip-path=\"url(#clip024)\" d=\"M1440.74 1322.72 L1424.74 1338.72 L1440.74 1354.72 L1456.74 1338.72 L1440.74 1322.72 Z\" fill=\"#e26f46\" fill-rule=\"evenodd\" fill-opacity=\"1\" stroke=\"#000000\" stroke-opacity=\"1\" stroke-width=\"3.2\"/>\n",
       "<path clip-path=\"url(#clip024)\" d=\"M1518.16 1303.01 L1502.16 1319.01 L1518.16 1335.01 L1534.16 1319.01 L1518.16 1303.01 Z\" fill=\"#e26f46\" fill-rule=\"evenodd\" fill-opacity=\"1\" stroke=\"#000000\" stroke-opacity=\"1\" stroke-width=\"3.2\"/>\n",
       "<path clip-path=\"url(#clip024)\" d=\"M1595.58 1294.8 L1579.58 1310.8 L1595.58 1326.8 L1611.58 1310.8 L1595.58 1294.8 Z\" fill=\"#e26f46\" fill-rule=\"evenodd\" fill-opacity=\"1\" stroke=\"#000000\" stroke-opacity=\"1\" stroke-width=\"3.2\"/>\n",
       "<path clip-path=\"url(#clip024)\" d=\"M1673 1291.43 L1657 1307.43 L1673 1323.43 L1689 1307.43 L1673 1291.43 Z\" fill=\"#e26f46\" fill-rule=\"evenodd\" fill-opacity=\"1\" stroke=\"#000000\" stroke-opacity=\"1\" stroke-width=\"3.2\"/>\n",
       "<path clip-path=\"url(#clip024)\" d=\"M1750.42 1305.57 L1734.42 1321.57 L1750.42 1337.57 L1766.42 1321.57 L1750.42 1305.57 Z\" fill=\"#e26f46\" fill-rule=\"evenodd\" fill-opacity=\"1\" stroke=\"#000000\" stroke-opacity=\"1\" stroke-width=\"3.2\"/>\n",
       "<path clip-path=\"url(#clip024)\" d=\"M1827.84 1305.57 L1811.84 1321.57 L1827.84 1337.57 L1843.84 1321.57 L1827.84 1305.57 Z\" fill=\"#e26f46\" fill-rule=\"evenodd\" fill-opacity=\"1\" stroke=\"#000000\" stroke-opacity=\"1\" stroke-width=\"3.2\"/>\n",
       "<path clip-path=\"url(#clip024)\" d=\"M1905.26 1305.57 L1889.26 1321.57 L1905.26 1337.57 L1921.26 1321.57 L1905.26 1305.57 Z\" fill=\"#e26f46\" fill-rule=\"evenodd\" fill-opacity=\"1\" stroke=\"#000000\" stroke-opacity=\"1\" stroke-width=\"3.2\"/>\n",
       "<path clip-path=\"url(#clip024)\" d=\"M1982.68 1305.57 L1966.68 1321.57 L1982.68 1337.57 L1998.68 1321.57 L1982.68 1305.57 Z\" fill=\"#e26f46\" fill-rule=\"evenodd\" fill-opacity=\"1\" stroke=\"#000000\" stroke-opacity=\"1\" stroke-width=\"3.2\"/>\n",
       "<path clip-path=\"url(#clip024)\" d=\"M2060.1 1305.57 L2044.1 1321.57 L2060.1 1337.57 L2076.1 1321.57 L2060.1 1305.57 Z\" fill=\"#e26f46\" fill-rule=\"evenodd\" fill-opacity=\"1\" stroke=\"#000000\" stroke-opacity=\"1\" stroke-width=\"3.2\"/>\n",
       "<path clip-path=\"url(#clip024)\" d=\"M2137.53 1305.57 L2121.53 1321.57 L2137.53 1337.57 L2153.53 1321.57 L2137.53 1305.57 Z\" fill=\"#e26f46\" fill-rule=\"evenodd\" fill-opacity=\"1\" stroke=\"#000000\" stroke-opacity=\"1\" stroke-width=\"3.2\"/>\n",
       "<path clip-path=\"url(#clip024)\" d=\"M2214.95 1305.57 L2198.95 1321.57 L2214.95 1337.57 L2230.95 1321.57 L2214.95 1305.57 Z\" fill=\"#e26f46\" fill-rule=\"evenodd\" fill-opacity=\"1\" stroke=\"#000000\" stroke-opacity=\"1\" stroke-width=\"3.2\"/>\n",
       "<path clip-path=\"url(#clip024)\" d=\"M2292.37 1305.57 L2276.37 1321.57 L2292.37 1337.57 L2308.37 1321.57 L2292.37 1305.57 Z\" fill=\"#e26f46\" fill-rule=\"evenodd\" fill-opacity=\"1\" stroke=\"#000000\" stroke-opacity=\"1\" stroke-width=\"3.2\"/>\n",
       "<polyline clip-path=\"url(#clip024)\" style=\"stroke:#0000ff; stroke-linecap:round; stroke-linejoin:round; stroke-width:20; stroke-opacity:0.3; fill:none\" points=\"279.421,1287.6 279.421,1175.76 356.842,1175.76 356.842,1175.76 434.263,1175.76 434.263,1213.41 511.684,1213.41 511.684,1278.04 589.105,1278.04 589.105,1328.92 666.526,1328.92 666.526,1360.78 743.947,1360.78 743.947,1368.62 821.368,1368.62 821.368,1337.82 898.789,1337.82 898.789,1303.42 976.21,1303.42 976.21,1305.18 1053.63,1305.18 1053.63,1304.94 1131.05,1304.94 1131.05,1303.95 1208.47,1303.95 1208.47,1320.21 1285.89,1320.21 1285.89,1339.57 1363.32,1339.57 1363.32,1338.72 1440.74,1338.72 1440.74,1319.01 1518.16,1319.01 1518.16,1310.8 1595.58,1310.8 1595.58,1307.43 1673,1307.43 1673,1321.57 1750.42,1321.57 1827.84,1321.57 1905.26,1321.57 1982.68,1321.57 2060.1,1321.57 2137.53,1321.57 2214.95,1321.57 2292.37,1321.57 \"/>\n",
       "</svg>\n"
      ]
     },
     "metadata": {},
     "output_type": "display_data"
    }
   ],
   "source": [
    "##########\n",
    "# INPUTS #\n",
    "##########\n",
    "# limits\n",
    "#p9 = plot(ts,uMax*ones(length(ts)),linestyle = :dot,linecolor = :black,xaxis=\"time[h]\",yaxis=\"u1\",legend=false,gridlinewidth=2,ylims = (1.5,2.0),yticks = 1.5:0.1:2.0)\n",
    "p9 = plot(xaxis=\"time[h]\",yaxis=\"u1\",gridlinewidth=2,ylims = (1.5,2.0),yticks = 1.5:0.1:2.0)\n",
    "\n",
    "for opti in 1:3\n",
    "    p9 = plot!(ts,uTraj[opti,:,1],linewidth=5,linetype=:steppre,linealpha = 0.3,markershape=MList[opti],linecolor = CList[opti],legend=false)\n",
    "end\n",
    "\n",
    "#p10 = plot(ts,uMax*ones(length(ts)),linestyle = :dot,linecolor = :black,xaxis=\"time[h]\",yaxis=\"u2\",legend=false,gridlinewidth=2,ylims = (1.5,2.0),yticks = 1.5:0.1:2.0)\n",
    "p10 = plot(xaxis=\"time[h]\",yaxis=\"u2\",gridlinewidth=2,ylims = (1.5,2.0),yticks = 1.5:0.1:2.0)\n",
    "for opti in 1:3\n",
    "    p10 = plot!(ts,uTraj[opti,:,2],linewidth=5,linetype=:steppre,linealpha = 0.3,markershape=MList[opti],linecolor = CList[opti],legend=false)\n",
    "end\n",
    "\n",
    "#p11 = plot(ts,uMax*ones(length(ts)),linestyle = :dot,linecolor = :black,xaxis=\"time[h]\",yaxis=\"u3\",legend=false,gridlinewidth=2,ylims = (1.5,2.0),yticks = 1.5:0.1:2.0)\n",
    "p11 = plot(xaxis=\"time[h]\",yaxis=\"u3\",gridlinewidth=2,ylims = (1.5,2.0),yticks = 1.5:0.1:2.0)\n",
    "for opti in 1:3\n",
    "    p11 = plot!(ts,uTraj[opti,:,3],linewidth=5,linetype=:steppre,linealpha = 0.3,markershape=MList[opti],linecolor = CList[opti],legend=false)\n",
    "end\n",
    "\n",
    "g3 = plot(p9,p10,p11,layout=(3,1))\n",
    "display(g3)"
   ]
  }
 ],
 "metadata": {
  "kernelspec": {
   "display_name": "Julia 1.8.5",
   "language": "julia",
   "name": "julia-1.8"
  },
  "language_info": {
   "file_extension": ".jl",
   "mimetype": "application/julia",
   "name": "julia",
   "version": "1.8.5"
  }
 },
 "nbformat": 4,
 "nbformat_minor": 5
}
