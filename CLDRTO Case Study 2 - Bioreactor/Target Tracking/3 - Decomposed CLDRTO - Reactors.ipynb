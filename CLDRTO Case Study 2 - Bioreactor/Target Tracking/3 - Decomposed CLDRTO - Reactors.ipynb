{
 "cells": [
  {
   "cell_type": "markdown",
   "id": "39bb43e3",
   "metadata": {},
   "source": [
    "- **This code computes the decomposed solution of a Closed-Loop DRTO problem.**\n",
    "- Using tracking objective function\n",
    "- The underlying control structure (modeled in the CLDRTO model) is an MPC, which can is solved using three different strategies: 1. unconstrained, 2. constrained using binaries, and 3. constrained using MPCC N.B.:strategy 2 not working\n",
    "- The problem is posed as a scenario-based stochastic programming problem\n",
    "- The case study is an affine multiple parallel bioreactor system from:*Gao, Ling. \"Modeling and dynamics analyses of immobilized CSTR bioreactor using transfer function model.\" 2012 International Symposium on Information Technologies in Medicine and Education. Vol. 2. IEEE, 2012.*\n",
    "- The uncertainty represented by the scenarios comes from the maximum specific growth rate (V_m) --> see matlab file\n",
    "- Studying the impact of loading the subproblems (increasing the number of reactors)\n",
    "\n",
    "AUTHOR: Jose Matias <assumpcj@mcmaster.ca>\n",
    "DATE: May 2023"
   ]
  },
  {
   "cell_type": "code",
   "execution_count": 1,
   "id": "67ea638f",
   "metadata": {},
   "outputs": [],
   "source": [
    "using LinearAlgebra, JuMP, CPLEX, Ipopt, Plots, CSV, DataFrames, Distributions, LaTeXStrings"
   ]
  },
  {
   "cell_type": "markdown",
   "id": "b2933767",
   "metadata": {},
   "source": [
    "# Bioreactor Model\n",
    "\n",
    "$\\dfrac{d C}{d t} = D (C_{in} - C) - \\dfrac{V_m C}{(K_s + C)} $ <br>\n",
    "$ \\dfrac{d P}{d t} = \\dfrac{V_m C}{(K_s + C)} - DP $ <br>\n",
    "\n",
    "where, <br>\n",
    "$t$: time in hours \\[h\\] <br>\n",
    "$C$: concentration of reactant (substrate) \\[g/L\\] <br>\n",
    "$P$: concentration of product (biomass) \\[g/L\\] <br>\n",
    "$C_{in}$: inlet concentration of substrate \\[g/L\\] <br>\n",
    "$D$: ratio of flowrate to reactor volume \\[1/h\\] <br>\n",
    "$V_m$: maximum reaction rate \\[g/(h L)\\] <br> \n",
    "$K_s$: reaction constant \\[g/L\\] <br>\n",
    "\n",
    "- System measurement ($y$) - product concentration $P$ <br>\n",
    "- System inputs ($u$) - inlet reactant concentration $C_{in}$ <br>\n",
    "- Uncertain parameters ($\\theta$) - maximum reaction rate $V_m$"
   ]
  },
  {
   "cell_type": "code",
   "execution_count": 2,
   "id": "cb37bc36",
   "metadata": {},
   "outputs": [],
   "source": [
    "# Sampling time\n",
    "T = 1 #[h]\n",
    "\n",
    "# Number of manipulated inputs\n",
    "nu = 1\n",
    "# Number of controlled outputs\n",
    "ny = 1\n",
    "\n",
    "# setting bounds (all arbitrary - not in deviation form!!) \n",
    "uMax = 2.4 # for tight constraints: 1.9 | for loose constraints: 5.0\n",
    "uMin = 0.0;\n",
    "\n",
    "yspMax = 1.2 \n",
    "yspMin = 0.0;"
   ]
  },
  {
   "cell_type": "markdown",
   "id": "06d023cd",
   "metadata": {},
   "source": [
    "# Building affine CL-DRTO models\n",
    "\n",
    "## Model linearization\n",
    "- linearization is done using Matlab's functions ss and c2d (see BioReactorLinearization.m)\n",
    "- sample time $\\Delta t$ is consider as 1h\n",
    "- linearization around point: $V_m = 0.5$ \\[g/(h L)\\], $K_s = 0.2$ \\[g/L\\], $D = 0.5$ \\[1/h\\], $C_{in,0} = 1$ \\[g/L\\], $C_{0} = 0.358$ \\[g/L\\], and $P_{0} = 0.642$ \\[g/L\\]\n",
    "\n",
    "which leads to: <br>\n",
    "$\\bar{x}_{k+1} = A \\bar{x}_k + B \\bar{u}_k$ <br>\n",
    "$\\bar{y}_k = C \\bar{u}_k$\n",
    "\n",
    "where, <br>\n",
    "$\\bar{x} = \\begin{bmatrix}\n",
    "\\bar{C}\\\\\n",
    "\\bar{P}\n",
    "\\end{bmatrix} =\n",
    "\\begin{bmatrix}\n",
    "C - C_0\\\\\n",
    "P - P_0\n",
    "\\end{bmatrix}$<br>\n",
    "$\\bar{u} = \\bar{C}_{in} = C_{in} - C_{in,0}$<br>\n",
    "$\\bar{y} = \\bar{P} = P - P_0$"
   ]
  },
  {
   "cell_type": "code",
   "execution_count": 3,
   "id": "06719deb",
   "metadata": {},
   "outputs": [],
   "source": [
    "# Linearization point\n",
    "u0 = 1.5\n",
    "x0 = [0.7179;0.7821]\n",
    "y0 = 0.7821\n",
    "\n",
    "# 100 pre-computed models based on parametric uncertainty Vm (computed using matlab: BioReactorLinearization.m)\n",
    "bioModels = CSV.read(\"C:\\\\Users\\\\MACC-Jose\\\\Documents\\\\GitHub\\\\BD\\\\CLDRTO Case Study 2 - Bioreactor\\\\BioreactorModel\", DataFrame; header=false);\n",
    "#print(bioModels)"
   ]
  },
  {
   "cell_type": "markdown",
   "id": "8c5197b2",
   "metadata": {},
   "source": [
    "CL-DRTO configuration"
   ]
  },
  {
   "cell_type": "code",
   "execution_count": 4,
   "id": "ad40ad5c",
   "metadata": {},
   "outputs": [],
   "source": [
    "# DRTO sampling time\n",
    "nDRTO = 4 # [h]\n",
    "# Prediction horizon\n",
    "pD = 20 + (8 - 1)# p = 8 *controller horizon  \n",
    "# Input control horizon \n",
    "mD = 20\n",
    "# Objective function: target tracking (deviation form)\n",
    "pTrack = 1 - y0 # [g/L]\n",
    "# Soft upper bounds on P weight (deviation form)\n",
    "pUB = 1.05 - y0 # [g/L]\n",
    "# objective function weight for P penalization term \n",
    "wP = 100;"
   ]
  },
  {
   "cell_type": "markdown",
   "id": "27186ab9",
   "metadata": {},
   "source": [
    "DRTO model changes with the number of scenarios and parallel reactors"
   ]
  },
  {
   "cell_type": "code",
   "execution_count": 5,
   "id": "57ec4745",
   "metadata": {},
   "outputs": [],
   "source": [
    "function DRTO_matrices(nReactors,nScenarios)\n",
    "    # ATTENTION: Used for the monolithic solution. Generates an array of models\n",
    "    # Several different models were already computed offline and saved in the \"bioModel\" array\n",
    "    # This function extracts the models based on a fixed index grid that is generated based on the number of scenarios\n",
    "    \n",
    "    ###########\n",
    "    # inputs: #\n",
    "    ###########\n",
    "    # nReactors - number of reactors in parallel\n",
    "    # nScenarios - number of scenarios used in the stochastic optimization\n",
    "    \n",
    "    # picking up indexes equally spaced between 1 and 100 (including initial and end point) \n",
    "    # based on the desired number of scenarios\n",
    "    if nScenarios == 1\n",
    "        indexScen = 50 # nominal model --> index = 50\n",
    "    else\n",
    "        indexScen = [floor(Int, 1 + (ii - 1)*(100-1)/(nScenarios-1)) for ii in 1:nScenarios]\n",
    "    end\n",
    "    \n",
    "    # building DRTO model\n",
    "    A_drto = Array{Float64}(undef,nx,nx,nScenarios) \n",
    "    B_drto = Array{Float64}(undef,nx,nu,nScenarios) \n",
    "\n",
    "    for kk in 1:nScenarios\n",
    "\n",
    "        index_temp = indexScen[kk]\n",
    "\n",
    "        A_drto[:,:,kk] = kron(I(nReactors),Matrix(bioModels[2*(index_temp - 1) + 1:2*(index_temp - 1) + 2,1:2]))\n",
    "        B_drto[:,:,kk] = repeat(bioModels[2*(index_temp - 1) + 1:2*(index_temp - 1) + 2,3], outer = [nReactors, 1, 1])\n",
    "\n",
    "    end\n",
    "\n",
    "    # mapping states to measurements is the same for all models\n",
    "    C_drto = repeat([0 1/nReactors], outer = [1, nReactors])\n",
    "    \n",
    "    return Dict('A' => A_drto, 'B' => B_drto, 'C' => C_drto)\n",
    "end;"
   ]
  },
  {
   "cell_type": "code",
   "execution_count": 6,
   "id": "0968ca7b",
   "metadata": {},
   "outputs": [],
   "source": [
    "function DRTO_matrix(nReactors,nScenario,nScenTotal)\n",
    "    # ATTENTION: Used for the decomposed solution. Generates a single model\n",
    "    # Several different models were already computed offline and saved in the \"bioModel\" array\n",
    "    # This function extracts the model of interest based on the index \"nScenario\"\n",
    "  \n",
    "    ###########\n",
    "    # inputs: #\n",
    "    ###########\n",
    "    # nReactors - number of reactors in parallel\n",
    "    # nScenario - index the of scenario used in the stochastic optimization\n",
    "    # nScenTotal - total number of scenario used in the stochastic optimization\n",
    "    \n",
    "    if nScenTotal == 1\n",
    "        index_temp = 50 # nominal model --> index = 50\n",
    "    else\n",
    "        indexScen = [floor(Int, 1 + (ii - 1)*(100-1)/(nScenTotal-1)) for ii in 1:nScenTotal]\n",
    "        index_temp = indexScen[nScenario]\n",
    "    end\n",
    "  \n",
    "    # building DRTO model\n",
    "    A_drto = kron(I(nReactors),Matrix(bioModels[2*(index_temp - 1) + 1:2*(index_temp - 1) + 2,1:2]))\n",
    "    B_drto = repeat(bioModels[2*(index_temp - 1) + 1:2*(index_temp - 1) + 2,3], outer = [nReactors, 1, 1])\n",
    "\n",
    "    # mapping states to measurements is the same for all models\n",
    "    C_drto = repeat([0 1/nReactors], outer = [1, nReactors]);\n",
    "    \n",
    "    return Dict('A' => A_drto, 'B' => B_drto, 'C' => C_drto)\n",
    "end;"
   ]
  },
  {
   "cell_type": "markdown",
   "id": "66f4ef3c",
   "metadata": {},
   "source": [
    "# Building MPC model\n",
    "\n",
    "Controller configuration"
   ]
  },
  {
   "cell_type": "code",
   "execution_count": 7,
   "id": "54509748",
   "metadata": {},
   "outputs": [],
   "source": [
    "# MPC sampling time\n",
    "nMPC = 1 # [h]\n",
    "\n",
    "# Controller configuration\n",
    "# Output prediction horizon\n",
    "p = 8\n",
    "# Input control horizon \n",
    "m = 2\n",
    "# Output weights\n",
    "q = 1\n",
    "# Input weights \n",
    "r = 1;"
   ]
  },
  {
   "cell_type": "markdown",
   "id": "dbffeddf",
   "metadata": {},
   "source": [
    "Notes:\n",
    "- Using nominal model(indexScen = 50)\n",
    "- For the description of how the MPC matrices (with disturbance model) are built, check script: *CLDRTO with unconstrained MPC - uncertain plant test*"
   ]
  },
  {
   "cell_type": "code",
   "execution_count": 8,
   "id": "1f3177a8",
   "metadata": {},
   "outputs": [],
   "source": [
    "function MPC_matrices(nReactors)\n",
    "    ###########\n",
    "    # inputs: #\n",
    "    ###########\n",
    "    # nReactors - number of reactors in parallel\n",
    "    \n",
    "    # extracting the matrices from the model array computed previously\n",
    "    nNom = 50 # nominal model --> index = 50\n",
    "    \n",
    "    A = kron(I(nReactors),Matrix(bioModels[2*(nNom - 1) + 1:2*(nNom - 1) + 2,1:2])) \n",
    "    B = repeat(bioModels[2*(nNom - 1) + 1:2*(nNom - 1) + 2,3], outer = [nReactors, 1])\n",
    "    C = repeat([0 1/nReactors], outer = [1, nReactors])\n",
    "    \n",
    "    # adding disturbance model\n",
    "    Ad = [A zeros(nx,ny); zeros(ny,nx) I(ny)]\n",
    "    Bd = [B; zeros(ny,nu)]\n",
    "    Cd = [C ones(ny,ny)]\n",
    "    \n",
    "    # building matrices for MPC\n",
    "    Psi = Cd*Ad\n",
    "    for ii in 2:p\n",
    "        Psi = [Psi;  Cd*Ad^ii]\n",
    "    end\n",
    "\n",
    "    # Computing Dynamic Matrix\n",
    "    a = Cd*Bd\n",
    "    for ii in 2:p\n",
    "        a = [a; Cd*Ad^(ii - 1)*Bd]\n",
    "    end\n",
    "    DynM = a\n",
    "\n",
    "    for ii in 1:(m - 2)\n",
    "        a = [zeros(ny,nu);a[1:(p-1)*ny,:]]\n",
    "        DynM = [DynM  a]\n",
    "    end\n",
    "\n",
    "    # adjusting dynamic matrix for since p > m (last column)\n",
    "    b = Cd*Bd\n",
    "\n",
    "    Ai = I(nx+1) # adding disturbance to the states\n",
    "    for ii = 1:(p - m)\n",
    "        Ai = Ai + Ad^ii\n",
    "        b = [b;Cd*Ai*Bd]\n",
    "    end\n",
    "\n",
    "    Theta=[DynM [zeros(ny*(m-1),nu);b]]\n",
    "    \n",
    "    # Creating Qbar and Rbar matrices\n",
    "    Qbar = Diagonal([q for ii in 1:p])\n",
    "    Rbar = Diagonal([r for ii in 1:m])\n",
    "\n",
    "    # Creating input movement OF penalty matrix \n",
    "    M=[zeros((m-1)*nu,nu) I(nu*(m-1)); zeros(nu) zeros(nu,nu*(m-1))]\n",
    "    Ibar=[I(nu); zeros(nu*(m-1),nu)]\n",
    "    IM = I(nu*m) - M';\n",
    "    \n",
    "    # Matrix H\n",
    "    H = Theta'*Qbar*Theta + IM'*Rbar*IM;\n",
    "    \n",
    "    return Dict('A' => A, 'B' => B, 'C' => C, 'H' => H, 'Θ' => Theta, 'Ψ' => Psi, 'Q' => Qbar, 'I' => Ibar, 'R' => Rbar, 'M' => IM)\n",
    "end;"
   ]
  },
  {
   "cell_type": "markdown",
   "id": "ab17a7c4",
   "metadata": {},
   "source": [
    "# Solving CL-DRTO Multiscenario Problem (monolithic)\n",
    " - Check details in script *Monolithic CLDRTO*\n",
    " - For the description of the different solution strategies, check *Different Strategies to solve constrained MPC within CLDRTO*"
   ]
  },
  {
   "cell_type": "code",
   "execution_count": 9,
   "id": "74dd560e",
   "metadata": {},
   "outputs": [],
   "source": [
    "# Parameters for MPC solution\n",
    "# matrix to compute the gradients of the input bound constraints\n",
    "conMatrix = [I(m); -I(m)]; \n",
    "\n",
    "# big-M implementation\n",
    "bigM_mu = 10000#1000\n",
    "bigM_u = 10000#100\n",
    "\n",
    "# weight complementarity relaxation OF term\n",
    "pi_bar = 10^2; # 10^2"
   ]
  },
  {
   "cell_type": "code",
   "execution_count": 10,
   "id": "e5486fc7",
   "metadata": {},
   "outputs": [],
   "source": [
    "function MS_CLDRTO(xInit,uInit,nReac,nScen,pScen,solNom,option)\n",
    "    ###########\n",
    "    # inputs: #\n",
    "    ###########\n",
    "    # xInit - states at the current iteration (beginning of DRTO horizon)\n",
    "    # uInit - inputs at the current iteration, already implemented on the plant\n",
    "    # nReac - number of parallel reactors\n",
    "    # nScen - number of scenarios used in the problem (only one branching)\n",
    "    # pScen - probability of the scenarios\n",
    "    # solNom - nominal solution\n",
    "    # option - strategy for solving MPC\n",
    "\n",
    "    # Creating MPC matrices\n",
    "    mpc = MPC_matrices(nReac)\n",
    "    \n",
    "    # Creating DRTO matrices\n",
    "    drto = DRTO_matrices(nReac,nScen)\n",
    "\n",
    "    # Define model\n",
    "    if option == 3 || option == 1\n",
    "        model_ms = Model(Ipopt.Optimizer)\n",
    "        set_optimizer_attribute(model_ms, \"max_cpu_time\", 300.0) # 5 min\n",
    "    else \n",
    "        model_ms = Model(CPLEX.Optimizer)\n",
    "        set_optimizer_attribute(model_ms, \"CPX_PARAM_TILIM\", 300.0) # 5 min\n",
    "    end\n",
    "    set_silent(model_ms)\n",
    "    \n",
    "    ####################\n",
    "    # Set up variables #\n",
    "    ####################\n",
    "    # DRTO model variables\n",
    "    @variable(model_ms, xDRTO[1:pD,1:nx,1:nScen])\n",
    "    @variable(model_ms, yDRTO[1:pD,1:nScen])\n",
    "    \n",
    "    # MPC model variables\n",
    "    @variable(model_ms, xMPC[1:pD,1:nx,1:nScen])\n",
    "    @variable(model_ms, yMPC[1:pD,1:nScen])\n",
    "    \n",
    "    # MPC <-> DRTO model deviation\n",
    "    @variable(model_ms, de[1:pD,1:nScen])\n",
    "    \n",
    "    # inputs computed by MPCs\n",
    "    @variable(model_ms, u[1:pD,1:m,1:nScen])\n",
    "     if option == 1\n",
    "        @variable(model_ms, u_w_c[1:pD,1:m,1:nScen]) # inputs w/o clipping\n",
    "    \n",
    "        # input clipping \n",
    "        @variable(model_ms, mu_lb[1:pD,1:m,1:nScen] ≥ 0)\n",
    "        @variable(model_ms, eta_lb[1:pD,1:m,1:nScen] ≥ 0)\n",
    "        @variable(model_ms, mu_ub[1:pD,1:m,1:nScen] ≥ 0)\n",
    "        @variable(model_ms, eta_ub[1:pD,1:m,1:nScen] ≥ 0)       \n",
    "    end\n",
    "    \n",
    "    # setpoints for the controllers sent to the plant (CL-DRTO degrees of freedom)\n",
    "    @variable(model_ms, (yspMin - y0) ≤ ysp[1:pD,1:nScen] ≤ (yspMax - y0))\n",
    "    \n",
    "    # slacks for P soft constraint\n",
    "    @variable(model_ms, delta_p[1:pD,1:nScen] ≥ 0)\n",
    "    \n",
    "    if option == 2 || option == 3\n",
    "        @variable(model_ms, mu_g[1:mD,1:(2*m),1:nScen] ≥ 0) # upper and lower bounds for each input\n",
    "    end\n",
    "    if option == 2\n",
    "        @variable(model_ms, Y_lb[1:mD,1:m,1:nScen], Bin, start = 0) # Binaries for big-M implementation\n",
    "        @variable(model_ms, Y_ub[1:mD,1:m,1:nScen], Bin, start = 0) \n",
    "    end\n",
    "    \n",
    "    ########################\n",
    "    # Set up initial guess #\n",
    "    ########################\n",
    "    if solNom isa Dict\n",
    "        for ss in 1:nScen\n",
    "            for ii in 1:pD\n",
    "                set_start_value(yDRTO[ii,ss], solNom['y'][ii,1]) \n",
    "                set_start_value(yMPC[ii,ss], solNom['c'][ii,1])\n",
    "                set_start_value(ysp[ii,ss], solNom['s'][ii,1])\n",
    "\n",
    "                for rr in 1:nReac # when nReac increases, the number of states change!\n",
    "                    for xx in 1:2 # N.B. nx/reactor is hardcoded here... (maybe use nx/reactor as a function input) \n",
    "                        set_start_value(xDRTO[ii,xx + (rr - 1)*2,ss], solNom['x'][ii,xx,1])    \n",
    "                        set_start_value(xMPC[ii,xx + (rr - 1)*2,ss], solNom['m'][ii,xx,1])           \n",
    "                    end # end xx\n",
    "                end # number \n",
    "                \n",
    "                for uu in 1:m\n",
    "                    set_start_value(u[ii,uu,ss], solNom['u'][ii,uu,1])\n",
    "                end # end of uu\n",
    "            end # eend of ii\n",
    "        end # end of ss\n",
    "    end # end of if\n",
    "    \n",
    "    ######################################\n",
    "    # Set up constraints and expressions #\n",
    "    ######################################\n",
    "    # Model Dynamic for Dynamic RTO\n",
    "    @constraint(model_ms, CLDRTO_dyn_model_1[ss=1:nScen], xDRTO[1,:,ss] .== drto['A'][:,:,ss]*xInit + drto['B'][:,:,ss]*uInit)\n",
    "    @constraint(model_ms, CLDRTO_dyn_model[kk=1:(pD - 1),ss=1:nScen], xDRTO[kk + 1,:,ss] .== drto['A'][:,:,ss]*xDRTO[kk,:,ss] + drto['B'][:,:,ss]*u[kk,1,ss])\n",
    "    @constraint(model_ms, CLDRTO_model_out[kk=1:pD,ss=1:nScen], yDRTO[kk,ss] == dot(drto['C'],xDRTO[kk,:,ss]))\n",
    "    \n",
    "    # fixing setpoint changes after mD\n",
    "    @constraint(model_ms, control_horizon[kk=(mD+1):pD,ss=1:nScen], u[kk,1,ss] .== u[mD,1,ss])\n",
    "    \n",
    "    # P soft constraints\n",
    "    @constraint(model_ms, soft_P[kk=1:pD,ss=1:nScen], yDRTO[kk,ss] - delta_p[kk,ss] ≤ pUB)\n",
    "    \n",
    "    # nonanticipativity constraints\n",
    "    @constraint(model_ms, nonAnt[kk=1:nDRTO,ss=2:nScen], ysp[kk,1] - ysp[kk,ss] == 0.0);\n",
    "    \n",
    "    ################\n",
    "    # MPC solution #\n",
    "    ################    \n",
    "    if option == 1\n",
    "        # Model Dynamic for Controller\n",
    "        @constraint(model_ms, MPC_dyn_model_1[ss=1:nScen], xMPC[1,:,ss] .== mpc['A']*xInit + mpc['B']*uInit)\n",
    "        @constraint(model_ms, MPC_dyn_model[kk=1:(pD - 1),ss=1:nScen], xMPC[kk + 1,:,ss] .== mpc['A']*xMPC[kk,:,ss] + mpc['B']*u_w_c[kk,1,ss])\n",
    "        @constraint(model_ms, MPC_model_out[kk=1:pD,ss=1:nScen], yMPC[kk,ss] == dot(mpc['C'],xMPC[kk,:,ss]))\n",
    "\n",
    "        #  Model deviation\n",
    "        @constraint(model_ms, MPC_model_dev[kk=1:pD,ss=1:nScen], de[kk,ss] == yDRTO[kk,ss] - yMPC[kk,ss])\n",
    "        \n",
    "        @expression(model_ms, cfT_1[ss=1:nScen], (mpc['Ψ']*[xMPC[1,:,ss];de[1,ss]] - ysp[1:p,ss])'*mpc['Q']*mpc['Θ'] - uInit'*mpc['I']'*mpc['R']*mpc['M'])\n",
    "        @expression(model_ms, cfT[kk=2:mD,ss=1:nScen], (mpc['Ψ']*[xMPC[kk,:,ss];de[kk,ss]] - ysp[kk:(kk + p - 1),ss])'*mpc['Q']*mpc['Θ'] - u_w_c[kk-1,1,ss]'*mpc['I']'*mpc['R']*mpc['M'])\n",
    "        \n",
    "        # Unconstrained MPC solution  \n",
    "        @constraint(model_ms, MPC_sol_1[ss=1:nScen], mpc['H']*u_w_c[1,:,ss] + cfT_1[ss]' .== 0)\n",
    "        @constraint(model_ms, MPC_sol[kk=2:mD,ss=1:nScen], mpc['H']*u_w_c[kk,:,ss] + cfT[kk,ss]' .== 0)\n",
    "        \n",
    "        # input clipping\n",
    "        @constraint(model_ms, ic_1[kk = 1:mD,uu = 1:m,ss = 1:nScen], u[kk,uu,ss] == u_w_c[kk,uu,ss] - mu_ub[kk,uu,ss] + mu_lb[kk,uu,ss])\n",
    "        @constraint(model_ms, ic_2[kk = 1:mD,uu = 1:m,ss = 1:nScen], (uMax - u0) - u[kk,uu,ss] == eta_ub[kk,uu,ss])\n",
    "        @constraint(model_ms, ic_3[kk = 1:mD,uu = 1:m,ss = 1:nScen], eta_ub[kk,uu,ss]*mu_ub[kk,uu,ss] ≤ 1e-6)\n",
    "        @constraint(model_ms, ic_4[kk = 1:mD,uu = 1:m,ss = 1:nScen], u[kk,uu,ss] - (uMin - u0) == eta_lb[kk,uu,ss])\n",
    "        @constraint(model_ms, ic_5[kk = 1:mD,uu = 1:m,ss = 1:nScen], eta_lb[kk,uu,ss]*mu_lb[kk,uu,ss] ≤ 1e-6)\n",
    "        \n",
    "    elseif option == 2\n",
    "        # Model Dynamic for Controller\n",
    "        @constraint(model_ms, MPC_dyn_model_1[ss=1:nScen], xMPC[1,:,ss] .== mpc['A']*xInit + mpc['B']*uInit)\n",
    "        @constraint(model_ms, MPC_dyn_model[kk=1:(pD - 1),ss=1:nScen], xMPC[kk + 1,:,ss] .== mpc['A']*xMPC[kk,:,ss] + mpc['B']*u[kk,1,ss])\n",
    "        @constraint(model_ms, MPC_model_out[kk=1:pD,ss=1:nScen], yMPC[kk,ss] == dot(mpc['C'],xMPC[kk,:,ss]))\n",
    "\n",
    "        #  Model deviation\n",
    "        @constraint(model_ms, MPC_model_dev[kk=1:pD,ss=1:nScen], de[kk,ss] == yDRTO[kk,ss] - yMPC[kk,ss])\n",
    "\n",
    "        # sequence of Setpoints\n",
    "        @expression(model_ms, cfT_1[ss=1:nScen], (mpc['Ψ']*[xMPC[1,:,ss];de[1,ss]] - ysp[1:p,ss])'*mpc['Q']*mpc['Θ'] - uInit'*mpc['I']'*mpc['R']*mpc['M'])\n",
    "        @expression(model_ms, cfT[kk=2:mD,ss=1:nScen], (mpc['Ψ']*[xMPC[kk,:,ss];de[kk,ss]] - ysp[kk:(kk + p - 1),ss])'*mpc['Q']*mpc['Θ'] - u[kk-1,1,ss]'*mpc['I']'*mpc['R']*mpc['M'])\n",
    "\n",
    "        # Constrained with binaries\n",
    "        # 1. stationarity\n",
    "        @constraint(model_ms, MPC_sol_1[ss=1:nScen], u[1,:,ss]'*mpc['H'] + cfT_1[ss] +  mu_g[1,:,ss]'*conMatrix .== 0)\n",
    "        @constraint(model_ms, MPC_sol[kk=2:mD,ss=1:nScen], u[kk,:,ss]'*mpc['H'] + cfT[kk,ss] + mu_g[kk,:,ss]'*conMatrix .== 0)\n",
    "\n",
    "        # 2. primal feasibility\n",
    "        @constraint(model_ms, g_u_u[kk=1:mD,uu=1:m,ss=1:nScen], u[kk,uu,ss] - (uMax - u0) ≤ 0)\n",
    "        @constraint(model_ms, g_u_l[kk=1:mD,uu=1:m,ss=1:nScen], (uMin - u0) - u[kk,uu,ss] ≤ 0)\n",
    "    \n",
    "        # 3. complementarity --> using big-M implementation\n",
    "        @constraint(model_ms, bigM_1[kk=1:mD,uu=1:m,ss=1:nScen], mu_g[kk,uu,ss] ≤ bigM_mu*Y_ub[kk,uu,ss])\n",
    "        @constraint(model_ms, bigM_2[kk=1:mD,uu=1:m,ss=1:nScen], mu_g[kk,uu + m,ss] ≤ bigM_mu*Y_lb[kk,uu,ss])\n",
    "        @constraint(model_ms, bigM_3[kk=1:mD,uu=1:m,ss=1:nScen], u[kk,uu,ss] - (uMax - u0) ≥ -bigM_u*(1 - Y_ub[kk,uu,ss]))\n",
    "        @constraint(model_ms, bigM_4[kk=1:mD,uu=1:m,ss=1:nScen], (uMin - u0) - u[kk,uu,ss] ≥ -bigM_u*(1 - Y_lb[kk,uu,ss]))\n",
    "        \n",
    "        @constraint(model_ms, compSlack[kk=1:mD,uu=1:m,ss=1:nScen], Y_ub[kk,uu,ss] + Y_lb[kk,uu,ss] ≤ 1)\n",
    "    \n",
    "    elseif option == 3\n",
    "        # Model Dynamic for Controller\n",
    "        @constraint(model_ms, MPC_dyn_model_1[ss=1:nScen], xMPC[1,:,ss] .== mpc['A']*xInit + mpc['B']*uInit)\n",
    "        @constraint(model_ms, MPC_dyn_model[kk=1:(pD - 1),ss=1:nScen], xMPC[kk + 1,:,ss] .== mpc['A']*xMPC[kk,:,ss] + mpc['B']*u[kk,1,ss])\n",
    "        @constraint(model_ms, MPC_model_out[kk=1:pD,ss=1:nScen], yMPC[kk,ss] == dot(mpc['C'],xMPC[kk,:,ss]))\n",
    "\n",
    "        #  Model deviation\n",
    "        @constraint(model_ms, MPC_model_dev[kk=1:pD,ss=1:nScen], de[kk,ss] == yDRTO[kk,ss] - yMPC[kk,ss])\n",
    "\n",
    "        # sequence of Setpoints\n",
    "        @expression(model_ms, cfT_1[ss=1:nScen], (mpc['Ψ']*[xMPC[1,:,ss];de[1,ss]] - ysp[1:p,ss])'*mpc['Q']*mpc['Θ'] - uInit'*mpc['I']'*mpc['R']*mpc['M'])\n",
    "        @expression(model_ms, cfT[kk=2:mD,ss=1:nScen], (mpc['Ψ']*[xMPC[kk,:,ss];de[kk,ss]] - ysp[kk:(kk + p - 1),ss])'*mpc['Q']*mpc['Θ'] - u[kk-1,1,ss]'*mpc['I']'*mpc['R']*mpc['M'])\n",
    "\n",
    "        # Constrained with MPCC\n",
    "        # 1. stationarity\n",
    "        @constraint(model_ms, MPC_sol_1[ss=1:nScen], u[1,:,ss]'*mpc['H'] + cfT_1[ss] +  mu_g[1,:,ss]'*conMatrix .== 0)\n",
    "        @constraint(model_ms, MPC_sol[kk=2:mD,ss=1:nScen], u[kk,:,ss]'*mpc['H'] + cfT[kk,ss] + mu_g[kk,:,ss]'*conMatrix .== 0)\n",
    "\n",
    "        # 2. primal feasibility\n",
    "        @constraint(model_ms, MPC_c_upper[kk=1:mD,uu=1:m,ss=1:nScen], u[kk,uu,ss] - (uMax - u0) ≤ 0)\n",
    "        @constraint(model_ms, MPC_c_lower[kk=1:mD,uu=1:m,ss=1:nScen], (uMin - u0) - u[kk,uu,ss] ≤ 0)\n",
    "        \n",
    "        # Expressions for OF\n",
    "        @expression(model_ms, g_u_u[kk=1:mD,uu=1:m,ss=1:nScen], u[kk,uu,ss] - (uMax - u0))\n",
    "        @expression(model_ms, g_u_l[kk=1:mD,uu=1:m,ss=1:nScen], (uMin - u0) - u[kk,uu,ss])\n",
    "        \n",
    "    end\n",
    "      \n",
    "    #############################\n",
    "    # Set up objective function #\n",
    "    #############################\n",
    "    if option == 1 || option == 2\n",
    "        @objective(model_ms, Min, \n",
    "            pScen*sum((yDRTO[kk,ss] - pTrack)^2 + wP*delta_p[kk,ss]^2 for kk in 1:pD, ss in 1:nScen)\n",
    "        )\n",
    "    else\n",
    "        @objective(model_ms, Min, pScen*sum((yDRTO[kk,ss] - pTrack)^2 + wP*delta_p[kk,ss]^2 for kk in 1:pD, ss in 1:nScen)\n",
    "                                - pScen*pi_bar*sum(\n",
    "                                                sum(mu_g[kk,jj,ss]*g_u_u[kk,jj,ss] for jj = 1:m) +\n",
    "                                                sum(mu_g[kk,jj + m,ss]*g_u_l[kk,jj,ss] for jj = 1:m)\n",
    "                                                for kk = 1:mD, ss in 1:nScen)\n",
    "        )\n",
    "    end\n",
    "    # @show model_ms\n",
    "\n",
    "    #################\n",
    "    # Solve Problem #\n",
    "    #################\n",
    "    #set_optimizer_attribute(model_ms, \"CPX_PARAM_BARALG\", 1)\n",
    "    optimize!(model_ms)\n",
    "    \n",
    "    status = termination_status(model_ms)\n",
    "    #display(status)\n",
    "    \n",
    "    if status == MOI.OPTIMAL || status == MOI.ALMOST_OPTIMAL || status == MOI.LOCALLY_SOLVED\n",
    "        # Proved optimality or Optimal within relaxed tolerances\n",
    "        # solution time\n",
    "        timeSol = solve_time(model_ms)\n",
    "\n",
    "        flag = 1\n",
    "        # #primal_status(m)\n",
    "\n",
    "        #calling values of the solved problem\n",
    "        ϕ = objective_value(model_ms)\n",
    "        uArray = value.(u)\n",
    "        yspArray = value.(ysp)\n",
    "        yDRTOArray = value.(yDRTO)\n",
    "        yMPCArray = value.(yMPC)\n",
    "        xDRTOArray = value.(xDRTO)\n",
    "        xMPCArray = value.(xMPC)\n",
    "\n",
    "        outputFun = Dict('ϕ' => ϕ,\n",
    "                        't' => timeSol,\n",
    "                        'f' => flag, \n",
    "                        'u' => uArray,\n",
    "                        's' => yspArray,\n",
    "                        'x' => xDRTOArray,\n",
    "                        'y' => yDRTOArray, \n",
    "                        'm' => xDRTOArray,\n",
    "                        'c' => yDRTOArray)\n",
    "        \n",
    "        if option == 2 || option == 3\n",
    "            muArray = value.(mu_g)\n",
    "            merge!(outputFun,Dict('μ'=> muArray))\n",
    "        end\n",
    "        \n",
    "        return outputFun\n",
    "    else\n",
    "        # Handle other cases.\n",
    "        outputFun = Dict('f' => 0,\n",
    "                         't' => NaN,\n",
    "                         'ϕ' => NaN)\n",
    "                        \n",
    "        \n",
    "        return outputFun\n",
    "    end\n",
    "end;"
   ]
  },
  {
   "cell_type": "markdown",
   "id": "e2a35860",
   "metadata": {},
   "source": [
    "# Decomposition of CLDRTO Problem"
   ]
  },
  {
   "attachments": {
    "image-2.png": {
     "image/png": "[encoded data removed]"
    }
   },
   "cell_type": "markdown",
   "id": "eccb0edd",
   "metadata": {},
   "source": [
    "<div>\n",
    "<img src=\"attachment:image-2.png\" width=\"900\"/>\n",
    "</div>"
   ]
  },
  {
   "cell_type": "markdown",
   "id": "b2f632eb",
   "metadata": {},
   "source": [
    "## Modeling Subproblem"
   ]
  },
  {
   "cell_type": "code",
   "execution_count": 11,
   "id": "1c652a26",
   "metadata": {},
   "outputs": [],
   "source": [
    "## Modeling the sub problem (scenario) -- modeling inside a function\n",
    "function subp(xInit,uInit,ysp_fixed,nReac,nScen,pScen,solNom,option)\n",
    "    ###########\n",
    "    # inputs: #\n",
    "    ###########\n",
    "    # xInit - states at the current iteration (beginning of DRTO horizon)\n",
    "    # uInit - inputs at the current iteration, already implemented on the plant\n",
    "    # ysp_fixed - setpoints fixed by the Master Problem --> nonanticipativity constraints\n",
    "    # nReac - number of parallel reactors\n",
    "    # nScen - number of scenarios used in the problem (only one branching)\n",
    "    # pScen - probability of the scenarios\n",
    "    # solNom - nominal solution\n",
    "    # option - strategy for solving MPC \n",
    "        # for now, code only works for option = 3\n",
    "\n",
    "    # Creating MPC matrices\n",
    "    mpc = MPC_matrices(nReac)\n",
    "    \n",
    "    # Creating DRTO matrices\n",
    "    \n",
    "    # recomputing the number of total scenarios based on scenario probability and the fact that the scenarios have the same probability\n",
    "    nScenTotal = ceil(Int,1/pScen)    \n",
    "    drto = DRTO_matrix(nReac,nScen,nScenTotal)\n",
    "    \n",
    "    # Define subproblem model  #== 3\n",
    "    if option == 3 || option == 1 \n",
    "        sub = Model(Ipopt.Optimizer)\n",
    "        set_optimizer_attribute(sub, \"max_cpu_time\", 300.0) # 5 min\n",
    "    else \n",
    "        sub = Model(CPLEX.Optimizer)\n",
    "        set_optimizer_attribute(sub, \"CPX_PARAM_TILIM\", 300.0) # 5 min\n",
    "    end\n",
    "    set_silent(sub) # avoid printing\n",
    "    \n",
    "    ####################\n",
    "    # Set up variables #\n",
    "    ####################\n",
    "    # DRTO model variables\n",
    "    @variable(sub, xDRTO[1:pD, 1:nx])\n",
    "    @variable(sub, yDRTO[1:pD])\n",
    "    \n",
    "    # MPC model variables\n",
    "    @variable(sub, xMPC[1:pD, 1:nx])\n",
    "    @variable(sub, yMPC[1:pD])\n",
    "\n",
    "    # MPC <-> DRTO model deviation\n",
    "    @variable(sub, de[1:pD])\n",
    "    \n",
    "    # inputs computed by MPCs\n",
    "    @variable(sub, u[1:pD,1:m])\n",
    "    if option == 1\n",
    "        @variable(sub, u_w_c[1:pD,1:m]) # inputs w/o clipping\n",
    "    \n",
    "        # input clipping \n",
    "        @variable(sub, mu_lb[1:pD,1:m] ≥ 0)\n",
    "        @variable(sub, eta_lb[1:pD,1:m] ≥ 0)\n",
    "        @variable(sub, mu_ub[1:pD,1:m] ≥ 0)\n",
    "        @variable(sub, eta_ub[1:pD,1:m] ≥ 0)       \n",
    "    end\n",
    "\n",
    "    # setpoints for the controllers sent to the plant (CL-DRTO degrees of freedom)\n",
    "    @variable(sub, (yspMin - y0) ≤ ysp[1:pD] ≤ (yspMax - y0))\n",
    "        \n",
    "    # slacks for controlling setpoint into a zone\n",
    "    @variable(sub, delta_p[1:pD] ≥ 0)\n",
    "    \n",
    "    if option == 2 || option == 3\n",
    "        @variable(sub, mu_g[1:mD,1:(2*m)] ≥ 0) # upper and lower bounds for each input\n",
    "    end\n",
    "    if option == 2\n",
    "        @variable(sub, Y_lb[1:mD,1:m], start = 0) # Relaxing binaries for big-M implementation\n",
    "        @variable(sub, Y_ub[1:mD,1:m], start = 0) \n",
    "    end\n",
    "    \n",
    "    ########################\n",
    "    # Set up initial guess #\n",
    "    ########################\n",
    "    if solNom isa Dict\n",
    "        for ii in 1:pD\n",
    "            set_start_value(yDRTO[ii], solNom['y'][ii,1]) \n",
    "            set_start_value(yMPC[ii], solNom['c'][ii,1])\n",
    "            #set_start_value(ysp[ii], solNom['s'][ii,1])\n",
    "\n",
    "            for rr in 1:nReac # when nReac increases, the number of states change!\n",
    "                for xx in 1:2 # N.B. nx/reactor is hardcoded here... (maybe use nx/reactor as a function input) \n",
    "                    set_start_value(xDRTO[ii,xx + (rr - 1)*2], solNom['x'][ii,xx,1])    \n",
    "                    set_start_value(xMPC[ii,xx + (rr - 1)*2], solNom['m'][ii,xx,1])           \n",
    "                end # end xx\n",
    "            end # number \n",
    "                \n",
    "            for uu in 1:m\n",
    "                set_start_value(u[ii,uu], solNom['u'][ii,uu,1])\n",
    "            end # end of uu\n",
    "        end # eend of ii\n",
    "    end # end of if\n",
    "\n",
    "    ######################################\n",
    "    # Set up constraints and expressions #\n",
    "    ######################################\n",
    "    # Dynamic RTO model (linear)\n",
    "    @constraint(sub, CLDRTO_dyn_model_1, xDRTO[1,:] .== drto['A']*xInit + drto['B']*uInit)\n",
    "    @constraint(sub, CLDRTO_dyn_model[kk=1:(pD - 1)], xDRTO[kk + 1,:] .== drto['A']*xDRTO[kk,:] + drto['B']*u[kk,1])\n",
    "    @constraint(sub, CLDRTO_model_out[kk=1:pD], yDRTO[kk] == dot(drto['C'],xDRTO[kk,:]))\n",
    "\n",
    "    # fixing input after mD\n",
    "    @constraint(sub, control_horizon[kk=(mD+1):pD], u[kk,1] == u[mD,1]);\n",
    "    \n",
    "    # P soft constraints\n",
    "    @constraint(sub, soft_P[kk=1:pD], yDRTO[kk] - delta_p[kk] ≤ pUB)\n",
    "    \n",
    "    # nonanticipativity constraints\n",
    "    @constraint(sub, nonAnt[kk=1:nDRTO], ysp[kk] - ysp_fixed[kk] == 0.0);\n",
    "    \n",
    "    ################\n",
    "    # MPC solution #\n",
    "    ################\n",
    "    ################\n",
    "    # MPC solution #\n",
    "    ################ \n",
    "    if option == 1\n",
    "        # MPC model (linear)\n",
    "        @constraint(sub, MPC_dyn_model_1, xMPC[1,:] .== mpc['A']*xInit + mpc['B']*uInit)\n",
    "        @constraint(sub, MPC_dyn_model[kk=1:(pD - 1)], xMPC[kk + 1,:] .== mpc['A']*xMPC[kk,:] + mpc['B']*u_w_c[kk,1])\n",
    "        @constraint(sub, MPC_model_out[kk=1:pD], yMPC[kk] == dot(mpc['C'],xMPC[kk,:]))\n",
    "\n",
    "        #  MPC model deviation (disturance)\n",
    "        @constraint(sub, MPC_model_dev[kk=1:pD], de[kk] == yDRTO[kk] - yMPC[kk])\n",
    "\n",
    "        # sequence of Setpoints\n",
    "        @expression(sub, cfT_1, (mpc['Ψ']*[xMPC[1,:];de[1]] - ysp[1:p])'*mpc['Q']*mpc['Θ'] - uInit'*mpc['I']'*mpc['R']*mpc['M'])\n",
    "        @expression(sub, cfT[kk=2:mD], (mpc['Ψ']*[xMPC[kk,:];de[kk]] - ysp[kk:(kk + p - 1)])'*mpc['Q']*mpc['Θ'] - u_w_c[kk-1,1]'*mpc['I']'*mpc['R']*mpc['M'])\n",
    "\n",
    "        # Unconstrained MPC solution  \n",
    "        @constraint(sub, MPC_sol_1, mpc['H']*u_w_c[1,:] + cfT_1' .== 0)\n",
    "        @constraint(sub, MPC_sol[kk=2:mD],mpc['H']*u_w_c[kk,:] + cfT[kk]' .== 0)\n",
    "\n",
    "        # input clipping\n",
    "        @constraint(sub, ic_1[kk = 1:mD,uu = 1:m], u[kk,uu] == u_w_c[kk,uu] - mu_ub[kk,uu] + mu_lb[kk,uu])\n",
    "        @constraint(sub, ic_2[kk = 1:mD,uu = 1:m], (uMax - u0) - u[kk,uu] == eta_ub[kk,uu])\n",
    "        @constraint(sub, ic_3[kk = 1:mD,uu = 1:m], eta_ub[kk,uu]*mu_ub[kk,uu] ≤ 1e-6)\n",
    "        @constraint(sub, ic_4[kk = 1:mD,uu = 1:m], u[kk,uu] - (uMin - u0) == eta_lb[kk,uu])\n",
    "        @constraint(sub, ic_5[kk = 1:mD,uu = 1:m], eta_lb[kk,uu]*mu_lb[kk,uu] ≤ 1e-6)\n",
    "    \n",
    "    elseif option == 2\n",
    "        # MPC model (linear)\n",
    "        @constraint(sub, MPC_dyn_model_1, xMPC[1,:] .== mpc['A']*xInit + mpc['B']*uInit)\n",
    "        @constraint(sub, MPC_dyn_model[kk=1:(pD - 1)], xMPC[kk + 1,:] .== mpc['A']*xMPC[kk,:] + mpc['B']*u[kk,1])\n",
    "        @constraint(sub, MPC_model_out[kk=1:pD], yMPC[kk] == dot(mpc['C'],xMPC[kk,:]))\n",
    "\n",
    "        #  MPC model deviation (disturance)\n",
    "        @constraint(sub, MPC_model_dev[kk=1:pD], de[kk] == yDRTO[kk] - yMPC[kk])\n",
    "\n",
    "        # sequence of Setpoints\n",
    "        @expression(sub, cfT_1, (mpc['Ψ']*[xMPC[1,:];de[1]] - ysp[1:p])'*mpc['Q']*mpc['Θ'] - uInit'*mpc['I']'*mpc['R']*mpc['M'])\n",
    "        @expression(sub, cfT[kk=2:mD], (mpc['Ψ']*[xMPC[kk,:];de[kk]] - ysp[kk:(kk + p - 1)])'*mpc['Q']*mpc['Θ'] - u[kk-1,1]'*mpc['I']'*mpc['R']*mpc['M'])\n",
    "\n",
    "        # Constrained with binaries\n",
    "        # 1. stationarity\n",
    "        @constraint(sub, MPC_sol_1, u[1,:]'*mpc['H'] + cfT_1 +  mu_g[1,:]'*conMatrix .== 0)\n",
    "        @constraint(sub, MPC_sol[kk=2:mD], u[kk,:]'*mpc['H'] + cfT[kk] + mu_g[kk,:]'*conMatrix .== 0)\n",
    "\n",
    "        # 2. primal feasibility\n",
    "        @constraint(sub, MPC_c_upper[kk=1:mD,uu=1:m], u[kk,uu] - (uMax - u0) ≤ 0)\n",
    "        @constraint(sub, MPC_c_lower[kk=1:mD,uu=1:m], (uMin - u0) - u[kk,uu] ≤ 0)\n",
    "    \n",
    "        # 3. complementarity --> using big-M implementation\n",
    "        @constraint(sub, bigM_1[kk=1:mD,uu=1:m], mu_g[kk,uu] ≤ bigM_mu*Y_ub[kk,uu])\n",
    "        @constraint(sub, bigM_2[kk=1:mD,uu=1:m], mu_g[kk,uu + m] ≤ bigM_mu*Y_lb[kk,uu])\n",
    "        @constraint(sub, bigM_3[kk=1:mD,uu=1:m], u[kk,uu] - (uMax - u0) ≥ -bigM_u*(1 - Y_ub[kk,uu]))\n",
    "        @constraint(sub, bigM_4[kk=1:mD,uu=1:m], (uMin - u0) - u[kk,uu] ≥ -bigM_u*(1 - Y_lb[kk,uu]))\n",
    "        \n",
    "        @constraint(sub, compSlack[kk=1:mD,uu=1:m], Y_ub[kk,uu] + Y_lb[kk,uu] ≤ 1)\n",
    "    \n",
    "    elseif option == 3\n",
    "        # MPC model (linear)\n",
    "        @constraint(sub, MPC_dyn_model_1, xMPC[1,:] .== mpc['A']*xInit + mpc['B']*uInit)\n",
    "        @constraint(sub, MPC_dyn_model[kk=1:(pD - 1)], xMPC[kk + 1,:] .== mpc['A']*xMPC[kk,:] + mpc['B']*u[kk,1])\n",
    "        @constraint(sub, MPC_model_out[kk=1:pD], yMPC[kk] == dot(mpc['C'],xMPC[kk,:]))\n",
    "\n",
    "        #  MPC model deviation (disturance)\n",
    "        @constraint(sub, MPC_model_dev[kk=1:pD], de[kk] == yDRTO[kk] - yMPC[kk])\n",
    "\n",
    "        # sequence of Setpoints\n",
    "        @expression(sub, cfT_1, (mpc['Ψ']*[xMPC[1,:];de[1]] - ysp[1:p])'*mpc['Q']*mpc['Θ'] - uInit'*mpc['I']'*mpc['R']*mpc['M'])\n",
    "        @expression(sub, cfT[kk=2:mD], (mpc['Ψ']*[xMPC[kk,:];de[kk]] - ysp[kk:(kk + p - 1)])'*mpc['Q']*mpc['Θ'] - u[kk-1,1]'*mpc['I']'*mpc['R']*mpc['M'])\n",
    "\n",
    "        # Constrained with MPCC\n",
    "        # 1. stationarity\n",
    "        @constraint(sub, MPC_sol_1, u[1,:]'*mpc['H'] + cfT_1 +  mu_g[1,:]'*conMatrix .== 0)\n",
    "        @constraint(sub, MPC_sol[kk=2:mD], u[kk,:]'*mpc['H'] + cfT[kk] + mu_g[kk,:]'*conMatrix .== 0)\n",
    "\n",
    "        # 2. primal feasibility       \n",
    "        @constraint(sub, MPC_c_upper[kk=1:mD,uu=1:m], u[kk,uu] - (uMax - u0) ≤ 0)\n",
    "        @constraint(sub, MPC_c_lower[kk=1:mD,uu=1:m], (uMin - u0) - u[kk,uu] ≤ 0)\n",
    "        \n",
    "        # expression to be used in OF        \n",
    "        @expression(sub, g_u_u[kk=1:mD,uu=1:m], u[kk,uu] - (uMax - u0))\n",
    "        @expression(sub, g_u_l[kk=1:mD,uu=1:m], (uMin - u0) - u[kk,uu])\n",
    "        \n",
    "    end\n",
    "\n",
    "    #############################\n",
    "    # Set up objective function #\n",
    "    #############################\n",
    "     if option == 1 || option == 2\n",
    "        @objective(sub, Min, \n",
    "            pScen*sum((yDRTO[kk] - pTrack)^2 + wP*delta_p[kk]^2 for kk in 1:pD)\n",
    "        )\n",
    "    else\n",
    "        @objective(sub, Min, \n",
    "            pScen*sum((yDRTO[kk] - pTrack)^2 + wP*delta_p[kk]^2 for kk in 1:pD)\n",
    "                    - pScen*pi_bar*sum(\n",
    "                                    sum(mu_g[kk,jj]*g_u_u[kk,jj] for jj = 1:m) +\n",
    "                                    sum(mu_g[kk,jj + m]*g_u_l[kk,jj] for jj = 1:m)\n",
    "                                for kk = 1:mD)\n",
    "        )\n",
    "    end\n",
    "    \n",
    "    # @show sub\n",
    "    #set_optimizer_attribute(sub, \"CPX_PARAM_BARALG\", 1)\n",
    "    \n",
    "    optimize!(sub)\n",
    "    \n",
    "    # solution time\n",
    "    timeSol = solve_time(sub)\n",
    "    \n",
    "    status = termination_status(sub)\n",
    "    #display(status)\n",
    "    \n",
    "    # checking if there is a solution to the problem\n",
    "    if status == MOI.OPTIMAL || status == MOI.ALMOST_OPTIMAL || status == MOI.LOCALLY_SOLVED\n",
    "        # Proved optimality or Optimal within relaxed tolerances\n",
    "        # we add an optimality cut\n",
    "        flag = 1\n",
    "        # #primal_status(m)\n",
    "\n",
    "        #calling values of the solved problem\n",
    "        ϕ = objective_value(sub)\n",
    "        uArray = value.(u)\n",
    "        yspArray = value.(ysp)\n",
    "        yDRTOArray = value.(yDRTO)\n",
    "        yMPCArray = value.(yMPC)\n",
    "        xDRTOArray = value.(xDRTO)\n",
    "        xMPCArray = value.(xMPC)\n",
    "        \n",
    "        # lagrange multipliers associated with the nonantecipativity constraints\n",
    "        λ = dual.(nonAnt)\n",
    "\n",
    "        outputDict = Dict('ϕ' => ϕ,\n",
    "                        't' => timeSol,\n",
    "                        'f' => flag, \n",
    "                        'a' => status,\n",
    "                        'u' => uArray,\n",
    "                        's' => yspArray,\n",
    "                        'x' => xDRTOArray,\n",
    "                        'y' => yDRTOArray, \n",
    "                        'm' => xMPCArray,\n",
    "                        'c' => yMPCArray,\n",
    "                        'λ' => λ)\n",
    "        \n",
    "        # if binaries are used for solving const. MPC\n",
    "        if option == 2\n",
    "            muArray = value.(mu_g)\n",
    "                   \n",
    "            uubBinArray = value.(Y_ub)\n",
    "            ulbBinArray = value.(Y_lb)\n",
    "            \n",
    "            merge!(outputDict,Dict('μ'=> muArray))\n",
    "            merge!(outputDict,Dict('o' => ulbBinArray))\n",
    "            merge!(outputDict,Dict('p' => uubBinArray))\n",
    "            \n",
    "        end\n",
    "        \n",
    "        # if MPCC is used for solving const. MPC\n",
    "        if option == 3\n",
    "            muArray = value.(mu_g)\n",
    "            \n",
    "            merge!(outputDict,Dict('μ'=> muArray))\n",
    "        end\n",
    "        \n",
    "        return outputDict\n",
    "    else\n",
    "        #i.e. no feasible solution --> Add feasibility cut\n",
    "        #display(\"Feasibility cut: scenario $(scen)\")        \n",
    "\n",
    "        # ! soft bounds on ysp\n",
    "        delete_lower_bound.(ysp[1:pD])\n",
    "        delete_upper_bound.(ysp[1:pD])\n",
    "        \n",
    "        # ! soft bounds on y\n",
    "        #delete_lower_bound.(yDRTO[1:pD])\n",
    "        \n",
    "        if option != 1\n",
    "            # ! soft bounds on mu\n",
    "            delete_lower_bound.(mu_g[1:mD,1:m])\n",
    "            \n",
    "            # ! soft bounds on u\n",
    "            for kk in 1:mD\n",
    "                for uu in 1:m\n",
    "                    delete(sub, MPC_c_upper[kk,uu])\n",
    "                    delete(sub, MPC_c_lower[kk,uu])\n",
    "                end\n",
    "            end\n",
    "        end\n",
    "        \n",
    "        ####################\n",
    "        # Set up variables #\n",
    "        ####################         \n",
    "        @variable(sub, delta_ysp_u[1:pD] ≥ 0.0)\n",
    "        @variable(sub, delta_ysp_l[1:pD] ≥ 0.0)\n",
    "        \n",
    "        #@variable(sub, delta_y_l[1:pD] ≥ 0.0)\n",
    "        \n",
    "        if option == 2 || option == 3\n",
    "            @variable(sub, delta_mu[1:mD,1:m] ≥ 0.0)\n",
    "            \n",
    "            # slacks\n",
    "            @variable(sub, delta_u_u[1:mD,1:m] ≥ 0.0)\n",
    "            @variable(sub, delta_u_l[1:mD,1:m] ≥ 0.0)\n",
    "\n",
    "        end\n",
    "        \n",
    "        ###########################\n",
    "        # Always-feasible problem #\n",
    "        ###########################        \n",
    "        @constraint(sub, soft_ysp_upper[kk=1:pD], ysp[kk] - (yspMax - y0) ≤ delta_ysp_u[kk])\n",
    "        @constraint(sub, soft_ysp_lower[kk=1:pD], (yspMin - y0) - ysp[kk] ≤ delta_ysp_l[kk])\n",
    "        \n",
    "        #@constraint(sub, soft_y_lower[kk=1:pD], (0 - y0) - yDRTO[kk] ≤ delta_y_l[kk])\n",
    "\n",
    "        # adding a constraint to guarantee that mu is always feasible        \n",
    "        if option == 2 || option == 3\n",
    "            @constraint(sub, soft_MPC_mu_upper[kk=1:mD,uu=1:m], -mu_g[kk,uu] ≤ delta_mu[kk,uu])\n",
    "            \n",
    "            # adding a constraint to guarantee feasibility\n",
    "            @constraint(sub, soft_u_upper[kk=1:mD,uu=1:m], u[kk,uu] - (uMax - u0) ≤ delta_u_u[kk,uu])\n",
    "            @constraint(sub, soft_u_lower[kk=1:mD,uu=1:m], (uMin - u0) - u[kk,uu] ≤ delta_u_l[kk,uu])\n",
    "        end\n",
    "        \n",
    "       #############################\n",
    "        # Set up objective function #\n",
    "        #############################\n",
    "        # Modifying the objective --> call @objective with the new objective function.\n",
    "        # minimizing constraint violation - l1 penalty!\n",
    "        if option == 2 || option == 3\n",
    "            @objective(sub, Min, sum(delta_p[kk] + delta_ysp_u[kk] + delta_ysp_l[kk] for kk in 1:pD)\n",
    "                    + sum(sum(delta_mu[kk,uu] + delta_u_u[kk,uu] + delta_u_l[kk,uu] for uu in 1:m) for kk in 1:mD))\n",
    "        else\n",
    "            @objective(sub, Min, sum(delta_p[kk] + delta_ysp_u[kk] + delta_ysp_l[kk] for kk in 1:pD))\n",
    "        end\n",
    "        \n",
    "        #@show sub\n",
    "        #set_optimizer_attribute(sub, \"CPX_PARAM_BARALG\", 1)\n",
    "\n",
    "        # re-optimizing (now using the always feasible problem)\n",
    "        optimize!(sub)\n",
    "        \n",
    "        # solution time (adding time to solve the always feasible subproblem)\n",
    "        timeSol = timeSol + solve_time(sub)\n",
    "        \n",
    "        # checking status of the solution\n",
    "        status_sub = termination_status(sub)\n",
    "        \n",
    "        # flag for calling feasibility cuts (not optimality cuts)\n",
    "        flag = 0\n",
    "        \n",
    "        #calling values of the solved problem\n",
    "        uArray = value.(u)\n",
    "        yspArray = value.(ysp)\n",
    "        yDRTOArray = value.(yDRTO)\n",
    "        yMPCArray = value.(yMPC)\n",
    "        xDRTOArray = value.(xDRTO)\n",
    "        xMPCArray = value.(xMPC)\n",
    "    \n",
    "        # objective function of the feasibility problem\n",
    "        o = objective_value(sub)\n",
    "        \n",
    "        # lagrange multipliers associated with the nonantecipativity constraints and binaries from master problem\n",
    "        λ = dual.(nonAnt)\n",
    "        \n",
    "        outputDict = Dict('ϕ' => o,\n",
    "                        't' => timeSol,\n",
    "                        'f' => flag, \n",
    "                        'a' => status_sub,\n",
    "                        'u' => uArray,\n",
    "                        's' => yspArray,\n",
    "                        'x' => xDRTOArray,\n",
    "                        'y' => yDRTOArray, \n",
    "                        'm' => xMPCArray,\n",
    "                        'c' => yMPCArray,\n",
    "                        'λ' => λ)\n",
    "        \n",
    "         if option == 2 || option == 3\n",
    "            muArray = value.(mu_g)\n",
    "            merge!(outputDict,Dict('μ'=> muArray))\n",
    "        end\n",
    "        \n",
    "        return outputDict\n",
    "    end\n",
    "end;"
   ]
  },
  {
   "cell_type": "markdown",
   "id": "1690f637",
   "metadata": {},
   "source": [
    "Modeling Bender's Decomposition"
   ]
  },
  {
   "cell_type": "code",
   "execution_count": 12,
   "id": "418c3ed4",
   "metadata": {},
   "outputs": [],
   "source": [
    "# max number of iteration\n",
    "benIterMax = 50\n",
    "\n",
    "# optimality gap (relative) tolerance\n",
    "optGap = 1e-3; # UNC/BIN: 0.001 | MPCC: 0.5"
   ]
  },
  {
   "cell_type": "code",
   "execution_count": 13,
   "id": "6550488c",
   "metadata": {},
   "outputs": [],
   "source": [
    "## Modeling Benders Decompostion\n",
    "function BENS_CLDRTO(xInit,uInit,nReac,nScen,pScen,solNom,option)\n",
    "    \n",
    "    # flag for checking if last cut was opt. (1) or feas. (0)\n",
    "    flagO = 1\n",
    "    \n",
    "    # timing solution via Benders\n",
    "    timeSolBen = 0 \n",
    "    # timing solution via parallel Benders\n",
    "    timeSolParBen = 0 \n",
    "    \n",
    "    # Define master problem model\n",
    "    master = Model(CPLEX.Optimizer)\n",
    "    set_silent(master)\n",
    "    \n",
    "    #lower bound on scenario objective function approximation \n",
    "    alpha_down = 0.0;\n",
    "    \n",
    "    ####################\n",
    "    # Set up variables #\n",
    "    ####################\n",
    "    @variable(master,  (yspMin - y0) <= ysp[1:nDRTO] <=  (yspMax - y0))     \n",
    "    @variable(master, α ≥ alpha_down)\n",
    "    \n",
    "    ########################\n",
    "    # Set up initial guess #\n",
    "    ########################\n",
    "    if solNom isa Dict\n",
    "        for ii in 1:nDRTO\n",
    "            set_start_value(ysp[ii], solNom['s'][ii,1])\n",
    "        end \n",
    "    end \n",
    " \n",
    "    ################################################\n",
    "    # Solving problem with benders' decomposition  #\n",
    "    ################################################\n",
    "    for ii in 1:benIterMax\n",
    "           \n",
    "        #############################\n",
    "        # Set up objective function #\n",
    "        #############################\n",
    "        if flagO == 1 \n",
    "            # last cut was an optimality cut\n",
    "            # standard OF\n",
    "            @objective(master, Min, α)\n",
    "        else\n",
    "            # last cut was a feasibility cut\n",
    "            # \"nudge\" next solution towards nominal solution \n",
    "            @objective(master, Min, α + 0*sum((ysp[kk] - solNom['s'][kk,1])^2 for kk in 1:nDRTO))\n",
    "        end\n",
    "        \n",
    "            # solve master problem (with Benders' cut)\n",
    "            optimize!(master)\n",
    "\n",
    "            # solution time\n",
    "            timeSolMaster = solve_time(master)\n",
    "            # Master problem solution: lower bound of the original problem\n",
    "            lb = objective_value(master)\n",
    "            #display(lb)\n",
    "\n",
    "            # extracting solution for the non-anticipativity constraints\n",
    "            ysp_nonⁱ = value.(ysp)\n",
    "            #display(ysp_nonⁱ)\n",
    "\n",
    "        timeSolBen = timeSolBen + timeSolMaster\n",
    "        timeSolParBen = timeSolParBen + timeSolMaster # master cannot be paralellized \n",
    "\n",
    "        #######################\n",
    "        # Solving subproblems #\n",
    "        #######################\n",
    "        # objective function\n",
    "        o_temp = Vector{Float64}(undef,nScen)\n",
    "        # flag optimality / feasibility\n",
    "        flag_temp = Vector{Float64}(undef,nScen)\n",
    "        # solution time\n",
    "        solTime_temp = Vector{Float64}(undef,nScen)\n",
    "        # multipliers\n",
    "        lambdaN_temp = Matrix{Float64}(undef,nDRTO,nScen) \n",
    "        \n",
    "        for ss in 1:nScen\n",
    "            dicTemp = subp(xInit,uInit,ysp_nonⁱ,nReac,ss,pScen,solNom,option)\n",
    "           \n",
    "            # saving files\n",
    "            # objective function\n",
    "            o_temp[ss] = dicTemp['ϕ']\n",
    "            # solution time\n",
    "            solTime_temp[ss] = dicTemp['t']\n",
    "            # optimality / feasibility flag\n",
    "            flag_temp[ss] = dicTemp['f']\n",
    "            # multiplier\n",
    "            for kk in 1:nDRTO\n",
    "                lambdaN_temp[kk,ss] = dicTemp['λ'][kk]\n",
    "            end\n",
    "            \n",
    "        end\n",
    "        \n",
    "        ##########################################################\n",
    "        # If all subproblems were feasible, check optimality gap #\n",
    "        ##########################################################\n",
    "        if sum(flag_temp) == nScen \n",
    "            # Subproblem solution: upper bound of the original problem\n",
    "            ub = sum(o_temp)\n",
    "\n",
    "            # solve subproblems to find the upper bound of the original problem solution \n",
    "            timeSolBen = timeSolBen + sum(solTime_temp)\n",
    "\n",
    "            # assuming that subproblem solution is parallelized\n",
    "            timeSolParBen = timeSolParBen + maximum(solTime_temp)   \n",
    "            \n",
    "            # compute optimality gap\n",
    "            gap = abs(ub - lb)/abs(ub)\n",
    "            display(\"DB: opt gap = $(gap)\")\n",
    "\n",
    "            # check if optimality gap is small enough\n",
    "            # also, make sure last cut was an optimality cut due to change in OF \n",
    "            if gap < optGap && flagO == 1\n",
    "                global yspSol_dec = ysp_nonⁱ\n",
    "                global objFun_dec = ub\n",
    "                global optGap_dec = gap\n",
    "                global iter_dec = ii\n",
    "                global time_dec = timeSolBen\n",
    "                global time_max_dec = timeSolParBen\n",
    "                break\n",
    "            else # gap ≥ optGap \n",
    "                ##############################\n",
    "                # --> adding optimality cuts #\n",
    "                ##############################\n",
    "                display(\">>>>>> iteration $(ii):O\")\n",
    "                benderscutO = @constraint(master, α ≥ ub + \n",
    "                    sum(sum(lambdaN_temp[jj,ss] for ss in 1:nScen)*(ysp[jj] - ysp_nonⁱ[jj]) for jj in 1:nDRTO))\n",
    "                #@info \"we are adding this bender optimality cut $(benderscutO)\"\n",
    "                \n",
    "                # optimality cut was add\n",
    "                flagO = 1\n",
    "            \n",
    "            end # if gap\n",
    "        else # sum(flag_temp) != nScen\n",
    "            ###############################\n",
    "            # --> adding feasibility cuts #\n",
    "            ###############################\n",
    "            display(\">>>>>> iteration $(ii):F\")\n",
    "\n",
    "            benderscutF = @constraint(master, 0 ≥\n",
    "                sum(sum(lambdaN_temp[jj,ss] for ss in 1:nScen)*(ysp[jj] - ysp_nonⁱ[jj]) for jj in 1:nDRTO))\n",
    "            #@info \"we are adding this bender feasibility cut $(benderscutF)\"\n",
    "            \n",
    "            # feasibility cut was add\n",
    "            flagO = 0\n",
    "            \n",
    "        end # if nScen\n",
    "        \n",
    "        # checking if number of iterations reached max \n",
    "        if ii >= benIterMax\n",
    "            global yspSol_dec = [NaN for kk=1:nDRTO]\n",
    "            global objFun_dec = NaN\n",
    "            global optGap_dec = NaN\n",
    "            global iter_dec = benIterMax\n",
    "            global time_dec = timeSolBen\n",
    "            global time_max_dec = timeSolParBen\n",
    "        end # if < benIterMax\n",
    "    end # if for benders iterations\n",
    "    \n",
    "    #####################\n",
    "    # Extracting values #\n",
    "    #####################\n",
    "    if isnan(objFun_dec)\n",
    "        \n",
    "        outputFun = Dict('t' => time_dec,\n",
    "                         'ϕ' => objFun_dec,\n",
    "                         'm' => time_max_dec, \n",
    "                         'i' => iter_dec,\n",
    "                         'd' => yspSol_dec,\n",
    "                         'g' => optGap_dec)\n",
    "                        \n",
    "        \n",
    "        return outputFun\n",
    "        \n",
    "    else\n",
    "        # recomputing values\n",
    "        uArray = [subp(xInit,uInit,yspSol_dec,nReac,ss,pScen,solNom,option)['u']' for ss in 1:nScen]\n",
    "        yArray = [subp(xInit,uInit,yspSol_dec,nReac,ss,pScen,solNom,option)['y']' for ss in 1:nScen] \n",
    "        yspArray = [subp(xInit,uInit,yspSol_dec,nReac,ss,pScen,solNom,option)['s']' for ss in 1:nScen]\n",
    "\n",
    "        #calling values of the solved problem\n",
    "        return Dict('ϕ' => objFun_dec, \n",
    "                    'd' => yspSol_dec, \n",
    "                    't' => time_dec,\n",
    "                    'm' => time_max_dec, \n",
    "                    'i' => iter_dec,\n",
    "                    'g' => optGap_dec,\n",
    "                    'u' => uArray, \n",
    "                    'y' => yArray, \n",
    "                    's' => yspArray)\n",
    "    end     \n",
    "end;"
   ]
  },
  {
   "cell_type": "markdown",
   "id": "b10e389c",
   "metadata": {},
   "source": [
    "# Checking the performance of the methods in terms of time vs. nReac"
   ]
  },
  {
   "cell_type": "code",
   "execution_count": 21,
   "id": "9a96c8bd",
   "metadata": {},
   "outputs": [
    {
     "data": {
      "text/plain": [
       "\"evaluating 1 reactors in parallel | option 3\""
      ]
     },
     "metadata": {},
     "output_type": "display_data"
    },
    {
     "data": {
      "text/plain": [
       "\"DB: opt gap = 1.0\""
      ]
     },
     "metadata": {},
     "output_type": "display_data"
    },
    {
     "data": {
      "text/plain": [
       "\">>>>>> iteration 1:O\""
      ]
     },
     "metadata": {},
     "output_type": "display_data"
    },
    {
     "data": {
      "text/plain": [
       "\"DB: opt gap = 1.0\""
      ]
     },
     "metadata": {},
     "output_type": "display_data"
    },
    {
     "data": {
      "text/plain": [
       "\">>>>>> iteration 2:O\""
      ]
     },
     "metadata": {},
     "output_type": "display_data"
    },
    {
     "data": {
      "text/plain": [
       "\"DB: opt gap = 1.0\""
      ]
     },
     "metadata": {},
     "output_type": "display_data"
    },
    {
     "data": {
      "text/plain": [
       "\">>>>>> iteration 3:O\""
      ]
     },
     "metadata": {},
     "output_type": "display_data"
    },
    {
     "data": {
      "text/plain": [
       "\"DB: opt gap = 1.0\""
      ]
     },
     "metadata": {},
     "output_type": "display_data"
    },
    {
     "data": {
      "text/plain": [
       "\">>>>>> iteration 4:O\""
      ]
     },
     "metadata": {},
     "output_type": "display_data"
    },
    {
     "data": {
      "text/plain": [
       "\"DB: opt gap = 1.0\""
      ]
     },
     "metadata": {},
     "output_type": "display_data"
    },
    {
     "data": {
      "text/plain": [
       "\">>>>>> iteration 5:O\""
      ]
     },
     "metadata": {},
     "output_type": "display_data"
    },
    {
     "data": {
      "text/plain": [
       "\"DB: opt gap = 1.0\""
      ]
     },
     "metadata": {},
     "output_type": "display_data"
    },
    {
     "data": {
      "text/plain": [
       "\">>>>>> iteration 6:O\""
      ]
     },
     "metadata": {},
     "output_type": "display_data"
    },
    {
     "data": {
      "text/plain": [
       "\"DB: opt gap = 1.0\""
      ]
     },
     "metadata": {},
     "output_type": "display_data"
    },
    {
     "data": {
      "text/plain": [
       "\">>>>>> iteration 7:O\""
      ]
     },
     "metadata": {},
     "output_type": "display_data"
    },
    {
     "data": {
      "text/plain": [
       "\"DB: opt gap = 1.0\""
      ]
     },
     "metadata": {},
     "output_type": "display_data"
    },
    {
     "data": {
      "text/plain": [
       "\">>>>>> iteration 8:O\""
      ]
     },
     "metadata": {},
     "output_type": "display_data"
    },
    {
     "data": {
      "text/plain": [
       "\"DB: opt gap = 1.0\""
      ]
     },
     "metadata": {},
     "output_type": "display_data"
    },
    {
     "data": {
      "text/plain": [
       "\">>>>>> iteration 9:O\""
      ]
     },
     "metadata": {},
     "output_type": "display_data"
    },
    {
     "data": {
      "text/plain": [
       "\"DB: opt gap = 0.6660046697745527\""
      ]
     },
     "metadata": {},
     "output_type": "display_data"
    },
    {
     "data": {
      "text/plain": [
       "\">>>>>> iteration 10:O\""
      ]
     },
     "metadata": {},
     "output_type": "display_data"
    },
    {
     "data": {
      "text/plain": [
       "\"DB: opt gap = 0.4387585027436985\""
      ]
     },
     "metadata": {},
     "output_type": "display_data"
    },
    {
     "data": {
      "text/plain": [
       "\">>>>>> iteration 11:O\""
      ]
     },
     "metadata": {},
     "output_type": "display_data"
    },
    {
     "data": {
      "text/plain": [
       "\"DB: opt gap = 0.4329185480002415\""
      ]
     },
     "metadata": {},
     "output_type": "display_data"
    },
    {
     "data": {
      "text/plain": [
       "\">>>>>> iteration 12:O\""
      ]
     },
     "metadata": {},
     "output_type": "display_data"
    },
    {
     "data": {
      "text/plain": [
       "\"DB: opt gap = 0.4243454459648855\""
      ]
     },
     "metadata": {},
     "output_type": "display_data"
    },
    {
     "data": {
      "text/plain": [
       "\">>>>>> iteration 13:O\""
      ]
     },
     "metadata": {},
     "output_type": "display_data"
    },
    {
     "data": {
      "text/plain": [
       "\"DB: opt gap = 0.4037563089997176\""
      ]
     },
     "metadata": {},
     "output_type": "display_data"
    },
    {
     "data": {
      "text/plain": [
       "\">>>>>> iteration 14:O\""
      ]
     },
     "metadata": {},
     "output_type": "display_data"
    },
    {
     "data": {
      "text/plain": [
       "\"DB: opt gap = 0.02329566631598731\""
      ]
     },
     "metadata": {},
     "output_type": "display_data"
    },
    {
     "data": {
      "text/plain": [
       "\">>>>>> iteration 15:O\""
      ]
     },
     "metadata": {},
     "output_type": "display_data"
    },
    {
     "data": {
      "text/plain": [
       "\"DB: opt gap = 0.023210300676482245\""
      ]
     },
     "metadata": {},
     "output_type": "display_data"
    },
    {
     "data": {
      "text/plain": [
       "\">>>>>> iteration 16:O\""
      ]
     },
     "metadata": {},
     "output_type": "display_data"
    },
    {
     "data": {
      "text/plain": [
       "\"DB: opt gap = 1.4323476546604583e-5\""
      ]
     },
     "metadata": {},
     "output_type": "display_data"
    },
    {
     "data": {
      "text/plain": [
       "\"evaluating 2 reactors in parallel | option 3\""
      ]
     },
     "metadata": {},
     "output_type": "display_data"
    },
    {
     "data": {
      "text/plain": [
       "\"DB: opt gap = 1.0\""
      ]
     },
     "metadata": {},
     "output_type": "display_data"
    },
    {
     "data": {
      "text/plain": [
       "\">>>>>> iteration 1:O\""
      ]
     },
     "metadata": {},
     "output_type": "display_data"
    },
    {
     "data": {
      "text/plain": [
       "\"DB: opt gap = 1.0\""
      ]
     },
     "metadata": {},
     "output_type": "display_data"
    },
    {
     "data": {
      "text/plain": [
       "\">>>>>> iteration 2:O\""
      ]
     },
     "metadata": {},
     "output_type": "display_data"
    },
    {
     "data": {
      "text/plain": [
       "\"DB: opt gap = 1.0\""
      ]
     },
     "metadata": {},
     "output_type": "display_data"
    },
    {
     "data": {
      "text/plain": [
       "\">>>>>> iteration 3:O\""
      ]
     },
     "metadata": {},
     "output_type": "display_data"
    },
    {
     "data": {
      "text/plain": [
       "\"DB: opt gap = 1.0\""
      ]
     },
     "metadata": {},
     "output_type": "display_data"
    },
    {
     "data": {
      "text/plain": [
       "\">>>>>> iteration 4:O\""
      ]
     },
     "metadata": {},
     "output_type": "display_data"
    },
    {
     "data": {
      "text/plain": [
       "\"DB: opt gap = 1.0\""
      ]
     },
     "metadata": {},
     "output_type": "display_data"
    },
    {
     "data": {
      "text/plain": [
       "\">>>>>> iteration 5:O\""
      ]
     },
     "metadata": {},
     "output_type": "display_data"
    },
    {
     "data": {
      "text/plain": [
       "\"DB: opt gap = 1.0\""
      ]
     },
     "metadata": {},
     "output_type": "display_data"
    },
    {
     "data": {
      "text/plain": [
       "\">>>>>> iteration 6:O\""
      ]
     },
     "metadata": {},
     "output_type": "display_data"
    },
    {
     "data": {
      "text/plain": [
       "\"DB: opt gap = 1.0\""
      ]
     },
     "metadata": {},
     "output_type": "display_data"
    },
    {
     "data": {
      "text/plain": [
       "\">>>>>> iteration 7:O\""
      ]
     },
     "metadata": {},
     "output_type": "display_data"
    },
    {
     "data": {
      "text/plain": [
       "\"DB: opt gap = 0.7554323068576974\""
      ]
     },
     "metadata": {},
     "output_type": "display_data"
    },
    {
     "data": {
      "text/plain": [
       "\">>>>>> iteration 8:O\""
      ]
     },
     "metadata": {},
     "output_type": "display_data"
    },
    {
     "data": {
      "text/plain": [
       "\"DB: opt gap = 0.6925474638168679\""
      ]
     },
     "metadata": {},
     "output_type": "display_data"
    },
    {
     "data": {
      "text/plain": [
       "\">>>>>> iteration 9:O\""
      ]
     },
     "metadata": {},
     "output_type": "display_data"
    },
    {
     "data": {
      "text/plain": [
       "\"DB: opt gap = 0.08034572300960312\""
      ]
     },
     "metadata": {},
     "output_type": "display_data"
    },
    {
     "data": {
      "text/plain": [
       "\">>>>>> iteration 10:O\""
      ]
     },
     "metadata": {},
     "output_type": "display_data"
    },
    {
     "data": {
      "text/plain": [
       "\"DB: opt gap = 0.07975740502098738\""
      ]
     },
     "metadata": {},
     "output_type": "display_data"
    },
    {
     "data": {
      "text/plain": [
       "\">>>>>> iteration 11:O\""
      ]
     },
     "metadata": {},
     "output_type": "display_data"
    },
    {
     "data": {
      "text/plain": [
       "\"DB: opt gap = 0.07871933819919692\""
      ]
     },
     "metadata": {},
     "output_type": "display_data"
    },
    {
     "data": {
      "text/plain": [
       "\">>>>>> iteration 12:O\""
      ]
     },
     "metadata": {},
     "output_type": "display_data"
    },
    {
     "data": {
      "text/plain": [
       "\"DB: opt gap = 0.0781569100943126\""
      ]
     },
     "metadata": {},
     "output_type": "display_data"
    },
    {
     "data": {
      "text/plain": [
       "\">>>>>> iteration 13:O\""
      ]
     },
     "metadata": {},
     "output_type": "display_data"
    },
    {
     "data": {
      "text/plain": [
       "\"DB: opt gap = 0.00010949380684728937\""
      ]
     },
     "metadata": {},
     "output_type": "display_data"
    },
    {
     "data": {
      "text/plain": [
       "\"evaluating 3 reactors in parallel | option 3\""
      ]
     },
     "metadata": {},
     "output_type": "display_data"
    },
    {
     "data": {
      "text/plain": [
       "\"DB: opt gap = 1.0\""
      ]
     },
     "metadata": {},
     "output_type": "display_data"
    },
    {
     "data": {
      "text/plain": [
       "\">>>>>> iteration 1:O\""
      ]
     },
     "metadata": {},
     "output_type": "display_data"
    },
    {
     "data": {
      "text/plain": [
       "\"DB: opt gap = 1.0\""
      ]
     },
     "metadata": {},
     "output_type": "display_data"
    },
    {
     "data": {
      "text/plain": [
       "\">>>>>> iteration 2:O\""
      ]
     },
     "metadata": {},
     "output_type": "display_data"
    },
    {
     "data": {
      "text/plain": [
       "\"DB: opt gap = 1.0\""
      ]
     },
     "metadata": {},
     "output_type": "display_data"
    },
    {
     "data": {
      "text/plain": [
       "\">>>>>> iteration 3:O\""
      ]
     },
     "metadata": {},
     "output_type": "display_data"
    },
    {
     "data": {
      "text/plain": [
       "\"DB: opt gap = 1.0\""
      ]
     },
     "metadata": {},
     "output_type": "display_data"
    },
    {
     "data": {
      "text/plain": [
       "\">>>>>> iteration 4:O\""
      ]
     },
     "metadata": {},
     "output_type": "display_data"
    },
    {
     "data": {
      "text/plain": [
       "\"DB: opt gap = 1.0\""
      ]
     },
     "metadata": {},
     "output_type": "display_data"
    },
    {
     "data": {
      "text/plain": [
       "\">>>>>> iteration 5:O\""
      ]
     },
     "metadata": {},
     "output_type": "display_data"
    },
    {
     "data": {
      "text/plain": [
       "\"DB: opt gap = 1.0\""
      ]
     },
     "metadata": {},
     "output_type": "display_data"
    },
    {
     "data": {
      "text/plain": [
       "\">>>>>> iteration 6:O\""
      ]
     },
     "metadata": {},
     "output_type": "display_data"
    },
    {
     "data": {
      "text/plain": [
       "\"DB: opt gap = 1.0\""
      ]
     },
     "metadata": {},
     "output_type": "display_data"
    },
    {
     "data": {
      "text/plain": [
       "\">>>>>> iteration 7:O\""
      ]
     },
     "metadata": {},
     "output_type": "display_data"
    },
    {
     "data": {
      "text/plain": [
       "\"DB: opt gap = 0.7384747334040052\""
      ]
     },
     "metadata": {},
     "output_type": "display_data"
    },
    {
     "data": {
      "text/plain": [
       "\">>>>>> iteration 8:O\""
      ]
     },
     "metadata": {},
     "output_type": "display_data"
    },
    {
     "data": {
      "text/plain": [
       "\"DB: opt gap = 0.7113381651358849\""
      ]
     },
     "metadata": {},
     "output_type": "display_data"
    },
    {
     "data": {
      "text/plain": [
       "\">>>>>> iteration 9:O\""
      ]
     },
     "metadata": {},
     "output_type": "display_data"
    },
    {
     "data": {
      "text/plain": [
       "\"DB: opt gap = 0.06963437490556962\""
      ]
     },
     "metadata": {},
     "output_type": "display_data"
    },
    {
     "data": {
      "text/plain": [
       "\">>>>>> iteration 10:O\""
      ]
     },
     "metadata": {},
     "output_type": "display_data"
    },
    {
     "data": {
      "text/plain": [
       "\"DB: opt gap = 0.06898208266096006\""
      ]
     },
     "metadata": {},
     "output_type": "display_data"
    },
    {
     "data": {
      "text/plain": [
       "\">>>>>> iteration 11:O\""
      ]
     },
     "metadata": {},
     "output_type": "display_data"
    },
    {
     "data": {
      "text/plain": [
       "\"DB: opt gap = 0.06759154439036666\""
      ]
     },
     "metadata": {},
     "output_type": "display_data"
    },
    {
     "data": {
      "text/plain": [
       "\">>>>>> iteration 12:O\""
      ]
     },
     "metadata": {},
     "output_type": "display_data"
    },
    {
     "data": {
      "text/plain": [
       "\"DB: opt gap = 0.06714553897313494\""
      ]
     },
     "metadata": {},
     "output_type": "display_data"
    },
    {
     "data": {
      "text/plain": [
       "\">>>>>> iteration 13:O\""
      ]
     },
     "metadata": {},
     "output_type": "display_data"
    },
    {
     "data": {
      "text/plain": [
       "\"DB: opt gap = 8.796579388926589e-5\""
      ]
     },
     "metadata": {},
     "output_type": "display_data"
    },
    {
     "data": {
      "text/plain": [
       "\"evaluating 4 reactors in parallel | option 3\""
      ]
     },
     "metadata": {},
     "output_type": "display_data"
    },
    {
     "data": {
      "text/plain": [
       "\"DB: opt gap = 1.0\""
      ]
     },
     "metadata": {},
     "output_type": "display_data"
    },
    {
     "data": {
      "text/plain": [
       "\">>>>>> iteration 1:O\""
      ]
     },
     "metadata": {},
     "output_type": "display_data"
    },
    {
     "data": {
      "text/plain": [
       "\"DB: opt gap = 1.0\""
      ]
     },
     "metadata": {},
     "output_type": "display_data"
    },
    {
     "data": {
      "text/plain": [
       "\">>>>>> iteration 2:O\""
      ]
     },
     "metadata": {},
     "output_type": "display_data"
    },
    {
     "data": {
      "text/plain": [
       "\"DB: opt gap = 1.0\""
      ]
     },
     "metadata": {},
     "output_type": "display_data"
    },
    {
     "data": {
      "text/plain": [
       "\">>>>>> iteration 3:O\""
      ]
     },
     "metadata": {},
     "output_type": "display_data"
    },
    {
     "data": {
      "text/plain": [
       "\"DB: opt gap = 1.0\""
      ]
     },
     "metadata": {},
     "output_type": "display_data"
    },
    {
     "data": {
      "text/plain": [
       "\">>>>>> iteration 4:O\""
      ]
     },
     "metadata": {},
     "output_type": "display_data"
    },
    {
     "data": {
      "text/plain": [
       "\"DB: opt gap = 1.0\""
      ]
     },
     "metadata": {},
     "output_type": "display_data"
    },
    {
     "data": {
      "text/plain": [
       "\">>>>>> iteration 5:O\""
      ]
     },
     "metadata": {},
     "output_type": "display_data"
    },
    {
     "data": {
      "text/plain": [
       "\"DB: opt gap = 1.0\""
      ]
     },
     "metadata": {},
     "output_type": "display_data"
    },
    {
     "data": {
      "text/plain": [
       "\">>>>>> iteration 6:O\""
      ]
     },
     "metadata": {},
     "output_type": "display_data"
    },
    {
     "data": {
      "text/plain": [
       "\"DB: opt gap = 1.0\""
      ]
     },
     "metadata": {},
     "output_type": "display_data"
    },
    {
     "data": {
      "text/plain": [
       "\">>>>>> iteration 7:O\""
      ]
     },
     "metadata": {},
     "output_type": "display_data"
    },
    {
     "data": {
      "text/plain": [
       "\"DB: opt gap = 1.0\""
      ]
     },
     "metadata": {},
     "output_type": "display_data"
    },
    {
     "data": {
      "text/plain": [
       "\">>>>>> iteration 8:O\""
      ]
     },
     "metadata": {},
     "output_type": "display_data"
    },
    {
     "data": {
      "text/plain": [
       "\"DB: opt gap = 1.0\""
      ]
     },
     "metadata": {},
     "output_type": "display_data"
    },
    {
     "data": {
      "text/plain": [
       "\">>>>>> iteration 9:O\""
      ]
     },
     "metadata": {},
     "output_type": "display_data"
    },
    {
     "data": {
      "text/plain": [
       "\"DB: opt gap = 0.9759011113069928\""
      ]
     },
     "metadata": {},
     "output_type": "display_data"
    },
    {
     "data": {
      "text/plain": [
       "\">>>>>> iteration 10:O\""
      ]
     },
     "metadata": {},
     "output_type": "display_data"
    },
    {
     "data": {
      "text/plain": [
       "\"DB: opt gap = 0.8329330150814624\""
      ]
     },
     "metadata": {},
     "output_type": "display_data"
    },
    {
     "data": {
      "text/plain": [
       "\">>>>>> iteration 11:O\""
      ]
     },
     "metadata": {},
     "output_type": "display_data"
    },
    {
     "data": {
      "text/plain": [
       "\"DB: opt gap = 0.05678705399024397\""
      ]
     },
     "metadata": {},
     "output_type": "display_data"
    },
    {
     "data": {
      "text/plain": [
       "\">>>>>> iteration 12:O\""
      ]
     },
     "metadata": {},
     "output_type": "display_data"
    },
    {
     "data": {
      "text/plain": [
       "\"DB: opt gap = 0.0564390005065598\""
      ]
     },
     "metadata": {},
     "output_type": "display_data"
    },
    {
     "data": {
      "text/plain": [
       "\">>>>>> iteration 13:O\""
      ]
     },
     "metadata": {},
     "output_type": "display_data"
    },
    {
     "data": {
      "text/plain": [
       "\"DB: opt gap = 4.931701263316706e-5\""
      ]
     },
     "metadata": {},
     "output_type": "display_data"
    },
    {
     "data": {
      "text/plain": [
       "\"evaluating 5 reactors in parallel | option 3\""
      ]
     },
     "metadata": {},
     "output_type": "display_data"
    },
    {
     "data": {
      "text/plain": [
       "\"DB: opt gap = 1.0\""
      ]
     },
     "metadata": {},
     "output_type": "display_data"
    },
    {
     "data": {
      "text/plain": [
       "\">>>>>> iteration 1:O\""
      ]
     },
     "metadata": {},
     "output_type": "display_data"
    },
    {
     "data": {
      "text/plain": [
       "\"DB: opt gap = 1.0\""
      ]
     },
     "metadata": {},
     "output_type": "display_data"
    },
    {
     "data": {
      "text/plain": [
       "\">>>>>> iteration 2:O\""
      ]
     },
     "metadata": {},
     "output_type": "display_data"
    },
    {
     "data": {
      "text/plain": [
       "\"DB: opt gap = 1.0\""
      ]
     },
     "metadata": {},
     "output_type": "display_data"
    },
    {
     "data": {
      "text/plain": [
       "\">>>>>> iteration 3:O\""
      ]
     },
     "metadata": {},
     "output_type": "display_data"
    },
    {
     "data": {
      "text/plain": [
       "\"DB: opt gap = 1.0\""
      ]
     },
     "metadata": {},
     "output_type": "display_data"
    },
    {
     "data": {
      "text/plain": [
       "\">>>>>> iteration 4:O\""
      ]
     },
     "metadata": {},
     "output_type": "display_data"
    },
    {
     "data": {
      "text/plain": [
       "\"DB: opt gap = 1.0\""
      ]
     },
     "metadata": {},
     "output_type": "display_data"
    },
    {
     "data": {
      "text/plain": [
       "\">>>>>> iteration 5:O\""
      ]
     },
     "metadata": {},
     "output_type": "display_data"
    },
    {
     "data": {
      "text/plain": [
       "\"DB: opt gap = 1.0\""
      ]
     },
     "metadata": {},
     "output_type": "display_data"
    },
    {
     "data": {
      "text/plain": [
       "\">>>>>> iteration 6:O\""
      ]
     },
     "metadata": {},
     "output_type": "display_data"
    },
    {
     "data": {
      "text/plain": [
       "\"DB: opt gap = 1.0\""
      ]
     },
     "metadata": {},
     "output_type": "display_data"
    },
    {
     "data": {
      "text/plain": [
       "\">>>>>> iteration 7:O\""
      ]
     },
     "metadata": {},
     "output_type": "display_data"
    },
    {
     "data": {
      "text/plain": [
       "\"DB: opt gap = 1.0\""
      ]
     },
     "metadata": {},
     "output_type": "display_data"
    },
    {
     "data": {
      "text/plain": [
       "\">>>>>> iteration 8:O\""
      ]
     },
     "metadata": {},
     "output_type": "display_data"
    },
    {
     "data": {
      "text/plain": [
       "\"DB: opt gap = 1.0\""
      ]
     },
     "metadata": {},
     "output_type": "display_data"
    },
    {
     "data": {
      "text/plain": [
       "\">>>>>> iteration 9:O\""
      ]
     },
     "metadata": {},
     "output_type": "display_data"
    },
    {
     "data": {
      "text/plain": [
       "\"DB: opt gap = 1.0\""
      ]
     },
     "metadata": {},
     "output_type": "display_data"
    },
    {
     "data": {
      "text/plain": [
       "\">>>>>> iteration 10:O\""
      ]
     },
     "metadata": {},
     "output_type": "display_data"
    },
    {
     "data": {
      "text/plain": [
       "\"DB: opt gap = 1.0\""
      ]
     },
     "metadata": {},
     "output_type": "display_data"
    },
    {
     "data": {
      "text/plain": [
       "\">>>>>> iteration 11:O\""
      ]
     },
     "metadata": {},
     "output_type": "display_data"
    },
    {
     "data": {
      "text/plain": [
       "\"DB: opt gap = 0.962919365648082\""
      ]
     },
     "metadata": {},
     "output_type": "display_data"
    },
    {
     "data": {
      "text/plain": [
       "\">>>>>> iteration 12:O\""
      ]
     },
     "metadata": {},
     "output_type": "display_data"
    },
    {
     "data": {
      "text/plain": [
       "\"DB: opt gap = 0.8655531764227333\""
      ]
     },
     "metadata": {},
     "output_type": "display_data"
    },
    {
     "data": {
      "text/plain": [
       "\">>>>>> iteration 13:O\""
      ]
     },
     "metadata": {},
     "output_type": "display_data"
    },
    {
     "data": {
      "text/plain": [
       "\"DB: opt gap = 0.8402323971293059\""
      ]
     },
     "metadata": {},
     "output_type": "display_data"
    },
    {
     "data": {
      "text/plain": [
       "\">>>>>> iteration 14:O\""
      ]
     },
     "metadata": {},
     "output_type": "display_data"
    },
    {
     "data": {
      "text/plain": [
       "\"DB: opt gap = 0.04106485287123572\""
      ]
     },
     "metadata": {},
     "output_type": "display_data"
    },
    {
     "data": {
      "text/plain": [
       "\">>>>>> iteration 15:O\""
      ]
     },
     "metadata": {},
     "output_type": "display_data"
    },
    {
     "data": {
      "text/plain": [
       "\"DB: opt gap = 0.04089962867043121\""
      ]
     },
     "metadata": {},
     "output_type": "display_data"
    },
    {
     "data": {
      "text/plain": [
       "\">>>>>> iteration 16:O\""
      ]
     },
     "metadata": {},
     "output_type": "display_data"
    },
    {
     "data": {
      "text/plain": [
       "\"DB: opt gap = 1.9155685544226874e-5\""
      ]
     },
     "metadata": {},
     "output_type": "display_data"
    },
    {
     "data": {
      "text/plain": [
       "\"evaluating 6 reactors in parallel | option 3\""
      ]
     },
     "metadata": {},
     "output_type": "display_data"
    },
    {
     "data": {
      "text/plain": [
       "\"DB: opt gap = 1.0\""
      ]
     },
     "metadata": {},
     "output_type": "display_data"
    },
    {
     "data": {
      "text/plain": [
       "\">>>>>> iteration 1:O\""
      ]
     },
     "metadata": {},
     "output_type": "display_data"
    },
    {
     "data": {
      "text/plain": [
       "\"DB: opt gap = 1.0\""
      ]
     },
     "metadata": {},
     "output_type": "display_data"
    },
    {
     "data": {
      "text/plain": [
       "\">>>>>> iteration 2:O\""
      ]
     },
     "metadata": {},
     "output_type": "display_data"
    },
    {
     "data": {
      "text/plain": [
       "\"DB: opt gap = 1.0\""
      ]
     },
     "metadata": {},
     "output_type": "display_data"
    },
    {
     "data": {
      "text/plain": [
       "\">>>>>> iteration 3:O\""
      ]
     },
     "metadata": {},
     "output_type": "display_data"
    },
    {
     "data": {
      "text/plain": [
       "\"DB: opt gap = 1.0\""
      ]
     },
     "metadata": {},
     "output_type": "display_data"
    },
    {
     "data": {
      "text/plain": [
       "\">>>>>> iteration 4:O\""
      ]
     },
     "metadata": {},
     "output_type": "display_data"
    },
    {
     "data": {
      "text/plain": [
       "\"DB: opt gap = 1.0\""
      ]
     },
     "metadata": {},
     "output_type": "display_data"
    },
    {
     "data": {
      "text/plain": [
       "\">>>>>> iteration 5:O\""
      ]
     },
     "metadata": {},
     "output_type": "display_data"
    },
    {
     "data": {
      "text/plain": [
       "\"DB: opt gap = 1.0\""
      ]
     },
     "metadata": {},
     "output_type": "display_data"
    },
    {
     "data": {
      "text/plain": [
       "\">>>>>> iteration 6:O\""
      ]
     },
     "metadata": {},
     "output_type": "display_data"
    },
    {
     "data": {
      "text/plain": [
       "\"DB: opt gap = 1.0\""
      ]
     },
     "metadata": {},
     "output_type": "display_data"
    },
    {
     "data": {
      "text/plain": [
       "\">>>>>> iteration 7:O\""
      ]
     },
     "metadata": {},
     "output_type": "display_data"
    },
    {
     "data": {
      "text/plain": [
       "\"DB: opt gap = 1.0\""
      ]
     },
     "metadata": {},
     "output_type": "display_data"
    },
    {
     "data": {
      "text/plain": [
       "\">>>>>> iteration 8:O\""
      ]
     },
     "metadata": {},
     "output_type": "display_data"
    },
    {
     "data": {
      "text/plain": [
       "\"DB: opt gap = 1.0\""
      ]
     },
     "metadata": {},
     "output_type": "display_data"
    },
    {
     "data": {
      "text/plain": [
       "\">>>>>> iteration 9:O\""
      ]
     },
     "metadata": {},
     "output_type": "display_data"
    },
    {
     "data": {
      "text/plain": [
       "\"DB: opt gap = 1.0\""
      ]
     },
     "metadata": {},
     "output_type": "display_data"
    },
    {
     "data": {
      "text/plain": [
       "\">>>>>> iteration 10:O\""
      ]
     },
     "metadata": {},
     "output_type": "display_data"
    },
    {
     "data": {
      "text/plain": [
       "\"DB: opt gap = 1.0\""
      ]
     },
     "metadata": {},
     "output_type": "display_data"
    },
    {
     "data": {
      "text/plain": [
       "\">>>>>> iteration 11:O\""
      ]
     },
     "metadata": {},
     "output_type": "display_data"
    },
    {
     "data": {
      "text/plain": [
       "\"DB: opt gap = 0.5831195749976139\""
      ]
     },
     "metadata": {},
     "output_type": "display_data"
    },
    {
     "data": {
      "text/plain": [
       "\">>>>>> iteration 12:O\""
      ]
     },
     "metadata": {},
     "output_type": "display_data"
    },
    {
     "data": {
      "text/plain": [
       "\"DB: opt gap = 0.0019297778952900872\""
      ]
     },
     "metadata": {},
     "output_type": "display_data"
    },
    {
     "data": {
      "text/plain": [
       "\">>>>>> iteration 13:O\""
      ]
     },
     "metadata": {},
     "output_type": "display_data"
    },
    {
     "data": {
      "text/plain": [
       "\"DB: opt gap = 0.001921467625992935\""
      ]
     },
     "metadata": {},
     "output_type": "display_data"
    },
    {
     "data": {
      "text/plain": [
       "\">>>>>> iteration 14:O\""
      ]
     },
     "metadata": {},
     "output_type": "display_data"
    },
    {
     "data": {
      "text/plain": [
       "\"DB: opt gap = 0.0019185219104113523\""
      ]
     },
     "metadata": {},
     "output_type": "display_data"
    },
    {
     "data": {
      "text/plain": [
       "\">>>>>> iteration 15:O\""
      ]
     },
     "metadata": {},
     "output_type": "display_data"
    },
    {
     "data": {
      "text/plain": [
       "\"DB: opt gap = 0.0019079295480547219\""
      ]
     },
     "metadata": {},
     "output_type": "display_data"
    },
    {
     "data": {
      "text/plain": [
       "\">>>>>> iteration 16:O\""
      ]
     },
     "metadata": {},
     "output_type": "display_data"
    },
    {
     "data": {
      "text/plain": [
       "\">>>>>> iteration 17:F\""
      ]
     },
     "metadata": {},
     "output_type": "display_data"
    },
    {
     "data": {
      "text/plain": [
       "\"DB: opt gap = 0.0018999446666829966\""
      ]
     },
     "metadata": {},
     "output_type": "display_data"
    },
    {
     "data": {
      "text/plain": [
       "\">>>>>> iteration 18:O\""
      ]
     },
     "metadata": {},
     "output_type": "display_data"
    },
    {
     "data": {
      "text/plain": [
       "\"DB: opt gap = 0.0018960722712341282\""
      ]
     },
     "metadata": {},
     "output_type": "display_data"
    },
    {
     "data": {
      "text/plain": [
       "\">>>>>> iteration 19:O\""
      ]
     },
     "metadata": {},
     "output_type": "display_data"
    },
    {
     "data": {
      "text/plain": [
       "\"DB: opt gap = 0.0018955868147462536\""
      ]
     },
     "metadata": {},
     "output_type": "display_data"
    },
    {
     "data": {
      "text/plain": [
       "\">>>>>> iteration 20:O\""
      ]
     },
     "metadata": {},
     "output_type": "display_data"
    },
    {
     "data": {
      "text/plain": [
       "\"DB: opt gap = 2.9769842588893316e-7\""
      ]
     },
     "metadata": {},
     "output_type": "display_data"
    },
    {
     "data": {
      "text/plain": [
       "\"evaluating 7 reactors in parallel | option 3\""
      ]
     },
     "metadata": {},
     "output_type": "display_data"
    },
    {
     "data": {
      "text/plain": [
       "\"DB: opt gap = 1.0\""
      ]
     },
     "metadata": {},
     "output_type": "display_data"
    },
    {
     "data": {
      "text/plain": [
       "\">>>>>> iteration 1:O\""
      ]
     },
     "metadata": {},
     "output_type": "display_data"
    },
    {
     "data": {
      "text/plain": [
       "\"DB: opt gap = 1.0\""
      ]
     },
     "metadata": {},
     "output_type": "display_data"
    },
    {
     "data": {
      "text/plain": [
       "\">>>>>> iteration 2:O\""
      ]
     },
     "metadata": {},
     "output_type": "display_data"
    },
    {
     "data": {
      "text/plain": [
       "\"DB: opt gap = 1.0\""
      ]
     },
     "metadata": {},
     "output_type": "display_data"
    },
    {
     "data": {
      "text/plain": [
       "\">>>>>> iteration 3:O\""
      ]
     },
     "metadata": {},
     "output_type": "display_data"
    },
    {
     "data": {
      "text/plain": [
       "\"DB: opt gap = 1.0\""
      ]
     },
     "metadata": {},
     "output_type": "display_data"
    },
    {
     "data": {
      "text/plain": [
       "\">>>>>> iteration 4:O\""
      ]
     },
     "metadata": {},
     "output_type": "display_data"
    },
    {
     "data": {
      "text/plain": [
       "\"DB: opt gap = 1.0\""
      ]
     },
     "metadata": {},
     "output_type": "display_data"
    },
    {
     "data": {
      "text/plain": [
       "\">>>>>> iteration 5:O\""
      ]
     },
     "metadata": {},
     "output_type": "display_data"
    },
    {
     "data": {
      "text/plain": [
       "\"DB: opt gap = 1.0\""
      ]
     },
     "metadata": {},
     "output_type": "display_data"
    },
    {
     "data": {
      "text/plain": [
       "\">>>>>> iteration 6:O\""
      ]
     },
     "metadata": {},
     "output_type": "display_data"
    },
    {
     "data": {
      "text/plain": [
       "\"DB: opt gap = 1.0\""
      ]
     },
     "metadata": {},
     "output_type": "display_data"
    },
    {
     "data": {
      "text/plain": [
       "\">>>>>> iteration 7:O\""
      ]
     },
     "metadata": {},
     "output_type": "display_data"
    },
    {
     "data": {
      "text/plain": [
       "\"DB: opt gap = 1.0\""
      ]
     },
     "metadata": {},
     "output_type": "display_data"
    },
    {
     "data": {
      "text/plain": [
       "\">>>>>> iteration 8:O\""
      ]
     },
     "metadata": {},
     "output_type": "display_data"
    },
    {
     "data": {
      "text/plain": [
       "\"DB: opt gap = 0.5551327011508228\""
      ]
     },
     "metadata": {},
     "output_type": "display_data"
    },
    {
     "data": {
      "text/plain": [
       "\">>>>>> iteration 9:O\""
      ]
     },
     "metadata": {},
     "output_type": "display_data"
    },
    {
     "data": {
      "text/plain": [
       "\"DB: opt gap = 0.5494240921229783\""
      ]
     },
     "metadata": {},
     "output_type": "display_data"
    },
    {
     "data": {
      "text/plain": [
       "\">>>>>> iteration 10:O\""
      ]
     },
     "metadata": {},
     "output_type": "display_data"
    },
    {
     "data": {
      "text/plain": [
       "\"DB: opt gap = 0.5160814058206589\""
      ]
     },
     "metadata": {},
     "output_type": "display_data"
    },
    {
     "data": {
      "text/plain": [
       "\">>>>>> iteration 11:O\""
      ]
     },
     "metadata": {},
     "output_type": "display_data"
    },
    {
     "data": {
      "text/plain": [
       "\"DB: opt gap = 0.5125217490478308\""
      ]
     },
     "metadata": {},
     "output_type": "display_data"
    },
    {
     "data": {
      "text/plain": [
       "\">>>>>> iteration 12:O\""
      ]
     },
     "metadata": {},
     "output_type": "display_data"
    },
    {
     "data": {
      "text/plain": [
       "\"DB: opt gap = 0.47492054799984423\""
      ]
     },
     "metadata": {},
     "output_type": "display_data"
    },
    {
     "data": {
      "text/plain": [
       "\">>>>>> iteration 13:O\""
      ]
     },
     "metadata": {},
     "output_type": "display_data"
    },
    {
     "data": {
      "text/plain": [
       "\"DB: opt gap = 0.47166729403680235\""
      ]
     },
     "metadata": {},
     "output_type": "display_data"
    },
    {
     "data": {
      "text/plain": [
       "\">>>>>> iteration 14:O\""
      ]
     },
     "metadata": {},
     "output_type": "display_data"
    },
    {
     "data": {
      "text/plain": [
       "\"DB: opt gap = 0.06370329901029587\""
      ]
     },
     "metadata": {},
     "output_type": "display_data"
    },
    {
     "data": {
      "text/plain": [
       "\">>>>>> iteration 15:O\""
      ]
     },
     "metadata": {},
     "output_type": "display_data"
    },
    {
     "data": {
      "text/plain": [
       "\"DB: opt gap = 0.00032044655967656307\""
      ]
     },
     "metadata": {},
     "output_type": "display_data"
    },
    {
     "data": {
      "text/plain": [
       "\"evaluating 8 reactors in parallel | option 3\""
      ]
     },
     "metadata": {},
     "output_type": "display_data"
    },
    {
     "data": {
      "text/plain": [
       "\"DB: opt gap = 1.0\""
      ]
     },
     "metadata": {},
     "output_type": "display_data"
    },
    {
     "data": {
      "text/plain": [
       "\">>>>>> iteration 1:O\""
      ]
     },
     "metadata": {},
     "output_type": "display_data"
    },
    {
     "data": {
      "text/plain": [
       "\"DB: opt gap = 1.0\""
      ]
     },
     "metadata": {},
     "output_type": "display_data"
    },
    {
     "data": {
      "text/plain": [
       "\">>>>>> iteration 2:O\""
      ]
     },
     "metadata": {},
     "output_type": "display_data"
    },
    {
     "data": {
      "text/plain": [
       "\"DB: opt gap = 1.0\""
      ]
     },
     "metadata": {},
     "output_type": "display_data"
    },
    {
     "data": {
      "text/plain": [
       "\">>>>>> iteration 3:O\""
      ]
     },
     "metadata": {},
     "output_type": "display_data"
    },
    {
     "data": {
      "text/plain": [
       "\"DB: opt gap = 1.0\""
      ]
     },
     "metadata": {},
     "output_type": "display_data"
    },
    {
     "data": {
      "text/plain": [
       "\">>>>>> iteration 4:O\""
      ]
     },
     "metadata": {},
     "output_type": "display_data"
    },
    {
     "data": {
      "text/plain": [
       "\"DB: opt gap = 1.0\""
      ]
     },
     "metadata": {},
     "output_type": "display_data"
    },
    {
     "data": {
      "text/plain": [
       "\">>>>>> iteration 5:O\""
      ]
     },
     "metadata": {},
     "output_type": "display_data"
    },
    {
     "data": {
      "text/plain": [
       "\"DB: opt gap = 1.0\""
      ]
     },
     "metadata": {},
     "output_type": "display_data"
    },
    {
     "data": {
      "text/plain": [
       "\">>>>>> iteration 6:O\""
      ]
     },
     "metadata": {},
     "output_type": "display_data"
    },
    {
     "data": {
      "text/plain": [
       "\"DB: opt gap = 1.0\""
      ]
     },
     "metadata": {},
     "output_type": "display_data"
    },
    {
     "data": {
      "text/plain": [
       "\">>>>>> iteration 7:O\""
      ]
     },
     "metadata": {},
     "output_type": "display_data"
    },
    {
     "data": {
      "text/plain": [
       "\"DB: opt gap = 1.0\""
      ]
     },
     "metadata": {},
     "output_type": "display_data"
    },
    {
     "data": {
      "text/plain": [
       "\">>>>>> iteration 8:O\""
      ]
     },
     "metadata": {},
     "output_type": "display_data"
    },
    {
     "data": {
      "text/plain": [
       "\"DB: opt gap = 1.0\""
      ]
     },
     "metadata": {},
     "output_type": "display_data"
    },
    {
     "data": {
      "text/plain": [
       "\">>>>>> iteration 9:O\""
      ]
     },
     "metadata": {},
     "output_type": "display_data"
    },
    {
     "data": {
      "text/plain": [
       "\"DB: opt gap = 0.999809445465776\""
      ]
     },
     "metadata": {},
     "output_type": "display_data"
    },
    {
     "data": {
      "text/plain": [
       "\">>>>>> iteration 10:O\""
      ]
     },
     "metadata": {},
     "output_type": "display_data"
    },
    {
     "data": {
      "text/plain": [
       "\"DB: opt gap = 0.5472983984841953\""
      ]
     },
     "metadata": {},
     "output_type": "display_data"
    },
    {
     "data": {
      "text/plain": [
       "\">>>>>> iteration 11:O\""
      ]
     },
     "metadata": {},
     "output_type": "display_data"
    },
    {
     "data": {
      "text/plain": [
       "\"DB: opt gap = 0.012435561657282952\""
      ]
     },
     "metadata": {},
     "output_type": "display_data"
    },
    {
     "data": {
      "text/plain": [
       "\">>>>>> iteration 12:O\""
      ]
     },
     "metadata": {},
     "output_type": "display_data"
    },
    {
     "data": {
      "text/plain": [
       "\"DB: opt gap = 0.012364586779312814\""
      ]
     },
     "metadata": {},
     "output_type": "display_data"
    },
    {
     "data": {
      "text/plain": [
       "\">>>>>> iteration 13:O\""
      ]
     },
     "metadata": {},
     "output_type": "display_data"
    },
    {
     "data": {
      "text/plain": [
       "\"DB: opt gap = 0.012229287334194535\""
      ]
     },
     "metadata": {},
     "output_type": "display_data"
    },
    {
     "data": {
      "text/plain": [
       "\">>>>>> iteration 14:O\""
      ]
     },
     "metadata": {},
     "output_type": "display_data"
    },
    {
     "data": {
      "text/plain": [
       "\"DB: opt gap = 0.012217369462310427\""
      ]
     },
     "metadata": {},
     "output_type": "display_data"
    },
    {
     "data": {
      "text/plain": [
       "\">>>>>> iteration 15:O\""
      ]
     },
     "metadata": {},
     "output_type": "display_data"
    },
    {
     "data": {
      "text/plain": [
       "\"DB: opt gap = 5.097532170940098e-6\""
      ]
     },
     "metadata": {},
     "output_type": "display_data"
    },
    {
     "data": {
      "text/plain": [
       "\"evaluating 9 reactors in parallel | option 3\""
      ]
     },
     "metadata": {},
     "output_type": "display_data"
    },
    {
     "data": {
      "text/plain": [
       "\"DB: opt gap = 1.0\""
      ]
     },
     "metadata": {},
     "output_type": "display_data"
    },
    {
     "data": {
      "text/plain": [
       "\">>>>>> iteration 1:O\""
      ]
     },
     "metadata": {},
     "output_type": "display_data"
    },
    {
     "data": {
      "text/plain": [
       "\"DB: opt gap = 1.0\""
      ]
     },
     "metadata": {},
     "output_type": "display_data"
    },
    {
     "data": {
      "text/plain": [
       "\">>>>>> iteration 2:O\""
      ]
     },
     "metadata": {},
     "output_type": "display_data"
    },
    {
     "data": {
      "text/plain": [
       "\"DB: opt gap = 1.0\""
      ]
     },
     "metadata": {},
     "output_type": "display_data"
    },
    {
     "data": {
      "text/plain": [
       "\">>>>>> iteration 3:O\""
      ]
     },
     "metadata": {},
     "output_type": "display_data"
    },
    {
     "data": {
      "text/plain": [
       "\"DB: opt gap = 1.0\""
      ]
     },
     "metadata": {},
     "output_type": "display_data"
    },
    {
     "data": {
      "text/plain": [
       "\">>>>>> iteration 4:O\""
      ]
     },
     "metadata": {},
     "output_type": "display_data"
    },
    {
     "data": {
      "text/plain": [
       "\"DB: opt gap = 1.0\""
      ]
     },
     "metadata": {},
     "output_type": "display_data"
    },
    {
     "data": {
      "text/plain": [
       "\">>>>>> iteration 5:O\""
      ]
     },
     "metadata": {},
     "output_type": "display_data"
    },
    {
     "data": {
      "text/plain": [
       "\"DB: opt gap = 1.0\""
      ]
     },
     "metadata": {},
     "output_type": "display_data"
    },
    {
     "data": {
      "text/plain": [
       "\">>>>>> iteration 6:O\""
      ]
     },
     "metadata": {},
     "output_type": "display_data"
    },
    {
     "data": {
      "text/plain": [
       "\"DB: opt gap = 1.0\""
      ]
     },
     "metadata": {},
     "output_type": "display_data"
    },
    {
     "data": {
      "text/plain": [
       "\">>>>>> iteration 7:O\""
      ]
     },
     "metadata": {},
     "output_type": "display_data"
    },
    {
     "data": {
      "text/plain": [
       "\"DB: opt gap = 1.0\""
      ]
     },
     "metadata": {},
     "output_type": "display_data"
    },
    {
     "data": {
      "text/plain": [
       "\">>>>>> iteration 8:O\""
      ]
     },
     "metadata": {},
     "output_type": "display_data"
    },
    {
     "data": {
      "text/plain": [
       "\"DB: opt gap = 0.6489266299091051\""
      ]
     },
     "metadata": {},
     "output_type": "display_data"
    },
    {
     "data": {
      "text/plain": [
       "\">>>>>> iteration 9:O\""
      ]
     },
     "metadata": {},
     "output_type": "display_data"
    },
    {
     "data": {
      "text/plain": [
       "\"DB: opt gap = 0.62524222510841\""
      ]
     },
     "metadata": {},
     "output_type": "display_data"
    },
    {
     "data": {
      "text/plain": [
       "\">>>>>> iteration 10:O\""
      ]
     },
     "metadata": {},
     "output_type": "display_data"
    },
    {
     "data": {
      "text/plain": [
       "\"DB: opt gap = 0.029430558153636422\""
      ]
     },
     "metadata": {},
     "output_type": "display_data"
    },
    {
     "data": {
      "text/plain": [
       "\">>>>>> iteration 11:O\""
      ]
     },
     "metadata": {},
     "output_type": "display_data"
    },
    {
     "data": {
      "text/plain": [
       "\"DB: opt gap = 0.02933049269567258\""
      ]
     },
     "metadata": {},
     "output_type": "display_data"
    },
    {
     "data": {
      "text/plain": [
       "\">>>>>> iteration 12:O\""
      ]
     },
     "metadata": {},
     "output_type": "display_data"
    },
    {
     "data": {
      "text/plain": [
       "\"DB: opt gap = 0.02907700904263572\""
      ]
     },
     "metadata": {},
     "output_type": "display_data"
    },
    {
     "data": {
      "text/plain": [
       "\">>>>>> iteration 13:O\""
      ]
     },
     "metadata": {},
     "output_type": "display_data"
    },
    {
     "data": {
      "text/plain": [
       "\"DB: opt gap = 0.028955219689772962\""
      ]
     },
     "metadata": {},
     "output_type": "display_data"
    },
    {
     "data": {
      "text/plain": [
       "\">>>>>> iteration 14:O\""
      ]
     },
     "metadata": {},
     "output_type": "display_data"
    },
    {
     "data": {
      "text/plain": [
       "\"DB: opt gap = 0.028732159465462995\""
      ]
     },
     "metadata": {},
     "output_type": "display_data"
    },
    {
     "data": {
      "text/plain": [
       "\">>>>>> iteration 15:O\""
      ]
     },
     "metadata": {},
     "output_type": "display_data"
    },
    {
     "data": {
      "text/plain": [
       "\"DB: opt gap = 0.023181039143872845\""
      ]
     },
     "metadata": {},
     "output_type": "display_data"
    },
    {
     "data": {
      "text/plain": [
       "\">>>>>> iteration 16:O\""
      ]
     },
     "metadata": {},
     "output_type": "display_data"
    },
    {
     "data": {
      "text/plain": [
       "\"DB: opt gap = 0.0003899937585819702\""
      ]
     },
     "metadata": {},
     "output_type": "display_data"
    },
    {
     "data": {
      "text/plain": [
       "\"evaluating 10 reactors in parallel | option 3\""
      ]
     },
     "metadata": {},
     "output_type": "display_data"
    },
    {
     "data": {
      "text/plain": [
       "\"DB: opt gap = 1.0\""
      ]
     },
     "metadata": {},
     "output_type": "display_data"
    },
    {
     "data": {
      "text/plain": [
       "\">>>>>> iteration 1:O\""
      ]
     },
     "metadata": {},
     "output_type": "display_data"
    },
    {
     "data": {
      "text/plain": [
       "\"DB: opt gap = 1.0\""
      ]
     },
     "metadata": {},
     "output_type": "display_data"
    },
    {
     "data": {
      "text/plain": [
       "\">>>>>> iteration 2:O\""
      ]
     },
     "metadata": {},
     "output_type": "display_data"
    },
    {
     "data": {
      "text/plain": [
       "\"DB: opt gap = 1.0\""
      ]
     },
     "metadata": {},
     "output_type": "display_data"
    },
    {
     "data": {
      "text/plain": [
       "\">>>>>> iteration 3:O\""
      ]
     },
     "metadata": {},
     "output_type": "display_data"
    },
    {
     "data": {
      "text/plain": [
       "\"DB: opt gap = 1.0\""
      ]
     },
     "metadata": {},
     "output_type": "display_data"
    },
    {
     "data": {
      "text/plain": [
       "\">>>>>> iteration 4:O\""
      ]
     },
     "metadata": {},
     "output_type": "display_data"
    },
    {
     "data": {
      "text/plain": [
       "\"DB: opt gap = 1.0\""
      ]
     },
     "metadata": {},
     "output_type": "display_data"
    },
    {
     "data": {
      "text/plain": [
       "\">>>>>> iteration 5:O\""
      ]
     },
     "metadata": {},
     "output_type": "display_data"
    },
    {
     "data": {
      "text/plain": [
       "\"DB: opt gap = 1.0\""
      ]
     },
     "metadata": {},
     "output_type": "display_data"
    },
    {
     "data": {
      "text/plain": [
       "\">>>>>> iteration 6:O\""
      ]
     },
     "metadata": {},
     "output_type": "display_data"
    },
    {
     "data": {
      "text/plain": [
       "\"DB: opt gap = 1.0\""
      ]
     },
     "metadata": {},
     "output_type": "display_data"
    },
    {
     "data": {
      "text/plain": [
       "\">>>>>> iteration 7:O\""
      ]
     },
     "metadata": {},
     "output_type": "display_data"
    },
    {
     "data": {
      "text/plain": [
       "\"DB: opt gap = 1.0\""
      ]
     },
     "metadata": {},
     "output_type": "display_data"
    },
    {
     "data": {
      "text/plain": [
       "\">>>>>> iteration 8:O\""
      ]
     },
     "metadata": {},
     "output_type": "display_data"
    },
    {
     "data": {
      "text/plain": [
       "\"DB: opt gap = 1.0\""
      ]
     },
     "metadata": {},
     "output_type": "display_data"
    },
    {
     "data": {
      "text/plain": [
       "\">>>>>> iteration 9:O\""
      ]
     },
     "metadata": {},
     "output_type": "display_data"
    },
    {
     "data": {
      "text/plain": [
       "\"DB: opt gap = 0.8621465317285527\""
      ]
     },
     "metadata": {},
     "output_type": "display_data"
    },
    {
     "data": {
      "text/plain": [
       "\">>>>>> iteration 10:O\""
      ]
     },
     "metadata": {},
     "output_type": "display_data"
    },
    {
     "data": {
      "text/plain": [
       "\"DB: opt gap = 0.799794814336913\""
      ]
     },
     "metadata": {},
     "output_type": "display_data"
    },
    {
     "data": {
      "text/plain": [
       "\">>>>>> iteration 11:O\""
      ]
     },
     "metadata": {},
     "output_type": "display_data"
    },
    {
     "data": {
      "text/plain": [
       "\"DB: opt gap = 0.0668024599526429\""
      ]
     },
     "metadata": {},
     "output_type": "display_data"
    },
    {
     "data": {
      "text/plain": [
       "\">>>>>> iteration 12:O\""
      ]
     },
     "metadata": {},
     "output_type": "display_data"
    },
    {
     "data": {
      "text/plain": [
       "\"DB: opt gap = 0.0664477038074626\""
      ]
     },
     "metadata": {},
     "output_type": "display_data"
    },
    {
     "data": {
      "text/plain": [
       "\">>>>>> iteration 13:O\""
      ]
     },
     "metadata": {},
     "output_type": "display_data"
    },
    {
     "data": {
      "text/plain": [
       "\"DB: opt gap = 6.25903096402897e-5\""
      ]
     },
     "metadata": {},
     "output_type": "display_data"
    },
    {
     "data": {
      "text/plain": [
       "\"evaluating 11 reactors in parallel | option 3\""
      ]
     },
     "metadata": {},
     "output_type": "display_data"
    },
    {
     "data": {
      "text/plain": [
       "\"DB: opt gap = 1.0\""
      ]
     },
     "metadata": {},
     "output_type": "display_data"
    },
    {
     "data": {
      "text/plain": [
       "\">>>>>> iteration 1:O\""
      ]
     },
     "metadata": {},
     "output_type": "display_data"
    },
    {
     "data": {
      "text/plain": [
       "\"DB: opt gap = 1.0\""
      ]
     },
     "metadata": {},
     "output_type": "display_data"
    },
    {
     "data": {
      "text/plain": [
       "\">>>>>> iteration 2:O\""
      ]
     },
     "metadata": {},
     "output_type": "display_data"
    },
    {
     "data": {
      "text/plain": [
       "\"DB: opt gap = 1.0\""
      ]
     },
     "metadata": {},
     "output_type": "display_data"
    },
    {
     "data": {
      "text/plain": [
       "\">>>>>> iteration 3:O\""
      ]
     },
     "metadata": {},
     "output_type": "display_data"
    },
    {
     "data": {
      "text/plain": [
       "\"DB: opt gap = 1.0\""
      ]
     },
     "metadata": {},
     "output_type": "display_data"
    },
    {
     "data": {
      "text/plain": [
       "\">>>>>> iteration 4:O\""
      ]
     },
     "metadata": {},
     "output_type": "display_data"
    },
    {
     "data": {
      "text/plain": [
       "\"DB: opt gap = 1.0\""
      ]
     },
     "metadata": {},
     "output_type": "display_data"
    },
    {
     "data": {
      "text/plain": [
       "\">>>>>> iteration 5:O\""
      ]
     },
     "metadata": {},
     "output_type": "display_data"
    },
    {
     "data": {
      "text/plain": [
       "\"DB: opt gap = 1.0\""
      ]
     },
     "metadata": {},
     "output_type": "display_data"
    },
    {
     "data": {
      "text/plain": [
       "\">>>>>> iteration 6:O\""
      ]
     },
     "metadata": {},
     "output_type": "display_data"
    },
    {
     "data": {
      "text/plain": [
       "\"DB: opt gap = 1.0\""
      ]
     },
     "metadata": {},
     "output_type": "display_data"
    },
    {
     "data": {
      "text/plain": [
       "\">>>>>> iteration 7:O\""
      ]
     },
     "metadata": {},
     "output_type": "display_data"
    },
    {
     "data": {
      "text/plain": [
       "\"DB: opt gap = 1.0\""
      ]
     },
     "metadata": {},
     "output_type": "display_data"
    },
    {
     "data": {
      "text/plain": [
       "\">>>>>> iteration 8:O\""
      ]
     },
     "metadata": {},
     "output_type": "display_data"
    },
    {
     "data": {
      "text/plain": [
       "\"DB: opt gap = 1.0\""
      ]
     },
     "metadata": {},
     "output_type": "display_data"
    },
    {
     "data": {
      "text/plain": [
       "\">>>>>> iteration 9:O\""
      ]
     },
     "metadata": {},
     "output_type": "display_data"
    },
    {
     "data": {
      "text/plain": [
       "\"DB: opt gap = 1.0\""
      ]
     },
     "metadata": {},
     "output_type": "display_data"
    },
    {
     "data": {
      "text/plain": [
       "\">>>>>> iteration 10:O\""
      ]
     },
     "metadata": {},
     "output_type": "display_data"
    },
    {
     "data": {
      "text/plain": [
       "\"DB: opt gap = 0.9761410523858381\""
      ]
     },
     "metadata": {},
     "output_type": "display_data"
    },
    {
     "data": {
      "text/plain": [
       "\">>>>>> iteration 11:O\""
      ]
     },
     "metadata": {},
     "output_type": "display_data"
    },
    {
     "data": {
      "text/plain": [
       "\"DB: opt gap = 0.5525333486696156\""
      ]
     },
     "metadata": {},
     "output_type": "display_data"
    },
    {
     "data": {
      "text/plain": [
       "\">>>>>> iteration 12:O\""
      ]
     },
     "metadata": {},
     "output_type": "display_data"
    },
    {
     "data": {
      "text/plain": [
       "\"DB: opt gap = 0.544387828074134\""
      ]
     },
     "metadata": {},
     "output_type": "display_data"
    },
    {
     "data": {
      "text/plain": [
       "\">>>>>> iteration 13:O\""
      ]
     },
     "metadata": {},
     "output_type": "display_data"
    },
    {
     "data": {
      "text/plain": [
       "\"DB: opt gap = 0.532585224611967\""
      ]
     },
     "metadata": {},
     "output_type": "display_data"
    },
    {
     "data": {
      "text/plain": [
       "\">>>>>> iteration 14:O\""
      ]
     },
     "metadata": {},
     "output_type": "display_data"
    },
    {
     "data": {
      "text/plain": [
       "\"DB: opt gap = 0.5126351548008461\""
      ]
     },
     "metadata": {},
     "output_type": "display_data"
    },
    {
     "data": {
      "text/plain": [
       "\">>>>>> iteration 15:O\""
      ]
     },
     "metadata": {},
     "output_type": "display_data"
    },
    {
     "data": {
      "text/plain": [
       "\"DB: opt gap = 0.029684193465504296\""
      ]
     },
     "metadata": {},
     "output_type": "display_data"
    },
    {
     "data": {
      "text/plain": [
       "\">>>>>> iteration 16:O\""
      ]
     },
     "metadata": {},
     "output_type": "display_data"
    },
    {
     "data": {
      "text/plain": [
       "\"DB: opt gap = 1.0204818500524225e-5\""
      ]
     },
     "metadata": {},
     "output_type": "display_data"
    },
    {
     "data": {
      "text/plain": [
       "\"evaluating 12 reactors in parallel | option 3\""
      ]
     },
     "metadata": {},
     "output_type": "display_data"
    },
    {
     "data": {
      "text/plain": [
       "\"DB: opt gap = 1.0\""
      ]
     },
     "metadata": {},
     "output_type": "display_data"
    },
    {
     "data": {
      "text/plain": [
       "\">>>>>> iteration 1:O\""
      ]
     },
     "metadata": {},
     "output_type": "display_data"
    },
    {
     "data": {
      "text/plain": [
       "\"DB: opt gap = 1.0\""
      ]
     },
     "metadata": {},
     "output_type": "display_data"
    },
    {
     "data": {
      "text/plain": [
       "\">>>>>> iteration 2:O\""
      ]
     },
     "metadata": {},
     "output_type": "display_data"
    },
    {
     "data": {
      "text/plain": [
       "\"DB: opt gap = 1.0\""
      ]
     },
     "metadata": {},
     "output_type": "display_data"
    },
    {
     "data": {
      "text/plain": [
       "\">>>>>> iteration 3:O\""
      ]
     },
     "metadata": {},
     "output_type": "display_data"
    },
    {
     "data": {
      "text/plain": [
       "\"DB: opt gap = 1.0\""
      ]
     },
     "metadata": {},
     "output_type": "display_data"
    },
    {
     "data": {
      "text/plain": [
       "\">>>>>> iteration 4:O\""
      ]
     },
     "metadata": {},
     "output_type": "display_data"
    },
    {
     "data": {
      "text/plain": [
       "\"DB: opt gap = 1.0\""
      ]
     },
     "metadata": {},
     "output_type": "display_data"
    },
    {
     "data": {
      "text/plain": [
       "\">>>>>> iteration 5:O\""
      ]
     },
     "metadata": {},
     "output_type": "display_data"
    },
    {
     "data": {
      "text/plain": [
       "\"DB: opt gap = 1.0\""
      ]
     },
     "metadata": {},
     "output_type": "display_data"
    },
    {
     "data": {
      "text/plain": [
       "\">>>>>> iteration 6:O\""
      ]
     },
     "metadata": {},
     "output_type": "display_data"
    },
    {
     "data": {
      "text/plain": [
       "\"DB: opt gap = 1.0\""
      ]
     },
     "metadata": {},
     "output_type": "display_data"
    },
    {
     "data": {
      "text/plain": [
       "\">>>>>> iteration 7:O\""
      ]
     },
     "metadata": {},
     "output_type": "display_data"
    },
    {
     "data": {
      "text/plain": [
       "\"DB: opt gap = 0.6549720705480753\""
      ]
     },
     "metadata": {},
     "output_type": "display_data"
    },
    {
     "data": {
      "text/plain": [
       "\">>>>>> iteration 8:O\""
      ]
     },
     "metadata": {},
     "output_type": "display_data"
    },
    {
     "data": {
      "text/plain": [
       "\"DB: opt gap = 0.6458402166010315\""
      ]
     },
     "metadata": {},
     "output_type": "display_data"
    },
    {
     "data": {
      "text/plain": [
       "\">>>>>> iteration 9:O\""
      ]
     },
     "metadata": {},
     "output_type": "display_data"
    },
    {
     "data": {
      "text/plain": [
       "\"DB: opt gap = 0.6295224467558508\""
      ]
     },
     "metadata": {},
     "output_type": "display_data"
    },
    {
     "data": {
      "text/plain": [
       "\">>>>>> iteration 10:O\""
      ]
     },
     "metadata": {},
     "output_type": "display_data"
    },
    {
     "data": {
      "text/plain": [
       "\"DB: opt gap = 0.6214084443307087\""
      ]
     },
     "metadata": {},
     "output_type": "display_data"
    },
    {
     "data": {
      "text/plain": [
       "\">>>>>> iteration 11:O\""
      ]
     },
     "metadata": {},
     "output_type": "display_data"
    },
    {
     "data": {
      "text/plain": [
       "\"DB: opt gap = 0.6176932635462311\""
      ]
     },
     "metadata": {},
     "output_type": "display_data"
    },
    {
     "data": {
      "text/plain": [
       "\">>>>>> iteration 12:O\""
      ]
     },
     "metadata": {},
     "output_type": "display_data"
    },
    {
     "data": {
      "text/plain": [
       "\"DB: opt gap = 0.4311907661628204\""
      ]
     },
     "metadata": {},
     "output_type": "display_data"
    },
    {
     "data": {
      "text/plain": [
       "\">>>>>> iteration 13:O\""
      ]
     },
     "metadata": {},
     "output_type": "display_data"
    },
    {
     "data": {
      "text/plain": [
       "\"DB: opt gap = 0.4093741403070724\""
      ]
     },
     "metadata": {},
     "output_type": "display_data"
    },
    {
     "data": {
      "text/plain": [
       "\">>>>>> iteration 14:O\""
      ]
     },
     "metadata": {},
     "output_type": "display_data"
    },
    {
     "data": {
      "text/plain": [
       "\"DB: opt gap = 0.4064331078053647\""
      ]
     },
     "metadata": {},
     "output_type": "display_data"
    },
    {
     "data": {
      "text/plain": [
       "\">>>>>> iteration 15:O\""
      ]
     },
     "metadata": {},
     "output_type": "display_data"
    },
    {
     "data": {
      "text/plain": [
       "\"DB: opt gap = 0.40096183618517267\""
      ]
     },
     "metadata": {},
     "output_type": "display_data"
    },
    {
     "data": {
      "text/plain": [
       "\">>>>>> iteration 16:O\""
      ]
     },
     "metadata": {},
     "output_type": "display_data"
    },
    {
     "data": {
      "text/plain": [
       "\"DB: opt gap = 0.3972571686422\""
      ]
     },
     "metadata": {},
     "output_type": "display_data"
    },
    {
     "data": {
      "text/plain": [
       "\">>>>>> iteration 17:O\""
      ]
     },
     "metadata": {},
     "output_type": "display_data"
    },
    {
     "data": {
      "text/plain": [
       "\"DB: opt gap = 0.03179494656460446\""
      ]
     },
     "metadata": {},
     "output_type": "display_data"
    },
    {
     "data": {
      "text/plain": [
       "\">>>>>> iteration 18:O\""
      ]
     },
     "metadata": {},
     "output_type": "display_data"
    },
    {
     "data": {
      "text/plain": [
       "\"DB: opt gap = 1.927205641551485e-5\""
      ]
     },
     "metadata": {},
     "output_type": "display_data"
    },
    {
     "data": {
      "text/plain": [
       "\"evaluating 13 reactors in parallel | option 3\""
      ]
     },
     "metadata": {},
     "output_type": "display_data"
    },
    {
     "data": {
      "text/plain": [
       "\"DB: opt gap = 1.0\""
      ]
     },
     "metadata": {},
     "output_type": "display_data"
    },
    {
     "data": {
      "text/plain": [
       "\">>>>>> iteration 1:O\""
      ]
     },
     "metadata": {},
     "output_type": "display_data"
    },
    {
     "data": {
      "text/plain": [
       "\"DB: opt gap = 1.0\""
      ]
     },
     "metadata": {},
     "output_type": "display_data"
    },
    {
     "data": {
      "text/plain": [
       "\">>>>>> iteration 2:O\""
      ]
     },
     "metadata": {},
     "output_type": "display_data"
    },
    {
     "data": {
      "text/plain": [
       "\"DB: opt gap = 1.0\""
      ]
     },
     "metadata": {},
     "output_type": "display_data"
    },
    {
     "data": {
      "text/plain": [
       "\">>>>>> iteration 3:O\""
      ]
     },
     "metadata": {},
     "output_type": "display_data"
    },
    {
     "data": {
      "text/plain": [
       "\"DB: opt gap = 1.0\""
      ]
     },
     "metadata": {},
     "output_type": "display_data"
    },
    {
     "data": {
      "text/plain": [
       "\">>>>>> iteration 4:O\""
      ]
     },
     "metadata": {},
     "output_type": "display_data"
    },
    {
     "data": {
      "text/plain": [
       "\"DB: opt gap = 1.0\""
      ]
     },
     "metadata": {},
     "output_type": "display_data"
    },
    {
     "data": {
      "text/plain": [
       "\">>>>>> iteration 5:O\""
      ]
     },
     "metadata": {},
     "output_type": "display_data"
    },
    {
     "data": {
      "text/plain": [
       "\"DB: opt gap = 1.0\""
      ]
     },
     "metadata": {},
     "output_type": "display_data"
    },
    {
     "data": {
      "text/plain": [
       "\">>>>>> iteration 6:O\""
      ]
     },
     "metadata": {},
     "output_type": "display_data"
    },
    {
     "data": {
      "text/plain": [
       "\"DB: opt gap = 1.0\""
      ]
     },
     "metadata": {},
     "output_type": "display_data"
    },
    {
     "data": {
      "text/plain": [
       "\">>>>>> iteration 7:O\""
      ]
     },
     "metadata": {},
     "output_type": "display_data"
    },
    {
     "data": {
      "text/plain": [
       "\"DB: opt gap = 1.0\""
      ]
     },
     "metadata": {},
     "output_type": "display_data"
    },
    {
     "data": {
      "text/plain": [
       "\">>>>>> iteration 8:O\""
      ]
     },
     "metadata": {},
     "output_type": "display_data"
    },
    {
     "data": {
      "text/plain": [
       "\"DB: opt gap = 1.0\""
      ]
     },
     "metadata": {},
     "output_type": "display_data"
    },
    {
     "data": {
      "text/plain": [
       "\">>>>>> iteration 9:O\""
      ]
     },
     "metadata": {},
     "output_type": "display_data"
    },
    {
     "data": {
      "text/plain": [
       "\"DB: opt gap = 0.6699285740761749\""
      ]
     },
     "metadata": {},
     "output_type": "display_data"
    },
    {
     "data": {
      "text/plain": [
       "\">>>>>> iteration 10:O\""
      ]
     },
     "metadata": {},
     "output_type": "display_data"
    },
    {
     "data": {
      "text/plain": [
       "\"DB: opt gap = 0.4903654736171508\""
      ]
     },
     "metadata": {},
     "output_type": "display_data"
    },
    {
     "data": {
      "text/plain": [
       "\">>>>>> iteration 11:O\""
      ]
     },
     "metadata": {},
     "output_type": "display_data"
    },
    {
     "data": {
      "text/plain": [
       "\"DB: opt gap = 0.005129843384109675\""
      ]
     },
     "metadata": {},
     "output_type": "display_data"
    },
    {
     "data": {
      "text/plain": [
       "\">>>>>> iteration 12:O\""
      ]
     },
     "metadata": {},
     "output_type": "display_data"
    },
    {
     "data": {
      "text/plain": [
       "\"DB: opt gap = 0.005122242457720582\""
      ]
     },
     "metadata": {},
     "output_type": "display_data"
    },
    {
     "data": {
      "text/plain": [
       "\">>>>>> iteration 13:O\""
      ]
     },
     "metadata": {},
     "output_type": "display_data"
    },
    {
     "data": {
      "text/plain": [
       "\"DB: opt gap = 0.0050781577166226395\""
      ]
     },
     "metadata": {},
     "output_type": "display_data"
    },
    {
     "data": {
      "text/plain": [
       "\">>>>>> iteration 14:O\""
      ]
     },
     "metadata": {},
     "output_type": "display_data"
    },
    {
     "data": {
      "text/plain": [
       "\"DB: opt gap = 0.005060036043276837\""
      ]
     },
     "metadata": {},
     "output_type": "display_data"
    },
    {
     "data": {
      "text/plain": [
       "\">>>>>> iteration 15:O\""
      ]
     },
     "metadata": {},
     "output_type": "display_data"
    },
    {
     "data": {
      "text/plain": [
       "\"DB: opt gap = 0.00504184814703005\""
      ]
     },
     "metadata": {},
     "output_type": "display_data"
    },
    {
     "data": {
      "text/plain": [
       "\">>>>>> iteration 16:O\""
      ]
     },
     "metadata": {},
     "output_type": "display_data"
    },
    {
     "data": {
      "text/plain": [
       "\"DB: opt gap = 0.00498637816436745\""
      ]
     },
     "metadata": {},
     "output_type": "display_data"
    },
    {
     "data": {
      "text/plain": [
       "\">>>>>> iteration 17:O\""
      ]
     },
     "metadata": {},
     "output_type": "display_data"
    },
    {
     "data": {
      "text/plain": [
       "\">>>>>> iteration 18:F\""
      ]
     },
     "metadata": {},
     "output_type": "display_data"
    },
    {
     "data": {
      "text/plain": [
       "\"DB: opt gap = 7.438738296272541e-7\""
      ]
     },
     "metadata": {},
     "output_type": "display_data"
    },
    {
     "data": {
      "text/plain": [
       "\">>>>>> iteration 19:O\""
      ]
     },
     "metadata": {},
     "output_type": "display_data"
    },
    {
     "data": {
      "text/plain": [
       "\"DB: opt gap = 1.0162763626153626e-6\""
      ]
     },
     "metadata": {},
     "output_type": "display_data"
    },
    {
     "data": {
      "text/plain": [
       "\"evaluating 14 reactors in parallel | option 3\""
      ]
     },
     "metadata": {},
     "output_type": "display_data"
    },
    {
     "data": {
      "text/plain": [
       "\"DB: opt gap = 1.0\""
      ]
     },
     "metadata": {},
     "output_type": "display_data"
    },
    {
     "data": {
      "text/plain": [
       "\">>>>>> iteration 1:O\""
      ]
     },
     "metadata": {},
     "output_type": "display_data"
    },
    {
     "data": {
      "text/plain": [
       "\"DB: opt gap = 1.0\""
      ]
     },
     "metadata": {},
     "output_type": "display_data"
    },
    {
     "data": {
      "text/plain": [
       "\">>>>>> iteration 2:O\""
      ]
     },
     "metadata": {},
     "output_type": "display_data"
    },
    {
     "data": {
      "text/plain": [
       "\"DB: opt gap = 1.0\""
      ]
     },
     "metadata": {},
     "output_type": "display_data"
    },
    {
     "data": {
      "text/plain": [
       "\">>>>>> iteration 3:O\""
      ]
     },
     "metadata": {},
     "output_type": "display_data"
    },
    {
     "data": {
      "text/plain": [
       "\"DB: opt gap = 1.0\""
      ]
     },
     "metadata": {},
     "output_type": "display_data"
    },
    {
     "data": {
      "text/plain": [
       "\">>>>>> iteration 4:O\""
      ]
     },
     "metadata": {},
     "output_type": "display_data"
    },
    {
     "data": {
      "text/plain": [
       "\"DB: opt gap = 1.0\""
      ]
     },
     "metadata": {},
     "output_type": "display_data"
    },
    {
     "data": {
      "text/plain": [
       "\">>>>>> iteration 5:O\""
      ]
     },
     "metadata": {},
     "output_type": "display_data"
    },
    {
     "data": {
      "text/plain": [
       "\"DB: opt gap = 1.0\""
      ]
     },
     "metadata": {},
     "output_type": "display_data"
    },
    {
     "data": {
      "text/plain": [
       "\">>>>>> iteration 6:O\""
      ]
     },
     "metadata": {},
     "output_type": "display_data"
    },
    {
     "data": {
      "text/plain": [
       "\"DB: opt gap = 1.0\""
      ]
     },
     "metadata": {},
     "output_type": "display_data"
    },
    {
     "data": {
      "text/plain": [
       "\">>>>>> iteration 7:O\""
      ]
     },
     "metadata": {},
     "output_type": "display_data"
    },
    {
     "data": {
      "text/plain": [
       "\"DB: opt gap = 0.952935415227538\""
      ]
     },
     "metadata": {},
     "output_type": "display_data"
    },
    {
     "data": {
      "text/plain": [
       "\">>>>>> iteration 8:O\""
      ]
     },
     "metadata": {},
     "output_type": "display_data"
    },
    {
     "data": {
      "text/plain": [
       "\"DB: opt gap = 0.9109150588660289\""
      ]
     },
     "metadata": {},
     "output_type": "display_data"
    },
    {
     "data": {
      "text/plain": [
       "\">>>>>> iteration 9:O\""
      ]
     },
     "metadata": {},
     "output_type": "display_data"
    },
    {
     "data": {
      "text/plain": [
       "\"DB: opt gap = 0.823467836526996\""
      ]
     },
     "metadata": {},
     "output_type": "display_data"
    },
    {
     "data": {
      "text/plain": [
       "\">>>>>> iteration 10:O\""
      ]
     },
     "metadata": {},
     "output_type": "display_data"
    },
    {
     "data": {
      "text/plain": [
       "\"DB: opt gap = 0.03286944686525665\""
      ]
     },
     "metadata": {},
     "output_type": "display_data"
    },
    {
     "data": {
      "text/plain": [
       "\">>>>>> iteration 11:O\""
      ]
     },
     "metadata": {},
     "output_type": "display_data"
    },
    {
     "data": {
      "text/plain": [
       "\"DB: opt gap = 0.032722315284155847\""
      ]
     },
     "metadata": {},
     "output_type": "display_data"
    },
    {
     "data": {
      "text/plain": [
       "\">>>>>> iteration 12:O\""
      ]
     },
     "metadata": {},
     "output_type": "display_data"
    },
    {
     "data": {
      "text/plain": [
       "\"DB: opt gap = 1.1579304179750355e-5\""
      ]
     },
     "metadata": {},
     "output_type": "display_data"
    },
    {
     "data": {
      "text/plain": [
       "\"evaluating 15 reactors in parallel | option 3\""
      ]
     },
     "metadata": {},
     "output_type": "display_data"
    },
    {
     "data": {
      "text/plain": [
       "\"DB: opt gap = 1.0\""
      ]
     },
     "metadata": {},
     "output_type": "display_data"
    },
    {
     "data": {
      "text/plain": [
       "\">>>>>> iteration 1:O\""
      ]
     },
     "metadata": {},
     "output_type": "display_data"
    },
    {
     "data": {
      "text/plain": [
       "\"DB: opt gap = 1.0\""
      ]
     },
     "metadata": {},
     "output_type": "display_data"
    },
    {
     "data": {
      "text/plain": [
       "\">>>>>> iteration 2:O\""
      ]
     },
     "metadata": {},
     "output_type": "display_data"
    },
    {
     "data": {
      "text/plain": [
       "\"DB: opt gap = 1.0\""
      ]
     },
     "metadata": {},
     "output_type": "display_data"
    },
    {
     "data": {
      "text/plain": [
       "\">>>>>> iteration 3:O\""
      ]
     },
     "metadata": {},
     "output_type": "display_data"
    },
    {
     "data": {
      "text/plain": [
       "\"DB: opt gap = 1.0\""
      ]
     },
     "metadata": {},
     "output_type": "display_data"
    },
    {
     "data": {
      "text/plain": [
       "\">>>>>> iteration 4:O\""
      ]
     },
     "metadata": {},
     "output_type": "display_data"
    },
    {
     "data": {
      "text/plain": [
       "\"DB: opt gap = 1.0\""
      ]
     },
     "metadata": {},
     "output_type": "display_data"
    },
    {
     "data": {
      "text/plain": [
       "\">>>>>> iteration 5:O\""
      ]
     },
     "metadata": {},
     "output_type": "display_data"
    },
    {
     "data": {
      "text/plain": [
       "\"DB: opt gap = 1.0\""
      ]
     },
     "metadata": {},
     "output_type": "display_data"
    },
    {
     "data": {
      "text/plain": [
       "\">>>>>> iteration 6:O\""
      ]
     },
     "metadata": {},
     "output_type": "display_data"
    },
    {
     "data": {
      "text/plain": [
       "\"DB: opt gap = 1.0\""
      ]
     },
     "metadata": {},
     "output_type": "display_data"
    },
    {
     "data": {
      "text/plain": [
       "\">>>>>> iteration 7:O\""
      ]
     },
     "metadata": {},
     "output_type": "display_data"
    },
    {
     "data": {
      "text/plain": [
       "\"DB: opt gap = 1.0\""
      ]
     },
     "metadata": {},
     "output_type": "display_data"
    },
    {
     "data": {
      "text/plain": [
       "\">>>>>> iteration 8:O\""
      ]
     },
     "metadata": {},
     "output_type": "display_data"
    },
    {
     "data": {
      "text/plain": [
       "\"DB: opt gap = 1.0\""
      ]
     },
     "metadata": {},
     "output_type": "display_data"
    },
    {
     "data": {
      "text/plain": [
       "\">>>>>> iteration 9:O\""
      ]
     },
     "metadata": {},
     "output_type": "display_data"
    },
    {
     "data": {
      "text/plain": [
       "\"DB: opt gap = 0.9770173584087029\""
      ]
     },
     "metadata": {},
     "output_type": "display_data"
    },
    {
     "data": {
      "text/plain": [
       "\">>>>>> iteration 10:O\""
      ]
     },
     "metadata": {},
     "output_type": "display_data"
    },
    {
     "data": {
      "text/plain": [
       "\"DB: opt gap = 0.8866014814013458\""
      ]
     },
     "metadata": {},
     "output_type": "display_data"
    },
    {
     "data": {
      "text/plain": [
       "\">>>>>> iteration 11:O\""
      ]
     },
     "metadata": {},
     "output_type": "display_data"
    },
    {
     "data": {
      "text/plain": [
       "\"DB: opt gap = 0.06398649009072885\""
      ]
     },
     "metadata": {},
     "output_type": "display_data"
    },
    {
     "data": {
      "text/plain": [
       "\">>>>>> iteration 12:O\""
      ]
     },
     "metadata": {},
     "output_type": "display_data"
    },
    {
     "data": {
      "text/plain": [
       "\"DB: opt gap = 0.06365965346116297\""
      ]
     },
     "metadata": {},
     "output_type": "display_data"
    },
    {
     "data": {
      "text/plain": [
       "\">>>>>> iteration 13:O\""
      ]
     },
     "metadata": {},
     "output_type": "display_data"
    },
    {
     "data": {
      "text/plain": [
       "\"DB: opt gap = 6.990211033763623e-5\""
      ]
     },
     "metadata": {},
     "output_type": "display_data"
    },
    {
     "data": {
      "text/plain": [
       "\"evaluating 16 reactors in parallel | option 3\""
      ]
     },
     "metadata": {},
     "output_type": "display_data"
    },
    {
     "data": {
      "text/plain": [
       "\"DB: opt gap = 1.0\""
      ]
     },
     "metadata": {},
     "output_type": "display_data"
    },
    {
     "data": {
      "text/plain": [
       "\">>>>>> iteration 1:O\""
      ]
     },
     "metadata": {},
     "output_type": "display_data"
    },
    {
     "data": {
      "text/plain": [
       "\"DB: opt gap = 1.0\""
      ]
     },
     "metadata": {},
     "output_type": "display_data"
    },
    {
     "data": {
      "text/plain": [
       "\">>>>>> iteration 2:O\""
      ]
     },
     "metadata": {},
     "output_type": "display_data"
    },
    {
     "data": {
      "text/plain": [
       "\"DB: opt gap = 1.0\""
      ]
     },
     "metadata": {},
     "output_type": "display_data"
    },
    {
     "data": {
      "text/plain": [
       "\">>>>>> iteration 3:O\""
      ]
     },
     "metadata": {},
     "output_type": "display_data"
    },
    {
     "data": {
      "text/plain": [
       "\"DB: opt gap = 1.0\""
      ]
     },
     "metadata": {},
     "output_type": "display_data"
    },
    {
     "data": {
      "text/plain": [
       "\">>>>>> iteration 4:O\""
      ]
     },
     "metadata": {},
     "output_type": "display_data"
    },
    {
     "data": {
      "text/plain": [
       "\"DB: opt gap = 1.0\""
      ]
     },
     "metadata": {},
     "output_type": "display_data"
    },
    {
     "data": {
      "text/plain": [
       "\">>>>>> iteration 5:O\""
      ]
     },
     "metadata": {},
     "output_type": "display_data"
    },
    {
     "data": {
      "text/plain": [
       "\"DB: opt gap = 1.0\""
      ]
     },
     "metadata": {},
     "output_type": "display_data"
    },
    {
     "data": {
      "text/plain": [
       "\">>>>>> iteration 6:O\""
      ]
     },
     "metadata": {},
     "output_type": "display_data"
    },
    {
     "data": {
      "text/plain": [
       "\"DB: opt gap = 1.0\""
      ]
     },
     "metadata": {},
     "output_type": "display_data"
    },
    {
     "data": {
      "text/plain": [
       "\">>>>>> iteration 7:O\""
      ]
     },
     "metadata": {},
     "output_type": "display_data"
    },
    {
     "data": {
      "text/plain": [
       "\"DB: opt gap = 1.0\""
      ]
     },
     "metadata": {},
     "output_type": "display_data"
    },
    {
     "data": {
      "text/plain": [
       "\">>>>>> iteration 8:O\""
      ]
     },
     "metadata": {},
     "output_type": "display_data"
    },
    {
     "data": {
      "text/plain": [
       "\"DB: opt gap = 1.0\""
      ]
     },
     "metadata": {},
     "output_type": "display_data"
    },
    {
     "data": {
      "text/plain": [
       "\">>>>>> iteration 9:O\""
      ]
     },
     "metadata": {},
     "output_type": "display_data"
    },
    {
     "data": {
      "text/plain": [
       "\"DB: opt gap = 0.6680219687211899\""
      ]
     },
     "metadata": {},
     "output_type": "display_data"
    },
    {
     "data": {
      "text/plain": [
       "\">>>>>> iteration 10:O\""
      ]
     },
     "metadata": {},
     "output_type": "display_data"
    },
    {
     "data": {
      "text/plain": [
       "\"DB: opt gap = 0.5196179731760354\""
      ]
     },
     "metadata": {},
     "output_type": "display_data"
    },
    {
     "data": {
      "text/plain": [
       "\">>>>>> iteration 11:O\""
      ]
     },
     "metadata": {},
     "output_type": "display_data"
    },
    {
     "data": {
      "text/plain": [
       "\"DB: opt gap = 0.0057606289178339775\""
      ]
     },
     "metadata": {},
     "output_type": "display_data"
    },
    {
     "data": {
      "text/plain": [
       "\">>>>>> iteration 12:O\""
      ]
     },
     "metadata": {},
     "output_type": "display_data"
    },
    {
     "data": {
      "text/plain": [
       "\"DB: opt gap = 0.005751806494887036\""
      ]
     },
     "metadata": {},
     "output_type": "display_data"
    },
    {
     "data": {
      "text/plain": [
       "\">>>>>> iteration 13:O\""
      ]
     },
     "metadata": {},
     "output_type": "display_data"
    },
    {
     "data": {
      "text/plain": [
       "\"DB: opt gap = 1.133164986753109e-7\""
      ]
     },
     "metadata": {},
     "output_type": "display_data"
    },
    {
     "data": {
      "text/plain": [
       "\"evaluating 17 reactors in parallel | option 3\""
      ]
     },
     "metadata": {},
     "output_type": "display_data"
    },
    {
     "data": {
      "text/plain": [
       "\"DB: opt gap = 1.0\""
      ]
     },
     "metadata": {},
     "output_type": "display_data"
    },
    {
     "data": {
      "text/plain": [
       "\">>>>>> iteration 1:O\""
      ]
     },
     "metadata": {},
     "output_type": "display_data"
    },
    {
     "data": {
      "text/plain": [
       "\"DB: opt gap = 1.0\""
      ]
     },
     "metadata": {},
     "output_type": "display_data"
    },
    {
     "data": {
      "text/plain": [
       "\">>>>>> iteration 2:O\""
      ]
     },
     "metadata": {},
     "output_type": "display_data"
    },
    {
     "data": {
      "text/plain": [
       "\"DB: opt gap = 1.0\""
      ]
     },
     "metadata": {},
     "output_type": "display_data"
    },
    {
     "data": {
      "text/plain": [
       "\">>>>>> iteration 3:O\""
      ]
     },
     "metadata": {},
     "output_type": "display_data"
    },
    {
     "data": {
      "text/plain": [
       "\"DB: opt gap = 1.0\""
      ]
     },
     "metadata": {},
     "output_type": "display_data"
    },
    {
     "data": {
      "text/plain": [
       "\">>>>>> iteration 4:O\""
      ]
     },
     "metadata": {},
     "output_type": "display_data"
    },
    {
     "data": {
      "text/plain": [
       "\"DB: opt gap = 1.0\""
      ]
     },
     "metadata": {},
     "output_type": "display_data"
    },
    {
     "data": {
      "text/plain": [
       "\">>>>>> iteration 5:O\""
      ]
     },
     "metadata": {},
     "output_type": "display_data"
    },
    {
     "data": {
      "text/plain": [
       "\"DB: opt gap = 1.0\""
      ]
     },
     "metadata": {},
     "output_type": "display_data"
    },
    {
     "data": {
      "text/plain": [
       "\">>>>>> iteration 6:O\""
      ]
     },
     "metadata": {},
     "output_type": "display_data"
    },
    {
     "data": {
      "text/plain": [
       "\"DB: opt gap = 0.9786040945470182\""
      ]
     },
     "metadata": {},
     "output_type": "display_data"
    },
    {
     "data": {
      "text/plain": [
       "\">>>>>> iteration 7:O\""
      ]
     },
     "metadata": {},
     "output_type": "display_data"
    },
    {
     "data": {
      "text/plain": [
       "\"DB: opt gap = 0.8744459356686812\""
      ]
     },
     "metadata": {},
     "output_type": "display_data"
    },
    {
     "data": {
      "text/plain": [
       "\">>>>>> iteration 8:O\""
      ]
     },
     "metadata": {},
     "output_type": "display_data"
    },
    {
     "data": {
      "text/plain": [
       "\"DB: opt gap = 0.7912669846072115\""
      ]
     },
     "metadata": {},
     "output_type": "display_data"
    },
    {
     "data": {
      "text/plain": [
       "\">>>>>> iteration 9:O\""
      ]
     },
     "metadata": {},
     "output_type": "display_data"
    },
    {
     "data": {
      "text/plain": [
       "\"DB: opt gap = 0.6495288578127629\""
      ]
     },
     "metadata": {},
     "output_type": "display_data"
    },
    {
     "data": {
      "text/plain": [
       "\">>>>>> iteration 10:O\""
      ]
     },
     "metadata": {},
     "output_type": "display_data"
    },
    {
     "data": {
      "text/plain": [
       "\"DB: opt gap = 0.49072518843361623\""
      ]
     },
     "metadata": {},
     "output_type": "display_data"
    },
    {
     "data": {
      "text/plain": [
       "\">>>>>> iteration 11:O\""
      ]
     },
     "metadata": {},
     "output_type": "display_data"
    },
    {
     "data": {
      "text/plain": [
       "\"DB: opt gap = 0.47843117881124797\""
      ]
     },
     "metadata": {},
     "output_type": "display_data"
    },
    {
     "data": {
      "text/plain": [
       "\">>>>>> iteration 12:O\""
      ]
     },
     "metadata": {},
     "output_type": "display_data"
    },
    {
     "data": {
      "text/plain": [
       "\"DB: opt gap = 0.45295094521530443\""
      ]
     },
     "metadata": {},
     "output_type": "display_data"
    },
    {
     "data": {
      "text/plain": [
       "\">>>>>> iteration 13:O\""
      ]
     },
     "metadata": {},
     "output_type": "display_data"
    },
    {
     "data": {
      "text/plain": [
       "\"DB: opt gap = 0.021835743634264063\""
      ]
     },
     "metadata": {},
     "output_type": "display_data"
    },
    {
     "data": {
      "text/plain": [
       "\">>>>>> iteration 14:O\""
      ]
     },
     "metadata": {},
     "output_type": "display_data"
    },
    {
     "data": {
      "text/plain": [
       "\"DB: opt gap = 5.505997401974469e-6\""
      ]
     },
     "metadata": {},
     "output_type": "display_data"
    },
    {
     "data": {
      "text/plain": [
       "\"evaluating 18 reactors in parallel | option 3\""
      ]
     },
     "metadata": {},
     "output_type": "display_data"
    },
    {
     "data": {
      "text/plain": [
       "\"DB: opt gap = 1.0\""
      ]
     },
     "metadata": {},
     "output_type": "display_data"
    },
    {
     "data": {
      "text/plain": [
       "\">>>>>> iteration 1:O\""
      ]
     },
     "metadata": {},
     "output_type": "display_data"
    },
    {
     "data": {
      "text/plain": [
       "\"DB: opt gap = 1.0\""
      ]
     },
     "metadata": {},
     "output_type": "display_data"
    },
    {
     "data": {
      "text/plain": [
       "\">>>>>> iteration 2:O\""
      ]
     },
     "metadata": {},
     "output_type": "display_data"
    },
    {
     "data": {
      "text/plain": [
       "\"DB: opt gap = 1.0\""
      ]
     },
     "metadata": {},
     "output_type": "display_data"
    },
    {
     "data": {
      "text/plain": [
       "\">>>>>> iteration 3:O\""
      ]
     },
     "metadata": {},
     "output_type": "display_data"
    },
    {
     "data": {
      "text/plain": [
       "\"DB: opt gap = 1.0\""
      ]
     },
     "metadata": {},
     "output_type": "display_data"
    },
    {
     "data": {
      "text/plain": [
       "\">>>>>> iteration 4:O\""
      ]
     },
     "metadata": {},
     "output_type": "display_data"
    },
    {
     "data": {
      "text/plain": [
       "\"DB: opt gap = 1.0\""
      ]
     },
     "metadata": {},
     "output_type": "display_data"
    },
    {
     "data": {
      "text/plain": [
       "\">>>>>> iteration 5:O\""
      ]
     },
     "metadata": {},
     "output_type": "display_data"
    },
    {
     "data": {
      "text/plain": [
       "\"DB: opt gap = 1.0\""
      ]
     },
     "metadata": {},
     "output_type": "display_data"
    },
    {
     "data": {
      "text/plain": [
       "\">>>>>> iteration 6:O\""
      ]
     },
     "metadata": {},
     "output_type": "display_data"
    },
    {
     "data": {
      "text/plain": [
       "\"DB: opt gap = 1.0\""
      ]
     },
     "metadata": {},
     "output_type": "display_data"
    },
    {
     "data": {
      "text/plain": [
       "\">>>>>> iteration 7:O\""
      ]
     },
     "metadata": {},
     "output_type": "display_data"
    },
    {
     "data": {
      "text/plain": [
       "\"DB: opt gap = 1.0\""
      ]
     },
     "metadata": {},
     "output_type": "display_data"
    },
    {
     "data": {
      "text/plain": [
       "\">>>>>> iteration 8:O\""
      ]
     },
     "metadata": {},
     "output_type": "display_data"
    },
    {
     "data": {
      "text/plain": [
       "\"DB: opt gap = 1.0\""
      ]
     },
     "metadata": {},
     "output_type": "display_data"
    },
    {
     "data": {
      "text/plain": [
       "\">>>>>> iteration 9:O\""
      ]
     },
     "metadata": {},
     "output_type": "display_data"
    },
    {
     "data": {
      "text/plain": [
       "\"DB: opt gap = 0.9452185488528063\""
      ]
     },
     "metadata": {},
     "output_type": "display_data"
    },
    {
     "data": {
      "text/plain": [
       "\">>>>>> iteration 10:O\""
      ]
     },
     "metadata": {},
     "output_type": "display_data"
    },
    {
     "data": {
      "text/plain": [
       "\"DB: opt gap = 0.8492206958007262\""
      ]
     },
     "metadata": {},
     "output_type": "display_data"
    },
    {
     "data": {
      "text/plain": [
       "\">>>>>> iteration 11:O\""
      ]
     },
     "metadata": {},
     "output_type": "display_data"
    },
    {
     "data": {
      "text/plain": [
       "\"DB: opt gap = 0.06806171973731248\""
      ]
     },
     "metadata": {},
     "output_type": "display_data"
    },
    {
     "data": {
      "text/plain": [
       "\">>>>>> iteration 12:O\""
      ]
     },
     "metadata": {},
     "output_type": "display_data"
    },
    {
     "data": {
      "text/plain": [
       "\"DB: opt gap = 0.06770409250180372\""
      ]
     },
     "metadata": {},
     "output_type": "display_data"
    },
    {
     "data": {
      "text/plain": [
       "\">>>>>> iteration 13:O\""
      ]
     },
     "metadata": {},
     "output_type": "display_data"
    },
    {
     "data": {
      "text/plain": [
       "\"DB: opt gap = 0.00011714826937681909\""
      ]
     },
     "metadata": {},
     "output_type": "display_data"
    },
    {
     "data": {
      "text/plain": [
       "\"evaluating 19 reactors in parallel | option 3\""
      ]
     },
     "metadata": {},
     "output_type": "display_data"
    },
    {
     "data": {
      "text/plain": [
       "\"DB: opt gap = 1.0\""
      ]
     },
     "metadata": {},
     "output_type": "display_data"
    },
    {
     "data": {
      "text/plain": [
       "\">>>>>> iteration 1:O\""
      ]
     },
     "metadata": {},
     "output_type": "display_data"
    },
    {
     "data": {
      "text/plain": [
       "\"DB: opt gap = 1.0\""
      ]
     },
     "metadata": {},
     "output_type": "display_data"
    },
    {
     "data": {
      "text/plain": [
       "\">>>>>> iteration 2:O\""
      ]
     },
     "metadata": {},
     "output_type": "display_data"
    },
    {
     "data": {
      "text/plain": [
       "\"DB: opt gap = 1.0\""
      ]
     },
     "metadata": {},
     "output_type": "display_data"
    },
    {
     "data": {
      "text/plain": [
       "\">>>>>> iteration 3:O\""
      ]
     },
     "metadata": {},
     "output_type": "display_data"
    },
    {
     "data": {
      "text/plain": [
       "\"DB: opt gap = 1.0\""
      ]
     },
     "metadata": {},
     "output_type": "display_data"
    },
    {
     "data": {
      "text/plain": [
       "\">>>>>> iteration 4:O\""
      ]
     },
     "metadata": {},
     "output_type": "display_data"
    },
    {
     "data": {
      "text/plain": [
       "\"DB: opt gap = 1.0\""
      ]
     },
     "metadata": {},
     "output_type": "display_data"
    },
    {
     "data": {
      "text/plain": [
       "\">>>>>> iteration 5:O\""
      ]
     },
     "metadata": {},
     "output_type": "display_data"
    },
    {
     "data": {
      "text/plain": [
       "\"DB: opt gap = 1.0\""
      ]
     },
     "metadata": {},
     "output_type": "display_data"
    },
    {
     "data": {
      "text/plain": [
       "\">>>>>> iteration 6:O\""
      ]
     },
     "metadata": {},
     "output_type": "display_data"
    },
    {
     "data": {
      "text/plain": [
       "\"DB: opt gap = 1.0\""
      ]
     },
     "metadata": {},
     "output_type": "display_data"
    },
    {
     "data": {
      "text/plain": [
       "\">>>>>> iteration 7:O\""
      ]
     },
     "metadata": {},
     "output_type": "display_data"
    },
    {
     "data": {
      "text/plain": [
       "\"DB: opt gap = 0.9505484162863497\""
      ]
     },
     "metadata": {},
     "output_type": "display_data"
    },
    {
     "data": {
      "text/plain": [
       "\">>>>>> iteration 8:O\""
      ]
     },
     "metadata": {},
     "output_type": "display_data"
    },
    {
     "data": {
      "text/plain": [
       "\"DB: opt gap = 0.7947451372538403\""
      ]
     },
     "metadata": {},
     "output_type": "display_data"
    },
    {
     "data": {
      "text/plain": [
       "\">>>>>> iteration 9:O\""
      ]
     },
     "metadata": {},
     "output_type": "display_data"
    },
    {
     "data": {
      "text/plain": [
       "\"DB: opt gap = 0.7124268986855548\""
      ]
     },
     "metadata": {},
     "output_type": "display_data"
    },
    {
     "data": {
      "text/plain": [
       "\">>>>>> iteration 10:O\""
      ]
     },
     "metadata": {},
     "output_type": "display_data"
    },
    {
     "data": {
      "text/plain": [
       "\"DB: opt gap = 0.03158558090184084\""
      ]
     },
     "metadata": {},
     "output_type": "display_data"
    },
    {
     "data": {
      "text/plain": [
       "\">>>>>> iteration 11:O\""
      ]
     },
     "metadata": {},
     "output_type": "display_data"
    },
    {
     "data": {
      "text/plain": [
       "\"DB: opt gap = 0.03139456131632658\""
      ]
     },
     "metadata": {},
     "output_type": "display_data"
    },
    {
     "data": {
      "text/plain": [
       "\">>>>>> iteration 12:O\""
      ]
     },
     "metadata": {},
     "output_type": "display_data"
    },
    {
     "data": {
      "text/plain": [
       "\"DB: opt gap = 0.03108905183760163\""
      ]
     },
     "metadata": {},
     "output_type": "display_data"
    },
    {
     "data": {
      "text/plain": [
       "\">>>>>> iteration 13:O\""
      ]
     },
     "metadata": {},
     "output_type": "display_data"
    },
    {
     "data": {
      "text/plain": [
       "\"DB: opt gap = 0.030713061009863308\""
      ]
     },
     "metadata": {},
     "output_type": "display_data"
    },
    {
     "data": {
      "text/plain": [
       "\">>>>>> iteration 14:O\""
      ]
     },
     "metadata": {},
     "output_type": "display_data"
    },
    {
     "data": {
      "text/plain": [
       "\"DB: opt gap = 0.03034185450315022\""
      ]
     },
     "metadata": {},
     "output_type": "display_data"
    },
    {
     "data": {
      "text/plain": [
       "\">>>>>> iteration 15:O\""
      ]
     },
     "metadata": {},
     "output_type": "display_data"
    },
    {
     "data": {
      "text/plain": [
       "\"DB: opt gap = 0.030240518811490282\""
      ]
     },
     "metadata": {},
     "output_type": "display_data"
    },
    {
     "data": {
      "text/plain": [
       "\">>>>>> iteration 16:O\""
      ]
     },
     "metadata": {},
     "output_type": "display_data"
    },
    {
     "data": {
      "text/plain": [
       "\"DB: opt gap = 2.3775640439538264e-5\""
      ]
     },
     "metadata": {},
     "output_type": "display_data"
    },
    {
     "data": {
      "text/plain": [
       "\"evaluating 20 reactors in parallel | option 3\""
      ]
     },
     "metadata": {},
     "output_type": "display_data"
    },
    {
     "data": {
      "text/plain": [
       "\"DB: opt gap = 1.0\""
      ]
     },
     "metadata": {},
     "output_type": "display_data"
    },
    {
     "data": {
      "text/plain": [
       "\">>>>>> iteration 1:O\""
      ]
     },
     "metadata": {},
     "output_type": "display_data"
    },
    {
     "data": {
      "text/plain": [
       "\"DB: opt gap = 1.0\""
      ]
     },
     "metadata": {},
     "output_type": "display_data"
    },
    {
     "data": {
      "text/plain": [
       "\">>>>>> iteration 2:O\""
      ]
     },
     "metadata": {},
     "output_type": "display_data"
    },
    {
     "data": {
      "text/plain": [
       "\"DB: opt gap = 1.0\""
      ]
     },
     "metadata": {},
     "output_type": "display_data"
    },
    {
     "data": {
      "text/plain": [
       "\">>>>>> iteration 3:O\""
      ]
     },
     "metadata": {},
     "output_type": "display_data"
    },
    {
     "data": {
      "text/plain": [
       "\"DB: opt gap = 1.0\""
      ]
     },
     "metadata": {},
     "output_type": "display_data"
    },
    {
     "data": {
      "text/plain": [
       "\">>>>>> iteration 4:O\""
      ]
     },
     "metadata": {},
     "output_type": "display_data"
    },
    {
     "data": {
      "text/plain": [
       "\"DB: opt gap = 1.0\""
      ]
     },
     "metadata": {},
     "output_type": "display_data"
    },
    {
     "data": {
      "text/plain": [
       "\">>>>>> iteration 5:O\""
      ]
     },
     "metadata": {},
     "output_type": "display_data"
    },
    {
     "data": {
      "text/plain": [
       "\"DB: opt gap = 1.0\""
      ]
     },
     "metadata": {},
     "output_type": "display_data"
    },
    {
     "data": {
      "text/plain": [
       "\">>>>>> iteration 6:O\""
      ]
     },
     "metadata": {},
     "output_type": "display_data"
    },
    {
     "data": {
      "text/plain": [
       "\"DB: opt gap = 1.0\""
      ]
     },
     "metadata": {},
     "output_type": "display_data"
    },
    {
     "data": {
      "text/plain": [
       "\">>>>>> iteration 7:O\""
      ]
     },
     "metadata": {},
     "output_type": "display_data"
    },
    {
     "data": {
      "text/plain": [
       "\"DB: opt gap = 1.0\""
      ]
     },
     "metadata": {},
     "output_type": "display_data"
    },
    {
     "data": {
      "text/plain": [
       "\">>>>>> iteration 8:O\""
      ]
     },
     "metadata": {},
     "output_type": "display_data"
    },
    {
     "data": {
      "text/plain": [
       "\"DB: opt gap = 0.8450361183083153\""
      ]
     },
     "metadata": {},
     "output_type": "display_data"
    },
    {
     "data": {
      "text/plain": [
       "\">>>>>> iteration 9:O\""
      ]
     },
     "metadata": {},
     "output_type": "display_data"
    },
    {
     "data": {
      "text/plain": [
       "\"DB: opt gap = 0.7529672078282101\""
      ]
     },
     "metadata": {},
     "output_type": "display_data"
    },
    {
     "data": {
      "text/plain": [
       "\">>>>>> iteration 10:O\""
      ]
     },
     "metadata": {},
     "output_type": "display_data"
    },
    {
     "data": {
      "text/plain": [
       "\"DB: opt gap = 0.03639045668154254\""
      ]
     },
     "metadata": {},
     "output_type": "display_data"
    },
    {
     "data": {
      "text/plain": [
       "\">>>>>> iteration 11:O\""
      ]
     },
     "metadata": {},
     "output_type": "display_data"
    },
    {
     "data": {
      "text/plain": [
       "\"DB: opt gap = 0.03621243572639062\""
      ]
     },
     "metadata": {},
     "output_type": "display_data"
    },
    {
     "data": {
      "text/plain": [
       "\">>>>>> iteration 12:O\""
      ]
     },
     "metadata": {},
     "output_type": "display_data"
    },
    {
     "data": {
      "text/plain": [
       "\"DB: opt gap = 0.03562138151546366\""
      ]
     },
     "metadata": {},
     "output_type": "display_data"
    },
    {
     "data": {
      "text/plain": [
       "\">>>>>> iteration 13:O\""
      ]
     },
     "metadata": {},
     "output_type": "display_data"
    },
    {
     "data": {
      "text/plain": [
       "\"DB: opt gap = 0.03539038509932645\""
      ]
     },
     "metadata": {},
     "output_type": "display_data"
    },
    {
     "data": {
      "text/plain": [
       "\">>>>>> iteration 14:O\""
      ]
     },
     "metadata": {},
     "output_type": "display_data"
    },
    {
     "data": {
      "text/plain": [
       "\">>>>>> iteration 15:F\""
      ]
     },
     "metadata": {},
     "output_type": "display_data"
    },
    {
     "data": {
      "text/plain": [
       "\"DB: opt gap = 0.034984411773539864\""
      ]
     },
     "metadata": {},
     "output_type": "display_data"
    },
    {
     "data": {
      "text/plain": [
       "\">>>>>> iteration 16:O\""
      ]
     },
     "metadata": {},
     "output_type": "display_data"
    },
    {
     "data": {
      "text/plain": [
       "\"DB: opt gap = 0.034206912813680344\""
      ]
     },
     "metadata": {},
     "output_type": "display_data"
    },
    {
     "data": {
      "text/plain": [
       "\">>>>>> iteration 17:O\""
      ]
     },
     "metadata": {},
     "output_type": "display_data"
    },
    {
     "data": {
      "text/plain": [
       "\"DB: opt gap = 0.0337905854835833\""
      ]
     },
     "metadata": {},
     "output_type": "display_data"
    },
    {
     "data": {
      "text/plain": [
       "\">>>>>> iteration 18:O\""
      ]
     },
     "metadata": {},
     "output_type": "display_data"
    },
    {
     "data": {
      "text/plain": [
       "\">>>>>> iteration 19:F\""
      ]
     },
     "metadata": {},
     "output_type": "display_data"
    },
    {
     "data": {
      "text/plain": [
       "\">>>>>> iteration 20:F\""
      ]
     },
     "metadata": {},
     "output_type": "display_data"
    },
    {
     "data": {
      "text/plain": [
       "\">>>>>> iteration 21:F\""
      ]
     },
     "metadata": {},
     "output_type": "display_data"
    },
    {
     "data": {
      "text/plain": [
       "\">>>>>> iteration 22:F\""
      ]
     },
     "metadata": {},
     "output_type": "display_data"
    },
    {
     "data": {
      "text/plain": [
       "\">>>>>> iteration 23:F\""
      ]
     },
     "metadata": {},
     "output_type": "display_data"
    },
    {
     "data": {
      "text/plain": [
       "\">>>>>> iteration 24:F\""
      ]
     },
     "metadata": {},
     "output_type": "display_data"
    },
    {
     "data": {
      "text/plain": [
       "\">>>>>> iteration 25:F\""
      ]
     },
     "metadata": {},
     "output_type": "display_data"
    },
    {
     "data": {
      "text/plain": [
       "\">>>>>> iteration 26:F\""
      ]
     },
     "metadata": {},
     "output_type": "display_data"
    },
    {
     "data": {
      "text/plain": [
       "\">>>>>> iteration 27:F\""
      ]
     },
     "metadata": {},
     "output_type": "display_data"
    },
    {
     "data": {
      "text/plain": [
       "\">>>>>> iteration 28:F\""
      ]
     },
     "metadata": {},
     "output_type": "display_data"
    },
    {
     "data": {
      "text/plain": [
       "\">>>>>> iteration 29:F\""
      ]
     },
     "metadata": {},
     "output_type": "display_data"
    },
    {
     "data": {
      "text/plain": [
       "\">>>>>> iteration 30:F\""
      ]
     },
     "metadata": {},
     "output_type": "display_data"
    },
    {
     "data": {
      "text/plain": [
       "\">>>>>> iteration 31:F\""
      ]
     },
     "metadata": {},
     "output_type": "display_data"
    },
    {
     "data": {
      "text/plain": [
       "\">>>>>> iteration 32:F\""
      ]
     },
     "metadata": {},
     "output_type": "display_data"
    },
    {
     "data": {
      "text/plain": [
       "\">>>>>> iteration 33:F\""
      ]
     },
     "metadata": {},
     "output_type": "display_data"
    },
    {
     "data": {
      "text/plain": [
       "\">>>>>> iteration 34:F\""
      ]
     },
     "metadata": {},
     "output_type": "display_data"
    },
    {
     "data": {
      "text/plain": [
       "\">>>>>> iteration 35:F\""
      ]
     },
     "metadata": {},
     "output_type": "display_data"
    },
    {
     "data": {
      "text/plain": [
       "\">>>>>> iteration 36:F\""
      ]
     },
     "metadata": {},
     "output_type": "display_data"
    },
    {
     "data": {
      "text/plain": [
       "\">>>>>> iteration 37:F\""
      ]
     },
     "metadata": {},
     "output_type": "display_data"
    },
    {
     "data": {
      "text/plain": [
       "\">>>>>> iteration 38:F\""
      ]
     },
     "metadata": {},
     "output_type": "display_data"
    },
    {
     "data": {
      "text/plain": [
       "\">>>>>> iteration 39:F\""
      ]
     },
     "metadata": {},
     "output_type": "display_data"
    },
    {
     "data": {
      "text/plain": [
       "\">>>>>> iteration 40:F\""
      ]
     },
     "metadata": {},
     "output_type": "display_data"
    },
    {
     "data": {
      "text/plain": [
       "\">>>>>> iteration 41:F\""
      ]
     },
     "metadata": {},
     "output_type": "display_data"
    },
    {
     "data": {
      "text/plain": [
       "\">>>>>> iteration 42:F\""
      ]
     },
     "metadata": {},
     "output_type": "display_data"
    },
    {
     "data": {
      "text/plain": [
       "\">>>>>> iteration 43:F\""
      ]
     },
     "metadata": {},
     "output_type": "display_data"
    },
    {
     "data": {
      "text/plain": [
       "\">>>>>> iteration 44:F\""
      ]
     },
     "metadata": {},
     "output_type": "display_data"
    },
    {
     "data": {
      "text/plain": [
       "\">>>>>> iteration 45:F\""
      ]
     },
     "metadata": {},
     "output_type": "display_data"
    },
    {
     "data": {
      "text/plain": [
       "\">>>>>> iteration 46:F\""
      ]
     },
     "metadata": {},
     "output_type": "display_data"
    },
    {
     "data": {
      "text/plain": [
       "\">>>>>> iteration 47:F\""
      ]
     },
     "metadata": {},
     "output_type": "display_data"
    },
    {
     "data": {
      "text/plain": [
       "\">>>>>> iteration 48:F\""
      ]
     },
     "metadata": {},
     "output_type": "display_data"
    },
    {
     "data": {
      "text/plain": [
       "\">>>>>> iteration 49:F\""
      ]
     },
     "metadata": {},
     "output_type": "display_data"
    },
    {
     "data": {
      "text/plain": [
       "\">>>>>> iteration 50:F\""
      ]
     },
     "metadata": {},
     "output_type": "display_data"
    },
    {
     "data": {
      "text/plain": [
       "\"evaluating 21 reactors in parallel | option 3\""
      ]
     },
     "metadata": {},
     "output_type": "display_data"
    },
    {
     "data": {
      "text/plain": [
       "\"DB: opt gap = 1.0\""
      ]
     },
     "metadata": {},
     "output_type": "display_data"
    },
    {
     "data": {
      "text/plain": [
       "\">>>>>> iteration 1:O\""
      ]
     },
     "metadata": {},
     "output_type": "display_data"
    },
    {
     "data": {
      "text/plain": [
       "\"DB: opt gap = 1.0\""
      ]
     },
     "metadata": {},
     "output_type": "display_data"
    },
    {
     "data": {
      "text/plain": [
       "\">>>>>> iteration 2:O\""
      ]
     },
     "metadata": {},
     "output_type": "display_data"
    },
    {
     "data": {
      "text/plain": [
       "\"DB: opt gap = 1.0\""
      ]
     },
     "metadata": {},
     "output_type": "display_data"
    },
    {
     "data": {
      "text/plain": [
       "\">>>>>> iteration 3:O\""
      ]
     },
     "metadata": {},
     "output_type": "display_data"
    },
    {
     "data": {
      "text/plain": [
       "\"DB: opt gap = 1.0\""
      ]
     },
     "metadata": {},
     "output_type": "display_data"
    },
    {
     "data": {
      "text/plain": [
       "\">>>>>> iteration 4:O\""
      ]
     },
     "metadata": {},
     "output_type": "display_data"
    },
    {
     "data": {
      "text/plain": [
       "\"DB: opt gap = 1.0\""
      ]
     },
     "metadata": {},
     "output_type": "display_data"
    },
    {
     "data": {
      "text/plain": [
       "\">>>>>> iteration 5:O\""
      ]
     },
     "metadata": {},
     "output_type": "display_data"
    },
    {
     "data": {
      "text/plain": [
       "\"DB: opt gap = 0.8771377760126793\""
      ]
     },
     "metadata": {},
     "output_type": "display_data"
    },
    {
     "data": {
      "text/plain": [
       "\">>>>>> iteration 6:O\""
      ]
     },
     "metadata": {},
     "output_type": "display_data"
    },
    {
     "data": {
      "text/plain": [
       "\"DB: opt gap = 0.80230542239424\""
      ]
     },
     "metadata": {},
     "output_type": "display_data"
    },
    {
     "data": {
      "text/plain": [
       "\">>>>>> iteration 7:O\""
      ]
     },
     "metadata": {},
     "output_type": "display_data"
    },
    {
     "data": {
      "text/plain": [
       "\"DB: opt gap = 0.7337343614442204\""
      ]
     },
     "metadata": {},
     "output_type": "display_data"
    },
    {
     "data": {
      "text/plain": [
       "\">>>>>> iteration 8:O\""
      ]
     },
     "metadata": {},
     "output_type": "display_data"
    },
    {
     "data": {
      "text/plain": [
       "\"DB: opt gap = 0.6865459089248286\""
      ]
     },
     "metadata": {},
     "output_type": "display_data"
    },
    {
     "data": {
      "text/plain": [
       "\">>>>>> iteration 9:O\""
      ]
     },
     "metadata": {},
     "output_type": "display_data"
    },
    {
     "data": {
      "text/plain": [
       "\"DB: opt gap = 0.03508780549238812\""
      ]
     },
     "metadata": {},
     "output_type": "display_data"
    },
    {
     "data": {
      "text/plain": [
       "\">>>>>> iteration 10:O\""
      ]
     },
     "metadata": {},
     "output_type": "display_data"
    },
    {
     "data": {
      "text/plain": [
       "\"DB: opt gap = 0.03436678682788736\""
      ]
     },
     "metadata": {},
     "output_type": "display_data"
    },
    {
     "data": {
      "text/plain": [
       "\">>>>>> iteration 11:O\""
      ]
     },
     "metadata": {},
     "output_type": "display_data"
    },
    {
     "data": {
      "text/plain": [
       "\"DB: opt gap = 0.033925311680033966\""
      ]
     },
     "metadata": {},
     "output_type": "display_data"
    },
    {
     "data": {
      "text/plain": [
       "\">>>>>> iteration 12:O\""
      ]
     },
     "metadata": {},
     "output_type": "display_data"
    },
    {
     "data": {
      "text/plain": [
       "\"DB: opt gap = 0.03337631276936122\""
      ]
     },
     "metadata": {},
     "output_type": "display_data"
    },
    {
     "data": {
      "text/plain": [
       "\">>>>>> iteration 13:O\""
      ]
     },
     "metadata": {},
     "output_type": "display_data"
    },
    {
     "data": {
      "text/plain": [
       "\"DB: opt gap = 0.03290132058592179\""
      ]
     },
     "metadata": {},
     "output_type": "display_data"
    },
    {
     "data": {
      "text/plain": [
       "\">>>>>> iteration 14:O\""
      ]
     },
     "metadata": {},
     "output_type": "display_data"
    },
    {
     "data": {
      "text/plain": [
       "\"DB: opt gap = 0.03249997684338585\""
      ]
     },
     "metadata": {},
     "output_type": "display_data"
    },
    {
     "data": {
      "text/plain": [
       "\">>>>>> iteration 15:O\""
      ]
     },
     "metadata": {},
     "output_type": "display_data"
    },
    {
     "data": {
      "text/plain": [
       "\"DB: opt gap = 0.031892657500869614\""
      ]
     },
     "metadata": {},
     "output_type": "display_data"
    },
    {
     "data": {
      "text/plain": [
       "\">>>>>> iteration 16:O\""
      ]
     },
     "metadata": {},
     "output_type": "display_data"
    },
    {
     "data": {
      "text/plain": [
       "\"DB: opt gap = 5.3575201339242236e-5\""
      ]
     },
     "metadata": {},
     "output_type": "display_data"
    },
    {
     "data": {
      "text/plain": [
       "\"evaluating 22 reactors in parallel | option 3\""
      ]
     },
     "metadata": {},
     "output_type": "display_data"
    },
    {
     "data": {
      "text/plain": [
       "\"DB: opt gap = 1.0\""
      ]
     },
     "metadata": {},
     "output_type": "display_data"
    },
    {
     "data": {
      "text/plain": [
       "\">>>>>> iteration 1:O\""
      ]
     },
     "metadata": {},
     "output_type": "display_data"
    },
    {
     "data": {
      "text/plain": [
       "\"DB: opt gap = 1.0\""
      ]
     },
     "metadata": {},
     "output_type": "display_data"
    },
    {
     "data": {
      "text/plain": [
       "\">>>>>> iteration 2:O\""
      ]
     },
     "metadata": {},
     "output_type": "display_data"
    },
    {
     "data": {
      "text/plain": [
       "\"DB: opt gap = 1.0\""
      ]
     },
     "metadata": {},
     "output_type": "display_data"
    },
    {
     "data": {
      "text/plain": [
       "\">>>>>> iteration 3:O\""
      ]
     },
     "metadata": {},
     "output_type": "display_data"
    },
    {
     "data": {
      "text/plain": [
       "\"DB: opt gap = 1.0\""
      ]
     },
     "metadata": {},
     "output_type": "display_data"
    },
    {
     "data": {
      "text/plain": [
       "\">>>>>> iteration 4:O\""
      ]
     },
     "metadata": {},
     "output_type": "display_data"
    },
    {
     "data": {
      "text/plain": [
       "\"DB: opt gap = 1.0\""
      ]
     },
     "metadata": {},
     "output_type": "display_data"
    },
    {
     "data": {
      "text/plain": [
       "\">>>>>> iteration 5:O\""
      ]
     },
     "metadata": {},
     "output_type": "display_data"
    },
    {
     "data": {
      "text/plain": [
       "\"DB: opt gap = 1.0\""
      ]
     },
     "metadata": {},
     "output_type": "display_data"
    },
    {
     "data": {
      "text/plain": [
       "\">>>>>> iteration 6:O\""
      ]
     },
     "metadata": {},
     "output_type": "display_data"
    },
    {
     "data": {
      "text/plain": [
       "\"DB: opt gap = 1.0\""
      ]
     },
     "metadata": {},
     "output_type": "display_data"
    },
    {
     "data": {
      "text/plain": [
       "\">>>>>> iteration 7:O\""
      ]
     },
     "metadata": {},
     "output_type": "display_data"
    },
    {
     "data": {
      "text/plain": [
       "\"DB: opt gap = 1.0\""
      ]
     },
     "metadata": {},
     "output_type": "display_data"
    },
    {
     "data": {
      "text/plain": [
       "\">>>>>> iteration 8:O\""
      ]
     },
     "metadata": {},
     "output_type": "display_data"
    },
    {
     "data": {
      "text/plain": [
       "\"DB: opt gap = 1.0\""
      ]
     },
     "metadata": {},
     "output_type": "display_data"
    },
    {
     "data": {
      "text/plain": [
       "\">>>>>> iteration 9:O\""
      ]
     },
     "metadata": {},
     "output_type": "display_data"
    },
    {
     "data": {
      "text/plain": [
       "\"DB: opt gap = 1.0\""
      ]
     },
     "metadata": {},
     "output_type": "display_data"
    },
    {
     "data": {
      "text/plain": [
       "\">>>>>> iteration 10:O\""
      ]
     },
     "metadata": {},
     "output_type": "display_data"
    },
    {
     "data": {
      "text/plain": [
       "\"DB: opt gap = 0.07277947782051415\""
      ]
     },
     "metadata": {},
     "output_type": "display_data"
    },
    {
     "data": {
      "text/plain": [
       "\">>>>>> iteration 11:O\""
      ]
     },
     "metadata": {},
     "output_type": "display_data"
    },
    {
     "data": {
      "text/plain": [
       "\"DB: opt gap = 0.07227370158677723\""
      ]
     },
     "metadata": {},
     "output_type": "display_data"
    },
    {
     "data": {
      "text/plain": [
       "\">>>>>> iteration 12:O\""
      ]
     },
     "metadata": {},
     "output_type": "display_data"
    },
    {
     "data": {
      "text/plain": [
       "\"DB: opt gap = 7.554487495505904e-5\""
      ]
     },
     "metadata": {},
     "output_type": "display_data"
    },
    {
     "data": {
      "text/plain": [
       "\"evaluating 23 reactors in parallel | option 3\""
      ]
     },
     "metadata": {},
     "output_type": "display_data"
    },
    {
     "data": {
      "text/plain": [
       "\"DB: opt gap = 1.0\""
      ]
     },
     "metadata": {},
     "output_type": "display_data"
    },
    {
     "data": {
      "text/plain": [
       "\">>>>>> iteration 1:O\""
      ]
     },
     "metadata": {},
     "output_type": "display_data"
    },
    {
     "data": {
      "text/plain": [
       "\"DB: opt gap = 1.0\""
      ]
     },
     "metadata": {},
     "output_type": "display_data"
    },
    {
     "data": {
      "text/plain": [
       "\">>>>>> iteration 2:O\""
      ]
     },
     "metadata": {},
     "output_type": "display_data"
    },
    {
     "data": {
      "text/plain": [
       "\"DB: opt gap = 1.0\""
      ]
     },
     "metadata": {},
     "output_type": "display_data"
    },
    {
     "data": {
      "text/plain": [
       "\">>>>>> iteration 3:O\""
      ]
     },
     "metadata": {},
     "output_type": "display_data"
    },
    {
     "data": {
      "text/plain": [
       "\"DB: opt gap = 1.0\""
      ]
     },
     "metadata": {},
     "output_type": "display_data"
    },
    {
     "data": {
      "text/plain": [
       "\">>>>>> iteration 4:O\""
      ]
     },
     "metadata": {},
     "output_type": "display_data"
    },
    {
     "data": {
      "text/plain": [
       "\"DB: opt gap = 1.0\""
      ]
     },
     "metadata": {},
     "output_type": "display_data"
    },
    {
     "data": {
      "text/plain": [
       "\">>>>>> iteration 5:O\""
      ]
     },
     "metadata": {},
     "output_type": "display_data"
    },
    {
     "data": {
      "text/plain": [
       "\"DB: opt gap = 1.0\""
      ]
     },
     "metadata": {},
     "output_type": "display_data"
    },
    {
     "data": {
      "text/plain": [
       "\">>>>>> iteration 6:O\""
      ]
     },
     "metadata": {},
     "output_type": "display_data"
    },
    {
     "data": {
      "text/plain": [
       "\"DB: opt gap = 1.0\""
      ]
     },
     "metadata": {},
     "output_type": "display_data"
    },
    {
     "data": {
      "text/plain": [
       "\">>>>>> iteration 7:O\""
      ]
     },
     "metadata": {},
     "output_type": "display_data"
    },
    {
     "data": {
      "text/plain": [
       "\"DB: opt gap = 1.0\""
      ]
     },
     "metadata": {},
     "output_type": "display_data"
    },
    {
     "data": {
      "text/plain": [
       "\">>>>>> iteration 8:O\""
      ]
     },
     "metadata": {},
     "output_type": "display_data"
    },
    {
     "data": {
      "text/plain": [
       "\"DB: opt gap = 0.9556457855025411\""
      ]
     },
     "metadata": {},
     "output_type": "display_data"
    },
    {
     "data": {
      "text/plain": [
       "\">>>>>> iteration 9:O\""
      ]
     },
     "metadata": {},
     "output_type": "display_data"
    },
    {
     "data": {
      "text/plain": [
       "\"DB: opt gap = 0.8890877582628005\""
      ]
     },
     "metadata": {},
     "output_type": "display_data"
    },
    {
     "data": {
      "text/plain": [
       "\">>>>>> iteration 10:O\""
      ]
     },
     "metadata": {},
     "output_type": "display_data"
    },
    {
     "data": {
      "text/plain": [
       "\"DB: opt gap = 0.5257017362732989\""
      ]
     },
     "metadata": {},
     "output_type": "display_data"
    },
    {
     "data": {
      "text/plain": [
       "\">>>>>> iteration 11:O\""
      ]
     },
     "metadata": {},
     "output_type": "display_data"
    },
    {
     "data": {
      "text/plain": [
       "\"DB: opt gap = 0.026276907130132737\""
      ]
     },
     "metadata": {},
     "output_type": "display_data"
    },
    {
     "data": {
      "text/plain": [
       "\">>>>>> iteration 12:O\""
      ]
     },
     "metadata": {},
     "output_type": "display_data"
    },
    {
     "data": {
      "text/plain": [
       "\"DB: opt gap = 0.026194803629266204\""
      ]
     },
     "metadata": {},
     "output_type": "display_data"
    },
    {
     "data": {
      "text/plain": [
       "\">>>>>> iteration 13:O\""
      ]
     },
     "metadata": {},
     "output_type": "display_data"
    },
    {
     "data": {
      "text/plain": [
       "\"DB: opt gap = 0.02594429867034302\""
      ]
     },
     "metadata": {},
     "output_type": "display_data"
    },
    {
     "data": {
      "text/plain": [
       "\">>>>>> iteration 14:O\""
      ]
     },
     "metadata": {},
     "output_type": "display_data"
    },
    {
     "data": {
      "text/plain": [
       "\"DB: opt gap = 0.025864010130539686\""
      ]
     },
     "metadata": {},
     "output_type": "display_data"
    },
    {
     "data": {
      "text/plain": [
       "\">>>>>> iteration 15:O\""
      ]
     },
     "metadata": {},
     "output_type": "display_data"
    },
    {
     "data": {
      "text/plain": [
       "\"DB: opt gap = 8.34078170861152e-6\""
      ]
     },
     "metadata": {},
     "output_type": "display_data"
    },
    {
     "data": {
      "text/plain": [
       "\"evaluating 24 reactors in parallel | option 3\""
      ]
     },
     "metadata": {},
     "output_type": "display_data"
    },
    {
     "data": {
      "text/plain": [
       "\"DB: opt gap = 1.0\""
      ]
     },
     "metadata": {},
     "output_type": "display_data"
    },
    {
     "data": {
      "text/plain": [
       "\">>>>>> iteration 1:O\""
      ]
     },
     "metadata": {},
     "output_type": "display_data"
    },
    {
     "data": {
      "text/plain": [
       "\"DB: opt gap = 1.0\""
      ]
     },
     "metadata": {},
     "output_type": "display_data"
    },
    {
     "data": {
      "text/plain": [
       "\">>>>>> iteration 2:O\""
      ]
     },
     "metadata": {},
     "output_type": "display_data"
    },
    {
     "data": {
      "text/plain": [
       "\"DB: opt gap = 1.0\""
      ]
     },
     "metadata": {},
     "output_type": "display_data"
    },
    {
     "data": {
      "text/plain": [
       "\">>>>>> iteration 3:O\""
      ]
     },
     "metadata": {},
     "output_type": "display_data"
    },
    {
     "data": {
      "text/plain": [
       "\"DB: opt gap = 1.0\""
      ]
     },
     "metadata": {},
     "output_type": "display_data"
    },
    {
     "data": {
      "text/plain": [
       "\">>>>>> iteration 4:O\""
      ]
     },
     "metadata": {},
     "output_type": "display_data"
    },
    {
     "data": {
      "text/plain": [
       "\"DB: opt gap = 1.0\""
      ]
     },
     "metadata": {},
     "output_type": "display_data"
    },
    {
     "data": {
      "text/plain": [
       "\">>>>>> iteration 5:O\""
      ]
     },
     "metadata": {},
     "output_type": "display_data"
    },
    {
     "data": {
      "text/plain": [
       "\"DB: opt gap = 1.0\""
      ]
     },
     "metadata": {},
     "output_type": "display_data"
    },
    {
     "data": {
      "text/plain": [
       "\">>>>>> iteration 6:O\""
      ]
     },
     "metadata": {},
     "output_type": "display_data"
    },
    {
     "data": {
      "text/plain": [
       "\"DB: opt gap = 1.0\""
      ]
     },
     "metadata": {},
     "output_type": "display_data"
    },
    {
     "data": {
      "text/plain": [
       "\">>>>>> iteration 7:O\""
      ]
     },
     "metadata": {},
     "output_type": "display_data"
    },
    {
     "data": {
      "text/plain": [
       "\"DB: opt gap = 1.0\""
      ]
     },
     "metadata": {},
     "output_type": "display_data"
    },
    {
     "data": {
      "text/plain": [
       "\">>>>>> iteration 8:O\""
      ]
     },
     "metadata": {},
     "output_type": "display_data"
    },
    {
     "data": {
      "text/plain": [
       "\"DB: opt gap = 1.0\""
      ]
     },
     "metadata": {},
     "output_type": "display_data"
    },
    {
     "data": {
      "text/plain": [
       "\">>>>>> iteration 9:O\""
      ]
     },
     "metadata": {},
     "output_type": "display_data"
    },
    {
     "data": {
      "text/plain": [
       "\"DB: opt gap = 0.9631417792257566\""
      ]
     },
     "metadata": {},
     "output_type": "display_data"
    },
    {
     "data": {
      "text/plain": [
       "\">>>>>> iteration 10:O\""
      ]
     },
     "metadata": {},
     "output_type": "display_data"
    },
    {
     "data": {
      "text/plain": [
       "\"DB: opt gap = 0.8562712233454939\""
      ]
     },
     "metadata": {},
     "output_type": "display_data"
    },
    {
     "data": {
      "text/plain": [
       "\">>>>>> iteration 11:O\""
      ]
     },
     "metadata": {},
     "output_type": "display_data"
    },
    {
     "data": {
      "text/plain": [
       "\"DB: opt gap = 0.06585762875742791\""
      ]
     },
     "metadata": {},
     "output_type": "display_data"
    },
    {
     "data": {
      "text/plain": [
       "\">>>>>> iteration 12:O\""
      ]
     },
     "metadata": {},
     "output_type": "display_data"
    },
    {
     "data": {
      "text/plain": [
       "\"DB: opt gap = 0.06526727952613891\""
      ]
     },
     "metadata": {},
     "output_type": "display_data"
    },
    {
     "data": {
      "text/plain": [
       "\">>>>>> iteration 13:O\""
      ]
     },
     "metadata": {},
     "output_type": "display_data"
    },
    {
     "data": {
      "text/plain": [
       "\"DB: opt gap = 0.06422048910193139\""
      ]
     },
     "metadata": {},
     "output_type": "display_data"
    },
    {
     "data": {
      "text/plain": [
       "\">>>>>> iteration 14:O\""
      ]
     },
     "metadata": {},
     "output_type": "display_data"
    },
    {
     "data": {
      "text/plain": [
       "\"DB: opt gap = 0.06381326439809958\""
      ]
     },
     "metadata": {},
     "output_type": "display_data"
    },
    {
     "data": {
      "text/plain": [
       "\">>>>>> iteration 15:O\""
      ]
     },
     "metadata": {},
     "output_type": "display_data"
    },
    {
     "data": {
      "text/plain": [
       "\"DB: opt gap = 0.06227248297583878\""
      ]
     },
     "metadata": {},
     "output_type": "display_data"
    },
    {
     "data": {
      "text/plain": [
       "\">>>>>> iteration 16:O\""
      ]
     },
     "metadata": {},
     "output_type": "display_data"
    },
    {
     "data": {
      "text/plain": [
       "\"DB: opt gap = 0.000152124228323646\""
      ]
     },
     "metadata": {},
     "output_type": "display_data"
    },
    {
     "data": {
      "text/plain": [
       "\"evaluating 25 reactors in parallel | option 3\""
      ]
     },
     "metadata": {},
     "output_type": "display_data"
    },
    {
     "data": {
      "text/plain": [
       "\"DB: opt gap = 1.0\""
      ]
     },
     "metadata": {},
     "output_type": "display_data"
    },
    {
     "data": {
      "text/plain": [
       "\">>>>>> iteration 1:O\""
      ]
     },
     "metadata": {},
     "output_type": "display_data"
    },
    {
     "data": {
      "text/plain": [
       "\"DB: opt gap = 1.0\""
      ]
     },
     "metadata": {},
     "output_type": "display_data"
    },
    {
     "data": {
      "text/plain": [
       "\">>>>>> iteration 2:O\""
      ]
     },
     "metadata": {},
     "output_type": "display_data"
    },
    {
     "data": {
      "text/plain": [
       "\"DB: opt gap = 1.0\""
      ]
     },
     "metadata": {},
     "output_type": "display_data"
    },
    {
     "data": {
      "text/plain": [
       "\">>>>>> iteration 3:O\""
      ]
     },
     "metadata": {},
     "output_type": "display_data"
    },
    {
     "data": {
      "text/plain": [
       "\"DB: opt gap = 1.0\""
      ]
     },
     "metadata": {},
     "output_type": "display_data"
    },
    {
     "data": {
      "text/plain": [
       "\">>>>>> iteration 4:O\""
      ]
     },
     "metadata": {},
     "output_type": "display_data"
    },
    {
     "data": {
      "text/plain": [
       "\"DB: opt gap = 1.0\""
      ]
     },
     "metadata": {},
     "output_type": "display_data"
    },
    {
     "data": {
      "text/plain": [
       "\">>>>>> iteration 5:O\""
      ]
     },
     "metadata": {},
     "output_type": "display_data"
    },
    {
     "data": {
      "text/plain": [
       "\"DB: opt gap = 1.0\""
      ]
     },
     "metadata": {},
     "output_type": "display_data"
    },
    {
     "data": {
      "text/plain": [
       "\">>>>>> iteration 6:O\""
      ]
     },
     "metadata": {},
     "output_type": "display_data"
    },
    {
     "data": {
      "text/plain": [
       "\"DB: opt gap = 1.0\""
      ]
     },
     "metadata": {},
     "output_type": "display_data"
    },
    {
     "data": {
      "text/plain": [
       "\">>>>>> iteration 7:O\""
      ]
     },
     "metadata": {},
     "output_type": "display_data"
    },
    {
     "data": {
      "text/plain": [
       "\"DB: opt gap = 1.0\""
      ]
     },
     "metadata": {},
     "output_type": "display_data"
    },
    {
     "data": {
      "text/plain": [
       "\">>>>>> iteration 8:O\""
      ]
     },
     "metadata": {},
     "output_type": "display_data"
    },
    {
     "data": {
      "text/plain": [
       "\"DB: opt gap = 0.994140048338326\""
      ]
     },
     "metadata": {},
     "output_type": "display_data"
    },
    {
     "data": {
      "text/plain": [
       "\">>>>>> iteration 9:O\""
      ]
     },
     "metadata": {},
     "output_type": "display_data"
    },
    {
     "data": {
      "text/plain": [
       "\"DB: opt gap = 0.9686989240437034\""
      ]
     },
     "metadata": {},
     "output_type": "display_data"
    },
    {
     "data": {
      "text/plain": [
       "\">>>>>> iteration 10:O\""
      ]
     },
     "metadata": {},
     "output_type": "display_data"
    },
    {
     "data": {
      "text/plain": [
       "\"DB: opt gap = 0.6256586491901208\""
      ]
     },
     "metadata": {},
     "output_type": "display_data"
    },
    {
     "data": {
      "text/plain": [
       "\">>>>>> iteration 11:O\""
      ]
     },
     "metadata": {},
     "output_type": "display_data"
    },
    {
     "data": {
      "text/plain": [
       "\"DB: opt gap = 0.6097031788666384\""
      ]
     },
     "metadata": {},
     "output_type": "display_data"
    },
    {
     "data": {
      "text/plain": [
       "\">>>>>> iteration 12:O\""
      ]
     },
     "metadata": {},
     "output_type": "display_data"
    },
    {
     "data": {
      "text/plain": [
       "\"DB: opt gap = 0.600791292574953\""
      ]
     },
     "metadata": {},
     "output_type": "display_data"
    },
    {
     "data": {
      "text/plain": [
       "\">>>>>> iteration 13:O\""
      ]
     },
     "metadata": {},
     "output_type": "display_data"
    },
    {
     "data": {
      "text/plain": [
       "\"DB: opt gap = 0.5912092834059574\""
      ]
     },
     "metadata": {},
     "output_type": "display_data"
    },
    {
     "data": {
      "text/plain": [
       "\">>>>>> iteration 14:O\""
      ]
     },
     "metadata": {},
     "output_type": "display_data"
    },
    {
     "data": {
      "text/plain": [
       "\"DB: opt gap = 0.032354386256264134\""
      ]
     },
     "metadata": {},
     "output_type": "display_data"
    },
    {
     "data": {
      "text/plain": [
       "\">>>>>> iteration 15:O\""
      ]
     },
     "metadata": {},
     "output_type": "display_data"
    },
    {
     "data": {
      "text/plain": [
       "\"DB: opt gap = 4.654467050600923e-6\""
      ]
     },
     "metadata": {},
     "output_type": "display_data"
    },
    {
     "data": {
      "text/plain": [
       "\"evaluating 26 reactors in parallel | option 3\""
      ]
     },
     "metadata": {},
     "output_type": "display_data"
    },
    {
     "data": {
      "text/plain": [
       "\"DB: opt gap = 1.0\""
      ]
     },
     "metadata": {},
     "output_type": "display_data"
    },
    {
     "data": {
      "text/plain": [
       "\">>>>>> iteration 1:O\""
      ]
     },
     "metadata": {},
     "output_type": "display_data"
    },
    {
     "data": {
      "text/plain": [
       "\"DB: opt gap = 1.0\""
      ]
     },
     "metadata": {},
     "output_type": "display_data"
    },
    {
     "data": {
      "text/plain": [
       "\">>>>>> iteration 2:O\""
      ]
     },
     "metadata": {},
     "output_type": "display_data"
    },
    {
     "data": {
      "text/plain": [
       "\"DB: opt gap = 1.0\""
      ]
     },
     "metadata": {},
     "output_type": "display_data"
    },
    {
     "data": {
      "text/plain": [
       "\">>>>>> iteration 3:O\""
      ]
     },
     "metadata": {},
     "output_type": "display_data"
    },
    {
     "data": {
      "text/plain": [
       "\"DB: opt gap = 1.0\""
      ]
     },
     "metadata": {},
     "output_type": "display_data"
    },
    {
     "data": {
      "text/plain": [
       "\">>>>>> iteration 4:O\""
      ]
     },
     "metadata": {},
     "output_type": "display_data"
    },
    {
     "data": {
      "text/plain": [
       "\"DB: opt gap = 1.0\""
      ]
     },
     "metadata": {},
     "output_type": "display_data"
    },
    {
     "data": {
      "text/plain": [
       "\">>>>>> iteration 5:O\""
      ]
     },
     "metadata": {},
     "output_type": "display_data"
    },
    {
     "data": {
      "text/plain": [
       "\"DB: opt gap = 1.0\""
      ]
     },
     "metadata": {},
     "output_type": "display_data"
    },
    {
     "data": {
      "text/plain": [
       "\">>>>>> iteration 6:O\""
      ]
     },
     "metadata": {},
     "output_type": "display_data"
    },
    {
     "data": {
      "text/plain": [
       "\"DB: opt gap = 1.0\""
      ]
     },
     "metadata": {},
     "output_type": "display_data"
    },
    {
     "data": {
      "text/plain": [
       "\">>>>>> iteration 7:O\""
      ]
     },
     "metadata": {},
     "output_type": "display_data"
    },
    {
     "data": {
      "text/plain": [
       "\"DB: opt gap = 1.0\""
      ]
     },
     "metadata": {},
     "output_type": "display_data"
    },
    {
     "data": {
      "text/plain": [
       "\">>>>>> iteration 8:O\""
      ]
     },
     "metadata": {},
     "output_type": "display_data"
    },
    {
     "data": {
      "text/plain": [
       "\"DB: opt gap = 0.9053180180521777\""
      ]
     },
     "metadata": {},
     "output_type": "display_data"
    },
    {
     "data": {
      "text/plain": [
       "\">>>>>> iteration 9:O\""
      ]
     },
     "metadata": {},
     "output_type": "display_data"
    },
    {
     "data": {
      "text/plain": [
       "\"DB: opt gap = 0.7853463904845494\""
      ]
     },
     "metadata": {},
     "output_type": "display_data"
    },
    {
     "data": {
      "text/plain": [
       "\">>>>>> iteration 10:O\""
      ]
     },
     "metadata": {},
     "output_type": "display_data"
    },
    {
     "data": {
      "text/plain": [
       "\"DB: opt gap = 0.09093293193190805\""
      ]
     },
     "metadata": {},
     "output_type": "display_data"
    },
    {
     "data": {
      "text/plain": [
       "\">>>>>> iteration 11:O\""
      ]
     },
     "metadata": {},
     "output_type": "display_data"
    },
    {
     "data": {
      "text/plain": [
       "\"DB: opt gap = 0.0902219560545052\""
      ]
     },
     "metadata": {},
     "output_type": "display_data"
    },
    {
     "data": {
      "text/plain": [
       "\">>>>>> iteration 12:O\""
      ]
     },
     "metadata": {},
     "output_type": "display_data"
    },
    {
     "data": {
      "text/plain": [
       "\"DB: opt gap = 0.08687998999524443\""
      ]
     },
     "metadata": {},
     "output_type": "display_data"
    },
    {
     "data": {
      "text/plain": [
       "\">>>>>> iteration 13:O\""
      ]
     },
     "metadata": {},
     "output_type": "display_data"
    },
    {
     "data": {
      "text/plain": [
       "\"DB: opt gap = 0.08623898652908979\""
      ]
     },
     "metadata": {},
     "output_type": "display_data"
    },
    {
     "data": {
      "text/plain": [
       "\">>>>>> iteration 14:O\""
      ]
     },
     "metadata": {},
     "output_type": "display_data"
    },
    {
     "data": {
      "text/plain": [
       "\"DB: opt gap = 0.00033753548230968885\""
      ]
     },
     "metadata": {},
     "output_type": "display_data"
    },
    {
     "data": {
      "text/plain": [
       "\"evaluating 27 reactors in parallel | option 3\""
      ]
     },
     "metadata": {},
     "output_type": "display_data"
    },
    {
     "data": {
      "text/plain": [
       "\"DB: opt gap = 1.0\""
      ]
     },
     "metadata": {},
     "output_type": "display_data"
    },
    {
     "data": {
      "text/plain": [
       "\">>>>>> iteration 1:O\""
      ]
     },
     "metadata": {},
     "output_type": "display_data"
    },
    {
     "data": {
      "text/plain": [
       "\"DB: opt gap = 1.0\""
      ]
     },
     "metadata": {},
     "output_type": "display_data"
    },
    {
     "data": {
      "text/plain": [
       "\">>>>>> iteration 2:O\""
      ]
     },
     "metadata": {},
     "output_type": "display_data"
    },
    {
     "data": {
      "text/plain": [
       "\"DB: opt gap = 1.0\""
      ]
     },
     "metadata": {},
     "output_type": "display_data"
    },
    {
     "data": {
      "text/plain": [
       "\">>>>>> iteration 3:O\""
      ]
     },
     "metadata": {},
     "output_type": "display_data"
    },
    {
     "data": {
      "text/plain": [
       "\"DB: opt gap = 1.0\""
      ]
     },
     "metadata": {},
     "output_type": "display_data"
    },
    {
     "data": {
      "text/plain": [
       "\">>>>>> iteration 4:O\""
      ]
     },
     "metadata": {},
     "output_type": "display_data"
    },
    {
     "data": {
      "text/plain": [
       "\"DB: opt gap = 1.0\""
      ]
     },
     "metadata": {},
     "output_type": "display_data"
    },
    {
     "data": {
      "text/plain": [
       "\">>>>>> iteration 5:O\""
      ]
     },
     "metadata": {},
     "output_type": "display_data"
    },
    {
     "data": {
      "text/plain": [
       "\"DB: opt gap = 1.0\""
      ]
     },
     "metadata": {},
     "output_type": "display_data"
    },
    {
     "data": {
      "text/plain": [
       "\">>>>>> iteration 6:O\""
      ]
     },
     "metadata": {},
     "output_type": "display_data"
    },
    {
     "data": {
      "text/plain": [
       "\"DB: opt gap = 1.0\""
      ]
     },
     "metadata": {},
     "output_type": "display_data"
    },
    {
     "data": {
      "text/plain": [
       "\">>>>>> iteration 7:O\""
      ]
     },
     "metadata": {},
     "output_type": "display_data"
    },
    {
     "data": {
      "text/plain": [
       "\"DB: opt gap = 1.0\""
      ]
     },
     "metadata": {},
     "output_type": "display_data"
    },
    {
     "data": {
      "text/plain": [
       "\">>>>>> iteration 8:O\""
      ]
     },
     "metadata": {},
     "output_type": "display_data"
    },
    {
     "data": {
      "text/plain": [
       "\"DB: opt gap = 1.0\""
      ]
     },
     "metadata": {},
     "output_type": "display_data"
    },
    {
     "data": {
      "text/plain": [
       "\">>>>>> iteration 9:O\""
      ]
     },
     "metadata": {},
     "output_type": "display_data"
    },
    {
     "data": {
      "text/plain": [
       "\"DB: opt gap = 1.0\""
      ]
     },
     "metadata": {},
     "output_type": "display_data"
    },
    {
     "data": {
      "text/plain": [
       "\">>>>>> iteration 10:O\""
      ]
     },
     "metadata": {},
     "output_type": "display_data"
    },
    {
     "data": {
      "text/plain": [
       "\"DB: opt gap = 0.06277954711234984\""
      ]
     },
     "metadata": {},
     "output_type": "display_data"
    },
    {
     "data": {
      "text/plain": [
       "\">>>>>> iteration 11:O\""
      ]
     },
     "metadata": {},
     "output_type": "display_data"
    },
    {
     "data": {
      "text/plain": [
       "\"DB: opt gap = 4.8953689181343196e-5\""
      ]
     },
     "metadata": {},
     "output_type": "display_data"
    },
    {
     "data": {
      "text/plain": [
       "\"evaluating 28 reactors in parallel | option 3\""
      ]
     },
     "metadata": {},
     "output_type": "display_data"
    },
    {
     "data": {
      "text/plain": [
       "\"DB: opt gap = 1.0\""
      ]
     },
     "metadata": {},
     "output_type": "display_data"
    },
    {
     "data": {
      "text/plain": [
       "\">>>>>> iteration 1:O\""
      ]
     },
     "metadata": {},
     "output_type": "display_data"
    },
    {
     "data": {
      "text/plain": [
       "\"DB: opt gap = 1.0\""
      ]
     },
     "metadata": {},
     "output_type": "display_data"
    },
    {
     "data": {
      "text/plain": [
       "\">>>>>> iteration 2:O\""
      ]
     },
     "metadata": {},
     "output_type": "display_data"
    },
    {
     "data": {
      "text/plain": [
       "\"DB: opt gap = 1.0\""
      ]
     },
     "metadata": {},
     "output_type": "display_data"
    },
    {
     "data": {
      "text/plain": [
       "\">>>>>> iteration 3:O\""
      ]
     },
     "metadata": {},
     "output_type": "display_data"
    },
    {
     "data": {
      "text/plain": [
       "\"DB: opt gap = 1.0\""
      ]
     },
     "metadata": {},
     "output_type": "display_data"
    },
    {
     "data": {
      "text/plain": [
       "\">>>>>> iteration 4:O\""
      ]
     },
     "metadata": {},
     "output_type": "display_data"
    },
    {
     "data": {
      "text/plain": [
       "\"DB: opt gap = 1.0\""
      ]
     },
     "metadata": {},
     "output_type": "display_data"
    },
    {
     "data": {
      "text/plain": [
       "\">>>>>> iteration 5:O\""
      ]
     },
     "metadata": {},
     "output_type": "display_data"
    },
    {
     "data": {
      "text/plain": [
       "\"DB: opt gap = 1.0\""
      ]
     },
     "metadata": {},
     "output_type": "display_data"
    },
    {
     "data": {
      "text/plain": [
       "\">>>>>> iteration 6:O\""
      ]
     },
     "metadata": {},
     "output_type": "display_data"
    },
    {
     "data": {
      "text/plain": [
       "\"DB: opt gap = 1.0\""
      ]
     },
     "metadata": {},
     "output_type": "display_data"
    },
    {
     "data": {
      "text/plain": [
       "\">>>>>> iteration 7:O\""
      ]
     },
     "metadata": {},
     "output_type": "display_data"
    },
    {
     "data": {
      "text/plain": [
       "\"DB: opt gap = 1.0\""
      ]
     },
     "metadata": {},
     "output_type": "display_data"
    },
    {
     "data": {
      "text/plain": [
       "\">>>>>> iteration 8:O\""
      ]
     },
     "metadata": {},
     "output_type": "display_data"
    },
    {
     "data": {
      "text/plain": [
       "\"DB: opt gap = 0.9326830663031851\""
      ]
     },
     "metadata": {},
     "output_type": "display_data"
    },
    {
     "data": {
      "text/plain": [
       "\">>>>>> iteration 9:O\""
      ]
     },
     "metadata": {},
     "output_type": "display_data"
    },
    {
     "data": {
      "text/plain": [
       "\"DB: opt gap = 0.6769010659264169\""
      ]
     },
     "metadata": {},
     "output_type": "display_data"
    },
    {
     "data": {
      "text/plain": [
       "\">>>>>> iteration 10:O\""
      ]
     },
     "metadata": {},
     "output_type": "display_data"
    },
    {
     "data": {
      "text/plain": [
       "\"DB: opt gap = 0.020876058968367583\""
      ]
     },
     "metadata": {},
     "output_type": "display_data"
    },
    {
     "data": {
      "text/plain": [
       "\">>>>>> iteration 11:O\""
      ]
     },
     "metadata": {},
     "output_type": "display_data"
    },
    {
     "data": {
      "text/plain": [
       "\"DB: opt gap = 0.020628466091297006\""
      ]
     },
     "metadata": {},
     "output_type": "display_data"
    },
    {
     "data": {
      "text/plain": [
       "\">>>>>> iteration 12:O\""
      ]
     },
     "metadata": {},
     "output_type": "display_data"
    },
    {
     "data": {
      "text/plain": [
       "\"DB: opt gap = 0.020402661309277887\""
      ]
     },
     "metadata": {},
     "output_type": "display_data"
    },
    {
     "data": {
      "text/plain": [
       "\">>>>>> iteration 13:O\""
      ]
     },
     "metadata": {},
     "output_type": "display_data"
    },
    {
     "data": {
      "text/plain": [
       "\"DB: opt gap = 9.260609118139441e-6\""
      ]
     },
     "metadata": {},
     "output_type": "display_data"
    },
    {
     "data": {
      "text/plain": [
       "\"evaluating 29 reactors in parallel | option 3\""
      ]
     },
     "metadata": {},
     "output_type": "display_data"
    },
    {
     "data": {
      "text/plain": [
       "\"DB: opt gap = 1.0\""
      ]
     },
     "metadata": {},
     "output_type": "display_data"
    },
    {
     "data": {
      "text/plain": [
       "\">>>>>> iteration 1:O\""
      ]
     },
     "metadata": {},
     "output_type": "display_data"
    },
    {
     "data": {
      "text/plain": [
       "\"DB: opt gap = 1.0\""
      ]
     },
     "metadata": {},
     "output_type": "display_data"
    },
    {
     "data": {
      "text/plain": [
       "\">>>>>> iteration 2:O\""
      ]
     },
     "metadata": {},
     "output_type": "display_data"
    },
    {
     "data": {
      "text/plain": [
       "\"DB: opt gap = 1.0\""
      ]
     },
     "metadata": {},
     "output_type": "display_data"
    },
    {
     "data": {
      "text/plain": [
       "\">>>>>> iteration 3:O\""
      ]
     },
     "metadata": {},
     "output_type": "display_data"
    },
    {
     "data": {
      "text/plain": [
       "\"DB: opt gap = 1.0\""
      ]
     },
     "metadata": {},
     "output_type": "display_data"
    },
    {
     "data": {
      "text/plain": [
       "\">>>>>> iteration 4:O\""
      ]
     },
     "metadata": {},
     "output_type": "display_data"
    },
    {
     "data": {
      "text/plain": [
       "\"DB: opt gap = 1.0\""
      ]
     },
     "metadata": {},
     "output_type": "display_data"
    },
    {
     "data": {
      "text/plain": [
       "\">>>>>> iteration 5:O\""
      ]
     },
     "metadata": {},
     "output_type": "display_data"
    },
    {
     "data": {
      "text/plain": [
       "\"DB: opt gap = 1.0\""
      ]
     },
     "metadata": {},
     "output_type": "display_data"
    },
    {
     "data": {
      "text/plain": [
       "\">>>>>> iteration 6:O\""
      ]
     },
     "metadata": {},
     "output_type": "display_data"
    },
    {
     "data": {
      "text/plain": [
       "\"DB: opt gap = 1.0\""
      ]
     },
     "metadata": {},
     "output_type": "display_data"
    },
    {
     "data": {
      "text/plain": [
       "\">>>>>> iteration 7:O\""
      ]
     },
     "metadata": {},
     "output_type": "display_data"
    },
    {
     "data": {
      "text/plain": [
       "\"DB: opt gap = 1.0\""
      ]
     },
     "metadata": {},
     "output_type": "display_data"
    },
    {
     "data": {
      "text/plain": [
       "\">>>>>> iteration 8:O\""
      ]
     },
     "metadata": {},
     "output_type": "display_data"
    },
    {
     "data": {
      "text/plain": [
       "\"DB: opt gap = 0.9326830874850429\""
      ]
     },
     "metadata": {},
     "output_type": "display_data"
    },
    {
     "data": {
      "text/plain": [
       "\">>>>>> iteration 9:O\""
      ]
     },
     "metadata": {},
     "output_type": "display_data"
    },
    {
     "data": {
      "text/plain": [
       "\"DB: opt gap = 0.6769010759272316\""
      ]
     },
     "metadata": {},
     "output_type": "display_data"
    },
    {
     "data": {
      "text/plain": [
       "\">>>>>> iteration 10:O\""
      ]
     },
     "metadata": {},
     "output_type": "display_data"
    },
    {
     "data": {
      "text/plain": [
       "\"DB: opt gap = 0.020876134703265433\""
      ]
     },
     "metadata": {},
     "output_type": "display_data"
    },
    {
     "data": {
      "text/plain": [
       "\">>>>>> iteration 11:O\""
      ]
     },
     "metadata": {},
     "output_type": "display_data"
    },
    {
     "data": {
      "text/plain": [
       "\"DB: opt gap = 0.020628537900658484\""
      ]
     },
     "metadata": {},
     "output_type": "display_data"
    },
    {
     "data": {
      "text/plain": [
       "\">>>>>> iteration 12:O\""
      ]
     },
     "metadata": {},
     "output_type": "display_data"
    },
    {
     "data": {
      "text/plain": [
       "\"DB: opt gap = 0.02040272989794547\""
      ]
     },
     "metadata": {},
     "output_type": "display_data"
    },
    {
     "data": {
      "text/plain": [
       "\">>>>>> iteration 13:O\""
      ]
     },
     "metadata": {},
     "output_type": "display_data"
    },
    {
     "data": {
      "text/plain": [
       "\"DB: opt gap = 9.207265116436749e-6\""
      ]
     },
     "metadata": {},
     "output_type": "display_data"
    },
    {
     "data": {
      "text/plain": [
       "\"evaluating 30 reactors in parallel | option 3\""
      ]
     },
     "metadata": {},
     "output_type": "display_data"
    },
    {
     "data": {
      "text/plain": [
       "\"DB: opt gap = 1.0\""
      ]
     },
     "metadata": {},
     "output_type": "display_data"
    },
    {
     "data": {
      "text/plain": [
       "\">>>>>> iteration 1:O\""
      ]
     },
     "metadata": {},
     "output_type": "display_data"
    },
    {
     "data": {
      "text/plain": [
       "\"DB: opt gap = 1.0\""
      ]
     },
     "metadata": {},
     "output_type": "display_data"
    },
    {
     "data": {
      "text/plain": [
       "\">>>>>> iteration 2:O\""
      ]
     },
     "metadata": {},
     "output_type": "display_data"
    },
    {
     "data": {
      "text/plain": [
       "\"DB: opt gap = 1.0\""
      ]
     },
     "metadata": {},
     "output_type": "display_data"
    },
    {
     "data": {
      "text/plain": [
       "\">>>>>> iteration 3:O\""
      ]
     },
     "metadata": {},
     "output_type": "display_data"
    },
    {
     "data": {
      "text/plain": [
       "\"DB: opt gap = 1.0\""
      ]
     },
     "metadata": {},
     "output_type": "display_data"
    },
    {
     "data": {
      "text/plain": [
       "\">>>>>> iteration 4:O\""
      ]
     },
     "metadata": {},
     "output_type": "display_data"
    },
    {
     "data": {
      "text/plain": [
       "\"DB: opt gap = 1.0\""
      ]
     },
     "metadata": {},
     "output_type": "display_data"
    },
    {
     "data": {
      "text/plain": [
       "\">>>>>> iteration 5:O\""
      ]
     },
     "metadata": {},
     "output_type": "display_data"
    },
    {
     "data": {
      "text/plain": [
       "\"DB: opt gap = 1.0\""
      ]
     },
     "metadata": {},
     "output_type": "display_data"
    },
    {
     "data": {
      "text/plain": [
       "\">>>>>> iteration 6:O\""
      ]
     },
     "metadata": {},
     "output_type": "display_data"
    },
    {
     "data": {
      "text/plain": [
       "\"DB: opt gap = 1.0\""
      ]
     },
     "metadata": {},
     "output_type": "display_data"
    },
    {
     "data": {
      "text/plain": [
       "\">>>>>> iteration 7:O\""
      ]
     },
     "metadata": {},
     "output_type": "display_data"
    },
    {
     "data": {
      "text/plain": [
       "\"DB: opt gap = 0.9747080157833654\""
      ]
     },
     "metadata": {},
     "output_type": "display_data"
    },
    {
     "data": {
      "text/plain": [
       "\">>>>>> iteration 8:O\""
      ]
     },
     "metadata": {},
     "output_type": "display_data"
    },
    {
     "data": {
      "text/plain": [
       "\"DB: opt gap = 0.8200955103341362\""
      ]
     },
     "metadata": {},
     "output_type": "display_data"
    },
    {
     "data": {
      "text/plain": [
       "\">>>>>> iteration 9:O\""
      ]
     },
     "metadata": {},
     "output_type": "display_data"
    },
    {
     "data": {
      "text/plain": [
       "\"DB: opt gap = 0.08744866588694913\""
      ]
     },
     "metadata": {},
     "output_type": "display_data"
    },
    {
     "data": {
      "text/plain": [
       "\">>>>>> iteration 10:O\""
      ]
     },
     "metadata": {},
     "output_type": "display_data"
    },
    {
     "data": {
      "text/plain": [
       "\"DB: opt gap = 0.08505362201035704\""
      ]
     },
     "metadata": {},
     "output_type": "display_data"
    },
    {
     "data": {
      "text/plain": [
       "\">>>>>> iteration 11:O\""
      ]
     },
     "metadata": {},
     "output_type": "display_data"
    },
    {
     "data": {
      "text/plain": [
       "\"DB: opt gap = 0.08535306461711373\""
      ]
     },
     "metadata": {},
     "output_type": "display_data"
    },
    {
     "data": {
      "text/plain": [
       "\">>>>>> iteration 12:O\""
      ]
     },
     "metadata": {},
     "output_type": "display_data"
    },
    {
     "data": {
      "text/plain": [
       "\"DB: opt gap = 8.271313121010437e-5\""
      ]
     },
     "metadata": {},
     "output_type": "display_data"
    },
    {
     "data": {
      "text/plain": [
       "\"evaluating 31 reactors in parallel | option 3\""
      ]
     },
     "metadata": {},
     "output_type": "display_data"
    },
    {
     "data": {
      "text/plain": [
       "\"DB: opt gap = 1.0\""
      ]
     },
     "metadata": {},
     "output_type": "display_data"
    },
    {
     "data": {
      "text/plain": [
       "\">>>>>> iteration 1:O\""
      ]
     },
     "metadata": {},
     "output_type": "display_data"
    },
    {
     "data": {
      "text/plain": [
       "\"DB: opt gap = 1.0\""
      ]
     },
     "metadata": {},
     "output_type": "display_data"
    },
    {
     "data": {
      "text/plain": [
       "\">>>>>> iteration 2:O\""
      ]
     },
     "metadata": {},
     "output_type": "display_data"
    },
    {
     "data": {
      "text/plain": [
       "\"DB: opt gap = 1.0\""
      ]
     },
     "metadata": {},
     "output_type": "display_data"
    },
    {
     "data": {
      "text/plain": [
       "\">>>>>> iteration 3:O\""
      ]
     },
     "metadata": {},
     "output_type": "display_data"
    },
    {
     "data": {
      "text/plain": [
       "\"DB: opt gap = 1.0\""
      ]
     },
     "metadata": {},
     "output_type": "display_data"
    },
    {
     "data": {
      "text/plain": [
       "\">>>>>> iteration 4:O\""
      ]
     },
     "metadata": {},
     "output_type": "display_data"
    },
    {
     "data": {
      "text/plain": [
       "\"DB: opt gap = 1.0\""
      ]
     },
     "metadata": {},
     "output_type": "display_data"
    },
    {
     "data": {
      "text/plain": [
       "\">>>>>> iteration 5:O\""
      ]
     },
     "metadata": {},
     "output_type": "display_data"
    },
    {
     "data": {
      "text/plain": [
       "\"DB: opt gap = 1.0\""
      ]
     },
     "metadata": {},
     "output_type": "display_data"
    },
    {
     "data": {
      "text/plain": [
       "\">>>>>> iteration 6:O\""
      ]
     },
     "metadata": {},
     "output_type": "display_data"
    },
    {
     "data": {
      "text/plain": [
       "\"DB: opt gap = 1.0\""
      ]
     },
     "metadata": {},
     "output_type": "display_data"
    },
    {
     "data": {
      "text/plain": [
       "\">>>>>> iteration 7:O\""
      ]
     },
     "metadata": {},
     "output_type": "display_data"
    },
    {
     "data": {
      "text/plain": [
       "\"DB: opt gap = 1.0\""
      ]
     },
     "metadata": {},
     "output_type": "display_data"
    },
    {
     "data": {
      "text/plain": [
       "\">>>>>> iteration 8:O\""
      ]
     },
     "metadata": {},
     "output_type": "display_data"
    },
    {
     "data": {
      "text/plain": [
       "\"DB: opt gap = 0.6566457851484169\""
      ]
     },
     "metadata": {},
     "output_type": "display_data"
    },
    {
     "data": {
      "text/plain": [
       "\">>>>>> iteration 9:O\""
      ]
     },
     "metadata": {},
     "output_type": "display_data"
    },
    {
     "data": {
      "text/plain": [
       "\"DB: opt gap = 0.6407480782006698\""
      ]
     },
     "metadata": {},
     "output_type": "display_data"
    },
    {
     "data": {
      "text/plain": [
       "\">>>>>> iteration 10:O\""
      ]
     },
     "metadata": {},
     "output_type": "display_data"
    },
    {
     "data": {
      "text/plain": [
       "\"DB: opt gap = 0.4741760973075723\""
      ]
     },
     "metadata": {},
     "output_type": "display_data"
    },
    {
     "data": {
      "text/plain": [
       "\">>>>>> iteration 11:O\""
      ]
     },
     "metadata": {},
     "output_type": "display_data"
    },
    {
     "data": {
      "text/plain": [
       "\"DB: opt gap = 0.43280023739031726\""
      ]
     },
     "metadata": {},
     "output_type": "display_data"
    },
    {
     "data": {
      "text/plain": [
       "\">>>>>> iteration 12:O\""
      ]
     },
     "metadata": {},
     "output_type": "display_data"
    },
    {
     "data": {
      "text/plain": [
       "\"DB: opt gap = 0.4285968922291303\""
      ]
     },
     "metadata": {},
     "output_type": "display_data"
    },
    {
     "data": {
      "text/plain": [
       "\">>>>>> iteration 13:O\""
      ]
     },
     "metadata": {},
     "output_type": "display_data"
    },
    {
     "data": {
      "text/plain": [
       "\"DB: opt gap = 0.4241298985170301\""
      ]
     },
     "metadata": {},
     "output_type": "display_data"
    },
    {
     "data": {
      "text/plain": [
       "\">>>>>> iteration 14:O\""
      ]
     },
     "metadata": {},
     "output_type": "display_data"
    },
    {
     "data": {
      "text/plain": [
       "\"DB: opt gap = 0.04454227437347423\""
      ]
     },
     "metadata": {},
     "output_type": "display_data"
    },
    {
     "data": {
      "text/plain": [
       "\">>>>>> iteration 15:O\""
      ]
     },
     "metadata": {},
     "output_type": "display_data"
    },
    {
     "data": {
      "text/plain": [
       "\"DB: opt gap = 6.447382186445303e-5\""
      ]
     },
     "metadata": {},
     "output_type": "display_data"
    },
    {
     "data": {
      "text/plain": [
       "\"evaluating 32 reactors in parallel | option 3\""
      ]
     },
     "metadata": {},
     "output_type": "display_data"
    },
    {
     "data": {
      "text/plain": [
       "\"DB: opt gap = 1.0\""
      ]
     },
     "metadata": {},
     "output_type": "display_data"
    },
    {
     "data": {
      "text/plain": [
       "\">>>>>> iteration 1:O\""
      ]
     },
     "metadata": {},
     "output_type": "display_data"
    },
    {
     "data": {
      "text/plain": [
       "\"DB: opt gap = 1.0\""
      ]
     },
     "metadata": {},
     "output_type": "display_data"
    },
    {
     "data": {
      "text/plain": [
       "\">>>>>> iteration 2:O\""
      ]
     },
     "metadata": {},
     "output_type": "display_data"
    },
    {
     "data": {
      "text/plain": [
       "\"DB: opt gap = 1.0\""
      ]
     },
     "metadata": {},
     "output_type": "display_data"
    },
    {
     "data": {
      "text/plain": [
       "\">>>>>> iteration 3:O\""
      ]
     },
     "metadata": {},
     "output_type": "display_data"
    },
    {
     "data": {
      "text/plain": [
       "\"DB: opt gap = 1.0\""
      ]
     },
     "metadata": {},
     "output_type": "display_data"
    },
    {
     "data": {
      "text/plain": [
       "\">>>>>> iteration 4:O\""
      ]
     },
     "metadata": {},
     "output_type": "display_data"
    },
    {
     "data": {
      "text/plain": [
       "\"DB: opt gap = 1.0\""
      ]
     },
     "metadata": {},
     "output_type": "display_data"
    },
    {
     "data": {
      "text/plain": [
       "\">>>>>> iteration 5:O\""
      ]
     },
     "metadata": {},
     "output_type": "display_data"
    },
    {
     "data": {
      "text/plain": [
       "\"DB: opt gap = 1.0\""
      ]
     },
     "metadata": {},
     "output_type": "display_data"
    },
    {
     "data": {
      "text/plain": [
       "\">>>>>> iteration 6:O\""
      ]
     },
     "metadata": {},
     "output_type": "display_data"
    },
    {
     "data": {
      "text/plain": [
       "\"DB: opt gap = 1.0\""
      ]
     },
     "metadata": {},
     "output_type": "display_data"
    },
    {
     "data": {
      "text/plain": [
       "\">>>>>> iteration 7:O\""
      ]
     },
     "metadata": {},
     "output_type": "display_data"
    },
    {
     "data": {
      "text/plain": [
       "\"DB: opt gap = 0.01888476401276592\""
      ]
     },
     "metadata": {},
     "output_type": "display_data"
    },
    {
     "data": {
      "text/plain": [
       "\">>>>>> iteration 8:O\""
      ]
     },
     "metadata": {},
     "output_type": "display_data"
    },
    {
     "data": {
      "text/plain": [
       "\"DB: opt gap = 1.919789196083204e-6\""
      ]
     },
     "metadata": {},
     "output_type": "display_data"
    },
    {
     "data": {
      "text/plain": [
       "\"evaluating 33 reactors in parallel | option 3\""
      ]
     },
     "metadata": {},
     "output_type": "display_data"
    },
    {
     "data": {
      "text/plain": [
       "\"DB: opt gap = 1.0\""
      ]
     },
     "metadata": {},
     "output_type": "display_data"
    },
    {
     "data": {
      "text/plain": [
       "\">>>>>> iteration 1:O\""
      ]
     },
     "metadata": {},
     "output_type": "display_data"
    },
    {
     "data": {
      "text/plain": [
       "\"DB: opt gap = 1.0\""
      ]
     },
     "metadata": {},
     "output_type": "display_data"
    },
    {
     "data": {
      "text/plain": [
       "\">>>>>> iteration 2:O\""
      ]
     },
     "metadata": {},
     "output_type": "display_data"
    },
    {
     "data": {
      "text/plain": [
       "\"DB: opt gap = 1.0\""
      ]
     },
     "metadata": {},
     "output_type": "display_data"
    },
    {
     "data": {
      "text/plain": [
       "\">>>>>> iteration 3:O\""
      ]
     },
     "metadata": {},
     "output_type": "display_data"
    },
    {
     "data": {
      "text/plain": [
       "\"DB: opt gap = 1.0\""
      ]
     },
     "metadata": {},
     "output_type": "display_data"
    },
    {
     "data": {
      "text/plain": [
       "\">>>>>> iteration 4:O\""
      ]
     },
     "metadata": {},
     "output_type": "display_data"
    },
    {
     "data": {
      "text/plain": [
       "\"DB: opt gap = 1.0\""
      ]
     },
     "metadata": {},
     "output_type": "display_data"
    },
    {
     "data": {
      "text/plain": [
       "\">>>>>> iteration 5:O\""
      ]
     },
     "metadata": {},
     "output_type": "display_data"
    },
    {
     "data": {
      "text/plain": [
       "\"DB: opt gap = 1.0\""
      ]
     },
     "metadata": {},
     "output_type": "display_data"
    },
    {
     "data": {
      "text/plain": [
       "\">>>>>> iteration 6:O\""
      ]
     },
     "metadata": {},
     "output_type": "display_data"
    },
    {
     "data": {
      "text/plain": [
       "\"DB: opt gap = 1.0\""
      ]
     },
     "metadata": {},
     "output_type": "display_data"
    },
    {
     "data": {
      "text/plain": [
       "\">>>>>> iteration 7:O\""
      ]
     },
     "metadata": {},
     "output_type": "display_data"
    },
    {
     "data": {
      "text/plain": [
       "\"DB: opt gap = 1.0\""
      ]
     },
     "metadata": {},
     "output_type": "display_data"
    },
    {
     "data": {
      "text/plain": [
       "\">>>>>> iteration 8:O\""
      ]
     },
     "metadata": {},
     "output_type": "display_data"
    },
    {
     "data": {
      "text/plain": [
       "\"DB: opt gap = 1.0\""
      ]
     },
     "metadata": {},
     "output_type": "display_data"
    },
    {
     "data": {
      "text/plain": [
       "\">>>>>> iteration 9:O\""
      ]
     },
     "metadata": {},
     "output_type": "display_data"
    },
    {
     "data": {
      "text/plain": [
       "\"DB: opt gap = 1.0\""
      ]
     },
     "metadata": {},
     "output_type": "display_data"
    },
    {
     "data": {
      "text/plain": [
       "\">>>>>> iteration 10:O\""
      ]
     },
     "metadata": {},
     "output_type": "display_data"
    },
    {
     "data": {
      "text/plain": [
       "\"DB: opt gap = 0.9516986749520283\""
      ]
     },
     "metadata": {},
     "output_type": "display_data"
    },
    {
     "data": {
      "text/plain": [
       "\">>>>>> iteration 11:O\""
      ]
     },
     "metadata": {},
     "output_type": "display_data"
    },
    {
     "data": {
      "text/plain": [
       "\"DB: opt gap = 0.9367849178201433\""
      ]
     },
     "metadata": {},
     "output_type": "display_data"
    },
    {
     "data": {
      "text/plain": [
       "\">>>>>> iteration 12:O\""
      ]
     },
     "metadata": {},
     "output_type": "display_data"
    },
    {
     "data": {
      "text/plain": [
       "\"DB: opt gap = 0.5446475689680145\""
      ]
     },
     "metadata": {},
     "output_type": "display_data"
    },
    {
     "data": {
      "text/plain": [
       "\">>>>>> iteration 13:O\""
      ]
     },
     "metadata": {},
     "output_type": "display_data"
    },
    {
     "data": {
      "text/plain": [
       "\"DB: opt gap = 0.5367833646920205\""
      ]
     },
     "metadata": {},
     "output_type": "display_data"
    },
    {
     "data": {
      "text/plain": [
       "\">>>>>> iteration 14:O\""
      ]
     },
     "metadata": {},
     "output_type": "display_data"
    },
    {
     "data": {
      "text/plain": [
       "\"DB: opt gap = 0.522111080995567\""
      ]
     },
     "metadata": {},
     "output_type": "display_data"
    },
    {
     "data": {
      "text/plain": [
       "\">>>>>> iteration 15:O\""
      ]
     },
     "metadata": {},
     "output_type": "display_data"
    },
    {
     "data": {
      "text/plain": [
       "\"DB: opt gap = 0.5169877055644775\""
      ]
     },
     "metadata": {},
     "output_type": "display_data"
    },
    {
     "data": {
      "text/plain": [
       "\">>>>>> iteration 16:O\""
      ]
     },
     "metadata": {},
     "output_type": "display_data"
    },
    {
     "data": {
      "text/plain": [
       "\"DB: opt gap = 0.03053572412244259\""
      ]
     },
     "metadata": {},
     "output_type": "display_data"
    },
    {
     "data": {
      "text/plain": [
       "\">>>>>> iteration 17:O\""
      ]
     },
     "metadata": {},
     "output_type": "display_data"
    },
    {
     "data": {
      "text/plain": [
       "\"DB: opt gap = 8.1131005605843e-6\""
      ]
     },
     "metadata": {},
     "output_type": "display_data"
    },
    {
     "data": {
      "text/plain": [
       "\"evaluating 34 reactors in parallel | option 3\""
      ]
     },
     "metadata": {},
     "output_type": "display_data"
    },
    {
     "data": {
      "text/plain": [
       "\"DB: opt gap = 1.0\""
      ]
     },
     "metadata": {},
     "output_type": "display_data"
    },
    {
     "data": {
      "text/plain": [
       "\">>>>>> iteration 1:O\""
      ]
     },
     "metadata": {},
     "output_type": "display_data"
    },
    {
     "data": {
      "text/plain": [
       "\"DB: opt gap = 1.0\""
      ]
     },
     "metadata": {},
     "output_type": "display_data"
    },
    {
     "data": {
      "text/plain": [
       "\">>>>>> iteration 2:O\""
      ]
     },
     "metadata": {},
     "output_type": "display_data"
    },
    {
     "data": {
      "text/plain": [
       "\"DB: opt gap = 1.0\""
      ]
     },
     "metadata": {},
     "output_type": "display_data"
    },
    {
     "data": {
      "text/plain": [
       "\">>>>>> iteration 3:O\""
      ]
     },
     "metadata": {},
     "output_type": "display_data"
    },
    {
     "data": {
      "text/plain": [
       "\"DB: opt gap = 1.0\""
      ]
     },
     "metadata": {},
     "output_type": "display_data"
    },
    {
     "data": {
      "text/plain": [
       "\">>>>>> iteration 4:O\""
      ]
     },
     "metadata": {},
     "output_type": "display_data"
    },
    {
     "data": {
      "text/plain": [
       "\"DB: opt gap = 1.0\""
      ]
     },
     "metadata": {},
     "output_type": "display_data"
    },
    {
     "data": {
      "text/plain": [
       "\">>>>>> iteration 5:O\""
      ]
     },
     "metadata": {},
     "output_type": "display_data"
    },
    {
     "data": {
      "text/plain": [
       "\"DB: opt gap = 1.0\""
      ]
     },
     "metadata": {},
     "output_type": "display_data"
    },
    {
     "data": {
      "text/plain": [
       "\">>>>>> iteration 6:O\""
      ]
     },
     "metadata": {},
     "output_type": "display_data"
    },
    {
     "data": {
      "text/plain": [
       "\"DB: opt gap = 1.0\""
      ]
     },
     "metadata": {},
     "output_type": "display_data"
    },
    {
     "data": {
      "text/plain": [
       "\">>>>>> iteration 7:O\""
      ]
     },
     "metadata": {},
     "output_type": "display_data"
    },
    {
     "data": {
      "text/plain": [
       "\"DB: opt gap = 1.0\""
      ]
     },
     "metadata": {},
     "output_type": "display_data"
    },
    {
     "data": {
      "text/plain": [
       "\">>>>>> iteration 8:O\""
      ]
     },
     "metadata": {},
     "output_type": "display_data"
    },
    {
     "data": {
      "text/plain": [
       "\"DB: opt gap = 1.0\""
      ]
     },
     "metadata": {},
     "output_type": "display_data"
    },
    {
     "data": {
      "text/plain": [
       "\">>>>>> iteration 9:O\""
      ]
     },
     "metadata": {},
     "output_type": "display_data"
    },
    {
     "data": {
      "text/plain": [
       "\"DB: opt gap = 0.6561810977627158\""
      ]
     },
     "metadata": {},
     "output_type": "display_data"
    },
    {
     "data": {
      "text/plain": [
       "\">>>>>> iteration 10:O\""
      ]
     },
     "metadata": {},
     "output_type": "display_data"
    },
    {
     "data": {
      "text/plain": [
       "\"DB: opt gap = 0.6279691488861164\""
      ]
     },
     "metadata": {},
     "output_type": "display_data"
    },
    {
     "data": {
      "text/plain": [
       "\">>>>>> iteration 11:O\""
      ]
     },
     "metadata": {},
     "output_type": "display_data"
    },
    {
     "data": {
      "text/plain": [
       "\"DB: opt gap = 0.498158528123605\""
      ]
     },
     "metadata": {},
     "output_type": "display_data"
    },
    {
     "data": {
      "text/plain": [
       "\">>>>>> iteration 12:O\""
      ]
     },
     "metadata": {},
     "output_type": "display_data"
    },
    {
     "data": {
      "text/plain": [
       "\"DB: opt gap = 0.45795647727615346\""
      ]
     },
     "metadata": {},
     "output_type": "display_data"
    },
    {
     "data": {
      "text/plain": [
       "\">>>>>> iteration 13:O\""
      ]
     },
     "metadata": {},
     "output_type": "display_data"
    },
    {
     "data": {
      "text/plain": [
       "\"DB: opt gap = 0.4552937994863993\""
      ]
     },
     "metadata": {},
     "output_type": "display_data"
    },
    {
     "data": {
      "text/plain": [
       "\">>>>>> iteration 14:O\""
      ]
     },
     "metadata": {},
     "output_type": "display_data"
    },
    {
     "data": {
      "text/plain": [
       "\"DB: opt gap = 0.44838192005156496\""
      ]
     },
     "metadata": {},
     "output_type": "display_data"
    },
    {
     "data": {
      "text/plain": [
       "\">>>>>> iteration 15:O\""
      ]
     },
     "metadata": {},
     "output_type": "display_data"
    },
    {
     "data": {
      "text/plain": [
       "\"DB: opt gap = 0.44528682379978934\""
      ]
     },
     "metadata": {},
     "output_type": "display_data"
    },
    {
     "data": {
      "text/plain": [
       "\">>>>>> iteration 16:O\""
      ]
     },
     "metadata": {},
     "output_type": "display_data"
    },
    {
     "data": {
      "text/plain": [
       "\"DB: opt gap = 0.0555391832143275\""
      ]
     },
     "metadata": {},
     "output_type": "display_data"
    },
    {
     "data": {
      "text/plain": [
       "\">>>>>> iteration 17:O\""
      ]
     },
     "metadata": {},
     "output_type": "display_data"
    },
    {
     "data": {
      "text/plain": [
       "\"DB: opt gap = 0.0001568570978423647\""
      ]
     },
     "metadata": {},
     "output_type": "display_data"
    },
    {
     "data": {
      "text/plain": [
       "\"evaluating 35 reactors in parallel | option 3\""
      ]
     },
     "metadata": {},
     "output_type": "display_data"
    },
    {
     "data": {
      "text/plain": [
       "\"DB: opt gap = 1.0\""
      ]
     },
     "metadata": {},
     "output_type": "display_data"
    },
    {
     "data": {
      "text/plain": [
       "\">>>>>> iteration 1:O\""
      ]
     },
     "metadata": {},
     "output_type": "display_data"
    },
    {
     "data": {
      "text/plain": [
       "\"DB: opt gap = 1.0\""
      ]
     },
     "metadata": {},
     "output_type": "display_data"
    },
    {
     "data": {
      "text/plain": [
       "\">>>>>> iteration 2:O\""
      ]
     },
     "metadata": {},
     "output_type": "display_data"
    },
    {
     "data": {
      "text/plain": [
       "\"DB: opt gap = 1.0\""
      ]
     },
     "metadata": {},
     "output_type": "display_data"
    },
    {
     "data": {
      "text/plain": [
       "\">>>>>> iteration 3:O\""
      ]
     },
     "metadata": {},
     "output_type": "display_data"
    },
    {
     "data": {
      "text/plain": [
       "\"DB: opt gap = 1.0\""
      ]
     },
     "metadata": {},
     "output_type": "display_data"
    },
    {
     "data": {
      "text/plain": [
       "\">>>>>> iteration 4:O\""
      ]
     },
     "metadata": {},
     "output_type": "display_data"
    },
    {
     "data": {
      "text/plain": [
       "\"DB: opt gap = 1.0\""
      ]
     },
     "metadata": {},
     "output_type": "display_data"
    },
    {
     "data": {
      "text/plain": [
       "\">>>>>> iteration 5:O\""
      ]
     },
     "metadata": {},
     "output_type": "display_data"
    },
    {
     "data": {
      "text/plain": [
       "\"DB: opt gap = 1.0\""
      ]
     },
     "metadata": {},
     "output_type": "display_data"
    },
    {
     "data": {
      "text/plain": [
       "\">>>>>> iteration 6:O\""
      ]
     },
     "metadata": {},
     "output_type": "display_data"
    },
    {
     "data": {
      "text/plain": [
       "\"DB: opt gap = 0.9626325406436593\""
      ]
     },
     "metadata": {},
     "output_type": "display_data"
    },
    {
     "data": {
      "text/plain": [
       "\">>>>>> iteration 7:O\""
      ]
     },
     "metadata": {},
     "output_type": "display_data"
    },
    {
     "data": {
      "text/plain": [
       "\"DB: opt gap = 0.5974583869232811\""
      ]
     },
     "metadata": {},
     "output_type": "display_data"
    },
    {
     "data": {
      "text/plain": [
       "\">>>>>> iteration 8:O\""
      ]
     },
     "metadata": {},
     "output_type": "display_data"
    },
    {
     "data": {
      "text/plain": [
       "\"DB: opt gap = 0.5635692846487994\""
      ]
     },
     "metadata": {},
     "output_type": "display_data"
    },
    {
     "data": {
      "text/plain": [
       "\">>>>>> iteration 9:O\""
      ]
     },
     "metadata": {},
     "output_type": "display_data"
    },
    {
     "data": {
      "text/plain": [
       "\"DB: opt gap = 0.5288179452337732\""
      ]
     },
     "metadata": {},
     "output_type": "display_data"
    },
    {
     "data": {
      "text/plain": [
       "\">>>>>> iteration 10:O\""
      ]
     },
     "metadata": {},
     "output_type": "display_data"
    },
    {
     "data": {
      "text/plain": [
       "\"DB: opt gap = 0.022060485954765285\""
      ]
     },
     "metadata": {},
     "output_type": "display_data"
    },
    {
     "data": {
      "text/plain": [
       "\">>>>>> iteration 11:O\""
      ]
     },
     "metadata": {},
     "output_type": "display_data"
    },
    {
     "data": {
      "text/plain": [
       "\"DB: opt gap = 0.021998848835439493\""
      ]
     },
     "metadata": {},
     "output_type": "display_data"
    },
    {
     "data": {
      "text/plain": [
       "\">>>>>> iteration 12:O\""
      ]
     },
     "metadata": {},
     "output_type": "display_data"
    },
    {
     "data": {
      "text/plain": [
       "\"DB: opt gap = 8.412401136444614e-6\""
      ]
     },
     "metadata": {},
     "output_type": "display_data"
    },
    {
     "data": {
      "text/plain": [
       "\"evaluating 36 reactors in parallel | option 3\""
      ]
     },
     "metadata": {},
     "output_type": "display_data"
    },
    {
     "data": {
      "text/plain": [
       "\"DB: opt gap = 1.0\""
      ]
     },
     "metadata": {},
     "output_type": "display_data"
    },
    {
     "data": {
      "text/plain": [
       "\">>>>>> iteration 1:O\""
      ]
     },
     "metadata": {},
     "output_type": "display_data"
    },
    {
     "data": {
      "text/plain": [
       "\"DB: opt gap = 1.0\""
      ]
     },
     "metadata": {},
     "output_type": "display_data"
    },
    {
     "data": {
      "text/plain": [
       "\">>>>>> iteration 2:O\""
      ]
     },
     "metadata": {},
     "output_type": "display_data"
    },
    {
     "data": {
      "text/plain": [
       "\"DB: opt gap = 1.0\""
      ]
     },
     "metadata": {},
     "output_type": "display_data"
    },
    {
     "data": {
      "text/plain": [
       "\">>>>>> iteration 3:O\""
      ]
     },
     "metadata": {},
     "output_type": "display_data"
    },
    {
     "data": {
      "text/plain": [
       "\"DB: opt gap = 1.0\""
      ]
     },
     "metadata": {},
     "output_type": "display_data"
    },
    {
     "data": {
      "text/plain": [
       "\">>>>>> iteration 4:O\""
      ]
     },
     "metadata": {},
     "output_type": "display_data"
    },
    {
     "data": {
      "text/plain": [
       "\"DB: opt gap = 1.0\""
      ]
     },
     "metadata": {},
     "output_type": "display_data"
    },
    {
     "data": {
      "text/plain": [
       "\">>>>>> iteration 5:O\""
      ]
     },
     "metadata": {},
     "output_type": "display_data"
    },
    {
     "data": {
      "text/plain": [
       "\"DB: opt gap = 1.0\""
      ]
     },
     "metadata": {},
     "output_type": "display_data"
    },
    {
     "data": {
      "text/plain": [
       "\">>>>>> iteration 6:O\""
      ]
     },
     "metadata": {},
     "output_type": "display_data"
    },
    {
     "data": {
      "text/plain": [
       "\"DB: opt gap = 1.0\""
      ]
     },
     "metadata": {},
     "output_type": "display_data"
    },
    {
     "data": {
      "text/plain": [
       "\">>>>>> iteration 7:O\""
      ]
     },
     "metadata": {},
     "output_type": "display_data"
    },
    {
     "data": {
      "text/plain": [
       "\"DB: opt gap = 1.0\""
      ]
     },
     "metadata": {},
     "output_type": "display_data"
    },
    {
     "data": {
      "text/plain": [
       "\">>>>>> iteration 8:O\""
      ]
     },
     "metadata": {},
     "output_type": "display_data"
    },
    {
     "data": {
      "text/plain": [
       "\"DB: opt gap = 1.0\""
      ]
     },
     "metadata": {},
     "output_type": "display_data"
    },
    {
     "data": {
      "text/plain": [
       "\">>>>>> iteration 9:O\""
      ]
     },
     "metadata": {},
     "output_type": "display_data"
    },
    {
     "data": {
      "text/plain": [
       "\"DB: opt gap = 1.0\""
      ]
     },
     "metadata": {},
     "output_type": "display_data"
    },
    {
     "data": {
      "text/plain": [
       "\">>>>>> iteration 10:O\""
      ]
     },
     "metadata": {},
     "output_type": "display_data"
    },
    {
     "data": {
      "text/plain": [
       "\"DB: opt gap = 1.0\""
      ]
     },
     "metadata": {},
     "output_type": "display_data"
    },
    {
     "data": {
      "text/plain": [
       "\">>>>>> iteration 11:O\""
      ]
     },
     "metadata": {},
     "output_type": "display_data"
    },
    {
     "data": {
      "text/plain": [
       "\"DB: opt gap = 1.0\""
      ]
     },
     "metadata": {},
     "output_type": "display_data"
    },
    {
     "data": {
      "text/plain": [
       "\">>>>>> iteration 12:O\""
      ]
     },
     "metadata": {},
     "output_type": "display_data"
    },
    {
     "data": {
      "text/plain": [
       "\"DB: opt gap = 1.0\""
      ]
     },
     "metadata": {},
     "output_type": "display_data"
    },
    {
     "data": {
      "text/plain": [
       "\">>>>>> iteration 13:O\""
      ]
     },
     "metadata": {},
     "output_type": "display_data"
    },
    {
     "data": {
      "text/plain": [
       "\"DB: opt gap = 0.06309733729844318\""
      ]
     },
     "metadata": {},
     "output_type": "display_data"
    },
    {
     "data": {
      "text/plain": [
       "\">>>>>> iteration 14:O\""
      ]
     },
     "metadata": {},
     "output_type": "display_data"
    },
    {
     "data": {
      "text/plain": [
       "\"DB: opt gap = 0.06269515191509259\""
      ]
     },
     "metadata": {},
     "output_type": "display_data"
    },
    {
     "data": {
      "text/plain": [
       "\">>>>>> iteration 15:O\""
      ]
     },
     "metadata": {},
     "output_type": "display_data"
    },
    {
     "data": {
      "text/plain": [
       "\"DB: opt gap = 6.226784309652635e-5\""
      ]
     },
     "metadata": {},
     "output_type": "display_data"
    },
    {
     "data": {
      "text/plain": [
       "\"evaluating 37 reactors in parallel | option 3\""
      ]
     },
     "metadata": {},
     "output_type": "display_data"
    },
    {
     "data": {
      "text/plain": [
       "\"DB: opt gap = 1.0\""
      ]
     },
     "metadata": {},
     "output_type": "display_data"
    },
    {
     "data": {
      "text/plain": [
       "\">>>>>> iteration 1:O\""
      ]
     },
     "metadata": {},
     "output_type": "display_data"
    },
    {
     "data": {
      "text/plain": [
       "\"DB: opt gap = 1.0\""
      ]
     },
     "metadata": {},
     "output_type": "display_data"
    },
    {
     "data": {
      "text/plain": [
       "\">>>>>> iteration 2:O\""
      ]
     },
     "metadata": {},
     "output_type": "display_data"
    },
    {
     "data": {
      "text/plain": [
       "\"DB: opt gap = 1.0\""
      ]
     },
     "metadata": {},
     "output_type": "display_data"
    },
    {
     "data": {
      "text/plain": [
       "\">>>>>> iteration 3:O\""
      ]
     },
     "metadata": {},
     "output_type": "display_data"
    },
    {
     "data": {
      "text/plain": [
       "\"DB: opt gap = 1.0\""
      ]
     },
     "metadata": {},
     "output_type": "display_data"
    },
    {
     "data": {
      "text/plain": [
       "\">>>>>> iteration 4:O\""
      ]
     },
     "metadata": {},
     "output_type": "display_data"
    },
    {
     "data": {
      "text/plain": [
       "\"DB: opt gap = 1.0\""
      ]
     },
     "metadata": {},
     "output_type": "display_data"
    },
    {
     "data": {
      "text/plain": [
       "\">>>>>> iteration 5:O\""
      ]
     },
     "metadata": {},
     "output_type": "display_data"
    },
    {
     "data": {
      "text/plain": [
       "\"DB: opt gap = 1.0\""
      ]
     },
     "metadata": {},
     "output_type": "display_data"
    },
    {
     "data": {
      "text/plain": [
       "\">>>>>> iteration 6:O\""
      ]
     },
     "metadata": {},
     "output_type": "display_data"
    },
    {
     "data": {
      "text/plain": [
       "\"DB: opt gap = 1.0\""
      ]
     },
     "metadata": {},
     "output_type": "display_data"
    },
    {
     "data": {
      "text/plain": [
       "\">>>>>> iteration 7:O\""
      ]
     },
     "metadata": {},
     "output_type": "display_data"
    },
    {
     "data": {
      "text/plain": [
       "\"DB: opt gap = 1.0\""
      ]
     },
     "metadata": {},
     "output_type": "display_data"
    },
    {
     "data": {
      "text/plain": [
       "\">>>>>> iteration 8:O\""
      ]
     },
     "metadata": {},
     "output_type": "display_data"
    },
    {
     "data": {
      "text/plain": [
       "\"DB: opt gap = 1.0\""
      ]
     },
     "metadata": {},
     "output_type": "display_data"
    },
    {
     "data": {
      "text/plain": [
       "\">>>>>> iteration 9:O\""
      ]
     },
     "metadata": {},
     "output_type": "display_data"
    },
    {
     "data": {
      "text/plain": [
       "\"DB: opt gap = 1.0\""
      ]
     },
     "metadata": {},
     "output_type": "display_data"
    },
    {
     "data": {
      "text/plain": [
       "\">>>>>> iteration 10:O\""
      ]
     },
     "metadata": {},
     "output_type": "display_data"
    },
    {
     "data": {
      "text/plain": [
       "\"DB: opt gap = 1.0\""
      ]
     },
     "metadata": {},
     "output_type": "display_data"
    },
    {
     "data": {
      "text/plain": [
       "\">>>>>> iteration 11:O\""
      ]
     },
     "metadata": {},
     "output_type": "display_data"
    },
    {
     "data": {
      "text/plain": [
       "\"DB: opt gap = 0.9453883978551401\""
      ]
     },
     "metadata": {},
     "output_type": "display_data"
    },
    {
     "data": {
      "text/plain": [
       "\">>>>>> iteration 12:O\""
      ]
     },
     "metadata": {},
     "output_type": "display_data"
    },
    {
     "data": {
      "text/plain": [
       "\"DB: opt gap = 0.5676227888964618\""
      ]
     },
     "metadata": {},
     "output_type": "display_data"
    },
    {
     "data": {
      "text/plain": [
       "\">>>>>> iteration 13:O\""
      ]
     },
     "metadata": {},
     "output_type": "display_data"
    },
    {
     "data": {
      "text/plain": [
       "\"DB: opt gap = 0.5622454148290338\""
      ]
     },
     "metadata": {},
     "output_type": "display_data"
    },
    {
     "data": {
      "text/plain": [
       "\">>>>>> iteration 14:O\""
      ]
     },
     "metadata": {},
     "output_type": "display_data"
    },
    {
     "data": {
      "text/plain": [
       "\"DB: opt gap = 0.02193687342785817\""
      ]
     },
     "metadata": {},
     "output_type": "display_data"
    },
    {
     "data": {
      "text/plain": [
       "\">>>>>> iteration 15:O\""
      ]
     },
     "metadata": {},
     "output_type": "display_data"
    },
    {
     "data": {
      "text/plain": [
       "\"DB: opt gap = 2.1092049078330596e-6\""
      ]
     },
     "metadata": {},
     "output_type": "display_data"
    },
    {
     "data": {
      "text/plain": [
       "\"evaluating 38 reactors in parallel | option 3\""
      ]
     },
     "metadata": {},
     "output_type": "display_data"
    },
    {
     "data": {
      "text/plain": [
       "\"DB: opt gap = 1.0\""
      ]
     },
     "metadata": {},
     "output_type": "display_data"
    },
    {
     "data": {
      "text/plain": [
       "\">>>>>> iteration 1:O\""
      ]
     },
     "metadata": {},
     "output_type": "display_data"
    },
    {
     "data": {
      "text/plain": [
       "\"DB: opt gap = 1.0\""
      ]
     },
     "metadata": {},
     "output_type": "display_data"
    },
    {
     "data": {
      "text/plain": [
       "\">>>>>> iteration 2:O\""
      ]
     },
     "metadata": {},
     "output_type": "display_data"
    },
    {
     "data": {
      "text/plain": [
       "\"DB: opt gap = 1.0\""
      ]
     },
     "metadata": {},
     "output_type": "display_data"
    },
    {
     "data": {
      "text/plain": [
       "\">>>>>> iteration 3:O\""
      ]
     },
     "metadata": {},
     "output_type": "display_data"
    },
    {
     "data": {
      "text/plain": [
       "\"DB: opt gap = 1.0\""
      ]
     },
     "metadata": {},
     "output_type": "display_data"
    },
    {
     "data": {
      "text/plain": [
       "\">>>>>> iteration 4:O\""
      ]
     },
     "metadata": {},
     "output_type": "display_data"
    },
    {
     "data": {
      "text/plain": [
       "\"DB: opt gap = 1.0\""
      ]
     },
     "metadata": {},
     "output_type": "display_data"
    },
    {
     "data": {
      "text/plain": [
       "\">>>>>> iteration 5:O\""
      ]
     },
     "metadata": {},
     "output_type": "display_data"
    },
    {
     "data": {
      "text/plain": [
       "\"DB: opt gap = 0.6516581537902617\""
      ]
     },
     "metadata": {},
     "output_type": "display_data"
    },
    {
     "data": {
      "text/plain": [
       "\">>>>>> iteration 6:O\""
      ]
     },
     "metadata": {},
     "output_type": "display_data"
    },
    {
     "data": {
      "text/plain": [
       "\"DB: opt gap = 0.6414390327880379\""
      ]
     },
     "metadata": {},
     "output_type": "display_data"
    },
    {
     "data": {
      "text/plain": [
       "\">>>>>> iteration 7:O\""
      ]
     },
     "metadata": {},
     "output_type": "display_data"
    },
    {
     "data": {
      "text/plain": [
       "\"DB: opt gap = 0.627642879036492\""
      ]
     },
     "metadata": {},
     "output_type": "display_data"
    },
    {
     "data": {
      "text/plain": [
       "\">>>>>> iteration 8:O\""
      ]
     },
     "metadata": {},
     "output_type": "display_data"
    },
    {
     "data": {
      "text/plain": [
       "\"DB: opt gap = 0.6143572601812389\""
      ]
     },
     "metadata": {},
     "output_type": "display_data"
    },
    {
     "data": {
      "text/plain": [
       "\">>>>>> iteration 9:O\""
      ]
     },
     "metadata": {},
     "output_type": "display_data"
    },
    {
     "data": {
      "text/plain": [
       "\"DB: opt gap = 0.5985286793854625\""
      ]
     },
     "metadata": {},
     "output_type": "display_data"
    },
    {
     "data": {
      "text/plain": [
       "\">>>>>> iteration 10:O\""
      ]
     },
     "metadata": {},
     "output_type": "display_data"
    },
    {
     "data": {
      "text/plain": [
       "\"DB: opt gap = 0.5926988694766924\""
      ]
     },
     "metadata": {},
     "output_type": "display_data"
    },
    {
     "data": {
      "text/plain": [
       "\">>>>>> iteration 11:O\""
      ]
     },
     "metadata": {},
     "output_type": "display_data"
    },
    {
     "data": {
      "text/plain": [
       "\"DB: opt gap = 0.47532798663589343\""
      ]
     },
     "metadata": {},
     "output_type": "display_data"
    },
    {
     "data": {
      "text/plain": [
       "\">>>>>> iteration 12:O\""
      ]
     },
     "metadata": {},
     "output_type": "display_data"
    },
    {
     "data": {
      "text/plain": [
       "\"DB: opt gap = 0.0178657842465698\""
      ]
     },
     "metadata": {},
     "output_type": "display_data"
    },
    {
     "data": {
      "text/plain": [
       "\">>>>>> iteration 13:O\""
      ]
     },
     "metadata": {},
     "output_type": "display_data"
    },
    {
     "data": {
      "text/plain": [
       "\"DB: opt gap = 0.01779017900854431\""
      ]
     },
     "metadata": {},
     "output_type": "display_data"
    },
    {
     "data": {
      "text/plain": [
       "\">>>>>> iteration 14:O\""
      ]
     },
     "metadata": {},
     "output_type": "display_data"
    },
    {
     "data": {
      "text/plain": [
       "\"DB: opt gap = 0.017479662430763564\""
      ]
     },
     "metadata": {},
     "output_type": "display_data"
    },
    {
     "data": {
      "text/plain": [
       "\">>>>>> iteration 15:O\""
      ]
     },
     "metadata": {},
     "output_type": "display_data"
    },
    {
     "data": {
      "text/plain": [
       "\"DB: opt gap = 0.017364577339671835\""
      ]
     },
     "metadata": {},
     "output_type": "display_data"
    },
    {
     "data": {
      "text/plain": [
       "\">>>>>> iteration 16:O\""
      ]
     },
     "metadata": {},
     "output_type": "display_data"
    },
    {
     "data": {
      "text/plain": [
       "\"DB: opt gap = 0.0172253771803994\""
      ]
     },
     "metadata": {},
     "output_type": "display_data"
    },
    {
     "data": {
      "text/plain": [
       "\">>>>>> iteration 17:O\""
      ]
     },
     "metadata": {},
     "output_type": "display_data"
    },
    {
     "data": {
      "text/plain": [
       "\">>>>>> iteration 18:F\""
      ]
     },
     "metadata": {},
     "output_type": "display_data"
    },
    {
     "data": {
      "text/plain": [
       "\">>>>>> iteration 19:F\""
      ]
     },
     "metadata": {},
     "output_type": "display_data"
    },
    {
     "data": {
      "text/plain": [
       "\">>>>>> iteration 20:F\""
      ]
     },
     "metadata": {},
     "output_type": "display_data"
    },
    {
     "data": {
      "text/plain": [
       "\">>>>>> iteration 21:F\""
      ]
     },
     "metadata": {},
     "output_type": "display_data"
    },
    {
     "data": {
      "text/plain": [
       "\">>>>>> iteration 22:F\""
      ]
     },
     "metadata": {},
     "output_type": "display_data"
    },
    {
     "data": {
      "text/plain": [
       "\">>>>>> iteration 23:F\""
      ]
     },
     "metadata": {},
     "output_type": "display_data"
    },
    {
     "data": {
      "text/plain": [
       "\">>>>>> iteration 24:F\""
      ]
     },
     "metadata": {},
     "output_type": "display_data"
    },
    {
     "data": {
      "text/plain": [
       "\">>>>>> iteration 25:F\""
      ]
     },
     "metadata": {},
     "output_type": "display_data"
    },
    {
     "data": {
      "text/plain": [
       "\">>>>>> iteration 26:F\""
      ]
     },
     "metadata": {},
     "output_type": "display_data"
    },
    {
     "data": {
      "text/plain": [
       "\">>>>>> iteration 27:F\""
      ]
     },
     "metadata": {},
     "output_type": "display_data"
    },
    {
     "data": {
      "text/plain": [
       "\">>>>>> iteration 28:F\""
      ]
     },
     "metadata": {},
     "output_type": "display_data"
    },
    {
     "data": {
      "text/plain": [
       "\">>>>>> iteration 29:F\""
      ]
     },
     "metadata": {},
     "output_type": "display_data"
    },
    {
     "data": {
      "text/plain": [
       "\">>>>>> iteration 30:F\""
      ]
     },
     "metadata": {},
     "output_type": "display_data"
    },
    {
     "data": {
      "text/plain": [
       "\">>>>>> iteration 31:F\""
      ]
     },
     "metadata": {},
     "output_type": "display_data"
    },
    {
     "data": {
      "text/plain": [
       "\">>>>>> iteration 32:F\""
      ]
     },
     "metadata": {},
     "output_type": "display_data"
    },
    {
     "data": {
      "text/plain": [
       "\">>>>>> iteration 33:F\""
      ]
     },
     "metadata": {},
     "output_type": "display_data"
    },
    {
     "data": {
      "text/plain": [
       "\">>>>>> iteration 34:F\""
      ]
     },
     "metadata": {},
     "output_type": "display_data"
    },
    {
     "data": {
      "text/plain": [
       "\">>>>>> iteration 35:F\""
      ]
     },
     "metadata": {},
     "output_type": "display_data"
    },
    {
     "data": {
      "text/plain": [
       "\">>>>>> iteration 36:F\""
      ]
     },
     "metadata": {},
     "output_type": "display_data"
    },
    {
     "data": {
      "text/plain": [
       "\">>>>>> iteration 37:F\""
      ]
     },
     "metadata": {},
     "output_type": "display_data"
    },
    {
     "data": {
      "text/plain": [
       "\">>>>>> iteration 38:F\""
      ]
     },
     "metadata": {},
     "output_type": "display_data"
    },
    {
     "data": {
      "text/plain": [
       "\">>>>>> iteration 39:F\""
      ]
     },
     "metadata": {},
     "output_type": "display_data"
    },
    {
     "data": {
      "text/plain": [
       "\">>>>>> iteration 40:F\""
      ]
     },
     "metadata": {},
     "output_type": "display_data"
    },
    {
     "data": {
      "text/plain": [
       "\">>>>>> iteration 41:F\""
      ]
     },
     "metadata": {},
     "output_type": "display_data"
    },
    {
     "data": {
      "text/plain": [
       "\">>>>>> iteration 42:F\""
      ]
     },
     "metadata": {},
     "output_type": "display_data"
    },
    {
     "data": {
      "text/plain": [
       "\">>>>>> iteration 43:F\""
      ]
     },
     "metadata": {},
     "output_type": "display_data"
    },
    {
     "data": {
      "text/plain": [
       "\">>>>>> iteration 44:F\""
      ]
     },
     "metadata": {},
     "output_type": "display_data"
    },
    {
     "data": {
      "text/plain": [
       "\">>>>>> iteration 45:F\""
      ]
     },
     "metadata": {},
     "output_type": "display_data"
    },
    {
     "data": {
      "text/plain": [
       "\">>>>>> iteration 46:F\""
      ]
     },
     "metadata": {},
     "output_type": "display_data"
    },
    {
     "data": {
      "text/plain": [
       "\">>>>>> iteration 47:F\""
      ]
     },
     "metadata": {},
     "output_type": "display_data"
    },
    {
     "data": {
      "text/plain": [
       "\">>>>>> iteration 48:F\""
      ]
     },
     "metadata": {},
     "output_type": "display_data"
    },
    {
     "data": {
      "text/plain": [
       "\">>>>>> iteration 49:F\""
      ]
     },
     "metadata": {},
     "output_type": "display_data"
    },
    {
     "data": {
      "text/plain": [
       "\">>>>>> iteration 50:F\""
      ]
     },
     "metadata": {},
     "output_type": "display_data"
    },
    {
     "data": {
      "text/plain": [
       "\"evaluating 39 reactors in parallel | option 3\""
      ]
     },
     "metadata": {},
     "output_type": "display_data"
    },
    {
     "data": {
      "text/plain": [
       "\"DB: opt gap = 1.0\""
      ]
     },
     "metadata": {},
     "output_type": "display_data"
    },
    {
     "data": {
      "text/plain": [
       "\">>>>>> iteration 1:O\""
      ]
     },
     "metadata": {},
     "output_type": "display_data"
    },
    {
     "data": {
      "text/plain": [
       "\"DB: opt gap = 1.0\""
      ]
     },
     "metadata": {},
     "output_type": "display_data"
    },
    {
     "data": {
      "text/plain": [
       "\">>>>>> iteration 2:O\""
      ]
     },
     "metadata": {},
     "output_type": "display_data"
    },
    {
     "data": {
      "text/plain": [
       "\"DB: opt gap = 1.0\""
      ]
     },
     "metadata": {},
     "output_type": "display_data"
    },
    {
     "data": {
      "text/plain": [
       "\">>>>>> iteration 3:O\""
      ]
     },
     "metadata": {},
     "output_type": "display_data"
    },
    {
     "data": {
      "text/plain": [
       "\"DB: opt gap = 1.0\""
      ]
     },
     "metadata": {},
     "output_type": "display_data"
    },
    {
     "data": {
      "text/plain": [
       "\">>>>>> iteration 4:O\""
      ]
     },
     "metadata": {},
     "output_type": "display_data"
    },
    {
     "data": {
      "text/plain": [
       "\"DB: opt gap = 1.0\""
      ]
     },
     "metadata": {},
     "output_type": "display_data"
    },
    {
     "data": {
      "text/plain": [
       "\">>>>>> iteration 5:O\""
      ]
     },
     "metadata": {},
     "output_type": "display_data"
    },
    {
     "data": {
      "text/plain": [
       "\"DB: opt gap = 1.0\""
      ]
     },
     "metadata": {},
     "output_type": "display_data"
    },
    {
     "data": {
      "text/plain": [
       "\">>>>>> iteration 6:O\""
      ]
     },
     "metadata": {},
     "output_type": "display_data"
    },
    {
     "data": {
      "text/plain": [
       "\"DB: opt gap = 1.0\""
      ]
     },
     "metadata": {},
     "output_type": "display_data"
    },
    {
     "data": {
      "text/plain": [
       "\">>>>>> iteration 7:O\""
      ]
     },
     "metadata": {},
     "output_type": "display_data"
    },
    {
     "data": {
      "text/plain": [
       "\"DB: opt gap = 0.9973547603733746\""
      ]
     },
     "metadata": {},
     "output_type": "display_data"
    },
    {
     "data": {
      "text/plain": [
       "\">>>>>> iteration 8:O\""
      ]
     },
     "metadata": {},
     "output_type": "display_data"
    },
    {
     "data": {
      "text/plain": [
       "\"DB: opt gap = 0.973233758382929\""
      ]
     },
     "metadata": {},
     "output_type": "display_data"
    },
    {
     "data": {
      "text/plain": [
       "\">>>>>> iteration 9:O\""
      ]
     },
     "metadata": {},
     "output_type": "display_data"
    },
    {
     "data": {
      "text/plain": [
       "\"DB: opt gap = 0.8834176148664168\""
      ]
     },
     "metadata": {},
     "output_type": "display_data"
    },
    {
     "data": {
      "text/plain": [
       "\">>>>>> iteration 10:O\""
      ]
     },
     "metadata": {},
     "output_type": "display_data"
    },
    {
     "data": {
      "text/plain": [
       "\"DB: opt gap = 0.8565366964138704\""
      ]
     },
     "metadata": {},
     "output_type": "display_data"
    },
    {
     "data": {
      "text/plain": [
       "\">>>>>> iteration 11:O\""
      ]
     },
     "metadata": {},
     "output_type": "display_data"
    },
    {
     "data": {
      "text/plain": [
       "\"DB: opt gap = 0.07987031485061603\""
      ]
     },
     "metadata": {},
     "output_type": "display_data"
    },
    {
     "data": {
      "text/plain": [
       "\">>>>>> iteration 12:O\""
      ]
     },
     "metadata": {},
     "output_type": "display_data"
    },
    {
     "data": {
      "text/plain": [
       "\"DB: opt gap = 0.07940593217672354\""
      ]
     },
     "metadata": {},
     "output_type": "display_data"
    },
    {
     "data": {
      "text/plain": [
       "\">>>>>> iteration 13:O\""
      ]
     },
     "metadata": {},
     "output_type": "display_data"
    },
    {
     "data": {
      "text/plain": [
       "\"DB: opt gap = 0.07735680612367993\""
      ]
     },
     "metadata": {},
     "output_type": "display_data"
    },
    {
     "data": {
      "text/plain": [
       "\">>>>>> iteration 14:O\""
      ]
     },
     "metadata": {},
     "output_type": "display_data"
    },
    {
     "data": {
      "text/plain": [
       "\"DB: opt gap = 0.07692597922989801\""
      ]
     },
     "metadata": {},
     "output_type": "display_data"
    },
    {
     "data": {
      "text/plain": [
       "\">>>>>> iteration 15:O\""
      ]
     },
     "metadata": {},
     "output_type": "display_data"
    },
    {
     "data": {
      "text/plain": [
       "\">>>>>> iteration 16:F\""
      ]
     },
     "metadata": {},
     "output_type": "display_data"
    },
    {
     "data": {
      "text/plain": [
       "\">>>>>> iteration 17:F\""
      ]
     },
     "metadata": {},
     "output_type": "display_data"
    },
    {
     "data": {
      "text/plain": [
       "\">>>>>> iteration 18:F\""
      ]
     },
     "metadata": {},
     "output_type": "display_data"
    },
    {
     "data": {
      "text/plain": [
       "\">>>>>> iteration 19:F\""
      ]
     },
     "metadata": {},
     "output_type": "display_data"
    },
    {
     "data": {
      "text/plain": [
       "\">>>>>> iteration 20:F\""
      ]
     },
     "metadata": {},
     "output_type": "display_data"
    },
    {
     "data": {
      "text/plain": [
       "\">>>>>> iteration 21:F\""
      ]
     },
     "metadata": {},
     "output_type": "display_data"
    },
    {
     "data": {
      "text/plain": [
       "\">>>>>> iteration 22:F\""
      ]
     },
     "metadata": {},
     "output_type": "display_data"
    },
    {
     "data": {
      "text/plain": [
       "\">>>>>> iteration 23:F\""
      ]
     },
     "metadata": {},
     "output_type": "display_data"
    },
    {
     "data": {
      "text/plain": [
       "\">>>>>> iteration 24:F\""
      ]
     },
     "metadata": {},
     "output_type": "display_data"
    },
    {
     "data": {
      "text/plain": [
       "\">>>>>> iteration 25:F\""
      ]
     },
     "metadata": {},
     "output_type": "display_data"
    },
    {
     "data": {
      "text/plain": [
       "\">>>>>> iteration 26:F\""
      ]
     },
     "metadata": {},
     "output_type": "display_data"
    },
    {
     "data": {
      "text/plain": [
       "\">>>>>> iteration 27:F\""
      ]
     },
     "metadata": {},
     "output_type": "display_data"
    },
    {
     "data": {
      "text/plain": [
       "\">>>>>> iteration 28:F\""
      ]
     },
     "metadata": {},
     "output_type": "display_data"
    },
    {
     "data": {
      "text/plain": [
       "\">>>>>> iteration 29:F\""
      ]
     },
     "metadata": {},
     "output_type": "display_data"
    },
    {
     "data": {
      "text/plain": [
       "\">>>>>> iteration 30:F\""
      ]
     },
     "metadata": {},
     "output_type": "display_data"
    },
    {
     "data": {
      "text/plain": [
       "\">>>>>> iteration 31:F\""
      ]
     },
     "metadata": {},
     "output_type": "display_data"
    },
    {
     "data": {
      "text/plain": [
       "\">>>>>> iteration 32:F\""
      ]
     },
     "metadata": {},
     "output_type": "display_data"
    },
    {
     "data": {
      "text/plain": [
       "\">>>>>> iteration 33:F\""
      ]
     },
     "metadata": {},
     "output_type": "display_data"
    },
    {
     "data": {
      "text/plain": [
       "\">>>>>> iteration 34:F\""
      ]
     },
     "metadata": {},
     "output_type": "display_data"
    },
    {
     "data": {
      "text/plain": [
       "\">>>>>> iteration 35:F\""
      ]
     },
     "metadata": {},
     "output_type": "display_data"
    },
    {
     "data": {
      "text/plain": [
       "\">>>>>> iteration 36:F\""
      ]
     },
     "metadata": {},
     "output_type": "display_data"
    },
    {
     "data": {
      "text/plain": [
       "\">>>>>> iteration 37:F\""
      ]
     },
     "metadata": {},
     "output_type": "display_data"
    },
    {
     "data": {
      "text/plain": [
       "\">>>>>> iteration 38:F\""
      ]
     },
     "metadata": {},
     "output_type": "display_data"
    },
    {
     "data": {
      "text/plain": [
       "\">>>>>> iteration 39:F\""
      ]
     },
     "metadata": {},
     "output_type": "display_data"
    },
    {
     "data": {
      "text/plain": [
       "\">>>>>> iteration 40:F\""
      ]
     },
     "metadata": {},
     "output_type": "display_data"
    },
    {
     "data": {
      "text/plain": [
       "\">>>>>> iteration 41:F\""
      ]
     },
     "metadata": {},
     "output_type": "display_data"
    },
    {
     "data": {
      "text/plain": [
       "\">>>>>> iteration 42:F\""
      ]
     },
     "metadata": {},
     "output_type": "display_data"
    },
    {
     "data": {
      "text/plain": [
       "\">>>>>> iteration 43:F\""
      ]
     },
     "metadata": {},
     "output_type": "display_data"
    },
    {
     "data": {
      "text/plain": [
       "\">>>>>> iteration 44:F\""
      ]
     },
     "metadata": {},
     "output_type": "display_data"
    },
    {
     "data": {
      "text/plain": [
       "\">>>>>> iteration 45:F\""
      ]
     },
     "metadata": {},
     "output_type": "display_data"
    },
    {
     "data": {
      "text/plain": [
       "\">>>>>> iteration 46:F\""
      ]
     },
     "metadata": {},
     "output_type": "display_data"
    },
    {
     "data": {
      "text/plain": [
       "\">>>>>> iteration 47:F\""
      ]
     },
     "metadata": {},
     "output_type": "display_data"
    },
    {
     "data": {
      "text/plain": [
       "\">>>>>> iteration 48:F\""
      ]
     },
     "metadata": {},
     "output_type": "display_data"
    },
    {
     "data": {
      "text/plain": [
       "\">>>>>> iteration 49:F\""
      ]
     },
     "metadata": {},
     "output_type": "display_data"
    },
    {
     "data": {
      "text/plain": [
       "\">>>>>> iteration 50:F\""
      ]
     },
     "metadata": {},
     "output_type": "display_data"
    },
    {
     "data": {
      "text/plain": [
       "\"evaluating 40 reactors in parallel | option 3\""
      ]
     },
     "metadata": {},
     "output_type": "display_data"
    },
    {
     "data": {
      "text/plain": [
       "\"DB: opt gap = 1.0\""
      ]
     },
     "metadata": {},
     "output_type": "display_data"
    },
    {
     "data": {
      "text/plain": [
       "\">>>>>> iteration 1:O\""
      ]
     },
     "metadata": {},
     "output_type": "display_data"
    },
    {
     "data": {
      "text/plain": [
       "\"DB: opt gap = 1.0\""
      ]
     },
     "metadata": {},
     "output_type": "display_data"
    },
    {
     "data": {
      "text/plain": [
       "\">>>>>> iteration 2:O\""
      ]
     },
     "metadata": {},
     "output_type": "display_data"
    },
    {
     "data": {
      "text/plain": [
       "\"DB: opt gap = 1.0\""
      ]
     },
     "metadata": {},
     "output_type": "display_data"
    },
    {
     "data": {
      "text/plain": [
       "\">>>>>> iteration 3:O\""
      ]
     },
     "metadata": {},
     "output_type": "display_data"
    },
    {
     "data": {
      "text/plain": [
       "\"DB: opt gap = 1.0\""
      ]
     },
     "metadata": {},
     "output_type": "display_data"
    },
    {
     "data": {
      "text/plain": [
       "\">>>>>> iteration 4:O\""
      ]
     },
     "metadata": {},
     "output_type": "display_data"
    },
    {
     "data": {
      "text/plain": [
       "\"DB: opt gap = 1.0\""
      ]
     },
     "metadata": {},
     "output_type": "display_data"
    },
    {
     "data": {
      "text/plain": [
       "\">>>>>> iteration 5:O\""
      ]
     },
     "metadata": {},
     "output_type": "display_data"
    },
    {
     "data": {
      "text/plain": [
       "\"DB: opt gap = 1.0\""
      ]
     },
     "metadata": {},
     "output_type": "display_data"
    },
    {
     "data": {
      "text/plain": [
       "\">>>>>> iteration 6:O\""
      ]
     },
     "metadata": {},
     "output_type": "display_data"
    },
    {
     "data": {
      "text/plain": [
       "\"DB: opt gap = 1.0\""
      ]
     },
     "metadata": {},
     "output_type": "display_data"
    },
    {
     "data": {
      "text/plain": [
       "\">>>>>> iteration 7:O\""
      ]
     },
     "metadata": {},
     "output_type": "display_data"
    },
    {
     "data": {
      "text/plain": [
       "\"DB: opt gap = 0.7253558846622609\""
      ]
     },
     "metadata": {},
     "output_type": "display_data"
    },
    {
     "data": {
      "text/plain": [
       "\">>>>>> iteration 8:O\""
      ]
     },
     "metadata": {},
     "output_type": "display_data"
    },
    {
     "data": {
      "text/plain": [
       "\"DB: opt gap = 0.7109701394586062\""
      ]
     },
     "metadata": {},
     "output_type": "display_data"
    },
    {
     "data": {
      "text/plain": [
       "\">>>>>> iteration 9:O\""
      ]
     },
     "metadata": {},
     "output_type": "display_data"
    },
    {
     "data": {
      "text/plain": [
       "\"DB: opt gap = 0.6999984275710878\""
      ]
     },
     "metadata": {},
     "output_type": "display_data"
    },
    {
     "data": {
      "text/plain": [
       "\">>>>>> iteration 10:O\""
      ]
     },
     "metadata": {},
     "output_type": "display_data"
    },
    {
     "data": {
      "text/plain": [
       "\"DB: opt gap = 0.6869167135080914\""
      ]
     },
     "metadata": {},
     "output_type": "display_data"
    },
    {
     "data": {
      "text/plain": [
       "\">>>>>> iteration 11:O\""
      ]
     },
     "metadata": {},
     "output_type": "display_data"
    },
    {
     "data": {
      "text/plain": [
       "\"DB: opt gap = 0.6513785495663308\""
      ]
     },
     "metadata": {},
     "output_type": "display_data"
    },
    {
     "data": {
      "text/plain": [
       "\">>>>>> iteration 12:O\""
      ]
     },
     "metadata": {},
     "output_type": "display_data"
    },
    {
     "data": {
      "text/plain": [
       "\"DB: opt gap = 0.4568831871225915\""
      ]
     },
     "metadata": {},
     "output_type": "display_data"
    },
    {
     "data": {
      "text/plain": [
       "\">>>>>> iteration 13:O\""
      ]
     },
     "metadata": {},
     "output_type": "display_data"
    },
    {
     "data": {
      "text/plain": [
       "\"DB: opt gap = 0.4493504895764007\""
      ]
     },
     "metadata": {},
     "output_type": "display_data"
    },
    {
     "data": {
      "text/plain": [
       "\">>>>>> iteration 14:O\""
      ]
     },
     "metadata": {},
     "output_type": "display_data"
    },
    {
     "data": {
      "text/plain": [
       "\"DB: opt gap = 0.44088055106589774\""
      ]
     },
     "metadata": {},
     "output_type": "display_data"
    },
    {
     "data": {
      "text/plain": [
       "\">>>>>> iteration 15:O\""
      ]
     },
     "metadata": {},
     "output_type": "display_data"
    },
    {
     "data": {
      "text/plain": [
       "\"DB: opt gap = 0.42594067146509096\""
      ]
     },
     "metadata": {},
     "output_type": "display_data"
    },
    {
     "data": {
      "text/plain": [
       "\">>>>>> iteration 16:O\""
      ]
     },
     "metadata": {},
     "output_type": "display_data"
    },
    {
     "data": {
      "text/plain": [
       "\"DB: opt gap = 0.4061123525066613\""
      ]
     },
     "metadata": {},
     "output_type": "display_data"
    },
    {
     "data": {
      "text/plain": [
       "\">>>>>> iteration 17:O\""
      ]
     },
     "metadata": {},
     "output_type": "display_data"
    },
    {
     "data": {
      "text/plain": [
       "\"DB: opt gap = 0.021632359789902\""
      ]
     },
     "metadata": {},
     "output_type": "display_data"
    },
    {
     "data": {
      "text/plain": [
       "\">>>>>> iteration 18:O\""
      ]
     },
     "metadata": {},
     "output_type": "display_data"
    },
    {
     "data": {
      "text/plain": [
       "\"DB: opt gap = 0.02157330562931071\""
      ]
     },
     "metadata": {},
     "output_type": "display_data"
    },
    {
     "data": {
      "text/plain": [
       "\">>>>>> iteration 19:O\""
      ]
     },
     "metadata": {},
     "output_type": "display_data"
    },
    {
     "data": {
      "text/plain": [
       "\"DB: opt gap = 1.6799802164347716e-5\""
      ]
     },
     "metadata": {},
     "output_type": "display_data"
    },
    {
     "data": {
      "text/plain": [
       "\"evaluating 41 reactors in parallel | option 3\""
      ]
     },
     "metadata": {},
     "output_type": "display_data"
    },
    {
     "data": {
      "text/plain": [
       "\"DB: opt gap = 1.0\""
      ]
     },
     "metadata": {},
     "output_type": "display_data"
    },
    {
     "data": {
      "text/plain": [
       "\">>>>>> iteration 1:O\""
      ]
     },
     "metadata": {},
     "output_type": "display_data"
    },
    {
     "data": {
      "text/plain": [
       "\"DB: opt gap = 1.0\""
      ]
     },
     "metadata": {},
     "output_type": "display_data"
    },
    {
     "data": {
      "text/plain": [
       "\">>>>>> iteration 2:O\""
      ]
     },
     "metadata": {},
     "output_type": "display_data"
    },
    {
     "data": {
      "text/plain": [
       "\"DB: opt gap = 1.0\""
      ]
     },
     "metadata": {},
     "output_type": "display_data"
    },
    {
     "data": {
      "text/plain": [
       "\">>>>>> iteration 3:O\""
      ]
     },
     "metadata": {},
     "output_type": "display_data"
    },
    {
     "data": {
      "text/plain": [
       "\"DB: opt gap = 1.0\""
      ]
     },
     "metadata": {},
     "output_type": "display_data"
    },
    {
     "data": {
      "text/plain": [
       "\">>>>>> iteration 4:O\""
      ]
     },
     "metadata": {},
     "output_type": "display_data"
    },
    {
     "data": {
      "text/plain": [
       "\"DB: opt gap = 1.0\""
      ]
     },
     "metadata": {},
     "output_type": "display_data"
    },
    {
     "data": {
      "text/plain": [
       "\">>>>>> iteration 5:O\""
      ]
     },
     "metadata": {},
     "output_type": "display_data"
    },
    {
     "data": {
      "text/plain": [
       "\"DB: opt gap = 1.0\""
      ]
     },
     "metadata": {},
     "output_type": "display_data"
    },
    {
     "data": {
      "text/plain": [
       "\">>>>>> iteration 6:O\""
      ]
     },
     "metadata": {},
     "output_type": "display_data"
    },
    {
     "data": {
      "text/plain": [
       "\"DB: opt gap = 1.0\""
      ]
     },
     "metadata": {},
     "output_type": "display_data"
    },
    {
     "data": {
      "text/plain": [
       "\">>>>>> iteration 7:O\""
      ]
     },
     "metadata": {},
     "output_type": "display_data"
    },
    {
     "data": {
      "text/plain": [
       "\"DB: opt gap = 0.9921428540341864\""
      ]
     },
     "metadata": {},
     "output_type": "display_data"
    },
    {
     "data": {
      "text/plain": [
       "\">>>>>> iteration 8:O\""
      ]
     },
     "metadata": {},
     "output_type": "display_data"
    },
    {
     "data": {
      "text/plain": [
       "\"DB: opt gap = 0.784090984659169\""
      ]
     },
     "metadata": {},
     "output_type": "display_data"
    },
    {
     "data": {
      "text/plain": [
       "\">>>>>> iteration 9:O\""
      ]
     },
     "metadata": {},
     "output_type": "display_data"
    },
    {
     "data": {
      "text/plain": [
       "\"DB: opt gap = 0.06827713900336418\""
      ]
     },
     "metadata": {},
     "output_type": "display_data"
    },
    {
     "data": {
      "text/plain": [
       "\">>>>>> iteration 10:O\""
      ]
     },
     "metadata": {},
     "output_type": "display_data"
    },
    {
     "data": {
      "text/plain": [
       "\"DB: opt gap = 0.06780745897678611\""
      ]
     },
     "metadata": {},
     "output_type": "display_data"
    },
    {
     "data": {
      "text/plain": [
       "\">>>>>> iteration 11:O\""
      ]
     },
     "metadata": {},
     "output_type": "display_data"
    },
    {
     "data": {
      "text/plain": [
       "\"DB: opt gap = 0.06658876764695913\""
      ]
     },
     "metadata": {},
     "output_type": "display_data"
    },
    {
     "data": {
      "text/plain": [
       "\">>>>>> iteration 12:O\""
      ]
     },
     "metadata": {},
     "output_type": "display_data"
    },
    {
     "data": {
      "text/plain": [
       "\"DB: opt gap = 0.06614683903846236\""
      ]
     },
     "metadata": {},
     "output_type": "display_data"
    },
    {
     "data": {
      "text/plain": [
       "\">>>>>> iteration 13:O\""
      ]
     },
     "metadata": {},
     "output_type": "display_data"
    },
    {
     "data": {
      "text/plain": [
       "\"DB: opt gap = 4.695461806275441e-5\""
      ]
     },
     "metadata": {},
     "output_type": "display_data"
    },
    {
     "data": {
      "text/plain": [
       "\"evaluating 42 reactors in parallel | option 3\""
      ]
     },
     "metadata": {},
     "output_type": "display_data"
    },
    {
     "data": {
      "text/plain": [
       "\"DB: opt gap = 1.0\""
      ]
     },
     "metadata": {},
     "output_type": "display_data"
    },
    {
     "data": {
      "text/plain": [
       "\">>>>>> iteration 1:O\""
      ]
     },
     "metadata": {},
     "output_type": "display_data"
    },
    {
     "data": {
      "text/plain": [
       "\"DB: opt gap = 1.0\""
      ]
     },
     "metadata": {},
     "output_type": "display_data"
    },
    {
     "data": {
      "text/plain": [
       "\">>>>>> iteration 2:O\""
      ]
     },
     "metadata": {},
     "output_type": "display_data"
    },
    {
     "data": {
      "text/plain": [
       "\"DB: opt gap = 1.0\""
      ]
     },
     "metadata": {},
     "output_type": "display_data"
    },
    {
     "data": {
      "text/plain": [
       "\">>>>>> iteration 3:O\""
      ]
     },
     "metadata": {},
     "output_type": "display_data"
    },
    {
     "data": {
      "text/plain": [
       "\"DB: opt gap = 1.0\""
      ]
     },
     "metadata": {},
     "output_type": "display_data"
    },
    {
     "data": {
      "text/plain": [
       "\">>>>>> iteration 4:O\""
      ]
     },
     "metadata": {},
     "output_type": "display_data"
    },
    {
     "data": {
      "text/plain": [
       "\"DB: opt gap = 1.0\""
      ]
     },
     "metadata": {},
     "output_type": "display_data"
    },
    {
     "data": {
      "text/plain": [
       "\">>>>>> iteration 5:O\""
      ]
     },
     "metadata": {},
     "output_type": "display_data"
    },
    {
     "data": {
      "text/plain": [
       "\"DB: opt gap = 1.0\""
      ]
     },
     "metadata": {},
     "output_type": "display_data"
    },
    {
     "data": {
      "text/plain": [
       "\">>>>>> iteration 6:O\""
      ]
     },
     "metadata": {},
     "output_type": "display_data"
    },
    {
     "data": {
      "text/plain": [
       "\"DB: opt gap = 1.0\""
      ]
     },
     "metadata": {},
     "output_type": "display_data"
    },
    {
     "data": {
      "text/plain": [
       "\">>>>>> iteration 7:O\""
      ]
     },
     "metadata": {},
     "output_type": "display_data"
    },
    {
     "data": {
      "text/plain": [
       "\"DB: opt gap = 1.0\""
      ]
     },
     "metadata": {},
     "output_type": "display_data"
    },
    {
     "data": {
      "text/plain": [
       "\">>>>>> iteration 8:O\""
      ]
     },
     "metadata": {},
     "output_type": "display_data"
    },
    {
     "data": {
      "text/plain": [
       "\"DB: opt gap = 0.8935758021183273\""
      ]
     },
     "metadata": {},
     "output_type": "display_data"
    },
    {
     "data": {
      "text/plain": [
       "\">>>>>> iteration 9:O\""
      ]
     },
     "metadata": {},
     "output_type": "display_data"
    },
    {
     "data": {
      "text/plain": [
       "\"DB: opt gap = 0.06397230755037381\""
      ]
     },
     "metadata": {},
     "output_type": "display_data"
    },
    {
     "data": {
      "text/plain": [
       "\">>>>>> iteration 10:O\""
      ]
     },
     "metadata": {},
     "output_type": "display_data"
    },
    {
     "data": {
      "text/plain": [
       "\"DB: opt gap = 0.06341395007062459\""
      ]
     },
     "metadata": {},
     "output_type": "display_data"
    },
    {
     "data": {
      "text/plain": [
       "\">>>>>> iteration 11:O\""
      ]
     },
     "metadata": {},
     "output_type": "display_data"
    },
    {
     "data": {
      "text/plain": [
       "\"DB: opt gap = 0.062437612397085916\""
      ]
     },
     "metadata": {},
     "output_type": "display_data"
    },
    {
     "data": {
      "text/plain": [
       "\">>>>>> iteration 12:O\""
      ]
     },
     "metadata": {},
     "output_type": "display_data"
    },
    {
     "data": {
      "text/plain": [
       "\"DB: opt gap = 0.06205019693384213\""
      ]
     },
     "metadata": {},
     "output_type": "display_data"
    },
    {
     "data": {
      "text/plain": [
       "\">>>>>> iteration 13:O\""
      ]
     },
     "metadata": {},
     "output_type": "display_data"
    },
    {
     "data": {
      "text/plain": [
       "\">>>>>> iteration 14:F\""
      ]
     },
     "metadata": {},
     "output_type": "display_data"
    },
    {
     "data": {
      "text/plain": [
       "\"DB: opt gap = 0.062276652945899555\""
      ]
     },
     "metadata": {},
     "output_type": "display_data"
    },
    {
     "data": {
      "text/plain": [
       "\">>>>>> iteration 15:O\""
      ]
     },
     "metadata": {},
     "output_type": "display_data"
    },
    {
     "data": {
      "text/plain": [
       "\"DB: opt gap = 0.058259153551947516\""
      ]
     },
     "metadata": {},
     "output_type": "display_data"
    },
    {
     "data": {
      "text/plain": [
       "\">>>>>> iteration 16:O\""
      ]
     },
     "metadata": {},
     "output_type": "display_data"
    },
    {
     "data": {
      "text/plain": [
       "\"DB: opt gap = 0.0003205594127572558\""
      ]
     },
     "metadata": {},
     "output_type": "display_data"
    },
    {
     "data": {
      "text/plain": [
       "\"evaluating 43 reactors in parallel | option 3\""
      ]
     },
     "metadata": {},
     "output_type": "display_data"
    },
    {
     "data": {
      "text/plain": [
       "\"DB: opt gap = 1.0\""
      ]
     },
     "metadata": {},
     "output_type": "display_data"
    },
    {
     "data": {
      "text/plain": [
       "\">>>>>> iteration 1:O\""
      ]
     },
     "metadata": {},
     "output_type": "display_data"
    },
    {
     "data": {
      "text/plain": [
       "\"DB: opt gap = 1.0\""
      ]
     },
     "metadata": {},
     "output_type": "display_data"
    },
    {
     "data": {
      "text/plain": [
       "\">>>>>> iteration 2:O\""
      ]
     },
     "metadata": {},
     "output_type": "display_data"
    },
    {
     "data": {
      "text/plain": [
       "\"DB: opt gap = 1.0\""
      ]
     },
     "metadata": {},
     "output_type": "display_data"
    },
    {
     "data": {
      "text/plain": [
       "\">>>>>> iteration 3:O\""
      ]
     },
     "metadata": {},
     "output_type": "display_data"
    },
    {
     "data": {
      "text/plain": [
       "\"DB: opt gap = 1.0\""
      ]
     },
     "metadata": {},
     "output_type": "display_data"
    },
    {
     "data": {
      "text/plain": [
       "\">>>>>> iteration 4:O\""
      ]
     },
     "metadata": {},
     "output_type": "display_data"
    },
    {
     "data": {
      "text/plain": [
       "\"DB: opt gap = 1.0\""
      ]
     },
     "metadata": {},
     "output_type": "display_data"
    },
    {
     "data": {
      "text/plain": [
       "\">>>>>> iteration 5:O\""
      ]
     },
     "metadata": {},
     "output_type": "display_data"
    },
    {
     "data": {
      "text/plain": [
       "\"DB: opt gap = 1.0\""
      ]
     },
     "metadata": {},
     "output_type": "display_data"
    },
    {
     "data": {
      "text/plain": [
       "\">>>>>> iteration 6:O\""
      ]
     },
     "metadata": {},
     "output_type": "display_data"
    },
    {
     "data": {
      "text/plain": [
       "\"DB: opt gap = 0.9523809676385467\""
      ]
     },
     "metadata": {},
     "output_type": "display_data"
    },
    {
     "data": {
      "text/plain": [
       "\">>>>>> iteration 7:O\""
      ]
     },
     "metadata": {},
     "output_type": "display_data"
    },
    {
     "data": {
      "text/plain": [
       "\"DB: opt gap = 0.8833973097114678\""
      ]
     },
     "metadata": {},
     "output_type": "display_data"
    },
    {
     "data": {
      "text/plain": [
       "\">>>>>> iteration 8:O\""
      ]
     },
     "metadata": {},
     "output_type": "display_data"
    },
    {
     "data": {
      "text/plain": [
       "\"DB: opt gap = 0.8270831258466831\""
      ]
     },
     "metadata": {},
     "output_type": "display_data"
    },
    {
     "data": {
      "text/plain": [
       "\">>>>>> iteration 9:O\""
      ]
     },
     "metadata": {},
     "output_type": "display_data"
    },
    {
     "data": {
      "text/plain": [
       "\"DB: opt gap = 0.03363019606945716\""
      ]
     },
     "metadata": {},
     "output_type": "display_data"
    },
    {
     "data": {
      "text/plain": [
       "\">>>>>> iteration 10:O\""
      ]
     },
     "metadata": {},
     "output_type": "display_data"
    },
    {
     "data": {
      "text/plain": [
       "\"DB: opt gap = 0.03347615275346171\""
      ]
     },
     "metadata": {},
     "output_type": "display_data"
    },
    {
     "data": {
      "text/plain": [
       "\">>>>>> iteration 11:O\""
      ]
     },
     "metadata": {},
     "output_type": "display_data"
    },
    {
     "data": {
      "text/plain": [
       "\"DB: opt gap = 0.033351448760856627\""
      ]
     },
     "metadata": {},
     "output_type": "display_data"
    },
    {
     "data": {
      "text/plain": [
       "\">>>>>> iteration 12:O\""
      ]
     },
     "metadata": {},
     "output_type": "display_data"
    },
    {
     "data": {
      "text/plain": [
       "\"DB: opt gap = 0.033146858844354324\""
      ]
     },
     "metadata": {},
     "output_type": "display_data"
    },
    {
     "data": {
      "text/plain": [
       "\">>>>>> iteration 13:O\""
      ]
     },
     "metadata": {},
     "output_type": "display_data"
    },
    {
     "data": {
      "text/plain": [
       "\"DB: opt gap = 0.032875820330194566\""
      ]
     },
     "metadata": {},
     "output_type": "display_data"
    },
    {
     "data": {
      "text/plain": [
       "\">>>>>> iteration 14:O\""
      ]
     },
     "metadata": {},
     "output_type": "display_data"
    },
    {
     "data": {
      "text/plain": [
       "\"DB: opt gap = 2.2830733884728155e-5\""
      ]
     },
     "metadata": {},
     "output_type": "display_data"
    },
    {
     "data": {
      "text/plain": [
       "\"evaluating 44 reactors in parallel | option 3\""
      ]
     },
     "metadata": {},
     "output_type": "display_data"
    },
    {
     "data": {
      "text/plain": [
       "\"DB: opt gap = 1.0\""
      ]
     },
     "metadata": {},
     "output_type": "display_data"
    },
    {
     "data": {
      "text/plain": [
       "\">>>>>> iteration 1:O\""
      ]
     },
     "metadata": {},
     "output_type": "display_data"
    },
    {
     "data": {
      "text/plain": [
       "\"DB: opt gap = 1.0\""
      ]
     },
     "metadata": {},
     "output_type": "display_data"
    },
    {
     "data": {
      "text/plain": [
       "\">>>>>> iteration 2:O\""
      ]
     },
     "metadata": {},
     "output_type": "display_data"
    },
    {
     "data": {
      "text/plain": [
       "\"DB: opt gap = 1.0\""
      ]
     },
     "metadata": {},
     "output_type": "display_data"
    },
    {
     "data": {
      "text/plain": [
       "\">>>>>> iteration 3:O\""
      ]
     },
     "metadata": {},
     "output_type": "display_data"
    },
    {
     "data": {
      "text/plain": [
       "\"DB: opt gap = 1.0\""
      ]
     },
     "metadata": {},
     "output_type": "display_data"
    },
    {
     "data": {
      "text/plain": [
       "\">>>>>> iteration 4:O\""
      ]
     },
     "metadata": {},
     "output_type": "display_data"
    },
    {
     "data": {
      "text/plain": [
       "\"DB: opt gap = 1.0\""
      ]
     },
     "metadata": {},
     "output_type": "display_data"
    },
    {
     "data": {
      "text/plain": [
       "\">>>>>> iteration 5:O\""
      ]
     },
     "metadata": {},
     "output_type": "display_data"
    },
    {
     "data": {
      "text/plain": [
       "\"DB: opt gap = 1.0\""
      ]
     },
     "metadata": {},
     "output_type": "display_data"
    },
    {
     "data": {
      "text/plain": [
       "\">>>>>> iteration 6:O\""
      ]
     },
     "metadata": {},
     "output_type": "display_data"
    },
    {
     "data": {
      "text/plain": [
       "\"DB: opt gap = 1.0\""
      ]
     },
     "metadata": {},
     "output_type": "display_data"
    },
    {
     "data": {
      "text/plain": [
       "\">>>>>> iteration 7:O\""
      ]
     },
     "metadata": {},
     "output_type": "display_data"
    },
    {
     "data": {
      "text/plain": [
       "\"DB: opt gap = 0.9976326306276414\""
      ]
     },
     "metadata": {},
     "output_type": "display_data"
    },
    {
     "data": {
      "text/plain": [
       "\">>>>>> iteration 8:O\""
      ]
     },
     "metadata": {},
     "output_type": "display_data"
    },
    {
     "data": {
      "text/plain": [
       "\"DB: opt gap = 0.9750972150552378\""
      ]
     },
     "metadata": {},
     "output_type": "display_data"
    },
    {
     "data": {
      "text/plain": [
       "\">>>>>> iteration 9:O\""
      ]
     },
     "metadata": {},
     "output_type": "display_data"
    },
    {
     "data": {
      "text/plain": [
       "\"DB: opt gap = 0.03401121184768644\""
      ]
     },
     "metadata": {},
     "output_type": "display_data"
    },
    {
     "data": {
      "text/plain": [
       "\">>>>>> iteration 10:O\""
      ]
     },
     "metadata": {},
     "output_type": "display_data"
    },
    {
     "data": {
      "text/plain": [
       "\"DB: opt gap = 0.033851299340719114\""
      ]
     },
     "metadata": {},
     "output_type": "display_data"
    },
    {
     "data": {
      "text/plain": [
       "\">>>>>> iteration 11:O\""
      ]
     },
     "metadata": {},
     "output_type": "display_data"
    },
    {
     "data": {
      "text/plain": [
       "\">>>>>> iteration 12:F\""
      ]
     },
     "metadata": {},
     "output_type": "display_data"
    },
    {
     "data": {
      "text/plain": [
       "\"DB: opt gap = 0.033113810464221134\""
      ]
     },
     "metadata": {},
     "output_type": "display_data"
    },
    {
     "data": {
      "text/plain": [
       "\">>>>>> iteration 13:O\""
      ]
     },
     "metadata": {},
     "output_type": "display_data"
    },
    {
     "data": {
      "text/plain": [
       "\"DB: opt gap = 0.03291585694035341\""
      ]
     },
     "metadata": {},
     "output_type": "display_data"
    },
    {
     "data": {
      "text/plain": [
       "\">>>>>> iteration 14:O\""
      ]
     },
     "metadata": {},
     "output_type": "display_data"
    },
    {
     "data": {
      "text/plain": [
       "\"DB: opt gap = 8.476062959151084e-6\""
      ]
     },
     "metadata": {},
     "output_type": "display_data"
    },
    {
     "data": {
      "text/plain": [
       "\"evaluating 45 reactors in parallel | option 3\""
      ]
     },
     "metadata": {},
     "output_type": "display_data"
    },
    {
     "data": {
      "text/plain": [
       "\"DB: opt gap = 1.0\""
      ]
     },
     "metadata": {},
     "output_type": "display_data"
    },
    {
     "data": {
      "text/plain": [
       "\">>>>>> iteration 1:O\""
      ]
     },
     "metadata": {},
     "output_type": "display_data"
    },
    {
     "data": {
      "text/plain": [
       "\"DB: opt gap = 1.0\""
      ]
     },
     "metadata": {},
     "output_type": "display_data"
    },
    {
     "data": {
      "text/plain": [
       "\">>>>>> iteration 2:O\""
      ]
     },
     "metadata": {},
     "output_type": "display_data"
    },
    {
     "data": {
      "text/plain": [
       "\"DB: opt gap = 1.0\""
      ]
     },
     "metadata": {},
     "output_type": "display_data"
    },
    {
     "data": {
      "text/plain": [
       "\">>>>>> iteration 3:O\""
      ]
     },
     "metadata": {},
     "output_type": "display_data"
    },
    {
     "data": {
      "text/plain": [
       "\"DB: opt gap = 1.0\""
      ]
     },
     "metadata": {},
     "output_type": "display_data"
    },
    {
     "data": {
      "text/plain": [
       "\">>>>>> iteration 4:O\""
      ]
     },
     "metadata": {},
     "output_type": "display_data"
    },
    {
     "data": {
      "text/plain": [
       "\"DB: opt gap = 1.0\""
      ]
     },
     "metadata": {},
     "output_type": "display_data"
    },
    {
     "data": {
      "text/plain": [
       "\">>>>>> iteration 5:O\""
      ]
     },
     "metadata": {},
     "output_type": "display_data"
    },
    {
     "data": {
      "text/plain": [
       "\"DB: opt gap = 1.0\""
      ]
     },
     "metadata": {},
     "output_type": "display_data"
    },
    {
     "data": {
      "text/plain": [
       "\">>>>>> iteration 6:O\""
      ]
     },
     "metadata": {},
     "output_type": "display_data"
    },
    {
     "data": {
      "text/plain": [
       "\"DB: opt gap = 1.0\""
      ]
     },
     "metadata": {},
     "output_type": "display_data"
    },
    {
     "data": {
      "text/plain": [
       "\">>>>>> iteration 7:O\""
      ]
     },
     "metadata": {},
     "output_type": "display_data"
    },
    {
     "data": {
      "text/plain": [
       "\"DB: opt gap = 1.0\""
      ]
     },
     "metadata": {},
     "output_type": "display_data"
    },
    {
     "data": {
      "text/plain": [
       "\">>>>>> iteration 8:O\""
      ]
     },
     "metadata": {},
     "output_type": "display_data"
    },
    {
     "data": {
      "text/plain": [
       "\"DB: opt gap = 1.0\""
      ]
     },
     "metadata": {},
     "output_type": "display_data"
    },
    {
     "data": {
      "text/plain": [
       "\">>>>>> iteration 9:O\""
      ]
     },
     "metadata": {},
     "output_type": "display_data"
    },
    {
     "data": {
      "text/plain": [
       "\"DB: opt gap = 0.0367272401121617\""
      ]
     },
     "metadata": {},
     "output_type": "display_data"
    },
    {
     "data": {
      "text/plain": [
       "\">>>>>> iteration 10:O\""
      ]
     },
     "metadata": {},
     "output_type": "display_data"
    },
    {
     "data": {
      "text/plain": [
       "\"DB: opt gap = 0.036551417075790085\""
      ]
     },
     "metadata": {},
     "output_type": "display_data"
    },
    {
     "data": {
      "text/plain": [
       "\">>>>>> iteration 11:O\""
      ]
     },
     "metadata": {},
     "output_type": "display_data"
    },
    {
     "data": {
      "text/plain": [
       "\"DB: opt gap = 1.5229721088770317e-5\""
      ]
     },
     "metadata": {},
     "output_type": "display_data"
    },
    {
     "data": {
      "text/plain": [
       "\"evaluating 46 reactors in parallel | option 3\""
      ]
     },
     "metadata": {},
     "output_type": "display_data"
    },
    {
     "data": {
      "text/plain": [
       "\"DB: opt gap = 1.0\""
      ]
     },
     "metadata": {},
     "output_type": "display_data"
    },
    {
     "data": {
      "text/plain": [
       "\">>>>>> iteration 1:O\""
      ]
     },
     "metadata": {},
     "output_type": "display_data"
    },
    {
     "data": {
      "text/plain": [
       "\"DB: opt gap = 1.0\""
      ]
     },
     "metadata": {},
     "output_type": "display_data"
    },
    {
     "data": {
      "text/plain": [
       "\">>>>>> iteration 2:O\""
      ]
     },
     "metadata": {},
     "output_type": "display_data"
    },
    {
     "data": {
      "text/plain": [
       "\"DB: opt gap = 1.0\""
      ]
     },
     "metadata": {},
     "output_type": "display_data"
    },
    {
     "data": {
      "text/plain": [
       "\">>>>>> iteration 3:O\""
      ]
     },
     "metadata": {},
     "output_type": "display_data"
    },
    {
     "data": {
      "text/plain": [
       "\"DB: opt gap = 1.0\""
      ]
     },
     "metadata": {},
     "output_type": "display_data"
    },
    {
     "data": {
      "text/plain": [
       "\">>>>>> iteration 4:O\""
      ]
     },
     "metadata": {},
     "output_type": "display_data"
    },
    {
     "data": {
      "text/plain": [
       "\"DB: opt gap = 1.0\""
      ]
     },
     "metadata": {},
     "output_type": "display_data"
    },
    {
     "data": {
      "text/plain": [
       "\">>>>>> iteration 5:O\""
      ]
     },
     "metadata": {},
     "output_type": "display_data"
    },
    {
     "data": {
      "text/plain": [
       "\"DB: opt gap = 1.0\""
      ]
     },
     "metadata": {},
     "output_type": "display_data"
    },
    {
     "data": {
      "text/plain": [
       "\">>>>>> iteration 6:O\""
      ]
     },
     "metadata": {},
     "output_type": "display_data"
    },
    {
     "data": {
      "text/plain": [
       "\"DB: opt gap = 1.0\""
      ]
     },
     "metadata": {},
     "output_type": "display_data"
    },
    {
     "data": {
      "text/plain": [
       "\">>>>>> iteration 7:O\""
      ]
     },
     "metadata": {},
     "output_type": "display_data"
    },
    {
     "data": {
      "text/plain": [
       "\"DB: opt gap = 1.0\""
      ]
     },
     "metadata": {},
     "output_type": "display_data"
    },
    {
     "data": {
      "text/plain": [
       "\">>>>>> iteration 8:O\""
      ]
     },
     "metadata": {},
     "output_type": "display_data"
    },
    {
     "data": {
      "text/plain": [
       "\"DB: opt gap = 1.0\""
      ]
     },
     "metadata": {},
     "output_type": "display_data"
    },
    {
     "data": {
      "text/plain": [
       "\">>>>>> iteration 9:O\""
      ]
     },
     "metadata": {},
     "output_type": "display_data"
    },
    {
     "data": {
      "text/plain": [
       "\"DB: opt gap = 1.0\""
      ]
     },
     "metadata": {},
     "output_type": "display_data"
    },
    {
     "data": {
      "text/plain": [
       "\">>>>>> iteration 10:O\""
      ]
     },
     "metadata": {},
     "output_type": "display_data"
    },
    {
     "data": {
      "text/plain": [
       "\"DB: opt gap = 0.8272213563687881\""
      ]
     },
     "metadata": {},
     "output_type": "display_data"
    },
    {
     "data": {
      "text/plain": [
       "\">>>>>> iteration 11:O\""
      ]
     },
     "metadata": {},
     "output_type": "display_data"
    },
    {
     "data": {
      "text/plain": [
       "\"DB: opt gap = 0.02113996412119755\""
      ]
     },
     "metadata": {},
     "output_type": "display_data"
    },
    {
     "data": {
      "text/plain": [
       "\">>>>>> iteration 12:O\""
      ]
     },
     "metadata": {},
     "output_type": "display_data"
    },
    {
     "data": {
      "text/plain": [
       "\"DB: opt gap = 0.021081770802315856\""
      ]
     },
     "metadata": {},
     "output_type": "display_data"
    },
    {
     "data": {
      "text/plain": [
       "\">>>>>> iteration 13:O\""
      ]
     },
     "metadata": {},
     "output_type": "display_data"
    },
    {
     "data": {
      "text/plain": [
       "\">>>>>> iteration 14:F\""
      ]
     },
     "metadata": {},
     "output_type": "display_data"
    },
    {
     "data": {
      "text/plain": [
       "\"DB: opt gap = 0.021100221975062332\""
      ]
     },
     "metadata": {},
     "output_type": "display_data"
    },
    {
     "data": {
      "text/plain": [
       "\">>>>>> iteration 15:O\""
      ]
     },
     "metadata": {},
     "output_type": "display_data"
    },
    {
     "data": {
      "text/plain": [
       "\"DB: opt gap = 0.02102665492066937\""
      ]
     },
     "metadata": {},
     "output_type": "display_data"
    },
    {
     "data": {
      "text/plain": [
       "\">>>>>> iteration 16:O\""
      ]
     },
     "metadata": {},
     "output_type": "display_data"
    },
    {
     "data": {
      "text/plain": [
       "\">>>>>> iteration 17:F\""
      ]
     },
     "metadata": {},
     "output_type": "display_data"
    },
    {
     "data": {
      "text/plain": [
       "\">>>>>> iteration 18:F\""
      ]
     },
     "metadata": {},
     "output_type": "display_data"
    },
    {
     "data": {
      "text/plain": [
       "\">>>>>> iteration 19:F\""
      ]
     },
     "metadata": {},
     "output_type": "display_data"
    },
    {
     "data": {
      "text/plain": [
       "\">>>>>> iteration 20:F\""
      ]
     },
     "metadata": {},
     "output_type": "display_data"
    },
    {
     "data": {
      "text/plain": [
       "\">>>>>> iteration 21:F\""
      ]
     },
     "metadata": {},
     "output_type": "display_data"
    },
    {
     "data": {
      "text/plain": [
       "\">>>>>> iteration 22:F\""
      ]
     },
     "metadata": {},
     "output_type": "display_data"
    },
    {
     "data": {
      "text/plain": [
       "\">>>>>> iteration 23:F\""
      ]
     },
     "metadata": {},
     "output_type": "display_data"
    },
    {
     "data": {
      "text/plain": [
       "\">>>>>> iteration 24:F\""
      ]
     },
     "metadata": {},
     "output_type": "display_data"
    },
    {
     "data": {
      "text/plain": [
       "\">>>>>> iteration 25:F\""
      ]
     },
     "metadata": {},
     "output_type": "display_data"
    },
    {
     "data": {
      "text/plain": [
       "\">>>>>> iteration 26:F\""
      ]
     },
     "metadata": {},
     "output_type": "display_data"
    },
    {
     "data": {
      "text/plain": [
       "\">>>>>> iteration 27:F\""
      ]
     },
     "metadata": {},
     "output_type": "display_data"
    },
    {
     "data": {
      "text/plain": [
       "\">>>>>> iteration 28:F\""
      ]
     },
     "metadata": {},
     "output_type": "display_data"
    },
    {
     "data": {
      "text/plain": [
       "\">>>>>> iteration 29:F\""
      ]
     },
     "metadata": {},
     "output_type": "display_data"
    },
    {
     "data": {
      "text/plain": [
       "\">>>>>> iteration 30:F\""
      ]
     },
     "metadata": {},
     "output_type": "display_data"
    },
    {
     "data": {
      "text/plain": [
       "\">>>>>> iteration 31:F\""
      ]
     },
     "metadata": {},
     "output_type": "display_data"
    },
    {
     "data": {
      "text/plain": [
       "\">>>>>> iteration 32:F\""
      ]
     },
     "metadata": {},
     "output_type": "display_data"
    },
    {
     "data": {
      "text/plain": [
       "\">>>>>> iteration 33:F\""
      ]
     },
     "metadata": {},
     "output_type": "display_data"
    },
    {
     "data": {
      "text/plain": [
       "\">>>>>> iteration 34:F\""
      ]
     },
     "metadata": {},
     "output_type": "display_data"
    },
    {
     "data": {
      "text/plain": [
       "\">>>>>> iteration 35:F\""
      ]
     },
     "metadata": {},
     "output_type": "display_data"
    },
    {
     "data": {
      "text/plain": [
       "\">>>>>> iteration 36:F\""
      ]
     },
     "metadata": {},
     "output_type": "display_data"
    },
    {
     "data": {
      "text/plain": [
       "\">>>>>> iteration 37:F\""
      ]
     },
     "metadata": {},
     "output_type": "display_data"
    },
    {
     "data": {
      "text/plain": [
       "\">>>>>> iteration 38:F\""
      ]
     },
     "metadata": {},
     "output_type": "display_data"
    },
    {
     "data": {
      "text/plain": [
       "\">>>>>> iteration 39:F\""
      ]
     },
     "metadata": {},
     "output_type": "display_data"
    },
    {
     "data": {
      "text/plain": [
       "\">>>>>> iteration 40:F\""
      ]
     },
     "metadata": {},
     "output_type": "display_data"
    },
    {
     "data": {
      "text/plain": [
       "\">>>>>> iteration 41:F\""
      ]
     },
     "metadata": {},
     "output_type": "display_data"
    },
    {
     "data": {
      "text/plain": [
       "\">>>>>> iteration 42:F\""
      ]
     },
     "metadata": {},
     "output_type": "display_data"
    },
    {
     "data": {
      "text/plain": [
       "\">>>>>> iteration 43:F\""
      ]
     },
     "metadata": {},
     "output_type": "display_data"
    },
    {
     "data": {
      "text/plain": [
       "\">>>>>> iteration 44:F\""
      ]
     },
     "metadata": {},
     "output_type": "display_data"
    },
    {
     "data": {
      "text/plain": [
       "\">>>>>> iteration 45:F\""
      ]
     },
     "metadata": {},
     "output_type": "display_data"
    },
    {
     "data": {
      "text/plain": [
       "\">>>>>> iteration 46:F\""
      ]
     },
     "metadata": {},
     "output_type": "display_data"
    },
    {
     "data": {
      "text/plain": [
       "\">>>>>> iteration 47:F\""
      ]
     },
     "metadata": {},
     "output_type": "display_data"
    },
    {
     "data": {
      "text/plain": [
       "\">>>>>> iteration 48:F\""
      ]
     },
     "metadata": {},
     "output_type": "display_data"
    },
    {
     "data": {
      "text/plain": [
       "\">>>>>> iteration 49:F\""
      ]
     },
     "metadata": {},
     "output_type": "display_data"
    },
    {
     "data": {
      "text/plain": [
       "\">>>>>> iteration 50:F\""
      ]
     },
     "metadata": {},
     "output_type": "display_data"
    },
    {
     "data": {
      "text/plain": [
       "\"evaluating 47 reactors in parallel | option 3\""
      ]
     },
     "metadata": {},
     "output_type": "display_data"
    },
    {
     "data": {
      "text/plain": [
       "\"DB: opt gap = 1.0\""
      ]
     },
     "metadata": {},
     "output_type": "display_data"
    },
    {
     "data": {
      "text/plain": [
       "\">>>>>> iteration 1:O\""
      ]
     },
     "metadata": {},
     "output_type": "display_data"
    },
    {
     "data": {
      "text/plain": [
       "\"DB: opt gap = 1.0\""
      ]
     },
     "metadata": {},
     "output_type": "display_data"
    },
    {
     "data": {
      "text/plain": [
       "\">>>>>> iteration 2:O\""
      ]
     },
     "metadata": {},
     "output_type": "display_data"
    },
    {
     "data": {
      "text/plain": [
       "\"DB: opt gap = 1.0\""
      ]
     },
     "metadata": {},
     "output_type": "display_data"
    },
    {
     "data": {
      "text/plain": [
       "\">>>>>> iteration 3:O\""
      ]
     },
     "metadata": {},
     "output_type": "display_data"
    },
    {
     "data": {
      "text/plain": [
       "\"DB: opt gap = 1.0\""
      ]
     },
     "metadata": {},
     "output_type": "display_data"
    },
    {
     "data": {
      "text/plain": [
       "\">>>>>> iteration 4:O\""
      ]
     },
     "metadata": {},
     "output_type": "display_data"
    },
    {
     "data": {
      "text/plain": [
       "\"DB: opt gap = 1.0\""
      ]
     },
     "metadata": {},
     "output_type": "display_data"
    },
    {
     "data": {
      "text/plain": [
       "\">>>>>> iteration 5:O\""
      ]
     },
     "metadata": {},
     "output_type": "display_data"
    },
    {
     "data": {
      "text/plain": [
       "\"DB: opt gap = 1.0\""
      ]
     },
     "metadata": {},
     "output_type": "display_data"
    },
    {
     "data": {
      "text/plain": [
       "\">>>>>> iteration 6:O\""
      ]
     },
     "metadata": {},
     "output_type": "display_data"
    },
    {
     "data": {
      "text/plain": [
       "\"DB: opt gap = 1.0\""
      ]
     },
     "metadata": {},
     "output_type": "display_data"
    },
    {
     "data": {
      "text/plain": [
       "\">>>>>> iteration 7:O\""
      ]
     },
     "metadata": {},
     "output_type": "display_data"
    },
    {
     "data": {
      "text/plain": [
       "\"DB: opt gap = 1.0\""
      ]
     },
     "metadata": {},
     "output_type": "display_data"
    },
    {
     "data": {
      "text/plain": [
       "\">>>>>> iteration 8:O\""
      ]
     },
     "metadata": {},
     "output_type": "display_data"
    },
    {
     "data": {
      "text/plain": [
       "\"DB: opt gap = 1.0\""
      ]
     },
     "metadata": {},
     "output_type": "display_data"
    },
    {
     "data": {
      "text/plain": [
       "\">>>>>> iteration 9:O\""
      ]
     },
     "metadata": {},
     "output_type": "display_data"
    },
    {
     "data": {
      "text/plain": [
       "\"DB: opt gap = 0.9634464533781354\""
      ]
     },
     "metadata": {},
     "output_type": "display_data"
    },
    {
     "data": {
      "text/plain": [
       "\">>>>>> iteration 10:O\""
      ]
     },
     "metadata": {},
     "output_type": "display_data"
    },
    {
     "data": {
      "text/plain": [
       "\"DB: opt gap = 0.8565698148506965\""
      ]
     },
     "metadata": {},
     "output_type": "display_data"
    },
    {
     "data": {
      "text/plain": [
       "\">>>>>> iteration 11:O\""
      ]
     },
     "metadata": {},
     "output_type": "display_data"
    },
    {
     "data": {
      "text/plain": [
       "\"DB: opt gap = 0.06578962317943096\""
      ]
     },
     "metadata": {},
     "output_type": "display_data"
    },
    {
     "data": {
      "text/plain": [
       "\">>>>>> iteration 12:O\""
      ]
     },
     "metadata": {},
     "output_type": "display_data"
    },
    {
     "data": {
      "text/plain": [
       "\"DB: opt gap = 0.0652014644436311\""
      ]
     },
     "metadata": {},
     "output_type": "display_data"
    },
    {
     "data": {
      "text/plain": [
       "\">>>>>> iteration 13:O\""
      ]
     },
     "metadata": {},
     "output_type": "display_data"
    },
    {
     "data": {
      "text/plain": [
       "\"DB: opt gap = 0.06445296702494495\""
      ]
     },
     "metadata": {},
     "output_type": "display_data"
    },
    {
     "data": {
      "text/plain": [
       "\">>>>>> iteration 14:O\""
      ]
     },
     "metadata": {},
     "output_type": "display_data"
    },
    {
     "data": {
      "text/plain": [
       "\"DB: opt gap = 8.377126390182175e-5\""
      ]
     },
     "metadata": {},
     "output_type": "display_data"
    },
    {
     "data": {
      "text/plain": [
       "\"evaluating 48 reactors in parallel | option 3\""
      ]
     },
     "metadata": {},
     "output_type": "display_data"
    },
    {
     "data": {
      "text/plain": [
       "\"DB: opt gap = 1.0\""
      ]
     },
     "metadata": {},
     "output_type": "display_data"
    },
    {
     "data": {
      "text/plain": [
       "\">>>>>> iteration 1:O\""
      ]
     },
     "metadata": {},
     "output_type": "display_data"
    },
    {
     "data": {
      "text/plain": [
       "\"DB: opt gap = 1.0\""
      ]
     },
     "metadata": {},
     "output_type": "display_data"
    },
    {
     "data": {
      "text/plain": [
       "\">>>>>> iteration 2:O\""
      ]
     },
     "metadata": {},
     "output_type": "display_data"
    },
    {
     "data": {
      "text/plain": [
       "\"DB: opt gap = 1.0\""
      ]
     },
     "metadata": {},
     "output_type": "display_data"
    },
    {
     "data": {
      "text/plain": [
       "\">>>>>> iteration 3:O\""
      ]
     },
     "metadata": {},
     "output_type": "display_data"
    },
    {
     "data": {
      "text/plain": [
       "\"DB: opt gap = 1.0\""
      ]
     },
     "metadata": {},
     "output_type": "display_data"
    },
    {
     "data": {
      "text/plain": [
       "\">>>>>> iteration 4:O\""
      ]
     },
     "metadata": {},
     "output_type": "display_data"
    },
    {
     "data": {
      "text/plain": [
       "\"DB: opt gap = 1.0\""
      ]
     },
     "metadata": {},
     "output_type": "display_data"
    },
    {
     "data": {
      "text/plain": [
       "\">>>>>> iteration 5:O\""
      ]
     },
     "metadata": {},
     "output_type": "display_data"
    },
    {
     "data": {
      "text/plain": [
       "\"DB: opt gap = 1.0\""
      ]
     },
     "metadata": {},
     "output_type": "display_data"
    },
    {
     "data": {
      "text/plain": [
       "\">>>>>> iteration 6:O\""
      ]
     },
     "metadata": {},
     "output_type": "display_data"
    },
    {
     "data": {
      "text/plain": [
       "\"DB: opt gap = 0.9786045806752971\""
      ]
     },
     "metadata": {},
     "output_type": "display_data"
    },
    {
     "data": {
      "text/plain": [
       "\">>>>>> iteration 7:O\""
      ]
     },
     "metadata": {},
     "output_type": "display_data"
    },
    {
     "data": {
      "text/plain": [
       "\"DB: opt gap = 0.83154259490431\""
      ]
     },
     "metadata": {},
     "output_type": "display_data"
    },
    {
     "data": {
      "text/plain": [
       "\">>>>>> iteration 8:O\""
      ]
     },
     "metadata": {},
     "output_type": "display_data"
    },
    {
     "data": {
      "text/plain": [
       "\"DB: opt gap = 0.7569794095752557\""
      ]
     },
     "metadata": {},
     "output_type": "display_data"
    },
    {
     "data": {
      "text/plain": [
       "\">>>>>> iteration 9:O\""
      ]
     },
     "metadata": {},
     "output_type": "display_data"
    },
    {
     "data": {
      "text/plain": [
       "\"DB: opt gap = 0.6500706970843912\""
      ]
     },
     "metadata": {},
     "output_type": "display_data"
    },
    {
     "data": {
      "text/plain": [
       "\">>>>>> iteration 10:O\""
      ]
     },
     "metadata": {},
     "output_type": "display_data"
    },
    {
     "data": {
      "text/plain": [
       "\"DB: opt gap = 0.48947898988309196\""
      ]
     },
     "metadata": {},
     "output_type": "display_data"
    },
    {
     "data": {
      "text/plain": [
       "\">>>>>> iteration 11:O\""
      ]
     },
     "metadata": {},
     "output_type": "display_data"
    },
    {
     "data": {
      "text/plain": [
       "\"DB: opt gap = 0.46530433216584965\""
      ]
     },
     "metadata": {},
     "output_type": "display_data"
    },
    {
     "data": {
      "text/plain": [
       "\">>>>>> iteration 12:O\""
      ]
     },
     "metadata": {},
     "output_type": "display_data"
    },
    {
     "data": {
      "text/plain": [
       "\"DB: opt gap = 0.4522095286711931\""
      ]
     },
     "metadata": {},
     "output_type": "display_data"
    },
    {
     "data": {
      "text/plain": [
       "\">>>>>> iteration 13:O\""
      ]
     },
     "metadata": {},
     "output_type": "display_data"
    },
    {
     "data": {
      "text/plain": [
       "\"DB: opt gap = 0.02287746230085644\""
      ]
     },
     "metadata": {},
     "output_type": "display_data"
    },
    {
     "data": {
      "text/plain": [
       "\">>>>>> iteration 14:O\""
      ]
     },
     "metadata": {},
     "output_type": "display_data"
    },
    {
     "data": {
      "text/plain": [
       "\"DB: opt gap = 0.0228111538422296\""
      ]
     },
     "metadata": {},
     "output_type": "display_data"
    },
    {
     "data": {
      "text/plain": [
       "\">>>>>> iteration 15:O\""
      ]
     },
     "metadata": {},
     "output_type": "display_data"
    },
    {
     "data": {
      "text/plain": [
       "\"DB: opt gap = 1.0852965849312754e-5\""
      ]
     },
     "metadata": {},
     "output_type": "display_data"
    },
    {
     "data": {
      "text/plain": [
       "\"evaluating 49 reactors in parallel | option 3\""
      ]
     },
     "metadata": {},
     "output_type": "display_data"
    },
    {
     "data": {
      "text/plain": [
       "\"DB: opt gap = 1.0\""
      ]
     },
     "metadata": {},
     "output_type": "display_data"
    },
    {
     "data": {
      "text/plain": [
       "\">>>>>> iteration 1:O\""
      ]
     },
     "metadata": {},
     "output_type": "display_data"
    },
    {
     "data": {
      "text/plain": [
       "\"DB: opt gap = 1.0\""
      ]
     },
     "metadata": {},
     "output_type": "display_data"
    },
    {
     "data": {
      "text/plain": [
       "\">>>>>> iteration 2:O\""
      ]
     },
     "metadata": {},
     "output_type": "display_data"
    },
    {
     "data": {
      "text/plain": [
       "\"DB: opt gap = 1.0\""
      ]
     },
     "metadata": {},
     "output_type": "display_data"
    },
    {
     "data": {
      "text/plain": [
       "\">>>>>> iteration 3:O\""
      ]
     },
     "metadata": {},
     "output_type": "display_data"
    },
    {
     "data": {
      "text/plain": [
       "\"DB: opt gap = 1.0\""
      ]
     },
     "metadata": {},
     "output_type": "display_data"
    },
    {
     "data": {
      "text/plain": [
       "\">>>>>> iteration 4:O\""
      ]
     },
     "metadata": {},
     "output_type": "display_data"
    },
    {
     "data": {
      "text/plain": [
       "\"DB: opt gap = 1.0\""
      ]
     },
     "metadata": {},
     "output_type": "display_data"
    },
    {
     "data": {
      "text/plain": [
       "\">>>>>> iteration 5:O\""
      ]
     },
     "metadata": {},
     "output_type": "display_data"
    },
    {
     "data": {
      "text/plain": [
       "\"DB: opt gap = 1.0\""
      ]
     },
     "metadata": {},
     "output_type": "display_data"
    },
    {
     "data": {
      "text/plain": [
       "\">>>>>> iteration 6:O\""
      ]
     },
     "metadata": {},
     "output_type": "display_data"
    },
    {
     "data": {
      "text/plain": [
       "\"DB: opt gap = 1.0\""
      ]
     },
     "metadata": {},
     "output_type": "display_data"
    },
    {
     "data": {
      "text/plain": [
       "\">>>>>> iteration 7:O\""
      ]
     },
     "metadata": {},
     "output_type": "display_data"
    },
    {
     "data": {
      "text/plain": [
       "\"DB: opt gap = 1.0\""
      ]
     },
     "metadata": {},
     "output_type": "display_data"
    },
    {
     "data": {
      "text/plain": [
       "\">>>>>> iteration 8:O\""
      ]
     },
     "metadata": {},
     "output_type": "display_data"
    },
    {
     "data": {
      "text/plain": [
       "\"DB: opt gap = 0.7339075996373605\""
      ]
     },
     "metadata": {},
     "output_type": "display_data"
    },
    {
     "data": {
      "text/plain": [
       "\">>>>>> iteration 9:O\""
      ]
     },
     "metadata": {},
     "output_type": "display_data"
    },
    {
     "data": {
      "text/plain": [
       "\"DB: opt gap = 0.7267468031452482\""
      ]
     },
     "metadata": {},
     "output_type": "display_data"
    },
    {
     "data": {
      "text/plain": [
       "\">>>>>> iteration 10:O\""
      ]
     },
     "metadata": {},
     "output_type": "display_data"
    },
    {
     "data": {
      "text/plain": [
       "\"DB: opt gap = 0.03720419812703162\""
      ]
     },
     "metadata": {},
     "output_type": "display_data"
    },
    {
     "data": {
      "text/plain": [
       "\">>>>>> iteration 11:O\""
      ]
     },
     "metadata": {},
     "output_type": "display_data"
    },
    {
     "data": {
      "text/plain": [
       "\"DB: opt gap = 0.03671149769164478\""
      ]
     },
     "metadata": {},
     "output_type": "display_data"
    },
    {
     "data": {
      "text/plain": [
       "\">>>>>> iteration 12:O\""
      ]
     },
     "metadata": {},
     "output_type": "display_data"
    },
    {
     "data": {
      "text/plain": [
       "\">>>>>> iteration 13:F\""
      ]
     },
     "metadata": {},
     "output_type": "display_data"
    },
    {
     "data": {
      "text/plain": [
       "\">>>>>> iteration 14:F\""
      ]
     },
     "metadata": {},
     "output_type": "display_data"
    },
    {
     "data": {
      "text/plain": [
       "\">>>>>> iteration 15:F\""
      ]
     },
     "metadata": {},
     "output_type": "display_data"
    },
    {
     "data": {
      "text/plain": [
       "\">>>>>> iteration 16:F\""
      ]
     },
     "metadata": {},
     "output_type": "display_data"
    },
    {
     "data": {
      "text/plain": [
       "\">>>>>> iteration 17:F\""
      ]
     },
     "metadata": {},
     "output_type": "display_data"
    },
    {
     "data": {
      "text/plain": [
       "\">>>>>> iteration 18:F\""
      ]
     },
     "metadata": {},
     "output_type": "display_data"
    },
    {
     "data": {
      "text/plain": [
       "\">>>>>> iteration 19:F\""
      ]
     },
     "metadata": {},
     "output_type": "display_data"
    },
    {
     "data": {
      "text/plain": [
       "\">>>>>> iteration 20:F\""
      ]
     },
     "metadata": {},
     "output_type": "display_data"
    },
    {
     "data": {
      "text/plain": [
       "\">>>>>> iteration 21:F\""
      ]
     },
     "metadata": {},
     "output_type": "display_data"
    },
    {
     "data": {
      "text/plain": [
       "\">>>>>> iteration 22:F\""
      ]
     },
     "metadata": {},
     "output_type": "display_data"
    },
    {
     "data": {
      "text/plain": [
       "\">>>>>> iteration 23:F\""
      ]
     },
     "metadata": {},
     "output_type": "display_data"
    },
    {
     "data": {
      "text/plain": [
       "\">>>>>> iteration 24:F\""
      ]
     },
     "metadata": {},
     "output_type": "display_data"
    },
    {
     "data": {
      "text/plain": [
       "\">>>>>> iteration 25:F\""
      ]
     },
     "metadata": {},
     "output_type": "display_data"
    },
    {
     "data": {
      "text/plain": [
       "\">>>>>> iteration 26:F\""
      ]
     },
     "metadata": {},
     "output_type": "display_data"
    },
    {
     "data": {
      "text/plain": [
       "\">>>>>> iteration 27:F\""
      ]
     },
     "metadata": {},
     "output_type": "display_data"
    },
    {
     "data": {
      "text/plain": [
       "\">>>>>> iteration 28:F\""
      ]
     },
     "metadata": {},
     "output_type": "display_data"
    },
    {
     "data": {
      "text/plain": [
       "\">>>>>> iteration 29:F\""
      ]
     },
     "metadata": {},
     "output_type": "display_data"
    },
    {
     "data": {
      "text/plain": [
       "\">>>>>> iteration 30:F\""
      ]
     },
     "metadata": {},
     "output_type": "display_data"
    },
    {
     "data": {
      "text/plain": [
       "\">>>>>> iteration 31:F\""
      ]
     },
     "metadata": {},
     "output_type": "display_data"
    },
    {
     "data": {
      "text/plain": [
       "\">>>>>> iteration 32:F\""
      ]
     },
     "metadata": {},
     "output_type": "display_data"
    },
    {
     "data": {
      "text/plain": [
       "\">>>>>> iteration 33:F\""
      ]
     },
     "metadata": {},
     "output_type": "display_data"
    },
    {
     "data": {
      "text/plain": [
       "\">>>>>> iteration 34:F\""
      ]
     },
     "metadata": {},
     "output_type": "display_data"
    },
    {
     "data": {
      "text/plain": [
       "\">>>>>> iteration 35:F\""
      ]
     },
     "metadata": {},
     "output_type": "display_data"
    },
    {
     "data": {
      "text/plain": [
       "\">>>>>> iteration 36:F\""
      ]
     },
     "metadata": {},
     "output_type": "display_data"
    },
    {
     "data": {
      "text/plain": [
       "\">>>>>> iteration 37:F\""
      ]
     },
     "metadata": {},
     "output_type": "display_data"
    },
    {
     "data": {
      "text/plain": [
       "\">>>>>> iteration 38:F\""
      ]
     },
     "metadata": {},
     "output_type": "display_data"
    },
    {
     "data": {
      "text/plain": [
       "\">>>>>> iteration 39:F\""
      ]
     },
     "metadata": {},
     "output_type": "display_data"
    },
    {
     "data": {
      "text/plain": [
       "\">>>>>> iteration 40:F\""
      ]
     },
     "metadata": {},
     "output_type": "display_data"
    },
    {
     "data": {
      "text/plain": [
       "\">>>>>> iteration 41:F\""
      ]
     },
     "metadata": {},
     "output_type": "display_data"
    },
    {
     "data": {
      "text/plain": [
       "\">>>>>> iteration 42:F\""
      ]
     },
     "metadata": {},
     "output_type": "display_data"
    },
    {
     "data": {
      "text/plain": [
       "\">>>>>> iteration 43:F\""
      ]
     },
     "metadata": {},
     "output_type": "display_data"
    },
    {
     "data": {
      "text/plain": [
       "\">>>>>> iteration 44:F\""
      ]
     },
     "metadata": {},
     "output_type": "display_data"
    },
    {
     "data": {
      "text/plain": [
       "\">>>>>> iteration 45:F\""
      ]
     },
     "metadata": {},
     "output_type": "display_data"
    },
    {
     "data": {
      "text/plain": [
       "\">>>>>> iteration 46:F\""
      ]
     },
     "metadata": {},
     "output_type": "display_data"
    },
    {
     "data": {
      "text/plain": [
       "\">>>>>> iteration 47:F\""
      ]
     },
     "metadata": {},
     "output_type": "display_data"
    },
    {
     "data": {
      "text/plain": [
       "\">>>>>> iteration 48:F\""
      ]
     },
     "metadata": {},
     "output_type": "display_data"
    },
    {
     "data": {
      "text/plain": [
       "\">>>>>> iteration 49:F\""
      ]
     },
     "metadata": {},
     "output_type": "display_data"
    },
    {
     "data": {
      "text/plain": [
       "\">>>>>> iteration 50:F\""
      ]
     },
     "metadata": {},
     "output_type": "display_data"
    },
    {
     "data": {
      "text/plain": [
       "\"evaluating 50 reactors in parallel | option 3\""
      ]
     },
     "metadata": {},
     "output_type": "display_data"
    },
    {
     "data": {
      "text/plain": [
       "\"DB: opt gap = 1.0\""
      ]
     },
     "metadata": {},
     "output_type": "display_data"
    },
    {
     "data": {
      "text/plain": [
       "\">>>>>> iteration 1:O\""
      ]
     },
     "metadata": {},
     "output_type": "display_data"
    },
    {
     "data": {
      "text/plain": [
       "\"DB: opt gap = 1.0\""
      ]
     },
     "metadata": {},
     "output_type": "display_data"
    },
    {
     "data": {
      "text/plain": [
       "\">>>>>> iteration 2:O\""
      ]
     },
     "metadata": {},
     "output_type": "display_data"
    },
    {
     "data": {
      "text/plain": [
       "\"DB: opt gap = 1.0\""
      ]
     },
     "metadata": {},
     "output_type": "display_data"
    },
    {
     "data": {
      "text/plain": [
       "\">>>>>> iteration 3:O\""
      ]
     },
     "metadata": {},
     "output_type": "display_data"
    },
    {
     "data": {
      "text/plain": [
       "\"DB: opt gap = 1.0\""
      ]
     },
     "metadata": {},
     "output_type": "display_data"
    },
    {
     "data": {
      "text/plain": [
       "\">>>>>> iteration 4:O\""
      ]
     },
     "metadata": {},
     "output_type": "display_data"
    },
    {
     "data": {
      "text/plain": [
       "\"DB: opt gap = 1.0\""
      ]
     },
     "metadata": {},
     "output_type": "display_data"
    },
    {
     "data": {
      "text/plain": [
       "\">>>>>> iteration 5:O\""
      ]
     },
     "metadata": {},
     "output_type": "display_data"
    },
    {
     "data": {
      "text/plain": [
       "\"DB: opt gap = 1.0\""
      ]
     },
     "metadata": {},
     "output_type": "display_data"
    },
    {
     "data": {
      "text/plain": [
       "\">>>>>> iteration 6:O\""
      ]
     },
     "metadata": {},
     "output_type": "display_data"
    },
    {
     "data": {
      "text/plain": [
       "\"DB: opt gap = 1.0\""
      ]
     },
     "metadata": {},
     "output_type": "display_data"
    },
    {
     "data": {
      "text/plain": [
       "\">>>>>> iteration 7:O\""
      ]
     },
     "metadata": {},
     "output_type": "display_data"
    },
    {
     "data": {
      "text/plain": [
       "\"DB: opt gap = 1.0\""
      ]
     },
     "metadata": {},
     "output_type": "display_data"
    },
    {
     "data": {
      "text/plain": [
       "\">>>>>> iteration 8:O\""
      ]
     },
     "metadata": {},
     "output_type": "display_data"
    },
    {
     "data": {
      "text/plain": [
       "\"DB: opt gap = 0.995807339856283\""
      ]
     },
     "metadata": {},
     "output_type": "display_data"
    },
    {
     "data": {
      "text/plain": [
       "\">>>>>> iteration 9:O\""
      ]
     },
     "metadata": {},
     "output_type": "display_data"
    },
    {
     "data": {
      "text/plain": [
       "\"DB: opt gap = 0.03795213840543174\""
      ]
     },
     "metadata": {},
     "output_type": "display_data"
    },
    {
     "data": {
      "text/plain": [
       "\">>>>>> iteration 10:O\""
      ]
     },
     "metadata": {},
     "output_type": "display_data"
    },
    {
     "data": {
      "text/plain": [
       "\"DB: opt gap = 0.037767293709820106\""
      ]
     },
     "metadata": {},
     "output_type": "display_data"
    },
    {
     "data": {
      "text/plain": [
       "\">>>>>> iteration 11:O\""
      ]
     },
     "metadata": {},
     "output_type": "display_data"
    },
    {
     "data": {
      "text/plain": [
       "\"DB: opt gap = 0.037798938640512904\""
      ]
     },
     "metadata": {},
     "output_type": "display_data"
    },
    {
     "data": {
      "text/plain": [
       "\">>>>>> iteration 12:O\""
      ]
     },
     "metadata": {},
     "output_type": "display_data"
    },
    {
     "data": {
      "text/plain": [
       "\"DB: opt gap = 0.037398345711560754\""
      ]
     },
     "metadata": {},
     "output_type": "display_data"
    },
    {
     "data": {
      "text/plain": [
       "\">>>>>> iteration 13:O\""
      ]
     },
     "metadata": {},
     "output_type": "display_data"
    },
    {
     "data": {
      "text/plain": [
       "\"DB: opt gap = 2.279899521941827e-5\""
      ]
     },
     "metadata": {},
     "output_type": "display_data"
    }
   ],
   "source": [
    "# testing the number of reactors in series (chosen arbitrarily as the same number of scenarios)\n",
    "nReactMax = 50\n",
    "\n",
    "#preparing plot \n",
    "# --> monolithic vs. decomposed \n",
    "# solution time\n",
    "solTimeTraj_r = Matrix{Float64}(undef,2,nScenMax) \n",
    "# computed objective function\n",
    "solObjTraj_r = Matrix{Float64}(undef,2,nScenMax) \n",
    "# --> only decomposed\n",
    "# max solution time over all scenarios \n",
    "solTimeMaxTraj_r = Vector{Float64}(undef,nScenMax) \n",
    "# number of iterations\n",
    "iterTraj_r = Vector{Float64}(undef,nScenMax) \n",
    "# optimality gap\n",
    "optGapTraj_r = Vector{Float64}(undef,nScenMax) \n",
    "\n",
    "# number of reactors in parallel\n",
    "nScenarios = 1\n",
    "#equiprobable scenarios\n",
    "pScenarios = 1.0/nScenarios\n",
    "\n",
    "for rr = 1:nReactMax\n",
    "    display(\"evaluating $(rr) reactors in parallel | option $(opti)\")\n",
    "        \n",
    "    #number os reactors\n",
    "    nReac = rr\n",
    "    # Number of states\n",
    "    nx = 2*nReac\n",
    "        \n",
    "    # Possible initial conditions (deviation form)\n",
    "    xInit_0 = repeat([0.3583;0.6418] .- x0, outer = [nReac,1])\n",
    "    uInit_0 = 1.0 - u0\n",
    "       \n",
    "    # solving monolithical problem \n",
    "    sol_m_Dict = MS_CLDRTO(xInit_0,uInit_0,nReac,nScenarios,pScenarios,solNominal,opti)\n",
    "\n",
    "    # solving decomposed problem    \n",
    "    sol_d_Dict = BENS_CLDRTO(xInit_0,uInit_0,nReac,nScenarios,pScenarios,solNominal,opti)\n",
    "        \n",
    "    # for plotting\n",
    "    solTimeTraj_r[1,rr] = sol_m_Dict['t']\n",
    "    solTimeTraj_r[2,rr] = sol_d_Dict['t']\n",
    "    \n",
    "    solObjTraj_r[1,rr] = sol_m_Dict['ϕ']\n",
    "    solObjTraj_r[2,rr] = sol_d_Dict['ϕ']\n",
    "\n",
    "    solTimeMaxTraj_r[rr] = sol_d_Dict['m']\n",
    "    iterTraj_r[rr] = sol_d_Dict['i'] \n",
    "    optGapTraj_r[rr] = sol_d_Dict['g']\n",
    "\n",
    "end\n"
   ]
  },
  {
   "cell_type": "code",
   "execution_count": 22,
   "id": "4d79e399",
   "metadata": {},
   "outputs": [],
   "source": [
    "# for ckl = [7 14 20 34 37 47 48]\n",
    "#     solObjTraj_r[2,ckl] = NaN\n",
    "#     optGapTraj_r[ckl] = NaN\n",
    "#     solTimeTraj_r[2,ckl] = NaN\n",
    "# end;"
   ]
  },
  {
   "cell_type": "code",
   "execution_count": 23,
   "id": "31be0294",
   "metadata": {},
   "outputs": [
    {
     "data": {
      "image/svg+xml": [
       "<?xml version=\"1.0\" encoding=\"utf-8\"?>\n",
       "<svg xmlns=\"http://www.w3.org/2000/svg\" xmlns:xlink=\"http://www.w3.org/1999/xlink\" width=\"600\" height=\"400\" viewBox=\"0 0 2400 1600\">\n",
       "<defs>\n",
       "  <clipPath id=\"clip730\">\n",
       "    <rect x=\"0\" y=\"0\" width=\"2400\" height=\"1600\"/>\n",
       "  </clipPath>\n",
       "</defs>\n",
       "<path clip-path=\"url(#clip730)\" d=\"M0 1600 L2400 1600 L2400 0 L0 0  Z\" fill=\"#ffffff\" fill-rule=\"evenodd\" fill-opacity=\"1\"/>\n",
       "<defs>\n",
       "  <clipPath id=\"clip731\">\n",
       "    <rect x=\"480\" y=\"0\" width=\"1681\" height=\"1600\"/>\n",
       "  </clipPath>\n",
       "</defs>\n",
       "<path clip-path=\"url(#clip730)\" d=\"M232.389 1423.18 L2352.76 1423.18 L2352.76 47.2441 L232.389 47.2441  Z\" fill=\"#ffffff\" fill-rule=\"evenodd\" fill-opacity=\"1\"/>\n",
       "<defs>\n",
       "  <clipPath id=\"clip732\">\n",
       "    <rect x=\"232\" y=\"47\" width=\"2121\" height=\"1377\"/>\n",
       "  </clipPath>\n",
       "</defs>\n",
       "<polyline clip-path=\"url(#clip732)\" style=\"stroke:#000000; stroke-linecap:round; stroke-linejoin:round; stroke-width:8; stroke-opacity:0.1; fill:none\" points=\"251.576,1423.18 251.576,47.2441 \"/>\n",
       "<polyline clip-path=\"url(#clip732)\" style=\"stroke:#000000; stroke-linecap:round; stroke-linejoin:round; stroke-width:8; stroke-opacity:0.1; fill:none\" points=\"659.81,1423.18 659.81,47.2441 \"/>\n",
       "<polyline clip-path=\"url(#clip732)\" style=\"stroke:#000000; stroke-linecap:round; stroke-linejoin:round; stroke-width:8; stroke-opacity:0.1; fill:none\" points=\"1068.04,1423.18 1068.04,47.2441 \"/>\n",
       "<polyline clip-path=\"url(#clip732)\" style=\"stroke:#000000; stroke-linecap:round; stroke-linejoin:round; stroke-width:8; stroke-opacity:0.1; fill:none\" points=\"1476.28,1423.18 1476.28,47.2441 \"/>\n",
       "<polyline clip-path=\"url(#clip732)\" style=\"stroke:#000000; stroke-linecap:round; stroke-linejoin:round; stroke-width:8; stroke-opacity:0.1; fill:none\" points=\"1884.51,1423.18 1884.51,47.2441 \"/>\n",
       "<polyline clip-path=\"url(#clip732)\" style=\"stroke:#000000; stroke-linecap:round; stroke-linejoin:round; stroke-width:8; stroke-opacity:0.1; fill:none\" points=\"2292.75,1423.18 2292.75,47.2441 \"/>\n",
       "<polyline clip-path=\"url(#clip730)\" style=\"stroke:#000000; stroke-linecap:round; stroke-linejoin:round; stroke-width:4; stroke-opacity:1; fill:none\" points=\"232.389,1423.18 2352.76,1423.18 \"/>\n",
       "<polyline clip-path=\"url(#clip730)\" style=\"stroke:#000000; stroke-linecap:round; stroke-linejoin:round; stroke-width:4; stroke-opacity:1; fill:none\" points=\"251.576,1423.18 251.576,1404.28 \"/>\n",
       "<polyline clip-path=\"url(#clip730)\" style=\"stroke:#000000; stroke-linecap:round; stroke-linejoin:round; stroke-width:4; stroke-opacity:1; fill:none\" points=\"659.81,1423.18 659.81,1404.28 \"/>\n",
       "<polyline clip-path=\"url(#clip730)\" style=\"stroke:#000000; stroke-linecap:round; stroke-linejoin:round; stroke-width:4; stroke-opacity:1; fill:none\" points=\"1068.04,1423.18 1068.04,1404.28 \"/>\n",
       "<polyline clip-path=\"url(#clip730)\" style=\"stroke:#000000; stroke-linecap:round; stroke-linejoin:round; stroke-width:4; stroke-opacity:1; fill:none\" points=\"1476.28,1423.18 1476.28,1404.28 \"/>\n",
       "<polyline clip-path=\"url(#clip730)\" style=\"stroke:#000000; stroke-linecap:round; stroke-linejoin:round; stroke-width:4; stroke-opacity:1; fill:none\" points=\"1884.51,1423.18 1884.51,1404.28 \"/>\n",
       "<polyline clip-path=\"url(#clip730)\" style=\"stroke:#000000; stroke-linecap:round; stroke-linejoin:round; stroke-width:4; stroke-opacity:1; fill:none\" points=\"2292.75,1423.18 2292.75,1404.28 \"/>\n",
       "<path clip-path=\"url(#clip730)\" d=\"M251.576 1454.1 Q247.965 1454.1 246.137 1457.66 Q244.331 1461.2 244.331 1468.33 Q244.331 1475.44 246.137 1479.01 Q247.965 1482.55 251.576 1482.55 Q255.211 1482.55 257.016 1479.01 Q258.845 1475.44 258.845 1468.33 Q258.845 1461.2 257.016 1457.66 Q255.211 1454.1 251.576 1454.1 M251.576 1450.39 Q257.386 1450.39 260.442 1455 Q263.521 1459.58 263.521 1468.33 Q263.521 1477.06 260.442 1481.67 Q257.386 1486.25 251.576 1486.25 Q245.766 1486.25 242.687 1481.67 Q239.632 1477.06 239.632 1468.33 Q239.632 1459.58 242.687 1455 Q245.766 1450.39 251.576 1450.39 Z\" fill=\"#000000\" fill-rule=\"evenodd\" fill-opacity=\"1\" /><path clip-path=\"url(#clip730)\" d=\"M634.498 1481.64 L642.137 1481.64 L642.137 1455.28 L633.827 1456.95 L633.827 1452.69 L642.09 1451.02 L646.766 1451.02 L646.766 1481.64 L654.405 1481.64 L654.405 1485.58 L634.498 1485.58 L634.498 1481.64 Z\" fill=\"#000000\" fill-rule=\"evenodd\" fill-opacity=\"1\" /><path clip-path=\"url(#clip730)\" d=\"M673.849 1454.1 Q670.238 1454.1 668.41 1457.66 Q666.604 1461.2 666.604 1468.33 Q666.604 1475.44 668.41 1479.01 Q670.238 1482.55 673.849 1482.55 Q677.484 1482.55 679.289 1479.01 Q681.118 1475.44 681.118 1468.33 Q681.118 1461.2 679.289 1457.66 Q677.484 1454.1 673.849 1454.1 M673.849 1450.39 Q679.66 1450.39 682.715 1455 Q685.794 1459.58 685.794 1468.33 Q685.794 1477.06 682.715 1481.67 Q679.66 1486.25 673.849 1486.25 Q668.039 1486.25 664.961 1481.67 Q661.905 1477.06 661.905 1468.33 Q661.905 1459.58 664.961 1455 Q668.039 1450.39 673.849 1450.39 Z\" fill=\"#000000\" fill-rule=\"evenodd\" fill-opacity=\"1\" /><path clip-path=\"url(#clip730)\" d=\"M1046.82 1481.64 L1063.14 1481.64 L1063.14 1485.58 L1041.19 1485.58 L1041.19 1481.64 Q1043.85 1478.89 1048.44 1474.26 Q1053.04 1469.61 1054.22 1468.27 Q1056.47 1465.74 1057.35 1464.01 Q1058.25 1462.25 1058.25 1460.56 Q1058.25 1457.8 1056.31 1456.07 Q1054.39 1454.33 1051.28 1454.33 Q1049.09 1454.33 1046.63 1455.09 Q1044.2 1455.86 1041.42 1457.41 L1041.42 1452.69 Q1044.25 1451.55 1046.7 1450.97 Q1049.16 1450.39 1051.19 1450.39 Q1056.56 1450.39 1059.76 1453.08 Q1062.95 1455.77 1062.95 1460.26 Q1062.95 1462.39 1062.14 1464.31 Q1061.35 1466.2 1059.25 1468.8 Q1058.67 1469.47 1055.57 1472.69 Q1052.47 1475.88 1046.82 1481.64 Z\" fill=\"#000000\" fill-rule=\"evenodd\" fill-opacity=\"1\" /><path clip-path=\"url(#clip730)\" d=\"M1082.95 1454.1 Q1079.34 1454.1 1077.51 1457.66 Q1075.71 1461.2 1075.71 1468.33 Q1075.71 1475.44 1077.51 1479.01 Q1079.34 1482.55 1082.95 1482.55 Q1086.59 1482.55 1088.39 1479.01 Q1090.22 1475.44 1090.22 1468.33 Q1090.22 1461.2 1088.39 1457.66 Q1086.59 1454.1 1082.95 1454.1 M1082.95 1450.39 Q1088.76 1450.39 1091.82 1455 Q1094.9 1459.58 1094.9 1468.33 Q1094.9 1477.06 1091.82 1481.67 Q1088.76 1486.25 1082.95 1486.25 Q1077.14 1486.25 1074.06 1481.67 Q1071.01 1477.06 1071.01 1468.33 Q1071.01 1459.58 1074.06 1455 Q1077.14 1450.39 1082.95 1450.39 Z\" fill=\"#000000\" fill-rule=\"evenodd\" fill-opacity=\"1\" /><path clip-path=\"url(#clip730)\" d=\"M1465.12 1466.95 Q1468.48 1467.66 1470.35 1469.93 Q1472.25 1472.2 1472.25 1475.53 Q1472.25 1480.65 1468.73 1483.45 Q1465.21 1486.25 1458.73 1486.25 Q1456.56 1486.25 1454.24 1485.81 Q1451.95 1485.39 1449.5 1484.54 L1449.5 1480.02 Q1451.44 1481.16 1453.75 1481.74 Q1456.07 1482.32 1458.59 1482.32 Q1462.99 1482.32 1465.28 1480.58 Q1467.6 1478.84 1467.6 1475.53 Q1467.6 1472.48 1465.44 1470.77 Q1463.31 1469.03 1459.5 1469.03 L1455.47 1469.03 L1455.47 1465.19 L1459.68 1465.19 Q1463.13 1465.19 1464.96 1463.82 Q1466.79 1462.43 1466.79 1459.84 Q1466.79 1457.18 1464.89 1455.77 Q1463.01 1454.33 1459.5 1454.33 Q1457.57 1454.33 1455.38 1454.75 Q1453.18 1455.16 1450.54 1456.04 L1450.54 1451.88 Q1453.2 1451.14 1455.51 1450.77 Q1457.85 1450.39 1459.91 1450.39 Q1465.24 1450.39 1468.34 1452.83 Q1471.44 1455.23 1471.44 1459.35 Q1471.44 1462.22 1469.8 1464.21 Q1468.15 1466.18 1465.12 1466.95 Z\" fill=\"#000000\" fill-rule=\"evenodd\" fill-opacity=\"1\" /><path clip-path=\"url(#clip730)\" d=\"M1491.12 1454.1 Q1487.5 1454.1 1485.68 1457.66 Q1483.87 1461.2 1483.87 1468.33 Q1483.87 1475.44 1485.68 1479.01 Q1487.5 1482.55 1491.12 1482.55 Q1494.75 1482.55 1496.56 1479.01 Q1498.38 1475.44 1498.38 1468.33 Q1498.38 1461.2 1496.56 1457.66 Q1494.75 1454.1 1491.12 1454.1 M1491.12 1450.39 Q1496.93 1450.39 1499.98 1455 Q1503.06 1459.58 1503.06 1468.33 Q1503.06 1477.06 1499.98 1481.67 Q1496.93 1486.25 1491.12 1486.25 Q1485.31 1486.25 1482.23 1481.67 Q1479.17 1477.06 1479.17 1468.33 Q1479.17 1459.58 1482.23 1455 Q1485.31 1450.39 1491.12 1450.39 Z\" fill=\"#000000\" fill-rule=\"evenodd\" fill-opacity=\"1\" /><path clip-path=\"url(#clip730)\" d=\"M1872.68 1455.09 L1860.88 1473.54 L1872.68 1473.54 L1872.68 1455.09 M1871.46 1451.02 L1877.34 1451.02 L1877.34 1473.54 L1882.27 1473.54 L1882.27 1477.43 L1877.34 1477.43 L1877.34 1485.58 L1872.68 1485.58 L1872.68 1477.43 L1857.08 1477.43 L1857.08 1472.92 L1871.46 1451.02 Z\" fill=\"#000000\" fill-rule=\"evenodd\" fill-opacity=\"1\" /><path clip-path=\"url(#clip730)\" d=\"M1900 1454.1 Q1896.39 1454.1 1894.56 1457.66 Q1892.75 1461.2 1892.75 1468.33 Q1892.75 1475.44 1894.56 1479.01 Q1896.39 1482.55 1900 1482.55 Q1903.63 1482.55 1905.44 1479.01 Q1907.27 1475.44 1907.27 1468.33 Q1907.27 1461.2 1905.44 1457.66 Q1903.63 1454.1 1900 1454.1 M1900 1450.39 Q1905.81 1450.39 1908.86 1455 Q1911.94 1459.58 1911.94 1468.33 Q1911.94 1477.06 1908.86 1481.67 Q1905.81 1486.25 1900 1486.25 Q1894.19 1486.25 1891.11 1481.67 Q1888.05 1477.06 1888.05 1468.33 Q1888.05 1459.58 1891.11 1455 Q1894.19 1450.39 1900 1450.39 Z\" fill=\"#000000\" fill-rule=\"evenodd\" fill-opacity=\"1\" /><path clip-path=\"url(#clip730)\" d=\"M2267.44 1451.02 L2285.8 1451.02 L2285.8 1454.96 L2271.73 1454.96 L2271.73 1463.43 Q2272.75 1463.08 2273.76 1462.92 Q2274.78 1462.73 2275.8 1462.73 Q2281.59 1462.73 2284.97 1465.9 Q2288.35 1469.08 2288.35 1474.49 Q2288.35 1480.07 2284.88 1483.17 Q2281.4 1486.25 2275.08 1486.25 Q2272.91 1486.25 2270.64 1485.88 Q2268.39 1485.51 2265.99 1484.77 L2265.99 1480.07 Q2268.07 1481.2 2270.29 1481.76 Q2272.51 1482.32 2274.99 1482.32 Q2279 1482.32 2281.33 1480.21 Q2283.67 1478.1 2283.67 1474.49 Q2283.67 1470.88 2281.33 1468.77 Q2279 1466.67 2274.99 1466.67 Q2273.12 1466.67 2271.24 1467.08 Q2269.39 1467.5 2267.44 1468.38 L2267.44 1451.02 Z\" fill=\"#000000\" fill-rule=\"evenodd\" fill-opacity=\"1\" /><path clip-path=\"url(#clip730)\" d=\"M2307.56 1454.1 Q2303.95 1454.1 2302.12 1457.66 Q2300.31 1461.2 2300.31 1468.33 Q2300.31 1475.44 2302.12 1479.01 Q2303.95 1482.55 2307.56 1482.55 Q2311.19 1482.55 2313 1479.01 Q2314.83 1475.44 2314.83 1468.33 Q2314.83 1461.2 2313 1457.66 Q2311.19 1454.1 2307.56 1454.1 M2307.56 1450.39 Q2313.37 1450.39 2316.43 1455 Q2319.5 1459.58 2319.5 1468.33 Q2319.5 1477.06 2316.43 1481.67 Q2313.37 1486.25 2307.56 1486.25 Q2301.75 1486.25 2298.67 1481.67 Q2295.62 1477.06 2295.62 1468.33 Q2295.62 1459.58 2298.67 1455 Q2301.75 1450.39 2307.56 1450.39 Z\" fill=\"#000000\" fill-rule=\"evenodd\" fill-opacity=\"1\" /><path clip-path=\"url(#clip730)\" d=\"M1153.58 1539.37 L1144.32 1539.37 L1141.64 1550 L1150.97 1550 L1153.58 1539.37 M1148.8 1521.26 L1145.49 1534.46 L1154.79 1534.46 L1158.13 1521.26 L1163.22 1521.26 L1159.94 1534.46 L1169.87 1534.46 L1169.87 1539.37 L1158.7 1539.37 L1156.09 1550 L1166.21 1550 L1166.21 1554.87 L1154.85 1554.87 L1151.54 1568.04 L1146.45 1568.04 L1149.73 1554.87 L1140.4 1554.87 L1137.12 1568.04 L1132 1568.04 L1135.31 1554.87 L1125.28 1554.87 L1125.28 1550 L1136.49 1550 L1139.16 1539.37 L1128.91 1539.37 L1128.91 1534.46 L1140.4 1534.46 L1143.65 1521.26 L1148.8 1521.26 Z\" fill=\"#000000\" fill-rule=\"evenodd\" fill-opacity=\"1\" /><path clip-path=\"url(#clip730)\" d=\"M1222.39 1537.87 Q1221.4 1537.3 1220.23 1537.04 Q1219.08 1536.76 1217.68 1536.76 Q1212.71 1536.76 1210.04 1540 Q1207.4 1543.22 1207.4 1549.27 L1207.4 1568.04 L1201.51 1568.04 L1201.51 1532.4 L1207.4 1532.4 L1207.4 1537.93 Q1209.25 1534.69 1212.21 1533.13 Q1215.17 1531.54 1219.4 1531.54 Q1220 1531.54 1220.74 1531.63 Q1221.47 1531.7 1222.36 1531.85 L1222.39 1537.87 Z\" fill=\"#000000\" fill-rule=\"evenodd\" fill-opacity=\"1\" /><path clip-path=\"url(#clip730)\" d=\"M1257.59 1548.76 L1257.59 1551.62 L1230.67 1551.62 Q1231.05 1557.67 1234.29 1560.85 Q1237.57 1564 1243.4 1564 Q1246.77 1564 1249.92 1563.17 Q1253.11 1562.35 1256.22 1560.69 L1256.22 1566.23 Q1253.07 1567.57 1249.76 1568.27 Q1246.45 1568.97 1243.05 1568.97 Q1234.52 1568.97 1229.52 1564 Q1224.56 1559.04 1224.56 1550.57 Q1224.56 1541.82 1229.27 1536.69 Q1234.01 1531.54 1242.03 1531.54 Q1249.22 1531.54 1253.39 1536.18 Q1257.59 1540.8 1257.59 1548.76 M1251.74 1547.04 Q1251.67 1542.23 1249.03 1539.37 Q1246.42 1536.5 1242.09 1536.5 Q1237.19 1536.5 1234.23 1539.27 Q1231.3 1542.04 1230.86 1547.07 L1251.74 1547.04 Z\" fill=\"#000000\" fill-rule=\"evenodd\" fill-opacity=\"1\" /><path clip-path=\"url(#clip730)\" d=\"M1283.41 1550.12 Q1276.31 1550.12 1273.57 1551.75 Q1270.83 1553.37 1270.83 1557.29 Q1270.83 1560.4 1272.87 1562.25 Q1274.94 1564.07 1278.47 1564.07 Q1283.34 1564.07 1286.27 1560.63 Q1289.23 1557.16 1289.23 1551.43 L1289.23 1550.12 L1283.41 1550.12 M1295.09 1547.71 L1295.09 1568.04 L1289.23 1568.04 L1289.23 1562.63 Q1287.23 1565.88 1284.23 1567.44 Q1281.24 1568.97 1276.91 1568.97 Q1271.44 1568.97 1268.19 1565.91 Q1264.98 1562.82 1264.98 1557.67 Q1264.98 1551.65 1268.99 1548.6 Q1273.03 1545.54 1281.02 1545.54 L1289.23 1545.54 L1289.23 1544.97 Q1289.23 1540.93 1286.56 1538.73 Q1283.92 1536.5 1279.11 1536.5 Q1276.05 1536.5 1273.16 1537.23 Q1270.26 1537.97 1267.59 1539.43 L1267.59 1534.02 Q1270.8 1532.78 1273.83 1532.17 Q1276.85 1531.54 1279.71 1531.54 Q1287.45 1531.54 1291.27 1535.55 Q1295.09 1539.56 1295.09 1547.71 Z\" fill=\"#000000\" fill-rule=\"evenodd\" fill-opacity=\"1\" /><path clip-path=\"url(#clip730)\" d=\"M1332.8 1533.76 L1332.8 1539.24 Q1330.32 1537.87 1327.81 1537.2 Q1325.32 1536.5 1322.78 1536.5 Q1317.08 1536.5 1313.93 1540.13 Q1310.78 1543.73 1310.78 1550.25 Q1310.78 1556.78 1313.93 1560.4 Q1317.08 1564 1322.78 1564 Q1325.32 1564 1327.81 1563.33 Q1330.32 1562.63 1332.8 1561.26 L1332.8 1566.68 Q1330.35 1567.82 1327.71 1568.39 Q1325.1 1568.97 1322.14 1568.97 Q1314.09 1568.97 1309.35 1563.91 Q1304.6 1558.85 1304.6 1550.25 Q1304.6 1541.53 1309.38 1536.53 Q1314.18 1531.54 1322.52 1531.54 Q1325.23 1531.54 1327.81 1532.11 Q1330.38 1532.65 1332.8 1533.76 Z\" fill=\"#000000\" fill-rule=\"evenodd\" fill-opacity=\"1\" /><path clip-path=\"url(#clip730)\" d=\"M1348.78 1522.27 L1348.78 1532.4 L1360.84 1532.4 L1360.84 1536.95 L1348.78 1536.95 L1348.78 1556.3 Q1348.78 1560.66 1349.96 1561.9 Q1351.17 1563.14 1354.83 1563.14 L1360.84 1563.14 L1360.84 1568.04 L1354.83 1568.04 Q1348.05 1568.04 1345.47 1565.53 Q1342.89 1562.98 1342.89 1556.3 L1342.89 1536.95 L1338.6 1536.95 L1338.6 1532.4 L1342.89 1532.4 L1342.89 1522.27 L1348.78 1522.27 Z\" fill=\"#000000\" fill-rule=\"evenodd\" fill-opacity=\"1\" /><path clip-path=\"url(#clip730)\" d=\"M1382.36 1536.5 Q1377.65 1536.5 1374.91 1540.19 Q1372.18 1543.85 1372.18 1550.25 Q1372.18 1556.65 1374.88 1560.34 Q1377.62 1564 1382.36 1564 Q1387.04 1564 1389.78 1560.31 Q1392.51 1556.62 1392.51 1550.25 Q1392.51 1543.92 1389.78 1540.23 Q1387.04 1536.5 1382.36 1536.5 M1382.36 1531.54 Q1390 1531.54 1394.36 1536.5 Q1398.72 1541.47 1398.72 1550.25 Q1398.72 1559 1394.36 1564 Q1390 1568.97 1382.36 1568.97 Q1374.69 1568.97 1370.33 1564 Q1366 1559 1366 1550.25 Q1366 1541.47 1370.33 1536.5 Q1374.69 1531.54 1382.36 1531.54 Z\" fill=\"#000000\" fill-rule=\"evenodd\" fill-opacity=\"1\" /><path clip-path=\"url(#clip730)\" d=\"M1429.09 1537.87 Q1428.1 1537.3 1426.92 1537.04 Q1425.78 1536.76 1424.37 1536.76 Q1419.41 1536.76 1416.74 1540 Q1414.09 1543.22 1414.09 1549.27 L1414.09 1568.04 L1408.21 1568.04 L1408.21 1532.4 L1414.09 1532.4 L1414.09 1537.93 Q1415.94 1534.69 1418.9 1533.13 Q1421.86 1531.54 1426.09 1531.54 Q1426.7 1531.54 1427.43 1531.63 Q1428.16 1531.7 1429.05 1531.85 L1429.09 1537.87 Z\" fill=\"#000000\" fill-rule=\"evenodd\" fill-opacity=\"1\" /><path clip-path=\"url(#clip730)\" d=\"M1457.95 1533.45 L1457.95 1538.98 Q1455.47 1537.71 1452.8 1537.07 Q1450.12 1536.44 1447.26 1536.44 Q1442.9 1536.44 1440.7 1537.77 Q1438.54 1539.11 1438.54 1541.79 Q1438.54 1543.82 1440.1 1545 Q1441.66 1546.15 1446.37 1547.2 L1448.37 1547.64 Q1454.61 1548.98 1457.22 1551.43 Q1459.86 1553.85 1459.86 1558.21 Q1459.86 1563.17 1455.92 1566.07 Q1452 1568.97 1445.13 1568.97 Q1442.26 1568.97 1439.14 1568.39 Q1436.06 1567.85 1432.62 1566.74 L1432.62 1560.69 Q1435.86 1562.38 1439.02 1563.24 Q1442.17 1564.07 1445.25 1564.07 Q1449.39 1564.07 1451.62 1562.66 Q1453.85 1561.23 1453.85 1558.65 Q1453.85 1556.27 1452.22 1554.99 Q1450.63 1553.72 1445.19 1552.54 L1443.15 1552.07 Q1437.71 1550.92 1435.29 1548.56 Q1432.87 1546.18 1432.87 1542.04 Q1432.87 1537.01 1436.44 1534.27 Q1440 1531.54 1446.56 1531.54 Q1449.81 1531.54 1452.67 1532.01 Q1455.53 1532.49 1457.95 1533.45 Z\" fill=\"#000000\" fill-rule=\"evenodd\" fill-opacity=\"1\" /><polyline clip-path=\"url(#clip732)\" style=\"stroke:#000000; stroke-linecap:round; stroke-linejoin:round; stroke-width:8; stroke-opacity:0.1; fill:none\" points=\"232.389,1388.33 2352.76,1388.33 \"/>\n",
       "<polyline clip-path=\"url(#clip732)\" style=\"stroke:#000000; stroke-linecap:round; stroke-linejoin:round; stroke-width:8; stroke-opacity:0.1; fill:none\" points=\"232.389,1185.94 2352.76,1185.94 \"/>\n",
       "<polyline clip-path=\"url(#clip732)\" style=\"stroke:#000000; stroke-linecap:round; stroke-linejoin:round; stroke-width:8; stroke-opacity:0.1; fill:none\" points=\"232.389,983.558 2352.76,983.558 \"/>\n",
       "<polyline clip-path=\"url(#clip732)\" style=\"stroke:#000000; stroke-linecap:round; stroke-linejoin:round; stroke-width:8; stroke-opacity:0.1; fill:none\" points=\"232.389,781.173 2352.76,781.173 \"/>\n",
       "<polyline clip-path=\"url(#clip732)\" style=\"stroke:#000000; stroke-linecap:round; stroke-linejoin:round; stroke-width:8; stroke-opacity:0.1; fill:none\" points=\"232.389,578.789 2352.76,578.789 \"/>\n",
       "<polyline clip-path=\"url(#clip732)\" style=\"stroke:#000000; stroke-linecap:round; stroke-linejoin:round; stroke-width:8; stroke-opacity:0.1; fill:none\" points=\"232.389,376.405 2352.76,376.405 \"/>\n",
       "<polyline clip-path=\"url(#clip732)\" style=\"stroke:#000000; stroke-linecap:round; stroke-linejoin:round; stroke-width:8; stroke-opacity:0.1; fill:none\" points=\"232.389,174.02 2352.76,174.02 \"/>\n",
       "<polyline clip-path=\"url(#clip730)\" style=\"stroke:#000000; stroke-linecap:round; stroke-linejoin:round; stroke-width:4; stroke-opacity:1; fill:none\" points=\"232.389,1423.18 232.389,47.2441 \"/>\n",
       "<polyline clip-path=\"url(#clip730)\" style=\"stroke:#000000; stroke-linecap:round; stroke-linejoin:round; stroke-width:4; stroke-opacity:1; fill:none\" points=\"232.389,1388.33 251.287,1388.33 \"/>\n",
       "<polyline clip-path=\"url(#clip730)\" style=\"stroke:#000000; stroke-linecap:round; stroke-linejoin:round; stroke-width:4; stroke-opacity:1; fill:none\" points=\"232.389,1185.94 251.287,1185.94 \"/>\n",
       "<polyline clip-path=\"url(#clip730)\" style=\"stroke:#000000; stroke-linecap:round; stroke-linejoin:round; stroke-width:4; stroke-opacity:1; fill:none\" points=\"232.389,983.558 251.287,983.558 \"/>\n",
       "<polyline clip-path=\"url(#clip730)\" style=\"stroke:#000000; stroke-linecap:round; stroke-linejoin:round; stroke-width:4; stroke-opacity:1; fill:none\" points=\"232.389,781.173 251.287,781.173 \"/>\n",
       "<polyline clip-path=\"url(#clip730)\" style=\"stroke:#000000; stroke-linecap:round; stroke-linejoin:round; stroke-width:4; stroke-opacity:1; fill:none\" points=\"232.389,578.789 251.287,578.789 \"/>\n",
       "<polyline clip-path=\"url(#clip730)\" style=\"stroke:#000000; stroke-linecap:round; stroke-linejoin:round; stroke-width:4; stroke-opacity:1; fill:none\" points=\"232.389,376.405 251.287,376.405 \"/>\n",
       "<polyline clip-path=\"url(#clip730)\" style=\"stroke:#000000; stroke-linecap:round; stroke-linejoin:round; stroke-width:4; stroke-opacity:1; fill:none\" points=\"232.389,174.02 251.287,174.02 \"/>\n",
       "<path clip-path=\"url(#clip730)\" d=\"M184.445 1374.13 Q180.834 1374.13 179.005 1377.69 Q177.2 1381.23 177.2 1388.36 Q177.2 1395.47 179.005 1399.03 Q180.834 1402.57 184.445 1402.57 Q188.079 1402.57 189.885 1399.03 Q191.713 1395.47 191.713 1388.36 Q191.713 1381.23 189.885 1377.69 Q188.079 1374.13 184.445 1374.13 M184.445 1370.42 Q190.255 1370.42 193.311 1375.03 Q196.389 1379.61 196.389 1388.36 Q196.389 1397.09 193.311 1401.69 Q190.255 1406.28 184.445 1406.28 Q178.635 1406.28 175.556 1401.69 Q172.501 1397.09 172.501 1388.36 Q172.501 1379.61 175.556 1375.03 Q178.635 1370.42 184.445 1370.42 Z\" fill=\"#000000\" fill-rule=\"evenodd\" fill-opacity=\"1\" /><path clip-path=\"url(#clip730)\" d=\"M148.311 1199.29 L164.63 1199.29 L164.63 1203.22 L142.686 1203.22 L142.686 1199.29 Q145.348 1196.53 149.931 1191.9 Q154.538 1187.25 155.718 1185.91 Q157.964 1183.38 158.843 1181.65 Q159.746 1179.89 159.746 1178.2 Q159.746 1175.44 157.802 1173.71 Q155.88 1171.97 152.778 1171.97 Q150.579 1171.97 148.126 1172.74 Q145.695 1173.5 142.917 1175.05 L142.917 1170.33 Q145.741 1169.19 148.195 1168.62 Q150.649 1168.04 152.686 1168.04 Q158.056 1168.04 161.251 1170.72 Q164.445 1173.41 164.445 1177.9 Q164.445 1180.03 163.635 1181.95 Q162.848 1183.85 160.741 1186.44 Q160.163 1187.11 157.061 1190.33 Q153.959 1193.52 148.311 1199.29 Z\" fill=\"#000000\" fill-rule=\"evenodd\" fill-opacity=\"1\" /><path clip-path=\"url(#clip730)\" d=\"M184.445 1171.74 Q180.834 1171.74 179.005 1175.31 Q177.2 1178.85 177.2 1185.98 Q177.2 1193.08 179.005 1196.65 Q180.834 1200.19 184.445 1200.19 Q188.079 1200.19 189.885 1196.65 Q191.713 1193.08 191.713 1185.98 Q191.713 1178.85 189.885 1175.31 Q188.079 1171.74 184.445 1171.74 M184.445 1168.04 Q190.255 1168.04 193.311 1172.64 Q196.389 1177.23 196.389 1185.98 Q196.389 1194.7 193.311 1199.31 Q190.255 1203.89 184.445 1203.89 Q178.635 1203.89 175.556 1199.31 Q172.501 1194.7 172.501 1185.98 Q172.501 1177.23 175.556 1172.64 Q178.635 1168.04 184.445 1168.04 Z\" fill=\"#000000\" fill-rule=\"evenodd\" fill-opacity=\"1\" /><path clip-path=\"url(#clip730)\" d=\"M157.13 970.352 L145.325 988.801 L157.13 988.801 L157.13 970.352 M155.903 966.278 L161.783 966.278 L161.783 988.801 L166.714 988.801 L166.714 992.69 L161.783 992.69 L161.783 1000.84 L157.13 1000.84 L157.13 992.69 L141.529 992.69 L141.529 988.176 L155.903 966.278 Z\" fill=\"#000000\" fill-rule=\"evenodd\" fill-opacity=\"1\" /><path clip-path=\"url(#clip730)\" d=\"M184.445 969.356 Q180.834 969.356 179.005 972.921 Q177.2 976.463 177.2 983.592 Q177.2 990.699 179.005 994.264 Q180.834 997.805 184.445 997.805 Q188.079 997.805 189.885 994.264 Q191.713 990.699 191.713 983.592 Q191.713 976.463 189.885 972.921 Q188.079 969.356 184.445 969.356 M184.445 965.653 Q190.255 965.653 193.311 970.259 Q196.389 974.843 196.389 983.592 Q196.389 992.319 193.311 996.926 Q190.255 1001.51 184.445 1001.51 Q178.635 1001.51 175.556 996.926 Q172.501 992.319 172.501 983.592 Q172.501 974.843 175.556 970.259 Q178.635 965.653 184.445 965.653 Z\" fill=\"#000000\" fill-rule=\"evenodd\" fill-opacity=\"1\" /><path clip-path=\"url(#clip730)\" d=\"M154.862 779.31 Q151.714 779.31 149.862 781.463 Q148.033 783.616 148.033 787.366 Q148.033 791.092 149.862 793.268 Q151.714 795.421 154.862 795.421 Q158.01 795.421 159.839 793.268 Q161.69 791.092 161.69 787.366 Q161.69 783.616 159.839 781.463 Q158.01 779.31 154.862 779.31 M164.144 764.657 L164.144 768.917 Q162.385 768.083 160.579 767.643 Q158.797 767.204 157.038 767.204 Q152.408 767.204 149.954 770.329 Q147.524 773.454 147.177 779.773 Q148.542 777.759 150.603 776.694 Q152.663 775.606 155.14 775.606 Q160.348 775.606 163.357 778.778 Q166.39 781.926 166.39 787.366 Q166.39 792.69 163.241 795.907 Q160.093 799.125 154.862 799.125 Q148.866 799.125 145.695 794.541 Q142.524 789.935 142.524 781.208 Q142.524 773.014 146.413 768.153 Q150.302 763.268 156.853 763.268 Q158.612 763.268 160.394 763.616 Q162.2 763.963 164.144 764.657 Z\" fill=\"#000000\" fill-rule=\"evenodd\" fill-opacity=\"1\" /><path clip-path=\"url(#clip730)\" d=\"M184.445 766.972 Q180.834 766.972 179.005 770.537 Q177.2 774.079 177.2 781.208 Q177.2 788.315 179.005 791.879 Q180.834 795.421 184.445 795.421 Q188.079 795.421 189.885 791.879 Q191.713 788.315 191.713 781.208 Q191.713 774.079 189.885 770.537 Q188.079 766.972 184.445 766.972 M184.445 763.268 Q190.255 763.268 193.311 767.875 Q196.389 772.458 196.389 781.208 Q196.389 789.935 193.311 794.541 Q190.255 799.125 184.445 799.125 Q178.635 799.125 175.556 794.541 Q172.501 789.935 172.501 781.208 Q172.501 772.458 175.556 767.875 Q178.635 763.268 184.445 763.268 Z\" fill=\"#000000\" fill-rule=\"evenodd\" fill-opacity=\"1\" /><path clip-path=\"url(#clip730)\" d=\"M154.283 579.657 Q150.95 579.657 149.028 581.44 Q147.13 583.222 147.13 586.347 Q147.13 589.472 149.028 591.254 Q150.95 593.037 154.283 593.037 Q157.616 593.037 159.538 591.254 Q161.459 589.449 161.459 586.347 Q161.459 583.222 159.538 581.44 Q157.64 579.657 154.283 579.657 M149.607 577.666 Q146.598 576.926 144.908 574.866 Q143.241 572.805 143.241 569.842 Q143.241 565.699 146.181 563.292 Q149.144 560.884 154.283 560.884 Q159.445 560.884 162.385 563.292 Q165.325 565.699 165.325 569.842 Q165.325 572.805 163.635 574.866 Q161.968 576.926 158.982 577.666 Q162.362 578.453 164.237 580.745 Q166.135 583.037 166.135 586.347 Q166.135 591.37 163.056 594.055 Q160.001 596.74 154.283 596.74 Q148.566 596.74 145.487 594.055 Q142.431 591.37 142.431 586.347 Q142.431 583.037 144.329 580.745 Q146.228 578.453 149.607 577.666 M147.894 570.282 Q147.894 572.967 149.561 574.472 Q151.251 575.977 154.283 575.977 Q157.292 575.977 158.982 574.472 Q160.695 572.967 160.695 570.282 Q160.695 567.597 158.982 566.092 Q157.292 564.588 154.283 564.588 Q151.251 564.588 149.561 566.092 Q147.894 567.597 147.894 570.282 Z\" fill=\"#000000\" fill-rule=\"evenodd\" fill-opacity=\"1\" /><path clip-path=\"url(#clip730)\" d=\"M184.445 564.588 Q180.834 564.588 179.005 568.153 Q177.2 571.694 177.2 578.824 Q177.2 585.93 179.005 589.495 Q180.834 593.037 184.445 593.037 Q188.079 593.037 189.885 589.495 Q191.713 585.93 191.713 578.824 Q191.713 571.694 189.885 568.153 Q188.079 564.588 184.445 564.588 M184.445 560.884 Q190.255 560.884 193.311 565.491 Q196.389 570.074 196.389 578.824 Q196.389 587.551 193.311 592.157 Q190.255 596.74 184.445 596.74 Q178.635 596.74 175.556 592.157 Q172.501 587.551 172.501 578.824 Q172.501 570.074 175.556 565.491 Q178.635 560.884 184.445 560.884 Z\" fill=\"#000000\" fill-rule=\"evenodd\" fill-opacity=\"1\" /><path clip-path=\"url(#clip730)\" d=\"M114.931 389.75 L122.57 389.75 L122.57 363.384 L114.26 365.051 L114.26 360.791 L122.524 359.125 L127.2 359.125 L127.2 389.75 L134.839 389.75 L134.839 393.685 L114.931 393.685 L114.931 389.75 Z\" fill=\"#000000\" fill-rule=\"evenodd\" fill-opacity=\"1\" /><path clip-path=\"url(#clip730)\" d=\"M154.283 362.203 Q150.672 362.203 148.843 365.768 Q147.038 369.31 147.038 376.44 Q147.038 383.546 148.843 387.111 Q150.672 390.652 154.283 390.652 Q157.917 390.652 159.723 387.111 Q161.552 383.546 161.552 376.44 Q161.552 369.31 159.723 365.768 Q157.917 362.203 154.283 362.203 M154.283 358.5 Q160.093 358.5 163.149 363.106 Q166.227 367.69 166.227 376.44 Q166.227 385.166 163.149 389.773 Q160.093 394.356 154.283 394.356 Q148.473 394.356 145.394 389.773 Q142.339 385.166 142.339 376.44 Q142.339 367.69 145.394 363.106 Q148.473 358.5 154.283 358.5 Z\" fill=\"#000000\" fill-rule=\"evenodd\" fill-opacity=\"1\" /><path clip-path=\"url(#clip730)\" d=\"M184.445 362.203 Q180.834 362.203 179.005 365.768 Q177.2 369.31 177.2 376.44 Q177.2 383.546 179.005 387.111 Q180.834 390.652 184.445 390.652 Q188.079 390.652 189.885 387.111 Q191.713 383.546 191.713 376.44 Q191.713 369.31 189.885 365.768 Q188.079 362.203 184.445 362.203 M184.445 358.5 Q190.255 358.5 193.311 363.106 Q196.389 367.69 196.389 376.44 Q196.389 385.166 193.311 389.773 Q190.255 394.356 184.445 394.356 Q178.635 394.356 175.556 389.773 Q172.501 385.166 172.501 376.44 Q172.501 367.69 175.556 363.106 Q178.635 358.5 184.445 358.5 Z\" fill=\"#000000\" fill-rule=\"evenodd\" fill-opacity=\"1\" /><path clip-path=\"url(#clip730)\" d=\"M114.931 187.365 L122.57 187.365 L122.57 161 L114.26 162.666 L114.26 158.407 L122.524 156.74 L127.2 156.74 L127.2 187.365 L134.839 187.365 L134.839 191.3 L114.931 191.3 L114.931 187.365 Z\" fill=\"#000000\" fill-rule=\"evenodd\" fill-opacity=\"1\" /><path clip-path=\"url(#clip730)\" d=\"M148.311 187.365 L164.63 187.365 L164.63 191.3 L142.686 191.3 L142.686 187.365 Q145.348 184.611 149.931 179.981 Q154.538 175.328 155.718 173.986 Q157.964 171.463 158.843 169.727 Q159.746 167.967 159.746 166.277 Q159.746 163.523 157.802 161.787 Q155.88 160.051 152.778 160.051 Q150.579 160.051 148.126 160.815 Q145.695 161.578 142.917 163.129 L142.917 158.407 Q145.741 157.273 148.195 156.694 Q150.649 156.115 152.686 156.115 Q158.056 156.115 161.251 158.801 Q164.445 161.486 164.445 165.977 Q164.445 168.106 163.635 170.027 Q162.848 171.926 160.741 174.518 Q160.163 175.189 157.061 178.407 Q153.959 181.601 148.311 187.365 Z\" fill=\"#000000\" fill-rule=\"evenodd\" fill-opacity=\"1\" /><path clip-path=\"url(#clip730)\" d=\"M184.445 159.819 Q180.834 159.819 179.005 163.384 Q177.2 166.926 177.2 174.055 Q177.2 181.162 179.005 184.726 Q180.834 188.268 184.445 188.268 Q188.079 188.268 189.885 184.726 Q191.713 181.162 191.713 174.055 Q191.713 166.926 189.885 163.384 Q188.079 159.819 184.445 159.819 M184.445 156.115 Q190.255 156.115 193.311 160.722 Q196.389 165.305 196.389 174.055 Q196.389 182.782 193.311 187.388 Q190.255 191.972 184.445 191.972 Q178.635 191.972 175.556 187.388 Q172.501 182.782 172.501 174.055 Q172.501 165.305 175.556 160.722 Q178.635 156.115 184.445 156.115 Z\" fill=\"#000000\" fill-rule=\"evenodd\" fill-opacity=\"1\" /><path clip-path=\"url(#clip730)\" d=\"M29.4065 898.413 L34.9447 898.413 Q33.6716 900.895 33.035 903.569 Q32.3984 906.243 32.3984 909.107 Q32.3984 913.468 33.7352 915.664 Q35.072 917.828 37.7456 917.828 Q39.7826 917.828 40.9603 916.269 Q42.1061 914.709 43.1565 909.998 L43.6021 907.993 Q44.9389 901.755 47.3897 899.145 Q49.8086 896.503 54.1691 896.503 Q59.1344 896.503 62.0308 900.45 Q64.9272 904.365 64.9272 911.24 Q64.9272 914.104 64.3543 917.223 Q63.8132 920.311 62.6992 923.748 L56.6518 923.748 Q58.3387 920.502 59.198 917.351 Q60.0256 914.2 60.0256 911.112 Q60.0256 906.975 58.6251 904.747 Q57.1929 902.519 54.6147 902.519 Q52.2276 902.519 50.9545 904.142 Q49.6813 905.733 48.5037 911.176 L48.0262 913.213 Q46.8804 918.656 44.5251 921.075 Q42.138 923.494 38.0002 923.494 Q32.9713 923.494 30.2341 919.929 Q27.4968 916.364 27.4968 909.807 Q27.4968 906.561 27.9743 903.696 Q28.4517 900.832 29.4065 898.413 Z\" fill=\"#000000\" fill-rule=\"evenodd\" fill-opacity=\"1\" /><path clip-path=\"url(#clip730)\" d=\"M32.4621 873.364 Q32.4621 878.074 36.1542 880.812 Q39.8145 883.549 46.212 883.549 Q52.6095 883.549 56.3017 880.843 Q59.9619 878.106 59.9619 873.364 Q59.9619 868.685 56.2698 865.948 Q52.5777 863.21 46.212 863.21 Q39.8781 863.21 36.186 865.948 Q32.4621 868.685 32.4621 873.364 M27.4968 873.364 Q27.4968 865.725 32.4621 861.364 Q37.4273 857.004 46.212 857.004 Q54.9649 857.004 59.9619 861.364 Q64.9272 865.725 64.9272 873.364 Q64.9272 881.034 59.9619 885.395 Q54.9649 889.724 46.212 889.724 Q37.4273 889.724 32.4621 885.395 Q27.4968 881.034 27.4968 873.364 Z\" fill=\"#000000\" fill-rule=\"evenodd\" fill-opacity=\"1\" /><path clip-path=\"url(#clip730)\" d=\"M14.479 847.296 L14.479 841.44 L64.0042 841.44 L64.0042 847.296 L14.479 847.296 Z\" fill=\"#000000\" fill-rule=\"evenodd\" fill-opacity=\"1\" /><path clip-path=\"url(#clip730)\" d=\"M55.9197 828.358 L55.9197 821.642 L64.0042 821.642 L64.0042 828.358 L55.9197 828.358 Z\" fill=\"#000000\" fill-rule=\"evenodd\" fill-opacity=\"1\" /><path clip-path=\"url(#clip730)\" d=\"M18.2347 781.952 L28.3562 781.952 L28.3562 769.889 L32.9077 769.889 L32.9077 781.952 L52.2594 781.952 Q56.6199 781.952 57.8613 780.775 Q59.1026 779.565 59.1026 775.905 L59.1026 769.889 L64.0042 769.889 L64.0042 775.905 Q64.0042 782.684 61.4897 785.262 Q58.9434 787.84 52.2594 787.84 L32.9077 787.84 L32.9077 792.137 L28.3562 792.137 L28.3562 787.84 L18.2347 787.84 L18.2347 781.952 Z\" fill=\"#000000\" fill-rule=\"evenodd\" fill-opacity=\"1\" /><path clip-path=\"url(#clip730)\" d=\"M28.3562 762.187 L28.3562 756.33 L64.0042 756.33 L64.0042 762.187 L28.3562 762.187 M14.479 762.187 L14.479 756.33 L21.895 756.33 L21.895 762.187 L14.479 762.187 Z\" fill=\"#000000\" fill-rule=\"evenodd\" fill-opacity=\"1\" /><path clip-path=\"url(#clip730)\" d=\"M35.1993 716.322 Q31.2526 714.126 29.3747 711.07 Q27.4968 708.014 27.4968 703.877 Q27.4968 698.307 31.4117 695.283 Q35.2948 692.259 42.4881 692.259 L64.0042 692.259 L64.0042 698.148 L42.679 698.148 Q37.5546 698.148 35.072 699.962 Q32.5894 701.776 32.5894 705.5 Q32.5894 710.052 35.6131 712.693 Q38.6368 715.335 43.8567 715.335 L64.0042 715.335 L64.0042 721.223 L42.679 721.223 Q37.5228 721.223 35.072 723.038 Q32.5894 724.852 32.5894 728.639 Q32.5894 733.127 35.6449 735.769 Q38.6686 738.411 43.8567 738.411 L64.0042 738.411 L64.0042 744.299 L28.3562 744.299 L28.3562 738.411 L33.8944 738.411 Q30.616 736.406 29.0564 733.605 Q27.4968 730.804 27.4968 726.952 Q27.4968 723.069 29.4702 720.364 Q31.4436 717.627 35.1993 716.322 Z\" fill=\"#000000\" fill-rule=\"evenodd\" fill-opacity=\"1\" /><path clip-path=\"url(#clip730)\" d=\"M44.7161 650.087 L47.5806 650.087 L47.5806 677.013 Q53.6281 676.632 56.8109 673.385 Q59.9619 670.107 59.9619 664.282 Q59.9619 660.908 59.1344 657.757 Q58.3069 654.574 56.6518 651.455 L62.1899 651.455 Q63.5267 654.606 64.227 657.916 Q64.9272 661.227 64.9272 664.632 Q64.9272 673.162 59.9619 678.159 Q54.9967 683.125 46.5303 683.125 Q37.7774 683.125 32.6531 678.414 Q27.4968 673.671 27.4968 665.651 Q27.4968 658.457 32.1438 654.288 Q36.7589 650.087 44.7161 650.087 M42.9973 655.943 Q38.1912 656.007 35.3266 658.648 Q32.4621 661.258 32.4621 665.587 Q32.4621 670.489 35.2312 673.449 Q38.0002 676.377 43.0292 676.823 L42.9973 655.943 Z\" fill=\"#000000\" fill-rule=\"evenodd\" fill-opacity=\"1\" /><path clip-path=\"url(#clip730)\" d=\"M14.479 620.295 L14.479 606.8 L19.0304 606.8 L19.0304 614.439 L68.0464 614.439 L68.0464 606.8 L72.5979 606.8 L72.5979 620.295 L14.479 620.295 Z\" fill=\"#000000\" fill-rule=\"evenodd\" fill-opacity=\"1\" /><path clip-path=\"url(#clip730)\" d=\"M29.4065 571.597 L34.9447 571.597 Q33.6716 574.08 33.035 576.754 Q32.3984 579.427 32.3984 582.292 Q32.3984 586.652 33.7352 588.848 Q35.072 591.013 37.7456 591.013 Q39.7826 591.013 40.9603 589.453 Q42.1061 587.894 43.1565 583.183 L43.6021 581.178 Q44.9389 574.939 47.3897 572.329 Q49.8086 569.688 54.1691 569.688 Q59.1344 569.688 62.0308 573.634 Q64.9272 577.549 64.9272 584.424 Q64.9272 587.289 64.3543 590.408 Q63.8132 593.495 62.6992 596.933 L56.6518 596.933 Q58.3387 593.686 59.198 590.535 Q60.0256 587.384 60.0256 584.297 Q60.0256 580.159 58.6251 577.931 Q57.1929 575.703 54.6147 575.703 Q52.2276 575.703 50.9545 577.327 Q49.6813 578.918 48.5037 584.361 L48.0262 586.398 Q46.8804 591.84 44.5251 594.259 Q42.138 596.678 38.0002 596.678 Q32.9713 596.678 30.2341 593.113 Q27.4968 589.549 27.4968 582.992 Q27.4968 579.745 27.9743 576.881 Q28.4517 574.016 29.4065 571.597 Z\" fill=\"#000000\" fill-rule=\"evenodd\" fill-opacity=\"1\" /><path clip-path=\"url(#clip730)\" d=\"M14.479 546.676 L72.5979 546.676 L72.5979 560.171 L68.0464 560.171 L68.0464 552.564 L19.0304 552.564 L19.0304 560.171 L14.479 560.171 L14.479 546.676 Z\" fill=\"#000000\" fill-rule=\"evenodd\" fill-opacity=\"1\" /><polyline clip-path=\"url(#clip732)\" style=\"stroke:#000000; stroke-linecap:round; stroke-linejoin:round; stroke-width:4; stroke-opacity:1; fill:none\" points=\"292.4,1384.04 333.223,1384.24 374.046,1381.95 414.87,1377.21 455.693,1377.11 496.517,1377.12 537.34,1377.75 578.163,1373.23 618.987,1372.66 659.81,1361 700.634,1363.54 741.457,1365.99 782.28,1349.95 823.104,1362.51 863.927,1359.75 904.75,1349.08 945.574,1333.85 986.397,1348.44 1027.22,1346.95 1068.04,1336.69 1108.87,1346.71 1149.69,1338.18 1190.51,1333.92 1231.34,1316.74 1272.16,1324.73 1312.98,1317.67 1353.81,1334.34 1394.63,1328.18 1435.45,1311.03 1476.28,1301.04 1517.1,1307.73 1557.92,1288.4 1598.75,1296.13 1639.57,1298.85 1680.39,1298.25 1721.22,1268.3 1762.04,1321.69 1802.86,1281.88 1843.69,1236.29 1884.51,1274.54 1925.34,1251.94 1966.16,1244.96 2006.98,1234 2047.81,1282.94 2088.63,1264.19 2129.45,1227.81 2170.28,1228.64 2211.1,1256.14 2251.92,1283.6 2292.75,1278.78 \"/>\n",
       "<circle clip-path=\"url(#clip732)\" cx=\"292.4\" cy=\"1384.04\" r=\"14.4\" fill=\"#000000\" fill-rule=\"evenodd\" fill-opacity=\"1\" stroke=\"none\"/>\n",
       "<circle clip-path=\"url(#clip732)\" cx=\"333.223\" cy=\"1384.24\" r=\"14.4\" fill=\"#000000\" fill-rule=\"evenodd\" fill-opacity=\"1\" stroke=\"none\"/>\n",
       "<circle clip-path=\"url(#clip732)\" cx=\"374.046\" cy=\"1381.95\" r=\"14.4\" fill=\"#000000\" fill-rule=\"evenodd\" fill-opacity=\"1\" stroke=\"none\"/>\n",
       "<circle clip-path=\"url(#clip732)\" cx=\"414.87\" cy=\"1377.21\" r=\"14.4\" fill=\"#000000\" fill-rule=\"evenodd\" fill-opacity=\"1\" stroke=\"none\"/>\n",
       "<circle clip-path=\"url(#clip732)\" cx=\"455.693\" cy=\"1377.11\" r=\"14.4\" fill=\"#000000\" fill-rule=\"evenodd\" fill-opacity=\"1\" stroke=\"none\"/>\n",
       "<circle clip-path=\"url(#clip732)\" cx=\"496.517\" cy=\"1377.12\" r=\"14.4\" fill=\"#000000\" fill-rule=\"evenodd\" fill-opacity=\"1\" stroke=\"none\"/>\n",
       "<circle clip-path=\"url(#clip732)\" cx=\"537.34\" cy=\"1377.75\" r=\"14.4\" fill=\"#000000\" fill-rule=\"evenodd\" fill-opacity=\"1\" stroke=\"none\"/>\n",
       "<circle clip-path=\"url(#clip732)\" cx=\"578.163\" cy=\"1373.23\" r=\"14.4\" fill=\"#000000\" fill-rule=\"evenodd\" fill-opacity=\"1\" stroke=\"none\"/>\n",
       "<circle clip-path=\"url(#clip732)\" cx=\"618.987\" cy=\"1372.66\" r=\"14.4\" fill=\"#000000\" fill-rule=\"evenodd\" fill-opacity=\"1\" stroke=\"none\"/>\n",
       "<circle clip-path=\"url(#clip732)\" cx=\"659.81\" cy=\"1361\" r=\"14.4\" fill=\"#000000\" fill-rule=\"evenodd\" fill-opacity=\"1\" stroke=\"none\"/>\n",
       "<circle clip-path=\"url(#clip732)\" cx=\"700.634\" cy=\"1363.54\" r=\"14.4\" fill=\"#000000\" fill-rule=\"evenodd\" fill-opacity=\"1\" stroke=\"none\"/>\n",
       "<circle clip-path=\"url(#clip732)\" cx=\"741.457\" cy=\"1365.99\" r=\"14.4\" fill=\"#000000\" fill-rule=\"evenodd\" fill-opacity=\"1\" stroke=\"none\"/>\n",
       "<circle clip-path=\"url(#clip732)\" cx=\"782.28\" cy=\"1349.95\" r=\"14.4\" fill=\"#000000\" fill-rule=\"evenodd\" fill-opacity=\"1\" stroke=\"none\"/>\n",
       "<circle clip-path=\"url(#clip732)\" cx=\"823.104\" cy=\"1362.51\" r=\"14.4\" fill=\"#000000\" fill-rule=\"evenodd\" fill-opacity=\"1\" stroke=\"none\"/>\n",
       "<circle clip-path=\"url(#clip732)\" cx=\"863.927\" cy=\"1359.75\" r=\"14.4\" fill=\"#000000\" fill-rule=\"evenodd\" fill-opacity=\"1\" stroke=\"none\"/>\n",
       "<circle clip-path=\"url(#clip732)\" cx=\"904.75\" cy=\"1349.08\" r=\"14.4\" fill=\"#000000\" fill-rule=\"evenodd\" fill-opacity=\"1\" stroke=\"none\"/>\n",
       "<circle clip-path=\"url(#clip732)\" cx=\"945.574\" cy=\"1333.85\" r=\"14.4\" fill=\"#000000\" fill-rule=\"evenodd\" fill-opacity=\"1\" stroke=\"none\"/>\n",
       "<circle clip-path=\"url(#clip732)\" cx=\"986.397\" cy=\"1348.44\" r=\"14.4\" fill=\"#000000\" fill-rule=\"evenodd\" fill-opacity=\"1\" stroke=\"none\"/>\n",
       "<circle clip-path=\"url(#clip732)\" cx=\"1027.22\" cy=\"1346.95\" r=\"14.4\" fill=\"#000000\" fill-rule=\"evenodd\" fill-opacity=\"1\" stroke=\"none\"/>\n",
       "<circle clip-path=\"url(#clip732)\" cx=\"1068.04\" cy=\"1336.69\" r=\"14.4\" fill=\"#000000\" fill-rule=\"evenodd\" fill-opacity=\"1\" stroke=\"none\"/>\n",
       "<circle clip-path=\"url(#clip732)\" cx=\"1108.87\" cy=\"1346.71\" r=\"14.4\" fill=\"#000000\" fill-rule=\"evenodd\" fill-opacity=\"1\" stroke=\"none\"/>\n",
       "<circle clip-path=\"url(#clip732)\" cx=\"1149.69\" cy=\"1338.18\" r=\"14.4\" fill=\"#000000\" fill-rule=\"evenodd\" fill-opacity=\"1\" stroke=\"none\"/>\n",
       "<circle clip-path=\"url(#clip732)\" cx=\"1190.51\" cy=\"1333.92\" r=\"14.4\" fill=\"#000000\" fill-rule=\"evenodd\" fill-opacity=\"1\" stroke=\"none\"/>\n",
       "<circle clip-path=\"url(#clip732)\" cx=\"1231.34\" cy=\"1316.74\" r=\"14.4\" fill=\"#000000\" fill-rule=\"evenodd\" fill-opacity=\"1\" stroke=\"none\"/>\n",
       "<circle clip-path=\"url(#clip732)\" cx=\"1272.16\" cy=\"1324.73\" r=\"14.4\" fill=\"#000000\" fill-rule=\"evenodd\" fill-opacity=\"1\" stroke=\"none\"/>\n",
       "<circle clip-path=\"url(#clip732)\" cx=\"1312.98\" cy=\"1317.67\" r=\"14.4\" fill=\"#000000\" fill-rule=\"evenodd\" fill-opacity=\"1\" stroke=\"none\"/>\n",
       "<circle clip-path=\"url(#clip732)\" cx=\"1353.81\" cy=\"1334.34\" r=\"14.4\" fill=\"#000000\" fill-rule=\"evenodd\" fill-opacity=\"1\" stroke=\"none\"/>\n",
       "<circle clip-path=\"url(#clip732)\" cx=\"1394.63\" cy=\"1328.18\" r=\"14.4\" fill=\"#000000\" fill-rule=\"evenodd\" fill-opacity=\"1\" stroke=\"none\"/>\n",
       "<circle clip-path=\"url(#clip732)\" cx=\"1435.45\" cy=\"1311.03\" r=\"14.4\" fill=\"#000000\" fill-rule=\"evenodd\" fill-opacity=\"1\" stroke=\"none\"/>\n",
       "<circle clip-path=\"url(#clip732)\" cx=\"1476.28\" cy=\"1301.04\" r=\"14.4\" fill=\"#000000\" fill-rule=\"evenodd\" fill-opacity=\"1\" stroke=\"none\"/>\n",
       "<circle clip-path=\"url(#clip732)\" cx=\"1517.1\" cy=\"1307.73\" r=\"14.4\" fill=\"#000000\" fill-rule=\"evenodd\" fill-opacity=\"1\" stroke=\"none\"/>\n",
       "<circle clip-path=\"url(#clip732)\" cx=\"1557.92\" cy=\"1288.4\" r=\"14.4\" fill=\"#000000\" fill-rule=\"evenodd\" fill-opacity=\"1\" stroke=\"none\"/>\n",
       "<circle clip-path=\"url(#clip732)\" cx=\"1598.75\" cy=\"1296.13\" r=\"14.4\" fill=\"#000000\" fill-rule=\"evenodd\" fill-opacity=\"1\" stroke=\"none\"/>\n",
       "<circle clip-path=\"url(#clip732)\" cx=\"1639.57\" cy=\"1298.85\" r=\"14.4\" fill=\"#000000\" fill-rule=\"evenodd\" fill-opacity=\"1\" stroke=\"none\"/>\n",
       "<circle clip-path=\"url(#clip732)\" cx=\"1680.39\" cy=\"1298.25\" r=\"14.4\" fill=\"#000000\" fill-rule=\"evenodd\" fill-opacity=\"1\" stroke=\"none\"/>\n",
       "<circle clip-path=\"url(#clip732)\" cx=\"1721.22\" cy=\"1268.3\" r=\"14.4\" fill=\"#000000\" fill-rule=\"evenodd\" fill-opacity=\"1\" stroke=\"none\"/>\n",
       "<circle clip-path=\"url(#clip732)\" cx=\"1762.04\" cy=\"1321.69\" r=\"14.4\" fill=\"#000000\" fill-rule=\"evenodd\" fill-opacity=\"1\" stroke=\"none\"/>\n",
       "<circle clip-path=\"url(#clip732)\" cx=\"1802.86\" cy=\"1281.88\" r=\"14.4\" fill=\"#000000\" fill-rule=\"evenodd\" fill-opacity=\"1\" stroke=\"none\"/>\n",
       "<circle clip-path=\"url(#clip732)\" cx=\"1843.69\" cy=\"1236.29\" r=\"14.4\" fill=\"#000000\" fill-rule=\"evenodd\" fill-opacity=\"1\" stroke=\"none\"/>\n",
       "<circle clip-path=\"url(#clip732)\" cx=\"1884.51\" cy=\"1274.54\" r=\"14.4\" fill=\"#000000\" fill-rule=\"evenodd\" fill-opacity=\"1\" stroke=\"none\"/>\n",
       "<circle clip-path=\"url(#clip732)\" cx=\"1925.34\" cy=\"1251.94\" r=\"14.4\" fill=\"#000000\" fill-rule=\"evenodd\" fill-opacity=\"1\" stroke=\"none\"/>\n",
       "<circle clip-path=\"url(#clip732)\" cx=\"1966.16\" cy=\"1244.96\" r=\"14.4\" fill=\"#000000\" fill-rule=\"evenodd\" fill-opacity=\"1\" stroke=\"none\"/>\n",
       "<circle clip-path=\"url(#clip732)\" cx=\"2006.98\" cy=\"1234\" r=\"14.4\" fill=\"#000000\" fill-rule=\"evenodd\" fill-opacity=\"1\" stroke=\"none\"/>\n",
       "<circle clip-path=\"url(#clip732)\" cx=\"2047.81\" cy=\"1282.94\" r=\"14.4\" fill=\"#000000\" fill-rule=\"evenodd\" fill-opacity=\"1\" stroke=\"none\"/>\n",
       "<circle clip-path=\"url(#clip732)\" cx=\"2088.63\" cy=\"1264.19\" r=\"14.4\" fill=\"#000000\" fill-rule=\"evenodd\" fill-opacity=\"1\" stroke=\"none\"/>\n",
       "<circle clip-path=\"url(#clip732)\" cx=\"2129.45\" cy=\"1227.81\" r=\"14.4\" fill=\"#000000\" fill-rule=\"evenodd\" fill-opacity=\"1\" stroke=\"none\"/>\n",
       "<circle clip-path=\"url(#clip732)\" cx=\"2170.28\" cy=\"1228.64\" r=\"14.4\" fill=\"#000000\" fill-rule=\"evenodd\" fill-opacity=\"1\" stroke=\"none\"/>\n",
       "<circle clip-path=\"url(#clip732)\" cx=\"2211.1\" cy=\"1256.14\" r=\"14.4\" fill=\"#000000\" fill-rule=\"evenodd\" fill-opacity=\"1\" stroke=\"none\"/>\n",
       "<circle clip-path=\"url(#clip732)\" cx=\"2251.92\" cy=\"1283.6\" r=\"14.4\" fill=\"#000000\" fill-rule=\"evenodd\" fill-opacity=\"1\" stroke=\"none\"/>\n",
       "<circle clip-path=\"url(#clip732)\" cx=\"2292.75\" cy=\"1278.78\" r=\"14.4\" fill=\"#000000\" fill-rule=\"evenodd\" fill-opacity=\"1\" stroke=\"none\"/>\n",
       "<polyline clip-path=\"url(#clip732)\" style=\"stroke:#000000; stroke-linecap:round; stroke-linejoin:round; stroke-width:4; stroke-opacity:1; fill:none\" stroke-dasharray=\"16, 8, 2, 8\" points=\"292.4,1343.01 333.223,1338.43 374.046,1324.06 414.87,1314.21 455.693,1291.51 496.517,1268.75 537.34,1285.34 578.163,1253.99 618.987,1220.39 659.81,1237.26 700.634,1215.69 741.457,1183.42 782.28,1155.02 823.104,1209.39 863.927,1119.62 904.75,1107.51 945.574,1043.01 986.397,1028.23 1027.22,953.989 1068.04,851.988 1108.87,955.416 1149.69,976.515 1190.51,833.014 1231.34,757.586 1272.16,774.778 1312.98,769.658 1353.81,854.184 1394.63,781.497 1435.45,758.749 1476.28,794.318 1517.1,651.405 1557.92,895.45 1598.75,509.675 1639.57,423.257 1680.39,743.722 1721.22,551.366 1762.04,476.281 1802.86,446.46 1843.69,431.13 1884.51,86.1857 1925.34,474.278 1966.16,339.945 2006.98,399.558 2047.81,471.313 2088.63,516.829 2129.45,265.964 2170.28,210.935 2211.1,280.161 2251.92,507.428 2292.75,372.984 \"/>\n",
       "<path clip-path=\"url(#clip732)\" d=\"M280.4 1331.01 L280.4 1355.01 L304.4 1355.01 L304.4 1331.01 L280.4 1331.01 Z\" fill=\"#000000\" fill-rule=\"evenodd\" fill-opacity=\"1\" stroke=\"none\"/>\n",
       "<path clip-path=\"url(#clip732)\" d=\"M321.223 1326.43 L321.223 1350.43 L345.223 1350.43 L345.223 1326.43 L321.223 1326.43 Z\" fill=\"#000000\" fill-rule=\"evenodd\" fill-opacity=\"1\" stroke=\"none\"/>\n",
       "<path clip-path=\"url(#clip732)\" d=\"M362.046 1312.06 L362.046 1336.06 L386.046 1336.06 L386.046 1312.06 L362.046 1312.06 Z\" fill=\"#000000\" fill-rule=\"evenodd\" fill-opacity=\"1\" stroke=\"none\"/>\n",
       "<path clip-path=\"url(#clip732)\" d=\"M402.87 1302.21 L402.87 1326.21 L426.87 1326.21 L426.87 1302.21 L402.87 1302.21 Z\" fill=\"#000000\" fill-rule=\"evenodd\" fill-opacity=\"1\" stroke=\"none\"/>\n",
       "<path clip-path=\"url(#clip732)\" d=\"M443.693 1279.51 L443.693 1303.51 L467.693 1303.51 L467.693 1279.51 L443.693 1279.51 Z\" fill=\"#000000\" fill-rule=\"evenodd\" fill-opacity=\"1\" stroke=\"none\"/>\n",
       "<path clip-path=\"url(#clip732)\" d=\"M484.517 1256.75 L484.517 1280.75 L508.517 1280.75 L508.517 1256.75 L484.517 1256.75 Z\" fill=\"#000000\" fill-rule=\"evenodd\" fill-opacity=\"1\" stroke=\"none\"/>\n",
       "<path clip-path=\"url(#clip732)\" d=\"M525.34 1273.34 L525.34 1297.34 L549.34 1297.34 L549.34 1273.34 L525.34 1273.34 Z\" fill=\"#000000\" fill-rule=\"evenodd\" fill-opacity=\"1\" stroke=\"none\"/>\n",
       "<path clip-path=\"url(#clip732)\" d=\"M566.163 1241.99 L566.163 1265.99 L590.163 1265.99 L590.163 1241.99 L566.163 1241.99 Z\" fill=\"#000000\" fill-rule=\"evenodd\" fill-opacity=\"1\" stroke=\"none\"/>\n",
       "<path clip-path=\"url(#clip732)\" d=\"M606.987 1208.39 L606.987 1232.39 L630.987 1232.39 L630.987 1208.39 L606.987 1208.39 Z\" fill=\"#000000\" fill-rule=\"evenodd\" fill-opacity=\"1\" stroke=\"none\"/>\n",
       "<path clip-path=\"url(#clip732)\" d=\"M647.81 1225.26 L647.81 1249.26 L671.81 1249.26 L671.81 1225.26 L647.81 1225.26 Z\" fill=\"#000000\" fill-rule=\"evenodd\" fill-opacity=\"1\" stroke=\"none\"/>\n",
       "<path clip-path=\"url(#clip732)\" d=\"M688.634 1203.69 L688.634 1227.69 L712.634 1227.69 L712.634 1203.69 L688.634 1203.69 Z\" fill=\"#000000\" fill-rule=\"evenodd\" fill-opacity=\"1\" stroke=\"none\"/>\n",
       "<path clip-path=\"url(#clip732)\" d=\"M729.457 1171.42 L729.457 1195.42 L753.457 1195.42 L753.457 1171.42 L729.457 1171.42 Z\" fill=\"#000000\" fill-rule=\"evenodd\" fill-opacity=\"1\" stroke=\"none\"/>\n",
       "<path clip-path=\"url(#clip732)\" d=\"M770.28 1143.02 L770.28 1167.02 L794.28 1167.02 L794.28 1143.02 L770.28 1143.02 Z\" fill=\"#000000\" fill-rule=\"evenodd\" fill-opacity=\"1\" stroke=\"none\"/>\n",
       "<path clip-path=\"url(#clip732)\" d=\"M811.104 1197.39 L811.104 1221.39 L835.104 1221.39 L835.104 1197.39 L811.104 1197.39 Z\" fill=\"#000000\" fill-rule=\"evenodd\" fill-opacity=\"1\" stroke=\"none\"/>\n",
       "<path clip-path=\"url(#clip732)\" d=\"M851.927 1107.62 L851.927 1131.62 L875.927 1131.62 L875.927 1107.62 L851.927 1107.62 Z\" fill=\"#000000\" fill-rule=\"evenodd\" fill-opacity=\"1\" stroke=\"none\"/>\n",
       "<path clip-path=\"url(#clip732)\" d=\"M892.75 1095.51 L892.75 1119.51 L916.75 1119.51 L916.75 1095.51 L892.75 1095.51 Z\" fill=\"#000000\" fill-rule=\"evenodd\" fill-opacity=\"1\" stroke=\"none\"/>\n",
       "<path clip-path=\"url(#clip732)\" d=\"M933.574 1031.01 L933.574 1055.01 L957.574 1055.01 L957.574 1031.01 L933.574 1031.01 Z\" fill=\"#000000\" fill-rule=\"evenodd\" fill-opacity=\"1\" stroke=\"none\"/>\n",
       "<path clip-path=\"url(#clip732)\" d=\"M974.397 1016.23 L974.397 1040.23 L998.397 1040.23 L998.397 1016.23 L974.397 1016.23 Z\" fill=\"#000000\" fill-rule=\"evenodd\" fill-opacity=\"1\" stroke=\"none\"/>\n",
       "<path clip-path=\"url(#clip732)\" d=\"M1015.22 941.989 L1015.22 965.989 L1039.22 965.989 L1039.22 941.989 L1015.22 941.989 Z\" fill=\"#000000\" fill-rule=\"evenodd\" fill-opacity=\"1\" stroke=\"none\"/>\n",
       "<path clip-path=\"url(#clip732)\" d=\"M1056.04 839.988 L1056.04 863.988 L1080.04 863.988 L1080.04 839.988 L1056.04 839.988 Z\" fill=\"#000000\" fill-rule=\"evenodd\" fill-opacity=\"1\" stroke=\"none\"/>\n",
       "<path clip-path=\"url(#clip732)\" d=\"M1096.87 943.416 L1096.87 967.416 L1120.87 967.416 L1120.87 943.416 L1096.87 943.416 Z\" fill=\"#000000\" fill-rule=\"evenodd\" fill-opacity=\"1\" stroke=\"none\"/>\n",
       "<path clip-path=\"url(#clip732)\" d=\"M1137.69 964.515 L1137.69 988.515 L1161.69 988.515 L1161.69 964.515 L1137.69 964.515 Z\" fill=\"#000000\" fill-rule=\"evenodd\" fill-opacity=\"1\" stroke=\"none\"/>\n",
       "<path clip-path=\"url(#clip732)\" d=\"M1178.51 821.014 L1178.51 845.014 L1202.51 845.014 L1202.51 821.014 L1178.51 821.014 Z\" fill=\"#000000\" fill-rule=\"evenodd\" fill-opacity=\"1\" stroke=\"none\"/>\n",
       "<path clip-path=\"url(#clip732)\" d=\"M1219.34 745.586 L1219.34 769.586 L1243.34 769.586 L1243.34 745.586 L1219.34 745.586 Z\" fill=\"#000000\" fill-rule=\"evenodd\" fill-opacity=\"1\" stroke=\"none\"/>\n",
       "<path clip-path=\"url(#clip732)\" d=\"M1260.16 762.778 L1260.16 786.778 L1284.16 786.778 L1284.16 762.778 L1260.16 762.778 Z\" fill=\"#000000\" fill-rule=\"evenodd\" fill-opacity=\"1\" stroke=\"none\"/>\n",
       "<path clip-path=\"url(#clip732)\" d=\"M1300.98 757.658 L1300.98 781.658 L1324.98 781.658 L1324.98 757.658 L1300.98 757.658 Z\" fill=\"#000000\" fill-rule=\"evenodd\" fill-opacity=\"1\" stroke=\"none\"/>\n",
       "<path clip-path=\"url(#clip732)\" d=\"M1341.81 842.184 L1341.81 866.184 L1365.81 866.184 L1365.81 842.184 L1341.81 842.184 Z\" fill=\"#000000\" fill-rule=\"evenodd\" fill-opacity=\"1\" stroke=\"none\"/>\n",
       "<path clip-path=\"url(#clip732)\" d=\"M1382.63 769.497 L1382.63 793.497 L1406.63 793.497 L1406.63 769.497 L1382.63 769.497 Z\" fill=\"#000000\" fill-rule=\"evenodd\" fill-opacity=\"1\" stroke=\"none\"/>\n",
       "<path clip-path=\"url(#clip732)\" d=\"M1423.45 746.749 L1423.45 770.749 L1447.45 770.749 L1447.45 746.749 L1423.45 746.749 Z\" fill=\"#000000\" fill-rule=\"evenodd\" fill-opacity=\"1\" stroke=\"none\"/>\n",
       "<path clip-path=\"url(#clip732)\" d=\"M1464.28 782.318 L1464.28 806.318 L1488.28 806.318 L1488.28 782.318 L1464.28 782.318 Z\" fill=\"#000000\" fill-rule=\"evenodd\" fill-opacity=\"1\" stroke=\"none\"/>\n",
       "<path clip-path=\"url(#clip732)\" d=\"M1505.1 639.405 L1505.1 663.405 L1529.1 663.405 L1529.1 639.405 L1505.1 639.405 Z\" fill=\"#000000\" fill-rule=\"evenodd\" fill-opacity=\"1\" stroke=\"none\"/>\n",
       "<path clip-path=\"url(#clip732)\" d=\"M1545.92 883.45 L1545.92 907.45 L1569.92 907.45 L1569.92 883.45 L1545.92 883.45 Z\" fill=\"#000000\" fill-rule=\"evenodd\" fill-opacity=\"1\" stroke=\"none\"/>\n",
       "<path clip-path=\"url(#clip732)\" d=\"M1586.75 497.675 L1586.75 521.675 L1610.75 521.675 L1610.75 497.675 L1586.75 497.675 Z\" fill=\"#000000\" fill-rule=\"evenodd\" fill-opacity=\"1\" stroke=\"none\"/>\n",
       "<path clip-path=\"url(#clip732)\" d=\"M1627.57 411.257 L1627.57 435.257 L1651.57 435.257 L1651.57 411.257 L1627.57 411.257 Z\" fill=\"#000000\" fill-rule=\"evenodd\" fill-opacity=\"1\" stroke=\"none\"/>\n",
       "<path clip-path=\"url(#clip732)\" d=\"M1668.39 731.722 L1668.39 755.722 L1692.39 755.722 L1692.39 731.722 L1668.39 731.722 Z\" fill=\"#000000\" fill-rule=\"evenodd\" fill-opacity=\"1\" stroke=\"none\"/>\n",
       "<path clip-path=\"url(#clip732)\" d=\"M1709.22 539.366 L1709.22 563.366 L1733.22 563.366 L1733.22 539.366 L1709.22 539.366 Z\" fill=\"#000000\" fill-rule=\"evenodd\" fill-opacity=\"1\" stroke=\"none\"/>\n",
       "<path clip-path=\"url(#clip732)\" d=\"M1750.04 464.281 L1750.04 488.281 L1774.04 488.281 L1774.04 464.281 L1750.04 464.281 Z\" fill=\"#000000\" fill-rule=\"evenodd\" fill-opacity=\"1\" stroke=\"none\"/>\n",
       "<path clip-path=\"url(#clip732)\" d=\"M1790.86 434.46 L1790.86 458.46 L1814.86 458.46 L1814.86 434.46 L1790.86 434.46 Z\" fill=\"#000000\" fill-rule=\"evenodd\" fill-opacity=\"1\" stroke=\"none\"/>\n",
       "<path clip-path=\"url(#clip732)\" d=\"M1831.69 419.13 L1831.69 443.13 L1855.69 443.13 L1855.69 419.13 L1831.69 419.13 Z\" fill=\"#000000\" fill-rule=\"evenodd\" fill-opacity=\"1\" stroke=\"none\"/>\n",
       "<path clip-path=\"url(#clip732)\" d=\"M1872.51 74.1857 L1872.51 98.1857 L1896.51 98.1857 L1896.51 74.1857 L1872.51 74.1857 Z\" fill=\"#000000\" fill-rule=\"evenodd\" fill-opacity=\"1\" stroke=\"none\"/>\n",
       "<path clip-path=\"url(#clip732)\" d=\"M1913.34 462.278 L1913.34 486.278 L1937.34 486.278 L1937.34 462.278 L1913.34 462.278 Z\" fill=\"#000000\" fill-rule=\"evenodd\" fill-opacity=\"1\" stroke=\"none\"/>\n",
       "<path clip-path=\"url(#clip732)\" d=\"M1954.16 327.945 L1954.16 351.945 L1978.16 351.945 L1978.16 327.945 L1954.16 327.945 Z\" fill=\"#000000\" fill-rule=\"evenodd\" fill-opacity=\"1\" stroke=\"none\"/>\n",
       "<path clip-path=\"url(#clip732)\" d=\"M1994.98 387.558 L1994.98 411.558 L2018.98 411.558 L2018.98 387.558 L1994.98 387.558 Z\" fill=\"#000000\" fill-rule=\"evenodd\" fill-opacity=\"1\" stroke=\"none\"/>\n",
       "<path clip-path=\"url(#clip732)\" d=\"M2035.81 459.313 L2035.81 483.313 L2059.81 483.313 L2059.81 459.313 L2035.81 459.313 Z\" fill=\"#000000\" fill-rule=\"evenodd\" fill-opacity=\"1\" stroke=\"none\"/>\n",
       "<path clip-path=\"url(#clip732)\" d=\"M2076.63 504.829 L2076.63 528.829 L2100.63 528.829 L2100.63 504.829 L2076.63 504.829 Z\" fill=\"#000000\" fill-rule=\"evenodd\" fill-opacity=\"1\" stroke=\"none\"/>\n",
       "<path clip-path=\"url(#clip732)\" d=\"M2117.45 253.964 L2117.45 277.964 L2141.45 277.964 L2141.45 253.964 L2117.45 253.964 Z\" fill=\"#000000\" fill-rule=\"evenodd\" fill-opacity=\"1\" stroke=\"none\"/>\n",
       "<path clip-path=\"url(#clip732)\" d=\"M2158.28 198.935 L2158.28 222.935 L2182.28 222.935 L2182.28 198.935 L2158.28 198.935 Z\" fill=\"#000000\" fill-rule=\"evenodd\" fill-opacity=\"1\" stroke=\"none\"/>\n",
       "<path clip-path=\"url(#clip732)\" d=\"M2199.1 268.161 L2199.1 292.161 L2223.1 292.161 L2223.1 268.161 L2199.1 268.161 Z\" fill=\"#000000\" fill-rule=\"evenodd\" fill-opacity=\"1\" stroke=\"none\"/>\n",
       "<path clip-path=\"url(#clip732)\" d=\"M2239.92 495.428 L2239.92 519.428 L2263.92 519.428 L2263.92 495.428 L2239.92 495.428 Z\" fill=\"#000000\" fill-rule=\"evenodd\" fill-opacity=\"1\" stroke=\"none\"/>\n",
       "<path clip-path=\"url(#clip732)\" d=\"M2280.75 360.984 L2280.75 384.984 L2304.75 384.984 L2304.75 360.984 L2280.75 360.984 Z\" fill=\"#000000\" fill-rule=\"evenodd\" fill-opacity=\"1\" stroke=\"none\"/>\n",
       "<path clip-path=\"url(#clip730)\" d=\"M303.068 248.629 L811.747 248.629 L811.747 93.1086 L303.068 93.1086  Z\" fill=\"#ffffff\" fill-rule=\"evenodd\" fill-opacity=\"1\"/>\n",
       "<polyline clip-path=\"url(#clip730)\" style=\"stroke:#000000; stroke-linecap:round; stroke-linejoin:round; stroke-width:4; stroke-opacity:1; fill:none\" points=\"303.068,248.629 811.747,248.629 811.747,93.1086 303.068,93.1086 303.068,248.629 \"/>\n",
       "<polyline clip-path=\"url(#clip730)\" style=\"stroke:#000000; stroke-linecap:round; stroke-linejoin:round; stroke-width:4; stroke-opacity:1; fill:none\" points=\"326.628,144.949 467.986,144.949 \"/>\n",
       "<circle clip-path=\"url(#clip730)\" cx=\"397.307\" cy=\"144.949\" r=\"19.633\" fill=\"#000000\" fill-rule=\"evenodd\" fill-opacity=\"1\" stroke=\"none\"/>\n",
       "<path clip-path=\"url(#clip730)\" d=\"M511.892 141.28 Q513.49 138.409 515.712 137.044 Q517.934 135.678 520.943 135.678 Q524.994 135.678 527.193 138.525 Q529.392 141.349 529.392 146.581 L529.392 162.229 L525.11 162.229 L525.11 146.719 Q525.11 142.993 523.79 141.187 Q522.471 139.382 519.763 139.382 Q516.453 139.382 514.531 141.581 Q512.61 143.78 512.61 147.576 L512.61 162.229 L508.328 162.229 L508.328 146.719 Q508.328 142.969 507.008 141.187 Q505.689 139.382 502.934 139.382 Q499.67 139.382 497.749 141.604 Q495.828 143.803 495.828 147.576 L495.828 162.229 L491.545 162.229 L491.545 136.303 L495.828 136.303 L495.828 140.331 Q497.286 137.946 499.323 136.812 Q501.36 135.678 504.161 135.678 Q506.985 135.678 508.953 137.113 Q510.943 138.548 511.892 141.28 Z\" fill=\"#000000\" fill-rule=\"evenodd\" fill-opacity=\"1\" /><path clip-path=\"url(#clip730)\" d=\"M547.934 139.289 Q544.508 139.289 542.517 141.974 Q540.526 144.636 540.526 149.289 Q540.526 153.942 542.494 156.627 Q544.485 159.289 547.934 159.289 Q551.337 159.289 553.327 156.604 Q555.318 153.918 555.318 149.289 Q555.318 144.682 553.327 141.997 Q551.337 139.289 547.934 139.289 M547.934 135.678 Q553.489 135.678 556.661 139.289 Q559.832 142.9 559.832 149.289 Q559.832 155.655 556.661 159.289 Q553.489 162.9 547.934 162.9 Q542.355 162.9 539.184 159.289 Q536.036 155.655 536.036 149.289 Q536.036 142.9 539.184 139.289 Q542.355 135.678 547.934 135.678 Z\" fill=\"#000000\" fill-rule=\"evenodd\" fill-opacity=\"1\" /><path clip-path=\"url(#clip730)\" d=\"M588.443 146.581 L588.443 162.229 L584.184 162.229 L584.184 146.719 Q584.184 143.039 582.748 141.21 Q581.313 139.382 578.443 139.382 Q574.994 139.382 573.003 141.581 Q571.012 143.78 571.012 147.576 L571.012 162.229 L566.73 162.229 L566.73 136.303 L571.012 136.303 L571.012 140.331 Q572.54 137.993 574.6 136.835 Q576.684 135.678 579.392 135.678 Q583.86 135.678 586.151 138.456 Q588.443 141.21 588.443 146.581 Z\" fill=\"#000000\" fill-rule=\"evenodd\" fill-opacity=\"1\" /><path clip-path=\"url(#clip730)\" d=\"M606.984 139.289 Q603.559 139.289 601.568 141.974 Q599.577 144.636 599.577 149.289 Q599.577 153.942 601.545 156.627 Q603.535 159.289 606.984 159.289 Q610.387 159.289 612.378 156.604 Q614.369 153.918 614.369 149.289 Q614.369 144.682 612.378 141.997 Q610.387 139.289 606.984 139.289 M606.984 135.678 Q612.54 135.678 615.711 139.289 Q618.883 142.9 618.883 149.289 Q618.883 155.655 615.711 159.289 Q612.54 162.9 606.984 162.9 Q601.406 162.9 598.235 159.289 Q595.086 155.655 595.086 149.289 Q595.086 142.9 598.235 139.289 Q601.406 135.678 606.984 135.678 Z\" fill=\"#000000\" fill-rule=\"evenodd\" fill-opacity=\"1\" /><path clip-path=\"url(#clip730)\" d=\"M625.943 126.21 L630.202 126.21 L630.202 162.229 L625.943 162.229 L625.943 126.21 Z\" fill=\"#000000\" fill-rule=\"evenodd\" fill-opacity=\"1\" /><path clip-path=\"url(#clip730)\" d=\"M639.114 136.303 L643.373 136.303 L643.373 162.229 L639.114 162.229 L639.114 136.303 M639.114 126.21 L643.373 126.21 L643.373 131.604 L639.114 131.604 L639.114 126.21 Z\" fill=\"#000000\" fill-rule=\"evenodd\" fill-opacity=\"1\" /><path clip-path=\"url(#clip730)\" d=\"M656.498 128.942 L656.498 136.303 L665.271 136.303 L665.271 139.613 L656.498 139.613 L656.498 153.687 Q656.498 156.858 657.355 157.761 Q658.234 158.664 660.896 158.664 L665.271 158.664 L665.271 162.229 L660.896 162.229 Q655.966 162.229 654.091 160.4 Q652.216 158.548 652.216 153.687 L652.216 139.613 L649.091 139.613 L649.091 136.303 L652.216 136.303 L652.216 128.942 L656.498 128.942 Z\" fill=\"#000000\" fill-rule=\"evenodd\" fill-opacity=\"1\" /><path clip-path=\"url(#clip730)\" d=\"M692.424 146.581 L692.424 162.229 L688.165 162.229 L688.165 146.719 Q688.165 143.039 686.729 141.21 Q685.294 139.382 682.424 139.382 Q678.975 139.382 676.984 141.581 Q674.993 143.78 674.993 147.576 L674.993 162.229 L670.711 162.229 L670.711 126.21 L674.993 126.21 L674.993 140.331 Q676.521 137.993 678.581 136.835 Q680.665 135.678 683.373 135.678 Q687.841 135.678 690.132 138.456 Q692.424 141.21 692.424 146.581 Z\" fill=\"#000000\" fill-rule=\"evenodd\" fill-opacity=\"1\" /><path clip-path=\"url(#clip730)\" d=\"M700.919 136.303 L705.178 136.303 L705.178 162.229 L700.919 162.229 L700.919 136.303 M700.919 126.21 L705.178 126.21 L705.178 131.604 L700.919 131.604 L700.919 126.21 Z\" fill=\"#000000\" fill-rule=\"evenodd\" fill-opacity=\"1\" /><path clip-path=\"url(#clip730)\" d=\"M732.748 137.298 L732.748 141.28 Q730.942 140.284 729.113 139.798 Q727.308 139.289 725.456 139.289 Q721.313 139.289 719.021 141.928 Q716.729 144.544 716.729 149.289 Q716.729 154.034 719.021 156.673 Q721.313 159.289 725.456 159.289 Q727.308 159.289 729.113 158.803 Q730.942 158.293 732.748 157.298 L732.748 161.233 Q730.965 162.067 729.044 162.483 Q727.146 162.9 724.993 162.9 Q719.137 162.9 715.688 159.219 Q712.239 155.539 712.239 149.289 Q712.239 142.946 715.711 139.312 Q719.206 135.678 725.271 135.678 Q727.238 135.678 729.113 136.095 Q730.988 136.488 732.748 137.298 Z\" fill=\"#000000\" fill-rule=\"evenodd\" fill-opacity=\"1\" /><polyline clip-path=\"url(#clip730)\" style=\"stroke:#000000; stroke-linecap:round; stroke-linejoin:round; stroke-width:4; stroke-opacity:1; fill:none\" stroke-dasharray=\"16, 8, 2, 8\" points=\"326.628,196.789 467.986,196.789 \"/>\n",
       "<path clip-path=\"url(#clip730)\" d=\"M375.492 174.974 L375.492 218.603 L419.121 218.603 L419.121 174.974 L375.492 174.974 Z\" fill=\"#000000\" fill-rule=\"evenodd\" fill-opacity=\"1\" stroke=\"none\"/>\n",
       "<path clip-path=\"url(#clip730)\" d=\"M510.457 192.078 L510.457 178.05 L514.716 178.05 L514.716 214.069 L510.457 214.069 L510.457 210.18 Q509.115 212.495 507.054 213.629 Q505.017 214.74 502.147 214.74 Q497.448 214.74 494.485 210.99 Q491.545 207.24 491.545 201.129 Q491.545 195.018 494.485 191.268 Q497.448 187.518 502.147 187.518 Q505.017 187.518 507.054 188.652 Q509.115 189.763 510.457 192.078 M495.943 201.129 Q495.943 205.828 497.865 208.513 Q499.809 211.175 503.189 211.175 Q506.568 211.175 508.513 208.513 Q510.457 205.828 510.457 201.129 Q510.457 196.43 508.513 193.768 Q506.568 191.083 503.189 191.083 Q499.809 191.083 497.865 193.768 Q495.943 196.43 495.943 201.129 Z\" fill=\"#000000\" fill-rule=\"evenodd\" fill-opacity=\"1\" /><path clip-path=\"url(#clip730)\" d=\"M545.665 200.041 L545.665 202.124 L526.082 202.124 Q526.36 206.522 528.721 208.837 Q531.105 211.129 535.341 211.129 Q537.795 211.129 540.087 210.527 Q542.401 209.925 544.67 208.721 L544.67 212.749 Q542.378 213.721 539.971 214.231 Q537.564 214.74 535.087 214.74 Q528.883 214.74 525.249 211.129 Q521.638 207.518 521.638 201.36 Q521.638 194.995 525.064 191.268 Q528.513 187.518 534.346 187.518 Q539.577 187.518 542.61 190.897 Q545.665 194.254 545.665 200.041 M541.406 198.791 Q541.36 195.296 539.439 193.212 Q537.54 191.129 534.392 191.129 Q530.827 191.129 528.675 193.143 Q526.545 195.157 526.221 198.814 L541.406 198.791 Z\" fill=\"#000000\" fill-rule=\"evenodd\" fill-opacity=\"1\" /><path clip-path=\"url(#clip730)\" d=\"M571.313 189.138 L571.313 193.12 Q569.508 192.124 567.679 191.638 Q565.874 191.129 564.022 191.129 Q559.878 191.129 557.587 193.768 Q555.295 196.384 555.295 201.129 Q555.295 205.874 557.587 208.513 Q559.878 211.129 564.022 211.129 Q565.874 211.129 567.679 210.643 Q569.508 210.133 571.313 209.138 L571.313 213.073 Q569.531 213.907 567.61 214.323 Q565.712 214.74 563.559 214.74 Q557.702 214.74 554.253 211.059 Q550.804 207.379 550.804 201.129 Q550.804 194.786 554.276 191.152 Q557.772 187.518 563.837 187.518 Q565.804 187.518 567.679 187.935 Q569.554 188.328 571.313 189.138 Z\" fill=\"#000000\" fill-rule=\"evenodd\" fill-opacity=\"1\" /><path clip-path=\"url(#clip730)\" d=\"M588.767 191.129 Q585.341 191.129 583.35 193.814 Q581.36 196.476 581.36 201.129 Q581.36 205.782 583.327 208.467 Q585.318 211.129 588.767 211.129 Q592.17 211.129 594.16 208.444 Q596.151 205.758 596.151 201.129 Q596.151 196.522 594.16 193.837 Q592.17 191.129 588.767 191.129 M588.767 187.518 Q594.322 187.518 597.494 191.129 Q600.665 194.74 600.665 201.129 Q600.665 207.495 597.494 211.129 Q594.322 214.74 588.767 214.74 Q583.188 214.74 580.017 211.129 Q576.869 207.495 576.869 201.129 Q576.869 194.74 580.017 191.129 Q583.188 187.518 588.767 187.518 Z\" fill=\"#000000\" fill-rule=\"evenodd\" fill-opacity=\"1\" /><path clip-path=\"url(#clip730)\" d=\"M627.91 193.12 Q629.507 190.249 631.73 188.884 Q633.952 187.518 636.961 187.518 Q641.012 187.518 643.211 190.365 Q645.41 193.189 645.41 198.421 L645.41 214.069 L641.128 214.069 L641.128 198.559 Q641.128 194.833 639.808 193.027 Q638.489 191.222 635.781 191.222 Q632.47 191.222 630.549 193.421 Q628.628 195.62 628.628 199.416 L628.628 214.069 L624.345 214.069 L624.345 198.559 Q624.345 194.809 623.026 193.027 Q621.707 191.222 618.952 191.222 Q615.688 191.222 613.767 193.444 Q611.846 195.643 611.846 199.416 L611.846 214.069 L607.563 214.069 L607.563 188.143 L611.846 188.143 L611.846 192.171 Q613.304 189.786 615.341 188.652 Q617.378 187.518 620.179 187.518 Q623.003 187.518 624.97 188.953 Q626.961 190.388 627.91 193.12 Z\" fill=\"#000000\" fill-rule=\"evenodd\" fill-opacity=\"1\" /><path clip-path=\"url(#clip730)\" d=\"M658.026 210.18 L658.026 223.93 L653.743 223.93 L653.743 188.143 L658.026 188.143 L658.026 192.078 Q659.368 189.763 661.405 188.652 Q663.466 187.518 666.313 187.518 Q671.035 187.518 673.975 191.268 Q676.938 195.018 676.938 201.129 Q676.938 207.24 673.975 210.99 Q671.035 214.74 666.313 214.74 Q663.466 214.74 661.405 213.629 Q659.368 212.495 658.026 210.18 M672.517 201.129 Q672.517 196.43 670.572 193.768 Q668.651 191.083 665.271 191.083 Q661.892 191.083 659.947 193.768 Q658.026 196.43 658.026 201.129 Q658.026 205.828 659.947 208.513 Q661.892 211.175 665.271 211.175 Q668.651 211.175 670.572 208.513 Q672.517 205.828 672.517 201.129 Z\" fill=\"#000000\" fill-rule=\"evenodd\" fill-opacity=\"1\" /><path clip-path=\"url(#clip730)\" d=\"M694.044 191.129 Q690.618 191.129 688.628 193.814 Q686.637 196.476 686.637 201.129 Q686.637 205.782 688.604 208.467 Q690.595 211.129 694.044 211.129 Q697.447 211.129 699.438 208.444 Q701.428 205.758 701.428 201.129 Q701.428 196.522 699.438 193.837 Q697.447 191.129 694.044 191.129 M694.044 187.518 Q699.6 187.518 702.771 191.129 Q705.942 194.74 705.942 201.129 Q705.942 207.495 702.771 211.129 Q699.6 214.74 694.044 214.74 Q688.466 214.74 685.294 211.129 Q682.146 207.495 682.146 201.129 Q682.146 194.74 685.294 191.129 Q688.466 187.518 694.044 187.518 Z\" fill=\"#000000\" fill-rule=\"evenodd\" fill-opacity=\"1\" /><path clip-path=\"url(#clip730)\" d=\"M729.53 188.907 L729.53 192.934 Q727.725 192.009 725.78 191.546 Q723.836 191.083 721.752 191.083 Q718.581 191.083 716.984 192.055 Q715.41 193.027 715.41 194.971 Q715.41 196.453 716.544 197.309 Q717.678 198.143 721.104 198.907 L722.563 199.231 Q727.1 200.203 728.998 201.985 Q730.919 203.745 730.919 206.916 Q730.919 210.527 728.049 212.633 Q725.201 214.74 720.201 214.74 Q718.118 214.74 715.85 214.323 Q713.604 213.93 711.104 213.12 L711.104 208.721 Q713.465 209.948 715.757 210.573 Q718.049 211.175 720.294 211.175 Q723.303 211.175 724.924 210.157 Q726.544 209.115 726.544 207.24 Q726.544 205.504 725.363 204.578 Q724.206 203.652 720.248 202.796 L718.766 202.448 Q714.808 201.615 713.049 199.902 Q711.289 198.166 711.289 195.157 Q711.289 191.499 713.882 189.509 Q716.475 187.518 721.243 187.518 Q723.604 187.518 725.688 187.865 Q727.771 188.212 729.53 188.907 Z\" fill=\"#000000\" fill-rule=\"evenodd\" fill-opacity=\"1\" /><path clip-path=\"url(#clip730)\" d=\"M759.877 200.041 L759.877 202.124 L740.294 202.124 Q740.572 206.522 742.933 208.837 Q745.317 211.129 749.553 211.129 Q752.007 211.129 754.298 210.527 Q756.613 209.925 758.882 208.721 L758.882 212.749 Q756.59 213.721 754.183 214.231 Q751.775 214.74 749.299 214.74 Q743.095 214.74 739.461 211.129 Q735.85 207.518 735.85 201.36 Q735.85 194.995 739.275 191.268 Q742.724 187.518 748.558 187.518 Q753.789 187.518 756.822 190.897 Q759.877 194.254 759.877 200.041 M755.618 198.791 Q755.572 195.296 753.65 193.212 Q751.752 191.129 748.604 191.129 Q745.039 191.129 742.887 193.143 Q740.757 195.157 740.433 198.814 L755.618 198.791 Z\" fill=\"#000000\" fill-rule=\"evenodd\" fill-opacity=\"1\" /><path clip-path=\"url(#clip730)\" d=\"M783.928 192.078 L783.928 178.05 L788.187 178.05 L788.187 214.069 L783.928 214.069 L783.928 210.18 Q782.585 212.495 780.525 213.629 Q778.488 214.74 775.618 214.74 Q770.919 214.74 767.956 210.99 Q765.016 207.24 765.016 201.129 Q765.016 195.018 767.956 191.268 Q770.919 187.518 775.618 187.518 Q778.488 187.518 780.525 188.652 Q782.585 189.763 783.928 192.078 M769.414 201.129 Q769.414 205.828 771.335 208.513 Q773.28 211.175 776.659 211.175 Q780.039 211.175 781.984 208.513 Q783.928 205.828 783.928 201.129 Q783.928 196.43 781.984 193.768 Q780.039 191.083 776.659 191.083 Q773.28 191.083 771.335 193.768 Q769.414 196.43 769.414 201.129 Z\" fill=\"#000000\" fill-rule=\"evenodd\" fill-opacity=\"1\" /></svg>\n"
      ]
     },
     "metadata": {},
     "output_type": "display_data"
    }
   ],
   "source": [
    "# solution time\n",
    "p5 = plot(1:nReactMax,solTimeTraj_r[1,:],\n",
    "    xlabel=\"# reactors\",\n",
    "    ylabel=\"sol. time [s]\",\n",
    "    marker=:circle,\n",
    "    markercolor = :black,\n",
    "    linecolor = :black,\n",
    "    label=\"monolithic\")\n",
    "\n",
    "p5 = plot!(1:nReactMax,solTimeTraj_r[2,:],\n",
    "    marker=:square, \n",
    "    markercolor = :black,\n",
    "    linecolor = :black,\n",
    "    markersize = 3,\n",
    "    linestyle = :dashdot,\n",
    "    label=\"decomposed\",\n",
    "    gridlinewidth=2,\n",
    "    dpi=600)\n",
    "\n",
    "display(p5)\n",
    "savefig(p5,\"C:/Users/MACC-Jose/Documents/Canada/Papers/Benders Decomposition/Figures/C2_SolTime.pdf\");"
   ]
  },
  {
   "cell_type": "code",
   "execution_count": 37,
   "id": "8ae803c4",
   "metadata": {},
   "outputs": [
    {
     "data": {
      "image/svg+xml": [
       "<?xml version=\"1.0\" encoding=\"utf-8\"?>\n",
       "<svg xmlns=\"http://www.w3.org/2000/svg\" xmlns:xlink=\"http://www.w3.org/1999/xlink\" width=\"600\" height=\"400\" viewBox=\"0 0 2400 1600\">\n",
       "<defs>\n",
       "  <clipPath id=\"clip980\">\n",
       "    <rect x=\"0\" y=\"0\" width=\"2400\" height=\"1600\"/>\n",
       "  </clipPath>\n",
       "</defs>\n",
       "<path clip-path=\"url(#clip980)\" d=\"M0 1600 L2400 1600 L2400 0 L0 0  Z\" fill=\"#ffffff\" fill-rule=\"evenodd\" fill-opacity=\"1\"/>\n",
       "<defs>\n",
       "  <clipPath id=\"clip981\">\n",
       "    <rect x=\"480\" y=\"0\" width=\"1681\" height=\"1600\"/>\n",
       "  </clipPath>\n",
       "</defs>\n",
       "<path clip-path=\"url(#clip980)\" d=\"M205.121 1423.18 L2352.76 1423.18 L2352.76 47.2441 L205.121 47.2441  Z\" fill=\"#ffffff\" fill-rule=\"evenodd\" fill-opacity=\"1\"/>\n",
       "<defs>\n",
       "  <clipPath id=\"clip982\">\n",
       "    <rect x=\"205\" y=\"47\" width=\"2149\" height=\"1377\"/>\n",
       "  </clipPath>\n",
       "</defs>\n",
       "<polyline clip-path=\"url(#clip982)\" style=\"stroke:#000000; stroke-linecap:round; stroke-linejoin:round; stroke-width:8; stroke-opacity:0.1; fill:none\" points=\"224.555,1423.18 224.555,47.2441 \"/>\n",
       "<polyline clip-path=\"url(#clip982)\" style=\"stroke:#000000; stroke-linecap:round; stroke-linejoin:round; stroke-width:8; stroke-opacity:0.1; fill:none\" points=\"638.039,1423.18 638.039,47.2441 \"/>\n",
       "<polyline clip-path=\"url(#clip982)\" style=\"stroke:#000000; stroke-linecap:round; stroke-linejoin:round; stroke-width:8; stroke-opacity:0.1; fill:none\" points=\"1051.52,1423.18 1051.52,47.2441 \"/>\n",
       "<polyline clip-path=\"url(#clip982)\" style=\"stroke:#000000; stroke-linecap:round; stroke-linejoin:round; stroke-width:8; stroke-opacity:0.1; fill:none\" points=\"1465.01,1423.18 1465.01,47.2441 \"/>\n",
       "<polyline clip-path=\"url(#clip982)\" style=\"stroke:#000000; stroke-linecap:round; stroke-linejoin:round; stroke-width:8; stroke-opacity:0.1; fill:none\" points=\"1878.49,1423.18 1878.49,47.2441 \"/>\n",
       "<polyline clip-path=\"url(#clip982)\" style=\"stroke:#000000; stroke-linecap:round; stroke-linejoin:round; stroke-width:8; stroke-opacity:0.1; fill:none\" points=\"2291.97,1423.18 2291.97,47.2441 \"/>\n",
       "<polyline clip-path=\"url(#clip980)\" style=\"stroke:#000000; stroke-linecap:round; stroke-linejoin:round; stroke-width:4; stroke-opacity:1; fill:none\" points=\"205.121,1423.18 2352.76,1423.18 \"/>\n",
       "<polyline clip-path=\"url(#clip980)\" style=\"stroke:#000000; stroke-linecap:round; stroke-linejoin:round; stroke-width:4; stroke-opacity:1; fill:none\" points=\"224.555,1423.18 224.555,1404.28 \"/>\n",
       "<polyline clip-path=\"url(#clip980)\" style=\"stroke:#000000; stroke-linecap:round; stroke-linejoin:round; stroke-width:4; stroke-opacity:1; fill:none\" points=\"638.039,1423.18 638.039,1404.28 \"/>\n",
       "<polyline clip-path=\"url(#clip980)\" style=\"stroke:#000000; stroke-linecap:round; stroke-linejoin:round; stroke-width:4; stroke-opacity:1; fill:none\" points=\"1051.52,1423.18 1051.52,1404.28 \"/>\n",
       "<polyline clip-path=\"url(#clip980)\" style=\"stroke:#000000; stroke-linecap:round; stroke-linejoin:round; stroke-width:4; stroke-opacity:1; fill:none\" points=\"1465.01,1423.18 1465.01,1404.28 \"/>\n",
       "<polyline clip-path=\"url(#clip980)\" style=\"stroke:#000000; stroke-linecap:round; stroke-linejoin:round; stroke-width:4; stroke-opacity:1; fill:none\" points=\"1878.49,1423.18 1878.49,1404.28 \"/>\n",
       "<polyline clip-path=\"url(#clip980)\" style=\"stroke:#000000; stroke-linecap:round; stroke-linejoin:round; stroke-width:4; stroke-opacity:1; fill:none\" points=\"2291.97,1423.18 2291.97,1404.28 \"/>\n",
       "<path clip-path=\"url(#clip980)\" d=\"M224.555 1454.1 Q220.944 1454.1 219.115 1457.66 Q217.309 1461.2 217.309 1468.33 Q217.309 1475.44 219.115 1479.01 Q220.944 1482.55 224.555 1482.55 Q228.189 1482.55 229.994 1479.01 Q231.823 1475.44 231.823 1468.33 Q231.823 1461.2 229.994 1457.66 Q228.189 1454.1 224.555 1454.1 M224.555 1450.39 Q230.365 1450.39 233.42 1455 Q236.499 1459.58 236.499 1468.33 Q236.499 1477.06 233.42 1481.67 Q230.365 1486.25 224.555 1486.25 Q218.745 1486.25 215.666 1481.67 Q212.61 1477.06 212.61 1468.33 Q212.61 1459.58 215.666 1455 Q218.745 1450.39 224.555 1450.39 Z\" fill=\"#000000\" fill-rule=\"evenodd\" fill-opacity=\"1\" /><path clip-path=\"url(#clip980)\" d=\"M612.726 1481.64 L620.365 1481.64 L620.365 1455.28 L612.055 1456.95 L612.055 1452.69 L620.319 1451.02 L624.995 1451.02 L624.995 1481.64 L632.633 1481.64 L632.633 1485.58 L612.726 1485.58 L612.726 1481.64 Z\" fill=\"#000000\" fill-rule=\"evenodd\" fill-opacity=\"1\" /><path clip-path=\"url(#clip980)\" d=\"M652.078 1454.1 Q648.467 1454.1 646.638 1457.66 Q644.832 1461.2 644.832 1468.33 Q644.832 1475.44 646.638 1479.01 Q648.467 1482.55 652.078 1482.55 Q655.712 1482.55 657.518 1479.01 Q659.346 1475.44 659.346 1468.33 Q659.346 1461.2 657.518 1457.66 Q655.712 1454.1 652.078 1454.1 M652.078 1450.39 Q657.888 1450.39 660.943 1455 Q664.022 1459.58 664.022 1468.33 Q664.022 1477.06 660.943 1481.67 Q657.888 1486.25 652.078 1486.25 Q646.268 1486.25 643.189 1481.67 Q640.133 1477.06 640.133 1468.33 Q640.133 1459.58 643.189 1455 Q646.268 1450.39 652.078 1450.39 Z\" fill=\"#000000\" fill-rule=\"evenodd\" fill-opacity=\"1\" /><path clip-path=\"url(#clip980)\" d=\"M1030.3 1481.64 L1046.61 1481.64 L1046.61 1485.58 L1024.67 1485.58 L1024.67 1481.64 Q1027.33 1478.89 1031.92 1474.26 Q1036.52 1469.61 1037.7 1468.27 Q1039.95 1465.74 1040.83 1464.01 Q1041.73 1462.25 1041.73 1460.56 Q1041.73 1457.8 1039.79 1456.07 Q1037.87 1454.33 1034.76 1454.33 Q1032.56 1454.33 1030.11 1455.09 Q1027.68 1455.86 1024.9 1457.41 L1024.9 1452.69 Q1027.73 1451.55 1030.18 1450.97 Q1032.63 1450.39 1034.67 1450.39 Q1040.04 1450.39 1043.24 1453.08 Q1046.43 1455.77 1046.43 1460.26 Q1046.43 1462.39 1045.62 1464.31 Q1044.83 1466.2 1042.73 1468.8 Q1042.15 1469.47 1039.05 1472.69 Q1035.94 1475.88 1030.3 1481.64 Z\" fill=\"#000000\" fill-rule=\"evenodd\" fill-opacity=\"1\" /><path clip-path=\"url(#clip980)\" d=\"M1066.43 1454.1 Q1062.82 1454.1 1060.99 1457.66 Q1059.18 1461.2 1059.18 1468.33 Q1059.18 1475.44 1060.99 1479.01 Q1062.82 1482.55 1066.43 1482.55 Q1070.06 1482.55 1071.87 1479.01 Q1073.7 1475.44 1073.7 1468.33 Q1073.7 1461.2 1071.87 1457.66 Q1070.06 1454.1 1066.43 1454.1 M1066.43 1450.39 Q1072.24 1450.39 1075.3 1455 Q1078.37 1459.58 1078.37 1468.33 Q1078.37 1477.06 1075.3 1481.67 Q1072.24 1486.25 1066.43 1486.25 Q1060.62 1486.25 1057.54 1481.67 Q1054.49 1477.06 1054.49 1468.33 Q1054.49 1459.58 1057.54 1455 Q1060.62 1450.39 1066.43 1450.39 Z\" fill=\"#000000\" fill-rule=\"evenodd\" fill-opacity=\"1\" /><path clip-path=\"url(#clip980)\" d=\"M1453.85 1466.95 Q1457.21 1467.66 1459.08 1469.93 Q1460.98 1472.2 1460.98 1475.53 Q1460.98 1480.65 1457.46 1483.45 Q1453.94 1486.25 1447.46 1486.25 Q1445.28 1486.25 1442.97 1485.81 Q1440.68 1485.39 1438.22 1484.54 L1438.22 1480.02 Q1440.17 1481.16 1442.48 1481.74 Q1444.8 1482.32 1447.32 1482.32 Q1451.72 1482.32 1454.01 1480.58 Q1456.33 1478.84 1456.33 1475.53 Q1456.33 1472.48 1454.17 1470.77 Q1452.04 1469.03 1448.22 1469.03 L1444.2 1469.03 L1444.2 1465.19 L1448.41 1465.19 Q1451.86 1465.19 1453.69 1463.82 Q1455.52 1462.43 1455.52 1459.84 Q1455.52 1457.18 1453.62 1455.77 Q1451.74 1454.33 1448.22 1454.33 Q1446.3 1454.33 1444.1 1454.75 Q1441.9 1455.16 1439.27 1456.04 L1439.27 1451.88 Q1441.93 1451.14 1444.24 1450.77 Q1446.58 1450.39 1448.64 1450.39 Q1453.96 1450.39 1457.07 1452.83 Q1460.17 1455.23 1460.17 1459.35 Q1460.17 1462.22 1458.52 1464.21 Q1456.88 1466.18 1453.85 1466.95 Z\" fill=\"#000000\" fill-rule=\"evenodd\" fill-opacity=\"1\" /><path clip-path=\"url(#clip980)\" d=\"M1479.84 1454.1 Q1476.23 1454.1 1474.4 1457.66 Q1472.6 1461.2 1472.6 1468.33 Q1472.6 1475.44 1474.4 1479.01 Q1476.23 1482.55 1479.84 1482.55 Q1483.48 1482.55 1485.28 1479.01 Q1487.11 1475.44 1487.11 1468.33 Q1487.11 1461.2 1485.28 1457.66 Q1483.48 1454.1 1479.84 1454.1 M1479.84 1450.39 Q1485.65 1450.39 1488.71 1455 Q1491.79 1459.58 1491.79 1468.33 Q1491.79 1477.06 1488.71 1481.67 Q1485.65 1486.25 1479.84 1486.25 Q1474.03 1486.25 1470.96 1481.67 Q1467.9 1477.06 1467.9 1468.33 Q1467.9 1459.58 1470.96 1455 Q1474.03 1450.39 1479.84 1450.39 Z\" fill=\"#000000\" fill-rule=\"evenodd\" fill-opacity=\"1\" /><path clip-path=\"url(#clip980)\" d=\"M1866.66 1455.09 L1854.86 1473.54 L1866.66 1473.54 L1866.66 1455.09 M1865.43 1451.02 L1871.31 1451.02 L1871.31 1473.54 L1876.24 1473.54 L1876.24 1477.43 L1871.31 1477.43 L1871.31 1485.58 L1866.66 1485.58 L1866.66 1477.43 L1851.06 1477.43 L1851.06 1472.92 L1865.43 1451.02 Z\" fill=\"#000000\" fill-rule=\"evenodd\" fill-opacity=\"1\" /><path clip-path=\"url(#clip980)\" d=\"M1893.98 1454.1 Q1890.36 1454.1 1888.54 1457.66 Q1886.73 1461.2 1886.73 1468.33 Q1886.73 1475.44 1888.54 1479.01 Q1890.36 1482.55 1893.98 1482.55 Q1897.61 1482.55 1899.42 1479.01 Q1901.24 1475.44 1901.24 1468.33 Q1901.24 1461.2 1899.42 1457.66 Q1897.61 1454.1 1893.98 1454.1 M1893.98 1450.39 Q1899.79 1450.39 1902.84 1455 Q1905.92 1459.58 1905.92 1468.33 Q1905.92 1477.06 1902.84 1481.67 Q1899.79 1486.25 1893.98 1486.25 Q1888.17 1486.25 1885.09 1481.67 Q1882.03 1477.06 1882.03 1468.33 Q1882.03 1459.58 1885.09 1455 Q1888.17 1450.39 1893.98 1450.39 Z\" fill=\"#000000\" fill-rule=\"evenodd\" fill-opacity=\"1\" /><path clip-path=\"url(#clip980)\" d=\"M2266.67 1451.02 L2285.03 1451.02 L2285.03 1454.96 L2270.96 1454.96 L2270.96 1463.43 Q2271.97 1463.08 2272.99 1462.92 Q2274.01 1462.73 2275.03 1462.73 Q2280.82 1462.73 2284.2 1465.9 Q2287.58 1469.08 2287.58 1474.49 Q2287.58 1480.07 2284.1 1483.17 Q2280.63 1486.25 2274.31 1486.25 Q2272.14 1486.25 2269.87 1485.88 Q2267.62 1485.51 2265.21 1484.77 L2265.21 1480.07 Q2267.3 1481.2 2269.52 1481.76 Q2271.74 1482.32 2274.22 1482.32 Q2278.22 1482.32 2280.56 1480.21 Q2282.9 1478.1 2282.9 1474.49 Q2282.9 1470.88 2280.56 1468.77 Q2278.22 1466.67 2274.22 1466.67 Q2272.34 1466.67 2270.47 1467.08 Q2268.62 1467.5 2266.67 1468.38 L2266.67 1451.02 Z\" fill=\"#000000\" fill-rule=\"evenodd\" fill-opacity=\"1\" /><path clip-path=\"url(#clip980)\" d=\"M2306.79 1454.1 Q2303.18 1454.1 2301.35 1457.66 Q2299.54 1461.2 2299.54 1468.33 Q2299.54 1475.44 2301.35 1479.01 Q2303.18 1482.55 2306.79 1482.55 Q2310.42 1482.55 2312.23 1479.01 Q2314.06 1475.44 2314.06 1468.33 Q2314.06 1461.2 2312.23 1457.66 Q2310.42 1454.1 2306.79 1454.1 M2306.79 1450.39 Q2312.6 1450.39 2315.65 1455 Q2318.73 1459.58 2318.73 1468.33 Q2318.73 1477.06 2315.65 1481.67 Q2312.6 1486.25 2306.79 1486.25 Q2300.98 1486.25 2297.9 1481.67 Q2294.84 1477.06 2294.84 1468.33 Q2294.84 1459.58 2297.9 1455 Q2300.98 1450.39 2306.79 1450.39 Z\" fill=\"#000000\" fill-rule=\"evenodd\" fill-opacity=\"1\" /><path clip-path=\"url(#clip980)\" d=\"M1139.94 1539.37 L1130.68 1539.37 L1128.01 1550 L1137.33 1550 L1139.94 1539.37 M1135.17 1521.26 L1131.86 1534.46 L1141.15 1534.46 L1144.49 1521.26 L1149.59 1521.26 L1146.31 1534.46 L1156.24 1534.46 L1156.24 1539.37 L1145.07 1539.37 L1142.46 1550 L1152.58 1550 L1152.58 1554.87 L1141.22 1554.87 L1137.91 1568.04 L1132.81 1568.04 L1136.09 1554.87 L1126.77 1554.87 L1123.49 1568.04 L1118.36 1568.04 L1121.67 1554.87 L1111.65 1554.87 L1111.65 1550 L1122.85 1550 L1125.52 1539.37 L1115.28 1539.37 L1115.28 1534.46 L1126.77 1534.46 L1130.01 1521.26 L1135.17 1521.26 Z\" fill=\"#000000\" fill-rule=\"evenodd\" fill-opacity=\"1\" /><path clip-path=\"url(#clip980)\" d=\"M1208.76 1537.87 Q1207.77 1537.3 1206.59 1537.04 Q1205.45 1536.76 1204.05 1536.76 Q1199.08 1536.76 1196.41 1540 Q1193.77 1543.22 1193.77 1549.27 L1193.77 1568.04 L1187.88 1568.04 L1187.88 1532.4 L1193.77 1532.4 L1193.77 1537.93 Q1195.61 1534.69 1198.57 1533.13 Q1201.53 1531.54 1205.76 1531.54 Q1206.37 1531.54 1207.1 1531.63 Q1207.83 1531.7 1208.72 1531.85 L1208.76 1537.87 Z\" fill=\"#000000\" fill-rule=\"evenodd\" fill-opacity=\"1\" /><path clip-path=\"url(#clip980)\" d=\"M1243.96 1548.76 L1243.96 1551.62 L1217.03 1551.62 Q1217.41 1557.67 1220.66 1560.85 Q1223.94 1564 1229.76 1564 Q1233.14 1564 1236.29 1563.17 Q1239.47 1562.35 1242.59 1560.69 L1242.59 1566.23 Q1239.44 1567.57 1236.13 1568.27 Q1232.82 1568.97 1229.41 1568.97 Q1220.88 1568.97 1215.89 1564 Q1210.92 1559.04 1210.92 1550.57 Q1210.92 1541.82 1215.63 1536.69 Q1220.37 1531.54 1228.39 1531.54 Q1235.59 1531.54 1239.76 1536.18 Q1243.96 1540.8 1243.96 1548.76 M1238.1 1547.04 Q1238.04 1542.23 1235.4 1539.37 Q1232.79 1536.5 1228.46 1536.5 Q1223.56 1536.5 1220.6 1539.27 Q1217.67 1542.04 1217.22 1547.07 L1238.1 1547.04 Z\" fill=\"#000000\" fill-rule=\"evenodd\" fill-opacity=\"1\" /><path clip-path=\"url(#clip980)\" d=\"M1269.77 1550.12 Q1262.67 1550.12 1259.94 1551.75 Q1257.2 1553.37 1257.2 1557.29 Q1257.2 1560.4 1259.24 1562.25 Q1261.31 1564.07 1264.84 1564.07 Q1269.71 1564.07 1272.64 1560.63 Q1275.6 1557.16 1275.6 1551.43 L1275.6 1550.12 L1269.77 1550.12 M1281.45 1547.71 L1281.45 1568.04 L1275.6 1568.04 L1275.6 1562.63 Q1273.59 1565.88 1270.6 1567.44 Q1267.61 1568.97 1263.28 1568.97 Q1257.8 1568.97 1254.56 1565.91 Q1251.34 1562.82 1251.34 1557.67 Q1251.34 1551.65 1255.35 1548.6 Q1259.4 1545.54 1267.38 1545.54 L1275.6 1545.54 L1275.6 1544.97 Q1275.6 1540.93 1272.92 1538.73 Q1270.28 1536.5 1265.47 1536.5 Q1262.42 1536.5 1259.52 1537.23 Q1256.63 1537.97 1253.95 1539.43 L1253.95 1534.02 Q1257.17 1532.78 1260.19 1532.17 Q1263.22 1531.54 1266.08 1531.54 Q1273.81 1531.54 1277.63 1535.55 Q1281.45 1539.56 1281.45 1547.71 Z\" fill=\"#000000\" fill-rule=\"evenodd\" fill-opacity=\"1\" /><path clip-path=\"url(#clip980)\" d=\"M1319.17 1533.76 L1319.17 1539.24 Q1316.69 1537.87 1314.17 1537.2 Q1311.69 1536.5 1309.14 1536.5 Q1303.45 1536.5 1300.3 1540.13 Q1297.14 1543.73 1297.14 1550.25 Q1297.14 1556.78 1300.3 1560.4 Q1303.45 1564 1309.14 1564 Q1311.69 1564 1314.17 1563.33 Q1316.69 1562.63 1319.17 1561.26 L1319.17 1566.68 Q1316.72 1567.82 1314.08 1568.39 Q1311.47 1568.97 1308.51 1568.97 Q1300.45 1568.97 1295.71 1563.91 Q1290.97 1558.85 1290.97 1550.25 Q1290.97 1541.53 1295.74 1536.53 Q1300.55 1531.54 1308.89 1531.54 Q1311.59 1531.54 1314.17 1532.11 Q1316.75 1532.65 1319.17 1533.76 Z\" fill=\"#000000\" fill-rule=\"evenodd\" fill-opacity=\"1\" /><path clip-path=\"url(#clip980)\" d=\"M1335.15 1522.27 L1335.15 1532.4 L1347.21 1532.4 L1347.21 1536.95 L1335.15 1536.95 L1335.15 1556.3 Q1335.15 1560.66 1336.33 1561.9 Q1337.53 1563.14 1341.2 1563.14 L1347.21 1563.14 L1347.21 1568.04 L1341.2 1568.04 Q1334.42 1568.04 1331.84 1565.53 Q1329.26 1562.98 1329.26 1556.3 L1329.26 1536.95 L1324.96 1536.95 L1324.96 1532.4 L1329.26 1532.4 L1329.26 1522.27 L1335.15 1522.27 Z\" fill=\"#000000\" fill-rule=\"evenodd\" fill-opacity=\"1\" /><path clip-path=\"url(#clip980)\" d=\"M1368.73 1536.5 Q1364.02 1536.5 1361.28 1540.19 Q1358.54 1543.85 1358.54 1550.25 Q1358.54 1556.65 1361.25 1560.34 Q1363.98 1564 1368.73 1564 Q1373.41 1564 1376.14 1560.31 Q1378.88 1556.62 1378.88 1550.25 Q1378.88 1543.92 1376.14 1540.23 Q1373.41 1536.5 1368.73 1536.5 M1368.73 1531.54 Q1376.37 1531.54 1380.73 1536.5 Q1385.09 1541.47 1385.09 1550.25 Q1385.09 1559 1380.73 1564 Q1376.37 1568.97 1368.73 1568.97 Q1361.06 1568.97 1356.7 1564 Q1352.37 1559 1352.37 1550.25 Q1352.37 1541.47 1356.7 1536.5 Q1361.06 1531.54 1368.73 1531.54 Z\" fill=\"#000000\" fill-rule=\"evenodd\" fill-opacity=\"1\" /><path clip-path=\"url(#clip980)\" d=\"M1415.45 1537.87 Q1414.46 1537.3 1413.29 1537.04 Q1412.14 1536.76 1410.74 1536.76 Q1405.78 1536.76 1403.1 1540 Q1400.46 1543.22 1400.46 1549.27 L1400.46 1568.04 L1394.57 1568.04 L1394.57 1532.4 L1400.46 1532.4 L1400.46 1537.93 Q1402.31 1534.69 1405.27 1533.13 Q1408.23 1531.54 1412.46 1531.54 Q1413.06 1531.54 1413.8 1531.63 Q1414.53 1531.7 1415.42 1531.85 L1415.45 1537.87 Z\" fill=\"#000000\" fill-rule=\"evenodd\" fill-opacity=\"1\" /><path clip-path=\"url(#clip980)\" d=\"M1444.32 1533.45 L1444.32 1538.98 Q1441.84 1537.71 1439.16 1537.07 Q1436.49 1536.44 1433.63 1536.44 Q1429.26 1536.44 1427.07 1537.77 Q1424.9 1539.11 1424.9 1541.79 Q1424.9 1543.82 1426.46 1545 Q1428.02 1546.15 1432.73 1547.2 L1434.74 1547.64 Q1440.98 1548.98 1443.59 1551.43 Q1446.23 1553.85 1446.23 1558.21 Q1446.23 1563.17 1442.28 1566.07 Q1438.37 1568.97 1431.49 1568.97 Q1428.63 1568.97 1425.51 1568.39 Q1422.42 1567.85 1418.98 1566.74 L1418.98 1560.69 Q1422.23 1562.38 1425.38 1563.24 Q1428.53 1564.07 1431.62 1564.07 Q1435.76 1564.07 1437.99 1562.66 Q1440.21 1561.23 1440.21 1558.65 Q1440.21 1556.27 1438.59 1554.99 Q1437 1553.72 1431.56 1552.54 L1429.52 1552.07 Q1424.08 1550.92 1421.66 1548.56 Q1419.24 1546.18 1419.24 1542.04 Q1419.24 1537.01 1422.8 1534.27 Q1426.37 1531.54 1432.92 1531.54 Q1436.17 1531.54 1439.04 1532.01 Q1441.9 1532.49 1444.32 1533.45 Z\" fill=\"#000000\" fill-rule=\"evenodd\" fill-opacity=\"1\" /><polyline clip-path=\"url(#clip982)\" style=\"stroke:#000000; stroke-linecap:round; stroke-linejoin:round; stroke-width:8; stroke-opacity:0.1; fill:none\" points=\"205.121,1392.93 2352.76,1392.93 \"/>\n",
       "<polyline clip-path=\"url(#clip982)\" style=\"stroke:#000000; stroke-linecap:round; stroke-linejoin:round; stroke-width:8; stroke-opacity:0.1; fill:none\" points=\"205.121,1177.77 2352.76,1177.77 \"/>\n",
       "<polyline clip-path=\"url(#clip982)\" style=\"stroke:#000000; stroke-linecap:round; stroke-linejoin:round; stroke-width:8; stroke-opacity:0.1; fill:none\" points=\"205.121,962.606 2352.76,962.606 \"/>\n",
       "<polyline clip-path=\"url(#clip982)\" style=\"stroke:#000000; stroke-linecap:round; stroke-linejoin:round; stroke-width:8; stroke-opacity:0.1; fill:none\" points=\"205.121,747.444 2352.76,747.444 \"/>\n",
       "<polyline clip-path=\"url(#clip982)\" style=\"stroke:#000000; stroke-linecap:round; stroke-linejoin:round; stroke-width:8; stroke-opacity:0.1; fill:none\" points=\"205.121,532.282 2352.76,532.282 \"/>\n",
       "<polyline clip-path=\"url(#clip982)\" style=\"stroke:#000000; stroke-linecap:round; stroke-linejoin:round; stroke-width:8; stroke-opacity:0.1; fill:none\" points=\"205.121,317.119 2352.76,317.119 \"/>\n",
       "<polyline clip-path=\"url(#clip982)\" style=\"stroke:#000000; stroke-linecap:round; stroke-linejoin:round; stroke-width:8; stroke-opacity:0.1; fill:none\" points=\"205.121,101.957 2352.76,101.957 \"/>\n",
       "<polyline clip-path=\"url(#clip980)\" style=\"stroke:#000000; stroke-linecap:round; stroke-linejoin:round; stroke-width:4; stroke-opacity:1; fill:none\" points=\"205.121,1423.18 205.121,47.2441 \"/>\n",
       "<polyline clip-path=\"url(#clip980)\" style=\"stroke:#000000; stroke-linecap:round; stroke-linejoin:round; stroke-width:4; stroke-opacity:1; fill:none\" points=\"205.121,1392.93 224.019,1392.93 \"/>\n",
       "<polyline clip-path=\"url(#clip980)\" style=\"stroke:#000000; stroke-linecap:round; stroke-linejoin:round; stroke-width:4; stroke-opacity:1; fill:none\" points=\"205.121,1177.77 224.019,1177.77 \"/>\n",
       "<polyline clip-path=\"url(#clip980)\" style=\"stroke:#000000; stroke-linecap:round; stroke-linejoin:round; stroke-width:4; stroke-opacity:1; fill:none\" points=\"205.121,962.606 224.019,962.606 \"/>\n",
       "<polyline clip-path=\"url(#clip980)\" style=\"stroke:#000000; stroke-linecap:round; stroke-linejoin:round; stroke-width:4; stroke-opacity:1; fill:none\" points=\"205.121,747.444 224.019,747.444 \"/>\n",
       "<polyline clip-path=\"url(#clip980)\" style=\"stroke:#000000; stroke-linecap:round; stroke-linejoin:round; stroke-width:4; stroke-opacity:1; fill:none\" points=\"205.121,532.282 224.019,532.282 \"/>\n",
       "<polyline clip-path=\"url(#clip980)\" style=\"stroke:#000000; stroke-linecap:round; stroke-linejoin:round; stroke-width:4; stroke-opacity:1; fill:none\" points=\"205.121,317.119 224.019,317.119 \"/>\n",
       "<polyline clip-path=\"url(#clip980)\" style=\"stroke:#000000; stroke-linecap:round; stroke-linejoin:round; stroke-width:4; stroke-opacity:1; fill:none\" points=\"205.121,101.957 224.019,101.957 \"/>\n",
       "<path clip-path=\"url(#clip980)\" d=\"M157.177 1378.73 Q153.566 1378.73 151.737 1382.29 Q149.931 1385.84 149.931 1392.97 Q149.931 1400.07 151.737 1403.64 Q153.566 1407.18 157.177 1407.18 Q160.811 1407.18 162.616 1403.64 Q164.445 1400.07 164.445 1392.97 Q164.445 1385.84 162.616 1382.29 Q160.811 1378.73 157.177 1378.73 M157.177 1375.03 Q162.987 1375.03 166.042 1379.63 Q169.121 1384.22 169.121 1392.97 Q169.121 1401.69 166.042 1406.3 Q162.987 1410.88 157.177 1410.88 Q151.366 1410.88 148.288 1406.3 Q145.232 1401.69 145.232 1392.97 Q145.232 1384.22 148.288 1379.63 Q151.366 1375.03 157.177 1375.03 Z\" fill=\"#000000\" fill-rule=\"evenodd\" fill-opacity=\"1\" /><path clip-path=\"url(#clip980)\" d=\"M117.825 1191.11 L125.464 1191.11 L125.464 1164.75 L117.154 1166.41 L117.154 1162.16 L125.418 1160.49 L130.093 1160.49 L130.093 1191.11 L137.732 1191.11 L137.732 1195.05 L117.825 1195.05 L117.825 1191.11 Z\" fill=\"#000000\" fill-rule=\"evenodd\" fill-opacity=\"1\" /><path clip-path=\"url(#clip980)\" d=\"M157.177 1163.57 Q153.566 1163.57 151.737 1167.13 Q149.931 1170.67 149.931 1177.8 Q149.931 1184.91 151.737 1188.47 Q153.566 1192.02 157.177 1192.02 Q160.811 1192.02 162.616 1188.47 Q164.445 1184.91 164.445 1177.8 Q164.445 1170.67 162.616 1167.13 Q160.811 1163.57 157.177 1163.57 M157.177 1159.86 Q162.987 1159.86 166.042 1164.47 Q169.121 1169.05 169.121 1177.8 Q169.121 1186.53 166.042 1191.14 Q162.987 1195.72 157.177 1195.72 Q151.366 1195.72 148.288 1191.14 Q145.232 1186.53 145.232 1177.8 Q145.232 1169.05 148.288 1164.47 Q151.366 1159.86 157.177 1159.86 Z\" fill=\"#000000\" fill-rule=\"evenodd\" fill-opacity=\"1\" /><path clip-path=\"url(#clip980)\" d=\"M121.043 975.951 L137.362 975.951 L137.362 979.886 L115.418 979.886 L115.418 975.951 Q118.08 973.196 122.663 968.567 Q127.269 963.914 128.45 962.572 Q130.695 960.048 131.575 958.312 Q132.478 956.553 132.478 954.863 Q132.478 952.109 130.533 950.373 Q128.612 948.636 125.51 948.636 Q123.311 948.636 120.857 949.4 Q118.427 950.164 115.649 951.715 L115.649 946.993 Q118.473 945.859 120.927 945.28 Q123.38 944.701 125.418 944.701 Q130.788 944.701 133.982 947.386 Q137.177 950.072 137.177 954.562 Q137.177 956.692 136.367 958.613 Q135.579 960.511 133.473 963.104 Q132.894 963.775 129.792 966.993 Q126.691 970.187 121.043 975.951 Z\" fill=\"#000000\" fill-rule=\"evenodd\" fill-opacity=\"1\" /><path clip-path=\"url(#clip980)\" d=\"M157.177 948.405 Q153.566 948.405 151.737 951.97 Q149.931 955.511 149.931 962.641 Q149.931 969.747 151.737 973.312 Q153.566 976.854 157.177 976.854 Q160.811 976.854 162.616 973.312 Q164.445 969.747 164.445 962.641 Q164.445 955.511 162.616 951.97 Q160.811 948.405 157.177 948.405 M157.177 944.701 Q162.987 944.701 166.042 949.308 Q169.121 953.891 169.121 962.641 Q169.121 971.368 166.042 975.974 Q162.987 980.558 157.177 980.558 Q151.366 980.558 148.288 975.974 Q145.232 971.368 145.232 962.641 Q145.232 953.891 148.288 949.308 Q151.366 944.701 157.177 944.701 Z\" fill=\"#000000\" fill-rule=\"evenodd\" fill-opacity=\"1\" /><path clip-path=\"url(#clip980)\" d=\"M131.181 746.09 Q134.538 746.807 136.413 749.076 Q138.311 751.344 138.311 754.678 Q138.311 759.793 134.792 762.594 Q131.274 765.395 124.793 765.395 Q122.617 765.395 120.302 764.955 Q118.01 764.539 115.556 763.682 L115.556 759.168 Q117.501 760.303 119.816 760.881 Q122.13 761.46 124.654 761.46 Q129.052 761.46 131.343 759.724 Q133.658 757.988 133.658 754.678 Q133.658 751.622 131.505 749.909 Q129.376 748.173 125.556 748.173 L121.529 748.173 L121.529 744.331 L125.742 744.331 Q129.191 744.331 131.019 742.965 Q132.848 741.576 132.848 738.983 Q132.848 736.321 130.95 734.909 Q129.075 733.474 125.556 733.474 Q123.635 733.474 121.436 733.891 Q119.237 734.307 116.598 735.187 L116.598 731.02 Q119.26 730.28 121.575 729.909 Q123.913 729.539 125.973 729.539 Q131.297 729.539 134.399 731.969 Q137.501 734.377 137.501 738.497 Q137.501 741.368 135.857 743.358 Q134.214 745.326 131.181 746.09 Z\" fill=\"#000000\" fill-rule=\"evenodd\" fill-opacity=\"1\" /><path clip-path=\"url(#clip980)\" d=\"M157.177 733.243 Q153.566 733.243 151.737 736.807 Q149.931 740.349 149.931 747.479 Q149.931 754.585 151.737 758.15 Q153.566 761.692 157.177 761.692 Q160.811 761.692 162.616 758.15 Q164.445 754.585 164.445 747.479 Q164.445 740.349 162.616 736.807 Q160.811 733.243 157.177 733.243 M157.177 729.539 Q162.987 729.539 166.042 734.145 Q169.121 738.729 169.121 747.479 Q169.121 756.205 166.042 760.812 Q162.987 765.395 157.177 765.395 Q151.366 765.395 148.288 760.812 Q145.232 756.205 145.232 747.479 Q145.232 738.729 148.288 734.145 Q151.366 729.539 157.177 729.539 Z\" fill=\"#000000\" fill-rule=\"evenodd\" fill-opacity=\"1\" /><path clip-path=\"url(#clip980)\" d=\"M129.862 519.076 L118.056 537.525 L129.862 537.525 L129.862 519.076 M128.635 515.002 L134.515 515.002 L134.515 537.525 L139.445 537.525 L139.445 541.414 L134.515 541.414 L134.515 549.562 L129.862 549.562 L129.862 541.414 L114.26 541.414 L114.26 536.9 L128.635 515.002 Z\" fill=\"#000000\" fill-rule=\"evenodd\" fill-opacity=\"1\" /><path clip-path=\"url(#clip980)\" d=\"M157.177 518.08 Q153.566 518.08 151.737 521.645 Q149.931 525.187 149.931 532.316 Q149.931 539.423 151.737 542.988 Q153.566 546.529 157.177 546.529 Q160.811 546.529 162.616 542.988 Q164.445 539.423 164.445 532.316 Q164.445 525.187 162.616 521.645 Q160.811 518.08 157.177 518.08 M157.177 514.377 Q162.987 514.377 166.042 518.983 Q169.121 523.566 169.121 532.316 Q169.121 541.043 166.042 545.65 Q162.987 550.233 157.177 550.233 Q151.366 550.233 148.288 545.65 Q145.232 541.043 145.232 532.316 Q145.232 523.566 148.288 518.983 Q151.366 514.377 157.177 514.377 Z\" fill=\"#000000\" fill-rule=\"evenodd\" fill-opacity=\"1\" /><path clip-path=\"url(#clip980)\" d=\"M117.061 299.839 L135.417 299.839 L135.417 303.775 L121.343 303.775 L121.343 312.247 Q122.362 311.899 123.38 311.737 Q124.399 311.552 125.418 311.552 Q131.205 311.552 134.584 314.724 Q137.964 317.895 137.964 323.311 Q137.964 328.89 134.492 331.992 Q131.019 335.071 124.7 335.071 Q122.524 335.071 120.255 334.7 Q118.01 334.33 115.603 333.589 L115.603 328.89 Q117.686 330.024 119.908 330.58 Q122.13 331.135 124.607 331.135 Q128.612 331.135 130.95 329.029 Q133.288 326.923 133.288 323.311 Q133.288 319.7 130.95 317.594 Q128.612 315.487 124.607 315.487 Q122.732 315.487 120.857 315.904 Q119.006 316.321 117.061 317.2 L117.061 299.839 Z\" fill=\"#000000\" fill-rule=\"evenodd\" fill-opacity=\"1\" /><path clip-path=\"url(#clip980)\" d=\"M157.177 302.918 Q153.566 302.918 151.737 306.483 Q149.931 310.024 149.931 317.154 Q149.931 324.261 151.737 327.825 Q153.566 331.367 157.177 331.367 Q160.811 331.367 162.616 327.825 Q164.445 324.261 164.445 317.154 Q164.445 310.024 162.616 306.483 Q160.811 302.918 157.177 302.918 M157.177 299.214 Q162.987 299.214 166.042 303.821 Q169.121 308.404 169.121 317.154 Q169.121 325.881 166.042 330.487 Q162.987 335.071 157.177 335.071 Q151.366 335.071 148.288 330.487 Q145.232 325.881 145.232 317.154 Q145.232 308.404 148.288 303.821 Q151.366 299.214 157.177 299.214 Z\" fill=\"#000000\" fill-rule=\"evenodd\" fill-opacity=\"1\" /><path clip-path=\"url(#clip980)\" d=\"M127.593 100.094 Q124.445 100.094 122.593 102.246 Q120.765 104.399 120.765 108.149 Q120.765 111.876 122.593 114.052 Q124.445 116.205 127.593 116.205 Q130.742 116.205 132.57 114.052 Q134.422 111.876 134.422 108.149 Q134.422 104.399 132.57 102.246 Q130.742 100.094 127.593 100.094 M136.876 85.4409 L136.876 89.7002 Q135.117 88.8669 133.311 88.427 Q131.529 87.9872 129.769 87.9872 Q125.14 87.9872 122.686 91.1122 Q120.255 94.2372 119.908 100.557 Q121.274 98.5427 123.334 97.4779 Q125.394 96.39 127.871 96.39 Q133.08 96.39 136.089 99.5612 Q139.121 102.709 139.121 108.149 Q139.121 113.473 135.973 116.691 Q132.825 119.908 127.593 119.908 Q121.598 119.908 118.427 115.325 Q115.256 110.719 115.256 101.992 Q115.256 93.7974 119.144 88.9363 Q123.033 84.0521 129.584 84.0521 Q131.343 84.0521 133.126 84.3993 Q134.931 84.7465 136.876 85.4409 Z\" fill=\"#000000\" fill-rule=\"evenodd\" fill-opacity=\"1\" /><path clip-path=\"url(#clip980)\" d=\"M157.177 87.7558 Q153.566 87.7558 151.737 91.3205 Q149.931 94.8622 149.931 101.992 Q149.931 109.098 151.737 112.663 Q153.566 116.205 157.177 116.205 Q160.811 116.205 162.616 112.663 Q164.445 109.098 164.445 101.992 Q164.445 94.8622 162.616 91.3205 Q160.811 87.7558 157.177 87.7558 M157.177 84.0521 Q162.987 84.0521 166.042 88.6585 Q169.121 93.2418 169.121 101.992 Q169.121 110.719 166.042 115.325 Q162.987 119.908 157.177 119.908 Q151.366 119.908 148.288 115.325 Q145.232 110.719 145.232 101.992 Q145.232 93.2418 148.288 88.6585 Q151.366 84.0521 157.177 84.0521 Z\" fill=\"#000000\" fill-rule=\"evenodd\" fill-opacity=\"1\" /><path clip-path=\"url(#clip980)\" d=\"M29.4065 898.413 L34.9447 898.413 Q33.6716 900.895 33.035 903.569 Q32.3984 906.243 32.3984 909.107 Q32.3984 913.468 33.7352 915.664 Q35.072 917.828 37.7456 917.828 Q39.7826 917.828 40.9603 916.269 Q42.1061 914.709 43.1565 909.998 L43.6021 907.993 Q44.9389 901.755 47.3897 899.145 Q49.8086 896.503 54.1691 896.503 Q59.1344 896.503 62.0308 900.45 Q64.9272 904.365 64.9272 911.24 Q64.9272 914.104 64.3543 917.223 Q63.8132 920.311 62.6992 923.748 L56.6518 923.748 Q58.3387 920.502 59.198 917.351 Q60.0256 914.2 60.0256 911.112 Q60.0256 906.975 58.6251 904.747 Q57.1929 902.519 54.6147 902.519 Q52.2276 902.519 50.9545 904.142 Q49.6813 905.733 48.5037 911.176 L48.0262 913.213 Q46.8804 918.656 44.5251 921.075 Q42.138 923.494 38.0002 923.494 Q32.9713 923.494 30.2341 919.929 Q27.4968 916.364 27.4968 909.807 Q27.4968 906.561 27.9743 903.696 Q28.4517 900.832 29.4065 898.413 Z\" fill=\"#000000\" fill-rule=\"evenodd\" fill-opacity=\"1\" /><path clip-path=\"url(#clip980)\" d=\"M32.4621 873.364 Q32.4621 878.074 36.1542 880.812 Q39.8145 883.549 46.212 883.549 Q52.6095 883.549 56.3017 880.843 Q59.9619 878.106 59.9619 873.364 Q59.9619 868.685 56.2698 865.948 Q52.5777 863.21 46.212 863.21 Q39.8781 863.21 36.186 865.948 Q32.4621 868.685 32.4621 873.364 M27.4968 873.364 Q27.4968 865.725 32.4621 861.364 Q37.4273 857.004 46.212 857.004 Q54.9649 857.004 59.9619 861.364 Q64.9272 865.725 64.9272 873.364 Q64.9272 881.034 59.9619 885.395 Q54.9649 889.724 46.212 889.724 Q37.4273 889.724 32.4621 885.395 Q27.4968 881.034 27.4968 873.364 Z\" fill=\"#000000\" fill-rule=\"evenodd\" fill-opacity=\"1\" /><path clip-path=\"url(#clip980)\" d=\"M14.479 847.296 L14.479 841.44 L64.0042 841.44 L64.0042 847.296 L14.479 847.296 Z\" fill=\"#000000\" fill-rule=\"evenodd\" fill-opacity=\"1\" /><path clip-path=\"url(#clip980)\" d=\"M55.9197 828.358 L55.9197 821.642 L64.0042 821.642 L64.0042 828.358 L55.9197 828.358 Z\" fill=\"#000000\" fill-rule=\"evenodd\" fill-opacity=\"1\" /><path clip-path=\"url(#clip980)\" d=\"M18.2347 781.952 L28.3562 781.952 L28.3562 769.889 L32.9077 769.889 L32.9077 781.952 L52.2594 781.952 Q56.6199 781.952 57.8613 780.775 Q59.1026 779.565 59.1026 775.905 L59.1026 769.889 L64.0042 769.889 L64.0042 775.905 Q64.0042 782.684 61.4897 785.262 Q58.9434 787.84 52.2594 787.84 L32.9077 787.84 L32.9077 792.137 L28.3562 792.137 L28.3562 787.84 L18.2347 787.84 L18.2347 781.952 Z\" fill=\"#000000\" fill-rule=\"evenodd\" fill-opacity=\"1\" /><path clip-path=\"url(#clip980)\" d=\"M28.3562 762.187 L28.3562 756.33 L64.0042 756.33 L64.0042 762.187 L28.3562 762.187 M14.479 762.187 L14.479 756.33 L21.895 756.33 L21.895 762.187 L14.479 762.187 Z\" fill=\"#000000\" fill-rule=\"evenodd\" fill-opacity=\"1\" /><path clip-path=\"url(#clip980)\" d=\"M35.1993 716.322 Q31.2526 714.126 29.3747 711.07 Q27.4968 708.014 27.4968 703.877 Q27.4968 698.307 31.4117 695.283 Q35.2948 692.259 42.4881 692.259 L64.0042 692.259 L64.0042 698.148 L42.679 698.148 Q37.5546 698.148 35.072 699.962 Q32.5894 701.776 32.5894 705.5 Q32.5894 710.052 35.6131 712.693 Q38.6368 715.335 43.8567 715.335 L64.0042 715.335 L64.0042 721.223 L42.679 721.223 Q37.5228 721.223 35.072 723.038 Q32.5894 724.852 32.5894 728.639 Q32.5894 733.127 35.6449 735.769 Q38.6686 738.411 43.8567 738.411 L64.0042 738.411 L64.0042 744.299 L28.3562 744.299 L28.3562 738.411 L33.8944 738.411 Q30.616 736.406 29.0564 733.605 Q27.4968 730.804 27.4968 726.952 Q27.4968 723.069 29.4702 720.364 Q31.4436 717.627 35.1993 716.322 Z\" fill=\"#000000\" fill-rule=\"evenodd\" fill-opacity=\"1\" /><path clip-path=\"url(#clip980)\" d=\"M44.7161 650.087 L47.5806 650.087 L47.5806 677.013 Q53.6281 676.632 56.8109 673.385 Q59.9619 670.107 59.9619 664.282 Q59.9619 660.908 59.1344 657.757 Q58.3069 654.574 56.6518 651.455 L62.1899 651.455 Q63.5267 654.606 64.227 657.916 Q64.9272 661.227 64.9272 664.632 Q64.9272 673.162 59.9619 678.159 Q54.9967 683.125 46.5303 683.125 Q37.7774 683.125 32.6531 678.414 Q27.4968 673.671 27.4968 665.651 Q27.4968 658.457 32.1438 654.288 Q36.7589 650.087 44.7161 650.087 M42.9973 655.943 Q38.1912 656.007 35.3266 658.648 Q32.4621 661.258 32.4621 665.587 Q32.4621 670.489 35.2312 673.449 Q38.0002 676.377 43.0292 676.823 L42.9973 655.943 Z\" fill=\"#000000\" fill-rule=\"evenodd\" fill-opacity=\"1\" /><path clip-path=\"url(#clip980)\" d=\"M14.479 620.295 L14.479 606.8 L19.0304 606.8 L19.0304 614.439 L68.0464 614.439 L68.0464 606.8 L72.5979 606.8 L72.5979 620.295 L14.479 620.295 Z\" fill=\"#000000\" fill-rule=\"evenodd\" fill-opacity=\"1\" /><path clip-path=\"url(#clip980)\" d=\"M29.4065 571.597 L34.9447 571.597 Q33.6716 574.08 33.035 576.754 Q32.3984 579.427 32.3984 582.292 Q32.3984 586.652 33.7352 588.848 Q35.072 591.013 37.7456 591.013 Q39.7826 591.013 40.9603 589.453 Q42.1061 587.894 43.1565 583.183 L43.6021 581.178 Q44.9389 574.939 47.3897 572.329 Q49.8086 569.688 54.1691 569.688 Q59.1344 569.688 62.0308 573.634 Q64.9272 577.549 64.9272 584.424 Q64.9272 587.289 64.3543 590.408 Q63.8132 593.495 62.6992 596.933 L56.6518 596.933 Q58.3387 593.686 59.198 590.535 Q60.0256 587.384 60.0256 584.297 Q60.0256 580.159 58.6251 577.931 Q57.1929 575.703 54.6147 575.703 Q52.2276 575.703 50.9545 577.327 Q49.6813 578.918 48.5037 584.361 L48.0262 586.398 Q46.8804 591.84 44.5251 594.259 Q42.138 596.678 38.0002 596.678 Q32.9713 596.678 30.2341 593.113 Q27.4968 589.549 27.4968 582.992 Q27.4968 579.745 27.9743 576.881 Q28.4517 574.016 29.4065 571.597 Z\" fill=\"#000000\" fill-rule=\"evenodd\" fill-opacity=\"1\" /><path clip-path=\"url(#clip980)\" d=\"M14.479 546.676 L72.5979 546.676 L72.5979 560.171 L68.0464 560.171 L68.0464 552.564 L19.0304 552.564 L19.0304 560.171 L14.479 560.171 L14.479 546.676 Z\" fill=\"#000000\" fill-rule=\"evenodd\" fill-opacity=\"1\" /><polyline clip-path=\"url(#clip982)\" style=\"stroke:#000000; stroke-linecap:round; stroke-linejoin:round; stroke-width:4; stroke-opacity:1; fill:none\" points=\"265.903,1383.81 307.251,1384.24 348.6,1379.38 389.948,1369.28 431.297,1369.09 472.645,1369.11 513.993,1370.45 555.342,1360.83 596.69,1359.62 638.039,1334.84 679.387,1340.24 720.735,1345.44 762.084,1311.34 803.432,1338.04 844.78,1332.17 886.129,1309.49 927.477,1277.11 968.826,1308.11 1010.17,1304.95 1051.52,1283.13 1092.87,1304.43 1134.22,1286.3 1175.57,1277.24 1216.92,1240.73 1258.26,1257.7 1299.61,1242.7 1340.96,1278.14 1382.31,1265.04 1423.66,1228.57 1465.01,1207.33 1506.35,1221.55 1547.7,1180.46 1589.05,1196.9 1630.4,1202.68 1671.75,1201.39 1713.1,1137.73 1754.44,1251.25 1795.79,1166.6 1837.14,1069.65 1878.49,1150.98 1919.84,1102.94 1961.19,1088.09 2002.54,1064.79 2043.88,1168.86 2085.23,1128.99 2126.58,1051.62 2167.93,1053.38 2209.28,1111.86 2250.63,1170.26 2291.97,1160 \"/>\n",
       "<circle clip-path=\"url(#clip982)\" cx=\"265.903\" cy=\"1383.81\" r=\"14.4\" fill=\"#000000\" fill-rule=\"evenodd\" fill-opacity=\"1\" stroke=\"none\"/>\n",
       "<circle clip-path=\"url(#clip982)\" cx=\"307.251\" cy=\"1384.24\" r=\"14.4\" fill=\"#000000\" fill-rule=\"evenodd\" fill-opacity=\"1\" stroke=\"none\"/>\n",
       "<circle clip-path=\"url(#clip982)\" cx=\"348.6\" cy=\"1379.38\" r=\"14.4\" fill=\"#000000\" fill-rule=\"evenodd\" fill-opacity=\"1\" stroke=\"none\"/>\n",
       "<circle clip-path=\"url(#clip982)\" cx=\"389.948\" cy=\"1369.28\" r=\"14.4\" fill=\"#000000\" fill-rule=\"evenodd\" fill-opacity=\"1\" stroke=\"none\"/>\n",
       "<circle clip-path=\"url(#clip982)\" cx=\"431.297\" cy=\"1369.09\" r=\"14.4\" fill=\"#000000\" fill-rule=\"evenodd\" fill-opacity=\"1\" stroke=\"none\"/>\n",
       "<circle clip-path=\"url(#clip982)\" cx=\"472.645\" cy=\"1369.11\" r=\"14.4\" fill=\"#000000\" fill-rule=\"evenodd\" fill-opacity=\"1\" stroke=\"none\"/>\n",
       "<circle clip-path=\"url(#clip982)\" cx=\"513.993\" cy=\"1370.45\" r=\"14.4\" fill=\"#000000\" fill-rule=\"evenodd\" fill-opacity=\"1\" stroke=\"none\"/>\n",
       "<circle clip-path=\"url(#clip982)\" cx=\"555.342\" cy=\"1360.83\" r=\"14.4\" fill=\"#000000\" fill-rule=\"evenodd\" fill-opacity=\"1\" stroke=\"none\"/>\n",
       "<circle clip-path=\"url(#clip982)\" cx=\"596.69\" cy=\"1359.62\" r=\"14.4\" fill=\"#000000\" fill-rule=\"evenodd\" fill-opacity=\"1\" stroke=\"none\"/>\n",
       "<circle clip-path=\"url(#clip982)\" cx=\"638.039\" cy=\"1334.84\" r=\"14.4\" fill=\"#000000\" fill-rule=\"evenodd\" fill-opacity=\"1\" stroke=\"none\"/>\n",
       "<circle clip-path=\"url(#clip982)\" cx=\"679.387\" cy=\"1340.24\" r=\"14.4\" fill=\"#000000\" fill-rule=\"evenodd\" fill-opacity=\"1\" stroke=\"none\"/>\n",
       "<circle clip-path=\"url(#clip982)\" cx=\"720.735\" cy=\"1345.44\" r=\"14.4\" fill=\"#000000\" fill-rule=\"evenodd\" fill-opacity=\"1\" stroke=\"none\"/>\n",
       "<circle clip-path=\"url(#clip982)\" cx=\"762.084\" cy=\"1311.34\" r=\"14.4\" fill=\"#000000\" fill-rule=\"evenodd\" fill-opacity=\"1\" stroke=\"none\"/>\n",
       "<circle clip-path=\"url(#clip982)\" cx=\"803.432\" cy=\"1338.04\" r=\"14.4\" fill=\"#000000\" fill-rule=\"evenodd\" fill-opacity=\"1\" stroke=\"none\"/>\n",
       "<circle clip-path=\"url(#clip982)\" cx=\"844.78\" cy=\"1332.17\" r=\"14.4\" fill=\"#000000\" fill-rule=\"evenodd\" fill-opacity=\"1\" stroke=\"none\"/>\n",
       "<circle clip-path=\"url(#clip982)\" cx=\"886.129\" cy=\"1309.49\" r=\"14.4\" fill=\"#000000\" fill-rule=\"evenodd\" fill-opacity=\"1\" stroke=\"none\"/>\n",
       "<circle clip-path=\"url(#clip982)\" cx=\"927.477\" cy=\"1277.11\" r=\"14.4\" fill=\"#000000\" fill-rule=\"evenodd\" fill-opacity=\"1\" stroke=\"none\"/>\n",
       "<circle clip-path=\"url(#clip982)\" cx=\"968.826\" cy=\"1308.11\" r=\"14.4\" fill=\"#000000\" fill-rule=\"evenodd\" fill-opacity=\"1\" stroke=\"none\"/>\n",
       "<circle clip-path=\"url(#clip982)\" cx=\"1010.17\" cy=\"1304.95\" r=\"14.4\" fill=\"#000000\" fill-rule=\"evenodd\" fill-opacity=\"1\" stroke=\"none\"/>\n",
       "<circle clip-path=\"url(#clip982)\" cx=\"1051.52\" cy=\"1283.13\" r=\"14.4\" fill=\"#000000\" fill-rule=\"evenodd\" fill-opacity=\"1\" stroke=\"none\"/>\n",
       "<circle clip-path=\"url(#clip982)\" cx=\"1092.87\" cy=\"1304.43\" r=\"14.4\" fill=\"#000000\" fill-rule=\"evenodd\" fill-opacity=\"1\" stroke=\"none\"/>\n",
       "<circle clip-path=\"url(#clip982)\" cx=\"1134.22\" cy=\"1286.3\" r=\"14.4\" fill=\"#000000\" fill-rule=\"evenodd\" fill-opacity=\"1\" stroke=\"none\"/>\n",
       "<circle clip-path=\"url(#clip982)\" cx=\"1175.57\" cy=\"1277.24\" r=\"14.4\" fill=\"#000000\" fill-rule=\"evenodd\" fill-opacity=\"1\" stroke=\"none\"/>\n",
       "<circle clip-path=\"url(#clip982)\" cx=\"1216.92\" cy=\"1240.73\" r=\"14.4\" fill=\"#000000\" fill-rule=\"evenodd\" fill-opacity=\"1\" stroke=\"none\"/>\n",
       "<circle clip-path=\"url(#clip982)\" cx=\"1258.26\" cy=\"1257.7\" r=\"14.4\" fill=\"#000000\" fill-rule=\"evenodd\" fill-opacity=\"1\" stroke=\"none\"/>\n",
       "<circle clip-path=\"url(#clip982)\" cx=\"1299.61\" cy=\"1242.7\" r=\"14.4\" fill=\"#000000\" fill-rule=\"evenodd\" fill-opacity=\"1\" stroke=\"none\"/>\n",
       "<circle clip-path=\"url(#clip982)\" cx=\"1340.96\" cy=\"1278.14\" r=\"14.4\" fill=\"#000000\" fill-rule=\"evenodd\" fill-opacity=\"1\" stroke=\"none\"/>\n",
       "<circle clip-path=\"url(#clip982)\" cx=\"1382.31\" cy=\"1265.04\" r=\"14.4\" fill=\"#000000\" fill-rule=\"evenodd\" fill-opacity=\"1\" stroke=\"none\"/>\n",
       "<circle clip-path=\"url(#clip982)\" cx=\"1423.66\" cy=\"1228.57\" r=\"14.4\" fill=\"#000000\" fill-rule=\"evenodd\" fill-opacity=\"1\" stroke=\"none\"/>\n",
       "<circle clip-path=\"url(#clip982)\" cx=\"1465.01\" cy=\"1207.33\" r=\"14.4\" fill=\"#000000\" fill-rule=\"evenodd\" fill-opacity=\"1\" stroke=\"none\"/>\n",
       "<circle clip-path=\"url(#clip982)\" cx=\"1506.35\" cy=\"1221.55\" r=\"14.4\" fill=\"#000000\" fill-rule=\"evenodd\" fill-opacity=\"1\" stroke=\"none\"/>\n",
       "<circle clip-path=\"url(#clip982)\" cx=\"1547.7\" cy=\"1180.46\" r=\"14.4\" fill=\"#000000\" fill-rule=\"evenodd\" fill-opacity=\"1\" stroke=\"none\"/>\n",
       "<circle clip-path=\"url(#clip982)\" cx=\"1589.05\" cy=\"1196.9\" r=\"14.4\" fill=\"#000000\" fill-rule=\"evenodd\" fill-opacity=\"1\" stroke=\"none\"/>\n",
       "<circle clip-path=\"url(#clip982)\" cx=\"1630.4\" cy=\"1202.68\" r=\"14.4\" fill=\"#000000\" fill-rule=\"evenodd\" fill-opacity=\"1\" stroke=\"none\"/>\n",
       "<circle clip-path=\"url(#clip982)\" cx=\"1671.75\" cy=\"1201.39\" r=\"14.4\" fill=\"#000000\" fill-rule=\"evenodd\" fill-opacity=\"1\" stroke=\"none\"/>\n",
       "<circle clip-path=\"url(#clip982)\" cx=\"1713.1\" cy=\"1137.73\" r=\"14.4\" fill=\"#000000\" fill-rule=\"evenodd\" fill-opacity=\"1\" stroke=\"none\"/>\n",
       "<circle clip-path=\"url(#clip982)\" cx=\"1754.44\" cy=\"1251.25\" r=\"14.4\" fill=\"#000000\" fill-rule=\"evenodd\" fill-opacity=\"1\" stroke=\"none\"/>\n",
       "<circle clip-path=\"url(#clip982)\" cx=\"1795.79\" cy=\"1166.6\" r=\"14.4\" fill=\"#000000\" fill-rule=\"evenodd\" fill-opacity=\"1\" stroke=\"none\"/>\n",
       "<circle clip-path=\"url(#clip982)\" cx=\"1837.14\" cy=\"1069.65\" r=\"14.4\" fill=\"#000000\" fill-rule=\"evenodd\" fill-opacity=\"1\" stroke=\"none\"/>\n",
       "<circle clip-path=\"url(#clip982)\" cx=\"1878.49\" cy=\"1150.98\" r=\"14.4\" fill=\"#000000\" fill-rule=\"evenodd\" fill-opacity=\"1\" stroke=\"none\"/>\n",
       "<circle clip-path=\"url(#clip982)\" cx=\"1919.84\" cy=\"1102.94\" r=\"14.4\" fill=\"#000000\" fill-rule=\"evenodd\" fill-opacity=\"1\" stroke=\"none\"/>\n",
       "<circle clip-path=\"url(#clip982)\" cx=\"1961.19\" cy=\"1088.09\" r=\"14.4\" fill=\"#000000\" fill-rule=\"evenodd\" fill-opacity=\"1\" stroke=\"none\"/>\n",
       "<circle clip-path=\"url(#clip982)\" cx=\"2002.54\" cy=\"1064.79\" r=\"14.4\" fill=\"#000000\" fill-rule=\"evenodd\" fill-opacity=\"1\" stroke=\"none\"/>\n",
       "<circle clip-path=\"url(#clip982)\" cx=\"2043.88\" cy=\"1168.86\" r=\"14.4\" fill=\"#000000\" fill-rule=\"evenodd\" fill-opacity=\"1\" stroke=\"none\"/>\n",
       "<circle clip-path=\"url(#clip982)\" cx=\"2085.23\" cy=\"1128.99\" r=\"14.4\" fill=\"#000000\" fill-rule=\"evenodd\" fill-opacity=\"1\" stroke=\"none\"/>\n",
       "<circle clip-path=\"url(#clip982)\" cx=\"2126.58\" cy=\"1051.62\" r=\"14.4\" fill=\"#000000\" fill-rule=\"evenodd\" fill-opacity=\"1\" stroke=\"none\"/>\n",
       "<circle clip-path=\"url(#clip982)\" cx=\"2167.93\" cy=\"1053.38\" r=\"14.4\" fill=\"#000000\" fill-rule=\"evenodd\" fill-opacity=\"1\" stroke=\"none\"/>\n",
       "<circle clip-path=\"url(#clip982)\" cx=\"2209.28\" cy=\"1111.86\" r=\"14.4\" fill=\"#000000\" fill-rule=\"evenodd\" fill-opacity=\"1\" stroke=\"none\"/>\n",
       "<circle clip-path=\"url(#clip982)\" cx=\"2250.63\" cy=\"1170.26\" r=\"14.4\" fill=\"#000000\" fill-rule=\"evenodd\" fill-opacity=\"1\" stroke=\"none\"/>\n",
       "<circle clip-path=\"url(#clip982)\" cx=\"2291.97\" cy=\"1160\" r=\"14.4\" fill=\"#000000\" fill-rule=\"evenodd\" fill-opacity=\"1\" stroke=\"none\"/>\n",
       "<polyline clip-path=\"url(#clip982)\" style=\"stroke:#000000; stroke-linecap:round; stroke-linejoin:round; stroke-width:4; stroke-opacity:1; fill:none\" stroke-dasharray=\"16, 8, 2, 8\" points=\"265.903,1343.23 307.251,1341.64 348.6,1327.31 389.948,1324.51 431.297,1288.53 472.645,1271.02 513.993,1289.46 555.342,1257.06 596.69,1219.77 638.039,1246.34 679.387,1212.65 720.735,1176.69 762.084,1144.01 803.432,1218.89 844.78,1116.55 886.129,1087.79 927.477,1045.79 968.826,1046.15 1010.17,960.412 1051.52,839.856 1092.87,982.853 1134.22,985.822 1175.57,846.333 1216.92,751.166 1258.26,754.2 1299.61,762.247 1340.96,831.895 1382.31,765.367 1423.66,726.272 1465.01,802.655 1506.35,635.323 1547.7,887.515 1589.05,540.307 1630.4,436.771 1671.75,760.182 1713.1,537.058 1754.44,492.218 1795.79,485.484 1837.14,438.191 1878.49,86.1857 1919.84,444.452 1961.19,407.832 2002.54,369.813 2043.88,482.708 2085.23,507.667 2126.58,247.321 2167.93,238.843 2209.28,357.29 2250.63,531.851 2291.97,442.559 \"/>\n",
       "<path clip-path=\"url(#clip982)\" d=\"M253.903 1331.23 L253.903 1355.23 L277.903 1355.23 L277.903 1331.23 L253.903 1331.23 Z\" fill=\"#000000\" fill-rule=\"evenodd\" fill-opacity=\"1\" stroke=\"none\"/>\n",
       "<path clip-path=\"url(#clip982)\" d=\"M295.251 1329.64 L295.251 1353.64 L319.251 1353.64 L319.251 1329.64 L295.251 1329.64 Z\" fill=\"#000000\" fill-rule=\"evenodd\" fill-opacity=\"1\" stroke=\"none\"/>\n",
       "<path clip-path=\"url(#clip982)\" d=\"M336.6 1315.31 L336.6 1339.31 L360.6 1339.31 L360.6 1315.31 L336.6 1315.31 Z\" fill=\"#000000\" fill-rule=\"evenodd\" fill-opacity=\"1\" stroke=\"none\"/>\n",
       "<path clip-path=\"url(#clip982)\" d=\"M377.948 1312.51 L377.948 1336.51 L401.948 1336.51 L401.948 1312.51 L377.948 1312.51 Z\" fill=\"#000000\" fill-rule=\"evenodd\" fill-opacity=\"1\" stroke=\"none\"/>\n",
       "<path clip-path=\"url(#clip982)\" d=\"M419.297 1276.53 L419.297 1300.53 L443.297 1300.53 L443.297 1276.53 L419.297 1276.53 Z\" fill=\"#000000\" fill-rule=\"evenodd\" fill-opacity=\"1\" stroke=\"none\"/>\n",
       "<path clip-path=\"url(#clip982)\" d=\"M460.645 1259.02 L460.645 1283.02 L484.645 1283.02 L484.645 1259.02 L460.645 1259.02 Z\" fill=\"#000000\" fill-rule=\"evenodd\" fill-opacity=\"1\" stroke=\"none\"/>\n",
       "<path clip-path=\"url(#clip982)\" d=\"M501.993 1277.46 L501.993 1301.46 L525.993 1301.46 L525.993 1277.46 L501.993 1277.46 Z\" fill=\"#000000\" fill-rule=\"evenodd\" fill-opacity=\"1\" stroke=\"none\"/>\n",
       "<path clip-path=\"url(#clip982)\" d=\"M543.342 1245.06 L543.342 1269.06 L567.342 1269.06 L567.342 1245.06 L543.342 1245.06 Z\" fill=\"#000000\" fill-rule=\"evenodd\" fill-opacity=\"1\" stroke=\"none\"/>\n",
       "<path clip-path=\"url(#clip982)\" d=\"M584.69 1207.77 L584.69 1231.77 L608.69 1231.77 L608.69 1207.77 L584.69 1207.77 Z\" fill=\"#000000\" fill-rule=\"evenodd\" fill-opacity=\"1\" stroke=\"none\"/>\n",
       "<path clip-path=\"url(#clip982)\" d=\"M626.039 1234.34 L626.039 1258.34 L650.039 1258.34 L650.039 1234.34 L626.039 1234.34 Z\" fill=\"#000000\" fill-rule=\"evenodd\" fill-opacity=\"1\" stroke=\"none\"/>\n",
       "<path clip-path=\"url(#clip982)\" d=\"M667.387 1200.65 L667.387 1224.65 L691.387 1224.65 L691.387 1200.65 L667.387 1200.65 Z\" fill=\"#000000\" fill-rule=\"evenodd\" fill-opacity=\"1\" stroke=\"none\"/>\n",
       "<path clip-path=\"url(#clip982)\" d=\"M708.735 1164.69 L708.735 1188.69 L732.735 1188.69 L732.735 1164.69 L708.735 1164.69 Z\" fill=\"#000000\" fill-rule=\"evenodd\" fill-opacity=\"1\" stroke=\"none\"/>\n",
       "<path clip-path=\"url(#clip982)\" d=\"M750.084 1132.01 L750.084 1156.01 L774.084 1156.01 L774.084 1132.01 L750.084 1132.01 Z\" fill=\"#000000\" fill-rule=\"evenodd\" fill-opacity=\"1\" stroke=\"none\"/>\n",
       "<path clip-path=\"url(#clip982)\" d=\"M791.432 1206.89 L791.432 1230.89 L815.432 1230.89 L815.432 1206.89 L791.432 1206.89 Z\" fill=\"#000000\" fill-rule=\"evenodd\" fill-opacity=\"1\" stroke=\"none\"/>\n",
       "<path clip-path=\"url(#clip982)\" d=\"M832.78 1104.55 L832.78 1128.55 L856.78 1128.55 L856.78 1104.55 L832.78 1104.55 Z\" fill=\"#000000\" fill-rule=\"evenodd\" fill-opacity=\"1\" stroke=\"none\"/>\n",
       "<path clip-path=\"url(#clip982)\" d=\"M874.129 1075.79 L874.129 1099.79 L898.129 1099.79 L898.129 1075.79 L874.129 1075.79 Z\" fill=\"#000000\" fill-rule=\"evenodd\" fill-opacity=\"1\" stroke=\"none\"/>\n",
       "<path clip-path=\"url(#clip982)\" d=\"M915.477 1033.79 L915.477 1057.79 L939.477 1057.79 L939.477 1033.79 L915.477 1033.79 Z\" fill=\"#000000\" fill-rule=\"evenodd\" fill-opacity=\"1\" stroke=\"none\"/>\n",
       "<path clip-path=\"url(#clip982)\" d=\"M956.826 1034.15 L956.826 1058.15 L980.826 1058.15 L980.826 1034.15 L956.826 1034.15 Z\" fill=\"#000000\" fill-rule=\"evenodd\" fill-opacity=\"1\" stroke=\"none\"/>\n",
       "<path clip-path=\"url(#clip982)\" d=\"M998.174 948.412 L998.174 972.412 L1022.17 972.412 L1022.17 948.412 L998.174 948.412 Z\" fill=\"#000000\" fill-rule=\"evenodd\" fill-opacity=\"1\" stroke=\"none\"/>\n",
       "<path clip-path=\"url(#clip982)\" d=\"M1039.52 827.856 L1039.52 851.856 L1063.52 851.856 L1063.52 827.856 L1039.52 827.856 Z\" fill=\"#000000\" fill-rule=\"evenodd\" fill-opacity=\"1\" stroke=\"none\"/>\n",
       "<path clip-path=\"url(#clip982)\" d=\"M1080.87 970.853 L1080.87 994.853 L1104.87 994.853 L1104.87 970.853 L1080.87 970.853 Z\" fill=\"#000000\" fill-rule=\"evenodd\" fill-opacity=\"1\" stroke=\"none\"/>\n",
       "<path clip-path=\"url(#clip982)\" d=\"M1122.22 973.822 L1122.22 997.822 L1146.22 997.822 L1146.22 973.822 L1122.22 973.822 Z\" fill=\"#000000\" fill-rule=\"evenodd\" fill-opacity=\"1\" stroke=\"none\"/>\n",
       "<path clip-path=\"url(#clip982)\" d=\"M1163.57 834.333 L1163.57 858.333 L1187.57 858.333 L1187.57 834.333 L1163.57 834.333 Z\" fill=\"#000000\" fill-rule=\"evenodd\" fill-opacity=\"1\" stroke=\"none\"/>\n",
       "<path clip-path=\"url(#clip982)\" d=\"M1204.92 739.166 L1204.92 763.166 L1228.92 763.166 L1228.92 739.166 L1204.92 739.166 Z\" fill=\"#000000\" fill-rule=\"evenodd\" fill-opacity=\"1\" stroke=\"none\"/>\n",
       "<path clip-path=\"url(#clip982)\" d=\"M1246.26 742.2 L1246.26 766.2 L1270.26 766.2 L1270.26 742.2 L1246.26 742.2 Z\" fill=\"#000000\" fill-rule=\"evenodd\" fill-opacity=\"1\" stroke=\"none\"/>\n",
       "<path clip-path=\"url(#clip982)\" d=\"M1287.61 750.247 L1287.61 774.247 L1311.61 774.247 L1311.61 750.247 L1287.61 750.247 Z\" fill=\"#000000\" fill-rule=\"evenodd\" fill-opacity=\"1\" stroke=\"none\"/>\n",
       "<path clip-path=\"url(#clip982)\" d=\"M1328.96 819.895 L1328.96 843.895 L1352.96 843.895 L1352.96 819.895 L1328.96 819.895 Z\" fill=\"#000000\" fill-rule=\"evenodd\" fill-opacity=\"1\" stroke=\"none\"/>\n",
       "<path clip-path=\"url(#clip982)\" d=\"M1370.31 753.367 L1370.31 777.367 L1394.31 777.367 L1394.31 753.367 L1370.31 753.367 Z\" fill=\"#000000\" fill-rule=\"evenodd\" fill-opacity=\"1\" stroke=\"none\"/>\n",
       "<path clip-path=\"url(#clip982)\" d=\"M1411.66 714.272 L1411.66 738.272 L1435.66 738.272 L1435.66 714.272 L1411.66 714.272 Z\" fill=\"#000000\" fill-rule=\"evenodd\" fill-opacity=\"1\" stroke=\"none\"/>\n",
       "<path clip-path=\"url(#clip982)\" d=\"M1453.01 790.655 L1453.01 814.655 L1477.01 814.655 L1477.01 790.655 L1453.01 790.655 Z\" fill=\"#000000\" fill-rule=\"evenodd\" fill-opacity=\"1\" stroke=\"none\"/>\n",
       "<path clip-path=\"url(#clip982)\" d=\"M1494.35 623.323 L1494.35 647.323 L1518.35 647.323 L1518.35 623.323 L1494.35 623.323 Z\" fill=\"#000000\" fill-rule=\"evenodd\" fill-opacity=\"1\" stroke=\"none\"/>\n",
       "<path clip-path=\"url(#clip982)\" d=\"M1535.7 875.515 L1535.7 899.515 L1559.7 899.515 L1559.7 875.515 L1535.7 875.515 Z\" fill=\"#000000\" fill-rule=\"evenodd\" fill-opacity=\"1\" stroke=\"none\"/>\n",
       "<path clip-path=\"url(#clip982)\" d=\"M1577.05 528.307 L1577.05 552.307 L1601.05 552.307 L1601.05 528.307 L1577.05 528.307 Z\" fill=\"#000000\" fill-rule=\"evenodd\" fill-opacity=\"1\" stroke=\"none\"/>\n",
       "<path clip-path=\"url(#clip982)\" d=\"M1618.4 424.771 L1618.4 448.771 L1642.4 448.771 L1642.4 424.771 L1618.4 424.771 Z\" fill=\"#000000\" fill-rule=\"evenodd\" fill-opacity=\"1\" stroke=\"none\"/>\n",
       "<path clip-path=\"url(#clip982)\" d=\"M1659.75 748.182 L1659.75 772.182 L1683.75 772.182 L1683.75 748.182 L1659.75 748.182 Z\" fill=\"#000000\" fill-rule=\"evenodd\" fill-opacity=\"1\" stroke=\"none\"/>\n",
       "<path clip-path=\"url(#clip982)\" d=\"M1701.1 525.058 L1701.1 549.058 L1725.1 549.058 L1725.1 525.058 L1701.1 525.058 Z\" fill=\"#000000\" fill-rule=\"evenodd\" fill-opacity=\"1\" stroke=\"none\"/>\n",
       "<path clip-path=\"url(#clip982)\" d=\"M1742.44 480.218 L1742.44 504.218 L1766.44 504.218 L1766.44 480.218 L1742.44 480.218 Z\" fill=\"#000000\" fill-rule=\"evenodd\" fill-opacity=\"1\" stroke=\"none\"/>\n",
       "<path clip-path=\"url(#clip982)\" d=\"M1783.79 473.484 L1783.79 497.484 L1807.79 497.484 L1807.79 473.484 L1783.79 473.484 Z\" fill=\"#000000\" fill-rule=\"evenodd\" fill-opacity=\"1\" stroke=\"none\"/>\n",
       "<path clip-path=\"url(#clip982)\" d=\"M1825.14 426.191 L1825.14 450.191 L1849.14 450.191 L1849.14 426.191 L1825.14 426.191 Z\" fill=\"#000000\" fill-rule=\"evenodd\" fill-opacity=\"1\" stroke=\"none\"/>\n",
       "<path clip-path=\"url(#clip982)\" d=\"M1866.49 74.1857 L1866.49 98.1857 L1890.49 98.1857 L1890.49 74.1857 L1866.49 74.1857 Z\" fill=\"#000000\" fill-rule=\"evenodd\" fill-opacity=\"1\" stroke=\"none\"/>\n",
       "<path clip-path=\"url(#clip982)\" d=\"M1907.84 432.452 L1907.84 456.452 L1931.84 456.452 L1931.84 432.452 L1907.84 432.452 Z\" fill=\"#000000\" fill-rule=\"evenodd\" fill-opacity=\"1\" stroke=\"none\"/>\n",
       "<path clip-path=\"url(#clip982)\" d=\"M1949.19 395.832 L1949.19 419.832 L1973.19 419.832 L1973.19 395.832 L1949.19 395.832 Z\" fill=\"#000000\" fill-rule=\"evenodd\" fill-opacity=\"1\" stroke=\"none\"/>\n",
       "<path clip-path=\"url(#clip982)\" d=\"M1990.54 357.813 L1990.54 381.813 L2014.54 381.813 L2014.54 357.813 L1990.54 357.813 Z\" fill=\"#000000\" fill-rule=\"evenodd\" fill-opacity=\"1\" stroke=\"none\"/>\n",
       "<path clip-path=\"url(#clip982)\" d=\"M2031.88 470.708 L2031.88 494.708 L2055.88 494.708 L2055.88 470.708 L2031.88 470.708 Z\" fill=\"#000000\" fill-rule=\"evenodd\" fill-opacity=\"1\" stroke=\"none\"/>\n",
       "<path clip-path=\"url(#clip982)\" d=\"M2073.23 495.667 L2073.23 519.667 L2097.23 519.667 L2097.23 495.667 L2073.23 495.667 Z\" fill=\"#000000\" fill-rule=\"evenodd\" fill-opacity=\"1\" stroke=\"none\"/>\n",
       "<path clip-path=\"url(#clip982)\" d=\"M2114.58 235.321 L2114.58 259.321 L2138.58 259.321 L2138.58 235.321 L2114.58 235.321 Z\" fill=\"#000000\" fill-rule=\"evenodd\" fill-opacity=\"1\" stroke=\"none\"/>\n",
       "<path clip-path=\"url(#clip982)\" d=\"M2155.93 226.843 L2155.93 250.843 L2179.93 250.843 L2179.93 226.843 L2155.93 226.843 Z\" fill=\"#000000\" fill-rule=\"evenodd\" fill-opacity=\"1\" stroke=\"none\"/>\n",
       "<path clip-path=\"url(#clip982)\" d=\"M2197.28 345.29 L2197.28 369.29 L2221.28 369.29 L2221.28 345.29 L2197.28 345.29 Z\" fill=\"#000000\" fill-rule=\"evenodd\" fill-opacity=\"1\" stroke=\"none\"/>\n",
       "<path clip-path=\"url(#clip982)\" d=\"M2238.63 519.851 L2238.63 543.851 L2262.63 543.851 L2262.63 519.851 L2238.63 519.851 Z\" fill=\"#000000\" fill-rule=\"evenodd\" fill-opacity=\"1\" stroke=\"none\"/>\n",
       "<path clip-path=\"url(#clip982)\" d=\"M2279.97 430.559 L2279.97 454.559 L2303.97 454.559 L2303.97 430.559 L2279.97 430.559 Z\" fill=\"#000000\" fill-rule=\"evenodd\" fill-opacity=\"1\" stroke=\"none\"/>\n",
       "<path clip-path=\"url(#clip980)\" d=\"M276.709 248.629 L788.114 248.629 L788.114 93.1086 L276.709 93.1086  Z\" fill=\"#ffffff\" fill-rule=\"evenodd\" fill-opacity=\"1\"/>\n",
       "<polyline clip-path=\"url(#clip980)\" style=\"stroke:#000000; stroke-linecap:round; stroke-linejoin:round; stroke-width:4; stroke-opacity:1; fill:none\" points=\"276.709,248.629 788.114,248.629 788.114,93.1086 276.709,93.1086 276.709,248.629 \"/>\n",
       "<polyline clip-path=\"url(#clip980)\" style=\"stroke:#000000; stroke-linecap:round; stroke-linejoin:round; stroke-width:4; stroke-opacity:1; fill:none\" points=\"300.571,144.949 443.747,144.949 \"/>\n",
       "<circle clip-path=\"url(#clip980)\" cx=\"372.159\" cy=\"144.949\" r=\"19.8855\" fill=\"#000000\" fill-rule=\"evenodd\" fill-opacity=\"1\" stroke=\"none\"/>\n",
       "<path clip-path=\"url(#clip980)\" d=\"M487.957 141.28 Q489.554 138.409 491.776 137.044 Q493.998 135.678 497.008 135.678 Q501.059 135.678 503.258 138.525 Q505.457 141.349 505.457 146.581 L505.457 162.229 L501.174 162.229 L501.174 146.719 Q501.174 142.993 499.855 141.187 Q498.535 139.382 495.827 139.382 Q492.517 139.382 490.596 141.581 Q488.674 143.78 488.674 147.576 L488.674 162.229 L484.392 162.229 L484.392 146.719 Q484.392 142.969 483.073 141.187 Q481.753 139.382 478.999 139.382 Q475.735 139.382 473.813 141.604 Q471.892 143.803 471.892 147.576 L471.892 162.229 L467.61 162.229 L467.61 136.303 L471.892 136.303 L471.892 140.331 Q473.35 137.946 475.387 136.812 Q477.424 135.678 480.225 135.678 Q483.049 135.678 485.017 137.113 Q487.008 138.548 487.957 141.28 Z\" fill=\"#000000\" fill-rule=\"evenodd\" fill-opacity=\"1\" /><path clip-path=\"url(#clip980)\" d=\"M523.998 139.289 Q520.572 139.289 518.582 141.974 Q516.591 144.636 516.591 149.289 Q516.591 153.942 518.558 156.627 Q520.549 159.289 523.998 159.289 Q527.401 159.289 529.392 156.604 Q531.382 153.918 531.382 149.289 Q531.382 144.682 529.392 141.997 Q527.401 139.289 523.998 139.289 M523.998 135.678 Q529.554 135.678 532.725 139.289 Q535.896 142.9 535.896 149.289 Q535.896 155.655 532.725 159.289 Q529.554 162.9 523.998 162.9 Q518.42 162.9 515.248 159.289 Q512.1 155.655 512.1 149.289 Q512.1 142.9 515.248 139.289 Q518.42 135.678 523.998 135.678 Z\" fill=\"#000000\" fill-rule=\"evenodd\" fill-opacity=\"1\" /><path clip-path=\"url(#clip980)\" d=\"M564.507 146.581 L564.507 162.229 L560.248 162.229 L560.248 146.719 Q560.248 143.039 558.813 141.21 Q557.378 139.382 554.507 139.382 Q551.058 139.382 549.068 141.581 Q547.077 143.78 547.077 147.576 L547.077 162.229 L542.794 162.229 L542.794 136.303 L547.077 136.303 L547.077 140.331 Q548.605 137.993 550.665 136.835 Q552.748 135.678 555.456 135.678 Q559.924 135.678 562.216 138.456 Q564.507 141.21 564.507 146.581 Z\" fill=\"#000000\" fill-rule=\"evenodd\" fill-opacity=\"1\" /><path clip-path=\"url(#clip980)\" d=\"M583.049 139.289 Q579.623 139.289 577.632 141.974 Q575.642 144.636 575.642 149.289 Q575.642 153.942 577.609 156.627 Q579.6 159.289 583.049 159.289 Q586.452 159.289 588.442 156.604 Q590.433 153.918 590.433 149.289 Q590.433 144.682 588.442 141.997 Q586.452 139.289 583.049 139.289 M583.049 135.678 Q588.604 135.678 591.776 139.289 Q594.947 142.9 594.947 149.289 Q594.947 155.655 591.776 159.289 Q588.604 162.9 583.049 162.9 Q577.47 162.9 574.299 159.289 Q571.151 155.655 571.151 149.289 Q571.151 142.9 574.299 139.289 Q577.47 135.678 583.049 135.678 Z\" fill=\"#000000\" fill-rule=\"evenodd\" fill-opacity=\"1\" /><path clip-path=\"url(#clip980)\" d=\"M602.007 126.21 L606.266 126.21 L606.266 162.229 L602.007 162.229 L602.007 126.21 Z\" fill=\"#000000\" fill-rule=\"evenodd\" fill-opacity=\"1\" /><path clip-path=\"url(#clip980)\" d=\"M615.178 136.303 L619.438 136.303 L619.438 162.229 L615.178 162.229 L615.178 136.303 M615.178 126.21 L619.438 126.21 L619.438 131.604 L615.178 131.604 L615.178 126.21 Z\" fill=\"#000000\" fill-rule=\"evenodd\" fill-opacity=\"1\" /><path clip-path=\"url(#clip980)\" d=\"M632.563 128.942 L632.563 136.303 L641.336 136.303 L641.336 139.613 L632.563 139.613 L632.563 153.687 Q632.563 156.858 633.419 157.761 Q634.299 158.664 636.961 158.664 L641.336 158.664 L641.336 162.229 L636.961 162.229 Q632.03 162.229 630.155 160.4 Q628.28 158.548 628.28 153.687 L628.28 139.613 L625.155 139.613 L625.155 136.303 L628.28 136.303 L628.28 128.942 L632.563 128.942 Z\" fill=\"#000000\" fill-rule=\"evenodd\" fill-opacity=\"1\" /><path clip-path=\"url(#clip980)\" d=\"M668.488 146.581 L668.488 162.229 L664.229 162.229 L664.229 146.719 Q664.229 143.039 662.794 141.21 Q661.359 139.382 658.488 139.382 Q655.039 139.382 653.049 141.581 Q651.058 143.78 651.058 147.576 L651.058 162.229 L646.775 162.229 L646.775 126.21 L651.058 126.21 L651.058 140.331 Q652.586 137.993 654.646 136.835 Q656.729 135.678 659.437 135.678 Q663.905 135.678 666.197 138.456 Q668.488 141.21 668.488 146.581 Z\" fill=\"#000000\" fill-rule=\"evenodd\" fill-opacity=\"1\" /><path clip-path=\"url(#clip980)\" d=\"M676.984 136.303 L681.243 136.303 L681.243 162.229 L676.984 162.229 L676.984 136.303 M676.984 126.21 L681.243 126.21 L681.243 131.604 L676.984 131.604 L676.984 126.21 Z\" fill=\"#000000\" fill-rule=\"evenodd\" fill-opacity=\"1\" /><path clip-path=\"url(#clip980)\" d=\"M708.812 137.298 L708.812 141.28 Q707.007 140.284 705.178 139.798 Q703.372 139.289 701.52 139.289 Q697.377 139.289 695.085 141.928 Q692.794 144.544 692.794 149.289 Q692.794 154.034 695.085 156.673 Q697.377 159.289 701.52 159.289 Q703.372 159.289 705.178 158.803 Q707.007 158.293 708.812 157.298 L708.812 161.233 Q707.03 162.067 705.108 162.483 Q703.21 162.9 701.058 162.9 Q695.201 162.9 691.752 159.219 Q688.303 155.539 688.303 149.289 Q688.303 142.946 691.775 139.312 Q695.271 135.678 701.335 135.678 Q703.303 135.678 705.178 136.095 Q707.053 136.488 708.812 137.298 Z\" fill=\"#000000\" fill-rule=\"evenodd\" fill-opacity=\"1\" /><polyline clip-path=\"url(#clip980)\" style=\"stroke:#000000; stroke-linecap:round; stroke-linejoin:round; stroke-width:4; stroke-opacity:1; fill:none\" stroke-dasharray=\"16, 8, 2, 8\" points=\"300.571,196.789 443.747,196.789 \"/>\n",
       "<path clip-path=\"url(#clip980)\" d=\"M350.064 174.694 L350.064 218.884 L394.254 218.884 L394.254 174.694 L350.064 174.694 Z\" fill=\"#000000\" fill-rule=\"evenodd\" fill-opacity=\"1\" stroke=\"none\"/>\n",
       "<path clip-path=\"url(#clip980)\" d=\"M486.522 192.078 L486.522 178.05 L490.781 178.05 L490.781 214.069 L486.522 214.069 L486.522 210.18 Q485.179 212.495 483.119 213.629 Q481.082 214.74 478.211 214.74 Q473.512 214.74 470.549 210.99 Q467.61 207.24 467.61 201.129 Q467.61 195.018 470.549 191.268 Q473.512 187.518 478.211 187.518 Q481.082 187.518 483.119 188.652 Q485.179 189.763 486.522 192.078 M472.008 201.129 Q472.008 205.828 473.929 208.513 Q475.874 211.175 479.253 211.175 Q482.633 211.175 484.577 208.513 Q486.522 205.828 486.522 201.129 Q486.522 196.43 484.577 193.768 Q482.633 191.083 479.253 191.083 Q475.874 191.083 473.929 193.768 Q472.008 196.43 472.008 201.129 Z\" fill=\"#000000\" fill-rule=\"evenodd\" fill-opacity=\"1\" /><path clip-path=\"url(#clip980)\" d=\"M521.73 200.041 L521.73 202.124 L502.147 202.124 Q502.424 206.522 504.785 208.837 Q507.17 211.129 511.406 211.129 Q513.859 211.129 516.151 210.527 Q518.466 209.925 520.734 208.721 L520.734 212.749 Q518.443 213.721 516.035 214.231 Q513.628 214.74 511.151 214.74 Q504.947 214.74 501.313 211.129 Q497.702 207.518 497.702 201.36 Q497.702 194.995 501.128 191.268 Q504.577 187.518 510.41 187.518 Q515.642 187.518 518.674 190.897 Q521.73 194.254 521.73 200.041 M517.471 198.791 Q517.424 195.296 515.503 193.212 Q513.605 191.129 510.457 191.129 Q506.892 191.129 504.739 193.143 Q502.61 195.157 502.285 198.814 L517.471 198.791 Z\" fill=\"#000000\" fill-rule=\"evenodd\" fill-opacity=\"1\" /><path clip-path=\"url(#clip980)\" d=\"M547.378 189.138 L547.378 193.12 Q545.572 192.124 543.744 191.638 Q541.938 191.129 540.086 191.129 Q535.943 191.129 533.651 193.768 Q531.359 196.384 531.359 201.129 Q531.359 205.874 533.651 208.513 Q535.943 211.129 540.086 211.129 Q541.938 211.129 543.744 210.643 Q545.572 210.133 547.378 209.138 L547.378 213.073 Q545.595 213.907 543.674 214.323 Q541.776 214.74 539.623 214.74 Q533.767 214.74 530.318 211.059 Q526.869 207.379 526.869 201.129 Q526.869 194.786 530.341 191.152 Q533.836 187.518 539.901 187.518 Q541.869 187.518 543.744 187.935 Q545.619 188.328 547.378 189.138 Z\" fill=\"#000000\" fill-rule=\"evenodd\" fill-opacity=\"1\" /><path clip-path=\"url(#clip980)\" d=\"M564.831 191.129 Q561.405 191.129 559.415 193.814 Q557.424 196.476 557.424 201.129 Q557.424 205.782 559.392 208.467 Q561.382 211.129 564.831 211.129 Q568.234 211.129 570.225 208.444 Q572.216 205.758 572.216 201.129 Q572.216 196.522 570.225 193.837 Q568.234 191.129 564.831 191.129 M564.831 187.518 Q570.387 187.518 573.558 191.129 Q576.729 194.74 576.729 201.129 Q576.729 207.495 573.558 211.129 Q570.387 214.74 564.831 214.74 Q559.253 214.74 556.081 211.129 Q552.933 207.495 552.933 201.129 Q552.933 194.74 556.081 191.129 Q559.253 187.518 564.831 187.518 Z\" fill=\"#000000\" fill-rule=\"evenodd\" fill-opacity=\"1\" /><path clip-path=\"url(#clip980)\" d=\"M603.975 193.12 Q605.572 190.249 607.794 188.884 Q610.016 187.518 613.026 187.518 Q617.076 187.518 619.276 190.365 Q621.475 193.189 621.475 198.421 L621.475 214.069 L617.192 214.069 L617.192 198.559 Q617.192 194.833 615.873 193.027 Q614.553 191.222 611.845 191.222 Q608.535 191.222 606.614 193.421 Q604.692 195.62 604.692 199.416 L604.692 214.069 L600.41 214.069 L600.41 198.559 Q600.41 194.809 599.09 193.027 Q597.771 191.222 595.016 191.222 Q591.753 191.222 589.831 193.444 Q587.91 195.643 587.91 199.416 L587.91 214.069 L583.628 214.069 L583.628 188.143 L587.91 188.143 L587.91 192.171 Q589.368 189.786 591.405 188.652 Q593.442 187.518 596.243 187.518 Q599.067 187.518 601.035 188.953 Q603.026 190.388 603.975 193.12 Z\" fill=\"#000000\" fill-rule=\"evenodd\" fill-opacity=\"1\" /><path clip-path=\"url(#clip980)\" d=\"M634.09 210.18 L634.09 223.93 L629.808 223.93 L629.808 188.143 L634.09 188.143 L634.09 192.078 Q635.433 189.763 637.47 188.652 Q639.53 187.518 642.377 187.518 Q647.099 187.518 650.039 191.268 Q653.002 195.018 653.002 201.129 Q653.002 207.24 650.039 210.99 Q647.099 214.74 642.377 214.74 Q639.53 214.74 637.47 213.629 Q635.433 212.495 634.09 210.18 M648.581 201.129 Q648.581 196.43 646.637 193.768 Q644.715 191.083 641.336 191.083 Q637.956 191.083 636.012 193.768 Q634.09 196.43 634.09 201.129 Q634.09 205.828 636.012 208.513 Q637.956 211.175 641.336 211.175 Q644.715 211.175 646.637 208.513 Q648.581 205.828 648.581 201.129 Z\" fill=\"#000000\" fill-rule=\"evenodd\" fill-opacity=\"1\" /><path clip-path=\"url(#clip980)\" d=\"M670.109 191.129 Q666.683 191.129 664.692 193.814 Q662.701 196.476 662.701 201.129 Q662.701 205.782 664.669 208.467 Q666.66 211.129 670.109 211.129 Q673.511 211.129 675.502 208.444 Q677.493 205.758 677.493 201.129 Q677.493 196.522 675.502 193.837 Q673.511 191.129 670.109 191.129 M670.109 187.518 Q675.664 187.518 678.835 191.129 Q682.007 194.74 682.007 201.129 Q682.007 207.495 678.835 211.129 Q675.664 214.74 670.109 214.74 Q664.53 214.74 661.359 211.129 Q658.211 207.495 658.211 201.129 Q658.211 194.74 661.359 191.129 Q664.53 187.518 670.109 187.518 Z\" fill=\"#000000\" fill-rule=\"evenodd\" fill-opacity=\"1\" /><path clip-path=\"url(#clip980)\" d=\"M705.595 188.907 L705.595 192.934 Q703.789 192.009 701.845 191.546 Q699.9 191.083 697.817 191.083 Q694.646 191.083 693.048 192.055 Q691.474 193.027 691.474 194.971 Q691.474 196.453 692.608 197.309 Q693.743 198.143 697.169 198.907 L698.627 199.231 Q703.164 200.203 705.062 201.985 Q706.983 203.745 706.983 206.916 Q706.983 210.527 704.113 212.633 Q701.266 214.74 696.266 214.74 Q694.183 214.74 691.914 214.323 Q689.669 213.93 687.169 213.12 L687.169 208.721 Q689.53 209.948 691.821 210.573 Q694.113 211.175 696.358 211.175 Q699.368 211.175 700.988 210.157 Q702.608 209.115 702.608 207.24 Q702.608 205.504 701.428 204.578 Q700.27 203.652 696.312 202.796 L694.831 202.448 Q690.872 201.615 689.113 199.902 Q687.354 198.166 687.354 195.157 Q687.354 191.499 689.946 189.509 Q692.539 187.518 697.308 187.518 Q699.669 187.518 701.752 187.865 Q703.835 188.212 705.595 188.907 Z\" fill=\"#000000\" fill-rule=\"evenodd\" fill-opacity=\"1\" /><path clip-path=\"url(#clip980)\" d=\"M735.942 200.041 L735.942 202.124 L716.358 202.124 Q716.636 206.522 718.997 208.837 Q721.381 211.129 725.618 211.129 Q728.071 211.129 730.363 210.527 Q732.678 209.925 734.946 208.721 L734.946 212.749 Q732.655 213.721 730.247 214.231 Q727.84 214.74 725.363 214.74 Q719.159 214.74 715.525 211.129 Q711.914 207.518 711.914 201.36 Q711.914 194.995 715.34 191.268 Q718.789 187.518 724.622 187.518 Q729.854 187.518 732.886 190.897 Q735.942 194.254 735.942 200.041 M731.682 198.791 Q731.636 195.296 729.715 193.212 Q727.817 191.129 724.668 191.129 Q721.104 191.129 718.951 193.143 Q716.821 195.157 716.497 198.814 L731.682 198.791 Z\" fill=\"#000000\" fill-rule=\"evenodd\" fill-opacity=\"1\" /><path clip-path=\"url(#clip980)\" d=\"M759.992 192.078 L759.992 178.05 L764.252 178.05 L764.252 214.069 L759.992 214.069 L759.992 210.18 Q758.65 212.495 756.59 213.629 Q754.553 214.74 751.682 214.74 Q746.983 214.74 744.02 210.99 Q741.08 207.24 741.08 201.129 Q741.08 195.018 744.02 191.268 Q746.983 187.518 751.682 187.518 Q754.553 187.518 756.59 188.652 Q758.65 189.763 759.992 192.078 M745.479 201.129 Q745.479 205.828 747.4 208.513 Q749.344 211.175 752.724 211.175 Q756.104 211.175 758.048 208.513 Q759.992 205.828 759.992 201.129 Q759.992 196.43 758.048 193.768 Q756.104 191.083 752.724 191.083 Q749.344 191.083 747.4 193.768 Q745.479 196.43 745.479 201.129 Z\" fill=\"#000000\" fill-rule=\"evenodd\" fill-opacity=\"1\" /></svg>\n"
      ]
     },
     "metadata": {},
     "output_type": "display_data"
    }
   ],
   "source": [
    "# solution time\n",
    "p5b = plot(1:nReactMax,solTimeTraj_r[1,:],\n",
    "    xlabel=\"# reactors\",\n",
    "    ylabel=\"sol. time [s]\",\n",
    "    marker=:circle,\n",
    "    markercolor = :black,\n",
    "    linecolor = :black,\n",
    "    label=\"monolithic\")\n",
    "\n",
    "p5b = plot!(1:nReactMax,solTimeMaxTraj_r,\n",
    "    marker=:square, \n",
    "    markercolor = :black,\n",
    "    linecolor = :black,\n",
    "    markersize = 3,\n",
    "    linestyle = :dashdot,\n",
    "    label=\"decomposed\",\n",
    "    gridlinewidth=2,\n",
    "    dpi=600)\n",
    "\n",
    "display(p5b)\n",
    "savefig(p5b,\"C:/Users/MACC-Jose/Documents/Canada/Papers/Benders Decomposition/Figures/C2_SolMaxTime.pdf\");"
   ]
  },
  {
   "cell_type": "code",
   "execution_count": 25,
   "id": "9e1ad122",
   "metadata": {},
   "outputs": [
    {
     "data": {
      "image/svg+xml": [
       "<?xml version=\"1.0\" encoding=\"utf-8\"?>\n",
       "<svg xmlns=\"http://www.w3.org/2000/svg\" xmlns:xlink=\"http://www.w3.org/1999/xlink\" width=\"600\" height=\"400\" viewBox=\"0 0 2400 1600\">\n",
       "<defs>\n",
       "  <clipPath id=\"clip800\">\n",
       "    <rect x=\"0\" y=\"0\" width=\"2400\" height=\"1600\"/>\n",
       "  </clipPath>\n",
       "</defs>\n",
       "<path clip-path=\"url(#clip800)\" d=\"M0 1600 L2400 1600 L2400 0 L0 0  Z\" fill=\"#ffffff\" fill-rule=\"evenodd\" fill-opacity=\"1\"/>\n",
       "<defs>\n",
       "  <clipPath id=\"clip801\">\n",
       "    <rect x=\"480\" y=\"0\" width=\"1681\" height=\"1600\"/>\n",
       "  </clipPath>\n",
       "</defs>\n",
       "<path clip-path=\"url(#clip800)\" d=\"M249.542 1423.18 L2352.76 1423.18 L2352.76 47.2441 L249.542 47.2441  Z\" fill=\"#ffffff\" fill-rule=\"evenodd\" fill-opacity=\"1\"/>\n",
       "<defs>\n",
       "  <clipPath id=\"clip802\">\n",
       "    <rect x=\"249\" y=\"47\" width=\"2104\" height=\"1377\"/>\n",
       "  </clipPath>\n",
       "</defs>\n",
       "<polyline clip-path=\"url(#clip802)\" style=\"stroke:#000000; stroke-linecap:round; stroke-linejoin:round; stroke-width:2; stroke-opacity:0.1; fill:none\" points=\"268.574,1423.18 268.574,47.2441 \"/>\n",
       "<polyline clip-path=\"url(#clip802)\" style=\"stroke:#000000; stroke-linecap:round; stroke-linejoin:round; stroke-width:2; stroke-opacity:0.1; fill:none\" points=\"673.505,1423.18 673.505,47.2441 \"/>\n",
       "<polyline clip-path=\"url(#clip802)\" style=\"stroke:#000000; stroke-linecap:round; stroke-linejoin:round; stroke-width:2; stroke-opacity:0.1; fill:none\" points=\"1078.44,1423.18 1078.44,47.2441 \"/>\n",
       "<polyline clip-path=\"url(#clip802)\" style=\"stroke:#000000; stroke-linecap:round; stroke-linejoin:round; stroke-width:2; stroke-opacity:0.1; fill:none\" points=\"1483.37,1423.18 1483.37,47.2441 \"/>\n",
       "<polyline clip-path=\"url(#clip802)\" style=\"stroke:#000000; stroke-linecap:round; stroke-linejoin:round; stroke-width:2; stroke-opacity:0.1; fill:none\" points=\"1888.3,1423.18 1888.3,47.2441 \"/>\n",
       "<polyline clip-path=\"url(#clip802)\" style=\"stroke:#000000; stroke-linecap:round; stroke-linejoin:round; stroke-width:2; stroke-opacity:0.1; fill:none\" points=\"2293.23,1423.18 2293.23,47.2441 \"/>\n",
       "<polyline clip-path=\"url(#clip800)\" style=\"stroke:#000000; stroke-linecap:round; stroke-linejoin:round; stroke-width:4; stroke-opacity:1; fill:none\" points=\"249.542,1423.18 2352.76,1423.18 \"/>\n",
       "<polyline clip-path=\"url(#clip800)\" style=\"stroke:#000000; stroke-linecap:round; stroke-linejoin:round; stroke-width:4; stroke-opacity:1; fill:none\" points=\"268.574,1423.18 268.574,1404.28 \"/>\n",
       "<polyline clip-path=\"url(#clip800)\" style=\"stroke:#000000; stroke-linecap:round; stroke-linejoin:round; stroke-width:4; stroke-opacity:1; fill:none\" points=\"673.505,1423.18 673.505,1404.28 \"/>\n",
       "<polyline clip-path=\"url(#clip800)\" style=\"stroke:#000000; stroke-linecap:round; stroke-linejoin:round; stroke-width:4; stroke-opacity:1; fill:none\" points=\"1078.44,1423.18 1078.44,1404.28 \"/>\n",
       "<polyline clip-path=\"url(#clip800)\" style=\"stroke:#000000; stroke-linecap:round; stroke-linejoin:round; stroke-width:4; stroke-opacity:1; fill:none\" points=\"1483.37,1423.18 1483.37,1404.28 \"/>\n",
       "<polyline clip-path=\"url(#clip800)\" style=\"stroke:#000000; stroke-linecap:round; stroke-linejoin:round; stroke-width:4; stroke-opacity:1; fill:none\" points=\"1888.3,1423.18 1888.3,1404.28 \"/>\n",
       "<polyline clip-path=\"url(#clip800)\" style=\"stroke:#000000; stroke-linecap:round; stroke-linejoin:round; stroke-width:4; stroke-opacity:1; fill:none\" points=\"2293.23,1423.18 2293.23,1404.28 \"/>\n",
       "<path clip-path=\"url(#clip800)\" d=\"M268.574 1454.1 Q264.963 1454.1 263.134 1457.66 Q261.328 1461.2 261.328 1468.33 Q261.328 1475.44 263.134 1479.01 Q264.963 1482.55 268.574 1482.55 Q272.208 1482.55 274.014 1479.01 Q275.842 1475.44 275.842 1468.33 Q275.842 1461.2 274.014 1457.66 Q272.208 1454.1 268.574 1454.1 M268.574 1450.39 Q274.384 1450.39 277.44 1455 Q280.518 1459.58 280.518 1468.33 Q280.518 1477.06 277.44 1481.67 Q274.384 1486.25 268.574 1486.25 Q262.764 1486.25 259.685 1481.67 Q256.629 1477.06 256.629 1468.33 Q256.629 1459.58 259.685 1455 Q262.764 1450.39 268.574 1450.39 Z\" fill=\"#000000\" fill-rule=\"evenodd\" fill-opacity=\"1\" /><path clip-path=\"url(#clip800)\" d=\"M648.193 1481.64 L655.832 1481.64 L655.832 1455.28 L647.522 1456.95 L647.522 1452.69 L655.785 1451.02 L660.461 1451.02 L660.461 1481.64 L668.1 1481.64 L668.1 1485.58 L648.193 1485.58 L648.193 1481.64 Z\" fill=\"#000000\" fill-rule=\"evenodd\" fill-opacity=\"1\" /><path clip-path=\"url(#clip800)\" d=\"M687.545 1454.1 Q683.933 1454.1 682.105 1457.66 Q680.299 1461.2 680.299 1468.33 Q680.299 1475.44 682.105 1479.01 Q683.933 1482.55 687.545 1482.55 Q691.179 1482.55 692.984 1479.01 Q694.813 1475.44 694.813 1468.33 Q694.813 1461.2 692.984 1457.66 Q691.179 1454.1 687.545 1454.1 M687.545 1450.39 Q693.355 1450.39 696.41 1455 Q699.489 1459.58 699.489 1468.33 Q699.489 1477.06 696.41 1481.67 Q693.355 1486.25 687.545 1486.25 Q681.734 1486.25 678.656 1481.67 Q675.6 1477.06 675.6 1468.33 Q675.6 1459.58 678.656 1455 Q681.734 1450.39 687.545 1450.39 Z\" fill=\"#000000\" fill-rule=\"evenodd\" fill-opacity=\"1\" /><path clip-path=\"url(#clip800)\" d=\"M1057.21 1481.64 L1073.53 1481.64 L1073.53 1485.58 L1051.58 1485.58 L1051.58 1481.64 Q1054.25 1478.89 1058.83 1474.26 Q1063.44 1469.61 1064.62 1468.27 Q1066.86 1465.74 1067.74 1464.01 Q1068.65 1462.25 1068.65 1460.56 Q1068.65 1457.8 1066.7 1456.07 Q1064.78 1454.33 1061.68 1454.33 Q1059.48 1454.33 1057.02 1455.09 Q1054.59 1455.86 1051.82 1457.41 L1051.82 1452.69 Q1054.64 1451.55 1057.09 1450.97 Q1059.55 1450.39 1061.58 1450.39 Q1066.96 1450.39 1070.15 1453.08 Q1073.34 1455.77 1073.34 1460.26 Q1073.34 1462.39 1072.53 1464.31 Q1071.75 1466.2 1069.64 1468.8 Q1069.06 1469.47 1065.96 1472.69 Q1062.86 1475.88 1057.21 1481.64 Z\" fill=\"#000000\" fill-rule=\"evenodd\" fill-opacity=\"1\" /><path clip-path=\"url(#clip800)\" d=\"M1093.34 1454.1 Q1089.73 1454.1 1087.9 1457.66 Q1086.1 1461.2 1086.1 1468.33 Q1086.1 1475.44 1087.9 1479.01 Q1089.73 1482.55 1093.34 1482.55 Q1096.98 1482.55 1098.78 1479.01 Q1100.61 1475.44 1100.61 1468.33 Q1100.61 1461.2 1098.78 1457.66 Q1096.98 1454.1 1093.34 1454.1 M1093.34 1450.39 Q1099.15 1450.39 1102.21 1455 Q1105.29 1459.58 1105.29 1468.33 Q1105.29 1477.06 1102.21 1481.67 Q1099.15 1486.25 1093.34 1486.25 Q1087.53 1486.25 1084.46 1481.67 Q1081.4 1477.06 1081.4 1468.33 Q1081.4 1459.58 1084.46 1455 Q1087.53 1450.39 1093.34 1450.39 Z\" fill=\"#000000\" fill-rule=\"evenodd\" fill-opacity=\"1\" /><path clip-path=\"url(#clip800)\" d=\"M1472.21 1466.95 Q1475.57 1467.66 1477.44 1469.93 Q1479.34 1472.2 1479.34 1475.53 Q1479.34 1480.65 1475.82 1483.45 Q1472.3 1486.25 1465.82 1486.25 Q1463.65 1486.25 1461.33 1485.81 Q1459.04 1485.39 1456.59 1484.54 L1456.59 1480.02 Q1458.53 1481.16 1460.85 1481.74 Q1463.16 1482.32 1465.68 1482.32 Q1470.08 1482.32 1472.37 1480.58 Q1474.69 1478.84 1474.69 1475.53 Q1474.69 1472.48 1472.53 1470.77 Q1470.41 1469.03 1466.59 1469.03 L1462.56 1469.03 L1462.56 1465.19 L1466.77 1465.19 Q1470.22 1465.19 1472.05 1463.82 Q1473.88 1462.43 1473.88 1459.84 Q1473.88 1457.18 1471.98 1455.77 Q1470.1 1454.33 1466.59 1454.33 Q1464.66 1454.33 1462.47 1454.75 Q1460.27 1455.16 1457.63 1456.04 L1457.63 1451.88 Q1460.29 1451.14 1462.6 1450.77 Q1464.94 1450.39 1467 1450.39 Q1472.33 1450.39 1475.43 1452.83 Q1478.53 1455.23 1478.53 1459.35 Q1478.53 1462.22 1476.89 1464.21 Q1475.24 1466.18 1472.21 1466.95 Z\" fill=\"#000000\" fill-rule=\"evenodd\" fill-opacity=\"1\" /><path clip-path=\"url(#clip800)\" d=\"M1498.21 1454.1 Q1494.59 1454.1 1492.77 1457.66 Q1490.96 1461.2 1490.96 1468.33 Q1490.96 1475.44 1492.77 1479.01 Q1494.59 1482.55 1498.21 1482.55 Q1501.84 1482.55 1503.65 1479.01 Q1505.47 1475.44 1505.47 1468.33 Q1505.47 1461.2 1503.65 1457.66 Q1501.84 1454.1 1498.21 1454.1 M1498.21 1450.39 Q1504.02 1450.39 1507.07 1455 Q1510.15 1459.58 1510.15 1468.33 Q1510.15 1477.06 1507.07 1481.67 Q1504.02 1486.25 1498.21 1486.25 Q1492.4 1486.25 1489.32 1481.67 Q1486.26 1477.06 1486.26 1468.33 Q1486.26 1459.58 1489.32 1455 Q1492.4 1450.39 1498.21 1450.39 Z\" fill=\"#000000\" fill-rule=\"evenodd\" fill-opacity=\"1\" /><path clip-path=\"url(#clip800)\" d=\"M1876.47 1455.09 L1864.67 1473.54 L1876.47 1473.54 L1876.47 1455.09 M1875.24 1451.02 L1881.12 1451.02 L1881.12 1473.54 L1886.05 1473.54 L1886.05 1477.43 L1881.12 1477.43 L1881.12 1485.58 L1876.47 1485.58 L1876.47 1477.43 L1860.87 1477.43 L1860.87 1472.92 L1875.24 1451.02 Z\" fill=\"#000000\" fill-rule=\"evenodd\" fill-opacity=\"1\" /><path clip-path=\"url(#clip800)\" d=\"M1903.79 1454.1 Q1900.17 1454.1 1898.35 1457.66 Q1896.54 1461.2 1896.54 1468.33 Q1896.54 1475.44 1898.35 1479.01 Q1900.17 1482.55 1903.79 1482.55 Q1907.42 1482.55 1909.23 1479.01 Q1911.05 1475.44 1911.05 1468.33 Q1911.05 1461.2 1909.23 1457.66 Q1907.42 1454.1 1903.79 1454.1 M1903.79 1450.39 Q1909.6 1450.39 1912.65 1455 Q1915.73 1459.58 1915.73 1468.33 Q1915.73 1477.06 1912.65 1481.67 Q1909.6 1486.25 1903.79 1486.25 Q1897.98 1486.25 1894.9 1481.67 Q1891.84 1477.06 1891.84 1468.33 Q1891.84 1459.58 1894.9 1455 Q1897.98 1450.39 1903.79 1450.39 Z\" fill=\"#000000\" fill-rule=\"evenodd\" fill-opacity=\"1\" /><path clip-path=\"url(#clip800)\" d=\"M2267.93 1451.02 L2286.29 1451.02 L2286.29 1454.96 L2272.21 1454.96 L2272.21 1463.43 Q2273.23 1463.08 2274.25 1462.92 Q2275.27 1462.73 2276.29 1462.73 Q2282.07 1462.73 2285.45 1465.9 Q2288.83 1469.08 2288.83 1474.49 Q2288.83 1480.07 2285.36 1483.17 Q2281.89 1486.25 2275.57 1486.25 Q2273.39 1486.25 2271.12 1485.88 Q2268.88 1485.51 2266.47 1484.77 L2266.47 1480.07 Q2268.56 1481.2 2270.78 1481.76 Q2273 1482.32 2275.48 1482.32 Q2279.48 1482.32 2281.82 1480.21 Q2284.16 1478.1 2284.16 1474.49 Q2284.16 1470.88 2281.82 1468.77 Q2279.48 1466.67 2275.48 1466.67 Q2273.6 1466.67 2271.73 1467.08 Q2269.87 1467.5 2267.93 1468.38 L2267.93 1451.02 Z\" fill=\"#000000\" fill-rule=\"evenodd\" fill-opacity=\"1\" /><path clip-path=\"url(#clip800)\" d=\"M2308.05 1454.1 Q2304.43 1454.1 2302.61 1457.66 Q2300.8 1461.2 2300.8 1468.33 Q2300.8 1475.44 2302.61 1479.01 Q2304.43 1482.55 2308.05 1482.55 Q2311.68 1482.55 2313.49 1479.01 Q2315.31 1475.44 2315.31 1468.33 Q2315.31 1461.2 2313.49 1457.66 Q2311.68 1454.1 2308.05 1454.1 M2308.05 1450.39 Q2313.86 1450.39 2316.91 1455 Q2319.99 1459.58 2319.99 1468.33 Q2319.99 1477.06 2316.91 1481.67 Q2313.86 1486.25 2308.05 1486.25 Q2302.24 1486.25 2299.16 1481.67 Q2296.1 1477.06 2296.1 1468.33 Q2296.1 1459.58 2299.16 1455 Q2302.24 1450.39 2308.05 1450.39 Z\" fill=\"#000000\" fill-rule=\"evenodd\" fill-opacity=\"1\" /><path clip-path=\"url(#clip800)\" d=\"M1162.15 1539.37 L1152.89 1539.37 L1150.22 1550 L1159.54 1550 L1162.15 1539.37 M1157.38 1521.26 L1154.07 1534.46 L1163.36 1534.46 L1166.71 1521.26 L1171.8 1521.26 L1168.52 1534.46 L1178.45 1534.46 L1178.45 1539.37 L1167.28 1539.37 L1164.67 1550 L1174.79 1550 L1174.79 1554.87 L1163.43 1554.87 L1160.12 1568.04 L1155.02 1568.04 L1158.3 1554.87 L1148.98 1554.87 L1145.7 1568.04 L1140.57 1568.04 L1143.88 1554.87 L1133.86 1554.87 L1133.86 1550 L1145.06 1550 L1147.74 1539.37 L1137.49 1539.37 L1137.49 1534.46 L1148.98 1534.46 L1152.22 1521.26 L1157.38 1521.26 Z\" fill=\"#000000\" fill-rule=\"evenodd\" fill-opacity=\"1\" /><path clip-path=\"url(#clip800)\" d=\"M1230.97 1537.87 Q1229.98 1537.3 1228.8 1537.04 Q1227.66 1536.76 1226.26 1536.76 Q1221.29 1536.76 1218.62 1540 Q1215.98 1543.22 1215.98 1549.27 L1215.98 1568.04 L1210.09 1568.04 L1210.09 1532.4 L1215.98 1532.4 L1215.98 1537.93 Q1217.82 1534.69 1220.78 1533.13 Q1223.74 1531.54 1227.98 1531.54 Q1228.58 1531.54 1229.31 1531.63 Q1230.04 1531.7 1230.94 1531.85 L1230.97 1537.87 Z\" fill=\"#000000\" fill-rule=\"evenodd\" fill-opacity=\"1\" /><path clip-path=\"url(#clip800)\" d=\"M1266.17 1548.76 L1266.17 1551.62 L1239.24 1551.62 Q1239.62 1557.67 1242.87 1560.85 Q1246.15 1564 1251.97 1564 Q1255.35 1564 1258.5 1563.17 Q1261.68 1562.35 1264.8 1560.69 L1264.8 1566.23 Q1261.65 1567.57 1258.34 1568.27 Q1255.03 1568.97 1251.62 1568.97 Q1243.09 1568.97 1238.1 1564 Q1233.13 1559.04 1233.13 1550.57 Q1233.13 1541.82 1237.84 1536.69 Q1242.58 1531.54 1250.61 1531.54 Q1257.8 1531.54 1261.97 1536.18 Q1266.17 1540.8 1266.17 1548.76 M1260.31 1547.04 Q1260.25 1542.23 1257.61 1539.37 Q1255 1536.5 1250.67 1536.5 Q1245.77 1536.5 1242.81 1539.27 Q1239.88 1542.04 1239.43 1547.07 L1260.31 1547.04 Z\" fill=\"#000000\" fill-rule=\"evenodd\" fill-opacity=\"1\" /><path clip-path=\"url(#clip800)\" d=\"M1291.98 1550.12 Q1284.88 1550.12 1282.15 1551.75 Q1279.41 1553.37 1279.41 1557.29 Q1279.41 1560.4 1281.45 1562.25 Q1283.52 1564.07 1287.05 1564.07 Q1291.92 1564.07 1294.85 1560.63 Q1297.81 1557.16 1297.81 1551.43 L1297.81 1550.12 L1291.98 1550.12 M1303.66 1547.71 L1303.66 1568.04 L1297.81 1568.04 L1297.81 1562.63 Q1295.8 1565.88 1292.81 1567.44 Q1289.82 1568.97 1285.49 1568.97 Q1280.01 1568.97 1276.77 1565.91 Q1273.55 1562.82 1273.55 1557.67 Q1273.55 1551.65 1277.56 1548.6 Q1281.61 1545.54 1289.6 1545.54 L1297.81 1545.54 L1297.81 1544.97 Q1297.81 1540.93 1295.13 1538.73 Q1292.49 1536.5 1287.69 1536.5 Q1284.63 1536.5 1281.73 1537.23 Q1278.84 1537.97 1276.16 1539.43 L1276.16 1534.02 Q1279.38 1532.78 1282.4 1532.17 Q1285.43 1531.54 1288.29 1531.54 Q1296.02 1531.54 1299.84 1535.55 Q1303.66 1539.56 1303.66 1547.71 Z\" fill=\"#000000\" fill-rule=\"evenodd\" fill-opacity=\"1\" /><path clip-path=\"url(#clip800)\" d=\"M1341.38 1533.76 L1341.38 1539.24 Q1338.9 1537.87 1336.38 1537.2 Q1333.9 1536.5 1331.35 1536.5 Q1325.66 1536.5 1322.51 1540.13 Q1319.35 1543.73 1319.35 1550.25 Q1319.35 1556.78 1322.51 1560.4 Q1325.66 1564 1331.35 1564 Q1333.9 1564 1336.38 1563.33 Q1338.9 1562.63 1341.38 1561.26 L1341.38 1566.68 Q1338.93 1567.82 1336.29 1568.39 Q1333.68 1568.97 1330.72 1568.97 Q1322.67 1568.97 1317.92 1563.91 Q1313.18 1558.85 1313.18 1550.25 Q1313.18 1541.53 1317.95 1536.53 Q1322.76 1531.54 1331.1 1531.54 Q1333.81 1531.54 1336.38 1532.11 Q1338.96 1532.65 1341.38 1533.76 Z\" fill=\"#000000\" fill-rule=\"evenodd\" fill-opacity=\"1\" /><path clip-path=\"url(#clip800)\" d=\"M1357.36 1522.27 L1357.36 1532.4 L1369.42 1532.4 L1369.42 1536.95 L1357.36 1536.95 L1357.36 1556.3 Q1357.36 1560.66 1358.54 1561.9 Q1359.75 1563.14 1363.41 1563.14 L1369.42 1563.14 L1369.42 1568.04 L1363.41 1568.04 Q1356.63 1568.04 1354.05 1565.53 Q1351.47 1562.98 1351.47 1556.3 L1351.47 1536.95 L1347.17 1536.95 L1347.17 1532.4 L1351.47 1532.4 L1351.47 1522.27 L1357.36 1522.27 Z\" fill=\"#000000\" fill-rule=\"evenodd\" fill-opacity=\"1\" /><path clip-path=\"url(#clip800)\" d=\"M1390.94 1536.5 Q1386.23 1536.5 1383.49 1540.19 Q1380.75 1543.85 1380.75 1550.25 Q1380.75 1556.65 1383.46 1560.34 Q1386.19 1564 1390.94 1564 Q1395.62 1564 1398.35 1560.31 Q1401.09 1556.62 1401.09 1550.25 Q1401.09 1543.92 1398.35 1540.23 Q1395.62 1536.5 1390.94 1536.5 M1390.94 1531.54 Q1398.58 1531.54 1402.94 1536.5 Q1407.3 1541.47 1407.3 1550.25 Q1407.3 1559 1402.94 1564 Q1398.58 1568.97 1390.94 1568.97 Q1383.27 1568.97 1378.91 1564 Q1374.58 1559 1374.58 1550.25 Q1374.58 1541.47 1378.91 1536.5 Q1383.27 1531.54 1390.94 1531.54 Z\" fill=\"#000000\" fill-rule=\"evenodd\" fill-opacity=\"1\" /><path clip-path=\"url(#clip800)\" d=\"M1437.66 1537.87 Q1436.67 1537.3 1435.5 1537.04 Q1434.35 1536.76 1432.95 1536.76 Q1427.99 1536.76 1425.31 1540 Q1422.67 1543.22 1422.67 1549.27 L1422.67 1568.04 L1416.78 1568.04 L1416.78 1532.4 L1422.67 1532.4 L1422.67 1537.93 Q1424.52 1534.69 1427.48 1533.13 Q1430.44 1531.54 1434.67 1531.54 Q1435.27 1531.54 1436.01 1531.63 Q1436.74 1531.7 1437.63 1531.85 L1437.66 1537.87 Z\" fill=\"#000000\" fill-rule=\"evenodd\" fill-opacity=\"1\" /><path clip-path=\"url(#clip800)\" d=\"M1466.53 1533.45 L1466.53 1538.98 Q1464.05 1537.71 1461.37 1537.07 Q1458.7 1536.44 1455.84 1536.44 Q1451.48 1536.44 1449.28 1537.77 Q1447.11 1539.11 1447.11 1541.79 Q1447.11 1543.82 1448.67 1545 Q1450.23 1546.15 1454.94 1547.2 L1456.95 1547.64 Q1463.19 1548.98 1465.8 1551.43 Q1468.44 1553.85 1468.44 1558.21 Q1468.44 1563.17 1464.49 1566.07 Q1460.58 1568.97 1453.7 1568.97 Q1450.84 1568.97 1447.72 1568.39 Q1444.63 1567.85 1441.19 1566.74 L1441.19 1560.69 Q1444.44 1562.38 1447.59 1563.24 Q1450.74 1564.07 1453.83 1564.07 Q1457.97 1564.07 1460.2 1562.66 Q1462.42 1561.23 1462.42 1558.65 Q1462.42 1556.27 1460.8 1554.99 Q1459.21 1553.72 1453.77 1552.54 L1451.73 1552.07 Q1446.29 1550.92 1443.87 1548.56 Q1441.45 1546.18 1441.45 1542.04 Q1441.45 1537.01 1445.01 1534.27 Q1448.58 1531.54 1455.14 1531.54 Q1458.38 1531.54 1461.25 1532.01 Q1464.11 1532.49 1466.53 1533.45 Z\" fill=\"#000000\" fill-rule=\"evenodd\" fill-opacity=\"1\" /><polyline clip-path=\"url(#clip802)\" style=\"stroke:#000000; stroke-linecap:round; stroke-linejoin:round; stroke-width:2; stroke-opacity:0.1; fill:none\" points=\"249.542,1379.96 2352.76,1379.96 \"/>\n",
       "<polyline clip-path=\"url(#clip802)\" style=\"stroke:#000000; stroke-linecap:round; stroke-linejoin:round; stroke-width:2; stroke-opacity:0.1; fill:none\" points=\"249.542,1015.49 2352.76,1015.49 \"/>\n",
       "<polyline clip-path=\"url(#clip802)\" style=\"stroke:#000000; stroke-linecap:round; stroke-linejoin:round; stroke-width:2; stroke-opacity:0.1; fill:none\" points=\"249.542,651.016 2352.76,651.016 \"/>\n",
       "<polyline clip-path=\"url(#clip802)\" style=\"stroke:#000000; stroke-linecap:round; stroke-linejoin:round; stroke-width:2; stroke-opacity:0.1; fill:none\" points=\"249.542,286.545 2352.76,286.545 \"/>\n",
       "<polyline clip-path=\"url(#clip800)\" style=\"stroke:#000000; stroke-linecap:round; stroke-linejoin:round; stroke-width:4; stroke-opacity:1; fill:none\" points=\"249.542,1423.18 249.542,47.2441 \"/>\n",
       "<polyline clip-path=\"url(#clip800)\" style=\"stroke:#000000; stroke-linecap:round; stroke-linejoin:round; stroke-width:4; stroke-opacity:1; fill:none\" points=\"249.542,1379.96 268.44,1379.96 \"/>\n",
       "<polyline clip-path=\"url(#clip800)\" style=\"stroke:#000000; stroke-linecap:round; stroke-linejoin:round; stroke-width:4; stroke-opacity:1; fill:none\" points=\"249.542,1015.49 268.44,1015.49 \"/>\n",
       "<polyline clip-path=\"url(#clip800)\" style=\"stroke:#000000; stroke-linecap:round; stroke-linejoin:round; stroke-width:4; stroke-opacity:1; fill:none\" points=\"249.542,651.016 268.44,651.016 \"/>\n",
       "<polyline clip-path=\"url(#clip800)\" style=\"stroke:#000000; stroke-linecap:round; stroke-linejoin:round; stroke-width:4; stroke-opacity:1; fill:none\" points=\"249.542,286.545 268.44,286.545 \"/>\n",
       "<path clip-path=\"url(#clip800)\" d=\"M126.205 1365.76 Q122.593 1365.76 120.765 1369.32 Q118.959 1372.86 118.959 1379.99 Q118.959 1387.1 120.765 1390.67 Q122.593 1394.21 126.205 1394.21 Q129.839 1394.21 131.644 1390.67 Q133.473 1387.1 133.473 1379.99 Q133.473 1372.86 131.644 1369.32 Q129.839 1365.76 126.205 1365.76 M126.205 1362.05 Q132.015 1362.05 135.07 1366.66 Q138.149 1371.24 138.149 1379.99 Q138.149 1388.72 135.07 1393.33 Q132.015 1397.91 126.205 1397.91 Q120.394 1397.91 117.316 1393.33 Q114.26 1388.72 114.26 1379.99 Q114.26 1371.24 117.316 1366.66 Q120.394 1362.05 126.205 1362.05 Z\" fill=\"#000000\" fill-rule=\"evenodd\" fill-opacity=\"1\" /><path clip-path=\"url(#clip800)\" d=\"M146.366 1391.36 L151.251 1391.36 L151.251 1397.24 L146.366 1397.24 L146.366 1391.36 Z\" fill=\"#000000\" fill-rule=\"evenodd\" fill-opacity=\"1\" /><path clip-path=\"url(#clip800)\" d=\"M171.436 1365.76 Q167.825 1365.76 165.996 1369.32 Q164.19 1372.86 164.19 1379.99 Q164.19 1387.1 165.996 1390.67 Q167.825 1394.21 171.436 1394.21 Q175.07 1394.21 176.876 1390.67 Q178.704 1387.1 178.704 1379.99 Q178.704 1372.86 176.876 1369.32 Q175.07 1365.76 171.436 1365.76 M171.436 1362.05 Q177.246 1362.05 180.301 1366.66 Q183.38 1371.24 183.38 1379.99 Q183.38 1388.72 180.301 1393.33 Q177.246 1397.91 171.436 1397.91 Q165.626 1397.91 162.547 1393.33 Q159.491 1388.72 159.491 1379.99 Q159.491 1371.24 162.547 1366.66 Q165.626 1362.05 171.436 1362.05 Z\" fill=\"#000000\" fill-rule=\"evenodd\" fill-opacity=\"1\" /><path clip-path=\"url(#clip800)\" d=\"M201.598 1365.76 Q197.987 1365.76 196.158 1369.32 Q194.352 1372.86 194.352 1379.99 Q194.352 1387.1 196.158 1390.67 Q197.987 1394.21 201.598 1394.21 Q205.232 1394.21 207.037 1390.67 Q208.866 1387.1 208.866 1379.99 Q208.866 1372.86 207.037 1369.32 Q205.232 1365.76 201.598 1365.76 M201.598 1362.05 Q207.408 1362.05 210.463 1366.66 Q213.542 1371.24 213.542 1379.99 Q213.542 1388.72 210.463 1393.33 Q207.408 1397.91 201.598 1397.91 Q195.787 1397.91 192.709 1393.33 Q189.653 1388.72 189.653 1379.99 Q189.653 1371.24 192.709 1366.66 Q195.787 1362.05 201.598 1362.05 Z\" fill=\"#000000\" fill-rule=\"evenodd\" fill-opacity=\"1\" /><path clip-path=\"url(#clip800)\" d=\"M127.431 1001.29 Q123.82 1001.29 121.992 1004.85 Q120.186 1008.39 120.186 1015.52 Q120.186 1022.63 121.992 1026.19 Q123.82 1029.74 127.431 1029.74 Q131.066 1029.74 132.871 1026.19 Q134.7 1022.63 134.7 1015.52 Q134.7 1008.39 132.871 1004.85 Q131.066 1001.29 127.431 1001.29 M127.431 997.583 Q133.242 997.583 136.297 1002.19 Q139.376 1006.77 139.376 1015.52 Q139.376 1024.25 136.297 1028.86 Q133.242 1033.44 127.431 1033.44 Q121.621 1033.44 118.543 1028.86 Q115.487 1024.25 115.487 1015.52 Q115.487 1006.77 118.543 1002.19 Q121.621 997.583 127.431 997.583 Z\" fill=\"#000000\" fill-rule=\"evenodd\" fill-opacity=\"1\" /><path clip-path=\"url(#clip800)\" d=\"M147.593 1026.89 L152.478 1026.89 L152.478 1032.77 L147.593 1032.77 L147.593 1026.89 Z\" fill=\"#000000\" fill-rule=\"evenodd\" fill-opacity=\"1\" /><path clip-path=\"url(#clip800)\" d=\"M172.663 1001.29 Q169.052 1001.29 167.223 1004.85 Q165.417 1008.39 165.417 1015.52 Q165.417 1022.63 167.223 1026.19 Q169.052 1029.74 172.663 1029.74 Q176.297 1029.74 178.102 1026.19 Q179.931 1022.63 179.931 1015.52 Q179.931 1008.39 178.102 1004.85 Q176.297 1001.29 172.663 1001.29 M172.663 997.583 Q178.473 997.583 181.528 1002.19 Q184.607 1006.77 184.607 1015.52 Q184.607 1024.25 181.528 1028.86 Q178.473 1033.44 172.663 1033.44 Q166.852 1033.44 163.774 1028.86 Q160.718 1024.25 160.718 1015.52 Q160.718 1006.77 163.774 1002.19 Q166.852 997.583 172.663 997.583 Z\" fill=\"#000000\" fill-rule=\"evenodd\" fill-opacity=\"1\" /><path clip-path=\"url(#clip800)\" d=\"M193.635 1028.83 L201.274 1028.83 L201.274 1002.47 L192.963 1004.13 L192.963 999.874 L201.227 998.208 L205.903 998.208 L205.903 1028.83 L213.542 1028.83 L213.542 1032.77 L193.635 1032.77 L193.635 1028.83 Z\" fill=\"#000000\" fill-rule=\"evenodd\" fill-opacity=\"1\" /><path clip-path=\"url(#clip800)\" d=\"M127.802 636.815 Q124.191 636.815 122.362 640.38 Q120.556 643.922 120.556 651.051 Q120.556 658.158 122.362 661.722 Q124.191 665.264 127.802 665.264 Q131.436 665.264 133.242 661.722 Q135.07 658.158 135.07 651.051 Q135.07 643.922 133.242 640.38 Q131.436 636.815 127.802 636.815 M127.802 633.111 Q133.612 633.111 136.667 637.718 Q139.746 642.301 139.746 651.051 Q139.746 659.778 136.667 664.384 Q133.612 668.968 127.802 668.968 Q121.992 668.968 118.913 664.384 Q115.857 659.778 115.857 651.051 Q115.857 642.301 118.913 637.718 Q121.992 633.111 127.802 633.111 Z\" fill=\"#000000\" fill-rule=\"evenodd\" fill-opacity=\"1\" /><path clip-path=\"url(#clip800)\" d=\"M147.964 662.417 L152.848 662.417 L152.848 668.296 L147.964 668.296 L147.964 662.417 Z\" fill=\"#000000\" fill-rule=\"evenodd\" fill-opacity=\"1\" /><path clip-path=\"url(#clip800)\" d=\"M173.033 636.815 Q169.422 636.815 167.593 640.38 Q165.788 643.922 165.788 651.051 Q165.788 658.158 167.593 661.722 Q169.422 665.264 173.033 665.264 Q176.667 665.264 178.473 661.722 Q180.301 658.158 180.301 651.051 Q180.301 643.922 178.473 640.38 Q176.667 636.815 173.033 636.815 M173.033 633.111 Q178.843 633.111 181.899 637.718 Q184.977 642.301 184.977 651.051 Q184.977 659.778 181.899 664.384 Q178.843 668.968 173.033 668.968 Q167.223 668.968 164.144 664.384 Q161.089 659.778 161.089 651.051 Q161.089 642.301 164.144 637.718 Q167.223 633.111 173.033 633.111 Z\" fill=\"#000000\" fill-rule=\"evenodd\" fill-opacity=\"1\" /><path clip-path=\"url(#clip800)\" d=\"M197.223 664.361 L213.542 664.361 L213.542 668.296 L191.598 668.296 L191.598 664.361 Q194.26 661.607 198.843 656.977 Q203.449 652.324 204.63 650.982 Q206.875 648.459 207.755 646.722 Q208.658 644.963 208.658 643.273 Q208.658 640.519 206.713 638.783 Q204.792 637.047 201.69 637.047 Q199.491 637.047 197.037 637.811 Q194.607 638.574 191.829 640.125 L191.829 635.403 Q194.653 634.269 197.107 633.69 Q199.561 633.111 201.598 633.111 Q206.968 633.111 210.162 635.797 Q213.357 638.482 213.357 642.973 Q213.357 645.102 212.547 647.023 Q211.76 648.922 209.653 651.514 Q209.074 652.185 205.973 655.403 Q202.871 658.597 197.223 664.361 Z\" fill=\"#000000\" fill-rule=\"evenodd\" fill-opacity=\"1\" /><path clip-path=\"url(#clip800)\" d=\"M126.853 272.344 Q123.242 272.344 121.413 275.909 Q119.607 279.45 119.607 286.58 Q119.607 293.686 121.413 297.251 Q123.242 300.793 126.853 300.793 Q130.487 300.793 132.292 297.251 Q134.121 293.686 134.121 286.58 Q134.121 279.45 132.292 275.909 Q130.487 272.344 126.853 272.344 M126.853 268.64 Q132.663 268.64 135.718 273.247 Q138.797 277.83 138.797 286.58 Q138.797 295.307 135.718 299.913 Q132.663 304.496 126.853 304.496 Q121.043 304.496 117.964 299.913 Q114.908 295.307 114.908 286.58 Q114.908 277.83 117.964 273.247 Q121.043 268.64 126.853 268.64 Z\" fill=\"#000000\" fill-rule=\"evenodd\" fill-opacity=\"1\" /><path clip-path=\"url(#clip800)\" d=\"M147.015 297.945 L151.899 297.945 L151.899 303.825 L147.015 303.825 L147.015 297.945 Z\" fill=\"#000000\" fill-rule=\"evenodd\" fill-opacity=\"1\" /><path clip-path=\"url(#clip800)\" d=\"M172.084 272.344 Q168.473 272.344 166.644 275.909 Q164.839 279.45 164.839 286.58 Q164.839 293.686 166.644 297.251 Q168.473 300.793 172.084 300.793 Q175.718 300.793 177.524 297.251 Q179.352 293.686 179.352 286.58 Q179.352 279.45 177.524 275.909 Q175.718 272.344 172.084 272.344 M172.084 268.64 Q177.894 268.64 180.95 273.247 Q184.028 277.83 184.028 286.58 Q184.028 295.307 180.95 299.913 Q177.894 304.496 172.084 304.496 Q166.274 304.496 163.195 299.913 Q160.14 295.307 160.14 286.58 Q160.14 277.83 163.195 273.247 Q166.274 268.64 172.084 268.64 Z\" fill=\"#000000\" fill-rule=\"evenodd\" fill-opacity=\"1\" /><path clip-path=\"url(#clip800)\" d=\"M206.412 285.191 Q209.769 285.908 211.644 288.177 Q213.542 290.445 213.542 293.779 Q213.542 298.895 210.024 301.695 Q206.505 304.496 200.024 304.496 Q197.848 304.496 195.533 304.057 Q193.241 303.64 190.788 302.783 L190.788 298.27 Q192.732 299.404 195.047 299.982 Q197.362 300.561 199.885 300.561 Q204.283 300.561 206.574 298.825 Q208.889 297.089 208.889 293.779 Q208.889 290.723 206.737 289.01 Q204.607 287.274 200.787 287.274 L196.76 287.274 L196.76 283.432 L200.973 283.432 Q204.422 283.432 206.25 282.066 Q208.079 280.677 208.079 278.084 Q208.079 275.422 206.181 274.01 Q204.306 272.575 200.787 272.575 Q198.866 272.575 196.667 272.992 Q194.468 273.409 191.829 274.288 L191.829 270.122 Q194.491 269.381 196.806 269.01 Q199.144 268.64 201.204 268.64 Q206.528 268.64 209.63 271.071 Q212.732 273.478 212.732 277.598 Q212.732 280.469 211.088 282.459 Q209.445 284.427 206.412 285.191 Z\" fill=\"#000000\" fill-rule=\"evenodd\" fill-opacity=\"1\" /><path clip-path=\"url(#clip800)\" d=\"M32.4621 1247.81 Q32.4621 1252.52 36.1542 1255.26 Q39.8145 1258 46.212 1258 Q52.6095 1258 56.3017 1255.29 Q59.9619 1252.55 59.9619 1247.81 Q59.9619 1243.13 56.2698 1240.39 Q52.5777 1237.66 46.212 1237.66 Q39.8781 1237.66 36.186 1240.39 Q32.4621 1243.13 32.4621 1247.81 M27.4968 1247.81 Q27.4968 1240.17 32.4621 1235.81 Q37.4273 1231.45 46.212 1231.45 Q54.9649 1231.45 59.9619 1235.81 Q64.9272 1240.17 64.9272 1247.81 Q64.9272 1255.48 59.9619 1259.84 Q54.9649 1264.17 46.212 1264.17 Q37.4273 1264.17 32.4621 1259.84 Q27.4968 1255.48 27.4968 1247.81 Z\" fill=\"#000000\" fill-rule=\"evenodd\" fill-opacity=\"1\" /><path clip-path=\"url(#clip800)\" d=\"M46.212 1196.15 Q39.7508 1196.15 36.0905 1198.83 Q32.3984 1201.47 32.3984 1206.12 Q32.3984 1210.76 36.0905 1213.44 Q39.7508 1216.08 46.212 1216.08 Q52.6732 1216.08 56.3653 1213.44 Q60.0256 1210.76 60.0256 1206.12 Q60.0256 1201.47 56.3653 1198.83 Q52.6732 1196.15 46.212 1196.15 M33.7671 1216.08 Q30.5842 1214.23 29.0564 1211.43 Q27.4968 1208.6 27.4968 1204.68 Q27.4968 1198.19 32.6531 1194.15 Q37.8093 1190.07 46.212 1190.07 Q54.6147 1190.07 59.771 1194.15 Q64.9272 1198.19 64.9272 1204.68 Q64.9272 1208.6 63.3994 1211.43 Q61.8398 1214.23 58.657 1216.08 L64.0042 1216.08 L64.0042 1221.97 L14.479 1221.97 L14.479 1216.08 L33.7671 1216.08 Z\" fill=\"#000000\" fill-rule=\"evenodd\" fill-opacity=\"1\" /><path clip-path=\"url(#clip800)\" d=\"M28.3562 1180.37 L28.3562 1174.51 L64.6407 1174.51 Q71.452 1174.51 74.5076 1177.12 Q77.5631 1179.7 77.5631 1185.46 L77.5631 1187.69 L72.5979 1187.69 L72.5979 1186.13 Q72.5979 1182.78 71.0383 1181.58 Q69.5105 1180.37 64.6407 1180.37 L28.3562 1180.37 M14.479 1180.37 L14.479 1174.51 L21.895 1174.51 L21.895 1180.37 L14.479 1180.37 Z\" fill=\"#000000\" fill-rule=\"evenodd\" fill-opacity=\"1\" /><path clip-path=\"url(#clip800)\" d=\"M44.7161 1131.76 L47.5806 1131.76 L47.5806 1158.69 Q53.6281 1158.31 56.8109 1155.06 Q59.9619 1151.78 59.9619 1145.96 Q59.9619 1142.59 59.1344 1139.43 Q58.3069 1136.25 56.6518 1133.13 L62.1899 1133.13 Q63.5267 1136.28 64.227 1139.59 Q64.9272 1142.9 64.9272 1146.31 Q64.9272 1154.84 59.9619 1159.84 Q54.9967 1164.8 46.5303 1164.8 Q37.7774 1164.8 32.6531 1160.09 Q27.4968 1155.35 27.4968 1147.33 Q27.4968 1140.13 32.1438 1135.97 Q36.7589 1131.76 44.7161 1131.76 M42.9973 1137.62 Q38.1912 1137.68 35.3266 1140.33 Q32.4621 1142.94 32.4621 1147.26 Q32.4621 1152.17 35.2312 1155.13 Q38.0002 1158.05 43.0292 1158.5 L42.9973 1137.62 Z\" fill=\"#000000\" fill-rule=\"evenodd\" fill-opacity=\"1\" /><path clip-path=\"url(#clip800)\" d=\"M29.7248 1096.5 L35.1993 1096.5 Q33.8307 1098.98 33.1623 1101.49 Q32.4621 1103.98 32.4621 1106.52 Q32.4621 1112.22 36.0905 1115.37 Q39.6872 1118.52 46.212 1118.52 Q52.7369 1118.52 56.3653 1115.37 Q59.9619 1112.22 59.9619 1106.52 Q59.9619 1103.98 59.2935 1101.49 Q58.5933 1098.98 57.2247 1096.5 L62.6355 1096.5 Q63.7814 1098.95 64.3543 1101.59 Q64.9272 1104.2 64.9272 1107.16 Q64.9272 1115.21 59.8664 1119.96 Q54.8057 1124.7 46.212 1124.7 Q37.491 1124.7 32.4939 1119.92 Q27.4968 1115.12 27.4968 1106.78 Q27.4968 1104.07 28.0697 1101.49 Q28.6108 1098.92 29.7248 1096.5 Z\" fill=\"#000000\" fill-rule=\"evenodd\" fill-opacity=\"1\" /><path clip-path=\"url(#clip800)\" d=\"M18.2347 1080.52 L28.3562 1080.52 L28.3562 1068.46 L32.9077 1068.46 L32.9077 1080.52 L52.2594 1080.52 Q56.6199 1080.52 57.8613 1079.34 Q59.1026 1078.13 59.1026 1074.47 L59.1026 1068.46 L64.0042 1068.46 L64.0042 1074.47 Q64.0042 1081.25 61.4897 1083.83 Q58.9434 1086.41 52.2594 1086.41 L32.9077 1086.41 L32.9077 1090.7 L28.3562 1090.7 L28.3562 1086.41 L18.2347 1086.41 L18.2347 1080.52 Z\" fill=\"#000000\" fill-rule=\"evenodd\" fill-opacity=\"1\" /><path clip-path=\"url(#clip800)\" d=\"M28.3562 1060.75 L28.3562 1054.9 L64.0042 1054.9 L64.0042 1060.75 L28.3562 1060.75 M14.479 1060.75 L14.479 1054.9 L21.895 1054.9 L21.895 1060.75 L14.479 1060.75 Z\" fill=\"#000000\" fill-rule=\"evenodd\" fill-opacity=\"1\" /><path clip-path=\"url(#clip800)\" d=\"M28.3562 1046.85 L28.3562 1040.64 L58.275 1029.5 L28.3562 1018.36 L28.3562 1012.15 L64.0042 1025.52 L64.0042 1033.48 L28.3562 1046.85 Z\" fill=\"#000000\" fill-rule=\"evenodd\" fill-opacity=\"1\" /><path clip-path=\"url(#clip800)\" d=\"M44.7161 973.576 L47.5806 973.576 L47.5806 1000.5 Q53.6281 1000.12 56.8109 996.874 Q59.9619 993.596 59.9619 987.771 Q59.9619 984.398 59.1344 981.247 Q58.3069 978.064 56.6518 974.944 L62.1899 974.944 Q63.5267 978.096 64.227 981.406 Q64.9272 984.716 64.9272 988.121 Q64.9272 996.652 59.9619 1001.65 Q54.9967 1006.61 46.5303 1006.61 Q37.7774 1006.61 32.6531 1001.9 Q27.4968 997.161 27.4968 989.14 Q27.4968 981.947 32.1438 977.777 Q36.7589 973.576 44.7161 973.576 M42.9973 979.432 Q38.1912 979.496 35.3266 982.138 Q32.4621 984.748 32.4621 989.076 Q32.4621 993.978 35.2312 996.938 Q38.0002 999.866 43.0292 1000.31 L42.9973 979.432 Z\" fill=\"#000000\" fill-rule=\"evenodd\" fill-opacity=\"1\" /><path clip-path=\"url(#clip800)\" d=\"M14.479 925.196 L19.3487 925.196 L19.3487 930.798 Q19.3487 933.949 20.6219 935.191 Q21.895 936.4 25.2052 936.4 L28.3562 936.4 L28.3562 926.756 L32.9077 926.756 L32.9077 936.4 L64.0042 936.4 L64.0042 942.288 L32.9077 942.288 L32.9077 947.89 L28.3562 947.89 L28.3562 942.288 L25.8736 942.288 Q19.9216 942.288 17.2162 939.519 Q14.479 936.75 14.479 930.735 L14.479 925.196 Z\" fill=\"#000000\" fill-rule=\"evenodd\" fill-opacity=\"1\" /><path clip-path=\"url(#clip800)\" d=\"M49.9359 920.9 L28.3562 920.9 L28.3562 915.043 L49.7131 915.043 Q54.7739 915.043 57.3202 913.07 Q59.8346 911.096 59.8346 907.15 Q59.8346 902.407 56.8109 899.67 Q53.7872 896.901 48.5673 896.901 L28.3562 896.901 L28.3562 891.044 L64.0042 891.044 L64.0042 896.901 L58.5296 896.901 Q61.7762 899.033 63.3676 901.866 Q64.9272 904.667 64.9272 908.391 Q64.9272 914.534 61.1078 917.717 Q57.2883 920.9 49.9359 920.9 M27.4968 906.163 L27.4968 906.163 Z\" fill=\"#000000\" fill-rule=\"evenodd\" fill-opacity=\"1\" /><path clip-path=\"url(#clip800)\" d=\"M42.4881 849.349 L64.0042 849.349 L64.0042 855.206 L42.679 855.206 Q37.6183 855.206 35.1038 857.179 Q32.5894 859.152 32.5894 863.099 Q32.5894 867.841 35.6131 870.579 Q38.6368 873.316 43.8567 873.316 L64.0042 873.316 L64.0042 879.204 L28.3562 879.204 L28.3562 873.316 L33.8944 873.316 Q30.6797 871.215 29.0883 868.383 Q27.4968 865.518 27.4968 861.794 Q27.4968 855.651 31.3163 852.5 Q35.1038 849.349 42.4881 849.349 Z\" fill=\"#000000\" fill-rule=\"evenodd\" fill-opacity=\"1\" /><path clip-path=\"url(#clip800)\" d=\"M29.7248 812.014 L35.1993 812.014 Q33.8307 814.497 33.1623 817.011 Q32.4621 819.494 32.4621 822.04 Q32.4621 827.738 36.0905 830.889 Q39.6872 834.04 46.212 834.04 Q52.7369 834.04 56.3653 830.889 Q59.9619 827.738 59.9619 822.04 Q59.9619 819.494 59.2935 817.011 Q58.5933 814.497 57.2247 812.014 L62.6355 812.014 Q63.7814 814.465 64.3543 817.107 Q64.9272 819.717 64.9272 822.677 Q64.9272 830.729 59.8664 835.472 Q54.8057 840.214 46.212 840.214 Q37.491 840.214 32.4939 835.44 Q27.4968 830.634 27.4968 822.295 Q27.4968 819.589 28.0697 817.011 Q28.6108 814.433 29.7248 812.014 Z\" fill=\"#000000\" fill-rule=\"evenodd\" fill-opacity=\"1\" /><path clip-path=\"url(#clip800)\" d=\"M18.2347 796.036 L28.3562 796.036 L28.3562 783.973 L32.9077 783.973 L32.9077 796.036 L52.2594 796.036 Q56.6199 796.036 57.8613 794.859 Q59.1026 793.649 59.1026 789.989 L59.1026 783.973 L64.0042 783.973 L64.0042 789.989 Q64.0042 796.768 61.4897 799.346 Q58.9434 801.925 52.2594 801.925 L32.9077 801.925 L32.9077 806.221 L28.3562 806.221 L28.3562 801.925 L18.2347 801.925 L18.2347 796.036 Z\" fill=\"#000000\" fill-rule=\"evenodd\" fill-opacity=\"1\" /><path clip-path=\"url(#clip800)\" d=\"M28.3562 776.271 L28.3562 770.414 L64.0042 770.414 L64.0042 776.271 L28.3562 776.271 M14.479 776.271 L14.479 770.414 L21.895 770.414 L21.895 776.271 L14.479 776.271 Z\" fill=\"#000000\" fill-rule=\"evenodd\" fill-opacity=\"1\" /><path clip-path=\"url(#clip800)\" d=\"M32.4621 744.347 Q32.4621 749.057 36.1542 751.795 Q39.8145 754.532 46.212 754.532 Q52.6095 754.532 56.3017 751.826 Q59.9619 749.089 59.9619 744.347 Q59.9619 739.668 56.2698 736.931 Q52.5777 734.193 46.212 734.193 Q39.8781 734.193 36.186 736.931 Q32.4621 739.668 32.4621 744.347 M27.4968 744.347 Q27.4968 736.708 32.4621 732.347 Q37.4273 727.987 46.212 727.987 Q54.9649 727.987 59.9619 732.347 Q64.9272 736.708 64.9272 744.347 Q64.9272 752.017 59.9619 756.378 Q54.9649 760.707 46.212 760.707 Q37.4273 760.707 32.4621 756.378 Q27.4968 752.017 27.4968 744.347 Z\" fill=\"#000000\" fill-rule=\"evenodd\" fill-opacity=\"1\" /><path clip-path=\"url(#clip800)\" d=\"M42.4881 688.647 L64.0042 688.647 L64.0042 694.503 L42.679 694.503 Q37.6183 694.503 35.1038 696.477 Q32.5894 698.45 32.5894 702.397 Q32.5894 707.139 35.6131 709.876 Q38.6368 712.614 43.8567 712.614 L64.0042 712.614 L64.0042 718.502 L28.3562 718.502 L28.3562 712.614 L33.8944 712.614 Q30.6797 710.513 29.0883 707.68 Q27.4968 704.816 27.4968 701.092 Q27.4968 694.949 31.3163 691.798 Q35.1038 688.647 42.4881 688.647 Z\" fill=\"#000000\" fill-rule=\"evenodd\" fill-opacity=\"1\" /><path clip-path=\"url(#clip800)\" d=\"M33.7671 632.788 L14.479 632.788 L14.479 626.931 L64.0042 626.931 L64.0042 632.788 L58.657 632.788 Q61.8398 634.634 63.3994 637.467 Q64.9272 640.267 64.9272 644.214 Q64.9272 650.675 59.771 654.749 Q54.6147 658.792 46.212 658.792 Q37.8093 658.792 32.6531 654.749 Q27.4968 650.675 27.4968 644.214 Q27.4968 640.267 29.0564 637.467 Q30.5842 634.634 33.7671 632.788 M46.212 652.744 Q52.6732 652.744 56.3653 650.102 Q60.0256 647.429 60.0256 642.782 Q60.0256 638.135 56.3653 635.461 Q52.6732 632.788 46.212 632.788 Q39.7508 632.788 36.0905 635.461 Q32.3984 638.135 32.3984 642.782 Q32.3984 647.429 36.0905 650.102 Q39.7508 652.744 46.212 652.744 Z\" fill=\"#000000\" fill-rule=\"evenodd\" fill-opacity=\"1\" /><path clip-path=\"url(#clip800)\" d=\"M28.3562 614.868 L28.3562 609.012 L64.0042 609.012 L64.0042 614.868 L28.3562 614.868 M14.479 614.868 L14.479 609.012 L21.895 609.012 L21.895 614.868 L14.479 614.868 Z\" fill=\"#000000\" fill-rule=\"evenodd\" fill-opacity=\"1\" /><path clip-path=\"url(#clip800)\" d=\"M14.479 578.711 L19.3487 578.711 L19.3487 584.313 Q19.3487 587.464 20.6219 588.705 Q21.895 589.915 25.2052 589.915 L28.3562 589.915 L28.3562 580.271 L32.9077 580.271 L32.9077 589.915 L64.0042 589.915 L64.0042 595.803 L32.9077 595.803 L32.9077 601.405 L28.3562 601.405 L28.3562 595.803 L25.8736 595.803 Q19.9216 595.803 17.2162 593.034 Q14.479 590.265 14.479 584.249 L14.479 578.711 Z\" fill=\"#000000\" fill-rule=\"evenodd\" fill-opacity=\"1\" /><path clip-path=\"url(#clip800)\" d=\"M14.479 555.763 L19.3487 555.763 L19.3487 561.365 Q19.3487 564.516 20.6219 565.757 Q21.895 566.966 25.2052 566.966 L28.3562 566.966 L28.3562 557.322 L32.9077 557.322 L32.9077 566.966 L64.0042 566.966 L64.0042 572.855 L32.9077 572.855 L32.9077 578.456 L28.3562 578.456 L28.3562 572.855 L25.8736 572.855 Q19.9216 572.855 17.2162 570.086 Q14.479 567.316 14.479 561.301 L14.479 555.763 Z\" fill=\"#000000\" fill-rule=\"evenodd\" fill-opacity=\"1\" /><path clip-path=\"url(#clip800)\" d=\"M44.7161 520.369 L47.5806 520.369 L47.5806 547.296 Q53.6281 546.914 56.8109 543.668 Q59.9619 540.39 59.9619 534.565 Q59.9619 531.191 59.1344 528.04 Q58.3069 524.857 56.6518 521.738 L62.1899 521.738 Q63.5267 524.889 64.227 528.199 Q64.9272 531.509 64.9272 534.915 Q64.9272 543.445 59.9619 548.442 Q54.9967 553.407 46.5303 553.407 Q37.7774 553.407 32.6531 548.697 Q27.4968 543.954 27.4968 535.934 Q27.4968 528.74 32.1438 524.571 Q36.7589 520.369 44.7161 520.369 M42.9973 526.226 Q38.1912 526.289 35.3266 528.931 Q32.4621 531.541 32.4621 535.87 Q32.4621 540.771 35.2312 543.732 Q38.0002 546.66 43.0292 547.105 L42.9973 526.226 Z\" fill=\"#000000\" fill-rule=\"evenodd\" fill-opacity=\"1\" /><path clip-path=\"url(#clip800)\" d=\"M33.8307 490.1 Q33.2578 491.087 33.0032 492.265 Q32.7167 493.411 32.7167 494.811 Q32.7167 499.776 35.9632 502.45 Q39.1779 505.092 45.2253 505.092 L64.0042 505.092 L64.0042 510.98 L28.3562 510.98 L28.3562 505.092 L33.8944 505.092 Q30.6479 503.246 29.0883 500.286 Q27.4968 497.326 27.4968 493.092 Q27.4968 492.488 27.5923 491.756 Q27.656 491.023 27.8151 490.132 L33.8307 490.1 Z\" fill=\"#000000\" fill-rule=\"evenodd\" fill-opacity=\"1\" /><path clip-path=\"url(#clip800)\" d=\"M44.7161 454.898 L47.5806 454.898 L47.5806 481.825 Q53.6281 481.443 56.8109 478.197 Q59.9619 474.918 59.9619 469.094 Q59.9619 465.72 59.1344 462.569 Q58.3069 459.386 56.6518 456.267 L62.1899 456.267 Q63.5267 459.418 64.227 462.728 Q64.9272 466.038 64.9272 469.444 Q64.9272 477.974 59.9619 482.971 Q54.9967 487.936 46.5303 487.936 Q37.7774 487.936 32.6531 483.225 Q27.4968 478.483 27.4968 470.462 Q27.4968 463.269 32.1438 459.099 Q36.7589 454.898 44.7161 454.898 M42.9973 460.755 Q38.1912 460.818 35.3266 463.46 Q32.4621 466.07 32.4621 470.399 Q32.4621 475.3 35.2312 478.26 Q38.0002 481.188 43.0292 481.634 L42.9973 460.755 Z\" fill=\"#000000\" fill-rule=\"evenodd\" fill-opacity=\"1\" /><path clip-path=\"url(#clip800)\" d=\"M42.4881 415.653 L64.0042 415.653 L64.0042 421.51 L42.679 421.51 Q37.6183 421.51 35.1038 423.483 Q32.5894 425.457 32.5894 429.403 Q32.5894 434.146 35.6131 436.883 Q38.6368 439.62 43.8567 439.62 L64.0042 439.62 L64.0042 445.509 L28.3562 445.509 L28.3562 439.62 L33.8944 439.62 Q30.6797 437.52 29.0883 434.687 Q27.4968 431.822 27.4968 428.098 Q27.4968 421.956 31.3163 418.805 Q35.1038 415.653 42.4881 415.653 Z\" fill=\"#000000\" fill-rule=\"evenodd\" fill-opacity=\"1\" /><path clip-path=\"url(#clip800)\" d=\"M29.7248 378.319 L35.1993 378.319 Q33.8307 380.801 33.1623 383.316 Q32.4621 385.798 32.4621 388.345 Q32.4621 394.042 36.0905 397.193 Q39.6872 400.344 46.212 400.344 Q52.7369 400.344 56.3653 397.193 Q59.9619 394.042 59.9619 388.345 Q59.9619 385.798 59.2935 383.316 Q58.5933 380.801 57.2247 378.319 L62.6355 378.319 Q63.7814 380.769 64.3543 383.411 Q64.9272 386.021 64.9272 388.981 Q64.9272 397.034 59.8664 401.776 Q54.8057 406.519 46.212 406.519 Q37.491 406.519 32.4939 401.744 Q27.4968 396.938 27.4968 388.599 Q27.4968 385.894 28.0697 383.316 Q28.6108 380.738 29.7248 378.319 Z\" fill=\"#000000\" fill-rule=\"evenodd\" fill-opacity=\"1\" /><path clip-path=\"url(#clip800)\" d=\"M44.7161 337.642 L47.5806 337.642 L47.5806 364.569 Q53.6281 364.187 56.8109 360.94 Q59.9619 357.662 59.9619 351.837 Q59.9619 348.463 59.1344 345.312 Q58.3069 342.13 56.6518 339.01 L62.1899 339.01 Q63.5267 342.161 64.227 345.472 Q64.9272 348.782 64.9272 352.187 Q64.9272 360.717 59.9619 365.715 Q54.9967 370.68 46.5303 370.68 Q37.7774 370.68 32.6531 365.969 Q27.4968 361.227 27.4968 353.206 Q27.4968 346.013 32.1438 341.843 Q36.7589 337.642 44.7161 337.642 M42.9973 343.498 Q38.1912 343.562 35.3266 346.204 Q32.4621 348.814 32.4621 353.142 Q32.4621 358.044 35.2312 361.004 Q38.0002 363.932 43.0292 364.378 L42.9973 343.498 Z\" fill=\"#000000\" fill-rule=\"evenodd\" fill-opacity=\"1\" /><path clip-path=\"url(#clip800)\" d=\"M14.479 307.85 L14.479 294.355 L19.0304 294.355 L19.0304 301.994 L68.0464 301.994 L68.0464 294.355 L72.5979 294.355 L72.5979 307.85 L14.479 307.85 Z\" fill=\"#000000\" fill-rule=\"evenodd\" fill-opacity=\"1\" /><path clip-path=\"url(#clip800)\" d=\"M43.0928 240.628 Q43.0928 243.397 45.4481 244.989 Q47.8034 246.548 52.0048 246.548 Q56.1425 246.548 58.5296 244.989 Q60.885 243.397 60.885 240.628 Q60.885 237.923 58.5296 236.363 Q56.1425 234.772 52.0048 234.772 Q47.8353 234.772 45.48 236.363 Q43.0928 237.923 43.0928 240.628 M39.0506 240.628 Q39.0506 235.599 42.5517 232.639 Q46.0529 229.679 52.0048 229.679 Q57.9567 229.679 61.4579 232.671 Q64.9272 235.631 64.9272 240.628 Q64.9272 245.721 61.4579 248.681 Q57.9567 251.641 52.0048 251.641 Q46.021 251.641 42.5517 248.681 Q39.0506 245.689 39.0506 240.628 M19.667 273.475 Q19.667 276.213 22.0542 277.804 Q24.4095 279.364 28.5472 279.364 Q32.7485 279.364 35.1038 277.804 Q37.4592 276.245 37.4592 273.475 Q37.4592 270.706 35.1038 269.147 Q32.7485 267.555 28.5472 267.555 Q24.4413 267.555 22.0542 269.147 Q19.667 270.738 19.667 273.475 M15.6248 244.734 L15.6248 239.642 L64.9272 269.37 L64.9272 274.462 L15.6248 244.734 M15.6248 273.475 Q15.6248 268.447 19.1259 265.455 Q22.5952 262.463 28.5472 262.463 Q34.5628 262.463 38.0321 265.455 Q41.5014 268.415 41.5014 273.475 Q41.5014 278.536 38.0321 281.496 Q34.5309 284.424 28.5472 284.424 Q22.6271 284.424 19.1259 281.464 Q15.6248 278.504 15.6248 273.475 Z\" fill=\"#000000\" fill-rule=\"evenodd\" fill-opacity=\"1\" /><path clip-path=\"url(#clip800)\" d=\"M14.479 206.254 L72.5979 206.254 L72.5979 219.749 L68.0464 219.749 L68.0464 212.142 L19.0304 212.142 L19.0304 219.749 L14.479 219.749 L14.479 206.254 Z\" fill=\"#000000\" fill-rule=\"evenodd\" fill-opacity=\"1\" /><polyline clip-path=\"url(#clip802)\" style=\"stroke:#000000; stroke-linecap:round; stroke-linejoin:round; stroke-width:4; stroke-opacity:1; fill:none\" points=\"309.067,1379.15 349.56,1367.31 390.053,1369.87 430.546,1382.39 471.04,1378.76 511.533,1381.31 552.026,1377.54 592.519,1375.11 633.012,86.1857 673.505,1371.41 713.998,1377.42 754.492,1382.03 794.985,1380.68 835.478,1379.41 875.971,1384.24 916.464,1382.5 956.957,1381.61 997.45,1382.54 1037.94,1378.22 \"/>\n",
       "<polyline clip-path=\"url(#clip802)\" style=\"stroke:#000000; stroke-linecap:round; stroke-linejoin:round; stroke-width:4; stroke-opacity:1; fill:none\" points=\"1118.93,1349.46 1159.42,1382.19 1199.92,1379.74 1240.41,1335.56 1280.9,1376.74 1321.4,1330.61 1361.89,1382.95 1402.38,1375.67 1442.87,1375.66 1483.37,1368.96 1523.86,1380.5 1564.35,1380.48 1604.85,1375.34 1645.34,1375.33 1685.83,1376.61 1726.33,1369.89 1766.82,1377.76 \"/>\n",
       "<polyline clip-path=\"url(#clip802)\" style=\"stroke:#000000; stroke-linecap:round; stroke-linejoin:round; stroke-width:4; stroke-opacity:1; fill:none\" points=\"1888.3,1377.06 1928.79,1368.87 1969.29,1226.47 2009.78,1375.57 2050.27,1380.8 2090.77,1378.48 \"/>\n",
       "<polyline clip-path=\"url(#clip802)\" style=\"stroke:#000000; stroke-linecap:round; stroke-linejoin:round; stroke-width:4; stroke-opacity:1; fill:none\" points=\"2171.75,1374.19 2212.24,1375.62 \"/>\n",
       "<line clip-path=\"url(#clip802)\" x1=\"309.067\" y1=\"1379.15\" x2=\"293.067\" y2=\"1363.15\" style=\"stroke:#000000; stroke-width:3.2; stroke-opacity:1\"/>\n",
       "<line clip-path=\"url(#clip802)\" x1=\"309.067\" y1=\"1379.15\" x2=\"293.067\" y2=\"1395.15\" style=\"stroke:#000000; stroke-width:3.2; stroke-opacity:1\"/>\n",
       "<line clip-path=\"url(#clip802)\" x1=\"309.067\" y1=\"1379.15\" x2=\"325.067\" y2=\"1395.15\" style=\"stroke:#000000; stroke-width:3.2; stroke-opacity:1\"/>\n",
       "<line clip-path=\"url(#clip802)\" x1=\"309.067\" y1=\"1379.15\" x2=\"325.067\" y2=\"1363.15\" style=\"stroke:#000000; stroke-width:3.2; stroke-opacity:1\"/>\n",
       "<line clip-path=\"url(#clip802)\" x1=\"349.56\" y1=\"1367.31\" x2=\"333.56\" y2=\"1351.31\" style=\"stroke:#000000; stroke-width:3.2; stroke-opacity:1\"/>\n",
       "<line clip-path=\"url(#clip802)\" x1=\"349.56\" y1=\"1367.31\" x2=\"333.56\" y2=\"1383.31\" style=\"stroke:#000000; stroke-width:3.2; stroke-opacity:1\"/>\n",
       "<line clip-path=\"url(#clip802)\" x1=\"349.56\" y1=\"1367.31\" x2=\"365.56\" y2=\"1383.31\" style=\"stroke:#000000; stroke-width:3.2; stroke-opacity:1\"/>\n",
       "<line clip-path=\"url(#clip802)\" x1=\"349.56\" y1=\"1367.31\" x2=\"365.56\" y2=\"1351.31\" style=\"stroke:#000000; stroke-width:3.2; stroke-opacity:1\"/>\n",
       "<line clip-path=\"url(#clip802)\" x1=\"390.053\" y1=\"1369.87\" x2=\"374.053\" y2=\"1353.87\" style=\"stroke:#000000; stroke-width:3.2; stroke-opacity:1\"/>\n",
       "<line clip-path=\"url(#clip802)\" x1=\"390.053\" y1=\"1369.87\" x2=\"374.053\" y2=\"1385.87\" style=\"stroke:#000000; stroke-width:3.2; stroke-opacity:1\"/>\n",
       "<line clip-path=\"url(#clip802)\" x1=\"390.053\" y1=\"1369.87\" x2=\"406.053\" y2=\"1385.87\" style=\"stroke:#000000; stroke-width:3.2; stroke-opacity:1\"/>\n",
       "<line clip-path=\"url(#clip802)\" x1=\"390.053\" y1=\"1369.87\" x2=\"406.053\" y2=\"1353.87\" style=\"stroke:#000000; stroke-width:3.2; stroke-opacity:1\"/>\n",
       "<line clip-path=\"url(#clip802)\" x1=\"430.546\" y1=\"1382.39\" x2=\"414.546\" y2=\"1366.39\" style=\"stroke:#000000; stroke-width:3.2; stroke-opacity:1\"/>\n",
       "<line clip-path=\"url(#clip802)\" x1=\"430.546\" y1=\"1382.39\" x2=\"414.546\" y2=\"1398.39\" style=\"stroke:#000000; stroke-width:3.2; stroke-opacity:1\"/>\n",
       "<line clip-path=\"url(#clip802)\" x1=\"430.546\" y1=\"1382.39\" x2=\"446.546\" y2=\"1398.39\" style=\"stroke:#000000; stroke-width:3.2; stroke-opacity:1\"/>\n",
       "<line clip-path=\"url(#clip802)\" x1=\"430.546\" y1=\"1382.39\" x2=\"446.546\" y2=\"1366.39\" style=\"stroke:#000000; stroke-width:3.2; stroke-opacity:1\"/>\n",
       "<line clip-path=\"url(#clip802)\" x1=\"471.04\" y1=\"1378.76\" x2=\"455.04\" y2=\"1362.76\" style=\"stroke:#000000; stroke-width:3.2; stroke-opacity:1\"/>\n",
       "<line clip-path=\"url(#clip802)\" x1=\"471.04\" y1=\"1378.76\" x2=\"455.04\" y2=\"1394.76\" style=\"stroke:#000000; stroke-width:3.2; stroke-opacity:1\"/>\n",
       "<line clip-path=\"url(#clip802)\" x1=\"471.04\" y1=\"1378.76\" x2=\"487.04\" y2=\"1394.76\" style=\"stroke:#000000; stroke-width:3.2; stroke-opacity:1\"/>\n",
       "<line clip-path=\"url(#clip802)\" x1=\"471.04\" y1=\"1378.76\" x2=\"487.04\" y2=\"1362.76\" style=\"stroke:#000000; stroke-width:3.2; stroke-opacity:1\"/>\n",
       "<line clip-path=\"url(#clip802)\" x1=\"511.533\" y1=\"1381.31\" x2=\"495.533\" y2=\"1365.31\" style=\"stroke:#000000; stroke-width:3.2; stroke-opacity:1\"/>\n",
       "<line clip-path=\"url(#clip802)\" x1=\"511.533\" y1=\"1381.31\" x2=\"495.533\" y2=\"1397.31\" style=\"stroke:#000000; stroke-width:3.2; stroke-opacity:1\"/>\n",
       "<line clip-path=\"url(#clip802)\" x1=\"511.533\" y1=\"1381.31\" x2=\"527.533\" y2=\"1397.31\" style=\"stroke:#000000; stroke-width:3.2; stroke-opacity:1\"/>\n",
       "<line clip-path=\"url(#clip802)\" x1=\"511.533\" y1=\"1381.31\" x2=\"527.533\" y2=\"1365.31\" style=\"stroke:#000000; stroke-width:3.2; stroke-opacity:1\"/>\n",
       "<line clip-path=\"url(#clip802)\" x1=\"552.026\" y1=\"1377.54\" x2=\"536.026\" y2=\"1361.54\" style=\"stroke:#000000; stroke-width:3.2; stroke-opacity:1\"/>\n",
       "<line clip-path=\"url(#clip802)\" x1=\"552.026\" y1=\"1377.54\" x2=\"536.026\" y2=\"1393.54\" style=\"stroke:#000000; stroke-width:3.2; stroke-opacity:1\"/>\n",
       "<line clip-path=\"url(#clip802)\" x1=\"552.026\" y1=\"1377.54\" x2=\"568.026\" y2=\"1393.54\" style=\"stroke:#000000; stroke-width:3.2; stroke-opacity:1\"/>\n",
       "<line clip-path=\"url(#clip802)\" x1=\"552.026\" y1=\"1377.54\" x2=\"568.026\" y2=\"1361.54\" style=\"stroke:#000000; stroke-width:3.2; stroke-opacity:1\"/>\n",
       "<line clip-path=\"url(#clip802)\" x1=\"592.519\" y1=\"1375.11\" x2=\"576.519\" y2=\"1359.11\" style=\"stroke:#000000; stroke-width:3.2; stroke-opacity:1\"/>\n",
       "<line clip-path=\"url(#clip802)\" x1=\"592.519\" y1=\"1375.11\" x2=\"576.519\" y2=\"1391.11\" style=\"stroke:#000000; stroke-width:3.2; stroke-opacity:1\"/>\n",
       "<line clip-path=\"url(#clip802)\" x1=\"592.519\" y1=\"1375.11\" x2=\"608.519\" y2=\"1391.11\" style=\"stroke:#000000; stroke-width:3.2; stroke-opacity:1\"/>\n",
       "<line clip-path=\"url(#clip802)\" x1=\"592.519\" y1=\"1375.11\" x2=\"608.519\" y2=\"1359.11\" style=\"stroke:#000000; stroke-width:3.2; stroke-opacity:1\"/>\n",
       "<line clip-path=\"url(#clip802)\" x1=\"633.012\" y1=\"86.1857\" x2=\"617.012\" y2=\"70.1857\" style=\"stroke:#000000; stroke-width:3.2; stroke-opacity:1\"/>\n",
       "<line clip-path=\"url(#clip802)\" x1=\"633.012\" y1=\"86.1857\" x2=\"617.012\" y2=\"102.186\" style=\"stroke:#000000; stroke-width:3.2; stroke-opacity:1\"/>\n",
       "<line clip-path=\"url(#clip802)\" x1=\"633.012\" y1=\"86.1857\" x2=\"649.012\" y2=\"102.186\" style=\"stroke:#000000; stroke-width:3.2; stroke-opacity:1\"/>\n",
       "<line clip-path=\"url(#clip802)\" x1=\"633.012\" y1=\"86.1857\" x2=\"649.012\" y2=\"70.1857\" style=\"stroke:#000000; stroke-width:3.2; stroke-opacity:1\"/>\n",
       "<line clip-path=\"url(#clip802)\" x1=\"673.505\" y1=\"1371.41\" x2=\"657.505\" y2=\"1355.41\" style=\"stroke:#000000; stroke-width:3.2; stroke-opacity:1\"/>\n",
       "<line clip-path=\"url(#clip802)\" x1=\"673.505\" y1=\"1371.41\" x2=\"657.505\" y2=\"1387.41\" style=\"stroke:#000000; stroke-width:3.2; stroke-opacity:1\"/>\n",
       "<line clip-path=\"url(#clip802)\" x1=\"673.505\" y1=\"1371.41\" x2=\"689.505\" y2=\"1387.41\" style=\"stroke:#000000; stroke-width:3.2; stroke-opacity:1\"/>\n",
       "<line clip-path=\"url(#clip802)\" x1=\"673.505\" y1=\"1371.41\" x2=\"689.505\" y2=\"1355.41\" style=\"stroke:#000000; stroke-width:3.2; stroke-opacity:1\"/>\n",
       "<line clip-path=\"url(#clip802)\" x1=\"713.998\" y1=\"1377.42\" x2=\"697.998\" y2=\"1361.42\" style=\"stroke:#000000; stroke-width:3.2; stroke-opacity:1\"/>\n",
       "<line clip-path=\"url(#clip802)\" x1=\"713.998\" y1=\"1377.42\" x2=\"697.998\" y2=\"1393.42\" style=\"stroke:#000000; stroke-width:3.2; stroke-opacity:1\"/>\n",
       "<line clip-path=\"url(#clip802)\" x1=\"713.998\" y1=\"1377.42\" x2=\"729.998\" y2=\"1393.42\" style=\"stroke:#000000; stroke-width:3.2; stroke-opacity:1\"/>\n",
       "<line clip-path=\"url(#clip802)\" x1=\"713.998\" y1=\"1377.42\" x2=\"729.998\" y2=\"1361.42\" style=\"stroke:#000000; stroke-width:3.2; stroke-opacity:1\"/>\n",
       "<line clip-path=\"url(#clip802)\" x1=\"754.492\" y1=\"1382.03\" x2=\"738.492\" y2=\"1366.03\" style=\"stroke:#000000; stroke-width:3.2; stroke-opacity:1\"/>\n",
       "<line clip-path=\"url(#clip802)\" x1=\"754.492\" y1=\"1382.03\" x2=\"738.492\" y2=\"1398.03\" style=\"stroke:#000000; stroke-width:3.2; stroke-opacity:1\"/>\n",
       "<line clip-path=\"url(#clip802)\" x1=\"754.492\" y1=\"1382.03\" x2=\"770.492\" y2=\"1398.03\" style=\"stroke:#000000; stroke-width:3.2; stroke-opacity:1\"/>\n",
       "<line clip-path=\"url(#clip802)\" x1=\"754.492\" y1=\"1382.03\" x2=\"770.492\" y2=\"1366.03\" style=\"stroke:#000000; stroke-width:3.2; stroke-opacity:1\"/>\n",
       "<line clip-path=\"url(#clip802)\" x1=\"794.985\" y1=\"1380.68\" x2=\"778.985\" y2=\"1364.68\" style=\"stroke:#000000; stroke-width:3.2; stroke-opacity:1\"/>\n",
       "<line clip-path=\"url(#clip802)\" x1=\"794.985\" y1=\"1380.68\" x2=\"778.985\" y2=\"1396.68\" style=\"stroke:#000000; stroke-width:3.2; stroke-opacity:1\"/>\n",
       "<line clip-path=\"url(#clip802)\" x1=\"794.985\" y1=\"1380.68\" x2=\"810.985\" y2=\"1396.68\" style=\"stroke:#000000; stroke-width:3.2; stroke-opacity:1\"/>\n",
       "<line clip-path=\"url(#clip802)\" x1=\"794.985\" y1=\"1380.68\" x2=\"810.985\" y2=\"1364.68\" style=\"stroke:#000000; stroke-width:3.2; stroke-opacity:1\"/>\n",
       "<line clip-path=\"url(#clip802)\" x1=\"835.478\" y1=\"1379.41\" x2=\"819.478\" y2=\"1363.41\" style=\"stroke:#000000; stroke-width:3.2; stroke-opacity:1\"/>\n",
       "<line clip-path=\"url(#clip802)\" x1=\"835.478\" y1=\"1379.41\" x2=\"819.478\" y2=\"1395.41\" style=\"stroke:#000000; stroke-width:3.2; stroke-opacity:1\"/>\n",
       "<line clip-path=\"url(#clip802)\" x1=\"835.478\" y1=\"1379.41\" x2=\"851.478\" y2=\"1395.41\" style=\"stroke:#000000; stroke-width:3.2; stroke-opacity:1\"/>\n",
       "<line clip-path=\"url(#clip802)\" x1=\"835.478\" y1=\"1379.41\" x2=\"851.478\" y2=\"1363.41\" style=\"stroke:#000000; stroke-width:3.2; stroke-opacity:1\"/>\n",
       "<line clip-path=\"url(#clip802)\" x1=\"875.971\" y1=\"1384.24\" x2=\"859.971\" y2=\"1368.24\" style=\"stroke:#000000; stroke-width:3.2; stroke-opacity:1\"/>\n",
       "<line clip-path=\"url(#clip802)\" x1=\"875.971\" y1=\"1384.24\" x2=\"859.971\" y2=\"1400.24\" style=\"stroke:#000000; stroke-width:3.2; stroke-opacity:1\"/>\n",
       "<line clip-path=\"url(#clip802)\" x1=\"875.971\" y1=\"1384.24\" x2=\"891.971\" y2=\"1400.24\" style=\"stroke:#000000; stroke-width:3.2; stroke-opacity:1\"/>\n",
       "<line clip-path=\"url(#clip802)\" x1=\"875.971\" y1=\"1384.24\" x2=\"891.971\" y2=\"1368.24\" style=\"stroke:#000000; stroke-width:3.2; stroke-opacity:1\"/>\n",
       "<line clip-path=\"url(#clip802)\" x1=\"916.464\" y1=\"1382.5\" x2=\"900.464\" y2=\"1366.5\" style=\"stroke:#000000; stroke-width:3.2; stroke-opacity:1\"/>\n",
       "<line clip-path=\"url(#clip802)\" x1=\"916.464\" y1=\"1382.5\" x2=\"900.464\" y2=\"1398.5\" style=\"stroke:#000000; stroke-width:3.2; stroke-opacity:1\"/>\n",
       "<line clip-path=\"url(#clip802)\" x1=\"916.464\" y1=\"1382.5\" x2=\"932.464\" y2=\"1398.5\" style=\"stroke:#000000; stroke-width:3.2; stroke-opacity:1\"/>\n",
       "<line clip-path=\"url(#clip802)\" x1=\"916.464\" y1=\"1382.5\" x2=\"932.464\" y2=\"1366.5\" style=\"stroke:#000000; stroke-width:3.2; stroke-opacity:1\"/>\n",
       "<line clip-path=\"url(#clip802)\" x1=\"956.957\" y1=\"1381.61\" x2=\"940.957\" y2=\"1365.61\" style=\"stroke:#000000; stroke-width:3.2; stroke-opacity:1\"/>\n",
       "<line clip-path=\"url(#clip802)\" x1=\"956.957\" y1=\"1381.61\" x2=\"940.957\" y2=\"1397.61\" style=\"stroke:#000000; stroke-width:3.2; stroke-opacity:1\"/>\n",
       "<line clip-path=\"url(#clip802)\" x1=\"956.957\" y1=\"1381.61\" x2=\"972.957\" y2=\"1397.61\" style=\"stroke:#000000; stroke-width:3.2; stroke-opacity:1\"/>\n",
       "<line clip-path=\"url(#clip802)\" x1=\"956.957\" y1=\"1381.61\" x2=\"972.957\" y2=\"1365.61\" style=\"stroke:#000000; stroke-width:3.2; stroke-opacity:1\"/>\n",
       "<line clip-path=\"url(#clip802)\" x1=\"997.45\" y1=\"1382.54\" x2=\"981.45\" y2=\"1366.54\" style=\"stroke:#000000; stroke-width:3.2; stroke-opacity:1\"/>\n",
       "<line clip-path=\"url(#clip802)\" x1=\"997.45\" y1=\"1382.54\" x2=\"981.45\" y2=\"1398.54\" style=\"stroke:#000000; stroke-width:3.2; stroke-opacity:1\"/>\n",
       "<line clip-path=\"url(#clip802)\" x1=\"997.45\" y1=\"1382.54\" x2=\"1013.45\" y2=\"1398.54\" style=\"stroke:#000000; stroke-width:3.2; stroke-opacity:1\"/>\n",
       "<line clip-path=\"url(#clip802)\" x1=\"997.45\" y1=\"1382.54\" x2=\"1013.45\" y2=\"1366.54\" style=\"stroke:#000000; stroke-width:3.2; stroke-opacity:1\"/>\n",
       "<line clip-path=\"url(#clip802)\" x1=\"1037.94\" y1=\"1378.22\" x2=\"1021.94\" y2=\"1362.22\" style=\"stroke:#000000; stroke-width:3.2; stroke-opacity:1\"/>\n",
       "<line clip-path=\"url(#clip802)\" x1=\"1037.94\" y1=\"1378.22\" x2=\"1021.94\" y2=\"1394.22\" style=\"stroke:#000000; stroke-width:3.2; stroke-opacity:1\"/>\n",
       "<line clip-path=\"url(#clip802)\" x1=\"1037.94\" y1=\"1378.22\" x2=\"1053.94\" y2=\"1394.22\" style=\"stroke:#000000; stroke-width:3.2; stroke-opacity:1\"/>\n",
       "<line clip-path=\"url(#clip802)\" x1=\"1037.94\" y1=\"1378.22\" x2=\"1053.94\" y2=\"1362.22\" style=\"stroke:#000000; stroke-width:3.2; stroke-opacity:1\"/>\n",
       "<line clip-path=\"url(#clip802)\" x1=\"1118.93\" y1=\"1349.46\" x2=\"1102.93\" y2=\"1333.46\" style=\"stroke:#000000; stroke-width:3.2; stroke-opacity:1\"/>\n",
       "<line clip-path=\"url(#clip802)\" x1=\"1118.93\" y1=\"1349.46\" x2=\"1102.93\" y2=\"1365.46\" style=\"stroke:#000000; stroke-width:3.2; stroke-opacity:1\"/>\n",
       "<line clip-path=\"url(#clip802)\" x1=\"1118.93\" y1=\"1349.46\" x2=\"1134.93\" y2=\"1365.46\" style=\"stroke:#000000; stroke-width:3.2; stroke-opacity:1\"/>\n",
       "<line clip-path=\"url(#clip802)\" x1=\"1118.93\" y1=\"1349.46\" x2=\"1134.93\" y2=\"1333.46\" style=\"stroke:#000000; stroke-width:3.2; stroke-opacity:1\"/>\n",
       "<line clip-path=\"url(#clip802)\" x1=\"1159.42\" y1=\"1382.19\" x2=\"1143.42\" y2=\"1366.19\" style=\"stroke:#000000; stroke-width:3.2; stroke-opacity:1\"/>\n",
       "<line clip-path=\"url(#clip802)\" x1=\"1159.42\" y1=\"1382.19\" x2=\"1143.42\" y2=\"1398.19\" style=\"stroke:#000000; stroke-width:3.2; stroke-opacity:1\"/>\n",
       "<line clip-path=\"url(#clip802)\" x1=\"1159.42\" y1=\"1382.19\" x2=\"1175.42\" y2=\"1398.19\" style=\"stroke:#000000; stroke-width:3.2; stroke-opacity:1\"/>\n",
       "<line clip-path=\"url(#clip802)\" x1=\"1159.42\" y1=\"1382.19\" x2=\"1175.42\" y2=\"1366.19\" style=\"stroke:#000000; stroke-width:3.2; stroke-opacity:1\"/>\n",
       "<line clip-path=\"url(#clip802)\" x1=\"1199.92\" y1=\"1379.74\" x2=\"1183.92\" y2=\"1363.74\" style=\"stroke:#000000; stroke-width:3.2; stroke-opacity:1\"/>\n",
       "<line clip-path=\"url(#clip802)\" x1=\"1199.92\" y1=\"1379.74\" x2=\"1183.92\" y2=\"1395.74\" style=\"stroke:#000000; stroke-width:3.2; stroke-opacity:1\"/>\n",
       "<line clip-path=\"url(#clip802)\" x1=\"1199.92\" y1=\"1379.74\" x2=\"1215.92\" y2=\"1395.74\" style=\"stroke:#000000; stroke-width:3.2; stroke-opacity:1\"/>\n",
       "<line clip-path=\"url(#clip802)\" x1=\"1199.92\" y1=\"1379.74\" x2=\"1215.92\" y2=\"1363.74\" style=\"stroke:#000000; stroke-width:3.2; stroke-opacity:1\"/>\n",
       "<line clip-path=\"url(#clip802)\" x1=\"1240.41\" y1=\"1335.56\" x2=\"1224.41\" y2=\"1319.56\" style=\"stroke:#000000; stroke-width:3.2; stroke-opacity:1\"/>\n",
       "<line clip-path=\"url(#clip802)\" x1=\"1240.41\" y1=\"1335.56\" x2=\"1224.41\" y2=\"1351.56\" style=\"stroke:#000000; stroke-width:3.2; stroke-opacity:1\"/>\n",
       "<line clip-path=\"url(#clip802)\" x1=\"1240.41\" y1=\"1335.56\" x2=\"1256.41\" y2=\"1351.56\" style=\"stroke:#000000; stroke-width:3.2; stroke-opacity:1\"/>\n",
       "<line clip-path=\"url(#clip802)\" x1=\"1240.41\" y1=\"1335.56\" x2=\"1256.41\" y2=\"1319.56\" style=\"stroke:#000000; stroke-width:3.2; stroke-opacity:1\"/>\n",
       "<line clip-path=\"url(#clip802)\" x1=\"1280.9\" y1=\"1376.74\" x2=\"1264.9\" y2=\"1360.74\" style=\"stroke:#000000; stroke-width:3.2; stroke-opacity:1\"/>\n",
       "<line clip-path=\"url(#clip802)\" x1=\"1280.9\" y1=\"1376.74\" x2=\"1264.9\" y2=\"1392.74\" style=\"stroke:#000000; stroke-width:3.2; stroke-opacity:1\"/>\n",
       "<line clip-path=\"url(#clip802)\" x1=\"1280.9\" y1=\"1376.74\" x2=\"1296.9\" y2=\"1392.74\" style=\"stroke:#000000; stroke-width:3.2; stroke-opacity:1\"/>\n",
       "<line clip-path=\"url(#clip802)\" x1=\"1280.9\" y1=\"1376.74\" x2=\"1296.9\" y2=\"1360.74\" style=\"stroke:#000000; stroke-width:3.2; stroke-opacity:1\"/>\n",
       "<line clip-path=\"url(#clip802)\" x1=\"1321.4\" y1=\"1330.61\" x2=\"1305.4\" y2=\"1314.61\" style=\"stroke:#000000; stroke-width:3.2; stroke-opacity:1\"/>\n",
       "<line clip-path=\"url(#clip802)\" x1=\"1321.4\" y1=\"1330.61\" x2=\"1305.4\" y2=\"1346.61\" style=\"stroke:#000000; stroke-width:3.2; stroke-opacity:1\"/>\n",
       "<line clip-path=\"url(#clip802)\" x1=\"1321.4\" y1=\"1330.61\" x2=\"1337.4\" y2=\"1346.61\" style=\"stroke:#000000; stroke-width:3.2; stroke-opacity:1\"/>\n",
       "<line clip-path=\"url(#clip802)\" x1=\"1321.4\" y1=\"1330.61\" x2=\"1337.4\" y2=\"1314.61\" style=\"stroke:#000000; stroke-width:3.2; stroke-opacity:1\"/>\n",
       "<line clip-path=\"url(#clip802)\" x1=\"1361.89\" y1=\"1382.95\" x2=\"1345.89\" y2=\"1366.95\" style=\"stroke:#000000; stroke-width:3.2; stroke-opacity:1\"/>\n",
       "<line clip-path=\"url(#clip802)\" x1=\"1361.89\" y1=\"1382.95\" x2=\"1345.89\" y2=\"1398.95\" style=\"stroke:#000000; stroke-width:3.2; stroke-opacity:1\"/>\n",
       "<line clip-path=\"url(#clip802)\" x1=\"1361.89\" y1=\"1382.95\" x2=\"1377.89\" y2=\"1398.95\" style=\"stroke:#000000; stroke-width:3.2; stroke-opacity:1\"/>\n",
       "<line clip-path=\"url(#clip802)\" x1=\"1361.89\" y1=\"1382.95\" x2=\"1377.89\" y2=\"1366.95\" style=\"stroke:#000000; stroke-width:3.2; stroke-opacity:1\"/>\n",
       "<line clip-path=\"url(#clip802)\" x1=\"1402.38\" y1=\"1375.67\" x2=\"1386.38\" y2=\"1359.67\" style=\"stroke:#000000; stroke-width:3.2; stroke-opacity:1\"/>\n",
       "<line clip-path=\"url(#clip802)\" x1=\"1402.38\" y1=\"1375.67\" x2=\"1386.38\" y2=\"1391.67\" style=\"stroke:#000000; stroke-width:3.2; stroke-opacity:1\"/>\n",
       "<line clip-path=\"url(#clip802)\" x1=\"1402.38\" y1=\"1375.67\" x2=\"1418.38\" y2=\"1391.67\" style=\"stroke:#000000; stroke-width:3.2; stroke-opacity:1\"/>\n",
       "<line clip-path=\"url(#clip802)\" x1=\"1402.38\" y1=\"1375.67\" x2=\"1418.38\" y2=\"1359.67\" style=\"stroke:#000000; stroke-width:3.2; stroke-opacity:1\"/>\n",
       "<line clip-path=\"url(#clip802)\" x1=\"1442.87\" y1=\"1375.66\" x2=\"1426.87\" y2=\"1359.66\" style=\"stroke:#000000; stroke-width:3.2; stroke-opacity:1\"/>\n",
       "<line clip-path=\"url(#clip802)\" x1=\"1442.87\" y1=\"1375.66\" x2=\"1426.87\" y2=\"1391.66\" style=\"stroke:#000000; stroke-width:3.2; stroke-opacity:1\"/>\n",
       "<line clip-path=\"url(#clip802)\" x1=\"1442.87\" y1=\"1375.66\" x2=\"1458.87\" y2=\"1391.66\" style=\"stroke:#000000; stroke-width:3.2; stroke-opacity:1\"/>\n",
       "<line clip-path=\"url(#clip802)\" x1=\"1442.87\" y1=\"1375.66\" x2=\"1458.87\" y2=\"1359.66\" style=\"stroke:#000000; stroke-width:3.2; stroke-opacity:1\"/>\n",
       "<line clip-path=\"url(#clip802)\" x1=\"1483.37\" y1=\"1368.96\" x2=\"1467.37\" y2=\"1352.96\" style=\"stroke:#000000; stroke-width:3.2; stroke-opacity:1\"/>\n",
       "<line clip-path=\"url(#clip802)\" x1=\"1483.37\" y1=\"1368.96\" x2=\"1467.37\" y2=\"1384.96\" style=\"stroke:#000000; stroke-width:3.2; stroke-opacity:1\"/>\n",
       "<line clip-path=\"url(#clip802)\" x1=\"1483.37\" y1=\"1368.96\" x2=\"1499.37\" y2=\"1384.96\" style=\"stroke:#000000; stroke-width:3.2; stroke-opacity:1\"/>\n",
       "<line clip-path=\"url(#clip802)\" x1=\"1483.37\" y1=\"1368.96\" x2=\"1499.37\" y2=\"1352.96\" style=\"stroke:#000000; stroke-width:3.2; stroke-opacity:1\"/>\n",
       "<line clip-path=\"url(#clip802)\" x1=\"1523.86\" y1=\"1380.5\" x2=\"1507.86\" y2=\"1364.5\" style=\"stroke:#000000; stroke-width:3.2; stroke-opacity:1\"/>\n",
       "<line clip-path=\"url(#clip802)\" x1=\"1523.86\" y1=\"1380.5\" x2=\"1507.86\" y2=\"1396.5\" style=\"stroke:#000000; stroke-width:3.2; stroke-opacity:1\"/>\n",
       "<line clip-path=\"url(#clip802)\" x1=\"1523.86\" y1=\"1380.5\" x2=\"1539.86\" y2=\"1396.5\" style=\"stroke:#000000; stroke-width:3.2; stroke-opacity:1\"/>\n",
       "<line clip-path=\"url(#clip802)\" x1=\"1523.86\" y1=\"1380.5\" x2=\"1539.86\" y2=\"1364.5\" style=\"stroke:#000000; stroke-width:3.2; stroke-opacity:1\"/>\n",
       "<line clip-path=\"url(#clip802)\" x1=\"1564.35\" y1=\"1380.48\" x2=\"1548.35\" y2=\"1364.48\" style=\"stroke:#000000; stroke-width:3.2; stroke-opacity:1\"/>\n",
       "<line clip-path=\"url(#clip802)\" x1=\"1564.35\" y1=\"1380.48\" x2=\"1548.35\" y2=\"1396.48\" style=\"stroke:#000000; stroke-width:3.2; stroke-opacity:1\"/>\n",
       "<line clip-path=\"url(#clip802)\" x1=\"1564.35\" y1=\"1380.48\" x2=\"1580.35\" y2=\"1396.48\" style=\"stroke:#000000; stroke-width:3.2; stroke-opacity:1\"/>\n",
       "<line clip-path=\"url(#clip802)\" x1=\"1564.35\" y1=\"1380.48\" x2=\"1580.35\" y2=\"1364.48\" style=\"stroke:#000000; stroke-width:3.2; stroke-opacity:1\"/>\n",
       "<line clip-path=\"url(#clip802)\" x1=\"1604.85\" y1=\"1375.34\" x2=\"1588.85\" y2=\"1359.34\" style=\"stroke:#000000; stroke-width:3.2; stroke-opacity:1\"/>\n",
       "<line clip-path=\"url(#clip802)\" x1=\"1604.85\" y1=\"1375.34\" x2=\"1588.85\" y2=\"1391.34\" style=\"stroke:#000000; stroke-width:3.2; stroke-opacity:1\"/>\n",
       "<line clip-path=\"url(#clip802)\" x1=\"1604.85\" y1=\"1375.34\" x2=\"1620.85\" y2=\"1391.34\" style=\"stroke:#000000; stroke-width:3.2; stroke-opacity:1\"/>\n",
       "<line clip-path=\"url(#clip802)\" x1=\"1604.85\" y1=\"1375.34\" x2=\"1620.85\" y2=\"1359.34\" style=\"stroke:#000000; stroke-width:3.2; stroke-opacity:1\"/>\n",
       "<line clip-path=\"url(#clip802)\" x1=\"1645.34\" y1=\"1375.33\" x2=\"1629.34\" y2=\"1359.33\" style=\"stroke:#000000; stroke-width:3.2; stroke-opacity:1\"/>\n",
       "<line clip-path=\"url(#clip802)\" x1=\"1645.34\" y1=\"1375.33\" x2=\"1629.34\" y2=\"1391.33\" style=\"stroke:#000000; stroke-width:3.2; stroke-opacity:1\"/>\n",
       "<line clip-path=\"url(#clip802)\" x1=\"1645.34\" y1=\"1375.33\" x2=\"1661.34\" y2=\"1391.33\" style=\"stroke:#000000; stroke-width:3.2; stroke-opacity:1\"/>\n",
       "<line clip-path=\"url(#clip802)\" x1=\"1645.34\" y1=\"1375.33\" x2=\"1661.34\" y2=\"1359.33\" style=\"stroke:#000000; stroke-width:3.2; stroke-opacity:1\"/>\n",
       "<line clip-path=\"url(#clip802)\" x1=\"1685.83\" y1=\"1376.61\" x2=\"1669.83\" y2=\"1360.61\" style=\"stroke:#000000; stroke-width:3.2; stroke-opacity:1\"/>\n",
       "<line clip-path=\"url(#clip802)\" x1=\"1685.83\" y1=\"1376.61\" x2=\"1669.83\" y2=\"1392.61\" style=\"stroke:#000000; stroke-width:3.2; stroke-opacity:1\"/>\n",
       "<line clip-path=\"url(#clip802)\" x1=\"1685.83\" y1=\"1376.61\" x2=\"1701.83\" y2=\"1392.61\" style=\"stroke:#000000; stroke-width:3.2; stroke-opacity:1\"/>\n",
       "<line clip-path=\"url(#clip802)\" x1=\"1685.83\" y1=\"1376.61\" x2=\"1701.83\" y2=\"1360.61\" style=\"stroke:#000000; stroke-width:3.2; stroke-opacity:1\"/>\n",
       "<line clip-path=\"url(#clip802)\" x1=\"1726.33\" y1=\"1369.89\" x2=\"1710.33\" y2=\"1353.89\" style=\"stroke:#000000; stroke-width:3.2; stroke-opacity:1\"/>\n",
       "<line clip-path=\"url(#clip802)\" x1=\"1726.33\" y1=\"1369.89\" x2=\"1710.33\" y2=\"1385.89\" style=\"stroke:#000000; stroke-width:3.2; stroke-opacity:1\"/>\n",
       "<line clip-path=\"url(#clip802)\" x1=\"1726.33\" y1=\"1369.89\" x2=\"1742.33\" y2=\"1385.89\" style=\"stroke:#000000; stroke-width:3.2; stroke-opacity:1\"/>\n",
       "<line clip-path=\"url(#clip802)\" x1=\"1726.33\" y1=\"1369.89\" x2=\"1742.33\" y2=\"1353.89\" style=\"stroke:#000000; stroke-width:3.2; stroke-opacity:1\"/>\n",
       "<line clip-path=\"url(#clip802)\" x1=\"1766.82\" y1=\"1377.76\" x2=\"1750.82\" y2=\"1361.76\" style=\"stroke:#000000; stroke-width:3.2; stroke-opacity:1\"/>\n",
       "<line clip-path=\"url(#clip802)\" x1=\"1766.82\" y1=\"1377.76\" x2=\"1750.82\" y2=\"1393.76\" style=\"stroke:#000000; stroke-width:3.2; stroke-opacity:1\"/>\n",
       "<line clip-path=\"url(#clip802)\" x1=\"1766.82\" y1=\"1377.76\" x2=\"1782.82\" y2=\"1393.76\" style=\"stroke:#000000; stroke-width:3.2; stroke-opacity:1\"/>\n",
       "<line clip-path=\"url(#clip802)\" x1=\"1766.82\" y1=\"1377.76\" x2=\"1782.82\" y2=\"1361.76\" style=\"stroke:#000000; stroke-width:3.2; stroke-opacity:1\"/>\n",
       "<line clip-path=\"url(#clip802)\" x1=\"1888.3\" y1=\"1377.06\" x2=\"1872.3\" y2=\"1361.06\" style=\"stroke:#000000; stroke-width:3.2; stroke-opacity:1\"/>\n",
       "<line clip-path=\"url(#clip802)\" x1=\"1888.3\" y1=\"1377.06\" x2=\"1872.3\" y2=\"1393.06\" style=\"stroke:#000000; stroke-width:3.2; stroke-opacity:1\"/>\n",
       "<line clip-path=\"url(#clip802)\" x1=\"1888.3\" y1=\"1377.06\" x2=\"1904.3\" y2=\"1393.06\" style=\"stroke:#000000; stroke-width:3.2; stroke-opacity:1\"/>\n",
       "<line clip-path=\"url(#clip802)\" x1=\"1888.3\" y1=\"1377.06\" x2=\"1904.3\" y2=\"1361.06\" style=\"stroke:#000000; stroke-width:3.2; stroke-opacity:1\"/>\n",
       "<line clip-path=\"url(#clip802)\" x1=\"1928.79\" y1=\"1368.87\" x2=\"1912.79\" y2=\"1352.87\" style=\"stroke:#000000; stroke-width:3.2; stroke-opacity:1\"/>\n",
       "<line clip-path=\"url(#clip802)\" x1=\"1928.79\" y1=\"1368.87\" x2=\"1912.79\" y2=\"1384.87\" style=\"stroke:#000000; stroke-width:3.2; stroke-opacity:1\"/>\n",
       "<line clip-path=\"url(#clip802)\" x1=\"1928.79\" y1=\"1368.87\" x2=\"1944.79\" y2=\"1384.87\" style=\"stroke:#000000; stroke-width:3.2; stroke-opacity:1\"/>\n",
       "<line clip-path=\"url(#clip802)\" x1=\"1928.79\" y1=\"1368.87\" x2=\"1944.79\" y2=\"1352.87\" style=\"stroke:#000000; stroke-width:3.2; stroke-opacity:1\"/>\n",
       "<line clip-path=\"url(#clip802)\" x1=\"1969.29\" y1=\"1226.47\" x2=\"1953.29\" y2=\"1210.47\" style=\"stroke:#000000; stroke-width:3.2; stroke-opacity:1\"/>\n",
       "<line clip-path=\"url(#clip802)\" x1=\"1969.29\" y1=\"1226.47\" x2=\"1953.29\" y2=\"1242.47\" style=\"stroke:#000000; stroke-width:3.2; stroke-opacity:1\"/>\n",
       "<line clip-path=\"url(#clip802)\" x1=\"1969.29\" y1=\"1226.47\" x2=\"1985.29\" y2=\"1242.47\" style=\"stroke:#000000; stroke-width:3.2; stroke-opacity:1\"/>\n",
       "<line clip-path=\"url(#clip802)\" x1=\"1969.29\" y1=\"1226.47\" x2=\"1985.29\" y2=\"1210.47\" style=\"stroke:#000000; stroke-width:3.2; stroke-opacity:1\"/>\n",
       "<line clip-path=\"url(#clip802)\" x1=\"2009.78\" y1=\"1375.57\" x2=\"1993.78\" y2=\"1359.57\" style=\"stroke:#000000; stroke-width:3.2; stroke-opacity:1\"/>\n",
       "<line clip-path=\"url(#clip802)\" x1=\"2009.78\" y1=\"1375.57\" x2=\"1993.78\" y2=\"1391.57\" style=\"stroke:#000000; stroke-width:3.2; stroke-opacity:1\"/>\n",
       "<line clip-path=\"url(#clip802)\" x1=\"2009.78\" y1=\"1375.57\" x2=\"2025.78\" y2=\"1391.57\" style=\"stroke:#000000; stroke-width:3.2; stroke-opacity:1\"/>\n",
       "<line clip-path=\"url(#clip802)\" x1=\"2009.78\" y1=\"1375.57\" x2=\"2025.78\" y2=\"1359.57\" style=\"stroke:#000000; stroke-width:3.2; stroke-opacity:1\"/>\n",
       "<line clip-path=\"url(#clip802)\" x1=\"2050.27\" y1=\"1380.8\" x2=\"2034.27\" y2=\"1364.8\" style=\"stroke:#000000; stroke-width:3.2; stroke-opacity:1\"/>\n",
       "<line clip-path=\"url(#clip802)\" x1=\"2050.27\" y1=\"1380.8\" x2=\"2034.27\" y2=\"1396.8\" style=\"stroke:#000000; stroke-width:3.2; stroke-opacity:1\"/>\n",
       "<line clip-path=\"url(#clip802)\" x1=\"2050.27\" y1=\"1380.8\" x2=\"2066.27\" y2=\"1396.8\" style=\"stroke:#000000; stroke-width:3.2; stroke-opacity:1\"/>\n",
       "<line clip-path=\"url(#clip802)\" x1=\"2050.27\" y1=\"1380.8\" x2=\"2066.27\" y2=\"1364.8\" style=\"stroke:#000000; stroke-width:3.2; stroke-opacity:1\"/>\n",
       "<line clip-path=\"url(#clip802)\" x1=\"2090.77\" y1=\"1378.48\" x2=\"2074.77\" y2=\"1362.48\" style=\"stroke:#000000; stroke-width:3.2; stroke-opacity:1\"/>\n",
       "<line clip-path=\"url(#clip802)\" x1=\"2090.77\" y1=\"1378.48\" x2=\"2074.77\" y2=\"1394.48\" style=\"stroke:#000000; stroke-width:3.2; stroke-opacity:1\"/>\n",
       "<line clip-path=\"url(#clip802)\" x1=\"2090.77\" y1=\"1378.48\" x2=\"2106.77\" y2=\"1394.48\" style=\"stroke:#000000; stroke-width:3.2; stroke-opacity:1\"/>\n",
       "<line clip-path=\"url(#clip802)\" x1=\"2090.77\" y1=\"1378.48\" x2=\"2106.77\" y2=\"1362.48\" style=\"stroke:#000000; stroke-width:3.2; stroke-opacity:1\"/>\n",
       "<line clip-path=\"url(#clip802)\" x1=\"2171.75\" y1=\"1374.19\" x2=\"2155.75\" y2=\"1358.19\" style=\"stroke:#000000; stroke-width:3.2; stroke-opacity:1\"/>\n",
       "<line clip-path=\"url(#clip802)\" x1=\"2171.75\" y1=\"1374.19\" x2=\"2155.75\" y2=\"1390.19\" style=\"stroke:#000000; stroke-width:3.2; stroke-opacity:1\"/>\n",
       "<line clip-path=\"url(#clip802)\" x1=\"2171.75\" y1=\"1374.19\" x2=\"2187.75\" y2=\"1390.19\" style=\"stroke:#000000; stroke-width:3.2; stroke-opacity:1\"/>\n",
       "<line clip-path=\"url(#clip802)\" x1=\"2171.75\" y1=\"1374.19\" x2=\"2187.75\" y2=\"1358.19\" style=\"stroke:#000000; stroke-width:3.2; stroke-opacity:1\"/>\n",
       "<line clip-path=\"url(#clip802)\" x1=\"2212.24\" y1=\"1375.62\" x2=\"2196.24\" y2=\"1359.62\" style=\"stroke:#000000; stroke-width:3.2; stroke-opacity:1\"/>\n",
       "<line clip-path=\"url(#clip802)\" x1=\"2212.24\" y1=\"1375.62\" x2=\"2196.24\" y2=\"1391.62\" style=\"stroke:#000000; stroke-width:3.2; stroke-opacity:1\"/>\n",
       "<line clip-path=\"url(#clip802)\" x1=\"2212.24\" y1=\"1375.62\" x2=\"2228.24\" y2=\"1391.62\" style=\"stroke:#000000; stroke-width:3.2; stroke-opacity:1\"/>\n",
       "<line clip-path=\"url(#clip802)\" x1=\"2212.24\" y1=\"1375.62\" x2=\"2228.24\" y2=\"1359.62\" style=\"stroke:#000000; stroke-width:3.2; stroke-opacity:1\"/>\n",
       "<line clip-path=\"url(#clip802)\" x1=\"2293.23\" y1=\"1375.14\" x2=\"2277.23\" y2=\"1359.14\" style=\"stroke:#000000; stroke-width:3.2; stroke-opacity:1\"/>\n",
       "<line clip-path=\"url(#clip802)\" x1=\"2293.23\" y1=\"1375.14\" x2=\"2277.23\" y2=\"1391.14\" style=\"stroke:#000000; stroke-width:3.2; stroke-opacity:1\"/>\n",
       "<line clip-path=\"url(#clip802)\" x1=\"2293.23\" y1=\"1375.14\" x2=\"2309.23\" y2=\"1391.14\" style=\"stroke:#000000; stroke-width:3.2; stroke-opacity:1\"/>\n",
       "<line clip-path=\"url(#clip802)\" x1=\"2293.23\" y1=\"1375.14\" x2=\"2309.23\" y2=\"1359.14\" style=\"stroke:#000000; stroke-width:3.2; stroke-opacity:1\"/>\n",
       "</svg>\n"
      ]
     },
     "metadata": {},
     "output_type": "display_data"
    }
   ],
   "source": [
    "# objective function (parallel)\n",
    "p5c = plot(1:nReactMax,100*(solObjTraj_r[2,:] - solObjTraj_r[1,:])./solObjTraj_r[1,:],\n",
    "    xlabel=\"# reactors\", \n",
    "    ylabel=\"objective function difference [%]\",\n",
    "    marker=:xcross, \n",
    "    markercolor = :black,\n",
    "    linecolor = :black,\n",
    "    label=\"\",\n",
    "    dpi=600)\n",
    "\n",
    "display(p5c)\n",
    "savefig(p5c,\"C:/Users/MACC-Jose/Documents/Canada/Papers/Benders Decomposition/Figures/C2_OFComp.pdf\");"
   ]
  },
  {
   "cell_type": "code",
   "execution_count": 26,
   "id": "731f9dd8",
   "metadata": {},
   "outputs": [
    {
     "data": {
      "image/svg+xml": [
       "<?xml version=\"1.0\" encoding=\"utf-8\"?>\n",
       "<svg xmlns=\"http://www.w3.org/2000/svg\" xmlns:xlink=\"http://www.w3.org/1999/xlink\" width=\"600\" height=\"400\" viewBox=\"0 0 2400 1600\">\n",
       "<defs>\n",
       "  <clipPath id=\"clip850\">\n",
       "    <rect x=\"0\" y=\"0\" width=\"2400\" height=\"1600\"/>\n",
       "  </clipPath>\n",
       "</defs>\n",
       "<path clip-path=\"url(#clip850)\" d=\"M0 1600 L2400 1600 L2400 0 L0 0  Z\" fill=\"#ffffff\" fill-rule=\"evenodd\" fill-opacity=\"1\"/>\n",
       "<defs>\n",
       "  <clipPath id=\"clip851\">\n",
       "    <rect x=\"480\" y=\"0\" width=\"1681\" height=\"1600\"/>\n",
       "  </clipPath>\n",
       "</defs>\n",
       "<path clip-path=\"url(#clip850)\" d=\"M205.121 1423.18 L2352.76 1423.18 L2352.76 47.2441 L205.121 47.2441  Z\" fill=\"#ffffff\" fill-rule=\"evenodd\" fill-opacity=\"1\"/>\n",
       "<defs>\n",
       "  <clipPath id=\"clip852\">\n",
       "    <rect x=\"205\" y=\"47\" width=\"2149\" height=\"1377\"/>\n",
       "  </clipPath>\n",
       "</defs>\n",
       "<polyline clip-path=\"url(#clip852)\" style=\"stroke:#000000; stroke-linecap:round; stroke-linejoin:round; stroke-width:8; stroke-opacity:0.1; fill:none\" points=\"224.555,1423.18 224.555,47.2441 \"/>\n",
       "<polyline clip-path=\"url(#clip852)\" style=\"stroke:#000000; stroke-linecap:round; stroke-linejoin:round; stroke-width:8; stroke-opacity:0.1; fill:none\" points=\"638.039,1423.18 638.039,47.2441 \"/>\n",
       "<polyline clip-path=\"url(#clip852)\" style=\"stroke:#000000; stroke-linecap:round; stroke-linejoin:round; stroke-width:8; stroke-opacity:0.1; fill:none\" points=\"1051.52,1423.18 1051.52,47.2441 \"/>\n",
       "<polyline clip-path=\"url(#clip852)\" style=\"stroke:#000000; stroke-linecap:round; stroke-linejoin:round; stroke-width:8; stroke-opacity:0.1; fill:none\" points=\"1465.01,1423.18 1465.01,47.2441 \"/>\n",
       "<polyline clip-path=\"url(#clip852)\" style=\"stroke:#000000; stroke-linecap:round; stroke-linejoin:round; stroke-width:8; stroke-opacity:0.1; fill:none\" points=\"1878.49,1423.18 1878.49,47.2441 \"/>\n",
       "<polyline clip-path=\"url(#clip852)\" style=\"stroke:#000000; stroke-linecap:round; stroke-linejoin:round; stroke-width:8; stroke-opacity:0.1; fill:none\" points=\"2291.97,1423.18 2291.97,47.2441 \"/>\n",
       "<polyline clip-path=\"url(#clip850)\" style=\"stroke:#000000; stroke-linecap:round; stroke-linejoin:round; stroke-width:4; stroke-opacity:1; fill:none\" points=\"205.121,1423.18 2352.76,1423.18 \"/>\n",
       "<polyline clip-path=\"url(#clip850)\" style=\"stroke:#000000; stroke-linecap:round; stroke-linejoin:round; stroke-width:4; stroke-opacity:1; fill:none\" points=\"224.555,1423.18 224.555,1404.28 \"/>\n",
       "<polyline clip-path=\"url(#clip850)\" style=\"stroke:#000000; stroke-linecap:round; stroke-linejoin:round; stroke-width:4; stroke-opacity:1; fill:none\" points=\"638.039,1423.18 638.039,1404.28 \"/>\n",
       "<polyline clip-path=\"url(#clip850)\" style=\"stroke:#000000; stroke-linecap:round; stroke-linejoin:round; stroke-width:4; stroke-opacity:1; fill:none\" points=\"1051.52,1423.18 1051.52,1404.28 \"/>\n",
       "<polyline clip-path=\"url(#clip850)\" style=\"stroke:#000000; stroke-linecap:round; stroke-linejoin:round; stroke-width:4; stroke-opacity:1; fill:none\" points=\"1465.01,1423.18 1465.01,1404.28 \"/>\n",
       "<polyline clip-path=\"url(#clip850)\" style=\"stroke:#000000; stroke-linecap:round; stroke-linejoin:round; stroke-width:4; stroke-opacity:1; fill:none\" points=\"1878.49,1423.18 1878.49,1404.28 \"/>\n",
       "<polyline clip-path=\"url(#clip850)\" style=\"stroke:#000000; stroke-linecap:round; stroke-linejoin:round; stroke-width:4; stroke-opacity:1; fill:none\" points=\"2291.97,1423.18 2291.97,1404.28 \"/>\n",
       "<path clip-path=\"url(#clip850)\" d=\"M224.555 1454.1 Q220.944 1454.1 219.115 1457.66 Q217.309 1461.2 217.309 1468.33 Q217.309 1475.44 219.115 1479.01 Q220.944 1482.55 224.555 1482.55 Q228.189 1482.55 229.994 1479.01 Q231.823 1475.44 231.823 1468.33 Q231.823 1461.2 229.994 1457.66 Q228.189 1454.1 224.555 1454.1 M224.555 1450.39 Q230.365 1450.39 233.42 1455 Q236.499 1459.58 236.499 1468.33 Q236.499 1477.06 233.42 1481.67 Q230.365 1486.25 224.555 1486.25 Q218.745 1486.25 215.666 1481.67 Q212.61 1477.06 212.61 1468.33 Q212.61 1459.58 215.666 1455 Q218.745 1450.39 224.555 1450.39 Z\" fill=\"#000000\" fill-rule=\"evenodd\" fill-opacity=\"1\" /><path clip-path=\"url(#clip850)\" d=\"M612.726 1481.64 L620.365 1481.64 L620.365 1455.28 L612.055 1456.95 L612.055 1452.69 L620.319 1451.02 L624.995 1451.02 L624.995 1481.64 L632.633 1481.64 L632.633 1485.58 L612.726 1485.58 L612.726 1481.64 Z\" fill=\"#000000\" fill-rule=\"evenodd\" fill-opacity=\"1\" /><path clip-path=\"url(#clip850)\" d=\"M652.078 1454.1 Q648.467 1454.1 646.638 1457.66 Q644.832 1461.2 644.832 1468.33 Q644.832 1475.44 646.638 1479.01 Q648.467 1482.55 652.078 1482.55 Q655.712 1482.55 657.518 1479.01 Q659.346 1475.44 659.346 1468.33 Q659.346 1461.2 657.518 1457.66 Q655.712 1454.1 652.078 1454.1 M652.078 1450.39 Q657.888 1450.39 660.943 1455 Q664.022 1459.58 664.022 1468.33 Q664.022 1477.06 660.943 1481.67 Q657.888 1486.25 652.078 1486.25 Q646.268 1486.25 643.189 1481.67 Q640.133 1477.06 640.133 1468.33 Q640.133 1459.58 643.189 1455 Q646.268 1450.39 652.078 1450.39 Z\" fill=\"#000000\" fill-rule=\"evenodd\" fill-opacity=\"1\" /><path clip-path=\"url(#clip850)\" d=\"M1030.3 1481.64 L1046.61 1481.64 L1046.61 1485.58 L1024.67 1485.58 L1024.67 1481.64 Q1027.33 1478.89 1031.92 1474.26 Q1036.52 1469.61 1037.7 1468.27 Q1039.95 1465.74 1040.83 1464.01 Q1041.73 1462.25 1041.73 1460.56 Q1041.73 1457.8 1039.79 1456.07 Q1037.87 1454.33 1034.76 1454.33 Q1032.56 1454.33 1030.11 1455.09 Q1027.68 1455.86 1024.9 1457.41 L1024.9 1452.69 Q1027.73 1451.55 1030.18 1450.97 Q1032.63 1450.39 1034.67 1450.39 Q1040.04 1450.39 1043.24 1453.08 Q1046.43 1455.77 1046.43 1460.26 Q1046.43 1462.39 1045.62 1464.31 Q1044.83 1466.2 1042.73 1468.8 Q1042.15 1469.47 1039.05 1472.69 Q1035.94 1475.88 1030.3 1481.64 Z\" fill=\"#000000\" fill-rule=\"evenodd\" fill-opacity=\"1\" /><path clip-path=\"url(#clip850)\" d=\"M1066.43 1454.1 Q1062.82 1454.1 1060.99 1457.66 Q1059.18 1461.2 1059.18 1468.33 Q1059.18 1475.44 1060.99 1479.01 Q1062.82 1482.55 1066.43 1482.55 Q1070.06 1482.55 1071.87 1479.01 Q1073.7 1475.44 1073.7 1468.33 Q1073.7 1461.2 1071.87 1457.66 Q1070.06 1454.1 1066.43 1454.1 M1066.43 1450.39 Q1072.24 1450.39 1075.3 1455 Q1078.37 1459.58 1078.37 1468.33 Q1078.37 1477.06 1075.3 1481.67 Q1072.24 1486.25 1066.43 1486.25 Q1060.62 1486.25 1057.54 1481.67 Q1054.49 1477.06 1054.49 1468.33 Q1054.49 1459.58 1057.54 1455 Q1060.62 1450.39 1066.43 1450.39 Z\" fill=\"#000000\" fill-rule=\"evenodd\" fill-opacity=\"1\" /><path clip-path=\"url(#clip850)\" d=\"M1453.85 1466.95 Q1457.21 1467.66 1459.08 1469.93 Q1460.98 1472.2 1460.98 1475.53 Q1460.98 1480.65 1457.46 1483.45 Q1453.94 1486.25 1447.46 1486.25 Q1445.28 1486.25 1442.97 1485.81 Q1440.68 1485.39 1438.22 1484.54 L1438.22 1480.02 Q1440.17 1481.16 1442.48 1481.74 Q1444.8 1482.32 1447.32 1482.32 Q1451.72 1482.32 1454.01 1480.58 Q1456.33 1478.84 1456.33 1475.53 Q1456.33 1472.48 1454.17 1470.77 Q1452.04 1469.03 1448.22 1469.03 L1444.2 1469.03 L1444.2 1465.19 L1448.41 1465.19 Q1451.86 1465.19 1453.69 1463.82 Q1455.52 1462.43 1455.52 1459.84 Q1455.52 1457.18 1453.62 1455.77 Q1451.74 1454.33 1448.22 1454.33 Q1446.3 1454.33 1444.1 1454.75 Q1441.9 1455.16 1439.27 1456.04 L1439.27 1451.88 Q1441.93 1451.14 1444.24 1450.77 Q1446.58 1450.39 1448.64 1450.39 Q1453.96 1450.39 1457.07 1452.83 Q1460.17 1455.23 1460.17 1459.35 Q1460.17 1462.22 1458.52 1464.21 Q1456.88 1466.18 1453.85 1466.95 Z\" fill=\"#000000\" fill-rule=\"evenodd\" fill-opacity=\"1\" /><path clip-path=\"url(#clip850)\" d=\"M1479.84 1454.1 Q1476.23 1454.1 1474.4 1457.66 Q1472.6 1461.2 1472.6 1468.33 Q1472.6 1475.44 1474.4 1479.01 Q1476.23 1482.55 1479.84 1482.55 Q1483.48 1482.55 1485.28 1479.01 Q1487.11 1475.44 1487.11 1468.33 Q1487.11 1461.2 1485.28 1457.66 Q1483.48 1454.1 1479.84 1454.1 M1479.84 1450.39 Q1485.65 1450.39 1488.71 1455 Q1491.79 1459.58 1491.79 1468.33 Q1491.79 1477.06 1488.71 1481.67 Q1485.65 1486.25 1479.84 1486.25 Q1474.03 1486.25 1470.96 1481.67 Q1467.9 1477.06 1467.9 1468.33 Q1467.9 1459.58 1470.96 1455 Q1474.03 1450.39 1479.84 1450.39 Z\" fill=\"#000000\" fill-rule=\"evenodd\" fill-opacity=\"1\" /><path clip-path=\"url(#clip850)\" d=\"M1866.66 1455.09 L1854.86 1473.54 L1866.66 1473.54 L1866.66 1455.09 M1865.43 1451.02 L1871.31 1451.02 L1871.31 1473.54 L1876.24 1473.54 L1876.24 1477.43 L1871.31 1477.43 L1871.31 1485.58 L1866.66 1485.58 L1866.66 1477.43 L1851.06 1477.43 L1851.06 1472.92 L1865.43 1451.02 Z\" fill=\"#000000\" fill-rule=\"evenodd\" fill-opacity=\"1\" /><path clip-path=\"url(#clip850)\" d=\"M1893.98 1454.1 Q1890.36 1454.1 1888.54 1457.66 Q1886.73 1461.2 1886.73 1468.33 Q1886.73 1475.44 1888.54 1479.01 Q1890.36 1482.55 1893.98 1482.55 Q1897.61 1482.55 1899.42 1479.01 Q1901.24 1475.44 1901.24 1468.33 Q1901.24 1461.2 1899.42 1457.66 Q1897.61 1454.1 1893.98 1454.1 M1893.98 1450.39 Q1899.79 1450.39 1902.84 1455 Q1905.92 1459.58 1905.92 1468.33 Q1905.92 1477.06 1902.84 1481.67 Q1899.79 1486.25 1893.98 1486.25 Q1888.17 1486.25 1885.09 1481.67 Q1882.03 1477.06 1882.03 1468.33 Q1882.03 1459.58 1885.09 1455 Q1888.17 1450.39 1893.98 1450.39 Z\" fill=\"#000000\" fill-rule=\"evenodd\" fill-opacity=\"1\" /><path clip-path=\"url(#clip850)\" d=\"M2266.67 1451.02 L2285.03 1451.02 L2285.03 1454.96 L2270.96 1454.96 L2270.96 1463.43 Q2271.97 1463.08 2272.99 1462.92 Q2274.01 1462.73 2275.03 1462.73 Q2280.82 1462.73 2284.2 1465.9 Q2287.58 1469.08 2287.58 1474.49 Q2287.58 1480.07 2284.1 1483.17 Q2280.63 1486.25 2274.31 1486.25 Q2272.14 1486.25 2269.87 1485.88 Q2267.62 1485.51 2265.21 1484.77 L2265.21 1480.07 Q2267.3 1481.2 2269.52 1481.76 Q2271.74 1482.32 2274.22 1482.32 Q2278.22 1482.32 2280.56 1480.21 Q2282.9 1478.1 2282.9 1474.49 Q2282.9 1470.88 2280.56 1468.77 Q2278.22 1466.67 2274.22 1466.67 Q2272.34 1466.67 2270.47 1467.08 Q2268.62 1467.5 2266.67 1468.38 L2266.67 1451.02 Z\" fill=\"#000000\" fill-rule=\"evenodd\" fill-opacity=\"1\" /><path clip-path=\"url(#clip850)\" d=\"M2306.79 1454.1 Q2303.18 1454.1 2301.35 1457.66 Q2299.54 1461.2 2299.54 1468.33 Q2299.54 1475.44 2301.35 1479.01 Q2303.18 1482.55 2306.79 1482.55 Q2310.42 1482.55 2312.23 1479.01 Q2314.06 1475.44 2314.06 1468.33 Q2314.06 1461.2 2312.23 1457.66 Q2310.42 1454.1 2306.79 1454.1 M2306.79 1450.39 Q2312.6 1450.39 2315.65 1455 Q2318.73 1459.58 2318.73 1468.33 Q2318.73 1477.06 2315.65 1481.67 Q2312.6 1486.25 2306.79 1486.25 Q2300.98 1486.25 2297.9 1481.67 Q2294.84 1477.06 2294.84 1468.33 Q2294.84 1459.58 2297.9 1455 Q2300.98 1450.39 2306.79 1450.39 Z\" fill=\"#000000\" fill-rule=\"evenodd\" fill-opacity=\"1\" /><path clip-path=\"url(#clip850)\" d=\"M1139.94 1539.37 L1130.68 1539.37 L1128.01 1550 L1137.33 1550 L1139.94 1539.37 M1135.17 1521.26 L1131.86 1534.46 L1141.15 1534.46 L1144.49 1521.26 L1149.59 1521.26 L1146.31 1534.46 L1156.24 1534.46 L1156.24 1539.37 L1145.07 1539.37 L1142.46 1550 L1152.58 1550 L1152.58 1554.87 L1141.22 1554.87 L1137.91 1568.04 L1132.81 1568.04 L1136.09 1554.87 L1126.77 1554.87 L1123.49 1568.04 L1118.36 1568.04 L1121.67 1554.87 L1111.65 1554.87 L1111.65 1550 L1122.85 1550 L1125.52 1539.37 L1115.28 1539.37 L1115.28 1534.46 L1126.77 1534.46 L1130.01 1521.26 L1135.17 1521.26 Z\" fill=\"#000000\" fill-rule=\"evenodd\" fill-opacity=\"1\" /><path clip-path=\"url(#clip850)\" d=\"M1208.76 1537.87 Q1207.77 1537.3 1206.59 1537.04 Q1205.45 1536.76 1204.05 1536.76 Q1199.08 1536.76 1196.41 1540 Q1193.77 1543.22 1193.77 1549.27 L1193.77 1568.04 L1187.88 1568.04 L1187.88 1532.4 L1193.77 1532.4 L1193.77 1537.93 Q1195.61 1534.69 1198.57 1533.13 Q1201.53 1531.54 1205.76 1531.54 Q1206.37 1531.54 1207.1 1531.63 Q1207.83 1531.7 1208.72 1531.85 L1208.76 1537.87 Z\" fill=\"#000000\" fill-rule=\"evenodd\" fill-opacity=\"1\" /><path clip-path=\"url(#clip850)\" d=\"M1243.96 1548.76 L1243.96 1551.62 L1217.03 1551.62 Q1217.41 1557.67 1220.66 1560.85 Q1223.94 1564 1229.76 1564 Q1233.14 1564 1236.29 1563.17 Q1239.47 1562.35 1242.59 1560.69 L1242.59 1566.23 Q1239.44 1567.57 1236.13 1568.27 Q1232.82 1568.97 1229.41 1568.97 Q1220.88 1568.97 1215.89 1564 Q1210.92 1559.04 1210.92 1550.57 Q1210.92 1541.82 1215.63 1536.69 Q1220.37 1531.54 1228.39 1531.54 Q1235.59 1531.54 1239.76 1536.18 Q1243.96 1540.8 1243.96 1548.76 M1238.1 1547.04 Q1238.04 1542.23 1235.4 1539.37 Q1232.79 1536.5 1228.46 1536.5 Q1223.56 1536.5 1220.6 1539.27 Q1217.67 1542.04 1217.22 1547.07 L1238.1 1547.04 Z\" fill=\"#000000\" fill-rule=\"evenodd\" fill-opacity=\"1\" /><path clip-path=\"url(#clip850)\" d=\"M1269.77 1550.12 Q1262.67 1550.12 1259.94 1551.75 Q1257.2 1553.37 1257.2 1557.29 Q1257.2 1560.4 1259.24 1562.25 Q1261.31 1564.07 1264.84 1564.07 Q1269.71 1564.07 1272.64 1560.63 Q1275.6 1557.16 1275.6 1551.43 L1275.6 1550.12 L1269.77 1550.12 M1281.45 1547.71 L1281.45 1568.04 L1275.6 1568.04 L1275.6 1562.63 Q1273.59 1565.88 1270.6 1567.44 Q1267.61 1568.97 1263.28 1568.97 Q1257.8 1568.97 1254.56 1565.91 Q1251.34 1562.82 1251.34 1557.67 Q1251.34 1551.65 1255.35 1548.6 Q1259.4 1545.54 1267.38 1545.54 L1275.6 1545.54 L1275.6 1544.97 Q1275.6 1540.93 1272.92 1538.73 Q1270.28 1536.5 1265.47 1536.5 Q1262.42 1536.5 1259.52 1537.23 Q1256.63 1537.97 1253.95 1539.43 L1253.95 1534.02 Q1257.17 1532.78 1260.19 1532.17 Q1263.22 1531.54 1266.08 1531.54 Q1273.81 1531.54 1277.63 1535.55 Q1281.45 1539.56 1281.45 1547.71 Z\" fill=\"#000000\" fill-rule=\"evenodd\" fill-opacity=\"1\" /><path clip-path=\"url(#clip850)\" d=\"M1319.17 1533.76 L1319.17 1539.24 Q1316.69 1537.87 1314.17 1537.2 Q1311.69 1536.5 1309.14 1536.5 Q1303.45 1536.5 1300.3 1540.13 Q1297.14 1543.73 1297.14 1550.25 Q1297.14 1556.78 1300.3 1560.4 Q1303.45 1564 1309.14 1564 Q1311.69 1564 1314.17 1563.33 Q1316.69 1562.63 1319.17 1561.26 L1319.17 1566.68 Q1316.72 1567.82 1314.08 1568.39 Q1311.47 1568.97 1308.51 1568.97 Q1300.45 1568.97 1295.71 1563.91 Q1290.97 1558.85 1290.97 1550.25 Q1290.97 1541.53 1295.74 1536.53 Q1300.55 1531.54 1308.89 1531.54 Q1311.59 1531.54 1314.17 1532.11 Q1316.75 1532.65 1319.17 1533.76 Z\" fill=\"#000000\" fill-rule=\"evenodd\" fill-opacity=\"1\" /><path clip-path=\"url(#clip850)\" d=\"M1335.15 1522.27 L1335.15 1532.4 L1347.21 1532.4 L1347.21 1536.95 L1335.15 1536.95 L1335.15 1556.3 Q1335.15 1560.66 1336.33 1561.9 Q1337.53 1563.14 1341.2 1563.14 L1347.21 1563.14 L1347.21 1568.04 L1341.2 1568.04 Q1334.42 1568.04 1331.84 1565.53 Q1329.26 1562.98 1329.26 1556.3 L1329.26 1536.95 L1324.96 1536.95 L1324.96 1532.4 L1329.26 1532.4 L1329.26 1522.27 L1335.15 1522.27 Z\" fill=\"#000000\" fill-rule=\"evenodd\" fill-opacity=\"1\" /><path clip-path=\"url(#clip850)\" d=\"M1368.73 1536.5 Q1364.02 1536.5 1361.28 1540.19 Q1358.54 1543.85 1358.54 1550.25 Q1358.54 1556.65 1361.25 1560.34 Q1363.98 1564 1368.73 1564 Q1373.41 1564 1376.14 1560.31 Q1378.88 1556.62 1378.88 1550.25 Q1378.88 1543.92 1376.14 1540.23 Q1373.41 1536.5 1368.73 1536.5 M1368.73 1531.54 Q1376.37 1531.54 1380.73 1536.5 Q1385.09 1541.47 1385.09 1550.25 Q1385.09 1559 1380.73 1564 Q1376.37 1568.97 1368.73 1568.97 Q1361.06 1568.97 1356.7 1564 Q1352.37 1559 1352.37 1550.25 Q1352.37 1541.47 1356.7 1536.5 Q1361.06 1531.54 1368.73 1531.54 Z\" fill=\"#000000\" fill-rule=\"evenodd\" fill-opacity=\"1\" /><path clip-path=\"url(#clip850)\" d=\"M1415.45 1537.87 Q1414.46 1537.3 1413.29 1537.04 Q1412.14 1536.76 1410.74 1536.76 Q1405.78 1536.76 1403.1 1540 Q1400.46 1543.22 1400.46 1549.27 L1400.46 1568.04 L1394.57 1568.04 L1394.57 1532.4 L1400.46 1532.4 L1400.46 1537.93 Q1402.31 1534.69 1405.27 1533.13 Q1408.23 1531.54 1412.46 1531.54 Q1413.06 1531.54 1413.8 1531.63 Q1414.53 1531.7 1415.42 1531.85 L1415.45 1537.87 Z\" fill=\"#000000\" fill-rule=\"evenodd\" fill-opacity=\"1\" /><path clip-path=\"url(#clip850)\" d=\"M1444.32 1533.45 L1444.32 1538.98 Q1441.84 1537.71 1439.16 1537.07 Q1436.49 1536.44 1433.63 1536.44 Q1429.26 1536.44 1427.07 1537.77 Q1424.9 1539.11 1424.9 1541.79 Q1424.9 1543.82 1426.46 1545 Q1428.02 1546.15 1432.73 1547.2 L1434.74 1547.64 Q1440.98 1548.98 1443.59 1551.43 Q1446.23 1553.85 1446.23 1558.21 Q1446.23 1563.17 1442.28 1566.07 Q1438.37 1568.97 1431.49 1568.97 Q1428.63 1568.97 1425.51 1568.39 Q1422.42 1567.85 1418.98 1566.74 L1418.98 1560.69 Q1422.23 1562.38 1425.38 1563.24 Q1428.53 1564.07 1431.62 1564.07 Q1435.76 1564.07 1437.99 1562.66 Q1440.21 1561.23 1440.21 1558.65 Q1440.21 1556.27 1438.59 1554.99 Q1437 1553.72 1431.56 1552.54 L1429.52 1552.07 Q1424.08 1550.92 1421.66 1548.56 Q1419.24 1546.18 1419.24 1542.04 Q1419.24 1537.01 1422.8 1534.27 Q1426.37 1531.54 1432.92 1531.54 Q1436.17 1531.54 1439.04 1532.01 Q1441.9 1532.49 1444.32 1533.45 Z\" fill=\"#000000\" fill-rule=\"evenodd\" fill-opacity=\"1\" /><polyline clip-path=\"url(#clip852)\" style=\"stroke:#000000; stroke-linecap:round; stroke-linejoin:round; stroke-width:8; stroke-opacity:0.1; fill:none\" points=\"205.121,1352.58 2352.76,1352.58 \"/>\n",
       "<polyline clip-path=\"url(#clip852)\" style=\"stroke:#000000; stroke-linecap:round; stroke-linejoin:round; stroke-width:8; stroke-opacity:0.1; fill:none\" points=\"205.121,1035.98 2352.76,1035.98 \"/>\n",
       "<polyline clip-path=\"url(#clip852)\" style=\"stroke:#000000; stroke-linecap:round; stroke-linejoin:round; stroke-width:8; stroke-opacity:0.1; fill:none\" points=\"205.121,719.382 2352.76,719.382 \"/>\n",
       "<polyline clip-path=\"url(#clip852)\" style=\"stroke:#000000; stroke-linecap:round; stroke-linejoin:round; stroke-width:8; stroke-opacity:0.1; fill:none\" points=\"205.121,402.784 2352.76,402.784 \"/>\n",
       "<polyline clip-path=\"url(#clip852)\" style=\"stroke:#000000; stroke-linecap:round; stroke-linejoin:round; stroke-width:8; stroke-opacity:0.1; fill:none\" points=\"205.121,86.1857 2352.76,86.1857 \"/>\n",
       "<polyline clip-path=\"url(#clip850)\" style=\"stroke:#000000; stroke-linecap:round; stroke-linejoin:round; stroke-width:4; stroke-opacity:1; fill:none\" points=\"205.121,1423.18 205.121,47.2441 \"/>\n",
       "<polyline clip-path=\"url(#clip850)\" style=\"stroke:#000000; stroke-linecap:round; stroke-linejoin:round; stroke-width:4; stroke-opacity:1; fill:none\" points=\"205.121,1352.58 224.019,1352.58 \"/>\n",
       "<polyline clip-path=\"url(#clip850)\" style=\"stroke:#000000; stroke-linecap:round; stroke-linejoin:round; stroke-width:4; stroke-opacity:1; fill:none\" points=\"205.121,1035.98 224.019,1035.98 \"/>\n",
       "<polyline clip-path=\"url(#clip850)\" style=\"stroke:#000000; stroke-linecap:round; stroke-linejoin:round; stroke-width:4; stroke-opacity:1; fill:none\" points=\"205.121,719.382 224.019,719.382 \"/>\n",
       "<polyline clip-path=\"url(#clip850)\" style=\"stroke:#000000; stroke-linecap:round; stroke-linejoin:round; stroke-width:4; stroke-opacity:1; fill:none\" points=\"205.121,402.784 224.019,402.784 \"/>\n",
       "<polyline clip-path=\"url(#clip850)\" style=\"stroke:#000000; stroke-linecap:round; stroke-linejoin:round; stroke-width:4; stroke-opacity:1; fill:none\" points=\"205.121,86.1857 224.019,86.1857 \"/>\n",
       "<path clip-path=\"url(#clip850)\" d=\"M117.825 1365.92 L125.464 1365.92 L125.464 1339.56 L117.154 1341.22 L117.154 1336.97 L125.418 1335.3 L130.093 1335.3 L130.093 1365.92 L137.732 1365.92 L137.732 1369.86 L117.825 1369.86 L117.825 1365.92 Z\" fill=\"#000000\" fill-rule=\"evenodd\" fill-opacity=\"1\" /><path clip-path=\"url(#clip850)\" d=\"M157.177 1338.38 Q153.566 1338.38 151.737 1341.94 Q149.931 1345.48 149.931 1352.61 Q149.931 1359.72 151.737 1363.28 Q153.566 1366.83 157.177 1366.83 Q160.811 1366.83 162.616 1363.28 Q164.445 1359.72 164.445 1352.61 Q164.445 1345.48 162.616 1341.94 Q160.811 1338.38 157.177 1338.38 M157.177 1334.67 Q162.987 1334.67 166.042 1339.28 Q169.121 1343.86 169.121 1352.61 Q169.121 1361.34 166.042 1365.95 Q162.987 1370.53 157.177 1370.53 Q151.366 1370.53 148.288 1365.95 Q145.232 1361.34 145.232 1352.61 Q145.232 1343.86 148.288 1339.28 Q151.366 1334.67 157.177 1334.67 Z\" fill=\"#000000\" fill-rule=\"evenodd\" fill-opacity=\"1\" /><path clip-path=\"url(#clip850)\" d=\"M121.043 1049.33 L137.362 1049.33 L137.362 1053.26 L115.418 1053.26 L115.418 1049.33 Q118.08 1046.57 122.663 1041.94 Q127.269 1037.29 128.45 1035.95 Q130.695 1033.42 131.575 1031.69 Q132.478 1029.93 132.478 1028.24 Q132.478 1025.48 130.533 1023.75 Q128.612 1022.01 125.51 1022.01 Q123.311 1022.01 120.857 1022.77 Q118.427 1023.54 115.649 1025.09 L115.649 1020.37 Q118.473 1019.23 120.927 1018.65 Q123.38 1018.08 125.418 1018.08 Q130.788 1018.08 133.982 1020.76 Q137.177 1023.45 137.177 1027.94 Q137.177 1030.07 136.367 1031.99 Q135.579 1033.89 133.473 1036.48 Q132.894 1037.15 129.792 1040.37 Q126.691 1043.56 121.043 1049.33 Z\" fill=\"#000000\" fill-rule=\"evenodd\" fill-opacity=\"1\" /><path clip-path=\"url(#clip850)\" d=\"M157.177 1021.78 Q153.566 1021.78 151.737 1025.34 Q149.931 1028.89 149.931 1036.01 Q149.931 1043.12 151.737 1046.69 Q153.566 1050.23 157.177 1050.23 Q160.811 1050.23 162.616 1046.69 Q164.445 1043.12 164.445 1036.01 Q164.445 1028.89 162.616 1025.34 Q160.811 1021.78 157.177 1021.78 M157.177 1018.08 Q162.987 1018.08 166.042 1022.68 Q169.121 1027.27 169.121 1036.01 Q169.121 1044.74 166.042 1049.35 Q162.987 1053.93 157.177 1053.93 Q151.366 1053.93 148.288 1049.35 Q145.232 1044.74 145.232 1036.01 Q145.232 1027.27 148.288 1022.68 Q151.366 1018.08 157.177 1018.08 Z\" fill=\"#000000\" fill-rule=\"evenodd\" fill-opacity=\"1\" /><path clip-path=\"url(#clip850)\" d=\"M131.181 718.028 Q134.538 718.745 136.413 721.014 Q138.311 723.283 138.311 726.616 Q138.311 731.732 134.792 734.532 Q131.274 737.333 124.793 737.333 Q122.617 737.333 120.302 736.894 Q118.01 736.477 115.556 735.62 L115.556 731.107 Q117.501 732.241 119.816 732.819 Q122.13 733.398 124.654 733.398 Q129.052 733.398 131.343 731.662 Q133.658 729.926 133.658 726.616 Q133.658 723.56 131.505 721.847 Q129.376 720.111 125.556 720.111 L121.529 720.111 L121.529 716.269 L125.742 716.269 Q129.191 716.269 131.019 714.903 Q132.848 713.514 132.848 710.921 Q132.848 708.259 130.95 706.847 Q129.075 705.412 125.556 705.412 Q123.635 705.412 121.436 705.829 Q119.237 706.246 116.598 707.125 L116.598 702.959 Q119.26 702.218 121.575 701.847 Q123.913 701.477 125.973 701.477 Q131.297 701.477 134.399 703.908 Q137.501 706.315 137.501 710.435 Q137.501 713.306 135.857 715.296 Q134.214 717.264 131.181 718.028 Z\" fill=\"#000000\" fill-rule=\"evenodd\" fill-opacity=\"1\" /><path clip-path=\"url(#clip850)\" d=\"M157.177 705.181 Q153.566 705.181 151.737 708.746 Q149.931 712.287 149.931 719.417 Q149.931 726.523 151.737 730.088 Q153.566 733.63 157.177 733.63 Q160.811 733.63 162.616 730.088 Q164.445 726.523 164.445 719.417 Q164.445 712.287 162.616 708.746 Q160.811 705.181 157.177 705.181 M157.177 701.477 Q162.987 701.477 166.042 706.084 Q169.121 710.667 169.121 719.417 Q169.121 728.144 166.042 732.75 Q162.987 737.333 157.177 737.333 Q151.366 737.333 148.288 732.75 Q145.232 728.144 145.232 719.417 Q145.232 710.667 148.288 706.084 Q151.366 701.477 157.177 701.477 Z\" fill=\"#000000\" fill-rule=\"evenodd\" fill-opacity=\"1\" /><path clip-path=\"url(#clip850)\" d=\"M129.862 389.578 L118.056 408.027 L129.862 408.027 L129.862 389.578 M128.635 385.504 L134.515 385.504 L134.515 408.027 L139.445 408.027 L139.445 411.916 L134.515 411.916 L134.515 420.064 L129.862 420.064 L129.862 411.916 L114.26 411.916 L114.26 407.402 L128.635 385.504 Z\" fill=\"#000000\" fill-rule=\"evenodd\" fill-opacity=\"1\" /><path clip-path=\"url(#clip850)\" d=\"M157.177 388.583 Q153.566 388.583 151.737 392.147 Q149.931 395.689 149.931 402.819 Q149.931 409.925 151.737 413.49 Q153.566 417.031 157.177 417.031 Q160.811 417.031 162.616 413.49 Q164.445 409.925 164.445 402.819 Q164.445 395.689 162.616 392.147 Q160.811 388.583 157.177 388.583 M157.177 384.879 Q162.987 384.879 166.042 389.485 Q169.121 394.069 169.121 402.819 Q169.121 411.545 166.042 416.152 Q162.987 420.735 157.177 420.735 Q151.366 420.735 148.288 416.152 Q145.232 411.545 145.232 402.819 Q145.232 394.069 148.288 389.485 Q151.366 384.879 157.177 384.879 Z\" fill=\"#000000\" fill-rule=\"evenodd\" fill-opacity=\"1\" /><path clip-path=\"url(#clip850)\" d=\"M117.061 68.9057 L135.417 68.9057 L135.417 72.8408 L121.343 72.8408 L121.343 81.313 Q122.362 80.9658 123.38 80.8038 Q124.399 80.6186 125.418 80.6186 Q131.205 80.6186 134.584 83.7899 Q137.964 86.9611 137.964 92.3778 Q137.964 97.9564 134.492 101.058 Q131.019 104.137 124.7 104.137 Q122.524 104.137 120.255 103.767 Q118.01 103.396 115.603 102.655 L115.603 97.9564 Q117.686 99.0907 119.908 99.6462 Q122.13 100.202 124.607 100.202 Q128.612 100.202 130.95 98.0953 Q133.288 95.9889 133.288 92.3778 Q133.288 88.7667 130.95 86.6602 Q128.612 84.5537 124.607 84.5537 Q122.732 84.5537 120.857 84.9704 Q119.006 85.3871 117.061 86.2667 L117.061 68.9057 Z\" fill=\"#000000\" fill-rule=\"evenodd\" fill-opacity=\"1\" /><path clip-path=\"url(#clip850)\" d=\"M157.177 71.9844 Q153.566 71.9844 151.737 75.5492 Q149.931 79.0908 149.931 86.2204 Q149.931 93.3268 151.737 96.8916 Q153.566 100.433 157.177 100.433 Q160.811 100.433 162.616 96.8916 Q164.445 93.3268 164.445 86.2204 Q164.445 79.0908 162.616 75.5492 Q160.811 71.9844 157.177 71.9844 M157.177 68.2807 Q162.987 68.2807 166.042 72.8871 Q169.121 77.4704 169.121 86.2204 Q169.121 94.9472 166.042 99.5537 Q162.987 104.137 157.177 104.137 Q151.366 104.137 148.288 99.5537 Q145.232 94.9472 145.232 86.2204 Q145.232 77.4704 148.288 72.8871 Q151.366 68.2807 157.177 68.2807 Z\" fill=\"#000000\" fill-rule=\"evenodd\" fill-opacity=\"1\" /><path clip-path=\"url(#clip850)\" d=\"M35.3266 895.15 L35.3266 904.412 L45.9574 907.086 L45.9574 897.76 L35.3266 895.15 M17.2162 899.925 L30.4251 903.235 L30.4251 893.941 L17.2162 890.599 L17.2162 885.506 L30.4251 888.785 L30.4251 878.854 L35.3266 878.854 L35.3266 890.026 L45.9574 892.636 L45.9574 882.514 L50.8271 882.514 L50.8271 893.877 L64.0042 897.187 L64.0042 902.28 L50.8271 899.002 L50.8271 908.327 L64.0042 911.606 L64.0042 916.73 L50.8271 913.42 L50.8271 923.446 L45.9574 923.446 L45.9574 912.242 L35.3266 909.569 L35.3266 919.817 L30.4251 919.817 L30.4251 908.327 L17.2162 905.081 L17.2162 899.925 Z\" fill=\"#000000\" fill-rule=\"evenodd\" fill-opacity=\"1\" /><path clip-path=\"url(#clip850)\" d=\"M28.3562 846.994 L28.3562 841.137 L64.0042 841.137 L64.0042 846.994 L28.3562 846.994 M14.479 846.994 L14.479 841.137 L21.895 841.137 L21.895 846.994 L14.479 846.994 Z\" fill=\"#000000\" fill-rule=\"evenodd\" fill-opacity=\"1\" /><path clip-path=\"url(#clip850)\" d=\"M18.2347 823.091 L28.3562 823.091 L28.3562 811.028 L32.9077 811.028 L32.9077 823.091 L52.2594 823.091 Q56.6199 823.091 57.8613 821.913 Q59.1026 820.703 59.1026 817.043 L59.1026 811.028 L64.0042 811.028 L64.0042 817.043 Q64.0042 823.823 61.4897 826.401 Q58.9434 828.979 52.2594 828.979 L32.9077 828.979 L32.9077 833.276 L28.3562 833.276 L28.3562 828.979 L18.2347 828.979 L18.2347 823.091 Z\" fill=\"#000000\" fill-rule=\"evenodd\" fill-opacity=\"1\" /><path clip-path=\"url(#clip850)\" d=\"M44.7161 772.833 L47.5806 772.833 L47.5806 799.76 Q53.6281 799.378 56.8109 796.132 Q59.9619 792.853 59.9619 787.029 Q59.9619 783.655 59.1344 780.504 Q58.3069 777.321 56.6518 774.202 L62.1899 774.202 Q63.5267 777.353 64.227 780.663 Q64.9272 783.973 64.9272 787.379 Q64.9272 795.909 59.9619 800.906 Q54.9967 805.871 46.5303 805.871 Q37.7774 805.871 32.6531 801.161 Q27.4968 796.418 27.4968 788.397 Q27.4968 781.204 32.1438 777.035 Q36.7589 772.833 44.7161 772.833 M42.9973 778.69 Q38.1912 778.753 35.3266 781.395 Q32.4621 784.005 32.4621 788.334 Q32.4621 793.235 35.2312 796.195 Q38.0002 799.124 43.0292 799.569 L42.9973 778.69 Z\" fill=\"#000000\" fill-rule=\"evenodd\" fill-opacity=\"1\" /><path clip-path=\"url(#clip850)\" d=\"M33.8307 742.564 Q33.2578 743.551 33.0032 744.729 Q32.7167 745.875 32.7167 747.275 Q32.7167 752.24 35.9632 754.914 Q39.1779 757.556 45.2253 757.556 L64.0042 757.556 L64.0042 763.444 L28.3562 763.444 L28.3562 757.556 L33.8944 757.556 Q30.6479 755.71 29.0883 752.749 Q27.4968 749.789 27.4968 745.556 Q27.4968 744.951 27.5923 744.219 Q27.656 743.487 27.8151 742.596 L33.8307 742.564 Z\" fill=\"#000000\" fill-rule=\"evenodd\" fill-opacity=\"1\" /><path clip-path=\"url(#clip850)\" d=\"M46.0847 720.221 Q46.0847 727.318 47.7079 730.056 Q49.3312 732.793 53.2461 732.793 Q56.3653 732.793 58.2114 730.756 Q60.0256 728.687 60.0256 725.154 Q60.0256 720.284 56.5881 717.356 Q53.1188 714.396 47.3897 714.396 L46.0847 714.396 L46.0847 720.221 M43.6657 708.54 L64.0042 708.54 L64.0042 714.396 L58.5933 714.396 Q61.8398 716.401 63.3994 719.393 Q64.9272 722.385 64.9272 726.714 Q64.9272 732.188 61.8716 735.435 Q58.7843 738.649 53.6281 738.649 Q47.6125 738.649 44.5569 734.639 Q41.5014 730.597 41.5014 722.608 L41.5014 714.396 L40.9285 714.396 Q36.8862 714.396 34.6901 717.07 Q32.4621 719.711 32.4621 724.518 Q32.4621 727.573 33.1941 730.47 Q33.9262 733.366 35.3903 736.04 L29.9795 736.04 Q28.7381 732.825 28.1334 729.801 Q27.4968 726.777 27.4968 723.913 Q27.4968 716.179 31.5072 712.359 Q35.5176 708.54 43.6657 708.54 Z\" fill=\"#000000\" fill-rule=\"evenodd\" fill-opacity=\"1\" /><path clip-path=\"url(#clip850)\" d=\"M18.2347 690.684 L28.3562 690.684 L28.3562 678.621 L32.9077 678.621 L32.9077 690.684 L52.2594 690.684 Q56.6199 690.684 57.8613 689.506 Q59.1026 688.297 59.1026 684.636 L59.1026 678.621 L64.0042 678.621 L64.0042 684.636 Q64.0042 691.416 61.4897 693.994 Q58.9434 696.572 52.2594 696.572 L32.9077 696.572 L32.9077 700.869 L28.3562 700.869 L28.3562 696.572 L18.2347 696.572 L18.2347 690.684 Z\" fill=\"#000000\" fill-rule=\"evenodd\" fill-opacity=\"1\" /><path clip-path=\"url(#clip850)\" d=\"M28.3562 670.918 L28.3562 665.062 L64.0042 665.062 L64.0042 670.918 L28.3562 670.918 M14.479 670.918 L14.479 665.062 L21.895 665.062 L21.895 670.918 L14.479 670.918 Z\" fill=\"#000000\" fill-rule=\"evenodd\" fill-opacity=\"1\" /><path clip-path=\"url(#clip850)\" d=\"M32.4621 638.994 Q32.4621 643.705 36.1542 646.442 Q39.8145 649.179 46.212 649.179 Q52.6095 649.179 56.3017 646.474 Q59.9619 643.737 59.9619 638.994 Q59.9619 634.316 56.2698 631.578 Q52.5777 628.841 46.212 628.841 Q39.8781 628.841 36.186 631.578 Q32.4621 634.316 32.4621 638.994 M27.4968 638.994 Q27.4968 631.355 32.4621 626.995 Q37.4273 622.634 46.212 622.634 Q54.9649 622.634 59.9619 626.995 Q64.9272 631.355 64.9272 638.994 Q64.9272 646.665 59.9619 651.025 Q54.9649 655.354 46.212 655.354 Q37.4273 655.354 32.4621 651.025 Q27.4968 646.665 27.4968 638.994 Z\" fill=\"#000000\" fill-rule=\"evenodd\" fill-opacity=\"1\" /><path clip-path=\"url(#clip850)\" d=\"M42.4881 583.294 L64.0042 583.294 L64.0042 589.151 L42.679 589.151 Q37.6183 589.151 35.1038 591.124 Q32.5894 593.098 32.5894 597.044 Q32.5894 601.787 35.6131 604.524 Q38.6368 607.261 43.8567 607.261 L64.0042 607.261 L64.0042 613.15 L28.3562 613.15 L28.3562 607.261 L33.8944 607.261 Q30.6797 605.161 29.0883 602.328 Q27.4968 599.463 27.4968 595.739 Q27.4968 589.596 31.3163 586.445 Q35.1038 583.294 42.4881 583.294 Z\" fill=\"#000000\" fill-rule=\"evenodd\" fill-opacity=\"1\" /><path clip-path=\"url(#clip850)\" d=\"M29.4065 548.888 L34.9447 548.888 Q33.6716 551.37 33.035 554.044 Q32.3984 556.718 32.3984 559.582 Q32.3984 563.943 33.7352 566.139 Q35.072 568.303 37.7456 568.303 Q39.7826 568.303 40.9603 566.744 Q42.1061 565.184 43.1565 560.473 L43.6021 558.468 Q44.9389 552.23 47.3897 549.62 Q49.8086 546.978 54.1691 546.978 Q59.1344 546.978 62.0308 550.925 Q64.9272 554.84 64.9272 561.715 Q64.9272 564.579 64.3543 567.698 Q63.8132 570.786 62.6992 574.223 L56.6518 574.223 Q58.3387 570.977 59.198 567.826 Q60.0256 564.675 60.0256 561.587 Q60.0256 557.45 58.6251 555.222 Q57.1929 552.994 54.6147 552.994 Q52.2276 552.994 50.9545 554.617 Q49.6813 556.208 48.5037 561.651 L48.0262 563.688 Q46.8804 569.131 44.5251 571.55 Q42.138 573.969 38.0002 573.969 Q32.9713 573.969 30.2341 570.404 Q27.4968 566.839 27.4968 560.282 Q27.4968 557.036 27.9743 554.171 Q28.4517 551.307 29.4065 548.888 Z\" fill=\"#000000\" fill-rule=\"evenodd\" fill-opacity=\"1\" /><polyline clip-path=\"url(#clip852)\" style=\"stroke:#000000; stroke-linecap:round; stroke-linejoin:round; stroke-width:4; stroke-opacity:1; fill:none\" stroke-dasharray=\"16, 8, 2, 8\" points=\"265.903,1130.96 307.251,1225.94 348.6,1225.94 389.948,1225.94 431.297,1130.96 472.645,1004.32 513.993,1162.62 555.342,1162.62 596.69,1130.96 638.039,1225.94 679.387,1130.96 720.735,1067.64 762.084,1035.98 803.432,1257.6 844.78,1225.94 886.129,1225.94 927.477,1194.28 968.826,1225.94 1010.17,1130.96 1051.52,86.1857 1092.87,1130.96 1134.22,1257.6 1175.57,1162.62 1216.92,1130.96 1258.26,1162.62 1299.61,1194.28 1340.96,1289.26 1382.31,1225.94 1423.66,1225.94 1465.01,1257.6 1506.35,1162.62 1547.7,1384.24 1589.05,1099.3 1630.4,1099.3 1671.75,1257.6 1713.1,1162.62 1754.44,1162.62 1795.79,86.1857 1837.14,86.1857 1878.49,1035.98 1919.84,1225.94 1961.19,1130.96 2002.54,1194.28 2043.88,1194.28 2085.23,1289.26 2126.58,86.1857 2167.93,1194.28 2209.28,1162.62 2250.63,86.1857 2291.97,1225.94 \"/>\n",
       "<path clip-path=\"url(#clip852)\" d=\"M253.903 1118.96 L253.903 1142.96 L277.903 1142.96 L277.903 1118.96 L253.903 1118.96 Z\" fill=\"#000000\" fill-rule=\"evenodd\" fill-opacity=\"1\" stroke=\"none\"/>\n",
       "<path clip-path=\"url(#clip852)\" d=\"M295.251 1213.94 L295.251 1237.94 L319.251 1237.94 L319.251 1213.94 L295.251 1213.94 Z\" fill=\"#000000\" fill-rule=\"evenodd\" fill-opacity=\"1\" stroke=\"none\"/>\n",
       "<path clip-path=\"url(#clip852)\" d=\"M336.6 1213.94 L336.6 1237.94 L360.6 1237.94 L360.6 1213.94 L336.6 1213.94 Z\" fill=\"#000000\" fill-rule=\"evenodd\" fill-opacity=\"1\" stroke=\"none\"/>\n",
       "<path clip-path=\"url(#clip852)\" d=\"M377.948 1213.94 L377.948 1237.94 L401.948 1237.94 L401.948 1213.94 L377.948 1213.94 Z\" fill=\"#000000\" fill-rule=\"evenodd\" fill-opacity=\"1\" stroke=\"none\"/>\n",
       "<path clip-path=\"url(#clip852)\" d=\"M419.297 1118.96 L419.297 1142.96 L443.297 1142.96 L443.297 1118.96 L419.297 1118.96 Z\" fill=\"#000000\" fill-rule=\"evenodd\" fill-opacity=\"1\" stroke=\"none\"/>\n",
       "<path clip-path=\"url(#clip852)\" d=\"M460.645 992.32 L460.645 1016.32 L484.645 1016.32 L484.645 992.32 L460.645 992.32 Z\" fill=\"#000000\" fill-rule=\"evenodd\" fill-opacity=\"1\" stroke=\"none\"/>\n",
       "<path clip-path=\"url(#clip852)\" d=\"M501.993 1150.62 L501.993 1174.62 L525.993 1174.62 L525.993 1150.62 L501.993 1150.62 Z\" fill=\"#000000\" fill-rule=\"evenodd\" fill-opacity=\"1\" stroke=\"none\"/>\n",
       "<path clip-path=\"url(#clip852)\" d=\"M543.342 1150.62 L543.342 1174.62 L567.342 1174.62 L567.342 1150.62 L543.342 1150.62 Z\" fill=\"#000000\" fill-rule=\"evenodd\" fill-opacity=\"1\" stroke=\"none\"/>\n",
       "<path clip-path=\"url(#clip852)\" d=\"M584.69 1118.96 L584.69 1142.96 L608.69 1142.96 L608.69 1118.96 L584.69 1118.96 Z\" fill=\"#000000\" fill-rule=\"evenodd\" fill-opacity=\"1\" stroke=\"none\"/>\n",
       "<path clip-path=\"url(#clip852)\" d=\"M626.039 1213.94 L626.039 1237.94 L650.039 1237.94 L650.039 1213.94 L626.039 1213.94 Z\" fill=\"#000000\" fill-rule=\"evenodd\" fill-opacity=\"1\" stroke=\"none\"/>\n",
       "<path clip-path=\"url(#clip852)\" d=\"M667.387 1118.96 L667.387 1142.96 L691.387 1142.96 L691.387 1118.96 L667.387 1118.96 Z\" fill=\"#000000\" fill-rule=\"evenodd\" fill-opacity=\"1\" stroke=\"none\"/>\n",
       "<path clip-path=\"url(#clip852)\" d=\"M708.735 1055.64 L708.735 1079.64 L732.735 1079.64 L732.735 1055.64 L708.735 1055.64 Z\" fill=\"#000000\" fill-rule=\"evenodd\" fill-opacity=\"1\" stroke=\"none\"/>\n",
       "<path clip-path=\"url(#clip852)\" d=\"M750.084 1023.98 L750.084 1047.98 L774.084 1047.98 L774.084 1023.98 L750.084 1023.98 Z\" fill=\"#000000\" fill-rule=\"evenodd\" fill-opacity=\"1\" stroke=\"none\"/>\n",
       "<path clip-path=\"url(#clip852)\" d=\"M791.432 1245.6 L791.432 1269.6 L815.432 1269.6 L815.432 1245.6 L791.432 1245.6 Z\" fill=\"#000000\" fill-rule=\"evenodd\" fill-opacity=\"1\" stroke=\"none\"/>\n",
       "<path clip-path=\"url(#clip852)\" d=\"M832.78 1213.94 L832.78 1237.94 L856.78 1237.94 L856.78 1213.94 L832.78 1213.94 Z\" fill=\"#000000\" fill-rule=\"evenodd\" fill-opacity=\"1\" stroke=\"none\"/>\n",
       "<path clip-path=\"url(#clip852)\" d=\"M874.129 1213.94 L874.129 1237.94 L898.129 1237.94 L898.129 1213.94 L874.129 1213.94 Z\" fill=\"#000000\" fill-rule=\"evenodd\" fill-opacity=\"1\" stroke=\"none\"/>\n",
       "<path clip-path=\"url(#clip852)\" d=\"M915.477 1182.28 L915.477 1206.28 L939.477 1206.28 L939.477 1182.28 L915.477 1182.28 Z\" fill=\"#000000\" fill-rule=\"evenodd\" fill-opacity=\"1\" stroke=\"none\"/>\n",
       "<path clip-path=\"url(#clip852)\" d=\"M956.826 1213.94 L956.826 1237.94 L980.826 1237.94 L980.826 1213.94 L956.826 1213.94 Z\" fill=\"#000000\" fill-rule=\"evenodd\" fill-opacity=\"1\" stroke=\"none\"/>\n",
       "<path clip-path=\"url(#clip852)\" d=\"M998.174 1118.96 L998.174 1142.96 L1022.17 1142.96 L1022.17 1118.96 L998.174 1118.96 Z\" fill=\"#000000\" fill-rule=\"evenodd\" fill-opacity=\"1\" stroke=\"none\"/>\n",
       "<path clip-path=\"url(#clip852)\" d=\"M1039.52 74.1857 L1039.52 98.1857 L1063.52 98.1857 L1063.52 74.1857 L1039.52 74.1857 Z\" fill=\"#000000\" fill-rule=\"evenodd\" fill-opacity=\"1\" stroke=\"none\"/>\n",
       "<path clip-path=\"url(#clip852)\" d=\"M1080.87 1118.96 L1080.87 1142.96 L1104.87 1142.96 L1104.87 1118.96 L1080.87 1118.96 Z\" fill=\"#000000\" fill-rule=\"evenodd\" fill-opacity=\"1\" stroke=\"none\"/>\n",
       "<path clip-path=\"url(#clip852)\" d=\"M1122.22 1245.6 L1122.22 1269.6 L1146.22 1269.6 L1146.22 1245.6 L1122.22 1245.6 Z\" fill=\"#000000\" fill-rule=\"evenodd\" fill-opacity=\"1\" stroke=\"none\"/>\n",
       "<path clip-path=\"url(#clip852)\" d=\"M1163.57 1150.62 L1163.57 1174.62 L1187.57 1174.62 L1187.57 1150.62 L1163.57 1150.62 Z\" fill=\"#000000\" fill-rule=\"evenodd\" fill-opacity=\"1\" stroke=\"none\"/>\n",
       "<path clip-path=\"url(#clip852)\" d=\"M1204.92 1118.96 L1204.92 1142.96 L1228.92 1142.96 L1228.92 1118.96 L1204.92 1118.96 Z\" fill=\"#000000\" fill-rule=\"evenodd\" fill-opacity=\"1\" stroke=\"none\"/>\n",
       "<path clip-path=\"url(#clip852)\" d=\"M1246.26 1150.62 L1246.26 1174.62 L1270.26 1174.62 L1270.26 1150.62 L1246.26 1150.62 Z\" fill=\"#000000\" fill-rule=\"evenodd\" fill-opacity=\"1\" stroke=\"none\"/>\n",
       "<path clip-path=\"url(#clip852)\" d=\"M1287.61 1182.28 L1287.61 1206.28 L1311.61 1206.28 L1311.61 1182.28 L1287.61 1182.28 Z\" fill=\"#000000\" fill-rule=\"evenodd\" fill-opacity=\"1\" stroke=\"none\"/>\n",
       "<path clip-path=\"url(#clip852)\" d=\"M1328.96 1277.26 L1328.96 1301.26 L1352.96 1301.26 L1352.96 1277.26 L1328.96 1277.26 Z\" fill=\"#000000\" fill-rule=\"evenodd\" fill-opacity=\"1\" stroke=\"none\"/>\n",
       "<path clip-path=\"url(#clip852)\" d=\"M1370.31 1213.94 L1370.31 1237.94 L1394.31 1237.94 L1394.31 1213.94 L1370.31 1213.94 Z\" fill=\"#000000\" fill-rule=\"evenodd\" fill-opacity=\"1\" stroke=\"none\"/>\n",
       "<path clip-path=\"url(#clip852)\" d=\"M1411.66 1213.94 L1411.66 1237.94 L1435.66 1237.94 L1435.66 1213.94 L1411.66 1213.94 Z\" fill=\"#000000\" fill-rule=\"evenodd\" fill-opacity=\"1\" stroke=\"none\"/>\n",
       "<path clip-path=\"url(#clip852)\" d=\"M1453.01 1245.6 L1453.01 1269.6 L1477.01 1269.6 L1477.01 1245.6 L1453.01 1245.6 Z\" fill=\"#000000\" fill-rule=\"evenodd\" fill-opacity=\"1\" stroke=\"none\"/>\n",
       "<path clip-path=\"url(#clip852)\" d=\"M1494.35 1150.62 L1494.35 1174.62 L1518.35 1174.62 L1518.35 1150.62 L1494.35 1150.62 Z\" fill=\"#000000\" fill-rule=\"evenodd\" fill-opacity=\"1\" stroke=\"none\"/>\n",
       "<path clip-path=\"url(#clip852)\" d=\"M1535.7 1372.24 L1535.7 1396.24 L1559.7 1396.24 L1559.7 1372.24 L1535.7 1372.24 Z\" fill=\"#000000\" fill-rule=\"evenodd\" fill-opacity=\"1\" stroke=\"none\"/>\n",
       "<path clip-path=\"url(#clip852)\" d=\"M1577.05 1087.3 L1577.05 1111.3 L1601.05 1111.3 L1601.05 1087.3 L1577.05 1087.3 Z\" fill=\"#000000\" fill-rule=\"evenodd\" fill-opacity=\"1\" stroke=\"none\"/>\n",
       "<path clip-path=\"url(#clip852)\" d=\"M1618.4 1087.3 L1618.4 1111.3 L1642.4 1111.3 L1642.4 1087.3 L1618.4 1087.3 Z\" fill=\"#000000\" fill-rule=\"evenodd\" fill-opacity=\"1\" stroke=\"none\"/>\n",
       "<path clip-path=\"url(#clip852)\" d=\"M1659.75 1245.6 L1659.75 1269.6 L1683.75 1269.6 L1683.75 1245.6 L1659.75 1245.6 Z\" fill=\"#000000\" fill-rule=\"evenodd\" fill-opacity=\"1\" stroke=\"none\"/>\n",
       "<path clip-path=\"url(#clip852)\" d=\"M1701.1 1150.62 L1701.1 1174.62 L1725.1 1174.62 L1725.1 1150.62 L1701.1 1150.62 Z\" fill=\"#000000\" fill-rule=\"evenodd\" fill-opacity=\"1\" stroke=\"none\"/>\n",
       "<path clip-path=\"url(#clip852)\" d=\"M1742.44 1150.62 L1742.44 1174.62 L1766.44 1174.62 L1766.44 1150.62 L1742.44 1150.62 Z\" fill=\"#000000\" fill-rule=\"evenodd\" fill-opacity=\"1\" stroke=\"none\"/>\n",
       "<path clip-path=\"url(#clip852)\" d=\"M1783.79 74.1857 L1783.79 98.1857 L1807.79 98.1857 L1807.79 74.1857 L1783.79 74.1857 Z\" fill=\"#000000\" fill-rule=\"evenodd\" fill-opacity=\"1\" stroke=\"none\"/>\n",
       "<path clip-path=\"url(#clip852)\" d=\"M1825.14 74.1857 L1825.14 98.1857 L1849.14 98.1857 L1849.14 74.1857 L1825.14 74.1857 Z\" fill=\"#000000\" fill-rule=\"evenodd\" fill-opacity=\"1\" stroke=\"none\"/>\n",
       "<path clip-path=\"url(#clip852)\" d=\"M1866.49 1023.98 L1866.49 1047.98 L1890.49 1047.98 L1890.49 1023.98 L1866.49 1023.98 Z\" fill=\"#000000\" fill-rule=\"evenodd\" fill-opacity=\"1\" stroke=\"none\"/>\n",
       "<path clip-path=\"url(#clip852)\" d=\"M1907.84 1213.94 L1907.84 1237.94 L1931.84 1237.94 L1931.84 1213.94 L1907.84 1213.94 Z\" fill=\"#000000\" fill-rule=\"evenodd\" fill-opacity=\"1\" stroke=\"none\"/>\n",
       "<path clip-path=\"url(#clip852)\" d=\"M1949.19 1118.96 L1949.19 1142.96 L1973.19 1142.96 L1973.19 1118.96 L1949.19 1118.96 Z\" fill=\"#000000\" fill-rule=\"evenodd\" fill-opacity=\"1\" stroke=\"none\"/>\n",
       "<path clip-path=\"url(#clip852)\" d=\"M1990.54 1182.28 L1990.54 1206.28 L2014.54 1206.28 L2014.54 1182.28 L1990.54 1182.28 Z\" fill=\"#000000\" fill-rule=\"evenodd\" fill-opacity=\"1\" stroke=\"none\"/>\n",
       "<path clip-path=\"url(#clip852)\" d=\"M2031.88 1182.28 L2031.88 1206.28 L2055.88 1206.28 L2055.88 1182.28 L2031.88 1182.28 Z\" fill=\"#000000\" fill-rule=\"evenodd\" fill-opacity=\"1\" stroke=\"none\"/>\n",
       "<path clip-path=\"url(#clip852)\" d=\"M2073.23 1277.26 L2073.23 1301.26 L2097.23 1301.26 L2097.23 1277.26 L2073.23 1277.26 Z\" fill=\"#000000\" fill-rule=\"evenodd\" fill-opacity=\"1\" stroke=\"none\"/>\n",
       "<path clip-path=\"url(#clip852)\" d=\"M2114.58 74.1857 L2114.58 98.1857 L2138.58 98.1857 L2138.58 74.1857 L2114.58 74.1857 Z\" fill=\"#000000\" fill-rule=\"evenodd\" fill-opacity=\"1\" stroke=\"none\"/>\n",
       "<path clip-path=\"url(#clip852)\" d=\"M2155.93 1182.28 L2155.93 1206.28 L2179.93 1206.28 L2179.93 1182.28 L2155.93 1182.28 Z\" fill=\"#000000\" fill-rule=\"evenodd\" fill-opacity=\"1\" stroke=\"none\"/>\n",
       "<path clip-path=\"url(#clip852)\" d=\"M2197.28 1150.62 L2197.28 1174.62 L2221.28 1174.62 L2221.28 1150.62 L2197.28 1150.62 Z\" fill=\"#000000\" fill-rule=\"evenodd\" fill-opacity=\"1\" stroke=\"none\"/>\n",
       "<path clip-path=\"url(#clip852)\" d=\"M2238.63 74.1857 L2238.63 98.1857 L2262.63 98.1857 L2262.63 74.1857 L2238.63 74.1857 Z\" fill=\"#000000\" fill-rule=\"evenodd\" fill-opacity=\"1\" stroke=\"none\"/>\n",
       "<path clip-path=\"url(#clip852)\" d=\"M2279.97 1213.94 L2279.97 1237.94 L2303.97 1237.94 L2303.97 1213.94 L2279.97 1213.94 Z\" fill=\"#000000\" fill-rule=\"evenodd\" fill-opacity=\"1\" stroke=\"none\"/>\n",
       "</svg>\n"
      ]
     },
     "metadata": {},
     "output_type": "display_data"
    }
   ],
   "source": [
    "p6 = plot(1:nReactMax,iterTraj_r,\n",
    "    xlabel=\"# reactors\", \n",
    "    ylabel=\"# iterations\",\n",
    "    marker=:square, \n",
    "    markersize=3,\n",
    "    linecolor = :black,\n",
    "    markercolor = :black,\n",
    "    linestyle = :dashdot,\n",
    "    label=\"\",\n",
    "    yticks=range(0,150,step=10),\n",
    "    gridlinewidth=2,\n",
    "    dpi=600)\n",
    "\n",
    "display(p6)\n",
    "savefig(p6,\"C:/Users/MACC-Jose/Documents/Canada/Papers/Benders Decomposition/Figures/C2_BenIter.pdf\");"
   ]
  },
  {
   "cell_type": "code",
   "execution_count": 27,
   "id": "3c8c1018",
   "metadata": {},
   "outputs": [
    {
     "data": {
      "image/svg+xml": [
       "<?xml version=\"1.0\" encoding=\"utf-8\"?>\n",
       "<svg xmlns=\"http://www.w3.org/2000/svg\" xmlns:xlink=\"http://www.w3.org/1999/xlink\" width=\"600\" height=\"400\" viewBox=\"0 0 2400 1600\">\n",
       "<defs>\n",
       "  <clipPath id=\"clip900\">\n",
       "    <rect x=\"0\" y=\"0\" width=\"2400\" height=\"1600\"/>\n",
       "  </clipPath>\n",
       "</defs>\n",
       "<path clip-path=\"url(#clip900)\" d=\"M0 1600 L2400 1600 L2400 0 L0 0  Z\" fill=\"#ffffff\" fill-rule=\"evenodd\" fill-opacity=\"1\"/>\n",
       "<defs>\n",
       "  <clipPath id=\"clip901\">\n",
       "    <rect x=\"480\" y=\"0\" width=\"1681\" height=\"1600\"/>\n",
       "  </clipPath>\n",
       "</defs>\n",
       "<defs>\n",
       "  <clipPath id=\"clip902\">\n",
       "    <rect x=\"205\" y=\"47\" width=\"2149\" height=\"1377\"/>\n",
       "  </clipPath>\n",
       "</defs>\n",
       "<path clip-path=\"url(#clip900)\" d=\"M252.764 1423.18 L2352.76 1423.18 L2352.76 47.2441 L252.764 47.2441  Z\" fill=\"#ffffff\" fill-rule=\"evenodd\" fill-opacity=\"1\"/>\n",
       "<defs>\n",
       "  <clipPath id=\"clip903\">\n",
       "    <rect x=\"252\" y=\"47\" width=\"2101\" height=\"1377\"/>\n",
       "  </clipPath>\n",
       "</defs>\n",
       "<polyline clip-path=\"url(#clip903)\" style=\"stroke:#000000; stroke-linecap:round; stroke-linejoin:round; stroke-width:8; stroke-opacity:0.1; fill:none\" points=\"271.767,1423.18 271.767,47.2441 \"/>\n",
       "<polyline clip-path=\"url(#clip903)\" style=\"stroke:#000000; stroke-linecap:round; stroke-linejoin:round; stroke-width:8; stroke-opacity:0.1; fill:none\" points=\"676.078,1423.18 676.078,47.2441 \"/>\n",
       "<polyline clip-path=\"url(#clip903)\" style=\"stroke:#000000; stroke-linecap:round; stroke-linejoin:round; stroke-width:8; stroke-opacity:0.1; fill:none\" points=\"1080.39,1423.18 1080.39,47.2441 \"/>\n",
       "<polyline clip-path=\"url(#clip903)\" style=\"stroke:#000000; stroke-linecap:round; stroke-linejoin:round; stroke-width:8; stroke-opacity:0.1; fill:none\" points=\"1484.7,1423.18 1484.7,47.2441 \"/>\n",
       "<polyline clip-path=\"url(#clip903)\" style=\"stroke:#000000; stroke-linecap:round; stroke-linejoin:round; stroke-width:8; stroke-opacity:0.1; fill:none\" points=\"1889.01,1423.18 1889.01,47.2441 \"/>\n",
       "<polyline clip-path=\"url(#clip903)\" style=\"stroke:#000000; stroke-linecap:round; stroke-linejoin:round; stroke-width:8; stroke-opacity:0.1; fill:none\" points=\"2293.32,1423.18 2293.32,47.2441 \"/>\n",
       "<polyline clip-path=\"url(#clip900)\" style=\"stroke:#000000; stroke-linecap:round; stroke-linejoin:round; stroke-width:4; stroke-opacity:1; fill:none\" points=\"252.764,1423.18 2352.76,1423.18 \"/>\n",
       "<polyline clip-path=\"url(#clip900)\" style=\"stroke:#000000; stroke-linecap:round; stroke-linejoin:round; stroke-width:4; stroke-opacity:1; fill:none\" points=\"271.767,1423.18 271.767,1404.28 \"/>\n",
       "<polyline clip-path=\"url(#clip900)\" style=\"stroke:#000000; stroke-linecap:round; stroke-linejoin:round; stroke-width:4; stroke-opacity:1; fill:none\" points=\"676.078,1423.18 676.078,1404.28 \"/>\n",
       "<polyline clip-path=\"url(#clip900)\" style=\"stroke:#000000; stroke-linecap:round; stroke-linejoin:round; stroke-width:4; stroke-opacity:1; fill:none\" points=\"1080.39,1423.18 1080.39,1404.28 \"/>\n",
       "<polyline clip-path=\"url(#clip900)\" style=\"stroke:#000000; stroke-linecap:round; stroke-linejoin:round; stroke-width:4; stroke-opacity:1; fill:none\" points=\"1484.7,1423.18 1484.7,1404.28 \"/>\n",
       "<polyline clip-path=\"url(#clip900)\" style=\"stroke:#000000; stroke-linecap:round; stroke-linejoin:round; stroke-width:4; stroke-opacity:1; fill:none\" points=\"1889.01,1423.18 1889.01,1404.28 \"/>\n",
       "<polyline clip-path=\"url(#clip900)\" style=\"stroke:#000000; stroke-linecap:round; stroke-linejoin:round; stroke-width:4; stroke-opacity:1; fill:none\" points=\"2293.32,1423.18 2293.32,1404.28 \"/>\n",
       "<path clip-path=\"url(#clip900)\" d=\"M271.767 1454.1 Q268.155 1454.1 266.327 1457.66 Q264.521 1461.2 264.521 1468.33 Q264.521 1475.44 266.327 1479.01 Q268.155 1482.55 271.767 1482.55 Q275.401 1482.55 277.206 1479.01 Q279.035 1475.44 279.035 1468.33 Q279.035 1461.2 277.206 1457.66 Q275.401 1454.1 271.767 1454.1 M271.767 1450.39 Q277.577 1450.39 280.632 1455 Q283.711 1459.58 283.711 1468.33 Q283.711 1477.06 280.632 1481.67 Q277.577 1486.25 271.767 1486.25 Q265.956 1486.25 262.878 1481.67 Q259.822 1477.06 259.822 1468.33 Q259.822 1459.58 262.878 1455 Q265.956 1450.39 271.767 1450.39 Z\" fill=\"#000000\" fill-rule=\"evenodd\" fill-opacity=\"1\" /><path clip-path=\"url(#clip900)\" d=\"M650.765 1481.64 L658.404 1481.64 L658.404 1455.28 L650.094 1456.95 L650.094 1452.69 L658.358 1451.02 L663.034 1451.02 L663.034 1481.64 L670.673 1481.64 L670.673 1485.58 L650.765 1485.58 L650.765 1481.64 Z\" fill=\"#000000\" fill-rule=\"evenodd\" fill-opacity=\"1\" /><path clip-path=\"url(#clip900)\" d=\"M690.117 1454.1 Q686.506 1454.1 684.677 1457.66 Q682.872 1461.2 682.872 1468.33 Q682.872 1475.44 684.677 1479.01 Q686.506 1482.55 690.117 1482.55 Q693.751 1482.55 695.557 1479.01 Q697.385 1475.44 697.385 1468.33 Q697.385 1461.2 695.557 1457.66 Q693.751 1454.1 690.117 1454.1 M690.117 1450.39 Q695.927 1450.39 698.983 1455 Q702.061 1459.58 702.061 1468.33 Q702.061 1477.06 698.983 1481.67 Q695.927 1486.25 690.117 1486.25 Q684.307 1486.25 681.228 1481.67 Q678.173 1477.06 678.173 1468.33 Q678.173 1459.58 681.228 1455 Q684.307 1450.39 690.117 1450.39 Z\" fill=\"#000000\" fill-rule=\"evenodd\" fill-opacity=\"1\" /><path clip-path=\"url(#clip900)\" d=\"M1059.16 1481.64 L1075.48 1481.64 L1075.48 1485.58 L1053.54 1485.58 L1053.54 1481.64 Q1056.2 1478.89 1060.78 1474.26 Q1065.39 1469.61 1066.57 1468.27 Q1068.81 1465.74 1069.69 1464.01 Q1070.6 1462.25 1070.6 1460.56 Q1070.6 1457.8 1068.65 1456.07 Q1066.73 1454.33 1063.63 1454.33 Q1061.43 1454.33 1058.98 1455.09 Q1056.55 1455.86 1053.77 1457.41 L1053.77 1452.69 Q1056.59 1451.55 1059.05 1450.97 Q1061.5 1450.39 1063.54 1450.39 Q1068.91 1450.39 1072.1 1453.08 Q1075.3 1455.77 1075.3 1460.26 Q1075.3 1462.39 1074.49 1464.31 Q1073.7 1466.2 1071.59 1468.8 Q1071.01 1469.47 1067.91 1472.69 Q1064.81 1475.88 1059.16 1481.64 Z\" fill=\"#000000\" fill-rule=\"evenodd\" fill-opacity=\"1\" /><path clip-path=\"url(#clip900)\" d=\"M1095.3 1454.1 Q1091.69 1454.1 1089.86 1457.66 Q1088.05 1461.2 1088.05 1468.33 Q1088.05 1475.44 1089.86 1479.01 Q1091.69 1482.55 1095.3 1482.55 Q1098.93 1482.55 1100.74 1479.01 Q1102.56 1475.44 1102.56 1468.33 Q1102.56 1461.2 1100.74 1457.66 Q1098.93 1454.1 1095.3 1454.1 M1095.3 1450.39 Q1101.11 1450.39 1104.16 1455 Q1107.24 1459.58 1107.24 1468.33 Q1107.24 1477.06 1104.16 1481.67 Q1101.11 1486.25 1095.3 1486.25 Q1089.49 1486.25 1086.41 1481.67 Q1083.35 1477.06 1083.35 1468.33 Q1083.35 1459.58 1086.41 1455 Q1089.49 1450.39 1095.3 1450.39 Z\" fill=\"#000000\" fill-rule=\"evenodd\" fill-opacity=\"1\" /><path clip-path=\"url(#clip900)\" d=\"M1473.54 1466.95 Q1476.9 1467.66 1478.77 1469.93 Q1480.67 1472.2 1480.67 1475.53 Q1480.67 1480.65 1477.15 1483.45 Q1473.64 1486.25 1467.15 1486.25 Q1464.98 1486.25 1462.66 1485.81 Q1460.37 1485.39 1457.92 1484.54 L1457.92 1480.02 Q1459.86 1481.16 1462.18 1481.74 Q1464.49 1482.32 1467.01 1482.32 Q1471.41 1482.32 1473.7 1480.58 Q1476.02 1478.84 1476.02 1475.53 Q1476.02 1472.48 1473.87 1470.77 Q1471.74 1469.03 1467.92 1469.03 L1463.89 1469.03 L1463.89 1465.19 L1468.1 1465.19 Q1471.55 1465.19 1473.38 1463.82 Q1475.21 1462.43 1475.21 1459.84 Q1475.21 1457.18 1473.31 1455.77 Q1471.44 1454.33 1467.92 1454.33 Q1466 1454.33 1463.8 1454.75 Q1461.6 1455.16 1458.96 1456.04 L1458.96 1451.88 Q1461.62 1451.14 1463.94 1450.77 Q1466.27 1450.39 1468.33 1450.39 Q1473.66 1450.39 1476.76 1452.83 Q1479.86 1455.23 1479.86 1459.35 Q1479.86 1462.22 1478.22 1464.21 Q1476.57 1466.18 1473.54 1466.95 Z\" fill=\"#000000\" fill-rule=\"evenodd\" fill-opacity=\"1\" /><path clip-path=\"url(#clip900)\" d=\"M1499.54 1454.1 Q1495.93 1454.1 1494.1 1457.66 Q1492.29 1461.2 1492.29 1468.33 Q1492.29 1475.44 1494.1 1479.01 Q1495.93 1482.55 1499.54 1482.55 Q1503.17 1482.55 1504.98 1479.01 Q1506.81 1475.44 1506.81 1468.33 Q1506.81 1461.2 1504.98 1457.66 Q1503.17 1454.1 1499.54 1454.1 M1499.54 1450.39 Q1505.35 1450.39 1508.4 1455 Q1511.48 1459.58 1511.48 1468.33 Q1511.48 1477.06 1508.4 1481.67 Q1505.35 1486.25 1499.54 1486.25 Q1493.73 1486.25 1490.65 1481.67 Q1487.59 1477.06 1487.59 1468.33 Q1487.59 1459.58 1490.65 1455 Q1493.73 1450.39 1499.54 1450.39 Z\" fill=\"#000000\" fill-rule=\"evenodd\" fill-opacity=\"1\" /><path clip-path=\"url(#clip900)\" d=\"M1877.18 1455.09 L1865.38 1473.54 L1877.18 1473.54 L1877.18 1455.09 M1875.96 1451.02 L1881.84 1451.02 L1881.84 1473.54 L1886.77 1473.54 L1886.77 1477.43 L1881.84 1477.43 L1881.84 1485.58 L1877.18 1485.58 L1877.18 1477.43 L1861.58 1477.43 L1861.58 1472.92 L1875.96 1451.02 Z\" fill=\"#000000\" fill-rule=\"evenodd\" fill-opacity=\"1\" /><path clip-path=\"url(#clip900)\" d=\"M1904.5 1454.1 Q1900.89 1454.1 1899.06 1457.66 Q1897.25 1461.2 1897.25 1468.33 Q1897.25 1475.44 1899.06 1479.01 Q1900.89 1482.55 1904.5 1482.55 Q1908.13 1482.55 1909.94 1479.01 Q1911.77 1475.44 1911.77 1468.33 Q1911.77 1461.2 1909.94 1457.66 Q1908.13 1454.1 1904.5 1454.1 M1904.5 1450.39 Q1910.31 1450.39 1913.36 1455 Q1916.44 1459.58 1916.44 1468.33 Q1916.44 1477.06 1913.36 1481.67 Q1910.31 1486.25 1904.5 1486.25 Q1898.69 1486.25 1895.61 1481.67 Q1892.55 1477.06 1892.55 1468.33 Q1892.55 1459.58 1895.61 1455 Q1898.69 1450.39 1904.5 1450.39 Z\" fill=\"#000000\" fill-rule=\"evenodd\" fill-opacity=\"1\" /><path clip-path=\"url(#clip900)\" d=\"M2268.02 1451.02 L2286.38 1451.02 L2286.38 1454.96 L2272.3 1454.96 L2272.3 1463.43 Q2273.32 1463.08 2274.34 1462.92 Q2275.36 1462.73 2276.38 1462.73 Q2282.16 1462.73 2285.54 1465.9 Q2288.92 1469.08 2288.92 1474.49 Q2288.92 1480.07 2285.45 1483.17 Q2281.98 1486.25 2275.66 1486.25 Q2273.48 1486.25 2271.22 1485.88 Q2268.97 1485.51 2266.56 1484.77 L2266.56 1480.07 Q2268.65 1481.2 2270.87 1481.76 Q2273.09 1482.32 2275.57 1482.32 Q2279.57 1482.32 2281.91 1480.21 Q2284.25 1478.1 2284.25 1474.49 Q2284.25 1470.88 2281.91 1468.77 Q2279.57 1466.67 2275.57 1466.67 Q2273.69 1466.67 2271.82 1467.08 Q2269.97 1467.5 2268.02 1468.38 L2268.02 1451.02 Z\" fill=\"#000000\" fill-rule=\"evenodd\" fill-opacity=\"1\" /><path clip-path=\"url(#clip900)\" d=\"M2308.14 1454.1 Q2304.53 1454.1 2302.7 1457.66 Q2300.89 1461.2 2300.89 1468.33 Q2300.89 1475.44 2302.7 1479.01 Q2304.53 1482.55 2308.14 1482.55 Q2311.77 1482.55 2313.58 1479.01 Q2315.41 1475.44 2315.41 1468.33 Q2315.41 1461.2 2313.58 1457.66 Q2311.77 1454.1 2308.14 1454.1 M2308.14 1450.39 Q2313.95 1450.39 2317 1455 Q2320.08 1459.58 2320.08 1468.33 Q2320.08 1477.06 2317 1481.67 Q2313.95 1486.25 2308.14 1486.25 Q2302.33 1486.25 2299.25 1481.67 Q2296.19 1477.06 2296.19 1468.33 Q2296.19 1459.58 2299.25 1455 Q2302.33 1450.39 2308.14 1450.39 Z\" fill=\"#000000\" fill-rule=\"evenodd\" fill-opacity=\"1\" /><path clip-path=\"url(#clip900)\" d=\"M1163.76 1539.37 L1154.5 1539.37 L1151.83 1550 L1161.15 1550 L1163.76 1539.37 M1158.99 1521.26 L1155.68 1534.46 L1164.97 1534.46 L1168.32 1521.26 L1173.41 1521.26 L1170.13 1534.46 L1180.06 1534.46 L1180.06 1539.37 L1168.89 1539.37 L1166.28 1550 L1176.4 1550 L1176.4 1554.87 L1165.04 1554.87 L1161.73 1568.04 L1156.64 1568.04 L1159.91 1554.87 L1150.59 1554.87 L1147.31 1568.04 L1142.18 1568.04 L1145.5 1554.87 L1135.47 1554.87 L1135.47 1550 L1146.67 1550 L1149.35 1539.37 L1139.1 1539.37 L1139.1 1534.46 L1150.59 1534.46 L1153.83 1521.26 L1158.99 1521.26 Z\" fill=\"#000000\" fill-rule=\"evenodd\" fill-opacity=\"1\" /><path clip-path=\"url(#clip900)\" d=\"M1232.58 1537.87 Q1231.59 1537.3 1230.41 1537.04 Q1229.27 1536.76 1227.87 1536.76 Q1222.9 1536.76 1220.23 1540 Q1217.59 1543.22 1217.59 1549.27 L1217.59 1568.04 L1211.7 1568.04 L1211.7 1532.4 L1217.59 1532.4 L1217.59 1537.93 Q1219.43 1534.69 1222.39 1533.13 Q1225.35 1531.54 1229.59 1531.54 Q1230.19 1531.54 1230.92 1531.63 Q1231.65 1531.7 1232.55 1531.85 L1232.58 1537.87 Z\" fill=\"#000000\" fill-rule=\"evenodd\" fill-opacity=\"1\" /><path clip-path=\"url(#clip900)\" d=\"M1267.78 1548.76 L1267.78 1551.62 L1240.85 1551.62 Q1241.24 1557.67 1244.48 1560.85 Q1247.76 1564 1253.58 1564 Q1256.96 1564 1260.11 1563.17 Q1263.29 1562.35 1266.41 1560.69 L1266.41 1566.23 Q1263.26 1567.57 1259.95 1568.27 Q1256.64 1568.97 1253.23 1568.97 Q1244.7 1568.97 1239.71 1564 Q1234.74 1559.04 1234.74 1550.57 Q1234.74 1541.82 1239.45 1536.69 Q1244.2 1531.54 1252.22 1531.54 Q1259.41 1531.54 1263.58 1536.18 Q1267.78 1540.8 1267.78 1548.76 M1261.92 1547.04 Q1261.86 1542.23 1259.22 1539.37 Q1256.61 1536.5 1252.28 1536.5 Q1247.38 1536.5 1244.42 1539.27 Q1241.49 1542.04 1241.04 1547.07 L1261.92 1547.04 Z\" fill=\"#000000\" fill-rule=\"evenodd\" fill-opacity=\"1\" /><path clip-path=\"url(#clip900)\" d=\"M1293.59 1550.12 Q1286.5 1550.12 1283.76 1551.75 Q1281.02 1553.37 1281.02 1557.29 Q1281.02 1560.4 1283.06 1562.25 Q1285.13 1564.07 1288.66 1564.07 Q1293.53 1564.07 1296.46 1560.63 Q1299.42 1557.16 1299.42 1551.43 L1299.42 1550.12 L1293.59 1550.12 M1305.27 1547.71 L1305.27 1568.04 L1299.42 1568.04 L1299.42 1562.63 Q1297.41 1565.88 1294.42 1567.44 Q1291.43 1568.97 1287.1 1568.97 Q1281.63 1568.97 1278.38 1565.91 Q1275.16 1562.82 1275.16 1557.67 Q1275.16 1551.65 1279.17 1548.6 Q1283.22 1545.54 1291.21 1545.54 L1299.42 1545.54 L1299.42 1544.97 Q1299.42 1540.93 1296.74 1538.73 Q1294.1 1536.5 1289.3 1536.5 Q1286.24 1536.5 1283.34 1537.23 Q1280.45 1537.97 1277.77 1539.43 L1277.77 1534.02 Q1280.99 1532.78 1284.01 1532.17 Q1287.04 1531.54 1289.9 1531.54 Q1297.64 1531.54 1301.45 1535.55 Q1305.27 1539.56 1305.27 1547.71 Z\" fill=\"#000000\" fill-rule=\"evenodd\" fill-opacity=\"1\" /><path clip-path=\"url(#clip900)\" d=\"M1342.99 1533.76 L1342.99 1539.24 Q1340.51 1537.87 1337.99 1537.2 Q1335.51 1536.5 1332.97 1536.5 Q1327.27 1536.5 1324.12 1540.13 Q1320.97 1543.73 1320.97 1550.25 Q1320.97 1556.78 1324.12 1560.4 Q1327.27 1564 1332.97 1564 Q1335.51 1564 1337.99 1563.33 Q1340.51 1562.63 1342.99 1561.26 L1342.99 1566.68 Q1340.54 1567.82 1337.9 1568.39 Q1335.29 1568.97 1332.33 1568.97 Q1324.28 1568.97 1319.53 1563.91 Q1314.79 1558.85 1314.79 1550.25 Q1314.79 1541.53 1319.57 1536.53 Q1324.37 1531.54 1332.71 1531.54 Q1335.42 1531.54 1337.99 1532.11 Q1340.57 1532.65 1342.99 1533.76 Z\" fill=\"#000000\" fill-rule=\"evenodd\" fill-opacity=\"1\" /><path clip-path=\"url(#clip900)\" d=\"M1358.97 1522.27 L1358.97 1532.4 L1371.03 1532.4 L1371.03 1536.95 L1358.97 1536.95 L1358.97 1556.3 Q1358.97 1560.66 1360.15 1561.9 Q1361.36 1563.14 1365.02 1563.14 L1371.03 1563.14 L1371.03 1568.04 L1365.02 1568.04 Q1358.24 1568.04 1355.66 1565.53 Q1353.08 1562.98 1353.08 1556.3 L1353.08 1536.95 L1348.78 1536.95 L1348.78 1532.4 L1353.08 1532.4 L1353.08 1522.27 L1358.97 1522.27 Z\" fill=\"#000000\" fill-rule=\"evenodd\" fill-opacity=\"1\" /><path clip-path=\"url(#clip900)\" d=\"M1392.55 1536.5 Q1387.84 1536.5 1385.1 1540.19 Q1382.36 1543.85 1382.36 1550.25 Q1382.36 1556.65 1385.07 1560.34 Q1387.81 1564 1392.55 1564 Q1397.23 1564 1399.96 1560.31 Q1402.7 1556.62 1402.7 1550.25 Q1402.7 1543.92 1399.96 1540.23 Q1397.23 1536.5 1392.55 1536.5 M1392.55 1531.54 Q1400.19 1531.54 1404.55 1536.5 Q1408.91 1541.47 1408.91 1550.25 Q1408.91 1559 1404.55 1564 Q1400.19 1568.97 1392.55 1568.97 Q1384.88 1568.97 1380.52 1564 Q1376.19 1559 1376.19 1550.25 Q1376.19 1541.47 1380.52 1536.5 Q1384.88 1531.54 1392.55 1531.54 Z\" fill=\"#000000\" fill-rule=\"evenodd\" fill-opacity=\"1\" /><path clip-path=\"url(#clip900)\" d=\"M1439.27 1537.87 Q1438.29 1537.3 1437.11 1537.04 Q1435.96 1536.76 1434.56 1536.76 Q1429.6 1536.76 1426.92 1540 Q1424.28 1543.22 1424.28 1549.27 L1424.28 1568.04 L1418.39 1568.04 L1418.39 1532.4 L1424.28 1532.4 L1424.28 1537.93 Q1426.13 1534.69 1429.09 1533.13 Q1432.05 1531.54 1436.28 1531.54 Q1436.89 1531.54 1437.62 1531.63 Q1438.35 1531.7 1439.24 1531.85 L1439.27 1537.87 Z\" fill=\"#000000\" fill-rule=\"evenodd\" fill-opacity=\"1\" /><path clip-path=\"url(#clip900)\" d=\"M1468.14 1533.45 L1468.14 1538.98 Q1465.66 1537.71 1462.98 1537.07 Q1460.31 1536.44 1457.45 1536.44 Q1453.09 1536.44 1450.89 1537.77 Q1448.73 1539.11 1448.73 1541.79 Q1448.73 1543.82 1450.29 1545 Q1451.84 1546.15 1456.56 1547.2 L1458.56 1547.64 Q1464.8 1548.98 1467.41 1551.43 Q1470.05 1553.85 1470.05 1558.21 Q1470.05 1563.17 1466.1 1566.07 Q1462.19 1568.97 1455.31 1568.97 Q1452.45 1568.97 1449.33 1568.39 Q1446.24 1567.85 1442.81 1566.74 L1442.81 1560.69 Q1446.05 1562.38 1449.2 1563.24 Q1452.35 1564.07 1455.44 1564.07 Q1459.58 1564.07 1461.81 1562.66 Q1464.04 1561.23 1464.04 1558.65 Q1464.04 1556.27 1462.41 1554.99 Q1460.82 1553.72 1455.38 1552.54 L1453.34 1552.07 Q1447.9 1550.92 1445.48 1548.56 Q1443.06 1546.18 1443.06 1542.04 Q1443.06 1537.01 1446.62 1534.27 Q1450.19 1531.54 1456.75 1531.54 Q1459.99 1531.54 1462.86 1532.01 Q1465.72 1532.49 1468.14 1533.45 Z\" fill=\"#000000\" fill-rule=\"evenodd\" fill-opacity=\"1\" /><polyline clip-path=\"url(#clip903)\" style=\"stroke:#000000; stroke-linecap:round; stroke-linejoin:round; stroke-width:8; stroke-opacity:0.1; fill:none\" points=\"252.764,1037.15 2352.76,1037.15 \"/>\n",
       "<polyline clip-path=\"url(#clip903)\" style=\"stroke:#000000; stroke-linecap:round; stroke-linejoin:round; stroke-width:8; stroke-opacity:0.1; fill:none\" points=\"252.764,303.114 2352.76,303.114 \"/>\n",
       "<polyline clip-path=\"url(#clip900)\" style=\"stroke:#000000; stroke-linecap:round; stroke-linejoin:round; stroke-width:4; stroke-opacity:1; fill:none\" points=\"252.764,1423.18 252.764,47.2441 \"/>\n",
       "<polyline clip-path=\"url(#clip900)\" style=\"stroke:#000000; stroke-linecap:round; stroke-linejoin:round; stroke-width:4; stroke-opacity:1; fill:none\" points=\"252.764,1037.15 271.662,1037.15 \"/>\n",
       "<polyline clip-path=\"url(#clip900)\" style=\"stroke:#000000; stroke-linecap:round; stroke-linejoin:round; stroke-width:4; stroke-opacity:1; fill:none\" points=\"252.764,303.114 271.662,303.114 \"/>\n",
       "<path clip-path=\"url(#clip900)\" d=\"M115.195 1056.94 L122.834 1056.94 L122.834 1030.57 L114.523 1032.24 L114.523 1027.98 L122.787 1026.32 L127.463 1026.32 L127.463 1056.94 L135.102 1056.94 L135.102 1060.88 L115.195 1060.88 L115.195 1056.94 Z\" fill=\"#000000\" fill-rule=\"evenodd\" fill-opacity=\"1\" /><path clip-path=\"url(#clip900)\" d=\"M154.546 1029.39 Q150.935 1029.39 149.107 1032.96 Q147.301 1036.5 147.301 1043.63 Q147.301 1050.74 149.107 1054.3 Q150.935 1057.84 154.546 1057.84 Q158.181 1057.84 159.986 1054.3 Q161.815 1050.74 161.815 1043.63 Q161.815 1036.5 159.986 1032.96 Q158.181 1029.39 154.546 1029.39 M154.546 1025.69 Q160.357 1025.69 163.412 1030.3 Q166.491 1034.88 166.491 1043.63 Q166.491 1052.36 163.412 1056.96 Q160.357 1061.55 154.546 1061.55 Q148.736 1061.55 145.658 1056.96 Q142.602 1052.36 142.602 1043.63 Q142.602 1034.88 145.658 1030.3 Q148.736 1025.69 154.546 1025.69 Z\" fill=\"#000000\" fill-rule=\"evenodd\" fill-opacity=\"1\" /><path clip-path=\"url(#clip900)\" d=\"M166.491 1019.79 L190.602 1019.79 L190.602 1022.99 L166.491 1022.99 L166.491 1019.79 Z\" fill=\"#000000\" fill-rule=\"evenodd\" fill-opacity=\"1\" /><path clip-path=\"url(#clip900)\" d=\"M207.398 1017.91 Q204.84 1017.91 203.335 1019.66 Q201.849 1021.41 201.849 1024.46 Q201.849 1027.48 203.335 1029.25 Q204.84 1031 207.398 1031 Q209.956 1031 211.441 1029.25 Q212.946 1027.48 212.946 1024.46 Q212.946 1021.41 211.441 1019.66 Q209.956 1017.91 207.398 1017.91 M214.94 1006.01 L214.94 1009.47 Q213.51 1008.79 212.043 1008.43 Q210.595 1008.07 209.166 1008.07 Q205.404 1008.07 203.41 1010.61 Q201.436 1013.15 201.153 1018.29 Q202.263 1016.65 203.937 1015.79 Q205.611 1014.9 207.623 1014.9 Q211.855 1014.9 214.3 1017.48 Q216.764 1020.04 216.764 1024.46 Q216.764 1028.78 214.206 1031.4 Q211.648 1034.01 207.398 1034.01 Q202.526 1034.01 199.95 1030.29 Q197.373 1026.54 197.373 1019.45 Q197.373 1012.8 200.533 1008.85 Q203.693 1004.88 209.015 1004.88 Q210.445 1004.88 211.893 1005.16 Q213.36 1005.44 214.94 1006.01 Z\" fill=\"#000000\" fill-rule=\"evenodd\" fill-opacity=\"1\" /><path clip-path=\"url(#clip900)\" d=\"M114.931 322.906 L122.57 322.906 L122.57 296.541 L114.26 298.207 L114.26 293.948 L122.524 292.281 L127.2 292.281 L127.2 322.906 L134.839 322.906 L134.839 326.841 L114.931 326.841 L114.931 322.906 Z\" fill=\"#000000\" fill-rule=\"evenodd\" fill-opacity=\"1\" /><path clip-path=\"url(#clip900)\" d=\"M154.283 295.36 Q150.672 295.36 148.843 298.925 Q147.038 302.467 147.038 309.596 Q147.038 316.703 148.843 320.267 Q150.672 323.809 154.283 323.809 Q157.917 323.809 159.723 320.267 Q161.552 316.703 161.552 309.596 Q161.552 302.467 159.723 298.925 Q157.917 295.36 154.283 295.36 M154.283 291.656 Q160.093 291.656 163.149 296.263 Q166.227 300.846 166.227 309.596 Q166.227 318.323 163.149 322.929 Q160.093 327.513 154.283 327.513 Q148.473 327.513 145.394 322.929 Q142.339 318.323 142.339 309.596 Q142.339 300.846 145.394 296.263 Q148.473 291.656 154.283 291.656 Z\" fill=\"#000000\" fill-rule=\"evenodd\" fill-opacity=\"1\" /><path clip-path=\"url(#clip900)\" d=\"M166.227 285.758 L190.339 285.758 L190.339 288.955 L166.227 288.955 L166.227 285.758 Z\" fill=\"#000000\" fill-rule=\"evenodd\" fill-opacity=\"1\" /><path clip-path=\"url(#clip900)\" d=\"M208.978 274.661 L199.386 289.651 L208.978 289.651 L208.978 274.661 M207.981 271.351 L212.758 271.351 L212.758 289.651 L216.764 289.651 L216.764 292.811 L212.758 292.811 L212.758 299.431 L208.978 299.431 L208.978 292.811 L196.301 292.811 L196.301 289.143 L207.981 271.351 Z\" fill=\"#000000\" fill-rule=\"evenodd\" fill-opacity=\"1\" /><path clip-path=\"url(#clip900)\" d=\"M18.1528 797.297 Q18.7647 797.297 19.28 797.426 L30.7453 799.229 Q31.6149 799.326 31.9369 799.519 Q32.259 799.68 32.259 800.195 Q32.259 801 31.4216 801 Q30.9385 801 30.1656 800.807 Q26.5263 800.26 24.8838 800.26 Q23.7888 800.26 22.9837 800.485 Q22.1463 800.678 21.5666 801 Q20.9869 801.29 20.6004 801.967 Q20.214 802.643 19.9885 803.287 Q19.7631 803.931 19.6665 805.091 Q19.5377 806.25 19.5054 807.248 Q19.4732 808.247 19.4732 809.889 Q19.4732 813.464 19.6021 814.044 Q19.7631 814.656 20.2462 814.978 Q20.6971 815.268 22.0497 815.59 L57.0575 824.35 L58.4423 824.607 Q59.2153 824.607 59.4729 824.124 Q59.7306 823.641 59.8916 822.16 Q60.0526 820.034 60.0526 817.941 Q60.0526 817.876 60.0526 817.748 Q60.0526 817.039 60.0848 816.749 Q60.0848 816.459 60.1492 816.169 Q60.2137 815.88 60.3747 815.815 Q60.5035 815.719 60.7612 815.719 Q61.3731 815.719 61.6951 815.976 Q61.985 816.234 62.0494 816.491 Q62.0816 816.717 62.0816 817.168 Q62.0816 818.07 62.0172 820.002 Q61.9528 821.934 61.9528 822.9 L61.8884 828.375 L61.9528 833.979 Q61.9528 834.849 62.0172 836.685 Q62.0816 838.52 62.0816 839.39 Q62.0816 840.517 61.2764 840.517 Q60.3747 840.517 60.2137 840.098 Q60.0526 839.648 60.0526 837.747 Q60.0526 835.074 59.9238 833.625 Q59.795 832.176 59.3441 831.403 Q58.8932 830.598 58.4423 830.372 Q57.9592 830.147 56.8642 829.889 L21.6632 821.033 Q20.8903 820.775 20.2784 820.775 Q19.9563 820.775 19.8275 820.871 Q19.6987 820.936 19.6021 821.355 Q19.4732 821.773 19.4732 822.643 L19.4732 825.219 Q19.4732 827.86 19.6021 829.503 Q19.6987 831.113 20.1818 832.659 Q20.6649 834.173 21.3412 835.074 Q22.0175 835.944 23.4024 836.91 Q24.7872 837.876 26.4619 838.585 Q28.1366 839.261 30.8741 840.227 Q31.7759 840.549 32.0335 840.743 Q32.259 840.904 32.259 841.354 Q32.259 841.676 32.0657 841.934 Q31.8403 842.16 31.5504 842.16 Q30.4876 841.838 30.3588 841.773 L18.7325 837.812 Q17.7985 837.49 17.6375 837.2 Q17.4443 836.878 17.4443 835.686 L17.4443 799.1 Q17.4443 798.521 17.4443 798.327 Q17.4443 798.134 17.5087 797.812 Q17.5731 797.49 17.7341 797.393 Q17.8952 797.297 18.1528 797.297 Z\" fill=\"#000000\" fill-rule=\"evenodd\" fill-opacity=\"1\" /><path clip-path=\"url(#clip900)\" d=\"M68.0889 773.699 Q71.3353 773.699 74.514 775.345 Q77.6702 776.968 79.654 779.583 Q81.6379 782.176 81.6379 784.836 Q81.6379 787.429 79.654 789.075 Q77.6476 790.698 74.3787 790.698 Q73.229 790.698 72.4174 790.562 Q71.6058 790.427 69.7121 789.954 L54.6526 786.166 Q51.8346 785.513 51.8121 785.513 Q51.5415 785.513 51.4063 785.625 Q51.2485 785.715 51.1358 786.256 Q51.023 786.798 51.023 787.835 Q51.023 788.263 51.0005 788.466 Q50.9779 788.646 50.8652 788.804 Q50.73 788.939 50.4594 788.939 Q50.0762 788.939 49.8733 788.781 Q49.6478 788.601 49.6028 788.466 Q49.5577 788.331 49.5351 788.06 Q49.5126 787.677 49.3999 786.392 Q49.2646 785.107 49.1744 784.002 Q49.0842 782.897 49.0842 782.424 Q49.0842 782.153 49.2195 782.018 Q49.3322 781.86 49.4675 781.86 L49.5802 781.838 L63.4899 785.242 Q60.717 782.559 60.717 779.831 Q60.717 777.104 62.8136 775.413 Q64.9102 773.699 68.0889 773.699 M66.0599 777.036 Q63.9183 777.036 62.8361 777.848 Q61.7315 778.637 61.7315 779.944 Q61.7315 781.049 62.5656 782.492 Q63.3997 783.934 65.4287 785.467 Q65.812 785.761 66.0374 785.873 Q66.2628 785.963 67.0293 786.166 L71.2902 787.181 Q74.1984 787.925 75.9568 787.925 Q78.3465 787.925 79.4737 787.046 Q80.6009 786.166 80.6009 784.836 Q80.6009 783.438 79.361 781.973 Q78.121 780.508 75.8666 779.381 Q74.3787 778.682 71.1775 777.87 Q67.9537 777.036 66.0599 777.036 Z\" fill=\"#000000\" fill-rule=\"evenodd\" fill-opacity=\"1\" /><path clip-path=\"url(#clip900)\" d=\"M75.7765 753.531 Q75.9794 753.351 76.1822 753.351 Q76.3851 753.351 76.9713 753.802 Q77.5574 754.23 78.3465 755.154 Q79.1355 756.078 79.8795 757.273 Q80.6234 758.468 81.1194 760.227 Q81.6379 761.985 81.6379 763.834 Q81.6379 767.148 79.2708 769.132 Q76.9037 771.093 73.2741 771.093 Q70.952 771.093 68.9005 770.326 Q66.8264 769.56 65.3611 768.32 Q63.8957 767.057 62.8361 765.479 Q61.754 763.879 61.2355 762.21 Q60.717 760.542 60.717 758.987 Q60.717 756.71 61.8667 755.38 Q63.0165 754.05 64.6397 754.05 Q65.0229 754.05 65.4963 754.162 Q65.9698 754.252 66.7137 754.568 Q67.4577 754.861 68.2016 755.628 Q68.923 756.394 69.3965 757.521 Q70.456 760.024 70.456 764.578 L70.456 767.035 Q73.3642 767.756 75.2579 767.756 Q76.0019 767.756 76.7684 767.621 Q77.5124 767.486 78.4592 767.125 Q79.4061 766.742 80.0147 765.885 Q80.6009 765.006 80.6009 763.743 Q80.6009 763.338 80.5783 762.909 Q80.5558 762.458 80.3078 761.331 Q80.0598 760.182 79.6315 759.167 Q79.2032 758.153 78.2789 756.868 Q77.332 755.56 76.047 754.523 Q75.5736 754.162 75.5736 753.914 Q75.5736 753.711 75.7765 753.531 M64.6397 755.583 Q63.3997 755.583 62.5656 756.507 Q61.7315 757.409 61.7315 758.987 Q61.7315 759.483 61.8442 760.091 Q61.9569 760.7 62.4303 761.715 Q62.9038 762.706 63.6928 763.586 Q64.4593 764.465 65.9698 765.344 Q67.4577 766.223 69.4416 766.742 L69.4416 764.848 Q69.4416 764.194 69.4416 763.721 Q69.419 763.248 69.3288 762.21 Q69.2387 761.151 69.0809 760.384 Q68.9005 759.618 68.5398 758.649 Q68.1791 757.679 67.7057 757.07 Q67.2097 756.439 66.4207 756.011 Q65.6316 755.583 64.6397 755.583 Z\" fill=\"#000000\" fill-rule=\"evenodd\" fill-opacity=\"1\" /><path clip-path=\"url(#clip900)\" d=\"M74.514 725.691 Q74.6943 725.691 75.3932 725.894 Q76.0921 726.097 77.1742 726.593 Q78.2563 727.066 79.2482 727.72 Q80.2176 728.374 80.9391 729.456 Q81.6379 730.516 81.6379 731.733 Q81.6379 733.356 80.5558 734.438 Q79.4737 735.52 77.8505 735.52 Q76.9487 735.52 75.7088 735.047 Q67.7057 732.049 64.9553 732.049 Q61.7315 732.049 61.7315 734.551 Q61.7315 735.791 62.2049 736.963 Q62.6558 738.113 63.287 738.902 Q63.9183 739.691 64.7975 740.412 Q65.6542 741.111 66.2403 741.472 Q66.8039 741.81 67.3675 742.081 L69.667 742.667 Q70.2982 742.802 72.7555 743.456 L76.9262 744.47 Q80.0373 745.192 80.3304 745.35 Q80.9616 745.575 81.2998 746.071 Q81.6379 746.567 81.6379 747.063 Q81.6379 747.627 81.2998 748.01 Q80.9616 748.393 80.3755 748.393 Q80.2853 748.393 79.9471 748.325 Q79.609 748.258 79.1355 748.145 Q78.6621 748.032 78.3916 747.987 L67.7282 745.304 Q65.7894 744.808 65.1807 744.696 Q64.5495 744.561 63.8506 744.561 Q61.7315 744.561 61.7315 746.003 Q61.7315 747.176 63.1292 747.942 Q64.5269 748.709 67.2322 749.362 Q67.9762 749.565 68.134 749.701 Q68.2918 749.813 68.2918 750.151 Q68.2693 750.715 67.8184 750.715 Q67.7057 750.715 66.9617 750.535 Q66.2178 750.354 65.1582 750.016 Q64.0761 749.655 63.3547 749.317 Q62.8136 749.024 62.5656 748.866 Q62.2951 748.686 61.7766 748.258 Q61.2355 747.807 60.9875 747.221 Q60.717 746.612 60.717 745.868 Q60.717 744.2 61.7991 742.982 Q62.8587 741.765 64.7298 741.607 Q60.717 738.609 60.717 734.416 Q60.717 731.936 62.0246 730.516 Q63.3321 729.095 65.6542 729.095 Q66.1952 729.095 66.8941 729.208 Q67.5704 729.298 68.4271 729.524 Q69.2838 729.726 69.9375 729.907 Q70.5913 730.087 71.6509 730.448 Q72.6879 730.809 73.1388 730.966 Q73.5897 731.124 74.6492 731.507 Q75.6863 731.868 75.799 731.913 Q77.8956 732.747 79.0904 732.747 Q79.8795 732.747 80.2402 732.499 Q80.6009 732.229 80.6009 731.643 Q80.6009 730.065 79.0454 728.892 Q77.4673 727.698 74.8972 726.931 Q74.3336 726.751 74.1984 726.66 Q74.0631 726.548 74.0631 726.232 Q74.0631 725.691 74.514 725.691 Z\" fill=\"#000000\" fill-rule=\"evenodd\" fill-opacity=\"1\" /><path clip-path=\"url(#clip900)\" d=\"M49.5802 700.206 L76.2724 706.856 Q77.4673 707.127 78.4817 707.127 Q80.6009 707.127 80.6009 705.752 Q80.6009 705.075 80.1726 704.534 Q79.7442 703.993 78.8425 703.565 Q77.9407 703.137 77.1066 702.866 Q76.2499 702.595 74.8972 702.235 Q74.3562 702.122 74.2209 702.032 Q74.0631 701.919 74.0631 701.604 Q74.0631 701.04 74.514 701.04 Q77.4222 701.649 79.0904 702.438 Q81.6379 703.7 81.6379 705.842 Q81.6379 707.465 80.646 708.615 Q79.654 709.765 78.1661 710.035 Q81.6379 712.988 81.6379 716.054 Q81.6379 718.76 79.5864 720.473 Q77.5124 722.186 74.2435 722.186 Q70.952 722.186 67.7958 720.563 Q64.6397 718.917 62.6783 716.325 Q60.717 713.732 60.717 711.072 Q60.717 708.254 63.6703 706.811 L52.7138 704.038 L51.8121 703.903 Q51.5415 703.903 51.4063 704.016 Q51.2485 704.106 51.1358 704.647 Q51.023 705.166 51.023 706.203 Q51.023 706.631 51.0005 706.834 Q50.9779 707.014 50.8652 707.172 Q50.73 707.33 50.4594 707.33 Q49.6704 707.33 49.5802 706.676 Q49.0842 702.347 49.0842 700.814 Q49.0842 700.544 49.2195 700.386 Q49.3322 700.228 49.4675 700.228 L49.5802 700.206 M65.7894 707.375 Q65.5865 707.375 65.0229 707.533 Q64.4593 707.69 63.6703 708.051 Q62.8812 708.412 62.3176 709.201 Q61.7315 709.967 61.7315 711.004 Q61.7315 712.402 62.9263 713.868 Q64.1212 715.31 66.1501 716.37 Q67.7733 717.182 71.1775 718.061 Q74.5816 718.917 76.2724 718.917 Q77.3095 718.917 78.2338 718.692 Q79.1355 718.444 79.8795 717.745 Q80.6009 717.046 80.6009 715.964 Q80.6009 713.326 77.332 710.734 Q76.7684 710.238 76.543 710.125 Q76.295 709.99 75.6186 709.81 L66.5785 707.51 Q65.9021 707.375 65.7894 707.375 Z\" fill=\"#000000\" fill-rule=\"evenodd\" fill-opacity=\"1\" /><path clip-path=\"url(#clip900)\" d=\"M75.7765 680.682 Q75.9794 680.501 76.1822 680.501 Q76.3851 680.501 76.9713 680.952 Q77.5574 681.381 78.3465 682.305 Q79.1355 683.229 79.8795 684.424 Q80.6234 685.619 81.1194 687.377 Q81.6379 689.136 81.6379 690.984 Q81.6379 694.298 79.2708 696.282 Q76.9037 698.243 73.2741 698.243 Q70.952 698.243 68.9005 697.477 Q66.8264 696.711 65.3611 695.471 Q63.8957 694.208 62.8361 692.63 Q61.754 691.029 61.2355 689.361 Q60.717 687.693 60.717 686.137 Q60.717 683.86 61.8667 682.53 Q63.0165 681.2 64.6397 681.2 Q65.0229 681.2 65.4963 681.313 Q65.9698 681.403 66.7137 681.719 Q67.4577 682.012 68.2016 682.778 Q68.923 683.545 69.3965 684.672 Q70.456 687.174 70.456 691.728 L70.456 694.186 Q73.3642 694.907 75.2579 694.907 Q76.0019 694.907 76.7684 694.772 Q77.5124 694.636 78.4592 694.276 Q79.4061 693.892 80.0147 693.036 Q80.6009 692.157 80.6009 690.894 Q80.6009 690.488 80.5783 690.06 Q80.5558 689.609 80.3078 688.482 Q80.0598 687.332 79.6315 686.318 Q79.2032 685.303 78.2789 684.018 Q77.332 682.711 76.047 681.674 Q75.5736 681.313 75.5736 681.065 Q75.5736 680.862 75.7765 680.682 M64.6397 682.733 Q63.3997 682.733 62.5656 683.657 Q61.7315 684.559 61.7315 686.137 Q61.7315 686.633 61.8442 687.242 Q61.9569 687.851 62.4303 688.865 Q62.9038 689.857 63.6928 690.736 Q64.4593 691.616 65.9698 692.495 Q67.4577 693.374 69.4416 693.892 L69.4416 691.999 Q69.4416 691.345 69.4416 690.872 Q69.419 690.398 69.3288 689.361 Q69.2387 688.302 69.0809 687.535 Q68.9005 686.769 68.5398 685.799 Q68.1791 684.83 67.7057 684.221 Q67.2097 683.59 66.4207 683.161 Q65.6316 682.733 64.6397 682.733 Z\" fill=\"#000000\" fill-rule=\"evenodd\" fill-opacity=\"1\" /><path clip-path=\"url(#clip900)\" d=\"M63.7154 659.064 Q64.9102 659.064 65.6767 659.853 Q66.4432 660.619 66.4432 661.611 Q66.4432 662.468 65.9472 662.919 Q65.4513 663.37 64.82 663.37 Q63.9183 663.37 63.1743 662.671 Q62.4303 661.972 62.2725 660.958 Q61.7315 661.702 61.7315 662.896 Q61.7315 664.858 63.2419 666.594 Q63.9408 667.36 65.2258 668.194 Q66.4883 669.028 67.0293 669.186 L73.0486 670.652 Q73.7249 670.787 76.9713 671.621 Q80.1951 672.433 80.3304 672.5 Q80.9616 672.726 81.2998 673.222 Q81.6379 673.718 81.6379 674.214 Q81.6379 674.777 81.2998 675.16 Q80.9616 675.544 80.3755 675.544 Q80.2853 675.544 79.9471 675.476 Q79.609 675.408 79.1355 675.296 Q78.6621 675.183 78.3916 675.138 L67.7282 672.455 Q65.7894 671.959 65.1807 671.846 Q64.5495 671.711 63.8506 671.711 Q62.6332 671.711 62.1824 672.094 Q61.7315 672.478 61.7315 673.154 Q61.7315 674.326 63.1292 675.093 Q64.5269 675.859 67.2322 676.513 Q67.9762 676.716 68.134 676.851 Q68.2918 676.964 68.2918 677.302 Q68.2693 677.866 67.8184 677.866 Q67.7057 677.866 66.9843 677.685 Q66.2403 677.505 65.1582 677.167 Q64.0535 676.806 63.3547 676.423 Q62.8812 676.197 62.5656 675.995 Q62.25 675.792 61.754 675.386 Q61.2581 674.98 60.9875 674.371 Q60.717 673.763 60.717 673.019 Q60.717 671.396 61.7089 670.246 Q62.7009 669.073 64.2564 668.803 Q63.4448 668.239 62.746 667.54 Q62.0246 666.842 61.3708 665.557 Q60.717 664.272 60.717 662.896 Q60.717 661.183 61.5962 660.123 Q62.4529 659.064 63.7154 659.064 Z\" fill=\"#000000\" fill-rule=\"evenodd\" fill-opacity=\"1\" /><path clip-path=\"url(#clip900)\" d=\"M64.6848 639.742 Q65.9472 639.742 66.6235 640.373 Q67.2773 641.004 67.2773 641.861 Q67.2773 642.56 66.8715 642.943 Q66.4657 643.304 65.9247 643.304 Q65.1356 643.304 64.5044 642.673 Q63.8732 642.019 63.8506 641.072 Q63.0165 641.388 62.5205 642.222 Q62.002 643.056 61.8667 643.8 Q61.7315 644.521 61.7315 645.243 Q61.7315 646.663 62.1824 647.745 Q62.6332 648.827 63.3321 649.368 Q64.0084 649.909 64.6622 650.157 Q65.316 650.405 65.8796 650.405 Q66.3756 650.405 66.7814 650.293 Q67.1646 650.157 67.4577 649.842 Q67.7282 649.526 67.9086 649.301 Q68.0889 649.053 68.2467 648.512 Q68.4045 647.971 68.4722 647.745 Q68.5173 647.52 68.6525 646.888 Q68.923 645.581 69.0809 644.995 Q69.2161 644.409 69.5994 643.642 Q69.9826 642.853 70.5913 642.267 Q72.0116 640.847 73.9729 640.847 Q74.6943 640.847 75.5736 641.095 Q76.4528 641.32 77.5574 641.974 Q78.6621 642.628 79.5413 643.619 Q80.4205 644.611 81.0292 646.325 Q81.6379 648.016 81.6379 650.135 Q81.6379 653.088 80.398 654.914 Q79.1355 656.74 77.1516 656.74 Q75.7088 656.74 74.9198 655.951 Q74.1082 655.162 74.1082 654.148 Q74.1082 653.381 74.5365 652.908 Q74.9423 652.434 75.7088 652.434 Q76.7459 652.434 77.5349 653.268 Q78.3239 654.103 78.1661 655.342 Q80.6009 654.283 80.6009 650.09 Q80.6009 648.512 80.1951 647.294 Q79.7668 646.054 79.1806 645.378 Q78.5719 644.679 77.828 644.228 Q77.084 643.777 76.5204 643.642 Q75.9568 643.484 75.5285 643.484 Q74.7845 643.484 74.2209 643.777 Q73.6573 644.07 73.3417 644.476 Q73.0035 644.859 72.733 645.603 Q72.4399 646.325 72.3272 646.843 Q72.2145 647.362 72.0341 648.286 Q71.944 648.714 71.8989 648.985 Q71.8312 649.256 71.6509 649.819 Q71.448 650.36 71.2451 650.743 Q71.0422 651.104 70.6815 651.578 Q70.3208 652.051 69.8924 652.344 Q69.4641 652.637 68.8329 652.84 Q68.2016 653.043 67.4577 653.043 Q66.7814 653.043 65.9698 652.84 Q65.1582 652.615 64.2113 652.051 Q63.2645 651.465 62.498 650.631 Q61.7315 649.797 61.2355 648.399 Q60.717 646.979 60.717 645.243 Q60.717 642.718 61.8893 641.23 Q63.039 639.742 64.6848 639.742 Z\" fill=\"#000000\" fill-rule=\"evenodd\" fill-opacity=\"1\" /><polyline clip-path=\"url(#clip903)\" style=\"stroke:#000000; stroke-linecap:round; stroke-linejoin:round; stroke-width:4; stroke-opacity:1; fill:none\" stroke-dasharray=\"16, 8, 2, 8\" points=\"312.198,612.858 352.629,288.657 393.06,323.552 433.491,415.789 473.922,566.523 514.353,1230.28 554.784,117.493 595.215,777.535 635.647,86.1857 676.078,377.799 716.509,666.899 756.94,565.557 797.371,1034.57 837.802,646.758 878.233,360.189 918.664,1384.24 959.095,765.248 999.527,277.887 1039.96,532.084 \"/>\n",
       "<polyline clip-path=\"url(#clip903)\" style=\"stroke:#000000; stroke-linecap:round; stroke-linejoin:round; stroke-width:4; stroke-opacity:1; fill:none\" stroke-dasharray=\"16, 8, 2, 8\" points=\"1120.82,402.589 1161.25,347.815 1201.68,699.049 1242.11,236.244 1282.54,792.028 1322.98,109.212 1363.41,416.968 1403.84,682.375 1444.27,683.295 1484.7,333.365 1525.13,373.073 1565.56,933.189 1605.99,703.461 1646.42,231.361 1686.86,697.686 1727.29,378.623 1767.72,918.191 \"/>\n",
       "<polyline clip-path=\"url(#clip903)\" style=\"stroke:#000000; stroke-linecap:round; stroke-linejoin:round; stroke-width:4; stroke-opacity:1; fill:none\" stroke-dasharray=\"16, 8, 2, 8\" points=\"1889.01,587.44 1929.44,423.613 1969.87,117.437 2010.3,538.548 2050.74,696.485 2091.17,603.08 \"/>\n",
       "<polyline clip-path=\"url(#clip903)\" style=\"stroke:#000000; stroke-linecap:round; stroke-linejoin:round; stroke-width:4; stroke-opacity:1; fill:none\" stroke-dasharray=\"16, 8, 2, 8\" points=\"2172.03,331.339 2212.46,657.084 \"/>\n",
       "<path clip-path=\"url(#clip903)\" d=\"M300.198 600.858 L300.198 624.858 L324.198 624.858 L324.198 600.858 L300.198 600.858 Z\" fill=\"#000000\" fill-rule=\"evenodd\" fill-opacity=\"1\" stroke=\"none\"/>\n",
       "<path clip-path=\"url(#clip903)\" d=\"M340.629 276.657 L340.629 300.657 L364.629 300.657 L364.629 276.657 L340.629 276.657 Z\" fill=\"#000000\" fill-rule=\"evenodd\" fill-opacity=\"1\" stroke=\"none\"/>\n",
       "<path clip-path=\"url(#clip903)\" d=\"M381.06 311.552 L381.06 335.552 L405.06 335.552 L405.06 311.552 L381.06 311.552 Z\" fill=\"#000000\" fill-rule=\"evenodd\" fill-opacity=\"1\" stroke=\"none\"/>\n",
       "<path clip-path=\"url(#clip903)\" d=\"M421.491 403.789 L421.491 427.789 L445.491 427.789 L445.491 403.789 L421.491 403.789 Z\" fill=\"#000000\" fill-rule=\"evenodd\" fill-opacity=\"1\" stroke=\"none\"/>\n",
       "<path clip-path=\"url(#clip903)\" d=\"M461.922 554.523 L461.922 578.523 L485.922 578.523 L485.922 554.523 L461.922 554.523 Z\" fill=\"#000000\" fill-rule=\"evenodd\" fill-opacity=\"1\" stroke=\"none\"/>\n",
       "<path clip-path=\"url(#clip903)\" d=\"M502.353 1218.28 L502.353 1242.28 L526.353 1242.28 L526.353 1218.28 L502.353 1218.28 Z\" fill=\"#000000\" fill-rule=\"evenodd\" fill-opacity=\"1\" stroke=\"none\"/>\n",
       "<path clip-path=\"url(#clip903)\" d=\"M542.784 105.493 L542.784 129.493 L566.784 129.493 L566.784 105.493 L542.784 105.493 Z\" fill=\"#000000\" fill-rule=\"evenodd\" fill-opacity=\"1\" stroke=\"none\"/>\n",
       "<path clip-path=\"url(#clip903)\" d=\"M583.215 765.535 L583.215 789.535 L607.215 789.535 L607.215 765.535 L583.215 765.535 Z\" fill=\"#000000\" fill-rule=\"evenodd\" fill-opacity=\"1\" stroke=\"none\"/>\n",
       "<path clip-path=\"url(#clip903)\" d=\"M623.647 74.1857 L623.647 98.1857 L647.647 98.1857 L647.647 74.1857 L623.647 74.1857 Z\" fill=\"#000000\" fill-rule=\"evenodd\" fill-opacity=\"1\" stroke=\"none\"/>\n",
       "<path clip-path=\"url(#clip903)\" d=\"M664.078 365.799 L664.078 389.799 L688.078 389.799 L688.078 365.799 L664.078 365.799 Z\" fill=\"#000000\" fill-rule=\"evenodd\" fill-opacity=\"1\" stroke=\"none\"/>\n",
       "<path clip-path=\"url(#clip903)\" d=\"M704.509 654.899 L704.509 678.899 L728.509 678.899 L728.509 654.899 L704.509 654.899 Z\" fill=\"#000000\" fill-rule=\"evenodd\" fill-opacity=\"1\" stroke=\"none\"/>\n",
       "<path clip-path=\"url(#clip903)\" d=\"M744.94 553.557 L744.94 577.557 L768.94 577.557 L768.94 553.557 L744.94 553.557 Z\" fill=\"#000000\" fill-rule=\"evenodd\" fill-opacity=\"1\" stroke=\"none\"/>\n",
       "<path clip-path=\"url(#clip903)\" d=\"M785.371 1022.57 L785.371 1046.57 L809.371 1046.57 L809.371 1022.57 L785.371 1022.57 Z\" fill=\"#000000\" fill-rule=\"evenodd\" fill-opacity=\"1\" stroke=\"none\"/>\n",
       "<path clip-path=\"url(#clip903)\" d=\"M825.802 634.758 L825.802 658.758 L849.802 658.758 L849.802 634.758 L825.802 634.758 Z\" fill=\"#000000\" fill-rule=\"evenodd\" fill-opacity=\"1\" stroke=\"none\"/>\n",
       "<path clip-path=\"url(#clip903)\" d=\"M866.233 348.189 L866.233 372.189 L890.233 372.189 L890.233 348.189 L866.233 348.189 Z\" fill=\"#000000\" fill-rule=\"evenodd\" fill-opacity=\"1\" stroke=\"none\"/>\n",
       "<path clip-path=\"url(#clip903)\" d=\"M906.664 1372.24 L906.664 1396.24 L930.664 1396.24 L930.664 1372.24 L906.664 1372.24 Z\" fill=\"#000000\" fill-rule=\"evenodd\" fill-opacity=\"1\" stroke=\"none\"/>\n",
       "<path clip-path=\"url(#clip903)\" d=\"M947.095 753.248 L947.095 777.248 L971.095 777.248 L971.095 753.248 L947.095 753.248 Z\" fill=\"#000000\" fill-rule=\"evenodd\" fill-opacity=\"1\" stroke=\"none\"/>\n",
       "<path clip-path=\"url(#clip903)\" d=\"M987.527 265.887 L987.527 289.887 L1011.53 289.887 L1011.53 265.887 L987.527 265.887 Z\" fill=\"#000000\" fill-rule=\"evenodd\" fill-opacity=\"1\" stroke=\"none\"/>\n",
       "<path clip-path=\"url(#clip903)\" d=\"M1027.96 520.084 L1027.96 544.084 L1051.96 544.084 L1051.96 520.084 L1027.96 520.084 Z\" fill=\"#000000\" fill-rule=\"evenodd\" fill-opacity=\"1\" stroke=\"none\"/>\n",
       "<path clip-path=\"url(#clip903)\" d=\"M1108.82 390.589 L1108.82 414.589 L1132.82 414.589 L1132.82 390.589 L1108.82 390.589 Z\" fill=\"#000000\" fill-rule=\"evenodd\" fill-opacity=\"1\" stroke=\"none\"/>\n",
       "<path clip-path=\"url(#clip903)\" d=\"M1149.25 335.815 L1149.25 359.815 L1173.25 359.815 L1173.25 335.815 L1149.25 335.815 Z\" fill=\"#000000\" fill-rule=\"evenodd\" fill-opacity=\"1\" stroke=\"none\"/>\n",
       "<path clip-path=\"url(#clip903)\" d=\"M1189.68 687.049 L1189.68 711.049 L1213.68 711.049 L1213.68 687.049 L1189.68 687.049 Z\" fill=\"#000000\" fill-rule=\"evenodd\" fill-opacity=\"1\" stroke=\"none\"/>\n",
       "<path clip-path=\"url(#clip903)\" d=\"M1230.11 224.244 L1230.11 248.244 L1254.11 248.244 L1254.11 224.244 L1230.11 224.244 Z\" fill=\"#000000\" fill-rule=\"evenodd\" fill-opacity=\"1\" stroke=\"none\"/>\n",
       "<path clip-path=\"url(#clip903)\" d=\"M1270.54 780.028 L1270.54 804.028 L1294.54 804.028 L1294.54 780.028 L1270.54 780.028 Z\" fill=\"#000000\" fill-rule=\"evenodd\" fill-opacity=\"1\" stroke=\"none\"/>\n",
       "<path clip-path=\"url(#clip903)\" d=\"M1310.98 97.2117 L1310.98 121.212 L1334.98 121.212 L1334.98 97.2117 L1310.98 97.2117 Z\" fill=\"#000000\" fill-rule=\"evenodd\" fill-opacity=\"1\" stroke=\"none\"/>\n",
       "<path clip-path=\"url(#clip903)\" d=\"M1351.41 404.968 L1351.41 428.968 L1375.41 428.968 L1375.41 404.968 L1351.41 404.968 Z\" fill=\"#000000\" fill-rule=\"evenodd\" fill-opacity=\"1\" stroke=\"none\"/>\n",
       "<path clip-path=\"url(#clip903)\" d=\"M1391.84 670.375 L1391.84 694.375 L1415.84 694.375 L1415.84 670.375 L1391.84 670.375 Z\" fill=\"#000000\" fill-rule=\"evenodd\" fill-opacity=\"1\" stroke=\"none\"/>\n",
       "<path clip-path=\"url(#clip903)\" d=\"M1432.27 671.295 L1432.27 695.295 L1456.27 695.295 L1456.27 671.295 L1432.27 671.295 Z\" fill=\"#000000\" fill-rule=\"evenodd\" fill-opacity=\"1\" stroke=\"none\"/>\n",
       "<path clip-path=\"url(#clip903)\" d=\"M1472.7 321.365 L1472.7 345.365 L1496.7 345.365 L1496.7 321.365 L1472.7 321.365 Z\" fill=\"#000000\" fill-rule=\"evenodd\" fill-opacity=\"1\" stroke=\"none\"/>\n",
       "<path clip-path=\"url(#clip903)\" d=\"M1513.13 361.073 L1513.13 385.073 L1537.13 385.073 L1537.13 361.073 L1513.13 361.073 Z\" fill=\"#000000\" fill-rule=\"evenodd\" fill-opacity=\"1\" stroke=\"none\"/>\n",
       "<path clip-path=\"url(#clip903)\" d=\"M1553.56 921.189 L1553.56 945.189 L1577.56 945.189 L1577.56 921.189 L1553.56 921.189 Z\" fill=\"#000000\" fill-rule=\"evenodd\" fill-opacity=\"1\" stroke=\"none\"/>\n",
       "<path clip-path=\"url(#clip903)\" d=\"M1593.99 691.461 L1593.99 715.461 L1617.99 715.461 L1617.99 691.461 L1593.99 691.461 Z\" fill=\"#000000\" fill-rule=\"evenodd\" fill-opacity=\"1\" stroke=\"none\"/>\n",
       "<path clip-path=\"url(#clip903)\" d=\"M1634.42 219.361 L1634.42 243.361 L1658.42 243.361 L1658.42 219.361 L1634.42 219.361 Z\" fill=\"#000000\" fill-rule=\"evenodd\" fill-opacity=\"1\" stroke=\"none\"/>\n",
       "<path clip-path=\"url(#clip903)\" d=\"M1674.86 685.686 L1674.86 709.686 L1698.86 709.686 L1698.86 685.686 L1674.86 685.686 Z\" fill=\"#000000\" fill-rule=\"evenodd\" fill-opacity=\"1\" stroke=\"none\"/>\n",
       "<path clip-path=\"url(#clip903)\" d=\"M1715.29 366.623 L1715.29 390.623 L1739.29 390.623 L1739.29 366.623 L1715.29 366.623 Z\" fill=\"#000000\" fill-rule=\"evenodd\" fill-opacity=\"1\" stroke=\"none\"/>\n",
       "<path clip-path=\"url(#clip903)\" d=\"M1755.72 906.191 L1755.72 930.191 L1779.72 930.191 L1779.72 906.191 L1755.72 906.191 Z\" fill=\"#000000\" fill-rule=\"evenodd\" fill-opacity=\"1\" stroke=\"none\"/>\n",
       "<path clip-path=\"url(#clip903)\" d=\"M1877.01 575.44 L1877.01 599.44 L1901.01 599.44 L1901.01 575.44 L1877.01 575.44 Z\" fill=\"#000000\" fill-rule=\"evenodd\" fill-opacity=\"1\" stroke=\"none\"/>\n",
       "<path clip-path=\"url(#clip903)\" d=\"M1917.44 411.613 L1917.44 435.613 L1941.44 435.613 L1941.44 411.613 L1917.44 411.613 Z\" fill=\"#000000\" fill-rule=\"evenodd\" fill-opacity=\"1\" stroke=\"none\"/>\n",
       "<path clip-path=\"url(#clip903)\" d=\"M1957.87 105.437 L1957.87 129.437 L1981.87 129.437 L1981.87 105.437 L1957.87 105.437 Z\" fill=\"#000000\" fill-rule=\"evenodd\" fill-opacity=\"1\" stroke=\"none\"/>\n",
       "<path clip-path=\"url(#clip903)\" d=\"M1998.3 526.548 L1998.3 550.548 L2022.3 550.548 L2022.3 526.548 L1998.3 526.548 Z\" fill=\"#000000\" fill-rule=\"evenodd\" fill-opacity=\"1\" stroke=\"none\"/>\n",
       "<path clip-path=\"url(#clip903)\" d=\"M2038.74 684.485 L2038.74 708.485 L2062.74 708.485 L2062.74 684.485 L2038.74 684.485 Z\" fill=\"#000000\" fill-rule=\"evenodd\" fill-opacity=\"1\" stroke=\"none\"/>\n",
       "<path clip-path=\"url(#clip903)\" d=\"M2079.17 591.08 L2079.17 615.08 L2103.17 615.08 L2103.17 591.08 L2079.17 591.08 Z\" fill=\"#000000\" fill-rule=\"evenodd\" fill-opacity=\"1\" stroke=\"none\"/>\n",
       "<path clip-path=\"url(#clip903)\" d=\"M2160.03 319.339 L2160.03 343.339 L2184.03 343.339 L2184.03 319.339 L2160.03 319.339 Z\" fill=\"#000000\" fill-rule=\"evenodd\" fill-opacity=\"1\" stroke=\"none\"/>\n",
       "<path clip-path=\"url(#clip903)\" d=\"M2200.46 645.084 L2200.46 669.084 L2224.46 669.084 L2224.46 645.084 L2200.46 645.084 Z\" fill=\"#000000\" fill-rule=\"evenodd\" fill-opacity=\"1\" stroke=\"none\"/>\n",
       "<path clip-path=\"url(#clip903)\" d=\"M2281.32 526.77 L2281.32 550.77 L2305.32 550.77 L2305.32 526.77 L2281.32 526.77 Z\" fill=\"#000000\" fill-rule=\"evenodd\" fill-opacity=\"1\" stroke=\"none\"/>\n",
       "</svg>\n"
      ]
     },
     "metadata": {},
     "output_type": "display_data"
    }
   ],
   "source": [
    "p8 = plot(1:nReactMax,optGapTraj_r,\n",
    "    yscale=:log10,\n",
    "    xlabel=\"# reactors\", \n",
    "    ylabel=L\"T_{benders}\",\n",
    "    marker=:square, \n",
    "    markersize=3,\n",
    "    linecolor = :black,\n",
    "    markercolor = :black,\n",
    "    linestyle = :dashdot,\n",
    "    label=\"\",\n",
    "    gridlinewidth=2,\n",
    "    dpi=600)\n",
    "\n",
    "display(p8)\n",
    "savefig(p8,\"C:/Users/MACC-Jose/Documents/Canada/Papers/Benders Decomposition/Figures/C2_BenOptGap.pdf\");"
   ]
  },
  {
   "cell_type": "markdown",
   "id": "41cb96ae",
   "metadata": {},
   "source": [
    "Creating table to show the results"
   ]
  },
  {
   "cell_type": "code",
   "execution_count": 35,
   "id": "3ce63e67",
   "metadata": {},
   "outputs": [],
   "source": [
    "table_iter = Any[]\n",
    "table_solTime_M = Any[]\n",
    "table_solTime_D = Any[]\n",
    "table_of_M = Any[]\n",
    "table_of_D = Any[]\n",
    "table_perChange = Any[]\n",
    "\n",
    "for tt in [5 10 15 20 25 30 40 50] \n",
    "    push!(table_iter, tt)\n",
    "    push!(table_solTime_M, solTimeTraj_r[1,tt])\n",
    "    push!(table_solTime_D, solTimeTraj_r[2,tt])\n",
    "    push!(table_of_M, solObjTraj_r[1,tt])\n",
    "    push!(table_of_D, solObjTraj_r[2,tt])\n",
    "    push!(table_perChange, 100*(solObjTraj_r[2,tt] - solObjTraj_r[1,tt])/solObjTraj_r[1,tt])\n",
    "end\n",
    "\n",
    "df_reac = DataFrame(; iter = table_iter, \n",
    "                sol_time_M = table_solTime_M, \n",
    "                 sol_time_D = table_solTime_D,\n",
    "                 comp_of_M = table_of_M,\n",
    "                 comp_of_D = table_of_D,\n",
    "                 per_change = table_perChange);"
   ]
  },
  {
   "cell_type": "code",
   "execution_count": 36,
   "id": "44fda462",
   "metadata": {},
   "outputs": [
    {
     "data": {
      "text/plain": [
       "\"Analysis: # of Scenarios\""
      ]
     },
     "metadata": {},
     "output_type": "display_data"
    },
    {
     "data": {
      "text/html": [
       "<div><div style = \"float: left;\"><span>8×7 DataFrame</span></div><div style = \"clear: both;\"></div></div><div class = \"data-frame\" style = \"overflow-x: scroll;\"><table class = \"data-frame\" style = \"margin-bottom: 6px;\"><thead><tr class = \"header\"><th class = \"rowNumber\" style = \"font-weight: bold; text-align: right;\">Row</th><th style = \"text-align: left;\">iter</th><th style = \"text-align: left;\">sol_time_M</th><th style = \"text-align: left;\">sol_time_D</th><th style = \"text-align: left;\">sol_time_D_max</th><th style = \"text-align: left;\">comp_of_M</th><th style = \"text-align: left;\">comp_of_D</th><th style = \"text-align: left;\">per_change</th></tr><tr class = \"subheader headerLastRow\"><th class = \"rowNumber\" style = \"font-weight: bold; text-align: right;\"></th><th title = \"Any\" style = \"text-align: left;\">Any</th><th title = \"Any\" style = \"text-align: left;\">Any</th><th title = \"Any\" style = \"text-align: left;\">Any</th><th title = \"Any\" style = \"text-align: left;\">Any</th><th title = \"Any\" style = \"text-align: left;\">Any</th><th title = \"Any\" style = \"text-align: left;\">Any</th><th title = \"Any\" style = \"text-align: left;\">Any</th></tr></thead><tbody><tr><td class = \"rowNumber\" style = \"font-weight: bold; text-align: right;\">1</td><td style = \"text-align: left;\">5</td><td style = \"text-align: left;\">0.841</td><td style = \"text-align: left;\">9.151</td><td style = \"text-align: left;\">2.503</td><td style = \"text-align: left;\">0.43443</td><td style = \"text-align: left;\">0.434436</td><td style = \"text-align: left;\">0.00140871</td></tr><tr><td class = \"rowNumber\" style = \"font-weight: bold; text-align: right;\">2</td><td style = \"text-align: left;\">10</td><td style = \"text-align: left;\">4.931</td><td style = \"text-align: left;\">15.776</td><td style = \"text-align: left;\">3.265</td><td style = \"text-align: left;\">0.434421</td><td style = \"text-align: left;\">0.434458</td><td style = \"text-align: left;\">0.00854755</td></tr><tr><td class = \"rowNumber\" style = \"font-weight: bold; text-align: right;\">3</td><td style = \"text-align: left;\">15</td><td style = \"text-align: left;\">6.475</td><td style = \"text-align: left;\">23.418</td><td style = \"text-align: left;\">3.221</td><td style = \"text-align: left;\">0.434311</td><td style = \"text-align: left;\">0.434314</td><td style = \"text-align: left;\">0.000674273</td></tr><tr><td class = \"rowNumber\" style = \"font-weight: bold; text-align: right;\">4</td><td style = \"text-align: left;\">20</td><td style = \"text-align: left;\">12.61</td><td style = \"text-align: left;\">38.689</td><td style = \"text-align: left;\">4.131</td><td style = \"text-align: left;\">0.434305</td><td style = \"text-align: left;\">0.434306</td><td style = \"text-align: left;\">0.000256334</td></tr><tr><td class = \"rowNumber\" style = \"font-weight: bold; text-align: right;\">5</td><td style = \"text-align: left;\">25</td><td style = \"text-align: left;\">15.722</td><td style = \"text-align: left;\">42.606</td><td style = \"text-align: left;\">3.495</td><td style = \"text-align: left;\">0.434303</td><td style = \"text-align: left;\">0.434307</td><td style = \"text-align: left;\">0.000874149</td></tr><tr><td class = \"rowNumber\" style = \"font-weight: bold; text-align: right;\">6</td><td style = \"text-align: left;\">30</td><td style = \"text-align: left;\">25.748</td><td style = \"text-align: left;\">62.007</td><td style = \"text-align: left;\">4.414</td><td style = \"text-align: left;\">0.434293</td><td style = \"text-align: left;\">0.434297</td><td style = \"text-align: left;\">0.000986484</td></tr><tr><td class = \"rowNumber\" style = \"font-weight: bold; text-align: right;\">7</td><td style = \"text-align: left;\">40</td><td style = \"text-align: left;\">28.079</td><td style = \"text-align: left;\">62.018</td><td style = \"text-align: left;\">3.66</td><td style = \"text-align: left;\">0.434292</td><td style = \"text-align: left;\">0.434298</td><td style = \"text-align: left;\">0.00123511</td></tr><tr><td class = \"rowNumber\" style = \"font-weight: bold; text-align: right;\">8</td><td style = \"text-align: left;\">50</td><td style = \"text-align: left;\">44.8</td><td style = \"text-align: left;\">93.668</td><td style = \"text-align: left;\">4.622</td><td style = \"text-align: left;\">0.434281</td><td style = \"text-align: left;\">0.434287</td><td style = \"text-align: left;\">0.00133121</td></tr></tbody></table></div>"
      ],
      "text/latex": [
       "\\begin{tabular}{r|ccccccc}\n",
       "\t& iter & sol\\_time\\_M & sol\\_time\\_D & sol\\_time\\_D\\_max & comp\\_of\\_M & comp\\_of\\_D & per\\_change\\\\\n",
       "\t\\hline\n",
       "\t& Any & Any & Any & Any & Any & Any & Any\\\\\n",
       "\t\\hline\n",
       "\t1 & 5 & 0.841 & 9.151 & 2.503 & 0.43443 & 0.434436 & 0.00140871 \\\\\n",
       "\t2 & 10 & 4.931 & 15.776 & 3.265 & 0.434421 & 0.434458 & 0.00854755 \\\\\n",
       "\t3 & 15 & 6.475 & 23.418 & 3.221 & 0.434311 & 0.434314 & 0.000674273 \\\\\n",
       "\t4 & 20 & 12.61 & 38.689 & 4.131 & 0.434305 & 0.434306 & 0.000256334 \\\\\n",
       "\t5 & 25 & 15.722 & 42.606 & 3.495 & 0.434303 & 0.434307 & 0.000874149 \\\\\n",
       "\t6 & 30 & 25.748 & 62.007 & 4.414 & 0.434293 & 0.434297 & 0.000986484 \\\\\n",
       "\t7 & 40 & 28.079 & 62.018 & 3.66 & 0.434292 & 0.434298 & 0.00123511 \\\\\n",
       "\t8 & 50 & 44.8 & 93.668 & 4.622 & 0.434281 & 0.434287 & 0.00133121 \\\\\n",
       "\\end{tabular}\n"
      ],
      "text/plain": [
       "\u001b[1m8×7 DataFrame\u001b[0m\n",
       "\u001b[1m Row \u001b[0m│\u001b[1m iter \u001b[0m\u001b[1m sol_time_M \u001b[0m\u001b[1m sol_time_D \u001b[0m\u001b[1m sol_time_D_max \u001b[0m\u001b[1m comp_of_M \u001b[0m\u001b[1m comp_of_D \u001b[0m\u001b[1m per\u001b[0m ⋯\n",
       "     │\u001b[90m Any  \u001b[0m\u001b[90m Any        \u001b[0m\u001b[90m Any        \u001b[0m\u001b[90m Any            \u001b[0m\u001b[90m Any       \u001b[0m\u001b[90m Any       \u001b[0m\u001b[90m Any\u001b[0m ⋯\n",
       "─────┼──────────────────────────────────────────────────────────────────────────\n",
       "   1 │ 5     0.841       9.151       2.503           0.43443    0.434436   0.0 ⋯\n",
       "   2 │ 10    4.931       15.776      3.265           0.434421   0.434458   0.0\n",
       "   3 │ 15    6.475       23.418      3.221           0.434311   0.434314   0.0\n",
       "   4 │ 20    12.61       38.689      4.131           0.434305   0.434306   0.0\n",
       "   5 │ 25    15.722      42.606      3.495           0.434303   0.434307   0.0 ⋯\n",
       "   6 │ 30    25.748      62.007      4.414           0.434293   0.434297   0.0\n",
       "   7 │ 40    28.079      62.018      3.66            0.434292   0.434298   0.0\n",
       "   8 │ 50    44.8        93.668      4.622           0.434281   0.434287   0.0\n",
       "\u001b[36m                                                                1 column omitted\u001b[0m"
      ]
     },
     "metadata": {},
     "output_type": "display_data"
    },
    {
     "data": {
      "text/plain": [
       "\"Analysis: # of Reactors\""
      ]
     },
     "metadata": {},
     "output_type": "display_data"
    },
    {
     "data": {
      "text/html": [
       "<div><div style = \"float: left;\"><span>8×6 DataFrame</span></div><div style = \"clear: both;\"></div></div><div class = \"data-frame\" style = \"overflow-x: scroll;\"><table class = \"data-frame\" style = \"margin-bottom: 6px;\"><thead><tr class = \"header\"><th class = \"rowNumber\" style = \"font-weight: bold; text-align: right;\">Row</th><th style = \"text-align: left;\">iter</th><th style = \"text-align: left;\">sol_time_M</th><th style = \"text-align: left;\">sol_time_D</th><th style = \"text-align: left;\">comp_of_M</th><th style = \"text-align: left;\">comp_of_D</th><th style = \"text-align: left;\">per_change</th></tr><tr class = \"subheader headerLastRow\"><th class = \"rowNumber\" style = \"font-weight: bold; text-align: right;\"></th><th title = \"Any\" style = \"text-align: left;\">Any</th><th title = \"Any\" style = \"text-align: left;\">Any</th><th title = \"Any\" style = \"text-align: left;\">Any</th><th title = \"Any\" style = \"text-align: left;\">Any</th><th title = \"Any\" style = \"text-align: left;\">Any</th><th title = \"Any\" style = \"text-align: left;\">Any</th></tr></thead><tbody><tr><td class = \"rowNumber\" style = \"font-weight: bold; text-align: right;\">1</td><td style = \"text-align: left;\">5</td><td style = \"text-align: left;\">1.108</td><td style = \"text-align: left;\">9.568</td><td style = \"text-align: left;\">0.434589</td><td style = \"text-align: left;\">0.434589</td><td style = \"text-align: left;\">3.2937e-5</td></tr><tr><td class = \"rowNumber\" style = \"font-weight: bold; text-align: right;\">2</td><td style = \"text-align: left;\">10</td><td style = \"text-align: left;\">2.7</td><td style = \"text-align: left;\">14.929</td><td style = \"text-align: left;\">0.434588</td><td style = \"text-align: left;\">0.434589</td><td style = \"text-align: left;\">0.000234468</td></tr><tr><td class = \"rowNumber\" style = \"font-weight: bold; text-align: right;\">3</td><td style = \"text-align: left;\">15</td><td style = \"text-align: left;\">2.824</td><td style = \"text-align: left;\">26.554</td><td style = \"text-align: left;\">0.434589</td><td style = \"text-align: left;\">0.434588</td><td style = \"text-align: left;\">-0.000117404</td></tr><tr><td class = \"rowNumber\" style = \"font-weight: bold; text-align: right;\">4</td><td style = \"text-align: left;\">20</td><td style = \"text-align: left;\">5.103</td><td style = \"text-align: left;\">53.002</td><td style = \"text-align: left;\">0.434589</td><td style = \"text-align: left;\">NaN</td><td style = \"text-align: left;\">NaN</td></tr><tr><td class = \"rowNumber\" style = \"font-weight: bold; text-align: right;\">5</td><td style = \"text-align: left;\">25</td><td style = \"text-align: left;\">6.285</td><td style = \"text-align: left;\">60.632</td><td style = \"text-align: left;\">0.434588</td><td style = \"text-align: left;\">0.434589</td><td style = \"text-align: left;\">8.83256e-5</td></tr><tr><td class = \"rowNumber\" style = \"font-weight: bold; text-align: right;\">6</td><td style = \"text-align: left;\">30</td><td style = \"text-align: left;\">8.626</td><td style = \"text-align: left;\">58.701</td><td style = \"text-align: left;\">0.434589</td><td style = \"text-align: left;\">0.43459</td><td style = \"text-align: left;\">0.000301828</td></tr><tr><td class = \"rowNumber\" style = \"font-weight: bold; text-align: right;\">7</td><td style = \"text-align: left;\">40</td><td style = \"text-align: left;\">11.245</td><td style = \"text-align: left;\">128.68</td><td style = \"text-align: left;\">0.434589</td><td style = \"text-align: left;\">0.434589</td><td style = \"text-align: left;\">7.96091e-5</td></tr><tr><td class = \"rowNumber\" style = \"font-weight: bold; text-align: right;\">8</td><td style = \"text-align: left;\">50</td><td style = \"text-align: left;\">10.826</td><td style = \"text-align: left;\">100.338</td><td style = \"text-align: left;\">0.434589</td><td style = \"text-align: left;\">0.434589</td><td style = \"text-align: left;\">0.00013223</td></tr></tbody></table></div>"
      ],
      "text/latex": [
       "\\begin{tabular}{r|cccccc}\n",
       "\t& iter & sol\\_time\\_M & sol\\_time\\_D & comp\\_of\\_M & comp\\_of\\_D & per\\_change\\\\\n",
       "\t\\hline\n",
       "\t& Any & Any & Any & Any & Any & Any\\\\\n",
       "\t\\hline\n",
       "\t1 & 5 & 1.108 & 9.568 & 0.434589 & 0.434589 & 3.2937e-5 \\\\\n",
       "\t2 & 10 & 2.7 & 14.929 & 0.434588 & 0.434589 & 0.000234468 \\\\\n",
       "\t3 & 15 & 2.824 & 26.554 & 0.434589 & 0.434588 & -0.000117404 \\\\\n",
       "\t4 & 20 & 5.103 & 53.002 & 0.434589 & NaN & NaN \\\\\n",
       "\t5 & 25 & 6.285 & 60.632 & 0.434588 & 0.434589 & 8.83256e-5 \\\\\n",
       "\t6 & 30 & 8.626 & 58.701 & 0.434589 & 0.43459 & 0.000301828 \\\\\n",
       "\t7 & 40 & 11.245 & 128.68 & 0.434589 & 0.434589 & 7.96091e-5 \\\\\n",
       "\t8 & 50 & 10.826 & 100.338 & 0.434589 & 0.434589 & 0.00013223 \\\\\n",
       "\\end{tabular}\n"
      ],
      "text/plain": [
       "\u001b[1m8×6 DataFrame\u001b[0m\n",
       "\u001b[1m Row \u001b[0m│\u001b[1m iter \u001b[0m\u001b[1m sol_time_M \u001b[0m\u001b[1m sol_time_D \u001b[0m\u001b[1m comp_of_M \u001b[0m\u001b[1m comp_of_D \u001b[0m\u001b[1m per_change   \u001b[0m\n",
       "     │\u001b[90m Any  \u001b[0m\u001b[90m Any        \u001b[0m\u001b[90m Any        \u001b[0m\u001b[90m Any       \u001b[0m\u001b[90m Any       \u001b[0m\u001b[90m Any          \u001b[0m\n",
       "─────┼──────────────────────────────────────────────────────────────────\n",
       "   1 │ 5     1.108       9.568       0.434589   0.434589   3.2937e-5\n",
       "   2 │ 10    2.7         14.929      0.434588   0.434589   0.000234468\n",
       "   3 │ 15    2.824       26.554      0.434589   0.434588   -0.000117404\n",
       "   4 │ 20    5.103       53.002      0.434589   NaN        NaN\n",
       "   5 │ 25    6.285       60.632      0.434588   0.434589   8.83256e-5\n",
       "   6 │ 30    8.626       58.701      0.434589   0.43459    0.000301828\n",
       "   7 │ 40    11.245      128.68      0.434589   0.434589   7.96091e-5\n",
       "   8 │ 50    10.826      100.338     0.434589   0.434589   0.00013223"
      ]
     },
     "metadata": {},
     "output_type": "display_data"
    }
   ],
   "source": [
    "display(\"Analysis: # of Reactors\")\n",
    "display(df_reac)"
   ]
  }
 ],
 "metadata": {
  "kernelspec": {
   "display_name": "Julia 1.8.5",
   "language": "julia",
   "name": "julia-1.8"
  },
  "language_info": {
   "file_extension": ".jl",
   "mimetype": "application/julia",
   "name": "julia",
   "version": "1.8.5"
  }
 },
 "nbformat": 4,
 "nbformat_minor": 5
}
