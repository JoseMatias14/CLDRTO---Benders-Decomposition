{
 "cells": [
  {
   "cell_type": "markdown",
   "id": "39bb43e3",
   "metadata": {},
   "source": [
    "- **This code computes the decomposed solution of a Closed-Loop DRTO problem and implement both decomposed and monolithic strategies in a plant**\n",
    "- The underlying control structure (modeled in the CLDRTO model) is a constrained MPC, which is solved using MPCC\n",
    "- The problem is posed as a scenario-based stochastic programming problem\n",
    "- The case study is an affine multiple parallel bioreactor system from:*Gao, Ling. \"Modeling and dynamics analyses of immobilized CSTR bioreactor using transfer function model.\" 2012 International Symposium on Information Technologies in Medicine and Education. Vol. 2. IEEE, 2012.*\n",
    "- The uncertainty represented by the scenarios comes from the maximum specific growth rate (V_m) --> see matlab file\n",
    "\n",
    "AUTHOR: Jose Matias <assumpcj@mcmaster.ca>\n",
    "DATE: May 2023"
   ]
  },
  {
   "cell_type": "code",
   "execution_count": 1,
   "id": "67ea638f",
   "metadata": {},
   "outputs": [],
   "source": [
    "using LinearAlgebra, JuMP, CPLEX, Ipopt, Plots, CSV, DataFrames, Distributions"
   ]
  },
  {
   "cell_type": "markdown",
   "id": "b2933767",
   "metadata": {},
   "source": [
    "# Simulation Configuration"
   ]
  },
  {
   "cell_type": "code",
   "execution_count": 2,
   "id": "cb37bc36",
   "metadata": {},
   "outputs": [],
   "source": [
    "# Sampling time\n",
    "T = 1 #[h]\n",
    "\n",
    "# Number of manipulated inputs\n",
    "nu = 1\n",
    "# Number of controlled outputs\n",
    "ny = 1\n",
    "\n",
    "# setting bounds (all arbitrary - not in deviation form!!) \n",
    "uMax = 5.0 # for tight constraints: 1.9 | for loose constraints: 5.0 or 10.0\n",
    "uMin = 0.0\n",
    "\n",
    "yspMax = 1.2 \n",
    "yspMin = 0.0;"
   ]
  },
  {
   "cell_type": "markdown",
   "id": "06d023cd",
   "metadata": {},
   "source": [
    "# Building affine CL-DRTO models"
   ]
  },
  {
   "cell_type": "code",
   "execution_count": 3,
   "id": "06719deb",
   "metadata": {},
   "outputs": [],
   "source": [
    "# Linearization point\n",
    "u0 = 1.5\n",
    "x0 = [0.7179;0.7821]\n",
    "y0 = 0.7821\n",
    "\n",
    "# 100 pre-computed models based on parametric uncertainty Vm (computed using matlab: BioReactorLinearization.m)\n",
    "bioModels = CSV.read(\"C:\\\\Users\\\\MACC-Jose\\\\Documents\\\\GitHub\\\\BD\\\\CLDRTO Case Study 2 - Bioreactor\\\\BioreactorModel\", DataFrame; header=false);\n",
    "#print(bioModels)"
   ]
  },
  {
   "cell_type": "markdown",
   "id": "8c5197b2",
   "metadata": {},
   "source": [
    "# CL-DRTO configuration"
   ]
  },
  {
   "cell_type": "code",
   "execution_count": 4,
   "id": "ad40ad5c",
   "metadata": {},
   "outputs": [],
   "source": [
    "# DRTO sampling time\n",
    "nDRTO = 4 # [h]\n",
    "# Prediction horizon\n",
    "pD = 20 + (8 - 1)# p = 8 *controller horizon  \n",
    "# Input control horizon \n",
    "mD = 20\n",
    "# Objective function: target tracking (deviation form)\n",
    "pTrack = 1 - y0 # [g/L]\n",
    "# Soft upper bounds on P weight (deviation form)\n",
    "pUB = 1.05 - y0 # [g/L]\n",
    "# objective function weight for P penalization term \n",
    "wP = 100;"
   ]
  },
  {
   "cell_type": "markdown",
   "id": "ac4a4609",
   "metadata": {},
   "source": [
    "# MPC configuration"
   ]
  },
  {
   "cell_type": "code",
   "execution_count": 5,
   "id": "76a65401",
   "metadata": {},
   "outputs": [],
   "source": [
    "# MPC sampling time\n",
    "nMPC = 1 # [h]\n",
    "\n",
    "# Controller configuration\n",
    "# Output prediction horizon\n",
    "p = 8\n",
    "# Input control horizon \n",
    "m = 2\n",
    "# Output weights\n",
    "q = 1\n",
    "# Input weights \n",
    "r = 1;"
   ]
  },
  {
   "cell_type": "markdown",
   "id": "14811090",
   "metadata": {},
   "source": [
    "# Bender's configuration"
   ]
  },
  {
   "cell_type": "code",
   "execution_count": 6,
   "id": "34c26822",
   "metadata": {},
   "outputs": [],
   "source": [
    "# max number of iteration\n",
    "benIterMax = 50\n",
    "\n",
    "# optimality gap (relative) tolerance\n",
    "optGap = 0.5; # MPCC: 0.5"
   ]
  },
  {
   "cell_type": "markdown",
   "id": "27186ab9",
   "metadata": {},
   "source": [
    "# Auxiliary functions"
   ]
  },
  {
   "cell_type": "markdown",
   "id": "3bd66240",
   "metadata": {},
   "source": [
    "- DRTO model changes with the number of scenarios and parallel reactors.  \n",
    "\n",
    "Used for the monolithic solution. Generates an array of models. Several different models were already computed offline and saved in the \"bioModel\" array. This function extracts the models based on a fixed index grid that is generated based on the number of scenarios"
   ]
  },
  {
   "cell_type": "code",
   "execution_count": 7,
   "id": "57ec4745",
   "metadata": {},
   "outputs": [],
   "source": [
    "function DRTO_matrices(nReactors,nScenarios)\n",
    "    ###########\n",
    "    # inputs: #\n",
    "    ###########\n",
    "    # nReactors - number of reactors in parallel\n",
    "    # nScenarios - number of scenarios used in the stochastic optimization\n",
    "    \n",
    "    # set dimensions\n",
    "    nx = 2*nReactors\n",
    "    # SISO system\n",
    "    ny = 1\n",
    "    nu = 1\n",
    "    \n",
    "    # picking up indexes equally spaced between 1 and 100 (including initial and end point) \n",
    "    # based on the desired number of scenarios\n",
    "    if nScenarios == 1\n",
    "        indexScen = 50 # nominal model --> index = 50\n",
    "    else\n",
    "        indexScen = [floor(Int, 1 + (ii - 1)*(100-1)/(nScenarios-1)) for ii in 1:nScenarios]\n",
    "    end\n",
    "    \n",
    "    # building DRTO model\n",
    "    A_drto = Array{Float64}(undef,nx,nx,nScenarios) \n",
    "    B_drto = Array{Float64}(undef,nx,nu,nScenarios) \n",
    "\n",
    "    for kk in 1:nScenarios\n",
    "\n",
    "        index_temp = indexScen[kk]\n",
    "\n",
    "        A_drto[:,:,kk] = kron(I(nReactors),Matrix(bioModels[2*(index_temp - 1) + 1:2*(index_temp - 1) + 2,1:2]))\n",
    "        B_drto[:,:,kk] = repeat(bioModels[2*(index_temp - 1) + 1:2*(index_temp - 1) + 2,3], outer = [nReactors, 1, 1])\n",
    "\n",
    "    end\n",
    "\n",
    "    # mapping states to measurements is the same for all models\n",
    "    C_drto = repeat([0 1], outer = [1, nReactors])\n",
    "    \n",
    "    return Dict('A' => A_drto, 'B' => B_drto, 'C' => C_drto)\n",
    "end;"
   ]
  },
  {
   "cell_type": "markdown",
   "id": "d52a45b4",
   "metadata": {},
   "source": [
    "- DRTO model changes with the number of scenarios and parallel reactors.  \n",
    "\n",
    "Used for the decomposed solution. Generates a single model. Several different models were already computed offline and saved in the \"bioModel\" array. This function extracts the model of interest based on the index \"nScenario\""
   ]
  },
  {
   "cell_type": "code",
   "execution_count": 8,
   "id": "0968ca7b",
   "metadata": {},
   "outputs": [],
   "source": [
    "function DRTO_matrix(nReactors,nScenario,nScenTotal)  \n",
    "    ###########\n",
    "    # inputs: #\n",
    "    ###########\n",
    "    # nReactors - number of reactors in parallel\n",
    "    # nScenario - index the of scenario used in the stochastic optimization\n",
    "    # nScenTotal - total number of scenario used in the stochastic optimization\n",
    "    \n",
    "    # set dimensions\n",
    "    nx = 2*nReactors\n",
    "    # SISO system\n",
    "    ny = 1\n",
    "    nu = 1\n",
    "    \n",
    "    if nScenTotal == 1\n",
    "        index_temp = 50 # nominal model --> index = 50\n",
    "    else\n",
    "        indexScen = [floor(Int, 1 + (ii - 1)*(100-1)/(nScenTotal-1)) for ii in 1:nScenTotal]\n",
    "        index_temp = indexScen[nScenario]\n",
    "    end\n",
    "  \n",
    "    # building DRTO model\n",
    "    A_drto = kron(I(nReactors),Matrix(bioModels[2*(index_temp - 1) + 1:2*(index_temp - 1) + 2,1:2]))\n",
    "    B_drto = repeat(bioModels[2*(index_temp - 1) + 1:2*(index_temp - 1) + 2,3], outer = [nReactors, 1, 1])\n",
    "\n",
    "    # mapping states to measurements is the same for all models\n",
    "    C_drto = repeat([0 1], outer = [1, nReactors]);\n",
    "    \n",
    "    return Dict('A' => A_drto, 'B' => B_drto, 'C' => C_drto)\n",
    "end;"
   ]
  },
  {
   "cell_type": "markdown",
   "id": "dbffeddf",
   "metadata": {},
   "source": [
    "- Building MPC Model\n",
    "\n",
    "Using nominal model(indexScen = 50). For the description of how the MPC matrices (with disturbance model) are built, check script: *CLDRTO with unconstrained MPC - uncertain plant test*"
   ]
  },
  {
   "cell_type": "code",
   "execution_count": 9,
   "id": "1f3177a8",
   "metadata": {},
   "outputs": [],
   "source": [
    "function MPC_matrices(nReactors)\n",
    "    ###########\n",
    "    # inputs: #\n",
    "    ###########\n",
    "    # nReactors - number of reactors in parallel\n",
    "    \n",
    "    # set dimensions\n",
    "    nx = 2*nReactors\n",
    "    # SISO system\n",
    "    ny = 1\n",
    "    nu = 1\n",
    "    \n",
    "    # extracting the matrices from the model array computed previously\n",
    "    nNom = 50 # nominal model --> index = 50\n",
    "    \n",
    "    A = kron(I(nReactors),Matrix(bioModels[2*(nNom - 1) + 1:2*(nNom - 1) + 2,1:2])) \n",
    "    B = repeat(bioModels[2*(nNom - 1) + 1:2*(nNom - 1) + 2,3], outer = [nReactors, 1])\n",
    "    C = repeat([0 1], outer = [1, nReactors])\n",
    "    \n",
    "    # adding disturbance model\n",
    "    Ad = [A zeros(nx,ny); zeros(ny,nx) I(ny)]\n",
    "    Bd = [B; zeros(ny,nu)]\n",
    "    Cd = [C ones(ny,ny)]\n",
    "    \n",
    "    # building matrices for MPC\n",
    "    Psi = Cd*Ad\n",
    "    for ii in 2:p\n",
    "        Psi = [Psi;  Cd*Ad^ii]\n",
    "    end\n",
    "\n",
    "    # Computing Dynamic Matrix\n",
    "    a = Cd*Bd\n",
    "    for ii in 2:p\n",
    "        a = [a; Cd*Ad^(ii - 1)*Bd]\n",
    "    end\n",
    "    DynM = a\n",
    "\n",
    "    for ii in 1:(m - 2)\n",
    "        a = [zeros(ny,nu);a[1:(p-1)*ny,:]]\n",
    "        DynM = [DynM  a]\n",
    "    end\n",
    "\n",
    "    # adjusting dynamic matrix for since p > m (last column)\n",
    "    b = Cd*Bd\n",
    "\n",
    "    Ai = I(nx+1) # adding disturbance to the states\n",
    "    for ii = 1:(p - m)\n",
    "        Ai = Ai + Ad^ii\n",
    "        b = [b;Cd*Ai*Bd]\n",
    "    end\n",
    "\n",
    "    Theta=[DynM [zeros(ny*(m-1),nu);b]]\n",
    "    \n",
    "    # Creating Qbar and Rbar matrices\n",
    "    Qbar = Diagonal([q for ii in 1:p])\n",
    "    Rbar = Diagonal([r for ii in 1:m])\n",
    "\n",
    "    # Creating input movement OF penalty matrix \n",
    "    M=[zeros((m-1)*nu,nu) I(nu*(m-1)); zeros(nu) zeros(nu,nu*(m-1))]\n",
    "    Ibar=[I(nu); zeros(nu*(m-1),nu)]\n",
    "    IM = I(nu*m) - M';\n",
    "    \n",
    "    # Matrix H\n",
    "    H = Theta'*Qbar*Theta + IM'*Rbar*IM;\n",
    "    \n",
    "    return Dict('A' => A, 'B' => B, 'C' => C, 'H' => H, 'Θ' => Theta, 'Ψ' => Psi, 'Q' => Qbar, 'I' => Ibar, 'R' => Rbar, 'M' => IM)\n",
    "end;"
   ]
  },
  {
   "cell_type": "markdown",
   "id": "c83af00d",
   "metadata": {},
   "source": [
    "- Building function for computing MPC solution (solving QP)"
   ]
  },
  {
   "cell_type": "code",
   "execution_count": 10,
   "id": "78d89652",
   "metadata": {},
   "outputs": [],
   "source": [
    "function solveMPC(xkk,dekk,uk_1,yspk,uref,umin,umax,p,m,nReac)\n",
    "    ###########\n",
    "    # inputs: #\n",
    "    ###########\n",
    "    # xkk - current states (MPC model) \n",
    "    # dekk - disturbance estimate \n",
    "    # uk_1 - inputs at the current iteration, already implemented on the plant\n",
    "    # yspk - setpoint trajectory computed by CL-DRTO\n",
    "    # uref - input reference value\n",
    "    # umin, umax - input bounds\n",
    "    # p, m - prediction and control horizon\n",
    "    # nReac - number of parallel reactors\n",
    "    \n",
    "    # Creating MPC matrices\n",
    "    mpc = MPC_matrices(nReac)\n",
    "    \n",
    "    MPC_con = Model(Ipopt.Optimizer)\n",
    "    set_silent(MPC_con)\n",
    "    \n",
    "    ####################\n",
    "    # Set up variables #\n",
    "    ####################\n",
    "    # inputs computed by MPCs\n",
    "    @variable(MPC_con, (umin - uref) ≤ u[1:m] ≤ (umax - uref) )\n",
    "    \n",
    "    ######################################\n",
    "    # Set up constraints and expressions #\n",
    "    ######################################\n",
    "    # for OF computation\n",
    "    @expression(MPC_con, cfT, (mpc['Ψ']*[xkk;dekk] - yspk)'*mpc['Q']*mpc['Θ'] - uk_1'*mpc['I']'*mpc['R']*mpc['M'])\n",
    "        \n",
    "    #############################\n",
    "    # Set up objective function #\n",
    "    #############################\n",
    "    @objective(MPC_con, Min, sum(u[jj]*sum(mpc['H'][jj,ii]*u[ii] for ii in 1:m) for jj in 1:m) + 2*sum(cfT[jj]*u[jj] for jj = 1:m))\n",
    "    # @show MPC_con\n",
    "\n",
    "    #################\n",
    "    # Solve Problem #\n",
    "    #################\n",
    "    optimize!(MPC_con)\n",
    "\n",
    "    #calling values of the solved problem\n",
    "    ϕ = objective_value(MPC_con)\n",
    "    uArray = value.(u)\n",
    "\n",
    "    return Dict('ϕ' => ϕ,'u' => uArray)\n",
    "end;"
   ]
  },
  {
   "cell_type": "markdown",
   "id": "ab17a7c4",
   "metadata": {},
   "source": [
    "# Solving CL-DRTO Multiscenario Problem (monolithic)\n",
    " - Check details in script *Monolithic CLDRTO*\n",
    " - For the description of the different solution strategies, check *Different Strategies to solve constrained MPC within CLDRTO*"
   ]
  },
  {
   "cell_type": "code",
   "execution_count": 11,
   "id": "74dd560e",
   "metadata": {},
   "outputs": [],
   "source": [
    "# Parameters for MPC solution\n",
    "# matrix to compute the gradients of the input bound constraints\n",
    "conMatrix = [I(m); -I(m)]; \n",
    "\n",
    "# big-M implementation\n",
    "bigM_mu = 10000#1000\n",
    "bigM_u = 10000#100\n",
    "\n",
    "# weight complementarity relaxation OF term\n",
    "pi_bar = 10^2; # 10^2"
   ]
  },
  {
   "cell_type": "code",
   "execution_count": 12,
   "id": "e5486fc7",
   "metadata": {},
   "outputs": [],
   "source": [
    "## Modeling the sub problem (scenario) -- modeling inside a function\n",
    "function MS_CLDRTO(xInit,uInit,nReac,nScen,pScen,solNom,option)\n",
    "    ###########\n",
    "    # inputs: #\n",
    "    ###########\n",
    "    # xInit - states at the current iteration (beginning of DRTO horizon)\n",
    "    # uInit - inputs at the current iteration, already implemented on the plant\n",
    "    # nReac - number of parallel reactors\n",
    "    # nScen - number of scenarios used in the problem (only one branching)\n",
    "    # pScen - probability of the scenarios\n",
    "    # solNom - nominal solution\n",
    "    # option - strategy for solving MPC\n",
    "\n",
    "    # Creating MPC matrices\n",
    "    mpc = MPC_matrices(nReac)\n",
    "    \n",
    "    # Creating DRTO matrices\n",
    "    drto = DRTO_matrices(nReac,nScen)\n",
    "    \n",
    "    # set dimensions\n",
    "    nx = 2*nReac\n",
    "    # SISO system\n",
    "    ny = 1\n",
    "    nu = 1\n",
    "\n",
    "    # Define model\n",
    "    if option == 3\n",
    "        model_ms = Model(Ipopt.Optimizer)\n",
    "        set_optimizer_attribute(model_ms, \"max_cpu_time\", 300.0) # 5 min\n",
    "    else \n",
    "        model_ms = Model(CPLEX.Optimizer)\n",
    "        set_optimizer_attribute(model_ms, \"CPX_PARAM_TILIM\", 300.0) # 5 min\n",
    "    end\n",
    "    set_silent(model_ms)\n",
    "    \n",
    "    ####################\n",
    "    # Set up variables #\n",
    "    ####################\n",
    "    # DRTO model variables\n",
    "    @variable(model_ms, xDRTO[1:pD,1:nx,1:nScen])\n",
    "    @variable(model_ms, yDRTO[1:pD,1:nScen])\n",
    "    \n",
    "    # MPC model variables\n",
    "    @variable(model_ms, xMPC[1:pD,1:nx,1:nScen])\n",
    "    @variable(model_ms, yMPC[1:pD,1:nScen])\n",
    "    \n",
    "    # MPC <-> DRTO model deviation\n",
    "    @variable(model_ms, de[1:pD,1:nScen])\n",
    "    \n",
    "    # inputs computed by MPCs\n",
    "    @variable(model_ms, u[1:pD,1:m,1:nScen])\n",
    "    \n",
    "    # setpoints for the controllers sent to the plant (CL-DRTO degrees of freedom)\n",
    "    @variable(model_ms, (yspMin - y0) ≤ ysp[1:pD,1:nScen] ≤ (yspMax - y0))\n",
    "    \n",
    "    # slacks for P soft constraint\n",
    "    @variable(model_ms, delta_p[1:pD,1:nScen] ≥ 0)\n",
    "    \n",
    "    if option == 2 || option == 3\n",
    "        @variable(model_ms, mu_g[1:mD,1:(2*m),1:nScen] ≥ 0) # upper and lower bounds for each input\n",
    "    end\n",
    "    if option == 2\n",
    "        @variable(model_ms, Y_lb[1:mD,1:m,1:nScen], Bin, start = 0) # Binaries for big-M implementation\n",
    "        @variable(model_ms, Y_ub[1:mD,1:m,1:nScen], Bin, start = 0) \n",
    "    end\n",
    "    \n",
    "    ########################\n",
    "    # Set up initial guess #\n",
    "    ########################\n",
    "    if solNom isa Dict\n",
    "        for ss in 1:nScen\n",
    "            for ii in 1:pD\n",
    "                set_start_value(yDRTO[ii,ss], solNom['y'][ii,1]) \n",
    "                set_start_value(yMPC[ii,ss], solNom['c'][ii,1])\n",
    "                set_start_value(ysp[ii,ss], solNom['s'][ii,1])\n",
    "\n",
    "                for rr in 1:nReac # when nReac increases, the number of states change!\n",
    "                    for xx in 1:2 # N.B. nx/reactor is hardcoded here... (maybe use nx/reactor as a function input) \n",
    "                        set_start_value(xDRTO[ii,xx + (rr - 1)*2,ss], solNom['x'][ii,xx,1])    \n",
    "                        set_start_value(xMPC[ii,xx + (rr - 1)*2,ss], solNom['m'][ii,xx,1])           \n",
    "                    end # end xx\n",
    "                end # number \n",
    "                \n",
    "                for uu in 1:m\n",
    "                    set_start_value(u[ii,uu,ss], solNom['u'][ii,uu,1])\n",
    "                end # end of uu\n",
    "            end # eend of ii\n",
    "        end # end of ss\n",
    "    end # end of if\n",
    "    \n",
    "    ######################################\n",
    "    # Set up constraints and expressions #\n",
    "    ######################################\n",
    "    # Model Dynamic for Dynamic RTO\n",
    "    @constraint(model_ms, CLDRTO_dyn_model_1[ss=1:nScen], xDRTO[1,:,ss] .== drto['A'][:,:,ss]*xInit + drto['B'][:,:,ss]*uInit)\n",
    "    @constraint(model_ms, CLDRTO_dyn_model[kk=1:(pD - 1),ss=1:nScen], xDRTO[kk + 1,:,ss] .== drto['A'][:,:,ss]*xDRTO[kk,:,ss] + drto['B'][:,:,ss]*u[kk,1,ss])\n",
    "    @constraint(model_ms, CLDRTO_model_out[kk=1:pD,ss=1:nScen], yDRTO[kk,ss] == dot(drto['C'],xDRTO[kk,:,ss]))\n",
    "    \n",
    "    # Model Dynamic for Controller\n",
    "    @constraint(model_ms, MPC_dyn_model_1[ss=1:nScen], xMPC[1,:,ss] .== mpc['A']*xInit + mpc['B']*uInit)\n",
    "    @constraint(model_ms, MPC_dyn_model[kk=1:(pD - 1),ss=1:nScen], xMPC[kk + 1,:,ss] .== mpc['A']*xMPC[kk,:,ss] + mpc['B']*u[kk,1,ss])\n",
    "    @constraint(model_ms, MPC_model_out[kk=1:pD,ss=1:nScen], yMPC[kk,ss] == dot(mpc['C'],xMPC[kk,:,ss]))\n",
    "\n",
    "    #  Model deviation\n",
    "    @constraint(model_ms, MPC_model_dev[kk=1:pD,ss=1:nScen], de[kk,ss] == yDRTO[kk,ss] - yMPC[kk,ss])\n",
    "\n",
    "    # fixing setpoint changes after mD\n",
    "    @constraint(model_ms, control_horizon[kk=(mD+1):pD,ss=1:nScen], u[kk,1,ss] .== u[mD,1,ss])\n",
    "    \n",
    "    # P soft constraints\n",
    "    @constraint(model_ms, soft_P[kk=1:pD,ss=1:nScen], yDRTO[kk,ss] - delta_p[kk,ss] ≤ pUB)\n",
    "    \n",
    "    # nonanticipativity constraints\n",
    "    @constraint(model_ms, nonAnt[kk=1:nDRTO,ss=2:nScen], ysp[kk,1] - ysp[kk,ss] == 0.0);\n",
    "    \n",
    "    ################\n",
    "    # MPC solution #\n",
    "    ################\n",
    "    # sequence of Setpoints\n",
    "    @expression(model_ms, cfT_1[ss=1:nScen], (mpc['Ψ']*[xMPC[1,:,ss];de[1,ss]] - ysp[1:p,ss])'*mpc['Q']*mpc['Θ'] - uInit'*mpc['I']'*mpc['R']*mpc['M'])\n",
    "    @expression(model_ms, cfT[kk=2:mD,ss=1:nScen], (mpc['Ψ']*[xMPC[kk,:,ss];de[kk,ss]] - ysp[kk:(kk + p - 1),ss])'*mpc['Q']*mpc['Θ'] - u[kk-1,1,ss]'*mpc['I']'*mpc['R']*mpc['M'])\n",
    "    \n",
    "    # using setpoint holders\n",
    "    #@expression(model_ms, cfT_1[ss=1:nScen], (mpc['Ψ']*[xMPC[1,:,ss];de[1,ss]] - ysp[1,ss]*ones(p,1))'*mpc['Q']*mpc['Θ'] - uInit'*mpc['I']'*mpc['R']*mpc['M'])\n",
    "    #@expression(model_ms, cfT[kk=2:mD,ss=1:nScen], (mpc['Ψ']*[xMPC[kk,:,ss];de[kk,ss]] - ysp[kk,ss]*ones(p,1))'*mpc['Q']*mpc['Θ'] - u[kk-1,1,ss]'*mpc['I']'*mpc['R']*mpc['M']) \n",
    "    \n",
    "    if option == 1\n",
    "        # Unconstrained MPC solution  \n",
    "        @constraint(model_ms, MPC_sol_1[ss=1:nScen], mpc['H']*u[1,:,ss] + cfT_1[ss]' .== 0)\n",
    "        @constraint(model_ms, MPC_sol[kk=2:mD,ss=1:nScen], mpc['H']*u[kk,:,ss] + cfT[kk,ss]' .== 0)\n",
    "        \n",
    "        # input clipping directly into DRTO problem\n",
    "        @constraint(model_ms, MPC_c_upper[kk=1:mD,uu=1:m,ss=1:nScen], u[kk,uu,ss] - (uMax - u0) ≤ 0)\n",
    "        @constraint(model_ms, MPC_c_lower[kk=1:mD,uu=1:m,ss=1:nScen], (uMin - u0) - u[kk,uu,ss] ≤ 0)\n",
    "        \n",
    "    elseif option == 2\n",
    "        # Constrained with binaries\n",
    "        # 1. stationarity\n",
    "        @constraint(model_ms, MPC_sol_1[ss=1:nScen], u[1,:,ss]'*mpc['H'] + cfT_1[ss] +  mu_g[1,:,ss]'*conMatrix .== 0)\n",
    "        @constraint(model_ms, MPC_sol[kk=2:mD,ss=1:nScen], u[kk,:,ss]'*mpc['H'] + cfT[kk,ss] + mu_g[kk,:,ss]'*conMatrix .== 0)\n",
    "\n",
    "        # 2. primal feasibility\n",
    "        @constraint(model_ms, g_u_u[kk=1:mD,uu=1:m,ss=1:nScen], u[kk,uu,ss] - (uMax - u0) ≤ 0)\n",
    "        @constraint(model_ms, g_u_l[kk=1:mD,uu=1:m,ss=1:nScen], (uMin - u0) - u[kk,uu,ss] ≤ 0)\n",
    "    \n",
    "        # 3. complementarity --> using big-M implementation\n",
    "        @constraint(model_ms, bigM_1[kk=1:mD,uu=1:m,ss=1:nScen], mu_g[kk,uu,ss] ≤ bigM_mu*Y_ub[kk,uu,ss])\n",
    "        @constraint(model_ms, bigM_2[kk=1:mD,uu=1:m,ss=1:nScen], mu_g[kk,uu + m,ss] ≤ bigM_mu*Y_lb[kk,uu,ss])\n",
    "        @constraint(model_ms, bigM_3[kk=1:mD,uu=1:m,ss=1:nScen], u[kk,uu,ss] - (uMax - u0) ≥ -bigM_u*(1 - Y_ub[kk,uu,ss]))\n",
    "        @constraint(model_ms, bigM_4[kk=1:mD,uu=1:m,ss=1:nScen], (uMin - u0) - u[kk,uu,ss] ≥ -bigM_u*(1 - Y_lb[kk,uu,ss]))\n",
    "        \n",
    "        @constraint(model_ms, compSlack[kk=1:mD,uu=1:m,ss=1:nScen], Y_ub[kk,uu,ss] + Y_lb[kk,uu,ss] ≤ 1)\n",
    "    \n",
    "    elseif option == 3\n",
    "        # Constrained with MPCC\n",
    "        # 1. stationarity\n",
    "        @constraint(model_ms, MPC_sol_1[ss=1:nScen], u[1,:,ss]'*mpc['H'] + cfT_1[ss] +  mu_g[1,:,ss]'*conMatrix .== 0)\n",
    "        @constraint(model_ms, MPC_sol[kk=2:mD,ss=1:nScen], u[kk,:,ss]'*mpc['H'] + cfT[kk,ss] + mu_g[kk,:,ss]'*conMatrix .== 0)\n",
    "\n",
    "        # 2. primal feasibility\n",
    "        @constraint(model_ms, MPC_c_upper[kk=1:mD,uu=1:m,ss=1:nScen], u[kk,uu,ss] - (uMax - u0) ≤ 0)\n",
    "        @constraint(model_ms, MPC_c_lower[kk=1:mD,uu=1:m,ss=1:nScen], (uMin - u0) - u[kk,uu,ss] ≤ 0)\n",
    "        \n",
    "        # Expressions for OF\n",
    "        @expression(model_ms, g_u_u[kk=1:mD,uu=1:m,ss=1:nScen], u[kk,uu,ss] - (uMax - u0))\n",
    "        @expression(model_ms, g_u_l[kk=1:mD,uu=1:m,ss=1:nScen], (uMin - u0) - u[kk,uu,ss])\n",
    "        \n",
    "    end\n",
    "        \n",
    "    #############################\n",
    "    # Set up objective function #\n",
    "    #############################\n",
    "    if option == 1 || option == 2\n",
    "        @objective(model_ms, Min, \n",
    "            pScen*sum((yDRTO[kk,ss] - pTrack)^2 + wP*delta_p[kk,ss]^2 for kk in 1:pD, ss in 1:nScen)\n",
    "        )\n",
    "    else\n",
    "        @objective(model_ms, Min, pScen*sum((yDRTO[kk,ss] - pTrack)^2 + wP*delta_p[kk,ss]^2 for kk in 1:pD, ss in 1:nScen)\n",
    "                                - pScen*pi_bar*sum(\n",
    "                                                sum(mu_g[kk,jj,ss]*g_u_u[kk,jj,ss] for jj = 1:m) +\n",
    "                                                sum(mu_g[kk,jj + m,ss]*g_u_l[kk,jj,ss] for jj = 1:m)\n",
    "                                                for kk = 1:mD, ss in 1:nScen)\n",
    "        )\n",
    "    end\n",
    "    # @show model_ms\n",
    "\n",
    "    #################\n",
    "    # Solve Problem #\n",
    "    #################\n",
    "    #set_optimizer_attribute(model_ms, \"CPX_PARAM_BARALG\", 1)\n",
    "    optimize!(model_ms)\n",
    "    \n",
    "    status = termination_status(model_ms)\n",
    "    #display(status)\n",
    "    \n",
    "    if status == MOI.OPTIMAL || status == MOI.ALMOST_OPTIMAL || status == MOI.LOCALLY_SOLVED\n",
    "        # Proved optimality or Optimal within relaxed tolerances\n",
    "        # solution time\n",
    "        timeSol = solve_time(model_ms)\n",
    "\n",
    "        flag = 1\n",
    "        # #primal_status(m)\n",
    "\n",
    "        #calling values of the solved problem\n",
    "        ϕ = objective_value(model_ms)\n",
    "        uArray = value.(u)\n",
    "        yspArray = value.(ysp)\n",
    "        yDRTOArray = value.(yDRTO)\n",
    "        yMPCArray = value.(yMPC)\n",
    "        xDRTOArray = value.(xDRTO)\n",
    "        xMPCArray = value.(xMPC)\n",
    "\n",
    "        outputFun = Dict('ϕ' => ϕ,\n",
    "                        't' => timeSol,\n",
    "                        'f' => flag, \n",
    "                        'u' => uArray,\n",
    "                        's' => yspArray,\n",
    "                        'x' => xDRTOArray,\n",
    "                        'y' => yDRTOArray, \n",
    "                        'm' => xDRTOArray,\n",
    "                        'c' => yDRTOArray)\n",
    "        \n",
    "        if option == 2 || option == 3\n",
    "            muArray = value.(mu_g)\n",
    "            merge!(outputFun,Dict('μ'=> muArray))\n",
    "        end\n",
    "        \n",
    "        return outputFun\n",
    "    else\n",
    "        # Handle other cases.\n",
    "        outputFun = Dict('f' => 0,\n",
    "                         't' => NaN,\n",
    "                         'ϕ' => NaN)\n",
    "                        \n",
    "        \n",
    "        return outputFun\n",
    "    end\n",
    "end;"
   ]
  },
  {
   "cell_type": "markdown",
   "id": "e2a35860",
   "metadata": {},
   "source": [
    "# Decomposition of CLDRTO Problem"
   ]
  },
  {
   "cell_type": "markdown",
   "id": "b2f632eb",
   "metadata": {},
   "source": [
    "- Modeling Subproblem"
   ]
  },
  {
   "cell_type": "code",
   "execution_count": 13,
   "id": "1c652a26",
   "metadata": {},
   "outputs": [],
   "source": [
    "## Modeling the sub problem (scenario) -- modeling inside a function\n",
    "function subp(xInit,uInit,ysp_fixed,nReac,nScen,pScen,solNom,option)\n",
    "    ###########\n",
    "    # inputs: #\n",
    "    ###########\n",
    "    # xInit - states at the current iteration (beginning of DRTO horizon)\n",
    "    # uInit - inputs at the current iteration, already implemented on the plant\n",
    "    # ysp_fixed - setpoints fixed by the Master Problem --> nonanticipativity constraints\n",
    "    # nReac - number of parallel reactors\n",
    "    # nScen - number of scenarios used in the problem (only one branching)\n",
    "    # pScen - probability of the scenarios\n",
    "    # solNom - nominal solution\n",
    "    # option - strategy for solving MPC \n",
    "        # for now, code only works for option = 3\n",
    "\n",
    "    # Creating MPC matrices\n",
    "    mpc = MPC_matrices(nReac)\n",
    "    \n",
    "    # Creating DRTO matrices\n",
    "    \n",
    "    # recomputing the number of total scenarios based on scenario probability and the fact that the scenarios have the same probability\n",
    "    nScenTotal = ceil(Int,1/pScen)    \n",
    "    drto = DRTO_matrix(nReac,nScen,nScenTotal)\n",
    "    \n",
    "    # Define subproblem model  #== 3\n",
    "    if option == 3  \n",
    "        sub = Model(Ipopt.Optimizer)\n",
    "        set_optimizer_attribute(sub, \"max_cpu_time\", 300.0) # 5 min\n",
    "    else \n",
    "        sub = Model(CPLEX.Optimizer)\n",
    "        set_optimizer_attribute(sub, \"CPX_PARAM_TILIM\", 300.0) # 5 min\n",
    "    end\n",
    "    set_silent(sub) # avoid printing\n",
    "    \n",
    "    ####################\n",
    "    # Set up variables #\n",
    "    ####################\n",
    "    # DRTO model variables\n",
    "    @variable(sub, xDRTO[1:pD, 1:nx])\n",
    "    @variable(sub, yDRTO[1:pD])\n",
    "    \n",
    "    # MPC model variables\n",
    "    @variable(sub, xMPC[1:pD, 1:nx])\n",
    "    @variable(sub, yMPC[1:pD])\n",
    "\n",
    "    # MPC <-> DRTO model deviation\n",
    "    @variable(sub, de[1:pD])\n",
    "    \n",
    "    # inputs computed by MPCs\n",
    "    @variable(sub, u[1:pD,1:m])\n",
    "\n",
    "    # setpoints for the controllers sent to the plant (CL-DRTO degrees of freedom)\n",
    "    @variable(sub, (yspMin - y0) ≤ ysp[1:pD] ≤ (yspMax - y0))\n",
    "        \n",
    "    # slacks for controlling setpoint into a zone\n",
    "    @variable(sub, delta_p[1:pD] ≥ 0)\n",
    "    \n",
    "    if option == 2 || option == 3\n",
    "        @variable(sub, mu_g[1:mD,1:(2*m)] ≥ 0) # upper and lower bounds for each input\n",
    "    end\n",
    "    if option == 2\n",
    "        @variable(sub, Y_lb[1:mD,1:m], start = 0) # Relaxing binaries for big-M implementation\n",
    "        @variable(sub, Y_ub[1:mD,1:m], start = 0) \n",
    "    end\n",
    "    \n",
    "    ########################\n",
    "    # Set up initial guess #\n",
    "    ########################\n",
    "    if solNom isa Dict\n",
    "        for ii in 1:pD\n",
    "            set_start_value(yDRTO[ii], solNom['y'][ii,1]) \n",
    "            set_start_value(yMPC[ii], solNom['c'][ii,1])\n",
    "            #set_start_value(ysp[ii], solNom['s'][ii,1])\n",
    "\n",
    "            for rr in 1:nReac # when nReac increases, the number of states change!\n",
    "                for xx in 1:2 # N.B. nx/reactor is hardcoded here... (maybe use nx/reactor as a function input) \n",
    "                    set_start_value(xDRTO[ii,xx + (rr - 1)*2], solNom['x'][ii,xx,1])    \n",
    "                    set_start_value(xMPC[ii,xx + (rr - 1)*2], solNom['m'][ii,xx,1])           \n",
    "                end # end xx\n",
    "            end # number \n",
    "                \n",
    "            for uu in 1:m\n",
    "                set_start_value(u[ii,uu], solNom['u'][ii,uu,1])\n",
    "            end # end of uu\n",
    "        end # eend of ii\n",
    "    end # end of if\n",
    "\n",
    "    ######################################\n",
    "    # Set up constraints and expressions #\n",
    "    ######################################\n",
    "    # Dynamic RTO model (linear)\n",
    "    @constraint(sub, CLDRTO_dyn_model_1, xDRTO[1,:] .== drto['A']*xInit + drto['B']*uInit)\n",
    "    @constraint(sub, CLDRTO_dyn_model[kk=1:(pD - 1)], xDRTO[kk + 1,:] .== drto['A']*xDRTO[kk,:] + drto['B']*u[kk,1])\n",
    "    @constraint(sub, CLDRTO_model_out[kk=1:pD], yDRTO[kk] == dot(drto['C'],xDRTO[kk,:]))\n",
    "\n",
    "    # MPC model (linear)\n",
    "    @constraint(sub, MPC_dyn_model_1, xMPC[1,:] .== mpc['A']*xInit + mpc['B']*uInit)\n",
    "    @constraint(sub, MPC_dyn_model[kk=1:(pD - 1)], xMPC[kk + 1,:] .== mpc['A']*xMPC[kk,:] + mpc['B']*u[kk,1])\n",
    "    @constraint(sub, MPC_model_out[kk=1:pD], yMPC[kk] == dot(mpc['C'],xMPC[kk,:]))\n",
    "    \n",
    "    #  MPC model deviation (disturance)\n",
    "    @constraint(sub, MPC_model_dev[kk=1:pD], de[kk] == yDRTO[kk] - yMPC[kk])\n",
    "\n",
    "    # fixing input after mD\n",
    "    @constraint(sub, control_horizon[kk=(mD+1):pD], u[kk,1] == u[mD,1]);\n",
    "    \n",
    "    # P soft constraints\n",
    "    @constraint(sub, soft_P[kk=1:pD], yDRTO[kk] - delta_p[kk] ≤ pUB)\n",
    "    \n",
    "    # nonanticipativity constraints\n",
    "    @constraint(sub, nonAnt[kk=1:nDRTO], ysp[kk] - ysp_fixed[kk] == 0.0);\n",
    "    \n",
    "    ################\n",
    "    # MPC solution #\n",
    "    ################\n",
    "    # sequence of Setpoints\n",
    "    @expression(sub, cfT_1, (mpc['Ψ']*[xMPC[1,:];de[1]] - ysp[1:p])'*mpc['Q']*mpc['Θ'] - uInit'*mpc['I']'*mpc['R']*mpc['M'])\n",
    "    @expression(sub, cfT[kk=2:mD], (mpc['Ψ']*[xMPC[kk,:];de[kk]] - ysp[kk:(kk + p - 1)])'*mpc['Q']*mpc['Θ'] - u[kk-1,1]'*mpc['I']'*mpc['R']*mpc['M'])\n",
    "    \n",
    "    # using setpoint holders\n",
    "    #@expression(sub, cfT_1, (mpc['Ψ']*[xMPC[1,:];de[1]] - ysp[1]*ones(p,1))'*mpc['Q']*mpc['Θ'] - uInit'*mpc['I']'*mpc['R']*mpc['M'])\n",
    "    #@expression(sub, cfT[kk=2:mD], (mpc['Ψ']*[xMPC[kk,:];de[kk]] - ysp[kk]*ones(p,1))'*mpc['Q']*mpc['Θ'] - u[kk-1,1]'*mpc['I']'*mpc['R']*mpc['M'])\n",
    " \n",
    "    if option == 1\n",
    "        # Unconstrained MPC solution  \n",
    "        @constraint(sub, MPC_sol_1, mpc['H']*u[1,:] + cfT_1' .== 0)\n",
    "        @constraint(sub, MPC_sol[kk=2:mD],mpc['H']*u[kk,:] + cfT[kk]' .== 0)\n",
    "        \n",
    "        # input clipping directly into DRTO problem\n",
    "        @constraint(sub, MPC_c_upper[kk=1:mD,uu=1:m], u[kk,uu] - (uMax - u0) ≤ 0)\n",
    "        @constraint(sub, MPC_c_lower[kk=1:mD,uu=1:m], (uMin - u0) - u[kk,uu] ≤ 0)\n",
    "    \n",
    "    elseif option == 2\n",
    "        # Constrained with binaries\n",
    "        # 1. stationarity\n",
    "        @constraint(sub, MPC_sol_1, u[1,:]'*mpc['H'] + cfT_1 +  mu_g[1,:]'*conMatrix .== 0)\n",
    "        @constraint(sub, MPC_sol[kk=2:mD], u[kk,:]'*mpc['H'] + cfT[kk] + mu_g[kk,:]'*conMatrix .== 0)\n",
    "\n",
    "        # 2. primal feasibility\n",
    "        @constraint(sub, MPC_c_upper[kk=1:mD,uu=1:m], u[kk,uu] - (uMax - u0) ≤ 0)\n",
    "        @constraint(sub, MPC_c_lower[kk=1:mD,uu=1:m], (uMin - u0) - u[kk,uu] ≤ 0)\n",
    "    \n",
    "        # 3. complementarity --> using big-M implementation\n",
    "        @constraint(sub, bigM_1[kk=1:mD,uu=1:m], mu_g[kk,uu] ≤ bigM_mu*Y_ub[kk,uu])\n",
    "        @constraint(sub, bigM_2[kk=1:mD,uu=1:m], mu_g[kk,uu + m] ≤ bigM_mu*Y_lb[kk,uu])\n",
    "        @constraint(sub, bigM_3[kk=1:mD,uu=1:m], u[kk,uu] - (uMax - u0) ≥ -bigM_u*(1 - Y_ub[kk,uu]))\n",
    "        @constraint(sub, bigM_4[kk=1:mD,uu=1:m], (uMin - u0) - u[kk,uu] ≥ -bigM_u*(1 - Y_lb[kk,uu]))\n",
    "        \n",
    "        @constraint(sub, compSlack[kk=1:mD,uu=1:m], Y_ub[kk,uu] + Y_lb[kk,uu] ≤ 1)\n",
    "    \n",
    "    elseif option == 3\n",
    "        # Constrained with MPCC\n",
    "        # 1. stationarity\n",
    "        @constraint(sub, MPC_sol_1, u[1,:]'*mpc['H'] + cfT_1 +  mu_g[1,:]'*conMatrix .== 0)\n",
    "        @constraint(sub, MPC_sol[kk=2:mD], u[kk,:]'*mpc['H'] + cfT[kk] + mu_g[kk,:]'*conMatrix .== 0)\n",
    "\n",
    "        # 2. primal feasibility       \n",
    "        @constraint(sub, MPC_c_upper[kk=1:mD,uu=1:m], u[kk,uu] - (uMax - u0) ≤ 0)\n",
    "        @constraint(sub, MPC_c_lower[kk=1:mD,uu=1:m], (uMin - u0) - u[kk,uu] ≤ 0)\n",
    "        \n",
    "        # expression to be used in OF        \n",
    "        @expression(sub, g_u_u[kk=1:mD,uu=1:m], u[kk,uu] - (uMax - u0))\n",
    "        @expression(sub, g_u_l[kk=1:mD,uu=1:m], (uMin - u0) - u[kk,uu])\n",
    "        \n",
    "    end\n",
    "  \n",
    "    #############################\n",
    "    # Set up objective function #\n",
    "    #############################\n",
    "     if option == 1 || option == 2\n",
    "        @objective(sub, Min, \n",
    "            pScen*sum((yDRTO[kk] - pTrack)^2 + wP*delta_p[kk]^2 for kk in 1:pD)\n",
    "        )\n",
    "    else\n",
    "        @objective(sub, Min, \n",
    "            pScen*sum((yDRTO[kk] - pTrack)^2 + wP*delta_p[kk]^2 for kk in 1:pD)\n",
    "                    - pScen*pi_bar*sum(\n",
    "                                    sum(mu_g[kk,jj]*g_u_u[kk,jj] for jj = 1:m) +\n",
    "                                    sum(mu_g[kk,jj + m]*g_u_l[kk,jj] for jj = 1:m)\n",
    "                                for kk = 1:mD)\n",
    "        )\n",
    "    end\n",
    "    \n",
    "    # @show sub\n",
    "    #set_optimizer_attribute(sub, \"CPX_PARAM_BARALG\", 1)\n",
    "    \n",
    "    optimize!(sub)\n",
    "    \n",
    "    # solution time\n",
    "    timeSol = solve_time(sub)\n",
    "    \n",
    "    status = termination_status(sub)\n",
    "    #display(status)\n",
    "    \n",
    "    # checking if there is a solution to the problem\n",
    "    if status == MOI.OPTIMAL || status == MOI.ALMOST_OPTIMAL || status == MOI.LOCALLY_SOLVED\n",
    "        # Proved optimality or Optimal within relaxed tolerances\n",
    "        # we add an optimality cut\n",
    "        flag = 1\n",
    "        # #primal_status(m)\n",
    "\n",
    "        #calling values of the solved problem\n",
    "        ϕ = objective_value(sub)\n",
    "        uArray = value.(u)\n",
    "        yspArray = value.(ysp)\n",
    "        yDRTOArray = value.(yDRTO)\n",
    "        yMPCArray = value.(yMPC)\n",
    "        xDRTOArray = value.(xDRTO)\n",
    "        xMPCArray = value.(xMPC)\n",
    "        \n",
    "        # lagrange multipliers associated with the nonantecipativity constraints\n",
    "        λ = dual.(nonAnt)\n",
    "\n",
    "        outputDict = Dict('ϕ' => ϕ,\n",
    "                        't' => timeSol,\n",
    "                        'f' => flag, \n",
    "                        'a' => status,\n",
    "                        'u' => uArray,\n",
    "                        's' => yspArray,\n",
    "                        'x' => xDRTOArray,\n",
    "                        'y' => yDRTOArray, \n",
    "                        'm' => xMPCArray,\n",
    "                        'c' => yMPCArray,\n",
    "                        'λ' => λ)\n",
    "        \n",
    "        # if binaries are used for solving const. MPC\n",
    "        if option == 2\n",
    "            muArray = value.(mu_g)\n",
    "                   \n",
    "            uubBinArray = value.(Y_ub)\n",
    "            ulbBinArray = value.(Y_lb)\n",
    "            \n",
    "            merge!(outputDict,Dict('μ'=> muArray))\n",
    "            merge!(outputDict,Dict('o' => ulbBinArray))\n",
    "            merge!(outputDict,Dict('p' => uubBinArray))\n",
    "            \n",
    "        end\n",
    "        \n",
    "        # if MPCC is used for solving const. MPC\n",
    "        if option == 3\n",
    "            muArray = value.(mu_g)\n",
    "            \n",
    "            merge!(outputDict,Dict('μ'=> muArray))\n",
    "        end\n",
    "        \n",
    "        return outputDict\n",
    "    else\n",
    "        #i.e. no feasible solution --> Add feasibility cut\n",
    "        #display(\"Feasibility cut: scenario $(scen)\")        \n",
    "\n",
    "        # ! soft bounds on u\n",
    "        for kk in 1:mD\n",
    "            for uu in 1:m\n",
    "                delete(sub, MPC_c_upper[kk,uu])\n",
    "                delete(sub, MPC_c_lower[kk,uu])\n",
    "            end\n",
    "        end\n",
    "        # ! soft bounds on ysp\n",
    "        delete_lower_bound.(ysp[1:pD])\n",
    "        delete_upper_bound.(ysp[1:pD])\n",
    "        \n",
    "        if option != 1\n",
    "            # ! soft bounds on mu\n",
    "            delete_lower_bound.(mu_g[1:mD,1:m])\n",
    "        end\n",
    "        \n",
    "        ####################\n",
    "        # Set up variables #\n",
    "        #################### \n",
    "        # slacks\n",
    "        @variable(sub, delta_u_u[1:mD,1:m] ≥ 0.0)\n",
    "        @variable(sub, delta_u_l[1:mD,1:m] ≥ 0.0)\n",
    "        \n",
    "        @variable(sub, delta_ysp_u[1:pD] ≥ 0.0)\n",
    "        @variable(sub, delta_ysp_l[1:pD] ≥ 0.0)\n",
    "        \n",
    "        if option == 2 || option == 3\n",
    "            @variable(sub, delta_mu[1:mD,1:m] ≥ 0.0)\n",
    "        end\n",
    "        \n",
    "        ###########################\n",
    "        # Always-feasible problem #\n",
    "        ###########################        \n",
    "        # adding a constraint to guarantee feasibility\n",
    "        @constraint(sub, soft_u_upper[kk=1:mD,uu=1:m], u[kk,uu] - (uMax - u0) ≤ delta_u_u[kk,uu])\n",
    "        @constraint(sub, soft_u_lower[kk=1:mD,uu=1:m], (uMin - u0) - u[kk,uu] ≤ delta_u_l[kk,uu])\n",
    "        \n",
    "        @constraint(sub, soft_ysp_upper[kk=1:pD], ysp[kk] - (yspMax - y0) ≤ delta_ysp_u[kk])\n",
    "        @constraint(sub, soft_ysp_lower[kk=1:pD], (yspMin - y0) - ysp[kk] ≤ delta_ysp_l[kk])\n",
    "\n",
    "        # adding a constraint to guarantee that mu is always feasible        \n",
    "        if option == 2 || option == 3\n",
    "            @constraint(sub, soft_MPC_mu_upper[kk=1:mD,uu=1:m], -mu_g[kk,uu] ≤ delta_mu[kk,uu])\n",
    "        end\n",
    "        \n",
    "       #############################\n",
    "        # Set up objective function #\n",
    "        #############################\n",
    "        # Modifying the objective --> call @objective with the new objective function.\n",
    "        # minimizing constraint violation - l1 penalty!\n",
    "        if option == 2 || option == 3\n",
    "            @objective(sub, Min, sum(delta_p[kk] + delta_ysp_u[kk] + delta_ysp_l[kk] for kk in 1:pD)\n",
    "                    + sum(sum(delta_mu[kk,uu] + delta_u_u[kk,uu] + delta_u_l[kk,uu] for uu in 1:m) for kk in 1:mD))\n",
    "        else\n",
    "            @objective(sub, Min, sum(delta_p[kk] + delta_ysp_u[kk] + delta_ysp_l[kk] for kk in 1:pD)\n",
    "                    + sum(sum(delta_u_u[kk,uu] + delta_u_l[kk,uu] for uu in 1:m) for kk in 1:mD))\n",
    "        end\n",
    "        \n",
    "        #@show sub\n",
    "        #set_optimizer_attribute(sub, \"CPX_PARAM_BARALG\", 1)\n",
    "\n",
    "        # re-optimizing (now using the always feasible problem)\n",
    "        optimize!(sub)\n",
    "        \n",
    "        # solution time (adding time to solve the always feasible subproblem)\n",
    "        timeSol = timeSol + solve_time(sub)\n",
    "        \n",
    "        # checking status of the solution\n",
    "        status_sub = termination_status(sub)\n",
    "        \n",
    "        # flag for calling feasibility cuts (not optimality cuts)\n",
    "        flag = 0\n",
    "        \n",
    "        #calling values of the solved problem\n",
    "        uArray = value.(u)\n",
    "        yspArray = value.(ysp)\n",
    "        yDRTOArray = value.(yDRTO)\n",
    "        yMPCArray = value.(yMPC)\n",
    "        xDRTOArray = value.(xDRTO)\n",
    "        xMPCArray = value.(xMPC)\n",
    "        \n",
    "        #delta_muArray = value.(delta_mu)\n",
    "        delta_ulArray = value.(delta_u_l)\n",
    "        delta_uuArray = value.(delta_u_u)\n",
    "    \n",
    "        # objective function of the feasibility problem\n",
    "        o = objective_value(sub)\n",
    "        \n",
    "        # lagrange multipliers associated with the nonantecipativity constraints and binaries from master problem\n",
    "        λ = dual.(nonAnt)\n",
    "        \n",
    "        outputDict = Dict('ϕ' => o,\n",
    "                        't' => timeSol,\n",
    "                        'f' => flag, \n",
    "                        'a' => status_sub,\n",
    "                        'u' => uArray,\n",
    "                        's' => yspArray,\n",
    "                        'x' => xDRTOArray,\n",
    "                        'y' => yDRTOArray, \n",
    "                        'm' => xMPCArray,\n",
    "                        'c' => yMPCArray,\n",
    "                        'λ' => λ)\n",
    "        \n",
    "         if option == 2 || option == 3\n",
    "            muArray = value.(mu_g)\n",
    "            merge!(outputDict,Dict('μ'=> muArray))\n",
    "        end\n",
    "        \n",
    "        return outputDict\n",
    "    end\n",
    "end;"
   ]
  },
  {
   "cell_type": "markdown",
   "id": "1690f637",
   "metadata": {},
   "source": [
    "- Modeling Bender's Master Problem"
   ]
  },
  {
   "cell_type": "code",
   "execution_count": 14,
   "id": "6550488c",
   "metadata": {},
   "outputs": [],
   "source": [
    "## Modeling Benders Decompostion\n",
    "function BENS_CLDRTO(xInit,uInit,nReac,nScen,pScen,solNom,option)\n",
    "    \n",
    "    \n",
    "    # flag for checking if last cut was opt. (1) or feas. (0)\n",
    "    flagO = 1\n",
    "    \n",
    "    # timing solution via Benders\n",
    "    timeSolBen = 0 \n",
    "    # timing solution via parallel Benders\n",
    "    timeSolParBen = 0 \n",
    "    \n",
    "    # Define master problem model\n",
    "    master = Model(CPLEX.Optimizer)\n",
    "    set_silent(master)\n",
    "    \n",
    "    #lower bound on scenario objective function approximation \n",
    "    alpha_down = 0.0;\n",
    "    \n",
    "    ####################\n",
    "    # Set up variables #\n",
    "    ####################\n",
    "    @variable(master,  (yspMin - y0) <= ysp[1:nDRTO] <=  (yspMax - y0))     \n",
    "    @variable(master, α ≥ alpha_down)\n",
    "    \n",
    "    ########################\n",
    "    # Set up initial guess #\n",
    "    ########################\n",
    "    if solNom isa Dict\n",
    "        for ii in 1:nDRTO\n",
    "            set_start_value(ysp[ii], solNom['s'][ii,1])\n",
    "        end \n",
    "    end \n",
    " \n",
    "    ################################################\n",
    "    # Solving problem with benders' decomposition  #\n",
    "    ################################################\n",
    "    for ii in 1:benIterMax\n",
    "           \n",
    "        #############################\n",
    "        # Set up objective function #\n",
    "        #############################\n",
    "        if flagO == 1 \n",
    "            # last cut was an optimality cut\n",
    "            # standard OF\n",
    "            @objective(master, Min, α)\n",
    "        else\n",
    "            # last cut was a feasibility cut\n",
    "            # \"nudge\" next solution towards nominal solution \n",
    "            @objective(master, Min, α + 0*sum((ysp[kk] - solNom['s'][kk,1])^2 for kk in 1:nDRTO))\n",
    "        end\n",
    "        \n",
    "            # solve master problem (with Benders' cut)\n",
    "            optimize!(master)\n",
    "\n",
    "            # solution time\n",
    "            timeSolMaster = solve_time(master)\n",
    "            # Master problem solution: lower bound of the original problem\n",
    "            lb = objective_value(master)\n",
    "            #display(lb)\n",
    "\n",
    "            # extracting solution for the non-anticipativity constraints\n",
    "            ysp_nonⁱ = value.(ysp)\n",
    "            #display(ysp_nonⁱ)\n",
    "\n",
    "        timeSolBen = timeSolBen + timeSolMaster\n",
    "        timeSolParBen = timeSolParBen + timeSolMaster # master cannot be paralellized \n",
    "\n",
    "        #######################\n",
    "        # Solving subproblems #\n",
    "        #######################\n",
    "        # objective function\n",
    "        o_temp = Vector{Float64}(undef,nScen)\n",
    "        # flag optimality / feasibility\n",
    "        flag_temp = Vector{Float64}(undef,nScen)\n",
    "        # solution time\n",
    "        solTime_temp = Vector{Float64}(undef,nScen)\n",
    "        # multipliers\n",
    "        lambdaN_temp = Matrix{Float64}(undef,nDRTO,nScen) \n",
    "        \n",
    "        for ss in 1:nScen\n",
    "            dicTemp = subp(xInit,uInit,ysp_nonⁱ,nReac,ss,pScen,solNom,option)\n",
    "           \n",
    "            # saving files\n",
    "            # objective function\n",
    "            o_temp[ss] = dicTemp['ϕ']\n",
    "            # solution time\n",
    "            solTime_temp[ss] = dicTemp['t']\n",
    "            # optimality / feasibility flag\n",
    "            flag_temp[ss] = dicTemp['f']\n",
    "            # multiplier\n",
    "            for kk in 1:nDRTO\n",
    "                lambdaN_temp[kk,ss] = dicTemp['λ'][kk]\n",
    "            end\n",
    "            \n",
    "        end\n",
    "        \n",
    "        ##########################################################\n",
    "        # If all subproblems were feasible, check optimality gap #\n",
    "        ##########################################################\n",
    "        if sum(flag_temp) == nScen \n",
    "            # Subproblem solution: upper bound of the original problem\n",
    "            ub = sum(o_temp)\n",
    "\n",
    "            # solve subproblems to find the upper bound of the original problem solution \n",
    "            timeSolBen = timeSolBen + sum(solTime_temp)\n",
    "\n",
    "            # assuming that subproblem solution is parallelized\n",
    "            timeSolParBen = timeSolParBen + maximum(solTime_temp)   \n",
    "            \n",
    "            # compute optimality gap\n",
    "            gap = abs(ub - lb)/abs(ub)\n",
    "            #display(gap)\n",
    "\n",
    "            # check if optimality gap is small enough\n",
    "            # also, make sure last cut was an optimality cut due to change in OF \n",
    "            if gap < optGap && flagO == 1\n",
    "                global yspSol_dec = ysp_nonⁱ\n",
    "                global objFun_dec = ub\n",
    "                global optGap_dec = gap\n",
    "                global iter_dec = ii\n",
    "                global time_dec = timeSolBen\n",
    "                global time_max_dec = timeSolParBen\n",
    "                break\n",
    "            else # gap ≥ optGap \n",
    "                ##############################\n",
    "                # --> adding optimality cuts #\n",
    "                ##############################\n",
    "                display(\">>>>>> iteration $(ii):O\")\n",
    "                benderscutO = @constraint(master, α ≥ ub + \n",
    "                    sum(sum(lambdaN_temp[jj,ss] for ss in 1:nScen)*(ysp[jj] - ysp_nonⁱ[jj]) for jj in 1:nDRTO))\n",
    "                #@info \"we are adding this bender optimality cut $(benderscutO)\"\n",
    "                \n",
    "                # optimality cut was add\n",
    "                flagO = 1\n",
    "            \n",
    "            end # if gap\n",
    "        else # sum(flag_temp) != nScen\n",
    "            ###############################\n",
    "            # --> adding feasibility cuts #\n",
    "            ###############################\n",
    "            display(\">>>>>> iteration $(ii):F\")\n",
    "\n",
    "            benderscutF = @constraint(master, 0 ≥\n",
    "                sum(sum(lambdaN_temp[jj,ss] for ss in 1:nScen)*(ysp[jj] - ysp_nonⁱ[jj]) for jj in 1:nDRTO))\n",
    "            #@info \"we are adding this bender feasibility cut $(benderscutF)\"\n",
    "            \n",
    "            # feasibility cut was add\n",
    "            flagO = 0\n",
    "            \n",
    "        end # if nScen\n",
    "        \n",
    "        # checking if number of iterations reached max \n",
    "        if ii < benIterMax\n",
    "            global yspSol_dec = [NaN for kk=1:nDRTO]\n",
    "            global objFun_dec = NaN\n",
    "            global optGap_dec = NaN\n",
    "            global iter_dec = benIterMax\n",
    "            global time_dec = timeSolBen\n",
    "            global time_max_dec = timeSolParBen\n",
    "        end # if < benIterMax\n",
    "    end # if for benders iterations\n",
    "\n",
    "    # recomputing values\n",
    "    uArray = [subp(xInit,uInit,yspSol_dec,nReac,ss,pScen,solNom,option)['u']' for ss in 1:nScen]\n",
    "    yArray = [subp(xInit,uInit,yspSol_dec,nReac,ss,pScen,solNom,option)['y']' for ss in 1:nScen] \n",
    "    yspArray = [subp(xInit,uInit,yspSol_dec,nReac,ss,pScen,solNom,option)['s']' for ss in 1:nScen]\n",
    "    \n",
    "    #calling values of the solved problem\n",
    "    return Dict('ϕ' => objFun_dec, \n",
    "                'd' => yspSol_dec, \n",
    "                't' => time_dec,\n",
    "                'm' => time_max_dec, \n",
    "                'i' => iter_dec,\n",
    "                'g' => optGap_dec,\n",
    "                'u' => uArray, \n",
    "                'y' => yArray, \n",
    "                's' => yspArray)\n",
    "     \n",
    "end;"
   ]
  },
  {
   "cell_type": "markdown",
   "id": "5e551fe0",
   "metadata": {},
   "source": [
    "# Implementing CL-DRTO in closed loop with the plant\n",
    "\n",
    "Here we run a Monte Carlo Analysis of the CL-DRTO results. The plant gain is drawn at each MC iteration and the DRTO has access to the lower and upper bound of that distribution to create the scenarios. \n",
    "\n",
    "We use the same formulation as above with 3 scenarios and 5 reactors for comparing the monolithic and decomposed implementations"
   ]
  },
  {
   "cell_type": "code",
   "execution_count": 15,
   "id": "a73f73c0",
   "metadata": {},
   "outputs": [
    {
     "name": "stdout",
     "output_type": "stream",
     "text": [
      "\n",
      "******************************************************************************\n",
      "This program contains Ipopt, a library for large-scale nonlinear optimization.\n",
      " Ipopt is released as open source code under the Eclipse Public License (EPL).\n",
      "         For more information visit https://github.com/coin-or/Ipopt\n",
      "******************************************************************************\n",
      "\n"
     ]
    }
   ],
   "source": [
    "# Computing nominal solution #\n",
    "#number of scenarios \n",
    "scenNom = 1\n",
    "#equiprobable scenarios\n",
    "pNom = 1.0\n",
    "#number of reactors \n",
    "reacNom = 1\n",
    "# number of states of the nominal solution\n",
    "nx = 2*reacNom\n",
    "\n",
    "solNominal = MS_CLDRTO(x0,u0,reacNom,scenNom,pNom,0,3);"
   ]
  },
  {
   "cell_type": "code",
   "execution_count": 32,
   "id": "4135986c",
   "metadata": {},
   "outputs": [],
   "source": [
    "# Monte Carlo iterations\n",
    "n_MC = 20\n",
    "\n",
    "# Simulation time in sampling periods\n",
    "nsim = 20\n",
    "\n",
    "# plant information\n",
    "nS_MC = 10 # number of scenarios 3 \n",
    "nR_MC = 5 # number of reactors in parallel \n",
    "opti_MC = 3 # MPC solution method (only MPCC is working)\n",
    "\n",
    "#equiprobable scenarios\n",
    "pS_MC = 1.0/nS_MC\n",
    "\n",
    "# Number of states\n",
    "nx = 2*nR_MC\n",
    "\n",
    "# Creating MPC matrices\n",
    "mpc = MPC_matrices(nR_MC)\n",
    "\n",
    "# time series for plotting\n",
    "xPlant = Array{Float64}(undef,nx,nsim,n_MC,2) \n",
    "yPlant = Array{Float64}(undef,nsim,n_MC,2) \n",
    "uPlant = Array{Float64}(undef,nsim,n_MC,2) \n",
    "\n",
    "xMPCmodel = Array{Float64}(undef,nx,nsim,n_MC,2)\n",
    "yMPCmodel = Array{Float64}(undef,nsim,n_MC,2) \n",
    "dev_plant_MPCmodel = Array{Float64}(undef,nsim,n_MC,2);"
   ]
  },
  {
   "cell_type": "markdown",
   "id": "b783955c",
   "metadata": {},
   "source": [
    "## Plant simulation"
   ]
  },
  {
   "cell_type": "code",
   "execution_count": 33,
   "id": "87143f73",
   "metadata": {},
   "outputs": [
    {
     "name": "stdout",
     "output_type": "stream",
     "text": [
      "MC: 1>> Time: 1\n",
      "MC: 1>> Time: 2\n",
      "MC: 1>> Time: 3\n",
      "MC: 1>> Time: 4\n",
      "MC: 1>> Time: 5\n",
      "MC: 1>> Time: 6\n",
      "MC: 1>> Time: 7\n",
      "MC: 1>> Time: 8\n",
      "MC: 1>> Time: 9\n",
      "MC: 1>> Time: 10\n",
      "MC: 1>> Time: 11\n",
      "MC: 1>> Time: 12\n",
      "MC: 1>> Time: 13\n",
      "MC: 1>> Time: 14\n",
      "MC: 1>> Time: 15\n",
      "MC: 1>> Time: 16\n",
      "MC: 1>> Time: 17\n",
      "MC: 1>> Time: 18\n",
      "MC: 1>> Time: 19\n",
      "MC: 1>> Time: 20\n",
      "MC: 1>> Time: 1\n"
     ]
    },
    {
     "data": {
      "text/plain": [
       "\">>>>>> iteration 1:O\""
      ]
     },
     "metadata": {},
     "output_type": "display_data"
    },
    {
     "data": {
      "text/plain": [
       "\">>>>>> iteration 2:O\""
      ]
     },
     "metadata": {},
     "output_type": "display_data"
    },
    {
     "data": {
      "text/plain": [
       "\">>>>>> iteration 3:O\""
      ]
     },
     "metadata": {},
     "output_type": "display_data"
    },
    {
     "data": {
      "text/plain": [
       "\">>>>>> iteration 4:O\""
      ]
     },
     "metadata": {},
     "output_type": "display_data"
    },
    {
     "data": {
      "text/plain": [
       "\">>>>>> iteration 5:O\""
      ]
     },
     "metadata": {},
     "output_type": "display_data"
    },
    {
     "data": {
      "text/plain": [
       "\">>>>>> iteration 6:O\""
      ]
     },
     "metadata": {},
     "output_type": "display_data"
    },
    {
     "name": "stdout",
     "output_type": "stream",
     "text": [
      "MC: 1>> Time: 2\n",
      "MC: 1>> Time: 3\n",
      "MC: 1>> Time: 4\n"
     ]
    },
    {
     "data": {
      "text/plain": [
       "\">>>>>> iteration 1:O\""
      ]
     },
     "metadata": {},
     "output_type": "display_data"
    },
    {
     "data": {
      "text/plain": [
       "\">>>>>> iteration 2:O\""
      ]
     },
     "metadata": {},
     "output_type": "display_data"
    },
    {
     "data": {
      "text/plain": [
       "\">>>>>> iteration 3:O\""
      ]
     },
     "metadata": {},
     "output_type": "display_data"
    },
    {
     "data": {
      "text/plain": [
       "\">>>>>> iteration 4:O\""
      ]
     },
     "metadata": {},
     "output_type": "display_data"
    },
    {
     "data": {
      "text/plain": [
       "\">>>>>> iteration 5:O\""
      ]
     },
     "metadata": {},
     "output_type": "display_data"
    },
    {
     "data": {
      "text/plain": [
       "\">>>>>> iteration 6:O\""
      ]
     },
     "metadata": {},
     "output_type": "display_data"
    },
    {
     "data": {
      "text/plain": [
       "\">>>>>> iteration 7:O\""
      ]
     },
     "metadata": {},
     "output_type": "display_data"
    },
    {
     "data": {
      "text/plain": [
       "\">>>>>> iteration 8:O\""
      ]
     },
     "metadata": {},
     "output_type": "display_data"
    },
    {
     "data": {
      "text/plain": [
       "\">>>>>> iteration 9:O\""
      ]
     },
     "metadata": {},
     "output_type": "display_data"
    },
    {
     "data": {
      "text/plain": [
       "\">>>>>> iteration 10:O\""
      ]
     },
     "metadata": {},
     "output_type": "display_data"
    },
    {
     "data": {
      "text/plain": [
       "\">>>>>> iteration 11:O\""
      ]
     },
     "metadata": {},
     "output_type": "display_data"
    },
    {
     "data": {
      "text/plain": [
       "\">>>>>> iteration 12:O\""
      ]
     },
     "metadata": {},
     "output_type": "display_data"
    },
    {
     "data": {
      "text/plain": [
       "\">>>>>> iteration 13:O\""
      ]
     },
     "metadata": {},
     "output_type": "display_data"
    },
    {
     "data": {
      "text/plain": [
       "\">>>>>> iteration 14:O\""
      ]
     },
     "metadata": {},
     "output_type": "display_data"
    },
    {
     "data": {
      "text/plain": [
       "\">>>>>> iteration 15:O\""
      ]
     },
     "metadata": {},
     "output_type": "display_data"
    },
    {
     "name": "stdout",
     "output_type": "stream",
     "text": [
      "MC: 1>> Time: 5\n",
      "MC: 1>> Time: 6\n",
      "MC: 1>> Time: 7\n",
      "MC: 1>> Time: 8\n"
     ]
    },
    {
     "data": {
      "text/plain": [
       "\">>>>>> iteration 1:O\""
      ]
     },
     "metadata": {},
     "output_type": "display_data"
    },
    {
     "data": {
      "text/plain": [
       "\">>>>>> iteration 2:O\""
      ]
     },
     "metadata": {},
     "output_type": "display_data"
    },
    {
     "data": {
      "text/plain": [
       "\">>>>>> iteration 3:O\""
      ]
     },
     "metadata": {},
     "output_type": "display_data"
    },
    {
     "data": {
      "text/plain": [
       "\">>>>>> iteration 4:O\""
      ]
     },
     "metadata": {},
     "output_type": "display_data"
    },
    {
     "data": {
      "text/plain": [
       "\">>>>>> iteration 5:O\""
      ]
     },
     "metadata": {},
     "output_type": "display_data"
    },
    {
     "data": {
      "text/plain": [
       "\">>>>>> iteration 6:O\""
      ]
     },
     "metadata": {},
     "output_type": "display_data"
    },
    {
     "data": {
      "text/plain": [
       "\">>>>>> iteration 7:O\""
      ]
     },
     "metadata": {},
     "output_type": "display_data"
    },
    {
     "data": {
      "text/plain": [
       "\">>>>>> iteration 8:O\""
      ]
     },
     "metadata": {},
     "output_type": "display_data"
    },
    {
     "data": {
      "text/plain": [
       "\">>>>>> iteration 9:O\""
      ]
     },
     "metadata": {},
     "output_type": "display_data"
    },
    {
     "data": {
      "text/plain": [
       "\">>>>>> iteration 10:O\""
      ]
     },
     "metadata": {},
     "output_type": "display_data"
    },
    {
     "data": {
      "text/plain": [
       "\">>>>>> iteration 11:O\""
      ]
     },
     "metadata": {},
     "output_type": "display_data"
    },
    {
     "data": {
      "text/plain": [
       "\">>>>>> iteration 12:O\""
      ]
     },
     "metadata": {},
     "output_type": "display_data"
    },
    {
     "data": {
      "text/plain": [
       "\">>>>>> iteration 13:O\""
      ]
     },
     "metadata": {},
     "output_type": "display_data"
    },
    {
     "data": {
      "text/plain": [
       "\">>>>>> iteration 14:O\""
      ]
     },
     "metadata": {},
     "output_type": "display_data"
    },
    {
     "data": {
      "text/plain": [
       "\">>>>>> iteration 15:O\""
      ]
     },
     "metadata": {},
     "output_type": "display_data"
    },
    {
     "data": {
      "text/plain": [
       "\">>>>>> iteration 16:O\""
      ]
     },
     "metadata": {},
     "output_type": "display_data"
    },
    {
     "data": {
      "text/plain": [
       "\">>>>>> iteration 17:O\""
      ]
     },
     "metadata": {},
     "output_type": "display_data"
    },
    {
     "data": {
      "text/plain": [
       "\">>>>>> iteration 18:O\""
      ]
     },
     "metadata": {},
     "output_type": "display_data"
    },
    {
     "data": {
      "text/plain": [
       "\">>>>>> iteration 19:O\""
      ]
     },
     "metadata": {},
     "output_type": "display_data"
    },
    {
     "data": {
      "text/plain": [
       "\">>>>>> iteration 20:O\""
      ]
     },
     "metadata": {},
     "output_type": "display_data"
    },
    {
     "data": {
      "text/plain": [
       "\">>>>>> iteration 21:O\""
      ]
     },
     "metadata": {},
     "output_type": "display_data"
    },
    {
     "data": {
      "text/plain": [
       "\">>>>>> iteration 22:O\""
      ]
     },
     "metadata": {},
     "output_type": "display_data"
    },
    {
     "data": {
      "text/plain": [
       "\">>>>>> iteration 23:O\""
      ]
     },
     "metadata": {},
     "output_type": "display_data"
    },
    {
     "data": {
      "text/plain": [
       "\">>>>>> iteration 24:O\""
      ]
     },
     "metadata": {},
     "output_type": "display_data"
    },
    {
     "data": {
      "text/plain": [
       "\">>>>>> iteration 25:O\""
      ]
     },
     "metadata": {},
     "output_type": "display_data"
    },
    {
     "name": "stdout",
     "output_type": "stream",
     "text": [
      "MC: 1>> Time: 9\n",
      "MC: 1>> Time: 10\n",
      "MC: 1>> Time: 11\n",
      "MC: 1>> Time: 12\n"
     ]
    },
    {
     "data": {
      "text/plain": [
       "\">>>>>> iteration 1:O\""
      ]
     },
     "metadata": {},
     "output_type": "display_data"
    },
    {
     "data": {
      "text/plain": [
       "\">>>>>> iteration 2:O\""
      ]
     },
     "metadata": {},
     "output_type": "display_data"
    },
    {
     "data": {
      "text/plain": [
       "\">>>>>> iteration 3:O\""
      ]
     },
     "metadata": {},
     "output_type": "display_data"
    },
    {
     "data": {
      "text/plain": [
       "\">>>>>> iteration 4:O\""
      ]
     },
     "metadata": {},
     "output_type": "display_data"
    },
    {
     "data": {
      "text/plain": [
       "\">>>>>> iteration 5:O\""
      ]
     },
     "metadata": {},
     "output_type": "display_data"
    },
    {
     "data": {
      "text/plain": [
       "\">>>>>> iteration 6:O\""
      ]
     },
     "metadata": {},
     "output_type": "display_data"
    },
    {
     "data": {
      "text/plain": [
       "\">>>>>> iteration 7:O\""
      ]
     },
     "metadata": {},
     "output_type": "display_data"
    },
    {
     "data": {
      "text/plain": [
       "\">>>>>> iteration 8:O\""
      ]
     },
     "metadata": {},
     "output_type": "display_data"
    },
    {
     "data": {
      "text/plain": [
       "\">>>>>> iteration 9:O\""
      ]
     },
     "metadata": {},
     "output_type": "display_data"
    },
    {
     "data": {
      "text/plain": [
       "\">>>>>> iteration 10:O\""
      ]
     },
     "metadata": {},
     "output_type": "display_data"
    },
    {
     "data": {
      "text/plain": [
       "\">>>>>> iteration 11:O\""
      ]
     },
     "metadata": {},
     "output_type": "display_data"
    },
    {
     "data": {
      "text/plain": [
       "\">>>>>> iteration 12:O\""
      ]
     },
     "metadata": {},
     "output_type": "display_data"
    },
    {
     "data": {
      "text/plain": [
       "\">>>>>> iteration 13:O\""
      ]
     },
     "metadata": {},
     "output_type": "display_data"
    },
    {
     "data": {
      "text/plain": [
       "\">>>>>> iteration 14:O\""
      ]
     },
     "metadata": {},
     "output_type": "display_data"
    },
    {
     "data": {
      "text/plain": [
       "\">>>>>> iteration 15:O\""
      ]
     },
     "metadata": {},
     "output_type": "display_data"
    },
    {
     "data": {
      "text/plain": [
       "\">>>>>> iteration 16:O\""
      ]
     },
     "metadata": {},
     "output_type": "display_data"
    },
    {
     "data": {
      "text/plain": [
       "\">>>>>> iteration 17:O\""
      ]
     },
     "metadata": {},
     "output_type": "display_data"
    },
    {
     "data": {
      "text/plain": [
       "\">>>>>> iteration 18:O\""
      ]
     },
     "metadata": {},
     "output_type": "display_data"
    },
    {
     "data": {
      "text/plain": [
       "\">>>>>> iteration 19:O\""
      ]
     },
     "metadata": {},
     "output_type": "display_data"
    },
    {
     "data": {
      "text/plain": [
       "\">>>>>> iteration 20:O\""
      ]
     },
     "metadata": {},
     "output_type": "display_data"
    },
    {
     "data": {
      "text/plain": [
       "\">>>>>> iteration 21:O\""
      ]
     },
     "metadata": {},
     "output_type": "display_data"
    },
    {
     "data": {
      "text/plain": [
       "\">>>>>> iteration 22:O\""
      ]
     },
     "metadata": {},
     "output_type": "display_data"
    },
    {
     "data": {
      "text/plain": [
       "\">>>>>> iteration 23:O\""
      ]
     },
     "metadata": {},
     "output_type": "display_data"
    },
    {
     "data": {
      "text/plain": [
       "\">>>>>> iteration 24:O\""
      ]
     },
     "metadata": {},
     "output_type": "display_data"
    },
    {
     "data": {
      "text/plain": [
       "\">>>>>> iteration 25:O\""
      ]
     },
     "metadata": {},
     "output_type": "display_data"
    },
    {
     "data": {
      "text/plain": [
       "\">>>>>> iteration 26:O\""
      ]
     },
     "metadata": {},
     "output_type": "display_data"
    },
    {
     "data": {
      "text/plain": [
       "\">>>>>> iteration 27:O\""
      ]
     },
     "metadata": {},
     "output_type": "display_data"
    },
    {
     "data": {
      "text/plain": [
       "\">>>>>> iteration 28:O\""
      ]
     },
     "metadata": {},
     "output_type": "display_data"
    },
    {
     "data": {
      "text/plain": [
       "\">>>>>> iteration 29:O\""
      ]
     },
     "metadata": {},
     "output_type": "display_data"
    },
    {
     "data": {
      "text/plain": [
       "\">>>>>> iteration 30:O\""
      ]
     },
     "metadata": {},
     "output_type": "display_data"
    },
    {
     "data": {
      "text/plain": [
       "\">>>>>> iteration 31:O\""
      ]
     },
     "metadata": {},
     "output_type": "display_data"
    },
    {
     "data": {
      "text/plain": [
       "\">>>>>> iteration 32:O\""
      ]
     },
     "metadata": {},
     "output_type": "display_data"
    },
    {
     "data": {
      "text/plain": [
       "\">>>>>> iteration 33:O\""
      ]
     },
     "metadata": {},
     "output_type": "display_data"
    },
    {
     "data": {
      "text/plain": [
       "\">>>>>> iteration 34:O\""
      ]
     },
     "metadata": {},
     "output_type": "display_data"
    },
    {
     "data": {
      "text/plain": [
       "\">>>>>> iteration 35:O\""
      ]
     },
     "metadata": {},
     "output_type": "display_data"
    },
    {
     "data": {
      "text/plain": [
       "\">>>>>> iteration 36:O\""
      ]
     },
     "metadata": {},
     "output_type": "display_data"
    },
    {
     "data": {
      "text/plain": [
       "\">>>>>> iteration 37:O\""
      ]
     },
     "metadata": {},
     "output_type": "display_data"
    },
    {
     "data": {
      "text/plain": [
       "\">>>>>> iteration 38:F\""
      ]
     },
     "metadata": {},
     "output_type": "display_data"
    },
    {
     "data": {
      "text/plain": [
       "\">>>>>> iteration 39:O\""
      ]
     },
     "metadata": {},
     "output_type": "display_data"
    },
    {
     "name": "stdout",
     "output_type": "stream",
     "text": [
      "MC: 1>> Time: 13\n",
      "MC: 1>> Time: 14\n",
      "MC: 1>> Time: 15\n",
      "MC: 1>> Time: 16\n"
     ]
    },
    {
     "data": {
      "text/plain": [
       "\">>>>>> iteration 1:O\""
      ]
     },
     "metadata": {},
     "output_type": "display_data"
    },
    {
     "data": {
      "text/plain": [
       "\">>>>>> iteration 2:O\""
      ]
     },
     "metadata": {},
     "output_type": "display_data"
    },
    {
     "data": {
      "text/plain": [
       "\">>>>>> iteration 3:O\""
      ]
     },
     "metadata": {},
     "output_type": "display_data"
    },
    {
     "data": {
      "text/plain": [
       "\">>>>>> iteration 4:O\""
      ]
     },
     "metadata": {},
     "output_type": "display_data"
    },
    {
     "data": {
      "text/plain": [
       "\">>>>>> iteration 5:O\""
      ]
     },
     "metadata": {},
     "output_type": "display_data"
    },
    {
     "data": {
      "text/plain": [
       "\">>>>>> iteration 6:O\""
      ]
     },
     "metadata": {},
     "output_type": "display_data"
    },
    {
     "data": {
      "text/plain": [
       "\">>>>>> iteration 7:O\""
      ]
     },
     "metadata": {},
     "output_type": "display_data"
    },
    {
     "data": {
      "text/plain": [
       "\">>>>>> iteration 8:O\""
      ]
     },
     "metadata": {},
     "output_type": "display_data"
    },
    {
     "data": {
      "text/plain": [
       "\">>>>>> iteration 9:O\""
      ]
     },
     "metadata": {},
     "output_type": "display_data"
    },
    {
     "data": {
      "text/plain": [
       "\">>>>>> iteration 10:O\""
      ]
     },
     "metadata": {},
     "output_type": "display_data"
    },
    {
     "data": {
      "text/plain": [
       "\">>>>>> iteration 11:O\""
      ]
     },
     "metadata": {},
     "output_type": "display_data"
    },
    {
     "data": {
      "text/plain": [
       "\">>>>>> iteration 12:O\""
      ]
     },
     "metadata": {},
     "output_type": "display_data"
    },
    {
     "data": {
      "text/plain": [
       "\">>>>>> iteration 13:O\""
      ]
     },
     "metadata": {},
     "output_type": "display_data"
    },
    {
     "data": {
      "text/plain": [
       "\">>>>>> iteration 14:O\""
      ]
     },
     "metadata": {},
     "output_type": "display_data"
    },
    {
     "data": {
      "text/plain": [
       "\">>>>>> iteration 15:O\""
      ]
     },
     "metadata": {},
     "output_type": "display_data"
    },
    {
     "data": {
      "text/plain": [
       "\">>>>>> iteration 16:O\""
      ]
     },
     "metadata": {},
     "output_type": "display_data"
    },
    {
     "data": {
      "text/plain": [
       "\">>>>>> iteration 17:O\""
      ]
     },
     "metadata": {},
     "output_type": "display_data"
    },
    {
     "data": {
      "text/plain": [
       "\">>>>>> iteration 18:O\""
      ]
     },
     "metadata": {},
     "output_type": "display_data"
    },
    {
     "data": {
      "text/plain": [
       "\">>>>>> iteration 19:O\""
      ]
     },
     "metadata": {},
     "output_type": "display_data"
    },
    {
     "data": {
      "text/plain": [
       "\">>>>>> iteration 20:O\""
      ]
     },
     "metadata": {},
     "output_type": "display_data"
    },
    {
     "data": {
      "text/plain": [
       "\">>>>>> iteration 21:O\""
      ]
     },
     "metadata": {},
     "output_type": "display_data"
    },
    {
     "data": {
      "text/plain": [
       "\">>>>>> iteration 22:O\""
      ]
     },
     "metadata": {},
     "output_type": "display_data"
    },
    {
     "data": {
      "text/plain": [
       "\">>>>>> iteration 23:O\""
      ]
     },
     "metadata": {},
     "output_type": "display_data"
    },
    {
     "data": {
      "text/plain": [
       "\">>>>>> iteration 24:O\""
      ]
     },
     "metadata": {},
     "output_type": "display_data"
    },
    {
     "data": {
      "text/plain": [
       "\">>>>>> iteration 25:O\""
      ]
     },
     "metadata": {},
     "output_type": "display_data"
    },
    {
     "data": {
      "text/plain": [
       "\">>>>>> iteration 26:O\""
      ]
     },
     "metadata": {},
     "output_type": "display_data"
    },
    {
     "data": {
      "text/plain": [
       "\">>>>>> iteration 27:O\""
      ]
     },
     "metadata": {},
     "output_type": "display_data"
    },
    {
     "data": {
      "text/plain": [
       "\">>>>>> iteration 28:F\""
      ]
     },
     "metadata": {},
     "output_type": "display_data"
    },
    {
     "data": {
      "text/plain": [
       "\">>>>>> iteration 29:O\""
      ]
     },
     "metadata": {},
     "output_type": "display_data"
    },
    {
     "data": {
      "text/plain": [
       "\">>>>>> iteration 30:O\""
      ]
     },
     "metadata": {},
     "output_type": "display_data"
    },
    {
     "data": {
      "text/plain": [
       "\">>>>>> iteration 31:O\""
      ]
     },
     "metadata": {},
     "output_type": "display_data"
    },
    {
     "data": {
      "text/plain": [
       "\">>>>>> iteration 32:O\""
      ]
     },
     "metadata": {},
     "output_type": "display_data"
    },
    {
     "data": {
      "text/plain": [
       "\">>>>>> iteration 33:O\""
      ]
     },
     "metadata": {},
     "output_type": "display_data"
    },
    {
     "data": {
      "text/plain": [
       "\">>>>>> iteration 34:O\""
      ]
     },
     "metadata": {},
     "output_type": "display_data"
    },
    {
     "data": {
      "text/plain": [
       "\">>>>>> iteration 35:O\""
      ]
     },
     "metadata": {},
     "output_type": "display_data"
    },
    {
     "data": {
      "text/plain": [
       "\">>>>>> iteration 36:O\""
      ]
     },
     "metadata": {},
     "output_type": "display_data"
    },
    {
     "data": {
      "text/plain": [
       "\">>>>>> iteration 37:O\""
      ]
     },
     "metadata": {},
     "output_type": "display_data"
    },
    {
     "data": {
      "text/plain": [
       "\">>>>>> iteration 38:O\""
      ]
     },
     "metadata": {},
     "output_type": "display_data"
    },
    {
     "data": {
      "text/plain": [
       "\">>>>>> iteration 39:O\""
      ]
     },
     "metadata": {},
     "output_type": "display_data"
    },
    {
     "name": "stdout",
     "output_type": "stream",
     "text": [
      "MC: 1>> Time: 17\n",
      "MC: 1>> Time: 18\n",
      "MC: 1>> Time: 19\n",
      "MC: 1>> Time: 20\n"
     ]
    },
    {
     "data": {
      "text/plain": [
       "\">>>>>> iteration 1:O\""
      ]
     },
     "metadata": {},
     "output_type": "display_data"
    },
    {
     "data": {
      "text/plain": [
       "\">>>>>> iteration 2:O\""
      ]
     },
     "metadata": {},
     "output_type": "display_data"
    },
    {
     "data": {
      "text/plain": [
       "\">>>>>> iteration 3:O\""
      ]
     },
     "metadata": {},
     "output_type": "display_data"
    },
    {
     "data": {
      "text/plain": [
       "\">>>>>> iteration 4:O\""
      ]
     },
     "metadata": {},
     "output_type": "display_data"
    },
    {
     "data": {
      "text/plain": [
       "\">>>>>> iteration 5:O\""
      ]
     },
     "metadata": {},
     "output_type": "display_data"
    },
    {
     "data": {
      "text/plain": [
       "\">>>>>> iteration 6:O\""
      ]
     },
     "metadata": {},
     "output_type": "display_data"
    },
    {
     "data": {
      "text/plain": [
       "\">>>>>> iteration 7:O\""
      ]
     },
     "metadata": {},
     "output_type": "display_data"
    },
    {
     "data": {
      "text/plain": [
       "\">>>>>> iteration 8:O\""
      ]
     },
     "metadata": {},
     "output_type": "display_data"
    },
    {
     "data": {
      "text/plain": [
       "\">>>>>> iteration 9:O\""
      ]
     },
     "metadata": {},
     "output_type": "display_data"
    },
    {
     "data": {
      "text/plain": [
       "\">>>>>> iteration 10:O\""
      ]
     },
     "metadata": {},
     "output_type": "display_data"
    },
    {
     "data": {
      "text/plain": [
       "\">>>>>> iteration 11:O\""
      ]
     },
     "metadata": {},
     "output_type": "display_data"
    },
    {
     "data": {
      "text/plain": [
       "\">>>>>> iteration 12:O\""
      ]
     },
     "metadata": {},
     "output_type": "display_data"
    },
    {
     "data": {
      "text/plain": [
       "\">>>>>> iteration 13:O\""
      ]
     },
     "metadata": {},
     "output_type": "display_data"
    },
    {
     "data": {
      "text/plain": [
       "\">>>>>> iteration 14:O\""
      ]
     },
     "metadata": {},
     "output_type": "display_data"
    },
    {
     "data": {
      "text/plain": [
       "\">>>>>> iteration 15:O\""
      ]
     },
     "metadata": {},
     "output_type": "display_data"
    },
    {
     "data": {
      "text/plain": [
       "\">>>>>> iteration 16:O\""
      ]
     },
     "metadata": {},
     "output_type": "display_data"
    },
    {
     "data": {
      "text/plain": [
       "\">>>>>> iteration 17:O\""
      ]
     },
     "metadata": {},
     "output_type": "display_data"
    },
    {
     "data": {
      "text/plain": [
       "\">>>>>> iteration 18:O\""
      ]
     },
     "metadata": {},
     "output_type": "display_data"
    },
    {
     "data": {
      "text/plain": [
       "\">>>>>> iteration 19:O\""
      ]
     },
     "metadata": {},
     "output_type": "display_data"
    },
    {
     "data": {
      "text/plain": [
       "\">>>>>> iteration 20:F\""
      ]
     },
     "metadata": {},
     "output_type": "display_data"
    },
    {
     "data": {
      "text/plain": [
       "\">>>>>> iteration 21:O\""
      ]
     },
     "metadata": {},
     "output_type": "display_data"
    },
    {
     "data": {
      "text/plain": [
       "\">>>>>> iteration 22:O\""
      ]
     },
     "metadata": {},
     "output_type": "display_data"
    },
    {
     "data": {
      "text/plain": [
       "\">>>>>> iteration 23:O\""
      ]
     },
     "metadata": {},
     "output_type": "display_data"
    },
    {
     "data": {
      "text/plain": [
       "\">>>>>> iteration 24:O\""
      ]
     },
     "metadata": {},
     "output_type": "display_data"
    },
    {
     "data": {
      "text/plain": [
       "\">>>>>> iteration 25:O\""
      ]
     },
     "metadata": {},
     "output_type": "display_data"
    },
    {
     "data": {
      "text/plain": [
       "\">>>>>> iteration 26:O\""
      ]
     },
     "metadata": {},
     "output_type": "display_data"
    },
    {
     "data": {
      "text/plain": [
       "\">>>>>> iteration 27:O\""
      ]
     },
     "metadata": {},
     "output_type": "display_data"
    },
    {
     "data": {
      "text/plain": [
       "\">>>>>> iteration 28:O\""
      ]
     },
     "metadata": {},
     "output_type": "display_data"
    },
    {
     "data": {
      "text/plain": [
       "\">>>>>> iteration 29:O\""
      ]
     },
     "metadata": {},
     "output_type": "display_data"
    },
    {
     "data": {
      "text/plain": [
       "\">>>>>> iteration 30:O\""
      ]
     },
     "metadata": {},
     "output_type": "display_data"
    },
    {
     "data": {
      "text/plain": [
       "\">>>>>> iteration 31:O\""
      ]
     },
     "metadata": {},
     "output_type": "display_data"
    },
    {
     "data": {
      "text/plain": [
       "\">>>>>> iteration 32:O\""
      ]
     },
     "metadata": {},
     "output_type": "display_data"
    },
    {
     "data": {
      "text/plain": [
       "\">>>>>> iteration 33:O\""
      ]
     },
     "metadata": {},
     "output_type": "display_data"
    },
    {
     "data": {
      "text/plain": [
       "\">>>>>> iteration 34:O\""
      ]
     },
     "metadata": {},
     "output_type": "display_data"
    },
    {
     "data": {
      "text/plain": [
       "\">>>>>> iteration 35:O\""
      ]
     },
     "metadata": {},
     "output_type": "display_data"
    },
    {
     "data": {
      "text/plain": [
       "\">>>>>> iteration 36:O\""
      ]
     },
     "metadata": {},
     "output_type": "display_data"
    },
    {
     "name": "stdout",
     "output_type": "stream",
     "text": [
      "MC: 2>> Time: 1\n",
      "MC: 2>> Time: 2\n",
      "MC: 2>> Time: 3\n",
      "MC: 2>> Time: 4\n",
      "MC: 2>> Time: 5\n",
      "MC: 2>> Time: 6\n",
      "MC: 2>> Time: 7\n",
      "MC: 2>> Time: 8\n",
      "MC: 2>> Time: 9\n",
      "MC: 2>> Time: 10\n",
      "MC: 2>> Time: 11\n",
      "MC: 2>> Time: 12\n",
      "MC: 2>> Time: 13\n",
      "MC: 2>> Time: 14\n",
      "MC: 2>> Time: 15\n",
      "MC: 2>> Time: 16\n",
      "MC: 2>> Time: 17\n",
      "MC: 2>> Time: 18\n",
      "MC: 2>> Time: 19\n",
      "MC: 2>> Time: 20\n",
      "MC: 2>> Time: 1\n"
     ]
    },
    {
     "data": {
      "text/plain": [
       "\">>>>>> iteration 1:O\""
      ]
     },
     "metadata": {},
     "output_type": "display_data"
    },
    {
     "data": {
      "text/plain": [
       "\">>>>>> iteration 2:O\""
      ]
     },
     "metadata": {},
     "output_type": "display_data"
    },
    {
     "data": {
      "text/plain": [
       "\">>>>>> iteration 3:O\""
      ]
     },
     "metadata": {},
     "output_type": "display_data"
    },
    {
     "data": {
      "text/plain": [
       "\">>>>>> iteration 4:O\""
      ]
     },
     "metadata": {},
     "output_type": "display_data"
    },
    {
     "data": {
      "text/plain": [
       "\">>>>>> iteration 5:O\""
      ]
     },
     "metadata": {},
     "output_type": "display_data"
    },
    {
     "data": {
      "text/plain": [
       "\">>>>>> iteration 6:O\""
      ]
     },
     "metadata": {},
     "output_type": "display_data"
    },
    {
     "name": "stdout",
     "output_type": "stream",
     "text": [
      "MC: 2>> Time: 2\n",
      "MC: 2>> Time: 3\n",
      "MC: 2>> Time: 4\n"
     ]
    },
    {
     "data": {
      "text/plain": [
       "\">>>>>> iteration 1:O\""
      ]
     },
     "metadata": {},
     "output_type": "display_data"
    },
    {
     "data": {
      "text/plain": [
       "\">>>>>> iteration 2:O\""
      ]
     },
     "metadata": {},
     "output_type": "display_data"
    },
    {
     "data": {
      "text/plain": [
       "\">>>>>> iteration 3:O\""
      ]
     },
     "metadata": {},
     "output_type": "display_data"
    },
    {
     "data": {
      "text/plain": [
       "\">>>>>> iteration 4:O\""
      ]
     },
     "metadata": {},
     "output_type": "display_data"
    },
    {
     "data": {
      "text/plain": [
       "\">>>>>> iteration 5:O\""
      ]
     },
     "metadata": {},
     "output_type": "display_data"
    },
    {
     "data": {
      "text/plain": [
       "\">>>>>> iteration 6:O\""
      ]
     },
     "metadata": {},
     "output_type": "display_data"
    },
    {
     "data": {
      "text/plain": [
       "\">>>>>> iteration 7:O\""
      ]
     },
     "metadata": {},
     "output_type": "display_data"
    },
    {
     "data": {
      "text/plain": [
       "\">>>>>> iteration 8:O\""
      ]
     },
     "metadata": {},
     "output_type": "display_data"
    },
    {
     "data": {
      "text/plain": [
       "\">>>>>> iteration 9:O\""
      ]
     },
     "metadata": {},
     "output_type": "display_data"
    },
    {
     "data": {
      "text/plain": [
       "\">>>>>> iteration 10:O\""
      ]
     },
     "metadata": {},
     "output_type": "display_data"
    },
    {
     "data": {
      "text/plain": [
       "\">>>>>> iteration 11:O\""
      ]
     },
     "metadata": {},
     "output_type": "display_data"
    },
    {
     "data": {
      "text/plain": [
       "\">>>>>> iteration 12:O\""
      ]
     },
     "metadata": {},
     "output_type": "display_data"
    },
    {
     "data": {
      "text/plain": [
       "\">>>>>> iteration 13:O\""
      ]
     },
     "metadata": {},
     "output_type": "display_data"
    },
    {
     "data": {
      "text/plain": [
       "\">>>>>> iteration 14:O\""
      ]
     },
     "metadata": {},
     "output_type": "display_data"
    },
    {
     "data": {
      "text/plain": [
       "\">>>>>> iteration 15:O\""
      ]
     },
     "metadata": {},
     "output_type": "display_data"
    },
    {
     "data": {
      "text/plain": [
       "\">>>>>> iteration 16:O\""
      ]
     },
     "metadata": {},
     "output_type": "display_data"
    },
    {
     "name": "stdout",
     "output_type": "stream",
     "text": [
      "MC: 2>> Time: 5\n",
      "MC: 2>> Time: 6\n",
      "MC: 2>> Time: 7\n",
      "MC: 2>> Time: 8\n"
     ]
    },
    {
     "data": {
      "text/plain": [
       "\">>>>>> iteration 1:O\""
      ]
     },
     "metadata": {},
     "output_type": "display_data"
    },
    {
     "data": {
      "text/plain": [
       "\">>>>>> iteration 2:O\""
      ]
     },
     "metadata": {},
     "output_type": "display_data"
    },
    {
     "data": {
      "text/plain": [
       "\">>>>>> iteration 3:O\""
      ]
     },
     "metadata": {},
     "output_type": "display_data"
    },
    {
     "data": {
      "text/plain": [
       "\">>>>>> iteration 4:O\""
      ]
     },
     "metadata": {},
     "output_type": "display_data"
    },
    {
     "data": {
      "text/plain": [
       "\">>>>>> iteration 5:O\""
      ]
     },
     "metadata": {},
     "output_type": "display_data"
    },
    {
     "data": {
      "text/plain": [
       "\">>>>>> iteration 6:O\""
      ]
     },
     "metadata": {},
     "output_type": "display_data"
    },
    {
     "data": {
      "text/plain": [
       "\">>>>>> iteration 7:O\""
      ]
     },
     "metadata": {},
     "output_type": "display_data"
    },
    {
     "data": {
      "text/plain": [
       "\">>>>>> iteration 8:O\""
      ]
     },
     "metadata": {},
     "output_type": "display_data"
    },
    {
     "data": {
      "text/plain": [
       "\">>>>>> iteration 9:O\""
      ]
     },
     "metadata": {},
     "output_type": "display_data"
    },
    {
     "data": {
      "text/plain": [
       "\">>>>>> iteration 10:O\""
      ]
     },
     "metadata": {},
     "output_type": "display_data"
    },
    {
     "data": {
      "text/plain": [
       "\">>>>>> iteration 11:O\""
      ]
     },
     "metadata": {},
     "output_type": "display_data"
    },
    {
     "data": {
      "text/plain": [
       "\">>>>>> iteration 12:O\""
      ]
     },
     "metadata": {},
     "output_type": "display_data"
    },
    {
     "data": {
      "text/plain": [
       "\">>>>>> iteration 13:O\""
      ]
     },
     "metadata": {},
     "output_type": "display_data"
    },
    {
     "data": {
      "text/plain": [
       "\">>>>>> iteration 14:O\""
      ]
     },
     "metadata": {},
     "output_type": "display_data"
    },
    {
     "data": {
      "text/plain": [
       "\">>>>>> iteration 15:O\""
      ]
     },
     "metadata": {},
     "output_type": "display_data"
    },
    {
     "data": {
      "text/plain": [
       "\">>>>>> iteration 16:O\""
      ]
     },
     "metadata": {},
     "output_type": "display_data"
    },
    {
     "data": {
      "text/plain": [
       "\">>>>>> iteration 17:O\""
      ]
     },
     "metadata": {},
     "output_type": "display_data"
    },
    {
     "data": {
      "text/plain": [
       "\">>>>>> iteration 18:O\""
      ]
     },
     "metadata": {},
     "output_type": "display_data"
    },
    {
     "data": {
      "text/plain": [
       "\">>>>>> iteration 19:O\""
      ]
     },
     "metadata": {},
     "output_type": "display_data"
    },
    {
     "data": {
      "text/plain": [
       "\">>>>>> iteration 20:O\""
      ]
     },
     "metadata": {},
     "output_type": "display_data"
    },
    {
     "data": {
      "text/plain": [
       "\">>>>>> iteration 21:O\""
      ]
     },
     "metadata": {},
     "output_type": "display_data"
    },
    {
     "data": {
      "text/plain": [
       "\">>>>>> iteration 22:O\""
      ]
     },
     "metadata": {},
     "output_type": "display_data"
    },
    {
     "data": {
      "text/plain": [
       "\">>>>>> iteration 23:O\""
      ]
     },
     "metadata": {},
     "output_type": "display_data"
    },
    {
     "data": {
      "text/plain": [
       "\">>>>>> iteration 24:O\""
      ]
     },
     "metadata": {},
     "output_type": "display_data"
    },
    {
     "data": {
      "text/plain": [
       "\">>>>>> iteration 25:O\""
      ]
     },
     "metadata": {},
     "output_type": "display_data"
    },
    {
     "data": {
      "text/plain": [
       "\">>>>>> iteration 26:O\""
      ]
     },
     "metadata": {},
     "output_type": "display_data"
    },
    {
     "data": {
      "text/plain": [
       "\">>>>>> iteration 27:O\""
      ]
     },
     "metadata": {},
     "output_type": "display_data"
    },
    {
     "data": {
      "text/plain": [
       "\">>>>>> iteration 28:O\""
      ]
     },
     "metadata": {},
     "output_type": "display_data"
    },
    {
     "data": {
      "text/plain": [
       "\">>>>>> iteration 29:O\""
      ]
     },
     "metadata": {},
     "output_type": "display_data"
    },
    {
     "data": {
      "text/plain": [
       "\">>>>>> iteration 30:O\""
      ]
     },
     "metadata": {},
     "output_type": "display_data"
    },
    {
     "data": {
      "text/plain": [
       "\">>>>>> iteration 31:O\""
      ]
     },
     "metadata": {},
     "output_type": "display_data"
    },
    {
     "data": {
      "text/plain": [
       "\">>>>>> iteration 32:O\""
      ]
     },
     "metadata": {},
     "output_type": "display_data"
    },
    {
     "data": {
      "text/plain": [
       "\">>>>>> iteration 33:O\""
      ]
     },
     "metadata": {},
     "output_type": "display_data"
    },
    {
     "data": {
      "text/plain": [
       "\">>>>>> iteration 34:O\""
      ]
     },
     "metadata": {},
     "output_type": "display_data"
    },
    {
     "data": {
      "text/plain": [
       "\">>>>>> iteration 35:O\""
      ]
     },
     "metadata": {},
     "output_type": "display_data"
    },
    {
     "data": {
      "text/plain": [
       "\">>>>>> iteration 36:O\""
      ]
     },
     "metadata": {},
     "output_type": "display_data"
    },
    {
     "data": {
      "text/plain": [
       "\">>>>>> iteration 37:O\""
      ]
     },
     "metadata": {},
     "output_type": "display_data"
    },
    {
     "data": {
      "text/plain": [
       "\">>>>>> iteration 38:O\""
      ]
     },
     "metadata": {},
     "output_type": "display_data"
    },
    {
     "name": "stdout",
     "output_type": "stream",
     "text": [
      "MC: 2>> Time: 9\n",
      "MC: 2>> Time: 10\n",
      "MC: 2>> Time: 11\n",
      "MC: 2>> Time: 12\n"
     ]
    },
    {
     "data": {
      "text/plain": [
       "\">>>>>> iteration 1:O\""
      ]
     },
     "metadata": {},
     "output_type": "display_data"
    },
    {
     "data": {
      "text/plain": [
       "\">>>>>> iteration 2:O\""
      ]
     },
     "metadata": {},
     "output_type": "display_data"
    },
    {
     "data": {
      "text/plain": [
       "\">>>>>> iteration 3:O\""
      ]
     },
     "metadata": {},
     "output_type": "display_data"
    },
    {
     "data": {
      "text/plain": [
       "\">>>>>> iteration 4:O\""
      ]
     },
     "metadata": {},
     "output_type": "display_data"
    },
    {
     "data": {
      "text/plain": [
       "\">>>>>> iteration 5:O\""
      ]
     },
     "metadata": {},
     "output_type": "display_data"
    },
    {
     "data": {
      "text/plain": [
       "\">>>>>> iteration 6:O\""
      ]
     },
     "metadata": {},
     "output_type": "display_data"
    },
    {
     "data": {
      "text/plain": [
       "\">>>>>> iteration 7:O\""
      ]
     },
     "metadata": {},
     "output_type": "display_data"
    },
    {
     "data": {
      "text/plain": [
       "\">>>>>> iteration 8:O\""
      ]
     },
     "metadata": {},
     "output_type": "display_data"
    },
    {
     "data": {
      "text/plain": [
       "\">>>>>> iteration 9:O\""
      ]
     },
     "metadata": {},
     "output_type": "display_data"
    },
    {
     "data": {
      "text/plain": [
       "\">>>>>> iteration 10:O\""
      ]
     },
     "metadata": {},
     "output_type": "display_data"
    },
    {
     "data": {
      "text/plain": [
       "\">>>>>> iteration 11:O\""
      ]
     },
     "metadata": {},
     "output_type": "display_data"
    },
    {
     "data": {
      "text/plain": [
       "\">>>>>> iteration 12:O\""
      ]
     },
     "metadata": {},
     "output_type": "display_data"
    },
    {
     "data": {
      "text/plain": [
       "\">>>>>> iteration 13:O\""
      ]
     },
     "metadata": {},
     "output_type": "display_data"
    },
    {
     "data": {
      "text/plain": [
       "\">>>>>> iteration 14:O\""
      ]
     },
     "metadata": {},
     "output_type": "display_data"
    },
    {
     "data": {
      "text/plain": [
       "\">>>>>> iteration 15:O\""
      ]
     },
     "metadata": {},
     "output_type": "display_data"
    },
    {
     "data": {
      "text/plain": [
       "\">>>>>> iteration 16:O\""
      ]
     },
     "metadata": {},
     "output_type": "display_data"
    },
    {
     "data": {
      "text/plain": [
       "\">>>>>> iteration 17:O\""
      ]
     },
     "metadata": {},
     "output_type": "display_data"
    },
    {
     "data": {
      "text/plain": [
       "\">>>>>> iteration 18:O\""
      ]
     },
     "metadata": {},
     "output_type": "display_data"
    },
    {
     "data": {
      "text/plain": [
       "\">>>>>> iteration 19:O\""
      ]
     },
     "metadata": {},
     "output_type": "display_data"
    },
    {
     "data": {
      "text/plain": [
       "\">>>>>> iteration 20:O\""
      ]
     },
     "metadata": {},
     "output_type": "display_data"
    },
    {
     "data": {
      "text/plain": [
       "\">>>>>> iteration 21:O\""
      ]
     },
     "metadata": {},
     "output_type": "display_data"
    },
    {
     "data": {
      "text/plain": [
       "\">>>>>> iteration 22:O\""
      ]
     },
     "metadata": {},
     "output_type": "display_data"
    },
    {
     "data": {
      "text/plain": [
       "\">>>>>> iteration 23:O\""
      ]
     },
     "metadata": {},
     "output_type": "display_data"
    },
    {
     "data": {
      "text/plain": [
       "\">>>>>> iteration 24:O\""
      ]
     },
     "metadata": {},
     "output_type": "display_data"
    },
    {
     "data": {
      "text/plain": [
       "\">>>>>> iteration 25:O\""
      ]
     },
     "metadata": {},
     "output_type": "display_data"
    },
    {
     "data": {
      "text/plain": [
       "\">>>>>> iteration 26:F\""
      ]
     },
     "metadata": {},
     "output_type": "display_data"
    },
    {
     "data": {
      "text/plain": [
       "\">>>>>> iteration 27:O\""
      ]
     },
     "metadata": {},
     "output_type": "display_data"
    },
    {
     "data": {
      "text/plain": [
       "\">>>>>> iteration 28:O\""
      ]
     },
     "metadata": {},
     "output_type": "display_data"
    },
    {
     "data": {
      "text/plain": [
       "\">>>>>> iteration 29:O\""
      ]
     },
     "metadata": {},
     "output_type": "display_data"
    },
    {
     "data": {
      "text/plain": [
       "\">>>>>> iteration 30:O\""
      ]
     },
     "metadata": {},
     "output_type": "display_data"
    },
    {
     "data": {
      "text/plain": [
       "\">>>>>> iteration 31:O\""
      ]
     },
     "metadata": {},
     "output_type": "display_data"
    },
    {
     "data": {
      "text/plain": [
       "\">>>>>> iteration 32:O\""
      ]
     },
     "metadata": {},
     "output_type": "display_data"
    },
    {
     "data": {
      "text/plain": [
       "\">>>>>> iteration 33:O\""
      ]
     },
     "metadata": {},
     "output_type": "display_data"
    },
    {
     "data": {
      "text/plain": [
       "\">>>>>> iteration 34:O\""
      ]
     },
     "metadata": {},
     "output_type": "display_data"
    },
    {
     "data": {
      "text/plain": [
       "\">>>>>> iteration 35:O\""
      ]
     },
     "metadata": {},
     "output_type": "display_data"
    },
    {
     "data": {
      "text/plain": [
       "\">>>>>> iteration 36:O\""
      ]
     },
     "metadata": {},
     "output_type": "display_data"
    },
    {
     "data": {
      "text/plain": [
       "\">>>>>> iteration 37:O\""
      ]
     },
     "metadata": {},
     "output_type": "display_data"
    },
    {
     "data": {
      "text/plain": [
       "\">>>>>> iteration 38:O\""
      ]
     },
     "metadata": {},
     "output_type": "display_data"
    },
    {
     "name": "stdout",
     "output_type": "stream",
     "text": [
      "MC: 2>> Time: 13\n",
      "MC: 2>> Time: 14\n",
      "MC: 2>> Time: 15\n",
      "MC: 2>> Time: 16\n"
     ]
    },
    {
     "data": {
      "text/plain": [
       "\">>>>>> iteration 1:O\""
      ]
     },
     "metadata": {},
     "output_type": "display_data"
    },
    {
     "data": {
      "text/plain": [
       "\">>>>>> iteration 2:O\""
      ]
     },
     "metadata": {},
     "output_type": "display_data"
    },
    {
     "data": {
      "text/plain": [
       "\">>>>>> iteration 3:O\""
      ]
     },
     "metadata": {},
     "output_type": "display_data"
    },
    {
     "data": {
      "text/plain": [
       "\">>>>>> iteration 4:O\""
      ]
     },
     "metadata": {},
     "output_type": "display_data"
    },
    {
     "data": {
      "text/plain": [
       "\">>>>>> iteration 5:O\""
      ]
     },
     "metadata": {},
     "output_type": "display_data"
    },
    {
     "data": {
      "text/plain": [
       "\">>>>>> iteration 6:O\""
      ]
     },
     "metadata": {},
     "output_type": "display_data"
    },
    {
     "data": {
      "text/plain": [
       "\">>>>>> iteration 7:O\""
      ]
     },
     "metadata": {},
     "output_type": "display_data"
    },
    {
     "data": {
      "text/plain": [
       "\">>>>>> iteration 8:O\""
      ]
     },
     "metadata": {},
     "output_type": "display_data"
    },
    {
     "data": {
      "text/plain": [
       "\">>>>>> iteration 9:O\""
      ]
     },
     "metadata": {},
     "output_type": "display_data"
    },
    {
     "data": {
      "text/plain": [
       "\">>>>>> iteration 10:O\""
      ]
     },
     "metadata": {},
     "output_type": "display_data"
    },
    {
     "data": {
      "text/plain": [
       "\">>>>>> iteration 11:O\""
      ]
     },
     "metadata": {},
     "output_type": "display_data"
    },
    {
     "data": {
      "text/plain": [
       "\">>>>>> iteration 12:O\""
      ]
     },
     "metadata": {},
     "output_type": "display_data"
    },
    {
     "data": {
      "text/plain": [
       "\">>>>>> iteration 13:O\""
      ]
     },
     "metadata": {},
     "output_type": "display_data"
    },
    {
     "data": {
      "text/plain": [
       "\">>>>>> iteration 14:O\""
      ]
     },
     "metadata": {},
     "output_type": "display_data"
    },
    {
     "data": {
      "text/plain": [
       "\">>>>>> iteration 15:O\""
      ]
     },
     "metadata": {},
     "output_type": "display_data"
    },
    {
     "data": {
      "text/plain": [
       "\">>>>>> iteration 16:O\""
      ]
     },
     "metadata": {},
     "output_type": "display_data"
    },
    {
     "data": {
      "text/plain": [
       "\">>>>>> iteration 17:O\""
      ]
     },
     "metadata": {},
     "output_type": "display_data"
    },
    {
     "data": {
      "text/plain": [
       "\">>>>>> iteration 18:O\""
      ]
     },
     "metadata": {},
     "output_type": "display_data"
    },
    {
     "data": {
      "text/plain": [
       "\">>>>>> iteration 19:O\""
      ]
     },
     "metadata": {},
     "output_type": "display_data"
    },
    {
     "data": {
      "text/plain": [
       "\">>>>>> iteration 20:O\""
      ]
     },
     "metadata": {},
     "output_type": "display_data"
    },
    {
     "data": {
      "text/plain": [
       "\">>>>>> iteration 21:O\""
      ]
     },
     "metadata": {},
     "output_type": "display_data"
    },
    {
     "data": {
      "text/plain": [
       "\">>>>>> iteration 22:O\""
      ]
     },
     "metadata": {},
     "output_type": "display_data"
    },
    {
     "data": {
      "text/plain": [
       "\">>>>>> iteration 23:O\""
      ]
     },
     "metadata": {},
     "output_type": "display_data"
    },
    {
     "data": {
      "text/plain": [
       "\">>>>>> iteration 24:O\""
      ]
     },
     "metadata": {},
     "output_type": "display_data"
    },
    {
     "data": {
      "text/plain": [
       "\">>>>>> iteration 25:O\""
      ]
     },
     "metadata": {},
     "output_type": "display_data"
    },
    {
     "data": {
      "text/plain": [
       "\">>>>>> iteration 26:O\""
      ]
     },
     "metadata": {},
     "output_type": "display_data"
    },
    {
     "data": {
      "text/plain": [
       "\">>>>>> iteration 27:O\""
      ]
     },
     "metadata": {},
     "output_type": "display_data"
    },
    {
     "data": {
      "text/plain": [
       "\">>>>>> iteration 28:O\""
      ]
     },
     "metadata": {},
     "output_type": "display_data"
    },
    {
     "data": {
      "text/plain": [
       "\">>>>>> iteration 29:O\""
      ]
     },
     "metadata": {},
     "output_type": "display_data"
    },
    {
     "data": {
      "text/plain": [
       "\">>>>>> iteration 30:O\""
      ]
     },
     "metadata": {},
     "output_type": "display_data"
    },
    {
     "data": {
      "text/plain": [
       "\">>>>>> iteration 31:O\""
      ]
     },
     "metadata": {},
     "output_type": "display_data"
    },
    {
     "data": {
      "text/plain": [
       "\">>>>>> iteration 32:F\""
      ]
     },
     "metadata": {},
     "output_type": "display_data"
    },
    {
     "data": {
      "text/plain": [
       "\">>>>>> iteration 33:O\""
      ]
     },
     "metadata": {},
     "output_type": "display_data"
    },
    {
     "data": {
      "text/plain": [
       "\">>>>>> iteration 34:O\""
      ]
     },
     "metadata": {},
     "output_type": "display_data"
    },
    {
     "data": {
      "text/plain": [
       "\">>>>>> iteration 35:O\""
      ]
     },
     "metadata": {},
     "output_type": "display_data"
    },
    {
     "data": {
      "text/plain": [
       "\">>>>>> iteration 36:O\""
      ]
     },
     "metadata": {},
     "output_type": "display_data"
    },
    {
     "data": {
      "text/plain": [
       "\">>>>>> iteration 37:O\""
      ]
     },
     "metadata": {},
     "output_type": "display_data"
    },
    {
     "data": {
      "text/plain": [
       "\">>>>>> iteration 38:O\""
      ]
     },
     "metadata": {},
     "output_type": "display_data"
    },
    {
     "data": {
      "text/plain": [
       "\">>>>>> iteration 39:O\""
      ]
     },
     "metadata": {},
     "output_type": "display_data"
    },
    {
     "data": {
      "text/plain": [
       "\">>>>>> iteration 40:O\""
      ]
     },
     "metadata": {},
     "output_type": "display_data"
    },
    {
     "data": {
      "text/plain": [
       "\">>>>>> iteration 41:O\""
      ]
     },
     "metadata": {},
     "output_type": "display_data"
    },
    {
     "data": {
      "text/plain": [
       "\">>>>>> iteration 42:O\""
      ]
     },
     "metadata": {},
     "output_type": "display_data"
    },
    {
     "data": {
      "text/plain": [
       "\">>>>>> iteration 43:O\""
      ]
     },
     "metadata": {},
     "output_type": "display_data"
    },
    {
     "data": {
      "text/plain": [
       "\">>>>>> iteration 44:O\""
      ]
     },
     "metadata": {},
     "output_type": "display_data"
    },
    {
     "name": "stdout",
     "output_type": "stream",
     "text": [
      "MC: 2>> Time: 17\n",
      "MC: 2>> Time: 18\n",
      "MC: 2>> Time: 19\n",
      "MC: 2>> Time: 20\n"
     ]
    },
    {
     "data": {
      "text/plain": [
       "\">>>>>> iteration 1:O\""
      ]
     },
     "metadata": {},
     "output_type": "display_data"
    },
    {
     "data": {
      "text/plain": [
       "\">>>>>> iteration 2:O\""
      ]
     },
     "metadata": {},
     "output_type": "display_data"
    },
    {
     "data": {
      "text/plain": [
       "\">>>>>> iteration 3:O\""
      ]
     },
     "metadata": {},
     "output_type": "display_data"
    },
    {
     "data": {
      "text/plain": [
       "\">>>>>> iteration 4:O\""
      ]
     },
     "metadata": {},
     "output_type": "display_data"
    },
    {
     "data": {
      "text/plain": [
       "\">>>>>> iteration 5:O\""
      ]
     },
     "metadata": {},
     "output_type": "display_data"
    },
    {
     "data": {
      "text/plain": [
       "\">>>>>> iteration 6:O\""
      ]
     },
     "metadata": {},
     "output_type": "display_data"
    },
    {
     "data": {
      "text/plain": [
       "\">>>>>> iteration 7:O\""
      ]
     },
     "metadata": {},
     "output_type": "display_data"
    },
    {
     "data": {
      "text/plain": [
       "\">>>>>> iteration 8:O\""
      ]
     },
     "metadata": {},
     "output_type": "display_data"
    },
    {
     "data": {
      "text/plain": [
       "\">>>>>> iteration 9:O\""
      ]
     },
     "metadata": {},
     "output_type": "display_data"
    },
    {
     "data": {
      "text/plain": [
       "\">>>>>> iteration 10:O\""
      ]
     },
     "metadata": {},
     "output_type": "display_data"
    },
    {
     "data": {
      "text/plain": [
       "\">>>>>> iteration 11:O\""
      ]
     },
     "metadata": {},
     "output_type": "display_data"
    },
    {
     "data": {
      "text/plain": [
       "\">>>>>> iteration 12:O\""
      ]
     },
     "metadata": {},
     "output_type": "display_data"
    },
    {
     "data": {
      "text/plain": [
       "\">>>>>> iteration 13:O\""
      ]
     },
     "metadata": {},
     "output_type": "display_data"
    },
    {
     "data": {
      "text/plain": [
       "\">>>>>> iteration 14:O\""
      ]
     },
     "metadata": {},
     "output_type": "display_data"
    },
    {
     "data": {
      "text/plain": [
       "\">>>>>> iteration 15:O\""
      ]
     },
     "metadata": {},
     "output_type": "display_data"
    },
    {
     "data": {
      "text/plain": [
       "\">>>>>> iteration 16:O\""
      ]
     },
     "metadata": {},
     "output_type": "display_data"
    },
    {
     "data": {
      "text/plain": [
       "\">>>>>> iteration 17:O\""
      ]
     },
     "metadata": {},
     "output_type": "display_data"
    },
    {
     "data": {
      "text/plain": [
       "\">>>>>> iteration 18:O\""
      ]
     },
     "metadata": {},
     "output_type": "display_data"
    },
    {
     "data": {
      "text/plain": [
       "\">>>>>> iteration 19:O\""
      ]
     },
     "metadata": {},
     "output_type": "display_data"
    },
    {
     "data": {
      "text/plain": [
       "\">>>>>> iteration 20:O\""
      ]
     },
     "metadata": {},
     "output_type": "display_data"
    },
    {
     "data": {
      "text/plain": [
       "\">>>>>> iteration 21:O\""
      ]
     },
     "metadata": {},
     "output_type": "display_data"
    },
    {
     "data": {
      "text/plain": [
       "\">>>>>> iteration 22:O\""
      ]
     },
     "metadata": {},
     "output_type": "display_data"
    },
    {
     "data": {
      "text/plain": [
       "\">>>>>> iteration 23:F\""
      ]
     },
     "metadata": {},
     "output_type": "display_data"
    },
    {
     "data": {
      "text/plain": [
       "\">>>>>> iteration 24:O\""
      ]
     },
     "metadata": {},
     "output_type": "display_data"
    },
    {
     "data": {
      "text/plain": [
       "\">>>>>> iteration 25:O\""
      ]
     },
     "metadata": {},
     "output_type": "display_data"
    },
    {
     "data": {
      "text/plain": [
       "\">>>>>> iteration 26:O\""
      ]
     },
     "metadata": {},
     "output_type": "display_data"
    },
    {
     "data": {
      "text/plain": [
       "\">>>>>> iteration 27:O\""
      ]
     },
     "metadata": {},
     "output_type": "display_data"
    },
    {
     "data": {
      "text/plain": [
       "\">>>>>> iteration 28:O\""
      ]
     },
     "metadata": {},
     "output_type": "display_data"
    },
    {
     "data": {
      "text/plain": [
       "\">>>>>> iteration 29:O\""
      ]
     },
     "metadata": {},
     "output_type": "display_data"
    },
    {
     "data": {
      "text/plain": [
       "\">>>>>> iteration 30:O\""
      ]
     },
     "metadata": {},
     "output_type": "display_data"
    },
    {
     "data": {
      "text/plain": [
       "\">>>>>> iteration 31:O\""
      ]
     },
     "metadata": {},
     "output_type": "display_data"
    },
    {
     "data": {
      "text/plain": [
       "\">>>>>> iteration 32:O\""
      ]
     },
     "metadata": {},
     "output_type": "display_data"
    },
    {
     "data": {
      "text/plain": [
       "\">>>>>> iteration 33:O\""
      ]
     },
     "metadata": {},
     "output_type": "display_data"
    },
    {
     "data": {
      "text/plain": [
       "\">>>>>> iteration 34:O\""
      ]
     },
     "metadata": {},
     "output_type": "display_data"
    },
    {
     "data": {
      "text/plain": [
       "\">>>>>> iteration 35:O\""
      ]
     },
     "metadata": {},
     "output_type": "display_data"
    },
    {
     "data": {
      "text/plain": [
       "\">>>>>> iteration 36:O\""
      ]
     },
     "metadata": {},
     "output_type": "display_data"
    },
    {
     "data": {
      "text/plain": [
       "\">>>>>> iteration 37:O\""
      ]
     },
     "metadata": {},
     "output_type": "display_data"
    },
    {
     "data": {
      "text/plain": [
       "\">>>>>> iteration 38:O\""
      ]
     },
     "metadata": {},
     "output_type": "display_data"
    },
    {
     "data": {
      "text/plain": [
       "\">>>>>> iteration 39:O\""
      ]
     },
     "metadata": {},
     "output_type": "display_data"
    },
    {
     "data": {
      "text/plain": [
       "\">>>>>> iteration 40:O\""
      ]
     },
     "metadata": {},
     "output_type": "display_data"
    },
    {
     "data": {
      "text/plain": [
       "\">>>>>> iteration 41:O\""
      ]
     },
     "metadata": {},
     "output_type": "display_data"
    },
    {
     "data": {
      "text/plain": [
       "\">>>>>> iteration 42:O\""
      ]
     },
     "metadata": {},
     "output_type": "display_data"
    },
    {
     "data": {
      "text/plain": [
       "\">>>>>> iteration 43:O\""
      ]
     },
     "metadata": {},
     "output_type": "display_data"
    },
    {
     "data": {
      "text/plain": [
       "\">>>>>> iteration 44:O\""
      ]
     },
     "metadata": {},
     "output_type": "display_data"
    },
    {
     "name": "stdout",
     "output_type": "stream",
     "text": [
      "MC: 3>> Time: 1\n",
      "MC: 3>> Time: 2\n",
      "MC: 3>> Time: 3\n",
      "MC: 3>> Time: 4\n",
      "MC: 3>> Time: 5\n",
      "MC: 3>> Time: 6\n",
      "MC: 3>> Time: 7\n",
      "MC: 3>> Time: 8\n",
      "MC: 3>> Time: 9\n",
      "MC: 3>> Time: 10\n",
      "MC: 3>> Time: 11\n",
      "MC: 3>> Time: 12\n",
      "MC: 3>> Time: 13\n",
      "MC: 3>> Time: 14\n",
      "MC: 3>> Time: 15\n",
      "MC: 3>> Time: 16\n",
      "MC: 3>> Time: 17\n",
      "MC: 3>> Time: 18\n",
      "MC: 3>> Time: 19\n",
      "MC: 3>> Time: 20\n",
      "MC: 3>> Time: 1\n"
     ]
    },
    {
     "data": {
      "text/plain": [
       "\">>>>>> iteration 1:O\""
      ]
     },
     "metadata": {},
     "output_type": "display_data"
    },
    {
     "data": {
      "text/plain": [
       "\">>>>>> iteration 2:O\""
      ]
     },
     "metadata": {},
     "output_type": "display_data"
    },
    {
     "data": {
      "text/plain": [
       "\">>>>>> iteration 3:O\""
      ]
     },
     "metadata": {},
     "output_type": "display_data"
    },
    {
     "data": {
      "text/plain": [
       "\">>>>>> iteration 4:O\""
      ]
     },
     "metadata": {},
     "output_type": "display_data"
    },
    {
     "data": {
      "text/plain": [
       "\">>>>>> iteration 5:O\""
      ]
     },
     "metadata": {},
     "output_type": "display_data"
    },
    {
     "data": {
      "text/plain": [
       "\">>>>>> iteration 6:O\""
      ]
     },
     "metadata": {},
     "output_type": "display_data"
    },
    {
     "name": "stdout",
     "output_type": "stream",
     "text": [
      "MC: 3>> Time: 2\n",
      "MC: 3>> Time: 3\n",
      "MC: 3>> Time: 4\n"
     ]
    },
    {
     "data": {
      "text/plain": [
       "\">>>>>> iteration 1:O\""
      ]
     },
     "metadata": {},
     "output_type": "display_data"
    },
    {
     "data": {
      "text/plain": [
       "\">>>>>> iteration 2:O\""
      ]
     },
     "metadata": {},
     "output_type": "display_data"
    },
    {
     "data": {
      "text/plain": [
       "\">>>>>> iteration 3:O\""
      ]
     },
     "metadata": {},
     "output_type": "display_data"
    },
    {
     "data": {
      "text/plain": [
       "\">>>>>> iteration 4:O\""
      ]
     },
     "metadata": {},
     "output_type": "display_data"
    },
    {
     "data": {
      "text/plain": [
       "\">>>>>> iteration 5:O\""
      ]
     },
     "metadata": {},
     "output_type": "display_data"
    },
    {
     "data": {
      "text/plain": [
       "\">>>>>> iteration 6:O\""
      ]
     },
     "metadata": {},
     "output_type": "display_data"
    },
    {
     "data": {
      "text/plain": [
       "\">>>>>> iteration 7:O\""
      ]
     },
     "metadata": {},
     "output_type": "display_data"
    },
    {
     "data": {
      "text/plain": [
       "\">>>>>> iteration 8:O\""
      ]
     },
     "metadata": {},
     "output_type": "display_data"
    },
    {
     "data": {
      "text/plain": [
       "\">>>>>> iteration 9:O\""
      ]
     },
     "metadata": {},
     "output_type": "display_data"
    },
    {
     "data": {
      "text/plain": [
       "\">>>>>> iteration 10:O\""
      ]
     },
     "metadata": {},
     "output_type": "display_data"
    },
    {
     "data": {
      "text/plain": [
       "\">>>>>> iteration 11:O\""
      ]
     },
     "metadata": {},
     "output_type": "display_data"
    },
    {
     "data": {
      "text/plain": [
       "\">>>>>> iteration 12:O\""
      ]
     },
     "metadata": {},
     "output_type": "display_data"
    },
    {
     "data": {
      "text/plain": [
       "\">>>>>> iteration 13:O\""
      ]
     },
     "metadata": {},
     "output_type": "display_data"
    },
    {
     "data": {
      "text/plain": [
       "\">>>>>> iteration 14:O\""
      ]
     },
     "metadata": {},
     "output_type": "display_data"
    },
    {
     "name": "stdout",
     "output_type": "stream",
     "text": [
      "MC: 3>> Time: 5\n",
      "MC: 3>> Time: 6\n",
      "MC: 3>> Time: 7\n",
      "MC: 3>> Time: 8\n"
     ]
    },
    {
     "data": {
      "text/plain": [
       "\">>>>>> iteration 1:O\""
      ]
     },
     "metadata": {},
     "output_type": "display_data"
    },
    {
     "data": {
      "text/plain": [
       "\">>>>>> iteration 2:O\""
      ]
     },
     "metadata": {},
     "output_type": "display_data"
    },
    {
     "data": {
      "text/plain": [
       "\">>>>>> iteration 3:O\""
      ]
     },
     "metadata": {},
     "output_type": "display_data"
    },
    {
     "data": {
      "text/plain": [
       "\">>>>>> iteration 4:O\""
      ]
     },
     "metadata": {},
     "output_type": "display_data"
    },
    {
     "data": {
      "text/plain": [
       "\">>>>>> iteration 5:O\""
      ]
     },
     "metadata": {},
     "output_type": "display_data"
    },
    {
     "data": {
      "text/plain": [
       "\">>>>>> iteration 6:O\""
      ]
     },
     "metadata": {},
     "output_type": "display_data"
    },
    {
     "data": {
      "text/plain": [
       "\">>>>>> iteration 7:O\""
      ]
     },
     "metadata": {},
     "output_type": "display_data"
    },
    {
     "data": {
      "text/plain": [
       "\">>>>>> iteration 8:O\""
      ]
     },
     "metadata": {},
     "output_type": "display_data"
    },
    {
     "data": {
      "text/plain": [
       "\">>>>>> iteration 9:O\""
      ]
     },
     "metadata": {},
     "output_type": "display_data"
    },
    {
     "data": {
      "text/plain": [
       "\">>>>>> iteration 10:O\""
      ]
     },
     "metadata": {},
     "output_type": "display_data"
    },
    {
     "data": {
      "text/plain": [
       "\">>>>>> iteration 11:O\""
      ]
     },
     "metadata": {},
     "output_type": "display_data"
    },
    {
     "data": {
      "text/plain": [
       "\">>>>>> iteration 12:O\""
      ]
     },
     "metadata": {},
     "output_type": "display_data"
    },
    {
     "data": {
      "text/plain": [
       "\">>>>>> iteration 13:O\""
      ]
     },
     "metadata": {},
     "output_type": "display_data"
    },
    {
     "data": {
      "text/plain": [
       "\">>>>>> iteration 14:O\""
      ]
     },
     "metadata": {},
     "output_type": "display_data"
    },
    {
     "data": {
      "text/plain": [
       "\">>>>>> iteration 15:O\""
      ]
     },
     "metadata": {},
     "output_type": "display_data"
    },
    {
     "data": {
      "text/plain": [
       "\">>>>>> iteration 16:O\""
      ]
     },
     "metadata": {},
     "output_type": "display_data"
    },
    {
     "data": {
      "text/plain": [
       "\">>>>>> iteration 17:O\""
      ]
     },
     "metadata": {},
     "output_type": "display_data"
    },
    {
     "data": {
      "text/plain": [
       "\">>>>>> iteration 18:O\""
      ]
     },
     "metadata": {},
     "output_type": "display_data"
    },
    {
     "data": {
      "text/plain": [
       "\">>>>>> iteration 19:O\""
      ]
     },
     "metadata": {},
     "output_type": "display_data"
    },
    {
     "data": {
      "text/plain": [
       "\">>>>>> iteration 20:O\""
      ]
     },
     "metadata": {},
     "output_type": "display_data"
    },
    {
     "data": {
      "text/plain": [
       "\">>>>>> iteration 21:O\""
      ]
     },
     "metadata": {},
     "output_type": "display_data"
    },
    {
     "data": {
      "text/plain": [
       "\">>>>>> iteration 22:O\""
      ]
     },
     "metadata": {},
     "output_type": "display_data"
    },
    {
     "data": {
      "text/plain": [
       "\">>>>>> iteration 23:O\""
      ]
     },
     "metadata": {},
     "output_type": "display_data"
    },
    {
     "data": {
      "text/plain": [
       "\">>>>>> iteration 24:O\""
      ]
     },
     "metadata": {},
     "output_type": "display_data"
    },
    {
     "name": "stdout",
     "output_type": "stream",
     "text": [
      "MC: 3>> Time: 9\n",
      "MC: 3>> Time: 10\n",
      "MC: 3>> Time: 11\n",
      "MC: 3>> Time: 12\n"
     ]
    },
    {
     "data": {
      "text/plain": [
       "\">>>>>> iteration 1:O\""
      ]
     },
     "metadata": {},
     "output_type": "display_data"
    },
    {
     "data": {
      "text/plain": [
       "\">>>>>> iteration 2:O\""
      ]
     },
     "metadata": {},
     "output_type": "display_data"
    },
    {
     "data": {
      "text/plain": [
       "\">>>>>> iteration 3:O\""
      ]
     },
     "metadata": {},
     "output_type": "display_data"
    },
    {
     "data": {
      "text/plain": [
       "\">>>>>> iteration 4:O\""
      ]
     },
     "metadata": {},
     "output_type": "display_data"
    },
    {
     "data": {
      "text/plain": [
       "\">>>>>> iteration 5:O\""
      ]
     },
     "metadata": {},
     "output_type": "display_data"
    },
    {
     "data": {
      "text/plain": [
       "\">>>>>> iteration 6:O\""
      ]
     },
     "metadata": {},
     "output_type": "display_data"
    },
    {
     "data": {
      "text/plain": [
       "\">>>>>> iteration 7:O\""
      ]
     },
     "metadata": {},
     "output_type": "display_data"
    },
    {
     "data": {
      "text/plain": [
       "\">>>>>> iteration 8:O\""
      ]
     },
     "metadata": {},
     "output_type": "display_data"
    },
    {
     "data": {
      "text/plain": [
       "\">>>>>> iteration 9:O\""
      ]
     },
     "metadata": {},
     "output_type": "display_data"
    },
    {
     "data": {
      "text/plain": [
       "\">>>>>> iteration 10:O\""
      ]
     },
     "metadata": {},
     "output_type": "display_data"
    },
    {
     "data": {
      "text/plain": [
       "\">>>>>> iteration 11:O\""
      ]
     },
     "metadata": {},
     "output_type": "display_data"
    },
    {
     "data": {
      "text/plain": [
       "\">>>>>> iteration 12:O\""
      ]
     },
     "metadata": {},
     "output_type": "display_data"
    },
    {
     "data": {
      "text/plain": [
       "\">>>>>> iteration 13:O\""
      ]
     },
     "metadata": {},
     "output_type": "display_data"
    },
    {
     "data": {
      "text/plain": [
       "\">>>>>> iteration 14:O\""
      ]
     },
     "metadata": {},
     "output_type": "display_data"
    },
    {
     "data": {
      "text/plain": [
       "\">>>>>> iteration 15:O\""
      ]
     },
     "metadata": {},
     "output_type": "display_data"
    },
    {
     "data": {
      "text/plain": [
       "\">>>>>> iteration 16:O\""
      ]
     },
     "metadata": {},
     "output_type": "display_data"
    },
    {
     "data": {
      "text/plain": [
       "\">>>>>> iteration 17:O\""
      ]
     },
     "metadata": {},
     "output_type": "display_data"
    },
    {
     "data": {
      "text/plain": [
       "\">>>>>> iteration 18:O\""
      ]
     },
     "metadata": {},
     "output_type": "display_data"
    },
    {
     "data": {
      "text/plain": [
       "\">>>>>> iteration 19:O\""
      ]
     },
     "metadata": {},
     "output_type": "display_data"
    },
    {
     "data": {
      "text/plain": [
       "\">>>>>> iteration 20:O\""
      ]
     },
     "metadata": {},
     "output_type": "display_data"
    },
    {
     "data": {
      "text/plain": [
       "\">>>>>> iteration 21:O\""
      ]
     },
     "metadata": {},
     "output_type": "display_data"
    },
    {
     "data": {
      "text/plain": [
       "\">>>>>> iteration 22:O\""
      ]
     },
     "metadata": {},
     "output_type": "display_data"
    },
    {
     "data": {
      "text/plain": [
       "\">>>>>> iteration 23:O\""
      ]
     },
     "metadata": {},
     "output_type": "display_data"
    },
    {
     "data": {
      "text/plain": [
       "\">>>>>> iteration 24:O\""
      ]
     },
     "metadata": {},
     "output_type": "display_data"
    },
    {
     "data": {
      "text/plain": [
       "\">>>>>> iteration 25:O\""
      ]
     },
     "metadata": {},
     "output_type": "display_data"
    },
    {
     "name": "stdout",
     "output_type": "stream",
     "text": [
      "MC: 3>> Time: 13\n",
      "MC: 3>> Time: 14\n",
      "MC: 3>> Time: 15\n",
      "MC: 3>> Time: 16\n"
     ]
    },
    {
     "data": {
      "text/plain": [
       "\">>>>>> iteration 1:O\""
      ]
     },
     "metadata": {},
     "output_type": "display_data"
    },
    {
     "data": {
      "text/plain": [
       "\">>>>>> iteration 2:O\""
      ]
     },
     "metadata": {},
     "output_type": "display_data"
    },
    {
     "data": {
      "text/plain": [
       "\">>>>>> iteration 3:O\""
      ]
     },
     "metadata": {},
     "output_type": "display_data"
    },
    {
     "data": {
      "text/plain": [
       "\">>>>>> iteration 4:O\""
      ]
     },
     "metadata": {},
     "output_type": "display_data"
    },
    {
     "data": {
      "text/plain": [
       "\">>>>>> iteration 5:O\""
      ]
     },
     "metadata": {},
     "output_type": "display_data"
    },
    {
     "data": {
      "text/plain": [
       "\">>>>>> iteration 6:O\""
      ]
     },
     "metadata": {},
     "output_type": "display_data"
    },
    {
     "data": {
      "text/plain": [
       "\">>>>>> iteration 7:O\""
      ]
     },
     "metadata": {},
     "output_type": "display_data"
    },
    {
     "data": {
      "text/plain": [
       "\">>>>>> iteration 8:O\""
      ]
     },
     "metadata": {},
     "output_type": "display_data"
    },
    {
     "data": {
      "text/plain": [
       "\">>>>>> iteration 9:O\""
      ]
     },
     "metadata": {},
     "output_type": "display_data"
    },
    {
     "data": {
      "text/plain": [
       "\">>>>>> iteration 10:O\""
      ]
     },
     "metadata": {},
     "output_type": "display_data"
    },
    {
     "data": {
      "text/plain": [
       "\">>>>>> iteration 11:O\""
      ]
     },
     "metadata": {},
     "output_type": "display_data"
    },
    {
     "data": {
      "text/plain": [
       "\">>>>>> iteration 12:O\""
      ]
     },
     "metadata": {},
     "output_type": "display_data"
    },
    {
     "data": {
      "text/plain": [
       "\">>>>>> iteration 13:O\""
      ]
     },
     "metadata": {},
     "output_type": "display_data"
    },
    {
     "data": {
      "text/plain": [
       "\">>>>>> iteration 14:O\""
      ]
     },
     "metadata": {},
     "output_type": "display_data"
    },
    {
     "data": {
      "text/plain": [
       "\">>>>>> iteration 15:O\""
      ]
     },
     "metadata": {},
     "output_type": "display_data"
    },
    {
     "data": {
      "text/plain": [
       "\">>>>>> iteration 16:O\""
      ]
     },
     "metadata": {},
     "output_type": "display_data"
    },
    {
     "data": {
      "text/plain": [
       "\">>>>>> iteration 17:O\""
      ]
     },
     "metadata": {},
     "output_type": "display_data"
    },
    {
     "data": {
      "text/plain": [
       "\">>>>>> iteration 18:O\""
      ]
     },
     "metadata": {},
     "output_type": "display_data"
    },
    {
     "data": {
      "text/plain": [
       "\">>>>>> iteration 19:O\""
      ]
     },
     "metadata": {},
     "output_type": "display_data"
    },
    {
     "data": {
      "text/plain": [
       "\">>>>>> iteration 20:O\""
      ]
     },
     "metadata": {},
     "output_type": "display_data"
    },
    {
     "data": {
      "text/plain": [
       "\">>>>>> iteration 21:O\""
      ]
     },
     "metadata": {},
     "output_type": "display_data"
    },
    {
     "data": {
      "text/plain": [
       "\">>>>>> iteration 22:O\""
      ]
     },
     "metadata": {},
     "output_type": "display_data"
    },
    {
     "data": {
      "text/plain": [
       "\">>>>>> iteration 23:O\""
      ]
     },
     "metadata": {},
     "output_type": "display_data"
    },
    {
     "data": {
      "text/plain": [
       "\">>>>>> iteration 24:O\""
      ]
     },
     "metadata": {},
     "output_type": "display_data"
    },
    {
     "data": {
      "text/plain": [
       "\">>>>>> iteration 25:O\""
      ]
     },
     "metadata": {},
     "output_type": "display_data"
    },
    {
     "data": {
      "text/plain": [
       "\">>>>>> iteration 26:O\""
      ]
     },
     "metadata": {},
     "output_type": "display_data"
    },
    {
     "data": {
      "text/plain": [
       "\">>>>>> iteration 27:O\""
      ]
     },
     "metadata": {},
     "output_type": "display_data"
    },
    {
     "data": {
      "text/plain": [
       "\">>>>>> iteration 28:O\""
      ]
     },
     "metadata": {},
     "output_type": "display_data"
    },
    {
     "data": {
      "text/plain": [
       "\">>>>>> iteration 29:O\""
      ]
     },
     "metadata": {},
     "output_type": "display_data"
    },
    {
     "data": {
      "text/plain": [
       "\">>>>>> iteration 30:O\""
      ]
     },
     "metadata": {},
     "output_type": "display_data"
    },
    {
     "data": {
      "text/plain": [
       "\">>>>>> iteration 31:F\""
      ]
     },
     "metadata": {},
     "output_type": "display_data"
    },
    {
     "data": {
      "text/plain": [
       "\">>>>>> iteration 32:O\""
      ]
     },
     "metadata": {},
     "output_type": "display_data"
    },
    {
     "data": {
      "text/plain": [
       "\">>>>>> iteration 33:O\""
      ]
     },
     "metadata": {},
     "output_type": "display_data"
    },
    {
     "data": {
      "text/plain": [
       "\">>>>>> iteration 34:O\""
      ]
     },
     "metadata": {},
     "output_type": "display_data"
    },
    {
     "data": {
      "text/plain": [
       "\">>>>>> iteration 35:O\""
      ]
     },
     "metadata": {},
     "output_type": "display_data"
    },
    {
     "data": {
      "text/plain": [
       "\">>>>>> iteration 36:O\""
      ]
     },
     "metadata": {},
     "output_type": "display_data"
    },
    {
     "data": {
      "text/plain": [
       "\">>>>>> iteration 37:O\""
      ]
     },
     "metadata": {},
     "output_type": "display_data"
    },
    {
     "data": {
      "text/plain": [
       "\">>>>>> iteration 38:O\""
      ]
     },
     "metadata": {},
     "output_type": "display_data"
    },
    {
     "data": {
      "text/plain": [
       "\">>>>>> iteration 39:O\""
      ]
     },
     "metadata": {},
     "output_type": "display_data"
    },
    {
     "data": {
      "text/plain": [
       "\">>>>>> iteration 40:O\""
      ]
     },
     "metadata": {},
     "output_type": "display_data"
    },
    {
     "data": {
      "text/plain": [
       "\">>>>>> iteration 41:O\""
      ]
     },
     "metadata": {},
     "output_type": "display_data"
    },
    {
     "data": {
      "text/plain": [
       "\">>>>>> iteration 42:O\""
      ]
     },
     "metadata": {},
     "output_type": "display_data"
    },
    {
     "data": {
      "text/plain": [
       "\">>>>>> iteration 43:O\""
      ]
     },
     "metadata": {},
     "output_type": "display_data"
    },
    {
     "data": {
      "text/plain": [
       "\">>>>>> iteration 44:O\""
      ]
     },
     "metadata": {},
     "output_type": "display_data"
    },
    {
     "name": "stdout",
     "output_type": "stream",
     "text": [
      "MC: 3>> Time: 17\n",
      "MC: 3>> Time: 18\n",
      "MC: 3>> Time: 19\n",
      "MC: 3>> Time: 20\n"
     ]
    },
    {
     "data": {
      "text/plain": [
       "\">>>>>> iteration 1:O\""
      ]
     },
     "metadata": {},
     "output_type": "display_data"
    },
    {
     "data": {
      "text/plain": [
       "\">>>>>> iteration 2:O\""
      ]
     },
     "metadata": {},
     "output_type": "display_data"
    },
    {
     "data": {
      "text/plain": [
       "\">>>>>> iteration 3:O\""
      ]
     },
     "metadata": {},
     "output_type": "display_data"
    },
    {
     "data": {
      "text/plain": [
       "\">>>>>> iteration 4:O\""
      ]
     },
     "metadata": {},
     "output_type": "display_data"
    },
    {
     "data": {
      "text/plain": [
       "\">>>>>> iteration 5:O\""
      ]
     },
     "metadata": {},
     "output_type": "display_data"
    },
    {
     "data": {
      "text/plain": [
       "\">>>>>> iteration 6:O\""
      ]
     },
     "metadata": {},
     "output_type": "display_data"
    },
    {
     "data": {
      "text/plain": [
       "\">>>>>> iteration 7:O\""
      ]
     },
     "metadata": {},
     "output_type": "display_data"
    },
    {
     "data": {
      "text/plain": [
       "\">>>>>> iteration 8:O\""
      ]
     },
     "metadata": {},
     "output_type": "display_data"
    },
    {
     "data": {
      "text/plain": [
       "\">>>>>> iteration 9:O\""
      ]
     },
     "metadata": {},
     "output_type": "display_data"
    },
    {
     "data": {
      "text/plain": [
       "\">>>>>> iteration 10:O\""
      ]
     },
     "metadata": {},
     "output_type": "display_data"
    },
    {
     "data": {
      "text/plain": [
       "\">>>>>> iteration 11:O\""
      ]
     },
     "metadata": {},
     "output_type": "display_data"
    },
    {
     "data": {
      "text/plain": [
       "\">>>>>> iteration 12:F\""
      ]
     },
     "metadata": {},
     "output_type": "display_data"
    },
    {
     "data": {
      "text/plain": [
       "\">>>>>> iteration 13:O\""
      ]
     },
     "metadata": {},
     "output_type": "display_data"
    },
    {
     "data": {
      "text/plain": [
       "\">>>>>> iteration 14:O\""
      ]
     },
     "metadata": {},
     "output_type": "display_data"
    },
    {
     "data": {
      "text/plain": [
       "\">>>>>> iteration 15:O\""
      ]
     },
     "metadata": {},
     "output_type": "display_data"
    },
    {
     "data": {
      "text/plain": [
       "\">>>>>> iteration 16:O\""
      ]
     },
     "metadata": {},
     "output_type": "display_data"
    },
    {
     "data": {
      "text/plain": [
       "\">>>>>> iteration 17:O\""
      ]
     },
     "metadata": {},
     "output_type": "display_data"
    },
    {
     "data": {
      "text/plain": [
       "\">>>>>> iteration 18:O\""
      ]
     },
     "metadata": {},
     "output_type": "display_data"
    },
    {
     "data": {
      "text/plain": [
       "\">>>>>> iteration 19:O\""
      ]
     },
     "metadata": {},
     "output_type": "display_data"
    },
    {
     "data": {
      "text/plain": [
       "\">>>>>> iteration 20:O\""
      ]
     },
     "metadata": {},
     "output_type": "display_data"
    },
    {
     "data": {
      "text/plain": [
       "\">>>>>> iteration 21:O\""
      ]
     },
     "metadata": {},
     "output_type": "display_data"
    },
    {
     "data": {
      "text/plain": [
       "\">>>>>> iteration 22:O\""
      ]
     },
     "metadata": {},
     "output_type": "display_data"
    },
    {
     "data": {
      "text/plain": [
       "\">>>>>> iteration 23:O\""
      ]
     },
     "metadata": {},
     "output_type": "display_data"
    },
    {
     "name": "stdout",
     "output_type": "stream",
     "text": [
      "MC: 4>> Time: 1\n",
      "MC: 4>> Time: 2\n",
      "MC: 4>> Time: 3\n",
      "MC: 4>> Time: 4\n",
      "MC: 4>> Time: 5\n",
      "MC: 4>> Time: 6\n",
      "MC: 4>> Time: 7\n",
      "MC: 4>> Time: 8\n",
      "MC: 4>> Time: 9\n",
      "MC: 4>> Time: 10\n",
      "MC: 4>> Time: 11\n",
      "MC: 4>> Time: 12\n",
      "MC: 4>> Time: 13\n",
      "MC: 4>> Time: 14\n",
      "MC: 4>> Time: 15\n",
      "MC: 4>> Time: 16\n",
      "MC: 4>> Time: 17\n",
      "MC: 4>> Time: 18\n",
      "MC: 4>> Time: 19\n",
      "MC: 4>> Time: 20\n",
      "MC: 4>> Time: 1\n"
     ]
    },
    {
     "data": {
      "text/plain": [
       "\">>>>>> iteration 1:O\""
      ]
     },
     "metadata": {},
     "output_type": "display_data"
    },
    {
     "data": {
      "text/plain": [
       "\">>>>>> iteration 2:O\""
      ]
     },
     "metadata": {},
     "output_type": "display_data"
    },
    {
     "data": {
      "text/plain": [
       "\">>>>>> iteration 3:O\""
      ]
     },
     "metadata": {},
     "output_type": "display_data"
    },
    {
     "data": {
      "text/plain": [
       "\">>>>>> iteration 4:O\""
      ]
     },
     "metadata": {},
     "output_type": "display_data"
    },
    {
     "data": {
      "text/plain": [
       "\">>>>>> iteration 5:O\""
      ]
     },
     "metadata": {},
     "output_type": "display_data"
    },
    {
     "data": {
      "text/plain": [
       "\">>>>>> iteration 6:O\""
      ]
     },
     "metadata": {},
     "output_type": "display_data"
    },
    {
     "name": "stdout",
     "output_type": "stream",
     "text": [
      "MC: 4>> Time: 2\n",
      "MC: 4>> Time: 3\n",
      "MC: 4>> Time: 4\n"
     ]
    },
    {
     "data": {
      "text/plain": [
       "\">>>>>> iteration 1:O\""
      ]
     },
     "metadata": {},
     "output_type": "display_data"
    },
    {
     "data": {
      "text/plain": [
       "\">>>>>> iteration 2:O\""
      ]
     },
     "metadata": {},
     "output_type": "display_data"
    },
    {
     "data": {
      "text/plain": [
       "\">>>>>> iteration 3:O\""
      ]
     },
     "metadata": {},
     "output_type": "display_data"
    },
    {
     "data": {
      "text/plain": [
       "\">>>>>> iteration 4:O\""
      ]
     },
     "metadata": {},
     "output_type": "display_data"
    },
    {
     "data": {
      "text/plain": [
       "\">>>>>> iteration 5:O\""
      ]
     },
     "metadata": {},
     "output_type": "display_data"
    },
    {
     "data": {
      "text/plain": [
       "\">>>>>> iteration 6:O\""
      ]
     },
     "metadata": {},
     "output_type": "display_data"
    },
    {
     "data": {
      "text/plain": [
       "\">>>>>> iteration 7:O\""
      ]
     },
     "metadata": {},
     "output_type": "display_data"
    },
    {
     "data": {
      "text/plain": [
       "\">>>>>> iteration 8:O\""
      ]
     },
     "metadata": {},
     "output_type": "display_data"
    },
    {
     "data": {
      "text/plain": [
       "\">>>>>> iteration 9:O\""
      ]
     },
     "metadata": {},
     "output_type": "display_data"
    },
    {
     "data": {
      "text/plain": [
       "\">>>>>> iteration 10:O\""
      ]
     },
     "metadata": {},
     "output_type": "display_data"
    },
    {
     "data": {
      "text/plain": [
       "\">>>>>> iteration 11:O\""
      ]
     },
     "metadata": {},
     "output_type": "display_data"
    },
    {
     "data": {
      "text/plain": [
       "\">>>>>> iteration 12:O\""
      ]
     },
     "metadata": {},
     "output_type": "display_data"
    },
    {
     "data": {
      "text/plain": [
       "\">>>>>> iteration 13:O\""
      ]
     },
     "metadata": {},
     "output_type": "display_data"
    },
    {
     "data": {
      "text/plain": [
       "\">>>>>> iteration 14:O\""
      ]
     },
     "metadata": {},
     "output_type": "display_data"
    },
    {
     "data": {
      "text/plain": [
       "\">>>>>> iteration 15:O\""
      ]
     },
     "metadata": {},
     "output_type": "display_data"
    },
    {
     "data": {
      "text/plain": [
       "\">>>>>> iteration 16:O\""
      ]
     },
     "metadata": {},
     "output_type": "display_data"
    },
    {
     "data": {
      "text/plain": [
       "\">>>>>> iteration 17:O\""
      ]
     },
     "metadata": {},
     "output_type": "display_data"
    },
    {
     "data": {
      "text/plain": [
       "\">>>>>> iteration 18:O\""
      ]
     },
     "metadata": {},
     "output_type": "display_data"
    },
    {
     "name": "stdout",
     "output_type": "stream",
     "text": [
      "MC: 4>> Time: 5\n",
      "MC: 4>> Time: 6\n",
      "MC: 4>> Time: 7\n",
      "MC: 4>> Time: 8\n"
     ]
    },
    {
     "data": {
      "text/plain": [
       "\">>>>>> iteration 1:O\""
      ]
     },
     "metadata": {},
     "output_type": "display_data"
    },
    {
     "data": {
      "text/plain": [
       "\">>>>>> iteration 2:O\""
      ]
     },
     "metadata": {},
     "output_type": "display_data"
    },
    {
     "data": {
      "text/plain": [
       "\">>>>>> iteration 3:O\""
      ]
     },
     "metadata": {},
     "output_type": "display_data"
    },
    {
     "data": {
      "text/plain": [
       "\">>>>>> iteration 4:O\""
      ]
     },
     "metadata": {},
     "output_type": "display_data"
    },
    {
     "data": {
      "text/plain": [
       "\">>>>>> iteration 5:O\""
      ]
     },
     "metadata": {},
     "output_type": "display_data"
    },
    {
     "data": {
      "text/plain": [
       "\">>>>>> iteration 6:O\""
      ]
     },
     "metadata": {},
     "output_type": "display_data"
    },
    {
     "data": {
      "text/plain": [
       "\">>>>>> iteration 7:O\""
      ]
     },
     "metadata": {},
     "output_type": "display_data"
    },
    {
     "data": {
      "text/plain": [
       "\">>>>>> iteration 8:O\""
      ]
     },
     "metadata": {},
     "output_type": "display_data"
    },
    {
     "data": {
      "text/plain": [
       "\">>>>>> iteration 9:O\""
      ]
     },
     "metadata": {},
     "output_type": "display_data"
    },
    {
     "data": {
      "text/plain": [
       "\">>>>>> iteration 10:O\""
      ]
     },
     "metadata": {},
     "output_type": "display_data"
    },
    {
     "data": {
      "text/plain": [
       "\">>>>>> iteration 11:O\""
      ]
     },
     "metadata": {},
     "output_type": "display_data"
    },
    {
     "data": {
      "text/plain": [
       "\">>>>>> iteration 12:O\""
      ]
     },
     "metadata": {},
     "output_type": "display_data"
    },
    {
     "data": {
      "text/plain": [
       "\">>>>>> iteration 13:O\""
      ]
     },
     "metadata": {},
     "output_type": "display_data"
    },
    {
     "data": {
      "text/plain": [
       "\">>>>>> iteration 14:O\""
      ]
     },
     "metadata": {},
     "output_type": "display_data"
    },
    {
     "data": {
      "text/plain": [
       "\">>>>>> iteration 15:O\""
      ]
     },
     "metadata": {},
     "output_type": "display_data"
    },
    {
     "data": {
      "text/plain": [
       "\">>>>>> iteration 16:O\""
      ]
     },
     "metadata": {},
     "output_type": "display_data"
    },
    {
     "data": {
      "text/plain": [
       "\">>>>>> iteration 17:O\""
      ]
     },
     "metadata": {},
     "output_type": "display_data"
    },
    {
     "data": {
      "text/plain": [
       "\">>>>>> iteration 18:O\""
      ]
     },
     "metadata": {},
     "output_type": "display_data"
    },
    {
     "data": {
      "text/plain": [
       "\">>>>>> iteration 19:O\""
      ]
     },
     "metadata": {},
     "output_type": "display_data"
    },
    {
     "data": {
      "text/plain": [
       "\">>>>>> iteration 20:O\""
      ]
     },
     "metadata": {},
     "output_type": "display_data"
    },
    {
     "data": {
      "text/plain": [
       "\">>>>>> iteration 21:F\""
      ]
     },
     "metadata": {},
     "output_type": "display_data"
    },
    {
     "data": {
      "text/plain": [
       "\">>>>>> iteration 22:O\""
      ]
     },
     "metadata": {},
     "output_type": "display_data"
    },
    {
     "data": {
      "text/plain": [
       "\">>>>>> iteration 23:O\""
      ]
     },
     "metadata": {},
     "output_type": "display_data"
    },
    {
     "data": {
      "text/plain": [
       "\">>>>>> iteration 24:O\""
      ]
     },
     "metadata": {},
     "output_type": "display_data"
    },
    {
     "data": {
      "text/plain": [
       "\">>>>>> iteration 25:O\""
      ]
     },
     "metadata": {},
     "output_type": "display_data"
    },
    {
     "data": {
      "text/plain": [
       "\">>>>>> iteration 26:O\""
      ]
     },
     "metadata": {},
     "output_type": "display_data"
    },
    {
     "data": {
      "text/plain": [
       "\">>>>>> iteration 27:O\""
      ]
     },
     "metadata": {},
     "output_type": "display_data"
    },
    {
     "data": {
      "text/plain": [
       "\">>>>>> iteration 28:O\""
      ]
     },
     "metadata": {},
     "output_type": "display_data"
    },
    {
     "name": "stdout",
     "output_type": "stream",
     "text": [
      "MC: 4>> Time: 9\n",
      "MC: 4>> Time: 10\n",
      "MC: 4>> Time: 11\n",
      "MC: 4>> Time: 12\n"
     ]
    },
    {
     "data": {
      "text/plain": [
       "\">>>>>> iteration 1:O\""
      ]
     },
     "metadata": {},
     "output_type": "display_data"
    },
    {
     "data": {
      "text/plain": [
       "\">>>>>> iteration 2:O\""
      ]
     },
     "metadata": {},
     "output_type": "display_data"
    },
    {
     "data": {
      "text/plain": [
       "\">>>>>> iteration 3:O\""
      ]
     },
     "metadata": {},
     "output_type": "display_data"
    },
    {
     "data": {
      "text/plain": [
       "\">>>>>> iteration 4:O\""
      ]
     },
     "metadata": {},
     "output_type": "display_data"
    },
    {
     "data": {
      "text/plain": [
       "\">>>>>> iteration 5:O\""
      ]
     },
     "metadata": {},
     "output_type": "display_data"
    },
    {
     "data": {
      "text/plain": [
       "\">>>>>> iteration 6:O\""
      ]
     },
     "metadata": {},
     "output_type": "display_data"
    },
    {
     "data": {
      "text/plain": [
       "\">>>>>> iteration 7:O\""
      ]
     },
     "metadata": {},
     "output_type": "display_data"
    },
    {
     "data": {
      "text/plain": [
       "\">>>>>> iteration 8:O\""
      ]
     },
     "metadata": {},
     "output_type": "display_data"
    },
    {
     "data": {
      "text/plain": [
       "\">>>>>> iteration 9:O\""
      ]
     },
     "metadata": {},
     "output_type": "display_data"
    },
    {
     "data": {
      "text/plain": [
       "\">>>>>> iteration 10:O\""
      ]
     },
     "metadata": {},
     "output_type": "display_data"
    },
    {
     "data": {
      "text/plain": [
       "\">>>>>> iteration 11:O\""
      ]
     },
     "metadata": {},
     "output_type": "display_data"
    },
    {
     "data": {
      "text/plain": [
       "\">>>>>> iteration 12:O\""
      ]
     },
     "metadata": {},
     "output_type": "display_data"
    },
    {
     "data": {
      "text/plain": [
       "\">>>>>> iteration 13:O\""
      ]
     },
     "metadata": {},
     "output_type": "display_data"
    },
    {
     "data": {
      "text/plain": [
       "\">>>>>> iteration 14:O\""
      ]
     },
     "metadata": {},
     "output_type": "display_data"
    },
    {
     "data": {
      "text/plain": [
       "\">>>>>> iteration 15:O\""
      ]
     },
     "metadata": {},
     "output_type": "display_data"
    },
    {
     "data": {
      "text/plain": [
       "\">>>>>> iteration 16:O\""
      ]
     },
     "metadata": {},
     "output_type": "display_data"
    },
    {
     "data": {
      "text/plain": [
       "\">>>>>> iteration 17:O\""
      ]
     },
     "metadata": {},
     "output_type": "display_data"
    },
    {
     "data": {
      "text/plain": [
       "\">>>>>> iteration 18:O\""
      ]
     },
     "metadata": {},
     "output_type": "display_data"
    },
    {
     "data": {
      "text/plain": [
       "\">>>>>> iteration 19:O\""
      ]
     },
     "metadata": {},
     "output_type": "display_data"
    },
    {
     "data": {
      "text/plain": [
       "\">>>>>> iteration 20:O\""
      ]
     },
     "metadata": {},
     "output_type": "display_data"
    },
    {
     "data": {
      "text/plain": [
       "\">>>>>> iteration 21:O\""
      ]
     },
     "metadata": {},
     "output_type": "display_data"
    },
    {
     "data": {
      "text/plain": [
       "\">>>>>> iteration 22:O\""
      ]
     },
     "metadata": {},
     "output_type": "display_data"
    },
    {
     "data": {
      "text/plain": [
       "\">>>>>> iteration 23:O\""
      ]
     },
     "metadata": {},
     "output_type": "display_data"
    },
    {
     "data": {
      "text/plain": [
       "\">>>>>> iteration 24:O\""
      ]
     },
     "metadata": {},
     "output_type": "display_data"
    },
    {
     "data": {
      "text/plain": [
       "\">>>>>> iteration 25:O\""
      ]
     },
     "metadata": {},
     "output_type": "display_data"
    },
    {
     "data": {
      "text/plain": [
       "\">>>>>> iteration 26:O\""
      ]
     },
     "metadata": {},
     "output_type": "display_data"
    },
    {
     "data": {
      "text/plain": [
       "\">>>>>> iteration 27:F\""
      ]
     },
     "metadata": {},
     "output_type": "display_data"
    },
    {
     "data": {
      "text/plain": [
       "\">>>>>> iteration 28:O\""
      ]
     },
     "metadata": {},
     "output_type": "display_data"
    },
    {
     "data": {
      "text/plain": [
       "\">>>>>> iteration 29:O\""
      ]
     },
     "metadata": {},
     "output_type": "display_data"
    },
    {
     "data": {
      "text/plain": [
       "\">>>>>> iteration 30:O\""
      ]
     },
     "metadata": {},
     "output_type": "display_data"
    },
    {
     "data": {
      "text/plain": [
       "\">>>>>> iteration 31:O\""
      ]
     },
     "metadata": {},
     "output_type": "display_data"
    },
    {
     "data": {
      "text/plain": [
       "\">>>>>> iteration 32:O\""
      ]
     },
     "metadata": {},
     "output_type": "display_data"
    },
    {
     "data": {
      "text/plain": [
       "\">>>>>> iteration 33:O\""
      ]
     },
     "metadata": {},
     "output_type": "display_data"
    },
    {
     "data": {
      "text/plain": [
       "\">>>>>> iteration 34:O\""
      ]
     },
     "metadata": {},
     "output_type": "display_data"
    },
    {
     "data": {
      "text/plain": [
       "\">>>>>> iteration 35:O\""
      ]
     },
     "metadata": {},
     "output_type": "display_data"
    },
    {
     "data": {
      "text/plain": [
       "\">>>>>> iteration 36:O\""
      ]
     },
     "metadata": {},
     "output_type": "display_data"
    },
    {
     "data": {
      "text/plain": [
       "\">>>>>> iteration 37:O\""
      ]
     },
     "metadata": {},
     "output_type": "display_data"
    },
    {
     "data": {
      "text/plain": [
       "\">>>>>> iteration 38:O\""
      ]
     },
     "metadata": {},
     "output_type": "display_data"
    },
    {
     "data": {
      "text/plain": [
       "\">>>>>> iteration 39:O\""
      ]
     },
     "metadata": {},
     "output_type": "display_data"
    },
    {
     "data": {
      "text/plain": [
       "\">>>>>> iteration 40:O\""
      ]
     },
     "metadata": {},
     "output_type": "display_data"
    },
    {
     "data": {
      "text/plain": [
       "\">>>>>> iteration 41:O\""
      ]
     },
     "metadata": {},
     "output_type": "display_data"
    },
    {
     "data": {
      "text/plain": [
       "\">>>>>> iteration 42:O\""
      ]
     },
     "metadata": {},
     "output_type": "display_data"
    },
    {
     "data": {
      "text/plain": [
       "\">>>>>> iteration 43:O\""
      ]
     },
     "metadata": {},
     "output_type": "display_data"
    },
    {
     "data": {
      "text/plain": [
       "\">>>>>> iteration 44:O\""
      ]
     },
     "metadata": {},
     "output_type": "display_data"
    },
    {
     "data": {
      "text/plain": [
       "\">>>>>> iteration 45:O\""
      ]
     },
     "metadata": {},
     "output_type": "display_data"
    },
    {
     "data": {
      "text/plain": [
       "\">>>>>> iteration 46:O\""
      ]
     },
     "metadata": {},
     "output_type": "display_data"
    },
    {
     "data": {
      "text/plain": [
       "\">>>>>> iteration 47:O\""
      ]
     },
     "metadata": {},
     "output_type": "display_data"
    },
    {
     "data": {
      "text/plain": [
       "\">>>>>> iteration 48:O\""
      ]
     },
     "metadata": {},
     "output_type": "display_data"
    },
    {
     "data": {
      "text/plain": [
       "\">>>>>> iteration 49:O\""
      ]
     },
     "metadata": {},
     "output_type": "display_data"
    },
    {
     "data": {
      "text/plain": [
       "\">>>>>> iteration 50:O\""
      ]
     },
     "metadata": {},
     "output_type": "display_data"
    },
    {
     "ename": "LoadError",
     "evalue": "Expression contains an invalid NaN constant. This could be produced by `Inf - Inf`.",
     "output_type": "error",
     "traceback": [
      "Expression contains an invalid NaN constant. This could be produced by `Inf - Inf`.",
      "",
      "Stacktrace:",
      "  [1] error(s::String)",
      "    @ Base .\\error.jl:35",
      "  [2] _assert_isfinite(a::AffExpr)",
      "    @ JuMP C:\\Users\\MACC-Jose\\.julia\\packages\\JuMP\\yYfHy\\src\\aff_expr.jl:577",
      "  [3] MathOptInterface.ScalarAffineFunction(a::AffExpr)",
      "    @ JuMP C:\\Users\\MACC-Jose\\.julia\\packages\\JuMP\\yYfHy\\src\\aff_expr.jl:610",
      "  [4] moi_function",
      "    @ C:\\Users\\MACC-Jose\\.julia\\packages\\JuMP\\yYfHy\\src\\aff_expr.jl:653 [inlined]",
      "  [5] moi_function",
      "    @ C:\\Users\\MACC-Jose\\.julia\\packages\\JuMP\\yYfHy\\src\\constraints.jl:523 [inlined]",
      "  [6] add_constraint(model::Model, con::ScalarConstraint{AffExpr, MathOptInterface.EqualTo{Float64}}, name::String)",
      "    @ JuMP C:\\Users\\MACC-Jose\\.julia\\packages\\JuMP\\yYfHy\\src\\constraints.jl:670",
      "  [7] macro expansion",
      "    @ C:\\Users\\MACC-Jose\\.julia\\packages\\JuMP\\yYfHy\\src\\macros.jl:833 [inlined]",
      "  [8] (::var\"#113#159\"{Vector{Float64}, Vector{VariableRef}})(kk::Int64)",
      "    @ Main C:\\Users\\MACC-Jose\\.julia\\packages\\JuMP\\yYfHy\\src\\Containers\\macro.jl:302",
      "  [9] #44",
      "    @ C:\\Users\\MACC-Jose\\.julia\\packages\\JuMP\\yYfHy\\src\\Containers\\container.jl:81 [inlined]",
      " [10] iterate",
      "    @ .\\generator.jl:47 [inlined]",
      " [11] collect(itr::Base.Generator{JuMP.Containers.VectorizedProductIterator{Tuple{Base.OneTo{Int64}}}, JuMP.Containers.var\"#44#45\"{var\"#113#159\"{Vector{Float64}, Vector{VariableRef}}}})",
      "    @ Base .\\array.jl:787",
      " [12] map(f::Function, A::JuMP.Containers.VectorizedProductIterator{Tuple{Base.OneTo{Int64}}})",
      "    @ Base .\\abstractarray.jl:2961",
      " [13] container",
      "    @ C:\\Users\\MACC-Jose\\.julia\\packages\\JuMP\\yYfHy\\src\\Containers\\container.jl:81 [inlined]",
      " [14] container(f::Function, indices::JuMP.Containers.VectorizedProductIterator{Tuple{Base.OneTo{Int64}}})",
      "    @ JuMP.Containers C:\\Users\\MACC-Jose\\.julia\\packages\\JuMP\\yYfHy\\src\\Containers\\container.jl:75",
      " [15] macro expansion",
      "    @ C:\\Users\\MACC-Jose\\.julia\\packages\\JuMP\\yYfHy\\src\\macros.jl:136 [inlined]",
      " [16] subp(xInit::Matrix{Float64}, uInit::Float64, ysp_fixed::Vector{Float64}, nReac::Int64, nScen::Int64, pScen::Float64, solNom::Dict{Char, Any}, option::Int64)",
      "    @ Main .\\In[13]:111",
      " [17] (::var\"#189#194\"{Matrix{Float64}, Float64, Int64, Float64, Dict{Char, Any}, Int64})(ss::Int64)",
      "    @ Main .\\none:0",
      " [18] iterate",
      "    @ .\\generator.jl:47 [inlined]",
      " [19] collect(itr::Base.Generator{UnitRange{Int64}, var\"#189#194\"{Matrix{Float64}, Float64, Int64, Float64, Dict{Char, Any}, Int64}})",
      "    @ Base .\\array.jl:787",
      " [20] BENS_CLDRTO(xInit::Matrix{Float64}, uInit::Float64, nReac::Int64, nScen::Int64, pScen::Float64, solNom::Dict{Char, Any}, option::Int64)",
      "    @ Main .\\In[14]:165",
      " [21] top-level scope",
      "    @ .\\In[33]:46"
     ]
    }
   ],
   "source": [
    "for jj = 1:n_MC\n",
    "    # ramdonly drawing the plant from the previously computed models\n",
    "    plantModelInd = round(Int64, rand(Uniform(1,100)))\n",
    "    \n",
    "    # Plant model\n",
    "    pl = DRTO_matrix(nR_MC,plantModelInd,100) # all possible plant models can be drawn\n",
    "    collapsed_B = pl['B'][:,1]\n",
    "    \n",
    "    # RUNNING SIMULATION\n",
    "    for mm = 1:2\n",
    "        \n",
    "        # Initial conditions (deviation form)\n",
    "        x0_MC = repeat([0.3583;0.6418] .- x0, outer = [nR_MC,1])\n",
    "        u0_MC = 1.0 - u0;\n",
    "\n",
    "        # initializing simulation\n",
    "        xpk = x0_MC # plant\n",
    "        ypk = dot(pl['C'],xpk)\n",
    "        uk_1 = u0_MC\n",
    "\n",
    "        # initial state is known \n",
    "        xmk = x0_MC # model \n",
    "        ymk = dot(mpc['C'],xmk)\n",
    "        dek = ypk - ymk\n",
    "\n",
    "        for ii = 1:nsim\n",
    "\n",
    "            print(\"MC: \", jj)\n",
    "            println(\">> Time: \",ii)\n",
    "\n",
    "            # updating arrays\n",
    "            xPlant[:,ii,jj,mm] = xpk\n",
    "            yPlant[ii,jj,mm] = ypk + y0\n",
    "            uPlant[ii,jj,mm] = uk_1 + u0\n",
    "\n",
    "            xMPCmodel[:,ii,jj,mm] = xmk\n",
    "            yMPCmodel[ii,jj,mm] = ymk\n",
    "            dev_plant_MPCmodel[ii,jj,mm] = dek\n",
    "\n",
    "            # executing DRTO\n",
    "            if ii%nDRTO == 0 || ii == 1\n",
    "\n",
    "                if mm == 1\n",
    "                    global sol_k = MS_CLDRTO(xpk,uk_1,nR_MC,nS_MC,pS_MC,solNominal,opti_MC)\n",
    "                else\n",
    "                    global sol_k = BENS_CLDRTO(xpk,uk_1,nR_MC,nS_MC,pS_MC,solNominal,opti_MC)\n",
    "                end\n",
    "                # counter for DRTO executions\n",
    "                global countDRTO = 1;\n",
    "                # N.B. need to declare as global due to loop scope\n",
    "            end\n",
    "\n",
    "            # Preparing controller \n",
    "            # building terms of the OF that depend on current information\n",
    "            if mm == 1\n",
    "                yspk = sol_k['s'][countDRTO:(countDRTO + (p - 1)),1] \n",
    "            else\n",
    "                yspk = sol_k['s'][1][countDRTO:(countDRTO + (p - 1))]\n",
    "            end\n",
    "            \n",
    "            countDRTO += 1 \n",
    "            # N.B.:\n",
    "            # using first scenario, but any scenario could be used\n",
    "\n",
    "            # solving MPC problem\n",
    "            solkk = solveMPC(xmk,dek,uk_1,yspk,u0,uMin,uMax,p,m,nR_MC)\n",
    "\n",
    "            # extracting the first input\n",
    "            uk = solkk['u'][1]\n",
    "\n",
    "            # applying input to the plant\n",
    "            xpk = pl['A']*xpk + collapsed_B*uk\n",
    "            ypk = dot(pl['C'],xpk)\n",
    "\n",
    "            # applying input to the controller model\n",
    "            xmk = mpc['A']*xmk + mpc['B']*uk\n",
    "            ymk = dot(mpc['C'],xmk)\n",
    "\n",
    "            # computing disturbance model\n",
    "            dek = ypk - ymk\n",
    "\n",
    "                # loop\n",
    "                uk_1 = uk\n",
    "\n",
    "        end # simulation\n",
    "    end # monolithic || decomposed\n",
    "end # MC"
   ]
  },
  {
   "cell_type": "code",
   "execution_count": 28,
   "id": "689a860e",
   "metadata": {},
   "outputs": [],
   "source": [
    "# time series for plotting\n",
    "ts = Vector{Float64}(undef,nsim) \n",
    "for i in 1:nsim\n",
    "    ts[i] = 1*i\n",
    "end\n",
    "\n",
    "# Creating color array\n",
    "CList = reshape( range(colorant\"red\", stop=colorant\"blue\",length=n_MC), 1, n_MC);\n",
    "MList =[:square, :circle];"
   ]
  },
  {
   "cell_type": "markdown",
   "id": "10cfa7bb",
   "metadata": {},
   "source": [
    "Output"
   ]
  },
  {
   "cell_type": "code",
   "execution_count": 31,
   "id": "36757264",
   "metadata": {},
   "outputs": [
    {
     "data": {
      "image/svg+xml": [
       "<?xml version=\"1.0\" encoding=\"utf-8\"?>\n",
       "<svg xmlns=\"http://www.w3.org/2000/svg\" xmlns:xlink=\"http://www.w3.org/1999/xlink\" width=\"600\" height=\"400\" viewBox=\"0 0 2400 1600\">\n",
       "<defs>\n",
       "  <clipPath id=\"clip090\">\n",
       "    <rect x=\"0\" y=\"0\" width=\"2400\" height=\"1600\"/>\n",
       "  </clipPath>\n",
       "</defs>\n",
       "<path clip-path=\"url(#clip090)\" d=\"M0 1600 L2400 1600 L2400 0 L0 0  Z\" fill=\"#ffffff\" fill-rule=\"evenodd\" fill-opacity=\"1\"/>\n",
       "<defs>\n",
       "  <clipPath id=\"clip091\">\n",
       "    <rect x=\"480\" y=\"0\" width=\"1681\" height=\"1600\"/>\n",
       "  </clipPath>\n",
       "</defs>\n",
       "<path clip-path=\"url(#clip090)\" d=\"M249.542 623.18 L2352.76 623.18 L2352.76 47.2441 L249.542 47.2441  Z\" fill=\"#ffffff\" fill-rule=\"evenodd\" fill-opacity=\"1\"/>\n",
       "<defs>\n",
       "  <clipPath id=\"clip092\">\n",
       "    <rect x=\"249\" y=\"47\" width=\"2104\" height=\"577\"/>\n",
       "  </clipPath>\n",
       "</defs>\n",
       "<polyline clip-path=\"url(#clip092)\" style=\"stroke:#000000; stroke-linecap:round; stroke-linejoin:round; stroke-width:8; stroke-opacity:0.1; fill:none\" points=\"726.786,623.18 726.786,47.2441 \"/>\n",
       "<polyline clip-path=\"url(#clip092)\" style=\"stroke:#000000; stroke-linecap:round; stroke-linejoin:round; stroke-width:8; stroke-opacity:0.1; fill:none\" points=\"1248.93,623.18 1248.93,47.2441 \"/>\n",
       "<polyline clip-path=\"url(#clip092)\" style=\"stroke:#000000; stroke-linecap:round; stroke-linejoin:round; stroke-width:8; stroke-opacity:0.1; fill:none\" points=\"1771.08,623.18 1771.08,47.2441 \"/>\n",
       "<polyline clip-path=\"url(#clip092)\" style=\"stroke:#000000; stroke-linecap:round; stroke-linejoin:round; stroke-width:8; stroke-opacity:0.1; fill:none\" points=\"2293.23,623.18 2293.23,47.2441 \"/>\n",
       "<polyline clip-path=\"url(#clip090)\" style=\"stroke:#000000; stroke-linecap:round; stroke-linejoin:round; stroke-width:4; stroke-opacity:1; fill:none\" points=\"249.542,623.18 2352.76,623.18 \"/>\n",
       "<polyline clip-path=\"url(#clip090)\" style=\"stroke:#000000; stroke-linecap:round; stroke-linejoin:round; stroke-width:4; stroke-opacity:1; fill:none\" points=\"726.786,623.18 726.786,604.282 \"/>\n",
       "<polyline clip-path=\"url(#clip090)\" style=\"stroke:#000000; stroke-linecap:round; stroke-linejoin:round; stroke-width:4; stroke-opacity:1; fill:none\" points=\"1248.93,623.18 1248.93,604.282 \"/>\n",
       "<polyline clip-path=\"url(#clip090)\" style=\"stroke:#000000; stroke-linecap:round; stroke-linejoin:round; stroke-width:4; stroke-opacity:1; fill:none\" points=\"1771.08,623.18 1771.08,604.282 \"/>\n",
       "<polyline clip-path=\"url(#clip090)\" style=\"stroke:#000000; stroke-linecap:round; stroke-linejoin:round; stroke-width:4; stroke-opacity:1; fill:none\" points=\"2293.23,623.18 2293.23,604.282 \"/>\n",
       "<path clip-path=\"url(#clip090)\" d=\"M717.064 651.02 L735.42 651.02 L735.42 654.955 L721.346 654.955 L721.346 663.427 Q722.364 663.08 723.383 662.918 Q724.401 662.733 725.42 662.733 Q731.207 662.733 734.587 665.904 Q737.966 669.075 737.966 674.492 Q737.966 680.071 734.494 683.172 Q731.022 686.251 724.702 686.251 Q722.526 686.251 720.258 685.881 Q718.013 685.51 715.605 684.77 L715.605 680.071 Q717.689 681.205 719.911 681.76 Q722.133 682.316 724.61 682.316 Q728.614 682.316 730.952 680.21 Q733.29 678.103 733.29 674.492 Q733.29 670.881 730.952 668.774 Q728.614 666.668 724.61 666.668 Q722.735 666.668 720.86 667.085 Q719.008 667.501 717.064 668.381 L717.064 651.02 Z\" fill=\"#000000\" fill-rule=\"evenodd\" fill-opacity=\"1\" /><path clip-path=\"url(#clip090)\" d=\"M1223.62 681.645 L1231.26 681.645 L1231.26 655.279 L1222.95 656.946 L1222.95 652.687 L1231.21 651.02 L1235.89 651.02 L1235.89 681.645 L1243.53 681.645 L1243.53 685.58 L1223.62 685.58 L1223.62 681.645 Z\" fill=\"#000000\" fill-rule=\"evenodd\" fill-opacity=\"1\" /><path clip-path=\"url(#clip090)\" d=\"M1262.97 654.099 Q1259.36 654.099 1257.53 657.663 Q1255.73 661.205 1255.73 668.335 Q1255.73 675.441 1257.53 679.006 Q1259.36 682.547 1262.97 682.547 Q1266.61 682.547 1268.41 679.006 Q1270.24 675.441 1270.24 668.335 Q1270.24 661.205 1268.41 657.663 Q1266.61 654.099 1262.97 654.099 M1262.97 650.395 Q1268.78 650.395 1271.84 655.001 Q1274.92 659.585 1274.92 668.335 Q1274.92 677.061 1271.84 681.668 Q1268.78 686.251 1262.97 686.251 Q1257.16 686.251 1254.08 681.668 Q1251.03 677.061 1251.03 668.335 Q1251.03 659.585 1254.08 655.001 Q1257.16 650.395 1262.97 650.395 Z\" fill=\"#000000\" fill-rule=\"evenodd\" fill-opacity=\"1\" /><path clip-path=\"url(#clip090)\" d=\"M1746.27 681.645 L1753.91 681.645 L1753.91 655.279 L1745.6 656.946 L1745.6 652.687 L1753.86 651.02 L1758.54 651.02 L1758.54 681.645 L1766.18 681.645 L1766.18 685.58 L1746.27 685.58 L1746.27 681.645 Z\" fill=\"#000000\" fill-rule=\"evenodd\" fill-opacity=\"1\" /><path clip-path=\"url(#clip090)\" d=\"M1775.67 651.02 L1794.02 651.02 L1794.02 654.955 L1779.95 654.955 L1779.95 663.427 Q1780.97 663.08 1781.99 662.918 Q1783 662.733 1784.02 662.733 Q1789.81 662.733 1793.19 665.904 Q1796.57 669.075 1796.57 674.492 Q1796.57 680.071 1793.1 683.172 Q1789.62 686.251 1783.3 686.251 Q1781.13 686.251 1778.86 685.881 Q1776.61 685.51 1774.21 684.77 L1774.21 680.071 Q1776.29 681.205 1778.51 681.76 Q1780.74 682.316 1783.21 682.316 Q1787.22 682.316 1789.55 680.21 Q1791.89 678.103 1791.89 674.492 Q1791.89 670.881 1789.55 668.774 Q1787.22 666.668 1783.21 666.668 Q1781.34 666.668 1779.46 667.085 Q1777.61 667.501 1775.67 668.381 L1775.67 651.02 Z\" fill=\"#000000\" fill-rule=\"evenodd\" fill-opacity=\"1\" /><path clip-path=\"url(#clip090)\" d=\"M2272 681.645 L2288.32 681.645 L2288.32 685.58 L2266.38 685.58 L2266.38 681.645 Q2269.04 678.89 2273.62 674.26 Q2278.23 669.608 2279.41 668.265 Q2281.66 665.742 2282.54 664.006 Q2283.44 662.247 2283.44 660.557 Q2283.44 657.802 2281.49 656.066 Q2279.57 654.33 2276.47 654.33 Q2274.27 654.33 2271.82 655.094 Q2269.39 655.858 2266.61 657.409 L2266.61 652.687 Q2269.43 651.552 2271.89 650.974 Q2274.34 650.395 2276.38 650.395 Q2281.75 650.395 2284.94 653.08 Q2288.14 655.765 2288.14 660.256 Q2288.14 662.386 2287.33 664.307 Q2286.54 666.205 2284.43 668.798 Q2283.86 669.469 2280.75 672.686 Q2277.65 675.881 2272 681.645 Z\" fill=\"#000000\" fill-rule=\"evenodd\" fill-opacity=\"1\" /><path clip-path=\"url(#clip090)\" d=\"M2308.14 654.099 Q2304.53 654.099 2302.7 657.663 Q2300.89 661.205 2300.89 668.335 Q2300.89 675.441 2302.7 679.006 Q2304.53 682.547 2308.14 682.547 Q2311.77 682.547 2313.58 679.006 Q2315.41 675.441 2315.41 668.335 Q2315.41 661.205 2313.58 657.663 Q2311.77 654.099 2308.14 654.099 M2308.14 650.395 Q2313.95 650.395 2317 655.001 Q2320.08 659.585 2320.08 668.335 Q2320.08 677.061 2317 681.668 Q2313.95 686.251 2308.14 686.251 Q2302.33 686.251 2299.25 681.668 Q2296.19 677.061 2296.19 668.335 Q2296.19 659.585 2299.25 655.001 Q2302.33 650.395 2308.14 650.395 Z\" fill=\"#000000\" fill-rule=\"evenodd\" fill-opacity=\"1\" /><path clip-path=\"url(#clip090)\" d=\"M1195.29 722.274 L1195.29 732.396 L1207.35 732.396 L1207.35 736.947 L1195.29 736.947 L1195.29 756.299 Q1195.29 760.66 1196.46 761.901 Q1197.67 763.142 1201.33 763.142 L1207.35 763.142 L1207.35 768.044 L1201.33 768.044 Q1194.56 768.044 1191.98 765.529 Q1189.4 762.983 1189.4 756.299 L1189.4 736.947 L1185.1 736.947 L1185.1 732.396 L1189.4 732.396 L1189.4 722.274 L1195.29 722.274 Z\" fill=\"#000000\" fill-rule=\"evenodd\" fill-opacity=\"1\" /><path clip-path=\"url(#clip090)\" d=\"M1215.05 732.396 L1220.91 732.396 L1220.91 768.044 L1215.05 768.044 L1215.05 732.396 M1215.05 718.519 L1220.91 718.519 L1220.91 725.935 L1215.05 725.935 L1215.05 718.519 Z\" fill=\"#000000\" fill-rule=\"evenodd\" fill-opacity=\"1\" /><path clip-path=\"url(#clip090)\" d=\"M1260.92 739.239 Q1263.11 735.292 1266.17 733.414 Q1269.22 731.537 1273.36 731.537 Q1278.93 731.537 1281.96 735.451 Q1284.98 739.335 1284.98 746.528 L1284.98 768.044 L1279.09 768.044 L1279.09 746.719 Q1279.09 741.594 1277.28 739.112 Q1275.46 736.629 1271.74 736.629 Q1267.19 736.629 1264.55 739.653 Q1261.9 742.677 1261.9 747.896 L1261.9 768.044 L1256.02 768.044 L1256.02 746.719 Q1256.02 741.563 1254.2 739.112 Q1252.39 736.629 1248.6 736.629 Q1244.11 736.629 1241.47 739.685 Q1238.83 742.708 1238.83 747.896 L1238.83 768.044 L1232.94 768.044 L1232.94 732.396 L1238.83 732.396 L1238.83 737.934 Q1240.83 734.656 1243.63 733.096 Q1246.44 731.537 1250.29 731.537 Q1254.17 731.537 1256.88 733.51 Q1259.61 735.483 1260.92 739.239 Z\" fill=\"#000000\" fill-rule=\"evenodd\" fill-opacity=\"1\" /><path clip-path=\"url(#clip090)\" d=\"M1327.15 748.756 L1327.15 751.62 L1300.23 751.62 Q1300.61 757.668 1303.85 760.851 Q1307.13 764.002 1312.96 764.002 Q1316.33 764.002 1319.48 763.174 Q1322.67 762.347 1325.78 760.691 L1325.78 766.23 Q1322.63 767.566 1319.32 768.267 Q1316.01 768.967 1312.61 768.967 Q1304.08 768.967 1299.08 764.002 Q1294.11 759.036 1294.11 750.57 Q1294.11 741.817 1298.83 736.693 Q1303.57 731.537 1311.59 731.537 Q1318.78 731.537 1322.95 736.183 Q1327.15 740.799 1327.15 748.756 M1321.3 747.037 Q1321.23 742.231 1318.59 739.366 Q1315.98 736.502 1311.65 736.502 Q1306.75 736.502 1303.79 739.271 Q1300.86 742.04 1300.42 747.069 L1321.3 747.037 Z\" fill=\"#000000\" fill-rule=\"evenodd\" fill-opacity=\"1\" /><path clip-path=\"url(#clip090)\" d=\"M1336.22 718.519 L1349.72 718.519 L1349.72 723.07 L1342.08 723.07 L1342.08 772.086 L1349.72 772.086 L1349.72 776.638 L1336.22 776.638 L1336.22 718.519 Z\" fill=\"#000000\" fill-rule=\"evenodd\" fill-opacity=\"1\" /><path clip-path=\"url(#clip090)\" d=\"M1391.83 746.528 L1391.83 768.044 L1385.97 768.044 L1385.97 746.719 Q1385.97 741.658 1384 739.144 Q1382.03 736.629 1378.08 736.629 Q1373.34 736.629 1370.6 739.653 Q1367.86 742.677 1367.86 747.896 L1367.86 768.044 L1361.97 768.044 L1361.97 718.519 L1367.86 718.519 L1367.86 737.934 Q1369.96 734.719 1372.79 733.128 Q1375.66 731.537 1379.38 731.537 Q1385.53 731.537 1388.68 735.356 Q1391.83 739.144 1391.83 746.528 Z\" fill=\"#000000\" fill-rule=\"evenodd\" fill-opacity=\"1\" /><path clip-path=\"url(#clip090)\" d=\"M1417.2 718.519 L1417.2 776.638 L1403.7 776.638 L1403.7 772.086 L1411.31 772.086 L1411.31 723.07 L1403.7 723.07 L1403.7 718.519 L1417.2 718.519 Z\" fill=\"#000000\" fill-rule=\"evenodd\" fill-opacity=\"1\" /><polyline clip-path=\"url(#clip092)\" style=\"stroke:#000000; stroke-linecap:round; stroke-linejoin:round; stroke-width:8; stroke-opacity:0.1; fill:none\" points=\"249.542,606.88 2352.76,606.88 \"/>\n",
       "<polyline clip-path=\"url(#clip092)\" style=\"stroke:#000000; stroke-linecap:round; stroke-linejoin:round; stroke-width:8; stroke-opacity:0.1; fill:none\" points=\"249.542,477.514 2352.76,477.514 \"/>\n",
       "<polyline clip-path=\"url(#clip092)\" style=\"stroke:#000000; stroke-linecap:round; stroke-linejoin:round; stroke-width:8; stroke-opacity:0.1; fill:none\" points=\"249.542,348.149 2352.76,348.149 \"/>\n",
       "<polyline clip-path=\"url(#clip092)\" style=\"stroke:#000000; stroke-linecap:round; stroke-linejoin:round; stroke-width:8; stroke-opacity:0.1; fill:none\" points=\"249.542,218.783 2352.76,218.783 \"/>\n",
       "<polyline clip-path=\"url(#clip092)\" style=\"stroke:#000000; stroke-linecap:round; stroke-linejoin:round; stroke-width:8; stroke-opacity:0.1; fill:none\" points=\"249.542,89.4173 2352.76,89.4173 \"/>\n",
       "<polyline clip-path=\"url(#clip090)\" style=\"stroke:#000000; stroke-linecap:round; stroke-linejoin:round; stroke-width:4; stroke-opacity:1; fill:none\" points=\"249.542,623.18 249.542,47.2441 \"/>\n",
       "<polyline clip-path=\"url(#clip090)\" style=\"stroke:#000000; stroke-linecap:round; stroke-linejoin:round; stroke-width:4; stroke-opacity:1; fill:none\" points=\"249.542,606.88 268.44,606.88 \"/>\n",
       "<polyline clip-path=\"url(#clip090)\" style=\"stroke:#000000; stroke-linecap:round; stroke-linejoin:round; stroke-width:4; stroke-opacity:1; fill:none\" points=\"249.542,477.514 268.44,477.514 \"/>\n",
       "<polyline clip-path=\"url(#clip090)\" style=\"stroke:#000000; stroke-linecap:round; stroke-linejoin:round; stroke-width:4; stroke-opacity:1; fill:none\" points=\"249.542,348.149 268.44,348.149 \"/>\n",
       "<polyline clip-path=\"url(#clip090)\" style=\"stroke:#000000; stroke-linecap:round; stroke-linejoin:round; stroke-width:4; stroke-opacity:1; fill:none\" points=\"249.542,218.783 268.44,218.783 \"/>\n",
       "<polyline clip-path=\"url(#clip090)\" style=\"stroke:#000000; stroke-linecap:round; stroke-linejoin:round; stroke-width:4; stroke-opacity:1; fill:none\" points=\"249.542,89.4173 268.44,89.4173 \"/>\n",
       "<path clip-path=\"url(#clip090)\" d=\"M126.205 592.678 Q122.593 592.678 120.765 596.243 Q118.959 599.785 118.959 606.914 Q118.959 614.021 120.765 617.586 Q122.593 621.127 126.205 621.127 Q129.839 621.127 131.644 617.586 Q133.473 614.021 133.473 606.914 Q133.473 599.785 131.644 596.243 Q129.839 592.678 126.205 592.678 M126.205 588.975 Q132.015 588.975 135.07 593.581 Q138.149 598.165 138.149 606.914 Q138.149 615.641 135.07 620.248 Q132.015 624.831 126.205 624.831 Q120.394 624.831 117.316 620.248 Q114.26 615.641 114.26 606.914 Q114.26 598.165 117.316 593.581 Q120.394 588.975 126.205 588.975 Z\" fill=\"#000000\" fill-rule=\"evenodd\" fill-opacity=\"1\" /><path clip-path=\"url(#clip090)\" d=\"M146.366 618.28 L151.251 618.28 L151.251 624.16 L146.366 624.16 L146.366 618.28 Z\" fill=\"#000000\" fill-rule=\"evenodd\" fill-opacity=\"1\" /><path clip-path=\"url(#clip090)\" d=\"M171.436 592.678 Q167.825 592.678 165.996 596.243 Q164.19 599.785 164.19 606.914 Q164.19 614.021 165.996 617.586 Q167.825 621.127 171.436 621.127 Q175.07 621.127 176.876 617.586 Q178.704 614.021 178.704 606.914 Q178.704 599.785 176.876 596.243 Q175.07 592.678 171.436 592.678 M171.436 588.975 Q177.246 588.975 180.301 593.581 Q183.38 598.165 183.38 606.914 Q183.38 615.641 180.301 620.248 Q177.246 624.831 171.436 624.831 Q165.626 624.831 162.547 620.248 Q159.491 615.641 159.491 606.914 Q159.491 598.165 162.547 593.581 Q165.626 588.975 171.436 588.975 Z\" fill=\"#000000\" fill-rule=\"evenodd\" fill-opacity=\"1\" /><path clip-path=\"url(#clip090)\" d=\"M201.598 592.678 Q197.987 592.678 196.158 596.243 Q194.352 599.785 194.352 606.914 Q194.352 614.021 196.158 617.586 Q197.987 621.127 201.598 621.127 Q205.232 621.127 207.037 617.586 Q208.866 614.021 208.866 606.914 Q208.866 599.785 207.037 596.243 Q205.232 592.678 201.598 592.678 M201.598 588.975 Q207.408 588.975 210.463 593.581 Q213.542 598.165 213.542 606.914 Q213.542 615.641 210.463 620.248 Q207.408 624.831 201.598 624.831 Q195.787 624.831 192.709 620.248 Q189.653 615.641 189.653 606.914 Q189.653 598.165 192.709 593.581 Q195.787 588.975 201.598 588.975 Z\" fill=\"#000000\" fill-rule=\"evenodd\" fill-opacity=\"1\" /><path clip-path=\"url(#clip090)\" d=\"M127.2 463.313 Q123.589 463.313 121.76 466.878 Q119.955 470.419 119.955 477.549 Q119.955 484.655 121.76 488.22 Q123.589 491.762 127.2 491.762 Q130.834 491.762 132.64 488.22 Q134.468 484.655 134.468 477.549 Q134.468 470.419 132.64 466.878 Q130.834 463.313 127.2 463.313 M127.2 459.609 Q133.01 459.609 136.066 464.216 Q139.144 468.799 139.144 477.549 Q139.144 486.276 136.066 490.882 Q133.01 495.465 127.2 495.465 Q121.39 495.465 118.311 490.882 Q115.256 486.276 115.256 477.549 Q115.256 468.799 118.311 464.216 Q121.39 459.609 127.2 459.609 Z\" fill=\"#000000\" fill-rule=\"evenodd\" fill-opacity=\"1\" /><path clip-path=\"url(#clip090)\" d=\"M147.362 488.915 L152.246 488.915 L152.246 494.794 L147.362 494.794 L147.362 488.915 Z\" fill=\"#000000\" fill-rule=\"evenodd\" fill-opacity=\"1\" /><path clip-path=\"url(#clip090)\" d=\"M166.459 490.859 L182.778 490.859 L182.778 494.794 L160.834 494.794 L160.834 490.859 Q163.496 488.104 168.079 483.475 Q172.686 478.822 173.866 477.479 Q176.112 474.956 176.991 473.22 Q177.894 471.461 177.894 469.771 Q177.894 467.017 175.95 465.28 Q174.028 463.544 170.927 463.544 Q168.727 463.544 166.274 464.308 Q163.843 465.072 161.065 466.623 L161.065 461.901 Q163.89 460.767 166.343 460.188 Q168.797 459.609 170.834 459.609 Q176.204 459.609 179.399 462.294 Q182.593 464.979 182.593 469.47 Q182.593 471.6 181.783 473.521 Q180.996 475.419 178.889 478.012 Q178.311 478.683 175.209 481.901 Q172.107 485.095 166.459 490.859 Z\" fill=\"#000000\" fill-rule=\"evenodd\" fill-opacity=\"1\" /><path clip-path=\"url(#clip090)\" d=\"M192.639 460.234 L210.996 460.234 L210.996 464.169 L196.922 464.169 L196.922 472.641 Q197.94 472.294 198.959 472.132 Q199.977 471.947 200.996 471.947 Q206.783 471.947 210.162 475.118 Q213.542 478.29 213.542 483.706 Q213.542 489.285 210.07 492.387 Q206.598 495.465 200.278 495.465 Q198.102 495.465 195.834 495.095 Q193.588 494.725 191.181 493.984 L191.181 489.285 Q193.264 490.419 195.487 490.975 Q197.709 491.53 200.186 491.53 Q204.19 491.53 206.528 489.424 Q208.866 487.317 208.866 483.706 Q208.866 480.095 206.528 477.989 Q204.19 475.882 200.186 475.882 Q198.311 475.882 196.436 476.299 Q194.584 476.716 192.639 477.595 L192.639 460.234 Z\" fill=\"#000000\" fill-rule=\"evenodd\" fill-opacity=\"1\" /><path clip-path=\"url(#clip090)\" d=\"M126.205 333.947 Q122.593 333.947 120.765 337.512 Q118.959 341.054 118.959 348.183 Q118.959 355.29 120.765 358.854 Q122.593 362.396 126.205 362.396 Q129.839 362.396 131.644 358.854 Q133.473 355.29 133.473 348.183 Q133.473 341.054 131.644 337.512 Q129.839 333.947 126.205 333.947 M126.205 330.244 Q132.015 330.244 135.07 334.85 Q138.149 339.433 138.149 348.183 Q138.149 356.91 135.07 361.517 Q132.015 366.1 126.205 366.1 Q120.394 366.1 117.316 361.517 Q114.26 356.91 114.26 348.183 Q114.26 339.433 117.316 334.85 Q120.394 330.244 126.205 330.244 Z\" fill=\"#000000\" fill-rule=\"evenodd\" fill-opacity=\"1\" /><path clip-path=\"url(#clip090)\" d=\"M146.366 359.549 L151.251 359.549 L151.251 365.429 L146.366 365.429 L146.366 359.549 Z\" fill=\"#000000\" fill-rule=\"evenodd\" fill-opacity=\"1\" /><path clip-path=\"url(#clip090)\" d=\"M161.482 330.869 L179.839 330.869 L179.839 334.804 L165.765 334.804 L165.765 343.276 Q166.783 342.929 167.802 342.767 Q168.82 342.581 169.839 342.581 Q175.626 342.581 179.005 345.753 Q182.385 348.924 182.385 354.341 Q182.385 359.919 178.913 363.021 Q175.44 366.1 169.121 366.1 Q166.945 366.1 164.677 365.729 Q162.431 365.359 160.024 364.618 L160.024 359.919 Q162.107 361.054 164.329 361.609 Q166.552 362.165 169.028 362.165 Q173.033 362.165 175.371 360.058 Q177.709 357.952 177.709 354.341 Q177.709 350.73 175.371 348.623 Q173.033 346.517 169.028 346.517 Q167.153 346.517 165.278 346.933 Q163.427 347.35 161.482 348.23 L161.482 330.869 Z\" fill=\"#000000\" fill-rule=\"evenodd\" fill-opacity=\"1\" /><path clip-path=\"url(#clip090)\" d=\"M201.598 333.947 Q197.987 333.947 196.158 337.512 Q194.352 341.054 194.352 348.183 Q194.352 355.29 196.158 358.854 Q197.987 362.396 201.598 362.396 Q205.232 362.396 207.037 358.854 Q208.866 355.29 208.866 348.183 Q208.866 341.054 207.037 337.512 Q205.232 333.947 201.598 333.947 M201.598 330.244 Q207.408 330.244 210.463 334.85 Q213.542 339.433 213.542 348.183 Q213.542 356.91 210.463 361.517 Q207.408 366.1 201.598 366.1 Q195.787 366.1 192.709 361.517 Q189.653 356.91 189.653 348.183 Q189.653 339.433 192.709 334.85 Q195.787 330.244 201.598 330.244 Z\" fill=\"#000000\" fill-rule=\"evenodd\" fill-opacity=\"1\" /><path clip-path=\"url(#clip090)\" d=\"M127.2 204.582 Q123.589 204.582 121.76 208.146 Q119.955 211.688 119.955 218.818 Q119.955 225.924 121.76 229.489 Q123.589 233.031 127.2 233.031 Q130.834 233.031 132.64 229.489 Q134.468 225.924 134.468 218.818 Q134.468 211.688 132.64 208.146 Q130.834 204.582 127.2 204.582 M127.2 200.878 Q133.01 200.878 136.066 205.484 Q139.144 210.068 139.144 218.818 Q139.144 227.544 136.066 232.151 Q133.01 236.734 127.2 236.734 Q121.39 236.734 118.311 232.151 Q115.256 227.544 115.256 218.818 Q115.256 210.068 118.311 205.484 Q121.39 200.878 127.2 200.878 Z\" fill=\"#000000\" fill-rule=\"evenodd\" fill-opacity=\"1\" /><path clip-path=\"url(#clip090)\" d=\"M147.362 230.183 L152.246 230.183 L152.246 236.063 L147.362 236.063 L147.362 230.183 Z\" fill=\"#000000\" fill-rule=\"evenodd\" fill-opacity=\"1\" /><path clip-path=\"url(#clip090)\" d=\"M161.251 201.503 L183.473 201.503 L183.473 203.494 L170.927 236.063 L166.042 236.063 L177.848 205.438 L161.251 205.438 L161.251 201.503 Z\" fill=\"#000000\" fill-rule=\"evenodd\" fill-opacity=\"1\" /><path clip-path=\"url(#clip090)\" d=\"M192.639 201.503 L210.996 201.503 L210.996 205.438 L196.922 205.438 L196.922 213.91 Q197.94 213.563 198.959 213.401 Q199.977 213.216 200.996 213.216 Q206.783 213.216 210.162 216.387 Q213.542 219.558 213.542 224.975 Q213.542 230.554 210.07 233.656 Q206.598 236.734 200.278 236.734 Q198.102 236.734 195.834 236.364 Q193.588 235.993 191.181 235.253 L191.181 230.554 Q193.264 231.688 195.487 232.243 Q197.709 232.799 200.186 232.799 Q204.19 232.799 206.528 230.693 Q208.866 228.586 208.866 224.975 Q208.866 221.364 206.528 219.257 Q204.19 217.151 200.186 217.151 Q198.311 217.151 196.436 217.568 Q194.584 217.984 192.639 218.864 L192.639 201.503 Z\" fill=\"#000000\" fill-rule=\"evenodd\" fill-opacity=\"1\" /><path clip-path=\"url(#clip090)\" d=\"M117.015 102.762 L124.654 102.762 L124.654 76.3965 L116.343 78.0632 L116.343 73.8039 L124.607 72.1373 L129.283 72.1373 L129.283 102.762 L136.922 102.762 L136.922 106.697 L117.015 106.697 L117.015 102.762 Z\" fill=\"#000000\" fill-rule=\"evenodd\" fill-opacity=\"1\" /><path clip-path=\"url(#clip090)\" d=\"M146.366 100.818 L151.251 100.818 L151.251 106.697 L146.366 106.697 L146.366 100.818 Z\" fill=\"#000000\" fill-rule=\"evenodd\" fill-opacity=\"1\" /><path clip-path=\"url(#clip090)\" d=\"M171.436 75.216 Q167.825 75.216 165.996 78.7808 Q164.19 82.3224 164.19 89.452 Q164.19 96.5585 165.996 100.123 Q167.825 103.665 171.436 103.665 Q175.07 103.665 176.876 100.123 Q178.704 96.5585 178.704 89.452 Q178.704 82.3224 176.876 78.7808 Q175.07 75.216 171.436 75.216 M171.436 71.5123 Q177.246 71.5123 180.301 76.1187 Q183.38 80.7021 183.38 89.452 Q183.38 98.1788 180.301 102.785 Q177.246 107.369 171.436 107.369 Q165.626 107.369 162.547 102.785 Q159.491 98.1788 159.491 89.452 Q159.491 80.7021 162.547 76.1187 Q165.626 71.5123 171.436 71.5123 Z\" fill=\"#000000\" fill-rule=\"evenodd\" fill-opacity=\"1\" /><path clip-path=\"url(#clip090)\" d=\"M201.598 75.216 Q197.987 75.216 196.158 78.7808 Q194.352 82.3224 194.352 89.452 Q194.352 96.5585 196.158 100.123 Q197.987 103.665 201.598 103.665 Q205.232 103.665 207.037 100.123 Q208.866 96.5585 208.866 89.452 Q208.866 82.3224 207.037 78.7808 Q205.232 75.216 201.598 75.216 M201.598 71.5123 Q207.408 71.5123 210.463 76.1187 Q213.542 80.7021 213.542 89.452 Q213.542 98.1788 210.463 102.785 Q207.408 107.369 201.598 107.369 Q195.787 107.369 192.709 102.785 Q189.653 98.1788 189.653 89.452 Q189.653 80.7021 192.709 76.1187 Q195.787 71.5123 201.598 71.5123 Z\" fill=\"#000000\" fill-rule=\"evenodd\" fill-opacity=\"1\" /><path clip-path=\"url(#clip090)\" d=\"M67.3143 435.36 Q73.68 437.843 75.6216 440.198 Q77.5631 442.554 77.5631 446.5 L77.5631 451.179 L72.6615 451.179 L72.6615 447.742 Q72.6615 445.323 71.5157 443.986 Q70.3699 442.649 66.1048 441.026 L63.4312 439.976 L28.3562 454.394 L28.3562 448.187 L56.238 437.047 L28.3562 425.907 L28.3562 419.701 L67.3143 435.36 Z\" fill=\"#000000\" fill-rule=\"evenodd\" fill-opacity=\"1\" /><path clip-path=\"url(#clip090)\" d=\"M35.1993 363.142 Q31.2526 360.945 29.3747 357.89 Q27.4968 354.834 27.4968 350.697 Q27.4968 345.127 31.4117 342.103 Q35.2948 339.079 42.4881 339.079 L64.0042 339.079 L64.0042 344.967 L42.679 344.967 Q37.5546 344.967 35.072 346.782 Q32.5894 348.596 32.5894 352.32 Q32.5894 356.871 35.6131 359.513 Q38.6368 362.155 43.8567 362.155 L64.0042 362.155 L64.0042 368.043 L42.679 368.043 Q37.5228 368.043 35.072 369.857 Q32.5894 371.672 32.5894 375.459 Q32.5894 379.947 35.6449 382.589 Q38.6686 385.231 43.8567 385.231 L64.0042 385.231 L64.0042 391.119 L28.3562 391.119 L28.3562 385.231 L33.8944 385.231 Q30.616 383.225 29.0564 380.424 Q27.4968 377.623 27.4968 373.772 Q27.4968 369.889 29.4702 367.184 Q31.4436 364.446 35.1993 363.142 Z\" fill=\"#000000\" fill-rule=\"evenodd\" fill-opacity=\"1\" /><path clip-path=\"url(#clip090)\" d=\"M32.4621 313.584 Q32.4621 318.295 36.1542 321.032 Q39.8145 323.77 46.212 323.77 Q52.6095 323.77 56.3017 321.064 Q59.9619 318.327 59.9619 313.584 Q59.9619 308.906 56.2698 306.168 Q52.5777 303.431 46.212 303.431 Q39.8781 303.431 36.186 306.168 Q32.4621 308.906 32.4621 313.584 M27.4968 313.584 Q27.4968 305.946 32.4621 301.585 Q37.4273 297.225 46.212 297.225 Q54.9649 297.225 59.9619 301.585 Q64.9272 305.946 64.9272 313.584 Q64.9272 321.255 59.9619 325.616 Q54.9649 329.944 46.212 329.944 Q37.4273 329.944 32.4621 325.616 Q27.4968 321.255 27.4968 313.584 Z\" fill=\"#000000\" fill-rule=\"evenodd\" fill-opacity=\"1\" /><path clip-path=\"url(#clip090)\" d=\"M42.4881 257.885 L64.0042 257.885 L64.0042 263.741 L42.679 263.741 Q37.6183 263.741 35.1038 265.714 Q32.5894 267.688 32.5894 271.634 Q32.5894 276.377 35.6131 279.114 Q38.6368 281.851 43.8567 281.851 L64.0042 281.851 L64.0042 287.74 L28.3562 287.74 L28.3562 281.851 L33.8944 281.851 Q30.6797 279.751 29.0883 276.918 Q27.4968 274.053 27.4968 270.33 Q27.4968 264.187 31.3163 261.036 Q35.1038 257.885 42.4881 257.885 Z\" fill=\"#000000\" fill-rule=\"evenodd\" fill-opacity=\"1\" /><path clip-path=\"url(#clip090)\" d=\"M32.4621 232.39 Q32.4621 237.101 36.1542 239.838 Q39.8145 242.575 46.212 242.575 Q52.6095 242.575 56.3017 239.87 Q59.9619 237.132 59.9619 232.39 Q59.9619 227.711 56.2698 224.974 Q52.5777 222.237 46.212 222.237 Q39.8781 222.237 36.186 224.974 Q32.4621 227.711 32.4621 232.39 M27.4968 232.39 Q27.4968 224.751 32.4621 220.391 Q37.4273 216.03 46.212 216.03 Q54.9649 216.03 59.9619 220.391 Q64.9272 224.751 64.9272 232.39 Q64.9272 240.061 59.9619 244.421 Q54.9649 248.75 46.212 248.75 Q37.4273 248.75 32.4621 244.421 Q27.4968 240.061 27.4968 232.39 Z\" fill=\"#000000\" fill-rule=\"evenodd\" fill-opacity=\"1\" /><polyline clip-path=\"url(#clip092)\" style=\"stroke:#000000; stroke-linecap:round; stroke-linejoin:round; stroke-width:4; stroke-opacity:1; fill:none\" stroke-dasharray=\"2, 4\" points=\"309.067,63.5442 413.497,63.5442 517.926,63.5442 622.356,63.5442 726.786,63.5442 831.215,63.5442 935.645,63.5442 1040.07,63.5442 1144.5,63.5442 1248.93,63.5442 1353.36,63.5442 1457.79,63.5442 1562.22,63.5442 1666.65,63.5442 1771.08,63.5442 1875.51,63.5442 1979.94,63.5442 2084.37,63.5442 2188.8,63.5442 2293.23,63.5442 \"/>\n",
       "<polyline clip-path=\"url(#clip092)\" style=\"stroke:#000000; stroke-linecap:round; stroke-linejoin:round; stroke-width:4; stroke-opacity:1; fill:none\" stroke-dasharray=\"2, 4\" points=\"309.067,89.4173 413.497,89.4173 517.926,89.4173 622.356,89.4173 726.786,89.4173 831.215,89.4173 935.645,89.4173 1040.07,89.4173 1144.5,89.4173 1248.93,89.4173 1353.36,89.4173 1457.79,89.4173 1562.22,89.4173 1666.65,89.4173 1771.08,89.4173 1875.51,89.4173 1979.94,89.4173 2084.37,89.4173 2188.8,89.4173 2293.23,89.4173 \"/>\n",
       "<polyline clip-path=\"url(#clip092)\" style=\"stroke:#ff0000; stroke-linecap:round; stroke-linejoin:round; stroke-width:20; stroke-opacity:0.3; fill:none\" points=\"309.067,565.172 413.497,531.289 517.926,352.821 622.356,174.376 726.786,125.664 831.215,176.862 935.645,212.389 1040.07,186.498 1144.5,139.913 1248.93,110.728 1353.36,95.4242 1457.79,85.2287 1562.22,88.6866 1666.65,90.8011 1771.08,84.8901 1875.51,81.3804 1979.94,86.5082 2084.37,87.6205 2188.8,83.5717 2293.23,82.1725 \"/>\n",
       "<polyline clip-path=\"url(#clip092)\" style=\"stroke:#f2000d; stroke-linecap:round; stroke-linejoin:round; stroke-width:20; stroke-opacity:0.3; fill:none\" points=\"309.067,565.172 413.497,521.581 517.926,354.63 622.356,188.388 726.786,135.127 831.215,170.137 935.645,194.278 1040.07,169.096 1144.5,137.783 1248.93,116.911 1353.36,98.8977 1457.79,87.6077 1562.22,91.0726 1666.65,92.963 1771.08,86.5751 1875.51,82.2019 1979.94,88.8801 2084.37,91.6469 2188.8,86.1588 2293.23,82.5987 \"/>\n",
       "<polyline clip-path=\"url(#clip092)\" style=\"stroke:#e4001b; stroke-linecap:round; stroke-linejoin:round; stroke-width:20; stroke-opacity:0.3; fill:none\" points=\"309.067,565.172 413.497,541.66 517.926,350.091 622.356,158.659 726.786,116.544 831.215,186.881 935.645,234.84 1040.07,206.682 1144.5,145.619 1248.93,104.49 1353.36,89.6967 1457.79,83.4363 1562.22,86.036 1666.65,86.5842 1771.08,82.5969 1875.51,81.5394 1979.94,82.4608 2084.37,82.2943 2188.8,81.5917 2293.23,80.8655 \"/>\n",
       "<polyline clip-path=\"url(#clip092)\" style=\"stroke:#d70028; stroke-linecap:round; stroke-linejoin:round; stroke-width:20; stroke-opacity:0.3; fill:none\" points=\"309.067,565.172 413.497,517.363 517.926,355.201 622.356,194.26 726.786,139.452 831.215,167.898 935.645,187.166 1040.07,161.91 1144.5,135.349 1248.93,119.112 1353.36,100.991 1457.79,88.0799 1562.22,91.8615 1666.65,95.0526 1771.08,88.1915 1875.51,82.5709 1979.94,89.6308 2084.37,93.5738 2188.8,87.5044 2293.23,82.6488 \"/>\n",
       "<polyline clip-path=\"url(#clip092)\" style=\"stroke:#c90036; stroke-linecap:round; stroke-linejoin:round; stroke-width:20; stroke-opacity:0.3; fill:none\" points=\"309.067,565.172 413.497,532.017 517.926,352.655 622.356,173.297 726.786,124.996 831.215,177.486 935.645,213.896 1040.07,187.913 1144.5,140.259 1248.93,110.236 1353.36,95.2172 1457.79,85.3214 1562.22,88.6802 1666.65,90.6681 1771.08,84.7912 1875.51,81.403 1979.94,86.2123 2084.37,87.2162 2188.8,83.4105 2293.23,82.061 \"/>\n",
       "<polyline clip-path=\"url(#clip092)\" style=\"stroke:#bc0043; stroke-linecap:round; stroke-linejoin:round; stroke-width:20; stroke-opacity:0.3; fill:none\" points=\"309.067,565.172 413.497,534.552 517.926,352.048 622.356,169.506 726.786,122.7 831.215,179.778 935.645,219.277 1040.07,192.903 1144.5,141.473 1248.93,108.466 1353.36,94.2806 1457.79,85.5331 1562.22,88.5654 1666.65,90.0036 1771.08,84.3573 1875.51,81.5895 1979.94,85.1413 2084.37,85.7052 2188.8,82.8594 2293.23,81.6782 \"/>\n",
       "<polyline clip-path=\"url(#clip092)\" style=\"stroke:#ae0051; stroke-linecap:round; stroke-linejoin:round; stroke-width:20; stroke-opacity:0.3; fill:none\" points=\"309.067,565.172 413.497,530.915 517.926,352.898 622.356,174.92 726.786,126.009 831.215,176.548 935.645,211.617 1040.07,185.762 1144.5,139.727 1248.93,110.977 1353.36,95.5191 1457.79,85.1721 1562.22,88.682 1666.65,90.8585 1771.08,84.9355 1875.51,81.3733 1979.94,86.6533 2084.37,87.8177 2188.8,83.6532 2293.23,82.2268 \"/>\n",
       "<polyline clip-path=\"url(#clip092)\" style=\"stroke:#a1005e; stroke-linecap:round; stroke-linejoin:round; stroke-width:20; stroke-opacity:0.3; fill:none\" points=\"309.067,565.172 413.497,536.709 517.926,351.496 622.356,166.252 726.786,120.796 831.215,181.852 935.645,223.969 1040.07,197.17 1144.5,142.463 1248.93,106.911 1353.36,93.4174 1457.79,85.6904 1562.22,88.5021 1666.65,89.3421 1771.08,83.9095 1875.51,81.7092 1979.94,84.2714 2084.37,84.5112 2188.8,82.4374 2293.23,81.3988 \"/>\n",
       "<polyline clip-path=\"url(#clip092)\" style=\"stroke:#94006b; stroke-linecap:round; stroke-linejoin:round; stroke-width:20; stroke-opacity:0.3; fill:none\" points=\"309.067,565.172 413.497,535.639 517.926,351.778 622.356,167.875 726.786,121.736 831.215,180.806 935.645,221.627 1040.07,195.052 1144.5,141.978 1248.93,107.694 1353.36,93.8711 1457.79,85.632 1562.22,88.5467 1666.65,89.6872 1771.08,84.1399 1875.51,81.646 1979.94,84.7065 2084.37,85.109 2188.8,82.645 2293.23,81.5354 \"/>\n",
       "<polyline clip-path=\"url(#clip092)\" style=\"stroke:#860079; stroke-linecap:round; stroke-linejoin:round; stroke-width:20; stroke-opacity:0.3; fill:none\" points=\"309.067,565.172 413.497,544.79 517.926,349.105 622.356,153.774 726.786,113.975 831.215,190.365 935.645,241.971 1040.07,212.705 1144.5,147.591 1248.93,102.911 1353.36,87.2185 1457.79,82.2455 1562.22,83.7481 1666.65,84.1763 1771.08,81.9251 1875.51,81.2263 1979.94,81.8585 2084.37,81.7492 2188.8,81.2667 2293.23,80.7062 \"/>\n",
       "<polyline clip-path=\"url(#clip092)\" style=\"stroke:#790086; stroke-linecap:round; stroke-linejoin:round; stroke-width:20; stroke-opacity:0.3; fill:none\" points=\"309.067,565.172 413.497,528.343 517.926,353.445 622.356,178.702 726.786,128.432 831.215,174.493 935.645,206.454 1040.07,180.842 1144.5,138.521 1248.93,112.664 1353.36,96.2371 1457.79,84.892 1562.22,88.7084 1666.65,91.3268 1771.08,85.2762 1875.51,81.3215 1979.94,87.3651 2084.37,89.0485 2188.8,84.2497 2293.23,82.2603 \"/>\n",
       "<polyline clip-path=\"url(#clip092)\" style=\"stroke:#6b0094; stroke-linecap:round; stroke-linejoin:round; stroke-width:20; stroke-opacity:0.3; fill:none\" points=\"309.067,565.172 413.497,515.026 517.926,355.457 622.356,197.447 726.786,141.916 831.215,166.911 935.645,183.566 1040.07,158.202 1144.5,133.765 1248.93,119.999 1353.36,102.505 1457.79,88.8623 1562.22,92.6152 1666.65,96.5331 1771.08,89.4645 1875.51,83.0401 1979.94,90.2223 2084.37,94.9235 2188.8,88.5909 2293.23,82.9971 \"/>\n",
       "<polyline clip-path=\"url(#clip092)\" style=\"stroke:#5e00a1; stroke-linecap:round; stroke-linejoin:round; stroke-width:20; stroke-opacity:0.3; fill:none\" points=\"309.067,565.172 413.497,544.099 517.926,349.33 622.356,154.859 726.786,114.534 831.215,189.575 935.645,240.379 1040.07,211.376 1144.5,147.184 1248.93,103.287 1353.36,87.6799 1457.79,82.3209 1562.22,84.2255 1666.65,84.7614 1771.08,82.0641 1875.51,81.2995 1979.94,81.9442 2084.37,81.8054 2188.8,81.3236 2293.23,80.7298 \"/>\n",
       "<polyline clip-path=\"url(#clip092)\" style=\"stroke:#5100ae; stroke-linecap:round; stroke-linejoin:round; stroke-width:20; stroke-opacity:0.3; fill:none\" points=\"309.067,606.88 413.497,606.88 517.926,606.88 622.356,606.88 726.786,606.88 831.215,606.88 935.645,606.88 1040.07,606.88 1144.5,606.88 1248.93,606.88 1353.36,606.88 1457.79,606.88 1562.22,606.88 1666.65,606.88 1771.08,606.88 1875.51,606.88 1979.94,606.88 2084.37,606.88 2188.8,606.88 2293.23,606.88 \"/>\n",
       "<polyline clip-path=\"url(#clip092)\" style=\"stroke:#4300bc; stroke-linecap:round; stroke-linejoin:round; stroke-width:20; stroke-opacity:0.3; fill:none\" points=\"309.067,606.88 413.497,606.88 517.926,606.88 622.356,606.88 726.786,606.88 831.215,606.88 935.645,606.88 1040.07,606.88 1144.5,606.88 1248.93,606.88 1353.36,606.88 1457.79,606.88 1562.22,606.88 1666.65,606.88 1771.08,606.88 1875.51,606.88 1979.94,606.88 2084.37,606.88 2188.8,606.88 2293.23,606.88 \"/>\n",
       "<polyline clip-path=\"url(#clip092)\" style=\"stroke:#3600c9; stroke-linecap:round; stroke-linejoin:round; stroke-width:20; stroke-opacity:0.3; fill:none\" points=\"309.067,606.88 413.497,606.88 517.926,606.88 622.356,606.88 726.786,606.88 831.215,606.88 935.645,606.88 1040.07,606.88 1144.5,606.88 1248.93,606.88 1353.36,606.88 1457.79,606.88 1562.22,606.88 1666.65,606.88 1771.08,606.88 1875.51,606.88 1979.94,606.88 2084.37,606.88 2188.8,606.88 2293.23,606.88 \"/>\n",
       "<polyline clip-path=\"url(#clip092)\" style=\"stroke:#2800d7; stroke-linecap:round; stroke-linejoin:round; stroke-width:20; stroke-opacity:0.3; fill:none\" points=\"309.067,606.88 413.497,606.88 517.926,606.88 622.356,606.88 726.786,606.88 831.215,606.88 935.645,606.88 1040.07,606.88 1144.5,606.88 1248.93,606.88 1353.36,606.88 1457.79,606.88 1562.22,606.88 1666.65,606.88 1771.08,606.88 1875.51,606.88 1979.94,606.88 2084.37,606.88 2188.8,606.88 2293.23,606.88 \"/>\n",
       "<polyline clip-path=\"url(#clip092)\" style=\"stroke:#1b00e4; stroke-linecap:round; stroke-linejoin:round; stroke-width:20; stroke-opacity:0.3; fill:none\" points=\"309.067,606.88 413.497,606.88 517.926,606.88 622.356,606.88 726.786,606.88 831.215,606.88 935.645,606.88 1040.07,606.88 1144.5,606.88 1248.93,606.88 1353.36,606.88 1457.79,606.88 1562.22,606.88 1666.65,606.88 1771.08,606.88 1875.51,606.88 1979.94,606.88 2084.37,606.88 2188.8,606.88 2293.23,606.88 \"/>\n",
       "<polyline clip-path=\"url(#clip092)\" style=\"stroke:#0d00f2; stroke-linecap:round; stroke-linejoin:round; stroke-width:20; stroke-opacity:0.3; fill:none\" points=\"309.067,606.88 413.497,606.88 517.926,606.88 622.356,606.88 726.786,606.88 831.215,606.88 935.645,606.88 1040.07,606.88 1144.5,606.88 1248.93,606.88 1353.36,606.88 1457.79,606.88 1562.22,606.88 1666.65,606.88 1771.08,606.88 1875.51,606.88 1979.94,606.88 2084.37,606.88 2188.8,606.88 2293.23,606.88 \"/>\n",
       "<polyline clip-path=\"url(#clip092)\" style=\"stroke:#0000ff; stroke-linecap:round; stroke-linejoin:round; stroke-width:20; stroke-opacity:0.3; fill:none\" points=\"309.067,606.88 413.497,606.88 517.926,606.88 622.356,606.88 726.786,606.88 831.215,606.88 935.645,606.88 1040.07,606.88 1144.5,606.88 1248.93,606.88 1353.36,606.88 1457.79,606.88 1562.22,606.88 1666.65,606.88 1771.08,606.88 1875.51,606.88 1979.94,606.88 2084.37,606.88 2188.8,606.88 2293.23,606.88 \"/>\n",
       "<path clip-path=\"url(#clip090)\" d=\"M249.542 1423.18 L2352.76 1423.18 L2352.76 847.244 L249.542 847.244  Z\" fill=\"#ffffff\" fill-rule=\"evenodd\" fill-opacity=\"1\"/>\n",
       "<defs>\n",
       "  <clipPath id=\"clip093\">\n",
       "    <rect x=\"249\" y=\"847\" width=\"2104\" height=\"577\"/>\n",
       "  </clipPath>\n",
       "</defs>\n",
       "<polyline clip-path=\"url(#clip093)\" style=\"stroke:#000000; stroke-linecap:round; stroke-linejoin:round; stroke-width:8; stroke-opacity:0.1; fill:none\" points=\"726.786,1423.18 726.786,847.244 \"/>\n",
       "<polyline clip-path=\"url(#clip093)\" style=\"stroke:#000000; stroke-linecap:round; stroke-linejoin:round; stroke-width:8; stroke-opacity:0.1; fill:none\" points=\"1248.93,1423.18 1248.93,847.244 \"/>\n",
       "<polyline clip-path=\"url(#clip093)\" style=\"stroke:#000000; stroke-linecap:round; stroke-linejoin:round; stroke-width:8; stroke-opacity:0.1; fill:none\" points=\"1771.08,1423.18 1771.08,847.244 \"/>\n",
       "<polyline clip-path=\"url(#clip093)\" style=\"stroke:#000000; stroke-linecap:round; stroke-linejoin:round; stroke-width:8; stroke-opacity:0.1; fill:none\" points=\"2293.23,1423.18 2293.23,847.244 \"/>\n",
       "<polyline clip-path=\"url(#clip090)\" style=\"stroke:#000000; stroke-linecap:round; stroke-linejoin:round; stroke-width:4; stroke-opacity:1; fill:none\" points=\"249.542,1423.18 2352.76,1423.18 \"/>\n",
       "<polyline clip-path=\"url(#clip090)\" style=\"stroke:#000000; stroke-linecap:round; stroke-linejoin:round; stroke-width:4; stroke-opacity:1; fill:none\" points=\"726.786,1423.18 726.786,1404.28 \"/>\n",
       "<polyline clip-path=\"url(#clip090)\" style=\"stroke:#000000; stroke-linecap:round; stroke-linejoin:round; stroke-width:4; stroke-opacity:1; fill:none\" points=\"1248.93,1423.18 1248.93,1404.28 \"/>\n",
       "<polyline clip-path=\"url(#clip090)\" style=\"stroke:#000000; stroke-linecap:round; stroke-linejoin:round; stroke-width:4; stroke-opacity:1; fill:none\" points=\"1771.08,1423.18 1771.08,1404.28 \"/>\n",
       "<polyline clip-path=\"url(#clip090)\" style=\"stroke:#000000; stroke-linecap:round; stroke-linejoin:round; stroke-width:4; stroke-opacity:1; fill:none\" points=\"2293.23,1423.18 2293.23,1404.28 \"/>\n",
       "<path clip-path=\"url(#clip090)\" d=\"M717.064 1451.02 L735.42 1451.02 L735.42 1454.96 L721.346 1454.96 L721.346 1463.43 Q722.364 1463.08 723.383 1462.92 Q724.401 1462.73 725.42 1462.73 Q731.207 1462.73 734.587 1465.9 Q737.966 1469.08 737.966 1474.49 Q737.966 1480.07 734.494 1483.17 Q731.022 1486.25 724.702 1486.25 Q722.526 1486.25 720.258 1485.88 Q718.013 1485.51 715.605 1484.77 L715.605 1480.07 Q717.689 1481.2 719.911 1481.76 Q722.133 1482.32 724.61 1482.32 Q728.614 1482.32 730.952 1480.21 Q733.29 1478.1 733.29 1474.49 Q733.29 1470.88 730.952 1468.77 Q728.614 1466.67 724.61 1466.67 Q722.735 1466.67 720.86 1467.08 Q719.008 1467.5 717.064 1468.38 L717.064 1451.02 Z\" fill=\"#000000\" fill-rule=\"evenodd\" fill-opacity=\"1\" /><path clip-path=\"url(#clip090)\" d=\"M1223.62 1481.64 L1231.26 1481.64 L1231.26 1455.28 L1222.95 1456.95 L1222.95 1452.69 L1231.21 1451.02 L1235.89 1451.02 L1235.89 1481.64 L1243.53 1481.64 L1243.53 1485.58 L1223.62 1485.58 L1223.62 1481.64 Z\" fill=\"#000000\" fill-rule=\"evenodd\" fill-opacity=\"1\" /><path clip-path=\"url(#clip090)\" d=\"M1262.97 1454.1 Q1259.36 1454.1 1257.53 1457.66 Q1255.73 1461.2 1255.73 1468.33 Q1255.73 1475.44 1257.53 1479.01 Q1259.36 1482.55 1262.97 1482.55 Q1266.61 1482.55 1268.41 1479.01 Q1270.24 1475.44 1270.24 1468.33 Q1270.24 1461.2 1268.41 1457.66 Q1266.61 1454.1 1262.97 1454.1 M1262.97 1450.39 Q1268.78 1450.39 1271.84 1455 Q1274.92 1459.58 1274.92 1468.33 Q1274.92 1477.06 1271.84 1481.67 Q1268.78 1486.25 1262.97 1486.25 Q1257.16 1486.25 1254.08 1481.67 Q1251.03 1477.06 1251.03 1468.33 Q1251.03 1459.58 1254.08 1455 Q1257.16 1450.39 1262.97 1450.39 Z\" fill=\"#000000\" fill-rule=\"evenodd\" fill-opacity=\"1\" /><path clip-path=\"url(#clip090)\" d=\"M1746.27 1481.64 L1753.91 1481.64 L1753.91 1455.28 L1745.6 1456.95 L1745.6 1452.69 L1753.86 1451.02 L1758.54 1451.02 L1758.54 1481.64 L1766.18 1481.64 L1766.18 1485.58 L1746.27 1485.58 L1746.27 1481.64 Z\" fill=\"#000000\" fill-rule=\"evenodd\" fill-opacity=\"1\" /><path clip-path=\"url(#clip090)\" d=\"M1775.67 1451.02 L1794.02 1451.02 L1794.02 1454.96 L1779.95 1454.96 L1779.95 1463.43 Q1780.97 1463.08 1781.99 1462.92 Q1783 1462.73 1784.02 1462.73 Q1789.81 1462.73 1793.19 1465.9 Q1796.57 1469.08 1796.57 1474.49 Q1796.57 1480.07 1793.1 1483.17 Q1789.62 1486.25 1783.3 1486.25 Q1781.13 1486.25 1778.86 1485.88 Q1776.61 1485.51 1774.21 1484.77 L1774.21 1480.07 Q1776.29 1481.2 1778.51 1481.76 Q1780.74 1482.32 1783.21 1482.32 Q1787.22 1482.32 1789.55 1480.21 Q1791.89 1478.1 1791.89 1474.49 Q1791.89 1470.88 1789.55 1468.77 Q1787.22 1466.67 1783.21 1466.67 Q1781.34 1466.67 1779.46 1467.08 Q1777.61 1467.5 1775.67 1468.38 L1775.67 1451.02 Z\" fill=\"#000000\" fill-rule=\"evenodd\" fill-opacity=\"1\" /><path clip-path=\"url(#clip090)\" d=\"M2272 1481.64 L2288.32 1481.64 L2288.32 1485.58 L2266.38 1485.58 L2266.38 1481.64 Q2269.04 1478.89 2273.62 1474.26 Q2278.23 1469.61 2279.41 1468.27 Q2281.66 1465.74 2282.54 1464.01 Q2283.44 1462.25 2283.44 1460.56 Q2283.44 1457.8 2281.49 1456.07 Q2279.57 1454.33 2276.47 1454.33 Q2274.27 1454.33 2271.82 1455.09 Q2269.39 1455.86 2266.61 1457.41 L2266.61 1452.69 Q2269.43 1451.55 2271.89 1450.97 Q2274.34 1450.39 2276.38 1450.39 Q2281.75 1450.39 2284.94 1453.08 Q2288.14 1455.77 2288.14 1460.26 Q2288.14 1462.39 2287.33 1464.31 Q2286.54 1466.2 2284.43 1468.8 Q2283.86 1469.47 2280.75 1472.69 Q2277.65 1475.88 2272 1481.64 Z\" fill=\"#000000\" fill-rule=\"evenodd\" fill-opacity=\"1\" /><path clip-path=\"url(#clip090)\" d=\"M2308.14 1454.1 Q2304.53 1454.1 2302.7 1457.66 Q2300.89 1461.2 2300.89 1468.33 Q2300.89 1475.44 2302.7 1479.01 Q2304.53 1482.55 2308.14 1482.55 Q2311.77 1482.55 2313.58 1479.01 Q2315.41 1475.44 2315.41 1468.33 Q2315.41 1461.2 2313.58 1457.66 Q2311.77 1454.1 2308.14 1454.1 M2308.14 1450.39 Q2313.95 1450.39 2317 1455 Q2320.08 1459.58 2320.08 1468.33 Q2320.08 1477.06 2317 1481.67 Q2313.95 1486.25 2308.14 1486.25 Q2302.33 1486.25 2299.25 1481.67 Q2296.19 1477.06 2296.19 1468.33 Q2296.19 1459.58 2299.25 1455 Q2302.33 1450.39 2308.14 1450.39 Z\" fill=\"#000000\" fill-rule=\"evenodd\" fill-opacity=\"1\" /><path clip-path=\"url(#clip090)\" d=\"M1195.29 1522.27 L1195.29 1532.4 L1207.35 1532.4 L1207.35 1536.95 L1195.29 1536.95 L1195.29 1556.3 Q1195.29 1560.66 1196.46 1561.9 Q1197.67 1563.14 1201.33 1563.14 L1207.35 1563.14 L1207.35 1568.04 L1201.33 1568.04 Q1194.56 1568.04 1191.98 1565.53 Q1189.4 1562.98 1189.4 1556.3 L1189.4 1536.95 L1185.1 1536.95 L1185.1 1532.4 L1189.4 1532.4 L1189.4 1522.27 L1195.29 1522.27 Z\" fill=\"#000000\" fill-rule=\"evenodd\" fill-opacity=\"1\" /><path clip-path=\"url(#clip090)\" d=\"M1215.05 1532.4 L1220.91 1532.4 L1220.91 1568.04 L1215.05 1568.04 L1215.05 1532.4 M1215.05 1518.52 L1220.91 1518.52 L1220.91 1525.93 L1215.05 1525.93 L1215.05 1518.52 Z\" fill=\"#000000\" fill-rule=\"evenodd\" fill-opacity=\"1\" /><path clip-path=\"url(#clip090)\" d=\"M1260.92 1539.24 Q1263.11 1535.29 1266.17 1533.41 Q1269.22 1531.54 1273.36 1531.54 Q1278.93 1531.54 1281.96 1535.45 Q1284.98 1539.33 1284.98 1546.53 L1284.98 1568.04 L1279.09 1568.04 L1279.09 1546.72 Q1279.09 1541.59 1277.28 1539.11 Q1275.46 1536.63 1271.74 1536.63 Q1267.19 1536.63 1264.55 1539.65 Q1261.9 1542.68 1261.9 1547.9 L1261.9 1568.04 L1256.02 1568.04 L1256.02 1546.72 Q1256.02 1541.56 1254.2 1539.11 Q1252.39 1536.63 1248.6 1536.63 Q1244.11 1536.63 1241.47 1539.68 Q1238.83 1542.71 1238.83 1547.9 L1238.83 1568.04 L1232.94 1568.04 L1232.94 1532.4 L1238.83 1532.4 L1238.83 1537.93 Q1240.83 1534.66 1243.63 1533.1 Q1246.44 1531.54 1250.29 1531.54 Q1254.17 1531.54 1256.88 1533.51 Q1259.61 1535.48 1260.92 1539.24 Z\" fill=\"#000000\" fill-rule=\"evenodd\" fill-opacity=\"1\" /><path clip-path=\"url(#clip090)\" d=\"M1327.15 1548.76 L1327.15 1551.62 L1300.23 1551.62 Q1300.61 1557.67 1303.85 1560.85 Q1307.13 1564 1312.96 1564 Q1316.33 1564 1319.48 1563.17 Q1322.67 1562.35 1325.78 1560.69 L1325.78 1566.23 Q1322.63 1567.57 1319.32 1568.27 Q1316.01 1568.97 1312.61 1568.97 Q1304.08 1568.97 1299.08 1564 Q1294.11 1559.04 1294.11 1550.57 Q1294.11 1541.82 1298.83 1536.69 Q1303.57 1531.54 1311.59 1531.54 Q1318.78 1531.54 1322.95 1536.18 Q1327.15 1540.8 1327.15 1548.76 M1321.3 1547.04 Q1321.23 1542.23 1318.59 1539.37 Q1315.98 1536.5 1311.65 1536.5 Q1306.75 1536.5 1303.79 1539.27 Q1300.86 1542.04 1300.42 1547.07 L1321.3 1547.04 Z\" fill=\"#000000\" fill-rule=\"evenodd\" fill-opacity=\"1\" /><path clip-path=\"url(#clip090)\" d=\"M1336.22 1518.52 L1349.72 1518.52 L1349.72 1523.07 L1342.08 1523.07 L1342.08 1572.09 L1349.72 1572.09 L1349.72 1576.64 L1336.22 1576.64 L1336.22 1518.52 Z\" fill=\"#000000\" fill-rule=\"evenodd\" fill-opacity=\"1\" /><path clip-path=\"url(#clip090)\" d=\"M1391.83 1546.53 L1391.83 1568.04 L1385.97 1568.04 L1385.97 1546.72 Q1385.97 1541.66 1384 1539.14 Q1382.03 1536.63 1378.08 1536.63 Q1373.34 1536.63 1370.6 1539.65 Q1367.86 1542.68 1367.86 1547.9 L1367.86 1568.04 L1361.97 1568.04 L1361.97 1518.52 L1367.86 1518.52 L1367.86 1537.93 Q1369.96 1534.72 1372.79 1533.13 Q1375.66 1531.54 1379.38 1531.54 Q1385.53 1531.54 1388.68 1535.36 Q1391.83 1539.14 1391.83 1546.53 Z\" fill=\"#000000\" fill-rule=\"evenodd\" fill-opacity=\"1\" /><path clip-path=\"url(#clip090)\" d=\"M1417.2 1518.52 L1417.2 1576.64 L1403.7 1576.64 L1403.7 1572.09 L1411.31 1572.09 L1411.31 1523.07 L1403.7 1523.07 L1403.7 1518.52 L1417.2 1518.52 Z\" fill=\"#000000\" fill-rule=\"evenodd\" fill-opacity=\"1\" /><polyline clip-path=\"url(#clip093)\" style=\"stroke:#000000; stroke-linecap:round; stroke-linejoin:round; stroke-width:8; stroke-opacity:0.1; fill:none\" points=\"249.542,1406.88 2352.76,1406.88 \"/>\n",
       "<polyline clip-path=\"url(#clip093)\" style=\"stroke:#000000; stroke-linecap:round; stroke-linejoin:round; stroke-width:8; stroke-opacity:0.1; fill:none\" points=\"249.542,1325.38 2352.76,1325.38 \"/>\n",
       "<polyline clip-path=\"url(#clip093)\" style=\"stroke:#000000; stroke-linecap:round; stroke-linejoin:round; stroke-width:8; stroke-opacity:0.1; fill:none\" points=\"249.542,1243.88 2352.76,1243.88 \"/>\n",
       "<polyline clip-path=\"url(#clip093)\" style=\"stroke:#000000; stroke-linecap:round; stroke-linejoin:round; stroke-width:8; stroke-opacity:0.1; fill:none\" points=\"249.542,1162.38 2352.76,1162.38 \"/>\n",
       "<polyline clip-path=\"url(#clip093)\" style=\"stroke:#000000; stroke-linecap:round; stroke-linejoin:round; stroke-width:8; stroke-opacity:0.1; fill:none\" points=\"249.542,1080.88 2352.76,1080.88 \"/>\n",
       "<polyline clip-path=\"url(#clip093)\" style=\"stroke:#000000; stroke-linecap:round; stroke-linejoin:round; stroke-width:8; stroke-opacity:0.1; fill:none\" points=\"249.542,999.378 2352.76,999.378 \"/>\n",
       "<polyline clip-path=\"url(#clip093)\" style=\"stroke:#000000; stroke-linecap:round; stroke-linejoin:round; stroke-width:8; stroke-opacity:0.1; fill:none\" points=\"249.542,917.878 2352.76,917.878 \"/>\n",
       "<polyline clip-path=\"url(#clip090)\" style=\"stroke:#000000; stroke-linecap:round; stroke-linejoin:round; stroke-width:4; stroke-opacity:1; fill:none\" points=\"249.542,1423.18 249.542,847.244 \"/>\n",
       "<polyline clip-path=\"url(#clip090)\" style=\"stroke:#000000; stroke-linecap:round; stroke-linejoin:round; stroke-width:4; stroke-opacity:1; fill:none\" points=\"249.542,1406.88 268.44,1406.88 \"/>\n",
       "<polyline clip-path=\"url(#clip090)\" style=\"stroke:#000000; stroke-linecap:round; stroke-linejoin:round; stroke-width:4; stroke-opacity:1; fill:none\" points=\"249.542,1325.38 268.44,1325.38 \"/>\n",
       "<polyline clip-path=\"url(#clip090)\" style=\"stroke:#000000; stroke-linecap:round; stroke-linejoin:round; stroke-width:4; stroke-opacity:1; fill:none\" points=\"249.542,1243.88 268.44,1243.88 \"/>\n",
       "<polyline clip-path=\"url(#clip090)\" style=\"stroke:#000000; stroke-linecap:round; stroke-linejoin:round; stroke-width:4; stroke-opacity:1; fill:none\" points=\"249.542,1162.38 268.44,1162.38 \"/>\n",
       "<polyline clip-path=\"url(#clip090)\" style=\"stroke:#000000; stroke-linecap:round; stroke-linejoin:round; stroke-width:4; stroke-opacity:1; fill:none\" points=\"249.542,1080.88 268.44,1080.88 \"/>\n",
       "<polyline clip-path=\"url(#clip090)\" style=\"stroke:#000000; stroke-linecap:round; stroke-linejoin:round; stroke-width:4; stroke-opacity:1; fill:none\" points=\"249.542,999.378 268.44,999.378 \"/>\n",
       "<polyline clip-path=\"url(#clip090)\" style=\"stroke:#000000; stroke-linecap:round; stroke-linejoin:round; stroke-width:4; stroke-opacity:1; fill:none\" points=\"249.542,917.878 268.44,917.878 \"/>\n",
       "<path clip-path=\"url(#clip090)\" d=\"M201.598 1392.68 Q197.987 1392.68 196.158 1396.24 Q194.352 1399.78 194.352 1406.91 Q194.352 1414.02 196.158 1417.59 Q197.987 1421.13 201.598 1421.13 Q205.232 1421.13 207.037 1417.59 Q208.866 1414.02 208.866 1406.91 Q208.866 1399.78 207.037 1396.24 Q205.232 1392.68 201.598 1392.68 M201.598 1388.97 Q207.408 1388.97 210.463 1393.58 Q213.542 1398.16 213.542 1406.91 Q213.542 1415.64 210.463 1420.25 Q207.408 1424.83 201.598 1424.83 Q195.787 1424.83 192.709 1420.25 Q189.653 1415.64 189.653 1406.91 Q189.653 1398.16 192.709 1393.58 Q195.787 1388.97 201.598 1388.97 Z\" fill=\"#000000\" fill-rule=\"evenodd\" fill-opacity=\"1\" /><path clip-path=\"url(#clip090)\" d=\"M162.246 1338.72 L169.885 1338.72 L169.885 1312.36 L161.575 1314.03 L161.575 1309.77 L169.839 1308.1 L174.514 1308.1 L174.514 1338.72 L182.153 1338.72 L182.153 1342.66 L162.246 1342.66 L162.246 1338.72 Z\" fill=\"#000000\" fill-rule=\"evenodd\" fill-opacity=\"1\" /><path clip-path=\"url(#clip090)\" d=\"M201.598 1311.18 Q197.987 1311.18 196.158 1314.74 Q194.352 1318.28 194.352 1325.41 Q194.352 1332.52 196.158 1336.09 Q197.987 1339.63 201.598 1339.63 Q205.232 1339.63 207.037 1336.09 Q208.866 1332.52 208.866 1325.41 Q208.866 1318.28 207.037 1314.74 Q205.232 1311.18 201.598 1311.18 M201.598 1307.47 Q207.408 1307.47 210.463 1312.08 Q213.542 1316.66 213.542 1325.41 Q213.542 1334.14 210.463 1338.75 Q207.408 1343.33 201.598 1343.33 Q195.787 1343.33 192.709 1338.75 Q189.653 1334.14 189.653 1325.41 Q189.653 1316.66 192.709 1312.08 Q195.787 1307.47 201.598 1307.47 Z\" fill=\"#000000\" fill-rule=\"evenodd\" fill-opacity=\"1\" /><path clip-path=\"url(#clip090)\" d=\"M165.464 1257.22 L181.783 1257.22 L181.783 1261.16 L159.839 1261.16 L159.839 1257.22 Q162.501 1254.47 167.084 1249.84 Q171.69 1245.19 172.871 1243.84 Q175.116 1241.32 175.996 1239.59 Q176.899 1237.83 176.899 1236.14 Q176.899 1233.38 174.954 1231.65 Q173.033 1229.91 169.931 1229.91 Q167.732 1229.91 165.278 1230.67 Q162.848 1231.44 160.07 1232.99 L160.07 1228.27 Q162.894 1227.13 165.348 1226.55 Q167.802 1225.97 169.839 1225.97 Q175.209 1225.97 178.403 1228.66 Q181.598 1231.34 181.598 1235.84 Q181.598 1237.96 180.788 1239.89 Q180.001 1241.78 177.894 1244.38 Q177.315 1245.05 174.214 1248.27 Q171.112 1251.46 165.464 1257.22 Z\" fill=\"#000000\" fill-rule=\"evenodd\" fill-opacity=\"1\" /><path clip-path=\"url(#clip090)\" d=\"M201.598 1229.68 Q197.987 1229.68 196.158 1233.24 Q194.352 1236.78 194.352 1243.91 Q194.352 1251.02 196.158 1254.59 Q197.987 1258.13 201.598 1258.13 Q205.232 1258.13 207.037 1254.59 Q208.866 1251.02 208.866 1243.91 Q208.866 1236.78 207.037 1233.24 Q205.232 1229.68 201.598 1229.68 M201.598 1225.97 Q207.408 1225.97 210.463 1230.58 Q213.542 1235.16 213.542 1243.91 Q213.542 1252.64 210.463 1257.25 Q207.408 1261.83 201.598 1261.83 Q195.787 1261.83 192.709 1257.25 Q189.653 1252.64 189.653 1243.91 Q189.653 1235.16 192.709 1230.58 Q195.787 1225.97 201.598 1225.97 Z\" fill=\"#000000\" fill-rule=\"evenodd\" fill-opacity=\"1\" /><path clip-path=\"url(#clip090)\" d=\"M175.602 1161.02 Q178.959 1161.74 180.834 1164.01 Q182.732 1166.28 182.732 1169.61 Q182.732 1174.73 179.214 1177.53 Q175.695 1180.33 169.214 1180.33 Q167.038 1180.33 164.723 1179.89 Q162.431 1179.47 159.978 1178.62 L159.978 1174.1 Q161.922 1175.24 164.237 1175.82 Q166.552 1176.39 169.075 1176.39 Q173.473 1176.39 175.764 1174.66 Q178.079 1172.92 178.079 1169.61 Q178.079 1166.56 175.926 1164.84 Q173.797 1163.11 169.977 1163.11 L165.95 1163.11 L165.95 1159.27 L170.163 1159.27 Q173.612 1159.27 175.44 1157.9 Q177.269 1156.51 177.269 1153.92 Q177.269 1151.26 175.371 1149.84 Q173.496 1148.41 169.977 1148.41 Q168.056 1148.41 165.857 1148.83 Q163.658 1149.24 161.019 1150.12 L161.019 1145.96 Q163.681 1145.21 165.996 1144.84 Q168.334 1144.47 170.394 1144.47 Q175.718 1144.47 178.82 1146.9 Q181.922 1149.31 181.922 1153.43 Q181.922 1156.3 180.278 1158.29 Q178.635 1160.26 175.602 1161.02 Z\" fill=\"#000000\" fill-rule=\"evenodd\" fill-opacity=\"1\" /><path clip-path=\"url(#clip090)\" d=\"M201.598 1148.18 Q197.987 1148.18 196.158 1151.74 Q194.352 1155.28 194.352 1162.41 Q194.352 1169.52 196.158 1173.08 Q197.987 1176.63 201.598 1176.63 Q205.232 1176.63 207.037 1173.08 Q208.866 1169.52 208.866 1162.41 Q208.866 1155.28 207.037 1151.74 Q205.232 1148.18 201.598 1148.18 M201.598 1144.47 Q207.408 1144.47 210.463 1149.08 Q213.542 1153.66 213.542 1162.41 Q213.542 1171.14 210.463 1175.75 Q207.408 1180.33 201.598 1180.33 Q195.787 1180.33 192.709 1175.75 Q189.653 1171.14 189.653 1162.41 Q189.653 1153.66 192.709 1149.08 Q195.787 1144.47 201.598 1144.47 Z\" fill=\"#000000\" fill-rule=\"evenodd\" fill-opacity=\"1\" /><path clip-path=\"url(#clip090)\" d=\"M174.283 1067.67 L162.477 1086.12 L174.283 1086.12 L174.283 1067.67 M173.056 1063.6 L178.936 1063.6 L178.936 1086.12 L183.866 1086.12 L183.866 1090.01 L178.936 1090.01 L178.936 1098.16 L174.283 1098.16 L174.283 1090.01 L158.681 1090.01 L158.681 1085.5 L173.056 1063.6 Z\" fill=\"#000000\" fill-rule=\"evenodd\" fill-opacity=\"1\" /><path clip-path=\"url(#clip090)\" d=\"M201.598 1066.68 Q197.987 1066.68 196.158 1070.24 Q194.352 1073.78 194.352 1080.91 Q194.352 1088.02 196.158 1091.58 Q197.987 1095.13 201.598 1095.13 Q205.232 1095.13 207.037 1091.58 Q208.866 1088.02 208.866 1080.91 Q208.866 1073.78 207.037 1070.24 Q205.232 1066.68 201.598 1066.68 M201.598 1062.97 Q207.408 1062.97 210.463 1067.58 Q213.542 1072.16 213.542 1080.91 Q213.542 1089.64 210.463 1094.25 Q207.408 1098.83 201.598 1098.83 Q195.787 1098.83 192.709 1094.25 Q189.653 1089.64 189.653 1080.91 Q189.653 1072.16 192.709 1067.58 Q195.787 1062.97 201.598 1062.97 Z\" fill=\"#000000\" fill-rule=\"evenodd\" fill-opacity=\"1\" /><path clip-path=\"url(#clip090)\" d=\"M161.482 982.098 L179.839 982.098 L179.839 986.033 L165.765 986.033 L165.765 994.505 Q166.783 994.158 167.802 993.996 Q168.82 993.811 169.839 993.811 Q175.626 993.811 179.005 996.982 Q182.385 1000.15 182.385 1005.57 Q182.385 1011.15 178.913 1014.25 Q175.44 1017.33 169.121 1017.33 Q166.945 1017.33 164.677 1016.96 Q162.431 1016.59 160.024 1015.85 L160.024 1011.15 Q162.107 1012.28 164.329 1012.84 Q166.552 1013.39 169.028 1013.39 Q173.033 1013.39 175.371 1011.29 Q177.709 1009.18 177.709 1005.57 Q177.709 1001.96 175.371 999.853 Q173.033 997.746 169.028 997.746 Q167.153 997.746 165.278 998.163 Q163.427 998.579 161.482 999.459 L161.482 982.098 Z\" fill=\"#000000\" fill-rule=\"evenodd\" fill-opacity=\"1\" /><path clip-path=\"url(#clip090)\" d=\"M201.598 985.177 Q197.987 985.177 196.158 988.742 Q194.352 992.283 194.352 999.413 Q194.352 1006.52 196.158 1010.08 Q197.987 1013.63 201.598 1013.63 Q205.232 1013.63 207.037 1010.08 Q208.866 1006.52 208.866 999.413 Q208.866 992.283 207.037 988.742 Q205.232 985.177 201.598 985.177 M201.598 981.473 Q207.408 981.473 210.463 986.08 Q213.542 990.663 213.542 999.413 Q213.542 1008.14 210.463 1012.75 Q207.408 1017.33 201.598 1017.33 Q195.787 1017.33 192.709 1012.75 Q189.653 1008.14 189.653 999.413 Q189.653 990.663 192.709 986.08 Q195.787 981.473 201.598 981.473 Z\" fill=\"#000000\" fill-rule=\"evenodd\" fill-opacity=\"1\" /><path clip-path=\"url(#clip090)\" d=\"M172.014 916.014 Q168.866 916.014 167.015 918.167 Q165.186 920.32 165.186 924.07 Q165.186 927.797 167.015 929.973 Q168.866 932.125 172.014 932.125 Q175.163 932.125 176.991 929.973 Q178.843 927.797 178.843 924.07 Q178.843 920.32 176.991 918.167 Q175.163 916.014 172.014 916.014 M181.297 901.362 L181.297 905.621 Q179.538 904.788 177.732 904.348 Q175.95 903.908 174.19 903.908 Q169.561 903.908 167.107 907.033 Q164.677 910.158 164.329 916.477 Q165.695 914.463 167.755 913.399 Q169.815 912.311 172.292 912.311 Q177.501 912.311 180.51 915.482 Q183.542 918.63 183.542 924.07 Q183.542 929.394 180.394 932.611 Q177.246 935.829 172.014 935.829 Q166.019 935.829 162.848 931.246 Q159.677 926.639 159.677 917.912 Q159.677 909.718 163.565 904.857 Q167.454 899.973 174.005 899.973 Q175.764 899.973 177.547 900.32 Q179.352 900.667 181.297 901.362 Z\" fill=\"#000000\" fill-rule=\"evenodd\" fill-opacity=\"1\" /><path clip-path=\"url(#clip090)\" d=\"M201.598 903.676 Q197.987 903.676 196.158 907.241 Q194.352 910.783 194.352 917.912 Q194.352 925.019 196.158 928.584 Q197.987 932.125 201.598 932.125 Q205.232 932.125 207.037 928.584 Q208.866 925.019 208.866 917.912 Q208.866 910.783 207.037 907.241 Q205.232 903.676 201.598 903.676 M201.598 899.973 Q207.408 899.973 210.463 904.579 Q213.542 909.162 213.542 917.912 Q213.542 926.639 210.463 931.246 Q207.408 935.829 201.598 935.829 Q195.787 935.829 192.709 931.246 Q189.653 926.639 189.653 917.912 Q189.653 909.162 192.709 904.579 Q195.787 899.973 201.598 899.973 Z\" fill=\"#000000\" fill-rule=\"evenodd\" fill-opacity=\"1\" /><path clip-path=\"url(#clip090)\" d=\"M111.735 1201.49 Q118.101 1203.98 120.043 1206.33 Q121.984 1208.69 121.984 1212.63 L121.984 1217.31 L117.083 1217.31 L117.083 1213.88 Q117.083 1211.46 115.937 1210.12 Q114.791 1208.78 110.526 1207.16 L107.852 1206.11 L72.7773 1220.53 L72.7773 1214.32 L100.659 1203.18 L72.7773 1192.04 L72.7773 1185.84 L111.735 1201.49 Z\" fill=\"#000000\" fill-rule=\"evenodd\" fill-opacity=\"1\" /><path clip-path=\"url(#clip090)\" d=\"M78.1881 1133.57 L58.9 1133.57 L58.9 1127.72 L108.425 1127.72 L108.425 1133.57 L103.078 1133.57 Q106.261 1135.42 107.82 1138.25 Q109.348 1141.05 109.348 1145 Q109.348 1151.46 104.192 1155.53 Q99.0358 1159.58 90.6331 1159.58 Q82.2303 1159.58 77.0741 1155.53 Q71.9179 1151.46 71.9179 1145 Q71.9179 1141.05 73.4775 1138.25 Q75.0053 1135.42 78.1881 1133.57 M90.6331 1153.53 Q97.0943 1153.53 100.786 1150.89 Q104.447 1148.21 104.447 1143.57 Q104.447 1138.92 100.786 1136.25 Q97.0943 1133.57 90.6331 1133.57 Q84.1719 1133.57 80.5116 1136.25 Q76.8195 1138.92 76.8195 1143.57 Q76.8195 1148.21 80.5116 1150.89 Q84.1719 1153.53 90.6331 1153.53 Z\" fill=\"#000000\" fill-rule=\"evenodd\" fill-opacity=\"1\" /><path clip-path=\"url(#clip090)\" d=\"M89.1371 1085.16 L92.0017 1085.16 L92.0017 1112.09 Q98.0491 1111.71 101.232 1108.46 Q104.383 1105.18 104.383 1099.36 Q104.383 1095.98 103.555 1092.83 Q102.728 1089.65 101.073 1086.53 L106.611 1086.53 Q107.948 1089.68 108.648 1092.99 Q109.348 1096.3 109.348 1099.71 Q109.348 1108.24 104.383 1113.23 Q99.4177 1118.2 90.9514 1118.2 Q82.1985 1118.2 77.0741 1113.49 Q71.9179 1108.75 71.9179 1100.73 Q71.9179 1093.53 76.5649 1089.36 Q81.18 1085.16 89.1371 1085.16 M87.4184 1091.02 Q82.6123 1091.08 79.7477 1093.72 Q76.8831 1096.33 76.8831 1100.66 Q76.8831 1105.56 79.6522 1108.52 Q82.4213 1111.45 87.4502 1111.9 L87.4184 1091.02 Z\" fill=\"#000000\" fill-rule=\"evenodd\" fill-opacity=\"1\" /><path clip-path=\"url(#clip090)\" d=\"M74.1459 1049.9 L79.6204 1049.9 Q78.2518 1052.38 77.5834 1054.89 Q76.8831 1057.38 76.8831 1059.92 Q76.8831 1065.62 80.5116 1068.77 Q84.1082 1071.92 90.6331 1071.92 Q97.1579 1071.92 100.786 1068.77 Q104.383 1065.62 104.383 1059.92 Q104.383 1057.38 103.715 1054.89 Q103.014 1052.38 101.646 1049.9 L107.057 1049.9 Q108.202 1052.35 108.775 1054.99 Q109.348 1057.6 109.348 1060.56 Q109.348 1068.61 104.288 1073.35 Q99.2268 1078.1 90.6331 1078.1 Q81.912 1078.1 76.915 1073.32 Q71.9179 1068.52 71.9179 1060.18 Q71.9179 1057.47 72.4908 1054.89 Q73.0319 1052.31 74.1459 1049.9 Z\" fill=\"#000000\" fill-rule=\"evenodd\" fill-opacity=\"1\" /><polyline clip-path=\"url(#clip093)\" style=\"stroke:#000000; stroke-linecap:round; stroke-linejoin:round; stroke-width:4; stroke-opacity:1; fill:none\" stroke-dasharray=\"2, 4\" points=\"309.067,1398.32 413.497,1398.32 517.926,1398.32 622.356,1398.32 726.786,1398.32 831.215,1398.32 935.645,1398.32 1040.07,1398.32 1144.5,1398.32 1248.93,1398.32 1353.36,1398.32 1457.79,1398.32 1562.22,1398.32 1666.65,1398.32 1771.08,1398.32 1875.51,1398.32 1979.94,1398.32 2084.37,1398.32 2188.8,1398.32 2293.23,1398.32 \"/>\n",
       "<polyline clip-path=\"url(#clip093)\" style=\"stroke:#000000; stroke-linecap:round; stroke-linejoin:round; stroke-width:4; stroke-opacity:1; fill:none\" stroke-dasharray=\"2, 4\" points=\"309.067,1398.73 413.497,1398.73 517.926,1398.73 622.356,1398.73 726.786,1398.73 831.215,1398.73 935.645,1398.73 1040.07,1398.73 1144.5,1398.73 1248.93,1398.73 1353.36,1398.73 1457.79,1398.73 1562.22,1398.73 1666.65,1398.73 1771.08,1398.73 1875.51,1398.73 1979.94,1398.73 2084.37,1398.73 2188.8,1398.73 2293.23,1398.73 \"/>\n",
       "<polyline clip-path=\"url(#clip093)\" style=\"stroke:#ff0000; stroke-linecap:round; stroke-linejoin:round; stroke-width:20; stroke-opacity:0.3; fill:none\" points=\"309.067,1406.22 413.497,1406.25 517.926,1404.4 622.356,1402.16 726.786,1400.39 831.215,1399.46 935.645,1399.11 1040.07,1398.83 1144.5,1398.81 1248.93,1398.86 1353.36,1398.72 1457.79,1398.59 1562.22,1398.65 1666.65,1398.69 1771.08,1398.68 1875.51,1398.67 1979.94,1398.71 2084.37,1398.71 2188.8,1398.64 2293.23,1398.58 \"/>\n",
       "<polyline clip-path=\"url(#clip093)\" style=\"stroke:#f2000d; stroke-linecap:round; stroke-linejoin:round; stroke-width:20; stroke-opacity:0.3; fill:none\" points=\"309.067,1406.22 413.497,1406.04 517.926,1404.3 622.356,1402.24 726.786,1400.59 831.215,1399.66 935.645,1399.24 1040.07,1398.9 1144.5,1398.81 1248.93,1398.83 1353.36,1398.73 1457.79,1398.67 1562.22,1398.76 1666.65,1398.79 1771.08,1398.7 1875.51,1398.63 1979.94,1398.71 2084.37,1398.85 2188.8,1398.78 2293.23,1398.63 \"/>\n",
       "<polyline clip-path=\"url(#clip093)\" style=\"stroke:#e4001b; stroke-linecap:round; stroke-linejoin:round; stroke-width:20; stroke-opacity:0.3; fill:none\" points=\"309.067,1406.22 413.497,1406.47 517.926,1404.49 622.356,1402.04 726.786,1400.18 831.215,1399.31 935.645,1399.07 1040.07,1398.84 1144.5,1398.8 1248.93,1398.8 1353.36,1398.66 1457.79,1398.58 1562.22,1398.64 1666.65,1398.67 1771.08,1398.68 1875.51,1398.69 1979.94,1398.64 2084.37,1398.63 2188.8,1398.65 2293.23,1398.62 \"/>\n",
       "<polyline clip-path=\"url(#clip093)\" style=\"stroke:#d70028; stroke-linecap:round; stroke-linejoin:round; stroke-width:20; stroke-opacity:0.3; fill:none\" points=\"309.067,1406.22 413.497,1405.95 517.926,1404.26 622.356,1402.27 726.786,1400.65 831.215,1399.69 935.645,1399.21 1040.07,1398.86 1144.5,1398.83 1248.93,1398.9 1353.36,1398.79 1457.79,1398.65 1562.22,1398.71 1666.65,1398.78 1771.08,1398.75 1875.51,1398.71 1979.94,1398.84 2084.37,1398.91 2188.8,1398.75 2293.23,1398.6 \"/>\n",
       "<polyline clip-path=\"url(#clip093)\" style=\"stroke:#c90036; stroke-linecap:round; stroke-linejoin:round; stroke-width:20; stroke-opacity:0.3; fill:none\" points=\"309.067,1406.22 413.497,1406.27 517.926,1404.41 622.356,1402.15 726.786,1400.38 831.215,1399.47 935.645,1399.13 1040.07,1398.85 1144.5,1398.83 1248.93,1398.89 1353.36,1398.74 1457.79,1398.58 1562.22,1398.6 1666.65,1398.66 1771.08,1398.7 1875.51,1398.73 1979.94,1398.72 2084.37,1398.67 2188.8,1398.62 2293.23,1398.6 \"/>\n",
       "<polyline clip-path=\"url(#clip093)\" style=\"stroke:#bc0043; stroke-linecap:round; stroke-linejoin:round; stroke-width:20; stroke-opacity:0.3; fill:none\" points=\"309.067,1406.22 413.497,1406.32 517.926,1404.43 622.356,1402.12 726.786,1400.33 831.215,1399.42 935.645,1399.11 1040.07,1398.84 1144.5,1398.81 1248.93,1398.85 1353.36,1398.7 1457.79,1398.58 1562.22,1398.67 1666.65,1398.7 1771.08,1398.62 1875.51,1398.57 1979.94,1398.67 2084.37,1398.69 2188.8,1398.6 2293.23,1398.57 \"/>\n",
       "<polyline clip-path=\"url(#clip093)\" style=\"stroke:#ae0051; stroke-linecap:round; stroke-linejoin:round; stroke-width:20; stroke-opacity:0.3; fill:none\" points=\"309.067,1406.22 413.497,1406.24 517.926,1404.4 622.356,1402.16 726.786,1400.4 831.215,1399.46 935.645,1399.11 1040.07,1398.83 1144.5,1398.76 1248.93,1398.77 1353.36,1398.67 1457.79,1398.64 1562.22,1398.68 1666.65,1398.65 1771.08,1398.6 1875.51,1398.61 1979.94,1398.66 2084.37,1398.67 2188.8,1398.62 2293.23,1398.59 \"/>\n",
       "<polyline clip-path=\"url(#clip093)\" style=\"stroke:#a1005e; stroke-linecap:round; stroke-linejoin:round; stroke-width:20; stroke-opacity:0.3; fill:none\" points=\"309.067,1406.22 413.497,1406.37 517.926,1404.45 622.356,1402.1 726.786,1400.26 831.215,1399.33 935.645,1399.02 1040.07,1398.78 1144.5,1398.76 1248.93,1398.77 1353.36,1398.65 1457.79,1398.6 1562.22,1398.65 1666.65,1398.64 1771.08,1398.59 1875.51,1398.59 1979.94,1398.59 2084.37,1398.62 2188.8,1398.63 2293.23,1398.61 \"/>\n",
       "<polyline clip-path=\"url(#clip093)\" style=\"stroke:#94006b; stroke-linecap:round; stroke-linejoin:round; stroke-width:20; stroke-opacity:0.3; fill:none\" points=\"309.067,1406.22 413.497,1406.34 517.926,1404.44 622.356,1402.11 726.786,1400.27 831.215,1399.3 935.645,1398.95 1040.07,1398.74 1144.5,1398.78 1248.93,1398.86 1353.36,1398.75 1457.79,1398.62 1562.22,1398.67 1666.65,1398.73 1771.08,1398.72 1875.51,1398.7 1979.94,1398.68 2084.37,1398.69 2188.8,1398.7 2293.23,1398.63 \"/>\n",
       "<polyline clip-path=\"url(#clip093)\" style=\"stroke:#860079; stroke-linecap:round; stroke-linejoin:round; stroke-width:20; stroke-opacity:0.3; fill:none\" points=\"309.067,1406.22 413.497,1406.54 517.926,1404.52 622.356,1402 726.786,1400.12 831.215,1399.29 935.645,1399.1 1040.07,1398.87 1144.5,1398.82 1248.93,1398.8 1353.36,1398.65 1457.79,1398.56 1562.22,1398.61 1666.65,1398.6 1771.08,1398.56 1875.51,1398.6 1979.94,1398.59 2084.37,1398.57 2188.8,1398.58 2293.23,1398.58 \"/>\n",
       "<polyline clip-path=\"url(#clip093)\" style=\"stroke:#790086; stroke-linecap:round; stroke-linejoin:round; stroke-width:20; stroke-opacity:0.3; fill:none\" points=\"309.067,1406.22 413.497,1406.19 517.926,1404.37 622.356,1402.19 726.786,1400.44 831.215,1399.49 935.645,1399.11 1040.07,1398.82 1144.5,1398.81 1248.93,1398.87 1353.36,1398.73 1457.79,1398.6 1562.22,1398.72 1666.65,1398.79 1771.08,1398.67 1875.51,1398.57 1979.94,1398.69 2084.37,1398.74 2188.8,1398.63 2293.23,1398.58 \"/>\n",
       "<polyline clip-path=\"url(#clip093)\" style=\"stroke:#6b0094; stroke-linecap:round; stroke-linejoin:round; stroke-width:20; stroke-opacity:0.3; fill:none\" points=\"309.067,1406.22 413.497,1405.9 517.926,1404.23 622.356,1402.29 726.786,1400.72 831.215,1399.79 935.645,1399.34 1040.07,1398.96 1144.5,1398.85 1248.93,1398.88 1353.36,1398.78 1457.79,1398.69 1562.22,1398.77 1666.65,1398.8 1771.08,1398.69 1875.51,1398.64 1979.94,1398.76 2084.37,1398.8 2188.8,1398.69 2293.23,1398.62 \"/>\n",
       "<polyline clip-path=\"url(#clip093)\" style=\"stroke:#5e00a1; stroke-linecap:round; stroke-linejoin:round; stroke-width:20; stroke-opacity:0.3; fill:none\" points=\"309.067,1406.22 413.497,1406.53 517.926,1404.51 622.356,1402.01 726.786,1400.15 831.215,1399.32 935.645,1399.13 1040.07,1398.89 1144.5,1406.88 1248.93,1406.88 1353.36,1406.88 1457.79,1406.88 1562.22,1406.88 1666.65,1406.88 1771.08,1406.88 1875.51,1406.88 1979.94,1406.88 2084.37,1406.88 2188.8,1406.88 2293.23,1406.88 \"/>\n",
       "<polyline clip-path=\"url(#clip093)\" style=\"stroke:#5100ae; stroke-linecap:round; stroke-linejoin:round; stroke-width:20; stroke-opacity:0.3; fill:none\" points=\"309.067,1406.88 413.497,1406.88 517.926,1406.88 622.356,1406.88 726.786,1406.88 831.215,1406.88 935.645,1406.88 1040.07,1406.88 1144.5,1406.88 1248.93,1406.88 1353.36,1406.88 1457.79,1406.88 1562.22,1406.88 1666.65,1406.88 1771.08,1406.88 1875.51,1406.88 1979.94,1406.88 2084.37,1406.88 2188.8,1406.88 2293.23,1406.88 \"/>\n",
       "<polyline clip-path=\"url(#clip093)\" style=\"stroke:#4300bc; stroke-linecap:round; stroke-linejoin:round; stroke-width:20; stroke-opacity:0.3; fill:none\" points=\"309.067,1406.88 413.497,1406.88 517.926,1406.88 622.356,1406.88 726.786,1406.88 831.215,1406.88 935.645,1406.88 1040.07,1406.88 1144.5,1406.88 1248.93,1406.88 1353.36,1406.88 1457.79,1406.88 1562.22,1406.88 1666.65,1406.88 1771.08,1406.88 1875.51,1406.88 1979.94,1406.88 2084.37,1406.88 2188.8,1406.88 2293.23,1406.88 \"/>\n",
       "<polyline clip-path=\"url(#clip093)\" style=\"stroke:#3600c9; stroke-linecap:round; stroke-linejoin:round; stroke-width:20; stroke-opacity:0.3; fill:none\" points=\"309.067,1406.88 413.497,1406.88 517.926,1406.88 622.356,1406.88 726.786,1406.88 831.215,1406.88 935.645,1406.88 1040.07,1406.88 1144.5,1406.88 1248.93,1406.88 1353.36,1406.88 1457.79,1406.88 1562.22,1406.88 1666.65,1406.88 1771.08,1406.88 1875.51,1406.88 1979.94,1406.88 2084.37,1406.88 2188.8,1406.88 2293.23,1406.88 \"/>\n",
       "<polyline clip-path=\"url(#clip093)\" style=\"stroke:#2800d7; stroke-linecap:round; stroke-linejoin:round; stroke-width:20; stroke-opacity:0.3; fill:none\" points=\"309.067,1406.88 413.497,1406.88 517.926,1406.88 622.356,1406.88 726.786,1406.88 831.215,1406.88 935.645,1406.88 1040.07,1406.88 1144.5,1406.88 1248.93,1406.88 1353.36,1406.88 1457.79,1406.88 1562.22,1406.88 1666.65,1406.88 1771.08,1406.88 1875.51,1406.88 1979.94,1406.88 2084.37,1406.88 2188.8,1406.88 2293.23,1406.88 \"/>\n",
       "<polyline clip-path=\"url(#clip093)\" style=\"stroke:#1b00e4; stroke-linecap:round; stroke-linejoin:round; stroke-width:20; stroke-opacity:0.3; fill:none\" points=\"309.067,1406.88 413.497,1406.88 517.926,1406.88 622.356,1406.88 726.786,1406.88 831.215,1406.88 935.645,1406.88 1040.07,1406.88 1144.5,1406.88 1248.93,1406.88 1353.36,1406.88 1457.79,1406.88 1562.22,1406.88 1666.65,1406.88 1771.08,1406.88 1875.51,1406.88 1979.94,1406.88 2084.37,1406.88 2188.8,1406.88 2293.23,1406.88 \"/>\n",
       "<polyline clip-path=\"url(#clip093)\" style=\"stroke:#0d00f2; stroke-linecap:round; stroke-linejoin:round; stroke-width:20; stroke-opacity:0.3; fill:none\" points=\"309.067,1406.88 413.497,1406.88 517.926,1406.88 622.356,1406.88 726.786,1406.88 831.215,1406.88 935.645,1406.88 1040.07,1406.88 1144.5,1406.88 1248.93,1406.88 1353.36,1406.88 1457.79,1406.88 1562.22,1406.88 1666.65,1406.88 1771.08,1406.88 1875.51,1406.88 1979.94,1406.88 2084.37,1406.88 2188.8,1406.88 2293.23,1406.88 \"/>\n",
       "<polyline clip-path=\"url(#clip093)\" style=\"stroke:#0000ff; stroke-linecap:round; stroke-linejoin:round; stroke-width:20; stroke-opacity:0.3; fill:none\" points=\"309.067,1406.88 413.497,1406.88 517.926,1406.88 622.356,1406.88 726.786,1406.88 831.215,1406.88 935.645,1406.88 1040.07,1406.88 1144.5,1406.88 1248.93,863.544 1353.36,1406.88 1457.79,1406.88 1562.22,1401.45 1666.65,1406.88 1771.08,1406.88 1875.51,863.544 1979.94,1406.88 2084.37,1406.88 2188.8,1401.45 2293.23,1406.88 \"/>\n",
       "</svg>\n"
      ]
     },
     "metadata": {},
     "output_type": "display_data"
    }
   ],
   "source": [
    "gr()\n",
    "# limits\n",
    "p1 = plot(ts,(pUB + y0)*ones(length(ts)),linestyle = :dot,linecolor = :black,xaxis=\"time[h]\",yaxis=\"y mono\",legend=false,gridlinewidth=2)\n",
    "p1 = plot!(ts,(pTrack + y0)*ones(length(ts)),linestyle = :dot,linecolor = :black)\n",
    "\n",
    "for nn in 1:n_MC\n",
    "    p1 = plot!(ts,yPlant[:,nn,1],linewidth=3,linealpha = 0.3,linecolor = CList[nn],legend=false)\n",
    "end\n",
    "\n",
    "p2 = plot(ts,(pUB + y0)*ones(length(ts)),linestyle = :dot,linecolor = :black,xaxis=\"time[h]\",yaxis=\"y dec\",legend=false,gridlinewidth=2)\n",
    "p2 = plot!(ts,(pTrack + y0)*ones(length(ts)),linestyle = :dot,linecolor = :black,legend=false)\n",
    "\n",
    "for nn in 1:n_MC\n",
    "    p2 = plot!(ts,yPlant[:,nn,2],linewidth=3,linealpha = 0.3,linecolor = CList[nn],legend=false)\n",
    "end\n",
    "\n",
    "g1 = plot(p1,p2,layout=(2,1))\n",
    "display(g1)"
   ]
  },
  {
   "cell_type": "markdown",
   "id": "45433edb",
   "metadata": {},
   "source": [
    "Input"
   ]
  },
  {
   "cell_type": "code",
   "execution_count": 30,
   "id": "a91eb110",
   "metadata": {},
   "outputs": [
    {
     "data": {
      "image/svg+xml": [
       "<?xml version=\"1.0\" encoding=\"utf-8\"?>\n",
       "<svg xmlns=\"http://www.w3.org/2000/svg\" xmlns:xlink=\"http://www.w3.org/1999/xlink\" width=\"600\" height=\"400\" viewBox=\"0 0 2400 1600\">\n",
       "<defs>\n",
       "  <clipPath id=\"clip050\">\n",
       "    <rect x=\"0\" y=\"0\" width=\"2400\" height=\"1600\"/>\n",
       "  </clipPath>\n",
       "</defs>\n",
       "<path clip-path=\"url(#clip050)\" d=\"M0 1600 L2400 1600 L2400 0 L0 0  Z\" fill=\"#ffffff\" fill-rule=\"evenodd\" fill-opacity=\"1\"/>\n",
       "<defs>\n",
       "  <clipPath id=\"clip051\">\n",
       "    <rect x=\"480\" y=\"0\" width=\"1681\" height=\"1600\"/>\n",
       "  </clipPath>\n",
       "</defs>\n",
       "<path clip-path=\"url(#clip050)\" d=\"M219.033 623.18 L2352.76 623.18 L2352.76 47.2441 L219.033 47.2441  Z\" fill=\"#ffffff\" fill-rule=\"evenodd\" fill-opacity=\"1\"/>\n",
       "<defs>\n",
       "  <clipPath id=\"clip052\">\n",
       "    <rect x=\"219\" y=\"47\" width=\"2135\" height=\"577\"/>\n",
       "  </clipPath>\n",
       "</defs>\n",
       "<polyline clip-path=\"url(#clip052)\" style=\"stroke:#000000; stroke-linecap:round; stroke-linejoin:round; stroke-width:8; stroke-opacity:0.1; fill:none\" points=\"703.199,623.18 703.199,47.2441 \"/>\n",
       "<polyline clip-path=\"url(#clip052)\" style=\"stroke:#000000; stroke-linecap:round; stroke-linejoin:round; stroke-width:8; stroke-opacity:0.1; fill:none\" points=\"1232.92,623.18 1232.92,47.2441 \"/>\n",
       "<polyline clip-path=\"url(#clip052)\" style=\"stroke:#000000; stroke-linecap:round; stroke-linejoin:round; stroke-width:8; stroke-opacity:0.1; fill:none\" points=\"1762.64,623.18 1762.64,47.2441 \"/>\n",
       "<polyline clip-path=\"url(#clip052)\" style=\"stroke:#000000; stroke-linecap:round; stroke-linejoin:round; stroke-width:8; stroke-opacity:0.1; fill:none\" points=\"2292.37,623.18 2292.37,47.2441 \"/>\n",
       "<polyline clip-path=\"url(#clip050)\" style=\"stroke:#000000; stroke-linecap:round; stroke-linejoin:round; stroke-width:4; stroke-opacity:1; fill:none\" points=\"219.033,623.18 2352.76,623.18 \"/>\n",
       "<polyline clip-path=\"url(#clip050)\" style=\"stroke:#000000; stroke-linecap:round; stroke-linejoin:round; stroke-width:4; stroke-opacity:1; fill:none\" points=\"703.199,623.18 703.199,604.282 \"/>\n",
       "<polyline clip-path=\"url(#clip050)\" style=\"stroke:#000000; stroke-linecap:round; stroke-linejoin:round; stroke-width:4; stroke-opacity:1; fill:none\" points=\"1232.92,623.18 1232.92,604.282 \"/>\n",
       "<polyline clip-path=\"url(#clip050)\" style=\"stroke:#000000; stroke-linecap:round; stroke-linejoin:round; stroke-width:4; stroke-opacity:1; fill:none\" points=\"1762.64,623.18 1762.64,604.282 \"/>\n",
       "<polyline clip-path=\"url(#clip050)\" style=\"stroke:#000000; stroke-linecap:round; stroke-linejoin:round; stroke-width:4; stroke-opacity:1; fill:none\" points=\"2292.37,623.18 2292.37,604.282 \"/>\n",
       "<path clip-path=\"url(#clip050)\" d=\"M693.477 651.02 L711.834 651.02 L711.834 654.955 L697.76 654.955 L697.76 663.427 Q698.778 663.08 699.797 662.918 Q700.815 662.733 701.834 662.733 Q707.621 662.733 711 665.904 Q714.38 669.075 714.38 674.492 Q714.38 680.071 710.908 683.172 Q707.436 686.251 701.116 686.251 Q698.94 686.251 696.672 685.881 Q694.426 685.51 692.019 684.77 L692.019 680.071 Q694.102 681.205 696.325 681.76 Q698.547 682.316 701.024 682.316 Q705.028 682.316 707.366 680.21 Q709.704 678.103 709.704 674.492 Q709.704 670.881 707.366 668.774 Q705.028 666.668 701.024 666.668 Q699.149 666.668 697.274 667.085 Q695.422 667.501 693.477 668.381 L693.477 651.02 Z\" fill=\"#000000\" fill-rule=\"evenodd\" fill-opacity=\"1\" /><path clip-path=\"url(#clip050)\" d=\"M1207.61 681.645 L1215.25 681.645 L1215.25 655.279 L1206.94 656.946 L1206.94 652.687 L1215.2 651.02 L1219.88 651.02 L1219.88 681.645 L1227.52 681.645 L1227.52 685.58 L1207.61 685.58 L1207.61 681.645 Z\" fill=\"#000000\" fill-rule=\"evenodd\" fill-opacity=\"1\" /><path clip-path=\"url(#clip050)\" d=\"M1246.96 654.099 Q1243.35 654.099 1241.52 657.663 Q1239.72 661.205 1239.72 668.335 Q1239.72 675.441 1241.52 679.006 Q1243.35 682.547 1246.96 682.547 Q1250.6 682.547 1252.4 679.006 Q1254.23 675.441 1254.23 668.335 Q1254.23 661.205 1252.4 657.663 Q1250.6 654.099 1246.96 654.099 M1246.96 650.395 Q1252.77 650.395 1255.83 655.001 Q1258.91 659.585 1258.91 668.335 Q1258.91 677.061 1255.83 681.668 Q1252.77 686.251 1246.96 686.251 Q1241.15 686.251 1238.07 681.668 Q1235.02 677.061 1235.02 668.335 Q1235.02 659.585 1238.07 655.001 Q1241.15 650.395 1246.96 650.395 Z\" fill=\"#000000\" fill-rule=\"evenodd\" fill-opacity=\"1\" /><path clip-path=\"url(#clip050)\" d=\"M1737.83 681.645 L1745.47 681.645 L1745.47 655.279 L1737.16 656.946 L1737.16 652.687 L1745.42 651.02 L1750.1 651.02 L1750.1 681.645 L1757.74 681.645 L1757.74 685.58 L1737.83 685.58 L1737.83 681.645 Z\" fill=\"#000000\" fill-rule=\"evenodd\" fill-opacity=\"1\" /><path clip-path=\"url(#clip050)\" d=\"M1767.23 651.02 L1785.58 651.02 L1785.58 654.955 L1771.51 654.955 L1771.51 663.427 Q1772.53 663.08 1773.55 662.918 Q1774.57 662.733 1775.58 662.733 Q1781.37 662.733 1784.75 665.904 Q1788.13 669.075 1788.13 674.492 Q1788.13 680.071 1784.66 683.172 Q1781.19 686.251 1774.87 686.251 Q1772.69 686.251 1770.42 685.881 Q1768.18 685.51 1765.77 684.77 L1765.77 680.071 Q1767.85 681.205 1770.08 681.76 Q1772.3 682.316 1774.77 682.316 Q1778.78 682.316 1781.12 680.21 Q1783.45 678.103 1783.45 674.492 Q1783.45 670.881 1781.12 668.774 Q1778.78 666.668 1774.77 666.668 Q1772.9 666.668 1771.02 667.085 Q1769.17 667.501 1767.23 668.381 L1767.23 651.02 Z\" fill=\"#000000\" fill-rule=\"evenodd\" fill-opacity=\"1\" /><path clip-path=\"url(#clip050)\" d=\"M2271.14 681.645 L2287.46 681.645 L2287.46 685.58 L2265.52 685.58 L2265.52 681.645 Q2268.18 678.89 2272.76 674.26 Q2277.37 669.608 2278.55 668.265 Q2280.79 665.742 2281.67 664.006 Q2282.58 662.247 2282.58 660.557 Q2282.58 657.802 2280.63 656.066 Q2278.71 654.33 2275.61 654.33 Q2273.41 654.33 2270.96 655.094 Q2268.53 655.858 2265.75 657.409 L2265.75 652.687 Q2268.57 651.552 2271.03 650.974 Q2273.48 650.395 2275.52 650.395 Q2280.89 650.395 2284.08 653.08 Q2287.27 655.765 2287.27 660.256 Q2287.27 662.386 2286.46 664.307 Q2285.68 666.205 2283.57 668.798 Q2282.99 669.469 2279.89 672.686 Q2276.79 675.881 2271.14 681.645 Z\" fill=\"#000000\" fill-rule=\"evenodd\" fill-opacity=\"1\" /><path clip-path=\"url(#clip050)\" d=\"M2307.27 654.099 Q2303.66 654.099 2301.84 657.663 Q2300.03 661.205 2300.03 668.335 Q2300.03 675.441 2301.84 679.006 Q2303.66 682.547 2307.27 682.547 Q2310.91 682.547 2312.71 679.006 Q2314.54 675.441 2314.54 668.335 Q2314.54 661.205 2312.71 657.663 Q2310.91 654.099 2307.27 654.099 M2307.27 650.395 Q2313.09 650.395 2316.14 655.001 Q2319.22 659.585 2319.22 668.335 Q2319.22 677.061 2316.14 681.668 Q2313.09 686.251 2307.27 686.251 Q2301.46 686.251 2298.39 681.668 Q2295.33 677.061 2295.33 668.335 Q2295.33 659.585 2298.39 655.001 Q2301.46 650.395 2307.27 650.395 Z\" fill=\"#000000\" fill-rule=\"evenodd\" fill-opacity=\"1\" /><path clip-path=\"url(#clip050)\" d=\"M1180.03 722.274 L1180.03 732.396 L1192.1 732.396 L1192.1 736.947 L1180.03 736.947 L1180.03 756.299 Q1180.03 760.66 1181.21 761.901 Q1182.42 763.142 1186.08 763.142 L1192.1 763.142 L1192.1 768.044 L1186.08 768.044 Q1179.3 768.044 1176.72 765.529 Q1174.14 762.983 1174.14 756.299 L1174.14 736.947 L1169.85 736.947 L1169.85 732.396 L1174.14 732.396 L1174.14 722.274 L1180.03 722.274 Z\" fill=\"#000000\" fill-rule=\"evenodd\" fill-opacity=\"1\" /><path clip-path=\"url(#clip050)\" d=\"M1199.8 732.396 L1205.65 732.396 L1205.65 768.044 L1199.8 768.044 L1199.8 732.396 M1199.8 718.519 L1205.65 718.519 L1205.65 725.935 L1199.8 725.935 L1199.8 718.519 Z\" fill=\"#000000\" fill-rule=\"evenodd\" fill-opacity=\"1\" /><path clip-path=\"url(#clip050)\" d=\"M1245.66 739.239 Q1247.86 735.292 1250.91 733.414 Q1253.97 731.537 1258.11 731.537 Q1263.68 731.537 1266.7 735.451 Q1269.73 739.335 1269.73 746.528 L1269.73 768.044 L1263.84 768.044 L1263.84 746.719 Q1263.84 741.594 1262.02 739.112 Q1260.21 736.629 1256.48 736.629 Q1251.93 736.629 1249.29 739.653 Q1246.65 742.677 1246.65 747.896 L1246.65 768.044 L1240.76 768.044 L1240.76 746.719 Q1240.76 741.563 1238.95 739.112 Q1237.13 736.629 1233.35 736.629 Q1228.86 736.629 1226.22 739.685 Q1223.57 742.708 1223.57 747.896 L1223.57 768.044 L1217.69 768.044 L1217.69 732.396 L1223.57 732.396 L1223.57 737.934 Q1225.58 734.656 1228.38 733.096 Q1231.18 731.537 1235.03 731.537 Q1238.92 731.537 1241.62 733.51 Q1244.36 735.483 1245.66 739.239 Z\" fill=\"#000000\" fill-rule=\"evenodd\" fill-opacity=\"1\" /><path clip-path=\"url(#clip050)\" d=\"M1311.9 748.756 L1311.9 751.62 L1284.97 751.62 Q1285.35 757.668 1288.6 760.851 Q1291.88 764.002 1297.7 764.002 Q1301.08 764.002 1304.23 763.174 Q1307.41 762.347 1310.53 760.691 L1310.53 766.23 Q1307.38 767.566 1304.07 768.267 Q1300.76 768.967 1297.35 768.967 Q1288.82 768.967 1283.83 764.002 Q1278.86 759.036 1278.86 750.57 Q1278.86 741.817 1283.57 736.693 Q1288.31 731.537 1296.33 731.537 Q1303.53 731.537 1307.7 736.183 Q1311.9 740.799 1311.9 748.756 M1306.04 747.037 Q1305.98 742.231 1303.34 739.366 Q1300.73 736.502 1296.4 736.502 Q1291.5 736.502 1288.54 739.271 Q1285.61 742.04 1285.16 747.069 L1306.04 747.037 Z\" fill=\"#000000\" fill-rule=\"evenodd\" fill-opacity=\"1\" /><path clip-path=\"url(#clip050)\" d=\"M1320.97 718.519 L1334.46 718.519 L1334.46 723.07 L1326.83 723.07 L1326.83 772.086 L1334.46 772.086 L1334.46 776.638 L1320.97 776.638 L1320.97 718.519 Z\" fill=\"#000000\" fill-rule=\"evenodd\" fill-opacity=\"1\" /><path clip-path=\"url(#clip050)\" d=\"M1376.57 746.528 L1376.57 768.044 L1370.72 768.044 L1370.72 746.719 Q1370.72 741.658 1368.74 739.144 Q1366.77 736.629 1362.82 736.629 Q1358.08 736.629 1355.34 739.653 Q1352.61 742.677 1352.61 747.896 L1352.61 768.044 L1346.72 768.044 L1346.72 718.519 L1352.61 718.519 L1352.61 737.934 Q1354.71 734.719 1357.54 733.128 Q1360.41 731.537 1364.13 731.537 Q1370.27 731.537 1373.42 735.356 Q1376.57 739.144 1376.57 746.528 Z\" fill=\"#000000\" fill-rule=\"evenodd\" fill-opacity=\"1\" /><path clip-path=\"url(#clip050)\" d=\"M1401.94 718.519 L1401.94 776.638 L1388.45 776.638 L1388.45 772.086 L1396.05 772.086 L1396.05 723.07 L1388.45 723.07 L1388.45 718.519 L1401.94 718.519 Z\" fill=\"#000000\" fill-rule=\"evenodd\" fill-opacity=\"1\" /><polyline clip-path=\"url(#clip052)\" style=\"stroke:#000000; stroke-linecap:round; stroke-linejoin:round; stroke-width:8; stroke-opacity:0.1; fill:none\" points=\"219.033,623.18 2352.76,623.18 \"/>\n",
       "<polyline clip-path=\"url(#clip052)\" style=\"stroke:#000000; stroke-linecap:round; stroke-linejoin:round; stroke-width:8; stroke-opacity:0.1; fill:none\" points=\"219.033,507.993 2352.76,507.993 \"/>\n",
       "<polyline clip-path=\"url(#clip052)\" style=\"stroke:#000000; stroke-linecap:round; stroke-linejoin:round; stroke-width:8; stroke-opacity:0.1; fill:none\" points=\"219.033,392.806 2352.76,392.806 \"/>\n",
       "<polyline clip-path=\"url(#clip052)\" style=\"stroke:#000000; stroke-linecap:round; stroke-linejoin:round; stroke-width:8; stroke-opacity:0.1; fill:none\" points=\"219.033,277.618 2352.76,277.618 \"/>\n",
       "<polyline clip-path=\"url(#clip052)\" style=\"stroke:#000000; stroke-linecap:round; stroke-linejoin:round; stroke-width:8; stroke-opacity:0.1; fill:none\" points=\"219.033,162.431 2352.76,162.431 \"/>\n",
       "<polyline clip-path=\"url(#clip052)\" style=\"stroke:#000000; stroke-linecap:round; stroke-linejoin:round; stroke-width:8; stroke-opacity:0.1; fill:none\" points=\"219.033,47.2441 2352.76,47.2441 \"/>\n",
       "<polyline clip-path=\"url(#clip050)\" style=\"stroke:#000000; stroke-linecap:round; stroke-linejoin:round; stroke-width:4; stroke-opacity:1; fill:none\" points=\"219.033,623.18 219.033,47.2441 \"/>\n",
       "<polyline clip-path=\"url(#clip050)\" style=\"stroke:#000000; stroke-linecap:round; stroke-linejoin:round; stroke-width:4; stroke-opacity:1; fill:none\" points=\"219.033,623.18 237.931,623.18 \"/>\n",
       "<polyline clip-path=\"url(#clip050)\" style=\"stroke:#000000; stroke-linecap:round; stroke-linejoin:round; stroke-width:4; stroke-opacity:1; fill:none\" points=\"219.033,507.993 237.931,507.993 \"/>\n",
       "<polyline clip-path=\"url(#clip050)\" style=\"stroke:#000000; stroke-linecap:round; stroke-linejoin:round; stroke-width:4; stroke-opacity:1; fill:none\" points=\"219.033,392.806 237.931,392.806 \"/>\n",
       "<polyline clip-path=\"url(#clip050)\" style=\"stroke:#000000; stroke-linecap:round; stroke-linejoin:round; stroke-width:4; stroke-opacity:1; fill:none\" points=\"219.033,277.618 237.931,277.618 \"/>\n",
       "<polyline clip-path=\"url(#clip050)\" style=\"stroke:#000000; stroke-linecap:round; stroke-linejoin:round; stroke-width:4; stroke-opacity:1; fill:none\" points=\"219.033,162.431 237.931,162.431 \"/>\n",
       "<polyline clip-path=\"url(#clip050)\" style=\"stroke:#000000; stroke-linecap:round; stroke-linejoin:round; stroke-width:4; stroke-opacity:1; fill:none\" points=\"219.033,47.2441 237.931,47.2441 \"/>\n",
       "<path clip-path=\"url(#clip050)\" d=\"M116.668 636.525 L124.306 636.525 L124.306 610.159 L115.996 611.826 L115.996 607.567 L124.26 605.9 L128.936 605.9 L128.936 636.525 L136.575 636.525 L136.575 640.46 L116.668 640.46 L116.668 636.525 Z\" fill=\"#000000\" fill-rule=\"evenodd\" fill-opacity=\"1\" /><path clip-path=\"url(#clip050)\" d=\"M146.019 634.58 L150.903 634.58 L150.903 640.46 L146.019 640.46 L146.019 634.58 Z\" fill=\"#000000\" fill-rule=\"evenodd\" fill-opacity=\"1\" /><path clip-path=\"url(#clip050)\" d=\"M171.089 608.979 Q167.477 608.979 165.649 612.543 Q163.843 616.085 163.843 623.215 Q163.843 630.321 165.649 633.886 Q167.477 637.427 171.089 637.427 Q174.723 637.427 176.528 633.886 Q178.357 630.321 178.357 623.215 Q178.357 616.085 176.528 612.543 Q174.723 608.979 171.089 608.979 M171.089 605.275 Q176.899 605.275 179.954 609.881 Q183.033 614.465 183.033 623.215 Q183.033 631.941 179.954 636.548 Q176.899 641.131 171.089 641.131 Q165.278 641.131 162.2 636.548 Q159.144 631.941 159.144 623.215 Q159.144 614.465 162.2 609.881 Q165.278 605.275 171.089 605.275 Z\" fill=\"#000000\" fill-rule=\"evenodd\" fill-opacity=\"1\" /><path clip-path=\"url(#clip050)\" d=\"M118.265 521.338 L125.904 521.338 L125.904 494.972 L117.593 496.639 L117.593 492.379 L125.857 490.713 L130.533 490.713 L130.533 521.338 L138.172 521.338 L138.172 525.273 L118.265 525.273 L118.265 521.338 Z\" fill=\"#000000\" fill-rule=\"evenodd\" fill-opacity=\"1\" /><path clip-path=\"url(#clip050)\" d=\"M147.616 519.393 L152.501 519.393 L152.501 525.273 L147.616 525.273 L147.616 519.393 Z\" fill=\"#000000\" fill-rule=\"evenodd\" fill-opacity=\"1\" /><path clip-path=\"url(#clip050)\" d=\"M166.714 521.338 L183.033 521.338 L183.033 525.273 L161.089 525.273 L161.089 521.338 Q163.751 518.583 168.334 513.953 Q172.94 509.301 174.121 507.958 Q176.366 505.435 177.246 503.699 Q178.149 501.939 178.149 500.25 Q178.149 497.495 176.204 495.759 Q174.283 494.023 171.181 494.023 Q168.982 494.023 166.528 494.787 Q164.098 495.551 161.32 497.102 L161.32 492.379 Q164.144 491.245 166.598 490.666 Q169.052 490.088 171.089 490.088 Q176.459 490.088 179.653 492.773 Q182.848 495.458 182.848 499.949 Q182.848 502.078 182.038 504 Q181.251 505.898 179.144 508.49 Q178.565 509.162 175.464 512.379 Q172.362 515.574 166.714 521.338 Z\" fill=\"#000000\" fill-rule=\"evenodd\" fill-opacity=\"1\" /><path clip-path=\"url(#clip050)\" d=\"M116.181 406.15 L123.82 406.15 L123.82 379.785 L115.51 381.451 L115.51 377.192 L123.774 375.526 L128.45 375.526 L128.45 406.15 L136.089 406.15 L136.089 410.086 L116.181 410.086 L116.181 406.15 Z\" fill=\"#000000\" fill-rule=\"evenodd\" fill-opacity=\"1\" /><path clip-path=\"url(#clip050)\" d=\"M145.533 404.206 L150.417 404.206 L150.417 410.086 L145.533 410.086 L145.533 404.206 Z\" fill=\"#000000\" fill-rule=\"evenodd\" fill-opacity=\"1\" /><path clip-path=\"url(#clip050)\" d=\"M173.45 379.6 L161.644 398.049 L173.45 398.049 L173.45 379.6 M172.223 375.526 L178.102 375.526 L178.102 398.049 L183.033 398.049 L183.033 401.937 L178.102 401.937 L178.102 410.086 L173.45 410.086 L173.45 401.937 L157.848 401.937 L157.848 397.424 L172.223 375.526 Z\" fill=\"#000000\" fill-rule=\"evenodd\" fill-opacity=\"1\" /><path clip-path=\"url(#clip050)\" d=\"M116.506 290.963 L124.144 290.963 L124.144 264.598 L115.834 266.264 L115.834 262.005 L124.098 260.338 L128.774 260.338 L128.774 290.963 L136.413 290.963 L136.413 294.898 L116.506 294.898 L116.506 290.963 Z\" fill=\"#000000\" fill-rule=\"evenodd\" fill-opacity=\"1\" /><path clip-path=\"url(#clip050)\" d=\"M145.857 289.019 L150.741 289.019 L150.741 294.898 L145.857 294.898 L145.857 289.019 Z\" fill=\"#000000\" fill-rule=\"evenodd\" fill-opacity=\"1\" /><path clip-path=\"url(#clip050)\" d=\"M171.505 275.755 Q168.357 275.755 166.505 277.908 Q164.677 280.061 164.677 283.81 Q164.677 287.537 166.505 289.713 Q168.357 291.866 171.505 291.866 Q174.653 291.866 176.482 289.713 Q178.334 287.537 178.334 283.81 Q178.334 280.061 176.482 277.908 Q174.653 275.755 171.505 275.755 M180.788 261.102 L180.788 265.362 Q179.028 264.528 177.223 264.088 Q175.44 263.649 173.681 263.649 Q169.052 263.649 166.598 266.774 Q164.167 269.899 163.82 276.218 Q165.186 274.204 167.246 273.139 Q169.306 272.051 171.783 272.051 Q176.991 272.051 180.001 275.223 Q183.033 278.371 183.033 283.81 Q183.033 289.135 179.885 292.352 Q176.737 295.57 171.505 295.57 Q165.51 295.57 162.339 290.986 Q159.167 286.38 159.167 277.653 Q159.167 269.459 163.056 264.598 Q166.945 259.713 173.496 259.713 Q175.255 259.713 177.038 260.061 Q178.843 260.408 180.788 261.102 Z\" fill=\"#000000\" fill-rule=\"evenodd\" fill-opacity=\"1\" /><path clip-path=\"url(#clip050)\" d=\"M116.76 175.776 L124.399 175.776 L124.399 149.41 L116.089 151.077 L116.089 146.818 L124.353 145.151 L129.029 145.151 L129.029 175.776 L136.667 175.776 L136.667 179.711 L116.76 179.711 L116.76 175.776 Z\" fill=\"#000000\" fill-rule=\"evenodd\" fill-opacity=\"1\" /><path clip-path=\"url(#clip050)\" d=\"M146.112 173.832 L150.996 173.832 L150.996 179.711 L146.112 179.711 L146.112 173.832 Z\" fill=\"#000000\" fill-rule=\"evenodd\" fill-opacity=\"1\" /><path clip-path=\"url(#clip050)\" d=\"M171.181 163.299 Q167.848 163.299 165.927 165.082 Q164.028 166.864 164.028 169.989 Q164.028 173.114 165.927 174.896 Q167.848 176.679 171.181 176.679 Q174.514 176.679 176.436 174.896 Q178.357 173.091 178.357 169.989 Q178.357 166.864 176.436 165.082 Q174.538 163.299 171.181 163.299 M166.505 161.309 Q163.496 160.568 161.806 158.508 Q160.14 156.447 160.14 153.485 Q160.14 149.341 163.079 146.934 Q166.042 144.526 171.181 144.526 Q176.343 144.526 179.283 146.934 Q182.223 149.341 182.223 153.485 Q182.223 156.447 180.533 158.508 Q178.866 160.568 175.88 161.309 Q179.26 162.096 181.135 164.387 Q183.033 166.679 183.033 169.989 Q183.033 175.012 179.954 177.697 Q176.899 180.383 171.181 180.383 Q165.464 180.383 162.385 177.697 Q159.329 175.012 159.329 169.989 Q159.329 166.679 161.227 164.387 Q163.126 162.096 166.505 161.309 M164.792 153.924 Q164.792 156.61 166.459 158.114 Q168.149 159.619 171.181 159.619 Q174.19 159.619 175.88 158.114 Q177.593 156.61 177.593 153.924 Q177.593 151.239 175.88 149.735 Q174.19 148.23 171.181 148.23 Q168.149 148.23 166.459 149.735 Q164.792 151.239 164.792 153.924 Z\" fill=\"#000000\" fill-rule=\"evenodd\" fill-opacity=\"1\" /><path clip-path=\"url(#clip050)\" d=\"M119.885 60.5889 L136.204 60.5889 L136.204 64.5241 L114.26 64.5241 L114.26 60.5889 Q116.922 57.8343 121.505 53.2047 Q126.112 48.552 127.292 47.2094 Q129.538 44.6862 130.417 42.9501 Q131.32 41.1909 131.32 39.5011 Q131.32 36.7465 129.376 35.0104 Q127.455 33.2743 124.353 33.2743 Q122.154 33.2743 119.7 34.0381 Q117.269 34.802 114.492 36.3529 L114.492 31.6308 Q117.316 30.4965 119.769 29.9178 Q122.223 29.3391 124.26 29.3391 Q129.63 29.3391 132.825 32.0243 Q136.019 34.7094 136.019 39.2002 Q136.019 41.3298 135.209 43.2511 Q134.422 45.1492 132.316 47.7418 Q131.737 48.4131 128.635 51.6306 Q125.533 54.8251 119.885 60.5889 Z\" fill=\"#000000\" fill-rule=\"evenodd\" fill-opacity=\"1\" /><path clip-path=\"url(#clip050)\" d=\"M146.019 58.6445 L150.903 58.6445 L150.903 64.5241 L146.019 64.5241 L146.019 58.6445 Z\" fill=\"#000000\" fill-rule=\"evenodd\" fill-opacity=\"1\" /><path clip-path=\"url(#clip050)\" d=\"M171.089 33.0428 Q167.477 33.0428 165.649 36.6076 Q163.843 40.1492 163.843 47.2788 Q163.843 54.3853 165.649 57.9501 Q167.477 61.4917 171.089 61.4917 Q174.723 61.4917 176.528 57.9501 Q178.357 54.3853 178.357 47.2788 Q178.357 40.1492 176.528 36.6076 Q174.723 33.0428 171.089 33.0428 M171.089 29.3391 Q176.899 29.3391 179.954 33.9456 Q183.033 38.5289 183.033 47.2788 Q183.033 56.0056 179.954 60.6121 Q176.899 65.1954 171.089 65.1954 Q165.278 65.1954 162.2 60.6121 Q159.144 56.0056 159.144 47.2788 Q159.144 38.5289 162.2 33.9456 Q165.278 29.3391 171.089 29.3391 Z\" fill=\"#000000\" fill-rule=\"evenodd\" fill-opacity=\"1\" /><path clip-path=\"url(#clip050)\" d=\"M49.9359 453.964 L28.3562 453.964 L28.3562 448.108 L49.7131 448.108 Q54.7739 448.108 57.3202 446.134 Q59.8346 444.161 59.8346 440.214 Q59.8346 435.472 56.8109 432.735 Q53.7872 429.966 48.5673 429.966 L28.3562 429.966 L28.3562 424.109 L64.0042 424.109 L64.0042 429.966 L58.5296 429.966 Q61.7762 432.098 63.3676 434.931 Q64.9272 437.732 64.9272 441.456 Q64.9272 447.599 61.1078 450.781 Q57.2883 453.964 49.9359 453.964 M27.4968 439.228 L27.4968 439.228 Z\" fill=\"#000000\" fill-rule=\"evenodd\" fill-opacity=\"1\" /><path clip-path=\"url(#clip050)\" d=\"M35.1993 363.571 Q31.2526 361.375 29.3747 358.319 Q27.4968 355.264 27.4968 351.126 Q27.4968 345.556 31.4117 342.533 Q35.2948 339.509 42.4881 339.509 L64.0042 339.509 L64.0042 345.397 L42.679 345.397 Q37.5546 345.397 35.072 347.211 Q32.5894 349.026 32.5894 352.749 Q32.5894 357.301 35.6131 359.943 Q38.6368 362.585 43.8567 362.585 L64.0042 362.585 L64.0042 368.473 L42.679 368.473 Q37.5228 368.473 35.072 370.287 Q32.5894 372.101 32.5894 375.889 Q32.5894 380.377 35.6449 383.018 Q38.6686 385.66 43.8567 385.66 L64.0042 385.66 L64.0042 391.548 L28.3562 391.548 L28.3562 385.66 L33.8944 385.66 Q30.616 383.655 29.0564 380.854 Q27.4968 378.053 27.4968 374.202 Q27.4968 370.319 29.4702 367.613 Q31.4436 364.876 35.1993 363.571 Z\" fill=\"#000000\" fill-rule=\"evenodd\" fill-opacity=\"1\" /><path clip-path=\"url(#clip050)\" d=\"M32.4621 314.014 Q32.4621 318.725 36.1542 321.462 Q39.8145 324.199 46.212 324.199 Q52.6095 324.199 56.3017 321.494 Q59.9619 318.757 59.9619 314.014 Q59.9619 309.335 56.2698 306.598 Q52.5777 303.861 46.212 303.861 Q39.8781 303.861 36.186 306.598 Q32.4621 309.335 32.4621 314.014 M27.4968 314.014 Q27.4968 306.375 32.4621 302.015 Q37.4273 297.654 46.212 297.654 Q54.9649 297.654 59.9619 302.015 Q64.9272 306.375 64.9272 314.014 Q64.9272 321.685 59.9619 326.045 Q54.9649 330.374 46.212 330.374 Q37.4273 330.374 32.4621 326.045 Q27.4968 321.685 27.4968 314.014 Z\" fill=\"#000000\" fill-rule=\"evenodd\" fill-opacity=\"1\" /><path clip-path=\"url(#clip050)\" d=\"M42.4881 258.314 L64.0042 258.314 L64.0042 264.171 L42.679 264.171 Q37.6183 264.171 35.1038 266.144 Q32.5894 268.117 32.5894 272.064 Q32.5894 276.807 35.6131 279.544 Q38.6368 282.281 43.8567 282.281 L64.0042 282.281 L64.0042 288.169 L28.3562 288.169 L28.3562 282.281 L33.8944 282.281 Q30.6797 280.18 29.0883 277.348 Q27.4968 274.483 27.4968 270.759 Q27.4968 264.616 31.3163 261.465 Q35.1038 258.314 42.4881 258.314 Z\" fill=\"#000000\" fill-rule=\"evenodd\" fill-opacity=\"1\" /><path clip-path=\"url(#clip050)\" d=\"M32.4621 232.82 Q32.4621 237.53 36.1542 240.267 Q39.8145 243.005 46.212 243.005 Q52.6095 243.005 56.3017 240.299 Q59.9619 237.562 59.9619 232.82 Q59.9619 228.141 56.2698 225.404 Q52.5777 222.666 46.212 222.666 Q39.8781 222.666 36.186 225.404 Q32.4621 228.141 32.4621 232.82 M27.4968 232.82 Q27.4968 225.181 32.4621 220.82 Q37.4273 216.46 46.212 216.46 Q54.9649 216.46 59.9619 220.82 Q64.9272 225.181 64.9272 232.82 Q64.9272 240.49 59.9619 244.851 Q54.9649 249.179 46.212 249.179 Q37.4273 249.179 32.4621 244.851 Q27.4968 240.49 27.4968 232.82 Z\" fill=\"#000000\" fill-rule=\"evenodd\" fill-opacity=\"1\" /><polyline clip-path=\"url(#clip052)\" style=\"stroke:#ff0000; stroke-linecap:round; stroke-linejoin:round; stroke-width:20; stroke-opacity:0.3; fill:none\" points=\"279.421,623.18 279.421,141.966 385.366,141.966 385.366,45.6992 491.31,45.6992 491.31,105.167 597.255,105.167 597.255,452.971 703.199,452.971 703.199,461.616 809.144,461.616 809.144,323.25 915.089,323.25 915.089,201.466 1021.03,201.466 1021.03,237.34 1126.98,237.34 1126.98,268.366 1232.92,268.366 1232.92,260.364 1338.87,260.364 1338.87,257.11 1444.81,257.11 1444.81,302.076 1550.76,302.076 1550.76,255.051 1656.7,255.051 1656.7,254.602 1762.64,254.602 1762.64,268.746 1868.59,268.746 1868.59,290.467 1974.53,290.467 1974.53,254.299 2080.48,254.299 2080.48,261.191 2186.42,261.191 2186.42,270.148 2292.37,270.148 \"/>\n",
       "<polyline clip-path=\"url(#clip052)\" style=\"stroke:#f2000d; stroke-linecap:round; stroke-linejoin:round; stroke-width:20; stroke-opacity:0.3; fill:none\" points=\"279.421,623.18 279.421,141.966 385.366,141.966 385.366,52.3601 491.31,52.3601 491.31,106.366 597.255,106.366 597.255,435.864 703.199,435.864 703.199,436.813 809.144,436.813 809.144,304.955 915.089,304.955 915.089,196.435 1021.03,196.435 1021.03,277.113 1126.98,277.113 1126.98,250.232 1232.92,250.232 1232.92,246.498 1338.87,246.498 1338.87,258.736 1444.81,258.736 1444.81,300.269 1550.76,300.269 1550.76,250.012 1656.7,250.012 1656.7,247.605 1762.64,247.605 1762.64,263.044 1868.59,263.044 1868.59,298.141 1974.53,298.141 1974.53,249.124 2080.48,249.124 2080.48,249.958 2186.42,249.958 2186.42,263.755 2292.37,263.755 \"/>\n",
       "<polyline clip-path=\"url(#clip052)\" style=\"stroke:#e4001b; stroke-linecap:round; stroke-linejoin:round; stroke-width:20; stroke-opacity:0.3; fill:none\" points=\"279.421,623.18 279.421,141.966 385.366,141.966 385.366,38.5833 491.31,38.5833 491.31,104.433 597.255,104.433 597.255,471.625 703.199,471.625 703.199,487.071 809.144,487.071 809.144,340.53 915.089,340.53 915.089,203.98 1021.03,203.98 1021.03,214.806 1126.98,214.806 1126.98,264.221 1232.92,264.221 1232.92,278.711 1338.87,278.711 1338.87,263.325 1444.81,263.325 1444.81,293.366 1550.76,293.366 1550.76,259.804 1656.7,259.804 1656.7,266.152 1762.64,266.152 1762.64,274.452 1868.59,274.452 1868.59,272.978 1974.53,272.978 1974.53,268.552 2080.48,268.552 2080.48,270.232 2186.42,270.232 2186.42,268.991 2292.37,268.991 \"/>\n",
       "<polyline clip-path=\"url(#clip052)\" style=\"stroke:#d70028; stroke-linecap:round; stroke-linejoin:round; stroke-width:20; stroke-opacity:0.3; fill:none\" points=\"279.421,623.18 279.421,141.966 385.366,141.966 385.366,55.2543 491.31,55.2543 491.31,107.034 597.255,107.034 597.255,428.389 703.199,428.389 703.199,425.51 809.144,425.51 809.144,296.121 915.089,296.121 915.089,193.277 1021.03,193.277 1021.03,289.497 1126.98,289.497 1126.98,251.646 1232.92,251.646 1232.92,235.747 1338.87,235.747 1338.87,255.586 1444.81,255.586 1444.81,304.494 1550.76,304.494 1550.76,250.344 1656.7,250.344 1656.7,240.172 1762.64,240.172 1762.64,259.745 1868.59,259.745 1868.59,302.11 1974.53,302.11 1974.53,248.738 2080.48,248.738 2080.48,242.55 2186.42,242.55 2186.42,260.157 2292.37,260.157 \"/>\n",
       "<polyline clip-path=\"url(#clip052)\" style=\"stroke:#c90036; stroke-linecap:round; stroke-linejoin:round; stroke-width:20; stroke-opacity:0.3; fill:none\" points=\"279.421,623.18 279.421,141.966 385.366,141.966 385.366,45.1996 491.31,45.1996 491.31,105.097 597.255,105.097 597.255,454.288 703.199,454.288 703.199,463.467 809.144,463.467 809.144,324.591 915.089,324.591 915.089,201.773 1021.03,201.773 1021.03,235.193 1126.98,235.193 1126.98,268.36 1232.92,268.36 1232.92,262.624 1338.87,262.624 1338.87,257.039 1444.81,257.039 1444.81,301.759 1550.76,301.759 1550.76,255.339 1656.7,255.339 1656.7,255.29 1762.64,255.29 1762.64,269.262 1868.59,269.262 1868.59,289.027 1974.53,289.027 1974.53,255.418 2080.48,255.418 2080.48,261.902 2186.42,261.902 2186.42,270.015 2292.37,270.015 \"/>\n",
       "<polyline clip-path=\"url(#clip052)\" style=\"stroke:#bc0043; stroke-linecap:round; stroke-linejoin:round; stroke-width:20; stroke-opacity:0.3; fill:none\" points=\"279.421,623.18 279.421,141.966 385.366,141.966 385.366,43.4604 491.31,43.4604 491.31,104.877 597.255,104.877 597.255,458.901 703.199,458.901 703.199,469.902 809.144,469.902 809.144,329.154 915.089,329.154 915.089,202.687 1021.03,202.687 1021.03,228.005 1126.98,228.005 1126.98,268.058 1232.92,268.058 1232.92,269.737 1338.87,269.737 1338.87,257.564 1444.81,257.564 1444.81,300.084 1550.76,300.084 1550.76,256.141 1656.7,256.141 1656.7,258.116 1762.64,258.116 1762.64,271.298 1868.59,271.298 1868.59,283.272 1974.53,283.272 1974.53,259.604 2080.48,259.604 2080.48,264.477 2186.42,264.477 2186.42,269.341 2292.37,269.341 \"/>\n",
       "<polyline clip-path=\"url(#clip052)\" style=\"stroke:#ae0051; stroke-linecap:round; stroke-linejoin:round; stroke-width:20; stroke-opacity:0.3; fill:none\" points=\"279.421,623.18 279.421,141.966 385.366,141.966 385.366,45.9557 491.31,45.9557 491.31,105.208 597.255,105.208 597.255,452.296 703.199,452.296 703.199,460.654 809.144,460.654 809.144,322.541 915.089,322.541 915.089,201.294 1021.03,201.294 1021.03,238.478 1126.98,238.478 1126.98,268.363 1232.92,268.363 1232.92,259.156 1338.87,259.156 1338.87,257.184 1444.81,257.184 1444.81,302.211 1550.76,302.211 1550.76,254.905 1656.7,254.905 1656.7,254.264 1762.64,254.264 1762.64,268.5 1868.59,268.5 1868.59,291.145 1974.53,291.145 1974.53,253.758 2080.48,253.758 2080.48,260.832 2186.42,260.832 2186.42,270.194 2292.37,270.194 \"/>\n",
       "<polyline clip-path=\"url(#clip052)\" style=\"stroke:#a1005e; stroke-linecap:round; stroke-linejoin:round; stroke-width:20; stroke-opacity:0.3; fill:none\" points=\"279.421,623.18 279.421,141.966 385.366,141.966 385.366,41.9805 491.31,41.9805 491.31,104.713 597.255,104.713 597.255,462.821 703.199,462.821 703.199,475.297 809.144,475.297 809.144,332.866 915.089,332.866 915.089,203.285 1021.03,203.285 1021.03,222.163 1126.98,222.163 1126.98,267.75 1232.92,267.75 1232.92,275.383 1338.87,275.383 1338.87,258.236 1444.81,258.236 1444.81,298.749 1550.76,298.749 1550.76,256.209 1656.7,256.209 1656.7,260.896 1762.64,260.896 1762.64,272.722 1868.59,272.722 1868.59,279.009 1974.53,279.009 1974.53,262.852 2080.48,262.852 2080.48,266.508 2186.42,266.508 2186.42,268.937 2292.37,268.937 \"/>\n",
       "<polyline clip-path=\"url(#clip052)\" style=\"stroke:#94006b; stroke-linecap:round; stroke-linejoin:round; stroke-width:20; stroke-opacity:0.3; fill:none\" points=\"279.421,623.18 279.421,141.966 385.366,141.966 385.366,42.7146 491.31,42.7146 491.31,104.789 597.255,104.789 597.255,460.874 703.199,460.874 703.199,472.632 809.144,472.632 809.144,331.045 915.089,331.045 915.089,203.007 1021.03,203.007 1021.03,225.024 1126.98,225.024 1126.98,267.933 1232.92,267.933 1232.92,272.659 1338.87,272.659 1338.87,257.854 1444.81,257.854 1444.81,299.432 1550.76,299.432 1550.76,256.19 1656.7,256.19 1656.7,259.498 1762.64,259.498 1762.64,272.009 1868.59,272.009 1868.59,281.147 1974.53,281.147 1974.53,261.233 2080.48,261.233 2080.48,265.499 2186.42,265.499 2186.42,269.145 2292.37,269.145 \"/>\n",
       "<polyline clip-path=\"url(#clip052)\" style=\"stroke:#860079; stroke-linecap:round; stroke-linejoin:round; stroke-width:20; stroke-opacity:0.3; fill:none\" points=\"279.421,623.18 279.421,141.966 385.366,141.966 385.366,36.4356 491.31,36.4356 491.31,104.323 597.255,104.323 597.255,477.194 703.199,477.194 703.199,494.325 809.144,494.325 809.144,344.99 915.089,344.99 915.089,204.029 1021.03,204.029 1021.03,210.96 1126.98,210.96 1126.98,261.679 1232.92,261.679 1232.92,280.515 1338.87,280.515 1338.87,267.677 1444.81,267.677 1444.81,285.611 1550.76,285.611 1550.76,265.322 1656.7,265.322 1656.7,269.514 1762.64,269.514 1762.64,273.313 1868.59,273.313 1868.59,273.819 1974.53,273.819 1974.53,269.987 2080.48,269.987 2080.48,271.629 2186.42,271.629 2186.42,270.239 2292.37,270.239 \"/>\n",
       "<polyline clip-path=\"url(#clip052)\" style=\"stroke:#790086; stroke-linecap:round; stroke-linejoin:round; stroke-width:20; stroke-opacity:0.3; fill:none\" points=\"279.421,623.18 279.421,141.966 385.366,141.966 385.366,47.7202 491.31,47.7202 491.31,105.479 597.255,105.479 597.255,447.66 703.199,447.66 703.199,454.06 809.144,454.06 809.144,317.677 915.089,317.677 915.089,200.052 1021.03,200.052 1021.03,246.396 1126.98,246.396 1126.98,268.084 1232.92,268.084 1232.92,251.164 1338.87,251.164 1338.87,257.481 1444.81,257.481 1444.81,303.149 1550.76,303.149 1550.76,254.02 1656.7,254.02 1656.7,251.581 1762.64,251.581 1762.64,266.866 1868.59,266.866 1868.59,294.673 1974.53,294.673 1974.53,251.451 2080.48,251.451 2080.48,257.671 2186.42,257.671 2186.42,269.101 2292.37,269.101 \"/>\n",
       "<polyline clip-path=\"url(#clip052)\" style=\"stroke:#6b0094; stroke-linecap:round; stroke-linejoin:round; stroke-width:20; stroke-opacity:0.3; fill:none\" points=\"279.421,623.18 279.421,141.966 385.366,141.966 385.366,56.8582 491.31,56.8582 491.31,107.446 597.255,107.446 597.255,424.344 703.199,424.344 703.199,419.296 809.144,419.296 809.144,291.145 915.089,291.145 915.089,191.313 1021.03,191.313 1021.03,294.839 1126.98,294.839 1126.98,253.738 1232.92,253.738 1232.92,231.698 1338.87,231.698 1338.87,252.416 1444.81,252.416 1444.81,307.172 1550.76,307.172 1550.76,251.091 1656.7,251.091 1656.7,235.962 1762.64,235.962 1762.64,257.405 1868.59,257.405 1868.59,304.742 1974.53,304.742 1974.53,249.182 2080.48,249.182 2080.48,238.111 2186.42,238.111 2186.42,258.228 2292.37,258.228 \"/>\n",
       "<polyline clip-path=\"url(#clip052)\" style=\"stroke:#5e00a1; stroke-linecap:round; stroke-linejoin:round; stroke-width:20; stroke-opacity:0.3; fill:none\" points=\"279.421,623.18 279.421,141.966 385.366,141.966 385.366,36.9099 491.31,36.9099 491.31,104.342 597.255,104.342 597.255,475.963 703.199,475.963 703.199,492.736 809.144,492.736 809.144,344.03 915.089,344.03 915.089,204.043 1021.03,204.043 1021.03,211.857 1126.98,211.857 1126.98,262.185 1232.92,262.185 1232.92,279.759 1338.87,279.759 1338.87,266.624 1444.81,266.624 1444.81,287.894 1550.76,287.894 1550.76,263.881 1656.7,263.881 1656.7,268.677 1762.64,268.677 1762.64,273.727 1868.59,273.727 1868.59,273.326 1974.53,273.326 1974.53,269.82 2080.48,269.82 2080.48,271.383 2186.42,271.383 2186.42,269.885 2292.37,269.885 \"/>\n",
       "<polyline clip-path=\"url(#clip052)\" style=\"stroke:#5100ae; stroke-linecap:round; stroke-linejoin:round; stroke-width:20; stroke-opacity:0.3; fill:none\" points=\"279.421,1199.12 279.421,1199.12 385.366,1199.12 491.31,1199.12 597.255,1199.12 703.199,1199.12 809.144,1199.12 915.089,1199.12 1021.03,1199.12 1126.98,1199.12 1232.92,1199.12 1338.87,1199.12 1444.81,1199.12 1550.76,1199.12 1656.7,1199.12 1762.64,1199.12 1868.59,1199.12 1974.53,1199.12 2080.48,1199.12 2186.42,1199.12 2292.37,1199.12 \"/>\n",
       "<polyline clip-path=\"url(#clip052)\" style=\"stroke:#4300bc; stroke-linecap:round; stroke-linejoin:round; stroke-width:20; stroke-opacity:0.3; fill:none\" points=\"279.421,1199.12 279.421,1199.12 385.366,1199.12 491.31,1199.12 597.255,1199.12 703.199,1199.12 809.144,1199.12 915.089,1199.12 1021.03,1199.12 1126.98,1199.12 1232.92,1199.12 1338.87,1199.12 1444.81,1199.12 1550.76,1199.12 1656.7,1199.12 1762.64,1199.12 1868.59,1199.12 1974.53,1199.12 2080.48,1199.12 2186.42,1199.12 2292.37,1199.12 \"/>\n",
       "<polyline clip-path=\"url(#clip052)\" style=\"stroke:#3600c9; stroke-linecap:round; stroke-linejoin:round; stroke-width:20; stroke-opacity:0.3; fill:none\" points=\"279.421,1199.12 279.421,1199.12 385.366,1199.12 491.31,1199.12 597.255,1199.12 703.199,1199.12 809.144,1199.12 915.089,1199.12 1021.03,1199.12 1126.98,1199.12 1232.92,1199.12 1338.87,1199.12 1444.81,1199.12 1550.76,1199.12 1656.7,1199.12 1762.64,1199.12 1868.59,1199.12 1974.53,1199.12 2080.48,1199.12 2186.42,1199.12 2292.37,1199.12 \"/>\n",
       "<polyline clip-path=\"url(#clip052)\" style=\"stroke:#2800d7; stroke-linecap:round; stroke-linejoin:round; stroke-width:20; stroke-opacity:0.3; fill:none\" points=\"279.421,1199.12 279.421,1199.12 385.366,1199.12 491.31,1199.12 597.255,1199.12 703.199,1199.12 809.144,1199.12 915.089,1199.12 1021.03,1199.12 1126.98,1199.12 1232.92,1199.12 1338.87,1199.12 1444.81,1199.12 1550.76,1199.12 1656.7,1199.12 1762.64,1199.12 1868.59,1199.12 1974.53,1199.12 2080.48,1199.12 2186.42,1199.12 2292.37,1199.12 \"/>\n",
       "<polyline clip-path=\"url(#clip052)\" style=\"stroke:#1b00e4; stroke-linecap:round; stroke-linejoin:round; stroke-width:20; stroke-opacity:0.3; fill:none\" points=\"279.421,1199.12 279.421,1199.12 385.366,1199.12 491.31,1199.12 597.255,1199.12 703.199,1199.12 809.144,1199.12 915.089,1199.12 1021.03,1199.12 1126.98,1199.12 1232.92,1199.12 1338.87,1199.12 1444.81,1199.12 1550.76,1199.12 1656.7,1199.12 1762.64,1199.12 1868.59,1199.12 1974.53,1199.12 2080.48,1199.12 2186.42,1199.12 2292.37,1199.12 \"/>\n",
       "<polyline clip-path=\"url(#clip052)\" style=\"stroke:#0d00f2; stroke-linecap:round; stroke-linejoin:round; stroke-width:20; stroke-opacity:0.3; fill:none\" points=\"279.421,1199.12 279.421,1199.12 385.366,1199.12 491.31,1199.12 597.255,1199.12 703.199,1199.12 809.144,1199.12 915.089,1199.12 1021.03,1199.12 1126.98,1199.12 1232.92,1199.12 1338.87,1199.12 1444.81,1199.12 1550.76,1199.12 1656.7,1199.12 1762.64,1199.12 1868.59,1199.12 1974.53,1199.12 2080.48,1199.12 2186.42,1199.12 2292.37,1199.12 \"/>\n",
       "<polyline clip-path=\"url(#clip052)\" style=\"stroke:#0000ff; stroke-linecap:round; stroke-linejoin:round; stroke-width:20; stroke-opacity:0.3; fill:none\" points=\"279.421,1199.12 279.421,1199.12 385.366,1199.12 491.31,1199.12 597.255,1199.12 703.199,1199.12 809.144,1199.12 915.089,1199.12 1021.03,1199.12 1126.98,1199.12 1232.92,1199.12 1338.87,1199.12 1444.81,1199.12 1550.76,1199.12 1656.7,1199.12 1762.64,1199.12 1868.59,1199.12 1974.53,1199.12 2080.48,1199.12 2186.42,1199.12 2292.37,1199.12 \"/>\n",
       "<path clip-path=\"url(#clip050)\" d=\"M219.033 1423.18 L2352.76 1423.18 L2352.76 847.244 L219.033 847.244  Z\" fill=\"#ffffff\" fill-rule=\"evenodd\" fill-opacity=\"1\"/>\n",
       "<defs>\n",
       "  <clipPath id=\"clip053\">\n",
       "    <rect x=\"219\" y=\"847\" width=\"2135\" height=\"577\"/>\n",
       "  </clipPath>\n",
       "</defs>\n",
       "<polyline clip-path=\"url(#clip053)\" style=\"stroke:#000000; stroke-linecap:round; stroke-linejoin:round; stroke-width:8; stroke-opacity:0.1; fill:none\" points=\"703.199,1423.18 703.199,847.244 \"/>\n",
       "<polyline clip-path=\"url(#clip053)\" style=\"stroke:#000000; stroke-linecap:round; stroke-linejoin:round; stroke-width:8; stroke-opacity:0.1; fill:none\" points=\"1232.92,1423.18 1232.92,847.244 \"/>\n",
       "<polyline clip-path=\"url(#clip053)\" style=\"stroke:#000000; stroke-linecap:round; stroke-linejoin:round; stroke-width:8; stroke-opacity:0.1; fill:none\" points=\"1762.64,1423.18 1762.64,847.244 \"/>\n",
       "<polyline clip-path=\"url(#clip053)\" style=\"stroke:#000000; stroke-linecap:round; stroke-linejoin:round; stroke-width:8; stroke-opacity:0.1; fill:none\" points=\"2292.37,1423.18 2292.37,847.244 \"/>\n",
       "<polyline clip-path=\"url(#clip050)\" style=\"stroke:#000000; stroke-linecap:round; stroke-linejoin:round; stroke-width:4; stroke-opacity:1; fill:none\" points=\"219.033,1423.18 2352.76,1423.18 \"/>\n",
       "<polyline clip-path=\"url(#clip050)\" style=\"stroke:#000000; stroke-linecap:round; stroke-linejoin:round; stroke-width:4; stroke-opacity:1; fill:none\" points=\"703.199,1423.18 703.199,1404.28 \"/>\n",
       "<polyline clip-path=\"url(#clip050)\" style=\"stroke:#000000; stroke-linecap:round; stroke-linejoin:round; stroke-width:4; stroke-opacity:1; fill:none\" points=\"1232.92,1423.18 1232.92,1404.28 \"/>\n",
       "<polyline clip-path=\"url(#clip050)\" style=\"stroke:#000000; stroke-linecap:round; stroke-linejoin:round; stroke-width:4; stroke-opacity:1; fill:none\" points=\"1762.64,1423.18 1762.64,1404.28 \"/>\n",
       "<polyline clip-path=\"url(#clip050)\" style=\"stroke:#000000; stroke-linecap:round; stroke-linejoin:round; stroke-width:4; stroke-opacity:1; fill:none\" points=\"2292.37,1423.18 2292.37,1404.28 \"/>\n",
       "<path clip-path=\"url(#clip050)\" d=\"M693.477 1451.02 L711.834 1451.02 L711.834 1454.96 L697.76 1454.96 L697.76 1463.43 Q698.778 1463.08 699.797 1462.92 Q700.815 1462.73 701.834 1462.73 Q707.621 1462.73 711 1465.9 Q714.38 1469.08 714.38 1474.49 Q714.38 1480.07 710.908 1483.17 Q707.436 1486.25 701.116 1486.25 Q698.94 1486.25 696.672 1485.88 Q694.426 1485.51 692.019 1484.77 L692.019 1480.07 Q694.102 1481.2 696.325 1481.76 Q698.547 1482.32 701.024 1482.32 Q705.028 1482.32 707.366 1480.21 Q709.704 1478.1 709.704 1474.49 Q709.704 1470.88 707.366 1468.77 Q705.028 1466.67 701.024 1466.67 Q699.149 1466.67 697.274 1467.08 Q695.422 1467.5 693.477 1468.38 L693.477 1451.02 Z\" fill=\"#000000\" fill-rule=\"evenodd\" fill-opacity=\"1\" /><path clip-path=\"url(#clip050)\" d=\"M1207.61 1481.64 L1215.25 1481.64 L1215.25 1455.28 L1206.94 1456.95 L1206.94 1452.69 L1215.2 1451.02 L1219.88 1451.02 L1219.88 1481.64 L1227.52 1481.64 L1227.52 1485.58 L1207.61 1485.58 L1207.61 1481.64 Z\" fill=\"#000000\" fill-rule=\"evenodd\" fill-opacity=\"1\" /><path clip-path=\"url(#clip050)\" d=\"M1246.96 1454.1 Q1243.35 1454.1 1241.52 1457.66 Q1239.72 1461.2 1239.72 1468.33 Q1239.72 1475.44 1241.52 1479.01 Q1243.35 1482.55 1246.96 1482.55 Q1250.6 1482.55 1252.4 1479.01 Q1254.23 1475.44 1254.23 1468.33 Q1254.23 1461.2 1252.4 1457.66 Q1250.6 1454.1 1246.96 1454.1 M1246.96 1450.39 Q1252.77 1450.39 1255.83 1455 Q1258.91 1459.58 1258.91 1468.33 Q1258.91 1477.06 1255.83 1481.67 Q1252.77 1486.25 1246.96 1486.25 Q1241.15 1486.25 1238.07 1481.67 Q1235.02 1477.06 1235.02 1468.33 Q1235.02 1459.58 1238.07 1455 Q1241.15 1450.39 1246.96 1450.39 Z\" fill=\"#000000\" fill-rule=\"evenodd\" fill-opacity=\"1\" /><path clip-path=\"url(#clip050)\" d=\"M1737.83 1481.64 L1745.47 1481.64 L1745.47 1455.28 L1737.16 1456.95 L1737.16 1452.69 L1745.42 1451.02 L1750.1 1451.02 L1750.1 1481.64 L1757.74 1481.64 L1757.74 1485.58 L1737.83 1485.58 L1737.83 1481.64 Z\" fill=\"#000000\" fill-rule=\"evenodd\" fill-opacity=\"1\" /><path clip-path=\"url(#clip050)\" d=\"M1767.23 1451.02 L1785.58 1451.02 L1785.58 1454.96 L1771.51 1454.96 L1771.51 1463.43 Q1772.53 1463.08 1773.55 1462.92 Q1774.57 1462.73 1775.58 1462.73 Q1781.37 1462.73 1784.75 1465.9 Q1788.13 1469.08 1788.13 1474.49 Q1788.13 1480.07 1784.66 1483.17 Q1781.19 1486.25 1774.87 1486.25 Q1772.69 1486.25 1770.42 1485.88 Q1768.18 1485.51 1765.77 1484.77 L1765.77 1480.07 Q1767.85 1481.2 1770.08 1481.76 Q1772.3 1482.32 1774.77 1482.32 Q1778.78 1482.32 1781.12 1480.21 Q1783.45 1478.1 1783.45 1474.49 Q1783.45 1470.88 1781.12 1468.77 Q1778.78 1466.67 1774.77 1466.67 Q1772.9 1466.67 1771.02 1467.08 Q1769.17 1467.5 1767.23 1468.38 L1767.23 1451.02 Z\" fill=\"#000000\" fill-rule=\"evenodd\" fill-opacity=\"1\" /><path clip-path=\"url(#clip050)\" d=\"M2271.14 1481.64 L2287.46 1481.64 L2287.46 1485.58 L2265.52 1485.58 L2265.52 1481.64 Q2268.18 1478.89 2272.76 1474.26 Q2277.37 1469.61 2278.55 1468.27 Q2280.79 1465.74 2281.67 1464.01 Q2282.58 1462.25 2282.58 1460.56 Q2282.58 1457.8 2280.63 1456.07 Q2278.71 1454.33 2275.61 1454.33 Q2273.41 1454.33 2270.96 1455.09 Q2268.53 1455.86 2265.75 1457.41 L2265.75 1452.69 Q2268.57 1451.55 2271.03 1450.97 Q2273.48 1450.39 2275.52 1450.39 Q2280.89 1450.39 2284.08 1453.08 Q2287.27 1455.77 2287.27 1460.26 Q2287.27 1462.39 2286.46 1464.31 Q2285.68 1466.2 2283.57 1468.8 Q2282.99 1469.47 2279.89 1472.69 Q2276.79 1475.88 2271.14 1481.64 Z\" fill=\"#000000\" fill-rule=\"evenodd\" fill-opacity=\"1\" /><path clip-path=\"url(#clip050)\" d=\"M2307.27 1454.1 Q2303.66 1454.1 2301.84 1457.66 Q2300.03 1461.2 2300.03 1468.33 Q2300.03 1475.44 2301.84 1479.01 Q2303.66 1482.55 2307.27 1482.55 Q2310.91 1482.55 2312.71 1479.01 Q2314.54 1475.44 2314.54 1468.33 Q2314.54 1461.2 2312.71 1457.66 Q2310.91 1454.1 2307.27 1454.1 M2307.27 1450.39 Q2313.09 1450.39 2316.14 1455 Q2319.22 1459.58 2319.22 1468.33 Q2319.22 1477.06 2316.14 1481.67 Q2313.09 1486.25 2307.27 1486.25 Q2301.46 1486.25 2298.39 1481.67 Q2295.33 1477.06 2295.33 1468.33 Q2295.33 1459.58 2298.39 1455 Q2301.46 1450.39 2307.27 1450.39 Z\" fill=\"#000000\" fill-rule=\"evenodd\" fill-opacity=\"1\" /><path clip-path=\"url(#clip050)\" d=\"M1180.03 1522.27 L1180.03 1532.4 L1192.1 1532.4 L1192.1 1536.95 L1180.03 1536.95 L1180.03 1556.3 Q1180.03 1560.66 1181.21 1561.9 Q1182.42 1563.14 1186.08 1563.14 L1192.1 1563.14 L1192.1 1568.04 L1186.08 1568.04 Q1179.3 1568.04 1176.72 1565.53 Q1174.14 1562.98 1174.14 1556.3 L1174.14 1536.95 L1169.85 1536.95 L1169.85 1532.4 L1174.14 1532.4 L1174.14 1522.27 L1180.03 1522.27 Z\" fill=\"#000000\" fill-rule=\"evenodd\" fill-opacity=\"1\" /><path clip-path=\"url(#clip050)\" d=\"M1199.8 1532.4 L1205.65 1532.4 L1205.65 1568.04 L1199.8 1568.04 L1199.8 1532.4 M1199.8 1518.52 L1205.65 1518.52 L1205.65 1525.93 L1199.8 1525.93 L1199.8 1518.52 Z\" fill=\"#000000\" fill-rule=\"evenodd\" fill-opacity=\"1\" /><path clip-path=\"url(#clip050)\" d=\"M1245.66 1539.24 Q1247.86 1535.29 1250.91 1533.41 Q1253.97 1531.54 1258.11 1531.54 Q1263.68 1531.54 1266.7 1535.45 Q1269.73 1539.33 1269.73 1546.53 L1269.73 1568.04 L1263.84 1568.04 L1263.84 1546.72 Q1263.84 1541.59 1262.02 1539.11 Q1260.21 1536.63 1256.48 1536.63 Q1251.93 1536.63 1249.29 1539.65 Q1246.65 1542.68 1246.65 1547.9 L1246.65 1568.04 L1240.76 1568.04 L1240.76 1546.72 Q1240.76 1541.56 1238.95 1539.11 Q1237.13 1536.63 1233.35 1536.63 Q1228.86 1536.63 1226.22 1539.68 Q1223.57 1542.71 1223.57 1547.9 L1223.57 1568.04 L1217.69 1568.04 L1217.69 1532.4 L1223.57 1532.4 L1223.57 1537.93 Q1225.58 1534.66 1228.38 1533.1 Q1231.18 1531.54 1235.03 1531.54 Q1238.92 1531.54 1241.62 1533.51 Q1244.36 1535.48 1245.66 1539.24 Z\" fill=\"#000000\" fill-rule=\"evenodd\" fill-opacity=\"1\" /><path clip-path=\"url(#clip050)\" d=\"M1311.9 1548.76 L1311.9 1551.62 L1284.97 1551.62 Q1285.35 1557.67 1288.6 1560.85 Q1291.88 1564 1297.7 1564 Q1301.08 1564 1304.23 1563.17 Q1307.41 1562.35 1310.53 1560.69 L1310.53 1566.23 Q1307.38 1567.57 1304.07 1568.27 Q1300.76 1568.97 1297.35 1568.97 Q1288.82 1568.97 1283.83 1564 Q1278.86 1559.04 1278.86 1550.57 Q1278.86 1541.82 1283.57 1536.69 Q1288.31 1531.54 1296.33 1531.54 Q1303.53 1531.54 1307.7 1536.18 Q1311.9 1540.8 1311.9 1548.76 M1306.04 1547.04 Q1305.98 1542.23 1303.34 1539.37 Q1300.73 1536.5 1296.4 1536.5 Q1291.5 1536.5 1288.54 1539.27 Q1285.61 1542.04 1285.16 1547.07 L1306.04 1547.04 Z\" fill=\"#000000\" fill-rule=\"evenodd\" fill-opacity=\"1\" /><path clip-path=\"url(#clip050)\" d=\"M1320.97 1518.52 L1334.46 1518.52 L1334.46 1523.07 L1326.83 1523.07 L1326.83 1572.09 L1334.46 1572.09 L1334.46 1576.64 L1320.97 1576.64 L1320.97 1518.52 Z\" fill=\"#000000\" fill-rule=\"evenodd\" fill-opacity=\"1\" /><path clip-path=\"url(#clip050)\" d=\"M1376.57 1546.53 L1376.57 1568.04 L1370.72 1568.04 L1370.72 1546.72 Q1370.72 1541.66 1368.74 1539.14 Q1366.77 1536.63 1362.82 1536.63 Q1358.08 1536.63 1355.34 1539.65 Q1352.61 1542.68 1352.61 1547.9 L1352.61 1568.04 L1346.72 1568.04 L1346.72 1518.52 L1352.61 1518.52 L1352.61 1537.93 Q1354.71 1534.72 1357.54 1533.13 Q1360.41 1531.54 1364.13 1531.54 Q1370.27 1531.54 1373.42 1535.36 Q1376.57 1539.14 1376.57 1546.53 Z\" fill=\"#000000\" fill-rule=\"evenodd\" fill-opacity=\"1\" /><path clip-path=\"url(#clip050)\" d=\"M1401.94 1518.52 L1401.94 1576.64 L1388.45 1576.64 L1388.45 1572.09 L1396.05 1572.09 L1396.05 1523.07 L1388.45 1523.07 L1388.45 1518.52 L1401.94 1518.52 Z\" fill=\"#000000\" fill-rule=\"evenodd\" fill-opacity=\"1\" /><polyline clip-path=\"url(#clip053)\" style=\"stroke:#000000; stroke-linecap:round; stroke-linejoin:round; stroke-width:8; stroke-opacity:0.1; fill:none\" points=\"219.033,1423.18 2352.76,1423.18 \"/>\n",
       "<polyline clip-path=\"url(#clip053)\" style=\"stroke:#000000; stroke-linecap:round; stroke-linejoin:round; stroke-width:8; stroke-opacity:0.1; fill:none\" points=\"219.033,1307.99 2352.76,1307.99 \"/>\n",
       "<polyline clip-path=\"url(#clip053)\" style=\"stroke:#000000; stroke-linecap:round; stroke-linejoin:round; stroke-width:8; stroke-opacity:0.1; fill:none\" points=\"219.033,1192.81 2352.76,1192.81 \"/>\n",
       "<polyline clip-path=\"url(#clip053)\" style=\"stroke:#000000; stroke-linecap:round; stroke-linejoin:round; stroke-width:8; stroke-opacity:0.1; fill:none\" points=\"219.033,1077.62 2352.76,1077.62 \"/>\n",
       "<polyline clip-path=\"url(#clip053)\" style=\"stroke:#000000; stroke-linecap:round; stroke-linejoin:round; stroke-width:8; stroke-opacity:0.1; fill:none\" points=\"219.033,962.431 2352.76,962.431 \"/>\n",
       "<polyline clip-path=\"url(#clip053)\" style=\"stroke:#000000; stroke-linecap:round; stroke-linejoin:round; stroke-width:8; stroke-opacity:0.1; fill:none\" points=\"219.033,847.244 2352.76,847.244 \"/>\n",
       "<polyline clip-path=\"url(#clip050)\" style=\"stroke:#000000; stroke-linecap:round; stroke-linejoin:round; stroke-width:4; stroke-opacity:1; fill:none\" points=\"219.033,1423.18 219.033,847.244 \"/>\n",
       "<polyline clip-path=\"url(#clip050)\" style=\"stroke:#000000; stroke-linecap:round; stroke-linejoin:round; stroke-width:4; stroke-opacity:1; fill:none\" points=\"219.033,1423.18 237.931,1423.18 \"/>\n",
       "<polyline clip-path=\"url(#clip050)\" style=\"stroke:#000000; stroke-linecap:round; stroke-linejoin:round; stroke-width:4; stroke-opacity:1; fill:none\" points=\"219.033,1307.99 237.931,1307.99 \"/>\n",
       "<polyline clip-path=\"url(#clip050)\" style=\"stroke:#000000; stroke-linecap:round; stroke-linejoin:round; stroke-width:4; stroke-opacity:1; fill:none\" points=\"219.033,1192.81 237.931,1192.81 \"/>\n",
       "<polyline clip-path=\"url(#clip050)\" style=\"stroke:#000000; stroke-linecap:round; stroke-linejoin:round; stroke-width:4; stroke-opacity:1; fill:none\" points=\"219.033,1077.62 237.931,1077.62 \"/>\n",
       "<polyline clip-path=\"url(#clip050)\" style=\"stroke:#000000; stroke-linecap:round; stroke-linejoin:round; stroke-width:4; stroke-opacity:1; fill:none\" points=\"219.033,962.431 237.931,962.431 \"/>\n",
       "<polyline clip-path=\"url(#clip050)\" style=\"stroke:#000000; stroke-linecap:round; stroke-linejoin:round; stroke-width:4; stroke-opacity:1; fill:none\" points=\"219.033,847.244 237.931,847.244 \"/>\n",
       "<path clip-path=\"url(#clip050)\" d=\"M116.668 1436.52 L124.306 1436.52 L124.306 1410.16 L115.996 1411.83 L115.996 1407.57 L124.26 1405.9 L128.936 1405.9 L128.936 1436.52 L136.575 1436.52 L136.575 1440.46 L116.668 1440.46 L116.668 1436.52 Z\" fill=\"#000000\" fill-rule=\"evenodd\" fill-opacity=\"1\" /><path clip-path=\"url(#clip050)\" d=\"M146.019 1434.58 L150.903 1434.58 L150.903 1440.46 L146.019 1440.46 L146.019 1434.58 Z\" fill=\"#000000\" fill-rule=\"evenodd\" fill-opacity=\"1\" /><path clip-path=\"url(#clip050)\" d=\"M171.089 1408.98 Q167.477 1408.98 165.649 1412.54 Q163.843 1416.08 163.843 1423.21 Q163.843 1430.32 165.649 1433.89 Q167.477 1437.43 171.089 1437.43 Q174.723 1437.43 176.528 1433.89 Q178.357 1430.32 178.357 1423.21 Q178.357 1416.08 176.528 1412.54 Q174.723 1408.98 171.089 1408.98 M171.089 1405.27 Q176.899 1405.27 179.954 1409.88 Q183.033 1414.46 183.033 1423.21 Q183.033 1431.94 179.954 1436.55 Q176.899 1441.13 171.089 1441.13 Q165.278 1441.13 162.2 1436.55 Q159.144 1431.94 159.144 1423.21 Q159.144 1414.46 162.2 1409.88 Q165.278 1405.27 171.089 1405.27 Z\" fill=\"#000000\" fill-rule=\"evenodd\" fill-opacity=\"1\" /><path clip-path=\"url(#clip050)\" d=\"M118.265 1321.34 L125.904 1321.34 L125.904 1294.97 L117.593 1296.64 L117.593 1292.38 L125.857 1290.71 L130.533 1290.71 L130.533 1321.34 L138.172 1321.34 L138.172 1325.27 L118.265 1325.27 L118.265 1321.34 Z\" fill=\"#000000\" fill-rule=\"evenodd\" fill-opacity=\"1\" /><path clip-path=\"url(#clip050)\" d=\"M147.616 1319.39 L152.501 1319.39 L152.501 1325.27 L147.616 1325.27 L147.616 1319.39 Z\" fill=\"#000000\" fill-rule=\"evenodd\" fill-opacity=\"1\" /><path clip-path=\"url(#clip050)\" d=\"M166.714 1321.34 L183.033 1321.34 L183.033 1325.27 L161.089 1325.27 L161.089 1321.34 Q163.751 1318.58 168.334 1313.95 Q172.94 1309.3 174.121 1307.96 Q176.366 1305.43 177.246 1303.7 Q178.149 1301.94 178.149 1300.25 Q178.149 1297.5 176.204 1295.76 Q174.283 1294.02 171.181 1294.02 Q168.982 1294.02 166.528 1294.79 Q164.098 1295.55 161.32 1297.1 L161.32 1292.38 Q164.144 1291.25 166.598 1290.67 Q169.052 1290.09 171.089 1290.09 Q176.459 1290.09 179.653 1292.77 Q182.848 1295.46 182.848 1299.95 Q182.848 1302.08 182.038 1304 Q181.251 1305.9 179.144 1308.49 Q178.565 1309.16 175.464 1312.38 Q172.362 1315.57 166.714 1321.34 Z\" fill=\"#000000\" fill-rule=\"evenodd\" fill-opacity=\"1\" /><path clip-path=\"url(#clip050)\" d=\"M116.181 1206.15 L123.82 1206.15 L123.82 1179.78 L115.51 1181.45 L115.51 1177.19 L123.774 1175.53 L128.45 1175.53 L128.45 1206.15 L136.089 1206.15 L136.089 1210.09 L116.181 1210.09 L116.181 1206.15 Z\" fill=\"#000000\" fill-rule=\"evenodd\" fill-opacity=\"1\" /><path clip-path=\"url(#clip050)\" d=\"M145.533 1204.21 L150.417 1204.21 L150.417 1210.09 L145.533 1210.09 L145.533 1204.21 Z\" fill=\"#000000\" fill-rule=\"evenodd\" fill-opacity=\"1\" /><path clip-path=\"url(#clip050)\" d=\"M173.45 1179.6 L161.644 1198.05 L173.45 1198.05 L173.45 1179.6 M172.223 1175.53 L178.102 1175.53 L178.102 1198.05 L183.033 1198.05 L183.033 1201.94 L178.102 1201.94 L178.102 1210.09 L173.45 1210.09 L173.45 1201.94 L157.848 1201.94 L157.848 1197.42 L172.223 1175.53 Z\" fill=\"#000000\" fill-rule=\"evenodd\" fill-opacity=\"1\" /><path clip-path=\"url(#clip050)\" d=\"M116.506 1090.96 L124.144 1090.96 L124.144 1064.6 L115.834 1066.26 L115.834 1062.01 L124.098 1060.34 L128.774 1060.34 L128.774 1090.96 L136.413 1090.96 L136.413 1094.9 L116.506 1094.9 L116.506 1090.96 Z\" fill=\"#000000\" fill-rule=\"evenodd\" fill-opacity=\"1\" /><path clip-path=\"url(#clip050)\" d=\"M145.857 1089.02 L150.741 1089.02 L150.741 1094.9 L145.857 1094.9 L145.857 1089.02 Z\" fill=\"#000000\" fill-rule=\"evenodd\" fill-opacity=\"1\" /><path clip-path=\"url(#clip050)\" d=\"M171.505 1075.75 Q168.357 1075.75 166.505 1077.91 Q164.677 1080.06 164.677 1083.81 Q164.677 1087.54 166.505 1089.71 Q168.357 1091.87 171.505 1091.87 Q174.653 1091.87 176.482 1089.71 Q178.334 1087.54 178.334 1083.81 Q178.334 1080.06 176.482 1077.91 Q174.653 1075.75 171.505 1075.75 M180.788 1061.1 L180.788 1065.36 Q179.028 1064.53 177.223 1064.09 Q175.44 1063.65 173.681 1063.65 Q169.052 1063.65 166.598 1066.77 Q164.167 1069.9 163.82 1076.22 Q165.186 1074.2 167.246 1073.14 Q169.306 1072.05 171.783 1072.05 Q176.991 1072.05 180.001 1075.22 Q183.033 1078.37 183.033 1083.81 Q183.033 1089.13 179.885 1092.35 Q176.737 1095.57 171.505 1095.57 Q165.51 1095.57 162.339 1090.99 Q159.167 1086.38 159.167 1077.65 Q159.167 1069.46 163.056 1064.6 Q166.945 1059.71 173.496 1059.71 Q175.255 1059.71 177.038 1060.06 Q178.843 1060.41 180.788 1061.1 Z\" fill=\"#000000\" fill-rule=\"evenodd\" fill-opacity=\"1\" /><path clip-path=\"url(#clip050)\" d=\"M116.76 975.776 L124.399 975.776 L124.399 949.41 L116.089 951.077 L116.089 946.818 L124.353 945.151 L129.029 945.151 L129.029 975.776 L136.667 975.776 L136.667 979.711 L116.76 979.711 L116.76 975.776 Z\" fill=\"#000000\" fill-rule=\"evenodd\" fill-opacity=\"1\" /><path clip-path=\"url(#clip050)\" d=\"M146.112 973.832 L150.996 973.832 L150.996 979.711 L146.112 979.711 L146.112 973.832 Z\" fill=\"#000000\" fill-rule=\"evenodd\" fill-opacity=\"1\" /><path clip-path=\"url(#clip050)\" d=\"M171.181 963.299 Q167.848 963.299 165.927 965.082 Q164.028 966.864 164.028 969.989 Q164.028 973.114 165.927 974.896 Q167.848 976.679 171.181 976.679 Q174.514 976.679 176.436 974.896 Q178.357 973.091 178.357 969.989 Q178.357 966.864 176.436 965.082 Q174.538 963.299 171.181 963.299 M166.505 961.309 Q163.496 960.568 161.806 958.508 Q160.14 956.447 160.14 953.485 Q160.14 949.341 163.079 946.934 Q166.042 944.526 171.181 944.526 Q176.343 944.526 179.283 946.934 Q182.223 949.341 182.223 953.485 Q182.223 956.447 180.533 958.508 Q178.866 960.568 175.88 961.309 Q179.26 962.096 181.135 964.387 Q183.033 966.679 183.033 969.989 Q183.033 975.012 179.954 977.697 Q176.899 980.383 171.181 980.383 Q165.464 980.383 162.385 977.697 Q159.329 975.012 159.329 969.989 Q159.329 966.679 161.227 964.387 Q163.126 962.096 166.505 961.309 M164.792 953.924 Q164.792 956.61 166.459 958.114 Q168.149 959.619 171.181 959.619 Q174.19 959.619 175.88 958.114 Q177.593 956.61 177.593 953.924 Q177.593 951.239 175.88 949.735 Q174.19 948.23 171.181 948.23 Q168.149 948.23 166.459 949.735 Q164.792 951.239 164.792 953.924 Z\" fill=\"#000000\" fill-rule=\"evenodd\" fill-opacity=\"1\" /><path clip-path=\"url(#clip050)\" d=\"M119.885 860.589 L136.204 860.589 L136.204 864.524 L114.26 864.524 L114.26 860.589 Q116.922 857.834 121.505 853.205 Q126.112 848.552 127.292 847.209 Q129.538 844.686 130.417 842.95 Q131.32 841.191 131.32 839.501 Q131.32 836.746 129.376 835.01 Q127.455 833.274 124.353 833.274 Q122.154 833.274 119.7 834.038 Q117.269 834.802 114.492 836.353 L114.492 831.631 Q117.316 830.496 119.769 829.918 Q122.223 829.339 124.26 829.339 Q129.63 829.339 132.825 832.024 Q136.019 834.709 136.019 839.2 Q136.019 841.33 135.209 843.251 Q134.422 845.149 132.316 847.742 Q131.737 848.413 128.635 851.631 Q125.533 854.825 119.885 860.589 Z\" fill=\"#000000\" fill-rule=\"evenodd\" fill-opacity=\"1\" /><path clip-path=\"url(#clip050)\" d=\"M146.019 858.644 L150.903 858.644 L150.903 864.524 L146.019 864.524 L146.019 858.644 Z\" fill=\"#000000\" fill-rule=\"evenodd\" fill-opacity=\"1\" /><path clip-path=\"url(#clip050)\" d=\"M171.089 833.043 Q167.477 833.043 165.649 836.608 Q163.843 840.149 163.843 847.279 Q163.843 854.385 165.649 857.95 Q167.477 861.492 171.089 861.492 Q174.723 861.492 176.528 857.95 Q178.357 854.385 178.357 847.279 Q178.357 840.149 176.528 836.608 Q174.723 833.043 171.089 833.043 M171.089 829.339 Q176.899 829.339 179.954 833.946 Q183.033 838.529 183.033 847.279 Q183.033 856.006 179.954 860.612 Q176.899 865.195 171.089 865.195 Q165.278 865.195 162.2 860.612 Q159.144 856.006 159.144 847.279 Q159.144 838.529 162.2 833.946 Q165.278 829.339 171.089 829.339 Z\" fill=\"#000000\" fill-rule=\"evenodd\" fill-opacity=\"1\" /><path clip-path=\"url(#clip050)\" d=\"M49.9359 1220.1 L28.3562 1220.1 L28.3562 1214.24 L49.7131 1214.24 Q54.7739 1214.24 57.3202 1212.27 Q59.8346 1210.3 59.8346 1206.35 Q59.8346 1201.61 56.8109 1198.87 Q53.7872 1196.1 48.5673 1196.1 L28.3562 1196.1 L28.3562 1190.24 L64.0042 1190.24 L64.0042 1196.1 L58.5296 1196.1 Q61.7762 1198.23 63.3676 1201.07 Q64.9272 1203.87 64.9272 1207.59 Q64.9272 1213.73 61.1078 1216.92 Q57.2883 1220.1 49.9359 1220.1 M27.4968 1205.36 L27.4968 1205.36 Z\" fill=\"#000000\" fill-rule=\"evenodd\" fill-opacity=\"1\" /><path clip-path=\"url(#clip050)\" d=\"M33.7671 1134 L14.479 1134 L14.479 1128.15 L64.0042 1128.15 L64.0042 1134 L58.657 1134 Q61.8398 1135.85 63.3994 1138.68 Q64.9272 1141.48 64.9272 1145.43 Q64.9272 1151.89 59.771 1155.96 Q54.6147 1160.01 46.212 1160.01 Q37.8093 1160.01 32.6531 1155.96 Q27.4968 1151.89 27.4968 1145.43 Q27.4968 1141.48 29.0564 1138.68 Q30.5842 1135.85 33.7671 1134 M46.212 1153.96 Q52.6732 1153.96 56.3653 1151.32 Q60.0256 1148.64 60.0256 1144 Q60.0256 1139.35 56.3653 1136.68 Q52.6732 1134 46.212 1134 Q39.7508 1134 36.0905 1136.68 Q32.3984 1139.35 32.3984 1144 Q32.3984 1148.64 36.0905 1151.32 Q39.7508 1153.96 46.212 1153.96 Z\" fill=\"#000000\" fill-rule=\"evenodd\" fill-opacity=\"1\" /><path clip-path=\"url(#clip050)\" d=\"M44.7161 1085.59 L47.5806 1085.59 L47.5806 1112.52 Q53.6281 1112.14 56.8109 1108.89 Q59.9619 1105.61 59.9619 1099.79 Q59.9619 1096.41 59.1344 1093.26 Q58.3069 1090.08 56.6518 1086.96 L62.1899 1086.96 Q63.5267 1090.11 64.227 1093.42 Q64.9272 1096.73 64.9272 1100.14 Q64.9272 1108.67 59.9619 1113.66 Q54.9967 1118.63 46.5303 1118.63 Q37.7774 1118.63 32.6531 1113.92 Q27.4968 1109.18 27.4968 1101.16 Q27.4968 1093.96 32.1438 1089.79 Q36.7589 1085.59 44.7161 1085.59 M42.9973 1091.45 Q38.1912 1091.51 35.3266 1094.15 Q32.4621 1096.76 32.4621 1101.09 Q32.4621 1105.99 35.2312 1108.95 Q38.0002 1111.88 43.0292 1112.33 L42.9973 1091.45 Z\" fill=\"#000000\" fill-rule=\"evenodd\" fill-opacity=\"1\" /><path clip-path=\"url(#clip050)\" d=\"M29.7248 1050.33 L35.1993 1050.33 Q33.8307 1052.81 33.1623 1055.32 Q32.4621 1057.8 32.4621 1060.35 Q32.4621 1066.05 36.0905 1069.2 Q39.6872 1072.35 46.212 1072.35 Q52.7369 1072.35 56.3653 1069.2 Q59.9619 1066.05 59.9619 1060.35 Q59.9619 1057.8 59.2935 1055.32 Q58.5933 1052.81 57.2247 1050.33 L62.6355 1050.33 Q63.7814 1052.78 64.3543 1055.42 Q64.9272 1058.03 64.9272 1060.99 Q64.9272 1069.04 59.8664 1073.78 Q54.8057 1078.53 46.212 1078.53 Q37.491 1078.53 32.4939 1073.75 Q27.4968 1068.94 27.4968 1060.61 Q27.4968 1057.9 28.0697 1055.32 Q28.6108 1052.74 29.7248 1050.33 Z\" fill=\"#000000\" fill-rule=\"evenodd\" fill-opacity=\"1\" /><polyline clip-path=\"url(#clip053)\" style=\"stroke:#ff0000; stroke-linecap:round; stroke-linejoin:round; stroke-width:20; stroke-opacity:0.3; fill:none\" points=\"279.421,1423.18 279.421,1094.11 385.366,1094.11 385.366,1001.29 491.31,1001.29 491.31,979.696 597.255,979.696 597.255,1017.14 703.199,1017.14 703.199,1080.1 809.144,1080.1 809.144,1080.53 915.089,1080.53 915.089,1036.51 1021.03,1036.51 1021.03,1114.14 1126.98,1114.14 1126.98,1062.41 1232.92,1062.41 1232.92,1042.58 1338.87,1042.58 1338.87,1064.06 1444.81,1064.06 1444.81,1091.36 1550.76,1091.36 1550.76,1060.26 1656.7,1060.26 1656.7,1067.74 1762.64,1067.74 1762.64,1069.01 1868.59,1069.01 1868.59,1080.8 1974.53,1080.8 1974.53,1058.5 2080.48,1058.5 2080.48,1058.85 2186.42,1058.85 2186.42,1063.81 2292.37,1063.81 \"/>\n",
       "<polyline clip-path=\"url(#clip053)\" style=\"stroke:#f2000d; stroke-linecap:round; stroke-linejoin:round; stroke-width:20; stroke-opacity:0.3; fill:none\" points=\"279.421,1423.18 279.421,1094.11 385.366,1094.11 385.366,1010.31 491.31,1010.31 491.31,987.329 597.255,987.329 597.255,1018.1 703.199,1018.1 703.199,1074.71 809.144,1074.71 809.144,1071.68 915.089,1071.68 915.089,1026.92 1021.03,1026.92 1021.03,1104.13 1126.98,1104.13 1126.98,1059.34 1232.92,1059.34 1232.92,1047.6 1338.87,1047.6 1338.87,1066.86 1444.81,1066.86 1444.81,1095.72 1550.76,1095.72 1550.76,1049.32 1656.7,1049.32 1656.7,1050.93 1762.64,1050.93 1762.64,1060.65 1868.59,1060.65 1868.59,1094.48 1974.53,1094.48 1974.53,1079.33 2080.48,1079.33 2080.48,1035.25 2186.42,1035.25 2186.42,1048.12 2292.37,1048.12 \"/>\n",
       "<polyline clip-path=\"url(#clip053)\" style=\"stroke:#e4001b; stroke-linecap:round; stroke-linejoin:round; stroke-width:20; stroke-opacity:0.3; fill:none\" points=\"279.421,1423.18 279.421,1094.11 385.366,1094.11 385.366,991.6 491.31,991.6 491.31,972.146 597.255,972.146 597.255,1021.83 703.199,1021.83 703.199,1092.77 809.144,1092.77 809.144,1092.1 915.089,1092.1 915.089,1041.74 1021.03,1041.74 1021.03,1106.86 1126.98,1106.86 1126.98,1061.04 1232.92,1061.04 1232.92,1053.99 1338.87,1053.99 1338.87,1072.33 1444.81,1072.33 1444.81,1088.75 1550.76,1088.75 1550.76,1065.56 1656.7,1065.56 1656.7,1076.86 1762.64,1076.86 1762.64,1072.73 1868.59,1072.73 1868.59,1061.92 1974.53,1061.92 1974.53,1077.64 2080.48,1077.64 2080.48,1074.5 2186.42,1074.5 2186.42,1061.87 2292.37,1061.87 \"/>\n",
       "<polyline clip-path=\"url(#clip053)\" style=\"stroke:#d70028; stroke-linecap:round; stroke-linejoin:round; stroke-width:20; stroke-opacity:0.3; fill:none\" points=\"279.421,1423.18 279.421,1094.11 385.366,1094.11 385.366,1014.22 491.31,1014.22 491.31,990.813 597.255,990.813 597.255,1012.31 703.199,1012.31 703.199,1063.99 809.144,1063.99 809.144,1064.41 915.089,1064.41 915.089,1027.6 1021.03,1027.6 1021.03,1115.96 1126.98,1115.96 1126.98,1062.28 1232.92,1062.28 1232.92,1034.36 1338.87,1034.36 1338.87,1053 1444.81,1053 1444.81,1098.41 1550.76,1098.41 1550.76,1056.21 1656.7,1056.21 1656.7,1056.39 1762.64,1056.39 1762.64,1058.26 1868.59,1058.26 1868.59,1111.24 1974.53,1111.24 1974.53,1050.6 2080.48,1050.6 2080.48,1030.21 2186.42,1030.21 2186.42,1052.43 2292.37,1052.43 \"/>\n",
       "<polyline clip-path=\"url(#clip053)\" style=\"stroke:#c90036; stroke-linecap:round; stroke-linejoin:round; stroke-width:20; stroke-opacity:0.3; fill:none\" points=\"279.421,1423.18 279.421,1094.11 385.366,1094.11 385.366,1000.61 491.31,1000.61 491.31,979.145 597.255,979.145 597.255,1019.19 703.199,1019.19 703.199,1083.27 809.144,1083.27 809.144,1082.17 915.089,1082.17 915.089,1035.39 1021.03,1035.39 1021.03,1117.48 1126.98,1117.48 1126.98,1063.97 1232.92,1063.97 1232.92,1039.64 1338.87,1039.64 1338.87,1060.86 1444.81,1060.86 1444.81,1086.35 1550.76,1086.35 1550.76,1066.28 1656.7,1066.28 1656.7,1077.83 1762.64,1077.83 1762.64,1070.75 1868.59,1070.75 1868.59,1065.82 1974.53,1065.82 1974.53,1061.74 2080.48,1061.74 2080.48,1064.67 2186.42,1064.67 2186.42,1065.42 2292.37,1065.42 \"/>\n",
       "<polyline clip-path=\"url(#clip053)\" style=\"stroke:#bc0043; stroke-linecap:round; stroke-linejoin:round; stroke-width:20; stroke-opacity:0.3; fill:none\" points=\"279.421,1423.18 279.421,1094.11 385.366,1094.11 385.366,998.246 491.31,998.246 491.31,977.252 597.255,977.252 597.255,1019.8 703.199,1019.8 703.199,1085.71 809.144,1085.71 809.144,1084.8 915.089,1084.8 915.089,1037.16 1021.03,1037.16 1021.03,1112.7 1126.98,1112.7 1126.98,1062.26 1232.92,1062.26 1232.92,1044.93 1338.87,1044.93 1338.87,1066.92 1444.81,1066.92 1444.81,1097.55 1550.76,1097.55 1550.76,1055.29 1656.7,1055.29 1656.7,1056.32 1762.64,1056.32 1762.64,1071 1868.59,1071 1868.59,1091.92 1974.53,1091.92 1974.53,1053.41 2080.48,1053.41 2080.48,1056.89 2186.42,1056.89 2186.42,1074.67 2292.37,1074.67 \"/>\n",
       "<polyline clip-path=\"url(#clip053)\" style=\"stroke:#ae0051; stroke-linecap:round; stroke-linejoin:round; stroke-width:20; stroke-opacity:0.3; fill:none\" points=\"279.421,1423.18 279.421,1094.11 385.366,1094.11 385.366,1001.64 491.31,1001.64 491.31,979.979 597.255,979.979 597.255,1016.98 703.199,1016.98 703.199,1079.66 809.144,1079.66 809.144,1080.11 915.089,1080.11 915.089,1036.3 1021.03,1036.3 1021.03,1101.61 1126.98,1101.61 1126.98,1059.26 1232.92,1059.26 1232.92,1053.82 1338.87,1053.82 1338.87,1075.51 1444.81,1075.51 1444.81,1076.93 1550.76,1076.93 1550.76,1051.84 1656.7,1051.84 1656.7,1065.2 1762.64,1065.2 1762.64,1074.87 1868.59,1074.87 1868.59,1071.46 1974.53,1071.46 1974.53,1065.76 2080.48,1065.76 2080.48,1055.32 2186.42,1055.32 2186.42,1069.74 2292.37,1069.74 \"/>\n",
       "<polyline clip-path=\"url(#clip053)\" style=\"stroke:#a1005e; stroke-linecap:round; stroke-linejoin:round; stroke-width:20; stroke-opacity:0.3; fill:none\" points=\"279.421,1423.18 279.421,1094.11 385.366,1094.11 385.366,996.233 491.31,996.233 491.31,975.671 597.255,975.671 597.255,1015.42 703.199,1015.42 703.199,1081.4 809.144,1081.4 809.144,1084.86 915.089,1084.86 915.089,1042.98 1021.03,1042.98 1021.03,1104.75 1126.98,1104.75 1126.98,1059.33 1232.92,1059.33 1232.92,1053.23 1338.87,1053.23 1338.87,1075.89 1444.81,1075.89 1444.81,1080.9 1550.76,1080.9 1550.76,1057.03 1656.7,1057.03 1656.7,1064.73 1762.64,1064.73 1762.64,1073.7 1868.59,1073.7 1868.59,1066.58 1974.53,1066.58 1974.53,1074.66 2080.48,1074.66 2080.48,1067.62 2186.42,1067.62 2186.42,1063.51 2292.37,1063.51 \"/>\n",
       "<polyline clip-path=\"url(#clip053)\" style=\"stroke:#94006b; stroke-linecap:round; stroke-linejoin:round; stroke-width:20; stroke-opacity:0.3; fill:none\" points=\"279.421,1423.18 279.421,1094.11 385.366,1094.11 385.366,997.233 491.31,997.233 491.31,976.452 597.255,976.452 597.255,1010.92 703.199,1010.92 703.199,1074.57 809.144,1074.57 809.144,1081.24 915.089,1081.24 915.089,1047.16 1021.03,1047.16 1021.03,1114.53 1126.98,1114.53 1126.98,1066.59 1232.92,1066.59 1232.92,1050.79 1338.87,1050.79 1338.87,1061.1 1444.81,1061.1 1444.81,1096.59 1550.76,1096.59 1550.76,1064.41 1656.7,1064.41 1656.7,1072.13 1762.64,1072.13 1762.64,1068.38 1868.59,1068.38 1868.59,1068.25 1974.53,1068.25 1974.53,1078.62 2080.48,1078.62 2080.48,1066.41 2186.42,1066.41 2186.42,1056.74 2292.37,1056.74 \"/>\n",
       "<polyline clip-path=\"url(#clip053)\" style=\"stroke:#860079; stroke-linecap:round; stroke-linejoin:round; stroke-width:20; stroke-opacity:0.3; fill:none\" points=\"279.421,1423.18 279.421,1094.11 385.366,1094.11 385.366,988.665 491.31,988.665 491.31,969.993 597.255,969.993 597.255,1025.52 703.199,1025.52 703.199,1099.37 809.144,1099.37 809.144,1096.34 915.089,1096.34 915.089,1041.09 1021.03,1041.09 1021.03,1106.84 1126.98,1106.84 1126.98,1061.36 1232.92,1061.36 1232.92,1052.49 1338.87,1052.49 1338.87,1076.03 1444.81,1076.03 1444.81,1084.1 1550.76,1084.1 1550.76,1058.83 1656.7,1058.83 1656.7,1071.53 1762.64,1071.53 1762.64,1080.81 1868.59,1080.81 1868.59,1062.29 1974.53,1062.29 1974.53,1072.17 2080.48,1072.17 2080.48,1072.8 2186.42,1072.8 2186.42,1069.58 2292.37,1069.58 \"/>\n",
       "<polyline clip-path=\"url(#clip053)\" style=\"stroke:#790086; stroke-linecap:round; stroke-linejoin:round; stroke-width:20; stroke-opacity:0.3; fill:none\" points=\"279.421,1423.18 279.421,1094.11 385.366,1094.11 385.366,1004.03 491.31,1004.03 491.31,981.955 597.255,981.955 597.255,1015.08 703.199,1015.08 703.199,1075.44 809.144,1075.44 809.144,1076.73 915.089,1076.73 915.089,1035.54 1021.03,1035.54 1021.03,1115.37 1126.98,1115.37 1126.98,1062.58 1232.92,1062.58 1232.92,1040.4 1338.87,1040.4 1338.87,1061.35 1444.81,1061.35 1444.81,1110.57 1550.76,1110.57 1550.76,1053.87 1656.7,1053.87 1656.7,1041.86 1762.64,1041.86 1762.64,1065.47 1868.59,1065.47 1868.59,1103.26 1974.53,1103.26 1974.53,1050.58 2080.48,1050.58 2080.48,1047.9 2186.42,1047.9 2186.42,1071.91 2292.37,1071.91 \"/>\n",
       "<polyline clip-path=\"url(#clip053)\" style=\"stroke:#6b0094; stroke-linecap:round; stroke-linejoin:round; stroke-width:20; stroke-opacity:0.3; fill:none\" points=\"279.421,1423.18 279.421,1094.11 385.366,1094.11 385.366,1016.38 491.31,1016.38 491.31,992.786 597.255,992.786 597.255,1018.89 703.199,1018.89 703.199,1071.03 809.144,1071.03 809.144,1065.66 915.089,1065.66 915.089,1020.5 1021.03,1020.5 1021.03,1106.69 1126.98,1106.69 1126.98,1059.6 1232.92,1059.6 1232.92,1040.88 1338.87,1040.88 1338.87,1059.1 1444.81,1059.1 1444.81,1095.97 1550.76,1095.97 1550.76,1044.91 1656.7,1044.91 1656.7,1042.08 1762.64,1042.08 1762.64,1065.31 1868.59,1065.31 1868.59,1097.43 1974.53,1097.43 1974.53,1043.73 2080.48,1043.73 2080.48,1040.04 2186.42,1040.04 2186.42,1063.3 2292.37,1063.3 \"/>\n",
       "<polyline clip-path=\"url(#clip053)\" style=\"stroke:#5e00a1; stroke-linecap:round; stroke-linejoin:round; stroke-width:20; stroke-opacity:0.3; fill:none\" points=\"279.421,1423.18 279.421,1094.11 385.366,1094.11 385.366,989.314 491.31,989.314 491.31,970.463 597.255,970.463 597.255,1027.1 703.199,1027.1 703.199,1101 809.144,1101 809.144,1096.38 915.089,1096.38 915.089,1038.98 1021.03,1038.98 1021.03,1999.12 1126.98,1999.12 1232.92,1999.12 1338.87,1999.12 1444.81,1999.12 1550.76,1999.12 1656.7,1999.12 1762.64,1999.12 1868.59,1999.12 1974.53,1999.12 2080.48,1999.12 2186.42,1999.12 2292.37,1999.12 \"/>\n",
       "<polyline clip-path=\"url(#clip053)\" style=\"stroke:#5100ae; stroke-linecap:round; stroke-linejoin:round; stroke-width:20; stroke-opacity:0.3; fill:none\" points=\"279.421,1999.12 279.421,1999.12 385.366,1999.12 491.31,1999.12 597.255,1999.12 703.199,1999.12 809.144,1999.12 915.089,1999.12 1021.03,1999.12 1126.98,1999.12 1232.92,1999.12 1338.87,1999.12 1338.87,1999.12 1444.81,1999.12 1444.81,1999.12 1550.76,1999.12 1656.7,1999.12 1762.64,1999.12 1868.59,1999.12 1974.53,1999.12 2080.48,1999.12 2186.42,1999.12 2292.37,1999.12 \"/>\n",
       "<polyline clip-path=\"url(#clip053)\" style=\"stroke:#4300bc; stroke-linecap:round; stroke-linejoin:round; stroke-width:20; stroke-opacity:0.3; fill:none\" points=\"279.421,1999.12 279.421,1999.12 385.366,1999.12 491.31,1999.12 597.255,1999.12 703.199,1999.12 809.144,1999.12 915.089,1999.12 1021.03,1999.12 1126.98,1999.12 1232.92,1999.12 1338.87,1999.12 1444.81,1999.12 1550.76,1999.12 1656.7,1999.12 1762.64,1999.12 1868.59,1999.12 1974.53,1999.12 2080.48,1999.12 2186.42,1999.12 2292.37,1999.12 \"/>\n",
       "<polyline clip-path=\"url(#clip053)\" style=\"stroke:#3600c9; stroke-linecap:round; stroke-linejoin:round; stroke-width:20; stroke-opacity:0.3; fill:none\" points=\"279.421,1999.12 279.421,1999.12 385.366,1999.12 491.31,1999.12 597.255,1999.12 703.199,1999.12 809.144,1999.12 915.089,1999.12 1021.03,1999.12 1126.98,1999.12 1232.92,1999.12 1338.87,1999.12 1444.81,1999.12 1550.76,1999.12 1656.7,1999.12 1762.64,1999.12 1868.59,1999.12 1974.53,1999.12 2080.48,1999.12 2186.42,1999.12 2292.37,1999.12 \"/>\n",
       "<polyline clip-path=\"url(#clip053)\" style=\"stroke:#2800d7; stroke-linecap:round; stroke-linejoin:round; stroke-width:20; stroke-opacity:0.3; fill:none\" points=\"279.421,1999.12 279.421,1999.12 385.366,1999.12 491.31,1999.12 597.255,1999.12 703.199,1999.12 809.144,1999.12 915.089,1999.12 1021.03,1999.12 1126.98,1999.12 1232.92,1999.12 1338.87,1999.12 1444.81,1999.12 1550.76,1999.12 1656.7,1999.12 1762.64,1999.12 1868.59,1999.12 1974.53,1999.12 2080.48,1999.12 2186.42,1999.12 2292.37,1999.12 \"/>\n",
       "<polyline clip-path=\"url(#clip053)\" style=\"stroke:#1b00e4; stroke-linecap:round; stroke-linejoin:round; stroke-width:20; stroke-opacity:0.3; fill:none\" points=\"279.421,1999.12 279.421,1999.12 385.366,1999.12 385.366,1999.12 491.31,1999.12 491.31,1999.12 597.255,1999.12 597.255,1999.12 703.199,1999.12 703.199,1999.12 809.144,1999.12 809.144,1999.12 915.089,1999.12 915.089,1999.12 1021.03,1999.12 1021.03,1999.12 1126.98,1999.12 1126.98,1999.12 1232.92,1999.12 1232.92,1999.12 1338.87,1999.12 1338.87,1999.12 1444.81,1999.12 1444.81,1999.12 1550.76,1999.12 1656.7,1999.12 1762.64,1999.12 1868.59,1999.12 1974.53,1999.12 2080.48,1999.12 2186.42,1999.12 2292.37,1999.12 \"/>\n",
       "<polyline clip-path=\"url(#clip053)\" style=\"stroke:#0d00f2; stroke-linecap:round; stroke-linejoin:round; stroke-width:20; stroke-opacity:0.3; fill:none\" points=\"279.421,1999.12 279.421,1999.12 385.366,1999.12 491.31,1999.12 597.255,1999.12 703.199,1999.12 809.144,1999.12 915.089,1999.12 1021.03,1999.12 1126.98,1999.12 1232.92,1999.12 1338.87,1999.12 1444.81,1999.12 1550.76,1999.12 1656.7,1999.12 1762.64,1999.12 1868.59,1999.12 1974.53,1999.12 2080.48,1999.12 2186.42,1999.12 2292.37,1999.12 \"/>\n",
       "<polyline clip-path=\"url(#clip053)\" style=\"stroke:#0000ff; stroke-linecap:round; stroke-linejoin:round; stroke-width:20; stroke-opacity:0.3; fill:none\" points=\"279.421,1999.12 279.421,1999.12 385.366,1999.12 491.31,1999.12 597.255,1999.12 703.199,1999.12 809.144,1999.12 915.089,1999.12 1021.03,1999.12 1126.98,1999.12 1232.92,1999.12 1338.87,1999.12 1444.81,1999.12 1444.81,1615.16 1550.76,1615.16 1550.76,1999.12 1656.7,1999.12 1762.64,1999.12 1762.64,-36396.6 1868.59,-36396.6 1868.59,1999.12 1974.53,1999.12 2080.48,1999.12 2080.48,1615.16 2186.42,1615.16 2186.42,1999.12 2292.37,1999.12 \"/>\n",
       "</svg>\n"
      ]
     },
     "metadata": {},
     "output_type": "display_data"
    }
   ],
   "source": [
    "gr()\n",
    "# limits\n",
    "p3 = plot(gridlinewidth=2,ylims = (1.0,2.0),yticks = 1.0:0.2:2.0,xaxis=\"time[h]\",yaxis=\"u mono\")\n",
    "\n",
    "for nn in 1:n_MC\n",
    "    p3 = plot!(ts,uPlant[:,nn,1],linewidth=3,linetype=:steppre,linealpha = 0.3,linecolor = CList[nn],legend=false)\n",
    "end\n",
    "\n",
    "p4 = plot(gridlinewidth=2,ylims = (1.0,2.0),yticks = 1.0:0.2:2.0,xaxis=\"time[h]\",yaxis=\"u dec\")\n",
    "\n",
    "for nn in 1:n_MC\n",
    "    p4 = plot!(ts,uPlant[:,nn,2],linewidth=3,linetype=:steppre,linealpha = 0.3,linecolor = CList[nn],legend=false)\n",
    "end\n",
    "\n",
    "g2 = plot(p3,p4,layout=(2,1))\n",
    "display(g2)"
   ]
  },
  {
   "cell_type": "code",
   "execution_count": null,
   "id": "5d2b0466",
   "metadata": {},
   "outputs": [],
   "source": []
  }
 ],
 "metadata": {
  "kernelspec": {
   "display_name": "Julia 1.8.5",
   "language": "julia",
   "name": "julia-1.8"
  },
  "language_info": {
   "file_extension": ".jl",
   "mimetype": "application/julia",
   "name": "julia",
   "version": "1.8.5"
  }
 },
 "nbformat": 4,
 "nbformat_minor": 5
}
