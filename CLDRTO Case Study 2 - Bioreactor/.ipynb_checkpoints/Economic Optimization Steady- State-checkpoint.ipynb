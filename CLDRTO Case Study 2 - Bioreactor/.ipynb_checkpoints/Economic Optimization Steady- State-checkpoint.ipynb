{
 "cells": [
  {
   "cell_type": "markdown",
   "id": "01e02a45",
   "metadata": {},
   "source": [
    "- **This code computes the CLDRTO solution using a scenario-based stochastic programming approach**\n",
    "- The underlying control structure (modeled in the CLDRTO model) is an MPC, which can is solved using three different strategies: 1. unconstrained, 2. constrained using binaries, and 3. constrained using MPCC\n",
    "- The problem is posed as a scenario-based stochastic programming problem\n",
    "- The problem is solved using a monolithic structure, i.e. independently of the number of scenarios or reactors in parallel, everything is solved at once.\n",
    "- The case study is an affine multiple parallel bioreactor system from:*Gao, Ling. \"Modeling and dynamics analyses of immobilized CSTR bioreactor using transfer function model.\" 2012 International Symposium on Information Technologies in Medicine and Education. Vol. 2. IEEE, 2012.*\n",
    "- The uncertainty represented by the scenarios comes from the maximum specific growth rate (V_m) --> see matlab file\n",
    "\n",
    "AUTHOR: Jose Matias <assumpcj@mcmaster.ca>\n",
    "DATE: May 2023"
   ]
  },
  {
   "cell_type": "code",
   "execution_count": 1,
   "id": "2af54dc3",
   "metadata": {},
   "outputs": [],
   "source": [
    "using LinearAlgebra, JuMP, CPLEX, Ipopt, Plots, CSV, DataFrames"
   ]
  },
  {
   "cell_type": "markdown",
   "id": "b2933767",
   "metadata": {},
   "source": [
    "# Bioreactor Model\n",
    "\n",
    "$0 = D (C_{in} - C) - \\dfrac{V_m C}{(K_s + C)} $ <br>\n",
    "$0 = \\dfrac{V_m C}{(K_s + C)} - DP $ <br>\n",
    "\n",
    "where, <br>\n",
    "$t$: time in hours \\[h\\] <br>\n",
    "$C$: concentration of reactant (substrate) \\[g/L\\] <br>\n",
    "$P$: concentration of product (biomass) \\[g/L\\] <br>\n",
    "$C_{in}$: inlet concentration of substrate \\[g/L\\] <br>\n",
    "$D$: ratio of flowrate to reactor volume \\[1/h\\] <br>\n",
    "$V_m$: maximum reaction rate \\[g/(h L)\\] <br> \n",
    "$K_s$: reaction constant \\[g/L\\] <br>\n",
    "\n",
    "- System measurement ($y$) - product concentration $P$ <br>\n",
    "- System inputs ($u$) - inlet reactant concentration $C_{in}$ <br>\n",
    "- Uncertain parameters ($\\theta$) - maximum reaction rate $V_m$\n",
    "- Specified parameters: $V_m = 0.5$ \\[g/(h L)\\], $K_s = 0.2$ \\[g/L\\], $D = 0.5$ \\[1/h\\]\n",
    "\n",
    "By rearranging the equations above and replacing the specified parameter values, we obtain an analytical expression for the steady state values as a function of $C_{in}$:\n",
    "\n",
    "$C =\\dfrac{C_{in} - 1.2 \\pm ((C_{in} - 1.2)^2 + 0.8C_{in})^{0.5}}{2} $ <br>\n",
    "$P = \\dfrac{C}{(0.2 + C)}$ <br>"
   ]
  },
  {
   "cell_type": "code",
   "execution_count": 2,
   "id": "22a74482",
   "metadata": {},
   "outputs": [
    {
     "ename": "LoadError",
     "evalue": "MethodError: objects of type Float64 are not callable\nMaybe you forgot to use an operator such as \u001b[36m*, ^, %, / etc. \u001b[39m?",
     "output_type": "error",
     "traceback": [
      "MethodError: objects of type Float64 are not callable\nMaybe you forgot to use an operator such as \u001b[36m*, ^, %, / etc. \u001b[39m?",
      "",
      "Stacktrace:",
      " [1] mapreduce_first(f::Float64, op::Function, x::Float64)",
      "   @ Base .\\reduce.jl:419",
      " [2] mapreduce(f::Float64, op::Function, a::Float64)",
      "   @ Base .\\reduce.jl:446",
      " [3] maximum(f::Float64, a::Float64; kw::Base.Pairs{Symbol, Union{}, Tuple{}, NamedTuple{(), Tuple{}}})",
      "   @ Base .\\reduce.jl:698",
      " [4] maximum(f::Float64, a::Float64)",
      "   @ Base .\\reduce.jl:698",
      " [5] top-level scope",
      "   @ .\\In[2]:20"
     ]
    }
   ],
   "source": [
    "# number of evaluation points \n",
    "ns = 100\n",
    "\n",
    "# creating input array array\n",
    "Cin_array = LinRange(0,5.0, ns)\n",
    "\n",
    "# values for plotting\n",
    "C_array = Vector{Float64}(undef,ns)\n",
    "P_array = Vector{Float64}(undef,ns)\n",
    "\n",
    "for ii in 1:ns\n",
    "    # current iteration Cin value\n",
    "    Cin_i = Cin_array[ii]\n",
    "    \n",
    "    # Computing C based on the current Cin value\n",
    "    C_i_p = (Cin_i - 1.2 +sqrt((Cin_i - 1.2)^2 + 0.8*Cin_i))/2\n",
    "    C_i_m = (Cin_i - 1.2 +sqrt((Cin_i - 1.2)^2 + 0.8*Cin_i))/2\n",
    "    \n",
    "    # choosing the positive root\n",
    "    C_i = maximum([C_i_p,C_i_m])\n",
    "    \n",
    "    # Computing P\n",
    "    P_i = C_i/(0.2 + C)\n",
    "    \n",
    "    # saving\n",
    "    C_array[ii] = C_i\n",
    "    P_array[ii] = P_i\n",
    "    \n",
    "end;"
   ]
  },
  {
   "cell_type": "markdown",
   "id": "223c82fb",
   "metadata": {},
   "source": [
    "Plotting values"
   ]
  },
  {
   "cell_type": "code",
   "execution_count": null,
   "id": "920d6dc0",
   "metadata": {},
   "outputs": [],
   "source": [
    "gr()\n",
    "\n",
    "p1 = plot(Cin_array,C_array, linecolor = :red,marker= :cross,legend=:topleft)\n",
    "p1 = plot!(Cin_array,P_array, linecolor = :blue,marker= :rect)\n",
    "\n",
    "p1.series_list[1][:label] = \"C\"\n",
    "p1.series_list[2][:label] = \"P\"\n",
    "\n",
    "display(p1)"
   ]
  }
 ],
 "metadata": {
  "kernelspec": {
   "display_name": "Julia 1.8.5",
   "language": "julia",
   "name": "julia-1.8"
  },
  "language_info": {
   "file_extension": ".jl",
   "mimetype": "application/julia",
   "name": "julia",
   "version": "1.8.5"
  }
 },
 "nbformat": 4,
 "nbformat_minor": 5
}
